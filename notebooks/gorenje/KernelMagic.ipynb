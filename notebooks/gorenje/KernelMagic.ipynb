{
 "cells": [
  {
   "cell_type": "markdown",
   "id": "innocent-excuse",
   "metadata": {},
   "source": [
    "# SysML v2 Kernel Magic Commands\n",
    "\n",
    "List of the kernel magic commands. \n",
    "\n",
    "Inspired by [MBSE4u.com](https://mbse4u.com/2020/12/21/sysml-v2-release-whats-inside/).\n",
    "\n",
    "## list\n",
    "\n",
    "[Codebase](https://github.com/Systems-Modeling/SysML-v2-Pilot-Implementation/blob/master/org.omg.sysml.jupyter.kernel/src/main/java/org/omg/sysml/jupyter/kernel/magic/Listing.java)"
   ]
  },
  {
   "cell_type": "code",
   "execution_count": 1,
   "id": "peaceful-passage",
   "metadata": {
    "execution": {
     "iopub.execute_input": "2021-03-26T09:10:42.833886Z",
     "iopub.status.busy": "2021-03-26T09:10:42.833145Z",
     "iopub.status.idle": "2021-03-26T09:10:42.842690Z",
     "shell.execute_reply": "2021-03-26T09:10:42.843105Z"
    }
   },
   "outputs": [
    {
     "ename": "UndefinedMagicException",
     "evalue": "Undefined line magic 'list'",
     "output_type": "error",
     "traceback": [
      "\u001b[1m\u001b[31m---------------------------------------------------------------------------\u001b[0m",
      "\u001b[1m\u001b[31mio.github.spencerpark.jupyter.kernel.magic.registry.UndefinedMagicException: Undefined line magic 'list'\u001b[0m",
      "\u001b[1m\u001b[31m\tat io.github.spencerpark.jupyter.kernel.magic.registry.Magics.applyLineMagic(Magics.java:24)\u001b[0m",
      "\u001b[1m\u001b[31m\tat org.omg.sysml.jupyter.kernel.SysMLKernel.eval(SysMLKernel.java:76)\u001b[0m",
      "\u001b[1m\u001b[31m\tat io.github.spencerpark.jupyter.kernel.BaseKernel.handleExecuteRequest(BaseKernel.java:334)\u001b[0m",
      "\u001b[1m\u001b[31m\tat io.github.spencerpark.jupyter.channels.ShellChannel.lambda$bind$0(ShellChannel.java:64)\u001b[0m",
      "\u001b[1m\u001b[31m\tat io.github.spencerpark.jupyter.channels.Loop.lambda$new$0(Loop.java:21)\u001b[0m",
      "\u001b[1m\u001b[31m\tat io.github.spencerpark.jupyter.channels.Loop.run(Loop.java:78)\u001b[0m"
     ]
    }
   ],
   "source": [
    "%list"
   ]
  },
  {
   "cell_type": "markdown",
   "id": "interstate-geography",
   "metadata": {},
   "source": [
    "### Limited querying is also possible.\n",
    "\n",
    "The query string works as an [\"import\"](https://github.com/Systems-Modeling/SysML-v2-Pilot-Implementation/blob/0be3bc228ad3cc56bfb9c340866c2ae59a6d2601/org.omg.sysml.interactive/src/org/omg/sysml/interactive/SysMLInteractive.java#L230) statement in Sysml. That is the following is to be intrepreted as `import Objects::*;` and then show all membership. The [specs](/files/doc/2-OMG_Systems_Modeling_Language_(SysML).pdf) (page 108 of 413) provide an overview what can be passed to import."
   ]
  },
  {
   "cell_type": "code",
   "execution_count": 2,
   "id": "standing-german",
   "metadata": {
    "execution": {
     "iopub.execute_input": "2021-03-26T09:10:42.895230Z",
     "iopub.status.busy": "2021-03-26T09:10:42.893826Z",
     "iopub.status.idle": "2021-03-26T09:10:42.897506Z",
     "shell.execute_reply": "2021-03-26T09:10:42.898004Z"
    }
   },
   "outputs": [
    {
     "ename": "UndefinedMagicException",
     "evalue": "Undefined line magic 'list'",
     "output_type": "error",
     "traceback": [
      "\u001b[1m\u001b[31m---------------------------------------------------------------------------\u001b[0m",
      "\u001b[1m\u001b[31mio.github.spencerpark.jupyter.kernel.magic.registry.UndefinedMagicException: Undefined line magic 'list'\u001b[0m",
      "\u001b[1m\u001b[31m\tat io.github.spencerpark.jupyter.kernel.magic.registry.Magics.applyLineMagic(Magics.java:24)\u001b[0m",
      "\u001b[1m\u001b[31m\tat org.omg.sysml.jupyter.kernel.SysMLKernel.eval(SysMLKernel.java:76)\u001b[0m",
      "\u001b[1m\u001b[31m\tat io.github.spencerpark.jupyter.kernel.BaseKernel.handleExecuteRequest(BaseKernel.java:334)\u001b[0m",
      "\u001b[1m\u001b[31m\tat io.github.spencerpark.jupyter.channels.ShellChannel.lambda$bind$0(ShellChannel.java:64)\u001b[0m",
      "\u001b[1m\u001b[31m\tat io.github.spencerpark.jupyter.channels.Loop.lambda$new$0(Loop.java:21)\u001b[0m",
      "\u001b[1m\u001b[31m\tat io.github.spencerpark.jupyter.channels.Loop.run(Loop.java:78)\u001b[0m"
     ]
    }
   ],
   "source": [
    "%list \"Objects::*\""
   ]
  },
  {
   "cell_type": "code",
   "execution_count": 3,
   "id": "extraordinary-impossible",
   "metadata": {
    "execution": {
     "iopub.execute_input": "2021-03-26T09:10:42.950359Z",
     "iopub.status.busy": "2021-03-26T09:10:42.949860Z",
     "iopub.status.idle": "2021-03-26T09:10:42.951583Z",
     "shell.execute_reply": "2021-03-26T09:10:42.951982Z"
    }
   },
   "outputs": [
    {
     "ename": "UndefinedMagicException",
     "evalue": "Undefined line magic 'list'",
     "output_type": "error",
     "traceback": [
      "\u001b[1m\u001b[31m---------------------------------------------------------------------------\u001b[0m",
      "\u001b[1m\u001b[31mio.github.spencerpark.jupyter.kernel.magic.registry.UndefinedMagicException: Undefined line magic 'list'\u001b[0m",
      "\u001b[1m\u001b[31m\tat io.github.spencerpark.jupyter.kernel.magic.registry.Magics.applyLineMagic(Magics.java:24)\u001b[0m",
      "\u001b[1m\u001b[31m\tat org.omg.sysml.jupyter.kernel.SysMLKernel.eval(SysMLKernel.java:76)\u001b[0m",
      "\u001b[1m\u001b[31m\tat io.github.spencerpark.jupyter.kernel.BaseKernel.handleExecuteRequest(BaseKernel.java:334)\u001b[0m",
      "\u001b[1m\u001b[31m\tat io.github.spencerpark.jupyter.channels.ShellChannel.lambda$bind$0(ShellChannel.java:64)\u001b[0m",
      "\u001b[1m\u001b[31m\tat io.github.spencerpark.jupyter.channels.Loop.lambda$new$0(Loop.java:21)\u001b[0m",
      "\u001b[1m\u001b[31m\tat io.github.spencerpark.jupyter.channels.Loop.run(Loop.java:78)\u001b[0m"
     ]
    }
   ],
   "source": [
    "%list \"Objects::**\""
   ]
  },
  {
   "cell_type": "markdown",
   "id": "injured-wallpaper",
   "metadata": {},
   "source": [
    "## viz\n",
    "\n",
    "Graphviz'ify elements from the model.\n",
    "\n",
    "[Codebase](https://github.com/Systems-Modeling/SysML-v2-Pilot-Implementation/blob/master/org.omg.sysml.jupyter.kernel/src/main/java/org/omg/sysml/jupyter/kernel/magic/Viz.java) and [Kernel Code](https://github.com/Systems-Modeling/SysML-v2-Pilot-Implementation/blob/0be3bc228ad3cc56bfb9c340866c2ae59a6d2601/org.omg.sysml.interactive/src/org/omg/sysml/interactive/SysMLInteractive.java#L283-L316)"
   ]
  },
  {
   "cell_type": "code",
   "execution_count": 4,
   "id": "tamil-steering",
   "metadata": {
    "execution": {
     "iopub.execute_input": "2021-03-26T09:10:43.005523Z",
     "iopub.status.busy": "2021-03-26T09:10:43.005069Z",
     "iopub.status.idle": "2021-03-26T09:10:43.018131Z",
     "shell.execute_reply": "2021-03-26T09:10:43.017765Z"
    }
   },
   "outputs": [
    {
     "data": {
      "text/plain": [
       "ERROR:Couldn't resolve reference to Element 'Views'\n"
      ]
     },
     "execution_count": 4,
     "metadata": {},
     "output_type": "execute_result"
    }
   ],
   "source": [
    "%viz \"Views\""
   ]
  },
  {
   "cell_type": "code",
   "execution_count": 5,
   "id": "amended-narrative",
   "metadata": {
    "execution": {
     "iopub.execute_input": "2021-03-26T09:10:43.071022Z",
     "iopub.status.busy": "2021-03-26T09:10:43.070509Z",
     "iopub.status.idle": "2021-03-26T09:10:43.073413Z",
     "shell.execute_reply": "2021-03-26T09:10:43.073896Z"
    }
   },
   "outputs": [
    {
     "data": {
      "text/plain": [
       "ERROR:Couldn't resolve reference to Element 'Objects'\n"
      ]
     },
     "execution_count": 5,
     "metadata": {},
     "output_type": "execute_result"
    }
   ],
   "source": [
    "%viz \"Objects\" --style=\"PLANTUML\""
   ]
  },
  {
   "cell_type": "markdown",
   "id": "adaptive-worker",
   "metadata": {},
   "source": [
    "### Arguments to %viz\n",
    "\n",
    "- style : COMPTREE, POLYLINE, LR, STDCOLOR, PLANTUML, DEFAULT, TB, ORTHOLINE\n",
    "- view : Default Tree State Interconnection Action Sequence MIXED \n",
    "\n"
   ]
  },
  {
   "cell_type": "code",
   "execution_count": 6,
   "id": "nervous-drinking",
   "metadata": {
    "execution": {
     "iopub.execute_input": "2021-03-26T09:10:43.127463Z",
     "iopub.status.busy": "2021-03-26T09:10:43.126552Z",
     "iopub.status.idle": "2021-03-26T09:10:43.128821Z",
     "shell.execute_reply": "2021-03-26T09:10:43.129245Z"
    }
   },
   "outputs": [
    {
     "data": {
      "text/plain": [
       "ERROR:Couldn't resolve reference to Element 'Objects'\n"
      ]
     },
     "execution_count": 6,
     "metadata": {},
     "output_type": "execute_result"
    }
   ],
   "source": [
    "%viz \"Objects\" --view=State --style=\"PLANTUML\""
   ]
  },
  {
   "cell_type": "markdown",
   "id": "spare-glory",
   "metadata": {},
   "source": [
    "### %viz Hidden Option\n",
    "\n",
    "There is also a hidden style option: `PUMLCODE` to get the original plant UML code of the diagram."
   ]
  },
  {
   "cell_type": "code",
   "execution_count": 7,
   "id": "talented-casino",
   "metadata": {
    "execution": {
     "iopub.execute_input": "2021-03-26T09:10:43.182554Z",
     "iopub.status.busy": "2021-03-26T09:10:43.181693Z",
     "iopub.status.idle": "2021-03-26T09:10:43.184247Z",
     "shell.execute_reply": "2021-03-26T09:10:43.184654Z"
    }
   },
   "outputs": [
    {
     "data": {
      "text/plain": [
       "ERROR:Couldn't resolve reference to Element 'Views'\n"
      ]
     },
     "execution_count": 7,
     "metadata": {},
     "output_type": "execute_result"
    }
   ],
   "source": [
    "%viz --style=PUMLCODE Views"
   ]
  },
  {
   "cell_type": "markdown",
   "id": "brave-oriental",
   "metadata": {
    "jupyter": {
     "outputs_hidden": true
    }
   },
   "source": [
    "## publish\n",
    "\n",
    "Push models to publish the model to a SysML v2 repository server.\n",
    "\n",
    "[Codebase](https://github.com/Systems-Modeling/SysML-v2-Pilot-Implementation/blob/master/org.omg.sysml.jupyter.kernel/src/main/java/org/omg/sysml/jupyter/kernel/magic/Publish.java)\n"
   ]
  },
  {
   "cell_type": "code",
   "execution_count": 8,
   "id": "iraqi-gathering",
   "metadata": {
    "execution": {
     "iopub.execute_input": "2021-03-26T09:10:43.235618Z",
     "iopub.status.busy": "2021-03-26T09:10:43.235153Z",
     "iopub.status.idle": "2021-03-26T09:10:43.236884Z",
     "shell.execute_reply": "2021-03-26T09:10:43.237321Z"
    }
   },
   "outputs": [
    {
     "data": {
      "text/plain": [
       "ERROR:Couldn't resolve reference to Element 'Links'\n"
      ]
     },
     "execution_count": 8,
     "metadata": {},
     "output_type": "execute_result"
    }
   ],
   "source": [
    "%publish \"Links\""
   ]
  },
  {
   "cell_type": "markdown",
   "id": "advisory-internet",
   "metadata": {},
   "source": [
    "So library elements can't be published, so we'll create a package and publish that.\n",
    "\n",
    "Package take from [MBSE4U Notebook](https://nbviewer.jupyter.org/github/MBSE4U/SysMLv2JupyterBook/blob/master/SysMLv2JupyterBook.ipynb)."
   ]
  },
  {
   "cell_type": "code",
   "execution_count": 9,
   "id": "peripheral-mailman",
   "metadata": {
    "execution": {
     "iopub.execute_input": "2021-03-26T09:10:43.291561Z",
     "iopub.status.busy": "2021-03-26T09:10:43.290793Z",
     "iopub.status.idle": "2021-03-26T09:10:43.476027Z",
     "shell.execute_reply": "2021-03-26T09:10:43.475653Z"
    }
   },
   "outputs": [
    {
     "data": {
      "text/plain": [
       "Package eVehicle_LogicalArchitecture_v1 (56dc177e-32a8-41e3-9d65-b097626d7926)\n"
      ]
     },
     "execution_count": 9,
     "metadata": {},
     "output_type": "execute_result"
    }
   ],
   "source": [
    "package eVehicle_LogicalArchitecture_v1 {\n",
    "    part eVehicle {    \n",
    "        part body;\n",
    "        part battery;\n",
    "        part engine;\n",
    "        part frontAxis;\n",
    "        part rearAxis;\n",
    "        part frontWheel[2];\n",
    "        part rearWheel[2];\n",
    "    }\n",
    "}"
   ]
  },
  {
   "cell_type": "code",
   "execution_count": 10,
   "id": "exposed-humanitarian",
   "metadata": {
    "execution": {
     "iopub.execute_input": "2021-03-26T09:10:43.526326Z",
     "iopub.status.busy": "2021-03-26T09:10:43.525682Z",
     "iopub.status.idle": "2021-03-26T09:10:44.924031Z",
     "shell.execute_reply": "2021-03-26T09:10:44.922710Z"
    }
   },
   "outputs": [
    {
     "name": "stdout",
     "output_type": "stream",
     "text": [
      "API base path: http://sysmlapiserver:9000\n"
     ]
    },
    {
     "name": "stdout",
     "output_type": "stream",
     "text": [
      "Processing"
     ]
    },
    {
     "name": "stdout",
     "output_type": "stream",
     "text": [
      "\n",
      "Posting Commit (33 elements)..."
     ]
    },
    {
     "name": "stdout",
     "output_type": "stream",
     "text": [
      "a74684f3-1e43-421c-95fe-577631e6c11d\n"
     ]
    },
    {
     "name": "stdout",
     "output_type": "stream",
     "text": [
      "\n"
     ]
    },
    {
     "data": {
      "text/plain": [
       "Saved to Project eVehicle_LogicalArchitecture_v1 Fri Mar 26 09:10:43 UTC 2021 (db5f136f-916d-4ae9-bd4d-ae45f47c0490)\n"
      ]
     },
     "execution_count": 10,
     "metadata": {},
     "output_type": "execute_result"
    }
   ],
   "source": [
    "%publish eVehicle_LogicalArchitecture_v1"
   ]
  },
  {
   "cell_type": "markdown",
   "id": "departmental-slave",
   "metadata": {},
   "source": [
    "**Viewing Projects**\n",
    "\n",
    "Once the model has been published, we can view our stored [project](http://localhost:9000/projects) in the API server."
   ]
  },
  {
   "cell_type": "markdown",
   "id": "thrown-arkansas",
   "metadata": {},
   "source": [
    "## show\n",
    "\n",
    "Which gives a textual outline of the Model.\n",
    "\n",
    "[Codebase](https://github.com/Systems-Modeling/SysML-v2-Pilot-Implementation/blob/master/org.omg.sysml.jupyter.kernel/src/main/java/org/omg/sysml/jupyter/kernel/magic/Show.java)"
   ]
  },
  {
   "cell_type": "code",
   "execution_count": 11,
   "id": "official-terrorist",
   "metadata": {
    "execution": {
     "iopub.execute_input": "2021-03-26T09:10:44.974220Z",
     "iopub.status.busy": "2021-03-26T09:10:44.973123Z",
     "iopub.status.idle": "2021-03-26T09:10:44.977142Z",
     "shell.execute_reply": "2021-03-26T09:10:44.976846Z"
    }
   },
   "outputs": [
    {
     "data": {
      "text/plain": [
       "ERROR:Couldn't resolve reference to Element 'Objects'\n"
      ]
     },
     "execution_count": 11,
     "metadata": {},
     "output_type": "execute_result"
    }
   ],
   "source": [
    "%show Objects"
   ]
  }
 ],
 "metadata": {
  "kernelspec": {
   "display_name": "SysML",
   "language": "sysml",
   "name": "sysml"
  },
  "language_info": {
   "codemirror_mode": "sysml",
   "file_extension": ".sysml",
   "mimetype": "text/x-sysml",
   "name": "SysML",
   "pygments_lexer": "java",
   "version": "1.0.0"
  }
 },
 "nbformat": 4,
 "nbformat_minor": 5
}
