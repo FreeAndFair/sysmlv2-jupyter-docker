{
 "cells": [
  {
   "cell_type": "markdown",
   "id": "innocent-mistake",
   "metadata": {},
   "source": [
    "# SysML v2 Kernel Magic Commands\n",
    "\n",
    "List of the kernel magic commands. \n",
    "\n",
    "Inspired by [MBSE4u.com](https://mbse4u.com/2020/12/21/sysml-v2-release-whats-inside/).\n",
    "\n",
    "## list\n",
    "\n",
    "[Codebase](https://github.com/Systems-Modeling/SysML-v2-Pilot-Implementation/blob/master/org.omg.sysml.jupyter.kernel/src/main/java/org/omg/sysml/jupyter/kernel/magic/Listing.java)"
   ]
  },
  {
   "cell_type": "code",
   "execution_count": 1,
   "id": "catholic-estimate",
   "metadata": {
    "execution": {
     "iopub.execute_input": "2021-03-26T09:37:56.956800Z",
     "iopub.status.busy": "2021-03-26T09:37:56.955829Z",
     "iopub.status.idle": "2021-03-26T09:37:56.966192Z",
     "shell.execute_reply": "2021-03-26T09:37:56.965717Z"
    }
   },
   "outputs": [
    {
     "ename": "UndefinedMagicException",
     "evalue": "Undefined line magic 'list'",
     "output_type": "error",
     "traceback": [
      "\u001b[1m\u001b[31m---------------------------------------------------------------------------\u001b[0m",
      "\u001b[1m\u001b[31mio.github.spencerpark.jupyter.kernel.magic.registry.UndefinedMagicException: Undefined line magic 'list'\u001b[0m",
      "\u001b[1m\u001b[31m\tat io.github.spencerpark.jupyter.kernel.magic.registry.Magics.applyLineMagic(Magics.java:24)\u001b[0m",
      "\u001b[1m\u001b[31m\tat org.omg.sysml.jupyter.kernel.SysMLKernel.eval(SysMLKernel.java:76)\u001b[0m",
      "\u001b[1m\u001b[31m\tat io.github.spencerpark.jupyter.kernel.BaseKernel.handleExecuteRequest(BaseKernel.java:334)\u001b[0m",
      "\u001b[1m\u001b[31m\tat io.github.spencerpark.jupyter.channels.ShellChannel.lambda$bind$0(ShellChannel.java:64)\u001b[0m",
      "\u001b[1m\u001b[31m\tat io.github.spencerpark.jupyter.channels.Loop.lambda$new$0(Loop.java:21)\u001b[0m",
      "\u001b[1m\u001b[31m\tat io.github.spencerpark.jupyter.channels.Loop.run(Loop.java:78)\u001b[0m"
     ]
    }
   ],
   "source": [
    "%list"
   ]
  },
  {
   "cell_type": "markdown",
   "id": "round-converter",
   "metadata": {},
   "source": [
    "### Limited querying is also possible.\n",
    "\n",
    "The query string works as an [\"import\"](https://github.com/Systems-Modeling/SysML-v2-Pilot-Implementation/blob/0be3bc228ad3cc56bfb9c340866c2ae59a6d2601/org.omg.sysml.interactive/src/org/omg/sysml/interactive/SysMLInteractive.java#L230) statement in Sysml. That is the following is to be intrepreted as `import Objects::*;` and then show all membership. The [specs](/files/doc/2-OMG_Systems_Modeling_Language_(SysML).pdf) (page 108 of 413) provide an overview what can be passed to import."
   ]
  },
  {
   "cell_type": "code",
   "execution_count": 2,
   "id": "amended-coordinate",
   "metadata": {
    "execution": {
     "iopub.execute_input": "2021-03-26T09:37:57.021006Z",
     "iopub.status.busy": "2021-03-26T09:37:57.019716Z",
     "iopub.status.idle": "2021-03-26T09:37:57.022510Z",
     "shell.execute_reply": "2021-03-26T09:37:57.022932Z"
    }
   },
   "outputs": [
    {
     "ename": "UndefinedMagicException",
     "evalue": "Undefined line magic 'list'",
     "output_type": "error",
     "traceback": [
      "\u001b[1m\u001b[31m---------------------------------------------------------------------------\u001b[0m",
      "\u001b[1m\u001b[31mio.github.spencerpark.jupyter.kernel.magic.registry.UndefinedMagicException: Undefined line magic 'list'\u001b[0m",
      "\u001b[1m\u001b[31m\tat io.github.spencerpark.jupyter.kernel.magic.registry.Magics.applyLineMagic(Magics.java:24)\u001b[0m",
      "\u001b[1m\u001b[31m\tat org.omg.sysml.jupyter.kernel.SysMLKernel.eval(SysMLKernel.java:76)\u001b[0m",
      "\u001b[1m\u001b[31m\tat io.github.spencerpark.jupyter.kernel.BaseKernel.handleExecuteRequest(BaseKernel.java:334)\u001b[0m",
      "\u001b[1m\u001b[31m\tat io.github.spencerpark.jupyter.channels.ShellChannel.lambda$bind$0(ShellChannel.java:64)\u001b[0m",
      "\u001b[1m\u001b[31m\tat io.github.spencerpark.jupyter.channels.Loop.lambda$new$0(Loop.java:21)\u001b[0m",
      "\u001b[1m\u001b[31m\tat io.github.spencerpark.jupyter.channels.Loop.run(Loop.java:78)\u001b[0m"
     ]
    }
   ],
   "source": [
    "%list \"Objects::*\""
   ]
  },
  {
   "cell_type": "code",
   "execution_count": 3,
   "id": "impressed-friend",
   "metadata": {
    "execution": {
     "iopub.execute_input": "2021-03-26T09:37:57.076843Z",
     "iopub.status.busy": "2021-03-26T09:37:57.076095Z",
     "iopub.status.idle": "2021-03-26T09:37:57.078352Z",
     "shell.execute_reply": "2021-03-26T09:37:57.078831Z"
    }
   },
   "outputs": [
    {
     "ename": "UndefinedMagicException",
     "evalue": "Undefined line magic 'list'",
     "output_type": "error",
     "traceback": [
      "\u001b[1m\u001b[31m---------------------------------------------------------------------------\u001b[0m",
      "\u001b[1m\u001b[31mio.github.spencerpark.jupyter.kernel.magic.registry.UndefinedMagicException: Undefined line magic 'list'\u001b[0m",
      "\u001b[1m\u001b[31m\tat io.github.spencerpark.jupyter.kernel.magic.registry.Magics.applyLineMagic(Magics.java:24)\u001b[0m",
      "\u001b[1m\u001b[31m\tat org.omg.sysml.jupyter.kernel.SysMLKernel.eval(SysMLKernel.java:76)\u001b[0m",
      "\u001b[1m\u001b[31m\tat io.github.spencerpark.jupyter.kernel.BaseKernel.handleExecuteRequest(BaseKernel.java:334)\u001b[0m",
      "\u001b[1m\u001b[31m\tat io.github.spencerpark.jupyter.channels.ShellChannel.lambda$bind$0(ShellChannel.java:64)\u001b[0m",
      "\u001b[1m\u001b[31m\tat io.github.spencerpark.jupyter.channels.Loop.lambda$new$0(Loop.java:21)\u001b[0m",
      "\u001b[1m\u001b[31m\tat io.github.spencerpark.jupyter.channels.Loop.run(Loop.java:78)\u001b[0m"
     ]
    }
   ],
   "source": [
    "%list \"Objects::**\""
   ]
  },
  {
   "cell_type": "markdown",
   "id": "warming-walnut",
   "metadata": {},
   "source": [
    "## viz\n",
    "\n",
    "Graphviz'ify elements from the model.\n",
    "\n",
    "[Codebase](https://github.com/Systems-Modeling/SysML-v2-Pilot-Implementation/blob/master/org.omg.sysml.jupyter.kernel/src/main/java/org/omg/sysml/jupyter/kernel/magic/Viz.java) and [Kernel Code](https://github.com/Systems-Modeling/SysML-v2-Pilot-Implementation/blob/0be3bc228ad3cc56bfb9c340866c2ae59a6d2601/org.omg.sysml.interactive/src/org/omg/sysml/interactive/SysMLInteractive.java#L283-L316)"
   ]
  },
  {
   "cell_type": "code",
   "execution_count": 4,
   "id": "stuffed-perfume",
   "metadata": {
    "execution": {
     "iopub.execute_input": "2021-03-26T09:37:57.131295Z",
     "iopub.status.busy": "2021-03-26T09:37:57.130827Z",
     "iopub.status.idle": "2021-03-26T09:37:57.145287Z",
     "shell.execute_reply": "2021-03-26T09:37:57.144925Z"
    }
   },
   "outputs": [
    {
     "data": {
      "text/plain": [
       "ERROR:Couldn't resolve reference to Element 'Views'\n"
      ]
     },
     "execution_count": 4,
     "metadata": {},
     "output_type": "execute_result"
    }
   ],
   "source": [
    "%viz \"Views\""
   ]
  },
  {
   "cell_type": "code",
   "execution_count": 5,
   "id": "living-blowing",
   "metadata": {
    "execution": {
     "iopub.execute_input": "2021-03-26T09:37:57.199563Z",
     "iopub.status.busy": "2021-03-26T09:37:57.198909Z",
     "iopub.status.idle": "2021-03-26T09:37:57.202407Z",
     "shell.execute_reply": "2021-03-26T09:37:57.202779Z"
    }
   },
   "outputs": [
    {
     "data": {
      "text/plain": [
       "ERROR:Couldn't resolve reference to Element 'Objects'\n"
      ]
     },
     "execution_count": 5,
     "metadata": {},
     "output_type": "execute_result"
    }
   ],
   "source": [
    "%viz \"Objects\" --style=\"PLANTUML\""
   ]
  },
  {
   "cell_type": "markdown",
   "id": "realistic-webcam",
   "metadata": {},
   "source": [
    "### Arguments to %viz\n",
    "\n",
    "- style : COMPTREE, POLYLINE, LR, STDCOLOR, PLANTUML, DEFAULT, TB, ORTHOLINE\n",
    "- view : Default Tree State Interconnection Action Sequence MIXED \n",
    "\n"
   ]
  },
  {
   "cell_type": "code",
   "execution_count": 6,
   "id": "thrown-guess",
   "metadata": {
    "execution": {
     "iopub.execute_input": "2021-03-26T09:37:57.256087Z",
     "iopub.status.busy": "2021-03-26T09:37:57.255339Z",
     "iopub.status.idle": "2021-03-26T09:37:57.257131Z",
     "shell.execute_reply": "2021-03-26T09:37:57.257511Z"
    }
   },
   "outputs": [
    {
     "data": {
      "text/plain": [
       "ERROR:Couldn't resolve reference to Element 'Objects'\n"
      ]
     },
     "execution_count": 6,
     "metadata": {},
     "output_type": "execute_result"
    }
   ],
   "source": [
    "%viz \"Objects\" --view=State --style=\"PLANTUML\""
   ]
  },
  {
   "cell_type": "markdown",
   "id": "convenient-confidence",
   "metadata": {},
   "source": [
    "### %viz Hidden Option\n",
    "\n",
    "There is also a hidden style option: `PUMLCODE` to get the original plant UML code of the diagram."
   ]
  },
  {
   "cell_type": "code",
   "execution_count": 7,
   "id": "monthly-hypothesis",
   "metadata": {
    "execution": {
     "iopub.execute_input": "2021-03-26T09:37:57.311726Z",
     "iopub.status.busy": "2021-03-26T09:37:57.310675Z",
     "iopub.status.idle": "2021-03-26T09:37:57.312992Z",
     "shell.execute_reply": "2021-03-26T09:37:57.313418Z"
    }
   },
   "outputs": [
    {
     "data": {
      "text/plain": [
       "ERROR:Couldn't resolve reference to Element 'Views'\n"
      ]
     },
     "execution_count": 7,
     "metadata": {},
     "output_type": "execute_result"
    }
   ],
   "source": [
    "%viz --style=PUMLCODE Views"
   ]
  },
  {
   "cell_type": "markdown",
   "id": "greenhouse-marine",
   "metadata": {
    "jupyter": {
     "outputs_hidden": true
    }
   },
   "source": [
    "## publish\n",
    "\n",
    "Push models to publish the model to a SysML v2 repository server.\n",
    "\n",
    "[Codebase](https://github.com/Systems-Modeling/SysML-v2-Pilot-Implementation/blob/master/org.omg.sysml.jupyter.kernel/src/main/java/org/omg/sysml/jupyter/kernel/magic/Publish.java)\n"
   ]
  },
  {
   "cell_type": "code",
   "execution_count": 8,
   "id": "collectible-louisiana",
   "metadata": {
    "execution": {
     "iopub.execute_input": "2021-03-26T09:37:57.366325Z",
     "iopub.status.busy": "2021-03-26T09:37:57.365004Z",
     "iopub.status.idle": "2021-03-26T09:37:57.367503Z",
     "shell.execute_reply": "2021-03-26T09:37:57.367972Z"
    }
   },
   "outputs": [
    {
     "data": {
      "text/plain": [
       "ERROR:Couldn't resolve reference to Element 'Links'\n"
      ]
     },
     "execution_count": 8,
     "metadata": {},
     "output_type": "execute_result"
    }
   ],
   "source": [
    "%publish \"Links\""
   ]
  },
  {
   "cell_type": "markdown",
   "id": "vietnamese-platform",
   "metadata": {},
   "source": [
    "So library elements can't be published, so we'll create a package and publish that.\n",
    "\n",
    "Package take from [MBSE4U Notebook](https://nbviewer.jupyter.org/github/MBSE4U/SysMLv2JupyterBook/blob/master/SysMLv2JupyterBook.ipynb)."
   ]
  },
  {
   "cell_type": "code",
   "execution_count": 9,
   "id": "honest-finger",
   "metadata": {
    "execution": {
     "iopub.execute_input": "2021-03-26T09:37:57.420760Z",
     "iopub.status.busy": "2021-03-26T09:37:57.420149Z",
     "iopub.status.idle": "2021-03-26T09:37:57.618330Z",
     "shell.execute_reply": "2021-03-26T09:37:57.618026Z"
    }
   },
   "outputs": [
    {
     "data": {
      "text/plain": [
       "Package eVehicle_LogicalArchitecture_v1 (56487e53-aa4b-4ac7-b96a-fdb21fc74ef3)\n"
      ]
     },
     "execution_count": 9,
     "metadata": {},
     "output_type": "execute_result"
    }
   ],
   "source": [
    "package eVehicle_LogicalArchitecture_v1 {\n",
    "    part eVehicle {    \n",
    "        part body;\n",
    "        part battery;\n",
    "        part engine;\n",
    "        part frontAxis;\n",
    "        part rearAxis;\n",
    "        part frontWheel[2];\n",
    "        part rearWheel[2];\n",
    "    }\n",
    "}"
   ]
  },
  {
   "cell_type": "code",
   "execution_count": 10,
   "id": "supposed-journey",
   "metadata": {
    "execution": {
     "iopub.execute_input": "2021-03-26T09:37:57.668446Z",
     "iopub.status.busy": "2021-03-26T09:37:57.667976Z",
     "iopub.status.idle": "2021-03-26T09:39:35.285676Z",
     "shell.execute_reply": "2021-03-26T09:39:35.286009Z"
    }
   },
   "outputs": [
    {
     "name": "stdout",
     "output_type": "stream",
     "text": [
      "API base path: http://sysmlapiserver:9000\n"
     ]
    },
    {
     "name": "stdout",
     "output_type": "stream",
     "text": [
      "Processing"
     ]
    },
    {
     "name": "stdout",
     "output_type": "stream",
     "text": [
      "\n",
      "Posting Commit (47 elements)..."
     ]
    },
    {
     "name": "stdout",
     "output_type": "stream",
     "text": [
      "d0efe422-3211-4e6f-b099-c6610872a39c\n"
     ]
    },
    {
     "name": "stdout",
     "output_type": "stream",
     "text": [
      "\n"
     ]
    },
    {
     "data": {
      "text/plain": [
       "Saved to Project eVehicle_LogicalArchitecture_v1 Fri Mar 26 09:37:57 UTC 2021 (ea848c70-8a41-4ac5-a909-63cd9bc15f47)\n"
      ]
     },
     "execution_count": 10,
     "metadata": {},
     "output_type": "execute_result"
    }
   ],
   "source": [
    "%publish eVehicle_LogicalArchitecture_v1"
   ]
  },
  {
   "cell_type": "markdown",
   "id": "educated-brain",
   "metadata": {},
   "source": [
    "**Viewing Projects**\n",
    "\n",
    "Once the model has been published, we can view our stored [project](http://localhost:9000/projects) in the API server."
   ]
  },
  {
   "cell_type": "markdown",
   "id": "random-fossil",
   "metadata": {},
   "source": [
    "## show\n",
    "\n",
    "Which gives a textual outline of the Model.\n",
    "\n",
    "[Codebase](https://github.com/Systems-Modeling/SysML-v2-Pilot-Implementation/blob/master/org.omg.sysml.jupyter.kernel/src/main/java/org/omg/sysml/jupyter/kernel/magic/Show.java)"
   ]
  },
  {
   "cell_type": "code",
   "execution_count": 11,
   "id": "particular-estimate",
   "metadata": {
    "execution": {
     "iopub.execute_input": "2021-03-26T09:39:35.338927Z",
     "iopub.status.busy": "2021-03-26T09:39:35.338381Z",
     "iopub.status.idle": "2021-03-26T09:39:35.341538Z",
     "shell.execute_reply": "2021-03-26T09:39:35.341952Z"
    }
   },
   "outputs": [
    {
     "data": {
      "text/plain": [
       "ERROR:Couldn't resolve reference to Element 'Objects'\n"
      ]
     },
     "execution_count": 11,
     "metadata": {},
     "output_type": "execute_result"
    }
   ],
   "source": [
    "%show Objects"
   ]
  }
 ],
 "metadata": {
  "kernelspec": {
   "display_name": "SysML",
   "language": "sysml",
   "name": "sysml"
  },
  "language_info": {
   "codemirror_mode": "sysml",
   "file_extension": ".sysml",
   "mimetype": "text/x-sysml",
   "name": "SysML",
   "pygments_lexer": "java",
   "version": "1.0.0"
  }
 },
 "nbformat": 4,
 "nbformat_minor": 5
}
