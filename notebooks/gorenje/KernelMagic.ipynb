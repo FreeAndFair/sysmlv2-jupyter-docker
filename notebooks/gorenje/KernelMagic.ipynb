{
 "cells": [
  {
   "cell_type": "markdown",
   "id": "continuing-framework",
   "metadata": {},
   "source": [
    "# SysML v2 Kernel Magic Commands\n",
    "\n",
    "List of the kernel magic commands. \n",
    "\n",
    "Inspired by [MBSE4u.com](https://mbse4u.com/2020/12/21/sysml-v2-release-whats-inside/).\n",
    "\n",
    "## list\n",
    "\n",
    "[Codebase](https://github.com/Systems-Modeling/SysML-v2-Pilot-Implementation/blob/master/org.omg.sysml.jupyter.kernel/src/main/java/org/omg/sysml/jupyter/kernel/magic/Listing.java)"
   ]
  },
  {
   "cell_type": "code",
   "execution_count": 12,
   "id": "injured-anthony",
   "metadata": {},
   "outputs": [
    {
     "ename": "UndefinedMagicException",
     "evalue": "Undefined line magic 'list'",
     "output_type": "error",
     "traceback": [
      "\u001b[1m\u001b[31m---------------------------------------------------------------------------\u001b[0m",
      "\u001b[1m\u001b[31mio.github.spencerpark.jupyter.kernel.magic.registry.UndefinedMagicException: Undefined line magic 'list'\u001b[0m",
      "\u001b[1m\u001b[31m\tat io.github.spencerpark.jupyter.kernel.magic.registry.Magics.applyLineMagic(Magics.java:24)\u001b[0m",
      "\u001b[1m\u001b[31m\tat org.omg.sysml.jupyter.kernel.SysMLKernel.eval(SysMLKernel.java:76)\u001b[0m",
      "\u001b[1m\u001b[31m\tat io.github.spencerpark.jupyter.kernel.BaseKernel.handleExecuteRequest(BaseKernel.java:334)\u001b[0m",
      "\u001b[1m\u001b[31m\tat io.github.spencerpark.jupyter.channels.ShellChannel.lambda$bind$0(ShellChannel.java:64)\u001b[0m",
      "\u001b[1m\u001b[31m\tat io.github.spencerpark.jupyter.channels.Loop.lambda$new$0(Loop.java:21)\u001b[0m",
      "\u001b[1m\u001b[31m\tat io.github.spencerpark.jupyter.channels.Loop.run(Loop.java:78)\u001b[0m"
     ]
    }
   ],
   "source": [
    "%list"
   ]
  },
  {
   "cell_type": "markdown",
   "id": "arranged-microphone",
   "metadata": {},
   "source": [
    "### Limited querying is also possible.\n",
    "\n",
    "The query string works as an [\"import\"](https://github.com/Systems-Modeling/SysML-v2-Pilot-Implementation/blob/0be3bc228ad3cc56bfb9c340866c2ae59a6d2601/org.omg.sysml.interactive/src/org/omg/sysml/interactive/SysMLInteractive.java#L230) statement in Sysml. That is the following is to be intrepreted as `import Objects::*;` and then show all membership. The [specs](/files/doc/2-OMG_Systems_Modeling_Language_(SysML).pdf) (page 108 of 413) provide an overview what can be passed to import."
   ]
  },
  {
   "cell_type": "code",
   "execution_count": 13,
   "id": "formed-outreach",
   "metadata": {},
   "outputs": [
    {
     "ename": "UndefinedMagicException",
     "evalue": "Undefined line magic 'list'",
     "output_type": "error",
     "traceback": [
      "\u001b[1m\u001b[31m---------------------------------------------------------------------------\u001b[0m",
      "\u001b[1m\u001b[31mio.github.spencerpark.jupyter.kernel.magic.registry.UndefinedMagicException: Undefined line magic 'list'\u001b[0m",
      "\u001b[1m\u001b[31m\tat io.github.spencerpark.jupyter.kernel.magic.registry.Magics.applyLineMagic(Magics.java:24)\u001b[0m",
      "\u001b[1m\u001b[31m\tat org.omg.sysml.jupyter.kernel.SysMLKernel.eval(SysMLKernel.java:76)\u001b[0m",
      "\u001b[1m\u001b[31m\tat io.github.spencerpark.jupyter.kernel.BaseKernel.handleExecuteRequest(BaseKernel.java:334)\u001b[0m",
      "\u001b[1m\u001b[31m\tat io.github.spencerpark.jupyter.channels.ShellChannel.lambda$bind$0(ShellChannel.java:64)\u001b[0m",
      "\u001b[1m\u001b[31m\tat io.github.spencerpark.jupyter.channels.Loop.lambda$new$0(Loop.java:21)\u001b[0m",
      "\u001b[1m\u001b[31m\tat io.github.spencerpark.jupyter.channels.Loop.run(Loop.java:78)\u001b[0m"
     ]
    }
   ],
   "source": [
    "%list \"Objects::*\""
   ]
  },
  {
   "cell_type": "code",
   "execution_count": 14,
   "id": "daily-meeting",
   "metadata": {},
   "outputs": [
    {
     "ename": "UndefinedMagicException",
     "evalue": "Undefined line magic 'list'",
     "output_type": "error",
     "traceback": [
      "\u001b[1m\u001b[31m---------------------------------------------------------------------------\u001b[0m",
      "\u001b[1m\u001b[31mio.github.spencerpark.jupyter.kernel.magic.registry.UndefinedMagicException: Undefined line magic 'list'\u001b[0m",
      "\u001b[1m\u001b[31m\tat io.github.spencerpark.jupyter.kernel.magic.registry.Magics.applyLineMagic(Magics.java:24)\u001b[0m",
      "\u001b[1m\u001b[31m\tat org.omg.sysml.jupyter.kernel.SysMLKernel.eval(SysMLKernel.java:76)\u001b[0m",
      "\u001b[1m\u001b[31m\tat io.github.spencerpark.jupyter.kernel.BaseKernel.handleExecuteRequest(BaseKernel.java:334)\u001b[0m",
      "\u001b[1m\u001b[31m\tat io.github.spencerpark.jupyter.channels.ShellChannel.lambda$bind$0(ShellChannel.java:64)\u001b[0m",
      "\u001b[1m\u001b[31m\tat io.github.spencerpark.jupyter.channels.Loop.lambda$new$0(Loop.java:21)\u001b[0m",
      "\u001b[1m\u001b[31m\tat io.github.spencerpark.jupyter.channels.Loop.run(Loop.java:78)\u001b[0m"
     ]
    }
   ],
   "source": [
    "%list \"Objects::**\""
   ]
  },
  {
   "cell_type": "markdown",
   "id": "better-flour",
   "metadata": {},
   "source": [
    "## viz\n",
    "\n",
    "Graphviz'ify elements from the model.\n",
    "\n",
    "[Codebase](https://github.com/Systems-Modeling/SysML-v2-Pilot-Implementation/blob/master/org.omg.sysml.jupyter.kernel/src/main/java/org/omg/sysml/jupyter/kernel/magic/Viz.java) and [Kernel Code](https://github.com/Systems-Modeling/SysML-v2-Pilot-Implementation/blob/0be3bc228ad3cc56bfb9c340866c2ae59a6d2601/org.omg.sysml.interactive/src/org/omg/sysml/interactive/SysMLInteractive.java#L283-L316)"
   ]
  },
  {
   "cell_type": "code",
   "execution_count": 15,
   "id": "palestinian-ontario",
   "metadata": {},
   "outputs": [
    {
     "data": {
      "text/plain": [
       "ERROR:Couldn't resolve reference to Element 'Views'\n"
      ]
     },
     "execution_count": 15,
     "metadata": {},
     "output_type": "execute_result"
    }
   ],
   "source": [
    "%viz \"Views\""
   ]
  },
  {
   "cell_type": "code",
   "execution_count": 16,
   "id": "sublime-simple",
   "metadata": {},
   "outputs": [
    {
     "data": {
      "text/plain": [
       "ERROR:Couldn't resolve reference to Element 'Objects'\n"
      ]
     },
     "execution_count": 16,
     "metadata": {},
     "output_type": "execute_result"
    }
   ],
   "source": [
    "%viz \"Objects\" --style=\"PLANTUML\""
   ]
  },
  {
   "cell_type": "markdown",
   "id": "joint-somerset",
   "metadata": {},
   "source": [
    "### Arguments to %viz\n",
    "\n",
    "- style : COMPTREE, POLYLINE, LR, STDCOLOR, PLANTUML, DEFAULT, TB, ORTHOLINE\n",
    "- view : Default Tree State Interconnection Action Sequence MIXED \n",
    "\n"
   ]
  },
  {
   "cell_type": "code",
   "execution_count": 17,
   "id": "natural-webcam",
   "metadata": {},
   "outputs": [
    {
     "data": {
      "text/plain": [
       "ERROR:Couldn't resolve reference to Element 'Objects'\n"
      ]
     },
     "execution_count": 17,
     "metadata": {},
     "output_type": "execute_result"
    }
   ],
   "source": [
    "%viz \"Objects\" --view=State --style=\"PLANTUML\""
   ]
  },
  {
   "cell_type": "markdown",
   "id": "third-capacity",
   "metadata": {},
   "source": [
    "### %viz Hidden Option\n",
    "\n",
    "There is also a hidden style option: `PUMLCODE` to get the original plant UML code of the diagram."
   ]
  },
  {
   "cell_type": "code",
   "execution_count": 18,
   "id": "referenced-communist",
   "metadata": {},
   "outputs": [
    {
     "data": {
      "text/plain": [
       "ERROR:Couldn't resolve reference to Element 'Views'\n"
      ]
     },
     "execution_count": 18,
     "metadata": {},
     "output_type": "execute_result"
    }
   ],
   "source": [
    "%viz --style=PUMLCODE Views"
   ]
  },
  {
   "cell_type": "markdown",
   "id": "sudden-static",
   "metadata": {
    "jupyter": {
     "outputs_hidden": true
    }
   },
   "source": [
    "## publish\n",
    "\n",
    "Push models to publish the model to a SysML v2 repository server.\n",
    "\n",
    "[Codebase](https://github.com/Systems-Modeling/SysML-v2-Pilot-Implementation/blob/master/org.omg.sysml.jupyter.kernel/src/main/java/org/omg/sysml/jupyter/kernel/magic/Publish.java)\n"
   ]
  },
  {
   "cell_type": "code",
   "execution_count": 19,
   "id": "alone-cradle",
   "metadata": {},
   "outputs": [
    {
     "data": {
      "text/plain": [
       "ERROR:Couldn't resolve reference to Element 'Links'\n"
      ]
     },
     "execution_count": 19,
     "metadata": {},
     "output_type": "execute_result"
    }
   ],
   "source": [
    "%publish \"Links\""
   ]
  },
  {
   "cell_type": "markdown",
   "id": "educated-romance",
   "metadata": {},
   "source": [
    "So library elements can't be published, so we'll create a package and publish that.\n",
    "\n",
    "Package take from [MBSE4U Notebook](https://nbviewer.jupyter.org/github/MBSE4U/SysMLv2JupyterBook/blob/master/SysMLv2JupyterBook.ipynb)."
   ]
  },
  {
   "cell_type": "code",
   "execution_count": 20,
   "id": "instant-factor",
   "metadata": {},
   "outputs": [
    {
     "data": {
      "text/plain": [
       "Package eVehicle_LogicalArchitecture_v1 (6d5c69d1-33e1-44bf-a52f-0c6460ec70e5)\n"
      ]
     },
     "execution_count": 20,
     "metadata": {},
     "output_type": "execute_result"
    }
   ],
   "source": [
    "package eVehicle_LogicalArchitecture_v1 {\n",
    "    part eVehicle {    \n",
    "        part body;\n",
    "        part battery;\n",
    "        part engine;\n",
    "        part frontAxis;\n",
    "        part rearAxis;\n",
    "        part frontWheel[2];\n",
    "        part rearWheel[2];\n",
    "    }\n",
    "}"
   ]
  },
  {
   "cell_type": "code",
   "execution_count": 21,
   "id": "extraordinary-workplace",
   "metadata": {},
   "outputs": [
    {
     "name": "stdout",
     "output_type": "stream",
     "text": [
      "API base path: http://sysmlapiserver:9000\n",
      "Processing\n",
      "Posting Commit (47 elements)...589333d6-4492-489b-8609-0ae86c81f8c6\n",
      "\n"
     ]
    },
    {
     "data": {
      "text/plain": [
       "Saved to Project eVehicle_LogicalArchitecture_v1 Sun Mar 14 19:34:35 UTC 2021 (310c1df5-3ab5-4ca8-a1be-b77538e2b114)\n"
      ]
     },
     "execution_count": 21,
     "metadata": {},
     "output_type": "execute_result"
    }
   ],
   "source": [
    "%publish eVehicle_LogicalArchitecture_v1"
   ]
  },
  {
   "cell_type": "markdown",
   "id": "fiscal-visit",
   "metadata": {},
   "source": [
    "**Viewing Projects**\n",
    "\n",
    "Once the model has been published, we can view our stored [project](http://localhost:9000/projects) in the API server."
   ]
  },
  {
   "cell_type": "markdown",
   "id": "ecological-blackberry",
   "metadata": {},
   "source": [
    "## show\n",
    "\n",
    "Which gives a textual outline of the Model.\n",
    "\n",
    "[Codebase](https://github.com/Systems-Modeling/SysML-v2-Pilot-Implementation/blob/master/org.omg.sysml.jupyter.kernel/src/main/java/org/omg/sysml/jupyter/kernel/magic/Show.java)"
   ]
  },
  {
   "cell_type": "code",
   "execution_count": 22,
   "id": "romantic-flashing",
   "metadata": {},
   "outputs": [
    {
     "data": {
      "text/plain": [
       "ERROR:Couldn't resolve reference to Element 'Objects'\n"
      ]
     },
     "execution_count": 22,
     "metadata": {},
     "output_type": "execute_result"
    }
   ],
   "source": [
    "%show Objects"
   ]
  },
  {
   "cell_type": "code",
   "execution_count": null,
   "id": "therapeutic-episode",
   "metadata": {},
   "outputs": [],
   "source": []
  }
 ],
 "metadata": {
  "kernelspec": {
   "display_name": "SysML",
   "language": "sysml",
   "name": "sysml"
  },
  "language_info": {
   "codemirror_mode": "sysml",
   "file_extension": ".sysml",
   "mimetype": "text/x-sysml",
   "name": "SysML",
   "pygments_lexer": "java",
   "version": "1.0.0"
  }
 },
 "nbformat": 4,
 "nbformat_minor": 5
}
