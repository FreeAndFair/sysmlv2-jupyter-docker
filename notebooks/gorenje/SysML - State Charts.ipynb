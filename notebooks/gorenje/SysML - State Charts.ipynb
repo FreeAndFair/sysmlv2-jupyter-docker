{
 "cells": [
  {
   "cell_type": "markdown",
   "id": "resistant-exchange",
   "metadata": {},
   "source": [
    "# State Charts\n",
    "\n",
    "Taken from the [SysML Google Group](https://groups.google.com/g/sysml-v2-release)."
   ]
  },
  {
   "cell_type": "code",
   "execution_count": 1,
   "id": "decent-transaction",
   "metadata": {
    "execution": {
     "iopub.execute_input": "2021-03-26T09:40:03.135862Z",
     "iopub.status.busy": "2021-03-26T09:40:03.135375Z",
     "iopub.status.idle": "2021-03-26T09:40:04.116999Z",
     "shell.execute_reply": "2021-03-26T09:40:04.116515Z"
    }
   },
   "outputs": [
    {
     "data": {
      "text/plain": [
       "Package StopWatchStates (db6c79b1-b77f-4370-ad24-175bf9a6aacc)\n"
      ]
     },
     "execution_count": 1,
     "metadata": {},
     "output_type": "execute_result"
    }
   ],
   "source": [
    "package StopWatchStates {\n",
    "     state def StopWatch {\n",
    " \n",
    "          entry;\n",
    "              then ready;\n",
    "     \n",
    "          action def VehicleStartSignal;\n",
    "          action def VehicleOnSignal;\n",
    "          action def VehicleOffSignal;\n",
    "     \n",
    "          state ready;\n",
    "          \n",
    "          transition ready_to_running\n",
    "               first ready\n",
    "               accept VehicleStartSignal\n",
    "               then running;\n",
    "      \n",
    "          state running;\n",
    "      \n",
    "          transition running_to_stopped\n",
    "               first running\n",
    "               accept VehicleOnSignal\n",
    "               then stopped;\n",
    "      \n",
    "          transition running_to_paused\n",
    "               first running\n",
    "               accept VehicleOffSignal\n",
    "               then paused;\n",
    "       \n",
    "          state paused;\n",
    "\n",
    "          transition paused_to_running\n",
    "               first paused\n",
    "               accept VehicleOffSignal\n",
    "               then running;\n",
    "          transition paused_to_stop\n",
    "               first paused\n",
    "               accept VehicleOffSignal\n",
    "               then stopped;\n",
    "   \n",
    "          state stopped;\n",
    "\n",
    "          transition stopped_to_ready\n",
    "               first stopped\n",
    "               accept VehicleOffSignal\n",
    "               then done;\n",
    "       \n",
    "     }\n",
    "}\n"
   ]
  },
  {
   "cell_type": "markdown",
   "id": "innocent-headline",
   "metadata": {},
   "source": [
    "## Visualisation of Models\n",
    "\n",
    "We can now visualise our Model with the ```%viz``` command."
   ]
  },
  {
   "cell_type": "code",
   "execution_count": 2,
   "id": "formed-challenge",
   "metadata": {
    "execution": {
     "iopub.execute_input": "2021-03-26T09:40:04.167983Z",
     "iopub.status.busy": "2021-03-26T09:40:04.167630Z",
     "iopub.status.idle": "2021-03-26T09:40:04.775828Z",
     "shell.execute_reply": "2021-03-26T09:40:04.775374Z"
    }
   },
   "outputs": [
    {
     "data": {
      "image/svg+xml": [
       "<?xml version=\"1.0\" encoding=\"UTF-8\" standalone=\"no\"?><svg xmlns=\"http://www.w3.org/2000/svg\" xmlns:xlink=\"http://www.w3.org/1999/xlink\" contentScriptType=\"application/ecmascript\" contentStyleType=\"text/css\" height=\"764px\" preserveAspectRatio=\"none\" style=\"width:424px;height:764px;\" version=\"1.1\" viewBox=\"0 0 424 764\" width=\"424px\" zoomAndPan=\"magnify\"><defs/><g><!--MD5=[fbc87193dbaf4d95561dea2c320d4a47]\n",
       "cluster E1--><polygon fill=\"#FFFFFF\" points=\"16,6,157,6,164,28.2969,388,28.2969,388,752,16,752,16,6\" style=\"stroke: #000000; stroke-width: 1.5;\"/><line style=\"stroke: #000000; stroke-width: 1.5;\" x1=\"16\" x2=\"164\" y1=\"28.2969\" y2=\"28.2969\"/><text fill=\"#000000\" font-family=\"sans-serif\" font-size=\"14\" font-weight=\"bold\" lengthAdjust=\"spacingAndGlyphs\" textLength=\"135\" x=\"20\" y=\"20.9951\">StopWatchStates</text><!--MD5=[e4f7fae6ed58524ba242bb0b0d3be6b7]\n",
       "cluster E2--><rect fill=\"#FFFFFF\" height=\"679\" style=\"stroke: #000000; stroke-width: 1.5;\" width=\"324\" x=\"40\" y=\"49\"/><text fill=\"#000000\" font-family=\"sans-serif\" font-size=\"14\" font-weight=\"bold\" lengthAdjust=\"spacingAndGlyphs\" textLength=\"85\" x=\"159.5\" y=\"63.9951\">StopWatch</text><ellipse cx=\"229\" cy=\"113\" fill=\"#000000\" rx=\"10\" ry=\"10\" style=\"stroke: none; stroke-width: 1.0;\"/><ellipse cx=\"187\" cy=\"702\" fill=\"none\" rx=\"10\" ry=\"10\" style=\"stroke: #000000; stroke-width: 1.0;\"/><ellipse cx=\"187.5\" cy=\"702.5\" fill=\"#000000\" rx=\"6\" ry=\"6\" style=\"stroke: none; stroke-width: 1.0;\"/><g id=\"E1.E2.E3\"><rect fill=\"#FFFFFF\" height=\"50\" rx=\"12.5\" ry=\"12.5\" style=\"stroke: #383838; stroke-width: 1.5;\" width=\"58\" x=\"200\" y=\"184\"/><line style=\"stroke: #383838; stroke-width: 1.5;\" x1=\"200\" x2=\"258\" y1=\"210.2969\" y2=\"210.2969\"/><text fill=\"#000000\" font-family=\"sans-serif\" font-size=\"14\" lengthAdjust=\"spacingAndGlyphs\" textLength=\"38\" x=\"210\" y=\"201.9951\">ready</text></g><g id=\"E1.E2.E4\"><rect fill=\"#FFFFFF\" height=\"50\" rx=\"12.5\" ry=\"12.5\" style=\"stroke: #383838; stroke-width: 1.5;\" width=\"73\" x=\"195.5\" y=\"311\"/><line style=\"stroke: #383838; stroke-width: 1.5;\" x1=\"195.5\" x2=\"268.5\" y1=\"337.2969\" y2=\"337.2969\"/><text fill=\"#000000\" font-family=\"sans-serif\" font-size=\"14\" lengthAdjust=\"spacingAndGlyphs\" textLength=\"53\" x=\"205.5\" y=\"328.9951\">running</text></g><g id=\"E1.E2.E5\"><rect fill=\"#FFFFFF\" height=\"50\" rx=\"12.5\" ry=\"12.5\" style=\"stroke: #383838; stroke-width: 1.5;\" width=\"72\" x=\"96\" y=\"438\"/><line style=\"stroke: #383838; stroke-width: 1.5;\" x1=\"96\" x2=\"168\" y1=\"464.2969\" y2=\"464.2969\"/><text fill=\"#000000\" font-family=\"sans-serif\" font-size=\"14\" lengthAdjust=\"spacingAndGlyphs\" textLength=\"52\" x=\"106\" y=\"455.9951\">paused</text></g><g id=\"E1.E2.E6\"><rect fill=\"#FFFFFF\" height=\"50\" rx=\"12.5\" ry=\"12.5\" style=\"stroke: #383838; stroke-width: 1.5;\" width=\"78\" x=\"148\" y=\"565\"/><line style=\"stroke: #383838; stroke-width: 1.5;\" x1=\"148\" x2=\"226\" y1=\"591.2969\" y2=\"591.2969\"/><text fill=\"#000000\" font-family=\"sans-serif\" font-size=\"14\" lengthAdjust=\"spacingAndGlyphs\" textLength=\"58\" x=\"158\" y=\"582.9951\">stopped</text></g><!--MD5=[5784957ad6aba600e50c0683d06dcc69]\n",
       "link *start*E2 to E3--><path d=\"M229,123.01 C229,135.7 229,159.41 229,178.57 \" fill=\"none\" id=\"*start*E2-&gt;E3\" style=\"stroke: #383838; stroke-width: 1.0;\"/><polygon fill=\"#383838\" points=\"229,183.84,233,174.84,229,178.84,225,174.84,229,183.84\" style=\"stroke: #383838; stroke-width: 1.0;\"/><!--MD5=[d3baace2f756416d26e3c44cccd96611]\n",
       "link E6 to *end*E2--><path d=\"M187,615.14 C187,637.03 187,668.57 187,686.71 \" fill=\"none\" id=\"E6-&gt;*end*E2\" style=\"stroke: #383838; stroke-width: 1.0;\"/><polygon fill=\"#383838\" points=\"187,691.88,191,682.88,187,686.88,183,682.88,187,691.88\" style=\"stroke: #383838; stroke-width: 1.0;\"/><text fill=\"#000000\" font-family=\"sans-serif\" font-size=\"13\" lengthAdjust=\"spacingAndGlyphs\" textLength=\"103\" x=\"188\" y=\"658.0669\">VehicleOffSignal</text><!--MD5=[af87c684e3b0d8be13c1a698a818ef1e]\n",
       "link E3 to E4--><path d=\"M229.58,234.1 C230.07,254.59 230.78,284.08 231.3,305.88 \" fill=\"none\" id=\"E3-&gt;E4\" style=\"stroke: #383838; stroke-width: 1.0;\"/><polygon fill=\"#383838\" points=\"231.42,310.97,235.1873,301.8702,231.2915,305.9717,227.19,302.0758,231.42,310.97\" style=\"stroke: #383838; stroke-width: 1.0;\"/><text fill=\"#000000\" font-family=\"sans-serif\" font-size=\"13\" lengthAdjust=\"spacingAndGlyphs\" textLength=\"117\" x=\"231\" y=\"277.0669\">VehicleStartSignal</text><!--MD5=[79568f1e445c3877b6a54524624ccc7d]\n",
       "link E4 to E6--><path d=\"M268.77,348.8 C296.47,360.1 328.35,379.66 320,408 C301.62,470.36 250.77,528.26 217.54,561.07 \" fill=\"none\" id=\"E4-&gt;E6\" style=\"stroke: #383838; stroke-width: 1.0;\"/><polygon fill=\"#383838\" points=\"213.58,564.94,222.8215,561.5348,217.1652,561.4548,217.2452,555.7985,213.58,564.94\" style=\"stroke: #383838; stroke-width: 1.0;\"/><text fill=\"#000000\" font-family=\"sans-serif\" font-size=\"13\" lengthAdjust=\"spacingAndGlyphs\" textLength=\"103\" x=\"309\" y=\"467.5669\">VehicleOnSignal</text><!--MD5=[1b7591eae5389033d8d09a9d6721a717]\n",
       "link E4 to E5--><path d=\"M195.41,339.44 C161.25,343.88 112.03,356.33 88,391 C78.34,404.95 86.7,420.97 98.62,434.27 \" fill=\"none\" id=\"E4-&gt;E5\" style=\"stroke: #383838; stroke-width: 1.0;\"/><polygon fill=\"#383838\" points=\"102.07,437.94,98.8521,428.6317,98.6579,434.2852,93.0044,434.091,102.07,437.94\" style=\"stroke: #383838; stroke-width: 1.0;\"/><text fill=\"#000000\" font-family=\"sans-serif\" font-size=\"13\" lengthAdjust=\"spacingAndGlyphs\" textLength=\"103\" x=\"89\" y=\"404.0669\">VehicleOffSignal</text><!--MD5=[1c62de2aa5b76f0fb657ff8443a1a700]\n",
       "link E5 to E4--><path d=\"M166.55,437.78 C177.19,429.2 188.37,418.94 197,408 C206.93,395.41 215.08,379.55 221.01,366.01 \" fill=\"none\" id=\"E5-&gt;E4\" style=\"stroke: #383838; stroke-width: 1.0;\"/><polygon fill=\"#383838\" points=\"223.09,361.14,215.8681,367.8366,221.1204,365.7357,223.2213,370.988,223.09,361.14\" style=\"stroke: #383838; stroke-width: 1.0;\"/><text fill=\"#000000\" font-family=\"sans-serif\" font-size=\"13\" lengthAdjust=\"spacingAndGlyphs\" textLength=\"103\" x=\"208\" y=\"404.0669\">VehicleOffSignal</text><!--MD5=[9120cf2e5df3bff93db8f754bbbc09b4]\n",
       "link E5 to E6--><path d=\"M125.83,488.31 C123.46,502.49 122.65,520.41 129,535 C133.29,544.87 140.38,553.74 148.14,561.31 \" fill=\"none\" id=\"E5-&gt;E6\" style=\"stroke: #383838; stroke-width: 1.0;\"/><polygon fill=\"#383838\" points=\"152,564.93,148.151,555.8644,148.3452,561.5179,142.6917,561.7121,152,564.93\" style=\"stroke: #383838; stroke-width: 1.0;\"/><text fill=\"#000000\" font-family=\"sans-serif\" font-size=\"13\" lengthAdjust=\"spacingAndGlyphs\" textLength=\"103\" x=\"130\" y=\"531.0669\">VehicleOffSignal</text><!--MD5=[152cbc7759a5a6a9c351d2f73d56b751]\n",
       "@startuml\r\n",
       "skinparam monochrome true\r\n",
       "skinparam classbackgroundcolor white\r\n",
       "skinparam shadowing false\r\n",
       "skinparam wrapWidth 300\r\n",
       "hide circle\r\n",
       "\r\n",
       "package \"StopWatchStates\" as E1   {\r\n",
       "rec def \"StopWatch\" as E2 {\r\n",
       "rec usage \"ready\" as E3 {\r\n",
       "}\r\n",
       "\r\n",
       "rec usage \"running\" as E4 {\r\n",
       "}\r\n",
       "\r\n",
       "rec usage \"paused\" as E5 {\r\n",
       "}\r\n",
       "\r\n",
       "rec usage \"stopped\" as E6 {\r\n",
       "}\r\n",
       "\r\n",
       "[*] - -> E3\r\n",
       "E6  - -> [*] : VehicleOffSignal \r\n",
       "desc \"StopWatch\" as E2  : **entry**/ \r\n",
       "}\r\n",
       "\r\n",
       "E3  - -> E4 : VehicleStartSignal \r\n",
       "E4  - -> E6 : VehicleOnSignal \r\n",
       "E4  - -> E5 : VehicleOffSignal \r\n",
       "E5  - -> E4 : VehicleOffSignal \r\n",
       "E5  - -> E6 : VehicleOffSignal \r\n",
       "}\r\n",
       "@enduml\r\n",
       "\n",
       "PlantUML version 1.2020.13(Sat Jun 13 12:26:38 UTC 2020)\n",
       "(EPL source distribution)\n",
       "Java Runtime: OpenJDK Runtime Environment\n",
       "JVM: OpenJDK 64-Bit Server VM\n",
       "Default Encoding: UTF-8\n",
       "Language: en\n",
       "Country: null\n",
       "--></g></svg>"
      ]
     },
     "execution_count": 2,
     "metadata": {},
     "output_type": "execute_result"
    }
   ],
   "source": [
    "%viz StopWatchStates"
   ]
  },
  {
   "cell_type": "code",
   "execution_count": null,
   "id": "detailed-tiffany",
   "metadata": {},
   "outputs": [],
   "source": []
  }
 ],
 "metadata": {
  "kernelspec": {
   "display_name": "SysML",
   "language": "sysml",
   "name": "sysml"
  },
  "language_info": {
   "codemirror_mode": "sysml",
   "file_extension": ".sysml",
   "mimetype": "text/x-sysml",
   "name": "SysML",
   "pygments_lexer": "java",
   "version": "1.0.0"
  }
 },
 "nbformat": 4,
 "nbformat_minor": 5
}
