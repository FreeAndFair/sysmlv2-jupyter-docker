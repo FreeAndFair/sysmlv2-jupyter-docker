{
 "cells": [
  {
   "cell_type": "markdown",
   "id": "resistant-exchange",
   "metadata": {},
   "source": [
    "# State Charts\n",
    "\n",
    "Taken from the [SysML Google Group](https://groups.google.com/g/sysml-v2-release)."
   ]
  },
  {
   "cell_type": "code",
   "execution_count": 1,
   "id": "decent-transaction",
   "metadata": {
    "execution": {
     "iopub.execute_input": "2024-12-16T14:15:08.213440Z",
     "iopub.status.busy": "2024-12-16T14:15:08.212422Z",
     "iopub.status.idle": "2024-12-16T14:15:08.728281Z",
     "shell.execute_reply": "2024-12-16T14:15:08.728081Z"
    }
   },
   "outputs": [
    {
     "data": {
      "text/plain": [
       "Package StopWatchStates (396dfcb2-e2fd-43ff-b787-311eb9d557e4)\n"
      ]
     },
     "execution_count": 1,
     "metadata": {},
     "output_type": "execute_result"
    }
   ],
   "source": [
    "package StopWatchStates {\n",
    "     state def StopWatch {\n",
    " \n",
    "          entry;\n",
    "              then ready;\n",
    "     \n",
    "          action def VehicleStartSignal;\n",
    "          action def VehicleOnSignal;\n",
    "          action def VehicleOffSignal;\n",
    "     \n",
    "          state ready;\n",
    "          \n",
    "          transition ready_to_running\n",
    "               first ready\n",
    "               accept VehicleStartSignal\n",
    "               then running;\n",
    "      \n",
    "          state running;\n",
    "      \n",
    "          transition running_to_stopped\n",
    "               first running\n",
    "               accept VehicleOnSignal\n",
    "               then stopped;\n",
    "      \n",
    "          transition running_to_paused\n",
    "               first running\n",
    "               accept VehicleOffSignal\n",
    "               then paused;\n",
    "       \n",
    "          state paused;\n",
    "\n",
    "          transition paused_to_running\n",
    "               first paused\n",
    "               accept VehicleOffSignal\n",
    "               then running;\n",
    "          transition paused_to_stop\n",
    "               first paused\n",
    "               accept VehicleOffSignal\n",
    "               then stopped;\n",
    "   \n",
    "          state stopped;\n",
    "\n",
    "          transition stopped_to_ready\n",
    "               first stopped\n",
    "               accept VehicleOffSignal\n",
    "               then done;\n",
    "       \n",
    "     }\n",
    "}\n"
   ]
  },
  {
   "cell_type": "markdown",
   "id": "innocent-headline",
   "metadata": {},
   "source": [
    "## Visualisation of Models\n",
    "\n",
    "We can now visualise our Model with the ```%viz``` command."
   ]
  },
  {
   "cell_type": "code",
   "execution_count": 2,
   "id": "formed-challenge",
   "metadata": {
    "execution": {
     "iopub.execute_input": "2024-12-16T14:15:08.780197Z",
     "iopub.status.busy": "2024-12-16T14:15:08.779706Z",
     "iopub.status.idle": "2024-12-16T14:15:09.203812Z",
     "shell.execute_reply": "2024-12-16T14:15:09.203530Z"
    }
   },
   "outputs": [
    {
     "data": {
      "image/svg+xml": [
       "<?xml version=\"1.0\" encoding=\"UTF-8\" standalone=\"no\"?><svg xmlns=\"http://www.w3.org/2000/svg\" xmlns:xlink=\"http://www.w3.org/1999/xlink\" contentStyleType=\"text/css\" height=\"757px\" preserveAspectRatio=\"none\" style=\"width:419px;height:757px;background:#FFFFFF;\" version=\"1.1\" viewBox=\"0 0 419 757\" width=\"419px\" zoomAndPan=\"magnify\"><defs/><g><!--MD5=[fbc87193dbaf4d95561dea2c320d4a47]\n",
       "cluster E1--><g id=\"cluster_E1\"><a href=\"psysml:396dfcb2-e2fd-43ff-b787-311eb9d557e4\" target=\"_top\" title=\"psysml:396dfcb2-e2fd-43ff-b787-311eb9d557e4\" xlink:actuate=\"onRequest\" xlink:href=\"psysml:396dfcb2-e2fd-43ff-b787-311eb9d557e4\" xlink:show=\"new\" xlink:title=\"psysml:396dfcb2-e2fd-43ff-b787-311eb9d557e4\" xlink:type=\"simple\"><polygon fill=\"none\" points=\"16,6,147.5625,6,154.5625,28.2969,388,28.2969,388,750,16,750,16,6\" style=\"stroke:#000000;stroke-width:1.5;\"/><line style=\"stroke:#000000;stroke-width:1.5;\" x1=\"16\" x2=\"154.5625\" y1=\"28.2969\" y2=\"28.2969\"/><text fill=\"#000000\" font-family=\"sans-serif\" font-size=\"14\" font-weight=\"bold\" lengthAdjust=\"spacing\" textLength=\"125.5625\" x=\"20\" y=\"20.9951\">StopWatchStates</text></a></g><!--MD5=[e4f7fae6ed58524ba242bb0b0d3be6b7]\n",
       "cluster E2--><g id=\"cluster_E2\"><a href=\"psysml:ab4d7340-fc64-4b5a-b424-11f625c927be\" target=\"_top\" title=\"psysml:ab4d7340-fc64-4b5a-b424-11f625c927be\" xlink:actuate=\"onRequest\" xlink:href=\"psysml:ab4d7340-fc64-4b5a-b424-11f625c927be\" xlink:show=\"new\" xlink:title=\"psysml:ab4d7340-fc64-4b5a-b424-11f625c927be\" xlink:type=\"simple\"><rect fill=\"#FFFFFF\" height=\"677\" id=\"E2\" style=\"stroke:#383838;stroke-width:1.5;\" width=\"324\" x=\"40\" y=\"49\"/><text fill=\"#000000\" font-family=\"sans-serif\" font-size=\"12\" font-style=\"italic\" lengthAdjust=\"spacing\" textLength=\"75\" x=\"164.5\" y=\"65.1387\">«state  def»</text><text fill=\"#000000\" font-family=\"sans-serif\" font-size=\"14\" lengthAdjust=\"spacing\" textLength=\"75\" x=\"164.5\" y=\"80.9639\">StopWatch</text><line style=\"stroke:#383838;stroke-width:1.0;\" x1=\"40\" x2=\"364\" y1=\"89.2656\" y2=\"89.2656\"/></a></g><ellipse cx=\"229\" cy=\"131\" fill=\"#222222\" rx=\"10\" ry=\"10\" style=\"stroke:none;stroke-width:1.0;\"/><ellipse cx=\"187\" cy=\"700\" fill=\"none\" rx=\"10\" ry=\"10\" style=\"stroke:#222222;stroke-width:1.0;\"/><ellipse cx=\"187.5\" cy=\"700.5\" fill=\"#222222\" rx=\"6\" ry=\"6\" style=\"stroke:none;stroke-width:1.0;\"/><g><a href=\"psysml:839bd457-72a7-4f66-9d44-48f03cf42ba9\" target=\"_top\" title=\"psysml:839bd457-72a7-4f66-9d44-48f03cf42ba9\" xlink:actuate=\"onRequest\" xlink:href=\"psysml:839bd457-72a7-4f66-9d44-48f03cf42ba9\" xlink:show=\"new\" xlink:title=\"psysml:839bd457-72a7-4f66-9d44-48f03cf42ba9\" xlink:type=\"simple\"><rect fill=\"#FFFFFF\" height=\"45.2656\" id=\"E3\" rx=\"10\" ry=\"10\" style=\"stroke:#383838;stroke-width:1.5;\" width=\"54\" x=\"202\" y=\"202\"/><text fill=\"#000000\" font-family=\"sans-serif\" font-size=\"12\" font-style=\"italic\" lengthAdjust=\"spacing\" textLength=\"47\" x=\"205.5\" y=\"218.1387\">«state»</text><text fill=\"#000000\" font-family=\"sans-serif\" font-size=\"14\" lengthAdjust=\"spacing\" textLength=\"38\" x=\"210\" y=\"233.9639\">ready</text></a></g><g><a href=\"psysml:cd7cdd27-9b47-451d-bfc9-9da09024b873\" target=\"_top\" title=\"psysml:cd7cdd27-9b47-451d-bfc9-9da09024b873\" xlink:actuate=\"onRequest\" xlink:href=\"psysml:cd7cdd27-9b47-451d-bfc9-9da09024b873\" xlink:show=\"new\" xlink:title=\"psysml:cd7cdd27-9b47-451d-bfc9-9da09024b873\" xlink:type=\"simple\"><rect fill=\"#FFFFFF\" height=\"45.2656\" id=\"E4\" rx=\"10\" ry=\"10\" style=\"stroke:#383838;stroke-width:1.5;\" width=\"64\" x=\"200\" y=\"324\"/><text fill=\"#000000\" font-family=\"sans-serif\" font-size=\"12\" font-style=\"italic\" lengthAdjust=\"spacing\" textLength=\"47\" x=\"208.5\" y=\"340.1387\">«state»</text><text fill=\"#000000\" font-family=\"sans-serif\" font-size=\"14\" lengthAdjust=\"spacing\" textLength=\"53\" x=\"205.5\" y=\"355.9639\">running</text></a></g><g><a href=\"psysml:8c9f4741-eb90-42c2-9a1c-13721a199034\" target=\"_top\" title=\"psysml:8c9f4741-eb90-42c2-9a1c-13721a199034\" xlink:actuate=\"onRequest\" xlink:href=\"psysml:8c9f4741-eb90-42c2-9a1c-13721a199034\" xlink:show=\"new\" xlink:title=\"psysml:8c9f4741-eb90-42c2-9a1c-13721a199034\" xlink:type=\"simple\"><rect fill=\"#FFFFFF\" height=\"45.2656\" id=\"E5\" rx=\"10\" ry=\"10\" style=\"stroke:#383838;stroke-width:1.5;\" width=\"63\" x=\"100.5\" y=\"446\"/><text fill=\"#000000\" font-family=\"sans-serif\" font-size=\"12\" font-style=\"italic\" lengthAdjust=\"spacing\" textLength=\"47\" x=\"108.5\" y=\"462.1387\">«state»</text><text fill=\"#000000\" font-family=\"sans-serif\" font-size=\"14\" lengthAdjust=\"spacing\" textLength=\"52\" x=\"106\" y=\"477.9639\">paused</text></a></g><g><a href=\"psysml:c627a1b5-f21a-4879-9e5d-3501c5481200\" target=\"_top\" title=\"psysml:c627a1b5-f21a-4879-9e5d-3501c5481200\" xlink:actuate=\"onRequest\" xlink:href=\"psysml:c627a1b5-f21a-4879-9e5d-3501c5481200\" xlink:show=\"new\" xlink:title=\"psysml:c627a1b5-f21a-4879-9e5d-3501c5481200\" xlink:type=\"simple\"><rect fill=\"#FFFFFF\" height=\"45.2656\" id=\"E6\" rx=\"10\" ry=\"10\" style=\"stroke:#383838;stroke-width:1.5;\" width=\"69\" x=\"152.5\" y=\"568\"/><text fill=\"#000000\" font-family=\"sans-serif\" font-size=\"12\" font-style=\"italic\" lengthAdjust=\"spacing\" textLength=\"47\" x=\"163.5\" y=\"584.1387\">«state»</text><text fill=\"#000000\" font-family=\"sans-serif\" font-size=\"14\" lengthAdjust=\"spacing\" textLength=\"58\" x=\"158\" y=\"599.9639\">stopped</text></a></g><!--MD5=[5784957ad6aba600e50c0683d06dcc69]\n",
       "link *start*E2 to E3--><g id=\"link_*start*E2_E3\"><a href=\"psysml:7240f4af-04f6-40b4-8404-51aeb19632d6\" target=\"_top\" title=\"psysml:7240f4af-04f6-40b4-8404-51aeb19632d6\" xlink:actuate=\"onRequest\" xlink:href=\"psysml:7240f4af-04f6-40b4-8404-51aeb19632d6\" xlink:show=\"new\" xlink:title=\"psysml:7240f4af-04f6-40b4-8404-51aeb19632d6\" xlink:type=\"simple\"><path d=\"M229,141.11 C229,153.92 229,177.78 229,196.55 \" fill=\"none\" id=\"*start*E2-to-E3\" style=\"stroke:#181818;stroke-width:1.0;\"/><polygon fill=\"#181818\" points=\"229,201.69,233,192.69,229,196.69,225,192.69,229,201.69\" style=\"stroke:#181818;stroke-width:1.0;\"/></a></g><!--MD5=[d3baace2f756416d26e3c44cccd96611]\n",
       "link E6 to *end*E2--><g id=\"link_E6_*end*E2\"><a href=\"psysml:149880ea-a725-459f-9a01-1e633bc1b8fd\" target=\"_top\" title=\"psysml:149880ea-a725-459f-9a01-1e633bc1b8fd\" xlink:actuate=\"onRequest\" xlink:href=\"psysml:149880ea-a725-459f-9a01-1e633bc1b8fd\" xlink:show=\"new\" xlink:title=\"psysml:149880ea-a725-459f-9a01-1e633bc1b8fd\" xlink:type=\"simple\"><path d=\"M187,613.25 C187,634.49 187,666.21 187,684.53 \" fill=\"none\" id=\"E6-to-*end*E2\" style=\"stroke:#181818;stroke-width:1.0;\"/><polygon fill=\"#181818\" points=\"187,689.76,191,680.76,187,684.76,183,680.76,187,689.76\" style=\"stroke:#181818;stroke-width:1.0;\"/><text fill=\"#000000\" font-family=\"sans-serif\" font-size=\"13\" lengthAdjust=\"spacing\" textLength=\"103\" x=\"188\" y=\"656.0669\">VehicleOffSignal</text></a></g><!--MD5=[af87c684e3b0d8be13c1a698a818ef1e]\n",
       "link E3 to E4--><g id=\"link_E3_E4\"><a href=\"psysml:e07a0320-648f-4bbb-8bbb-fc2586b2429d\" target=\"_top\" title=\"psysml:e07a0320-648f-4bbb-8bbb-fc2586b2429d\" xlink:actuate=\"onRequest\" xlink:href=\"psysml:e07a0320-648f-4bbb-8bbb-fc2586b2429d\" xlink:show=\"new\" xlink:title=\"psysml:e07a0320-648f-4bbb-8bbb-fc2586b2429d\" xlink:type=\"simple\"><path d=\"M229.54,247.23 C230.05,267.37 230.8,297.37 231.34,318.92 \" fill=\"none\" id=\"E3-to-E4\" style=\"stroke:#181818;stroke-width:1.0;\"/><polygon fill=\"#181818\" points=\"231.46,323.93,235.2273,314.8302,231.3315,318.9317,227.23,315.0358,231.46,323.93\" style=\"stroke:#181818;stroke-width:1.0;\"/><text fill=\"#000000\" font-family=\"sans-serif\" font-size=\"13\" lengthAdjust=\"spacing\" textLength=\"117\" x=\"231\" y=\"290.0669\">VehicleStartSignal</text></a></g><!--MD5=[79568f1e445c3877b6a54524624ccc7d]\n",
       "link E4 to E6--><g id=\"link_E4_E6\"><a href=\"psysml:05c3b2a9-29a6-45e0-9ead-43f446021821\" target=\"_top\" title=\"psysml:05c3b2a9-29a6-45e0-9ead-43f446021821\" xlink:actuate=\"onRequest\" xlink:href=\"psysml:05c3b2a9-29a6-45e0-9ead-43f446021821\" xlink:show=\"new\" xlink:title=\"psysml:05c3b2a9-29a6-45e0-9ead-43f446021821\" xlink:type=\"simple\"><path d=\"M264.19,356.87 C292.86,367.26 328.98,386.55 320,416 C301.28,477.4 249.25,533.4 216.09,564.33 \" fill=\"none\" id=\"E4-to-E6\" style=\"stroke:#181818;stroke-width:1.0;\"/><polygon fill=\"#181818\" points=\"212.14,567.98,221.4679,564.8192,215.8157,564.5904,216.0445,558.9382,212.14,567.98\" style=\"stroke:#181818;stroke-width:1.0;\"/><text fill=\"#000000\" font-family=\"sans-serif\" font-size=\"13\" lengthAdjust=\"spacing\" textLength=\"103\" x=\"308\" y=\"473.0669\">VehicleOnSignal</text></a></g><!--MD5=[1b7591eae5389033d8d09a9d6721a717]\n",
       "link E4 to E5--><g id=\"link_E4_E5\"><a href=\"psysml:8ee79dd2-e9ae-44ff-8201-4f163624f739\" target=\"_top\" title=\"psysml:8ee79dd2-e9ae-44ff-8201-4f163624f739\" xlink:actuate=\"onRequest\" xlink:href=\"psysml:8ee79dd2-e9ae-44ff-8201-4f163624f739\" xlink:show=\"new\" xlink:title=\"psysml:8ee79dd2-e9ae-44ff-8201-4f163624f739\" xlink:type=\"simple\"><path d=\"M199.91,348.82 C165.76,352.14 113.23,363.18 88,399 C78.1,413.05 87.53,429.2 100.16,442.29 \" fill=\"none\" id=\"E4-to-E5\" style=\"stroke:#181818;stroke-width:1.0;\"/><polygon fill=\"#181818\" points=\"103.79,445.9,100.2174,436.7219,100.2402,442.3788,94.5834,442.4016,103.79,445.9\" style=\"stroke:#181818;stroke-width:1.0;\"/><text fill=\"#000000\" font-family=\"sans-serif\" font-size=\"13\" lengthAdjust=\"spacing\" textLength=\"103\" x=\"89\" y=\"412.0669\">VehicleOffSignal</text></a></g><!--MD5=[1c62de2aa5b76f0fb657ff8443a1a700]\n",
       "link E5 to E4--><g id=\"link_E5_E4\"><a href=\"psysml:8fd4ac0d-4e68-4834-a110-40614ddf7e95\" target=\"_top\" title=\"psysml:8fd4ac0d-4e68-4834-a110-40614ddf7e95\" xlink:actuate=\"onRequest\" xlink:href=\"psysml:8fd4ac0d-4e68-4834-a110-40614ddf7e95\" xlink:show=\"new\" xlink:title=\"psysml:8fd4ac0d-4e68-4834-a110-40614ddf7e95\" xlink:type=\"simple\"><path d=\"M163.83,446.59 C175.24,438.05 187.6,427.47 197,416 C207.25,403.49 215.64,387.48 221.63,374.09 \" fill=\"none\" id=\"E5-to-E4\" style=\"stroke:#181818;stroke-width:1.0;\"/><polygon fill=\"#181818\" points=\"223.73,369.28,216.4656,375.9305,221.7312,373.8631,223.7985,379.1286,223.73,369.28\" style=\"stroke:#181818;stroke-width:1.0;\"/><text fill=\"#000000\" font-family=\"sans-serif\" font-size=\"13\" lengthAdjust=\"spacing\" textLength=\"103\" x=\"208\" y=\"412.0669\">VehicleOffSignal</text></a></g><!--MD5=[9120cf2e5df3bff93db8f754bbbc09b4]\n",
       "link E5 to E6--><g id=\"link_E5_E6\"><a href=\"psysml:234654f2-60d7-4c97-94e3-0257497b73a7\" target=\"_top\" title=\"psysml:234654f2-60d7-4c97-94e3-0257497b73a7\" xlink:actuate=\"onRequest\" xlink:href=\"psysml:234654f2-60d7-4c97-94e3-0257497b73a7\" xlink:show=\"new\" xlink:title=\"psysml:234654f2-60d7-4c97-94e3-0257497b73a7\" xlink:type=\"simple\"><path d=\"M126.21,491.12 C123.61,505.09 122.41,523.34 129,538 C133.51,548.03 141.04,556.9 149.21,564.33 \" fill=\"none\" id=\"E5-to-E6\" style=\"stroke:#181818;stroke-width:1.0;\"/><polygon fill=\"#181818\" points=\"153.26,567.86,149.1016,558.9321,149.49,564.5756,143.8465,564.964,153.26,567.86\" style=\"stroke:#181818;stroke-width:1.0;\"/><text fill=\"#000000\" font-family=\"sans-serif\" font-size=\"13\" lengthAdjust=\"spacing\" textLength=\"103\" x=\"130\" y=\"534.0669\">VehicleOffSignal</text></a></g><!--MD5=[d81f60429cc4c64a0ba7dc4d6930795a]\n",
       "@startuml\r\n",
       "skin sysmlbw\r\n",
       "skinparam monochrome true\r\n",
       "skinparam wrapWidth 300\r\n",
       "hide circle\r\n",
       "\r\n",
       "package \"StopWatchStates\" as E1  [[psysml:396dfcb2-e2fd-43ff-b787-311eb9d557e4 ]]  {\r\n",
       "rec def \"StopWatch\" as E2  <<(T,blue) state  def>> [[psysml:ab4d7340-fc64-4b5a-b424-11f625c927be ]] {\r\n",
       "rec usage \"ready\" as E3  <<(T,blue) state>> [[psysml:839bd457-72a7-4f66-9d44-48f03cf42ba9 ]] {\r\n",
       "}\r\n",
       "\r\n",
       "rec usage \"running\" as E4  <<(T,blue) state>> [[psysml:cd7cdd27-9b47-451d-bfc9-9da09024b873 ]] {\r\n",
       "}\r\n",
       "\r\n",
       "rec usage \"paused\" as E5  <<(T,blue) state>> [[psysml:8c9f4741-eb90-42c2-9a1c-13721a199034 ]] {\r\n",
       "}\r\n",
       "\r\n",
       "rec usage \"stopped\" as E6  <<(T,blue) state>> [[psysml:c627a1b5-f21a-4879-9e5d-3501c5481200 ]] {\r\n",
       "}\r\n",
       "\r\n",
       "desc \"StopWatch\" as E2  : **entry** \r\n",
       "[*] - -> E3 [[psysml:7240f4af-04f6-40b4-8404-51aeb19632d6 ]] \r\n",
       "E6 - -> [*] [[psysml:149880ea-a725-459f-9a01-1e633bc1b8fd ]] : VehicleOffSignal \r\n",
       "}\r\n",
       "\r\n",
       "}\r\n",
       "E3  - -> E4 [[psysml:e07a0320-648f-4bbb-8bbb-fc2586b2429d ]] : VehicleStartSignal \r\n",
       "E4  - -> E6 [[psysml:05c3b2a9-29a6-45e0-9ead-43f446021821 ]] : VehicleOnSignal \r\n",
       "E4  - -> E5 [[psysml:8ee79dd2-e9ae-44ff-8201-4f163624f739 ]] : VehicleOffSignal \r\n",
       "E5  - -> E4 [[psysml:8fd4ac0d-4e68-4834-a110-40614ddf7e95 ]] : VehicleOffSignal \r\n",
       "E5  - -> E6 [[psysml:234654f2-60d7-4c97-94e3-0257497b73a7 ]] : VehicleOffSignal \r\n",
       "@enduml\r\n",
       "\n",
       "PlantUML version 1.2022.7(Mon Aug 22 17:01:30 UTC 2022)\n",
       "(EPL source distribution)\n",
       "Java Runtime: OpenJDK Runtime Environment\n",
       "JVM: OpenJDK 64-Bit Server VM\n",
       "Default Encoding: UTF-8\n",
       "Language: en\n",
       "Country: null\n",
       "--></g></svg>"
      ]
     },
     "execution_count": 2,
     "metadata": {},
     "output_type": "execute_result"
    }
   ],
   "source": [
    "%viz StopWatchStates"
   ]
  },
  {
   "cell_type": "code",
   "execution_count": null,
   "id": "detailed-tiffany",
   "metadata": {},
   "outputs": [],
   "source": []
  }
 ],
 "metadata": {
  "kernelspec": {
   "display_name": "SysML",
   "language": "sysml",
   "name": "sysml"
  },
  "language_info": {
   "codemirror_mode": "sysml",
   "file_extension": ".sysml",
   "mimetype": "text/x-sysml",
   "name": "SysML",
   "pygments_lexer": "java",
   "version": "1.0.0"
  }
 },
 "nbformat": 4,
 "nbformat_minor": 5
}
