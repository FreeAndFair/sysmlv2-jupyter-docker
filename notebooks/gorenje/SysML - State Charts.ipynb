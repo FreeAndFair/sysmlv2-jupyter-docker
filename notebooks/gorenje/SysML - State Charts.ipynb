{
 "cells": [
  {
   "cell_type": "markdown",
   "id": "resistant-exchange",
   "metadata": {},
   "source": [
    "# State Charts\n",
    "\n",
    "Taken from the [SysML Google Group](https://groups.google.com/g/sysml-v2-release)."
   ]
  },
  {
   "cell_type": "code",
   "execution_count": 1,
   "id": "decent-transaction",
   "metadata": {
    "execution": {
     "iopub.execute_input": "2021-03-26T09:11:07.317308Z",
     "iopub.status.busy": "2021-03-26T09:11:07.316682Z",
     "iopub.status.idle": "2021-03-26T09:11:07.998530Z",
     "shell.execute_reply": "2021-03-26T09:11:07.997030Z"
    }
   },
   "outputs": [
    {
     "data": {
      "text/plain": [
       "Package StopWatchStates (8f20021f-3f68-4e35-a3d0-280fea035a0b)\n"
      ]
     },
     "execution_count": 1,
     "metadata": {},
     "output_type": "execute_result"
    }
   ],
   "source": [
    "package StopWatchStates {\n",
    "     state def StopWatch {\n",
    " \n",
    "          entry;\n",
    "              then ready;\n",
    "     \n",
    "          action def VehicleStartSignal;\n",
    "          action def VehicleOnSignal;\n",
    "          action def VehicleOffSignal;\n",
    "     \n",
    "          state ready;\n",
    "          \n",
    "          transition ready_to_running\n",
    "               first ready\n",
    "               accept VehicleStartSignal\n",
    "               then running;\n",
    "      \n",
    "          state running;\n",
    "      \n",
    "          transition running_to_stopped\n",
    "               first running\n",
    "               accept VehicleOnSignal\n",
    "               then stopped;\n",
    "      \n",
    "          transition running_to_paused\n",
    "               first running\n",
    "               accept VehicleOffSignal\n",
    "               then paused;\n",
    "       \n",
    "          state paused;\n",
    "\n",
    "          transition paused_to_running\n",
    "               first paused\n",
    "               accept VehicleOffSignal\n",
    "               then running;\n",
    "          transition paused_to_stop\n",
    "               first paused\n",
    "               accept VehicleOffSignal\n",
    "               then stopped;\n",
    "   \n",
    "          state stopped;\n",
    "\n",
    "          transition stopped_to_ready\n",
    "               first stopped\n",
    "               accept VehicleOffSignal\n",
    "               then done;\n",
    "       \n",
    "     }\n",
    "}\n"
   ]
  },
  {
   "cell_type": "markdown",
   "id": "innocent-headline",
   "metadata": {},
   "source": [
    "## Visualisation of Models\n",
    "\n",
    "We can now visualise our Model with the ```%viz``` command."
   ]
  },
  {
   "cell_type": "code",
   "execution_count": 2,
   "id": "formed-challenge",
   "metadata": {
    "execution": {
     "iopub.execute_input": "2021-03-26T09:11:08.050802Z",
     "iopub.status.busy": "2021-03-26T09:11:08.049729Z",
     "iopub.status.idle": "2021-03-26T09:11:08.627003Z",
     "shell.execute_reply": "2021-03-26T09:11:08.626681Z"
    }
   },
   "outputs": [
    {
     "data": {
      "image/svg+xml": [
       "<?xml version=\"1.0\" encoding=\"UTF-8\" standalone=\"no\"?><svg xmlns=\"http://www.w3.org/2000/svg\" xmlns:xlink=\"http://www.w3.org/1999/xlink\" contentScriptType=\"application/ecmascript\" contentStyleType=\"text/css\" height=\"740px\" preserveAspectRatio=\"none\" style=\"width:423px;height:740px;\" version=\"1.1\" viewBox=\"0 0 423 740\" width=\"423px\" zoomAndPan=\"magnify\"><defs/><g><!--MD5=[fbc87193dbaf4d95561dea2c320d4a47]\n",
       "cluster E1--><a href=\"psysml:c93478ee-4244-4501-b3da-d322a2f3632c\" target=\"_top\" title=\"psysml:c93478ee-4244-4501-b3da-d322a2f3632c\" xlink:actuate=\"onRequest\" xlink:href=\"psysml:c93478ee-4244-4501-b3da-d322a2f3632c\" xlink:show=\"new\" xlink:title=\"psysml:c93478ee-4244-4501-b3da-d322a2f3632c\" xlink:type=\"simple\"><polygon fill=\"#FFFFFF\" points=\"16,6,157,6,164,28.2969,388,28.2969,388,728,16,728,16,6\" style=\"stroke: #000000; stroke-width: 1.5;\"/><line style=\"stroke: #000000; stroke-width: 1.5;\" x1=\"16\" x2=\"164\" y1=\"28.2969\" y2=\"28.2969\"/><text fill=\"#000000\" font-family=\"sans-serif\" font-size=\"14\" font-weight=\"bold\" lengthAdjust=\"spacingAndGlyphs\" textLength=\"135\" x=\"20\" y=\"20.9951\">StopWatchStates</text></a><!--MD5=[e4f7fae6ed58524ba242bb0b0d3be6b7]\n",
       "cluster E2--><a href=\"psysml:b0d9b039-07d6-4003-940b-301f6f2a4609\" target=\"_top\" title=\"psysml:b0d9b039-07d6-4003-940b-301f6f2a4609\" xlink:actuate=\"onRequest\" xlink:href=\"psysml:b0d9b039-07d6-4003-940b-301f6f2a4609\" xlink:show=\"new\" xlink:title=\"psysml:b0d9b039-07d6-4003-940b-301f6f2a4609\" xlink:type=\"simple\"><rect fill=\"#FFFFFF\" height=\"655\" id=\"E2\" style=\"stroke: #383838; stroke-width: 1.5;\" width=\"324\" x=\"40\" y=\"49\"/><rect fill=\"#F8F8F8\" height=\"37.9375\" style=\"stroke: #383838; stroke-width: 1.5;\" width=\"324\" x=\"40\" y=\"49\"/><text fill=\"#000000\" font-family=\"sans-serif\" font-size=\"12\" font-style=\"italic\" lengthAdjust=\"spacingAndGlyphs\" textLength=\"71\" x=\"166.5\" y=\"65.1387\">«state def»</text><text fill=\"#000000\" font-family=\"sans-serif\" font-size=\"12\" lengthAdjust=\"spacingAndGlyphs\" textLength=\"68\" x=\"168\" y=\"79.1074\">StopWatch</text><line style=\"stroke: #383838; stroke-width: 1.0;\" x1=\"40\" x2=\"364\" y1=\"104.9063\" y2=\"104.9063\"/><text fill=\"#000000\" font-family=\"sans-serif\" font-size=\"12\" font-weight=\"bold\" lengthAdjust=\"spacingAndGlyphs\" textLength=\"38\" x=\"45\" y=\"100.0762\">entry</text><text fill=\"#000000\" font-family=\"sans-serif\" font-size=\"12\" lengthAdjust=\"spacingAndGlyphs\" textLength=\"4\" x=\"83\" y=\"100.0762\">/</text></a><ellipse cx=\"229\" cy=\"129\" fill=\"#000000\" rx=\"10\" ry=\"10\" style=\"stroke: none; stroke-width: 1.0;\"/><ellipse cx=\"187\" cy=\"678\" fill=\"none\" rx=\"10\" ry=\"10\" style=\"stroke: #000000; stroke-width: 1.0;\"/><ellipse cx=\"187.5\" cy=\"678.5\" fill=\"#000000\" rx=\"6\" ry=\"6\" style=\"stroke: none; stroke-width: 1.0;\"/><g id=\"E1.E2.E3\"><a href=\"psysml:818e116f-d24a-4320-be6d-7f7ffd26a6fe\" target=\"_top\" title=\"psysml:818e116f-d24a-4320-be6d-7f7ffd26a6fe\" xlink:actuate=\"onRequest\" xlink:href=\"psysml:818e116f-d24a-4320-be6d-7f7ffd26a6fe\" xlink:show=\"new\" xlink:title=\"psysml:818e116f-d24a-4320-be6d-7f7ffd26a6fe\" xlink:type=\"simple\"><rect fill=\"#FFFFFF\" height=\"40\" id=\"E3\" rx=\"10\" ry=\"10\" style=\"stroke: #383838; stroke-width: 1.5;\" width=\"50\" x=\"204\" y=\"200\"/><rect fill=\"#F8F8F8\" height=\"23.9688\" rx=\"10\" ry=\"10\" style=\"stroke: #F8F8F8; stroke-width: 1.5;\" width=\"50\" x=\"204\" y=\"200\"/><rect fill=\"#F8F8F8\" height=\"10\" style=\"stroke: #F8F8F8; stroke-width: 1.5;\" width=\"50\" x=\"204\" y=\"213.9688\"/><rect fill=\"none\" height=\"40\" id=\"E3\" rx=\"10\" ry=\"10\" style=\"stroke: #383838; stroke-width: 1.5;\" width=\"50\" x=\"204\" y=\"200\"/><text fill=\"#000000\" font-family=\"sans-serif\" font-size=\"12\" lengthAdjust=\"spacingAndGlyphs\" textLength=\"35\" x=\"211.5\" y=\"216.1387\">ready</text></a></g><g id=\"E1.E2.E4\"><a href=\"psysml:a16c9ab3-ad5b-44ac-9471-6adc757582db\" target=\"_top\" title=\"psysml:a16c9ab3-ad5b-44ac-9471-6adc757582db\" xlink:actuate=\"onRequest\" xlink:href=\"psysml:a16c9ab3-ad5b-44ac-9471-6adc757582db\" xlink:show=\"new\" xlink:title=\"psysml:a16c9ab3-ad5b-44ac-9471-6adc757582db\" xlink:type=\"simple\"><rect fill=\"#FFFFFF\" height=\"40\" id=\"E4\" rx=\"10\" ry=\"10\" style=\"stroke: #383838; stroke-width: 1.5;\" width=\"59\" x=\"202.5\" y=\"317\"/><rect fill=\"#F8F8F8\" height=\"23.9688\" rx=\"10\" ry=\"10\" style=\"stroke: #F8F8F8; stroke-width: 1.5;\" width=\"59\" x=\"202.5\" y=\"317\"/><rect fill=\"#F8F8F8\" height=\"10\" style=\"stroke: #F8F8F8; stroke-width: 1.5;\" width=\"59\" x=\"202.5\" y=\"330.9688\"/><rect fill=\"none\" height=\"40\" id=\"E4\" rx=\"10\" ry=\"10\" style=\"stroke: #383838; stroke-width: 1.5;\" width=\"59\" x=\"202.5\" y=\"317\"/><text fill=\"#000000\" font-family=\"sans-serif\" font-size=\"12\" lengthAdjust=\"spacingAndGlyphs\" textLength=\"48\" x=\"208\" y=\"333.1387\">running</text></a></g><g id=\"E1.E2.E5\"><a href=\"psysml:07491a71-321b-480d-8205-52cbdbf3be89\" target=\"_top\" title=\"psysml:07491a71-321b-480d-8205-52cbdbf3be89\" xlink:actuate=\"onRequest\" xlink:href=\"psysml:07491a71-321b-480d-8205-52cbdbf3be89\" xlink:show=\"new\" xlink:title=\"psysml:07491a71-321b-480d-8205-52cbdbf3be89\" xlink:type=\"simple\"><rect fill=\"#FFFFFF\" height=\"40\" id=\"E5\" rx=\"10\" ry=\"10\" style=\"stroke: #383838; stroke-width: 1.5;\" width=\"58\" x=\"103\" y=\"434\"/><rect fill=\"#F8F8F8\" height=\"23.9688\" rx=\"10\" ry=\"10\" style=\"stroke: #F8F8F8; stroke-width: 1.5;\" width=\"58\" x=\"103\" y=\"434\"/><rect fill=\"#F8F8F8\" height=\"10\" style=\"stroke: #F8F8F8; stroke-width: 1.5;\" width=\"58\" x=\"103\" y=\"447.9688\"/><rect fill=\"none\" height=\"40\" id=\"E5\" rx=\"10\" ry=\"10\" style=\"stroke: #383838; stroke-width: 1.5;\" width=\"58\" x=\"103\" y=\"434\"/><text fill=\"#000000\" font-family=\"sans-serif\" font-size=\"12\" lengthAdjust=\"spacingAndGlyphs\" textLength=\"47\" x=\"108.5\" y=\"450.1387\">paused</text></a></g><g id=\"E1.E2.E6\"><a href=\"psysml:c1044525-05f3-4130-91cc-742d745c0c81\" target=\"_top\" title=\"psysml:c1044525-05f3-4130-91cc-742d745c0c81\" xlink:actuate=\"onRequest\" xlink:href=\"psysml:c1044525-05f3-4130-91cc-742d745c0c81\" xlink:show=\"new\" xlink:title=\"psysml:c1044525-05f3-4130-91cc-742d745c0c81\" xlink:type=\"simple\"><rect fill=\"#FFFFFF\" height=\"40\" id=\"E6\" rx=\"10\" ry=\"10\" style=\"stroke: #383838; stroke-width: 1.5;\" width=\"63\" x=\"155.5\" y=\"551\"/><rect fill=\"#F8F8F8\" height=\"23.9688\" rx=\"10\" ry=\"10\" style=\"stroke: #F8F8F8; stroke-width: 1.5;\" width=\"63\" x=\"155.5\" y=\"551\"/><rect fill=\"#F8F8F8\" height=\"10\" style=\"stroke: #F8F8F8; stroke-width: 1.5;\" width=\"63\" x=\"155.5\" y=\"564.9688\"/><rect fill=\"none\" height=\"40\" id=\"E6\" rx=\"10\" ry=\"10\" style=\"stroke: #383838; stroke-width: 1.5;\" width=\"63\" x=\"155.5\" y=\"551\"/><text fill=\"#000000\" font-family=\"sans-serif\" font-size=\"12\" lengthAdjust=\"spacingAndGlyphs\" textLength=\"52\" x=\"161\" y=\"567.1387\">stopped</text></a></g><!--MD5=[5784957ad6aba600e50c0683d06dcc69]\n",
       "link *start*E2 to E3--><a href=\"psysml:e2d41e83-92d1-465a-ada5-b23943ef7979\" target=\"_top\" title=\"psysml:e2d41e83-92d1-465a-ada5-b23943ef7979\" xlink:actuate=\"onRequest\" xlink:href=\"psysml:e2d41e83-92d1-465a-ada5-b23943ef7979\" xlink:show=\"new\" xlink:title=\"psysml:e2d41e83-92d1-465a-ada5-b23943ef7979\" xlink:type=\"simple\"><path d=\"M229,139.19 C229,152.18 229,176.38 229,194.73 \" fill=\"none\" id=\"*start*E2-&gt;E3\" style=\"stroke: #383838; stroke-width: 1.0;\"/><polygon fill=\"#383838\" points=\"229,199.74,233,190.74,229,194.74,225,190.74,229,199.74\" style=\"stroke: #383838; stroke-width: 1.0;\"/></a><!--MD5=[d3baace2f756416d26e3c44cccd96611]\n",
       "link E6 to *end*E2--><a href=\"psysml:8528f974-ce34-4b93-8cb3-7dd3137bc256\" target=\"_top\" title=\"psysml:8528f974-ce34-4b93-8cb3-7dd3137bc256\" xlink:actuate=\"onRequest\" xlink:href=\"psysml:8528f974-ce34-4b93-8cb3-7dd3137bc256\" xlink:show=\"new\" xlink:title=\"psysml:8528f974-ce34-4b93-8cb3-7dd3137bc256\" xlink:type=\"simple\"><path d=\"M187,591.26 C187,611.86 187,644.07 187,662.59 \" fill=\"none\" id=\"E6-&gt;*end*E2\" style=\"stroke: #383838; stroke-width: 1.0;\"/><polygon fill=\"#383838\" points=\"187,667.87,191,658.87,187,662.87,183,658.87,187,667.87\" style=\"stroke: #383838; stroke-width: 1.0;\"/><text fill=\"#000000\" font-family=\"sans-serif\" font-size=\"13\" lengthAdjust=\"spacingAndGlyphs\" textLength=\"103\" x=\"188\" y=\"634.0669\">VehicleOffSignal</text></a><!--MD5=[af87c684e3b0d8be13c1a698a818ef1e]\n",
       "link E3 to E4--><a href=\"psysml:dd0fcf12-174a-48a4-a881-40f0c3639894\" target=\"_top\" title=\"psysml:dd0fcf12-174a-48a4-a881-40f0c3639894\" xlink:actuate=\"onRequest\" xlink:href=\"psysml:dd0fcf12-174a-48a4-a881-40f0c3639894\" xlink:show=\"new\" xlink:title=\"psysml:dd0fcf12-174a-48a4-a881-40f0c3639894\" xlink:type=\"simple\"><path d=\"M229.5,240.25 C230.01,259.82 230.81,290.21 231.36,311.49 \" fill=\"none\" id=\"E3-&gt;E4\" style=\"stroke: #383838; stroke-width: 1.0;\"/><polygon fill=\"#383838\" points=\"231.5,316.69,235.2413,307.5794,231.3572,311.692,227.2446,307.8079,231.5,316.69\" style=\"stroke: #383838; stroke-width: 1.0;\"/><text fill=\"#000000\" font-family=\"sans-serif\" font-size=\"13\" lengthAdjust=\"spacingAndGlyphs\" textLength=\"117\" x=\"231\" y=\"283.0669\">VehicleStartSignal</text></a><!--MD5=[79568f1e445c3877b6a54524624ccc7d]\n",
       "link E4 to E6--><a href=\"psysml:b68341b8-6bcf-4c1f-85a9-db7dd7e7607b\" target=\"_top\" title=\"psysml:b68341b8-6bcf-4c1f-85a9-db7dd7e7607b\" xlink:actuate=\"onRequest\" xlink:href=\"psysml:b68341b8-6bcf-4c1f-85a9-db7dd7e7607b\" xlink:show=\"new\" xlink:title=\"psysml:b68341b8-6bcf-4c1f-85a9-db7dd7e7607b\" xlink:type=\"simple\"><path d=\"M261.66,345.71 C291.12,355.2 330.61,373.85 321,404 C301.71,464.53 248.11,518.47 214.84,547.48 \" fill=\"none\" id=\"E4-&gt;E6\" style=\"stroke: #383838; stroke-width: 1.0;\"/><polygon fill=\"#383838\" points=\"210.89,550.89,220.315,548.0319,214.6732,547.6208,215.0843,541.9789,210.89,550.89\" style=\"stroke: #383838; stroke-width: 1.0;\"/><text fill=\"#000000\" font-family=\"sans-serif\" font-size=\"13\" lengthAdjust=\"spacingAndGlyphs\" textLength=\"103\" x=\"308\" y=\"458.5669\">VehicleOnSignal</text></a><!--MD5=[1b7591eae5389033d8d09a9d6721a717]\n",
       "link E4 to E5--><a href=\"psysml:3fff8512-8174-463e-9e0e-44d9c09a667f\" target=\"_top\" title=\"psysml:3fff8512-8174-463e-9e0e-44d9c09a667f\" xlink:actuate=\"onRequest\" xlink:href=\"psysml:3fff8512-8174-463e-9e0e-44d9c09a667f\" xlink:show=\"new\" xlink:title=\"psysml:3fff8512-8174-463e-9e0e-44d9c09a667f\" xlink:type=\"simple\"><path d=\"M202.41,338.56 C168.42,340.98 113.98,350.71 88,387 C77.81,401.23 88.58,417.59 102,430.46 \" fill=\"none\" id=\"E4-&gt;E5\" style=\"stroke: #383838; stroke-width: 1.0;\"/><polygon fill=\"#383838\" points=\"105.85,434,101.928,424.9657,102.1678,430.6175,96.516,430.8573,105.85,434\" style=\"stroke: #383838; stroke-width: 1.0;\"/><text fill=\"#000000\" font-family=\"sans-serif\" font-size=\"13\" lengthAdjust=\"spacingAndGlyphs\" textLength=\"103\" x=\"89\" y=\"400.0669\">VehicleOffSignal</text></a><!--MD5=[1c62de2aa5b76f0fb657ff8443a1a700]\n",
       "link E5 to E4--><a href=\"psysml:93ab8d38-3aef-4ccc-bbf9-8eeb2cb8c5fc\" target=\"_top\" title=\"psysml:93ab8d38-3aef-4ccc-bbf9-8eeb2cb8c5fc\" xlink:actuate=\"onRequest\" xlink:href=\"psysml:93ab8d38-3aef-4ccc-bbf9-8eeb2cb8c5fc\" xlink:show=\"new\" xlink:title=\"psysml:93ab8d38-3aef-4ccc-bbf9-8eeb2cb8c5fc\" xlink:type=\"simple\"><path d=\"M161.14,435.13 C173.25,426.73 186.82,415.93 197,404 C207.64,391.52 216.31,375.26 222.36,362.01 \" fill=\"none\" id=\"E5-&gt;E4\" style=\"stroke: #383838; stroke-width: 1.0;\"/><polygon fill=\"#383838\" points=\"224.47,357.27,217.1633,363.874,222.442,361.8402,224.4757,367.1189,224.47,357.27\" style=\"stroke: #383838; stroke-width: 1.0;\"/><text fill=\"#000000\" font-family=\"sans-serif\" font-size=\"13\" lengthAdjust=\"spacingAndGlyphs\" textLength=\"103\" x=\"209\" y=\"400.0669\">VehicleOffSignal</text></a><!--MD5=[9120cf2e5df3bff93db8f754bbbc09b4]\n",
       "link E5 to E6--><a href=\"psysml:eff464e2-3f30-4638-a4f5-2fce5568f3dd\" target=\"_top\" title=\"psysml:eff464e2-3f30-4638-a4f5-2fce5568f3dd\" xlink:actuate=\"onRequest\" xlink:href=\"psysml:eff464e2-3f30-4638-a4f5-2fce5568f3dd\" xlink:show=\"new\" xlink:title=\"psysml:eff464e2-3f30-4638-a4f5-2fce5568f3dd\" xlink:type=\"simple\"><path d=\"M126.6,474.11 C123.79,487.8 122.19,506.33 129,521 C133.87,531.48 142.2,540.53 151.06,547.9 \" fill=\"none\" id=\"E5-&gt;E6\" style=\"stroke: #383838; stroke-width: 1.0;\"/><polygon fill=\"#383838\" points=\"155.43,551.38,150.8931,542.6383,151.5229,548.26,145.9012,548.8897,155.43,551.38\" style=\"stroke: #383838; stroke-width: 1.0;\"/><text fill=\"#000000\" font-family=\"sans-serif\" font-size=\"13\" lengthAdjust=\"spacingAndGlyphs\" textLength=\"103\" x=\"130\" y=\"517.0669\">VehicleOffSignal</text></a><!--MD5=[d34c0f322b4db9475f249a7b3b8941c4]\n",
       "@startuml\r\n",
       "skinparam monochrome true\r\n",
       "skinparam classbackgroundcolor white\r\n",
       "skinparam shadowing false\r\n",
       "skinparam wrapWidth 300\r\n",
       "hide circle\r\n",
       "\r\n",
       "package \"StopWatchStates\" as E1  [[psysml:c93478ee-4244-4501-b3da-d322a2f3632c ]]  {\r\n",
       "rec def \"StopWatch\" as E2  <<(T,blue)state def>> [[psysml:b0d9b039-07d6-4003-940b-301f6f2a4609 ]] {\r\n",
       "rec usage \"ready\" as E3 [[psysml:818e116f-d24a-4320-be6d-7f7ffd26a6fe ]] {\r\n",
       "}\r\n",
       "\r\n",
       "rec usage \"running\" as E4 [[psysml:a16c9ab3-ad5b-44ac-9471-6adc757582db ]] {\r\n",
       "}\r\n",
       "\r\n",
       "rec usage \"paused\" as E5 [[psysml:07491a71-321b-480d-8205-52cbdbf3be89 ]] {\r\n",
       "}\r\n",
       "\r\n",
       "rec usage \"stopped\" as E6 [[psysml:c1044525-05f3-4130-91cc-742d745c0c81 ]] {\r\n",
       "}\r\n",
       "\r\n",
       "[*] - -> E3 [[psysml:e2d41e83-92d1-465a-ada5-b23943ef7979 ]] \r\n",
       "E6  - -> [*] [[psysml:8528f974-ce34-4b93-8cb3-7dd3137bc256 ]] : VehicleOffSignal \r\n",
       "desc \"StopWatch\" as E2  : **entry**/ \r\n",
       "}\r\n",
       "\r\n",
       "E3  - -> E4 [[psysml:dd0fcf12-174a-48a4-a881-40f0c3639894 ]] : VehicleStartSignal \r\n",
       "E4  - -> E6 [[psysml:b68341b8-6bcf-4c1f-85a9-db7dd7e7607b ]] : VehicleOnSignal \r\n",
       "E4  - -> E5 [[psysml:3fff8512-8174-463e-9e0e-44d9c09a667f ]] : VehicleOffSignal \r\n",
       "E5  - -> E4 [[psysml:93ab8d38-3aef-4ccc-bbf9-8eeb2cb8c5fc ]] : VehicleOffSignal \r\n",
       "E5  - -> E6 [[psysml:eff464e2-3f30-4638-a4f5-2fce5568f3dd ]] : VehicleOffSignal \r\n",
       "}\r\n",
       "@enduml\r\n",
       "\n",
       "PlantUML version 1.2020.13(Sat Jun 13 12:26:38 UTC 2020)\n",
       "(EPL source distribution)\n",
       "Java Runtime: OpenJDK Runtime Environment\n",
       "JVM: OpenJDK 64-Bit Server VM\n",
       "Default Encoding: UTF-8\n",
       "Language: en\n",
       "Country: null\n",
       "--></g></svg>"
      ]
     },
     "execution_count": 2,
     "metadata": {},
     "output_type": "execute_result"
    }
   ],
   "source": [
    "%viz StopWatchStates"
   ]
  },
  {
   "cell_type": "code",
   "execution_count": null,
   "id": "detailed-tiffany",
   "metadata": {},
   "outputs": [],
   "source": []
  }
 ],
 "metadata": {
  "kernelspec": {
   "display_name": "SysML",
   "language": "sysml",
   "name": "sysml"
  },
  "language_info": {
   "codemirror_mode": "sysml",
   "file_extension": ".sysml",
   "mimetype": "text/x-sysml",
   "name": "SysML",
   "pygments_lexer": "java",
   "version": "1.0.0"
  }
 },
 "nbformat": 4,
 "nbformat_minor": 5
}
