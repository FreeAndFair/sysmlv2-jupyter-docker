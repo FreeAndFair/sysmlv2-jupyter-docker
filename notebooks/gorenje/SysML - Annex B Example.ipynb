{
 "cells": [
  {
   "cell_type": "markdown",
   "id": "3efac1e4",
   "metadata": {},
   "source": [
    "# SysML v2 Specs Annex B: Example Model\n",
    "\n",
    "Taken from the [SysML v2 Specifications](/files/doc/2-OMG_Systems_Modeling_Language_(SysML).pdf).\n"
   ]
  },
  {
   "cell_type": "code",
   "execution_count": 1,
   "id": "0a4e5b7d",
   "metadata": {
    "execution": {
     "iopub.execute_input": "2024-12-16T03:22:40.243930Z",
     "iopub.status.busy": "2024-12-16T03:22:40.240211Z",
     "iopub.status.idle": "2024-12-16T03:22:40.919085Z",
     "shell.execute_reply": "2024-12-16T03:22:40.916469Z"
    }
   },
   "outputs": [
    {
     "name": "stderr",
     "output_type": "stream",
     "text": [
      "ERROR:no viable alternative at input 'to' (1.sysml line : 1 column : 6)\n"
     ]
    },
    {
     "name": "stderr",
     "output_type": "stream",
     "text": [
      "ERROR:no viable alternative at input 'Search' (1.sysml line : 2 column : 1)\n"
     ]
    },
    {
     "name": "stderr",
     "output_type": "stream",
     "text": [
      "ERROR:no viable alternative at input 'or' (1.sysml line : 2 column : 8)\n"
     ]
    },
    {
     "name": "stderr",
     "output_type": "stream",
     "text": [
      "ERROR:no viable alternative at input 'to' (1.sysml line : 2 column : 16)\n"
     ]
    },
    {
     "name": "stderr",
     "output_type": "stream",
     "text": [
      "ERROR:no viable alternative at character '…' (1.sysml line : 2 column : 18)\n"
     ]
    },
    {
     "name": "stderr",
     "output_type": "stream",
     "text": [
      "ERROR:no viable alternative at input 'requests' (1.sysml line : 4 column : 6)\n"
     ]
    },
    {
     "name": "stderr",
     "output_type": "stream",
     "text": [
      "ERROR:no viable alternative at input 'Issues' (1.sysml line : 5 column : 1)\n"
     ]
    },
    {
     "name": "stderr",
     "output_type": "stream",
     "text": [
      "ERROR:no viable alternative at input 'Marketplace' (1.sysml line : 6 column : 1)\n"
     ]
    },
    {
     "name": "stderr",
     "output_type": "stream",
     "text": [
      "ERROR:no viable alternative at input 'Explore' (1.sysml line : 7 column : 1)\n"
     ]
    },
    {
     "name": "stderr",
     "output_type": "stream",
     "text": [
      "ERROR:no viable alternative at input '@' (1.sysml line : 9 column : 1)\n"
     ]
    },
    {
     "name": "stderr",
     "output_type": "stream",
     "text": [
      "ERROR:no viable alternative at input 'Learn' (1.sysml line : 10 column : 1)\n"
     ]
    },
    {
     "name": "stderr",
     "output_type": "stream",
     "text": [
      "ERROR:no viable alternative at input 'Git' (1.sysml line : 10 column : 7)\n"
     ]
    },
    {
     "name": "stderr",
     "output_type": "stream",
     "text": [
      "ERROR:no viable alternative at input 'and' (1.sysml line : 10 column : 11)\n"
     ]
    },
    {
     "name": "stderr",
     "output_type": "stream",
     "text": [
      "ERROR:no viable alternative at input 'without' (1.sysml line : 10 column : 22)\n"
     ]
    },
    {
     "name": "stderr",
     "output_type": "stream",
     "text": [
      "ERROR:no viable alternative at input 'any' (1.sysml line : 10 column : 30)\n"
     ]
    },
    {
     "name": "stderr",
     "output_type": "stream",
     "text": [
      "ERROR:no viable alternative at input 'code' (1.sysml line : 10 column : 34)\n"
     ]
    },
    {
     "name": "stderr",
     "output_type": "stream",
     "text": [
      "ERROR:no viable alternative at character '\\n' (1.sysml line : 10 column : 38)\n"
     ]
    },
    {
     "name": "stderr",
     "output_type": "stream",
     "text": [
      "ERROR:no viable alternative at input 'Using' (1.sysml line : 11 column : 1)\n"
     ]
    },
    {
     "name": "stderr",
     "output_type": "stream",
     "text": [
      "ERROR:no viable alternative at input 'the' (1.sysml line : 11 column : 7)\n"
     ]
    },
    {
     "name": "stderr",
     "output_type": "stream",
     "text": [
      "ERROR:no viable alternative at input 'Hello' (1.sysml line : 11 column : 11)\n"
     ]
    },
    {
     "name": "stderr",
     "output_type": "stream",
     "text": [
      "ERROR:no viable alternative at input 'World' (1.sysml line : 11 column : 17)\n"
     ]
    },
    {
     "name": "stderr",
     "output_type": "stream",
     "text": [
      "ERROR:no viable alternative at input 'guide' (1.sysml line : 11 column : 23)\n"
     ]
    },
    {
     "name": "stderr",
     "output_type": "stream",
     "text": [
      "ERROR:no viable alternative at input ',' (1.sysml line : 11 column : 28)\n"
     ]
    },
    {
     "name": "stderr",
     "output_type": "stream",
     "text": [
      "ERROR:no viable alternative at character '’' (1.sysml line : 11 column : 33)\n"
     ]
    },
    {
     "name": "stderr",
     "output_type": "stream",
     "text": [
      "ERROR:no viable alternative at input 'll' (1.sysml line : 11 column : 34)\n"
     ]
    },
    {
     "name": "stderr",
     "output_type": "stream",
     "text": [
      "ERROR:no viable alternative at input 'start' (1.sysml line : 11 column : 37)\n"
     ]
    },
    {
     "name": "stderr",
     "output_type": "stream",
     "text": [
      "ERROR:no viable alternative at input 'a' (1.sysml line : 11 column : 43)\n"
     ]
    },
    {
     "name": "stderr",
     "output_type": "stream",
     "text": [
      "ERROR:no viable alternative at input 'branch' (1.sysml line : 11 column : 45)\n"
     ]
    },
    {
     "name": "stderr",
     "output_type": "stream",
     "text": [
      "ERROR:no viable alternative at input ',' (1.sysml line : 11 column : 51)\n"
     ]
    },
    {
     "name": "stderr",
     "output_type": "stream",
     "text": [
      "ERROR:no viable alternative at input 'comments' (1.sysml line : 11 column : 59)\n"
     ]
    },
    {
     "name": "stderr",
     "output_type": "stream",
     "text": [
      "ERROR:no viable alternative at input ',' (1.sysml line : 11 column : 67)\n"
     ]
    },
    {
     "name": "stderr",
     "output_type": "stream",
     "text": [
      "ERROR:no viable alternative at input 'a' (1.sysml line : 11 column : 78)\n"
     ]
    },
    {
     "name": "stderr",
     "output_type": "stream",
     "text": [
      "ERROR:no viable alternative at input 'pull' (1.sysml line : 11 column : 80)\n"
     ]
    },
    {
     "name": "stderr",
     "output_type": "stream",
     "text": [
      "ERROR:no viable alternative at input 'request' (1.sysml line : 11 column : 85)\n"
     ]
    },
    {
     "name": "stderr",
     "output_type": "stream",
     "text": [
      "ERROR:no viable alternative at input '.' (1.sysml line : 11 column : 92)\n"
     ]
    },
    {
     "name": "stderr",
     "output_type": "stream",
     "text": [
      "ERROR:no viable alternative at input '-' (1.sysml line : 14 column : 8)\n"
     ]
    },
    {
     "name": "stderr",
     "output_type": "stream",
     "text": [
      "ERROR:no viable alternative at input '/' (1.sysml line : 15 column : 1)\n"
     ]
    },
    {
     "name": "stderr",
     "output_type": "stream",
     "text": [
      "ERROR:no viable alternative at input '-' (1.sysml line : 16 column : 6)\n"
     ]
    },
    {
     "name": "stderr",
     "output_type": "stream",
     "text": [
      "ERROR:no viable alternative at input '-' (1.sysml line : 16 column : 9)\n"
     ]
    },
    {
     "name": "stderr",
     "output_type": "stream",
     "text": [
      "ERROR:no viable alternative at input '17' (1.sysml line : 17 column : 1)\n"
     ]
    },
    {
     "name": "stderr",
     "output_type": "stream",
     "text": [
      "ERROR:no viable alternative at input 'Issues' (1.sysml line : 21 column : 1)\n"
     ]
    },
    {
     "name": "stderr",
     "output_type": "stream",
     "text": [
      "ERROR:no viable alternative at input 'Pull' (1.sysml line : 22 column : 1)\n"
     ]
    },
    {
     "name": "stderr",
     "output_type": "stream",
     "text": [
      "ERROR:no viable alternative at input 'requests' (1.sysml line : 22 column : 6)\n"
     ]
    },
    {
     "name": "stderr",
     "output_type": "stream",
     "text": [
      "ERROR:no viable alternative at input 'Actions' (1.sysml line : 23 column : 1)\n"
     ]
    },
    {
     "name": "stderr",
     "output_type": "stream",
     "text": [
      "ERROR:no viable alternative at input 'Projects' (1.sysml line : 24 column : 1)\n"
     ]
    },
    {
     "name": "stderr",
     "output_type": "stream",
     "text": [
      "ERROR:no viable alternative at input 'Wiki' (1.sysml line : 25 column : 1)\n"
     ]
    },
    {
     "name": "stderr",
     "output_type": "stream",
     "text": [
      "ERROR:no viable alternative at input 'Security' (1.sysml line : 26 column : 1)\n"
     ]
    },
    {
     "name": "stderr",
     "output_type": "stream",
     "text": [
      "ERROR:no viable alternative at input 'Insights' (1.sysml line : 27 column : 1)\n"
     ]
    },
    {
     "name": "stderr",
     "output_type": "stream",
     "text": [
      "ERROR:no viable alternative at input 'Settings' (1.sysml line : 28 column : 1)\n"
     ]
    },
    {
     "name": "stderr",
     "output_type": "stream",
     "text": [
      "ERROR:no viable alternative at input 'SysML' (1.sysml line : 29 column : 1)\n"
     ]
    },
    {
     "name": "stderr",
     "output_type": "stream",
     "text": [
      "ERROR:no viable alternative at input '-' (1.sysml line : 29 column : 6)\n"
     ]
    },
    {
     "name": "stderr",
     "output_type": "stream",
     "text": [
      "ERROR:no viable alternative at input '-' (1.sysml line : 29 column : 9)\n"
     ]
    },
    {
     "name": "stderr",
     "output_type": "stream",
     "text": [
      "ERROR:no viable alternative at input '/' (1.sysml line : 29 column : 17)\n"
     ]
    },
    {
     "name": "stderr",
     "output_type": "stream",
     "text": [
      "ERROR:no viable alternative at input '/' (1.sysml line : 29 column : 23)\n"
     ]
    },
    {
     "name": "stderr",
     "output_type": "stream",
     "text": [
      "ERROR:no viable alternative at input '/' (1.sysml line : 29 column : 27)\n"
     ]
    },
    {
     "name": "stderr",
     "output_type": "stream",
     "text": [
      "ERROR:no viable alternative at input '/' (1.sysml line : 29 column : 36)\n"
     ]
    },
    {
     "name": "stderr",
     "output_type": "stream",
     "text": [
      "ERROR:no viable alternative at input 'Example' (1.sysml line : 29 column : 45)\n"
     ]
    },
    {
     "name": "stderr",
     "output_type": "stream",
     "text": [
      "ERROR:no viable alternative at input '/' (1.sysml line : 29 column : 52)\n"
     ]
    },
    {
     "name": "stderr",
     "output_type": "stream",
     "text": [
      "ERROR:no viable alternative at input 'v2' (1.sysml line : 29 column : 59)\n"
     ]
    },
    {
     "name": "stderr",
     "output_type": "stream",
     "text": [
      "ERROR:no viable alternative at input 'Spec' (1.sysml line : 29 column : 62)\n"
     ]
    },
    {
     "name": "stderr",
     "output_type": "stream",
     "text": [
      "ERROR:no viable alternative at input 'Annex' (1.sysml line : 29 column : 67)\n"
     ]
    },
    {
     "name": "stderr",
     "output_type": "stream",
     "text": [
      "ERROR:no viable alternative at input 'B' (1.sysml line : 29 column : 73)\n"
     ]
    },
    {
     "name": "stderr",
     "output_type": "stream",
     "text": [
      "ERROR:no viable alternative at input 'VehicleModel' (1.sysml line : 29 column : 75)\n"
     ]
    },
    {
     "name": "stderr",
     "output_type": "stream",
     "text": [
      "ERROR:no viable alternative at input '.' (1.sysml line : 29 column : 87)\n"
     ]
    },
    {
     "name": "stderr",
     "output_type": "stream",
     "text": [
      "ERROR:no viable alternative at input '@' (1.sysml line : 30 column : 1)\n"
     ]
    },
    {
     "name": "stderr",
     "output_type": "stream",
     "text": [
      "ERROR:no viable alternative at input 'seidewitz' (1.sysml line : 31 column : 1)\n"
     ]
    },
    {
     "name": "stderr",
     "output_type": "stream",
     "text": [
      "ERROR:no viable alternative at input 'Added' (1.sysml line : 31 column : 11)\n"
     ]
    },
    {
     "name": "stderr",
     "output_type": "stream",
     "text": [
      "ERROR:no viable alternative at input 'Annex' (1.sysml line : 31 column : 17)\n"
     ]
    },
    {
     "name": "stderr",
     "output_type": "stream",
     "text": [
      "ERROR:no viable alternative at input 'B' (1.sysml line : 31 column : 23)\n"
     ]
    },
    {
     "name": "stderr",
     "output_type": "stream",
     "text": [
      "ERROR:no viable alternative at input 'VehicleModel' (1.sysml line : 31 column : 25)\n"
     ]
    },
    {
     "name": "stderr",
     "output_type": "stream",
     "text": [
      "ERROR:no viable alternative at input 'to' (1.sysml line : 31 column : 38)\n"
     ]
    },
    {
     "name": "stderr",
     "output_type": "stream",
     "text": [
      "ERROR:no viable alternative at input 'Vehicle' (1.sysml line : 31 column : 47)\n"
     ]
    },
    {
     "name": "stderr",
     "output_type": "stream",
     "text": [
      "ERROR:no viable alternative at input 'Example' (1.sysml line : 31 column : 55)\n"
     ]
    },
    {
     "name": "stderr",
     "output_type": "stream",
     "text": [
      "ERROR:no viable alternative at input 'directory' (1.sysml line : 31 column : 63)\n"
     ]
    },
    {
     "name": "stderr",
     "output_type": "stream",
     "text": [
      "ERROR:no viable alternative at input '.' (1.sysml line : 31 column : 72)\n"
     ]
    },
    {
     "name": "stderr",
     "output_type": "stream",
     "text": [
      "ERROR:no viable alternative at input 'commit' (1.sysml line : 32 column : 8)\n"
     ]
    },
    {
     "name": "stderr",
     "output_type": "stream",
     "text": [
      "ERROR:no viable alternative at input '682' (1.sysml line : 32 column : 15)\n"
     ]
    },
    {
     "name": "stderr",
     "output_type": "stream",
     "text": [
      "ERROR:no viable alternative at input '15' (1.sysml line : 32 column : 23)\n"
     ]
    },
    {
     "name": "stderr",
     "output_type": "stream",
     "text": [
      "ERROR:no viable alternative at input 'ago' (1.sysml line : 32 column : 34)\n"
     ]
    },
    {
     "name": "stderr",
     "output_type": "stream",
     "text": [
      "ERROR:no viable alternative at input 'History' (1.sysml line : 33 column : 2)\n"
     ]
    },
    {
     "name": "stderr",
     "output_type": "stream",
     "text": [
      "ERROR:no viable alternative at input '1' (1.sysml line : 34 column : 2)\n"
     ]
    },
    {
     "name": "stderr",
     "output_type": "stream",
     "text": [
      "ERROR:no viable alternative at input '597' (1.sysml line : 35 column : 1)\n"
     ]
    },
    {
     "name": "stderr",
     "output_type": "stream",
     "text": [
      "ERROR:no viable alternative at input '(' (1.sysml line : 35 column : 11)\n"
     ]
    },
    {
     "name": "stderr",
     "output_type": "stream",
     "text": [
      "ERROR:no viable alternative at input ')' (1.sysml line : 35 column : 20)\n"
     ]
    },
    {
     "name": "stderr",
     "output_type": "stream",
     "text": [
      "ERROR:no viable alternative at input 'package' (1.sysml line : 37 column : 1)\n"
     ]
    },
    {
     "name": "stderr",
     "output_type": "stream",
     "text": [
      "ERROR:mismatched input 'import' expecting '}' (1.sysml line : 38 column : 5)\n"
     ]
    },
    {
     "name": "stderr",
     "output_type": "stream",
     "text": [
      "ERROR:no viable alternative at input '::' (1.sysml line : 38 column : 23)\n"
     ]
    },
    {
     "name": "stderr",
     "output_type": "stream",
     "text": [
      "ERROR:mismatched input 'import' expecting '}' (1.sysml line : 41 column : 9)\n"
     ]
    },
    {
     "name": "stderr",
     "output_type": "stream",
     "text": [
      "ERROR:no viable alternative at input '::' (1.sysml line : 41 column : 31)\n"
     ]
    },
    {
     "name": "stderr",
     "output_type": "stream",
     "text": [
      "ERROR:no viable alternative at input '::' (1.sysml line : 42 column : 31)\n"
     ]
    },
    {
     "name": "stderr",
     "output_type": "stream",
     "text": [
      "ERROR:no viable alternative at input '::' (1.sysml line : 43 column : 31)\n"
     ]
    },
    {
     "name": "stderr",
     "output_type": "stream",
     "text": [
      "ERROR:no viable alternative at input '::' (1.sysml line : 44 column : 33)\n"
     ]
    },
    {
     "name": "stderr",
     "output_type": "stream",
     "text": [
      "ERROR:no viable alternative at input '::' (1.sysml line : 45 column : 36)\n"
     ]
    },
    {
     "name": "stderr",
     "output_type": "stream",
     "text": [
      "ERROR:no viable alternative at input '::' (1.sysml line : 46 column : 33)\n"
     ]
    },
    {
     "name": "stderr",
     "output_type": "stream",
     "text": [
      "ERROR:no viable alternative at input '::' (1.sysml line : 47 column : 32)\n"
     ]
    },
    {
     "name": "stderr",
     "output_type": "stream",
     "text": [
      "ERROR:no viable alternative at input '::' (1.sysml line : 48 column : 38)\n"
     ]
    },
    {
     "name": "stderr",
     "output_type": "stream",
     "text": [
      "ERROR:no viable alternative at input '::' (1.sysml line : 49 column : 36)\n"
     ]
    },
    {
     "name": "stderr",
     "output_type": "stream",
     "text": [
      "ERROR:no viable alternative at input '::' (1.sysml line : 50 column : 37)\n"
     ]
    },
    {
     "name": "stderr",
     "output_type": "stream",
     "text": [
      "ERROR:mismatched input 'import' expecting '}' (1.sysml line : 231 column : 13)\n"
     ]
    },
    {
     "name": "stderr",
     "output_type": "stream",
     "text": [
      "ERROR:no viable alternative at input '::' (1.sysml line : 231 column : 32)\n"
     ]
    },
    {
     "name": "stderr",
     "output_type": "stream",
     "text": [
      "ERROR:no viable alternative at input '::' (1.sysml line : 233 column : 35)\n"
     ]
    },
    {
     "name": "stderr",
     "output_type": "stream",
     "text": [
      "ERROR:no viable alternative at input '::' (1.sysml line : 234 column : 23)\n"
     ]
    },
    {
     "name": "stderr",
     "output_type": "stream",
     "text": [
      "ERROR:no viable alternative at input '::' (1.sysml line : 235 column : 22)\n"
     ]
    },
    {
     "name": "stderr",
     "output_type": "stream",
     "text": [
      "ERROR:mismatched input '::' expecting 'for' (1.sysml line : 236 column : 22)\n"
     ]
    },
    {
     "name": "stderr",
     "output_type": "stream",
     "text": [
      "ERROR:no viable alternative at input 'as' (1.sysml line : 236 column : 36)\n"
     ]
    },
    {
     "name": "stderr",
     "output_type": "stream",
     "text": [
      "ERROR:missing EOF at '}' (1.sysml line : 239 column : 9)\n"
     ]
    },
    {
     "data": {
      "text/plain": []
     },
     "execution_count": 1,
     "metadata": {},
     "output_type": "execute_result"
    }
   ],
   "source": [
    "Skip to content\n",
    "Search or jump to…\n",
    "\n",
    "Pull requests\n",
    "Issues\n",
    "Marketplace\n",
    "Explore\n",
    " \n",
    "@Weilkiti \n",
    "Learn Git and GitHub without any code!\n",
    "Using the Hello World guide, you’ll start a branch, write comments, and open a pull request.\n",
    "\n",
    "\n",
    "Systems-Modeling\n",
    "/\n",
    "SysML-v2-Release\n",
    "17\n",
    "34\n",
    "7\n",
    "Code\n",
    "Issues\n",
    "Pull requests\n",
    "Actions\n",
    "Projects\n",
    "Wiki\n",
    "Security\n",
    "Insights\n",
    "Settings\n",
    "SysML-v2-Release/sysml/src/examples/Vehicle Example/SysML v2 Spec Annex B VehicleModel.sysml\n",
    "@seidewitz\n",
    "seidewitz Added Annex B VehicleModel to SysML Vehicle Example directory.\n",
    "Latest commit 682ba1f 15 minutes ago\n",
    " History\n",
    " 1 contributor\n",
    "597 lines (596 sloc)  24.8 KB\n",
    "  \n",
    "package VehicleModel {\n",
    "    import Definitions::*;\n",
    "    package Definitions {\n",
    "        // These imports eliminate the need to import into each nested package\n",
    "        import PartDefinitions::*;\n",
    "        import PortDefinitions::*;\n",
    "        import ItemDefinitions::*;\n",
    "        import SignalDefinitions::*;\n",
    "        import InterfaceDefinitions::*;\n",
    "        import ActionDefinitions::*;\n",
    "        import StateDefinitions::*;\n",
    "        import RequirementDefinitions::*;\n",
    "        import AttributeDefinitions::*;\n",
    "        import IndividualDefinitions::*;\n",
    "        package PartDefinitions {\n",
    "            part def Vehicle {\n",
    "                attribute mass :> ISQ::mass;\n",
    "                attribute dryMass :> ISQ::mass;\n",
    "                attribute cargoMass :> ISQ::mass;\n",
    "                attribute position :> ISQ::length;\n",
    "                attribute velocity :> ISQ::speed;\n",
    "                attribute acceleration :> ISQ::acceleration;\n",
    "                attribute electricalPower :> ISQ::power;\n",
    "                attribute Tmax :> ISQ::temperature;\n",
    "                attribute maintenanceTime: Time::DateTime;\n",
    "                attribute brakePedalDepressed: Boolean;\n",
    "                port fuelCmdPort: FuelCmdPort;\n",
    "                port vehicleToRoadPort: VehicleToRoadPort;\n",
    "                perform action providePower;\n",
    "                perform action performSelfTest;\n",
    "                perform action applyParkingBrake;\n",
    "                perform action senseTemperature;\n",
    "                exhibit state vehicleStates;\n",
    "            }\n",
    "            part def Engine;\n",
    "            part def Cylinder;\n",
    "            part def Transmission;\n",
    "            part def Driveshaft;\n",
    "            part def AxleAssembly;\n",
    "            part def Axle {\n",
    "                attribute mass :> ISQ::mass;\n",
    "            }\n",
    "            part def FrontAxle :> Axle {\n",
    "                attribute steeringAngle: ScalarValues::Real;\n",
    "            }\n",
    "            part def HalfAxle;\n",
    "            part def Differential;\n",
    "            part def Wheel {\n",
    "                attribute diameter: LengthValue;\n",
    "            }\n",
    "            abstract part def Software;\n",
    "            part def VehicleSoftware :> Software;\n",
    "            part def VehicleController :> Software {\n",
    "                exhibit state controllerStates: ControllerStates;\n",
    "            }\n",
    "            part def FuelTank {\n",
    "                attribute mass :> ISQ::mass;\n",
    "                ref item fuel: Fuel {\n",
    "                    attribute redefines fuelMass;\n",
    "                }\n",
    "                attribute fuelMassMax :> ISQ::mass;\n",
    "                assert constraint {\n",
    "                    fuel::fuelMass <= fuelMassMax\n",
    "                }\n",
    "            }\n",
    "            part def Road {\n",
    "                attribute incline: Real;\n",
    "                attribute friction: Real;\n",
    "            }\n",
    "            part def VehicleRoadContext {\n",
    "                attribute time: TimeValue;\n",
    "            }\n",
    "            // Used for Specifying Context for Individuals\n",
    "            part def SpatialTemporalReference;\n",
    "            // Used for Defining Variants for Superset Model\n",
    "            part def Engine4Cyl;\n",
    "            part def Engine6Cyl;\n",
    "            part def TransmissionChoices;\n",
    "            part def TransmissionAutomatic;\n",
    "            part def TransmissionManual;\n",
    "            part def Sunroof;\n",
    "        }\n",
    "        package PortDefinitions {\n",
    "            port def FuelCmdPort {\n",
    "                in item fuelCmd: FuelCmd;\n",
    "            }\n",
    "            port def DrivePwrPort {\n",
    "                out engineTorque: Torque;\n",
    "            }\n",
    "            port def ClutchPort;\n",
    "            port def ShaftPort_a;\n",
    "            port def ShaftPort_b;\n",
    "            port def ShaftPort_c;\n",
    "            port def ShaftPort_d;\n",
    "            port def DiffPort;\n",
    "            port def AxlePort;\n",
    "            port def AxleToWheelPort;\n",
    "            port def WheelToAxlePort;\n",
    "            port def WheelToRoadPort;\n",
    "            port def VehicleToRoadPort;\n",
    "        }\n",
    "        package ItemDefinitions {\n",
    "            item def Fuel {\n",
    "                attribute fuelMass :> ISQ::mass;\n",
    "            }\n",
    "            item def FuelCmd;\n",
    "        }\n",
    "        package SignalDefinitions {\n",
    "            attribute def VehicleStartSignal;\n",
    "            attribute def VehicleOnSignal;\n",
    "            attribute def VehicleOffSignal;\n",
    "            attribute def StartSignal;\n",
    "            attribute def OffSignal;\n",
    "            attribute def OverTemp;\n",
    "            attribute def ReturnToNormal;\n",
    "            // The following are work arounds until time events and\n",
    "            // change events are available\n",
    "            attribute def 'at(vehicle::maintenanceTime)';\n",
    "            attribute def 'when(temp>vehicle::Tmax)';\n",
    "        }\n",
    "        package InterfaceDefinitions {\n",
    "            interface def EngineToTransmissionInterface {\n",
    "                end p1: DrivePwrPort;\n",
    "                end p2: ClutchPort;\n",
    "            }\n",
    "        }\n",
    "        package ActionDefinitions {\n",
    "            action def ProvidePower {\n",
    "                in item fuelCmd: FuelCmd;\n",
    "                out wheelToRoadTorque: Torque[2];\n",
    "            }\n",
    "            action def GenerateTorque {\n",
    "                in item fuelCmd: FuelCmd;\n",
    "                out engineTorque: Torque;\n",
    "            }\n",
    "            action def AmplifyTorque {\n",
    "                in engineTorque: Torque;\n",
    "                out transmissionTorque: Torque;\n",
    "            }\n",
    "            action def TransferTorque {\n",
    "                in transmissionTorque: Torque;\n",
    "                out driveshaftTorque: Torque;\n",
    "            }\n",
    "            action def DistributeTorque {\n",
    "                in driveshaftTorque: Torque;\n",
    "                out wheelToRoadTorque: Torque[2];\n",
    "            }\n",
    "            action def PerformSelfTest;\n",
    "            action def ApplyParkingBrake;\n",
    "            action def SenseTemperature {\n",
    "                out temp: ISQ::TemperatureValue;\n",
    "            }\n",
    "        }\n",
    "        package StateDefinitions {\n",
    "            state def VehicleStates;\n",
    "            state def ControllerStates;\n",
    "        }\n",
    "        package RequirementDefinitions {\n",
    "            requirement def MassRequirement {\n",
    "                doc /*The actual mass shall be less than the required mass*/\n",
    "                attribute massRequired :> ISQ::mass;\n",
    "                attribute massActual :> ISQ::mass;\n",
    "                require constraint {\n",
    "                    massActual <= massRequired\n",
    "                }\n",
    "            }\n",
    "            requirement def ReliabilityRequirement {\n",
    "                doc /*The actual reliability shall be greater than the required reliability*/\n",
    "                attribute reliabilityRequired: Real;\n",
    "                attribute reliabilityActual: Real;\n",
    "                require constraint {\n",
    "                    reliabilityActual >= reliabilityRequired\n",
    "                }\n",
    "            }\n",
    "            requirement def TorqueGenerationRequirement {\n",
    "                subject engine: Engine;\n",
    "                doc /* The engine shall generate torque as a function of RPM as shown in\n",
    "                 * Table 1.*/\n",
    "            }\n",
    "            requirement def DrivePowerInterfaceRequirement {\n",
    "                subject engine: Engine;\n",
    "                doc /* The engine shall transfer its generated torque to the transmission * the clutch interface.*/\n",
    "            }\n",
    "            requirement def FuelEconomyRequirement {\n",
    "                doc /* The vehicle shall maintain an average fuel economomy of at least\n",
    "                 * x miles per gallon for the nominal driving scenario */\n",
    "                attribute actualFuelEconomy: DistancePerVolumeValue;\n",
    "                attribute requiredFuelEconomy: DistancePerVolumeValue;\n",
    "                require constraint {\n",
    "                    actualFuelEconomy >= requiredFuelEconomy\n",
    "                }\n",
    "            }\n",
    "        }\n",
    "        package AttributeDefinitions {\n",
    "            import ScalarValues::*;\n",
    "            // Scalar Functions provides Sum expression\n",
    "            import ScalarFunctions::*;\n",
    "            import ISQ::*;\n",
    "            import SI::*;\n",
    "            alias ISQ::TorqueValue as Torque;\n",
    "            //quantity used in analysis\n",
    "            attribute def DistancePerVolumeValue :> Quantities::QuantityValue;\n",
    "        }\n",
    "        package IndividualDefinitions {\n",
    "            individual def SpatialTemporalReference_1 :> SpatialTemporalReference;\n",
    "            individual def VehicleRoadContext_1 :> VehicleRoadContext;\n",
    "            individual def Vehicle_1 :> Vehicle;\n",
    "            individual def FrontAxleAssembly_1 :> AxleAssembly;\n",
    "            individual def FrontAxle_1 :> FrontAxle;\n",
    "            individual def Wheel_1 :> Wheel;\n",
    "            individual def Wheel_2 :> Wheel;\n",
    "            individual def RearAxleAssembly_1 :> AxleAssembly;\n",
    "            individual def Road_1 :> Road;\n",
    "        }\n",
    "    }\n",
    "    package VehicleConfigurations {\n",
    "        package VehicleConfiguration_a {\n",
    "            package PartsTree {\n",
    "                part vehicle_a: Vehicle {\n",
    "                    attribute mass redefines Vehicle::mass =\n",
    "                        dryMass + cargoMass + fuelTank::fuel::fuelMass;\n",
    "                    attribute dryMass redefines Vehicle::dryMass = sum(partMasses);\n",
    "                    attribute redefines Vehicle::cargoMass = 0;\n",
    "                    attribute partMasses = {\n",
    "                        fuelTank::mass,\n",
    "                        frontAxleAssembly::mass,\n",
    "                        rearAxleAssembly::mass\n",
    "                    };\n",
    "                    part fuelTank: FuelTank {\n",
    "                        attribute redefines mass = 75 @[kg];\n",
    "                        ref item redefines fuel {\n",
    "                            attribute redefines fuelMass = 50 @[kg];\n",
    "                        }\n",
    "                    }\n",
    "                    part frontAxleAssembly: AxleAssembly {\n",
    "                        attribute mass :> ISQ::mass = 800 @[kg];\n",
    "                        part frontAxle: Axle;\n",
    "                        part frontWheels: Wheel[2];\n",
    "                    }\n",
    "                    part rearAxleAssembly: AxleAssembly {\n",
    "                        attribute mass :> ISQ::mass = 875 @[kg];\n",
    "                        attribute driveTrainEfficiency: Real = 0.6;\n",
    "                        part rearAxle: Axle;\n",
    "                        part rearWheels: Wheel[2]{\n",
    "                            attribute redefines diameter;\n",
    "                        }\n",
    "                    }\n",
    "                }\n",
    "            }\n",
    "            package ActionTree {}\n",
    "        }\n",
    "        package VehicleConfiguration_b {\n",
    "            package PartsTree {\n",
    "                part vehicle_b: Vehicle {\n",
    "                    attribute mass redefines Vehicle::mass =\n",
    "                        dryMass + cargoMass + fuelTank::fuel::fuelMass;\n",
    "                    attribute dryMass redefines Vehicle::dryMass = sum(partMasses);\n",
    "                    attribute redefines Vehicle::cargoMass = 0;\n",
    "                    attribute partMasses = {\n",
    "                        fuelTank::mass,\n",
    "                        frontAxleAssembly::mass,\n",
    "                        rearAxleAssembly::mass,\n",
    "                        engine::mass,\n",
    "                        transmission::mass,\n",
    "                        driveshaft::mass\n",
    "                    };\n",
    "                    port redefines fuelCmdPort {\n",
    "                        in item redefines fuelCmd;\n",
    "                    }\n",
    "                    port vehicleToRoadPort redefines vehicleToRoadPort {\n",
    "                        port wheelToRoadPort1: WheelToRoadPort;\n",
    "                        port wheelToRoadPort2: WheelToRoadPort;\n",
    "                    }\n",
    "                    perform ActionTree::providePower redefines providePower;\n",
    "                    perform ActionTree::performSelfTest redefines performSelfTest;\n",
    "                    perform ActionTree::applyParkingBrake redefines applyParkingBrake;\n",
    "                    perform ActionTree::senseTemperature redefines senseTemperature;\n",
    "                    exhibit States::vehicleStates redefines vehicleStates {\n",
    "                        ref vehicle redefines vehicle = vehicle_b;\n",
    "                    }\n",
    "                    part fuelTank: FuelTank {\n",
    "                        attribute redefines mass = 75 @[kg];\n",
    "                        ref item redefines fuel {\n",
    "                            attribute redefines fuelMass = 60 @[kg];\n",
    "                        }\n",
    "                        attribute redefines fuelMassMax = 60;\n",
    "                    }\n",
    "                    part frontAxleAssembly: AxleAssembly {\n",
    "                        attribute mass :> ISQ::mass = 800 @[kg];\n",
    "                        port shaftPort_d: ShaftPort_d;\n",
    "                        part frontAxle: FrontAxle;\n",
    "                        part frontWheels: Wheel[2];\n",
    "                    }\n",
    "                    part rearAxleAssembly: AxleAssembly {\n",
    "                        attribute mass :> ISQ::mass = 875 @[kg];\n",
    "                        attribute driveTrainEfficiency: Real = 0.6;\n",
    "                        port shaftPort_d: ShaftPort_d;\n",
    "                        perform ActionTree::providePower::distributeTorque;\n",
    "                        part rearWheel1: Wheel {\n",
    "                            attribute redefines diameter;\n",
    "                            port wheelToAxlePort: WheelToAxlePort;\n",
    "                            port wheelToRoadPort: WheelToRoadPort;\n",
    "                        }\n",
    "                        part rearWheel2: Wheel {\n",
    "                            attribute redefines diameter;\n",
    "                            port wheelToRoadPort: WheelToRoadPort;\n",
    "                            port wheelToAxlePort: WheelToAxlePort;\n",
    "                        }\n",
    "                        part differential: Differential {\n",
    "                            port shaftPort_d: ShaftPort_d;\n",
    "                            port leftDiffPort: DiffPort;\n",
    "                            port rightDiffPort: DiffPort;\n",
    "                        }\n",
    "                        part rearAxle {\n",
    "                            part leftHalfAxle: HalfAxle {\n",
    "                                port leftAxleToDiffPort: AxlePort;\n",
    "                                port leftAxleToWheelPort: AxlePort;\n",
    "                            }\n",
    "                            part rightHalfAxle: HalfAxle {\n",
    "                                port rightAxleToDiffPort: AxlePort;\n",
    "                                port rightAxleToWheelPort: AxlePort;\n",
    "                            }\n",
    "                        }\n",
    "                        bind shaftPort_d = differential::shaftPort_d;\n",
    "                        connect differential::leftDiffPort\n",
    "                        to rearAxle::leftHalfAxle::leftAxleToDiffPort;\n",
    "                        connect differential::rightDiffPort\n",
    "                        to rearAxle::rightHalfAxle::rightAxleToDiffPort;\n",
    "                    }\n",
    "                    part engine: Engine {\n",
    "                        attribute mass :> ISQ::mass = 200 @[kg];\n",
    "                        attribute peakHorsePower: PowerValue = 200;\n",
    "                        port fuelCmdPort: FuelCmdPort {\n",
    "                            in item redefines fuelCmd;\n",
    "                        }\n",
    "                        port drivePwrPort: DrivePwrPort {\n",
    "                            out redefines engineTorque;\n",
    "                        }\n",
    "                        perform ActionTree::providePower::generateTorque;\n",
    "                        part cylinders: Cylinder[4..6];\n",
    "                    }\n",
    "                    part transmission: Transmission {\n",
    "                        attribute mass :> ISQ::mass = 100 @[kg];\n",
    "                        //conjugate notation ~\n",
    "                        port clutchPort: ~DrivePwrPort;\n",
    "                        port shaftPort_a: ShaftPort_a;\n",
    "                        perform ActionTree::providePower::amplifyTorque;\n",
    "                    }\n",
    "                    part driveshaft: Driveshaft {\n",
    "                        attribute mass :> ISQ::mass = 100 @[kg];\n",
    "                        port shaftPort_b: ShaftPort_b;\n",
    "                        port shaftPort_c: ShaftPort_c;\n",
    "                        perform ActionTree::providePower::transferTorque;\n",
    "                    }\n",
    "                    part vehicleSoftware: VehicleSoftware {\n",
    "                        part vehicleController: VehicleController {\n",
    "                            exhibit States::controllerStates redefines controllerStates {\n",
    "                                ref controller = vehicleController;\n",
    "                            }\n",
    "                        }\n",
    "                    }\n",
    "                    bind engine::fuelCmdPort = fuelCmdPort;\n",
    "                    interface engineToTransmissionInterface: EngineToTransmissionInterface\n",
    "                    connect engine::drivePwrPort to transmission::clutchPort {\n",
    "                        ref action generateToAmplify :> ActionTree::providePower::generateToAmplify;\n",
    "                    }\n",
    "                    connect transmission::shaftPort_a to driveshaft::shaftPort_b;\n",
    "                    connect driveshaft::shaftPort_c to rearAxleAssembly::shaftPort_d;\n",
    "                    bind rearAxleAssembly::rearWheel1::wheelToRoadPort = vehicleToRoadPort::wheelToRoadPort1;\n",
    "                    bind rearAxleAssembly::rearWheel2::wheelToRoadPort = vehicleToRoadPort::wheelToRoadPort2;\n",
    "                }\n",
    "            }\n",
    "            package ActionTree {\n",
    "                action providePower: ProvidePower {\n",
    "                    in item redefines fuelCmd;\n",
    "                    out wheelToRoadTorque redefines wheelToRoadTorque[2] =\n",
    "                        distributeTorque::wheelToRoadTorque;\n",
    "                    // No successions (control flows) between these actions, because the\n",
    "                    // flows between them are continuous streams.\n",
    "                    action generateTorque: GenerateTorque {\n",
    "                        in item = providePower::fuelCmd;\n",
    "                        out engineTorque redefines engineTorque;\n",
    "                    }\n",
    "                    action amplifyTorque: AmplifyTorque {\n",
    "                        in engineTorque redefines engineTorque;\n",
    "                        out transmissionTorque redefines transmissionTorque;\n",
    "                    }\n",
    "                    action transferTorque: TransferTorque {\n",
    "                        // This is a shorthand for the stream commented out below.\n",
    "                        in transmissionTorque redefines transmissionTorque;\n",
    "                        out driveshaftTorque redefines driveshaftTorque;\n",
    "                    }\n",
    "                    action distributeTorque: DistributeTorque {\n",
    "                        in driveshaftTorque redefines driveshaftTorque;\n",
    "                        out wheelToRoadTorque redefines wheelToRoadTorque[2];\n",
    "                    }\n",
    "                    stream generateToAmplify from generateTorque::engineTorque\n",
    "                    to amplifyTorque::engineTorque;\n",
    "                    stream amplifyTorque::transmissionTorque\n",
    "                    to transferTorque::transmissionTorque;\n",
    "                    stream transferTorque::driveshaftTorque\n",
    "                    to distributeTorque::driveshaftTorque;\n",
    "                }\n",
    "                action performSelfTest: PerformSelfTest;\n",
    "                action applyParkingBrake: ApplyParkingBrake;\n",
    "                action senseTemperature: SenseTemperature;\n",
    "            }\n",
    "            package States {\n",
    "                state vehicleStates: VehicleStates {\n",
    "                    ref vehicle: Vehicle;\n",
    "                    ref controller: VehicleController;\n",
    "                    state operatingStates {\n",
    "                        entry action initial;\n",
    "                        state off;\n",
    "                        state starting;\n",
    "                        state on {\n",
    "                            entry vehicle::performSelfTest;\n",
    "                            // was vehicle::providePower;\n",
    "                            do ActionTree::providePower;\n",
    "\t\t\t\t\t\t\texit vehicle::applyParkingBrake;\n",
    "\t\t\t\t\t\t\tconstraint {vehicle::electricalPower <= 500}\n",
    "\t\t\t\t\t\t}\n",
    "\t\t\t\t\t\ttransition initial then off;\n",
    "\t\t\t\t\t\ttransition 'off-starting'\n",
    "\t\t\t\t\t\t\tfirst off\n",
    "\t\t\t\t\t\t\taccept VehicleStartSignal\n",
    "\t\t\t\t\t\t\tif vehicle::brakePedalDepressed\n",
    "\t\t\t\t\t\t\tdo send StartSignal()to controller\n",
    "\t\t\t\t\t\t\tthen starting;\n",
    "\n",
    "\t\t\t\t\t\ttransition 'starting-on'\n",
    "\t\t\t\t\t\t\tfirst starting\n",
    "\t\t\t\t\t\t\taccept VehicleOnSignal\n",
    "\t\t\t\t\t\t\tthen on;\n",
    "\t\t\t\t\t\ttransition 'on-off'\n",
    "\t\t\t\t\t\t\tfirst on\n",
    "\t\t\t\t\t\t\taccept VehicleOffSignal\n",
    "\t\t\t\t\t\t\tthen off;\n",
    "\t\t\t\t\t}\n",
    "\t\t\t\t\tstate healthStates {\n",
    "\t\t\t\t\t\tentry action initial;\n",
    "\t\t\t\t\t\tdo vehicle::senseTemperature(out temp);\n",
    "\t\t\t\t\t\tstate normal;\n",
    "\t\t\t\t\t\tstate maintenance;\n",
    "\t\t\t\t\t\tstate degraded;\n",
    "\t\t\t\t\t\ttransition initial then normal;\n",
    "\t\t\t\t\t\ttransition 'normal-maintenance'\n",
    "\t\t\t\t\t\t\tfirst normal\n",
    "\t\t\t\t\t\t\taccept 'at(vehicle::maintenanceTime)'\n",
    "\t\t\t\t\t\t\tthen maintenance;\n",
    "\t\t\t\t\t\ttransition 'normal-degraded'\n",
    "\t\t\t\t\t\t\tfirst normal\n",
    "\t\t\t\t\t\t\taccept 'when(temp>vehicle::Tmax)'\n",
    "\t\t\t\t\t\t\tdo send OverTemp()to controller\n",
    "\t\t\t\t\t\t\tthen degraded;\n",
    "\t\t\t\t\t\ttransition 'maintenance-normal'\n",
    "\t\t\t\t\t\t\tfirst maintenance\n",
    "\t\t\t\t\t\t\taccept ReturnToNormal\n",
    "\t\t\t\t\t\t\tthen normal;\n",
    "\t\t\t\t\t\ttransition 'degraded-normal'\n",
    "\t\t\t\t\t\t\tfirst degraded\n",
    "\t\t\t\t\t\t\taccept ReturnToNormal\n",
    "\t\t\t\t\t\t\tthen normal;\n",
    "\t\t\t\t\t}\n",
    "\t\t\t\t}\n",
    "\t\t\t\tstate controllerStates: ControllerStates {\n",
    "\t\t\t\t\tstate operatingStates {\n",
    "\t\t\t\t\t\tentry action initial;\n",
    "\t\t\t\t\t\tstate off;\n",
    "\t\t\t\t\t\tstate on;\n",
    "\t\t\t\t\t\ttransition initial then off;\n",
    "\t\t\t\t\t\ttransition 'off-on'\n",
    "\t\t\t\t\t\t\tfirst off\n",
    "\t\t\t\t\t\t\t//why not a usage of StartSignal?\n",
    "\t\t\t\t\t\t\taccept StartSignal\n",
    "\t\t\t\t            then on;\n",
    "                        transition 'on-off'\n",
    "                            first on\n",
    "                            accept OffSignal\n",
    "                            then off;\n",
    "                    }\n",
    "                }\n",
    "            }\n",
    "            package Requirements {\n",
    "                import Definitions::PartDefinitions::*;\n",
    "                import VehicleConfiguration_b::*;\n",
    "                import VehicleConfiguration_b::PartsTree::*;\n",
    "                import vehicle_b_SpecificationContext::*;\n",
    "                item marketSurvey;\n",
    "                dependency from vehicleSpecification to marketSurvey;\n",
    "                part vehicle_b_SpecificationContext {\n",
    "                    // The subject of the specification is vehicle:Vehicle, which is a\n",
    "                    // usage of the black box specification. Other vehicles are further\n",
    "                    // specializations of this black box specification.\n",
    "                    // Redefine vehicle_b within the vehicle_b_Specification Context so\n",
    "                    // satisfies can be added.\n",
    "                    part redefines vehicle_b;\n",
    "                    requirement vehicleSpecification {\n",
    "                        subject vehicle: Vehicle;\n",
    "                        requirement id '1' vehicleMassRequirement: MassRequirement {\n",
    "                            doc /* The total mass of a vehicle shall be less than or equal\n",
    "                             * to the required mass.*/\n",
    "                            /* Assume total mass includes a full tank of gas*/\n",
    "                            attribute redefines massRequired = 2000;\n",
    "                            attribute redefines massActual = vehicle::mass;\n",
    "                        }\n",
    "                        requirement id '2' vehicleFuelEconomyRequirements {\n",
    "                            doc /* fuel economy requirements group */\n",
    "                            attribute assumedCargoMass :> ISQ::mass;\n",
    "                            requirement id '2_1' cityFuelEconomyRequirement: FuelEconomyRequirement {\n",
    "                                redefines requiredFuelEconomy = 25; //@[mpg];\n",
    "                                assume constraint {\n",
    "                                    assumedCargoMass >= 500 @[kg]\n",
    "                                }\n",
    "                            }\n",
    "                            requirement id ' 2_2' highwayFuelEconomyRequirement: FuelEconomyRequirement {\n",
    "                                redefines requiredFuelEconomy = 30; //@[mpg]\n",
    "                                attribute assumedCargoMass :> ISQ::mass;\n",
    "                                assume constraint {\n",
    "                                    assumedCargoMass >= 500 @[kg]\n",
    "                                }\n",
    "                            }\n",
    "                        }\n",
    "                    }\n",
    "                    satisfy vehicleSpecification::vehicleMassRequirement by vehicle_b;\n",
    "                    satisfy vehicleSpecification::vehicleFuelEconomyRequirements by vehicle_b;\n",
    "                    //this should not pass the requirement since vehicle_b::mass=2010\n",
    "                    //and the massRequired=2000\n",
    "                    requirement engineSpecification {\n",
    "                        doc /* Engine power requirements group */\n",
    "                        subject engine: Engine;\n",
    "                        requirement torqueGeneration: TorqueGenerationRequirement;\n",
    "                        requirement drivePowerInterface: DrivePowerInterfaceRequirement;\n",
    "                    }\n",
    "                    satisfy engineSpecification::torqueGeneration by vehicle_b::engine;\n",
    "                }\n",
    "            }\n",
    "        }\n",
    "    }\n",
    "    package VehicleAnalysis {\n",
    "        import Definitions::AttributeDefinitions::*;\n",
    "        // the following is a general vehicle dynamics analysis model that is not bound to package DynamicsEquations{\n",
    "        attribute p: PowerValue; // engine power\n",
    "        attribute m: MassValue;\n",
    "        attribute v: SpeedValue;\n",
    "        attribute a: AccelerationValue;\n",
    "        attribute dt: TimeValue;\n",
    "        attribute x0: LengthValue;\n",
    "        attribute x_f: LengthValue;\n",
    "        attribute v0: SpeedValue;\n",
    "        attribute v_f: SpeedValue;\n",
    "        constraint def StraightLineDynamicsEquations {\n",
    "            attribute v_avg: SpeedValue = (v0 + v_f) / 2;\n",
    "            a == p / (m * v) & \n",
    "            v_f == v0 + a * dt &\n",
    "            x_f == x0 + v * dt\n",
    "        }\n",
    "    }\n",
    "    package FuelEconomyAnalysisModel {\n",
    "        import VehicleConfigurations::VehicleConfiguration_b::PartsTree::*;\n",
    "        import VehicleConfigurations::VehicleConfiguration_b::Requirements::*;\n",
    "        import NonScalarValues::SampledFunctionValue;\n",
    "        attribute def NominalScenario :> SampledFunctionValue;\n",
    "        analysis fuelEconomyAnalysis {\n",
    "            return attribute calculatedFuelEconomy: DistancePerVolumeValue;\n",
    "            in attribute scenario: NominalScenario;\n",
    "            subject = vehicle_b;\n",
    "            objective fuelEconomyAnalysisObjective {\n",
    "                doc /* the objective of this analysis is to determine whether\n",
    "                 * the vehicle design configuration can\n",
    "                 * satisfy the fuel economy requirements */\n",
    "                require vehicleSpecification::vehicleFuelEconomyRequirements;\n",
    "            }\n",
    "            action straightLineDynamics {\n",
    "                in power: PowerValue = vehicle_b::engine::peakHorsePower;\n",
    "                in mass: MassValue = vehicle_b::mass;\n",
    "                in delta_t: TimeValue;\n",
    "                in x_in: LengthValue;\n",
    "                in v_in: SpeedValue;\n",
    "                out x_out: LengthValue;\n",
    "                out v_out: SpeedValue;\n",
    "                out a_out: AccelerationValue;\n",
    "                assert constraint dynamics {\n",
    "                    attribute v_avg: SpeedValue = (v_in + v_out) / 2;\n",
    "                    a_out == power / (mass * v_avg) &\n",
    "                    v_out == v_in + a_out * delta_t &\n",
    "                    x_out == x_in + v_avg * delta_t\n",
    "                }\n",
    "            }\n",
    "            // perform the fuel consumption analysis based on the outputs from\n",
    "            // the dynamics analysis (e.g., power vs time)\n",
    "            action fuelConsumptionAnalysis {}\n",
    "        }\n",
    "    }\n",
    "    package ElectricalPowerAnalysis {}\n",
    "    package ReliabilityAnalyis {}\n",
    "}\n"
   ]
  },
  {
   "cell_type": "markdown",
   "id": "185a1e54",
   "metadata": {},
   "source": [
    "## Visualisation of VehicleModel\n",
    "\n",
    "We can now visualise our Model with the ```%viz``` command. But instead of viewing the entire model, we first \n",
    "list it's sub-packages:"
   ]
  },
  {
   "cell_type": "code",
   "execution_count": 2,
   "id": "e967e7e7",
   "metadata": {
    "execution": {
     "iopub.execute_input": "2024-12-16T03:22:40.969579Z",
     "iopub.status.busy": "2024-12-16T03:22:40.968086Z",
     "iopub.status.idle": "2024-12-16T03:22:40.976539Z",
     "shell.execute_reply": "2024-12-16T03:22:40.976374Z"
    }
   },
   "outputs": [
    {
     "data": {
      "text/plain": [
       "ERROR:Couldn't resolve reference to Namespace 'VehicleModel::VehicleConfigurations::VehicleConfiguration_b'. (2.sysml line : 1 column : 16)\n"
      ]
     },
     "execution_count": 2,
     "metadata": {},
     "output_type": "execute_result"
    }
   ],
   "source": [
    "%list VehicleModel::VehicleConfigurations::VehicleConfiguration_b::*"
   ]
  },
  {
   "cell_type": "code",
   "execution_count": 3,
   "id": "26aa7b5b",
   "metadata": {
    "execution": {
     "iopub.execute_input": "2024-12-16T03:22:41.028082Z",
     "iopub.status.busy": "2024-12-16T03:22:41.027858Z",
     "iopub.status.idle": "2024-12-16T03:22:41.031222Z",
     "shell.execute_reply": "2024-12-16T03:22:41.031380Z"
    }
   },
   "outputs": [
    {
     "data": {
      "text/plain": [
       "ERROR:Couldn't resolve reference to Element 'VehicleModel::VehicleConfigurations::VehicleConfiguration_b::States'\n"
      ]
     },
     "execution_count": 3,
     "metadata": {},
     "output_type": "execute_result"
    }
   ],
   "source": [
    "%viz --view=State VehicleModel::VehicleConfigurations::VehicleConfiguration_b::States"
   ]
  },
  {
   "cell_type": "code",
   "execution_count": 4,
   "id": "98e68136",
   "metadata": {
    "execution": {
     "iopub.execute_input": "2024-12-16T03:22:41.087593Z",
     "iopub.status.busy": "2024-12-16T03:22:41.087332Z",
     "iopub.status.idle": "2024-12-16T03:22:41.088255Z",
     "shell.execute_reply": "2024-12-16T03:22:41.088391Z"
    }
   },
   "outputs": [
    {
     "data": {
      "text/plain": [
       "ERROR:Couldn't resolve reference to Element 'VehicleModel::VehicleConfigurations::VehicleConfiguration_b::Requirements'\n"
      ]
     },
     "execution_count": 4,
     "metadata": {},
     "output_type": "execute_result"
    }
   ],
   "source": [
    "%viz --style=LR --view=Default VehicleModel::VehicleConfigurations::VehicleConfiguration_b::Requirements"
   ]
  },
  {
   "cell_type": "code",
   "execution_count": 5,
   "id": "62b2f24a",
   "metadata": {
    "execution": {
     "iopub.execute_input": "2024-12-16T03:22:41.144462Z",
     "iopub.status.busy": "2024-12-16T03:22:41.144165Z",
     "iopub.status.idle": "2024-12-16T03:22:41.145605Z",
     "shell.execute_reply": "2024-12-16T03:22:41.145810Z"
    }
   },
   "outputs": [
    {
     "data": {
      "text/plain": [
       "ERROR:Couldn't resolve reference to Element 'VehicleModel::VehicleConfigurations::VehicleConfiguration_b::ActionTree'\n"
      ]
     },
     "execution_count": 5,
     "metadata": {},
     "output_type": "execute_result"
    }
   ],
   "source": [
    "%viz --style=TB --view=Action VehicleModel::VehicleConfigurations::VehicleConfiguration_b::ActionTree"
   ]
  },
  {
   "cell_type": "code",
   "execution_count": 6,
   "id": "b813a0f2",
   "metadata": {
    "execution": {
     "iopub.execute_input": "2024-12-16T03:22:41.201758Z",
     "iopub.status.busy": "2024-12-16T03:22:41.201517Z",
     "iopub.status.idle": "2024-12-16T03:22:41.202676Z",
     "shell.execute_reply": "2024-12-16T03:22:41.201909Z"
    }
   },
   "outputs": [
    {
     "data": {
      "text/plain": [
       "ERROR:Couldn't resolve reference to Element 'VehicleModel::VehicleConfigurations::VehicleConfiguration_b::PartsTree'\n"
      ]
     },
     "execution_count": 6,
     "metadata": {},
     "output_type": "execute_result"
    }
   ],
   "source": [
    "%viz --style=TB --view=Default VehicleModel::VehicleConfigurations::VehicleConfiguration_b::PartsTree"
   ]
  },
  {
   "cell_type": "code",
   "execution_count": 7,
   "id": "cca69986",
   "metadata": {
    "execution": {
     "iopub.execute_input": "2024-12-16T03:22:41.257972Z",
     "iopub.status.busy": "2024-12-16T03:22:41.257765Z",
     "iopub.status.idle": "2024-12-16T03:22:41.258705Z",
     "shell.execute_reply": "2024-12-16T03:22:41.258547Z"
    }
   },
   "outputs": [
    {
     "data": {
      "text/plain": [
       "ERROR:Couldn't resolve reference to Element 'VehicleModel::Definitions::PartDefinitions::Vehicle'\n"
      ]
     },
     "execution_count": 7,
     "metadata": {},
     "output_type": "execute_result"
    }
   ],
   "source": [
    "%show \"VehicleModel::Definitions::PartDefinitions::Vehicle\""
   ]
  },
  {
   "cell_type": "code",
   "execution_count": 8,
   "id": "1b4aad4b",
   "metadata": {
    "execution": {
     "iopub.execute_input": "2024-12-16T03:22:41.317277Z",
     "iopub.status.busy": "2024-12-16T03:22:41.316211Z",
     "iopub.status.idle": "2024-12-16T03:22:41.318121Z",
     "shell.execute_reply": "2024-12-16T03:22:41.317504Z"
    }
   },
   "outputs": [
    {
     "data": {
      "text/plain": [
       "ERROR:Couldn't resolve reference to Element 'VehicleModel::Definitions::PartDefinitions::Vehicle'\n"
      ]
     },
     "execution_count": 8,
     "metadata": {},
     "output_type": "execute_result"
    }
   ],
   "source": [
    "%viz --style=LR --view=Default \"VehicleModel::Definitions::PartDefinitions::Vehicle\""
   ]
  },
  {
   "cell_type": "code",
   "execution_count": null,
   "id": "bc92657a",
   "metadata": {},
   "outputs": [],
   "source": []
  }
 ],
 "metadata": {
  "kernelspec": {
   "display_name": "SysML",
   "language": "sysml",
   "name": "sysml"
  },
  "language_info": {
   "codemirror_mode": "sysml",
   "file_extension": ".sysml",
   "mimetype": "text/x-sysml",
   "name": "SysML",
   "pygments_lexer": "java",
   "version": "1.0.0"
  }
 },
 "nbformat": 4,
 "nbformat_minor": 5
}
