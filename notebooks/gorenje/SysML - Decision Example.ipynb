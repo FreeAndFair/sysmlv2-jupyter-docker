{
 "cells": [
  {
   "cell_type": "markdown",
   "id": "israeli-things",
   "metadata": {},
   "source": [
    "## Decision Example\n",
    "\n",
    "Taken from the [training](/lab/tree/sysml/src/training/19.%20Control/Decision%20Example.sysml) directory."
   ]
  },
  {
   "cell_type": "code",
   "execution_count": 1,
   "id": "distributed-hebrew",
   "metadata": {},
   "outputs": [
    {
     "data": {
      "text/plain": [
       "Package Decision Example (111f88b1-dd59-43ef-ae2e-a3a1f8cacfb8)\n"
      ]
     },
     "execution_count": 1,
     "metadata": {},
     "output_type": "execute_result"
    }
   ],
   "source": [
    "package 'Decision Example' {\n",
    "\timport ScalarValues::*;\n",
    "\t\n",
    "\tattribute def BatteryCharged;\n",
    "\t\n",
    "\tpart battery;\n",
    "\tpart powerSystem;\n",
    "\t\n",
    "\taction def AddCharge (in charge : Real);\n",
    "\t\n",
    "\taction def ChargeBattery {\n",
    "\t\tfirst start;\n",
    "\n",
    "\t\tthen merge continueCharging;\n",
    "\t\t\n",
    "\t\tthen action monitor accept batteryCharge : Real;\n",
    "\t\t\n",
    "\t\tthen decide;\n",
    "\t\t\tif monitor::batteryCharge < 100 then addCharge;\n",
    "\t\t\tif monitor::batteryCharge >= 100 then signalCharged;\n",
    "\t\t\t\n",
    "\t\taction addCharge : AddCharge (batteryCharge);\n",
    "\t\tthen continueCharging;\n",
    "\t\t\n",
    "\t\taction signalCharged send BatteryCharged() to powerSystem;\n",
    "\t\tthen done;\n",
    "\t}\n",
    "}"
   ]
  },
  {
   "cell_type": "code",
   "execution_count": 2,
   "id": "occasional-snake",
   "metadata": {},
   "outputs": [
    {
     "data": {
      "image/svg+xml": [
       "<?xml version=\"1.0\" encoding=\"UTF-8\" standalone=\"no\"?><svg xmlns=\"http://www.w3.org/2000/svg\" xmlns:xlink=\"http://www.w3.org/1999/xlink\" contentScriptType=\"application/ecmascript\" contentStyleType=\"text/css\" height=\"500px\" preserveAspectRatio=\"none\" style=\"width:925px;height:500px;background:#000000;\" version=\"1.1\" viewBox=\"0 0 925 500\" width=\"925px\" zoomAndPan=\"magnify\"><defs/><g><rect fill=\"#140D0C\" height=\"1\" style=\"stroke: #140D0C; stroke-width: 1.0;\" width=\"1\" x=\"0\" y=\"0\"/><rect fill=\"#33FF02\" height=\"21.2969\" style=\"stroke: #33FF02; stroke-width: 1.0;\" width=\"918\" x=\"5\" y=\"5\"/><text fill=\"#000000\" font-family=\"sans-serif\" font-size=\"14\" font-weight=\"bold\" lengthAdjust=\"spacingAndGlyphs\" textLength=\"178\" x=\"6\" y=\"20\">[From string (line 27) ]</text><text fill=\"#33FF02\" font-family=\"sans-serif\" font-size=\"14\" font-weight=\"bold\" lengthAdjust=\"spacingAndGlyphs\" textLength=\"0\" x=\"10\" y=\"40.2969\"/><text fill=\"#33FF02\" font-family=\"sans-serif\" font-size=\"14\" font-weight=\"bold\" lengthAdjust=\"spacingAndGlyphs\" textLength=\"79\" x=\"5\" y=\"56.5938\">@startuml</text><text fill=\"#33FF02\" font-family=\"sans-serif\" font-size=\"14\" font-weight=\"bold\" lengthAdjust=\"spacingAndGlyphs\" textLength=\"228\" x=\"5\" y=\"72.8906\">skinparam monochrome true</text><text fill=\"#33FF02\" font-family=\"sans-serif\" font-size=\"14\" font-weight=\"bold\" lengthAdjust=\"spacingAndGlyphs\" textLength=\"309\" x=\"5\" y=\"89.1875\">skinparam classbackgroundcolor white</text><text fill=\"#33FF02\" font-family=\"sans-serif\" font-size=\"14\" font-weight=\"bold\" lengthAdjust=\"spacingAndGlyphs\" textLength=\"215\" x=\"5\" y=\"105.4844\">skinparam shadowing false</text><text fill=\"#33FF02\" font-family=\"sans-serif\" font-size=\"14\" font-weight=\"bold\" lengthAdjust=\"spacingAndGlyphs\" textLength=\"206\" x=\"5\" y=\"121.7813\">skinparam wrapWidth 300</text><text fill=\"#33FF02\" font-family=\"sans-serif\" font-size=\"14\" font-weight=\"bold\" lengthAdjust=\"spacingAndGlyphs\" textLength=\"82\" x=\"5\" y=\"138.0781\">hide circle</text><text fill=\"#33FF02\" font-family=\"sans-serif\" font-size=\"14\" font-weight=\"bold\" lengthAdjust=\"spacingAndGlyphs\" textLength=\"0\" x=\"10\" y=\"154.375\"/><text fill=\"#33FF02\" font-family=\"sans-serif\" font-size=\"14\" font-weight=\"bold\" lengthAdjust=\"spacingAndGlyphs\" textLength=\"724\" x=\"5\" y=\"170.6719\">package \"Decision Example\" as E1  [[psysml:02211ed9-1c73-4f48-a4dc-36e4c28eb8a1 ]]  {</text><text fill=\"#33FF02\" font-family=\"sans-serif\" font-size=\"14\" font-weight=\"bold\" lengthAdjust=\"spacingAndGlyphs\" textLength=\"918\" x=\"5\" y=\"186.9688\">comp def \"BatteryCharged\" as E2  &lt;&lt;(T,blue)attribute def&gt;&gt; [[psysml:5565f936-d48f-452f-b903-f6ca66082288 ]] {</text><text fill=\"#33FF02\" font-family=\"sans-serif\" font-size=\"14\" font-weight=\"bold\" lengthAdjust=\"spacingAndGlyphs\" textLength=\"10\" x=\"5\" y=\"203.2656\">}</text><text fill=\"#33FF02\" font-family=\"sans-serif\" font-size=\"14\" font-weight=\"bold\" lengthAdjust=\"spacingAndGlyphs\" textLength=\"810\" x=\"5\" y=\"219.5625\">comp usage \"battery\" as E3  &lt;&lt;(T,blue)part&gt;&gt; [[psysml:b864893c-70ca-4109-a4bc-f4db86bc7f5e ]] {</text><text fill=\"#33FF02\" font-family=\"sans-serif\" font-size=\"14\" font-weight=\"bold\" lengthAdjust=\"spacingAndGlyphs\" textLength=\"10\" x=\"5\" y=\"235.8594\">}</text><text fill=\"#33FF02\" font-family=\"sans-serif\" font-size=\"14\" font-weight=\"bold\" lengthAdjust=\"spacingAndGlyphs\" textLength=\"865\" x=\"5\" y=\"252.1563\">comp usage \"powerSystem\" as E4  &lt;&lt;(T,blue)part&gt;&gt; [[psysml:0f16c0b2-aad4-46aa-b6ab-d77eb0399c03 ]] {</text><text fill=\"#33FF02\" font-family=\"sans-serif\" font-size=\"14\" font-weight=\"bold\" lengthAdjust=\"spacingAndGlyphs\" textLength=\"10\" x=\"5\" y=\"268.4531\">}</text><text fill=\"#33FF02\" font-family=\"sans-serif\" font-size=\"14\" font-weight=\"bold\" lengthAdjust=\"spacingAndGlyphs\" textLength=\"850\" x=\"5\" y=\"284.75\">rec def \"AddCharge\" as E5  &lt;&lt;(T,blue)action def&gt;&gt; [[psysml:b4682a54-dc25-40fb-bcdc-06bf6d07b02a ]] {</text><text fill=\"#33FF02\" font-family=\"sans-serif\" font-size=\"14\" font-weight=\"bold\" lengthAdjust=\"spacingAndGlyphs\" textLength=\"599\" x=\"5\" y=\"301.0469\">portin \"charge\" as E6  [[psysml:34e6f37f-1031-43e7-8bb1-5f3402be5a83 ]]</text><text fill=\"#33FF02\" font-family=\"sans-serif\" font-size=\"14\" font-weight=\"bold\" lengthAdjust=\"spacingAndGlyphs\" textLength=\"10\" x=\"5\" y=\"317.3438\">}</text><text fill=\"#33FF02\" font-family=\"sans-serif\" font-size=\"14\" font-weight=\"bold\" lengthAdjust=\"spacingAndGlyphs\" textLength=\"0\" x=\"10\" y=\"333.6406\"/><text fill=\"#33FF02\" font-family=\"sans-serif\" font-size=\"14\" font-weight=\"bold\" lengthAdjust=\"spacingAndGlyphs\" textLength=\"875\" x=\"5\" y=\"349.9375\">rec def \"ChargeBattery\" as E7  &lt;&lt;(T,blue)action def&gt;&gt; [[psysml:f0cbf7e6-8187-45e1-9de2-9cf380db537e ]] {</text><text fill=\"#33FF02\" font-family=\"sans-serif\" font-size=\"14\" font-weight=\"bold\" lengthAdjust=\"spacingAndGlyphs\" textLength=\"796\" x=\"5\" y=\"366.2344\">rec usage \"start\" as E8  &lt;&lt;(T,blue)action&gt;&gt; [[psysml:8dc8bb02-e2ef-4d03-ba45-03d5ec6e54b0 ]] {</text><text fill=\"#33FF02\" font-family=\"sans-serif\" font-size=\"14\" font-weight=\"bold\" lengthAdjust=\"spacingAndGlyphs\" textLength=\"10\" x=\"5\" y=\"382.5313\">}</text><text fill=\"#33FF02\" font-family=\"sans-serif\" font-size=\"14\" font-weight=\"bold\" lengthAdjust=\"spacingAndGlyphs\" textLength=\"0\" x=\"10\" y=\"398.8281\"/><text fill=\"#33FF02\" font-family=\"sans-serif\" font-size=\"14\" font-weight=\"bold\" lengthAdjust=\"spacingAndGlyphs\" textLength=\"690\" x=\"5\" y=\"415.125\">choice \"continueCharging\" as E9  [[psysml:a4bd54b7-d042-457f-b796-949f0a7c58ec ]]</text><text fill=\"#33FF02\" font-family=\"sans-serif\" font-size=\"14\" font-weight=\"bold\" lengthAdjust=\"spacingAndGlyphs\" textLength=\"816\" x=\"5\" y=\"431.4219\">rec usage \"monitor\" as E10 &lt;&lt;accept action&gt;&gt; [[psysml:3a244061-31a2-4b0a-95ef-3bfd256809ca ]] {</text><text fill=\"#33FF02\" font-family=\"sans-serif\" font-size=\"14\" font-weight=\"bold\" lengthAdjust=\"spacingAndGlyphs\" textLength=\"10\" x=\"5\" y=\"447.7188\">}</text><text fill=\"#33FF02\" font-family=\"sans-serif\" font-size=\"14\" font-weight=\"bold\" lengthAdjust=\"spacingAndGlyphs\" textLength=\"0\" x=\"10\" y=\"464.0156\"/><text fill=\"#33FF02\" font-family=\"sans-serif\" font-size=\"14\" font-weight=\"bold\" lengthAdjust=\"spacingAndGlyphs\" textLength=\"10\" x=\"5\" y=\"480.3125\">{</text><text fill=\"#FF0000\" font-family=\"sans-serif\" font-size=\"14\" font-weight=\"bold\" lengthAdjust=\"spacingAndGlyphs\" textLength=\"106\" x=\"10\" y=\"496.6094\">Syntax Error?</text><!--MD5=[01a8c46b6b499a7e8574f3521309125e]\n",
       "@startuml\r\n",
       "skinparam monochrome true\r\n",
       "skinparam classbackgroundcolor white\r\n",
       "skinparam shadowing false\r\n",
       "skinparam wrapWidth 300\r\n",
       "hide circle\r\n",
       "\r\n",
       "package \"Decision Example\" as E1  [[psysml:02211ed9-1c73-4f48-a4dc-36e4c28eb8a1 ]]  {\r\n",
       "comp def \"BatteryCharged\" as E2  <<(T,blue)attribute def>> [[psysml:5565f936-d48f-452f-b903-f6ca66082288 ]] {\r\n",
       "}\r\n",
       "comp usage \"battery\" as E3  <<(T,blue)part>> [[psysml:b864893c-70ca-4109-a4bc-f4db86bc7f5e ]] {\r\n",
       "}\r\n",
       "comp usage \"powerSystem\" as E4  <<(T,blue)part>> [[psysml:0f16c0b2-aad4-46aa-b6ab-d77eb0399c03 ]] {\r\n",
       "}\r\n",
       "rec def \"AddCharge\" as E5  <<(T,blue)action def>> [[psysml:b4682a54-dc25-40fb-bcdc-06bf6d07b02a ]] {\r\n",
       "portin \"charge\" as E6  [[psysml:34e6f37f-1031-43e7-8bb1-5f3402be5a83 ]] \r\n",
       "}\r\n",
       "\r\n",
       "rec def \"ChargeBattery\" as E7  <<(T,blue)action def>> [[psysml:f0cbf7e6-8187-45e1-9de2-9cf380db537e ]] {\r\n",
       "rec usage \"start\" as E8  <<(T,blue)action>> [[psysml:8dc8bb02-e2ef-4d03-ba45-03d5ec6e54b0 ]] {\r\n",
       "}\r\n",
       "\r\n",
       "choice \"continueCharging\" as E9  [[psysml:a4bd54b7-d042-457f-b796-949f0a7c58ec ]] \r\n",
       "rec usage \"monitor\" as E10 <<accept action>> [[psysml:3a244061-31a2-4b0a-95ef-3bfd256809ca ]] {\r\n",
       "}\r\n",
       "\r\n",
       "{\r\n",
       "}\r\n",
       "\r\n",
       "{\r\n",
       "portout \"$result\" as E11  [[psysml:5279d3a9-13d4-43f5-a52f-88127761b9c0 ]] \r\n",
       "portin \"$x\" as E12  [[psysml:e1212350-4250-4475-9494-e00a785ef2d9 ]] \r\n",
       "portin \"$y\" as E13  [[psysml:425fc911-2f6f-4c8d-bd2f-8e4e31fcb4d8 ]] \r\n",
       "portout \"$result\" as E14  [[psysml:cbb0a628-dd11-4a6b-a22b-97b4f0715cc5 ]] \r\n",
       "}\r\n",
       "\r\n",
       "{\r\n",
       "portout \"$result\" as E15  [[psysml:bcce1df3-599f-4910-ab65-c929d4ebea37 ]] \r\n",
       "portin \"$x\" as E16  [[psysml:4fc4bf5b-7aac-45f3-8868-6847dec7f5f0 ]] \r\n",
       "portin \"$y\" as E17  [[psysml:cb8a3b07-3022-4861-85d4-7d705d9cce91 ]] \r\n",
       "portout \"$result\" as E18  [[psysml:61f3c15b-e49b-4531-ab65-acc318cb5638 ]] \r\n",
       "}\r\n",
       "\r\n",
       "rec usage \"addCharge\" as E19  <<(T,blue)action>> [[psysml:ef4423c0-b84c-4967-beb1-3faaaa94baba ]] {\r\n",
       "portin \"batteryCharge\" as E20  [[psysml:65a16094-9740-4a67-9497-2a96741356a4 ]] \r\n",
       "}\r\n",
       "\r\n",
       "rec usage \"signalCharged\" as E21 <<send action>> [[psysml:14e45707-bdec-4551-8c8a-0ac6846eaa82 ]] {\r\n",
       "portout \"$result\" as E22  [[psysml:645bc370-3c72-4270-966e-9d0146efd805 ]] \r\n",
       "}\r\n",
       "\r\n",
       "}\r\n",
       "\r\n",
       "}\r\n",
       "@enduml\r\n",
       "\n",
       "PlantUML version 1.2020.13(Sat Jun 13 12:26:38 UTC 2020)\n",
       "(EPL source distribution)\n",
       "Java Runtime: OpenJDK Runtime Environment\n",
       "JVM: OpenJDK 64-Bit Server VM\n",
       "Default Encoding: UTF-8\n",
       "Language: en\n",
       "Country: null\n",
       "--></g></svg>"
      ]
     },
     "execution_count": 2,
     "metadata": {},
     "output_type": "execute_result"
    }
   ],
   "source": [
    "%viz \"Decision Example\""
   ]
  },
  {
   "cell_type": "code",
   "execution_count": null,
   "id": "italian-standing",
   "metadata": {},
   "outputs": [],
   "source": []
  }
 ],
 "metadata": {
  "kernelspec": {
   "display_name": "SysML",
   "language": "sysml",
   "name": "sysml"
  },
  "language_info": {
   "codemirror_mode": "sysml",
   "file_extension": ".sysml",
   "mimetype": "text/x-sysml",
   "name": "SysML",
   "pygments_lexer": "java",
   "version": "1.0.0"
  }
 },
 "nbformat": 4,
 "nbformat_minor": 5
}
