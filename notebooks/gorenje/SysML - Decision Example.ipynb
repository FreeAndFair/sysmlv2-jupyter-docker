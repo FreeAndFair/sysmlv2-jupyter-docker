{
 "cells": [
  {
   "cell_type": "markdown",
   "id": "split-wealth",
   "metadata": {},
   "source": [
    "## Decision Example\n",
    "\n",
    "Taken from the [training](/lab/tree/sysml/src/training/19.%20Control/Decision%20Example.sysml) directory."
   ]
  },
  {
   "cell_type": "code",
   "execution_count": 1,
   "id": "secondary-canada",
   "metadata": {
    "execution": {
     "iopub.execute_input": "2021-03-26T09:40:09.168118Z",
     "iopub.status.busy": "2021-03-26T09:40:09.167194Z",
     "iopub.status.idle": "2021-03-26T09:40:09.975956Z",
     "shell.execute_reply": "2021-03-26T09:40:09.975358Z"
    }
   },
   "outputs": [
    {
     "data": {
      "text/plain": [
       "Package Decision Example (8822360c-d8e4-4b61-bde1-7c85f3792a1a)\n"
      ]
     },
     "execution_count": 1,
     "metadata": {},
     "output_type": "execute_result"
    }
   ],
   "source": [
    "package 'Decision Example' {\n",
    "\timport ScalarValues::*;\n",
    "\t\n",
    "\tattribute def BatteryCharged;\n",
    "\t\n",
    "\tpart battery;\n",
    "\tpart powerSystem;\n",
    "\t\n",
    "\taction def AddCharge (in charge : Real);\n",
    "\t\n",
    "\taction def ChargeBattery {\n",
    "\t\tfirst start;\n",
    "\n",
    "\t\tthen merge continueCharging;\n",
    "\t\t\n",
    "\t\tthen action monitor accept batteryCharge : Real;\n",
    "\t\t\n",
    "\t\tthen decide;\n",
    "\t\t\tif monitor::batteryCharge < 100 then addCharge;\n",
    "\t\t\tif monitor::batteryCharge >= 100 then signalCharged;\n",
    "\t\t\t\n",
    "\t\taction addCharge : AddCharge (batteryCharge);\n",
    "\t\tthen continueCharging;\n",
    "\t\t\n",
    "\t\taction signalCharged send BatteryCharged() to powerSystem;\n",
    "\t\tthen done;\n",
    "\t}\n",
    "}"
   ]
  },
  {
   "cell_type": "code",
   "execution_count": 2,
   "id": "tamil-disease",
   "metadata": {
    "execution": {
     "iopub.execute_input": "2021-03-26T09:40:10.027160Z",
     "iopub.status.busy": "2021-03-26T09:40:10.026729Z",
     "iopub.status.idle": "2021-03-26T09:40:10.629193Z",
     "shell.execute_reply": "2021-03-26T09:40:10.628184Z"
    }
   },
   "outputs": [
    {
     "data": {
      "image/svg+xml": [
       "<?xml version=\"1.0\" encoding=\"UTF-8\" standalone=\"no\"?><svg xmlns=\"http://www.w3.org/2000/svg\" xmlns:xlink=\"http://www.w3.org/1999/xlink\" contentScriptType=\"application/ecmascript\" contentStyleType=\"text/css\" height=\"488px\" preserveAspectRatio=\"none\" style=\"width:1025px;height:488px;\" version=\"1.1\" viewBox=\"0 0 1025 488\" width=\"1025px\" zoomAndPan=\"magnify\"><defs/><g><!--MD5=[fbc87193dbaf4d95561dea2c320d4a47]\n",
       "cluster E1--><polygon fill=\"#FFFFFF\" points=\"16,6,159,6,166,28.2969,1003,28.2969,1003,476.5,16,476.5,16,6\" style=\"stroke: #000000; stroke-width: 1.5;\"/><line style=\"stroke: #000000; stroke-width: 1.5;\" x1=\"16\" x2=\"166\" y1=\"28.2969\" y2=\"28.2969\"/><text fill=\"#000000\" font-family=\"sans-serif\" font-size=\"14\" font-weight=\"bold\" lengthAdjust=\"spacingAndGlyphs\" textLength=\"137\" x=\"20\" y=\"20.9951\">Decision Example</text><!--MD5=[de5ec2e2e8f62f467e546659f5068c88]\n",
       "cluster E5--><rect fill=\"#FFFFFF\" height=\"133.5\" style=\"stroke: #000000; stroke-width: 1.5;\" width=\"136\" x=\"851\" y=\"109.5\"/><text fill=\"#000000\" font-family=\"sans-serif\" font-size=\"14\" font-weight=\"bold\" lengthAdjust=\"spacingAndGlyphs\" textLength=\"88\" x=\"875\" y=\"124.4951\">AddCharge</text><!--MD5=[168fadf3d0c3fd93dd5d6da1b1d7ab76]\n",
       "cluster E7--><rect fill=\"#FFFFFF\" height=\"403.5\" style=\"stroke: #000000; stroke-width: 1.5;\" width=\"404\" x=\"431\" y=\"49\"/><text fill=\"#000000\" font-family=\"sans-serif\" font-size=\"14\" font-weight=\"bold\" lengthAdjust=\"spacingAndGlyphs\" textLength=\"114\" x=\"576\" y=\"63.9951\">ChargeBattery</text><!--MD5=[917b9dd0c7eca3ee5f47219d1a84c0ad]\n",
       "cluster E11--><rect fill=\"#F8F8F8\" height=\"141.5\" rx=\"12.5\" ry=\"12.5\" style=\"stroke: #000000; stroke-width: 1.5;\" width=\"140\" x=\"515\" y=\"109.5\"/><rect fill=\"#FFFFFF\" height=\"109.2031\" rx=\"12.5\" ry=\"12.5\" style=\"stroke: #FFFFFF; stroke-width: 1.0;\" width=\"134\" x=\"518\" y=\"138.7969\"/><line style=\"stroke: #000000; stroke-width: 1.5;\" x1=\"515\" x2=\"655\" y1=\"135.7969\" y2=\"135.7969\"/><text fill=\"#000000\" font-family=\"sans-serif\" font-size=\"14\" lengthAdjust=\"spacingAndGlyphs\" textLength=\"76\" x=\"547\" y=\"127.4951\">addCharge</text><!--MD5=[03104f77b71e2d8d3500c651e6e31181]\n",
       "cluster E13--><rect fill=\"#F8F8F8\" height=\"230.5\" rx=\"12.5\" ry=\"12.5\" style=\"stroke: #000000; stroke-width: 1.5;\" width=\"148\" x=\"671\" y=\"84\"/><rect fill=\"#FFFFFF\" height=\"198.2031\" rx=\"12.5\" ry=\"12.5\" style=\"stroke: #FFFFFF; stroke-width: 1.0;\" width=\"142\" x=\"674\" y=\"113.2969\"/><line style=\"stroke: #000000; stroke-width: 1.5;\" x1=\"671\" x2=\"819\" y1=\"110.2969\" y2=\"110.2969\"/><text fill=\"#000000\" font-family=\"sans-serif\" font-size=\"14\" lengthAdjust=\"spacingAndGlyphs\" textLength=\"99\" x=\"695.5\" y=\"101.9951\">signalCharged</text><!--MD5=[b4997ac47864f28c2f74865a473b2911]\n",
       "class E2--><rect fill=\"#FFFFFF\" height=\"45.9375\" id=\"E2\" style=\"stroke: #383838; stroke-width: 1.5;\" width=\"104\" x=\"311\" y=\"86.5\"/><text fill=\"#000000\" font-family=\"sans-serif\" font-size=\"12\" font-style=\"italic\" lengthAdjust=\"spacingAndGlyphs\" textLength=\"93\" x=\"316.5\" y=\"102.6387\">«attribute def»</text><text fill=\"#000000\" font-family=\"sans-serif\" font-size=\"12\" lengthAdjust=\"spacingAndGlyphs\" textLength=\"98\" x=\"314\" y=\"116.6074\">BatteryCharged</text><line style=\"stroke: #383838; stroke-width: 1.5;\" x1=\"312\" x2=\"414\" y1=\"124.4375\" y2=\"124.4375\"/><!--MD5=[09b614a08d8cba4a07c9adeb5e0fee81]\n",
       "class E3--><rect fill=\"#FFFFFF\" height=\"45.9375\" id=\"E3\" rx=\"10\" ry=\"10\" style=\"stroke: #383838; stroke-width: 1.5;\" width=\"85\" x=\"190.5\" y=\"86.5\"/><text fill=\"#000000\" font-family=\"sans-serif\" font-size=\"12\" font-style=\"italic\" lengthAdjust=\"spacingAndGlyphs\" textLength=\"40\" x=\"213\" y=\"102.6387\">«part»</text><text fill=\"#000000\" font-family=\"sans-serif\" font-size=\"12\" lengthAdjust=\"spacingAndGlyphs\" textLength=\"79\" x=\"193.5\" y=\"116.6074\">battery: Part</text><line style=\"stroke: #383838; stroke-width: 1.5;\" x1=\"191.5\" x2=\"274.5\" y1=\"124.4375\" y2=\"124.4375\"/><!--MD5=[ebbe1d658d1005bcc118a6aa81145e00]\n",
       "class E4--><rect fill=\"#FFFFFF\" height=\"45.9375\" id=\"E4\" rx=\"10\" ry=\"10\" style=\"stroke: #383838; stroke-width: 1.5;\" width=\"123\" x=\"32.5\" y=\"86.5\"/><text fill=\"#000000\" font-family=\"sans-serif\" font-size=\"12\" font-style=\"italic\" lengthAdjust=\"spacingAndGlyphs\" textLength=\"40\" x=\"74\" y=\"102.6387\">«part»</text><text fill=\"#000000\" font-family=\"sans-serif\" font-size=\"12\" lengthAdjust=\"spacingAndGlyphs\" textLength=\"117\" x=\"35.5\" y=\"116.6074\">powerSystem: Part</text><line style=\"stroke: #383838; stroke-width: 1.5;\" x1=\"33.5\" x2=\"154.5\" y1=\"124.4375\" y2=\"124.4375\"/><text fill=\"#000000\" font-family=\"sans-serif\" font-size=\"14\" lengthAdjust=\"spacingAndGlyphs\" textLength=\"48\" x=\"895\" y=\"88.1982\">charge</text><rect fill=\"#383838\" height=\"12\" style=\"stroke: #F8F8F8; stroke-width: 1.5;\" width=\"12\" x=\"913\" y=\"103.5\"/><polygon fill=\"#F8F8F8\" points=\"534,302.5,546,314.5,534,326.5,522,314.5,534,302.5\" style=\"stroke: #383838; stroke-width: 1.5;\"/><g id=\"E1.E7.E8\"><rect fill=\"#FFFFFF\" height=\"50\" rx=\"12.5\" ry=\"12.5\" style=\"stroke: #383838; stroke-width: 1.5;\" width=\"51\" x=\"447.5\" y=\"192.5\"/><line style=\"stroke: #383838; stroke-width: 1.5;\" x1=\"447.5\" x2=\"498.5\" y1=\"218.7969\" y2=\"218.7969\"/><text fill=\"#000000\" font-family=\"sans-serif\" font-size=\"14\" lengthAdjust=\"spacingAndGlyphs\" textLength=\"31\" x=\"457.5\" y=\"210.4951\">start</text></g><g id=\"E1.E7.E10\"><rect fill=\"#FFFFFF\" height=\"50\" rx=\"12.5\" ry=\"12.5\" style=\"stroke: #383838; stroke-width: 1.5;\" width=\"73\" x=\"497.5\" y=\"386.5\"/><line style=\"stroke: #383838; stroke-width: 1.5;\" x1=\"497.5\" x2=\"570.5\" y1=\"412.7969\" y2=\"412.7969\"/><text fill=\"#000000\" font-family=\"sans-serif\" font-size=\"14\" lengthAdjust=\"spacingAndGlyphs\" textLength=\"53\" x=\"507.5\" y=\"404.4951\">monitor</text></g><text fill=\"#000000\" font-family=\"sans-serif\" font-size=\"14\" lengthAdjust=\"spacingAndGlyphs\" textLength=\"98\" x=\"536\" y=\"88.1982\">batteryCharge</text><rect fill=\"#383838\" height=\"12\" style=\"stroke: #F8F8F8; stroke-width: 1.5;\" width=\"12\" x=\"579\" y=\"103.5\"/><text fill=\"#000000\" font-family=\"sans-serif\" font-size=\"14\" lengthAdjust=\"spacingAndGlyphs\" textLength=\"48\" x=\"721\" y=\"333.4951\">$result</text><rect fill=\"#383838\" height=\"12\" style=\"stroke: #F8F8F8; stroke-width: 1.5;\" width=\"12\" x=\"739\" y=\"308.5\"/><!--MD5=[ed10624c06dd9a4fa49ccf290e8b16a8]\n",
       "link E8 to E9--><path d=\"M488.71,242.96 C500.89,261.93 517.22,287.36 526.58,301.94 \" fill=\"none\" id=\"E8-&gt;E9\" style=\"stroke: #383838; stroke-width: 1.0;\"/><polygon fill=\"#383838\" points=\"529.46,306.44,527.9496,296.7077,526.7526,302.2364,521.2238,301.0395,529.46,306.44\" style=\"stroke: #383838; stroke-width: 1.0;\"/><!--MD5=[35e5f1cbde42fa304a029880aa2bc7f2]\n",
       "link E9 to E10--><path d=\"M534,326.77 C534,340.07 534,362.69 534,381.07 \" fill=\"none\" id=\"E9-&gt;E10\" style=\"stroke: #383838; stroke-width: 1.0;\"/><polygon fill=\"#383838\" points=\"534,386.14,538,377.14,534,381.14,530,377.14,534,386.14\" style=\"stroke: #383838; stroke-width: 1.0;\"/><!--MD5=[7fa823448867f45d961c344e849ff405]\n",
       "link E11 to E9--><path d=\"M567.4854,251.1218 C567.4289,251.227 567.3723,251.3324 567.3157,251.4378 C567.2025,251.6488 567.089,251.8601 566.9753,252.0719 C566.748,252.4954 566.5198,252.9205 566.2908,253.3471 C564.4588,256.76 562.5763,260.2669 560.685,263.79 C553.12,277.8825 545.415,292.235 540.24,301.87 \" fill=\"none\" id=\"E11-&gt;E9\" style=\"stroke: #383838; stroke-width: 1.0;\"/><polygon fill=\"#383838\" points=\"537.84,306.34,545.6159,300.2956,540.2011,301.9326,538.5641,296.5178,537.84,306.34\" style=\"stroke: #383838; stroke-width: 1.0;\"/><!--MD5=[e3c67b92b4a1e45c40015d0e12671280]\n",
       "@startuml\r\n",
       "skinparam monochrome true\r\n",
       "skinparam classbackgroundcolor white\r\n",
       "skinparam shadowing false\r\n",
       "skinparam wrapWidth 300\r\n",
       "hide circle\r\n",
       "\r\n",
       "package \"Decision Example\" as E1   {\r\n",
       "comp def \"BatteryCharged\" as E2  <<(T,blue)attribute def>> {\r\n",
       "}\r\n",
       "comp usage \"battery: Part\" as E3  <<(T,blue)part>> {\r\n",
       "}\r\n",
       "comp usage \"powerSystem: Part\" as E4  <<(T,blue)part>> {\r\n",
       "}\r\n",
       "rec def \"AddCharge\" as E5 {\r\n",
       "portin \"charge\" as E6  \r\n",
       "}\r\n",
       "\r\n",
       "rec def \"ChargeBattery\" as E7 {\r\n",
       "rec usage \"start\" as E8 {\r\n",
       "}\r\n",
       "\r\n",
       "choice \"continueCharging\" as E9  \r\n",
       "rec usage \"monitor\" as E10 {\r\n",
       "}\r\n",
       "\r\n",
       "rec usage \"addCharge\" as E11 {\r\n",
       "portin \"batteryCharge\" as E12  \r\n",
       "}\r\n",
       "\r\n",
       "rec usage \"signalCharged\" as E13 {\r\n",
       "portout \"$result\" as E14  \r\n",
       "}\r\n",
       "\r\n",
       "}\r\n",
       "\r\n",
       "E8 - -> E9\r\n",
       "E9 - -> E10\r\n",
       "E11 - -> E9\r\n",
       "}\r\n",
       "@enduml\r\n",
       "\n",
       "PlantUML version 1.2020.13(Sat Jun 13 12:26:38 UTC 2020)\n",
       "(EPL source distribution)\n",
       "Java Runtime: OpenJDK Runtime Environment\n",
       "JVM: OpenJDK 64-Bit Server VM\n",
       "Default Encoding: UTF-8\n",
       "Language: en\n",
       "Country: null\n",
       "--></g></svg>"
      ]
     },
     "execution_count": 2,
     "metadata": {},
     "output_type": "execute_result"
    }
   ],
   "source": [
    "%viz \"Decision Example\""
   ]
  },
  {
   "cell_type": "code",
   "execution_count": null,
   "id": "attractive-grain",
   "metadata": {},
   "outputs": [],
   "source": []
  }
 ],
 "metadata": {
  "kernelspec": {
   "display_name": "SysML",
   "language": "sysml",
   "name": "sysml"
  },
  "language_info": {
   "codemirror_mode": "sysml",
   "file_extension": ".sysml",
   "mimetype": "text/x-sysml",
   "name": "SysML",
   "pygments_lexer": "java",
   "version": "1.0.0"
  }
 },
 "nbformat": 4,
 "nbformat_minor": 5
}
