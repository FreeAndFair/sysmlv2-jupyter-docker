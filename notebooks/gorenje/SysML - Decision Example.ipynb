{
 "cells": [
  {
   "cell_type": "markdown",
   "id": "split-wealth",
   "metadata": {},
   "source": [
    "## Decision Example\n",
    "\n",
    "Taken from the [training](/lab/tree/sysml/src/training/19.%20Control/Decision%20Example.sysml) directory."
   ]
  },
  {
   "cell_type": "code",
   "execution_count": 1,
   "id": "secondary-canada",
   "metadata": {
    "execution": {
     "iopub.execute_input": "2021-03-26T12:59:50.440340Z",
     "iopub.status.busy": "2021-03-26T12:59:50.439473Z",
     "iopub.status.idle": "2021-03-26T12:59:50.855580Z",
     "shell.execute_reply": "2021-03-26T12:59:50.853930Z"
    }
   },
   "outputs": [
    {
     "data": {
      "text/plain": [
       "Package Decision Example (8b4bff0e-3823-49a7-8724-ba7728cd1d89)\n"
      ]
     },
     "execution_count": 1,
     "metadata": {},
     "output_type": "execute_result"
    }
   ],
   "source": [
    "package 'Decision Example' {\n",
    "\timport ScalarValues::*;\n",
    "\t\n",
    "\tattribute def BatteryCharged;\n",
    "\t\n",
    "\tpart battery;\n",
    "\tpart powerSystem;\n",
    "\t\n",
    "\taction def AddCharge (in charge : Real);\n",
    "\t\n",
    "\taction def ChargeBattery {\n",
    "\t\tfirst start;\n",
    "\n",
    "\t\tthen merge continueCharging;\n",
    "\t\t\n",
    "\t\tthen action monitor accept batteryCharge : Real;\n",
    "\t\t\n",
    "\t\tthen decide;\n",
    "\t\t\tif monitor::batteryCharge < 100 then addCharge;\n",
    "\t\t\tif monitor::batteryCharge >= 100 then signalCharged;\n",
    "\t\t\t\n",
    "\t\taction addCharge : AddCharge (batteryCharge);\n",
    "\t\tthen continueCharging;\n",
    "\t\t\n",
    "\t\taction signalCharged send BatteryCharged() to powerSystem;\n",
    "\t\tthen done;\n",
    "\t}\n",
    "}"
   ]
  },
  {
   "cell_type": "code",
   "execution_count": 2,
   "id": "tamil-disease",
   "metadata": {
    "execution": {
     "iopub.execute_input": "2021-03-26T12:59:50.909962Z",
     "iopub.status.busy": "2021-03-26T12:59:50.908529Z",
     "iopub.status.idle": "2021-03-26T12:59:51.468951Z",
     "shell.execute_reply": "2021-03-26T12:59:51.469338Z"
    }
   },
   "outputs": [
    {
     "data": {
      "image/svg+xml": [
       "<?xml version=\"1.0\" encoding=\"UTF-8\" standalone=\"no\"?><svg xmlns=\"http://www.w3.org/2000/svg\" xmlns:xlink=\"http://www.w3.org/1999/xlink\" contentScriptType=\"application/ecmascript\" contentStyleType=\"text/css\" height=\"500px\" preserveAspectRatio=\"none\" style=\"width:938px;height:500px;background:#000000;\" version=\"1.1\" viewBox=\"0 0 938 500\" width=\"938px\" zoomAndPan=\"magnify\"><defs/><g><rect fill=\"#011A16\" height=\"1\" style=\"stroke: #011A16; stroke-width: 1.0;\" width=\"1\" x=\"0\" y=\"0\"/><rect fill=\"#33FF02\" height=\"21.2969\" style=\"stroke: #33FF02; stroke-width: 1.0;\" width=\"931\" x=\"5\" y=\"5\"/><text fill=\"#000000\" font-family=\"sans-serif\" font-size=\"14\" font-weight=\"bold\" lengthAdjust=\"spacingAndGlyphs\" textLength=\"178\" x=\"6\" y=\"20\">[From string (line 27) ]</text><text fill=\"#33FF02\" font-family=\"sans-serif\" font-size=\"14\" font-weight=\"bold\" lengthAdjust=\"spacingAndGlyphs\" textLength=\"0\" x=\"10\" y=\"40.2969\"/><text fill=\"#33FF02\" font-family=\"sans-serif\" font-size=\"14\" font-weight=\"bold\" lengthAdjust=\"spacingAndGlyphs\" textLength=\"79\" x=\"5\" y=\"56.5938\">@startuml</text><text fill=\"#33FF02\" font-family=\"sans-serif\" font-size=\"14\" font-weight=\"bold\" lengthAdjust=\"spacingAndGlyphs\" textLength=\"228\" x=\"5\" y=\"72.8906\">skinparam monochrome true</text><text fill=\"#33FF02\" font-family=\"sans-serif\" font-size=\"14\" font-weight=\"bold\" lengthAdjust=\"spacingAndGlyphs\" textLength=\"309\" x=\"5\" y=\"89.1875\">skinparam classbackgroundcolor white</text><text fill=\"#33FF02\" font-family=\"sans-serif\" font-size=\"14\" font-weight=\"bold\" lengthAdjust=\"spacingAndGlyphs\" textLength=\"215\" x=\"5\" y=\"105.4844\">skinparam shadowing false</text><text fill=\"#33FF02\" font-family=\"sans-serif\" font-size=\"14\" font-weight=\"bold\" lengthAdjust=\"spacingAndGlyphs\" textLength=\"206\" x=\"5\" y=\"121.7813\">skinparam wrapWidth 300</text><text fill=\"#33FF02\" font-family=\"sans-serif\" font-size=\"14\" font-weight=\"bold\" lengthAdjust=\"spacingAndGlyphs\" textLength=\"82\" x=\"5\" y=\"138.0781\">hide circle</text><text fill=\"#33FF02\" font-family=\"sans-serif\" font-size=\"14\" font-weight=\"bold\" lengthAdjust=\"spacingAndGlyphs\" textLength=\"0\" x=\"10\" y=\"154.375\"/><text fill=\"#33FF02\" font-family=\"sans-serif\" font-size=\"14\" font-weight=\"bold\" lengthAdjust=\"spacingAndGlyphs\" textLength=\"715\" x=\"5\" y=\"170.6719\">package \"Decision Example\" as E1  [[psysml:bc30bcc3-3c6a-4df3-b129-4c8f5dcaebcc ]]  {</text><text fill=\"#33FF02\" font-family=\"sans-serif\" font-size=\"14\" font-weight=\"bold\" lengthAdjust=\"spacingAndGlyphs\" textLength=\"931\" x=\"5\" y=\"186.9688\">comp def \"BatteryCharged\" as E2  &lt;&lt;(T,blue)attribute def&gt;&gt; [[psysml:933337b9-3998-46d9-b718-b806ea99193f ]] {</text><text fill=\"#33FF02\" font-family=\"sans-serif\" font-size=\"14\" font-weight=\"bold\" lengthAdjust=\"spacingAndGlyphs\" textLength=\"10\" x=\"5\" y=\"203.2656\">}</text><text fill=\"#33FF02\" font-family=\"sans-serif\" font-size=\"14\" font-weight=\"bold\" lengthAdjust=\"spacingAndGlyphs\" textLength=\"816\" x=\"5\" y=\"219.5625\">comp usage \"battery\" as E3  &lt;&lt;(T,blue)part&gt;&gt; [[psysml:1bb3a945-d562-4d12-8d2c-1dd257a957af ]] {</text><text fill=\"#33FF02\" font-family=\"sans-serif\" font-size=\"14\" font-weight=\"bold\" lengthAdjust=\"spacingAndGlyphs\" textLength=\"10\" x=\"5\" y=\"235.8594\">}</text><text fill=\"#33FF02\" font-family=\"sans-serif\" font-size=\"14\" font-weight=\"bold\" lengthAdjust=\"spacingAndGlyphs\" textLength=\"868\" x=\"5\" y=\"252.1563\">comp usage \"powerSystem\" as E4  &lt;&lt;(T,blue)part&gt;&gt; [[psysml:38b2b337-22f7-40bf-b718-53163bbe633e ]] {</text><text fill=\"#33FF02\" font-family=\"sans-serif\" font-size=\"14\" font-weight=\"bold\" lengthAdjust=\"spacingAndGlyphs\" textLength=\"10\" x=\"5\" y=\"268.4531\">}</text><text fill=\"#33FF02\" font-family=\"sans-serif\" font-size=\"14\" font-weight=\"bold\" lengthAdjust=\"spacingAndGlyphs\" textLength=\"843\" x=\"5\" y=\"284.75\">rec def \"AddCharge\" as E5  &lt;&lt;(T,blue)action def&gt;&gt; [[psysml:cd5ad74a-bb6a-406c-bb47-c68fdfc00cf3 ]] {</text><text fill=\"#33FF02\" font-family=\"sans-serif\" font-size=\"14\" font-weight=\"bold\" lengthAdjust=\"spacingAndGlyphs\" textLength=\"599\" x=\"5\" y=\"301.0469\">portin \"charge\" as E6  [[psysml:e8f29c4c-8472-43da-9197-7638a6ec59f7 ]]</text><text fill=\"#33FF02\" font-family=\"sans-serif\" font-size=\"14\" font-weight=\"bold\" lengthAdjust=\"spacingAndGlyphs\" textLength=\"10\" x=\"5\" y=\"317.3438\">}</text><text fill=\"#33FF02\" font-family=\"sans-serif\" font-size=\"14\" font-weight=\"bold\" lengthAdjust=\"spacingAndGlyphs\" textLength=\"0\" x=\"10\" y=\"333.6406\"/><text fill=\"#33FF02\" font-family=\"sans-serif\" font-size=\"14\" font-weight=\"bold\" lengthAdjust=\"spacingAndGlyphs\" textLength=\"878\" x=\"5\" y=\"349.9375\">rec def \"ChargeBattery\" as E7  &lt;&lt;(T,blue)action def&gt;&gt; [[psysml:eab79dc9-5de0-4f17-a091-8ed39d293f48 ]] {</text><text fill=\"#33FF02\" font-family=\"sans-serif\" font-size=\"14\" font-weight=\"bold\" lengthAdjust=\"spacingAndGlyphs\" textLength=\"789\" x=\"5\" y=\"366.2344\">rec usage \"start\" as E8  &lt;&lt;(T,blue)action&gt;&gt; [[psysml:52b91b1f-7ecf-402e-8020-04d17093fc1d ]] {</text><text fill=\"#33FF02\" font-family=\"sans-serif\" font-size=\"14\" font-weight=\"bold\" lengthAdjust=\"spacingAndGlyphs\" textLength=\"10\" x=\"5\" y=\"382.5313\">}</text><text fill=\"#33FF02\" font-family=\"sans-serif\" font-size=\"14\" font-weight=\"bold\" lengthAdjust=\"spacingAndGlyphs\" textLength=\"0\" x=\"10\" y=\"398.8281\"/><text fill=\"#33FF02\" font-family=\"sans-serif\" font-size=\"14\" font-weight=\"bold\" lengthAdjust=\"spacingAndGlyphs\" textLength=\"692\" x=\"5\" y=\"415.125\">choice \"continueCharging\" as E9  [[psysml:9e6e67d3-ba1e-493d-861b-adf31b27863f ]]</text><text fill=\"#33FF02\" font-family=\"sans-serif\" font-size=\"14\" font-weight=\"bold\" lengthAdjust=\"spacingAndGlyphs\" textLength=\"821\" x=\"5\" y=\"431.4219\">rec usage \"monitor\" as E10 &lt;&lt;accept action&gt;&gt; [[psysml:780bc045-5c81-4907-9bc2-5f22d1dc06bb ]] {</text><text fill=\"#33FF02\" font-family=\"sans-serif\" font-size=\"14\" font-weight=\"bold\" lengthAdjust=\"spacingAndGlyphs\" textLength=\"10\" x=\"5\" y=\"447.7188\">}</text><text fill=\"#33FF02\" font-family=\"sans-serif\" font-size=\"14\" font-weight=\"bold\" lengthAdjust=\"spacingAndGlyphs\" textLength=\"0\" x=\"10\" y=\"464.0156\"/><text fill=\"#33FF02\" font-family=\"sans-serif\" font-size=\"14\" font-weight=\"bold\" lengthAdjust=\"spacingAndGlyphs\" textLength=\"10\" x=\"5\" y=\"480.3125\">{</text><text fill=\"#FF0000\" font-family=\"sans-serif\" font-size=\"14\" font-weight=\"bold\" lengthAdjust=\"spacingAndGlyphs\" textLength=\"106\" x=\"10\" y=\"496.6094\">Syntax Error?</text><!--MD5=[282a8a449b7e844a6663b807fedf3607]\n",
       "@startuml\r\n",
       "skinparam monochrome true\r\n",
       "skinparam classbackgroundcolor white\r\n",
       "skinparam shadowing false\r\n",
       "skinparam wrapWidth 300\r\n",
       "hide circle\r\n",
       "\r\n",
       "package \"Decision Example\" as E1  [[psysml:bc30bcc3-3c6a-4df3-b129-4c8f5dcaebcc ]]  {\r\n",
       "comp def \"BatteryCharged\" as E2  <<(T,blue)attribute def>> [[psysml:933337b9-3998-46d9-b718-b806ea99193f ]] {\r\n",
       "}\r\n",
       "comp usage \"battery\" as E3  <<(T,blue)part>> [[psysml:1bb3a945-d562-4d12-8d2c-1dd257a957af ]] {\r\n",
       "}\r\n",
       "comp usage \"powerSystem\" as E4  <<(T,blue)part>> [[psysml:38b2b337-22f7-40bf-b718-53163bbe633e ]] {\r\n",
       "}\r\n",
       "rec def \"AddCharge\" as E5  <<(T,blue)action def>> [[psysml:cd5ad74a-bb6a-406c-bb47-c68fdfc00cf3 ]] {\r\n",
       "portin \"charge\" as E6  [[psysml:e8f29c4c-8472-43da-9197-7638a6ec59f7 ]] \r\n",
       "}\r\n",
       "\r\n",
       "rec def \"ChargeBattery\" as E7  <<(T,blue)action def>> [[psysml:eab79dc9-5de0-4f17-a091-8ed39d293f48 ]] {\r\n",
       "rec usage \"start\" as E8  <<(T,blue)action>> [[psysml:52b91b1f-7ecf-402e-8020-04d17093fc1d ]] {\r\n",
       "}\r\n",
       "\r\n",
       "choice \"continueCharging\" as E9  [[psysml:9e6e67d3-ba1e-493d-861b-adf31b27863f ]] \r\n",
       "rec usage \"monitor\" as E10 <<accept action>> [[psysml:780bc045-5c81-4907-9bc2-5f22d1dc06bb ]] {\r\n",
       "}\r\n",
       "\r\n",
       "{\r\n",
       "}\r\n",
       "\r\n",
       "{\r\n",
       "portout \"$result\" as E11  [[psysml:9605b289-8a15-4781-bb44-d2acfb49367e ]] \r\n",
       "portin \"$x\" as E12  [[psysml:13330dc3-ae2b-4c98-9954-7760e6aa3a36 ]] \r\n",
       "portin \"$y\" as E13  [[psysml:039a41fb-b7c6-4bd8-b11e-11fa4bc1f664 ]] \r\n",
       "portout \"$result\" as E14  [[psysml:5cf8bddf-4e41-49ce-b9c3-bbe63c909bc5 ]] \r\n",
       "}\r\n",
       "\r\n",
       "{\r\n",
       "portout \"$result\" as E15  [[psysml:3914aaed-e972-4d6f-8362-eaa090fd54fd ]] \r\n",
       "portin \"$x\" as E16  [[psysml:cabdff26-6682-41de-a457-3a6f4989fd4b ]] \r\n",
       "portin \"$y\" as E17  [[psysml:b4f90a5a-62ce-4c7f-a5fe-4491ba251201 ]] \r\n",
       "portout \"$result\" as E18  [[psysml:5505d3f2-b361-48a0-945c-341d0edc0e61 ]] \r\n",
       "}\r\n",
       "\r\n",
       "rec usage \"addCharge\" as E19  <<(T,blue)action>> [[psysml:41eb37fa-6423-4d62-aed6-6c94b6fe0e7f ]] {\r\n",
       "portin \"batteryCharge\" as E20  [[psysml:ca749bce-42b9-4e06-90e5-2eed2bb99213 ]] \r\n",
       "}\r\n",
       "\r\n",
       "rec usage \"signalCharged\" as E21 <<send action>> [[psysml:4f4bb276-c69e-4d99-b7ff-d1c66d9f9699 ]] {\r\n",
       "portout \"$result\" as E22  [[psysml:9b70159e-7704-49ea-8a69-7d40cb05be16 ]] \r\n",
       "}\r\n",
       "\r\n",
       "}\r\n",
       "\r\n",
       "}\r\n",
       "@enduml\r\n",
       "\n",
       "PlantUML version 1.2020.13(Sat Jun 13 12:26:38 UTC 2020)\n",
       "(EPL source distribution)\n",
       "Java Runtime: OpenJDK Runtime Environment\n",
       "JVM: OpenJDK 64-Bit Server VM\n",
       "Default Encoding: UTF-8\n",
       "Language: en\n",
       "Country: null\n",
       "--></g></svg>"
      ]
     },
     "execution_count": 2,
     "metadata": {},
     "output_type": "execute_result"
    }
   ],
   "source": [
    "%viz \"Decision Example\""
   ]
  },
  {
   "cell_type": "code",
   "execution_count": null,
   "id": "attractive-grain",
   "metadata": {},
   "outputs": [],
   "source": []
  }
 ],
 "metadata": {
  "kernelspec": {
   "display_name": "SysML",
   "language": "sysml",
   "name": "sysml"
  },
  "language_info": {
   "codemirror_mode": "sysml",
   "file_extension": ".sysml",
   "mimetype": "text/x-sysml",
   "name": "SysML",
   "pygments_lexer": "java",
   "version": "1.0.0"
  }
 },
 "nbformat": 4,
 "nbformat_minor": 5
}
