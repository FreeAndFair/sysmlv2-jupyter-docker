{
 "cells": [
  {
   "cell_type": "markdown",
   "id": "split-wealth",
   "metadata": {},
   "source": [
    "## Decision Example\n",
    "\n",
    "Taken from the [training](/lab/tree/sysml/src/training/19.%20Control/Decision%20Example.sysml) directory."
   ]
  },
  {
   "cell_type": "code",
   "execution_count": 1,
   "id": "secondary-canada",
   "metadata": {
    "execution": {
     "iopub.execute_input": "2021-04-21T20:19:51.982393Z",
     "iopub.status.busy": "2021-04-21T20:19:51.981872Z",
     "iopub.status.idle": "2021-04-21T20:19:52.671003Z",
     "shell.execute_reply": "2021-04-21T20:19:52.670472Z"
    }
   },
   "outputs": [
    {
     "data": {
      "text/plain": [
       "Package Decision Example (46348d38-c123-4c73-92d9-f2f28b593e72)\n"
      ]
     },
     "execution_count": 1,
     "metadata": {},
     "output_type": "execute_result"
    }
   ],
   "source": [
    "package 'Decision Example' {\n",
    "\timport ScalarValues::*;\n",
    "\t\n",
    "\tattribute def BatteryCharged;\n",
    "\t\n",
    "\tpart battery;\n",
    "\tpart powerSystem;\n",
    "\t\n",
    "\taction def AddCharge (in charge : Real);\n",
    "\t\n",
    "\taction def ChargeBattery {\n",
    "\t\tfirst start;\n",
    "\n",
    "\t\tthen merge continueCharging;\n",
    "\t\t\n",
    "\t\tthen action monitor accept batteryCharge : Real;\n",
    "\t\t\n",
    "\t\tthen decide;\n",
    "\t\t\tif monitor::batteryCharge < 100 then addCharge;\n",
    "\t\t\tif monitor::batteryCharge >= 100 then signalCharged;\n",
    "\t\t\t\n",
    "\t\taction addCharge : AddCharge (batteryCharge);\n",
    "\t\tthen continueCharging;\n",
    "\t\t\n",
    "\t\taction signalCharged send BatteryCharged() to powerSystem;\n",
    "\t\tthen done;\n",
    "\t}\n",
    "}"
   ]
  },
  {
   "cell_type": "code",
   "execution_count": 2,
   "id": "tamil-disease",
   "metadata": {
    "execution": {
     "iopub.execute_input": "2021-04-21T20:19:52.723461Z",
     "iopub.status.busy": "2021-04-21T20:19:52.722702Z",
     "iopub.status.idle": "2021-04-21T20:19:53.667618Z",
     "shell.execute_reply": "2021-04-21T20:19:53.667096Z"
    }
   },
   "outputs": [
    {
     "data": {
      "image/svg+xml": [
       "<?xml version=\"1.0\" encoding=\"UTF-8\" standalone=\"no\"?><svg xmlns=\"http://www.w3.org/2000/svg\" xmlns:xlink=\"http://www.w3.org/1999/xlink\" contentScriptType=\"application/ecmascript\" contentStyleType=\"text/css\" height=\"847px\" preserveAspectRatio=\"none\" style=\"width:712px;height:847px;\" version=\"1.1\" viewBox=\"0 0 712 847\" width=\"712px\" zoomAndPan=\"magnify\"><defs/><g><!--MD5=[fbc87193dbaf4d95561dea2c320d4a47]\n",
       "cluster E1--><a href=\"psysml:2abaf91e-b51c-4a9b-881a-5eb885796655\" target=\"_top\" title=\"psysml:2abaf91e-b51c-4a9b-881a-5eb885796655\" xlink:actuate=\"onRequest\" xlink:href=\"psysml:2abaf91e-b51c-4a9b-881a-5eb885796655\" xlink:show=\"new\" xlink:title=\"psysml:2abaf91e-b51c-4a9b-881a-5eb885796655\" xlink:type=\"simple\"><polygon fill=\"#FFFFFF\" points=\"16,6,159,6,166,28.2969,690,28.2969,690,835,16,835,16,6\" style=\"stroke: #000000; stroke-width: 1.5;\"/><line style=\"stroke: #000000; stroke-width: 1.5;\" x1=\"16\" x2=\"166\" y1=\"28.2969\" y2=\"28.2969\"/><text fill=\"#000000\" font-family=\"sans-serif\" font-size=\"14\" font-weight=\"bold\" lengthAdjust=\"spacingAndGlyphs\" textLength=\"137\" x=\"20\" y=\"20.9951\">Decision Example</text></a><!--MD5=[de5ec2e2e8f62f467e546659f5068c88]\n",
       "cluster E5--><a href=\"psysml:341db72b-d472-4c6d-a27f-caf7519581d7\" target=\"_top\" title=\"psysml:341db72b-d472-4c6d-a27f-caf7519581d7\" xlink:actuate=\"onRequest\" xlink:href=\"psysml:341db72b-d472-4c6d-a27f-caf7519581d7\" xlink:show=\"new\" xlink:title=\"psysml:341db72b-d472-4c6d-a27f-caf7519581d7\" xlink:type=\"simple\"><rect fill=\"#FFFFFF\" height=\"135\" id=\"E5\" style=\"stroke: #383838; stroke-width: 1.5;\" width=\"136\" x=\"538\" y=\"122\"/><rect fill=\"#F8F8F8\" height=\"37.9375\" style=\"stroke: #383838; stroke-width: 1.5;\" width=\"136\" x=\"538\" y=\"122\"/><text fill=\"#000000\" font-family=\"sans-serif\" font-size=\"12\" font-style=\"italic\" lengthAdjust=\"spacingAndGlyphs\" textLength=\"77\" x=\"567.5\" y=\"138.1387\">«action def»</text><text fill=\"#000000\" font-family=\"sans-serif\" font-size=\"12\" lengthAdjust=\"spacingAndGlyphs\" textLength=\"69\" x=\"571.5\" y=\"152.1074\">AddCharge</text></a><!--MD5=[168fadf3d0c3fd93dd5d6da1b1d7ab76]\n",
       "cluster E7--><a href=\"psysml:1df218d2-fbee-4092-861e-5f18065f9622\" target=\"_top\" title=\"psysml:1df218d2-fbee-4092-861e-5f18065f9622\" xlink:actuate=\"onRequest\" xlink:href=\"psysml:1df218d2-fbee-4092-861e-5f18065f9622\" xlink:show=\"new\" xlink:title=\"psysml:1df218d2-fbee-4092-861e-5f18065f9622\" xlink:type=\"simple\"><rect fill=\"#FFFFFF\" height=\"762\" id=\"E7\" style=\"stroke: #383838; stroke-width: 1.5;\" width=\"283\" x=\"239\" y=\"49\"/><rect fill=\"#F8F8F8\" height=\"37.9375\" style=\"stroke: #383838; stroke-width: 1.5;\" width=\"283\" x=\"239\" y=\"49\"/><text fill=\"#000000\" font-family=\"sans-serif\" font-size=\"12\" font-style=\"italic\" lengthAdjust=\"spacingAndGlyphs\" textLength=\"77\" x=\"342\" y=\"65.1387\">«action def»</text><text fill=\"#000000\" font-family=\"sans-serif\" font-size=\"12\" lengthAdjust=\"spacingAndGlyphs\" textLength=\"90\" x=\"335.5\" y=\"79.1074\">ChargeBattery</text></a><!--MD5=[917b9dd0c7eca3ee5f47219d1a84c0ad]\n",
       "cluster E11--><a href=\"psysml:57e6da41-7d4b-4ed5-9ab9-de67477e0f09\" target=\"_top\" title=\"psysml:57e6da41-7d4b-4ed5-9ab9-de67477e0f09\" xlink:actuate=\"onRequest\" xlink:href=\"psysml:57e6da41-7d4b-4ed5-9ab9-de67477e0f09\" xlink:show=\"new\" xlink:title=\"psysml:57e6da41-7d4b-4ed5-9ab9-de67477e0f09\" xlink:type=\"simple\"><rect fill=\"#FFFFFF\" height=\"143\" id=\"E11\" rx=\"10\" ry=\"10\" style=\"stroke: #383838; stroke-width: 1.5;\" width=\"150\" x=\"291\" y=\"122\"/><rect fill=\"#F8F8F8\" height=\"37.9375\" rx=\"10\" ry=\"10\" style=\"stroke: #F8F8F8; stroke-width: 1.5;\" width=\"150\" x=\"291\" y=\"122\"/><rect fill=\"#F8F8F8\" height=\"10\" style=\"stroke: #F8F8F8; stroke-width: 1.5;\" width=\"150\" x=\"291\" y=\"149.9375\"/><rect fill=\"none\" height=\"143\" id=\"E11\" rx=\"10\" ry=\"10\" style=\"stroke: #383838; stroke-width: 1.5;\" width=\"150\" x=\"291\" y=\"122\"/><text fill=\"#000000\" font-family=\"sans-serif\" font-size=\"12\" font-style=\"italic\" lengthAdjust=\"spacingAndGlyphs\" textLength=\"53\" x=\"339.5\" y=\"138.1387\">«action»</text><text fill=\"#000000\" font-family=\"sans-serif\" font-size=\"12\" lengthAdjust=\"spacingAndGlyphs\" textLength=\"69\" x=\"331.5\" y=\"152.1074\">addCharge</text><line style=\"stroke: #383838; stroke-width: 1.0;\" x1=\"291\" x2=\"441\" y1=\"159.9375\" y2=\"159.9375\"/></a><!--MD5=[b4997ac47864f28c2f74865a473b2911]\n",
       "class E2--><a href=\"psysml:ae7b0c2d-2a57-41b8-9118-6ba689c042ea\" target=\"_top\" title=\"psysml:ae7b0c2d-2a57-41b8-9118-6ba689c042ea\" xlink:actuate=\"onRequest\" xlink:href=\"psysml:ae7b0c2d-2a57-41b8-9118-6ba689c042ea\" xlink:show=\"new\" xlink:title=\"psysml:ae7b0c2d-2a57-41b8-9118-6ba689c042ea\" xlink:type=\"simple\"><rect fill=\"#FFFFFF\" height=\"45.9375\" id=\"E2\" style=\"stroke: #383838; stroke-width: 1.5;\" width=\"104\" x=\"119\" y=\"99\"/><text fill=\"#000000\" font-family=\"sans-serif\" font-size=\"12\" font-style=\"italic\" lengthAdjust=\"spacingAndGlyphs\" textLength=\"93\" x=\"124.5\" y=\"115.1387\">«attribute def»</text><text fill=\"#000000\" font-family=\"sans-serif\" font-size=\"12\" lengthAdjust=\"spacingAndGlyphs\" textLength=\"98\" x=\"122\" y=\"129.1074\">BatteryCharged</text><line style=\"stroke: #383838; stroke-width: 1.5;\" x1=\"120\" x2=\"222\" y1=\"136.9375\" y2=\"136.9375\"/></a><!--MD5=[09b614a08d8cba4a07c9adeb5e0fee81]\n",
       "class E3--><a href=\"psysml:6b6acb1d-80c8-4630-b961-243e0a681526\" target=\"_top\" title=\"psysml:6b6acb1d-80c8-4630-b961-243e0a681526\" xlink:actuate=\"onRequest\" xlink:href=\"psysml:6b6acb1d-80c8-4630-b961-243e0a681526\" xlink:show=\"new\" xlink:title=\"psysml:6b6acb1d-80c8-4630-b961-243e0a681526\" xlink:type=\"simple\"><rect fill=\"#FFFFFF\" height=\"45.9375\" id=\"E3\" rx=\"10\" ry=\"10\" style=\"stroke: #383838; stroke-width: 1.5;\" width=\"51\" x=\"32.5\" y=\"99\"/><text fill=\"#000000\" font-family=\"sans-serif\" font-size=\"12\" font-style=\"italic\" lengthAdjust=\"spacingAndGlyphs\" textLength=\"40\" x=\"38\" y=\"115.1387\">«part»</text><text fill=\"#000000\" font-family=\"sans-serif\" font-size=\"12\" lengthAdjust=\"spacingAndGlyphs\" textLength=\"45\" x=\"35.5\" y=\"129.1074\">battery</text><line style=\"stroke: #383838; stroke-width: 1.5;\" x1=\"33.5\" x2=\"82.5\" y1=\"136.9375\" y2=\"136.9375\"/></a><!--MD5=[ebbe1d658d1005bcc118a6aa81145e00]\n",
       "class E4--><a href=\"psysml:349a7c3f-b300-4831-9d2e-a9619edf4606\" target=\"_top\" title=\"psysml:349a7c3f-b300-4831-9d2e-a9619edf4606\" xlink:actuate=\"onRequest\" xlink:href=\"psysml:349a7c3f-b300-4831-9d2e-a9619edf4606\" xlink:show=\"new\" xlink:title=\"psysml:349a7c3f-b300-4831-9d2e-a9619edf4606\" xlink:type=\"simple\"><rect fill=\"#FFFFFF\" height=\"45.9375\" id=\"E4\" rx=\"10\" ry=\"10\" style=\"stroke: #383838; stroke-width: 1.5;\" width=\"89\" x=\"537.5\" y=\"762\"/><text fill=\"#000000\" font-family=\"sans-serif\" font-size=\"12\" font-style=\"italic\" lengthAdjust=\"spacingAndGlyphs\" textLength=\"40\" x=\"562\" y=\"778.1387\">«part»</text><text fill=\"#000000\" font-family=\"sans-serif\" font-size=\"12\" lengthAdjust=\"spacingAndGlyphs\" textLength=\"83\" x=\"540.5\" y=\"792.1074\">powerSystem</text><line style=\"stroke: #383838; stroke-width: 1.5;\" x1=\"538.5\" x2=\"625.5\" y1=\"799.9375\" y2=\"799.9375\"/></a><text fill=\"#000000\" font-family=\"sans-serif\" font-size=\"14\" lengthAdjust=\"spacingAndGlyphs\" textLength=\"48\" x=\"582\" y=\"100.6982\">charge</text><rect fill=\"#383838\" height=\"12\" style=\"stroke: #F8F8F8; stroke-width: 1.5;\" width=\"12\" x=\"600\" y=\"116\"/><polygon fill=\"#F8F8F8\" points=\"267,312,279,324,267,336,255,324,267,312\" style=\"stroke: #383838; stroke-width: 1.5;\"/><!--MD5=[1acd208aae0a17fcb597ebec3d0ce2e2]\n",
       "entity E9--><a href=\"psysml:7ed34062-ad07-4dcc-9d25-3616f0152f18\" target=\"_top\" title=\"psysml:7ed34062-ad07-4dcc-9d25-3616f0152f18\" xlink:actuate=\"onRequest\" xlink:href=\"psysml:7ed34062-ad07-4dcc-9d25-3616f0152f18\" xlink:show=\"new\" xlink:title=\"psysml:7ed34062-ad07-4dcc-9d25-3616f0152f18\" xlink:type=\"simple\"><polygon fill=\"#F8F8F8\" points=\"255,413,255,467.5938,437,467.5938,417,440.2969,437,413\" style=\"stroke: #000000; stroke-width: 1.5;\"/><text fill=\"#000000\" font-family=\"sans-serif\" font-size=\"14\" font-style=\"italic\" lengthAdjust=\"spacingAndGlyphs\" textLength=\"111\" x=\"283\" y=\"435.9951\">«accept action»</text><text fill=\"#000000\" font-family=\"sans-serif\" font-size=\"14\" lengthAdjust=\"spacingAndGlyphs\" textLength=\"141\" x=\"268\" y=\"453.292\">batteryCharge : Real</text></a><polygon fill=\"#F8F8F8\" points=\"346,529,358,541,346,553,334,541,346,529\" style=\"stroke: #383838; stroke-width: 1.5;\"/><!--MD5=[3822a2a4541e754d1dc15080999c19ba]\n",
       "entity E13--><a href=\"psysml:e1092f79-3bd6-411d-880d-334597e8439f\" target=\"_top\" title=\"psysml:e1092f79-3bd6-411d-880d-334597e8439f\" xlink:actuate=\"onRequest\" xlink:href=\"psysml:e1092f79-3bd6-411d-880d-334597e8439f\" xlink:show=\"new\" xlink:title=\"psysml:e1092f79-3bd6-411d-880d-334597e8439f\" xlink:type=\"simple\"><polygon fill=\"#F8F8F8\" points=\"300.5,630,300.5,684.5938,439.5,684.5938,459.5,657.2969,439.5,630\" style=\"stroke: #000000; stroke-width: 1.5;\"/><text fill=\"#000000\" font-family=\"sans-serif\" font-size=\"14\" font-style=\"italic\" lengthAdjust=\"spacingAndGlyphs\" textLength=\"99\" x=\"323\" y=\"652.9951\">«send action»</text><text fill=\"#000000\" font-family=\"sans-serif\" font-size=\"14\" lengthAdjust=\"spacingAndGlyphs\" textLength=\"118\" x=\"313.5\" y=\"670.292\">BatteryCharged()</text></a><ellipse cx=\"265\" cy=\"223.5\" fill=\"#000000\" rx=\"10\" ry=\"10\" style=\"stroke: none; stroke-width: 1.0;\"/><ellipse cx=\"380\" cy=\"785\" fill=\"none\" rx=\"10\" ry=\"10\" style=\"stroke: #000000; stroke-width: 1.0;\"/><ellipse cx=\"380.5\" cy=\"785.5\" fill=\"#000000\" rx=\"6\" ry=\"6\" style=\"stroke: none; stroke-width: 1.0;\"/><text fill=\"#000000\" font-family=\"sans-serif\" font-size=\"14\" lengthAdjust=\"spacingAndGlyphs\" textLength=\"98\" x=\"317\" y=\"100.6982\">batteryCharge</text><rect fill=\"#383838\" height=\"12\" style=\"stroke: #F8F8F8; stroke-width: 1.5;\" width=\"12\" x=\"360\" y=\"116\"/><!--MD5=[55ebfa55a3826719a7ecf4e8d8b814eb]\n",
       "link *start*E7 to E8--><a href=\"psysml:a319decb-eab0-4074-b2ed-ea8f578c9e24\" target=\"_top\" title=\"psysml:a319decb-eab0-4074-b2ed-ea8f578c9e24\" xlink:actuate=\"onRequest\" xlink:href=\"psysml:a319decb-eab0-4074-b2ed-ea8f578c9e24\" xlink:show=\"new\" xlink:title=\"psysml:a319decb-eab0-4074-b2ed-ea8f578c9e24\" xlink:type=\"simple\"><path d=\"M265.18,233.59 C265.52,250.29 266.25,286.06 266.67,306.94 \" fill=\"none\" id=\"*start*E7-&gt;E8\" style=\"stroke: #383838; stroke-width: 1.0;\"/><polygon fill=\"#383838\" points=\"266.78,312.15,270.5992,303.0718,266.68,307.151,262.6008,303.2318,266.78,312.15\" style=\"stroke: #383838; stroke-width: 1.0;\"/></a><!--MD5=[15372006ba9e3e6d6e5422c2255cdbb7]\n",
       "link E13 to *end*E7--><a href=\"psysml:d1a6e4a4-b02b-465a-97a3-737247e2445d\" target=\"_top\" title=\"psysml:d1a6e4a4-b02b-465a-97a3-737247e2445d\" xlink:actuate=\"onRequest\" xlink:href=\"psysml:d1a6e4a4-b02b-465a-97a3-737247e2445d\" xlink:show=\"new\" xlink:title=\"psysml:d1a6e4a4-b02b-465a-97a3-737247e2445d\" xlink:type=\"simple\"><path d=\"M380,685.12 C380,711.01 380,749.35 380,769.85 \" fill=\"none\" id=\"E13-&gt;*end*E7\" style=\"stroke: #383838; stroke-width: 1.0;\"/><polygon fill=\"#383838\" points=\"380,774.9,384,765.9,380,769.9,376,765.9,380,774.9\" style=\"stroke: #383838; stroke-width: 1.0;\"/></a><!--MD5=[ed10624c06dd9a4fa49ccf290e8b16a8]\n",
       "link E8 to E9--><a href=\"psysml:004ea5c6-ec0e-4ae7-ad36-c639bba8cb7f\" target=\"_top\" title=\"psysml:004ea5c6-ec0e-4ae7-ad36-c639bba8cb7f\" xlink:actuate=\"onRequest\" xlink:href=\"psysml:004ea5c6-ec0e-4ae7-ad36-c639bba8cb7f\" xlink:show=\"new\" xlink:title=\"psysml:004ea5c6-ec0e-4ae7-ad36-c639bba8cb7f\" xlink:type=\"simple\"><path d=\"M264.25,333.44 C260.91,345.27 256.7,367.1 265,383 C270.41,393.37 278.7,402.23 287.94,409.65 \" fill=\"none\" id=\"E8-&gt;E9\" style=\"stroke: #383838; stroke-width: 1.0;\"/><polygon fill=\"#383838\" points=\"291.95,412.74,287.2537,404.0829,287.9863,409.6921,282.3771,410.4248,291.95,412.74\" style=\"stroke: #383838; stroke-width: 1.0;\"/></a><!--MD5=[35e5f1cbde42fa304a029880aa2bc7f2]\n",
       "link E9 to E10--><a href=\"psysml:faf370f8-3de4-4ae8-82d3-5fcdc8c34266\" target=\"_top\" title=\"psysml:faf370f8-3de4-4ae8-82d3-5fcdc8c34266\" xlink:actuate=\"onRequest\" xlink:href=\"psysml:faf370f8-3de4-4ae8-82d3-5fcdc8c34266\" xlink:show=\"new\" xlink:title=\"psysml:faf370f8-3de4-4ae8-82d3-5fcdc8c34266\" xlink:type=\"simple\"><path d=\"M346,468.16 C346,485.92 346,508.68 346,523.77 \" fill=\"none\" id=\"E9-&gt;E10\" style=\"stroke: #383838; stroke-width: 1.0;\"/><polygon fill=\"#383838\" points=\"346,528.96,350,519.96,346,523.96,342,519.96,346,528.96\" style=\"stroke: #383838; stroke-width: 1.0;\"/></a><!--MD5=[7e01d6273c142173bd6ca4b66f8f251a]\n",
       "link E10 to E11--><a href=\"psysml:443ef56c-3b20-4d94-ae3a-1fd29c1394a8\" target=\"_top\" title=\"psysml:443ef56c-3b20-4d94-ae3a-1fd29c1394a8\" xlink:actuate=\"onRequest\" xlink:href=\"psysml:443ef56c-3b20-4d94-ae3a-1fd29c1394a8\" xlink:show=\"new\" xlink:title=\"psysml:443ef56c-3b20-4d94-ae3a-1fd29c1394a8\" xlink:type=\"simple\"><path d=\"M354.63,537.44 C376.33,530.48 432.98,508.94 455,468 C476.64,427.765 467.13,381.1575 447.7688,339.555 C438.0881,318.7537 425.9447,299.2038 414.0008,282.3272 C411.0148,278.108 408.0413,274.056 405.1219,270.1933 C404.392,269.2276 403.6655,268.2737 402.9431,267.332 C402.5818,266.8612 402.2216,266.3934 401.8625,265.9287 C401.6829,265.6964 401.5036,265.4648 401.3246,265.234 \" fill=\"none\" id=\"E10-&gt;E11\" style=\"stroke: #383838; stroke-width: 1.0;\"/><polygon fill=\"#383838\" points=\"401.3246,265.234,403.6797,274.7971,404.389,269.1849,410.0012,269.8942,401.3246,265.234\" style=\"stroke: #383838; stroke-width: 1.0;\"/><text fill=\"#000000\" font-family=\"sans-serif\" font-size=\"13\" lengthAdjust=\"spacingAndGlyphs\" textLength=\"203\" x=\"463\" y=\"379.0669\">[monitor::batteryCharge &lt; 100]</text></a><!--MD5=[74b78f105e346754c1f4f010190a9055]\n",
       "link E10 to E13--><a href=\"psysml:7980ff4a-37d8-4b2f-9bf1-2c64e4f6be80\" target=\"_top\" title=\"psysml:7980ff4a-37d8-4b2f-9bf1-2c64e4f6be80\" xlink:actuate=\"onRequest\" xlink:href=\"psysml:7980ff4a-37d8-4b2f-9bf1-2c64e4f6be80\" xlink:show=\"new\" xlink:title=\"psysml:7980ff4a-37d8-4b2f-9bf1-2c64e4f6be80\" xlink:type=\"simple\"><path d=\"M348.56,550.61 C353.16,566.11 363.06,599.46 370.53,624.62 \" fill=\"none\" id=\"E10-&gt;E13\" style=\"stroke: #383838; stroke-width: 1.0;\"/><polygon fill=\"#383838\" points=\"371.99,629.53,373.2565,619.7629,370.5637,624.7377,365.5889,622.0449,371.99,629.53\" style=\"stroke: #383838; stroke-width: 1.0;\"/><text fill=\"#000000\" font-family=\"sans-serif\" font-size=\"13\" lengthAdjust=\"spacingAndGlyphs\" textLength=\"214\" x=\"364\" y=\"596.0669\">[monitor::batteryCharge &gt;= 100]</text></a><!--MD5=[3aca6b7b240bdf4fa74e86e8d4be9f1e]\n",
       "link E11 to E8--><a href=\"psysml:dbcc2797-1c43-4939-afa1-7bc245920722\" target=\"_top\" title=\"psysml:dbcc2797-1c43-4939-afa1-7bc245920722\" xlink:actuate=\"onRequest\" xlink:href=\"psysml:dbcc2797-1c43-4939-afa1-7bc245920722\" xlink:show=\"new\" xlink:title=\"psysml:dbcc2797-1c43-4939-afa1-7bc245920722\" xlink:type=\"simple\"><path d=\"M322.2576,265.04 C322.2006,265.0947 322.1436,265.1495 322.0866,265.2043 C320.263,266.9575 318.439,268.7216 316.627,270.4863 C313.0031,274.0156 309.4275,277.5475 306,281 C295.27,291.8 283.44,304.69 275.65,313.32 \" fill=\"none\" id=\"E11-&gt;E8\" style=\"stroke: #383838; stroke-width: 1.0;\"/><polygon fill=\"#383838\" points=\"272.18,317.18,281.1739,313.1662,275.5248,313.4635,275.2275,307.8145,272.18,317.18\" style=\"stroke: #383838; stroke-width: 1.0;\"/></a><!--MD5=[017847e01ff9a8bd19f247411074f987]\n",
       "link E13 to E4--><a href=\"psysml:e1092f79-3bd6-411d-880d-334597e8439f\" target=\"_top\" title=\"psysml:e1092f79-3bd6-411d-880d-334597e8439f\" xlink:actuate=\"onRequest\" xlink:href=\"psysml:e1092f79-3bd6-411d-880d-334597e8439f\" xlink:show=\"new\" xlink:title=\"psysml:e1092f79-3bd6-411d-880d-334597e8439f\" xlink:type=\"simple\"><path d=\"M422.84,685.12 C457.11,706.41 504.94,736.13 539.21,757.41 \" fill=\"none\" id=\"E13-&gt;E4\" style=\"stroke: #383838; stroke-width: 1.0; stroke-dasharray: 7.0,7.0;\"/><polygon fill=\"#383838\" points=\"546.3,761.82,541.0804,755.0557,537.9197,760.1557,546.3,761.82\" style=\"stroke: #383838; stroke-width: 1.0;\"/><text fill=\"#000000\" font-family=\"sans-serif\" font-size=\"13\" lengthAdjust=\"spacingAndGlyphs\" textLength=\"64\" x=\"494\" y=\"728.0669\">«send to»</text></a><!--MD5=[72af8970ac3247c6ef7402d187ab3de6]\n",
       "@startuml\r\n",
       "skinparam monochrome true\r\n",
       "skinparam classbackgroundcolor white\r\n",
       "skinparam shadowing false\r\n",
       "skinparam wrapWidth 300\r\n",
       "hide circle\r\n",
       "\r\n",
       "package \"Decision Example\" as E1  [[psysml:2abaf91e-b51c-4a9b-881a-5eb885796655 ]]  {\r\n",
       "comp def \"BatteryCharged\" as E2  <<(T,blue)attribute def>> [[psysml:ae7b0c2d-2a57-41b8-9118-6ba689c042ea ]] {\r\n",
       "}\r\n",
       "comp usage \"battery\" as E3  <<(T,blue)part>> [[psysml:6b6acb1d-80c8-4630-b961-243e0a681526 ]] {\r\n",
       "}\r\n",
       "comp usage \"powerSystem\" as E4  <<(T,blue)part>> [[psysml:349a7c3f-b300-4831-9d2e-a9619edf4606 ]] {\r\n",
       "}\r\n",
       "rec def \"AddCharge\" as E5  <<(T,blue)action def>> [[psysml:341db72b-d472-4c6d-a27f-caf7519581d7 ]] {\r\n",
       "portin \"charge\" as E6  [[psysml:5af82cc8-6f65-40a9-ba2a-155d7d89cb96 ]] \r\n",
       "}\r\n",
       "\r\n",
       "rec def \"ChargeBattery\" as E7  <<(T,blue)action def>> [[psysml:1df218d2-fbee-4092-861e-5f18065f9622 ]] {\r\n",
       "choice \"continueCharging\" as E8  [[psysml:6bca0944-a5b9-404c-9b59-beeb9a01eca1 ]] \r\n",
       "accept \" batteryCharge : Real\" as E9 <<accept action>> [[psysml:7ed34062-ad07-4dcc-9d25-3616f0152f18 ]] \r\n",
       "choice \"noname\" as E10  [[psysml:c69f262a-8cb9-4b4f-9739-08936c672118 ]] \r\n",
       "rec usage \"addCharge\" as E11  <<(T,blue)action>> [[psysml:57e6da41-7d4b-4ed5-9ab9-de67477e0f09 ]] {\r\n",
       "portin \"batteryCharge\" as E12  [[psysml:8b9bc017-10ab-464c-89ed-905832cdc0f0 ]] \r\n",
       "}\r\n",
       "\r\n",
       "send \" BatteryCharged()\" as E13 <<send action>> [[psysml:e1092f79-3bd6-411d-880d-334597e8439f ]] \r\n",
       "[*] - -> E8 [[psysml:a319decb-eab0-4074-b2ed-ea8f578c9e24 ]] \r\n",
       "E13 - -> [*] [[psysml:d1a6e4a4-b02b-465a-97a3-737247e2445d ]] \r\n",
       "}\r\n",
       "\r\n",
       "E8 - -> E9 [[psysml:004ea5c6-ec0e-4ae7-ad36-c639bba8cb7f ]] \r\n",
       "E9 - -> E10 [[psysml:faf370f8-3de4-4ae8-82d3-5fcdc8c34266 ]] \r\n",
       "E10  - -> E11 [[psysml:443ef56c-3b20-4d94-ae3a-1fd29c1394a8 ]] : [monitor::batteryCharge < 100]\r\n",
       "E10  - -> E13 [[psysml:7980ff4a-37d8-4b2f-9bf1-2c64e4f6be80 ]] : [monitor::batteryCharge >= 100]\r\n",
       "E11 - -> E8 [[psysml:dbcc2797-1c43-4939-afa1-7bc245920722 ]] \r\n",
       "E13 ..>> E4 [[psysml:e1092f79-3bd6-411d-880d-334597e8439f ]] : <<send to>>\r\n",
       "}\r\n",
       "@enduml\r\n",
       "\n",
       "PlantUML version 1.2020.13(Sat Jun 13 12:26:38 UTC 2020)\n",
       "(EPL source distribution)\n",
       "Java Runtime: OpenJDK Runtime Environment\n",
       "JVM: OpenJDK 64-Bit Server VM\n",
       "Default Encoding: UTF-8\n",
       "Language: en\n",
       "Country: null\n",
       "--></g></svg>"
      ]
     },
     "execution_count": 2,
     "metadata": {},
     "output_type": "execute_result"
    }
   ],
   "source": [
    "%viz \"Decision Example\""
   ]
  },
  {
   "cell_type": "code",
   "execution_count": null,
   "id": "attractive-grain",
   "metadata": {},
   "outputs": [],
   "source": []
  }
 ],
 "metadata": {
  "kernelspec": {
   "display_name": "SysML",
   "language": "sysml",
   "name": "sysml"
  },
  "language_info": {
   "codemirror_mode": "sysml",
   "file_extension": ".sysml",
   "mimetype": "text/x-sysml",
   "name": "SysML",
   "pygments_lexer": "java",
   "version": "1.0.0"
  }
 },
 "nbformat": 4,
 "nbformat_minor": 5
}
