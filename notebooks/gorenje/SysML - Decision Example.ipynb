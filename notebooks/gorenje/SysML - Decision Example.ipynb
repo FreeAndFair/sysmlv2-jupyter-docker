{
 "cells": [
  {
   "cell_type": "markdown",
   "id": "sixth-wildlife",
   "metadata": {},
   "source": [
    "## Decision Example\n",
    "\n",
    "Taken from the [training](/lab/tree/sysml/src/training/19.%20Control/Decision%20Example.sysml) directory."
   ]
  },
  {
   "cell_type": "code",
   "execution_count": 1,
   "id": "banned-capture",
   "metadata": {},
   "outputs": [
    {
     "data": {
      "text/plain": [
       "Package Decision Example (f24fe20b-6448-4102-85a8-1b2d5757071d)\n"
      ]
     },
     "execution_count": 1,
     "metadata": {},
     "output_type": "execute_result"
    }
   ],
   "source": [
    "package 'Decision Example' {\n",
    "\timport ScalarValues::*;\n",
    "\t\n",
    "\tattribute def BatteryCharged;\n",
    "\t\n",
    "\tpart battery;\n",
    "\tpart powerSystem;\n",
    "\t\n",
    "\taction def AddCharge (in charge : Real);\n",
    "\t\n",
    "\taction def ChargeBattery {\n",
    "\t\tfirst start;\n",
    "\n",
    "\t\tthen merge continueCharging;\n",
    "\t\t\n",
    "\t\tthen action monitor accept batteryCharge : Real;\n",
    "\t\t\n",
    "\t\tthen decide;\n",
    "\t\t\tif monitor::batteryCharge < 100 then addCharge;\n",
    "\t\t\tif monitor::batteryCharge >= 100 then signalCharged;\n",
    "\t\t\t\n",
    "\t\taction addCharge : AddCharge (batteryCharge);\n",
    "\t\tthen continueCharging;\n",
    "\t\t\n",
    "\t\taction signalCharged send BatteryCharged() to powerSystem;\n",
    "\t\tthen done;\n",
    "\t}\n",
    "}"
   ]
  },
  {
   "cell_type": "code",
   "execution_count": 2,
   "id": "paperback-medicare",
   "metadata": {},
   "outputs": [
    {
     "data": {
      "image/svg+xml": [
       "<?xml version=\"1.0\" encoding=\"UTF-8\" standalone=\"no\"?><svg xmlns=\"http://www.w3.org/2000/svg\" xmlns:xlink=\"http://www.w3.org/1999/xlink\" contentScriptType=\"application/ecmascript\" contentStyleType=\"text/css\" height=\"570px\" preserveAspectRatio=\"none\" style=\"width:931px;height:570px;background:#000000;\" version=\"1.1\" viewBox=\"0 0 931 570\" width=\"931px\" zoomAndPan=\"magnify\"><defs/><g><rect fill=\"#071F23\" height=\"1\" style=\"stroke: #071F23; stroke-width: 1.0;\" width=\"1\" x=\"0\" y=\"0\"/><rect fill=\"#EAE2C9\" height=\"65.1875\" style=\"stroke: #EAE2C9; stroke-width: 1.0;\" width=\"930\" x=\"0\" y=\"0\"/><text fill=\"#000000\" font-family=\"sans-serif\" font-size=\"14\" font-weight=\"bold\" lengthAdjust=\"spacingAndGlyphs\" textLength=\"310\" x=\"10\" y=\"12.9951\">Add your own dedication into PlantUML</text><text fill=\"#000000\" font-family=\"sans-serif\" font-size=\"14\" lengthAdjust=\"spacingAndGlyphs\" textLength=\"0\" x=\"14\" y=\"29.292\"/><text fill=\"#000000\" font-family=\"sans-serif\" font-size=\"14\" lengthAdjust=\"spacingAndGlyphs\" textLength=\"154\" x=\"10\" y=\"45.5889\">For just $5 per month!</text><text fill=\"#000000\" font-family=\"sans-serif\" font-size=\"14\" lengthAdjust=\"spacingAndGlyphs\" textLength=\"69\" x=\"10\" y=\"61.8857\">Details on</text><a href=\"http://plantuml.com/dedication\" target=\"_top\" title=\"http://plantuml.com/dedication\" xlink:actuate=\"onRequest\" xlink:href=\"http://plantuml.com/dedication\" xlink:show=\"new\" xlink:title=\"http://plantuml.com/dedication\" xlink:type=\"simple\"><text fill=\"#000000\" font-family=\"sans-serif\" font-size=\"14\" font-style=\"italic\" lengthAdjust=\"spacingAndGlyphs\" textLength=\"213\" x=\"83\" y=\"61.8857\">http://plantuml.com/dedication</text></a><rect fill=\"#000000\" height=\"503.9063\" style=\"stroke: #000000; stroke-width: 1.0;\" width=\"930\" x=\"0\" y=\"65.1875\"/><rect fill=\"#33FF02\" height=\"21.2969\" style=\"stroke: #33FF02; stroke-width: 1.0;\" width=\"920\" x=\"5\" y=\"70.1875\"/><text fill=\"#000000\" font-family=\"sans-serif\" font-size=\"14\" font-weight=\"bold\" lengthAdjust=\"spacingAndGlyphs\" textLength=\"178\" x=\"6\" y=\"85.1875\">[From string (line 27) ]</text><text fill=\"#33FF02\" font-family=\"sans-serif\" font-size=\"14\" font-weight=\"bold\" lengthAdjust=\"spacingAndGlyphs\" textLength=\"0\" x=\"10\" y=\"105.4844\"/><text fill=\"#33FF02\" font-family=\"sans-serif\" font-size=\"14\" font-weight=\"bold\" lengthAdjust=\"spacingAndGlyphs\" textLength=\"79\" x=\"5\" y=\"121.7813\">@startuml</text><text fill=\"#33FF02\" font-family=\"sans-serif\" font-size=\"14\" font-weight=\"bold\" lengthAdjust=\"spacingAndGlyphs\" textLength=\"228\" x=\"5\" y=\"138.0781\">skinparam monochrome true</text><text fill=\"#33FF02\" font-family=\"sans-serif\" font-size=\"14\" font-weight=\"bold\" lengthAdjust=\"spacingAndGlyphs\" textLength=\"309\" x=\"5\" y=\"154.375\">skinparam classbackgroundcolor white</text><text fill=\"#33FF02\" font-family=\"sans-serif\" font-size=\"14\" font-weight=\"bold\" lengthAdjust=\"spacingAndGlyphs\" textLength=\"215\" x=\"5\" y=\"170.6719\">skinparam shadowing false</text><text fill=\"#33FF02\" font-family=\"sans-serif\" font-size=\"14\" font-weight=\"bold\" lengthAdjust=\"spacingAndGlyphs\" textLength=\"206\" x=\"5\" y=\"186.9688\">skinparam wrapWidth 300</text><text fill=\"#33FF02\" font-family=\"sans-serif\" font-size=\"14\" font-weight=\"bold\" lengthAdjust=\"spacingAndGlyphs\" textLength=\"82\" x=\"5\" y=\"203.2656\">hide circle</text><text fill=\"#33FF02\" font-family=\"sans-serif\" font-size=\"14\" font-weight=\"bold\" lengthAdjust=\"spacingAndGlyphs\" textLength=\"0\" x=\"10\" y=\"219.5625\"/><text fill=\"#33FF02\" font-family=\"sans-serif\" font-size=\"14\" font-weight=\"bold\" lengthAdjust=\"spacingAndGlyphs\" textLength=\"726\" x=\"5\" y=\"235.8594\">package \"Decision Example\" as E1  [[psysml:4c9cc5d2-7d8c-47c4-99e6-8d57cd171a58 ]]  {</text><text fill=\"#33FF02\" font-family=\"sans-serif\" font-size=\"14\" font-weight=\"bold\" lengthAdjust=\"spacingAndGlyphs\" textLength=\"920\" x=\"5\" y=\"252.1563\">comp def \"BatteryCharged\" as E2  &lt;&lt;(T,blue)attribute def&gt;&gt; [[psysml:59cb8e0b-64f9-4a1d-a1e6-48f85f58d84a ]] {</text><text fill=\"#33FF02\" font-family=\"sans-serif\" font-size=\"14\" font-weight=\"bold\" lengthAdjust=\"spacingAndGlyphs\" textLength=\"10\" x=\"5\" y=\"268.4531\">}</text><text fill=\"#33FF02\" font-family=\"sans-serif\" font-size=\"14\" font-weight=\"bold\" lengthAdjust=\"spacingAndGlyphs\" textLength=\"816\" x=\"5\" y=\"284.75\">comp usage \"battery\" as E3  &lt;&lt;(T,blue)part&gt;&gt; [[psysml:9cdd6ef3-4d25-4e7d-955d-6c53c351bc9b ]] {</text><text fill=\"#33FF02\" font-family=\"sans-serif\" font-size=\"14\" font-weight=\"bold\" lengthAdjust=\"spacingAndGlyphs\" textLength=\"10\" x=\"5\" y=\"301.0469\">}</text><text fill=\"#33FF02\" font-family=\"sans-serif\" font-size=\"14\" font-weight=\"bold\" lengthAdjust=\"spacingAndGlyphs\" textLength=\"858\" x=\"5\" y=\"317.3438\">comp usage \"powerSystem\" as E4  &lt;&lt;(T,blue)part&gt;&gt; [[psysml:6f89b69f-84a4-4bae-9d2f-8365f18e895d ]] {</text><text fill=\"#33FF02\" font-family=\"sans-serif\" font-size=\"14\" font-weight=\"bold\" lengthAdjust=\"spacingAndGlyphs\" textLength=\"10\" x=\"5\" y=\"333.6406\">}</text><text fill=\"#33FF02\" font-family=\"sans-serif\" font-size=\"14\" font-weight=\"bold\" lengthAdjust=\"spacingAndGlyphs\" textLength=\"852\" x=\"5\" y=\"349.9375\">rec def \"AddCharge\" as E5  &lt;&lt;(T,blue)action def&gt;&gt; [[psysml:04fc5d8c-06ed-439e-be96-99e6b0f30b9a ]] {</text><text fill=\"#33FF02\" font-family=\"sans-serif\" font-size=\"14\" font-weight=\"bold\" lengthAdjust=\"spacingAndGlyphs\" textLength=\"604\" x=\"5\" y=\"366.2344\">portin \"charge\" as E6  [[psysml:81b126ad-aca5-423c-81d5-eb80ac15088a ]]</text><text fill=\"#33FF02\" font-family=\"sans-serif\" font-size=\"14\" font-weight=\"bold\" lengthAdjust=\"spacingAndGlyphs\" textLength=\"10\" x=\"5\" y=\"382.5313\">}</text><text fill=\"#33FF02\" font-family=\"sans-serif\" font-size=\"14\" font-weight=\"bold\" lengthAdjust=\"spacingAndGlyphs\" textLength=\"0\" x=\"10\" y=\"398.8281\"/><text fill=\"#33FF02\" font-family=\"sans-serif\" font-size=\"14\" font-weight=\"bold\" lengthAdjust=\"spacingAndGlyphs\" textLength=\"878\" x=\"5\" y=\"415.125\">rec def \"ChargeBattery\" as E7  &lt;&lt;(T,blue)action def&gt;&gt; [[psysml:9e2d050d-1e46-428c-a4c3-6f752639e0f4 ]] {</text><text fill=\"#33FF02\" font-family=\"sans-serif\" font-size=\"14\" font-weight=\"bold\" lengthAdjust=\"spacingAndGlyphs\" textLength=\"802\" x=\"5\" y=\"431.4219\">rec usage \"start\" as E8  &lt;&lt;(T,blue)action&gt;&gt; [[psysml:910e2d27-7dd6-4383-90a7-28014807317d ]] {</text><text fill=\"#33FF02\" font-family=\"sans-serif\" font-size=\"14\" font-weight=\"bold\" lengthAdjust=\"spacingAndGlyphs\" textLength=\"10\" x=\"5\" y=\"447.7188\">}</text><text fill=\"#33FF02\" font-family=\"sans-serif\" font-size=\"14\" font-weight=\"bold\" lengthAdjust=\"spacingAndGlyphs\" textLength=\"0\" x=\"10\" y=\"464.0156\"/><text fill=\"#33FF02\" font-family=\"sans-serif\" font-size=\"14\" font-weight=\"bold\" lengthAdjust=\"spacingAndGlyphs\" textLength=\"698\" x=\"5\" y=\"480.3125\">choice \"continueCharging\" as E9  [[psysml:b1ed711e-17ea-4567-8622-28b4ac710c4d ]]</text><text fill=\"#33FF02\" font-family=\"sans-serif\" font-size=\"14\" font-weight=\"bold\" lengthAdjust=\"spacingAndGlyphs\" textLength=\"822\" x=\"5\" y=\"496.6094\">rec usage \"monitor\" as E10 &lt;&lt;accept action&gt;&gt; [[psysml:8d5b62e5-4e0e-439d-a7d9-730aadfb6586 ]] {</text><text fill=\"#33FF02\" font-family=\"sans-serif\" font-size=\"14\" font-weight=\"bold\" lengthAdjust=\"spacingAndGlyphs\" textLength=\"10\" x=\"5\" y=\"512.9063\">}</text><text fill=\"#33FF02\" font-family=\"sans-serif\" font-size=\"14\" font-weight=\"bold\" lengthAdjust=\"spacingAndGlyphs\" textLength=\"0\" x=\"10\" y=\"529.2031\"/><text fill=\"#33FF02\" font-family=\"sans-serif\" font-size=\"14\" font-weight=\"bold\" lengthAdjust=\"spacingAndGlyphs\" textLength=\"10\" x=\"5\" y=\"545.5\">{</text><text fill=\"#FF0000\" font-family=\"sans-serif\" font-size=\"14\" font-weight=\"bold\" lengthAdjust=\"spacingAndGlyphs\" textLength=\"106\" x=\"10\" y=\"561.7969\">Syntax Error?</text><!--MD5=[a634f884c533a0447fbc470c6ac50262]\n",
       "@startuml\r\n",
       "skinparam monochrome true\r\n",
       "skinparam classbackgroundcolor white\r\n",
       "skinparam shadowing false\r\n",
       "skinparam wrapWidth 300\r\n",
       "hide circle\r\n",
       "\r\n",
       "package \"Decision Example\" as E1  [[psysml:4c9cc5d2-7d8c-47c4-99e6-8d57cd171a58 ]]  {\r\n",
       "comp def \"BatteryCharged\" as E2  <<(T,blue)attribute def>> [[psysml:59cb8e0b-64f9-4a1d-a1e6-48f85f58d84a ]] {\r\n",
       "}\r\n",
       "comp usage \"battery\" as E3  <<(T,blue)part>> [[psysml:9cdd6ef3-4d25-4e7d-955d-6c53c351bc9b ]] {\r\n",
       "}\r\n",
       "comp usage \"powerSystem\" as E4  <<(T,blue)part>> [[psysml:6f89b69f-84a4-4bae-9d2f-8365f18e895d ]] {\r\n",
       "}\r\n",
       "rec def \"AddCharge\" as E5  <<(T,blue)action def>> [[psysml:04fc5d8c-06ed-439e-be96-99e6b0f30b9a ]] {\r\n",
       "portin \"charge\" as E6  [[psysml:81b126ad-aca5-423c-81d5-eb80ac15088a ]] \r\n",
       "}\r\n",
       "\r\n",
       "rec def \"ChargeBattery\" as E7  <<(T,blue)action def>> [[psysml:9e2d050d-1e46-428c-a4c3-6f752639e0f4 ]] {\r\n",
       "rec usage \"start\" as E8  <<(T,blue)action>> [[psysml:910e2d27-7dd6-4383-90a7-28014807317d ]] {\r\n",
       "}\r\n",
       "\r\n",
       "choice \"continueCharging\" as E9  [[psysml:b1ed711e-17ea-4567-8622-28b4ac710c4d ]] \r\n",
       "rec usage \"monitor\" as E10 <<accept action>> [[psysml:8d5b62e5-4e0e-439d-a7d9-730aadfb6586 ]] {\r\n",
       "}\r\n",
       "\r\n",
       "{\r\n",
       "}\r\n",
       "\r\n",
       "{\r\n",
       "portout \"$result\" as E11  [[psysml:44220f16-c57d-418d-bc71-abe391ddb1c8 ]] \r\n",
       "portin \"$x\" as E12  [[psysml:23ad096d-9b0a-4c65-9f9f-db56e927be33 ]] \r\n",
       "portin \"$y\" as E13  [[psysml:73e266bd-f7e5-439d-87e6-0a4286e0149f ]] \r\n",
       "portout \"$result\" as E14  [[psysml:59c77235-ff57-46bf-9c46-58cb9f490982 ]] \r\n",
       "}\r\n",
       "\r\n",
       "{\r\n",
       "portout \"$result\" as E15  [[psysml:808c9a1b-ee48-4c18-9451-cba2cca239e7 ]] \r\n",
       "portin \"$x\" as E16  [[psysml:84030989-88e9-473e-add0-d00f8ae4dee0 ]] \r\n",
       "portin \"$y\" as E17  [[psysml:c18c0ecc-5272-4d28-8a2a-b57cc70b76c0 ]] \r\n",
       "portout \"$result\" as E18  [[psysml:d2a57d73-7e79-453e-a2f9-71017ddec8e5 ]] \r\n",
       "}\r\n",
       "\r\n",
       "rec usage \"addCharge\" as E19  <<(T,blue)action>> [[psysml:c2e46152-09f8-4684-a4c9-50984e93c786 ]] {\r\n",
       "portin \"batteryCharge\" as E20  [[psysml:cf9f8554-c5f2-42ae-9b0e-527609c771bc ]] \r\n",
       "}\r\n",
       "\r\n",
       "rec usage \"signalCharged\" as E21 <<send action>> [[psysml:256c12b7-1989-4fa9-8ac9-c4f80f62c976 ]] {\r\n",
       "portout \"$result\" as E22  [[psysml:67430f45-95af-4e87-8aea-fe8ab42040eb ]] \r\n",
       "}\r\n",
       "\r\n",
       "}\r\n",
       "\r\n",
       "E13 -[thickness=5]- E11 [[psysml:edfe83f1-a0d6-4b60-9711-d157ff583392 ]] \r\n",
       "E17 -[thickness=5]- E15 [[psysml:2bfd7a70-9d55-43c3-8e46-02fc3edc4b72 ]] \r\n",
       "}\r\n",
       "@enduml\r\n",
       "\n",
       "PlantUML version 1.2020.13(Sat Jun 13 12:26:38 UTC 2020)\n",
       "(EPL source distribution)\n",
       "Java Runtime: OpenJDK Runtime Environment\n",
       "JVM: OpenJDK 64-Bit Server VM\n",
       "Default Encoding: UTF-8\n",
       "Language: en\n",
       "Country: null\n",
       "--></g></svg>"
      ]
     },
     "execution_count": 2,
     "metadata": {},
     "output_type": "execute_result"
    }
   ],
   "source": [
    "%viz \"Decision Example\""
   ]
  },
  {
   "cell_type": "code",
   "execution_count": null,
   "id": "lyric-blame",
   "metadata": {},
   "outputs": [],
   "source": []
  }
 ],
 "metadata": {
  "kernelspec": {
   "display_name": "SysML",
   "language": "sysml",
   "name": "sysml"
  },
  "language_info": {
   "codemirror_mode": "sysml",
   "file_extension": ".sysml",
   "mimetype": "text/x-sysml",
   "name": "SysML",
   "pygments_lexer": "java",
   "version": "1.0.0"
  }
 },
 "nbformat": 4,
 "nbformat_minor": 5
}
