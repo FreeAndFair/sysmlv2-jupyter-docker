{
 "cells": [
  {
   "cell_type": "markdown",
   "id": "cooked-failure",
   "metadata": {},
   "source": [
    "# SysML v2 Test Suite\n",
    "\n",
    "This can notebook can be cleared using menu `Edit --> Clear All Outputs` and then all cells can be\n",
    "run using menu `Run --> Run All Cells`.\n",
    "\n",
    "**WARNING**: This file is generated, all modifications here will be ignored.\n"
   ]
  },
  {
   "cell_type": "markdown",
   "id": "honey-battle",
   "metadata": {},
   "source": [
    "## File: ../../sysml/src/examples/Simple Tests/BlockTest.sysml"
   ]
  },
  {
   "cell_type": "code",
   "execution_count": 1,
   "id": "functioning-marina",
   "metadata": {
    "execution": {
     "iopub.execute_input": "2021-03-25T14:59:39.517183Z",
     "iopub.status.busy": "2021-03-25T14:59:39.516411Z",
     "iopub.status.idle": "2021-03-25T14:59:40.014421Z",
     "shell.execute_reply": "2021-03-25T14:59:40.013850Z"
    }
   },
   "outputs": [
    {
     "data": {
      "text/plain": [
       "Package BlockTest (8dc3940c-e39c-4559-bf70-28af38dc6113)\n"
      ]
     },
     "execution_count": 1,
     "metadata": {},
     "output_type": "execute_result"
    }
   ],
   "source": [
    "package BlockTest {\n",
    "\t\n",
    "\tpart f: A;\n",
    "\n",
    "\tpublic block A {\n",
    "\t\tpart b: B;\n",
    "\t\tprotected port c: C;\n",
    "\t}\n",
    "\t\n",
    "\tabstract block B {\n",
    "\t\tpublic abstract part a: A;\n",
    "\t\tport x: ~C;\n",
    "\t\tpackage P { }\n",
    "\t}\n",
    "\t\n",
    "\tprivate port def C {\n",
    "\t\tprivate in ref y: A, B;\n",
    "\t\timport y as z1;\n",
    "\t\talias y as z2;\n",
    "\t}\n",
    "\t\n",
    "}"
   ]
  },
  {
   "cell_type": "code",
   "execution_count": 2,
   "id": "linear-walker",
   "metadata": {
    "execution": {
     "iopub.execute_input": "2021-03-25T14:59:40.093967Z",
     "iopub.status.busy": "2021-03-25T14:59:40.093408Z",
     "iopub.status.idle": "2021-03-25T14:59:42.299282Z",
     "shell.execute_reply": "2021-03-25T14:59:42.301764Z"
    }
   },
   "outputs": [
    {
     "data": {
      "image/svg+xml": [
       "<?xml version=\"1.0\" encoding=\"UTF-8\" standalone=\"no\"?><svg xmlns=\"http://www.w3.org/2000/svg\" xmlns:xlink=\"http://www.w3.org/1999/xlink\" contentScriptType=\"application/ecmascript\" contentStyleType=\"text/css\" height=\"672px\" preserveAspectRatio=\"none\" style=\"width:265px;height:672px;\" version=\"1.1\" viewBox=\"0 0 265 672\" width=\"265px\" zoomAndPan=\"magnify\"><defs><filter height=\"300%\" id=\"fn5i66d35qij0\" width=\"300%\" x=\"-1\" y=\"-1\"><feGaussianBlur result=\"blurOut\" stdDeviation=\"2.0\"/><feColorMatrix in=\"blurOut\" result=\"blurOut2\" type=\"matrix\" values=\"0 0 0 0 0 0 0 0 0 0 0 0 0 0 0 0 0 0 .4 0\"/><feOffset dx=\"4.0\" dy=\"4.0\" in=\"blurOut2\" result=\"blurOut3\"/><feBlend in=\"SourceGraphic\" in2=\"blurOut3\" mode=\"normal\"/></filter></defs><g><!--MD5=[fbc87193dbaf4d95561dea2c320d4a47]\n",
       "cluster E1--><a href=\"psysml:c0b99535-16c1-47cf-a8d5-3f20b133a54a\" target=\"_top\" title=\"psysml:c0b99535-16c1-47cf-a8d5-3f20b133a54a\" xlink:actuate=\"onRequest\" xlink:href=\"psysml:c0b99535-16c1-47cf-a8d5-3f20b133a54a\" xlink:show=\"new\" xlink:title=\"psysml:c0b99535-16c1-47cf-a8d5-3f20b133a54a\" xlink:type=\"simple\"><polygon fill=\"#FFFFFF\" filter=\"url(#fn5i66d35qij0)\" points=\"16,6,99,6,106,28.2969,243,28.2969,243,660,16,660,16,6\" style=\"stroke: #000000; stroke-width: 1.5;\"/><line style=\"stroke: #000000; stroke-width: 1.5;\" x1=\"16\" x2=\"106\" y1=\"28.2969\" y2=\"28.2969\"/><text fill=\"#000000\" font-family=\"sans-serif\" font-size=\"14\" font-weight=\"bold\" lengthAdjust=\"spacingAndGlyphs\" textLength=\"77\" x=\"20\" y=\"20.9951\">BlockTest</text></a><!--MD5=[b4997ac47864f28c2f74865a473b2911]\n",
       "class E2--><a href=\"psysml:20852434-d7cc-411e-aa3b-cae286a1f6f8\" target=\"_top\" title=\"psysml:20852434-d7cc-411e-aa3b-cae286a1f6f8\" xlink:actuate=\"onRequest\" xlink:href=\"psysml:20852434-d7cc-411e-aa3b-cae286a1f6f8\" xlink:show=\"new\" xlink:title=\"psysml:20852434-d7cc-411e-aa3b-cae286a1f6f8\" xlink:type=\"simple\"><rect fill=\"#FEFECE\" filter=\"url(#fn5i66d35qij0)\" height=\"45.9375\" id=\"E2\" rx=\"10\" ry=\"10\" style=\"stroke: #A80036; stroke-width: 1.5;\" width=\"68\" x=\"159\" y=\"56\"/><ellipse cx=\"174\" cy=\"74.9688\" fill=\"#0000FF\" rx=\"11\" ry=\"11\" style=\"stroke: #A80036; stroke-width: 1.0;\"/><path d=\"M174.8438,81.7188 L172.3906,81.7188 L172.3906,71.4688 L169.25,71.4688 L169.25,69.3281 L177.9844,69.3281 L177.9844,71.4688 L174.8438,71.4688 L174.8438,81.7188 Z \"/><text fill=\"#000000\" font-family=\"sans-serif\" font-size=\"12\" font-style=\"italic\" lengthAdjust=\"spacingAndGlyphs\" textLength=\"40\" x=\"186\" y=\"72.1387\">«part»</text><text fill=\"#000000\" font-family=\"sans-serif\" font-size=\"12\" lengthAdjust=\"spacingAndGlyphs\" textLength=\"20\" x=\"196\" y=\"86.1074\">f: A</text><line style=\"stroke: #A80036; stroke-width: 1.5;\" x1=\"160\" x2=\"226\" y1=\"93.9375\" y2=\"93.9375\"/></a><!--MD5=[09b614a08d8cba4a07c9adeb5e0fee81]\n",
       "class E3--><a href=\"psysml:cbed5230-ac88-4b7e-9b23-6ffd90d7c059\" target=\"_top\" title=\"psysml:cbed5230-ac88-4b7e-9b23-6ffd90d7c059\" xlink:actuate=\"onRequest\" xlink:href=\"psysml:cbed5230-ac88-4b7e-9b23-6ffd90d7c059\" xlink:show=\"new\" xlink:title=\"psysml:cbed5230-ac88-4b7e-9b23-6ffd90d7c059\" xlink:type=\"simple\"><rect fill=\"#FEFECE\" filter=\"url(#fn5i66d35qij0)\" height=\"75.5469\" id=\"E3\" style=\"stroke: #A80036; stroke-width: 1.5;\" width=\"92\" x=\"124\" y=\"194\"/><ellipse cx=\"139\" cy=\"212.9688\" fill=\"#0000FF\" rx=\"11\" ry=\"11\" style=\"stroke: #A80036; stroke-width: 1.0;\"/><path d=\"M139.8438,219.7188 L137.3906,219.7188 L137.3906,209.4688 L134.25,209.4688 L134.25,207.3281 L142.9844,207.3281 L142.9844,209.4688 L139.8438,209.4688 L139.8438,219.7188 Z \"/><text fill=\"#000000\" font-family=\"sans-serif\" font-size=\"12\" font-style=\"italic\" lengthAdjust=\"spacingAndGlyphs\" textLength=\"64\" x=\"151\" y=\"210.1387\">«part def»</text><text fill=\"#000000\" font-family=\"sans-serif\" font-size=\"12\" lengthAdjust=\"spacingAndGlyphs\" textLength=\"8\" x=\"179\" y=\"224.1074\">A</text><line style=\"stroke: #A80036; stroke-width: 1.5;\" x1=\"125\" x2=\"215\" y1=\"231.9375\" y2=\"231.9375\"/><text fill=\"#000000\" font-family=\"sans-serif\" font-size=\"11\" lengthAdjust=\"spacingAndGlyphs\" textLength=\"22\" x=\"130\" y=\"262.9526\">c: C</text><line style=\"stroke: #A80036; stroke-width: 1.0;\" x1=\"125\" x2=\"155\" y1=\"246.3398\" y2=\"246.3398\"/><text fill=\"#000000\" font-family=\"sans-serif\" font-size=\"11\" lengthAdjust=\"spacingAndGlyphs\" textLength=\"30\" x=\"155\" y=\"249.6479\">ports</text><line style=\"stroke: #A80036; stroke-width: 1.0;\" x1=\"185\" x2=\"215\" y1=\"246.3398\" y2=\"246.3398\"/></a><!--MD5=[ebbe1d658d1005bcc118a6aa81145e00]\n",
       "class E4--><a href=\"psysml:1e20eef8-b16d-4a20-93fc-2b015416e79a\" target=\"_top\" title=\"psysml:1e20eef8-b16d-4a20-93fc-2b015416e79a\" xlink:actuate=\"onRequest\" xlink:href=\"psysml:1e20eef8-b16d-4a20-93fc-2b015416e79a\" xlink:show=\"new\" xlink:title=\"psysml:1e20eef8-b16d-4a20-93fc-2b015416e79a\" xlink:type=\"simple\"><rect fill=\"#FEFECE\" filter=\"url(#fn5i66d35qij0)\" height=\"45.9375\" id=\"E4\" rx=\"10\" ry=\"10\" style=\"stroke: #A80036; stroke-width: 1.5;\" width=\"68\" x=\"108\" y=\"347\"/><ellipse cx=\"123\" cy=\"365.9688\" fill=\"#0000FF\" rx=\"11\" ry=\"11\" style=\"stroke: #A80036; stroke-width: 1.0;\"/><path d=\"M123.8438,372.7188 L121.3906,372.7188 L121.3906,362.4688 L118.25,362.4688 L118.25,360.3281 L126.9844,360.3281 L126.9844,362.4688 L123.8438,362.4688 L123.8438,372.7188 Z \"/><text fill=\"#000000\" font-family=\"sans-serif\" font-size=\"12\" font-style=\"italic\" lengthAdjust=\"spacingAndGlyphs\" textLength=\"40\" x=\"135\" y=\"363.1387\">«part»</text><text fill=\"#000000\" font-family=\"sans-serif\" font-size=\"12\" lengthAdjust=\"spacingAndGlyphs\" textLength=\"24\" x=\"143\" y=\"377.1074\">b: B</text><line style=\"stroke: #A80036; stroke-width: 1.5;\" x1=\"109\" x2=\"175\" y1=\"384.9375\" y2=\"384.9375\"/></a><!--MD5=[270fce915f116d4de14055a7c1d9a0f3]\n",
       "class E5--><a href=\"psysml:633af2d2-4d32-4996-ac04-a91fff2e720f\" target=\"_top\" title=\"psysml:633af2d2-4d32-4996-ac04-a91fff2e720f\" xlink:actuate=\"onRequest\" xlink:href=\"psysml:633af2d2-4d32-4996-ac04-a91fff2e720f\" xlink:show=\"new\" xlink:title=\"psysml:633af2d2-4d32-4996-ac04-a91fff2e720f\" xlink:type=\"simple\"><rect fill=\"#FEFECE\" filter=\"url(#fn5i66d35qij0)\" height=\"75.5469\" id=\"E5\" style=\"stroke: #A80036; stroke-width: 1.5;\" width=\"92\" x=\"77\" y=\"454\"/><ellipse cx=\"92\" cy=\"472.9688\" fill=\"#0000FF\" rx=\"11\" ry=\"11\" style=\"stroke: #A80036; stroke-width: 1.0;\"/><path d=\"M92.8438,479.7188 L90.3906,479.7188 L90.3906,469.4688 L87.25,469.4688 L87.25,467.3281 L95.9844,467.3281 L95.9844,469.4688 L92.8438,469.4688 L92.8438,479.7188 Z \"/><text fill=\"#000000\" font-family=\"sans-serif\" font-size=\"12\" font-style=\"italic\" lengthAdjust=\"spacingAndGlyphs\" textLength=\"64\" x=\"104\" y=\"470.1387\">«part def»</text><text fill=\"#000000\" font-family=\"sans-serif\" font-size=\"12\" lengthAdjust=\"spacingAndGlyphs\" textLength=\"8\" x=\"132\" y=\"484.1074\">B</text><line style=\"stroke: #A80036; stroke-width: 1.5;\" x1=\"78\" x2=\"168\" y1=\"491.9375\" y2=\"491.9375\"/><text fill=\"#000000\" font-family=\"sans-serif\" font-size=\"11\" lengthAdjust=\"spacingAndGlyphs\" textLength=\"31\" x=\"83\" y=\"522.9526\">x: ~C</text><line style=\"stroke: #A80036; stroke-width: 1.0;\" x1=\"78\" x2=\"108\" y1=\"506.3398\" y2=\"506.3398\"/><text fill=\"#000000\" font-family=\"sans-serif\" font-size=\"11\" lengthAdjust=\"spacingAndGlyphs\" textLength=\"30\" x=\"108\" y=\"509.6479\">ports</text><line style=\"stroke: #A80036; stroke-width: 1.0;\" x1=\"138\" x2=\"168\" y1=\"506.3398\" y2=\"506.3398\"/></a><!--MD5=[2156ba9850f5573cc1fc38a6a4b2f02b]\n",
       "class E7--><a href=\"psysml:adeac7a4-0c31-420e-b3fd-609062fb2f41\" target=\"_top\" title=\"psysml:adeac7a4-0c31-420e-b3fd-609062fb2f41\" xlink:actuate=\"onRequest\" xlink:href=\"psysml:adeac7a4-0c31-420e-b3fd-609062fb2f41\" xlink:show=\"new\" xlink:title=\"psysml:adeac7a4-0c31-420e-b3fd-609062fb2f41\" xlink:type=\"simple\"><rect fill=\"#FEFECE\" filter=\"url(#fn5i66d35qij0)\" height=\"45.9375\" id=\"E7\" rx=\"10\" ry=\"10\" style=\"stroke: #A80036; stroke-width: 1.5;\" width=\"68\" x=\"159\" y=\"594.5\"/><ellipse cx=\"174\" cy=\"613.4688\" fill=\"#0000FF\" rx=\"11\" ry=\"11\" style=\"stroke: #A80036; stroke-width: 1.0;\"/><path d=\"M174.8438,620.2188 L172.3906,620.2188 L172.3906,609.9688 L169.25,609.9688 L169.25,607.8281 L177.9844,607.8281 L177.9844,609.9688 L174.8438,609.9688 L174.8438,620.2188 Z \"/><text fill=\"#000000\" font-family=\"sans-serif\" font-size=\"12\" font-style=\"italic\" lengthAdjust=\"spacingAndGlyphs\" textLength=\"40\" x=\"186\" y=\"610.6387\">«part»</text><text fill=\"#000000\" font-family=\"sans-serif\" font-size=\"12\" lengthAdjust=\"spacingAndGlyphs\" textLength=\"24\" x=\"194\" y=\"624.6074\">a: A</text><line style=\"stroke: #A80036; stroke-width: 1.5;\" x1=\"160\" x2=\"226\" y1=\"632.4375\" y2=\"632.4375\"/></a><!--MD5=[b9389687b975829384b498ac4b7476b2]\n",
       "class E8--><a href=\"psysml:19a0d075-dfec-4a25-8f91-7b5bd5520f32\" target=\"_top\" title=\"psysml:19a0d075-dfec-4a25-8f91-7b5bd5520f32\" xlink:actuate=\"onRequest\" xlink:href=\"psysml:19a0d075-dfec-4a25-8f91-7b5bd5520f32\" xlink:show=\"new\" xlink:title=\"psysml:19a0d075-dfec-4a25-8f91-7b5bd5520f32\" xlink:type=\"simple\"><rect fill=\"#FEFECE\" filter=\"url(#fn5i66d35qij0)\" height=\"75.5469\" id=\"E8\" style=\"stroke: #A80036; stroke-width: 1.5;\" width=\"92\" x=\"32\" y=\"41\"/><ellipse cx=\"47\" cy=\"59.9688\" fill=\"#0000FF\" rx=\"11\" ry=\"11\" style=\"stroke: #A80036; stroke-width: 1.0;\"/><path d=\"M47.8438,66.7188 L45.3906,66.7188 L45.3906,56.4688 L42.25,56.4688 L42.25,54.3281 L50.9844,54.3281 L50.9844,56.4688 L47.8438,56.4688 L47.8438,66.7188 Z \"/><text fill=\"#000000\" font-family=\"sans-serif\" font-size=\"12\" font-style=\"italic\" lengthAdjust=\"spacingAndGlyphs\" textLength=\"64\" x=\"59\" y=\"57.1387\">«port def»</text><text fill=\"#000000\" font-family=\"sans-serif\" font-size=\"12\" lengthAdjust=\"spacingAndGlyphs\" textLength=\"8\" x=\"87\" y=\"71.1074\">C</text><line style=\"stroke: #A80036; stroke-width: 1.5;\" x1=\"33\" x2=\"123\" y1=\"78.9375\" y2=\"78.9375\"/><text fill=\"#000000\" font-family=\"sans-serif\" font-size=\"11\" lengthAdjust=\"spacingAndGlyphs\" textLength=\"37\" x=\"38\" y=\"109.9526\">y: A, B</text><text fill=\"#000000\" font-family=\"sans-serif\" font-size=\"11\" font-weight=\"bold\" lengthAdjust=\"spacingAndGlyphs\" textLength=\"15\" x=\"79\" y=\"109.9526\">as</text><text fill=\"#000000\" font-family=\"sans-serif\" font-size=\"11\" lengthAdjust=\"spacingAndGlyphs\" textLength=\"12\" x=\"98\" y=\"109.9526\">z2</text><line style=\"stroke: #A80036; stroke-width: 1.0;\" x1=\"33\" x2=\"47\" y1=\"93.3398\" y2=\"93.3398\"/><text fill=\"#000000\" font-family=\"sans-serif\" font-size=\"11\" lengthAdjust=\"spacingAndGlyphs\" textLength=\"62\" x=\"47\" y=\"96.6479\">references</text><line style=\"stroke: #A80036; stroke-width: 1.0;\" x1=\"109\" x2=\"123\" y1=\"93.3398\" y2=\"93.3398\"/></a><a href=\"psysml:fcdcf065-90d4-4da1-8b43-4feb0ab4c03b\" target=\"_top\" title=\"psysml:fcdcf065-90d4-4da1-8b43-4feb0ab4c03b\" xlink:actuate=\"onRequest\" xlink:href=\"psysml:fcdcf065-90d4-4da1-8b43-4feb0ab4c03b\" xlink:show=\"new\" xlink:title=\"psysml:fcdcf065-90d4-4da1-8b43-4feb0ab4c03b\" xlink:type=\"simple\"><polygon fill=\"#FFFFFF\" filter=\"url(#fn5i66d35qij0)\" points=\"94,591,110,591,117,613.2969,124,613.2969,124,643.5938,94,643.5938,94,591\" style=\"stroke: #000000; stroke-width: 1.5;\"/><line style=\"stroke: #000000; stroke-width: 1.5;\" x1=\"94\" x2=\"117\" y1=\"613.2969\" y2=\"613.2969\"/><text fill=\"#000000\" font-family=\"sans-serif\" font-size=\"14\" font-weight=\"bold\" lengthAdjust=\"spacingAndGlyphs\" textLength=\"10\" x=\"98\" y=\"605.9951\">P</text></a><!--MD5=[2720a5a1f2c3fca2055b230370638851]\n",
       "link E2 to E3--><a href=\"psysml:1f32f64a-cd2f-48b1-a0ff-85d8f5396f29\" target=\"_top\" title=\"psysml:1f32f64a-cd2f-48b1-a0ff-85d8f5396f29\" xlink:actuate=\"onRequest\" xlink:href=\"psysml:1f32f64a-cd2f-48b1-a0ff-85d8f5396f29\" xlink:show=\"new\" xlink:title=\"psysml:1f32f64a-cd2f-48b1-a0ff-85d8f5396f29\" xlink:type=\"simple\"><path d=\"M189.61,102.28 C186.74,121.12 182.5,148.97 178.69,173.94 \" fill=\"none\" id=\"E2-&gt;E3\" style=\"stroke: #A80036; stroke-width: 1.0;\"/><polygon fill=\"#FFFFFF\" points=\"175.64,193.98,171.5695,174.1449,185.4111,176.2451,175.64,193.98\" style=\"stroke: #A80036; stroke-width: 1.0;\"/><ellipse cx=\"174.402\" cy=\"168.8094\" fill=\"#A80036\" rx=\"2\" ry=\"2\" style=\"stroke: #A80036; stroke-width: 1.0;\"/><ellipse cx=\"184.2888\" cy=\"170.3096\" fill=\"#A80036\" rx=\"2\" ry=\"2\" style=\"stroke: #A80036; stroke-width: 1.0;\"/></a><!--MD5=[4672eba38e49728da53d11aeb285b987]\n",
       "reverse link E3 to E4--><a href=\"psysml:1e20eef8-b16d-4a20-93fc-2b015416e79a\" target=\"_top\" title=\"psysml:1e20eef8-b16d-4a20-93fc-2b015416e79a\" xlink:actuate=\"onRequest\" xlink:href=\"psysml:1e20eef8-b16d-4a20-93fc-2b015416e79a\" xlink:show=\"new\" xlink:title=\"psysml:1e20eef8-b16d-4a20-93fc-2b015416e79a\" xlink:type=\"simple\"><path d=\"M159.7,283.02 C155.19,304.93 150.13,329.52 146.58,346.77 \" fill=\"none\" id=\"E3&lt;-E4\" style=\"stroke: #A80036; stroke-width: 1.0;\"/><polygon fill=\"#A80036\" points=\"162.35,270.16,157.2247,275.2326,159.9357,281.9146,165.0611,276.8421,162.35,270.16\" style=\"stroke: #A80036; stroke-width: 1.0;\"/></a><!--MD5=[1b7591eae5389033d8d09a9d6721a717]\n",
       "link E4 to E5--><a href=\"psysml:97a379fd-51a7-461f-afe4-84a5f5da2292\" target=\"_top\" title=\"psysml:97a379fd-51a7-461f-afe4-84a5f5da2292\" xlink:actuate=\"onRequest\" xlink:href=\"psysml:97a379fd-51a7-461f-afe4-84a5f5da2292\" xlink:show=\"new\" xlink:title=\"psysml:97a379fd-51a7-461f-afe4-84a5f5da2292\" xlink:type=\"simple\"><path d=\"M138.52,393.01 C136.69,404.51 134.37,419.17 132.08,433.62 \" fill=\"none\" id=\"E4-&gt;E5\" style=\"stroke: #A80036; stroke-width: 1.0;\"/><polygon fill=\"#FFFFFF\" points=\"128.93,453.57,124.9878,433.709,138.8155,435.8986,128.93,453.57\" style=\"stroke: #A80036; stroke-width: 1.0;\"/><ellipse cx=\"127.8547\" cy=\"428.392\" fill=\"#A80036\" rx=\"2\" ry=\"2\" style=\"stroke: #A80036; stroke-width: 1.0;\"/><ellipse cx=\"137.7316\" cy=\"429.956\" fill=\"#A80036\" rx=\"2\" ry=\"2\" style=\"stroke: #A80036; stroke-width: 1.0;\"/></a><!--MD5=[85d356282659285ab4b2cfe2f634dd2b]\n",
       "reverse link E5 to E6--><a href=\"psysml:fcdcf065-90d4-4da1-8b43-4feb0ab4c03b\" target=\"_top\" title=\"psysml:fcdcf065-90d4-4da1-8b43-4feb0ab4c03b\" xlink:actuate=\"onRequest\" xlink:href=\"psysml:fcdcf065-90d4-4da1-8b43-4feb0ab4c03b\" xlink:show=\"new\" xlink:title=\"psysml:fcdcf065-90d4-4da1-8b43-4feb0ab4c03b\" xlink:type=\"simple\"><path d=\"M117.07,545.35 C115.28,561.08 113.4,577.65 111.91,590.83 \" fill=\"none\" id=\"E5&lt;-E6\" style=\"stroke: #A80036; stroke-width: 1.0;\"/><ellipse cx=\"117.9015\" cy=\"537.9994\" fill=\"#FFFFFF\" rx=\"8\" ry=\"8\" style=\"stroke: #A80036; stroke-width: 1.0;\"/><line style=\"stroke: #A80036; stroke-width: 1.0;\" x1=\"117.003\" x2=\"118.8\" y1=\"545.9488\" y2=\"530.05\"/><line style=\"stroke: #A80036; stroke-width: 1.0;\" x1=\"109.9521\" x2=\"125.8509\" y1=\"537.1009\" y2=\"538.8979\"/></a><!--MD5=[14ccda38c055a5c0da953d572bc50960]\n",
       "link E7 to E3--><a href=\"psysml:c8b02122-2142-456b-8199-9bf99e52168e\" target=\"_top\" title=\"psysml:c8b02122-2142-456b-8199-9bf99e52168e\" xlink:actuate=\"onRequest\" xlink:href=\"psysml:c8b02122-2142-456b-8199-9bf99e52168e\" xlink:show=\"new\" xlink:title=\"psysml:c8b02122-2142-456b-8199-9bf99e52168e\" xlink:type=\"simple\"><path d=\"M194.68,594.41 C197.84,548.29 203.52,438.45 194,347 C192.05,328.25 188.33,308.03 184.4,289.91 \" fill=\"none\" id=\"E7-&gt;E3\" style=\"stroke: #A80036; stroke-width: 1.0;\"/><polygon fill=\"#FFFFFF\" points=\"179.86,270.17,190.9295,287.1248,177.2836,290.2539,179.86,270.17\" style=\"stroke: #A80036; stroke-width: 1.0;\"/><ellipse cx=\"190.254\" cy=\"293.1277\" fill=\"#A80036\" rx=\"2\" ry=\"2\" style=\"stroke: #A80036; stroke-width: 1.0;\"/><ellipse cx=\"180.507\" cy=\"295.3627\" fill=\"#A80036\" rx=\"2\" ry=\"2\" style=\"stroke: #A80036; stroke-width: 1.0;\"/></a><!--MD5=[452b418e7f8a40397a49b8c0a78acc5b]\n",
       "reverse link E5 to E7--><a href=\"psysml:adeac7a4-0c31-420e-b3fd-609062fb2f41\" target=\"_top\" title=\"psysml:adeac7a4-0c31-420e-b3fd-609062fb2f41\" xlink:actuate=\"onRequest\" xlink:href=\"psysml:adeac7a4-0c31-420e-b3fd-609062fb2f41\" xlink:show=\"new\" xlink:title=\"psysml:adeac7a4-0c31-420e-b3fd-609062fb2f41\" xlink:type=\"simple\"><path d=\"M150.45,541.42 C160.77,559.64 172.02,579.48 180.36,594.19 \" fill=\"none\" id=\"E5&lt;-E7\" style=\"stroke: #A80036; stroke-width: 1.0;\"/><polygon fill=\"#A80036\" points=\"144,530.05,143.4794,537.2423,149.9181,540.4891,150.4388,533.2969,144,530.05\" style=\"stroke: #A80036; stroke-width: 1.0;\"/></a><!--MD5=[03c8294790d3c57651a1993cecff665f]\n",
       "reverse link E8 to E3--><a href=\"psysml:4b320237-d900-4f83-8ac2-28b55b9df163\" target=\"_top\" title=\"psysml:4b320237-d900-4f83-8ac2-28b55b9df163\" xlink:actuate=\"onRequest\" xlink:href=\"psysml:4b320237-d900-4f83-8ac2-28b55b9df163\" xlink:show=\"new\" xlink:title=\"psysml:4b320237-d900-4f83-8ac2-28b55b9df163\" xlink:type=\"simple\"><path d=\"M107.66,128.69 C120.55,149.83 135.39,174.19 147.36,193.84 \" fill=\"none\" id=\"E8&lt;-E3\" style=\"stroke: #A80036; stroke-width: 1.0;\"/><polygon fill=\"#FFFFFF\" points=\"100.74,117.33,100.4499,124.5353,106.9894,127.5743,107.2795,120.369,100.74,117.33\" style=\"stroke: #A80036; stroke-width: 1.0;\"/><text fill=\"#000000\" font-family=\"sans-serif\" font-size=\"13\" lengthAdjust=\"spacingAndGlyphs\" textLength=\"7\" x=\"127\" y=\"160.0669\">y</text></a><!--MD5=[049ab558815ccadc2a7a6ffdb8f4a5ba]\n",
       "reverse link E8 to E5--><a href=\"psysml:4b320237-d900-4f83-8ac2-28b55b9df163\" target=\"_top\" title=\"psysml:4b320237-d900-4f83-8ac2-28b55b9df163\" xlink:actuate=\"onRequest\" xlink:href=\"psysml:4b320237-d900-4f83-8ac2-28b55b9df163\" xlink:show=\"new\" xlink:title=\"psysml:4b320237-d900-4f83-8ac2-28b55b9df163\" xlink:type=\"simple\"><path d=\"M75.87,130.78 C74.23,193.08 74.52,301.69 91,393 C94.72,413.61 101.72,435.85 108.23,453.93 \" fill=\"none\" id=\"E8&lt;-E5\" style=\"stroke: #A80036; stroke-width: 1.0;\"/><polygon fill=\"#FFFFFF\" points=\"76.27,117.46,72.0938,123.3387,75.9141,129.4547,80.0903,123.576,76.27,117.46\" style=\"stroke: #A80036; stroke-width: 1.0;\"/><text fill=\"#000000\" font-family=\"sans-serif\" font-size=\"13\" lengthAdjust=\"spacingAndGlyphs\" textLength=\"7\" x=\"81\" y=\"313.0669\">y</text></a><!--MD5=[df12b7ede15b3d4e278dc6f9bf26e07b]\n",
       "@startuml\r\n",
       " \r\n",
       "package \"BlockTest\" as E1  [[psysml:c0b99535-16c1-47cf-a8d5-3f20b133a54a ]]  {\r\n",
       "comp usage \"f: A\" as E2  <<(T,blue)part>> [[psysml:20852434-d7cc-411e-aa3b-cae286a1f6f8 ]] {\r\n",
       "}\r\n",
       "comp def \"A\" as E3  <<(T,blue)part def>> [[psysml:cbed5230-ac88-4b7e-9b23-6ffd90d7c059 ]] {\r\n",
       "- - ports - -\r\n",
       "c: C\r\n",
       "}\r\n",
       "comp usage \"b: B\" as E4  <<(T,blue)part>> [[psysml:1e20eef8-b16d-4a20-93fc-2b015416e79a ]] {\r\n",
       "}\r\n",
       "comp def \"B\" as E5  <<(T,blue)part def>> [[psysml:633af2d2-4d32-4996-ac04-a91fff2e720f ]] {\r\n",
       "- - ports - -\r\n",
       "x: ~C\r\n",
       "}\r\n",
       "package \"P\" as E6  [[psysml:fcdcf065-90d4-4da1-8b43-4feb0ab4c03b ]]  {\r\n",
       "}\r\n",
       "comp usage \"a: A\" as E7  <<(T,blue)part>> [[psysml:adeac7a4-0c31-420e-b3fd-609062fb2f41 ]] {\r\n",
       "}\r\n",
       "comp def \"C\" as E8  <<(T,blue)port def>> [[psysml:19a0d075-dfec-4a25-8f91-7b5bd5520f32 ]] {\r\n",
       "- - references - -\r\n",
       "y: A, B <b>as</b> z2 \r\n",
       "}\r\n",
       "E2 - -:|> E3 [[psysml:1f32f64a-cd2f-48b1-a0ff-85d8f5396f29 ]] \r\n",
       "E3 *- - E4 [[psysml:1e20eef8-b16d-4a20-93fc-2b015416e79a ]] \r\n",
       "E4 - -:|> E5 [[psysml:97a379fd-51a7-461f-afe4-84a5f5da2292 ]] \r\n",
       "E5 +- - E6 [[psysml:fcdcf065-90d4-4da1-8b43-4feb0ab4c03b ]] \r\n",
       "E7 - -:|> E3 [[psysml:c8b02122-2142-456b-8199-9bf99e52168e ]] \r\n",
       "E5 *- - E7 [[psysml:adeac7a4-0c31-420e-b3fd-609062fb2f41 ]] \r\n",
       "E8 o- - E3 [[psysml:4b320237-d900-4f83-8ac2-28b55b9df163 ]] : y\r\n",
       "E8 o- - E5 [[psysml:4b320237-d900-4f83-8ac2-28b55b9df163 ]] : y\r\n",
       "}\r\n",
       "@enduml\r\n",
       "\n",
       "PlantUML version 1.2020.13(Sat Jun 13 12:26:38 UTC 2020)\n",
       "(EPL source distribution)\n",
       "Java Runtime: OpenJDK Runtime Environment\n",
       "JVM: OpenJDK 64-Bit Server VM\n",
       "Default Encoding: UTF-8\n",
       "Language: en\n",
       "Country: null\n",
       "--></g></svg>"
      ]
     },
     "execution_count": 2,
     "metadata": {},
     "output_type": "execute_result"
    }
   ],
   "source": [
    "%viz --style=\"COMPTREE\" --view=\"Default\" \"BlockTest\""
   ]
  },
  {
   "cell_type": "code",
   "execution_count": 3,
   "id": "dependent-harmony",
   "metadata": {
    "execution": {
     "iopub.execute_input": "2021-03-25T14:59:42.335743Z",
     "iopub.status.busy": "2021-03-25T14:59:42.335173Z",
     "iopub.status.idle": "2021-03-25T14:59:43.046007Z",
     "shell.execute_reply": "2021-03-25T14:59:43.043627Z"
    }
   },
   "outputs": [
    {
     "data": {
      "image/svg+xml": [
       "<?xml version=\"1.0\" encoding=\"UTF-8\" standalone=\"no\"?><svg xmlns=\"http://www.w3.org/2000/svg\" xmlns:xlink=\"http://www.w3.org/1999/xlink\" contentScriptType=\"application/ecmascript\" contentStyleType=\"text/css\" height=\"672px\" preserveAspectRatio=\"none\" style=\"width:265px;height:672px;\" version=\"1.1\" viewBox=\"0 0 265 672\" width=\"265px\" zoomAndPan=\"magnify\"><defs><filter height=\"300%\" id=\"fn5i66d35qij0\" width=\"300%\" x=\"-1\" y=\"-1\"><feGaussianBlur result=\"blurOut\" stdDeviation=\"2.0\"/><feColorMatrix in=\"blurOut\" result=\"blurOut2\" type=\"matrix\" values=\"0 0 0 0 0 0 0 0 0 0 0 0 0 0 0 0 0 0 .4 0\"/><feOffset dx=\"4.0\" dy=\"4.0\" in=\"blurOut2\" result=\"blurOut3\"/><feBlend in=\"SourceGraphic\" in2=\"blurOut3\" mode=\"normal\"/></filter></defs><g><!--MD5=[fbc87193dbaf4d95561dea2c320d4a47]\n",
       "cluster E1--><a href=\"psysml:c0b99535-16c1-47cf-a8d5-3f20b133a54a\" target=\"_top\" title=\"psysml:c0b99535-16c1-47cf-a8d5-3f20b133a54a\" xlink:actuate=\"onRequest\" xlink:href=\"psysml:c0b99535-16c1-47cf-a8d5-3f20b133a54a\" xlink:show=\"new\" xlink:title=\"psysml:c0b99535-16c1-47cf-a8d5-3f20b133a54a\" xlink:type=\"simple\"><polygon fill=\"#FFFFFF\" filter=\"url(#fn5i66d35qij0)\" points=\"16,6,99,6,106,28.2969,243,28.2969,243,660,16,660,16,6\" style=\"stroke: #000000; stroke-width: 1.5;\"/><line style=\"stroke: #000000; stroke-width: 1.5;\" x1=\"16\" x2=\"106\" y1=\"28.2969\" y2=\"28.2969\"/><text fill=\"#000000\" font-family=\"sans-serif\" font-size=\"14\" font-weight=\"bold\" lengthAdjust=\"spacingAndGlyphs\" textLength=\"77\" x=\"20\" y=\"20.9951\">BlockTest</text></a><!--MD5=[b4997ac47864f28c2f74865a473b2911]\n",
       "class E2--><a href=\"psysml:20852434-d7cc-411e-aa3b-cae286a1f6f8\" target=\"_top\" title=\"psysml:20852434-d7cc-411e-aa3b-cae286a1f6f8\" xlink:actuate=\"onRequest\" xlink:href=\"psysml:20852434-d7cc-411e-aa3b-cae286a1f6f8\" xlink:show=\"new\" xlink:title=\"psysml:20852434-d7cc-411e-aa3b-cae286a1f6f8\" xlink:type=\"simple\"><rect fill=\"#FEFECE\" filter=\"url(#fn5i66d35qij0)\" height=\"45.9375\" id=\"E2\" rx=\"10\" ry=\"10\" style=\"stroke: #A80036; stroke-width: 1.5;\" width=\"68\" x=\"159\" y=\"56\"/><ellipse cx=\"174\" cy=\"74.9688\" fill=\"#0000FF\" rx=\"11\" ry=\"11\" style=\"stroke: #A80036; stroke-width: 1.0;\"/><path d=\"M174.8438,81.7188 L172.3906,81.7188 L172.3906,71.4688 L169.25,71.4688 L169.25,69.3281 L177.9844,69.3281 L177.9844,71.4688 L174.8438,71.4688 L174.8438,81.7188 Z \"/><text fill=\"#000000\" font-family=\"sans-serif\" font-size=\"12\" font-style=\"italic\" lengthAdjust=\"spacingAndGlyphs\" textLength=\"40\" x=\"186\" y=\"72.1387\">«part»</text><text fill=\"#000000\" font-family=\"sans-serif\" font-size=\"12\" lengthAdjust=\"spacingAndGlyphs\" textLength=\"20\" x=\"196\" y=\"86.1074\">f: A</text><line style=\"stroke: #A80036; stroke-width: 1.5;\" x1=\"160\" x2=\"226\" y1=\"93.9375\" y2=\"93.9375\"/></a><!--MD5=[09b614a08d8cba4a07c9adeb5e0fee81]\n",
       "class E3--><a href=\"psysml:cbed5230-ac88-4b7e-9b23-6ffd90d7c059\" target=\"_top\" title=\"psysml:cbed5230-ac88-4b7e-9b23-6ffd90d7c059\" xlink:actuate=\"onRequest\" xlink:href=\"psysml:cbed5230-ac88-4b7e-9b23-6ffd90d7c059\" xlink:show=\"new\" xlink:title=\"psysml:cbed5230-ac88-4b7e-9b23-6ffd90d7c059\" xlink:type=\"simple\"><rect fill=\"#FEFECE\" filter=\"url(#fn5i66d35qij0)\" height=\"75.5469\" id=\"E3\" style=\"stroke: #A80036; stroke-width: 1.5;\" width=\"92\" x=\"124\" y=\"194\"/><ellipse cx=\"139\" cy=\"212.9688\" fill=\"#0000FF\" rx=\"11\" ry=\"11\" style=\"stroke: #A80036; stroke-width: 1.0;\"/><path d=\"M139.8438,219.7188 L137.3906,219.7188 L137.3906,209.4688 L134.25,209.4688 L134.25,207.3281 L142.9844,207.3281 L142.9844,209.4688 L139.8438,209.4688 L139.8438,219.7188 Z \"/><text fill=\"#000000\" font-family=\"sans-serif\" font-size=\"12\" font-style=\"italic\" lengthAdjust=\"spacingAndGlyphs\" textLength=\"64\" x=\"151\" y=\"210.1387\">«part def»</text><text fill=\"#000000\" font-family=\"sans-serif\" font-size=\"12\" lengthAdjust=\"spacingAndGlyphs\" textLength=\"8\" x=\"179\" y=\"224.1074\">A</text><line style=\"stroke: #A80036; stroke-width: 1.5;\" x1=\"125\" x2=\"215\" y1=\"231.9375\" y2=\"231.9375\"/><text fill=\"#000000\" font-family=\"sans-serif\" font-size=\"11\" lengthAdjust=\"spacingAndGlyphs\" textLength=\"22\" x=\"130\" y=\"262.9526\">c: C</text><line style=\"stroke: #A80036; stroke-width: 1.0;\" x1=\"125\" x2=\"155\" y1=\"246.3398\" y2=\"246.3398\"/><text fill=\"#000000\" font-family=\"sans-serif\" font-size=\"11\" lengthAdjust=\"spacingAndGlyphs\" textLength=\"30\" x=\"155\" y=\"249.6479\">ports</text><line style=\"stroke: #A80036; stroke-width: 1.0;\" x1=\"185\" x2=\"215\" y1=\"246.3398\" y2=\"246.3398\"/></a><!--MD5=[ebbe1d658d1005bcc118a6aa81145e00]\n",
       "class E4--><a href=\"psysml:1e20eef8-b16d-4a20-93fc-2b015416e79a\" target=\"_top\" title=\"psysml:1e20eef8-b16d-4a20-93fc-2b015416e79a\" xlink:actuate=\"onRequest\" xlink:href=\"psysml:1e20eef8-b16d-4a20-93fc-2b015416e79a\" xlink:show=\"new\" xlink:title=\"psysml:1e20eef8-b16d-4a20-93fc-2b015416e79a\" xlink:type=\"simple\"><rect fill=\"#FEFECE\" filter=\"url(#fn5i66d35qij0)\" height=\"45.9375\" id=\"E4\" rx=\"10\" ry=\"10\" style=\"stroke: #A80036; stroke-width: 1.5;\" width=\"68\" x=\"108\" y=\"347\"/><ellipse cx=\"123\" cy=\"365.9688\" fill=\"#0000FF\" rx=\"11\" ry=\"11\" style=\"stroke: #A80036; stroke-width: 1.0;\"/><path d=\"M123.8438,372.7188 L121.3906,372.7188 L121.3906,362.4688 L118.25,362.4688 L118.25,360.3281 L126.9844,360.3281 L126.9844,362.4688 L123.8438,362.4688 L123.8438,372.7188 Z \"/><text fill=\"#000000\" font-family=\"sans-serif\" font-size=\"12\" font-style=\"italic\" lengthAdjust=\"spacingAndGlyphs\" textLength=\"40\" x=\"135\" y=\"363.1387\">«part»</text><text fill=\"#000000\" font-family=\"sans-serif\" font-size=\"12\" lengthAdjust=\"spacingAndGlyphs\" textLength=\"24\" x=\"143\" y=\"377.1074\">b: B</text><line style=\"stroke: #A80036; stroke-width: 1.5;\" x1=\"109\" x2=\"175\" y1=\"384.9375\" y2=\"384.9375\"/></a><!--MD5=[270fce915f116d4de14055a7c1d9a0f3]\n",
       "class E5--><a href=\"psysml:633af2d2-4d32-4996-ac04-a91fff2e720f\" target=\"_top\" title=\"psysml:633af2d2-4d32-4996-ac04-a91fff2e720f\" xlink:actuate=\"onRequest\" xlink:href=\"psysml:633af2d2-4d32-4996-ac04-a91fff2e720f\" xlink:show=\"new\" xlink:title=\"psysml:633af2d2-4d32-4996-ac04-a91fff2e720f\" xlink:type=\"simple\"><rect fill=\"#FEFECE\" filter=\"url(#fn5i66d35qij0)\" height=\"75.5469\" id=\"E5\" style=\"stroke: #A80036; stroke-width: 1.5;\" width=\"92\" x=\"77\" y=\"454\"/><ellipse cx=\"92\" cy=\"472.9688\" fill=\"#0000FF\" rx=\"11\" ry=\"11\" style=\"stroke: #A80036; stroke-width: 1.0;\"/><path d=\"M92.8438,479.7188 L90.3906,479.7188 L90.3906,469.4688 L87.25,469.4688 L87.25,467.3281 L95.9844,467.3281 L95.9844,469.4688 L92.8438,469.4688 L92.8438,479.7188 Z \"/><text fill=\"#000000\" font-family=\"sans-serif\" font-size=\"12\" font-style=\"italic\" lengthAdjust=\"spacingAndGlyphs\" textLength=\"64\" x=\"104\" y=\"470.1387\">«part def»</text><text fill=\"#000000\" font-family=\"sans-serif\" font-size=\"12\" lengthAdjust=\"spacingAndGlyphs\" textLength=\"8\" x=\"132\" y=\"484.1074\">B</text><line style=\"stroke: #A80036; stroke-width: 1.5;\" x1=\"78\" x2=\"168\" y1=\"491.9375\" y2=\"491.9375\"/><text fill=\"#000000\" font-family=\"sans-serif\" font-size=\"11\" lengthAdjust=\"spacingAndGlyphs\" textLength=\"31\" x=\"83\" y=\"522.9526\">x: ~C</text><line style=\"stroke: #A80036; stroke-width: 1.0;\" x1=\"78\" x2=\"108\" y1=\"506.3398\" y2=\"506.3398\"/><text fill=\"#000000\" font-family=\"sans-serif\" font-size=\"11\" lengthAdjust=\"spacingAndGlyphs\" textLength=\"30\" x=\"108\" y=\"509.6479\">ports</text><line style=\"stroke: #A80036; stroke-width: 1.0;\" x1=\"138\" x2=\"168\" y1=\"506.3398\" y2=\"506.3398\"/></a><!--MD5=[2156ba9850f5573cc1fc38a6a4b2f02b]\n",
       "class E7--><a href=\"psysml:adeac7a4-0c31-420e-b3fd-609062fb2f41\" target=\"_top\" title=\"psysml:adeac7a4-0c31-420e-b3fd-609062fb2f41\" xlink:actuate=\"onRequest\" xlink:href=\"psysml:adeac7a4-0c31-420e-b3fd-609062fb2f41\" xlink:show=\"new\" xlink:title=\"psysml:adeac7a4-0c31-420e-b3fd-609062fb2f41\" xlink:type=\"simple\"><rect fill=\"#FEFECE\" filter=\"url(#fn5i66d35qij0)\" height=\"45.9375\" id=\"E7\" rx=\"10\" ry=\"10\" style=\"stroke: #A80036; stroke-width: 1.5;\" width=\"68\" x=\"159\" y=\"594.5\"/><ellipse cx=\"174\" cy=\"613.4688\" fill=\"#0000FF\" rx=\"11\" ry=\"11\" style=\"stroke: #A80036; stroke-width: 1.0;\"/><path d=\"M174.8438,620.2188 L172.3906,620.2188 L172.3906,609.9688 L169.25,609.9688 L169.25,607.8281 L177.9844,607.8281 L177.9844,609.9688 L174.8438,609.9688 L174.8438,620.2188 Z \"/><text fill=\"#000000\" font-family=\"sans-serif\" font-size=\"12\" font-style=\"italic\" lengthAdjust=\"spacingAndGlyphs\" textLength=\"40\" x=\"186\" y=\"610.6387\">«part»</text><text fill=\"#000000\" font-family=\"sans-serif\" font-size=\"12\" lengthAdjust=\"spacingAndGlyphs\" textLength=\"24\" x=\"194\" y=\"624.6074\">a: A</text><line style=\"stroke: #A80036; stroke-width: 1.5;\" x1=\"160\" x2=\"226\" y1=\"632.4375\" y2=\"632.4375\"/></a><!--MD5=[b9389687b975829384b498ac4b7476b2]\n",
       "class E8--><a href=\"psysml:19a0d075-dfec-4a25-8f91-7b5bd5520f32\" target=\"_top\" title=\"psysml:19a0d075-dfec-4a25-8f91-7b5bd5520f32\" xlink:actuate=\"onRequest\" xlink:href=\"psysml:19a0d075-dfec-4a25-8f91-7b5bd5520f32\" xlink:show=\"new\" xlink:title=\"psysml:19a0d075-dfec-4a25-8f91-7b5bd5520f32\" xlink:type=\"simple\"><rect fill=\"#FEFECE\" filter=\"url(#fn5i66d35qij0)\" height=\"75.5469\" id=\"E8\" style=\"stroke: #A80036; stroke-width: 1.5;\" width=\"92\" x=\"32\" y=\"41\"/><ellipse cx=\"47\" cy=\"59.9688\" fill=\"#0000FF\" rx=\"11\" ry=\"11\" style=\"stroke: #A80036; stroke-width: 1.0;\"/><path d=\"M47.8438,66.7188 L45.3906,66.7188 L45.3906,56.4688 L42.25,56.4688 L42.25,54.3281 L50.9844,54.3281 L50.9844,56.4688 L47.8438,56.4688 L47.8438,66.7188 Z \"/><text fill=\"#000000\" font-family=\"sans-serif\" font-size=\"12\" font-style=\"italic\" lengthAdjust=\"spacingAndGlyphs\" textLength=\"64\" x=\"59\" y=\"57.1387\">«port def»</text><text fill=\"#000000\" font-family=\"sans-serif\" font-size=\"12\" lengthAdjust=\"spacingAndGlyphs\" textLength=\"8\" x=\"87\" y=\"71.1074\">C</text><line style=\"stroke: #A80036; stroke-width: 1.5;\" x1=\"33\" x2=\"123\" y1=\"78.9375\" y2=\"78.9375\"/><text fill=\"#000000\" font-family=\"sans-serif\" font-size=\"11\" lengthAdjust=\"spacingAndGlyphs\" textLength=\"37\" x=\"38\" y=\"109.9526\">y: A, B</text><text fill=\"#000000\" font-family=\"sans-serif\" font-size=\"11\" font-weight=\"bold\" lengthAdjust=\"spacingAndGlyphs\" textLength=\"15\" x=\"79\" y=\"109.9526\">as</text><text fill=\"#000000\" font-family=\"sans-serif\" font-size=\"11\" lengthAdjust=\"spacingAndGlyphs\" textLength=\"12\" x=\"98\" y=\"109.9526\">z2</text><line style=\"stroke: #A80036; stroke-width: 1.0;\" x1=\"33\" x2=\"47\" y1=\"93.3398\" y2=\"93.3398\"/><text fill=\"#000000\" font-family=\"sans-serif\" font-size=\"11\" lengthAdjust=\"spacingAndGlyphs\" textLength=\"62\" x=\"47\" y=\"96.6479\">references</text><line style=\"stroke: #A80036; stroke-width: 1.0;\" x1=\"109\" x2=\"123\" y1=\"93.3398\" y2=\"93.3398\"/></a><a href=\"psysml:fcdcf065-90d4-4da1-8b43-4feb0ab4c03b\" target=\"_top\" title=\"psysml:fcdcf065-90d4-4da1-8b43-4feb0ab4c03b\" xlink:actuate=\"onRequest\" xlink:href=\"psysml:fcdcf065-90d4-4da1-8b43-4feb0ab4c03b\" xlink:show=\"new\" xlink:title=\"psysml:fcdcf065-90d4-4da1-8b43-4feb0ab4c03b\" xlink:type=\"simple\"><polygon fill=\"#FFFFFF\" filter=\"url(#fn5i66d35qij0)\" points=\"94,591,110,591,117,613.2969,124,613.2969,124,643.5938,94,643.5938,94,591\" style=\"stroke: #000000; stroke-width: 1.5;\"/><line style=\"stroke: #000000; stroke-width: 1.5;\" x1=\"94\" x2=\"117\" y1=\"613.2969\" y2=\"613.2969\"/><text fill=\"#000000\" font-family=\"sans-serif\" font-size=\"14\" font-weight=\"bold\" lengthAdjust=\"spacingAndGlyphs\" textLength=\"10\" x=\"98\" y=\"605.9951\">P</text></a><!--MD5=[2720a5a1f2c3fca2055b230370638851]\n",
       "link E2 to E3--><a href=\"psysml:1f32f64a-cd2f-48b1-a0ff-85d8f5396f29\" target=\"_top\" title=\"psysml:1f32f64a-cd2f-48b1-a0ff-85d8f5396f29\" xlink:actuate=\"onRequest\" xlink:href=\"psysml:1f32f64a-cd2f-48b1-a0ff-85d8f5396f29\" xlink:show=\"new\" xlink:title=\"psysml:1f32f64a-cd2f-48b1-a0ff-85d8f5396f29\" xlink:type=\"simple\"><path d=\"M189.61,102.28 C186.74,121.12 182.5,148.97 178.69,173.94 \" fill=\"none\" id=\"E2-&gt;E3\" style=\"stroke: #A80036; stroke-width: 1.0;\"/><polygon fill=\"#FFFFFF\" points=\"175.64,193.98,171.5695,174.1449,185.4111,176.2451,175.64,193.98\" style=\"stroke: #A80036; stroke-width: 1.0;\"/><ellipse cx=\"174.402\" cy=\"168.8094\" fill=\"#A80036\" rx=\"2\" ry=\"2\" style=\"stroke: #A80036; stroke-width: 1.0;\"/><ellipse cx=\"184.2888\" cy=\"170.3096\" fill=\"#A80036\" rx=\"2\" ry=\"2\" style=\"stroke: #A80036; stroke-width: 1.0;\"/></a><!--MD5=[4672eba38e49728da53d11aeb285b987]\n",
       "reverse link E3 to E4--><a href=\"psysml:1e20eef8-b16d-4a20-93fc-2b015416e79a\" target=\"_top\" title=\"psysml:1e20eef8-b16d-4a20-93fc-2b015416e79a\" xlink:actuate=\"onRequest\" xlink:href=\"psysml:1e20eef8-b16d-4a20-93fc-2b015416e79a\" xlink:show=\"new\" xlink:title=\"psysml:1e20eef8-b16d-4a20-93fc-2b015416e79a\" xlink:type=\"simple\"><path d=\"M159.7,283.02 C155.19,304.93 150.13,329.52 146.58,346.77 \" fill=\"none\" id=\"E3&lt;-E4\" style=\"stroke: #A80036; stroke-width: 1.0;\"/><polygon fill=\"#A80036\" points=\"162.35,270.16,157.2247,275.2326,159.9357,281.9146,165.0611,276.8421,162.35,270.16\" style=\"stroke: #A80036; stroke-width: 1.0;\"/></a><!--MD5=[1b7591eae5389033d8d09a9d6721a717]\n",
       "link E4 to E5--><a href=\"psysml:97a379fd-51a7-461f-afe4-84a5f5da2292\" target=\"_top\" title=\"psysml:97a379fd-51a7-461f-afe4-84a5f5da2292\" xlink:actuate=\"onRequest\" xlink:href=\"psysml:97a379fd-51a7-461f-afe4-84a5f5da2292\" xlink:show=\"new\" xlink:title=\"psysml:97a379fd-51a7-461f-afe4-84a5f5da2292\" xlink:type=\"simple\"><path d=\"M138.52,393.01 C136.69,404.51 134.37,419.17 132.08,433.62 \" fill=\"none\" id=\"E4-&gt;E5\" style=\"stroke: #A80036; stroke-width: 1.0;\"/><polygon fill=\"#FFFFFF\" points=\"128.93,453.57,124.9878,433.709,138.8155,435.8986,128.93,453.57\" style=\"stroke: #A80036; stroke-width: 1.0;\"/><ellipse cx=\"127.8547\" cy=\"428.392\" fill=\"#A80036\" rx=\"2\" ry=\"2\" style=\"stroke: #A80036; stroke-width: 1.0;\"/><ellipse cx=\"137.7316\" cy=\"429.956\" fill=\"#A80036\" rx=\"2\" ry=\"2\" style=\"stroke: #A80036; stroke-width: 1.0;\"/></a><!--MD5=[85d356282659285ab4b2cfe2f634dd2b]\n",
       "reverse link E5 to E6--><a href=\"psysml:fcdcf065-90d4-4da1-8b43-4feb0ab4c03b\" target=\"_top\" title=\"psysml:fcdcf065-90d4-4da1-8b43-4feb0ab4c03b\" xlink:actuate=\"onRequest\" xlink:href=\"psysml:fcdcf065-90d4-4da1-8b43-4feb0ab4c03b\" xlink:show=\"new\" xlink:title=\"psysml:fcdcf065-90d4-4da1-8b43-4feb0ab4c03b\" xlink:type=\"simple\"><path d=\"M117.07,545.35 C115.28,561.08 113.4,577.65 111.91,590.83 \" fill=\"none\" id=\"E5&lt;-E6\" style=\"stroke: #A80036; stroke-width: 1.0;\"/><ellipse cx=\"117.9015\" cy=\"537.9994\" fill=\"#FFFFFF\" rx=\"8\" ry=\"8\" style=\"stroke: #A80036; stroke-width: 1.0;\"/><line style=\"stroke: #A80036; stroke-width: 1.0;\" x1=\"117.003\" x2=\"118.8\" y1=\"545.9488\" y2=\"530.05\"/><line style=\"stroke: #A80036; stroke-width: 1.0;\" x1=\"109.9521\" x2=\"125.8509\" y1=\"537.1009\" y2=\"538.8979\"/></a><!--MD5=[14ccda38c055a5c0da953d572bc50960]\n",
       "link E7 to E3--><a href=\"psysml:c8b02122-2142-456b-8199-9bf99e52168e\" target=\"_top\" title=\"psysml:c8b02122-2142-456b-8199-9bf99e52168e\" xlink:actuate=\"onRequest\" xlink:href=\"psysml:c8b02122-2142-456b-8199-9bf99e52168e\" xlink:show=\"new\" xlink:title=\"psysml:c8b02122-2142-456b-8199-9bf99e52168e\" xlink:type=\"simple\"><path d=\"M194.68,594.41 C197.84,548.29 203.52,438.45 194,347 C192.05,328.25 188.33,308.03 184.4,289.91 \" fill=\"none\" id=\"E7-&gt;E3\" style=\"stroke: #A80036; stroke-width: 1.0;\"/><polygon fill=\"#FFFFFF\" points=\"179.86,270.17,190.9295,287.1248,177.2836,290.2539,179.86,270.17\" style=\"stroke: #A80036; stroke-width: 1.0;\"/><ellipse cx=\"190.254\" cy=\"293.1277\" fill=\"#A80036\" rx=\"2\" ry=\"2\" style=\"stroke: #A80036; stroke-width: 1.0;\"/><ellipse cx=\"180.507\" cy=\"295.3627\" fill=\"#A80036\" rx=\"2\" ry=\"2\" style=\"stroke: #A80036; stroke-width: 1.0;\"/></a><!--MD5=[452b418e7f8a40397a49b8c0a78acc5b]\n",
       "reverse link E5 to E7--><a href=\"psysml:adeac7a4-0c31-420e-b3fd-609062fb2f41\" target=\"_top\" title=\"psysml:adeac7a4-0c31-420e-b3fd-609062fb2f41\" xlink:actuate=\"onRequest\" xlink:href=\"psysml:adeac7a4-0c31-420e-b3fd-609062fb2f41\" xlink:show=\"new\" xlink:title=\"psysml:adeac7a4-0c31-420e-b3fd-609062fb2f41\" xlink:type=\"simple\"><path d=\"M150.45,541.42 C160.77,559.64 172.02,579.48 180.36,594.19 \" fill=\"none\" id=\"E5&lt;-E7\" style=\"stroke: #A80036; stroke-width: 1.0;\"/><polygon fill=\"#A80036\" points=\"144,530.05,143.4794,537.2423,149.9181,540.4891,150.4388,533.2969,144,530.05\" style=\"stroke: #A80036; stroke-width: 1.0;\"/></a><!--MD5=[03c8294790d3c57651a1993cecff665f]\n",
       "reverse link E8 to E3--><a href=\"psysml:4b320237-d900-4f83-8ac2-28b55b9df163\" target=\"_top\" title=\"psysml:4b320237-d900-4f83-8ac2-28b55b9df163\" xlink:actuate=\"onRequest\" xlink:href=\"psysml:4b320237-d900-4f83-8ac2-28b55b9df163\" xlink:show=\"new\" xlink:title=\"psysml:4b320237-d900-4f83-8ac2-28b55b9df163\" xlink:type=\"simple\"><path d=\"M107.66,128.69 C120.55,149.83 135.39,174.19 147.36,193.84 \" fill=\"none\" id=\"E8&lt;-E3\" style=\"stroke: #A80036; stroke-width: 1.0;\"/><polygon fill=\"#FFFFFF\" points=\"100.74,117.33,100.4499,124.5353,106.9894,127.5743,107.2795,120.369,100.74,117.33\" style=\"stroke: #A80036; stroke-width: 1.0;\"/><text fill=\"#000000\" font-family=\"sans-serif\" font-size=\"13\" lengthAdjust=\"spacingAndGlyphs\" textLength=\"7\" x=\"127\" y=\"160.0669\">y</text></a><!--MD5=[049ab558815ccadc2a7a6ffdb8f4a5ba]\n",
       "reverse link E8 to E5--><a href=\"psysml:4b320237-d900-4f83-8ac2-28b55b9df163\" target=\"_top\" title=\"psysml:4b320237-d900-4f83-8ac2-28b55b9df163\" xlink:actuate=\"onRequest\" xlink:href=\"psysml:4b320237-d900-4f83-8ac2-28b55b9df163\" xlink:show=\"new\" xlink:title=\"psysml:4b320237-d900-4f83-8ac2-28b55b9df163\" xlink:type=\"simple\"><path d=\"M75.87,130.78 C74.23,193.08 74.52,301.69 91,393 C94.72,413.61 101.72,435.85 108.23,453.93 \" fill=\"none\" id=\"E8&lt;-E5\" style=\"stroke: #A80036; stroke-width: 1.0;\"/><polygon fill=\"#FFFFFF\" points=\"76.27,117.46,72.0938,123.3387,75.9141,129.4547,80.0903,123.576,76.27,117.46\" style=\"stroke: #A80036; stroke-width: 1.0;\"/><text fill=\"#000000\" font-family=\"sans-serif\" font-size=\"13\" lengthAdjust=\"spacingAndGlyphs\" textLength=\"7\" x=\"81\" y=\"313.0669\">y</text></a><!--MD5=[df12b7ede15b3d4e278dc6f9bf26e07b]\n",
       "@startuml\r\n",
       " \r\n",
       "package \"BlockTest\" as E1  [[psysml:c0b99535-16c1-47cf-a8d5-3f20b133a54a ]]  {\r\n",
       "comp usage \"f: A\" as E2  <<(T,blue)part>> [[psysml:20852434-d7cc-411e-aa3b-cae286a1f6f8 ]] {\r\n",
       "}\r\n",
       "comp def \"A\" as E3  <<(T,blue)part def>> [[psysml:cbed5230-ac88-4b7e-9b23-6ffd90d7c059 ]] {\r\n",
       "- - ports - -\r\n",
       "c: C\r\n",
       "}\r\n",
       "comp usage \"b: B\" as E4  <<(T,blue)part>> [[psysml:1e20eef8-b16d-4a20-93fc-2b015416e79a ]] {\r\n",
       "}\r\n",
       "comp def \"B\" as E5  <<(T,blue)part def>> [[psysml:633af2d2-4d32-4996-ac04-a91fff2e720f ]] {\r\n",
       "- - ports - -\r\n",
       "x: ~C\r\n",
       "}\r\n",
       "package \"P\" as E6  [[psysml:fcdcf065-90d4-4da1-8b43-4feb0ab4c03b ]]  {\r\n",
       "}\r\n",
       "comp usage \"a: A\" as E7  <<(T,blue)part>> [[psysml:adeac7a4-0c31-420e-b3fd-609062fb2f41 ]] {\r\n",
       "}\r\n",
       "comp def \"C\" as E8  <<(T,blue)port def>> [[psysml:19a0d075-dfec-4a25-8f91-7b5bd5520f32 ]] {\r\n",
       "- - references - -\r\n",
       "y: A, B <b>as</b> z2 \r\n",
       "}\r\n",
       "E2 - -:|> E3 [[psysml:1f32f64a-cd2f-48b1-a0ff-85d8f5396f29 ]] \r\n",
       "E3 *- - E4 [[psysml:1e20eef8-b16d-4a20-93fc-2b015416e79a ]] \r\n",
       "E4 - -:|> E5 [[psysml:97a379fd-51a7-461f-afe4-84a5f5da2292 ]] \r\n",
       "E5 +- - E6 [[psysml:fcdcf065-90d4-4da1-8b43-4feb0ab4c03b ]] \r\n",
       "E7 - -:|> E3 [[psysml:c8b02122-2142-456b-8199-9bf99e52168e ]] \r\n",
       "E5 *- - E7 [[psysml:adeac7a4-0c31-420e-b3fd-609062fb2f41 ]] \r\n",
       "E8 o- - E3 [[psysml:4b320237-d900-4f83-8ac2-28b55b9df163 ]] : y\r\n",
       "E8 o- - E5 [[psysml:4b320237-d900-4f83-8ac2-28b55b9df163 ]] : y\r\n",
       "}\r\n",
       "@enduml\r\n",
       "\n",
       "PlantUML version 1.2020.13(Sat Jun 13 12:26:38 UTC 2020)\n",
       "(EPL source distribution)\n",
       "Java Runtime: OpenJDK Runtime Environment\n",
       "JVM: OpenJDK 64-Bit Server VM\n",
       "Default Encoding: UTF-8\n",
       "Language: en\n",
       "Country: null\n",
       "--></g></svg>"
      ]
     },
     "execution_count": 3,
     "metadata": {},
     "output_type": "execute_result"
    }
   ],
   "source": [
    "%viz --style=\"COMPTREE\" --view=\"Tree\" \"BlockTest\""
   ]
  },
  {
   "cell_type": "code",
   "execution_count": 4,
   "id": "compatible-reconstruction",
   "metadata": {
    "execution": {
     "iopub.execute_input": "2021-03-25T14:59:43.098130Z",
     "iopub.status.busy": "2021-03-25T14:59:43.097246Z",
     "iopub.status.idle": "2021-03-25T14:59:44.394633Z",
     "shell.execute_reply": "2021-03-25T14:59:44.394182Z"
    }
   },
   "outputs": [
    {
     "data": {
      "image/svg+xml": [
       "<?xml version=\"1.0\" encoding=\"UTF-8\" standalone=\"no\"?><svg xmlns=\"http://www.w3.org/2000/svg\" xmlns:xlink=\"http://www.w3.org/1999/xlink\" contentScriptType=\"application/ecmascript\" contentStyleType=\"text/css\" height=\"303px\" preserveAspectRatio=\"none\" style=\"width:603px;height:303px;background:#000000;\" version=\"1.1\" viewBox=\"0 0 603 303\" width=\"603px\" zoomAndPan=\"magnify\"><defs/><g><rect fill=\"#131B10\" height=\"1\" style=\"stroke: #131B10; stroke-width: 1.0;\" width=\"1\" x=\"0\" y=\"0\"/><rect fill=\"#FFFFFF\" height=\"205.5625\" style=\"stroke: #FFFFFF; stroke-width: 1.0;\" width=\"602\" x=\"0\" y=\"0\"/><text fill=\"#000000\" font-family=\"sans-serif\" font-size=\"12\" font-weight=\"bold\" lengthAdjust=\"spacingAndGlyphs\" textLength=\"159\" x=\"5\" y=\"16.1387\">Welcome to PlantUML!</text><text fill=\"#000000\" font-family=\"sans-serif\" font-size=\"12\" lengthAdjust=\"spacingAndGlyphs\" textLength=\"0\" x=\"9\" y=\"30.1074\"/><text fill=\"#000000\" font-family=\"sans-serif\" font-size=\"12\" lengthAdjust=\"spacingAndGlyphs\" textLength=\"293\" x=\"5\" y=\"44.0762\">If you use this software, you accept its license.</text><text fill=\"#000000\" font-family=\"sans-serif\" font-size=\"12\" lengthAdjust=\"spacingAndGlyphs\" textLength=\"107\" x=\"5\" y=\"58.0449\">(details by typing</text><text fill=\"#000000\" font-family=\"monospace\" font-size=\"12\" lengthAdjust=\"spacingAndGlyphs\" textLength=\"49\" x=\"116\" y=\"58.0449\">license</text><text fill=\"#000000\" font-family=\"sans-serif\" font-size=\"12\" lengthAdjust=\"spacingAndGlyphs\" textLength=\"56\" x=\"169\" y=\"58.0449\">keyword)</text><text fill=\"#000000\" font-family=\"sans-serif\" font-size=\"12\" lengthAdjust=\"spacingAndGlyphs\" textLength=\"0\" x=\"9\" y=\"72.0137\"/><text fill=\"#000000\" font-family=\"sans-serif\" font-size=\"12\" lengthAdjust=\"spacingAndGlyphs\" textLength=\"283\" x=\"5\" y=\"85.9824\">You can start with a simple UML Diagram like:</text><text fill=\"#000000\" font-family=\"sans-serif\" font-size=\"12\" lengthAdjust=\"spacingAndGlyphs\" textLength=\"0\" x=\"9\" y=\"99.9512\"/><text fill=\"#000000\" font-family=\"monospace\" font-size=\"12\" lengthAdjust=\"spacingAndGlyphs\" textLength=\"119\" x=\"5\" y=\"113.9199\">Bob-&gt;Alice: Hello</text><text fill=\"#000000\" font-family=\"sans-serif\" font-size=\"12\" lengthAdjust=\"spacingAndGlyphs\" textLength=\"0\" x=\"9\" y=\"127.8887\"/><text fill=\"#000000\" font-family=\"sans-serif\" font-size=\"12\" lengthAdjust=\"spacingAndGlyphs\" textLength=\"14\" x=\"5\" y=\"141.8574\">Or</text><text fill=\"#000000\" font-family=\"sans-serif\" font-size=\"12\" lengthAdjust=\"spacingAndGlyphs\" textLength=\"0\" x=\"9\" y=\"155.8262\"/><text fill=\"#000000\" font-family=\"monospace\" font-size=\"12\" lengthAdjust=\"spacingAndGlyphs\" textLength=\"91\" x=\"5\" y=\"169.7949\">class Example</text><text fill=\"#000000\" font-family=\"sans-serif\" font-size=\"12\" lengthAdjust=\"spacingAndGlyphs\" textLength=\"0\" x=\"9\" y=\"183.7637\"/><text fill=\"#000000\" font-family=\"sans-serif\" font-size=\"12\" lengthAdjust=\"spacingAndGlyphs\" textLength=\"349\" x=\"5\" y=\"197.7324\">You will find more information about PlantUML syntax on</text><text fill=\"#000000\" font-family=\"sans-serif\" font-size=\"12\" lengthAdjust=\"spacingAndGlyphs\" text-decoration=\"underline\" textLength=\"129\" x=\"358\" y=\"197.7324\">https://plantuml.com</text><image height=\"71\" width=\"80\" x=\"516\" xlink:href=\"data:image/png;base64,iVBORw0KGgoAAAANSUhEUgAAAFAAAABHCAMAAACnHDC8AAADAFBMVEX///+BpbvD3u/f7vfPz8+nz+g3ksuZEDkWADr/ujlvsdpTodLCwsOLwOEbg8T//v6pqamZETnLysvT09To5+jqLS4VATj9/f27u7vDw8MTfsK+v7/j4+SOweJprdjL4/KxsbEri8jk8PgXa57c29uUETez1utQoNJ1tNtEmc9cptWBut6ayOW/3O6YEDjY6vUfhcXBwcHs7Ozw9/v83t79uTn7+/vX19ehoaHx8fG2tLXHx8fuVlfrNTYaBjn/vUH5+fmko6WXl5f/+fn95ub+9PT+8PD3qKidmaMxIUrnqDWcFj7n5eX09PTu7u2SkpKfnZ6rq6z0lJTm4tzJrHUfDT339/eFGDn6tjcrEzOvrbBuZ3l4eomSMS7Hz9Smpqasu8SFiYuQETfa2du1m6OOM051J0NWTWL5xse4uLj6zc33r6/4vb7ydHXqLi/72dntTE3tR0ijbn5jW3C+u8NANVQrG0XFubqRVGZza4GQGT2VaS7a0NPJtI6IJj/zszrfqkXXzr/Hw8cgC0LUqltOQ2JsSC5bTGjOpFafSi2+iDGtyt14m7TJhTCPJUSwoIG/qa+ikHiIgpCRHjI9j8KXbnaQH0FLf6FGPlp0cnYyKE2rg49Wj7dFXHmcwtrp6uu+xMjvYWLvW1z97e3sPD3sP0DuUlP709PYzdDPmzqZWWySRVygfHHd1smWkZ+PgnibETqsl260q5fLuppJLC/dpj2HPFLTtHv/ujrTwJy5s6iWjIi0iD3joTTCmU3trjuvZS2zlFvjq0HSyLbYp0qRts10XGxEKC9yPVBQZIOPdlNvMk2NeYNqRlujtcCVrr3j5eY1gK9Qn9GLp7lbeJXRxrCkiZDaozyukoJ+H0B3rc+OYy+iprJkYXdhmr6ee0afs79xq9BikrGKjI3FomEiLFO0ay6nfIm4pZXRjTFuhZSZWm0zcZyJN0KNTk4eebNfdIGGlZ93h5kcED5nOVYyRWbziIk9dJ4kerE5ZYxRUnLG1d7p8PTvY2PtTk/1nZ1ycV/bAAAFx0lEQVR4Xu1Ye1BUVRg/e3dhl4csKyxqPlBJQVETF2icAY13GogkEFqizqRRpoBpTCIapaUOhWNjUdOMSBpqJYZTg4KigFKADzSIVZ4qD5VFluXhLgvbPee+r49R7v2z3+zcc77fOfPb7zvfPd85uwCIhwT4wPisANwPAuIKHnbHH1I+KwAXDA18ShDW58CneCEnXl8JGwmfHylCPSvlZ/FWxh8YIRIxTWkZAEofkTz8sNq7tAqE2gODOB6GYZobVaH20SVZ4oQcdmXV0L7c4b8OFvJHRoYwdVIoyPX3gxtFDA+V8e6mM8pBoCjij4wQiWo/ALzV/kpkifBi13p4waZuGrJEECycixcEVSbYgFwUozg4/qSraOxrP7O8Eogj2HDxyMWmzpk6823+yIjhvR7fLOpDsCuGhwC0WfbkjQq8A0MWC0EgIYzPCYMymM8Iwcvz6K4IWw8skTrgq3iPMIQnxdfKrvyedpyvbSsyBQt6zcH6OxXmjqYxg9PbgXBBveK6aRAXNEl1Ssc+hz7Bgntyohb/ggQlNrrdzfIuoYKSb79067PrRoLmGo25SeghJRn1yMrSbPTptZaoBlwtlWbBHspxiW+mW8+46ereVnMXGxbFQ+mjofiHZTrclJn5E14UEgdrO9tRVph0HDJlYlRsLv4XFA7RBA1kK5ogBb7gtn08AvxWymc2b+YzLHC3nnOCNHvdayUsZpnnwnPqGf+yGKcPKlv92vtJC209zGyRWJmgyd16sSGGT/AmM2rdKZKZHxwCz7KUodLzJOO8th4OBqxdo0c2tfUkNr3QlJkZQWWMBP0uwBHvmQQb3zRVCMnsMO6ATazf3f0kkza0HTaPCdIhpyTknqP61Te1eV2gRpr1FUn4xtxRT72pDHhj09/UnBLjiv72p4d8FEtlLibBd7Qg0xK5+XfS9q2AzxSVHPnNIMBS8BQPw8N1W4glQWj0mtp4+nSHhvKYOM4GL6vH1jGTcDQ3p1979AQPI5agXEDYwuS5awknJ73rHU56RyLAr6ACpO5iMRGvp3XykjImgs4Fgm2/7URc8dhbeD9jdhYVNon0mdFcAjTIXbmC75VrmVHcQ+JDIXbuNmYUYlZoYx6XcWjKTWavYXd1WzU9OEh9wLFfEVFza5PEhVhDAvfLx60cWM3ePMa9hyZG5DNr6DbQiCUcYU0AKGzGyYxlkf+wxnCk+wdwCbA/TkWH7Dbgoq8dcmKNssQQ3F/JmMxlIj/fzo/7s9OIwUMebbYzbh2zLfk7ehBGzIau6OeO+xzGKlBRwCGAXNaCFgYbRoKG+hMTfMff4M6h0LYxpmv/92ym9tIxc4uRzawynCEWGhum7odf9/75vh8zg0bKijX5AMxhMacsK8pBxaJihtnQqr1KG8yFMzq/dutJ2iKwNCbXA7Yamsm2Xn0XtgtowY3Xy8rpYc4NNqon8eM49k+NtzU55GtMleGAkNR6oldDMhH+e9EX0JB+UYKv4WgLZrLCjHV7wnyYlzJZvYV6A6d1w6xEph842UUyTkjGIbzwRA/JIOBJKSt88yglqND1h6TpiQqQV99wmJ7nknQcgIIHqd00EwSzgudigGYQUHE4qFMcGJb22kp7lNop8p6znStvg5S2e1TVRti56w/zj8fZzKLiDa317MqBQFbs+J3dcbSgo+H4D0kLOokJ82/NR8KZbp9eIZgllwKR8Ec1ejIX827POk/06HpYffGd5dkoZJXMqDAVXd1Nbhavlx4OyuAiPcyAF3Ick8faXAuE5WToApkMxykL1PbNRJ91SDkXOyymPFR1UMlw9GjRPKCrPsRSvUnbzbkELj2PSSRkQLiH1AvROTutlpryLHQAoCD+C2BBP4npMwd9zsIgzgaDsK+bctmVw3hetai5t9RS4PEqub4QnCvxteGzOZyQXxjscxkhHisWKMi72+T0p1dxGeGYkG0ez+eeG7In/n/oNOexC9fzIiLvPxVtKp84iza+AAAAAElFTkSuQmCC\" y=\"6\"/><rect fill=\"#000000\" height=\"96.4844\" style=\"stroke: #000000; stroke-width: 1.0;\" width=\"602\" x=\"0\" y=\"205.5625\"/><rect fill=\"#33FF02\" height=\"21.2969\" style=\"stroke: #33FF02; stroke-width: 1.0;\" width=\"170\" x=\"5\" y=\"210.5625\"/><text fill=\"#000000\" font-family=\"sans-serif\" font-size=\"14\" font-weight=\"bold\" lengthAdjust=\"spacingAndGlyphs\" textLength=\"168\" x=\"6\" y=\"225.5625\">[From string (line 2) ]</text><text fill=\"#33FF02\" font-family=\"sans-serif\" font-size=\"14\" font-weight=\"bold\" lengthAdjust=\"spacingAndGlyphs\" textLength=\"0\" x=\"10\" y=\"245.8594\"/><text fill=\"#33FF02\" font-family=\"sans-serif\" font-size=\"14\" font-weight=\"bold\" lengthAdjust=\"spacingAndGlyphs\" textLength=\"79\" x=\"5\" y=\"262.1563\">@startuml</text><text fill=\"#33FF02\" font-family=\"sans-serif\" font-size=\"14\" font-weight=\"bold\" lengthAdjust=\"spacingAndGlyphs\" textLength=\"0\" x=\"10\" y=\"278.4531\"/><text fill=\"#FF0000\" font-family=\"sans-serif\" font-size=\"14\" font-weight=\"bold\" lengthAdjust=\"spacingAndGlyphs\" textLength=\"142\" x=\"10\" y=\"294.75\">Empty description</text><!--MD5=[f59edd8218d337f74d0c332fc6737304]\n",
       "@startuml\r\n",
       " \r\n",
       "@enduml\r\n",
       "\n",
       "PlantUML version 1.2020.13(Sat Jun 13 12:26:38 UTC 2020)\n",
       "(EPL source distribution)\n",
       "Java Runtime: OpenJDK Runtime Environment\n",
       "JVM: OpenJDK 64-Bit Server VM\n",
       "Default Encoding: UTF-8\n",
       "Language: en\n",
       "Country: null\n",
       "--></g></svg>"
      ]
     },
     "execution_count": 4,
     "metadata": {},
     "output_type": "execute_result"
    }
   ],
   "source": [
    "%viz --style=\"COMPTREE\" --view=\"State\" \"BlockTest\""
   ]
  },
  {
   "cell_type": "code",
   "execution_count": 5,
   "id": "phantom-harrison",
   "metadata": {
    "execution": {
     "iopub.execute_input": "2021-03-25T14:59:44.447005Z",
     "iopub.status.busy": "2021-03-25T14:59:44.445803Z",
     "iopub.status.idle": "2021-03-25T14:59:44.635285Z",
     "shell.execute_reply": "2021-03-25T14:59:44.634689Z"
    }
   },
   "outputs": [
    {
     "data": {
      "image/svg+xml": [
       "<?xml version=\"1.0\" encoding=\"UTF-8\" standalone=\"no\"?><svg xmlns=\"http://www.w3.org/2000/svg\" xmlns:xlink=\"http://www.w3.org/1999/xlink\" contentScriptType=\"application/ecmascript\" contentStyleType=\"text/css\" height=\"256px\" preserveAspectRatio=\"none\" style=\"width:624px;height:256px;\" version=\"1.1\" viewBox=\"0 0 624 256\" width=\"624px\" zoomAndPan=\"magnify\"><defs><filter height=\"300%\" id=\"fl4oz56sjlr9e\" width=\"300%\" x=\"-1\" y=\"-1\"><feGaussianBlur result=\"blurOut\" stdDeviation=\"2.0\"/><feColorMatrix in=\"blurOut\" result=\"blurOut2\" type=\"matrix\" values=\"0 0 0 0 0 0 0 0 0 0 0 0 0 0 0 0 0 0 .4 0\"/><feOffset dx=\"4.0\" dy=\"4.0\" in=\"blurOut2\" result=\"blurOut3\"/><feBlend in=\"SourceGraphic\" in2=\"blurOut3\" mode=\"normal\"/></filter></defs><g><!--MD5=[fbc87193dbaf4d95561dea2c320d4a47]\n",
       "cluster E1--><a href=\"psysml:c0b99535-16c1-47cf-a8d5-3f20b133a54a\" target=\"_top\" title=\"psysml:c0b99535-16c1-47cf-a8d5-3f20b133a54a\" xlink:actuate=\"onRequest\" xlink:href=\"psysml:c0b99535-16c1-47cf-a8d5-3f20b133a54a\" xlink:show=\"new\" xlink:title=\"psysml:c0b99535-16c1-47cf-a8d5-3f20b133a54a\" xlink:type=\"simple\"><polygon fill=\"#FFFFFF\" filter=\"url(#fl4oz56sjlr9e)\" points=\"16,6,99,6,106,28.2969,602,28.2969,602,244,16,244,16,6\" style=\"stroke: #000000; stroke-width: 1.5;\"/><line style=\"stroke: #000000; stroke-width: 1.5;\" x1=\"16\" x2=\"106\" y1=\"28.2969\" y2=\"28.2969\"/><text fill=\"#000000\" font-family=\"sans-serif\" font-size=\"14\" font-weight=\"bold\" lengthAdjust=\"spacingAndGlyphs\" textLength=\"77\" x=\"20\" y=\"20.9951\">BlockTest</text></a><!--MD5=[d5e69f78d87373223dbae638b30a9c99]\n",
       "cluster E3--><a href=\"psysml:cbed5230-ac88-4b7e-9b23-6ffd90d7c059\" target=\"_top\" title=\"psysml:cbed5230-ac88-4b7e-9b23-6ffd90d7c059\" xlink:actuate=\"onRequest\" xlink:href=\"psysml:cbed5230-ac88-4b7e-9b23-6ffd90d7c059\" xlink:show=\"new\" xlink:title=\"psysml:cbed5230-ac88-4b7e-9b23-6ffd90d7c059\" xlink:type=\"simple\"><rect fill=\"#FFFFFF\" filter=\"url(#fl4oz56sjlr9e)\" height=\"160\" id=\"E3\" style=\"stroke: #A80036; stroke-width: 1.5;\" width=\"120\" x=\"466\" y=\"68\"/><rect fill=\"#FEFECE\" height=\"37.9375\" style=\"stroke: #A80036; stroke-width: 1.5;\" width=\"120\" x=\"466\" y=\"68\"/><text fill=\"#000000\" font-family=\"sans-serif\" font-size=\"12\" font-style=\"italic\" lengthAdjust=\"spacingAndGlyphs\" textLength=\"64\" x=\"494\" y=\"84.1387\">«part def»</text><text fill=\"#000000\" font-family=\"sans-serif\" font-size=\"12\" lengthAdjust=\"spacingAndGlyphs\" textLength=\"8\" x=\"522\" y=\"98.1074\">A</text></a><!--MD5=[14e3b0961a2654348d326746436168a1]\n",
       "cluster E6--><a href=\"psysml:633af2d2-4d32-4996-ac04-a91fff2e720f\" target=\"_top\" title=\"psysml:633af2d2-4d32-4996-ac04-a91fff2e720f\" xlink:actuate=\"onRequest\" xlink:href=\"psysml:633af2d2-4d32-4996-ac04-a91fff2e720f\" xlink:show=\"new\" xlink:title=\"psysml:633af2d2-4d32-4996-ac04-a91fff2e720f\" xlink:type=\"simple\"><rect fill=\"#FFFFFF\" filter=\"url(#fl4oz56sjlr9e)\" height=\"160\" id=\"E6\" style=\"stroke: #A80036; stroke-width: 1.5;\" width=\"185\" x=\"273\" y=\"68\"/><rect fill=\"#FEFECE\" height=\"37.9375\" style=\"stroke: #A80036; stroke-width: 1.5;\" width=\"185\" x=\"273\" y=\"68\"/><text fill=\"#000000\" font-family=\"sans-serif\" font-size=\"12\" font-style=\"italic\" lengthAdjust=\"spacingAndGlyphs\" textLength=\"64\" x=\"333.5\" y=\"84.1387\">«part def»</text><text fill=\"#000000\" font-family=\"sans-serif\" font-size=\"12\" lengthAdjust=\"spacingAndGlyphs\" textLength=\"8\" x=\"361.5\" y=\"98.1074\">B</text></a><!--MD5=[96f4274e9e20536e775497830990834d]\n",
       "class E10--><a href=\"psysml:19a0d075-dfec-4a25-8f91-7b5bd5520f32\" target=\"_top\" title=\"psysml:19a0d075-dfec-4a25-8f91-7b5bd5520f32\" xlink:actuate=\"onRequest\" xlink:href=\"psysml:19a0d075-dfec-4a25-8f91-7b5bd5520f32\" xlink:show=\"new\" xlink:title=\"psysml:19a0d075-dfec-4a25-8f91-7b5bd5520f32\" xlink:type=\"simple\"><rect fill=\"#FEFECE\" filter=\"url(#fl4oz56sjlr9e)\" height=\"53.9375\" id=\"E10\" style=\"stroke: #A80036; stroke-width: 1.5;\" width=\"140\" x=\"125\" y=\"41\"/><ellipse cx=\"140\" cy=\"59.9688\" fill=\"#ADD1B2\" rx=\"11\" ry=\"11\" style=\"stroke: #A80036; stroke-width: 1.0;\"/><path d=\"M142.9688,65.6094 Q142.3906,65.9063 141.75,66.0469 Q141.1094,66.2031 140.4063,66.2031 Q137.9063,66.2031 136.5781,64.5625 Q135.2656,62.9063 135.2656,59.7813 Q135.2656,56.6563 136.5781,55 Q137.9063,53.3438 140.4063,53.3438 Q141.1094,53.3438 141.75,53.5 Q142.4063,53.6563 142.9688,53.9531 L142.9688,56.6719 Q142.3438,56.0938 141.75,55.8281 Q141.1563,55.5469 140.5313,55.5469 Q139.1875,55.5469 138.5,56.625 Q137.8125,57.6875 137.8125,59.7813 Q137.8125,61.875 138.5,62.9531 Q139.1875,64.0156 140.5313,64.0156 Q141.1563,64.0156 141.75,63.75 Q142.3438,63.4688 142.9688,62.8906 L142.9688,65.6094 Z \"/><text fill=\"#000000\" font-family=\"sans-serif\" font-size=\"12\" font-style=\"italic\" lengthAdjust=\"spacingAndGlyphs\" textLength=\"112\" x=\"152\" y=\"57.1387\">«(T,blue)port def»</text><text fill=\"#000000\" font-family=\"sans-serif\" font-size=\"12\" lengthAdjust=\"spacingAndGlyphs\" textLength=\"8\" x=\"204\" y=\"71.1074\">C</text><line style=\"stroke: #A80036; stroke-width: 1.5;\" x1=\"126\" x2=\"264\" y1=\"78.9375\" y2=\"78.9375\"/><line style=\"stroke: #A80036; stroke-width: 1.5;\" x1=\"126\" x2=\"264\" y1=\"86.9375\" y2=\"86.9375\"/></a><g id=\"E1.E2\"><a href=\"psysml:20852434-d7cc-411e-aa3b-cae286a1f6f8\" target=\"_top\" title=\"psysml:20852434-d7cc-411e-aa3b-cae286a1f6f8\" xlink:actuate=\"onRequest\" xlink:href=\"psysml:20852434-d7cc-411e-aa3b-cae286a1f6f8\" xlink:show=\"new\" xlink:title=\"psysml:20852434-d7cc-411e-aa3b-cae286a1f6f8\" xlink:type=\"simple\"><rect fill=\"#FEFECE\" filter=\"url(#fl4oz56sjlr9e)\" height=\"40\" id=\"E2\" rx=\"10\" ry=\"10\" style=\"stroke: #A80036; stroke-width: 1.5;\" width=\"57\" x=\"32.5\" y=\"48\"/><ellipse cx=\"49.75\" cy=\"64\" fill=\"#B6DBBB\" rx=\"11\" ry=\"11\" style=\"stroke: #A80036; stroke-width: 1.0;\"/><path d=\"M45.625,65.9219 L45.625,58.1094 L48.0781,58.1094 L48.0781,66.5469 Q48.0781,67.4688 48.5469,68 Q49.0313,68.5313 49.8594,68.5313 Q50.7031,68.5313 51.1719,68 Q51.6406,67.4688 51.6406,66.5469 L51.6406,58.1094 L54.0938,58.1094 L54.0938,65.9219 Q54.0938,68.4531 53.0938,69.5938 Q52.0938,70.7344 49.8594,70.7344 Q47.6406,70.7344 46.625,69.5938 Q45.625,68.4531 45.625,65.9219 Z \"/><text fill=\"#000000\" font-family=\"sans-serif\" font-size=\"12\" lengthAdjust=\"spacingAndGlyphs\" textLength=\"20\" x=\"64.25\" y=\"68.1543\">f: A</text></a></g><text fill=\"#000000\" font-family=\"sans-serif\" font-size=\"14\" lengthAdjust=\"spacingAndGlyphs\" textLength=\"27\" x=\"512.5\" y=\"46.6982\">c: C</text><rect fill=\"#A80036\" height=\"12\" style=\"stroke: #FEFECE; stroke-width: 1.5;\" width=\"12\" x=\"520\" y=\"62\"/><g id=\"E1.E3.E4\"><a href=\"psysml:1e20eef8-b16d-4a20-93fc-2b015416e79a\" target=\"_top\" title=\"psysml:1e20eef8-b16d-4a20-93fc-2b015416e79a\" xlink:actuate=\"onRequest\" xlink:href=\"psysml:1e20eef8-b16d-4a20-93fc-2b015416e79a\" xlink:show=\"new\" xlink:title=\"psysml:1e20eef8-b16d-4a20-93fc-2b015416e79a\" xlink:type=\"simple\"><rect fill=\"#FEFECE\" filter=\"url(#fl4oz56sjlr9e)\" height=\"40\" id=\"E4\" rx=\"10\" ry=\"10\" style=\"stroke: #A80036; stroke-width: 1.5;\" width=\"61\" x=\"495.5\" y=\"172\"/><ellipse cx=\"512.75\" cy=\"188\" fill=\"#B6DBBB\" rx=\"11\" ry=\"11\" style=\"stroke: #A80036; stroke-width: 1.0;\"/><path d=\"M508.625,189.9219 L508.625,182.1094 L511.0781,182.1094 L511.0781,190.5469 Q511.0781,191.4688 511.5469,192 Q512.0313,192.5313 512.8594,192.5313 Q513.7031,192.5313 514.1719,192 Q514.6406,191.4688 514.6406,190.5469 L514.6406,182.1094 L517.0938,182.1094 L517.0938,189.9219 Q517.0938,192.4531 516.0938,193.5938 Q515.0938,194.7344 512.8594,194.7344 Q510.6406,194.7344 509.625,193.5938 Q508.625,192.4531 508.625,189.9219 Z \"/><text fill=\"#000000\" font-family=\"sans-serif\" font-size=\"12\" lengthAdjust=\"spacingAndGlyphs\" textLength=\"24\" x=\"527.25\" y=\"192.1543\">b: B</text></a></g><text fill=\"#000000\" font-family=\"sans-serif\" font-size=\"14\" lengthAdjust=\"spacingAndGlyphs\" textLength=\"38\" x=\"379\" y=\"46.6982\">x: ~C</text><rect fill=\"#A80036\" height=\"12\" style=\"stroke: #FEFECE; stroke-width: 1.5;\" width=\"12\" x=\"392\" y=\"62\"/><a href=\"psysml:fcdcf065-90d4-4da1-8b43-4feb0ab4c03b\" target=\"_top\" title=\"psysml:fcdcf065-90d4-4da1-8b43-4feb0ab4c03b\" xlink:actuate=\"onRequest\" xlink:href=\"psysml:fcdcf065-90d4-4da1-8b43-4feb0ab4c03b\" xlink:show=\"new\" xlink:title=\"psysml:fcdcf065-90d4-4da1-8b43-4feb0ab4c03b\" xlink:type=\"simple\"><polygon fill=\"#FFFFFF\" filter=\"url(#fl4oz56sjlr9e)\" points=\"289,111,305,111,312,133.2969,319,133.2969,319,163.5938,289,163.5938,289,111\" style=\"stroke: #000000; stroke-width: 1.5;\"/><line style=\"stroke: #000000; stroke-width: 1.5;\" x1=\"289\" x2=\"312\" y1=\"133.2969\" y2=\"133.2969\"/><text fill=\"#000000\" font-family=\"sans-serif\" font-size=\"14\" font-weight=\"bold\" lengthAdjust=\"spacingAndGlyphs\" textLength=\"10\" x=\"293\" y=\"125.9951\">P</text></a><g id=\"E1.E6.E8\"><a href=\"psysml:adeac7a4-0c31-420e-b3fd-609062fb2f41\" target=\"_top\" title=\"psysml:adeac7a4-0c31-420e-b3fd-609062fb2f41\" xlink:actuate=\"onRequest\" xlink:href=\"psysml:adeac7a4-0c31-420e-b3fd-609062fb2f41\" xlink:show=\"new\" xlink:title=\"psysml:adeac7a4-0c31-420e-b3fd-609062fb2f41\" xlink:type=\"simple\"><rect fill=\"#FEFECE\" filter=\"url(#fl4oz56sjlr9e)\" height=\"40\" id=\"E8\" rx=\"10\" ry=\"10\" style=\"stroke: #A80036; stroke-width: 1.5;\" width=\"61\" x=\"367.5\" y=\"172\"/><ellipse cx=\"384.75\" cy=\"188\" fill=\"#B6DBBB\" rx=\"11\" ry=\"11\" style=\"stroke: #A80036; stroke-width: 1.0;\"/><path d=\"M380.625,189.9219 L380.625,182.1094 L383.0781,182.1094 L383.0781,190.5469 Q383.0781,191.4688 383.5469,192 Q384.0313,192.5313 384.8594,192.5313 Q385.7031,192.5313 386.1719,192 Q386.6406,191.4688 386.6406,190.5469 L386.6406,182.1094 L389.0938,182.1094 L389.0938,189.9219 Q389.0938,192.4531 388.0938,193.5938 Q387.0938,194.7344 384.8594,194.7344 Q382.6406,194.7344 381.625,193.5938 Q380.625,192.4531 380.625,189.9219 Z \"/><text fill=\"#000000\" font-family=\"sans-serif\" font-size=\"12\" lengthAdjust=\"spacingAndGlyphs\" textLength=\"24\" x=\"399.25\" y=\"192.1543\">a: A</text></a></g><!--MD5=[e18943bd8b6a90f19701f1e605f07d6b]\n",
       "@startuml\r\n",
       "skinparam ranksep 8\r\n",
       "skinparam rectangle {\r\n",
       " backgroundColor<<block>> LightGreen\r\n",
       "}\r\n",
       " \r\n",
       "package \"BlockTest\" as E1  [[psysml:c0b99535-16c1-47cf-a8d5-3f20b133a54a ]]  {\r\n",
       "rec usage \"f: A\" as E2  [[psysml:20852434-d7cc-411e-aa3b-cae286a1f6f8 ]] {\r\n",
       "}\r\n",
       "rec def \"A\" as E3  <<(T,blue)part def>> [[psysml:cbed5230-ac88-4b7e-9b23-6ffd90d7c059 ]] {\r\n",
       "rec usage \"b: B\" as E4  [[psysml:1e20eef8-b16d-4a20-93fc-2b015416e79a ]] {\r\n",
       "}\r\n",
       "portin \"c: C\" as E5  <<(T,blue)port>> [[psysml:fb57aec8-8cad-41ed-886b-c51c957131e5 ]] \r\n",
       "}\r\n",
       "rec def \"B\" as E6  <<(T,blue)part def>> [[psysml:633af2d2-4d32-4996-ac04-a91fff2e720f ]] {\r\n",
       "package \"P\" as E7  [[psysml:fcdcf065-90d4-4da1-8b43-4feb0ab4c03b ]]  {\r\n",
       "}\r\n",
       "rec usage \"a: A\" as E8  [[psysml:adeac7a4-0c31-420e-b3fd-609062fb2f41 ]] {\r\n",
       "}\r\n",
       "portin \"x: ~C\" as E9  <<(T,blue)port>> [[psysml:64509ffc-1e29-47d8-8b93-efd607e70ae2 ]] \r\n",
       "}\r\n",
       "def \"C\" as E10  <<(T,blue)port def>> [[psysml:19a0d075-dfec-4a25-8f91-7b5bd5520f32 ]] \r\n",
       "}\r\n",
       "@enduml\r\n",
       "\n",
       "PlantUML version 1.2020.13(Sat Jun 13 12:26:38 UTC 2020)\n",
       "(EPL source distribution)\n",
       "Java Runtime: OpenJDK Runtime Environment\n",
       "JVM: OpenJDK 64-Bit Server VM\n",
       "Default Encoding: UTF-8\n",
       "Language: en\n",
       "Country: null\n",
       "--></g></svg>"
      ]
     },
     "execution_count": 5,
     "metadata": {},
     "output_type": "execute_result"
    }
   ],
   "source": [
    "%viz --style=\"COMPTREE\" --view=\"Interconnection\" \"BlockTest\""
   ]
  },
  {
   "cell_type": "code",
   "execution_count": 6,
   "id": "verbal-bracket",
   "metadata": {
    "execution": {
     "iopub.execute_input": "2021-03-25T14:59:44.687413Z",
     "iopub.status.busy": "2021-03-25T14:59:44.686566Z",
     "iopub.status.idle": "2021-03-25T14:59:44.706834Z",
     "shell.execute_reply": "2021-03-25T14:59:44.706348Z"
    }
   },
   "outputs": [
    {
     "data": {
      "image/svg+xml": [
       "<?xml version=\"1.0\" encoding=\"UTF-8\" standalone=\"no\"?><svg xmlns=\"http://www.w3.org/2000/svg\" xmlns:xlink=\"http://www.w3.org/1999/xlink\" contentScriptType=\"application/ecmascript\" contentStyleType=\"text/css\" height=\"12px\" preserveAspectRatio=\"none\" style=\"width:12px;height:12px;\" version=\"1.1\" viewBox=\"0 0 12 12\" width=\"12px\" zoomAndPan=\"magnify\"><defs/><g><!--MD5=[6a4cb978cab31700e1ce5529f947a75d]\n",
       "@startuml\r\n",
       "skinparam ranksep 8\r\n",
       " \r\n",
       "@enduml\r\n",
       "\n",
       "PlantUML version 1.2020.13(Sat Jun 13 12:26:38 UTC 2020)\n",
       "(EPL source distribution)\n",
       "Java Runtime: OpenJDK Runtime Environment\n",
       "JVM: OpenJDK 64-Bit Server VM\n",
       "Default Encoding: UTF-8\n",
       "Language: en\n",
       "Country: null\n",
       "--></g></svg>"
      ]
     },
     "execution_count": 6,
     "metadata": {},
     "output_type": "execute_result"
    }
   ],
   "source": [
    "%viz --style=\"COMPTREE\" --view=\"Action\" \"BlockTest\""
   ]
  },
  {
   "cell_type": "code",
   "execution_count": 7,
   "id": "proper-tonight",
   "metadata": {
    "execution": {
     "iopub.execute_input": "2021-03-25T14:59:44.761802Z",
     "iopub.status.busy": "2021-03-25T14:59:44.761371Z",
     "iopub.status.idle": "2021-03-25T14:59:45.387581Z",
     "shell.execute_reply": "2021-03-25T14:59:45.386849Z"
    }
   },
   "outputs": [
    {
     "data": {
      "image/svg+xml": [
       "<?xml version=\"1.0\" encoding=\"UTF-8\" standalone=\"no\"?><svg xmlns=\"http://www.w3.org/2000/svg\" xmlns:xlink=\"http://www.w3.org/1999/xlink\" contentScriptType=\"application/ecmascript\" contentStyleType=\"text/css\" height=\"672px\" preserveAspectRatio=\"none\" style=\"width:265px;height:672px;\" version=\"1.1\" viewBox=\"0 0 265 672\" width=\"265px\" zoomAndPan=\"magnify\"><defs><filter height=\"300%\" id=\"fn5i66d35qij0\" width=\"300%\" x=\"-1\" y=\"-1\"><feGaussianBlur result=\"blurOut\" stdDeviation=\"2.0\"/><feColorMatrix in=\"blurOut\" result=\"blurOut2\" type=\"matrix\" values=\"0 0 0 0 0 0 0 0 0 0 0 0 0 0 0 0 0 0 .4 0\"/><feOffset dx=\"4.0\" dy=\"4.0\" in=\"blurOut2\" result=\"blurOut3\"/><feBlend in=\"SourceGraphic\" in2=\"blurOut3\" mode=\"normal\"/></filter></defs><g><!--MD5=[fbc87193dbaf4d95561dea2c320d4a47]\n",
       "cluster E1--><a href=\"psysml:c0b99535-16c1-47cf-a8d5-3f20b133a54a\" target=\"_top\" title=\"psysml:c0b99535-16c1-47cf-a8d5-3f20b133a54a\" xlink:actuate=\"onRequest\" xlink:href=\"psysml:c0b99535-16c1-47cf-a8d5-3f20b133a54a\" xlink:show=\"new\" xlink:title=\"psysml:c0b99535-16c1-47cf-a8d5-3f20b133a54a\" xlink:type=\"simple\"><polygon fill=\"#FFFFFF\" filter=\"url(#fn5i66d35qij0)\" points=\"16,6,99,6,106,28.2969,243,28.2969,243,660,16,660,16,6\" style=\"stroke: #000000; stroke-width: 1.5;\"/><line style=\"stroke: #000000; stroke-width: 1.5;\" x1=\"16\" x2=\"106\" y1=\"28.2969\" y2=\"28.2969\"/><text fill=\"#000000\" font-family=\"sans-serif\" font-size=\"14\" font-weight=\"bold\" lengthAdjust=\"spacingAndGlyphs\" textLength=\"77\" x=\"20\" y=\"20.9951\">BlockTest</text></a><!--MD5=[b4997ac47864f28c2f74865a473b2911]\n",
       "class E2--><a href=\"psysml:20852434-d7cc-411e-aa3b-cae286a1f6f8\" target=\"_top\" title=\"psysml:20852434-d7cc-411e-aa3b-cae286a1f6f8\" xlink:actuate=\"onRequest\" xlink:href=\"psysml:20852434-d7cc-411e-aa3b-cae286a1f6f8\" xlink:show=\"new\" xlink:title=\"psysml:20852434-d7cc-411e-aa3b-cae286a1f6f8\" xlink:type=\"simple\"><rect fill=\"#FEFECE\" filter=\"url(#fn5i66d35qij0)\" height=\"45.9375\" id=\"E2\" rx=\"10\" ry=\"10\" style=\"stroke: #A80036; stroke-width: 1.5;\" width=\"68\" x=\"159\" y=\"56\"/><ellipse cx=\"174\" cy=\"74.9688\" fill=\"#0000FF\" rx=\"11\" ry=\"11\" style=\"stroke: #A80036; stroke-width: 1.0;\"/><path d=\"M174.8438,81.7188 L172.3906,81.7188 L172.3906,71.4688 L169.25,71.4688 L169.25,69.3281 L177.9844,69.3281 L177.9844,71.4688 L174.8438,71.4688 L174.8438,81.7188 Z \"/><text fill=\"#000000\" font-family=\"sans-serif\" font-size=\"12\" font-style=\"italic\" lengthAdjust=\"spacingAndGlyphs\" textLength=\"40\" x=\"186\" y=\"72.1387\">«part»</text><text fill=\"#000000\" font-family=\"sans-serif\" font-size=\"12\" lengthAdjust=\"spacingAndGlyphs\" textLength=\"20\" x=\"196\" y=\"86.1074\">f: A</text><line style=\"stroke: #A80036; stroke-width: 1.5;\" x1=\"160\" x2=\"226\" y1=\"93.9375\" y2=\"93.9375\"/></a><!--MD5=[09b614a08d8cba4a07c9adeb5e0fee81]\n",
       "class E3--><a href=\"psysml:cbed5230-ac88-4b7e-9b23-6ffd90d7c059\" target=\"_top\" title=\"psysml:cbed5230-ac88-4b7e-9b23-6ffd90d7c059\" xlink:actuate=\"onRequest\" xlink:href=\"psysml:cbed5230-ac88-4b7e-9b23-6ffd90d7c059\" xlink:show=\"new\" xlink:title=\"psysml:cbed5230-ac88-4b7e-9b23-6ffd90d7c059\" xlink:type=\"simple\"><rect fill=\"#FEFECE\" filter=\"url(#fn5i66d35qij0)\" height=\"75.5469\" id=\"E3\" style=\"stroke: #A80036; stroke-width: 1.5;\" width=\"92\" x=\"124\" y=\"194\"/><ellipse cx=\"139\" cy=\"212.9688\" fill=\"#0000FF\" rx=\"11\" ry=\"11\" style=\"stroke: #A80036; stroke-width: 1.0;\"/><path d=\"M139.8438,219.7188 L137.3906,219.7188 L137.3906,209.4688 L134.25,209.4688 L134.25,207.3281 L142.9844,207.3281 L142.9844,209.4688 L139.8438,209.4688 L139.8438,219.7188 Z \"/><text fill=\"#000000\" font-family=\"sans-serif\" font-size=\"12\" font-style=\"italic\" lengthAdjust=\"spacingAndGlyphs\" textLength=\"64\" x=\"151\" y=\"210.1387\">«part def»</text><text fill=\"#000000\" font-family=\"sans-serif\" font-size=\"12\" lengthAdjust=\"spacingAndGlyphs\" textLength=\"8\" x=\"179\" y=\"224.1074\">A</text><line style=\"stroke: #A80036; stroke-width: 1.5;\" x1=\"125\" x2=\"215\" y1=\"231.9375\" y2=\"231.9375\"/><text fill=\"#000000\" font-family=\"sans-serif\" font-size=\"11\" lengthAdjust=\"spacingAndGlyphs\" textLength=\"22\" x=\"130\" y=\"262.9526\">c: C</text><line style=\"stroke: #A80036; stroke-width: 1.0;\" x1=\"125\" x2=\"155\" y1=\"246.3398\" y2=\"246.3398\"/><text fill=\"#000000\" font-family=\"sans-serif\" font-size=\"11\" lengthAdjust=\"spacingAndGlyphs\" textLength=\"30\" x=\"155\" y=\"249.6479\">ports</text><line style=\"stroke: #A80036; stroke-width: 1.0;\" x1=\"185\" x2=\"215\" y1=\"246.3398\" y2=\"246.3398\"/></a><!--MD5=[ebbe1d658d1005bcc118a6aa81145e00]\n",
       "class E4--><a href=\"psysml:1e20eef8-b16d-4a20-93fc-2b015416e79a\" target=\"_top\" title=\"psysml:1e20eef8-b16d-4a20-93fc-2b015416e79a\" xlink:actuate=\"onRequest\" xlink:href=\"psysml:1e20eef8-b16d-4a20-93fc-2b015416e79a\" xlink:show=\"new\" xlink:title=\"psysml:1e20eef8-b16d-4a20-93fc-2b015416e79a\" xlink:type=\"simple\"><rect fill=\"#FEFECE\" filter=\"url(#fn5i66d35qij0)\" height=\"45.9375\" id=\"E4\" rx=\"10\" ry=\"10\" style=\"stroke: #A80036; stroke-width: 1.5;\" width=\"68\" x=\"108\" y=\"347\"/><ellipse cx=\"123\" cy=\"365.9688\" fill=\"#0000FF\" rx=\"11\" ry=\"11\" style=\"stroke: #A80036; stroke-width: 1.0;\"/><path d=\"M123.8438,372.7188 L121.3906,372.7188 L121.3906,362.4688 L118.25,362.4688 L118.25,360.3281 L126.9844,360.3281 L126.9844,362.4688 L123.8438,362.4688 L123.8438,372.7188 Z \"/><text fill=\"#000000\" font-family=\"sans-serif\" font-size=\"12\" font-style=\"italic\" lengthAdjust=\"spacingAndGlyphs\" textLength=\"40\" x=\"135\" y=\"363.1387\">«part»</text><text fill=\"#000000\" font-family=\"sans-serif\" font-size=\"12\" lengthAdjust=\"spacingAndGlyphs\" textLength=\"24\" x=\"143\" y=\"377.1074\">b: B</text><line style=\"stroke: #A80036; stroke-width: 1.5;\" x1=\"109\" x2=\"175\" y1=\"384.9375\" y2=\"384.9375\"/></a><!--MD5=[270fce915f116d4de14055a7c1d9a0f3]\n",
       "class E5--><a href=\"psysml:633af2d2-4d32-4996-ac04-a91fff2e720f\" target=\"_top\" title=\"psysml:633af2d2-4d32-4996-ac04-a91fff2e720f\" xlink:actuate=\"onRequest\" xlink:href=\"psysml:633af2d2-4d32-4996-ac04-a91fff2e720f\" xlink:show=\"new\" xlink:title=\"psysml:633af2d2-4d32-4996-ac04-a91fff2e720f\" xlink:type=\"simple\"><rect fill=\"#FEFECE\" filter=\"url(#fn5i66d35qij0)\" height=\"75.5469\" id=\"E5\" style=\"stroke: #A80036; stroke-width: 1.5;\" width=\"92\" x=\"77\" y=\"454\"/><ellipse cx=\"92\" cy=\"472.9688\" fill=\"#0000FF\" rx=\"11\" ry=\"11\" style=\"stroke: #A80036; stroke-width: 1.0;\"/><path d=\"M92.8438,479.7188 L90.3906,479.7188 L90.3906,469.4688 L87.25,469.4688 L87.25,467.3281 L95.9844,467.3281 L95.9844,469.4688 L92.8438,469.4688 L92.8438,479.7188 Z \"/><text fill=\"#000000\" font-family=\"sans-serif\" font-size=\"12\" font-style=\"italic\" lengthAdjust=\"spacingAndGlyphs\" textLength=\"64\" x=\"104\" y=\"470.1387\">«part def»</text><text fill=\"#000000\" font-family=\"sans-serif\" font-size=\"12\" lengthAdjust=\"spacingAndGlyphs\" textLength=\"8\" x=\"132\" y=\"484.1074\">B</text><line style=\"stroke: #A80036; stroke-width: 1.5;\" x1=\"78\" x2=\"168\" y1=\"491.9375\" y2=\"491.9375\"/><text fill=\"#000000\" font-family=\"sans-serif\" font-size=\"11\" lengthAdjust=\"spacingAndGlyphs\" textLength=\"31\" x=\"83\" y=\"522.9526\">x: ~C</text><line style=\"stroke: #A80036; stroke-width: 1.0;\" x1=\"78\" x2=\"108\" y1=\"506.3398\" y2=\"506.3398\"/><text fill=\"#000000\" font-family=\"sans-serif\" font-size=\"11\" lengthAdjust=\"spacingAndGlyphs\" textLength=\"30\" x=\"108\" y=\"509.6479\">ports</text><line style=\"stroke: #A80036; stroke-width: 1.0;\" x1=\"138\" x2=\"168\" y1=\"506.3398\" y2=\"506.3398\"/></a><!--MD5=[2156ba9850f5573cc1fc38a6a4b2f02b]\n",
       "class E7--><a href=\"psysml:adeac7a4-0c31-420e-b3fd-609062fb2f41\" target=\"_top\" title=\"psysml:adeac7a4-0c31-420e-b3fd-609062fb2f41\" xlink:actuate=\"onRequest\" xlink:href=\"psysml:adeac7a4-0c31-420e-b3fd-609062fb2f41\" xlink:show=\"new\" xlink:title=\"psysml:adeac7a4-0c31-420e-b3fd-609062fb2f41\" xlink:type=\"simple\"><rect fill=\"#FEFECE\" filter=\"url(#fn5i66d35qij0)\" height=\"45.9375\" id=\"E7\" rx=\"10\" ry=\"10\" style=\"stroke: #A80036; stroke-width: 1.5;\" width=\"68\" x=\"159\" y=\"594.5\"/><ellipse cx=\"174\" cy=\"613.4688\" fill=\"#0000FF\" rx=\"11\" ry=\"11\" style=\"stroke: #A80036; stroke-width: 1.0;\"/><path d=\"M174.8438,620.2188 L172.3906,620.2188 L172.3906,609.9688 L169.25,609.9688 L169.25,607.8281 L177.9844,607.8281 L177.9844,609.9688 L174.8438,609.9688 L174.8438,620.2188 Z \"/><text fill=\"#000000\" font-family=\"sans-serif\" font-size=\"12\" font-style=\"italic\" lengthAdjust=\"spacingAndGlyphs\" textLength=\"40\" x=\"186\" y=\"610.6387\">«part»</text><text fill=\"#000000\" font-family=\"sans-serif\" font-size=\"12\" lengthAdjust=\"spacingAndGlyphs\" textLength=\"24\" x=\"194\" y=\"624.6074\">a: A</text><line style=\"stroke: #A80036; stroke-width: 1.5;\" x1=\"160\" x2=\"226\" y1=\"632.4375\" y2=\"632.4375\"/></a><!--MD5=[b9389687b975829384b498ac4b7476b2]\n",
       "class E8--><a href=\"psysml:19a0d075-dfec-4a25-8f91-7b5bd5520f32\" target=\"_top\" title=\"psysml:19a0d075-dfec-4a25-8f91-7b5bd5520f32\" xlink:actuate=\"onRequest\" xlink:href=\"psysml:19a0d075-dfec-4a25-8f91-7b5bd5520f32\" xlink:show=\"new\" xlink:title=\"psysml:19a0d075-dfec-4a25-8f91-7b5bd5520f32\" xlink:type=\"simple\"><rect fill=\"#FEFECE\" filter=\"url(#fn5i66d35qij0)\" height=\"75.5469\" id=\"E8\" style=\"stroke: #A80036; stroke-width: 1.5;\" width=\"92\" x=\"32\" y=\"41\"/><ellipse cx=\"47\" cy=\"59.9688\" fill=\"#0000FF\" rx=\"11\" ry=\"11\" style=\"stroke: #A80036; stroke-width: 1.0;\"/><path d=\"M47.8438,66.7188 L45.3906,66.7188 L45.3906,56.4688 L42.25,56.4688 L42.25,54.3281 L50.9844,54.3281 L50.9844,56.4688 L47.8438,56.4688 L47.8438,66.7188 Z \"/><text fill=\"#000000\" font-family=\"sans-serif\" font-size=\"12\" font-style=\"italic\" lengthAdjust=\"spacingAndGlyphs\" textLength=\"64\" x=\"59\" y=\"57.1387\">«port def»</text><text fill=\"#000000\" font-family=\"sans-serif\" font-size=\"12\" lengthAdjust=\"spacingAndGlyphs\" textLength=\"8\" x=\"87\" y=\"71.1074\">C</text><line style=\"stroke: #A80036; stroke-width: 1.5;\" x1=\"33\" x2=\"123\" y1=\"78.9375\" y2=\"78.9375\"/><text fill=\"#000000\" font-family=\"sans-serif\" font-size=\"11\" lengthAdjust=\"spacingAndGlyphs\" textLength=\"37\" x=\"38\" y=\"109.9526\">y: A, B</text><text fill=\"#000000\" font-family=\"sans-serif\" font-size=\"11\" font-weight=\"bold\" lengthAdjust=\"spacingAndGlyphs\" textLength=\"15\" x=\"79\" y=\"109.9526\">as</text><text fill=\"#000000\" font-family=\"sans-serif\" font-size=\"11\" lengthAdjust=\"spacingAndGlyphs\" textLength=\"12\" x=\"98\" y=\"109.9526\">z2</text><line style=\"stroke: #A80036; stroke-width: 1.0;\" x1=\"33\" x2=\"47\" y1=\"93.3398\" y2=\"93.3398\"/><text fill=\"#000000\" font-family=\"sans-serif\" font-size=\"11\" lengthAdjust=\"spacingAndGlyphs\" textLength=\"62\" x=\"47\" y=\"96.6479\">references</text><line style=\"stroke: #A80036; stroke-width: 1.0;\" x1=\"109\" x2=\"123\" y1=\"93.3398\" y2=\"93.3398\"/></a><a href=\"psysml:fcdcf065-90d4-4da1-8b43-4feb0ab4c03b\" target=\"_top\" title=\"psysml:fcdcf065-90d4-4da1-8b43-4feb0ab4c03b\" xlink:actuate=\"onRequest\" xlink:href=\"psysml:fcdcf065-90d4-4da1-8b43-4feb0ab4c03b\" xlink:show=\"new\" xlink:title=\"psysml:fcdcf065-90d4-4da1-8b43-4feb0ab4c03b\" xlink:type=\"simple\"><polygon fill=\"#FFFFFF\" filter=\"url(#fn5i66d35qij0)\" points=\"94,591,110,591,117,613.2969,124,613.2969,124,643.5938,94,643.5938,94,591\" style=\"stroke: #000000; stroke-width: 1.5;\"/><line style=\"stroke: #000000; stroke-width: 1.5;\" x1=\"94\" x2=\"117\" y1=\"613.2969\" y2=\"613.2969\"/><text fill=\"#000000\" font-family=\"sans-serif\" font-size=\"14\" font-weight=\"bold\" lengthAdjust=\"spacingAndGlyphs\" textLength=\"10\" x=\"98\" y=\"605.9951\">P</text></a><!--MD5=[2720a5a1f2c3fca2055b230370638851]\n",
       "link E2 to E3--><a href=\"psysml:1f32f64a-cd2f-48b1-a0ff-85d8f5396f29\" target=\"_top\" title=\"psysml:1f32f64a-cd2f-48b1-a0ff-85d8f5396f29\" xlink:actuate=\"onRequest\" xlink:href=\"psysml:1f32f64a-cd2f-48b1-a0ff-85d8f5396f29\" xlink:show=\"new\" xlink:title=\"psysml:1f32f64a-cd2f-48b1-a0ff-85d8f5396f29\" xlink:type=\"simple\"><path d=\"M189.61,102.28 C186.74,121.12 182.5,148.97 178.69,173.94 \" fill=\"none\" id=\"E2-&gt;E3\" style=\"stroke: #A80036; stroke-width: 1.0;\"/><polygon fill=\"#FFFFFF\" points=\"175.64,193.98,171.5695,174.1449,185.4111,176.2451,175.64,193.98\" style=\"stroke: #A80036; stroke-width: 1.0;\"/><ellipse cx=\"174.402\" cy=\"168.8094\" fill=\"#A80036\" rx=\"2\" ry=\"2\" style=\"stroke: #A80036; stroke-width: 1.0;\"/><ellipse cx=\"184.2888\" cy=\"170.3096\" fill=\"#A80036\" rx=\"2\" ry=\"2\" style=\"stroke: #A80036; stroke-width: 1.0;\"/></a><!--MD5=[4672eba38e49728da53d11aeb285b987]\n",
       "reverse link E3 to E4--><a href=\"psysml:1e20eef8-b16d-4a20-93fc-2b015416e79a\" target=\"_top\" title=\"psysml:1e20eef8-b16d-4a20-93fc-2b015416e79a\" xlink:actuate=\"onRequest\" xlink:href=\"psysml:1e20eef8-b16d-4a20-93fc-2b015416e79a\" xlink:show=\"new\" xlink:title=\"psysml:1e20eef8-b16d-4a20-93fc-2b015416e79a\" xlink:type=\"simple\"><path d=\"M159.7,283.02 C155.19,304.93 150.13,329.52 146.58,346.77 \" fill=\"none\" id=\"E3&lt;-E4\" style=\"stroke: #A80036; stroke-width: 1.0;\"/><polygon fill=\"#A80036\" points=\"162.35,270.16,157.2247,275.2326,159.9357,281.9146,165.0611,276.8421,162.35,270.16\" style=\"stroke: #A80036; stroke-width: 1.0;\"/></a><!--MD5=[1b7591eae5389033d8d09a9d6721a717]\n",
       "link E4 to E5--><a href=\"psysml:97a379fd-51a7-461f-afe4-84a5f5da2292\" target=\"_top\" title=\"psysml:97a379fd-51a7-461f-afe4-84a5f5da2292\" xlink:actuate=\"onRequest\" xlink:href=\"psysml:97a379fd-51a7-461f-afe4-84a5f5da2292\" xlink:show=\"new\" xlink:title=\"psysml:97a379fd-51a7-461f-afe4-84a5f5da2292\" xlink:type=\"simple\"><path d=\"M138.52,393.01 C136.69,404.51 134.37,419.17 132.08,433.62 \" fill=\"none\" id=\"E4-&gt;E5\" style=\"stroke: #A80036; stroke-width: 1.0;\"/><polygon fill=\"#FFFFFF\" points=\"128.93,453.57,124.9878,433.709,138.8155,435.8986,128.93,453.57\" style=\"stroke: #A80036; stroke-width: 1.0;\"/><ellipse cx=\"127.8547\" cy=\"428.392\" fill=\"#A80036\" rx=\"2\" ry=\"2\" style=\"stroke: #A80036; stroke-width: 1.0;\"/><ellipse cx=\"137.7316\" cy=\"429.956\" fill=\"#A80036\" rx=\"2\" ry=\"2\" style=\"stroke: #A80036; stroke-width: 1.0;\"/></a><!--MD5=[85d356282659285ab4b2cfe2f634dd2b]\n",
       "reverse link E5 to E6--><a href=\"psysml:fcdcf065-90d4-4da1-8b43-4feb0ab4c03b\" target=\"_top\" title=\"psysml:fcdcf065-90d4-4da1-8b43-4feb0ab4c03b\" xlink:actuate=\"onRequest\" xlink:href=\"psysml:fcdcf065-90d4-4da1-8b43-4feb0ab4c03b\" xlink:show=\"new\" xlink:title=\"psysml:fcdcf065-90d4-4da1-8b43-4feb0ab4c03b\" xlink:type=\"simple\"><path d=\"M117.07,545.35 C115.28,561.08 113.4,577.65 111.91,590.83 \" fill=\"none\" id=\"E5&lt;-E6\" style=\"stroke: #A80036; stroke-width: 1.0;\"/><ellipse cx=\"117.9015\" cy=\"537.9994\" fill=\"#FFFFFF\" rx=\"8\" ry=\"8\" style=\"stroke: #A80036; stroke-width: 1.0;\"/><line style=\"stroke: #A80036; stroke-width: 1.0;\" x1=\"117.003\" x2=\"118.8\" y1=\"545.9488\" y2=\"530.05\"/><line style=\"stroke: #A80036; stroke-width: 1.0;\" x1=\"109.9521\" x2=\"125.8509\" y1=\"537.1009\" y2=\"538.8979\"/></a><!--MD5=[14ccda38c055a5c0da953d572bc50960]\n",
       "link E7 to E3--><a href=\"psysml:c8b02122-2142-456b-8199-9bf99e52168e\" target=\"_top\" title=\"psysml:c8b02122-2142-456b-8199-9bf99e52168e\" xlink:actuate=\"onRequest\" xlink:href=\"psysml:c8b02122-2142-456b-8199-9bf99e52168e\" xlink:show=\"new\" xlink:title=\"psysml:c8b02122-2142-456b-8199-9bf99e52168e\" xlink:type=\"simple\"><path d=\"M194.68,594.41 C197.84,548.29 203.52,438.45 194,347 C192.05,328.25 188.33,308.03 184.4,289.91 \" fill=\"none\" id=\"E7-&gt;E3\" style=\"stroke: #A80036; stroke-width: 1.0;\"/><polygon fill=\"#FFFFFF\" points=\"179.86,270.17,190.9295,287.1248,177.2836,290.2539,179.86,270.17\" style=\"stroke: #A80036; stroke-width: 1.0;\"/><ellipse cx=\"190.254\" cy=\"293.1277\" fill=\"#A80036\" rx=\"2\" ry=\"2\" style=\"stroke: #A80036; stroke-width: 1.0;\"/><ellipse cx=\"180.507\" cy=\"295.3627\" fill=\"#A80036\" rx=\"2\" ry=\"2\" style=\"stroke: #A80036; stroke-width: 1.0;\"/></a><!--MD5=[452b418e7f8a40397a49b8c0a78acc5b]\n",
       "reverse link E5 to E7--><a href=\"psysml:adeac7a4-0c31-420e-b3fd-609062fb2f41\" target=\"_top\" title=\"psysml:adeac7a4-0c31-420e-b3fd-609062fb2f41\" xlink:actuate=\"onRequest\" xlink:href=\"psysml:adeac7a4-0c31-420e-b3fd-609062fb2f41\" xlink:show=\"new\" xlink:title=\"psysml:adeac7a4-0c31-420e-b3fd-609062fb2f41\" xlink:type=\"simple\"><path d=\"M150.45,541.42 C160.77,559.64 172.02,579.48 180.36,594.19 \" fill=\"none\" id=\"E5&lt;-E7\" style=\"stroke: #A80036; stroke-width: 1.0;\"/><polygon fill=\"#A80036\" points=\"144,530.05,143.4794,537.2423,149.9181,540.4891,150.4388,533.2969,144,530.05\" style=\"stroke: #A80036; stroke-width: 1.0;\"/></a><!--MD5=[03c8294790d3c57651a1993cecff665f]\n",
       "reverse link E8 to E3--><a href=\"psysml:4b320237-d900-4f83-8ac2-28b55b9df163\" target=\"_top\" title=\"psysml:4b320237-d900-4f83-8ac2-28b55b9df163\" xlink:actuate=\"onRequest\" xlink:href=\"psysml:4b320237-d900-4f83-8ac2-28b55b9df163\" xlink:show=\"new\" xlink:title=\"psysml:4b320237-d900-4f83-8ac2-28b55b9df163\" xlink:type=\"simple\"><path d=\"M107.66,128.69 C120.55,149.83 135.39,174.19 147.36,193.84 \" fill=\"none\" id=\"E8&lt;-E3\" style=\"stroke: #A80036; stroke-width: 1.0;\"/><polygon fill=\"#FFFFFF\" points=\"100.74,117.33,100.4499,124.5353,106.9894,127.5743,107.2795,120.369,100.74,117.33\" style=\"stroke: #A80036; stroke-width: 1.0;\"/><text fill=\"#000000\" font-family=\"sans-serif\" font-size=\"13\" lengthAdjust=\"spacingAndGlyphs\" textLength=\"7\" x=\"127\" y=\"160.0669\">y</text></a><!--MD5=[049ab558815ccadc2a7a6ffdb8f4a5ba]\n",
       "reverse link E8 to E5--><a href=\"psysml:4b320237-d900-4f83-8ac2-28b55b9df163\" target=\"_top\" title=\"psysml:4b320237-d900-4f83-8ac2-28b55b9df163\" xlink:actuate=\"onRequest\" xlink:href=\"psysml:4b320237-d900-4f83-8ac2-28b55b9df163\" xlink:show=\"new\" xlink:title=\"psysml:4b320237-d900-4f83-8ac2-28b55b9df163\" xlink:type=\"simple\"><path d=\"M75.87,130.78 C74.23,193.08 74.52,301.69 91,393 C94.72,413.61 101.72,435.85 108.23,453.93 \" fill=\"none\" id=\"E8&lt;-E5\" style=\"stroke: #A80036; stroke-width: 1.0;\"/><polygon fill=\"#FFFFFF\" points=\"76.27,117.46,72.0938,123.3387,75.9141,129.4547,80.0903,123.576,76.27,117.46\" style=\"stroke: #A80036; stroke-width: 1.0;\"/><text fill=\"#000000\" font-family=\"sans-serif\" font-size=\"13\" lengthAdjust=\"spacingAndGlyphs\" textLength=\"7\" x=\"81\" y=\"313.0669\">y</text></a><!--MD5=[df12b7ede15b3d4e278dc6f9bf26e07b]\n",
       "@startuml\r\n",
       " \r\n",
       "package \"BlockTest\" as E1  [[psysml:c0b99535-16c1-47cf-a8d5-3f20b133a54a ]]  {\r\n",
       "comp usage \"f: A\" as E2  <<(T,blue)part>> [[psysml:20852434-d7cc-411e-aa3b-cae286a1f6f8 ]] {\r\n",
       "}\r\n",
       "comp def \"A\" as E3  <<(T,blue)part def>> [[psysml:cbed5230-ac88-4b7e-9b23-6ffd90d7c059 ]] {\r\n",
       "- - ports - -\r\n",
       "c: C\r\n",
       "}\r\n",
       "comp usage \"b: B\" as E4  <<(T,blue)part>> [[psysml:1e20eef8-b16d-4a20-93fc-2b015416e79a ]] {\r\n",
       "}\r\n",
       "comp def \"B\" as E5  <<(T,blue)part def>> [[psysml:633af2d2-4d32-4996-ac04-a91fff2e720f ]] {\r\n",
       "- - ports - -\r\n",
       "x: ~C\r\n",
       "}\r\n",
       "package \"P\" as E6  [[psysml:fcdcf065-90d4-4da1-8b43-4feb0ab4c03b ]]  {\r\n",
       "}\r\n",
       "comp usage \"a: A\" as E7  <<(T,blue)part>> [[psysml:adeac7a4-0c31-420e-b3fd-609062fb2f41 ]] {\r\n",
       "}\r\n",
       "comp def \"C\" as E8  <<(T,blue)port def>> [[psysml:19a0d075-dfec-4a25-8f91-7b5bd5520f32 ]] {\r\n",
       "- - references - -\r\n",
       "y: A, B <b>as</b> z2 \r\n",
       "}\r\n",
       "E2 - -:|> E3 [[psysml:1f32f64a-cd2f-48b1-a0ff-85d8f5396f29 ]] \r\n",
       "E3 *- - E4 [[psysml:1e20eef8-b16d-4a20-93fc-2b015416e79a ]] \r\n",
       "E4 - -:|> E5 [[psysml:97a379fd-51a7-461f-afe4-84a5f5da2292 ]] \r\n",
       "E5 +- - E6 [[psysml:fcdcf065-90d4-4da1-8b43-4feb0ab4c03b ]] \r\n",
       "E7 - -:|> E3 [[psysml:c8b02122-2142-456b-8199-9bf99e52168e ]] \r\n",
       "E5 *- - E7 [[psysml:adeac7a4-0c31-420e-b3fd-609062fb2f41 ]] \r\n",
       "E8 o- - E3 [[psysml:4b320237-d900-4f83-8ac2-28b55b9df163 ]] : y\r\n",
       "E8 o- - E5 [[psysml:4b320237-d900-4f83-8ac2-28b55b9df163 ]] : y\r\n",
       "}\r\n",
       "@enduml\r\n",
       "\n",
       "PlantUML version 1.2020.13(Sat Jun 13 12:26:38 UTC 2020)\n",
       "(EPL source distribution)\n",
       "Java Runtime: OpenJDK Runtime Environment\n",
       "JVM: OpenJDK 64-Bit Server VM\n",
       "Default Encoding: UTF-8\n",
       "Language: en\n",
       "Country: null\n",
       "--></g></svg>"
      ]
     },
     "execution_count": 7,
     "metadata": {},
     "output_type": "execute_result"
    }
   ],
   "source": [
    "%viz --style=\"COMPTREE\" --view=\"Sequence\" \"BlockTest\""
   ]
  },
  {
   "cell_type": "code",
   "execution_count": 8,
   "id": "pharmaceutical-breathing",
   "metadata": {
    "execution": {
     "iopub.execute_input": "2021-03-25T14:59:45.448815Z",
     "iopub.status.busy": "2021-03-25T14:59:45.447969Z",
     "iopub.status.idle": "2021-03-25T14:59:46.131336Z",
     "shell.execute_reply": "2021-03-25T14:59:46.129855Z"
    }
   },
   "outputs": [
    {
     "data": {
      "image/svg+xml": [
       "<?xml version=\"1.0\" encoding=\"UTF-8\" standalone=\"no\"?><svg xmlns=\"http://www.w3.org/2000/svg\" xmlns:xlink=\"http://www.w3.org/1999/xlink\" contentScriptType=\"application/ecmascript\" contentStyleType=\"text/css\" height=\"672px\" preserveAspectRatio=\"none\" style=\"width:265px;height:672px;\" version=\"1.1\" viewBox=\"0 0 265 672\" width=\"265px\" zoomAndPan=\"magnify\"><defs><filter height=\"300%\" id=\"fn5i66d35qij0\" width=\"300%\" x=\"-1\" y=\"-1\"><feGaussianBlur result=\"blurOut\" stdDeviation=\"2.0\"/><feColorMatrix in=\"blurOut\" result=\"blurOut2\" type=\"matrix\" values=\"0 0 0 0 0 0 0 0 0 0 0 0 0 0 0 0 0 0 .4 0\"/><feOffset dx=\"4.0\" dy=\"4.0\" in=\"blurOut2\" result=\"blurOut3\"/><feBlend in=\"SourceGraphic\" in2=\"blurOut3\" mode=\"normal\"/></filter></defs><g><!--MD5=[fbc87193dbaf4d95561dea2c320d4a47]\n",
       "cluster E1--><a href=\"psysml:c0b99535-16c1-47cf-a8d5-3f20b133a54a\" target=\"_top\" title=\"psysml:c0b99535-16c1-47cf-a8d5-3f20b133a54a\" xlink:actuate=\"onRequest\" xlink:href=\"psysml:c0b99535-16c1-47cf-a8d5-3f20b133a54a\" xlink:show=\"new\" xlink:title=\"psysml:c0b99535-16c1-47cf-a8d5-3f20b133a54a\" xlink:type=\"simple\"><polygon fill=\"#FFFFFF\" filter=\"url(#fn5i66d35qij0)\" points=\"16,6,99,6,106,28.2969,243,28.2969,243,660,16,660,16,6\" style=\"stroke: #000000; stroke-width: 1.5;\"/><line style=\"stroke: #000000; stroke-width: 1.5;\" x1=\"16\" x2=\"106\" y1=\"28.2969\" y2=\"28.2969\"/><text fill=\"#000000\" font-family=\"sans-serif\" font-size=\"14\" font-weight=\"bold\" lengthAdjust=\"spacingAndGlyphs\" textLength=\"77\" x=\"20\" y=\"20.9951\">BlockTest</text></a><!--MD5=[b4997ac47864f28c2f74865a473b2911]\n",
       "class E2--><a href=\"psysml:20852434-d7cc-411e-aa3b-cae286a1f6f8\" target=\"_top\" title=\"psysml:20852434-d7cc-411e-aa3b-cae286a1f6f8\" xlink:actuate=\"onRequest\" xlink:href=\"psysml:20852434-d7cc-411e-aa3b-cae286a1f6f8\" xlink:show=\"new\" xlink:title=\"psysml:20852434-d7cc-411e-aa3b-cae286a1f6f8\" xlink:type=\"simple\"><rect fill=\"#FEFECE\" filter=\"url(#fn5i66d35qij0)\" height=\"45.9375\" id=\"E2\" rx=\"10\" ry=\"10\" style=\"stroke: #A80036; stroke-width: 1.5;\" width=\"68\" x=\"159\" y=\"56\"/><ellipse cx=\"174\" cy=\"74.9688\" fill=\"#0000FF\" rx=\"11\" ry=\"11\" style=\"stroke: #A80036; stroke-width: 1.0;\"/><path d=\"M174.8438,81.7188 L172.3906,81.7188 L172.3906,71.4688 L169.25,71.4688 L169.25,69.3281 L177.9844,69.3281 L177.9844,71.4688 L174.8438,71.4688 L174.8438,81.7188 Z \"/><text fill=\"#000000\" font-family=\"sans-serif\" font-size=\"12\" font-style=\"italic\" lengthAdjust=\"spacingAndGlyphs\" textLength=\"40\" x=\"186\" y=\"72.1387\">«part»</text><text fill=\"#000000\" font-family=\"sans-serif\" font-size=\"12\" lengthAdjust=\"spacingAndGlyphs\" textLength=\"20\" x=\"196\" y=\"86.1074\">f: A</text><line style=\"stroke: #A80036; stroke-width: 1.5;\" x1=\"160\" x2=\"226\" y1=\"93.9375\" y2=\"93.9375\"/></a><!--MD5=[09b614a08d8cba4a07c9adeb5e0fee81]\n",
       "class E3--><a href=\"psysml:cbed5230-ac88-4b7e-9b23-6ffd90d7c059\" target=\"_top\" title=\"psysml:cbed5230-ac88-4b7e-9b23-6ffd90d7c059\" xlink:actuate=\"onRequest\" xlink:href=\"psysml:cbed5230-ac88-4b7e-9b23-6ffd90d7c059\" xlink:show=\"new\" xlink:title=\"psysml:cbed5230-ac88-4b7e-9b23-6ffd90d7c059\" xlink:type=\"simple\"><rect fill=\"#FEFECE\" filter=\"url(#fn5i66d35qij0)\" height=\"75.5469\" id=\"E3\" style=\"stroke: #A80036; stroke-width: 1.5;\" width=\"92\" x=\"124\" y=\"194\"/><ellipse cx=\"139\" cy=\"212.9688\" fill=\"#0000FF\" rx=\"11\" ry=\"11\" style=\"stroke: #A80036; stroke-width: 1.0;\"/><path d=\"M139.8438,219.7188 L137.3906,219.7188 L137.3906,209.4688 L134.25,209.4688 L134.25,207.3281 L142.9844,207.3281 L142.9844,209.4688 L139.8438,209.4688 L139.8438,219.7188 Z \"/><text fill=\"#000000\" font-family=\"sans-serif\" font-size=\"12\" font-style=\"italic\" lengthAdjust=\"spacingAndGlyphs\" textLength=\"64\" x=\"151\" y=\"210.1387\">«part def»</text><text fill=\"#000000\" font-family=\"sans-serif\" font-size=\"12\" lengthAdjust=\"spacingAndGlyphs\" textLength=\"8\" x=\"179\" y=\"224.1074\">A</text><line style=\"stroke: #A80036; stroke-width: 1.5;\" x1=\"125\" x2=\"215\" y1=\"231.9375\" y2=\"231.9375\"/><text fill=\"#000000\" font-family=\"sans-serif\" font-size=\"11\" lengthAdjust=\"spacingAndGlyphs\" textLength=\"22\" x=\"130\" y=\"262.9526\">c: C</text><line style=\"stroke: #A80036; stroke-width: 1.0;\" x1=\"125\" x2=\"155\" y1=\"246.3398\" y2=\"246.3398\"/><text fill=\"#000000\" font-family=\"sans-serif\" font-size=\"11\" lengthAdjust=\"spacingAndGlyphs\" textLength=\"30\" x=\"155\" y=\"249.6479\">ports</text><line style=\"stroke: #A80036; stroke-width: 1.0;\" x1=\"185\" x2=\"215\" y1=\"246.3398\" y2=\"246.3398\"/></a><!--MD5=[ebbe1d658d1005bcc118a6aa81145e00]\n",
       "class E4--><a href=\"psysml:1e20eef8-b16d-4a20-93fc-2b015416e79a\" target=\"_top\" title=\"psysml:1e20eef8-b16d-4a20-93fc-2b015416e79a\" xlink:actuate=\"onRequest\" xlink:href=\"psysml:1e20eef8-b16d-4a20-93fc-2b015416e79a\" xlink:show=\"new\" xlink:title=\"psysml:1e20eef8-b16d-4a20-93fc-2b015416e79a\" xlink:type=\"simple\"><rect fill=\"#FEFECE\" filter=\"url(#fn5i66d35qij0)\" height=\"45.9375\" id=\"E4\" rx=\"10\" ry=\"10\" style=\"stroke: #A80036; stroke-width: 1.5;\" width=\"68\" x=\"108\" y=\"347\"/><ellipse cx=\"123\" cy=\"365.9688\" fill=\"#0000FF\" rx=\"11\" ry=\"11\" style=\"stroke: #A80036; stroke-width: 1.0;\"/><path d=\"M123.8438,372.7188 L121.3906,372.7188 L121.3906,362.4688 L118.25,362.4688 L118.25,360.3281 L126.9844,360.3281 L126.9844,362.4688 L123.8438,362.4688 L123.8438,372.7188 Z \"/><text fill=\"#000000\" font-family=\"sans-serif\" font-size=\"12\" font-style=\"italic\" lengthAdjust=\"spacingAndGlyphs\" textLength=\"40\" x=\"135\" y=\"363.1387\">«part»</text><text fill=\"#000000\" font-family=\"sans-serif\" font-size=\"12\" lengthAdjust=\"spacingAndGlyphs\" textLength=\"24\" x=\"143\" y=\"377.1074\">b: B</text><line style=\"stroke: #A80036; stroke-width: 1.5;\" x1=\"109\" x2=\"175\" y1=\"384.9375\" y2=\"384.9375\"/></a><!--MD5=[270fce915f116d4de14055a7c1d9a0f3]\n",
       "class E5--><a href=\"psysml:633af2d2-4d32-4996-ac04-a91fff2e720f\" target=\"_top\" title=\"psysml:633af2d2-4d32-4996-ac04-a91fff2e720f\" xlink:actuate=\"onRequest\" xlink:href=\"psysml:633af2d2-4d32-4996-ac04-a91fff2e720f\" xlink:show=\"new\" xlink:title=\"psysml:633af2d2-4d32-4996-ac04-a91fff2e720f\" xlink:type=\"simple\"><rect fill=\"#FEFECE\" filter=\"url(#fn5i66d35qij0)\" height=\"75.5469\" id=\"E5\" style=\"stroke: #A80036; stroke-width: 1.5;\" width=\"92\" x=\"77\" y=\"454\"/><ellipse cx=\"92\" cy=\"472.9688\" fill=\"#0000FF\" rx=\"11\" ry=\"11\" style=\"stroke: #A80036; stroke-width: 1.0;\"/><path d=\"M92.8438,479.7188 L90.3906,479.7188 L90.3906,469.4688 L87.25,469.4688 L87.25,467.3281 L95.9844,467.3281 L95.9844,469.4688 L92.8438,469.4688 L92.8438,479.7188 Z \"/><text fill=\"#000000\" font-family=\"sans-serif\" font-size=\"12\" font-style=\"italic\" lengthAdjust=\"spacingAndGlyphs\" textLength=\"64\" x=\"104\" y=\"470.1387\">«part def»</text><text fill=\"#000000\" font-family=\"sans-serif\" font-size=\"12\" lengthAdjust=\"spacingAndGlyphs\" textLength=\"8\" x=\"132\" y=\"484.1074\">B</text><line style=\"stroke: #A80036; stroke-width: 1.5;\" x1=\"78\" x2=\"168\" y1=\"491.9375\" y2=\"491.9375\"/><text fill=\"#000000\" font-family=\"sans-serif\" font-size=\"11\" lengthAdjust=\"spacingAndGlyphs\" textLength=\"31\" x=\"83\" y=\"522.9526\">x: ~C</text><line style=\"stroke: #A80036; stroke-width: 1.0;\" x1=\"78\" x2=\"108\" y1=\"506.3398\" y2=\"506.3398\"/><text fill=\"#000000\" font-family=\"sans-serif\" font-size=\"11\" lengthAdjust=\"spacingAndGlyphs\" textLength=\"30\" x=\"108\" y=\"509.6479\">ports</text><line style=\"stroke: #A80036; stroke-width: 1.0;\" x1=\"138\" x2=\"168\" y1=\"506.3398\" y2=\"506.3398\"/></a><!--MD5=[2156ba9850f5573cc1fc38a6a4b2f02b]\n",
       "class E7--><a href=\"psysml:adeac7a4-0c31-420e-b3fd-609062fb2f41\" target=\"_top\" title=\"psysml:adeac7a4-0c31-420e-b3fd-609062fb2f41\" xlink:actuate=\"onRequest\" xlink:href=\"psysml:adeac7a4-0c31-420e-b3fd-609062fb2f41\" xlink:show=\"new\" xlink:title=\"psysml:adeac7a4-0c31-420e-b3fd-609062fb2f41\" xlink:type=\"simple\"><rect fill=\"#FEFECE\" filter=\"url(#fn5i66d35qij0)\" height=\"45.9375\" id=\"E7\" rx=\"10\" ry=\"10\" style=\"stroke: #A80036; stroke-width: 1.5;\" width=\"68\" x=\"159\" y=\"594.5\"/><ellipse cx=\"174\" cy=\"613.4688\" fill=\"#0000FF\" rx=\"11\" ry=\"11\" style=\"stroke: #A80036; stroke-width: 1.0;\"/><path d=\"M174.8438,620.2188 L172.3906,620.2188 L172.3906,609.9688 L169.25,609.9688 L169.25,607.8281 L177.9844,607.8281 L177.9844,609.9688 L174.8438,609.9688 L174.8438,620.2188 Z \"/><text fill=\"#000000\" font-family=\"sans-serif\" font-size=\"12\" font-style=\"italic\" lengthAdjust=\"spacingAndGlyphs\" textLength=\"40\" x=\"186\" y=\"610.6387\">«part»</text><text fill=\"#000000\" font-family=\"sans-serif\" font-size=\"12\" lengthAdjust=\"spacingAndGlyphs\" textLength=\"24\" x=\"194\" y=\"624.6074\">a: A</text><line style=\"stroke: #A80036; stroke-width: 1.5;\" x1=\"160\" x2=\"226\" y1=\"632.4375\" y2=\"632.4375\"/></a><!--MD5=[b9389687b975829384b498ac4b7476b2]\n",
       "class E8--><a href=\"psysml:19a0d075-dfec-4a25-8f91-7b5bd5520f32\" target=\"_top\" title=\"psysml:19a0d075-dfec-4a25-8f91-7b5bd5520f32\" xlink:actuate=\"onRequest\" xlink:href=\"psysml:19a0d075-dfec-4a25-8f91-7b5bd5520f32\" xlink:show=\"new\" xlink:title=\"psysml:19a0d075-dfec-4a25-8f91-7b5bd5520f32\" xlink:type=\"simple\"><rect fill=\"#FEFECE\" filter=\"url(#fn5i66d35qij0)\" height=\"75.5469\" id=\"E8\" style=\"stroke: #A80036; stroke-width: 1.5;\" width=\"92\" x=\"32\" y=\"41\"/><ellipse cx=\"47\" cy=\"59.9688\" fill=\"#0000FF\" rx=\"11\" ry=\"11\" style=\"stroke: #A80036; stroke-width: 1.0;\"/><path d=\"M47.8438,66.7188 L45.3906,66.7188 L45.3906,56.4688 L42.25,56.4688 L42.25,54.3281 L50.9844,54.3281 L50.9844,56.4688 L47.8438,56.4688 L47.8438,66.7188 Z \"/><text fill=\"#000000\" font-family=\"sans-serif\" font-size=\"12\" font-style=\"italic\" lengthAdjust=\"spacingAndGlyphs\" textLength=\"64\" x=\"59\" y=\"57.1387\">«port def»</text><text fill=\"#000000\" font-family=\"sans-serif\" font-size=\"12\" lengthAdjust=\"spacingAndGlyphs\" textLength=\"8\" x=\"87\" y=\"71.1074\">C</text><line style=\"stroke: #A80036; stroke-width: 1.5;\" x1=\"33\" x2=\"123\" y1=\"78.9375\" y2=\"78.9375\"/><text fill=\"#000000\" font-family=\"sans-serif\" font-size=\"11\" lengthAdjust=\"spacingAndGlyphs\" textLength=\"37\" x=\"38\" y=\"109.9526\">y: A, B</text><text fill=\"#000000\" font-family=\"sans-serif\" font-size=\"11\" font-weight=\"bold\" lengthAdjust=\"spacingAndGlyphs\" textLength=\"15\" x=\"79\" y=\"109.9526\">as</text><text fill=\"#000000\" font-family=\"sans-serif\" font-size=\"11\" lengthAdjust=\"spacingAndGlyphs\" textLength=\"12\" x=\"98\" y=\"109.9526\">z2</text><line style=\"stroke: #A80036; stroke-width: 1.0;\" x1=\"33\" x2=\"47\" y1=\"93.3398\" y2=\"93.3398\"/><text fill=\"#000000\" font-family=\"sans-serif\" font-size=\"11\" lengthAdjust=\"spacingAndGlyphs\" textLength=\"62\" x=\"47\" y=\"96.6479\">references</text><line style=\"stroke: #A80036; stroke-width: 1.0;\" x1=\"109\" x2=\"123\" y1=\"93.3398\" y2=\"93.3398\"/></a><a href=\"psysml:fcdcf065-90d4-4da1-8b43-4feb0ab4c03b\" target=\"_top\" title=\"psysml:fcdcf065-90d4-4da1-8b43-4feb0ab4c03b\" xlink:actuate=\"onRequest\" xlink:href=\"psysml:fcdcf065-90d4-4da1-8b43-4feb0ab4c03b\" xlink:show=\"new\" xlink:title=\"psysml:fcdcf065-90d4-4da1-8b43-4feb0ab4c03b\" xlink:type=\"simple\"><polygon fill=\"#FFFFFF\" filter=\"url(#fn5i66d35qij0)\" points=\"94,591,110,591,117,613.2969,124,613.2969,124,643.5938,94,643.5938,94,591\" style=\"stroke: #000000; stroke-width: 1.5;\"/><line style=\"stroke: #000000; stroke-width: 1.5;\" x1=\"94\" x2=\"117\" y1=\"613.2969\" y2=\"613.2969\"/><text fill=\"#000000\" font-family=\"sans-serif\" font-size=\"14\" font-weight=\"bold\" lengthAdjust=\"spacingAndGlyphs\" textLength=\"10\" x=\"98\" y=\"605.9951\">P</text></a><!--MD5=[2720a5a1f2c3fca2055b230370638851]\n",
       "link E2 to E3--><a href=\"psysml:1f32f64a-cd2f-48b1-a0ff-85d8f5396f29\" target=\"_top\" title=\"psysml:1f32f64a-cd2f-48b1-a0ff-85d8f5396f29\" xlink:actuate=\"onRequest\" xlink:href=\"psysml:1f32f64a-cd2f-48b1-a0ff-85d8f5396f29\" xlink:show=\"new\" xlink:title=\"psysml:1f32f64a-cd2f-48b1-a0ff-85d8f5396f29\" xlink:type=\"simple\"><path d=\"M189.61,102.28 C186.74,121.12 182.5,148.97 178.69,173.94 \" fill=\"none\" id=\"E2-&gt;E3\" style=\"stroke: #A80036; stroke-width: 1.0;\"/><polygon fill=\"#FFFFFF\" points=\"175.64,193.98,171.5695,174.1449,185.4111,176.2451,175.64,193.98\" style=\"stroke: #A80036; stroke-width: 1.0;\"/><ellipse cx=\"174.402\" cy=\"168.8094\" fill=\"#A80036\" rx=\"2\" ry=\"2\" style=\"stroke: #A80036; stroke-width: 1.0;\"/><ellipse cx=\"184.2888\" cy=\"170.3096\" fill=\"#A80036\" rx=\"2\" ry=\"2\" style=\"stroke: #A80036; stroke-width: 1.0;\"/></a><!--MD5=[4672eba38e49728da53d11aeb285b987]\n",
       "reverse link E3 to E4--><a href=\"psysml:1e20eef8-b16d-4a20-93fc-2b015416e79a\" target=\"_top\" title=\"psysml:1e20eef8-b16d-4a20-93fc-2b015416e79a\" xlink:actuate=\"onRequest\" xlink:href=\"psysml:1e20eef8-b16d-4a20-93fc-2b015416e79a\" xlink:show=\"new\" xlink:title=\"psysml:1e20eef8-b16d-4a20-93fc-2b015416e79a\" xlink:type=\"simple\"><path d=\"M159.7,283.02 C155.19,304.93 150.13,329.52 146.58,346.77 \" fill=\"none\" id=\"E3&lt;-E4\" style=\"stroke: #A80036; stroke-width: 1.0;\"/><polygon fill=\"#A80036\" points=\"162.35,270.16,157.2247,275.2326,159.9357,281.9146,165.0611,276.8421,162.35,270.16\" style=\"stroke: #A80036; stroke-width: 1.0;\"/></a><!--MD5=[1b7591eae5389033d8d09a9d6721a717]\n",
       "link E4 to E5--><a href=\"psysml:97a379fd-51a7-461f-afe4-84a5f5da2292\" target=\"_top\" title=\"psysml:97a379fd-51a7-461f-afe4-84a5f5da2292\" xlink:actuate=\"onRequest\" xlink:href=\"psysml:97a379fd-51a7-461f-afe4-84a5f5da2292\" xlink:show=\"new\" xlink:title=\"psysml:97a379fd-51a7-461f-afe4-84a5f5da2292\" xlink:type=\"simple\"><path d=\"M138.52,393.01 C136.69,404.51 134.37,419.17 132.08,433.62 \" fill=\"none\" id=\"E4-&gt;E5\" style=\"stroke: #A80036; stroke-width: 1.0;\"/><polygon fill=\"#FFFFFF\" points=\"128.93,453.57,124.9878,433.709,138.8155,435.8986,128.93,453.57\" style=\"stroke: #A80036; stroke-width: 1.0;\"/><ellipse cx=\"127.8547\" cy=\"428.392\" fill=\"#A80036\" rx=\"2\" ry=\"2\" style=\"stroke: #A80036; stroke-width: 1.0;\"/><ellipse cx=\"137.7316\" cy=\"429.956\" fill=\"#A80036\" rx=\"2\" ry=\"2\" style=\"stroke: #A80036; stroke-width: 1.0;\"/></a><!--MD5=[85d356282659285ab4b2cfe2f634dd2b]\n",
       "reverse link E5 to E6--><a href=\"psysml:fcdcf065-90d4-4da1-8b43-4feb0ab4c03b\" target=\"_top\" title=\"psysml:fcdcf065-90d4-4da1-8b43-4feb0ab4c03b\" xlink:actuate=\"onRequest\" xlink:href=\"psysml:fcdcf065-90d4-4da1-8b43-4feb0ab4c03b\" xlink:show=\"new\" xlink:title=\"psysml:fcdcf065-90d4-4da1-8b43-4feb0ab4c03b\" xlink:type=\"simple\"><path d=\"M117.07,545.35 C115.28,561.08 113.4,577.65 111.91,590.83 \" fill=\"none\" id=\"E5&lt;-E6\" style=\"stroke: #A80036; stroke-width: 1.0;\"/><ellipse cx=\"117.9015\" cy=\"537.9994\" fill=\"#FFFFFF\" rx=\"8\" ry=\"8\" style=\"stroke: #A80036; stroke-width: 1.0;\"/><line style=\"stroke: #A80036; stroke-width: 1.0;\" x1=\"117.003\" x2=\"118.8\" y1=\"545.9488\" y2=\"530.05\"/><line style=\"stroke: #A80036; stroke-width: 1.0;\" x1=\"109.9521\" x2=\"125.8509\" y1=\"537.1009\" y2=\"538.8979\"/></a><!--MD5=[14ccda38c055a5c0da953d572bc50960]\n",
       "link E7 to E3--><a href=\"psysml:c8b02122-2142-456b-8199-9bf99e52168e\" target=\"_top\" title=\"psysml:c8b02122-2142-456b-8199-9bf99e52168e\" xlink:actuate=\"onRequest\" xlink:href=\"psysml:c8b02122-2142-456b-8199-9bf99e52168e\" xlink:show=\"new\" xlink:title=\"psysml:c8b02122-2142-456b-8199-9bf99e52168e\" xlink:type=\"simple\"><path d=\"M194.68,594.41 C197.84,548.29 203.52,438.45 194,347 C192.05,328.25 188.33,308.03 184.4,289.91 \" fill=\"none\" id=\"E7-&gt;E3\" style=\"stroke: #A80036; stroke-width: 1.0;\"/><polygon fill=\"#FFFFFF\" points=\"179.86,270.17,190.9295,287.1248,177.2836,290.2539,179.86,270.17\" style=\"stroke: #A80036; stroke-width: 1.0;\"/><ellipse cx=\"190.254\" cy=\"293.1277\" fill=\"#A80036\" rx=\"2\" ry=\"2\" style=\"stroke: #A80036; stroke-width: 1.0;\"/><ellipse cx=\"180.507\" cy=\"295.3627\" fill=\"#A80036\" rx=\"2\" ry=\"2\" style=\"stroke: #A80036; stroke-width: 1.0;\"/></a><!--MD5=[452b418e7f8a40397a49b8c0a78acc5b]\n",
       "reverse link E5 to E7--><a href=\"psysml:adeac7a4-0c31-420e-b3fd-609062fb2f41\" target=\"_top\" title=\"psysml:adeac7a4-0c31-420e-b3fd-609062fb2f41\" xlink:actuate=\"onRequest\" xlink:href=\"psysml:adeac7a4-0c31-420e-b3fd-609062fb2f41\" xlink:show=\"new\" xlink:title=\"psysml:adeac7a4-0c31-420e-b3fd-609062fb2f41\" xlink:type=\"simple\"><path d=\"M150.45,541.42 C160.77,559.64 172.02,579.48 180.36,594.19 \" fill=\"none\" id=\"E5&lt;-E7\" style=\"stroke: #A80036; stroke-width: 1.0;\"/><polygon fill=\"#A80036\" points=\"144,530.05,143.4794,537.2423,149.9181,540.4891,150.4388,533.2969,144,530.05\" style=\"stroke: #A80036; stroke-width: 1.0;\"/></a><!--MD5=[03c8294790d3c57651a1993cecff665f]\n",
       "reverse link E8 to E3--><a href=\"psysml:4b320237-d900-4f83-8ac2-28b55b9df163\" target=\"_top\" title=\"psysml:4b320237-d900-4f83-8ac2-28b55b9df163\" xlink:actuate=\"onRequest\" xlink:href=\"psysml:4b320237-d900-4f83-8ac2-28b55b9df163\" xlink:show=\"new\" xlink:title=\"psysml:4b320237-d900-4f83-8ac2-28b55b9df163\" xlink:type=\"simple\"><path d=\"M107.66,128.69 C120.55,149.83 135.39,174.19 147.36,193.84 \" fill=\"none\" id=\"E8&lt;-E3\" style=\"stroke: #A80036; stroke-width: 1.0;\"/><polygon fill=\"#FFFFFF\" points=\"100.74,117.33,100.4499,124.5353,106.9894,127.5743,107.2795,120.369,100.74,117.33\" style=\"stroke: #A80036; stroke-width: 1.0;\"/><text fill=\"#000000\" font-family=\"sans-serif\" font-size=\"13\" lengthAdjust=\"spacingAndGlyphs\" textLength=\"7\" x=\"127\" y=\"160.0669\">y</text></a><!--MD5=[049ab558815ccadc2a7a6ffdb8f4a5ba]\n",
       "reverse link E8 to E5--><a href=\"psysml:4b320237-d900-4f83-8ac2-28b55b9df163\" target=\"_top\" title=\"psysml:4b320237-d900-4f83-8ac2-28b55b9df163\" xlink:actuate=\"onRequest\" xlink:href=\"psysml:4b320237-d900-4f83-8ac2-28b55b9df163\" xlink:show=\"new\" xlink:title=\"psysml:4b320237-d900-4f83-8ac2-28b55b9df163\" xlink:type=\"simple\"><path d=\"M75.87,130.78 C74.23,193.08 74.52,301.69 91,393 C94.72,413.61 101.72,435.85 108.23,453.93 \" fill=\"none\" id=\"E8&lt;-E5\" style=\"stroke: #A80036; stroke-width: 1.0;\"/><polygon fill=\"#FFFFFF\" points=\"76.27,117.46,72.0938,123.3387,75.9141,129.4547,80.0903,123.576,76.27,117.46\" style=\"stroke: #A80036; stroke-width: 1.0;\"/><text fill=\"#000000\" font-family=\"sans-serif\" font-size=\"13\" lengthAdjust=\"spacingAndGlyphs\" textLength=\"7\" x=\"81\" y=\"313.0669\">y</text></a><!--MD5=[df12b7ede15b3d4e278dc6f9bf26e07b]\n",
       "@startuml\r\n",
       " \r\n",
       "package \"BlockTest\" as E1  [[psysml:c0b99535-16c1-47cf-a8d5-3f20b133a54a ]]  {\r\n",
       "comp usage \"f: A\" as E2  <<(T,blue)part>> [[psysml:20852434-d7cc-411e-aa3b-cae286a1f6f8 ]] {\r\n",
       "}\r\n",
       "comp def \"A\" as E3  <<(T,blue)part def>> [[psysml:cbed5230-ac88-4b7e-9b23-6ffd90d7c059 ]] {\r\n",
       "- - ports - -\r\n",
       "c: C\r\n",
       "}\r\n",
       "comp usage \"b: B\" as E4  <<(T,blue)part>> [[psysml:1e20eef8-b16d-4a20-93fc-2b015416e79a ]] {\r\n",
       "}\r\n",
       "comp def \"B\" as E5  <<(T,blue)part def>> [[psysml:633af2d2-4d32-4996-ac04-a91fff2e720f ]] {\r\n",
       "- - ports - -\r\n",
       "x: ~C\r\n",
       "}\r\n",
       "package \"P\" as E6  [[psysml:fcdcf065-90d4-4da1-8b43-4feb0ab4c03b ]]  {\r\n",
       "}\r\n",
       "comp usage \"a: A\" as E7  <<(T,blue)part>> [[psysml:adeac7a4-0c31-420e-b3fd-609062fb2f41 ]] {\r\n",
       "}\r\n",
       "comp def \"C\" as E8  <<(T,blue)port def>> [[psysml:19a0d075-dfec-4a25-8f91-7b5bd5520f32 ]] {\r\n",
       "- - references - -\r\n",
       "y: A, B <b>as</b> z2 \r\n",
       "}\r\n",
       "E2 - -:|> E3 [[psysml:1f32f64a-cd2f-48b1-a0ff-85d8f5396f29 ]] \r\n",
       "E3 *- - E4 [[psysml:1e20eef8-b16d-4a20-93fc-2b015416e79a ]] \r\n",
       "E4 - -:|> E5 [[psysml:97a379fd-51a7-461f-afe4-84a5f5da2292 ]] \r\n",
       "E5 +- - E6 [[psysml:fcdcf065-90d4-4da1-8b43-4feb0ab4c03b ]] \r\n",
       "E7 - -:|> E3 [[psysml:c8b02122-2142-456b-8199-9bf99e52168e ]] \r\n",
       "E5 *- - E7 [[psysml:adeac7a4-0c31-420e-b3fd-609062fb2f41 ]] \r\n",
       "E8 o- - E3 [[psysml:4b320237-d900-4f83-8ac2-28b55b9df163 ]] : y\r\n",
       "E8 o- - E5 [[psysml:4b320237-d900-4f83-8ac2-28b55b9df163 ]] : y\r\n",
       "}\r\n",
       "@enduml\r\n",
       "\n",
       "PlantUML version 1.2020.13(Sat Jun 13 12:26:38 UTC 2020)\n",
       "(EPL source distribution)\n",
       "Java Runtime: OpenJDK Runtime Environment\n",
       "JVM: OpenJDK 64-Bit Server VM\n",
       "Default Encoding: UTF-8\n",
       "Language: en\n",
       "Country: null\n",
       "--></g></svg>"
      ]
     },
     "execution_count": 8,
     "metadata": {},
     "output_type": "execute_result"
    }
   ],
   "source": [
    "%viz --style=\"COMPTREE\" --view=\"MIXED\" \"BlockTest\""
   ]
  },
  {
   "cell_type": "code",
   "execution_count": 9,
   "id": "enabling-nomination",
   "metadata": {
    "execution": {
     "iopub.execute_input": "2021-03-25T14:59:46.184407Z",
     "iopub.status.busy": "2021-03-25T14:59:46.183621Z",
     "iopub.status.idle": "2021-03-25T14:59:46.736951Z",
     "shell.execute_reply": "2021-03-25T14:59:46.735225Z"
    }
   },
   "outputs": [
    {
     "data": {
      "image/svg+xml": [
       "<?xml version=\"1.0\" encoding=\"UTF-8\" standalone=\"no\"?><svg xmlns=\"http://www.w3.org/2000/svg\" xmlns:xlink=\"http://www.w3.org/1999/xlink\" contentScriptType=\"application/ecmascript\" contentStyleType=\"text/css\" height=\"672px\" preserveAspectRatio=\"none\" style=\"width:231px;height:672px;\" version=\"1.1\" viewBox=\"0 0 231 672\" width=\"231px\" zoomAndPan=\"magnify\"><defs/><g><!--MD5=[fbc87193dbaf4d95561dea2c320d4a47]\n",
       "cluster E1--><a href=\"psysml:c0b99535-16c1-47cf-a8d5-3f20b133a54a\" target=\"_top\" title=\"psysml:c0b99535-16c1-47cf-a8d5-3f20b133a54a\" xlink:actuate=\"onRequest\" xlink:href=\"psysml:c0b99535-16c1-47cf-a8d5-3f20b133a54a\" xlink:show=\"new\" xlink:title=\"psysml:c0b99535-16c1-47cf-a8d5-3f20b133a54a\" xlink:type=\"simple\"><polygon fill=\"#FFFFFF\" points=\"16,6,99,6,106,28.2969,209,28.2969,209,660,16,660,16,6\" style=\"stroke: #000000; stroke-width: 1.5;\"/><line style=\"stroke: #000000; stroke-width: 1.5;\" x1=\"16\" x2=\"106\" y1=\"28.2969\" y2=\"28.2969\"/><text fill=\"#000000\" font-family=\"sans-serif\" font-size=\"14\" font-weight=\"bold\" lengthAdjust=\"spacingAndGlyphs\" textLength=\"77\" x=\"20\" y=\"20.9951\">BlockTest</text></a><!--MD5=[b4997ac47864f28c2f74865a473b2911]\n",
       "class E2--><a href=\"psysml:20852434-d7cc-411e-aa3b-cae286a1f6f8\" target=\"_top\" title=\"psysml:20852434-d7cc-411e-aa3b-cae286a1f6f8\" xlink:actuate=\"onRequest\" xlink:href=\"psysml:20852434-d7cc-411e-aa3b-cae286a1f6f8\" xlink:show=\"new\" xlink:title=\"psysml:20852434-d7cc-411e-aa3b-cae286a1f6f8\" xlink:type=\"simple\"><rect fill=\"#FFFFFF\" height=\"45.9375\" id=\"E2\" rx=\"10\" ry=\"10\" style=\"stroke: #383838; stroke-width: 1.5;\" width=\"42\" x=\"151\" y=\"56\"/><text fill=\"#000000\" font-family=\"sans-serif\" font-size=\"12\" font-style=\"italic\" lengthAdjust=\"spacingAndGlyphs\" textLength=\"40\" x=\"152\" y=\"72.1387\">«part»</text><text fill=\"#000000\" font-family=\"sans-serif\" font-size=\"12\" lengthAdjust=\"spacingAndGlyphs\" textLength=\"20\" x=\"162\" y=\"86.1074\">f: A</text><line style=\"stroke: #383838; stroke-width: 1.5;\" x1=\"152\" x2=\"192\" y1=\"93.9375\" y2=\"93.9375\"/></a><!--MD5=[09b614a08d8cba4a07c9adeb5e0fee81]\n",
       "class E3--><a href=\"psysml:cbed5230-ac88-4b7e-9b23-6ffd90d7c059\" target=\"_top\" title=\"psysml:cbed5230-ac88-4b7e-9b23-6ffd90d7c059\" xlink:actuate=\"onRequest\" xlink:href=\"psysml:cbed5230-ac88-4b7e-9b23-6ffd90d7c059\" xlink:show=\"new\" xlink:title=\"psysml:cbed5230-ac88-4b7e-9b23-6ffd90d7c059\" xlink:type=\"simple\"><rect fill=\"#FFFFFF\" height=\"75.5469\" id=\"E3\" style=\"stroke: #383838; stroke-width: 1.5;\" width=\"66\" x=\"118\" y=\"194\"/><text fill=\"#000000\" font-family=\"sans-serif\" font-size=\"12\" font-style=\"italic\" lengthAdjust=\"spacingAndGlyphs\" textLength=\"64\" x=\"119\" y=\"210.1387\">«part def»</text><text fill=\"#000000\" font-family=\"sans-serif\" font-size=\"12\" lengthAdjust=\"spacingAndGlyphs\" textLength=\"8\" x=\"147\" y=\"224.1074\">A</text><line style=\"stroke: #383838; stroke-width: 1.5;\" x1=\"119\" x2=\"183\" y1=\"231.9375\" y2=\"231.9375\"/><text fill=\"#000000\" font-family=\"sans-serif\" font-size=\"11\" lengthAdjust=\"spacingAndGlyphs\" textLength=\"22\" x=\"124\" y=\"262.9526\">c: C</text><line style=\"stroke: #383838; stroke-width: 1.0;\" x1=\"119\" x2=\"136\" y1=\"246.3398\" y2=\"246.3398\"/><text fill=\"#000000\" font-family=\"sans-serif\" font-size=\"11\" lengthAdjust=\"spacingAndGlyphs\" textLength=\"30\" x=\"136\" y=\"249.6479\">ports</text><line style=\"stroke: #383838; stroke-width: 1.0;\" x1=\"166\" x2=\"183\" y1=\"246.3398\" y2=\"246.3398\"/></a><!--MD5=[ebbe1d658d1005bcc118a6aa81145e00]\n",
       "class E4--><a href=\"psysml:1e20eef8-b16d-4a20-93fc-2b015416e79a\" target=\"_top\" title=\"psysml:1e20eef8-b16d-4a20-93fc-2b015416e79a\" xlink:actuate=\"onRequest\" xlink:href=\"psysml:1e20eef8-b16d-4a20-93fc-2b015416e79a\" xlink:show=\"new\" xlink:title=\"psysml:1e20eef8-b16d-4a20-93fc-2b015416e79a\" xlink:type=\"simple\"><rect fill=\"#FFFFFF\" height=\"45.9375\" id=\"E4\" rx=\"10\" ry=\"10\" style=\"stroke: #383838; stroke-width: 1.5;\" width=\"42\" x=\"106\" y=\"347\"/><text fill=\"#000000\" font-family=\"sans-serif\" font-size=\"12\" font-style=\"italic\" lengthAdjust=\"spacingAndGlyphs\" textLength=\"40\" x=\"107\" y=\"363.1387\">«part»</text><text fill=\"#000000\" font-family=\"sans-serif\" font-size=\"12\" lengthAdjust=\"spacingAndGlyphs\" textLength=\"24\" x=\"115\" y=\"377.1074\">b: B</text><line style=\"stroke: #383838; stroke-width: 1.5;\" x1=\"107\" x2=\"147\" y1=\"384.9375\" y2=\"384.9375\"/></a><!--MD5=[60a26617385b1d2d0262a64233df1f8d]\n",
       "class E6--><a href=\"psysml:633af2d2-4d32-4996-ac04-a91fff2e720f\" target=\"_top\" title=\"psysml:633af2d2-4d32-4996-ac04-a91fff2e720f\" xlink:actuate=\"onRequest\" xlink:href=\"psysml:633af2d2-4d32-4996-ac04-a91fff2e720f\" xlink:show=\"new\" xlink:title=\"psysml:633af2d2-4d32-4996-ac04-a91fff2e720f\" xlink:type=\"simple\"><rect fill=\"#FFFFFF\" height=\"75.5469\" id=\"E6\" style=\"stroke: #383838; stroke-width: 1.5;\" width=\"66\" x=\"77\" y=\"454\"/><text fill=\"#000000\" font-family=\"sans-serif\" font-size=\"12\" font-style=\"italic\" lengthAdjust=\"spacingAndGlyphs\" textLength=\"64\" x=\"78\" y=\"470.1387\">«part def»</text><text fill=\"#000000\" font-family=\"sans-serif\" font-size=\"12\" lengthAdjust=\"spacingAndGlyphs\" textLength=\"8\" x=\"106\" y=\"484.1074\">B</text><line style=\"stroke: #383838; stroke-width: 1.5;\" x1=\"78\" x2=\"142\" y1=\"491.9375\" y2=\"491.9375\"/><text fill=\"#000000\" font-family=\"sans-serif\" font-size=\"11\" lengthAdjust=\"spacingAndGlyphs\" textLength=\"31\" x=\"83\" y=\"522.9526\">x: ~C</text><line style=\"stroke: #383838; stroke-width: 1.0;\" x1=\"78\" x2=\"95\" y1=\"506.3398\" y2=\"506.3398\"/><text fill=\"#000000\" font-family=\"sans-serif\" font-size=\"11\" lengthAdjust=\"spacingAndGlyphs\" textLength=\"30\" x=\"95\" y=\"509.6479\">ports</text><line style=\"stroke: #383838; stroke-width: 1.0;\" x1=\"125\" x2=\"142\" y1=\"506.3398\" y2=\"506.3398\"/></a><!--MD5=[b9389687b975829384b498ac4b7476b2]\n",
       "class E8--><a href=\"psysml:adeac7a4-0c31-420e-b3fd-609062fb2f41\" target=\"_top\" title=\"psysml:adeac7a4-0c31-420e-b3fd-609062fb2f41\" xlink:actuate=\"onRequest\" xlink:href=\"psysml:adeac7a4-0c31-420e-b3fd-609062fb2f41\" xlink:show=\"new\" xlink:title=\"psysml:adeac7a4-0c31-420e-b3fd-609062fb2f41\" xlink:type=\"simple\"><rect fill=\"#FFFFFF\" height=\"45.9375\" id=\"E8\" rx=\"10\" ry=\"10\" style=\"stroke: #383838; stroke-width: 1.5;\" width=\"42\" x=\"151\" y=\"594.5\"/><text fill=\"#000000\" font-family=\"sans-serif\" font-size=\"12\" font-style=\"italic\" lengthAdjust=\"spacingAndGlyphs\" textLength=\"40\" x=\"152\" y=\"610.6387\">«part»</text><text fill=\"#000000\" font-family=\"sans-serif\" font-size=\"12\" lengthAdjust=\"spacingAndGlyphs\" textLength=\"24\" x=\"160\" y=\"624.6074\">a: A</text><line style=\"stroke: #383838; stroke-width: 1.5;\" x1=\"152\" x2=\"192\" y1=\"632.4375\" y2=\"632.4375\"/></a><!--MD5=[96f4274e9e20536e775497830990834d]\n",
       "class E10--><a href=\"psysml:19a0d075-dfec-4a25-8f91-7b5bd5520f32\" target=\"_top\" title=\"psysml:19a0d075-dfec-4a25-8f91-7b5bd5520f32\" xlink:actuate=\"onRequest\" xlink:href=\"psysml:19a0d075-dfec-4a25-8f91-7b5bd5520f32\" xlink:show=\"new\" xlink:title=\"psysml:19a0d075-dfec-4a25-8f91-7b5bd5520f32\" xlink:type=\"simple\"><rect fill=\"#FFFFFF\" height=\"75.5469\" id=\"E10\" style=\"stroke: #383838; stroke-width: 1.5;\" width=\"84\" x=\"32\" y=\"41\"/><text fill=\"#000000\" font-family=\"sans-serif\" font-size=\"12\" font-style=\"italic\" lengthAdjust=\"spacingAndGlyphs\" textLength=\"64\" x=\"42\" y=\"57.1387\">«port def»</text><text fill=\"#000000\" font-family=\"sans-serif\" font-size=\"12\" lengthAdjust=\"spacingAndGlyphs\" textLength=\"8\" x=\"70\" y=\"71.1074\">C</text><line style=\"stroke: #383838; stroke-width: 1.5;\" x1=\"33\" x2=\"115\" y1=\"78.9375\" y2=\"78.9375\"/><text fill=\"#000000\" font-family=\"sans-serif\" font-size=\"11\" lengthAdjust=\"spacingAndGlyphs\" textLength=\"37\" x=\"38\" y=\"109.9526\">y: A, B</text><text fill=\"#000000\" font-family=\"sans-serif\" font-size=\"11\" font-weight=\"bold\" lengthAdjust=\"spacingAndGlyphs\" textLength=\"15\" x=\"79\" y=\"109.9526\">as</text><text fill=\"#000000\" font-family=\"sans-serif\" font-size=\"11\" lengthAdjust=\"spacingAndGlyphs\" textLength=\"12\" x=\"98\" y=\"109.9526\">z2</text><line style=\"stroke: #383838; stroke-width: 1.0;\" x1=\"33\" x2=\"43\" y1=\"93.3398\" y2=\"93.3398\"/><text fill=\"#000000\" font-family=\"sans-serif\" font-size=\"11\" lengthAdjust=\"spacingAndGlyphs\" textLength=\"62\" x=\"43\" y=\"96.6479\">references</text><line style=\"stroke: #383838; stroke-width: 1.0;\" x1=\"105\" x2=\"115\" y1=\"93.3398\" y2=\"93.3398\"/></a><a href=\"psysml:fcdcf065-90d4-4da1-8b43-4feb0ab4c03b\" target=\"_top\" title=\"psysml:fcdcf065-90d4-4da1-8b43-4feb0ab4c03b\" xlink:actuate=\"onRequest\" xlink:href=\"psysml:fcdcf065-90d4-4da1-8b43-4feb0ab4c03b\" xlink:show=\"new\" xlink:title=\"psysml:fcdcf065-90d4-4da1-8b43-4feb0ab4c03b\" xlink:type=\"simple\"><polygon fill=\"#FFFFFF\" points=\"86,591,102,591,109,613.2969,116,613.2969,116,643.5938,86,643.5938,86,591\" style=\"stroke: #000000; stroke-width: 1.5;\"/><line style=\"stroke: #000000; stroke-width: 1.5;\" x1=\"86\" x2=\"109\" y1=\"613.2969\" y2=\"613.2969\"/><text fill=\"#000000\" font-family=\"sans-serif\" font-size=\"14\" font-weight=\"bold\" lengthAdjust=\"spacingAndGlyphs\" textLength=\"10\" x=\"90\" y=\"605.9951\">P</text></a><!--MD5=[2720a5a1f2c3fca2055b230370638851]\n",
       "link E2 to E3--><a href=\"psysml:1f32f64a-cd2f-48b1-a0ff-85d8f5396f29\" target=\"_top\" title=\"psysml:1f32f64a-cd2f-48b1-a0ff-85d8f5396f29\" xlink:actuate=\"onRequest\" xlink:href=\"psysml:1f32f64a-cd2f-48b1-a0ff-85d8f5396f29\" xlink:show=\"new\" xlink:title=\"psysml:1f32f64a-cd2f-48b1-a0ff-85d8f5396f29\" xlink:type=\"simple\"><path d=\"M168.9,102.28 C166.28,121.12 162.41,148.97 158.94,173.94 \" fill=\"none\" id=\"E2-&gt;E3\" style=\"stroke: #383838; stroke-width: 1.0;\"/><polygon fill=\"#FFFFFF\" points=\"156.15,193.98,151.8354,174.1966,165.7018,176.1261,156.15,193.98\" style=\"stroke: #383838; stroke-width: 1.0;\"/><ellipse cx=\"154.6019\" cy=\"168.8266\" fill=\"#383838\" rx=\"2\" ry=\"2\" style=\"stroke: #383838; stroke-width: 1.0;\"/><ellipse cx=\"164.5065\" cy=\"170.2048\" fill=\"#383838\" rx=\"2\" ry=\"2\" style=\"stroke: #383838; stroke-width: 1.0;\"/></a><!--MD5=[4672eba38e49728da53d11aeb285b987]\n",
       "reverse link E3 to E4--><a href=\"psysml:1e20eef8-b16d-4a20-93fc-2b015416e79a\" target=\"_top\" title=\"psysml:1e20eef8-b16d-4a20-93fc-2b015416e79a\" xlink:actuate=\"onRequest\" xlink:href=\"psysml:1e20eef8-b16d-4a20-93fc-2b015416e79a\" xlink:show=\"new\" xlink:title=\"psysml:1e20eef8-b16d-4a20-93fc-2b015416e79a\" xlink:type=\"simple\"><path d=\"M142.17,283.02 C138.31,304.93 133.97,329.52 130.92,346.77 \" fill=\"none\" id=\"E3&lt;-E4\" style=\"stroke: #383838; stroke-width: 1.0;\"/><polygon fill=\"#383838\" points=\"144.44,270.16,139.4532,275.3688,142.3433,281.9754,147.3301,276.7666,144.44,270.16\" style=\"stroke: #383838; stroke-width: 1.0;\"/></a><!--MD5=[79568f1e445c3877b6a54524624ccc7d]\n",
       "link E4 to E6--><a href=\"psysml:97a379fd-51a7-461f-afe4-84a5f5da2292\" target=\"_top\" title=\"psysml:97a379fd-51a7-461f-afe4-84a5f5da2292\" xlink:actuate=\"onRequest\" xlink:href=\"psysml:97a379fd-51a7-461f-afe4-84a5f5da2292\" xlink:show=\"new\" xlink:title=\"psysml:97a379fd-51a7-461f-afe4-84a5f5da2292\" xlink:type=\"simple\"><path d=\"M123.88,393.01 C122.25,404.51 120.18,419.17 118.13,433.62 \" fill=\"none\" id=\"E4-&gt;E6\" style=\"stroke: #383838; stroke-width: 1.0;\"/><polygon fill=\"#FFFFFF\" points=\"115.3,453.57,111.0294,433.777,124.8914,435.7373,115.3,453.57\" style=\"stroke: #383838; stroke-width: 1.0;\"/><ellipse cx=\"113.8078\" cy=\"428.4132\" fill=\"#383838\" rx=\"2\" ry=\"2\" style=\"stroke: #383838; stroke-width: 1.0;\"/><ellipse cx=\"123.7093\" cy=\"429.8134\" fill=\"#383838\" rx=\"2\" ry=\"2\" style=\"stroke: #383838; stroke-width: 1.0;\"/></a><!--MD5=[3f50a3473f1dfb74d3f76443e03635af]\n",
       "reverse link E6 to E7--><a href=\"psysml:fcdcf065-90d4-4da1-8b43-4feb0ab4c03b\" target=\"_top\" title=\"psysml:fcdcf065-90d4-4da1-8b43-4feb0ab4c03b\" xlink:actuate=\"onRequest\" xlink:href=\"psysml:fcdcf065-90d4-4da1-8b43-4feb0ab4c03b\" xlink:show=\"new\" xlink:title=\"psysml:fcdcf065-90d4-4da1-8b43-4feb0ab4c03b\" xlink:type=\"simple\"><path d=\"M106.18,545.35 C105.04,561.08 103.83,577.65 102.87,590.83 \" fill=\"none\" id=\"E6&lt;-E7\" style=\"stroke: #383838; stroke-width: 1.0;\"/><ellipse cx=\"106.7138\" cy=\"538.0285\" fill=\"#FFFFFF\" rx=\"8\" ry=\"8\" style=\"stroke: #383838; stroke-width: 1.0;\"/><line style=\"stroke: #383838; stroke-width: 1.0;\" x1=\"106.1276\" x2=\"107.3\" y1=\"546.007\" y2=\"530.05\"/><line style=\"stroke: #383838; stroke-width: 1.0;\" x1=\"98.7353\" x2=\"114.6923\" y1=\"537.4423\" y2=\"538.6147\"/></a><!--MD5=[95fa686b5a16158bcdbcaeead89f639b]\n",
       "link E8 to E3--><a href=\"psysml:c8b02122-2142-456b-8199-9bf99e52168e\" target=\"_top\" title=\"psysml:c8b02122-2142-456b-8199-9bf99e52168e\" xlink:actuate=\"onRequest\" xlink:href=\"psysml:c8b02122-2142-456b-8199-9bf99e52168e\" xlink:show=\"new\" xlink:title=\"psysml:c8b02122-2142-456b-8199-9bf99e52168e\" xlink:type=\"simple\"><path d=\"M171.51,594.45 C170.08,530.08 166,347 166,347 C166,347 162.24,318.43 158.49,289.89 \" fill=\"none\" id=\"E8-&gt;E3\" style=\"stroke: #383838; stroke-width: 1.0;\"/><polygon fill=\"#FFFFFF\" points=\"155.87,270.01,165.2808,287.9387,151.3996,289.7588,155.87,270.01\" style=\"stroke: #383838; stroke-width: 1.0;\"/><ellipse cx=\"164.0388\" cy=\"293.8503\" fill=\"#383838\" rx=\"2\" ry=\"2\" style=\"stroke: #383838; stroke-width: 1.0;\"/><ellipse cx=\"154.1237\" cy=\"295.1504\" fill=\"#383838\" rx=\"2\" ry=\"2\" style=\"stroke: #383838; stroke-width: 1.0;\"/></a><!--MD5=[f4cf0736d43fd73c4ef68817c49d37d5]\n",
       "reverse link E6 to E8--><a href=\"psysml:adeac7a4-0c31-420e-b3fd-609062fb2f41\" target=\"_top\" title=\"psysml:adeac7a4-0c31-420e-b3fd-609062fb2f41\" xlink:actuate=\"onRequest\" xlink:href=\"psysml:adeac7a4-0c31-420e-b3fd-609062fb2f41\" xlink:show=\"new\" xlink:title=\"psysml:adeac7a4-0c31-420e-b3fd-609062fb2f41\" xlink:type=\"simple\"><path d=\"M134.44,541.68 C143.55,559.83 153.45,579.55 160.8,594.19 \" fill=\"none\" id=\"E6&lt;-E8\" style=\"stroke: #383838; stroke-width: 1.0;\"/><polygon fill=\"#383838\" points=\"128.6,530.05,127.7161,537.2067,133.9824,540.7752,134.8663,533.6185,128.6,530.05\" style=\"stroke: #383838; stroke-width: 1.0;\"/></a><!--MD5=[8e04057e7b3cbc0dca4fc78ea351e2da]\n",
       "reverse link E10 to E3--><a href=\"psysml:4b320237-d900-4f83-8ac2-28b55b9df163\" target=\"_top\" title=\"psysml:4b320237-d900-4f83-8ac2-28b55b9df163\" xlink:actuate=\"onRequest\" xlink:href=\"psysml:4b320237-d900-4f83-8ac2-28b55b9df163\" xlink:show=\"new\" xlink:title=\"psysml:4b320237-d900-4f83-8ac2-28b55b9df163\" xlink:type=\"simple\"><path d=\"M98.98,128.98 C109.72,150.06 122.08,174.29 132.05,193.84 \" fill=\"none\" id=\"E10&lt;-E3\" style=\"stroke: #383838; stroke-width: 1.0;\"/><polygon fill=\"#FFFFFF\" points=\"93.03,117.33,92.1919,124.4922,98.4809,128.0206,99.319,120.8583,93.03,117.33\" style=\"stroke: #383838; stroke-width: 1.0;\"/><text fill=\"#000000\" font-family=\"sans-serif\" font-size=\"13\" lengthAdjust=\"spacingAndGlyphs\" textLength=\"7\" x=\"115\" y=\"160.0669\">y</text></a><!--MD5=[604cbf994c02b74b117f728a71673cea]\n",
       "reverse link E10 to E6--><a href=\"psysml:4b320237-d900-4f83-8ac2-28b55b9df163\" target=\"_top\" title=\"psysml:4b320237-d900-4f83-8ac2-28b55b9df163\" xlink:actuate=\"onRequest\" xlink:href=\"psysml:4b320237-d900-4f83-8ac2-28b55b9df163\" xlink:show=\"new\" xlink:title=\"psysml:4b320237-d900-4f83-8ac2-28b55b9df163\" xlink:type=\"simple\"><path d=\"M76.41,130.3 C80.65,218.79 89,393 89,393 C89,393 96.11,426.2 102.06,453.95 \" fill=\"none\" id=\"E10&lt;-E6\" style=\"stroke: #383838; stroke-width: 1.0;\"/><polygon fill=\"#FFFFFF\" points=\"75.78,117.13,72.0748,123.3164,76.3602,129.116,80.0654,122.9296,75.78,117.13\" style=\"stroke: #383838; stroke-width: 1.0;\"/><text fill=\"#000000\" font-family=\"sans-serif\" font-size=\"13\" lengthAdjust=\"spacingAndGlyphs\" textLength=\"7\" x=\"86\" y=\"313.0669\">y</text></a><!--MD5=[2b02ac71213fd6c3d729b38446c90cf4]\n",
       "@startuml\r\n",
       "skinparam linetype polyline\r\n",
       "skinparam monochrome true\r\n",
       "skinparam classbackgroundcolor white\r\n",
       "skinparam shadowing false\r\n",
       "skinparam wrapWidth 300\r\n",
       "hide circle\r\n",
       "\r\n",
       "package \"BlockTest\" as E1  [[psysml:c0b99535-16c1-47cf-a8d5-3f20b133a54a ]]  {\r\n",
       "comp usage \"f: A\" as E2  <<(T,blue)part>> [[psysml:20852434-d7cc-411e-aa3b-cae286a1f6f8 ]] {\r\n",
       "}\r\n",
       "comp def \"A\" as E3  <<(T,blue)part def>> [[psysml:cbed5230-ac88-4b7e-9b23-6ffd90d7c059 ]] {\r\n",
       "- - ports - -\r\n",
       "c: C\r\n",
       "}\r\n",
       "comp usage \"b: B\" as E4  <<(T,blue)part>> [[psysml:1e20eef8-b16d-4a20-93fc-2b015416e79a ]] {\r\n",
       "}\r\n",
       "comp def \"B\" as E6  <<(T,blue)part def>> [[psysml:633af2d2-4d32-4996-ac04-a91fff2e720f ]] {\r\n",
       "- - ports - -\r\n",
       "x: ~C\r\n",
       "}\r\n",
       "package \"P\" as E7  [[psysml:fcdcf065-90d4-4da1-8b43-4feb0ab4c03b ]]  {\r\n",
       "}\r\n",
       "comp usage \"a: A\" as E8  <<(T,blue)part>> [[psysml:adeac7a4-0c31-420e-b3fd-609062fb2f41 ]] {\r\n",
       "}\r\n",
       "comp def \"C\" as E10  <<(T,blue)port def>> [[psysml:19a0d075-dfec-4a25-8f91-7b5bd5520f32 ]] {\r\n",
       "- - references - -\r\n",
       "y: A, B <b>as</b> z2 \r\n",
       "}\r\n",
       "E2 - -:|> E3 [[psysml:1f32f64a-cd2f-48b1-a0ff-85d8f5396f29 ]] \r\n",
       "E3 *- - E4 [[psysml:1e20eef8-b16d-4a20-93fc-2b015416e79a ]] \r\n",
       "E4 - -:|> E6 [[psysml:97a379fd-51a7-461f-afe4-84a5f5da2292 ]] \r\n",
       "E6 +- - E7 [[psysml:fcdcf065-90d4-4da1-8b43-4feb0ab4c03b ]] \r\n",
       "E8 - -:|> E3 [[psysml:c8b02122-2142-456b-8199-9bf99e52168e ]] \r\n",
       "E6 *- - E8 [[psysml:adeac7a4-0c31-420e-b3fd-609062fb2f41 ]] \r\n",
       "E10 o- - E3 [[psysml:4b320237-d900-4f83-8ac2-28b55b9df163 ]] : y\r\n",
       "E10 o- - E6 [[psysml:4b320237-d900-4f83-8ac2-28b55b9df163 ]] : y\r\n",
       "}\r\n",
       "@enduml\r\n",
       "\n",
       "PlantUML version 1.2020.13(Sat Jun 13 12:26:38 UTC 2020)\n",
       "(EPL source distribution)\n",
       "Java Runtime: OpenJDK Runtime Environment\n",
       "JVM: OpenJDK 64-Bit Server VM\n",
       "Default Encoding: UTF-8\n",
       "Language: en\n",
       "Country: null\n",
       "--></g></svg>"
      ]
     },
     "execution_count": 9,
     "metadata": {},
     "output_type": "execute_result"
    }
   ],
   "source": [
    "%viz --style=\"POLYLINE\" --view=\"Default\" \"BlockTest\""
   ]
  },
  {
   "cell_type": "code",
   "execution_count": 10,
   "id": "lasting-holly",
   "metadata": {
    "execution": {
     "iopub.execute_input": "2021-03-25T14:59:46.790660Z",
     "iopub.status.busy": "2021-03-25T14:59:46.790062Z",
     "iopub.status.idle": "2021-03-25T14:59:47.383578Z",
     "shell.execute_reply": "2021-03-25T14:59:47.383105Z"
    }
   },
   "outputs": [
    {
     "data": {
      "image/svg+xml": [
       "<?xml version=\"1.0\" encoding=\"UTF-8\" standalone=\"no\"?><svg xmlns=\"http://www.w3.org/2000/svg\" xmlns:xlink=\"http://www.w3.org/1999/xlink\" contentScriptType=\"application/ecmascript\" contentStyleType=\"text/css\" height=\"672px\" preserveAspectRatio=\"none\" style=\"width:231px;height:672px;\" version=\"1.1\" viewBox=\"0 0 231 672\" width=\"231px\" zoomAndPan=\"magnify\"><defs/><g><!--MD5=[fbc87193dbaf4d95561dea2c320d4a47]\n",
       "cluster E1--><a href=\"psysml:c0b99535-16c1-47cf-a8d5-3f20b133a54a\" target=\"_top\" title=\"psysml:c0b99535-16c1-47cf-a8d5-3f20b133a54a\" xlink:actuate=\"onRequest\" xlink:href=\"psysml:c0b99535-16c1-47cf-a8d5-3f20b133a54a\" xlink:show=\"new\" xlink:title=\"psysml:c0b99535-16c1-47cf-a8d5-3f20b133a54a\" xlink:type=\"simple\"><polygon fill=\"#FFFFFF\" points=\"16,6,99,6,106,28.2969,209,28.2969,209,660,16,660,16,6\" style=\"stroke: #000000; stroke-width: 1.5;\"/><line style=\"stroke: #000000; stroke-width: 1.5;\" x1=\"16\" x2=\"106\" y1=\"28.2969\" y2=\"28.2969\"/><text fill=\"#000000\" font-family=\"sans-serif\" font-size=\"14\" font-weight=\"bold\" lengthAdjust=\"spacingAndGlyphs\" textLength=\"77\" x=\"20\" y=\"20.9951\">BlockTest</text></a><!--MD5=[b4997ac47864f28c2f74865a473b2911]\n",
       "class E2--><a href=\"psysml:20852434-d7cc-411e-aa3b-cae286a1f6f8\" target=\"_top\" title=\"psysml:20852434-d7cc-411e-aa3b-cae286a1f6f8\" xlink:actuate=\"onRequest\" xlink:href=\"psysml:20852434-d7cc-411e-aa3b-cae286a1f6f8\" xlink:show=\"new\" xlink:title=\"psysml:20852434-d7cc-411e-aa3b-cae286a1f6f8\" xlink:type=\"simple\"><rect fill=\"#FFFFFF\" height=\"45.9375\" id=\"E2\" rx=\"10\" ry=\"10\" style=\"stroke: #383838; stroke-width: 1.5;\" width=\"42\" x=\"151\" y=\"56\"/><text fill=\"#000000\" font-family=\"sans-serif\" font-size=\"12\" font-style=\"italic\" lengthAdjust=\"spacingAndGlyphs\" textLength=\"40\" x=\"152\" y=\"72.1387\">«part»</text><text fill=\"#000000\" font-family=\"sans-serif\" font-size=\"12\" lengthAdjust=\"spacingAndGlyphs\" textLength=\"20\" x=\"162\" y=\"86.1074\">f: A</text><line style=\"stroke: #383838; stroke-width: 1.5;\" x1=\"152\" x2=\"192\" y1=\"93.9375\" y2=\"93.9375\"/></a><!--MD5=[09b614a08d8cba4a07c9adeb5e0fee81]\n",
       "class E3--><a href=\"psysml:cbed5230-ac88-4b7e-9b23-6ffd90d7c059\" target=\"_top\" title=\"psysml:cbed5230-ac88-4b7e-9b23-6ffd90d7c059\" xlink:actuate=\"onRequest\" xlink:href=\"psysml:cbed5230-ac88-4b7e-9b23-6ffd90d7c059\" xlink:show=\"new\" xlink:title=\"psysml:cbed5230-ac88-4b7e-9b23-6ffd90d7c059\" xlink:type=\"simple\"><rect fill=\"#FFFFFF\" height=\"75.5469\" id=\"E3\" style=\"stroke: #383838; stroke-width: 1.5;\" width=\"66\" x=\"118\" y=\"194\"/><text fill=\"#000000\" font-family=\"sans-serif\" font-size=\"12\" font-style=\"italic\" lengthAdjust=\"spacingAndGlyphs\" textLength=\"64\" x=\"119\" y=\"210.1387\">«part def»</text><text fill=\"#000000\" font-family=\"sans-serif\" font-size=\"12\" lengthAdjust=\"spacingAndGlyphs\" textLength=\"8\" x=\"147\" y=\"224.1074\">A</text><line style=\"stroke: #383838; stroke-width: 1.5;\" x1=\"119\" x2=\"183\" y1=\"231.9375\" y2=\"231.9375\"/><text fill=\"#000000\" font-family=\"sans-serif\" font-size=\"11\" lengthAdjust=\"spacingAndGlyphs\" textLength=\"22\" x=\"124\" y=\"262.9526\">c: C</text><line style=\"stroke: #383838; stroke-width: 1.0;\" x1=\"119\" x2=\"136\" y1=\"246.3398\" y2=\"246.3398\"/><text fill=\"#000000\" font-family=\"sans-serif\" font-size=\"11\" lengthAdjust=\"spacingAndGlyphs\" textLength=\"30\" x=\"136\" y=\"249.6479\">ports</text><line style=\"stroke: #383838; stroke-width: 1.0;\" x1=\"166\" x2=\"183\" y1=\"246.3398\" y2=\"246.3398\"/></a><!--MD5=[ebbe1d658d1005bcc118a6aa81145e00]\n",
       "class E4--><a href=\"psysml:1e20eef8-b16d-4a20-93fc-2b015416e79a\" target=\"_top\" title=\"psysml:1e20eef8-b16d-4a20-93fc-2b015416e79a\" xlink:actuate=\"onRequest\" xlink:href=\"psysml:1e20eef8-b16d-4a20-93fc-2b015416e79a\" xlink:show=\"new\" xlink:title=\"psysml:1e20eef8-b16d-4a20-93fc-2b015416e79a\" xlink:type=\"simple\"><rect fill=\"#FFFFFF\" height=\"45.9375\" id=\"E4\" rx=\"10\" ry=\"10\" style=\"stroke: #383838; stroke-width: 1.5;\" width=\"42\" x=\"106\" y=\"347\"/><text fill=\"#000000\" font-family=\"sans-serif\" font-size=\"12\" font-style=\"italic\" lengthAdjust=\"spacingAndGlyphs\" textLength=\"40\" x=\"107\" y=\"363.1387\">«part»</text><text fill=\"#000000\" font-family=\"sans-serif\" font-size=\"12\" lengthAdjust=\"spacingAndGlyphs\" textLength=\"24\" x=\"115\" y=\"377.1074\">b: B</text><line style=\"stroke: #383838; stroke-width: 1.5;\" x1=\"107\" x2=\"147\" y1=\"384.9375\" y2=\"384.9375\"/></a><!--MD5=[60a26617385b1d2d0262a64233df1f8d]\n",
       "class E6--><a href=\"psysml:633af2d2-4d32-4996-ac04-a91fff2e720f\" target=\"_top\" title=\"psysml:633af2d2-4d32-4996-ac04-a91fff2e720f\" xlink:actuate=\"onRequest\" xlink:href=\"psysml:633af2d2-4d32-4996-ac04-a91fff2e720f\" xlink:show=\"new\" xlink:title=\"psysml:633af2d2-4d32-4996-ac04-a91fff2e720f\" xlink:type=\"simple\"><rect fill=\"#FFFFFF\" height=\"75.5469\" id=\"E6\" style=\"stroke: #383838; stroke-width: 1.5;\" width=\"66\" x=\"77\" y=\"454\"/><text fill=\"#000000\" font-family=\"sans-serif\" font-size=\"12\" font-style=\"italic\" lengthAdjust=\"spacingAndGlyphs\" textLength=\"64\" x=\"78\" y=\"470.1387\">«part def»</text><text fill=\"#000000\" font-family=\"sans-serif\" font-size=\"12\" lengthAdjust=\"spacingAndGlyphs\" textLength=\"8\" x=\"106\" y=\"484.1074\">B</text><line style=\"stroke: #383838; stroke-width: 1.5;\" x1=\"78\" x2=\"142\" y1=\"491.9375\" y2=\"491.9375\"/><text fill=\"#000000\" font-family=\"sans-serif\" font-size=\"11\" lengthAdjust=\"spacingAndGlyphs\" textLength=\"31\" x=\"83\" y=\"522.9526\">x: ~C</text><line style=\"stroke: #383838; stroke-width: 1.0;\" x1=\"78\" x2=\"95\" y1=\"506.3398\" y2=\"506.3398\"/><text fill=\"#000000\" font-family=\"sans-serif\" font-size=\"11\" lengthAdjust=\"spacingAndGlyphs\" textLength=\"30\" x=\"95\" y=\"509.6479\">ports</text><line style=\"stroke: #383838; stroke-width: 1.0;\" x1=\"125\" x2=\"142\" y1=\"506.3398\" y2=\"506.3398\"/></a><!--MD5=[b9389687b975829384b498ac4b7476b2]\n",
       "class E8--><a href=\"psysml:adeac7a4-0c31-420e-b3fd-609062fb2f41\" target=\"_top\" title=\"psysml:adeac7a4-0c31-420e-b3fd-609062fb2f41\" xlink:actuate=\"onRequest\" xlink:href=\"psysml:adeac7a4-0c31-420e-b3fd-609062fb2f41\" xlink:show=\"new\" xlink:title=\"psysml:adeac7a4-0c31-420e-b3fd-609062fb2f41\" xlink:type=\"simple\"><rect fill=\"#FFFFFF\" height=\"45.9375\" id=\"E8\" rx=\"10\" ry=\"10\" style=\"stroke: #383838; stroke-width: 1.5;\" width=\"42\" x=\"151\" y=\"594.5\"/><text fill=\"#000000\" font-family=\"sans-serif\" font-size=\"12\" font-style=\"italic\" lengthAdjust=\"spacingAndGlyphs\" textLength=\"40\" x=\"152\" y=\"610.6387\">«part»</text><text fill=\"#000000\" font-family=\"sans-serif\" font-size=\"12\" lengthAdjust=\"spacingAndGlyphs\" textLength=\"24\" x=\"160\" y=\"624.6074\">a: A</text><line style=\"stroke: #383838; stroke-width: 1.5;\" x1=\"152\" x2=\"192\" y1=\"632.4375\" y2=\"632.4375\"/></a><!--MD5=[96f4274e9e20536e775497830990834d]\n",
       "class E10--><a href=\"psysml:19a0d075-dfec-4a25-8f91-7b5bd5520f32\" target=\"_top\" title=\"psysml:19a0d075-dfec-4a25-8f91-7b5bd5520f32\" xlink:actuate=\"onRequest\" xlink:href=\"psysml:19a0d075-dfec-4a25-8f91-7b5bd5520f32\" xlink:show=\"new\" xlink:title=\"psysml:19a0d075-dfec-4a25-8f91-7b5bd5520f32\" xlink:type=\"simple\"><rect fill=\"#FFFFFF\" height=\"75.5469\" id=\"E10\" style=\"stroke: #383838; stroke-width: 1.5;\" width=\"84\" x=\"32\" y=\"41\"/><text fill=\"#000000\" font-family=\"sans-serif\" font-size=\"12\" font-style=\"italic\" lengthAdjust=\"spacingAndGlyphs\" textLength=\"64\" x=\"42\" y=\"57.1387\">«port def»</text><text fill=\"#000000\" font-family=\"sans-serif\" font-size=\"12\" lengthAdjust=\"spacingAndGlyphs\" textLength=\"8\" x=\"70\" y=\"71.1074\">C</text><line style=\"stroke: #383838; stroke-width: 1.5;\" x1=\"33\" x2=\"115\" y1=\"78.9375\" y2=\"78.9375\"/><text fill=\"#000000\" font-family=\"sans-serif\" font-size=\"11\" lengthAdjust=\"spacingAndGlyphs\" textLength=\"37\" x=\"38\" y=\"109.9526\">y: A, B</text><text fill=\"#000000\" font-family=\"sans-serif\" font-size=\"11\" font-weight=\"bold\" lengthAdjust=\"spacingAndGlyphs\" textLength=\"15\" x=\"79\" y=\"109.9526\">as</text><text fill=\"#000000\" font-family=\"sans-serif\" font-size=\"11\" lengthAdjust=\"spacingAndGlyphs\" textLength=\"12\" x=\"98\" y=\"109.9526\">z2</text><line style=\"stroke: #383838; stroke-width: 1.0;\" x1=\"33\" x2=\"43\" y1=\"93.3398\" y2=\"93.3398\"/><text fill=\"#000000\" font-family=\"sans-serif\" font-size=\"11\" lengthAdjust=\"spacingAndGlyphs\" textLength=\"62\" x=\"43\" y=\"96.6479\">references</text><line style=\"stroke: #383838; stroke-width: 1.0;\" x1=\"105\" x2=\"115\" y1=\"93.3398\" y2=\"93.3398\"/></a><a href=\"psysml:fcdcf065-90d4-4da1-8b43-4feb0ab4c03b\" target=\"_top\" title=\"psysml:fcdcf065-90d4-4da1-8b43-4feb0ab4c03b\" xlink:actuate=\"onRequest\" xlink:href=\"psysml:fcdcf065-90d4-4da1-8b43-4feb0ab4c03b\" xlink:show=\"new\" xlink:title=\"psysml:fcdcf065-90d4-4da1-8b43-4feb0ab4c03b\" xlink:type=\"simple\"><polygon fill=\"#FFFFFF\" points=\"86,591,102,591,109,613.2969,116,613.2969,116,643.5938,86,643.5938,86,591\" style=\"stroke: #000000; stroke-width: 1.5;\"/><line style=\"stroke: #000000; stroke-width: 1.5;\" x1=\"86\" x2=\"109\" y1=\"613.2969\" y2=\"613.2969\"/><text fill=\"#000000\" font-family=\"sans-serif\" font-size=\"14\" font-weight=\"bold\" lengthAdjust=\"spacingAndGlyphs\" textLength=\"10\" x=\"90\" y=\"605.9951\">P</text></a><!--MD5=[2720a5a1f2c3fca2055b230370638851]\n",
       "link E2 to E3--><a href=\"psysml:1f32f64a-cd2f-48b1-a0ff-85d8f5396f29\" target=\"_top\" title=\"psysml:1f32f64a-cd2f-48b1-a0ff-85d8f5396f29\" xlink:actuate=\"onRequest\" xlink:href=\"psysml:1f32f64a-cd2f-48b1-a0ff-85d8f5396f29\" xlink:show=\"new\" xlink:title=\"psysml:1f32f64a-cd2f-48b1-a0ff-85d8f5396f29\" xlink:type=\"simple\"><path d=\"M168.9,102.28 C166.28,121.12 162.41,148.97 158.94,173.94 \" fill=\"none\" id=\"E2-&gt;E3\" style=\"stroke: #383838; stroke-width: 1.0;\"/><polygon fill=\"#FFFFFF\" points=\"156.15,193.98,151.8354,174.1966,165.7018,176.1261,156.15,193.98\" style=\"stroke: #383838; stroke-width: 1.0;\"/><ellipse cx=\"154.6019\" cy=\"168.8266\" fill=\"#383838\" rx=\"2\" ry=\"2\" style=\"stroke: #383838; stroke-width: 1.0;\"/><ellipse cx=\"164.5065\" cy=\"170.2048\" fill=\"#383838\" rx=\"2\" ry=\"2\" style=\"stroke: #383838; stroke-width: 1.0;\"/></a><!--MD5=[4672eba38e49728da53d11aeb285b987]\n",
       "reverse link E3 to E4--><a href=\"psysml:1e20eef8-b16d-4a20-93fc-2b015416e79a\" target=\"_top\" title=\"psysml:1e20eef8-b16d-4a20-93fc-2b015416e79a\" xlink:actuate=\"onRequest\" xlink:href=\"psysml:1e20eef8-b16d-4a20-93fc-2b015416e79a\" xlink:show=\"new\" xlink:title=\"psysml:1e20eef8-b16d-4a20-93fc-2b015416e79a\" xlink:type=\"simple\"><path d=\"M142.17,283.02 C138.31,304.93 133.97,329.52 130.92,346.77 \" fill=\"none\" id=\"E3&lt;-E4\" style=\"stroke: #383838; stroke-width: 1.0;\"/><polygon fill=\"#383838\" points=\"144.44,270.16,139.4532,275.3688,142.3433,281.9754,147.3301,276.7666,144.44,270.16\" style=\"stroke: #383838; stroke-width: 1.0;\"/></a><!--MD5=[79568f1e445c3877b6a54524624ccc7d]\n",
       "link E4 to E6--><a href=\"psysml:97a379fd-51a7-461f-afe4-84a5f5da2292\" target=\"_top\" title=\"psysml:97a379fd-51a7-461f-afe4-84a5f5da2292\" xlink:actuate=\"onRequest\" xlink:href=\"psysml:97a379fd-51a7-461f-afe4-84a5f5da2292\" xlink:show=\"new\" xlink:title=\"psysml:97a379fd-51a7-461f-afe4-84a5f5da2292\" xlink:type=\"simple\"><path d=\"M123.88,393.01 C122.25,404.51 120.18,419.17 118.13,433.62 \" fill=\"none\" id=\"E4-&gt;E6\" style=\"stroke: #383838; stroke-width: 1.0;\"/><polygon fill=\"#FFFFFF\" points=\"115.3,453.57,111.0294,433.777,124.8914,435.7373,115.3,453.57\" style=\"stroke: #383838; stroke-width: 1.0;\"/><ellipse cx=\"113.8078\" cy=\"428.4132\" fill=\"#383838\" rx=\"2\" ry=\"2\" style=\"stroke: #383838; stroke-width: 1.0;\"/><ellipse cx=\"123.7093\" cy=\"429.8134\" fill=\"#383838\" rx=\"2\" ry=\"2\" style=\"stroke: #383838; stroke-width: 1.0;\"/></a><!--MD5=[3f50a3473f1dfb74d3f76443e03635af]\n",
       "reverse link E6 to E7--><a href=\"psysml:fcdcf065-90d4-4da1-8b43-4feb0ab4c03b\" target=\"_top\" title=\"psysml:fcdcf065-90d4-4da1-8b43-4feb0ab4c03b\" xlink:actuate=\"onRequest\" xlink:href=\"psysml:fcdcf065-90d4-4da1-8b43-4feb0ab4c03b\" xlink:show=\"new\" xlink:title=\"psysml:fcdcf065-90d4-4da1-8b43-4feb0ab4c03b\" xlink:type=\"simple\"><path d=\"M106.18,545.35 C105.04,561.08 103.83,577.65 102.87,590.83 \" fill=\"none\" id=\"E6&lt;-E7\" style=\"stroke: #383838; stroke-width: 1.0;\"/><ellipse cx=\"106.7138\" cy=\"538.0285\" fill=\"#FFFFFF\" rx=\"8\" ry=\"8\" style=\"stroke: #383838; stroke-width: 1.0;\"/><line style=\"stroke: #383838; stroke-width: 1.0;\" x1=\"106.1276\" x2=\"107.3\" y1=\"546.007\" y2=\"530.05\"/><line style=\"stroke: #383838; stroke-width: 1.0;\" x1=\"98.7353\" x2=\"114.6923\" y1=\"537.4423\" y2=\"538.6147\"/></a><!--MD5=[95fa686b5a16158bcdbcaeead89f639b]\n",
       "link E8 to E3--><a href=\"psysml:c8b02122-2142-456b-8199-9bf99e52168e\" target=\"_top\" title=\"psysml:c8b02122-2142-456b-8199-9bf99e52168e\" xlink:actuate=\"onRequest\" xlink:href=\"psysml:c8b02122-2142-456b-8199-9bf99e52168e\" xlink:show=\"new\" xlink:title=\"psysml:c8b02122-2142-456b-8199-9bf99e52168e\" xlink:type=\"simple\"><path d=\"M171.51,594.45 C170.08,530.08 166,347 166,347 C166,347 162.24,318.43 158.49,289.89 \" fill=\"none\" id=\"E8-&gt;E3\" style=\"stroke: #383838; stroke-width: 1.0;\"/><polygon fill=\"#FFFFFF\" points=\"155.87,270.01,165.2808,287.9387,151.3996,289.7588,155.87,270.01\" style=\"stroke: #383838; stroke-width: 1.0;\"/><ellipse cx=\"164.0388\" cy=\"293.8503\" fill=\"#383838\" rx=\"2\" ry=\"2\" style=\"stroke: #383838; stroke-width: 1.0;\"/><ellipse cx=\"154.1237\" cy=\"295.1504\" fill=\"#383838\" rx=\"2\" ry=\"2\" style=\"stroke: #383838; stroke-width: 1.0;\"/></a><!--MD5=[f4cf0736d43fd73c4ef68817c49d37d5]\n",
       "reverse link E6 to E8--><a href=\"psysml:adeac7a4-0c31-420e-b3fd-609062fb2f41\" target=\"_top\" title=\"psysml:adeac7a4-0c31-420e-b3fd-609062fb2f41\" xlink:actuate=\"onRequest\" xlink:href=\"psysml:adeac7a4-0c31-420e-b3fd-609062fb2f41\" xlink:show=\"new\" xlink:title=\"psysml:adeac7a4-0c31-420e-b3fd-609062fb2f41\" xlink:type=\"simple\"><path d=\"M134.44,541.68 C143.55,559.83 153.45,579.55 160.8,594.19 \" fill=\"none\" id=\"E6&lt;-E8\" style=\"stroke: #383838; stroke-width: 1.0;\"/><polygon fill=\"#383838\" points=\"128.6,530.05,127.7161,537.2067,133.9824,540.7752,134.8663,533.6185,128.6,530.05\" style=\"stroke: #383838; stroke-width: 1.0;\"/></a><!--MD5=[8e04057e7b3cbc0dca4fc78ea351e2da]\n",
       "reverse link E10 to E3--><a href=\"psysml:4b320237-d900-4f83-8ac2-28b55b9df163\" target=\"_top\" title=\"psysml:4b320237-d900-4f83-8ac2-28b55b9df163\" xlink:actuate=\"onRequest\" xlink:href=\"psysml:4b320237-d900-4f83-8ac2-28b55b9df163\" xlink:show=\"new\" xlink:title=\"psysml:4b320237-d900-4f83-8ac2-28b55b9df163\" xlink:type=\"simple\"><path d=\"M98.98,128.98 C109.72,150.06 122.08,174.29 132.05,193.84 \" fill=\"none\" id=\"E10&lt;-E3\" style=\"stroke: #383838; stroke-width: 1.0;\"/><polygon fill=\"#FFFFFF\" points=\"93.03,117.33,92.1919,124.4922,98.4809,128.0206,99.319,120.8583,93.03,117.33\" style=\"stroke: #383838; stroke-width: 1.0;\"/><text fill=\"#000000\" font-family=\"sans-serif\" font-size=\"13\" lengthAdjust=\"spacingAndGlyphs\" textLength=\"7\" x=\"115\" y=\"160.0669\">y</text></a><!--MD5=[604cbf994c02b74b117f728a71673cea]\n",
       "reverse link E10 to E6--><a href=\"psysml:4b320237-d900-4f83-8ac2-28b55b9df163\" target=\"_top\" title=\"psysml:4b320237-d900-4f83-8ac2-28b55b9df163\" xlink:actuate=\"onRequest\" xlink:href=\"psysml:4b320237-d900-4f83-8ac2-28b55b9df163\" xlink:show=\"new\" xlink:title=\"psysml:4b320237-d900-4f83-8ac2-28b55b9df163\" xlink:type=\"simple\"><path d=\"M76.41,130.3 C80.65,218.79 89,393 89,393 C89,393 96.11,426.2 102.06,453.95 \" fill=\"none\" id=\"E10&lt;-E6\" style=\"stroke: #383838; stroke-width: 1.0;\"/><polygon fill=\"#FFFFFF\" points=\"75.78,117.13,72.0748,123.3164,76.3602,129.116,80.0654,122.9296,75.78,117.13\" style=\"stroke: #383838; stroke-width: 1.0;\"/><text fill=\"#000000\" font-family=\"sans-serif\" font-size=\"13\" lengthAdjust=\"spacingAndGlyphs\" textLength=\"7\" x=\"86\" y=\"313.0669\">y</text></a><!--MD5=[2b02ac71213fd6c3d729b38446c90cf4]\n",
       "@startuml\r\n",
       "skinparam linetype polyline\r\n",
       "skinparam monochrome true\r\n",
       "skinparam classbackgroundcolor white\r\n",
       "skinparam shadowing false\r\n",
       "skinparam wrapWidth 300\r\n",
       "hide circle\r\n",
       "\r\n",
       "package \"BlockTest\" as E1  [[psysml:c0b99535-16c1-47cf-a8d5-3f20b133a54a ]]  {\r\n",
       "comp usage \"f: A\" as E2  <<(T,blue)part>> [[psysml:20852434-d7cc-411e-aa3b-cae286a1f6f8 ]] {\r\n",
       "}\r\n",
       "comp def \"A\" as E3  <<(T,blue)part def>> [[psysml:cbed5230-ac88-4b7e-9b23-6ffd90d7c059 ]] {\r\n",
       "- - ports - -\r\n",
       "c: C\r\n",
       "}\r\n",
       "comp usage \"b: B\" as E4  <<(T,blue)part>> [[psysml:1e20eef8-b16d-4a20-93fc-2b015416e79a ]] {\r\n",
       "}\r\n",
       "comp def \"B\" as E6  <<(T,blue)part def>> [[psysml:633af2d2-4d32-4996-ac04-a91fff2e720f ]] {\r\n",
       "- - ports - -\r\n",
       "x: ~C\r\n",
       "}\r\n",
       "package \"P\" as E7  [[psysml:fcdcf065-90d4-4da1-8b43-4feb0ab4c03b ]]  {\r\n",
       "}\r\n",
       "comp usage \"a: A\" as E8  <<(T,blue)part>> [[psysml:adeac7a4-0c31-420e-b3fd-609062fb2f41 ]] {\r\n",
       "}\r\n",
       "comp def \"C\" as E10  <<(T,blue)port def>> [[psysml:19a0d075-dfec-4a25-8f91-7b5bd5520f32 ]] {\r\n",
       "- - references - -\r\n",
       "y: A, B <b>as</b> z2 \r\n",
       "}\r\n",
       "E2 - -:|> E3 [[psysml:1f32f64a-cd2f-48b1-a0ff-85d8f5396f29 ]] \r\n",
       "E3 *- - E4 [[psysml:1e20eef8-b16d-4a20-93fc-2b015416e79a ]] \r\n",
       "E4 - -:|> E6 [[psysml:97a379fd-51a7-461f-afe4-84a5f5da2292 ]] \r\n",
       "E6 +- - E7 [[psysml:fcdcf065-90d4-4da1-8b43-4feb0ab4c03b ]] \r\n",
       "E8 - -:|> E3 [[psysml:c8b02122-2142-456b-8199-9bf99e52168e ]] \r\n",
       "E6 *- - E8 [[psysml:adeac7a4-0c31-420e-b3fd-609062fb2f41 ]] \r\n",
       "E10 o- - E3 [[psysml:4b320237-d900-4f83-8ac2-28b55b9df163 ]] : y\r\n",
       "E10 o- - E6 [[psysml:4b320237-d900-4f83-8ac2-28b55b9df163 ]] : y\r\n",
       "}\r\n",
       "@enduml\r\n",
       "\n",
       "PlantUML version 1.2020.13(Sat Jun 13 12:26:38 UTC 2020)\n",
       "(EPL source distribution)\n",
       "Java Runtime: OpenJDK Runtime Environment\n",
       "JVM: OpenJDK 64-Bit Server VM\n",
       "Default Encoding: UTF-8\n",
       "Language: en\n",
       "Country: null\n",
       "--></g></svg>"
      ]
     },
     "execution_count": 10,
     "metadata": {},
     "output_type": "execute_result"
    }
   ],
   "source": [
    "%viz --style=\"POLYLINE\" --view=\"Tree\" \"BlockTest\""
   ]
  },
  {
   "cell_type": "code",
   "execution_count": 11,
   "id": "thrown-hacker",
   "metadata": {
    "execution": {
     "iopub.execute_input": "2021-03-25T14:59:47.434258Z",
     "iopub.status.busy": "2021-03-25T14:59:47.432405Z",
     "iopub.status.idle": "2021-03-25T14:59:47.444255Z",
     "shell.execute_reply": "2021-03-25T14:59:47.443729Z"
    }
   },
   "outputs": [
    {
     "data": {
      "image/svg+xml": [
       "<?xml version=\"1.0\" encoding=\"UTF-8\" standalone=\"no\"?><svg xmlns=\"http://www.w3.org/2000/svg\" xmlns:xlink=\"http://www.w3.org/1999/xlink\" contentScriptType=\"application/ecmascript\" contentStyleType=\"text/css\" height=\"12px\" preserveAspectRatio=\"none\" style=\"width:12px;height:12px;\" version=\"1.1\" viewBox=\"0 0 12 12\" width=\"12px\" zoomAndPan=\"magnify\"><defs/><g><!--MD5=[896ac0e7a515d8dd7765a661cb4ee08b]\n",
       "@startuml\r\n",
       "skinparam linetype polyline\r\n",
       "skinparam monochrome true\r\n",
       "skinparam classbackgroundcolor white\r\n",
       "skinparam shadowing false\r\n",
       "skinparam wrapWidth 300\r\n",
       "hide circle\r\n",
       "\r\n",
       "@enduml\r\n",
       "\n",
       "PlantUML version 1.2020.13(Sat Jun 13 12:26:38 UTC 2020)\n",
       "(EPL source distribution)\n",
       "Java Runtime: OpenJDK Runtime Environment\n",
       "JVM: OpenJDK 64-Bit Server VM\n",
       "Default Encoding: UTF-8\n",
       "Language: en\n",
       "Country: null\n",
       "--></g></svg>"
      ]
     },
     "execution_count": 11,
     "metadata": {},
     "output_type": "execute_result"
    }
   ],
   "source": [
    "%viz --style=\"POLYLINE\" --view=\"State\" \"BlockTest\""
   ]
  },
  {
   "cell_type": "code",
   "execution_count": 12,
   "id": "collect-period",
   "metadata": {
    "execution": {
     "iopub.execute_input": "2021-03-25T14:59:47.496389Z",
     "iopub.status.busy": "2021-03-25T14:59:47.495236Z",
     "iopub.status.idle": "2021-03-25T14:59:47.631426Z",
     "shell.execute_reply": "2021-03-25T14:59:47.627198Z"
    }
   },
   "outputs": [
    {
     "data": {
      "image/svg+xml": [
       "<?xml version=\"1.0\" encoding=\"UTF-8\" standalone=\"no\"?><svg xmlns=\"http://www.w3.org/2000/svg\" xmlns:xlink=\"http://www.w3.org/1999/xlink\" contentScriptType=\"application/ecmascript\" contentStyleType=\"text/css\" height=\"256px\" preserveAspectRatio=\"none\" style=\"width:590px;height:256px;\" version=\"1.1\" viewBox=\"0 0 590 256\" width=\"590px\" zoomAndPan=\"magnify\"><defs/><g><!--MD5=[fbc87193dbaf4d95561dea2c320d4a47]\n",
       "cluster E1--><a href=\"psysml:c0b99535-16c1-47cf-a8d5-3f20b133a54a\" target=\"_top\" title=\"psysml:c0b99535-16c1-47cf-a8d5-3f20b133a54a\" xlink:actuate=\"onRequest\" xlink:href=\"psysml:c0b99535-16c1-47cf-a8d5-3f20b133a54a\" xlink:show=\"new\" xlink:title=\"psysml:c0b99535-16c1-47cf-a8d5-3f20b133a54a\" xlink:type=\"simple\"><polygon fill=\"#FFFFFF\" points=\"16,6,99,6,106,28.2969,568,28.2969,568,244,16,244,16,6\" style=\"stroke: #000000; stroke-width: 1.5;\"/><line style=\"stroke: #000000; stroke-width: 1.5;\" x1=\"16\" x2=\"106\" y1=\"28.2969\" y2=\"28.2969\"/><text fill=\"#000000\" font-family=\"sans-serif\" font-size=\"14\" font-weight=\"bold\" lengthAdjust=\"spacingAndGlyphs\" textLength=\"77\" x=\"20\" y=\"20.9951\">BlockTest</text></a><!--MD5=[d5e69f78d87373223dbae638b30a9c99]\n",
       "cluster E3--><a href=\"psysml:cbed5230-ac88-4b7e-9b23-6ffd90d7c059\" target=\"_top\" title=\"psysml:cbed5230-ac88-4b7e-9b23-6ffd90d7c059\" xlink:actuate=\"onRequest\" xlink:href=\"psysml:cbed5230-ac88-4b7e-9b23-6ffd90d7c059\" xlink:show=\"new\" xlink:title=\"psysml:cbed5230-ac88-4b7e-9b23-6ffd90d7c059\" xlink:type=\"simple\"><rect fill=\"#FFFFFF\" height=\"160\" id=\"E3\" style=\"stroke: #383838; stroke-width: 1.5;\" width=\"120\" x=\"432\" y=\"68\"/><rect fill=\"#F8F8F8\" height=\"37.9375\" style=\"stroke: #383838; stroke-width: 1.5;\" width=\"120\" x=\"432\" y=\"68\"/><text fill=\"#000000\" font-family=\"sans-serif\" font-size=\"12\" font-style=\"italic\" lengthAdjust=\"spacingAndGlyphs\" textLength=\"64\" x=\"460\" y=\"84.1387\">«part def»</text><text fill=\"#000000\" font-family=\"sans-serif\" font-size=\"12\" lengthAdjust=\"spacingAndGlyphs\" textLength=\"8\" x=\"488\" y=\"98.1074\">A</text></a><!--MD5=[14e3b0961a2654348d326746436168a1]\n",
       "cluster E6--><a href=\"psysml:633af2d2-4d32-4996-ac04-a91fff2e720f\" target=\"_top\" title=\"psysml:633af2d2-4d32-4996-ac04-a91fff2e720f\" xlink:actuate=\"onRequest\" xlink:href=\"psysml:633af2d2-4d32-4996-ac04-a91fff2e720f\" xlink:show=\"new\" xlink:title=\"psysml:633af2d2-4d32-4996-ac04-a91fff2e720f\" xlink:type=\"simple\"><rect fill=\"#FFFFFF\" height=\"160\" id=\"E6\" style=\"stroke: #383838; stroke-width: 1.5;\" width=\"185\" x=\"239\" y=\"68\"/><rect fill=\"#F8F8F8\" height=\"37.9375\" style=\"stroke: #383838; stroke-width: 1.5;\" width=\"185\" x=\"239\" y=\"68\"/><text fill=\"#000000\" font-family=\"sans-serif\" font-size=\"12\" font-style=\"italic\" lengthAdjust=\"spacingAndGlyphs\" textLength=\"64\" x=\"299.5\" y=\"84.1387\">«part def»</text><text fill=\"#000000\" font-family=\"sans-serif\" font-size=\"12\" lengthAdjust=\"spacingAndGlyphs\" textLength=\"8\" x=\"327.5\" y=\"98.1074\">B</text></a><!--MD5=[96f4274e9e20536e775497830990834d]\n",
       "class E10--><a href=\"psysml:19a0d075-dfec-4a25-8f91-7b5bd5520f32\" target=\"_top\" title=\"psysml:19a0d075-dfec-4a25-8f91-7b5bd5520f32\" xlink:actuate=\"onRequest\" xlink:href=\"psysml:19a0d075-dfec-4a25-8f91-7b5bd5520f32\" xlink:show=\"new\" xlink:title=\"psysml:19a0d075-dfec-4a25-8f91-7b5bd5520f32\" xlink:type=\"simple\"><rect fill=\"#FFFFFF\" height=\"53.9375\" id=\"E10\" style=\"stroke: #383838; stroke-width: 1.5;\" width=\"114\" x=\"117\" y=\"41\"/><text fill=\"#000000\" font-family=\"sans-serif\" font-size=\"12\" font-style=\"italic\" lengthAdjust=\"spacingAndGlyphs\" textLength=\"112\" x=\"118\" y=\"57.1387\">«(T,blue)port def»</text><text fill=\"#000000\" font-family=\"sans-serif\" font-size=\"12\" lengthAdjust=\"spacingAndGlyphs\" textLength=\"8\" x=\"170\" y=\"71.1074\">C</text><line style=\"stroke: #383838; stroke-width: 1.5;\" x1=\"118\" x2=\"230\" y1=\"78.9375\" y2=\"78.9375\"/><line style=\"stroke: #383838; stroke-width: 1.5;\" x1=\"118\" x2=\"230\" y1=\"86.9375\" y2=\"86.9375\"/></a><g id=\"E1.E2\"><a href=\"psysml:20852434-d7cc-411e-aa3b-cae286a1f6f8\" target=\"_top\" title=\"psysml:20852434-d7cc-411e-aa3b-cae286a1f6f8\" xlink:actuate=\"onRequest\" xlink:href=\"psysml:20852434-d7cc-411e-aa3b-cae286a1f6f8\" xlink:show=\"new\" xlink:title=\"psysml:20852434-d7cc-411e-aa3b-cae286a1f6f8\" xlink:type=\"simple\"><rect fill=\"#FFFFFF\" height=\"40\" id=\"E2\" rx=\"10\" ry=\"10\" style=\"stroke: #383838; stroke-width: 1.5;\" width=\"50\" x=\"32\" y=\"48\"/><rect fill=\"#F8F8F8\" height=\"23.9688\" rx=\"10\" ry=\"10\" style=\"stroke: #F8F8F8; stroke-width: 1.5;\" width=\"50\" x=\"32\" y=\"48\"/><rect fill=\"#F8F8F8\" height=\"10\" style=\"stroke: #F8F8F8; stroke-width: 1.5;\" width=\"50\" x=\"32\" y=\"61.9688\"/><rect fill=\"none\" height=\"40\" id=\"E2\" rx=\"10\" ry=\"10\" style=\"stroke: #383838; stroke-width: 1.5;\" width=\"50\" x=\"32\" y=\"48\"/><text fill=\"#000000\" font-family=\"sans-serif\" font-size=\"12\" lengthAdjust=\"spacingAndGlyphs\" textLength=\"20\" x=\"47\" y=\"64.1387\">f: A</text></a></g><text fill=\"#000000\" font-family=\"sans-serif\" font-size=\"14\" lengthAdjust=\"spacingAndGlyphs\" textLength=\"27\" x=\"478.5\" y=\"46.6982\">c: C</text><rect fill=\"#383838\" height=\"12\" style=\"stroke: #F8F8F8; stroke-width: 1.5;\" width=\"12\" x=\"486\" y=\"62\"/><g id=\"E1.E3.E4\"><a href=\"psysml:1e20eef8-b16d-4a20-93fc-2b015416e79a\" target=\"_top\" title=\"psysml:1e20eef8-b16d-4a20-93fc-2b015416e79a\" xlink:actuate=\"onRequest\" xlink:href=\"psysml:1e20eef8-b16d-4a20-93fc-2b015416e79a\" xlink:show=\"new\" xlink:title=\"psysml:1e20eef8-b16d-4a20-93fc-2b015416e79a\" xlink:type=\"simple\"><rect fill=\"#FFFFFF\" height=\"40\" id=\"E4\" rx=\"10\" ry=\"10\" style=\"stroke: #383838; stroke-width: 1.5;\" width=\"50\" x=\"467\" y=\"172\"/><rect fill=\"#F8F8F8\" height=\"23.9688\" rx=\"10\" ry=\"10\" style=\"stroke: #F8F8F8; stroke-width: 1.5;\" width=\"50\" x=\"467\" y=\"172\"/><rect fill=\"#F8F8F8\" height=\"10\" style=\"stroke: #F8F8F8; stroke-width: 1.5;\" width=\"50\" x=\"467\" y=\"185.9688\"/><rect fill=\"none\" height=\"40\" id=\"E4\" rx=\"10\" ry=\"10\" style=\"stroke: #383838; stroke-width: 1.5;\" width=\"50\" x=\"467\" y=\"172\"/><text fill=\"#000000\" font-family=\"sans-serif\" font-size=\"12\" lengthAdjust=\"spacingAndGlyphs\" textLength=\"24\" x=\"480\" y=\"188.1387\">b: B</text></a></g><text fill=\"#000000\" font-family=\"sans-serif\" font-size=\"14\" lengthAdjust=\"spacingAndGlyphs\" textLength=\"38\" x=\"345\" y=\"46.6982\">x: ~C</text><rect fill=\"#383838\" height=\"12\" style=\"stroke: #F8F8F8; stroke-width: 1.5;\" width=\"12\" x=\"358\" y=\"62\"/><a href=\"psysml:fcdcf065-90d4-4da1-8b43-4feb0ab4c03b\" target=\"_top\" title=\"psysml:fcdcf065-90d4-4da1-8b43-4feb0ab4c03b\" xlink:actuate=\"onRequest\" xlink:href=\"psysml:fcdcf065-90d4-4da1-8b43-4feb0ab4c03b\" xlink:show=\"new\" xlink:title=\"psysml:fcdcf065-90d4-4da1-8b43-4feb0ab4c03b\" xlink:type=\"simple\"><polygon fill=\"#FFFFFF\" points=\"255,111,271,111,278,133.2969,285,133.2969,285,163.5938,255,163.5938,255,111\" style=\"stroke: #000000; stroke-width: 1.5;\"/><line style=\"stroke: #000000; stroke-width: 1.5;\" x1=\"255\" x2=\"278\" y1=\"133.2969\" y2=\"133.2969\"/><text fill=\"#000000\" font-family=\"sans-serif\" font-size=\"14\" font-weight=\"bold\" lengthAdjust=\"spacingAndGlyphs\" textLength=\"10\" x=\"259\" y=\"125.9951\">P</text></a><g id=\"E1.E6.E8\"><a href=\"psysml:adeac7a4-0c31-420e-b3fd-609062fb2f41\" target=\"_top\" title=\"psysml:adeac7a4-0c31-420e-b3fd-609062fb2f41\" xlink:actuate=\"onRequest\" xlink:href=\"psysml:adeac7a4-0c31-420e-b3fd-609062fb2f41\" xlink:show=\"new\" xlink:title=\"psysml:adeac7a4-0c31-420e-b3fd-609062fb2f41\" xlink:type=\"simple\"><rect fill=\"#FFFFFF\" height=\"40\" id=\"E8\" rx=\"10\" ry=\"10\" style=\"stroke: #383838; stroke-width: 1.5;\" width=\"50\" x=\"339\" y=\"172\"/><rect fill=\"#F8F8F8\" height=\"23.9688\" rx=\"10\" ry=\"10\" style=\"stroke: #F8F8F8; stroke-width: 1.5;\" width=\"50\" x=\"339\" y=\"172\"/><rect fill=\"#F8F8F8\" height=\"10\" style=\"stroke: #F8F8F8; stroke-width: 1.5;\" width=\"50\" x=\"339\" y=\"185.9688\"/><rect fill=\"none\" height=\"40\" id=\"E8\" rx=\"10\" ry=\"10\" style=\"stroke: #383838; stroke-width: 1.5;\" width=\"50\" x=\"339\" y=\"172\"/><text fill=\"#000000\" font-family=\"sans-serif\" font-size=\"12\" lengthAdjust=\"spacingAndGlyphs\" textLength=\"24\" x=\"352\" y=\"188.1387\">a: A</text></a></g><!--MD5=[dbaa538778b5dbf97c299b8d39914c7d]\n",
       "@startuml\r\n",
       "skinparam ranksep 8\r\n",
       "skinparam rectangle {\r\n",
       " backgroundColor<<block>> LightGreen\r\n",
       "}\r\n",
       "skinparam linetype polyline\r\n",
       "skinparam monochrome true\r\n",
       "skinparam classbackgroundcolor white\r\n",
       "skinparam shadowing false\r\n",
       "skinparam wrapWidth 300\r\n",
       "hide circle\r\n",
       "\r\n",
       "package \"BlockTest\" as E1  [[psysml:c0b99535-16c1-47cf-a8d5-3f20b133a54a ]]  {\r\n",
       "rec usage \"f: A\" as E2  [[psysml:20852434-d7cc-411e-aa3b-cae286a1f6f8 ]] {\r\n",
       "}\r\n",
       "rec def \"A\" as E3  <<(T,blue)part def>> [[psysml:cbed5230-ac88-4b7e-9b23-6ffd90d7c059 ]] {\r\n",
       "rec usage \"b: B\" as E4  [[psysml:1e20eef8-b16d-4a20-93fc-2b015416e79a ]] {\r\n",
       "}\r\n",
       "portin \"c: C\" as E5  <<(T,blue)port>> [[psysml:fb57aec8-8cad-41ed-886b-c51c957131e5 ]] \r\n",
       "}\r\n",
       "rec def \"B\" as E6  <<(T,blue)part def>> [[psysml:633af2d2-4d32-4996-ac04-a91fff2e720f ]] {\r\n",
       "package \"P\" as E7  [[psysml:fcdcf065-90d4-4da1-8b43-4feb0ab4c03b ]]  {\r\n",
       "}\r\n",
       "rec usage \"a: A\" as E8  [[psysml:adeac7a4-0c31-420e-b3fd-609062fb2f41 ]] {\r\n",
       "}\r\n",
       "portin \"x: ~C\" as E9  <<(T,blue)port>> [[psysml:64509ffc-1e29-47d8-8b93-efd607e70ae2 ]] \r\n",
       "}\r\n",
       "def \"C\" as E10  <<(T,blue)port def>> [[psysml:19a0d075-dfec-4a25-8f91-7b5bd5520f32 ]] \r\n",
       "}\r\n",
       "@enduml\r\n",
       "\n",
       "PlantUML version 1.2020.13(Sat Jun 13 12:26:38 UTC 2020)\n",
       "(EPL source distribution)\n",
       "Java Runtime: OpenJDK Runtime Environment\n",
       "JVM: OpenJDK 64-Bit Server VM\n",
       "Default Encoding: UTF-8\n",
       "Language: en\n",
       "Country: null\n",
       "--></g></svg>"
      ]
     },
     "execution_count": 12,
     "metadata": {},
     "output_type": "execute_result"
    }
   ],
   "source": [
    "%viz --style=\"POLYLINE\" --view=\"Interconnection\" \"BlockTest\""
   ]
  },
  {
   "cell_type": "code",
   "execution_count": 13,
   "id": "standing-grade",
   "metadata": {
    "execution": {
     "iopub.execute_input": "2021-03-25T14:59:47.678796Z",
     "iopub.status.busy": "2021-03-25T14:59:47.677846Z",
     "iopub.status.idle": "2021-03-25T14:59:47.692627Z",
     "shell.execute_reply": "2021-03-25T14:59:47.692036Z"
    }
   },
   "outputs": [
    {
     "data": {
      "image/svg+xml": [
       "<?xml version=\"1.0\" encoding=\"UTF-8\" standalone=\"no\"?><svg xmlns=\"http://www.w3.org/2000/svg\" xmlns:xlink=\"http://www.w3.org/1999/xlink\" contentScriptType=\"application/ecmascript\" contentStyleType=\"text/css\" height=\"12px\" preserveAspectRatio=\"none\" style=\"width:12px;height:12px;\" version=\"1.1\" viewBox=\"0 0 12 12\" width=\"12px\" zoomAndPan=\"magnify\"><defs/><g><!--MD5=[97bbf32f66ccd50cbc40d92ea8f5a65e]\n",
       "@startuml\r\n",
       "skinparam ranksep 8\r\n",
       "skinparam linetype polyline\r\n",
       "skinparam monochrome true\r\n",
       "skinparam classbackgroundcolor white\r\n",
       "skinparam shadowing false\r\n",
       "skinparam wrapWidth 300\r\n",
       "hide circle\r\n",
       "\r\n",
       "@enduml\r\n",
       "\n",
       "PlantUML version 1.2020.13(Sat Jun 13 12:26:38 UTC 2020)\n",
       "(EPL source distribution)\n",
       "Java Runtime: OpenJDK Runtime Environment\n",
       "JVM: OpenJDK 64-Bit Server VM\n",
       "Default Encoding: UTF-8\n",
       "Language: en\n",
       "Country: null\n",
       "--></g></svg>"
      ]
     },
     "execution_count": 13,
     "metadata": {},
     "output_type": "execute_result"
    }
   ],
   "source": [
    "%viz --style=\"POLYLINE\" --view=\"Action\" \"BlockTest\""
   ]
  },
  {
   "cell_type": "code",
   "execution_count": 14,
   "id": "emerging-freight",
   "metadata": {
    "execution": {
     "iopub.execute_input": "2021-03-25T14:59:47.744250Z",
     "iopub.status.busy": "2021-03-25T14:59:47.743583Z",
     "iopub.status.idle": "2021-03-25T14:59:48.300692Z",
     "shell.execute_reply": "2021-03-25T14:59:48.301280Z"
    }
   },
   "outputs": [
    {
     "data": {
      "image/svg+xml": [
       "<?xml version=\"1.0\" encoding=\"UTF-8\" standalone=\"no\"?><svg xmlns=\"http://www.w3.org/2000/svg\" xmlns:xlink=\"http://www.w3.org/1999/xlink\" contentScriptType=\"application/ecmascript\" contentStyleType=\"text/css\" height=\"672px\" preserveAspectRatio=\"none\" style=\"width:231px;height:672px;\" version=\"1.1\" viewBox=\"0 0 231 672\" width=\"231px\" zoomAndPan=\"magnify\"><defs/><g><!--MD5=[fbc87193dbaf4d95561dea2c320d4a47]\n",
       "cluster E1--><a href=\"psysml:c0b99535-16c1-47cf-a8d5-3f20b133a54a\" target=\"_top\" title=\"psysml:c0b99535-16c1-47cf-a8d5-3f20b133a54a\" xlink:actuate=\"onRequest\" xlink:href=\"psysml:c0b99535-16c1-47cf-a8d5-3f20b133a54a\" xlink:show=\"new\" xlink:title=\"psysml:c0b99535-16c1-47cf-a8d5-3f20b133a54a\" xlink:type=\"simple\"><polygon fill=\"#FFFFFF\" points=\"16,6,99,6,106,28.2969,209,28.2969,209,660,16,660,16,6\" style=\"stroke: #000000; stroke-width: 1.5;\"/><line style=\"stroke: #000000; stroke-width: 1.5;\" x1=\"16\" x2=\"106\" y1=\"28.2969\" y2=\"28.2969\"/><text fill=\"#000000\" font-family=\"sans-serif\" font-size=\"14\" font-weight=\"bold\" lengthAdjust=\"spacingAndGlyphs\" textLength=\"77\" x=\"20\" y=\"20.9951\">BlockTest</text></a><!--MD5=[b4997ac47864f28c2f74865a473b2911]\n",
       "class E2--><a href=\"psysml:20852434-d7cc-411e-aa3b-cae286a1f6f8\" target=\"_top\" title=\"psysml:20852434-d7cc-411e-aa3b-cae286a1f6f8\" xlink:actuate=\"onRequest\" xlink:href=\"psysml:20852434-d7cc-411e-aa3b-cae286a1f6f8\" xlink:show=\"new\" xlink:title=\"psysml:20852434-d7cc-411e-aa3b-cae286a1f6f8\" xlink:type=\"simple\"><rect fill=\"#FFFFFF\" height=\"45.9375\" id=\"E2\" rx=\"10\" ry=\"10\" style=\"stroke: #383838; stroke-width: 1.5;\" width=\"42\" x=\"151\" y=\"56\"/><text fill=\"#000000\" font-family=\"sans-serif\" font-size=\"12\" font-style=\"italic\" lengthAdjust=\"spacingAndGlyphs\" textLength=\"40\" x=\"152\" y=\"72.1387\">«part»</text><text fill=\"#000000\" font-family=\"sans-serif\" font-size=\"12\" lengthAdjust=\"spacingAndGlyphs\" textLength=\"20\" x=\"162\" y=\"86.1074\">f: A</text><line style=\"stroke: #383838; stroke-width: 1.5;\" x1=\"152\" x2=\"192\" y1=\"93.9375\" y2=\"93.9375\"/></a><!--MD5=[09b614a08d8cba4a07c9adeb5e0fee81]\n",
       "class E3--><a href=\"psysml:cbed5230-ac88-4b7e-9b23-6ffd90d7c059\" target=\"_top\" title=\"psysml:cbed5230-ac88-4b7e-9b23-6ffd90d7c059\" xlink:actuate=\"onRequest\" xlink:href=\"psysml:cbed5230-ac88-4b7e-9b23-6ffd90d7c059\" xlink:show=\"new\" xlink:title=\"psysml:cbed5230-ac88-4b7e-9b23-6ffd90d7c059\" xlink:type=\"simple\"><rect fill=\"#FFFFFF\" height=\"75.5469\" id=\"E3\" style=\"stroke: #383838; stroke-width: 1.5;\" width=\"66\" x=\"118\" y=\"194\"/><text fill=\"#000000\" font-family=\"sans-serif\" font-size=\"12\" font-style=\"italic\" lengthAdjust=\"spacingAndGlyphs\" textLength=\"64\" x=\"119\" y=\"210.1387\">«part def»</text><text fill=\"#000000\" font-family=\"sans-serif\" font-size=\"12\" lengthAdjust=\"spacingAndGlyphs\" textLength=\"8\" x=\"147\" y=\"224.1074\">A</text><line style=\"stroke: #383838; stroke-width: 1.5;\" x1=\"119\" x2=\"183\" y1=\"231.9375\" y2=\"231.9375\"/><text fill=\"#000000\" font-family=\"sans-serif\" font-size=\"11\" lengthAdjust=\"spacingAndGlyphs\" textLength=\"22\" x=\"124\" y=\"262.9526\">c: C</text><line style=\"stroke: #383838; stroke-width: 1.0;\" x1=\"119\" x2=\"136\" y1=\"246.3398\" y2=\"246.3398\"/><text fill=\"#000000\" font-family=\"sans-serif\" font-size=\"11\" lengthAdjust=\"spacingAndGlyphs\" textLength=\"30\" x=\"136\" y=\"249.6479\">ports</text><line style=\"stroke: #383838; stroke-width: 1.0;\" x1=\"166\" x2=\"183\" y1=\"246.3398\" y2=\"246.3398\"/></a><!--MD5=[ebbe1d658d1005bcc118a6aa81145e00]\n",
       "class E4--><a href=\"psysml:1e20eef8-b16d-4a20-93fc-2b015416e79a\" target=\"_top\" title=\"psysml:1e20eef8-b16d-4a20-93fc-2b015416e79a\" xlink:actuate=\"onRequest\" xlink:href=\"psysml:1e20eef8-b16d-4a20-93fc-2b015416e79a\" xlink:show=\"new\" xlink:title=\"psysml:1e20eef8-b16d-4a20-93fc-2b015416e79a\" xlink:type=\"simple\"><rect fill=\"#FFFFFF\" height=\"45.9375\" id=\"E4\" rx=\"10\" ry=\"10\" style=\"stroke: #383838; stroke-width: 1.5;\" width=\"42\" x=\"106\" y=\"347\"/><text fill=\"#000000\" font-family=\"sans-serif\" font-size=\"12\" font-style=\"italic\" lengthAdjust=\"spacingAndGlyphs\" textLength=\"40\" x=\"107\" y=\"363.1387\">«part»</text><text fill=\"#000000\" font-family=\"sans-serif\" font-size=\"12\" lengthAdjust=\"spacingAndGlyphs\" textLength=\"24\" x=\"115\" y=\"377.1074\">b: B</text><line style=\"stroke: #383838; stroke-width: 1.5;\" x1=\"107\" x2=\"147\" y1=\"384.9375\" y2=\"384.9375\"/></a><!--MD5=[60a26617385b1d2d0262a64233df1f8d]\n",
       "class E6--><a href=\"psysml:633af2d2-4d32-4996-ac04-a91fff2e720f\" target=\"_top\" title=\"psysml:633af2d2-4d32-4996-ac04-a91fff2e720f\" xlink:actuate=\"onRequest\" xlink:href=\"psysml:633af2d2-4d32-4996-ac04-a91fff2e720f\" xlink:show=\"new\" xlink:title=\"psysml:633af2d2-4d32-4996-ac04-a91fff2e720f\" xlink:type=\"simple\"><rect fill=\"#FFFFFF\" height=\"75.5469\" id=\"E6\" style=\"stroke: #383838; stroke-width: 1.5;\" width=\"66\" x=\"77\" y=\"454\"/><text fill=\"#000000\" font-family=\"sans-serif\" font-size=\"12\" font-style=\"italic\" lengthAdjust=\"spacingAndGlyphs\" textLength=\"64\" x=\"78\" y=\"470.1387\">«part def»</text><text fill=\"#000000\" font-family=\"sans-serif\" font-size=\"12\" lengthAdjust=\"spacingAndGlyphs\" textLength=\"8\" x=\"106\" y=\"484.1074\">B</text><line style=\"stroke: #383838; stroke-width: 1.5;\" x1=\"78\" x2=\"142\" y1=\"491.9375\" y2=\"491.9375\"/><text fill=\"#000000\" font-family=\"sans-serif\" font-size=\"11\" lengthAdjust=\"spacingAndGlyphs\" textLength=\"31\" x=\"83\" y=\"522.9526\">x: ~C</text><line style=\"stroke: #383838; stroke-width: 1.0;\" x1=\"78\" x2=\"95\" y1=\"506.3398\" y2=\"506.3398\"/><text fill=\"#000000\" font-family=\"sans-serif\" font-size=\"11\" lengthAdjust=\"spacingAndGlyphs\" textLength=\"30\" x=\"95\" y=\"509.6479\">ports</text><line style=\"stroke: #383838; stroke-width: 1.0;\" x1=\"125\" x2=\"142\" y1=\"506.3398\" y2=\"506.3398\"/></a><!--MD5=[b9389687b975829384b498ac4b7476b2]\n",
       "class E8--><a href=\"psysml:adeac7a4-0c31-420e-b3fd-609062fb2f41\" target=\"_top\" title=\"psysml:adeac7a4-0c31-420e-b3fd-609062fb2f41\" xlink:actuate=\"onRequest\" xlink:href=\"psysml:adeac7a4-0c31-420e-b3fd-609062fb2f41\" xlink:show=\"new\" xlink:title=\"psysml:adeac7a4-0c31-420e-b3fd-609062fb2f41\" xlink:type=\"simple\"><rect fill=\"#FFFFFF\" height=\"45.9375\" id=\"E8\" rx=\"10\" ry=\"10\" style=\"stroke: #383838; stroke-width: 1.5;\" width=\"42\" x=\"151\" y=\"594.5\"/><text fill=\"#000000\" font-family=\"sans-serif\" font-size=\"12\" font-style=\"italic\" lengthAdjust=\"spacingAndGlyphs\" textLength=\"40\" x=\"152\" y=\"610.6387\">«part»</text><text fill=\"#000000\" font-family=\"sans-serif\" font-size=\"12\" lengthAdjust=\"spacingAndGlyphs\" textLength=\"24\" x=\"160\" y=\"624.6074\">a: A</text><line style=\"stroke: #383838; stroke-width: 1.5;\" x1=\"152\" x2=\"192\" y1=\"632.4375\" y2=\"632.4375\"/></a><!--MD5=[96f4274e9e20536e775497830990834d]\n",
       "class E10--><a href=\"psysml:19a0d075-dfec-4a25-8f91-7b5bd5520f32\" target=\"_top\" title=\"psysml:19a0d075-dfec-4a25-8f91-7b5bd5520f32\" xlink:actuate=\"onRequest\" xlink:href=\"psysml:19a0d075-dfec-4a25-8f91-7b5bd5520f32\" xlink:show=\"new\" xlink:title=\"psysml:19a0d075-dfec-4a25-8f91-7b5bd5520f32\" xlink:type=\"simple\"><rect fill=\"#FFFFFF\" height=\"75.5469\" id=\"E10\" style=\"stroke: #383838; stroke-width: 1.5;\" width=\"84\" x=\"32\" y=\"41\"/><text fill=\"#000000\" font-family=\"sans-serif\" font-size=\"12\" font-style=\"italic\" lengthAdjust=\"spacingAndGlyphs\" textLength=\"64\" x=\"42\" y=\"57.1387\">«port def»</text><text fill=\"#000000\" font-family=\"sans-serif\" font-size=\"12\" lengthAdjust=\"spacingAndGlyphs\" textLength=\"8\" x=\"70\" y=\"71.1074\">C</text><line style=\"stroke: #383838; stroke-width: 1.5;\" x1=\"33\" x2=\"115\" y1=\"78.9375\" y2=\"78.9375\"/><text fill=\"#000000\" font-family=\"sans-serif\" font-size=\"11\" lengthAdjust=\"spacingAndGlyphs\" textLength=\"37\" x=\"38\" y=\"109.9526\">y: A, B</text><text fill=\"#000000\" font-family=\"sans-serif\" font-size=\"11\" font-weight=\"bold\" lengthAdjust=\"spacingAndGlyphs\" textLength=\"15\" x=\"79\" y=\"109.9526\">as</text><text fill=\"#000000\" font-family=\"sans-serif\" font-size=\"11\" lengthAdjust=\"spacingAndGlyphs\" textLength=\"12\" x=\"98\" y=\"109.9526\">z2</text><line style=\"stroke: #383838; stroke-width: 1.0;\" x1=\"33\" x2=\"43\" y1=\"93.3398\" y2=\"93.3398\"/><text fill=\"#000000\" font-family=\"sans-serif\" font-size=\"11\" lengthAdjust=\"spacingAndGlyphs\" textLength=\"62\" x=\"43\" y=\"96.6479\">references</text><line style=\"stroke: #383838; stroke-width: 1.0;\" x1=\"105\" x2=\"115\" y1=\"93.3398\" y2=\"93.3398\"/></a><a href=\"psysml:fcdcf065-90d4-4da1-8b43-4feb0ab4c03b\" target=\"_top\" title=\"psysml:fcdcf065-90d4-4da1-8b43-4feb0ab4c03b\" xlink:actuate=\"onRequest\" xlink:href=\"psysml:fcdcf065-90d4-4da1-8b43-4feb0ab4c03b\" xlink:show=\"new\" xlink:title=\"psysml:fcdcf065-90d4-4da1-8b43-4feb0ab4c03b\" xlink:type=\"simple\"><polygon fill=\"#FFFFFF\" points=\"86,591,102,591,109,613.2969,116,613.2969,116,643.5938,86,643.5938,86,591\" style=\"stroke: #000000; stroke-width: 1.5;\"/><line style=\"stroke: #000000; stroke-width: 1.5;\" x1=\"86\" x2=\"109\" y1=\"613.2969\" y2=\"613.2969\"/><text fill=\"#000000\" font-family=\"sans-serif\" font-size=\"14\" font-weight=\"bold\" lengthAdjust=\"spacingAndGlyphs\" textLength=\"10\" x=\"90\" y=\"605.9951\">P</text></a><!--MD5=[2720a5a1f2c3fca2055b230370638851]\n",
       "link E2 to E3--><a href=\"psysml:1f32f64a-cd2f-48b1-a0ff-85d8f5396f29\" target=\"_top\" title=\"psysml:1f32f64a-cd2f-48b1-a0ff-85d8f5396f29\" xlink:actuate=\"onRequest\" xlink:href=\"psysml:1f32f64a-cd2f-48b1-a0ff-85d8f5396f29\" xlink:show=\"new\" xlink:title=\"psysml:1f32f64a-cd2f-48b1-a0ff-85d8f5396f29\" xlink:type=\"simple\"><path d=\"M168.9,102.28 C166.28,121.12 162.41,148.97 158.94,173.94 \" fill=\"none\" id=\"E2-&gt;E3\" style=\"stroke: #383838; stroke-width: 1.0;\"/><polygon fill=\"#FFFFFF\" points=\"156.15,193.98,151.8354,174.1966,165.7018,176.1261,156.15,193.98\" style=\"stroke: #383838; stroke-width: 1.0;\"/><ellipse cx=\"154.6019\" cy=\"168.8266\" fill=\"#383838\" rx=\"2\" ry=\"2\" style=\"stroke: #383838; stroke-width: 1.0;\"/><ellipse cx=\"164.5065\" cy=\"170.2048\" fill=\"#383838\" rx=\"2\" ry=\"2\" style=\"stroke: #383838; stroke-width: 1.0;\"/></a><!--MD5=[4672eba38e49728da53d11aeb285b987]\n",
       "reverse link E3 to E4--><a href=\"psysml:1e20eef8-b16d-4a20-93fc-2b015416e79a\" target=\"_top\" title=\"psysml:1e20eef8-b16d-4a20-93fc-2b015416e79a\" xlink:actuate=\"onRequest\" xlink:href=\"psysml:1e20eef8-b16d-4a20-93fc-2b015416e79a\" xlink:show=\"new\" xlink:title=\"psysml:1e20eef8-b16d-4a20-93fc-2b015416e79a\" xlink:type=\"simple\"><path d=\"M142.17,283.02 C138.31,304.93 133.97,329.52 130.92,346.77 \" fill=\"none\" id=\"E3&lt;-E4\" style=\"stroke: #383838; stroke-width: 1.0;\"/><polygon fill=\"#383838\" points=\"144.44,270.16,139.4532,275.3688,142.3433,281.9754,147.3301,276.7666,144.44,270.16\" style=\"stroke: #383838; stroke-width: 1.0;\"/></a><!--MD5=[79568f1e445c3877b6a54524624ccc7d]\n",
       "link E4 to E6--><a href=\"psysml:97a379fd-51a7-461f-afe4-84a5f5da2292\" target=\"_top\" title=\"psysml:97a379fd-51a7-461f-afe4-84a5f5da2292\" xlink:actuate=\"onRequest\" xlink:href=\"psysml:97a379fd-51a7-461f-afe4-84a5f5da2292\" xlink:show=\"new\" xlink:title=\"psysml:97a379fd-51a7-461f-afe4-84a5f5da2292\" xlink:type=\"simple\"><path d=\"M123.88,393.01 C122.25,404.51 120.18,419.17 118.13,433.62 \" fill=\"none\" id=\"E4-&gt;E6\" style=\"stroke: #383838; stroke-width: 1.0;\"/><polygon fill=\"#FFFFFF\" points=\"115.3,453.57,111.0294,433.777,124.8914,435.7373,115.3,453.57\" style=\"stroke: #383838; stroke-width: 1.0;\"/><ellipse cx=\"113.8078\" cy=\"428.4132\" fill=\"#383838\" rx=\"2\" ry=\"2\" style=\"stroke: #383838; stroke-width: 1.0;\"/><ellipse cx=\"123.7093\" cy=\"429.8134\" fill=\"#383838\" rx=\"2\" ry=\"2\" style=\"stroke: #383838; stroke-width: 1.0;\"/></a><!--MD5=[3f50a3473f1dfb74d3f76443e03635af]\n",
       "reverse link E6 to E7--><a href=\"psysml:fcdcf065-90d4-4da1-8b43-4feb0ab4c03b\" target=\"_top\" title=\"psysml:fcdcf065-90d4-4da1-8b43-4feb0ab4c03b\" xlink:actuate=\"onRequest\" xlink:href=\"psysml:fcdcf065-90d4-4da1-8b43-4feb0ab4c03b\" xlink:show=\"new\" xlink:title=\"psysml:fcdcf065-90d4-4da1-8b43-4feb0ab4c03b\" xlink:type=\"simple\"><path d=\"M106.18,545.35 C105.04,561.08 103.83,577.65 102.87,590.83 \" fill=\"none\" id=\"E6&lt;-E7\" style=\"stroke: #383838; stroke-width: 1.0;\"/><ellipse cx=\"106.7138\" cy=\"538.0285\" fill=\"#FFFFFF\" rx=\"8\" ry=\"8\" style=\"stroke: #383838; stroke-width: 1.0;\"/><line style=\"stroke: #383838; stroke-width: 1.0;\" x1=\"106.1276\" x2=\"107.3\" y1=\"546.007\" y2=\"530.05\"/><line style=\"stroke: #383838; stroke-width: 1.0;\" x1=\"98.7353\" x2=\"114.6923\" y1=\"537.4423\" y2=\"538.6147\"/></a><!--MD5=[95fa686b5a16158bcdbcaeead89f639b]\n",
       "link E8 to E3--><a href=\"psysml:c8b02122-2142-456b-8199-9bf99e52168e\" target=\"_top\" title=\"psysml:c8b02122-2142-456b-8199-9bf99e52168e\" xlink:actuate=\"onRequest\" xlink:href=\"psysml:c8b02122-2142-456b-8199-9bf99e52168e\" xlink:show=\"new\" xlink:title=\"psysml:c8b02122-2142-456b-8199-9bf99e52168e\" xlink:type=\"simple\"><path d=\"M171.51,594.45 C170.08,530.08 166,347 166,347 C166,347 162.24,318.43 158.49,289.89 \" fill=\"none\" id=\"E8-&gt;E3\" style=\"stroke: #383838; stroke-width: 1.0;\"/><polygon fill=\"#FFFFFF\" points=\"155.87,270.01,165.2808,287.9387,151.3996,289.7588,155.87,270.01\" style=\"stroke: #383838; stroke-width: 1.0;\"/><ellipse cx=\"164.0388\" cy=\"293.8503\" fill=\"#383838\" rx=\"2\" ry=\"2\" style=\"stroke: #383838; stroke-width: 1.0;\"/><ellipse cx=\"154.1237\" cy=\"295.1504\" fill=\"#383838\" rx=\"2\" ry=\"2\" style=\"stroke: #383838; stroke-width: 1.0;\"/></a><!--MD5=[f4cf0736d43fd73c4ef68817c49d37d5]\n",
       "reverse link E6 to E8--><a href=\"psysml:adeac7a4-0c31-420e-b3fd-609062fb2f41\" target=\"_top\" title=\"psysml:adeac7a4-0c31-420e-b3fd-609062fb2f41\" xlink:actuate=\"onRequest\" xlink:href=\"psysml:adeac7a4-0c31-420e-b3fd-609062fb2f41\" xlink:show=\"new\" xlink:title=\"psysml:adeac7a4-0c31-420e-b3fd-609062fb2f41\" xlink:type=\"simple\"><path d=\"M134.44,541.68 C143.55,559.83 153.45,579.55 160.8,594.19 \" fill=\"none\" id=\"E6&lt;-E8\" style=\"stroke: #383838; stroke-width: 1.0;\"/><polygon fill=\"#383838\" points=\"128.6,530.05,127.7161,537.2067,133.9824,540.7752,134.8663,533.6185,128.6,530.05\" style=\"stroke: #383838; stroke-width: 1.0;\"/></a><!--MD5=[8e04057e7b3cbc0dca4fc78ea351e2da]\n",
       "reverse link E10 to E3--><a href=\"psysml:4b320237-d900-4f83-8ac2-28b55b9df163\" target=\"_top\" title=\"psysml:4b320237-d900-4f83-8ac2-28b55b9df163\" xlink:actuate=\"onRequest\" xlink:href=\"psysml:4b320237-d900-4f83-8ac2-28b55b9df163\" xlink:show=\"new\" xlink:title=\"psysml:4b320237-d900-4f83-8ac2-28b55b9df163\" xlink:type=\"simple\"><path d=\"M98.98,128.98 C109.72,150.06 122.08,174.29 132.05,193.84 \" fill=\"none\" id=\"E10&lt;-E3\" style=\"stroke: #383838; stroke-width: 1.0;\"/><polygon fill=\"#FFFFFF\" points=\"93.03,117.33,92.1919,124.4922,98.4809,128.0206,99.319,120.8583,93.03,117.33\" style=\"stroke: #383838; stroke-width: 1.0;\"/><text fill=\"#000000\" font-family=\"sans-serif\" font-size=\"13\" lengthAdjust=\"spacingAndGlyphs\" textLength=\"7\" x=\"115\" y=\"160.0669\">y</text></a><!--MD5=[604cbf994c02b74b117f728a71673cea]\n",
       "reverse link E10 to E6--><a href=\"psysml:4b320237-d900-4f83-8ac2-28b55b9df163\" target=\"_top\" title=\"psysml:4b320237-d900-4f83-8ac2-28b55b9df163\" xlink:actuate=\"onRequest\" xlink:href=\"psysml:4b320237-d900-4f83-8ac2-28b55b9df163\" xlink:show=\"new\" xlink:title=\"psysml:4b320237-d900-4f83-8ac2-28b55b9df163\" xlink:type=\"simple\"><path d=\"M76.41,130.3 C80.65,218.79 89,393 89,393 C89,393 96.11,426.2 102.06,453.95 \" fill=\"none\" id=\"E10&lt;-E6\" style=\"stroke: #383838; stroke-width: 1.0;\"/><polygon fill=\"#FFFFFF\" points=\"75.78,117.13,72.0748,123.3164,76.3602,129.116,80.0654,122.9296,75.78,117.13\" style=\"stroke: #383838; stroke-width: 1.0;\"/><text fill=\"#000000\" font-family=\"sans-serif\" font-size=\"13\" lengthAdjust=\"spacingAndGlyphs\" textLength=\"7\" x=\"86\" y=\"313.0669\">y</text></a><!--MD5=[2b02ac71213fd6c3d729b38446c90cf4]\n",
       "@startuml\r\n",
       "skinparam linetype polyline\r\n",
       "skinparam monochrome true\r\n",
       "skinparam classbackgroundcolor white\r\n",
       "skinparam shadowing false\r\n",
       "skinparam wrapWidth 300\r\n",
       "hide circle\r\n",
       "\r\n",
       "package \"BlockTest\" as E1  [[psysml:c0b99535-16c1-47cf-a8d5-3f20b133a54a ]]  {\r\n",
       "comp usage \"f: A\" as E2  <<(T,blue)part>> [[psysml:20852434-d7cc-411e-aa3b-cae286a1f6f8 ]] {\r\n",
       "}\r\n",
       "comp def \"A\" as E3  <<(T,blue)part def>> [[psysml:cbed5230-ac88-4b7e-9b23-6ffd90d7c059 ]] {\r\n",
       "- - ports - -\r\n",
       "c: C\r\n",
       "}\r\n",
       "comp usage \"b: B\" as E4  <<(T,blue)part>> [[psysml:1e20eef8-b16d-4a20-93fc-2b015416e79a ]] {\r\n",
       "}\r\n",
       "comp def \"B\" as E6  <<(T,blue)part def>> [[psysml:633af2d2-4d32-4996-ac04-a91fff2e720f ]] {\r\n",
       "- - ports - -\r\n",
       "x: ~C\r\n",
       "}\r\n",
       "package \"P\" as E7  [[psysml:fcdcf065-90d4-4da1-8b43-4feb0ab4c03b ]]  {\r\n",
       "}\r\n",
       "comp usage \"a: A\" as E8  <<(T,blue)part>> [[psysml:adeac7a4-0c31-420e-b3fd-609062fb2f41 ]] {\r\n",
       "}\r\n",
       "comp def \"C\" as E10  <<(T,blue)port def>> [[psysml:19a0d075-dfec-4a25-8f91-7b5bd5520f32 ]] {\r\n",
       "- - references - -\r\n",
       "y: A, B <b>as</b> z2 \r\n",
       "}\r\n",
       "E2 - -:|> E3 [[psysml:1f32f64a-cd2f-48b1-a0ff-85d8f5396f29 ]] \r\n",
       "E3 *- - E4 [[psysml:1e20eef8-b16d-4a20-93fc-2b015416e79a ]] \r\n",
       "E4 - -:|> E6 [[psysml:97a379fd-51a7-461f-afe4-84a5f5da2292 ]] \r\n",
       "E6 +- - E7 [[psysml:fcdcf065-90d4-4da1-8b43-4feb0ab4c03b ]] \r\n",
       "E8 - -:|> E3 [[psysml:c8b02122-2142-456b-8199-9bf99e52168e ]] \r\n",
       "E6 *- - E8 [[psysml:adeac7a4-0c31-420e-b3fd-609062fb2f41 ]] \r\n",
       "E10 o- - E3 [[psysml:4b320237-d900-4f83-8ac2-28b55b9df163 ]] : y\r\n",
       "E10 o- - E6 [[psysml:4b320237-d900-4f83-8ac2-28b55b9df163 ]] : y\r\n",
       "}\r\n",
       "@enduml\r\n",
       "\n",
       "PlantUML version 1.2020.13(Sat Jun 13 12:26:38 UTC 2020)\n",
       "(EPL source distribution)\n",
       "Java Runtime: OpenJDK Runtime Environment\n",
       "JVM: OpenJDK 64-Bit Server VM\n",
       "Default Encoding: UTF-8\n",
       "Language: en\n",
       "Country: null\n",
       "--></g></svg>"
      ]
     },
     "execution_count": 14,
     "metadata": {},
     "output_type": "execute_result"
    }
   ],
   "source": [
    "%viz --style=\"POLYLINE\" --view=\"Sequence\" \"BlockTest\""
   ]
  },
  {
   "cell_type": "code",
   "execution_count": 15,
   "id": "educational-sunset",
   "metadata": {
    "execution": {
     "iopub.execute_input": "2021-03-25T14:59:48.351453Z",
     "iopub.status.busy": "2021-03-25T14:59:48.350524Z",
     "iopub.status.idle": "2021-03-25T14:59:48.872924Z",
     "shell.execute_reply": "2021-03-25T14:59:48.872113Z"
    }
   },
   "outputs": [
    {
     "data": {
      "image/svg+xml": [
       "<?xml version=\"1.0\" encoding=\"UTF-8\" standalone=\"no\"?><svg xmlns=\"http://www.w3.org/2000/svg\" xmlns:xlink=\"http://www.w3.org/1999/xlink\" contentScriptType=\"application/ecmascript\" contentStyleType=\"text/css\" height=\"672px\" preserveAspectRatio=\"none\" style=\"width:231px;height:672px;\" version=\"1.1\" viewBox=\"0 0 231 672\" width=\"231px\" zoomAndPan=\"magnify\"><defs/><g><!--MD5=[fbc87193dbaf4d95561dea2c320d4a47]\n",
       "cluster E1--><a href=\"psysml:c0b99535-16c1-47cf-a8d5-3f20b133a54a\" target=\"_top\" title=\"psysml:c0b99535-16c1-47cf-a8d5-3f20b133a54a\" xlink:actuate=\"onRequest\" xlink:href=\"psysml:c0b99535-16c1-47cf-a8d5-3f20b133a54a\" xlink:show=\"new\" xlink:title=\"psysml:c0b99535-16c1-47cf-a8d5-3f20b133a54a\" xlink:type=\"simple\"><polygon fill=\"#FFFFFF\" points=\"16,6,99,6,106,28.2969,209,28.2969,209,660,16,660,16,6\" style=\"stroke: #000000; stroke-width: 1.5;\"/><line style=\"stroke: #000000; stroke-width: 1.5;\" x1=\"16\" x2=\"106\" y1=\"28.2969\" y2=\"28.2969\"/><text fill=\"#000000\" font-family=\"sans-serif\" font-size=\"14\" font-weight=\"bold\" lengthAdjust=\"spacingAndGlyphs\" textLength=\"77\" x=\"20\" y=\"20.9951\">BlockTest</text></a><!--MD5=[b4997ac47864f28c2f74865a473b2911]\n",
       "class E2--><a href=\"psysml:20852434-d7cc-411e-aa3b-cae286a1f6f8\" target=\"_top\" title=\"psysml:20852434-d7cc-411e-aa3b-cae286a1f6f8\" xlink:actuate=\"onRequest\" xlink:href=\"psysml:20852434-d7cc-411e-aa3b-cae286a1f6f8\" xlink:show=\"new\" xlink:title=\"psysml:20852434-d7cc-411e-aa3b-cae286a1f6f8\" xlink:type=\"simple\"><rect fill=\"#FFFFFF\" height=\"45.9375\" id=\"E2\" rx=\"10\" ry=\"10\" style=\"stroke: #383838; stroke-width: 1.5;\" width=\"42\" x=\"151\" y=\"56\"/><text fill=\"#000000\" font-family=\"sans-serif\" font-size=\"12\" font-style=\"italic\" lengthAdjust=\"spacingAndGlyphs\" textLength=\"40\" x=\"152\" y=\"72.1387\">«part»</text><text fill=\"#000000\" font-family=\"sans-serif\" font-size=\"12\" lengthAdjust=\"spacingAndGlyphs\" textLength=\"20\" x=\"162\" y=\"86.1074\">f: A</text><line style=\"stroke: #383838; stroke-width: 1.5;\" x1=\"152\" x2=\"192\" y1=\"93.9375\" y2=\"93.9375\"/></a><!--MD5=[09b614a08d8cba4a07c9adeb5e0fee81]\n",
       "class E3--><a href=\"psysml:cbed5230-ac88-4b7e-9b23-6ffd90d7c059\" target=\"_top\" title=\"psysml:cbed5230-ac88-4b7e-9b23-6ffd90d7c059\" xlink:actuate=\"onRequest\" xlink:href=\"psysml:cbed5230-ac88-4b7e-9b23-6ffd90d7c059\" xlink:show=\"new\" xlink:title=\"psysml:cbed5230-ac88-4b7e-9b23-6ffd90d7c059\" xlink:type=\"simple\"><rect fill=\"#FFFFFF\" height=\"75.5469\" id=\"E3\" style=\"stroke: #383838; stroke-width: 1.5;\" width=\"66\" x=\"118\" y=\"194\"/><text fill=\"#000000\" font-family=\"sans-serif\" font-size=\"12\" font-style=\"italic\" lengthAdjust=\"spacingAndGlyphs\" textLength=\"64\" x=\"119\" y=\"210.1387\">«part def»</text><text fill=\"#000000\" font-family=\"sans-serif\" font-size=\"12\" lengthAdjust=\"spacingAndGlyphs\" textLength=\"8\" x=\"147\" y=\"224.1074\">A</text><line style=\"stroke: #383838; stroke-width: 1.5;\" x1=\"119\" x2=\"183\" y1=\"231.9375\" y2=\"231.9375\"/><text fill=\"#000000\" font-family=\"sans-serif\" font-size=\"11\" lengthAdjust=\"spacingAndGlyphs\" textLength=\"22\" x=\"124\" y=\"262.9526\">c: C</text><line style=\"stroke: #383838; stroke-width: 1.0;\" x1=\"119\" x2=\"136\" y1=\"246.3398\" y2=\"246.3398\"/><text fill=\"#000000\" font-family=\"sans-serif\" font-size=\"11\" lengthAdjust=\"spacingAndGlyphs\" textLength=\"30\" x=\"136\" y=\"249.6479\">ports</text><line style=\"stroke: #383838; stroke-width: 1.0;\" x1=\"166\" x2=\"183\" y1=\"246.3398\" y2=\"246.3398\"/></a><!--MD5=[ebbe1d658d1005bcc118a6aa81145e00]\n",
       "class E4--><a href=\"psysml:1e20eef8-b16d-4a20-93fc-2b015416e79a\" target=\"_top\" title=\"psysml:1e20eef8-b16d-4a20-93fc-2b015416e79a\" xlink:actuate=\"onRequest\" xlink:href=\"psysml:1e20eef8-b16d-4a20-93fc-2b015416e79a\" xlink:show=\"new\" xlink:title=\"psysml:1e20eef8-b16d-4a20-93fc-2b015416e79a\" xlink:type=\"simple\"><rect fill=\"#FFFFFF\" height=\"45.9375\" id=\"E4\" rx=\"10\" ry=\"10\" style=\"stroke: #383838; stroke-width: 1.5;\" width=\"42\" x=\"106\" y=\"347\"/><text fill=\"#000000\" font-family=\"sans-serif\" font-size=\"12\" font-style=\"italic\" lengthAdjust=\"spacingAndGlyphs\" textLength=\"40\" x=\"107\" y=\"363.1387\">«part»</text><text fill=\"#000000\" font-family=\"sans-serif\" font-size=\"12\" lengthAdjust=\"spacingAndGlyphs\" textLength=\"24\" x=\"115\" y=\"377.1074\">b: B</text><line style=\"stroke: #383838; stroke-width: 1.5;\" x1=\"107\" x2=\"147\" y1=\"384.9375\" y2=\"384.9375\"/></a><!--MD5=[60a26617385b1d2d0262a64233df1f8d]\n",
       "class E6--><a href=\"psysml:633af2d2-4d32-4996-ac04-a91fff2e720f\" target=\"_top\" title=\"psysml:633af2d2-4d32-4996-ac04-a91fff2e720f\" xlink:actuate=\"onRequest\" xlink:href=\"psysml:633af2d2-4d32-4996-ac04-a91fff2e720f\" xlink:show=\"new\" xlink:title=\"psysml:633af2d2-4d32-4996-ac04-a91fff2e720f\" xlink:type=\"simple\"><rect fill=\"#FFFFFF\" height=\"75.5469\" id=\"E6\" style=\"stroke: #383838; stroke-width: 1.5;\" width=\"66\" x=\"77\" y=\"454\"/><text fill=\"#000000\" font-family=\"sans-serif\" font-size=\"12\" font-style=\"italic\" lengthAdjust=\"spacingAndGlyphs\" textLength=\"64\" x=\"78\" y=\"470.1387\">«part def»</text><text fill=\"#000000\" font-family=\"sans-serif\" font-size=\"12\" lengthAdjust=\"spacingAndGlyphs\" textLength=\"8\" x=\"106\" y=\"484.1074\">B</text><line style=\"stroke: #383838; stroke-width: 1.5;\" x1=\"78\" x2=\"142\" y1=\"491.9375\" y2=\"491.9375\"/><text fill=\"#000000\" font-family=\"sans-serif\" font-size=\"11\" lengthAdjust=\"spacingAndGlyphs\" textLength=\"31\" x=\"83\" y=\"522.9526\">x: ~C</text><line style=\"stroke: #383838; stroke-width: 1.0;\" x1=\"78\" x2=\"95\" y1=\"506.3398\" y2=\"506.3398\"/><text fill=\"#000000\" font-family=\"sans-serif\" font-size=\"11\" lengthAdjust=\"spacingAndGlyphs\" textLength=\"30\" x=\"95\" y=\"509.6479\">ports</text><line style=\"stroke: #383838; stroke-width: 1.0;\" x1=\"125\" x2=\"142\" y1=\"506.3398\" y2=\"506.3398\"/></a><!--MD5=[b9389687b975829384b498ac4b7476b2]\n",
       "class E8--><a href=\"psysml:adeac7a4-0c31-420e-b3fd-609062fb2f41\" target=\"_top\" title=\"psysml:adeac7a4-0c31-420e-b3fd-609062fb2f41\" xlink:actuate=\"onRequest\" xlink:href=\"psysml:adeac7a4-0c31-420e-b3fd-609062fb2f41\" xlink:show=\"new\" xlink:title=\"psysml:adeac7a4-0c31-420e-b3fd-609062fb2f41\" xlink:type=\"simple\"><rect fill=\"#FFFFFF\" height=\"45.9375\" id=\"E8\" rx=\"10\" ry=\"10\" style=\"stroke: #383838; stroke-width: 1.5;\" width=\"42\" x=\"151\" y=\"594.5\"/><text fill=\"#000000\" font-family=\"sans-serif\" font-size=\"12\" font-style=\"italic\" lengthAdjust=\"spacingAndGlyphs\" textLength=\"40\" x=\"152\" y=\"610.6387\">«part»</text><text fill=\"#000000\" font-family=\"sans-serif\" font-size=\"12\" lengthAdjust=\"spacingAndGlyphs\" textLength=\"24\" x=\"160\" y=\"624.6074\">a: A</text><line style=\"stroke: #383838; stroke-width: 1.5;\" x1=\"152\" x2=\"192\" y1=\"632.4375\" y2=\"632.4375\"/></a><!--MD5=[96f4274e9e20536e775497830990834d]\n",
       "class E10--><a href=\"psysml:19a0d075-dfec-4a25-8f91-7b5bd5520f32\" target=\"_top\" title=\"psysml:19a0d075-dfec-4a25-8f91-7b5bd5520f32\" xlink:actuate=\"onRequest\" xlink:href=\"psysml:19a0d075-dfec-4a25-8f91-7b5bd5520f32\" xlink:show=\"new\" xlink:title=\"psysml:19a0d075-dfec-4a25-8f91-7b5bd5520f32\" xlink:type=\"simple\"><rect fill=\"#FFFFFF\" height=\"75.5469\" id=\"E10\" style=\"stroke: #383838; stroke-width: 1.5;\" width=\"84\" x=\"32\" y=\"41\"/><text fill=\"#000000\" font-family=\"sans-serif\" font-size=\"12\" font-style=\"italic\" lengthAdjust=\"spacingAndGlyphs\" textLength=\"64\" x=\"42\" y=\"57.1387\">«port def»</text><text fill=\"#000000\" font-family=\"sans-serif\" font-size=\"12\" lengthAdjust=\"spacingAndGlyphs\" textLength=\"8\" x=\"70\" y=\"71.1074\">C</text><line style=\"stroke: #383838; stroke-width: 1.5;\" x1=\"33\" x2=\"115\" y1=\"78.9375\" y2=\"78.9375\"/><text fill=\"#000000\" font-family=\"sans-serif\" font-size=\"11\" lengthAdjust=\"spacingAndGlyphs\" textLength=\"37\" x=\"38\" y=\"109.9526\">y: A, B</text><text fill=\"#000000\" font-family=\"sans-serif\" font-size=\"11\" font-weight=\"bold\" lengthAdjust=\"spacingAndGlyphs\" textLength=\"15\" x=\"79\" y=\"109.9526\">as</text><text fill=\"#000000\" font-family=\"sans-serif\" font-size=\"11\" lengthAdjust=\"spacingAndGlyphs\" textLength=\"12\" x=\"98\" y=\"109.9526\">z2</text><line style=\"stroke: #383838; stroke-width: 1.0;\" x1=\"33\" x2=\"43\" y1=\"93.3398\" y2=\"93.3398\"/><text fill=\"#000000\" font-family=\"sans-serif\" font-size=\"11\" lengthAdjust=\"spacingAndGlyphs\" textLength=\"62\" x=\"43\" y=\"96.6479\">references</text><line style=\"stroke: #383838; stroke-width: 1.0;\" x1=\"105\" x2=\"115\" y1=\"93.3398\" y2=\"93.3398\"/></a><a href=\"psysml:fcdcf065-90d4-4da1-8b43-4feb0ab4c03b\" target=\"_top\" title=\"psysml:fcdcf065-90d4-4da1-8b43-4feb0ab4c03b\" xlink:actuate=\"onRequest\" xlink:href=\"psysml:fcdcf065-90d4-4da1-8b43-4feb0ab4c03b\" xlink:show=\"new\" xlink:title=\"psysml:fcdcf065-90d4-4da1-8b43-4feb0ab4c03b\" xlink:type=\"simple\"><polygon fill=\"#FFFFFF\" points=\"86,591,102,591,109,613.2969,116,613.2969,116,643.5938,86,643.5938,86,591\" style=\"stroke: #000000; stroke-width: 1.5;\"/><line style=\"stroke: #000000; stroke-width: 1.5;\" x1=\"86\" x2=\"109\" y1=\"613.2969\" y2=\"613.2969\"/><text fill=\"#000000\" font-family=\"sans-serif\" font-size=\"14\" font-weight=\"bold\" lengthAdjust=\"spacingAndGlyphs\" textLength=\"10\" x=\"90\" y=\"605.9951\">P</text></a><!--MD5=[2720a5a1f2c3fca2055b230370638851]\n",
       "link E2 to E3--><a href=\"psysml:1f32f64a-cd2f-48b1-a0ff-85d8f5396f29\" target=\"_top\" title=\"psysml:1f32f64a-cd2f-48b1-a0ff-85d8f5396f29\" xlink:actuate=\"onRequest\" xlink:href=\"psysml:1f32f64a-cd2f-48b1-a0ff-85d8f5396f29\" xlink:show=\"new\" xlink:title=\"psysml:1f32f64a-cd2f-48b1-a0ff-85d8f5396f29\" xlink:type=\"simple\"><path d=\"M168.9,102.28 C166.28,121.12 162.41,148.97 158.94,173.94 \" fill=\"none\" id=\"E2-&gt;E3\" style=\"stroke: #383838; stroke-width: 1.0;\"/><polygon fill=\"#FFFFFF\" points=\"156.15,193.98,151.8354,174.1966,165.7018,176.1261,156.15,193.98\" style=\"stroke: #383838; stroke-width: 1.0;\"/><ellipse cx=\"154.6019\" cy=\"168.8266\" fill=\"#383838\" rx=\"2\" ry=\"2\" style=\"stroke: #383838; stroke-width: 1.0;\"/><ellipse cx=\"164.5065\" cy=\"170.2048\" fill=\"#383838\" rx=\"2\" ry=\"2\" style=\"stroke: #383838; stroke-width: 1.0;\"/></a><!--MD5=[4672eba38e49728da53d11aeb285b987]\n",
       "reverse link E3 to E4--><a href=\"psysml:1e20eef8-b16d-4a20-93fc-2b015416e79a\" target=\"_top\" title=\"psysml:1e20eef8-b16d-4a20-93fc-2b015416e79a\" xlink:actuate=\"onRequest\" xlink:href=\"psysml:1e20eef8-b16d-4a20-93fc-2b015416e79a\" xlink:show=\"new\" xlink:title=\"psysml:1e20eef8-b16d-4a20-93fc-2b015416e79a\" xlink:type=\"simple\"><path d=\"M142.17,283.02 C138.31,304.93 133.97,329.52 130.92,346.77 \" fill=\"none\" id=\"E3&lt;-E4\" style=\"stroke: #383838; stroke-width: 1.0;\"/><polygon fill=\"#383838\" points=\"144.44,270.16,139.4532,275.3688,142.3433,281.9754,147.3301,276.7666,144.44,270.16\" style=\"stroke: #383838; stroke-width: 1.0;\"/></a><!--MD5=[79568f1e445c3877b6a54524624ccc7d]\n",
       "link E4 to E6--><a href=\"psysml:97a379fd-51a7-461f-afe4-84a5f5da2292\" target=\"_top\" title=\"psysml:97a379fd-51a7-461f-afe4-84a5f5da2292\" xlink:actuate=\"onRequest\" xlink:href=\"psysml:97a379fd-51a7-461f-afe4-84a5f5da2292\" xlink:show=\"new\" xlink:title=\"psysml:97a379fd-51a7-461f-afe4-84a5f5da2292\" xlink:type=\"simple\"><path d=\"M123.88,393.01 C122.25,404.51 120.18,419.17 118.13,433.62 \" fill=\"none\" id=\"E4-&gt;E6\" style=\"stroke: #383838; stroke-width: 1.0;\"/><polygon fill=\"#FFFFFF\" points=\"115.3,453.57,111.0294,433.777,124.8914,435.7373,115.3,453.57\" style=\"stroke: #383838; stroke-width: 1.0;\"/><ellipse cx=\"113.8078\" cy=\"428.4132\" fill=\"#383838\" rx=\"2\" ry=\"2\" style=\"stroke: #383838; stroke-width: 1.0;\"/><ellipse cx=\"123.7093\" cy=\"429.8134\" fill=\"#383838\" rx=\"2\" ry=\"2\" style=\"stroke: #383838; stroke-width: 1.0;\"/></a><!--MD5=[3f50a3473f1dfb74d3f76443e03635af]\n",
       "reverse link E6 to E7--><a href=\"psysml:fcdcf065-90d4-4da1-8b43-4feb0ab4c03b\" target=\"_top\" title=\"psysml:fcdcf065-90d4-4da1-8b43-4feb0ab4c03b\" xlink:actuate=\"onRequest\" xlink:href=\"psysml:fcdcf065-90d4-4da1-8b43-4feb0ab4c03b\" xlink:show=\"new\" xlink:title=\"psysml:fcdcf065-90d4-4da1-8b43-4feb0ab4c03b\" xlink:type=\"simple\"><path d=\"M106.18,545.35 C105.04,561.08 103.83,577.65 102.87,590.83 \" fill=\"none\" id=\"E6&lt;-E7\" style=\"stroke: #383838; stroke-width: 1.0;\"/><ellipse cx=\"106.7138\" cy=\"538.0285\" fill=\"#FFFFFF\" rx=\"8\" ry=\"8\" style=\"stroke: #383838; stroke-width: 1.0;\"/><line style=\"stroke: #383838; stroke-width: 1.0;\" x1=\"106.1276\" x2=\"107.3\" y1=\"546.007\" y2=\"530.05\"/><line style=\"stroke: #383838; stroke-width: 1.0;\" x1=\"98.7353\" x2=\"114.6923\" y1=\"537.4423\" y2=\"538.6147\"/></a><!--MD5=[95fa686b5a16158bcdbcaeead89f639b]\n",
       "link E8 to E3--><a href=\"psysml:c8b02122-2142-456b-8199-9bf99e52168e\" target=\"_top\" title=\"psysml:c8b02122-2142-456b-8199-9bf99e52168e\" xlink:actuate=\"onRequest\" xlink:href=\"psysml:c8b02122-2142-456b-8199-9bf99e52168e\" xlink:show=\"new\" xlink:title=\"psysml:c8b02122-2142-456b-8199-9bf99e52168e\" xlink:type=\"simple\"><path d=\"M171.51,594.45 C170.08,530.08 166,347 166,347 C166,347 162.24,318.43 158.49,289.89 \" fill=\"none\" id=\"E8-&gt;E3\" style=\"stroke: #383838; stroke-width: 1.0;\"/><polygon fill=\"#FFFFFF\" points=\"155.87,270.01,165.2808,287.9387,151.3996,289.7588,155.87,270.01\" style=\"stroke: #383838; stroke-width: 1.0;\"/><ellipse cx=\"164.0388\" cy=\"293.8503\" fill=\"#383838\" rx=\"2\" ry=\"2\" style=\"stroke: #383838; stroke-width: 1.0;\"/><ellipse cx=\"154.1237\" cy=\"295.1504\" fill=\"#383838\" rx=\"2\" ry=\"2\" style=\"stroke: #383838; stroke-width: 1.0;\"/></a><!--MD5=[f4cf0736d43fd73c4ef68817c49d37d5]\n",
       "reverse link E6 to E8--><a href=\"psysml:adeac7a4-0c31-420e-b3fd-609062fb2f41\" target=\"_top\" title=\"psysml:adeac7a4-0c31-420e-b3fd-609062fb2f41\" xlink:actuate=\"onRequest\" xlink:href=\"psysml:adeac7a4-0c31-420e-b3fd-609062fb2f41\" xlink:show=\"new\" xlink:title=\"psysml:adeac7a4-0c31-420e-b3fd-609062fb2f41\" xlink:type=\"simple\"><path d=\"M134.44,541.68 C143.55,559.83 153.45,579.55 160.8,594.19 \" fill=\"none\" id=\"E6&lt;-E8\" style=\"stroke: #383838; stroke-width: 1.0;\"/><polygon fill=\"#383838\" points=\"128.6,530.05,127.7161,537.2067,133.9824,540.7752,134.8663,533.6185,128.6,530.05\" style=\"stroke: #383838; stroke-width: 1.0;\"/></a><!--MD5=[8e04057e7b3cbc0dca4fc78ea351e2da]\n",
       "reverse link E10 to E3--><a href=\"psysml:4b320237-d900-4f83-8ac2-28b55b9df163\" target=\"_top\" title=\"psysml:4b320237-d900-4f83-8ac2-28b55b9df163\" xlink:actuate=\"onRequest\" xlink:href=\"psysml:4b320237-d900-4f83-8ac2-28b55b9df163\" xlink:show=\"new\" xlink:title=\"psysml:4b320237-d900-4f83-8ac2-28b55b9df163\" xlink:type=\"simple\"><path d=\"M98.98,128.98 C109.72,150.06 122.08,174.29 132.05,193.84 \" fill=\"none\" id=\"E10&lt;-E3\" style=\"stroke: #383838; stroke-width: 1.0;\"/><polygon fill=\"#FFFFFF\" points=\"93.03,117.33,92.1919,124.4922,98.4809,128.0206,99.319,120.8583,93.03,117.33\" style=\"stroke: #383838; stroke-width: 1.0;\"/><text fill=\"#000000\" font-family=\"sans-serif\" font-size=\"13\" lengthAdjust=\"spacingAndGlyphs\" textLength=\"7\" x=\"115\" y=\"160.0669\">y</text></a><!--MD5=[604cbf994c02b74b117f728a71673cea]\n",
       "reverse link E10 to E6--><a href=\"psysml:4b320237-d900-4f83-8ac2-28b55b9df163\" target=\"_top\" title=\"psysml:4b320237-d900-4f83-8ac2-28b55b9df163\" xlink:actuate=\"onRequest\" xlink:href=\"psysml:4b320237-d900-4f83-8ac2-28b55b9df163\" xlink:show=\"new\" xlink:title=\"psysml:4b320237-d900-4f83-8ac2-28b55b9df163\" xlink:type=\"simple\"><path d=\"M76.41,130.3 C80.65,218.79 89,393 89,393 C89,393 96.11,426.2 102.06,453.95 \" fill=\"none\" id=\"E10&lt;-E6\" style=\"stroke: #383838; stroke-width: 1.0;\"/><polygon fill=\"#FFFFFF\" points=\"75.78,117.13,72.0748,123.3164,76.3602,129.116,80.0654,122.9296,75.78,117.13\" style=\"stroke: #383838; stroke-width: 1.0;\"/><text fill=\"#000000\" font-family=\"sans-serif\" font-size=\"13\" lengthAdjust=\"spacingAndGlyphs\" textLength=\"7\" x=\"86\" y=\"313.0669\">y</text></a><!--MD5=[2b02ac71213fd6c3d729b38446c90cf4]\n",
       "@startuml\r\n",
       "skinparam linetype polyline\r\n",
       "skinparam monochrome true\r\n",
       "skinparam classbackgroundcolor white\r\n",
       "skinparam shadowing false\r\n",
       "skinparam wrapWidth 300\r\n",
       "hide circle\r\n",
       "\r\n",
       "package \"BlockTest\" as E1  [[psysml:c0b99535-16c1-47cf-a8d5-3f20b133a54a ]]  {\r\n",
       "comp usage \"f: A\" as E2  <<(T,blue)part>> [[psysml:20852434-d7cc-411e-aa3b-cae286a1f6f8 ]] {\r\n",
       "}\r\n",
       "comp def \"A\" as E3  <<(T,blue)part def>> [[psysml:cbed5230-ac88-4b7e-9b23-6ffd90d7c059 ]] {\r\n",
       "- - ports - -\r\n",
       "c: C\r\n",
       "}\r\n",
       "comp usage \"b: B\" as E4  <<(T,blue)part>> [[psysml:1e20eef8-b16d-4a20-93fc-2b015416e79a ]] {\r\n",
       "}\r\n",
       "comp def \"B\" as E6  <<(T,blue)part def>> [[psysml:633af2d2-4d32-4996-ac04-a91fff2e720f ]] {\r\n",
       "- - ports - -\r\n",
       "x: ~C\r\n",
       "}\r\n",
       "package \"P\" as E7  [[psysml:fcdcf065-90d4-4da1-8b43-4feb0ab4c03b ]]  {\r\n",
       "}\r\n",
       "comp usage \"a: A\" as E8  <<(T,blue)part>> [[psysml:adeac7a4-0c31-420e-b3fd-609062fb2f41 ]] {\r\n",
       "}\r\n",
       "comp def \"C\" as E10  <<(T,blue)port def>> [[psysml:19a0d075-dfec-4a25-8f91-7b5bd5520f32 ]] {\r\n",
       "- - references - -\r\n",
       "y: A, B <b>as</b> z2 \r\n",
       "}\r\n",
       "E2 - -:|> E3 [[psysml:1f32f64a-cd2f-48b1-a0ff-85d8f5396f29 ]] \r\n",
       "E3 *- - E4 [[psysml:1e20eef8-b16d-4a20-93fc-2b015416e79a ]] \r\n",
       "E4 - -:|> E6 [[psysml:97a379fd-51a7-461f-afe4-84a5f5da2292 ]] \r\n",
       "E6 +- - E7 [[psysml:fcdcf065-90d4-4da1-8b43-4feb0ab4c03b ]] \r\n",
       "E8 - -:|> E3 [[psysml:c8b02122-2142-456b-8199-9bf99e52168e ]] \r\n",
       "E6 *- - E8 [[psysml:adeac7a4-0c31-420e-b3fd-609062fb2f41 ]] \r\n",
       "E10 o- - E3 [[psysml:4b320237-d900-4f83-8ac2-28b55b9df163 ]] : y\r\n",
       "E10 o- - E6 [[psysml:4b320237-d900-4f83-8ac2-28b55b9df163 ]] : y\r\n",
       "}\r\n",
       "@enduml\r\n",
       "\n",
       "PlantUML version 1.2020.13(Sat Jun 13 12:26:38 UTC 2020)\n",
       "(EPL source distribution)\n",
       "Java Runtime: OpenJDK Runtime Environment\n",
       "JVM: OpenJDK 64-Bit Server VM\n",
       "Default Encoding: UTF-8\n",
       "Language: en\n",
       "Country: null\n",
       "--></g></svg>"
      ]
     },
     "execution_count": 15,
     "metadata": {},
     "output_type": "execute_result"
    }
   ],
   "source": [
    "%viz --style=\"POLYLINE\" --view=\"MIXED\" \"BlockTest\""
   ]
  },
  {
   "cell_type": "code",
   "execution_count": 16,
   "id": "designing-nepal",
   "metadata": {
    "execution": {
     "iopub.execute_input": "2021-03-25T14:59:48.923272Z",
     "iopub.status.busy": "2021-03-25T14:59:48.922581Z",
     "iopub.status.idle": "2021-03-25T14:59:49.456497Z",
     "shell.execute_reply": "2021-03-25T14:59:49.456899Z"
    }
   },
   "outputs": [
    {
     "data": {
      "image/svg+xml": [
       "<?xml version=\"1.0\" encoding=\"UTF-8\" standalone=\"no\"?><svg xmlns=\"http://www.w3.org/2000/svg\" xmlns:xlink=\"http://www.w3.org/1999/xlink\" contentScriptType=\"application/ecmascript\" contentStyleType=\"text/css\" height=\"226px\" preserveAspectRatio=\"none\" style=\"width:630px;height:226px;\" version=\"1.1\" viewBox=\"0 0 630 226\" width=\"630px\" zoomAndPan=\"magnify\"><defs/><g><!--MD5=[fbc87193dbaf4d95561dea2c320d4a47]\n",
       "cluster E1--><a href=\"psysml:c0b99535-16c1-47cf-a8d5-3f20b133a54a\" target=\"_top\" title=\"psysml:c0b99535-16c1-47cf-a8d5-3f20b133a54a\" xlink:actuate=\"onRequest\" xlink:href=\"psysml:c0b99535-16c1-47cf-a8d5-3f20b133a54a\" xlink:show=\"new\" xlink:title=\"psysml:c0b99535-16c1-47cf-a8d5-3f20b133a54a\" xlink:type=\"simple\"><polygon fill=\"#FFFFFF\" points=\"16,6,99,6,106,28.2969,608,28.2969,608,214,16,214,16,6\" style=\"stroke: #000000; stroke-width: 1.5;\"/><line style=\"stroke: #000000; stroke-width: 1.5;\" x1=\"16\" x2=\"106\" y1=\"28.2969\" y2=\"28.2969\"/><text fill=\"#000000\" font-family=\"sans-serif\" font-size=\"14\" font-weight=\"bold\" lengthAdjust=\"spacingAndGlyphs\" textLength=\"77\" x=\"20\" y=\"20.9951\">BlockTest</text></a><!--MD5=[b4997ac47864f28c2f74865a473b2911]\n",
       "class E2--><a href=\"psysml:20852434-d7cc-411e-aa3b-cae286a1f6f8\" target=\"_top\" title=\"psysml:20852434-d7cc-411e-aa3b-cae286a1f6f8\" xlink:actuate=\"onRequest\" xlink:href=\"psysml:20852434-d7cc-411e-aa3b-cae286a1f6f8\" xlink:show=\"new\" xlink:title=\"psysml:20852434-d7cc-411e-aa3b-cae286a1f6f8\" xlink:type=\"simple\"><rect fill=\"#FFFFFF\" height=\"45.9375\" id=\"E2\" rx=\"10\" ry=\"10\" style=\"stroke: #383838; stroke-width: 1.5;\" width=\"42\" x=\"53\" y=\"41\"/><text fill=\"#000000\" font-family=\"sans-serif\" font-size=\"12\" font-style=\"italic\" lengthAdjust=\"spacingAndGlyphs\" textLength=\"40\" x=\"54\" y=\"57.1387\">«part»</text><text fill=\"#000000\" font-family=\"sans-serif\" font-size=\"12\" lengthAdjust=\"spacingAndGlyphs\" textLength=\"20\" x=\"64\" y=\"71.1074\">f: A</text><line style=\"stroke: #383838; stroke-width: 1.5;\" x1=\"54\" x2=\"94\" y1=\"78.9375\" y2=\"78.9375\"/></a><!--MD5=[09b614a08d8cba4a07c9adeb5e0fee81]\n",
       "class E3--><a href=\"psysml:cbed5230-ac88-4b7e-9b23-6ffd90d7c059\" target=\"_top\" title=\"psysml:cbed5230-ac88-4b7e-9b23-6ffd90d7c059\" xlink:actuate=\"onRequest\" xlink:href=\"psysml:cbed5230-ac88-4b7e-9b23-6ffd90d7c059\" xlink:show=\"new\" xlink:title=\"psysml:cbed5230-ac88-4b7e-9b23-6ffd90d7c059\" xlink:type=\"simple\"><rect fill=\"#FFFFFF\" height=\"75.5469\" id=\"E3\" style=\"stroke: #383838; stroke-width: 1.5;\" width=\"66\" x=\"185\" y=\"45\"/><text fill=\"#000000\" font-family=\"sans-serif\" font-size=\"12\" font-style=\"italic\" lengthAdjust=\"spacingAndGlyphs\" textLength=\"64\" x=\"186\" y=\"61.1387\">«part def»</text><text fill=\"#000000\" font-family=\"sans-serif\" font-size=\"12\" lengthAdjust=\"spacingAndGlyphs\" textLength=\"8\" x=\"214\" y=\"75.1074\">A</text><line style=\"stroke: #383838; stroke-width: 1.5;\" x1=\"186\" x2=\"250\" y1=\"82.9375\" y2=\"82.9375\"/><text fill=\"#000000\" font-family=\"sans-serif\" font-size=\"11\" lengthAdjust=\"spacingAndGlyphs\" textLength=\"22\" x=\"191\" y=\"113.9526\">c: C</text><line style=\"stroke: #383838; stroke-width: 1.0;\" x1=\"186\" x2=\"203\" y1=\"97.3398\" y2=\"97.3398\"/><text fill=\"#000000\" font-family=\"sans-serif\" font-size=\"11\" lengthAdjust=\"spacingAndGlyphs\" textLength=\"30\" x=\"203\" y=\"100.6479\">ports</text><line style=\"stroke: #383838; stroke-width: 1.0;\" x1=\"233\" x2=\"250\" y1=\"97.3398\" y2=\"97.3398\"/></a><!--MD5=[ebbe1d658d1005bcc118a6aa81145e00]\n",
       "class E4--><a href=\"psysml:1e20eef8-b16d-4a20-93fc-2b015416e79a\" target=\"_top\" title=\"psysml:1e20eef8-b16d-4a20-93fc-2b015416e79a\" xlink:actuate=\"onRequest\" xlink:href=\"psysml:1e20eef8-b16d-4a20-93fc-2b015416e79a\" xlink:show=\"new\" xlink:title=\"psysml:1e20eef8-b16d-4a20-93fc-2b015416e79a\" xlink:type=\"simple\"><rect fill=\"#FFFFFF\" height=\"45.9375\" id=\"E4\" rx=\"10\" ry=\"10\" style=\"stroke: #383838; stroke-width: 1.5;\" width=\"42\" x=\"320\" y=\"80\"/><text fill=\"#000000\" font-family=\"sans-serif\" font-size=\"12\" font-style=\"italic\" lengthAdjust=\"spacingAndGlyphs\" textLength=\"40\" x=\"321\" y=\"96.1387\">«part»</text><text fill=\"#000000\" font-family=\"sans-serif\" font-size=\"12\" lengthAdjust=\"spacingAndGlyphs\" textLength=\"24\" x=\"329\" y=\"110.1074\">b: B</text><line style=\"stroke: #383838; stroke-width: 1.5;\" x1=\"321\" x2=\"361\" y1=\"117.9375\" y2=\"117.9375\"/></a><!--MD5=[60a26617385b1d2d0262a64233df1f8d]\n",
       "class E6--><a href=\"psysml:633af2d2-4d32-4996-ac04-a91fff2e720f\" target=\"_top\" title=\"psysml:633af2d2-4d32-4996-ac04-a91fff2e720f\" xlink:actuate=\"onRequest\" xlink:href=\"psysml:633af2d2-4d32-4996-ac04-a91fff2e720f\" xlink:show=\"new\" xlink:title=\"psysml:633af2d2-4d32-4996-ac04-a91fff2e720f\" xlink:type=\"simple\"><rect fill=\"#FFFFFF\" height=\"75.5469\" id=\"E6\" style=\"stroke: #383838; stroke-width: 1.5;\" width=\"66\" x=\"423\" y=\"92\"/><text fill=\"#000000\" font-family=\"sans-serif\" font-size=\"12\" font-style=\"italic\" lengthAdjust=\"spacingAndGlyphs\" textLength=\"64\" x=\"424\" y=\"108.1387\">«part def»</text><text fill=\"#000000\" font-family=\"sans-serif\" font-size=\"12\" lengthAdjust=\"spacingAndGlyphs\" textLength=\"8\" x=\"452\" y=\"122.1074\">B</text><line style=\"stroke: #383838; stroke-width: 1.5;\" x1=\"424\" x2=\"488\" y1=\"129.9375\" y2=\"129.9375\"/><text fill=\"#000000\" font-family=\"sans-serif\" font-size=\"11\" lengthAdjust=\"spacingAndGlyphs\" textLength=\"31\" x=\"429\" y=\"160.9526\">x: ~C</text><line style=\"stroke: #383838; stroke-width: 1.0;\" x1=\"424\" x2=\"441\" y1=\"144.3398\" y2=\"144.3398\"/><text fill=\"#000000\" font-family=\"sans-serif\" font-size=\"11\" lengthAdjust=\"spacingAndGlyphs\" textLength=\"30\" x=\"441\" y=\"147.6479\">ports</text><line style=\"stroke: #383838; stroke-width: 1.0;\" x1=\"471\" x2=\"488\" y1=\"144.3398\" y2=\"144.3398\"/></a><!--MD5=[b9389687b975829384b498ac4b7476b2]\n",
       "class E8--><a href=\"psysml:adeac7a4-0c31-420e-b3fd-609062fb2f41\" target=\"_top\" title=\"psysml:adeac7a4-0c31-420e-b3fd-609062fb2f41\" xlink:actuate=\"onRequest\" xlink:href=\"psysml:adeac7a4-0c31-420e-b3fd-609062fb2f41\" xlink:show=\"new\" xlink:title=\"psysml:adeac7a4-0c31-420e-b3fd-609062fb2f41\" xlink:type=\"simple\"><rect fill=\"#FFFFFF\" height=\"45.9375\" id=\"E8\" rx=\"10\" ry=\"10\" style=\"stroke: #383838; stroke-width: 1.5;\" width=\"42\" x=\"550\" y=\"41\"/><text fill=\"#000000\" font-family=\"sans-serif\" font-size=\"12\" font-style=\"italic\" lengthAdjust=\"spacingAndGlyphs\" textLength=\"40\" x=\"551\" y=\"57.1387\">«part»</text><text fill=\"#000000\" font-family=\"sans-serif\" font-size=\"12\" lengthAdjust=\"spacingAndGlyphs\" textLength=\"24\" x=\"559\" y=\"71.1074\">a: A</text><line style=\"stroke: #383838; stroke-width: 1.5;\" x1=\"551\" x2=\"591\" y1=\"78.9375\" y2=\"78.9375\"/></a><!--MD5=[96f4274e9e20536e775497830990834d]\n",
       "class E10--><a href=\"psysml:19a0d075-dfec-4a25-8f91-7b5bd5520f32\" target=\"_top\" title=\"psysml:19a0d075-dfec-4a25-8f91-7b5bd5520f32\" xlink:actuate=\"onRequest\" xlink:href=\"psysml:19a0d075-dfec-4a25-8f91-7b5bd5520f32\" xlink:show=\"new\" xlink:title=\"psysml:19a0d075-dfec-4a25-8f91-7b5bd5520f32\" xlink:type=\"simple\"><rect fill=\"#FFFFFF\" height=\"75.5469\" id=\"E10\" style=\"stroke: #383838; stroke-width: 1.5;\" width=\"84\" x=\"32\" y=\"122\"/><text fill=\"#000000\" font-family=\"sans-serif\" font-size=\"12\" font-style=\"italic\" lengthAdjust=\"spacingAndGlyphs\" textLength=\"64\" x=\"42\" y=\"138.1387\">«port def»</text><text fill=\"#000000\" font-family=\"sans-serif\" font-size=\"12\" lengthAdjust=\"spacingAndGlyphs\" textLength=\"8\" x=\"70\" y=\"152.1074\">C</text><line style=\"stroke: #383838; stroke-width: 1.5;\" x1=\"33\" x2=\"115\" y1=\"159.9375\" y2=\"159.9375\"/><text fill=\"#000000\" font-family=\"sans-serif\" font-size=\"11\" lengthAdjust=\"spacingAndGlyphs\" textLength=\"37\" x=\"38\" y=\"190.9526\">y: A, B</text><text fill=\"#000000\" font-family=\"sans-serif\" font-size=\"11\" font-weight=\"bold\" lengthAdjust=\"spacingAndGlyphs\" textLength=\"15\" x=\"79\" y=\"190.9526\">as</text><text fill=\"#000000\" font-family=\"sans-serif\" font-size=\"11\" lengthAdjust=\"spacingAndGlyphs\" textLength=\"12\" x=\"98\" y=\"190.9526\">z2</text><line style=\"stroke: #383838; stroke-width: 1.0;\" x1=\"33\" x2=\"43\" y1=\"174.3398\" y2=\"174.3398\"/><text fill=\"#000000\" font-family=\"sans-serif\" font-size=\"11\" lengthAdjust=\"spacingAndGlyphs\" textLength=\"62\" x=\"43\" y=\"177.6479\">references</text><line style=\"stroke: #383838; stroke-width: 1.0;\" x1=\"105\" x2=\"115\" y1=\"174.3398\" y2=\"174.3398\"/></a><a href=\"psysml:fcdcf065-90d4-4da1-8b43-4feb0ab4c03b\" target=\"_top\" title=\"psysml:fcdcf065-90d4-4da1-8b43-4feb0ab4c03b\" xlink:actuate=\"onRequest\" xlink:href=\"psysml:fcdcf065-90d4-4da1-8b43-4feb0ab4c03b\" xlink:show=\"new\" xlink:title=\"psysml:fcdcf065-90d4-4da1-8b43-4feb0ab4c03b\" xlink:type=\"simple\"><polygon fill=\"#FFFFFF\" points=\"556,122.5,572,122.5,579,144.7969,586,144.7969,586,175.0938,556,175.0938,556,122.5\" style=\"stroke: #000000; stroke-width: 1.5;\"/><line style=\"stroke: #000000; stroke-width: 1.5;\" x1=\"556\" x2=\"579\" y1=\"144.7969\" y2=\"144.7969\"/><text fill=\"#000000\" font-family=\"sans-serif\" font-size=\"14\" font-weight=\"bold\" lengthAdjust=\"spacingAndGlyphs\" textLength=\"10\" x=\"560\" y=\"137.4951\">P</text></a><!--MD5=[2720a5a1f2c3fca2055b230370638851]\n",
       "link E2 to E3--><a href=\"psysml:1f32f64a-cd2f-48b1-a0ff-85d8f5396f29\" target=\"_top\" title=\"psysml:1f32f64a-cd2f-48b1-a0ff-85d8f5396f29\" xlink:actuate=\"onRequest\" xlink:href=\"psysml:1f32f64a-cd2f-48b1-a0ff-85d8f5396f29\" xlink:show=\"new\" xlink:title=\"psysml:1f32f64a-cd2f-48b1-a0ff-85d8f5396f29\" xlink:type=\"simple\"><path d=\"M95.04,66.68 C113.08,69.09 140.38,72.75 164.59,75.99 \" fill=\"none\" id=\"E2-&gt;E3\" style=\"stroke: #383838; stroke-width: 1.0;\"/><polygon fill=\"#FFFFFF\" points=\"184.75,78.68,164.9917,83.1084,166.8414,69.2311,184.75,78.68\" style=\"stroke: #383838; stroke-width: 1.0;\"/><ellipse cx=\"159.6059\" cy=\"80.3729\" fill=\"#383838\" rx=\"2\" ry=\"2\" style=\"stroke: #383838; stroke-width: 1.0;\"/><ellipse cx=\"160.9271\" cy=\"70.4605\" fill=\"#383838\" rx=\"2\" ry=\"2\" style=\"stroke: #383838; stroke-width: 1.0;\"/></a><!--MD5=[4672eba38e49728da53d11aeb285b987]\n",
       "reverse link E3 to E4--><a href=\"psysml:1e20eef8-b16d-4a20-93fc-2b015416e79a\" target=\"_top\" title=\"psysml:1e20eef8-b16d-4a20-93fc-2b015416e79a\" xlink:actuate=\"onRequest\" xlink:href=\"psysml:1e20eef8-b16d-4a20-93fc-2b015416e79a\" xlink:show=\"new\" xlink:title=\"psysml:1e20eef8-b16d-4a20-93fc-2b015416e79a\" xlink:type=\"simple\"><path d=\"M263.96,90.43 C283.2,93.61 304.69,97.16 319.9,99.68 \" fill=\"none\" id=\"E3&lt;-E4\" style=\"stroke: #383838; stroke-width: 1.0;\"/><polygon fill=\"#383838\" points=\"251.11,88.31,256.3743,93.2382,262.9481,90.2742,257.6838,85.3461,251.11,88.31\" style=\"stroke: #383838; stroke-width: 1.0;\"/></a><!--MD5=[79568f1e445c3877b6a54524624ccc7d]\n",
       "link E4 to E6--><a href=\"psysml:97a379fd-51a7-461f-afe4-84a5f5da2292\" target=\"_top\" title=\"psysml:97a379fd-51a7-461f-afe4-84a5f5da2292\" xlink:actuate=\"onRequest\" xlink:href=\"psysml:97a379fd-51a7-461f-afe4-84a5f5da2292\" xlink:show=\"new\" xlink:title=\"psysml:97a379fd-51a7-461f-afe4-84a5f5da2292\" xlink:type=\"simple\"><path d=\"M362.2,107.83 C373.59,110.55 388.4,114.09 402.82,117.53 \" fill=\"none\" id=\"E4-&gt;E6\" style=\"stroke: #383838; stroke-width: 1.0;\"/><polygon fill=\"#FFFFFF\" points=\"422.57,122.25,402.4621,124.6316,405.7233,111.0167,422.57,122.25\" style=\"stroke: #383838; stroke-width: 1.0;\"/><ellipse cx=\"397.3848\" cy=\"121.3588\" fill=\"#383838\" rx=\"2\" ry=\"2\" style=\"stroke: #383838; stroke-width: 1.0;\"/><ellipse cx=\"399.7142\" cy=\"111.6339\" fill=\"#383838\" rx=\"2\" ry=\"2\" style=\"stroke: #383838; stroke-width: 1.0;\"/></a><!--MD5=[3f50a3473f1dfb74d3f76443e03635af]\n",
       "reverse link E6 to E7--><a href=\"psysml:fcdcf065-90d4-4da1-8b43-4feb0ab4c03b\" target=\"_top\" title=\"psysml:fcdcf065-90d4-4da1-8b43-4feb0ab4c03b\" xlink:actuate=\"onRequest\" xlink:href=\"psysml:fcdcf065-90d4-4da1-8b43-4feb0ab4c03b\" xlink:show=\"new\" xlink:title=\"psysml:fcdcf065-90d4-4da1-8b43-4feb0ab4c03b\" xlink:type=\"simple\"><path d=\"M503.97,137.9 C522.72,141.05 542.91,144.44 555.96,146.64 \" fill=\"none\" id=\"E6&lt;-E7\" style=\"stroke: #383838; stroke-width: 1.0;\"/><ellipse cx=\"496.9695\" cy=\"136.7151\" fill=\"#FFFFFF\" rx=\"8\" ry=\"8\" style=\"stroke: #383838; stroke-width: 1.0;\"/><line style=\"stroke: #383838; stroke-width: 1.0;\" x1=\"504.859\" x2=\"489.08\" y1=\"138.0401\" y2=\"135.39\"/><line style=\"stroke: #383838; stroke-width: 1.0;\" x1=\"495.6444\" x2=\"498.2946\" y1=\"144.6046\" y2=\"128.8256\"/></a><!--MD5=[95fa686b5a16158bcdbcaeead89f639b]\n",
       "link E8 to E3--><a href=\"psysml:c8b02122-2142-456b-8199-9bf99e52168e\" target=\"_top\" title=\"psysml:c8b02122-2142-456b-8199-9bf99e52168e\" xlink:actuate=\"onRequest\" xlink:href=\"psysml:c8b02122-2142-456b-8199-9bf99e52168e\" xlink:show=\"new\" xlink:title=\"psysml:c8b02122-2142-456b-8199-9bf99e52168e\" xlink:type=\"simple\"><path d=\"M549.84,62.34 C507.25,59.15 405.06,53.25 320,62 C303.77,63.67 286.31,66.81 270.54,70.16 \" fill=\"none\" id=\"E8-&gt;E3\" style=\"stroke: #383838; stroke-width: 1.0;\"/><polygon fill=\"#FFFFFF\" points=\"251.03,74.59,268.0156,63.5678,271.1066,77.2223,251.03,74.59\" style=\"stroke: #383838; stroke-width: 1.0;\"/><ellipse cx=\"274.0165\" cy=\"64.2599\" fill=\"#383838\" rx=\"2\" ry=\"2\" style=\"stroke: #383838; stroke-width: 1.0;\"/><ellipse cx=\"276.2244\" cy=\"74.0132\" fill=\"#383838\" rx=\"2\" ry=\"2\" style=\"stroke: #383838; stroke-width: 1.0;\"/></a><!--MD5=[f4cf0736d43fd73c4ef68817c49d37d5]\n",
       "reverse link E6 to E8--><a href=\"psysml:adeac7a4-0c31-420e-b3fd-609062fb2f41\" target=\"_top\" title=\"psysml:adeac7a4-0c31-420e-b3fd-609062fb2f41\" xlink:actuate=\"onRequest\" xlink:href=\"psysml:adeac7a4-0c31-420e-b3fd-609062fb2f41\" xlink:show=\"new\" xlink:title=\"psysml:adeac7a4-0c31-420e-b3fd-609062fb2f41\" xlink:type=\"simple\"><path d=\"M500.52,104.58 C517.54,94.64 536.23,83.72 549.94,75.72 \" fill=\"none\" id=\"E6&lt;-E8\" style=\"stroke: #383838; stroke-width: 1.0;\"/><polygon fill=\"#383838\" points=\"489.08,111.26,496.2784,111.6885,499.4425,105.2086,492.2441,104.7802,489.08,111.26\" style=\"stroke: #383838; stroke-width: 1.0;\"/></a><!--MD5=[8e04057e7b3cbc0dca4fc78ea351e2da]\n",
       "reverse link E10 to E3--><a href=\"psysml:4b320237-d900-4f83-8ac2-28b55b9df163\" target=\"_top\" title=\"psysml:4b320237-d900-4f83-8ac2-28b55b9df163\" xlink:actuate=\"onRequest\" xlink:href=\"psysml:4b320237-d900-4f83-8ac2-28b55b9df163\" xlink:show=\"new\" xlink:title=\"psysml:4b320237-d900-4f83-8ac2-28b55b9df163\" xlink:type=\"simple\"><path d=\"M127.66,131.44 C146.75,121.09 167.75,109.71 184.58,100.58 \" fill=\"none\" id=\"E10&lt;-E3\" style=\"stroke: #383838; stroke-width: 1.0;\"/><polygon fill=\"#FFFFFF\" points=\"116.07,137.73,123.2513,138.3848,126.6178,132.0078,119.4365,131.353,116.07,137.73\" style=\"stroke: #383838; stroke-width: 1.0;\"/><text fill=\"#000000\" font-family=\"sans-serif\" font-size=\"13\" lengthAdjust=\"spacingAndGlyphs\" textLength=\"7\" x=\"147\" y=\"113.0669\">y</text></a><!--MD5=[604cbf994c02b74b117f728a71673cea]\n",
       "reverse link E10 to E6--><a href=\"psysml:4b320237-d900-4f83-8ac2-28b55b9df163\" target=\"_top\" title=\"psysml:4b320237-d900-4f83-8ac2-28b55b9df163\" xlink:actuate=\"onRequest\" xlink:href=\"psysml:4b320237-d900-4f83-8ac2-28b55b9df163\" xlink:show=\"new\" xlink:title=\"psysml:4b320237-d900-4f83-8ac2-28b55b9df163\" xlink:type=\"simple\"><path d=\"M129.62,158.06 C187.43,155.71 281.3,151.02 362,143 C382.28,140.99 404.93,137.84 422.8,135.15 \" fill=\"none\" id=\"E10&lt;-E6\" style=\"stroke: #383838; stroke-width: 1.0;\"/><polygon fill=\"#FFFFFF\" points=\"116.43,158.58,122.5834,162.3397,128.4206,158.1056,122.2672,154.3459,116.43,158.58\" style=\"stroke: #383838; stroke-width: 1.0;\"/><text fill=\"#000000\" font-family=\"sans-serif\" font-size=\"13\" lengthAdjust=\"spacingAndGlyphs\" textLength=\"7\" x=\"282\" y=\"146.0669\">y</text></a><!--MD5=[90fd31b87bb0f06ba93810dd7773926f]\n",
       "@startuml\r\n",
       "left to right direction\r\n",
       "skinparam monochrome true\r\n",
       "skinparam classbackgroundcolor white\r\n",
       "skinparam shadowing false\r\n",
       "skinparam wrapWidth 300\r\n",
       "hide circle\r\n",
       "\r\n",
       "package \"BlockTest\" as E1  [[psysml:c0b99535-16c1-47cf-a8d5-3f20b133a54a ]]  {\r\n",
       "comp usage \"f: A\" as E2  <<(T,blue)part>> [[psysml:20852434-d7cc-411e-aa3b-cae286a1f6f8 ]] {\r\n",
       "}\r\n",
       "comp def \"A\" as E3  <<(T,blue)part def>> [[psysml:cbed5230-ac88-4b7e-9b23-6ffd90d7c059 ]] {\r\n",
       "- - ports - -\r\n",
       "c: C\r\n",
       "}\r\n",
       "comp usage \"b: B\" as E4  <<(T,blue)part>> [[psysml:1e20eef8-b16d-4a20-93fc-2b015416e79a ]] {\r\n",
       "}\r\n",
       "comp def \"B\" as E6  <<(T,blue)part def>> [[psysml:633af2d2-4d32-4996-ac04-a91fff2e720f ]] {\r\n",
       "- - ports - -\r\n",
       "x: ~C\r\n",
       "}\r\n",
       "package \"P\" as E7  [[psysml:fcdcf065-90d4-4da1-8b43-4feb0ab4c03b ]]  {\r\n",
       "}\r\n",
       "comp usage \"a: A\" as E8  <<(T,blue)part>> [[psysml:adeac7a4-0c31-420e-b3fd-609062fb2f41 ]] {\r\n",
       "}\r\n",
       "comp def \"C\" as E10  <<(T,blue)port def>> [[psysml:19a0d075-dfec-4a25-8f91-7b5bd5520f32 ]] {\r\n",
       "- - references - -\r\n",
       "y: A, B <b>as</b> z2 \r\n",
       "}\r\n",
       "E2 - -:|> E3 [[psysml:1f32f64a-cd2f-48b1-a0ff-85d8f5396f29 ]] \r\n",
       "E3 *- - E4 [[psysml:1e20eef8-b16d-4a20-93fc-2b015416e79a ]] \r\n",
       "E4 - -:|> E6 [[psysml:97a379fd-51a7-461f-afe4-84a5f5da2292 ]] \r\n",
       "E6 +- - E7 [[psysml:fcdcf065-90d4-4da1-8b43-4feb0ab4c03b ]] \r\n",
       "E8 - -:|> E3 [[psysml:c8b02122-2142-456b-8199-9bf99e52168e ]] \r\n",
       "E6 *- - E8 [[psysml:adeac7a4-0c31-420e-b3fd-609062fb2f41 ]] \r\n",
       "E10 o- - E3 [[psysml:4b320237-d900-4f83-8ac2-28b55b9df163 ]] : y\r\n",
       "E10 o- - E6 [[psysml:4b320237-d900-4f83-8ac2-28b55b9df163 ]] : y\r\n",
       "}\r\n",
       "@enduml\r\n",
       "\n",
       "PlantUML version 1.2020.13(Sat Jun 13 12:26:38 UTC 2020)\n",
       "(EPL source distribution)\n",
       "Java Runtime: OpenJDK Runtime Environment\n",
       "JVM: OpenJDK 64-Bit Server VM\n",
       "Default Encoding: UTF-8\n",
       "Language: en\n",
       "Country: null\n",
       "--></g></svg>"
      ]
     },
     "execution_count": 16,
     "metadata": {},
     "output_type": "execute_result"
    }
   ],
   "source": [
    "%viz --style=\"LR\" --view=\"Default\" \"BlockTest\""
   ]
  },
  {
   "cell_type": "code",
   "execution_count": 17,
   "id": "efficient-nitrogen",
   "metadata": {
    "execution": {
     "iopub.execute_input": "2021-03-25T14:59:49.512445Z",
     "iopub.status.busy": "2021-03-25T14:59:49.511878Z",
     "iopub.status.idle": "2021-03-25T14:59:50.023580Z",
     "shell.execute_reply": "2021-03-25T14:59:50.021136Z"
    }
   },
   "outputs": [
    {
     "data": {
      "image/svg+xml": [
       "<?xml version=\"1.0\" encoding=\"UTF-8\" standalone=\"no\"?><svg xmlns=\"http://www.w3.org/2000/svg\" xmlns:xlink=\"http://www.w3.org/1999/xlink\" contentScriptType=\"application/ecmascript\" contentStyleType=\"text/css\" height=\"226px\" preserveAspectRatio=\"none\" style=\"width:630px;height:226px;\" version=\"1.1\" viewBox=\"0 0 630 226\" width=\"630px\" zoomAndPan=\"magnify\"><defs/><g><!--MD5=[fbc87193dbaf4d95561dea2c320d4a47]\n",
       "cluster E1--><a href=\"psysml:c0b99535-16c1-47cf-a8d5-3f20b133a54a\" target=\"_top\" title=\"psysml:c0b99535-16c1-47cf-a8d5-3f20b133a54a\" xlink:actuate=\"onRequest\" xlink:href=\"psysml:c0b99535-16c1-47cf-a8d5-3f20b133a54a\" xlink:show=\"new\" xlink:title=\"psysml:c0b99535-16c1-47cf-a8d5-3f20b133a54a\" xlink:type=\"simple\"><polygon fill=\"#FFFFFF\" points=\"16,6,99,6,106,28.2969,608,28.2969,608,214,16,214,16,6\" style=\"stroke: #000000; stroke-width: 1.5;\"/><line style=\"stroke: #000000; stroke-width: 1.5;\" x1=\"16\" x2=\"106\" y1=\"28.2969\" y2=\"28.2969\"/><text fill=\"#000000\" font-family=\"sans-serif\" font-size=\"14\" font-weight=\"bold\" lengthAdjust=\"spacingAndGlyphs\" textLength=\"77\" x=\"20\" y=\"20.9951\">BlockTest</text></a><!--MD5=[b4997ac47864f28c2f74865a473b2911]\n",
       "class E2--><a href=\"psysml:20852434-d7cc-411e-aa3b-cae286a1f6f8\" target=\"_top\" title=\"psysml:20852434-d7cc-411e-aa3b-cae286a1f6f8\" xlink:actuate=\"onRequest\" xlink:href=\"psysml:20852434-d7cc-411e-aa3b-cae286a1f6f8\" xlink:show=\"new\" xlink:title=\"psysml:20852434-d7cc-411e-aa3b-cae286a1f6f8\" xlink:type=\"simple\"><rect fill=\"#FFFFFF\" height=\"45.9375\" id=\"E2\" rx=\"10\" ry=\"10\" style=\"stroke: #383838; stroke-width: 1.5;\" width=\"42\" x=\"53\" y=\"41\"/><text fill=\"#000000\" font-family=\"sans-serif\" font-size=\"12\" font-style=\"italic\" lengthAdjust=\"spacingAndGlyphs\" textLength=\"40\" x=\"54\" y=\"57.1387\">«part»</text><text fill=\"#000000\" font-family=\"sans-serif\" font-size=\"12\" lengthAdjust=\"spacingAndGlyphs\" textLength=\"20\" x=\"64\" y=\"71.1074\">f: A</text><line style=\"stroke: #383838; stroke-width: 1.5;\" x1=\"54\" x2=\"94\" y1=\"78.9375\" y2=\"78.9375\"/></a><!--MD5=[09b614a08d8cba4a07c9adeb5e0fee81]\n",
       "class E3--><a href=\"psysml:cbed5230-ac88-4b7e-9b23-6ffd90d7c059\" target=\"_top\" title=\"psysml:cbed5230-ac88-4b7e-9b23-6ffd90d7c059\" xlink:actuate=\"onRequest\" xlink:href=\"psysml:cbed5230-ac88-4b7e-9b23-6ffd90d7c059\" xlink:show=\"new\" xlink:title=\"psysml:cbed5230-ac88-4b7e-9b23-6ffd90d7c059\" xlink:type=\"simple\"><rect fill=\"#FFFFFF\" height=\"75.5469\" id=\"E3\" style=\"stroke: #383838; stroke-width: 1.5;\" width=\"66\" x=\"185\" y=\"45\"/><text fill=\"#000000\" font-family=\"sans-serif\" font-size=\"12\" font-style=\"italic\" lengthAdjust=\"spacingAndGlyphs\" textLength=\"64\" x=\"186\" y=\"61.1387\">«part def»</text><text fill=\"#000000\" font-family=\"sans-serif\" font-size=\"12\" lengthAdjust=\"spacingAndGlyphs\" textLength=\"8\" x=\"214\" y=\"75.1074\">A</text><line style=\"stroke: #383838; stroke-width: 1.5;\" x1=\"186\" x2=\"250\" y1=\"82.9375\" y2=\"82.9375\"/><text fill=\"#000000\" font-family=\"sans-serif\" font-size=\"11\" lengthAdjust=\"spacingAndGlyphs\" textLength=\"22\" x=\"191\" y=\"113.9526\">c: C</text><line style=\"stroke: #383838; stroke-width: 1.0;\" x1=\"186\" x2=\"203\" y1=\"97.3398\" y2=\"97.3398\"/><text fill=\"#000000\" font-family=\"sans-serif\" font-size=\"11\" lengthAdjust=\"spacingAndGlyphs\" textLength=\"30\" x=\"203\" y=\"100.6479\">ports</text><line style=\"stroke: #383838; stroke-width: 1.0;\" x1=\"233\" x2=\"250\" y1=\"97.3398\" y2=\"97.3398\"/></a><!--MD5=[ebbe1d658d1005bcc118a6aa81145e00]\n",
       "class E4--><a href=\"psysml:1e20eef8-b16d-4a20-93fc-2b015416e79a\" target=\"_top\" title=\"psysml:1e20eef8-b16d-4a20-93fc-2b015416e79a\" xlink:actuate=\"onRequest\" xlink:href=\"psysml:1e20eef8-b16d-4a20-93fc-2b015416e79a\" xlink:show=\"new\" xlink:title=\"psysml:1e20eef8-b16d-4a20-93fc-2b015416e79a\" xlink:type=\"simple\"><rect fill=\"#FFFFFF\" height=\"45.9375\" id=\"E4\" rx=\"10\" ry=\"10\" style=\"stroke: #383838; stroke-width: 1.5;\" width=\"42\" x=\"320\" y=\"80\"/><text fill=\"#000000\" font-family=\"sans-serif\" font-size=\"12\" font-style=\"italic\" lengthAdjust=\"spacingAndGlyphs\" textLength=\"40\" x=\"321\" y=\"96.1387\">«part»</text><text fill=\"#000000\" font-family=\"sans-serif\" font-size=\"12\" lengthAdjust=\"spacingAndGlyphs\" textLength=\"24\" x=\"329\" y=\"110.1074\">b: B</text><line style=\"stroke: #383838; stroke-width: 1.5;\" x1=\"321\" x2=\"361\" y1=\"117.9375\" y2=\"117.9375\"/></a><!--MD5=[60a26617385b1d2d0262a64233df1f8d]\n",
       "class E6--><a href=\"psysml:633af2d2-4d32-4996-ac04-a91fff2e720f\" target=\"_top\" title=\"psysml:633af2d2-4d32-4996-ac04-a91fff2e720f\" xlink:actuate=\"onRequest\" xlink:href=\"psysml:633af2d2-4d32-4996-ac04-a91fff2e720f\" xlink:show=\"new\" xlink:title=\"psysml:633af2d2-4d32-4996-ac04-a91fff2e720f\" xlink:type=\"simple\"><rect fill=\"#FFFFFF\" height=\"75.5469\" id=\"E6\" style=\"stroke: #383838; stroke-width: 1.5;\" width=\"66\" x=\"423\" y=\"92\"/><text fill=\"#000000\" font-family=\"sans-serif\" font-size=\"12\" font-style=\"italic\" lengthAdjust=\"spacingAndGlyphs\" textLength=\"64\" x=\"424\" y=\"108.1387\">«part def»</text><text fill=\"#000000\" font-family=\"sans-serif\" font-size=\"12\" lengthAdjust=\"spacingAndGlyphs\" textLength=\"8\" x=\"452\" y=\"122.1074\">B</text><line style=\"stroke: #383838; stroke-width: 1.5;\" x1=\"424\" x2=\"488\" y1=\"129.9375\" y2=\"129.9375\"/><text fill=\"#000000\" font-family=\"sans-serif\" font-size=\"11\" lengthAdjust=\"spacingAndGlyphs\" textLength=\"31\" x=\"429\" y=\"160.9526\">x: ~C</text><line style=\"stroke: #383838; stroke-width: 1.0;\" x1=\"424\" x2=\"441\" y1=\"144.3398\" y2=\"144.3398\"/><text fill=\"#000000\" font-family=\"sans-serif\" font-size=\"11\" lengthAdjust=\"spacingAndGlyphs\" textLength=\"30\" x=\"441\" y=\"147.6479\">ports</text><line style=\"stroke: #383838; stroke-width: 1.0;\" x1=\"471\" x2=\"488\" y1=\"144.3398\" y2=\"144.3398\"/></a><!--MD5=[b9389687b975829384b498ac4b7476b2]\n",
       "class E8--><a href=\"psysml:adeac7a4-0c31-420e-b3fd-609062fb2f41\" target=\"_top\" title=\"psysml:adeac7a4-0c31-420e-b3fd-609062fb2f41\" xlink:actuate=\"onRequest\" xlink:href=\"psysml:adeac7a4-0c31-420e-b3fd-609062fb2f41\" xlink:show=\"new\" xlink:title=\"psysml:adeac7a4-0c31-420e-b3fd-609062fb2f41\" xlink:type=\"simple\"><rect fill=\"#FFFFFF\" height=\"45.9375\" id=\"E8\" rx=\"10\" ry=\"10\" style=\"stroke: #383838; stroke-width: 1.5;\" width=\"42\" x=\"550\" y=\"41\"/><text fill=\"#000000\" font-family=\"sans-serif\" font-size=\"12\" font-style=\"italic\" lengthAdjust=\"spacingAndGlyphs\" textLength=\"40\" x=\"551\" y=\"57.1387\">«part»</text><text fill=\"#000000\" font-family=\"sans-serif\" font-size=\"12\" lengthAdjust=\"spacingAndGlyphs\" textLength=\"24\" x=\"559\" y=\"71.1074\">a: A</text><line style=\"stroke: #383838; stroke-width: 1.5;\" x1=\"551\" x2=\"591\" y1=\"78.9375\" y2=\"78.9375\"/></a><!--MD5=[96f4274e9e20536e775497830990834d]\n",
       "class E10--><a href=\"psysml:19a0d075-dfec-4a25-8f91-7b5bd5520f32\" target=\"_top\" title=\"psysml:19a0d075-dfec-4a25-8f91-7b5bd5520f32\" xlink:actuate=\"onRequest\" xlink:href=\"psysml:19a0d075-dfec-4a25-8f91-7b5bd5520f32\" xlink:show=\"new\" xlink:title=\"psysml:19a0d075-dfec-4a25-8f91-7b5bd5520f32\" xlink:type=\"simple\"><rect fill=\"#FFFFFF\" height=\"75.5469\" id=\"E10\" style=\"stroke: #383838; stroke-width: 1.5;\" width=\"84\" x=\"32\" y=\"122\"/><text fill=\"#000000\" font-family=\"sans-serif\" font-size=\"12\" font-style=\"italic\" lengthAdjust=\"spacingAndGlyphs\" textLength=\"64\" x=\"42\" y=\"138.1387\">«port def»</text><text fill=\"#000000\" font-family=\"sans-serif\" font-size=\"12\" lengthAdjust=\"spacingAndGlyphs\" textLength=\"8\" x=\"70\" y=\"152.1074\">C</text><line style=\"stroke: #383838; stroke-width: 1.5;\" x1=\"33\" x2=\"115\" y1=\"159.9375\" y2=\"159.9375\"/><text fill=\"#000000\" font-family=\"sans-serif\" font-size=\"11\" lengthAdjust=\"spacingAndGlyphs\" textLength=\"37\" x=\"38\" y=\"190.9526\">y: A, B</text><text fill=\"#000000\" font-family=\"sans-serif\" font-size=\"11\" font-weight=\"bold\" lengthAdjust=\"spacingAndGlyphs\" textLength=\"15\" x=\"79\" y=\"190.9526\">as</text><text fill=\"#000000\" font-family=\"sans-serif\" font-size=\"11\" lengthAdjust=\"spacingAndGlyphs\" textLength=\"12\" x=\"98\" y=\"190.9526\">z2</text><line style=\"stroke: #383838; stroke-width: 1.0;\" x1=\"33\" x2=\"43\" y1=\"174.3398\" y2=\"174.3398\"/><text fill=\"#000000\" font-family=\"sans-serif\" font-size=\"11\" lengthAdjust=\"spacingAndGlyphs\" textLength=\"62\" x=\"43\" y=\"177.6479\">references</text><line style=\"stroke: #383838; stroke-width: 1.0;\" x1=\"105\" x2=\"115\" y1=\"174.3398\" y2=\"174.3398\"/></a><a href=\"psysml:fcdcf065-90d4-4da1-8b43-4feb0ab4c03b\" target=\"_top\" title=\"psysml:fcdcf065-90d4-4da1-8b43-4feb0ab4c03b\" xlink:actuate=\"onRequest\" xlink:href=\"psysml:fcdcf065-90d4-4da1-8b43-4feb0ab4c03b\" xlink:show=\"new\" xlink:title=\"psysml:fcdcf065-90d4-4da1-8b43-4feb0ab4c03b\" xlink:type=\"simple\"><polygon fill=\"#FFFFFF\" points=\"556,122.5,572,122.5,579,144.7969,586,144.7969,586,175.0938,556,175.0938,556,122.5\" style=\"stroke: #000000; stroke-width: 1.5;\"/><line style=\"stroke: #000000; stroke-width: 1.5;\" x1=\"556\" x2=\"579\" y1=\"144.7969\" y2=\"144.7969\"/><text fill=\"#000000\" font-family=\"sans-serif\" font-size=\"14\" font-weight=\"bold\" lengthAdjust=\"spacingAndGlyphs\" textLength=\"10\" x=\"560\" y=\"137.4951\">P</text></a><!--MD5=[2720a5a1f2c3fca2055b230370638851]\n",
       "link E2 to E3--><a href=\"psysml:1f32f64a-cd2f-48b1-a0ff-85d8f5396f29\" target=\"_top\" title=\"psysml:1f32f64a-cd2f-48b1-a0ff-85d8f5396f29\" xlink:actuate=\"onRequest\" xlink:href=\"psysml:1f32f64a-cd2f-48b1-a0ff-85d8f5396f29\" xlink:show=\"new\" xlink:title=\"psysml:1f32f64a-cd2f-48b1-a0ff-85d8f5396f29\" xlink:type=\"simple\"><path d=\"M95.04,66.68 C113.08,69.09 140.38,72.75 164.59,75.99 \" fill=\"none\" id=\"E2-&gt;E3\" style=\"stroke: #383838; stroke-width: 1.0;\"/><polygon fill=\"#FFFFFF\" points=\"184.75,78.68,164.9917,83.1084,166.8414,69.2311,184.75,78.68\" style=\"stroke: #383838; stroke-width: 1.0;\"/><ellipse cx=\"159.6059\" cy=\"80.3729\" fill=\"#383838\" rx=\"2\" ry=\"2\" style=\"stroke: #383838; stroke-width: 1.0;\"/><ellipse cx=\"160.9271\" cy=\"70.4605\" fill=\"#383838\" rx=\"2\" ry=\"2\" style=\"stroke: #383838; stroke-width: 1.0;\"/></a><!--MD5=[4672eba38e49728da53d11aeb285b987]\n",
       "reverse link E3 to E4--><a href=\"psysml:1e20eef8-b16d-4a20-93fc-2b015416e79a\" target=\"_top\" title=\"psysml:1e20eef8-b16d-4a20-93fc-2b015416e79a\" xlink:actuate=\"onRequest\" xlink:href=\"psysml:1e20eef8-b16d-4a20-93fc-2b015416e79a\" xlink:show=\"new\" xlink:title=\"psysml:1e20eef8-b16d-4a20-93fc-2b015416e79a\" xlink:type=\"simple\"><path d=\"M263.96,90.43 C283.2,93.61 304.69,97.16 319.9,99.68 \" fill=\"none\" id=\"E3&lt;-E4\" style=\"stroke: #383838; stroke-width: 1.0;\"/><polygon fill=\"#383838\" points=\"251.11,88.31,256.3743,93.2382,262.9481,90.2742,257.6838,85.3461,251.11,88.31\" style=\"stroke: #383838; stroke-width: 1.0;\"/></a><!--MD5=[79568f1e445c3877b6a54524624ccc7d]\n",
       "link E4 to E6--><a href=\"psysml:97a379fd-51a7-461f-afe4-84a5f5da2292\" target=\"_top\" title=\"psysml:97a379fd-51a7-461f-afe4-84a5f5da2292\" xlink:actuate=\"onRequest\" xlink:href=\"psysml:97a379fd-51a7-461f-afe4-84a5f5da2292\" xlink:show=\"new\" xlink:title=\"psysml:97a379fd-51a7-461f-afe4-84a5f5da2292\" xlink:type=\"simple\"><path d=\"M362.2,107.83 C373.59,110.55 388.4,114.09 402.82,117.53 \" fill=\"none\" id=\"E4-&gt;E6\" style=\"stroke: #383838; stroke-width: 1.0;\"/><polygon fill=\"#FFFFFF\" points=\"422.57,122.25,402.4621,124.6316,405.7233,111.0167,422.57,122.25\" style=\"stroke: #383838; stroke-width: 1.0;\"/><ellipse cx=\"397.3848\" cy=\"121.3588\" fill=\"#383838\" rx=\"2\" ry=\"2\" style=\"stroke: #383838; stroke-width: 1.0;\"/><ellipse cx=\"399.7142\" cy=\"111.6339\" fill=\"#383838\" rx=\"2\" ry=\"2\" style=\"stroke: #383838; stroke-width: 1.0;\"/></a><!--MD5=[3f50a3473f1dfb74d3f76443e03635af]\n",
       "reverse link E6 to E7--><a href=\"psysml:fcdcf065-90d4-4da1-8b43-4feb0ab4c03b\" target=\"_top\" title=\"psysml:fcdcf065-90d4-4da1-8b43-4feb0ab4c03b\" xlink:actuate=\"onRequest\" xlink:href=\"psysml:fcdcf065-90d4-4da1-8b43-4feb0ab4c03b\" xlink:show=\"new\" xlink:title=\"psysml:fcdcf065-90d4-4da1-8b43-4feb0ab4c03b\" xlink:type=\"simple\"><path d=\"M503.97,137.9 C522.72,141.05 542.91,144.44 555.96,146.64 \" fill=\"none\" id=\"E6&lt;-E7\" style=\"stroke: #383838; stroke-width: 1.0;\"/><ellipse cx=\"496.9695\" cy=\"136.7151\" fill=\"#FFFFFF\" rx=\"8\" ry=\"8\" style=\"stroke: #383838; stroke-width: 1.0;\"/><line style=\"stroke: #383838; stroke-width: 1.0;\" x1=\"504.859\" x2=\"489.08\" y1=\"138.0401\" y2=\"135.39\"/><line style=\"stroke: #383838; stroke-width: 1.0;\" x1=\"495.6444\" x2=\"498.2946\" y1=\"144.6046\" y2=\"128.8256\"/></a><!--MD5=[95fa686b5a16158bcdbcaeead89f639b]\n",
       "link E8 to E3--><a href=\"psysml:c8b02122-2142-456b-8199-9bf99e52168e\" target=\"_top\" title=\"psysml:c8b02122-2142-456b-8199-9bf99e52168e\" xlink:actuate=\"onRequest\" xlink:href=\"psysml:c8b02122-2142-456b-8199-9bf99e52168e\" xlink:show=\"new\" xlink:title=\"psysml:c8b02122-2142-456b-8199-9bf99e52168e\" xlink:type=\"simple\"><path d=\"M549.84,62.34 C507.25,59.15 405.06,53.25 320,62 C303.77,63.67 286.31,66.81 270.54,70.16 \" fill=\"none\" id=\"E8-&gt;E3\" style=\"stroke: #383838; stroke-width: 1.0;\"/><polygon fill=\"#FFFFFF\" points=\"251.03,74.59,268.0156,63.5678,271.1066,77.2223,251.03,74.59\" style=\"stroke: #383838; stroke-width: 1.0;\"/><ellipse cx=\"274.0165\" cy=\"64.2599\" fill=\"#383838\" rx=\"2\" ry=\"2\" style=\"stroke: #383838; stroke-width: 1.0;\"/><ellipse cx=\"276.2244\" cy=\"74.0132\" fill=\"#383838\" rx=\"2\" ry=\"2\" style=\"stroke: #383838; stroke-width: 1.0;\"/></a><!--MD5=[f4cf0736d43fd73c4ef68817c49d37d5]\n",
       "reverse link E6 to E8--><a href=\"psysml:adeac7a4-0c31-420e-b3fd-609062fb2f41\" target=\"_top\" title=\"psysml:adeac7a4-0c31-420e-b3fd-609062fb2f41\" xlink:actuate=\"onRequest\" xlink:href=\"psysml:adeac7a4-0c31-420e-b3fd-609062fb2f41\" xlink:show=\"new\" xlink:title=\"psysml:adeac7a4-0c31-420e-b3fd-609062fb2f41\" xlink:type=\"simple\"><path d=\"M500.52,104.58 C517.54,94.64 536.23,83.72 549.94,75.72 \" fill=\"none\" id=\"E6&lt;-E8\" style=\"stroke: #383838; stroke-width: 1.0;\"/><polygon fill=\"#383838\" points=\"489.08,111.26,496.2784,111.6885,499.4425,105.2086,492.2441,104.7802,489.08,111.26\" style=\"stroke: #383838; stroke-width: 1.0;\"/></a><!--MD5=[8e04057e7b3cbc0dca4fc78ea351e2da]\n",
       "reverse link E10 to E3--><a href=\"psysml:4b320237-d900-4f83-8ac2-28b55b9df163\" target=\"_top\" title=\"psysml:4b320237-d900-4f83-8ac2-28b55b9df163\" xlink:actuate=\"onRequest\" xlink:href=\"psysml:4b320237-d900-4f83-8ac2-28b55b9df163\" xlink:show=\"new\" xlink:title=\"psysml:4b320237-d900-4f83-8ac2-28b55b9df163\" xlink:type=\"simple\"><path d=\"M127.66,131.44 C146.75,121.09 167.75,109.71 184.58,100.58 \" fill=\"none\" id=\"E10&lt;-E3\" style=\"stroke: #383838; stroke-width: 1.0;\"/><polygon fill=\"#FFFFFF\" points=\"116.07,137.73,123.2513,138.3848,126.6178,132.0078,119.4365,131.353,116.07,137.73\" style=\"stroke: #383838; stroke-width: 1.0;\"/><text fill=\"#000000\" font-family=\"sans-serif\" font-size=\"13\" lengthAdjust=\"spacingAndGlyphs\" textLength=\"7\" x=\"147\" y=\"113.0669\">y</text></a><!--MD5=[604cbf994c02b74b117f728a71673cea]\n",
       "reverse link E10 to E6--><a href=\"psysml:4b320237-d900-4f83-8ac2-28b55b9df163\" target=\"_top\" title=\"psysml:4b320237-d900-4f83-8ac2-28b55b9df163\" xlink:actuate=\"onRequest\" xlink:href=\"psysml:4b320237-d900-4f83-8ac2-28b55b9df163\" xlink:show=\"new\" xlink:title=\"psysml:4b320237-d900-4f83-8ac2-28b55b9df163\" xlink:type=\"simple\"><path d=\"M129.62,158.06 C187.43,155.71 281.3,151.02 362,143 C382.28,140.99 404.93,137.84 422.8,135.15 \" fill=\"none\" id=\"E10&lt;-E6\" style=\"stroke: #383838; stroke-width: 1.0;\"/><polygon fill=\"#FFFFFF\" points=\"116.43,158.58,122.5834,162.3397,128.4206,158.1056,122.2672,154.3459,116.43,158.58\" style=\"stroke: #383838; stroke-width: 1.0;\"/><text fill=\"#000000\" font-family=\"sans-serif\" font-size=\"13\" lengthAdjust=\"spacingAndGlyphs\" textLength=\"7\" x=\"282\" y=\"146.0669\">y</text></a><!--MD5=[90fd31b87bb0f06ba93810dd7773926f]\n",
       "@startuml\r\n",
       "left to right direction\r\n",
       "skinparam monochrome true\r\n",
       "skinparam classbackgroundcolor white\r\n",
       "skinparam shadowing false\r\n",
       "skinparam wrapWidth 300\r\n",
       "hide circle\r\n",
       "\r\n",
       "package \"BlockTest\" as E1  [[psysml:c0b99535-16c1-47cf-a8d5-3f20b133a54a ]]  {\r\n",
       "comp usage \"f: A\" as E2  <<(T,blue)part>> [[psysml:20852434-d7cc-411e-aa3b-cae286a1f6f8 ]] {\r\n",
       "}\r\n",
       "comp def \"A\" as E3  <<(T,blue)part def>> [[psysml:cbed5230-ac88-4b7e-9b23-6ffd90d7c059 ]] {\r\n",
       "- - ports - -\r\n",
       "c: C\r\n",
       "}\r\n",
       "comp usage \"b: B\" as E4  <<(T,blue)part>> [[psysml:1e20eef8-b16d-4a20-93fc-2b015416e79a ]] {\r\n",
       "}\r\n",
       "comp def \"B\" as E6  <<(T,blue)part def>> [[psysml:633af2d2-4d32-4996-ac04-a91fff2e720f ]] {\r\n",
       "- - ports - -\r\n",
       "x: ~C\r\n",
       "}\r\n",
       "package \"P\" as E7  [[psysml:fcdcf065-90d4-4da1-8b43-4feb0ab4c03b ]]  {\r\n",
       "}\r\n",
       "comp usage \"a: A\" as E8  <<(T,blue)part>> [[psysml:adeac7a4-0c31-420e-b3fd-609062fb2f41 ]] {\r\n",
       "}\r\n",
       "comp def \"C\" as E10  <<(T,blue)port def>> [[psysml:19a0d075-dfec-4a25-8f91-7b5bd5520f32 ]] {\r\n",
       "- - references - -\r\n",
       "y: A, B <b>as</b> z2 \r\n",
       "}\r\n",
       "E2 - -:|> E3 [[psysml:1f32f64a-cd2f-48b1-a0ff-85d8f5396f29 ]] \r\n",
       "E3 *- - E4 [[psysml:1e20eef8-b16d-4a20-93fc-2b015416e79a ]] \r\n",
       "E4 - -:|> E6 [[psysml:97a379fd-51a7-461f-afe4-84a5f5da2292 ]] \r\n",
       "E6 +- - E7 [[psysml:fcdcf065-90d4-4da1-8b43-4feb0ab4c03b ]] \r\n",
       "E8 - -:|> E3 [[psysml:c8b02122-2142-456b-8199-9bf99e52168e ]] \r\n",
       "E6 *- - E8 [[psysml:adeac7a4-0c31-420e-b3fd-609062fb2f41 ]] \r\n",
       "E10 o- - E3 [[psysml:4b320237-d900-4f83-8ac2-28b55b9df163 ]] : y\r\n",
       "E10 o- - E6 [[psysml:4b320237-d900-4f83-8ac2-28b55b9df163 ]] : y\r\n",
       "}\r\n",
       "@enduml\r\n",
       "\n",
       "PlantUML version 1.2020.13(Sat Jun 13 12:26:38 UTC 2020)\n",
       "(EPL source distribution)\n",
       "Java Runtime: OpenJDK Runtime Environment\n",
       "JVM: OpenJDK 64-Bit Server VM\n",
       "Default Encoding: UTF-8\n",
       "Language: en\n",
       "Country: null\n",
       "--></g></svg>"
      ]
     },
     "execution_count": 17,
     "metadata": {},
     "output_type": "execute_result"
    }
   ],
   "source": [
    "%viz --style=\"LR\" --view=\"Tree\" \"BlockTest\""
   ]
  },
  {
   "cell_type": "code",
   "execution_count": 18,
   "id": "allied-elizabeth",
   "metadata": {
    "execution": {
     "iopub.execute_input": "2021-03-25T14:59:50.073895Z",
     "iopub.status.busy": "2021-03-25T14:59:50.073446Z",
     "iopub.status.idle": "2021-03-25T14:59:50.081649Z",
     "shell.execute_reply": "2021-03-25T14:59:50.082202Z"
    }
   },
   "outputs": [
    {
     "data": {
      "image/svg+xml": [
       "<?xml version=\"1.0\" encoding=\"UTF-8\" standalone=\"no\"?><svg xmlns=\"http://www.w3.org/2000/svg\" xmlns:xlink=\"http://www.w3.org/1999/xlink\" contentScriptType=\"application/ecmascript\" contentStyleType=\"text/css\" height=\"12px\" preserveAspectRatio=\"none\" style=\"width:12px;height:12px;\" version=\"1.1\" viewBox=\"0 0 12 12\" width=\"12px\" zoomAndPan=\"magnify\"><defs/><g><!--MD5=[19d285c9d72a204eba4e2cd117d745e8]\n",
       "@startuml\r\n",
       "left to right direction\r\n",
       "skinparam monochrome true\r\n",
       "skinparam classbackgroundcolor white\r\n",
       "skinparam shadowing false\r\n",
       "skinparam wrapWidth 300\r\n",
       "hide circle\r\n",
       "\r\n",
       "@enduml\r\n",
       "\n",
       "PlantUML version 1.2020.13(Sat Jun 13 12:26:38 UTC 2020)\n",
       "(EPL source distribution)\n",
       "Java Runtime: OpenJDK Runtime Environment\n",
       "JVM: OpenJDK 64-Bit Server VM\n",
       "Default Encoding: UTF-8\n",
       "Language: en\n",
       "Country: null\n",
       "--></g></svg>"
      ]
     },
     "execution_count": 18,
     "metadata": {},
     "output_type": "execute_result"
    }
   ],
   "source": [
    "%viz --style=\"LR\" --view=\"State\" \"BlockTest\""
   ]
  },
  {
   "cell_type": "code",
   "execution_count": 19,
   "id": "necessary-grammar",
   "metadata": {
    "execution": {
     "iopub.execute_input": "2021-03-25T14:59:50.135196Z",
     "iopub.status.busy": "2021-03-25T14:59:50.133769Z",
     "iopub.status.idle": "2021-03-25T14:59:50.317228Z",
     "shell.execute_reply": "2021-03-25T14:59:50.318081Z"
    }
   },
   "outputs": [
    {
     "data": {
      "image/svg+xml": [
       "<?xml version=\"1.0\" encoding=\"UTF-8\" standalone=\"no\"?><svg xmlns=\"http://www.w3.org/2000/svg\" xmlns:xlink=\"http://www.w3.org/1999/xlink\" contentScriptType=\"application/ecmascript\" contentStyleType=\"text/css\" height=\"442px\" preserveAspectRatio=\"none\" style=\"width:361px;height:442px;\" version=\"1.1\" viewBox=\"0 0 361 442\" width=\"361px\" zoomAndPan=\"magnify\"><defs/><g><!--MD5=[fbc87193dbaf4d95561dea2c320d4a47]\n",
       "cluster E1--><a href=\"psysml:c0b99535-16c1-47cf-a8d5-3f20b133a54a\" target=\"_top\" title=\"psysml:c0b99535-16c1-47cf-a8d5-3f20b133a54a\" xlink:actuate=\"onRequest\" xlink:href=\"psysml:c0b99535-16c1-47cf-a8d5-3f20b133a54a\" xlink:show=\"new\" xlink:title=\"psysml:c0b99535-16c1-47cf-a8d5-3f20b133a54a\" xlink:type=\"simple\"><polygon fill=\"#FFFFFF\" points=\"16,6,99,6,106,28.2969,339,28.2969,339,430,16,430,16,6\" style=\"stroke: #000000; stroke-width: 1.5;\"/><line style=\"stroke: #000000; stroke-width: 1.5;\" x1=\"16\" x2=\"106\" y1=\"28.2969\" y2=\"28.2969\"/><text fill=\"#000000\" font-family=\"sans-serif\" font-size=\"14\" font-weight=\"bold\" lengthAdjust=\"spacingAndGlyphs\" textLength=\"77\" x=\"20\" y=\"20.9951\">BlockTest</text></a><!--MD5=[d5e69f78d87373223dbae638b30a9c99]\n",
       "cluster E3--><a href=\"psysml:cbed5230-ac88-4b7e-9b23-6ffd90d7c059\" target=\"_top\" title=\"psysml:cbed5230-ac88-4b7e-9b23-6ffd90d7c059\" xlink:actuate=\"onRequest\" xlink:href=\"psysml:cbed5230-ac88-4b7e-9b23-6ffd90d7c059\" xlink:show=\"new\" xlink:title=\"psysml:cbed5230-ac88-4b7e-9b23-6ffd90d7c059\" xlink:type=\"simple\"><rect fill=\"#FFFFFF\" height=\"72\" id=\"E3\" style=\"stroke: #383838; stroke-width: 1.5;\" width=\"234\" x=\"89\" y=\"41\"/><rect fill=\"#F8F8F8\" height=\"37.9375\" style=\"stroke: #383838; stroke-width: 1.5;\" width=\"234\" x=\"89\" y=\"41\"/><text fill=\"#000000\" font-family=\"sans-serif\" font-size=\"12\" font-style=\"italic\" lengthAdjust=\"spacingAndGlyphs\" textLength=\"64\" x=\"174\" y=\"57.1387\">«part def»</text><text fill=\"#000000\" font-family=\"sans-serif\" font-size=\"12\" lengthAdjust=\"spacingAndGlyphs\" textLength=\"8\" x=\"202\" y=\"71.1074\">A</text></a><!--MD5=[14e3b0961a2654348d326746436168a1]\n",
       "cluster E6--><a href=\"psysml:633af2d2-4d32-4996-ac04-a91fff2e720f\" target=\"_top\" title=\"psysml:633af2d2-4d32-4996-ac04-a91fff2e720f\" xlink:actuate=\"onRequest\" xlink:href=\"psysml:633af2d2-4d32-4996-ac04-a91fff2e720f\" xlink:show=\"new\" xlink:title=\"psysml:633af2d2-4d32-4996-ac04-a91fff2e720f\" xlink:type=\"simple\"><rect fill=\"#FFFFFF\" height=\"156\" id=\"E6\" style=\"stroke: #383838; stroke-width: 1.5;\" width=\"234\" x=\"89\" y=\"121\"/><rect fill=\"#F8F8F8\" height=\"37.9375\" style=\"stroke: #383838; stroke-width: 1.5;\" width=\"234\" x=\"89\" y=\"121\"/><text fill=\"#000000\" font-family=\"sans-serif\" font-size=\"12\" font-style=\"italic\" lengthAdjust=\"spacingAndGlyphs\" textLength=\"64\" x=\"174\" y=\"137.1387\">«part def»</text><text fill=\"#000000\" font-family=\"sans-serif\" font-size=\"12\" lengthAdjust=\"spacingAndGlyphs\" textLength=\"8\" x=\"202\" y=\"151.1074\">B</text></a><!--MD5=[96f4274e9e20536e775497830990834d]\n",
       "class E10--><a href=\"psysml:19a0d075-dfec-4a25-8f91-7b5bd5520f32\" target=\"_top\" title=\"psysml:19a0d075-dfec-4a25-8f91-7b5bd5520f32\" xlink:actuate=\"onRequest\" xlink:href=\"psysml:19a0d075-dfec-4a25-8f91-7b5bd5520f32\" xlink:show=\"new\" xlink:title=\"psysml:19a0d075-dfec-4a25-8f91-7b5bd5520f32\" xlink:type=\"simple\"><rect fill=\"#FFFFFF\" height=\"53.9375\" id=\"E10\" style=\"stroke: #383838; stroke-width: 1.5;\" width=\"114\" x=\"32\" y=\"285\"/><text fill=\"#000000\" font-family=\"sans-serif\" font-size=\"12\" font-style=\"italic\" lengthAdjust=\"spacingAndGlyphs\" textLength=\"112\" x=\"33\" y=\"301.1387\">«(T,blue)port def»</text><text fill=\"#000000\" font-family=\"sans-serif\" font-size=\"12\" lengthAdjust=\"spacingAndGlyphs\" textLength=\"8\" x=\"85\" y=\"315.1074\">C</text><line style=\"stroke: #383838; stroke-width: 1.5;\" x1=\"33\" x2=\"145\" y1=\"322.9375\" y2=\"322.9375\"/><line style=\"stroke: #383838; stroke-width: 1.5;\" x1=\"33\" x2=\"145\" y1=\"330.9375\" y2=\"330.9375\"/></a><g id=\"E1.E2\"><a href=\"psysml:20852434-d7cc-411e-aa3b-cae286a1f6f8\" target=\"_top\" title=\"psysml:20852434-d7cc-411e-aa3b-cae286a1f6f8\" xlink:actuate=\"onRequest\" xlink:href=\"psysml:20852434-d7cc-411e-aa3b-cae286a1f6f8\" xlink:show=\"new\" xlink:title=\"psysml:20852434-d7cc-411e-aa3b-cae286a1f6f8\" xlink:type=\"simple\"><rect fill=\"#FFFFFF\" height=\"40\" id=\"E2\" rx=\"10\" ry=\"10\" style=\"stroke: #383838; stroke-width: 1.5;\" width=\"50\" x=\"64\" y=\"374\"/><rect fill=\"#F8F8F8\" height=\"23.9688\" rx=\"10\" ry=\"10\" style=\"stroke: #F8F8F8; stroke-width: 1.5;\" width=\"50\" x=\"64\" y=\"374\"/><rect fill=\"#F8F8F8\" height=\"10\" style=\"stroke: #F8F8F8; stroke-width: 1.5;\" width=\"50\" x=\"64\" y=\"387.9688\"/><rect fill=\"none\" height=\"40\" id=\"E2\" rx=\"10\" ry=\"10\" style=\"stroke: #383838; stroke-width: 1.5;\" width=\"50\" x=\"64\" y=\"374\"/><text fill=\"#000000\" font-family=\"sans-serif\" font-size=\"12\" lengthAdjust=\"spacingAndGlyphs\" textLength=\"20\" x=\"79\" y=\"390.1387\">f: A</text></a></g><text fill=\"#000000\" font-family=\"sans-serif\" font-size=\"14\" lengthAdjust=\"spacingAndGlyphs\" textLength=\"27\" x=\"75.5\" y=\"55.6982\">c: C</text><rect fill=\"#383838\" height=\"12\" style=\"stroke: #F8F8F8; stroke-width: 1.5;\" width=\"12\" x=\"83\" y=\"71\"/><g id=\"E1.E3.E4\"><a href=\"psysml:1e20eef8-b16d-4a20-93fc-2b015416e79a\" target=\"_top\" title=\"psysml:1e20eef8-b16d-4a20-93fc-2b015416e79a\" xlink:actuate=\"onRequest\" xlink:href=\"psysml:1e20eef8-b16d-4a20-93fc-2b015416e79a\" xlink:show=\"new\" xlink:title=\"psysml:1e20eef8-b16d-4a20-93fc-2b015416e79a\" xlink:type=\"simple\"><rect fill=\"#FFFFFF\" height=\"40\" id=\"E4\" rx=\"10\" ry=\"10\" style=\"stroke: #383838; stroke-width: 1.5;\" width=\"50\" x=\"257\" y=\"57\"/><rect fill=\"#F8F8F8\" height=\"23.9688\" rx=\"10\" ry=\"10\" style=\"stroke: #F8F8F8; stroke-width: 1.5;\" width=\"50\" x=\"257\" y=\"57\"/><rect fill=\"#F8F8F8\" height=\"10\" style=\"stroke: #F8F8F8; stroke-width: 1.5;\" width=\"50\" x=\"257\" y=\"70.9688\"/><rect fill=\"none\" height=\"40\" id=\"E4\" rx=\"10\" ry=\"10\" style=\"stroke: #383838; stroke-width: 1.5;\" width=\"50\" x=\"257\" y=\"57\"/><text fill=\"#000000\" font-family=\"sans-serif\" font-size=\"12\" lengthAdjust=\"spacingAndGlyphs\" textLength=\"24\" x=\"270\" y=\"73.1387\">b: B</text></a></g><text fill=\"#000000\" font-family=\"sans-serif\" font-size=\"14\" lengthAdjust=\"spacingAndGlyphs\" textLength=\"38\" x=\"70\" y=\"133.6982\">x: ~C</text><rect fill=\"#383838\" height=\"12\" style=\"stroke: #F8F8F8; stroke-width: 1.5;\" width=\"12\" x=\"83\" y=\"149\"/><a href=\"psysml:fcdcf065-90d4-4da1-8b43-4feb0ab4c03b\" target=\"_top\" title=\"psysml:fcdcf065-90d4-4da1-8b43-4feb0ab4c03b\" xlink:actuate=\"onRequest\" xlink:href=\"psysml:fcdcf065-90d4-4da1-8b43-4feb0ab4c03b\" xlink:show=\"new\" xlink:title=\"psysml:fcdcf065-90d4-4da1-8b43-4feb0ab4c03b\" xlink:type=\"simple\"><polygon fill=\"#FFFFFF\" points=\"190.5,207.5,206.5,207.5,213.5,229.7969,220.5,229.7969,220.5,260.0938,190.5,260.0938,190.5,207.5\" style=\"stroke: #000000; stroke-width: 1.5;\"/><line style=\"stroke: #000000; stroke-width: 1.5;\" x1=\"190.5\" x2=\"213.5\" y1=\"229.7969\" y2=\"229.7969\"/><text fill=\"#000000\" font-family=\"sans-serif\" font-size=\"14\" font-weight=\"bold\" lengthAdjust=\"spacingAndGlyphs\" textLength=\"10\" x=\"194.5\" y=\"222.4951\">P</text></a><g id=\"E1.E6.E8\"><a href=\"psysml:adeac7a4-0c31-420e-b3fd-609062fb2f41\" target=\"_top\" title=\"psysml:adeac7a4-0c31-420e-b3fd-609062fb2f41\" xlink:actuate=\"onRequest\" xlink:href=\"psysml:adeac7a4-0c31-420e-b3fd-609062fb2f41\" xlink:show=\"new\" xlink:title=\"psysml:adeac7a4-0c31-420e-b3fd-609062fb2f41\" xlink:type=\"simple\"><rect fill=\"#FFFFFF\" height=\"40\" id=\"E8\" rx=\"10\" ry=\"10\" style=\"stroke: #383838; stroke-width: 1.5;\" width=\"50\" x=\"257\" y=\"137\"/><rect fill=\"#F8F8F8\" height=\"23.9688\" rx=\"10\" ry=\"10\" style=\"stroke: #F8F8F8; stroke-width: 1.5;\" width=\"50\" x=\"257\" y=\"137\"/><rect fill=\"#F8F8F8\" height=\"10\" style=\"stroke: #F8F8F8; stroke-width: 1.5;\" width=\"50\" x=\"257\" y=\"150.9688\"/><rect fill=\"none\" height=\"40\" id=\"E8\" rx=\"10\" ry=\"10\" style=\"stroke: #383838; stroke-width: 1.5;\" width=\"50\" x=\"257\" y=\"137\"/><text fill=\"#000000\" font-family=\"sans-serif\" font-size=\"12\" lengthAdjust=\"spacingAndGlyphs\" textLength=\"24\" x=\"270\" y=\"153.1387\">a: A</text></a></g><!--MD5=[b57a63808a27cd40689915f5db3c2e05]\n",
       "@startuml\r\n",
       "skinparam ranksep 8\r\n",
       "skinparam rectangle {\r\n",
       " backgroundColor<<block>> LightGreen\r\n",
       "}\r\n",
       "left to right direction\r\n",
       "skinparam monochrome true\r\n",
       "skinparam classbackgroundcolor white\r\n",
       "skinparam shadowing false\r\n",
       "skinparam wrapWidth 300\r\n",
       "hide circle\r\n",
       "\r\n",
       "package \"BlockTest\" as E1  [[psysml:c0b99535-16c1-47cf-a8d5-3f20b133a54a ]]  {\r\n",
       "rec usage \"f: A\" as E2  [[psysml:20852434-d7cc-411e-aa3b-cae286a1f6f8 ]] {\r\n",
       "}\r\n",
       "rec def \"A\" as E3  <<(T,blue)part def>> [[psysml:cbed5230-ac88-4b7e-9b23-6ffd90d7c059 ]] {\r\n",
       "rec usage \"b: B\" as E4  [[psysml:1e20eef8-b16d-4a20-93fc-2b015416e79a ]] {\r\n",
       "}\r\n",
       "portin \"c: C\" as E5  <<(T,blue)port>> [[psysml:fb57aec8-8cad-41ed-886b-c51c957131e5 ]] \r\n",
       "}\r\n",
       "rec def \"B\" as E6  <<(T,blue)part def>> [[psysml:633af2d2-4d32-4996-ac04-a91fff2e720f ]] {\r\n",
       "package \"P\" as E7  [[psysml:fcdcf065-90d4-4da1-8b43-4feb0ab4c03b ]]  {\r\n",
       "}\r\n",
       "rec usage \"a: A\" as E8  [[psysml:adeac7a4-0c31-420e-b3fd-609062fb2f41 ]] {\r\n",
       "}\r\n",
       "portin \"x: ~C\" as E9  <<(T,blue)port>> [[psysml:64509ffc-1e29-47d8-8b93-efd607e70ae2 ]] \r\n",
       "}\r\n",
       "def \"C\" as E10  <<(T,blue)port def>> [[psysml:19a0d075-dfec-4a25-8f91-7b5bd5520f32 ]] \r\n",
       "}\r\n",
       "@enduml\r\n",
       "\n",
       "PlantUML version 1.2020.13(Sat Jun 13 12:26:38 UTC 2020)\n",
       "(EPL source distribution)\n",
       "Java Runtime: OpenJDK Runtime Environment\n",
       "JVM: OpenJDK 64-Bit Server VM\n",
       "Default Encoding: UTF-8\n",
       "Language: en\n",
       "Country: null\n",
       "--></g></svg>"
      ]
     },
     "execution_count": 19,
     "metadata": {},
     "output_type": "execute_result"
    }
   ],
   "source": [
    "%viz --style=\"LR\" --view=\"Interconnection\" \"BlockTest\""
   ]
  },
  {
   "cell_type": "code",
   "execution_count": 20,
   "id": "composite-theory",
   "metadata": {
    "execution": {
     "iopub.execute_input": "2021-03-25T14:59:50.369325Z",
     "iopub.status.busy": "2021-03-25T14:59:50.368673Z",
     "iopub.status.idle": "2021-03-25T14:59:50.380794Z",
     "shell.execute_reply": "2021-03-25T14:59:50.379811Z"
    }
   },
   "outputs": [
    {
     "data": {
      "image/svg+xml": [
       "<?xml version=\"1.0\" encoding=\"UTF-8\" standalone=\"no\"?><svg xmlns=\"http://www.w3.org/2000/svg\" xmlns:xlink=\"http://www.w3.org/1999/xlink\" contentScriptType=\"application/ecmascript\" contentStyleType=\"text/css\" height=\"12px\" preserveAspectRatio=\"none\" style=\"width:12px;height:12px;\" version=\"1.1\" viewBox=\"0 0 12 12\" width=\"12px\" zoomAndPan=\"magnify\"><defs/><g><!--MD5=[7aeb398939421629f6affaa4a1a7b125]\n",
       "@startuml\r\n",
       "skinparam ranksep 8\r\n",
       "left to right direction\r\n",
       "skinparam monochrome true\r\n",
       "skinparam classbackgroundcolor white\r\n",
       "skinparam shadowing false\r\n",
       "skinparam wrapWidth 300\r\n",
       "hide circle\r\n",
       "\r\n",
       "@enduml\r\n",
       "\n",
       "PlantUML version 1.2020.13(Sat Jun 13 12:26:38 UTC 2020)\n",
       "(EPL source distribution)\n",
       "Java Runtime: OpenJDK Runtime Environment\n",
       "JVM: OpenJDK 64-Bit Server VM\n",
       "Default Encoding: UTF-8\n",
       "Language: en\n",
       "Country: null\n",
       "--></g></svg>"
      ]
     },
     "execution_count": 20,
     "metadata": {},
     "output_type": "execute_result"
    }
   ],
   "source": [
    "%viz --style=\"LR\" --view=\"Action\" \"BlockTest\""
   ]
  },
  {
   "cell_type": "code",
   "execution_count": 21,
   "id": "mechanical-familiar",
   "metadata": {
    "execution": {
     "iopub.execute_input": "2021-03-25T14:59:50.433220Z",
     "iopub.status.busy": "2021-03-25T14:59:50.431911Z",
     "iopub.status.idle": "2021-03-25T14:59:50.976476Z",
     "shell.execute_reply": "2021-03-25T14:59:50.975633Z"
    }
   },
   "outputs": [
    {
     "data": {
      "image/svg+xml": [
       "<?xml version=\"1.0\" encoding=\"UTF-8\" standalone=\"no\"?><svg xmlns=\"http://www.w3.org/2000/svg\" xmlns:xlink=\"http://www.w3.org/1999/xlink\" contentScriptType=\"application/ecmascript\" contentStyleType=\"text/css\" height=\"226px\" preserveAspectRatio=\"none\" style=\"width:630px;height:226px;\" version=\"1.1\" viewBox=\"0 0 630 226\" width=\"630px\" zoomAndPan=\"magnify\"><defs/><g><!--MD5=[fbc87193dbaf4d95561dea2c320d4a47]\n",
       "cluster E1--><a href=\"psysml:c0b99535-16c1-47cf-a8d5-3f20b133a54a\" target=\"_top\" title=\"psysml:c0b99535-16c1-47cf-a8d5-3f20b133a54a\" xlink:actuate=\"onRequest\" xlink:href=\"psysml:c0b99535-16c1-47cf-a8d5-3f20b133a54a\" xlink:show=\"new\" xlink:title=\"psysml:c0b99535-16c1-47cf-a8d5-3f20b133a54a\" xlink:type=\"simple\"><polygon fill=\"#FFFFFF\" points=\"16,6,99,6,106,28.2969,608,28.2969,608,214,16,214,16,6\" style=\"stroke: #000000; stroke-width: 1.5;\"/><line style=\"stroke: #000000; stroke-width: 1.5;\" x1=\"16\" x2=\"106\" y1=\"28.2969\" y2=\"28.2969\"/><text fill=\"#000000\" font-family=\"sans-serif\" font-size=\"14\" font-weight=\"bold\" lengthAdjust=\"spacingAndGlyphs\" textLength=\"77\" x=\"20\" y=\"20.9951\">BlockTest</text></a><!--MD5=[b4997ac47864f28c2f74865a473b2911]\n",
       "class E2--><a href=\"psysml:20852434-d7cc-411e-aa3b-cae286a1f6f8\" target=\"_top\" title=\"psysml:20852434-d7cc-411e-aa3b-cae286a1f6f8\" xlink:actuate=\"onRequest\" xlink:href=\"psysml:20852434-d7cc-411e-aa3b-cae286a1f6f8\" xlink:show=\"new\" xlink:title=\"psysml:20852434-d7cc-411e-aa3b-cae286a1f6f8\" xlink:type=\"simple\"><rect fill=\"#FFFFFF\" height=\"45.9375\" id=\"E2\" rx=\"10\" ry=\"10\" style=\"stroke: #383838; stroke-width: 1.5;\" width=\"42\" x=\"53\" y=\"41\"/><text fill=\"#000000\" font-family=\"sans-serif\" font-size=\"12\" font-style=\"italic\" lengthAdjust=\"spacingAndGlyphs\" textLength=\"40\" x=\"54\" y=\"57.1387\">«part»</text><text fill=\"#000000\" font-family=\"sans-serif\" font-size=\"12\" lengthAdjust=\"spacingAndGlyphs\" textLength=\"20\" x=\"64\" y=\"71.1074\">f: A</text><line style=\"stroke: #383838; stroke-width: 1.5;\" x1=\"54\" x2=\"94\" y1=\"78.9375\" y2=\"78.9375\"/></a><!--MD5=[09b614a08d8cba4a07c9adeb5e0fee81]\n",
       "class E3--><a href=\"psysml:cbed5230-ac88-4b7e-9b23-6ffd90d7c059\" target=\"_top\" title=\"psysml:cbed5230-ac88-4b7e-9b23-6ffd90d7c059\" xlink:actuate=\"onRequest\" xlink:href=\"psysml:cbed5230-ac88-4b7e-9b23-6ffd90d7c059\" xlink:show=\"new\" xlink:title=\"psysml:cbed5230-ac88-4b7e-9b23-6ffd90d7c059\" xlink:type=\"simple\"><rect fill=\"#FFFFFF\" height=\"75.5469\" id=\"E3\" style=\"stroke: #383838; stroke-width: 1.5;\" width=\"66\" x=\"185\" y=\"45\"/><text fill=\"#000000\" font-family=\"sans-serif\" font-size=\"12\" font-style=\"italic\" lengthAdjust=\"spacingAndGlyphs\" textLength=\"64\" x=\"186\" y=\"61.1387\">«part def»</text><text fill=\"#000000\" font-family=\"sans-serif\" font-size=\"12\" lengthAdjust=\"spacingAndGlyphs\" textLength=\"8\" x=\"214\" y=\"75.1074\">A</text><line style=\"stroke: #383838; stroke-width: 1.5;\" x1=\"186\" x2=\"250\" y1=\"82.9375\" y2=\"82.9375\"/><text fill=\"#000000\" font-family=\"sans-serif\" font-size=\"11\" lengthAdjust=\"spacingAndGlyphs\" textLength=\"22\" x=\"191\" y=\"113.9526\">c: C</text><line style=\"stroke: #383838; stroke-width: 1.0;\" x1=\"186\" x2=\"203\" y1=\"97.3398\" y2=\"97.3398\"/><text fill=\"#000000\" font-family=\"sans-serif\" font-size=\"11\" lengthAdjust=\"spacingAndGlyphs\" textLength=\"30\" x=\"203\" y=\"100.6479\">ports</text><line style=\"stroke: #383838; stroke-width: 1.0;\" x1=\"233\" x2=\"250\" y1=\"97.3398\" y2=\"97.3398\"/></a><!--MD5=[ebbe1d658d1005bcc118a6aa81145e00]\n",
       "class E4--><a href=\"psysml:1e20eef8-b16d-4a20-93fc-2b015416e79a\" target=\"_top\" title=\"psysml:1e20eef8-b16d-4a20-93fc-2b015416e79a\" xlink:actuate=\"onRequest\" xlink:href=\"psysml:1e20eef8-b16d-4a20-93fc-2b015416e79a\" xlink:show=\"new\" xlink:title=\"psysml:1e20eef8-b16d-4a20-93fc-2b015416e79a\" xlink:type=\"simple\"><rect fill=\"#FFFFFF\" height=\"45.9375\" id=\"E4\" rx=\"10\" ry=\"10\" style=\"stroke: #383838; stroke-width: 1.5;\" width=\"42\" x=\"320\" y=\"80\"/><text fill=\"#000000\" font-family=\"sans-serif\" font-size=\"12\" font-style=\"italic\" lengthAdjust=\"spacingAndGlyphs\" textLength=\"40\" x=\"321\" y=\"96.1387\">«part»</text><text fill=\"#000000\" font-family=\"sans-serif\" font-size=\"12\" lengthAdjust=\"spacingAndGlyphs\" textLength=\"24\" x=\"329\" y=\"110.1074\">b: B</text><line style=\"stroke: #383838; stroke-width: 1.5;\" x1=\"321\" x2=\"361\" y1=\"117.9375\" y2=\"117.9375\"/></a><!--MD5=[60a26617385b1d2d0262a64233df1f8d]\n",
       "class E6--><a href=\"psysml:633af2d2-4d32-4996-ac04-a91fff2e720f\" target=\"_top\" title=\"psysml:633af2d2-4d32-4996-ac04-a91fff2e720f\" xlink:actuate=\"onRequest\" xlink:href=\"psysml:633af2d2-4d32-4996-ac04-a91fff2e720f\" xlink:show=\"new\" xlink:title=\"psysml:633af2d2-4d32-4996-ac04-a91fff2e720f\" xlink:type=\"simple\"><rect fill=\"#FFFFFF\" height=\"75.5469\" id=\"E6\" style=\"stroke: #383838; stroke-width: 1.5;\" width=\"66\" x=\"423\" y=\"92\"/><text fill=\"#000000\" font-family=\"sans-serif\" font-size=\"12\" font-style=\"italic\" lengthAdjust=\"spacingAndGlyphs\" textLength=\"64\" x=\"424\" y=\"108.1387\">«part def»</text><text fill=\"#000000\" font-family=\"sans-serif\" font-size=\"12\" lengthAdjust=\"spacingAndGlyphs\" textLength=\"8\" x=\"452\" y=\"122.1074\">B</text><line style=\"stroke: #383838; stroke-width: 1.5;\" x1=\"424\" x2=\"488\" y1=\"129.9375\" y2=\"129.9375\"/><text fill=\"#000000\" font-family=\"sans-serif\" font-size=\"11\" lengthAdjust=\"spacingAndGlyphs\" textLength=\"31\" x=\"429\" y=\"160.9526\">x: ~C</text><line style=\"stroke: #383838; stroke-width: 1.0;\" x1=\"424\" x2=\"441\" y1=\"144.3398\" y2=\"144.3398\"/><text fill=\"#000000\" font-family=\"sans-serif\" font-size=\"11\" lengthAdjust=\"spacingAndGlyphs\" textLength=\"30\" x=\"441\" y=\"147.6479\">ports</text><line style=\"stroke: #383838; stroke-width: 1.0;\" x1=\"471\" x2=\"488\" y1=\"144.3398\" y2=\"144.3398\"/></a><!--MD5=[b9389687b975829384b498ac4b7476b2]\n",
       "class E8--><a href=\"psysml:adeac7a4-0c31-420e-b3fd-609062fb2f41\" target=\"_top\" title=\"psysml:adeac7a4-0c31-420e-b3fd-609062fb2f41\" xlink:actuate=\"onRequest\" xlink:href=\"psysml:adeac7a4-0c31-420e-b3fd-609062fb2f41\" xlink:show=\"new\" xlink:title=\"psysml:adeac7a4-0c31-420e-b3fd-609062fb2f41\" xlink:type=\"simple\"><rect fill=\"#FFFFFF\" height=\"45.9375\" id=\"E8\" rx=\"10\" ry=\"10\" style=\"stroke: #383838; stroke-width: 1.5;\" width=\"42\" x=\"550\" y=\"41\"/><text fill=\"#000000\" font-family=\"sans-serif\" font-size=\"12\" font-style=\"italic\" lengthAdjust=\"spacingAndGlyphs\" textLength=\"40\" x=\"551\" y=\"57.1387\">«part»</text><text fill=\"#000000\" font-family=\"sans-serif\" font-size=\"12\" lengthAdjust=\"spacingAndGlyphs\" textLength=\"24\" x=\"559\" y=\"71.1074\">a: A</text><line style=\"stroke: #383838; stroke-width: 1.5;\" x1=\"551\" x2=\"591\" y1=\"78.9375\" y2=\"78.9375\"/></a><!--MD5=[96f4274e9e20536e775497830990834d]\n",
       "class E10--><a href=\"psysml:19a0d075-dfec-4a25-8f91-7b5bd5520f32\" target=\"_top\" title=\"psysml:19a0d075-dfec-4a25-8f91-7b5bd5520f32\" xlink:actuate=\"onRequest\" xlink:href=\"psysml:19a0d075-dfec-4a25-8f91-7b5bd5520f32\" xlink:show=\"new\" xlink:title=\"psysml:19a0d075-dfec-4a25-8f91-7b5bd5520f32\" xlink:type=\"simple\"><rect fill=\"#FFFFFF\" height=\"75.5469\" id=\"E10\" style=\"stroke: #383838; stroke-width: 1.5;\" width=\"84\" x=\"32\" y=\"122\"/><text fill=\"#000000\" font-family=\"sans-serif\" font-size=\"12\" font-style=\"italic\" lengthAdjust=\"spacingAndGlyphs\" textLength=\"64\" x=\"42\" y=\"138.1387\">«port def»</text><text fill=\"#000000\" font-family=\"sans-serif\" font-size=\"12\" lengthAdjust=\"spacingAndGlyphs\" textLength=\"8\" x=\"70\" y=\"152.1074\">C</text><line style=\"stroke: #383838; stroke-width: 1.5;\" x1=\"33\" x2=\"115\" y1=\"159.9375\" y2=\"159.9375\"/><text fill=\"#000000\" font-family=\"sans-serif\" font-size=\"11\" lengthAdjust=\"spacingAndGlyphs\" textLength=\"37\" x=\"38\" y=\"190.9526\">y: A, B</text><text fill=\"#000000\" font-family=\"sans-serif\" font-size=\"11\" font-weight=\"bold\" lengthAdjust=\"spacingAndGlyphs\" textLength=\"15\" x=\"79\" y=\"190.9526\">as</text><text fill=\"#000000\" font-family=\"sans-serif\" font-size=\"11\" lengthAdjust=\"spacingAndGlyphs\" textLength=\"12\" x=\"98\" y=\"190.9526\">z2</text><line style=\"stroke: #383838; stroke-width: 1.0;\" x1=\"33\" x2=\"43\" y1=\"174.3398\" y2=\"174.3398\"/><text fill=\"#000000\" font-family=\"sans-serif\" font-size=\"11\" lengthAdjust=\"spacingAndGlyphs\" textLength=\"62\" x=\"43\" y=\"177.6479\">references</text><line style=\"stroke: #383838; stroke-width: 1.0;\" x1=\"105\" x2=\"115\" y1=\"174.3398\" y2=\"174.3398\"/></a><a href=\"psysml:fcdcf065-90d4-4da1-8b43-4feb0ab4c03b\" target=\"_top\" title=\"psysml:fcdcf065-90d4-4da1-8b43-4feb0ab4c03b\" xlink:actuate=\"onRequest\" xlink:href=\"psysml:fcdcf065-90d4-4da1-8b43-4feb0ab4c03b\" xlink:show=\"new\" xlink:title=\"psysml:fcdcf065-90d4-4da1-8b43-4feb0ab4c03b\" xlink:type=\"simple\"><polygon fill=\"#FFFFFF\" points=\"556,122.5,572,122.5,579,144.7969,586,144.7969,586,175.0938,556,175.0938,556,122.5\" style=\"stroke: #000000; stroke-width: 1.5;\"/><line style=\"stroke: #000000; stroke-width: 1.5;\" x1=\"556\" x2=\"579\" y1=\"144.7969\" y2=\"144.7969\"/><text fill=\"#000000\" font-family=\"sans-serif\" font-size=\"14\" font-weight=\"bold\" lengthAdjust=\"spacingAndGlyphs\" textLength=\"10\" x=\"560\" y=\"137.4951\">P</text></a><!--MD5=[2720a5a1f2c3fca2055b230370638851]\n",
       "link E2 to E3--><a href=\"psysml:1f32f64a-cd2f-48b1-a0ff-85d8f5396f29\" target=\"_top\" title=\"psysml:1f32f64a-cd2f-48b1-a0ff-85d8f5396f29\" xlink:actuate=\"onRequest\" xlink:href=\"psysml:1f32f64a-cd2f-48b1-a0ff-85d8f5396f29\" xlink:show=\"new\" xlink:title=\"psysml:1f32f64a-cd2f-48b1-a0ff-85d8f5396f29\" xlink:type=\"simple\"><path d=\"M95.04,66.68 C113.08,69.09 140.38,72.75 164.59,75.99 \" fill=\"none\" id=\"E2-&gt;E3\" style=\"stroke: #383838; stroke-width: 1.0;\"/><polygon fill=\"#FFFFFF\" points=\"184.75,78.68,164.9917,83.1084,166.8414,69.2311,184.75,78.68\" style=\"stroke: #383838; stroke-width: 1.0;\"/><ellipse cx=\"159.6059\" cy=\"80.3729\" fill=\"#383838\" rx=\"2\" ry=\"2\" style=\"stroke: #383838; stroke-width: 1.0;\"/><ellipse cx=\"160.9271\" cy=\"70.4605\" fill=\"#383838\" rx=\"2\" ry=\"2\" style=\"stroke: #383838; stroke-width: 1.0;\"/></a><!--MD5=[4672eba38e49728da53d11aeb285b987]\n",
       "reverse link E3 to E4--><a href=\"psysml:1e20eef8-b16d-4a20-93fc-2b015416e79a\" target=\"_top\" title=\"psysml:1e20eef8-b16d-4a20-93fc-2b015416e79a\" xlink:actuate=\"onRequest\" xlink:href=\"psysml:1e20eef8-b16d-4a20-93fc-2b015416e79a\" xlink:show=\"new\" xlink:title=\"psysml:1e20eef8-b16d-4a20-93fc-2b015416e79a\" xlink:type=\"simple\"><path d=\"M263.96,90.43 C283.2,93.61 304.69,97.16 319.9,99.68 \" fill=\"none\" id=\"E3&lt;-E4\" style=\"stroke: #383838; stroke-width: 1.0;\"/><polygon fill=\"#383838\" points=\"251.11,88.31,256.3743,93.2382,262.9481,90.2742,257.6838,85.3461,251.11,88.31\" style=\"stroke: #383838; stroke-width: 1.0;\"/></a><!--MD5=[79568f1e445c3877b6a54524624ccc7d]\n",
       "link E4 to E6--><a href=\"psysml:97a379fd-51a7-461f-afe4-84a5f5da2292\" target=\"_top\" title=\"psysml:97a379fd-51a7-461f-afe4-84a5f5da2292\" xlink:actuate=\"onRequest\" xlink:href=\"psysml:97a379fd-51a7-461f-afe4-84a5f5da2292\" xlink:show=\"new\" xlink:title=\"psysml:97a379fd-51a7-461f-afe4-84a5f5da2292\" xlink:type=\"simple\"><path d=\"M362.2,107.83 C373.59,110.55 388.4,114.09 402.82,117.53 \" fill=\"none\" id=\"E4-&gt;E6\" style=\"stroke: #383838; stroke-width: 1.0;\"/><polygon fill=\"#FFFFFF\" points=\"422.57,122.25,402.4621,124.6316,405.7233,111.0167,422.57,122.25\" style=\"stroke: #383838; stroke-width: 1.0;\"/><ellipse cx=\"397.3848\" cy=\"121.3588\" fill=\"#383838\" rx=\"2\" ry=\"2\" style=\"stroke: #383838; stroke-width: 1.0;\"/><ellipse cx=\"399.7142\" cy=\"111.6339\" fill=\"#383838\" rx=\"2\" ry=\"2\" style=\"stroke: #383838; stroke-width: 1.0;\"/></a><!--MD5=[3f50a3473f1dfb74d3f76443e03635af]\n",
       "reverse link E6 to E7--><a href=\"psysml:fcdcf065-90d4-4da1-8b43-4feb0ab4c03b\" target=\"_top\" title=\"psysml:fcdcf065-90d4-4da1-8b43-4feb0ab4c03b\" xlink:actuate=\"onRequest\" xlink:href=\"psysml:fcdcf065-90d4-4da1-8b43-4feb0ab4c03b\" xlink:show=\"new\" xlink:title=\"psysml:fcdcf065-90d4-4da1-8b43-4feb0ab4c03b\" xlink:type=\"simple\"><path d=\"M503.97,137.9 C522.72,141.05 542.91,144.44 555.96,146.64 \" fill=\"none\" id=\"E6&lt;-E7\" style=\"stroke: #383838; stroke-width: 1.0;\"/><ellipse cx=\"496.9695\" cy=\"136.7151\" fill=\"#FFFFFF\" rx=\"8\" ry=\"8\" style=\"stroke: #383838; stroke-width: 1.0;\"/><line style=\"stroke: #383838; stroke-width: 1.0;\" x1=\"504.859\" x2=\"489.08\" y1=\"138.0401\" y2=\"135.39\"/><line style=\"stroke: #383838; stroke-width: 1.0;\" x1=\"495.6444\" x2=\"498.2946\" y1=\"144.6046\" y2=\"128.8256\"/></a><!--MD5=[95fa686b5a16158bcdbcaeead89f639b]\n",
       "link E8 to E3--><a href=\"psysml:c8b02122-2142-456b-8199-9bf99e52168e\" target=\"_top\" title=\"psysml:c8b02122-2142-456b-8199-9bf99e52168e\" xlink:actuate=\"onRequest\" xlink:href=\"psysml:c8b02122-2142-456b-8199-9bf99e52168e\" xlink:show=\"new\" xlink:title=\"psysml:c8b02122-2142-456b-8199-9bf99e52168e\" xlink:type=\"simple\"><path d=\"M549.84,62.34 C507.25,59.15 405.06,53.25 320,62 C303.77,63.67 286.31,66.81 270.54,70.16 \" fill=\"none\" id=\"E8-&gt;E3\" style=\"stroke: #383838; stroke-width: 1.0;\"/><polygon fill=\"#FFFFFF\" points=\"251.03,74.59,268.0156,63.5678,271.1066,77.2223,251.03,74.59\" style=\"stroke: #383838; stroke-width: 1.0;\"/><ellipse cx=\"274.0165\" cy=\"64.2599\" fill=\"#383838\" rx=\"2\" ry=\"2\" style=\"stroke: #383838; stroke-width: 1.0;\"/><ellipse cx=\"276.2244\" cy=\"74.0132\" fill=\"#383838\" rx=\"2\" ry=\"2\" style=\"stroke: #383838; stroke-width: 1.0;\"/></a><!--MD5=[f4cf0736d43fd73c4ef68817c49d37d5]\n",
       "reverse link E6 to E8--><a href=\"psysml:adeac7a4-0c31-420e-b3fd-609062fb2f41\" target=\"_top\" title=\"psysml:adeac7a4-0c31-420e-b3fd-609062fb2f41\" xlink:actuate=\"onRequest\" xlink:href=\"psysml:adeac7a4-0c31-420e-b3fd-609062fb2f41\" xlink:show=\"new\" xlink:title=\"psysml:adeac7a4-0c31-420e-b3fd-609062fb2f41\" xlink:type=\"simple\"><path d=\"M500.52,104.58 C517.54,94.64 536.23,83.72 549.94,75.72 \" fill=\"none\" id=\"E6&lt;-E8\" style=\"stroke: #383838; stroke-width: 1.0;\"/><polygon fill=\"#383838\" points=\"489.08,111.26,496.2784,111.6885,499.4425,105.2086,492.2441,104.7802,489.08,111.26\" style=\"stroke: #383838; stroke-width: 1.0;\"/></a><!--MD5=[8e04057e7b3cbc0dca4fc78ea351e2da]\n",
       "reverse link E10 to E3--><a href=\"psysml:4b320237-d900-4f83-8ac2-28b55b9df163\" target=\"_top\" title=\"psysml:4b320237-d900-4f83-8ac2-28b55b9df163\" xlink:actuate=\"onRequest\" xlink:href=\"psysml:4b320237-d900-4f83-8ac2-28b55b9df163\" xlink:show=\"new\" xlink:title=\"psysml:4b320237-d900-4f83-8ac2-28b55b9df163\" xlink:type=\"simple\"><path d=\"M127.66,131.44 C146.75,121.09 167.75,109.71 184.58,100.58 \" fill=\"none\" id=\"E10&lt;-E3\" style=\"stroke: #383838; stroke-width: 1.0;\"/><polygon fill=\"#FFFFFF\" points=\"116.07,137.73,123.2513,138.3848,126.6178,132.0078,119.4365,131.353,116.07,137.73\" style=\"stroke: #383838; stroke-width: 1.0;\"/><text fill=\"#000000\" font-family=\"sans-serif\" font-size=\"13\" lengthAdjust=\"spacingAndGlyphs\" textLength=\"7\" x=\"147\" y=\"113.0669\">y</text></a><!--MD5=[604cbf994c02b74b117f728a71673cea]\n",
       "reverse link E10 to E6--><a href=\"psysml:4b320237-d900-4f83-8ac2-28b55b9df163\" target=\"_top\" title=\"psysml:4b320237-d900-4f83-8ac2-28b55b9df163\" xlink:actuate=\"onRequest\" xlink:href=\"psysml:4b320237-d900-4f83-8ac2-28b55b9df163\" xlink:show=\"new\" xlink:title=\"psysml:4b320237-d900-4f83-8ac2-28b55b9df163\" xlink:type=\"simple\"><path d=\"M129.62,158.06 C187.43,155.71 281.3,151.02 362,143 C382.28,140.99 404.93,137.84 422.8,135.15 \" fill=\"none\" id=\"E10&lt;-E6\" style=\"stroke: #383838; stroke-width: 1.0;\"/><polygon fill=\"#FFFFFF\" points=\"116.43,158.58,122.5834,162.3397,128.4206,158.1056,122.2672,154.3459,116.43,158.58\" style=\"stroke: #383838; stroke-width: 1.0;\"/><text fill=\"#000000\" font-family=\"sans-serif\" font-size=\"13\" lengthAdjust=\"spacingAndGlyphs\" textLength=\"7\" x=\"282\" y=\"146.0669\">y</text></a><!--MD5=[90fd31b87bb0f06ba93810dd7773926f]\n",
       "@startuml\r\n",
       "left to right direction\r\n",
       "skinparam monochrome true\r\n",
       "skinparam classbackgroundcolor white\r\n",
       "skinparam shadowing false\r\n",
       "skinparam wrapWidth 300\r\n",
       "hide circle\r\n",
       "\r\n",
       "package \"BlockTest\" as E1  [[psysml:c0b99535-16c1-47cf-a8d5-3f20b133a54a ]]  {\r\n",
       "comp usage \"f: A\" as E2  <<(T,blue)part>> [[psysml:20852434-d7cc-411e-aa3b-cae286a1f6f8 ]] {\r\n",
       "}\r\n",
       "comp def \"A\" as E3  <<(T,blue)part def>> [[psysml:cbed5230-ac88-4b7e-9b23-6ffd90d7c059 ]] {\r\n",
       "- - ports - -\r\n",
       "c: C\r\n",
       "}\r\n",
       "comp usage \"b: B\" as E4  <<(T,blue)part>> [[psysml:1e20eef8-b16d-4a20-93fc-2b015416e79a ]] {\r\n",
       "}\r\n",
       "comp def \"B\" as E6  <<(T,blue)part def>> [[psysml:633af2d2-4d32-4996-ac04-a91fff2e720f ]] {\r\n",
       "- - ports - -\r\n",
       "x: ~C\r\n",
       "}\r\n",
       "package \"P\" as E7  [[psysml:fcdcf065-90d4-4da1-8b43-4feb0ab4c03b ]]  {\r\n",
       "}\r\n",
       "comp usage \"a: A\" as E8  <<(T,blue)part>> [[psysml:adeac7a4-0c31-420e-b3fd-609062fb2f41 ]] {\r\n",
       "}\r\n",
       "comp def \"C\" as E10  <<(T,blue)port def>> [[psysml:19a0d075-dfec-4a25-8f91-7b5bd5520f32 ]] {\r\n",
       "- - references - -\r\n",
       "y: A, B <b>as</b> z2 \r\n",
       "}\r\n",
       "E2 - -:|> E3 [[psysml:1f32f64a-cd2f-48b1-a0ff-85d8f5396f29 ]] \r\n",
       "E3 *- - E4 [[psysml:1e20eef8-b16d-4a20-93fc-2b015416e79a ]] \r\n",
       "E4 - -:|> E6 [[psysml:97a379fd-51a7-461f-afe4-84a5f5da2292 ]] \r\n",
       "E6 +- - E7 [[psysml:fcdcf065-90d4-4da1-8b43-4feb0ab4c03b ]] \r\n",
       "E8 - -:|> E3 [[psysml:c8b02122-2142-456b-8199-9bf99e52168e ]] \r\n",
       "E6 *- - E8 [[psysml:adeac7a4-0c31-420e-b3fd-609062fb2f41 ]] \r\n",
       "E10 o- - E3 [[psysml:4b320237-d900-4f83-8ac2-28b55b9df163 ]] : y\r\n",
       "E10 o- - E6 [[psysml:4b320237-d900-4f83-8ac2-28b55b9df163 ]] : y\r\n",
       "}\r\n",
       "@enduml\r\n",
       "\n",
       "PlantUML version 1.2020.13(Sat Jun 13 12:26:38 UTC 2020)\n",
       "(EPL source distribution)\n",
       "Java Runtime: OpenJDK Runtime Environment\n",
       "JVM: OpenJDK 64-Bit Server VM\n",
       "Default Encoding: UTF-8\n",
       "Language: en\n",
       "Country: null\n",
       "--></g></svg>"
      ]
     },
     "execution_count": 21,
     "metadata": {},
     "output_type": "execute_result"
    }
   ],
   "source": [
    "%viz --style=\"LR\" --view=\"Sequence\" \"BlockTest\""
   ]
  },
  {
   "cell_type": "code",
   "execution_count": 22,
   "id": "compatible-yemen",
   "metadata": {
    "execution": {
     "iopub.execute_input": "2021-03-25T14:59:51.030262Z",
     "iopub.status.busy": "2021-03-25T14:59:51.029450Z",
     "iopub.status.idle": "2021-03-25T14:59:51.630384Z",
     "shell.execute_reply": "2021-03-25T14:59:51.629820Z"
    }
   },
   "outputs": [
    {
     "data": {
      "image/svg+xml": [
       "<?xml version=\"1.0\" encoding=\"UTF-8\" standalone=\"no\"?><svg xmlns=\"http://www.w3.org/2000/svg\" xmlns:xlink=\"http://www.w3.org/1999/xlink\" contentScriptType=\"application/ecmascript\" contentStyleType=\"text/css\" height=\"226px\" preserveAspectRatio=\"none\" style=\"width:630px;height:226px;\" version=\"1.1\" viewBox=\"0 0 630 226\" width=\"630px\" zoomAndPan=\"magnify\"><defs/><g><!--MD5=[fbc87193dbaf4d95561dea2c320d4a47]\n",
       "cluster E1--><a href=\"psysml:c0b99535-16c1-47cf-a8d5-3f20b133a54a\" target=\"_top\" title=\"psysml:c0b99535-16c1-47cf-a8d5-3f20b133a54a\" xlink:actuate=\"onRequest\" xlink:href=\"psysml:c0b99535-16c1-47cf-a8d5-3f20b133a54a\" xlink:show=\"new\" xlink:title=\"psysml:c0b99535-16c1-47cf-a8d5-3f20b133a54a\" xlink:type=\"simple\"><polygon fill=\"#FFFFFF\" points=\"16,6,99,6,106,28.2969,608,28.2969,608,214,16,214,16,6\" style=\"stroke: #000000; stroke-width: 1.5;\"/><line style=\"stroke: #000000; stroke-width: 1.5;\" x1=\"16\" x2=\"106\" y1=\"28.2969\" y2=\"28.2969\"/><text fill=\"#000000\" font-family=\"sans-serif\" font-size=\"14\" font-weight=\"bold\" lengthAdjust=\"spacingAndGlyphs\" textLength=\"77\" x=\"20\" y=\"20.9951\">BlockTest</text></a><!--MD5=[b4997ac47864f28c2f74865a473b2911]\n",
       "class E2--><a href=\"psysml:20852434-d7cc-411e-aa3b-cae286a1f6f8\" target=\"_top\" title=\"psysml:20852434-d7cc-411e-aa3b-cae286a1f6f8\" xlink:actuate=\"onRequest\" xlink:href=\"psysml:20852434-d7cc-411e-aa3b-cae286a1f6f8\" xlink:show=\"new\" xlink:title=\"psysml:20852434-d7cc-411e-aa3b-cae286a1f6f8\" xlink:type=\"simple\"><rect fill=\"#FFFFFF\" height=\"45.9375\" id=\"E2\" rx=\"10\" ry=\"10\" style=\"stroke: #383838; stroke-width: 1.5;\" width=\"42\" x=\"53\" y=\"41\"/><text fill=\"#000000\" font-family=\"sans-serif\" font-size=\"12\" font-style=\"italic\" lengthAdjust=\"spacingAndGlyphs\" textLength=\"40\" x=\"54\" y=\"57.1387\">«part»</text><text fill=\"#000000\" font-family=\"sans-serif\" font-size=\"12\" lengthAdjust=\"spacingAndGlyphs\" textLength=\"20\" x=\"64\" y=\"71.1074\">f: A</text><line style=\"stroke: #383838; stroke-width: 1.5;\" x1=\"54\" x2=\"94\" y1=\"78.9375\" y2=\"78.9375\"/></a><!--MD5=[09b614a08d8cba4a07c9adeb5e0fee81]\n",
       "class E3--><a href=\"psysml:cbed5230-ac88-4b7e-9b23-6ffd90d7c059\" target=\"_top\" title=\"psysml:cbed5230-ac88-4b7e-9b23-6ffd90d7c059\" xlink:actuate=\"onRequest\" xlink:href=\"psysml:cbed5230-ac88-4b7e-9b23-6ffd90d7c059\" xlink:show=\"new\" xlink:title=\"psysml:cbed5230-ac88-4b7e-9b23-6ffd90d7c059\" xlink:type=\"simple\"><rect fill=\"#FFFFFF\" height=\"75.5469\" id=\"E3\" style=\"stroke: #383838; stroke-width: 1.5;\" width=\"66\" x=\"185\" y=\"45\"/><text fill=\"#000000\" font-family=\"sans-serif\" font-size=\"12\" font-style=\"italic\" lengthAdjust=\"spacingAndGlyphs\" textLength=\"64\" x=\"186\" y=\"61.1387\">«part def»</text><text fill=\"#000000\" font-family=\"sans-serif\" font-size=\"12\" lengthAdjust=\"spacingAndGlyphs\" textLength=\"8\" x=\"214\" y=\"75.1074\">A</text><line style=\"stroke: #383838; stroke-width: 1.5;\" x1=\"186\" x2=\"250\" y1=\"82.9375\" y2=\"82.9375\"/><text fill=\"#000000\" font-family=\"sans-serif\" font-size=\"11\" lengthAdjust=\"spacingAndGlyphs\" textLength=\"22\" x=\"191\" y=\"113.9526\">c: C</text><line style=\"stroke: #383838; stroke-width: 1.0;\" x1=\"186\" x2=\"203\" y1=\"97.3398\" y2=\"97.3398\"/><text fill=\"#000000\" font-family=\"sans-serif\" font-size=\"11\" lengthAdjust=\"spacingAndGlyphs\" textLength=\"30\" x=\"203\" y=\"100.6479\">ports</text><line style=\"stroke: #383838; stroke-width: 1.0;\" x1=\"233\" x2=\"250\" y1=\"97.3398\" y2=\"97.3398\"/></a><!--MD5=[ebbe1d658d1005bcc118a6aa81145e00]\n",
       "class E4--><a href=\"psysml:1e20eef8-b16d-4a20-93fc-2b015416e79a\" target=\"_top\" title=\"psysml:1e20eef8-b16d-4a20-93fc-2b015416e79a\" xlink:actuate=\"onRequest\" xlink:href=\"psysml:1e20eef8-b16d-4a20-93fc-2b015416e79a\" xlink:show=\"new\" xlink:title=\"psysml:1e20eef8-b16d-4a20-93fc-2b015416e79a\" xlink:type=\"simple\"><rect fill=\"#FFFFFF\" height=\"45.9375\" id=\"E4\" rx=\"10\" ry=\"10\" style=\"stroke: #383838; stroke-width: 1.5;\" width=\"42\" x=\"320\" y=\"80\"/><text fill=\"#000000\" font-family=\"sans-serif\" font-size=\"12\" font-style=\"italic\" lengthAdjust=\"spacingAndGlyphs\" textLength=\"40\" x=\"321\" y=\"96.1387\">«part»</text><text fill=\"#000000\" font-family=\"sans-serif\" font-size=\"12\" lengthAdjust=\"spacingAndGlyphs\" textLength=\"24\" x=\"329\" y=\"110.1074\">b: B</text><line style=\"stroke: #383838; stroke-width: 1.5;\" x1=\"321\" x2=\"361\" y1=\"117.9375\" y2=\"117.9375\"/></a><!--MD5=[60a26617385b1d2d0262a64233df1f8d]\n",
       "class E6--><a href=\"psysml:633af2d2-4d32-4996-ac04-a91fff2e720f\" target=\"_top\" title=\"psysml:633af2d2-4d32-4996-ac04-a91fff2e720f\" xlink:actuate=\"onRequest\" xlink:href=\"psysml:633af2d2-4d32-4996-ac04-a91fff2e720f\" xlink:show=\"new\" xlink:title=\"psysml:633af2d2-4d32-4996-ac04-a91fff2e720f\" xlink:type=\"simple\"><rect fill=\"#FFFFFF\" height=\"75.5469\" id=\"E6\" style=\"stroke: #383838; stroke-width: 1.5;\" width=\"66\" x=\"423\" y=\"92\"/><text fill=\"#000000\" font-family=\"sans-serif\" font-size=\"12\" font-style=\"italic\" lengthAdjust=\"spacingAndGlyphs\" textLength=\"64\" x=\"424\" y=\"108.1387\">«part def»</text><text fill=\"#000000\" font-family=\"sans-serif\" font-size=\"12\" lengthAdjust=\"spacingAndGlyphs\" textLength=\"8\" x=\"452\" y=\"122.1074\">B</text><line style=\"stroke: #383838; stroke-width: 1.5;\" x1=\"424\" x2=\"488\" y1=\"129.9375\" y2=\"129.9375\"/><text fill=\"#000000\" font-family=\"sans-serif\" font-size=\"11\" lengthAdjust=\"spacingAndGlyphs\" textLength=\"31\" x=\"429\" y=\"160.9526\">x: ~C</text><line style=\"stroke: #383838; stroke-width: 1.0;\" x1=\"424\" x2=\"441\" y1=\"144.3398\" y2=\"144.3398\"/><text fill=\"#000000\" font-family=\"sans-serif\" font-size=\"11\" lengthAdjust=\"spacingAndGlyphs\" textLength=\"30\" x=\"441\" y=\"147.6479\">ports</text><line style=\"stroke: #383838; stroke-width: 1.0;\" x1=\"471\" x2=\"488\" y1=\"144.3398\" y2=\"144.3398\"/></a><!--MD5=[b9389687b975829384b498ac4b7476b2]\n",
       "class E8--><a href=\"psysml:adeac7a4-0c31-420e-b3fd-609062fb2f41\" target=\"_top\" title=\"psysml:adeac7a4-0c31-420e-b3fd-609062fb2f41\" xlink:actuate=\"onRequest\" xlink:href=\"psysml:adeac7a4-0c31-420e-b3fd-609062fb2f41\" xlink:show=\"new\" xlink:title=\"psysml:adeac7a4-0c31-420e-b3fd-609062fb2f41\" xlink:type=\"simple\"><rect fill=\"#FFFFFF\" height=\"45.9375\" id=\"E8\" rx=\"10\" ry=\"10\" style=\"stroke: #383838; stroke-width: 1.5;\" width=\"42\" x=\"550\" y=\"41\"/><text fill=\"#000000\" font-family=\"sans-serif\" font-size=\"12\" font-style=\"italic\" lengthAdjust=\"spacingAndGlyphs\" textLength=\"40\" x=\"551\" y=\"57.1387\">«part»</text><text fill=\"#000000\" font-family=\"sans-serif\" font-size=\"12\" lengthAdjust=\"spacingAndGlyphs\" textLength=\"24\" x=\"559\" y=\"71.1074\">a: A</text><line style=\"stroke: #383838; stroke-width: 1.5;\" x1=\"551\" x2=\"591\" y1=\"78.9375\" y2=\"78.9375\"/></a><!--MD5=[96f4274e9e20536e775497830990834d]\n",
       "class E10--><a href=\"psysml:19a0d075-dfec-4a25-8f91-7b5bd5520f32\" target=\"_top\" title=\"psysml:19a0d075-dfec-4a25-8f91-7b5bd5520f32\" xlink:actuate=\"onRequest\" xlink:href=\"psysml:19a0d075-dfec-4a25-8f91-7b5bd5520f32\" xlink:show=\"new\" xlink:title=\"psysml:19a0d075-dfec-4a25-8f91-7b5bd5520f32\" xlink:type=\"simple\"><rect fill=\"#FFFFFF\" height=\"75.5469\" id=\"E10\" style=\"stroke: #383838; stroke-width: 1.5;\" width=\"84\" x=\"32\" y=\"122\"/><text fill=\"#000000\" font-family=\"sans-serif\" font-size=\"12\" font-style=\"italic\" lengthAdjust=\"spacingAndGlyphs\" textLength=\"64\" x=\"42\" y=\"138.1387\">«port def»</text><text fill=\"#000000\" font-family=\"sans-serif\" font-size=\"12\" lengthAdjust=\"spacingAndGlyphs\" textLength=\"8\" x=\"70\" y=\"152.1074\">C</text><line style=\"stroke: #383838; stroke-width: 1.5;\" x1=\"33\" x2=\"115\" y1=\"159.9375\" y2=\"159.9375\"/><text fill=\"#000000\" font-family=\"sans-serif\" font-size=\"11\" lengthAdjust=\"spacingAndGlyphs\" textLength=\"37\" x=\"38\" y=\"190.9526\">y: A, B</text><text fill=\"#000000\" font-family=\"sans-serif\" font-size=\"11\" font-weight=\"bold\" lengthAdjust=\"spacingAndGlyphs\" textLength=\"15\" x=\"79\" y=\"190.9526\">as</text><text fill=\"#000000\" font-family=\"sans-serif\" font-size=\"11\" lengthAdjust=\"spacingAndGlyphs\" textLength=\"12\" x=\"98\" y=\"190.9526\">z2</text><line style=\"stroke: #383838; stroke-width: 1.0;\" x1=\"33\" x2=\"43\" y1=\"174.3398\" y2=\"174.3398\"/><text fill=\"#000000\" font-family=\"sans-serif\" font-size=\"11\" lengthAdjust=\"spacingAndGlyphs\" textLength=\"62\" x=\"43\" y=\"177.6479\">references</text><line style=\"stroke: #383838; stroke-width: 1.0;\" x1=\"105\" x2=\"115\" y1=\"174.3398\" y2=\"174.3398\"/></a><a href=\"psysml:fcdcf065-90d4-4da1-8b43-4feb0ab4c03b\" target=\"_top\" title=\"psysml:fcdcf065-90d4-4da1-8b43-4feb0ab4c03b\" xlink:actuate=\"onRequest\" xlink:href=\"psysml:fcdcf065-90d4-4da1-8b43-4feb0ab4c03b\" xlink:show=\"new\" xlink:title=\"psysml:fcdcf065-90d4-4da1-8b43-4feb0ab4c03b\" xlink:type=\"simple\"><polygon fill=\"#FFFFFF\" points=\"556,122.5,572,122.5,579,144.7969,586,144.7969,586,175.0938,556,175.0938,556,122.5\" style=\"stroke: #000000; stroke-width: 1.5;\"/><line style=\"stroke: #000000; stroke-width: 1.5;\" x1=\"556\" x2=\"579\" y1=\"144.7969\" y2=\"144.7969\"/><text fill=\"#000000\" font-family=\"sans-serif\" font-size=\"14\" font-weight=\"bold\" lengthAdjust=\"spacingAndGlyphs\" textLength=\"10\" x=\"560\" y=\"137.4951\">P</text></a><!--MD5=[2720a5a1f2c3fca2055b230370638851]\n",
       "link E2 to E3--><a href=\"psysml:1f32f64a-cd2f-48b1-a0ff-85d8f5396f29\" target=\"_top\" title=\"psysml:1f32f64a-cd2f-48b1-a0ff-85d8f5396f29\" xlink:actuate=\"onRequest\" xlink:href=\"psysml:1f32f64a-cd2f-48b1-a0ff-85d8f5396f29\" xlink:show=\"new\" xlink:title=\"psysml:1f32f64a-cd2f-48b1-a0ff-85d8f5396f29\" xlink:type=\"simple\"><path d=\"M95.04,66.68 C113.08,69.09 140.38,72.75 164.59,75.99 \" fill=\"none\" id=\"E2-&gt;E3\" style=\"stroke: #383838; stroke-width: 1.0;\"/><polygon fill=\"#FFFFFF\" points=\"184.75,78.68,164.9917,83.1084,166.8414,69.2311,184.75,78.68\" style=\"stroke: #383838; stroke-width: 1.0;\"/><ellipse cx=\"159.6059\" cy=\"80.3729\" fill=\"#383838\" rx=\"2\" ry=\"2\" style=\"stroke: #383838; stroke-width: 1.0;\"/><ellipse cx=\"160.9271\" cy=\"70.4605\" fill=\"#383838\" rx=\"2\" ry=\"2\" style=\"stroke: #383838; stroke-width: 1.0;\"/></a><!--MD5=[4672eba38e49728da53d11aeb285b987]\n",
       "reverse link E3 to E4--><a href=\"psysml:1e20eef8-b16d-4a20-93fc-2b015416e79a\" target=\"_top\" title=\"psysml:1e20eef8-b16d-4a20-93fc-2b015416e79a\" xlink:actuate=\"onRequest\" xlink:href=\"psysml:1e20eef8-b16d-4a20-93fc-2b015416e79a\" xlink:show=\"new\" xlink:title=\"psysml:1e20eef8-b16d-4a20-93fc-2b015416e79a\" xlink:type=\"simple\"><path d=\"M263.96,90.43 C283.2,93.61 304.69,97.16 319.9,99.68 \" fill=\"none\" id=\"E3&lt;-E4\" style=\"stroke: #383838; stroke-width: 1.0;\"/><polygon fill=\"#383838\" points=\"251.11,88.31,256.3743,93.2382,262.9481,90.2742,257.6838,85.3461,251.11,88.31\" style=\"stroke: #383838; stroke-width: 1.0;\"/></a><!--MD5=[79568f1e445c3877b6a54524624ccc7d]\n",
       "link E4 to E6--><a href=\"psysml:97a379fd-51a7-461f-afe4-84a5f5da2292\" target=\"_top\" title=\"psysml:97a379fd-51a7-461f-afe4-84a5f5da2292\" xlink:actuate=\"onRequest\" xlink:href=\"psysml:97a379fd-51a7-461f-afe4-84a5f5da2292\" xlink:show=\"new\" xlink:title=\"psysml:97a379fd-51a7-461f-afe4-84a5f5da2292\" xlink:type=\"simple\"><path d=\"M362.2,107.83 C373.59,110.55 388.4,114.09 402.82,117.53 \" fill=\"none\" id=\"E4-&gt;E6\" style=\"stroke: #383838; stroke-width: 1.0;\"/><polygon fill=\"#FFFFFF\" points=\"422.57,122.25,402.4621,124.6316,405.7233,111.0167,422.57,122.25\" style=\"stroke: #383838; stroke-width: 1.0;\"/><ellipse cx=\"397.3848\" cy=\"121.3588\" fill=\"#383838\" rx=\"2\" ry=\"2\" style=\"stroke: #383838; stroke-width: 1.0;\"/><ellipse cx=\"399.7142\" cy=\"111.6339\" fill=\"#383838\" rx=\"2\" ry=\"2\" style=\"stroke: #383838; stroke-width: 1.0;\"/></a><!--MD5=[3f50a3473f1dfb74d3f76443e03635af]\n",
       "reverse link E6 to E7--><a href=\"psysml:fcdcf065-90d4-4da1-8b43-4feb0ab4c03b\" target=\"_top\" title=\"psysml:fcdcf065-90d4-4da1-8b43-4feb0ab4c03b\" xlink:actuate=\"onRequest\" xlink:href=\"psysml:fcdcf065-90d4-4da1-8b43-4feb0ab4c03b\" xlink:show=\"new\" xlink:title=\"psysml:fcdcf065-90d4-4da1-8b43-4feb0ab4c03b\" xlink:type=\"simple\"><path d=\"M503.97,137.9 C522.72,141.05 542.91,144.44 555.96,146.64 \" fill=\"none\" id=\"E6&lt;-E7\" style=\"stroke: #383838; stroke-width: 1.0;\"/><ellipse cx=\"496.9695\" cy=\"136.7151\" fill=\"#FFFFFF\" rx=\"8\" ry=\"8\" style=\"stroke: #383838; stroke-width: 1.0;\"/><line style=\"stroke: #383838; stroke-width: 1.0;\" x1=\"504.859\" x2=\"489.08\" y1=\"138.0401\" y2=\"135.39\"/><line style=\"stroke: #383838; stroke-width: 1.0;\" x1=\"495.6444\" x2=\"498.2946\" y1=\"144.6046\" y2=\"128.8256\"/></a><!--MD5=[95fa686b5a16158bcdbcaeead89f639b]\n",
       "link E8 to E3--><a href=\"psysml:c8b02122-2142-456b-8199-9bf99e52168e\" target=\"_top\" title=\"psysml:c8b02122-2142-456b-8199-9bf99e52168e\" xlink:actuate=\"onRequest\" xlink:href=\"psysml:c8b02122-2142-456b-8199-9bf99e52168e\" xlink:show=\"new\" xlink:title=\"psysml:c8b02122-2142-456b-8199-9bf99e52168e\" xlink:type=\"simple\"><path d=\"M549.84,62.34 C507.25,59.15 405.06,53.25 320,62 C303.77,63.67 286.31,66.81 270.54,70.16 \" fill=\"none\" id=\"E8-&gt;E3\" style=\"stroke: #383838; stroke-width: 1.0;\"/><polygon fill=\"#FFFFFF\" points=\"251.03,74.59,268.0156,63.5678,271.1066,77.2223,251.03,74.59\" style=\"stroke: #383838; stroke-width: 1.0;\"/><ellipse cx=\"274.0165\" cy=\"64.2599\" fill=\"#383838\" rx=\"2\" ry=\"2\" style=\"stroke: #383838; stroke-width: 1.0;\"/><ellipse cx=\"276.2244\" cy=\"74.0132\" fill=\"#383838\" rx=\"2\" ry=\"2\" style=\"stroke: #383838; stroke-width: 1.0;\"/></a><!--MD5=[f4cf0736d43fd73c4ef68817c49d37d5]\n",
       "reverse link E6 to E8--><a href=\"psysml:adeac7a4-0c31-420e-b3fd-609062fb2f41\" target=\"_top\" title=\"psysml:adeac7a4-0c31-420e-b3fd-609062fb2f41\" xlink:actuate=\"onRequest\" xlink:href=\"psysml:adeac7a4-0c31-420e-b3fd-609062fb2f41\" xlink:show=\"new\" xlink:title=\"psysml:adeac7a4-0c31-420e-b3fd-609062fb2f41\" xlink:type=\"simple\"><path d=\"M500.52,104.58 C517.54,94.64 536.23,83.72 549.94,75.72 \" fill=\"none\" id=\"E6&lt;-E8\" style=\"stroke: #383838; stroke-width: 1.0;\"/><polygon fill=\"#383838\" points=\"489.08,111.26,496.2784,111.6885,499.4425,105.2086,492.2441,104.7802,489.08,111.26\" style=\"stroke: #383838; stroke-width: 1.0;\"/></a><!--MD5=[8e04057e7b3cbc0dca4fc78ea351e2da]\n",
       "reverse link E10 to E3--><a href=\"psysml:4b320237-d900-4f83-8ac2-28b55b9df163\" target=\"_top\" title=\"psysml:4b320237-d900-4f83-8ac2-28b55b9df163\" xlink:actuate=\"onRequest\" xlink:href=\"psysml:4b320237-d900-4f83-8ac2-28b55b9df163\" xlink:show=\"new\" xlink:title=\"psysml:4b320237-d900-4f83-8ac2-28b55b9df163\" xlink:type=\"simple\"><path d=\"M127.66,131.44 C146.75,121.09 167.75,109.71 184.58,100.58 \" fill=\"none\" id=\"E10&lt;-E3\" style=\"stroke: #383838; stroke-width: 1.0;\"/><polygon fill=\"#FFFFFF\" points=\"116.07,137.73,123.2513,138.3848,126.6178,132.0078,119.4365,131.353,116.07,137.73\" style=\"stroke: #383838; stroke-width: 1.0;\"/><text fill=\"#000000\" font-family=\"sans-serif\" font-size=\"13\" lengthAdjust=\"spacingAndGlyphs\" textLength=\"7\" x=\"147\" y=\"113.0669\">y</text></a><!--MD5=[604cbf994c02b74b117f728a71673cea]\n",
       "reverse link E10 to E6--><a href=\"psysml:4b320237-d900-4f83-8ac2-28b55b9df163\" target=\"_top\" title=\"psysml:4b320237-d900-4f83-8ac2-28b55b9df163\" xlink:actuate=\"onRequest\" xlink:href=\"psysml:4b320237-d900-4f83-8ac2-28b55b9df163\" xlink:show=\"new\" xlink:title=\"psysml:4b320237-d900-4f83-8ac2-28b55b9df163\" xlink:type=\"simple\"><path d=\"M129.62,158.06 C187.43,155.71 281.3,151.02 362,143 C382.28,140.99 404.93,137.84 422.8,135.15 \" fill=\"none\" id=\"E10&lt;-E6\" style=\"stroke: #383838; stroke-width: 1.0;\"/><polygon fill=\"#FFFFFF\" points=\"116.43,158.58,122.5834,162.3397,128.4206,158.1056,122.2672,154.3459,116.43,158.58\" style=\"stroke: #383838; stroke-width: 1.0;\"/><text fill=\"#000000\" font-family=\"sans-serif\" font-size=\"13\" lengthAdjust=\"spacingAndGlyphs\" textLength=\"7\" x=\"282\" y=\"146.0669\">y</text></a><!--MD5=[90fd31b87bb0f06ba93810dd7773926f]\n",
       "@startuml\r\n",
       "left to right direction\r\n",
       "skinparam monochrome true\r\n",
       "skinparam classbackgroundcolor white\r\n",
       "skinparam shadowing false\r\n",
       "skinparam wrapWidth 300\r\n",
       "hide circle\r\n",
       "\r\n",
       "package \"BlockTest\" as E1  [[psysml:c0b99535-16c1-47cf-a8d5-3f20b133a54a ]]  {\r\n",
       "comp usage \"f: A\" as E2  <<(T,blue)part>> [[psysml:20852434-d7cc-411e-aa3b-cae286a1f6f8 ]] {\r\n",
       "}\r\n",
       "comp def \"A\" as E3  <<(T,blue)part def>> [[psysml:cbed5230-ac88-4b7e-9b23-6ffd90d7c059 ]] {\r\n",
       "- - ports - -\r\n",
       "c: C\r\n",
       "}\r\n",
       "comp usage \"b: B\" as E4  <<(T,blue)part>> [[psysml:1e20eef8-b16d-4a20-93fc-2b015416e79a ]] {\r\n",
       "}\r\n",
       "comp def \"B\" as E6  <<(T,blue)part def>> [[psysml:633af2d2-4d32-4996-ac04-a91fff2e720f ]] {\r\n",
       "- - ports - -\r\n",
       "x: ~C\r\n",
       "}\r\n",
       "package \"P\" as E7  [[psysml:fcdcf065-90d4-4da1-8b43-4feb0ab4c03b ]]  {\r\n",
       "}\r\n",
       "comp usage \"a: A\" as E8  <<(T,blue)part>> [[psysml:adeac7a4-0c31-420e-b3fd-609062fb2f41 ]] {\r\n",
       "}\r\n",
       "comp def \"C\" as E10  <<(T,blue)port def>> [[psysml:19a0d075-dfec-4a25-8f91-7b5bd5520f32 ]] {\r\n",
       "- - references - -\r\n",
       "y: A, B <b>as</b> z2 \r\n",
       "}\r\n",
       "E2 - -:|> E3 [[psysml:1f32f64a-cd2f-48b1-a0ff-85d8f5396f29 ]] \r\n",
       "E3 *- - E4 [[psysml:1e20eef8-b16d-4a20-93fc-2b015416e79a ]] \r\n",
       "E4 - -:|> E6 [[psysml:97a379fd-51a7-461f-afe4-84a5f5da2292 ]] \r\n",
       "E6 +- - E7 [[psysml:fcdcf065-90d4-4da1-8b43-4feb0ab4c03b ]] \r\n",
       "E8 - -:|> E3 [[psysml:c8b02122-2142-456b-8199-9bf99e52168e ]] \r\n",
       "E6 *- - E8 [[psysml:adeac7a4-0c31-420e-b3fd-609062fb2f41 ]] \r\n",
       "E10 o- - E3 [[psysml:4b320237-d900-4f83-8ac2-28b55b9df163 ]] : y\r\n",
       "E10 o- - E6 [[psysml:4b320237-d900-4f83-8ac2-28b55b9df163 ]] : y\r\n",
       "}\r\n",
       "@enduml\r\n",
       "\n",
       "PlantUML version 1.2020.13(Sat Jun 13 12:26:38 UTC 2020)\n",
       "(EPL source distribution)\n",
       "Java Runtime: OpenJDK Runtime Environment\n",
       "JVM: OpenJDK 64-Bit Server VM\n",
       "Default Encoding: UTF-8\n",
       "Language: en\n",
       "Country: null\n",
       "--></g></svg>"
      ]
     },
     "execution_count": 22,
     "metadata": {},
     "output_type": "execute_result"
    }
   ],
   "source": [
    "%viz --style=\"LR\" --view=\"MIXED\" \"BlockTest\""
   ]
  },
  {
   "cell_type": "code",
   "execution_count": 23,
   "id": "available-party",
   "metadata": {
    "execution": {
     "iopub.execute_input": "2021-03-25T14:59:51.680776Z",
     "iopub.status.busy": "2021-03-25T14:59:51.680072Z",
     "iopub.status.idle": "2021-03-25T14:59:52.192861Z",
     "shell.execute_reply": "2021-03-25T14:59:52.194186Z"
    }
   },
   "outputs": [
    {
     "data": {
      "image/svg+xml": [
       "<?xml version=\"1.0\" encoding=\"UTF-8\" standalone=\"no\"?><svg xmlns=\"http://www.w3.org/2000/svg\" xmlns:xlink=\"http://www.w3.org/1999/xlink\" contentScriptType=\"application/ecmascript\" contentStyleType=\"text/css\" height=\"672px\" preserveAspectRatio=\"none\" style=\"width:231px;height:672px;\" version=\"1.1\" viewBox=\"0 0 231 672\" width=\"231px\" zoomAndPan=\"magnify\"><defs><filter height=\"300%\" id=\"f16nfulfp6n07i\" width=\"300%\" x=\"-1\" y=\"-1\"><feGaussianBlur result=\"blurOut\" stdDeviation=\"2.0\"/><feColorMatrix in=\"blurOut\" result=\"blurOut2\" type=\"matrix\" values=\"0 0 0 0 0 0 0 0 0 0 0 0 0 0 0 0 0 0 .4 0\"/><feOffset dx=\"4.0\" dy=\"4.0\" in=\"blurOut2\" result=\"blurOut3\"/><feBlend in=\"SourceGraphic\" in2=\"blurOut3\" mode=\"normal\"/></filter></defs><g><!--MD5=[fbc87193dbaf4d95561dea2c320d4a47]\n",
       "cluster E1--><a href=\"psysml:c0b99535-16c1-47cf-a8d5-3f20b133a54a\" target=\"_top\" title=\"psysml:c0b99535-16c1-47cf-a8d5-3f20b133a54a\" xlink:actuate=\"onRequest\" xlink:href=\"psysml:c0b99535-16c1-47cf-a8d5-3f20b133a54a\" xlink:show=\"new\" xlink:title=\"psysml:c0b99535-16c1-47cf-a8d5-3f20b133a54a\" xlink:type=\"simple\"><polygon fill=\"#FFFFFF\" filter=\"url(#f16nfulfp6n07i)\" points=\"16,6,99,6,106,28.2969,209,28.2969,209,660,16,660,16,6\" style=\"stroke: #000000; stroke-width: 1.5;\"/><line style=\"stroke: #000000; stroke-width: 1.5;\" x1=\"16\" x2=\"106\" y1=\"28.2969\" y2=\"28.2969\"/><text fill=\"#000000\" font-family=\"sans-serif\" font-size=\"14\" font-weight=\"bold\" lengthAdjust=\"spacingAndGlyphs\" textLength=\"77\" x=\"20\" y=\"20.9951\">BlockTest</text></a><!--MD5=[b4997ac47864f28c2f74865a473b2911]\n",
       "class E2--><a href=\"psysml:20852434-d7cc-411e-aa3b-cae286a1f6f8\" target=\"_top\" title=\"psysml:20852434-d7cc-411e-aa3b-cae286a1f6f8\" xlink:actuate=\"onRequest\" xlink:href=\"psysml:20852434-d7cc-411e-aa3b-cae286a1f6f8\" xlink:show=\"new\" xlink:title=\"psysml:20852434-d7cc-411e-aa3b-cae286a1f6f8\" xlink:type=\"simple\"><rect fill=\"#FEFECE\" filter=\"url(#f16nfulfp6n07i)\" height=\"45.9375\" id=\"E2\" rx=\"10\" ry=\"10\" style=\"stroke: #A80036; stroke-width: 1.5;\" width=\"42\" x=\"151\" y=\"56\"/><text fill=\"#000000\" font-family=\"sans-serif\" font-size=\"12\" font-style=\"italic\" lengthAdjust=\"spacingAndGlyphs\" textLength=\"40\" x=\"152\" y=\"72.1387\">«part»</text><text fill=\"#000000\" font-family=\"sans-serif\" font-size=\"12\" lengthAdjust=\"spacingAndGlyphs\" textLength=\"20\" x=\"162\" y=\"86.1074\">f: A</text><line style=\"stroke: #A80036; stroke-width: 1.5;\" x1=\"152\" x2=\"192\" y1=\"93.9375\" y2=\"93.9375\"/></a><!--MD5=[09b614a08d8cba4a07c9adeb5e0fee81]\n",
       "class E3--><a href=\"psysml:cbed5230-ac88-4b7e-9b23-6ffd90d7c059\" target=\"_top\" title=\"psysml:cbed5230-ac88-4b7e-9b23-6ffd90d7c059\" xlink:actuate=\"onRequest\" xlink:href=\"psysml:cbed5230-ac88-4b7e-9b23-6ffd90d7c059\" xlink:show=\"new\" xlink:title=\"psysml:cbed5230-ac88-4b7e-9b23-6ffd90d7c059\" xlink:type=\"simple\"><rect fill=\"#FEFECE\" filter=\"url(#f16nfulfp6n07i)\" height=\"75.5469\" id=\"E3\" style=\"stroke: #A80036; stroke-width: 1.5;\" width=\"66\" x=\"118\" y=\"194\"/><text fill=\"#000000\" font-family=\"sans-serif\" font-size=\"12\" font-style=\"italic\" lengthAdjust=\"spacingAndGlyphs\" textLength=\"64\" x=\"119\" y=\"210.1387\">«part def»</text><text fill=\"#000000\" font-family=\"sans-serif\" font-size=\"12\" lengthAdjust=\"spacingAndGlyphs\" textLength=\"8\" x=\"147\" y=\"224.1074\">A</text><line style=\"stroke: #A80036; stroke-width: 1.5;\" x1=\"119\" x2=\"183\" y1=\"231.9375\" y2=\"231.9375\"/><text fill=\"#000000\" font-family=\"sans-serif\" font-size=\"11\" lengthAdjust=\"spacingAndGlyphs\" textLength=\"22\" x=\"124\" y=\"262.9526\">c: C</text><line style=\"stroke: #A80036; stroke-width: 1.0;\" x1=\"119\" x2=\"136\" y1=\"246.3398\" y2=\"246.3398\"/><text fill=\"#000000\" font-family=\"sans-serif\" font-size=\"11\" lengthAdjust=\"spacingAndGlyphs\" textLength=\"30\" x=\"136\" y=\"249.6479\">ports</text><line style=\"stroke: #A80036; stroke-width: 1.0;\" x1=\"166\" x2=\"183\" y1=\"246.3398\" y2=\"246.3398\"/></a><!--MD5=[ebbe1d658d1005bcc118a6aa81145e00]\n",
       "class E4--><a href=\"psysml:1e20eef8-b16d-4a20-93fc-2b015416e79a\" target=\"_top\" title=\"psysml:1e20eef8-b16d-4a20-93fc-2b015416e79a\" xlink:actuate=\"onRequest\" xlink:href=\"psysml:1e20eef8-b16d-4a20-93fc-2b015416e79a\" xlink:show=\"new\" xlink:title=\"psysml:1e20eef8-b16d-4a20-93fc-2b015416e79a\" xlink:type=\"simple\"><rect fill=\"#FEFECE\" filter=\"url(#f16nfulfp6n07i)\" height=\"45.9375\" id=\"E4\" rx=\"10\" ry=\"10\" style=\"stroke: #A80036; stroke-width: 1.5;\" width=\"42\" x=\"106\" y=\"347\"/><text fill=\"#000000\" font-family=\"sans-serif\" font-size=\"12\" font-style=\"italic\" lengthAdjust=\"spacingAndGlyphs\" textLength=\"40\" x=\"107\" y=\"363.1387\">«part»</text><text fill=\"#000000\" font-family=\"sans-serif\" font-size=\"12\" lengthAdjust=\"spacingAndGlyphs\" textLength=\"24\" x=\"115\" y=\"377.1074\">b: B</text><line style=\"stroke: #A80036; stroke-width: 1.5;\" x1=\"107\" x2=\"147\" y1=\"384.9375\" y2=\"384.9375\"/></a><!--MD5=[60a26617385b1d2d0262a64233df1f8d]\n",
       "class E6--><a href=\"psysml:633af2d2-4d32-4996-ac04-a91fff2e720f\" target=\"_top\" title=\"psysml:633af2d2-4d32-4996-ac04-a91fff2e720f\" xlink:actuate=\"onRequest\" xlink:href=\"psysml:633af2d2-4d32-4996-ac04-a91fff2e720f\" xlink:show=\"new\" xlink:title=\"psysml:633af2d2-4d32-4996-ac04-a91fff2e720f\" xlink:type=\"simple\"><rect fill=\"#FEFECE\" filter=\"url(#f16nfulfp6n07i)\" height=\"75.5469\" id=\"E6\" style=\"stroke: #A80036; stroke-width: 1.5;\" width=\"66\" x=\"77\" y=\"454\"/><text fill=\"#000000\" font-family=\"sans-serif\" font-size=\"12\" font-style=\"italic\" lengthAdjust=\"spacingAndGlyphs\" textLength=\"64\" x=\"78\" y=\"470.1387\">«part def»</text><text fill=\"#000000\" font-family=\"sans-serif\" font-size=\"12\" lengthAdjust=\"spacingAndGlyphs\" textLength=\"8\" x=\"106\" y=\"484.1074\">B</text><line style=\"stroke: #A80036; stroke-width: 1.5;\" x1=\"78\" x2=\"142\" y1=\"491.9375\" y2=\"491.9375\"/><text fill=\"#000000\" font-family=\"sans-serif\" font-size=\"11\" lengthAdjust=\"spacingAndGlyphs\" textLength=\"31\" x=\"83\" y=\"522.9526\">x: ~C</text><line style=\"stroke: #A80036; stroke-width: 1.0;\" x1=\"78\" x2=\"95\" y1=\"506.3398\" y2=\"506.3398\"/><text fill=\"#000000\" font-family=\"sans-serif\" font-size=\"11\" lengthAdjust=\"spacingAndGlyphs\" textLength=\"30\" x=\"95\" y=\"509.6479\">ports</text><line style=\"stroke: #A80036; stroke-width: 1.0;\" x1=\"125\" x2=\"142\" y1=\"506.3398\" y2=\"506.3398\"/></a><!--MD5=[b9389687b975829384b498ac4b7476b2]\n",
       "class E8--><a href=\"psysml:adeac7a4-0c31-420e-b3fd-609062fb2f41\" target=\"_top\" title=\"psysml:adeac7a4-0c31-420e-b3fd-609062fb2f41\" xlink:actuate=\"onRequest\" xlink:href=\"psysml:adeac7a4-0c31-420e-b3fd-609062fb2f41\" xlink:show=\"new\" xlink:title=\"psysml:adeac7a4-0c31-420e-b3fd-609062fb2f41\" xlink:type=\"simple\"><rect fill=\"#FEFECE\" filter=\"url(#f16nfulfp6n07i)\" height=\"45.9375\" id=\"E8\" rx=\"10\" ry=\"10\" style=\"stroke: #A80036; stroke-width: 1.5;\" width=\"42\" x=\"151\" y=\"594.5\"/><text fill=\"#000000\" font-family=\"sans-serif\" font-size=\"12\" font-style=\"italic\" lengthAdjust=\"spacingAndGlyphs\" textLength=\"40\" x=\"152\" y=\"610.6387\">«part»</text><text fill=\"#000000\" font-family=\"sans-serif\" font-size=\"12\" lengthAdjust=\"spacingAndGlyphs\" textLength=\"24\" x=\"160\" y=\"624.6074\">a: A</text><line style=\"stroke: #A80036; stroke-width: 1.5;\" x1=\"152\" x2=\"192\" y1=\"632.4375\" y2=\"632.4375\"/></a><!--MD5=[96f4274e9e20536e775497830990834d]\n",
       "class E10--><a href=\"psysml:19a0d075-dfec-4a25-8f91-7b5bd5520f32\" target=\"_top\" title=\"psysml:19a0d075-dfec-4a25-8f91-7b5bd5520f32\" xlink:actuate=\"onRequest\" xlink:href=\"psysml:19a0d075-dfec-4a25-8f91-7b5bd5520f32\" xlink:show=\"new\" xlink:title=\"psysml:19a0d075-dfec-4a25-8f91-7b5bd5520f32\" xlink:type=\"simple\"><rect fill=\"#FEFECE\" filter=\"url(#f16nfulfp6n07i)\" height=\"75.5469\" id=\"E10\" style=\"stroke: #A80036; stroke-width: 1.5;\" width=\"84\" x=\"32\" y=\"41\"/><text fill=\"#000000\" font-family=\"sans-serif\" font-size=\"12\" font-style=\"italic\" lengthAdjust=\"spacingAndGlyphs\" textLength=\"64\" x=\"42\" y=\"57.1387\">«port def»</text><text fill=\"#000000\" font-family=\"sans-serif\" font-size=\"12\" lengthAdjust=\"spacingAndGlyphs\" textLength=\"8\" x=\"70\" y=\"71.1074\">C</text><line style=\"stroke: #A80036; stroke-width: 1.5;\" x1=\"33\" x2=\"115\" y1=\"78.9375\" y2=\"78.9375\"/><text fill=\"#000000\" font-family=\"sans-serif\" font-size=\"11\" lengthAdjust=\"spacingAndGlyphs\" textLength=\"37\" x=\"38\" y=\"109.9526\">y: A, B</text><text fill=\"#000000\" font-family=\"sans-serif\" font-size=\"11\" font-weight=\"bold\" lengthAdjust=\"spacingAndGlyphs\" textLength=\"15\" x=\"79\" y=\"109.9526\">as</text><text fill=\"#000000\" font-family=\"sans-serif\" font-size=\"11\" lengthAdjust=\"spacingAndGlyphs\" textLength=\"12\" x=\"98\" y=\"109.9526\">z2</text><line style=\"stroke: #A80036; stroke-width: 1.0;\" x1=\"33\" x2=\"43\" y1=\"93.3398\" y2=\"93.3398\"/><text fill=\"#000000\" font-family=\"sans-serif\" font-size=\"11\" lengthAdjust=\"spacingAndGlyphs\" textLength=\"62\" x=\"43\" y=\"96.6479\">references</text><line style=\"stroke: #A80036; stroke-width: 1.0;\" x1=\"105\" x2=\"115\" y1=\"93.3398\" y2=\"93.3398\"/></a><a href=\"psysml:fcdcf065-90d4-4da1-8b43-4feb0ab4c03b\" target=\"_top\" title=\"psysml:fcdcf065-90d4-4da1-8b43-4feb0ab4c03b\" xlink:actuate=\"onRequest\" xlink:href=\"psysml:fcdcf065-90d4-4da1-8b43-4feb0ab4c03b\" xlink:show=\"new\" xlink:title=\"psysml:fcdcf065-90d4-4da1-8b43-4feb0ab4c03b\" xlink:type=\"simple\"><polygon fill=\"#FFFFFF\" filter=\"url(#f16nfulfp6n07i)\" points=\"86,591,102,591,109,613.2969,116,613.2969,116,643.5938,86,643.5938,86,591\" style=\"stroke: #000000; stroke-width: 1.5;\"/><line style=\"stroke: #000000; stroke-width: 1.5;\" x1=\"86\" x2=\"109\" y1=\"613.2969\" y2=\"613.2969\"/><text fill=\"#000000\" font-family=\"sans-serif\" font-size=\"14\" font-weight=\"bold\" lengthAdjust=\"spacingAndGlyphs\" textLength=\"10\" x=\"90\" y=\"605.9951\">P</text></a><!--MD5=[2720a5a1f2c3fca2055b230370638851]\n",
       "link E2 to E3--><a href=\"psysml:1f32f64a-cd2f-48b1-a0ff-85d8f5396f29\" target=\"_top\" title=\"psysml:1f32f64a-cd2f-48b1-a0ff-85d8f5396f29\" xlink:actuate=\"onRequest\" xlink:href=\"psysml:1f32f64a-cd2f-48b1-a0ff-85d8f5396f29\" xlink:show=\"new\" xlink:title=\"psysml:1f32f64a-cd2f-48b1-a0ff-85d8f5396f29\" xlink:type=\"simple\"><path d=\"M168.9,102.28 C166.28,121.12 162.41,148.97 158.94,173.94 \" fill=\"none\" id=\"E2-&gt;E3\" style=\"stroke: #A80036; stroke-width: 1.0;\"/><polygon fill=\"#FFFFFF\" points=\"156.15,193.98,151.8354,174.1966,165.7018,176.1261,156.15,193.98\" style=\"stroke: #A80036; stroke-width: 1.0;\"/><ellipse cx=\"154.6019\" cy=\"168.8266\" fill=\"#A80036\" rx=\"2\" ry=\"2\" style=\"stroke: #A80036; stroke-width: 1.0;\"/><ellipse cx=\"164.5065\" cy=\"170.2048\" fill=\"#A80036\" rx=\"2\" ry=\"2\" style=\"stroke: #A80036; stroke-width: 1.0;\"/></a><!--MD5=[4672eba38e49728da53d11aeb285b987]\n",
       "reverse link E3 to E4--><a href=\"psysml:1e20eef8-b16d-4a20-93fc-2b015416e79a\" target=\"_top\" title=\"psysml:1e20eef8-b16d-4a20-93fc-2b015416e79a\" xlink:actuate=\"onRequest\" xlink:href=\"psysml:1e20eef8-b16d-4a20-93fc-2b015416e79a\" xlink:show=\"new\" xlink:title=\"psysml:1e20eef8-b16d-4a20-93fc-2b015416e79a\" xlink:type=\"simple\"><path d=\"M142.17,283.02 C138.31,304.93 133.97,329.52 130.92,346.77 \" fill=\"none\" id=\"E3&lt;-E4\" style=\"stroke: #A80036; stroke-width: 1.0;\"/><polygon fill=\"#A80036\" points=\"144.44,270.16,139.4532,275.3688,142.3433,281.9754,147.3301,276.7666,144.44,270.16\" style=\"stroke: #A80036; stroke-width: 1.0;\"/></a><!--MD5=[79568f1e445c3877b6a54524624ccc7d]\n",
       "link E4 to E6--><a href=\"psysml:97a379fd-51a7-461f-afe4-84a5f5da2292\" target=\"_top\" title=\"psysml:97a379fd-51a7-461f-afe4-84a5f5da2292\" xlink:actuate=\"onRequest\" xlink:href=\"psysml:97a379fd-51a7-461f-afe4-84a5f5da2292\" xlink:show=\"new\" xlink:title=\"psysml:97a379fd-51a7-461f-afe4-84a5f5da2292\" xlink:type=\"simple\"><path d=\"M123.88,393.01 C122.25,404.51 120.18,419.17 118.13,433.62 \" fill=\"none\" id=\"E4-&gt;E6\" style=\"stroke: #A80036; stroke-width: 1.0;\"/><polygon fill=\"#FFFFFF\" points=\"115.3,453.57,111.0294,433.777,124.8914,435.7373,115.3,453.57\" style=\"stroke: #A80036; stroke-width: 1.0;\"/><ellipse cx=\"113.8078\" cy=\"428.4132\" fill=\"#A80036\" rx=\"2\" ry=\"2\" style=\"stroke: #A80036; stroke-width: 1.0;\"/><ellipse cx=\"123.7093\" cy=\"429.8134\" fill=\"#A80036\" rx=\"2\" ry=\"2\" style=\"stroke: #A80036; stroke-width: 1.0;\"/></a><!--MD5=[3f50a3473f1dfb74d3f76443e03635af]\n",
       "reverse link E6 to E7--><a href=\"psysml:fcdcf065-90d4-4da1-8b43-4feb0ab4c03b\" target=\"_top\" title=\"psysml:fcdcf065-90d4-4da1-8b43-4feb0ab4c03b\" xlink:actuate=\"onRequest\" xlink:href=\"psysml:fcdcf065-90d4-4da1-8b43-4feb0ab4c03b\" xlink:show=\"new\" xlink:title=\"psysml:fcdcf065-90d4-4da1-8b43-4feb0ab4c03b\" xlink:type=\"simple\"><path d=\"M106.18,545.35 C105.04,561.08 103.83,577.65 102.87,590.83 \" fill=\"none\" id=\"E6&lt;-E7\" style=\"stroke: #A80036; stroke-width: 1.0;\"/><ellipse cx=\"106.7138\" cy=\"538.0285\" fill=\"#FFFFFF\" rx=\"8\" ry=\"8\" style=\"stroke: #A80036; stroke-width: 1.0;\"/><line style=\"stroke: #A80036; stroke-width: 1.0;\" x1=\"106.1276\" x2=\"107.3\" y1=\"546.007\" y2=\"530.05\"/><line style=\"stroke: #A80036; stroke-width: 1.0;\" x1=\"98.7353\" x2=\"114.6923\" y1=\"537.4423\" y2=\"538.6147\"/></a><!--MD5=[95fa686b5a16158bcdbcaeead89f639b]\n",
       "link E8 to E3--><a href=\"psysml:c8b02122-2142-456b-8199-9bf99e52168e\" target=\"_top\" title=\"psysml:c8b02122-2142-456b-8199-9bf99e52168e\" xlink:actuate=\"onRequest\" xlink:href=\"psysml:c8b02122-2142-456b-8199-9bf99e52168e\" xlink:show=\"new\" xlink:title=\"psysml:c8b02122-2142-456b-8199-9bf99e52168e\" xlink:type=\"simple\"><path d=\"M172.32,594.45 C172.8,548.41 173.03,438.69 166,347 C164.57,328.37 162.18,308.13 159.73,289.94 \" fill=\"none\" id=\"E8-&gt;E3\" style=\"stroke: #A80036; stroke-width: 1.0;\"/><polygon fill=\"#FFFFFF\" points=\"156.92,270.12,166.5114,287.9527,152.6494,289.913,156.92,270.12\" style=\"stroke: #A80036; stroke-width: 1.0;\"/><ellipse cx=\"165.3293\" cy=\"293.8766\" fill=\"#A80036\" rx=\"2\" ry=\"2\" style=\"stroke: #A80036; stroke-width: 1.0;\"/><ellipse cx=\"155.4278\" cy=\"295.2768\" fill=\"#A80036\" rx=\"2\" ry=\"2\" style=\"stroke: #A80036; stroke-width: 1.0;\"/></a><!--MD5=[f4cf0736d43fd73c4ef68817c49d37d5]\n",
       "reverse link E6 to E8--><a href=\"psysml:adeac7a4-0c31-420e-b3fd-609062fb2f41\" target=\"_top\" title=\"psysml:adeac7a4-0c31-420e-b3fd-609062fb2f41\" xlink:actuate=\"onRequest\" xlink:href=\"psysml:adeac7a4-0c31-420e-b3fd-609062fb2f41\" xlink:show=\"new\" xlink:title=\"psysml:adeac7a4-0c31-420e-b3fd-609062fb2f41\" xlink:type=\"simple\"><path d=\"M134.44,541.68 C143.55,559.83 153.45,579.55 160.8,594.19 \" fill=\"none\" id=\"E6&lt;-E8\" style=\"stroke: #A80036; stroke-width: 1.0;\"/><polygon fill=\"#A80036\" points=\"128.6,530.05,127.7161,537.2067,133.9824,540.7752,134.8663,533.6185,128.6,530.05\" style=\"stroke: #A80036; stroke-width: 1.0;\"/></a><!--MD5=[8e04057e7b3cbc0dca4fc78ea351e2da]\n",
       "reverse link E10 to E3--><a href=\"psysml:4b320237-d900-4f83-8ac2-28b55b9df163\" target=\"_top\" title=\"psysml:4b320237-d900-4f83-8ac2-28b55b9df163\" xlink:actuate=\"onRequest\" xlink:href=\"psysml:4b320237-d900-4f83-8ac2-28b55b9df163\" xlink:show=\"new\" xlink:title=\"psysml:4b320237-d900-4f83-8ac2-28b55b9df163\" xlink:type=\"simple\"><path d=\"M98.98,128.98 C109.72,150.06 122.08,174.29 132.05,193.84 \" fill=\"none\" id=\"E10&lt;-E3\" style=\"stroke: #A80036; stroke-width: 1.0;\"/><polygon fill=\"#FFFFFF\" points=\"93.03,117.33,92.1919,124.4922,98.4809,128.0206,99.319,120.8583,93.03,117.33\" style=\"stroke: #A80036; stroke-width: 1.0;\"/><text fill=\"#000000\" font-family=\"sans-serif\" font-size=\"13\" lengthAdjust=\"spacingAndGlyphs\" textLength=\"7\" x=\"115\" y=\"160.0669\">y</text></a><!--MD5=[604cbf994c02b74b117f728a71673cea]\n",
       "reverse link E10 to E6--><a href=\"psysml:4b320237-d900-4f83-8ac2-28b55b9df163\" target=\"_top\" title=\"psysml:4b320237-d900-4f83-8ac2-28b55b9df163\" xlink:actuate=\"onRequest\" xlink:href=\"psysml:4b320237-d900-4f83-8ac2-28b55b9df163\" xlink:show=\"new\" xlink:title=\"psysml:4b320237-d900-4f83-8ac2-28b55b9df163\" xlink:type=\"simple\"><path d=\"M73.89,130.53 C74.34,192.6 77.02,300.97 89,393 C91.63,413.19 96.24,435.39 100.47,453.55 \" fill=\"none\" id=\"E10&lt;-E6\" style=\"stroke: #A80036; stroke-width: 1.0;\"/><polygon fill=\"#FFFFFF\" points=\"73.83,117.27,69.863,123.2919,73.8959,129.2698,77.8629,123.2479,73.83,117.27\" style=\"stroke: #A80036; stroke-width: 1.0;\"/><text fill=\"#000000\" font-family=\"sans-serif\" font-size=\"13\" lengthAdjust=\"spacingAndGlyphs\" textLength=\"7\" x=\"82\" y=\"313.0669\">y</text></a><!--MD5=[5bca115401435261976ca3608ed166fc]\n",
       "@startuml\r\n",
       "skinparam wrapWidth 300\r\n",
       "hide circle\r\n",
       "\r\n",
       "package \"BlockTest\" as E1  [[psysml:c0b99535-16c1-47cf-a8d5-3f20b133a54a ]]  {\r\n",
       "comp usage \"f: A\" as E2  <<(T,blue)part>> [[psysml:20852434-d7cc-411e-aa3b-cae286a1f6f8 ]] {\r\n",
       "}\r\n",
       "comp def \"A\" as E3  <<(T,blue)part def>> [[psysml:cbed5230-ac88-4b7e-9b23-6ffd90d7c059 ]] {\r\n",
       "- - ports - -\r\n",
       "c: C\r\n",
       "}\r\n",
       "comp usage \"b: B\" as E4  <<(T,blue)part>> [[psysml:1e20eef8-b16d-4a20-93fc-2b015416e79a ]] {\r\n",
       "}\r\n",
       "comp def \"B\" as E6  <<(T,blue)part def>> [[psysml:633af2d2-4d32-4996-ac04-a91fff2e720f ]] {\r\n",
       "- - ports - -\r\n",
       "x: ~C\r\n",
       "}\r\n",
       "package \"P\" as E7  [[psysml:fcdcf065-90d4-4da1-8b43-4feb0ab4c03b ]]  {\r\n",
       "}\r\n",
       "comp usage \"a: A\" as E8  <<(T,blue)part>> [[psysml:adeac7a4-0c31-420e-b3fd-609062fb2f41 ]] {\r\n",
       "}\r\n",
       "comp def \"C\" as E10  <<(T,blue)port def>> [[psysml:19a0d075-dfec-4a25-8f91-7b5bd5520f32 ]] {\r\n",
       "- - references - -\r\n",
       "y: A, B <b>as</b> z2 \r\n",
       "}\r\n",
       "E2 - -:|> E3 [[psysml:1f32f64a-cd2f-48b1-a0ff-85d8f5396f29 ]] \r\n",
       "E3 *- - E4 [[psysml:1e20eef8-b16d-4a20-93fc-2b015416e79a ]] \r\n",
       "E4 - -:|> E6 [[psysml:97a379fd-51a7-461f-afe4-84a5f5da2292 ]] \r\n",
       "E6 +- - E7 [[psysml:fcdcf065-90d4-4da1-8b43-4feb0ab4c03b ]] \r\n",
       "E8 - -:|> E3 [[psysml:c8b02122-2142-456b-8199-9bf99e52168e ]] \r\n",
       "E6 *- - E8 [[psysml:adeac7a4-0c31-420e-b3fd-609062fb2f41 ]] \r\n",
       "E10 o- - E3 [[psysml:4b320237-d900-4f83-8ac2-28b55b9df163 ]] : y\r\n",
       "E10 o- - E6 [[psysml:4b320237-d900-4f83-8ac2-28b55b9df163 ]] : y\r\n",
       "}\r\n",
       "@enduml\r\n",
       "\n",
       "PlantUML version 1.2020.13(Sat Jun 13 12:26:38 UTC 2020)\n",
       "(EPL source distribution)\n",
       "Java Runtime: OpenJDK Runtime Environment\n",
       "JVM: OpenJDK 64-Bit Server VM\n",
       "Default Encoding: UTF-8\n",
       "Language: en\n",
       "Country: null\n",
       "--></g></svg>"
      ]
     },
     "execution_count": 23,
     "metadata": {},
     "output_type": "execute_result"
    }
   ],
   "source": [
    "%viz --style=\"STDCOLOR\" --view=\"Default\" \"BlockTest\""
   ]
  },
  {
   "cell_type": "code",
   "execution_count": 24,
   "id": "dominican-happening",
   "metadata": {
    "execution": {
     "iopub.execute_input": "2021-03-25T14:59:52.240696Z",
     "iopub.status.busy": "2021-03-25T14:59:52.239967Z",
     "iopub.status.idle": "2021-03-25T14:59:52.744689Z",
     "shell.execute_reply": "2021-03-25T14:59:52.742785Z"
    }
   },
   "outputs": [
    {
     "data": {
      "image/svg+xml": [
       "<?xml version=\"1.0\" encoding=\"UTF-8\" standalone=\"no\"?><svg xmlns=\"http://www.w3.org/2000/svg\" xmlns:xlink=\"http://www.w3.org/1999/xlink\" contentScriptType=\"application/ecmascript\" contentStyleType=\"text/css\" height=\"672px\" preserveAspectRatio=\"none\" style=\"width:231px;height:672px;\" version=\"1.1\" viewBox=\"0 0 231 672\" width=\"231px\" zoomAndPan=\"magnify\"><defs><filter height=\"300%\" id=\"f16nfulfp6n07i\" width=\"300%\" x=\"-1\" y=\"-1\"><feGaussianBlur result=\"blurOut\" stdDeviation=\"2.0\"/><feColorMatrix in=\"blurOut\" result=\"blurOut2\" type=\"matrix\" values=\"0 0 0 0 0 0 0 0 0 0 0 0 0 0 0 0 0 0 .4 0\"/><feOffset dx=\"4.0\" dy=\"4.0\" in=\"blurOut2\" result=\"blurOut3\"/><feBlend in=\"SourceGraphic\" in2=\"blurOut3\" mode=\"normal\"/></filter></defs><g><!--MD5=[fbc87193dbaf4d95561dea2c320d4a47]\n",
       "cluster E1--><a href=\"psysml:c0b99535-16c1-47cf-a8d5-3f20b133a54a\" target=\"_top\" title=\"psysml:c0b99535-16c1-47cf-a8d5-3f20b133a54a\" xlink:actuate=\"onRequest\" xlink:href=\"psysml:c0b99535-16c1-47cf-a8d5-3f20b133a54a\" xlink:show=\"new\" xlink:title=\"psysml:c0b99535-16c1-47cf-a8d5-3f20b133a54a\" xlink:type=\"simple\"><polygon fill=\"#FFFFFF\" filter=\"url(#f16nfulfp6n07i)\" points=\"16,6,99,6,106,28.2969,209,28.2969,209,660,16,660,16,6\" style=\"stroke: #000000; stroke-width: 1.5;\"/><line style=\"stroke: #000000; stroke-width: 1.5;\" x1=\"16\" x2=\"106\" y1=\"28.2969\" y2=\"28.2969\"/><text fill=\"#000000\" font-family=\"sans-serif\" font-size=\"14\" font-weight=\"bold\" lengthAdjust=\"spacingAndGlyphs\" textLength=\"77\" x=\"20\" y=\"20.9951\">BlockTest</text></a><!--MD5=[b4997ac47864f28c2f74865a473b2911]\n",
       "class E2--><a href=\"psysml:20852434-d7cc-411e-aa3b-cae286a1f6f8\" target=\"_top\" title=\"psysml:20852434-d7cc-411e-aa3b-cae286a1f6f8\" xlink:actuate=\"onRequest\" xlink:href=\"psysml:20852434-d7cc-411e-aa3b-cae286a1f6f8\" xlink:show=\"new\" xlink:title=\"psysml:20852434-d7cc-411e-aa3b-cae286a1f6f8\" xlink:type=\"simple\"><rect fill=\"#FEFECE\" filter=\"url(#f16nfulfp6n07i)\" height=\"45.9375\" id=\"E2\" rx=\"10\" ry=\"10\" style=\"stroke: #A80036; stroke-width: 1.5;\" width=\"42\" x=\"151\" y=\"56\"/><text fill=\"#000000\" font-family=\"sans-serif\" font-size=\"12\" font-style=\"italic\" lengthAdjust=\"spacingAndGlyphs\" textLength=\"40\" x=\"152\" y=\"72.1387\">«part»</text><text fill=\"#000000\" font-family=\"sans-serif\" font-size=\"12\" lengthAdjust=\"spacingAndGlyphs\" textLength=\"20\" x=\"162\" y=\"86.1074\">f: A</text><line style=\"stroke: #A80036; stroke-width: 1.5;\" x1=\"152\" x2=\"192\" y1=\"93.9375\" y2=\"93.9375\"/></a><!--MD5=[09b614a08d8cba4a07c9adeb5e0fee81]\n",
       "class E3--><a href=\"psysml:cbed5230-ac88-4b7e-9b23-6ffd90d7c059\" target=\"_top\" title=\"psysml:cbed5230-ac88-4b7e-9b23-6ffd90d7c059\" xlink:actuate=\"onRequest\" xlink:href=\"psysml:cbed5230-ac88-4b7e-9b23-6ffd90d7c059\" xlink:show=\"new\" xlink:title=\"psysml:cbed5230-ac88-4b7e-9b23-6ffd90d7c059\" xlink:type=\"simple\"><rect fill=\"#FEFECE\" filter=\"url(#f16nfulfp6n07i)\" height=\"75.5469\" id=\"E3\" style=\"stroke: #A80036; stroke-width: 1.5;\" width=\"66\" x=\"118\" y=\"194\"/><text fill=\"#000000\" font-family=\"sans-serif\" font-size=\"12\" font-style=\"italic\" lengthAdjust=\"spacingAndGlyphs\" textLength=\"64\" x=\"119\" y=\"210.1387\">«part def»</text><text fill=\"#000000\" font-family=\"sans-serif\" font-size=\"12\" lengthAdjust=\"spacingAndGlyphs\" textLength=\"8\" x=\"147\" y=\"224.1074\">A</text><line style=\"stroke: #A80036; stroke-width: 1.5;\" x1=\"119\" x2=\"183\" y1=\"231.9375\" y2=\"231.9375\"/><text fill=\"#000000\" font-family=\"sans-serif\" font-size=\"11\" lengthAdjust=\"spacingAndGlyphs\" textLength=\"22\" x=\"124\" y=\"262.9526\">c: C</text><line style=\"stroke: #A80036; stroke-width: 1.0;\" x1=\"119\" x2=\"136\" y1=\"246.3398\" y2=\"246.3398\"/><text fill=\"#000000\" font-family=\"sans-serif\" font-size=\"11\" lengthAdjust=\"spacingAndGlyphs\" textLength=\"30\" x=\"136\" y=\"249.6479\">ports</text><line style=\"stroke: #A80036; stroke-width: 1.0;\" x1=\"166\" x2=\"183\" y1=\"246.3398\" y2=\"246.3398\"/></a><!--MD5=[ebbe1d658d1005bcc118a6aa81145e00]\n",
       "class E4--><a href=\"psysml:1e20eef8-b16d-4a20-93fc-2b015416e79a\" target=\"_top\" title=\"psysml:1e20eef8-b16d-4a20-93fc-2b015416e79a\" xlink:actuate=\"onRequest\" xlink:href=\"psysml:1e20eef8-b16d-4a20-93fc-2b015416e79a\" xlink:show=\"new\" xlink:title=\"psysml:1e20eef8-b16d-4a20-93fc-2b015416e79a\" xlink:type=\"simple\"><rect fill=\"#FEFECE\" filter=\"url(#f16nfulfp6n07i)\" height=\"45.9375\" id=\"E4\" rx=\"10\" ry=\"10\" style=\"stroke: #A80036; stroke-width: 1.5;\" width=\"42\" x=\"106\" y=\"347\"/><text fill=\"#000000\" font-family=\"sans-serif\" font-size=\"12\" font-style=\"italic\" lengthAdjust=\"spacingAndGlyphs\" textLength=\"40\" x=\"107\" y=\"363.1387\">«part»</text><text fill=\"#000000\" font-family=\"sans-serif\" font-size=\"12\" lengthAdjust=\"spacingAndGlyphs\" textLength=\"24\" x=\"115\" y=\"377.1074\">b: B</text><line style=\"stroke: #A80036; stroke-width: 1.5;\" x1=\"107\" x2=\"147\" y1=\"384.9375\" y2=\"384.9375\"/></a><!--MD5=[60a26617385b1d2d0262a64233df1f8d]\n",
       "class E6--><a href=\"psysml:633af2d2-4d32-4996-ac04-a91fff2e720f\" target=\"_top\" title=\"psysml:633af2d2-4d32-4996-ac04-a91fff2e720f\" xlink:actuate=\"onRequest\" xlink:href=\"psysml:633af2d2-4d32-4996-ac04-a91fff2e720f\" xlink:show=\"new\" xlink:title=\"psysml:633af2d2-4d32-4996-ac04-a91fff2e720f\" xlink:type=\"simple\"><rect fill=\"#FEFECE\" filter=\"url(#f16nfulfp6n07i)\" height=\"75.5469\" id=\"E6\" style=\"stroke: #A80036; stroke-width: 1.5;\" width=\"66\" x=\"77\" y=\"454\"/><text fill=\"#000000\" font-family=\"sans-serif\" font-size=\"12\" font-style=\"italic\" lengthAdjust=\"spacingAndGlyphs\" textLength=\"64\" x=\"78\" y=\"470.1387\">«part def»</text><text fill=\"#000000\" font-family=\"sans-serif\" font-size=\"12\" lengthAdjust=\"spacingAndGlyphs\" textLength=\"8\" x=\"106\" y=\"484.1074\">B</text><line style=\"stroke: #A80036; stroke-width: 1.5;\" x1=\"78\" x2=\"142\" y1=\"491.9375\" y2=\"491.9375\"/><text fill=\"#000000\" font-family=\"sans-serif\" font-size=\"11\" lengthAdjust=\"spacingAndGlyphs\" textLength=\"31\" x=\"83\" y=\"522.9526\">x: ~C</text><line style=\"stroke: #A80036; stroke-width: 1.0;\" x1=\"78\" x2=\"95\" y1=\"506.3398\" y2=\"506.3398\"/><text fill=\"#000000\" font-family=\"sans-serif\" font-size=\"11\" lengthAdjust=\"spacingAndGlyphs\" textLength=\"30\" x=\"95\" y=\"509.6479\">ports</text><line style=\"stroke: #A80036; stroke-width: 1.0;\" x1=\"125\" x2=\"142\" y1=\"506.3398\" y2=\"506.3398\"/></a><!--MD5=[b9389687b975829384b498ac4b7476b2]\n",
       "class E8--><a href=\"psysml:adeac7a4-0c31-420e-b3fd-609062fb2f41\" target=\"_top\" title=\"psysml:adeac7a4-0c31-420e-b3fd-609062fb2f41\" xlink:actuate=\"onRequest\" xlink:href=\"psysml:adeac7a4-0c31-420e-b3fd-609062fb2f41\" xlink:show=\"new\" xlink:title=\"psysml:adeac7a4-0c31-420e-b3fd-609062fb2f41\" xlink:type=\"simple\"><rect fill=\"#FEFECE\" filter=\"url(#f16nfulfp6n07i)\" height=\"45.9375\" id=\"E8\" rx=\"10\" ry=\"10\" style=\"stroke: #A80036; stroke-width: 1.5;\" width=\"42\" x=\"151\" y=\"594.5\"/><text fill=\"#000000\" font-family=\"sans-serif\" font-size=\"12\" font-style=\"italic\" lengthAdjust=\"spacingAndGlyphs\" textLength=\"40\" x=\"152\" y=\"610.6387\">«part»</text><text fill=\"#000000\" font-family=\"sans-serif\" font-size=\"12\" lengthAdjust=\"spacingAndGlyphs\" textLength=\"24\" x=\"160\" y=\"624.6074\">a: A</text><line style=\"stroke: #A80036; stroke-width: 1.5;\" x1=\"152\" x2=\"192\" y1=\"632.4375\" y2=\"632.4375\"/></a><!--MD5=[96f4274e9e20536e775497830990834d]\n",
       "class E10--><a href=\"psysml:19a0d075-dfec-4a25-8f91-7b5bd5520f32\" target=\"_top\" title=\"psysml:19a0d075-dfec-4a25-8f91-7b5bd5520f32\" xlink:actuate=\"onRequest\" xlink:href=\"psysml:19a0d075-dfec-4a25-8f91-7b5bd5520f32\" xlink:show=\"new\" xlink:title=\"psysml:19a0d075-dfec-4a25-8f91-7b5bd5520f32\" xlink:type=\"simple\"><rect fill=\"#FEFECE\" filter=\"url(#f16nfulfp6n07i)\" height=\"75.5469\" id=\"E10\" style=\"stroke: #A80036; stroke-width: 1.5;\" width=\"84\" x=\"32\" y=\"41\"/><text fill=\"#000000\" font-family=\"sans-serif\" font-size=\"12\" font-style=\"italic\" lengthAdjust=\"spacingAndGlyphs\" textLength=\"64\" x=\"42\" y=\"57.1387\">«port def»</text><text fill=\"#000000\" font-family=\"sans-serif\" font-size=\"12\" lengthAdjust=\"spacingAndGlyphs\" textLength=\"8\" x=\"70\" y=\"71.1074\">C</text><line style=\"stroke: #A80036; stroke-width: 1.5;\" x1=\"33\" x2=\"115\" y1=\"78.9375\" y2=\"78.9375\"/><text fill=\"#000000\" font-family=\"sans-serif\" font-size=\"11\" lengthAdjust=\"spacingAndGlyphs\" textLength=\"37\" x=\"38\" y=\"109.9526\">y: A, B</text><text fill=\"#000000\" font-family=\"sans-serif\" font-size=\"11\" font-weight=\"bold\" lengthAdjust=\"spacingAndGlyphs\" textLength=\"15\" x=\"79\" y=\"109.9526\">as</text><text fill=\"#000000\" font-family=\"sans-serif\" font-size=\"11\" lengthAdjust=\"spacingAndGlyphs\" textLength=\"12\" x=\"98\" y=\"109.9526\">z2</text><line style=\"stroke: #A80036; stroke-width: 1.0;\" x1=\"33\" x2=\"43\" y1=\"93.3398\" y2=\"93.3398\"/><text fill=\"#000000\" font-family=\"sans-serif\" font-size=\"11\" lengthAdjust=\"spacingAndGlyphs\" textLength=\"62\" x=\"43\" y=\"96.6479\">references</text><line style=\"stroke: #A80036; stroke-width: 1.0;\" x1=\"105\" x2=\"115\" y1=\"93.3398\" y2=\"93.3398\"/></a><a href=\"psysml:fcdcf065-90d4-4da1-8b43-4feb0ab4c03b\" target=\"_top\" title=\"psysml:fcdcf065-90d4-4da1-8b43-4feb0ab4c03b\" xlink:actuate=\"onRequest\" xlink:href=\"psysml:fcdcf065-90d4-4da1-8b43-4feb0ab4c03b\" xlink:show=\"new\" xlink:title=\"psysml:fcdcf065-90d4-4da1-8b43-4feb0ab4c03b\" xlink:type=\"simple\"><polygon fill=\"#FFFFFF\" filter=\"url(#f16nfulfp6n07i)\" points=\"86,591,102,591,109,613.2969,116,613.2969,116,643.5938,86,643.5938,86,591\" style=\"stroke: #000000; stroke-width: 1.5;\"/><line style=\"stroke: #000000; stroke-width: 1.5;\" x1=\"86\" x2=\"109\" y1=\"613.2969\" y2=\"613.2969\"/><text fill=\"#000000\" font-family=\"sans-serif\" font-size=\"14\" font-weight=\"bold\" lengthAdjust=\"spacingAndGlyphs\" textLength=\"10\" x=\"90\" y=\"605.9951\">P</text></a><!--MD5=[2720a5a1f2c3fca2055b230370638851]\n",
       "link E2 to E3--><a href=\"psysml:1f32f64a-cd2f-48b1-a0ff-85d8f5396f29\" target=\"_top\" title=\"psysml:1f32f64a-cd2f-48b1-a0ff-85d8f5396f29\" xlink:actuate=\"onRequest\" xlink:href=\"psysml:1f32f64a-cd2f-48b1-a0ff-85d8f5396f29\" xlink:show=\"new\" xlink:title=\"psysml:1f32f64a-cd2f-48b1-a0ff-85d8f5396f29\" xlink:type=\"simple\"><path d=\"M168.9,102.28 C166.28,121.12 162.41,148.97 158.94,173.94 \" fill=\"none\" id=\"E2-&gt;E3\" style=\"stroke: #A80036; stroke-width: 1.0;\"/><polygon fill=\"#FFFFFF\" points=\"156.15,193.98,151.8354,174.1966,165.7018,176.1261,156.15,193.98\" style=\"stroke: #A80036; stroke-width: 1.0;\"/><ellipse cx=\"154.6019\" cy=\"168.8266\" fill=\"#A80036\" rx=\"2\" ry=\"2\" style=\"stroke: #A80036; stroke-width: 1.0;\"/><ellipse cx=\"164.5065\" cy=\"170.2048\" fill=\"#A80036\" rx=\"2\" ry=\"2\" style=\"stroke: #A80036; stroke-width: 1.0;\"/></a><!--MD5=[4672eba38e49728da53d11aeb285b987]\n",
       "reverse link E3 to E4--><a href=\"psysml:1e20eef8-b16d-4a20-93fc-2b015416e79a\" target=\"_top\" title=\"psysml:1e20eef8-b16d-4a20-93fc-2b015416e79a\" xlink:actuate=\"onRequest\" xlink:href=\"psysml:1e20eef8-b16d-4a20-93fc-2b015416e79a\" xlink:show=\"new\" xlink:title=\"psysml:1e20eef8-b16d-4a20-93fc-2b015416e79a\" xlink:type=\"simple\"><path d=\"M142.17,283.02 C138.31,304.93 133.97,329.52 130.92,346.77 \" fill=\"none\" id=\"E3&lt;-E4\" style=\"stroke: #A80036; stroke-width: 1.0;\"/><polygon fill=\"#A80036\" points=\"144.44,270.16,139.4532,275.3688,142.3433,281.9754,147.3301,276.7666,144.44,270.16\" style=\"stroke: #A80036; stroke-width: 1.0;\"/></a><!--MD5=[79568f1e445c3877b6a54524624ccc7d]\n",
       "link E4 to E6--><a href=\"psysml:97a379fd-51a7-461f-afe4-84a5f5da2292\" target=\"_top\" title=\"psysml:97a379fd-51a7-461f-afe4-84a5f5da2292\" xlink:actuate=\"onRequest\" xlink:href=\"psysml:97a379fd-51a7-461f-afe4-84a5f5da2292\" xlink:show=\"new\" xlink:title=\"psysml:97a379fd-51a7-461f-afe4-84a5f5da2292\" xlink:type=\"simple\"><path d=\"M123.88,393.01 C122.25,404.51 120.18,419.17 118.13,433.62 \" fill=\"none\" id=\"E4-&gt;E6\" style=\"stroke: #A80036; stroke-width: 1.0;\"/><polygon fill=\"#FFFFFF\" points=\"115.3,453.57,111.0294,433.777,124.8914,435.7373,115.3,453.57\" style=\"stroke: #A80036; stroke-width: 1.0;\"/><ellipse cx=\"113.8078\" cy=\"428.4132\" fill=\"#A80036\" rx=\"2\" ry=\"2\" style=\"stroke: #A80036; stroke-width: 1.0;\"/><ellipse cx=\"123.7093\" cy=\"429.8134\" fill=\"#A80036\" rx=\"2\" ry=\"2\" style=\"stroke: #A80036; stroke-width: 1.0;\"/></a><!--MD5=[3f50a3473f1dfb74d3f76443e03635af]\n",
       "reverse link E6 to E7--><a href=\"psysml:fcdcf065-90d4-4da1-8b43-4feb0ab4c03b\" target=\"_top\" title=\"psysml:fcdcf065-90d4-4da1-8b43-4feb0ab4c03b\" xlink:actuate=\"onRequest\" xlink:href=\"psysml:fcdcf065-90d4-4da1-8b43-4feb0ab4c03b\" xlink:show=\"new\" xlink:title=\"psysml:fcdcf065-90d4-4da1-8b43-4feb0ab4c03b\" xlink:type=\"simple\"><path d=\"M106.18,545.35 C105.04,561.08 103.83,577.65 102.87,590.83 \" fill=\"none\" id=\"E6&lt;-E7\" style=\"stroke: #A80036; stroke-width: 1.0;\"/><ellipse cx=\"106.7138\" cy=\"538.0285\" fill=\"#FFFFFF\" rx=\"8\" ry=\"8\" style=\"stroke: #A80036; stroke-width: 1.0;\"/><line style=\"stroke: #A80036; stroke-width: 1.0;\" x1=\"106.1276\" x2=\"107.3\" y1=\"546.007\" y2=\"530.05\"/><line style=\"stroke: #A80036; stroke-width: 1.0;\" x1=\"98.7353\" x2=\"114.6923\" y1=\"537.4423\" y2=\"538.6147\"/></a><!--MD5=[95fa686b5a16158bcdbcaeead89f639b]\n",
       "link E8 to E3--><a href=\"psysml:c8b02122-2142-456b-8199-9bf99e52168e\" target=\"_top\" title=\"psysml:c8b02122-2142-456b-8199-9bf99e52168e\" xlink:actuate=\"onRequest\" xlink:href=\"psysml:c8b02122-2142-456b-8199-9bf99e52168e\" xlink:show=\"new\" xlink:title=\"psysml:c8b02122-2142-456b-8199-9bf99e52168e\" xlink:type=\"simple\"><path d=\"M172.32,594.45 C172.8,548.41 173.03,438.69 166,347 C164.57,328.37 162.18,308.13 159.73,289.94 \" fill=\"none\" id=\"E8-&gt;E3\" style=\"stroke: #A80036; stroke-width: 1.0;\"/><polygon fill=\"#FFFFFF\" points=\"156.92,270.12,166.5114,287.9527,152.6494,289.913,156.92,270.12\" style=\"stroke: #A80036; stroke-width: 1.0;\"/><ellipse cx=\"165.3293\" cy=\"293.8766\" fill=\"#A80036\" rx=\"2\" ry=\"2\" style=\"stroke: #A80036; stroke-width: 1.0;\"/><ellipse cx=\"155.4278\" cy=\"295.2768\" fill=\"#A80036\" rx=\"2\" ry=\"2\" style=\"stroke: #A80036; stroke-width: 1.0;\"/></a><!--MD5=[f4cf0736d43fd73c4ef68817c49d37d5]\n",
       "reverse link E6 to E8--><a href=\"psysml:adeac7a4-0c31-420e-b3fd-609062fb2f41\" target=\"_top\" title=\"psysml:adeac7a4-0c31-420e-b3fd-609062fb2f41\" xlink:actuate=\"onRequest\" xlink:href=\"psysml:adeac7a4-0c31-420e-b3fd-609062fb2f41\" xlink:show=\"new\" xlink:title=\"psysml:adeac7a4-0c31-420e-b3fd-609062fb2f41\" xlink:type=\"simple\"><path d=\"M134.44,541.68 C143.55,559.83 153.45,579.55 160.8,594.19 \" fill=\"none\" id=\"E6&lt;-E8\" style=\"stroke: #A80036; stroke-width: 1.0;\"/><polygon fill=\"#A80036\" points=\"128.6,530.05,127.7161,537.2067,133.9824,540.7752,134.8663,533.6185,128.6,530.05\" style=\"stroke: #A80036; stroke-width: 1.0;\"/></a><!--MD5=[8e04057e7b3cbc0dca4fc78ea351e2da]\n",
       "reverse link E10 to E3--><a href=\"psysml:4b320237-d900-4f83-8ac2-28b55b9df163\" target=\"_top\" title=\"psysml:4b320237-d900-4f83-8ac2-28b55b9df163\" xlink:actuate=\"onRequest\" xlink:href=\"psysml:4b320237-d900-4f83-8ac2-28b55b9df163\" xlink:show=\"new\" xlink:title=\"psysml:4b320237-d900-4f83-8ac2-28b55b9df163\" xlink:type=\"simple\"><path d=\"M98.98,128.98 C109.72,150.06 122.08,174.29 132.05,193.84 \" fill=\"none\" id=\"E10&lt;-E3\" style=\"stroke: #A80036; stroke-width: 1.0;\"/><polygon fill=\"#FFFFFF\" points=\"93.03,117.33,92.1919,124.4922,98.4809,128.0206,99.319,120.8583,93.03,117.33\" style=\"stroke: #A80036; stroke-width: 1.0;\"/><text fill=\"#000000\" font-family=\"sans-serif\" font-size=\"13\" lengthAdjust=\"spacingAndGlyphs\" textLength=\"7\" x=\"115\" y=\"160.0669\">y</text></a><!--MD5=[604cbf994c02b74b117f728a71673cea]\n",
       "reverse link E10 to E6--><a href=\"psysml:4b320237-d900-4f83-8ac2-28b55b9df163\" target=\"_top\" title=\"psysml:4b320237-d900-4f83-8ac2-28b55b9df163\" xlink:actuate=\"onRequest\" xlink:href=\"psysml:4b320237-d900-4f83-8ac2-28b55b9df163\" xlink:show=\"new\" xlink:title=\"psysml:4b320237-d900-4f83-8ac2-28b55b9df163\" xlink:type=\"simple\"><path d=\"M73.89,130.53 C74.34,192.6 77.02,300.97 89,393 C91.63,413.19 96.24,435.39 100.47,453.55 \" fill=\"none\" id=\"E10&lt;-E6\" style=\"stroke: #A80036; stroke-width: 1.0;\"/><polygon fill=\"#FFFFFF\" points=\"73.83,117.27,69.863,123.2919,73.8959,129.2698,77.8629,123.2479,73.83,117.27\" style=\"stroke: #A80036; stroke-width: 1.0;\"/><text fill=\"#000000\" font-family=\"sans-serif\" font-size=\"13\" lengthAdjust=\"spacingAndGlyphs\" textLength=\"7\" x=\"82\" y=\"313.0669\">y</text></a><!--MD5=[5bca115401435261976ca3608ed166fc]\n",
       "@startuml\r\n",
       "skinparam wrapWidth 300\r\n",
       "hide circle\r\n",
       "\r\n",
       "package \"BlockTest\" as E1  [[psysml:c0b99535-16c1-47cf-a8d5-3f20b133a54a ]]  {\r\n",
       "comp usage \"f: A\" as E2  <<(T,blue)part>> [[psysml:20852434-d7cc-411e-aa3b-cae286a1f6f8 ]] {\r\n",
       "}\r\n",
       "comp def \"A\" as E3  <<(T,blue)part def>> [[psysml:cbed5230-ac88-4b7e-9b23-6ffd90d7c059 ]] {\r\n",
       "- - ports - -\r\n",
       "c: C\r\n",
       "}\r\n",
       "comp usage \"b: B\" as E4  <<(T,blue)part>> [[psysml:1e20eef8-b16d-4a20-93fc-2b015416e79a ]] {\r\n",
       "}\r\n",
       "comp def \"B\" as E6  <<(T,blue)part def>> [[psysml:633af2d2-4d32-4996-ac04-a91fff2e720f ]] {\r\n",
       "- - ports - -\r\n",
       "x: ~C\r\n",
       "}\r\n",
       "package \"P\" as E7  [[psysml:fcdcf065-90d4-4da1-8b43-4feb0ab4c03b ]]  {\r\n",
       "}\r\n",
       "comp usage \"a: A\" as E8  <<(T,blue)part>> [[psysml:adeac7a4-0c31-420e-b3fd-609062fb2f41 ]] {\r\n",
       "}\r\n",
       "comp def \"C\" as E10  <<(T,blue)port def>> [[psysml:19a0d075-dfec-4a25-8f91-7b5bd5520f32 ]] {\r\n",
       "- - references - -\r\n",
       "y: A, B <b>as</b> z2 \r\n",
       "}\r\n",
       "E2 - -:|> E3 [[psysml:1f32f64a-cd2f-48b1-a0ff-85d8f5396f29 ]] \r\n",
       "E3 *- - E4 [[psysml:1e20eef8-b16d-4a20-93fc-2b015416e79a ]] \r\n",
       "E4 - -:|> E6 [[psysml:97a379fd-51a7-461f-afe4-84a5f5da2292 ]] \r\n",
       "E6 +- - E7 [[psysml:fcdcf065-90d4-4da1-8b43-4feb0ab4c03b ]] \r\n",
       "E8 - -:|> E3 [[psysml:c8b02122-2142-456b-8199-9bf99e52168e ]] \r\n",
       "E6 *- - E8 [[psysml:adeac7a4-0c31-420e-b3fd-609062fb2f41 ]] \r\n",
       "E10 o- - E3 [[psysml:4b320237-d900-4f83-8ac2-28b55b9df163 ]] : y\r\n",
       "E10 o- - E6 [[psysml:4b320237-d900-4f83-8ac2-28b55b9df163 ]] : y\r\n",
       "}\r\n",
       "@enduml\r\n",
       "\n",
       "PlantUML version 1.2020.13(Sat Jun 13 12:26:38 UTC 2020)\n",
       "(EPL source distribution)\n",
       "Java Runtime: OpenJDK Runtime Environment\n",
       "JVM: OpenJDK 64-Bit Server VM\n",
       "Default Encoding: UTF-8\n",
       "Language: en\n",
       "Country: null\n",
       "--></g></svg>"
      ]
     },
     "execution_count": 24,
     "metadata": {},
     "output_type": "execute_result"
    }
   ],
   "source": [
    "%viz --style=\"STDCOLOR\" --view=\"Tree\" \"BlockTest\""
   ]
  },
  {
   "cell_type": "code",
   "execution_count": 25,
   "id": "boring-consideration",
   "metadata": {
    "execution": {
     "iopub.execute_input": "2021-03-25T14:59:52.795493Z",
     "iopub.status.busy": "2021-03-25T14:59:52.794667Z",
     "iopub.status.idle": "2021-03-25T14:59:52.802715Z",
     "shell.execute_reply": "2021-03-25T14:59:52.801899Z"
    }
   },
   "outputs": [
    {
     "data": {
      "image/svg+xml": [
       "<?xml version=\"1.0\" encoding=\"UTF-8\" standalone=\"no\"?><svg xmlns=\"http://www.w3.org/2000/svg\" xmlns:xlink=\"http://www.w3.org/1999/xlink\" contentScriptType=\"application/ecmascript\" contentStyleType=\"text/css\" height=\"12px\" preserveAspectRatio=\"none\" style=\"width:12px;height:12px;\" version=\"1.1\" viewBox=\"0 0 12 12\" width=\"12px\" zoomAndPan=\"magnify\"><defs/><g><!--MD5=[aeeef50f102b80d730deb6443d14f702]\n",
       "@startuml\r\n",
       "skinparam wrapWidth 300\r\n",
       "hide circle\r\n",
       "\r\n",
       "@enduml\r\n",
       "\n",
       "PlantUML version 1.2020.13(Sat Jun 13 12:26:38 UTC 2020)\n",
       "(EPL source distribution)\n",
       "Java Runtime: OpenJDK Runtime Environment\n",
       "JVM: OpenJDK 64-Bit Server VM\n",
       "Default Encoding: UTF-8\n",
       "Language: en\n",
       "Country: null\n",
       "--></g></svg>"
      ]
     },
     "execution_count": 25,
     "metadata": {},
     "output_type": "execute_result"
    }
   ],
   "source": [
    "%viz --style=\"STDCOLOR\" --view=\"State\" \"BlockTest\""
   ]
  },
  {
   "cell_type": "code",
   "execution_count": 26,
   "id": "selected-manhattan",
   "metadata": {
    "execution": {
     "iopub.execute_input": "2021-03-25T14:59:52.854073Z",
     "iopub.status.busy": "2021-03-25T14:59:52.853366Z",
     "iopub.status.idle": "2021-03-25T14:59:52.983919Z",
     "shell.execute_reply": "2021-03-25T14:59:52.983326Z"
    }
   },
   "outputs": [
    {
     "data": {
      "image/svg+xml": [
       "<?xml version=\"1.0\" encoding=\"UTF-8\" standalone=\"no\"?><svg xmlns=\"http://www.w3.org/2000/svg\" xmlns:xlink=\"http://www.w3.org/1999/xlink\" contentScriptType=\"application/ecmascript\" contentStyleType=\"text/css\" height=\"256px\" preserveAspectRatio=\"none\" style=\"width:590px;height:256px;\" version=\"1.1\" viewBox=\"0 0 590 256\" width=\"590px\" zoomAndPan=\"magnify\"><defs><filter height=\"300%\" id=\"fr3j5pys509sn\" width=\"300%\" x=\"-1\" y=\"-1\"><feGaussianBlur result=\"blurOut\" stdDeviation=\"2.0\"/><feColorMatrix in=\"blurOut\" result=\"blurOut2\" type=\"matrix\" values=\"0 0 0 0 0 0 0 0 0 0 0 0 0 0 0 0 0 0 .4 0\"/><feOffset dx=\"4.0\" dy=\"4.0\" in=\"blurOut2\" result=\"blurOut3\"/><feBlend in=\"SourceGraphic\" in2=\"blurOut3\" mode=\"normal\"/></filter></defs><g><!--MD5=[fbc87193dbaf4d95561dea2c320d4a47]\n",
       "cluster E1--><a href=\"psysml:c0b99535-16c1-47cf-a8d5-3f20b133a54a\" target=\"_top\" title=\"psysml:c0b99535-16c1-47cf-a8d5-3f20b133a54a\" xlink:actuate=\"onRequest\" xlink:href=\"psysml:c0b99535-16c1-47cf-a8d5-3f20b133a54a\" xlink:show=\"new\" xlink:title=\"psysml:c0b99535-16c1-47cf-a8d5-3f20b133a54a\" xlink:type=\"simple\"><polygon fill=\"#FFFFFF\" filter=\"url(#fr3j5pys509sn)\" points=\"16,6,99,6,106,28.2969,568,28.2969,568,244,16,244,16,6\" style=\"stroke: #000000; stroke-width: 1.5;\"/><line style=\"stroke: #000000; stroke-width: 1.5;\" x1=\"16\" x2=\"106\" y1=\"28.2969\" y2=\"28.2969\"/><text fill=\"#000000\" font-family=\"sans-serif\" font-size=\"14\" font-weight=\"bold\" lengthAdjust=\"spacingAndGlyphs\" textLength=\"77\" x=\"20\" y=\"20.9951\">BlockTest</text></a><!--MD5=[d5e69f78d87373223dbae638b30a9c99]\n",
       "cluster E3--><a href=\"psysml:cbed5230-ac88-4b7e-9b23-6ffd90d7c059\" target=\"_top\" title=\"psysml:cbed5230-ac88-4b7e-9b23-6ffd90d7c059\" xlink:actuate=\"onRequest\" xlink:href=\"psysml:cbed5230-ac88-4b7e-9b23-6ffd90d7c059\" xlink:show=\"new\" xlink:title=\"psysml:cbed5230-ac88-4b7e-9b23-6ffd90d7c059\" xlink:type=\"simple\"><rect fill=\"#FFFFFF\" filter=\"url(#fr3j5pys509sn)\" height=\"160\" id=\"E3\" style=\"stroke: #A80036; stroke-width: 1.5;\" width=\"120\" x=\"432\" y=\"68\"/><rect fill=\"#FEFECE\" height=\"37.9375\" style=\"stroke: #A80036; stroke-width: 1.5;\" width=\"120\" x=\"432\" y=\"68\"/><text fill=\"#000000\" font-family=\"sans-serif\" font-size=\"12\" font-style=\"italic\" lengthAdjust=\"spacingAndGlyphs\" textLength=\"64\" x=\"460\" y=\"84.1387\">«part def»</text><text fill=\"#000000\" font-family=\"sans-serif\" font-size=\"12\" lengthAdjust=\"spacingAndGlyphs\" textLength=\"8\" x=\"488\" y=\"98.1074\">A</text></a><!--MD5=[14e3b0961a2654348d326746436168a1]\n",
       "cluster E6--><a href=\"psysml:633af2d2-4d32-4996-ac04-a91fff2e720f\" target=\"_top\" title=\"psysml:633af2d2-4d32-4996-ac04-a91fff2e720f\" xlink:actuate=\"onRequest\" xlink:href=\"psysml:633af2d2-4d32-4996-ac04-a91fff2e720f\" xlink:show=\"new\" xlink:title=\"psysml:633af2d2-4d32-4996-ac04-a91fff2e720f\" xlink:type=\"simple\"><rect fill=\"#FFFFFF\" filter=\"url(#fr3j5pys509sn)\" height=\"160\" id=\"E6\" style=\"stroke: #A80036; stroke-width: 1.5;\" width=\"185\" x=\"239\" y=\"68\"/><rect fill=\"#FEFECE\" height=\"37.9375\" style=\"stroke: #A80036; stroke-width: 1.5;\" width=\"185\" x=\"239\" y=\"68\"/><text fill=\"#000000\" font-family=\"sans-serif\" font-size=\"12\" font-style=\"italic\" lengthAdjust=\"spacingAndGlyphs\" textLength=\"64\" x=\"299.5\" y=\"84.1387\">«part def»</text><text fill=\"#000000\" font-family=\"sans-serif\" font-size=\"12\" lengthAdjust=\"spacingAndGlyphs\" textLength=\"8\" x=\"327.5\" y=\"98.1074\">B</text></a><!--MD5=[96f4274e9e20536e775497830990834d]\n",
       "class E10--><a href=\"psysml:19a0d075-dfec-4a25-8f91-7b5bd5520f32\" target=\"_top\" title=\"psysml:19a0d075-dfec-4a25-8f91-7b5bd5520f32\" xlink:actuate=\"onRequest\" xlink:href=\"psysml:19a0d075-dfec-4a25-8f91-7b5bd5520f32\" xlink:show=\"new\" xlink:title=\"psysml:19a0d075-dfec-4a25-8f91-7b5bd5520f32\" xlink:type=\"simple\"><rect fill=\"#FEFECE\" filter=\"url(#fr3j5pys509sn)\" height=\"53.9375\" id=\"E10\" style=\"stroke: #A80036; stroke-width: 1.5;\" width=\"114\" x=\"117\" y=\"41\"/><text fill=\"#000000\" font-family=\"sans-serif\" font-size=\"12\" font-style=\"italic\" lengthAdjust=\"spacingAndGlyphs\" textLength=\"112\" x=\"118\" y=\"57.1387\">«(T,blue)port def»</text><text fill=\"#000000\" font-family=\"sans-serif\" font-size=\"12\" lengthAdjust=\"spacingAndGlyphs\" textLength=\"8\" x=\"170\" y=\"71.1074\">C</text><line style=\"stroke: #A80036; stroke-width: 1.5;\" x1=\"118\" x2=\"230\" y1=\"78.9375\" y2=\"78.9375\"/><line style=\"stroke: #A80036; stroke-width: 1.5;\" x1=\"118\" x2=\"230\" y1=\"86.9375\" y2=\"86.9375\"/></a><g id=\"E1.E2\"><a href=\"psysml:20852434-d7cc-411e-aa3b-cae286a1f6f8\" target=\"_top\" title=\"psysml:20852434-d7cc-411e-aa3b-cae286a1f6f8\" xlink:actuate=\"onRequest\" xlink:href=\"psysml:20852434-d7cc-411e-aa3b-cae286a1f6f8\" xlink:show=\"new\" xlink:title=\"psysml:20852434-d7cc-411e-aa3b-cae286a1f6f8\" xlink:type=\"simple\"><rect fill=\"#FEFECE\" filter=\"url(#fr3j5pys509sn)\" height=\"40\" id=\"E2\" rx=\"10\" ry=\"10\" style=\"stroke: #A80036; stroke-width: 1.5;\" width=\"50\" x=\"32\" y=\"48\"/><text fill=\"#000000\" font-family=\"sans-serif\" font-size=\"12\" lengthAdjust=\"spacingAndGlyphs\" textLength=\"20\" x=\"47\" y=\"64.1387\">f: A</text></a></g><text fill=\"#000000\" font-family=\"sans-serif\" font-size=\"14\" lengthAdjust=\"spacingAndGlyphs\" textLength=\"27\" x=\"478.5\" y=\"46.6982\">c: C</text><rect fill=\"#A80036\" height=\"12\" style=\"stroke: #FEFECE; stroke-width: 1.5;\" width=\"12\" x=\"486\" y=\"62\"/><g id=\"E1.E3.E4\"><a href=\"psysml:1e20eef8-b16d-4a20-93fc-2b015416e79a\" target=\"_top\" title=\"psysml:1e20eef8-b16d-4a20-93fc-2b015416e79a\" xlink:actuate=\"onRequest\" xlink:href=\"psysml:1e20eef8-b16d-4a20-93fc-2b015416e79a\" xlink:show=\"new\" xlink:title=\"psysml:1e20eef8-b16d-4a20-93fc-2b015416e79a\" xlink:type=\"simple\"><rect fill=\"#FEFECE\" filter=\"url(#fr3j5pys509sn)\" height=\"40\" id=\"E4\" rx=\"10\" ry=\"10\" style=\"stroke: #A80036; stroke-width: 1.5;\" width=\"50\" x=\"467\" y=\"172\"/><text fill=\"#000000\" font-family=\"sans-serif\" font-size=\"12\" lengthAdjust=\"spacingAndGlyphs\" textLength=\"24\" x=\"480\" y=\"188.1387\">b: B</text></a></g><text fill=\"#000000\" font-family=\"sans-serif\" font-size=\"14\" lengthAdjust=\"spacingAndGlyphs\" textLength=\"38\" x=\"345\" y=\"46.6982\">x: ~C</text><rect fill=\"#A80036\" height=\"12\" style=\"stroke: #FEFECE; stroke-width: 1.5;\" width=\"12\" x=\"358\" y=\"62\"/><a href=\"psysml:fcdcf065-90d4-4da1-8b43-4feb0ab4c03b\" target=\"_top\" title=\"psysml:fcdcf065-90d4-4da1-8b43-4feb0ab4c03b\" xlink:actuate=\"onRequest\" xlink:href=\"psysml:fcdcf065-90d4-4da1-8b43-4feb0ab4c03b\" xlink:show=\"new\" xlink:title=\"psysml:fcdcf065-90d4-4da1-8b43-4feb0ab4c03b\" xlink:type=\"simple\"><polygon fill=\"#FFFFFF\" filter=\"url(#fr3j5pys509sn)\" points=\"255,111,271,111,278,133.2969,285,133.2969,285,163.5938,255,163.5938,255,111\" style=\"stroke: #000000; stroke-width: 1.5;\"/><line style=\"stroke: #000000; stroke-width: 1.5;\" x1=\"255\" x2=\"278\" y1=\"133.2969\" y2=\"133.2969\"/><text fill=\"#000000\" font-family=\"sans-serif\" font-size=\"14\" font-weight=\"bold\" lengthAdjust=\"spacingAndGlyphs\" textLength=\"10\" x=\"259\" y=\"125.9951\">P</text></a><g id=\"E1.E6.E8\"><a href=\"psysml:adeac7a4-0c31-420e-b3fd-609062fb2f41\" target=\"_top\" title=\"psysml:adeac7a4-0c31-420e-b3fd-609062fb2f41\" xlink:actuate=\"onRequest\" xlink:href=\"psysml:adeac7a4-0c31-420e-b3fd-609062fb2f41\" xlink:show=\"new\" xlink:title=\"psysml:adeac7a4-0c31-420e-b3fd-609062fb2f41\" xlink:type=\"simple\"><rect fill=\"#FEFECE\" filter=\"url(#fr3j5pys509sn)\" height=\"40\" id=\"E8\" rx=\"10\" ry=\"10\" style=\"stroke: #A80036; stroke-width: 1.5;\" width=\"50\" x=\"339\" y=\"172\"/><text fill=\"#000000\" font-family=\"sans-serif\" font-size=\"12\" lengthAdjust=\"spacingAndGlyphs\" textLength=\"24\" x=\"352\" y=\"188.1387\">a: A</text></a></g><!--MD5=[0c6806b7c1f051fc8f92bc244d1755ca]\n",
       "@startuml\r\n",
       "skinparam ranksep 8\r\n",
       "skinparam rectangle {\r\n",
       " backgroundColor<<block>> LightGreen\r\n",
       "}\r\n",
       "skinparam wrapWidth 300\r\n",
       "hide circle\r\n",
       "\r\n",
       "package \"BlockTest\" as E1  [[psysml:c0b99535-16c1-47cf-a8d5-3f20b133a54a ]]  {\r\n",
       "rec usage \"f: A\" as E2  [[psysml:20852434-d7cc-411e-aa3b-cae286a1f6f8 ]] {\r\n",
       "}\r\n",
       "rec def \"A\" as E3  <<(T,blue)part def>> [[psysml:cbed5230-ac88-4b7e-9b23-6ffd90d7c059 ]] {\r\n",
       "rec usage \"b: B\" as E4  [[psysml:1e20eef8-b16d-4a20-93fc-2b015416e79a ]] {\r\n",
       "}\r\n",
       "portin \"c: C\" as E5  <<(T,blue)port>> [[psysml:fb57aec8-8cad-41ed-886b-c51c957131e5 ]] \r\n",
       "}\r\n",
       "rec def \"B\" as E6  <<(T,blue)part def>> [[psysml:633af2d2-4d32-4996-ac04-a91fff2e720f ]] {\r\n",
       "package \"P\" as E7  [[psysml:fcdcf065-90d4-4da1-8b43-4feb0ab4c03b ]]  {\r\n",
       "}\r\n",
       "rec usage \"a: A\" as E8  [[psysml:adeac7a4-0c31-420e-b3fd-609062fb2f41 ]] {\r\n",
       "}\r\n",
       "portin \"x: ~C\" as E9  <<(T,blue)port>> [[psysml:64509ffc-1e29-47d8-8b93-efd607e70ae2 ]] \r\n",
       "}\r\n",
       "def \"C\" as E10  <<(T,blue)port def>> [[psysml:19a0d075-dfec-4a25-8f91-7b5bd5520f32 ]] \r\n",
       "}\r\n",
       "@enduml\r\n",
       "\n",
       "PlantUML version 1.2020.13(Sat Jun 13 12:26:38 UTC 2020)\n",
       "(EPL source distribution)\n",
       "Java Runtime: OpenJDK Runtime Environment\n",
       "JVM: OpenJDK 64-Bit Server VM\n",
       "Default Encoding: UTF-8\n",
       "Language: en\n",
       "Country: null\n",
       "--></g></svg>"
      ]
     },
     "execution_count": 26,
     "metadata": {},
     "output_type": "execute_result"
    }
   ],
   "source": [
    "%viz --style=\"STDCOLOR\" --view=\"Interconnection\" \"BlockTest\""
   ]
  },
  {
   "cell_type": "code",
   "execution_count": 27,
   "id": "starting-stage",
   "metadata": {
    "execution": {
     "iopub.execute_input": "2021-03-25T14:59:53.034439Z",
     "iopub.status.busy": "2021-03-25T14:59:53.033570Z",
     "iopub.status.idle": "2021-03-25T14:59:53.041664Z",
     "shell.execute_reply": "2021-03-25T14:59:53.042369Z"
    }
   },
   "outputs": [
    {
     "data": {
      "image/svg+xml": [
       "<?xml version=\"1.0\" encoding=\"UTF-8\" standalone=\"no\"?><svg xmlns=\"http://www.w3.org/2000/svg\" xmlns:xlink=\"http://www.w3.org/1999/xlink\" contentScriptType=\"application/ecmascript\" contentStyleType=\"text/css\" height=\"12px\" preserveAspectRatio=\"none\" style=\"width:12px;height:12px;\" version=\"1.1\" viewBox=\"0 0 12 12\" width=\"12px\" zoomAndPan=\"magnify\"><defs/><g><!--MD5=[9863325348a96a77dacc89509d8ee65e]\n",
       "@startuml\r\n",
       "skinparam ranksep 8\r\n",
       "skinparam wrapWidth 300\r\n",
       "hide circle\r\n",
       "\r\n",
       "@enduml\r\n",
       "\n",
       "PlantUML version 1.2020.13(Sat Jun 13 12:26:38 UTC 2020)\n",
       "(EPL source distribution)\n",
       "Java Runtime: OpenJDK Runtime Environment\n",
       "JVM: OpenJDK 64-Bit Server VM\n",
       "Default Encoding: UTF-8\n",
       "Language: en\n",
       "Country: null\n",
       "--></g></svg>"
      ]
     },
     "execution_count": 27,
     "metadata": {},
     "output_type": "execute_result"
    }
   ],
   "source": [
    "%viz --style=\"STDCOLOR\" --view=\"Action\" \"BlockTest\""
   ]
  },
  {
   "cell_type": "code",
   "execution_count": 28,
   "id": "efficient-rental",
   "metadata": {
    "execution": {
     "iopub.execute_input": "2021-03-25T14:59:53.093576Z",
     "iopub.status.busy": "2021-03-25T14:59:53.092683Z",
     "iopub.status.idle": "2021-03-25T14:59:53.564131Z",
     "shell.execute_reply": "2021-03-25T14:59:53.561517Z"
    }
   },
   "outputs": [
    {
     "data": {
      "image/svg+xml": [
       "<?xml version=\"1.0\" encoding=\"UTF-8\" standalone=\"no\"?><svg xmlns=\"http://www.w3.org/2000/svg\" xmlns:xlink=\"http://www.w3.org/1999/xlink\" contentScriptType=\"application/ecmascript\" contentStyleType=\"text/css\" height=\"672px\" preserveAspectRatio=\"none\" style=\"width:231px;height:672px;\" version=\"1.1\" viewBox=\"0 0 231 672\" width=\"231px\" zoomAndPan=\"magnify\"><defs><filter height=\"300%\" id=\"f16nfulfp6n07i\" width=\"300%\" x=\"-1\" y=\"-1\"><feGaussianBlur result=\"blurOut\" stdDeviation=\"2.0\"/><feColorMatrix in=\"blurOut\" result=\"blurOut2\" type=\"matrix\" values=\"0 0 0 0 0 0 0 0 0 0 0 0 0 0 0 0 0 0 .4 0\"/><feOffset dx=\"4.0\" dy=\"4.0\" in=\"blurOut2\" result=\"blurOut3\"/><feBlend in=\"SourceGraphic\" in2=\"blurOut3\" mode=\"normal\"/></filter></defs><g><!--MD5=[fbc87193dbaf4d95561dea2c320d4a47]\n",
       "cluster E1--><a href=\"psysml:c0b99535-16c1-47cf-a8d5-3f20b133a54a\" target=\"_top\" title=\"psysml:c0b99535-16c1-47cf-a8d5-3f20b133a54a\" xlink:actuate=\"onRequest\" xlink:href=\"psysml:c0b99535-16c1-47cf-a8d5-3f20b133a54a\" xlink:show=\"new\" xlink:title=\"psysml:c0b99535-16c1-47cf-a8d5-3f20b133a54a\" xlink:type=\"simple\"><polygon fill=\"#FFFFFF\" filter=\"url(#f16nfulfp6n07i)\" points=\"16,6,99,6,106,28.2969,209,28.2969,209,660,16,660,16,6\" style=\"stroke: #000000; stroke-width: 1.5;\"/><line style=\"stroke: #000000; stroke-width: 1.5;\" x1=\"16\" x2=\"106\" y1=\"28.2969\" y2=\"28.2969\"/><text fill=\"#000000\" font-family=\"sans-serif\" font-size=\"14\" font-weight=\"bold\" lengthAdjust=\"spacingAndGlyphs\" textLength=\"77\" x=\"20\" y=\"20.9951\">BlockTest</text></a><!--MD5=[b4997ac47864f28c2f74865a473b2911]\n",
       "class E2--><a href=\"psysml:20852434-d7cc-411e-aa3b-cae286a1f6f8\" target=\"_top\" title=\"psysml:20852434-d7cc-411e-aa3b-cae286a1f6f8\" xlink:actuate=\"onRequest\" xlink:href=\"psysml:20852434-d7cc-411e-aa3b-cae286a1f6f8\" xlink:show=\"new\" xlink:title=\"psysml:20852434-d7cc-411e-aa3b-cae286a1f6f8\" xlink:type=\"simple\"><rect fill=\"#FEFECE\" filter=\"url(#f16nfulfp6n07i)\" height=\"45.9375\" id=\"E2\" rx=\"10\" ry=\"10\" style=\"stroke: #A80036; stroke-width: 1.5;\" width=\"42\" x=\"151\" y=\"56\"/><text fill=\"#000000\" font-family=\"sans-serif\" font-size=\"12\" font-style=\"italic\" lengthAdjust=\"spacingAndGlyphs\" textLength=\"40\" x=\"152\" y=\"72.1387\">«part»</text><text fill=\"#000000\" font-family=\"sans-serif\" font-size=\"12\" lengthAdjust=\"spacingAndGlyphs\" textLength=\"20\" x=\"162\" y=\"86.1074\">f: A</text><line style=\"stroke: #A80036; stroke-width: 1.5;\" x1=\"152\" x2=\"192\" y1=\"93.9375\" y2=\"93.9375\"/></a><!--MD5=[09b614a08d8cba4a07c9adeb5e0fee81]\n",
       "class E3--><a href=\"psysml:cbed5230-ac88-4b7e-9b23-6ffd90d7c059\" target=\"_top\" title=\"psysml:cbed5230-ac88-4b7e-9b23-6ffd90d7c059\" xlink:actuate=\"onRequest\" xlink:href=\"psysml:cbed5230-ac88-4b7e-9b23-6ffd90d7c059\" xlink:show=\"new\" xlink:title=\"psysml:cbed5230-ac88-4b7e-9b23-6ffd90d7c059\" xlink:type=\"simple\"><rect fill=\"#FEFECE\" filter=\"url(#f16nfulfp6n07i)\" height=\"75.5469\" id=\"E3\" style=\"stroke: #A80036; stroke-width: 1.5;\" width=\"66\" x=\"118\" y=\"194\"/><text fill=\"#000000\" font-family=\"sans-serif\" font-size=\"12\" font-style=\"italic\" lengthAdjust=\"spacingAndGlyphs\" textLength=\"64\" x=\"119\" y=\"210.1387\">«part def»</text><text fill=\"#000000\" font-family=\"sans-serif\" font-size=\"12\" lengthAdjust=\"spacingAndGlyphs\" textLength=\"8\" x=\"147\" y=\"224.1074\">A</text><line style=\"stroke: #A80036; stroke-width: 1.5;\" x1=\"119\" x2=\"183\" y1=\"231.9375\" y2=\"231.9375\"/><text fill=\"#000000\" font-family=\"sans-serif\" font-size=\"11\" lengthAdjust=\"spacingAndGlyphs\" textLength=\"22\" x=\"124\" y=\"262.9526\">c: C</text><line style=\"stroke: #A80036; stroke-width: 1.0;\" x1=\"119\" x2=\"136\" y1=\"246.3398\" y2=\"246.3398\"/><text fill=\"#000000\" font-family=\"sans-serif\" font-size=\"11\" lengthAdjust=\"spacingAndGlyphs\" textLength=\"30\" x=\"136\" y=\"249.6479\">ports</text><line style=\"stroke: #A80036; stroke-width: 1.0;\" x1=\"166\" x2=\"183\" y1=\"246.3398\" y2=\"246.3398\"/></a><!--MD5=[ebbe1d658d1005bcc118a6aa81145e00]\n",
       "class E4--><a href=\"psysml:1e20eef8-b16d-4a20-93fc-2b015416e79a\" target=\"_top\" title=\"psysml:1e20eef8-b16d-4a20-93fc-2b015416e79a\" xlink:actuate=\"onRequest\" xlink:href=\"psysml:1e20eef8-b16d-4a20-93fc-2b015416e79a\" xlink:show=\"new\" xlink:title=\"psysml:1e20eef8-b16d-4a20-93fc-2b015416e79a\" xlink:type=\"simple\"><rect fill=\"#FEFECE\" filter=\"url(#f16nfulfp6n07i)\" height=\"45.9375\" id=\"E4\" rx=\"10\" ry=\"10\" style=\"stroke: #A80036; stroke-width: 1.5;\" width=\"42\" x=\"106\" y=\"347\"/><text fill=\"#000000\" font-family=\"sans-serif\" font-size=\"12\" font-style=\"italic\" lengthAdjust=\"spacingAndGlyphs\" textLength=\"40\" x=\"107\" y=\"363.1387\">«part»</text><text fill=\"#000000\" font-family=\"sans-serif\" font-size=\"12\" lengthAdjust=\"spacingAndGlyphs\" textLength=\"24\" x=\"115\" y=\"377.1074\">b: B</text><line style=\"stroke: #A80036; stroke-width: 1.5;\" x1=\"107\" x2=\"147\" y1=\"384.9375\" y2=\"384.9375\"/></a><!--MD5=[60a26617385b1d2d0262a64233df1f8d]\n",
       "class E6--><a href=\"psysml:633af2d2-4d32-4996-ac04-a91fff2e720f\" target=\"_top\" title=\"psysml:633af2d2-4d32-4996-ac04-a91fff2e720f\" xlink:actuate=\"onRequest\" xlink:href=\"psysml:633af2d2-4d32-4996-ac04-a91fff2e720f\" xlink:show=\"new\" xlink:title=\"psysml:633af2d2-4d32-4996-ac04-a91fff2e720f\" xlink:type=\"simple\"><rect fill=\"#FEFECE\" filter=\"url(#f16nfulfp6n07i)\" height=\"75.5469\" id=\"E6\" style=\"stroke: #A80036; stroke-width: 1.5;\" width=\"66\" x=\"77\" y=\"454\"/><text fill=\"#000000\" font-family=\"sans-serif\" font-size=\"12\" font-style=\"italic\" lengthAdjust=\"spacingAndGlyphs\" textLength=\"64\" x=\"78\" y=\"470.1387\">«part def»</text><text fill=\"#000000\" font-family=\"sans-serif\" font-size=\"12\" lengthAdjust=\"spacingAndGlyphs\" textLength=\"8\" x=\"106\" y=\"484.1074\">B</text><line style=\"stroke: #A80036; stroke-width: 1.5;\" x1=\"78\" x2=\"142\" y1=\"491.9375\" y2=\"491.9375\"/><text fill=\"#000000\" font-family=\"sans-serif\" font-size=\"11\" lengthAdjust=\"spacingAndGlyphs\" textLength=\"31\" x=\"83\" y=\"522.9526\">x: ~C</text><line style=\"stroke: #A80036; stroke-width: 1.0;\" x1=\"78\" x2=\"95\" y1=\"506.3398\" y2=\"506.3398\"/><text fill=\"#000000\" font-family=\"sans-serif\" font-size=\"11\" lengthAdjust=\"spacingAndGlyphs\" textLength=\"30\" x=\"95\" y=\"509.6479\">ports</text><line style=\"stroke: #A80036; stroke-width: 1.0;\" x1=\"125\" x2=\"142\" y1=\"506.3398\" y2=\"506.3398\"/></a><!--MD5=[b9389687b975829384b498ac4b7476b2]\n",
       "class E8--><a href=\"psysml:adeac7a4-0c31-420e-b3fd-609062fb2f41\" target=\"_top\" title=\"psysml:adeac7a4-0c31-420e-b3fd-609062fb2f41\" xlink:actuate=\"onRequest\" xlink:href=\"psysml:adeac7a4-0c31-420e-b3fd-609062fb2f41\" xlink:show=\"new\" xlink:title=\"psysml:adeac7a4-0c31-420e-b3fd-609062fb2f41\" xlink:type=\"simple\"><rect fill=\"#FEFECE\" filter=\"url(#f16nfulfp6n07i)\" height=\"45.9375\" id=\"E8\" rx=\"10\" ry=\"10\" style=\"stroke: #A80036; stroke-width: 1.5;\" width=\"42\" x=\"151\" y=\"594.5\"/><text fill=\"#000000\" font-family=\"sans-serif\" font-size=\"12\" font-style=\"italic\" lengthAdjust=\"spacingAndGlyphs\" textLength=\"40\" x=\"152\" y=\"610.6387\">«part»</text><text fill=\"#000000\" font-family=\"sans-serif\" font-size=\"12\" lengthAdjust=\"spacingAndGlyphs\" textLength=\"24\" x=\"160\" y=\"624.6074\">a: A</text><line style=\"stroke: #A80036; stroke-width: 1.5;\" x1=\"152\" x2=\"192\" y1=\"632.4375\" y2=\"632.4375\"/></a><!--MD5=[96f4274e9e20536e775497830990834d]\n",
       "class E10--><a href=\"psysml:19a0d075-dfec-4a25-8f91-7b5bd5520f32\" target=\"_top\" title=\"psysml:19a0d075-dfec-4a25-8f91-7b5bd5520f32\" xlink:actuate=\"onRequest\" xlink:href=\"psysml:19a0d075-dfec-4a25-8f91-7b5bd5520f32\" xlink:show=\"new\" xlink:title=\"psysml:19a0d075-dfec-4a25-8f91-7b5bd5520f32\" xlink:type=\"simple\"><rect fill=\"#FEFECE\" filter=\"url(#f16nfulfp6n07i)\" height=\"75.5469\" id=\"E10\" style=\"stroke: #A80036; stroke-width: 1.5;\" width=\"84\" x=\"32\" y=\"41\"/><text fill=\"#000000\" font-family=\"sans-serif\" font-size=\"12\" font-style=\"italic\" lengthAdjust=\"spacingAndGlyphs\" textLength=\"64\" x=\"42\" y=\"57.1387\">«port def»</text><text fill=\"#000000\" font-family=\"sans-serif\" font-size=\"12\" lengthAdjust=\"spacingAndGlyphs\" textLength=\"8\" x=\"70\" y=\"71.1074\">C</text><line style=\"stroke: #A80036; stroke-width: 1.5;\" x1=\"33\" x2=\"115\" y1=\"78.9375\" y2=\"78.9375\"/><text fill=\"#000000\" font-family=\"sans-serif\" font-size=\"11\" lengthAdjust=\"spacingAndGlyphs\" textLength=\"37\" x=\"38\" y=\"109.9526\">y: A, B</text><text fill=\"#000000\" font-family=\"sans-serif\" font-size=\"11\" font-weight=\"bold\" lengthAdjust=\"spacingAndGlyphs\" textLength=\"15\" x=\"79\" y=\"109.9526\">as</text><text fill=\"#000000\" font-family=\"sans-serif\" font-size=\"11\" lengthAdjust=\"spacingAndGlyphs\" textLength=\"12\" x=\"98\" y=\"109.9526\">z2</text><line style=\"stroke: #A80036; stroke-width: 1.0;\" x1=\"33\" x2=\"43\" y1=\"93.3398\" y2=\"93.3398\"/><text fill=\"#000000\" font-family=\"sans-serif\" font-size=\"11\" lengthAdjust=\"spacingAndGlyphs\" textLength=\"62\" x=\"43\" y=\"96.6479\">references</text><line style=\"stroke: #A80036; stroke-width: 1.0;\" x1=\"105\" x2=\"115\" y1=\"93.3398\" y2=\"93.3398\"/></a><a href=\"psysml:fcdcf065-90d4-4da1-8b43-4feb0ab4c03b\" target=\"_top\" title=\"psysml:fcdcf065-90d4-4da1-8b43-4feb0ab4c03b\" xlink:actuate=\"onRequest\" xlink:href=\"psysml:fcdcf065-90d4-4da1-8b43-4feb0ab4c03b\" xlink:show=\"new\" xlink:title=\"psysml:fcdcf065-90d4-4da1-8b43-4feb0ab4c03b\" xlink:type=\"simple\"><polygon fill=\"#FFFFFF\" filter=\"url(#f16nfulfp6n07i)\" points=\"86,591,102,591,109,613.2969,116,613.2969,116,643.5938,86,643.5938,86,591\" style=\"stroke: #000000; stroke-width: 1.5;\"/><line style=\"stroke: #000000; stroke-width: 1.5;\" x1=\"86\" x2=\"109\" y1=\"613.2969\" y2=\"613.2969\"/><text fill=\"#000000\" font-family=\"sans-serif\" font-size=\"14\" font-weight=\"bold\" lengthAdjust=\"spacingAndGlyphs\" textLength=\"10\" x=\"90\" y=\"605.9951\">P</text></a><!--MD5=[2720a5a1f2c3fca2055b230370638851]\n",
       "link E2 to E3--><a href=\"psysml:1f32f64a-cd2f-48b1-a0ff-85d8f5396f29\" target=\"_top\" title=\"psysml:1f32f64a-cd2f-48b1-a0ff-85d8f5396f29\" xlink:actuate=\"onRequest\" xlink:href=\"psysml:1f32f64a-cd2f-48b1-a0ff-85d8f5396f29\" xlink:show=\"new\" xlink:title=\"psysml:1f32f64a-cd2f-48b1-a0ff-85d8f5396f29\" xlink:type=\"simple\"><path d=\"M168.9,102.28 C166.28,121.12 162.41,148.97 158.94,173.94 \" fill=\"none\" id=\"E2-&gt;E3\" style=\"stroke: #A80036; stroke-width: 1.0;\"/><polygon fill=\"#FFFFFF\" points=\"156.15,193.98,151.8354,174.1966,165.7018,176.1261,156.15,193.98\" style=\"stroke: #A80036; stroke-width: 1.0;\"/><ellipse cx=\"154.6019\" cy=\"168.8266\" fill=\"#A80036\" rx=\"2\" ry=\"2\" style=\"stroke: #A80036; stroke-width: 1.0;\"/><ellipse cx=\"164.5065\" cy=\"170.2048\" fill=\"#A80036\" rx=\"2\" ry=\"2\" style=\"stroke: #A80036; stroke-width: 1.0;\"/></a><!--MD5=[4672eba38e49728da53d11aeb285b987]\n",
       "reverse link E3 to E4--><a href=\"psysml:1e20eef8-b16d-4a20-93fc-2b015416e79a\" target=\"_top\" title=\"psysml:1e20eef8-b16d-4a20-93fc-2b015416e79a\" xlink:actuate=\"onRequest\" xlink:href=\"psysml:1e20eef8-b16d-4a20-93fc-2b015416e79a\" xlink:show=\"new\" xlink:title=\"psysml:1e20eef8-b16d-4a20-93fc-2b015416e79a\" xlink:type=\"simple\"><path d=\"M142.17,283.02 C138.31,304.93 133.97,329.52 130.92,346.77 \" fill=\"none\" id=\"E3&lt;-E4\" style=\"stroke: #A80036; stroke-width: 1.0;\"/><polygon fill=\"#A80036\" points=\"144.44,270.16,139.4532,275.3688,142.3433,281.9754,147.3301,276.7666,144.44,270.16\" style=\"stroke: #A80036; stroke-width: 1.0;\"/></a><!--MD5=[79568f1e445c3877b6a54524624ccc7d]\n",
       "link E4 to E6--><a href=\"psysml:97a379fd-51a7-461f-afe4-84a5f5da2292\" target=\"_top\" title=\"psysml:97a379fd-51a7-461f-afe4-84a5f5da2292\" xlink:actuate=\"onRequest\" xlink:href=\"psysml:97a379fd-51a7-461f-afe4-84a5f5da2292\" xlink:show=\"new\" xlink:title=\"psysml:97a379fd-51a7-461f-afe4-84a5f5da2292\" xlink:type=\"simple\"><path d=\"M123.88,393.01 C122.25,404.51 120.18,419.17 118.13,433.62 \" fill=\"none\" id=\"E4-&gt;E6\" style=\"stroke: #A80036; stroke-width: 1.0;\"/><polygon fill=\"#FFFFFF\" points=\"115.3,453.57,111.0294,433.777,124.8914,435.7373,115.3,453.57\" style=\"stroke: #A80036; stroke-width: 1.0;\"/><ellipse cx=\"113.8078\" cy=\"428.4132\" fill=\"#A80036\" rx=\"2\" ry=\"2\" style=\"stroke: #A80036; stroke-width: 1.0;\"/><ellipse cx=\"123.7093\" cy=\"429.8134\" fill=\"#A80036\" rx=\"2\" ry=\"2\" style=\"stroke: #A80036; stroke-width: 1.0;\"/></a><!--MD5=[3f50a3473f1dfb74d3f76443e03635af]\n",
       "reverse link E6 to E7--><a href=\"psysml:fcdcf065-90d4-4da1-8b43-4feb0ab4c03b\" target=\"_top\" title=\"psysml:fcdcf065-90d4-4da1-8b43-4feb0ab4c03b\" xlink:actuate=\"onRequest\" xlink:href=\"psysml:fcdcf065-90d4-4da1-8b43-4feb0ab4c03b\" xlink:show=\"new\" xlink:title=\"psysml:fcdcf065-90d4-4da1-8b43-4feb0ab4c03b\" xlink:type=\"simple\"><path d=\"M106.18,545.35 C105.04,561.08 103.83,577.65 102.87,590.83 \" fill=\"none\" id=\"E6&lt;-E7\" style=\"stroke: #A80036; stroke-width: 1.0;\"/><ellipse cx=\"106.7138\" cy=\"538.0285\" fill=\"#FFFFFF\" rx=\"8\" ry=\"8\" style=\"stroke: #A80036; stroke-width: 1.0;\"/><line style=\"stroke: #A80036; stroke-width: 1.0;\" x1=\"106.1276\" x2=\"107.3\" y1=\"546.007\" y2=\"530.05\"/><line style=\"stroke: #A80036; stroke-width: 1.0;\" x1=\"98.7353\" x2=\"114.6923\" y1=\"537.4423\" y2=\"538.6147\"/></a><!--MD5=[95fa686b5a16158bcdbcaeead89f639b]\n",
       "link E8 to E3--><a href=\"psysml:c8b02122-2142-456b-8199-9bf99e52168e\" target=\"_top\" title=\"psysml:c8b02122-2142-456b-8199-9bf99e52168e\" xlink:actuate=\"onRequest\" xlink:href=\"psysml:c8b02122-2142-456b-8199-9bf99e52168e\" xlink:show=\"new\" xlink:title=\"psysml:c8b02122-2142-456b-8199-9bf99e52168e\" xlink:type=\"simple\"><path d=\"M172.32,594.45 C172.8,548.41 173.03,438.69 166,347 C164.57,328.37 162.18,308.13 159.73,289.94 \" fill=\"none\" id=\"E8-&gt;E3\" style=\"stroke: #A80036; stroke-width: 1.0;\"/><polygon fill=\"#FFFFFF\" points=\"156.92,270.12,166.5114,287.9527,152.6494,289.913,156.92,270.12\" style=\"stroke: #A80036; stroke-width: 1.0;\"/><ellipse cx=\"165.3293\" cy=\"293.8766\" fill=\"#A80036\" rx=\"2\" ry=\"2\" style=\"stroke: #A80036; stroke-width: 1.0;\"/><ellipse cx=\"155.4278\" cy=\"295.2768\" fill=\"#A80036\" rx=\"2\" ry=\"2\" style=\"stroke: #A80036; stroke-width: 1.0;\"/></a><!--MD5=[f4cf0736d43fd73c4ef68817c49d37d5]\n",
       "reverse link E6 to E8--><a href=\"psysml:adeac7a4-0c31-420e-b3fd-609062fb2f41\" target=\"_top\" title=\"psysml:adeac7a4-0c31-420e-b3fd-609062fb2f41\" xlink:actuate=\"onRequest\" xlink:href=\"psysml:adeac7a4-0c31-420e-b3fd-609062fb2f41\" xlink:show=\"new\" xlink:title=\"psysml:adeac7a4-0c31-420e-b3fd-609062fb2f41\" xlink:type=\"simple\"><path d=\"M134.44,541.68 C143.55,559.83 153.45,579.55 160.8,594.19 \" fill=\"none\" id=\"E6&lt;-E8\" style=\"stroke: #A80036; stroke-width: 1.0;\"/><polygon fill=\"#A80036\" points=\"128.6,530.05,127.7161,537.2067,133.9824,540.7752,134.8663,533.6185,128.6,530.05\" style=\"stroke: #A80036; stroke-width: 1.0;\"/></a><!--MD5=[8e04057e7b3cbc0dca4fc78ea351e2da]\n",
       "reverse link E10 to E3--><a href=\"psysml:4b320237-d900-4f83-8ac2-28b55b9df163\" target=\"_top\" title=\"psysml:4b320237-d900-4f83-8ac2-28b55b9df163\" xlink:actuate=\"onRequest\" xlink:href=\"psysml:4b320237-d900-4f83-8ac2-28b55b9df163\" xlink:show=\"new\" xlink:title=\"psysml:4b320237-d900-4f83-8ac2-28b55b9df163\" xlink:type=\"simple\"><path d=\"M98.98,128.98 C109.72,150.06 122.08,174.29 132.05,193.84 \" fill=\"none\" id=\"E10&lt;-E3\" style=\"stroke: #A80036; stroke-width: 1.0;\"/><polygon fill=\"#FFFFFF\" points=\"93.03,117.33,92.1919,124.4922,98.4809,128.0206,99.319,120.8583,93.03,117.33\" style=\"stroke: #A80036; stroke-width: 1.0;\"/><text fill=\"#000000\" font-family=\"sans-serif\" font-size=\"13\" lengthAdjust=\"spacingAndGlyphs\" textLength=\"7\" x=\"115\" y=\"160.0669\">y</text></a><!--MD5=[604cbf994c02b74b117f728a71673cea]\n",
       "reverse link E10 to E6--><a href=\"psysml:4b320237-d900-4f83-8ac2-28b55b9df163\" target=\"_top\" title=\"psysml:4b320237-d900-4f83-8ac2-28b55b9df163\" xlink:actuate=\"onRequest\" xlink:href=\"psysml:4b320237-d900-4f83-8ac2-28b55b9df163\" xlink:show=\"new\" xlink:title=\"psysml:4b320237-d900-4f83-8ac2-28b55b9df163\" xlink:type=\"simple\"><path d=\"M73.89,130.53 C74.34,192.6 77.02,300.97 89,393 C91.63,413.19 96.24,435.39 100.47,453.55 \" fill=\"none\" id=\"E10&lt;-E6\" style=\"stroke: #A80036; stroke-width: 1.0;\"/><polygon fill=\"#FFFFFF\" points=\"73.83,117.27,69.863,123.2919,73.8959,129.2698,77.8629,123.2479,73.83,117.27\" style=\"stroke: #A80036; stroke-width: 1.0;\"/><text fill=\"#000000\" font-family=\"sans-serif\" font-size=\"13\" lengthAdjust=\"spacingAndGlyphs\" textLength=\"7\" x=\"82\" y=\"313.0669\">y</text></a><!--MD5=[5bca115401435261976ca3608ed166fc]\n",
       "@startuml\r\n",
       "skinparam wrapWidth 300\r\n",
       "hide circle\r\n",
       "\r\n",
       "package \"BlockTest\" as E1  [[psysml:c0b99535-16c1-47cf-a8d5-3f20b133a54a ]]  {\r\n",
       "comp usage \"f: A\" as E2  <<(T,blue)part>> [[psysml:20852434-d7cc-411e-aa3b-cae286a1f6f8 ]] {\r\n",
       "}\r\n",
       "comp def \"A\" as E3  <<(T,blue)part def>> [[psysml:cbed5230-ac88-4b7e-9b23-6ffd90d7c059 ]] {\r\n",
       "- - ports - -\r\n",
       "c: C\r\n",
       "}\r\n",
       "comp usage \"b: B\" as E4  <<(T,blue)part>> [[psysml:1e20eef8-b16d-4a20-93fc-2b015416e79a ]] {\r\n",
       "}\r\n",
       "comp def \"B\" as E6  <<(T,blue)part def>> [[psysml:633af2d2-4d32-4996-ac04-a91fff2e720f ]] {\r\n",
       "- - ports - -\r\n",
       "x: ~C\r\n",
       "}\r\n",
       "package \"P\" as E7  [[psysml:fcdcf065-90d4-4da1-8b43-4feb0ab4c03b ]]  {\r\n",
       "}\r\n",
       "comp usage \"a: A\" as E8  <<(T,blue)part>> [[psysml:adeac7a4-0c31-420e-b3fd-609062fb2f41 ]] {\r\n",
       "}\r\n",
       "comp def \"C\" as E10  <<(T,blue)port def>> [[psysml:19a0d075-dfec-4a25-8f91-7b5bd5520f32 ]] {\r\n",
       "- - references - -\r\n",
       "y: A, B <b>as</b> z2 \r\n",
       "}\r\n",
       "E2 - -:|> E3 [[psysml:1f32f64a-cd2f-48b1-a0ff-85d8f5396f29 ]] \r\n",
       "E3 *- - E4 [[psysml:1e20eef8-b16d-4a20-93fc-2b015416e79a ]] \r\n",
       "E4 - -:|> E6 [[psysml:97a379fd-51a7-461f-afe4-84a5f5da2292 ]] \r\n",
       "E6 +- - E7 [[psysml:fcdcf065-90d4-4da1-8b43-4feb0ab4c03b ]] \r\n",
       "E8 - -:|> E3 [[psysml:c8b02122-2142-456b-8199-9bf99e52168e ]] \r\n",
       "E6 *- - E8 [[psysml:adeac7a4-0c31-420e-b3fd-609062fb2f41 ]] \r\n",
       "E10 o- - E3 [[psysml:4b320237-d900-4f83-8ac2-28b55b9df163 ]] : y\r\n",
       "E10 o- - E6 [[psysml:4b320237-d900-4f83-8ac2-28b55b9df163 ]] : y\r\n",
       "}\r\n",
       "@enduml\r\n",
       "\n",
       "PlantUML version 1.2020.13(Sat Jun 13 12:26:38 UTC 2020)\n",
       "(EPL source distribution)\n",
       "Java Runtime: OpenJDK Runtime Environment\n",
       "JVM: OpenJDK 64-Bit Server VM\n",
       "Default Encoding: UTF-8\n",
       "Language: en\n",
       "Country: null\n",
       "--></g></svg>"
      ]
     },
     "execution_count": 28,
     "metadata": {},
     "output_type": "execute_result"
    }
   ],
   "source": [
    "%viz --style=\"STDCOLOR\" --view=\"Sequence\" \"BlockTest\""
   ]
  },
  {
   "cell_type": "code",
   "execution_count": 29,
   "id": "another-aquarium",
   "metadata": {
    "execution": {
     "iopub.execute_input": "2021-03-25T14:59:53.614571Z",
     "iopub.status.busy": "2021-03-25T14:59:53.613972Z",
     "iopub.status.idle": "2021-03-25T14:59:54.092646Z",
     "shell.execute_reply": "2021-03-25T14:59:54.090982Z"
    }
   },
   "outputs": [
    {
     "data": {
      "image/svg+xml": [
       "<?xml version=\"1.0\" encoding=\"UTF-8\" standalone=\"no\"?><svg xmlns=\"http://www.w3.org/2000/svg\" xmlns:xlink=\"http://www.w3.org/1999/xlink\" contentScriptType=\"application/ecmascript\" contentStyleType=\"text/css\" height=\"672px\" preserveAspectRatio=\"none\" style=\"width:231px;height:672px;\" version=\"1.1\" viewBox=\"0 0 231 672\" width=\"231px\" zoomAndPan=\"magnify\"><defs><filter height=\"300%\" id=\"f16nfulfp6n07i\" width=\"300%\" x=\"-1\" y=\"-1\"><feGaussianBlur result=\"blurOut\" stdDeviation=\"2.0\"/><feColorMatrix in=\"blurOut\" result=\"blurOut2\" type=\"matrix\" values=\"0 0 0 0 0 0 0 0 0 0 0 0 0 0 0 0 0 0 .4 0\"/><feOffset dx=\"4.0\" dy=\"4.0\" in=\"blurOut2\" result=\"blurOut3\"/><feBlend in=\"SourceGraphic\" in2=\"blurOut3\" mode=\"normal\"/></filter></defs><g><!--MD5=[fbc87193dbaf4d95561dea2c320d4a47]\n",
       "cluster E1--><a href=\"psysml:c0b99535-16c1-47cf-a8d5-3f20b133a54a\" target=\"_top\" title=\"psysml:c0b99535-16c1-47cf-a8d5-3f20b133a54a\" xlink:actuate=\"onRequest\" xlink:href=\"psysml:c0b99535-16c1-47cf-a8d5-3f20b133a54a\" xlink:show=\"new\" xlink:title=\"psysml:c0b99535-16c1-47cf-a8d5-3f20b133a54a\" xlink:type=\"simple\"><polygon fill=\"#FFFFFF\" filter=\"url(#f16nfulfp6n07i)\" points=\"16,6,99,6,106,28.2969,209,28.2969,209,660,16,660,16,6\" style=\"stroke: #000000; stroke-width: 1.5;\"/><line style=\"stroke: #000000; stroke-width: 1.5;\" x1=\"16\" x2=\"106\" y1=\"28.2969\" y2=\"28.2969\"/><text fill=\"#000000\" font-family=\"sans-serif\" font-size=\"14\" font-weight=\"bold\" lengthAdjust=\"spacingAndGlyphs\" textLength=\"77\" x=\"20\" y=\"20.9951\">BlockTest</text></a><!--MD5=[b4997ac47864f28c2f74865a473b2911]\n",
       "class E2--><a href=\"psysml:20852434-d7cc-411e-aa3b-cae286a1f6f8\" target=\"_top\" title=\"psysml:20852434-d7cc-411e-aa3b-cae286a1f6f8\" xlink:actuate=\"onRequest\" xlink:href=\"psysml:20852434-d7cc-411e-aa3b-cae286a1f6f8\" xlink:show=\"new\" xlink:title=\"psysml:20852434-d7cc-411e-aa3b-cae286a1f6f8\" xlink:type=\"simple\"><rect fill=\"#FEFECE\" filter=\"url(#f16nfulfp6n07i)\" height=\"45.9375\" id=\"E2\" rx=\"10\" ry=\"10\" style=\"stroke: #A80036; stroke-width: 1.5;\" width=\"42\" x=\"151\" y=\"56\"/><text fill=\"#000000\" font-family=\"sans-serif\" font-size=\"12\" font-style=\"italic\" lengthAdjust=\"spacingAndGlyphs\" textLength=\"40\" x=\"152\" y=\"72.1387\">«part»</text><text fill=\"#000000\" font-family=\"sans-serif\" font-size=\"12\" lengthAdjust=\"spacingAndGlyphs\" textLength=\"20\" x=\"162\" y=\"86.1074\">f: A</text><line style=\"stroke: #A80036; stroke-width: 1.5;\" x1=\"152\" x2=\"192\" y1=\"93.9375\" y2=\"93.9375\"/></a><!--MD5=[09b614a08d8cba4a07c9adeb5e0fee81]\n",
       "class E3--><a href=\"psysml:cbed5230-ac88-4b7e-9b23-6ffd90d7c059\" target=\"_top\" title=\"psysml:cbed5230-ac88-4b7e-9b23-6ffd90d7c059\" xlink:actuate=\"onRequest\" xlink:href=\"psysml:cbed5230-ac88-4b7e-9b23-6ffd90d7c059\" xlink:show=\"new\" xlink:title=\"psysml:cbed5230-ac88-4b7e-9b23-6ffd90d7c059\" xlink:type=\"simple\"><rect fill=\"#FEFECE\" filter=\"url(#f16nfulfp6n07i)\" height=\"75.5469\" id=\"E3\" style=\"stroke: #A80036; stroke-width: 1.5;\" width=\"66\" x=\"118\" y=\"194\"/><text fill=\"#000000\" font-family=\"sans-serif\" font-size=\"12\" font-style=\"italic\" lengthAdjust=\"spacingAndGlyphs\" textLength=\"64\" x=\"119\" y=\"210.1387\">«part def»</text><text fill=\"#000000\" font-family=\"sans-serif\" font-size=\"12\" lengthAdjust=\"spacingAndGlyphs\" textLength=\"8\" x=\"147\" y=\"224.1074\">A</text><line style=\"stroke: #A80036; stroke-width: 1.5;\" x1=\"119\" x2=\"183\" y1=\"231.9375\" y2=\"231.9375\"/><text fill=\"#000000\" font-family=\"sans-serif\" font-size=\"11\" lengthAdjust=\"spacingAndGlyphs\" textLength=\"22\" x=\"124\" y=\"262.9526\">c: C</text><line style=\"stroke: #A80036; stroke-width: 1.0;\" x1=\"119\" x2=\"136\" y1=\"246.3398\" y2=\"246.3398\"/><text fill=\"#000000\" font-family=\"sans-serif\" font-size=\"11\" lengthAdjust=\"spacingAndGlyphs\" textLength=\"30\" x=\"136\" y=\"249.6479\">ports</text><line style=\"stroke: #A80036; stroke-width: 1.0;\" x1=\"166\" x2=\"183\" y1=\"246.3398\" y2=\"246.3398\"/></a><!--MD5=[ebbe1d658d1005bcc118a6aa81145e00]\n",
       "class E4--><a href=\"psysml:1e20eef8-b16d-4a20-93fc-2b015416e79a\" target=\"_top\" title=\"psysml:1e20eef8-b16d-4a20-93fc-2b015416e79a\" xlink:actuate=\"onRequest\" xlink:href=\"psysml:1e20eef8-b16d-4a20-93fc-2b015416e79a\" xlink:show=\"new\" xlink:title=\"psysml:1e20eef8-b16d-4a20-93fc-2b015416e79a\" xlink:type=\"simple\"><rect fill=\"#FEFECE\" filter=\"url(#f16nfulfp6n07i)\" height=\"45.9375\" id=\"E4\" rx=\"10\" ry=\"10\" style=\"stroke: #A80036; stroke-width: 1.5;\" width=\"42\" x=\"106\" y=\"347\"/><text fill=\"#000000\" font-family=\"sans-serif\" font-size=\"12\" font-style=\"italic\" lengthAdjust=\"spacingAndGlyphs\" textLength=\"40\" x=\"107\" y=\"363.1387\">«part»</text><text fill=\"#000000\" font-family=\"sans-serif\" font-size=\"12\" lengthAdjust=\"spacingAndGlyphs\" textLength=\"24\" x=\"115\" y=\"377.1074\">b: B</text><line style=\"stroke: #A80036; stroke-width: 1.5;\" x1=\"107\" x2=\"147\" y1=\"384.9375\" y2=\"384.9375\"/></a><!--MD5=[60a26617385b1d2d0262a64233df1f8d]\n",
       "class E6--><a href=\"psysml:633af2d2-4d32-4996-ac04-a91fff2e720f\" target=\"_top\" title=\"psysml:633af2d2-4d32-4996-ac04-a91fff2e720f\" xlink:actuate=\"onRequest\" xlink:href=\"psysml:633af2d2-4d32-4996-ac04-a91fff2e720f\" xlink:show=\"new\" xlink:title=\"psysml:633af2d2-4d32-4996-ac04-a91fff2e720f\" xlink:type=\"simple\"><rect fill=\"#FEFECE\" filter=\"url(#f16nfulfp6n07i)\" height=\"75.5469\" id=\"E6\" style=\"stroke: #A80036; stroke-width: 1.5;\" width=\"66\" x=\"77\" y=\"454\"/><text fill=\"#000000\" font-family=\"sans-serif\" font-size=\"12\" font-style=\"italic\" lengthAdjust=\"spacingAndGlyphs\" textLength=\"64\" x=\"78\" y=\"470.1387\">«part def»</text><text fill=\"#000000\" font-family=\"sans-serif\" font-size=\"12\" lengthAdjust=\"spacingAndGlyphs\" textLength=\"8\" x=\"106\" y=\"484.1074\">B</text><line style=\"stroke: #A80036; stroke-width: 1.5;\" x1=\"78\" x2=\"142\" y1=\"491.9375\" y2=\"491.9375\"/><text fill=\"#000000\" font-family=\"sans-serif\" font-size=\"11\" lengthAdjust=\"spacingAndGlyphs\" textLength=\"31\" x=\"83\" y=\"522.9526\">x: ~C</text><line style=\"stroke: #A80036; stroke-width: 1.0;\" x1=\"78\" x2=\"95\" y1=\"506.3398\" y2=\"506.3398\"/><text fill=\"#000000\" font-family=\"sans-serif\" font-size=\"11\" lengthAdjust=\"spacingAndGlyphs\" textLength=\"30\" x=\"95\" y=\"509.6479\">ports</text><line style=\"stroke: #A80036; stroke-width: 1.0;\" x1=\"125\" x2=\"142\" y1=\"506.3398\" y2=\"506.3398\"/></a><!--MD5=[b9389687b975829384b498ac4b7476b2]\n",
       "class E8--><a href=\"psysml:adeac7a4-0c31-420e-b3fd-609062fb2f41\" target=\"_top\" title=\"psysml:adeac7a4-0c31-420e-b3fd-609062fb2f41\" xlink:actuate=\"onRequest\" xlink:href=\"psysml:adeac7a4-0c31-420e-b3fd-609062fb2f41\" xlink:show=\"new\" xlink:title=\"psysml:adeac7a4-0c31-420e-b3fd-609062fb2f41\" xlink:type=\"simple\"><rect fill=\"#FEFECE\" filter=\"url(#f16nfulfp6n07i)\" height=\"45.9375\" id=\"E8\" rx=\"10\" ry=\"10\" style=\"stroke: #A80036; stroke-width: 1.5;\" width=\"42\" x=\"151\" y=\"594.5\"/><text fill=\"#000000\" font-family=\"sans-serif\" font-size=\"12\" font-style=\"italic\" lengthAdjust=\"spacingAndGlyphs\" textLength=\"40\" x=\"152\" y=\"610.6387\">«part»</text><text fill=\"#000000\" font-family=\"sans-serif\" font-size=\"12\" lengthAdjust=\"spacingAndGlyphs\" textLength=\"24\" x=\"160\" y=\"624.6074\">a: A</text><line style=\"stroke: #A80036; stroke-width: 1.5;\" x1=\"152\" x2=\"192\" y1=\"632.4375\" y2=\"632.4375\"/></a><!--MD5=[96f4274e9e20536e775497830990834d]\n",
       "class E10--><a href=\"psysml:19a0d075-dfec-4a25-8f91-7b5bd5520f32\" target=\"_top\" title=\"psysml:19a0d075-dfec-4a25-8f91-7b5bd5520f32\" xlink:actuate=\"onRequest\" xlink:href=\"psysml:19a0d075-dfec-4a25-8f91-7b5bd5520f32\" xlink:show=\"new\" xlink:title=\"psysml:19a0d075-dfec-4a25-8f91-7b5bd5520f32\" xlink:type=\"simple\"><rect fill=\"#FEFECE\" filter=\"url(#f16nfulfp6n07i)\" height=\"75.5469\" id=\"E10\" style=\"stroke: #A80036; stroke-width: 1.5;\" width=\"84\" x=\"32\" y=\"41\"/><text fill=\"#000000\" font-family=\"sans-serif\" font-size=\"12\" font-style=\"italic\" lengthAdjust=\"spacingAndGlyphs\" textLength=\"64\" x=\"42\" y=\"57.1387\">«port def»</text><text fill=\"#000000\" font-family=\"sans-serif\" font-size=\"12\" lengthAdjust=\"spacingAndGlyphs\" textLength=\"8\" x=\"70\" y=\"71.1074\">C</text><line style=\"stroke: #A80036; stroke-width: 1.5;\" x1=\"33\" x2=\"115\" y1=\"78.9375\" y2=\"78.9375\"/><text fill=\"#000000\" font-family=\"sans-serif\" font-size=\"11\" lengthAdjust=\"spacingAndGlyphs\" textLength=\"37\" x=\"38\" y=\"109.9526\">y: A, B</text><text fill=\"#000000\" font-family=\"sans-serif\" font-size=\"11\" font-weight=\"bold\" lengthAdjust=\"spacingAndGlyphs\" textLength=\"15\" x=\"79\" y=\"109.9526\">as</text><text fill=\"#000000\" font-family=\"sans-serif\" font-size=\"11\" lengthAdjust=\"spacingAndGlyphs\" textLength=\"12\" x=\"98\" y=\"109.9526\">z2</text><line style=\"stroke: #A80036; stroke-width: 1.0;\" x1=\"33\" x2=\"43\" y1=\"93.3398\" y2=\"93.3398\"/><text fill=\"#000000\" font-family=\"sans-serif\" font-size=\"11\" lengthAdjust=\"spacingAndGlyphs\" textLength=\"62\" x=\"43\" y=\"96.6479\">references</text><line style=\"stroke: #A80036; stroke-width: 1.0;\" x1=\"105\" x2=\"115\" y1=\"93.3398\" y2=\"93.3398\"/></a><a href=\"psysml:fcdcf065-90d4-4da1-8b43-4feb0ab4c03b\" target=\"_top\" title=\"psysml:fcdcf065-90d4-4da1-8b43-4feb0ab4c03b\" xlink:actuate=\"onRequest\" xlink:href=\"psysml:fcdcf065-90d4-4da1-8b43-4feb0ab4c03b\" xlink:show=\"new\" xlink:title=\"psysml:fcdcf065-90d4-4da1-8b43-4feb0ab4c03b\" xlink:type=\"simple\"><polygon fill=\"#FFFFFF\" filter=\"url(#f16nfulfp6n07i)\" points=\"86,591,102,591,109,613.2969,116,613.2969,116,643.5938,86,643.5938,86,591\" style=\"stroke: #000000; stroke-width: 1.5;\"/><line style=\"stroke: #000000; stroke-width: 1.5;\" x1=\"86\" x2=\"109\" y1=\"613.2969\" y2=\"613.2969\"/><text fill=\"#000000\" font-family=\"sans-serif\" font-size=\"14\" font-weight=\"bold\" lengthAdjust=\"spacingAndGlyphs\" textLength=\"10\" x=\"90\" y=\"605.9951\">P</text></a><!--MD5=[2720a5a1f2c3fca2055b230370638851]\n",
       "link E2 to E3--><a href=\"psysml:1f32f64a-cd2f-48b1-a0ff-85d8f5396f29\" target=\"_top\" title=\"psysml:1f32f64a-cd2f-48b1-a0ff-85d8f5396f29\" xlink:actuate=\"onRequest\" xlink:href=\"psysml:1f32f64a-cd2f-48b1-a0ff-85d8f5396f29\" xlink:show=\"new\" xlink:title=\"psysml:1f32f64a-cd2f-48b1-a0ff-85d8f5396f29\" xlink:type=\"simple\"><path d=\"M168.9,102.28 C166.28,121.12 162.41,148.97 158.94,173.94 \" fill=\"none\" id=\"E2-&gt;E3\" style=\"stroke: #A80036; stroke-width: 1.0;\"/><polygon fill=\"#FFFFFF\" points=\"156.15,193.98,151.8354,174.1966,165.7018,176.1261,156.15,193.98\" style=\"stroke: #A80036; stroke-width: 1.0;\"/><ellipse cx=\"154.6019\" cy=\"168.8266\" fill=\"#A80036\" rx=\"2\" ry=\"2\" style=\"stroke: #A80036; stroke-width: 1.0;\"/><ellipse cx=\"164.5065\" cy=\"170.2048\" fill=\"#A80036\" rx=\"2\" ry=\"2\" style=\"stroke: #A80036; stroke-width: 1.0;\"/></a><!--MD5=[4672eba38e49728da53d11aeb285b987]\n",
       "reverse link E3 to E4--><a href=\"psysml:1e20eef8-b16d-4a20-93fc-2b015416e79a\" target=\"_top\" title=\"psysml:1e20eef8-b16d-4a20-93fc-2b015416e79a\" xlink:actuate=\"onRequest\" xlink:href=\"psysml:1e20eef8-b16d-4a20-93fc-2b015416e79a\" xlink:show=\"new\" xlink:title=\"psysml:1e20eef8-b16d-4a20-93fc-2b015416e79a\" xlink:type=\"simple\"><path d=\"M142.17,283.02 C138.31,304.93 133.97,329.52 130.92,346.77 \" fill=\"none\" id=\"E3&lt;-E4\" style=\"stroke: #A80036; stroke-width: 1.0;\"/><polygon fill=\"#A80036\" points=\"144.44,270.16,139.4532,275.3688,142.3433,281.9754,147.3301,276.7666,144.44,270.16\" style=\"stroke: #A80036; stroke-width: 1.0;\"/></a><!--MD5=[79568f1e445c3877b6a54524624ccc7d]\n",
       "link E4 to E6--><a href=\"psysml:97a379fd-51a7-461f-afe4-84a5f5da2292\" target=\"_top\" title=\"psysml:97a379fd-51a7-461f-afe4-84a5f5da2292\" xlink:actuate=\"onRequest\" xlink:href=\"psysml:97a379fd-51a7-461f-afe4-84a5f5da2292\" xlink:show=\"new\" xlink:title=\"psysml:97a379fd-51a7-461f-afe4-84a5f5da2292\" xlink:type=\"simple\"><path d=\"M123.88,393.01 C122.25,404.51 120.18,419.17 118.13,433.62 \" fill=\"none\" id=\"E4-&gt;E6\" style=\"stroke: #A80036; stroke-width: 1.0;\"/><polygon fill=\"#FFFFFF\" points=\"115.3,453.57,111.0294,433.777,124.8914,435.7373,115.3,453.57\" style=\"stroke: #A80036; stroke-width: 1.0;\"/><ellipse cx=\"113.8078\" cy=\"428.4132\" fill=\"#A80036\" rx=\"2\" ry=\"2\" style=\"stroke: #A80036; stroke-width: 1.0;\"/><ellipse cx=\"123.7093\" cy=\"429.8134\" fill=\"#A80036\" rx=\"2\" ry=\"2\" style=\"stroke: #A80036; stroke-width: 1.0;\"/></a><!--MD5=[3f50a3473f1dfb74d3f76443e03635af]\n",
       "reverse link E6 to E7--><a href=\"psysml:fcdcf065-90d4-4da1-8b43-4feb0ab4c03b\" target=\"_top\" title=\"psysml:fcdcf065-90d4-4da1-8b43-4feb0ab4c03b\" xlink:actuate=\"onRequest\" xlink:href=\"psysml:fcdcf065-90d4-4da1-8b43-4feb0ab4c03b\" xlink:show=\"new\" xlink:title=\"psysml:fcdcf065-90d4-4da1-8b43-4feb0ab4c03b\" xlink:type=\"simple\"><path d=\"M106.18,545.35 C105.04,561.08 103.83,577.65 102.87,590.83 \" fill=\"none\" id=\"E6&lt;-E7\" style=\"stroke: #A80036; stroke-width: 1.0;\"/><ellipse cx=\"106.7138\" cy=\"538.0285\" fill=\"#FFFFFF\" rx=\"8\" ry=\"8\" style=\"stroke: #A80036; stroke-width: 1.0;\"/><line style=\"stroke: #A80036; stroke-width: 1.0;\" x1=\"106.1276\" x2=\"107.3\" y1=\"546.007\" y2=\"530.05\"/><line style=\"stroke: #A80036; stroke-width: 1.0;\" x1=\"98.7353\" x2=\"114.6923\" y1=\"537.4423\" y2=\"538.6147\"/></a><!--MD5=[95fa686b5a16158bcdbcaeead89f639b]\n",
       "link E8 to E3--><a href=\"psysml:c8b02122-2142-456b-8199-9bf99e52168e\" target=\"_top\" title=\"psysml:c8b02122-2142-456b-8199-9bf99e52168e\" xlink:actuate=\"onRequest\" xlink:href=\"psysml:c8b02122-2142-456b-8199-9bf99e52168e\" xlink:show=\"new\" xlink:title=\"psysml:c8b02122-2142-456b-8199-9bf99e52168e\" xlink:type=\"simple\"><path d=\"M172.32,594.45 C172.8,548.41 173.03,438.69 166,347 C164.57,328.37 162.18,308.13 159.73,289.94 \" fill=\"none\" id=\"E8-&gt;E3\" style=\"stroke: #A80036; stroke-width: 1.0;\"/><polygon fill=\"#FFFFFF\" points=\"156.92,270.12,166.5114,287.9527,152.6494,289.913,156.92,270.12\" style=\"stroke: #A80036; stroke-width: 1.0;\"/><ellipse cx=\"165.3293\" cy=\"293.8766\" fill=\"#A80036\" rx=\"2\" ry=\"2\" style=\"stroke: #A80036; stroke-width: 1.0;\"/><ellipse cx=\"155.4278\" cy=\"295.2768\" fill=\"#A80036\" rx=\"2\" ry=\"2\" style=\"stroke: #A80036; stroke-width: 1.0;\"/></a><!--MD5=[f4cf0736d43fd73c4ef68817c49d37d5]\n",
       "reverse link E6 to E8--><a href=\"psysml:adeac7a4-0c31-420e-b3fd-609062fb2f41\" target=\"_top\" title=\"psysml:adeac7a4-0c31-420e-b3fd-609062fb2f41\" xlink:actuate=\"onRequest\" xlink:href=\"psysml:adeac7a4-0c31-420e-b3fd-609062fb2f41\" xlink:show=\"new\" xlink:title=\"psysml:adeac7a4-0c31-420e-b3fd-609062fb2f41\" xlink:type=\"simple\"><path d=\"M134.44,541.68 C143.55,559.83 153.45,579.55 160.8,594.19 \" fill=\"none\" id=\"E6&lt;-E8\" style=\"stroke: #A80036; stroke-width: 1.0;\"/><polygon fill=\"#A80036\" points=\"128.6,530.05,127.7161,537.2067,133.9824,540.7752,134.8663,533.6185,128.6,530.05\" style=\"stroke: #A80036; stroke-width: 1.0;\"/></a><!--MD5=[8e04057e7b3cbc0dca4fc78ea351e2da]\n",
       "reverse link E10 to E3--><a href=\"psysml:4b320237-d900-4f83-8ac2-28b55b9df163\" target=\"_top\" title=\"psysml:4b320237-d900-4f83-8ac2-28b55b9df163\" xlink:actuate=\"onRequest\" xlink:href=\"psysml:4b320237-d900-4f83-8ac2-28b55b9df163\" xlink:show=\"new\" xlink:title=\"psysml:4b320237-d900-4f83-8ac2-28b55b9df163\" xlink:type=\"simple\"><path d=\"M98.98,128.98 C109.72,150.06 122.08,174.29 132.05,193.84 \" fill=\"none\" id=\"E10&lt;-E3\" style=\"stroke: #A80036; stroke-width: 1.0;\"/><polygon fill=\"#FFFFFF\" points=\"93.03,117.33,92.1919,124.4922,98.4809,128.0206,99.319,120.8583,93.03,117.33\" style=\"stroke: #A80036; stroke-width: 1.0;\"/><text fill=\"#000000\" font-family=\"sans-serif\" font-size=\"13\" lengthAdjust=\"spacingAndGlyphs\" textLength=\"7\" x=\"115\" y=\"160.0669\">y</text></a><!--MD5=[604cbf994c02b74b117f728a71673cea]\n",
       "reverse link E10 to E6--><a href=\"psysml:4b320237-d900-4f83-8ac2-28b55b9df163\" target=\"_top\" title=\"psysml:4b320237-d900-4f83-8ac2-28b55b9df163\" xlink:actuate=\"onRequest\" xlink:href=\"psysml:4b320237-d900-4f83-8ac2-28b55b9df163\" xlink:show=\"new\" xlink:title=\"psysml:4b320237-d900-4f83-8ac2-28b55b9df163\" xlink:type=\"simple\"><path d=\"M73.89,130.53 C74.34,192.6 77.02,300.97 89,393 C91.63,413.19 96.24,435.39 100.47,453.55 \" fill=\"none\" id=\"E10&lt;-E6\" style=\"stroke: #A80036; stroke-width: 1.0;\"/><polygon fill=\"#FFFFFF\" points=\"73.83,117.27,69.863,123.2919,73.8959,129.2698,77.8629,123.2479,73.83,117.27\" style=\"stroke: #A80036; stroke-width: 1.0;\"/><text fill=\"#000000\" font-family=\"sans-serif\" font-size=\"13\" lengthAdjust=\"spacingAndGlyphs\" textLength=\"7\" x=\"82\" y=\"313.0669\">y</text></a><!--MD5=[5bca115401435261976ca3608ed166fc]\n",
       "@startuml\r\n",
       "skinparam wrapWidth 300\r\n",
       "hide circle\r\n",
       "\r\n",
       "package \"BlockTest\" as E1  [[psysml:c0b99535-16c1-47cf-a8d5-3f20b133a54a ]]  {\r\n",
       "comp usage \"f: A\" as E2  <<(T,blue)part>> [[psysml:20852434-d7cc-411e-aa3b-cae286a1f6f8 ]] {\r\n",
       "}\r\n",
       "comp def \"A\" as E3  <<(T,blue)part def>> [[psysml:cbed5230-ac88-4b7e-9b23-6ffd90d7c059 ]] {\r\n",
       "- - ports - -\r\n",
       "c: C\r\n",
       "}\r\n",
       "comp usage \"b: B\" as E4  <<(T,blue)part>> [[psysml:1e20eef8-b16d-4a20-93fc-2b015416e79a ]] {\r\n",
       "}\r\n",
       "comp def \"B\" as E6  <<(T,blue)part def>> [[psysml:633af2d2-4d32-4996-ac04-a91fff2e720f ]] {\r\n",
       "- - ports - -\r\n",
       "x: ~C\r\n",
       "}\r\n",
       "package \"P\" as E7  [[psysml:fcdcf065-90d4-4da1-8b43-4feb0ab4c03b ]]  {\r\n",
       "}\r\n",
       "comp usage \"a: A\" as E8  <<(T,blue)part>> [[psysml:adeac7a4-0c31-420e-b3fd-609062fb2f41 ]] {\r\n",
       "}\r\n",
       "comp def \"C\" as E10  <<(T,blue)port def>> [[psysml:19a0d075-dfec-4a25-8f91-7b5bd5520f32 ]] {\r\n",
       "- - references - -\r\n",
       "y: A, B <b>as</b> z2 \r\n",
       "}\r\n",
       "E2 - -:|> E3 [[psysml:1f32f64a-cd2f-48b1-a0ff-85d8f5396f29 ]] \r\n",
       "E3 *- - E4 [[psysml:1e20eef8-b16d-4a20-93fc-2b015416e79a ]] \r\n",
       "E4 - -:|> E6 [[psysml:97a379fd-51a7-461f-afe4-84a5f5da2292 ]] \r\n",
       "E6 +- - E7 [[psysml:fcdcf065-90d4-4da1-8b43-4feb0ab4c03b ]] \r\n",
       "E8 - -:|> E3 [[psysml:c8b02122-2142-456b-8199-9bf99e52168e ]] \r\n",
       "E6 *- - E8 [[psysml:adeac7a4-0c31-420e-b3fd-609062fb2f41 ]] \r\n",
       "E10 o- - E3 [[psysml:4b320237-d900-4f83-8ac2-28b55b9df163 ]] : y\r\n",
       "E10 o- - E6 [[psysml:4b320237-d900-4f83-8ac2-28b55b9df163 ]] : y\r\n",
       "}\r\n",
       "@enduml\r\n",
       "\n",
       "PlantUML version 1.2020.13(Sat Jun 13 12:26:38 UTC 2020)\n",
       "(EPL source distribution)\n",
       "Java Runtime: OpenJDK Runtime Environment\n",
       "JVM: OpenJDK 64-Bit Server VM\n",
       "Default Encoding: UTF-8\n",
       "Language: en\n",
       "Country: null\n",
       "--></g></svg>"
      ]
     },
     "execution_count": 29,
     "metadata": {},
     "output_type": "execute_result"
    }
   ],
   "source": [
    "%viz --style=\"STDCOLOR\" --view=\"MIXED\" \"BlockTest\""
   ]
  },
  {
   "cell_type": "code",
   "execution_count": 30,
   "id": "violent-inspection",
   "metadata": {
    "execution": {
     "iopub.execute_input": "2021-03-25T14:59:54.140717Z",
     "iopub.status.busy": "2021-03-25T14:59:54.139741Z",
     "iopub.status.idle": "2021-03-25T14:59:54.638920Z",
     "shell.execute_reply": "2021-03-25T14:59:54.639412Z"
    }
   },
   "outputs": [
    {
     "data": {
      "image/svg+xml": [
       "<?xml version=\"1.0\" encoding=\"UTF-8\" standalone=\"no\"?><svg xmlns=\"http://www.w3.org/2000/svg\" xmlns:xlink=\"http://www.w3.org/1999/xlink\" contentScriptType=\"application/ecmascript\" contentStyleType=\"text/css\" height=\"660px\" preserveAspectRatio=\"none\" style=\"width:265px;height:660px;\" version=\"1.1\" viewBox=\"0 0 265 660\" width=\"265px\" zoomAndPan=\"magnify\"><defs><filter height=\"300%\" id=\"f1vi79iqcymwmv\" width=\"300%\" x=\"-1\" y=\"-1\"><feGaussianBlur result=\"blurOut\" stdDeviation=\"2.0\"/><feColorMatrix in=\"blurOut\" result=\"blurOut2\" type=\"matrix\" values=\"0 0 0 0 0 0 0 0 0 0 0 0 0 0 0 0 0 0 .4 0\"/><feOffset dx=\"4.0\" dy=\"4.0\" in=\"blurOut2\" result=\"blurOut3\"/><feBlend in=\"SourceGraphic\" in2=\"blurOut3\" mode=\"normal\"/></filter></defs><g><!--MD5=[fbc87193dbaf4d95561dea2c320d4a47]\n",
       "cluster E1--><a href=\"psysml:c0b99535-16c1-47cf-a8d5-3f20b133a54a\" target=\"_top\" title=\"psysml:c0b99535-16c1-47cf-a8d5-3f20b133a54a\" xlink:actuate=\"onRequest\" xlink:href=\"psysml:c0b99535-16c1-47cf-a8d5-3f20b133a54a\" xlink:show=\"new\" xlink:title=\"psysml:c0b99535-16c1-47cf-a8d5-3f20b133a54a\" xlink:type=\"simple\"><polygon fill=\"#FFFFFF\" filter=\"url(#f1vi79iqcymwmv)\" points=\"16,6,99,6,106,28.2969,243,28.2969,243,648,16,648,16,6\" style=\"stroke: #000000; stroke-width: 1.5;\"/><line style=\"stroke: #000000; stroke-width: 1.5;\" x1=\"16\" x2=\"106\" y1=\"28.2969\" y2=\"28.2969\"/><text fill=\"#000000\" font-family=\"sans-serif\" font-size=\"14\" font-weight=\"bold\" lengthAdjust=\"spacingAndGlyphs\" textLength=\"77\" x=\"20\" y=\"20.9951\">BlockTest</text></a><!--MD5=[b4997ac47864f28c2f74865a473b2911]\n",
       "class E2--><a href=\"psysml:20852434-d7cc-411e-aa3b-cae286a1f6f8\" target=\"_top\" title=\"psysml:20852434-d7cc-411e-aa3b-cae286a1f6f8\" xlink:actuate=\"onRequest\" xlink:href=\"psysml:20852434-d7cc-411e-aa3b-cae286a1f6f8\" xlink:show=\"new\" xlink:title=\"psysml:20852434-d7cc-411e-aa3b-cae286a1f6f8\" xlink:type=\"simple\"><rect fill=\"#FEFECE\" filter=\"url(#f1vi79iqcymwmv)\" height=\"45.9375\" id=\"E2\" rx=\"10\" ry=\"10\" style=\"stroke: #A80036; stroke-width: 1.5;\" width=\"68\" x=\"159\" y=\"56\"/><ellipse cx=\"174\" cy=\"74.9688\" fill=\"#32CD32\" rx=\"11\" ry=\"11\" style=\"stroke: #A80036; stroke-width: 1.0;\"/><path d=\"M173.7969,70.6406 L173.7969,74.2656 L174.7969,74.2656 Q176,74.2656 176.4844,73.8594 Q176.9688,73.4531 176.9688,72.4531 Q176.9688,71.4531 176.4844,71.0469 Q176,70.6406 174.7969,70.6406 L173.7969,70.6406 Z M171.3438,68.5781 L174.7031,68.5781 Q177.2656,68.5781 178.3906,69.5 Q179.5156,70.4063 179.5156,72.4531 Q179.5156,74.5 178.3906,75.4219 Q177.2656,76.3281 174.7031,76.3281 L173.7969,76.3281 L173.7969,80.9688 L171.3438,80.9688 L171.3438,68.5781 Z \"/><text fill=\"#000000\" font-family=\"sans-serif\" font-size=\"12\" font-style=\"italic\" lengthAdjust=\"spacingAndGlyphs\" textLength=\"40\" x=\"186\" y=\"72.1387\">«part»</text><text fill=\"#000000\" font-family=\"sans-serif\" font-size=\"12\" lengthAdjust=\"spacingAndGlyphs\" textLength=\"20\" x=\"196\" y=\"86.1074\">f: A</text><line style=\"stroke: #A80036; stroke-width: 1.5;\" x1=\"160\" x2=\"226\" y1=\"93.9375\" y2=\"93.9375\"/></a><!--MD5=[09b614a08d8cba4a07c9adeb5e0fee81]\n",
       "class E3--><a href=\"psysml:cbed5230-ac88-4b7e-9b23-6ffd90d7c059\" target=\"_top\" title=\"psysml:cbed5230-ac88-4b7e-9b23-6ffd90d7c059\" xlink:actuate=\"onRequest\" xlink:href=\"psysml:cbed5230-ac88-4b7e-9b23-6ffd90d7c059\" xlink:show=\"new\" xlink:title=\"psysml:cbed5230-ac88-4b7e-9b23-6ffd90d7c059\" xlink:type=\"simple\"><rect fill=\"#FEFECE\" filter=\"url(#f1vi79iqcymwmv)\" height=\"69.6094\" id=\"E3\" style=\"stroke: #A80036; stroke-width: 1.5;\" width=\"40\" x=\"149\" y=\"194\"/><ellipse cx=\"164\" cy=\"210\" fill=\"#008000\" rx=\"11\" ry=\"11\" style=\"stroke: #A80036; stroke-width: 1.0;\"/><path d=\"M162.9063,210.375 L162.9063,214.0469 L164.5313,214.0469 Q165.7031,214.0469 166.1719,213.6563 Q166.6406,213.25 166.6406,212.25 Q166.6406,211.25 166.1406,210.8125 Q165.6563,210.375 164.5313,210.375 L162.9063,210.375 Z M162.9063,205.5469 L162.9063,208.4219 L164.5313,208.4219 Q165.4531,208.4219 165.8438,208.0938 Q166.25,207.75 166.25,207 Q166.25,206.2344 165.8438,205.8906 Q165.4375,205.5469 164.5313,205.5469 L162.9063,205.5469 Z M160.5313,203.5938 L164.5313,203.5938 Q166.5938,203.5938 167.6406,204.375 Q168.6875,205.1563 168.6875,206.7188 Q168.6875,207.9219 168.0625,208.5938 Q167.4531,209.2656 166.2656,209.375 Q167.6875,209.5156 168.4063,210.3281 Q169.125,211.1406 169.125,212.5938 Q169.125,214.3906 168.0469,215.2031 Q166.9688,216 164.5313,216 L160.5313,216 L160.5313,203.5938 Z \"/><text fill=\"#000000\" font-family=\"sans-serif\" font-size=\"12\" lengthAdjust=\"spacingAndGlyphs\" textLength=\"8\" x=\"178\" y=\"214.1543\">A</text><line style=\"stroke: #A80036; stroke-width: 1.5;\" x1=\"150\" x2=\"188\" y1=\"226\" y2=\"226\"/><text fill=\"#000000\" font-family=\"sans-serif\" font-size=\"11\" lengthAdjust=\"spacingAndGlyphs\" textLength=\"22\" x=\"155\" y=\"257.0151\">c: C</text><line style=\"stroke: #A80036; stroke-width: 1.0;\" x1=\"150\" x2=\"154\" y1=\"240.4023\" y2=\"240.4023\"/><text fill=\"#000000\" font-family=\"sans-serif\" font-size=\"11\" lengthAdjust=\"spacingAndGlyphs\" textLength=\"30\" x=\"154\" y=\"243.7104\">ports</text><line style=\"stroke: #A80036; stroke-width: 1.0;\" x1=\"184\" x2=\"188\" y1=\"240.4023\" y2=\"240.4023\"/></a><!--MD5=[ebbe1d658d1005bcc118a6aa81145e00]\n",
       "class E4--><a href=\"psysml:1e20eef8-b16d-4a20-93fc-2b015416e79a\" target=\"_top\" title=\"psysml:1e20eef8-b16d-4a20-93fc-2b015416e79a\" xlink:actuate=\"onRequest\" xlink:href=\"psysml:1e20eef8-b16d-4a20-93fc-2b015416e79a\" xlink:show=\"new\" xlink:title=\"psysml:1e20eef8-b16d-4a20-93fc-2b015416e79a\" xlink:type=\"simple\"><rect fill=\"#FEFECE\" filter=\"url(#f1vi79iqcymwmv)\" height=\"45.9375\" id=\"E4\" rx=\"10\" ry=\"10\" style=\"stroke: #A80036; stroke-width: 1.5;\" width=\"68\" x=\"108\" y=\"341\"/><ellipse cx=\"123\" cy=\"359.9688\" fill=\"#32CD32\" rx=\"11\" ry=\"11\" style=\"stroke: #A80036; stroke-width: 1.0;\"/><path d=\"M122.7969,355.6406 L122.7969,359.2656 L123.7969,359.2656 Q125,359.2656 125.4844,358.8594 Q125.9688,358.4531 125.9688,357.4531 Q125.9688,356.4531 125.4844,356.0469 Q125,355.6406 123.7969,355.6406 L122.7969,355.6406 Z M120.3438,353.5781 L123.7031,353.5781 Q126.2656,353.5781 127.3906,354.5 Q128.5156,355.4063 128.5156,357.4531 Q128.5156,359.5 127.3906,360.4219 Q126.2656,361.3281 123.7031,361.3281 L122.7969,361.3281 L122.7969,365.9688 L120.3438,365.9688 L120.3438,353.5781 Z \"/><text fill=\"#000000\" font-family=\"sans-serif\" font-size=\"12\" font-style=\"italic\" lengthAdjust=\"spacingAndGlyphs\" textLength=\"40\" x=\"135\" y=\"357.1387\">«part»</text><text fill=\"#000000\" font-family=\"sans-serif\" font-size=\"12\" lengthAdjust=\"spacingAndGlyphs\" textLength=\"24\" x=\"143\" y=\"371.1074\">b: B</text><line style=\"stroke: #A80036; stroke-width: 1.5;\" x1=\"109\" x2=\"175\" y1=\"378.9375\" y2=\"378.9375\"/></a><!--MD5=[60a26617385b1d2d0262a64233df1f8d]\n",
       "class E6--><a href=\"psysml:633af2d2-4d32-4996-ac04-a91fff2e720f\" target=\"_top\" title=\"psysml:633af2d2-4d32-4996-ac04-a91fff2e720f\" xlink:actuate=\"onRequest\" xlink:href=\"psysml:633af2d2-4d32-4996-ac04-a91fff2e720f\" xlink:show=\"new\" xlink:title=\"psysml:633af2d2-4d32-4996-ac04-a91fff2e720f\" xlink:type=\"simple\"><rect fill=\"#FEFECE\" filter=\"url(#f1vi79iqcymwmv)\" height=\"69.6094\" id=\"E6\" style=\"stroke: #A80036; stroke-width: 1.5;\" width=\"43\" x=\"100.5\" y=\"448\"/><ellipse cx=\"116.85\" cy=\"464\" fill=\"#008000\" rx=\"11\" ry=\"11\" style=\"stroke: #A80036; stroke-width: 1.0;\"/><path d=\"M115.7563,464.375 L115.7563,468.0469 L117.3813,468.0469 Q118.5531,468.0469 119.0219,467.6563 Q119.4906,467.25 119.4906,466.25 Q119.4906,465.25 118.9906,464.8125 Q118.5063,464.375 117.3813,464.375 L115.7563,464.375 Z M115.7563,459.5469 L115.7563,462.4219 L117.3813,462.4219 Q118.3031,462.4219 118.6938,462.0938 Q119.1,461.75 119.1,461 Q119.1,460.2344 118.6938,459.8906 Q118.2875,459.5469 117.3813,459.5469 L115.7563,459.5469 Z M113.3813,457.5938 L117.3813,457.5938 Q119.4438,457.5938 120.4906,458.375 Q121.5375,459.1563 121.5375,460.7188 Q121.5375,461.9219 120.9125,462.5938 Q120.3031,463.2656 119.1156,463.375 Q120.5375,463.5156 121.2563,464.3281 Q121.975,465.1406 121.975,466.5938 Q121.975,468.3906 120.8969,469.2031 Q119.8188,470 117.3813,470 L113.3813,470 L113.3813,457.5938 Z \"/><text fill=\"#000000\" font-family=\"sans-serif\" font-size=\"12\" lengthAdjust=\"spacingAndGlyphs\" textLength=\"8\" x=\"131.15\" y=\"468.1543\">B</text><line style=\"stroke: #A80036; stroke-width: 1.5;\" x1=\"101.5\" x2=\"142.5\" y1=\"480\" y2=\"480\"/><text fill=\"#000000\" font-family=\"sans-serif\" font-size=\"11\" lengthAdjust=\"spacingAndGlyphs\" textLength=\"31\" x=\"106.5\" y=\"511.0151\">x: ~C</text><line style=\"stroke: #A80036; stroke-width: 1.0;\" x1=\"101.5\" x2=\"107\" y1=\"494.4023\" y2=\"494.4023\"/><text fill=\"#000000\" font-family=\"sans-serif\" font-size=\"11\" lengthAdjust=\"spacingAndGlyphs\" textLength=\"30\" x=\"107\" y=\"497.7104\">ports</text><line style=\"stroke: #A80036; stroke-width: 1.0;\" x1=\"137\" x2=\"142.5\" y1=\"494.4023\" y2=\"494.4023\"/></a><!--MD5=[b9389687b975829384b498ac4b7476b2]\n",
       "class E8--><a href=\"psysml:adeac7a4-0c31-420e-b3fd-609062fb2f41\" target=\"_top\" title=\"psysml:adeac7a4-0c31-420e-b3fd-609062fb2f41\" xlink:actuate=\"onRequest\" xlink:href=\"psysml:adeac7a4-0c31-420e-b3fd-609062fb2f41\" xlink:show=\"new\" xlink:title=\"psysml:adeac7a4-0c31-420e-b3fd-609062fb2f41\" xlink:type=\"simple\"><rect fill=\"#FEFECE\" filter=\"url(#f1vi79iqcymwmv)\" height=\"45.9375\" id=\"E8\" rx=\"10\" ry=\"10\" style=\"stroke: #A80036; stroke-width: 1.5;\" width=\"68\" x=\"159\" y=\"582.5\"/><ellipse cx=\"174\" cy=\"601.4688\" fill=\"#32CD32\" rx=\"11\" ry=\"11\" style=\"stroke: #A80036; stroke-width: 1.0;\"/><path d=\"M173.7969,597.1406 L173.7969,600.7656 L174.7969,600.7656 Q176,600.7656 176.4844,600.3594 Q176.9688,599.9531 176.9688,598.9531 Q176.9688,597.9531 176.4844,597.5469 Q176,597.1406 174.7969,597.1406 L173.7969,597.1406 Z M171.3438,595.0781 L174.7031,595.0781 Q177.2656,595.0781 178.3906,596 Q179.5156,596.9063 179.5156,598.9531 Q179.5156,601 178.3906,601.9219 Q177.2656,602.8281 174.7031,602.8281 L173.7969,602.8281 L173.7969,607.4688 L171.3438,607.4688 L171.3438,595.0781 Z \"/><text fill=\"#000000\" font-family=\"sans-serif\" font-size=\"12\" font-style=\"italic\" lengthAdjust=\"spacingAndGlyphs\" textLength=\"40\" x=\"186\" y=\"598.6387\">«part»</text><text fill=\"#000000\" font-family=\"sans-serif\" font-size=\"12\" lengthAdjust=\"spacingAndGlyphs\" textLength=\"24\" x=\"194\" y=\"612.6074\">a: A</text><line style=\"stroke: #A80036; stroke-width: 1.5;\" x1=\"160\" x2=\"226\" y1=\"620.4375\" y2=\"620.4375\"/></a><!--MD5=[96f4274e9e20536e775497830990834d]\n",
       "class E10--><a href=\"psysml:19a0d075-dfec-4a25-8f91-7b5bd5520f32\" target=\"_top\" title=\"psysml:19a0d075-dfec-4a25-8f91-7b5bd5520f32\" xlink:actuate=\"onRequest\" xlink:href=\"psysml:19a0d075-dfec-4a25-8f91-7b5bd5520f32\" xlink:show=\"new\" xlink:title=\"psysml:19a0d075-dfec-4a25-8f91-7b5bd5520f32\" xlink:type=\"simple\"><rect fill=\"#FEFECE\" filter=\"url(#f1vi79iqcymwmv)\" height=\"75.5469\" id=\"E10\" style=\"stroke: #A80036; stroke-width: 1.5;\" width=\"92\" x=\"32\" y=\"41\"/><ellipse cx=\"47\" cy=\"59.9688\" fill=\"#A52A2A\" rx=\"11\" ry=\"11\" style=\"stroke: #A80036; stroke-width: 1.0;\"/><path d=\"M46.5938,55.7813 L46.5938,63.7656 L47.25,63.7656 Q48.6875,63.7656 49.2969,62.8594 Q49.9219,61.9375 49.9219,59.7656 Q49.9219,57.5938 49.2969,56.6875 Q48.6875,55.7813 47.25,55.7813 L46.5938,55.7813 Z M44.1406,53.5781 L46.7656,53.5781 Q49.7969,53.5781 51.125,55.0313 Q52.4688,56.4688 52.4688,59.7656 Q52.4688,63.0625 51.125,64.5156 Q49.7969,65.9688 46.7656,65.9688 L44.1406,65.9688 L44.1406,53.5781 Z \"/><text fill=\"#000000\" font-family=\"sans-serif\" font-size=\"12\" font-style=\"italic\" lengthAdjust=\"spacingAndGlyphs\" textLength=\"64\" x=\"59\" y=\"57.1387\">«port def»</text><text fill=\"#000000\" font-family=\"sans-serif\" font-size=\"12\" lengthAdjust=\"spacingAndGlyphs\" textLength=\"8\" x=\"87\" y=\"71.1074\">C</text><line style=\"stroke: #A80036; stroke-width: 1.5;\" x1=\"33\" x2=\"123\" y1=\"78.9375\" y2=\"78.9375\"/><text fill=\"#000000\" font-family=\"sans-serif\" font-size=\"11\" lengthAdjust=\"spacingAndGlyphs\" textLength=\"37\" x=\"38\" y=\"109.9526\">y: A, B</text><text fill=\"#000000\" font-family=\"sans-serif\" font-size=\"11\" font-weight=\"bold\" lengthAdjust=\"spacingAndGlyphs\" textLength=\"15\" x=\"79\" y=\"109.9526\">as</text><text fill=\"#000000\" font-family=\"sans-serif\" font-size=\"11\" lengthAdjust=\"spacingAndGlyphs\" textLength=\"12\" x=\"98\" y=\"109.9526\">z2</text><line style=\"stroke: #A80036; stroke-width: 1.0;\" x1=\"33\" x2=\"47\" y1=\"93.3398\" y2=\"93.3398\"/><text fill=\"#000000\" font-family=\"sans-serif\" font-size=\"11\" lengthAdjust=\"spacingAndGlyphs\" textLength=\"62\" x=\"47\" y=\"96.6479\">references</text><line style=\"stroke: #A80036; stroke-width: 1.0;\" x1=\"109\" x2=\"123\" y1=\"93.3398\" y2=\"93.3398\"/></a><a href=\"psysml:fcdcf065-90d4-4da1-8b43-4feb0ab4c03b\" target=\"_top\" title=\"psysml:fcdcf065-90d4-4da1-8b43-4feb0ab4c03b\" xlink:actuate=\"onRequest\" xlink:href=\"psysml:fcdcf065-90d4-4da1-8b43-4feb0ab4c03b\" xlink:show=\"new\" xlink:title=\"psysml:fcdcf065-90d4-4da1-8b43-4feb0ab4c03b\" xlink:type=\"simple\"><polygon fill=\"#FFFFFF\" filter=\"url(#f1vi79iqcymwmv)\" points=\"94,579,110,579,117,601.2969,124,601.2969,124,631.5938,94,631.5938,94,579\" style=\"stroke: #000000; stroke-width: 1.5;\"/><line style=\"stroke: #000000; stroke-width: 1.5;\" x1=\"94\" x2=\"117\" y1=\"601.2969\" y2=\"601.2969\"/><text fill=\"#000000\" font-family=\"sans-serif\" font-size=\"14\" font-weight=\"bold\" lengthAdjust=\"spacingAndGlyphs\" textLength=\"10\" x=\"98\" y=\"593.9951\">P</text></a><!--MD5=[2720a5a1f2c3fca2055b230370638851]\n",
       "link E2 to E3--><a href=\"psysml:1f32f64a-cd2f-48b1-a0ff-85d8f5396f29\" target=\"_top\" title=\"psysml:1f32f64a-cd2f-48b1-a0ff-85d8f5396f29\" xlink:actuate=\"onRequest\" xlink:href=\"psysml:1f32f64a-cd2f-48b1-a0ff-85d8f5396f29\" xlink:show=\"new\" xlink:title=\"psysml:1f32f64a-cd2f-48b1-a0ff-85d8f5396f29\" xlink:type=\"simple\"><path d=\"M189.41,102.16 C186.33,121.12 181.78,149.21 177.75,174.04 \" fill=\"none\" id=\"E2-&gt;E3\" style=\"stroke: #A80036; stroke-width: 1.0;\"/><polygon fill=\"#FFFFFF\" points=\"174.54,193.87,170.6701,173.9948,184.4897,176.2347,174.54,193.87\" style=\"stroke: #A80036; stroke-width: 1.0;\"/><ellipse cx=\"173.5563\" cy=\"168.6882\" fill=\"#A80036\" rx=\"2\" ry=\"2\" style=\"stroke: #A80036; stroke-width: 1.0;\"/><ellipse cx=\"183.4275\" cy=\"170.2882\" fill=\"#A80036\" rx=\"2\" ry=\"2\" style=\"stroke: #A80036; stroke-width: 1.0;\"/></a><!--MD5=[4672eba38e49728da53d11aeb285b987]\n",
       "reverse link E3 to E4--><a href=\"psysml:1e20eef8-b16d-4a20-93fc-2b015416e79a\" target=\"_top\" title=\"psysml:1e20eef8-b16d-4a20-93fc-2b015416e79a\" xlink:actuate=\"onRequest\" xlink:href=\"psysml:1e20eef8-b16d-4a20-93fc-2b015416e79a\" xlink:show=\"new\" xlink:title=\"psysml:1e20eef8-b16d-4a20-93fc-2b015416e79a\" xlink:type=\"simple\"><path d=\"M159.4,277.28 C155,298.98 149.98,323.67 146.47,340.96 \" fill=\"none\" id=\"E3&lt;-E4\" style=\"stroke: #A80036; stroke-width: 1.0;\"/><polygon fill=\"#A80036\" points=\"162.05,264.25,156.9367,269.3347,159.6637,276.0103,164.7769,270.9256,162.05,264.25\" style=\"stroke: #A80036; stroke-width: 1.0;\"/></a><!--MD5=[79568f1e445c3877b6a54524624ccc7d]\n",
       "link E4 to E6--><a href=\"psysml:97a379fd-51a7-461f-afe4-84a5f5da2292\" target=\"_top\" title=\"psysml:97a379fd-51a7-461f-afe4-84a5f5da2292\" xlink:actuate=\"onRequest\" xlink:href=\"psysml:97a379fd-51a7-461f-afe4-84a5f5da2292\" xlink:show=\"new\" xlink:title=\"psysml:97a379fd-51a7-461f-afe4-84a5f5da2292\" xlink:type=\"simple\"><path d=\"M138.24,387.01 C136.25,398.61 133.72,413.41 131.26,427.86 \" fill=\"none\" id=\"E4-&gt;E6\" style=\"stroke: #A80036; stroke-width: 1.0;\"/><polygon fill=\"#FFFFFF\" points=\"127.87,447.67,124.1589,427.7645,137.9603,430.1147,127.87,447.67\" style=\"stroke: #A80036; stroke-width: 1.0;\"/><ellipse cx=\"127.0874\" cy=\"422.4812\" fill=\"#A80036\" rx=\"2\" ry=\"2\" style=\"stroke: #A80036; stroke-width: 1.0;\"/><ellipse cx=\"136.9455\" cy=\"424.1599\" fill=\"#A80036\" rx=\"2\" ry=\"2\" style=\"stroke: #A80036; stroke-width: 1.0;\"/></a><!--MD5=[3f50a3473f1dfb74d3f76443e03635af]\n",
       "reverse link E6 to E7--><a href=\"psysml:fcdcf065-90d4-4da1-8b43-4feb0ab4c03b\" target=\"_top\" title=\"psysml:fcdcf065-90d4-4da1-8b43-4feb0ab4c03b\" xlink:actuate=\"onRequest\" xlink:href=\"psysml:fcdcf065-90d4-4da1-8b43-4feb0ab4c03b\" xlink:show=\"new\" xlink:title=\"psysml:fcdcf065-90d4-4da1-8b43-4feb0ab4c03b\" xlink:type=\"simple\"><path d=\"M116.68,533.27 C115.01,548.83 113.22,565.4 111.79,578.64 \" fill=\"none\" id=\"E6&lt;-E7\" style=\"stroke: #A80036; stroke-width: 1.0;\"/><ellipse cx=\"117.4567\" cy=\"526.1644\" fill=\"#FFFFFF\" rx=\"8\" ry=\"8\" style=\"stroke: #A80036; stroke-width: 1.0;\"/><line style=\"stroke: #A80036; stroke-width: 1.0;\" x1=\"116.6033\" x2=\"118.31\" y1=\"534.1187\" y2=\"518.21\"/><line style=\"stroke: #A80036; stroke-width: 1.0;\" x1=\"109.5023\" x2=\"125.411\" y1=\"525.311\" y2=\"527.0177\"/></a><!--MD5=[95fa686b5a16158bcdbcaeead89f639b]\n",
       "link E8 to E3--><a href=\"psysml:c8b02122-2142-456b-8199-9bf99e52168e\" target=\"_top\" title=\"psysml:c8b02122-2142-456b-8199-9bf99e52168e\" xlink:actuate=\"onRequest\" xlink:href=\"psysml:c8b02122-2142-456b-8199-9bf99e52168e\" xlink:show=\"new\" xlink:title=\"psysml:c8b02122-2142-456b-8199-9bf99e52168e\" xlink:type=\"simple\"><path d=\"M194.8,582.2 C198.09,536.68 203.89,429.89 194,341 C191.9,322.13 187.85,301.78 183.62,283.73 \" fill=\"none\" id=\"E8-&gt;E3\" style=\"stroke: #A80036; stroke-width: 1.0;\"/><polygon fill=\"#FFFFFF\" points=\"178.76,264.17,190.1301,280.9247,176.5423,284.2966,178.76,264.17\" style=\"stroke: #A80036; stroke-width: 1.0;\"/><ellipse cx=\"189.5619\" cy=\"286.9386\" fill=\"#A80036\" rx=\"2\" ry=\"2\" style=\"stroke: #A80036; stroke-width: 1.0;\"/><ellipse cx=\"179.8563\" cy=\"289.3471\" fill=\"#A80036\" rx=\"2\" ry=\"2\" style=\"stroke: #A80036; stroke-width: 1.0;\"/></a><!--MD5=[f4cf0736d43fd73c4ef68817c49d37d5]\n",
       "reverse link E6 to E8--><a href=\"psysml:adeac7a4-0c31-420e-b3fd-609062fb2f41\" target=\"_top\" title=\"psysml:adeac7a4-0c31-420e-b3fd-609062fb2f41\" xlink:actuate=\"onRequest\" xlink:href=\"psysml:adeac7a4-0c31-420e-b3fd-609062fb2f41\" xlink:show=\"new\" xlink:title=\"psysml:adeac7a4-0c31-420e-b3fd-609062fb2f41\" xlink:type=\"simple\"><path d=\"M148.79,529.47 C159.46,547.58 171.25,567.58 179.97,582.38 \" fill=\"none\" id=\"E6&lt;-E8\" style=\"stroke: #A80036; stroke-width: 1.0;\"/><polygon fill=\"#A80036\" points=\"142.16,518.21,141.76,525.41,148.2523,528.5485,148.6523,521.3485,142.16,518.21\" style=\"stroke: #A80036; stroke-width: 1.0;\"/></a><!--MD5=[8e04057e7b3cbc0dca4fc78ea351e2da]\n",
       "reverse link E10 to E3--><a href=\"psysml:4b320237-d900-4f83-8ac2-28b55b9df163\" target=\"_top\" title=\"psysml:4b320237-d900-4f83-8ac2-28b55b9df163\" xlink:actuate=\"onRequest\" xlink:href=\"psysml:4b320237-d900-4f83-8ac2-28b55b9df163\" xlink:show=\"new\" xlink:title=\"psysml:4b320237-d900-4f83-8ac2-28b55b9df163\" xlink:type=\"simple\"><path d=\"M107.78,128.43 C121.23,150.31 136.77,175.59 148.83,195.2 \" fill=\"none\" id=\"E10&lt;-E3\" style=\"stroke: #A80036; stroke-width: 1.0;\"/><polygon fill=\"#FFFFFF\" points=\"100.96,117.35,100.6917,124.5561,107.2403,127.5753,107.5086,120.3692,100.96,117.35\" style=\"stroke: #A80036; stroke-width: 1.0;\"/><text fill=\"#000000\" font-family=\"sans-serif\" font-size=\"13\" lengthAdjust=\"spacingAndGlyphs\" textLength=\"7\" x=\"129\" y=\"160.0669\">y</text></a><!--MD5=[604cbf994c02b74b117f728a71673cea]\n",
       "reverse link E10 to E6--><a href=\"psysml:4b320237-d900-4f83-8ac2-28b55b9df163\" target=\"_top\" title=\"psysml:4b320237-d900-4f83-8ac2-28b55b9df163\" xlink:actuate=\"onRequest\" xlink:href=\"psysml:4b320237-d900-4f83-8ac2-28b55b9df163\" xlink:show=\"new\" xlink:title=\"psysml:4b320237-d900-4f83-8ac2-28b55b9df163\" xlink:type=\"simple\"><path d=\"M75.96,130.3 C74.43,191.49 74.85,297.69 91,387 C94.73,407.66 101.86,430.01 108.35,447.84 \" fill=\"none\" id=\"E10&lt;-E6\" style=\"stroke: #A80036; stroke-width: 1.0;\"/><polygon fill=\"#FFFFFF\" points=\"76.33,117.22,72.1603,123.1033,75.9873,129.2151,80.157,123.3318,76.33,117.22\" style=\"stroke: #A80036; stroke-width: 1.0;\"/><text fill=\"#000000\" font-family=\"sans-serif\" font-size=\"13\" lengthAdjust=\"spacingAndGlyphs\" textLength=\"7\" x=\"81\" y=\"307.0669\">y</text></a><!--MD5=[bfa5699603653992fc4cd0a867f2fe18]\n",
       "@startuml\r\n",
       " \r\n",
       "package \"BlockTest\" as E1  [[psysml:c0b99535-16c1-47cf-a8d5-3f20b133a54a ]]  {\r\n",
       "comp usage \"f: A\" as E2  << (P,limegreen) part>> [[psysml:20852434-d7cc-411e-aa3b-cae286a1f6f8 ]] {\r\n",
       "}\r\n",
       "comp def \"A\" as E3  << (B,green) >> [[psysml:cbed5230-ac88-4b7e-9b23-6ffd90d7c059 ]] {\r\n",
       "- - ports - -\r\n",
       "c: C\r\n",
       "}\r\n",
       "comp usage \"b: B\" as E4  << (P,limegreen) part>> [[psysml:1e20eef8-b16d-4a20-93fc-2b015416e79a ]] {\r\n",
       "}\r\n",
       "comp def \"B\" as E6  << (B,green) >> [[psysml:633af2d2-4d32-4996-ac04-a91fff2e720f ]] {\r\n",
       "- - ports - -\r\n",
       "x: ~C\r\n",
       "}\r\n",
       "package \"P\" as E7  [[psysml:fcdcf065-90d4-4da1-8b43-4feb0ab4c03b ]]  {\r\n",
       "}\r\n",
       "comp usage \"a: A\" as E8  << (P,limegreen) part>> [[psysml:adeac7a4-0c31-420e-b3fd-609062fb2f41 ]] {\r\n",
       "}\r\n",
       "comp def \"C\" as E10  <<(D,brown)port def>> [[psysml:19a0d075-dfec-4a25-8f91-7b5bd5520f32 ]] {\r\n",
       "- - references - -\r\n",
       "y: A, B <b>as</b> z2 \r\n",
       "}\r\n",
       "E2 - -:|> E3 [[psysml:1f32f64a-cd2f-48b1-a0ff-85d8f5396f29 ]] \r\n",
       "E3 *- - E4 [[psysml:1e20eef8-b16d-4a20-93fc-2b015416e79a ]] \r\n",
       "E4 - -:|> E6 [[psysml:97a379fd-51a7-461f-afe4-84a5f5da2292 ]] \r\n",
       "E6 +- - E7 [[psysml:fcdcf065-90d4-4da1-8b43-4feb0ab4c03b ]] \r\n",
       "E8 - -:|> E3 [[psysml:c8b02122-2142-456b-8199-9bf99e52168e ]] \r\n",
       "E6 *- - E8 [[psysml:adeac7a4-0c31-420e-b3fd-609062fb2f41 ]] \r\n",
       "E10 o- - E3 [[psysml:4b320237-d900-4f83-8ac2-28b55b9df163 ]] : y\r\n",
       "E10 o- - E6 [[psysml:4b320237-d900-4f83-8ac2-28b55b9df163 ]] : y\r\n",
       "}\r\n",
       "@enduml\r\n",
       "\n",
       "PlantUML version 1.2020.13(Sat Jun 13 12:26:38 UTC 2020)\n",
       "(EPL source distribution)\n",
       "Java Runtime: OpenJDK Runtime Environment\n",
       "JVM: OpenJDK 64-Bit Server VM\n",
       "Default Encoding: UTF-8\n",
       "Language: en\n",
       "Country: null\n",
       "--></g></svg>"
      ]
     },
     "execution_count": 30,
     "metadata": {},
     "output_type": "execute_result"
    }
   ],
   "source": [
    "%viz --style=\"PLANTUML\" --view=\"Default\" \"BlockTest\""
   ]
  },
  {
   "cell_type": "code",
   "execution_count": 31,
   "id": "found-teaching",
   "metadata": {
    "execution": {
     "iopub.execute_input": "2021-03-25T14:59:54.689801Z",
     "iopub.status.busy": "2021-03-25T14:59:54.689124Z",
     "iopub.status.idle": "2021-03-25T14:59:55.157440Z",
     "shell.execute_reply": "2021-03-25T14:59:55.157872Z"
    }
   },
   "outputs": [
    {
     "data": {
      "image/svg+xml": [
       "<?xml version=\"1.0\" encoding=\"UTF-8\" standalone=\"no\"?><svg xmlns=\"http://www.w3.org/2000/svg\" xmlns:xlink=\"http://www.w3.org/1999/xlink\" contentScriptType=\"application/ecmascript\" contentStyleType=\"text/css\" height=\"660px\" preserveAspectRatio=\"none\" style=\"width:265px;height:660px;\" version=\"1.1\" viewBox=\"0 0 265 660\" width=\"265px\" zoomAndPan=\"magnify\"><defs><filter height=\"300%\" id=\"f1vi79iqcymwmv\" width=\"300%\" x=\"-1\" y=\"-1\"><feGaussianBlur result=\"blurOut\" stdDeviation=\"2.0\"/><feColorMatrix in=\"blurOut\" result=\"blurOut2\" type=\"matrix\" values=\"0 0 0 0 0 0 0 0 0 0 0 0 0 0 0 0 0 0 .4 0\"/><feOffset dx=\"4.0\" dy=\"4.0\" in=\"blurOut2\" result=\"blurOut3\"/><feBlend in=\"SourceGraphic\" in2=\"blurOut3\" mode=\"normal\"/></filter></defs><g><!--MD5=[fbc87193dbaf4d95561dea2c320d4a47]\n",
       "cluster E1--><a href=\"psysml:c0b99535-16c1-47cf-a8d5-3f20b133a54a\" target=\"_top\" title=\"psysml:c0b99535-16c1-47cf-a8d5-3f20b133a54a\" xlink:actuate=\"onRequest\" xlink:href=\"psysml:c0b99535-16c1-47cf-a8d5-3f20b133a54a\" xlink:show=\"new\" xlink:title=\"psysml:c0b99535-16c1-47cf-a8d5-3f20b133a54a\" xlink:type=\"simple\"><polygon fill=\"#FFFFFF\" filter=\"url(#f1vi79iqcymwmv)\" points=\"16,6,99,6,106,28.2969,243,28.2969,243,648,16,648,16,6\" style=\"stroke: #000000; stroke-width: 1.5;\"/><line style=\"stroke: #000000; stroke-width: 1.5;\" x1=\"16\" x2=\"106\" y1=\"28.2969\" y2=\"28.2969\"/><text fill=\"#000000\" font-family=\"sans-serif\" font-size=\"14\" font-weight=\"bold\" lengthAdjust=\"spacingAndGlyphs\" textLength=\"77\" x=\"20\" y=\"20.9951\">BlockTest</text></a><!--MD5=[b4997ac47864f28c2f74865a473b2911]\n",
       "class E2--><a href=\"psysml:20852434-d7cc-411e-aa3b-cae286a1f6f8\" target=\"_top\" title=\"psysml:20852434-d7cc-411e-aa3b-cae286a1f6f8\" xlink:actuate=\"onRequest\" xlink:href=\"psysml:20852434-d7cc-411e-aa3b-cae286a1f6f8\" xlink:show=\"new\" xlink:title=\"psysml:20852434-d7cc-411e-aa3b-cae286a1f6f8\" xlink:type=\"simple\"><rect fill=\"#FEFECE\" filter=\"url(#f1vi79iqcymwmv)\" height=\"45.9375\" id=\"E2\" rx=\"10\" ry=\"10\" style=\"stroke: #A80036; stroke-width: 1.5;\" width=\"68\" x=\"159\" y=\"56\"/><ellipse cx=\"174\" cy=\"74.9688\" fill=\"#32CD32\" rx=\"11\" ry=\"11\" style=\"stroke: #A80036; stroke-width: 1.0;\"/><path d=\"M173.7969,70.6406 L173.7969,74.2656 L174.7969,74.2656 Q176,74.2656 176.4844,73.8594 Q176.9688,73.4531 176.9688,72.4531 Q176.9688,71.4531 176.4844,71.0469 Q176,70.6406 174.7969,70.6406 L173.7969,70.6406 Z M171.3438,68.5781 L174.7031,68.5781 Q177.2656,68.5781 178.3906,69.5 Q179.5156,70.4063 179.5156,72.4531 Q179.5156,74.5 178.3906,75.4219 Q177.2656,76.3281 174.7031,76.3281 L173.7969,76.3281 L173.7969,80.9688 L171.3438,80.9688 L171.3438,68.5781 Z \"/><text fill=\"#000000\" font-family=\"sans-serif\" font-size=\"12\" font-style=\"italic\" lengthAdjust=\"spacingAndGlyphs\" textLength=\"40\" x=\"186\" y=\"72.1387\">«part»</text><text fill=\"#000000\" font-family=\"sans-serif\" font-size=\"12\" lengthAdjust=\"spacingAndGlyphs\" textLength=\"20\" x=\"196\" y=\"86.1074\">f: A</text><line style=\"stroke: #A80036; stroke-width: 1.5;\" x1=\"160\" x2=\"226\" y1=\"93.9375\" y2=\"93.9375\"/></a><!--MD5=[09b614a08d8cba4a07c9adeb5e0fee81]\n",
       "class E3--><a href=\"psysml:cbed5230-ac88-4b7e-9b23-6ffd90d7c059\" target=\"_top\" title=\"psysml:cbed5230-ac88-4b7e-9b23-6ffd90d7c059\" xlink:actuate=\"onRequest\" xlink:href=\"psysml:cbed5230-ac88-4b7e-9b23-6ffd90d7c059\" xlink:show=\"new\" xlink:title=\"psysml:cbed5230-ac88-4b7e-9b23-6ffd90d7c059\" xlink:type=\"simple\"><rect fill=\"#FEFECE\" filter=\"url(#f1vi79iqcymwmv)\" height=\"69.6094\" id=\"E3\" style=\"stroke: #A80036; stroke-width: 1.5;\" width=\"40\" x=\"149\" y=\"194\"/><ellipse cx=\"164\" cy=\"210\" fill=\"#008000\" rx=\"11\" ry=\"11\" style=\"stroke: #A80036; stroke-width: 1.0;\"/><path d=\"M162.9063,210.375 L162.9063,214.0469 L164.5313,214.0469 Q165.7031,214.0469 166.1719,213.6563 Q166.6406,213.25 166.6406,212.25 Q166.6406,211.25 166.1406,210.8125 Q165.6563,210.375 164.5313,210.375 L162.9063,210.375 Z M162.9063,205.5469 L162.9063,208.4219 L164.5313,208.4219 Q165.4531,208.4219 165.8438,208.0938 Q166.25,207.75 166.25,207 Q166.25,206.2344 165.8438,205.8906 Q165.4375,205.5469 164.5313,205.5469 L162.9063,205.5469 Z M160.5313,203.5938 L164.5313,203.5938 Q166.5938,203.5938 167.6406,204.375 Q168.6875,205.1563 168.6875,206.7188 Q168.6875,207.9219 168.0625,208.5938 Q167.4531,209.2656 166.2656,209.375 Q167.6875,209.5156 168.4063,210.3281 Q169.125,211.1406 169.125,212.5938 Q169.125,214.3906 168.0469,215.2031 Q166.9688,216 164.5313,216 L160.5313,216 L160.5313,203.5938 Z \"/><text fill=\"#000000\" font-family=\"sans-serif\" font-size=\"12\" lengthAdjust=\"spacingAndGlyphs\" textLength=\"8\" x=\"178\" y=\"214.1543\">A</text><line style=\"stroke: #A80036; stroke-width: 1.5;\" x1=\"150\" x2=\"188\" y1=\"226\" y2=\"226\"/><text fill=\"#000000\" font-family=\"sans-serif\" font-size=\"11\" lengthAdjust=\"spacingAndGlyphs\" textLength=\"22\" x=\"155\" y=\"257.0151\">c: C</text><line style=\"stroke: #A80036; stroke-width: 1.0;\" x1=\"150\" x2=\"154\" y1=\"240.4023\" y2=\"240.4023\"/><text fill=\"#000000\" font-family=\"sans-serif\" font-size=\"11\" lengthAdjust=\"spacingAndGlyphs\" textLength=\"30\" x=\"154\" y=\"243.7104\">ports</text><line style=\"stroke: #A80036; stroke-width: 1.0;\" x1=\"184\" x2=\"188\" y1=\"240.4023\" y2=\"240.4023\"/></a><!--MD5=[ebbe1d658d1005bcc118a6aa81145e00]\n",
       "class E4--><a href=\"psysml:1e20eef8-b16d-4a20-93fc-2b015416e79a\" target=\"_top\" title=\"psysml:1e20eef8-b16d-4a20-93fc-2b015416e79a\" xlink:actuate=\"onRequest\" xlink:href=\"psysml:1e20eef8-b16d-4a20-93fc-2b015416e79a\" xlink:show=\"new\" xlink:title=\"psysml:1e20eef8-b16d-4a20-93fc-2b015416e79a\" xlink:type=\"simple\"><rect fill=\"#FEFECE\" filter=\"url(#f1vi79iqcymwmv)\" height=\"45.9375\" id=\"E4\" rx=\"10\" ry=\"10\" style=\"stroke: #A80036; stroke-width: 1.5;\" width=\"68\" x=\"108\" y=\"341\"/><ellipse cx=\"123\" cy=\"359.9688\" fill=\"#32CD32\" rx=\"11\" ry=\"11\" style=\"stroke: #A80036; stroke-width: 1.0;\"/><path d=\"M122.7969,355.6406 L122.7969,359.2656 L123.7969,359.2656 Q125,359.2656 125.4844,358.8594 Q125.9688,358.4531 125.9688,357.4531 Q125.9688,356.4531 125.4844,356.0469 Q125,355.6406 123.7969,355.6406 L122.7969,355.6406 Z M120.3438,353.5781 L123.7031,353.5781 Q126.2656,353.5781 127.3906,354.5 Q128.5156,355.4063 128.5156,357.4531 Q128.5156,359.5 127.3906,360.4219 Q126.2656,361.3281 123.7031,361.3281 L122.7969,361.3281 L122.7969,365.9688 L120.3438,365.9688 L120.3438,353.5781 Z \"/><text fill=\"#000000\" font-family=\"sans-serif\" font-size=\"12\" font-style=\"italic\" lengthAdjust=\"spacingAndGlyphs\" textLength=\"40\" x=\"135\" y=\"357.1387\">«part»</text><text fill=\"#000000\" font-family=\"sans-serif\" font-size=\"12\" lengthAdjust=\"spacingAndGlyphs\" textLength=\"24\" x=\"143\" y=\"371.1074\">b: B</text><line style=\"stroke: #A80036; stroke-width: 1.5;\" x1=\"109\" x2=\"175\" y1=\"378.9375\" y2=\"378.9375\"/></a><!--MD5=[60a26617385b1d2d0262a64233df1f8d]\n",
       "class E6--><a href=\"psysml:633af2d2-4d32-4996-ac04-a91fff2e720f\" target=\"_top\" title=\"psysml:633af2d2-4d32-4996-ac04-a91fff2e720f\" xlink:actuate=\"onRequest\" xlink:href=\"psysml:633af2d2-4d32-4996-ac04-a91fff2e720f\" xlink:show=\"new\" xlink:title=\"psysml:633af2d2-4d32-4996-ac04-a91fff2e720f\" xlink:type=\"simple\"><rect fill=\"#FEFECE\" filter=\"url(#f1vi79iqcymwmv)\" height=\"69.6094\" id=\"E6\" style=\"stroke: #A80036; stroke-width: 1.5;\" width=\"43\" x=\"100.5\" y=\"448\"/><ellipse cx=\"116.85\" cy=\"464\" fill=\"#008000\" rx=\"11\" ry=\"11\" style=\"stroke: #A80036; stroke-width: 1.0;\"/><path d=\"M115.7563,464.375 L115.7563,468.0469 L117.3813,468.0469 Q118.5531,468.0469 119.0219,467.6563 Q119.4906,467.25 119.4906,466.25 Q119.4906,465.25 118.9906,464.8125 Q118.5063,464.375 117.3813,464.375 L115.7563,464.375 Z M115.7563,459.5469 L115.7563,462.4219 L117.3813,462.4219 Q118.3031,462.4219 118.6938,462.0938 Q119.1,461.75 119.1,461 Q119.1,460.2344 118.6938,459.8906 Q118.2875,459.5469 117.3813,459.5469 L115.7563,459.5469 Z M113.3813,457.5938 L117.3813,457.5938 Q119.4438,457.5938 120.4906,458.375 Q121.5375,459.1563 121.5375,460.7188 Q121.5375,461.9219 120.9125,462.5938 Q120.3031,463.2656 119.1156,463.375 Q120.5375,463.5156 121.2563,464.3281 Q121.975,465.1406 121.975,466.5938 Q121.975,468.3906 120.8969,469.2031 Q119.8188,470 117.3813,470 L113.3813,470 L113.3813,457.5938 Z \"/><text fill=\"#000000\" font-family=\"sans-serif\" font-size=\"12\" lengthAdjust=\"spacingAndGlyphs\" textLength=\"8\" x=\"131.15\" y=\"468.1543\">B</text><line style=\"stroke: #A80036; stroke-width: 1.5;\" x1=\"101.5\" x2=\"142.5\" y1=\"480\" y2=\"480\"/><text fill=\"#000000\" font-family=\"sans-serif\" font-size=\"11\" lengthAdjust=\"spacingAndGlyphs\" textLength=\"31\" x=\"106.5\" y=\"511.0151\">x: ~C</text><line style=\"stroke: #A80036; stroke-width: 1.0;\" x1=\"101.5\" x2=\"107\" y1=\"494.4023\" y2=\"494.4023\"/><text fill=\"#000000\" font-family=\"sans-serif\" font-size=\"11\" lengthAdjust=\"spacingAndGlyphs\" textLength=\"30\" x=\"107\" y=\"497.7104\">ports</text><line style=\"stroke: #A80036; stroke-width: 1.0;\" x1=\"137\" x2=\"142.5\" y1=\"494.4023\" y2=\"494.4023\"/></a><!--MD5=[b9389687b975829384b498ac4b7476b2]\n",
       "class E8--><a href=\"psysml:adeac7a4-0c31-420e-b3fd-609062fb2f41\" target=\"_top\" title=\"psysml:adeac7a4-0c31-420e-b3fd-609062fb2f41\" xlink:actuate=\"onRequest\" xlink:href=\"psysml:adeac7a4-0c31-420e-b3fd-609062fb2f41\" xlink:show=\"new\" xlink:title=\"psysml:adeac7a4-0c31-420e-b3fd-609062fb2f41\" xlink:type=\"simple\"><rect fill=\"#FEFECE\" filter=\"url(#f1vi79iqcymwmv)\" height=\"45.9375\" id=\"E8\" rx=\"10\" ry=\"10\" style=\"stroke: #A80036; stroke-width: 1.5;\" width=\"68\" x=\"159\" y=\"582.5\"/><ellipse cx=\"174\" cy=\"601.4688\" fill=\"#32CD32\" rx=\"11\" ry=\"11\" style=\"stroke: #A80036; stroke-width: 1.0;\"/><path d=\"M173.7969,597.1406 L173.7969,600.7656 L174.7969,600.7656 Q176,600.7656 176.4844,600.3594 Q176.9688,599.9531 176.9688,598.9531 Q176.9688,597.9531 176.4844,597.5469 Q176,597.1406 174.7969,597.1406 L173.7969,597.1406 Z M171.3438,595.0781 L174.7031,595.0781 Q177.2656,595.0781 178.3906,596 Q179.5156,596.9063 179.5156,598.9531 Q179.5156,601 178.3906,601.9219 Q177.2656,602.8281 174.7031,602.8281 L173.7969,602.8281 L173.7969,607.4688 L171.3438,607.4688 L171.3438,595.0781 Z \"/><text fill=\"#000000\" font-family=\"sans-serif\" font-size=\"12\" font-style=\"italic\" lengthAdjust=\"spacingAndGlyphs\" textLength=\"40\" x=\"186\" y=\"598.6387\">«part»</text><text fill=\"#000000\" font-family=\"sans-serif\" font-size=\"12\" lengthAdjust=\"spacingAndGlyphs\" textLength=\"24\" x=\"194\" y=\"612.6074\">a: A</text><line style=\"stroke: #A80036; stroke-width: 1.5;\" x1=\"160\" x2=\"226\" y1=\"620.4375\" y2=\"620.4375\"/></a><!--MD5=[96f4274e9e20536e775497830990834d]\n",
       "class E10--><a href=\"psysml:19a0d075-dfec-4a25-8f91-7b5bd5520f32\" target=\"_top\" title=\"psysml:19a0d075-dfec-4a25-8f91-7b5bd5520f32\" xlink:actuate=\"onRequest\" xlink:href=\"psysml:19a0d075-dfec-4a25-8f91-7b5bd5520f32\" xlink:show=\"new\" xlink:title=\"psysml:19a0d075-dfec-4a25-8f91-7b5bd5520f32\" xlink:type=\"simple\"><rect fill=\"#FEFECE\" filter=\"url(#f1vi79iqcymwmv)\" height=\"75.5469\" id=\"E10\" style=\"stroke: #A80036; stroke-width: 1.5;\" width=\"92\" x=\"32\" y=\"41\"/><ellipse cx=\"47\" cy=\"59.9688\" fill=\"#A52A2A\" rx=\"11\" ry=\"11\" style=\"stroke: #A80036; stroke-width: 1.0;\"/><path d=\"M46.5938,55.7813 L46.5938,63.7656 L47.25,63.7656 Q48.6875,63.7656 49.2969,62.8594 Q49.9219,61.9375 49.9219,59.7656 Q49.9219,57.5938 49.2969,56.6875 Q48.6875,55.7813 47.25,55.7813 L46.5938,55.7813 Z M44.1406,53.5781 L46.7656,53.5781 Q49.7969,53.5781 51.125,55.0313 Q52.4688,56.4688 52.4688,59.7656 Q52.4688,63.0625 51.125,64.5156 Q49.7969,65.9688 46.7656,65.9688 L44.1406,65.9688 L44.1406,53.5781 Z \"/><text fill=\"#000000\" font-family=\"sans-serif\" font-size=\"12\" font-style=\"italic\" lengthAdjust=\"spacingAndGlyphs\" textLength=\"64\" x=\"59\" y=\"57.1387\">«port def»</text><text fill=\"#000000\" font-family=\"sans-serif\" font-size=\"12\" lengthAdjust=\"spacingAndGlyphs\" textLength=\"8\" x=\"87\" y=\"71.1074\">C</text><line style=\"stroke: #A80036; stroke-width: 1.5;\" x1=\"33\" x2=\"123\" y1=\"78.9375\" y2=\"78.9375\"/><text fill=\"#000000\" font-family=\"sans-serif\" font-size=\"11\" lengthAdjust=\"spacingAndGlyphs\" textLength=\"37\" x=\"38\" y=\"109.9526\">y: A, B</text><text fill=\"#000000\" font-family=\"sans-serif\" font-size=\"11\" font-weight=\"bold\" lengthAdjust=\"spacingAndGlyphs\" textLength=\"15\" x=\"79\" y=\"109.9526\">as</text><text fill=\"#000000\" font-family=\"sans-serif\" font-size=\"11\" lengthAdjust=\"spacingAndGlyphs\" textLength=\"12\" x=\"98\" y=\"109.9526\">z2</text><line style=\"stroke: #A80036; stroke-width: 1.0;\" x1=\"33\" x2=\"47\" y1=\"93.3398\" y2=\"93.3398\"/><text fill=\"#000000\" font-family=\"sans-serif\" font-size=\"11\" lengthAdjust=\"spacingAndGlyphs\" textLength=\"62\" x=\"47\" y=\"96.6479\">references</text><line style=\"stroke: #A80036; stroke-width: 1.0;\" x1=\"109\" x2=\"123\" y1=\"93.3398\" y2=\"93.3398\"/></a><a href=\"psysml:fcdcf065-90d4-4da1-8b43-4feb0ab4c03b\" target=\"_top\" title=\"psysml:fcdcf065-90d4-4da1-8b43-4feb0ab4c03b\" xlink:actuate=\"onRequest\" xlink:href=\"psysml:fcdcf065-90d4-4da1-8b43-4feb0ab4c03b\" xlink:show=\"new\" xlink:title=\"psysml:fcdcf065-90d4-4da1-8b43-4feb0ab4c03b\" xlink:type=\"simple\"><polygon fill=\"#FFFFFF\" filter=\"url(#f1vi79iqcymwmv)\" points=\"94,579,110,579,117,601.2969,124,601.2969,124,631.5938,94,631.5938,94,579\" style=\"stroke: #000000; stroke-width: 1.5;\"/><line style=\"stroke: #000000; stroke-width: 1.5;\" x1=\"94\" x2=\"117\" y1=\"601.2969\" y2=\"601.2969\"/><text fill=\"#000000\" font-family=\"sans-serif\" font-size=\"14\" font-weight=\"bold\" lengthAdjust=\"spacingAndGlyphs\" textLength=\"10\" x=\"98\" y=\"593.9951\">P</text></a><!--MD5=[2720a5a1f2c3fca2055b230370638851]\n",
       "link E2 to E3--><a href=\"psysml:1f32f64a-cd2f-48b1-a0ff-85d8f5396f29\" target=\"_top\" title=\"psysml:1f32f64a-cd2f-48b1-a0ff-85d8f5396f29\" xlink:actuate=\"onRequest\" xlink:href=\"psysml:1f32f64a-cd2f-48b1-a0ff-85d8f5396f29\" xlink:show=\"new\" xlink:title=\"psysml:1f32f64a-cd2f-48b1-a0ff-85d8f5396f29\" xlink:type=\"simple\"><path d=\"M189.41,102.16 C186.33,121.12 181.78,149.21 177.75,174.04 \" fill=\"none\" id=\"E2-&gt;E3\" style=\"stroke: #A80036; stroke-width: 1.0;\"/><polygon fill=\"#FFFFFF\" points=\"174.54,193.87,170.6701,173.9948,184.4897,176.2347,174.54,193.87\" style=\"stroke: #A80036; stroke-width: 1.0;\"/><ellipse cx=\"173.5563\" cy=\"168.6882\" fill=\"#A80036\" rx=\"2\" ry=\"2\" style=\"stroke: #A80036; stroke-width: 1.0;\"/><ellipse cx=\"183.4275\" cy=\"170.2882\" fill=\"#A80036\" rx=\"2\" ry=\"2\" style=\"stroke: #A80036; stroke-width: 1.0;\"/></a><!--MD5=[4672eba38e49728da53d11aeb285b987]\n",
       "reverse link E3 to E4--><a href=\"psysml:1e20eef8-b16d-4a20-93fc-2b015416e79a\" target=\"_top\" title=\"psysml:1e20eef8-b16d-4a20-93fc-2b015416e79a\" xlink:actuate=\"onRequest\" xlink:href=\"psysml:1e20eef8-b16d-4a20-93fc-2b015416e79a\" xlink:show=\"new\" xlink:title=\"psysml:1e20eef8-b16d-4a20-93fc-2b015416e79a\" xlink:type=\"simple\"><path d=\"M159.4,277.28 C155,298.98 149.98,323.67 146.47,340.96 \" fill=\"none\" id=\"E3&lt;-E4\" style=\"stroke: #A80036; stroke-width: 1.0;\"/><polygon fill=\"#A80036\" points=\"162.05,264.25,156.9367,269.3347,159.6637,276.0103,164.7769,270.9256,162.05,264.25\" style=\"stroke: #A80036; stroke-width: 1.0;\"/></a><!--MD5=[79568f1e445c3877b6a54524624ccc7d]\n",
       "link E4 to E6--><a href=\"psysml:97a379fd-51a7-461f-afe4-84a5f5da2292\" target=\"_top\" title=\"psysml:97a379fd-51a7-461f-afe4-84a5f5da2292\" xlink:actuate=\"onRequest\" xlink:href=\"psysml:97a379fd-51a7-461f-afe4-84a5f5da2292\" xlink:show=\"new\" xlink:title=\"psysml:97a379fd-51a7-461f-afe4-84a5f5da2292\" xlink:type=\"simple\"><path d=\"M138.24,387.01 C136.25,398.61 133.72,413.41 131.26,427.86 \" fill=\"none\" id=\"E4-&gt;E6\" style=\"stroke: #A80036; stroke-width: 1.0;\"/><polygon fill=\"#FFFFFF\" points=\"127.87,447.67,124.1589,427.7645,137.9603,430.1147,127.87,447.67\" style=\"stroke: #A80036; stroke-width: 1.0;\"/><ellipse cx=\"127.0874\" cy=\"422.4812\" fill=\"#A80036\" rx=\"2\" ry=\"2\" style=\"stroke: #A80036; stroke-width: 1.0;\"/><ellipse cx=\"136.9455\" cy=\"424.1599\" fill=\"#A80036\" rx=\"2\" ry=\"2\" style=\"stroke: #A80036; stroke-width: 1.0;\"/></a><!--MD5=[3f50a3473f1dfb74d3f76443e03635af]\n",
       "reverse link E6 to E7--><a href=\"psysml:fcdcf065-90d4-4da1-8b43-4feb0ab4c03b\" target=\"_top\" title=\"psysml:fcdcf065-90d4-4da1-8b43-4feb0ab4c03b\" xlink:actuate=\"onRequest\" xlink:href=\"psysml:fcdcf065-90d4-4da1-8b43-4feb0ab4c03b\" xlink:show=\"new\" xlink:title=\"psysml:fcdcf065-90d4-4da1-8b43-4feb0ab4c03b\" xlink:type=\"simple\"><path d=\"M116.68,533.27 C115.01,548.83 113.22,565.4 111.79,578.64 \" fill=\"none\" id=\"E6&lt;-E7\" style=\"stroke: #A80036; stroke-width: 1.0;\"/><ellipse cx=\"117.4567\" cy=\"526.1644\" fill=\"#FFFFFF\" rx=\"8\" ry=\"8\" style=\"stroke: #A80036; stroke-width: 1.0;\"/><line style=\"stroke: #A80036; stroke-width: 1.0;\" x1=\"116.6033\" x2=\"118.31\" y1=\"534.1187\" y2=\"518.21\"/><line style=\"stroke: #A80036; stroke-width: 1.0;\" x1=\"109.5023\" x2=\"125.411\" y1=\"525.311\" y2=\"527.0177\"/></a><!--MD5=[95fa686b5a16158bcdbcaeead89f639b]\n",
       "link E8 to E3--><a href=\"psysml:c8b02122-2142-456b-8199-9bf99e52168e\" target=\"_top\" title=\"psysml:c8b02122-2142-456b-8199-9bf99e52168e\" xlink:actuate=\"onRequest\" xlink:href=\"psysml:c8b02122-2142-456b-8199-9bf99e52168e\" xlink:show=\"new\" xlink:title=\"psysml:c8b02122-2142-456b-8199-9bf99e52168e\" xlink:type=\"simple\"><path d=\"M194.8,582.2 C198.09,536.68 203.89,429.89 194,341 C191.9,322.13 187.85,301.78 183.62,283.73 \" fill=\"none\" id=\"E8-&gt;E3\" style=\"stroke: #A80036; stroke-width: 1.0;\"/><polygon fill=\"#FFFFFF\" points=\"178.76,264.17,190.1301,280.9247,176.5423,284.2966,178.76,264.17\" style=\"stroke: #A80036; stroke-width: 1.0;\"/><ellipse cx=\"189.5619\" cy=\"286.9386\" fill=\"#A80036\" rx=\"2\" ry=\"2\" style=\"stroke: #A80036; stroke-width: 1.0;\"/><ellipse cx=\"179.8563\" cy=\"289.3471\" fill=\"#A80036\" rx=\"2\" ry=\"2\" style=\"stroke: #A80036; stroke-width: 1.0;\"/></a><!--MD5=[f4cf0736d43fd73c4ef68817c49d37d5]\n",
       "reverse link E6 to E8--><a href=\"psysml:adeac7a4-0c31-420e-b3fd-609062fb2f41\" target=\"_top\" title=\"psysml:adeac7a4-0c31-420e-b3fd-609062fb2f41\" xlink:actuate=\"onRequest\" xlink:href=\"psysml:adeac7a4-0c31-420e-b3fd-609062fb2f41\" xlink:show=\"new\" xlink:title=\"psysml:adeac7a4-0c31-420e-b3fd-609062fb2f41\" xlink:type=\"simple\"><path d=\"M148.79,529.47 C159.46,547.58 171.25,567.58 179.97,582.38 \" fill=\"none\" id=\"E6&lt;-E8\" style=\"stroke: #A80036; stroke-width: 1.0;\"/><polygon fill=\"#A80036\" points=\"142.16,518.21,141.76,525.41,148.2523,528.5485,148.6523,521.3485,142.16,518.21\" style=\"stroke: #A80036; stroke-width: 1.0;\"/></a><!--MD5=[8e04057e7b3cbc0dca4fc78ea351e2da]\n",
       "reverse link E10 to E3--><a href=\"psysml:4b320237-d900-4f83-8ac2-28b55b9df163\" target=\"_top\" title=\"psysml:4b320237-d900-4f83-8ac2-28b55b9df163\" xlink:actuate=\"onRequest\" xlink:href=\"psysml:4b320237-d900-4f83-8ac2-28b55b9df163\" xlink:show=\"new\" xlink:title=\"psysml:4b320237-d900-4f83-8ac2-28b55b9df163\" xlink:type=\"simple\"><path d=\"M107.78,128.43 C121.23,150.31 136.77,175.59 148.83,195.2 \" fill=\"none\" id=\"E10&lt;-E3\" style=\"stroke: #A80036; stroke-width: 1.0;\"/><polygon fill=\"#FFFFFF\" points=\"100.96,117.35,100.6917,124.5561,107.2403,127.5753,107.5086,120.3692,100.96,117.35\" style=\"stroke: #A80036; stroke-width: 1.0;\"/><text fill=\"#000000\" font-family=\"sans-serif\" font-size=\"13\" lengthAdjust=\"spacingAndGlyphs\" textLength=\"7\" x=\"129\" y=\"160.0669\">y</text></a><!--MD5=[604cbf994c02b74b117f728a71673cea]\n",
       "reverse link E10 to E6--><a href=\"psysml:4b320237-d900-4f83-8ac2-28b55b9df163\" target=\"_top\" title=\"psysml:4b320237-d900-4f83-8ac2-28b55b9df163\" xlink:actuate=\"onRequest\" xlink:href=\"psysml:4b320237-d900-4f83-8ac2-28b55b9df163\" xlink:show=\"new\" xlink:title=\"psysml:4b320237-d900-4f83-8ac2-28b55b9df163\" xlink:type=\"simple\"><path d=\"M75.96,130.3 C74.43,191.49 74.85,297.69 91,387 C94.73,407.66 101.86,430.01 108.35,447.84 \" fill=\"none\" id=\"E10&lt;-E6\" style=\"stroke: #A80036; stroke-width: 1.0;\"/><polygon fill=\"#FFFFFF\" points=\"76.33,117.22,72.1603,123.1033,75.9873,129.2151,80.157,123.3318,76.33,117.22\" style=\"stroke: #A80036; stroke-width: 1.0;\"/><text fill=\"#000000\" font-family=\"sans-serif\" font-size=\"13\" lengthAdjust=\"spacingAndGlyphs\" textLength=\"7\" x=\"81\" y=\"307.0669\">y</text></a><!--MD5=[bfa5699603653992fc4cd0a867f2fe18]\n",
       "@startuml\r\n",
       " \r\n",
       "package \"BlockTest\" as E1  [[psysml:c0b99535-16c1-47cf-a8d5-3f20b133a54a ]]  {\r\n",
       "comp usage \"f: A\" as E2  << (P,limegreen) part>> [[psysml:20852434-d7cc-411e-aa3b-cae286a1f6f8 ]] {\r\n",
       "}\r\n",
       "comp def \"A\" as E3  << (B,green) >> [[psysml:cbed5230-ac88-4b7e-9b23-6ffd90d7c059 ]] {\r\n",
       "- - ports - -\r\n",
       "c: C\r\n",
       "}\r\n",
       "comp usage \"b: B\" as E4  << (P,limegreen) part>> [[psysml:1e20eef8-b16d-4a20-93fc-2b015416e79a ]] {\r\n",
       "}\r\n",
       "comp def \"B\" as E6  << (B,green) >> [[psysml:633af2d2-4d32-4996-ac04-a91fff2e720f ]] {\r\n",
       "- - ports - -\r\n",
       "x: ~C\r\n",
       "}\r\n",
       "package \"P\" as E7  [[psysml:fcdcf065-90d4-4da1-8b43-4feb0ab4c03b ]]  {\r\n",
       "}\r\n",
       "comp usage \"a: A\" as E8  << (P,limegreen) part>> [[psysml:adeac7a4-0c31-420e-b3fd-609062fb2f41 ]] {\r\n",
       "}\r\n",
       "comp def \"C\" as E10  <<(D,brown)port def>> [[psysml:19a0d075-dfec-4a25-8f91-7b5bd5520f32 ]] {\r\n",
       "- - references - -\r\n",
       "y: A, B <b>as</b> z2 \r\n",
       "}\r\n",
       "E2 - -:|> E3 [[psysml:1f32f64a-cd2f-48b1-a0ff-85d8f5396f29 ]] \r\n",
       "E3 *- - E4 [[psysml:1e20eef8-b16d-4a20-93fc-2b015416e79a ]] \r\n",
       "E4 - -:|> E6 [[psysml:97a379fd-51a7-461f-afe4-84a5f5da2292 ]] \r\n",
       "E6 +- - E7 [[psysml:fcdcf065-90d4-4da1-8b43-4feb0ab4c03b ]] \r\n",
       "E8 - -:|> E3 [[psysml:c8b02122-2142-456b-8199-9bf99e52168e ]] \r\n",
       "E6 *- - E8 [[psysml:adeac7a4-0c31-420e-b3fd-609062fb2f41 ]] \r\n",
       "E10 o- - E3 [[psysml:4b320237-d900-4f83-8ac2-28b55b9df163 ]] : y\r\n",
       "E10 o- - E6 [[psysml:4b320237-d900-4f83-8ac2-28b55b9df163 ]] : y\r\n",
       "}\r\n",
       "@enduml\r\n",
       "\n",
       "PlantUML version 1.2020.13(Sat Jun 13 12:26:38 UTC 2020)\n",
       "(EPL source distribution)\n",
       "Java Runtime: OpenJDK Runtime Environment\n",
       "JVM: OpenJDK 64-Bit Server VM\n",
       "Default Encoding: UTF-8\n",
       "Language: en\n",
       "Country: null\n",
       "--></g></svg>"
      ]
     },
     "execution_count": 31,
     "metadata": {},
     "output_type": "execute_result"
    }
   ],
   "source": [
    "%viz --style=\"PLANTUML\" --view=\"Tree\" \"BlockTest\""
   ]
  },
  {
   "cell_type": "code",
   "execution_count": 32,
   "id": "organized-vision",
   "metadata": {
    "execution": {
     "iopub.execute_input": "2021-03-25T14:59:55.207835Z",
     "iopub.status.busy": "2021-03-25T14:59:55.207382Z",
     "iopub.status.idle": "2021-03-25T14:59:57.704812Z",
     "shell.execute_reply": "2021-03-25T14:59:57.698465Z"
    }
   },
   "outputs": [
    {
     "data": {
      "image/svg+xml": [
       "<?xml version=\"1.0\" encoding=\"UTF-8\" standalone=\"no\"?><svg xmlns=\"http://www.w3.org/2000/svg\" xmlns:xlink=\"http://www.w3.org/1999/xlink\" contentScriptType=\"application/ecmascript\" contentStyleType=\"text/css\" height=\"303px\" preserveAspectRatio=\"none\" style=\"width:603px;height:303px;background:#000000;\" version=\"1.1\" viewBox=\"0 0 603 303\" width=\"603px\" zoomAndPan=\"magnify\"><defs/><g><rect fill=\"#112212\" height=\"1\" style=\"stroke: #112212; stroke-width: 1.0;\" width=\"1\" x=\"0\" y=\"0\"/><rect fill=\"#FFFFFF\" height=\"205.5625\" style=\"stroke: #FFFFFF; stroke-width: 1.0;\" width=\"602\" x=\"0\" y=\"0\"/><text fill=\"#000000\" font-family=\"sans-serif\" font-size=\"12\" font-weight=\"bold\" lengthAdjust=\"spacingAndGlyphs\" textLength=\"159\" x=\"5\" y=\"16.1387\">Welcome to PlantUML!</text><text fill=\"#000000\" font-family=\"sans-serif\" font-size=\"12\" lengthAdjust=\"spacingAndGlyphs\" textLength=\"0\" x=\"9\" y=\"30.1074\"/><text fill=\"#000000\" font-family=\"sans-serif\" font-size=\"12\" lengthAdjust=\"spacingAndGlyphs\" textLength=\"293\" x=\"5\" y=\"44.0762\">If you use this software, you accept its license.</text><text fill=\"#000000\" font-family=\"sans-serif\" font-size=\"12\" lengthAdjust=\"spacingAndGlyphs\" textLength=\"107\" x=\"5\" y=\"58.0449\">(details by typing</text><text fill=\"#000000\" font-family=\"monospace\" font-size=\"12\" lengthAdjust=\"spacingAndGlyphs\" textLength=\"49\" x=\"116\" y=\"58.0449\">license</text><text fill=\"#000000\" font-family=\"sans-serif\" font-size=\"12\" lengthAdjust=\"spacingAndGlyphs\" textLength=\"56\" x=\"169\" y=\"58.0449\">keyword)</text><text fill=\"#000000\" font-family=\"sans-serif\" font-size=\"12\" lengthAdjust=\"spacingAndGlyphs\" textLength=\"0\" x=\"9\" y=\"72.0137\"/><text fill=\"#000000\" font-family=\"sans-serif\" font-size=\"12\" lengthAdjust=\"spacingAndGlyphs\" textLength=\"283\" x=\"5\" y=\"85.9824\">You can start with a simple UML Diagram like:</text><text fill=\"#000000\" font-family=\"sans-serif\" font-size=\"12\" lengthAdjust=\"spacingAndGlyphs\" textLength=\"0\" x=\"9\" y=\"99.9512\"/><text fill=\"#000000\" font-family=\"monospace\" font-size=\"12\" lengthAdjust=\"spacingAndGlyphs\" textLength=\"119\" x=\"5\" y=\"113.9199\">Bob-&gt;Alice: Hello</text><text fill=\"#000000\" font-family=\"sans-serif\" font-size=\"12\" lengthAdjust=\"spacingAndGlyphs\" textLength=\"0\" x=\"9\" y=\"127.8887\"/><text fill=\"#000000\" font-family=\"sans-serif\" font-size=\"12\" lengthAdjust=\"spacingAndGlyphs\" textLength=\"14\" x=\"5\" y=\"141.8574\">Or</text><text fill=\"#000000\" font-family=\"sans-serif\" font-size=\"12\" lengthAdjust=\"spacingAndGlyphs\" textLength=\"0\" x=\"9\" y=\"155.8262\"/><text fill=\"#000000\" font-family=\"monospace\" font-size=\"12\" lengthAdjust=\"spacingAndGlyphs\" textLength=\"91\" x=\"5\" y=\"169.7949\">class Example</text><text fill=\"#000000\" font-family=\"sans-serif\" font-size=\"12\" lengthAdjust=\"spacingAndGlyphs\" textLength=\"0\" x=\"9\" y=\"183.7637\"/><text fill=\"#000000\" font-family=\"sans-serif\" font-size=\"12\" lengthAdjust=\"spacingAndGlyphs\" textLength=\"349\" x=\"5\" y=\"197.7324\">You will find more information about PlantUML syntax on</text><text fill=\"#000000\" font-family=\"sans-serif\" font-size=\"12\" lengthAdjust=\"spacingAndGlyphs\" text-decoration=\"underline\" textLength=\"129\" x=\"358\" y=\"197.7324\">https://plantuml.com</text><image height=\"71\" width=\"80\" x=\"516\" xlink:href=\"data:image/png;base64,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\" y=\"6\"/><rect fill=\"#000000\" height=\"96.4844\" style=\"stroke: #000000; stroke-width: 1.0;\" width=\"602\" x=\"0\" y=\"205.5625\"/><rect fill=\"#33FF02\" height=\"21.2969\" style=\"stroke: #33FF02; stroke-width: 1.0;\" width=\"170\" x=\"5\" y=\"210.5625\"/><text fill=\"#000000\" font-family=\"sans-serif\" font-size=\"14\" font-weight=\"bold\" lengthAdjust=\"spacingAndGlyphs\" textLength=\"168\" x=\"6\" y=\"225.5625\">[From string (line 2) ]</text><text fill=\"#33FF02\" font-family=\"sans-serif\" font-size=\"14\" font-weight=\"bold\" lengthAdjust=\"spacingAndGlyphs\" textLength=\"0\" x=\"10\" y=\"245.8594\"/><text fill=\"#33FF02\" font-family=\"sans-serif\" font-size=\"14\" font-weight=\"bold\" lengthAdjust=\"spacingAndGlyphs\" textLength=\"79\" x=\"5\" y=\"262.1563\">@startuml</text><text fill=\"#33FF02\" font-family=\"sans-serif\" font-size=\"14\" font-weight=\"bold\" lengthAdjust=\"spacingAndGlyphs\" textLength=\"0\" x=\"10\" y=\"278.4531\"/><text fill=\"#FF0000\" font-family=\"sans-serif\" font-size=\"14\" font-weight=\"bold\" lengthAdjust=\"spacingAndGlyphs\" textLength=\"142\" x=\"10\" y=\"294.75\">Empty description</text><!--MD5=[f59edd8218d337f74d0c332fc6737304]\n",
       "@startuml\r\n",
       " \r\n",
       "@enduml\r\n",
       "\n",
       "PlantUML version 1.2020.13(Sat Jun 13 12:26:38 UTC 2020)\n",
       "(EPL source distribution)\n",
       "Java Runtime: OpenJDK Runtime Environment\n",
       "JVM: OpenJDK 64-Bit Server VM\n",
       "Default Encoding: UTF-8\n",
       "Language: en\n",
       "Country: null\n",
       "--></g></svg>"
      ]
     },
     "execution_count": 32,
     "metadata": {},
     "output_type": "execute_result"
    }
   ],
   "source": [
    "%viz --style=\"PLANTUML\" --view=\"State\" \"BlockTest\""
   ]
  },
  {
   "cell_type": "code",
   "execution_count": 33,
   "id": "common-applicant",
   "metadata": {
    "execution": {
     "iopub.execute_input": "2021-03-25T14:59:57.767411Z",
     "iopub.status.busy": "2021-03-25T14:59:57.766596Z",
     "iopub.status.idle": "2021-03-25T14:59:58.200622Z",
     "shell.execute_reply": "2021-03-25T14:59:58.197792Z"
    }
   },
   "outputs": [
    {
     "data": {
      "image/svg+xml": [
       "<?xml version=\"1.0\" encoding=\"UTF-8\" standalone=\"no\"?><svg xmlns=\"http://www.w3.org/2000/svg\" xmlns:xlink=\"http://www.w3.org/1999/xlink\" contentScriptType=\"application/ecmascript\" contentStyleType=\"text/css\" height=\"256px\" preserveAspectRatio=\"none\" style=\"width:549px;height:256px;\" version=\"1.1\" viewBox=\"0 0 549 256\" width=\"549px\" zoomAndPan=\"magnify\"><defs><filter height=\"300%\" id=\"f7w5gurmluayo\" width=\"300%\" x=\"-1\" y=\"-1\"><feGaussianBlur result=\"blurOut\" stdDeviation=\"2.0\"/><feColorMatrix in=\"blurOut\" result=\"blurOut2\" type=\"matrix\" values=\"0 0 0 0 0 0 0 0 0 0 0 0 0 0 0 0 0 0 .4 0\"/><feOffset dx=\"4.0\" dy=\"4.0\" in=\"blurOut2\" result=\"blurOut3\"/><feBlend in=\"SourceGraphic\" in2=\"blurOut3\" mode=\"normal\"/></filter></defs><g><!--MD5=[fbc87193dbaf4d95561dea2c320d4a47]\n",
       "cluster E1--><a href=\"psysml:c0b99535-16c1-47cf-a8d5-3f20b133a54a\" target=\"_top\" title=\"psysml:c0b99535-16c1-47cf-a8d5-3f20b133a54a\" xlink:actuate=\"onRequest\" xlink:href=\"psysml:c0b99535-16c1-47cf-a8d5-3f20b133a54a\" xlink:show=\"new\" xlink:title=\"psysml:c0b99535-16c1-47cf-a8d5-3f20b133a54a\" xlink:type=\"simple\"><polygon fill=\"#FFFFFF\" filter=\"url(#f7w5gurmluayo)\" points=\"16,6,99,6,106,28.2969,527,28.2969,527,244,16,244,16,6\" style=\"stroke: #000000; stroke-width: 1.5;\"/><line style=\"stroke: #000000; stroke-width: 1.5;\" x1=\"16\" x2=\"106\" y1=\"28.2969\" y2=\"28.2969\"/><text fill=\"#000000\" font-family=\"sans-serif\" font-size=\"14\" font-weight=\"bold\" lengthAdjust=\"spacingAndGlyphs\" textLength=\"77\" x=\"20\" y=\"20.9951\">BlockTest</text></a><!--MD5=[d5e69f78d87373223dbae638b30a9c99]\n",
       "cluster E3--><a href=\"psysml:cbed5230-ac88-4b7e-9b23-6ffd90d7c059\" target=\"_top\" title=\"psysml:cbed5230-ac88-4b7e-9b23-6ffd90d7c059\" xlink:actuate=\"onRequest\" xlink:href=\"psysml:cbed5230-ac88-4b7e-9b23-6ffd90d7c059\" xlink:show=\"new\" xlink:title=\"psysml:cbed5230-ac88-4b7e-9b23-6ffd90d7c059\" xlink:type=\"simple\"><rect fill=\"#FFFFFF\" filter=\"url(#f7w5gurmluayo)\" height=\"160\" id=\"E3\" style=\"stroke: #A80036; stroke-width: 1.5;\" width=\"94\" x=\"417\" y=\"68\"/><rect fill=\"#FEFECE\" height=\"23.9688\" style=\"stroke: #A80036; stroke-width: 1.5;\" width=\"94\" x=\"417\" y=\"68\"/><text fill=\"#000000\" font-family=\"sans-serif\" font-size=\"12\" lengthAdjust=\"spacingAndGlyphs\" textLength=\"8\" x=\"460\" y=\"84.1387\">A</text></a><!--MD5=[14e3b0961a2654348d326746436168a1]\n",
       "cluster E6--><a href=\"psysml:633af2d2-4d32-4996-ac04-a91fff2e720f\" target=\"_top\" title=\"psysml:633af2d2-4d32-4996-ac04-a91fff2e720f\" xlink:actuate=\"onRequest\" xlink:href=\"psysml:633af2d2-4d32-4996-ac04-a91fff2e720f\" xlink:show=\"new\" xlink:title=\"psysml:633af2d2-4d32-4996-ac04-a91fff2e720f\" xlink:type=\"simple\"><rect fill=\"#FFFFFF\" filter=\"url(#f7w5gurmluayo)\" height=\"160\" id=\"E6\" style=\"stroke: #A80036; stroke-width: 1.5;\" width=\"123\" x=\"286\" y=\"68\"/><rect fill=\"#FEFECE\" height=\"23.9688\" style=\"stroke: #A80036; stroke-width: 1.5;\" width=\"123\" x=\"286\" y=\"68\"/><text fill=\"#000000\" font-family=\"sans-serif\" font-size=\"12\" lengthAdjust=\"spacingAndGlyphs\" textLength=\"8\" x=\"343.5\" y=\"84.1387\">B</text></a><!--MD5=[96f4274e9e20536e775497830990834d]\n",
       "class E10--><a href=\"psysml:19a0d075-dfec-4a25-8f91-7b5bd5520f32\" target=\"_top\" title=\"psysml:19a0d075-dfec-4a25-8f91-7b5bd5520f32\" xlink:actuate=\"onRequest\" xlink:href=\"psysml:19a0d075-dfec-4a25-8f91-7b5bd5520f32\" xlink:show=\"new\" xlink:title=\"psysml:19a0d075-dfec-4a25-8f91-7b5bd5520f32\" xlink:type=\"simple\"><rect fill=\"#FEFECE\" filter=\"url(#f7w5gurmluayo)\" height=\"53.9375\" id=\"E10\" style=\"stroke: #A80036; stroke-width: 1.5;\" width=\"153\" x=\"124.5\" y=\"41\"/><ellipse cx=\"139.5\" cy=\"59.9688\" fill=\"#ADD1B2\" rx=\"11\" ry=\"11\" style=\"stroke: #A80036; stroke-width: 1.0;\"/><path d=\"M142.4688,65.6094 Q141.8906,65.9063 141.25,66.0469 Q140.6094,66.2031 139.9063,66.2031 Q137.4063,66.2031 136.0781,64.5625 Q134.7656,62.9063 134.7656,59.7813 Q134.7656,56.6563 136.0781,55 Q137.4063,53.3438 139.9063,53.3438 Q140.6094,53.3438 141.25,53.5 Q141.9063,53.6563 142.4688,53.9531 L142.4688,56.6719 Q141.8438,56.0938 141.25,55.8281 Q140.6563,55.5469 140.0313,55.5469 Q138.6875,55.5469 138,56.625 Q137.3125,57.6875 137.3125,59.7813 Q137.3125,61.875 138,62.9531 Q138.6875,64.0156 140.0313,64.0156 Q140.6563,64.0156 141.25,63.75 Q141.8438,63.4688 142.4688,62.8906 L142.4688,65.6094 Z \"/><text fill=\"#000000\" font-family=\"sans-serif\" font-size=\"12\" font-style=\"italic\" lengthAdjust=\"spacingAndGlyphs\" textLength=\"125\" x=\"151.5\" y=\"57.1387\">«(D,brown)port def»</text><text fill=\"#000000\" font-family=\"sans-serif\" font-size=\"12\" lengthAdjust=\"spacingAndGlyphs\" textLength=\"8\" x=\"210\" y=\"71.1074\">C</text><line style=\"stroke: #A80036; stroke-width: 1.5;\" x1=\"125.5\" x2=\"276.5\" y1=\"78.9375\" y2=\"78.9375\"/><line style=\"stroke: #A80036; stroke-width: 1.5;\" x1=\"125.5\" x2=\"276.5\" y1=\"86.9375\" y2=\"86.9375\"/></a><g id=\"E1.E2\"><a href=\"psysml:20852434-d7cc-411e-aa3b-cae286a1f6f8\" target=\"_top\" title=\"psysml:20852434-d7cc-411e-aa3b-cae286a1f6f8\" xlink:actuate=\"onRequest\" xlink:href=\"psysml:20852434-d7cc-411e-aa3b-cae286a1f6f8\" xlink:show=\"new\" xlink:title=\"psysml:20852434-d7cc-411e-aa3b-cae286a1f6f8\" xlink:type=\"simple\"><rect fill=\"#FEFECE\" filter=\"url(#f7w5gurmluayo)\" height=\"40\" id=\"E2\" rx=\"10\" ry=\"10\" style=\"stroke: #A80036; stroke-width: 1.5;\" width=\"57\" x=\"32.5\" y=\"48\"/><ellipse cx=\"49.75\" cy=\"64\" fill=\"#B6DBBB\" rx=\"11\" ry=\"11\" style=\"stroke: #A80036; stroke-width: 1.0;\"/><path d=\"M45.625,65.9219 L45.625,58.1094 L48.0781,58.1094 L48.0781,66.5469 Q48.0781,67.4688 48.5469,68 Q49.0313,68.5313 49.8594,68.5313 Q50.7031,68.5313 51.1719,68 Q51.6406,67.4688 51.6406,66.5469 L51.6406,58.1094 L54.0938,58.1094 L54.0938,65.9219 Q54.0938,68.4531 53.0938,69.5938 Q52.0938,70.7344 49.8594,70.7344 Q47.6406,70.7344 46.625,69.5938 Q45.625,68.4531 45.625,65.9219 Z \"/><text fill=\"#000000\" font-family=\"sans-serif\" font-size=\"12\" lengthAdjust=\"spacingAndGlyphs\" textLength=\"20\" x=\"64.25\" y=\"68.1543\">f: A</text></a></g><text fill=\"#000000\" font-family=\"sans-serif\" font-size=\"14\" lengthAdjust=\"spacingAndGlyphs\" textLength=\"27\" x=\"450.5\" y=\"46.6982\">c: C</text><rect fill=\"#A80036\" height=\"12\" style=\"stroke: #FEFECE; stroke-width: 1.5;\" width=\"12\" x=\"458\" y=\"62\"/><g id=\"E1.E3.E4\"><a href=\"psysml:1e20eef8-b16d-4a20-93fc-2b015416e79a\" target=\"_top\" title=\"psysml:1e20eef8-b16d-4a20-93fc-2b015416e79a\" xlink:actuate=\"onRequest\" xlink:href=\"psysml:1e20eef8-b16d-4a20-93fc-2b015416e79a\" xlink:show=\"new\" xlink:title=\"psysml:1e20eef8-b16d-4a20-93fc-2b015416e79a\" xlink:type=\"simple\"><rect fill=\"#FEFECE\" filter=\"url(#f7w5gurmluayo)\" height=\"40\" id=\"E4\" rx=\"10\" ry=\"10\" style=\"stroke: #A80036; stroke-width: 1.5;\" width=\"61\" x=\"433.5\" y=\"172\"/><ellipse cx=\"450.75\" cy=\"188\" fill=\"#B6DBBB\" rx=\"11\" ry=\"11\" style=\"stroke: #A80036; stroke-width: 1.0;\"/><path d=\"M446.625,189.9219 L446.625,182.1094 L449.0781,182.1094 L449.0781,190.5469 Q449.0781,191.4688 449.5469,192 Q450.0313,192.5313 450.8594,192.5313 Q451.7031,192.5313 452.1719,192 Q452.6406,191.4688 452.6406,190.5469 L452.6406,182.1094 L455.0938,182.1094 L455.0938,189.9219 Q455.0938,192.4531 454.0938,193.5938 Q453.0938,194.7344 450.8594,194.7344 Q448.6406,194.7344 447.625,193.5938 Q446.625,192.4531 446.625,189.9219 Z \"/><text fill=\"#000000\" font-family=\"sans-serif\" font-size=\"12\" lengthAdjust=\"spacingAndGlyphs\" textLength=\"24\" x=\"465.25\" y=\"192.1543\">b: B</text></a></g><text fill=\"#000000\" font-family=\"sans-serif\" font-size=\"14\" lengthAdjust=\"spacingAndGlyphs\" textLength=\"38\" x=\"361\" y=\"46.6982\">x: ~C</text><rect fill=\"#A80036\" height=\"12\" style=\"stroke: #FEFECE; stroke-width: 1.5;\" width=\"12\" x=\"374\" y=\"62\"/><a href=\"psysml:fcdcf065-90d4-4da1-8b43-4feb0ab4c03b\" target=\"_top\" title=\"psysml:fcdcf065-90d4-4da1-8b43-4feb0ab4c03b\" xlink:actuate=\"onRequest\" xlink:href=\"psysml:fcdcf065-90d4-4da1-8b43-4feb0ab4c03b\" xlink:show=\"new\" xlink:title=\"psysml:fcdcf065-90d4-4da1-8b43-4feb0ab4c03b\" xlink:type=\"simple\"><polygon fill=\"#FFFFFF\" filter=\"url(#f7w5gurmluayo)\" points=\"302,111,318,111,325,133.2969,332,133.2969,332,163.5938,302,163.5938,302,111\" style=\"stroke: #000000; stroke-width: 1.5;\"/><line style=\"stroke: #000000; stroke-width: 1.5;\" x1=\"302\" x2=\"325\" y1=\"133.2969\" y2=\"133.2969\"/><text fill=\"#000000\" font-family=\"sans-serif\" font-size=\"14\" font-weight=\"bold\" lengthAdjust=\"spacingAndGlyphs\" textLength=\"10\" x=\"306\" y=\"125.9951\">P</text></a><g id=\"E1.E6.E8\"><a href=\"psysml:adeac7a4-0c31-420e-b3fd-609062fb2f41\" target=\"_top\" title=\"psysml:adeac7a4-0c31-420e-b3fd-609062fb2f41\" xlink:actuate=\"onRequest\" xlink:href=\"psysml:adeac7a4-0c31-420e-b3fd-609062fb2f41\" xlink:show=\"new\" xlink:title=\"psysml:adeac7a4-0c31-420e-b3fd-609062fb2f41\" xlink:type=\"simple\"><rect fill=\"#FEFECE\" filter=\"url(#f7w5gurmluayo)\" height=\"40\" id=\"E8\" rx=\"10\" ry=\"10\" style=\"stroke: #A80036; stroke-width: 1.5;\" width=\"61\" x=\"331.5\" y=\"172\"/><ellipse cx=\"348.75\" cy=\"188\" fill=\"#B6DBBB\" rx=\"11\" ry=\"11\" style=\"stroke: #A80036; stroke-width: 1.0;\"/><path d=\"M344.625,189.9219 L344.625,182.1094 L347.0781,182.1094 L347.0781,190.5469 Q347.0781,191.4688 347.5469,192 Q348.0313,192.5313 348.8594,192.5313 Q349.7031,192.5313 350.1719,192 Q350.6406,191.4688 350.6406,190.5469 L350.6406,182.1094 L353.0938,182.1094 L353.0938,189.9219 Q353.0938,192.4531 352.0938,193.5938 Q351.0938,194.7344 348.8594,194.7344 Q346.6406,194.7344 345.625,193.5938 Q344.625,192.4531 344.625,189.9219 Z \"/><text fill=\"#000000\" font-family=\"sans-serif\" font-size=\"12\" lengthAdjust=\"spacingAndGlyphs\" textLength=\"24\" x=\"363.25\" y=\"192.1543\">a: A</text></a></g><!--MD5=[40d50966a9aea6eb594813d0f892fa12]\n",
       "@startuml\r\n",
       "skinparam ranksep 8\r\n",
       "skinparam rectangle {\r\n",
       " backgroundColor<<block>> LightGreen\r\n",
       "}\r\n",
       " \r\n",
       "package \"BlockTest\" as E1  [[psysml:c0b99535-16c1-47cf-a8d5-3f20b133a54a ]]  {\r\n",
       "rec usage \"f: A\" as E2  [[psysml:20852434-d7cc-411e-aa3b-cae286a1f6f8 ]] {\r\n",
       "}\r\n",
       "rec def \"A\" as E3  << (B,green) >> [[psysml:cbed5230-ac88-4b7e-9b23-6ffd90d7c059 ]] {\r\n",
       "rec usage \"b: B\" as E4  [[psysml:1e20eef8-b16d-4a20-93fc-2b015416e79a ]] {\r\n",
       "}\r\n",
       "portin \"c: C\" as E5  << (P,blue) port>> [[psysml:fb57aec8-8cad-41ed-886b-c51c957131e5 ]] \r\n",
       "}\r\n",
       "rec def \"B\" as E6  << (B,green) >> [[psysml:633af2d2-4d32-4996-ac04-a91fff2e720f ]] {\r\n",
       "package \"P\" as E7  [[psysml:fcdcf065-90d4-4da1-8b43-4feb0ab4c03b ]]  {\r\n",
       "}\r\n",
       "rec usage \"a: A\" as E8  [[psysml:adeac7a4-0c31-420e-b3fd-609062fb2f41 ]] {\r\n",
       "}\r\n",
       "portin \"x: ~C\" as E9  << (P,blue) port>> [[psysml:64509ffc-1e29-47d8-8b93-efd607e70ae2 ]] \r\n",
       "}\r\n",
       "def \"C\" as E10  <<(D,brown)port def>> [[psysml:19a0d075-dfec-4a25-8f91-7b5bd5520f32 ]] \r\n",
       "}\r\n",
       "@enduml\r\n",
       "\n",
       "PlantUML version 1.2020.13(Sat Jun 13 12:26:38 UTC 2020)\n",
       "(EPL source distribution)\n",
       "Java Runtime: OpenJDK Runtime Environment\n",
       "JVM: OpenJDK 64-Bit Server VM\n",
       "Default Encoding: UTF-8\n",
       "Language: en\n",
       "Country: null\n",
       "--></g></svg>"
      ]
     },
     "execution_count": 33,
     "metadata": {},
     "output_type": "execute_result"
    }
   ],
   "source": [
    "%viz --style=\"PLANTUML\" --view=\"Interconnection\" \"BlockTest\""
   ]
  },
  {
   "cell_type": "code",
   "execution_count": 34,
   "id": "smaller-activation",
   "metadata": {
    "execution": {
     "iopub.execute_input": "2021-03-25T14:59:58.283703Z",
     "iopub.status.busy": "2021-03-25T14:59:58.281713Z",
     "iopub.status.idle": "2021-03-25T14:59:58.286158Z",
     "shell.execute_reply": "2021-03-25T14:59:58.282523Z"
    }
   },
   "outputs": [
    {
     "data": {
      "image/svg+xml": [
       "<?xml version=\"1.0\" encoding=\"UTF-8\" standalone=\"no\"?><svg xmlns=\"http://www.w3.org/2000/svg\" xmlns:xlink=\"http://www.w3.org/1999/xlink\" contentScriptType=\"application/ecmascript\" contentStyleType=\"text/css\" height=\"12px\" preserveAspectRatio=\"none\" style=\"width:12px;height:12px;\" version=\"1.1\" viewBox=\"0 0 12 12\" width=\"12px\" zoomAndPan=\"magnify\"><defs/><g><!--MD5=[6a4cb978cab31700e1ce5529f947a75d]\n",
       "@startuml\r\n",
       "skinparam ranksep 8\r\n",
       " \r\n",
       "@enduml\r\n",
       "\n",
       "PlantUML version 1.2020.13(Sat Jun 13 12:26:38 UTC 2020)\n",
       "(EPL source distribution)\n",
       "Java Runtime: OpenJDK Runtime Environment\n",
       "JVM: OpenJDK 64-Bit Server VM\n",
       "Default Encoding: UTF-8\n",
       "Language: en\n",
       "Country: null\n",
       "--></g></svg>"
      ]
     },
     "execution_count": 34,
     "metadata": {},
     "output_type": "execute_result"
    }
   ],
   "source": [
    "%viz --style=\"PLANTUML\" --view=\"Action\" \"BlockTest\""
   ]
  },
  {
   "cell_type": "code",
   "execution_count": 35,
   "id": "equal-professional",
   "metadata": {
    "execution": {
     "iopub.execute_input": "2021-03-25T14:59:58.380588Z",
     "iopub.status.busy": "2021-03-25T14:59:58.368873Z",
     "iopub.status.idle": "2021-03-25T14:59:59.708741Z",
     "shell.execute_reply": "2021-03-25T14:59:59.705972Z"
    }
   },
   "outputs": [
    {
     "data": {
      "image/svg+xml": [
       "<?xml version=\"1.0\" encoding=\"UTF-8\" standalone=\"no\"?><svg xmlns=\"http://www.w3.org/2000/svg\" xmlns:xlink=\"http://www.w3.org/1999/xlink\" contentScriptType=\"application/ecmascript\" contentStyleType=\"text/css\" height=\"660px\" preserveAspectRatio=\"none\" style=\"width:265px;height:660px;\" version=\"1.1\" viewBox=\"0 0 265 660\" width=\"265px\" zoomAndPan=\"magnify\"><defs><filter height=\"300%\" id=\"f1vi79iqcymwmv\" width=\"300%\" x=\"-1\" y=\"-1\"><feGaussianBlur result=\"blurOut\" stdDeviation=\"2.0\"/><feColorMatrix in=\"blurOut\" result=\"blurOut2\" type=\"matrix\" values=\"0 0 0 0 0 0 0 0 0 0 0 0 0 0 0 0 0 0 .4 0\"/><feOffset dx=\"4.0\" dy=\"4.0\" in=\"blurOut2\" result=\"blurOut3\"/><feBlend in=\"SourceGraphic\" in2=\"blurOut3\" mode=\"normal\"/></filter></defs><g><!--MD5=[fbc87193dbaf4d95561dea2c320d4a47]\n",
       "cluster E1--><a href=\"psysml:c0b99535-16c1-47cf-a8d5-3f20b133a54a\" target=\"_top\" title=\"psysml:c0b99535-16c1-47cf-a8d5-3f20b133a54a\" xlink:actuate=\"onRequest\" xlink:href=\"psysml:c0b99535-16c1-47cf-a8d5-3f20b133a54a\" xlink:show=\"new\" xlink:title=\"psysml:c0b99535-16c1-47cf-a8d5-3f20b133a54a\" xlink:type=\"simple\"><polygon fill=\"#FFFFFF\" filter=\"url(#f1vi79iqcymwmv)\" points=\"16,6,99,6,106,28.2969,243,28.2969,243,648,16,648,16,6\" style=\"stroke: #000000; stroke-width: 1.5;\"/><line style=\"stroke: #000000; stroke-width: 1.5;\" x1=\"16\" x2=\"106\" y1=\"28.2969\" y2=\"28.2969\"/><text fill=\"#000000\" font-family=\"sans-serif\" font-size=\"14\" font-weight=\"bold\" lengthAdjust=\"spacingAndGlyphs\" textLength=\"77\" x=\"20\" y=\"20.9951\">BlockTest</text></a><!--MD5=[b4997ac47864f28c2f74865a473b2911]\n",
       "class E2--><a href=\"psysml:20852434-d7cc-411e-aa3b-cae286a1f6f8\" target=\"_top\" title=\"psysml:20852434-d7cc-411e-aa3b-cae286a1f6f8\" xlink:actuate=\"onRequest\" xlink:href=\"psysml:20852434-d7cc-411e-aa3b-cae286a1f6f8\" xlink:show=\"new\" xlink:title=\"psysml:20852434-d7cc-411e-aa3b-cae286a1f6f8\" xlink:type=\"simple\"><rect fill=\"#FEFECE\" filter=\"url(#f1vi79iqcymwmv)\" height=\"45.9375\" id=\"E2\" rx=\"10\" ry=\"10\" style=\"stroke: #A80036; stroke-width: 1.5;\" width=\"68\" x=\"159\" y=\"56\"/><ellipse cx=\"174\" cy=\"74.9688\" fill=\"#32CD32\" rx=\"11\" ry=\"11\" style=\"stroke: #A80036; stroke-width: 1.0;\"/><path d=\"M173.7969,70.6406 L173.7969,74.2656 L174.7969,74.2656 Q176,74.2656 176.4844,73.8594 Q176.9688,73.4531 176.9688,72.4531 Q176.9688,71.4531 176.4844,71.0469 Q176,70.6406 174.7969,70.6406 L173.7969,70.6406 Z M171.3438,68.5781 L174.7031,68.5781 Q177.2656,68.5781 178.3906,69.5 Q179.5156,70.4063 179.5156,72.4531 Q179.5156,74.5 178.3906,75.4219 Q177.2656,76.3281 174.7031,76.3281 L173.7969,76.3281 L173.7969,80.9688 L171.3438,80.9688 L171.3438,68.5781 Z \"/><text fill=\"#000000\" font-family=\"sans-serif\" font-size=\"12\" font-style=\"italic\" lengthAdjust=\"spacingAndGlyphs\" textLength=\"40\" x=\"186\" y=\"72.1387\">«part»</text><text fill=\"#000000\" font-family=\"sans-serif\" font-size=\"12\" lengthAdjust=\"spacingAndGlyphs\" textLength=\"20\" x=\"196\" y=\"86.1074\">f: A</text><line style=\"stroke: #A80036; stroke-width: 1.5;\" x1=\"160\" x2=\"226\" y1=\"93.9375\" y2=\"93.9375\"/></a><!--MD5=[09b614a08d8cba4a07c9adeb5e0fee81]\n",
       "class E3--><a href=\"psysml:cbed5230-ac88-4b7e-9b23-6ffd90d7c059\" target=\"_top\" title=\"psysml:cbed5230-ac88-4b7e-9b23-6ffd90d7c059\" xlink:actuate=\"onRequest\" xlink:href=\"psysml:cbed5230-ac88-4b7e-9b23-6ffd90d7c059\" xlink:show=\"new\" xlink:title=\"psysml:cbed5230-ac88-4b7e-9b23-6ffd90d7c059\" xlink:type=\"simple\"><rect fill=\"#FEFECE\" filter=\"url(#f1vi79iqcymwmv)\" height=\"69.6094\" id=\"E3\" style=\"stroke: #A80036; stroke-width: 1.5;\" width=\"40\" x=\"149\" y=\"194\"/><ellipse cx=\"164\" cy=\"210\" fill=\"#008000\" rx=\"11\" ry=\"11\" style=\"stroke: #A80036; stroke-width: 1.0;\"/><path d=\"M162.9063,210.375 L162.9063,214.0469 L164.5313,214.0469 Q165.7031,214.0469 166.1719,213.6563 Q166.6406,213.25 166.6406,212.25 Q166.6406,211.25 166.1406,210.8125 Q165.6563,210.375 164.5313,210.375 L162.9063,210.375 Z M162.9063,205.5469 L162.9063,208.4219 L164.5313,208.4219 Q165.4531,208.4219 165.8438,208.0938 Q166.25,207.75 166.25,207 Q166.25,206.2344 165.8438,205.8906 Q165.4375,205.5469 164.5313,205.5469 L162.9063,205.5469 Z M160.5313,203.5938 L164.5313,203.5938 Q166.5938,203.5938 167.6406,204.375 Q168.6875,205.1563 168.6875,206.7188 Q168.6875,207.9219 168.0625,208.5938 Q167.4531,209.2656 166.2656,209.375 Q167.6875,209.5156 168.4063,210.3281 Q169.125,211.1406 169.125,212.5938 Q169.125,214.3906 168.0469,215.2031 Q166.9688,216 164.5313,216 L160.5313,216 L160.5313,203.5938 Z \"/><text fill=\"#000000\" font-family=\"sans-serif\" font-size=\"12\" lengthAdjust=\"spacingAndGlyphs\" textLength=\"8\" x=\"178\" y=\"214.1543\">A</text><line style=\"stroke: #A80036; stroke-width: 1.5;\" x1=\"150\" x2=\"188\" y1=\"226\" y2=\"226\"/><text fill=\"#000000\" font-family=\"sans-serif\" font-size=\"11\" lengthAdjust=\"spacingAndGlyphs\" textLength=\"22\" x=\"155\" y=\"257.0151\">c: C</text><line style=\"stroke: #A80036; stroke-width: 1.0;\" x1=\"150\" x2=\"154\" y1=\"240.4023\" y2=\"240.4023\"/><text fill=\"#000000\" font-family=\"sans-serif\" font-size=\"11\" lengthAdjust=\"spacingAndGlyphs\" textLength=\"30\" x=\"154\" y=\"243.7104\">ports</text><line style=\"stroke: #A80036; stroke-width: 1.0;\" x1=\"184\" x2=\"188\" y1=\"240.4023\" y2=\"240.4023\"/></a><!--MD5=[ebbe1d658d1005bcc118a6aa81145e00]\n",
       "class E4--><a href=\"psysml:1e20eef8-b16d-4a20-93fc-2b015416e79a\" target=\"_top\" title=\"psysml:1e20eef8-b16d-4a20-93fc-2b015416e79a\" xlink:actuate=\"onRequest\" xlink:href=\"psysml:1e20eef8-b16d-4a20-93fc-2b015416e79a\" xlink:show=\"new\" xlink:title=\"psysml:1e20eef8-b16d-4a20-93fc-2b015416e79a\" xlink:type=\"simple\"><rect fill=\"#FEFECE\" filter=\"url(#f1vi79iqcymwmv)\" height=\"45.9375\" id=\"E4\" rx=\"10\" ry=\"10\" style=\"stroke: #A80036; stroke-width: 1.5;\" width=\"68\" x=\"108\" y=\"341\"/><ellipse cx=\"123\" cy=\"359.9688\" fill=\"#32CD32\" rx=\"11\" ry=\"11\" style=\"stroke: #A80036; stroke-width: 1.0;\"/><path d=\"M122.7969,355.6406 L122.7969,359.2656 L123.7969,359.2656 Q125,359.2656 125.4844,358.8594 Q125.9688,358.4531 125.9688,357.4531 Q125.9688,356.4531 125.4844,356.0469 Q125,355.6406 123.7969,355.6406 L122.7969,355.6406 Z M120.3438,353.5781 L123.7031,353.5781 Q126.2656,353.5781 127.3906,354.5 Q128.5156,355.4063 128.5156,357.4531 Q128.5156,359.5 127.3906,360.4219 Q126.2656,361.3281 123.7031,361.3281 L122.7969,361.3281 L122.7969,365.9688 L120.3438,365.9688 L120.3438,353.5781 Z \"/><text fill=\"#000000\" font-family=\"sans-serif\" font-size=\"12\" font-style=\"italic\" lengthAdjust=\"spacingAndGlyphs\" textLength=\"40\" x=\"135\" y=\"357.1387\">«part»</text><text fill=\"#000000\" font-family=\"sans-serif\" font-size=\"12\" lengthAdjust=\"spacingAndGlyphs\" textLength=\"24\" x=\"143\" y=\"371.1074\">b: B</text><line style=\"stroke: #A80036; stroke-width: 1.5;\" x1=\"109\" x2=\"175\" y1=\"378.9375\" y2=\"378.9375\"/></a><!--MD5=[60a26617385b1d2d0262a64233df1f8d]\n",
       "class E6--><a href=\"psysml:633af2d2-4d32-4996-ac04-a91fff2e720f\" target=\"_top\" title=\"psysml:633af2d2-4d32-4996-ac04-a91fff2e720f\" xlink:actuate=\"onRequest\" xlink:href=\"psysml:633af2d2-4d32-4996-ac04-a91fff2e720f\" xlink:show=\"new\" xlink:title=\"psysml:633af2d2-4d32-4996-ac04-a91fff2e720f\" xlink:type=\"simple\"><rect fill=\"#FEFECE\" filter=\"url(#f1vi79iqcymwmv)\" height=\"69.6094\" id=\"E6\" style=\"stroke: #A80036; stroke-width: 1.5;\" width=\"43\" x=\"100.5\" y=\"448\"/><ellipse cx=\"116.85\" cy=\"464\" fill=\"#008000\" rx=\"11\" ry=\"11\" style=\"stroke: #A80036; stroke-width: 1.0;\"/><path d=\"M115.7563,464.375 L115.7563,468.0469 L117.3813,468.0469 Q118.5531,468.0469 119.0219,467.6563 Q119.4906,467.25 119.4906,466.25 Q119.4906,465.25 118.9906,464.8125 Q118.5063,464.375 117.3813,464.375 L115.7563,464.375 Z M115.7563,459.5469 L115.7563,462.4219 L117.3813,462.4219 Q118.3031,462.4219 118.6938,462.0938 Q119.1,461.75 119.1,461 Q119.1,460.2344 118.6938,459.8906 Q118.2875,459.5469 117.3813,459.5469 L115.7563,459.5469 Z M113.3813,457.5938 L117.3813,457.5938 Q119.4438,457.5938 120.4906,458.375 Q121.5375,459.1563 121.5375,460.7188 Q121.5375,461.9219 120.9125,462.5938 Q120.3031,463.2656 119.1156,463.375 Q120.5375,463.5156 121.2563,464.3281 Q121.975,465.1406 121.975,466.5938 Q121.975,468.3906 120.8969,469.2031 Q119.8188,470 117.3813,470 L113.3813,470 L113.3813,457.5938 Z \"/><text fill=\"#000000\" font-family=\"sans-serif\" font-size=\"12\" lengthAdjust=\"spacingAndGlyphs\" textLength=\"8\" x=\"131.15\" y=\"468.1543\">B</text><line style=\"stroke: #A80036; stroke-width: 1.5;\" x1=\"101.5\" x2=\"142.5\" y1=\"480\" y2=\"480\"/><text fill=\"#000000\" font-family=\"sans-serif\" font-size=\"11\" lengthAdjust=\"spacingAndGlyphs\" textLength=\"31\" x=\"106.5\" y=\"511.0151\">x: ~C</text><line style=\"stroke: #A80036; stroke-width: 1.0;\" x1=\"101.5\" x2=\"107\" y1=\"494.4023\" y2=\"494.4023\"/><text fill=\"#000000\" font-family=\"sans-serif\" font-size=\"11\" lengthAdjust=\"spacingAndGlyphs\" textLength=\"30\" x=\"107\" y=\"497.7104\">ports</text><line style=\"stroke: #A80036; stroke-width: 1.0;\" x1=\"137\" x2=\"142.5\" y1=\"494.4023\" y2=\"494.4023\"/></a><!--MD5=[b9389687b975829384b498ac4b7476b2]\n",
       "class E8--><a href=\"psysml:adeac7a4-0c31-420e-b3fd-609062fb2f41\" target=\"_top\" title=\"psysml:adeac7a4-0c31-420e-b3fd-609062fb2f41\" xlink:actuate=\"onRequest\" xlink:href=\"psysml:adeac7a4-0c31-420e-b3fd-609062fb2f41\" xlink:show=\"new\" xlink:title=\"psysml:adeac7a4-0c31-420e-b3fd-609062fb2f41\" xlink:type=\"simple\"><rect fill=\"#FEFECE\" filter=\"url(#f1vi79iqcymwmv)\" height=\"45.9375\" id=\"E8\" rx=\"10\" ry=\"10\" style=\"stroke: #A80036; stroke-width: 1.5;\" width=\"68\" x=\"159\" y=\"582.5\"/><ellipse cx=\"174\" cy=\"601.4688\" fill=\"#32CD32\" rx=\"11\" ry=\"11\" style=\"stroke: #A80036; stroke-width: 1.0;\"/><path d=\"M173.7969,597.1406 L173.7969,600.7656 L174.7969,600.7656 Q176,600.7656 176.4844,600.3594 Q176.9688,599.9531 176.9688,598.9531 Q176.9688,597.9531 176.4844,597.5469 Q176,597.1406 174.7969,597.1406 L173.7969,597.1406 Z M171.3438,595.0781 L174.7031,595.0781 Q177.2656,595.0781 178.3906,596 Q179.5156,596.9063 179.5156,598.9531 Q179.5156,601 178.3906,601.9219 Q177.2656,602.8281 174.7031,602.8281 L173.7969,602.8281 L173.7969,607.4688 L171.3438,607.4688 L171.3438,595.0781 Z \"/><text fill=\"#000000\" font-family=\"sans-serif\" font-size=\"12\" font-style=\"italic\" lengthAdjust=\"spacingAndGlyphs\" textLength=\"40\" x=\"186\" y=\"598.6387\">«part»</text><text fill=\"#000000\" font-family=\"sans-serif\" font-size=\"12\" lengthAdjust=\"spacingAndGlyphs\" textLength=\"24\" x=\"194\" y=\"612.6074\">a: A</text><line style=\"stroke: #A80036; stroke-width: 1.5;\" x1=\"160\" x2=\"226\" y1=\"620.4375\" y2=\"620.4375\"/></a><!--MD5=[96f4274e9e20536e775497830990834d]\n",
       "class E10--><a href=\"psysml:19a0d075-dfec-4a25-8f91-7b5bd5520f32\" target=\"_top\" title=\"psysml:19a0d075-dfec-4a25-8f91-7b5bd5520f32\" xlink:actuate=\"onRequest\" xlink:href=\"psysml:19a0d075-dfec-4a25-8f91-7b5bd5520f32\" xlink:show=\"new\" xlink:title=\"psysml:19a0d075-dfec-4a25-8f91-7b5bd5520f32\" xlink:type=\"simple\"><rect fill=\"#FEFECE\" filter=\"url(#f1vi79iqcymwmv)\" height=\"75.5469\" id=\"E10\" style=\"stroke: #A80036; stroke-width: 1.5;\" width=\"92\" x=\"32\" y=\"41\"/><ellipse cx=\"47\" cy=\"59.9688\" fill=\"#A52A2A\" rx=\"11\" ry=\"11\" style=\"stroke: #A80036; stroke-width: 1.0;\"/><path d=\"M46.5938,55.7813 L46.5938,63.7656 L47.25,63.7656 Q48.6875,63.7656 49.2969,62.8594 Q49.9219,61.9375 49.9219,59.7656 Q49.9219,57.5938 49.2969,56.6875 Q48.6875,55.7813 47.25,55.7813 L46.5938,55.7813 Z M44.1406,53.5781 L46.7656,53.5781 Q49.7969,53.5781 51.125,55.0313 Q52.4688,56.4688 52.4688,59.7656 Q52.4688,63.0625 51.125,64.5156 Q49.7969,65.9688 46.7656,65.9688 L44.1406,65.9688 L44.1406,53.5781 Z \"/><text fill=\"#000000\" font-family=\"sans-serif\" font-size=\"12\" font-style=\"italic\" lengthAdjust=\"spacingAndGlyphs\" textLength=\"64\" x=\"59\" y=\"57.1387\">«port def»</text><text fill=\"#000000\" font-family=\"sans-serif\" font-size=\"12\" lengthAdjust=\"spacingAndGlyphs\" textLength=\"8\" x=\"87\" y=\"71.1074\">C</text><line style=\"stroke: #A80036; stroke-width: 1.5;\" x1=\"33\" x2=\"123\" y1=\"78.9375\" y2=\"78.9375\"/><text fill=\"#000000\" font-family=\"sans-serif\" font-size=\"11\" lengthAdjust=\"spacingAndGlyphs\" textLength=\"37\" x=\"38\" y=\"109.9526\">y: A, B</text><text fill=\"#000000\" font-family=\"sans-serif\" font-size=\"11\" font-weight=\"bold\" lengthAdjust=\"spacingAndGlyphs\" textLength=\"15\" x=\"79\" y=\"109.9526\">as</text><text fill=\"#000000\" font-family=\"sans-serif\" font-size=\"11\" lengthAdjust=\"spacingAndGlyphs\" textLength=\"12\" x=\"98\" y=\"109.9526\">z2</text><line style=\"stroke: #A80036; stroke-width: 1.0;\" x1=\"33\" x2=\"47\" y1=\"93.3398\" y2=\"93.3398\"/><text fill=\"#000000\" font-family=\"sans-serif\" font-size=\"11\" lengthAdjust=\"spacingAndGlyphs\" textLength=\"62\" x=\"47\" y=\"96.6479\">references</text><line style=\"stroke: #A80036; stroke-width: 1.0;\" x1=\"109\" x2=\"123\" y1=\"93.3398\" y2=\"93.3398\"/></a><a href=\"psysml:fcdcf065-90d4-4da1-8b43-4feb0ab4c03b\" target=\"_top\" title=\"psysml:fcdcf065-90d4-4da1-8b43-4feb0ab4c03b\" xlink:actuate=\"onRequest\" xlink:href=\"psysml:fcdcf065-90d4-4da1-8b43-4feb0ab4c03b\" xlink:show=\"new\" xlink:title=\"psysml:fcdcf065-90d4-4da1-8b43-4feb0ab4c03b\" xlink:type=\"simple\"><polygon fill=\"#FFFFFF\" filter=\"url(#f1vi79iqcymwmv)\" points=\"94,579,110,579,117,601.2969,124,601.2969,124,631.5938,94,631.5938,94,579\" style=\"stroke: #000000; stroke-width: 1.5;\"/><line style=\"stroke: #000000; stroke-width: 1.5;\" x1=\"94\" x2=\"117\" y1=\"601.2969\" y2=\"601.2969\"/><text fill=\"#000000\" font-family=\"sans-serif\" font-size=\"14\" font-weight=\"bold\" lengthAdjust=\"spacingAndGlyphs\" textLength=\"10\" x=\"98\" y=\"593.9951\">P</text></a><!--MD5=[2720a5a1f2c3fca2055b230370638851]\n",
       "link E2 to E3--><a href=\"psysml:1f32f64a-cd2f-48b1-a0ff-85d8f5396f29\" target=\"_top\" title=\"psysml:1f32f64a-cd2f-48b1-a0ff-85d8f5396f29\" xlink:actuate=\"onRequest\" xlink:href=\"psysml:1f32f64a-cd2f-48b1-a0ff-85d8f5396f29\" xlink:show=\"new\" xlink:title=\"psysml:1f32f64a-cd2f-48b1-a0ff-85d8f5396f29\" xlink:type=\"simple\"><path d=\"M189.41,102.16 C186.33,121.12 181.78,149.21 177.75,174.04 \" fill=\"none\" id=\"E2-&gt;E3\" style=\"stroke: #A80036; stroke-width: 1.0;\"/><polygon fill=\"#FFFFFF\" points=\"174.54,193.87,170.6701,173.9948,184.4897,176.2347,174.54,193.87\" style=\"stroke: #A80036; stroke-width: 1.0;\"/><ellipse cx=\"173.5563\" cy=\"168.6882\" fill=\"#A80036\" rx=\"2\" ry=\"2\" style=\"stroke: #A80036; stroke-width: 1.0;\"/><ellipse cx=\"183.4275\" cy=\"170.2882\" fill=\"#A80036\" rx=\"2\" ry=\"2\" style=\"stroke: #A80036; stroke-width: 1.0;\"/></a><!--MD5=[4672eba38e49728da53d11aeb285b987]\n",
       "reverse link E3 to E4--><a href=\"psysml:1e20eef8-b16d-4a20-93fc-2b015416e79a\" target=\"_top\" title=\"psysml:1e20eef8-b16d-4a20-93fc-2b015416e79a\" xlink:actuate=\"onRequest\" xlink:href=\"psysml:1e20eef8-b16d-4a20-93fc-2b015416e79a\" xlink:show=\"new\" xlink:title=\"psysml:1e20eef8-b16d-4a20-93fc-2b015416e79a\" xlink:type=\"simple\"><path d=\"M159.4,277.28 C155,298.98 149.98,323.67 146.47,340.96 \" fill=\"none\" id=\"E3&lt;-E4\" style=\"stroke: #A80036; stroke-width: 1.0;\"/><polygon fill=\"#A80036\" points=\"162.05,264.25,156.9367,269.3347,159.6637,276.0103,164.7769,270.9256,162.05,264.25\" style=\"stroke: #A80036; stroke-width: 1.0;\"/></a><!--MD5=[79568f1e445c3877b6a54524624ccc7d]\n",
       "link E4 to E6--><a href=\"psysml:97a379fd-51a7-461f-afe4-84a5f5da2292\" target=\"_top\" title=\"psysml:97a379fd-51a7-461f-afe4-84a5f5da2292\" xlink:actuate=\"onRequest\" xlink:href=\"psysml:97a379fd-51a7-461f-afe4-84a5f5da2292\" xlink:show=\"new\" xlink:title=\"psysml:97a379fd-51a7-461f-afe4-84a5f5da2292\" xlink:type=\"simple\"><path d=\"M138.24,387.01 C136.25,398.61 133.72,413.41 131.26,427.86 \" fill=\"none\" id=\"E4-&gt;E6\" style=\"stroke: #A80036; stroke-width: 1.0;\"/><polygon fill=\"#FFFFFF\" points=\"127.87,447.67,124.1589,427.7645,137.9603,430.1147,127.87,447.67\" style=\"stroke: #A80036; stroke-width: 1.0;\"/><ellipse cx=\"127.0874\" cy=\"422.4812\" fill=\"#A80036\" rx=\"2\" ry=\"2\" style=\"stroke: #A80036; stroke-width: 1.0;\"/><ellipse cx=\"136.9455\" cy=\"424.1599\" fill=\"#A80036\" rx=\"2\" ry=\"2\" style=\"stroke: #A80036; stroke-width: 1.0;\"/></a><!--MD5=[3f50a3473f1dfb74d3f76443e03635af]\n",
       "reverse link E6 to E7--><a href=\"psysml:fcdcf065-90d4-4da1-8b43-4feb0ab4c03b\" target=\"_top\" title=\"psysml:fcdcf065-90d4-4da1-8b43-4feb0ab4c03b\" xlink:actuate=\"onRequest\" xlink:href=\"psysml:fcdcf065-90d4-4da1-8b43-4feb0ab4c03b\" xlink:show=\"new\" xlink:title=\"psysml:fcdcf065-90d4-4da1-8b43-4feb0ab4c03b\" xlink:type=\"simple\"><path d=\"M116.68,533.27 C115.01,548.83 113.22,565.4 111.79,578.64 \" fill=\"none\" id=\"E6&lt;-E7\" style=\"stroke: #A80036; stroke-width: 1.0;\"/><ellipse cx=\"117.4567\" cy=\"526.1644\" fill=\"#FFFFFF\" rx=\"8\" ry=\"8\" style=\"stroke: #A80036; stroke-width: 1.0;\"/><line style=\"stroke: #A80036; stroke-width: 1.0;\" x1=\"116.6033\" x2=\"118.31\" y1=\"534.1187\" y2=\"518.21\"/><line style=\"stroke: #A80036; stroke-width: 1.0;\" x1=\"109.5023\" x2=\"125.411\" y1=\"525.311\" y2=\"527.0177\"/></a><!--MD5=[95fa686b5a16158bcdbcaeead89f639b]\n",
       "link E8 to E3--><a href=\"psysml:c8b02122-2142-456b-8199-9bf99e52168e\" target=\"_top\" title=\"psysml:c8b02122-2142-456b-8199-9bf99e52168e\" xlink:actuate=\"onRequest\" xlink:href=\"psysml:c8b02122-2142-456b-8199-9bf99e52168e\" xlink:show=\"new\" xlink:title=\"psysml:c8b02122-2142-456b-8199-9bf99e52168e\" xlink:type=\"simple\"><path d=\"M194.8,582.2 C198.09,536.68 203.89,429.89 194,341 C191.9,322.13 187.85,301.78 183.62,283.73 \" fill=\"none\" id=\"E8-&gt;E3\" style=\"stroke: #A80036; stroke-width: 1.0;\"/><polygon fill=\"#FFFFFF\" points=\"178.76,264.17,190.1301,280.9247,176.5423,284.2966,178.76,264.17\" style=\"stroke: #A80036; stroke-width: 1.0;\"/><ellipse cx=\"189.5619\" cy=\"286.9386\" fill=\"#A80036\" rx=\"2\" ry=\"2\" style=\"stroke: #A80036; stroke-width: 1.0;\"/><ellipse cx=\"179.8563\" cy=\"289.3471\" fill=\"#A80036\" rx=\"2\" ry=\"2\" style=\"stroke: #A80036; stroke-width: 1.0;\"/></a><!--MD5=[f4cf0736d43fd73c4ef68817c49d37d5]\n",
       "reverse link E6 to E8--><a href=\"psysml:adeac7a4-0c31-420e-b3fd-609062fb2f41\" target=\"_top\" title=\"psysml:adeac7a4-0c31-420e-b3fd-609062fb2f41\" xlink:actuate=\"onRequest\" xlink:href=\"psysml:adeac7a4-0c31-420e-b3fd-609062fb2f41\" xlink:show=\"new\" xlink:title=\"psysml:adeac7a4-0c31-420e-b3fd-609062fb2f41\" xlink:type=\"simple\"><path d=\"M148.79,529.47 C159.46,547.58 171.25,567.58 179.97,582.38 \" fill=\"none\" id=\"E6&lt;-E8\" style=\"stroke: #A80036; stroke-width: 1.0;\"/><polygon fill=\"#A80036\" points=\"142.16,518.21,141.76,525.41,148.2523,528.5485,148.6523,521.3485,142.16,518.21\" style=\"stroke: #A80036; stroke-width: 1.0;\"/></a><!--MD5=[8e04057e7b3cbc0dca4fc78ea351e2da]\n",
       "reverse link E10 to E3--><a href=\"psysml:4b320237-d900-4f83-8ac2-28b55b9df163\" target=\"_top\" title=\"psysml:4b320237-d900-4f83-8ac2-28b55b9df163\" xlink:actuate=\"onRequest\" xlink:href=\"psysml:4b320237-d900-4f83-8ac2-28b55b9df163\" xlink:show=\"new\" xlink:title=\"psysml:4b320237-d900-4f83-8ac2-28b55b9df163\" xlink:type=\"simple\"><path d=\"M107.78,128.43 C121.23,150.31 136.77,175.59 148.83,195.2 \" fill=\"none\" id=\"E10&lt;-E3\" style=\"stroke: #A80036; stroke-width: 1.0;\"/><polygon fill=\"#FFFFFF\" points=\"100.96,117.35,100.6917,124.5561,107.2403,127.5753,107.5086,120.3692,100.96,117.35\" style=\"stroke: #A80036; stroke-width: 1.0;\"/><text fill=\"#000000\" font-family=\"sans-serif\" font-size=\"13\" lengthAdjust=\"spacingAndGlyphs\" textLength=\"7\" x=\"129\" y=\"160.0669\">y</text></a><!--MD5=[604cbf994c02b74b117f728a71673cea]\n",
       "reverse link E10 to E6--><a href=\"psysml:4b320237-d900-4f83-8ac2-28b55b9df163\" target=\"_top\" title=\"psysml:4b320237-d900-4f83-8ac2-28b55b9df163\" xlink:actuate=\"onRequest\" xlink:href=\"psysml:4b320237-d900-4f83-8ac2-28b55b9df163\" xlink:show=\"new\" xlink:title=\"psysml:4b320237-d900-4f83-8ac2-28b55b9df163\" xlink:type=\"simple\"><path d=\"M75.96,130.3 C74.43,191.49 74.85,297.69 91,387 C94.73,407.66 101.86,430.01 108.35,447.84 \" fill=\"none\" id=\"E10&lt;-E6\" style=\"stroke: #A80036; stroke-width: 1.0;\"/><polygon fill=\"#FFFFFF\" points=\"76.33,117.22,72.1603,123.1033,75.9873,129.2151,80.157,123.3318,76.33,117.22\" style=\"stroke: #A80036; stroke-width: 1.0;\"/><text fill=\"#000000\" font-family=\"sans-serif\" font-size=\"13\" lengthAdjust=\"spacingAndGlyphs\" textLength=\"7\" x=\"81\" y=\"307.0669\">y</text></a><!--MD5=[bfa5699603653992fc4cd0a867f2fe18]\n",
       "@startuml\r\n",
       " \r\n",
       "package \"BlockTest\" as E1  [[psysml:c0b99535-16c1-47cf-a8d5-3f20b133a54a ]]  {\r\n",
       "comp usage \"f: A\" as E2  << (P,limegreen) part>> [[psysml:20852434-d7cc-411e-aa3b-cae286a1f6f8 ]] {\r\n",
       "}\r\n",
       "comp def \"A\" as E3  << (B,green) >> [[psysml:cbed5230-ac88-4b7e-9b23-6ffd90d7c059 ]] {\r\n",
       "- - ports - -\r\n",
       "c: C\r\n",
       "}\r\n",
       "comp usage \"b: B\" as E4  << (P,limegreen) part>> [[psysml:1e20eef8-b16d-4a20-93fc-2b015416e79a ]] {\r\n",
       "}\r\n",
       "comp def \"B\" as E6  << (B,green) >> [[psysml:633af2d2-4d32-4996-ac04-a91fff2e720f ]] {\r\n",
       "- - ports - -\r\n",
       "x: ~C\r\n",
       "}\r\n",
       "package \"P\" as E7  [[psysml:fcdcf065-90d4-4da1-8b43-4feb0ab4c03b ]]  {\r\n",
       "}\r\n",
       "comp usage \"a: A\" as E8  << (P,limegreen) part>> [[psysml:adeac7a4-0c31-420e-b3fd-609062fb2f41 ]] {\r\n",
       "}\r\n",
       "comp def \"C\" as E10  <<(D,brown)port def>> [[psysml:19a0d075-dfec-4a25-8f91-7b5bd5520f32 ]] {\r\n",
       "- - references - -\r\n",
       "y: A, B <b>as</b> z2 \r\n",
       "}\r\n",
       "E2 - -:|> E3 [[psysml:1f32f64a-cd2f-48b1-a0ff-85d8f5396f29 ]] \r\n",
       "E3 *- - E4 [[psysml:1e20eef8-b16d-4a20-93fc-2b015416e79a ]] \r\n",
       "E4 - -:|> E6 [[psysml:97a379fd-51a7-461f-afe4-84a5f5da2292 ]] \r\n",
       "E6 +- - E7 [[psysml:fcdcf065-90d4-4da1-8b43-4feb0ab4c03b ]] \r\n",
       "E8 - -:|> E3 [[psysml:c8b02122-2142-456b-8199-9bf99e52168e ]] \r\n",
       "E6 *- - E8 [[psysml:adeac7a4-0c31-420e-b3fd-609062fb2f41 ]] \r\n",
       "E10 o- - E3 [[psysml:4b320237-d900-4f83-8ac2-28b55b9df163 ]] : y\r\n",
       "E10 o- - E6 [[psysml:4b320237-d900-4f83-8ac2-28b55b9df163 ]] : y\r\n",
       "}\r\n",
       "@enduml\r\n",
       "\n",
       "PlantUML version 1.2020.13(Sat Jun 13 12:26:38 UTC 2020)\n",
       "(EPL source distribution)\n",
       "Java Runtime: OpenJDK Runtime Environment\n",
       "JVM: OpenJDK 64-Bit Server VM\n",
       "Default Encoding: UTF-8\n",
       "Language: en\n",
       "Country: null\n",
       "--></g></svg>"
      ]
     },
     "execution_count": 35,
     "metadata": {},
     "output_type": "execute_result"
    }
   ],
   "source": [
    "%viz --style=\"PLANTUML\" --view=\"Sequence\" \"BlockTest\""
   ]
  },
  {
   "cell_type": "code",
   "execution_count": 36,
   "id": "designed-extent",
   "metadata": {
    "execution": {
     "iopub.execute_input": "2021-03-25T14:59:59.760732Z",
     "iopub.status.busy": "2021-03-25T14:59:59.758185Z",
     "iopub.status.idle": "2021-03-25T15:00:00.457960Z",
     "shell.execute_reply": "2021-03-25T15:00:00.456219Z"
    }
   },
   "outputs": [
    {
     "data": {
      "image/svg+xml": [
       "<?xml version=\"1.0\" encoding=\"UTF-8\" standalone=\"no\"?><svg xmlns=\"http://www.w3.org/2000/svg\" xmlns:xlink=\"http://www.w3.org/1999/xlink\" contentScriptType=\"application/ecmascript\" contentStyleType=\"text/css\" height=\"660px\" preserveAspectRatio=\"none\" style=\"width:265px;height:660px;\" version=\"1.1\" viewBox=\"0 0 265 660\" width=\"265px\" zoomAndPan=\"magnify\"><defs><filter height=\"300%\" id=\"f1vi79iqcymwmv\" width=\"300%\" x=\"-1\" y=\"-1\"><feGaussianBlur result=\"blurOut\" stdDeviation=\"2.0\"/><feColorMatrix in=\"blurOut\" result=\"blurOut2\" type=\"matrix\" values=\"0 0 0 0 0 0 0 0 0 0 0 0 0 0 0 0 0 0 .4 0\"/><feOffset dx=\"4.0\" dy=\"4.0\" in=\"blurOut2\" result=\"blurOut3\"/><feBlend in=\"SourceGraphic\" in2=\"blurOut3\" mode=\"normal\"/></filter></defs><g><!--MD5=[fbc87193dbaf4d95561dea2c320d4a47]\n",
       "cluster E1--><a href=\"psysml:c0b99535-16c1-47cf-a8d5-3f20b133a54a\" target=\"_top\" title=\"psysml:c0b99535-16c1-47cf-a8d5-3f20b133a54a\" xlink:actuate=\"onRequest\" xlink:href=\"psysml:c0b99535-16c1-47cf-a8d5-3f20b133a54a\" xlink:show=\"new\" xlink:title=\"psysml:c0b99535-16c1-47cf-a8d5-3f20b133a54a\" xlink:type=\"simple\"><polygon fill=\"#FFFFFF\" filter=\"url(#f1vi79iqcymwmv)\" points=\"16,6,99,6,106,28.2969,243,28.2969,243,648,16,648,16,6\" style=\"stroke: #000000; stroke-width: 1.5;\"/><line style=\"stroke: #000000; stroke-width: 1.5;\" x1=\"16\" x2=\"106\" y1=\"28.2969\" y2=\"28.2969\"/><text fill=\"#000000\" font-family=\"sans-serif\" font-size=\"14\" font-weight=\"bold\" lengthAdjust=\"spacingAndGlyphs\" textLength=\"77\" x=\"20\" y=\"20.9951\">BlockTest</text></a><!--MD5=[b4997ac47864f28c2f74865a473b2911]\n",
       "class E2--><a href=\"psysml:20852434-d7cc-411e-aa3b-cae286a1f6f8\" target=\"_top\" title=\"psysml:20852434-d7cc-411e-aa3b-cae286a1f6f8\" xlink:actuate=\"onRequest\" xlink:href=\"psysml:20852434-d7cc-411e-aa3b-cae286a1f6f8\" xlink:show=\"new\" xlink:title=\"psysml:20852434-d7cc-411e-aa3b-cae286a1f6f8\" xlink:type=\"simple\"><rect fill=\"#FEFECE\" filter=\"url(#f1vi79iqcymwmv)\" height=\"45.9375\" id=\"E2\" rx=\"10\" ry=\"10\" style=\"stroke: #A80036; stroke-width: 1.5;\" width=\"68\" x=\"159\" y=\"56\"/><ellipse cx=\"174\" cy=\"74.9688\" fill=\"#32CD32\" rx=\"11\" ry=\"11\" style=\"stroke: #A80036; stroke-width: 1.0;\"/><path d=\"M173.7969,70.6406 L173.7969,74.2656 L174.7969,74.2656 Q176,74.2656 176.4844,73.8594 Q176.9688,73.4531 176.9688,72.4531 Q176.9688,71.4531 176.4844,71.0469 Q176,70.6406 174.7969,70.6406 L173.7969,70.6406 Z M171.3438,68.5781 L174.7031,68.5781 Q177.2656,68.5781 178.3906,69.5 Q179.5156,70.4063 179.5156,72.4531 Q179.5156,74.5 178.3906,75.4219 Q177.2656,76.3281 174.7031,76.3281 L173.7969,76.3281 L173.7969,80.9688 L171.3438,80.9688 L171.3438,68.5781 Z \"/><text fill=\"#000000\" font-family=\"sans-serif\" font-size=\"12\" font-style=\"italic\" lengthAdjust=\"spacingAndGlyphs\" textLength=\"40\" x=\"186\" y=\"72.1387\">«part»</text><text fill=\"#000000\" font-family=\"sans-serif\" font-size=\"12\" lengthAdjust=\"spacingAndGlyphs\" textLength=\"20\" x=\"196\" y=\"86.1074\">f: A</text><line style=\"stroke: #A80036; stroke-width: 1.5;\" x1=\"160\" x2=\"226\" y1=\"93.9375\" y2=\"93.9375\"/></a><!--MD5=[09b614a08d8cba4a07c9adeb5e0fee81]\n",
       "class E3--><a href=\"psysml:cbed5230-ac88-4b7e-9b23-6ffd90d7c059\" target=\"_top\" title=\"psysml:cbed5230-ac88-4b7e-9b23-6ffd90d7c059\" xlink:actuate=\"onRequest\" xlink:href=\"psysml:cbed5230-ac88-4b7e-9b23-6ffd90d7c059\" xlink:show=\"new\" xlink:title=\"psysml:cbed5230-ac88-4b7e-9b23-6ffd90d7c059\" xlink:type=\"simple\"><rect fill=\"#FEFECE\" filter=\"url(#f1vi79iqcymwmv)\" height=\"69.6094\" id=\"E3\" style=\"stroke: #A80036; stroke-width: 1.5;\" width=\"40\" x=\"149\" y=\"194\"/><ellipse cx=\"164\" cy=\"210\" fill=\"#008000\" rx=\"11\" ry=\"11\" style=\"stroke: #A80036; stroke-width: 1.0;\"/><path d=\"M162.9063,210.375 L162.9063,214.0469 L164.5313,214.0469 Q165.7031,214.0469 166.1719,213.6563 Q166.6406,213.25 166.6406,212.25 Q166.6406,211.25 166.1406,210.8125 Q165.6563,210.375 164.5313,210.375 L162.9063,210.375 Z M162.9063,205.5469 L162.9063,208.4219 L164.5313,208.4219 Q165.4531,208.4219 165.8438,208.0938 Q166.25,207.75 166.25,207 Q166.25,206.2344 165.8438,205.8906 Q165.4375,205.5469 164.5313,205.5469 L162.9063,205.5469 Z M160.5313,203.5938 L164.5313,203.5938 Q166.5938,203.5938 167.6406,204.375 Q168.6875,205.1563 168.6875,206.7188 Q168.6875,207.9219 168.0625,208.5938 Q167.4531,209.2656 166.2656,209.375 Q167.6875,209.5156 168.4063,210.3281 Q169.125,211.1406 169.125,212.5938 Q169.125,214.3906 168.0469,215.2031 Q166.9688,216 164.5313,216 L160.5313,216 L160.5313,203.5938 Z \"/><text fill=\"#000000\" font-family=\"sans-serif\" font-size=\"12\" lengthAdjust=\"spacingAndGlyphs\" textLength=\"8\" x=\"178\" y=\"214.1543\">A</text><line style=\"stroke: #A80036; stroke-width: 1.5;\" x1=\"150\" x2=\"188\" y1=\"226\" y2=\"226\"/><text fill=\"#000000\" font-family=\"sans-serif\" font-size=\"11\" lengthAdjust=\"spacingAndGlyphs\" textLength=\"22\" x=\"155\" y=\"257.0151\">c: C</text><line style=\"stroke: #A80036; stroke-width: 1.0;\" x1=\"150\" x2=\"154\" y1=\"240.4023\" y2=\"240.4023\"/><text fill=\"#000000\" font-family=\"sans-serif\" font-size=\"11\" lengthAdjust=\"spacingAndGlyphs\" textLength=\"30\" x=\"154\" y=\"243.7104\">ports</text><line style=\"stroke: #A80036; stroke-width: 1.0;\" x1=\"184\" x2=\"188\" y1=\"240.4023\" y2=\"240.4023\"/></a><!--MD5=[ebbe1d658d1005bcc118a6aa81145e00]\n",
       "class E4--><a href=\"psysml:1e20eef8-b16d-4a20-93fc-2b015416e79a\" target=\"_top\" title=\"psysml:1e20eef8-b16d-4a20-93fc-2b015416e79a\" xlink:actuate=\"onRequest\" xlink:href=\"psysml:1e20eef8-b16d-4a20-93fc-2b015416e79a\" xlink:show=\"new\" xlink:title=\"psysml:1e20eef8-b16d-4a20-93fc-2b015416e79a\" xlink:type=\"simple\"><rect fill=\"#FEFECE\" filter=\"url(#f1vi79iqcymwmv)\" height=\"45.9375\" id=\"E4\" rx=\"10\" ry=\"10\" style=\"stroke: #A80036; stroke-width: 1.5;\" width=\"68\" x=\"108\" y=\"341\"/><ellipse cx=\"123\" cy=\"359.9688\" fill=\"#32CD32\" rx=\"11\" ry=\"11\" style=\"stroke: #A80036; stroke-width: 1.0;\"/><path d=\"M122.7969,355.6406 L122.7969,359.2656 L123.7969,359.2656 Q125,359.2656 125.4844,358.8594 Q125.9688,358.4531 125.9688,357.4531 Q125.9688,356.4531 125.4844,356.0469 Q125,355.6406 123.7969,355.6406 L122.7969,355.6406 Z M120.3438,353.5781 L123.7031,353.5781 Q126.2656,353.5781 127.3906,354.5 Q128.5156,355.4063 128.5156,357.4531 Q128.5156,359.5 127.3906,360.4219 Q126.2656,361.3281 123.7031,361.3281 L122.7969,361.3281 L122.7969,365.9688 L120.3438,365.9688 L120.3438,353.5781 Z \"/><text fill=\"#000000\" font-family=\"sans-serif\" font-size=\"12\" font-style=\"italic\" lengthAdjust=\"spacingAndGlyphs\" textLength=\"40\" x=\"135\" y=\"357.1387\">«part»</text><text fill=\"#000000\" font-family=\"sans-serif\" font-size=\"12\" lengthAdjust=\"spacingAndGlyphs\" textLength=\"24\" x=\"143\" y=\"371.1074\">b: B</text><line style=\"stroke: #A80036; stroke-width: 1.5;\" x1=\"109\" x2=\"175\" y1=\"378.9375\" y2=\"378.9375\"/></a><!--MD5=[60a26617385b1d2d0262a64233df1f8d]\n",
       "class E6--><a href=\"psysml:633af2d2-4d32-4996-ac04-a91fff2e720f\" target=\"_top\" title=\"psysml:633af2d2-4d32-4996-ac04-a91fff2e720f\" xlink:actuate=\"onRequest\" xlink:href=\"psysml:633af2d2-4d32-4996-ac04-a91fff2e720f\" xlink:show=\"new\" xlink:title=\"psysml:633af2d2-4d32-4996-ac04-a91fff2e720f\" xlink:type=\"simple\"><rect fill=\"#FEFECE\" filter=\"url(#f1vi79iqcymwmv)\" height=\"69.6094\" id=\"E6\" style=\"stroke: #A80036; stroke-width: 1.5;\" width=\"43\" x=\"100.5\" y=\"448\"/><ellipse cx=\"116.85\" cy=\"464\" fill=\"#008000\" rx=\"11\" ry=\"11\" style=\"stroke: #A80036; stroke-width: 1.0;\"/><path d=\"M115.7563,464.375 L115.7563,468.0469 L117.3813,468.0469 Q118.5531,468.0469 119.0219,467.6563 Q119.4906,467.25 119.4906,466.25 Q119.4906,465.25 118.9906,464.8125 Q118.5063,464.375 117.3813,464.375 L115.7563,464.375 Z M115.7563,459.5469 L115.7563,462.4219 L117.3813,462.4219 Q118.3031,462.4219 118.6938,462.0938 Q119.1,461.75 119.1,461 Q119.1,460.2344 118.6938,459.8906 Q118.2875,459.5469 117.3813,459.5469 L115.7563,459.5469 Z M113.3813,457.5938 L117.3813,457.5938 Q119.4438,457.5938 120.4906,458.375 Q121.5375,459.1563 121.5375,460.7188 Q121.5375,461.9219 120.9125,462.5938 Q120.3031,463.2656 119.1156,463.375 Q120.5375,463.5156 121.2563,464.3281 Q121.975,465.1406 121.975,466.5938 Q121.975,468.3906 120.8969,469.2031 Q119.8188,470 117.3813,470 L113.3813,470 L113.3813,457.5938 Z \"/><text fill=\"#000000\" font-family=\"sans-serif\" font-size=\"12\" lengthAdjust=\"spacingAndGlyphs\" textLength=\"8\" x=\"131.15\" y=\"468.1543\">B</text><line style=\"stroke: #A80036; stroke-width: 1.5;\" x1=\"101.5\" x2=\"142.5\" y1=\"480\" y2=\"480\"/><text fill=\"#000000\" font-family=\"sans-serif\" font-size=\"11\" lengthAdjust=\"spacingAndGlyphs\" textLength=\"31\" x=\"106.5\" y=\"511.0151\">x: ~C</text><line style=\"stroke: #A80036; stroke-width: 1.0;\" x1=\"101.5\" x2=\"107\" y1=\"494.4023\" y2=\"494.4023\"/><text fill=\"#000000\" font-family=\"sans-serif\" font-size=\"11\" lengthAdjust=\"spacingAndGlyphs\" textLength=\"30\" x=\"107\" y=\"497.7104\">ports</text><line style=\"stroke: #A80036; stroke-width: 1.0;\" x1=\"137\" x2=\"142.5\" y1=\"494.4023\" y2=\"494.4023\"/></a><!--MD5=[b9389687b975829384b498ac4b7476b2]\n",
       "class E8--><a href=\"psysml:adeac7a4-0c31-420e-b3fd-609062fb2f41\" target=\"_top\" title=\"psysml:adeac7a4-0c31-420e-b3fd-609062fb2f41\" xlink:actuate=\"onRequest\" xlink:href=\"psysml:adeac7a4-0c31-420e-b3fd-609062fb2f41\" xlink:show=\"new\" xlink:title=\"psysml:adeac7a4-0c31-420e-b3fd-609062fb2f41\" xlink:type=\"simple\"><rect fill=\"#FEFECE\" filter=\"url(#f1vi79iqcymwmv)\" height=\"45.9375\" id=\"E8\" rx=\"10\" ry=\"10\" style=\"stroke: #A80036; stroke-width: 1.5;\" width=\"68\" x=\"159\" y=\"582.5\"/><ellipse cx=\"174\" cy=\"601.4688\" fill=\"#32CD32\" rx=\"11\" ry=\"11\" style=\"stroke: #A80036; stroke-width: 1.0;\"/><path d=\"M173.7969,597.1406 L173.7969,600.7656 L174.7969,600.7656 Q176,600.7656 176.4844,600.3594 Q176.9688,599.9531 176.9688,598.9531 Q176.9688,597.9531 176.4844,597.5469 Q176,597.1406 174.7969,597.1406 L173.7969,597.1406 Z M171.3438,595.0781 L174.7031,595.0781 Q177.2656,595.0781 178.3906,596 Q179.5156,596.9063 179.5156,598.9531 Q179.5156,601 178.3906,601.9219 Q177.2656,602.8281 174.7031,602.8281 L173.7969,602.8281 L173.7969,607.4688 L171.3438,607.4688 L171.3438,595.0781 Z \"/><text fill=\"#000000\" font-family=\"sans-serif\" font-size=\"12\" font-style=\"italic\" lengthAdjust=\"spacingAndGlyphs\" textLength=\"40\" x=\"186\" y=\"598.6387\">«part»</text><text fill=\"#000000\" font-family=\"sans-serif\" font-size=\"12\" lengthAdjust=\"spacingAndGlyphs\" textLength=\"24\" x=\"194\" y=\"612.6074\">a: A</text><line style=\"stroke: #A80036; stroke-width: 1.5;\" x1=\"160\" x2=\"226\" y1=\"620.4375\" y2=\"620.4375\"/></a><!--MD5=[96f4274e9e20536e775497830990834d]\n",
       "class E10--><a href=\"psysml:19a0d075-dfec-4a25-8f91-7b5bd5520f32\" target=\"_top\" title=\"psysml:19a0d075-dfec-4a25-8f91-7b5bd5520f32\" xlink:actuate=\"onRequest\" xlink:href=\"psysml:19a0d075-dfec-4a25-8f91-7b5bd5520f32\" xlink:show=\"new\" xlink:title=\"psysml:19a0d075-dfec-4a25-8f91-7b5bd5520f32\" xlink:type=\"simple\"><rect fill=\"#FEFECE\" filter=\"url(#f1vi79iqcymwmv)\" height=\"75.5469\" id=\"E10\" style=\"stroke: #A80036; stroke-width: 1.5;\" width=\"92\" x=\"32\" y=\"41\"/><ellipse cx=\"47\" cy=\"59.9688\" fill=\"#A52A2A\" rx=\"11\" ry=\"11\" style=\"stroke: #A80036; stroke-width: 1.0;\"/><path d=\"M46.5938,55.7813 L46.5938,63.7656 L47.25,63.7656 Q48.6875,63.7656 49.2969,62.8594 Q49.9219,61.9375 49.9219,59.7656 Q49.9219,57.5938 49.2969,56.6875 Q48.6875,55.7813 47.25,55.7813 L46.5938,55.7813 Z M44.1406,53.5781 L46.7656,53.5781 Q49.7969,53.5781 51.125,55.0313 Q52.4688,56.4688 52.4688,59.7656 Q52.4688,63.0625 51.125,64.5156 Q49.7969,65.9688 46.7656,65.9688 L44.1406,65.9688 L44.1406,53.5781 Z \"/><text fill=\"#000000\" font-family=\"sans-serif\" font-size=\"12\" font-style=\"italic\" lengthAdjust=\"spacingAndGlyphs\" textLength=\"64\" x=\"59\" y=\"57.1387\">«port def»</text><text fill=\"#000000\" font-family=\"sans-serif\" font-size=\"12\" lengthAdjust=\"spacingAndGlyphs\" textLength=\"8\" x=\"87\" y=\"71.1074\">C</text><line style=\"stroke: #A80036; stroke-width: 1.5;\" x1=\"33\" x2=\"123\" y1=\"78.9375\" y2=\"78.9375\"/><text fill=\"#000000\" font-family=\"sans-serif\" font-size=\"11\" lengthAdjust=\"spacingAndGlyphs\" textLength=\"37\" x=\"38\" y=\"109.9526\">y: A, B</text><text fill=\"#000000\" font-family=\"sans-serif\" font-size=\"11\" font-weight=\"bold\" lengthAdjust=\"spacingAndGlyphs\" textLength=\"15\" x=\"79\" y=\"109.9526\">as</text><text fill=\"#000000\" font-family=\"sans-serif\" font-size=\"11\" lengthAdjust=\"spacingAndGlyphs\" textLength=\"12\" x=\"98\" y=\"109.9526\">z2</text><line style=\"stroke: #A80036; stroke-width: 1.0;\" x1=\"33\" x2=\"47\" y1=\"93.3398\" y2=\"93.3398\"/><text fill=\"#000000\" font-family=\"sans-serif\" font-size=\"11\" lengthAdjust=\"spacingAndGlyphs\" textLength=\"62\" x=\"47\" y=\"96.6479\">references</text><line style=\"stroke: #A80036; stroke-width: 1.0;\" x1=\"109\" x2=\"123\" y1=\"93.3398\" y2=\"93.3398\"/></a><a href=\"psysml:fcdcf065-90d4-4da1-8b43-4feb0ab4c03b\" target=\"_top\" title=\"psysml:fcdcf065-90d4-4da1-8b43-4feb0ab4c03b\" xlink:actuate=\"onRequest\" xlink:href=\"psysml:fcdcf065-90d4-4da1-8b43-4feb0ab4c03b\" xlink:show=\"new\" xlink:title=\"psysml:fcdcf065-90d4-4da1-8b43-4feb0ab4c03b\" xlink:type=\"simple\"><polygon fill=\"#FFFFFF\" filter=\"url(#f1vi79iqcymwmv)\" points=\"94,579,110,579,117,601.2969,124,601.2969,124,631.5938,94,631.5938,94,579\" style=\"stroke: #000000; stroke-width: 1.5;\"/><line style=\"stroke: #000000; stroke-width: 1.5;\" x1=\"94\" x2=\"117\" y1=\"601.2969\" y2=\"601.2969\"/><text fill=\"#000000\" font-family=\"sans-serif\" font-size=\"14\" font-weight=\"bold\" lengthAdjust=\"spacingAndGlyphs\" textLength=\"10\" x=\"98\" y=\"593.9951\">P</text></a><!--MD5=[2720a5a1f2c3fca2055b230370638851]\n",
       "link E2 to E3--><a href=\"psysml:1f32f64a-cd2f-48b1-a0ff-85d8f5396f29\" target=\"_top\" title=\"psysml:1f32f64a-cd2f-48b1-a0ff-85d8f5396f29\" xlink:actuate=\"onRequest\" xlink:href=\"psysml:1f32f64a-cd2f-48b1-a0ff-85d8f5396f29\" xlink:show=\"new\" xlink:title=\"psysml:1f32f64a-cd2f-48b1-a0ff-85d8f5396f29\" xlink:type=\"simple\"><path d=\"M189.41,102.16 C186.33,121.12 181.78,149.21 177.75,174.04 \" fill=\"none\" id=\"E2-&gt;E3\" style=\"stroke: #A80036; stroke-width: 1.0;\"/><polygon fill=\"#FFFFFF\" points=\"174.54,193.87,170.6701,173.9948,184.4897,176.2347,174.54,193.87\" style=\"stroke: #A80036; stroke-width: 1.0;\"/><ellipse cx=\"173.5563\" cy=\"168.6882\" fill=\"#A80036\" rx=\"2\" ry=\"2\" style=\"stroke: #A80036; stroke-width: 1.0;\"/><ellipse cx=\"183.4275\" cy=\"170.2882\" fill=\"#A80036\" rx=\"2\" ry=\"2\" style=\"stroke: #A80036; stroke-width: 1.0;\"/></a><!--MD5=[4672eba38e49728da53d11aeb285b987]\n",
       "reverse link E3 to E4--><a href=\"psysml:1e20eef8-b16d-4a20-93fc-2b015416e79a\" target=\"_top\" title=\"psysml:1e20eef8-b16d-4a20-93fc-2b015416e79a\" xlink:actuate=\"onRequest\" xlink:href=\"psysml:1e20eef8-b16d-4a20-93fc-2b015416e79a\" xlink:show=\"new\" xlink:title=\"psysml:1e20eef8-b16d-4a20-93fc-2b015416e79a\" xlink:type=\"simple\"><path d=\"M159.4,277.28 C155,298.98 149.98,323.67 146.47,340.96 \" fill=\"none\" id=\"E3&lt;-E4\" style=\"stroke: #A80036; stroke-width: 1.0;\"/><polygon fill=\"#A80036\" points=\"162.05,264.25,156.9367,269.3347,159.6637,276.0103,164.7769,270.9256,162.05,264.25\" style=\"stroke: #A80036; stroke-width: 1.0;\"/></a><!--MD5=[79568f1e445c3877b6a54524624ccc7d]\n",
       "link E4 to E6--><a href=\"psysml:97a379fd-51a7-461f-afe4-84a5f5da2292\" target=\"_top\" title=\"psysml:97a379fd-51a7-461f-afe4-84a5f5da2292\" xlink:actuate=\"onRequest\" xlink:href=\"psysml:97a379fd-51a7-461f-afe4-84a5f5da2292\" xlink:show=\"new\" xlink:title=\"psysml:97a379fd-51a7-461f-afe4-84a5f5da2292\" xlink:type=\"simple\"><path d=\"M138.24,387.01 C136.25,398.61 133.72,413.41 131.26,427.86 \" fill=\"none\" id=\"E4-&gt;E6\" style=\"stroke: #A80036; stroke-width: 1.0;\"/><polygon fill=\"#FFFFFF\" points=\"127.87,447.67,124.1589,427.7645,137.9603,430.1147,127.87,447.67\" style=\"stroke: #A80036; stroke-width: 1.0;\"/><ellipse cx=\"127.0874\" cy=\"422.4812\" fill=\"#A80036\" rx=\"2\" ry=\"2\" style=\"stroke: #A80036; stroke-width: 1.0;\"/><ellipse cx=\"136.9455\" cy=\"424.1599\" fill=\"#A80036\" rx=\"2\" ry=\"2\" style=\"stroke: #A80036; stroke-width: 1.0;\"/></a><!--MD5=[3f50a3473f1dfb74d3f76443e03635af]\n",
       "reverse link E6 to E7--><a href=\"psysml:fcdcf065-90d4-4da1-8b43-4feb0ab4c03b\" target=\"_top\" title=\"psysml:fcdcf065-90d4-4da1-8b43-4feb0ab4c03b\" xlink:actuate=\"onRequest\" xlink:href=\"psysml:fcdcf065-90d4-4da1-8b43-4feb0ab4c03b\" xlink:show=\"new\" xlink:title=\"psysml:fcdcf065-90d4-4da1-8b43-4feb0ab4c03b\" xlink:type=\"simple\"><path d=\"M116.68,533.27 C115.01,548.83 113.22,565.4 111.79,578.64 \" fill=\"none\" id=\"E6&lt;-E7\" style=\"stroke: #A80036; stroke-width: 1.0;\"/><ellipse cx=\"117.4567\" cy=\"526.1644\" fill=\"#FFFFFF\" rx=\"8\" ry=\"8\" style=\"stroke: #A80036; stroke-width: 1.0;\"/><line style=\"stroke: #A80036; stroke-width: 1.0;\" x1=\"116.6033\" x2=\"118.31\" y1=\"534.1187\" y2=\"518.21\"/><line style=\"stroke: #A80036; stroke-width: 1.0;\" x1=\"109.5023\" x2=\"125.411\" y1=\"525.311\" y2=\"527.0177\"/></a><!--MD5=[95fa686b5a16158bcdbcaeead89f639b]\n",
       "link E8 to E3--><a href=\"psysml:c8b02122-2142-456b-8199-9bf99e52168e\" target=\"_top\" title=\"psysml:c8b02122-2142-456b-8199-9bf99e52168e\" xlink:actuate=\"onRequest\" xlink:href=\"psysml:c8b02122-2142-456b-8199-9bf99e52168e\" xlink:show=\"new\" xlink:title=\"psysml:c8b02122-2142-456b-8199-9bf99e52168e\" xlink:type=\"simple\"><path d=\"M194.8,582.2 C198.09,536.68 203.89,429.89 194,341 C191.9,322.13 187.85,301.78 183.62,283.73 \" fill=\"none\" id=\"E8-&gt;E3\" style=\"stroke: #A80036; stroke-width: 1.0;\"/><polygon fill=\"#FFFFFF\" points=\"178.76,264.17,190.1301,280.9247,176.5423,284.2966,178.76,264.17\" style=\"stroke: #A80036; stroke-width: 1.0;\"/><ellipse cx=\"189.5619\" cy=\"286.9386\" fill=\"#A80036\" rx=\"2\" ry=\"2\" style=\"stroke: #A80036; stroke-width: 1.0;\"/><ellipse cx=\"179.8563\" cy=\"289.3471\" fill=\"#A80036\" rx=\"2\" ry=\"2\" style=\"stroke: #A80036; stroke-width: 1.0;\"/></a><!--MD5=[f4cf0736d43fd73c4ef68817c49d37d5]\n",
       "reverse link E6 to E8--><a href=\"psysml:adeac7a4-0c31-420e-b3fd-609062fb2f41\" target=\"_top\" title=\"psysml:adeac7a4-0c31-420e-b3fd-609062fb2f41\" xlink:actuate=\"onRequest\" xlink:href=\"psysml:adeac7a4-0c31-420e-b3fd-609062fb2f41\" xlink:show=\"new\" xlink:title=\"psysml:adeac7a4-0c31-420e-b3fd-609062fb2f41\" xlink:type=\"simple\"><path d=\"M148.79,529.47 C159.46,547.58 171.25,567.58 179.97,582.38 \" fill=\"none\" id=\"E6&lt;-E8\" style=\"stroke: #A80036; stroke-width: 1.0;\"/><polygon fill=\"#A80036\" points=\"142.16,518.21,141.76,525.41,148.2523,528.5485,148.6523,521.3485,142.16,518.21\" style=\"stroke: #A80036; stroke-width: 1.0;\"/></a><!--MD5=[8e04057e7b3cbc0dca4fc78ea351e2da]\n",
       "reverse link E10 to E3--><a href=\"psysml:4b320237-d900-4f83-8ac2-28b55b9df163\" target=\"_top\" title=\"psysml:4b320237-d900-4f83-8ac2-28b55b9df163\" xlink:actuate=\"onRequest\" xlink:href=\"psysml:4b320237-d900-4f83-8ac2-28b55b9df163\" xlink:show=\"new\" xlink:title=\"psysml:4b320237-d900-4f83-8ac2-28b55b9df163\" xlink:type=\"simple\"><path d=\"M107.78,128.43 C121.23,150.31 136.77,175.59 148.83,195.2 \" fill=\"none\" id=\"E10&lt;-E3\" style=\"stroke: #A80036; stroke-width: 1.0;\"/><polygon fill=\"#FFFFFF\" points=\"100.96,117.35,100.6917,124.5561,107.2403,127.5753,107.5086,120.3692,100.96,117.35\" style=\"stroke: #A80036; stroke-width: 1.0;\"/><text fill=\"#000000\" font-family=\"sans-serif\" font-size=\"13\" lengthAdjust=\"spacingAndGlyphs\" textLength=\"7\" x=\"129\" y=\"160.0669\">y</text></a><!--MD5=[604cbf994c02b74b117f728a71673cea]\n",
       "reverse link E10 to E6--><a href=\"psysml:4b320237-d900-4f83-8ac2-28b55b9df163\" target=\"_top\" title=\"psysml:4b320237-d900-4f83-8ac2-28b55b9df163\" xlink:actuate=\"onRequest\" xlink:href=\"psysml:4b320237-d900-4f83-8ac2-28b55b9df163\" xlink:show=\"new\" xlink:title=\"psysml:4b320237-d900-4f83-8ac2-28b55b9df163\" xlink:type=\"simple\"><path d=\"M75.96,130.3 C74.43,191.49 74.85,297.69 91,387 C94.73,407.66 101.86,430.01 108.35,447.84 \" fill=\"none\" id=\"E10&lt;-E6\" style=\"stroke: #A80036; stroke-width: 1.0;\"/><polygon fill=\"#FFFFFF\" points=\"76.33,117.22,72.1603,123.1033,75.9873,129.2151,80.157,123.3318,76.33,117.22\" style=\"stroke: #A80036; stroke-width: 1.0;\"/><text fill=\"#000000\" font-family=\"sans-serif\" font-size=\"13\" lengthAdjust=\"spacingAndGlyphs\" textLength=\"7\" x=\"81\" y=\"307.0669\">y</text></a><!--MD5=[bfa5699603653992fc4cd0a867f2fe18]\n",
       "@startuml\r\n",
       " \r\n",
       "package \"BlockTest\" as E1  [[psysml:c0b99535-16c1-47cf-a8d5-3f20b133a54a ]]  {\r\n",
       "comp usage \"f: A\" as E2  << (P,limegreen) part>> [[psysml:20852434-d7cc-411e-aa3b-cae286a1f6f8 ]] {\r\n",
       "}\r\n",
       "comp def \"A\" as E3  << (B,green) >> [[psysml:cbed5230-ac88-4b7e-9b23-6ffd90d7c059 ]] {\r\n",
       "- - ports - -\r\n",
       "c: C\r\n",
       "}\r\n",
       "comp usage \"b: B\" as E4  << (P,limegreen) part>> [[psysml:1e20eef8-b16d-4a20-93fc-2b015416e79a ]] {\r\n",
       "}\r\n",
       "comp def \"B\" as E6  << (B,green) >> [[psysml:633af2d2-4d32-4996-ac04-a91fff2e720f ]] {\r\n",
       "- - ports - -\r\n",
       "x: ~C\r\n",
       "}\r\n",
       "package \"P\" as E7  [[psysml:fcdcf065-90d4-4da1-8b43-4feb0ab4c03b ]]  {\r\n",
       "}\r\n",
       "comp usage \"a: A\" as E8  << (P,limegreen) part>> [[psysml:adeac7a4-0c31-420e-b3fd-609062fb2f41 ]] {\r\n",
       "}\r\n",
       "comp def \"C\" as E10  <<(D,brown)port def>> [[psysml:19a0d075-dfec-4a25-8f91-7b5bd5520f32 ]] {\r\n",
       "- - references - -\r\n",
       "y: A, B <b>as</b> z2 \r\n",
       "}\r\n",
       "E2 - -:|> E3 [[psysml:1f32f64a-cd2f-48b1-a0ff-85d8f5396f29 ]] \r\n",
       "E3 *- - E4 [[psysml:1e20eef8-b16d-4a20-93fc-2b015416e79a ]] \r\n",
       "E4 - -:|> E6 [[psysml:97a379fd-51a7-461f-afe4-84a5f5da2292 ]] \r\n",
       "E6 +- - E7 [[psysml:fcdcf065-90d4-4da1-8b43-4feb0ab4c03b ]] \r\n",
       "E8 - -:|> E3 [[psysml:c8b02122-2142-456b-8199-9bf99e52168e ]] \r\n",
       "E6 *- - E8 [[psysml:adeac7a4-0c31-420e-b3fd-609062fb2f41 ]] \r\n",
       "E10 o- - E3 [[psysml:4b320237-d900-4f83-8ac2-28b55b9df163 ]] : y\r\n",
       "E10 o- - E6 [[psysml:4b320237-d900-4f83-8ac2-28b55b9df163 ]] : y\r\n",
       "}\r\n",
       "@enduml\r\n",
       "\n",
       "PlantUML version 1.2020.13(Sat Jun 13 12:26:38 UTC 2020)\n",
       "(EPL source distribution)\n",
       "Java Runtime: OpenJDK Runtime Environment\n",
       "JVM: OpenJDK 64-Bit Server VM\n",
       "Default Encoding: UTF-8\n",
       "Language: en\n",
       "Country: null\n",
       "--></g></svg>"
      ]
     },
     "execution_count": 36,
     "metadata": {},
     "output_type": "execute_result"
    }
   ],
   "source": [
    "%viz --style=\"PLANTUML\" --view=\"MIXED\" \"BlockTest\""
   ]
  },
  {
   "cell_type": "code",
   "execution_count": 37,
   "id": "actual-brass",
   "metadata": {
    "execution": {
     "iopub.execute_input": "2021-03-25T15:00:00.499743Z",
     "iopub.status.busy": "2021-03-25T15:00:00.499248Z",
     "iopub.status.idle": "2021-03-25T15:00:01.159453Z",
     "shell.execute_reply": "2021-03-25T15:00:01.155653Z"
    }
   },
   "outputs": [
    {
     "data": {
      "image/svg+xml": [
       "<?xml version=\"1.0\" encoding=\"UTF-8\" standalone=\"no\"?><svg xmlns=\"http://www.w3.org/2000/svg\" xmlns:xlink=\"http://www.w3.org/1999/xlink\" contentScriptType=\"application/ecmascript\" contentStyleType=\"text/css\" height=\"672px\" preserveAspectRatio=\"none\" style=\"width:231px;height:672px;\" version=\"1.1\" viewBox=\"0 0 231 672\" width=\"231px\" zoomAndPan=\"magnify\"><defs/><g><!--MD5=[fbc87193dbaf4d95561dea2c320d4a47]\n",
       "cluster E1--><a href=\"psysml:c0b99535-16c1-47cf-a8d5-3f20b133a54a\" target=\"_top\" title=\"psysml:c0b99535-16c1-47cf-a8d5-3f20b133a54a\" xlink:actuate=\"onRequest\" xlink:href=\"psysml:c0b99535-16c1-47cf-a8d5-3f20b133a54a\" xlink:show=\"new\" xlink:title=\"psysml:c0b99535-16c1-47cf-a8d5-3f20b133a54a\" xlink:type=\"simple\"><polygon fill=\"#FFFFFF\" points=\"16,6,99,6,106,28.2969,209,28.2969,209,660,16,660,16,6\" style=\"stroke: #000000; stroke-width: 1.5;\"/><line style=\"stroke: #000000; stroke-width: 1.5;\" x1=\"16\" x2=\"106\" y1=\"28.2969\" y2=\"28.2969\"/><text fill=\"#000000\" font-family=\"sans-serif\" font-size=\"14\" font-weight=\"bold\" lengthAdjust=\"spacingAndGlyphs\" textLength=\"77\" x=\"20\" y=\"20.9951\">BlockTest</text></a><!--MD5=[b4997ac47864f28c2f74865a473b2911]\n",
       "class E2--><a href=\"psysml:20852434-d7cc-411e-aa3b-cae286a1f6f8\" target=\"_top\" title=\"psysml:20852434-d7cc-411e-aa3b-cae286a1f6f8\" xlink:actuate=\"onRequest\" xlink:href=\"psysml:20852434-d7cc-411e-aa3b-cae286a1f6f8\" xlink:show=\"new\" xlink:title=\"psysml:20852434-d7cc-411e-aa3b-cae286a1f6f8\" xlink:type=\"simple\"><rect fill=\"#FFFFFF\" height=\"45.9375\" id=\"E2\" rx=\"10\" ry=\"10\" style=\"stroke: #383838; stroke-width: 1.5;\" width=\"42\" x=\"151\" y=\"56\"/><text fill=\"#000000\" font-family=\"sans-serif\" font-size=\"12\" font-style=\"italic\" lengthAdjust=\"spacingAndGlyphs\" textLength=\"40\" x=\"152\" y=\"72.1387\">«part»</text><text fill=\"#000000\" font-family=\"sans-serif\" font-size=\"12\" lengthAdjust=\"spacingAndGlyphs\" textLength=\"20\" x=\"162\" y=\"86.1074\">f: A</text><line style=\"stroke: #383838; stroke-width: 1.5;\" x1=\"152\" x2=\"192\" y1=\"93.9375\" y2=\"93.9375\"/></a><!--MD5=[09b614a08d8cba4a07c9adeb5e0fee81]\n",
       "class E3--><a href=\"psysml:cbed5230-ac88-4b7e-9b23-6ffd90d7c059\" target=\"_top\" title=\"psysml:cbed5230-ac88-4b7e-9b23-6ffd90d7c059\" xlink:actuate=\"onRequest\" xlink:href=\"psysml:cbed5230-ac88-4b7e-9b23-6ffd90d7c059\" xlink:show=\"new\" xlink:title=\"psysml:cbed5230-ac88-4b7e-9b23-6ffd90d7c059\" xlink:type=\"simple\"><rect fill=\"#FFFFFF\" height=\"75.5469\" id=\"E3\" style=\"stroke: #383838; stroke-width: 1.5;\" width=\"66\" x=\"118\" y=\"194\"/><text fill=\"#000000\" font-family=\"sans-serif\" font-size=\"12\" font-style=\"italic\" lengthAdjust=\"spacingAndGlyphs\" textLength=\"64\" x=\"119\" y=\"210.1387\">«part def»</text><text fill=\"#000000\" font-family=\"sans-serif\" font-size=\"12\" lengthAdjust=\"spacingAndGlyphs\" textLength=\"8\" x=\"147\" y=\"224.1074\">A</text><line style=\"stroke: #383838; stroke-width: 1.5;\" x1=\"119\" x2=\"183\" y1=\"231.9375\" y2=\"231.9375\"/><text fill=\"#000000\" font-family=\"sans-serif\" font-size=\"11\" lengthAdjust=\"spacingAndGlyphs\" textLength=\"22\" x=\"124\" y=\"262.9526\">c: C</text><line style=\"stroke: #383838; stroke-width: 1.0;\" x1=\"119\" x2=\"136\" y1=\"246.3398\" y2=\"246.3398\"/><text fill=\"#000000\" font-family=\"sans-serif\" font-size=\"11\" lengthAdjust=\"spacingAndGlyphs\" textLength=\"30\" x=\"136\" y=\"249.6479\">ports</text><line style=\"stroke: #383838; stroke-width: 1.0;\" x1=\"166\" x2=\"183\" y1=\"246.3398\" y2=\"246.3398\"/></a><!--MD5=[ebbe1d658d1005bcc118a6aa81145e00]\n",
       "class E4--><a href=\"psysml:1e20eef8-b16d-4a20-93fc-2b015416e79a\" target=\"_top\" title=\"psysml:1e20eef8-b16d-4a20-93fc-2b015416e79a\" xlink:actuate=\"onRequest\" xlink:href=\"psysml:1e20eef8-b16d-4a20-93fc-2b015416e79a\" xlink:show=\"new\" xlink:title=\"psysml:1e20eef8-b16d-4a20-93fc-2b015416e79a\" xlink:type=\"simple\"><rect fill=\"#FFFFFF\" height=\"45.9375\" id=\"E4\" rx=\"10\" ry=\"10\" style=\"stroke: #383838; stroke-width: 1.5;\" width=\"42\" x=\"106\" y=\"347\"/><text fill=\"#000000\" font-family=\"sans-serif\" font-size=\"12\" font-style=\"italic\" lengthAdjust=\"spacingAndGlyphs\" textLength=\"40\" x=\"107\" y=\"363.1387\">«part»</text><text fill=\"#000000\" font-family=\"sans-serif\" font-size=\"12\" lengthAdjust=\"spacingAndGlyphs\" textLength=\"24\" x=\"115\" y=\"377.1074\">b: B</text><line style=\"stroke: #383838; stroke-width: 1.5;\" x1=\"107\" x2=\"147\" y1=\"384.9375\" y2=\"384.9375\"/></a><!--MD5=[60a26617385b1d2d0262a64233df1f8d]\n",
       "class E6--><a href=\"psysml:633af2d2-4d32-4996-ac04-a91fff2e720f\" target=\"_top\" title=\"psysml:633af2d2-4d32-4996-ac04-a91fff2e720f\" xlink:actuate=\"onRequest\" xlink:href=\"psysml:633af2d2-4d32-4996-ac04-a91fff2e720f\" xlink:show=\"new\" xlink:title=\"psysml:633af2d2-4d32-4996-ac04-a91fff2e720f\" xlink:type=\"simple\"><rect fill=\"#FFFFFF\" height=\"75.5469\" id=\"E6\" style=\"stroke: #383838; stroke-width: 1.5;\" width=\"66\" x=\"77\" y=\"454\"/><text fill=\"#000000\" font-family=\"sans-serif\" font-size=\"12\" font-style=\"italic\" lengthAdjust=\"spacingAndGlyphs\" textLength=\"64\" x=\"78\" y=\"470.1387\">«part def»</text><text fill=\"#000000\" font-family=\"sans-serif\" font-size=\"12\" lengthAdjust=\"spacingAndGlyphs\" textLength=\"8\" x=\"106\" y=\"484.1074\">B</text><line style=\"stroke: #383838; stroke-width: 1.5;\" x1=\"78\" x2=\"142\" y1=\"491.9375\" y2=\"491.9375\"/><text fill=\"#000000\" font-family=\"sans-serif\" font-size=\"11\" lengthAdjust=\"spacingAndGlyphs\" textLength=\"31\" x=\"83\" y=\"522.9526\">x: ~C</text><line style=\"stroke: #383838; stroke-width: 1.0;\" x1=\"78\" x2=\"95\" y1=\"506.3398\" y2=\"506.3398\"/><text fill=\"#000000\" font-family=\"sans-serif\" font-size=\"11\" lengthAdjust=\"spacingAndGlyphs\" textLength=\"30\" x=\"95\" y=\"509.6479\">ports</text><line style=\"stroke: #383838; stroke-width: 1.0;\" x1=\"125\" x2=\"142\" y1=\"506.3398\" y2=\"506.3398\"/></a><!--MD5=[b9389687b975829384b498ac4b7476b2]\n",
       "class E8--><a href=\"psysml:adeac7a4-0c31-420e-b3fd-609062fb2f41\" target=\"_top\" title=\"psysml:adeac7a4-0c31-420e-b3fd-609062fb2f41\" xlink:actuate=\"onRequest\" xlink:href=\"psysml:adeac7a4-0c31-420e-b3fd-609062fb2f41\" xlink:show=\"new\" xlink:title=\"psysml:adeac7a4-0c31-420e-b3fd-609062fb2f41\" xlink:type=\"simple\"><rect fill=\"#FFFFFF\" height=\"45.9375\" id=\"E8\" rx=\"10\" ry=\"10\" style=\"stroke: #383838; stroke-width: 1.5;\" width=\"42\" x=\"151\" y=\"594.5\"/><text fill=\"#000000\" font-family=\"sans-serif\" font-size=\"12\" font-style=\"italic\" lengthAdjust=\"spacingAndGlyphs\" textLength=\"40\" x=\"152\" y=\"610.6387\">«part»</text><text fill=\"#000000\" font-family=\"sans-serif\" font-size=\"12\" lengthAdjust=\"spacingAndGlyphs\" textLength=\"24\" x=\"160\" y=\"624.6074\">a: A</text><line style=\"stroke: #383838; stroke-width: 1.5;\" x1=\"152\" x2=\"192\" y1=\"632.4375\" y2=\"632.4375\"/></a><!--MD5=[96f4274e9e20536e775497830990834d]\n",
       "class E10--><a href=\"psysml:19a0d075-dfec-4a25-8f91-7b5bd5520f32\" target=\"_top\" title=\"psysml:19a0d075-dfec-4a25-8f91-7b5bd5520f32\" xlink:actuate=\"onRequest\" xlink:href=\"psysml:19a0d075-dfec-4a25-8f91-7b5bd5520f32\" xlink:show=\"new\" xlink:title=\"psysml:19a0d075-dfec-4a25-8f91-7b5bd5520f32\" xlink:type=\"simple\"><rect fill=\"#FFFFFF\" height=\"75.5469\" id=\"E10\" style=\"stroke: #383838; stroke-width: 1.5;\" width=\"84\" x=\"32\" y=\"41\"/><text fill=\"#000000\" font-family=\"sans-serif\" font-size=\"12\" font-style=\"italic\" lengthAdjust=\"spacingAndGlyphs\" textLength=\"64\" x=\"42\" y=\"57.1387\">«port def»</text><text fill=\"#000000\" font-family=\"sans-serif\" font-size=\"12\" lengthAdjust=\"spacingAndGlyphs\" textLength=\"8\" x=\"70\" y=\"71.1074\">C</text><line style=\"stroke: #383838; stroke-width: 1.5;\" x1=\"33\" x2=\"115\" y1=\"78.9375\" y2=\"78.9375\"/><text fill=\"#000000\" font-family=\"sans-serif\" font-size=\"11\" lengthAdjust=\"spacingAndGlyphs\" textLength=\"37\" x=\"38\" y=\"109.9526\">y: A, B</text><text fill=\"#000000\" font-family=\"sans-serif\" font-size=\"11\" font-weight=\"bold\" lengthAdjust=\"spacingAndGlyphs\" textLength=\"15\" x=\"79\" y=\"109.9526\">as</text><text fill=\"#000000\" font-family=\"sans-serif\" font-size=\"11\" lengthAdjust=\"spacingAndGlyphs\" textLength=\"12\" x=\"98\" y=\"109.9526\">z2</text><line style=\"stroke: #383838; stroke-width: 1.0;\" x1=\"33\" x2=\"43\" y1=\"93.3398\" y2=\"93.3398\"/><text fill=\"#000000\" font-family=\"sans-serif\" font-size=\"11\" lengthAdjust=\"spacingAndGlyphs\" textLength=\"62\" x=\"43\" y=\"96.6479\">references</text><line style=\"stroke: #383838; stroke-width: 1.0;\" x1=\"105\" x2=\"115\" y1=\"93.3398\" y2=\"93.3398\"/></a><a href=\"psysml:fcdcf065-90d4-4da1-8b43-4feb0ab4c03b\" target=\"_top\" title=\"psysml:fcdcf065-90d4-4da1-8b43-4feb0ab4c03b\" xlink:actuate=\"onRequest\" xlink:href=\"psysml:fcdcf065-90d4-4da1-8b43-4feb0ab4c03b\" xlink:show=\"new\" xlink:title=\"psysml:fcdcf065-90d4-4da1-8b43-4feb0ab4c03b\" xlink:type=\"simple\"><polygon fill=\"#FFFFFF\" points=\"86,591,102,591,109,613.2969,116,613.2969,116,643.5938,86,643.5938,86,591\" style=\"stroke: #000000; stroke-width: 1.5;\"/><line style=\"stroke: #000000; stroke-width: 1.5;\" x1=\"86\" x2=\"109\" y1=\"613.2969\" y2=\"613.2969\"/><text fill=\"#000000\" font-family=\"sans-serif\" font-size=\"14\" font-weight=\"bold\" lengthAdjust=\"spacingAndGlyphs\" textLength=\"10\" x=\"90\" y=\"605.9951\">P</text></a><!--MD5=[2720a5a1f2c3fca2055b230370638851]\n",
       "link E2 to E3--><a href=\"psysml:1f32f64a-cd2f-48b1-a0ff-85d8f5396f29\" target=\"_top\" title=\"psysml:1f32f64a-cd2f-48b1-a0ff-85d8f5396f29\" xlink:actuate=\"onRequest\" xlink:href=\"psysml:1f32f64a-cd2f-48b1-a0ff-85d8f5396f29\" xlink:show=\"new\" xlink:title=\"psysml:1f32f64a-cd2f-48b1-a0ff-85d8f5396f29\" xlink:type=\"simple\"><path d=\"M168.9,102.28 C166.28,121.12 162.41,148.97 158.94,173.94 \" fill=\"none\" id=\"E2-&gt;E3\" style=\"stroke: #383838; stroke-width: 1.0;\"/><polygon fill=\"#FFFFFF\" points=\"156.15,193.98,151.8354,174.1966,165.7018,176.1261,156.15,193.98\" style=\"stroke: #383838; stroke-width: 1.0;\"/><ellipse cx=\"154.6019\" cy=\"168.8266\" fill=\"#383838\" rx=\"2\" ry=\"2\" style=\"stroke: #383838; stroke-width: 1.0;\"/><ellipse cx=\"164.5065\" cy=\"170.2048\" fill=\"#383838\" rx=\"2\" ry=\"2\" style=\"stroke: #383838; stroke-width: 1.0;\"/></a><!--MD5=[4672eba38e49728da53d11aeb285b987]\n",
       "reverse link E3 to E4--><a href=\"psysml:1e20eef8-b16d-4a20-93fc-2b015416e79a\" target=\"_top\" title=\"psysml:1e20eef8-b16d-4a20-93fc-2b015416e79a\" xlink:actuate=\"onRequest\" xlink:href=\"psysml:1e20eef8-b16d-4a20-93fc-2b015416e79a\" xlink:show=\"new\" xlink:title=\"psysml:1e20eef8-b16d-4a20-93fc-2b015416e79a\" xlink:type=\"simple\"><path d=\"M142.17,283.02 C138.31,304.93 133.97,329.52 130.92,346.77 \" fill=\"none\" id=\"E3&lt;-E4\" style=\"stroke: #383838; stroke-width: 1.0;\"/><polygon fill=\"#383838\" points=\"144.44,270.16,139.4532,275.3688,142.3433,281.9754,147.3301,276.7666,144.44,270.16\" style=\"stroke: #383838; stroke-width: 1.0;\"/></a><!--MD5=[79568f1e445c3877b6a54524624ccc7d]\n",
       "link E4 to E6--><a href=\"psysml:97a379fd-51a7-461f-afe4-84a5f5da2292\" target=\"_top\" title=\"psysml:97a379fd-51a7-461f-afe4-84a5f5da2292\" xlink:actuate=\"onRequest\" xlink:href=\"psysml:97a379fd-51a7-461f-afe4-84a5f5da2292\" xlink:show=\"new\" xlink:title=\"psysml:97a379fd-51a7-461f-afe4-84a5f5da2292\" xlink:type=\"simple\"><path d=\"M123.88,393.01 C122.25,404.51 120.18,419.17 118.13,433.62 \" fill=\"none\" id=\"E4-&gt;E6\" style=\"stroke: #383838; stroke-width: 1.0;\"/><polygon fill=\"#FFFFFF\" points=\"115.3,453.57,111.0294,433.777,124.8914,435.7373,115.3,453.57\" style=\"stroke: #383838; stroke-width: 1.0;\"/><ellipse cx=\"113.8078\" cy=\"428.4132\" fill=\"#383838\" rx=\"2\" ry=\"2\" style=\"stroke: #383838; stroke-width: 1.0;\"/><ellipse cx=\"123.7093\" cy=\"429.8134\" fill=\"#383838\" rx=\"2\" ry=\"2\" style=\"stroke: #383838; stroke-width: 1.0;\"/></a><!--MD5=[3f50a3473f1dfb74d3f76443e03635af]\n",
       "reverse link E6 to E7--><a href=\"psysml:fcdcf065-90d4-4da1-8b43-4feb0ab4c03b\" target=\"_top\" title=\"psysml:fcdcf065-90d4-4da1-8b43-4feb0ab4c03b\" xlink:actuate=\"onRequest\" xlink:href=\"psysml:fcdcf065-90d4-4da1-8b43-4feb0ab4c03b\" xlink:show=\"new\" xlink:title=\"psysml:fcdcf065-90d4-4da1-8b43-4feb0ab4c03b\" xlink:type=\"simple\"><path d=\"M106.18,545.35 C105.04,561.08 103.83,577.65 102.87,590.83 \" fill=\"none\" id=\"E6&lt;-E7\" style=\"stroke: #383838; stroke-width: 1.0;\"/><ellipse cx=\"106.7138\" cy=\"538.0285\" fill=\"#FFFFFF\" rx=\"8\" ry=\"8\" style=\"stroke: #383838; stroke-width: 1.0;\"/><line style=\"stroke: #383838; stroke-width: 1.0;\" x1=\"106.1276\" x2=\"107.3\" y1=\"546.007\" y2=\"530.05\"/><line style=\"stroke: #383838; stroke-width: 1.0;\" x1=\"98.7353\" x2=\"114.6923\" y1=\"537.4423\" y2=\"538.6147\"/></a><!--MD5=[95fa686b5a16158bcdbcaeead89f639b]\n",
       "link E8 to E3--><a href=\"psysml:c8b02122-2142-456b-8199-9bf99e52168e\" target=\"_top\" title=\"psysml:c8b02122-2142-456b-8199-9bf99e52168e\" xlink:actuate=\"onRequest\" xlink:href=\"psysml:c8b02122-2142-456b-8199-9bf99e52168e\" xlink:show=\"new\" xlink:title=\"psysml:c8b02122-2142-456b-8199-9bf99e52168e\" xlink:type=\"simple\"><path d=\"M172.32,594.45 C172.8,548.41 173.03,438.69 166,347 C164.57,328.37 162.18,308.13 159.73,289.94 \" fill=\"none\" id=\"E8-&gt;E3\" style=\"stroke: #383838; stroke-width: 1.0;\"/><polygon fill=\"#FFFFFF\" points=\"156.92,270.12,166.5114,287.9527,152.6494,289.913,156.92,270.12\" style=\"stroke: #383838; stroke-width: 1.0;\"/><ellipse cx=\"165.3293\" cy=\"293.8766\" fill=\"#383838\" rx=\"2\" ry=\"2\" style=\"stroke: #383838; stroke-width: 1.0;\"/><ellipse cx=\"155.4278\" cy=\"295.2768\" fill=\"#383838\" rx=\"2\" ry=\"2\" style=\"stroke: #383838; stroke-width: 1.0;\"/></a><!--MD5=[f4cf0736d43fd73c4ef68817c49d37d5]\n",
       "reverse link E6 to E8--><a href=\"psysml:adeac7a4-0c31-420e-b3fd-609062fb2f41\" target=\"_top\" title=\"psysml:adeac7a4-0c31-420e-b3fd-609062fb2f41\" xlink:actuate=\"onRequest\" xlink:href=\"psysml:adeac7a4-0c31-420e-b3fd-609062fb2f41\" xlink:show=\"new\" xlink:title=\"psysml:adeac7a4-0c31-420e-b3fd-609062fb2f41\" xlink:type=\"simple\"><path d=\"M134.44,541.68 C143.55,559.83 153.45,579.55 160.8,594.19 \" fill=\"none\" id=\"E6&lt;-E8\" style=\"stroke: #383838; stroke-width: 1.0;\"/><polygon fill=\"#383838\" points=\"128.6,530.05,127.7161,537.2067,133.9824,540.7752,134.8663,533.6185,128.6,530.05\" style=\"stroke: #383838; stroke-width: 1.0;\"/></a><!--MD5=[8e04057e7b3cbc0dca4fc78ea351e2da]\n",
       "reverse link E10 to E3--><a href=\"psysml:4b320237-d900-4f83-8ac2-28b55b9df163\" target=\"_top\" title=\"psysml:4b320237-d900-4f83-8ac2-28b55b9df163\" xlink:actuate=\"onRequest\" xlink:href=\"psysml:4b320237-d900-4f83-8ac2-28b55b9df163\" xlink:show=\"new\" xlink:title=\"psysml:4b320237-d900-4f83-8ac2-28b55b9df163\" xlink:type=\"simple\"><path d=\"M98.98,128.98 C109.72,150.06 122.08,174.29 132.05,193.84 \" fill=\"none\" id=\"E10&lt;-E3\" style=\"stroke: #383838; stroke-width: 1.0;\"/><polygon fill=\"#FFFFFF\" points=\"93.03,117.33,92.1919,124.4922,98.4809,128.0206,99.319,120.8583,93.03,117.33\" style=\"stroke: #383838; stroke-width: 1.0;\"/><text fill=\"#000000\" font-family=\"sans-serif\" font-size=\"13\" lengthAdjust=\"spacingAndGlyphs\" textLength=\"7\" x=\"115\" y=\"160.0669\">y</text></a><!--MD5=[604cbf994c02b74b117f728a71673cea]\n",
       "reverse link E10 to E6--><a href=\"psysml:4b320237-d900-4f83-8ac2-28b55b9df163\" target=\"_top\" title=\"psysml:4b320237-d900-4f83-8ac2-28b55b9df163\" xlink:actuate=\"onRequest\" xlink:href=\"psysml:4b320237-d900-4f83-8ac2-28b55b9df163\" xlink:show=\"new\" xlink:title=\"psysml:4b320237-d900-4f83-8ac2-28b55b9df163\" xlink:type=\"simple\"><path d=\"M73.89,130.53 C74.34,192.6 77.02,300.97 89,393 C91.63,413.19 96.24,435.39 100.47,453.55 \" fill=\"none\" id=\"E10&lt;-E6\" style=\"stroke: #383838; stroke-width: 1.0;\"/><polygon fill=\"#FFFFFF\" points=\"73.83,117.27,69.863,123.2919,73.8959,129.2698,77.8629,123.2479,73.83,117.27\" style=\"stroke: #383838; stroke-width: 1.0;\"/><text fill=\"#000000\" font-family=\"sans-serif\" font-size=\"13\" lengthAdjust=\"spacingAndGlyphs\" textLength=\"7\" x=\"82\" y=\"313.0669\">y</text></a><!--MD5=[1af641a2ab5f69f331e8a3e2d6a0b8ae]\n",
       "@startuml\r\n",
       "skinparam monochrome true\r\n",
       "skinparam classbackgroundcolor white\r\n",
       "skinparam shadowing false\r\n",
       "skinparam wrapWidth 300\r\n",
       "hide circle\r\n",
       "\r\n",
       "package \"BlockTest\" as E1  [[psysml:c0b99535-16c1-47cf-a8d5-3f20b133a54a ]]  {\r\n",
       "comp usage \"f: A\" as E2  <<(T,blue)part>> [[psysml:20852434-d7cc-411e-aa3b-cae286a1f6f8 ]] {\r\n",
       "}\r\n",
       "comp def \"A\" as E3  <<(T,blue)part def>> [[psysml:cbed5230-ac88-4b7e-9b23-6ffd90d7c059 ]] {\r\n",
       "- - ports - -\r\n",
       "c: C\r\n",
       "}\r\n",
       "comp usage \"b: B\" as E4  <<(T,blue)part>> [[psysml:1e20eef8-b16d-4a20-93fc-2b015416e79a ]] {\r\n",
       "}\r\n",
       "comp def \"B\" as E6  <<(T,blue)part def>> [[psysml:633af2d2-4d32-4996-ac04-a91fff2e720f ]] {\r\n",
       "- - ports - -\r\n",
       "x: ~C\r\n",
       "}\r\n",
       "package \"P\" as E7  [[psysml:fcdcf065-90d4-4da1-8b43-4feb0ab4c03b ]]  {\r\n",
       "}\r\n",
       "comp usage \"a: A\" as E8  <<(T,blue)part>> [[psysml:adeac7a4-0c31-420e-b3fd-609062fb2f41 ]] {\r\n",
       "}\r\n",
       "comp def \"C\" as E10  <<(T,blue)port def>> [[psysml:19a0d075-dfec-4a25-8f91-7b5bd5520f32 ]] {\r\n",
       "- - references - -\r\n",
       "y: A, B <b>as</b> z2 \r\n",
       "}\r\n",
       "E2 - -:|> E3 [[psysml:1f32f64a-cd2f-48b1-a0ff-85d8f5396f29 ]] \r\n",
       "E3 *- - E4 [[psysml:1e20eef8-b16d-4a20-93fc-2b015416e79a ]] \r\n",
       "E4 - -:|> E6 [[psysml:97a379fd-51a7-461f-afe4-84a5f5da2292 ]] \r\n",
       "E6 +- - E7 [[psysml:fcdcf065-90d4-4da1-8b43-4feb0ab4c03b ]] \r\n",
       "E8 - -:|> E3 [[psysml:c8b02122-2142-456b-8199-9bf99e52168e ]] \r\n",
       "E6 *- - E8 [[psysml:adeac7a4-0c31-420e-b3fd-609062fb2f41 ]] \r\n",
       "E10 o- - E3 [[psysml:4b320237-d900-4f83-8ac2-28b55b9df163 ]] : y\r\n",
       "E10 o- - E6 [[psysml:4b320237-d900-4f83-8ac2-28b55b9df163 ]] : y\r\n",
       "}\r\n",
       "@enduml\r\n",
       "\n",
       "PlantUML version 1.2020.13(Sat Jun 13 12:26:38 UTC 2020)\n",
       "(EPL source distribution)\n",
       "Java Runtime: OpenJDK Runtime Environment\n",
       "JVM: OpenJDK 64-Bit Server VM\n",
       "Default Encoding: UTF-8\n",
       "Language: en\n",
       "Country: null\n",
       "--></g></svg>"
      ]
     },
     "execution_count": 37,
     "metadata": {},
     "output_type": "execute_result"
    }
   ],
   "source": [
    "%viz --style=\"DEFAULT\" --view=\"Default\" \"BlockTest\""
   ]
  },
  {
   "cell_type": "code",
   "execution_count": 38,
   "id": "quiet-shooting",
   "metadata": {
    "execution": {
     "iopub.execute_input": "2021-03-25T15:00:01.212470Z",
     "iopub.status.busy": "2021-03-25T15:00:01.211651Z",
     "iopub.status.idle": "2021-03-25T15:00:01.727315Z",
     "shell.execute_reply": "2021-03-25T15:00:01.726344Z"
    }
   },
   "outputs": [
    {
     "data": {
      "image/svg+xml": [
       "<?xml version=\"1.0\" encoding=\"UTF-8\" standalone=\"no\"?><svg xmlns=\"http://www.w3.org/2000/svg\" xmlns:xlink=\"http://www.w3.org/1999/xlink\" contentScriptType=\"application/ecmascript\" contentStyleType=\"text/css\" height=\"672px\" preserveAspectRatio=\"none\" style=\"width:231px;height:672px;\" version=\"1.1\" viewBox=\"0 0 231 672\" width=\"231px\" zoomAndPan=\"magnify\"><defs/><g><!--MD5=[fbc87193dbaf4d95561dea2c320d4a47]\n",
       "cluster E1--><a href=\"psysml:c0b99535-16c1-47cf-a8d5-3f20b133a54a\" target=\"_top\" title=\"psysml:c0b99535-16c1-47cf-a8d5-3f20b133a54a\" xlink:actuate=\"onRequest\" xlink:href=\"psysml:c0b99535-16c1-47cf-a8d5-3f20b133a54a\" xlink:show=\"new\" xlink:title=\"psysml:c0b99535-16c1-47cf-a8d5-3f20b133a54a\" xlink:type=\"simple\"><polygon fill=\"#FFFFFF\" points=\"16,6,99,6,106,28.2969,209,28.2969,209,660,16,660,16,6\" style=\"stroke: #000000; stroke-width: 1.5;\"/><line style=\"stroke: #000000; stroke-width: 1.5;\" x1=\"16\" x2=\"106\" y1=\"28.2969\" y2=\"28.2969\"/><text fill=\"#000000\" font-family=\"sans-serif\" font-size=\"14\" font-weight=\"bold\" lengthAdjust=\"spacingAndGlyphs\" textLength=\"77\" x=\"20\" y=\"20.9951\">BlockTest</text></a><!--MD5=[b4997ac47864f28c2f74865a473b2911]\n",
       "class E2--><a href=\"psysml:20852434-d7cc-411e-aa3b-cae286a1f6f8\" target=\"_top\" title=\"psysml:20852434-d7cc-411e-aa3b-cae286a1f6f8\" xlink:actuate=\"onRequest\" xlink:href=\"psysml:20852434-d7cc-411e-aa3b-cae286a1f6f8\" xlink:show=\"new\" xlink:title=\"psysml:20852434-d7cc-411e-aa3b-cae286a1f6f8\" xlink:type=\"simple\"><rect fill=\"#FFFFFF\" height=\"45.9375\" id=\"E2\" rx=\"10\" ry=\"10\" style=\"stroke: #383838; stroke-width: 1.5;\" width=\"42\" x=\"151\" y=\"56\"/><text fill=\"#000000\" font-family=\"sans-serif\" font-size=\"12\" font-style=\"italic\" lengthAdjust=\"spacingAndGlyphs\" textLength=\"40\" x=\"152\" y=\"72.1387\">«part»</text><text fill=\"#000000\" font-family=\"sans-serif\" font-size=\"12\" lengthAdjust=\"spacingAndGlyphs\" textLength=\"20\" x=\"162\" y=\"86.1074\">f: A</text><line style=\"stroke: #383838; stroke-width: 1.5;\" x1=\"152\" x2=\"192\" y1=\"93.9375\" y2=\"93.9375\"/></a><!--MD5=[09b614a08d8cba4a07c9adeb5e0fee81]\n",
       "class E3--><a href=\"psysml:cbed5230-ac88-4b7e-9b23-6ffd90d7c059\" target=\"_top\" title=\"psysml:cbed5230-ac88-4b7e-9b23-6ffd90d7c059\" xlink:actuate=\"onRequest\" xlink:href=\"psysml:cbed5230-ac88-4b7e-9b23-6ffd90d7c059\" xlink:show=\"new\" xlink:title=\"psysml:cbed5230-ac88-4b7e-9b23-6ffd90d7c059\" xlink:type=\"simple\"><rect fill=\"#FFFFFF\" height=\"75.5469\" id=\"E3\" style=\"stroke: #383838; stroke-width: 1.5;\" width=\"66\" x=\"118\" y=\"194\"/><text fill=\"#000000\" font-family=\"sans-serif\" font-size=\"12\" font-style=\"italic\" lengthAdjust=\"spacingAndGlyphs\" textLength=\"64\" x=\"119\" y=\"210.1387\">«part def»</text><text fill=\"#000000\" font-family=\"sans-serif\" font-size=\"12\" lengthAdjust=\"spacingAndGlyphs\" textLength=\"8\" x=\"147\" y=\"224.1074\">A</text><line style=\"stroke: #383838; stroke-width: 1.5;\" x1=\"119\" x2=\"183\" y1=\"231.9375\" y2=\"231.9375\"/><text fill=\"#000000\" font-family=\"sans-serif\" font-size=\"11\" lengthAdjust=\"spacingAndGlyphs\" textLength=\"22\" x=\"124\" y=\"262.9526\">c: C</text><line style=\"stroke: #383838; stroke-width: 1.0;\" x1=\"119\" x2=\"136\" y1=\"246.3398\" y2=\"246.3398\"/><text fill=\"#000000\" font-family=\"sans-serif\" font-size=\"11\" lengthAdjust=\"spacingAndGlyphs\" textLength=\"30\" x=\"136\" y=\"249.6479\">ports</text><line style=\"stroke: #383838; stroke-width: 1.0;\" x1=\"166\" x2=\"183\" y1=\"246.3398\" y2=\"246.3398\"/></a><!--MD5=[ebbe1d658d1005bcc118a6aa81145e00]\n",
       "class E4--><a href=\"psysml:1e20eef8-b16d-4a20-93fc-2b015416e79a\" target=\"_top\" title=\"psysml:1e20eef8-b16d-4a20-93fc-2b015416e79a\" xlink:actuate=\"onRequest\" xlink:href=\"psysml:1e20eef8-b16d-4a20-93fc-2b015416e79a\" xlink:show=\"new\" xlink:title=\"psysml:1e20eef8-b16d-4a20-93fc-2b015416e79a\" xlink:type=\"simple\"><rect fill=\"#FFFFFF\" height=\"45.9375\" id=\"E4\" rx=\"10\" ry=\"10\" style=\"stroke: #383838; stroke-width: 1.5;\" width=\"42\" x=\"106\" y=\"347\"/><text fill=\"#000000\" font-family=\"sans-serif\" font-size=\"12\" font-style=\"italic\" lengthAdjust=\"spacingAndGlyphs\" textLength=\"40\" x=\"107\" y=\"363.1387\">«part»</text><text fill=\"#000000\" font-family=\"sans-serif\" font-size=\"12\" lengthAdjust=\"spacingAndGlyphs\" textLength=\"24\" x=\"115\" y=\"377.1074\">b: B</text><line style=\"stroke: #383838; stroke-width: 1.5;\" x1=\"107\" x2=\"147\" y1=\"384.9375\" y2=\"384.9375\"/></a><!--MD5=[60a26617385b1d2d0262a64233df1f8d]\n",
       "class E6--><a href=\"psysml:633af2d2-4d32-4996-ac04-a91fff2e720f\" target=\"_top\" title=\"psysml:633af2d2-4d32-4996-ac04-a91fff2e720f\" xlink:actuate=\"onRequest\" xlink:href=\"psysml:633af2d2-4d32-4996-ac04-a91fff2e720f\" xlink:show=\"new\" xlink:title=\"psysml:633af2d2-4d32-4996-ac04-a91fff2e720f\" xlink:type=\"simple\"><rect fill=\"#FFFFFF\" height=\"75.5469\" id=\"E6\" style=\"stroke: #383838; stroke-width: 1.5;\" width=\"66\" x=\"77\" y=\"454\"/><text fill=\"#000000\" font-family=\"sans-serif\" font-size=\"12\" font-style=\"italic\" lengthAdjust=\"spacingAndGlyphs\" textLength=\"64\" x=\"78\" y=\"470.1387\">«part def»</text><text fill=\"#000000\" font-family=\"sans-serif\" font-size=\"12\" lengthAdjust=\"spacingAndGlyphs\" textLength=\"8\" x=\"106\" y=\"484.1074\">B</text><line style=\"stroke: #383838; stroke-width: 1.5;\" x1=\"78\" x2=\"142\" y1=\"491.9375\" y2=\"491.9375\"/><text fill=\"#000000\" font-family=\"sans-serif\" font-size=\"11\" lengthAdjust=\"spacingAndGlyphs\" textLength=\"31\" x=\"83\" y=\"522.9526\">x: ~C</text><line style=\"stroke: #383838; stroke-width: 1.0;\" x1=\"78\" x2=\"95\" y1=\"506.3398\" y2=\"506.3398\"/><text fill=\"#000000\" font-family=\"sans-serif\" font-size=\"11\" lengthAdjust=\"spacingAndGlyphs\" textLength=\"30\" x=\"95\" y=\"509.6479\">ports</text><line style=\"stroke: #383838; stroke-width: 1.0;\" x1=\"125\" x2=\"142\" y1=\"506.3398\" y2=\"506.3398\"/></a><!--MD5=[b9389687b975829384b498ac4b7476b2]\n",
       "class E8--><a href=\"psysml:adeac7a4-0c31-420e-b3fd-609062fb2f41\" target=\"_top\" title=\"psysml:adeac7a4-0c31-420e-b3fd-609062fb2f41\" xlink:actuate=\"onRequest\" xlink:href=\"psysml:adeac7a4-0c31-420e-b3fd-609062fb2f41\" xlink:show=\"new\" xlink:title=\"psysml:adeac7a4-0c31-420e-b3fd-609062fb2f41\" xlink:type=\"simple\"><rect fill=\"#FFFFFF\" height=\"45.9375\" id=\"E8\" rx=\"10\" ry=\"10\" style=\"stroke: #383838; stroke-width: 1.5;\" width=\"42\" x=\"151\" y=\"594.5\"/><text fill=\"#000000\" font-family=\"sans-serif\" font-size=\"12\" font-style=\"italic\" lengthAdjust=\"spacingAndGlyphs\" textLength=\"40\" x=\"152\" y=\"610.6387\">«part»</text><text fill=\"#000000\" font-family=\"sans-serif\" font-size=\"12\" lengthAdjust=\"spacingAndGlyphs\" textLength=\"24\" x=\"160\" y=\"624.6074\">a: A</text><line style=\"stroke: #383838; stroke-width: 1.5;\" x1=\"152\" x2=\"192\" y1=\"632.4375\" y2=\"632.4375\"/></a><!--MD5=[96f4274e9e20536e775497830990834d]\n",
       "class E10--><a href=\"psysml:19a0d075-dfec-4a25-8f91-7b5bd5520f32\" target=\"_top\" title=\"psysml:19a0d075-dfec-4a25-8f91-7b5bd5520f32\" xlink:actuate=\"onRequest\" xlink:href=\"psysml:19a0d075-dfec-4a25-8f91-7b5bd5520f32\" xlink:show=\"new\" xlink:title=\"psysml:19a0d075-dfec-4a25-8f91-7b5bd5520f32\" xlink:type=\"simple\"><rect fill=\"#FFFFFF\" height=\"75.5469\" id=\"E10\" style=\"stroke: #383838; stroke-width: 1.5;\" width=\"84\" x=\"32\" y=\"41\"/><text fill=\"#000000\" font-family=\"sans-serif\" font-size=\"12\" font-style=\"italic\" lengthAdjust=\"spacingAndGlyphs\" textLength=\"64\" x=\"42\" y=\"57.1387\">«port def»</text><text fill=\"#000000\" font-family=\"sans-serif\" font-size=\"12\" lengthAdjust=\"spacingAndGlyphs\" textLength=\"8\" x=\"70\" y=\"71.1074\">C</text><line style=\"stroke: #383838; stroke-width: 1.5;\" x1=\"33\" x2=\"115\" y1=\"78.9375\" y2=\"78.9375\"/><text fill=\"#000000\" font-family=\"sans-serif\" font-size=\"11\" lengthAdjust=\"spacingAndGlyphs\" textLength=\"37\" x=\"38\" y=\"109.9526\">y: A, B</text><text fill=\"#000000\" font-family=\"sans-serif\" font-size=\"11\" font-weight=\"bold\" lengthAdjust=\"spacingAndGlyphs\" textLength=\"15\" x=\"79\" y=\"109.9526\">as</text><text fill=\"#000000\" font-family=\"sans-serif\" font-size=\"11\" lengthAdjust=\"spacingAndGlyphs\" textLength=\"12\" x=\"98\" y=\"109.9526\">z2</text><line style=\"stroke: #383838; stroke-width: 1.0;\" x1=\"33\" x2=\"43\" y1=\"93.3398\" y2=\"93.3398\"/><text fill=\"#000000\" font-family=\"sans-serif\" font-size=\"11\" lengthAdjust=\"spacingAndGlyphs\" textLength=\"62\" x=\"43\" y=\"96.6479\">references</text><line style=\"stroke: #383838; stroke-width: 1.0;\" x1=\"105\" x2=\"115\" y1=\"93.3398\" y2=\"93.3398\"/></a><a href=\"psysml:fcdcf065-90d4-4da1-8b43-4feb0ab4c03b\" target=\"_top\" title=\"psysml:fcdcf065-90d4-4da1-8b43-4feb0ab4c03b\" xlink:actuate=\"onRequest\" xlink:href=\"psysml:fcdcf065-90d4-4da1-8b43-4feb0ab4c03b\" xlink:show=\"new\" xlink:title=\"psysml:fcdcf065-90d4-4da1-8b43-4feb0ab4c03b\" xlink:type=\"simple\"><polygon fill=\"#FFFFFF\" points=\"86,591,102,591,109,613.2969,116,613.2969,116,643.5938,86,643.5938,86,591\" style=\"stroke: #000000; stroke-width: 1.5;\"/><line style=\"stroke: #000000; stroke-width: 1.5;\" x1=\"86\" x2=\"109\" y1=\"613.2969\" y2=\"613.2969\"/><text fill=\"#000000\" font-family=\"sans-serif\" font-size=\"14\" font-weight=\"bold\" lengthAdjust=\"spacingAndGlyphs\" textLength=\"10\" x=\"90\" y=\"605.9951\">P</text></a><!--MD5=[2720a5a1f2c3fca2055b230370638851]\n",
       "link E2 to E3--><a href=\"psysml:1f32f64a-cd2f-48b1-a0ff-85d8f5396f29\" target=\"_top\" title=\"psysml:1f32f64a-cd2f-48b1-a0ff-85d8f5396f29\" xlink:actuate=\"onRequest\" xlink:href=\"psysml:1f32f64a-cd2f-48b1-a0ff-85d8f5396f29\" xlink:show=\"new\" xlink:title=\"psysml:1f32f64a-cd2f-48b1-a0ff-85d8f5396f29\" xlink:type=\"simple\"><path d=\"M168.9,102.28 C166.28,121.12 162.41,148.97 158.94,173.94 \" fill=\"none\" id=\"E2-&gt;E3\" style=\"stroke: #383838; stroke-width: 1.0;\"/><polygon fill=\"#FFFFFF\" points=\"156.15,193.98,151.8354,174.1966,165.7018,176.1261,156.15,193.98\" style=\"stroke: #383838; stroke-width: 1.0;\"/><ellipse cx=\"154.6019\" cy=\"168.8266\" fill=\"#383838\" rx=\"2\" ry=\"2\" style=\"stroke: #383838; stroke-width: 1.0;\"/><ellipse cx=\"164.5065\" cy=\"170.2048\" fill=\"#383838\" rx=\"2\" ry=\"2\" style=\"stroke: #383838; stroke-width: 1.0;\"/></a><!--MD5=[4672eba38e49728da53d11aeb285b987]\n",
       "reverse link E3 to E4--><a href=\"psysml:1e20eef8-b16d-4a20-93fc-2b015416e79a\" target=\"_top\" title=\"psysml:1e20eef8-b16d-4a20-93fc-2b015416e79a\" xlink:actuate=\"onRequest\" xlink:href=\"psysml:1e20eef8-b16d-4a20-93fc-2b015416e79a\" xlink:show=\"new\" xlink:title=\"psysml:1e20eef8-b16d-4a20-93fc-2b015416e79a\" xlink:type=\"simple\"><path d=\"M142.17,283.02 C138.31,304.93 133.97,329.52 130.92,346.77 \" fill=\"none\" id=\"E3&lt;-E4\" style=\"stroke: #383838; stroke-width: 1.0;\"/><polygon fill=\"#383838\" points=\"144.44,270.16,139.4532,275.3688,142.3433,281.9754,147.3301,276.7666,144.44,270.16\" style=\"stroke: #383838; stroke-width: 1.0;\"/></a><!--MD5=[79568f1e445c3877b6a54524624ccc7d]\n",
       "link E4 to E6--><a href=\"psysml:97a379fd-51a7-461f-afe4-84a5f5da2292\" target=\"_top\" title=\"psysml:97a379fd-51a7-461f-afe4-84a5f5da2292\" xlink:actuate=\"onRequest\" xlink:href=\"psysml:97a379fd-51a7-461f-afe4-84a5f5da2292\" xlink:show=\"new\" xlink:title=\"psysml:97a379fd-51a7-461f-afe4-84a5f5da2292\" xlink:type=\"simple\"><path d=\"M123.88,393.01 C122.25,404.51 120.18,419.17 118.13,433.62 \" fill=\"none\" id=\"E4-&gt;E6\" style=\"stroke: #383838; stroke-width: 1.0;\"/><polygon fill=\"#FFFFFF\" points=\"115.3,453.57,111.0294,433.777,124.8914,435.7373,115.3,453.57\" style=\"stroke: #383838; stroke-width: 1.0;\"/><ellipse cx=\"113.8078\" cy=\"428.4132\" fill=\"#383838\" rx=\"2\" ry=\"2\" style=\"stroke: #383838; stroke-width: 1.0;\"/><ellipse cx=\"123.7093\" cy=\"429.8134\" fill=\"#383838\" rx=\"2\" ry=\"2\" style=\"stroke: #383838; stroke-width: 1.0;\"/></a><!--MD5=[3f50a3473f1dfb74d3f76443e03635af]\n",
       "reverse link E6 to E7--><a href=\"psysml:fcdcf065-90d4-4da1-8b43-4feb0ab4c03b\" target=\"_top\" title=\"psysml:fcdcf065-90d4-4da1-8b43-4feb0ab4c03b\" xlink:actuate=\"onRequest\" xlink:href=\"psysml:fcdcf065-90d4-4da1-8b43-4feb0ab4c03b\" xlink:show=\"new\" xlink:title=\"psysml:fcdcf065-90d4-4da1-8b43-4feb0ab4c03b\" xlink:type=\"simple\"><path d=\"M106.18,545.35 C105.04,561.08 103.83,577.65 102.87,590.83 \" fill=\"none\" id=\"E6&lt;-E7\" style=\"stroke: #383838; stroke-width: 1.0;\"/><ellipse cx=\"106.7138\" cy=\"538.0285\" fill=\"#FFFFFF\" rx=\"8\" ry=\"8\" style=\"stroke: #383838; stroke-width: 1.0;\"/><line style=\"stroke: #383838; stroke-width: 1.0;\" x1=\"106.1276\" x2=\"107.3\" y1=\"546.007\" y2=\"530.05\"/><line style=\"stroke: #383838; stroke-width: 1.0;\" x1=\"98.7353\" x2=\"114.6923\" y1=\"537.4423\" y2=\"538.6147\"/></a><!--MD5=[95fa686b5a16158bcdbcaeead89f639b]\n",
       "link E8 to E3--><a href=\"psysml:c8b02122-2142-456b-8199-9bf99e52168e\" target=\"_top\" title=\"psysml:c8b02122-2142-456b-8199-9bf99e52168e\" xlink:actuate=\"onRequest\" xlink:href=\"psysml:c8b02122-2142-456b-8199-9bf99e52168e\" xlink:show=\"new\" xlink:title=\"psysml:c8b02122-2142-456b-8199-9bf99e52168e\" xlink:type=\"simple\"><path d=\"M172.32,594.45 C172.8,548.41 173.03,438.69 166,347 C164.57,328.37 162.18,308.13 159.73,289.94 \" fill=\"none\" id=\"E8-&gt;E3\" style=\"stroke: #383838; stroke-width: 1.0;\"/><polygon fill=\"#FFFFFF\" points=\"156.92,270.12,166.5114,287.9527,152.6494,289.913,156.92,270.12\" style=\"stroke: #383838; stroke-width: 1.0;\"/><ellipse cx=\"165.3293\" cy=\"293.8766\" fill=\"#383838\" rx=\"2\" ry=\"2\" style=\"stroke: #383838; stroke-width: 1.0;\"/><ellipse cx=\"155.4278\" cy=\"295.2768\" fill=\"#383838\" rx=\"2\" ry=\"2\" style=\"stroke: #383838; stroke-width: 1.0;\"/></a><!--MD5=[f4cf0736d43fd73c4ef68817c49d37d5]\n",
       "reverse link E6 to E8--><a href=\"psysml:adeac7a4-0c31-420e-b3fd-609062fb2f41\" target=\"_top\" title=\"psysml:adeac7a4-0c31-420e-b3fd-609062fb2f41\" xlink:actuate=\"onRequest\" xlink:href=\"psysml:adeac7a4-0c31-420e-b3fd-609062fb2f41\" xlink:show=\"new\" xlink:title=\"psysml:adeac7a4-0c31-420e-b3fd-609062fb2f41\" xlink:type=\"simple\"><path d=\"M134.44,541.68 C143.55,559.83 153.45,579.55 160.8,594.19 \" fill=\"none\" id=\"E6&lt;-E8\" style=\"stroke: #383838; stroke-width: 1.0;\"/><polygon fill=\"#383838\" points=\"128.6,530.05,127.7161,537.2067,133.9824,540.7752,134.8663,533.6185,128.6,530.05\" style=\"stroke: #383838; stroke-width: 1.0;\"/></a><!--MD5=[8e04057e7b3cbc0dca4fc78ea351e2da]\n",
       "reverse link E10 to E3--><a href=\"psysml:4b320237-d900-4f83-8ac2-28b55b9df163\" target=\"_top\" title=\"psysml:4b320237-d900-4f83-8ac2-28b55b9df163\" xlink:actuate=\"onRequest\" xlink:href=\"psysml:4b320237-d900-4f83-8ac2-28b55b9df163\" xlink:show=\"new\" xlink:title=\"psysml:4b320237-d900-4f83-8ac2-28b55b9df163\" xlink:type=\"simple\"><path d=\"M98.98,128.98 C109.72,150.06 122.08,174.29 132.05,193.84 \" fill=\"none\" id=\"E10&lt;-E3\" style=\"stroke: #383838; stroke-width: 1.0;\"/><polygon fill=\"#FFFFFF\" points=\"93.03,117.33,92.1919,124.4922,98.4809,128.0206,99.319,120.8583,93.03,117.33\" style=\"stroke: #383838; stroke-width: 1.0;\"/><text fill=\"#000000\" font-family=\"sans-serif\" font-size=\"13\" lengthAdjust=\"spacingAndGlyphs\" textLength=\"7\" x=\"115\" y=\"160.0669\">y</text></a><!--MD5=[604cbf994c02b74b117f728a71673cea]\n",
       "reverse link E10 to E6--><a href=\"psysml:4b320237-d900-4f83-8ac2-28b55b9df163\" target=\"_top\" title=\"psysml:4b320237-d900-4f83-8ac2-28b55b9df163\" xlink:actuate=\"onRequest\" xlink:href=\"psysml:4b320237-d900-4f83-8ac2-28b55b9df163\" xlink:show=\"new\" xlink:title=\"psysml:4b320237-d900-4f83-8ac2-28b55b9df163\" xlink:type=\"simple\"><path d=\"M73.89,130.53 C74.34,192.6 77.02,300.97 89,393 C91.63,413.19 96.24,435.39 100.47,453.55 \" fill=\"none\" id=\"E10&lt;-E6\" style=\"stroke: #383838; stroke-width: 1.0;\"/><polygon fill=\"#FFFFFF\" points=\"73.83,117.27,69.863,123.2919,73.8959,129.2698,77.8629,123.2479,73.83,117.27\" style=\"stroke: #383838; stroke-width: 1.0;\"/><text fill=\"#000000\" font-family=\"sans-serif\" font-size=\"13\" lengthAdjust=\"spacingAndGlyphs\" textLength=\"7\" x=\"82\" y=\"313.0669\">y</text></a><!--MD5=[1af641a2ab5f69f331e8a3e2d6a0b8ae]\n",
       "@startuml\r\n",
       "skinparam monochrome true\r\n",
       "skinparam classbackgroundcolor white\r\n",
       "skinparam shadowing false\r\n",
       "skinparam wrapWidth 300\r\n",
       "hide circle\r\n",
       "\r\n",
       "package \"BlockTest\" as E1  [[psysml:c0b99535-16c1-47cf-a8d5-3f20b133a54a ]]  {\r\n",
       "comp usage \"f: A\" as E2  <<(T,blue)part>> [[psysml:20852434-d7cc-411e-aa3b-cae286a1f6f8 ]] {\r\n",
       "}\r\n",
       "comp def \"A\" as E3  <<(T,blue)part def>> [[psysml:cbed5230-ac88-4b7e-9b23-6ffd90d7c059 ]] {\r\n",
       "- - ports - -\r\n",
       "c: C\r\n",
       "}\r\n",
       "comp usage \"b: B\" as E4  <<(T,blue)part>> [[psysml:1e20eef8-b16d-4a20-93fc-2b015416e79a ]] {\r\n",
       "}\r\n",
       "comp def \"B\" as E6  <<(T,blue)part def>> [[psysml:633af2d2-4d32-4996-ac04-a91fff2e720f ]] {\r\n",
       "- - ports - -\r\n",
       "x: ~C\r\n",
       "}\r\n",
       "package \"P\" as E7  [[psysml:fcdcf065-90d4-4da1-8b43-4feb0ab4c03b ]]  {\r\n",
       "}\r\n",
       "comp usage \"a: A\" as E8  <<(T,blue)part>> [[psysml:adeac7a4-0c31-420e-b3fd-609062fb2f41 ]] {\r\n",
       "}\r\n",
       "comp def \"C\" as E10  <<(T,blue)port def>> [[psysml:19a0d075-dfec-4a25-8f91-7b5bd5520f32 ]] {\r\n",
       "- - references - -\r\n",
       "y: A, B <b>as</b> z2 \r\n",
       "}\r\n",
       "E2 - -:|> E3 [[psysml:1f32f64a-cd2f-48b1-a0ff-85d8f5396f29 ]] \r\n",
       "E3 *- - E4 [[psysml:1e20eef8-b16d-4a20-93fc-2b015416e79a ]] \r\n",
       "E4 - -:|> E6 [[psysml:97a379fd-51a7-461f-afe4-84a5f5da2292 ]] \r\n",
       "E6 +- - E7 [[psysml:fcdcf065-90d4-4da1-8b43-4feb0ab4c03b ]] \r\n",
       "E8 - -:|> E3 [[psysml:c8b02122-2142-456b-8199-9bf99e52168e ]] \r\n",
       "E6 *- - E8 [[psysml:adeac7a4-0c31-420e-b3fd-609062fb2f41 ]] \r\n",
       "E10 o- - E3 [[psysml:4b320237-d900-4f83-8ac2-28b55b9df163 ]] : y\r\n",
       "E10 o- - E6 [[psysml:4b320237-d900-4f83-8ac2-28b55b9df163 ]] : y\r\n",
       "}\r\n",
       "@enduml\r\n",
       "\n",
       "PlantUML version 1.2020.13(Sat Jun 13 12:26:38 UTC 2020)\n",
       "(EPL source distribution)\n",
       "Java Runtime: OpenJDK Runtime Environment\n",
       "JVM: OpenJDK 64-Bit Server VM\n",
       "Default Encoding: UTF-8\n",
       "Language: en\n",
       "Country: null\n",
       "--></g></svg>"
      ]
     },
     "execution_count": 38,
     "metadata": {},
     "output_type": "execute_result"
    }
   ],
   "source": [
    "%viz --style=\"DEFAULT\" --view=\"Tree\" \"BlockTest\""
   ]
  },
  {
   "cell_type": "code",
   "execution_count": 39,
   "id": "european-roman",
   "metadata": {
    "execution": {
     "iopub.execute_input": "2021-03-25T15:00:01.777236Z",
     "iopub.status.busy": "2021-03-25T15:00:01.776285Z",
     "iopub.status.idle": "2021-03-25T15:00:01.791545Z",
     "shell.execute_reply": "2021-03-25T15:00:01.790960Z"
    }
   },
   "outputs": [
    {
     "data": {
      "image/svg+xml": [
       "<?xml version=\"1.0\" encoding=\"UTF-8\" standalone=\"no\"?><svg xmlns=\"http://www.w3.org/2000/svg\" xmlns:xlink=\"http://www.w3.org/1999/xlink\" contentScriptType=\"application/ecmascript\" contentStyleType=\"text/css\" height=\"12px\" preserveAspectRatio=\"none\" style=\"width:12px;height:12px;\" version=\"1.1\" viewBox=\"0 0 12 12\" width=\"12px\" zoomAndPan=\"magnify\"><defs/><g><!--MD5=[c5f280e076d0d61ccf4b0f27871bda1d]\n",
       "@startuml\r\n",
       "skinparam monochrome true\r\n",
       "skinparam classbackgroundcolor white\r\n",
       "skinparam shadowing false\r\n",
       "skinparam wrapWidth 300\r\n",
       "hide circle\r\n",
       "\r\n",
       "@enduml\r\n",
       "\n",
       "PlantUML version 1.2020.13(Sat Jun 13 12:26:38 UTC 2020)\n",
       "(EPL source distribution)\n",
       "Java Runtime: OpenJDK Runtime Environment\n",
       "JVM: OpenJDK 64-Bit Server VM\n",
       "Default Encoding: UTF-8\n",
       "Language: en\n",
       "Country: null\n",
       "--></g></svg>"
      ]
     },
     "execution_count": 39,
     "metadata": {},
     "output_type": "execute_result"
    }
   ],
   "source": [
    "%viz --style=\"DEFAULT\" --view=\"State\" \"BlockTest\""
   ]
  },
  {
   "cell_type": "code",
   "execution_count": 40,
   "id": "american-village",
   "metadata": {
    "execution": {
     "iopub.execute_input": "2021-03-25T15:00:01.840445Z",
     "iopub.status.busy": "2021-03-25T15:00:01.839517Z",
     "iopub.status.idle": "2021-03-25T15:00:02.006487Z",
     "shell.execute_reply": "2021-03-25T15:00:02.004268Z"
    }
   },
   "outputs": [
    {
     "data": {
      "image/svg+xml": [
       "<?xml version=\"1.0\" encoding=\"UTF-8\" standalone=\"no\"?><svg xmlns=\"http://www.w3.org/2000/svg\" xmlns:xlink=\"http://www.w3.org/1999/xlink\" contentScriptType=\"application/ecmascript\" contentStyleType=\"text/css\" height=\"256px\" preserveAspectRatio=\"none\" style=\"width:590px;height:256px;\" version=\"1.1\" viewBox=\"0 0 590 256\" width=\"590px\" zoomAndPan=\"magnify\"><defs/><g><!--MD5=[fbc87193dbaf4d95561dea2c320d4a47]\n",
       "cluster E1--><a href=\"psysml:c0b99535-16c1-47cf-a8d5-3f20b133a54a\" target=\"_top\" title=\"psysml:c0b99535-16c1-47cf-a8d5-3f20b133a54a\" xlink:actuate=\"onRequest\" xlink:href=\"psysml:c0b99535-16c1-47cf-a8d5-3f20b133a54a\" xlink:show=\"new\" xlink:title=\"psysml:c0b99535-16c1-47cf-a8d5-3f20b133a54a\" xlink:type=\"simple\"><polygon fill=\"#FFFFFF\" points=\"16,6,99,6,106,28.2969,568,28.2969,568,244,16,244,16,6\" style=\"stroke: #000000; stroke-width: 1.5;\"/><line style=\"stroke: #000000; stroke-width: 1.5;\" x1=\"16\" x2=\"106\" y1=\"28.2969\" y2=\"28.2969\"/><text fill=\"#000000\" font-family=\"sans-serif\" font-size=\"14\" font-weight=\"bold\" lengthAdjust=\"spacingAndGlyphs\" textLength=\"77\" x=\"20\" y=\"20.9951\">BlockTest</text></a><!--MD5=[d5e69f78d87373223dbae638b30a9c99]\n",
       "cluster E3--><a href=\"psysml:cbed5230-ac88-4b7e-9b23-6ffd90d7c059\" target=\"_top\" title=\"psysml:cbed5230-ac88-4b7e-9b23-6ffd90d7c059\" xlink:actuate=\"onRequest\" xlink:href=\"psysml:cbed5230-ac88-4b7e-9b23-6ffd90d7c059\" xlink:show=\"new\" xlink:title=\"psysml:cbed5230-ac88-4b7e-9b23-6ffd90d7c059\" xlink:type=\"simple\"><rect fill=\"#FFFFFF\" height=\"160\" id=\"E3\" style=\"stroke: #383838; stroke-width: 1.5;\" width=\"120\" x=\"432\" y=\"68\"/><rect fill=\"#F8F8F8\" height=\"37.9375\" style=\"stroke: #383838; stroke-width: 1.5;\" width=\"120\" x=\"432\" y=\"68\"/><text fill=\"#000000\" font-family=\"sans-serif\" font-size=\"12\" font-style=\"italic\" lengthAdjust=\"spacingAndGlyphs\" textLength=\"64\" x=\"460\" y=\"84.1387\">«part def»</text><text fill=\"#000000\" font-family=\"sans-serif\" font-size=\"12\" lengthAdjust=\"spacingAndGlyphs\" textLength=\"8\" x=\"488\" y=\"98.1074\">A</text></a><!--MD5=[14e3b0961a2654348d326746436168a1]\n",
       "cluster E6--><a href=\"psysml:633af2d2-4d32-4996-ac04-a91fff2e720f\" target=\"_top\" title=\"psysml:633af2d2-4d32-4996-ac04-a91fff2e720f\" xlink:actuate=\"onRequest\" xlink:href=\"psysml:633af2d2-4d32-4996-ac04-a91fff2e720f\" xlink:show=\"new\" xlink:title=\"psysml:633af2d2-4d32-4996-ac04-a91fff2e720f\" xlink:type=\"simple\"><rect fill=\"#FFFFFF\" height=\"160\" id=\"E6\" style=\"stroke: #383838; stroke-width: 1.5;\" width=\"185\" x=\"239\" y=\"68\"/><rect fill=\"#F8F8F8\" height=\"37.9375\" style=\"stroke: #383838; stroke-width: 1.5;\" width=\"185\" x=\"239\" y=\"68\"/><text fill=\"#000000\" font-family=\"sans-serif\" font-size=\"12\" font-style=\"italic\" lengthAdjust=\"spacingAndGlyphs\" textLength=\"64\" x=\"299.5\" y=\"84.1387\">«part def»</text><text fill=\"#000000\" font-family=\"sans-serif\" font-size=\"12\" lengthAdjust=\"spacingAndGlyphs\" textLength=\"8\" x=\"327.5\" y=\"98.1074\">B</text></a><!--MD5=[96f4274e9e20536e775497830990834d]\n",
       "class E10--><a href=\"psysml:19a0d075-dfec-4a25-8f91-7b5bd5520f32\" target=\"_top\" title=\"psysml:19a0d075-dfec-4a25-8f91-7b5bd5520f32\" xlink:actuate=\"onRequest\" xlink:href=\"psysml:19a0d075-dfec-4a25-8f91-7b5bd5520f32\" xlink:show=\"new\" xlink:title=\"psysml:19a0d075-dfec-4a25-8f91-7b5bd5520f32\" xlink:type=\"simple\"><rect fill=\"#FFFFFF\" height=\"53.9375\" id=\"E10\" style=\"stroke: #383838; stroke-width: 1.5;\" width=\"114\" x=\"117\" y=\"41\"/><text fill=\"#000000\" font-family=\"sans-serif\" font-size=\"12\" font-style=\"italic\" lengthAdjust=\"spacingAndGlyphs\" textLength=\"112\" x=\"118\" y=\"57.1387\">«(T,blue)port def»</text><text fill=\"#000000\" font-family=\"sans-serif\" font-size=\"12\" lengthAdjust=\"spacingAndGlyphs\" textLength=\"8\" x=\"170\" y=\"71.1074\">C</text><line style=\"stroke: #383838; stroke-width: 1.5;\" x1=\"118\" x2=\"230\" y1=\"78.9375\" y2=\"78.9375\"/><line style=\"stroke: #383838; stroke-width: 1.5;\" x1=\"118\" x2=\"230\" y1=\"86.9375\" y2=\"86.9375\"/></a><g id=\"E1.E2\"><a href=\"psysml:20852434-d7cc-411e-aa3b-cae286a1f6f8\" target=\"_top\" title=\"psysml:20852434-d7cc-411e-aa3b-cae286a1f6f8\" xlink:actuate=\"onRequest\" xlink:href=\"psysml:20852434-d7cc-411e-aa3b-cae286a1f6f8\" xlink:show=\"new\" xlink:title=\"psysml:20852434-d7cc-411e-aa3b-cae286a1f6f8\" xlink:type=\"simple\"><rect fill=\"#FFFFFF\" height=\"40\" id=\"E2\" rx=\"10\" ry=\"10\" style=\"stroke: #383838; stroke-width: 1.5;\" width=\"50\" x=\"32\" y=\"48\"/><rect fill=\"#F8F8F8\" height=\"23.9688\" rx=\"10\" ry=\"10\" style=\"stroke: #F8F8F8; stroke-width: 1.5;\" width=\"50\" x=\"32\" y=\"48\"/><rect fill=\"#F8F8F8\" height=\"10\" style=\"stroke: #F8F8F8; stroke-width: 1.5;\" width=\"50\" x=\"32\" y=\"61.9688\"/><rect fill=\"none\" height=\"40\" id=\"E2\" rx=\"10\" ry=\"10\" style=\"stroke: #383838; stroke-width: 1.5;\" width=\"50\" x=\"32\" y=\"48\"/><text fill=\"#000000\" font-family=\"sans-serif\" font-size=\"12\" lengthAdjust=\"spacingAndGlyphs\" textLength=\"20\" x=\"47\" y=\"64.1387\">f: A</text></a></g><text fill=\"#000000\" font-family=\"sans-serif\" font-size=\"14\" lengthAdjust=\"spacingAndGlyphs\" textLength=\"27\" x=\"478.5\" y=\"46.6982\">c: C</text><rect fill=\"#383838\" height=\"12\" style=\"stroke: #F8F8F8; stroke-width: 1.5;\" width=\"12\" x=\"486\" y=\"62\"/><g id=\"E1.E3.E4\"><a href=\"psysml:1e20eef8-b16d-4a20-93fc-2b015416e79a\" target=\"_top\" title=\"psysml:1e20eef8-b16d-4a20-93fc-2b015416e79a\" xlink:actuate=\"onRequest\" xlink:href=\"psysml:1e20eef8-b16d-4a20-93fc-2b015416e79a\" xlink:show=\"new\" xlink:title=\"psysml:1e20eef8-b16d-4a20-93fc-2b015416e79a\" xlink:type=\"simple\"><rect fill=\"#FFFFFF\" height=\"40\" id=\"E4\" rx=\"10\" ry=\"10\" style=\"stroke: #383838; stroke-width: 1.5;\" width=\"50\" x=\"467\" y=\"172\"/><rect fill=\"#F8F8F8\" height=\"23.9688\" rx=\"10\" ry=\"10\" style=\"stroke: #F8F8F8; stroke-width: 1.5;\" width=\"50\" x=\"467\" y=\"172\"/><rect fill=\"#F8F8F8\" height=\"10\" style=\"stroke: #F8F8F8; stroke-width: 1.5;\" width=\"50\" x=\"467\" y=\"185.9688\"/><rect fill=\"none\" height=\"40\" id=\"E4\" rx=\"10\" ry=\"10\" style=\"stroke: #383838; stroke-width: 1.5;\" width=\"50\" x=\"467\" y=\"172\"/><text fill=\"#000000\" font-family=\"sans-serif\" font-size=\"12\" lengthAdjust=\"spacingAndGlyphs\" textLength=\"24\" x=\"480\" y=\"188.1387\">b: B</text></a></g><text fill=\"#000000\" font-family=\"sans-serif\" font-size=\"14\" lengthAdjust=\"spacingAndGlyphs\" textLength=\"38\" x=\"345\" y=\"46.6982\">x: ~C</text><rect fill=\"#383838\" height=\"12\" style=\"stroke: #F8F8F8; stroke-width: 1.5;\" width=\"12\" x=\"358\" y=\"62\"/><a href=\"psysml:fcdcf065-90d4-4da1-8b43-4feb0ab4c03b\" target=\"_top\" title=\"psysml:fcdcf065-90d4-4da1-8b43-4feb0ab4c03b\" xlink:actuate=\"onRequest\" xlink:href=\"psysml:fcdcf065-90d4-4da1-8b43-4feb0ab4c03b\" xlink:show=\"new\" xlink:title=\"psysml:fcdcf065-90d4-4da1-8b43-4feb0ab4c03b\" xlink:type=\"simple\"><polygon fill=\"#FFFFFF\" points=\"255,111,271,111,278,133.2969,285,133.2969,285,163.5938,255,163.5938,255,111\" style=\"stroke: #000000; stroke-width: 1.5;\"/><line style=\"stroke: #000000; stroke-width: 1.5;\" x1=\"255\" x2=\"278\" y1=\"133.2969\" y2=\"133.2969\"/><text fill=\"#000000\" font-family=\"sans-serif\" font-size=\"14\" font-weight=\"bold\" lengthAdjust=\"spacingAndGlyphs\" textLength=\"10\" x=\"259\" y=\"125.9951\">P</text></a><g id=\"E1.E6.E8\"><a href=\"psysml:adeac7a4-0c31-420e-b3fd-609062fb2f41\" target=\"_top\" title=\"psysml:adeac7a4-0c31-420e-b3fd-609062fb2f41\" xlink:actuate=\"onRequest\" xlink:href=\"psysml:adeac7a4-0c31-420e-b3fd-609062fb2f41\" xlink:show=\"new\" xlink:title=\"psysml:adeac7a4-0c31-420e-b3fd-609062fb2f41\" xlink:type=\"simple\"><rect fill=\"#FFFFFF\" height=\"40\" id=\"E8\" rx=\"10\" ry=\"10\" style=\"stroke: #383838; stroke-width: 1.5;\" width=\"50\" x=\"339\" y=\"172\"/><rect fill=\"#F8F8F8\" height=\"23.9688\" rx=\"10\" ry=\"10\" style=\"stroke: #F8F8F8; stroke-width: 1.5;\" width=\"50\" x=\"339\" y=\"172\"/><rect fill=\"#F8F8F8\" height=\"10\" style=\"stroke: #F8F8F8; stroke-width: 1.5;\" width=\"50\" x=\"339\" y=\"185.9688\"/><rect fill=\"none\" height=\"40\" id=\"E8\" rx=\"10\" ry=\"10\" style=\"stroke: #383838; stroke-width: 1.5;\" width=\"50\" x=\"339\" y=\"172\"/><text fill=\"#000000\" font-family=\"sans-serif\" font-size=\"12\" lengthAdjust=\"spacingAndGlyphs\" textLength=\"24\" x=\"352\" y=\"188.1387\">a: A</text></a></g><!--MD5=[5face831743d9c1e9ba073662b6e40c4]\n",
       "@startuml\r\n",
       "skinparam ranksep 8\r\n",
       "skinparam rectangle {\r\n",
       " backgroundColor<<block>> LightGreen\r\n",
       "}\r\n",
       "skinparam monochrome true\r\n",
       "skinparam classbackgroundcolor white\r\n",
       "skinparam shadowing false\r\n",
       "skinparam wrapWidth 300\r\n",
       "hide circle\r\n",
       "\r\n",
       "package \"BlockTest\" as E1  [[psysml:c0b99535-16c1-47cf-a8d5-3f20b133a54a ]]  {\r\n",
       "rec usage \"f: A\" as E2  [[psysml:20852434-d7cc-411e-aa3b-cae286a1f6f8 ]] {\r\n",
       "}\r\n",
       "rec def \"A\" as E3  <<(T,blue)part def>> [[psysml:cbed5230-ac88-4b7e-9b23-6ffd90d7c059 ]] {\r\n",
       "rec usage \"b: B\" as E4  [[psysml:1e20eef8-b16d-4a20-93fc-2b015416e79a ]] {\r\n",
       "}\r\n",
       "portin \"c: C\" as E5  <<(T,blue)port>> [[psysml:fb57aec8-8cad-41ed-886b-c51c957131e5 ]] \r\n",
       "}\r\n",
       "rec def \"B\" as E6  <<(T,blue)part def>> [[psysml:633af2d2-4d32-4996-ac04-a91fff2e720f ]] {\r\n",
       "package \"P\" as E7  [[psysml:fcdcf065-90d4-4da1-8b43-4feb0ab4c03b ]]  {\r\n",
       "}\r\n",
       "rec usage \"a: A\" as E8  [[psysml:adeac7a4-0c31-420e-b3fd-609062fb2f41 ]] {\r\n",
       "}\r\n",
       "portin \"x: ~C\" as E9  <<(T,blue)port>> [[psysml:64509ffc-1e29-47d8-8b93-efd607e70ae2 ]] \r\n",
       "}\r\n",
       "def \"C\" as E10  <<(T,blue)port def>> [[psysml:19a0d075-dfec-4a25-8f91-7b5bd5520f32 ]] \r\n",
       "}\r\n",
       "@enduml\r\n",
       "\n",
       "PlantUML version 1.2020.13(Sat Jun 13 12:26:38 UTC 2020)\n",
       "(EPL source distribution)\n",
       "Java Runtime: OpenJDK Runtime Environment\n",
       "JVM: OpenJDK 64-Bit Server VM\n",
       "Default Encoding: UTF-8\n",
       "Language: en\n",
       "Country: null\n",
       "--></g></svg>"
      ]
     },
     "execution_count": 40,
     "metadata": {},
     "output_type": "execute_result"
    }
   ],
   "source": [
    "%viz --style=\"DEFAULT\" --view=\"Interconnection\" \"BlockTest\""
   ]
  },
  {
   "cell_type": "code",
   "execution_count": 41,
   "id": "biological-cameroon",
   "metadata": {
    "execution": {
     "iopub.execute_input": "2021-03-25T15:00:02.057644Z",
     "iopub.status.busy": "2021-03-25T15:00:02.057127Z",
     "iopub.status.idle": "2021-03-25T15:00:02.067525Z",
     "shell.execute_reply": "2021-03-25T15:00:02.067108Z"
    }
   },
   "outputs": [
    {
     "data": {
      "image/svg+xml": [
       "<?xml version=\"1.0\" encoding=\"UTF-8\" standalone=\"no\"?><svg xmlns=\"http://www.w3.org/2000/svg\" xmlns:xlink=\"http://www.w3.org/1999/xlink\" contentScriptType=\"application/ecmascript\" contentStyleType=\"text/css\" height=\"12px\" preserveAspectRatio=\"none\" style=\"width:12px;height:12px;\" version=\"1.1\" viewBox=\"0 0 12 12\" width=\"12px\" zoomAndPan=\"magnify\"><defs/><g><!--MD5=[388f21188e31bfdd97050473b19af356]\n",
       "@startuml\r\n",
       "skinparam ranksep 8\r\n",
       "skinparam monochrome true\r\n",
       "skinparam classbackgroundcolor white\r\n",
       "skinparam shadowing false\r\n",
       "skinparam wrapWidth 300\r\n",
       "hide circle\r\n",
       "\r\n",
       "@enduml\r\n",
       "\n",
       "PlantUML version 1.2020.13(Sat Jun 13 12:26:38 UTC 2020)\n",
       "(EPL source distribution)\n",
       "Java Runtime: OpenJDK Runtime Environment\n",
       "JVM: OpenJDK 64-Bit Server VM\n",
       "Default Encoding: UTF-8\n",
       "Language: en\n",
       "Country: null\n",
       "--></g></svg>"
      ]
     },
     "execution_count": 41,
     "metadata": {},
     "output_type": "execute_result"
    }
   ],
   "source": [
    "%viz --style=\"DEFAULT\" --view=\"Action\" \"BlockTest\""
   ]
  },
  {
   "cell_type": "code",
   "execution_count": 42,
   "id": "subject-trick",
   "metadata": {
    "execution": {
     "iopub.execute_input": "2021-03-25T15:00:02.118313Z",
     "iopub.status.busy": "2021-03-25T15:00:02.117792Z",
     "iopub.status.idle": "2021-03-25T15:00:02.645126Z",
     "shell.execute_reply": "2021-03-25T15:00:02.645803Z"
    }
   },
   "outputs": [
    {
     "data": {
      "image/svg+xml": [
       "<?xml version=\"1.0\" encoding=\"UTF-8\" standalone=\"no\"?><svg xmlns=\"http://www.w3.org/2000/svg\" xmlns:xlink=\"http://www.w3.org/1999/xlink\" contentScriptType=\"application/ecmascript\" contentStyleType=\"text/css\" height=\"672px\" preserveAspectRatio=\"none\" style=\"width:231px;height:672px;\" version=\"1.1\" viewBox=\"0 0 231 672\" width=\"231px\" zoomAndPan=\"magnify\"><defs/><g><!--MD5=[fbc87193dbaf4d95561dea2c320d4a47]\n",
       "cluster E1--><a href=\"psysml:c0b99535-16c1-47cf-a8d5-3f20b133a54a\" target=\"_top\" title=\"psysml:c0b99535-16c1-47cf-a8d5-3f20b133a54a\" xlink:actuate=\"onRequest\" xlink:href=\"psysml:c0b99535-16c1-47cf-a8d5-3f20b133a54a\" xlink:show=\"new\" xlink:title=\"psysml:c0b99535-16c1-47cf-a8d5-3f20b133a54a\" xlink:type=\"simple\"><polygon fill=\"#FFFFFF\" points=\"16,6,99,6,106,28.2969,209,28.2969,209,660,16,660,16,6\" style=\"stroke: #000000; stroke-width: 1.5;\"/><line style=\"stroke: #000000; stroke-width: 1.5;\" x1=\"16\" x2=\"106\" y1=\"28.2969\" y2=\"28.2969\"/><text fill=\"#000000\" font-family=\"sans-serif\" font-size=\"14\" font-weight=\"bold\" lengthAdjust=\"spacingAndGlyphs\" textLength=\"77\" x=\"20\" y=\"20.9951\">BlockTest</text></a><!--MD5=[b4997ac47864f28c2f74865a473b2911]\n",
       "class E2--><a href=\"psysml:20852434-d7cc-411e-aa3b-cae286a1f6f8\" target=\"_top\" title=\"psysml:20852434-d7cc-411e-aa3b-cae286a1f6f8\" xlink:actuate=\"onRequest\" xlink:href=\"psysml:20852434-d7cc-411e-aa3b-cae286a1f6f8\" xlink:show=\"new\" xlink:title=\"psysml:20852434-d7cc-411e-aa3b-cae286a1f6f8\" xlink:type=\"simple\"><rect fill=\"#FFFFFF\" height=\"45.9375\" id=\"E2\" rx=\"10\" ry=\"10\" style=\"stroke: #383838; stroke-width: 1.5;\" width=\"42\" x=\"151\" y=\"56\"/><text fill=\"#000000\" font-family=\"sans-serif\" font-size=\"12\" font-style=\"italic\" lengthAdjust=\"spacingAndGlyphs\" textLength=\"40\" x=\"152\" y=\"72.1387\">«part»</text><text fill=\"#000000\" font-family=\"sans-serif\" font-size=\"12\" lengthAdjust=\"spacingAndGlyphs\" textLength=\"20\" x=\"162\" y=\"86.1074\">f: A</text><line style=\"stroke: #383838; stroke-width: 1.5;\" x1=\"152\" x2=\"192\" y1=\"93.9375\" y2=\"93.9375\"/></a><!--MD5=[09b614a08d8cba4a07c9adeb5e0fee81]\n",
       "class E3--><a href=\"psysml:cbed5230-ac88-4b7e-9b23-6ffd90d7c059\" target=\"_top\" title=\"psysml:cbed5230-ac88-4b7e-9b23-6ffd90d7c059\" xlink:actuate=\"onRequest\" xlink:href=\"psysml:cbed5230-ac88-4b7e-9b23-6ffd90d7c059\" xlink:show=\"new\" xlink:title=\"psysml:cbed5230-ac88-4b7e-9b23-6ffd90d7c059\" xlink:type=\"simple\"><rect fill=\"#FFFFFF\" height=\"75.5469\" id=\"E3\" style=\"stroke: #383838; stroke-width: 1.5;\" width=\"66\" x=\"118\" y=\"194\"/><text fill=\"#000000\" font-family=\"sans-serif\" font-size=\"12\" font-style=\"italic\" lengthAdjust=\"spacingAndGlyphs\" textLength=\"64\" x=\"119\" y=\"210.1387\">«part def»</text><text fill=\"#000000\" font-family=\"sans-serif\" font-size=\"12\" lengthAdjust=\"spacingAndGlyphs\" textLength=\"8\" x=\"147\" y=\"224.1074\">A</text><line style=\"stroke: #383838; stroke-width: 1.5;\" x1=\"119\" x2=\"183\" y1=\"231.9375\" y2=\"231.9375\"/><text fill=\"#000000\" font-family=\"sans-serif\" font-size=\"11\" lengthAdjust=\"spacingAndGlyphs\" textLength=\"22\" x=\"124\" y=\"262.9526\">c: C</text><line style=\"stroke: #383838; stroke-width: 1.0;\" x1=\"119\" x2=\"136\" y1=\"246.3398\" y2=\"246.3398\"/><text fill=\"#000000\" font-family=\"sans-serif\" font-size=\"11\" lengthAdjust=\"spacingAndGlyphs\" textLength=\"30\" x=\"136\" y=\"249.6479\">ports</text><line style=\"stroke: #383838; stroke-width: 1.0;\" x1=\"166\" x2=\"183\" y1=\"246.3398\" y2=\"246.3398\"/></a><!--MD5=[ebbe1d658d1005bcc118a6aa81145e00]\n",
       "class E4--><a href=\"psysml:1e20eef8-b16d-4a20-93fc-2b015416e79a\" target=\"_top\" title=\"psysml:1e20eef8-b16d-4a20-93fc-2b015416e79a\" xlink:actuate=\"onRequest\" xlink:href=\"psysml:1e20eef8-b16d-4a20-93fc-2b015416e79a\" xlink:show=\"new\" xlink:title=\"psysml:1e20eef8-b16d-4a20-93fc-2b015416e79a\" xlink:type=\"simple\"><rect fill=\"#FFFFFF\" height=\"45.9375\" id=\"E4\" rx=\"10\" ry=\"10\" style=\"stroke: #383838; stroke-width: 1.5;\" width=\"42\" x=\"106\" y=\"347\"/><text fill=\"#000000\" font-family=\"sans-serif\" font-size=\"12\" font-style=\"italic\" lengthAdjust=\"spacingAndGlyphs\" textLength=\"40\" x=\"107\" y=\"363.1387\">«part»</text><text fill=\"#000000\" font-family=\"sans-serif\" font-size=\"12\" lengthAdjust=\"spacingAndGlyphs\" textLength=\"24\" x=\"115\" y=\"377.1074\">b: B</text><line style=\"stroke: #383838; stroke-width: 1.5;\" x1=\"107\" x2=\"147\" y1=\"384.9375\" y2=\"384.9375\"/></a><!--MD5=[60a26617385b1d2d0262a64233df1f8d]\n",
       "class E6--><a href=\"psysml:633af2d2-4d32-4996-ac04-a91fff2e720f\" target=\"_top\" title=\"psysml:633af2d2-4d32-4996-ac04-a91fff2e720f\" xlink:actuate=\"onRequest\" xlink:href=\"psysml:633af2d2-4d32-4996-ac04-a91fff2e720f\" xlink:show=\"new\" xlink:title=\"psysml:633af2d2-4d32-4996-ac04-a91fff2e720f\" xlink:type=\"simple\"><rect fill=\"#FFFFFF\" height=\"75.5469\" id=\"E6\" style=\"stroke: #383838; stroke-width: 1.5;\" width=\"66\" x=\"77\" y=\"454\"/><text fill=\"#000000\" font-family=\"sans-serif\" font-size=\"12\" font-style=\"italic\" lengthAdjust=\"spacingAndGlyphs\" textLength=\"64\" x=\"78\" y=\"470.1387\">«part def»</text><text fill=\"#000000\" font-family=\"sans-serif\" font-size=\"12\" lengthAdjust=\"spacingAndGlyphs\" textLength=\"8\" x=\"106\" y=\"484.1074\">B</text><line style=\"stroke: #383838; stroke-width: 1.5;\" x1=\"78\" x2=\"142\" y1=\"491.9375\" y2=\"491.9375\"/><text fill=\"#000000\" font-family=\"sans-serif\" font-size=\"11\" lengthAdjust=\"spacingAndGlyphs\" textLength=\"31\" x=\"83\" y=\"522.9526\">x: ~C</text><line style=\"stroke: #383838; stroke-width: 1.0;\" x1=\"78\" x2=\"95\" y1=\"506.3398\" y2=\"506.3398\"/><text fill=\"#000000\" font-family=\"sans-serif\" font-size=\"11\" lengthAdjust=\"spacingAndGlyphs\" textLength=\"30\" x=\"95\" y=\"509.6479\">ports</text><line style=\"stroke: #383838; stroke-width: 1.0;\" x1=\"125\" x2=\"142\" y1=\"506.3398\" y2=\"506.3398\"/></a><!--MD5=[b9389687b975829384b498ac4b7476b2]\n",
       "class E8--><a href=\"psysml:adeac7a4-0c31-420e-b3fd-609062fb2f41\" target=\"_top\" title=\"psysml:adeac7a4-0c31-420e-b3fd-609062fb2f41\" xlink:actuate=\"onRequest\" xlink:href=\"psysml:adeac7a4-0c31-420e-b3fd-609062fb2f41\" xlink:show=\"new\" xlink:title=\"psysml:adeac7a4-0c31-420e-b3fd-609062fb2f41\" xlink:type=\"simple\"><rect fill=\"#FFFFFF\" height=\"45.9375\" id=\"E8\" rx=\"10\" ry=\"10\" style=\"stroke: #383838; stroke-width: 1.5;\" width=\"42\" x=\"151\" y=\"594.5\"/><text fill=\"#000000\" font-family=\"sans-serif\" font-size=\"12\" font-style=\"italic\" lengthAdjust=\"spacingAndGlyphs\" textLength=\"40\" x=\"152\" y=\"610.6387\">«part»</text><text fill=\"#000000\" font-family=\"sans-serif\" font-size=\"12\" lengthAdjust=\"spacingAndGlyphs\" textLength=\"24\" x=\"160\" y=\"624.6074\">a: A</text><line style=\"stroke: #383838; stroke-width: 1.5;\" x1=\"152\" x2=\"192\" y1=\"632.4375\" y2=\"632.4375\"/></a><!--MD5=[96f4274e9e20536e775497830990834d]\n",
       "class E10--><a href=\"psysml:19a0d075-dfec-4a25-8f91-7b5bd5520f32\" target=\"_top\" title=\"psysml:19a0d075-dfec-4a25-8f91-7b5bd5520f32\" xlink:actuate=\"onRequest\" xlink:href=\"psysml:19a0d075-dfec-4a25-8f91-7b5bd5520f32\" xlink:show=\"new\" xlink:title=\"psysml:19a0d075-dfec-4a25-8f91-7b5bd5520f32\" xlink:type=\"simple\"><rect fill=\"#FFFFFF\" height=\"75.5469\" id=\"E10\" style=\"stroke: #383838; stroke-width: 1.5;\" width=\"84\" x=\"32\" y=\"41\"/><text fill=\"#000000\" font-family=\"sans-serif\" font-size=\"12\" font-style=\"italic\" lengthAdjust=\"spacingAndGlyphs\" textLength=\"64\" x=\"42\" y=\"57.1387\">«port def»</text><text fill=\"#000000\" font-family=\"sans-serif\" font-size=\"12\" lengthAdjust=\"spacingAndGlyphs\" textLength=\"8\" x=\"70\" y=\"71.1074\">C</text><line style=\"stroke: #383838; stroke-width: 1.5;\" x1=\"33\" x2=\"115\" y1=\"78.9375\" y2=\"78.9375\"/><text fill=\"#000000\" font-family=\"sans-serif\" font-size=\"11\" lengthAdjust=\"spacingAndGlyphs\" textLength=\"37\" x=\"38\" y=\"109.9526\">y: A, B</text><text fill=\"#000000\" font-family=\"sans-serif\" font-size=\"11\" font-weight=\"bold\" lengthAdjust=\"spacingAndGlyphs\" textLength=\"15\" x=\"79\" y=\"109.9526\">as</text><text fill=\"#000000\" font-family=\"sans-serif\" font-size=\"11\" lengthAdjust=\"spacingAndGlyphs\" textLength=\"12\" x=\"98\" y=\"109.9526\">z2</text><line style=\"stroke: #383838; stroke-width: 1.0;\" x1=\"33\" x2=\"43\" y1=\"93.3398\" y2=\"93.3398\"/><text fill=\"#000000\" font-family=\"sans-serif\" font-size=\"11\" lengthAdjust=\"spacingAndGlyphs\" textLength=\"62\" x=\"43\" y=\"96.6479\">references</text><line style=\"stroke: #383838; stroke-width: 1.0;\" x1=\"105\" x2=\"115\" y1=\"93.3398\" y2=\"93.3398\"/></a><a href=\"psysml:fcdcf065-90d4-4da1-8b43-4feb0ab4c03b\" target=\"_top\" title=\"psysml:fcdcf065-90d4-4da1-8b43-4feb0ab4c03b\" xlink:actuate=\"onRequest\" xlink:href=\"psysml:fcdcf065-90d4-4da1-8b43-4feb0ab4c03b\" xlink:show=\"new\" xlink:title=\"psysml:fcdcf065-90d4-4da1-8b43-4feb0ab4c03b\" xlink:type=\"simple\"><polygon fill=\"#FFFFFF\" points=\"86,591,102,591,109,613.2969,116,613.2969,116,643.5938,86,643.5938,86,591\" style=\"stroke: #000000; stroke-width: 1.5;\"/><line style=\"stroke: #000000; stroke-width: 1.5;\" x1=\"86\" x2=\"109\" y1=\"613.2969\" y2=\"613.2969\"/><text fill=\"#000000\" font-family=\"sans-serif\" font-size=\"14\" font-weight=\"bold\" lengthAdjust=\"spacingAndGlyphs\" textLength=\"10\" x=\"90\" y=\"605.9951\">P</text></a><!--MD5=[2720a5a1f2c3fca2055b230370638851]\n",
       "link E2 to E3--><a href=\"psysml:1f32f64a-cd2f-48b1-a0ff-85d8f5396f29\" target=\"_top\" title=\"psysml:1f32f64a-cd2f-48b1-a0ff-85d8f5396f29\" xlink:actuate=\"onRequest\" xlink:href=\"psysml:1f32f64a-cd2f-48b1-a0ff-85d8f5396f29\" xlink:show=\"new\" xlink:title=\"psysml:1f32f64a-cd2f-48b1-a0ff-85d8f5396f29\" xlink:type=\"simple\"><path d=\"M168.9,102.28 C166.28,121.12 162.41,148.97 158.94,173.94 \" fill=\"none\" id=\"E2-&gt;E3\" style=\"stroke: #383838; stroke-width: 1.0;\"/><polygon fill=\"#FFFFFF\" points=\"156.15,193.98,151.8354,174.1966,165.7018,176.1261,156.15,193.98\" style=\"stroke: #383838; stroke-width: 1.0;\"/><ellipse cx=\"154.6019\" cy=\"168.8266\" fill=\"#383838\" rx=\"2\" ry=\"2\" style=\"stroke: #383838; stroke-width: 1.0;\"/><ellipse cx=\"164.5065\" cy=\"170.2048\" fill=\"#383838\" rx=\"2\" ry=\"2\" style=\"stroke: #383838; stroke-width: 1.0;\"/></a><!--MD5=[4672eba38e49728da53d11aeb285b987]\n",
       "reverse link E3 to E4--><a href=\"psysml:1e20eef8-b16d-4a20-93fc-2b015416e79a\" target=\"_top\" title=\"psysml:1e20eef8-b16d-4a20-93fc-2b015416e79a\" xlink:actuate=\"onRequest\" xlink:href=\"psysml:1e20eef8-b16d-4a20-93fc-2b015416e79a\" xlink:show=\"new\" xlink:title=\"psysml:1e20eef8-b16d-4a20-93fc-2b015416e79a\" xlink:type=\"simple\"><path d=\"M142.17,283.02 C138.31,304.93 133.97,329.52 130.92,346.77 \" fill=\"none\" id=\"E3&lt;-E4\" style=\"stroke: #383838; stroke-width: 1.0;\"/><polygon fill=\"#383838\" points=\"144.44,270.16,139.4532,275.3688,142.3433,281.9754,147.3301,276.7666,144.44,270.16\" style=\"stroke: #383838; stroke-width: 1.0;\"/></a><!--MD5=[79568f1e445c3877b6a54524624ccc7d]\n",
       "link E4 to E6--><a href=\"psysml:97a379fd-51a7-461f-afe4-84a5f5da2292\" target=\"_top\" title=\"psysml:97a379fd-51a7-461f-afe4-84a5f5da2292\" xlink:actuate=\"onRequest\" xlink:href=\"psysml:97a379fd-51a7-461f-afe4-84a5f5da2292\" xlink:show=\"new\" xlink:title=\"psysml:97a379fd-51a7-461f-afe4-84a5f5da2292\" xlink:type=\"simple\"><path d=\"M123.88,393.01 C122.25,404.51 120.18,419.17 118.13,433.62 \" fill=\"none\" id=\"E4-&gt;E6\" style=\"stroke: #383838; stroke-width: 1.0;\"/><polygon fill=\"#FFFFFF\" points=\"115.3,453.57,111.0294,433.777,124.8914,435.7373,115.3,453.57\" style=\"stroke: #383838; stroke-width: 1.0;\"/><ellipse cx=\"113.8078\" cy=\"428.4132\" fill=\"#383838\" rx=\"2\" ry=\"2\" style=\"stroke: #383838; stroke-width: 1.0;\"/><ellipse cx=\"123.7093\" cy=\"429.8134\" fill=\"#383838\" rx=\"2\" ry=\"2\" style=\"stroke: #383838; stroke-width: 1.0;\"/></a><!--MD5=[3f50a3473f1dfb74d3f76443e03635af]\n",
       "reverse link E6 to E7--><a href=\"psysml:fcdcf065-90d4-4da1-8b43-4feb0ab4c03b\" target=\"_top\" title=\"psysml:fcdcf065-90d4-4da1-8b43-4feb0ab4c03b\" xlink:actuate=\"onRequest\" xlink:href=\"psysml:fcdcf065-90d4-4da1-8b43-4feb0ab4c03b\" xlink:show=\"new\" xlink:title=\"psysml:fcdcf065-90d4-4da1-8b43-4feb0ab4c03b\" xlink:type=\"simple\"><path d=\"M106.18,545.35 C105.04,561.08 103.83,577.65 102.87,590.83 \" fill=\"none\" id=\"E6&lt;-E7\" style=\"stroke: #383838; stroke-width: 1.0;\"/><ellipse cx=\"106.7138\" cy=\"538.0285\" fill=\"#FFFFFF\" rx=\"8\" ry=\"8\" style=\"stroke: #383838; stroke-width: 1.0;\"/><line style=\"stroke: #383838; stroke-width: 1.0;\" x1=\"106.1276\" x2=\"107.3\" y1=\"546.007\" y2=\"530.05\"/><line style=\"stroke: #383838; stroke-width: 1.0;\" x1=\"98.7353\" x2=\"114.6923\" y1=\"537.4423\" y2=\"538.6147\"/></a><!--MD5=[95fa686b5a16158bcdbcaeead89f639b]\n",
       "link E8 to E3--><a href=\"psysml:c8b02122-2142-456b-8199-9bf99e52168e\" target=\"_top\" title=\"psysml:c8b02122-2142-456b-8199-9bf99e52168e\" xlink:actuate=\"onRequest\" xlink:href=\"psysml:c8b02122-2142-456b-8199-9bf99e52168e\" xlink:show=\"new\" xlink:title=\"psysml:c8b02122-2142-456b-8199-9bf99e52168e\" xlink:type=\"simple\"><path d=\"M172.32,594.45 C172.8,548.41 173.03,438.69 166,347 C164.57,328.37 162.18,308.13 159.73,289.94 \" fill=\"none\" id=\"E8-&gt;E3\" style=\"stroke: #383838; stroke-width: 1.0;\"/><polygon fill=\"#FFFFFF\" points=\"156.92,270.12,166.5114,287.9527,152.6494,289.913,156.92,270.12\" style=\"stroke: #383838; stroke-width: 1.0;\"/><ellipse cx=\"165.3293\" cy=\"293.8766\" fill=\"#383838\" rx=\"2\" ry=\"2\" style=\"stroke: #383838; stroke-width: 1.0;\"/><ellipse cx=\"155.4278\" cy=\"295.2768\" fill=\"#383838\" rx=\"2\" ry=\"2\" style=\"stroke: #383838; stroke-width: 1.0;\"/></a><!--MD5=[f4cf0736d43fd73c4ef68817c49d37d5]\n",
       "reverse link E6 to E8--><a href=\"psysml:adeac7a4-0c31-420e-b3fd-609062fb2f41\" target=\"_top\" title=\"psysml:adeac7a4-0c31-420e-b3fd-609062fb2f41\" xlink:actuate=\"onRequest\" xlink:href=\"psysml:adeac7a4-0c31-420e-b3fd-609062fb2f41\" xlink:show=\"new\" xlink:title=\"psysml:adeac7a4-0c31-420e-b3fd-609062fb2f41\" xlink:type=\"simple\"><path d=\"M134.44,541.68 C143.55,559.83 153.45,579.55 160.8,594.19 \" fill=\"none\" id=\"E6&lt;-E8\" style=\"stroke: #383838; stroke-width: 1.0;\"/><polygon fill=\"#383838\" points=\"128.6,530.05,127.7161,537.2067,133.9824,540.7752,134.8663,533.6185,128.6,530.05\" style=\"stroke: #383838; stroke-width: 1.0;\"/></a><!--MD5=[8e04057e7b3cbc0dca4fc78ea351e2da]\n",
       "reverse link E10 to E3--><a href=\"psysml:4b320237-d900-4f83-8ac2-28b55b9df163\" target=\"_top\" title=\"psysml:4b320237-d900-4f83-8ac2-28b55b9df163\" xlink:actuate=\"onRequest\" xlink:href=\"psysml:4b320237-d900-4f83-8ac2-28b55b9df163\" xlink:show=\"new\" xlink:title=\"psysml:4b320237-d900-4f83-8ac2-28b55b9df163\" xlink:type=\"simple\"><path d=\"M98.98,128.98 C109.72,150.06 122.08,174.29 132.05,193.84 \" fill=\"none\" id=\"E10&lt;-E3\" style=\"stroke: #383838; stroke-width: 1.0;\"/><polygon fill=\"#FFFFFF\" points=\"93.03,117.33,92.1919,124.4922,98.4809,128.0206,99.319,120.8583,93.03,117.33\" style=\"stroke: #383838; stroke-width: 1.0;\"/><text fill=\"#000000\" font-family=\"sans-serif\" font-size=\"13\" lengthAdjust=\"spacingAndGlyphs\" textLength=\"7\" x=\"115\" y=\"160.0669\">y</text></a><!--MD5=[604cbf994c02b74b117f728a71673cea]\n",
       "reverse link E10 to E6--><a href=\"psysml:4b320237-d900-4f83-8ac2-28b55b9df163\" target=\"_top\" title=\"psysml:4b320237-d900-4f83-8ac2-28b55b9df163\" xlink:actuate=\"onRequest\" xlink:href=\"psysml:4b320237-d900-4f83-8ac2-28b55b9df163\" xlink:show=\"new\" xlink:title=\"psysml:4b320237-d900-4f83-8ac2-28b55b9df163\" xlink:type=\"simple\"><path d=\"M73.89,130.53 C74.34,192.6 77.02,300.97 89,393 C91.63,413.19 96.24,435.39 100.47,453.55 \" fill=\"none\" id=\"E10&lt;-E6\" style=\"stroke: #383838; stroke-width: 1.0;\"/><polygon fill=\"#FFFFFF\" points=\"73.83,117.27,69.863,123.2919,73.8959,129.2698,77.8629,123.2479,73.83,117.27\" style=\"stroke: #383838; stroke-width: 1.0;\"/><text fill=\"#000000\" font-family=\"sans-serif\" font-size=\"13\" lengthAdjust=\"spacingAndGlyphs\" textLength=\"7\" x=\"82\" y=\"313.0669\">y</text></a><!--MD5=[1af641a2ab5f69f331e8a3e2d6a0b8ae]\n",
       "@startuml\r\n",
       "skinparam monochrome true\r\n",
       "skinparam classbackgroundcolor white\r\n",
       "skinparam shadowing false\r\n",
       "skinparam wrapWidth 300\r\n",
       "hide circle\r\n",
       "\r\n",
       "package \"BlockTest\" as E1  [[psysml:c0b99535-16c1-47cf-a8d5-3f20b133a54a ]]  {\r\n",
       "comp usage \"f: A\" as E2  <<(T,blue)part>> [[psysml:20852434-d7cc-411e-aa3b-cae286a1f6f8 ]] {\r\n",
       "}\r\n",
       "comp def \"A\" as E3  <<(T,blue)part def>> [[psysml:cbed5230-ac88-4b7e-9b23-6ffd90d7c059 ]] {\r\n",
       "- - ports - -\r\n",
       "c: C\r\n",
       "}\r\n",
       "comp usage \"b: B\" as E4  <<(T,blue)part>> [[psysml:1e20eef8-b16d-4a20-93fc-2b015416e79a ]] {\r\n",
       "}\r\n",
       "comp def \"B\" as E6  <<(T,blue)part def>> [[psysml:633af2d2-4d32-4996-ac04-a91fff2e720f ]] {\r\n",
       "- - ports - -\r\n",
       "x: ~C\r\n",
       "}\r\n",
       "package \"P\" as E7  [[psysml:fcdcf065-90d4-4da1-8b43-4feb0ab4c03b ]]  {\r\n",
       "}\r\n",
       "comp usage \"a: A\" as E8  <<(T,blue)part>> [[psysml:adeac7a4-0c31-420e-b3fd-609062fb2f41 ]] {\r\n",
       "}\r\n",
       "comp def \"C\" as E10  <<(T,blue)port def>> [[psysml:19a0d075-dfec-4a25-8f91-7b5bd5520f32 ]] {\r\n",
       "- - references - -\r\n",
       "y: A, B <b>as</b> z2 \r\n",
       "}\r\n",
       "E2 - -:|> E3 [[psysml:1f32f64a-cd2f-48b1-a0ff-85d8f5396f29 ]] \r\n",
       "E3 *- - E4 [[psysml:1e20eef8-b16d-4a20-93fc-2b015416e79a ]] \r\n",
       "E4 - -:|> E6 [[psysml:97a379fd-51a7-461f-afe4-84a5f5da2292 ]] \r\n",
       "E6 +- - E7 [[psysml:fcdcf065-90d4-4da1-8b43-4feb0ab4c03b ]] \r\n",
       "E8 - -:|> E3 [[psysml:c8b02122-2142-456b-8199-9bf99e52168e ]] \r\n",
       "E6 *- - E8 [[psysml:adeac7a4-0c31-420e-b3fd-609062fb2f41 ]] \r\n",
       "E10 o- - E3 [[psysml:4b320237-d900-4f83-8ac2-28b55b9df163 ]] : y\r\n",
       "E10 o- - E6 [[psysml:4b320237-d900-4f83-8ac2-28b55b9df163 ]] : y\r\n",
       "}\r\n",
       "@enduml\r\n",
       "\n",
       "PlantUML version 1.2020.13(Sat Jun 13 12:26:38 UTC 2020)\n",
       "(EPL source distribution)\n",
       "Java Runtime: OpenJDK Runtime Environment\n",
       "JVM: OpenJDK 64-Bit Server VM\n",
       "Default Encoding: UTF-8\n",
       "Language: en\n",
       "Country: null\n",
       "--></g></svg>"
      ]
     },
     "execution_count": 42,
     "metadata": {},
     "output_type": "execute_result"
    }
   ],
   "source": [
    "%viz --style=\"DEFAULT\" --view=\"Sequence\" \"BlockTest\""
   ]
  },
  {
   "cell_type": "code",
   "execution_count": 43,
   "id": "advised-performer",
   "metadata": {
    "execution": {
     "iopub.execute_input": "2021-03-25T15:00:02.695935Z",
     "iopub.status.busy": "2021-03-25T15:00:02.694925Z",
     "iopub.status.idle": "2021-03-25T15:00:03.220345Z",
     "shell.execute_reply": "2021-03-25T15:00:03.219098Z"
    }
   },
   "outputs": [
    {
     "data": {
      "image/svg+xml": [
       "<?xml version=\"1.0\" encoding=\"UTF-8\" standalone=\"no\"?><svg xmlns=\"http://www.w3.org/2000/svg\" xmlns:xlink=\"http://www.w3.org/1999/xlink\" contentScriptType=\"application/ecmascript\" contentStyleType=\"text/css\" height=\"672px\" preserveAspectRatio=\"none\" style=\"width:231px;height:672px;\" version=\"1.1\" viewBox=\"0 0 231 672\" width=\"231px\" zoomAndPan=\"magnify\"><defs/><g><!--MD5=[fbc87193dbaf4d95561dea2c320d4a47]\n",
       "cluster E1--><a href=\"psysml:c0b99535-16c1-47cf-a8d5-3f20b133a54a\" target=\"_top\" title=\"psysml:c0b99535-16c1-47cf-a8d5-3f20b133a54a\" xlink:actuate=\"onRequest\" xlink:href=\"psysml:c0b99535-16c1-47cf-a8d5-3f20b133a54a\" xlink:show=\"new\" xlink:title=\"psysml:c0b99535-16c1-47cf-a8d5-3f20b133a54a\" xlink:type=\"simple\"><polygon fill=\"#FFFFFF\" points=\"16,6,99,6,106,28.2969,209,28.2969,209,660,16,660,16,6\" style=\"stroke: #000000; stroke-width: 1.5;\"/><line style=\"stroke: #000000; stroke-width: 1.5;\" x1=\"16\" x2=\"106\" y1=\"28.2969\" y2=\"28.2969\"/><text fill=\"#000000\" font-family=\"sans-serif\" font-size=\"14\" font-weight=\"bold\" lengthAdjust=\"spacingAndGlyphs\" textLength=\"77\" x=\"20\" y=\"20.9951\">BlockTest</text></a><!--MD5=[b4997ac47864f28c2f74865a473b2911]\n",
       "class E2--><a href=\"psysml:20852434-d7cc-411e-aa3b-cae286a1f6f8\" target=\"_top\" title=\"psysml:20852434-d7cc-411e-aa3b-cae286a1f6f8\" xlink:actuate=\"onRequest\" xlink:href=\"psysml:20852434-d7cc-411e-aa3b-cae286a1f6f8\" xlink:show=\"new\" xlink:title=\"psysml:20852434-d7cc-411e-aa3b-cae286a1f6f8\" xlink:type=\"simple\"><rect fill=\"#FFFFFF\" height=\"45.9375\" id=\"E2\" rx=\"10\" ry=\"10\" style=\"stroke: #383838; stroke-width: 1.5;\" width=\"42\" x=\"151\" y=\"56\"/><text fill=\"#000000\" font-family=\"sans-serif\" font-size=\"12\" font-style=\"italic\" lengthAdjust=\"spacingAndGlyphs\" textLength=\"40\" x=\"152\" y=\"72.1387\">«part»</text><text fill=\"#000000\" font-family=\"sans-serif\" font-size=\"12\" lengthAdjust=\"spacingAndGlyphs\" textLength=\"20\" x=\"162\" y=\"86.1074\">f: A</text><line style=\"stroke: #383838; stroke-width: 1.5;\" x1=\"152\" x2=\"192\" y1=\"93.9375\" y2=\"93.9375\"/></a><!--MD5=[09b614a08d8cba4a07c9adeb5e0fee81]\n",
       "class E3--><a href=\"psysml:cbed5230-ac88-4b7e-9b23-6ffd90d7c059\" target=\"_top\" title=\"psysml:cbed5230-ac88-4b7e-9b23-6ffd90d7c059\" xlink:actuate=\"onRequest\" xlink:href=\"psysml:cbed5230-ac88-4b7e-9b23-6ffd90d7c059\" xlink:show=\"new\" xlink:title=\"psysml:cbed5230-ac88-4b7e-9b23-6ffd90d7c059\" xlink:type=\"simple\"><rect fill=\"#FFFFFF\" height=\"75.5469\" id=\"E3\" style=\"stroke: #383838; stroke-width: 1.5;\" width=\"66\" x=\"118\" y=\"194\"/><text fill=\"#000000\" font-family=\"sans-serif\" font-size=\"12\" font-style=\"italic\" lengthAdjust=\"spacingAndGlyphs\" textLength=\"64\" x=\"119\" y=\"210.1387\">«part def»</text><text fill=\"#000000\" font-family=\"sans-serif\" font-size=\"12\" lengthAdjust=\"spacingAndGlyphs\" textLength=\"8\" x=\"147\" y=\"224.1074\">A</text><line style=\"stroke: #383838; stroke-width: 1.5;\" x1=\"119\" x2=\"183\" y1=\"231.9375\" y2=\"231.9375\"/><text fill=\"#000000\" font-family=\"sans-serif\" font-size=\"11\" lengthAdjust=\"spacingAndGlyphs\" textLength=\"22\" x=\"124\" y=\"262.9526\">c: C</text><line style=\"stroke: #383838; stroke-width: 1.0;\" x1=\"119\" x2=\"136\" y1=\"246.3398\" y2=\"246.3398\"/><text fill=\"#000000\" font-family=\"sans-serif\" font-size=\"11\" lengthAdjust=\"spacingAndGlyphs\" textLength=\"30\" x=\"136\" y=\"249.6479\">ports</text><line style=\"stroke: #383838; stroke-width: 1.0;\" x1=\"166\" x2=\"183\" y1=\"246.3398\" y2=\"246.3398\"/></a><!--MD5=[ebbe1d658d1005bcc118a6aa81145e00]\n",
       "class E4--><a href=\"psysml:1e20eef8-b16d-4a20-93fc-2b015416e79a\" target=\"_top\" title=\"psysml:1e20eef8-b16d-4a20-93fc-2b015416e79a\" xlink:actuate=\"onRequest\" xlink:href=\"psysml:1e20eef8-b16d-4a20-93fc-2b015416e79a\" xlink:show=\"new\" xlink:title=\"psysml:1e20eef8-b16d-4a20-93fc-2b015416e79a\" xlink:type=\"simple\"><rect fill=\"#FFFFFF\" height=\"45.9375\" id=\"E4\" rx=\"10\" ry=\"10\" style=\"stroke: #383838; stroke-width: 1.5;\" width=\"42\" x=\"106\" y=\"347\"/><text fill=\"#000000\" font-family=\"sans-serif\" font-size=\"12\" font-style=\"italic\" lengthAdjust=\"spacingAndGlyphs\" textLength=\"40\" x=\"107\" y=\"363.1387\">«part»</text><text fill=\"#000000\" font-family=\"sans-serif\" font-size=\"12\" lengthAdjust=\"spacingAndGlyphs\" textLength=\"24\" x=\"115\" y=\"377.1074\">b: B</text><line style=\"stroke: #383838; stroke-width: 1.5;\" x1=\"107\" x2=\"147\" y1=\"384.9375\" y2=\"384.9375\"/></a><!--MD5=[60a26617385b1d2d0262a64233df1f8d]\n",
       "class E6--><a href=\"psysml:633af2d2-4d32-4996-ac04-a91fff2e720f\" target=\"_top\" title=\"psysml:633af2d2-4d32-4996-ac04-a91fff2e720f\" xlink:actuate=\"onRequest\" xlink:href=\"psysml:633af2d2-4d32-4996-ac04-a91fff2e720f\" xlink:show=\"new\" xlink:title=\"psysml:633af2d2-4d32-4996-ac04-a91fff2e720f\" xlink:type=\"simple\"><rect fill=\"#FFFFFF\" height=\"75.5469\" id=\"E6\" style=\"stroke: #383838; stroke-width: 1.5;\" width=\"66\" x=\"77\" y=\"454\"/><text fill=\"#000000\" font-family=\"sans-serif\" font-size=\"12\" font-style=\"italic\" lengthAdjust=\"spacingAndGlyphs\" textLength=\"64\" x=\"78\" y=\"470.1387\">«part def»</text><text fill=\"#000000\" font-family=\"sans-serif\" font-size=\"12\" lengthAdjust=\"spacingAndGlyphs\" textLength=\"8\" x=\"106\" y=\"484.1074\">B</text><line style=\"stroke: #383838; stroke-width: 1.5;\" x1=\"78\" x2=\"142\" y1=\"491.9375\" y2=\"491.9375\"/><text fill=\"#000000\" font-family=\"sans-serif\" font-size=\"11\" lengthAdjust=\"spacingAndGlyphs\" textLength=\"31\" x=\"83\" y=\"522.9526\">x: ~C</text><line style=\"stroke: #383838; stroke-width: 1.0;\" x1=\"78\" x2=\"95\" y1=\"506.3398\" y2=\"506.3398\"/><text fill=\"#000000\" font-family=\"sans-serif\" font-size=\"11\" lengthAdjust=\"spacingAndGlyphs\" textLength=\"30\" x=\"95\" y=\"509.6479\">ports</text><line style=\"stroke: #383838; stroke-width: 1.0;\" x1=\"125\" x2=\"142\" y1=\"506.3398\" y2=\"506.3398\"/></a><!--MD5=[b9389687b975829384b498ac4b7476b2]\n",
       "class E8--><a href=\"psysml:adeac7a4-0c31-420e-b3fd-609062fb2f41\" target=\"_top\" title=\"psysml:adeac7a4-0c31-420e-b3fd-609062fb2f41\" xlink:actuate=\"onRequest\" xlink:href=\"psysml:adeac7a4-0c31-420e-b3fd-609062fb2f41\" xlink:show=\"new\" xlink:title=\"psysml:adeac7a4-0c31-420e-b3fd-609062fb2f41\" xlink:type=\"simple\"><rect fill=\"#FFFFFF\" height=\"45.9375\" id=\"E8\" rx=\"10\" ry=\"10\" style=\"stroke: #383838; stroke-width: 1.5;\" width=\"42\" x=\"151\" y=\"594.5\"/><text fill=\"#000000\" font-family=\"sans-serif\" font-size=\"12\" font-style=\"italic\" lengthAdjust=\"spacingAndGlyphs\" textLength=\"40\" x=\"152\" y=\"610.6387\">«part»</text><text fill=\"#000000\" font-family=\"sans-serif\" font-size=\"12\" lengthAdjust=\"spacingAndGlyphs\" textLength=\"24\" x=\"160\" y=\"624.6074\">a: A</text><line style=\"stroke: #383838; stroke-width: 1.5;\" x1=\"152\" x2=\"192\" y1=\"632.4375\" y2=\"632.4375\"/></a><!--MD5=[96f4274e9e20536e775497830990834d]\n",
       "class E10--><a href=\"psysml:19a0d075-dfec-4a25-8f91-7b5bd5520f32\" target=\"_top\" title=\"psysml:19a0d075-dfec-4a25-8f91-7b5bd5520f32\" xlink:actuate=\"onRequest\" xlink:href=\"psysml:19a0d075-dfec-4a25-8f91-7b5bd5520f32\" xlink:show=\"new\" xlink:title=\"psysml:19a0d075-dfec-4a25-8f91-7b5bd5520f32\" xlink:type=\"simple\"><rect fill=\"#FFFFFF\" height=\"75.5469\" id=\"E10\" style=\"stroke: #383838; stroke-width: 1.5;\" width=\"84\" x=\"32\" y=\"41\"/><text fill=\"#000000\" font-family=\"sans-serif\" font-size=\"12\" font-style=\"italic\" lengthAdjust=\"spacingAndGlyphs\" textLength=\"64\" x=\"42\" y=\"57.1387\">«port def»</text><text fill=\"#000000\" font-family=\"sans-serif\" font-size=\"12\" lengthAdjust=\"spacingAndGlyphs\" textLength=\"8\" x=\"70\" y=\"71.1074\">C</text><line style=\"stroke: #383838; stroke-width: 1.5;\" x1=\"33\" x2=\"115\" y1=\"78.9375\" y2=\"78.9375\"/><text fill=\"#000000\" font-family=\"sans-serif\" font-size=\"11\" lengthAdjust=\"spacingAndGlyphs\" textLength=\"37\" x=\"38\" y=\"109.9526\">y: A, B</text><text fill=\"#000000\" font-family=\"sans-serif\" font-size=\"11\" font-weight=\"bold\" lengthAdjust=\"spacingAndGlyphs\" textLength=\"15\" x=\"79\" y=\"109.9526\">as</text><text fill=\"#000000\" font-family=\"sans-serif\" font-size=\"11\" lengthAdjust=\"spacingAndGlyphs\" textLength=\"12\" x=\"98\" y=\"109.9526\">z2</text><line style=\"stroke: #383838; stroke-width: 1.0;\" x1=\"33\" x2=\"43\" y1=\"93.3398\" y2=\"93.3398\"/><text fill=\"#000000\" font-family=\"sans-serif\" font-size=\"11\" lengthAdjust=\"spacingAndGlyphs\" textLength=\"62\" x=\"43\" y=\"96.6479\">references</text><line style=\"stroke: #383838; stroke-width: 1.0;\" x1=\"105\" x2=\"115\" y1=\"93.3398\" y2=\"93.3398\"/></a><a href=\"psysml:fcdcf065-90d4-4da1-8b43-4feb0ab4c03b\" target=\"_top\" title=\"psysml:fcdcf065-90d4-4da1-8b43-4feb0ab4c03b\" xlink:actuate=\"onRequest\" xlink:href=\"psysml:fcdcf065-90d4-4da1-8b43-4feb0ab4c03b\" xlink:show=\"new\" xlink:title=\"psysml:fcdcf065-90d4-4da1-8b43-4feb0ab4c03b\" xlink:type=\"simple\"><polygon fill=\"#FFFFFF\" points=\"86,591,102,591,109,613.2969,116,613.2969,116,643.5938,86,643.5938,86,591\" style=\"stroke: #000000; stroke-width: 1.5;\"/><line style=\"stroke: #000000; stroke-width: 1.5;\" x1=\"86\" x2=\"109\" y1=\"613.2969\" y2=\"613.2969\"/><text fill=\"#000000\" font-family=\"sans-serif\" font-size=\"14\" font-weight=\"bold\" lengthAdjust=\"spacingAndGlyphs\" textLength=\"10\" x=\"90\" y=\"605.9951\">P</text></a><!--MD5=[2720a5a1f2c3fca2055b230370638851]\n",
       "link E2 to E3--><a href=\"psysml:1f32f64a-cd2f-48b1-a0ff-85d8f5396f29\" target=\"_top\" title=\"psysml:1f32f64a-cd2f-48b1-a0ff-85d8f5396f29\" xlink:actuate=\"onRequest\" xlink:href=\"psysml:1f32f64a-cd2f-48b1-a0ff-85d8f5396f29\" xlink:show=\"new\" xlink:title=\"psysml:1f32f64a-cd2f-48b1-a0ff-85d8f5396f29\" xlink:type=\"simple\"><path d=\"M168.9,102.28 C166.28,121.12 162.41,148.97 158.94,173.94 \" fill=\"none\" id=\"E2-&gt;E3\" style=\"stroke: #383838; stroke-width: 1.0;\"/><polygon fill=\"#FFFFFF\" points=\"156.15,193.98,151.8354,174.1966,165.7018,176.1261,156.15,193.98\" style=\"stroke: #383838; stroke-width: 1.0;\"/><ellipse cx=\"154.6019\" cy=\"168.8266\" fill=\"#383838\" rx=\"2\" ry=\"2\" style=\"stroke: #383838; stroke-width: 1.0;\"/><ellipse cx=\"164.5065\" cy=\"170.2048\" fill=\"#383838\" rx=\"2\" ry=\"2\" style=\"stroke: #383838; stroke-width: 1.0;\"/></a><!--MD5=[4672eba38e49728da53d11aeb285b987]\n",
       "reverse link E3 to E4--><a href=\"psysml:1e20eef8-b16d-4a20-93fc-2b015416e79a\" target=\"_top\" title=\"psysml:1e20eef8-b16d-4a20-93fc-2b015416e79a\" xlink:actuate=\"onRequest\" xlink:href=\"psysml:1e20eef8-b16d-4a20-93fc-2b015416e79a\" xlink:show=\"new\" xlink:title=\"psysml:1e20eef8-b16d-4a20-93fc-2b015416e79a\" xlink:type=\"simple\"><path d=\"M142.17,283.02 C138.31,304.93 133.97,329.52 130.92,346.77 \" fill=\"none\" id=\"E3&lt;-E4\" style=\"stroke: #383838; stroke-width: 1.0;\"/><polygon fill=\"#383838\" points=\"144.44,270.16,139.4532,275.3688,142.3433,281.9754,147.3301,276.7666,144.44,270.16\" style=\"stroke: #383838; stroke-width: 1.0;\"/></a><!--MD5=[79568f1e445c3877b6a54524624ccc7d]\n",
       "link E4 to E6--><a href=\"psysml:97a379fd-51a7-461f-afe4-84a5f5da2292\" target=\"_top\" title=\"psysml:97a379fd-51a7-461f-afe4-84a5f5da2292\" xlink:actuate=\"onRequest\" xlink:href=\"psysml:97a379fd-51a7-461f-afe4-84a5f5da2292\" xlink:show=\"new\" xlink:title=\"psysml:97a379fd-51a7-461f-afe4-84a5f5da2292\" xlink:type=\"simple\"><path d=\"M123.88,393.01 C122.25,404.51 120.18,419.17 118.13,433.62 \" fill=\"none\" id=\"E4-&gt;E6\" style=\"stroke: #383838; stroke-width: 1.0;\"/><polygon fill=\"#FFFFFF\" points=\"115.3,453.57,111.0294,433.777,124.8914,435.7373,115.3,453.57\" style=\"stroke: #383838; stroke-width: 1.0;\"/><ellipse cx=\"113.8078\" cy=\"428.4132\" fill=\"#383838\" rx=\"2\" ry=\"2\" style=\"stroke: #383838; stroke-width: 1.0;\"/><ellipse cx=\"123.7093\" cy=\"429.8134\" fill=\"#383838\" rx=\"2\" ry=\"2\" style=\"stroke: #383838; stroke-width: 1.0;\"/></a><!--MD5=[3f50a3473f1dfb74d3f76443e03635af]\n",
       "reverse link E6 to E7--><a href=\"psysml:fcdcf065-90d4-4da1-8b43-4feb0ab4c03b\" target=\"_top\" title=\"psysml:fcdcf065-90d4-4da1-8b43-4feb0ab4c03b\" xlink:actuate=\"onRequest\" xlink:href=\"psysml:fcdcf065-90d4-4da1-8b43-4feb0ab4c03b\" xlink:show=\"new\" xlink:title=\"psysml:fcdcf065-90d4-4da1-8b43-4feb0ab4c03b\" xlink:type=\"simple\"><path d=\"M106.18,545.35 C105.04,561.08 103.83,577.65 102.87,590.83 \" fill=\"none\" id=\"E6&lt;-E7\" style=\"stroke: #383838; stroke-width: 1.0;\"/><ellipse cx=\"106.7138\" cy=\"538.0285\" fill=\"#FFFFFF\" rx=\"8\" ry=\"8\" style=\"stroke: #383838; stroke-width: 1.0;\"/><line style=\"stroke: #383838; stroke-width: 1.0;\" x1=\"106.1276\" x2=\"107.3\" y1=\"546.007\" y2=\"530.05\"/><line style=\"stroke: #383838; stroke-width: 1.0;\" x1=\"98.7353\" x2=\"114.6923\" y1=\"537.4423\" y2=\"538.6147\"/></a><!--MD5=[95fa686b5a16158bcdbcaeead89f639b]\n",
       "link E8 to E3--><a href=\"psysml:c8b02122-2142-456b-8199-9bf99e52168e\" target=\"_top\" title=\"psysml:c8b02122-2142-456b-8199-9bf99e52168e\" xlink:actuate=\"onRequest\" xlink:href=\"psysml:c8b02122-2142-456b-8199-9bf99e52168e\" xlink:show=\"new\" xlink:title=\"psysml:c8b02122-2142-456b-8199-9bf99e52168e\" xlink:type=\"simple\"><path d=\"M172.32,594.45 C172.8,548.41 173.03,438.69 166,347 C164.57,328.37 162.18,308.13 159.73,289.94 \" fill=\"none\" id=\"E8-&gt;E3\" style=\"stroke: #383838; stroke-width: 1.0;\"/><polygon fill=\"#FFFFFF\" points=\"156.92,270.12,166.5114,287.9527,152.6494,289.913,156.92,270.12\" style=\"stroke: #383838; stroke-width: 1.0;\"/><ellipse cx=\"165.3293\" cy=\"293.8766\" fill=\"#383838\" rx=\"2\" ry=\"2\" style=\"stroke: #383838; stroke-width: 1.0;\"/><ellipse cx=\"155.4278\" cy=\"295.2768\" fill=\"#383838\" rx=\"2\" ry=\"2\" style=\"stroke: #383838; stroke-width: 1.0;\"/></a><!--MD5=[f4cf0736d43fd73c4ef68817c49d37d5]\n",
       "reverse link E6 to E8--><a href=\"psysml:adeac7a4-0c31-420e-b3fd-609062fb2f41\" target=\"_top\" title=\"psysml:adeac7a4-0c31-420e-b3fd-609062fb2f41\" xlink:actuate=\"onRequest\" xlink:href=\"psysml:adeac7a4-0c31-420e-b3fd-609062fb2f41\" xlink:show=\"new\" xlink:title=\"psysml:adeac7a4-0c31-420e-b3fd-609062fb2f41\" xlink:type=\"simple\"><path d=\"M134.44,541.68 C143.55,559.83 153.45,579.55 160.8,594.19 \" fill=\"none\" id=\"E6&lt;-E8\" style=\"stroke: #383838; stroke-width: 1.0;\"/><polygon fill=\"#383838\" points=\"128.6,530.05,127.7161,537.2067,133.9824,540.7752,134.8663,533.6185,128.6,530.05\" style=\"stroke: #383838; stroke-width: 1.0;\"/></a><!--MD5=[8e04057e7b3cbc0dca4fc78ea351e2da]\n",
       "reverse link E10 to E3--><a href=\"psysml:4b320237-d900-4f83-8ac2-28b55b9df163\" target=\"_top\" title=\"psysml:4b320237-d900-4f83-8ac2-28b55b9df163\" xlink:actuate=\"onRequest\" xlink:href=\"psysml:4b320237-d900-4f83-8ac2-28b55b9df163\" xlink:show=\"new\" xlink:title=\"psysml:4b320237-d900-4f83-8ac2-28b55b9df163\" xlink:type=\"simple\"><path d=\"M98.98,128.98 C109.72,150.06 122.08,174.29 132.05,193.84 \" fill=\"none\" id=\"E10&lt;-E3\" style=\"stroke: #383838; stroke-width: 1.0;\"/><polygon fill=\"#FFFFFF\" points=\"93.03,117.33,92.1919,124.4922,98.4809,128.0206,99.319,120.8583,93.03,117.33\" style=\"stroke: #383838; stroke-width: 1.0;\"/><text fill=\"#000000\" font-family=\"sans-serif\" font-size=\"13\" lengthAdjust=\"spacingAndGlyphs\" textLength=\"7\" x=\"115\" y=\"160.0669\">y</text></a><!--MD5=[604cbf994c02b74b117f728a71673cea]\n",
       "reverse link E10 to E6--><a href=\"psysml:4b320237-d900-4f83-8ac2-28b55b9df163\" target=\"_top\" title=\"psysml:4b320237-d900-4f83-8ac2-28b55b9df163\" xlink:actuate=\"onRequest\" xlink:href=\"psysml:4b320237-d900-4f83-8ac2-28b55b9df163\" xlink:show=\"new\" xlink:title=\"psysml:4b320237-d900-4f83-8ac2-28b55b9df163\" xlink:type=\"simple\"><path d=\"M73.89,130.53 C74.34,192.6 77.02,300.97 89,393 C91.63,413.19 96.24,435.39 100.47,453.55 \" fill=\"none\" id=\"E10&lt;-E6\" style=\"stroke: #383838; stroke-width: 1.0;\"/><polygon fill=\"#FFFFFF\" points=\"73.83,117.27,69.863,123.2919,73.8959,129.2698,77.8629,123.2479,73.83,117.27\" style=\"stroke: #383838; stroke-width: 1.0;\"/><text fill=\"#000000\" font-family=\"sans-serif\" font-size=\"13\" lengthAdjust=\"spacingAndGlyphs\" textLength=\"7\" x=\"82\" y=\"313.0669\">y</text></a><!--MD5=[1af641a2ab5f69f331e8a3e2d6a0b8ae]\n",
       "@startuml\r\n",
       "skinparam monochrome true\r\n",
       "skinparam classbackgroundcolor white\r\n",
       "skinparam shadowing false\r\n",
       "skinparam wrapWidth 300\r\n",
       "hide circle\r\n",
       "\r\n",
       "package \"BlockTest\" as E1  [[psysml:c0b99535-16c1-47cf-a8d5-3f20b133a54a ]]  {\r\n",
       "comp usage \"f: A\" as E2  <<(T,blue)part>> [[psysml:20852434-d7cc-411e-aa3b-cae286a1f6f8 ]] {\r\n",
       "}\r\n",
       "comp def \"A\" as E3  <<(T,blue)part def>> [[psysml:cbed5230-ac88-4b7e-9b23-6ffd90d7c059 ]] {\r\n",
       "- - ports - -\r\n",
       "c: C\r\n",
       "}\r\n",
       "comp usage \"b: B\" as E4  <<(T,blue)part>> [[psysml:1e20eef8-b16d-4a20-93fc-2b015416e79a ]] {\r\n",
       "}\r\n",
       "comp def \"B\" as E6  <<(T,blue)part def>> [[psysml:633af2d2-4d32-4996-ac04-a91fff2e720f ]] {\r\n",
       "- - ports - -\r\n",
       "x: ~C\r\n",
       "}\r\n",
       "package \"P\" as E7  [[psysml:fcdcf065-90d4-4da1-8b43-4feb0ab4c03b ]]  {\r\n",
       "}\r\n",
       "comp usage \"a: A\" as E8  <<(T,blue)part>> [[psysml:adeac7a4-0c31-420e-b3fd-609062fb2f41 ]] {\r\n",
       "}\r\n",
       "comp def \"C\" as E10  <<(T,blue)port def>> [[psysml:19a0d075-dfec-4a25-8f91-7b5bd5520f32 ]] {\r\n",
       "- - references - -\r\n",
       "y: A, B <b>as</b> z2 \r\n",
       "}\r\n",
       "E2 - -:|> E3 [[psysml:1f32f64a-cd2f-48b1-a0ff-85d8f5396f29 ]] \r\n",
       "E3 *- - E4 [[psysml:1e20eef8-b16d-4a20-93fc-2b015416e79a ]] \r\n",
       "E4 - -:|> E6 [[psysml:97a379fd-51a7-461f-afe4-84a5f5da2292 ]] \r\n",
       "E6 +- - E7 [[psysml:fcdcf065-90d4-4da1-8b43-4feb0ab4c03b ]] \r\n",
       "E8 - -:|> E3 [[psysml:c8b02122-2142-456b-8199-9bf99e52168e ]] \r\n",
       "E6 *- - E8 [[psysml:adeac7a4-0c31-420e-b3fd-609062fb2f41 ]] \r\n",
       "E10 o- - E3 [[psysml:4b320237-d900-4f83-8ac2-28b55b9df163 ]] : y\r\n",
       "E10 o- - E6 [[psysml:4b320237-d900-4f83-8ac2-28b55b9df163 ]] : y\r\n",
       "}\r\n",
       "@enduml\r\n",
       "\n",
       "PlantUML version 1.2020.13(Sat Jun 13 12:26:38 UTC 2020)\n",
       "(EPL source distribution)\n",
       "Java Runtime: OpenJDK Runtime Environment\n",
       "JVM: OpenJDK 64-Bit Server VM\n",
       "Default Encoding: UTF-8\n",
       "Language: en\n",
       "Country: null\n",
       "--></g></svg>"
      ]
     },
     "execution_count": 43,
     "metadata": {},
     "output_type": "execute_result"
    }
   ],
   "source": [
    "%viz --style=\"DEFAULT\" --view=\"MIXED\" \"BlockTest\""
   ]
  },
  {
   "cell_type": "code",
   "execution_count": 44,
   "id": "induced-visibility",
   "metadata": {
    "execution": {
     "iopub.execute_input": "2021-03-25T15:00:03.271893Z",
     "iopub.status.busy": "2021-03-25T15:00:03.271257Z",
     "iopub.status.idle": "2021-03-25T15:00:03.756828Z",
     "shell.execute_reply": "2021-03-25T15:00:03.754611Z"
    }
   },
   "outputs": [
    {
     "data": {
      "image/svg+xml": [
       "<?xml version=\"1.0\" encoding=\"UTF-8\" standalone=\"no\"?><svg xmlns=\"http://www.w3.org/2000/svg\" xmlns:xlink=\"http://www.w3.org/1999/xlink\" contentScriptType=\"application/ecmascript\" contentStyleType=\"text/css\" height=\"672px\" preserveAspectRatio=\"none\" style=\"width:231px;height:672px;\" version=\"1.1\" viewBox=\"0 0 231 672\" width=\"231px\" zoomAndPan=\"magnify\"><defs/><g><!--MD5=[fbc87193dbaf4d95561dea2c320d4a47]\n",
       "cluster E1--><a href=\"psysml:c0b99535-16c1-47cf-a8d5-3f20b133a54a\" target=\"_top\" title=\"psysml:c0b99535-16c1-47cf-a8d5-3f20b133a54a\" xlink:actuate=\"onRequest\" xlink:href=\"psysml:c0b99535-16c1-47cf-a8d5-3f20b133a54a\" xlink:show=\"new\" xlink:title=\"psysml:c0b99535-16c1-47cf-a8d5-3f20b133a54a\" xlink:type=\"simple\"><polygon fill=\"#FFFFFF\" points=\"16,6,99,6,106,28.2969,209,28.2969,209,660,16,660,16,6\" style=\"stroke: #000000; stroke-width: 1.5;\"/><line style=\"stroke: #000000; stroke-width: 1.5;\" x1=\"16\" x2=\"106\" y1=\"28.2969\" y2=\"28.2969\"/><text fill=\"#000000\" font-family=\"sans-serif\" font-size=\"14\" font-weight=\"bold\" lengthAdjust=\"spacingAndGlyphs\" textLength=\"77\" x=\"20\" y=\"20.9951\">BlockTest</text></a><!--MD5=[b4997ac47864f28c2f74865a473b2911]\n",
       "class E2--><a href=\"psysml:20852434-d7cc-411e-aa3b-cae286a1f6f8\" target=\"_top\" title=\"psysml:20852434-d7cc-411e-aa3b-cae286a1f6f8\" xlink:actuate=\"onRequest\" xlink:href=\"psysml:20852434-d7cc-411e-aa3b-cae286a1f6f8\" xlink:show=\"new\" xlink:title=\"psysml:20852434-d7cc-411e-aa3b-cae286a1f6f8\" xlink:type=\"simple\"><rect fill=\"#FFFFFF\" height=\"45.9375\" id=\"E2\" rx=\"10\" ry=\"10\" style=\"stroke: #383838; stroke-width: 1.5;\" width=\"42\" x=\"151\" y=\"56\"/><text fill=\"#000000\" font-family=\"sans-serif\" font-size=\"12\" font-style=\"italic\" lengthAdjust=\"spacingAndGlyphs\" textLength=\"40\" x=\"152\" y=\"72.1387\">«part»</text><text fill=\"#000000\" font-family=\"sans-serif\" font-size=\"12\" lengthAdjust=\"spacingAndGlyphs\" textLength=\"20\" x=\"162\" y=\"86.1074\">f: A</text><line style=\"stroke: #383838; stroke-width: 1.5;\" x1=\"152\" x2=\"192\" y1=\"93.9375\" y2=\"93.9375\"/></a><!--MD5=[09b614a08d8cba4a07c9adeb5e0fee81]\n",
       "class E3--><a href=\"psysml:cbed5230-ac88-4b7e-9b23-6ffd90d7c059\" target=\"_top\" title=\"psysml:cbed5230-ac88-4b7e-9b23-6ffd90d7c059\" xlink:actuate=\"onRequest\" xlink:href=\"psysml:cbed5230-ac88-4b7e-9b23-6ffd90d7c059\" xlink:show=\"new\" xlink:title=\"psysml:cbed5230-ac88-4b7e-9b23-6ffd90d7c059\" xlink:type=\"simple\"><rect fill=\"#FFFFFF\" height=\"75.5469\" id=\"E3\" style=\"stroke: #383838; stroke-width: 1.5;\" width=\"66\" x=\"118\" y=\"194\"/><text fill=\"#000000\" font-family=\"sans-serif\" font-size=\"12\" font-style=\"italic\" lengthAdjust=\"spacingAndGlyphs\" textLength=\"64\" x=\"119\" y=\"210.1387\">«part def»</text><text fill=\"#000000\" font-family=\"sans-serif\" font-size=\"12\" lengthAdjust=\"spacingAndGlyphs\" textLength=\"8\" x=\"147\" y=\"224.1074\">A</text><line style=\"stroke: #383838; stroke-width: 1.5;\" x1=\"119\" x2=\"183\" y1=\"231.9375\" y2=\"231.9375\"/><text fill=\"#000000\" font-family=\"sans-serif\" font-size=\"11\" lengthAdjust=\"spacingAndGlyphs\" textLength=\"22\" x=\"124\" y=\"262.9526\">c: C</text><line style=\"stroke: #383838; stroke-width: 1.0;\" x1=\"119\" x2=\"136\" y1=\"246.3398\" y2=\"246.3398\"/><text fill=\"#000000\" font-family=\"sans-serif\" font-size=\"11\" lengthAdjust=\"spacingAndGlyphs\" textLength=\"30\" x=\"136\" y=\"249.6479\">ports</text><line style=\"stroke: #383838; stroke-width: 1.0;\" x1=\"166\" x2=\"183\" y1=\"246.3398\" y2=\"246.3398\"/></a><!--MD5=[ebbe1d658d1005bcc118a6aa81145e00]\n",
       "class E4--><a href=\"psysml:1e20eef8-b16d-4a20-93fc-2b015416e79a\" target=\"_top\" title=\"psysml:1e20eef8-b16d-4a20-93fc-2b015416e79a\" xlink:actuate=\"onRequest\" xlink:href=\"psysml:1e20eef8-b16d-4a20-93fc-2b015416e79a\" xlink:show=\"new\" xlink:title=\"psysml:1e20eef8-b16d-4a20-93fc-2b015416e79a\" xlink:type=\"simple\"><rect fill=\"#FFFFFF\" height=\"45.9375\" id=\"E4\" rx=\"10\" ry=\"10\" style=\"stroke: #383838; stroke-width: 1.5;\" width=\"42\" x=\"106\" y=\"347\"/><text fill=\"#000000\" font-family=\"sans-serif\" font-size=\"12\" font-style=\"italic\" lengthAdjust=\"spacingAndGlyphs\" textLength=\"40\" x=\"107\" y=\"363.1387\">«part»</text><text fill=\"#000000\" font-family=\"sans-serif\" font-size=\"12\" lengthAdjust=\"spacingAndGlyphs\" textLength=\"24\" x=\"115\" y=\"377.1074\">b: B</text><line style=\"stroke: #383838; stroke-width: 1.5;\" x1=\"107\" x2=\"147\" y1=\"384.9375\" y2=\"384.9375\"/></a><!--MD5=[60a26617385b1d2d0262a64233df1f8d]\n",
       "class E6--><a href=\"psysml:633af2d2-4d32-4996-ac04-a91fff2e720f\" target=\"_top\" title=\"psysml:633af2d2-4d32-4996-ac04-a91fff2e720f\" xlink:actuate=\"onRequest\" xlink:href=\"psysml:633af2d2-4d32-4996-ac04-a91fff2e720f\" xlink:show=\"new\" xlink:title=\"psysml:633af2d2-4d32-4996-ac04-a91fff2e720f\" xlink:type=\"simple\"><rect fill=\"#FFFFFF\" height=\"75.5469\" id=\"E6\" style=\"stroke: #383838; stroke-width: 1.5;\" width=\"66\" x=\"77\" y=\"454\"/><text fill=\"#000000\" font-family=\"sans-serif\" font-size=\"12\" font-style=\"italic\" lengthAdjust=\"spacingAndGlyphs\" textLength=\"64\" x=\"78\" y=\"470.1387\">«part def»</text><text fill=\"#000000\" font-family=\"sans-serif\" font-size=\"12\" lengthAdjust=\"spacingAndGlyphs\" textLength=\"8\" x=\"106\" y=\"484.1074\">B</text><line style=\"stroke: #383838; stroke-width: 1.5;\" x1=\"78\" x2=\"142\" y1=\"491.9375\" y2=\"491.9375\"/><text fill=\"#000000\" font-family=\"sans-serif\" font-size=\"11\" lengthAdjust=\"spacingAndGlyphs\" textLength=\"31\" x=\"83\" y=\"522.9526\">x: ~C</text><line style=\"stroke: #383838; stroke-width: 1.0;\" x1=\"78\" x2=\"95\" y1=\"506.3398\" y2=\"506.3398\"/><text fill=\"#000000\" font-family=\"sans-serif\" font-size=\"11\" lengthAdjust=\"spacingAndGlyphs\" textLength=\"30\" x=\"95\" y=\"509.6479\">ports</text><line style=\"stroke: #383838; stroke-width: 1.0;\" x1=\"125\" x2=\"142\" y1=\"506.3398\" y2=\"506.3398\"/></a><!--MD5=[b9389687b975829384b498ac4b7476b2]\n",
       "class E8--><a href=\"psysml:adeac7a4-0c31-420e-b3fd-609062fb2f41\" target=\"_top\" title=\"psysml:adeac7a4-0c31-420e-b3fd-609062fb2f41\" xlink:actuate=\"onRequest\" xlink:href=\"psysml:adeac7a4-0c31-420e-b3fd-609062fb2f41\" xlink:show=\"new\" xlink:title=\"psysml:adeac7a4-0c31-420e-b3fd-609062fb2f41\" xlink:type=\"simple\"><rect fill=\"#FFFFFF\" height=\"45.9375\" id=\"E8\" rx=\"10\" ry=\"10\" style=\"stroke: #383838; stroke-width: 1.5;\" width=\"42\" x=\"151\" y=\"594.5\"/><text fill=\"#000000\" font-family=\"sans-serif\" font-size=\"12\" font-style=\"italic\" lengthAdjust=\"spacingAndGlyphs\" textLength=\"40\" x=\"152\" y=\"610.6387\">«part»</text><text fill=\"#000000\" font-family=\"sans-serif\" font-size=\"12\" lengthAdjust=\"spacingAndGlyphs\" textLength=\"24\" x=\"160\" y=\"624.6074\">a: A</text><line style=\"stroke: #383838; stroke-width: 1.5;\" x1=\"152\" x2=\"192\" y1=\"632.4375\" y2=\"632.4375\"/></a><!--MD5=[96f4274e9e20536e775497830990834d]\n",
       "class E10--><a href=\"psysml:19a0d075-dfec-4a25-8f91-7b5bd5520f32\" target=\"_top\" title=\"psysml:19a0d075-dfec-4a25-8f91-7b5bd5520f32\" xlink:actuate=\"onRequest\" xlink:href=\"psysml:19a0d075-dfec-4a25-8f91-7b5bd5520f32\" xlink:show=\"new\" xlink:title=\"psysml:19a0d075-dfec-4a25-8f91-7b5bd5520f32\" xlink:type=\"simple\"><rect fill=\"#FFFFFF\" height=\"75.5469\" id=\"E10\" style=\"stroke: #383838; stroke-width: 1.5;\" width=\"84\" x=\"32\" y=\"41\"/><text fill=\"#000000\" font-family=\"sans-serif\" font-size=\"12\" font-style=\"italic\" lengthAdjust=\"spacingAndGlyphs\" textLength=\"64\" x=\"42\" y=\"57.1387\">«port def»</text><text fill=\"#000000\" font-family=\"sans-serif\" font-size=\"12\" lengthAdjust=\"spacingAndGlyphs\" textLength=\"8\" x=\"70\" y=\"71.1074\">C</text><line style=\"stroke: #383838; stroke-width: 1.5;\" x1=\"33\" x2=\"115\" y1=\"78.9375\" y2=\"78.9375\"/><text fill=\"#000000\" font-family=\"sans-serif\" font-size=\"11\" lengthAdjust=\"spacingAndGlyphs\" textLength=\"37\" x=\"38\" y=\"109.9526\">y: A, B</text><text fill=\"#000000\" font-family=\"sans-serif\" font-size=\"11\" font-weight=\"bold\" lengthAdjust=\"spacingAndGlyphs\" textLength=\"15\" x=\"79\" y=\"109.9526\">as</text><text fill=\"#000000\" font-family=\"sans-serif\" font-size=\"11\" lengthAdjust=\"spacingAndGlyphs\" textLength=\"12\" x=\"98\" y=\"109.9526\">z2</text><line style=\"stroke: #383838; stroke-width: 1.0;\" x1=\"33\" x2=\"43\" y1=\"93.3398\" y2=\"93.3398\"/><text fill=\"#000000\" font-family=\"sans-serif\" font-size=\"11\" lengthAdjust=\"spacingAndGlyphs\" textLength=\"62\" x=\"43\" y=\"96.6479\">references</text><line style=\"stroke: #383838; stroke-width: 1.0;\" x1=\"105\" x2=\"115\" y1=\"93.3398\" y2=\"93.3398\"/></a><a href=\"psysml:fcdcf065-90d4-4da1-8b43-4feb0ab4c03b\" target=\"_top\" title=\"psysml:fcdcf065-90d4-4da1-8b43-4feb0ab4c03b\" xlink:actuate=\"onRequest\" xlink:href=\"psysml:fcdcf065-90d4-4da1-8b43-4feb0ab4c03b\" xlink:show=\"new\" xlink:title=\"psysml:fcdcf065-90d4-4da1-8b43-4feb0ab4c03b\" xlink:type=\"simple\"><polygon fill=\"#FFFFFF\" points=\"86,591,102,591,109,613.2969,116,613.2969,116,643.5938,86,643.5938,86,591\" style=\"stroke: #000000; stroke-width: 1.5;\"/><line style=\"stroke: #000000; stroke-width: 1.5;\" x1=\"86\" x2=\"109\" y1=\"613.2969\" y2=\"613.2969\"/><text fill=\"#000000\" font-family=\"sans-serif\" font-size=\"14\" font-weight=\"bold\" lengthAdjust=\"spacingAndGlyphs\" textLength=\"10\" x=\"90\" y=\"605.9951\">P</text></a><!--MD5=[2720a5a1f2c3fca2055b230370638851]\n",
       "link E2 to E3--><a href=\"psysml:1f32f64a-cd2f-48b1-a0ff-85d8f5396f29\" target=\"_top\" title=\"psysml:1f32f64a-cd2f-48b1-a0ff-85d8f5396f29\" xlink:actuate=\"onRequest\" xlink:href=\"psysml:1f32f64a-cd2f-48b1-a0ff-85d8f5396f29\" xlink:show=\"new\" xlink:title=\"psysml:1f32f64a-cd2f-48b1-a0ff-85d8f5396f29\" xlink:type=\"simple\"><path d=\"M168.9,102.28 C166.28,121.12 162.41,148.97 158.94,173.94 \" fill=\"none\" id=\"E2-&gt;E3\" style=\"stroke: #383838; stroke-width: 1.0;\"/><polygon fill=\"#FFFFFF\" points=\"156.15,193.98,151.8354,174.1966,165.7018,176.1261,156.15,193.98\" style=\"stroke: #383838; stroke-width: 1.0;\"/><ellipse cx=\"154.6019\" cy=\"168.8266\" fill=\"#383838\" rx=\"2\" ry=\"2\" style=\"stroke: #383838; stroke-width: 1.0;\"/><ellipse cx=\"164.5065\" cy=\"170.2048\" fill=\"#383838\" rx=\"2\" ry=\"2\" style=\"stroke: #383838; stroke-width: 1.0;\"/></a><!--MD5=[4672eba38e49728da53d11aeb285b987]\n",
       "reverse link E3 to E4--><a href=\"psysml:1e20eef8-b16d-4a20-93fc-2b015416e79a\" target=\"_top\" title=\"psysml:1e20eef8-b16d-4a20-93fc-2b015416e79a\" xlink:actuate=\"onRequest\" xlink:href=\"psysml:1e20eef8-b16d-4a20-93fc-2b015416e79a\" xlink:show=\"new\" xlink:title=\"psysml:1e20eef8-b16d-4a20-93fc-2b015416e79a\" xlink:type=\"simple\"><path d=\"M142.17,283.02 C138.31,304.93 133.97,329.52 130.92,346.77 \" fill=\"none\" id=\"E3&lt;-E4\" style=\"stroke: #383838; stroke-width: 1.0;\"/><polygon fill=\"#383838\" points=\"144.44,270.16,139.4532,275.3688,142.3433,281.9754,147.3301,276.7666,144.44,270.16\" style=\"stroke: #383838; stroke-width: 1.0;\"/></a><!--MD5=[79568f1e445c3877b6a54524624ccc7d]\n",
       "link E4 to E6--><a href=\"psysml:97a379fd-51a7-461f-afe4-84a5f5da2292\" target=\"_top\" title=\"psysml:97a379fd-51a7-461f-afe4-84a5f5da2292\" xlink:actuate=\"onRequest\" xlink:href=\"psysml:97a379fd-51a7-461f-afe4-84a5f5da2292\" xlink:show=\"new\" xlink:title=\"psysml:97a379fd-51a7-461f-afe4-84a5f5da2292\" xlink:type=\"simple\"><path d=\"M123.88,393.01 C122.25,404.51 120.18,419.17 118.13,433.62 \" fill=\"none\" id=\"E4-&gt;E6\" style=\"stroke: #383838; stroke-width: 1.0;\"/><polygon fill=\"#FFFFFF\" points=\"115.3,453.57,111.0294,433.777,124.8914,435.7373,115.3,453.57\" style=\"stroke: #383838; stroke-width: 1.0;\"/><ellipse cx=\"113.8078\" cy=\"428.4132\" fill=\"#383838\" rx=\"2\" ry=\"2\" style=\"stroke: #383838; stroke-width: 1.0;\"/><ellipse cx=\"123.7093\" cy=\"429.8134\" fill=\"#383838\" rx=\"2\" ry=\"2\" style=\"stroke: #383838; stroke-width: 1.0;\"/></a><!--MD5=[3f50a3473f1dfb74d3f76443e03635af]\n",
       "reverse link E6 to E7--><a href=\"psysml:fcdcf065-90d4-4da1-8b43-4feb0ab4c03b\" target=\"_top\" title=\"psysml:fcdcf065-90d4-4da1-8b43-4feb0ab4c03b\" xlink:actuate=\"onRequest\" xlink:href=\"psysml:fcdcf065-90d4-4da1-8b43-4feb0ab4c03b\" xlink:show=\"new\" xlink:title=\"psysml:fcdcf065-90d4-4da1-8b43-4feb0ab4c03b\" xlink:type=\"simple\"><path d=\"M106.18,545.35 C105.04,561.08 103.83,577.65 102.87,590.83 \" fill=\"none\" id=\"E6&lt;-E7\" style=\"stroke: #383838; stroke-width: 1.0;\"/><ellipse cx=\"106.7138\" cy=\"538.0285\" fill=\"#FFFFFF\" rx=\"8\" ry=\"8\" style=\"stroke: #383838; stroke-width: 1.0;\"/><line style=\"stroke: #383838; stroke-width: 1.0;\" x1=\"106.1276\" x2=\"107.3\" y1=\"546.007\" y2=\"530.05\"/><line style=\"stroke: #383838; stroke-width: 1.0;\" x1=\"98.7353\" x2=\"114.6923\" y1=\"537.4423\" y2=\"538.6147\"/></a><!--MD5=[95fa686b5a16158bcdbcaeead89f639b]\n",
       "link E8 to E3--><a href=\"psysml:c8b02122-2142-456b-8199-9bf99e52168e\" target=\"_top\" title=\"psysml:c8b02122-2142-456b-8199-9bf99e52168e\" xlink:actuate=\"onRequest\" xlink:href=\"psysml:c8b02122-2142-456b-8199-9bf99e52168e\" xlink:show=\"new\" xlink:title=\"psysml:c8b02122-2142-456b-8199-9bf99e52168e\" xlink:type=\"simple\"><path d=\"M172.32,594.45 C172.8,548.41 173.03,438.69 166,347 C164.57,328.37 162.18,308.13 159.73,289.94 \" fill=\"none\" id=\"E8-&gt;E3\" style=\"stroke: #383838; stroke-width: 1.0;\"/><polygon fill=\"#FFFFFF\" points=\"156.92,270.12,166.5114,287.9527,152.6494,289.913,156.92,270.12\" style=\"stroke: #383838; stroke-width: 1.0;\"/><ellipse cx=\"165.3293\" cy=\"293.8766\" fill=\"#383838\" rx=\"2\" ry=\"2\" style=\"stroke: #383838; stroke-width: 1.0;\"/><ellipse cx=\"155.4278\" cy=\"295.2768\" fill=\"#383838\" rx=\"2\" ry=\"2\" style=\"stroke: #383838; stroke-width: 1.0;\"/></a><!--MD5=[f4cf0736d43fd73c4ef68817c49d37d5]\n",
       "reverse link E6 to E8--><a href=\"psysml:adeac7a4-0c31-420e-b3fd-609062fb2f41\" target=\"_top\" title=\"psysml:adeac7a4-0c31-420e-b3fd-609062fb2f41\" xlink:actuate=\"onRequest\" xlink:href=\"psysml:adeac7a4-0c31-420e-b3fd-609062fb2f41\" xlink:show=\"new\" xlink:title=\"psysml:adeac7a4-0c31-420e-b3fd-609062fb2f41\" xlink:type=\"simple\"><path d=\"M134.44,541.68 C143.55,559.83 153.45,579.55 160.8,594.19 \" fill=\"none\" id=\"E6&lt;-E8\" style=\"stroke: #383838; stroke-width: 1.0;\"/><polygon fill=\"#383838\" points=\"128.6,530.05,127.7161,537.2067,133.9824,540.7752,134.8663,533.6185,128.6,530.05\" style=\"stroke: #383838; stroke-width: 1.0;\"/></a><!--MD5=[8e04057e7b3cbc0dca4fc78ea351e2da]\n",
       "reverse link E10 to E3--><a href=\"psysml:4b320237-d900-4f83-8ac2-28b55b9df163\" target=\"_top\" title=\"psysml:4b320237-d900-4f83-8ac2-28b55b9df163\" xlink:actuate=\"onRequest\" xlink:href=\"psysml:4b320237-d900-4f83-8ac2-28b55b9df163\" xlink:show=\"new\" xlink:title=\"psysml:4b320237-d900-4f83-8ac2-28b55b9df163\" xlink:type=\"simple\"><path d=\"M98.98,128.98 C109.72,150.06 122.08,174.29 132.05,193.84 \" fill=\"none\" id=\"E10&lt;-E3\" style=\"stroke: #383838; stroke-width: 1.0;\"/><polygon fill=\"#FFFFFF\" points=\"93.03,117.33,92.1919,124.4922,98.4809,128.0206,99.319,120.8583,93.03,117.33\" style=\"stroke: #383838; stroke-width: 1.0;\"/><text fill=\"#000000\" font-family=\"sans-serif\" font-size=\"13\" lengthAdjust=\"spacingAndGlyphs\" textLength=\"7\" x=\"115\" y=\"160.0669\">y</text></a><!--MD5=[604cbf994c02b74b117f728a71673cea]\n",
       "reverse link E10 to E6--><a href=\"psysml:4b320237-d900-4f83-8ac2-28b55b9df163\" target=\"_top\" title=\"psysml:4b320237-d900-4f83-8ac2-28b55b9df163\" xlink:actuate=\"onRequest\" xlink:href=\"psysml:4b320237-d900-4f83-8ac2-28b55b9df163\" xlink:show=\"new\" xlink:title=\"psysml:4b320237-d900-4f83-8ac2-28b55b9df163\" xlink:type=\"simple\"><path d=\"M73.89,130.53 C74.34,192.6 77.02,300.97 89,393 C91.63,413.19 96.24,435.39 100.47,453.55 \" fill=\"none\" id=\"E10&lt;-E6\" style=\"stroke: #383838; stroke-width: 1.0;\"/><polygon fill=\"#FFFFFF\" points=\"73.83,117.27,69.863,123.2919,73.8959,129.2698,77.8629,123.2479,73.83,117.27\" style=\"stroke: #383838; stroke-width: 1.0;\"/><text fill=\"#000000\" font-family=\"sans-serif\" font-size=\"13\" lengthAdjust=\"spacingAndGlyphs\" textLength=\"7\" x=\"82\" y=\"313.0669\">y</text></a><!--MD5=[ff678dbac68c469c4df168fd16b2d84c]\n",
       "@startuml\r\n",
       "top to bottom direction\r\n",
       "skinparam monochrome true\r\n",
       "skinparam classbackgroundcolor white\r\n",
       "skinparam shadowing false\r\n",
       "skinparam wrapWidth 300\r\n",
       "hide circle\r\n",
       "\r\n",
       "package \"BlockTest\" as E1  [[psysml:c0b99535-16c1-47cf-a8d5-3f20b133a54a ]]  {\r\n",
       "comp usage \"f: A\" as E2  <<(T,blue)part>> [[psysml:20852434-d7cc-411e-aa3b-cae286a1f6f8 ]] {\r\n",
       "}\r\n",
       "comp def \"A\" as E3  <<(T,blue)part def>> [[psysml:cbed5230-ac88-4b7e-9b23-6ffd90d7c059 ]] {\r\n",
       "- - ports - -\r\n",
       "c: C\r\n",
       "}\r\n",
       "comp usage \"b: B\" as E4  <<(T,blue)part>> [[psysml:1e20eef8-b16d-4a20-93fc-2b015416e79a ]] {\r\n",
       "}\r\n",
       "comp def \"B\" as E6  <<(T,blue)part def>> [[psysml:633af2d2-4d32-4996-ac04-a91fff2e720f ]] {\r\n",
       "- - ports - -\r\n",
       "x: ~C\r\n",
       "}\r\n",
       "package \"P\" as E7  [[psysml:fcdcf065-90d4-4da1-8b43-4feb0ab4c03b ]]  {\r\n",
       "}\r\n",
       "comp usage \"a: A\" as E8  <<(T,blue)part>> [[psysml:adeac7a4-0c31-420e-b3fd-609062fb2f41 ]] {\r\n",
       "}\r\n",
       "comp def \"C\" as E10  <<(T,blue)port def>> [[psysml:19a0d075-dfec-4a25-8f91-7b5bd5520f32 ]] {\r\n",
       "- - references - -\r\n",
       "y: A, B <b>as</b> z2 \r\n",
       "}\r\n",
       "E2 - -:|> E3 [[psysml:1f32f64a-cd2f-48b1-a0ff-85d8f5396f29 ]] \r\n",
       "E3 *- - E4 [[psysml:1e20eef8-b16d-4a20-93fc-2b015416e79a ]] \r\n",
       "E4 - -:|> E6 [[psysml:97a379fd-51a7-461f-afe4-84a5f5da2292 ]] \r\n",
       "E6 +- - E7 [[psysml:fcdcf065-90d4-4da1-8b43-4feb0ab4c03b ]] \r\n",
       "E8 - -:|> E3 [[psysml:c8b02122-2142-456b-8199-9bf99e52168e ]] \r\n",
       "E6 *- - E8 [[psysml:adeac7a4-0c31-420e-b3fd-609062fb2f41 ]] \r\n",
       "E10 o- - E3 [[psysml:4b320237-d900-4f83-8ac2-28b55b9df163 ]] : y\r\n",
       "E10 o- - E6 [[psysml:4b320237-d900-4f83-8ac2-28b55b9df163 ]] : y\r\n",
       "}\r\n",
       "@enduml\r\n",
       "\n",
       "PlantUML version 1.2020.13(Sat Jun 13 12:26:38 UTC 2020)\n",
       "(EPL source distribution)\n",
       "Java Runtime: OpenJDK Runtime Environment\n",
       "JVM: OpenJDK 64-Bit Server VM\n",
       "Default Encoding: UTF-8\n",
       "Language: en\n",
       "Country: null\n",
       "--></g></svg>"
      ]
     },
     "execution_count": 44,
     "metadata": {},
     "output_type": "execute_result"
    }
   ],
   "source": [
    "%viz --style=\"TB\" --view=\"Default\" \"BlockTest\""
   ]
  },
  {
   "cell_type": "code",
   "execution_count": 45,
   "id": "surface-biology",
   "metadata": {
    "execution": {
     "iopub.execute_input": "2021-03-25T15:00:03.819659Z",
     "iopub.status.busy": "2021-03-25T15:00:03.819197Z",
     "iopub.status.idle": "2021-03-25T15:00:04.300372Z",
     "shell.execute_reply": "2021-03-25T15:00:04.299105Z"
    }
   },
   "outputs": [
    {
     "data": {
      "image/svg+xml": [
       "<?xml version=\"1.0\" encoding=\"UTF-8\" standalone=\"no\"?><svg xmlns=\"http://www.w3.org/2000/svg\" xmlns:xlink=\"http://www.w3.org/1999/xlink\" contentScriptType=\"application/ecmascript\" contentStyleType=\"text/css\" height=\"672px\" preserveAspectRatio=\"none\" style=\"width:231px;height:672px;\" version=\"1.1\" viewBox=\"0 0 231 672\" width=\"231px\" zoomAndPan=\"magnify\"><defs/><g><!--MD5=[fbc87193dbaf4d95561dea2c320d4a47]\n",
       "cluster E1--><a href=\"psysml:c0b99535-16c1-47cf-a8d5-3f20b133a54a\" target=\"_top\" title=\"psysml:c0b99535-16c1-47cf-a8d5-3f20b133a54a\" xlink:actuate=\"onRequest\" xlink:href=\"psysml:c0b99535-16c1-47cf-a8d5-3f20b133a54a\" xlink:show=\"new\" xlink:title=\"psysml:c0b99535-16c1-47cf-a8d5-3f20b133a54a\" xlink:type=\"simple\"><polygon fill=\"#FFFFFF\" points=\"16,6,99,6,106,28.2969,209,28.2969,209,660,16,660,16,6\" style=\"stroke: #000000; stroke-width: 1.5;\"/><line style=\"stroke: #000000; stroke-width: 1.5;\" x1=\"16\" x2=\"106\" y1=\"28.2969\" y2=\"28.2969\"/><text fill=\"#000000\" font-family=\"sans-serif\" font-size=\"14\" font-weight=\"bold\" lengthAdjust=\"spacingAndGlyphs\" textLength=\"77\" x=\"20\" y=\"20.9951\">BlockTest</text></a><!--MD5=[b4997ac47864f28c2f74865a473b2911]\n",
       "class E2--><a href=\"psysml:20852434-d7cc-411e-aa3b-cae286a1f6f8\" target=\"_top\" title=\"psysml:20852434-d7cc-411e-aa3b-cae286a1f6f8\" xlink:actuate=\"onRequest\" xlink:href=\"psysml:20852434-d7cc-411e-aa3b-cae286a1f6f8\" xlink:show=\"new\" xlink:title=\"psysml:20852434-d7cc-411e-aa3b-cae286a1f6f8\" xlink:type=\"simple\"><rect fill=\"#FFFFFF\" height=\"45.9375\" id=\"E2\" rx=\"10\" ry=\"10\" style=\"stroke: #383838; stroke-width: 1.5;\" width=\"42\" x=\"151\" y=\"56\"/><text fill=\"#000000\" font-family=\"sans-serif\" font-size=\"12\" font-style=\"italic\" lengthAdjust=\"spacingAndGlyphs\" textLength=\"40\" x=\"152\" y=\"72.1387\">«part»</text><text fill=\"#000000\" font-family=\"sans-serif\" font-size=\"12\" lengthAdjust=\"spacingAndGlyphs\" textLength=\"20\" x=\"162\" y=\"86.1074\">f: A</text><line style=\"stroke: #383838; stroke-width: 1.5;\" x1=\"152\" x2=\"192\" y1=\"93.9375\" y2=\"93.9375\"/></a><!--MD5=[09b614a08d8cba4a07c9adeb5e0fee81]\n",
       "class E3--><a href=\"psysml:cbed5230-ac88-4b7e-9b23-6ffd90d7c059\" target=\"_top\" title=\"psysml:cbed5230-ac88-4b7e-9b23-6ffd90d7c059\" xlink:actuate=\"onRequest\" xlink:href=\"psysml:cbed5230-ac88-4b7e-9b23-6ffd90d7c059\" xlink:show=\"new\" xlink:title=\"psysml:cbed5230-ac88-4b7e-9b23-6ffd90d7c059\" xlink:type=\"simple\"><rect fill=\"#FFFFFF\" height=\"75.5469\" id=\"E3\" style=\"stroke: #383838; stroke-width: 1.5;\" width=\"66\" x=\"118\" y=\"194\"/><text fill=\"#000000\" font-family=\"sans-serif\" font-size=\"12\" font-style=\"italic\" lengthAdjust=\"spacingAndGlyphs\" textLength=\"64\" x=\"119\" y=\"210.1387\">«part def»</text><text fill=\"#000000\" font-family=\"sans-serif\" font-size=\"12\" lengthAdjust=\"spacingAndGlyphs\" textLength=\"8\" x=\"147\" y=\"224.1074\">A</text><line style=\"stroke: #383838; stroke-width: 1.5;\" x1=\"119\" x2=\"183\" y1=\"231.9375\" y2=\"231.9375\"/><text fill=\"#000000\" font-family=\"sans-serif\" font-size=\"11\" lengthAdjust=\"spacingAndGlyphs\" textLength=\"22\" x=\"124\" y=\"262.9526\">c: C</text><line style=\"stroke: #383838; stroke-width: 1.0;\" x1=\"119\" x2=\"136\" y1=\"246.3398\" y2=\"246.3398\"/><text fill=\"#000000\" font-family=\"sans-serif\" font-size=\"11\" lengthAdjust=\"spacingAndGlyphs\" textLength=\"30\" x=\"136\" y=\"249.6479\">ports</text><line style=\"stroke: #383838; stroke-width: 1.0;\" x1=\"166\" x2=\"183\" y1=\"246.3398\" y2=\"246.3398\"/></a><!--MD5=[ebbe1d658d1005bcc118a6aa81145e00]\n",
       "class E4--><a href=\"psysml:1e20eef8-b16d-4a20-93fc-2b015416e79a\" target=\"_top\" title=\"psysml:1e20eef8-b16d-4a20-93fc-2b015416e79a\" xlink:actuate=\"onRequest\" xlink:href=\"psysml:1e20eef8-b16d-4a20-93fc-2b015416e79a\" xlink:show=\"new\" xlink:title=\"psysml:1e20eef8-b16d-4a20-93fc-2b015416e79a\" xlink:type=\"simple\"><rect fill=\"#FFFFFF\" height=\"45.9375\" id=\"E4\" rx=\"10\" ry=\"10\" style=\"stroke: #383838; stroke-width: 1.5;\" width=\"42\" x=\"106\" y=\"347\"/><text fill=\"#000000\" font-family=\"sans-serif\" font-size=\"12\" font-style=\"italic\" lengthAdjust=\"spacingAndGlyphs\" textLength=\"40\" x=\"107\" y=\"363.1387\">«part»</text><text fill=\"#000000\" font-family=\"sans-serif\" font-size=\"12\" lengthAdjust=\"spacingAndGlyphs\" textLength=\"24\" x=\"115\" y=\"377.1074\">b: B</text><line style=\"stroke: #383838; stroke-width: 1.5;\" x1=\"107\" x2=\"147\" y1=\"384.9375\" y2=\"384.9375\"/></a><!--MD5=[60a26617385b1d2d0262a64233df1f8d]\n",
       "class E6--><a href=\"psysml:633af2d2-4d32-4996-ac04-a91fff2e720f\" target=\"_top\" title=\"psysml:633af2d2-4d32-4996-ac04-a91fff2e720f\" xlink:actuate=\"onRequest\" xlink:href=\"psysml:633af2d2-4d32-4996-ac04-a91fff2e720f\" xlink:show=\"new\" xlink:title=\"psysml:633af2d2-4d32-4996-ac04-a91fff2e720f\" xlink:type=\"simple\"><rect fill=\"#FFFFFF\" height=\"75.5469\" id=\"E6\" style=\"stroke: #383838; stroke-width: 1.5;\" width=\"66\" x=\"77\" y=\"454\"/><text fill=\"#000000\" font-family=\"sans-serif\" font-size=\"12\" font-style=\"italic\" lengthAdjust=\"spacingAndGlyphs\" textLength=\"64\" x=\"78\" y=\"470.1387\">«part def»</text><text fill=\"#000000\" font-family=\"sans-serif\" font-size=\"12\" lengthAdjust=\"spacingAndGlyphs\" textLength=\"8\" x=\"106\" y=\"484.1074\">B</text><line style=\"stroke: #383838; stroke-width: 1.5;\" x1=\"78\" x2=\"142\" y1=\"491.9375\" y2=\"491.9375\"/><text fill=\"#000000\" font-family=\"sans-serif\" font-size=\"11\" lengthAdjust=\"spacingAndGlyphs\" textLength=\"31\" x=\"83\" y=\"522.9526\">x: ~C</text><line style=\"stroke: #383838; stroke-width: 1.0;\" x1=\"78\" x2=\"95\" y1=\"506.3398\" y2=\"506.3398\"/><text fill=\"#000000\" font-family=\"sans-serif\" font-size=\"11\" lengthAdjust=\"spacingAndGlyphs\" textLength=\"30\" x=\"95\" y=\"509.6479\">ports</text><line style=\"stroke: #383838; stroke-width: 1.0;\" x1=\"125\" x2=\"142\" y1=\"506.3398\" y2=\"506.3398\"/></a><!--MD5=[b9389687b975829384b498ac4b7476b2]\n",
       "class E8--><a href=\"psysml:adeac7a4-0c31-420e-b3fd-609062fb2f41\" target=\"_top\" title=\"psysml:adeac7a4-0c31-420e-b3fd-609062fb2f41\" xlink:actuate=\"onRequest\" xlink:href=\"psysml:adeac7a4-0c31-420e-b3fd-609062fb2f41\" xlink:show=\"new\" xlink:title=\"psysml:adeac7a4-0c31-420e-b3fd-609062fb2f41\" xlink:type=\"simple\"><rect fill=\"#FFFFFF\" height=\"45.9375\" id=\"E8\" rx=\"10\" ry=\"10\" style=\"stroke: #383838; stroke-width: 1.5;\" width=\"42\" x=\"151\" y=\"594.5\"/><text fill=\"#000000\" font-family=\"sans-serif\" font-size=\"12\" font-style=\"italic\" lengthAdjust=\"spacingAndGlyphs\" textLength=\"40\" x=\"152\" y=\"610.6387\">«part»</text><text fill=\"#000000\" font-family=\"sans-serif\" font-size=\"12\" lengthAdjust=\"spacingAndGlyphs\" textLength=\"24\" x=\"160\" y=\"624.6074\">a: A</text><line style=\"stroke: #383838; stroke-width: 1.5;\" x1=\"152\" x2=\"192\" y1=\"632.4375\" y2=\"632.4375\"/></a><!--MD5=[96f4274e9e20536e775497830990834d]\n",
       "class E10--><a href=\"psysml:19a0d075-dfec-4a25-8f91-7b5bd5520f32\" target=\"_top\" title=\"psysml:19a0d075-dfec-4a25-8f91-7b5bd5520f32\" xlink:actuate=\"onRequest\" xlink:href=\"psysml:19a0d075-dfec-4a25-8f91-7b5bd5520f32\" xlink:show=\"new\" xlink:title=\"psysml:19a0d075-dfec-4a25-8f91-7b5bd5520f32\" xlink:type=\"simple\"><rect fill=\"#FFFFFF\" height=\"75.5469\" id=\"E10\" style=\"stroke: #383838; stroke-width: 1.5;\" width=\"84\" x=\"32\" y=\"41\"/><text fill=\"#000000\" font-family=\"sans-serif\" font-size=\"12\" font-style=\"italic\" lengthAdjust=\"spacingAndGlyphs\" textLength=\"64\" x=\"42\" y=\"57.1387\">«port def»</text><text fill=\"#000000\" font-family=\"sans-serif\" font-size=\"12\" lengthAdjust=\"spacingAndGlyphs\" textLength=\"8\" x=\"70\" y=\"71.1074\">C</text><line style=\"stroke: #383838; stroke-width: 1.5;\" x1=\"33\" x2=\"115\" y1=\"78.9375\" y2=\"78.9375\"/><text fill=\"#000000\" font-family=\"sans-serif\" font-size=\"11\" lengthAdjust=\"spacingAndGlyphs\" textLength=\"37\" x=\"38\" y=\"109.9526\">y: A, B</text><text fill=\"#000000\" font-family=\"sans-serif\" font-size=\"11\" font-weight=\"bold\" lengthAdjust=\"spacingAndGlyphs\" textLength=\"15\" x=\"79\" y=\"109.9526\">as</text><text fill=\"#000000\" font-family=\"sans-serif\" font-size=\"11\" lengthAdjust=\"spacingAndGlyphs\" textLength=\"12\" x=\"98\" y=\"109.9526\">z2</text><line style=\"stroke: #383838; stroke-width: 1.0;\" x1=\"33\" x2=\"43\" y1=\"93.3398\" y2=\"93.3398\"/><text fill=\"#000000\" font-family=\"sans-serif\" font-size=\"11\" lengthAdjust=\"spacingAndGlyphs\" textLength=\"62\" x=\"43\" y=\"96.6479\">references</text><line style=\"stroke: #383838; stroke-width: 1.0;\" x1=\"105\" x2=\"115\" y1=\"93.3398\" y2=\"93.3398\"/></a><a href=\"psysml:fcdcf065-90d4-4da1-8b43-4feb0ab4c03b\" target=\"_top\" title=\"psysml:fcdcf065-90d4-4da1-8b43-4feb0ab4c03b\" xlink:actuate=\"onRequest\" xlink:href=\"psysml:fcdcf065-90d4-4da1-8b43-4feb0ab4c03b\" xlink:show=\"new\" xlink:title=\"psysml:fcdcf065-90d4-4da1-8b43-4feb0ab4c03b\" xlink:type=\"simple\"><polygon fill=\"#FFFFFF\" points=\"86,591,102,591,109,613.2969,116,613.2969,116,643.5938,86,643.5938,86,591\" style=\"stroke: #000000; stroke-width: 1.5;\"/><line style=\"stroke: #000000; stroke-width: 1.5;\" x1=\"86\" x2=\"109\" y1=\"613.2969\" y2=\"613.2969\"/><text fill=\"#000000\" font-family=\"sans-serif\" font-size=\"14\" font-weight=\"bold\" lengthAdjust=\"spacingAndGlyphs\" textLength=\"10\" x=\"90\" y=\"605.9951\">P</text></a><!--MD5=[2720a5a1f2c3fca2055b230370638851]\n",
       "link E2 to E3--><a href=\"psysml:1f32f64a-cd2f-48b1-a0ff-85d8f5396f29\" target=\"_top\" title=\"psysml:1f32f64a-cd2f-48b1-a0ff-85d8f5396f29\" xlink:actuate=\"onRequest\" xlink:href=\"psysml:1f32f64a-cd2f-48b1-a0ff-85d8f5396f29\" xlink:show=\"new\" xlink:title=\"psysml:1f32f64a-cd2f-48b1-a0ff-85d8f5396f29\" xlink:type=\"simple\"><path d=\"M168.9,102.28 C166.28,121.12 162.41,148.97 158.94,173.94 \" fill=\"none\" id=\"E2-&gt;E3\" style=\"stroke: #383838; stroke-width: 1.0;\"/><polygon fill=\"#FFFFFF\" points=\"156.15,193.98,151.8354,174.1966,165.7018,176.1261,156.15,193.98\" style=\"stroke: #383838; stroke-width: 1.0;\"/><ellipse cx=\"154.6019\" cy=\"168.8266\" fill=\"#383838\" rx=\"2\" ry=\"2\" style=\"stroke: #383838; stroke-width: 1.0;\"/><ellipse cx=\"164.5065\" cy=\"170.2048\" fill=\"#383838\" rx=\"2\" ry=\"2\" style=\"stroke: #383838; stroke-width: 1.0;\"/></a><!--MD5=[4672eba38e49728da53d11aeb285b987]\n",
       "reverse link E3 to E4--><a href=\"psysml:1e20eef8-b16d-4a20-93fc-2b015416e79a\" target=\"_top\" title=\"psysml:1e20eef8-b16d-4a20-93fc-2b015416e79a\" xlink:actuate=\"onRequest\" xlink:href=\"psysml:1e20eef8-b16d-4a20-93fc-2b015416e79a\" xlink:show=\"new\" xlink:title=\"psysml:1e20eef8-b16d-4a20-93fc-2b015416e79a\" xlink:type=\"simple\"><path d=\"M142.17,283.02 C138.31,304.93 133.97,329.52 130.92,346.77 \" fill=\"none\" id=\"E3&lt;-E4\" style=\"stroke: #383838; stroke-width: 1.0;\"/><polygon fill=\"#383838\" points=\"144.44,270.16,139.4532,275.3688,142.3433,281.9754,147.3301,276.7666,144.44,270.16\" style=\"stroke: #383838; stroke-width: 1.0;\"/></a><!--MD5=[79568f1e445c3877b6a54524624ccc7d]\n",
       "link E4 to E6--><a href=\"psysml:97a379fd-51a7-461f-afe4-84a5f5da2292\" target=\"_top\" title=\"psysml:97a379fd-51a7-461f-afe4-84a5f5da2292\" xlink:actuate=\"onRequest\" xlink:href=\"psysml:97a379fd-51a7-461f-afe4-84a5f5da2292\" xlink:show=\"new\" xlink:title=\"psysml:97a379fd-51a7-461f-afe4-84a5f5da2292\" xlink:type=\"simple\"><path d=\"M123.88,393.01 C122.25,404.51 120.18,419.17 118.13,433.62 \" fill=\"none\" id=\"E4-&gt;E6\" style=\"stroke: #383838; stroke-width: 1.0;\"/><polygon fill=\"#FFFFFF\" points=\"115.3,453.57,111.0294,433.777,124.8914,435.7373,115.3,453.57\" style=\"stroke: #383838; stroke-width: 1.0;\"/><ellipse cx=\"113.8078\" cy=\"428.4132\" fill=\"#383838\" rx=\"2\" ry=\"2\" style=\"stroke: #383838; stroke-width: 1.0;\"/><ellipse cx=\"123.7093\" cy=\"429.8134\" fill=\"#383838\" rx=\"2\" ry=\"2\" style=\"stroke: #383838; stroke-width: 1.0;\"/></a><!--MD5=[3f50a3473f1dfb74d3f76443e03635af]\n",
       "reverse link E6 to E7--><a href=\"psysml:fcdcf065-90d4-4da1-8b43-4feb0ab4c03b\" target=\"_top\" title=\"psysml:fcdcf065-90d4-4da1-8b43-4feb0ab4c03b\" xlink:actuate=\"onRequest\" xlink:href=\"psysml:fcdcf065-90d4-4da1-8b43-4feb0ab4c03b\" xlink:show=\"new\" xlink:title=\"psysml:fcdcf065-90d4-4da1-8b43-4feb0ab4c03b\" xlink:type=\"simple\"><path d=\"M106.18,545.35 C105.04,561.08 103.83,577.65 102.87,590.83 \" fill=\"none\" id=\"E6&lt;-E7\" style=\"stroke: #383838; stroke-width: 1.0;\"/><ellipse cx=\"106.7138\" cy=\"538.0285\" fill=\"#FFFFFF\" rx=\"8\" ry=\"8\" style=\"stroke: #383838; stroke-width: 1.0;\"/><line style=\"stroke: #383838; stroke-width: 1.0;\" x1=\"106.1276\" x2=\"107.3\" y1=\"546.007\" y2=\"530.05\"/><line style=\"stroke: #383838; stroke-width: 1.0;\" x1=\"98.7353\" x2=\"114.6923\" y1=\"537.4423\" y2=\"538.6147\"/></a><!--MD5=[95fa686b5a16158bcdbcaeead89f639b]\n",
       "link E8 to E3--><a href=\"psysml:c8b02122-2142-456b-8199-9bf99e52168e\" target=\"_top\" title=\"psysml:c8b02122-2142-456b-8199-9bf99e52168e\" xlink:actuate=\"onRequest\" xlink:href=\"psysml:c8b02122-2142-456b-8199-9bf99e52168e\" xlink:show=\"new\" xlink:title=\"psysml:c8b02122-2142-456b-8199-9bf99e52168e\" xlink:type=\"simple\"><path d=\"M172.32,594.45 C172.8,548.41 173.03,438.69 166,347 C164.57,328.37 162.18,308.13 159.73,289.94 \" fill=\"none\" id=\"E8-&gt;E3\" style=\"stroke: #383838; stroke-width: 1.0;\"/><polygon fill=\"#FFFFFF\" points=\"156.92,270.12,166.5114,287.9527,152.6494,289.913,156.92,270.12\" style=\"stroke: #383838; stroke-width: 1.0;\"/><ellipse cx=\"165.3293\" cy=\"293.8766\" fill=\"#383838\" rx=\"2\" ry=\"2\" style=\"stroke: #383838; stroke-width: 1.0;\"/><ellipse cx=\"155.4278\" cy=\"295.2768\" fill=\"#383838\" rx=\"2\" ry=\"2\" style=\"stroke: #383838; stroke-width: 1.0;\"/></a><!--MD5=[f4cf0736d43fd73c4ef68817c49d37d5]\n",
       "reverse link E6 to E8--><a href=\"psysml:adeac7a4-0c31-420e-b3fd-609062fb2f41\" target=\"_top\" title=\"psysml:adeac7a4-0c31-420e-b3fd-609062fb2f41\" xlink:actuate=\"onRequest\" xlink:href=\"psysml:adeac7a4-0c31-420e-b3fd-609062fb2f41\" xlink:show=\"new\" xlink:title=\"psysml:adeac7a4-0c31-420e-b3fd-609062fb2f41\" xlink:type=\"simple\"><path d=\"M134.44,541.68 C143.55,559.83 153.45,579.55 160.8,594.19 \" fill=\"none\" id=\"E6&lt;-E8\" style=\"stroke: #383838; stroke-width: 1.0;\"/><polygon fill=\"#383838\" points=\"128.6,530.05,127.7161,537.2067,133.9824,540.7752,134.8663,533.6185,128.6,530.05\" style=\"stroke: #383838; stroke-width: 1.0;\"/></a><!--MD5=[8e04057e7b3cbc0dca4fc78ea351e2da]\n",
       "reverse link E10 to E3--><a href=\"psysml:4b320237-d900-4f83-8ac2-28b55b9df163\" target=\"_top\" title=\"psysml:4b320237-d900-4f83-8ac2-28b55b9df163\" xlink:actuate=\"onRequest\" xlink:href=\"psysml:4b320237-d900-4f83-8ac2-28b55b9df163\" xlink:show=\"new\" xlink:title=\"psysml:4b320237-d900-4f83-8ac2-28b55b9df163\" xlink:type=\"simple\"><path d=\"M98.98,128.98 C109.72,150.06 122.08,174.29 132.05,193.84 \" fill=\"none\" id=\"E10&lt;-E3\" style=\"stroke: #383838; stroke-width: 1.0;\"/><polygon fill=\"#FFFFFF\" points=\"93.03,117.33,92.1919,124.4922,98.4809,128.0206,99.319,120.8583,93.03,117.33\" style=\"stroke: #383838; stroke-width: 1.0;\"/><text fill=\"#000000\" font-family=\"sans-serif\" font-size=\"13\" lengthAdjust=\"spacingAndGlyphs\" textLength=\"7\" x=\"115\" y=\"160.0669\">y</text></a><!--MD5=[604cbf994c02b74b117f728a71673cea]\n",
       "reverse link E10 to E6--><a href=\"psysml:4b320237-d900-4f83-8ac2-28b55b9df163\" target=\"_top\" title=\"psysml:4b320237-d900-4f83-8ac2-28b55b9df163\" xlink:actuate=\"onRequest\" xlink:href=\"psysml:4b320237-d900-4f83-8ac2-28b55b9df163\" xlink:show=\"new\" xlink:title=\"psysml:4b320237-d900-4f83-8ac2-28b55b9df163\" xlink:type=\"simple\"><path d=\"M73.89,130.53 C74.34,192.6 77.02,300.97 89,393 C91.63,413.19 96.24,435.39 100.47,453.55 \" fill=\"none\" id=\"E10&lt;-E6\" style=\"stroke: #383838; stroke-width: 1.0;\"/><polygon fill=\"#FFFFFF\" points=\"73.83,117.27,69.863,123.2919,73.8959,129.2698,77.8629,123.2479,73.83,117.27\" style=\"stroke: #383838; stroke-width: 1.0;\"/><text fill=\"#000000\" font-family=\"sans-serif\" font-size=\"13\" lengthAdjust=\"spacingAndGlyphs\" textLength=\"7\" x=\"82\" y=\"313.0669\">y</text></a><!--MD5=[ff678dbac68c469c4df168fd16b2d84c]\n",
       "@startuml\r\n",
       "top to bottom direction\r\n",
       "skinparam monochrome true\r\n",
       "skinparam classbackgroundcolor white\r\n",
       "skinparam shadowing false\r\n",
       "skinparam wrapWidth 300\r\n",
       "hide circle\r\n",
       "\r\n",
       "package \"BlockTest\" as E1  [[psysml:c0b99535-16c1-47cf-a8d5-3f20b133a54a ]]  {\r\n",
       "comp usage \"f: A\" as E2  <<(T,blue)part>> [[psysml:20852434-d7cc-411e-aa3b-cae286a1f6f8 ]] {\r\n",
       "}\r\n",
       "comp def \"A\" as E3  <<(T,blue)part def>> [[psysml:cbed5230-ac88-4b7e-9b23-6ffd90d7c059 ]] {\r\n",
       "- - ports - -\r\n",
       "c: C\r\n",
       "}\r\n",
       "comp usage \"b: B\" as E4  <<(T,blue)part>> [[psysml:1e20eef8-b16d-4a20-93fc-2b015416e79a ]] {\r\n",
       "}\r\n",
       "comp def \"B\" as E6  <<(T,blue)part def>> [[psysml:633af2d2-4d32-4996-ac04-a91fff2e720f ]] {\r\n",
       "- - ports - -\r\n",
       "x: ~C\r\n",
       "}\r\n",
       "package \"P\" as E7  [[psysml:fcdcf065-90d4-4da1-8b43-4feb0ab4c03b ]]  {\r\n",
       "}\r\n",
       "comp usage \"a: A\" as E8  <<(T,blue)part>> [[psysml:adeac7a4-0c31-420e-b3fd-609062fb2f41 ]] {\r\n",
       "}\r\n",
       "comp def \"C\" as E10  <<(T,blue)port def>> [[psysml:19a0d075-dfec-4a25-8f91-7b5bd5520f32 ]] {\r\n",
       "- - references - -\r\n",
       "y: A, B <b>as</b> z2 \r\n",
       "}\r\n",
       "E2 - -:|> E3 [[psysml:1f32f64a-cd2f-48b1-a0ff-85d8f5396f29 ]] \r\n",
       "E3 *- - E4 [[psysml:1e20eef8-b16d-4a20-93fc-2b015416e79a ]] \r\n",
       "E4 - -:|> E6 [[psysml:97a379fd-51a7-461f-afe4-84a5f5da2292 ]] \r\n",
       "E6 +- - E7 [[psysml:fcdcf065-90d4-4da1-8b43-4feb0ab4c03b ]] \r\n",
       "E8 - -:|> E3 [[psysml:c8b02122-2142-456b-8199-9bf99e52168e ]] \r\n",
       "E6 *- - E8 [[psysml:adeac7a4-0c31-420e-b3fd-609062fb2f41 ]] \r\n",
       "E10 o- - E3 [[psysml:4b320237-d900-4f83-8ac2-28b55b9df163 ]] : y\r\n",
       "E10 o- - E6 [[psysml:4b320237-d900-4f83-8ac2-28b55b9df163 ]] : y\r\n",
       "}\r\n",
       "@enduml\r\n",
       "\n",
       "PlantUML version 1.2020.13(Sat Jun 13 12:26:38 UTC 2020)\n",
       "(EPL source distribution)\n",
       "Java Runtime: OpenJDK Runtime Environment\n",
       "JVM: OpenJDK 64-Bit Server VM\n",
       "Default Encoding: UTF-8\n",
       "Language: en\n",
       "Country: null\n",
       "--></g></svg>"
      ]
     },
     "execution_count": 45,
     "metadata": {},
     "output_type": "execute_result"
    }
   ],
   "source": [
    "%viz --style=\"TB\" --view=\"Tree\" \"BlockTest\""
   ]
  },
  {
   "cell_type": "code",
   "execution_count": 46,
   "id": "unavailable-mandate",
   "metadata": {
    "execution": {
     "iopub.execute_input": "2021-03-25T15:00:04.352246Z",
     "iopub.status.busy": "2021-03-25T15:00:04.351692Z",
     "iopub.status.idle": "2021-03-25T15:00:04.360789Z",
     "shell.execute_reply": "2021-03-25T15:00:04.361316Z"
    }
   },
   "outputs": [
    {
     "data": {
      "image/svg+xml": [
       "<?xml version=\"1.0\" encoding=\"UTF-8\" standalone=\"no\"?><svg xmlns=\"http://www.w3.org/2000/svg\" xmlns:xlink=\"http://www.w3.org/1999/xlink\" contentScriptType=\"application/ecmascript\" contentStyleType=\"text/css\" height=\"12px\" preserveAspectRatio=\"none\" style=\"width:12px;height:12px;\" version=\"1.1\" viewBox=\"0 0 12 12\" width=\"12px\" zoomAndPan=\"magnify\"><defs/><g><!--MD5=[f4ee21bc66e489b5061b7c3e9601fdef]\n",
       "@startuml\r\n",
       "top to bottom direction\r\n",
       "skinparam monochrome true\r\n",
       "skinparam classbackgroundcolor white\r\n",
       "skinparam shadowing false\r\n",
       "skinparam wrapWidth 300\r\n",
       "hide circle\r\n",
       "\r\n",
       "@enduml\r\n",
       "\n",
       "PlantUML version 1.2020.13(Sat Jun 13 12:26:38 UTC 2020)\n",
       "(EPL source distribution)\n",
       "Java Runtime: OpenJDK Runtime Environment\n",
       "JVM: OpenJDK 64-Bit Server VM\n",
       "Default Encoding: UTF-8\n",
       "Language: en\n",
       "Country: null\n",
       "--></g></svg>"
      ]
     },
     "execution_count": 46,
     "metadata": {},
     "output_type": "execute_result"
    }
   ],
   "source": [
    "%viz --style=\"TB\" --view=\"State\" \"BlockTest\""
   ]
  },
  {
   "cell_type": "code",
   "execution_count": 47,
   "id": "controlling-prime",
   "metadata": {
    "execution": {
     "iopub.execute_input": "2021-03-25T15:00:04.413096Z",
     "iopub.status.busy": "2021-03-25T15:00:04.412407Z",
     "iopub.status.idle": "2021-03-25T15:00:04.531638Z",
     "shell.execute_reply": "2021-03-25T15:00:04.530274Z"
    }
   },
   "outputs": [
    {
     "data": {
      "image/svg+xml": [
       "<?xml version=\"1.0\" encoding=\"UTF-8\" standalone=\"no\"?><svg xmlns=\"http://www.w3.org/2000/svg\" xmlns:xlink=\"http://www.w3.org/1999/xlink\" contentScriptType=\"application/ecmascript\" contentStyleType=\"text/css\" height=\"256px\" preserveAspectRatio=\"none\" style=\"width:590px;height:256px;\" version=\"1.1\" viewBox=\"0 0 590 256\" width=\"590px\" zoomAndPan=\"magnify\"><defs/><g><!--MD5=[fbc87193dbaf4d95561dea2c320d4a47]\n",
       "cluster E1--><a href=\"psysml:c0b99535-16c1-47cf-a8d5-3f20b133a54a\" target=\"_top\" title=\"psysml:c0b99535-16c1-47cf-a8d5-3f20b133a54a\" xlink:actuate=\"onRequest\" xlink:href=\"psysml:c0b99535-16c1-47cf-a8d5-3f20b133a54a\" xlink:show=\"new\" xlink:title=\"psysml:c0b99535-16c1-47cf-a8d5-3f20b133a54a\" xlink:type=\"simple\"><polygon fill=\"#FFFFFF\" points=\"16,6,99,6,106,28.2969,568,28.2969,568,244,16,244,16,6\" style=\"stroke: #000000; stroke-width: 1.5;\"/><line style=\"stroke: #000000; stroke-width: 1.5;\" x1=\"16\" x2=\"106\" y1=\"28.2969\" y2=\"28.2969\"/><text fill=\"#000000\" font-family=\"sans-serif\" font-size=\"14\" font-weight=\"bold\" lengthAdjust=\"spacingAndGlyphs\" textLength=\"77\" x=\"20\" y=\"20.9951\">BlockTest</text></a><!--MD5=[d5e69f78d87373223dbae638b30a9c99]\n",
       "cluster E3--><a href=\"psysml:cbed5230-ac88-4b7e-9b23-6ffd90d7c059\" target=\"_top\" title=\"psysml:cbed5230-ac88-4b7e-9b23-6ffd90d7c059\" xlink:actuate=\"onRequest\" xlink:href=\"psysml:cbed5230-ac88-4b7e-9b23-6ffd90d7c059\" xlink:show=\"new\" xlink:title=\"psysml:cbed5230-ac88-4b7e-9b23-6ffd90d7c059\" xlink:type=\"simple\"><rect fill=\"#FFFFFF\" height=\"160\" id=\"E3\" style=\"stroke: #383838; stroke-width: 1.5;\" width=\"120\" x=\"432\" y=\"68\"/><rect fill=\"#F8F8F8\" height=\"37.9375\" style=\"stroke: #383838; stroke-width: 1.5;\" width=\"120\" x=\"432\" y=\"68\"/><text fill=\"#000000\" font-family=\"sans-serif\" font-size=\"12\" font-style=\"italic\" lengthAdjust=\"spacingAndGlyphs\" textLength=\"64\" x=\"460\" y=\"84.1387\">«part def»</text><text fill=\"#000000\" font-family=\"sans-serif\" font-size=\"12\" lengthAdjust=\"spacingAndGlyphs\" textLength=\"8\" x=\"488\" y=\"98.1074\">A</text></a><!--MD5=[14e3b0961a2654348d326746436168a1]\n",
       "cluster E6--><a href=\"psysml:633af2d2-4d32-4996-ac04-a91fff2e720f\" target=\"_top\" title=\"psysml:633af2d2-4d32-4996-ac04-a91fff2e720f\" xlink:actuate=\"onRequest\" xlink:href=\"psysml:633af2d2-4d32-4996-ac04-a91fff2e720f\" xlink:show=\"new\" xlink:title=\"psysml:633af2d2-4d32-4996-ac04-a91fff2e720f\" xlink:type=\"simple\"><rect fill=\"#FFFFFF\" height=\"160\" id=\"E6\" style=\"stroke: #383838; stroke-width: 1.5;\" width=\"185\" x=\"239\" y=\"68\"/><rect fill=\"#F8F8F8\" height=\"37.9375\" style=\"stroke: #383838; stroke-width: 1.5;\" width=\"185\" x=\"239\" y=\"68\"/><text fill=\"#000000\" font-family=\"sans-serif\" font-size=\"12\" font-style=\"italic\" lengthAdjust=\"spacingAndGlyphs\" textLength=\"64\" x=\"299.5\" y=\"84.1387\">«part def»</text><text fill=\"#000000\" font-family=\"sans-serif\" font-size=\"12\" lengthAdjust=\"spacingAndGlyphs\" textLength=\"8\" x=\"327.5\" y=\"98.1074\">B</text></a><!--MD5=[96f4274e9e20536e775497830990834d]\n",
       "class E10--><a href=\"psysml:19a0d075-dfec-4a25-8f91-7b5bd5520f32\" target=\"_top\" title=\"psysml:19a0d075-dfec-4a25-8f91-7b5bd5520f32\" xlink:actuate=\"onRequest\" xlink:href=\"psysml:19a0d075-dfec-4a25-8f91-7b5bd5520f32\" xlink:show=\"new\" xlink:title=\"psysml:19a0d075-dfec-4a25-8f91-7b5bd5520f32\" xlink:type=\"simple\"><rect fill=\"#FFFFFF\" height=\"53.9375\" id=\"E10\" style=\"stroke: #383838; stroke-width: 1.5;\" width=\"114\" x=\"117\" y=\"41\"/><text fill=\"#000000\" font-family=\"sans-serif\" font-size=\"12\" font-style=\"italic\" lengthAdjust=\"spacingAndGlyphs\" textLength=\"112\" x=\"118\" y=\"57.1387\">«(T,blue)port def»</text><text fill=\"#000000\" font-family=\"sans-serif\" font-size=\"12\" lengthAdjust=\"spacingAndGlyphs\" textLength=\"8\" x=\"170\" y=\"71.1074\">C</text><line style=\"stroke: #383838; stroke-width: 1.5;\" x1=\"118\" x2=\"230\" y1=\"78.9375\" y2=\"78.9375\"/><line style=\"stroke: #383838; stroke-width: 1.5;\" x1=\"118\" x2=\"230\" y1=\"86.9375\" y2=\"86.9375\"/></a><g id=\"E1.E2\"><a href=\"psysml:20852434-d7cc-411e-aa3b-cae286a1f6f8\" target=\"_top\" title=\"psysml:20852434-d7cc-411e-aa3b-cae286a1f6f8\" xlink:actuate=\"onRequest\" xlink:href=\"psysml:20852434-d7cc-411e-aa3b-cae286a1f6f8\" xlink:show=\"new\" xlink:title=\"psysml:20852434-d7cc-411e-aa3b-cae286a1f6f8\" xlink:type=\"simple\"><rect fill=\"#FFFFFF\" height=\"40\" id=\"E2\" rx=\"10\" ry=\"10\" style=\"stroke: #383838; stroke-width: 1.5;\" width=\"50\" x=\"32\" y=\"48\"/><rect fill=\"#F8F8F8\" height=\"23.9688\" rx=\"10\" ry=\"10\" style=\"stroke: #F8F8F8; stroke-width: 1.5;\" width=\"50\" x=\"32\" y=\"48\"/><rect fill=\"#F8F8F8\" height=\"10\" style=\"stroke: #F8F8F8; stroke-width: 1.5;\" width=\"50\" x=\"32\" y=\"61.9688\"/><rect fill=\"none\" height=\"40\" id=\"E2\" rx=\"10\" ry=\"10\" style=\"stroke: #383838; stroke-width: 1.5;\" width=\"50\" x=\"32\" y=\"48\"/><text fill=\"#000000\" font-family=\"sans-serif\" font-size=\"12\" lengthAdjust=\"spacingAndGlyphs\" textLength=\"20\" x=\"47\" y=\"64.1387\">f: A</text></a></g><text fill=\"#000000\" font-family=\"sans-serif\" font-size=\"14\" lengthAdjust=\"spacingAndGlyphs\" textLength=\"27\" x=\"478.5\" y=\"46.6982\">c: C</text><rect fill=\"#383838\" height=\"12\" style=\"stroke: #F8F8F8; stroke-width: 1.5;\" width=\"12\" x=\"486\" y=\"62\"/><g id=\"E1.E3.E4\"><a href=\"psysml:1e20eef8-b16d-4a20-93fc-2b015416e79a\" target=\"_top\" title=\"psysml:1e20eef8-b16d-4a20-93fc-2b015416e79a\" xlink:actuate=\"onRequest\" xlink:href=\"psysml:1e20eef8-b16d-4a20-93fc-2b015416e79a\" xlink:show=\"new\" xlink:title=\"psysml:1e20eef8-b16d-4a20-93fc-2b015416e79a\" xlink:type=\"simple\"><rect fill=\"#FFFFFF\" height=\"40\" id=\"E4\" rx=\"10\" ry=\"10\" style=\"stroke: #383838; stroke-width: 1.5;\" width=\"50\" x=\"467\" y=\"172\"/><rect fill=\"#F8F8F8\" height=\"23.9688\" rx=\"10\" ry=\"10\" style=\"stroke: #F8F8F8; stroke-width: 1.5;\" width=\"50\" x=\"467\" y=\"172\"/><rect fill=\"#F8F8F8\" height=\"10\" style=\"stroke: #F8F8F8; stroke-width: 1.5;\" width=\"50\" x=\"467\" y=\"185.9688\"/><rect fill=\"none\" height=\"40\" id=\"E4\" rx=\"10\" ry=\"10\" style=\"stroke: #383838; stroke-width: 1.5;\" width=\"50\" x=\"467\" y=\"172\"/><text fill=\"#000000\" font-family=\"sans-serif\" font-size=\"12\" lengthAdjust=\"spacingAndGlyphs\" textLength=\"24\" x=\"480\" y=\"188.1387\">b: B</text></a></g><text fill=\"#000000\" font-family=\"sans-serif\" font-size=\"14\" lengthAdjust=\"spacingAndGlyphs\" textLength=\"38\" x=\"345\" y=\"46.6982\">x: ~C</text><rect fill=\"#383838\" height=\"12\" style=\"stroke: #F8F8F8; stroke-width: 1.5;\" width=\"12\" x=\"358\" y=\"62\"/><a href=\"psysml:fcdcf065-90d4-4da1-8b43-4feb0ab4c03b\" target=\"_top\" title=\"psysml:fcdcf065-90d4-4da1-8b43-4feb0ab4c03b\" xlink:actuate=\"onRequest\" xlink:href=\"psysml:fcdcf065-90d4-4da1-8b43-4feb0ab4c03b\" xlink:show=\"new\" xlink:title=\"psysml:fcdcf065-90d4-4da1-8b43-4feb0ab4c03b\" xlink:type=\"simple\"><polygon fill=\"#FFFFFF\" points=\"255,111,271,111,278,133.2969,285,133.2969,285,163.5938,255,163.5938,255,111\" style=\"stroke: #000000; stroke-width: 1.5;\"/><line style=\"stroke: #000000; stroke-width: 1.5;\" x1=\"255\" x2=\"278\" y1=\"133.2969\" y2=\"133.2969\"/><text fill=\"#000000\" font-family=\"sans-serif\" font-size=\"14\" font-weight=\"bold\" lengthAdjust=\"spacingAndGlyphs\" textLength=\"10\" x=\"259\" y=\"125.9951\">P</text></a><g id=\"E1.E6.E8\"><a href=\"psysml:adeac7a4-0c31-420e-b3fd-609062fb2f41\" target=\"_top\" title=\"psysml:adeac7a4-0c31-420e-b3fd-609062fb2f41\" xlink:actuate=\"onRequest\" xlink:href=\"psysml:adeac7a4-0c31-420e-b3fd-609062fb2f41\" xlink:show=\"new\" xlink:title=\"psysml:adeac7a4-0c31-420e-b3fd-609062fb2f41\" xlink:type=\"simple\"><rect fill=\"#FFFFFF\" height=\"40\" id=\"E8\" rx=\"10\" ry=\"10\" style=\"stroke: #383838; stroke-width: 1.5;\" width=\"50\" x=\"339\" y=\"172\"/><rect fill=\"#F8F8F8\" height=\"23.9688\" rx=\"10\" ry=\"10\" style=\"stroke: #F8F8F8; stroke-width: 1.5;\" width=\"50\" x=\"339\" y=\"172\"/><rect fill=\"#F8F8F8\" height=\"10\" style=\"stroke: #F8F8F8; stroke-width: 1.5;\" width=\"50\" x=\"339\" y=\"185.9688\"/><rect fill=\"none\" height=\"40\" id=\"E8\" rx=\"10\" ry=\"10\" style=\"stroke: #383838; stroke-width: 1.5;\" width=\"50\" x=\"339\" y=\"172\"/><text fill=\"#000000\" font-family=\"sans-serif\" font-size=\"12\" lengthAdjust=\"spacingAndGlyphs\" textLength=\"24\" x=\"352\" y=\"188.1387\">a: A</text></a></g><!--MD5=[b6c793374658ff1b0d7dc80019e771f6]\n",
       "@startuml\r\n",
       "skinparam ranksep 8\r\n",
       "skinparam rectangle {\r\n",
       " backgroundColor<<block>> LightGreen\r\n",
       "}\r\n",
       "top to bottom direction\r\n",
       "skinparam monochrome true\r\n",
       "skinparam classbackgroundcolor white\r\n",
       "skinparam shadowing false\r\n",
       "skinparam wrapWidth 300\r\n",
       "hide circle\r\n",
       "\r\n",
       "package \"BlockTest\" as E1  [[psysml:c0b99535-16c1-47cf-a8d5-3f20b133a54a ]]  {\r\n",
       "rec usage \"f: A\" as E2  [[psysml:20852434-d7cc-411e-aa3b-cae286a1f6f8 ]] {\r\n",
       "}\r\n",
       "rec def \"A\" as E3  <<(T,blue)part def>> [[psysml:cbed5230-ac88-4b7e-9b23-6ffd90d7c059 ]] {\r\n",
       "rec usage \"b: B\" as E4  [[psysml:1e20eef8-b16d-4a20-93fc-2b015416e79a ]] {\r\n",
       "}\r\n",
       "portin \"c: C\" as E5  <<(T,blue)port>> [[psysml:fb57aec8-8cad-41ed-886b-c51c957131e5 ]] \r\n",
       "}\r\n",
       "rec def \"B\" as E6  <<(T,blue)part def>> [[psysml:633af2d2-4d32-4996-ac04-a91fff2e720f ]] {\r\n",
       "package \"P\" as E7  [[psysml:fcdcf065-90d4-4da1-8b43-4feb0ab4c03b ]]  {\r\n",
       "}\r\n",
       "rec usage \"a: A\" as E8  [[psysml:adeac7a4-0c31-420e-b3fd-609062fb2f41 ]] {\r\n",
       "}\r\n",
       "portin \"x: ~C\" as E9  <<(T,blue)port>> [[psysml:64509ffc-1e29-47d8-8b93-efd607e70ae2 ]] \r\n",
       "}\r\n",
       "def \"C\" as E10  <<(T,blue)port def>> [[psysml:19a0d075-dfec-4a25-8f91-7b5bd5520f32 ]] \r\n",
       "}\r\n",
       "@enduml\r\n",
       "\n",
       "PlantUML version 1.2020.13(Sat Jun 13 12:26:38 UTC 2020)\n",
       "(EPL source distribution)\n",
       "Java Runtime: OpenJDK Runtime Environment\n",
       "JVM: OpenJDK 64-Bit Server VM\n",
       "Default Encoding: UTF-8\n",
       "Language: en\n",
       "Country: null\n",
       "--></g></svg>"
      ]
     },
     "execution_count": 47,
     "metadata": {},
     "output_type": "execute_result"
    }
   ],
   "source": [
    "%viz --style=\"TB\" --view=\"Interconnection\" \"BlockTest\""
   ]
  },
  {
   "cell_type": "code",
   "execution_count": 48,
   "id": "promotional-elite",
   "metadata": {
    "execution": {
     "iopub.execute_input": "2021-03-25T15:00:04.582303Z",
     "iopub.status.busy": "2021-03-25T15:00:04.581543Z",
     "iopub.status.idle": "2021-03-25T15:00:04.588806Z",
     "shell.execute_reply": "2021-03-25T15:00:04.588399Z"
    }
   },
   "outputs": [
    {
     "data": {
      "image/svg+xml": [
       "<?xml version=\"1.0\" encoding=\"UTF-8\" standalone=\"no\"?><svg xmlns=\"http://www.w3.org/2000/svg\" xmlns:xlink=\"http://www.w3.org/1999/xlink\" contentScriptType=\"application/ecmascript\" contentStyleType=\"text/css\" height=\"12px\" preserveAspectRatio=\"none\" style=\"width:12px;height:12px;\" version=\"1.1\" viewBox=\"0 0 12 12\" width=\"12px\" zoomAndPan=\"magnify\"><defs/><g><!--MD5=[06afc254b03ac5e9d9fb7773b07d0800]\n",
       "@startuml\r\n",
       "skinparam ranksep 8\r\n",
       "top to bottom direction\r\n",
       "skinparam monochrome true\r\n",
       "skinparam classbackgroundcolor white\r\n",
       "skinparam shadowing false\r\n",
       "skinparam wrapWidth 300\r\n",
       "hide circle\r\n",
       "\r\n",
       "@enduml\r\n",
       "\n",
       "PlantUML version 1.2020.13(Sat Jun 13 12:26:38 UTC 2020)\n",
       "(EPL source distribution)\n",
       "Java Runtime: OpenJDK Runtime Environment\n",
       "JVM: OpenJDK 64-Bit Server VM\n",
       "Default Encoding: UTF-8\n",
       "Language: en\n",
       "Country: null\n",
       "--></g></svg>"
      ]
     },
     "execution_count": 48,
     "metadata": {},
     "output_type": "execute_result"
    }
   ],
   "source": [
    "%viz --style=\"TB\" --view=\"Action\" \"BlockTest\""
   ]
  },
  {
   "cell_type": "code",
   "execution_count": 49,
   "id": "conventional-snake",
   "metadata": {
    "execution": {
     "iopub.execute_input": "2021-03-25T15:00:04.639987Z",
     "iopub.status.busy": "2021-03-25T15:00:04.639139Z",
     "iopub.status.idle": "2021-03-25T15:00:05.092606Z",
     "shell.execute_reply": "2021-03-25T15:00:05.092130Z"
    }
   },
   "outputs": [
    {
     "data": {
      "image/svg+xml": [
       "<?xml version=\"1.0\" encoding=\"UTF-8\" standalone=\"no\"?><svg xmlns=\"http://www.w3.org/2000/svg\" xmlns:xlink=\"http://www.w3.org/1999/xlink\" contentScriptType=\"application/ecmascript\" contentStyleType=\"text/css\" height=\"672px\" preserveAspectRatio=\"none\" style=\"width:231px;height:672px;\" version=\"1.1\" viewBox=\"0 0 231 672\" width=\"231px\" zoomAndPan=\"magnify\"><defs/><g><!--MD5=[fbc87193dbaf4d95561dea2c320d4a47]\n",
       "cluster E1--><a href=\"psysml:c0b99535-16c1-47cf-a8d5-3f20b133a54a\" target=\"_top\" title=\"psysml:c0b99535-16c1-47cf-a8d5-3f20b133a54a\" xlink:actuate=\"onRequest\" xlink:href=\"psysml:c0b99535-16c1-47cf-a8d5-3f20b133a54a\" xlink:show=\"new\" xlink:title=\"psysml:c0b99535-16c1-47cf-a8d5-3f20b133a54a\" xlink:type=\"simple\"><polygon fill=\"#FFFFFF\" points=\"16,6,99,6,106,28.2969,209,28.2969,209,660,16,660,16,6\" style=\"stroke: #000000; stroke-width: 1.5;\"/><line style=\"stroke: #000000; stroke-width: 1.5;\" x1=\"16\" x2=\"106\" y1=\"28.2969\" y2=\"28.2969\"/><text fill=\"#000000\" font-family=\"sans-serif\" font-size=\"14\" font-weight=\"bold\" lengthAdjust=\"spacingAndGlyphs\" textLength=\"77\" x=\"20\" y=\"20.9951\">BlockTest</text></a><!--MD5=[b4997ac47864f28c2f74865a473b2911]\n",
       "class E2--><a href=\"psysml:20852434-d7cc-411e-aa3b-cae286a1f6f8\" target=\"_top\" title=\"psysml:20852434-d7cc-411e-aa3b-cae286a1f6f8\" xlink:actuate=\"onRequest\" xlink:href=\"psysml:20852434-d7cc-411e-aa3b-cae286a1f6f8\" xlink:show=\"new\" xlink:title=\"psysml:20852434-d7cc-411e-aa3b-cae286a1f6f8\" xlink:type=\"simple\"><rect fill=\"#FFFFFF\" height=\"45.9375\" id=\"E2\" rx=\"10\" ry=\"10\" style=\"stroke: #383838; stroke-width: 1.5;\" width=\"42\" x=\"151\" y=\"56\"/><text fill=\"#000000\" font-family=\"sans-serif\" font-size=\"12\" font-style=\"italic\" lengthAdjust=\"spacingAndGlyphs\" textLength=\"40\" x=\"152\" y=\"72.1387\">«part»</text><text fill=\"#000000\" font-family=\"sans-serif\" font-size=\"12\" lengthAdjust=\"spacingAndGlyphs\" textLength=\"20\" x=\"162\" y=\"86.1074\">f: A</text><line style=\"stroke: #383838; stroke-width: 1.5;\" x1=\"152\" x2=\"192\" y1=\"93.9375\" y2=\"93.9375\"/></a><!--MD5=[09b614a08d8cba4a07c9adeb5e0fee81]\n",
       "class E3--><a href=\"psysml:cbed5230-ac88-4b7e-9b23-6ffd90d7c059\" target=\"_top\" title=\"psysml:cbed5230-ac88-4b7e-9b23-6ffd90d7c059\" xlink:actuate=\"onRequest\" xlink:href=\"psysml:cbed5230-ac88-4b7e-9b23-6ffd90d7c059\" xlink:show=\"new\" xlink:title=\"psysml:cbed5230-ac88-4b7e-9b23-6ffd90d7c059\" xlink:type=\"simple\"><rect fill=\"#FFFFFF\" height=\"75.5469\" id=\"E3\" style=\"stroke: #383838; stroke-width: 1.5;\" width=\"66\" x=\"118\" y=\"194\"/><text fill=\"#000000\" font-family=\"sans-serif\" font-size=\"12\" font-style=\"italic\" lengthAdjust=\"spacingAndGlyphs\" textLength=\"64\" x=\"119\" y=\"210.1387\">«part def»</text><text fill=\"#000000\" font-family=\"sans-serif\" font-size=\"12\" lengthAdjust=\"spacingAndGlyphs\" textLength=\"8\" x=\"147\" y=\"224.1074\">A</text><line style=\"stroke: #383838; stroke-width: 1.5;\" x1=\"119\" x2=\"183\" y1=\"231.9375\" y2=\"231.9375\"/><text fill=\"#000000\" font-family=\"sans-serif\" font-size=\"11\" lengthAdjust=\"spacingAndGlyphs\" textLength=\"22\" x=\"124\" y=\"262.9526\">c: C</text><line style=\"stroke: #383838; stroke-width: 1.0;\" x1=\"119\" x2=\"136\" y1=\"246.3398\" y2=\"246.3398\"/><text fill=\"#000000\" font-family=\"sans-serif\" font-size=\"11\" lengthAdjust=\"spacingAndGlyphs\" textLength=\"30\" x=\"136\" y=\"249.6479\">ports</text><line style=\"stroke: #383838; stroke-width: 1.0;\" x1=\"166\" x2=\"183\" y1=\"246.3398\" y2=\"246.3398\"/></a><!--MD5=[ebbe1d658d1005bcc118a6aa81145e00]\n",
       "class E4--><a href=\"psysml:1e20eef8-b16d-4a20-93fc-2b015416e79a\" target=\"_top\" title=\"psysml:1e20eef8-b16d-4a20-93fc-2b015416e79a\" xlink:actuate=\"onRequest\" xlink:href=\"psysml:1e20eef8-b16d-4a20-93fc-2b015416e79a\" xlink:show=\"new\" xlink:title=\"psysml:1e20eef8-b16d-4a20-93fc-2b015416e79a\" xlink:type=\"simple\"><rect fill=\"#FFFFFF\" height=\"45.9375\" id=\"E4\" rx=\"10\" ry=\"10\" style=\"stroke: #383838; stroke-width: 1.5;\" width=\"42\" x=\"106\" y=\"347\"/><text fill=\"#000000\" font-family=\"sans-serif\" font-size=\"12\" font-style=\"italic\" lengthAdjust=\"spacingAndGlyphs\" textLength=\"40\" x=\"107\" y=\"363.1387\">«part»</text><text fill=\"#000000\" font-family=\"sans-serif\" font-size=\"12\" lengthAdjust=\"spacingAndGlyphs\" textLength=\"24\" x=\"115\" y=\"377.1074\">b: B</text><line style=\"stroke: #383838; stroke-width: 1.5;\" x1=\"107\" x2=\"147\" y1=\"384.9375\" y2=\"384.9375\"/></a><!--MD5=[60a26617385b1d2d0262a64233df1f8d]\n",
       "class E6--><a href=\"psysml:633af2d2-4d32-4996-ac04-a91fff2e720f\" target=\"_top\" title=\"psysml:633af2d2-4d32-4996-ac04-a91fff2e720f\" xlink:actuate=\"onRequest\" xlink:href=\"psysml:633af2d2-4d32-4996-ac04-a91fff2e720f\" xlink:show=\"new\" xlink:title=\"psysml:633af2d2-4d32-4996-ac04-a91fff2e720f\" xlink:type=\"simple\"><rect fill=\"#FFFFFF\" height=\"75.5469\" id=\"E6\" style=\"stroke: #383838; stroke-width: 1.5;\" width=\"66\" x=\"77\" y=\"454\"/><text fill=\"#000000\" font-family=\"sans-serif\" font-size=\"12\" font-style=\"italic\" lengthAdjust=\"spacingAndGlyphs\" textLength=\"64\" x=\"78\" y=\"470.1387\">«part def»</text><text fill=\"#000000\" font-family=\"sans-serif\" font-size=\"12\" lengthAdjust=\"spacingAndGlyphs\" textLength=\"8\" x=\"106\" y=\"484.1074\">B</text><line style=\"stroke: #383838; stroke-width: 1.5;\" x1=\"78\" x2=\"142\" y1=\"491.9375\" y2=\"491.9375\"/><text fill=\"#000000\" font-family=\"sans-serif\" font-size=\"11\" lengthAdjust=\"spacingAndGlyphs\" textLength=\"31\" x=\"83\" y=\"522.9526\">x: ~C</text><line style=\"stroke: #383838; stroke-width: 1.0;\" x1=\"78\" x2=\"95\" y1=\"506.3398\" y2=\"506.3398\"/><text fill=\"#000000\" font-family=\"sans-serif\" font-size=\"11\" lengthAdjust=\"spacingAndGlyphs\" textLength=\"30\" x=\"95\" y=\"509.6479\">ports</text><line style=\"stroke: #383838; stroke-width: 1.0;\" x1=\"125\" x2=\"142\" y1=\"506.3398\" y2=\"506.3398\"/></a><!--MD5=[b9389687b975829384b498ac4b7476b2]\n",
       "class E8--><a href=\"psysml:adeac7a4-0c31-420e-b3fd-609062fb2f41\" target=\"_top\" title=\"psysml:adeac7a4-0c31-420e-b3fd-609062fb2f41\" xlink:actuate=\"onRequest\" xlink:href=\"psysml:adeac7a4-0c31-420e-b3fd-609062fb2f41\" xlink:show=\"new\" xlink:title=\"psysml:adeac7a4-0c31-420e-b3fd-609062fb2f41\" xlink:type=\"simple\"><rect fill=\"#FFFFFF\" height=\"45.9375\" id=\"E8\" rx=\"10\" ry=\"10\" style=\"stroke: #383838; stroke-width: 1.5;\" width=\"42\" x=\"151\" y=\"594.5\"/><text fill=\"#000000\" font-family=\"sans-serif\" font-size=\"12\" font-style=\"italic\" lengthAdjust=\"spacingAndGlyphs\" textLength=\"40\" x=\"152\" y=\"610.6387\">«part»</text><text fill=\"#000000\" font-family=\"sans-serif\" font-size=\"12\" lengthAdjust=\"spacingAndGlyphs\" textLength=\"24\" x=\"160\" y=\"624.6074\">a: A</text><line style=\"stroke: #383838; stroke-width: 1.5;\" x1=\"152\" x2=\"192\" y1=\"632.4375\" y2=\"632.4375\"/></a><!--MD5=[96f4274e9e20536e775497830990834d]\n",
       "class E10--><a href=\"psysml:19a0d075-dfec-4a25-8f91-7b5bd5520f32\" target=\"_top\" title=\"psysml:19a0d075-dfec-4a25-8f91-7b5bd5520f32\" xlink:actuate=\"onRequest\" xlink:href=\"psysml:19a0d075-dfec-4a25-8f91-7b5bd5520f32\" xlink:show=\"new\" xlink:title=\"psysml:19a0d075-dfec-4a25-8f91-7b5bd5520f32\" xlink:type=\"simple\"><rect fill=\"#FFFFFF\" height=\"75.5469\" id=\"E10\" style=\"stroke: #383838; stroke-width: 1.5;\" width=\"84\" x=\"32\" y=\"41\"/><text fill=\"#000000\" font-family=\"sans-serif\" font-size=\"12\" font-style=\"italic\" lengthAdjust=\"spacingAndGlyphs\" textLength=\"64\" x=\"42\" y=\"57.1387\">«port def»</text><text fill=\"#000000\" font-family=\"sans-serif\" font-size=\"12\" lengthAdjust=\"spacingAndGlyphs\" textLength=\"8\" x=\"70\" y=\"71.1074\">C</text><line style=\"stroke: #383838; stroke-width: 1.5;\" x1=\"33\" x2=\"115\" y1=\"78.9375\" y2=\"78.9375\"/><text fill=\"#000000\" font-family=\"sans-serif\" font-size=\"11\" lengthAdjust=\"spacingAndGlyphs\" textLength=\"37\" x=\"38\" y=\"109.9526\">y: A, B</text><text fill=\"#000000\" font-family=\"sans-serif\" font-size=\"11\" font-weight=\"bold\" lengthAdjust=\"spacingAndGlyphs\" textLength=\"15\" x=\"79\" y=\"109.9526\">as</text><text fill=\"#000000\" font-family=\"sans-serif\" font-size=\"11\" lengthAdjust=\"spacingAndGlyphs\" textLength=\"12\" x=\"98\" y=\"109.9526\">z2</text><line style=\"stroke: #383838; stroke-width: 1.0;\" x1=\"33\" x2=\"43\" y1=\"93.3398\" y2=\"93.3398\"/><text fill=\"#000000\" font-family=\"sans-serif\" font-size=\"11\" lengthAdjust=\"spacingAndGlyphs\" textLength=\"62\" x=\"43\" y=\"96.6479\">references</text><line style=\"stroke: #383838; stroke-width: 1.0;\" x1=\"105\" x2=\"115\" y1=\"93.3398\" y2=\"93.3398\"/></a><a href=\"psysml:fcdcf065-90d4-4da1-8b43-4feb0ab4c03b\" target=\"_top\" title=\"psysml:fcdcf065-90d4-4da1-8b43-4feb0ab4c03b\" xlink:actuate=\"onRequest\" xlink:href=\"psysml:fcdcf065-90d4-4da1-8b43-4feb0ab4c03b\" xlink:show=\"new\" xlink:title=\"psysml:fcdcf065-90d4-4da1-8b43-4feb0ab4c03b\" xlink:type=\"simple\"><polygon fill=\"#FFFFFF\" points=\"86,591,102,591,109,613.2969,116,613.2969,116,643.5938,86,643.5938,86,591\" style=\"stroke: #000000; stroke-width: 1.5;\"/><line style=\"stroke: #000000; stroke-width: 1.5;\" x1=\"86\" x2=\"109\" y1=\"613.2969\" y2=\"613.2969\"/><text fill=\"#000000\" font-family=\"sans-serif\" font-size=\"14\" font-weight=\"bold\" lengthAdjust=\"spacingAndGlyphs\" textLength=\"10\" x=\"90\" y=\"605.9951\">P</text></a><!--MD5=[2720a5a1f2c3fca2055b230370638851]\n",
       "link E2 to E3--><a href=\"psysml:1f32f64a-cd2f-48b1-a0ff-85d8f5396f29\" target=\"_top\" title=\"psysml:1f32f64a-cd2f-48b1-a0ff-85d8f5396f29\" xlink:actuate=\"onRequest\" xlink:href=\"psysml:1f32f64a-cd2f-48b1-a0ff-85d8f5396f29\" xlink:show=\"new\" xlink:title=\"psysml:1f32f64a-cd2f-48b1-a0ff-85d8f5396f29\" xlink:type=\"simple\"><path d=\"M168.9,102.28 C166.28,121.12 162.41,148.97 158.94,173.94 \" fill=\"none\" id=\"E2-&gt;E3\" style=\"stroke: #383838; stroke-width: 1.0;\"/><polygon fill=\"#FFFFFF\" points=\"156.15,193.98,151.8354,174.1966,165.7018,176.1261,156.15,193.98\" style=\"stroke: #383838; stroke-width: 1.0;\"/><ellipse cx=\"154.6019\" cy=\"168.8266\" fill=\"#383838\" rx=\"2\" ry=\"2\" style=\"stroke: #383838; stroke-width: 1.0;\"/><ellipse cx=\"164.5065\" cy=\"170.2048\" fill=\"#383838\" rx=\"2\" ry=\"2\" style=\"stroke: #383838; stroke-width: 1.0;\"/></a><!--MD5=[4672eba38e49728da53d11aeb285b987]\n",
       "reverse link E3 to E4--><a href=\"psysml:1e20eef8-b16d-4a20-93fc-2b015416e79a\" target=\"_top\" title=\"psysml:1e20eef8-b16d-4a20-93fc-2b015416e79a\" xlink:actuate=\"onRequest\" xlink:href=\"psysml:1e20eef8-b16d-4a20-93fc-2b015416e79a\" xlink:show=\"new\" xlink:title=\"psysml:1e20eef8-b16d-4a20-93fc-2b015416e79a\" xlink:type=\"simple\"><path d=\"M142.17,283.02 C138.31,304.93 133.97,329.52 130.92,346.77 \" fill=\"none\" id=\"E3&lt;-E4\" style=\"stroke: #383838; stroke-width: 1.0;\"/><polygon fill=\"#383838\" points=\"144.44,270.16,139.4532,275.3688,142.3433,281.9754,147.3301,276.7666,144.44,270.16\" style=\"stroke: #383838; stroke-width: 1.0;\"/></a><!--MD5=[79568f1e445c3877b6a54524624ccc7d]\n",
       "link E4 to E6--><a href=\"psysml:97a379fd-51a7-461f-afe4-84a5f5da2292\" target=\"_top\" title=\"psysml:97a379fd-51a7-461f-afe4-84a5f5da2292\" xlink:actuate=\"onRequest\" xlink:href=\"psysml:97a379fd-51a7-461f-afe4-84a5f5da2292\" xlink:show=\"new\" xlink:title=\"psysml:97a379fd-51a7-461f-afe4-84a5f5da2292\" xlink:type=\"simple\"><path d=\"M123.88,393.01 C122.25,404.51 120.18,419.17 118.13,433.62 \" fill=\"none\" id=\"E4-&gt;E6\" style=\"stroke: #383838; stroke-width: 1.0;\"/><polygon fill=\"#FFFFFF\" points=\"115.3,453.57,111.0294,433.777,124.8914,435.7373,115.3,453.57\" style=\"stroke: #383838; stroke-width: 1.0;\"/><ellipse cx=\"113.8078\" cy=\"428.4132\" fill=\"#383838\" rx=\"2\" ry=\"2\" style=\"stroke: #383838; stroke-width: 1.0;\"/><ellipse cx=\"123.7093\" cy=\"429.8134\" fill=\"#383838\" rx=\"2\" ry=\"2\" style=\"stroke: #383838; stroke-width: 1.0;\"/></a><!--MD5=[3f50a3473f1dfb74d3f76443e03635af]\n",
       "reverse link E6 to E7--><a href=\"psysml:fcdcf065-90d4-4da1-8b43-4feb0ab4c03b\" target=\"_top\" title=\"psysml:fcdcf065-90d4-4da1-8b43-4feb0ab4c03b\" xlink:actuate=\"onRequest\" xlink:href=\"psysml:fcdcf065-90d4-4da1-8b43-4feb0ab4c03b\" xlink:show=\"new\" xlink:title=\"psysml:fcdcf065-90d4-4da1-8b43-4feb0ab4c03b\" xlink:type=\"simple\"><path d=\"M106.18,545.35 C105.04,561.08 103.83,577.65 102.87,590.83 \" fill=\"none\" id=\"E6&lt;-E7\" style=\"stroke: #383838; stroke-width: 1.0;\"/><ellipse cx=\"106.7138\" cy=\"538.0285\" fill=\"#FFFFFF\" rx=\"8\" ry=\"8\" style=\"stroke: #383838; stroke-width: 1.0;\"/><line style=\"stroke: #383838; stroke-width: 1.0;\" x1=\"106.1276\" x2=\"107.3\" y1=\"546.007\" y2=\"530.05\"/><line style=\"stroke: #383838; stroke-width: 1.0;\" x1=\"98.7353\" x2=\"114.6923\" y1=\"537.4423\" y2=\"538.6147\"/></a><!--MD5=[95fa686b5a16158bcdbcaeead89f639b]\n",
       "link E8 to E3--><a href=\"psysml:c8b02122-2142-456b-8199-9bf99e52168e\" target=\"_top\" title=\"psysml:c8b02122-2142-456b-8199-9bf99e52168e\" xlink:actuate=\"onRequest\" xlink:href=\"psysml:c8b02122-2142-456b-8199-9bf99e52168e\" xlink:show=\"new\" xlink:title=\"psysml:c8b02122-2142-456b-8199-9bf99e52168e\" xlink:type=\"simple\"><path d=\"M172.32,594.45 C172.8,548.41 173.03,438.69 166,347 C164.57,328.37 162.18,308.13 159.73,289.94 \" fill=\"none\" id=\"E8-&gt;E3\" style=\"stroke: #383838; stroke-width: 1.0;\"/><polygon fill=\"#FFFFFF\" points=\"156.92,270.12,166.5114,287.9527,152.6494,289.913,156.92,270.12\" style=\"stroke: #383838; stroke-width: 1.0;\"/><ellipse cx=\"165.3293\" cy=\"293.8766\" fill=\"#383838\" rx=\"2\" ry=\"2\" style=\"stroke: #383838; stroke-width: 1.0;\"/><ellipse cx=\"155.4278\" cy=\"295.2768\" fill=\"#383838\" rx=\"2\" ry=\"2\" style=\"stroke: #383838; stroke-width: 1.0;\"/></a><!--MD5=[f4cf0736d43fd73c4ef68817c49d37d5]\n",
       "reverse link E6 to E8--><a href=\"psysml:adeac7a4-0c31-420e-b3fd-609062fb2f41\" target=\"_top\" title=\"psysml:adeac7a4-0c31-420e-b3fd-609062fb2f41\" xlink:actuate=\"onRequest\" xlink:href=\"psysml:adeac7a4-0c31-420e-b3fd-609062fb2f41\" xlink:show=\"new\" xlink:title=\"psysml:adeac7a4-0c31-420e-b3fd-609062fb2f41\" xlink:type=\"simple\"><path d=\"M134.44,541.68 C143.55,559.83 153.45,579.55 160.8,594.19 \" fill=\"none\" id=\"E6&lt;-E8\" style=\"stroke: #383838; stroke-width: 1.0;\"/><polygon fill=\"#383838\" points=\"128.6,530.05,127.7161,537.2067,133.9824,540.7752,134.8663,533.6185,128.6,530.05\" style=\"stroke: #383838; stroke-width: 1.0;\"/></a><!--MD5=[8e04057e7b3cbc0dca4fc78ea351e2da]\n",
       "reverse link E10 to E3--><a href=\"psysml:4b320237-d900-4f83-8ac2-28b55b9df163\" target=\"_top\" title=\"psysml:4b320237-d900-4f83-8ac2-28b55b9df163\" xlink:actuate=\"onRequest\" xlink:href=\"psysml:4b320237-d900-4f83-8ac2-28b55b9df163\" xlink:show=\"new\" xlink:title=\"psysml:4b320237-d900-4f83-8ac2-28b55b9df163\" xlink:type=\"simple\"><path d=\"M98.98,128.98 C109.72,150.06 122.08,174.29 132.05,193.84 \" fill=\"none\" id=\"E10&lt;-E3\" style=\"stroke: #383838; stroke-width: 1.0;\"/><polygon fill=\"#FFFFFF\" points=\"93.03,117.33,92.1919,124.4922,98.4809,128.0206,99.319,120.8583,93.03,117.33\" style=\"stroke: #383838; stroke-width: 1.0;\"/><text fill=\"#000000\" font-family=\"sans-serif\" font-size=\"13\" lengthAdjust=\"spacingAndGlyphs\" textLength=\"7\" x=\"115\" y=\"160.0669\">y</text></a><!--MD5=[604cbf994c02b74b117f728a71673cea]\n",
       "reverse link E10 to E6--><a href=\"psysml:4b320237-d900-4f83-8ac2-28b55b9df163\" target=\"_top\" title=\"psysml:4b320237-d900-4f83-8ac2-28b55b9df163\" xlink:actuate=\"onRequest\" xlink:href=\"psysml:4b320237-d900-4f83-8ac2-28b55b9df163\" xlink:show=\"new\" xlink:title=\"psysml:4b320237-d900-4f83-8ac2-28b55b9df163\" xlink:type=\"simple\"><path d=\"M73.89,130.53 C74.34,192.6 77.02,300.97 89,393 C91.63,413.19 96.24,435.39 100.47,453.55 \" fill=\"none\" id=\"E10&lt;-E6\" style=\"stroke: #383838; stroke-width: 1.0;\"/><polygon fill=\"#FFFFFF\" points=\"73.83,117.27,69.863,123.2919,73.8959,129.2698,77.8629,123.2479,73.83,117.27\" style=\"stroke: #383838; stroke-width: 1.0;\"/><text fill=\"#000000\" font-family=\"sans-serif\" font-size=\"13\" lengthAdjust=\"spacingAndGlyphs\" textLength=\"7\" x=\"82\" y=\"313.0669\">y</text></a><!--MD5=[ff678dbac68c469c4df168fd16b2d84c]\n",
       "@startuml\r\n",
       "top to bottom direction\r\n",
       "skinparam monochrome true\r\n",
       "skinparam classbackgroundcolor white\r\n",
       "skinparam shadowing false\r\n",
       "skinparam wrapWidth 300\r\n",
       "hide circle\r\n",
       "\r\n",
       "package \"BlockTest\" as E1  [[psysml:c0b99535-16c1-47cf-a8d5-3f20b133a54a ]]  {\r\n",
       "comp usage \"f: A\" as E2  <<(T,blue)part>> [[psysml:20852434-d7cc-411e-aa3b-cae286a1f6f8 ]] {\r\n",
       "}\r\n",
       "comp def \"A\" as E3  <<(T,blue)part def>> [[psysml:cbed5230-ac88-4b7e-9b23-6ffd90d7c059 ]] {\r\n",
       "- - ports - -\r\n",
       "c: C\r\n",
       "}\r\n",
       "comp usage \"b: B\" as E4  <<(T,blue)part>> [[psysml:1e20eef8-b16d-4a20-93fc-2b015416e79a ]] {\r\n",
       "}\r\n",
       "comp def \"B\" as E6  <<(T,blue)part def>> [[psysml:633af2d2-4d32-4996-ac04-a91fff2e720f ]] {\r\n",
       "- - ports - -\r\n",
       "x: ~C\r\n",
       "}\r\n",
       "package \"P\" as E7  [[psysml:fcdcf065-90d4-4da1-8b43-4feb0ab4c03b ]]  {\r\n",
       "}\r\n",
       "comp usage \"a: A\" as E8  <<(T,blue)part>> [[psysml:adeac7a4-0c31-420e-b3fd-609062fb2f41 ]] {\r\n",
       "}\r\n",
       "comp def \"C\" as E10  <<(T,blue)port def>> [[psysml:19a0d075-dfec-4a25-8f91-7b5bd5520f32 ]] {\r\n",
       "- - references - -\r\n",
       "y: A, B <b>as</b> z2 \r\n",
       "}\r\n",
       "E2 - -:|> E3 [[psysml:1f32f64a-cd2f-48b1-a0ff-85d8f5396f29 ]] \r\n",
       "E3 *- - E4 [[psysml:1e20eef8-b16d-4a20-93fc-2b015416e79a ]] \r\n",
       "E4 - -:|> E6 [[psysml:97a379fd-51a7-461f-afe4-84a5f5da2292 ]] \r\n",
       "E6 +- - E7 [[psysml:fcdcf065-90d4-4da1-8b43-4feb0ab4c03b ]] \r\n",
       "E8 - -:|> E3 [[psysml:c8b02122-2142-456b-8199-9bf99e52168e ]] \r\n",
       "E6 *- - E8 [[psysml:adeac7a4-0c31-420e-b3fd-609062fb2f41 ]] \r\n",
       "E10 o- - E3 [[psysml:4b320237-d900-4f83-8ac2-28b55b9df163 ]] : y\r\n",
       "E10 o- - E6 [[psysml:4b320237-d900-4f83-8ac2-28b55b9df163 ]] : y\r\n",
       "}\r\n",
       "@enduml\r\n",
       "\n",
       "PlantUML version 1.2020.13(Sat Jun 13 12:26:38 UTC 2020)\n",
       "(EPL source distribution)\n",
       "Java Runtime: OpenJDK Runtime Environment\n",
       "JVM: OpenJDK 64-Bit Server VM\n",
       "Default Encoding: UTF-8\n",
       "Language: en\n",
       "Country: null\n",
       "--></g></svg>"
      ]
     },
     "execution_count": 49,
     "metadata": {},
     "output_type": "execute_result"
    }
   ],
   "source": [
    "%viz --style=\"TB\" --view=\"Sequence\" \"BlockTest\""
   ]
  },
  {
   "cell_type": "code",
   "execution_count": 50,
   "id": "cleared-pharmacy",
   "metadata": {
    "execution": {
     "iopub.execute_input": "2021-03-25T15:00:05.141076Z",
     "iopub.status.busy": "2021-03-25T15:00:05.140365Z",
     "iopub.status.idle": "2021-03-25T15:00:05.611401Z",
     "shell.execute_reply": "2021-03-25T15:00:05.609372Z"
    }
   },
   "outputs": [
    {
     "data": {
      "image/svg+xml": [
       "<?xml version=\"1.0\" encoding=\"UTF-8\" standalone=\"no\"?><svg xmlns=\"http://www.w3.org/2000/svg\" xmlns:xlink=\"http://www.w3.org/1999/xlink\" contentScriptType=\"application/ecmascript\" contentStyleType=\"text/css\" height=\"672px\" preserveAspectRatio=\"none\" style=\"width:231px;height:672px;\" version=\"1.1\" viewBox=\"0 0 231 672\" width=\"231px\" zoomAndPan=\"magnify\"><defs/><g><!--MD5=[fbc87193dbaf4d95561dea2c320d4a47]\n",
       "cluster E1--><a href=\"psysml:c0b99535-16c1-47cf-a8d5-3f20b133a54a\" target=\"_top\" title=\"psysml:c0b99535-16c1-47cf-a8d5-3f20b133a54a\" xlink:actuate=\"onRequest\" xlink:href=\"psysml:c0b99535-16c1-47cf-a8d5-3f20b133a54a\" xlink:show=\"new\" xlink:title=\"psysml:c0b99535-16c1-47cf-a8d5-3f20b133a54a\" xlink:type=\"simple\"><polygon fill=\"#FFFFFF\" points=\"16,6,99,6,106,28.2969,209,28.2969,209,660,16,660,16,6\" style=\"stroke: #000000; stroke-width: 1.5;\"/><line style=\"stroke: #000000; stroke-width: 1.5;\" x1=\"16\" x2=\"106\" y1=\"28.2969\" y2=\"28.2969\"/><text fill=\"#000000\" font-family=\"sans-serif\" font-size=\"14\" font-weight=\"bold\" lengthAdjust=\"spacingAndGlyphs\" textLength=\"77\" x=\"20\" y=\"20.9951\">BlockTest</text></a><!--MD5=[b4997ac47864f28c2f74865a473b2911]\n",
       "class E2--><a href=\"psysml:20852434-d7cc-411e-aa3b-cae286a1f6f8\" target=\"_top\" title=\"psysml:20852434-d7cc-411e-aa3b-cae286a1f6f8\" xlink:actuate=\"onRequest\" xlink:href=\"psysml:20852434-d7cc-411e-aa3b-cae286a1f6f8\" xlink:show=\"new\" xlink:title=\"psysml:20852434-d7cc-411e-aa3b-cae286a1f6f8\" xlink:type=\"simple\"><rect fill=\"#FFFFFF\" height=\"45.9375\" id=\"E2\" rx=\"10\" ry=\"10\" style=\"stroke: #383838; stroke-width: 1.5;\" width=\"42\" x=\"151\" y=\"56\"/><text fill=\"#000000\" font-family=\"sans-serif\" font-size=\"12\" font-style=\"italic\" lengthAdjust=\"spacingAndGlyphs\" textLength=\"40\" x=\"152\" y=\"72.1387\">«part»</text><text fill=\"#000000\" font-family=\"sans-serif\" font-size=\"12\" lengthAdjust=\"spacingAndGlyphs\" textLength=\"20\" x=\"162\" y=\"86.1074\">f: A</text><line style=\"stroke: #383838; stroke-width: 1.5;\" x1=\"152\" x2=\"192\" y1=\"93.9375\" y2=\"93.9375\"/></a><!--MD5=[09b614a08d8cba4a07c9adeb5e0fee81]\n",
       "class E3--><a href=\"psysml:cbed5230-ac88-4b7e-9b23-6ffd90d7c059\" target=\"_top\" title=\"psysml:cbed5230-ac88-4b7e-9b23-6ffd90d7c059\" xlink:actuate=\"onRequest\" xlink:href=\"psysml:cbed5230-ac88-4b7e-9b23-6ffd90d7c059\" xlink:show=\"new\" xlink:title=\"psysml:cbed5230-ac88-4b7e-9b23-6ffd90d7c059\" xlink:type=\"simple\"><rect fill=\"#FFFFFF\" height=\"75.5469\" id=\"E3\" style=\"stroke: #383838; stroke-width: 1.5;\" width=\"66\" x=\"118\" y=\"194\"/><text fill=\"#000000\" font-family=\"sans-serif\" font-size=\"12\" font-style=\"italic\" lengthAdjust=\"spacingAndGlyphs\" textLength=\"64\" x=\"119\" y=\"210.1387\">«part def»</text><text fill=\"#000000\" font-family=\"sans-serif\" font-size=\"12\" lengthAdjust=\"spacingAndGlyphs\" textLength=\"8\" x=\"147\" y=\"224.1074\">A</text><line style=\"stroke: #383838; stroke-width: 1.5;\" x1=\"119\" x2=\"183\" y1=\"231.9375\" y2=\"231.9375\"/><text fill=\"#000000\" font-family=\"sans-serif\" font-size=\"11\" lengthAdjust=\"spacingAndGlyphs\" textLength=\"22\" x=\"124\" y=\"262.9526\">c: C</text><line style=\"stroke: #383838; stroke-width: 1.0;\" x1=\"119\" x2=\"136\" y1=\"246.3398\" y2=\"246.3398\"/><text fill=\"#000000\" font-family=\"sans-serif\" font-size=\"11\" lengthAdjust=\"spacingAndGlyphs\" textLength=\"30\" x=\"136\" y=\"249.6479\">ports</text><line style=\"stroke: #383838; stroke-width: 1.0;\" x1=\"166\" x2=\"183\" y1=\"246.3398\" y2=\"246.3398\"/></a><!--MD5=[ebbe1d658d1005bcc118a6aa81145e00]\n",
       "class E4--><a href=\"psysml:1e20eef8-b16d-4a20-93fc-2b015416e79a\" target=\"_top\" title=\"psysml:1e20eef8-b16d-4a20-93fc-2b015416e79a\" xlink:actuate=\"onRequest\" xlink:href=\"psysml:1e20eef8-b16d-4a20-93fc-2b015416e79a\" xlink:show=\"new\" xlink:title=\"psysml:1e20eef8-b16d-4a20-93fc-2b015416e79a\" xlink:type=\"simple\"><rect fill=\"#FFFFFF\" height=\"45.9375\" id=\"E4\" rx=\"10\" ry=\"10\" style=\"stroke: #383838; stroke-width: 1.5;\" width=\"42\" x=\"106\" y=\"347\"/><text fill=\"#000000\" font-family=\"sans-serif\" font-size=\"12\" font-style=\"italic\" lengthAdjust=\"spacingAndGlyphs\" textLength=\"40\" x=\"107\" y=\"363.1387\">«part»</text><text fill=\"#000000\" font-family=\"sans-serif\" font-size=\"12\" lengthAdjust=\"spacingAndGlyphs\" textLength=\"24\" x=\"115\" y=\"377.1074\">b: B</text><line style=\"stroke: #383838; stroke-width: 1.5;\" x1=\"107\" x2=\"147\" y1=\"384.9375\" y2=\"384.9375\"/></a><!--MD5=[60a26617385b1d2d0262a64233df1f8d]\n",
       "class E6--><a href=\"psysml:633af2d2-4d32-4996-ac04-a91fff2e720f\" target=\"_top\" title=\"psysml:633af2d2-4d32-4996-ac04-a91fff2e720f\" xlink:actuate=\"onRequest\" xlink:href=\"psysml:633af2d2-4d32-4996-ac04-a91fff2e720f\" xlink:show=\"new\" xlink:title=\"psysml:633af2d2-4d32-4996-ac04-a91fff2e720f\" xlink:type=\"simple\"><rect fill=\"#FFFFFF\" height=\"75.5469\" id=\"E6\" style=\"stroke: #383838; stroke-width: 1.5;\" width=\"66\" x=\"77\" y=\"454\"/><text fill=\"#000000\" font-family=\"sans-serif\" font-size=\"12\" font-style=\"italic\" lengthAdjust=\"spacingAndGlyphs\" textLength=\"64\" x=\"78\" y=\"470.1387\">«part def»</text><text fill=\"#000000\" font-family=\"sans-serif\" font-size=\"12\" lengthAdjust=\"spacingAndGlyphs\" textLength=\"8\" x=\"106\" y=\"484.1074\">B</text><line style=\"stroke: #383838; stroke-width: 1.5;\" x1=\"78\" x2=\"142\" y1=\"491.9375\" y2=\"491.9375\"/><text fill=\"#000000\" font-family=\"sans-serif\" font-size=\"11\" lengthAdjust=\"spacingAndGlyphs\" textLength=\"31\" x=\"83\" y=\"522.9526\">x: ~C</text><line style=\"stroke: #383838; stroke-width: 1.0;\" x1=\"78\" x2=\"95\" y1=\"506.3398\" y2=\"506.3398\"/><text fill=\"#000000\" font-family=\"sans-serif\" font-size=\"11\" lengthAdjust=\"spacingAndGlyphs\" textLength=\"30\" x=\"95\" y=\"509.6479\">ports</text><line style=\"stroke: #383838; stroke-width: 1.0;\" x1=\"125\" x2=\"142\" y1=\"506.3398\" y2=\"506.3398\"/></a><!--MD5=[b9389687b975829384b498ac4b7476b2]\n",
       "class E8--><a href=\"psysml:adeac7a4-0c31-420e-b3fd-609062fb2f41\" target=\"_top\" title=\"psysml:adeac7a4-0c31-420e-b3fd-609062fb2f41\" xlink:actuate=\"onRequest\" xlink:href=\"psysml:adeac7a4-0c31-420e-b3fd-609062fb2f41\" xlink:show=\"new\" xlink:title=\"psysml:adeac7a4-0c31-420e-b3fd-609062fb2f41\" xlink:type=\"simple\"><rect fill=\"#FFFFFF\" height=\"45.9375\" id=\"E8\" rx=\"10\" ry=\"10\" style=\"stroke: #383838; stroke-width: 1.5;\" width=\"42\" x=\"151\" y=\"594.5\"/><text fill=\"#000000\" font-family=\"sans-serif\" font-size=\"12\" font-style=\"italic\" lengthAdjust=\"spacingAndGlyphs\" textLength=\"40\" x=\"152\" y=\"610.6387\">«part»</text><text fill=\"#000000\" font-family=\"sans-serif\" font-size=\"12\" lengthAdjust=\"spacingAndGlyphs\" textLength=\"24\" x=\"160\" y=\"624.6074\">a: A</text><line style=\"stroke: #383838; stroke-width: 1.5;\" x1=\"152\" x2=\"192\" y1=\"632.4375\" y2=\"632.4375\"/></a><!--MD5=[96f4274e9e20536e775497830990834d]\n",
       "class E10--><a href=\"psysml:19a0d075-dfec-4a25-8f91-7b5bd5520f32\" target=\"_top\" title=\"psysml:19a0d075-dfec-4a25-8f91-7b5bd5520f32\" xlink:actuate=\"onRequest\" xlink:href=\"psysml:19a0d075-dfec-4a25-8f91-7b5bd5520f32\" xlink:show=\"new\" xlink:title=\"psysml:19a0d075-dfec-4a25-8f91-7b5bd5520f32\" xlink:type=\"simple\"><rect fill=\"#FFFFFF\" height=\"75.5469\" id=\"E10\" style=\"stroke: #383838; stroke-width: 1.5;\" width=\"84\" x=\"32\" y=\"41\"/><text fill=\"#000000\" font-family=\"sans-serif\" font-size=\"12\" font-style=\"italic\" lengthAdjust=\"spacingAndGlyphs\" textLength=\"64\" x=\"42\" y=\"57.1387\">«port def»</text><text fill=\"#000000\" font-family=\"sans-serif\" font-size=\"12\" lengthAdjust=\"spacingAndGlyphs\" textLength=\"8\" x=\"70\" y=\"71.1074\">C</text><line style=\"stroke: #383838; stroke-width: 1.5;\" x1=\"33\" x2=\"115\" y1=\"78.9375\" y2=\"78.9375\"/><text fill=\"#000000\" font-family=\"sans-serif\" font-size=\"11\" lengthAdjust=\"spacingAndGlyphs\" textLength=\"37\" x=\"38\" y=\"109.9526\">y: A, B</text><text fill=\"#000000\" font-family=\"sans-serif\" font-size=\"11\" font-weight=\"bold\" lengthAdjust=\"spacingAndGlyphs\" textLength=\"15\" x=\"79\" y=\"109.9526\">as</text><text fill=\"#000000\" font-family=\"sans-serif\" font-size=\"11\" lengthAdjust=\"spacingAndGlyphs\" textLength=\"12\" x=\"98\" y=\"109.9526\">z2</text><line style=\"stroke: #383838; stroke-width: 1.0;\" x1=\"33\" x2=\"43\" y1=\"93.3398\" y2=\"93.3398\"/><text fill=\"#000000\" font-family=\"sans-serif\" font-size=\"11\" lengthAdjust=\"spacingAndGlyphs\" textLength=\"62\" x=\"43\" y=\"96.6479\">references</text><line style=\"stroke: #383838; stroke-width: 1.0;\" x1=\"105\" x2=\"115\" y1=\"93.3398\" y2=\"93.3398\"/></a><a href=\"psysml:fcdcf065-90d4-4da1-8b43-4feb0ab4c03b\" target=\"_top\" title=\"psysml:fcdcf065-90d4-4da1-8b43-4feb0ab4c03b\" xlink:actuate=\"onRequest\" xlink:href=\"psysml:fcdcf065-90d4-4da1-8b43-4feb0ab4c03b\" xlink:show=\"new\" xlink:title=\"psysml:fcdcf065-90d4-4da1-8b43-4feb0ab4c03b\" xlink:type=\"simple\"><polygon fill=\"#FFFFFF\" points=\"86,591,102,591,109,613.2969,116,613.2969,116,643.5938,86,643.5938,86,591\" style=\"stroke: #000000; stroke-width: 1.5;\"/><line style=\"stroke: #000000; stroke-width: 1.5;\" x1=\"86\" x2=\"109\" y1=\"613.2969\" y2=\"613.2969\"/><text fill=\"#000000\" font-family=\"sans-serif\" font-size=\"14\" font-weight=\"bold\" lengthAdjust=\"spacingAndGlyphs\" textLength=\"10\" x=\"90\" y=\"605.9951\">P</text></a><!--MD5=[2720a5a1f2c3fca2055b230370638851]\n",
       "link E2 to E3--><a href=\"psysml:1f32f64a-cd2f-48b1-a0ff-85d8f5396f29\" target=\"_top\" title=\"psysml:1f32f64a-cd2f-48b1-a0ff-85d8f5396f29\" xlink:actuate=\"onRequest\" xlink:href=\"psysml:1f32f64a-cd2f-48b1-a0ff-85d8f5396f29\" xlink:show=\"new\" xlink:title=\"psysml:1f32f64a-cd2f-48b1-a0ff-85d8f5396f29\" xlink:type=\"simple\"><path d=\"M168.9,102.28 C166.28,121.12 162.41,148.97 158.94,173.94 \" fill=\"none\" id=\"E2-&gt;E3\" style=\"stroke: #383838; stroke-width: 1.0;\"/><polygon fill=\"#FFFFFF\" points=\"156.15,193.98,151.8354,174.1966,165.7018,176.1261,156.15,193.98\" style=\"stroke: #383838; stroke-width: 1.0;\"/><ellipse cx=\"154.6019\" cy=\"168.8266\" fill=\"#383838\" rx=\"2\" ry=\"2\" style=\"stroke: #383838; stroke-width: 1.0;\"/><ellipse cx=\"164.5065\" cy=\"170.2048\" fill=\"#383838\" rx=\"2\" ry=\"2\" style=\"stroke: #383838; stroke-width: 1.0;\"/></a><!--MD5=[4672eba38e49728da53d11aeb285b987]\n",
       "reverse link E3 to E4--><a href=\"psysml:1e20eef8-b16d-4a20-93fc-2b015416e79a\" target=\"_top\" title=\"psysml:1e20eef8-b16d-4a20-93fc-2b015416e79a\" xlink:actuate=\"onRequest\" xlink:href=\"psysml:1e20eef8-b16d-4a20-93fc-2b015416e79a\" xlink:show=\"new\" xlink:title=\"psysml:1e20eef8-b16d-4a20-93fc-2b015416e79a\" xlink:type=\"simple\"><path d=\"M142.17,283.02 C138.31,304.93 133.97,329.52 130.92,346.77 \" fill=\"none\" id=\"E3&lt;-E4\" style=\"stroke: #383838; stroke-width: 1.0;\"/><polygon fill=\"#383838\" points=\"144.44,270.16,139.4532,275.3688,142.3433,281.9754,147.3301,276.7666,144.44,270.16\" style=\"stroke: #383838; stroke-width: 1.0;\"/></a><!--MD5=[79568f1e445c3877b6a54524624ccc7d]\n",
       "link E4 to E6--><a href=\"psysml:97a379fd-51a7-461f-afe4-84a5f5da2292\" target=\"_top\" title=\"psysml:97a379fd-51a7-461f-afe4-84a5f5da2292\" xlink:actuate=\"onRequest\" xlink:href=\"psysml:97a379fd-51a7-461f-afe4-84a5f5da2292\" xlink:show=\"new\" xlink:title=\"psysml:97a379fd-51a7-461f-afe4-84a5f5da2292\" xlink:type=\"simple\"><path d=\"M123.88,393.01 C122.25,404.51 120.18,419.17 118.13,433.62 \" fill=\"none\" id=\"E4-&gt;E6\" style=\"stroke: #383838; stroke-width: 1.0;\"/><polygon fill=\"#FFFFFF\" points=\"115.3,453.57,111.0294,433.777,124.8914,435.7373,115.3,453.57\" style=\"stroke: #383838; stroke-width: 1.0;\"/><ellipse cx=\"113.8078\" cy=\"428.4132\" fill=\"#383838\" rx=\"2\" ry=\"2\" style=\"stroke: #383838; stroke-width: 1.0;\"/><ellipse cx=\"123.7093\" cy=\"429.8134\" fill=\"#383838\" rx=\"2\" ry=\"2\" style=\"stroke: #383838; stroke-width: 1.0;\"/></a><!--MD5=[3f50a3473f1dfb74d3f76443e03635af]\n",
       "reverse link E6 to E7--><a href=\"psysml:fcdcf065-90d4-4da1-8b43-4feb0ab4c03b\" target=\"_top\" title=\"psysml:fcdcf065-90d4-4da1-8b43-4feb0ab4c03b\" xlink:actuate=\"onRequest\" xlink:href=\"psysml:fcdcf065-90d4-4da1-8b43-4feb0ab4c03b\" xlink:show=\"new\" xlink:title=\"psysml:fcdcf065-90d4-4da1-8b43-4feb0ab4c03b\" xlink:type=\"simple\"><path d=\"M106.18,545.35 C105.04,561.08 103.83,577.65 102.87,590.83 \" fill=\"none\" id=\"E6&lt;-E7\" style=\"stroke: #383838; stroke-width: 1.0;\"/><ellipse cx=\"106.7138\" cy=\"538.0285\" fill=\"#FFFFFF\" rx=\"8\" ry=\"8\" style=\"stroke: #383838; stroke-width: 1.0;\"/><line style=\"stroke: #383838; stroke-width: 1.0;\" x1=\"106.1276\" x2=\"107.3\" y1=\"546.007\" y2=\"530.05\"/><line style=\"stroke: #383838; stroke-width: 1.0;\" x1=\"98.7353\" x2=\"114.6923\" y1=\"537.4423\" y2=\"538.6147\"/></a><!--MD5=[95fa686b5a16158bcdbcaeead89f639b]\n",
       "link E8 to E3--><a href=\"psysml:c8b02122-2142-456b-8199-9bf99e52168e\" target=\"_top\" title=\"psysml:c8b02122-2142-456b-8199-9bf99e52168e\" xlink:actuate=\"onRequest\" xlink:href=\"psysml:c8b02122-2142-456b-8199-9bf99e52168e\" xlink:show=\"new\" xlink:title=\"psysml:c8b02122-2142-456b-8199-9bf99e52168e\" xlink:type=\"simple\"><path d=\"M172.32,594.45 C172.8,548.41 173.03,438.69 166,347 C164.57,328.37 162.18,308.13 159.73,289.94 \" fill=\"none\" id=\"E8-&gt;E3\" style=\"stroke: #383838; stroke-width: 1.0;\"/><polygon fill=\"#FFFFFF\" points=\"156.92,270.12,166.5114,287.9527,152.6494,289.913,156.92,270.12\" style=\"stroke: #383838; stroke-width: 1.0;\"/><ellipse cx=\"165.3293\" cy=\"293.8766\" fill=\"#383838\" rx=\"2\" ry=\"2\" style=\"stroke: #383838; stroke-width: 1.0;\"/><ellipse cx=\"155.4278\" cy=\"295.2768\" fill=\"#383838\" rx=\"2\" ry=\"2\" style=\"stroke: #383838; stroke-width: 1.0;\"/></a><!--MD5=[f4cf0736d43fd73c4ef68817c49d37d5]\n",
       "reverse link E6 to E8--><a href=\"psysml:adeac7a4-0c31-420e-b3fd-609062fb2f41\" target=\"_top\" title=\"psysml:adeac7a4-0c31-420e-b3fd-609062fb2f41\" xlink:actuate=\"onRequest\" xlink:href=\"psysml:adeac7a4-0c31-420e-b3fd-609062fb2f41\" xlink:show=\"new\" xlink:title=\"psysml:adeac7a4-0c31-420e-b3fd-609062fb2f41\" xlink:type=\"simple\"><path d=\"M134.44,541.68 C143.55,559.83 153.45,579.55 160.8,594.19 \" fill=\"none\" id=\"E6&lt;-E8\" style=\"stroke: #383838; stroke-width: 1.0;\"/><polygon fill=\"#383838\" points=\"128.6,530.05,127.7161,537.2067,133.9824,540.7752,134.8663,533.6185,128.6,530.05\" style=\"stroke: #383838; stroke-width: 1.0;\"/></a><!--MD5=[8e04057e7b3cbc0dca4fc78ea351e2da]\n",
       "reverse link E10 to E3--><a href=\"psysml:4b320237-d900-4f83-8ac2-28b55b9df163\" target=\"_top\" title=\"psysml:4b320237-d900-4f83-8ac2-28b55b9df163\" xlink:actuate=\"onRequest\" xlink:href=\"psysml:4b320237-d900-4f83-8ac2-28b55b9df163\" xlink:show=\"new\" xlink:title=\"psysml:4b320237-d900-4f83-8ac2-28b55b9df163\" xlink:type=\"simple\"><path d=\"M98.98,128.98 C109.72,150.06 122.08,174.29 132.05,193.84 \" fill=\"none\" id=\"E10&lt;-E3\" style=\"stroke: #383838; stroke-width: 1.0;\"/><polygon fill=\"#FFFFFF\" points=\"93.03,117.33,92.1919,124.4922,98.4809,128.0206,99.319,120.8583,93.03,117.33\" style=\"stroke: #383838; stroke-width: 1.0;\"/><text fill=\"#000000\" font-family=\"sans-serif\" font-size=\"13\" lengthAdjust=\"spacingAndGlyphs\" textLength=\"7\" x=\"115\" y=\"160.0669\">y</text></a><!--MD5=[604cbf994c02b74b117f728a71673cea]\n",
       "reverse link E10 to E6--><a href=\"psysml:4b320237-d900-4f83-8ac2-28b55b9df163\" target=\"_top\" title=\"psysml:4b320237-d900-4f83-8ac2-28b55b9df163\" xlink:actuate=\"onRequest\" xlink:href=\"psysml:4b320237-d900-4f83-8ac2-28b55b9df163\" xlink:show=\"new\" xlink:title=\"psysml:4b320237-d900-4f83-8ac2-28b55b9df163\" xlink:type=\"simple\"><path d=\"M73.89,130.53 C74.34,192.6 77.02,300.97 89,393 C91.63,413.19 96.24,435.39 100.47,453.55 \" fill=\"none\" id=\"E10&lt;-E6\" style=\"stroke: #383838; stroke-width: 1.0;\"/><polygon fill=\"#FFFFFF\" points=\"73.83,117.27,69.863,123.2919,73.8959,129.2698,77.8629,123.2479,73.83,117.27\" style=\"stroke: #383838; stroke-width: 1.0;\"/><text fill=\"#000000\" font-family=\"sans-serif\" font-size=\"13\" lengthAdjust=\"spacingAndGlyphs\" textLength=\"7\" x=\"82\" y=\"313.0669\">y</text></a><!--MD5=[ff678dbac68c469c4df168fd16b2d84c]\n",
       "@startuml\r\n",
       "top to bottom direction\r\n",
       "skinparam monochrome true\r\n",
       "skinparam classbackgroundcolor white\r\n",
       "skinparam shadowing false\r\n",
       "skinparam wrapWidth 300\r\n",
       "hide circle\r\n",
       "\r\n",
       "package \"BlockTest\" as E1  [[psysml:c0b99535-16c1-47cf-a8d5-3f20b133a54a ]]  {\r\n",
       "comp usage \"f: A\" as E2  <<(T,blue)part>> [[psysml:20852434-d7cc-411e-aa3b-cae286a1f6f8 ]] {\r\n",
       "}\r\n",
       "comp def \"A\" as E3  <<(T,blue)part def>> [[psysml:cbed5230-ac88-4b7e-9b23-6ffd90d7c059 ]] {\r\n",
       "- - ports - -\r\n",
       "c: C\r\n",
       "}\r\n",
       "comp usage \"b: B\" as E4  <<(T,blue)part>> [[psysml:1e20eef8-b16d-4a20-93fc-2b015416e79a ]] {\r\n",
       "}\r\n",
       "comp def \"B\" as E6  <<(T,blue)part def>> [[psysml:633af2d2-4d32-4996-ac04-a91fff2e720f ]] {\r\n",
       "- - ports - -\r\n",
       "x: ~C\r\n",
       "}\r\n",
       "package \"P\" as E7  [[psysml:fcdcf065-90d4-4da1-8b43-4feb0ab4c03b ]]  {\r\n",
       "}\r\n",
       "comp usage \"a: A\" as E8  <<(T,blue)part>> [[psysml:adeac7a4-0c31-420e-b3fd-609062fb2f41 ]] {\r\n",
       "}\r\n",
       "comp def \"C\" as E10  <<(T,blue)port def>> [[psysml:19a0d075-dfec-4a25-8f91-7b5bd5520f32 ]] {\r\n",
       "- - references - -\r\n",
       "y: A, B <b>as</b> z2 \r\n",
       "}\r\n",
       "E2 - -:|> E3 [[psysml:1f32f64a-cd2f-48b1-a0ff-85d8f5396f29 ]] \r\n",
       "E3 *- - E4 [[psysml:1e20eef8-b16d-4a20-93fc-2b015416e79a ]] \r\n",
       "E4 - -:|> E6 [[psysml:97a379fd-51a7-461f-afe4-84a5f5da2292 ]] \r\n",
       "E6 +- - E7 [[psysml:fcdcf065-90d4-4da1-8b43-4feb0ab4c03b ]] \r\n",
       "E8 - -:|> E3 [[psysml:c8b02122-2142-456b-8199-9bf99e52168e ]] \r\n",
       "E6 *- - E8 [[psysml:adeac7a4-0c31-420e-b3fd-609062fb2f41 ]] \r\n",
       "E10 o- - E3 [[psysml:4b320237-d900-4f83-8ac2-28b55b9df163 ]] : y\r\n",
       "E10 o- - E6 [[psysml:4b320237-d900-4f83-8ac2-28b55b9df163 ]] : y\r\n",
       "}\r\n",
       "@enduml\r\n",
       "\n",
       "PlantUML version 1.2020.13(Sat Jun 13 12:26:38 UTC 2020)\n",
       "(EPL source distribution)\n",
       "Java Runtime: OpenJDK Runtime Environment\n",
       "JVM: OpenJDK 64-Bit Server VM\n",
       "Default Encoding: UTF-8\n",
       "Language: en\n",
       "Country: null\n",
       "--></g></svg>"
      ]
     },
     "execution_count": 50,
     "metadata": {},
     "output_type": "execute_result"
    }
   ],
   "source": [
    "%viz --style=\"TB\" --view=\"MIXED\" \"BlockTest\""
   ]
  },
  {
   "cell_type": "code",
   "execution_count": 51,
   "id": "limiting-cassette",
   "metadata": {
    "execution": {
     "iopub.execute_input": "2021-03-25T15:00:05.661919Z",
     "iopub.status.busy": "2021-03-25T15:00:05.661010Z",
     "iopub.status.idle": "2021-03-25T15:00:06.145063Z",
     "shell.execute_reply": "2021-03-25T15:00:06.142507Z"
    }
   },
   "outputs": [
    {
     "data": {
      "image/svg+xml": [
       "<?xml version=\"1.0\" encoding=\"UTF-8\" standalone=\"no\"?><svg xmlns=\"http://www.w3.org/2000/svg\" xmlns:xlink=\"http://www.w3.org/1999/xlink\" contentScriptType=\"application/ecmascript\" contentStyleType=\"text/css\" height=\"672px\" preserveAspectRatio=\"none\" style=\"width:231px;height:672px;\" version=\"1.1\" viewBox=\"0 0 231 672\" width=\"231px\" zoomAndPan=\"magnify\"><defs/><g><!--MD5=[fbc87193dbaf4d95561dea2c320d4a47]\n",
       "cluster E1--><a href=\"psysml:c0b99535-16c1-47cf-a8d5-3f20b133a54a\" target=\"_top\" title=\"psysml:c0b99535-16c1-47cf-a8d5-3f20b133a54a\" xlink:actuate=\"onRequest\" xlink:href=\"psysml:c0b99535-16c1-47cf-a8d5-3f20b133a54a\" xlink:show=\"new\" xlink:title=\"psysml:c0b99535-16c1-47cf-a8d5-3f20b133a54a\" xlink:type=\"simple\"><polygon fill=\"#FFFFFF\" points=\"16,6,99,6,106,28.2969,209,28.2969,209,660,16,660,16,6\" style=\"stroke: #000000; stroke-width: 1.5;\"/><line style=\"stroke: #000000; stroke-width: 1.5;\" x1=\"16\" x2=\"106\" y1=\"28.2969\" y2=\"28.2969\"/><text fill=\"#000000\" font-family=\"sans-serif\" font-size=\"14\" font-weight=\"bold\" lengthAdjust=\"spacingAndGlyphs\" textLength=\"77\" x=\"20\" y=\"20.9951\">BlockTest</text></a><!--MD5=[b4997ac47864f28c2f74865a473b2911]\n",
       "class E2--><a href=\"psysml:20852434-d7cc-411e-aa3b-cae286a1f6f8\" target=\"_top\" title=\"psysml:20852434-d7cc-411e-aa3b-cae286a1f6f8\" xlink:actuate=\"onRequest\" xlink:href=\"psysml:20852434-d7cc-411e-aa3b-cae286a1f6f8\" xlink:show=\"new\" xlink:title=\"psysml:20852434-d7cc-411e-aa3b-cae286a1f6f8\" xlink:type=\"simple\"><rect fill=\"#FFFFFF\" height=\"45.9375\" id=\"E2\" rx=\"10\" ry=\"10\" style=\"stroke: #383838; stroke-width: 1.5;\" width=\"42\" x=\"151\" y=\"56\"/><text fill=\"#000000\" font-family=\"sans-serif\" font-size=\"12\" font-style=\"italic\" lengthAdjust=\"spacingAndGlyphs\" textLength=\"40\" x=\"152\" y=\"72.1387\">«part»</text><text fill=\"#000000\" font-family=\"sans-serif\" font-size=\"12\" lengthAdjust=\"spacingAndGlyphs\" textLength=\"20\" x=\"162\" y=\"86.1074\">f: A</text><line style=\"stroke: #383838; stroke-width: 1.5;\" x1=\"152\" x2=\"192\" y1=\"93.9375\" y2=\"93.9375\"/></a><!--MD5=[09b614a08d8cba4a07c9adeb5e0fee81]\n",
       "class E3--><a href=\"psysml:cbed5230-ac88-4b7e-9b23-6ffd90d7c059\" target=\"_top\" title=\"psysml:cbed5230-ac88-4b7e-9b23-6ffd90d7c059\" xlink:actuate=\"onRequest\" xlink:href=\"psysml:cbed5230-ac88-4b7e-9b23-6ffd90d7c059\" xlink:show=\"new\" xlink:title=\"psysml:cbed5230-ac88-4b7e-9b23-6ffd90d7c059\" xlink:type=\"simple\"><rect fill=\"#FFFFFF\" height=\"75.5469\" id=\"E3\" style=\"stroke: #383838; stroke-width: 1.5;\" width=\"66\" x=\"118\" y=\"194\"/><text fill=\"#000000\" font-family=\"sans-serif\" font-size=\"12\" font-style=\"italic\" lengthAdjust=\"spacingAndGlyphs\" textLength=\"64\" x=\"119\" y=\"210.1387\">«part def»</text><text fill=\"#000000\" font-family=\"sans-serif\" font-size=\"12\" lengthAdjust=\"spacingAndGlyphs\" textLength=\"8\" x=\"147\" y=\"224.1074\">A</text><line style=\"stroke: #383838; stroke-width: 1.5;\" x1=\"119\" x2=\"183\" y1=\"231.9375\" y2=\"231.9375\"/><text fill=\"#000000\" font-family=\"sans-serif\" font-size=\"11\" lengthAdjust=\"spacingAndGlyphs\" textLength=\"22\" x=\"124\" y=\"262.9526\">c: C</text><line style=\"stroke: #383838; stroke-width: 1.0;\" x1=\"119\" x2=\"136\" y1=\"246.3398\" y2=\"246.3398\"/><text fill=\"#000000\" font-family=\"sans-serif\" font-size=\"11\" lengthAdjust=\"spacingAndGlyphs\" textLength=\"30\" x=\"136\" y=\"249.6479\">ports</text><line style=\"stroke: #383838; stroke-width: 1.0;\" x1=\"166\" x2=\"183\" y1=\"246.3398\" y2=\"246.3398\"/></a><!--MD5=[ebbe1d658d1005bcc118a6aa81145e00]\n",
       "class E4--><a href=\"psysml:1e20eef8-b16d-4a20-93fc-2b015416e79a\" target=\"_top\" title=\"psysml:1e20eef8-b16d-4a20-93fc-2b015416e79a\" xlink:actuate=\"onRequest\" xlink:href=\"psysml:1e20eef8-b16d-4a20-93fc-2b015416e79a\" xlink:show=\"new\" xlink:title=\"psysml:1e20eef8-b16d-4a20-93fc-2b015416e79a\" xlink:type=\"simple\"><rect fill=\"#FFFFFF\" height=\"45.9375\" id=\"E4\" rx=\"10\" ry=\"10\" style=\"stroke: #383838; stroke-width: 1.5;\" width=\"42\" x=\"106\" y=\"347\"/><text fill=\"#000000\" font-family=\"sans-serif\" font-size=\"12\" font-style=\"italic\" lengthAdjust=\"spacingAndGlyphs\" textLength=\"40\" x=\"107\" y=\"363.1387\">«part»</text><text fill=\"#000000\" font-family=\"sans-serif\" font-size=\"12\" lengthAdjust=\"spacingAndGlyphs\" textLength=\"24\" x=\"115\" y=\"377.1074\">b: B</text><line style=\"stroke: #383838; stroke-width: 1.5;\" x1=\"107\" x2=\"147\" y1=\"384.9375\" y2=\"384.9375\"/></a><!--MD5=[60a26617385b1d2d0262a64233df1f8d]\n",
       "class E6--><a href=\"psysml:633af2d2-4d32-4996-ac04-a91fff2e720f\" target=\"_top\" title=\"psysml:633af2d2-4d32-4996-ac04-a91fff2e720f\" xlink:actuate=\"onRequest\" xlink:href=\"psysml:633af2d2-4d32-4996-ac04-a91fff2e720f\" xlink:show=\"new\" xlink:title=\"psysml:633af2d2-4d32-4996-ac04-a91fff2e720f\" xlink:type=\"simple\"><rect fill=\"#FFFFFF\" height=\"75.5469\" id=\"E6\" style=\"stroke: #383838; stroke-width: 1.5;\" width=\"66\" x=\"77\" y=\"454\"/><text fill=\"#000000\" font-family=\"sans-serif\" font-size=\"12\" font-style=\"italic\" lengthAdjust=\"spacingAndGlyphs\" textLength=\"64\" x=\"78\" y=\"470.1387\">«part def»</text><text fill=\"#000000\" font-family=\"sans-serif\" font-size=\"12\" lengthAdjust=\"spacingAndGlyphs\" textLength=\"8\" x=\"106\" y=\"484.1074\">B</text><line style=\"stroke: #383838; stroke-width: 1.5;\" x1=\"78\" x2=\"142\" y1=\"491.9375\" y2=\"491.9375\"/><text fill=\"#000000\" font-family=\"sans-serif\" font-size=\"11\" lengthAdjust=\"spacingAndGlyphs\" textLength=\"31\" x=\"83\" y=\"522.9526\">x: ~C</text><line style=\"stroke: #383838; stroke-width: 1.0;\" x1=\"78\" x2=\"95\" y1=\"506.3398\" y2=\"506.3398\"/><text fill=\"#000000\" font-family=\"sans-serif\" font-size=\"11\" lengthAdjust=\"spacingAndGlyphs\" textLength=\"30\" x=\"95\" y=\"509.6479\">ports</text><line style=\"stroke: #383838; stroke-width: 1.0;\" x1=\"125\" x2=\"142\" y1=\"506.3398\" y2=\"506.3398\"/></a><!--MD5=[b9389687b975829384b498ac4b7476b2]\n",
       "class E8--><a href=\"psysml:adeac7a4-0c31-420e-b3fd-609062fb2f41\" target=\"_top\" title=\"psysml:adeac7a4-0c31-420e-b3fd-609062fb2f41\" xlink:actuate=\"onRequest\" xlink:href=\"psysml:adeac7a4-0c31-420e-b3fd-609062fb2f41\" xlink:show=\"new\" xlink:title=\"psysml:adeac7a4-0c31-420e-b3fd-609062fb2f41\" xlink:type=\"simple\"><rect fill=\"#FFFFFF\" height=\"45.9375\" id=\"E8\" rx=\"10\" ry=\"10\" style=\"stroke: #383838; stroke-width: 1.5;\" width=\"42\" x=\"151\" y=\"594.5\"/><text fill=\"#000000\" font-family=\"sans-serif\" font-size=\"12\" font-style=\"italic\" lengthAdjust=\"spacingAndGlyphs\" textLength=\"40\" x=\"152\" y=\"610.6387\">«part»</text><text fill=\"#000000\" font-family=\"sans-serif\" font-size=\"12\" lengthAdjust=\"spacingAndGlyphs\" textLength=\"24\" x=\"160\" y=\"624.6074\">a: A</text><line style=\"stroke: #383838; stroke-width: 1.5;\" x1=\"152\" x2=\"192\" y1=\"632.4375\" y2=\"632.4375\"/></a><!--MD5=[96f4274e9e20536e775497830990834d]\n",
       "class E10--><a href=\"psysml:19a0d075-dfec-4a25-8f91-7b5bd5520f32\" target=\"_top\" title=\"psysml:19a0d075-dfec-4a25-8f91-7b5bd5520f32\" xlink:actuate=\"onRequest\" xlink:href=\"psysml:19a0d075-dfec-4a25-8f91-7b5bd5520f32\" xlink:show=\"new\" xlink:title=\"psysml:19a0d075-dfec-4a25-8f91-7b5bd5520f32\" xlink:type=\"simple\"><rect fill=\"#FFFFFF\" height=\"75.5469\" id=\"E10\" style=\"stroke: #383838; stroke-width: 1.5;\" width=\"84\" x=\"32\" y=\"41\"/><text fill=\"#000000\" font-family=\"sans-serif\" font-size=\"12\" font-style=\"italic\" lengthAdjust=\"spacingAndGlyphs\" textLength=\"64\" x=\"42\" y=\"57.1387\">«port def»</text><text fill=\"#000000\" font-family=\"sans-serif\" font-size=\"12\" lengthAdjust=\"spacingAndGlyphs\" textLength=\"8\" x=\"70\" y=\"71.1074\">C</text><line style=\"stroke: #383838; stroke-width: 1.5;\" x1=\"33\" x2=\"115\" y1=\"78.9375\" y2=\"78.9375\"/><text fill=\"#000000\" font-family=\"sans-serif\" font-size=\"11\" lengthAdjust=\"spacingAndGlyphs\" textLength=\"37\" x=\"38\" y=\"109.9526\">y: A, B</text><text fill=\"#000000\" font-family=\"sans-serif\" font-size=\"11\" font-weight=\"bold\" lengthAdjust=\"spacingAndGlyphs\" textLength=\"15\" x=\"79\" y=\"109.9526\">as</text><text fill=\"#000000\" font-family=\"sans-serif\" font-size=\"11\" lengthAdjust=\"spacingAndGlyphs\" textLength=\"12\" x=\"98\" y=\"109.9526\">z2</text><line style=\"stroke: #383838; stroke-width: 1.0;\" x1=\"33\" x2=\"43\" y1=\"93.3398\" y2=\"93.3398\"/><text fill=\"#000000\" font-family=\"sans-serif\" font-size=\"11\" lengthAdjust=\"spacingAndGlyphs\" textLength=\"62\" x=\"43\" y=\"96.6479\">references</text><line style=\"stroke: #383838; stroke-width: 1.0;\" x1=\"105\" x2=\"115\" y1=\"93.3398\" y2=\"93.3398\"/></a><a href=\"psysml:fcdcf065-90d4-4da1-8b43-4feb0ab4c03b\" target=\"_top\" title=\"psysml:fcdcf065-90d4-4da1-8b43-4feb0ab4c03b\" xlink:actuate=\"onRequest\" xlink:href=\"psysml:fcdcf065-90d4-4da1-8b43-4feb0ab4c03b\" xlink:show=\"new\" xlink:title=\"psysml:fcdcf065-90d4-4da1-8b43-4feb0ab4c03b\" xlink:type=\"simple\"><polygon fill=\"#FFFFFF\" points=\"86,591,102,591,109,613.2969,116,613.2969,116,643.5938,86,643.5938,86,591\" style=\"stroke: #000000; stroke-width: 1.5;\"/><line style=\"stroke: #000000; stroke-width: 1.5;\" x1=\"86\" x2=\"109\" y1=\"613.2969\" y2=\"613.2969\"/><text fill=\"#000000\" font-family=\"sans-serif\" font-size=\"14\" font-weight=\"bold\" lengthAdjust=\"spacingAndGlyphs\" textLength=\"10\" x=\"90\" y=\"605.9951\">P</text></a><!--MD5=[2720a5a1f2c3fca2055b230370638851]\n",
       "link E2 to E3--><a href=\"psysml:1f32f64a-cd2f-48b1-a0ff-85d8f5396f29\" target=\"_top\" title=\"psysml:1f32f64a-cd2f-48b1-a0ff-85d8f5396f29\" xlink:actuate=\"onRequest\" xlink:href=\"psysml:1f32f64a-cd2f-48b1-a0ff-85d8f5396f29\" xlink:show=\"new\" xlink:title=\"psysml:1f32f64a-cd2f-48b1-a0ff-85d8f5396f29\" xlink:type=\"simple\"><path d=\"M167.5,102.24 C167.5,102.24 167.5,173.94 167.5,173.94 \" fill=\"none\" id=\"E2-&gt;E3\" style=\"stroke: #383838; stroke-width: 1.0;\"/><polygon fill=\"#FFFFFF\" points=\"167.5,193.94,160.5,174.94,174.5,174.94,167.5,193.94\" style=\"stroke: #383838; stroke-width: 1.0;\"/><ellipse cx=\"162.5\" cy=\"169.24\" fill=\"#383838\" rx=\"2\" ry=\"2\" style=\"stroke: #383838; stroke-width: 1.0;\"/><ellipse cx=\"172.5\" cy=\"169.24\" fill=\"#383838\" rx=\"2\" ry=\"2\" style=\"stroke: #383838; stroke-width: 1.0;\"/></a><!--MD5=[4672eba38e49728da53d11aeb285b987]\n",
       "reverse link E3 to E4--><a href=\"psysml:1e20eef8-b16d-4a20-93fc-2b015416e79a\" target=\"_top\" title=\"psysml:1e20eef8-b16d-4a20-93fc-2b015416e79a\" xlink:actuate=\"onRequest\" xlink:href=\"psysml:1e20eef8-b16d-4a20-93fc-2b015416e79a\" xlink:show=\"new\" xlink:title=\"psysml:1e20eef8-b16d-4a20-93fc-2b015416e79a\" xlink:type=\"simple\"><path d=\"M133,283.07 C133,283.07 133,346.75 133,346.75 \" fill=\"none\" id=\"E3&lt;-E4\" style=\"stroke: #383838; stroke-width: 1.0;\"/><polygon fill=\"#383838\" points=\"133,270.07,129,276.07,133,282.07,137,276.07,133,270.07\" style=\"stroke: #383838; stroke-width: 1.0;\"/></a><!--MD5=[79568f1e445c3877b6a54524624ccc7d]\n",
       "link E4 to E6--><a href=\"psysml:97a379fd-51a7-461f-afe4-84a5f5da2292\" target=\"_top\" title=\"psysml:97a379fd-51a7-461f-afe4-84a5f5da2292\" xlink:actuate=\"onRequest\" xlink:href=\"psysml:97a379fd-51a7-461f-afe4-84a5f5da2292\" xlink:show=\"new\" xlink:title=\"psysml:97a379fd-51a7-461f-afe4-84a5f5da2292\" xlink:type=\"simple\"><path d=\"M124.5,393.23 C124.5,393.23 124.5,433.98 124.5,433.98 \" fill=\"none\" id=\"E4-&gt;E6\" style=\"stroke: #383838; stroke-width: 1.0;\"/><polygon fill=\"#FFFFFF\" points=\"124.5,453.98,117.5,434.98,131.5,434.98,124.5,453.98\" style=\"stroke: #383838; stroke-width: 1.0;\"/><ellipse cx=\"119.5\" cy=\"429.28\" fill=\"#383838\" rx=\"2\" ry=\"2\" style=\"stroke: #383838; stroke-width: 1.0;\"/><ellipse cx=\"129.5\" cy=\"429.28\" fill=\"#383838\" rx=\"2\" ry=\"2\" style=\"stroke: #383838; stroke-width: 1.0;\"/></a><!--MD5=[3f50a3473f1dfb74d3f76443e03635af]\n",
       "reverse link E6 to E7--><a href=\"psysml:fcdcf065-90d4-4da1-8b43-4feb0ab4c03b\" target=\"_top\" title=\"psysml:fcdcf065-90d4-4da1-8b43-4feb0ab4c03b\" xlink:actuate=\"onRequest\" xlink:href=\"psysml:fcdcf065-90d4-4da1-8b43-4feb0ab4c03b\" xlink:show=\"new\" xlink:title=\"psysml:fcdcf065-90d4-4da1-8b43-4feb0ab4c03b\" xlink:type=\"simple\"><path d=\"M101,545.34 C101,545.34 101,590.92 101,590.92 \" fill=\"none\" id=\"E6&lt;-E7\" style=\"stroke: #383838; stroke-width: 1.0;\"/><ellipse cx=\"101\" cy=\"538.34\" fill=\"#FFFFFF\" rx=\"8\" ry=\"8\" style=\"stroke: #383838; stroke-width: 1.0;\"/><line style=\"stroke: #383838; stroke-width: 1.0;\" x1=\"101\" x2=\"101\" y1=\"546.34\" y2=\"530.34\"/><line style=\"stroke: #383838; stroke-width: 1.0;\" x1=\"93\" x2=\"109\" y1=\"538.34\" y2=\"538.34\"/></a><!--MD5=[95fa686b5a16158bcdbcaeead89f639b]\n",
       "link E8 to E3--><a href=\"psysml:c8b02122-2142-456b-8199-9bf99e52168e\" target=\"_top\" title=\"psysml:c8b02122-2142-456b-8199-9bf99e52168e\" xlink:actuate=\"onRequest\" xlink:href=\"psysml:c8b02122-2142-456b-8199-9bf99e52168e\" xlink:show=\"new\" xlink:title=\"psysml:c8b02122-2142-456b-8199-9bf99e52168e\" xlink:type=\"simple\"><path d=\"M167.5,594.25 C167.5,594.25 167.5,290.03 167.5,290.03 \" fill=\"none\" id=\"E8-&gt;E3\" style=\"stroke: #383838; stroke-width: 1.0;\"/><polygon fill=\"#FFFFFF\" points=\"167.5,270.03,174.5,289.03,160.5,289.03,167.5,270.03\" style=\"stroke: #383838; stroke-width: 1.0;\"/><ellipse cx=\"172.5\" cy=\"294.73\" fill=\"#383838\" rx=\"2\" ry=\"2\" style=\"stroke: #383838; stroke-width: 1.0;\"/><ellipse cx=\"162.5\" cy=\"294.73\" fill=\"#383838\" rx=\"2\" ry=\"2\" style=\"stroke: #383838; stroke-width: 1.0;\"/></a><!--MD5=[f4cf0736d43fd73c4ef68817c49d37d5]\n",
       "reverse link E6 to E8--><a href=\"psysml:adeac7a4-0c31-420e-b3fd-609062fb2f41\" target=\"_top\" title=\"psysml:adeac7a4-0c31-420e-b3fd-609062fb2f41\" xlink:actuate=\"onRequest\" xlink:href=\"psysml:adeac7a4-0c31-420e-b3fd-609062fb2f41\" xlink:show=\"new\" xlink:title=\"psysml:adeac7a4-0c31-420e-b3fd-609062fb2f41\" xlink:type=\"simple\"><path d=\"M129.5,543.15 C129.5,543.15 129.5,618 129.5,618 C129.5,618 140.12,618 150.75,618 \" fill=\"none\" id=\"E6&lt;-E8\" style=\"stroke: #383838; stroke-width: 1.0;\"/><polygon fill=\"#383838\" points=\"129.5,530.15,125.5,536.15,129.5,542.15,133.5,536.15,129.5,530.15\" style=\"stroke: #383838; stroke-width: 1.0;\"/></a><!--MD5=[8e04057e7b3cbc0dca4fc78ea351e2da]\n",
       "reverse link E10 to E3--><a href=\"psysml:4b320237-d900-4f83-8ac2-28b55b9df163\" target=\"_top\" title=\"psysml:4b320237-d900-4f83-8ac2-28b55b9df163\" xlink:actuate=\"onRequest\" xlink:href=\"psysml:4b320237-d900-4f83-8ac2-28b55b9df163\" xlink:show=\"new\" xlink:title=\"psysml:4b320237-d900-4f83-8ac2-28b55b9df163\" xlink:type=\"simple\"><path d=\"M129.02,110 C129.02,110 134.5,110 134.5,110 C134.5,110 134.5,157.95 134.5,193.73 \" fill=\"none\" id=\"E10&lt;-E3\" style=\"stroke: #383838; stroke-width: 1.0;\"/><polygon fill=\"#FFFFFF\" points=\"116.02,110,122.02,114,128.02,110,122.02,106,116.02,110\" style=\"stroke: #383838; stroke-width: 1.0;\"/><text fill=\"#000000\" font-family=\"sans-serif\" font-size=\"13\" lengthAdjust=\"spacingAndGlyphs\" textLength=\"7\" x=\"141\" y=\"160.0669\">y</text></a><!--MD5=[604cbf994c02b74b117f728a71673cea]\n",
       "reverse link E10 to E6--><a href=\"psysml:4b320237-d900-4f83-8ac2-28b55b9df163\" target=\"_top\" title=\"psysml:4b320237-d900-4f83-8ac2-28b55b9df163\" xlink:actuate=\"onRequest\" xlink:href=\"psysml:4b320237-d900-4f83-8ac2-28b55b9df163\" xlink:show=\"new\" xlink:title=\"psysml:4b320237-d900-4f83-8ac2-28b55b9df163\" xlink:type=\"simple\"><path d=\"M91.5,130.11 C91.5,130.11 91.5,453.98 91.5,453.98 \" fill=\"none\" id=\"E10&lt;-E6\" style=\"stroke: #383838; stroke-width: 1.0;\"/><polygon fill=\"#FFFFFF\" points=\"91.5,117.11,87.5,123.11,91.5,129.11,95.5,123.11,91.5,117.11\" style=\"stroke: #383838; stroke-width: 1.0;\"/><text fill=\"#000000\" font-family=\"sans-serif\" font-size=\"13\" lengthAdjust=\"spacingAndGlyphs\" textLength=\"7\" x=\"71\" y=\"313.0669\">y</text></a><!--MD5=[0fd790a0489d9febdf1570df38114455]\n",
       "@startuml\r\n",
       "skinparam linetype ortho\r\n",
       "skinparam monochrome true\r\n",
       "skinparam classbackgroundcolor white\r\n",
       "skinparam shadowing false\r\n",
       "skinparam wrapWidth 300\r\n",
       "hide circle\r\n",
       "\r\n",
       "package \"BlockTest\" as E1  [[psysml:c0b99535-16c1-47cf-a8d5-3f20b133a54a ]]  {\r\n",
       "comp usage \"f: A\" as E2  <<(T,blue)part>> [[psysml:20852434-d7cc-411e-aa3b-cae286a1f6f8 ]] {\r\n",
       "}\r\n",
       "comp def \"A\" as E3  <<(T,blue)part def>> [[psysml:cbed5230-ac88-4b7e-9b23-6ffd90d7c059 ]] {\r\n",
       "- - ports - -\r\n",
       "c: C\r\n",
       "}\r\n",
       "comp usage \"b: B\" as E4  <<(T,blue)part>> [[psysml:1e20eef8-b16d-4a20-93fc-2b015416e79a ]] {\r\n",
       "}\r\n",
       "comp def \"B\" as E6  <<(T,blue)part def>> [[psysml:633af2d2-4d32-4996-ac04-a91fff2e720f ]] {\r\n",
       "- - ports - -\r\n",
       "x: ~C\r\n",
       "}\r\n",
       "package \"P\" as E7  [[psysml:fcdcf065-90d4-4da1-8b43-4feb0ab4c03b ]]  {\r\n",
       "}\r\n",
       "comp usage \"a: A\" as E8  <<(T,blue)part>> [[psysml:adeac7a4-0c31-420e-b3fd-609062fb2f41 ]] {\r\n",
       "}\r\n",
       "comp def \"C\" as E10  <<(T,blue)port def>> [[psysml:19a0d075-dfec-4a25-8f91-7b5bd5520f32 ]] {\r\n",
       "- - references - -\r\n",
       "y: A, B <b>as</b> z2 \r\n",
       "}\r\n",
       "E2 - -:|> E3 [[psysml:1f32f64a-cd2f-48b1-a0ff-85d8f5396f29 ]] \r\n",
       "E3 *- - E4 [[psysml:1e20eef8-b16d-4a20-93fc-2b015416e79a ]] \r\n",
       "E4 - -:|> E6 [[psysml:97a379fd-51a7-461f-afe4-84a5f5da2292 ]] \r\n",
       "E6 +- - E7 [[psysml:fcdcf065-90d4-4da1-8b43-4feb0ab4c03b ]] \r\n",
       "E8 - -:|> E3 [[psysml:c8b02122-2142-456b-8199-9bf99e52168e ]] \r\n",
       "E6 *- - E8 [[psysml:adeac7a4-0c31-420e-b3fd-609062fb2f41 ]] \r\n",
       "E10 o- - E3 [[psysml:4b320237-d900-4f83-8ac2-28b55b9df163 ]] : y\r\n",
       "E10 o- - E6 [[psysml:4b320237-d900-4f83-8ac2-28b55b9df163 ]] : y\r\n",
       "}\r\n",
       "@enduml\r\n",
       "\n",
       "PlantUML version 1.2020.13(Sat Jun 13 12:26:38 UTC 2020)\n",
       "(EPL source distribution)\n",
       "Java Runtime: OpenJDK Runtime Environment\n",
       "JVM: OpenJDK 64-Bit Server VM\n",
       "Default Encoding: UTF-8\n",
       "Language: en\n",
       "Country: null\n",
       "--></g></svg>"
      ]
     },
     "execution_count": 51,
     "metadata": {},
     "output_type": "execute_result"
    }
   ],
   "source": [
    "%viz --style=\"ORTHOLINE\" --view=\"Default\" \"BlockTest\""
   ]
  },
  {
   "cell_type": "code",
   "execution_count": 52,
   "id": "junior-portsmouth",
   "metadata": {
    "execution": {
     "iopub.execute_input": "2021-03-25T15:00:06.195931Z",
     "iopub.status.busy": "2021-03-25T15:00:06.195295Z",
     "iopub.status.idle": "2021-03-25T15:00:06.699275Z",
     "shell.execute_reply": "2021-03-25T15:00:06.697477Z"
    }
   },
   "outputs": [
    {
     "data": {
      "image/svg+xml": [
       "<?xml version=\"1.0\" encoding=\"UTF-8\" standalone=\"no\"?><svg xmlns=\"http://www.w3.org/2000/svg\" xmlns:xlink=\"http://www.w3.org/1999/xlink\" contentScriptType=\"application/ecmascript\" contentStyleType=\"text/css\" height=\"672px\" preserveAspectRatio=\"none\" style=\"width:231px;height:672px;\" version=\"1.1\" viewBox=\"0 0 231 672\" width=\"231px\" zoomAndPan=\"magnify\"><defs/><g><!--MD5=[fbc87193dbaf4d95561dea2c320d4a47]\n",
       "cluster E1--><a href=\"psysml:c0b99535-16c1-47cf-a8d5-3f20b133a54a\" target=\"_top\" title=\"psysml:c0b99535-16c1-47cf-a8d5-3f20b133a54a\" xlink:actuate=\"onRequest\" xlink:href=\"psysml:c0b99535-16c1-47cf-a8d5-3f20b133a54a\" xlink:show=\"new\" xlink:title=\"psysml:c0b99535-16c1-47cf-a8d5-3f20b133a54a\" xlink:type=\"simple\"><polygon fill=\"#FFFFFF\" points=\"16,6,99,6,106,28.2969,209,28.2969,209,660,16,660,16,6\" style=\"stroke: #000000; stroke-width: 1.5;\"/><line style=\"stroke: #000000; stroke-width: 1.5;\" x1=\"16\" x2=\"106\" y1=\"28.2969\" y2=\"28.2969\"/><text fill=\"#000000\" font-family=\"sans-serif\" font-size=\"14\" font-weight=\"bold\" lengthAdjust=\"spacingAndGlyphs\" textLength=\"77\" x=\"20\" y=\"20.9951\">BlockTest</text></a><!--MD5=[b4997ac47864f28c2f74865a473b2911]\n",
       "class E2--><a href=\"psysml:20852434-d7cc-411e-aa3b-cae286a1f6f8\" target=\"_top\" title=\"psysml:20852434-d7cc-411e-aa3b-cae286a1f6f8\" xlink:actuate=\"onRequest\" xlink:href=\"psysml:20852434-d7cc-411e-aa3b-cae286a1f6f8\" xlink:show=\"new\" xlink:title=\"psysml:20852434-d7cc-411e-aa3b-cae286a1f6f8\" xlink:type=\"simple\"><rect fill=\"#FFFFFF\" height=\"45.9375\" id=\"E2\" rx=\"10\" ry=\"10\" style=\"stroke: #383838; stroke-width: 1.5;\" width=\"42\" x=\"151\" y=\"56\"/><text fill=\"#000000\" font-family=\"sans-serif\" font-size=\"12\" font-style=\"italic\" lengthAdjust=\"spacingAndGlyphs\" textLength=\"40\" x=\"152\" y=\"72.1387\">«part»</text><text fill=\"#000000\" font-family=\"sans-serif\" font-size=\"12\" lengthAdjust=\"spacingAndGlyphs\" textLength=\"20\" x=\"162\" y=\"86.1074\">f: A</text><line style=\"stroke: #383838; stroke-width: 1.5;\" x1=\"152\" x2=\"192\" y1=\"93.9375\" y2=\"93.9375\"/></a><!--MD5=[09b614a08d8cba4a07c9adeb5e0fee81]\n",
       "class E3--><a href=\"psysml:cbed5230-ac88-4b7e-9b23-6ffd90d7c059\" target=\"_top\" title=\"psysml:cbed5230-ac88-4b7e-9b23-6ffd90d7c059\" xlink:actuate=\"onRequest\" xlink:href=\"psysml:cbed5230-ac88-4b7e-9b23-6ffd90d7c059\" xlink:show=\"new\" xlink:title=\"psysml:cbed5230-ac88-4b7e-9b23-6ffd90d7c059\" xlink:type=\"simple\"><rect fill=\"#FFFFFF\" height=\"75.5469\" id=\"E3\" style=\"stroke: #383838; stroke-width: 1.5;\" width=\"66\" x=\"118\" y=\"194\"/><text fill=\"#000000\" font-family=\"sans-serif\" font-size=\"12\" font-style=\"italic\" lengthAdjust=\"spacingAndGlyphs\" textLength=\"64\" x=\"119\" y=\"210.1387\">«part def»</text><text fill=\"#000000\" font-family=\"sans-serif\" font-size=\"12\" lengthAdjust=\"spacingAndGlyphs\" textLength=\"8\" x=\"147\" y=\"224.1074\">A</text><line style=\"stroke: #383838; stroke-width: 1.5;\" x1=\"119\" x2=\"183\" y1=\"231.9375\" y2=\"231.9375\"/><text fill=\"#000000\" font-family=\"sans-serif\" font-size=\"11\" lengthAdjust=\"spacingAndGlyphs\" textLength=\"22\" x=\"124\" y=\"262.9526\">c: C</text><line style=\"stroke: #383838; stroke-width: 1.0;\" x1=\"119\" x2=\"136\" y1=\"246.3398\" y2=\"246.3398\"/><text fill=\"#000000\" font-family=\"sans-serif\" font-size=\"11\" lengthAdjust=\"spacingAndGlyphs\" textLength=\"30\" x=\"136\" y=\"249.6479\">ports</text><line style=\"stroke: #383838; stroke-width: 1.0;\" x1=\"166\" x2=\"183\" y1=\"246.3398\" y2=\"246.3398\"/></a><!--MD5=[ebbe1d658d1005bcc118a6aa81145e00]\n",
       "class E4--><a href=\"psysml:1e20eef8-b16d-4a20-93fc-2b015416e79a\" target=\"_top\" title=\"psysml:1e20eef8-b16d-4a20-93fc-2b015416e79a\" xlink:actuate=\"onRequest\" xlink:href=\"psysml:1e20eef8-b16d-4a20-93fc-2b015416e79a\" xlink:show=\"new\" xlink:title=\"psysml:1e20eef8-b16d-4a20-93fc-2b015416e79a\" xlink:type=\"simple\"><rect fill=\"#FFFFFF\" height=\"45.9375\" id=\"E4\" rx=\"10\" ry=\"10\" style=\"stroke: #383838; stroke-width: 1.5;\" width=\"42\" x=\"106\" y=\"347\"/><text fill=\"#000000\" font-family=\"sans-serif\" font-size=\"12\" font-style=\"italic\" lengthAdjust=\"spacingAndGlyphs\" textLength=\"40\" x=\"107\" y=\"363.1387\">«part»</text><text fill=\"#000000\" font-family=\"sans-serif\" font-size=\"12\" lengthAdjust=\"spacingAndGlyphs\" textLength=\"24\" x=\"115\" y=\"377.1074\">b: B</text><line style=\"stroke: #383838; stroke-width: 1.5;\" x1=\"107\" x2=\"147\" y1=\"384.9375\" y2=\"384.9375\"/></a><!--MD5=[60a26617385b1d2d0262a64233df1f8d]\n",
       "class E6--><a href=\"psysml:633af2d2-4d32-4996-ac04-a91fff2e720f\" target=\"_top\" title=\"psysml:633af2d2-4d32-4996-ac04-a91fff2e720f\" xlink:actuate=\"onRequest\" xlink:href=\"psysml:633af2d2-4d32-4996-ac04-a91fff2e720f\" xlink:show=\"new\" xlink:title=\"psysml:633af2d2-4d32-4996-ac04-a91fff2e720f\" xlink:type=\"simple\"><rect fill=\"#FFFFFF\" height=\"75.5469\" id=\"E6\" style=\"stroke: #383838; stroke-width: 1.5;\" width=\"66\" x=\"77\" y=\"454\"/><text fill=\"#000000\" font-family=\"sans-serif\" font-size=\"12\" font-style=\"italic\" lengthAdjust=\"spacingAndGlyphs\" textLength=\"64\" x=\"78\" y=\"470.1387\">«part def»</text><text fill=\"#000000\" font-family=\"sans-serif\" font-size=\"12\" lengthAdjust=\"spacingAndGlyphs\" textLength=\"8\" x=\"106\" y=\"484.1074\">B</text><line style=\"stroke: #383838; stroke-width: 1.5;\" x1=\"78\" x2=\"142\" y1=\"491.9375\" y2=\"491.9375\"/><text fill=\"#000000\" font-family=\"sans-serif\" font-size=\"11\" lengthAdjust=\"spacingAndGlyphs\" textLength=\"31\" x=\"83\" y=\"522.9526\">x: ~C</text><line style=\"stroke: #383838; stroke-width: 1.0;\" x1=\"78\" x2=\"95\" y1=\"506.3398\" y2=\"506.3398\"/><text fill=\"#000000\" font-family=\"sans-serif\" font-size=\"11\" lengthAdjust=\"spacingAndGlyphs\" textLength=\"30\" x=\"95\" y=\"509.6479\">ports</text><line style=\"stroke: #383838; stroke-width: 1.0;\" x1=\"125\" x2=\"142\" y1=\"506.3398\" y2=\"506.3398\"/></a><!--MD5=[b9389687b975829384b498ac4b7476b2]\n",
       "class E8--><a href=\"psysml:adeac7a4-0c31-420e-b3fd-609062fb2f41\" target=\"_top\" title=\"psysml:adeac7a4-0c31-420e-b3fd-609062fb2f41\" xlink:actuate=\"onRequest\" xlink:href=\"psysml:adeac7a4-0c31-420e-b3fd-609062fb2f41\" xlink:show=\"new\" xlink:title=\"psysml:adeac7a4-0c31-420e-b3fd-609062fb2f41\" xlink:type=\"simple\"><rect fill=\"#FFFFFF\" height=\"45.9375\" id=\"E8\" rx=\"10\" ry=\"10\" style=\"stroke: #383838; stroke-width: 1.5;\" width=\"42\" x=\"151\" y=\"594.5\"/><text fill=\"#000000\" font-family=\"sans-serif\" font-size=\"12\" font-style=\"italic\" lengthAdjust=\"spacingAndGlyphs\" textLength=\"40\" x=\"152\" y=\"610.6387\">«part»</text><text fill=\"#000000\" font-family=\"sans-serif\" font-size=\"12\" lengthAdjust=\"spacingAndGlyphs\" textLength=\"24\" x=\"160\" y=\"624.6074\">a: A</text><line style=\"stroke: #383838; stroke-width: 1.5;\" x1=\"152\" x2=\"192\" y1=\"632.4375\" y2=\"632.4375\"/></a><!--MD5=[96f4274e9e20536e775497830990834d]\n",
       "class E10--><a href=\"psysml:19a0d075-dfec-4a25-8f91-7b5bd5520f32\" target=\"_top\" title=\"psysml:19a0d075-dfec-4a25-8f91-7b5bd5520f32\" xlink:actuate=\"onRequest\" xlink:href=\"psysml:19a0d075-dfec-4a25-8f91-7b5bd5520f32\" xlink:show=\"new\" xlink:title=\"psysml:19a0d075-dfec-4a25-8f91-7b5bd5520f32\" xlink:type=\"simple\"><rect fill=\"#FFFFFF\" height=\"75.5469\" id=\"E10\" style=\"stroke: #383838; stroke-width: 1.5;\" width=\"84\" x=\"32\" y=\"41\"/><text fill=\"#000000\" font-family=\"sans-serif\" font-size=\"12\" font-style=\"italic\" lengthAdjust=\"spacingAndGlyphs\" textLength=\"64\" x=\"42\" y=\"57.1387\">«port def»</text><text fill=\"#000000\" font-family=\"sans-serif\" font-size=\"12\" lengthAdjust=\"spacingAndGlyphs\" textLength=\"8\" x=\"70\" y=\"71.1074\">C</text><line style=\"stroke: #383838; stroke-width: 1.5;\" x1=\"33\" x2=\"115\" y1=\"78.9375\" y2=\"78.9375\"/><text fill=\"#000000\" font-family=\"sans-serif\" font-size=\"11\" lengthAdjust=\"spacingAndGlyphs\" textLength=\"37\" x=\"38\" y=\"109.9526\">y: A, B</text><text fill=\"#000000\" font-family=\"sans-serif\" font-size=\"11\" font-weight=\"bold\" lengthAdjust=\"spacingAndGlyphs\" textLength=\"15\" x=\"79\" y=\"109.9526\">as</text><text fill=\"#000000\" font-family=\"sans-serif\" font-size=\"11\" lengthAdjust=\"spacingAndGlyphs\" textLength=\"12\" x=\"98\" y=\"109.9526\">z2</text><line style=\"stroke: #383838; stroke-width: 1.0;\" x1=\"33\" x2=\"43\" y1=\"93.3398\" y2=\"93.3398\"/><text fill=\"#000000\" font-family=\"sans-serif\" font-size=\"11\" lengthAdjust=\"spacingAndGlyphs\" textLength=\"62\" x=\"43\" y=\"96.6479\">references</text><line style=\"stroke: #383838; stroke-width: 1.0;\" x1=\"105\" x2=\"115\" y1=\"93.3398\" y2=\"93.3398\"/></a><a href=\"psysml:fcdcf065-90d4-4da1-8b43-4feb0ab4c03b\" target=\"_top\" title=\"psysml:fcdcf065-90d4-4da1-8b43-4feb0ab4c03b\" xlink:actuate=\"onRequest\" xlink:href=\"psysml:fcdcf065-90d4-4da1-8b43-4feb0ab4c03b\" xlink:show=\"new\" xlink:title=\"psysml:fcdcf065-90d4-4da1-8b43-4feb0ab4c03b\" xlink:type=\"simple\"><polygon fill=\"#FFFFFF\" points=\"86,591,102,591,109,613.2969,116,613.2969,116,643.5938,86,643.5938,86,591\" style=\"stroke: #000000; stroke-width: 1.5;\"/><line style=\"stroke: #000000; stroke-width: 1.5;\" x1=\"86\" x2=\"109\" y1=\"613.2969\" y2=\"613.2969\"/><text fill=\"#000000\" font-family=\"sans-serif\" font-size=\"14\" font-weight=\"bold\" lengthAdjust=\"spacingAndGlyphs\" textLength=\"10\" x=\"90\" y=\"605.9951\">P</text></a><!--MD5=[2720a5a1f2c3fca2055b230370638851]\n",
       "link E2 to E3--><a href=\"psysml:1f32f64a-cd2f-48b1-a0ff-85d8f5396f29\" target=\"_top\" title=\"psysml:1f32f64a-cd2f-48b1-a0ff-85d8f5396f29\" xlink:actuate=\"onRequest\" xlink:href=\"psysml:1f32f64a-cd2f-48b1-a0ff-85d8f5396f29\" xlink:show=\"new\" xlink:title=\"psysml:1f32f64a-cd2f-48b1-a0ff-85d8f5396f29\" xlink:type=\"simple\"><path d=\"M167.5,102.24 C167.5,102.24 167.5,173.94 167.5,173.94 \" fill=\"none\" id=\"E2-&gt;E3\" style=\"stroke: #383838; stroke-width: 1.0;\"/><polygon fill=\"#FFFFFF\" points=\"167.5,193.94,160.5,174.94,174.5,174.94,167.5,193.94\" style=\"stroke: #383838; stroke-width: 1.0;\"/><ellipse cx=\"162.5\" cy=\"169.24\" fill=\"#383838\" rx=\"2\" ry=\"2\" style=\"stroke: #383838; stroke-width: 1.0;\"/><ellipse cx=\"172.5\" cy=\"169.24\" fill=\"#383838\" rx=\"2\" ry=\"2\" style=\"stroke: #383838; stroke-width: 1.0;\"/></a><!--MD5=[4672eba38e49728da53d11aeb285b987]\n",
       "reverse link E3 to E4--><a href=\"psysml:1e20eef8-b16d-4a20-93fc-2b015416e79a\" target=\"_top\" title=\"psysml:1e20eef8-b16d-4a20-93fc-2b015416e79a\" xlink:actuate=\"onRequest\" xlink:href=\"psysml:1e20eef8-b16d-4a20-93fc-2b015416e79a\" xlink:show=\"new\" xlink:title=\"psysml:1e20eef8-b16d-4a20-93fc-2b015416e79a\" xlink:type=\"simple\"><path d=\"M133,283.07 C133,283.07 133,346.75 133,346.75 \" fill=\"none\" id=\"E3&lt;-E4\" style=\"stroke: #383838; stroke-width: 1.0;\"/><polygon fill=\"#383838\" points=\"133,270.07,129,276.07,133,282.07,137,276.07,133,270.07\" style=\"stroke: #383838; stroke-width: 1.0;\"/></a><!--MD5=[79568f1e445c3877b6a54524624ccc7d]\n",
       "link E4 to E6--><a href=\"psysml:97a379fd-51a7-461f-afe4-84a5f5da2292\" target=\"_top\" title=\"psysml:97a379fd-51a7-461f-afe4-84a5f5da2292\" xlink:actuate=\"onRequest\" xlink:href=\"psysml:97a379fd-51a7-461f-afe4-84a5f5da2292\" xlink:show=\"new\" xlink:title=\"psysml:97a379fd-51a7-461f-afe4-84a5f5da2292\" xlink:type=\"simple\"><path d=\"M124.5,393.23 C124.5,393.23 124.5,433.98 124.5,433.98 \" fill=\"none\" id=\"E4-&gt;E6\" style=\"stroke: #383838; stroke-width: 1.0;\"/><polygon fill=\"#FFFFFF\" points=\"124.5,453.98,117.5,434.98,131.5,434.98,124.5,453.98\" style=\"stroke: #383838; stroke-width: 1.0;\"/><ellipse cx=\"119.5\" cy=\"429.28\" fill=\"#383838\" rx=\"2\" ry=\"2\" style=\"stroke: #383838; stroke-width: 1.0;\"/><ellipse cx=\"129.5\" cy=\"429.28\" fill=\"#383838\" rx=\"2\" ry=\"2\" style=\"stroke: #383838; stroke-width: 1.0;\"/></a><!--MD5=[3f50a3473f1dfb74d3f76443e03635af]\n",
       "reverse link E6 to E7--><a href=\"psysml:fcdcf065-90d4-4da1-8b43-4feb0ab4c03b\" target=\"_top\" title=\"psysml:fcdcf065-90d4-4da1-8b43-4feb0ab4c03b\" xlink:actuate=\"onRequest\" xlink:href=\"psysml:fcdcf065-90d4-4da1-8b43-4feb0ab4c03b\" xlink:show=\"new\" xlink:title=\"psysml:fcdcf065-90d4-4da1-8b43-4feb0ab4c03b\" xlink:type=\"simple\"><path d=\"M101,545.34 C101,545.34 101,590.92 101,590.92 \" fill=\"none\" id=\"E6&lt;-E7\" style=\"stroke: #383838; stroke-width: 1.0;\"/><ellipse cx=\"101\" cy=\"538.34\" fill=\"#FFFFFF\" rx=\"8\" ry=\"8\" style=\"stroke: #383838; stroke-width: 1.0;\"/><line style=\"stroke: #383838; stroke-width: 1.0;\" x1=\"101\" x2=\"101\" y1=\"546.34\" y2=\"530.34\"/><line style=\"stroke: #383838; stroke-width: 1.0;\" x1=\"93\" x2=\"109\" y1=\"538.34\" y2=\"538.34\"/></a><!--MD5=[95fa686b5a16158bcdbcaeead89f639b]\n",
       "link E8 to E3--><a href=\"psysml:c8b02122-2142-456b-8199-9bf99e52168e\" target=\"_top\" title=\"psysml:c8b02122-2142-456b-8199-9bf99e52168e\" xlink:actuate=\"onRequest\" xlink:href=\"psysml:c8b02122-2142-456b-8199-9bf99e52168e\" xlink:show=\"new\" xlink:title=\"psysml:c8b02122-2142-456b-8199-9bf99e52168e\" xlink:type=\"simple\"><path d=\"M167.5,594.25 C167.5,594.25 167.5,290.03 167.5,290.03 \" fill=\"none\" id=\"E8-&gt;E3\" style=\"stroke: #383838; stroke-width: 1.0;\"/><polygon fill=\"#FFFFFF\" points=\"167.5,270.03,174.5,289.03,160.5,289.03,167.5,270.03\" style=\"stroke: #383838; stroke-width: 1.0;\"/><ellipse cx=\"172.5\" cy=\"294.73\" fill=\"#383838\" rx=\"2\" ry=\"2\" style=\"stroke: #383838; stroke-width: 1.0;\"/><ellipse cx=\"162.5\" cy=\"294.73\" fill=\"#383838\" rx=\"2\" ry=\"2\" style=\"stroke: #383838; stroke-width: 1.0;\"/></a><!--MD5=[f4cf0736d43fd73c4ef68817c49d37d5]\n",
       "reverse link E6 to E8--><a href=\"psysml:adeac7a4-0c31-420e-b3fd-609062fb2f41\" target=\"_top\" title=\"psysml:adeac7a4-0c31-420e-b3fd-609062fb2f41\" xlink:actuate=\"onRequest\" xlink:href=\"psysml:adeac7a4-0c31-420e-b3fd-609062fb2f41\" xlink:show=\"new\" xlink:title=\"psysml:adeac7a4-0c31-420e-b3fd-609062fb2f41\" xlink:type=\"simple\"><path d=\"M129.5,543.15 C129.5,543.15 129.5,618 129.5,618 C129.5,618 140.12,618 150.75,618 \" fill=\"none\" id=\"E6&lt;-E8\" style=\"stroke: #383838; stroke-width: 1.0;\"/><polygon fill=\"#383838\" points=\"129.5,530.15,125.5,536.15,129.5,542.15,133.5,536.15,129.5,530.15\" style=\"stroke: #383838; stroke-width: 1.0;\"/></a><!--MD5=[8e04057e7b3cbc0dca4fc78ea351e2da]\n",
       "reverse link E10 to E3--><a href=\"psysml:4b320237-d900-4f83-8ac2-28b55b9df163\" target=\"_top\" title=\"psysml:4b320237-d900-4f83-8ac2-28b55b9df163\" xlink:actuate=\"onRequest\" xlink:href=\"psysml:4b320237-d900-4f83-8ac2-28b55b9df163\" xlink:show=\"new\" xlink:title=\"psysml:4b320237-d900-4f83-8ac2-28b55b9df163\" xlink:type=\"simple\"><path d=\"M129.02,110 C129.02,110 134.5,110 134.5,110 C134.5,110 134.5,157.95 134.5,193.73 \" fill=\"none\" id=\"E10&lt;-E3\" style=\"stroke: #383838; stroke-width: 1.0;\"/><polygon fill=\"#FFFFFF\" points=\"116.02,110,122.02,114,128.02,110,122.02,106,116.02,110\" style=\"stroke: #383838; stroke-width: 1.0;\"/><text fill=\"#000000\" font-family=\"sans-serif\" font-size=\"13\" lengthAdjust=\"spacingAndGlyphs\" textLength=\"7\" x=\"141\" y=\"160.0669\">y</text></a><!--MD5=[604cbf994c02b74b117f728a71673cea]\n",
       "reverse link E10 to E6--><a href=\"psysml:4b320237-d900-4f83-8ac2-28b55b9df163\" target=\"_top\" title=\"psysml:4b320237-d900-4f83-8ac2-28b55b9df163\" xlink:actuate=\"onRequest\" xlink:href=\"psysml:4b320237-d900-4f83-8ac2-28b55b9df163\" xlink:show=\"new\" xlink:title=\"psysml:4b320237-d900-4f83-8ac2-28b55b9df163\" xlink:type=\"simple\"><path d=\"M91.5,130.11 C91.5,130.11 91.5,453.98 91.5,453.98 \" fill=\"none\" id=\"E10&lt;-E6\" style=\"stroke: #383838; stroke-width: 1.0;\"/><polygon fill=\"#FFFFFF\" points=\"91.5,117.11,87.5,123.11,91.5,129.11,95.5,123.11,91.5,117.11\" style=\"stroke: #383838; stroke-width: 1.0;\"/><text fill=\"#000000\" font-family=\"sans-serif\" font-size=\"13\" lengthAdjust=\"spacingAndGlyphs\" textLength=\"7\" x=\"71\" y=\"313.0669\">y</text></a><!--MD5=[0fd790a0489d9febdf1570df38114455]\n",
       "@startuml\r\n",
       "skinparam linetype ortho\r\n",
       "skinparam monochrome true\r\n",
       "skinparam classbackgroundcolor white\r\n",
       "skinparam shadowing false\r\n",
       "skinparam wrapWidth 300\r\n",
       "hide circle\r\n",
       "\r\n",
       "package \"BlockTest\" as E1  [[psysml:c0b99535-16c1-47cf-a8d5-3f20b133a54a ]]  {\r\n",
       "comp usage \"f: A\" as E2  <<(T,blue)part>> [[psysml:20852434-d7cc-411e-aa3b-cae286a1f6f8 ]] {\r\n",
       "}\r\n",
       "comp def \"A\" as E3  <<(T,blue)part def>> [[psysml:cbed5230-ac88-4b7e-9b23-6ffd90d7c059 ]] {\r\n",
       "- - ports - -\r\n",
       "c: C\r\n",
       "}\r\n",
       "comp usage \"b: B\" as E4  <<(T,blue)part>> [[psysml:1e20eef8-b16d-4a20-93fc-2b015416e79a ]] {\r\n",
       "}\r\n",
       "comp def \"B\" as E6  <<(T,blue)part def>> [[psysml:633af2d2-4d32-4996-ac04-a91fff2e720f ]] {\r\n",
       "- - ports - -\r\n",
       "x: ~C\r\n",
       "}\r\n",
       "package \"P\" as E7  [[psysml:fcdcf065-90d4-4da1-8b43-4feb0ab4c03b ]]  {\r\n",
       "}\r\n",
       "comp usage \"a: A\" as E8  <<(T,blue)part>> [[psysml:adeac7a4-0c31-420e-b3fd-609062fb2f41 ]] {\r\n",
       "}\r\n",
       "comp def \"C\" as E10  <<(T,blue)port def>> [[psysml:19a0d075-dfec-4a25-8f91-7b5bd5520f32 ]] {\r\n",
       "- - references - -\r\n",
       "y: A, B <b>as</b> z2 \r\n",
       "}\r\n",
       "E2 - -:|> E3 [[psysml:1f32f64a-cd2f-48b1-a0ff-85d8f5396f29 ]] \r\n",
       "E3 *- - E4 [[psysml:1e20eef8-b16d-4a20-93fc-2b015416e79a ]] \r\n",
       "E4 - -:|> E6 [[psysml:97a379fd-51a7-461f-afe4-84a5f5da2292 ]] \r\n",
       "E6 +- - E7 [[psysml:fcdcf065-90d4-4da1-8b43-4feb0ab4c03b ]] \r\n",
       "E8 - -:|> E3 [[psysml:c8b02122-2142-456b-8199-9bf99e52168e ]] \r\n",
       "E6 *- - E8 [[psysml:adeac7a4-0c31-420e-b3fd-609062fb2f41 ]] \r\n",
       "E10 o- - E3 [[psysml:4b320237-d900-4f83-8ac2-28b55b9df163 ]] : y\r\n",
       "E10 o- - E6 [[psysml:4b320237-d900-4f83-8ac2-28b55b9df163 ]] : y\r\n",
       "}\r\n",
       "@enduml\r\n",
       "\n",
       "PlantUML version 1.2020.13(Sat Jun 13 12:26:38 UTC 2020)\n",
       "(EPL source distribution)\n",
       "Java Runtime: OpenJDK Runtime Environment\n",
       "JVM: OpenJDK 64-Bit Server VM\n",
       "Default Encoding: UTF-8\n",
       "Language: en\n",
       "Country: null\n",
       "--></g></svg>"
      ]
     },
     "execution_count": 52,
     "metadata": {},
     "output_type": "execute_result"
    }
   ],
   "source": [
    "%viz --style=\"ORTHOLINE\" --view=\"Tree\" \"BlockTest\""
   ]
  },
  {
   "cell_type": "code",
   "execution_count": 53,
   "id": "unique-tablet",
   "metadata": {
    "execution": {
     "iopub.execute_input": "2021-03-25T15:00:06.740728Z",
     "iopub.status.busy": "2021-03-25T15:00:06.740255Z",
     "iopub.status.idle": "2021-03-25T15:00:06.750880Z",
     "shell.execute_reply": "2021-03-25T15:00:06.750453Z"
    }
   },
   "outputs": [
    {
     "data": {
      "image/svg+xml": [
       "<?xml version=\"1.0\" encoding=\"UTF-8\" standalone=\"no\"?><svg xmlns=\"http://www.w3.org/2000/svg\" xmlns:xlink=\"http://www.w3.org/1999/xlink\" contentScriptType=\"application/ecmascript\" contentStyleType=\"text/css\" height=\"12px\" preserveAspectRatio=\"none\" style=\"width:12px;height:12px;\" version=\"1.1\" viewBox=\"0 0 12 12\" width=\"12px\" zoomAndPan=\"magnify\"><defs/><g><!--MD5=[97d6f38768b311333d388e66b2b27985]\n",
       "@startuml\r\n",
       "skinparam linetype ortho\r\n",
       "skinparam monochrome true\r\n",
       "skinparam classbackgroundcolor white\r\n",
       "skinparam shadowing false\r\n",
       "skinparam wrapWidth 300\r\n",
       "hide circle\r\n",
       "\r\n",
       "@enduml\r\n",
       "\n",
       "PlantUML version 1.2020.13(Sat Jun 13 12:26:38 UTC 2020)\n",
       "(EPL source distribution)\n",
       "Java Runtime: OpenJDK Runtime Environment\n",
       "JVM: OpenJDK 64-Bit Server VM\n",
       "Default Encoding: UTF-8\n",
       "Language: en\n",
       "Country: null\n",
       "--></g></svg>"
      ]
     },
     "execution_count": 53,
     "metadata": {},
     "output_type": "execute_result"
    }
   ],
   "source": [
    "%viz --style=\"ORTHOLINE\" --view=\"State\" \"BlockTest\""
   ]
  },
  {
   "cell_type": "code",
   "execution_count": 54,
   "id": "amazing-overall",
   "metadata": {
    "execution": {
     "iopub.execute_input": "2021-03-25T15:00:06.804376Z",
     "iopub.status.busy": "2021-03-25T15:00:06.803901Z",
     "iopub.status.idle": "2021-03-25T15:00:06.922320Z",
     "shell.execute_reply": "2021-03-25T15:00:06.920816Z"
    }
   },
   "outputs": [
    {
     "data": {
      "image/svg+xml": [
       "<?xml version=\"1.0\" encoding=\"UTF-8\" standalone=\"no\"?><svg xmlns=\"http://www.w3.org/2000/svg\" xmlns:xlink=\"http://www.w3.org/1999/xlink\" contentScriptType=\"application/ecmascript\" contentStyleType=\"text/css\" height=\"256px\" preserveAspectRatio=\"none\" style=\"width:590px;height:256px;\" version=\"1.1\" viewBox=\"0 0 590 256\" width=\"590px\" zoomAndPan=\"magnify\"><defs/><g><!--MD5=[fbc87193dbaf4d95561dea2c320d4a47]\n",
       "cluster E1--><a href=\"psysml:c0b99535-16c1-47cf-a8d5-3f20b133a54a\" target=\"_top\" title=\"psysml:c0b99535-16c1-47cf-a8d5-3f20b133a54a\" xlink:actuate=\"onRequest\" xlink:href=\"psysml:c0b99535-16c1-47cf-a8d5-3f20b133a54a\" xlink:show=\"new\" xlink:title=\"psysml:c0b99535-16c1-47cf-a8d5-3f20b133a54a\" xlink:type=\"simple\"><polygon fill=\"#FFFFFF\" points=\"16,6,99,6,106,28.2969,568,28.2969,568,244,16,244,16,6\" style=\"stroke: #000000; stroke-width: 1.5;\"/><line style=\"stroke: #000000; stroke-width: 1.5;\" x1=\"16\" x2=\"106\" y1=\"28.2969\" y2=\"28.2969\"/><text fill=\"#000000\" font-family=\"sans-serif\" font-size=\"14\" font-weight=\"bold\" lengthAdjust=\"spacingAndGlyphs\" textLength=\"77\" x=\"20\" y=\"20.9951\">BlockTest</text></a><!--MD5=[d5e69f78d87373223dbae638b30a9c99]\n",
       "cluster E3--><a href=\"psysml:cbed5230-ac88-4b7e-9b23-6ffd90d7c059\" target=\"_top\" title=\"psysml:cbed5230-ac88-4b7e-9b23-6ffd90d7c059\" xlink:actuate=\"onRequest\" xlink:href=\"psysml:cbed5230-ac88-4b7e-9b23-6ffd90d7c059\" xlink:show=\"new\" xlink:title=\"psysml:cbed5230-ac88-4b7e-9b23-6ffd90d7c059\" xlink:type=\"simple\"><rect fill=\"#FFFFFF\" height=\"160\" id=\"E3\" style=\"stroke: #383838; stroke-width: 1.5;\" width=\"120\" x=\"432\" y=\"68\"/><rect fill=\"#F8F8F8\" height=\"37.9375\" style=\"stroke: #383838; stroke-width: 1.5;\" width=\"120\" x=\"432\" y=\"68\"/><text fill=\"#000000\" font-family=\"sans-serif\" font-size=\"12\" font-style=\"italic\" lengthAdjust=\"spacingAndGlyphs\" textLength=\"64\" x=\"460\" y=\"84.1387\">«part def»</text><text fill=\"#000000\" font-family=\"sans-serif\" font-size=\"12\" lengthAdjust=\"spacingAndGlyphs\" textLength=\"8\" x=\"488\" y=\"98.1074\">A</text></a><!--MD5=[14e3b0961a2654348d326746436168a1]\n",
       "cluster E6--><a href=\"psysml:633af2d2-4d32-4996-ac04-a91fff2e720f\" target=\"_top\" title=\"psysml:633af2d2-4d32-4996-ac04-a91fff2e720f\" xlink:actuate=\"onRequest\" xlink:href=\"psysml:633af2d2-4d32-4996-ac04-a91fff2e720f\" xlink:show=\"new\" xlink:title=\"psysml:633af2d2-4d32-4996-ac04-a91fff2e720f\" xlink:type=\"simple\"><rect fill=\"#FFFFFF\" height=\"160\" id=\"E6\" style=\"stroke: #383838; stroke-width: 1.5;\" width=\"185\" x=\"239\" y=\"68\"/><rect fill=\"#F8F8F8\" height=\"37.9375\" style=\"stroke: #383838; stroke-width: 1.5;\" width=\"185\" x=\"239\" y=\"68\"/><text fill=\"#000000\" font-family=\"sans-serif\" font-size=\"12\" font-style=\"italic\" lengthAdjust=\"spacingAndGlyphs\" textLength=\"64\" x=\"299.5\" y=\"84.1387\">«part def»</text><text fill=\"#000000\" font-family=\"sans-serif\" font-size=\"12\" lengthAdjust=\"spacingAndGlyphs\" textLength=\"8\" x=\"327.5\" y=\"98.1074\">B</text></a><!--MD5=[96f4274e9e20536e775497830990834d]\n",
       "class E10--><a href=\"psysml:19a0d075-dfec-4a25-8f91-7b5bd5520f32\" target=\"_top\" title=\"psysml:19a0d075-dfec-4a25-8f91-7b5bd5520f32\" xlink:actuate=\"onRequest\" xlink:href=\"psysml:19a0d075-dfec-4a25-8f91-7b5bd5520f32\" xlink:show=\"new\" xlink:title=\"psysml:19a0d075-dfec-4a25-8f91-7b5bd5520f32\" xlink:type=\"simple\"><rect fill=\"#FFFFFF\" height=\"53.9375\" id=\"E10\" style=\"stroke: #383838; stroke-width: 1.5;\" width=\"114\" x=\"117\" y=\"41\"/><text fill=\"#000000\" font-family=\"sans-serif\" font-size=\"12\" font-style=\"italic\" lengthAdjust=\"spacingAndGlyphs\" textLength=\"112\" x=\"118\" y=\"57.1387\">«(T,blue)port def»</text><text fill=\"#000000\" font-family=\"sans-serif\" font-size=\"12\" lengthAdjust=\"spacingAndGlyphs\" textLength=\"8\" x=\"170\" y=\"71.1074\">C</text><line style=\"stroke: #383838; stroke-width: 1.5;\" x1=\"118\" x2=\"230\" y1=\"78.9375\" y2=\"78.9375\"/><line style=\"stroke: #383838; stroke-width: 1.5;\" x1=\"118\" x2=\"230\" y1=\"86.9375\" y2=\"86.9375\"/></a><g id=\"E1.E2\"><a href=\"psysml:20852434-d7cc-411e-aa3b-cae286a1f6f8\" target=\"_top\" title=\"psysml:20852434-d7cc-411e-aa3b-cae286a1f6f8\" xlink:actuate=\"onRequest\" xlink:href=\"psysml:20852434-d7cc-411e-aa3b-cae286a1f6f8\" xlink:show=\"new\" xlink:title=\"psysml:20852434-d7cc-411e-aa3b-cae286a1f6f8\" xlink:type=\"simple\"><rect fill=\"#FFFFFF\" height=\"40\" id=\"E2\" rx=\"10\" ry=\"10\" style=\"stroke: #383838; stroke-width: 1.5;\" width=\"50\" x=\"32\" y=\"48\"/><rect fill=\"#F8F8F8\" height=\"23.9688\" rx=\"10\" ry=\"10\" style=\"stroke: #F8F8F8; stroke-width: 1.5;\" width=\"50\" x=\"32\" y=\"48\"/><rect fill=\"#F8F8F8\" height=\"10\" style=\"stroke: #F8F8F8; stroke-width: 1.5;\" width=\"50\" x=\"32\" y=\"61.9688\"/><rect fill=\"none\" height=\"40\" id=\"E2\" rx=\"10\" ry=\"10\" style=\"stroke: #383838; stroke-width: 1.5;\" width=\"50\" x=\"32\" y=\"48\"/><text fill=\"#000000\" font-family=\"sans-serif\" font-size=\"12\" lengthAdjust=\"spacingAndGlyphs\" textLength=\"20\" x=\"47\" y=\"64.1387\">f: A</text></a></g><text fill=\"#000000\" font-family=\"sans-serif\" font-size=\"14\" lengthAdjust=\"spacingAndGlyphs\" textLength=\"27\" x=\"478.5\" y=\"46.6982\">c: C</text><rect fill=\"#383838\" height=\"12\" style=\"stroke: #F8F8F8; stroke-width: 1.5;\" width=\"12\" x=\"486\" y=\"62\"/><g id=\"E1.E3.E4\"><a href=\"psysml:1e20eef8-b16d-4a20-93fc-2b015416e79a\" target=\"_top\" title=\"psysml:1e20eef8-b16d-4a20-93fc-2b015416e79a\" xlink:actuate=\"onRequest\" xlink:href=\"psysml:1e20eef8-b16d-4a20-93fc-2b015416e79a\" xlink:show=\"new\" xlink:title=\"psysml:1e20eef8-b16d-4a20-93fc-2b015416e79a\" xlink:type=\"simple\"><rect fill=\"#FFFFFF\" height=\"40\" id=\"E4\" rx=\"10\" ry=\"10\" style=\"stroke: #383838; stroke-width: 1.5;\" width=\"50\" x=\"467\" y=\"172\"/><rect fill=\"#F8F8F8\" height=\"23.9688\" rx=\"10\" ry=\"10\" style=\"stroke: #F8F8F8; stroke-width: 1.5;\" width=\"50\" x=\"467\" y=\"172\"/><rect fill=\"#F8F8F8\" height=\"10\" style=\"stroke: #F8F8F8; stroke-width: 1.5;\" width=\"50\" x=\"467\" y=\"185.9688\"/><rect fill=\"none\" height=\"40\" id=\"E4\" rx=\"10\" ry=\"10\" style=\"stroke: #383838; stroke-width: 1.5;\" width=\"50\" x=\"467\" y=\"172\"/><text fill=\"#000000\" font-family=\"sans-serif\" font-size=\"12\" lengthAdjust=\"spacingAndGlyphs\" textLength=\"24\" x=\"480\" y=\"188.1387\">b: B</text></a></g><text fill=\"#000000\" font-family=\"sans-serif\" font-size=\"14\" lengthAdjust=\"spacingAndGlyphs\" textLength=\"38\" x=\"345\" y=\"46.6982\">x: ~C</text><rect fill=\"#383838\" height=\"12\" style=\"stroke: #F8F8F8; stroke-width: 1.5;\" width=\"12\" x=\"358\" y=\"62\"/><a href=\"psysml:fcdcf065-90d4-4da1-8b43-4feb0ab4c03b\" target=\"_top\" title=\"psysml:fcdcf065-90d4-4da1-8b43-4feb0ab4c03b\" xlink:actuate=\"onRequest\" xlink:href=\"psysml:fcdcf065-90d4-4da1-8b43-4feb0ab4c03b\" xlink:show=\"new\" xlink:title=\"psysml:fcdcf065-90d4-4da1-8b43-4feb0ab4c03b\" xlink:type=\"simple\"><polygon fill=\"#FFFFFF\" points=\"255,111,271,111,278,133.2969,285,133.2969,285,163.5938,255,163.5938,255,111\" style=\"stroke: #000000; stroke-width: 1.5;\"/><line style=\"stroke: #000000; stroke-width: 1.5;\" x1=\"255\" x2=\"278\" y1=\"133.2969\" y2=\"133.2969\"/><text fill=\"#000000\" font-family=\"sans-serif\" font-size=\"14\" font-weight=\"bold\" lengthAdjust=\"spacingAndGlyphs\" textLength=\"10\" x=\"259\" y=\"125.9951\">P</text></a><g id=\"E1.E6.E8\"><a href=\"psysml:adeac7a4-0c31-420e-b3fd-609062fb2f41\" target=\"_top\" title=\"psysml:adeac7a4-0c31-420e-b3fd-609062fb2f41\" xlink:actuate=\"onRequest\" xlink:href=\"psysml:adeac7a4-0c31-420e-b3fd-609062fb2f41\" xlink:show=\"new\" xlink:title=\"psysml:adeac7a4-0c31-420e-b3fd-609062fb2f41\" xlink:type=\"simple\"><rect fill=\"#FFFFFF\" height=\"40\" id=\"E8\" rx=\"10\" ry=\"10\" style=\"stroke: #383838; stroke-width: 1.5;\" width=\"50\" x=\"339\" y=\"172\"/><rect fill=\"#F8F8F8\" height=\"23.9688\" rx=\"10\" ry=\"10\" style=\"stroke: #F8F8F8; stroke-width: 1.5;\" width=\"50\" x=\"339\" y=\"172\"/><rect fill=\"#F8F8F8\" height=\"10\" style=\"stroke: #F8F8F8; stroke-width: 1.5;\" width=\"50\" x=\"339\" y=\"185.9688\"/><rect fill=\"none\" height=\"40\" id=\"E8\" rx=\"10\" ry=\"10\" style=\"stroke: #383838; stroke-width: 1.5;\" width=\"50\" x=\"339\" y=\"172\"/><text fill=\"#000000\" font-family=\"sans-serif\" font-size=\"12\" lengthAdjust=\"spacingAndGlyphs\" textLength=\"24\" x=\"352\" y=\"188.1387\">a: A</text></a></g><!--MD5=[2fb1835d2eaf8b820227adb1944adc4b]\n",
       "@startuml\r\n",
       "skinparam ranksep 8\r\n",
       "skinparam rectangle {\r\n",
       " backgroundColor<<block>> LightGreen\r\n",
       "}\r\n",
       "skinparam linetype ortho\r\n",
       "skinparam monochrome true\r\n",
       "skinparam classbackgroundcolor white\r\n",
       "skinparam shadowing false\r\n",
       "skinparam wrapWidth 300\r\n",
       "hide circle\r\n",
       "\r\n",
       "package \"BlockTest\" as E1  [[psysml:c0b99535-16c1-47cf-a8d5-3f20b133a54a ]]  {\r\n",
       "rec usage \"f: A\" as E2  [[psysml:20852434-d7cc-411e-aa3b-cae286a1f6f8 ]] {\r\n",
       "}\r\n",
       "rec def \"A\" as E3  <<(T,blue)part def>> [[psysml:cbed5230-ac88-4b7e-9b23-6ffd90d7c059 ]] {\r\n",
       "rec usage \"b: B\" as E4  [[psysml:1e20eef8-b16d-4a20-93fc-2b015416e79a ]] {\r\n",
       "}\r\n",
       "portin \"c: C\" as E5  <<(T,blue)port>> [[psysml:fb57aec8-8cad-41ed-886b-c51c957131e5 ]] \r\n",
       "}\r\n",
       "rec def \"B\" as E6  <<(T,blue)part def>> [[psysml:633af2d2-4d32-4996-ac04-a91fff2e720f ]] {\r\n",
       "package \"P\" as E7  [[psysml:fcdcf065-90d4-4da1-8b43-4feb0ab4c03b ]]  {\r\n",
       "}\r\n",
       "rec usage \"a: A\" as E8  [[psysml:adeac7a4-0c31-420e-b3fd-609062fb2f41 ]] {\r\n",
       "}\r\n",
       "portin \"x: ~C\" as E9  <<(T,blue)port>> [[psysml:64509ffc-1e29-47d8-8b93-efd607e70ae2 ]] \r\n",
       "}\r\n",
       "def \"C\" as E10  <<(T,blue)port def>> [[psysml:19a0d075-dfec-4a25-8f91-7b5bd5520f32 ]] \r\n",
       "}\r\n",
       "@enduml\r\n",
       "\n",
       "PlantUML version 1.2020.13(Sat Jun 13 12:26:38 UTC 2020)\n",
       "(EPL source distribution)\n",
       "Java Runtime: OpenJDK Runtime Environment\n",
       "JVM: OpenJDK 64-Bit Server VM\n",
       "Default Encoding: UTF-8\n",
       "Language: en\n",
       "Country: null\n",
       "--></g></svg>"
      ]
     },
     "execution_count": 54,
     "metadata": {},
     "output_type": "execute_result"
    }
   ],
   "source": [
    "%viz --style=\"ORTHOLINE\" --view=\"Interconnection\" \"BlockTest\""
   ]
  },
  {
   "cell_type": "code",
   "execution_count": 55,
   "id": "worse-concentration",
   "metadata": {
    "execution": {
     "iopub.execute_input": "2021-03-25T15:00:06.971797Z",
     "iopub.status.busy": "2021-03-25T15:00:06.971050Z",
     "iopub.status.idle": "2021-03-25T15:00:06.980141Z",
     "shell.execute_reply": "2021-03-25T15:00:06.980852Z"
    }
   },
   "outputs": [
    {
     "data": {
      "image/svg+xml": [
       "<?xml version=\"1.0\" encoding=\"UTF-8\" standalone=\"no\"?><svg xmlns=\"http://www.w3.org/2000/svg\" xmlns:xlink=\"http://www.w3.org/1999/xlink\" contentScriptType=\"application/ecmascript\" contentStyleType=\"text/css\" height=\"12px\" preserveAspectRatio=\"none\" style=\"width:12px;height:12px;\" version=\"1.1\" viewBox=\"0 0 12 12\" width=\"12px\" zoomAndPan=\"magnify\"><defs/><g><!--MD5=[72934c63077099a26744516a776b4749]\n",
       "@startuml\r\n",
       "skinparam ranksep 8\r\n",
       "skinparam linetype ortho\r\n",
       "skinparam monochrome true\r\n",
       "skinparam classbackgroundcolor white\r\n",
       "skinparam shadowing false\r\n",
       "skinparam wrapWidth 300\r\n",
       "hide circle\r\n",
       "\r\n",
       "@enduml\r\n",
       "\n",
       "PlantUML version 1.2020.13(Sat Jun 13 12:26:38 UTC 2020)\n",
       "(EPL source distribution)\n",
       "Java Runtime: OpenJDK Runtime Environment\n",
       "JVM: OpenJDK 64-Bit Server VM\n",
       "Default Encoding: UTF-8\n",
       "Language: en\n",
       "Country: null\n",
       "--></g></svg>"
      ]
     },
     "execution_count": 55,
     "metadata": {},
     "output_type": "execute_result"
    }
   ],
   "source": [
    "%viz --style=\"ORTHOLINE\" --view=\"Action\" \"BlockTest\""
   ]
  },
  {
   "cell_type": "code",
   "execution_count": 56,
   "id": "thousand-consultation",
   "metadata": {
    "execution": {
     "iopub.execute_input": "2021-03-25T15:00:07.031448Z",
     "iopub.status.busy": "2021-03-25T15:00:07.030912Z",
     "iopub.status.idle": "2021-03-25T15:00:07.543975Z",
     "shell.execute_reply": "2021-03-25T15:00:07.541348Z"
    }
   },
   "outputs": [
    {
     "data": {
      "image/svg+xml": [
       "<?xml version=\"1.0\" encoding=\"UTF-8\" standalone=\"no\"?><svg xmlns=\"http://www.w3.org/2000/svg\" xmlns:xlink=\"http://www.w3.org/1999/xlink\" contentScriptType=\"application/ecmascript\" contentStyleType=\"text/css\" height=\"672px\" preserveAspectRatio=\"none\" style=\"width:231px;height:672px;\" version=\"1.1\" viewBox=\"0 0 231 672\" width=\"231px\" zoomAndPan=\"magnify\"><defs/><g><!--MD5=[fbc87193dbaf4d95561dea2c320d4a47]\n",
       "cluster E1--><a href=\"psysml:c0b99535-16c1-47cf-a8d5-3f20b133a54a\" target=\"_top\" title=\"psysml:c0b99535-16c1-47cf-a8d5-3f20b133a54a\" xlink:actuate=\"onRequest\" xlink:href=\"psysml:c0b99535-16c1-47cf-a8d5-3f20b133a54a\" xlink:show=\"new\" xlink:title=\"psysml:c0b99535-16c1-47cf-a8d5-3f20b133a54a\" xlink:type=\"simple\"><polygon fill=\"#FFFFFF\" points=\"16,6,99,6,106,28.2969,209,28.2969,209,660,16,660,16,6\" style=\"stroke: #000000; stroke-width: 1.5;\"/><line style=\"stroke: #000000; stroke-width: 1.5;\" x1=\"16\" x2=\"106\" y1=\"28.2969\" y2=\"28.2969\"/><text fill=\"#000000\" font-family=\"sans-serif\" font-size=\"14\" font-weight=\"bold\" lengthAdjust=\"spacingAndGlyphs\" textLength=\"77\" x=\"20\" y=\"20.9951\">BlockTest</text></a><!--MD5=[b4997ac47864f28c2f74865a473b2911]\n",
       "class E2--><a href=\"psysml:20852434-d7cc-411e-aa3b-cae286a1f6f8\" target=\"_top\" title=\"psysml:20852434-d7cc-411e-aa3b-cae286a1f6f8\" xlink:actuate=\"onRequest\" xlink:href=\"psysml:20852434-d7cc-411e-aa3b-cae286a1f6f8\" xlink:show=\"new\" xlink:title=\"psysml:20852434-d7cc-411e-aa3b-cae286a1f6f8\" xlink:type=\"simple\"><rect fill=\"#FFFFFF\" height=\"45.9375\" id=\"E2\" rx=\"10\" ry=\"10\" style=\"stroke: #383838; stroke-width: 1.5;\" width=\"42\" x=\"151\" y=\"56\"/><text fill=\"#000000\" font-family=\"sans-serif\" font-size=\"12\" font-style=\"italic\" lengthAdjust=\"spacingAndGlyphs\" textLength=\"40\" x=\"152\" y=\"72.1387\">«part»</text><text fill=\"#000000\" font-family=\"sans-serif\" font-size=\"12\" lengthAdjust=\"spacingAndGlyphs\" textLength=\"20\" x=\"162\" y=\"86.1074\">f: A</text><line style=\"stroke: #383838; stroke-width: 1.5;\" x1=\"152\" x2=\"192\" y1=\"93.9375\" y2=\"93.9375\"/></a><!--MD5=[09b614a08d8cba4a07c9adeb5e0fee81]\n",
       "class E3--><a href=\"psysml:cbed5230-ac88-4b7e-9b23-6ffd90d7c059\" target=\"_top\" title=\"psysml:cbed5230-ac88-4b7e-9b23-6ffd90d7c059\" xlink:actuate=\"onRequest\" xlink:href=\"psysml:cbed5230-ac88-4b7e-9b23-6ffd90d7c059\" xlink:show=\"new\" xlink:title=\"psysml:cbed5230-ac88-4b7e-9b23-6ffd90d7c059\" xlink:type=\"simple\"><rect fill=\"#FFFFFF\" height=\"75.5469\" id=\"E3\" style=\"stroke: #383838; stroke-width: 1.5;\" width=\"66\" x=\"118\" y=\"194\"/><text fill=\"#000000\" font-family=\"sans-serif\" font-size=\"12\" font-style=\"italic\" lengthAdjust=\"spacingAndGlyphs\" textLength=\"64\" x=\"119\" y=\"210.1387\">«part def»</text><text fill=\"#000000\" font-family=\"sans-serif\" font-size=\"12\" lengthAdjust=\"spacingAndGlyphs\" textLength=\"8\" x=\"147\" y=\"224.1074\">A</text><line style=\"stroke: #383838; stroke-width: 1.5;\" x1=\"119\" x2=\"183\" y1=\"231.9375\" y2=\"231.9375\"/><text fill=\"#000000\" font-family=\"sans-serif\" font-size=\"11\" lengthAdjust=\"spacingAndGlyphs\" textLength=\"22\" x=\"124\" y=\"262.9526\">c: C</text><line style=\"stroke: #383838; stroke-width: 1.0;\" x1=\"119\" x2=\"136\" y1=\"246.3398\" y2=\"246.3398\"/><text fill=\"#000000\" font-family=\"sans-serif\" font-size=\"11\" lengthAdjust=\"spacingAndGlyphs\" textLength=\"30\" x=\"136\" y=\"249.6479\">ports</text><line style=\"stroke: #383838; stroke-width: 1.0;\" x1=\"166\" x2=\"183\" y1=\"246.3398\" y2=\"246.3398\"/></a><!--MD5=[ebbe1d658d1005bcc118a6aa81145e00]\n",
       "class E4--><a href=\"psysml:1e20eef8-b16d-4a20-93fc-2b015416e79a\" target=\"_top\" title=\"psysml:1e20eef8-b16d-4a20-93fc-2b015416e79a\" xlink:actuate=\"onRequest\" xlink:href=\"psysml:1e20eef8-b16d-4a20-93fc-2b015416e79a\" xlink:show=\"new\" xlink:title=\"psysml:1e20eef8-b16d-4a20-93fc-2b015416e79a\" xlink:type=\"simple\"><rect fill=\"#FFFFFF\" height=\"45.9375\" id=\"E4\" rx=\"10\" ry=\"10\" style=\"stroke: #383838; stroke-width: 1.5;\" width=\"42\" x=\"106\" y=\"347\"/><text fill=\"#000000\" font-family=\"sans-serif\" font-size=\"12\" font-style=\"italic\" lengthAdjust=\"spacingAndGlyphs\" textLength=\"40\" x=\"107\" y=\"363.1387\">«part»</text><text fill=\"#000000\" font-family=\"sans-serif\" font-size=\"12\" lengthAdjust=\"spacingAndGlyphs\" textLength=\"24\" x=\"115\" y=\"377.1074\">b: B</text><line style=\"stroke: #383838; stroke-width: 1.5;\" x1=\"107\" x2=\"147\" y1=\"384.9375\" y2=\"384.9375\"/></a><!--MD5=[60a26617385b1d2d0262a64233df1f8d]\n",
       "class E6--><a href=\"psysml:633af2d2-4d32-4996-ac04-a91fff2e720f\" target=\"_top\" title=\"psysml:633af2d2-4d32-4996-ac04-a91fff2e720f\" xlink:actuate=\"onRequest\" xlink:href=\"psysml:633af2d2-4d32-4996-ac04-a91fff2e720f\" xlink:show=\"new\" xlink:title=\"psysml:633af2d2-4d32-4996-ac04-a91fff2e720f\" xlink:type=\"simple\"><rect fill=\"#FFFFFF\" height=\"75.5469\" id=\"E6\" style=\"stroke: #383838; stroke-width: 1.5;\" width=\"66\" x=\"77\" y=\"454\"/><text fill=\"#000000\" font-family=\"sans-serif\" font-size=\"12\" font-style=\"italic\" lengthAdjust=\"spacingAndGlyphs\" textLength=\"64\" x=\"78\" y=\"470.1387\">«part def»</text><text fill=\"#000000\" font-family=\"sans-serif\" font-size=\"12\" lengthAdjust=\"spacingAndGlyphs\" textLength=\"8\" x=\"106\" y=\"484.1074\">B</text><line style=\"stroke: #383838; stroke-width: 1.5;\" x1=\"78\" x2=\"142\" y1=\"491.9375\" y2=\"491.9375\"/><text fill=\"#000000\" font-family=\"sans-serif\" font-size=\"11\" lengthAdjust=\"spacingAndGlyphs\" textLength=\"31\" x=\"83\" y=\"522.9526\">x: ~C</text><line style=\"stroke: #383838; stroke-width: 1.0;\" x1=\"78\" x2=\"95\" y1=\"506.3398\" y2=\"506.3398\"/><text fill=\"#000000\" font-family=\"sans-serif\" font-size=\"11\" lengthAdjust=\"spacingAndGlyphs\" textLength=\"30\" x=\"95\" y=\"509.6479\">ports</text><line style=\"stroke: #383838; stroke-width: 1.0;\" x1=\"125\" x2=\"142\" y1=\"506.3398\" y2=\"506.3398\"/></a><!--MD5=[b9389687b975829384b498ac4b7476b2]\n",
       "class E8--><a href=\"psysml:adeac7a4-0c31-420e-b3fd-609062fb2f41\" target=\"_top\" title=\"psysml:adeac7a4-0c31-420e-b3fd-609062fb2f41\" xlink:actuate=\"onRequest\" xlink:href=\"psysml:adeac7a4-0c31-420e-b3fd-609062fb2f41\" xlink:show=\"new\" xlink:title=\"psysml:adeac7a4-0c31-420e-b3fd-609062fb2f41\" xlink:type=\"simple\"><rect fill=\"#FFFFFF\" height=\"45.9375\" id=\"E8\" rx=\"10\" ry=\"10\" style=\"stroke: #383838; stroke-width: 1.5;\" width=\"42\" x=\"151\" y=\"594.5\"/><text fill=\"#000000\" font-family=\"sans-serif\" font-size=\"12\" font-style=\"italic\" lengthAdjust=\"spacingAndGlyphs\" textLength=\"40\" x=\"152\" y=\"610.6387\">«part»</text><text fill=\"#000000\" font-family=\"sans-serif\" font-size=\"12\" lengthAdjust=\"spacingAndGlyphs\" textLength=\"24\" x=\"160\" y=\"624.6074\">a: A</text><line style=\"stroke: #383838; stroke-width: 1.5;\" x1=\"152\" x2=\"192\" y1=\"632.4375\" y2=\"632.4375\"/></a><!--MD5=[96f4274e9e20536e775497830990834d]\n",
       "class E10--><a href=\"psysml:19a0d075-dfec-4a25-8f91-7b5bd5520f32\" target=\"_top\" title=\"psysml:19a0d075-dfec-4a25-8f91-7b5bd5520f32\" xlink:actuate=\"onRequest\" xlink:href=\"psysml:19a0d075-dfec-4a25-8f91-7b5bd5520f32\" xlink:show=\"new\" xlink:title=\"psysml:19a0d075-dfec-4a25-8f91-7b5bd5520f32\" xlink:type=\"simple\"><rect fill=\"#FFFFFF\" height=\"75.5469\" id=\"E10\" style=\"stroke: #383838; stroke-width: 1.5;\" width=\"84\" x=\"32\" y=\"41\"/><text fill=\"#000000\" font-family=\"sans-serif\" font-size=\"12\" font-style=\"italic\" lengthAdjust=\"spacingAndGlyphs\" textLength=\"64\" x=\"42\" y=\"57.1387\">«port def»</text><text fill=\"#000000\" font-family=\"sans-serif\" font-size=\"12\" lengthAdjust=\"spacingAndGlyphs\" textLength=\"8\" x=\"70\" y=\"71.1074\">C</text><line style=\"stroke: #383838; stroke-width: 1.5;\" x1=\"33\" x2=\"115\" y1=\"78.9375\" y2=\"78.9375\"/><text fill=\"#000000\" font-family=\"sans-serif\" font-size=\"11\" lengthAdjust=\"spacingAndGlyphs\" textLength=\"37\" x=\"38\" y=\"109.9526\">y: A, B</text><text fill=\"#000000\" font-family=\"sans-serif\" font-size=\"11\" font-weight=\"bold\" lengthAdjust=\"spacingAndGlyphs\" textLength=\"15\" x=\"79\" y=\"109.9526\">as</text><text fill=\"#000000\" font-family=\"sans-serif\" font-size=\"11\" lengthAdjust=\"spacingAndGlyphs\" textLength=\"12\" x=\"98\" y=\"109.9526\">z2</text><line style=\"stroke: #383838; stroke-width: 1.0;\" x1=\"33\" x2=\"43\" y1=\"93.3398\" y2=\"93.3398\"/><text fill=\"#000000\" font-family=\"sans-serif\" font-size=\"11\" lengthAdjust=\"spacingAndGlyphs\" textLength=\"62\" x=\"43\" y=\"96.6479\">references</text><line style=\"stroke: #383838; stroke-width: 1.0;\" x1=\"105\" x2=\"115\" y1=\"93.3398\" y2=\"93.3398\"/></a><a href=\"psysml:fcdcf065-90d4-4da1-8b43-4feb0ab4c03b\" target=\"_top\" title=\"psysml:fcdcf065-90d4-4da1-8b43-4feb0ab4c03b\" xlink:actuate=\"onRequest\" xlink:href=\"psysml:fcdcf065-90d4-4da1-8b43-4feb0ab4c03b\" xlink:show=\"new\" xlink:title=\"psysml:fcdcf065-90d4-4da1-8b43-4feb0ab4c03b\" xlink:type=\"simple\"><polygon fill=\"#FFFFFF\" points=\"86,591,102,591,109,613.2969,116,613.2969,116,643.5938,86,643.5938,86,591\" style=\"stroke: #000000; stroke-width: 1.5;\"/><line style=\"stroke: #000000; stroke-width: 1.5;\" x1=\"86\" x2=\"109\" y1=\"613.2969\" y2=\"613.2969\"/><text fill=\"#000000\" font-family=\"sans-serif\" font-size=\"14\" font-weight=\"bold\" lengthAdjust=\"spacingAndGlyphs\" textLength=\"10\" x=\"90\" y=\"605.9951\">P</text></a><!--MD5=[2720a5a1f2c3fca2055b230370638851]\n",
       "link E2 to E3--><a href=\"psysml:1f32f64a-cd2f-48b1-a0ff-85d8f5396f29\" target=\"_top\" title=\"psysml:1f32f64a-cd2f-48b1-a0ff-85d8f5396f29\" xlink:actuate=\"onRequest\" xlink:href=\"psysml:1f32f64a-cd2f-48b1-a0ff-85d8f5396f29\" xlink:show=\"new\" xlink:title=\"psysml:1f32f64a-cd2f-48b1-a0ff-85d8f5396f29\" xlink:type=\"simple\"><path d=\"M167.5,102.24 C167.5,102.24 167.5,173.94 167.5,173.94 \" fill=\"none\" id=\"E2-&gt;E3\" style=\"stroke: #383838; stroke-width: 1.0;\"/><polygon fill=\"#FFFFFF\" points=\"167.5,193.94,160.5,174.94,174.5,174.94,167.5,193.94\" style=\"stroke: #383838; stroke-width: 1.0;\"/><ellipse cx=\"162.5\" cy=\"169.24\" fill=\"#383838\" rx=\"2\" ry=\"2\" style=\"stroke: #383838; stroke-width: 1.0;\"/><ellipse cx=\"172.5\" cy=\"169.24\" fill=\"#383838\" rx=\"2\" ry=\"2\" style=\"stroke: #383838; stroke-width: 1.0;\"/></a><!--MD5=[4672eba38e49728da53d11aeb285b987]\n",
       "reverse link E3 to E4--><a href=\"psysml:1e20eef8-b16d-4a20-93fc-2b015416e79a\" target=\"_top\" title=\"psysml:1e20eef8-b16d-4a20-93fc-2b015416e79a\" xlink:actuate=\"onRequest\" xlink:href=\"psysml:1e20eef8-b16d-4a20-93fc-2b015416e79a\" xlink:show=\"new\" xlink:title=\"psysml:1e20eef8-b16d-4a20-93fc-2b015416e79a\" xlink:type=\"simple\"><path d=\"M133,283.07 C133,283.07 133,346.75 133,346.75 \" fill=\"none\" id=\"E3&lt;-E4\" style=\"stroke: #383838; stroke-width: 1.0;\"/><polygon fill=\"#383838\" points=\"133,270.07,129,276.07,133,282.07,137,276.07,133,270.07\" style=\"stroke: #383838; stroke-width: 1.0;\"/></a><!--MD5=[79568f1e445c3877b6a54524624ccc7d]\n",
       "link E4 to E6--><a href=\"psysml:97a379fd-51a7-461f-afe4-84a5f5da2292\" target=\"_top\" title=\"psysml:97a379fd-51a7-461f-afe4-84a5f5da2292\" xlink:actuate=\"onRequest\" xlink:href=\"psysml:97a379fd-51a7-461f-afe4-84a5f5da2292\" xlink:show=\"new\" xlink:title=\"psysml:97a379fd-51a7-461f-afe4-84a5f5da2292\" xlink:type=\"simple\"><path d=\"M124.5,393.23 C124.5,393.23 124.5,433.98 124.5,433.98 \" fill=\"none\" id=\"E4-&gt;E6\" style=\"stroke: #383838; stroke-width: 1.0;\"/><polygon fill=\"#FFFFFF\" points=\"124.5,453.98,117.5,434.98,131.5,434.98,124.5,453.98\" style=\"stroke: #383838; stroke-width: 1.0;\"/><ellipse cx=\"119.5\" cy=\"429.28\" fill=\"#383838\" rx=\"2\" ry=\"2\" style=\"stroke: #383838; stroke-width: 1.0;\"/><ellipse cx=\"129.5\" cy=\"429.28\" fill=\"#383838\" rx=\"2\" ry=\"2\" style=\"stroke: #383838; stroke-width: 1.0;\"/></a><!--MD5=[3f50a3473f1dfb74d3f76443e03635af]\n",
       "reverse link E6 to E7--><a href=\"psysml:fcdcf065-90d4-4da1-8b43-4feb0ab4c03b\" target=\"_top\" title=\"psysml:fcdcf065-90d4-4da1-8b43-4feb0ab4c03b\" xlink:actuate=\"onRequest\" xlink:href=\"psysml:fcdcf065-90d4-4da1-8b43-4feb0ab4c03b\" xlink:show=\"new\" xlink:title=\"psysml:fcdcf065-90d4-4da1-8b43-4feb0ab4c03b\" xlink:type=\"simple\"><path d=\"M101,545.34 C101,545.34 101,590.92 101,590.92 \" fill=\"none\" id=\"E6&lt;-E7\" style=\"stroke: #383838; stroke-width: 1.0;\"/><ellipse cx=\"101\" cy=\"538.34\" fill=\"#FFFFFF\" rx=\"8\" ry=\"8\" style=\"stroke: #383838; stroke-width: 1.0;\"/><line style=\"stroke: #383838; stroke-width: 1.0;\" x1=\"101\" x2=\"101\" y1=\"546.34\" y2=\"530.34\"/><line style=\"stroke: #383838; stroke-width: 1.0;\" x1=\"93\" x2=\"109\" y1=\"538.34\" y2=\"538.34\"/></a><!--MD5=[95fa686b5a16158bcdbcaeead89f639b]\n",
       "link E8 to E3--><a href=\"psysml:c8b02122-2142-456b-8199-9bf99e52168e\" target=\"_top\" title=\"psysml:c8b02122-2142-456b-8199-9bf99e52168e\" xlink:actuate=\"onRequest\" xlink:href=\"psysml:c8b02122-2142-456b-8199-9bf99e52168e\" xlink:show=\"new\" xlink:title=\"psysml:c8b02122-2142-456b-8199-9bf99e52168e\" xlink:type=\"simple\"><path d=\"M167.5,594.25 C167.5,594.25 167.5,290.03 167.5,290.03 \" fill=\"none\" id=\"E8-&gt;E3\" style=\"stroke: #383838; stroke-width: 1.0;\"/><polygon fill=\"#FFFFFF\" points=\"167.5,270.03,174.5,289.03,160.5,289.03,167.5,270.03\" style=\"stroke: #383838; stroke-width: 1.0;\"/><ellipse cx=\"172.5\" cy=\"294.73\" fill=\"#383838\" rx=\"2\" ry=\"2\" style=\"stroke: #383838; stroke-width: 1.0;\"/><ellipse cx=\"162.5\" cy=\"294.73\" fill=\"#383838\" rx=\"2\" ry=\"2\" style=\"stroke: #383838; stroke-width: 1.0;\"/></a><!--MD5=[f4cf0736d43fd73c4ef68817c49d37d5]\n",
       "reverse link E6 to E8--><a href=\"psysml:adeac7a4-0c31-420e-b3fd-609062fb2f41\" target=\"_top\" title=\"psysml:adeac7a4-0c31-420e-b3fd-609062fb2f41\" xlink:actuate=\"onRequest\" xlink:href=\"psysml:adeac7a4-0c31-420e-b3fd-609062fb2f41\" xlink:show=\"new\" xlink:title=\"psysml:adeac7a4-0c31-420e-b3fd-609062fb2f41\" xlink:type=\"simple\"><path d=\"M129.5,543.15 C129.5,543.15 129.5,618 129.5,618 C129.5,618 140.12,618 150.75,618 \" fill=\"none\" id=\"E6&lt;-E8\" style=\"stroke: #383838; stroke-width: 1.0;\"/><polygon fill=\"#383838\" points=\"129.5,530.15,125.5,536.15,129.5,542.15,133.5,536.15,129.5,530.15\" style=\"stroke: #383838; stroke-width: 1.0;\"/></a><!--MD5=[8e04057e7b3cbc0dca4fc78ea351e2da]\n",
       "reverse link E10 to E3--><a href=\"psysml:4b320237-d900-4f83-8ac2-28b55b9df163\" target=\"_top\" title=\"psysml:4b320237-d900-4f83-8ac2-28b55b9df163\" xlink:actuate=\"onRequest\" xlink:href=\"psysml:4b320237-d900-4f83-8ac2-28b55b9df163\" xlink:show=\"new\" xlink:title=\"psysml:4b320237-d900-4f83-8ac2-28b55b9df163\" xlink:type=\"simple\"><path d=\"M129.02,110 C129.02,110 134.5,110 134.5,110 C134.5,110 134.5,157.95 134.5,193.73 \" fill=\"none\" id=\"E10&lt;-E3\" style=\"stroke: #383838; stroke-width: 1.0;\"/><polygon fill=\"#FFFFFF\" points=\"116.02,110,122.02,114,128.02,110,122.02,106,116.02,110\" style=\"stroke: #383838; stroke-width: 1.0;\"/><text fill=\"#000000\" font-family=\"sans-serif\" font-size=\"13\" lengthAdjust=\"spacingAndGlyphs\" textLength=\"7\" x=\"141\" y=\"160.0669\">y</text></a><!--MD5=[604cbf994c02b74b117f728a71673cea]\n",
       "reverse link E10 to E6--><a href=\"psysml:4b320237-d900-4f83-8ac2-28b55b9df163\" target=\"_top\" title=\"psysml:4b320237-d900-4f83-8ac2-28b55b9df163\" xlink:actuate=\"onRequest\" xlink:href=\"psysml:4b320237-d900-4f83-8ac2-28b55b9df163\" xlink:show=\"new\" xlink:title=\"psysml:4b320237-d900-4f83-8ac2-28b55b9df163\" xlink:type=\"simple\"><path d=\"M91.5,130.11 C91.5,130.11 91.5,453.98 91.5,453.98 \" fill=\"none\" id=\"E10&lt;-E6\" style=\"stroke: #383838; stroke-width: 1.0;\"/><polygon fill=\"#FFFFFF\" points=\"91.5,117.11,87.5,123.11,91.5,129.11,95.5,123.11,91.5,117.11\" style=\"stroke: #383838; stroke-width: 1.0;\"/><text fill=\"#000000\" font-family=\"sans-serif\" font-size=\"13\" lengthAdjust=\"spacingAndGlyphs\" textLength=\"7\" x=\"71\" y=\"313.0669\">y</text></a><!--MD5=[0fd790a0489d9febdf1570df38114455]\n",
       "@startuml\r\n",
       "skinparam linetype ortho\r\n",
       "skinparam monochrome true\r\n",
       "skinparam classbackgroundcolor white\r\n",
       "skinparam shadowing false\r\n",
       "skinparam wrapWidth 300\r\n",
       "hide circle\r\n",
       "\r\n",
       "package \"BlockTest\" as E1  [[psysml:c0b99535-16c1-47cf-a8d5-3f20b133a54a ]]  {\r\n",
       "comp usage \"f: A\" as E2  <<(T,blue)part>> [[psysml:20852434-d7cc-411e-aa3b-cae286a1f6f8 ]] {\r\n",
       "}\r\n",
       "comp def \"A\" as E3  <<(T,blue)part def>> [[psysml:cbed5230-ac88-4b7e-9b23-6ffd90d7c059 ]] {\r\n",
       "- - ports - -\r\n",
       "c: C\r\n",
       "}\r\n",
       "comp usage \"b: B\" as E4  <<(T,blue)part>> [[psysml:1e20eef8-b16d-4a20-93fc-2b015416e79a ]] {\r\n",
       "}\r\n",
       "comp def \"B\" as E6  <<(T,blue)part def>> [[psysml:633af2d2-4d32-4996-ac04-a91fff2e720f ]] {\r\n",
       "- - ports - -\r\n",
       "x: ~C\r\n",
       "}\r\n",
       "package \"P\" as E7  [[psysml:fcdcf065-90d4-4da1-8b43-4feb0ab4c03b ]]  {\r\n",
       "}\r\n",
       "comp usage \"a: A\" as E8  <<(T,blue)part>> [[psysml:adeac7a4-0c31-420e-b3fd-609062fb2f41 ]] {\r\n",
       "}\r\n",
       "comp def \"C\" as E10  <<(T,blue)port def>> [[psysml:19a0d075-dfec-4a25-8f91-7b5bd5520f32 ]] {\r\n",
       "- - references - -\r\n",
       "y: A, B <b>as</b> z2 \r\n",
       "}\r\n",
       "E2 - -:|> E3 [[psysml:1f32f64a-cd2f-48b1-a0ff-85d8f5396f29 ]] \r\n",
       "E3 *- - E4 [[psysml:1e20eef8-b16d-4a20-93fc-2b015416e79a ]] \r\n",
       "E4 - -:|> E6 [[psysml:97a379fd-51a7-461f-afe4-84a5f5da2292 ]] \r\n",
       "E6 +- - E7 [[psysml:fcdcf065-90d4-4da1-8b43-4feb0ab4c03b ]] \r\n",
       "E8 - -:|> E3 [[psysml:c8b02122-2142-456b-8199-9bf99e52168e ]] \r\n",
       "E6 *- - E8 [[psysml:adeac7a4-0c31-420e-b3fd-609062fb2f41 ]] \r\n",
       "E10 o- - E3 [[psysml:4b320237-d900-4f83-8ac2-28b55b9df163 ]] : y\r\n",
       "E10 o- - E6 [[psysml:4b320237-d900-4f83-8ac2-28b55b9df163 ]] : y\r\n",
       "}\r\n",
       "@enduml\r\n",
       "\n",
       "PlantUML version 1.2020.13(Sat Jun 13 12:26:38 UTC 2020)\n",
       "(EPL source distribution)\n",
       "Java Runtime: OpenJDK Runtime Environment\n",
       "JVM: OpenJDK 64-Bit Server VM\n",
       "Default Encoding: UTF-8\n",
       "Language: en\n",
       "Country: null\n",
       "--></g></svg>"
      ]
     },
     "execution_count": 56,
     "metadata": {},
     "output_type": "execute_result"
    }
   ],
   "source": [
    "%viz --style=\"ORTHOLINE\" --view=\"Sequence\" \"BlockTest\""
   ]
  },
  {
   "cell_type": "code",
   "execution_count": 57,
   "id": "criminal-local",
   "metadata": {
    "execution": {
     "iopub.execute_input": "2021-03-25T15:00:07.602266Z",
     "iopub.status.busy": "2021-03-25T15:00:07.601783Z",
     "iopub.status.idle": "2021-03-25T15:00:08.065162Z",
     "shell.execute_reply": "2021-03-25T15:00:08.062835Z"
    }
   },
   "outputs": [
    {
     "data": {
      "image/svg+xml": [
       "<?xml version=\"1.0\" encoding=\"UTF-8\" standalone=\"no\"?><svg xmlns=\"http://www.w3.org/2000/svg\" xmlns:xlink=\"http://www.w3.org/1999/xlink\" contentScriptType=\"application/ecmascript\" contentStyleType=\"text/css\" height=\"672px\" preserveAspectRatio=\"none\" style=\"width:231px;height:672px;\" version=\"1.1\" viewBox=\"0 0 231 672\" width=\"231px\" zoomAndPan=\"magnify\"><defs/><g><!--MD5=[fbc87193dbaf4d95561dea2c320d4a47]\n",
       "cluster E1--><a href=\"psysml:c0b99535-16c1-47cf-a8d5-3f20b133a54a\" target=\"_top\" title=\"psysml:c0b99535-16c1-47cf-a8d5-3f20b133a54a\" xlink:actuate=\"onRequest\" xlink:href=\"psysml:c0b99535-16c1-47cf-a8d5-3f20b133a54a\" xlink:show=\"new\" xlink:title=\"psysml:c0b99535-16c1-47cf-a8d5-3f20b133a54a\" xlink:type=\"simple\"><polygon fill=\"#FFFFFF\" points=\"16,6,99,6,106,28.2969,209,28.2969,209,660,16,660,16,6\" style=\"stroke: #000000; stroke-width: 1.5;\"/><line style=\"stroke: #000000; stroke-width: 1.5;\" x1=\"16\" x2=\"106\" y1=\"28.2969\" y2=\"28.2969\"/><text fill=\"#000000\" font-family=\"sans-serif\" font-size=\"14\" font-weight=\"bold\" lengthAdjust=\"spacingAndGlyphs\" textLength=\"77\" x=\"20\" y=\"20.9951\">BlockTest</text></a><!--MD5=[b4997ac47864f28c2f74865a473b2911]\n",
       "class E2--><a href=\"psysml:20852434-d7cc-411e-aa3b-cae286a1f6f8\" target=\"_top\" title=\"psysml:20852434-d7cc-411e-aa3b-cae286a1f6f8\" xlink:actuate=\"onRequest\" xlink:href=\"psysml:20852434-d7cc-411e-aa3b-cae286a1f6f8\" xlink:show=\"new\" xlink:title=\"psysml:20852434-d7cc-411e-aa3b-cae286a1f6f8\" xlink:type=\"simple\"><rect fill=\"#FFFFFF\" height=\"45.9375\" id=\"E2\" rx=\"10\" ry=\"10\" style=\"stroke: #383838; stroke-width: 1.5;\" width=\"42\" x=\"151\" y=\"56\"/><text fill=\"#000000\" font-family=\"sans-serif\" font-size=\"12\" font-style=\"italic\" lengthAdjust=\"spacingAndGlyphs\" textLength=\"40\" x=\"152\" y=\"72.1387\">«part»</text><text fill=\"#000000\" font-family=\"sans-serif\" font-size=\"12\" lengthAdjust=\"spacingAndGlyphs\" textLength=\"20\" x=\"162\" y=\"86.1074\">f: A</text><line style=\"stroke: #383838; stroke-width: 1.5;\" x1=\"152\" x2=\"192\" y1=\"93.9375\" y2=\"93.9375\"/></a><!--MD5=[09b614a08d8cba4a07c9adeb5e0fee81]\n",
       "class E3--><a href=\"psysml:cbed5230-ac88-4b7e-9b23-6ffd90d7c059\" target=\"_top\" title=\"psysml:cbed5230-ac88-4b7e-9b23-6ffd90d7c059\" xlink:actuate=\"onRequest\" xlink:href=\"psysml:cbed5230-ac88-4b7e-9b23-6ffd90d7c059\" xlink:show=\"new\" xlink:title=\"psysml:cbed5230-ac88-4b7e-9b23-6ffd90d7c059\" xlink:type=\"simple\"><rect fill=\"#FFFFFF\" height=\"75.5469\" id=\"E3\" style=\"stroke: #383838; stroke-width: 1.5;\" width=\"66\" x=\"118\" y=\"194\"/><text fill=\"#000000\" font-family=\"sans-serif\" font-size=\"12\" font-style=\"italic\" lengthAdjust=\"spacingAndGlyphs\" textLength=\"64\" x=\"119\" y=\"210.1387\">«part def»</text><text fill=\"#000000\" font-family=\"sans-serif\" font-size=\"12\" lengthAdjust=\"spacingAndGlyphs\" textLength=\"8\" x=\"147\" y=\"224.1074\">A</text><line style=\"stroke: #383838; stroke-width: 1.5;\" x1=\"119\" x2=\"183\" y1=\"231.9375\" y2=\"231.9375\"/><text fill=\"#000000\" font-family=\"sans-serif\" font-size=\"11\" lengthAdjust=\"spacingAndGlyphs\" textLength=\"22\" x=\"124\" y=\"262.9526\">c: C</text><line style=\"stroke: #383838; stroke-width: 1.0;\" x1=\"119\" x2=\"136\" y1=\"246.3398\" y2=\"246.3398\"/><text fill=\"#000000\" font-family=\"sans-serif\" font-size=\"11\" lengthAdjust=\"spacingAndGlyphs\" textLength=\"30\" x=\"136\" y=\"249.6479\">ports</text><line style=\"stroke: #383838; stroke-width: 1.0;\" x1=\"166\" x2=\"183\" y1=\"246.3398\" y2=\"246.3398\"/></a><!--MD5=[ebbe1d658d1005bcc118a6aa81145e00]\n",
       "class E4--><a href=\"psysml:1e20eef8-b16d-4a20-93fc-2b015416e79a\" target=\"_top\" title=\"psysml:1e20eef8-b16d-4a20-93fc-2b015416e79a\" xlink:actuate=\"onRequest\" xlink:href=\"psysml:1e20eef8-b16d-4a20-93fc-2b015416e79a\" xlink:show=\"new\" xlink:title=\"psysml:1e20eef8-b16d-4a20-93fc-2b015416e79a\" xlink:type=\"simple\"><rect fill=\"#FFFFFF\" height=\"45.9375\" id=\"E4\" rx=\"10\" ry=\"10\" style=\"stroke: #383838; stroke-width: 1.5;\" width=\"42\" x=\"106\" y=\"347\"/><text fill=\"#000000\" font-family=\"sans-serif\" font-size=\"12\" font-style=\"italic\" lengthAdjust=\"spacingAndGlyphs\" textLength=\"40\" x=\"107\" y=\"363.1387\">«part»</text><text fill=\"#000000\" font-family=\"sans-serif\" font-size=\"12\" lengthAdjust=\"spacingAndGlyphs\" textLength=\"24\" x=\"115\" y=\"377.1074\">b: B</text><line style=\"stroke: #383838; stroke-width: 1.5;\" x1=\"107\" x2=\"147\" y1=\"384.9375\" y2=\"384.9375\"/></a><!--MD5=[60a26617385b1d2d0262a64233df1f8d]\n",
       "class E6--><a href=\"psysml:633af2d2-4d32-4996-ac04-a91fff2e720f\" target=\"_top\" title=\"psysml:633af2d2-4d32-4996-ac04-a91fff2e720f\" xlink:actuate=\"onRequest\" xlink:href=\"psysml:633af2d2-4d32-4996-ac04-a91fff2e720f\" xlink:show=\"new\" xlink:title=\"psysml:633af2d2-4d32-4996-ac04-a91fff2e720f\" xlink:type=\"simple\"><rect fill=\"#FFFFFF\" height=\"75.5469\" id=\"E6\" style=\"stroke: #383838; stroke-width: 1.5;\" width=\"66\" x=\"77\" y=\"454\"/><text fill=\"#000000\" font-family=\"sans-serif\" font-size=\"12\" font-style=\"italic\" lengthAdjust=\"spacingAndGlyphs\" textLength=\"64\" x=\"78\" y=\"470.1387\">«part def»</text><text fill=\"#000000\" font-family=\"sans-serif\" font-size=\"12\" lengthAdjust=\"spacingAndGlyphs\" textLength=\"8\" x=\"106\" y=\"484.1074\">B</text><line style=\"stroke: #383838; stroke-width: 1.5;\" x1=\"78\" x2=\"142\" y1=\"491.9375\" y2=\"491.9375\"/><text fill=\"#000000\" font-family=\"sans-serif\" font-size=\"11\" lengthAdjust=\"spacingAndGlyphs\" textLength=\"31\" x=\"83\" y=\"522.9526\">x: ~C</text><line style=\"stroke: #383838; stroke-width: 1.0;\" x1=\"78\" x2=\"95\" y1=\"506.3398\" y2=\"506.3398\"/><text fill=\"#000000\" font-family=\"sans-serif\" font-size=\"11\" lengthAdjust=\"spacingAndGlyphs\" textLength=\"30\" x=\"95\" y=\"509.6479\">ports</text><line style=\"stroke: #383838; stroke-width: 1.0;\" x1=\"125\" x2=\"142\" y1=\"506.3398\" y2=\"506.3398\"/></a><!--MD5=[b9389687b975829384b498ac4b7476b2]\n",
       "class E8--><a href=\"psysml:adeac7a4-0c31-420e-b3fd-609062fb2f41\" target=\"_top\" title=\"psysml:adeac7a4-0c31-420e-b3fd-609062fb2f41\" xlink:actuate=\"onRequest\" xlink:href=\"psysml:adeac7a4-0c31-420e-b3fd-609062fb2f41\" xlink:show=\"new\" xlink:title=\"psysml:adeac7a4-0c31-420e-b3fd-609062fb2f41\" xlink:type=\"simple\"><rect fill=\"#FFFFFF\" height=\"45.9375\" id=\"E8\" rx=\"10\" ry=\"10\" style=\"stroke: #383838; stroke-width: 1.5;\" width=\"42\" x=\"151\" y=\"594.5\"/><text fill=\"#000000\" font-family=\"sans-serif\" font-size=\"12\" font-style=\"italic\" lengthAdjust=\"spacingAndGlyphs\" textLength=\"40\" x=\"152\" y=\"610.6387\">«part»</text><text fill=\"#000000\" font-family=\"sans-serif\" font-size=\"12\" lengthAdjust=\"spacingAndGlyphs\" textLength=\"24\" x=\"160\" y=\"624.6074\">a: A</text><line style=\"stroke: #383838; stroke-width: 1.5;\" x1=\"152\" x2=\"192\" y1=\"632.4375\" y2=\"632.4375\"/></a><!--MD5=[96f4274e9e20536e775497830990834d]\n",
       "class E10--><a href=\"psysml:19a0d075-dfec-4a25-8f91-7b5bd5520f32\" target=\"_top\" title=\"psysml:19a0d075-dfec-4a25-8f91-7b5bd5520f32\" xlink:actuate=\"onRequest\" xlink:href=\"psysml:19a0d075-dfec-4a25-8f91-7b5bd5520f32\" xlink:show=\"new\" xlink:title=\"psysml:19a0d075-dfec-4a25-8f91-7b5bd5520f32\" xlink:type=\"simple\"><rect fill=\"#FFFFFF\" height=\"75.5469\" id=\"E10\" style=\"stroke: #383838; stroke-width: 1.5;\" width=\"84\" x=\"32\" y=\"41\"/><text fill=\"#000000\" font-family=\"sans-serif\" font-size=\"12\" font-style=\"italic\" lengthAdjust=\"spacingAndGlyphs\" textLength=\"64\" x=\"42\" y=\"57.1387\">«port def»</text><text fill=\"#000000\" font-family=\"sans-serif\" font-size=\"12\" lengthAdjust=\"spacingAndGlyphs\" textLength=\"8\" x=\"70\" y=\"71.1074\">C</text><line style=\"stroke: #383838; stroke-width: 1.5;\" x1=\"33\" x2=\"115\" y1=\"78.9375\" y2=\"78.9375\"/><text fill=\"#000000\" font-family=\"sans-serif\" font-size=\"11\" lengthAdjust=\"spacingAndGlyphs\" textLength=\"37\" x=\"38\" y=\"109.9526\">y: A, B</text><text fill=\"#000000\" font-family=\"sans-serif\" font-size=\"11\" font-weight=\"bold\" lengthAdjust=\"spacingAndGlyphs\" textLength=\"15\" x=\"79\" y=\"109.9526\">as</text><text fill=\"#000000\" font-family=\"sans-serif\" font-size=\"11\" lengthAdjust=\"spacingAndGlyphs\" textLength=\"12\" x=\"98\" y=\"109.9526\">z2</text><line style=\"stroke: #383838; stroke-width: 1.0;\" x1=\"33\" x2=\"43\" y1=\"93.3398\" y2=\"93.3398\"/><text fill=\"#000000\" font-family=\"sans-serif\" font-size=\"11\" lengthAdjust=\"spacingAndGlyphs\" textLength=\"62\" x=\"43\" y=\"96.6479\">references</text><line style=\"stroke: #383838; stroke-width: 1.0;\" x1=\"105\" x2=\"115\" y1=\"93.3398\" y2=\"93.3398\"/></a><a href=\"psysml:fcdcf065-90d4-4da1-8b43-4feb0ab4c03b\" target=\"_top\" title=\"psysml:fcdcf065-90d4-4da1-8b43-4feb0ab4c03b\" xlink:actuate=\"onRequest\" xlink:href=\"psysml:fcdcf065-90d4-4da1-8b43-4feb0ab4c03b\" xlink:show=\"new\" xlink:title=\"psysml:fcdcf065-90d4-4da1-8b43-4feb0ab4c03b\" xlink:type=\"simple\"><polygon fill=\"#FFFFFF\" points=\"86,591,102,591,109,613.2969,116,613.2969,116,643.5938,86,643.5938,86,591\" style=\"stroke: #000000; stroke-width: 1.5;\"/><line style=\"stroke: #000000; stroke-width: 1.5;\" x1=\"86\" x2=\"109\" y1=\"613.2969\" y2=\"613.2969\"/><text fill=\"#000000\" font-family=\"sans-serif\" font-size=\"14\" font-weight=\"bold\" lengthAdjust=\"spacingAndGlyphs\" textLength=\"10\" x=\"90\" y=\"605.9951\">P</text></a><!--MD5=[2720a5a1f2c3fca2055b230370638851]\n",
       "link E2 to E3--><a href=\"psysml:1f32f64a-cd2f-48b1-a0ff-85d8f5396f29\" target=\"_top\" title=\"psysml:1f32f64a-cd2f-48b1-a0ff-85d8f5396f29\" xlink:actuate=\"onRequest\" xlink:href=\"psysml:1f32f64a-cd2f-48b1-a0ff-85d8f5396f29\" xlink:show=\"new\" xlink:title=\"psysml:1f32f64a-cd2f-48b1-a0ff-85d8f5396f29\" xlink:type=\"simple\"><path d=\"M167.5,102.24 C167.5,102.24 167.5,173.94 167.5,173.94 \" fill=\"none\" id=\"E2-&gt;E3\" style=\"stroke: #383838; stroke-width: 1.0;\"/><polygon fill=\"#FFFFFF\" points=\"167.5,193.94,160.5,174.94,174.5,174.94,167.5,193.94\" style=\"stroke: #383838; stroke-width: 1.0;\"/><ellipse cx=\"162.5\" cy=\"169.24\" fill=\"#383838\" rx=\"2\" ry=\"2\" style=\"stroke: #383838; stroke-width: 1.0;\"/><ellipse cx=\"172.5\" cy=\"169.24\" fill=\"#383838\" rx=\"2\" ry=\"2\" style=\"stroke: #383838; stroke-width: 1.0;\"/></a><!--MD5=[4672eba38e49728da53d11aeb285b987]\n",
       "reverse link E3 to E4--><a href=\"psysml:1e20eef8-b16d-4a20-93fc-2b015416e79a\" target=\"_top\" title=\"psysml:1e20eef8-b16d-4a20-93fc-2b015416e79a\" xlink:actuate=\"onRequest\" xlink:href=\"psysml:1e20eef8-b16d-4a20-93fc-2b015416e79a\" xlink:show=\"new\" xlink:title=\"psysml:1e20eef8-b16d-4a20-93fc-2b015416e79a\" xlink:type=\"simple\"><path d=\"M133,283.07 C133,283.07 133,346.75 133,346.75 \" fill=\"none\" id=\"E3&lt;-E4\" style=\"stroke: #383838; stroke-width: 1.0;\"/><polygon fill=\"#383838\" points=\"133,270.07,129,276.07,133,282.07,137,276.07,133,270.07\" style=\"stroke: #383838; stroke-width: 1.0;\"/></a><!--MD5=[79568f1e445c3877b6a54524624ccc7d]\n",
       "link E4 to E6--><a href=\"psysml:97a379fd-51a7-461f-afe4-84a5f5da2292\" target=\"_top\" title=\"psysml:97a379fd-51a7-461f-afe4-84a5f5da2292\" xlink:actuate=\"onRequest\" xlink:href=\"psysml:97a379fd-51a7-461f-afe4-84a5f5da2292\" xlink:show=\"new\" xlink:title=\"psysml:97a379fd-51a7-461f-afe4-84a5f5da2292\" xlink:type=\"simple\"><path d=\"M124.5,393.23 C124.5,393.23 124.5,433.98 124.5,433.98 \" fill=\"none\" id=\"E4-&gt;E6\" style=\"stroke: #383838; stroke-width: 1.0;\"/><polygon fill=\"#FFFFFF\" points=\"124.5,453.98,117.5,434.98,131.5,434.98,124.5,453.98\" style=\"stroke: #383838; stroke-width: 1.0;\"/><ellipse cx=\"119.5\" cy=\"429.28\" fill=\"#383838\" rx=\"2\" ry=\"2\" style=\"stroke: #383838; stroke-width: 1.0;\"/><ellipse cx=\"129.5\" cy=\"429.28\" fill=\"#383838\" rx=\"2\" ry=\"2\" style=\"stroke: #383838; stroke-width: 1.0;\"/></a><!--MD5=[3f50a3473f1dfb74d3f76443e03635af]\n",
       "reverse link E6 to E7--><a href=\"psysml:fcdcf065-90d4-4da1-8b43-4feb0ab4c03b\" target=\"_top\" title=\"psysml:fcdcf065-90d4-4da1-8b43-4feb0ab4c03b\" xlink:actuate=\"onRequest\" xlink:href=\"psysml:fcdcf065-90d4-4da1-8b43-4feb0ab4c03b\" xlink:show=\"new\" xlink:title=\"psysml:fcdcf065-90d4-4da1-8b43-4feb0ab4c03b\" xlink:type=\"simple\"><path d=\"M101,545.34 C101,545.34 101,590.92 101,590.92 \" fill=\"none\" id=\"E6&lt;-E7\" style=\"stroke: #383838; stroke-width: 1.0;\"/><ellipse cx=\"101\" cy=\"538.34\" fill=\"#FFFFFF\" rx=\"8\" ry=\"8\" style=\"stroke: #383838; stroke-width: 1.0;\"/><line style=\"stroke: #383838; stroke-width: 1.0;\" x1=\"101\" x2=\"101\" y1=\"546.34\" y2=\"530.34\"/><line style=\"stroke: #383838; stroke-width: 1.0;\" x1=\"93\" x2=\"109\" y1=\"538.34\" y2=\"538.34\"/></a><!--MD5=[95fa686b5a16158bcdbcaeead89f639b]\n",
       "link E8 to E3--><a href=\"psysml:c8b02122-2142-456b-8199-9bf99e52168e\" target=\"_top\" title=\"psysml:c8b02122-2142-456b-8199-9bf99e52168e\" xlink:actuate=\"onRequest\" xlink:href=\"psysml:c8b02122-2142-456b-8199-9bf99e52168e\" xlink:show=\"new\" xlink:title=\"psysml:c8b02122-2142-456b-8199-9bf99e52168e\" xlink:type=\"simple\"><path d=\"M167.5,594.25 C167.5,594.25 167.5,290.03 167.5,290.03 \" fill=\"none\" id=\"E8-&gt;E3\" style=\"stroke: #383838; stroke-width: 1.0;\"/><polygon fill=\"#FFFFFF\" points=\"167.5,270.03,174.5,289.03,160.5,289.03,167.5,270.03\" style=\"stroke: #383838; stroke-width: 1.0;\"/><ellipse cx=\"172.5\" cy=\"294.73\" fill=\"#383838\" rx=\"2\" ry=\"2\" style=\"stroke: #383838; stroke-width: 1.0;\"/><ellipse cx=\"162.5\" cy=\"294.73\" fill=\"#383838\" rx=\"2\" ry=\"2\" style=\"stroke: #383838; stroke-width: 1.0;\"/></a><!--MD5=[f4cf0736d43fd73c4ef68817c49d37d5]\n",
       "reverse link E6 to E8--><a href=\"psysml:adeac7a4-0c31-420e-b3fd-609062fb2f41\" target=\"_top\" title=\"psysml:adeac7a4-0c31-420e-b3fd-609062fb2f41\" xlink:actuate=\"onRequest\" xlink:href=\"psysml:adeac7a4-0c31-420e-b3fd-609062fb2f41\" xlink:show=\"new\" xlink:title=\"psysml:adeac7a4-0c31-420e-b3fd-609062fb2f41\" xlink:type=\"simple\"><path d=\"M129.5,543.15 C129.5,543.15 129.5,618 129.5,618 C129.5,618 140.12,618 150.75,618 \" fill=\"none\" id=\"E6&lt;-E8\" style=\"stroke: #383838; stroke-width: 1.0;\"/><polygon fill=\"#383838\" points=\"129.5,530.15,125.5,536.15,129.5,542.15,133.5,536.15,129.5,530.15\" style=\"stroke: #383838; stroke-width: 1.0;\"/></a><!--MD5=[8e04057e7b3cbc0dca4fc78ea351e2da]\n",
       "reverse link E10 to E3--><a href=\"psysml:4b320237-d900-4f83-8ac2-28b55b9df163\" target=\"_top\" title=\"psysml:4b320237-d900-4f83-8ac2-28b55b9df163\" xlink:actuate=\"onRequest\" xlink:href=\"psysml:4b320237-d900-4f83-8ac2-28b55b9df163\" xlink:show=\"new\" xlink:title=\"psysml:4b320237-d900-4f83-8ac2-28b55b9df163\" xlink:type=\"simple\"><path d=\"M129.02,110 C129.02,110 134.5,110 134.5,110 C134.5,110 134.5,157.95 134.5,193.73 \" fill=\"none\" id=\"E10&lt;-E3\" style=\"stroke: #383838; stroke-width: 1.0;\"/><polygon fill=\"#FFFFFF\" points=\"116.02,110,122.02,114,128.02,110,122.02,106,116.02,110\" style=\"stroke: #383838; stroke-width: 1.0;\"/><text fill=\"#000000\" font-family=\"sans-serif\" font-size=\"13\" lengthAdjust=\"spacingAndGlyphs\" textLength=\"7\" x=\"141\" y=\"160.0669\">y</text></a><!--MD5=[604cbf994c02b74b117f728a71673cea]\n",
       "reverse link E10 to E6--><a href=\"psysml:4b320237-d900-4f83-8ac2-28b55b9df163\" target=\"_top\" title=\"psysml:4b320237-d900-4f83-8ac2-28b55b9df163\" xlink:actuate=\"onRequest\" xlink:href=\"psysml:4b320237-d900-4f83-8ac2-28b55b9df163\" xlink:show=\"new\" xlink:title=\"psysml:4b320237-d900-4f83-8ac2-28b55b9df163\" xlink:type=\"simple\"><path d=\"M91.5,130.11 C91.5,130.11 91.5,453.98 91.5,453.98 \" fill=\"none\" id=\"E10&lt;-E6\" style=\"stroke: #383838; stroke-width: 1.0;\"/><polygon fill=\"#FFFFFF\" points=\"91.5,117.11,87.5,123.11,91.5,129.11,95.5,123.11,91.5,117.11\" style=\"stroke: #383838; stroke-width: 1.0;\"/><text fill=\"#000000\" font-family=\"sans-serif\" font-size=\"13\" lengthAdjust=\"spacingAndGlyphs\" textLength=\"7\" x=\"71\" y=\"313.0669\">y</text></a><!--MD5=[0fd790a0489d9febdf1570df38114455]\n",
       "@startuml\r\n",
       "skinparam linetype ortho\r\n",
       "skinparam monochrome true\r\n",
       "skinparam classbackgroundcolor white\r\n",
       "skinparam shadowing false\r\n",
       "skinparam wrapWidth 300\r\n",
       "hide circle\r\n",
       "\r\n",
       "package \"BlockTest\" as E1  [[psysml:c0b99535-16c1-47cf-a8d5-3f20b133a54a ]]  {\r\n",
       "comp usage \"f: A\" as E2  <<(T,blue)part>> [[psysml:20852434-d7cc-411e-aa3b-cae286a1f6f8 ]] {\r\n",
       "}\r\n",
       "comp def \"A\" as E3  <<(T,blue)part def>> [[psysml:cbed5230-ac88-4b7e-9b23-6ffd90d7c059 ]] {\r\n",
       "- - ports - -\r\n",
       "c: C\r\n",
       "}\r\n",
       "comp usage \"b: B\" as E4  <<(T,blue)part>> [[psysml:1e20eef8-b16d-4a20-93fc-2b015416e79a ]] {\r\n",
       "}\r\n",
       "comp def \"B\" as E6  <<(T,blue)part def>> [[psysml:633af2d2-4d32-4996-ac04-a91fff2e720f ]] {\r\n",
       "- - ports - -\r\n",
       "x: ~C\r\n",
       "}\r\n",
       "package \"P\" as E7  [[psysml:fcdcf065-90d4-4da1-8b43-4feb0ab4c03b ]]  {\r\n",
       "}\r\n",
       "comp usage \"a: A\" as E8  <<(T,blue)part>> [[psysml:adeac7a4-0c31-420e-b3fd-609062fb2f41 ]] {\r\n",
       "}\r\n",
       "comp def \"C\" as E10  <<(T,blue)port def>> [[psysml:19a0d075-dfec-4a25-8f91-7b5bd5520f32 ]] {\r\n",
       "- - references - -\r\n",
       "y: A, B <b>as</b> z2 \r\n",
       "}\r\n",
       "E2 - -:|> E3 [[psysml:1f32f64a-cd2f-48b1-a0ff-85d8f5396f29 ]] \r\n",
       "E3 *- - E4 [[psysml:1e20eef8-b16d-4a20-93fc-2b015416e79a ]] \r\n",
       "E4 - -:|> E6 [[psysml:97a379fd-51a7-461f-afe4-84a5f5da2292 ]] \r\n",
       "E6 +- - E7 [[psysml:fcdcf065-90d4-4da1-8b43-4feb0ab4c03b ]] \r\n",
       "E8 - -:|> E3 [[psysml:c8b02122-2142-456b-8199-9bf99e52168e ]] \r\n",
       "E6 *- - E8 [[psysml:adeac7a4-0c31-420e-b3fd-609062fb2f41 ]] \r\n",
       "E10 o- - E3 [[psysml:4b320237-d900-4f83-8ac2-28b55b9df163 ]] : y\r\n",
       "E10 o- - E6 [[psysml:4b320237-d900-4f83-8ac2-28b55b9df163 ]] : y\r\n",
       "}\r\n",
       "@enduml\r\n",
       "\n",
       "PlantUML version 1.2020.13(Sat Jun 13 12:26:38 UTC 2020)\n",
       "(EPL source distribution)\n",
       "Java Runtime: OpenJDK Runtime Environment\n",
       "JVM: OpenJDK 64-Bit Server VM\n",
       "Default Encoding: UTF-8\n",
       "Language: en\n",
       "Country: null\n",
       "--></g></svg>"
      ]
     },
     "execution_count": 57,
     "metadata": {},
     "output_type": "execute_result"
    }
   ],
   "source": [
    "%viz --style=\"ORTHOLINE\" --view=\"MIXED\" \"BlockTest\""
   ]
  }
 ],
 "metadata": {
  "kernelspec": {
   "display_name": "SysML",
   "language": "sysml",
   "name": "sysml"
  },
  "language_info": {
   "codemirror_mode": "sysml",
   "file_extension": ".sysml",
   "mimetype": "text/x-sysml",
   "name": "SysML",
   "pygments_lexer": "java",
   "version": "1.0.0"
  }
 },
 "nbformat": 4,
 "nbformat_minor": 5
}
