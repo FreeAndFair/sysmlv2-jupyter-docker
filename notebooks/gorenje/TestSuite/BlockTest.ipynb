{
 "cells": [
  {
   "cell_type": "markdown",
   "id": "south-hunger",
   "metadata": {},
   "source": [
    "# SysML v2 Test Suite\n",
    "\n",
    "This can notebook can be cleared using menu `Edit --> Clear All Outputs` and then all cells can be\n",
    "run using menu `Run --> Run All Cells`.\n",
    "\n",
    "**WARNING**: This file is generated, all modifications here will be ignored.\n"
   ]
  },
  {
   "cell_type": "markdown",
   "id": "excessive-optimum",
   "metadata": {},
   "source": [
    "## File: ../../sysml/src/examples/Simple Tests/BlockTest.sysml"
   ]
  },
  {
   "cell_type": "code",
   "execution_count": 1,
   "id": "settled-seminar",
   "metadata": {
    "execution": {
     "iopub.execute_input": "2021-03-26T12:07:35.619199Z",
     "iopub.status.busy": "2021-03-26T12:07:35.617517Z",
     "iopub.status.idle": "2021-03-26T12:07:35.753450Z",
     "shell.execute_reply": "2021-03-26T12:07:35.752956Z"
    }
   },
   "outputs": [
    {
     "data": {
      "text/plain": [
       "Package BlockTest (5cda1cba-e599-4664-b15b-9083816bf36f)\n"
      ]
     },
     "execution_count": 1,
     "metadata": {},
     "output_type": "execute_result"
    }
   ],
   "source": [
    "package BlockTest {\n",
    "\t\n",
    "\tpart f: A;\n",
    "\n",
    "\tpublic block A {\n",
    "\t\tpart b: B;\n",
    "\t\tprotected port c: C;\n",
    "\t}\n",
    "\t\n",
    "\tabstract block B {\n",
    "\t\tpublic abstract part a: A;\n",
    "\t\tport x: ~C;\n",
    "\t\tpackage P { }\n",
    "\t}\n",
    "\t\n",
    "\tprivate port def C {\n",
    "\t\tprivate in ref y: A, B;\n",
    "\t\timport y as z1;\n",
    "\t\talias y as z2;\n",
    "\t}\n",
    "\t\n",
    "}"
   ]
  },
  {
   "cell_type": "code",
   "execution_count": 2,
   "id": "bibliographic-sewing",
   "metadata": {
    "execution": {
     "iopub.execute_input": "2021-03-26T12:07:35.805149Z",
     "iopub.status.busy": "2021-03-26T12:07:35.804681Z",
     "iopub.status.idle": "2021-03-26T12:07:36.535189Z",
     "shell.execute_reply": "2021-03-26T12:07:36.535535Z"
    }
   },
   "outputs": [
    {
     "data": {
      "image/svg+xml": [
       "<?xml version=\"1.0\" encoding=\"UTF-8\" standalone=\"no\"?><svg xmlns=\"http://www.w3.org/2000/svg\" xmlns:xlink=\"http://www.w3.org/1999/xlink\" contentScriptType=\"application/ecmascript\" contentStyleType=\"text/css\" height=\"672px\" preserveAspectRatio=\"none\" style=\"width:231px;height:672px;\" version=\"1.1\" viewBox=\"0 0 231 672\" width=\"231px\" zoomAndPan=\"magnify\"><defs/><g><!--MD5=[fbc87193dbaf4d95561dea2c320d4a47]\n",
       "cluster E1--><a href=\"psysml:1f80f8be-3c31-4480-9ece-24461005c64a\" target=\"_top\" title=\"psysml:1f80f8be-3c31-4480-9ece-24461005c64a\" xlink:actuate=\"onRequest\" xlink:href=\"psysml:1f80f8be-3c31-4480-9ece-24461005c64a\" xlink:show=\"new\" xlink:title=\"psysml:1f80f8be-3c31-4480-9ece-24461005c64a\" xlink:type=\"simple\"><polygon fill=\"#FFFFFF\" points=\"16,6,99,6,106,28.2969,209,28.2969,209,660,16,660,16,6\" style=\"stroke: #000000; stroke-width: 1.5;\"/><line style=\"stroke: #000000; stroke-width: 1.5;\" x1=\"16\" x2=\"106\" y1=\"28.2969\" y2=\"28.2969\"/><text fill=\"#000000\" font-family=\"sans-serif\" font-size=\"14\" font-weight=\"bold\" lengthAdjust=\"spacingAndGlyphs\" textLength=\"77\" x=\"20\" y=\"20.9951\">BlockTest</text></a><!--MD5=[b4997ac47864f28c2f74865a473b2911]\n",
       "class E2--><a href=\"psysml:77ca47e2-95bd-4f5e-baaf-35974d96745c\" target=\"_top\" title=\"psysml:77ca47e2-95bd-4f5e-baaf-35974d96745c\" xlink:actuate=\"onRequest\" xlink:href=\"psysml:77ca47e2-95bd-4f5e-baaf-35974d96745c\" xlink:show=\"new\" xlink:title=\"psysml:77ca47e2-95bd-4f5e-baaf-35974d96745c\" xlink:type=\"simple\"><rect fill=\"#FFFFFF\" height=\"45.9375\" id=\"E2\" rx=\"10\" ry=\"10\" style=\"stroke: #383838; stroke-width: 1.5;\" width=\"42\" x=\"151\" y=\"56\"/><text fill=\"#000000\" font-family=\"sans-serif\" font-size=\"12\" font-style=\"italic\" lengthAdjust=\"spacingAndGlyphs\" textLength=\"40\" x=\"152\" y=\"72.1387\">«part»</text><text fill=\"#000000\" font-family=\"sans-serif\" font-size=\"12\" lengthAdjust=\"spacingAndGlyphs\" textLength=\"20\" x=\"162\" y=\"86.1074\">f: A</text><line style=\"stroke: #383838; stroke-width: 1.5;\" x1=\"152\" x2=\"192\" y1=\"93.9375\" y2=\"93.9375\"/></a><!--MD5=[09b614a08d8cba4a07c9adeb5e0fee81]\n",
       "class E3--><a href=\"psysml:feda5581-6f8c-419d-8ba7-a8a04be8503b\" target=\"_top\" title=\"psysml:feda5581-6f8c-419d-8ba7-a8a04be8503b\" xlink:actuate=\"onRequest\" xlink:href=\"psysml:feda5581-6f8c-419d-8ba7-a8a04be8503b\" xlink:show=\"new\" xlink:title=\"psysml:feda5581-6f8c-419d-8ba7-a8a04be8503b\" xlink:type=\"simple\"><rect fill=\"#FFFFFF\" height=\"75.5469\" id=\"E3\" style=\"stroke: #383838; stroke-width: 1.5;\" width=\"66\" x=\"118\" y=\"194\"/><text fill=\"#000000\" font-family=\"sans-serif\" font-size=\"12\" font-style=\"italic\" lengthAdjust=\"spacingAndGlyphs\" textLength=\"64\" x=\"119\" y=\"210.1387\">«part def»</text><text fill=\"#000000\" font-family=\"sans-serif\" font-size=\"12\" lengthAdjust=\"spacingAndGlyphs\" textLength=\"8\" x=\"147\" y=\"224.1074\">A</text><line style=\"stroke: #383838; stroke-width: 1.5;\" x1=\"119\" x2=\"183\" y1=\"231.9375\" y2=\"231.9375\"/><text fill=\"#000000\" font-family=\"sans-serif\" font-size=\"11\" lengthAdjust=\"spacingAndGlyphs\" textLength=\"22\" x=\"124\" y=\"262.9526\">c: C</text><line style=\"stroke: #383838; stroke-width: 1.0;\" x1=\"119\" x2=\"136\" y1=\"246.3398\" y2=\"246.3398\"/><text fill=\"#000000\" font-family=\"sans-serif\" font-size=\"11\" lengthAdjust=\"spacingAndGlyphs\" textLength=\"30\" x=\"136\" y=\"249.6479\">ports</text><line style=\"stroke: #383838; stroke-width: 1.0;\" x1=\"166\" x2=\"183\" y1=\"246.3398\" y2=\"246.3398\"/></a><!--MD5=[ebbe1d658d1005bcc118a6aa81145e00]\n",
       "class E4--><a href=\"psysml:ebd0a90b-6b0b-4fe7-b689-bf63abb6537b\" target=\"_top\" title=\"psysml:ebd0a90b-6b0b-4fe7-b689-bf63abb6537b\" xlink:actuate=\"onRequest\" xlink:href=\"psysml:ebd0a90b-6b0b-4fe7-b689-bf63abb6537b\" xlink:show=\"new\" xlink:title=\"psysml:ebd0a90b-6b0b-4fe7-b689-bf63abb6537b\" xlink:type=\"simple\"><rect fill=\"#FFFFFF\" height=\"45.9375\" id=\"E4\" rx=\"10\" ry=\"10\" style=\"stroke: #383838; stroke-width: 1.5;\" width=\"42\" x=\"106\" y=\"347\"/><text fill=\"#000000\" font-family=\"sans-serif\" font-size=\"12\" font-style=\"italic\" lengthAdjust=\"spacingAndGlyphs\" textLength=\"40\" x=\"107\" y=\"363.1387\">«part»</text><text fill=\"#000000\" font-family=\"sans-serif\" font-size=\"12\" lengthAdjust=\"spacingAndGlyphs\" textLength=\"24\" x=\"115\" y=\"377.1074\">b: B</text><line style=\"stroke: #383838; stroke-width: 1.5;\" x1=\"107\" x2=\"147\" y1=\"384.9375\" y2=\"384.9375\"/></a><!--MD5=[270fce915f116d4de14055a7c1d9a0f3]\n",
       "class E5--><a href=\"psysml:7287ae62-763a-4b84-8405-f658443750c5\" target=\"_top\" title=\"psysml:7287ae62-763a-4b84-8405-f658443750c5\" xlink:actuate=\"onRequest\" xlink:href=\"psysml:7287ae62-763a-4b84-8405-f658443750c5\" xlink:show=\"new\" xlink:title=\"psysml:7287ae62-763a-4b84-8405-f658443750c5\" xlink:type=\"simple\"><rect fill=\"#FFFFFF\" height=\"75.5469\" id=\"E5\" style=\"stroke: #383838; stroke-width: 1.5;\" width=\"66\" x=\"77\" y=\"454\"/><text fill=\"#000000\" font-family=\"sans-serif\" font-size=\"12\" font-style=\"italic\" lengthAdjust=\"spacingAndGlyphs\" textLength=\"64\" x=\"78\" y=\"470.1387\">«part def»</text><text fill=\"#000000\" font-family=\"sans-serif\" font-size=\"12\" lengthAdjust=\"spacingAndGlyphs\" textLength=\"8\" x=\"106\" y=\"484.1074\">B</text><line style=\"stroke: #383838; stroke-width: 1.5;\" x1=\"78\" x2=\"142\" y1=\"491.9375\" y2=\"491.9375\"/><text fill=\"#000000\" font-family=\"sans-serif\" font-size=\"11\" lengthAdjust=\"spacingAndGlyphs\" textLength=\"31\" x=\"83\" y=\"522.9526\">x: ~C</text><line style=\"stroke: #383838; stroke-width: 1.0;\" x1=\"78\" x2=\"95\" y1=\"506.3398\" y2=\"506.3398\"/><text fill=\"#000000\" font-family=\"sans-serif\" font-size=\"11\" lengthAdjust=\"spacingAndGlyphs\" textLength=\"30\" x=\"95\" y=\"509.6479\">ports</text><line style=\"stroke: #383838; stroke-width: 1.0;\" x1=\"125\" x2=\"142\" y1=\"506.3398\" y2=\"506.3398\"/></a><!--MD5=[2156ba9850f5573cc1fc38a6a4b2f02b]\n",
       "class E7--><a href=\"psysml:4e9eccbd-3da0-4f6c-a773-1d808904fdc5\" target=\"_top\" title=\"psysml:4e9eccbd-3da0-4f6c-a773-1d808904fdc5\" xlink:actuate=\"onRequest\" xlink:href=\"psysml:4e9eccbd-3da0-4f6c-a773-1d808904fdc5\" xlink:show=\"new\" xlink:title=\"psysml:4e9eccbd-3da0-4f6c-a773-1d808904fdc5\" xlink:type=\"simple\"><rect fill=\"#FFFFFF\" height=\"45.9375\" id=\"E7\" rx=\"10\" ry=\"10\" style=\"stroke: #383838; stroke-width: 1.5;\" width=\"42\" x=\"151\" y=\"594.5\"/><text fill=\"#000000\" font-family=\"sans-serif\" font-size=\"12\" font-style=\"italic\" lengthAdjust=\"spacingAndGlyphs\" textLength=\"40\" x=\"152\" y=\"610.6387\">«part»</text><text fill=\"#000000\" font-family=\"sans-serif\" font-size=\"12\" lengthAdjust=\"spacingAndGlyphs\" textLength=\"24\" x=\"160\" y=\"624.6074\">a: A</text><line style=\"stroke: #383838; stroke-width: 1.5;\" x1=\"152\" x2=\"192\" y1=\"632.4375\" y2=\"632.4375\"/></a><!--MD5=[b9389687b975829384b498ac4b7476b2]\n",
       "class E8--><a href=\"psysml:8c4f99f3-2675-4f4d-a756-da09d407570d\" target=\"_top\" title=\"psysml:8c4f99f3-2675-4f4d-a756-da09d407570d\" xlink:actuate=\"onRequest\" xlink:href=\"psysml:8c4f99f3-2675-4f4d-a756-da09d407570d\" xlink:show=\"new\" xlink:title=\"psysml:8c4f99f3-2675-4f4d-a756-da09d407570d\" xlink:type=\"simple\"><rect fill=\"#FFFFFF\" height=\"75.5469\" id=\"E8\" style=\"stroke: #383838; stroke-width: 1.5;\" width=\"84\" x=\"32\" y=\"41\"/><text fill=\"#000000\" font-family=\"sans-serif\" font-size=\"12\" font-style=\"italic\" lengthAdjust=\"spacingAndGlyphs\" textLength=\"64\" x=\"42\" y=\"57.1387\">«port def»</text><text fill=\"#000000\" font-family=\"sans-serif\" font-size=\"12\" lengthAdjust=\"spacingAndGlyphs\" textLength=\"8\" x=\"70\" y=\"71.1074\">C</text><line style=\"stroke: #383838; stroke-width: 1.5;\" x1=\"33\" x2=\"115\" y1=\"78.9375\" y2=\"78.9375\"/><text fill=\"#000000\" font-family=\"sans-serif\" font-size=\"11\" lengthAdjust=\"spacingAndGlyphs\" textLength=\"37\" x=\"38\" y=\"109.9526\">y: A, B</text><text fill=\"#000000\" font-family=\"sans-serif\" font-size=\"11\" font-weight=\"bold\" lengthAdjust=\"spacingAndGlyphs\" textLength=\"15\" x=\"79\" y=\"109.9526\">as</text><text fill=\"#000000\" font-family=\"sans-serif\" font-size=\"11\" lengthAdjust=\"spacingAndGlyphs\" textLength=\"12\" x=\"98\" y=\"109.9526\">z2</text><line style=\"stroke: #383838; stroke-width: 1.0;\" x1=\"33\" x2=\"43\" y1=\"93.3398\" y2=\"93.3398\"/><text fill=\"#000000\" font-family=\"sans-serif\" font-size=\"11\" lengthAdjust=\"spacingAndGlyphs\" textLength=\"62\" x=\"43\" y=\"96.6479\">references</text><line style=\"stroke: #383838; stroke-width: 1.0;\" x1=\"105\" x2=\"115\" y1=\"93.3398\" y2=\"93.3398\"/></a><a href=\"psysml:8a2f941b-3a97-4b54-9145-5eb7e96c5b49\" target=\"_top\" title=\"psysml:8a2f941b-3a97-4b54-9145-5eb7e96c5b49\" xlink:actuate=\"onRequest\" xlink:href=\"psysml:8a2f941b-3a97-4b54-9145-5eb7e96c5b49\" xlink:show=\"new\" xlink:title=\"psysml:8a2f941b-3a97-4b54-9145-5eb7e96c5b49\" xlink:type=\"simple\"><polygon fill=\"#FFFFFF\" points=\"86,591,102,591,109,613.2969,116,613.2969,116,643.5938,86,643.5938,86,591\" style=\"stroke: #000000; stroke-width: 1.5;\"/><line style=\"stroke: #000000; stroke-width: 1.5;\" x1=\"86\" x2=\"109\" y1=\"613.2969\" y2=\"613.2969\"/><text fill=\"#000000\" font-family=\"sans-serif\" font-size=\"14\" font-weight=\"bold\" lengthAdjust=\"spacingAndGlyphs\" textLength=\"10\" x=\"90\" y=\"605.9951\">P</text></a><!--MD5=[2720a5a1f2c3fca2055b230370638851]\n",
       "link E2 to E3--><a href=\"psysml:f1219804-170d-45ce-a1b2-74df9d2ed655\" target=\"_top\" title=\"psysml:f1219804-170d-45ce-a1b2-74df9d2ed655\" xlink:actuate=\"onRequest\" xlink:href=\"psysml:f1219804-170d-45ce-a1b2-74df9d2ed655\" xlink:show=\"new\" xlink:title=\"psysml:f1219804-170d-45ce-a1b2-74df9d2ed655\" xlink:type=\"simple\"><path d=\"M168.9,102.28 C166.28,121.12 162.41,148.97 158.94,173.94 \" fill=\"none\" id=\"E2-&gt;E3\" style=\"stroke: #383838; stroke-width: 1.0;\"/><polygon fill=\"#FFFFFF\" points=\"156.15,193.98,151.8354,174.1966,165.7018,176.1261,156.15,193.98\" style=\"stroke: #383838; stroke-width: 1.0;\"/><ellipse cx=\"154.6019\" cy=\"168.8266\" fill=\"#383838\" rx=\"2\" ry=\"2\" style=\"stroke: #383838; stroke-width: 1.0;\"/><ellipse cx=\"164.5065\" cy=\"170.2048\" fill=\"#383838\" rx=\"2\" ry=\"2\" style=\"stroke: #383838; stroke-width: 1.0;\"/></a><!--MD5=[4672eba38e49728da53d11aeb285b987]\n",
       "reverse link E3 to E4--><a href=\"psysml:ebd0a90b-6b0b-4fe7-b689-bf63abb6537b\" target=\"_top\" title=\"psysml:ebd0a90b-6b0b-4fe7-b689-bf63abb6537b\" xlink:actuate=\"onRequest\" xlink:href=\"psysml:ebd0a90b-6b0b-4fe7-b689-bf63abb6537b\" xlink:show=\"new\" xlink:title=\"psysml:ebd0a90b-6b0b-4fe7-b689-bf63abb6537b\" xlink:type=\"simple\"><path d=\"M142.17,283.02 C138.31,304.93 133.97,329.52 130.92,346.77 \" fill=\"none\" id=\"E3&lt;-E4\" style=\"stroke: #383838; stroke-width: 1.0;\"/><polygon fill=\"#383838\" points=\"144.44,270.16,139.4532,275.3688,142.3433,281.9754,147.3301,276.7666,144.44,270.16\" style=\"stroke: #383838; stroke-width: 1.0;\"/></a><!--MD5=[1b7591eae5389033d8d09a9d6721a717]\n",
       "link E4 to E5--><a href=\"psysml:0b7e6d0b-da90-43fd-82ff-3f36fc5229c0\" target=\"_top\" title=\"psysml:0b7e6d0b-da90-43fd-82ff-3f36fc5229c0\" xlink:actuate=\"onRequest\" xlink:href=\"psysml:0b7e6d0b-da90-43fd-82ff-3f36fc5229c0\" xlink:show=\"new\" xlink:title=\"psysml:0b7e6d0b-da90-43fd-82ff-3f36fc5229c0\" xlink:type=\"simple\"><path d=\"M123.88,393.01 C122.25,404.51 120.18,419.17 118.13,433.62 \" fill=\"none\" id=\"E4-&gt;E5\" style=\"stroke: #383838; stroke-width: 1.0;\"/><polygon fill=\"#FFFFFF\" points=\"115.3,453.57,111.0294,433.777,124.8914,435.7373,115.3,453.57\" style=\"stroke: #383838; stroke-width: 1.0;\"/><ellipse cx=\"113.8078\" cy=\"428.4132\" fill=\"#383838\" rx=\"2\" ry=\"2\" style=\"stroke: #383838; stroke-width: 1.0;\"/><ellipse cx=\"123.7093\" cy=\"429.8134\" fill=\"#383838\" rx=\"2\" ry=\"2\" style=\"stroke: #383838; stroke-width: 1.0;\"/></a><!--MD5=[85d356282659285ab4b2cfe2f634dd2b]\n",
       "reverse link E5 to E6--><a href=\"psysml:8a2f941b-3a97-4b54-9145-5eb7e96c5b49\" target=\"_top\" title=\"psysml:8a2f941b-3a97-4b54-9145-5eb7e96c5b49\" xlink:actuate=\"onRequest\" xlink:href=\"psysml:8a2f941b-3a97-4b54-9145-5eb7e96c5b49\" xlink:show=\"new\" xlink:title=\"psysml:8a2f941b-3a97-4b54-9145-5eb7e96c5b49\" xlink:type=\"simple\"><path d=\"M106.18,545.35 C105.04,561.08 103.83,577.65 102.87,590.83 \" fill=\"none\" id=\"E5&lt;-E6\" style=\"stroke: #383838; stroke-width: 1.0;\"/><ellipse cx=\"106.7138\" cy=\"538.0285\" fill=\"#FFFFFF\" rx=\"8\" ry=\"8\" style=\"stroke: #383838; stroke-width: 1.0;\"/><line style=\"stroke: #383838; stroke-width: 1.0;\" x1=\"106.1276\" x2=\"107.3\" y1=\"546.007\" y2=\"530.05\"/><line style=\"stroke: #383838; stroke-width: 1.0;\" x1=\"98.7353\" x2=\"114.6923\" y1=\"537.4423\" y2=\"538.6147\"/></a><!--MD5=[14ccda38c055a5c0da953d572bc50960]\n",
       "link E7 to E3--><a href=\"psysml:edfb0c1d-eeea-43d5-bece-b0bce4203cff\" target=\"_top\" title=\"psysml:edfb0c1d-eeea-43d5-bece-b0bce4203cff\" xlink:actuate=\"onRequest\" xlink:href=\"psysml:edfb0c1d-eeea-43d5-bece-b0bce4203cff\" xlink:show=\"new\" xlink:title=\"psysml:edfb0c1d-eeea-43d5-bece-b0bce4203cff\" xlink:type=\"simple\"><path d=\"M172.32,594.45 C172.8,548.41 173.03,438.69 166,347 C164.57,328.37 162.18,308.13 159.73,289.94 \" fill=\"none\" id=\"E7-&gt;E3\" style=\"stroke: #383838; stroke-width: 1.0;\"/><polygon fill=\"#FFFFFF\" points=\"156.92,270.12,166.5114,287.9527,152.6494,289.913,156.92,270.12\" style=\"stroke: #383838; stroke-width: 1.0;\"/><ellipse cx=\"165.3293\" cy=\"293.8766\" fill=\"#383838\" rx=\"2\" ry=\"2\" style=\"stroke: #383838; stroke-width: 1.0;\"/><ellipse cx=\"155.4278\" cy=\"295.2768\" fill=\"#383838\" rx=\"2\" ry=\"2\" style=\"stroke: #383838; stroke-width: 1.0;\"/></a><!--MD5=[452b418e7f8a40397a49b8c0a78acc5b]\n",
       "reverse link E5 to E7--><a href=\"psysml:4e9eccbd-3da0-4f6c-a773-1d808904fdc5\" target=\"_top\" title=\"psysml:4e9eccbd-3da0-4f6c-a773-1d808904fdc5\" xlink:actuate=\"onRequest\" xlink:href=\"psysml:4e9eccbd-3da0-4f6c-a773-1d808904fdc5\" xlink:show=\"new\" xlink:title=\"psysml:4e9eccbd-3da0-4f6c-a773-1d808904fdc5\" xlink:type=\"simple\"><path d=\"M134.44,541.68 C143.55,559.83 153.45,579.55 160.8,594.19 \" fill=\"none\" id=\"E5&lt;-E7\" style=\"stroke: #383838; stroke-width: 1.0;\"/><polygon fill=\"#383838\" points=\"128.6,530.05,127.7161,537.2067,133.9824,540.7752,134.8663,533.6185,128.6,530.05\" style=\"stroke: #383838; stroke-width: 1.0;\"/></a><!--MD5=[03c8294790d3c57651a1993cecff665f]\n",
       "reverse link E8 to E3--><a href=\"psysml:800170d4-464e-4c2e-99b4-fb1d2de59c3f\" target=\"_top\" title=\"psysml:800170d4-464e-4c2e-99b4-fb1d2de59c3f\" xlink:actuate=\"onRequest\" xlink:href=\"psysml:800170d4-464e-4c2e-99b4-fb1d2de59c3f\" xlink:show=\"new\" xlink:title=\"psysml:800170d4-464e-4c2e-99b4-fb1d2de59c3f\" xlink:type=\"simple\"><path d=\"M98.98,128.98 C109.72,150.06 122.08,174.29 132.05,193.84 \" fill=\"none\" id=\"E8&lt;-E3\" style=\"stroke: #383838; stroke-width: 1.0;\"/><polygon fill=\"#FFFFFF\" points=\"93.03,117.33,92.1919,124.4922,98.4809,128.0206,99.319,120.8583,93.03,117.33\" style=\"stroke: #383838; stroke-width: 1.0;\"/><text fill=\"#000000\" font-family=\"sans-serif\" font-size=\"13\" lengthAdjust=\"spacingAndGlyphs\" textLength=\"7\" x=\"115\" y=\"160.0669\">y</text></a><!--MD5=[049ab558815ccadc2a7a6ffdb8f4a5ba]\n",
       "reverse link E8 to E5--><a href=\"psysml:800170d4-464e-4c2e-99b4-fb1d2de59c3f\" target=\"_top\" title=\"psysml:800170d4-464e-4c2e-99b4-fb1d2de59c3f\" xlink:actuate=\"onRequest\" xlink:href=\"psysml:800170d4-464e-4c2e-99b4-fb1d2de59c3f\" xlink:show=\"new\" xlink:title=\"psysml:800170d4-464e-4c2e-99b4-fb1d2de59c3f\" xlink:type=\"simple\"><path d=\"M73.89,130.53 C74.34,192.6 77.02,300.97 89,393 C91.63,413.19 96.24,435.39 100.47,453.55 \" fill=\"none\" id=\"E8&lt;-E5\" style=\"stroke: #383838; stroke-width: 1.0;\"/><polygon fill=\"#FFFFFF\" points=\"73.83,117.27,69.863,123.2919,73.8959,129.2698,77.8629,123.2479,73.83,117.27\" style=\"stroke: #383838; stroke-width: 1.0;\"/><text fill=\"#000000\" font-family=\"sans-serif\" font-size=\"13\" lengthAdjust=\"spacingAndGlyphs\" textLength=\"7\" x=\"82\" y=\"313.0669\">y</text></a><!--MD5=[38556a83865f4677f219e22fc84cc617]\n",
       "@startuml\r\n",
       " skinparam monochrome true\r\n",
       "skinparam classbackgroundcolor white\r\n",
       "skinparam shadowing false\r\n",
       "skinparam wrapWidth 300\r\n",
       "hide circle\r\n",
       "\r\n",
       "package \"BlockTest\" as E1  [[psysml:1f80f8be-3c31-4480-9ece-24461005c64a ]]  {\r\n",
       "comp usage \"f: A\" as E2  <<(T,blue)part>> [[psysml:77ca47e2-95bd-4f5e-baaf-35974d96745c ]] {\r\n",
       "}\r\n",
       "comp def \"A\" as E3  <<(T,blue)part def>> [[psysml:feda5581-6f8c-419d-8ba7-a8a04be8503b ]] {\r\n",
       "- - ports - -\r\n",
       "c: C\r\n",
       "}\r\n",
       "comp usage \"b: B\" as E4  <<(T,blue)part>> [[psysml:ebd0a90b-6b0b-4fe7-b689-bf63abb6537b ]] {\r\n",
       "}\r\n",
       "comp def \"B\" as E5  <<(T,blue)part def>> [[psysml:7287ae62-763a-4b84-8405-f658443750c5 ]] {\r\n",
       "- - ports - -\r\n",
       "x: ~C\r\n",
       "}\r\n",
       "package \"P\" as E6  [[psysml:8a2f941b-3a97-4b54-9145-5eb7e96c5b49 ]]  {\r\n",
       "}\r\n",
       "comp usage \"a: A\" as E7  <<(T,blue)part>> [[psysml:4e9eccbd-3da0-4f6c-a773-1d808904fdc5 ]] {\r\n",
       "}\r\n",
       "comp def \"C\" as E8  <<(T,blue)port def>> [[psysml:8c4f99f3-2675-4f4d-a756-da09d407570d ]] {\r\n",
       "- - references - -\r\n",
       "y: A, B <b>as</b> z2 \r\n",
       "}\r\n",
       "E2 - -:|> E3 [[psysml:f1219804-170d-45ce-a1b2-74df9d2ed655 ]] \r\n",
       "E3 *- - E4 [[psysml:ebd0a90b-6b0b-4fe7-b689-bf63abb6537b ]] \r\n",
       "E4 - -:|> E5 [[psysml:0b7e6d0b-da90-43fd-82ff-3f36fc5229c0 ]] \r\n",
       "E5 +- - E6 [[psysml:8a2f941b-3a97-4b54-9145-5eb7e96c5b49 ]] \r\n",
       "E7 - -:|> E3 [[psysml:edfb0c1d-eeea-43d5-bece-b0bce4203cff ]] \r\n",
       "E5 *- - E7 [[psysml:4e9eccbd-3da0-4f6c-a773-1d808904fdc5 ]] \r\n",
       "E8 o- - E3 [[psysml:800170d4-464e-4c2e-99b4-fb1d2de59c3f ]] : y\r\n",
       "E8 o- - E5 [[psysml:800170d4-464e-4c2e-99b4-fb1d2de59c3f ]] : y\r\n",
       "}\r\n",
       "@enduml\r\n",
       "\n",
       "PlantUML version 1.2020.13(Sat Jun 13 12:26:38 UTC 2020)\n",
       "(EPL source distribution)\n",
       "Java Runtime: OpenJDK Runtime Environment\n",
       "JVM: OpenJDK 64-Bit Server VM\n",
       "Default Encoding: UTF-8\n",
       "Language: en\n",
       "Country: null\n",
       "--></g></svg>"
      ]
     },
     "execution_count": 2,
     "metadata": {},
     "output_type": "execute_result"
    }
   ],
   "source": [
    "%viz --style=\"COMPTREE\" --view=\"Default\" \"BlockTest\""
   ]
  },
  {
   "cell_type": "code",
   "execution_count": 3,
   "id": "utility-principal",
   "metadata": {
    "execution": {
     "iopub.execute_input": "2021-03-26T12:07:36.587518Z",
     "iopub.status.busy": "2021-03-26T12:07:36.586698Z",
     "iopub.status.idle": "2021-03-26T12:07:36.716752Z",
     "shell.execute_reply": "2021-03-26T12:07:36.715139Z"
    }
   },
   "outputs": [
    {
     "data": {
      "image/svg+xml": [
       "<?xml version=\"1.0\" encoding=\"UTF-8\" standalone=\"no\"?><svg xmlns=\"http://www.w3.org/2000/svg\" xmlns:xlink=\"http://www.w3.org/1999/xlink\" contentScriptType=\"application/ecmascript\" contentStyleType=\"text/css\" height=\"672px\" preserveAspectRatio=\"none\" style=\"width:231px;height:672px;\" version=\"1.1\" viewBox=\"0 0 231 672\" width=\"231px\" zoomAndPan=\"magnify\"><defs/><g><!--MD5=[fbc87193dbaf4d95561dea2c320d4a47]\n",
       "cluster E1--><a href=\"psysml:1f80f8be-3c31-4480-9ece-24461005c64a\" target=\"_top\" title=\"psysml:1f80f8be-3c31-4480-9ece-24461005c64a\" xlink:actuate=\"onRequest\" xlink:href=\"psysml:1f80f8be-3c31-4480-9ece-24461005c64a\" xlink:show=\"new\" xlink:title=\"psysml:1f80f8be-3c31-4480-9ece-24461005c64a\" xlink:type=\"simple\"><polygon fill=\"#FFFFFF\" points=\"16,6,99,6,106,28.2969,209,28.2969,209,660,16,660,16,6\" style=\"stroke: #000000; stroke-width: 1.5;\"/><line style=\"stroke: #000000; stroke-width: 1.5;\" x1=\"16\" x2=\"106\" y1=\"28.2969\" y2=\"28.2969\"/><text fill=\"#000000\" font-family=\"sans-serif\" font-size=\"14\" font-weight=\"bold\" lengthAdjust=\"spacingAndGlyphs\" textLength=\"77\" x=\"20\" y=\"20.9951\">BlockTest</text></a><!--MD5=[b4997ac47864f28c2f74865a473b2911]\n",
       "class E2--><a href=\"psysml:77ca47e2-95bd-4f5e-baaf-35974d96745c\" target=\"_top\" title=\"psysml:77ca47e2-95bd-4f5e-baaf-35974d96745c\" xlink:actuate=\"onRequest\" xlink:href=\"psysml:77ca47e2-95bd-4f5e-baaf-35974d96745c\" xlink:show=\"new\" xlink:title=\"psysml:77ca47e2-95bd-4f5e-baaf-35974d96745c\" xlink:type=\"simple\"><rect fill=\"#FFFFFF\" height=\"45.9375\" id=\"E2\" rx=\"10\" ry=\"10\" style=\"stroke: #383838; stroke-width: 1.5;\" width=\"42\" x=\"151\" y=\"56\"/><text fill=\"#000000\" font-family=\"sans-serif\" font-size=\"12\" font-style=\"italic\" lengthAdjust=\"spacingAndGlyphs\" textLength=\"40\" x=\"152\" y=\"72.1387\">«part»</text><text fill=\"#000000\" font-family=\"sans-serif\" font-size=\"12\" lengthAdjust=\"spacingAndGlyphs\" textLength=\"20\" x=\"162\" y=\"86.1074\">f: A</text><line style=\"stroke: #383838; stroke-width: 1.5;\" x1=\"152\" x2=\"192\" y1=\"93.9375\" y2=\"93.9375\"/></a><!--MD5=[09b614a08d8cba4a07c9adeb5e0fee81]\n",
       "class E3--><a href=\"psysml:feda5581-6f8c-419d-8ba7-a8a04be8503b\" target=\"_top\" title=\"psysml:feda5581-6f8c-419d-8ba7-a8a04be8503b\" xlink:actuate=\"onRequest\" xlink:href=\"psysml:feda5581-6f8c-419d-8ba7-a8a04be8503b\" xlink:show=\"new\" xlink:title=\"psysml:feda5581-6f8c-419d-8ba7-a8a04be8503b\" xlink:type=\"simple\"><rect fill=\"#FFFFFF\" height=\"75.5469\" id=\"E3\" style=\"stroke: #383838; stroke-width: 1.5;\" width=\"66\" x=\"118\" y=\"194\"/><text fill=\"#000000\" font-family=\"sans-serif\" font-size=\"12\" font-style=\"italic\" lengthAdjust=\"spacingAndGlyphs\" textLength=\"64\" x=\"119\" y=\"210.1387\">«part def»</text><text fill=\"#000000\" font-family=\"sans-serif\" font-size=\"12\" lengthAdjust=\"spacingAndGlyphs\" textLength=\"8\" x=\"147\" y=\"224.1074\">A</text><line style=\"stroke: #383838; stroke-width: 1.5;\" x1=\"119\" x2=\"183\" y1=\"231.9375\" y2=\"231.9375\"/><text fill=\"#000000\" font-family=\"sans-serif\" font-size=\"11\" lengthAdjust=\"spacingAndGlyphs\" textLength=\"22\" x=\"124\" y=\"262.9526\">c: C</text><line style=\"stroke: #383838; stroke-width: 1.0;\" x1=\"119\" x2=\"136\" y1=\"246.3398\" y2=\"246.3398\"/><text fill=\"#000000\" font-family=\"sans-serif\" font-size=\"11\" lengthAdjust=\"spacingAndGlyphs\" textLength=\"30\" x=\"136\" y=\"249.6479\">ports</text><line style=\"stroke: #383838; stroke-width: 1.0;\" x1=\"166\" x2=\"183\" y1=\"246.3398\" y2=\"246.3398\"/></a><!--MD5=[ebbe1d658d1005bcc118a6aa81145e00]\n",
       "class E4--><a href=\"psysml:ebd0a90b-6b0b-4fe7-b689-bf63abb6537b\" target=\"_top\" title=\"psysml:ebd0a90b-6b0b-4fe7-b689-bf63abb6537b\" xlink:actuate=\"onRequest\" xlink:href=\"psysml:ebd0a90b-6b0b-4fe7-b689-bf63abb6537b\" xlink:show=\"new\" xlink:title=\"psysml:ebd0a90b-6b0b-4fe7-b689-bf63abb6537b\" xlink:type=\"simple\"><rect fill=\"#FFFFFF\" height=\"45.9375\" id=\"E4\" rx=\"10\" ry=\"10\" style=\"stroke: #383838; stroke-width: 1.5;\" width=\"42\" x=\"106\" y=\"347\"/><text fill=\"#000000\" font-family=\"sans-serif\" font-size=\"12\" font-style=\"italic\" lengthAdjust=\"spacingAndGlyphs\" textLength=\"40\" x=\"107\" y=\"363.1387\">«part»</text><text fill=\"#000000\" font-family=\"sans-serif\" font-size=\"12\" lengthAdjust=\"spacingAndGlyphs\" textLength=\"24\" x=\"115\" y=\"377.1074\">b: B</text><line style=\"stroke: #383838; stroke-width: 1.5;\" x1=\"107\" x2=\"147\" y1=\"384.9375\" y2=\"384.9375\"/></a><!--MD5=[270fce915f116d4de14055a7c1d9a0f3]\n",
       "class E5--><a href=\"psysml:7287ae62-763a-4b84-8405-f658443750c5\" target=\"_top\" title=\"psysml:7287ae62-763a-4b84-8405-f658443750c5\" xlink:actuate=\"onRequest\" xlink:href=\"psysml:7287ae62-763a-4b84-8405-f658443750c5\" xlink:show=\"new\" xlink:title=\"psysml:7287ae62-763a-4b84-8405-f658443750c5\" xlink:type=\"simple\"><rect fill=\"#FFFFFF\" height=\"75.5469\" id=\"E5\" style=\"stroke: #383838; stroke-width: 1.5;\" width=\"66\" x=\"77\" y=\"454\"/><text fill=\"#000000\" font-family=\"sans-serif\" font-size=\"12\" font-style=\"italic\" lengthAdjust=\"spacingAndGlyphs\" textLength=\"64\" x=\"78\" y=\"470.1387\">«part def»</text><text fill=\"#000000\" font-family=\"sans-serif\" font-size=\"12\" lengthAdjust=\"spacingAndGlyphs\" textLength=\"8\" x=\"106\" y=\"484.1074\">B</text><line style=\"stroke: #383838; stroke-width: 1.5;\" x1=\"78\" x2=\"142\" y1=\"491.9375\" y2=\"491.9375\"/><text fill=\"#000000\" font-family=\"sans-serif\" font-size=\"11\" lengthAdjust=\"spacingAndGlyphs\" textLength=\"31\" x=\"83\" y=\"522.9526\">x: ~C</text><line style=\"stroke: #383838; stroke-width: 1.0;\" x1=\"78\" x2=\"95\" y1=\"506.3398\" y2=\"506.3398\"/><text fill=\"#000000\" font-family=\"sans-serif\" font-size=\"11\" lengthAdjust=\"spacingAndGlyphs\" textLength=\"30\" x=\"95\" y=\"509.6479\">ports</text><line style=\"stroke: #383838; stroke-width: 1.0;\" x1=\"125\" x2=\"142\" y1=\"506.3398\" y2=\"506.3398\"/></a><!--MD5=[2156ba9850f5573cc1fc38a6a4b2f02b]\n",
       "class E7--><a href=\"psysml:4e9eccbd-3da0-4f6c-a773-1d808904fdc5\" target=\"_top\" title=\"psysml:4e9eccbd-3da0-4f6c-a773-1d808904fdc5\" xlink:actuate=\"onRequest\" xlink:href=\"psysml:4e9eccbd-3da0-4f6c-a773-1d808904fdc5\" xlink:show=\"new\" xlink:title=\"psysml:4e9eccbd-3da0-4f6c-a773-1d808904fdc5\" xlink:type=\"simple\"><rect fill=\"#FFFFFF\" height=\"45.9375\" id=\"E7\" rx=\"10\" ry=\"10\" style=\"stroke: #383838; stroke-width: 1.5;\" width=\"42\" x=\"151\" y=\"594.5\"/><text fill=\"#000000\" font-family=\"sans-serif\" font-size=\"12\" font-style=\"italic\" lengthAdjust=\"spacingAndGlyphs\" textLength=\"40\" x=\"152\" y=\"610.6387\">«part»</text><text fill=\"#000000\" font-family=\"sans-serif\" font-size=\"12\" lengthAdjust=\"spacingAndGlyphs\" textLength=\"24\" x=\"160\" y=\"624.6074\">a: A</text><line style=\"stroke: #383838; stroke-width: 1.5;\" x1=\"152\" x2=\"192\" y1=\"632.4375\" y2=\"632.4375\"/></a><!--MD5=[b9389687b975829384b498ac4b7476b2]\n",
       "class E8--><a href=\"psysml:8c4f99f3-2675-4f4d-a756-da09d407570d\" target=\"_top\" title=\"psysml:8c4f99f3-2675-4f4d-a756-da09d407570d\" xlink:actuate=\"onRequest\" xlink:href=\"psysml:8c4f99f3-2675-4f4d-a756-da09d407570d\" xlink:show=\"new\" xlink:title=\"psysml:8c4f99f3-2675-4f4d-a756-da09d407570d\" xlink:type=\"simple\"><rect fill=\"#FFFFFF\" height=\"75.5469\" id=\"E8\" style=\"stroke: #383838; stroke-width: 1.5;\" width=\"84\" x=\"32\" y=\"41\"/><text fill=\"#000000\" font-family=\"sans-serif\" font-size=\"12\" font-style=\"italic\" lengthAdjust=\"spacingAndGlyphs\" textLength=\"64\" x=\"42\" y=\"57.1387\">«port def»</text><text fill=\"#000000\" font-family=\"sans-serif\" font-size=\"12\" lengthAdjust=\"spacingAndGlyphs\" textLength=\"8\" x=\"70\" y=\"71.1074\">C</text><line style=\"stroke: #383838; stroke-width: 1.5;\" x1=\"33\" x2=\"115\" y1=\"78.9375\" y2=\"78.9375\"/><text fill=\"#000000\" font-family=\"sans-serif\" font-size=\"11\" lengthAdjust=\"spacingAndGlyphs\" textLength=\"37\" x=\"38\" y=\"109.9526\">y: A, B</text><text fill=\"#000000\" font-family=\"sans-serif\" font-size=\"11\" font-weight=\"bold\" lengthAdjust=\"spacingAndGlyphs\" textLength=\"15\" x=\"79\" y=\"109.9526\">as</text><text fill=\"#000000\" font-family=\"sans-serif\" font-size=\"11\" lengthAdjust=\"spacingAndGlyphs\" textLength=\"12\" x=\"98\" y=\"109.9526\">z2</text><line style=\"stroke: #383838; stroke-width: 1.0;\" x1=\"33\" x2=\"43\" y1=\"93.3398\" y2=\"93.3398\"/><text fill=\"#000000\" font-family=\"sans-serif\" font-size=\"11\" lengthAdjust=\"spacingAndGlyphs\" textLength=\"62\" x=\"43\" y=\"96.6479\">references</text><line style=\"stroke: #383838; stroke-width: 1.0;\" x1=\"105\" x2=\"115\" y1=\"93.3398\" y2=\"93.3398\"/></a><a href=\"psysml:8a2f941b-3a97-4b54-9145-5eb7e96c5b49\" target=\"_top\" title=\"psysml:8a2f941b-3a97-4b54-9145-5eb7e96c5b49\" xlink:actuate=\"onRequest\" xlink:href=\"psysml:8a2f941b-3a97-4b54-9145-5eb7e96c5b49\" xlink:show=\"new\" xlink:title=\"psysml:8a2f941b-3a97-4b54-9145-5eb7e96c5b49\" xlink:type=\"simple\"><polygon fill=\"#FFFFFF\" points=\"86,591,102,591,109,613.2969,116,613.2969,116,643.5938,86,643.5938,86,591\" style=\"stroke: #000000; stroke-width: 1.5;\"/><line style=\"stroke: #000000; stroke-width: 1.5;\" x1=\"86\" x2=\"109\" y1=\"613.2969\" y2=\"613.2969\"/><text fill=\"#000000\" font-family=\"sans-serif\" font-size=\"14\" font-weight=\"bold\" lengthAdjust=\"spacingAndGlyphs\" textLength=\"10\" x=\"90\" y=\"605.9951\">P</text></a><!--MD5=[2720a5a1f2c3fca2055b230370638851]\n",
       "link E2 to E3--><a href=\"psysml:f1219804-170d-45ce-a1b2-74df9d2ed655\" target=\"_top\" title=\"psysml:f1219804-170d-45ce-a1b2-74df9d2ed655\" xlink:actuate=\"onRequest\" xlink:href=\"psysml:f1219804-170d-45ce-a1b2-74df9d2ed655\" xlink:show=\"new\" xlink:title=\"psysml:f1219804-170d-45ce-a1b2-74df9d2ed655\" xlink:type=\"simple\"><path d=\"M168.9,102.28 C166.28,121.12 162.41,148.97 158.94,173.94 \" fill=\"none\" id=\"E2-&gt;E3\" style=\"stroke: #383838; stroke-width: 1.0;\"/><polygon fill=\"#FFFFFF\" points=\"156.15,193.98,151.8354,174.1966,165.7018,176.1261,156.15,193.98\" style=\"stroke: #383838; stroke-width: 1.0;\"/><ellipse cx=\"154.6019\" cy=\"168.8266\" fill=\"#383838\" rx=\"2\" ry=\"2\" style=\"stroke: #383838; stroke-width: 1.0;\"/><ellipse cx=\"164.5065\" cy=\"170.2048\" fill=\"#383838\" rx=\"2\" ry=\"2\" style=\"stroke: #383838; stroke-width: 1.0;\"/></a><!--MD5=[4672eba38e49728da53d11aeb285b987]\n",
       "reverse link E3 to E4--><a href=\"psysml:ebd0a90b-6b0b-4fe7-b689-bf63abb6537b\" target=\"_top\" title=\"psysml:ebd0a90b-6b0b-4fe7-b689-bf63abb6537b\" xlink:actuate=\"onRequest\" xlink:href=\"psysml:ebd0a90b-6b0b-4fe7-b689-bf63abb6537b\" xlink:show=\"new\" xlink:title=\"psysml:ebd0a90b-6b0b-4fe7-b689-bf63abb6537b\" xlink:type=\"simple\"><path d=\"M142.17,283.02 C138.31,304.93 133.97,329.52 130.92,346.77 \" fill=\"none\" id=\"E3&lt;-E4\" style=\"stroke: #383838; stroke-width: 1.0;\"/><polygon fill=\"#383838\" points=\"144.44,270.16,139.4532,275.3688,142.3433,281.9754,147.3301,276.7666,144.44,270.16\" style=\"stroke: #383838; stroke-width: 1.0;\"/></a><!--MD5=[1b7591eae5389033d8d09a9d6721a717]\n",
       "link E4 to E5--><a href=\"psysml:0b7e6d0b-da90-43fd-82ff-3f36fc5229c0\" target=\"_top\" title=\"psysml:0b7e6d0b-da90-43fd-82ff-3f36fc5229c0\" xlink:actuate=\"onRequest\" xlink:href=\"psysml:0b7e6d0b-da90-43fd-82ff-3f36fc5229c0\" xlink:show=\"new\" xlink:title=\"psysml:0b7e6d0b-da90-43fd-82ff-3f36fc5229c0\" xlink:type=\"simple\"><path d=\"M123.88,393.01 C122.25,404.51 120.18,419.17 118.13,433.62 \" fill=\"none\" id=\"E4-&gt;E5\" style=\"stroke: #383838; stroke-width: 1.0;\"/><polygon fill=\"#FFFFFF\" points=\"115.3,453.57,111.0294,433.777,124.8914,435.7373,115.3,453.57\" style=\"stroke: #383838; stroke-width: 1.0;\"/><ellipse cx=\"113.8078\" cy=\"428.4132\" fill=\"#383838\" rx=\"2\" ry=\"2\" style=\"stroke: #383838; stroke-width: 1.0;\"/><ellipse cx=\"123.7093\" cy=\"429.8134\" fill=\"#383838\" rx=\"2\" ry=\"2\" style=\"stroke: #383838; stroke-width: 1.0;\"/></a><!--MD5=[85d356282659285ab4b2cfe2f634dd2b]\n",
       "reverse link E5 to E6--><a href=\"psysml:8a2f941b-3a97-4b54-9145-5eb7e96c5b49\" target=\"_top\" title=\"psysml:8a2f941b-3a97-4b54-9145-5eb7e96c5b49\" xlink:actuate=\"onRequest\" xlink:href=\"psysml:8a2f941b-3a97-4b54-9145-5eb7e96c5b49\" xlink:show=\"new\" xlink:title=\"psysml:8a2f941b-3a97-4b54-9145-5eb7e96c5b49\" xlink:type=\"simple\"><path d=\"M106.18,545.35 C105.04,561.08 103.83,577.65 102.87,590.83 \" fill=\"none\" id=\"E5&lt;-E6\" style=\"stroke: #383838; stroke-width: 1.0;\"/><ellipse cx=\"106.7138\" cy=\"538.0285\" fill=\"#FFFFFF\" rx=\"8\" ry=\"8\" style=\"stroke: #383838; stroke-width: 1.0;\"/><line style=\"stroke: #383838; stroke-width: 1.0;\" x1=\"106.1276\" x2=\"107.3\" y1=\"546.007\" y2=\"530.05\"/><line style=\"stroke: #383838; stroke-width: 1.0;\" x1=\"98.7353\" x2=\"114.6923\" y1=\"537.4423\" y2=\"538.6147\"/></a><!--MD5=[14ccda38c055a5c0da953d572bc50960]\n",
       "link E7 to E3--><a href=\"psysml:edfb0c1d-eeea-43d5-bece-b0bce4203cff\" target=\"_top\" title=\"psysml:edfb0c1d-eeea-43d5-bece-b0bce4203cff\" xlink:actuate=\"onRequest\" xlink:href=\"psysml:edfb0c1d-eeea-43d5-bece-b0bce4203cff\" xlink:show=\"new\" xlink:title=\"psysml:edfb0c1d-eeea-43d5-bece-b0bce4203cff\" xlink:type=\"simple\"><path d=\"M172.32,594.45 C172.8,548.41 173.03,438.69 166,347 C164.57,328.37 162.18,308.13 159.73,289.94 \" fill=\"none\" id=\"E7-&gt;E3\" style=\"stroke: #383838; stroke-width: 1.0;\"/><polygon fill=\"#FFFFFF\" points=\"156.92,270.12,166.5114,287.9527,152.6494,289.913,156.92,270.12\" style=\"stroke: #383838; stroke-width: 1.0;\"/><ellipse cx=\"165.3293\" cy=\"293.8766\" fill=\"#383838\" rx=\"2\" ry=\"2\" style=\"stroke: #383838; stroke-width: 1.0;\"/><ellipse cx=\"155.4278\" cy=\"295.2768\" fill=\"#383838\" rx=\"2\" ry=\"2\" style=\"stroke: #383838; stroke-width: 1.0;\"/></a><!--MD5=[452b418e7f8a40397a49b8c0a78acc5b]\n",
       "reverse link E5 to E7--><a href=\"psysml:4e9eccbd-3da0-4f6c-a773-1d808904fdc5\" target=\"_top\" title=\"psysml:4e9eccbd-3da0-4f6c-a773-1d808904fdc5\" xlink:actuate=\"onRequest\" xlink:href=\"psysml:4e9eccbd-3da0-4f6c-a773-1d808904fdc5\" xlink:show=\"new\" xlink:title=\"psysml:4e9eccbd-3da0-4f6c-a773-1d808904fdc5\" xlink:type=\"simple\"><path d=\"M134.44,541.68 C143.55,559.83 153.45,579.55 160.8,594.19 \" fill=\"none\" id=\"E5&lt;-E7\" style=\"stroke: #383838; stroke-width: 1.0;\"/><polygon fill=\"#383838\" points=\"128.6,530.05,127.7161,537.2067,133.9824,540.7752,134.8663,533.6185,128.6,530.05\" style=\"stroke: #383838; stroke-width: 1.0;\"/></a><!--MD5=[03c8294790d3c57651a1993cecff665f]\n",
       "reverse link E8 to E3--><a href=\"psysml:800170d4-464e-4c2e-99b4-fb1d2de59c3f\" target=\"_top\" title=\"psysml:800170d4-464e-4c2e-99b4-fb1d2de59c3f\" xlink:actuate=\"onRequest\" xlink:href=\"psysml:800170d4-464e-4c2e-99b4-fb1d2de59c3f\" xlink:show=\"new\" xlink:title=\"psysml:800170d4-464e-4c2e-99b4-fb1d2de59c3f\" xlink:type=\"simple\"><path d=\"M98.98,128.98 C109.72,150.06 122.08,174.29 132.05,193.84 \" fill=\"none\" id=\"E8&lt;-E3\" style=\"stroke: #383838; stroke-width: 1.0;\"/><polygon fill=\"#FFFFFF\" points=\"93.03,117.33,92.1919,124.4922,98.4809,128.0206,99.319,120.8583,93.03,117.33\" style=\"stroke: #383838; stroke-width: 1.0;\"/><text fill=\"#000000\" font-family=\"sans-serif\" font-size=\"13\" lengthAdjust=\"spacingAndGlyphs\" textLength=\"7\" x=\"115\" y=\"160.0669\">y</text></a><!--MD5=[049ab558815ccadc2a7a6ffdb8f4a5ba]\n",
       "reverse link E8 to E5--><a href=\"psysml:800170d4-464e-4c2e-99b4-fb1d2de59c3f\" target=\"_top\" title=\"psysml:800170d4-464e-4c2e-99b4-fb1d2de59c3f\" xlink:actuate=\"onRequest\" xlink:href=\"psysml:800170d4-464e-4c2e-99b4-fb1d2de59c3f\" xlink:show=\"new\" xlink:title=\"psysml:800170d4-464e-4c2e-99b4-fb1d2de59c3f\" xlink:type=\"simple\"><path d=\"M73.89,130.53 C74.34,192.6 77.02,300.97 89,393 C91.63,413.19 96.24,435.39 100.47,453.55 \" fill=\"none\" id=\"E8&lt;-E5\" style=\"stroke: #383838; stroke-width: 1.0;\"/><polygon fill=\"#FFFFFF\" points=\"73.83,117.27,69.863,123.2919,73.8959,129.2698,77.8629,123.2479,73.83,117.27\" style=\"stroke: #383838; stroke-width: 1.0;\"/><text fill=\"#000000\" font-family=\"sans-serif\" font-size=\"13\" lengthAdjust=\"spacingAndGlyphs\" textLength=\"7\" x=\"82\" y=\"313.0669\">y</text></a><!--MD5=[38556a83865f4677f219e22fc84cc617]\n",
       "@startuml\r\n",
       " skinparam monochrome true\r\n",
       "skinparam classbackgroundcolor white\r\n",
       "skinparam shadowing false\r\n",
       "skinparam wrapWidth 300\r\n",
       "hide circle\r\n",
       "\r\n",
       "package \"BlockTest\" as E1  [[psysml:1f80f8be-3c31-4480-9ece-24461005c64a ]]  {\r\n",
       "comp usage \"f: A\" as E2  <<(T,blue)part>> [[psysml:77ca47e2-95bd-4f5e-baaf-35974d96745c ]] {\r\n",
       "}\r\n",
       "comp def \"A\" as E3  <<(T,blue)part def>> [[psysml:feda5581-6f8c-419d-8ba7-a8a04be8503b ]] {\r\n",
       "- - ports - -\r\n",
       "c: C\r\n",
       "}\r\n",
       "comp usage \"b: B\" as E4  <<(T,blue)part>> [[psysml:ebd0a90b-6b0b-4fe7-b689-bf63abb6537b ]] {\r\n",
       "}\r\n",
       "comp def \"B\" as E5  <<(T,blue)part def>> [[psysml:7287ae62-763a-4b84-8405-f658443750c5 ]] {\r\n",
       "- - ports - -\r\n",
       "x: ~C\r\n",
       "}\r\n",
       "package \"P\" as E6  [[psysml:8a2f941b-3a97-4b54-9145-5eb7e96c5b49 ]]  {\r\n",
       "}\r\n",
       "comp usage \"a: A\" as E7  <<(T,blue)part>> [[psysml:4e9eccbd-3da0-4f6c-a773-1d808904fdc5 ]] {\r\n",
       "}\r\n",
       "comp def \"C\" as E8  <<(T,blue)port def>> [[psysml:8c4f99f3-2675-4f4d-a756-da09d407570d ]] {\r\n",
       "- - references - -\r\n",
       "y: A, B <b>as</b> z2 \r\n",
       "}\r\n",
       "E2 - -:|> E3 [[psysml:f1219804-170d-45ce-a1b2-74df9d2ed655 ]] \r\n",
       "E3 *- - E4 [[psysml:ebd0a90b-6b0b-4fe7-b689-bf63abb6537b ]] \r\n",
       "E4 - -:|> E5 [[psysml:0b7e6d0b-da90-43fd-82ff-3f36fc5229c0 ]] \r\n",
       "E5 +- - E6 [[psysml:8a2f941b-3a97-4b54-9145-5eb7e96c5b49 ]] \r\n",
       "E7 - -:|> E3 [[psysml:edfb0c1d-eeea-43d5-bece-b0bce4203cff ]] \r\n",
       "E5 *- - E7 [[psysml:4e9eccbd-3da0-4f6c-a773-1d808904fdc5 ]] \r\n",
       "E8 o- - E3 [[psysml:800170d4-464e-4c2e-99b4-fb1d2de59c3f ]] : y\r\n",
       "E8 o- - E5 [[psysml:800170d4-464e-4c2e-99b4-fb1d2de59c3f ]] : y\r\n",
       "}\r\n",
       "@enduml\r\n",
       "\n",
       "PlantUML version 1.2020.13(Sat Jun 13 12:26:38 UTC 2020)\n",
       "(EPL source distribution)\n",
       "Java Runtime: OpenJDK Runtime Environment\n",
       "JVM: OpenJDK 64-Bit Server VM\n",
       "Default Encoding: UTF-8\n",
       "Language: en\n",
       "Country: null\n",
       "--></g></svg>"
      ]
     },
     "execution_count": 3,
     "metadata": {},
     "output_type": "execute_result"
    }
   ],
   "source": [
    "%viz --style=\"COMPTREE\" --view=\"Tree\" \"BlockTest\""
   ]
  },
  {
   "cell_type": "code",
   "execution_count": 4,
   "id": "british-aggregate",
   "metadata": {
    "execution": {
     "iopub.execute_input": "2021-03-26T12:07:36.769183Z",
     "iopub.status.busy": "2021-03-26T12:07:36.768546Z",
     "iopub.status.idle": "2021-03-26T12:07:36.778479Z",
     "shell.execute_reply": "2021-03-26T12:07:36.778853Z"
    }
   },
   "outputs": [
    {
     "data": {
      "image/svg+xml": [
       "<?xml version=\"1.0\" encoding=\"UTF-8\" standalone=\"no\"?><svg xmlns=\"http://www.w3.org/2000/svg\" xmlns:xlink=\"http://www.w3.org/1999/xlink\" contentScriptType=\"application/ecmascript\" contentStyleType=\"text/css\" height=\"12px\" preserveAspectRatio=\"none\" style=\"width:12px;height:12px;\" version=\"1.1\" viewBox=\"0 0 12 12\" width=\"12px\" zoomAndPan=\"magnify\"><defs/><g><!--MD5=[f19188ef49e11757b5c46753f95d9edc]\n",
       "@startuml\r\n",
       " skinparam monochrome true\r\n",
       "skinparam classbackgroundcolor white\r\n",
       "skinparam shadowing false\r\n",
       "skinparam wrapWidth 300\r\n",
       "hide circle\r\n",
       "\r\n",
       "@enduml\r\n",
       "\n",
       "PlantUML version 1.2020.13(Sat Jun 13 12:26:38 UTC 2020)\n",
       "(EPL source distribution)\n",
       "Java Runtime: OpenJDK Runtime Environment\n",
       "JVM: OpenJDK 64-Bit Server VM\n",
       "Default Encoding: UTF-8\n",
       "Language: en\n",
       "Country: null\n",
       "--></g></svg>"
      ]
     },
     "execution_count": 4,
     "metadata": {},
     "output_type": "execute_result"
    }
   ],
   "source": [
    "%viz --style=\"COMPTREE\" --view=\"State\" \"BlockTest\""
   ]
  },
  {
   "cell_type": "code",
   "execution_count": 5,
   "id": "identical-machine",
   "metadata": {
    "execution": {
     "iopub.execute_input": "2021-03-26T12:07:36.831887Z",
     "iopub.status.busy": "2021-03-26T12:07:36.831281Z",
     "iopub.status.idle": "2021-03-26T12:07:36.889250Z",
     "shell.execute_reply": "2021-03-26T12:07:36.887452Z"
    }
   },
   "outputs": [
    {
     "data": {
      "image/svg+xml": [
       "<?xml version=\"1.0\" encoding=\"UTF-8\" standalone=\"no\"?><svg xmlns=\"http://www.w3.org/2000/svg\" xmlns:xlink=\"http://www.w3.org/1999/xlink\" contentScriptType=\"application/ecmascript\" contentStyleType=\"text/css\" height=\"245px\" preserveAspectRatio=\"none\" style=\"width:548px;height:245px;\" version=\"1.1\" viewBox=\"0 0 548 245\" width=\"548px\" zoomAndPan=\"magnify\"><defs/><g><!--MD5=[fbc87193dbaf4d95561dea2c320d4a47]\n",
       "cluster E1--><a href=\"psysml:1f80f8be-3c31-4480-9ece-24461005c64a\" target=\"_top\" title=\"psysml:1f80f8be-3c31-4480-9ece-24461005c64a\" xlink:actuate=\"onRequest\" xlink:href=\"psysml:1f80f8be-3c31-4480-9ece-24461005c64a\" xlink:show=\"new\" xlink:title=\"psysml:1f80f8be-3c31-4480-9ece-24461005c64a\" xlink:type=\"simple\"><polygon fill=\"#FFFFFF\" points=\"16,6,99,6,106,28.2969,526,28.2969,526,233,16,233,16,6\" style=\"stroke: #000000; stroke-width: 1.5;\"/><line style=\"stroke: #000000; stroke-width: 1.5;\" x1=\"16\" x2=\"106\" y1=\"28.2969\" y2=\"28.2969\"/><text fill=\"#000000\" font-family=\"sans-serif\" font-size=\"14\" font-weight=\"bold\" lengthAdjust=\"spacingAndGlyphs\" textLength=\"77\" x=\"20\" y=\"20.9951\">BlockTest</text></a><!--MD5=[d5e69f78d87373223dbae638b30a9c99]\n",
       "cluster E3--><a href=\"psysml:feda5581-6f8c-419d-8ba7-a8a04be8503b\" target=\"_top\" title=\"psysml:feda5581-6f8c-419d-8ba7-a8a04be8503b\" xlink:actuate=\"onRequest\" xlink:href=\"psysml:feda5581-6f8c-419d-8ba7-a8a04be8503b\" xlink:show=\"new\" xlink:title=\"psysml:feda5581-6f8c-419d-8ba7-a8a04be8503b\" xlink:type=\"simple\"><rect fill=\"#FFFFFF\" height=\"154.5\" id=\"E3\" style=\"stroke: #383838; stroke-width: 1.5;\" width=\"120\" x=\"390\" y=\"62.5\"/><rect fill=\"#F8F8F8\" height=\"37.9375\" style=\"stroke: #383838; stroke-width: 1.5;\" width=\"120\" x=\"390\" y=\"62.5\"/><text fill=\"#000000\" font-family=\"sans-serif\" font-size=\"12\" font-style=\"italic\" lengthAdjust=\"spacingAndGlyphs\" textLength=\"64\" x=\"418\" y=\"78.6387\">«part def»</text><text fill=\"#000000\" font-family=\"sans-serif\" font-size=\"12\" lengthAdjust=\"spacingAndGlyphs\" textLength=\"8\" x=\"446\" y=\"92.6074\">A</text></a><!--MD5=[14e3b0961a2654348d326746436168a1]\n",
       "cluster E6--><a href=\"psysml:7287ae62-763a-4b84-8405-f658443750c5\" target=\"_top\" title=\"psysml:7287ae62-763a-4b84-8405-f658443750c5\" xlink:actuate=\"onRequest\" xlink:href=\"psysml:7287ae62-763a-4b84-8405-f658443750c5\" xlink:show=\"new\" xlink:title=\"psysml:7287ae62-763a-4b84-8405-f658443750c5\" xlink:type=\"simple\"><rect fill=\"#FFFFFF\" height=\"154.5\" id=\"E6\" style=\"stroke: #383838; stroke-width: 1.5;\" width=\"185\" x=\"197\" y=\"62.5\"/><rect fill=\"#F8F8F8\" height=\"37.9375\" style=\"stroke: #383838; stroke-width: 1.5;\" width=\"185\" x=\"197\" y=\"62.5\"/><text fill=\"#000000\" font-family=\"sans-serif\" font-size=\"12\" font-style=\"italic\" lengthAdjust=\"spacingAndGlyphs\" textLength=\"64\" x=\"257.5\" y=\"78.6387\">«part def»</text><text fill=\"#000000\" font-family=\"sans-serif\" font-size=\"12\" lengthAdjust=\"spacingAndGlyphs\" textLength=\"8\" x=\"285.5\" y=\"92.6074\">B</text></a><g id=\"E1.E10\"><a href=\"psysml:8c4f99f3-2675-4f4d-a756-da09d407570d\" target=\"_top\" title=\"psysml:8c4f99f3-2675-4f4d-a756-da09d407570d\" xlink:actuate=\"onRequest\" xlink:href=\"psysml:8c4f99f3-2675-4f4d-a756-da09d407570d\" xlink:show=\"new\" xlink:title=\"psysml:8c4f99f3-2675-4f4d-a756-da09d407570d\" xlink:type=\"simple\"><rect fill=\"#FFFFFF\" height=\"42.9375\" id=\"E10\" style=\"stroke: #383838; stroke-width: 1.5;\" width=\"71\" x=\"117.5\" y=\"41\"/><rect fill=\"#F8F8F8\" height=\"37.9375\" style=\"stroke: #383838; stroke-width: 1.5;\" width=\"71\" x=\"117.5\" y=\"41\"/><text fill=\"#000000\" font-family=\"sans-serif\" font-size=\"12\" font-style=\"italic\" lengthAdjust=\"spacingAndGlyphs\" textLength=\"64\" x=\"121\" y=\"57.1387\">«port def»</text><text fill=\"#000000\" font-family=\"sans-serif\" font-size=\"12\" lengthAdjust=\"spacingAndGlyphs\" textLength=\"8\" x=\"149\" y=\"71.1074\">C</text></a></g><g id=\"E1.E2\"><a href=\"psysml:77ca47e2-95bd-4f5e-baaf-35974d96745c\" target=\"_top\" title=\"psysml:77ca47e2-95bd-4f5e-baaf-35974d96745c\" xlink:actuate=\"onRequest\" xlink:href=\"psysml:77ca47e2-95bd-4f5e-baaf-35974d96745c\" xlink:show=\"new\" xlink:title=\"psysml:77ca47e2-95bd-4f5e-baaf-35974d96745c\" xlink:type=\"simple\"><rect fill=\"#FFFFFF\" height=\"40\" id=\"E2\" rx=\"10\" ry=\"10\" style=\"stroke: #383838; stroke-width: 1.5;\" width=\"50\" x=\"32\" y=\"42.5\"/><rect fill=\"#F8F8F8\" height=\"23.9688\" rx=\"10\" ry=\"10\" style=\"stroke: #F8F8F8; stroke-width: 1.5;\" width=\"50\" x=\"32\" y=\"42.5\"/><rect fill=\"#F8F8F8\" height=\"10\" style=\"stroke: #F8F8F8; stroke-width: 1.5;\" width=\"50\" x=\"32\" y=\"56.4688\"/><rect fill=\"none\" height=\"40\" id=\"E2\" rx=\"10\" ry=\"10\" style=\"stroke: #383838; stroke-width: 1.5;\" width=\"50\" x=\"32\" y=\"42.5\"/><text fill=\"#000000\" font-family=\"sans-serif\" font-size=\"12\" lengthAdjust=\"spacingAndGlyphs\" textLength=\"20\" x=\"47\" y=\"58.6387\">f: A</text></a></g><text fill=\"#000000\" font-family=\"sans-serif\" font-size=\"14\" lengthAdjust=\"spacingAndGlyphs\" textLength=\"27\" x=\"436.5\" y=\"41.1982\">c: C</text><rect fill=\"#383838\" height=\"12\" style=\"stroke: #F8F8F8; stroke-width: 1.5;\" width=\"12\" x=\"444\" y=\"56.5\"/><g id=\"E1.E3.E4\"><a href=\"psysml:ebd0a90b-6b0b-4fe7-b689-bf63abb6537b\" target=\"_top\" title=\"psysml:ebd0a90b-6b0b-4fe7-b689-bf63abb6537b\" xlink:actuate=\"onRequest\" xlink:href=\"psysml:ebd0a90b-6b0b-4fe7-b689-bf63abb6537b\" xlink:show=\"new\" xlink:title=\"psysml:ebd0a90b-6b0b-4fe7-b689-bf63abb6537b\" xlink:type=\"simple\"><rect fill=\"#FFFFFF\" height=\"40\" id=\"E4\" rx=\"10\" ry=\"10\" style=\"stroke: #383838; stroke-width: 1.5;\" width=\"50\" x=\"425\" y=\"161\"/><rect fill=\"#F8F8F8\" height=\"23.9688\" rx=\"10\" ry=\"10\" style=\"stroke: #F8F8F8; stroke-width: 1.5;\" width=\"50\" x=\"425\" y=\"161\"/><rect fill=\"#F8F8F8\" height=\"10\" style=\"stroke: #F8F8F8; stroke-width: 1.5;\" width=\"50\" x=\"425\" y=\"174.9688\"/><rect fill=\"none\" height=\"40\" id=\"E4\" rx=\"10\" ry=\"10\" style=\"stroke: #383838; stroke-width: 1.5;\" width=\"50\" x=\"425\" y=\"161\"/><text fill=\"#000000\" font-family=\"sans-serif\" font-size=\"12\" lengthAdjust=\"spacingAndGlyphs\" textLength=\"24\" x=\"438\" y=\"177.1387\">b: B</text></a></g><text fill=\"#000000\" font-family=\"sans-serif\" font-size=\"14\" lengthAdjust=\"spacingAndGlyphs\" textLength=\"38\" x=\"303\" y=\"41.1982\">x: ~C</text><rect fill=\"#383838\" height=\"12\" style=\"stroke: #F8F8F8; stroke-width: 1.5;\" width=\"12\" x=\"316\" y=\"56.5\"/><a href=\"psysml:8a2f941b-3a97-4b54-9145-5eb7e96c5b49\" target=\"_top\" title=\"psysml:8a2f941b-3a97-4b54-9145-5eb7e96c5b49\" xlink:actuate=\"onRequest\" xlink:href=\"psysml:8a2f941b-3a97-4b54-9145-5eb7e96c5b49\" xlink:show=\"new\" xlink:title=\"psysml:8a2f941b-3a97-4b54-9145-5eb7e96c5b49\" xlink:type=\"simple\"><polygon fill=\"#FFFFFF\" points=\"213,100,229,100,236,122.2969,243,122.2969,243,152.5938,213,152.5938,213,100\" style=\"stroke: #000000; stroke-width: 1.5;\"/><line style=\"stroke: #000000; stroke-width: 1.5;\" x1=\"213\" x2=\"236\" y1=\"122.2969\" y2=\"122.2969\"/><text fill=\"#000000\" font-family=\"sans-serif\" font-size=\"14\" font-weight=\"bold\" lengthAdjust=\"spacingAndGlyphs\" textLength=\"10\" x=\"217\" y=\"114.9951\">P</text></a><g id=\"E1.E6.E8\"><a href=\"psysml:4e9eccbd-3da0-4f6c-a773-1d808904fdc5\" target=\"_top\" title=\"psysml:4e9eccbd-3da0-4f6c-a773-1d808904fdc5\" xlink:actuate=\"onRequest\" xlink:href=\"psysml:4e9eccbd-3da0-4f6c-a773-1d808904fdc5\" xlink:show=\"new\" xlink:title=\"psysml:4e9eccbd-3da0-4f6c-a773-1d808904fdc5\" xlink:type=\"simple\"><rect fill=\"#FFFFFF\" height=\"40\" id=\"E8\" rx=\"10\" ry=\"10\" style=\"stroke: #383838; stroke-width: 1.5;\" width=\"50\" x=\"297\" y=\"161\"/><rect fill=\"#F8F8F8\" height=\"23.9688\" rx=\"10\" ry=\"10\" style=\"stroke: #F8F8F8; stroke-width: 1.5;\" width=\"50\" x=\"297\" y=\"161\"/><rect fill=\"#F8F8F8\" height=\"10\" style=\"stroke: #F8F8F8; stroke-width: 1.5;\" width=\"50\" x=\"297\" y=\"174.9688\"/><rect fill=\"none\" height=\"40\" id=\"E8\" rx=\"10\" ry=\"10\" style=\"stroke: #383838; stroke-width: 1.5;\" width=\"50\" x=\"297\" y=\"161\"/><text fill=\"#000000\" font-family=\"sans-serif\" font-size=\"12\" lengthAdjust=\"spacingAndGlyphs\" textLength=\"24\" x=\"310\" y=\"177.1387\">a: A</text></a></g><!--MD5=[d9eeef8d82d6d170e18159e4e52614c1]\n",
       "@startuml\r\n",
       "skinparam ranksep 8\r\n",
       "skinparam rectangle {\r\n",
       " backgroundColor<<block>> LightGreen\r\n",
       "}\r\n",
       " skinparam monochrome true\r\n",
       "skinparam classbackgroundcolor white\r\n",
       "skinparam shadowing false\r\n",
       "skinparam wrapWidth 300\r\n",
       "hide circle\r\n",
       "\r\n",
       "package \"BlockTest\" as E1  [[psysml:1f80f8be-3c31-4480-9ece-24461005c64a ]]  {\r\n",
       "rec usage \"f: A\" as E2  [[psysml:77ca47e2-95bd-4f5e-baaf-35974d96745c ]] {\r\n",
       "}\r\n",
       "rec def \"A\" as E3  <<(T,blue)part def>> [[psysml:feda5581-6f8c-419d-8ba7-a8a04be8503b ]] {\r\n",
       "rec usage \"b: B\" as E4  [[psysml:ebd0a90b-6b0b-4fe7-b689-bf63abb6537b ]] {\r\n",
       "}\r\n",
       "portin \"c: C\" as E5  <<(T,blue)port>> [[psysml:32f6582c-cfe7-4be0-a097-86306546e345 ]] \r\n",
       "}\r\n",
       "rec def \"B\" as E6  <<(T,blue)part def>> [[psysml:7287ae62-763a-4b84-8405-f658443750c5 ]] {\r\n",
       "package \"P\" as E7  [[psysml:8a2f941b-3a97-4b54-9145-5eb7e96c5b49 ]]  {\r\n",
       "}\r\n",
       "rec usage \"a: A\" as E8  [[psysml:4e9eccbd-3da0-4f6c-a773-1d808904fdc5 ]] {\r\n",
       "}\r\n",
       "portin \"x: ~C\" as E9  <<(T,blue)port>> [[psysml:8030edf4-ee82-408b-9211-cce203dbe0d1 ]] \r\n",
       "}\r\n",
       "def \"C\" as E10  <<(T,blue)port def>> [[psysml:8c4f99f3-2675-4f4d-a756-da09d407570d ]] \r\n",
       "}\r\n",
       "@enduml\r\n",
       "\n",
       "PlantUML version 1.2020.13(Sat Jun 13 12:26:38 UTC 2020)\n",
       "(EPL source distribution)\n",
       "Java Runtime: OpenJDK Runtime Environment\n",
       "JVM: OpenJDK 64-Bit Server VM\n",
       "Default Encoding: UTF-8\n",
       "Language: en\n",
       "Country: null\n",
       "--></g></svg>"
      ]
     },
     "execution_count": 5,
     "metadata": {},
     "output_type": "execute_result"
    }
   ],
   "source": [
    "%viz --style=\"COMPTREE\" --view=\"Interconnection\" \"BlockTest\""
   ]
  },
  {
   "cell_type": "code",
   "execution_count": 6,
   "id": "outdoor-energy",
   "metadata": {
    "execution": {
     "iopub.execute_input": "2021-03-26T12:07:36.942441Z",
     "iopub.status.busy": "2021-03-26T12:07:36.941953Z",
     "iopub.status.idle": "2021-03-26T12:07:36.951102Z",
     "shell.execute_reply": "2021-03-26T12:07:36.950450Z"
    }
   },
   "outputs": [
    {
     "data": {
      "image/svg+xml": [
       "<?xml version=\"1.0\" encoding=\"UTF-8\" standalone=\"no\"?><svg xmlns=\"http://www.w3.org/2000/svg\" xmlns:xlink=\"http://www.w3.org/1999/xlink\" contentScriptType=\"application/ecmascript\" contentStyleType=\"text/css\" height=\"12px\" preserveAspectRatio=\"none\" style=\"width:12px;height:12px;\" version=\"1.1\" viewBox=\"0 0 12 12\" width=\"12px\" zoomAndPan=\"magnify\"><defs/><g><!--MD5=[655b888544ca4751ea36af1068543f84]\n",
       "@startuml\r\n",
       "skinparam ranksep 8\r\n",
       " skinparam monochrome true\r\n",
       "skinparam classbackgroundcolor white\r\n",
       "skinparam shadowing false\r\n",
       "skinparam wrapWidth 300\r\n",
       "hide circle\r\n",
       "\r\n",
       "@enduml\r\n",
       "\n",
       "PlantUML version 1.2020.13(Sat Jun 13 12:26:38 UTC 2020)\n",
       "(EPL source distribution)\n",
       "Java Runtime: OpenJDK Runtime Environment\n",
       "JVM: OpenJDK 64-Bit Server VM\n",
       "Default Encoding: UTF-8\n",
       "Language: en\n",
       "Country: null\n",
       "--></g></svg>"
      ]
     },
     "execution_count": 6,
     "metadata": {},
     "output_type": "execute_result"
    }
   ],
   "source": [
    "%viz --style=\"COMPTREE\" --view=\"Action\" \"BlockTest\""
   ]
  },
  {
   "cell_type": "code",
   "execution_count": 7,
   "id": "sapphire-courage",
   "metadata": {
    "execution": {
     "iopub.execute_input": "2021-03-26T12:07:37.003113Z",
     "iopub.status.busy": "2021-03-26T12:07:37.002771Z",
     "iopub.status.idle": "2021-03-26T12:07:37.145168Z",
     "shell.execute_reply": "2021-03-26T12:07:37.144263Z"
    }
   },
   "outputs": [
    {
     "data": {
      "image/svg+xml": [
       "<?xml version=\"1.0\" encoding=\"UTF-8\" standalone=\"no\"?><svg xmlns=\"http://www.w3.org/2000/svg\" xmlns:xlink=\"http://www.w3.org/1999/xlink\" contentScriptType=\"application/ecmascript\" contentStyleType=\"text/css\" height=\"672px\" preserveAspectRatio=\"none\" style=\"width:231px;height:672px;\" version=\"1.1\" viewBox=\"0 0 231 672\" width=\"231px\" zoomAndPan=\"magnify\"><defs/><g><!--MD5=[fbc87193dbaf4d95561dea2c320d4a47]\n",
       "cluster E1--><a href=\"psysml:1f80f8be-3c31-4480-9ece-24461005c64a\" target=\"_top\" title=\"psysml:1f80f8be-3c31-4480-9ece-24461005c64a\" xlink:actuate=\"onRequest\" xlink:href=\"psysml:1f80f8be-3c31-4480-9ece-24461005c64a\" xlink:show=\"new\" xlink:title=\"psysml:1f80f8be-3c31-4480-9ece-24461005c64a\" xlink:type=\"simple\"><polygon fill=\"#FFFFFF\" points=\"16,6,99,6,106,28.2969,209,28.2969,209,660,16,660,16,6\" style=\"stroke: #000000; stroke-width: 1.5;\"/><line style=\"stroke: #000000; stroke-width: 1.5;\" x1=\"16\" x2=\"106\" y1=\"28.2969\" y2=\"28.2969\"/><text fill=\"#000000\" font-family=\"sans-serif\" font-size=\"14\" font-weight=\"bold\" lengthAdjust=\"spacingAndGlyphs\" textLength=\"77\" x=\"20\" y=\"20.9951\">BlockTest</text></a><!--MD5=[b4997ac47864f28c2f74865a473b2911]\n",
       "class E2--><a href=\"psysml:77ca47e2-95bd-4f5e-baaf-35974d96745c\" target=\"_top\" title=\"psysml:77ca47e2-95bd-4f5e-baaf-35974d96745c\" xlink:actuate=\"onRequest\" xlink:href=\"psysml:77ca47e2-95bd-4f5e-baaf-35974d96745c\" xlink:show=\"new\" xlink:title=\"psysml:77ca47e2-95bd-4f5e-baaf-35974d96745c\" xlink:type=\"simple\"><rect fill=\"#FFFFFF\" height=\"45.9375\" id=\"E2\" rx=\"10\" ry=\"10\" style=\"stroke: #383838; stroke-width: 1.5;\" width=\"42\" x=\"151\" y=\"56\"/><text fill=\"#000000\" font-family=\"sans-serif\" font-size=\"12\" font-style=\"italic\" lengthAdjust=\"spacingAndGlyphs\" textLength=\"40\" x=\"152\" y=\"72.1387\">«part»</text><text fill=\"#000000\" font-family=\"sans-serif\" font-size=\"12\" lengthAdjust=\"spacingAndGlyphs\" textLength=\"20\" x=\"162\" y=\"86.1074\">f: A</text><line style=\"stroke: #383838; stroke-width: 1.5;\" x1=\"152\" x2=\"192\" y1=\"93.9375\" y2=\"93.9375\"/></a><!--MD5=[09b614a08d8cba4a07c9adeb5e0fee81]\n",
       "class E3--><a href=\"psysml:feda5581-6f8c-419d-8ba7-a8a04be8503b\" target=\"_top\" title=\"psysml:feda5581-6f8c-419d-8ba7-a8a04be8503b\" xlink:actuate=\"onRequest\" xlink:href=\"psysml:feda5581-6f8c-419d-8ba7-a8a04be8503b\" xlink:show=\"new\" xlink:title=\"psysml:feda5581-6f8c-419d-8ba7-a8a04be8503b\" xlink:type=\"simple\"><rect fill=\"#FFFFFF\" height=\"75.5469\" id=\"E3\" style=\"stroke: #383838; stroke-width: 1.5;\" width=\"66\" x=\"118\" y=\"194\"/><text fill=\"#000000\" font-family=\"sans-serif\" font-size=\"12\" font-style=\"italic\" lengthAdjust=\"spacingAndGlyphs\" textLength=\"64\" x=\"119\" y=\"210.1387\">«part def»</text><text fill=\"#000000\" font-family=\"sans-serif\" font-size=\"12\" lengthAdjust=\"spacingAndGlyphs\" textLength=\"8\" x=\"147\" y=\"224.1074\">A</text><line style=\"stroke: #383838; stroke-width: 1.5;\" x1=\"119\" x2=\"183\" y1=\"231.9375\" y2=\"231.9375\"/><text fill=\"#000000\" font-family=\"sans-serif\" font-size=\"11\" lengthAdjust=\"spacingAndGlyphs\" textLength=\"22\" x=\"124\" y=\"262.9526\">c: C</text><line style=\"stroke: #383838; stroke-width: 1.0;\" x1=\"119\" x2=\"136\" y1=\"246.3398\" y2=\"246.3398\"/><text fill=\"#000000\" font-family=\"sans-serif\" font-size=\"11\" lengthAdjust=\"spacingAndGlyphs\" textLength=\"30\" x=\"136\" y=\"249.6479\">ports</text><line style=\"stroke: #383838; stroke-width: 1.0;\" x1=\"166\" x2=\"183\" y1=\"246.3398\" y2=\"246.3398\"/></a><!--MD5=[ebbe1d658d1005bcc118a6aa81145e00]\n",
       "class E4--><a href=\"psysml:ebd0a90b-6b0b-4fe7-b689-bf63abb6537b\" target=\"_top\" title=\"psysml:ebd0a90b-6b0b-4fe7-b689-bf63abb6537b\" xlink:actuate=\"onRequest\" xlink:href=\"psysml:ebd0a90b-6b0b-4fe7-b689-bf63abb6537b\" xlink:show=\"new\" xlink:title=\"psysml:ebd0a90b-6b0b-4fe7-b689-bf63abb6537b\" xlink:type=\"simple\"><rect fill=\"#FFFFFF\" height=\"45.9375\" id=\"E4\" rx=\"10\" ry=\"10\" style=\"stroke: #383838; stroke-width: 1.5;\" width=\"42\" x=\"106\" y=\"347\"/><text fill=\"#000000\" font-family=\"sans-serif\" font-size=\"12\" font-style=\"italic\" lengthAdjust=\"spacingAndGlyphs\" textLength=\"40\" x=\"107\" y=\"363.1387\">«part»</text><text fill=\"#000000\" font-family=\"sans-serif\" font-size=\"12\" lengthAdjust=\"spacingAndGlyphs\" textLength=\"24\" x=\"115\" y=\"377.1074\">b: B</text><line style=\"stroke: #383838; stroke-width: 1.5;\" x1=\"107\" x2=\"147\" y1=\"384.9375\" y2=\"384.9375\"/></a><!--MD5=[270fce915f116d4de14055a7c1d9a0f3]\n",
       "class E5--><a href=\"psysml:7287ae62-763a-4b84-8405-f658443750c5\" target=\"_top\" title=\"psysml:7287ae62-763a-4b84-8405-f658443750c5\" xlink:actuate=\"onRequest\" xlink:href=\"psysml:7287ae62-763a-4b84-8405-f658443750c5\" xlink:show=\"new\" xlink:title=\"psysml:7287ae62-763a-4b84-8405-f658443750c5\" xlink:type=\"simple\"><rect fill=\"#FFFFFF\" height=\"75.5469\" id=\"E5\" style=\"stroke: #383838; stroke-width: 1.5;\" width=\"66\" x=\"77\" y=\"454\"/><text fill=\"#000000\" font-family=\"sans-serif\" font-size=\"12\" font-style=\"italic\" lengthAdjust=\"spacingAndGlyphs\" textLength=\"64\" x=\"78\" y=\"470.1387\">«part def»</text><text fill=\"#000000\" font-family=\"sans-serif\" font-size=\"12\" lengthAdjust=\"spacingAndGlyphs\" textLength=\"8\" x=\"106\" y=\"484.1074\">B</text><line style=\"stroke: #383838; stroke-width: 1.5;\" x1=\"78\" x2=\"142\" y1=\"491.9375\" y2=\"491.9375\"/><text fill=\"#000000\" font-family=\"sans-serif\" font-size=\"11\" lengthAdjust=\"spacingAndGlyphs\" textLength=\"31\" x=\"83\" y=\"522.9526\">x: ~C</text><line style=\"stroke: #383838; stroke-width: 1.0;\" x1=\"78\" x2=\"95\" y1=\"506.3398\" y2=\"506.3398\"/><text fill=\"#000000\" font-family=\"sans-serif\" font-size=\"11\" lengthAdjust=\"spacingAndGlyphs\" textLength=\"30\" x=\"95\" y=\"509.6479\">ports</text><line style=\"stroke: #383838; stroke-width: 1.0;\" x1=\"125\" x2=\"142\" y1=\"506.3398\" y2=\"506.3398\"/></a><!--MD5=[2156ba9850f5573cc1fc38a6a4b2f02b]\n",
       "class E7--><a href=\"psysml:4e9eccbd-3da0-4f6c-a773-1d808904fdc5\" target=\"_top\" title=\"psysml:4e9eccbd-3da0-4f6c-a773-1d808904fdc5\" xlink:actuate=\"onRequest\" xlink:href=\"psysml:4e9eccbd-3da0-4f6c-a773-1d808904fdc5\" xlink:show=\"new\" xlink:title=\"psysml:4e9eccbd-3da0-4f6c-a773-1d808904fdc5\" xlink:type=\"simple\"><rect fill=\"#FFFFFF\" height=\"45.9375\" id=\"E7\" rx=\"10\" ry=\"10\" style=\"stroke: #383838; stroke-width: 1.5;\" width=\"42\" x=\"151\" y=\"594.5\"/><text fill=\"#000000\" font-family=\"sans-serif\" font-size=\"12\" font-style=\"italic\" lengthAdjust=\"spacingAndGlyphs\" textLength=\"40\" x=\"152\" y=\"610.6387\">«part»</text><text fill=\"#000000\" font-family=\"sans-serif\" font-size=\"12\" lengthAdjust=\"spacingAndGlyphs\" textLength=\"24\" x=\"160\" y=\"624.6074\">a: A</text><line style=\"stroke: #383838; stroke-width: 1.5;\" x1=\"152\" x2=\"192\" y1=\"632.4375\" y2=\"632.4375\"/></a><!--MD5=[b9389687b975829384b498ac4b7476b2]\n",
       "class E8--><a href=\"psysml:8c4f99f3-2675-4f4d-a756-da09d407570d\" target=\"_top\" title=\"psysml:8c4f99f3-2675-4f4d-a756-da09d407570d\" xlink:actuate=\"onRequest\" xlink:href=\"psysml:8c4f99f3-2675-4f4d-a756-da09d407570d\" xlink:show=\"new\" xlink:title=\"psysml:8c4f99f3-2675-4f4d-a756-da09d407570d\" xlink:type=\"simple\"><rect fill=\"#FFFFFF\" height=\"75.5469\" id=\"E8\" style=\"stroke: #383838; stroke-width: 1.5;\" width=\"84\" x=\"32\" y=\"41\"/><text fill=\"#000000\" font-family=\"sans-serif\" font-size=\"12\" font-style=\"italic\" lengthAdjust=\"spacingAndGlyphs\" textLength=\"64\" x=\"42\" y=\"57.1387\">«port def»</text><text fill=\"#000000\" font-family=\"sans-serif\" font-size=\"12\" lengthAdjust=\"spacingAndGlyphs\" textLength=\"8\" x=\"70\" y=\"71.1074\">C</text><line style=\"stroke: #383838; stroke-width: 1.5;\" x1=\"33\" x2=\"115\" y1=\"78.9375\" y2=\"78.9375\"/><text fill=\"#000000\" font-family=\"sans-serif\" font-size=\"11\" lengthAdjust=\"spacingAndGlyphs\" textLength=\"37\" x=\"38\" y=\"109.9526\">y: A, B</text><text fill=\"#000000\" font-family=\"sans-serif\" font-size=\"11\" font-weight=\"bold\" lengthAdjust=\"spacingAndGlyphs\" textLength=\"15\" x=\"79\" y=\"109.9526\">as</text><text fill=\"#000000\" font-family=\"sans-serif\" font-size=\"11\" lengthAdjust=\"spacingAndGlyphs\" textLength=\"12\" x=\"98\" y=\"109.9526\">z2</text><line style=\"stroke: #383838; stroke-width: 1.0;\" x1=\"33\" x2=\"43\" y1=\"93.3398\" y2=\"93.3398\"/><text fill=\"#000000\" font-family=\"sans-serif\" font-size=\"11\" lengthAdjust=\"spacingAndGlyphs\" textLength=\"62\" x=\"43\" y=\"96.6479\">references</text><line style=\"stroke: #383838; stroke-width: 1.0;\" x1=\"105\" x2=\"115\" y1=\"93.3398\" y2=\"93.3398\"/></a><a href=\"psysml:8a2f941b-3a97-4b54-9145-5eb7e96c5b49\" target=\"_top\" title=\"psysml:8a2f941b-3a97-4b54-9145-5eb7e96c5b49\" xlink:actuate=\"onRequest\" xlink:href=\"psysml:8a2f941b-3a97-4b54-9145-5eb7e96c5b49\" xlink:show=\"new\" xlink:title=\"psysml:8a2f941b-3a97-4b54-9145-5eb7e96c5b49\" xlink:type=\"simple\"><polygon fill=\"#FFFFFF\" points=\"86,591,102,591,109,613.2969,116,613.2969,116,643.5938,86,643.5938,86,591\" style=\"stroke: #000000; stroke-width: 1.5;\"/><line style=\"stroke: #000000; stroke-width: 1.5;\" x1=\"86\" x2=\"109\" y1=\"613.2969\" y2=\"613.2969\"/><text fill=\"#000000\" font-family=\"sans-serif\" font-size=\"14\" font-weight=\"bold\" lengthAdjust=\"spacingAndGlyphs\" textLength=\"10\" x=\"90\" y=\"605.9951\">P</text></a><!--MD5=[2720a5a1f2c3fca2055b230370638851]\n",
       "link E2 to E3--><a href=\"psysml:f1219804-170d-45ce-a1b2-74df9d2ed655\" target=\"_top\" title=\"psysml:f1219804-170d-45ce-a1b2-74df9d2ed655\" xlink:actuate=\"onRequest\" xlink:href=\"psysml:f1219804-170d-45ce-a1b2-74df9d2ed655\" xlink:show=\"new\" xlink:title=\"psysml:f1219804-170d-45ce-a1b2-74df9d2ed655\" xlink:type=\"simple\"><path d=\"M168.9,102.28 C166.28,121.12 162.41,148.97 158.94,173.94 \" fill=\"none\" id=\"E2-&gt;E3\" style=\"stroke: #383838; stroke-width: 1.0;\"/><polygon fill=\"#FFFFFF\" points=\"156.15,193.98,151.8354,174.1966,165.7018,176.1261,156.15,193.98\" style=\"stroke: #383838; stroke-width: 1.0;\"/><ellipse cx=\"154.6019\" cy=\"168.8266\" fill=\"#383838\" rx=\"2\" ry=\"2\" style=\"stroke: #383838; stroke-width: 1.0;\"/><ellipse cx=\"164.5065\" cy=\"170.2048\" fill=\"#383838\" rx=\"2\" ry=\"2\" style=\"stroke: #383838; stroke-width: 1.0;\"/></a><!--MD5=[4672eba38e49728da53d11aeb285b987]\n",
       "reverse link E3 to E4--><a href=\"psysml:ebd0a90b-6b0b-4fe7-b689-bf63abb6537b\" target=\"_top\" title=\"psysml:ebd0a90b-6b0b-4fe7-b689-bf63abb6537b\" xlink:actuate=\"onRequest\" xlink:href=\"psysml:ebd0a90b-6b0b-4fe7-b689-bf63abb6537b\" xlink:show=\"new\" xlink:title=\"psysml:ebd0a90b-6b0b-4fe7-b689-bf63abb6537b\" xlink:type=\"simple\"><path d=\"M142.17,283.02 C138.31,304.93 133.97,329.52 130.92,346.77 \" fill=\"none\" id=\"E3&lt;-E4\" style=\"stroke: #383838; stroke-width: 1.0;\"/><polygon fill=\"#383838\" points=\"144.44,270.16,139.4532,275.3688,142.3433,281.9754,147.3301,276.7666,144.44,270.16\" style=\"stroke: #383838; stroke-width: 1.0;\"/></a><!--MD5=[1b7591eae5389033d8d09a9d6721a717]\n",
       "link E4 to E5--><a href=\"psysml:0b7e6d0b-da90-43fd-82ff-3f36fc5229c0\" target=\"_top\" title=\"psysml:0b7e6d0b-da90-43fd-82ff-3f36fc5229c0\" xlink:actuate=\"onRequest\" xlink:href=\"psysml:0b7e6d0b-da90-43fd-82ff-3f36fc5229c0\" xlink:show=\"new\" xlink:title=\"psysml:0b7e6d0b-da90-43fd-82ff-3f36fc5229c0\" xlink:type=\"simple\"><path d=\"M123.88,393.01 C122.25,404.51 120.18,419.17 118.13,433.62 \" fill=\"none\" id=\"E4-&gt;E5\" style=\"stroke: #383838; stroke-width: 1.0;\"/><polygon fill=\"#FFFFFF\" points=\"115.3,453.57,111.0294,433.777,124.8914,435.7373,115.3,453.57\" style=\"stroke: #383838; stroke-width: 1.0;\"/><ellipse cx=\"113.8078\" cy=\"428.4132\" fill=\"#383838\" rx=\"2\" ry=\"2\" style=\"stroke: #383838; stroke-width: 1.0;\"/><ellipse cx=\"123.7093\" cy=\"429.8134\" fill=\"#383838\" rx=\"2\" ry=\"2\" style=\"stroke: #383838; stroke-width: 1.0;\"/></a><!--MD5=[85d356282659285ab4b2cfe2f634dd2b]\n",
       "reverse link E5 to E6--><a href=\"psysml:8a2f941b-3a97-4b54-9145-5eb7e96c5b49\" target=\"_top\" title=\"psysml:8a2f941b-3a97-4b54-9145-5eb7e96c5b49\" xlink:actuate=\"onRequest\" xlink:href=\"psysml:8a2f941b-3a97-4b54-9145-5eb7e96c5b49\" xlink:show=\"new\" xlink:title=\"psysml:8a2f941b-3a97-4b54-9145-5eb7e96c5b49\" xlink:type=\"simple\"><path d=\"M106.18,545.35 C105.04,561.08 103.83,577.65 102.87,590.83 \" fill=\"none\" id=\"E5&lt;-E6\" style=\"stroke: #383838; stroke-width: 1.0;\"/><ellipse cx=\"106.7138\" cy=\"538.0285\" fill=\"#FFFFFF\" rx=\"8\" ry=\"8\" style=\"stroke: #383838; stroke-width: 1.0;\"/><line style=\"stroke: #383838; stroke-width: 1.0;\" x1=\"106.1276\" x2=\"107.3\" y1=\"546.007\" y2=\"530.05\"/><line style=\"stroke: #383838; stroke-width: 1.0;\" x1=\"98.7353\" x2=\"114.6923\" y1=\"537.4423\" y2=\"538.6147\"/></a><!--MD5=[14ccda38c055a5c0da953d572bc50960]\n",
       "link E7 to E3--><a href=\"psysml:edfb0c1d-eeea-43d5-bece-b0bce4203cff\" target=\"_top\" title=\"psysml:edfb0c1d-eeea-43d5-bece-b0bce4203cff\" xlink:actuate=\"onRequest\" xlink:href=\"psysml:edfb0c1d-eeea-43d5-bece-b0bce4203cff\" xlink:show=\"new\" xlink:title=\"psysml:edfb0c1d-eeea-43d5-bece-b0bce4203cff\" xlink:type=\"simple\"><path d=\"M172.32,594.45 C172.8,548.41 173.03,438.69 166,347 C164.57,328.37 162.18,308.13 159.73,289.94 \" fill=\"none\" id=\"E7-&gt;E3\" style=\"stroke: #383838; stroke-width: 1.0;\"/><polygon fill=\"#FFFFFF\" points=\"156.92,270.12,166.5114,287.9527,152.6494,289.913,156.92,270.12\" style=\"stroke: #383838; stroke-width: 1.0;\"/><ellipse cx=\"165.3293\" cy=\"293.8766\" fill=\"#383838\" rx=\"2\" ry=\"2\" style=\"stroke: #383838; stroke-width: 1.0;\"/><ellipse cx=\"155.4278\" cy=\"295.2768\" fill=\"#383838\" rx=\"2\" ry=\"2\" style=\"stroke: #383838; stroke-width: 1.0;\"/></a><!--MD5=[452b418e7f8a40397a49b8c0a78acc5b]\n",
       "reverse link E5 to E7--><a href=\"psysml:4e9eccbd-3da0-4f6c-a773-1d808904fdc5\" target=\"_top\" title=\"psysml:4e9eccbd-3da0-4f6c-a773-1d808904fdc5\" xlink:actuate=\"onRequest\" xlink:href=\"psysml:4e9eccbd-3da0-4f6c-a773-1d808904fdc5\" xlink:show=\"new\" xlink:title=\"psysml:4e9eccbd-3da0-4f6c-a773-1d808904fdc5\" xlink:type=\"simple\"><path d=\"M134.44,541.68 C143.55,559.83 153.45,579.55 160.8,594.19 \" fill=\"none\" id=\"E5&lt;-E7\" style=\"stroke: #383838; stroke-width: 1.0;\"/><polygon fill=\"#383838\" points=\"128.6,530.05,127.7161,537.2067,133.9824,540.7752,134.8663,533.6185,128.6,530.05\" style=\"stroke: #383838; stroke-width: 1.0;\"/></a><!--MD5=[03c8294790d3c57651a1993cecff665f]\n",
       "reverse link E8 to E3--><a href=\"psysml:800170d4-464e-4c2e-99b4-fb1d2de59c3f\" target=\"_top\" title=\"psysml:800170d4-464e-4c2e-99b4-fb1d2de59c3f\" xlink:actuate=\"onRequest\" xlink:href=\"psysml:800170d4-464e-4c2e-99b4-fb1d2de59c3f\" xlink:show=\"new\" xlink:title=\"psysml:800170d4-464e-4c2e-99b4-fb1d2de59c3f\" xlink:type=\"simple\"><path d=\"M98.98,128.98 C109.72,150.06 122.08,174.29 132.05,193.84 \" fill=\"none\" id=\"E8&lt;-E3\" style=\"stroke: #383838; stroke-width: 1.0;\"/><polygon fill=\"#FFFFFF\" points=\"93.03,117.33,92.1919,124.4922,98.4809,128.0206,99.319,120.8583,93.03,117.33\" style=\"stroke: #383838; stroke-width: 1.0;\"/><text fill=\"#000000\" font-family=\"sans-serif\" font-size=\"13\" lengthAdjust=\"spacingAndGlyphs\" textLength=\"7\" x=\"115\" y=\"160.0669\">y</text></a><!--MD5=[049ab558815ccadc2a7a6ffdb8f4a5ba]\n",
       "reverse link E8 to E5--><a href=\"psysml:800170d4-464e-4c2e-99b4-fb1d2de59c3f\" target=\"_top\" title=\"psysml:800170d4-464e-4c2e-99b4-fb1d2de59c3f\" xlink:actuate=\"onRequest\" xlink:href=\"psysml:800170d4-464e-4c2e-99b4-fb1d2de59c3f\" xlink:show=\"new\" xlink:title=\"psysml:800170d4-464e-4c2e-99b4-fb1d2de59c3f\" xlink:type=\"simple\"><path d=\"M73.89,130.53 C74.34,192.6 77.02,300.97 89,393 C91.63,413.19 96.24,435.39 100.47,453.55 \" fill=\"none\" id=\"E8&lt;-E5\" style=\"stroke: #383838; stroke-width: 1.0;\"/><polygon fill=\"#FFFFFF\" points=\"73.83,117.27,69.863,123.2919,73.8959,129.2698,77.8629,123.2479,73.83,117.27\" style=\"stroke: #383838; stroke-width: 1.0;\"/><text fill=\"#000000\" font-family=\"sans-serif\" font-size=\"13\" lengthAdjust=\"spacingAndGlyphs\" textLength=\"7\" x=\"82\" y=\"313.0669\">y</text></a><!--MD5=[38556a83865f4677f219e22fc84cc617]\n",
       "@startuml\r\n",
       " skinparam monochrome true\r\n",
       "skinparam classbackgroundcolor white\r\n",
       "skinparam shadowing false\r\n",
       "skinparam wrapWidth 300\r\n",
       "hide circle\r\n",
       "\r\n",
       "package \"BlockTest\" as E1  [[psysml:1f80f8be-3c31-4480-9ece-24461005c64a ]]  {\r\n",
       "comp usage \"f: A\" as E2  <<(T,blue)part>> [[psysml:77ca47e2-95bd-4f5e-baaf-35974d96745c ]] {\r\n",
       "}\r\n",
       "comp def \"A\" as E3  <<(T,blue)part def>> [[psysml:feda5581-6f8c-419d-8ba7-a8a04be8503b ]] {\r\n",
       "- - ports - -\r\n",
       "c: C\r\n",
       "}\r\n",
       "comp usage \"b: B\" as E4  <<(T,blue)part>> [[psysml:ebd0a90b-6b0b-4fe7-b689-bf63abb6537b ]] {\r\n",
       "}\r\n",
       "comp def \"B\" as E5  <<(T,blue)part def>> [[psysml:7287ae62-763a-4b84-8405-f658443750c5 ]] {\r\n",
       "- - ports - -\r\n",
       "x: ~C\r\n",
       "}\r\n",
       "package \"P\" as E6  [[psysml:8a2f941b-3a97-4b54-9145-5eb7e96c5b49 ]]  {\r\n",
       "}\r\n",
       "comp usage \"a: A\" as E7  <<(T,blue)part>> [[psysml:4e9eccbd-3da0-4f6c-a773-1d808904fdc5 ]] {\r\n",
       "}\r\n",
       "comp def \"C\" as E8  <<(T,blue)port def>> [[psysml:8c4f99f3-2675-4f4d-a756-da09d407570d ]] {\r\n",
       "- - references - -\r\n",
       "y: A, B <b>as</b> z2 \r\n",
       "}\r\n",
       "E2 - -:|> E3 [[psysml:f1219804-170d-45ce-a1b2-74df9d2ed655 ]] \r\n",
       "E3 *- - E4 [[psysml:ebd0a90b-6b0b-4fe7-b689-bf63abb6537b ]] \r\n",
       "E4 - -:|> E5 [[psysml:0b7e6d0b-da90-43fd-82ff-3f36fc5229c0 ]] \r\n",
       "E5 +- - E6 [[psysml:8a2f941b-3a97-4b54-9145-5eb7e96c5b49 ]] \r\n",
       "E7 - -:|> E3 [[psysml:edfb0c1d-eeea-43d5-bece-b0bce4203cff ]] \r\n",
       "E5 *- - E7 [[psysml:4e9eccbd-3da0-4f6c-a773-1d808904fdc5 ]] \r\n",
       "E8 o- - E3 [[psysml:800170d4-464e-4c2e-99b4-fb1d2de59c3f ]] : y\r\n",
       "E8 o- - E5 [[psysml:800170d4-464e-4c2e-99b4-fb1d2de59c3f ]] : y\r\n",
       "}\r\n",
       "@enduml\r\n",
       "\n",
       "PlantUML version 1.2020.13(Sat Jun 13 12:26:38 UTC 2020)\n",
       "(EPL source distribution)\n",
       "Java Runtime: OpenJDK Runtime Environment\n",
       "JVM: OpenJDK 64-Bit Server VM\n",
       "Default Encoding: UTF-8\n",
       "Language: en\n",
       "Country: null\n",
       "--></g></svg>"
      ]
     },
     "execution_count": 7,
     "metadata": {},
     "output_type": "execute_result"
    }
   ],
   "source": [
    "%viz --style=\"COMPTREE\" --view=\"Sequence\" \"BlockTest\""
   ]
  },
  {
   "cell_type": "code",
   "execution_count": 8,
   "id": "knowing-profit",
   "metadata": {
    "execution": {
     "iopub.execute_input": "2021-03-26T12:07:37.198048Z",
     "iopub.status.busy": "2021-03-26T12:07:37.196894Z",
     "iopub.status.idle": "2021-03-26T12:07:37.280470Z",
     "shell.execute_reply": "2021-03-26T12:07:37.280836Z"
    }
   },
   "outputs": [
    {
     "data": {
      "image/svg+xml": [
       "<?xml version=\"1.0\" encoding=\"UTF-8\" standalone=\"no\"?><svg xmlns=\"http://www.w3.org/2000/svg\" xmlns:xlink=\"http://www.w3.org/1999/xlink\" contentScriptType=\"application/ecmascript\" contentStyleType=\"text/css\" height=\"672px\" preserveAspectRatio=\"none\" style=\"width:231px;height:672px;\" version=\"1.1\" viewBox=\"0 0 231 672\" width=\"231px\" zoomAndPan=\"magnify\"><defs/><g><!--MD5=[fbc87193dbaf4d95561dea2c320d4a47]\n",
       "cluster E1--><a href=\"psysml:1f80f8be-3c31-4480-9ece-24461005c64a\" target=\"_top\" title=\"psysml:1f80f8be-3c31-4480-9ece-24461005c64a\" xlink:actuate=\"onRequest\" xlink:href=\"psysml:1f80f8be-3c31-4480-9ece-24461005c64a\" xlink:show=\"new\" xlink:title=\"psysml:1f80f8be-3c31-4480-9ece-24461005c64a\" xlink:type=\"simple\"><polygon fill=\"#FFFFFF\" points=\"16,6,99,6,106,28.2969,209,28.2969,209,660,16,660,16,6\" style=\"stroke: #000000; stroke-width: 1.5;\"/><line style=\"stroke: #000000; stroke-width: 1.5;\" x1=\"16\" x2=\"106\" y1=\"28.2969\" y2=\"28.2969\"/><text fill=\"#000000\" font-family=\"sans-serif\" font-size=\"14\" font-weight=\"bold\" lengthAdjust=\"spacingAndGlyphs\" textLength=\"77\" x=\"20\" y=\"20.9951\">BlockTest</text></a><!--MD5=[b4997ac47864f28c2f74865a473b2911]\n",
       "class E2--><a href=\"psysml:77ca47e2-95bd-4f5e-baaf-35974d96745c\" target=\"_top\" title=\"psysml:77ca47e2-95bd-4f5e-baaf-35974d96745c\" xlink:actuate=\"onRequest\" xlink:href=\"psysml:77ca47e2-95bd-4f5e-baaf-35974d96745c\" xlink:show=\"new\" xlink:title=\"psysml:77ca47e2-95bd-4f5e-baaf-35974d96745c\" xlink:type=\"simple\"><rect fill=\"#FFFFFF\" height=\"45.9375\" id=\"E2\" rx=\"10\" ry=\"10\" style=\"stroke: #383838; stroke-width: 1.5;\" width=\"42\" x=\"151\" y=\"56\"/><text fill=\"#000000\" font-family=\"sans-serif\" font-size=\"12\" font-style=\"italic\" lengthAdjust=\"spacingAndGlyphs\" textLength=\"40\" x=\"152\" y=\"72.1387\">«part»</text><text fill=\"#000000\" font-family=\"sans-serif\" font-size=\"12\" lengthAdjust=\"spacingAndGlyphs\" textLength=\"20\" x=\"162\" y=\"86.1074\">f: A</text><line style=\"stroke: #383838; stroke-width: 1.5;\" x1=\"152\" x2=\"192\" y1=\"93.9375\" y2=\"93.9375\"/></a><!--MD5=[09b614a08d8cba4a07c9adeb5e0fee81]\n",
       "class E3--><a href=\"psysml:feda5581-6f8c-419d-8ba7-a8a04be8503b\" target=\"_top\" title=\"psysml:feda5581-6f8c-419d-8ba7-a8a04be8503b\" xlink:actuate=\"onRequest\" xlink:href=\"psysml:feda5581-6f8c-419d-8ba7-a8a04be8503b\" xlink:show=\"new\" xlink:title=\"psysml:feda5581-6f8c-419d-8ba7-a8a04be8503b\" xlink:type=\"simple\"><rect fill=\"#FFFFFF\" height=\"75.5469\" id=\"E3\" style=\"stroke: #383838; stroke-width: 1.5;\" width=\"66\" x=\"118\" y=\"194\"/><text fill=\"#000000\" font-family=\"sans-serif\" font-size=\"12\" font-style=\"italic\" lengthAdjust=\"spacingAndGlyphs\" textLength=\"64\" x=\"119\" y=\"210.1387\">«part def»</text><text fill=\"#000000\" font-family=\"sans-serif\" font-size=\"12\" lengthAdjust=\"spacingAndGlyphs\" textLength=\"8\" x=\"147\" y=\"224.1074\">A</text><line style=\"stroke: #383838; stroke-width: 1.5;\" x1=\"119\" x2=\"183\" y1=\"231.9375\" y2=\"231.9375\"/><text fill=\"#000000\" font-family=\"sans-serif\" font-size=\"11\" lengthAdjust=\"spacingAndGlyphs\" textLength=\"22\" x=\"124\" y=\"262.9526\">c: C</text><line style=\"stroke: #383838; stroke-width: 1.0;\" x1=\"119\" x2=\"136\" y1=\"246.3398\" y2=\"246.3398\"/><text fill=\"#000000\" font-family=\"sans-serif\" font-size=\"11\" lengthAdjust=\"spacingAndGlyphs\" textLength=\"30\" x=\"136\" y=\"249.6479\">ports</text><line style=\"stroke: #383838; stroke-width: 1.0;\" x1=\"166\" x2=\"183\" y1=\"246.3398\" y2=\"246.3398\"/></a><!--MD5=[ebbe1d658d1005bcc118a6aa81145e00]\n",
       "class E4--><a href=\"psysml:ebd0a90b-6b0b-4fe7-b689-bf63abb6537b\" target=\"_top\" title=\"psysml:ebd0a90b-6b0b-4fe7-b689-bf63abb6537b\" xlink:actuate=\"onRequest\" xlink:href=\"psysml:ebd0a90b-6b0b-4fe7-b689-bf63abb6537b\" xlink:show=\"new\" xlink:title=\"psysml:ebd0a90b-6b0b-4fe7-b689-bf63abb6537b\" xlink:type=\"simple\"><rect fill=\"#FFFFFF\" height=\"45.9375\" id=\"E4\" rx=\"10\" ry=\"10\" style=\"stroke: #383838; stroke-width: 1.5;\" width=\"42\" x=\"106\" y=\"347\"/><text fill=\"#000000\" font-family=\"sans-serif\" font-size=\"12\" font-style=\"italic\" lengthAdjust=\"spacingAndGlyphs\" textLength=\"40\" x=\"107\" y=\"363.1387\">«part»</text><text fill=\"#000000\" font-family=\"sans-serif\" font-size=\"12\" lengthAdjust=\"spacingAndGlyphs\" textLength=\"24\" x=\"115\" y=\"377.1074\">b: B</text><line style=\"stroke: #383838; stroke-width: 1.5;\" x1=\"107\" x2=\"147\" y1=\"384.9375\" y2=\"384.9375\"/></a><!--MD5=[270fce915f116d4de14055a7c1d9a0f3]\n",
       "class E5--><a href=\"psysml:7287ae62-763a-4b84-8405-f658443750c5\" target=\"_top\" title=\"psysml:7287ae62-763a-4b84-8405-f658443750c5\" xlink:actuate=\"onRequest\" xlink:href=\"psysml:7287ae62-763a-4b84-8405-f658443750c5\" xlink:show=\"new\" xlink:title=\"psysml:7287ae62-763a-4b84-8405-f658443750c5\" xlink:type=\"simple\"><rect fill=\"#FFFFFF\" height=\"75.5469\" id=\"E5\" style=\"stroke: #383838; stroke-width: 1.5;\" width=\"66\" x=\"77\" y=\"454\"/><text fill=\"#000000\" font-family=\"sans-serif\" font-size=\"12\" font-style=\"italic\" lengthAdjust=\"spacingAndGlyphs\" textLength=\"64\" x=\"78\" y=\"470.1387\">«part def»</text><text fill=\"#000000\" font-family=\"sans-serif\" font-size=\"12\" lengthAdjust=\"spacingAndGlyphs\" textLength=\"8\" x=\"106\" y=\"484.1074\">B</text><line style=\"stroke: #383838; stroke-width: 1.5;\" x1=\"78\" x2=\"142\" y1=\"491.9375\" y2=\"491.9375\"/><text fill=\"#000000\" font-family=\"sans-serif\" font-size=\"11\" lengthAdjust=\"spacingAndGlyphs\" textLength=\"31\" x=\"83\" y=\"522.9526\">x: ~C</text><line style=\"stroke: #383838; stroke-width: 1.0;\" x1=\"78\" x2=\"95\" y1=\"506.3398\" y2=\"506.3398\"/><text fill=\"#000000\" font-family=\"sans-serif\" font-size=\"11\" lengthAdjust=\"spacingAndGlyphs\" textLength=\"30\" x=\"95\" y=\"509.6479\">ports</text><line style=\"stroke: #383838; stroke-width: 1.0;\" x1=\"125\" x2=\"142\" y1=\"506.3398\" y2=\"506.3398\"/></a><!--MD5=[2156ba9850f5573cc1fc38a6a4b2f02b]\n",
       "class E7--><a href=\"psysml:4e9eccbd-3da0-4f6c-a773-1d808904fdc5\" target=\"_top\" title=\"psysml:4e9eccbd-3da0-4f6c-a773-1d808904fdc5\" xlink:actuate=\"onRequest\" xlink:href=\"psysml:4e9eccbd-3da0-4f6c-a773-1d808904fdc5\" xlink:show=\"new\" xlink:title=\"psysml:4e9eccbd-3da0-4f6c-a773-1d808904fdc5\" xlink:type=\"simple\"><rect fill=\"#FFFFFF\" height=\"45.9375\" id=\"E7\" rx=\"10\" ry=\"10\" style=\"stroke: #383838; stroke-width: 1.5;\" width=\"42\" x=\"151\" y=\"594.5\"/><text fill=\"#000000\" font-family=\"sans-serif\" font-size=\"12\" font-style=\"italic\" lengthAdjust=\"spacingAndGlyphs\" textLength=\"40\" x=\"152\" y=\"610.6387\">«part»</text><text fill=\"#000000\" font-family=\"sans-serif\" font-size=\"12\" lengthAdjust=\"spacingAndGlyphs\" textLength=\"24\" x=\"160\" y=\"624.6074\">a: A</text><line style=\"stroke: #383838; stroke-width: 1.5;\" x1=\"152\" x2=\"192\" y1=\"632.4375\" y2=\"632.4375\"/></a><!--MD5=[b9389687b975829384b498ac4b7476b2]\n",
       "class E8--><a href=\"psysml:8c4f99f3-2675-4f4d-a756-da09d407570d\" target=\"_top\" title=\"psysml:8c4f99f3-2675-4f4d-a756-da09d407570d\" xlink:actuate=\"onRequest\" xlink:href=\"psysml:8c4f99f3-2675-4f4d-a756-da09d407570d\" xlink:show=\"new\" xlink:title=\"psysml:8c4f99f3-2675-4f4d-a756-da09d407570d\" xlink:type=\"simple\"><rect fill=\"#FFFFFF\" height=\"75.5469\" id=\"E8\" style=\"stroke: #383838; stroke-width: 1.5;\" width=\"84\" x=\"32\" y=\"41\"/><text fill=\"#000000\" font-family=\"sans-serif\" font-size=\"12\" font-style=\"italic\" lengthAdjust=\"spacingAndGlyphs\" textLength=\"64\" x=\"42\" y=\"57.1387\">«port def»</text><text fill=\"#000000\" font-family=\"sans-serif\" font-size=\"12\" lengthAdjust=\"spacingAndGlyphs\" textLength=\"8\" x=\"70\" y=\"71.1074\">C</text><line style=\"stroke: #383838; stroke-width: 1.5;\" x1=\"33\" x2=\"115\" y1=\"78.9375\" y2=\"78.9375\"/><text fill=\"#000000\" font-family=\"sans-serif\" font-size=\"11\" lengthAdjust=\"spacingAndGlyphs\" textLength=\"37\" x=\"38\" y=\"109.9526\">y: A, B</text><text fill=\"#000000\" font-family=\"sans-serif\" font-size=\"11\" font-weight=\"bold\" lengthAdjust=\"spacingAndGlyphs\" textLength=\"15\" x=\"79\" y=\"109.9526\">as</text><text fill=\"#000000\" font-family=\"sans-serif\" font-size=\"11\" lengthAdjust=\"spacingAndGlyphs\" textLength=\"12\" x=\"98\" y=\"109.9526\">z2</text><line style=\"stroke: #383838; stroke-width: 1.0;\" x1=\"33\" x2=\"43\" y1=\"93.3398\" y2=\"93.3398\"/><text fill=\"#000000\" font-family=\"sans-serif\" font-size=\"11\" lengthAdjust=\"spacingAndGlyphs\" textLength=\"62\" x=\"43\" y=\"96.6479\">references</text><line style=\"stroke: #383838; stroke-width: 1.0;\" x1=\"105\" x2=\"115\" y1=\"93.3398\" y2=\"93.3398\"/></a><a href=\"psysml:8a2f941b-3a97-4b54-9145-5eb7e96c5b49\" target=\"_top\" title=\"psysml:8a2f941b-3a97-4b54-9145-5eb7e96c5b49\" xlink:actuate=\"onRequest\" xlink:href=\"psysml:8a2f941b-3a97-4b54-9145-5eb7e96c5b49\" xlink:show=\"new\" xlink:title=\"psysml:8a2f941b-3a97-4b54-9145-5eb7e96c5b49\" xlink:type=\"simple\"><polygon fill=\"#FFFFFF\" points=\"86,591,102,591,109,613.2969,116,613.2969,116,643.5938,86,643.5938,86,591\" style=\"stroke: #000000; stroke-width: 1.5;\"/><line style=\"stroke: #000000; stroke-width: 1.5;\" x1=\"86\" x2=\"109\" y1=\"613.2969\" y2=\"613.2969\"/><text fill=\"#000000\" font-family=\"sans-serif\" font-size=\"14\" font-weight=\"bold\" lengthAdjust=\"spacingAndGlyphs\" textLength=\"10\" x=\"90\" y=\"605.9951\">P</text></a><!--MD5=[2720a5a1f2c3fca2055b230370638851]\n",
       "link E2 to E3--><a href=\"psysml:f1219804-170d-45ce-a1b2-74df9d2ed655\" target=\"_top\" title=\"psysml:f1219804-170d-45ce-a1b2-74df9d2ed655\" xlink:actuate=\"onRequest\" xlink:href=\"psysml:f1219804-170d-45ce-a1b2-74df9d2ed655\" xlink:show=\"new\" xlink:title=\"psysml:f1219804-170d-45ce-a1b2-74df9d2ed655\" xlink:type=\"simple\"><path d=\"M168.9,102.28 C166.28,121.12 162.41,148.97 158.94,173.94 \" fill=\"none\" id=\"E2-&gt;E3\" style=\"stroke: #383838; stroke-width: 1.0;\"/><polygon fill=\"#FFFFFF\" points=\"156.15,193.98,151.8354,174.1966,165.7018,176.1261,156.15,193.98\" style=\"stroke: #383838; stroke-width: 1.0;\"/><ellipse cx=\"154.6019\" cy=\"168.8266\" fill=\"#383838\" rx=\"2\" ry=\"2\" style=\"stroke: #383838; stroke-width: 1.0;\"/><ellipse cx=\"164.5065\" cy=\"170.2048\" fill=\"#383838\" rx=\"2\" ry=\"2\" style=\"stroke: #383838; stroke-width: 1.0;\"/></a><!--MD5=[4672eba38e49728da53d11aeb285b987]\n",
       "reverse link E3 to E4--><a href=\"psysml:ebd0a90b-6b0b-4fe7-b689-bf63abb6537b\" target=\"_top\" title=\"psysml:ebd0a90b-6b0b-4fe7-b689-bf63abb6537b\" xlink:actuate=\"onRequest\" xlink:href=\"psysml:ebd0a90b-6b0b-4fe7-b689-bf63abb6537b\" xlink:show=\"new\" xlink:title=\"psysml:ebd0a90b-6b0b-4fe7-b689-bf63abb6537b\" xlink:type=\"simple\"><path d=\"M142.17,283.02 C138.31,304.93 133.97,329.52 130.92,346.77 \" fill=\"none\" id=\"E3&lt;-E4\" style=\"stroke: #383838; stroke-width: 1.0;\"/><polygon fill=\"#383838\" points=\"144.44,270.16,139.4532,275.3688,142.3433,281.9754,147.3301,276.7666,144.44,270.16\" style=\"stroke: #383838; stroke-width: 1.0;\"/></a><!--MD5=[1b7591eae5389033d8d09a9d6721a717]\n",
       "link E4 to E5--><a href=\"psysml:0b7e6d0b-da90-43fd-82ff-3f36fc5229c0\" target=\"_top\" title=\"psysml:0b7e6d0b-da90-43fd-82ff-3f36fc5229c0\" xlink:actuate=\"onRequest\" xlink:href=\"psysml:0b7e6d0b-da90-43fd-82ff-3f36fc5229c0\" xlink:show=\"new\" xlink:title=\"psysml:0b7e6d0b-da90-43fd-82ff-3f36fc5229c0\" xlink:type=\"simple\"><path d=\"M123.88,393.01 C122.25,404.51 120.18,419.17 118.13,433.62 \" fill=\"none\" id=\"E4-&gt;E5\" style=\"stroke: #383838; stroke-width: 1.0;\"/><polygon fill=\"#FFFFFF\" points=\"115.3,453.57,111.0294,433.777,124.8914,435.7373,115.3,453.57\" style=\"stroke: #383838; stroke-width: 1.0;\"/><ellipse cx=\"113.8078\" cy=\"428.4132\" fill=\"#383838\" rx=\"2\" ry=\"2\" style=\"stroke: #383838; stroke-width: 1.0;\"/><ellipse cx=\"123.7093\" cy=\"429.8134\" fill=\"#383838\" rx=\"2\" ry=\"2\" style=\"stroke: #383838; stroke-width: 1.0;\"/></a><!--MD5=[85d356282659285ab4b2cfe2f634dd2b]\n",
       "reverse link E5 to E6--><a href=\"psysml:8a2f941b-3a97-4b54-9145-5eb7e96c5b49\" target=\"_top\" title=\"psysml:8a2f941b-3a97-4b54-9145-5eb7e96c5b49\" xlink:actuate=\"onRequest\" xlink:href=\"psysml:8a2f941b-3a97-4b54-9145-5eb7e96c5b49\" xlink:show=\"new\" xlink:title=\"psysml:8a2f941b-3a97-4b54-9145-5eb7e96c5b49\" xlink:type=\"simple\"><path d=\"M106.18,545.35 C105.04,561.08 103.83,577.65 102.87,590.83 \" fill=\"none\" id=\"E5&lt;-E6\" style=\"stroke: #383838; stroke-width: 1.0;\"/><ellipse cx=\"106.7138\" cy=\"538.0285\" fill=\"#FFFFFF\" rx=\"8\" ry=\"8\" style=\"stroke: #383838; stroke-width: 1.0;\"/><line style=\"stroke: #383838; stroke-width: 1.0;\" x1=\"106.1276\" x2=\"107.3\" y1=\"546.007\" y2=\"530.05\"/><line style=\"stroke: #383838; stroke-width: 1.0;\" x1=\"98.7353\" x2=\"114.6923\" y1=\"537.4423\" y2=\"538.6147\"/></a><!--MD5=[14ccda38c055a5c0da953d572bc50960]\n",
       "link E7 to E3--><a href=\"psysml:edfb0c1d-eeea-43d5-bece-b0bce4203cff\" target=\"_top\" title=\"psysml:edfb0c1d-eeea-43d5-bece-b0bce4203cff\" xlink:actuate=\"onRequest\" xlink:href=\"psysml:edfb0c1d-eeea-43d5-bece-b0bce4203cff\" xlink:show=\"new\" xlink:title=\"psysml:edfb0c1d-eeea-43d5-bece-b0bce4203cff\" xlink:type=\"simple\"><path d=\"M172.32,594.45 C172.8,548.41 173.03,438.69 166,347 C164.57,328.37 162.18,308.13 159.73,289.94 \" fill=\"none\" id=\"E7-&gt;E3\" style=\"stroke: #383838; stroke-width: 1.0;\"/><polygon fill=\"#FFFFFF\" points=\"156.92,270.12,166.5114,287.9527,152.6494,289.913,156.92,270.12\" style=\"stroke: #383838; stroke-width: 1.0;\"/><ellipse cx=\"165.3293\" cy=\"293.8766\" fill=\"#383838\" rx=\"2\" ry=\"2\" style=\"stroke: #383838; stroke-width: 1.0;\"/><ellipse cx=\"155.4278\" cy=\"295.2768\" fill=\"#383838\" rx=\"2\" ry=\"2\" style=\"stroke: #383838; stroke-width: 1.0;\"/></a><!--MD5=[452b418e7f8a40397a49b8c0a78acc5b]\n",
       "reverse link E5 to E7--><a href=\"psysml:4e9eccbd-3da0-4f6c-a773-1d808904fdc5\" target=\"_top\" title=\"psysml:4e9eccbd-3da0-4f6c-a773-1d808904fdc5\" xlink:actuate=\"onRequest\" xlink:href=\"psysml:4e9eccbd-3da0-4f6c-a773-1d808904fdc5\" xlink:show=\"new\" xlink:title=\"psysml:4e9eccbd-3da0-4f6c-a773-1d808904fdc5\" xlink:type=\"simple\"><path d=\"M134.44,541.68 C143.55,559.83 153.45,579.55 160.8,594.19 \" fill=\"none\" id=\"E5&lt;-E7\" style=\"stroke: #383838; stroke-width: 1.0;\"/><polygon fill=\"#383838\" points=\"128.6,530.05,127.7161,537.2067,133.9824,540.7752,134.8663,533.6185,128.6,530.05\" style=\"stroke: #383838; stroke-width: 1.0;\"/></a><!--MD5=[03c8294790d3c57651a1993cecff665f]\n",
       "reverse link E8 to E3--><a href=\"psysml:800170d4-464e-4c2e-99b4-fb1d2de59c3f\" target=\"_top\" title=\"psysml:800170d4-464e-4c2e-99b4-fb1d2de59c3f\" xlink:actuate=\"onRequest\" xlink:href=\"psysml:800170d4-464e-4c2e-99b4-fb1d2de59c3f\" xlink:show=\"new\" xlink:title=\"psysml:800170d4-464e-4c2e-99b4-fb1d2de59c3f\" xlink:type=\"simple\"><path d=\"M98.98,128.98 C109.72,150.06 122.08,174.29 132.05,193.84 \" fill=\"none\" id=\"E8&lt;-E3\" style=\"stroke: #383838; stroke-width: 1.0;\"/><polygon fill=\"#FFFFFF\" points=\"93.03,117.33,92.1919,124.4922,98.4809,128.0206,99.319,120.8583,93.03,117.33\" style=\"stroke: #383838; stroke-width: 1.0;\"/><text fill=\"#000000\" font-family=\"sans-serif\" font-size=\"13\" lengthAdjust=\"spacingAndGlyphs\" textLength=\"7\" x=\"115\" y=\"160.0669\">y</text></a><!--MD5=[049ab558815ccadc2a7a6ffdb8f4a5ba]\n",
       "reverse link E8 to E5--><a href=\"psysml:800170d4-464e-4c2e-99b4-fb1d2de59c3f\" target=\"_top\" title=\"psysml:800170d4-464e-4c2e-99b4-fb1d2de59c3f\" xlink:actuate=\"onRequest\" xlink:href=\"psysml:800170d4-464e-4c2e-99b4-fb1d2de59c3f\" xlink:show=\"new\" xlink:title=\"psysml:800170d4-464e-4c2e-99b4-fb1d2de59c3f\" xlink:type=\"simple\"><path d=\"M73.89,130.53 C74.34,192.6 77.02,300.97 89,393 C91.63,413.19 96.24,435.39 100.47,453.55 \" fill=\"none\" id=\"E8&lt;-E5\" style=\"stroke: #383838; stroke-width: 1.0;\"/><polygon fill=\"#FFFFFF\" points=\"73.83,117.27,69.863,123.2919,73.8959,129.2698,77.8629,123.2479,73.83,117.27\" style=\"stroke: #383838; stroke-width: 1.0;\"/><text fill=\"#000000\" font-family=\"sans-serif\" font-size=\"13\" lengthAdjust=\"spacingAndGlyphs\" textLength=\"7\" x=\"82\" y=\"313.0669\">y</text></a><!--MD5=[38556a83865f4677f219e22fc84cc617]\n",
       "@startuml\r\n",
       " skinparam monochrome true\r\n",
       "skinparam classbackgroundcolor white\r\n",
       "skinparam shadowing false\r\n",
       "skinparam wrapWidth 300\r\n",
       "hide circle\r\n",
       "\r\n",
       "package \"BlockTest\" as E1  [[psysml:1f80f8be-3c31-4480-9ece-24461005c64a ]]  {\r\n",
       "comp usage \"f: A\" as E2  <<(T,blue)part>> [[psysml:77ca47e2-95bd-4f5e-baaf-35974d96745c ]] {\r\n",
       "}\r\n",
       "comp def \"A\" as E3  <<(T,blue)part def>> [[psysml:feda5581-6f8c-419d-8ba7-a8a04be8503b ]] {\r\n",
       "- - ports - -\r\n",
       "c: C\r\n",
       "}\r\n",
       "comp usage \"b: B\" as E4  <<(T,blue)part>> [[psysml:ebd0a90b-6b0b-4fe7-b689-bf63abb6537b ]] {\r\n",
       "}\r\n",
       "comp def \"B\" as E5  <<(T,blue)part def>> [[psysml:7287ae62-763a-4b84-8405-f658443750c5 ]] {\r\n",
       "- - ports - -\r\n",
       "x: ~C\r\n",
       "}\r\n",
       "package \"P\" as E6  [[psysml:8a2f941b-3a97-4b54-9145-5eb7e96c5b49 ]]  {\r\n",
       "}\r\n",
       "comp usage \"a: A\" as E7  <<(T,blue)part>> [[psysml:4e9eccbd-3da0-4f6c-a773-1d808904fdc5 ]] {\r\n",
       "}\r\n",
       "comp def \"C\" as E8  <<(T,blue)port def>> [[psysml:8c4f99f3-2675-4f4d-a756-da09d407570d ]] {\r\n",
       "- - references - -\r\n",
       "y: A, B <b>as</b> z2 \r\n",
       "}\r\n",
       "E2 - -:|> E3 [[psysml:f1219804-170d-45ce-a1b2-74df9d2ed655 ]] \r\n",
       "E3 *- - E4 [[psysml:ebd0a90b-6b0b-4fe7-b689-bf63abb6537b ]] \r\n",
       "E4 - -:|> E5 [[psysml:0b7e6d0b-da90-43fd-82ff-3f36fc5229c0 ]] \r\n",
       "E5 +- - E6 [[psysml:8a2f941b-3a97-4b54-9145-5eb7e96c5b49 ]] \r\n",
       "E7 - -:|> E3 [[psysml:edfb0c1d-eeea-43d5-bece-b0bce4203cff ]] \r\n",
       "E5 *- - E7 [[psysml:4e9eccbd-3da0-4f6c-a773-1d808904fdc5 ]] \r\n",
       "E8 o- - E3 [[psysml:800170d4-464e-4c2e-99b4-fb1d2de59c3f ]] : y\r\n",
       "E8 o- - E5 [[psysml:800170d4-464e-4c2e-99b4-fb1d2de59c3f ]] : y\r\n",
       "}\r\n",
       "@enduml\r\n",
       "\n",
       "PlantUML version 1.2020.13(Sat Jun 13 12:26:38 UTC 2020)\n",
       "(EPL source distribution)\n",
       "Java Runtime: OpenJDK Runtime Environment\n",
       "JVM: OpenJDK 64-Bit Server VM\n",
       "Default Encoding: UTF-8\n",
       "Language: en\n",
       "Country: null\n",
       "--></g></svg>"
      ]
     },
     "execution_count": 8,
     "metadata": {},
     "output_type": "execute_result"
    }
   ],
   "source": [
    "%viz --style=\"COMPTREE\" --view=\"MIXED\" \"BlockTest\""
   ]
  },
  {
   "cell_type": "code",
   "execution_count": 9,
   "id": "fallen-velvet",
   "metadata": {
    "execution": {
     "iopub.execute_input": "2021-03-26T12:07:37.331402Z",
     "iopub.status.busy": "2021-03-26T12:07:37.330721Z",
     "iopub.status.idle": "2021-03-26T12:07:37.408495Z",
     "shell.execute_reply": "2021-03-26T12:07:37.407072Z"
    }
   },
   "outputs": [
    {
     "data": {
      "image/svg+xml": [
       "<?xml version=\"1.0\" encoding=\"UTF-8\" standalone=\"no\"?><svg xmlns=\"http://www.w3.org/2000/svg\" xmlns:xlink=\"http://www.w3.org/1999/xlink\" contentScriptType=\"application/ecmascript\" contentStyleType=\"text/css\" height=\"672px\" preserveAspectRatio=\"none\" style=\"width:231px;height:672px;\" version=\"1.1\" viewBox=\"0 0 231 672\" width=\"231px\" zoomAndPan=\"magnify\"><defs/><g><!--MD5=[fbc87193dbaf4d95561dea2c320d4a47]\n",
       "cluster E1--><a href=\"psysml:1f80f8be-3c31-4480-9ece-24461005c64a\" target=\"_top\" title=\"psysml:1f80f8be-3c31-4480-9ece-24461005c64a\" xlink:actuate=\"onRequest\" xlink:href=\"psysml:1f80f8be-3c31-4480-9ece-24461005c64a\" xlink:show=\"new\" xlink:title=\"psysml:1f80f8be-3c31-4480-9ece-24461005c64a\" xlink:type=\"simple\"><polygon fill=\"#FFFFFF\" points=\"16,6,99,6,106,28.2969,209,28.2969,209,660,16,660,16,6\" style=\"stroke: #000000; stroke-width: 1.5;\"/><line style=\"stroke: #000000; stroke-width: 1.5;\" x1=\"16\" x2=\"106\" y1=\"28.2969\" y2=\"28.2969\"/><text fill=\"#000000\" font-family=\"sans-serif\" font-size=\"14\" font-weight=\"bold\" lengthAdjust=\"spacingAndGlyphs\" textLength=\"77\" x=\"20\" y=\"20.9951\">BlockTest</text></a><!--MD5=[b4997ac47864f28c2f74865a473b2911]\n",
       "class E2--><a href=\"psysml:77ca47e2-95bd-4f5e-baaf-35974d96745c\" target=\"_top\" title=\"psysml:77ca47e2-95bd-4f5e-baaf-35974d96745c\" xlink:actuate=\"onRequest\" xlink:href=\"psysml:77ca47e2-95bd-4f5e-baaf-35974d96745c\" xlink:show=\"new\" xlink:title=\"psysml:77ca47e2-95bd-4f5e-baaf-35974d96745c\" xlink:type=\"simple\"><rect fill=\"#FFFFFF\" height=\"45.9375\" id=\"E2\" rx=\"10\" ry=\"10\" style=\"stroke: #383838; stroke-width: 1.5;\" width=\"42\" x=\"151\" y=\"56\"/><text fill=\"#000000\" font-family=\"sans-serif\" font-size=\"12\" font-style=\"italic\" lengthAdjust=\"spacingAndGlyphs\" textLength=\"40\" x=\"152\" y=\"72.1387\">«part»</text><text fill=\"#000000\" font-family=\"sans-serif\" font-size=\"12\" lengthAdjust=\"spacingAndGlyphs\" textLength=\"20\" x=\"162\" y=\"86.1074\">f: A</text><line style=\"stroke: #383838; stroke-width: 1.5;\" x1=\"152\" x2=\"192\" y1=\"93.9375\" y2=\"93.9375\"/></a><!--MD5=[09b614a08d8cba4a07c9adeb5e0fee81]\n",
       "class E3--><a href=\"psysml:feda5581-6f8c-419d-8ba7-a8a04be8503b\" target=\"_top\" title=\"psysml:feda5581-6f8c-419d-8ba7-a8a04be8503b\" xlink:actuate=\"onRequest\" xlink:href=\"psysml:feda5581-6f8c-419d-8ba7-a8a04be8503b\" xlink:show=\"new\" xlink:title=\"psysml:feda5581-6f8c-419d-8ba7-a8a04be8503b\" xlink:type=\"simple\"><rect fill=\"#FFFFFF\" height=\"75.5469\" id=\"E3\" style=\"stroke: #383838; stroke-width: 1.5;\" width=\"66\" x=\"118\" y=\"194\"/><text fill=\"#000000\" font-family=\"sans-serif\" font-size=\"12\" font-style=\"italic\" lengthAdjust=\"spacingAndGlyphs\" textLength=\"64\" x=\"119\" y=\"210.1387\">«part def»</text><text fill=\"#000000\" font-family=\"sans-serif\" font-size=\"12\" lengthAdjust=\"spacingAndGlyphs\" textLength=\"8\" x=\"147\" y=\"224.1074\">A</text><line style=\"stroke: #383838; stroke-width: 1.5;\" x1=\"119\" x2=\"183\" y1=\"231.9375\" y2=\"231.9375\"/><text fill=\"#000000\" font-family=\"sans-serif\" font-size=\"11\" lengthAdjust=\"spacingAndGlyphs\" textLength=\"22\" x=\"124\" y=\"262.9526\">c: C</text><line style=\"stroke: #383838; stroke-width: 1.0;\" x1=\"119\" x2=\"136\" y1=\"246.3398\" y2=\"246.3398\"/><text fill=\"#000000\" font-family=\"sans-serif\" font-size=\"11\" lengthAdjust=\"spacingAndGlyphs\" textLength=\"30\" x=\"136\" y=\"249.6479\">ports</text><line style=\"stroke: #383838; stroke-width: 1.0;\" x1=\"166\" x2=\"183\" y1=\"246.3398\" y2=\"246.3398\"/></a><!--MD5=[ebbe1d658d1005bcc118a6aa81145e00]\n",
       "class E4--><a href=\"psysml:ebd0a90b-6b0b-4fe7-b689-bf63abb6537b\" target=\"_top\" title=\"psysml:ebd0a90b-6b0b-4fe7-b689-bf63abb6537b\" xlink:actuate=\"onRequest\" xlink:href=\"psysml:ebd0a90b-6b0b-4fe7-b689-bf63abb6537b\" xlink:show=\"new\" xlink:title=\"psysml:ebd0a90b-6b0b-4fe7-b689-bf63abb6537b\" xlink:type=\"simple\"><rect fill=\"#FFFFFF\" height=\"45.9375\" id=\"E4\" rx=\"10\" ry=\"10\" style=\"stroke: #383838; stroke-width: 1.5;\" width=\"42\" x=\"106\" y=\"347\"/><text fill=\"#000000\" font-family=\"sans-serif\" font-size=\"12\" font-style=\"italic\" lengthAdjust=\"spacingAndGlyphs\" textLength=\"40\" x=\"107\" y=\"363.1387\">«part»</text><text fill=\"#000000\" font-family=\"sans-serif\" font-size=\"12\" lengthAdjust=\"spacingAndGlyphs\" textLength=\"24\" x=\"115\" y=\"377.1074\">b: B</text><line style=\"stroke: #383838; stroke-width: 1.5;\" x1=\"107\" x2=\"147\" y1=\"384.9375\" y2=\"384.9375\"/></a><!--MD5=[60a26617385b1d2d0262a64233df1f8d]\n",
       "class E6--><a href=\"psysml:7287ae62-763a-4b84-8405-f658443750c5\" target=\"_top\" title=\"psysml:7287ae62-763a-4b84-8405-f658443750c5\" xlink:actuate=\"onRequest\" xlink:href=\"psysml:7287ae62-763a-4b84-8405-f658443750c5\" xlink:show=\"new\" xlink:title=\"psysml:7287ae62-763a-4b84-8405-f658443750c5\" xlink:type=\"simple\"><rect fill=\"#FFFFFF\" height=\"75.5469\" id=\"E6\" style=\"stroke: #383838; stroke-width: 1.5;\" width=\"66\" x=\"77\" y=\"454\"/><text fill=\"#000000\" font-family=\"sans-serif\" font-size=\"12\" font-style=\"italic\" lengthAdjust=\"spacingAndGlyphs\" textLength=\"64\" x=\"78\" y=\"470.1387\">«part def»</text><text fill=\"#000000\" font-family=\"sans-serif\" font-size=\"12\" lengthAdjust=\"spacingAndGlyphs\" textLength=\"8\" x=\"106\" y=\"484.1074\">B</text><line style=\"stroke: #383838; stroke-width: 1.5;\" x1=\"78\" x2=\"142\" y1=\"491.9375\" y2=\"491.9375\"/><text fill=\"#000000\" font-family=\"sans-serif\" font-size=\"11\" lengthAdjust=\"spacingAndGlyphs\" textLength=\"31\" x=\"83\" y=\"522.9526\">x: ~C</text><line style=\"stroke: #383838; stroke-width: 1.0;\" x1=\"78\" x2=\"95\" y1=\"506.3398\" y2=\"506.3398\"/><text fill=\"#000000\" font-family=\"sans-serif\" font-size=\"11\" lengthAdjust=\"spacingAndGlyphs\" textLength=\"30\" x=\"95\" y=\"509.6479\">ports</text><line style=\"stroke: #383838; stroke-width: 1.0;\" x1=\"125\" x2=\"142\" y1=\"506.3398\" y2=\"506.3398\"/></a><!--MD5=[b9389687b975829384b498ac4b7476b2]\n",
       "class E8--><a href=\"psysml:4e9eccbd-3da0-4f6c-a773-1d808904fdc5\" target=\"_top\" title=\"psysml:4e9eccbd-3da0-4f6c-a773-1d808904fdc5\" xlink:actuate=\"onRequest\" xlink:href=\"psysml:4e9eccbd-3da0-4f6c-a773-1d808904fdc5\" xlink:show=\"new\" xlink:title=\"psysml:4e9eccbd-3da0-4f6c-a773-1d808904fdc5\" xlink:type=\"simple\"><rect fill=\"#FFFFFF\" height=\"45.9375\" id=\"E8\" rx=\"10\" ry=\"10\" style=\"stroke: #383838; stroke-width: 1.5;\" width=\"42\" x=\"151\" y=\"594.5\"/><text fill=\"#000000\" font-family=\"sans-serif\" font-size=\"12\" font-style=\"italic\" lengthAdjust=\"spacingAndGlyphs\" textLength=\"40\" x=\"152\" y=\"610.6387\">«part»</text><text fill=\"#000000\" font-family=\"sans-serif\" font-size=\"12\" lengthAdjust=\"spacingAndGlyphs\" textLength=\"24\" x=\"160\" y=\"624.6074\">a: A</text><line style=\"stroke: #383838; stroke-width: 1.5;\" x1=\"152\" x2=\"192\" y1=\"632.4375\" y2=\"632.4375\"/></a><!--MD5=[96f4274e9e20536e775497830990834d]\n",
       "class E10--><a href=\"psysml:8c4f99f3-2675-4f4d-a756-da09d407570d\" target=\"_top\" title=\"psysml:8c4f99f3-2675-4f4d-a756-da09d407570d\" xlink:actuate=\"onRequest\" xlink:href=\"psysml:8c4f99f3-2675-4f4d-a756-da09d407570d\" xlink:show=\"new\" xlink:title=\"psysml:8c4f99f3-2675-4f4d-a756-da09d407570d\" xlink:type=\"simple\"><rect fill=\"#FFFFFF\" height=\"75.5469\" id=\"E10\" style=\"stroke: #383838; stroke-width: 1.5;\" width=\"84\" x=\"32\" y=\"41\"/><text fill=\"#000000\" font-family=\"sans-serif\" font-size=\"12\" font-style=\"italic\" lengthAdjust=\"spacingAndGlyphs\" textLength=\"64\" x=\"42\" y=\"57.1387\">«port def»</text><text fill=\"#000000\" font-family=\"sans-serif\" font-size=\"12\" lengthAdjust=\"spacingAndGlyphs\" textLength=\"8\" x=\"70\" y=\"71.1074\">C</text><line style=\"stroke: #383838; stroke-width: 1.5;\" x1=\"33\" x2=\"115\" y1=\"78.9375\" y2=\"78.9375\"/><text fill=\"#000000\" font-family=\"sans-serif\" font-size=\"11\" lengthAdjust=\"spacingAndGlyphs\" textLength=\"37\" x=\"38\" y=\"109.9526\">y: A, B</text><text fill=\"#000000\" font-family=\"sans-serif\" font-size=\"11\" font-weight=\"bold\" lengthAdjust=\"spacingAndGlyphs\" textLength=\"15\" x=\"79\" y=\"109.9526\">as</text><text fill=\"#000000\" font-family=\"sans-serif\" font-size=\"11\" lengthAdjust=\"spacingAndGlyphs\" textLength=\"12\" x=\"98\" y=\"109.9526\">z2</text><line style=\"stroke: #383838; stroke-width: 1.0;\" x1=\"33\" x2=\"43\" y1=\"93.3398\" y2=\"93.3398\"/><text fill=\"#000000\" font-family=\"sans-serif\" font-size=\"11\" lengthAdjust=\"spacingAndGlyphs\" textLength=\"62\" x=\"43\" y=\"96.6479\">references</text><line style=\"stroke: #383838; stroke-width: 1.0;\" x1=\"105\" x2=\"115\" y1=\"93.3398\" y2=\"93.3398\"/></a><a href=\"psysml:8a2f941b-3a97-4b54-9145-5eb7e96c5b49\" target=\"_top\" title=\"psysml:8a2f941b-3a97-4b54-9145-5eb7e96c5b49\" xlink:actuate=\"onRequest\" xlink:href=\"psysml:8a2f941b-3a97-4b54-9145-5eb7e96c5b49\" xlink:show=\"new\" xlink:title=\"psysml:8a2f941b-3a97-4b54-9145-5eb7e96c5b49\" xlink:type=\"simple\"><polygon fill=\"#FFFFFF\" points=\"86,591,102,591,109,613.2969,116,613.2969,116,643.5938,86,643.5938,86,591\" style=\"stroke: #000000; stroke-width: 1.5;\"/><line style=\"stroke: #000000; stroke-width: 1.5;\" x1=\"86\" x2=\"109\" y1=\"613.2969\" y2=\"613.2969\"/><text fill=\"#000000\" font-family=\"sans-serif\" font-size=\"14\" font-weight=\"bold\" lengthAdjust=\"spacingAndGlyphs\" textLength=\"10\" x=\"90\" y=\"605.9951\">P</text></a><!--MD5=[2720a5a1f2c3fca2055b230370638851]\n",
       "link E2 to E3--><a href=\"psysml:f1219804-170d-45ce-a1b2-74df9d2ed655\" target=\"_top\" title=\"psysml:f1219804-170d-45ce-a1b2-74df9d2ed655\" xlink:actuate=\"onRequest\" xlink:href=\"psysml:f1219804-170d-45ce-a1b2-74df9d2ed655\" xlink:show=\"new\" xlink:title=\"psysml:f1219804-170d-45ce-a1b2-74df9d2ed655\" xlink:type=\"simple\"><path d=\"M168.9,102.28 C166.28,121.12 162.41,148.97 158.94,173.94 \" fill=\"none\" id=\"E2-&gt;E3\" style=\"stroke: #383838; stroke-width: 1.0;\"/><polygon fill=\"#FFFFFF\" points=\"156.15,193.98,151.8354,174.1966,165.7018,176.1261,156.15,193.98\" style=\"stroke: #383838; stroke-width: 1.0;\"/><ellipse cx=\"154.6019\" cy=\"168.8266\" fill=\"#383838\" rx=\"2\" ry=\"2\" style=\"stroke: #383838; stroke-width: 1.0;\"/><ellipse cx=\"164.5065\" cy=\"170.2048\" fill=\"#383838\" rx=\"2\" ry=\"2\" style=\"stroke: #383838; stroke-width: 1.0;\"/></a><!--MD5=[4672eba38e49728da53d11aeb285b987]\n",
       "reverse link E3 to E4--><a href=\"psysml:ebd0a90b-6b0b-4fe7-b689-bf63abb6537b\" target=\"_top\" title=\"psysml:ebd0a90b-6b0b-4fe7-b689-bf63abb6537b\" xlink:actuate=\"onRequest\" xlink:href=\"psysml:ebd0a90b-6b0b-4fe7-b689-bf63abb6537b\" xlink:show=\"new\" xlink:title=\"psysml:ebd0a90b-6b0b-4fe7-b689-bf63abb6537b\" xlink:type=\"simple\"><path d=\"M142.17,283.02 C138.31,304.93 133.97,329.52 130.92,346.77 \" fill=\"none\" id=\"E3&lt;-E4\" style=\"stroke: #383838; stroke-width: 1.0;\"/><polygon fill=\"#383838\" points=\"144.44,270.16,139.4532,275.3688,142.3433,281.9754,147.3301,276.7666,144.44,270.16\" style=\"stroke: #383838; stroke-width: 1.0;\"/></a><!--MD5=[79568f1e445c3877b6a54524624ccc7d]\n",
       "link E4 to E6--><a href=\"psysml:0b7e6d0b-da90-43fd-82ff-3f36fc5229c0\" target=\"_top\" title=\"psysml:0b7e6d0b-da90-43fd-82ff-3f36fc5229c0\" xlink:actuate=\"onRequest\" xlink:href=\"psysml:0b7e6d0b-da90-43fd-82ff-3f36fc5229c0\" xlink:show=\"new\" xlink:title=\"psysml:0b7e6d0b-da90-43fd-82ff-3f36fc5229c0\" xlink:type=\"simple\"><path d=\"M123.88,393.01 C122.25,404.51 120.18,419.17 118.13,433.62 \" fill=\"none\" id=\"E4-&gt;E6\" style=\"stroke: #383838; stroke-width: 1.0;\"/><polygon fill=\"#FFFFFF\" points=\"115.3,453.57,111.0294,433.777,124.8914,435.7373,115.3,453.57\" style=\"stroke: #383838; stroke-width: 1.0;\"/><ellipse cx=\"113.8078\" cy=\"428.4132\" fill=\"#383838\" rx=\"2\" ry=\"2\" style=\"stroke: #383838; stroke-width: 1.0;\"/><ellipse cx=\"123.7093\" cy=\"429.8134\" fill=\"#383838\" rx=\"2\" ry=\"2\" style=\"stroke: #383838; stroke-width: 1.0;\"/></a><!--MD5=[3f50a3473f1dfb74d3f76443e03635af]\n",
       "reverse link E6 to E7--><a href=\"psysml:8a2f941b-3a97-4b54-9145-5eb7e96c5b49\" target=\"_top\" title=\"psysml:8a2f941b-3a97-4b54-9145-5eb7e96c5b49\" xlink:actuate=\"onRequest\" xlink:href=\"psysml:8a2f941b-3a97-4b54-9145-5eb7e96c5b49\" xlink:show=\"new\" xlink:title=\"psysml:8a2f941b-3a97-4b54-9145-5eb7e96c5b49\" xlink:type=\"simple\"><path d=\"M106.18,545.35 C105.04,561.08 103.83,577.65 102.87,590.83 \" fill=\"none\" id=\"E6&lt;-E7\" style=\"stroke: #383838; stroke-width: 1.0;\"/><ellipse cx=\"106.7138\" cy=\"538.0285\" fill=\"#FFFFFF\" rx=\"8\" ry=\"8\" style=\"stroke: #383838; stroke-width: 1.0;\"/><line style=\"stroke: #383838; stroke-width: 1.0;\" x1=\"106.1276\" x2=\"107.3\" y1=\"546.007\" y2=\"530.05\"/><line style=\"stroke: #383838; stroke-width: 1.0;\" x1=\"98.7353\" x2=\"114.6923\" y1=\"537.4423\" y2=\"538.6147\"/></a><!--MD5=[95fa686b5a16158bcdbcaeead89f639b]\n",
       "link E8 to E3--><a href=\"psysml:edfb0c1d-eeea-43d5-bece-b0bce4203cff\" target=\"_top\" title=\"psysml:edfb0c1d-eeea-43d5-bece-b0bce4203cff\" xlink:actuate=\"onRequest\" xlink:href=\"psysml:edfb0c1d-eeea-43d5-bece-b0bce4203cff\" xlink:show=\"new\" xlink:title=\"psysml:edfb0c1d-eeea-43d5-bece-b0bce4203cff\" xlink:type=\"simple\"><path d=\"M171.51,594.45 C170.08,530.08 166,347 166,347 C166,347 162.24,318.43 158.49,289.89 \" fill=\"none\" id=\"E8-&gt;E3\" style=\"stroke: #383838; stroke-width: 1.0;\"/><polygon fill=\"#FFFFFF\" points=\"155.87,270.01,165.2808,287.9387,151.3996,289.7588,155.87,270.01\" style=\"stroke: #383838; stroke-width: 1.0;\"/><ellipse cx=\"164.0388\" cy=\"293.8503\" fill=\"#383838\" rx=\"2\" ry=\"2\" style=\"stroke: #383838; stroke-width: 1.0;\"/><ellipse cx=\"154.1237\" cy=\"295.1504\" fill=\"#383838\" rx=\"2\" ry=\"2\" style=\"stroke: #383838; stroke-width: 1.0;\"/></a><!--MD5=[f4cf0736d43fd73c4ef68817c49d37d5]\n",
       "reverse link E6 to E8--><a href=\"psysml:4e9eccbd-3da0-4f6c-a773-1d808904fdc5\" target=\"_top\" title=\"psysml:4e9eccbd-3da0-4f6c-a773-1d808904fdc5\" xlink:actuate=\"onRequest\" xlink:href=\"psysml:4e9eccbd-3da0-4f6c-a773-1d808904fdc5\" xlink:show=\"new\" xlink:title=\"psysml:4e9eccbd-3da0-4f6c-a773-1d808904fdc5\" xlink:type=\"simple\"><path d=\"M134.44,541.68 C143.55,559.83 153.45,579.55 160.8,594.19 \" fill=\"none\" id=\"E6&lt;-E8\" style=\"stroke: #383838; stroke-width: 1.0;\"/><polygon fill=\"#383838\" points=\"128.6,530.05,127.7161,537.2067,133.9824,540.7752,134.8663,533.6185,128.6,530.05\" style=\"stroke: #383838; stroke-width: 1.0;\"/></a><!--MD5=[8e04057e7b3cbc0dca4fc78ea351e2da]\n",
       "reverse link E10 to E3--><a href=\"psysml:800170d4-464e-4c2e-99b4-fb1d2de59c3f\" target=\"_top\" title=\"psysml:800170d4-464e-4c2e-99b4-fb1d2de59c3f\" xlink:actuate=\"onRequest\" xlink:href=\"psysml:800170d4-464e-4c2e-99b4-fb1d2de59c3f\" xlink:show=\"new\" xlink:title=\"psysml:800170d4-464e-4c2e-99b4-fb1d2de59c3f\" xlink:type=\"simple\"><path d=\"M98.98,128.98 C109.72,150.06 122.08,174.29 132.05,193.84 \" fill=\"none\" id=\"E10&lt;-E3\" style=\"stroke: #383838; stroke-width: 1.0;\"/><polygon fill=\"#FFFFFF\" points=\"93.03,117.33,92.1919,124.4922,98.4809,128.0206,99.319,120.8583,93.03,117.33\" style=\"stroke: #383838; stroke-width: 1.0;\"/><text fill=\"#000000\" font-family=\"sans-serif\" font-size=\"13\" lengthAdjust=\"spacingAndGlyphs\" textLength=\"7\" x=\"115\" y=\"160.0669\">y</text></a><!--MD5=[604cbf994c02b74b117f728a71673cea]\n",
       "reverse link E10 to E6--><a href=\"psysml:800170d4-464e-4c2e-99b4-fb1d2de59c3f\" target=\"_top\" title=\"psysml:800170d4-464e-4c2e-99b4-fb1d2de59c3f\" xlink:actuate=\"onRequest\" xlink:href=\"psysml:800170d4-464e-4c2e-99b4-fb1d2de59c3f\" xlink:show=\"new\" xlink:title=\"psysml:800170d4-464e-4c2e-99b4-fb1d2de59c3f\" xlink:type=\"simple\"><path d=\"M76.41,130.3 C80.65,218.79 89,393 89,393 C89,393 96.11,426.2 102.06,453.95 \" fill=\"none\" id=\"E10&lt;-E6\" style=\"stroke: #383838; stroke-width: 1.0;\"/><polygon fill=\"#FFFFFF\" points=\"75.78,117.13,72.0748,123.3164,76.3602,129.116,80.0654,122.9296,75.78,117.13\" style=\"stroke: #383838; stroke-width: 1.0;\"/><text fill=\"#000000\" font-family=\"sans-serif\" font-size=\"13\" lengthAdjust=\"spacingAndGlyphs\" textLength=\"7\" x=\"86\" y=\"313.0669\">y</text></a><!--MD5=[d22a4fe1e2a2031fb1ac80ee4ef1354c]\n",
       "@startuml\r\n",
       "skinparam linetype polyline\r\n",
       "skinparam monochrome true\r\n",
       "skinparam classbackgroundcolor white\r\n",
       "skinparam shadowing false\r\n",
       "skinparam wrapWidth 300\r\n",
       "hide circle\r\n",
       "\r\n",
       "package \"BlockTest\" as E1  [[psysml:1f80f8be-3c31-4480-9ece-24461005c64a ]]  {\r\n",
       "comp usage \"f: A\" as E2  <<(T,blue)part>> [[psysml:77ca47e2-95bd-4f5e-baaf-35974d96745c ]] {\r\n",
       "}\r\n",
       "comp def \"A\" as E3  <<(T,blue)part def>> [[psysml:feda5581-6f8c-419d-8ba7-a8a04be8503b ]] {\r\n",
       "- - ports - -\r\n",
       "c: C\r\n",
       "}\r\n",
       "comp usage \"b: B\" as E4  <<(T,blue)part>> [[psysml:ebd0a90b-6b0b-4fe7-b689-bf63abb6537b ]] {\r\n",
       "}\r\n",
       "comp def \"B\" as E6  <<(T,blue)part def>> [[psysml:7287ae62-763a-4b84-8405-f658443750c5 ]] {\r\n",
       "- - ports - -\r\n",
       "x: ~C\r\n",
       "}\r\n",
       "package \"P\" as E7  [[psysml:8a2f941b-3a97-4b54-9145-5eb7e96c5b49 ]]  {\r\n",
       "}\r\n",
       "comp usage \"a: A\" as E8  <<(T,blue)part>> [[psysml:4e9eccbd-3da0-4f6c-a773-1d808904fdc5 ]] {\r\n",
       "}\r\n",
       "comp def \"C\" as E10  <<(T,blue)port def>> [[psysml:8c4f99f3-2675-4f4d-a756-da09d407570d ]] {\r\n",
       "- - references - -\r\n",
       "y: A, B <b>as</b> z2 \r\n",
       "}\r\n",
       "E2 - -:|> E3 [[psysml:f1219804-170d-45ce-a1b2-74df9d2ed655 ]] \r\n",
       "E3 *- - E4 [[psysml:ebd0a90b-6b0b-4fe7-b689-bf63abb6537b ]] \r\n",
       "E4 - -:|> E6 [[psysml:0b7e6d0b-da90-43fd-82ff-3f36fc5229c0 ]] \r\n",
       "E6 +- - E7 [[psysml:8a2f941b-3a97-4b54-9145-5eb7e96c5b49 ]] \r\n",
       "E8 - -:|> E3 [[psysml:edfb0c1d-eeea-43d5-bece-b0bce4203cff ]] \r\n",
       "E6 *- - E8 [[psysml:4e9eccbd-3da0-4f6c-a773-1d808904fdc5 ]] \r\n",
       "E10 o- - E3 [[psysml:800170d4-464e-4c2e-99b4-fb1d2de59c3f ]] : y\r\n",
       "E10 o- - E6 [[psysml:800170d4-464e-4c2e-99b4-fb1d2de59c3f ]] : y\r\n",
       "}\r\n",
       "@enduml\r\n",
       "\n",
       "PlantUML version 1.2020.13(Sat Jun 13 12:26:38 UTC 2020)\n",
       "(EPL source distribution)\n",
       "Java Runtime: OpenJDK Runtime Environment\n",
       "JVM: OpenJDK 64-Bit Server VM\n",
       "Default Encoding: UTF-8\n",
       "Language: en\n",
       "Country: null\n",
       "--></g></svg>"
      ]
     },
     "execution_count": 9,
     "metadata": {},
     "output_type": "execute_result"
    }
   ],
   "source": [
    "%viz --style=\"POLYLINE\" --view=\"Default\" \"BlockTest\""
   ]
  },
  {
   "cell_type": "code",
   "execution_count": 10,
   "id": "missing-region",
   "metadata": {
    "execution": {
     "iopub.execute_input": "2021-03-26T12:07:37.459309Z",
     "iopub.status.busy": "2021-03-26T12:07:37.458727Z",
     "iopub.status.idle": "2021-03-26T12:07:37.550006Z",
     "shell.execute_reply": "2021-03-26T12:07:37.550529Z"
    }
   },
   "outputs": [
    {
     "data": {
      "image/svg+xml": [
       "<?xml version=\"1.0\" encoding=\"UTF-8\" standalone=\"no\"?><svg xmlns=\"http://www.w3.org/2000/svg\" xmlns:xlink=\"http://www.w3.org/1999/xlink\" contentScriptType=\"application/ecmascript\" contentStyleType=\"text/css\" height=\"672px\" preserveAspectRatio=\"none\" style=\"width:231px;height:672px;\" version=\"1.1\" viewBox=\"0 0 231 672\" width=\"231px\" zoomAndPan=\"magnify\"><defs/><g><!--MD5=[fbc87193dbaf4d95561dea2c320d4a47]\n",
       "cluster E1--><a href=\"psysml:1f80f8be-3c31-4480-9ece-24461005c64a\" target=\"_top\" title=\"psysml:1f80f8be-3c31-4480-9ece-24461005c64a\" xlink:actuate=\"onRequest\" xlink:href=\"psysml:1f80f8be-3c31-4480-9ece-24461005c64a\" xlink:show=\"new\" xlink:title=\"psysml:1f80f8be-3c31-4480-9ece-24461005c64a\" xlink:type=\"simple\"><polygon fill=\"#FFFFFF\" points=\"16,6,99,6,106,28.2969,209,28.2969,209,660,16,660,16,6\" style=\"stroke: #000000; stroke-width: 1.5;\"/><line style=\"stroke: #000000; stroke-width: 1.5;\" x1=\"16\" x2=\"106\" y1=\"28.2969\" y2=\"28.2969\"/><text fill=\"#000000\" font-family=\"sans-serif\" font-size=\"14\" font-weight=\"bold\" lengthAdjust=\"spacingAndGlyphs\" textLength=\"77\" x=\"20\" y=\"20.9951\">BlockTest</text></a><!--MD5=[b4997ac47864f28c2f74865a473b2911]\n",
       "class E2--><a href=\"psysml:77ca47e2-95bd-4f5e-baaf-35974d96745c\" target=\"_top\" title=\"psysml:77ca47e2-95bd-4f5e-baaf-35974d96745c\" xlink:actuate=\"onRequest\" xlink:href=\"psysml:77ca47e2-95bd-4f5e-baaf-35974d96745c\" xlink:show=\"new\" xlink:title=\"psysml:77ca47e2-95bd-4f5e-baaf-35974d96745c\" xlink:type=\"simple\"><rect fill=\"#FFFFFF\" height=\"45.9375\" id=\"E2\" rx=\"10\" ry=\"10\" style=\"stroke: #383838; stroke-width: 1.5;\" width=\"42\" x=\"151\" y=\"56\"/><text fill=\"#000000\" font-family=\"sans-serif\" font-size=\"12\" font-style=\"italic\" lengthAdjust=\"spacingAndGlyphs\" textLength=\"40\" x=\"152\" y=\"72.1387\">«part»</text><text fill=\"#000000\" font-family=\"sans-serif\" font-size=\"12\" lengthAdjust=\"spacingAndGlyphs\" textLength=\"20\" x=\"162\" y=\"86.1074\">f: A</text><line style=\"stroke: #383838; stroke-width: 1.5;\" x1=\"152\" x2=\"192\" y1=\"93.9375\" y2=\"93.9375\"/></a><!--MD5=[09b614a08d8cba4a07c9adeb5e0fee81]\n",
       "class E3--><a href=\"psysml:feda5581-6f8c-419d-8ba7-a8a04be8503b\" target=\"_top\" title=\"psysml:feda5581-6f8c-419d-8ba7-a8a04be8503b\" xlink:actuate=\"onRequest\" xlink:href=\"psysml:feda5581-6f8c-419d-8ba7-a8a04be8503b\" xlink:show=\"new\" xlink:title=\"psysml:feda5581-6f8c-419d-8ba7-a8a04be8503b\" xlink:type=\"simple\"><rect fill=\"#FFFFFF\" height=\"75.5469\" id=\"E3\" style=\"stroke: #383838; stroke-width: 1.5;\" width=\"66\" x=\"118\" y=\"194\"/><text fill=\"#000000\" font-family=\"sans-serif\" font-size=\"12\" font-style=\"italic\" lengthAdjust=\"spacingAndGlyphs\" textLength=\"64\" x=\"119\" y=\"210.1387\">«part def»</text><text fill=\"#000000\" font-family=\"sans-serif\" font-size=\"12\" lengthAdjust=\"spacingAndGlyphs\" textLength=\"8\" x=\"147\" y=\"224.1074\">A</text><line style=\"stroke: #383838; stroke-width: 1.5;\" x1=\"119\" x2=\"183\" y1=\"231.9375\" y2=\"231.9375\"/><text fill=\"#000000\" font-family=\"sans-serif\" font-size=\"11\" lengthAdjust=\"spacingAndGlyphs\" textLength=\"22\" x=\"124\" y=\"262.9526\">c: C</text><line style=\"stroke: #383838; stroke-width: 1.0;\" x1=\"119\" x2=\"136\" y1=\"246.3398\" y2=\"246.3398\"/><text fill=\"#000000\" font-family=\"sans-serif\" font-size=\"11\" lengthAdjust=\"spacingAndGlyphs\" textLength=\"30\" x=\"136\" y=\"249.6479\">ports</text><line style=\"stroke: #383838; stroke-width: 1.0;\" x1=\"166\" x2=\"183\" y1=\"246.3398\" y2=\"246.3398\"/></a><!--MD5=[ebbe1d658d1005bcc118a6aa81145e00]\n",
       "class E4--><a href=\"psysml:ebd0a90b-6b0b-4fe7-b689-bf63abb6537b\" target=\"_top\" title=\"psysml:ebd0a90b-6b0b-4fe7-b689-bf63abb6537b\" xlink:actuate=\"onRequest\" xlink:href=\"psysml:ebd0a90b-6b0b-4fe7-b689-bf63abb6537b\" xlink:show=\"new\" xlink:title=\"psysml:ebd0a90b-6b0b-4fe7-b689-bf63abb6537b\" xlink:type=\"simple\"><rect fill=\"#FFFFFF\" height=\"45.9375\" id=\"E4\" rx=\"10\" ry=\"10\" style=\"stroke: #383838; stroke-width: 1.5;\" width=\"42\" x=\"106\" y=\"347\"/><text fill=\"#000000\" font-family=\"sans-serif\" font-size=\"12\" font-style=\"italic\" lengthAdjust=\"spacingAndGlyphs\" textLength=\"40\" x=\"107\" y=\"363.1387\">«part»</text><text fill=\"#000000\" font-family=\"sans-serif\" font-size=\"12\" lengthAdjust=\"spacingAndGlyphs\" textLength=\"24\" x=\"115\" y=\"377.1074\">b: B</text><line style=\"stroke: #383838; stroke-width: 1.5;\" x1=\"107\" x2=\"147\" y1=\"384.9375\" y2=\"384.9375\"/></a><!--MD5=[60a26617385b1d2d0262a64233df1f8d]\n",
       "class E6--><a href=\"psysml:7287ae62-763a-4b84-8405-f658443750c5\" target=\"_top\" title=\"psysml:7287ae62-763a-4b84-8405-f658443750c5\" xlink:actuate=\"onRequest\" xlink:href=\"psysml:7287ae62-763a-4b84-8405-f658443750c5\" xlink:show=\"new\" xlink:title=\"psysml:7287ae62-763a-4b84-8405-f658443750c5\" xlink:type=\"simple\"><rect fill=\"#FFFFFF\" height=\"75.5469\" id=\"E6\" style=\"stroke: #383838; stroke-width: 1.5;\" width=\"66\" x=\"77\" y=\"454\"/><text fill=\"#000000\" font-family=\"sans-serif\" font-size=\"12\" font-style=\"italic\" lengthAdjust=\"spacingAndGlyphs\" textLength=\"64\" x=\"78\" y=\"470.1387\">«part def»</text><text fill=\"#000000\" font-family=\"sans-serif\" font-size=\"12\" lengthAdjust=\"spacingAndGlyphs\" textLength=\"8\" x=\"106\" y=\"484.1074\">B</text><line style=\"stroke: #383838; stroke-width: 1.5;\" x1=\"78\" x2=\"142\" y1=\"491.9375\" y2=\"491.9375\"/><text fill=\"#000000\" font-family=\"sans-serif\" font-size=\"11\" lengthAdjust=\"spacingAndGlyphs\" textLength=\"31\" x=\"83\" y=\"522.9526\">x: ~C</text><line style=\"stroke: #383838; stroke-width: 1.0;\" x1=\"78\" x2=\"95\" y1=\"506.3398\" y2=\"506.3398\"/><text fill=\"#000000\" font-family=\"sans-serif\" font-size=\"11\" lengthAdjust=\"spacingAndGlyphs\" textLength=\"30\" x=\"95\" y=\"509.6479\">ports</text><line style=\"stroke: #383838; stroke-width: 1.0;\" x1=\"125\" x2=\"142\" y1=\"506.3398\" y2=\"506.3398\"/></a><!--MD5=[b9389687b975829384b498ac4b7476b2]\n",
       "class E8--><a href=\"psysml:4e9eccbd-3da0-4f6c-a773-1d808904fdc5\" target=\"_top\" title=\"psysml:4e9eccbd-3da0-4f6c-a773-1d808904fdc5\" xlink:actuate=\"onRequest\" xlink:href=\"psysml:4e9eccbd-3da0-4f6c-a773-1d808904fdc5\" xlink:show=\"new\" xlink:title=\"psysml:4e9eccbd-3da0-4f6c-a773-1d808904fdc5\" xlink:type=\"simple\"><rect fill=\"#FFFFFF\" height=\"45.9375\" id=\"E8\" rx=\"10\" ry=\"10\" style=\"stroke: #383838; stroke-width: 1.5;\" width=\"42\" x=\"151\" y=\"594.5\"/><text fill=\"#000000\" font-family=\"sans-serif\" font-size=\"12\" font-style=\"italic\" lengthAdjust=\"spacingAndGlyphs\" textLength=\"40\" x=\"152\" y=\"610.6387\">«part»</text><text fill=\"#000000\" font-family=\"sans-serif\" font-size=\"12\" lengthAdjust=\"spacingAndGlyphs\" textLength=\"24\" x=\"160\" y=\"624.6074\">a: A</text><line style=\"stroke: #383838; stroke-width: 1.5;\" x1=\"152\" x2=\"192\" y1=\"632.4375\" y2=\"632.4375\"/></a><!--MD5=[96f4274e9e20536e775497830990834d]\n",
       "class E10--><a href=\"psysml:8c4f99f3-2675-4f4d-a756-da09d407570d\" target=\"_top\" title=\"psysml:8c4f99f3-2675-4f4d-a756-da09d407570d\" xlink:actuate=\"onRequest\" xlink:href=\"psysml:8c4f99f3-2675-4f4d-a756-da09d407570d\" xlink:show=\"new\" xlink:title=\"psysml:8c4f99f3-2675-4f4d-a756-da09d407570d\" xlink:type=\"simple\"><rect fill=\"#FFFFFF\" height=\"75.5469\" id=\"E10\" style=\"stroke: #383838; stroke-width: 1.5;\" width=\"84\" x=\"32\" y=\"41\"/><text fill=\"#000000\" font-family=\"sans-serif\" font-size=\"12\" font-style=\"italic\" lengthAdjust=\"spacingAndGlyphs\" textLength=\"64\" x=\"42\" y=\"57.1387\">«port def»</text><text fill=\"#000000\" font-family=\"sans-serif\" font-size=\"12\" lengthAdjust=\"spacingAndGlyphs\" textLength=\"8\" x=\"70\" y=\"71.1074\">C</text><line style=\"stroke: #383838; stroke-width: 1.5;\" x1=\"33\" x2=\"115\" y1=\"78.9375\" y2=\"78.9375\"/><text fill=\"#000000\" font-family=\"sans-serif\" font-size=\"11\" lengthAdjust=\"spacingAndGlyphs\" textLength=\"37\" x=\"38\" y=\"109.9526\">y: A, B</text><text fill=\"#000000\" font-family=\"sans-serif\" font-size=\"11\" font-weight=\"bold\" lengthAdjust=\"spacingAndGlyphs\" textLength=\"15\" x=\"79\" y=\"109.9526\">as</text><text fill=\"#000000\" font-family=\"sans-serif\" font-size=\"11\" lengthAdjust=\"spacingAndGlyphs\" textLength=\"12\" x=\"98\" y=\"109.9526\">z2</text><line style=\"stroke: #383838; stroke-width: 1.0;\" x1=\"33\" x2=\"43\" y1=\"93.3398\" y2=\"93.3398\"/><text fill=\"#000000\" font-family=\"sans-serif\" font-size=\"11\" lengthAdjust=\"spacingAndGlyphs\" textLength=\"62\" x=\"43\" y=\"96.6479\">references</text><line style=\"stroke: #383838; stroke-width: 1.0;\" x1=\"105\" x2=\"115\" y1=\"93.3398\" y2=\"93.3398\"/></a><a href=\"psysml:8a2f941b-3a97-4b54-9145-5eb7e96c5b49\" target=\"_top\" title=\"psysml:8a2f941b-3a97-4b54-9145-5eb7e96c5b49\" xlink:actuate=\"onRequest\" xlink:href=\"psysml:8a2f941b-3a97-4b54-9145-5eb7e96c5b49\" xlink:show=\"new\" xlink:title=\"psysml:8a2f941b-3a97-4b54-9145-5eb7e96c5b49\" xlink:type=\"simple\"><polygon fill=\"#FFFFFF\" points=\"86,591,102,591,109,613.2969,116,613.2969,116,643.5938,86,643.5938,86,591\" style=\"stroke: #000000; stroke-width: 1.5;\"/><line style=\"stroke: #000000; stroke-width: 1.5;\" x1=\"86\" x2=\"109\" y1=\"613.2969\" y2=\"613.2969\"/><text fill=\"#000000\" font-family=\"sans-serif\" font-size=\"14\" font-weight=\"bold\" lengthAdjust=\"spacingAndGlyphs\" textLength=\"10\" x=\"90\" y=\"605.9951\">P</text></a><!--MD5=[2720a5a1f2c3fca2055b230370638851]\n",
       "link E2 to E3--><a href=\"psysml:f1219804-170d-45ce-a1b2-74df9d2ed655\" target=\"_top\" title=\"psysml:f1219804-170d-45ce-a1b2-74df9d2ed655\" xlink:actuate=\"onRequest\" xlink:href=\"psysml:f1219804-170d-45ce-a1b2-74df9d2ed655\" xlink:show=\"new\" xlink:title=\"psysml:f1219804-170d-45ce-a1b2-74df9d2ed655\" xlink:type=\"simple\"><path d=\"M168.9,102.28 C166.28,121.12 162.41,148.97 158.94,173.94 \" fill=\"none\" id=\"E2-&gt;E3\" style=\"stroke: #383838; stroke-width: 1.0;\"/><polygon fill=\"#FFFFFF\" points=\"156.15,193.98,151.8354,174.1966,165.7018,176.1261,156.15,193.98\" style=\"stroke: #383838; stroke-width: 1.0;\"/><ellipse cx=\"154.6019\" cy=\"168.8266\" fill=\"#383838\" rx=\"2\" ry=\"2\" style=\"stroke: #383838; stroke-width: 1.0;\"/><ellipse cx=\"164.5065\" cy=\"170.2048\" fill=\"#383838\" rx=\"2\" ry=\"2\" style=\"stroke: #383838; stroke-width: 1.0;\"/></a><!--MD5=[4672eba38e49728da53d11aeb285b987]\n",
       "reverse link E3 to E4--><a href=\"psysml:ebd0a90b-6b0b-4fe7-b689-bf63abb6537b\" target=\"_top\" title=\"psysml:ebd0a90b-6b0b-4fe7-b689-bf63abb6537b\" xlink:actuate=\"onRequest\" xlink:href=\"psysml:ebd0a90b-6b0b-4fe7-b689-bf63abb6537b\" xlink:show=\"new\" xlink:title=\"psysml:ebd0a90b-6b0b-4fe7-b689-bf63abb6537b\" xlink:type=\"simple\"><path d=\"M142.17,283.02 C138.31,304.93 133.97,329.52 130.92,346.77 \" fill=\"none\" id=\"E3&lt;-E4\" style=\"stroke: #383838; stroke-width: 1.0;\"/><polygon fill=\"#383838\" points=\"144.44,270.16,139.4532,275.3688,142.3433,281.9754,147.3301,276.7666,144.44,270.16\" style=\"stroke: #383838; stroke-width: 1.0;\"/></a><!--MD5=[79568f1e445c3877b6a54524624ccc7d]\n",
       "link E4 to E6--><a href=\"psysml:0b7e6d0b-da90-43fd-82ff-3f36fc5229c0\" target=\"_top\" title=\"psysml:0b7e6d0b-da90-43fd-82ff-3f36fc5229c0\" xlink:actuate=\"onRequest\" xlink:href=\"psysml:0b7e6d0b-da90-43fd-82ff-3f36fc5229c0\" xlink:show=\"new\" xlink:title=\"psysml:0b7e6d0b-da90-43fd-82ff-3f36fc5229c0\" xlink:type=\"simple\"><path d=\"M123.88,393.01 C122.25,404.51 120.18,419.17 118.13,433.62 \" fill=\"none\" id=\"E4-&gt;E6\" style=\"stroke: #383838; stroke-width: 1.0;\"/><polygon fill=\"#FFFFFF\" points=\"115.3,453.57,111.0294,433.777,124.8914,435.7373,115.3,453.57\" style=\"stroke: #383838; stroke-width: 1.0;\"/><ellipse cx=\"113.8078\" cy=\"428.4132\" fill=\"#383838\" rx=\"2\" ry=\"2\" style=\"stroke: #383838; stroke-width: 1.0;\"/><ellipse cx=\"123.7093\" cy=\"429.8134\" fill=\"#383838\" rx=\"2\" ry=\"2\" style=\"stroke: #383838; stroke-width: 1.0;\"/></a><!--MD5=[3f50a3473f1dfb74d3f76443e03635af]\n",
       "reverse link E6 to E7--><a href=\"psysml:8a2f941b-3a97-4b54-9145-5eb7e96c5b49\" target=\"_top\" title=\"psysml:8a2f941b-3a97-4b54-9145-5eb7e96c5b49\" xlink:actuate=\"onRequest\" xlink:href=\"psysml:8a2f941b-3a97-4b54-9145-5eb7e96c5b49\" xlink:show=\"new\" xlink:title=\"psysml:8a2f941b-3a97-4b54-9145-5eb7e96c5b49\" xlink:type=\"simple\"><path d=\"M106.18,545.35 C105.04,561.08 103.83,577.65 102.87,590.83 \" fill=\"none\" id=\"E6&lt;-E7\" style=\"stroke: #383838; stroke-width: 1.0;\"/><ellipse cx=\"106.7138\" cy=\"538.0285\" fill=\"#FFFFFF\" rx=\"8\" ry=\"8\" style=\"stroke: #383838; stroke-width: 1.0;\"/><line style=\"stroke: #383838; stroke-width: 1.0;\" x1=\"106.1276\" x2=\"107.3\" y1=\"546.007\" y2=\"530.05\"/><line style=\"stroke: #383838; stroke-width: 1.0;\" x1=\"98.7353\" x2=\"114.6923\" y1=\"537.4423\" y2=\"538.6147\"/></a><!--MD5=[95fa686b5a16158bcdbcaeead89f639b]\n",
       "link E8 to E3--><a href=\"psysml:edfb0c1d-eeea-43d5-bece-b0bce4203cff\" target=\"_top\" title=\"psysml:edfb0c1d-eeea-43d5-bece-b0bce4203cff\" xlink:actuate=\"onRequest\" xlink:href=\"psysml:edfb0c1d-eeea-43d5-bece-b0bce4203cff\" xlink:show=\"new\" xlink:title=\"psysml:edfb0c1d-eeea-43d5-bece-b0bce4203cff\" xlink:type=\"simple\"><path d=\"M171.51,594.45 C170.08,530.08 166,347 166,347 C166,347 162.24,318.43 158.49,289.89 \" fill=\"none\" id=\"E8-&gt;E3\" style=\"stroke: #383838; stroke-width: 1.0;\"/><polygon fill=\"#FFFFFF\" points=\"155.87,270.01,165.2808,287.9387,151.3996,289.7588,155.87,270.01\" style=\"stroke: #383838; stroke-width: 1.0;\"/><ellipse cx=\"164.0388\" cy=\"293.8503\" fill=\"#383838\" rx=\"2\" ry=\"2\" style=\"stroke: #383838; stroke-width: 1.0;\"/><ellipse cx=\"154.1237\" cy=\"295.1504\" fill=\"#383838\" rx=\"2\" ry=\"2\" style=\"stroke: #383838; stroke-width: 1.0;\"/></a><!--MD5=[f4cf0736d43fd73c4ef68817c49d37d5]\n",
       "reverse link E6 to E8--><a href=\"psysml:4e9eccbd-3da0-4f6c-a773-1d808904fdc5\" target=\"_top\" title=\"psysml:4e9eccbd-3da0-4f6c-a773-1d808904fdc5\" xlink:actuate=\"onRequest\" xlink:href=\"psysml:4e9eccbd-3da0-4f6c-a773-1d808904fdc5\" xlink:show=\"new\" xlink:title=\"psysml:4e9eccbd-3da0-4f6c-a773-1d808904fdc5\" xlink:type=\"simple\"><path d=\"M134.44,541.68 C143.55,559.83 153.45,579.55 160.8,594.19 \" fill=\"none\" id=\"E6&lt;-E8\" style=\"stroke: #383838; stroke-width: 1.0;\"/><polygon fill=\"#383838\" points=\"128.6,530.05,127.7161,537.2067,133.9824,540.7752,134.8663,533.6185,128.6,530.05\" style=\"stroke: #383838; stroke-width: 1.0;\"/></a><!--MD5=[8e04057e7b3cbc0dca4fc78ea351e2da]\n",
       "reverse link E10 to E3--><a href=\"psysml:800170d4-464e-4c2e-99b4-fb1d2de59c3f\" target=\"_top\" title=\"psysml:800170d4-464e-4c2e-99b4-fb1d2de59c3f\" xlink:actuate=\"onRequest\" xlink:href=\"psysml:800170d4-464e-4c2e-99b4-fb1d2de59c3f\" xlink:show=\"new\" xlink:title=\"psysml:800170d4-464e-4c2e-99b4-fb1d2de59c3f\" xlink:type=\"simple\"><path d=\"M98.98,128.98 C109.72,150.06 122.08,174.29 132.05,193.84 \" fill=\"none\" id=\"E10&lt;-E3\" style=\"stroke: #383838; stroke-width: 1.0;\"/><polygon fill=\"#FFFFFF\" points=\"93.03,117.33,92.1919,124.4922,98.4809,128.0206,99.319,120.8583,93.03,117.33\" style=\"stroke: #383838; stroke-width: 1.0;\"/><text fill=\"#000000\" font-family=\"sans-serif\" font-size=\"13\" lengthAdjust=\"spacingAndGlyphs\" textLength=\"7\" x=\"115\" y=\"160.0669\">y</text></a><!--MD5=[604cbf994c02b74b117f728a71673cea]\n",
       "reverse link E10 to E6--><a href=\"psysml:800170d4-464e-4c2e-99b4-fb1d2de59c3f\" target=\"_top\" title=\"psysml:800170d4-464e-4c2e-99b4-fb1d2de59c3f\" xlink:actuate=\"onRequest\" xlink:href=\"psysml:800170d4-464e-4c2e-99b4-fb1d2de59c3f\" xlink:show=\"new\" xlink:title=\"psysml:800170d4-464e-4c2e-99b4-fb1d2de59c3f\" xlink:type=\"simple\"><path d=\"M76.41,130.3 C80.65,218.79 89,393 89,393 C89,393 96.11,426.2 102.06,453.95 \" fill=\"none\" id=\"E10&lt;-E6\" style=\"stroke: #383838; stroke-width: 1.0;\"/><polygon fill=\"#FFFFFF\" points=\"75.78,117.13,72.0748,123.3164,76.3602,129.116,80.0654,122.9296,75.78,117.13\" style=\"stroke: #383838; stroke-width: 1.0;\"/><text fill=\"#000000\" font-family=\"sans-serif\" font-size=\"13\" lengthAdjust=\"spacingAndGlyphs\" textLength=\"7\" x=\"86\" y=\"313.0669\">y</text></a><!--MD5=[d22a4fe1e2a2031fb1ac80ee4ef1354c]\n",
       "@startuml\r\n",
       "skinparam linetype polyline\r\n",
       "skinparam monochrome true\r\n",
       "skinparam classbackgroundcolor white\r\n",
       "skinparam shadowing false\r\n",
       "skinparam wrapWidth 300\r\n",
       "hide circle\r\n",
       "\r\n",
       "package \"BlockTest\" as E1  [[psysml:1f80f8be-3c31-4480-9ece-24461005c64a ]]  {\r\n",
       "comp usage \"f: A\" as E2  <<(T,blue)part>> [[psysml:77ca47e2-95bd-4f5e-baaf-35974d96745c ]] {\r\n",
       "}\r\n",
       "comp def \"A\" as E3  <<(T,blue)part def>> [[psysml:feda5581-6f8c-419d-8ba7-a8a04be8503b ]] {\r\n",
       "- - ports - -\r\n",
       "c: C\r\n",
       "}\r\n",
       "comp usage \"b: B\" as E4  <<(T,blue)part>> [[psysml:ebd0a90b-6b0b-4fe7-b689-bf63abb6537b ]] {\r\n",
       "}\r\n",
       "comp def \"B\" as E6  <<(T,blue)part def>> [[psysml:7287ae62-763a-4b84-8405-f658443750c5 ]] {\r\n",
       "- - ports - -\r\n",
       "x: ~C\r\n",
       "}\r\n",
       "package \"P\" as E7  [[psysml:8a2f941b-3a97-4b54-9145-5eb7e96c5b49 ]]  {\r\n",
       "}\r\n",
       "comp usage \"a: A\" as E8  <<(T,blue)part>> [[psysml:4e9eccbd-3da0-4f6c-a773-1d808904fdc5 ]] {\r\n",
       "}\r\n",
       "comp def \"C\" as E10  <<(T,blue)port def>> [[psysml:8c4f99f3-2675-4f4d-a756-da09d407570d ]] {\r\n",
       "- - references - -\r\n",
       "y: A, B <b>as</b> z2 \r\n",
       "}\r\n",
       "E2 - -:|> E3 [[psysml:f1219804-170d-45ce-a1b2-74df9d2ed655 ]] \r\n",
       "E3 *- - E4 [[psysml:ebd0a90b-6b0b-4fe7-b689-bf63abb6537b ]] \r\n",
       "E4 - -:|> E6 [[psysml:0b7e6d0b-da90-43fd-82ff-3f36fc5229c0 ]] \r\n",
       "E6 +- - E7 [[psysml:8a2f941b-3a97-4b54-9145-5eb7e96c5b49 ]] \r\n",
       "E8 - -:|> E3 [[psysml:edfb0c1d-eeea-43d5-bece-b0bce4203cff ]] \r\n",
       "E6 *- - E8 [[psysml:4e9eccbd-3da0-4f6c-a773-1d808904fdc5 ]] \r\n",
       "E10 o- - E3 [[psysml:800170d4-464e-4c2e-99b4-fb1d2de59c3f ]] : y\r\n",
       "E10 o- - E6 [[psysml:800170d4-464e-4c2e-99b4-fb1d2de59c3f ]] : y\r\n",
       "}\r\n",
       "@enduml\r\n",
       "\n",
       "PlantUML version 1.2020.13(Sat Jun 13 12:26:38 UTC 2020)\n",
       "(EPL source distribution)\n",
       "Java Runtime: OpenJDK Runtime Environment\n",
       "JVM: OpenJDK 64-Bit Server VM\n",
       "Default Encoding: UTF-8\n",
       "Language: en\n",
       "Country: null\n",
       "--></g></svg>"
      ]
     },
     "execution_count": 10,
     "metadata": {},
     "output_type": "execute_result"
    }
   ],
   "source": [
    "%viz --style=\"POLYLINE\" --view=\"Tree\" \"BlockTest\""
   ]
  },
  {
   "cell_type": "code",
   "execution_count": 11,
   "id": "miniature-letter",
   "metadata": {
    "execution": {
     "iopub.execute_input": "2021-03-26T12:07:37.602584Z",
     "iopub.status.busy": "2021-03-26T12:07:37.601970Z",
     "iopub.status.idle": "2021-03-26T12:07:37.607487Z",
     "shell.execute_reply": "2021-03-26T12:07:37.607899Z"
    }
   },
   "outputs": [
    {
     "data": {
      "image/svg+xml": [
       "<?xml version=\"1.0\" encoding=\"UTF-8\" standalone=\"no\"?><svg xmlns=\"http://www.w3.org/2000/svg\" xmlns:xlink=\"http://www.w3.org/1999/xlink\" contentScriptType=\"application/ecmascript\" contentStyleType=\"text/css\" height=\"12px\" preserveAspectRatio=\"none\" style=\"width:12px;height:12px;\" version=\"1.1\" viewBox=\"0 0 12 12\" width=\"12px\" zoomAndPan=\"magnify\"><defs/><g><!--MD5=[896ac0e7a515d8dd7765a661cb4ee08b]\n",
       "@startuml\r\n",
       "skinparam linetype polyline\r\n",
       "skinparam monochrome true\r\n",
       "skinparam classbackgroundcolor white\r\n",
       "skinparam shadowing false\r\n",
       "skinparam wrapWidth 300\r\n",
       "hide circle\r\n",
       "\r\n",
       "@enduml\r\n",
       "\n",
       "PlantUML version 1.2020.13(Sat Jun 13 12:26:38 UTC 2020)\n",
       "(EPL source distribution)\n",
       "Java Runtime: OpenJDK Runtime Environment\n",
       "JVM: OpenJDK 64-Bit Server VM\n",
       "Default Encoding: UTF-8\n",
       "Language: en\n",
       "Country: null\n",
       "--></g></svg>"
      ]
     },
     "execution_count": 11,
     "metadata": {},
     "output_type": "execute_result"
    }
   ],
   "source": [
    "%viz --style=\"POLYLINE\" --view=\"State\" \"BlockTest\""
   ]
  },
  {
   "cell_type": "code",
   "execution_count": 12,
   "id": "uniform-marathon",
   "metadata": {
    "execution": {
     "iopub.execute_input": "2021-03-26T12:07:37.659192Z",
     "iopub.status.busy": "2021-03-26T12:07:37.658739Z",
     "iopub.status.idle": "2021-03-26T12:07:37.703061Z",
     "shell.execute_reply": "2021-03-26T12:07:37.701263Z"
    }
   },
   "outputs": [
    {
     "data": {
      "image/svg+xml": [
       "<?xml version=\"1.0\" encoding=\"UTF-8\" standalone=\"no\"?><svg xmlns=\"http://www.w3.org/2000/svg\" xmlns:xlink=\"http://www.w3.org/1999/xlink\" contentScriptType=\"application/ecmascript\" contentStyleType=\"text/css\" height=\"245px\" preserveAspectRatio=\"none\" style=\"width:548px;height:245px;\" version=\"1.1\" viewBox=\"0 0 548 245\" width=\"548px\" zoomAndPan=\"magnify\"><defs/><g><!--MD5=[fbc87193dbaf4d95561dea2c320d4a47]\n",
       "cluster E1--><a href=\"psysml:1f80f8be-3c31-4480-9ece-24461005c64a\" target=\"_top\" title=\"psysml:1f80f8be-3c31-4480-9ece-24461005c64a\" xlink:actuate=\"onRequest\" xlink:href=\"psysml:1f80f8be-3c31-4480-9ece-24461005c64a\" xlink:show=\"new\" xlink:title=\"psysml:1f80f8be-3c31-4480-9ece-24461005c64a\" xlink:type=\"simple\"><polygon fill=\"#FFFFFF\" points=\"16,6,99,6,106,28.2969,526,28.2969,526,233,16,233,16,6\" style=\"stroke: #000000; stroke-width: 1.5;\"/><line style=\"stroke: #000000; stroke-width: 1.5;\" x1=\"16\" x2=\"106\" y1=\"28.2969\" y2=\"28.2969\"/><text fill=\"#000000\" font-family=\"sans-serif\" font-size=\"14\" font-weight=\"bold\" lengthAdjust=\"spacingAndGlyphs\" textLength=\"77\" x=\"20\" y=\"20.9951\">BlockTest</text></a><!--MD5=[d5e69f78d87373223dbae638b30a9c99]\n",
       "cluster E3--><a href=\"psysml:feda5581-6f8c-419d-8ba7-a8a04be8503b\" target=\"_top\" title=\"psysml:feda5581-6f8c-419d-8ba7-a8a04be8503b\" xlink:actuate=\"onRequest\" xlink:href=\"psysml:feda5581-6f8c-419d-8ba7-a8a04be8503b\" xlink:show=\"new\" xlink:title=\"psysml:feda5581-6f8c-419d-8ba7-a8a04be8503b\" xlink:type=\"simple\"><rect fill=\"#FFFFFF\" height=\"154.5\" id=\"E3\" style=\"stroke: #383838; stroke-width: 1.5;\" width=\"120\" x=\"390\" y=\"62.5\"/><rect fill=\"#F8F8F8\" height=\"37.9375\" style=\"stroke: #383838; stroke-width: 1.5;\" width=\"120\" x=\"390\" y=\"62.5\"/><text fill=\"#000000\" font-family=\"sans-serif\" font-size=\"12\" font-style=\"italic\" lengthAdjust=\"spacingAndGlyphs\" textLength=\"64\" x=\"418\" y=\"78.6387\">«part def»</text><text fill=\"#000000\" font-family=\"sans-serif\" font-size=\"12\" lengthAdjust=\"spacingAndGlyphs\" textLength=\"8\" x=\"446\" y=\"92.6074\">A</text></a><!--MD5=[14e3b0961a2654348d326746436168a1]\n",
       "cluster E6--><a href=\"psysml:7287ae62-763a-4b84-8405-f658443750c5\" target=\"_top\" title=\"psysml:7287ae62-763a-4b84-8405-f658443750c5\" xlink:actuate=\"onRequest\" xlink:href=\"psysml:7287ae62-763a-4b84-8405-f658443750c5\" xlink:show=\"new\" xlink:title=\"psysml:7287ae62-763a-4b84-8405-f658443750c5\" xlink:type=\"simple\"><rect fill=\"#FFFFFF\" height=\"154.5\" id=\"E6\" style=\"stroke: #383838; stroke-width: 1.5;\" width=\"185\" x=\"197\" y=\"62.5\"/><rect fill=\"#F8F8F8\" height=\"37.9375\" style=\"stroke: #383838; stroke-width: 1.5;\" width=\"185\" x=\"197\" y=\"62.5\"/><text fill=\"#000000\" font-family=\"sans-serif\" font-size=\"12\" font-style=\"italic\" lengthAdjust=\"spacingAndGlyphs\" textLength=\"64\" x=\"257.5\" y=\"78.6387\">«part def»</text><text fill=\"#000000\" font-family=\"sans-serif\" font-size=\"12\" lengthAdjust=\"spacingAndGlyphs\" textLength=\"8\" x=\"285.5\" y=\"92.6074\">B</text></a><g id=\"E1.E10\"><a href=\"psysml:8c4f99f3-2675-4f4d-a756-da09d407570d\" target=\"_top\" title=\"psysml:8c4f99f3-2675-4f4d-a756-da09d407570d\" xlink:actuate=\"onRequest\" xlink:href=\"psysml:8c4f99f3-2675-4f4d-a756-da09d407570d\" xlink:show=\"new\" xlink:title=\"psysml:8c4f99f3-2675-4f4d-a756-da09d407570d\" xlink:type=\"simple\"><rect fill=\"#FFFFFF\" height=\"42.9375\" id=\"E10\" style=\"stroke: #383838; stroke-width: 1.5;\" width=\"71\" x=\"117.5\" y=\"41\"/><rect fill=\"#F8F8F8\" height=\"37.9375\" style=\"stroke: #383838; stroke-width: 1.5;\" width=\"71\" x=\"117.5\" y=\"41\"/><text fill=\"#000000\" font-family=\"sans-serif\" font-size=\"12\" font-style=\"italic\" lengthAdjust=\"spacingAndGlyphs\" textLength=\"64\" x=\"121\" y=\"57.1387\">«port def»</text><text fill=\"#000000\" font-family=\"sans-serif\" font-size=\"12\" lengthAdjust=\"spacingAndGlyphs\" textLength=\"8\" x=\"149\" y=\"71.1074\">C</text></a></g><g id=\"E1.E2\"><a href=\"psysml:77ca47e2-95bd-4f5e-baaf-35974d96745c\" target=\"_top\" title=\"psysml:77ca47e2-95bd-4f5e-baaf-35974d96745c\" xlink:actuate=\"onRequest\" xlink:href=\"psysml:77ca47e2-95bd-4f5e-baaf-35974d96745c\" xlink:show=\"new\" xlink:title=\"psysml:77ca47e2-95bd-4f5e-baaf-35974d96745c\" xlink:type=\"simple\"><rect fill=\"#FFFFFF\" height=\"40\" id=\"E2\" rx=\"10\" ry=\"10\" style=\"stroke: #383838; stroke-width: 1.5;\" width=\"50\" x=\"32\" y=\"42.5\"/><rect fill=\"#F8F8F8\" height=\"23.9688\" rx=\"10\" ry=\"10\" style=\"stroke: #F8F8F8; stroke-width: 1.5;\" width=\"50\" x=\"32\" y=\"42.5\"/><rect fill=\"#F8F8F8\" height=\"10\" style=\"stroke: #F8F8F8; stroke-width: 1.5;\" width=\"50\" x=\"32\" y=\"56.4688\"/><rect fill=\"none\" height=\"40\" id=\"E2\" rx=\"10\" ry=\"10\" style=\"stroke: #383838; stroke-width: 1.5;\" width=\"50\" x=\"32\" y=\"42.5\"/><text fill=\"#000000\" font-family=\"sans-serif\" font-size=\"12\" lengthAdjust=\"spacingAndGlyphs\" textLength=\"20\" x=\"47\" y=\"58.6387\">f: A</text></a></g><text fill=\"#000000\" font-family=\"sans-serif\" font-size=\"14\" lengthAdjust=\"spacingAndGlyphs\" textLength=\"27\" x=\"436.5\" y=\"41.1982\">c: C</text><rect fill=\"#383838\" height=\"12\" style=\"stroke: #F8F8F8; stroke-width: 1.5;\" width=\"12\" x=\"444\" y=\"56.5\"/><g id=\"E1.E3.E4\"><a href=\"psysml:ebd0a90b-6b0b-4fe7-b689-bf63abb6537b\" target=\"_top\" title=\"psysml:ebd0a90b-6b0b-4fe7-b689-bf63abb6537b\" xlink:actuate=\"onRequest\" xlink:href=\"psysml:ebd0a90b-6b0b-4fe7-b689-bf63abb6537b\" xlink:show=\"new\" xlink:title=\"psysml:ebd0a90b-6b0b-4fe7-b689-bf63abb6537b\" xlink:type=\"simple\"><rect fill=\"#FFFFFF\" height=\"40\" id=\"E4\" rx=\"10\" ry=\"10\" style=\"stroke: #383838; stroke-width: 1.5;\" width=\"50\" x=\"425\" y=\"161\"/><rect fill=\"#F8F8F8\" height=\"23.9688\" rx=\"10\" ry=\"10\" style=\"stroke: #F8F8F8; stroke-width: 1.5;\" width=\"50\" x=\"425\" y=\"161\"/><rect fill=\"#F8F8F8\" height=\"10\" style=\"stroke: #F8F8F8; stroke-width: 1.5;\" width=\"50\" x=\"425\" y=\"174.9688\"/><rect fill=\"none\" height=\"40\" id=\"E4\" rx=\"10\" ry=\"10\" style=\"stroke: #383838; stroke-width: 1.5;\" width=\"50\" x=\"425\" y=\"161\"/><text fill=\"#000000\" font-family=\"sans-serif\" font-size=\"12\" lengthAdjust=\"spacingAndGlyphs\" textLength=\"24\" x=\"438\" y=\"177.1387\">b: B</text></a></g><text fill=\"#000000\" font-family=\"sans-serif\" font-size=\"14\" lengthAdjust=\"spacingAndGlyphs\" textLength=\"38\" x=\"303\" y=\"41.1982\">x: ~C</text><rect fill=\"#383838\" height=\"12\" style=\"stroke: #F8F8F8; stroke-width: 1.5;\" width=\"12\" x=\"316\" y=\"56.5\"/><a href=\"psysml:8a2f941b-3a97-4b54-9145-5eb7e96c5b49\" target=\"_top\" title=\"psysml:8a2f941b-3a97-4b54-9145-5eb7e96c5b49\" xlink:actuate=\"onRequest\" xlink:href=\"psysml:8a2f941b-3a97-4b54-9145-5eb7e96c5b49\" xlink:show=\"new\" xlink:title=\"psysml:8a2f941b-3a97-4b54-9145-5eb7e96c5b49\" xlink:type=\"simple\"><polygon fill=\"#FFFFFF\" points=\"213,100,229,100,236,122.2969,243,122.2969,243,152.5938,213,152.5938,213,100\" style=\"stroke: #000000; stroke-width: 1.5;\"/><line style=\"stroke: #000000; stroke-width: 1.5;\" x1=\"213\" x2=\"236\" y1=\"122.2969\" y2=\"122.2969\"/><text fill=\"#000000\" font-family=\"sans-serif\" font-size=\"14\" font-weight=\"bold\" lengthAdjust=\"spacingAndGlyphs\" textLength=\"10\" x=\"217\" y=\"114.9951\">P</text></a><g id=\"E1.E6.E8\"><a href=\"psysml:4e9eccbd-3da0-4f6c-a773-1d808904fdc5\" target=\"_top\" title=\"psysml:4e9eccbd-3da0-4f6c-a773-1d808904fdc5\" xlink:actuate=\"onRequest\" xlink:href=\"psysml:4e9eccbd-3da0-4f6c-a773-1d808904fdc5\" xlink:show=\"new\" xlink:title=\"psysml:4e9eccbd-3da0-4f6c-a773-1d808904fdc5\" xlink:type=\"simple\"><rect fill=\"#FFFFFF\" height=\"40\" id=\"E8\" rx=\"10\" ry=\"10\" style=\"stroke: #383838; stroke-width: 1.5;\" width=\"50\" x=\"297\" y=\"161\"/><rect fill=\"#F8F8F8\" height=\"23.9688\" rx=\"10\" ry=\"10\" style=\"stroke: #F8F8F8; stroke-width: 1.5;\" width=\"50\" x=\"297\" y=\"161\"/><rect fill=\"#F8F8F8\" height=\"10\" style=\"stroke: #F8F8F8; stroke-width: 1.5;\" width=\"50\" x=\"297\" y=\"174.9688\"/><rect fill=\"none\" height=\"40\" id=\"E8\" rx=\"10\" ry=\"10\" style=\"stroke: #383838; stroke-width: 1.5;\" width=\"50\" x=\"297\" y=\"161\"/><text fill=\"#000000\" font-family=\"sans-serif\" font-size=\"12\" lengthAdjust=\"spacingAndGlyphs\" textLength=\"24\" x=\"310\" y=\"177.1387\">a: A</text></a></g><!--MD5=[c32d146788c61a162d23512e3d75a81a]\n",
       "@startuml\r\n",
       "skinparam ranksep 8\r\n",
       "skinparam rectangle {\r\n",
       " backgroundColor<<block>> LightGreen\r\n",
       "}\r\n",
       "skinparam linetype polyline\r\n",
       "skinparam monochrome true\r\n",
       "skinparam classbackgroundcolor white\r\n",
       "skinparam shadowing false\r\n",
       "skinparam wrapWidth 300\r\n",
       "hide circle\r\n",
       "\r\n",
       "package \"BlockTest\" as E1  [[psysml:1f80f8be-3c31-4480-9ece-24461005c64a ]]  {\r\n",
       "rec usage \"f: A\" as E2  [[psysml:77ca47e2-95bd-4f5e-baaf-35974d96745c ]] {\r\n",
       "}\r\n",
       "rec def \"A\" as E3  <<(T,blue)part def>> [[psysml:feda5581-6f8c-419d-8ba7-a8a04be8503b ]] {\r\n",
       "rec usage \"b: B\" as E4  [[psysml:ebd0a90b-6b0b-4fe7-b689-bf63abb6537b ]] {\r\n",
       "}\r\n",
       "portin \"c: C\" as E5  <<(T,blue)port>> [[psysml:32f6582c-cfe7-4be0-a097-86306546e345 ]] \r\n",
       "}\r\n",
       "rec def \"B\" as E6  <<(T,blue)part def>> [[psysml:7287ae62-763a-4b84-8405-f658443750c5 ]] {\r\n",
       "package \"P\" as E7  [[psysml:8a2f941b-3a97-4b54-9145-5eb7e96c5b49 ]]  {\r\n",
       "}\r\n",
       "rec usage \"a: A\" as E8  [[psysml:4e9eccbd-3da0-4f6c-a773-1d808904fdc5 ]] {\r\n",
       "}\r\n",
       "portin \"x: ~C\" as E9  <<(T,blue)port>> [[psysml:8030edf4-ee82-408b-9211-cce203dbe0d1 ]] \r\n",
       "}\r\n",
       "def \"C\" as E10  <<(T,blue)port def>> [[psysml:8c4f99f3-2675-4f4d-a756-da09d407570d ]] \r\n",
       "}\r\n",
       "@enduml\r\n",
       "\n",
       "PlantUML version 1.2020.13(Sat Jun 13 12:26:38 UTC 2020)\n",
       "(EPL source distribution)\n",
       "Java Runtime: OpenJDK Runtime Environment\n",
       "JVM: OpenJDK 64-Bit Server VM\n",
       "Default Encoding: UTF-8\n",
       "Language: en\n",
       "Country: null\n",
       "--></g></svg>"
      ]
     },
     "execution_count": 12,
     "metadata": {},
     "output_type": "execute_result"
    }
   ],
   "source": [
    "%viz --style=\"POLYLINE\" --view=\"Interconnection\" \"BlockTest\""
   ]
  },
  {
   "cell_type": "code",
   "execution_count": 13,
   "id": "circular-apparel",
   "metadata": {
    "execution": {
     "iopub.execute_input": "2021-03-26T12:07:37.752599Z",
     "iopub.status.busy": "2021-03-26T12:07:37.751902Z",
     "iopub.status.idle": "2021-03-26T12:07:37.757997Z",
     "shell.execute_reply": "2021-03-26T12:07:37.758320Z"
    }
   },
   "outputs": [
    {
     "data": {
      "image/svg+xml": [
       "<?xml version=\"1.0\" encoding=\"UTF-8\" standalone=\"no\"?><svg xmlns=\"http://www.w3.org/2000/svg\" xmlns:xlink=\"http://www.w3.org/1999/xlink\" contentScriptType=\"application/ecmascript\" contentStyleType=\"text/css\" height=\"12px\" preserveAspectRatio=\"none\" style=\"width:12px;height:12px;\" version=\"1.1\" viewBox=\"0 0 12 12\" width=\"12px\" zoomAndPan=\"magnify\"><defs/><g><!--MD5=[97bbf32f66ccd50cbc40d92ea8f5a65e]\n",
       "@startuml\r\n",
       "skinparam ranksep 8\r\n",
       "skinparam linetype polyline\r\n",
       "skinparam monochrome true\r\n",
       "skinparam classbackgroundcolor white\r\n",
       "skinparam shadowing false\r\n",
       "skinparam wrapWidth 300\r\n",
       "hide circle\r\n",
       "\r\n",
       "@enduml\r\n",
       "\n",
       "PlantUML version 1.2020.13(Sat Jun 13 12:26:38 UTC 2020)\n",
       "(EPL source distribution)\n",
       "Java Runtime: OpenJDK Runtime Environment\n",
       "JVM: OpenJDK 64-Bit Server VM\n",
       "Default Encoding: UTF-8\n",
       "Language: en\n",
       "Country: null\n",
       "--></g></svg>"
      ]
     },
     "execution_count": 13,
     "metadata": {},
     "output_type": "execute_result"
    }
   ],
   "source": [
    "%viz --style=\"POLYLINE\" --view=\"Action\" \"BlockTest\""
   ]
  },
  {
   "cell_type": "code",
   "execution_count": 14,
   "id": "micro-replication",
   "metadata": {
    "execution": {
     "iopub.execute_input": "2021-03-26T12:07:37.809909Z",
     "iopub.status.busy": "2021-03-26T12:07:37.809347Z",
     "iopub.status.idle": "2021-03-26T12:07:37.895575Z",
     "shell.execute_reply": "2021-03-26T12:07:37.894752Z"
    }
   },
   "outputs": [
    {
     "data": {
      "image/svg+xml": [
       "<?xml version=\"1.0\" encoding=\"UTF-8\" standalone=\"no\"?><svg xmlns=\"http://www.w3.org/2000/svg\" xmlns:xlink=\"http://www.w3.org/1999/xlink\" contentScriptType=\"application/ecmascript\" contentStyleType=\"text/css\" height=\"672px\" preserveAspectRatio=\"none\" style=\"width:231px;height:672px;\" version=\"1.1\" viewBox=\"0 0 231 672\" width=\"231px\" zoomAndPan=\"magnify\"><defs/><g><!--MD5=[fbc87193dbaf4d95561dea2c320d4a47]\n",
       "cluster E1--><a href=\"psysml:1f80f8be-3c31-4480-9ece-24461005c64a\" target=\"_top\" title=\"psysml:1f80f8be-3c31-4480-9ece-24461005c64a\" xlink:actuate=\"onRequest\" xlink:href=\"psysml:1f80f8be-3c31-4480-9ece-24461005c64a\" xlink:show=\"new\" xlink:title=\"psysml:1f80f8be-3c31-4480-9ece-24461005c64a\" xlink:type=\"simple\"><polygon fill=\"#FFFFFF\" points=\"16,6,99,6,106,28.2969,209,28.2969,209,660,16,660,16,6\" style=\"stroke: #000000; stroke-width: 1.5;\"/><line style=\"stroke: #000000; stroke-width: 1.5;\" x1=\"16\" x2=\"106\" y1=\"28.2969\" y2=\"28.2969\"/><text fill=\"#000000\" font-family=\"sans-serif\" font-size=\"14\" font-weight=\"bold\" lengthAdjust=\"spacingAndGlyphs\" textLength=\"77\" x=\"20\" y=\"20.9951\">BlockTest</text></a><!--MD5=[b4997ac47864f28c2f74865a473b2911]\n",
       "class E2--><a href=\"psysml:77ca47e2-95bd-4f5e-baaf-35974d96745c\" target=\"_top\" title=\"psysml:77ca47e2-95bd-4f5e-baaf-35974d96745c\" xlink:actuate=\"onRequest\" xlink:href=\"psysml:77ca47e2-95bd-4f5e-baaf-35974d96745c\" xlink:show=\"new\" xlink:title=\"psysml:77ca47e2-95bd-4f5e-baaf-35974d96745c\" xlink:type=\"simple\"><rect fill=\"#FFFFFF\" height=\"45.9375\" id=\"E2\" rx=\"10\" ry=\"10\" style=\"stroke: #383838; stroke-width: 1.5;\" width=\"42\" x=\"151\" y=\"56\"/><text fill=\"#000000\" font-family=\"sans-serif\" font-size=\"12\" font-style=\"italic\" lengthAdjust=\"spacingAndGlyphs\" textLength=\"40\" x=\"152\" y=\"72.1387\">«part»</text><text fill=\"#000000\" font-family=\"sans-serif\" font-size=\"12\" lengthAdjust=\"spacingAndGlyphs\" textLength=\"20\" x=\"162\" y=\"86.1074\">f: A</text><line style=\"stroke: #383838; stroke-width: 1.5;\" x1=\"152\" x2=\"192\" y1=\"93.9375\" y2=\"93.9375\"/></a><!--MD5=[09b614a08d8cba4a07c9adeb5e0fee81]\n",
       "class E3--><a href=\"psysml:feda5581-6f8c-419d-8ba7-a8a04be8503b\" target=\"_top\" title=\"psysml:feda5581-6f8c-419d-8ba7-a8a04be8503b\" xlink:actuate=\"onRequest\" xlink:href=\"psysml:feda5581-6f8c-419d-8ba7-a8a04be8503b\" xlink:show=\"new\" xlink:title=\"psysml:feda5581-6f8c-419d-8ba7-a8a04be8503b\" xlink:type=\"simple\"><rect fill=\"#FFFFFF\" height=\"75.5469\" id=\"E3\" style=\"stroke: #383838; stroke-width: 1.5;\" width=\"66\" x=\"118\" y=\"194\"/><text fill=\"#000000\" font-family=\"sans-serif\" font-size=\"12\" font-style=\"italic\" lengthAdjust=\"spacingAndGlyphs\" textLength=\"64\" x=\"119\" y=\"210.1387\">«part def»</text><text fill=\"#000000\" font-family=\"sans-serif\" font-size=\"12\" lengthAdjust=\"spacingAndGlyphs\" textLength=\"8\" x=\"147\" y=\"224.1074\">A</text><line style=\"stroke: #383838; stroke-width: 1.5;\" x1=\"119\" x2=\"183\" y1=\"231.9375\" y2=\"231.9375\"/><text fill=\"#000000\" font-family=\"sans-serif\" font-size=\"11\" lengthAdjust=\"spacingAndGlyphs\" textLength=\"22\" x=\"124\" y=\"262.9526\">c: C</text><line style=\"stroke: #383838; stroke-width: 1.0;\" x1=\"119\" x2=\"136\" y1=\"246.3398\" y2=\"246.3398\"/><text fill=\"#000000\" font-family=\"sans-serif\" font-size=\"11\" lengthAdjust=\"spacingAndGlyphs\" textLength=\"30\" x=\"136\" y=\"249.6479\">ports</text><line style=\"stroke: #383838; stroke-width: 1.0;\" x1=\"166\" x2=\"183\" y1=\"246.3398\" y2=\"246.3398\"/></a><!--MD5=[ebbe1d658d1005bcc118a6aa81145e00]\n",
       "class E4--><a href=\"psysml:ebd0a90b-6b0b-4fe7-b689-bf63abb6537b\" target=\"_top\" title=\"psysml:ebd0a90b-6b0b-4fe7-b689-bf63abb6537b\" xlink:actuate=\"onRequest\" xlink:href=\"psysml:ebd0a90b-6b0b-4fe7-b689-bf63abb6537b\" xlink:show=\"new\" xlink:title=\"psysml:ebd0a90b-6b0b-4fe7-b689-bf63abb6537b\" xlink:type=\"simple\"><rect fill=\"#FFFFFF\" height=\"45.9375\" id=\"E4\" rx=\"10\" ry=\"10\" style=\"stroke: #383838; stroke-width: 1.5;\" width=\"42\" x=\"106\" y=\"347\"/><text fill=\"#000000\" font-family=\"sans-serif\" font-size=\"12\" font-style=\"italic\" lengthAdjust=\"spacingAndGlyphs\" textLength=\"40\" x=\"107\" y=\"363.1387\">«part»</text><text fill=\"#000000\" font-family=\"sans-serif\" font-size=\"12\" lengthAdjust=\"spacingAndGlyphs\" textLength=\"24\" x=\"115\" y=\"377.1074\">b: B</text><line style=\"stroke: #383838; stroke-width: 1.5;\" x1=\"107\" x2=\"147\" y1=\"384.9375\" y2=\"384.9375\"/></a><!--MD5=[60a26617385b1d2d0262a64233df1f8d]\n",
       "class E6--><a href=\"psysml:7287ae62-763a-4b84-8405-f658443750c5\" target=\"_top\" title=\"psysml:7287ae62-763a-4b84-8405-f658443750c5\" xlink:actuate=\"onRequest\" xlink:href=\"psysml:7287ae62-763a-4b84-8405-f658443750c5\" xlink:show=\"new\" xlink:title=\"psysml:7287ae62-763a-4b84-8405-f658443750c5\" xlink:type=\"simple\"><rect fill=\"#FFFFFF\" height=\"75.5469\" id=\"E6\" style=\"stroke: #383838; stroke-width: 1.5;\" width=\"66\" x=\"77\" y=\"454\"/><text fill=\"#000000\" font-family=\"sans-serif\" font-size=\"12\" font-style=\"italic\" lengthAdjust=\"spacingAndGlyphs\" textLength=\"64\" x=\"78\" y=\"470.1387\">«part def»</text><text fill=\"#000000\" font-family=\"sans-serif\" font-size=\"12\" lengthAdjust=\"spacingAndGlyphs\" textLength=\"8\" x=\"106\" y=\"484.1074\">B</text><line style=\"stroke: #383838; stroke-width: 1.5;\" x1=\"78\" x2=\"142\" y1=\"491.9375\" y2=\"491.9375\"/><text fill=\"#000000\" font-family=\"sans-serif\" font-size=\"11\" lengthAdjust=\"spacingAndGlyphs\" textLength=\"31\" x=\"83\" y=\"522.9526\">x: ~C</text><line style=\"stroke: #383838; stroke-width: 1.0;\" x1=\"78\" x2=\"95\" y1=\"506.3398\" y2=\"506.3398\"/><text fill=\"#000000\" font-family=\"sans-serif\" font-size=\"11\" lengthAdjust=\"spacingAndGlyphs\" textLength=\"30\" x=\"95\" y=\"509.6479\">ports</text><line style=\"stroke: #383838; stroke-width: 1.0;\" x1=\"125\" x2=\"142\" y1=\"506.3398\" y2=\"506.3398\"/></a><!--MD5=[b9389687b975829384b498ac4b7476b2]\n",
       "class E8--><a href=\"psysml:4e9eccbd-3da0-4f6c-a773-1d808904fdc5\" target=\"_top\" title=\"psysml:4e9eccbd-3da0-4f6c-a773-1d808904fdc5\" xlink:actuate=\"onRequest\" xlink:href=\"psysml:4e9eccbd-3da0-4f6c-a773-1d808904fdc5\" xlink:show=\"new\" xlink:title=\"psysml:4e9eccbd-3da0-4f6c-a773-1d808904fdc5\" xlink:type=\"simple\"><rect fill=\"#FFFFFF\" height=\"45.9375\" id=\"E8\" rx=\"10\" ry=\"10\" style=\"stroke: #383838; stroke-width: 1.5;\" width=\"42\" x=\"151\" y=\"594.5\"/><text fill=\"#000000\" font-family=\"sans-serif\" font-size=\"12\" font-style=\"italic\" lengthAdjust=\"spacingAndGlyphs\" textLength=\"40\" x=\"152\" y=\"610.6387\">«part»</text><text fill=\"#000000\" font-family=\"sans-serif\" font-size=\"12\" lengthAdjust=\"spacingAndGlyphs\" textLength=\"24\" x=\"160\" y=\"624.6074\">a: A</text><line style=\"stroke: #383838; stroke-width: 1.5;\" x1=\"152\" x2=\"192\" y1=\"632.4375\" y2=\"632.4375\"/></a><!--MD5=[96f4274e9e20536e775497830990834d]\n",
       "class E10--><a href=\"psysml:8c4f99f3-2675-4f4d-a756-da09d407570d\" target=\"_top\" title=\"psysml:8c4f99f3-2675-4f4d-a756-da09d407570d\" xlink:actuate=\"onRequest\" xlink:href=\"psysml:8c4f99f3-2675-4f4d-a756-da09d407570d\" xlink:show=\"new\" xlink:title=\"psysml:8c4f99f3-2675-4f4d-a756-da09d407570d\" xlink:type=\"simple\"><rect fill=\"#FFFFFF\" height=\"75.5469\" id=\"E10\" style=\"stroke: #383838; stroke-width: 1.5;\" width=\"84\" x=\"32\" y=\"41\"/><text fill=\"#000000\" font-family=\"sans-serif\" font-size=\"12\" font-style=\"italic\" lengthAdjust=\"spacingAndGlyphs\" textLength=\"64\" x=\"42\" y=\"57.1387\">«port def»</text><text fill=\"#000000\" font-family=\"sans-serif\" font-size=\"12\" lengthAdjust=\"spacingAndGlyphs\" textLength=\"8\" x=\"70\" y=\"71.1074\">C</text><line style=\"stroke: #383838; stroke-width: 1.5;\" x1=\"33\" x2=\"115\" y1=\"78.9375\" y2=\"78.9375\"/><text fill=\"#000000\" font-family=\"sans-serif\" font-size=\"11\" lengthAdjust=\"spacingAndGlyphs\" textLength=\"37\" x=\"38\" y=\"109.9526\">y: A, B</text><text fill=\"#000000\" font-family=\"sans-serif\" font-size=\"11\" font-weight=\"bold\" lengthAdjust=\"spacingAndGlyphs\" textLength=\"15\" x=\"79\" y=\"109.9526\">as</text><text fill=\"#000000\" font-family=\"sans-serif\" font-size=\"11\" lengthAdjust=\"spacingAndGlyphs\" textLength=\"12\" x=\"98\" y=\"109.9526\">z2</text><line style=\"stroke: #383838; stroke-width: 1.0;\" x1=\"33\" x2=\"43\" y1=\"93.3398\" y2=\"93.3398\"/><text fill=\"#000000\" font-family=\"sans-serif\" font-size=\"11\" lengthAdjust=\"spacingAndGlyphs\" textLength=\"62\" x=\"43\" y=\"96.6479\">references</text><line style=\"stroke: #383838; stroke-width: 1.0;\" x1=\"105\" x2=\"115\" y1=\"93.3398\" y2=\"93.3398\"/></a><a href=\"psysml:8a2f941b-3a97-4b54-9145-5eb7e96c5b49\" target=\"_top\" title=\"psysml:8a2f941b-3a97-4b54-9145-5eb7e96c5b49\" xlink:actuate=\"onRequest\" xlink:href=\"psysml:8a2f941b-3a97-4b54-9145-5eb7e96c5b49\" xlink:show=\"new\" xlink:title=\"psysml:8a2f941b-3a97-4b54-9145-5eb7e96c5b49\" xlink:type=\"simple\"><polygon fill=\"#FFFFFF\" points=\"86,591,102,591,109,613.2969,116,613.2969,116,643.5938,86,643.5938,86,591\" style=\"stroke: #000000; stroke-width: 1.5;\"/><line style=\"stroke: #000000; stroke-width: 1.5;\" x1=\"86\" x2=\"109\" y1=\"613.2969\" y2=\"613.2969\"/><text fill=\"#000000\" font-family=\"sans-serif\" font-size=\"14\" font-weight=\"bold\" lengthAdjust=\"spacingAndGlyphs\" textLength=\"10\" x=\"90\" y=\"605.9951\">P</text></a><!--MD5=[2720a5a1f2c3fca2055b230370638851]\n",
       "link E2 to E3--><a href=\"psysml:f1219804-170d-45ce-a1b2-74df9d2ed655\" target=\"_top\" title=\"psysml:f1219804-170d-45ce-a1b2-74df9d2ed655\" xlink:actuate=\"onRequest\" xlink:href=\"psysml:f1219804-170d-45ce-a1b2-74df9d2ed655\" xlink:show=\"new\" xlink:title=\"psysml:f1219804-170d-45ce-a1b2-74df9d2ed655\" xlink:type=\"simple\"><path d=\"M168.9,102.28 C166.28,121.12 162.41,148.97 158.94,173.94 \" fill=\"none\" id=\"E2-&gt;E3\" style=\"stroke: #383838; stroke-width: 1.0;\"/><polygon fill=\"#FFFFFF\" points=\"156.15,193.98,151.8354,174.1966,165.7018,176.1261,156.15,193.98\" style=\"stroke: #383838; stroke-width: 1.0;\"/><ellipse cx=\"154.6019\" cy=\"168.8266\" fill=\"#383838\" rx=\"2\" ry=\"2\" style=\"stroke: #383838; stroke-width: 1.0;\"/><ellipse cx=\"164.5065\" cy=\"170.2048\" fill=\"#383838\" rx=\"2\" ry=\"2\" style=\"stroke: #383838; stroke-width: 1.0;\"/></a><!--MD5=[4672eba38e49728da53d11aeb285b987]\n",
       "reverse link E3 to E4--><a href=\"psysml:ebd0a90b-6b0b-4fe7-b689-bf63abb6537b\" target=\"_top\" title=\"psysml:ebd0a90b-6b0b-4fe7-b689-bf63abb6537b\" xlink:actuate=\"onRequest\" xlink:href=\"psysml:ebd0a90b-6b0b-4fe7-b689-bf63abb6537b\" xlink:show=\"new\" xlink:title=\"psysml:ebd0a90b-6b0b-4fe7-b689-bf63abb6537b\" xlink:type=\"simple\"><path d=\"M142.17,283.02 C138.31,304.93 133.97,329.52 130.92,346.77 \" fill=\"none\" id=\"E3&lt;-E4\" style=\"stroke: #383838; stroke-width: 1.0;\"/><polygon fill=\"#383838\" points=\"144.44,270.16,139.4532,275.3688,142.3433,281.9754,147.3301,276.7666,144.44,270.16\" style=\"stroke: #383838; stroke-width: 1.0;\"/></a><!--MD5=[79568f1e445c3877b6a54524624ccc7d]\n",
       "link E4 to E6--><a href=\"psysml:0b7e6d0b-da90-43fd-82ff-3f36fc5229c0\" target=\"_top\" title=\"psysml:0b7e6d0b-da90-43fd-82ff-3f36fc5229c0\" xlink:actuate=\"onRequest\" xlink:href=\"psysml:0b7e6d0b-da90-43fd-82ff-3f36fc5229c0\" xlink:show=\"new\" xlink:title=\"psysml:0b7e6d0b-da90-43fd-82ff-3f36fc5229c0\" xlink:type=\"simple\"><path d=\"M123.88,393.01 C122.25,404.51 120.18,419.17 118.13,433.62 \" fill=\"none\" id=\"E4-&gt;E6\" style=\"stroke: #383838; stroke-width: 1.0;\"/><polygon fill=\"#FFFFFF\" points=\"115.3,453.57,111.0294,433.777,124.8914,435.7373,115.3,453.57\" style=\"stroke: #383838; stroke-width: 1.0;\"/><ellipse cx=\"113.8078\" cy=\"428.4132\" fill=\"#383838\" rx=\"2\" ry=\"2\" style=\"stroke: #383838; stroke-width: 1.0;\"/><ellipse cx=\"123.7093\" cy=\"429.8134\" fill=\"#383838\" rx=\"2\" ry=\"2\" style=\"stroke: #383838; stroke-width: 1.0;\"/></a><!--MD5=[3f50a3473f1dfb74d3f76443e03635af]\n",
       "reverse link E6 to E7--><a href=\"psysml:8a2f941b-3a97-4b54-9145-5eb7e96c5b49\" target=\"_top\" title=\"psysml:8a2f941b-3a97-4b54-9145-5eb7e96c5b49\" xlink:actuate=\"onRequest\" xlink:href=\"psysml:8a2f941b-3a97-4b54-9145-5eb7e96c5b49\" xlink:show=\"new\" xlink:title=\"psysml:8a2f941b-3a97-4b54-9145-5eb7e96c5b49\" xlink:type=\"simple\"><path d=\"M106.18,545.35 C105.04,561.08 103.83,577.65 102.87,590.83 \" fill=\"none\" id=\"E6&lt;-E7\" style=\"stroke: #383838; stroke-width: 1.0;\"/><ellipse cx=\"106.7138\" cy=\"538.0285\" fill=\"#FFFFFF\" rx=\"8\" ry=\"8\" style=\"stroke: #383838; stroke-width: 1.0;\"/><line style=\"stroke: #383838; stroke-width: 1.0;\" x1=\"106.1276\" x2=\"107.3\" y1=\"546.007\" y2=\"530.05\"/><line style=\"stroke: #383838; stroke-width: 1.0;\" x1=\"98.7353\" x2=\"114.6923\" y1=\"537.4423\" y2=\"538.6147\"/></a><!--MD5=[95fa686b5a16158bcdbcaeead89f639b]\n",
       "link E8 to E3--><a href=\"psysml:edfb0c1d-eeea-43d5-bece-b0bce4203cff\" target=\"_top\" title=\"psysml:edfb0c1d-eeea-43d5-bece-b0bce4203cff\" xlink:actuate=\"onRequest\" xlink:href=\"psysml:edfb0c1d-eeea-43d5-bece-b0bce4203cff\" xlink:show=\"new\" xlink:title=\"psysml:edfb0c1d-eeea-43d5-bece-b0bce4203cff\" xlink:type=\"simple\"><path d=\"M171.51,594.45 C170.08,530.08 166,347 166,347 C166,347 162.24,318.43 158.49,289.89 \" fill=\"none\" id=\"E8-&gt;E3\" style=\"stroke: #383838; stroke-width: 1.0;\"/><polygon fill=\"#FFFFFF\" points=\"155.87,270.01,165.2808,287.9387,151.3996,289.7588,155.87,270.01\" style=\"stroke: #383838; stroke-width: 1.0;\"/><ellipse cx=\"164.0388\" cy=\"293.8503\" fill=\"#383838\" rx=\"2\" ry=\"2\" style=\"stroke: #383838; stroke-width: 1.0;\"/><ellipse cx=\"154.1237\" cy=\"295.1504\" fill=\"#383838\" rx=\"2\" ry=\"2\" style=\"stroke: #383838; stroke-width: 1.0;\"/></a><!--MD5=[f4cf0736d43fd73c4ef68817c49d37d5]\n",
       "reverse link E6 to E8--><a href=\"psysml:4e9eccbd-3da0-4f6c-a773-1d808904fdc5\" target=\"_top\" title=\"psysml:4e9eccbd-3da0-4f6c-a773-1d808904fdc5\" xlink:actuate=\"onRequest\" xlink:href=\"psysml:4e9eccbd-3da0-4f6c-a773-1d808904fdc5\" xlink:show=\"new\" xlink:title=\"psysml:4e9eccbd-3da0-4f6c-a773-1d808904fdc5\" xlink:type=\"simple\"><path d=\"M134.44,541.68 C143.55,559.83 153.45,579.55 160.8,594.19 \" fill=\"none\" id=\"E6&lt;-E8\" style=\"stroke: #383838; stroke-width: 1.0;\"/><polygon fill=\"#383838\" points=\"128.6,530.05,127.7161,537.2067,133.9824,540.7752,134.8663,533.6185,128.6,530.05\" style=\"stroke: #383838; stroke-width: 1.0;\"/></a><!--MD5=[8e04057e7b3cbc0dca4fc78ea351e2da]\n",
       "reverse link E10 to E3--><a href=\"psysml:800170d4-464e-4c2e-99b4-fb1d2de59c3f\" target=\"_top\" title=\"psysml:800170d4-464e-4c2e-99b4-fb1d2de59c3f\" xlink:actuate=\"onRequest\" xlink:href=\"psysml:800170d4-464e-4c2e-99b4-fb1d2de59c3f\" xlink:show=\"new\" xlink:title=\"psysml:800170d4-464e-4c2e-99b4-fb1d2de59c3f\" xlink:type=\"simple\"><path d=\"M98.98,128.98 C109.72,150.06 122.08,174.29 132.05,193.84 \" fill=\"none\" id=\"E10&lt;-E3\" style=\"stroke: #383838; stroke-width: 1.0;\"/><polygon fill=\"#FFFFFF\" points=\"93.03,117.33,92.1919,124.4922,98.4809,128.0206,99.319,120.8583,93.03,117.33\" style=\"stroke: #383838; stroke-width: 1.0;\"/><text fill=\"#000000\" font-family=\"sans-serif\" font-size=\"13\" lengthAdjust=\"spacingAndGlyphs\" textLength=\"7\" x=\"115\" y=\"160.0669\">y</text></a><!--MD5=[604cbf994c02b74b117f728a71673cea]\n",
       "reverse link E10 to E6--><a href=\"psysml:800170d4-464e-4c2e-99b4-fb1d2de59c3f\" target=\"_top\" title=\"psysml:800170d4-464e-4c2e-99b4-fb1d2de59c3f\" xlink:actuate=\"onRequest\" xlink:href=\"psysml:800170d4-464e-4c2e-99b4-fb1d2de59c3f\" xlink:show=\"new\" xlink:title=\"psysml:800170d4-464e-4c2e-99b4-fb1d2de59c3f\" xlink:type=\"simple\"><path d=\"M76.41,130.3 C80.65,218.79 89,393 89,393 C89,393 96.11,426.2 102.06,453.95 \" fill=\"none\" id=\"E10&lt;-E6\" style=\"stroke: #383838; stroke-width: 1.0;\"/><polygon fill=\"#FFFFFF\" points=\"75.78,117.13,72.0748,123.3164,76.3602,129.116,80.0654,122.9296,75.78,117.13\" style=\"stroke: #383838; stroke-width: 1.0;\"/><text fill=\"#000000\" font-family=\"sans-serif\" font-size=\"13\" lengthAdjust=\"spacingAndGlyphs\" textLength=\"7\" x=\"86\" y=\"313.0669\">y</text></a><!--MD5=[d22a4fe1e2a2031fb1ac80ee4ef1354c]\n",
       "@startuml\r\n",
       "skinparam linetype polyline\r\n",
       "skinparam monochrome true\r\n",
       "skinparam classbackgroundcolor white\r\n",
       "skinparam shadowing false\r\n",
       "skinparam wrapWidth 300\r\n",
       "hide circle\r\n",
       "\r\n",
       "package \"BlockTest\" as E1  [[psysml:1f80f8be-3c31-4480-9ece-24461005c64a ]]  {\r\n",
       "comp usage \"f: A\" as E2  <<(T,blue)part>> [[psysml:77ca47e2-95bd-4f5e-baaf-35974d96745c ]] {\r\n",
       "}\r\n",
       "comp def \"A\" as E3  <<(T,blue)part def>> [[psysml:feda5581-6f8c-419d-8ba7-a8a04be8503b ]] {\r\n",
       "- - ports - -\r\n",
       "c: C\r\n",
       "}\r\n",
       "comp usage \"b: B\" as E4  <<(T,blue)part>> [[psysml:ebd0a90b-6b0b-4fe7-b689-bf63abb6537b ]] {\r\n",
       "}\r\n",
       "comp def \"B\" as E6  <<(T,blue)part def>> [[psysml:7287ae62-763a-4b84-8405-f658443750c5 ]] {\r\n",
       "- - ports - -\r\n",
       "x: ~C\r\n",
       "}\r\n",
       "package \"P\" as E7  [[psysml:8a2f941b-3a97-4b54-9145-5eb7e96c5b49 ]]  {\r\n",
       "}\r\n",
       "comp usage \"a: A\" as E8  <<(T,blue)part>> [[psysml:4e9eccbd-3da0-4f6c-a773-1d808904fdc5 ]] {\r\n",
       "}\r\n",
       "comp def \"C\" as E10  <<(T,blue)port def>> [[psysml:8c4f99f3-2675-4f4d-a756-da09d407570d ]] {\r\n",
       "- - references - -\r\n",
       "y: A, B <b>as</b> z2 \r\n",
       "}\r\n",
       "E2 - -:|> E3 [[psysml:f1219804-170d-45ce-a1b2-74df9d2ed655 ]] \r\n",
       "E3 *- - E4 [[psysml:ebd0a90b-6b0b-4fe7-b689-bf63abb6537b ]] \r\n",
       "E4 - -:|> E6 [[psysml:0b7e6d0b-da90-43fd-82ff-3f36fc5229c0 ]] \r\n",
       "E6 +- - E7 [[psysml:8a2f941b-3a97-4b54-9145-5eb7e96c5b49 ]] \r\n",
       "E8 - -:|> E3 [[psysml:edfb0c1d-eeea-43d5-bece-b0bce4203cff ]] \r\n",
       "E6 *- - E8 [[psysml:4e9eccbd-3da0-4f6c-a773-1d808904fdc5 ]] \r\n",
       "E10 o- - E3 [[psysml:800170d4-464e-4c2e-99b4-fb1d2de59c3f ]] : y\r\n",
       "E10 o- - E6 [[psysml:800170d4-464e-4c2e-99b4-fb1d2de59c3f ]] : y\r\n",
       "}\r\n",
       "@enduml\r\n",
       "\n",
       "PlantUML version 1.2020.13(Sat Jun 13 12:26:38 UTC 2020)\n",
       "(EPL source distribution)\n",
       "Java Runtime: OpenJDK Runtime Environment\n",
       "JVM: OpenJDK 64-Bit Server VM\n",
       "Default Encoding: UTF-8\n",
       "Language: en\n",
       "Country: null\n",
       "--></g></svg>"
      ]
     },
     "execution_count": 14,
     "metadata": {},
     "output_type": "execute_result"
    }
   ],
   "source": [
    "%viz --style=\"POLYLINE\" --view=\"Sequence\" \"BlockTest\""
   ]
  },
  {
   "cell_type": "code",
   "execution_count": 15,
   "id": "excellent-publisher",
   "metadata": {
    "execution": {
     "iopub.execute_input": "2021-03-26T12:07:37.947468Z",
     "iopub.status.busy": "2021-03-26T12:07:37.947006Z",
     "iopub.status.idle": "2021-03-26T12:07:38.024906Z",
     "shell.execute_reply": "2021-03-26T12:07:38.023937Z"
    }
   },
   "outputs": [
    {
     "data": {
      "image/svg+xml": [
       "<?xml version=\"1.0\" encoding=\"UTF-8\" standalone=\"no\"?><svg xmlns=\"http://www.w3.org/2000/svg\" xmlns:xlink=\"http://www.w3.org/1999/xlink\" contentScriptType=\"application/ecmascript\" contentStyleType=\"text/css\" height=\"672px\" preserveAspectRatio=\"none\" style=\"width:231px;height:672px;\" version=\"1.1\" viewBox=\"0 0 231 672\" width=\"231px\" zoomAndPan=\"magnify\"><defs/><g><!--MD5=[fbc87193dbaf4d95561dea2c320d4a47]\n",
       "cluster E1--><a href=\"psysml:1f80f8be-3c31-4480-9ece-24461005c64a\" target=\"_top\" title=\"psysml:1f80f8be-3c31-4480-9ece-24461005c64a\" xlink:actuate=\"onRequest\" xlink:href=\"psysml:1f80f8be-3c31-4480-9ece-24461005c64a\" xlink:show=\"new\" xlink:title=\"psysml:1f80f8be-3c31-4480-9ece-24461005c64a\" xlink:type=\"simple\"><polygon fill=\"#FFFFFF\" points=\"16,6,99,6,106,28.2969,209,28.2969,209,660,16,660,16,6\" style=\"stroke: #000000; stroke-width: 1.5;\"/><line style=\"stroke: #000000; stroke-width: 1.5;\" x1=\"16\" x2=\"106\" y1=\"28.2969\" y2=\"28.2969\"/><text fill=\"#000000\" font-family=\"sans-serif\" font-size=\"14\" font-weight=\"bold\" lengthAdjust=\"spacingAndGlyphs\" textLength=\"77\" x=\"20\" y=\"20.9951\">BlockTest</text></a><!--MD5=[b4997ac47864f28c2f74865a473b2911]\n",
       "class E2--><a href=\"psysml:77ca47e2-95bd-4f5e-baaf-35974d96745c\" target=\"_top\" title=\"psysml:77ca47e2-95bd-4f5e-baaf-35974d96745c\" xlink:actuate=\"onRequest\" xlink:href=\"psysml:77ca47e2-95bd-4f5e-baaf-35974d96745c\" xlink:show=\"new\" xlink:title=\"psysml:77ca47e2-95bd-4f5e-baaf-35974d96745c\" xlink:type=\"simple\"><rect fill=\"#FFFFFF\" height=\"45.9375\" id=\"E2\" rx=\"10\" ry=\"10\" style=\"stroke: #383838; stroke-width: 1.5;\" width=\"42\" x=\"151\" y=\"56\"/><text fill=\"#000000\" font-family=\"sans-serif\" font-size=\"12\" font-style=\"italic\" lengthAdjust=\"spacingAndGlyphs\" textLength=\"40\" x=\"152\" y=\"72.1387\">«part»</text><text fill=\"#000000\" font-family=\"sans-serif\" font-size=\"12\" lengthAdjust=\"spacingAndGlyphs\" textLength=\"20\" x=\"162\" y=\"86.1074\">f: A</text><line style=\"stroke: #383838; stroke-width: 1.5;\" x1=\"152\" x2=\"192\" y1=\"93.9375\" y2=\"93.9375\"/></a><!--MD5=[09b614a08d8cba4a07c9adeb5e0fee81]\n",
       "class E3--><a href=\"psysml:feda5581-6f8c-419d-8ba7-a8a04be8503b\" target=\"_top\" title=\"psysml:feda5581-6f8c-419d-8ba7-a8a04be8503b\" xlink:actuate=\"onRequest\" xlink:href=\"psysml:feda5581-6f8c-419d-8ba7-a8a04be8503b\" xlink:show=\"new\" xlink:title=\"psysml:feda5581-6f8c-419d-8ba7-a8a04be8503b\" xlink:type=\"simple\"><rect fill=\"#FFFFFF\" height=\"75.5469\" id=\"E3\" style=\"stroke: #383838; stroke-width: 1.5;\" width=\"66\" x=\"118\" y=\"194\"/><text fill=\"#000000\" font-family=\"sans-serif\" font-size=\"12\" font-style=\"italic\" lengthAdjust=\"spacingAndGlyphs\" textLength=\"64\" x=\"119\" y=\"210.1387\">«part def»</text><text fill=\"#000000\" font-family=\"sans-serif\" font-size=\"12\" lengthAdjust=\"spacingAndGlyphs\" textLength=\"8\" x=\"147\" y=\"224.1074\">A</text><line style=\"stroke: #383838; stroke-width: 1.5;\" x1=\"119\" x2=\"183\" y1=\"231.9375\" y2=\"231.9375\"/><text fill=\"#000000\" font-family=\"sans-serif\" font-size=\"11\" lengthAdjust=\"spacingAndGlyphs\" textLength=\"22\" x=\"124\" y=\"262.9526\">c: C</text><line style=\"stroke: #383838; stroke-width: 1.0;\" x1=\"119\" x2=\"136\" y1=\"246.3398\" y2=\"246.3398\"/><text fill=\"#000000\" font-family=\"sans-serif\" font-size=\"11\" lengthAdjust=\"spacingAndGlyphs\" textLength=\"30\" x=\"136\" y=\"249.6479\">ports</text><line style=\"stroke: #383838; stroke-width: 1.0;\" x1=\"166\" x2=\"183\" y1=\"246.3398\" y2=\"246.3398\"/></a><!--MD5=[ebbe1d658d1005bcc118a6aa81145e00]\n",
       "class E4--><a href=\"psysml:ebd0a90b-6b0b-4fe7-b689-bf63abb6537b\" target=\"_top\" title=\"psysml:ebd0a90b-6b0b-4fe7-b689-bf63abb6537b\" xlink:actuate=\"onRequest\" xlink:href=\"psysml:ebd0a90b-6b0b-4fe7-b689-bf63abb6537b\" xlink:show=\"new\" xlink:title=\"psysml:ebd0a90b-6b0b-4fe7-b689-bf63abb6537b\" xlink:type=\"simple\"><rect fill=\"#FFFFFF\" height=\"45.9375\" id=\"E4\" rx=\"10\" ry=\"10\" style=\"stroke: #383838; stroke-width: 1.5;\" width=\"42\" x=\"106\" y=\"347\"/><text fill=\"#000000\" font-family=\"sans-serif\" font-size=\"12\" font-style=\"italic\" lengthAdjust=\"spacingAndGlyphs\" textLength=\"40\" x=\"107\" y=\"363.1387\">«part»</text><text fill=\"#000000\" font-family=\"sans-serif\" font-size=\"12\" lengthAdjust=\"spacingAndGlyphs\" textLength=\"24\" x=\"115\" y=\"377.1074\">b: B</text><line style=\"stroke: #383838; stroke-width: 1.5;\" x1=\"107\" x2=\"147\" y1=\"384.9375\" y2=\"384.9375\"/></a><!--MD5=[60a26617385b1d2d0262a64233df1f8d]\n",
       "class E6--><a href=\"psysml:7287ae62-763a-4b84-8405-f658443750c5\" target=\"_top\" title=\"psysml:7287ae62-763a-4b84-8405-f658443750c5\" xlink:actuate=\"onRequest\" xlink:href=\"psysml:7287ae62-763a-4b84-8405-f658443750c5\" xlink:show=\"new\" xlink:title=\"psysml:7287ae62-763a-4b84-8405-f658443750c5\" xlink:type=\"simple\"><rect fill=\"#FFFFFF\" height=\"75.5469\" id=\"E6\" style=\"stroke: #383838; stroke-width: 1.5;\" width=\"66\" x=\"77\" y=\"454\"/><text fill=\"#000000\" font-family=\"sans-serif\" font-size=\"12\" font-style=\"italic\" lengthAdjust=\"spacingAndGlyphs\" textLength=\"64\" x=\"78\" y=\"470.1387\">«part def»</text><text fill=\"#000000\" font-family=\"sans-serif\" font-size=\"12\" lengthAdjust=\"spacingAndGlyphs\" textLength=\"8\" x=\"106\" y=\"484.1074\">B</text><line style=\"stroke: #383838; stroke-width: 1.5;\" x1=\"78\" x2=\"142\" y1=\"491.9375\" y2=\"491.9375\"/><text fill=\"#000000\" font-family=\"sans-serif\" font-size=\"11\" lengthAdjust=\"spacingAndGlyphs\" textLength=\"31\" x=\"83\" y=\"522.9526\">x: ~C</text><line style=\"stroke: #383838; stroke-width: 1.0;\" x1=\"78\" x2=\"95\" y1=\"506.3398\" y2=\"506.3398\"/><text fill=\"#000000\" font-family=\"sans-serif\" font-size=\"11\" lengthAdjust=\"spacingAndGlyphs\" textLength=\"30\" x=\"95\" y=\"509.6479\">ports</text><line style=\"stroke: #383838; stroke-width: 1.0;\" x1=\"125\" x2=\"142\" y1=\"506.3398\" y2=\"506.3398\"/></a><!--MD5=[b9389687b975829384b498ac4b7476b2]\n",
       "class E8--><a href=\"psysml:4e9eccbd-3da0-4f6c-a773-1d808904fdc5\" target=\"_top\" title=\"psysml:4e9eccbd-3da0-4f6c-a773-1d808904fdc5\" xlink:actuate=\"onRequest\" xlink:href=\"psysml:4e9eccbd-3da0-4f6c-a773-1d808904fdc5\" xlink:show=\"new\" xlink:title=\"psysml:4e9eccbd-3da0-4f6c-a773-1d808904fdc5\" xlink:type=\"simple\"><rect fill=\"#FFFFFF\" height=\"45.9375\" id=\"E8\" rx=\"10\" ry=\"10\" style=\"stroke: #383838; stroke-width: 1.5;\" width=\"42\" x=\"151\" y=\"594.5\"/><text fill=\"#000000\" font-family=\"sans-serif\" font-size=\"12\" font-style=\"italic\" lengthAdjust=\"spacingAndGlyphs\" textLength=\"40\" x=\"152\" y=\"610.6387\">«part»</text><text fill=\"#000000\" font-family=\"sans-serif\" font-size=\"12\" lengthAdjust=\"spacingAndGlyphs\" textLength=\"24\" x=\"160\" y=\"624.6074\">a: A</text><line style=\"stroke: #383838; stroke-width: 1.5;\" x1=\"152\" x2=\"192\" y1=\"632.4375\" y2=\"632.4375\"/></a><!--MD5=[96f4274e9e20536e775497830990834d]\n",
       "class E10--><a href=\"psysml:8c4f99f3-2675-4f4d-a756-da09d407570d\" target=\"_top\" title=\"psysml:8c4f99f3-2675-4f4d-a756-da09d407570d\" xlink:actuate=\"onRequest\" xlink:href=\"psysml:8c4f99f3-2675-4f4d-a756-da09d407570d\" xlink:show=\"new\" xlink:title=\"psysml:8c4f99f3-2675-4f4d-a756-da09d407570d\" xlink:type=\"simple\"><rect fill=\"#FFFFFF\" height=\"75.5469\" id=\"E10\" style=\"stroke: #383838; stroke-width: 1.5;\" width=\"84\" x=\"32\" y=\"41\"/><text fill=\"#000000\" font-family=\"sans-serif\" font-size=\"12\" font-style=\"italic\" lengthAdjust=\"spacingAndGlyphs\" textLength=\"64\" x=\"42\" y=\"57.1387\">«port def»</text><text fill=\"#000000\" font-family=\"sans-serif\" font-size=\"12\" lengthAdjust=\"spacingAndGlyphs\" textLength=\"8\" x=\"70\" y=\"71.1074\">C</text><line style=\"stroke: #383838; stroke-width: 1.5;\" x1=\"33\" x2=\"115\" y1=\"78.9375\" y2=\"78.9375\"/><text fill=\"#000000\" font-family=\"sans-serif\" font-size=\"11\" lengthAdjust=\"spacingAndGlyphs\" textLength=\"37\" x=\"38\" y=\"109.9526\">y: A, B</text><text fill=\"#000000\" font-family=\"sans-serif\" font-size=\"11\" font-weight=\"bold\" lengthAdjust=\"spacingAndGlyphs\" textLength=\"15\" x=\"79\" y=\"109.9526\">as</text><text fill=\"#000000\" font-family=\"sans-serif\" font-size=\"11\" lengthAdjust=\"spacingAndGlyphs\" textLength=\"12\" x=\"98\" y=\"109.9526\">z2</text><line style=\"stroke: #383838; stroke-width: 1.0;\" x1=\"33\" x2=\"43\" y1=\"93.3398\" y2=\"93.3398\"/><text fill=\"#000000\" font-family=\"sans-serif\" font-size=\"11\" lengthAdjust=\"spacingAndGlyphs\" textLength=\"62\" x=\"43\" y=\"96.6479\">references</text><line style=\"stroke: #383838; stroke-width: 1.0;\" x1=\"105\" x2=\"115\" y1=\"93.3398\" y2=\"93.3398\"/></a><a href=\"psysml:8a2f941b-3a97-4b54-9145-5eb7e96c5b49\" target=\"_top\" title=\"psysml:8a2f941b-3a97-4b54-9145-5eb7e96c5b49\" xlink:actuate=\"onRequest\" xlink:href=\"psysml:8a2f941b-3a97-4b54-9145-5eb7e96c5b49\" xlink:show=\"new\" xlink:title=\"psysml:8a2f941b-3a97-4b54-9145-5eb7e96c5b49\" xlink:type=\"simple\"><polygon fill=\"#FFFFFF\" points=\"86,591,102,591,109,613.2969,116,613.2969,116,643.5938,86,643.5938,86,591\" style=\"stroke: #000000; stroke-width: 1.5;\"/><line style=\"stroke: #000000; stroke-width: 1.5;\" x1=\"86\" x2=\"109\" y1=\"613.2969\" y2=\"613.2969\"/><text fill=\"#000000\" font-family=\"sans-serif\" font-size=\"14\" font-weight=\"bold\" lengthAdjust=\"spacingAndGlyphs\" textLength=\"10\" x=\"90\" y=\"605.9951\">P</text></a><!--MD5=[2720a5a1f2c3fca2055b230370638851]\n",
       "link E2 to E3--><a href=\"psysml:f1219804-170d-45ce-a1b2-74df9d2ed655\" target=\"_top\" title=\"psysml:f1219804-170d-45ce-a1b2-74df9d2ed655\" xlink:actuate=\"onRequest\" xlink:href=\"psysml:f1219804-170d-45ce-a1b2-74df9d2ed655\" xlink:show=\"new\" xlink:title=\"psysml:f1219804-170d-45ce-a1b2-74df9d2ed655\" xlink:type=\"simple\"><path d=\"M168.9,102.28 C166.28,121.12 162.41,148.97 158.94,173.94 \" fill=\"none\" id=\"E2-&gt;E3\" style=\"stroke: #383838; stroke-width: 1.0;\"/><polygon fill=\"#FFFFFF\" points=\"156.15,193.98,151.8354,174.1966,165.7018,176.1261,156.15,193.98\" style=\"stroke: #383838; stroke-width: 1.0;\"/><ellipse cx=\"154.6019\" cy=\"168.8266\" fill=\"#383838\" rx=\"2\" ry=\"2\" style=\"stroke: #383838; stroke-width: 1.0;\"/><ellipse cx=\"164.5065\" cy=\"170.2048\" fill=\"#383838\" rx=\"2\" ry=\"2\" style=\"stroke: #383838; stroke-width: 1.0;\"/></a><!--MD5=[4672eba38e49728da53d11aeb285b987]\n",
       "reverse link E3 to E4--><a href=\"psysml:ebd0a90b-6b0b-4fe7-b689-bf63abb6537b\" target=\"_top\" title=\"psysml:ebd0a90b-6b0b-4fe7-b689-bf63abb6537b\" xlink:actuate=\"onRequest\" xlink:href=\"psysml:ebd0a90b-6b0b-4fe7-b689-bf63abb6537b\" xlink:show=\"new\" xlink:title=\"psysml:ebd0a90b-6b0b-4fe7-b689-bf63abb6537b\" xlink:type=\"simple\"><path d=\"M142.17,283.02 C138.31,304.93 133.97,329.52 130.92,346.77 \" fill=\"none\" id=\"E3&lt;-E4\" style=\"stroke: #383838; stroke-width: 1.0;\"/><polygon fill=\"#383838\" points=\"144.44,270.16,139.4532,275.3688,142.3433,281.9754,147.3301,276.7666,144.44,270.16\" style=\"stroke: #383838; stroke-width: 1.0;\"/></a><!--MD5=[79568f1e445c3877b6a54524624ccc7d]\n",
       "link E4 to E6--><a href=\"psysml:0b7e6d0b-da90-43fd-82ff-3f36fc5229c0\" target=\"_top\" title=\"psysml:0b7e6d0b-da90-43fd-82ff-3f36fc5229c0\" xlink:actuate=\"onRequest\" xlink:href=\"psysml:0b7e6d0b-da90-43fd-82ff-3f36fc5229c0\" xlink:show=\"new\" xlink:title=\"psysml:0b7e6d0b-da90-43fd-82ff-3f36fc5229c0\" xlink:type=\"simple\"><path d=\"M123.88,393.01 C122.25,404.51 120.18,419.17 118.13,433.62 \" fill=\"none\" id=\"E4-&gt;E6\" style=\"stroke: #383838; stroke-width: 1.0;\"/><polygon fill=\"#FFFFFF\" points=\"115.3,453.57,111.0294,433.777,124.8914,435.7373,115.3,453.57\" style=\"stroke: #383838; stroke-width: 1.0;\"/><ellipse cx=\"113.8078\" cy=\"428.4132\" fill=\"#383838\" rx=\"2\" ry=\"2\" style=\"stroke: #383838; stroke-width: 1.0;\"/><ellipse cx=\"123.7093\" cy=\"429.8134\" fill=\"#383838\" rx=\"2\" ry=\"2\" style=\"stroke: #383838; stroke-width: 1.0;\"/></a><!--MD5=[3f50a3473f1dfb74d3f76443e03635af]\n",
       "reverse link E6 to E7--><a href=\"psysml:8a2f941b-3a97-4b54-9145-5eb7e96c5b49\" target=\"_top\" title=\"psysml:8a2f941b-3a97-4b54-9145-5eb7e96c5b49\" xlink:actuate=\"onRequest\" xlink:href=\"psysml:8a2f941b-3a97-4b54-9145-5eb7e96c5b49\" xlink:show=\"new\" xlink:title=\"psysml:8a2f941b-3a97-4b54-9145-5eb7e96c5b49\" xlink:type=\"simple\"><path d=\"M106.18,545.35 C105.04,561.08 103.83,577.65 102.87,590.83 \" fill=\"none\" id=\"E6&lt;-E7\" style=\"stroke: #383838; stroke-width: 1.0;\"/><ellipse cx=\"106.7138\" cy=\"538.0285\" fill=\"#FFFFFF\" rx=\"8\" ry=\"8\" style=\"stroke: #383838; stroke-width: 1.0;\"/><line style=\"stroke: #383838; stroke-width: 1.0;\" x1=\"106.1276\" x2=\"107.3\" y1=\"546.007\" y2=\"530.05\"/><line style=\"stroke: #383838; stroke-width: 1.0;\" x1=\"98.7353\" x2=\"114.6923\" y1=\"537.4423\" y2=\"538.6147\"/></a><!--MD5=[95fa686b5a16158bcdbcaeead89f639b]\n",
       "link E8 to E3--><a href=\"psysml:edfb0c1d-eeea-43d5-bece-b0bce4203cff\" target=\"_top\" title=\"psysml:edfb0c1d-eeea-43d5-bece-b0bce4203cff\" xlink:actuate=\"onRequest\" xlink:href=\"psysml:edfb0c1d-eeea-43d5-bece-b0bce4203cff\" xlink:show=\"new\" xlink:title=\"psysml:edfb0c1d-eeea-43d5-bece-b0bce4203cff\" xlink:type=\"simple\"><path d=\"M171.51,594.45 C170.08,530.08 166,347 166,347 C166,347 162.24,318.43 158.49,289.89 \" fill=\"none\" id=\"E8-&gt;E3\" style=\"stroke: #383838; stroke-width: 1.0;\"/><polygon fill=\"#FFFFFF\" points=\"155.87,270.01,165.2808,287.9387,151.3996,289.7588,155.87,270.01\" style=\"stroke: #383838; stroke-width: 1.0;\"/><ellipse cx=\"164.0388\" cy=\"293.8503\" fill=\"#383838\" rx=\"2\" ry=\"2\" style=\"stroke: #383838; stroke-width: 1.0;\"/><ellipse cx=\"154.1237\" cy=\"295.1504\" fill=\"#383838\" rx=\"2\" ry=\"2\" style=\"stroke: #383838; stroke-width: 1.0;\"/></a><!--MD5=[f4cf0736d43fd73c4ef68817c49d37d5]\n",
       "reverse link E6 to E8--><a href=\"psysml:4e9eccbd-3da0-4f6c-a773-1d808904fdc5\" target=\"_top\" title=\"psysml:4e9eccbd-3da0-4f6c-a773-1d808904fdc5\" xlink:actuate=\"onRequest\" xlink:href=\"psysml:4e9eccbd-3da0-4f6c-a773-1d808904fdc5\" xlink:show=\"new\" xlink:title=\"psysml:4e9eccbd-3da0-4f6c-a773-1d808904fdc5\" xlink:type=\"simple\"><path d=\"M134.44,541.68 C143.55,559.83 153.45,579.55 160.8,594.19 \" fill=\"none\" id=\"E6&lt;-E8\" style=\"stroke: #383838; stroke-width: 1.0;\"/><polygon fill=\"#383838\" points=\"128.6,530.05,127.7161,537.2067,133.9824,540.7752,134.8663,533.6185,128.6,530.05\" style=\"stroke: #383838; stroke-width: 1.0;\"/></a><!--MD5=[8e04057e7b3cbc0dca4fc78ea351e2da]\n",
       "reverse link E10 to E3--><a href=\"psysml:800170d4-464e-4c2e-99b4-fb1d2de59c3f\" target=\"_top\" title=\"psysml:800170d4-464e-4c2e-99b4-fb1d2de59c3f\" xlink:actuate=\"onRequest\" xlink:href=\"psysml:800170d4-464e-4c2e-99b4-fb1d2de59c3f\" xlink:show=\"new\" xlink:title=\"psysml:800170d4-464e-4c2e-99b4-fb1d2de59c3f\" xlink:type=\"simple\"><path d=\"M98.98,128.98 C109.72,150.06 122.08,174.29 132.05,193.84 \" fill=\"none\" id=\"E10&lt;-E3\" style=\"stroke: #383838; stroke-width: 1.0;\"/><polygon fill=\"#FFFFFF\" points=\"93.03,117.33,92.1919,124.4922,98.4809,128.0206,99.319,120.8583,93.03,117.33\" style=\"stroke: #383838; stroke-width: 1.0;\"/><text fill=\"#000000\" font-family=\"sans-serif\" font-size=\"13\" lengthAdjust=\"spacingAndGlyphs\" textLength=\"7\" x=\"115\" y=\"160.0669\">y</text></a><!--MD5=[604cbf994c02b74b117f728a71673cea]\n",
       "reverse link E10 to E6--><a href=\"psysml:800170d4-464e-4c2e-99b4-fb1d2de59c3f\" target=\"_top\" title=\"psysml:800170d4-464e-4c2e-99b4-fb1d2de59c3f\" xlink:actuate=\"onRequest\" xlink:href=\"psysml:800170d4-464e-4c2e-99b4-fb1d2de59c3f\" xlink:show=\"new\" xlink:title=\"psysml:800170d4-464e-4c2e-99b4-fb1d2de59c3f\" xlink:type=\"simple\"><path d=\"M76.41,130.3 C80.65,218.79 89,393 89,393 C89,393 96.11,426.2 102.06,453.95 \" fill=\"none\" id=\"E10&lt;-E6\" style=\"stroke: #383838; stroke-width: 1.0;\"/><polygon fill=\"#FFFFFF\" points=\"75.78,117.13,72.0748,123.3164,76.3602,129.116,80.0654,122.9296,75.78,117.13\" style=\"stroke: #383838; stroke-width: 1.0;\"/><text fill=\"#000000\" font-family=\"sans-serif\" font-size=\"13\" lengthAdjust=\"spacingAndGlyphs\" textLength=\"7\" x=\"86\" y=\"313.0669\">y</text></a><!--MD5=[d22a4fe1e2a2031fb1ac80ee4ef1354c]\n",
       "@startuml\r\n",
       "skinparam linetype polyline\r\n",
       "skinparam monochrome true\r\n",
       "skinparam classbackgroundcolor white\r\n",
       "skinparam shadowing false\r\n",
       "skinparam wrapWidth 300\r\n",
       "hide circle\r\n",
       "\r\n",
       "package \"BlockTest\" as E1  [[psysml:1f80f8be-3c31-4480-9ece-24461005c64a ]]  {\r\n",
       "comp usage \"f: A\" as E2  <<(T,blue)part>> [[psysml:77ca47e2-95bd-4f5e-baaf-35974d96745c ]] {\r\n",
       "}\r\n",
       "comp def \"A\" as E3  <<(T,blue)part def>> [[psysml:feda5581-6f8c-419d-8ba7-a8a04be8503b ]] {\r\n",
       "- - ports - -\r\n",
       "c: C\r\n",
       "}\r\n",
       "comp usage \"b: B\" as E4  <<(T,blue)part>> [[psysml:ebd0a90b-6b0b-4fe7-b689-bf63abb6537b ]] {\r\n",
       "}\r\n",
       "comp def \"B\" as E6  <<(T,blue)part def>> [[psysml:7287ae62-763a-4b84-8405-f658443750c5 ]] {\r\n",
       "- - ports - -\r\n",
       "x: ~C\r\n",
       "}\r\n",
       "package \"P\" as E7  [[psysml:8a2f941b-3a97-4b54-9145-5eb7e96c5b49 ]]  {\r\n",
       "}\r\n",
       "comp usage \"a: A\" as E8  <<(T,blue)part>> [[psysml:4e9eccbd-3da0-4f6c-a773-1d808904fdc5 ]] {\r\n",
       "}\r\n",
       "comp def \"C\" as E10  <<(T,blue)port def>> [[psysml:8c4f99f3-2675-4f4d-a756-da09d407570d ]] {\r\n",
       "- - references - -\r\n",
       "y: A, B <b>as</b> z2 \r\n",
       "}\r\n",
       "E2 - -:|> E3 [[psysml:f1219804-170d-45ce-a1b2-74df9d2ed655 ]] \r\n",
       "E3 *- - E4 [[psysml:ebd0a90b-6b0b-4fe7-b689-bf63abb6537b ]] \r\n",
       "E4 - -:|> E6 [[psysml:0b7e6d0b-da90-43fd-82ff-3f36fc5229c0 ]] \r\n",
       "E6 +- - E7 [[psysml:8a2f941b-3a97-4b54-9145-5eb7e96c5b49 ]] \r\n",
       "E8 - -:|> E3 [[psysml:edfb0c1d-eeea-43d5-bece-b0bce4203cff ]] \r\n",
       "E6 *- - E8 [[psysml:4e9eccbd-3da0-4f6c-a773-1d808904fdc5 ]] \r\n",
       "E10 o- - E3 [[psysml:800170d4-464e-4c2e-99b4-fb1d2de59c3f ]] : y\r\n",
       "E10 o- - E6 [[psysml:800170d4-464e-4c2e-99b4-fb1d2de59c3f ]] : y\r\n",
       "}\r\n",
       "@enduml\r\n",
       "\n",
       "PlantUML version 1.2020.13(Sat Jun 13 12:26:38 UTC 2020)\n",
       "(EPL source distribution)\n",
       "Java Runtime: OpenJDK Runtime Environment\n",
       "JVM: OpenJDK 64-Bit Server VM\n",
       "Default Encoding: UTF-8\n",
       "Language: en\n",
       "Country: null\n",
       "--></g></svg>"
      ]
     },
     "execution_count": 15,
     "metadata": {},
     "output_type": "execute_result"
    }
   ],
   "source": [
    "%viz --style=\"POLYLINE\" --view=\"MIXED\" \"BlockTest\""
   ]
  },
  {
   "cell_type": "code",
   "execution_count": 16,
   "id": "elect-scout",
   "metadata": {
    "execution": {
     "iopub.execute_input": "2021-03-26T12:07:38.079396Z",
     "iopub.status.busy": "2021-03-26T12:07:38.078465Z",
     "iopub.status.idle": "2021-03-26T12:07:38.160232Z",
     "shell.execute_reply": "2021-03-26T12:07:38.158877Z"
    }
   },
   "outputs": [
    {
     "data": {
      "image/svg+xml": [
       "<?xml version=\"1.0\" encoding=\"UTF-8\" standalone=\"no\"?><svg xmlns=\"http://www.w3.org/2000/svg\" xmlns:xlink=\"http://www.w3.org/1999/xlink\" contentScriptType=\"application/ecmascript\" contentStyleType=\"text/css\" height=\"226px\" preserveAspectRatio=\"none\" style=\"width:630px;height:226px;\" version=\"1.1\" viewBox=\"0 0 630 226\" width=\"630px\" zoomAndPan=\"magnify\"><defs/><g><!--MD5=[fbc87193dbaf4d95561dea2c320d4a47]\n",
       "cluster E1--><a href=\"psysml:1f80f8be-3c31-4480-9ece-24461005c64a\" target=\"_top\" title=\"psysml:1f80f8be-3c31-4480-9ece-24461005c64a\" xlink:actuate=\"onRequest\" xlink:href=\"psysml:1f80f8be-3c31-4480-9ece-24461005c64a\" xlink:show=\"new\" xlink:title=\"psysml:1f80f8be-3c31-4480-9ece-24461005c64a\" xlink:type=\"simple\"><polygon fill=\"#FFFFFF\" points=\"16,6,99,6,106,28.2969,608,28.2969,608,214,16,214,16,6\" style=\"stroke: #000000; stroke-width: 1.5;\"/><line style=\"stroke: #000000; stroke-width: 1.5;\" x1=\"16\" x2=\"106\" y1=\"28.2969\" y2=\"28.2969\"/><text fill=\"#000000\" font-family=\"sans-serif\" font-size=\"14\" font-weight=\"bold\" lengthAdjust=\"spacingAndGlyphs\" textLength=\"77\" x=\"20\" y=\"20.9951\">BlockTest</text></a><!--MD5=[b4997ac47864f28c2f74865a473b2911]\n",
       "class E2--><a href=\"psysml:77ca47e2-95bd-4f5e-baaf-35974d96745c\" target=\"_top\" title=\"psysml:77ca47e2-95bd-4f5e-baaf-35974d96745c\" xlink:actuate=\"onRequest\" xlink:href=\"psysml:77ca47e2-95bd-4f5e-baaf-35974d96745c\" xlink:show=\"new\" xlink:title=\"psysml:77ca47e2-95bd-4f5e-baaf-35974d96745c\" xlink:type=\"simple\"><rect fill=\"#FFFFFF\" height=\"45.9375\" id=\"E2\" rx=\"10\" ry=\"10\" style=\"stroke: #383838; stroke-width: 1.5;\" width=\"42\" x=\"53\" y=\"41\"/><text fill=\"#000000\" font-family=\"sans-serif\" font-size=\"12\" font-style=\"italic\" lengthAdjust=\"spacingAndGlyphs\" textLength=\"40\" x=\"54\" y=\"57.1387\">«part»</text><text fill=\"#000000\" font-family=\"sans-serif\" font-size=\"12\" lengthAdjust=\"spacingAndGlyphs\" textLength=\"20\" x=\"64\" y=\"71.1074\">f: A</text><line style=\"stroke: #383838; stroke-width: 1.5;\" x1=\"54\" x2=\"94\" y1=\"78.9375\" y2=\"78.9375\"/></a><!--MD5=[09b614a08d8cba4a07c9adeb5e0fee81]\n",
       "class E3--><a href=\"psysml:feda5581-6f8c-419d-8ba7-a8a04be8503b\" target=\"_top\" title=\"psysml:feda5581-6f8c-419d-8ba7-a8a04be8503b\" xlink:actuate=\"onRequest\" xlink:href=\"psysml:feda5581-6f8c-419d-8ba7-a8a04be8503b\" xlink:show=\"new\" xlink:title=\"psysml:feda5581-6f8c-419d-8ba7-a8a04be8503b\" xlink:type=\"simple\"><rect fill=\"#FFFFFF\" height=\"75.5469\" id=\"E3\" style=\"stroke: #383838; stroke-width: 1.5;\" width=\"66\" x=\"185\" y=\"45\"/><text fill=\"#000000\" font-family=\"sans-serif\" font-size=\"12\" font-style=\"italic\" lengthAdjust=\"spacingAndGlyphs\" textLength=\"64\" x=\"186\" y=\"61.1387\">«part def»</text><text fill=\"#000000\" font-family=\"sans-serif\" font-size=\"12\" lengthAdjust=\"spacingAndGlyphs\" textLength=\"8\" x=\"214\" y=\"75.1074\">A</text><line style=\"stroke: #383838; stroke-width: 1.5;\" x1=\"186\" x2=\"250\" y1=\"82.9375\" y2=\"82.9375\"/><text fill=\"#000000\" font-family=\"sans-serif\" font-size=\"11\" lengthAdjust=\"spacingAndGlyphs\" textLength=\"22\" x=\"191\" y=\"113.9526\">c: C</text><line style=\"stroke: #383838; stroke-width: 1.0;\" x1=\"186\" x2=\"203\" y1=\"97.3398\" y2=\"97.3398\"/><text fill=\"#000000\" font-family=\"sans-serif\" font-size=\"11\" lengthAdjust=\"spacingAndGlyphs\" textLength=\"30\" x=\"203\" y=\"100.6479\">ports</text><line style=\"stroke: #383838; stroke-width: 1.0;\" x1=\"233\" x2=\"250\" y1=\"97.3398\" y2=\"97.3398\"/></a><!--MD5=[ebbe1d658d1005bcc118a6aa81145e00]\n",
       "class E4--><a href=\"psysml:ebd0a90b-6b0b-4fe7-b689-bf63abb6537b\" target=\"_top\" title=\"psysml:ebd0a90b-6b0b-4fe7-b689-bf63abb6537b\" xlink:actuate=\"onRequest\" xlink:href=\"psysml:ebd0a90b-6b0b-4fe7-b689-bf63abb6537b\" xlink:show=\"new\" xlink:title=\"psysml:ebd0a90b-6b0b-4fe7-b689-bf63abb6537b\" xlink:type=\"simple\"><rect fill=\"#FFFFFF\" height=\"45.9375\" id=\"E4\" rx=\"10\" ry=\"10\" style=\"stroke: #383838; stroke-width: 1.5;\" width=\"42\" x=\"320\" y=\"80\"/><text fill=\"#000000\" font-family=\"sans-serif\" font-size=\"12\" font-style=\"italic\" lengthAdjust=\"spacingAndGlyphs\" textLength=\"40\" x=\"321\" y=\"96.1387\">«part»</text><text fill=\"#000000\" font-family=\"sans-serif\" font-size=\"12\" lengthAdjust=\"spacingAndGlyphs\" textLength=\"24\" x=\"329\" y=\"110.1074\">b: B</text><line style=\"stroke: #383838; stroke-width: 1.5;\" x1=\"321\" x2=\"361\" y1=\"117.9375\" y2=\"117.9375\"/></a><!--MD5=[60a26617385b1d2d0262a64233df1f8d]\n",
       "class E6--><a href=\"psysml:7287ae62-763a-4b84-8405-f658443750c5\" target=\"_top\" title=\"psysml:7287ae62-763a-4b84-8405-f658443750c5\" xlink:actuate=\"onRequest\" xlink:href=\"psysml:7287ae62-763a-4b84-8405-f658443750c5\" xlink:show=\"new\" xlink:title=\"psysml:7287ae62-763a-4b84-8405-f658443750c5\" xlink:type=\"simple\"><rect fill=\"#FFFFFF\" height=\"75.5469\" id=\"E6\" style=\"stroke: #383838; stroke-width: 1.5;\" width=\"66\" x=\"423\" y=\"92\"/><text fill=\"#000000\" font-family=\"sans-serif\" font-size=\"12\" font-style=\"italic\" lengthAdjust=\"spacingAndGlyphs\" textLength=\"64\" x=\"424\" y=\"108.1387\">«part def»</text><text fill=\"#000000\" font-family=\"sans-serif\" font-size=\"12\" lengthAdjust=\"spacingAndGlyphs\" textLength=\"8\" x=\"452\" y=\"122.1074\">B</text><line style=\"stroke: #383838; stroke-width: 1.5;\" x1=\"424\" x2=\"488\" y1=\"129.9375\" y2=\"129.9375\"/><text fill=\"#000000\" font-family=\"sans-serif\" font-size=\"11\" lengthAdjust=\"spacingAndGlyphs\" textLength=\"31\" x=\"429\" y=\"160.9526\">x: ~C</text><line style=\"stroke: #383838; stroke-width: 1.0;\" x1=\"424\" x2=\"441\" y1=\"144.3398\" y2=\"144.3398\"/><text fill=\"#000000\" font-family=\"sans-serif\" font-size=\"11\" lengthAdjust=\"spacingAndGlyphs\" textLength=\"30\" x=\"441\" y=\"147.6479\">ports</text><line style=\"stroke: #383838; stroke-width: 1.0;\" x1=\"471\" x2=\"488\" y1=\"144.3398\" y2=\"144.3398\"/></a><!--MD5=[b9389687b975829384b498ac4b7476b2]\n",
       "class E8--><a href=\"psysml:4e9eccbd-3da0-4f6c-a773-1d808904fdc5\" target=\"_top\" title=\"psysml:4e9eccbd-3da0-4f6c-a773-1d808904fdc5\" xlink:actuate=\"onRequest\" xlink:href=\"psysml:4e9eccbd-3da0-4f6c-a773-1d808904fdc5\" xlink:show=\"new\" xlink:title=\"psysml:4e9eccbd-3da0-4f6c-a773-1d808904fdc5\" xlink:type=\"simple\"><rect fill=\"#FFFFFF\" height=\"45.9375\" id=\"E8\" rx=\"10\" ry=\"10\" style=\"stroke: #383838; stroke-width: 1.5;\" width=\"42\" x=\"550\" y=\"41\"/><text fill=\"#000000\" font-family=\"sans-serif\" font-size=\"12\" font-style=\"italic\" lengthAdjust=\"spacingAndGlyphs\" textLength=\"40\" x=\"551\" y=\"57.1387\">«part»</text><text fill=\"#000000\" font-family=\"sans-serif\" font-size=\"12\" lengthAdjust=\"spacingAndGlyphs\" textLength=\"24\" x=\"559\" y=\"71.1074\">a: A</text><line style=\"stroke: #383838; stroke-width: 1.5;\" x1=\"551\" x2=\"591\" y1=\"78.9375\" y2=\"78.9375\"/></a><!--MD5=[96f4274e9e20536e775497830990834d]\n",
       "class E10--><a href=\"psysml:8c4f99f3-2675-4f4d-a756-da09d407570d\" target=\"_top\" title=\"psysml:8c4f99f3-2675-4f4d-a756-da09d407570d\" xlink:actuate=\"onRequest\" xlink:href=\"psysml:8c4f99f3-2675-4f4d-a756-da09d407570d\" xlink:show=\"new\" xlink:title=\"psysml:8c4f99f3-2675-4f4d-a756-da09d407570d\" xlink:type=\"simple\"><rect fill=\"#FFFFFF\" height=\"75.5469\" id=\"E10\" style=\"stroke: #383838; stroke-width: 1.5;\" width=\"84\" x=\"32\" y=\"122\"/><text fill=\"#000000\" font-family=\"sans-serif\" font-size=\"12\" font-style=\"italic\" lengthAdjust=\"spacingAndGlyphs\" textLength=\"64\" x=\"42\" y=\"138.1387\">«port def»</text><text fill=\"#000000\" font-family=\"sans-serif\" font-size=\"12\" lengthAdjust=\"spacingAndGlyphs\" textLength=\"8\" x=\"70\" y=\"152.1074\">C</text><line style=\"stroke: #383838; stroke-width: 1.5;\" x1=\"33\" x2=\"115\" y1=\"159.9375\" y2=\"159.9375\"/><text fill=\"#000000\" font-family=\"sans-serif\" font-size=\"11\" lengthAdjust=\"spacingAndGlyphs\" textLength=\"37\" x=\"38\" y=\"190.9526\">y: A, B</text><text fill=\"#000000\" font-family=\"sans-serif\" font-size=\"11\" font-weight=\"bold\" lengthAdjust=\"spacingAndGlyphs\" textLength=\"15\" x=\"79\" y=\"190.9526\">as</text><text fill=\"#000000\" font-family=\"sans-serif\" font-size=\"11\" lengthAdjust=\"spacingAndGlyphs\" textLength=\"12\" x=\"98\" y=\"190.9526\">z2</text><line style=\"stroke: #383838; stroke-width: 1.0;\" x1=\"33\" x2=\"43\" y1=\"174.3398\" y2=\"174.3398\"/><text fill=\"#000000\" font-family=\"sans-serif\" font-size=\"11\" lengthAdjust=\"spacingAndGlyphs\" textLength=\"62\" x=\"43\" y=\"177.6479\">references</text><line style=\"stroke: #383838; stroke-width: 1.0;\" x1=\"105\" x2=\"115\" y1=\"174.3398\" y2=\"174.3398\"/></a><a href=\"psysml:8a2f941b-3a97-4b54-9145-5eb7e96c5b49\" target=\"_top\" title=\"psysml:8a2f941b-3a97-4b54-9145-5eb7e96c5b49\" xlink:actuate=\"onRequest\" xlink:href=\"psysml:8a2f941b-3a97-4b54-9145-5eb7e96c5b49\" xlink:show=\"new\" xlink:title=\"psysml:8a2f941b-3a97-4b54-9145-5eb7e96c5b49\" xlink:type=\"simple\"><polygon fill=\"#FFFFFF\" points=\"556,122.5,572,122.5,579,144.7969,586,144.7969,586,175.0938,556,175.0938,556,122.5\" style=\"stroke: #000000; stroke-width: 1.5;\"/><line style=\"stroke: #000000; stroke-width: 1.5;\" x1=\"556\" x2=\"579\" y1=\"144.7969\" y2=\"144.7969\"/><text fill=\"#000000\" font-family=\"sans-serif\" font-size=\"14\" font-weight=\"bold\" lengthAdjust=\"spacingAndGlyphs\" textLength=\"10\" x=\"560\" y=\"137.4951\">P</text></a><!--MD5=[2720a5a1f2c3fca2055b230370638851]\n",
       "link E2 to E3--><a href=\"psysml:f1219804-170d-45ce-a1b2-74df9d2ed655\" target=\"_top\" title=\"psysml:f1219804-170d-45ce-a1b2-74df9d2ed655\" xlink:actuate=\"onRequest\" xlink:href=\"psysml:f1219804-170d-45ce-a1b2-74df9d2ed655\" xlink:show=\"new\" xlink:title=\"psysml:f1219804-170d-45ce-a1b2-74df9d2ed655\" xlink:type=\"simple\"><path d=\"M95.04,66.68 C113.08,69.09 140.38,72.75 164.59,75.99 \" fill=\"none\" id=\"E2-&gt;E3\" style=\"stroke: #383838; stroke-width: 1.0;\"/><polygon fill=\"#FFFFFF\" points=\"184.75,78.68,164.9917,83.1084,166.8414,69.2311,184.75,78.68\" style=\"stroke: #383838; stroke-width: 1.0;\"/><ellipse cx=\"159.6059\" cy=\"80.3729\" fill=\"#383838\" rx=\"2\" ry=\"2\" style=\"stroke: #383838; stroke-width: 1.0;\"/><ellipse cx=\"160.9271\" cy=\"70.4605\" fill=\"#383838\" rx=\"2\" ry=\"2\" style=\"stroke: #383838; stroke-width: 1.0;\"/></a><!--MD5=[4672eba38e49728da53d11aeb285b987]\n",
       "reverse link E3 to E4--><a href=\"psysml:ebd0a90b-6b0b-4fe7-b689-bf63abb6537b\" target=\"_top\" title=\"psysml:ebd0a90b-6b0b-4fe7-b689-bf63abb6537b\" xlink:actuate=\"onRequest\" xlink:href=\"psysml:ebd0a90b-6b0b-4fe7-b689-bf63abb6537b\" xlink:show=\"new\" xlink:title=\"psysml:ebd0a90b-6b0b-4fe7-b689-bf63abb6537b\" xlink:type=\"simple\"><path d=\"M263.96,90.43 C283.2,93.61 304.69,97.16 319.9,99.68 \" fill=\"none\" id=\"E3&lt;-E4\" style=\"stroke: #383838; stroke-width: 1.0;\"/><polygon fill=\"#383838\" points=\"251.11,88.31,256.3743,93.2382,262.9481,90.2742,257.6838,85.3461,251.11,88.31\" style=\"stroke: #383838; stroke-width: 1.0;\"/></a><!--MD5=[79568f1e445c3877b6a54524624ccc7d]\n",
       "link E4 to E6--><a href=\"psysml:0b7e6d0b-da90-43fd-82ff-3f36fc5229c0\" target=\"_top\" title=\"psysml:0b7e6d0b-da90-43fd-82ff-3f36fc5229c0\" xlink:actuate=\"onRequest\" xlink:href=\"psysml:0b7e6d0b-da90-43fd-82ff-3f36fc5229c0\" xlink:show=\"new\" xlink:title=\"psysml:0b7e6d0b-da90-43fd-82ff-3f36fc5229c0\" xlink:type=\"simple\"><path d=\"M362.2,107.83 C373.59,110.55 388.4,114.09 402.82,117.53 \" fill=\"none\" id=\"E4-&gt;E6\" style=\"stroke: #383838; stroke-width: 1.0;\"/><polygon fill=\"#FFFFFF\" points=\"422.57,122.25,402.4621,124.6316,405.7233,111.0167,422.57,122.25\" style=\"stroke: #383838; stroke-width: 1.0;\"/><ellipse cx=\"397.3848\" cy=\"121.3588\" fill=\"#383838\" rx=\"2\" ry=\"2\" style=\"stroke: #383838; stroke-width: 1.0;\"/><ellipse cx=\"399.7142\" cy=\"111.6339\" fill=\"#383838\" rx=\"2\" ry=\"2\" style=\"stroke: #383838; stroke-width: 1.0;\"/></a><!--MD5=[3f50a3473f1dfb74d3f76443e03635af]\n",
       "reverse link E6 to E7--><a href=\"psysml:8a2f941b-3a97-4b54-9145-5eb7e96c5b49\" target=\"_top\" title=\"psysml:8a2f941b-3a97-4b54-9145-5eb7e96c5b49\" xlink:actuate=\"onRequest\" xlink:href=\"psysml:8a2f941b-3a97-4b54-9145-5eb7e96c5b49\" xlink:show=\"new\" xlink:title=\"psysml:8a2f941b-3a97-4b54-9145-5eb7e96c5b49\" xlink:type=\"simple\"><path d=\"M503.97,137.9 C522.72,141.05 542.91,144.44 555.96,146.64 \" fill=\"none\" id=\"E6&lt;-E7\" style=\"stroke: #383838; stroke-width: 1.0;\"/><ellipse cx=\"496.9695\" cy=\"136.7151\" fill=\"#FFFFFF\" rx=\"8\" ry=\"8\" style=\"stroke: #383838; stroke-width: 1.0;\"/><line style=\"stroke: #383838; stroke-width: 1.0;\" x1=\"504.859\" x2=\"489.08\" y1=\"138.0401\" y2=\"135.39\"/><line style=\"stroke: #383838; stroke-width: 1.0;\" x1=\"495.6444\" x2=\"498.2946\" y1=\"144.6046\" y2=\"128.8256\"/></a><!--MD5=[95fa686b5a16158bcdbcaeead89f639b]\n",
       "link E8 to E3--><a href=\"psysml:edfb0c1d-eeea-43d5-bece-b0bce4203cff\" target=\"_top\" title=\"psysml:edfb0c1d-eeea-43d5-bece-b0bce4203cff\" xlink:actuate=\"onRequest\" xlink:href=\"psysml:edfb0c1d-eeea-43d5-bece-b0bce4203cff\" xlink:show=\"new\" xlink:title=\"psysml:edfb0c1d-eeea-43d5-bece-b0bce4203cff\" xlink:type=\"simple\"><path d=\"M549.84,62.34 C507.25,59.15 405.06,53.25 320,62 C303.77,63.67 286.31,66.81 270.54,70.16 \" fill=\"none\" id=\"E8-&gt;E3\" style=\"stroke: #383838; stroke-width: 1.0;\"/><polygon fill=\"#FFFFFF\" points=\"251.03,74.59,268.0156,63.5678,271.1066,77.2223,251.03,74.59\" style=\"stroke: #383838; stroke-width: 1.0;\"/><ellipse cx=\"274.0165\" cy=\"64.2599\" fill=\"#383838\" rx=\"2\" ry=\"2\" style=\"stroke: #383838; stroke-width: 1.0;\"/><ellipse cx=\"276.2244\" cy=\"74.0132\" fill=\"#383838\" rx=\"2\" ry=\"2\" style=\"stroke: #383838; stroke-width: 1.0;\"/></a><!--MD5=[f4cf0736d43fd73c4ef68817c49d37d5]\n",
       "reverse link E6 to E8--><a href=\"psysml:4e9eccbd-3da0-4f6c-a773-1d808904fdc5\" target=\"_top\" title=\"psysml:4e9eccbd-3da0-4f6c-a773-1d808904fdc5\" xlink:actuate=\"onRequest\" xlink:href=\"psysml:4e9eccbd-3da0-4f6c-a773-1d808904fdc5\" xlink:show=\"new\" xlink:title=\"psysml:4e9eccbd-3da0-4f6c-a773-1d808904fdc5\" xlink:type=\"simple\"><path d=\"M500.52,104.58 C517.54,94.64 536.23,83.72 549.94,75.72 \" fill=\"none\" id=\"E6&lt;-E8\" style=\"stroke: #383838; stroke-width: 1.0;\"/><polygon fill=\"#383838\" points=\"489.08,111.26,496.2784,111.6885,499.4425,105.2086,492.2441,104.7802,489.08,111.26\" style=\"stroke: #383838; stroke-width: 1.0;\"/></a><!--MD5=[8e04057e7b3cbc0dca4fc78ea351e2da]\n",
       "reverse link E10 to E3--><a href=\"psysml:800170d4-464e-4c2e-99b4-fb1d2de59c3f\" target=\"_top\" title=\"psysml:800170d4-464e-4c2e-99b4-fb1d2de59c3f\" xlink:actuate=\"onRequest\" xlink:href=\"psysml:800170d4-464e-4c2e-99b4-fb1d2de59c3f\" xlink:show=\"new\" xlink:title=\"psysml:800170d4-464e-4c2e-99b4-fb1d2de59c3f\" xlink:type=\"simple\"><path d=\"M127.66,131.44 C146.75,121.09 167.75,109.71 184.58,100.58 \" fill=\"none\" id=\"E10&lt;-E3\" style=\"stroke: #383838; stroke-width: 1.0;\"/><polygon fill=\"#FFFFFF\" points=\"116.07,137.73,123.2513,138.3848,126.6178,132.0078,119.4365,131.353,116.07,137.73\" style=\"stroke: #383838; stroke-width: 1.0;\"/><text fill=\"#000000\" font-family=\"sans-serif\" font-size=\"13\" lengthAdjust=\"spacingAndGlyphs\" textLength=\"7\" x=\"147\" y=\"113.0669\">y</text></a><!--MD5=[604cbf994c02b74b117f728a71673cea]\n",
       "reverse link E10 to E6--><a href=\"psysml:800170d4-464e-4c2e-99b4-fb1d2de59c3f\" target=\"_top\" title=\"psysml:800170d4-464e-4c2e-99b4-fb1d2de59c3f\" xlink:actuate=\"onRequest\" xlink:href=\"psysml:800170d4-464e-4c2e-99b4-fb1d2de59c3f\" xlink:show=\"new\" xlink:title=\"psysml:800170d4-464e-4c2e-99b4-fb1d2de59c3f\" xlink:type=\"simple\"><path d=\"M129.62,158.06 C187.43,155.71 281.3,151.02 362,143 C382.28,140.99 404.93,137.84 422.8,135.15 \" fill=\"none\" id=\"E10&lt;-E6\" style=\"stroke: #383838; stroke-width: 1.0;\"/><polygon fill=\"#FFFFFF\" points=\"116.43,158.58,122.5834,162.3397,128.4206,158.1056,122.2672,154.3459,116.43,158.58\" style=\"stroke: #383838; stroke-width: 1.0;\"/><text fill=\"#000000\" font-family=\"sans-serif\" font-size=\"13\" lengthAdjust=\"spacingAndGlyphs\" textLength=\"7\" x=\"282\" y=\"146.0669\">y</text></a><!--MD5=[adc3f2fdc5467124c7c6e8fb53c6e1dd]\n",
       "@startuml\r\n",
       "left to right direction\r\n",
       "skinparam monochrome true\r\n",
       "skinparam classbackgroundcolor white\r\n",
       "skinparam shadowing false\r\n",
       "skinparam wrapWidth 300\r\n",
       "hide circle\r\n",
       "\r\n",
       "package \"BlockTest\" as E1  [[psysml:1f80f8be-3c31-4480-9ece-24461005c64a ]]  {\r\n",
       "comp usage \"f: A\" as E2  <<(T,blue)part>> [[psysml:77ca47e2-95bd-4f5e-baaf-35974d96745c ]] {\r\n",
       "}\r\n",
       "comp def \"A\" as E3  <<(T,blue)part def>> [[psysml:feda5581-6f8c-419d-8ba7-a8a04be8503b ]] {\r\n",
       "- - ports - -\r\n",
       "c: C\r\n",
       "}\r\n",
       "comp usage \"b: B\" as E4  <<(T,blue)part>> [[psysml:ebd0a90b-6b0b-4fe7-b689-bf63abb6537b ]] {\r\n",
       "}\r\n",
       "comp def \"B\" as E6  <<(T,blue)part def>> [[psysml:7287ae62-763a-4b84-8405-f658443750c5 ]] {\r\n",
       "- - ports - -\r\n",
       "x: ~C\r\n",
       "}\r\n",
       "package \"P\" as E7  [[psysml:8a2f941b-3a97-4b54-9145-5eb7e96c5b49 ]]  {\r\n",
       "}\r\n",
       "comp usage \"a: A\" as E8  <<(T,blue)part>> [[psysml:4e9eccbd-3da0-4f6c-a773-1d808904fdc5 ]] {\r\n",
       "}\r\n",
       "comp def \"C\" as E10  <<(T,blue)port def>> [[psysml:8c4f99f3-2675-4f4d-a756-da09d407570d ]] {\r\n",
       "- - references - -\r\n",
       "y: A, B <b>as</b> z2 \r\n",
       "}\r\n",
       "E2 - -:|> E3 [[psysml:f1219804-170d-45ce-a1b2-74df9d2ed655 ]] \r\n",
       "E3 *- - E4 [[psysml:ebd0a90b-6b0b-4fe7-b689-bf63abb6537b ]] \r\n",
       "E4 - -:|> E6 [[psysml:0b7e6d0b-da90-43fd-82ff-3f36fc5229c0 ]] \r\n",
       "E6 +- - E7 [[psysml:8a2f941b-3a97-4b54-9145-5eb7e96c5b49 ]] \r\n",
       "E8 - -:|> E3 [[psysml:edfb0c1d-eeea-43d5-bece-b0bce4203cff ]] \r\n",
       "E6 *- - E8 [[psysml:4e9eccbd-3da0-4f6c-a773-1d808904fdc5 ]] \r\n",
       "E10 o- - E3 [[psysml:800170d4-464e-4c2e-99b4-fb1d2de59c3f ]] : y\r\n",
       "E10 o- - E6 [[psysml:800170d4-464e-4c2e-99b4-fb1d2de59c3f ]] : y\r\n",
       "}\r\n",
       "@enduml\r\n",
       "\n",
       "PlantUML version 1.2020.13(Sat Jun 13 12:26:38 UTC 2020)\n",
       "(EPL source distribution)\n",
       "Java Runtime: OpenJDK Runtime Environment\n",
       "JVM: OpenJDK 64-Bit Server VM\n",
       "Default Encoding: UTF-8\n",
       "Language: en\n",
       "Country: null\n",
       "--></g></svg>"
      ]
     },
     "execution_count": 16,
     "metadata": {},
     "output_type": "execute_result"
    }
   ],
   "source": [
    "%viz --style=\"LR\" --view=\"Default\" \"BlockTest\""
   ]
  },
  {
   "cell_type": "code",
   "execution_count": 17,
   "id": "optical-framing",
   "metadata": {
    "execution": {
     "iopub.execute_input": "2021-03-26T12:07:38.211048Z",
     "iopub.status.busy": "2021-03-26T12:07:38.210108Z",
     "iopub.status.idle": "2021-03-26T12:07:38.283551Z",
     "shell.execute_reply": "2021-03-26T12:07:38.282052Z"
    }
   },
   "outputs": [
    {
     "data": {
      "image/svg+xml": [
       "<?xml version=\"1.0\" encoding=\"UTF-8\" standalone=\"no\"?><svg xmlns=\"http://www.w3.org/2000/svg\" xmlns:xlink=\"http://www.w3.org/1999/xlink\" contentScriptType=\"application/ecmascript\" contentStyleType=\"text/css\" height=\"226px\" preserveAspectRatio=\"none\" style=\"width:630px;height:226px;\" version=\"1.1\" viewBox=\"0 0 630 226\" width=\"630px\" zoomAndPan=\"magnify\"><defs/><g><!--MD5=[fbc87193dbaf4d95561dea2c320d4a47]\n",
       "cluster E1--><a href=\"psysml:1f80f8be-3c31-4480-9ece-24461005c64a\" target=\"_top\" title=\"psysml:1f80f8be-3c31-4480-9ece-24461005c64a\" xlink:actuate=\"onRequest\" xlink:href=\"psysml:1f80f8be-3c31-4480-9ece-24461005c64a\" xlink:show=\"new\" xlink:title=\"psysml:1f80f8be-3c31-4480-9ece-24461005c64a\" xlink:type=\"simple\"><polygon fill=\"#FFFFFF\" points=\"16,6,99,6,106,28.2969,608,28.2969,608,214,16,214,16,6\" style=\"stroke: #000000; stroke-width: 1.5;\"/><line style=\"stroke: #000000; stroke-width: 1.5;\" x1=\"16\" x2=\"106\" y1=\"28.2969\" y2=\"28.2969\"/><text fill=\"#000000\" font-family=\"sans-serif\" font-size=\"14\" font-weight=\"bold\" lengthAdjust=\"spacingAndGlyphs\" textLength=\"77\" x=\"20\" y=\"20.9951\">BlockTest</text></a><!--MD5=[b4997ac47864f28c2f74865a473b2911]\n",
       "class E2--><a href=\"psysml:77ca47e2-95bd-4f5e-baaf-35974d96745c\" target=\"_top\" title=\"psysml:77ca47e2-95bd-4f5e-baaf-35974d96745c\" xlink:actuate=\"onRequest\" xlink:href=\"psysml:77ca47e2-95bd-4f5e-baaf-35974d96745c\" xlink:show=\"new\" xlink:title=\"psysml:77ca47e2-95bd-4f5e-baaf-35974d96745c\" xlink:type=\"simple\"><rect fill=\"#FFFFFF\" height=\"45.9375\" id=\"E2\" rx=\"10\" ry=\"10\" style=\"stroke: #383838; stroke-width: 1.5;\" width=\"42\" x=\"53\" y=\"41\"/><text fill=\"#000000\" font-family=\"sans-serif\" font-size=\"12\" font-style=\"italic\" lengthAdjust=\"spacingAndGlyphs\" textLength=\"40\" x=\"54\" y=\"57.1387\">«part»</text><text fill=\"#000000\" font-family=\"sans-serif\" font-size=\"12\" lengthAdjust=\"spacingAndGlyphs\" textLength=\"20\" x=\"64\" y=\"71.1074\">f: A</text><line style=\"stroke: #383838; stroke-width: 1.5;\" x1=\"54\" x2=\"94\" y1=\"78.9375\" y2=\"78.9375\"/></a><!--MD5=[09b614a08d8cba4a07c9adeb5e0fee81]\n",
       "class E3--><a href=\"psysml:feda5581-6f8c-419d-8ba7-a8a04be8503b\" target=\"_top\" title=\"psysml:feda5581-6f8c-419d-8ba7-a8a04be8503b\" xlink:actuate=\"onRequest\" xlink:href=\"psysml:feda5581-6f8c-419d-8ba7-a8a04be8503b\" xlink:show=\"new\" xlink:title=\"psysml:feda5581-6f8c-419d-8ba7-a8a04be8503b\" xlink:type=\"simple\"><rect fill=\"#FFFFFF\" height=\"75.5469\" id=\"E3\" style=\"stroke: #383838; stroke-width: 1.5;\" width=\"66\" x=\"185\" y=\"45\"/><text fill=\"#000000\" font-family=\"sans-serif\" font-size=\"12\" font-style=\"italic\" lengthAdjust=\"spacingAndGlyphs\" textLength=\"64\" x=\"186\" y=\"61.1387\">«part def»</text><text fill=\"#000000\" font-family=\"sans-serif\" font-size=\"12\" lengthAdjust=\"spacingAndGlyphs\" textLength=\"8\" x=\"214\" y=\"75.1074\">A</text><line style=\"stroke: #383838; stroke-width: 1.5;\" x1=\"186\" x2=\"250\" y1=\"82.9375\" y2=\"82.9375\"/><text fill=\"#000000\" font-family=\"sans-serif\" font-size=\"11\" lengthAdjust=\"spacingAndGlyphs\" textLength=\"22\" x=\"191\" y=\"113.9526\">c: C</text><line style=\"stroke: #383838; stroke-width: 1.0;\" x1=\"186\" x2=\"203\" y1=\"97.3398\" y2=\"97.3398\"/><text fill=\"#000000\" font-family=\"sans-serif\" font-size=\"11\" lengthAdjust=\"spacingAndGlyphs\" textLength=\"30\" x=\"203\" y=\"100.6479\">ports</text><line style=\"stroke: #383838; stroke-width: 1.0;\" x1=\"233\" x2=\"250\" y1=\"97.3398\" y2=\"97.3398\"/></a><!--MD5=[ebbe1d658d1005bcc118a6aa81145e00]\n",
       "class E4--><a href=\"psysml:ebd0a90b-6b0b-4fe7-b689-bf63abb6537b\" target=\"_top\" title=\"psysml:ebd0a90b-6b0b-4fe7-b689-bf63abb6537b\" xlink:actuate=\"onRequest\" xlink:href=\"psysml:ebd0a90b-6b0b-4fe7-b689-bf63abb6537b\" xlink:show=\"new\" xlink:title=\"psysml:ebd0a90b-6b0b-4fe7-b689-bf63abb6537b\" xlink:type=\"simple\"><rect fill=\"#FFFFFF\" height=\"45.9375\" id=\"E4\" rx=\"10\" ry=\"10\" style=\"stroke: #383838; stroke-width: 1.5;\" width=\"42\" x=\"320\" y=\"80\"/><text fill=\"#000000\" font-family=\"sans-serif\" font-size=\"12\" font-style=\"italic\" lengthAdjust=\"spacingAndGlyphs\" textLength=\"40\" x=\"321\" y=\"96.1387\">«part»</text><text fill=\"#000000\" font-family=\"sans-serif\" font-size=\"12\" lengthAdjust=\"spacingAndGlyphs\" textLength=\"24\" x=\"329\" y=\"110.1074\">b: B</text><line style=\"stroke: #383838; stroke-width: 1.5;\" x1=\"321\" x2=\"361\" y1=\"117.9375\" y2=\"117.9375\"/></a><!--MD5=[60a26617385b1d2d0262a64233df1f8d]\n",
       "class E6--><a href=\"psysml:7287ae62-763a-4b84-8405-f658443750c5\" target=\"_top\" title=\"psysml:7287ae62-763a-4b84-8405-f658443750c5\" xlink:actuate=\"onRequest\" xlink:href=\"psysml:7287ae62-763a-4b84-8405-f658443750c5\" xlink:show=\"new\" xlink:title=\"psysml:7287ae62-763a-4b84-8405-f658443750c5\" xlink:type=\"simple\"><rect fill=\"#FFFFFF\" height=\"75.5469\" id=\"E6\" style=\"stroke: #383838; stroke-width: 1.5;\" width=\"66\" x=\"423\" y=\"92\"/><text fill=\"#000000\" font-family=\"sans-serif\" font-size=\"12\" font-style=\"italic\" lengthAdjust=\"spacingAndGlyphs\" textLength=\"64\" x=\"424\" y=\"108.1387\">«part def»</text><text fill=\"#000000\" font-family=\"sans-serif\" font-size=\"12\" lengthAdjust=\"spacingAndGlyphs\" textLength=\"8\" x=\"452\" y=\"122.1074\">B</text><line style=\"stroke: #383838; stroke-width: 1.5;\" x1=\"424\" x2=\"488\" y1=\"129.9375\" y2=\"129.9375\"/><text fill=\"#000000\" font-family=\"sans-serif\" font-size=\"11\" lengthAdjust=\"spacingAndGlyphs\" textLength=\"31\" x=\"429\" y=\"160.9526\">x: ~C</text><line style=\"stroke: #383838; stroke-width: 1.0;\" x1=\"424\" x2=\"441\" y1=\"144.3398\" y2=\"144.3398\"/><text fill=\"#000000\" font-family=\"sans-serif\" font-size=\"11\" lengthAdjust=\"spacingAndGlyphs\" textLength=\"30\" x=\"441\" y=\"147.6479\">ports</text><line style=\"stroke: #383838; stroke-width: 1.0;\" x1=\"471\" x2=\"488\" y1=\"144.3398\" y2=\"144.3398\"/></a><!--MD5=[b9389687b975829384b498ac4b7476b2]\n",
       "class E8--><a href=\"psysml:4e9eccbd-3da0-4f6c-a773-1d808904fdc5\" target=\"_top\" title=\"psysml:4e9eccbd-3da0-4f6c-a773-1d808904fdc5\" xlink:actuate=\"onRequest\" xlink:href=\"psysml:4e9eccbd-3da0-4f6c-a773-1d808904fdc5\" xlink:show=\"new\" xlink:title=\"psysml:4e9eccbd-3da0-4f6c-a773-1d808904fdc5\" xlink:type=\"simple\"><rect fill=\"#FFFFFF\" height=\"45.9375\" id=\"E8\" rx=\"10\" ry=\"10\" style=\"stroke: #383838; stroke-width: 1.5;\" width=\"42\" x=\"550\" y=\"41\"/><text fill=\"#000000\" font-family=\"sans-serif\" font-size=\"12\" font-style=\"italic\" lengthAdjust=\"spacingAndGlyphs\" textLength=\"40\" x=\"551\" y=\"57.1387\">«part»</text><text fill=\"#000000\" font-family=\"sans-serif\" font-size=\"12\" lengthAdjust=\"spacingAndGlyphs\" textLength=\"24\" x=\"559\" y=\"71.1074\">a: A</text><line style=\"stroke: #383838; stroke-width: 1.5;\" x1=\"551\" x2=\"591\" y1=\"78.9375\" y2=\"78.9375\"/></a><!--MD5=[96f4274e9e20536e775497830990834d]\n",
       "class E10--><a href=\"psysml:8c4f99f3-2675-4f4d-a756-da09d407570d\" target=\"_top\" title=\"psysml:8c4f99f3-2675-4f4d-a756-da09d407570d\" xlink:actuate=\"onRequest\" xlink:href=\"psysml:8c4f99f3-2675-4f4d-a756-da09d407570d\" xlink:show=\"new\" xlink:title=\"psysml:8c4f99f3-2675-4f4d-a756-da09d407570d\" xlink:type=\"simple\"><rect fill=\"#FFFFFF\" height=\"75.5469\" id=\"E10\" style=\"stroke: #383838; stroke-width: 1.5;\" width=\"84\" x=\"32\" y=\"122\"/><text fill=\"#000000\" font-family=\"sans-serif\" font-size=\"12\" font-style=\"italic\" lengthAdjust=\"spacingAndGlyphs\" textLength=\"64\" x=\"42\" y=\"138.1387\">«port def»</text><text fill=\"#000000\" font-family=\"sans-serif\" font-size=\"12\" lengthAdjust=\"spacingAndGlyphs\" textLength=\"8\" x=\"70\" y=\"152.1074\">C</text><line style=\"stroke: #383838; stroke-width: 1.5;\" x1=\"33\" x2=\"115\" y1=\"159.9375\" y2=\"159.9375\"/><text fill=\"#000000\" font-family=\"sans-serif\" font-size=\"11\" lengthAdjust=\"spacingAndGlyphs\" textLength=\"37\" x=\"38\" y=\"190.9526\">y: A, B</text><text fill=\"#000000\" font-family=\"sans-serif\" font-size=\"11\" font-weight=\"bold\" lengthAdjust=\"spacingAndGlyphs\" textLength=\"15\" x=\"79\" y=\"190.9526\">as</text><text fill=\"#000000\" font-family=\"sans-serif\" font-size=\"11\" lengthAdjust=\"spacingAndGlyphs\" textLength=\"12\" x=\"98\" y=\"190.9526\">z2</text><line style=\"stroke: #383838; stroke-width: 1.0;\" x1=\"33\" x2=\"43\" y1=\"174.3398\" y2=\"174.3398\"/><text fill=\"#000000\" font-family=\"sans-serif\" font-size=\"11\" lengthAdjust=\"spacingAndGlyphs\" textLength=\"62\" x=\"43\" y=\"177.6479\">references</text><line style=\"stroke: #383838; stroke-width: 1.0;\" x1=\"105\" x2=\"115\" y1=\"174.3398\" y2=\"174.3398\"/></a><a href=\"psysml:8a2f941b-3a97-4b54-9145-5eb7e96c5b49\" target=\"_top\" title=\"psysml:8a2f941b-3a97-4b54-9145-5eb7e96c5b49\" xlink:actuate=\"onRequest\" xlink:href=\"psysml:8a2f941b-3a97-4b54-9145-5eb7e96c5b49\" xlink:show=\"new\" xlink:title=\"psysml:8a2f941b-3a97-4b54-9145-5eb7e96c5b49\" xlink:type=\"simple\"><polygon fill=\"#FFFFFF\" points=\"556,122.5,572,122.5,579,144.7969,586,144.7969,586,175.0938,556,175.0938,556,122.5\" style=\"stroke: #000000; stroke-width: 1.5;\"/><line style=\"stroke: #000000; stroke-width: 1.5;\" x1=\"556\" x2=\"579\" y1=\"144.7969\" y2=\"144.7969\"/><text fill=\"#000000\" font-family=\"sans-serif\" font-size=\"14\" font-weight=\"bold\" lengthAdjust=\"spacingAndGlyphs\" textLength=\"10\" x=\"560\" y=\"137.4951\">P</text></a><!--MD5=[2720a5a1f2c3fca2055b230370638851]\n",
       "link E2 to E3--><a href=\"psysml:f1219804-170d-45ce-a1b2-74df9d2ed655\" target=\"_top\" title=\"psysml:f1219804-170d-45ce-a1b2-74df9d2ed655\" xlink:actuate=\"onRequest\" xlink:href=\"psysml:f1219804-170d-45ce-a1b2-74df9d2ed655\" xlink:show=\"new\" xlink:title=\"psysml:f1219804-170d-45ce-a1b2-74df9d2ed655\" xlink:type=\"simple\"><path d=\"M95.04,66.68 C113.08,69.09 140.38,72.75 164.59,75.99 \" fill=\"none\" id=\"E2-&gt;E3\" style=\"stroke: #383838; stroke-width: 1.0;\"/><polygon fill=\"#FFFFFF\" points=\"184.75,78.68,164.9917,83.1084,166.8414,69.2311,184.75,78.68\" style=\"stroke: #383838; stroke-width: 1.0;\"/><ellipse cx=\"159.6059\" cy=\"80.3729\" fill=\"#383838\" rx=\"2\" ry=\"2\" style=\"stroke: #383838; stroke-width: 1.0;\"/><ellipse cx=\"160.9271\" cy=\"70.4605\" fill=\"#383838\" rx=\"2\" ry=\"2\" style=\"stroke: #383838; stroke-width: 1.0;\"/></a><!--MD5=[4672eba38e49728da53d11aeb285b987]\n",
       "reverse link E3 to E4--><a href=\"psysml:ebd0a90b-6b0b-4fe7-b689-bf63abb6537b\" target=\"_top\" title=\"psysml:ebd0a90b-6b0b-4fe7-b689-bf63abb6537b\" xlink:actuate=\"onRequest\" xlink:href=\"psysml:ebd0a90b-6b0b-4fe7-b689-bf63abb6537b\" xlink:show=\"new\" xlink:title=\"psysml:ebd0a90b-6b0b-4fe7-b689-bf63abb6537b\" xlink:type=\"simple\"><path d=\"M263.96,90.43 C283.2,93.61 304.69,97.16 319.9,99.68 \" fill=\"none\" id=\"E3&lt;-E4\" style=\"stroke: #383838; stroke-width: 1.0;\"/><polygon fill=\"#383838\" points=\"251.11,88.31,256.3743,93.2382,262.9481,90.2742,257.6838,85.3461,251.11,88.31\" style=\"stroke: #383838; stroke-width: 1.0;\"/></a><!--MD5=[79568f1e445c3877b6a54524624ccc7d]\n",
       "link E4 to E6--><a href=\"psysml:0b7e6d0b-da90-43fd-82ff-3f36fc5229c0\" target=\"_top\" title=\"psysml:0b7e6d0b-da90-43fd-82ff-3f36fc5229c0\" xlink:actuate=\"onRequest\" xlink:href=\"psysml:0b7e6d0b-da90-43fd-82ff-3f36fc5229c0\" xlink:show=\"new\" xlink:title=\"psysml:0b7e6d0b-da90-43fd-82ff-3f36fc5229c0\" xlink:type=\"simple\"><path d=\"M362.2,107.83 C373.59,110.55 388.4,114.09 402.82,117.53 \" fill=\"none\" id=\"E4-&gt;E6\" style=\"stroke: #383838; stroke-width: 1.0;\"/><polygon fill=\"#FFFFFF\" points=\"422.57,122.25,402.4621,124.6316,405.7233,111.0167,422.57,122.25\" style=\"stroke: #383838; stroke-width: 1.0;\"/><ellipse cx=\"397.3848\" cy=\"121.3588\" fill=\"#383838\" rx=\"2\" ry=\"2\" style=\"stroke: #383838; stroke-width: 1.0;\"/><ellipse cx=\"399.7142\" cy=\"111.6339\" fill=\"#383838\" rx=\"2\" ry=\"2\" style=\"stroke: #383838; stroke-width: 1.0;\"/></a><!--MD5=[3f50a3473f1dfb74d3f76443e03635af]\n",
       "reverse link E6 to E7--><a href=\"psysml:8a2f941b-3a97-4b54-9145-5eb7e96c5b49\" target=\"_top\" title=\"psysml:8a2f941b-3a97-4b54-9145-5eb7e96c5b49\" xlink:actuate=\"onRequest\" xlink:href=\"psysml:8a2f941b-3a97-4b54-9145-5eb7e96c5b49\" xlink:show=\"new\" xlink:title=\"psysml:8a2f941b-3a97-4b54-9145-5eb7e96c5b49\" xlink:type=\"simple\"><path d=\"M503.97,137.9 C522.72,141.05 542.91,144.44 555.96,146.64 \" fill=\"none\" id=\"E6&lt;-E7\" style=\"stroke: #383838; stroke-width: 1.0;\"/><ellipse cx=\"496.9695\" cy=\"136.7151\" fill=\"#FFFFFF\" rx=\"8\" ry=\"8\" style=\"stroke: #383838; stroke-width: 1.0;\"/><line style=\"stroke: #383838; stroke-width: 1.0;\" x1=\"504.859\" x2=\"489.08\" y1=\"138.0401\" y2=\"135.39\"/><line style=\"stroke: #383838; stroke-width: 1.0;\" x1=\"495.6444\" x2=\"498.2946\" y1=\"144.6046\" y2=\"128.8256\"/></a><!--MD5=[95fa686b5a16158bcdbcaeead89f639b]\n",
       "link E8 to E3--><a href=\"psysml:edfb0c1d-eeea-43d5-bece-b0bce4203cff\" target=\"_top\" title=\"psysml:edfb0c1d-eeea-43d5-bece-b0bce4203cff\" xlink:actuate=\"onRequest\" xlink:href=\"psysml:edfb0c1d-eeea-43d5-bece-b0bce4203cff\" xlink:show=\"new\" xlink:title=\"psysml:edfb0c1d-eeea-43d5-bece-b0bce4203cff\" xlink:type=\"simple\"><path d=\"M549.84,62.34 C507.25,59.15 405.06,53.25 320,62 C303.77,63.67 286.31,66.81 270.54,70.16 \" fill=\"none\" id=\"E8-&gt;E3\" style=\"stroke: #383838; stroke-width: 1.0;\"/><polygon fill=\"#FFFFFF\" points=\"251.03,74.59,268.0156,63.5678,271.1066,77.2223,251.03,74.59\" style=\"stroke: #383838; stroke-width: 1.0;\"/><ellipse cx=\"274.0165\" cy=\"64.2599\" fill=\"#383838\" rx=\"2\" ry=\"2\" style=\"stroke: #383838; stroke-width: 1.0;\"/><ellipse cx=\"276.2244\" cy=\"74.0132\" fill=\"#383838\" rx=\"2\" ry=\"2\" style=\"stroke: #383838; stroke-width: 1.0;\"/></a><!--MD5=[f4cf0736d43fd73c4ef68817c49d37d5]\n",
       "reverse link E6 to E8--><a href=\"psysml:4e9eccbd-3da0-4f6c-a773-1d808904fdc5\" target=\"_top\" title=\"psysml:4e9eccbd-3da0-4f6c-a773-1d808904fdc5\" xlink:actuate=\"onRequest\" xlink:href=\"psysml:4e9eccbd-3da0-4f6c-a773-1d808904fdc5\" xlink:show=\"new\" xlink:title=\"psysml:4e9eccbd-3da0-4f6c-a773-1d808904fdc5\" xlink:type=\"simple\"><path d=\"M500.52,104.58 C517.54,94.64 536.23,83.72 549.94,75.72 \" fill=\"none\" id=\"E6&lt;-E8\" style=\"stroke: #383838; stroke-width: 1.0;\"/><polygon fill=\"#383838\" points=\"489.08,111.26,496.2784,111.6885,499.4425,105.2086,492.2441,104.7802,489.08,111.26\" style=\"stroke: #383838; stroke-width: 1.0;\"/></a><!--MD5=[8e04057e7b3cbc0dca4fc78ea351e2da]\n",
       "reverse link E10 to E3--><a href=\"psysml:800170d4-464e-4c2e-99b4-fb1d2de59c3f\" target=\"_top\" title=\"psysml:800170d4-464e-4c2e-99b4-fb1d2de59c3f\" xlink:actuate=\"onRequest\" xlink:href=\"psysml:800170d4-464e-4c2e-99b4-fb1d2de59c3f\" xlink:show=\"new\" xlink:title=\"psysml:800170d4-464e-4c2e-99b4-fb1d2de59c3f\" xlink:type=\"simple\"><path d=\"M127.66,131.44 C146.75,121.09 167.75,109.71 184.58,100.58 \" fill=\"none\" id=\"E10&lt;-E3\" style=\"stroke: #383838; stroke-width: 1.0;\"/><polygon fill=\"#FFFFFF\" points=\"116.07,137.73,123.2513,138.3848,126.6178,132.0078,119.4365,131.353,116.07,137.73\" style=\"stroke: #383838; stroke-width: 1.0;\"/><text fill=\"#000000\" font-family=\"sans-serif\" font-size=\"13\" lengthAdjust=\"spacingAndGlyphs\" textLength=\"7\" x=\"147\" y=\"113.0669\">y</text></a><!--MD5=[604cbf994c02b74b117f728a71673cea]\n",
       "reverse link E10 to E6--><a href=\"psysml:800170d4-464e-4c2e-99b4-fb1d2de59c3f\" target=\"_top\" title=\"psysml:800170d4-464e-4c2e-99b4-fb1d2de59c3f\" xlink:actuate=\"onRequest\" xlink:href=\"psysml:800170d4-464e-4c2e-99b4-fb1d2de59c3f\" xlink:show=\"new\" xlink:title=\"psysml:800170d4-464e-4c2e-99b4-fb1d2de59c3f\" xlink:type=\"simple\"><path d=\"M129.62,158.06 C187.43,155.71 281.3,151.02 362,143 C382.28,140.99 404.93,137.84 422.8,135.15 \" fill=\"none\" id=\"E10&lt;-E6\" style=\"stroke: #383838; stroke-width: 1.0;\"/><polygon fill=\"#FFFFFF\" points=\"116.43,158.58,122.5834,162.3397,128.4206,158.1056,122.2672,154.3459,116.43,158.58\" style=\"stroke: #383838; stroke-width: 1.0;\"/><text fill=\"#000000\" font-family=\"sans-serif\" font-size=\"13\" lengthAdjust=\"spacingAndGlyphs\" textLength=\"7\" x=\"282\" y=\"146.0669\">y</text></a><!--MD5=[adc3f2fdc5467124c7c6e8fb53c6e1dd]\n",
       "@startuml\r\n",
       "left to right direction\r\n",
       "skinparam monochrome true\r\n",
       "skinparam classbackgroundcolor white\r\n",
       "skinparam shadowing false\r\n",
       "skinparam wrapWidth 300\r\n",
       "hide circle\r\n",
       "\r\n",
       "package \"BlockTest\" as E1  [[psysml:1f80f8be-3c31-4480-9ece-24461005c64a ]]  {\r\n",
       "comp usage \"f: A\" as E2  <<(T,blue)part>> [[psysml:77ca47e2-95bd-4f5e-baaf-35974d96745c ]] {\r\n",
       "}\r\n",
       "comp def \"A\" as E3  <<(T,blue)part def>> [[psysml:feda5581-6f8c-419d-8ba7-a8a04be8503b ]] {\r\n",
       "- - ports - -\r\n",
       "c: C\r\n",
       "}\r\n",
       "comp usage \"b: B\" as E4  <<(T,blue)part>> [[psysml:ebd0a90b-6b0b-4fe7-b689-bf63abb6537b ]] {\r\n",
       "}\r\n",
       "comp def \"B\" as E6  <<(T,blue)part def>> [[psysml:7287ae62-763a-4b84-8405-f658443750c5 ]] {\r\n",
       "- - ports - -\r\n",
       "x: ~C\r\n",
       "}\r\n",
       "package \"P\" as E7  [[psysml:8a2f941b-3a97-4b54-9145-5eb7e96c5b49 ]]  {\r\n",
       "}\r\n",
       "comp usage \"a: A\" as E8  <<(T,blue)part>> [[psysml:4e9eccbd-3da0-4f6c-a773-1d808904fdc5 ]] {\r\n",
       "}\r\n",
       "comp def \"C\" as E10  <<(T,blue)port def>> [[psysml:8c4f99f3-2675-4f4d-a756-da09d407570d ]] {\r\n",
       "- - references - -\r\n",
       "y: A, B <b>as</b> z2 \r\n",
       "}\r\n",
       "E2 - -:|> E3 [[psysml:f1219804-170d-45ce-a1b2-74df9d2ed655 ]] \r\n",
       "E3 *- - E4 [[psysml:ebd0a90b-6b0b-4fe7-b689-bf63abb6537b ]] \r\n",
       "E4 - -:|> E6 [[psysml:0b7e6d0b-da90-43fd-82ff-3f36fc5229c0 ]] \r\n",
       "E6 +- - E7 [[psysml:8a2f941b-3a97-4b54-9145-5eb7e96c5b49 ]] \r\n",
       "E8 - -:|> E3 [[psysml:edfb0c1d-eeea-43d5-bece-b0bce4203cff ]] \r\n",
       "E6 *- - E8 [[psysml:4e9eccbd-3da0-4f6c-a773-1d808904fdc5 ]] \r\n",
       "E10 o- - E3 [[psysml:800170d4-464e-4c2e-99b4-fb1d2de59c3f ]] : y\r\n",
       "E10 o- - E6 [[psysml:800170d4-464e-4c2e-99b4-fb1d2de59c3f ]] : y\r\n",
       "}\r\n",
       "@enduml\r\n",
       "\n",
       "PlantUML version 1.2020.13(Sat Jun 13 12:26:38 UTC 2020)\n",
       "(EPL source distribution)\n",
       "Java Runtime: OpenJDK Runtime Environment\n",
       "JVM: OpenJDK 64-Bit Server VM\n",
       "Default Encoding: UTF-8\n",
       "Language: en\n",
       "Country: null\n",
       "--></g></svg>"
      ]
     },
     "execution_count": 17,
     "metadata": {},
     "output_type": "execute_result"
    }
   ],
   "source": [
    "%viz --style=\"LR\" --view=\"Tree\" \"BlockTest\""
   ]
  },
  {
   "cell_type": "code",
   "execution_count": 18,
   "id": "tutorial-reality",
   "metadata": {
    "execution": {
     "iopub.execute_input": "2021-03-26T12:07:38.354205Z",
     "iopub.status.busy": "2021-03-26T12:07:38.353808Z",
     "iopub.status.idle": "2021-03-26T12:07:38.355211Z",
     "shell.execute_reply": "2021-03-26T12:07:38.355542Z"
    }
   },
   "outputs": [
    {
     "data": {
      "image/svg+xml": [
       "<?xml version=\"1.0\" encoding=\"UTF-8\" standalone=\"no\"?><svg xmlns=\"http://www.w3.org/2000/svg\" xmlns:xlink=\"http://www.w3.org/1999/xlink\" contentScriptType=\"application/ecmascript\" contentStyleType=\"text/css\" height=\"12px\" preserveAspectRatio=\"none\" style=\"width:12px;height:12px;\" version=\"1.1\" viewBox=\"0 0 12 12\" width=\"12px\" zoomAndPan=\"magnify\"><defs/><g><!--MD5=[19d285c9d72a204eba4e2cd117d745e8]\n",
       "@startuml\r\n",
       "left to right direction\r\n",
       "skinparam monochrome true\r\n",
       "skinparam classbackgroundcolor white\r\n",
       "skinparam shadowing false\r\n",
       "skinparam wrapWidth 300\r\n",
       "hide circle\r\n",
       "\r\n",
       "@enduml\r\n",
       "\n",
       "PlantUML version 1.2020.13(Sat Jun 13 12:26:38 UTC 2020)\n",
       "(EPL source distribution)\n",
       "Java Runtime: OpenJDK Runtime Environment\n",
       "JVM: OpenJDK 64-Bit Server VM\n",
       "Default Encoding: UTF-8\n",
       "Language: en\n",
       "Country: null\n",
       "--></g></svg>"
      ]
     },
     "execution_count": 18,
     "metadata": {},
     "output_type": "execute_result"
    }
   ],
   "source": [
    "%viz --style=\"LR\" --view=\"State\" \"BlockTest\""
   ]
  },
  {
   "cell_type": "code",
   "execution_count": 19,
   "id": "imposed-crazy",
   "metadata": {
    "execution": {
     "iopub.execute_input": "2021-03-26T12:07:38.408924Z",
     "iopub.status.busy": "2021-03-26T12:07:38.408430Z",
     "iopub.status.idle": "2021-03-26T12:07:38.451280Z",
     "shell.execute_reply": "2021-03-26T12:07:38.449664Z"
    }
   },
   "outputs": [
    {
     "data": {
      "image/svg+xml": [
       "<?xml version=\"1.0\" encoding=\"UTF-8\" standalone=\"no\"?><svg xmlns=\"http://www.w3.org/2000/svg\" xmlns:xlink=\"http://www.w3.org/1999/xlink\" contentScriptType=\"application/ecmascript\" contentStyleType=\"text/css\" height=\"432px\" preserveAspectRatio=\"none\" style=\"width:318px;height:432px;\" version=\"1.1\" viewBox=\"0 0 318 432\" width=\"318px\" zoomAndPan=\"magnify\"><defs/><g><!--MD5=[fbc87193dbaf4d95561dea2c320d4a47]\n",
       "cluster E1--><a href=\"psysml:1f80f8be-3c31-4480-9ece-24461005c64a\" target=\"_top\" title=\"psysml:1f80f8be-3c31-4480-9ece-24461005c64a\" xlink:actuate=\"onRequest\" xlink:href=\"psysml:1f80f8be-3c31-4480-9ece-24461005c64a\" xlink:show=\"new\" xlink:title=\"psysml:1f80f8be-3c31-4480-9ece-24461005c64a\" xlink:type=\"simple\"><polygon fill=\"#FFFFFF\" points=\"16,6,99,6,106,28.2969,296,28.2969,296,420,16,420,16,6\" style=\"stroke: #000000; stroke-width: 1.5;\"/><line style=\"stroke: #000000; stroke-width: 1.5;\" x1=\"16\" x2=\"106\" y1=\"28.2969\" y2=\"28.2969\"/><text fill=\"#000000\" font-family=\"sans-serif\" font-size=\"14\" font-weight=\"bold\" lengthAdjust=\"spacingAndGlyphs\" textLength=\"77\" x=\"20\" y=\"20.9951\">BlockTest</text></a><!--MD5=[d5e69f78d87373223dbae638b30a9c99]\n",
       "cluster E3--><a href=\"psysml:feda5581-6f8c-419d-8ba7-a8a04be8503b\" target=\"_top\" title=\"psysml:feda5581-6f8c-419d-8ba7-a8a04be8503b\" xlink:actuate=\"onRequest\" xlink:href=\"psysml:feda5581-6f8c-419d-8ba7-a8a04be8503b\" xlink:show=\"new\" xlink:title=\"psysml:feda5581-6f8c-419d-8ba7-a8a04be8503b\" xlink:type=\"simple\"><rect fill=\"#FFFFFF\" height=\"72\" id=\"E3\" style=\"stroke: #383838; stroke-width: 1.5;\" width=\"212.5\" x=\"67.5\" y=\"41\"/><rect fill=\"#F8F8F8\" height=\"37.9375\" style=\"stroke: #383838; stroke-width: 1.5;\" width=\"212.5\" x=\"67.5\" y=\"41\"/><text fill=\"#000000\" font-family=\"sans-serif\" font-size=\"12\" font-style=\"italic\" lengthAdjust=\"spacingAndGlyphs\" textLength=\"64\" x=\"141.75\" y=\"57.1387\">«part def»</text><text fill=\"#000000\" font-family=\"sans-serif\" font-size=\"12\" lengthAdjust=\"spacingAndGlyphs\" textLength=\"8\" x=\"169.75\" y=\"71.1074\">A</text></a><!--MD5=[14e3b0961a2654348d326746436168a1]\n",
       "cluster E6--><a href=\"psysml:7287ae62-763a-4b84-8405-f658443750c5\" target=\"_top\" title=\"psysml:7287ae62-763a-4b84-8405-f658443750c5\" xlink:actuate=\"onRequest\" xlink:href=\"psysml:7287ae62-763a-4b84-8405-f658443750c5\" xlink:show=\"new\" xlink:title=\"psysml:7287ae62-763a-4b84-8405-f658443750c5\" xlink:type=\"simple\"><rect fill=\"#FFFFFF\" height=\"156\" id=\"E6\" style=\"stroke: #383838; stroke-width: 1.5;\" width=\"212.5\" x=\"67.5\" y=\"121\"/><rect fill=\"#F8F8F8\" height=\"37.9375\" style=\"stroke: #383838; stroke-width: 1.5;\" width=\"212.5\" x=\"67.5\" y=\"121\"/><text fill=\"#000000\" font-family=\"sans-serif\" font-size=\"12\" font-style=\"italic\" lengthAdjust=\"spacingAndGlyphs\" textLength=\"64\" x=\"141.75\" y=\"137.1387\">«part def»</text><text fill=\"#000000\" font-family=\"sans-serif\" font-size=\"12\" lengthAdjust=\"spacingAndGlyphs\" textLength=\"8\" x=\"169.75\" y=\"151.1074\">B</text></a><g id=\"E1.E10\"><a href=\"psysml:8c4f99f3-2675-4f4d-a756-da09d407570d\" target=\"_top\" title=\"psysml:8c4f99f3-2675-4f4d-a756-da09d407570d\" xlink:actuate=\"onRequest\" xlink:href=\"psysml:8c4f99f3-2675-4f4d-a756-da09d407570d\" xlink:show=\"new\" xlink:title=\"psysml:8c4f99f3-2675-4f4d-a756-da09d407570d\" xlink:type=\"simple\"><rect fill=\"#FFFFFF\" height=\"42.9375\" id=\"E10\" style=\"stroke: #383838; stroke-width: 1.5;\" width=\"71\" x=\"32\" y=\"285.5\"/><rect fill=\"#F8F8F8\" height=\"37.9375\" style=\"stroke: #383838; stroke-width: 1.5;\" width=\"71\" x=\"32\" y=\"285.5\"/><text fill=\"#000000\" font-family=\"sans-serif\" font-size=\"12\" font-style=\"italic\" lengthAdjust=\"spacingAndGlyphs\" textLength=\"64\" x=\"35.5\" y=\"301.6387\">«port def»</text><text fill=\"#000000\" font-family=\"sans-serif\" font-size=\"12\" lengthAdjust=\"spacingAndGlyphs\" textLength=\"8\" x=\"63.5\" y=\"315.6074\">C</text></a></g><g id=\"E1.E2\"><a href=\"psysml:77ca47e2-95bd-4f5e-baaf-35974d96745c\" target=\"_top\" title=\"psysml:77ca47e2-95bd-4f5e-baaf-35974d96745c\" xlink:actuate=\"onRequest\" xlink:href=\"psysml:77ca47e2-95bd-4f5e-baaf-35974d96745c\" xlink:show=\"new\" xlink:title=\"psysml:77ca47e2-95bd-4f5e-baaf-35974d96745c\" xlink:type=\"simple\"><rect fill=\"#FFFFFF\" height=\"40\" id=\"E2\" rx=\"10\" ry=\"10\" style=\"stroke: #383838; stroke-width: 1.5;\" width=\"50\" x=\"42.5\" y=\"364\"/><rect fill=\"#F8F8F8\" height=\"23.9688\" rx=\"10\" ry=\"10\" style=\"stroke: #F8F8F8; stroke-width: 1.5;\" width=\"50\" x=\"42.5\" y=\"364\"/><rect fill=\"#F8F8F8\" height=\"10\" style=\"stroke: #F8F8F8; stroke-width: 1.5;\" width=\"50\" x=\"42.5\" y=\"377.9688\"/><rect fill=\"none\" height=\"40\" id=\"E2\" rx=\"10\" ry=\"10\" style=\"stroke: #383838; stroke-width: 1.5;\" width=\"50\" x=\"42.5\" y=\"364\"/><text fill=\"#000000\" font-family=\"sans-serif\" font-size=\"12\" lengthAdjust=\"spacingAndGlyphs\" textLength=\"20\" x=\"57.5\" y=\"380.1387\">f: A</text></a></g><text fill=\"#000000\" font-family=\"sans-serif\" font-size=\"14\" lengthAdjust=\"spacingAndGlyphs\" textLength=\"27\" x=\"54\" y=\"55.6982\">c: C</text><rect fill=\"#383838\" height=\"12\" style=\"stroke: #F8F8F8; stroke-width: 1.5;\" width=\"12\" x=\"61.5\" y=\"71\"/><g id=\"E1.E3.E4\"><a href=\"psysml:ebd0a90b-6b0b-4fe7-b689-bf63abb6537b\" target=\"_top\" title=\"psysml:ebd0a90b-6b0b-4fe7-b689-bf63abb6537b\" xlink:actuate=\"onRequest\" xlink:href=\"psysml:ebd0a90b-6b0b-4fe7-b689-bf63abb6537b\" xlink:show=\"new\" xlink:title=\"psysml:ebd0a90b-6b0b-4fe7-b689-bf63abb6537b\" xlink:type=\"simple\"><rect fill=\"#FFFFFF\" height=\"40\" id=\"E4\" rx=\"10\" ry=\"10\" style=\"stroke: #383838; stroke-width: 1.5;\" width=\"50\" x=\"214\" y=\"57\"/><rect fill=\"#F8F8F8\" height=\"23.9688\" rx=\"10\" ry=\"10\" style=\"stroke: #F8F8F8; stroke-width: 1.5;\" width=\"50\" x=\"214\" y=\"57\"/><rect fill=\"#F8F8F8\" height=\"10\" style=\"stroke: #F8F8F8; stroke-width: 1.5;\" width=\"50\" x=\"214\" y=\"70.9688\"/><rect fill=\"none\" height=\"40\" id=\"E4\" rx=\"10\" ry=\"10\" style=\"stroke: #383838; stroke-width: 1.5;\" width=\"50\" x=\"214\" y=\"57\"/><text fill=\"#000000\" font-family=\"sans-serif\" font-size=\"12\" lengthAdjust=\"spacingAndGlyphs\" textLength=\"24\" x=\"227\" y=\"73.1387\">b: B</text></a></g><text fill=\"#000000\" font-family=\"sans-serif\" font-size=\"14\" lengthAdjust=\"spacingAndGlyphs\" textLength=\"38\" x=\"48.5\" y=\"133.6982\">x: ~C</text><rect fill=\"#383838\" height=\"12\" style=\"stroke: #F8F8F8; stroke-width: 1.5;\" width=\"12\" x=\"61.5\" y=\"149\"/><a href=\"psysml:8a2f941b-3a97-4b54-9145-5eb7e96c5b49\" target=\"_top\" title=\"psysml:8a2f941b-3a97-4b54-9145-5eb7e96c5b49\" xlink:actuate=\"onRequest\" xlink:href=\"psysml:8a2f941b-3a97-4b54-9145-5eb7e96c5b49\" xlink:show=\"new\" xlink:title=\"psysml:8a2f941b-3a97-4b54-9145-5eb7e96c5b49\" xlink:type=\"simple\"><polygon fill=\"#FFFFFF\" points=\"147.5,207.5,163.5,207.5,170.5,229.7969,177.5,229.7969,177.5,260.0938,147.5,260.0938,147.5,207.5\" style=\"stroke: #000000; stroke-width: 1.5;\"/><line style=\"stroke: #000000; stroke-width: 1.5;\" x1=\"147.5\" x2=\"170.5\" y1=\"229.7969\" y2=\"229.7969\"/><text fill=\"#000000\" font-family=\"sans-serif\" font-size=\"14\" font-weight=\"bold\" lengthAdjust=\"spacingAndGlyphs\" textLength=\"10\" x=\"151.5\" y=\"222.4951\">P</text></a><g id=\"E1.E6.E8\"><a href=\"psysml:4e9eccbd-3da0-4f6c-a773-1d808904fdc5\" target=\"_top\" title=\"psysml:4e9eccbd-3da0-4f6c-a773-1d808904fdc5\" xlink:actuate=\"onRequest\" xlink:href=\"psysml:4e9eccbd-3da0-4f6c-a773-1d808904fdc5\" xlink:show=\"new\" xlink:title=\"psysml:4e9eccbd-3da0-4f6c-a773-1d808904fdc5\" xlink:type=\"simple\"><rect fill=\"#FFFFFF\" height=\"40\" id=\"E8\" rx=\"10\" ry=\"10\" style=\"stroke: #383838; stroke-width: 1.5;\" width=\"50\" x=\"214\" y=\"137\"/><rect fill=\"#F8F8F8\" height=\"23.9688\" rx=\"10\" ry=\"10\" style=\"stroke: #F8F8F8; stroke-width: 1.5;\" width=\"50\" x=\"214\" y=\"137\"/><rect fill=\"#F8F8F8\" height=\"10\" style=\"stroke: #F8F8F8; stroke-width: 1.5;\" width=\"50\" x=\"214\" y=\"150.9688\"/><rect fill=\"none\" height=\"40\" id=\"E8\" rx=\"10\" ry=\"10\" style=\"stroke: #383838; stroke-width: 1.5;\" width=\"50\" x=\"214\" y=\"137\"/><text fill=\"#000000\" font-family=\"sans-serif\" font-size=\"12\" lengthAdjust=\"spacingAndGlyphs\" textLength=\"24\" x=\"227\" y=\"153.1387\">a: A</text></a></g><!--MD5=[bf464fa18fcb2a98ea6d2c641b5e16a2]\n",
       "@startuml\r\n",
       "skinparam ranksep 8\r\n",
       "skinparam rectangle {\r\n",
       " backgroundColor<<block>> LightGreen\r\n",
       "}\r\n",
       "left to right direction\r\n",
       "skinparam monochrome true\r\n",
       "skinparam classbackgroundcolor white\r\n",
       "skinparam shadowing false\r\n",
       "skinparam wrapWidth 300\r\n",
       "hide circle\r\n",
       "\r\n",
       "package \"BlockTest\" as E1  [[psysml:1f80f8be-3c31-4480-9ece-24461005c64a ]]  {\r\n",
       "rec usage \"f: A\" as E2  [[psysml:77ca47e2-95bd-4f5e-baaf-35974d96745c ]] {\r\n",
       "}\r\n",
       "rec def \"A\" as E3  <<(T,blue)part def>> [[psysml:feda5581-6f8c-419d-8ba7-a8a04be8503b ]] {\r\n",
       "rec usage \"b: B\" as E4  [[psysml:ebd0a90b-6b0b-4fe7-b689-bf63abb6537b ]] {\r\n",
       "}\r\n",
       "portin \"c: C\" as E5  <<(T,blue)port>> [[psysml:32f6582c-cfe7-4be0-a097-86306546e345 ]] \r\n",
       "}\r\n",
       "rec def \"B\" as E6  <<(T,blue)part def>> [[psysml:7287ae62-763a-4b84-8405-f658443750c5 ]] {\r\n",
       "package \"P\" as E7  [[psysml:8a2f941b-3a97-4b54-9145-5eb7e96c5b49 ]]  {\r\n",
       "}\r\n",
       "rec usage \"a: A\" as E8  [[psysml:4e9eccbd-3da0-4f6c-a773-1d808904fdc5 ]] {\r\n",
       "}\r\n",
       "portin \"x: ~C\" as E9  <<(T,blue)port>> [[psysml:8030edf4-ee82-408b-9211-cce203dbe0d1 ]] \r\n",
       "}\r\n",
       "def \"C\" as E10  <<(T,blue)port def>> [[psysml:8c4f99f3-2675-4f4d-a756-da09d407570d ]] \r\n",
       "}\r\n",
       "@enduml\r\n",
       "\n",
       "PlantUML version 1.2020.13(Sat Jun 13 12:26:38 UTC 2020)\n",
       "(EPL source distribution)\n",
       "Java Runtime: OpenJDK Runtime Environment\n",
       "JVM: OpenJDK 64-Bit Server VM\n",
       "Default Encoding: UTF-8\n",
       "Language: en\n",
       "Country: null\n",
       "--></g></svg>"
      ]
     },
     "execution_count": 19,
     "metadata": {},
     "output_type": "execute_result"
    }
   ],
   "source": [
    "%viz --style=\"LR\" --view=\"Interconnection\" \"BlockTest\""
   ]
  },
  {
   "cell_type": "code",
   "execution_count": 20,
   "id": "inclusive-repository",
   "metadata": {
    "execution": {
     "iopub.execute_input": "2021-03-26T12:07:38.503246Z",
     "iopub.status.busy": "2021-03-26T12:07:38.502506Z",
     "iopub.status.idle": "2021-03-26T12:07:38.510486Z",
     "shell.execute_reply": "2021-03-26T12:07:38.510129Z"
    }
   },
   "outputs": [
    {
     "data": {
      "image/svg+xml": [
       "<?xml version=\"1.0\" encoding=\"UTF-8\" standalone=\"no\"?><svg xmlns=\"http://www.w3.org/2000/svg\" xmlns:xlink=\"http://www.w3.org/1999/xlink\" contentScriptType=\"application/ecmascript\" contentStyleType=\"text/css\" height=\"12px\" preserveAspectRatio=\"none\" style=\"width:12px;height:12px;\" version=\"1.1\" viewBox=\"0 0 12 12\" width=\"12px\" zoomAndPan=\"magnify\"><defs/><g><!--MD5=[7aeb398939421629f6affaa4a1a7b125]\n",
       "@startuml\r\n",
       "skinparam ranksep 8\r\n",
       "left to right direction\r\n",
       "skinparam monochrome true\r\n",
       "skinparam classbackgroundcolor white\r\n",
       "skinparam shadowing false\r\n",
       "skinparam wrapWidth 300\r\n",
       "hide circle\r\n",
       "\r\n",
       "@enduml\r\n",
       "\n",
       "PlantUML version 1.2020.13(Sat Jun 13 12:26:38 UTC 2020)\n",
       "(EPL source distribution)\n",
       "Java Runtime: OpenJDK Runtime Environment\n",
       "JVM: OpenJDK 64-Bit Server VM\n",
       "Default Encoding: UTF-8\n",
       "Language: en\n",
       "Country: null\n",
       "--></g></svg>"
      ]
     },
     "execution_count": 20,
     "metadata": {},
     "output_type": "execute_result"
    }
   ],
   "source": [
    "%viz --style=\"LR\" --view=\"Action\" \"BlockTest\""
   ]
  },
  {
   "cell_type": "code",
   "execution_count": 21,
   "id": "prime-gateway",
   "metadata": {
    "execution": {
     "iopub.execute_input": "2021-03-26T12:07:38.564345Z",
     "iopub.status.busy": "2021-03-26T12:07:38.563752Z",
     "iopub.status.idle": "2021-03-26T12:07:38.629442Z",
     "shell.execute_reply": "2021-03-26T12:07:38.627980Z"
    }
   },
   "outputs": [
    {
     "data": {
      "image/svg+xml": [
       "<?xml version=\"1.0\" encoding=\"UTF-8\" standalone=\"no\"?><svg xmlns=\"http://www.w3.org/2000/svg\" xmlns:xlink=\"http://www.w3.org/1999/xlink\" contentScriptType=\"application/ecmascript\" contentStyleType=\"text/css\" height=\"226px\" preserveAspectRatio=\"none\" style=\"width:630px;height:226px;\" version=\"1.1\" viewBox=\"0 0 630 226\" width=\"630px\" zoomAndPan=\"magnify\"><defs/><g><!--MD5=[fbc87193dbaf4d95561dea2c320d4a47]\n",
       "cluster E1--><a href=\"psysml:1f80f8be-3c31-4480-9ece-24461005c64a\" target=\"_top\" title=\"psysml:1f80f8be-3c31-4480-9ece-24461005c64a\" xlink:actuate=\"onRequest\" xlink:href=\"psysml:1f80f8be-3c31-4480-9ece-24461005c64a\" xlink:show=\"new\" xlink:title=\"psysml:1f80f8be-3c31-4480-9ece-24461005c64a\" xlink:type=\"simple\"><polygon fill=\"#FFFFFF\" points=\"16,6,99,6,106,28.2969,608,28.2969,608,214,16,214,16,6\" style=\"stroke: #000000; stroke-width: 1.5;\"/><line style=\"stroke: #000000; stroke-width: 1.5;\" x1=\"16\" x2=\"106\" y1=\"28.2969\" y2=\"28.2969\"/><text fill=\"#000000\" font-family=\"sans-serif\" font-size=\"14\" font-weight=\"bold\" lengthAdjust=\"spacingAndGlyphs\" textLength=\"77\" x=\"20\" y=\"20.9951\">BlockTest</text></a><!--MD5=[b4997ac47864f28c2f74865a473b2911]\n",
       "class E2--><a href=\"psysml:77ca47e2-95bd-4f5e-baaf-35974d96745c\" target=\"_top\" title=\"psysml:77ca47e2-95bd-4f5e-baaf-35974d96745c\" xlink:actuate=\"onRequest\" xlink:href=\"psysml:77ca47e2-95bd-4f5e-baaf-35974d96745c\" xlink:show=\"new\" xlink:title=\"psysml:77ca47e2-95bd-4f5e-baaf-35974d96745c\" xlink:type=\"simple\"><rect fill=\"#FFFFFF\" height=\"45.9375\" id=\"E2\" rx=\"10\" ry=\"10\" style=\"stroke: #383838; stroke-width: 1.5;\" width=\"42\" x=\"53\" y=\"41\"/><text fill=\"#000000\" font-family=\"sans-serif\" font-size=\"12\" font-style=\"italic\" lengthAdjust=\"spacingAndGlyphs\" textLength=\"40\" x=\"54\" y=\"57.1387\">«part»</text><text fill=\"#000000\" font-family=\"sans-serif\" font-size=\"12\" lengthAdjust=\"spacingAndGlyphs\" textLength=\"20\" x=\"64\" y=\"71.1074\">f: A</text><line style=\"stroke: #383838; stroke-width: 1.5;\" x1=\"54\" x2=\"94\" y1=\"78.9375\" y2=\"78.9375\"/></a><!--MD5=[09b614a08d8cba4a07c9adeb5e0fee81]\n",
       "class E3--><a href=\"psysml:feda5581-6f8c-419d-8ba7-a8a04be8503b\" target=\"_top\" title=\"psysml:feda5581-6f8c-419d-8ba7-a8a04be8503b\" xlink:actuate=\"onRequest\" xlink:href=\"psysml:feda5581-6f8c-419d-8ba7-a8a04be8503b\" xlink:show=\"new\" xlink:title=\"psysml:feda5581-6f8c-419d-8ba7-a8a04be8503b\" xlink:type=\"simple\"><rect fill=\"#FFFFFF\" height=\"75.5469\" id=\"E3\" style=\"stroke: #383838; stroke-width: 1.5;\" width=\"66\" x=\"185\" y=\"45\"/><text fill=\"#000000\" font-family=\"sans-serif\" font-size=\"12\" font-style=\"italic\" lengthAdjust=\"spacingAndGlyphs\" textLength=\"64\" x=\"186\" y=\"61.1387\">«part def»</text><text fill=\"#000000\" font-family=\"sans-serif\" font-size=\"12\" lengthAdjust=\"spacingAndGlyphs\" textLength=\"8\" x=\"214\" y=\"75.1074\">A</text><line style=\"stroke: #383838; stroke-width: 1.5;\" x1=\"186\" x2=\"250\" y1=\"82.9375\" y2=\"82.9375\"/><text fill=\"#000000\" font-family=\"sans-serif\" font-size=\"11\" lengthAdjust=\"spacingAndGlyphs\" textLength=\"22\" x=\"191\" y=\"113.9526\">c: C</text><line style=\"stroke: #383838; stroke-width: 1.0;\" x1=\"186\" x2=\"203\" y1=\"97.3398\" y2=\"97.3398\"/><text fill=\"#000000\" font-family=\"sans-serif\" font-size=\"11\" lengthAdjust=\"spacingAndGlyphs\" textLength=\"30\" x=\"203\" y=\"100.6479\">ports</text><line style=\"stroke: #383838; stroke-width: 1.0;\" x1=\"233\" x2=\"250\" y1=\"97.3398\" y2=\"97.3398\"/></a><!--MD5=[ebbe1d658d1005bcc118a6aa81145e00]\n",
       "class E4--><a href=\"psysml:ebd0a90b-6b0b-4fe7-b689-bf63abb6537b\" target=\"_top\" title=\"psysml:ebd0a90b-6b0b-4fe7-b689-bf63abb6537b\" xlink:actuate=\"onRequest\" xlink:href=\"psysml:ebd0a90b-6b0b-4fe7-b689-bf63abb6537b\" xlink:show=\"new\" xlink:title=\"psysml:ebd0a90b-6b0b-4fe7-b689-bf63abb6537b\" xlink:type=\"simple\"><rect fill=\"#FFFFFF\" height=\"45.9375\" id=\"E4\" rx=\"10\" ry=\"10\" style=\"stroke: #383838; stroke-width: 1.5;\" width=\"42\" x=\"320\" y=\"80\"/><text fill=\"#000000\" font-family=\"sans-serif\" font-size=\"12\" font-style=\"italic\" lengthAdjust=\"spacingAndGlyphs\" textLength=\"40\" x=\"321\" y=\"96.1387\">«part»</text><text fill=\"#000000\" font-family=\"sans-serif\" font-size=\"12\" lengthAdjust=\"spacingAndGlyphs\" textLength=\"24\" x=\"329\" y=\"110.1074\">b: B</text><line style=\"stroke: #383838; stroke-width: 1.5;\" x1=\"321\" x2=\"361\" y1=\"117.9375\" y2=\"117.9375\"/></a><!--MD5=[60a26617385b1d2d0262a64233df1f8d]\n",
       "class E6--><a href=\"psysml:7287ae62-763a-4b84-8405-f658443750c5\" target=\"_top\" title=\"psysml:7287ae62-763a-4b84-8405-f658443750c5\" xlink:actuate=\"onRequest\" xlink:href=\"psysml:7287ae62-763a-4b84-8405-f658443750c5\" xlink:show=\"new\" xlink:title=\"psysml:7287ae62-763a-4b84-8405-f658443750c5\" xlink:type=\"simple\"><rect fill=\"#FFFFFF\" height=\"75.5469\" id=\"E6\" style=\"stroke: #383838; stroke-width: 1.5;\" width=\"66\" x=\"423\" y=\"92\"/><text fill=\"#000000\" font-family=\"sans-serif\" font-size=\"12\" font-style=\"italic\" lengthAdjust=\"spacingAndGlyphs\" textLength=\"64\" x=\"424\" y=\"108.1387\">«part def»</text><text fill=\"#000000\" font-family=\"sans-serif\" font-size=\"12\" lengthAdjust=\"spacingAndGlyphs\" textLength=\"8\" x=\"452\" y=\"122.1074\">B</text><line style=\"stroke: #383838; stroke-width: 1.5;\" x1=\"424\" x2=\"488\" y1=\"129.9375\" y2=\"129.9375\"/><text fill=\"#000000\" font-family=\"sans-serif\" font-size=\"11\" lengthAdjust=\"spacingAndGlyphs\" textLength=\"31\" x=\"429\" y=\"160.9526\">x: ~C</text><line style=\"stroke: #383838; stroke-width: 1.0;\" x1=\"424\" x2=\"441\" y1=\"144.3398\" y2=\"144.3398\"/><text fill=\"#000000\" font-family=\"sans-serif\" font-size=\"11\" lengthAdjust=\"spacingAndGlyphs\" textLength=\"30\" x=\"441\" y=\"147.6479\">ports</text><line style=\"stroke: #383838; stroke-width: 1.0;\" x1=\"471\" x2=\"488\" y1=\"144.3398\" y2=\"144.3398\"/></a><!--MD5=[b9389687b975829384b498ac4b7476b2]\n",
       "class E8--><a href=\"psysml:4e9eccbd-3da0-4f6c-a773-1d808904fdc5\" target=\"_top\" title=\"psysml:4e9eccbd-3da0-4f6c-a773-1d808904fdc5\" xlink:actuate=\"onRequest\" xlink:href=\"psysml:4e9eccbd-3da0-4f6c-a773-1d808904fdc5\" xlink:show=\"new\" xlink:title=\"psysml:4e9eccbd-3da0-4f6c-a773-1d808904fdc5\" xlink:type=\"simple\"><rect fill=\"#FFFFFF\" height=\"45.9375\" id=\"E8\" rx=\"10\" ry=\"10\" style=\"stroke: #383838; stroke-width: 1.5;\" width=\"42\" x=\"550\" y=\"41\"/><text fill=\"#000000\" font-family=\"sans-serif\" font-size=\"12\" font-style=\"italic\" lengthAdjust=\"spacingAndGlyphs\" textLength=\"40\" x=\"551\" y=\"57.1387\">«part»</text><text fill=\"#000000\" font-family=\"sans-serif\" font-size=\"12\" lengthAdjust=\"spacingAndGlyphs\" textLength=\"24\" x=\"559\" y=\"71.1074\">a: A</text><line style=\"stroke: #383838; stroke-width: 1.5;\" x1=\"551\" x2=\"591\" y1=\"78.9375\" y2=\"78.9375\"/></a><!--MD5=[96f4274e9e20536e775497830990834d]\n",
       "class E10--><a href=\"psysml:8c4f99f3-2675-4f4d-a756-da09d407570d\" target=\"_top\" title=\"psysml:8c4f99f3-2675-4f4d-a756-da09d407570d\" xlink:actuate=\"onRequest\" xlink:href=\"psysml:8c4f99f3-2675-4f4d-a756-da09d407570d\" xlink:show=\"new\" xlink:title=\"psysml:8c4f99f3-2675-4f4d-a756-da09d407570d\" xlink:type=\"simple\"><rect fill=\"#FFFFFF\" height=\"75.5469\" id=\"E10\" style=\"stroke: #383838; stroke-width: 1.5;\" width=\"84\" x=\"32\" y=\"122\"/><text fill=\"#000000\" font-family=\"sans-serif\" font-size=\"12\" font-style=\"italic\" lengthAdjust=\"spacingAndGlyphs\" textLength=\"64\" x=\"42\" y=\"138.1387\">«port def»</text><text fill=\"#000000\" font-family=\"sans-serif\" font-size=\"12\" lengthAdjust=\"spacingAndGlyphs\" textLength=\"8\" x=\"70\" y=\"152.1074\">C</text><line style=\"stroke: #383838; stroke-width: 1.5;\" x1=\"33\" x2=\"115\" y1=\"159.9375\" y2=\"159.9375\"/><text fill=\"#000000\" font-family=\"sans-serif\" font-size=\"11\" lengthAdjust=\"spacingAndGlyphs\" textLength=\"37\" x=\"38\" y=\"190.9526\">y: A, B</text><text fill=\"#000000\" font-family=\"sans-serif\" font-size=\"11\" font-weight=\"bold\" lengthAdjust=\"spacingAndGlyphs\" textLength=\"15\" x=\"79\" y=\"190.9526\">as</text><text fill=\"#000000\" font-family=\"sans-serif\" font-size=\"11\" lengthAdjust=\"spacingAndGlyphs\" textLength=\"12\" x=\"98\" y=\"190.9526\">z2</text><line style=\"stroke: #383838; stroke-width: 1.0;\" x1=\"33\" x2=\"43\" y1=\"174.3398\" y2=\"174.3398\"/><text fill=\"#000000\" font-family=\"sans-serif\" font-size=\"11\" lengthAdjust=\"spacingAndGlyphs\" textLength=\"62\" x=\"43\" y=\"177.6479\">references</text><line style=\"stroke: #383838; stroke-width: 1.0;\" x1=\"105\" x2=\"115\" y1=\"174.3398\" y2=\"174.3398\"/></a><a href=\"psysml:8a2f941b-3a97-4b54-9145-5eb7e96c5b49\" target=\"_top\" title=\"psysml:8a2f941b-3a97-4b54-9145-5eb7e96c5b49\" xlink:actuate=\"onRequest\" xlink:href=\"psysml:8a2f941b-3a97-4b54-9145-5eb7e96c5b49\" xlink:show=\"new\" xlink:title=\"psysml:8a2f941b-3a97-4b54-9145-5eb7e96c5b49\" xlink:type=\"simple\"><polygon fill=\"#FFFFFF\" points=\"556,122.5,572,122.5,579,144.7969,586,144.7969,586,175.0938,556,175.0938,556,122.5\" style=\"stroke: #000000; stroke-width: 1.5;\"/><line style=\"stroke: #000000; stroke-width: 1.5;\" x1=\"556\" x2=\"579\" y1=\"144.7969\" y2=\"144.7969\"/><text fill=\"#000000\" font-family=\"sans-serif\" font-size=\"14\" font-weight=\"bold\" lengthAdjust=\"spacingAndGlyphs\" textLength=\"10\" x=\"560\" y=\"137.4951\">P</text></a><!--MD5=[2720a5a1f2c3fca2055b230370638851]\n",
       "link E2 to E3--><a href=\"psysml:f1219804-170d-45ce-a1b2-74df9d2ed655\" target=\"_top\" title=\"psysml:f1219804-170d-45ce-a1b2-74df9d2ed655\" xlink:actuate=\"onRequest\" xlink:href=\"psysml:f1219804-170d-45ce-a1b2-74df9d2ed655\" xlink:show=\"new\" xlink:title=\"psysml:f1219804-170d-45ce-a1b2-74df9d2ed655\" xlink:type=\"simple\"><path d=\"M95.04,66.68 C113.08,69.09 140.38,72.75 164.59,75.99 \" fill=\"none\" id=\"E2-&gt;E3\" style=\"stroke: #383838; stroke-width: 1.0;\"/><polygon fill=\"#FFFFFF\" points=\"184.75,78.68,164.9917,83.1084,166.8414,69.2311,184.75,78.68\" style=\"stroke: #383838; stroke-width: 1.0;\"/><ellipse cx=\"159.6059\" cy=\"80.3729\" fill=\"#383838\" rx=\"2\" ry=\"2\" style=\"stroke: #383838; stroke-width: 1.0;\"/><ellipse cx=\"160.9271\" cy=\"70.4605\" fill=\"#383838\" rx=\"2\" ry=\"2\" style=\"stroke: #383838; stroke-width: 1.0;\"/></a><!--MD5=[4672eba38e49728da53d11aeb285b987]\n",
       "reverse link E3 to E4--><a href=\"psysml:ebd0a90b-6b0b-4fe7-b689-bf63abb6537b\" target=\"_top\" title=\"psysml:ebd0a90b-6b0b-4fe7-b689-bf63abb6537b\" xlink:actuate=\"onRequest\" xlink:href=\"psysml:ebd0a90b-6b0b-4fe7-b689-bf63abb6537b\" xlink:show=\"new\" xlink:title=\"psysml:ebd0a90b-6b0b-4fe7-b689-bf63abb6537b\" xlink:type=\"simple\"><path d=\"M263.96,90.43 C283.2,93.61 304.69,97.16 319.9,99.68 \" fill=\"none\" id=\"E3&lt;-E4\" style=\"stroke: #383838; stroke-width: 1.0;\"/><polygon fill=\"#383838\" points=\"251.11,88.31,256.3743,93.2382,262.9481,90.2742,257.6838,85.3461,251.11,88.31\" style=\"stroke: #383838; stroke-width: 1.0;\"/></a><!--MD5=[79568f1e445c3877b6a54524624ccc7d]\n",
       "link E4 to E6--><a href=\"psysml:0b7e6d0b-da90-43fd-82ff-3f36fc5229c0\" target=\"_top\" title=\"psysml:0b7e6d0b-da90-43fd-82ff-3f36fc5229c0\" xlink:actuate=\"onRequest\" xlink:href=\"psysml:0b7e6d0b-da90-43fd-82ff-3f36fc5229c0\" xlink:show=\"new\" xlink:title=\"psysml:0b7e6d0b-da90-43fd-82ff-3f36fc5229c0\" xlink:type=\"simple\"><path d=\"M362.2,107.83 C373.59,110.55 388.4,114.09 402.82,117.53 \" fill=\"none\" id=\"E4-&gt;E6\" style=\"stroke: #383838; stroke-width: 1.0;\"/><polygon fill=\"#FFFFFF\" points=\"422.57,122.25,402.4621,124.6316,405.7233,111.0167,422.57,122.25\" style=\"stroke: #383838; stroke-width: 1.0;\"/><ellipse cx=\"397.3848\" cy=\"121.3588\" fill=\"#383838\" rx=\"2\" ry=\"2\" style=\"stroke: #383838; stroke-width: 1.0;\"/><ellipse cx=\"399.7142\" cy=\"111.6339\" fill=\"#383838\" rx=\"2\" ry=\"2\" style=\"stroke: #383838; stroke-width: 1.0;\"/></a><!--MD5=[3f50a3473f1dfb74d3f76443e03635af]\n",
       "reverse link E6 to E7--><a href=\"psysml:8a2f941b-3a97-4b54-9145-5eb7e96c5b49\" target=\"_top\" title=\"psysml:8a2f941b-3a97-4b54-9145-5eb7e96c5b49\" xlink:actuate=\"onRequest\" xlink:href=\"psysml:8a2f941b-3a97-4b54-9145-5eb7e96c5b49\" xlink:show=\"new\" xlink:title=\"psysml:8a2f941b-3a97-4b54-9145-5eb7e96c5b49\" xlink:type=\"simple\"><path d=\"M503.97,137.9 C522.72,141.05 542.91,144.44 555.96,146.64 \" fill=\"none\" id=\"E6&lt;-E7\" style=\"stroke: #383838; stroke-width: 1.0;\"/><ellipse cx=\"496.9695\" cy=\"136.7151\" fill=\"#FFFFFF\" rx=\"8\" ry=\"8\" style=\"stroke: #383838; stroke-width: 1.0;\"/><line style=\"stroke: #383838; stroke-width: 1.0;\" x1=\"504.859\" x2=\"489.08\" y1=\"138.0401\" y2=\"135.39\"/><line style=\"stroke: #383838; stroke-width: 1.0;\" x1=\"495.6444\" x2=\"498.2946\" y1=\"144.6046\" y2=\"128.8256\"/></a><!--MD5=[95fa686b5a16158bcdbcaeead89f639b]\n",
       "link E8 to E3--><a href=\"psysml:edfb0c1d-eeea-43d5-bece-b0bce4203cff\" target=\"_top\" title=\"psysml:edfb0c1d-eeea-43d5-bece-b0bce4203cff\" xlink:actuate=\"onRequest\" xlink:href=\"psysml:edfb0c1d-eeea-43d5-bece-b0bce4203cff\" xlink:show=\"new\" xlink:title=\"psysml:edfb0c1d-eeea-43d5-bece-b0bce4203cff\" xlink:type=\"simple\"><path d=\"M549.84,62.34 C507.25,59.15 405.06,53.25 320,62 C303.77,63.67 286.31,66.81 270.54,70.16 \" fill=\"none\" id=\"E8-&gt;E3\" style=\"stroke: #383838; stroke-width: 1.0;\"/><polygon fill=\"#FFFFFF\" points=\"251.03,74.59,268.0156,63.5678,271.1066,77.2223,251.03,74.59\" style=\"stroke: #383838; stroke-width: 1.0;\"/><ellipse cx=\"274.0165\" cy=\"64.2599\" fill=\"#383838\" rx=\"2\" ry=\"2\" style=\"stroke: #383838; stroke-width: 1.0;\"/><ellipse cx=\"276.2244\" cy=\"74.0132\" fill=\"#383838\" rx=\"2\" ry=\"2\" style=\"stroke: #383838; stroke-width: 1.0;\"/></a><!--MD5=[f4cf0736d43fd73c4ef68817c49d37d5]\n",
       "reverse link E6 to E8--><a href=\"psysml:4e9eccbd-3da0-4f6c-a773-1d808904fdc5\" target=\"_top\" title=\"psysml:4e9eccbd-3da0-4f6c-a773-1d808904fdc5\" xlink:actuate=\"onRequest\" xlink:href=\"psysml:4e9eccbd-3da0-4f6c-a773-1d808904fdc5\" xlink:show=\"new\" xlink:title=\"psysml:4e9eccbd-3da0-4f6c-a773-1d808904fdc5\" xlink:type=\"simple\"><path d=\"M500.52,104.58 C517.54,94.64 536.23,83.72 549.94,75.72 \" fill=\"none\" id=\"E6&lt;-E8\" style=\"stroke: #383838; stroke-width: 1.0;\"/><polygon fill=\"#383838\" points=\"489.08,111.26,496.2784,111.6885,499.4425,105.2086,492.2441,104.7802,489.08,111.26\" style=\"stroke: #383838; stroke-width: 1.0;\"/></a><!--MD5=[8e04057e7b3cbc0dca4fc78ea351e2da]\n",
       "reverse link E10 to E3--><a href=\"psysml:800170d4-464e-4c2e-99b4-fb1d2de59c3f\" target=\"_top\" title=\"psysml:800170d4-464e-4c2e-99b4-fb1d2de59c3f\" xlink:actuate=\"onRequest\" xlink:href=\"psysml:800170d4-464e-4c2e-99b4-fb1d2de59c3f\" xlink:show=\"new\" xlink:title=\"psysml:800170d4-464e-4c2e-99b4-fb1d2de59c3f\" xlink:type=\"simple\"><path d=\"M127.66,131.44 C146.75,121.09 167.75,109.71 184.58,100.58 \" fill=\"none\" id=\"E10&lt;-E3\" style=\"stroke: #383838; stroke-width: 1.0;\"/><polygon fill=\"#FFFFFF\" points=\"116.07,137.73,123.2513,138.3848,126.6178,132.0078,119.4365,131.353,116.07,137.73\" style=\"stroke: #383838; stroke-width: 1.0;\"/><text fill=\"#000000\" font-family=\"sans-serif\" font-size=\"13\" lengthAdjust=\"spacingAndGlyphs\" textLength=\"7\" x=\"147\" y=\"113.0669\">y</text></a><!--MD5=[604cbf994c02b74b117f728a71673cea]\n",
       "reverse link E10 to E6--><a href=\"psysml:800170d4-464e-4c2e-99b4-fb1d2de59c3f\" target=\"_top\" title=\"psysml:800170d4-464e-4c2e-99b4-fb1d2de59c3f\" xlink:actuate=\"onRequest\" xlink:href=\"psysml:800170d4-464e-4c2e-99b4-fb1d2de59c3f\" xlink:show=\"new\" xlink:title=\"psysml:800170d4-464e-4c2e-99b4-fb1d2de59c3f\" xlink:type=\"simple\"><path d=\"M129.62,158.06 C187.43,155.71 281.3,151.02 362,143 C382.28,140.99 404.93,137.84 422.8,135.15 \" fill=\"none\" id=\"E10&lt;-E6\" style=\"stroke: #383838; stroke-width: 1.0;\"/><polygon fill=\"#FFFFFF\" points=\"116.43,158.58,122.5834,162.3397,128.4206,158.1056,122.2672,154.3459,116.43,158.58\" style=\"stroke: #383838; stroke-width: 1.0;\"/><text fill=\"#000000\" font-family=\"sans-serif\" font-size=\"13\" lengthAdjust=\"spacingAndGlyphs\" textLength=\"7\" x=\"282\" y=\"146.0669\">y</text></a><!--MD5=[adc3f2fdc5467124c7c6e8fb53c6e1dd]\n",
       "@startuml\r\n",
       "left to right direction\r\n",
       "skinparam monochrome true\r\n",
       "skinparam classbackgroundcolor white\r\n",
       "skinparam shadowing false\r\n",
       "skinparam wrapWidth 300\r\n",
       "hide circle\r\n",
       "\r\n",
       "package \"BlockTest\" as E1  [[psysml:1f80f8be-3c31-4480-9ece-24461005c64a ]]  {\r\n",
       "comp usage \"f: A\" as E2  <<(T,blue)part>> [[psysml:77ca47e2-95bd-4f5e-baaf-35974d96745c ]] {\r\n",
       "}\r\n",
       "comp def \"A\" as E3  <<(T,blue)part def>> [[psysml:feda5581-6f8c-419d-8ba7-a8a04be8503b ]] {\r\n",
       "- - ports - -\r\n",
       "c: C\r\n",
       "}\r\n",
       "comp usage \"b: B\" as E4  <<(T,blue)part>> [[psysml:ebd0a90b-6b0b-4fe7-b689-bf63abb6537b ]] {\r\n",
       "}\r\n",
       "comp def \"B\" as E6  <<(T,blue)part def>> [[psysml:7287ae62-763a-4b84-8405-f658443750c5 ]] {\r\n",
       "- - ports - -\r\n",
       "x: ~C\r\n",
       "}\r\n",
       "package \"P\" as E7  [[psysml:8a2f941b-3a97-4b54-9145-5eb7e96c5b49 ]]  {\r\n",
       "}\r\n",
       "comp usage \"a: A\" as E8  <<(T,blue)part>> [[psysml:4e9eccbd-3da0-4f6c-a773-1d808904fdc5 ]] {\r\n",
       "}\r\n",
       "comp def \"C\" as E10  <<(T,blue)port def>> [[psysml:8c4f99f3-2675-4f4d-a756-da09d407570d ]] {\r\n",
       "- - references - -\r\n",
       "y: A, B <b>as</b> z2 \r\n",
       "}\r\n",
       "E2 - -:|> E3 [[psysml:f1219804-170d-45ce-a1b2-74df9d2ed655 ]] \r\n",
       "E3 *- - E4 [[psysml:ebd0a90b-6b0b-4fe7-b689-bf63abb6537b ]] \r\n",
       "E4 - -:|> E6 [[psysml:0b7e6d0b-da90-43fd-82ff-3f36fc5229c0 ]] \r\n",
       "E6 +- - E7 [[psysml:8a2f941b-3a97-4b54-9145-5eb7e96c5b49 ]] \r\n",
       "E8 - -:|> E3 [[psysml:edfb0c1d-eeea-43d5-bece-b0bce4203cff ]] \r\n",
       "E6 *- - E8 [[psysml:4e9eccbd-3da0-4f6c-a773-1d808904fdc5 ]] \r\n",
       "E10 o- - E3 [[psysml:800170d4-464e-4c2e-99b4-fb1d2de59c3f ]] : y\r\n",
       "E10 o- - E6 [[psysml:800170d4-464e-4c2e-99b4-fb1d2de59c3f ]] : y\r\n",
       "}\r\n",
       "@enduml\r\n",
       "\n",
       "PlantUML version 1.2020.13(Sat Jun 13 12:26:38 UTC 2020)\n",
       "(EPL source distribution)\n",
       "Java Runtime: OpenJDK Runtime Environment\n",
       "JVM: OpenJDK 64-Bit Server VM\n",
       "Default Encoding: UTF-8\n",
       "Language: en\n",
       "Country: null\n",
       "--></g></svg>"
      ]
     },
     "execution_count": 21,
     "metadata": {},
     "output_type": "execute_result"
    }
   ],
   "source": [
    "%viz --style=\"LR\" --view=\"Sequence\" \"BlockTest\""
   ]
  },
  {
   "cell_type": "code",
   "execution_count": 22,
   "id": "necessary-universe",
   "metadata": {
    "execution": {
     "iopub.execute_input": "2021-03-26T12:07:38.682002Z",
     "iopub.status.busy": "2021-03-26T12:07:38.681062Z",
     "iopub.status.idle": "2021-03-26T12:07:38.748111Z",
     "shell.execute_reply": "2021-03-26T12:07:38.747790Z"
    }
   },
   "outputs": [
    {
     "data": {
      "image/svg+xml": [
       "<?xml version=\"1.0\" encoding=\"UTF-8\" standalone=\"no\"?><svg xmlns=\"http://www.w3.org/2000/svg\" xmlns:xlink=\"http://www.w3.org/1999/xlink\" contentScriptType=\"application/ecmascript\" contentStyleType=\"text/css\" height=\"226px\" preserveAspectRatio=\"none\" style=\"width:630px;height:226px;\" version=\"1.1\" viewBox=\"0 0 630 226\" width=\"630px\" zoomAndPan=\"magnify\"><defs/><g><!--MD5=[fbc87193dbaf4d95561dea2c320d4a47]\n",
       "cluster E1--><a href=\"psysml:1f80f8be-3c31-4480-9ece-24461005c64a\" target=\"_top\" title=\"psysml:1f80f8be-3c31-4480-9ece-24461005c64a\" xlink:actuate=\"onRequest\" xlink:href=\"psysml:1f80f8be-3c31-4480-9ece-24461005c64a\" xlink:show=\"new\" xlink:title=\"psysml:1f80f8be-3c31-4480-9ece-24461005c64a\" xlink:type=\"simple\"><polygon fill=\"#FFFFFF\" points=\"16,6,99,6,106,28.2969,608,28.2969,608,214,16,214,16,6\" style=\"stroke: #000000; stroke-width: 1.5;\"/><line style=\"stroke: #000000; stroke-width: 1.5;\" x1=\"16\" x2=\"106\" y1=\"28.2969\" y2=\"28.2969\"/><text fill=\"#000000\" font-family=\"sans-serif\" font-size=\"14\" font-weight=\"bold\" lengthAdjust=\"spacingAndGlyphs\" textLength=\"77\" x=\"20\" y=\"20.9951\">BlockTest</text></a><!--MD5=[b4997ac47864f28c2f74865a473b2911]\n",
       "class E2--><a href=\"psysml:77ca47e2-95bd-4f5e-baaf-35974d96745c\" target=\"_top\" title=\"psysml:77ca47e2-95bd-4f5e-baaf-35974d96745c\" xlink:actuate=\"onRequest\" xlink:href=\"psysml:77ca47e2-95bd-4f5e-baaf-35974d96745c\" xlink:show=\"new\" xlink:title=\"psysml:77ca47e2-95bd-4f5e-baaf-35974d96745c\" xlink:type=\"simple\"><rect fill=\"#FFFFFF\" height=\"45.9375\" id=\"E2\" rx=\"10\" ry=\"10\" style=\"stroke: #383838; stroke-width: 1.5;\" width=\"42\" x=\"53\" y=\"41\"/><text fill=\"#000000\" font-family=\"sans-serif\" font-size=\"12\" font-style=\"italic\" lengthAdjust=\"spacingAndGlyphs\" textLength=\"40\" x=\"54\" y=\"57.1387\">«part»</text><text fill=\"#000000\" font-family=\"sans-serif\" font-size=\"12\" lengthAdjust=\"spacingAndGlyphs\" textLength=\"20\" x=\"64\" y=\"71.1074\">f: A</text><line style=\"stroke: #383838; stroke-width: 1.5;\" x1=\"54\" x2=\"94\" y1=\"78.9375\" y2=\"78.9375\"/></a><!--MD5=[09b614a08d8cba4a07c9adeb5e0fee81]\n",
       "class E3--><a href=\"psysml:feda5581-6f8c-419d-8ba7-a8a04be8503b\" target=\"_top\" title=\"psysml:feda5581-6f8c-419d-8ba7-a8a04be8503b\" xlink:actuate=\"onRequest\" xlink:href=\"psysml:feda5581-6f8c-419d-8ba7-a8a04be8503b\" xlink:show=\"new\" xlink:title=\"psysml:feda5581-6f8c-419d-8ba7-a8a04be8503b\" xlink:type=\"simple\"><rect fill=\"#FFFFFF\" height=\"75.5469\" id=\"E3\" style=\"stroke: #383838; stroke-width: 1.5;\" width=\"66\" x=\"185\" y=\"45\"/><text fill=\"#000000\" font-family=\"sans-serif\" font-size=\"12\" font-style=\"italic\" lengthAdjust=\"spacingAndGlyphs\" textLength=\"64\" x=\"186\" y=\"61.1387\">«part def»</text><text fill=\"#000000\" font-family=\"sans-serif\" font-size=\"12\" lengthAdjust=\"spacingAndGlyphs\" textLength=\"8\" x=\"214\" y=\"75.1074\">A</text><line style=\"stroke: #383838; stroke-width: 1.5;\" x1=\"186\" x2=\"250\" y1=\"82.9375\" y2=\"82.9375\"/><text fill=\"#000000\" font-family=\"sans-serif\" font-size=\"11\" lengthAdjust=\"spacingAndGlyphs\" textLength=\"22\" x=\"191\" y=\"113.9526\">c: C</text><line style=\"stroke: #383838; stroke-width: 1.0;\" x1=\"186\" x2=\"203\" y1=\"97.3398\" y2=\"97.3398\"/><text fill=\"#000000\" font-family=\"sans-serif\" font-size=\"11\" lengthAdjust=\"spacingAndGlyphs\" textLength=\"30\" x=\"203\" y=\"100.6479\">ports</text><line style=\"stroke: #383838; stroke-width: 1.0;\" x1=\"233\" x2=\"250\" y1=\"97.3398\" y2=\"97.3398\"/></a><!--MD5=[ebbe1d658d1005bcc118a6aa81145e00]\n",
       "class E4--><a href=\"psysml:ebd0a90b-6b0b-4fe7-b689-bf63abb6537b\" target=\"_top\" title=\"psysml:ebd0a90b-6b0b-4fe7-b689-bf63abb6537b\" xlink:actuate=\"onRequest\" xlink:href=\"psysml:ebd0a90b-6b0b-4fe7-b689-bf63abb6537b\" xlink:show=\"new\" xlink:title=\"psysml:ebd0a90b-6b0b-4fe7-b689-bf63abb6537b\" xlink:type=\"simple\"><rect fill=\"#FFFFFF\" height=\"45.9375\" id=\"E4\" rx=\"10\" ry=\"10\" style=\"stroke: #383838; stroke-width: 1.5;\" width=\"42\" x=\"320\" y=\"80\"/><text fill=\"#000000\" font-family=\"sans-serif\" font-size=\"12\" font-style=\"italic\" lengthAdjust=\"spacingAndGlyphs\" textLength=\"40\" x=\"321\" y=\"96.1387\">«part»</text><text fill=\"#000000\" font-family=\"sans-serif\" font-size=\"12\" lengthAdjust=\"spacingAndGlyphs\" textLength=\"24\" x=\"329\" y=\"110.1074\">b: B</text><line style=\"stroke: #383838; stroke-width: 1.5;\" x1=\"321\" x2=\"361\" y1=\"117.9375\" y2=\"117.9375\"/></a><!--MD5=[60a26617385b1d2d0262a64233df1f8d]\n",
       "class E6--><a href=\"psysml:7287ae62-763a-4b84-8405-f658443750c5\" target=\"_top\" title=\"psysml:7287ae62-763a-4b84-8405-f658443750c5\" xlink:actuate=\"onRequest\" xlink:href=\"psysml:7287ae62-763a-4b84-8405-f658443750c5\" xlink:show=\"new\" xlink:title=\"psysml:7287ae62-763a-4b84-8405-f658443750c5\" xlink:type=\"simple\"><rect fill=\"#FFFFFF\" height=\"75.5469\" id=\"E6\" style=\"stroke: #383838; stroke-width: 1.5;\" width=\"66\" x=\"423\" y=\"92\"/><text fill=\"#000000\" font-family=\"sans-serif\" font-size=\"12\" font-style=\"italic\" lengthAdjust=\"spacingAndGlyphs\" textLength=\"64\" x=\"424\" y=\"108.1387\">«part def»</text><text fill=\"#000000\" font-family=\"sans-serif\" font-size=\"12\" lengthAdjust=\"spacingAndGlyphs\" textLength=\"8\" x=\"452\" y=\"122.1074\">B</text><line style=\"stroke: #383838; stroke-width: 1.5;\" x1=\"424\" x2=\"488\" y1=\"129.9375\" y2=\"129.9375\"/><text fill=\"#000000\" font-family=\"sans-serif\" font-size=\"11\" lengthAdjust=\"spacingAndGlyphs\" textLength=\"31\" x=\"429\" y=\"160.9526\">x: ~C</text><line style=\"stroke: #383838; stroke-width: 1.0;\" x1=\"424\" x2=\"441\" y1=\"144.3398\" y2=\"144.3398\"/><text fill=\"#000000\" font-family=\"sans-serif\" font-size=\"11\" lengthAdjust=\"spacingAndGlyphs\" textLength=\"30\" x=\"441\" y=\"147.6479\">ports</text><line style=\"stroke: #383838; stroke-width: 1.0;\" x1=\"471\" x2=\"488\" y1=\"144.3398\" y2=\"144.3398\"/></a><!--MD5=[b9389687b975829384b498ac4b7476b2]\n",
       "class E8--><a href=\"psysml:4e9eccbd-3da0-4f6c-a773-1d808904fdc5\" target=\"_top\" title=\"psysml:4e9eccbd-3da0-4f6c-a773-1d808904fdc5\" xlink:actuate=\"onRequest\" xlink:href=\"psysml:4e9eccbd-3da0-4f6c-a773-1d808904fdc5\" xlink:show=\"new\" xlink:title=\"psysml:4e9eccbd-3da0-4f6c-a773-1d808904fdc5\" xlink:type=\"simple\"><rect fill=\"#FFFFFF\" height=\"45.9375\" id=\"E8\" rx=\"10\" ry=\"10\" style=\"stroke: #383838; stroke-width: 1.5;\" width=\"42\" x=\"550\" y=\"41\"/><text fill=\"#000000\" font-family=\"sans-serif\" font-size=\"12\" font-style=\"italic\" lengthAdjust=\"spacingAndGlyphs\" textLength=\"40\" x=\"551\" y=\"57.1387\">«part»</text><text fill=\"#000000\" font-family=\"sans-serif\" font-size=\"12\" lengthAdjust=\"spacingAndGlyphs\" textLength=\"24\" x=\"559\" y=\"71.1074\">a: A</text><line style=\"stroke: #383838; stroke-width: 1.5;\" x1=\"551\" x2=\"591\" y1=\"78.9375\" y2=\"78.9375\"/></a><!--MD5=[96f4274e9e20536e775497830990834d]\n",
       "class E10--><a href=\"psysml:8c4f99f3-2675-4f4d-a756-da09d407570d\" target=\"_top\" title=\"psysml:8c4f99f3-2675-4f4d-a756-da09d407570d\" xlink:actuate=\"onRequest\" xlink:href=\"psysml:8c4f99f3-2675-4f4d-a756-da09d407570d\" xlink:show=\"new\" xlink:title=\"psysml:8c4f99f3-2675-4f4d-a756-da09d407570d\" xlink:type=\"simple\"><rect fill=\"#FFFFFF\" height=\"75.5469\" id=\"E10\" style=\"stroke: #383838; stroke-width: 1.5;\" width=\"84\" x=\"32\" y=\"122\"/><text fill=\"#000000\" font-family=\"sans-serif\" font-size=\"12\" font-style=\"italic\" lengthAdjust=\"spacingAndGlyphs\" textLength=\"64\" x=\"42\" y=\"138.1387\">«port def»</text><text fill=\"#000000\" font-family=\"sans-serif\" font-size=\"12\" lengthAdjust=\"spacingAndGlyphs\" textLength=\"8\" x=\"70\" y=\"152.1074\">C</text><line style=\"stroke: #383838; stroke-width: 1.5;\" x1=\"33\" x2=\"115\" y1=\"159.9375\" y2=\"159.9375\"/><text fill=\"#000000\" font-family=\"sans-serif\" font-size=\"11\" lengthAdjust=\"spacingAndGlyphs\" textLength=\"37\" x=\"38\" y=\"190.9526\">y: A, B</text><text fill=\"#000000\" font-family=\"sans-serif\" font-size=\"11\" font-weight=\"bold\" lengthAdjust=\"spacingAndGlyphs\" textLength=\"15\" x=\"79\" y=\"190.9526\">as</text><text fill=\"#000000\" font-family=\"sans-serif\" font-size=\"11\" lengthAdjust=\"spacingAndGlyphs\" textLength=\"12\" x=\"98\" y=\"190.9526\">z2</text><line style=\"stroke: #383838; stroke-width: 1.0;\" x1=\"33\" x2=\"43\" y1=\"174.3398\" y2=\"174.3398\"/><text fill=\"#000000\" font-family=\"sans-serif\" font-size=\"11\" lengthAdjust=\"spacingAndGlyphs\" textLength=\"62\" x=\"43\" y=\"177.6479\">references</text><line style=\"stroke: #383838; stroke-width: 1.0;\" x1=\"105\" x2=\"115\" y1=\"174.3398\" y2=\"174.3398\"/></a><a href=\"psysml:8a2f941b-3a97-4b54-9145-5eb7e96c5b49\" target=\"_top\" title=\"psysml:8a2f941b-3a97-4b54-9145-5eb7e96c5b49\" xlink:actuate=\"onRequest\" xlink:href=\"psysml:8a2f941b-3a97-4b54-9145-5eb7e96c5b49\" xlink:show=\"new\" xlink:title=\"psysml:8a2f941b-3a97-4b54-9145-5eb7e96c5b49\" xlink:type=\"simple\"><polygon fill=\"#FFFFFF\" points=\"556,122.5,572,122.5,579,144.7969,586,144.7969,586,175.0938,556,175.0938,556,122.5\" style=\"stroke: #000000; stroke-width: 1.5;\"/><line style=\"stroke: #000000; stroke-width: 1.5;\" x1=\"556\" x2=\"579\" y1=\"144.7969\" y2=\"144.7969\"/><text fill=\"#000000\" font-family=\"sans-serif\" font-size=\"14\" font-weight=\"bold\" lengthAdjust=\"spacingAndGlyphs\" textLength=\"10\" x=\"560\" y=\"137.4951\">P</text></a><!--MD5=[2720a5a1f2c3fca2055b230370638851]\n",
       "link E2 to E3--><a href=\"psysml:f1219804-170d-45ce-a1b2-74df9d2ed655\" target=\"_top\" title=\"psysml:f1219804-170d-45ce-a1b2-74df9d2ed655\" xlink:actuate=\"onRequest\" xlink:href=\"psysml:f1219804-170d-45ce-a1b2-74df9d2ed655\" xlink:show=\"new\" xlink:title=\"psysml:f1219804-170d-45ce-a1b2-74df9d2ed655\" xlink:type=\"simple\"><path d=\"M95.04,66.68 C113.08,69.09 140.38,72.75 164.59,75.99 \" fill=\"none\" id=\"E2-&gt;E3\" style=\"stroke: #383838; stroke-width: 1.0;\"/><polygon fill=\"#FFFFFF\" points=\"184.75,78.68,164.9917,83.1084,166.8414,69.2311,184.75,78.68\" style=\"stroke: #383838; stroke-width: 1.0;\"/><ellipse cx=\"159.6059\" cy=\"80.3729\" fill=\"#383838\" rx=\"2\" ry=\"2\" style=\"stroke: #383838; stroke-width: 1.0;\"/><ellipse cx=\"160.9271\" cy=\"70.4605\" fill=\"#383838\" rx=\"2\" ry=\"2\" style=\"stroke: #383838; stroke-width: 1.0;\"/></a><!--MD5=[4672eba38e49728da53d11aeb285b987]\n",
       "reverse link E3 to E4--><a href=\"psysml:ebd0a90b-6b0b-4fe7-b689-bf63abb6537b\" target=\"_top\" title=\"psysml:ebd0a90b-6b0b-4fe7-b689-bf63abb6537b\" xlink:actuate=\"onRequest\" xlink:href=\"psysml:ebd0a90b-6b0b-4fe7-b689-bf63abb6537b\" xlink:show=\"new\" xlink:title=\"psysml:ebd0a90b-6b0b-4fe7-b689-bf63abb6537b\" xlink:type=\"simple\"><path d=\"M263.96,90.43 C283.2,93.61 304.69,97.16 319.9,99.68 \" fill=\"none\" id=\"E3&lt;-E4\" style=\"stroke: #383838; stroke-width: 1.0;\"/><polygon fill=\"#383838\" points=\"251.11,88.31,256.3743,93.2382,262.9481,90.2742,257.6838,85.3461,251.11,88.31\" style=\"stroke: #383838; stroke-width: 1.0;\"/></a><!--MD5=[79568f1e445c3877b6a54524624ccc7d]\n",
       "link E4 to E6--><a href=\"psysml:0b7e6d0b-da90-43fd-82ff-3f36fc5229c0\" target=\"_top\" title=\"psysml:0b7e6d0b-da90-43fd-82ff-3f36fc5229c0\" xlink:actuate=\"onRequest\" xlink:href=\"psysml:0b7e6d0b-da90-43fd-82ff-3f36fc5229c0\" xlink:show=\"new\" xlink:title=\"psysml:0b7e6d0b-da90-43fd-82ff-3f36fc5229c0\" xlink:type=\"simple\"><path d=\"M362.2,107.83 C373.59,110.55 388.4,114.09 402.82,117.53 \" fill=\"none\" id=\"E4-&gt;E6\" style=\"stroke: #383838; stroke-width: 1.0;\"/><polygon fill=\"#FFFFFF\" points=\"422.57,122.25,402.4621,124.6316,405.7233,111.0167,422.57,122.25\" style=\"stroke: #383838; stroke-width: 1.0;\"/><ellipse cx=\"397.3848\" cy=\"121.3588\" fill=\"#383838\" rx=\"2\" ry=\"2\" style=\"stroke: #383838; stroke-width: 1.0;\"/><ellipse cx=\"399.7142\" cy=\"111.6339\" fill=\"#383838\" rx=\"2\" ry=\"2\" style=\"stroke: #383838; stroke-width: 1.0;\"/></a><!--MD5=[3f50a3473f1dfb74d3f76443e03635af]\n",
       "reverse link E6 to E7--><a href=\"psysml:8a2f941b-3a97-4b54-9145-5eb7e96c5b49\" target=\"_top\" title=\"psysml:8a2f941b-3a97-4b54-9145-5eb7e96c5b49\" xlink:actuate=\"onRequest\" xlink:href=\"psysml:8a2f941b-3a97-4b54-9145-5eb7e96c5b49\" xlink:show=\"new\" xlink:title=\"psysml:8a2f941b-3a97-4b54-9145-5eb7e96c5b49\" xlink:type=\"simple\"><path d=\"M503.97,137.9 C522.72,141.05 542.91,144.44 555.96,146.64 \" fill=\"none\" id=\"E6&lt;-E7\" style=\"stroke: #383838; stroke-width: 1.0;\"/><ellipse cx=\"496.9695\" cy=\"136.7151\" fill=\"#FFFFFF\" rx=\"8\" ry=\"8\" style=\"stroke: #383838; stroke-width: 1.0;\"/><line style=\"stroke: #383838; stroke-width: 1.0;\" x1=\"504.859\" x2=\"489.08\" y1=\"138.0401\" y2=\"135.39\"/><line style=\"stroke: #383838; stroke-width: 1.0;\" x1=\"495.6444\" x2=\"498.2946\" y1=\"144.6046\" y2=\"128.8256\"/></a><!--MD5=[95fa686b5a16158bcdbcaeead89f639b]\n",
       "link E8 to E3--><a href=\"psysml:edfb0c1d-eeea-43d5-bece-b0bce4203cff\" target=\"_top\" title=\"psysml:edfb0c1d-eeea-43d5-bece-b0bce4203cff\" xlink:actuate=\"onRequest\" xlink:href=\"psysml:edfb0c1d-eeea-43d5-bece-b0bce4203cff\" xlink:show=\"new\" xlink:title=\"psysml:edfb0c1d-eeea-43d5-bece-b0bce4203cff\" xlink:type=\"simple\"><path d=\"M549.84,62.34 C507.25,59.15 405.06,53.25 320,62 C303.77,63.67 286.31,66.81 270.54,70.16 \" fill=\"none\" id=\"E8-&gt;E3\" style=\"stroke: #383838; stroke-width: 1.0;\"/><polygon fill=\"#FFFFFF\" points=\"251.03,74.59,268.0156,63.5678,271.1066,77.2223,251.03,74.59\" style=\"stroke: #383838; stroke-width: 1.0;\"/><ellipse cx=\"274.0165\" cy=\"64.2599\" fill=\"#383838\" rx=\"2\" ry=\"2\" style=\"stroke: #383838; stroke-width: 1.0;\"/><ellipse cx=\"276.2244\" cy=\"74.0132\" fill=\"#383838\" rx=\"2\" ry=\"2\" style=\"stroke: #383838; stroke-width: 1.0;\"/></a><!--MD5=[f4cf0736d43fd73c4ef68817c49d37d5]\n",
       "reverse link E6 to E8--><a href=\"psysml:4e9eccbd-3da0-4f6c-a773-1d808904fdc5\" target=\"_top\" title=\"psysml:4e9eccbd-3da0-4f6c-a773-1d808904fdc5\" xlink:actuate=\"onRequest\" xlink:href=\"psysml:4e9eccbd-3da0-4f6c-a773-1d808904fdc5\" xlink:show=\"new\" xlink:title=\"psysml:4e9eccbd-3da0-4f6c-a773-1d808904fdc5\" xlink:type=\"simple\"><path d=\"M500.52,104.58 C517.54,94.64 536.23,83.72 549.94,75.72 \" fill=\"none\" id=\"E6&lt;-E8\" style=\"stroke: #383838; stroke-width: 1.0;\"/><polygon fill=\"#383838\" points=\"489.08,111.26,496.2784,111.6885,499.4425,105.2086,492.2441,104.7802,489.08,111.26\" style=\"stroke: #383838; stroke-width: 1.0;\"/></a><!--MD5=[8e04057e7b3cbc0dca4fc78ea351e2da]\n",
       "reverse link E10 to E3--><a href=\"psysml:800170d4-464e-4c2e-99b4-fb1d2de59c3f\" target=\"_top\" title=\"psysml:800170d4-464e-4c2e-99b4-fb1d2de59c3f\" xlink:actuate=\"onRequest\" xlink:href=\"psysml:800170d4-464e-4c2e-99b4-fb1d2de59c3f\" xlink:show=\"new\" xlink:title=\"psysml:800170d4-464e-4c2e-99b4-fb1d2de59c3f\" xlink:type=\"simple\"><path d=\"M127.66,131.44 C146.75,121.09 167.75,109.71 184.58,100.58 \" fill=\"none\" id=\"E10&lt;-E3\" style=\"stroke: #383838; stroke-width: 1.0;\"/><polygon fill=\"#FFFFFF\" points=\"116.07,137.73,123.2513,138.3848,126.6178,132.0078,119.4365,131.353,116.07,137.73\" style=\"stroke: #383838; stroke-width: 1.0;\"/><text fill=\"#000000\" font-family=\"sans-serif\" font-size=\"13\" lengthAdjust=\"spacingAndGlyphs\" textLength=\"7\" x=\"147\" y=\"113.0669\">y</text></a><!--MD5=[604cbf994c02b74b117f728a71673cea]\n",
       "reverse link E10 to E6--><a href=\"psysml:800170d4-464e-4c2e-99b4-fb1d2de59c3f\" target=\"_top\" title=\"psysml:800170d4-464e-4c2e-99b4-fb1d2de59c3f\" xlink:actuate=\"onRequest\" xlink:href=\"psysml:800170d4-464e-4c2e-99b4-fb1d2de59c3f\" xlink:show=\"new\" xlink:title=\"psysml:800170d4-464e-4c2e-99b4-fb1d2de59c3f\" xlink:type=\"simple\"><path d=\"M129.62,158.06 C187.43,155.71 281.3,151.02 362,143 C382.28,140.99 404.93,137.84 422.8,135.15 \" fill=\"none\" id=\"E10&lt;-E6\" style=\"stroke: #383838; stroke-width: 1.0;\"/><polygon fill=\"#FFFFFF\" points=\"116.43,158.58,122.5834,162.3397,128.4206,158.1056,122.2672,154.3459,116.43,158.58\" style=\"stroke: #383838; stroke-width: 1.0;\"/><text fill=\"#000000\" font-family=\"sans-serif\" font-size=\"13\" lengthAdjust=\"spacingAndGlyphs\" textLength=\"7\" x=\"282\" y=\"146.0669\">y</text></a><!--MD5=[adc3f2fdc5467124c7c6e8fb53c6e1dd]\n",
       "@startuml\r\n",
       "left to right direction\r\n",
       "skinparam monochrome true\r\n",
       "skinparam classbackgroundcolor white\r\n",
       "skinparam shadowing false\r\n",
       "skinparam wrapWidth 300\r\n",
       "hide circle\r\n",
       "\r\n",
       "package \"BlockTest\" as E1  [[psysml:1f80f8be-3c31-4480-9ece-24461005c64a ]]  {\r\n",
       "comp usage \"f: A\" as E2  <<(T,blue)part>> [[psysml:77ca47e2-95bd-4f5e-baaf-35974d96745c ]] {\r\n",
       "}\r\n",
       "comp def \"A\" as E3  <<(T,blue)part def>> [[psysml:feda5581-6f8c-419d-8ba7-a8a04be8503b ]] {\r\n",
       "- - ports - -\r\n",
       "c: C\r\n",
       "}\r\n",
       "comp usage \"b: B\" as E4  <<(T,blue)part>> [[psysml:ebd0a90b-6b0b-4fe7-b689-bf63abb6537b ]] {\r\n",
       "}\r\n",
       "comp def \"B\" as E6  <<(T,blue)part def>> [[psysml:7287ae62-763a-4b84-8405-f658443750c5 ]] {\r\n",
       "- - ports - -\r\n",
       "x: ~C\r\n",
       "}\r\n",
       "package \"P\" as E7  [[psysml:8a2f941b-3a97-4b54-9145-5eb7e96c5b49 ]]  {\r\n",
       "}\r\n",
       "comp usage \"a: A\" as E8  <<(T,blue)part>> [[psysml:4e9eccbd-3da0-4f6c-a773-1d808904fdc5 ]] {\r\n",
       "}\r\n",
       "comp def \"C\" as E10  <<(T,blue)port def>> [[psysml:8c4f99f3-2675-4f4d-a756-da09d407570d ]] {\r\n",
       "- - references - -\r\n",
       "y: A, B <b>as</b> z2 \r\n",
       "}\r\n",
       "E2 - -:|> E3 [[psysml:f1219804-170d-45ce-a1b2-74df9d2ed655 ]] \r\n",
       "E3 *- - E4 [[psysml:ebd0a90b-6b0b-4fe7-b689-bf63abb6537b ]] \r\n",
       "E4 - -:|> E6 [[psysml:0b7e6d0b-da90-43fd-82ff-3f36fc5229c0 ]] \r\n",
       "E6 +- - E7 [[psysml:8a2f941b-3a97-4b54-9145-5eb7e96c5b49 ]] \r\n",
       "E8 - -:|> E3 [[psysml:edfb0c1d-eeea-43d5-bece-b0bce4203cff ]] \r\n",
       "E6 *- - E8 [[psysml:4e9eccbd-3da0-4f6c-a773-1d808904fdc5 ]] \r\n",
       "E10 o- - E3 [[psysml:800170d4-464e-4c2e-99b4-fb1d2de59c3f ]] : y\r\n",
       "E10 o- - E6 [[psysml:800170d4-464e-4c2e-99b4-fb1d2de59c3f ]] : y\r\n",
       "}\r\n",
       "@enduml\r\n",
       "\n",
       "PlantUML version 1.2020.13(Sat Jun 13 12:26:38 UTC 2020)\n",
       "(EPL source distribution)\n",
       "Java Runtime: OpenJDK Runtime Environment\n",
       "JVM: OpenJDK 64-Bit Server VM\n",
       "Default Encoding: UTF-8\n",
       "Language: en\n",
       "Country: null\n",
       "--></g></svg>"
      ]
     },
     "execution_count": 22,
     "metadata": {},
     "output_type": "execute_result"
    }
   ],
   "source": [
    "%viz --style=\"LR\" --view=\"MIXED\" \"BlockTest\""
   ]
  },
  {
   "cell_type": "code",
   "execution_count": 23,
   "id": "southwest-conference",
   "metadata": {
    "execution": {
     "iopub.execute_input": "2021-03-26T12:07:38.798910Z",
     "iopub.status.busy": "2021-03-26T12:07:38.798327Z",
     "iopub.status.idle": "2021-03-26T12:07:38.863589Z",
     "shell.execute_reply": "2021-03-26T12:07:38.862237Z"
    }
   },
   "outputs": [
    {
     "data": {
      "image/svg+xml": [
       "<?xml version=\"1.0\" encoding=\"UTF-8\" standalone=\"no\"?><svg xmlns=\"http://www.w3.org/2000/svg\" xmlns:xlink=\"http://www.w3.org/1999/xlink\" contentScriptType=\"application/ecmascript\" contentStyleType=\"text/css\" height=\"672px\" preserveAspectRatio=\"none\" style=\"width:231px;height:672px;\" version=\"1.1\" viewBox=\"0 0 231 672\" width=\"231px\" zoomAndPan=\"magnify\"><defs><filter height=\"300%\" id=\"frruiuwxcnm8\" width=\"300%\" x=\"-1\" y=\"-1\"><feGaussianBlur result=\"blurOut\" stdDeviation=\"2.0\"/><feColorMatrix in=\"blurOut\" result=\"blurOut2\" type=\"matrix\" values=\"0 0 0 0 0 0 0 0 0 0 0 0 0 0 0 0 0 0 .4 0\"/><feOffset dx=\"4.0\" dy=\"4.0\" in=\"blurOut2\" result=\"blurOut3\"/><feBlend in=\"SourceGraphic\" in2=\"blurOut3\" mode=\"normal\"/></filter></defs><g><!--MD5=[fbc87193dbaf4d95561dea2c320d4a47]\n",
       "cluster E1--><a href=\"psysml:1f80f8be-3c31-4480-9ece-24461005c64a\" target=\"_top\" title=\"psysml:1f80f8be-3c31-4480-9ece-24461005c64a\" xlink:actuate=\"onRequest\" xlink:href=\"psysml:1f80f8be-3c31-4480-9ece-24461005c64a\" xlink:show=\"new\" xlink:title=\"psysml:1f80f8be-3c31-4480-9ece-24461005c64a\" xlink:type=\"simple\"><polygon fill=\"#FFFFFF\" filter=\"url(#frruiuwxcnm8)\" points=\"16,6,99,6,106,28.2969,209,28.2969,209,660,16,660,16,6\" style=\"stroke: #000000; stroke-width: 1.5;\"/><line style=\"stroke: #000000; stroke-width: 1.5;\" x1=\"16\" x2=\"106\" y1=\"28.2969\" y2=\"28.2969\"/><text fill=\"#000000\" font-family=\"sans-serif\" font-size=\"14\" font-weight=\"bold\" lengthAdjust=\"spacingAndGlyphs\" textLength=\"77\" x=\"20\" y=\"20.9951\">BlockTest</text></a><!--MD5=[b4997ac47864f28c2f74865a473b2911]\n",
       "class E2--><a href=\"psysml:77ca47e2-95bd-4f5e-baaf-35974d96745c\" target=\"_top\" title=\"psysml:77ca47e2-95bd-4f5e-baaf-35974d96745c\" xlink:actuate=\"onRequest\" xlink:href=\"psysml:77ca47e2-95bd-4f5e-baaf-35974d96745c\" xlink:show=\"new\" xlink:title=\"psysml:77ca47e2-95bd-4f5e-baaf-35974d96745c\" xlink:type=\"simple\"><rect fill=\"#FEFECE\" filter=\"url(#frruiuwxcnm8)\" height=\"45.9375\" id=\"E2\" rx=\"10\" ry=\"10\" style=\"stroke: #A80036; stroke-width: 1.5;\" width=\"42\" x=\"151\" y=\"56\"/><text fill=\"#000000\" font-family=\"sans-serif\" font-size=\"12\" font-style=\"italic\" lengthAdjust=\"spacingAndGlyphs\" textLength=\"40\" x=\"152\" y=\"72.1387\">«part»</text><text fill=\"#000000\" font-family=\"sans-serif\" font-size=\"12\" lengthAdjust=\"spacingAndGlyphs\" textLength=\"20\" x=\"162\" y=\"86.1074\">f: A</text><line style=\"stroke: #A80036; stroke-width: 1.5;\" x1=\"152\" x2=\"192\" y1=\"93.9375\" y2=\"93.9375\"/></a><!--MD5=[09b614a08d8cba4a07c9adeb5e0fee81]\n",
       "class E3--><a href=\"psysml:feda5581-6f8c-419d-8ba7-a8a04be8503b\" target=\"_top\" title=\"psysml:feda5581-6f8c-419d-8ba7-a8a04be8503b\" xlink:actuate=\"onRequest\" xlink:href=\"psysml:feda5581-6f8c-419d-8ba7-a8a04be8503b\" xlink:show=\"new\" xlink:title=\"psysml:feda5581-6f8c-419d-8ba7-a8a04be8503b\" xlink:type=\"simple\"><rect fill=\"#FEFECE\" filter=\"url(#frruiuwxcnm8)\" height=\"75.5469\" id=\"E3\" style=\"stroke: #A80036; stroke-width: 1.5;\" width=\"66\" x=\"118\" y=\"194\"/><text fill=\"#000000\" font-family=\"sans-serif\" font-size=\"12\" font-style=\"italic\" lengthAdjust=\"spacingAndGlyphs\" textLength=\"64\" x=\"119\" y=\"210.1387\">«part def»</text><text fill=\"#000000\" font-family=\"sans-serif\" font-size=\"12\" lengthAdjust=\"spacingAndGlyphs\" textLength=\"8\" x=\"147\" y=\"224.1074\">A</text><line style=\"stroke: #A80036; stroke-width: 1.5;\" x1=\"119\" x2=\"183\" y1=\"231.9375\" y2=\"231.9375\"/><text fill=\"#000000\" font-family=\"sans-serif\" font-size=\"11\" lengthAdjust=\"spacingAndGlyphs\" textLength=\"22\" x=\"124\" y=\"262.9526\">c: C</text><line style=\"stroke: #A80036; stroke-width: 1.0;\" x1=\"119\" x2=\"136\" y1=\"246.3398\" y2=\"246.3398\"/><text fill=\"#000000\" font-family=\"sans-serif\" font-size=\"11\" lengthAdjust=\"spacingAndGlyphs\" textLength=\"30\" x=\"136\" y=\"249.6479\">ports</text><line style=\"stroke: #A80036; stroke-width: 1.0;\" x1=\"166\" x2=\"183\" y1=\"246.3398\" y2=\"246.3398\"/></a><!--MD5=[ebbe1d658d1005bcc118a6aa81145e00]\n",
       "class E4--><a href=\"psysml:ebd0a90b-6b0b-4fe7-b689-bf63abb6537b\" target=\"_top\" title=\"psysml:ebd0a90b-6b0b-4fe7-b689-bf63abb6537b\" xlink:actuate=\"onRequest\" xlink:href=\"psysml:ebd0a90b-6b0b-4fe7-b689-bf63abb6537b\" xlink:show=\"new\" xlink:title=\"psysml:ebd0a90b-6b0b-4fe7-b689-bf63abb6537b\" xlink:type=\"simple\"><rect fill=\"#FEFECE\" filter=\"url(#frruiuwxcnm8)\" height=\"45.9375\" id=\"E4\" rx=\"10\" ry=\"10\" style=\"stroke: #A80036; stroke-width: 1.5;\" width=\"42\" x=\"106\" y=\"347\"/><text fill=\"#000000\" font-family=\"sans-serif\" font-size=\"12\" font-style=\"italic\" lengthAdjust=\"spacingAndGlyphs\" textLength=\"40\" x=\"107\" y=\"363.1387\">«part»</text><text fill=\"#000000\" font-family=\"sans-serif\" font-size=\"12\" lengthAdjust=\"spacingAndGlyphs\" textLength=\"24\" x=\"115\" y=\"377.1074\">b: B</text><line style=\"stroke: #A80036; stroke-width: 1.5;\" x1=\"107\" x2=\"147\" y1=\"384.9375\" y2=\"384.9375\"/></a><!--MD5=[60a26617385b1d2d0262a64233df1f8d]\n",
       "class E6--><a href=\"psysml:7287ae62-763a-4b84-8405-f658443750c5\" target=\"_top\" title=\"psysml:7287ae62-763a-4b84-8405-f658443750c5\" xlink:actuate=\"onRequest\" xlink:href=\"psysml:7287ae62-763a-4b84-8405-f658443750c5\" xlink:show=\"new\" xlink:title=\"psysml:7287ae62-763a-4b84-8405-f658443750c5\" xlink:type=\"simple\"><rect fill=\"#FEFECE\" filter=\"url(#frruiuwxcnm8)\" height=\"75.5469\" id=\"E6\" style=\"stroke: #A80036; stroke-width: 1.5;\" width=\"66\" x=\"77\" y=\"454\"/><text fill=\"#000000\" font-family=\"sans-serif\" font-size=\"12\" font-style=\"italic\" lengthAdjust=\"spacingAndGlyphs\" textLength=\"64\" x=\"78\" y=\"470.1387\">«part def»</text><text fill=\"#000000\" font-family=\"sans-serif\" font-size=\"12\" lengthAdjust=\"spacingAndGlyphs\" textLength=\"8\" x=\"106\" y=\"484.1074\">B</text><line style=\"stroke: #A80036; stroke-width: 1.5;\" x1=\"78\" x2=\"142\" y1=\"491.9375\" y2=\"491.9375\"/><text fill=\"#000000\" font-family=\"sans-serif\" font-size=\"11\" lengthAdjust=\"spacingAndGlyphs\" textLength=\"31\" x=\"83\" y=\"522.9526\">x: ~C</text><line style=\"stroke: #A80036; stroke-width: 1.0;\" x1=\"78\" x2=\"95\" y1=\"506.3398\" y2=\"506.3398\"/><text fill=\"#000000\" font-family=\"sans-serif\" font-size=\"11\" lengthAdjust=\"spacingAndGlyphs\" textLength=\"30\" x=\"95\" y=\"509.6479\">ports</text><line style=\"stroke: #A80036; stroke-width: 1.0;\" x1=\"125\" x2=\"142\" y1=\"506.3398\" y2=\"506.3398\"/></a><!--MD5=[b9389687b975829384b498ac4b7476b2]\n",
       "class E8--><a href=\"psysml:4e9eccbd-3da0-4f6c-a773-1d808904fdc5\" target=\"_top\" title=\"psysml:4e9eccbd-3da0-4f6c-a773-1d808904fdc5\" xlink:actuate=\"onRequest\" xlink:href=\"psysml:4e9eccbd-3da0-4f6c-a773-1d808904fdc5\" xlink:show=\"new\" xlink:title=\"psysml:4e9eccbd-3da0-4f6c-a773-1d808904fdc5\" xlink:type=\"simple\"><rect fill=\"#FEFECE\" filter=\"url(#frruiuwxcnm8)\" height=\"45.9375\" id=\"E8\" rx=\"10\" ry=\"10\" style=\"stroke: #A80036; stroke-width: 1.5;\" width=\"42\" x=\"151\" y=\"594.5\"/><text fill=\"#000000\" font-family=\"sans-serif\" font-size=\"12\" font-style=\"italic\" lengthAdjust=\"spacingAndGlyphs\" textLength=\"40\" x=\"152\" y=\"610.6387\">«part»</text><text fill=\"#000000\" font-family=\"sans-serif\" font-size=\"12\" lengthAdjust=\"spacingAndGlyphs\" textLength=\"24\" x=\"160\" y=\"624.6074\">a: A</text><line style=\"stroke: #A80036; stroke-width: 1.5;\" x1=\"152\" x2=\"192\" y1=\"632.4375\" y2=\"632.4375\"/></a><!--MD5=[96f4274e9e20536e775497830990834d]\n",
       "class E10--><a href=\"psysml:8c4f99f3-2675-4f4d-a756-da09d407570d\" target=\"_top\" title=\"psysml:8c4f99f3-2675-4f4d-a756-da09d407570d\" xlink:actuate=\"onRequest\" xlink:href=\"psysml:8c4f99f3-2675-4f4d-a756-da09d407570d\" xlink:show=\"new\" xlink:title=\"psysml:8c4f99f3-2675-4f4d-a756-da09d407570d\" xlink:type=\"simple\"><rect fill=\"#FEFECE\" filter=\"url(#frruiuwxcnm8)\" height=\"75.5469\" id=\"E10\" style=\"stroke: #A80036; stroke-width: 1.5;\" width=\"84\" x=\"32\" y=\"41\"/><text fill=\"#000000\" font-family=\"sans-serif\" font-size=\"12\" font-style=\"italic\" lengthAdjust=\"spacingAndGlyphs\" textLength=\"64\" x=\"42\" y=\"57.1387\">«port def»</text><text fill=\"#000000\" font-family=\"sans-serif\" font-size=\"12\" lengthAdjust=\"spacingAndGlyphs\" textLength=\"8\" x=\"70\" y=\"71.1074\">C</text><line style=\"stroke: #A80036; stroke-width: 1.5;\" x1=\"33\" x2=\"115\" y1=\"78.9375\" y2=\"78.9375\"/><text fill=\"#000000\" font-family=\"sans-serif\" font-size=\"11\" lengthAdjust=\"spacingAndGlyphs\" textLength=\"37\" x=\"38\" y=\"109.9526\">y: A, B</text><text fill=\"#000000\" font-family=\"sans-serif\" font-size=\"11\" font-weight=\"bold\" lengthAdjust=\"spacingAndGlyphs\" textLength=\"15\" x=\"79\" y=\"109.9526\">as</text><text fill=\"#000000\" font-family=\"sans-serif\" font-size=\"11\" lengthAdjust=\"spacingAndGlyphs\" textLength=\"12\" x=\"98\" y=\"109.9526\">z2</text><line style=\"stroke: #A80036; stroke-width: 1.0;\" x1=\"33\" x2=\"43\" y1=\"93.3398\" y2=\"93.3398\"/><text fill=\"#000000\" font-family=\"sans-serif\" font-size=\"11\" lengthAdjust=\"spacingAndGlyphs\" textLength=\"62\" x=\"43\" y=\"96.6479\">references</text><line style=\"stroke: #A80036; stroke-width: 1.0;\" x1=\"105\" x2=\"115\" y1=\"93.3398\" y2=\"93.3398\"/></a><a href=\"psysml:8a2f941b-3a97-4b54-9145-5eb7e96c5b49\" target=\"_top\" title=\"psysml:8a2f941b-3a97-4b54-9145-5eb7e96c5b49\" xlink:actuate=\"onRequest\" xlink:href=\"psysml:8a2f941b-3a97-4b54-9145-5eb7e96c5b49\" xlink:show=\"new\" xlink:title=\"psysml:8a2f941b-3a97-4b54-9145-5eb7e96c5b49\" xlink:type=\"simple\"><polygon fill=\"#FFFFFF\" filter=\"url(#frruiuwxcnm8)\" points=\"86,591,102,591,109,613.2969,116,613.2969,116,643.5938,86,643.5938,86,591\" style=\"stroke: #000000; stroke-width: 1.5;\"/><line style=\"stroke: #000000; stroke-width: 1.5;\" x1=\"86\" x2=\"109\" y1=\"613.2969\" y2=\"613.2969\"/><text fill=\"#000000\" font-family=\"sans-serif\" font-size=\"14\" font-weight=\"bold\" lengthAdjust=\"spacingAndGlyphs\" textLength=\"10\" x=\"90\" y=\"605.9951\">P</text></a><!--MD5=[2720a5a1f2c3fca2055b230370638851]\n",
       "link E2 to E3--><a href=\"psysml:f1219804-170d-45ce-a1b2-74df9d2ed655\" target=\"_top\" title=\"psysml:f1219804-170d-45ce-a1b2-74df9d2ed655\" xlink:actuate=\"onRequest\" xlink:href=\"psysml:f1219804-170d-45ce-a1b2-74df9d2ed655\" xlink:show=\"new\" xlink:title=\"psysml:f1219804-170d-45ce-a1b2-74df9d2ed655\" xlink:type=\"simple\"><path d=\"M168.9,102.28 C166.28,121.12 162.41,148.97 158.94,173.94 \" fill=\"none\" id=\"E2-&gt;E3\" style=\"stroke: #A80036; stroke-width: 1.0;\"/><polygon fill=\"#FFFFFF\" points=\"156.15,193.98,151.8354,174.1966,165.7018,176.1261,156.15,193.98\" style=\"stroke: #A80036; stroke-width: 1.0;\"/><ellipse cx=\"154.6019\" cy=\"168.8266\" fill=\"#A80036\" rx=\"2\" ry=\"2\" style=\"stroke: #A80036; stroke-width: 1.0;\"/><ellipse cx=\"164.5065\" cy=\"170.2048\" fill=\"#A80036\" rx=\"2\" ry=\"2\" style=\"stroke: #A80036; stroke-width: 1.0;\"/></a><!--MD5=[4672eba38e49728da53d11aeb285b987]\n",
       "reverse link E3 to E4--><a href=\"psysml:ebd0a90b-6b0b-4fe7-b689-bf63abb6537b\" target=\"_top\" title=\"psysml:ebd0a90b-6b0b-4fe7-b689-bf63abb6537b\" xlink:actuate=\"onRequest\" xlink:href=\"psysml:ebd0a90b-6b0b-4fe7-b689-bf63abb6537b\" xlink:show=\"new\" xlink:title=\"psysml:ebd0a90b-6b0b-4fe7-b689-bf63abb6537b\" xlink:type=\"simple\"><path d=\"M142.17,283.02 C138.31,304.93 133.97,329.52 130.92,346.77 \" fill=\"none\" id=\"E3&lt;-E4\" style=\"stroke: #A80036; stroke-width: 1.0;\"/><polygon fill=\"#A80036\" points=\"144.44,270.16,139.4532,275.3688,142.3433,281.9754,147.3301,276.7666,144.44,270.16\" style=\"stroke: #A80036; stroke-width: 1.0;\"/></a><!--MD5=[79568f1e445c3877b6a54524624ccc7d]\n",
       "link E4 to E6--><a href=\"psysml:0b7e6d0b-da90-43fd-82ff-3f36fc5229c0\" target=\"_top\" title=\"psysml:0b7e6d0b-da90-43fd-82ff-3f36fc5229c0\" xlink:actuate=\"onRequest\" xlink:href=\"psysml:0b7e6d0b-da90-43fd-82ff-3f36fc5229c0\" xlink:show=\"new\" xlink:title=\"psysml:0b7e6d0b-da90-43fd-82ff-3f36fc5229c0\" xlink:type=\"simple\"><path d=\"M123.88,393.01 C122.25,404.51 120.18,419.17 118.13,433.62 \" fill=\"none\" id=\"E4-&gt;E6\" style=\"stroke: #A80036; stroke-width: 1.0;\"/><polygon fill=\"#FFFFFF\" points=\"115.3,453.57,111.0294,433.777,124.8914,435.7373,115.3,453.57\" style=\"stroke: #A80036; stroke-width: 1.0;\"/><ellipse cx=\"113.8078\" cy=\"428.4132\" fill=\"#A80036\" rx=\"2\" ry=\"2\" style=\"stroke: #A80036; stroke-width: 1.0;\"/><ellipse cx=\"123.7093\" cy=\"429.8134\" fill=\"#A80036\" rx=\"2\" ry=\"2\" style=\"stroke: #A80036; stroke-width: 1.0;\"/></a><!--MD5=[3f50a3473f1dfb74d3f76443e03635af]\n",
       "reverse link E6 to E7--><a href=\"psysml:8a2f941b-3a97-4b54-9145-5eb7e96c5b49\" target=\"_top\" title=\"psysml:8a2f941b-3a97-4b54-9145-5eb7e96c5b49\" xlink:actuate=\"onRequest\" xlink:href=\"psysml:8a2f941b-3a97-4b54-9145-5eb7e96c5b49\" xlink:show=\"new\" xlink:title=\"psysml:8a2f941b-3a97-4b54-9145-5eb7e96c5b49\" xlink:type=\"simple\"><path d=\"M106.18,545.35 C105.04,561.08 103.83,577.65 102.87,590.83 \" fill=\"none\" id=\"E6&lt;-E7\" style=\"stroke: #A80036; stroke-width: 1.0;\"/><ellipse cx=\"106.7138\" cy=\"538.0285\" fill=\"#FFFFFF\" rx=\"8\" ry=\"8\" style=\"stroke: #A80036; stroke-width: 1.0;\"/><line style=\"stroke: #A80036; stroke-width: 1.0;\" x1=\"106.1276\" x2=\"107.3\" y1=\"546.007\" y2=\"530.05\"/><line style=\"stroke: #A80036; stroke-width: 1.0;\" x1=\"98.7353\" x2=\"114.6923\" y1=\"537.4423\" y2=\"538.6147\"/></a><!--MD5=[95fa686b5a16158bcdbcaeead89f639b]\n",
       "link E8 to E3--><a href=\"psysml:edfb0c1d-eeea-43d5-bece-b0bce4203cff\" target=\"_top\" title=\"psysml:edfb0c1d-eeea-43d5-bece-b0bce4203cff\" xlink:actuate=\"onRequest\" xlink:href=\"psysml:edfb0c1d-eeea-43d5-bece-b0bce4203cff\" xlink:show=\"new\" xlink:title=\"psysml:edfb0c1d-eeea-43d5-bece-b0bce4203cff\" xlink:type=\"simple\"><path d=\"M172.32,594.45 C172.8,548.41 173.03,438.69 166,347 C164.57,328.37 162.18,308.13 159.73,289.94 \" fill=\"none\" id=\"E8-&gt;E3\" style=\"stroke: #A80036; stroke-width: 1.0;\"/><polygon fill=\"#FFFFFF\" points=\"156.92,270.12,166.5114,287.9527,152.6494,289.913,156.92,270.12\" style=\"stroke: #A80036; stroke-width: 1.0;\"/><ellipse cx=\"165.3293\" cy=\"293.8766\" fill=\"#A80036\" rx=\"2\" ry=\"2\" style=\"stroke: #A80036; stroke-width: 1.0;\"/><ellipse cx=\"155.4278\" cy=\"295.2768\" fill=\"#A80036\" rx=\"2\" ry=\"2\" style=\"stroke: #A80036; stroke-width: 1.0;\"/></a><!--MD5=[f4cf0736d43fd73c4ef68817c49d37d5]\n",
       "reverse link E6 to E8--><a href=\"psysml:4e9eccbd-3da0-4f6c-a773-1d808904fdc5\" target=\"_top\" title=\"psysml:4e9eccbd-3da0-4f6c-a773-1d808904fdc5\" xlink:actuate=\"onRequest\" xlink:href=\"psysml:4e9eccbd-3da0-4f6c-a773-1d808904fdc5\" xlink:show=\"new\" xlink:title=\"psysml:4e9eccbd-3da0-4f6c-a773-1d808904fdc5\" xlink:type=\"simple\"><path d=\"M134.44,541.68 C143.55,559.83 153.45,579.55 160.8,594.19 \" fill=\"none\" id=\"E6&lt;-E8\" style=\"stroke: #A80036; stroke-width: 1.0;\"/><polygon fill=\"#A80036\" points=\"128.6,530.05,127.7161,537.2067,133.9824,540.7752,134.8663,533.6185,128.6,530.05\" style=\"stroke: #A80036; stroke-width: 1.0;\"/></a><!--MD5=[8e04057e7b3cbc0dca4fc78ea351e2da]\n",
       "reverse link E10 to E3--><a href=\"psysml:800170d4-464e-4c2e-99b4-fb1d2de59c3f\" target=\"_top\" title=\"psysml:800170d4-464e-4c2e-99b4-fb1d2de59c3f\" xlink:actuate=\"onRequest\" xlink:href=\"psysml:800170d4-464e-4c2e-99b4-fb1d2de59c3f\" xlink:show=\"new\" xlink:title=\"psysml:800170d4-464e-4c2e-99b4-fb1d2de59c3f\" xlink:type=\"simple\"><path d=\"M98.98,128.98 C109.72,150.06 122.08,174.29 132.05,193.84 \" fill=\"none\" id=\"E10&lt;-E3\" style=\"stroke: #A80036; stroke-width: 1.0;\"/><polygon fill=\"#FFFFFF\" points=\"93.03,117.33,92.1919,124.4922,98.4809,128.0206,99.319,120.8583,93.03,117.33\" style=\"stroke: #A80036; stroke-width: 1.0;\"/><text fill=\"#000000\" font-family=\"sans-serif\" font-size=\"13\" lengthAdjust=\"spacingAndGlyphs\" textLength=\"7\" x=\"115\" y=\"160.0669\">y</text></a><!--MD5=[604cbf994c02b74b117f728a71673cea]\n",
       "reverse link E10 to E6--><a href=\"psysml:800170d4-464e-4c2e-99b4-fb1d2de59c3f\" target=\"_top\" title=\"psysml:800170d4-464e-4c2e-99b4-fb1d2de59c3f\" xlink:actuate=\"onRequest\" xlink:href=\"psysml:800170d4-464e-4c2e-99b4-fb1d2de59c3f\" xlink:show=\"new\" xlink:title=\"psysml:800170d4-464e-4c2e-99b4-fb1d2de59c3f\" xlink:type=\"simple\"><path d=\"M73.89,130.53 C74.34,192.6 77.02,300.97 89,393 C91.63,413.19 96.24,435.39 100.47,453.55 \" fill=\"none\" id=\"E10&lt;-E6\" style=\"stroke: #A80036; stroke-width: 1.0;\"/><polygon fill=\"#FFFFFF\" points=\"73.83,117.27,69.863,123.2919,73.8959,129.2698,77.8629,123.2479,73.83,117.27\" style=\"stroke: #A80036; stroke-width: 1.0;\"/><text fill=\"#000000\" font-family=\"sans-serif\" font-size=\"13\" lengthAdjust=\"spacingAndGlyphs\" textLength=\"7\" x=\"82\" y=\"313.0669\">y</text></a><!--MD5=[1440fcb86fd19c6f6f9da29c3b779904]\n",
       "@startuml\r\n",
       "skinparam wrapWidth 300\r\n",
       "hide circle\r\n",
       "\r\n",
       "package \"BlockTest\" as E1  [[psysml:1f80f8be-3c31-4480-9ece-24461005c64a ]]  {\r\n",
       "comp usage \"f: A\" as E2  <<(T,blue)part>> [[psysml:77ca47e2-95bd-4f5e-baaf-35974d96745c ]] {\r\n",
       "}\r\n",
       "comp def \"A\" as E3  <<(T,blue)part def>> [[psysml:feda5581-6f8c-419d-8ba7-a8a04be8503b ]] {\r\n",
       "- - ports - -\r\n",
       "c: C\r\n",
       "}\r\n",
       "comp usage \"b: B\" as E4  <<(T,blue)part>> [[psysml:ebd0a90b-6b0b-4fe7-b689-bf63abb6537b ]] {\r\n",
       "}\r\n",
       "comp def \"B\" as E6  <<(T,blue)part def>> [[psysml:7287ae62-763a-4b84-8405-f658443750c5 ]] {\r\n",
       "- - ports - -\r\n",
       "x: ~C\r\n",
       "}\r\n",
       "package \"P\" as E7  [[psysml:8a2f941b-3a97-4b54-9145-5eb7e96c5b49 ]]  {\r\n",
       "}\r\n",
       "comp usage \"a: A\" as E8  <<(T,blue)part>> [[psysml:4e9eccbd-3da0-4f6c-a773-1d808904fdc5 ]] {\r\n",
       "}\r\n",
       "comp def \"C\" as E10  <<(T,blue)port def>> [[psysml:8c4f99f3-2675-4f4d-a756-da09d407570d ]] {\r\n",
       "- - references - -\r\n",
       "y: A, B <b>as</b> z2 \r\n",
       "}\r\n",
       "E2 - -:|> E3 [[psysml:f1219804-170d-45ce-a1b2-74df9d2ed655 ]] \r\n",
       "E3 *- - E4 [[psysml:ebd0a90b-6b0b-4fe7-b689-bf63abb6537b ]] \r\n",
       "E4 - -:|> E6 [[psysml:0b7e6d0b-da90-43fd-82ff-3f36fc5229c0 ]] \r\n",
       "E6 +- - E7 [[psysml:8a2f941b-3a97-4b54-9145-5eb7e96c5b49 ]] \r\n",
       "E8 - -:|> E3 [[psysml:edfb0c1d-eeea-43d5-bece-b0bce4203cff ]] \r\n",
       "E6 *- - E8 [[psysml:4e9eccbd-3da0-4f6c-a773-1d808904fdc5 ]] \r\n",
       "E10 o- - E3 [[psysml:800170d4-464e-4c2e-99b4-fb1d2de59c3f ]] : y\r\n",
       "E10 o- - E6 [[psysml:800170d4-464e-4c2e-99b4-fb1d2de59c3f ]] : y\r\n",
       "}\r\n",
       "@enduml\r\n",
       "\n",
       "PlantUML version 1.2020.13(Sat Jun 13 12:26:38 UTC 2020)\n",
       "(EPL source distribution)\n",
       "Java Runtime: OpenJDK Runtime Environment\n",
       "JVM: OpenJDK 64-Bit Server VM\n",
       "Default Encoding: UTF-8\n",
       "Language: en\n",
       "Country: null\n",
       "--></g></svg>"
      ]
     },
     "execution_count": 23,
     "metadata": {},
     "output_type": "execute_result"
    }
   ],
   "source": [
    "%viz --style=\"STDCOLOR\" --view=\"Default\" \"BlockTest\""
   ]
  },
  {
   "cell_type": "code",
   "execution_count": 24,
   "id": "valuable-westminster",
   "metadata": {
    "execution": {
     "iopub.execute_input": "2021-03-26T12:07:38.915511Z",
     "iopub.status.busy": "2021-03-26T12:07:38.914566Z",
     "iopub.status.idle": "2021-03-26T12:07:38.986356Z",
     "shell.execute_reply": "2021-03-26T12:07:38.984653Z"
    }
   },
   "outputs": [
    {
     "data": {
      "image/svg+xml": [
       "<?xml version=\"1.0\" encoding=\"UTF-8\" standalone=\"no\"?><svg xmlns=\"http://www.w3.org/2000/svg\" xmlns:xlink=\"http://www.w3.org/1999/xlink\" contentScriptType=\"application/ecmascript\" contentStyleType=\"text/css\" height=\"672px\" preserveAspectRatio=\"none\" style=\"width:231px;height:672px;\" version=\"1.1\" viewBox=\"0 0 231 672\" width=\"231px\" zoomAndPan=\"magnify\"><defs><filter height=\"300%\" id=\"frruiuwxcnm8\" width=\"300%\" x=\"-1\" y=\"-1\"><feGaussianBlur result=\"blurOut\" stdDeviation=\"2.0\"/><feColorMatrix in=\"blurOut\" result=\"blurOut2\" type=\"matrix\" values=\"0 0 0 0 0 0 0 0 0 0 0 0 0 0 0 0 0 0 .4 0\"/><feOffset dx=\"4.0\" dy=\"4.0\" in=\"blurOut2\" result=\"blurOut3\"/><feBlend in=\"SourceGraphic\" in2=\"blurOut3\" mode=\"normal\"/></filter></defs><g><!--MD5=[fbc87193dbaf4d95561dea2c320d4a47]\n",
       "cluster E1--><a href=\"psysml:1f80f8be-3c31-4480-9ece-24461005c64a\" target=\"_top\" title=\"psysml:1f80f8be-3c31-4480-9ece-24461005c64a\" xlink:actuate=\"onRequest\" xlink:href=\"psysml:1f80f8be-3c31-4480-9ece-24461005c64a\" xlink:show=\"new\" xlink:title=\"psysml:1f80f8be-3c31-4480-9ece-24461005c64a\" xlink:type=\"simple\"><polygon fill=\"#FFFFFF\" filter=\"url(#frruiuwxcnm8)\" points=\"16,6,99,6,106,28.2969,209,28.2969,209,660,16,660,16,6\" style=\"stroke: #000000; stroke-width: 1.5;\"/><line style=\"stroke: #000000; stroke-width: 1.5;\" x1=\"16\" x2=\"106\" y1=\"28.2969\" y2=\"28.2969\"/><text fill=\"#000000\" font-family=\"sans-serif\" font-size=\"14\" font-weight=\"bold\" lengthAdjust=\"spacingAndGlyphs\" textLength=\"77\" x=\"20\" y=\"20.9951\">BlockTest</text></a><!--MD5=[b4997ac47864f28c2f74865a473b2911]\n",
       "class E2--><a href=\"psysml:77ca47e2-95bd-4f5e-baaf-35974d96745c\" target=\"_top\" title=\"psysml:77ca47e2-95bd-4f5e-baaf-35974d96745c\" xlink:actuate=\"onRequest\" xlink:href=\"psysml:77ca47e2-95bd-4f5e-baaf-35974d96745c\" xlink:show=\"new\" xlink:title=\"psysml:77ca47e2-95bd-4f5e-baaf-35974d96745c\" xlink:type=\"simple\"><rect fill=\"#FEFECE\" filter=\"url(#frruiuwxcnm8)\" height=\"45.9375\" id=\"E2\" rx=\"10\" ry=\"10\" style=\"stroke: #A80036; stroke-width: 1.5;\" width=\"42\" x=\"151\" y=\"56\"/><text fill=\"#000000\" font-family=\"sans-serif\" font-size=\"12\" font-style=\"italic\" lengthAdjust=\"spacingAndGlyphs\" textLength=\"40\" x=\"152\" y=\"72.1387\">«part»</text><text fill=\"#000000\" font-family=\"sans-serif\" font-size=\"12\" lengthAdjust=\"spacingAndGlyphs\" textLength=\"20\" x=\"162\" y=\"86.1074\">f: A</text><line style=\"stroke: #A80036; stroke-width: 1.5;\" x1=\"152\" x2=\"192\" y1=\"93.9375\" y2=\"93.9375\"/></a><!--MD5=[09b614a08d8cba4a07c9adeb5e0fee81]\n",
       "class E3--><a href=\"psysml:feda5581-6f8c-419d-8ba7-a8a04be8503b\" target=\"_top\" title=\"psysml:feda5581-6f8c-419d-8ba7-a8a04be8503b\" xlink:actuate=\"onRequest\" xlink:href=\"psysml:feda5581-6f8c-419d-8ba7-a8a04be8503b\" xlink:show=\"new\" xlink:title=\"psysml:feda5581-6f8c-419d-8ba7-a8a04be8503b\" xlink:type=\"simple\"><rect fill=\"#FEFECE\" filter=\"url(#frruiuwxcnm8)\" height=\"75.5469\" id=\"E3\" style=\"stroke: #A80036; stroke-width: 1.5;\" width=\"66\" x=\"118\" y=\"194\"/><text fill=\"#000000\" font-family=\"sans-serif\" font-size=\"12\" font-style=\"italic\" lengthAdjust=\"spacingAndGlyphs\" textLength=\"64\" x=\"119\" y=\"210.1387\">«part def»</text><text fill=\"#000000\" font-family=\"sans-serif\" font-size=\"12\" lengthAdjust=\"spacingAndGlyphs\" textLength=\"8\" x=\"147\" y=\"224.1074\">A</text><line style=\"stroke: #A80036; stroke-width: 1.5;\" x1=\"119\" x2=\"183\" y1=\"231.9375\" y2=\"231.9375\"/><text fill=\"#000000\" font-family=\"sans-serif\" font-size=\"11\" lengthAdjust=\"spacingAndGlyphs\" textLength=\"22\" x=\"124\" y=\"262.9526\">c: C</text><line style=\"stroke: #A80036; stroke-width: 1.0;\" x1=\"119\" x2=\"136\" y1=\"246.3398\" y2=\"246.3398\"/><text fill=\"#000000\" font-family=\"sans-serif\" font-size=\"11\" lengthAdjust=\"spacingAndGlyphs\" textLength=\"30\" x=\"136\" y=\"249.6479\">ports</text><line style=\"stroke: #A80036; stroke-width: 1.0;\" x1=\"166\" x2=\"183\" y1=\"246.3398\" y2=\"246.3398\"/></a><!--MD5=[ebbe1d658d1005bcc118a6aa81145e00]\n",
       "class E4--><a href=\"psysml:ebd0a90b-6b0b-4fe7-b689-bf63abb6537b\" target=\"_top\" title=\"psysml:ebd0a90b-6b0b-4fe7-b689-bf63abb6537b\" xlink:actuate=\"onRequest\" xlink:href=\"psysml:ebd0a90b-6b0b-4fe7-b689-bf63abb6537b\" xlink:show=\"new\" xlink:title=\"psysml:ebd0a90b-6b0b-4fe7-b689-bf63abb6537b\" xlink:type=\"simple\"><rect fill=\"#FEFECE\" filter=\"url(#frruiuwxcnm8)\" height=\"45.9375\" id=\"E4\" rx=\"10\" ry=\"10\" style=\"stroke: #A80036; stroke-width: 1.5;\" width=\"42\" x=\"106\" y=\"347\"/><text fill=\"#000000\" font-family=\"sans-serif\" font-size=\"12\" font-style=\"italic\" lengthAdjust=\"spacingAndGlyphs\" textLength=\"40\" x=\"107\" y=\"363.1387\">«part»</text><text fill=\"#000000\" font-family=\"sans-serif\" font-size=\"12\" lengthAdjust=\"spacingAndGlyphs\" textLength=\"24\" x=\"115\" y=\"377.1074\">b: B</text><line style=\"stroke: #A80036; stroke-width: 1.5;\" x1=\"107\" x2=\"147\" y1=\"384.9375\" y2=\"384.9375\"/></a><!--MD5=[60a26617385b1d2d0262a64233df1f8d]\n",
       "class E6--><a href=\"psysml:7287ae62-763a-4b84-8405-f658443750c5\" target=\"_top\" title=\"psysml:7287ae62-763a-4b84-8405-f658443750c5\" xlink:actuate=\"onRequest\" xlink:href=\"psysml:7287ae62-763a-4b84-8405-f658443750c5\" xlink:show=\"new\" xlink:title=\"psysml:7287ae62-763a-4b84-8405-f658443750c5\" xlink:type=\"simple\"><rect fill=\"#FEFECE\" filter=\"url(#frruiuwxcnm8)\" height=\"75.5469\" id=\"E6\" style=\"stroke: #A80036; stroke-width: 1.5;\" width=\"66\" x=\"77\" y=\"454\"/><text fill=\"#000000\" font-family=\"sans-serif\" font-size=\"12\" font-style=\"italic\" lengthAdjust=\"spacingAndGlyphs\" textLength=\"64\" x=\"78\" y=\"470.1387\">«part def»</text><text fill=\"#000000\" font-family=\"sans-serif\" font-size=\"12\" lengthAdjust=\"spacingAndGlyphs\" textLength=\"8\" x=\"106\" y=\"484.1074\">B</text><line style=\"stroke: #A80036; stroke-width: 1.5;\" x1=\"78\" x2=\"142\" y1=\"491.9375\" y2=\"491.9375\"/><text fill=\"#000000\" font-family=\"sans-serif\" font-size=\"11\" lengthAdjust=\"spacingAndGlyphs\" textLength=\"31\" x=\"83\" y=\"522.9526\">x: ~C</text><line style=\"stroke: #A80036; stroke-width: 1.0;\" x1=\"78\" x2=\"95\" y1=\"506.3398\" y2=\"506.3398\"/><text fill=\"#000000\" font-family=\"sans-serif\" font-size=\"11\" lengthAdjust=\"spacingAndGlyphs\" textLength=\"30\" x=\"95\" y=\"509.6479\">ports</text><line style=\"stroke: #A80036; stroke-width: 1.0;\" x1=\"125\" x2=\"142\" y1=\"506.3398\" y2=\"506.3398\"/></a><!--MD5=[b9389687b975829384b498ac4b7476b2]\n",
       "class E8--><a href=\"psysml:4e9eccbd-3da0-4f6c-a773-1d808904fdc5\" target=\"_top\" title=\"psysml:4e9eccbd-3da0-4f6c-a773-1d808904fdc5\" xlink:actuate=\"onRequest\" xlink:href=\"psysml:4e9eccbd-3da0-4f6c-a773-1d808904fdc5\" xlink:show=\"new\" xlink:title=\"psysml:4e9eccbd-3da0-4f6c-a773-1d808904fdc5\" xlink:type=\"simple\"><rect fill=\"#FEFECE\" filter=\"url(#frruiuwxcnm8)\" height=\"45.9375\" id=\"E8\" rx=\"10\" ry=\"10\" style=\"stroke: #A80036; stroke-width: 1.5;\" width=\"42\" x=\"151\" y=\"594.5\"/><text fill=\"#000000\" font-family=\"sans-serif\" font-size=\"12\" font-style=\"italic\" lengthAdjust=\"spacingAndGlyphs\" textLength=\"40\" x=\"152\" y=\"610.6387\">«part»</text><text fill=\"#000000\" font-family=\"sans-serif\" font-size=\"12\" lengthAdjust=\"spacingAndGlyphs\" textLength=\"24\" x=\"160\" y=\"624.6074\">a: A</text><line style=\"stroke: #A80036; stroke-width: 1.5;\" x1=\"152\" x2=\"192\" y1=\"632.4375\" y2=\"632.4375\"/></a><!--MD5=[96f4274e9e20536e775497830990834d]\n",
       "class E10--><a href=\"psysml:8c4f99f3-2675-4f4d-a756-da09d407570d\" target=\"_top\" title=\"psysml:8c4f99f3-2675-4f4d-a756-da09d407570d\" xlink:actuate=\"onRequest\" xlink:href=\"psysml:8c4f99f3-2675-4f4d-a756-da09d407570d\" xlink:show=\"new\" xlink:title=\"psysml:8c4f99f3-2675-4f4d-a756-da09d407570d\" xlink:type=\"simple\"><rect fill=\"#FEFECE\" filter=\"url(#frruiuwxcnm8)\" height=\"75.5469\" id=\"E10\" style=\"stroke: #A80036; stroke-width: 1.5;\" width=\"84\" x=\"32\" y=\"41\"/><text fill=\"#000000\" font-family=\"sans-serif\" font-size=\"12\" font-style=\"italic\" lengthAdjust=\"spacingAndGlyphs\" textLength=\"64\" x=\"42\" y=\"57.1387\">«port def»</text><text fill=\"#000000\" font-family=\"sans-serif\" font-size=\"12\" lengthAdjust=\"spacingAndGlyphs\" textLength=\"8\" x=\"70\" y=\"71.1074\">C</text><line style=\"stroke: #A80036; stroke-width: 1.5;\" x1=\"33\" x2=\"115\" y1=\"78.9375\" y2=\"78.9375\"/><text fill=\"#000000\" font-family=\"sans-serif\" font-size=\"11\" lengthAdjust=\"spacingAndGlyphs\" textLength=\"37\" x=\"38\" y=\"109.9526\">y: A, B</text><text fill=\"#000000\" font-family=\"sans-serif\" font-size=\"11\" font-weight=\"bold\" lengthAdjust=\"spacingAndGlyphs\" textLength=\"15\" x=\"79\" y=\"109.9526\">as</text><text fill=\"#000000\" font-family=\"sans-serif\" font-size=\"11\" lengthAdjust=\"spacingAndGlyphs\" textLength=\"12\" x=\"98\" y=\"109.9526\">z2</text><line style=\"stroke: #A80036; stroke-width: 1.0;\" x1=\"33\" x2=\"43\" y1=\"93.3398\" y2=\"93.3398\"/><text fill=\"#000000\" font-family=\"sans-serif\" font-size=\"11\" lengthAdjust=\"spacingAndGlyphs\" textLength=\"62\" x=\"43\" y=\"96.6479\">references</text><line style=\"stroke: #A80036; stroke-width: 1.0;\" x1=\"105\" x2=\"115\" y1=\"93.3398\" y2=\"93.3398\"/></a><a href=\"psysml:8a2f941b-3a97-4b54-9145-5eb7e96c5b49\" target=\"_top\" title=\"psysml:8a2f941b-3a97-4b54-9145-5eb7e96c5b49\" xlink:actuate=\"onRequest\" xlink:href=\"psysml:8a2f941b-3a97-4b54-9145-5eb7e96c5b49\" xlink:show=\"new\" xlink:title=\"psysml:8a2f941b-3a97-4b54-9145-5eb7e96c5b49\" xlink:type=\"simple\"><polygon fill=\"#FFFFFF\" filter=\"url(#frruiuwxcnm8)\" points=\"86,591,102,591,109,613.2969,116,613.2969,116,643.5938,86,643.5938,86,591\" style=\"stroke: #000000; stroke-width: 1.5;\"/><line style=\"stroke: #000000; stroke-width: 1.5;\" x1=\"86\" x2=\"109\" y1=\"613.2969\" y2=\"613.2969\"/><text fill=\"#000000\" font-family=\"sans-serif\" font-size=\"14\" font-weight=\"bold\" lengthAdjust=\"spacingAndGlyphs\" textLength=\"10\" x=\"90\" y=\"605.9951\">P</text></a><!--MD5=[2720a5a1f2c3fca2055b230370638851]\n",
       "link E2 to E3--><a href=\"psysml:f1219804-170d-45ce-a1b2-74df9d2ed655\" target=\"_top\" title=\"psysml:f1219804-170d-45ce-a1b2-74df9d2ed655\" xlink:actuate=\"onRequest\" xlink:href=\"psysml:f1219804-170d-45ce-a1b2-74df9d2ed655\" xlink:show=\"new\" xlink:title=\"psysml:f1219804-170d-45ce-a1b2-74df9d2ed655\" xlink:type=\"simple\"><path d=\"M168.9,102.28 C166.28,121.12 162.41,148.97 158.94,173.94 \" fill=\"none\" id=\"E2-&gt;E3\" style=\"stroke: #A80036; stroke-width: 1.0;\"/><polygon fill=\"#FFFFFF\" points=\"156.15,193.98,151.8354,174.1966,165.7018,176.1261,156.15,193.98\" style=\"stroke: #A80036; stroke-width: 1.0;\"/><ellipse cx=\"154.6019\" cy=\"168.8266\" fill=\"#A80036\" rx=\"2\" ry=\"2\" style=\"stroke: #A80036; stroke-width: 1.0;\"/><ellipse cx=\"164.5065\" cy=\"170.2048\" fill=\"#A80036\" rx=\"2\" ry=\"2\" style=\"stroke: #A80036; stroke-width: 1.0;\"/></a><!--MD5=[4672eba38e49728da53d11aeb285b987]\n",
       "reverse link E3 to E4--><a href=\"psysml:ebd0a90b-6b0b-4fe7-b689-bf63abb6537b\" target=\"_top\" title=\"psysml:ebd0a90b-6b0b-4fe7-b689-bf63abb6537b\" xlink:actuate=\"onRequest\" xlink:href=\"psysml:ebd0a90b-6b0b-4fe7-b689-bf63abb6537b\" xlink:show=\"new\" xlink:title=\"psysml:ebd0a90b-6b0b-4fe7-b689-bf63abb6537b\" xlink:type=\"simple\"><path d=\"M142.17,283.02 C138.31,304.93 133.97,329.52 130.92,346.77 \" fill=\"none\" id=\"E3&lt;-E4\" style=\"stroke: #A80036; stroke-width: 1.0;\"/><polygon fill=\"#A80036\" points=\"144.44,270.16,139.4532,275.3688,142.3433,281.9754,147.3301,276.7666,144.44,270.16\" style=\"stroke: #A80036; stroke-width: 1.0;\"/></a><!--MD5=[79568f1e445c3877b6a54524624ccc7d]\n",
       "link E4 to E6--><a href=\"psysml:0b7e6d0b-da90-43fd-82ff-3f36fc5229c0\" target=\"_top\" title=\"psysml:0b7e6d0b-da90-43fd-82ff-3f36fc5229c0\" xlink:actuate=\"onRequest\" xlink:href=\"psysml:0b7e6d0b-da90-43fd-82ff-3f36fc5229c0\" xlink:show=\"new\" xlink:title=\"psysml:0b7e6d0b-da90-43fd-82ff-3f36fc5229c0\" xlink:type=\"simple\"><path d=\"M123.88,393.01 C122.25,404.51 120.18,419.17 118.13,433.62 \" fill=\"none\" id=\"E4-&gt;E6\" style=\"stroke: #A80036; stroke-width: 1.0;\"/><polygon fill=\"#FFFFFF\" points=\"115.3,453.57,111.0294,433.777,124.8914,435.7373,115.3,453.57\" style=\"stroke: #A80036; stroke-width: 1.0;\"/><ellipse cx=\"113.8078\" cy=\"428.4132\" fill=\"#A80036\" rx=\"2\" ry=\"2\" style=\"stroke: #A80036; stroke-width: 1.0;\"/><ellipse cx=\"123.7093\" cy=\"429.8134\" fill=\"#A80036\" rx=\"2\" ry=\"2\" style=\"stroke: #A80036; stroke-width: 1.0;\"/></a><!--MD5=[3f50a3473f1dfb74d3f76443e03635af]\n",
       "reverse link E6 to E7--><a href=\"psysml:8a2f941b-3a97-4b54-9145-5eb7e96c5b49\" target=\"_top\" title=\"psysml:8a2f941b-3a97-4b54-9145-5eb7e96c5b49\" xlink:actuate=\"onRequest\" xlink:href=\"psysml:8a2f941b-3a97-4b54-9145-5eb7e96c5b49\" xlink:show=\"new\" xlink:title=\"psysml:8a2f941b-3a97-4b54-9145-5eb7e96c5b49\" xlink:type=\"simple\"><path d=\"M106.18,545.35 C105.04,561.08 103.83,577.65 102.87,590.83 \" fill=\"none\" id=\"E6&lt;-E7\" style=\"stroke: #A80036; stroke-width: 1.0;\"/><ellipse cx=\"106.7138\" cy=\"538.0285\" fill=\"#FFFFFF\" rx=\"8\" ry=\"8\" style=\"stroke: #A80036; stroke-width: 1.0;\"/><line style=\"stroke: #A80036; stroke-width: 1.0;\" x1=\"106.1276\" x2=\"107.3\" y1=\"546.007\" y2=\"530.05\"/><line style=\"stroke: #A80036; stroke-width: 1.0;\" x1=\"98.7353\" x2=\"114.6923\" y1=\"537.4423\" y2=\"538.6147\"/></a><!--MD5=[95fa686b5a16158bcdbcaeead89f639b]\n",
       "link E8 to E3--><a href=\"psysml:edfb0c1d-eeea-43d5-bece-b0bce4203cff\" target=\"_top\" title=\"psysml:edfb0c1d-eeea-43d5-bece-b0bce4203cff\" xlink:actuate=\"onRequest\" xlink:href=\"psysml:edfb0c1d-eeea-43d5-bece-b0bce4203cff\" xlink:show=\"new\" xlink:title=\"psysml:edfb0c1d-eeea-43d5-bece-b0bce4203cff\" xlink:type=\"simple\"><path d=\"M172.32,594.45 C172.8,548.41 173.03,438.69 166,347 C164.57,328.37 162.18,308.13 159.73,289.94 \" fill=\"none\" id=\"E8-&gt;E3\" style=\"stroke: #A80036; stroke-width: 1.0;\"/><polygon fill=\"#FFFFFF\" points=\"156.92,270.12,166.5114,287.9527,152.6494,289.913,156.92,270.12\" style=\"stroke: #A80036; stroke-width: 1.0;\"/><ellipse cx=\"165.3293\" cy=\"293.8766\" fill=\"#A80036\" rx=\"2\" ry=\"2\" style=\"stroke: #A80036; stroke-width: 1.0;\"/><ellipse cx=\"155.4278\" cy=\"295.2768\" fill=\"#A80036\" rx=\"2\" ry=\"2\" style=\"stroke: #A80036; stroke-width: 1.0;\"/></a><!--MD5=[f4cf0736d43fd73c4ef68817c49d37d5]\n",
       "reverse link E6 to E8--><a href=\"psysml:4e9eccbd-3da0-4f6c-a773-1d808904fdc5\" target=\"_top\" title=\"psysml:4e9eccbd-3da0-4f6c-a773-1d808904fdc5\" xlink:actuate=\"onRequest\" xlink:href=\"psysml:4e9eccbd-3da0-4f6c-a773-1d808904fdc5\" xlink:show=\"new\" xlink:title=\"psysml:4e9eccbd-3da0-4f6c-a773-1d808904fdc5\" xlink:type=\"simple\"><path d=\"M134.44,541.68 C143.55,559.83 153.45,579.55 160.8,594.19 \" fill=\"none\" id=\"E6&lt;-E8\" style=\"stroke: #A80036; stroke-width: 1.0;\"/><polygon fill=\"#A80036\" points=\"128.6,530.05,127.7161,537.2067,133.9824,540.7752,134.8663,533.6185,128.6,530.05\" style=\"stroke: #A80036; stroke-width: 1.0;\"/></a><!--MD5=[8e04057e7b3cbc0dca4fc78ea351e2da]\n",
       "reverse link E10 to E3--><a href=\"psysml:800170d4-464e-4c2e-99b4-fb1d2de59c3f\" target=\"_top\" title=\"psysml:800170d4-464e-4c2e-99b4-fb1d2de59c3f\" xlink:actuate=\"onRequest\" xlink:href=\"psysml:800170d4-464e-4c2e-99b4-fb1d2de59c3f\" xlink:show=\"new\" xlink:title=\"psysml:800170d4-464e-4c2e-99b4-fb1d2de59c3f\" xlink:type=\"simple\"><path d=\"M98.98,128.98 C109.72,150.06 122.08,174.29 132.05,193.84 \" fill=\"none\" id=\"E10&lt;-E3\" style=\"stroke: #A80036; stroke-width: 1.0;\"/><polygon fill=\"#FFFFFF\" points=\"93.03,117.33,92.1919,124.4922,98.4809,128.0206,99.319,120.8583,93.03,117.33\" style=\"stroke: #A80036; stroke-width: 1.0;\"/><text fill=\"#000000\" font-family=\"sans-serif\" font-size=\"13\" lengthAdjust=\"spacingAndGlyphs\" textLength=\"7\" x=\"115\" y=\"160.0669\">y</text></a><!--MD5=[604cbf994c02b74b117f728a71673cea]\n",
       "reverse link E10 to E6--><a href=\"psysml:800170d4-464e-4c2e-99b4-fb1d2de59c3f\" target=\"_top\" title=\"psysml:800170d4-464e-4c2e-99b4-fb1d2de59c3f\" xlink:actuate=\"onRequest\" xlink:href=\"psysml:800170d4-464e-4c2e-99b4-fb1d2de59c3f\" xlink:show=\"new\" xlink:title=\"psysml:800170d4-464e-4c2e-99b4-fb1d2de59c3f\" xlink:type=\"simple\"><path d=\"M73.89,130.53 C74.34,192.6 77.02,300.97 89,393 C91.63,413.19 96.24,435.39 100.47,453.55 \" fill=\"none\" id=\"E10&lt;-E6\" style=\"stroke: #A80036; stroke-width: 1.0;\"/><polygon fill=\"#FFFFFF\" points=\"73.83,117.27,69.863,123.2919,73.8959,129.2698,77.8629,123.2479,73.83,117.27\" style=\"stroke: #A80036; stroke-width: 1.0;\"/><text fill=\"#000000\" font-family=\"sans-serif\" font-size=\"13\" lengthAdjust=\"spacingAndGlyphs\" textLength=\"7\" x=\"82\" y=\"313.0669\">y</text></a><!--MD5=[1440fcb86fd19c6f6f9da29c3b779904]\n",
       "@startuml\r\n",
       "skinparam wrapWidth 300\r\n",
       "hide circle\r\n",
       "\r\n",
       "package \"BlockTest\" as E1  [[psysml:1f80f8be-3c31-4480-9ece-24461005c64a ]]  {\r\n",
       "comp usage \"f: A\" as E2  <<(T,blue)part>> [[psysml:77ca47e2-95bd-4f5e-baaf-35974d96745c ]] {\r\n",
       "}\r\n",
       "comp def \"A\" as E3  <<(T,blue)part def>> [[psysml:feda5581-6f8c-419d-8ba7-a8a04be8503b ]] {\r\n",
       "- - ports - -\r\n",
       "c: C\r\n",
       "}\r\n",
       "comp usage \"b: B\" as E4  <<(T,blue)part>> [[psysml:ebd0a90b-6b0b-4fe7-b689-bf63abb6537b ]] {\r\n",
       "}\r\n",
       "comp def \"B\" as E6  <<(T,blue)part def>> [[psysml:7287ae62-763a-4b84-8405-f658443750c5 ]] {\r\n",
       "- - ports - -\r\n",
       "x: ~C\r\n",
       "}\r\n",
       "package \"P\" as E7  [[psysml:8a2f941b-3a97-4b54-9145-5eb7e96c5b49 ]]  {\r\n",
       "}\r\n",
       "comp usage \"a: A\" as E8  <<(T,blue)part>> [[psysml:4e9eccbd-3da0-4f6c-a773-1d808904fdc5 ]] {\r\n",
       "}\r\n",
       "comp def \"C\" as E10  <<(T,blue)port def>> [[psysml:8c4f99f3-2675-4f4d-a756-da09d407570d ]] {\r\n",
       "- - references - -\r\n",
       "y: A, B <b>as</b> z2 \r\n",
       "}\r\n",
       "E2 - -:|> E3 [[psysml:f1219804-170d-45ce-a1b2-74df9d2ed655 ]] \r\n",
       "E3 *- - E4 [[psysml:ebd0a90b-6b0b-4fe7-b689-bf63abb6537b ]] \r\n",
       "E4 - -:|> E6 [[psysml:0b7e6d0b-da90-43fd-82ff-3f36fc5229c0 ]] \r\n",
       "E6 +- - E7 [[psysml:8a2f941b-3a97-4b54-9145-5eb7e96c5b49 ]] \r\n",
       "E8 - -:|> E3 [[psysml:edfb0c1d-eeea-43d5-bece-b0bce4203cff ]] \r\n",
       "E6 *- - E8 [[psysml:4e9eccbd-3da0-4f6c-a773-1d808904fdc5 ]] \r\n",
       "E10 o- - E3 [[psysml:800170d4-464e-4c2e-99b4-fb1d2de59c3f ]] : y\r\n",
       "E10 o- - E6 [[psysml:800170d4-464e-4c2e-99b4-fb1d2de59c3f ]] : y\r\n",
       "}\r\n",
       "@enduml\r\n",
       "\n",
       "PlantUML version 1.2020.13(Sat Jun 13 12:26:38 UTC 2020)\n",
       "(EPL source distribution)\n",
       "Java Runtime: OpenJDK Runtime Environment\n",
       "JVM: OpenJDK 64-Bit Server VM\n",
       "Default Encoding: UTF-8\n",
       "Language: en\n",
       "Country: null\n",
       "--></g></svg>"
      ]
     },
     "execution_count": 24,
     "metadata": {},
     "output_type": "execute_result"
    }
   ],
   "source": [
    "%viz --style=\"STDCOLOR\" --view=\"Tree\" \"BlockTest\""
   ]
  },
  {
   "cell_type": "code",
   "execution_count": 25,
   "id": "dietary-compensation",
   "metadata": {
    "execution": {
     "iopub.execute_input": "2021-03-26T12:07:39.038704Z",
     "iopub.status.busy": "2021-03-26T12:07:39.037835Z",
     "iopub.status.idle": "2021-03-26T12:07:39.045608Z",
     "shell.execute_reply": "2021-03-26T12:07:39.044812Z"
    }
   },
   "outputs": [
    {
     "data": {
      "image/svg+xml": [
       "<?xml version=\"1.0\" encoding=\"UTF-8\" standalone=\"no\"?><svg xmlns=\"http://www.w3.org/2000/svg\" xmlns:xlink=\"http://www.w3.org/1999/xlink\" contentScriptType=\"application/ecmascript\" contentStyleType=\"text/css\" height=\"12px\" preserveAspectRatio=\"none\" style=\"width:12px;height:12px;\" version=\"1.1\" viewBox=\"0 0 12 12\" width=\"12px\" zoomAndPan=\"magnify\"><defs/><g><!--MD5=[aeeef50f102b80d730deb6443d14f702]\n",
       "@startuml\r\n",
       "skinparam wrapWidth 300\r\n",
       "hide circle\r\n",
       "\r\n",
       "@enduml\r\n",
       "\n",
       "PlantUML version 1.2020.13(Sat Jun 13 12:26:38 UTC 2020)\n",
       "(EPL source distribution)\n",
       "Java Runtime: OpenJDK Runtime Environment\n",
       "JVM: OpenJDK 64-Bit Server VM\n",
       "Default Encoding: UTF-8\n",
       "Language: en\n",
       "Country: null\n",
       "--></g></svg>"
      ]
     },
     "execution_count": 25,
     "metadata": {},
     "output_type": "execute_result"
    }
   ],
   "source": [
    "%viz --style=\"STDCOLOR\" --view=\"State\" \"BlockTest\""
   ]
  },
  {
   "cell_type": "code",
   "execution_count": 26,
   "id": "renewable-passport",
   "metadata": {
    "execution": {
     "iopub.execute_input": "2021-03-26T12:07:39.099487Z",
     "iopub.status.busy": "2021-03-26T12:07:39.098666Z",
     "iopub.status.idle": "2021-03-26T12:07:39.135324Z",
     "shell.execute_reply": "2021-03-26T12:07:39.133600Z"
    }
   },
   "outputs": [
    {
     "data": {
      "image/svg+xml": [
       "<?xml version=\"1.0\" encoding=\"UTF-8\" standalone=\"no\"?><svg xmlns=\"http://www.w3.org/2000/svg\" xmlns:xlink=\"http://www.w3.org/1999/xlink\" contentScriptType=\"application/ecmascript\" contentStyleType=\"text/css\" height=\"245px\" preserveAspectRatio=\"none\" style=\"width:548px;height:245px;\" version=\"1.1\" viewBox=\"0 0 548 245\" width=\"548px\" zoomAndPan=\"magnify\"><defs><filter height=\"300%\" id=\"f133m7c7a4yw2w\" width=\"300%\" x=\"-1\" y=\"-1\"><feGaussianBlur result=\"blurOut\" stdDeviation=\"2.0\"/><feColorMatrix in=\"blurOut\" result=\"blurOut2\" type=\"matrix\" values=\"0 0 0 0 0 0 0 0 0 0 0 0 0 0 0 0 0 0 .4 0\"/><feOffset dx=\"4.0\" dy=\"4.0\" in=\"blurOut2\" result=\"blurOut3\"/><feBlend in=\"SourceGraphic\" in2=\"blurOut3\" mode=\"normal\"/></filter></defs><g><!--MD5=[fbc87193dbaf4d95561dea2c320d4a47]\n",
       "cluster E1--><a href=\"psysml:1f80f8be-3c31-4480-9ece-24461005c64a\" target=\"_top\" title=\"psysml:1f80f8be-3c31-4480-9ece-24461005c64a\" xlink:actuate=\"onRequest\" xlink:href=\"psysml:1f80f8be-3c31-4480-9ece-24461005c64a\" xlink:show=\"new\" xlink:title=\"psysml:1f80f8be-3c31-4480-9ece-24461005c64a\" xlink:type=\"simple\"><polygon fill=\"#FFFFFF\" filter=\"url(#f133m7c7a4yw2w)\" points=\"16,6,99,6,106,28.2969,526,28.2969,526,233,16,233,16,6\" style=\"stroke: #000000; stroke-width: 1.5;\"/><line style=\"stroke: #000000; stroke-width: 1.5;\" x1=\"16\" x2=\"106\" y1=\"28.2969\" y2=\"28.2969\"/><text fill=\"#000000\" font-family=\"sans-serif\" font-size=\"14\" font-weight=\"bold\" lengthAdjust=\"spacingAndGlyphs\" textLength=\"77\" x=\"20\" y=\"20.9951\">BlockTest</text></a><!--MD5=[d5e69f78d87373223dbae638b30a9c99]\n",
       "cluster E3--><a href=\"psysml:feda5581-6f8c-419d-8ba7-a8a04be8503b\" target=\"_top\" title=\"psysml:feda5581-6f8c-419d-8ba7-a8a04be8503b\" xlink:actuate=\"onRequest\" xlink:href=\"psysml:feda5581-6f8c-419d-8ba7-a8a04be8503b\" xlink:show=\"new\" xlink:title=\"psysml:feda5581-6f8c-419d-8ba7-a8a04be8503b\" xlink:type=\"simple\"><rect fill=\"#FFFFFF\" filter=\"url(#f133m7c7a4yw2w)\" height=\"154.5\" id=\"E3\" style=\"stroke: #A80036; stroke-width: 1.5;\" width=\"120\" x=\"390\" y=\"62.5\"/><rect fill=\"#FEFECE\" height=\"37.9375\" style=\"stroke: #A80036; stroke-width: 1.5;\" width=\"120\" x=\"390\" y=\"62.5\"/><text fill=\"#000000\" font-family=\"sans-serif\" font-size=\"12\" font-style=\"italic\" lengthAdjust=\"spacingAndGlyphs\" textLength=\"64\" x=\"418\" y=\"78.6387\">«part def»</text><text fill=\"#000000\" font-family=\"sans-serif\" font-size=\"12\" lengthAdjust=\"spacingAndGlyphs\" textLength=\"8\" x=\"446\" y=\"92.6074\">A</text></a><!--MD5=[14e3b0961a2654348d326746436168a1]\n",
       "cluster E6--><a href=\"psysml:7287ae62-763a-4b84-8405-f658443750c5\" target=\"_top\" title=\"psysml:7287ae62-763a-4b84-8405-f658443750c5\" xlink:actuate=\"onRequest\" xlink:href=\"psysml:7287ae62-763a-4b84-8405-f658443750c5\" xlink:show=\"new\" xlink:title=\"psysml:7287ae62-763a-4b84-8405-f658443750c5\" xlink:type=\"simple\"><rect fill=\"#FFFFFF\" filter=\"url(#f133m7c7a4yw2w)\" height=\"154.5\" id=\"E6\" style=\"stroke: #A80036; stroke-width: 1.5;\" width=\"185\" x=\"197\" y=\"62.5\"/><rect fill=\"#FEFECE\" height=\"37.9375\" style=\"stroke: #A80036; stroke-width: 1.5;\" width=\"185\" x=\"197\" y=\"62.5\"/><text fill=\"#000000\" font-family=\"sans-serif\" font-size=\"12\" font-style=\"italic\" lengthAdjust=\"spacingAndGlyphs\" textLength=\"64\" x=\"257.5\" y=\"78.6387\">«part def»</text><text fill=\"#000000\" font-family=\"sans-serif\" font-size=\"12\" lengthAdjust=\"spacingAndGlyphs\" textLength=\"8\" x=\"285.5\" y=\"92.6074\">B</text></a><g id=\"E1.E10\"><a href=\"psysml:8c4f99f3-2675-4f4d-a756-da09d407570d\" target=\"_top\" title=\"psysml:8c4f99f3-2675-4f4d-a756-da09d407570d\" xlink:actuate=\"onRequest\" xlink:href=\"psysml:8c4f99f3-2675-4f4d-a756-da09d407570d\" xlink:show=\"new\" xlink:title=\"psysml:8c4f99f3-2675-4f4d-a756-da09d407570d\" xlink:type=\"simple\"><rect fill=\"#FEFECE\" filter=\"url(#f133m7c7a4yw2w)\" height=\"42.9375\" id=\"E10\" style=\"stroke: #A80036; stroke-width: 1.5;\" width=\"71\" x=\"117.5\" y=\"41\"/><text fill=\"#000000\" font-family=\"sans-serif\" font-size=\"12\" font-style=\"italic\" lengthAdjust=\"spacingAndGlyphs\" textLength=\"64\" x=\"121\" y=\"57.1387\">«port def»</text><text fill=\"#000000\" font-family=\"sans-serif\" font-size=\"12\" lengthAdjust=\"spacingAndGlyphs\" textLength=\"8\" x=\"149\" y=\"71.1074\">C</text></a></g><g id=\"E1.E2\"><a href=\"psysml:77ca47e2-95bd-4f5e-baaf-35974d96745c\" target=\"_top\" title=\"psysml:77ca47e2-95bd-4f5e-baaf-35974d96745c\" xlink:actuate=\"onRequest\" xlink:href=\"psysml:77ca47e2-95bd-4f5e-baaf-35974d96745c\" xlink:show=\"new\" xlink:title=\"psysml:77ca47e2-95bd-4f5e-baaf-35974d96745c\" xlink:type=\"simple\"><rect fill=\"#FEFECE\" filter=\"url(#f133m7c7a4yw2w)\" height=\"40\" id=\"E2\" rx=\"10\" ry=\"10\" style=\"stroke: #A80036; stroke-width: 1.5;\" width=\"50\" x=\"32\" y=\"42.5\"/><text fill=\"#000000\" font-family=\"sans-serif\" font-size=\"12\" lengthAdjust=\"spacingAndGlyphs\" textLength=\"20\" x=\"47\" y=\"58.6387\">f: A</text></a></g><text fill=\"#000000\" font-family=\"sans-serif\" font-size=\"14\" lengthAdjust=\"spacingAndGlyphs\" textLength=\"27\" x=\"436.5\" y=\"41.1982\">c: C</text><rect fill=\"#A80036\" height=\"12\" style=\"stroke: #FEFECE; stroke-width: 1.5;\" width=\"12\" x=\"444\" y=\"56.5\"/><g id=\"E1.E3.E4\"><a href=\"psysml:ebd0a90b-6b0b-4fe7-b689-bf63abb6537b\" target=\"_top\" title=\"psysml:ebd0a90b-6b0b-4fe7-b689-bf63abb6537b\" xlink:actuate=\"onRequest\" xlink:href=\"psysml:ebd0a90b-6b0b-4fe7-b689-bf63abb6537b\" xlink:show=\"new\" xlink:title=\"psysml:ebd0a90b-6b0b-4fe7-b689-bf63abb6537b\" xlink:type=\"simple\"><rect fill=\"#FEFECE\" filter=\"url(#f133m7c7a4yw2w)\" height=\"40\" id=\"E4\" rx=\"10\" ry=\"10\" style=\"stroke: #A80036; stroke-width: 1.5;\" width=\"50\" x=\"425\" y=\"161\"/><text fill=\"#000000\" font-family=\"sans-serif\" font-size=\"12\" lengthAdjust=\"spacingAndGlyphs\" textLength=\"24\" x=\"438\" y=\"177.1387\">b: B</text></a></g><text fill=\"#000000\" font-family=\"sans-serif\" font-size=\"14\" lengthAdjust=\"spacingAndGlyphs\" textLength=\"38\" x=\"303\" y=\"41.1982\">x: ~C</text><rect fill=\"#A80036\" height=\"12\" style=\"stroke: #FEFECE; stroke-width: 1.5;\" width=\"12\" x=\"316\" y=\"56.5\"/><a href=\"psysml:8a2f941b-3a97-4b54-9145-5eb7e96c5b49\" target=\"_top\" title=\"psysml:8a2f941b-3a97-4b54-9145-5eb7e96c5b49\" xlink:actuate=\"onRequest\" xlink:href=\"psysml:8a2f941b-3a97-4b54-9145-5eb7e96c5b49\" xlink:show=\"new\" xlink:title=\"psysml:8a2f941b-3a97-4b54-9145-5eb7e96c5b49\" xlink:type=\"simple\"><polygon fill=\"#FFFFFF\" filter=\"url(#f133m7c7a4yw2w)\" points=\"213,100,229,100,236,122.2969,243,122.2969,243,152.5938,213,152.5938,213,100\" style=\"stroke: #000000; stroke-width: 1.5;\"/><line style=\"stroke: #000000; stroke-width: 1.5;\" x1=\"213\" x2=\"236\" y1=\"122.2969\" y2=\"122.2969\"/><text fill=\"#000000\" font-family=\"sans-serif\" font-size=\"14\" font-weight=\"bold\" lengthAdjust=\"spacingAndGlyphs\" textLength=\"10\" x=\"217\" y=\"114.9951\">P</text></a><g id=\"E1.E6.E8\"><a href=\"psysml:4e9eccbd-3da0-4f6c-a773-1d808904fdc5\" target=\"_top\" title=\"psysml:4e9eccbd-3da0-4f6c-a773-1d808904fdc5\" xlink:actuate=\"onRequest\" xlink:href=\"psysml:4e9eccbd-3da0-4f6c-a773-1d808904fdc5\" xlink:show=\"new\" xlink:title=\"psysml:4e9eccbd-3da0-4f6c-a773-1d808904fdc5\" xlink:type=\"simple\"><rect fill=\"#FEFECE\" filter=\"url(#f133m7c7a4yw2w)\" height=\"40\" id=\"E8\" rx=\"10\" ry=\"10\" style=\"stroke: #A80036; stroke-width: 1.5;\" width=\"50\" x=\"297\" y=\"161\"/><text fill=\"#000000\" font-family=\"sans-serif\" font-size=\"12\" lengthAdjust=\"spacingAndGlyphs\" textLength=\"24\" x=\"310\" y=\"177.1387\">a: A</text></a></g><!--MD5=[70a6f4f9c0142957b2dec9dba5994a89]\n",
       "@startuml\r\n",
       "skinparam ranksep 8\r\n",
       "skinparam rectangle {\r\n",
       " backgroundColor<<block>> LightGreen\r\n",
       "}\r\n",
       "skinparam wrapWidth 300\r\n",
       "hide circle\r\n",
       "\r\n",
       "package \"BlockTest\" as E1  [[psysml:1f80f8be-3c31-4480-9ece-24461005c64a ]]  {\r\n",
       "rec usage \"f: A\" as E2  [[psysml:77ca47e2-95bd-4f5e-baaf-35974d96745c ]] {\r\n",
       "}\r\n",
       "rec def \"A\" as E3  <<(T,blue)part def>> [[psysml:feda5581-6f8c-419d-8ba7-a8a04be8503b ]] {\r\n",
       "rec usage \"b: B\" as E4  [[psysml:ebd0a90b-6b0b-4fe7-b689-bf63abb6537b ]] {\r\n",
       "}\r\n",
       "portin \"c: C\" as E5  <<(T,blue)port>> [[psysml:32f6582c-cfe7-4be0-a097-86306546e345 ]] \r\n",
       "}\r\n",
       "rec def \"B\" as E6  <<(T,blue)part def>> [[psysml:7287ae62-763a-4b84-8405-f658443750c5 ]] {\r\n",
       "package \"P\" as E7  [[psysml:8a2f941b-3a97-4b54-9145-5eb7e96c5b49 ]]  {\r\n",
       "}\r\n",
       "rec usage \"a: A\" as E8  [[psysml:4e9eccbd-3da0-4f6c-a773-1d808904fdc5 ]] {\r\n",
       "}\r\n",
       "portin \"x: ~C\" as E9  <<(T,blue)port>> [[psysml:8030edf4-ee82-408b-9211-cce203dbe0d1 ]] \r\n",
       "}\r\n",
       "def \"C\" as E10  <<(T,blue)port def>> [[psysml:8c4f99f3-2675-4f4d-a756-da09d407570d ]] \r\n",
       "}\r\n",
       "@enduml\r\n",
       "\n",
       "PlantUML version 1.2020.13(Sat Jun 13 12:26:38 UTC 2020)\n",
       "(EPL source distribution)\n",
       "Java Runtime: OpenJDK Runtime Environment\n",
       "JVM: OpenJDK 64-Bit Server VM\n",
       "Default Encoding: UTF-8\n",
       "Language: en\n",
       "Country: null\n",
       "--></g></svg>"
      ]
     },
     "execution_count": 26,
     "metadata": {},
     "output_type": "execute_result"
    }
   ],
   "source": [
    "%viz --style=\"STDCOLOR\" --view=\"Interconnection\" \"BlockTest\""
   ]
  },
  {
   "cell_type": "code",
   "execution_count": 27,
   "id": "worst-publisher",
   "metadata": {
    "execution": {
     "iopub.execute_input": "2021-03-26T12:07:39.189222Z",
     "iopub.status.busy": "2021-03-26T12:07:39.187827Z",
     "iopub.status.idle": "2021-03-26T12:07:39.194784Z",
     "shell.execute_reply": "2021-03-26T12:07:39.195213Z"
    }
   },
   "outputs": [
    {
     "data": {
      "image/svg+xml": [
       "<?xml version=\"1.0\" encoding=\"UTF-8\" standalone=\"no\"?><svg xmlns=\"http://www.w3.org/2000/svg\" xmlns:xlink=\"http://www.w3.org/1999/xlink\" contentScriptType=\"application/ecmascript\" contentStyleType=\"text/css\" height=\"12px\" preserveAspectRatio=\"none\" style=\"width:12px;height:12px;\" version=\"1.1\" viewBox=\"0 0 12 12\" width=\"12px\" zoomAndPan=\"magnify\"><defs/><g><!--MD5=[9863325348a96a77dacc89509d8ee65e]\n",
       "@startuml\r\n",
       "skinparam ranksep 8\r\n",
       "skinparam wrapWidth 300\r\n",
       "hide circle\r\n",
       "\r\n",
       "@enduml\r\n",
       "\n",
       "PlantUML version 1.2020.13(Sat Jun 13 12:26:38 UTC 2020)\n",
       "(EPL source distribution)\n",
       "Java Runtime: OpenJDK Runtime Environment\n",
       "JVM: OpenJDK 64-Bit Server VM\n",
       "Default Encoding: UTF-8\n",
       "Language: en\n",
       "Country: null\n",
       "--></g></svg>"
      ]
     },
     "execution_count": 27,
     "metadata": {},
     "output_type": "execute_result"
    }
   ],
   "source": [
    "%viz --style=\"STDCOLOR\" --view=\"Action\" \"BlockTest\""
   ]
  },
  {
   "cell_type": "code",
   "execution_count": 28,
   "id": "experimental-world",
   "metadata": {
    "execution": {
     "iopub.execute_input": "2021-03-26T12:07:39.247328Z",
     "iopub.status.busy": "2021-03-26T12:07:39.246473Z",
     "iopub.status.idle": "2021-03-26T12:07:39.314838Z",
     "shell.execute_reply": "2021-03-26T12:07:39.313291Z"
    }
   },
   "outputs": [
    {
     "data": {
      "image/svg+xml": [
       "<?xml version=\"1.0\" encoding=\"UTF-8\" standalone=\"no\"?><svg xmlns=\"http://www.w3.org/2000/svg\" xmlns:xlink=\"http://www.w3.org/1999/xlink\" contentScriptType=\"application/ecmascript\" contentStyleType=\"text/css\" height=\"672px\" preserveAspectRatio=\"none\" style=\"width:231px;height:672px;\" version=\"1.1\" viewBox=\"0 0 231 672\" width=\"231px\" zoomAndPan=\"magnify\"><defs><filter height=\"300%\" id=\"frruiuwxcnm8\" width=\"300%\" x=\"-1\" y=\"-1\"><feGaussianBlur result=\"blurOut\" stdDeviation=\"2.0\"/><feColorMatrix in=\"blurOut\" result=\"blurOut2\" type=\"matrix\" values=\"0 0 0 0 0 0 0 0 0 0 0 0 0 0 0 0 0 0 .4 0\"/><feOffset dx=\"4.0\" dy=\"4.0\" in=\"blurOut2\" result=\"blurOut3\"/><feBlend in=\"SourceGraphic\" in2=\"blurOut3\" mode=\"normal\"/></filter></defs><g><!--MD5=[fbc87193dbaf4d95561dea2c320d4a47]\n",
       "cluster E1--><a href=\"psysml:1f80f8be-3c31-4480-9ece-24461005c64a\" target=\"_top\" title=\"psysml:1f80f8be-3c31-4480-9ece-24461005c64a\" xlink:actuate=\"onRequest\" xlink:href=\"psysml:1f80f8be-3c31-4480-9ece-24461005c64a\" xlink:show=\"new\" xlink:title=\"psysml:1f80f8be-3c31-4480-9ece-24461005c64a\" xlink:type=\"simple\"><polygon fill=\"#FFFFFF\" filter=\"url(#frruiuwxcnm8)\" points=\"16,6,99,6,106,28.2969,209,28.2969,209,660,16,660,16,6\" style=\"stroke: #000000; stroke-width: 1.5;\"/><line style=\"stroke: #000000; stroke-width: 1.5;\" x1=\"16\" x2=\"106\" y1=\"28.2969\" y2=\"28.2969\"/><text fill=\"#000000\" font-family=\"sans-serif\" font-size=\"14\" font-weight=\"bold\" lengthAdjust=\"spacingAndGlyphs\" textLength=\"77\" x=\"20\" y=\"20.9951\">BlockTest</text></a><!--MD5=[b4997ac47864f28c2f74865a473b2911]\n",
       "class E2--><a href=\"psysml:77ca47e2-95bd-4f5e-baaf-35974d96745c\" target=\"_top\" title=\"psysml:77ca47e2-95bd-4f5e-baaf-35974d96745c\" xlink:actuate=\"onRequest\" xlink:href=\"psysml:77ca47e2-95bd-4f5e-baaf-35974d96745c\" xlink:show=\"new\" xlink:title=\"psysml:77ca47e2-95bd-4f5e-baaf-35974d96745c\" xlink:type=\"simple\"><rect fill=\"#FEFECE\" filter=\"url(#frruiuwxcnm8)\" height=\"45.9375\" id=\"E2\" rx=\"10\" ry=\"10\" style=\"stroke: #A80036; stroke-width: 1.5;\" width=\"42\" x=\"151\" y=\"56\"/><text fill=\"#000000\" font-family=\"sans-serif\" font-size=\"12\" font-style=\"italic\" lengthAdjust=\"spacingAndGlyphs\" textLength=\"40\" x=\"152\" y=\"72.1387\">«part»</text><text fill=\"#000000\" font-family=\"sans-serif\" font-size=\"12\" lengthAdjust=\"spacingAndGlyphs\" textLength=\"20\" x=\"162\" y=\"86.1074\">f: A</text><line style=\"stroke: #A80036; stroke-width: 1.5;\" x1=\"152\" x2=\"192\" y1=\"93.9375\" y2=\"93.9375\"/></a><!--MD5=[09b614a08d8cba4a07c9adeb5e0fee81]\n",
       "class E3--><a href=\"psysml:feda5581-6f8c-419d-8ba7-a8a04be8503b\" target=\"_top\" title=\"psysml:feda5581-6f8c-419d-8ba7-a8a04be8503b\" xlink:actuate=\"onRequest\" xlink:href=\"psysml:feda5581-6f8c-419d-8ba7-a8a04be8503b\" xlink:show=\"new\" xlink:title=\"psysml:feda5581-6f8c-419d-8ba7-a8a04be8503b\" xlink:type=\"simple\"><rect fill=\"#FEFECE\" filter=\"url(#frruiuwxcnm8)\" height=\"75.5469\" id=\"E3\" style=\"stroke: #A80036; stroke-width: 1.5;\" width=\"66\" x=\"118\" y=\"194\"/><text fill=\"#000000\" font-family=\"sans-serif\" font-size=\"12\" font-style=\"italic\" lengthAdjust=\"spacingAndGlyphs\" textLength=\"64\" x=\"119\" y=\"210.1387\">«part def»</text><text fill=\"#000000\" font-family=\"sans-serif\" font-size=\"12\" lengthAdjust=\"spacingAndGlyphs\" textLength=\"8\" x=\"147\" y=\"224.1074\">A</text><line style=\"stroke: #A80036; stroke-width: 1.5;\" x1=\"119\" x2=\"183\" y1=\"231.9375\" y2=\"231.9375\"/><text fill=\"#000000\" font-family=\"sans-serif\" font-size=\"11\" lengthAdjust=\"spacingAndGlyphs\" textLength=\"22\" x=\"124\" y=\"262.9526\">c: C</text><line style=\"stroke: #A80036; stroke-width: 1.0;\" x1=\"119\" x2=\"136\" y1=\"246.3398\" y2=\"246.3398\"/><text fill=\"#000000\" font-family=\"sans-serif\" font-size=\"11\" lengthAdjust=\"spacingAndGlyphs\" textLength=\"30\" x=\"136\" y=\"249.6479\">ports</text><line style=\"stroke: #A80036; stroke-width: 1.0;\" x1=\"166\" x2=\"183\" y1=\"246.3398\" y2=\"246.3398\"/></a><!--MD5=[ebbe1d658d1005bcc118a6aa81145e00]\n",
       "class E4--><a href=\"psysml:ebd0a90b-6b0b-4fe7-b689-bf63abb6537b\" target=\"_top\" title=\"psysml:ebd0a90b-6b0b-4fe7-b689-bf63abb6537b\" xlink:actuate=\"onRequest\" xlink:href=\"psysml:ebd0a90b-6b0b-4fe7-b689-bf63abb6537b\" xlink:show=\"new\" xlink:title=\"psysml:ebd0a90b-6b0b-4fe7-b689-bf63abb6537b\" xlink:type=\"simple\"><rect fill=\"#FEFECE\" filter=\"url(#frruiuwxcnm8)\" height=\"45.9375\" id=\"E4\" rx=\"10\" ry=\"10\" style=\"stroke: #A80036; stroke-width: 1.5;\" width=\"42\" x=\"106\" y=\"347\"/><text fill=\"#000000\" font-family=\"sans-serif\" font-size=\"12\" font-style=\"italic\" lengthAdjust=\"spacingAndGlyphs\" textLength=\"40\" x=\"107\" y=\"363.1387\">«part»</text><text fill=\"#000000\" font-family=\"sans-serif\" font-size=\"12\" lengthAdjust=\"spacingAndGlyphs\" textLength=\"24\" x=\"115\" y=\"377.1074\">b: B</text><line style=\"stroke: #A80036; stroke-width: 1.5;\" x1=\"107\" x2=\"147\" y1=\"384.9375\" y2=\"384.9375\"/></a><!--MD5=[60a26617385b1d2d0262a64233df1f8d]\n",
       "class E6--><a href=\"psysml:7287ae62-763a-4b84-8405-f658443750c5\" target=\"_top\" title=\"psysml:7287ae62-763a-4b84-8405-f658443750c5\" xlink:actuate=\"onRequest\" xlink:href=\"psysml:7287ae62-763a-4b84-8405-f658443750c5\" xlink:show=\"new\" xlink:title=\"psysml:7287ae62-763a-4b84-8405-f658443750c5\" xlink:type=\"simple\"><rect fill=\"#FEFECE\" filter=\"url(#frruiuwxcnm8)\" height=\"75.5469\" id=\"E6\" style=\"stroke: #A80036; stroke-width: 1.5;\" width=\"66\" x=\"77\" y=\"454\"/><text fill=\"#000000\" font-family=\"sans-serif\" font-size=\"12\" font-style=\"italic\" lengthAdjust=\"spacingAndGlyphs\" textLength=\"64\" x=\"78\" y=\"470.1387\">«part def»</text><text fill=\"#000000\" font-family=\"sans-serif\" font-size=\"12\" lengthAdjust=\"spacingAndGlyphs\" textLength=\"8\" x=\"106\" y=\"484.1074\">B</text><line style=\"stroke: #A80036; stroke-width: 1.5;\" x1=\"78\" x2=\"142\" y1=\"491.9375\" y2=\"491.9375\"/><text fill=\"#000000\" font-family=\"sans-serif\" font-size=\"11\" lengthAdjust=\"spacingAndGlyphs\" textLength=\"31\" x=\"83\" y=\"522.9526\">x: ~C</text><line style=\"stroke: #A80036; stroke-width: 1.0;\" x1=\"78\" x2=\"95\" y1=\"506.3398\" y2=\"506.3398\"/><text fill=\"#000000\" font-family=\"sans-serif\" font-size=\"11\" lengthAdjust=\"spacingAndGlyphs\" textLength=\"30\" x=\"95\" y=\"509.6479\">ports</text><line style=\"stroke: #A80036; stroke-width: 1.0;\" x1=\"125\" x2=\"142\" y1=\"506.3398\" y2=\"506.3398\"/></a><!--MD5=[b9389687b975829384b498ac4b7476b2]\n",
       "class E8--><a href=\"psysml:4e9eccbd-3da0-4f6c-a773-1d808904fdc5\" target=\"_top\" title=\"psysml:4e9eccbd-3da0-4f6c-a773-1d808904fdc5\" xlink:actuate=\"onRequest\" xlink:href=\"psysml:4e9eccbd-3da0-4f6c-a773-1d808904fdc5\" xlink:show=\"new\" xlink:title=\"psysml:4e9eccbd-3da0-4f6c-a773-1d808904fdc5\" xlink:type=\"simple\"><rect fill=\"#FEFECE\" filter=\"url(#frruiuwxcnm8)\" height=\"45.9375\" id=\"E8\" rx=\"10\" ry=\"10\" style=\"stroke: #A80036; stroke-width: 1.5;\" width=\"42\" x=\"151\" y=\"594.5\"/><text fill=\"#000000\" font-family=\"sans-serif\" font-size=\"12\" font-style=\"italic\" lengthAdjust=\"spacingAndGlyphs\" textLength=\"40\" x=\"152\" y=\"610.6387\">«part»</text><text fill=\"#000000\" font-family=\"sans-serif\" font-size=\"12\" lengthAdjust=\"spacingAndGlyphs\" textLength=\"24\" x=\"160\" y=\"624.6074\">a: A</text><line style=\"stroke: #A80036; stroke-width: 1.5;\" x1=\"152\" x2=\"192\" y1=\"632.4375\" y2=\"632.4375\"/></a><!--MD5=[96f4274e9e20536e775497830990834d]\n",
       "class E10--><a href=\"psysml:8c4f99f3-2675-4f4d-a756-da09d407570d\" target=\"_top\" title=\"psysml:8c4f99f3-2675-4f4d-a756-da09d407570d\" xlink:actuate=\"onRequest\" xlink:href=\"psysml:8c4f99f3-2675-4f4d-a756-da09d407570d\" xlink:show=\"new\" xlink:title=\"psysml:8c4f99f3-2675-4f4d-a756-da09d407570d\" xlink:type=\"simple\"><rect fill=\"#FEFECE\" filter=\"url(#frruiuwxcnm8)\" height=\"75.5469\" id=\"E10\" style=\"stroke: #A80036; stroke-width: 1.5;\" width=\"84\" x=\"32\" y=\"41\"/><text fill=\"#000000\" font-family=\"sans-serif\" font-size=\"12\" font-style=\"italic\" lengthAdjust=\"spacingAndGlyphs\" textLength=\"64\" x=\"42\" y=\"57.1387\">«port def»</text><text fill=\"#000000\" font-family=\"sans-serif\" font-size=\"12\" lengthAdjust=\"spacingAndGlyphs\" textLength=\"8\" x=\"70\" y=\"71.1074\">C</text><line style=\"stroke: #A80036; stroke-width: 1.5;\" x1=\"33\" x2=\"115\" y1=\"78.9375\" y2=\"78.9375\"/><text fill=\"#000000\" font-family=\"sans-serif\" font-size=\"11\" lengthAdjust=\"spacingAndGlyphs\" textLength=\"37\" x=\"38\" y=\"109.9526\">y: A, B</text><text fill=\"#000000\" font-family=\"sans-serif\" font-size=\"11\" font-weight=\"bold\" lengthAdjust=\"spacingAndGlyphs\" textLength=\"15\" x=\"79\" y=\"109.9526\">as</text><text fill=\"#000000\" font-family=\"sans-serif\" font-size=\"11\" lengthAdjust=\"spacingAndGlyphs\" textLength=\"12\" x=\"98\" y=\"109.9526\">z2</text><line style=\"stroke: #A80036; stroke-width: 1.0;\" x1=\"33\" x2=\"43\" y1=\"93.3398\" y2=\"93.3398\"/><text fill=\"#000000\" font-family=\"sans-serif\" font-size=\"11\" lengthAdjust=\"spacingAndGlyphs\" textLength=\"62\" x=\"43\" y=\"96.6479\">references</text><line style=\"stroke: #A80036; stroke-width: 1.0;\" x1=\"105\" x2=\"115\" y1=\"93.3398\" y2=\"93.3398\"/></a><a href=\"psysml:8a2f941b-3a97-4b54-9145-5eb7e96c5b49\" target=\"_top\" title=\"psysml:8a2f941b-3a97-4b54-9145-5eb7e96c5b49\" xlink:actuate=\"onRequest\" xlink:href=\"psysml:8a2f941b-3a97-4b54-9145-5eb7e96c5b49\" xlink:show=\"new\" xlink:title=\"psysml:8a2f941b-3a97-4b54-9145-5eb7e96c5b49\" xlink:type=\"simple\"><polygon fill=\"#FFFFFF\" filter=\"url(#frruiuwxcnm8)\" points=\"86,591,102,591,109,613.2969,116,613.2969,116,643.5938,86,643.5938,86,591\" style=\"stroke: #000000; stroke-width: 1.5;\"/><line style=\"stroke: #000000; stroke-width: 1.5;\" x1=\"86\" x2=\"109\" y1=\"613.2969\" y2=\"613.2969\"/><text fill=\"#000000\" font-family=\"sans-serif\" font-size=\"14\" font-weight=\"bold\" lengthAdjust=\"spacingAndGlyphs\" textLength=\"10\" x=\"90\" y=\"605.9951\">P</text></a><!--MD5=[2720a5a1f2c3fca2055b230370638851]\n",
       "link E2 to E3--><a href=\"psysml:f1219804-170d-45ce-a1b2-74df9d2ed655\" target=\"_top\" title=\"psysml:f1219804-170d-45ce-a1b2-74df9d2ed655\" xlink:actuate=\"onRequest\" xlink:href=\"psysml:f1219804-170d-45ce-a1b2-74df9d2ed655\" xlink:show=\"new\" xlink:title=\"psysml:f1219804-170d-45ce-a1b2-74df9d2ed655\" xlink:type=\"simple\"><path d=\"M168.9,102.28 C166.28,121.12 162.41,148.97 158.94,173.94 \" fill=\"none\" id=\"E2-&gt;E3\" style=\"stroke: #A80036; stroke-width: 1.0;\"/><polygon fill=\"#FFFFFF\" points=\"156.15,193.98,151.8354,174.1966,165.7018,176.1261,156.15,193.98\" style=\"stroke: #A80036; stroke-width: 1.0;\"/><ellipse cx=\"154.6019\" cy=\"168.8266\" fill=\"#A80036\" rx=\"2\" ry=\"2\" style=\"stroke: #A80036; stroke-width: 1.0;\"/><ellipse cx=\"164.5065\" cy=\"170.2048\" fill=\"#A80036\" rx=\"2\" ry=\"2\" style=\"stroke: #A80036; stroke-width: 1.0;\"/></a><!--MD5=[4672eba38e49728da53d11aeb285b987]\n",
       "reverse link E3 to E4--><a href=\"psysml:ebd0a90b-6b0b-4fe7-b689-bf63abb6537b\" target=\"_top\" title=\"psysml:ebd0a90b-6b0b-4fe7-b689-bf63abb6537b\" xlink:actuate=\"onRequest\" xlink:href=\"psysml:ebd0a90b-6b0b-4fe7-b689-bf63abb6537b\" xlink:show=\"new\" xlink:title=\"psysml:ebd0a90b-6b0b-4fe7-b689-bf63abb6537b\" xlink:type=\"simple\"><path d=\"M142.17,283.02 C138.31,304.93 133.97,329.52 130.92,346.77 \" fill=\"none\" id=\"E3&lt;-E4\" style=\"stroke: #A80036; stroke-width: 1.0;\"/><polygon fill=\"#A80036\" points=\"144.44,270.16,139.4532,275.3688,142.3433,281.9754,147.3301,276.7666,144.44,270.16\" style=\"stroke: #A80036; stroke-width: 1.0;\"/></a><!--MD5=[79568f1e445c3877b6a54524624ccc7d]\n",
       "link E4 to E6--><a href=\"psysml:0b7e6d0b-da90-43fd-82ff-3f36fc5229c0\" target=\"_top\" title=\"psysml:0b7e6d0b-da90-43fd-82ff-3f36fc5229c0\" xlink:actuate=\"onRequest\" xlink:href=\"psysml:0b7e6d0b-da90-43fd-82ff-3f36fc5229c0\" xlink:show=\"new\" xlink:title=\"psysml:0b7e6d0b-da90-43fd-82ff-3f36fc5229c0\" xlink:type=\"simple\"><path d=\"M123.88,393.01 C122.25,404.51 120.18,419.17 118.13,433.62 \" fill=\"none\" id=\"E4-&gt;E6\" style=\"stroke: #A80036; stroke-width: 1.0;\"/><polygon fill=\"#FFFFFF\" points=\"115.3,453.57,111.0294,433.777,124.8914,435.7373,115.3,453.57\" style=\"stroke: #A80036; stroke-width: 1.0;\"/><ellipse cx=\"113.8078\" cy=\"428.4132\" fill=\"#A80036\" rx=\"2\" ry=\"2\" style=\"stroke: #A80036; stroke-width: 1.0;\"/><ellipse cx=\"123.7093\" cy=\"429.8134\" fill=\"#A80036\" rx=\"2\" ry=\"2\" style=\"stroke: #A80036; stroke-width: 1.0;\"/></a><!--MD5=[3f50a3473f1dfb74d3f76443e03635af]\n",
       "reverse link E6 to E7--><a href=\"psysml:8a2f941b-3a97-4b54-9145-5eb7e96c5b49\" target=\"_top\" title=\"psysml:8a2f941b-3a97-4b54-9145-5eb7e96c5b49\" xlink:actuate=\"onRequest\" xlink:href=\"psysml:8a2f941b-3a97-4b54-9145-5eb7e96c5b49\" xlink:show=\"new\" xlink:title=\"psysml:8a2f941b-3a97-4b54-9145-5eb7e96c5b49\" xlink:type=\"simple\"><path d=\"M106.18,545.35 C105.04,561.08 103.83,577.65 102.87,590.83 \" fill=\"none\" id=\"E6&lt;-E7\" style=\"stroke: #A80036; stroke-width: 1.0;\"/><ellipse cx=\"106.7138\" cy=\"538.0285\" fill=\"#FFFFFF\" rx=\"8\" ry=\"8\" style=\"stroke: #A80036; stroke-width: 1.0;\"/><line style=\"stroke: #A80036; stroke-width: 1.0;\" x1=\"106.1276\" x2=\"107.3\" y1=\"546.007\" y2=\"530.05\"/><line style=\"stroke: #A80036; stroke-width: 1.0;\" x1=\"98.7353\" x2=\"114.6923\" y1=\"537.4423\" y2=\"538.6147\"/></a><!--MD5=[95fa686b5a16158bcdbcaeead89f639b]\n",
       "link E8 to E3--><a href=\"psysml:edfb0c1d-eeea-43d5-bece-b0bce4203cff\" target=\"_top\" title=\"psysml:edfb0c1d-eeea-43d5-bece-b0bce4203cff\" xlink:actuate=\"onRequest\" xlink:href=\"psysml:edfb0c1d-eeea-43d5-bece-b0bce4203cff\" xlink:show=\"new\" xlink:title=\"psysml:edfb0c1d-eeea-43d5-bece-b0bce4203cff\" xlink:type=\"simple\"><path d=\"M172.32,594.45 C172.8,548.41 173.03,438.69 166,347 C164.57,328.37 162.18,308.13 159.73,289.94 \" fill=\"none\" id=\"E8-&gt;E3\" style=\"stroke: #A80036; stroke-width: 1.0;\"/><polygon fill=\"#FFFFFF\" points=\"156.92,270.12,166.5114,287.9527,152.6494,289.913,156.92,270.12\" style=\"stroke: #A80036; stroke-width: 1.0;\"/><ellipse cx=\"165.3293\" cy=\"293.8766\" fill=\"#A80036\" rx=\"2\" ry=\"2\" style=\"stroke: #A80036; stroke-width: 1.0;\"/><ellipse cx=\"155.4278\" cy=\"295.2768\" fill=\"#A80036\" rx=\"2\" ry=\"2\" style=\"stroke: #A80036; stroke-width: 1.0;\"/></a><!--MD5=[f4cf0736d43fd73c4ef68817c49d37d5]\n",
       "reverse link E6 to E8--><a href=\"psysml:4e9eccbd-3da0-4f6c-a773-1d808904fdc5\" target=\"_top\" title=\"psysml:4e9eccbd-3da0-4f6c-a773-1d808904fdc5\" xlink:actuate=\"onRequest\" xlink:href=\"psysml:4e9eccbd-3da0-4f6c-a773-1d808904fdc5\" xlink:show=\"new\" xlink:title=\"psysml:4e9eccbd-3da0-4f6c-a773-1d808904fdc5\" xlink:type=\"simple\"><path d=\"M134.44,541.68 C143.55,559.83 153.45,579.55 160.8,594.19 \" fill=\"none\" id=\"E6&lt;-E8\" style=\"stroke: #A80036; stroke-width: 1.0;\"/><polygon fill=\"#A80036\" points=\"128.6,530.05,127.7161,537.2067,133.9824,540.7752,134.8663,533.6185,128.6,530.05\" style=\"stroke: #A80036; stroke-width: 1.0;\"/></a><!--MD5=[8e04057e7b3cbc0dca4fc78ea351e2da]\n",
       "reverse link E10 to E3--><a href=\"psysml:800170d4-464e-4c2e-99b4-fb1d2de59c3f\" target=\"_top\" title=\"psysml:800170d4-464e-4c2e-99b4-fb1d2de59c3f\" xlink:actuate=\"onRequest\" xlink:href=\"psysml:800170d4-464e-4c2e-99b4-fb1d2de59c3f\" xlink:show=\"new\" xlink:title=\"psysml:800170d4-464e-4c2e-99b4-fb1d2de59c3f\" xlink:type=\"simple\"><path d=\"M98.98,128.98 C109.72,150.06 122.08,174.29 132.05,193.84 \" fill=\"none\" id=\"E10&lt;-E3\" style=\"stroke: #A80036; stroke-width: 1.0;\"/><polygon fill=\"#FFFFFF\" points=\"93.03,117.33,92.1919,124.4922,98.4809,128.0206,99.319,120.8583,93.03,117.33\" style=\"stroke: #A80036; stroke-width: 1.0;\"/><text fill=\"#000000\" font-family=\"sans-serif\" font-size=\"13\" lengthAdjust=\"spacingAndGlyphs\" textLength=\"7\" x=\"115\" y=\"160.0669\">y</text></a><!--MD5=[604cbf994c02b74b117f728a71673cea]\n",
       "reverse link E10 to E6--><a href=\"psysml:800170d4-464e-4c2e-99b4-fb1d2de59c3f\" target=\"_top\" title=\"psysml:800170d4-464e-4c2e-99b4-fb1d2de59c3f\" xlink:actuate=\"onRequest\" xlink:href=\"psysml:800170d4-464e-4c2e-99b4-fb1d2de59c3f\" xlink:show=\"new\" xlink:title=\"psysml:800170d4-464e-4c2e-99b4-fb1d2de59c3f\" xlink:type=\"simple\"><path d=\"M73.89,130.53 C74.34,192.6 77.02,300.97 89,393 C91.63,413.19 96.24,435.39 100.47,453.55 \" fill=\"none\" id=\"E10&lt;-E6\" style=\"stroke: #A80036; stroke-width: 1.0;\"/><polygon fill=\"#FFFFFF\" points=\"73.83,117.27,69.863,123.2919,73.8959,129.2698,77.8629,123.2479,73.83,117.27\" style=\"stroke: #A80036; stroke-width: 1.0;\"/><text fill=\"#000000\" font-family=\"sans-serif\" font-size=\"13\" lengthAdjust=\"spacingAndGlyphs\" textLength=\"7\" x=\"82\" y=\"313.0669\">y</text></a><!--MD5=[1440fcb86fd19c6f6f9da29c3b779904]\n",
       "@startuml\r\n",
       "skinparam wrapWidth 300\r\n",
       "hide circle\r\n",
       "\r\n",
       "package \"BlockTest\" as E1  [[psysml:1f80f8be-3c31-4480-9ece-24461005c64a ]]  {\r\n",
       "comp usage \"f: A\" as E2  <<(T,blue)part>> [[psysml:77ca47e2-95bd-4f5e-baaf-35974d96745c ]] {\r\n",
       "}\r\n",
       "comp def \"A\" as E3  <<(T,blue)part def>> [[psysml:feda5581-6f8c-419d-8ba7-a8a04be8503b ]] {\r\n",
       "- - ports - -\r\n",
       "c: C\r\n",
       "}\r\n",
       "comp usage \"b: B\" as E4  <<(T,blue)part>> [[psysml:ebd0a90b-6b0b-4fe7-b689-bf63abb6537b ]] {\r\n",
       "}\r\n",
       "comp def \"B\" as E6  <<(T,blue)part def>> [[psysml:7287ae62-763a-4b84-8405-f658443750c5 ]] {\r\n",
       "- - ports - -\r\n",
       "x: ~C\r\n",
       "}\r\n",
       "package \"P\" as E7  [[psysml:8a2f941b-3a97-4b54-9145-5eb7e96c5b49 ]]  {\r\n",
       "}\r\n",
       "comp usage \"a: A\" as E8  <<(T,blue)part>> [[psysml:4e9eccbd-3da0-4f6c-a773-1d808904fdc5 ]] {\r\n",
       "}\r\n",
       "comp def \"C\" as E10  <<(T,blue)port def>> [[psysml:8c4f99f3-2675-4f4d-a756-da09d407570d ]] {\r\n",
       "- - references - -\r\n",
       "y: A, B <b>as</b> z2 \r\n",
       "}\r\n",
       "E2 - -:|> E3 [[psysml:f1219804-170d-45ce-a1b2-74df9d2ed655 ]] \r\n",
       "E3 *- - E4 [[psysml:ebd0a90b-6b0b-4fe7-b689-bf63abb6537b ]] \r\n",
       "E4 - -:|> E6 [[psysml:0b7e6d0b-da90-43fd-82ff-3f36fc5229c0 ]] \r\n",
       "E6 +- - E7 [[psysml:8a2f941b-3a97-4b54-9145-5eb7e96c5b49 ]] \r\n",
       "E8 - -:|> E3 [[psysml:edfb0c1d-eeea-43d5-bece-b0bce4203cff ]] \r\n",
       "E6 *- - E8 [[psysml:4e9eccbd-3da0-4f6c-a773-1d808904fdc5 ]] \r\n",
       "E10 o- - E3 [[psysml:800170d4-464e-4c2e-99b4-fb1d2de59c3f ]] : y\r\n",
       "E10 o- - E6 [[psysml:800170d4-464e-4c2e-99b4-fb1d2de59c3f ]] : y\r\n",
       "}\r\n",
       "@enduml\r\n",
       "\n",
       "PlantUML version 1.2020.13(Sat Jun 13 12:26:38 UTC 2020)\n",
       "(EPL source distribution)\n",
       "Java Runtime: OpenJDK Runtime Environment\n",
       "JVM: OpenJDK 64-Bit Server VM\n",
       "Default Encoding: UTF-8\n",
       "Language: en\n",
       "Country: null\n",
       "--></g></svg>"
      ]
     },
     "execution_count": 28,
     "metadata": {},
     "output_type": "execute_result"
    }
   ],
   "source": [
    "%viz --style=\"STDCOLOR\" --view=\"Sequence\" \"BlockTest\""
   ]
  },
  {
   "cell_type": "code",
   "execution_count": 29,
   "id": "involved-penguin",
   "metadata": {
    "execution": {
     "iopub.execute_input": "2021-03-26T12:07:39.366862Z",
     "iopub.status.busy": "2021-03-26T12:07:39.365909Z",
     "iopub.status.idle": "2021-03-26T12:07:39.430752Z",
     "shell.execute_reply": "2021-03-26T12:07:39.429407Z"
    }
   },
   "outputs": [
    {
     "data": {
      "image/svg+xml": [
       "<?xml version=\"1.0\" encoding=\"UTF-8\" standalone=\"no\"?><svg xmlns=\"http://www.w3.org/2000/svg\" xmlns:xlink=\"http://www.w3.org/1999/xlink\" contentScriptType=\"application/ecmascript\" contentStyleType=\"text/css\" height=\"672px\" preserveAspectRatio=\"none\" style=\"width:231px;height:672px;\" version=\"1.1\" viewBox=\"0 0 231 672\" width=\"231px\" zoomAndPan=\"magnify\"><defs><filter height=\"300%\" id=\"frruiuwxcnm8\" width=\"300%\" x=\"-1\" y=\"-1\"><feGaussianBlur result=\"blurOut\" stdDeviation=\"2.0\"/><feColorMatrix in=\"blurOut\" result=\"blurOut2\" type=\"matrix\" values=\"0 0 0 0 0 0 0 0 0 0 0 0 0 0 0 0 0 0 .4 0\"/><feOffset dx=\"4.0\" dy=\"4.0\" in=\"blurOut2\" result=\"blurOut3\"/><feBlend in=\"SourceGraphic\" in2=\"blurOut3\" mode=\"normal\"/></filter></defs><g><!--MD5=[fbc87193dbaf4d95561dea2c320d4a47]\n",
       "cluster E1--><a href=\"psysml:1f80f8be-3c31-4480-9ece-24461005c64a\" target=\"_top\" title=\"psysml:1f80f8be-3c31-4480-9ece-24461005c64a\" xlink:actuate=\"onRequest\" xlink:href=\"psysml:1f80f8be-3c31-4480-9ece-24461005c64a\" xlink:show=\"new\" xlink:title=\"psysml:1f80f8be-3c31-4480-9ece-24461005c64a\" xlink:type=\"simple\"><polygon fill=\"#FFFFFF\" filter=\"url(#frruiuwxcnm8)\" points=\"16,6,99,6,106,28.2969,209,28.2969,209,660,16,660,16,6\" style=\"stroke: #000000; stroke-width: 1.5;\"/><line style=\"stroke: #000000; stroke-width: 1.5;\" x1=\"16\" x2=\"106\" y1=\"28.2969\" y2=\"28.2969\"/><text fill=\"#000000\" font-family=\"sans-serif\" font-size=\"14\" font-weight=\"bold\" lengthAdjust=\"spacingAndGlyphs\" textLength=\"77\" x=\"20\" y=\"20.9951\">BlockTest</text></a><!--MD5=[b4997ac47864f28c2f74865a473b2911]\n",
       "class E2--><a href=\"psysml:77ca47e2-95bd-4f5e-baaf-35974d96745c\" target=\"_top\" title=\"psysml:77ca47e2-95bd-4f5e-baaf-35974d96745c\" xlink:actuate=\"onRequest\" xlink:href=\"psysml:77ca47e2-95bd-4f5e-baaf-35974d96745c\" xlink:show=\"new\" xlink:title=\"psysml:77ca47e2-95bd-4f5e-baaf-35974d96745c\" xlink:type=\"simple\"><rect fill=\"#FEFECE\" filter=\"url(#frruiuwxcnm8)\" height=\"45.9375\" id=\"E2\" rx=\"10\" ry=\"10\" style=\"stroke: #A80036; stroke-width: 1.5;\" width=\"42\" x=\"151\" y=\"56\"/><text fill=\"#000000\" font-family=\"sans-serif\" font-size=\"12\" font-style=\"italic\" lengthAdjust=\"spacingAndGlyphs\" textLength=\"40\" x=\"152\" y=\"72.1387\">«part»</text><text fill=\"#000000\" font-family=\"sans-serif\" font-size=\"12\" lengthAdjust=\"spacingAndGlyphs\" textLength=\"20\" x=\"162\" y=\"86.1074\">f: A</text><line style=\"stroke: #A80036; stroke-width: 1.5;\" x1=\"152\" x2=\"192\" y1=\"93.9375\" y2=\"93.9375\"/></a><!--MD5=[09b614a08d8cba4a07c9adeb5e0fee81]\n",
       "class E3--><a href=\"psysml:feda5581-6f8c-419d-8ba7-a8a04be8503b\" target=\"_top\" title=\"psysml:feda5581-6f8c-419d-8ba7-a8a04be8503b\" xlink:actuate=\"onRequest\" xlink:href=\"psysml:feda5581-6f8c-419d-8ba7-a8a04be8503b\" xlink:show=\"new\" xlink:title=\"psysml:feda5581-6f8c-419d-8ba7-a8a04be8503b\" xlink:type=\"simple\"><rect fill=\"#FEFECE\" filter=\"url(#frruiuwxcnm8)\" height=\"75.5469\" id=\"E3\" style=\"stroke: #A80036; stroke-width: 1.5;\" width=\"66\" x=\"118\" y=\"194\"/><text fill=\"#000000\" font-family=\"sans-serif\" font-size=\"12\" font-style=\"italic\" lengthAdjust=\"spacingAndGlyphs\" textLength=\"64\" x=\"119\" y=\"210.1387\">«part def»</text><text fill=\"#000000\" font-family=\"sans-serif\" font-size=\"12\" lengthAdjust=\"spacingAndGlyphs\" textLength=\"8\" x=\"147\" y=\"224.1074\">A</text><line style=\"stroke: #A80036; stroke-width: 1.5;\" x1=\"119\" x2=\"183\" y1=\"231.9375\" y2=\"231.9375\"/><text fill=\"#000000\" font-family=\"sans-serif\" font-size=\"11\" lengthAdjust=\"spacingAndGlyphs\" textLength=\"22\" x=\"124\" y=\"262.9526\">c: C</text><line style=\"stroke: #A80036; stroke-width: 1.0;\" x1=\"119\" x2=\"136\" y1=\"246.3398\" y2=\"246.3398\"/><text fill=\"#000000\" font-family=\"sans-serif\" font-size=\"11\" lengthAdjust=\"spacingAndGlyphs\" textLength=\"30\" x=\"136\" y=\"249.6479\">ports</text><line style=\"stroke: #A80036; stroke-width: 1.0;\" x1=\"166\" x2=\"183\" y1=\"246.3398\" y2=\"246.3398\"/></a><!--MD5=[ebbe1d658d1005bcc118a6aa81145e00]\n",
       "class E4--><a href=\"psysml:ebd0a90b-6b0b-4fe7-b689-bf63abb6537b\" target=\"_top\" title=\"psysml:ebd0a90b-6b0b-4fe7-b689-bf63abb6537b\" xlink:actuate=\"onRequest\" xlink:href=\"psysml:ebd0a90b-6b0b-4fe7-b689-bf63abb6537b\" xlink:show=\"new\" xlink:title=\"psysml:ebd0a90b-6b0b-4fe7-b689-bf63abb6537b\" xlink:type=\"simple\"><rect fill=\"#FEFECE\" filter=\"url(#frruiuwxcnm8)\" height=\"45.9375\" id=\"E4\" rx=\"10\" ry=\"10\" style=\"stroke: #A80036; stroke-width: 1.5;\" width=\"42\" x=\"106\" y=\"347\"/><text fill=\"#000000\" font-family=\"sans-serif\" font-size=\"12\" font-style=\"italic\" lengthAdjust=\"spacingAndGlyphs\" textLength=\"40\" x=\"107\" y=\"363.1387\">«part»</text><text fill=\"#000000\" font-family=\"sans-serif\" font-size=\"12\" lengthAdjust=\"spacingAndGlyphs\" textLength=\"24\" x=\"115\" y=\"377.1074\">b: B</text><line style=\"stroke: #A80036; stroke-width: 1.5;\" x1=\"107\" x2=\"147\" y1=\"384.9375\" y2=\"384.9375\"/></a><!--MD5=[60a26617385b1d2d0262a64233df1f8d]\n",
       "class E6--><a href=\"psysml:7287ae62-763a-4b84-8405-f658443750c5\" target=\"_top\" title=\"psysml:7287ae62-763a-4b84-8405-f658443750c5\" xlink:actuate=\"onRequest\" xlink:href=\"psysml:7287ae62-763a-4b84-8405-f658443750c5\" xlink:show=\"new\" xlink:title=\"psysml:7287ae62-763a-4b84-8405-f658443750c5\" xlink:type=\"simple\"><rect fill=\"#FEFECE\" filter=\"url(#frruiuwxcnm8)\" height=\"75.5469\" id=\"E6\" style=\"stroke: #A80036; stroke-width: 1.5;\" width=\"66\" x=\"77\" y=\"454\"/><text fill=\"#000000\" font-family=\"sans-serif\" font-size=\"12\" font-style=\"italic\" lengthAdjust=\"spacingAndGlyphs\" textLength=\"64\" x=\"78\" y=\"470.1387\">«part def»</text><text fill=\"#000000\" font-family=\"sans-serif\" font-size=\"12\" lengthAdjust=\"spacingAndGlyphs\" textLength=\"8\" x=\"106\" y=\"484.1074\">B</text><line style=\"stroke: #A80036; stroke-width: 1.5;\" x1=\"78\" x2=\"142\" y1=\"491.9375\" y2=\"491.9375\"/><text fill=\"#000000\" font-family=\"sans-serif\" font-size=\"11\" lengthAdjust=\"spacingAndGlyphs\" textLength=\"31\" x=\"83\" y=\"522.9526\">x: ~C</text><line style=\"stroke: #A80036; stroke-width: 1.0;\" x1=\"78\" x2=\"95\" y1=\"506.3398\" y2=\"506.3398\"/><text fill=\"#000000\" font-family=\"sans-serif\" font-size=\"11\" lengthAdjust=\"spacingAndGlyphs\" textLength=\"30\" x=\"95\" y=\"509.6479\">ports</text><line style=\"stroke: #A80036; stroke-width: 1.0;\" x1=\"125\" x2=\"142\" y1=\"506.3398\" y2=\"506.3398\"/></a><!--MD5=[b9389687b975829384b498ac4b7476b2]\n",
       "class E8--><a href=\"psysml:4e9eccbd-3da0-4f6c-a773-1d808904fdc5\" target=\"_top\" title=\"psysml:4e9eccbd-3da0-4f6c-a773-1d808904fdc5\" xlink:actuate=\"onRequest\" xlink:href=\"psysml:4e9eccbd-3da0-4f6c-a773-1d808904fdc5\" xlink:show=\"new\" xlink:title=\"psysml:4e9eccbd-3da0-4f6c-a773-1d808904fdc5\" xlink:type=\"simple\"><rect fill=\"#FEFECE\" filter=\"url(#frruiuwxcnm8)\" height=\"45.9375\" id=\"E8\" rx=\"10\" ry=\"10\" style=\"stroke: #A80036; stroke-width: 1.5;\" width=\"42\" x=\"151\" y=\"594.5\"/><text fill=\"#000000\" font-family=\"sans-serif\" font-size=\"12\" font-style=\"italic\" lengthAdjust=\"spacingAndGlyphs\" textLength=\"40\" x=\"152\" y=\"610.6387\">«part»</text><text fill=\"#000000\" font-family=\"sans-serif\" font-size=\"12\" lengthAdjust=\"spacingAndGlyphs\" textLength=\"24\" x=\"160\" y=\"624.6074\">a: A</text><line style=\"stroke: #A80036; stroke-width: 1.5;\" x1=\"152\" x2=\"192\" y1=\"632.4375\" y2=\"632.4375\"/></a><!--MD5=[96f4274e9e20536e775497830990834d]\n",
       "class E10--><a href=\"psysml:8c4f99f3-2675-4f4d-a756-da09d407570d\" target=\"_top\" title=\"psysml:8c4f99f3-2675-4f4d-a756-da09d407570d\" xlink:actuate=\"onRequest\" xlink:href=\"psysml:8c4f99f3-2675-4f4d-a756-da09d407570d\" xlink:show=\"new\" xlink:title=\"psysml:8c4f99f3-2675-4f4d-a756-da09d407570d\" xlink:type=\"simple\"><rect fill=\"#FEFECE\" filter=\"url(#frruiuwxcnm8)\" height=\"75.5469\" id=\"E10\" style=\"stroke: #A80036; stroke-width: 1.5;\" width=\"84\" x=\"32\" y=\"41\"/><text fill=\"#000000\" font-family=\"sans-serif\" font-size=\"12\" font-style=\"italic\" lengthAdjust=\"spacingAndGlyphs\" textLength=\"64\" x=\"42\" y=\"57.1387\">«port def»</text><text fill=\"#000000\" font-family=\"sans-serif\" font-size=\"12\" lengthAdjust=\"spacingAndGlyphs\" textLength=\"8\" x=\"70\" y=\"71.1074\">C</text><line style=\"stroke: #A80036; stroke-width: 1.5;\" x1=\"33\" x2=\"115\" y1=\"78.9375\" y2=\"78.9375\"/><text fill=\"#000000\" font-family=\"sans-serif\" font-size=\"11\" lengthAdjust=\"spacingAndGlyphs\" textLength=\"37\" x=\"38\" y=\"109.9526\">y: A, B</text><text fill=\"#000000\" font-family=\"sans-serif\" font-size=\"11\" font-weight=\"bold\" lengthAdjust=\"spacingAndGlyphs\" textLength=\"15\" x=\"79\" y=\"109.9526\">as</text><text fill=\"#000000\" font-family=\"sans-serif\" font-size=\"11\" lengthAdjust=\"spacingAndGlyphs\" textLength=\"12\" x=\"98\" y=\"109.9526\">z2</text><line style=\"stroke: #A80036; stroke-width: 1.0;\" x1=\"33\" x2=\"43\" y1=\"93.3398\" y2=\"93.3398\"/><text fill=\"#000000\" font-family=\"sans-serif\" font-size=\"11\" lengthAdjust=\"spacingAndGlyphs\" textLength=\"62\" x=\"43\" y=\"96.6479\">references</text><line style=\"stroke: #A80036; stroke-width: 1.0;\" x1=\"105\" x2=\"115\" y1=\"93.3398\" y2=\"93.3398\"/></a><a href=\"psysml:8a2f941b-3a97-4b54-9145-5eb7e96c5b49\" target=\"_top\" title=\"psysml:8a2f941b-3a97-4b54-9145-5eb7e96c5b49\" xlink:actuate=\"onRequest\" xlink:href=\"psysml:8a2f941b-3a97-4b54-9145-5eb7e96c5b49\" xlink:show=\"new\" xlink:title=\"psysml:8a2f941b-3a97-4b54-9145-5eb7e96c5b49\" xlink:type=\"simple\"><polygon fill=\"#FFFFFF\" filter=\"url(#frruiuwxcnm8)\" points=\"86,591,102,591,109,613.2969,116,613.2969,116,643.5938,86,643.5938,86,591\" style=\"stroke: #000000; stroke-width: 1.5;\"/><line style=\"stroke: #000000; stroke-width: 1.5;\" x1=\"86\" x2=\"109\" y1=\"613.2969\" y2=\"613.2969\"/><text fill=\"#000000\" font-family=\"sans-serif\" font-size=\"14\" font-weight=\"bold\" lengthAdjust=\"spacingAndGlyphs\" textLength=\"10\" x=\"90\" y=\"605.9951\">P</text></a><!--MD5=[2720a5a1f2c3fca2055b230370638851]\n",
       "link E2 to E3--><a href=\"psysml:f1219804-170d-45ce-a1b2-74df9d2ed655\" target=\"_top\" title=\"psysml:f1219804-170d-45ce-a1b2-74df9d2ed655\" xlink:actuate=\"onRequest\" xlink:href=\"psysml:f1219804-170d-45ce-a1b2-74df9d2ed655\" xlink:show=\"new\" xlink:title=\"psysml:f1219804-170d-45ce-a1b2-74df9d2ed655\" xlink:type=\"simple\"><path d=\"M168.9,102.28 C166.28,121.12 162.41,148.97 158.94,173.94 \" fill=\"none\" id=\"E2-&gt;E3\" style=\"stroke: #A80036; stroke-width: 1.0;\"/><polygon fill=\"#FFFFFF\" points=\"156.15,193.98,151.8354,174.1966,165.7018,176.1261,156.15,193.98\" style=\"stroke: #A80036; stroke-width: 1.0;\"/><ellipse cx=\"154.6019\" cy=\"168.8266\" fill=\"#A80036\" rx=\"2\" ry=\"2\" style=\"stroke: #A80036; stroke-width: 1.0;\"/><ellipse cx=\"164.5065\" cy=\"170.2048\" fill=\"#A80036\" rx=\"2\" ry=\"2\" style=\"stroke: #A80036; stroke-width: 1.0;\"/></a><!--MD5=[4672eba38e49728da53d11aeb285b987]\n",
       "reverse link E3 to E4--><a href=\"psysml:ebd0a90b-6b0b-4fe7-b689-bf63abb6537b\" target=\"_top\" title=\"psysml:ebd0a90b-6b0b-4fe7-b689-bf63abb6537b\" xlink:actuate=\"onRequest\" xlink:href=\"psysml:ebd0a90b-6b0b-4fe7-b689-bf63abb6537b\" xlink:show=\"new\" xlink:title=\"psysml:ebd0a90b-6b0b-4fe7-b689-bf63abb6537b\" xlink:type=\"simple\"><path d=\"M142.17,283.02 C138.31,304.93 133.97,329.52 130.92,346.77 \" fill=\"none\" id=\"E3&lt;-E4\" style=\"stroke: #A80036; stroke-width: 1.0;\"/><polygon fill=\"#A80036\" points=\"144.44,270.16,139.4532,275.3688,142.3433,281.9754,147.3301,276.7666,144.44,270.16\" style=\"stroke: #A80036; stroke-width: 1.0;\"/></a><!--MD5=[79568f1e445c3877b6a54524624ccc7d]\n",
       "link E4 to E6--><a href=\"psysml:0b7e6d0b-da90-43fd-82ff-3f36fc5229c0\" target=\"_top\" title=\"psysml:0b7e6d0b-da90-43fd-82ff-3f36fc5229c0\" xlink:actuate=\"onRequest\" xlink:href=\"psysml:0b7e6d0b-da90-43fd-82ff-3f36fc5229c0\" xlink:show=\"new\" xlink:title=\"psysml:0b7e6d0b-da90-43fd-82ff-3f36fc5229c0\" xlink:type=\"simple\"><path d=\"M123.88,393.01 C122.25,404.51 120.18,419.17 118.13,433.62 \" fill=\"none\" id=\"E4-&gt;E6\" style=\"stroke: #A80036; stroke-width: 1.0;\"/><polygon fill=\"#FFFFFF\" points=\"115.3,453.57,111.0294,433.777,124.8914,435.7373,115.3,453.57\" style=\"stroke: #A80036; stroke-width: 1.0;\"/><ellipse cx=\"113.8078\" cy=\"428.4132\" fill=\"#A80036\" rx=\"2\" ry=\"2\" style=\"stroke: #A80036; stroke-width: 1.0;\"/><ellipse cx=\"123.7093\" cy=\"429.8134\" fill=\"#A80036\" rx=\"2\" ry=\"2\" style=\"stroke: #A80036; stroke-width: 1.0;\"/></a><!--MD5=[3f50a3473f1dfb74d3f76443e03635af]\n",
       "reverse link E6 to E7--><a href=\"psysml:8a2f941b-3a97-4b54-9145-5eb7e96c5b49\" target=\"_top\" title=\"psysml:8a2f941b-3a97-4b54-9145-5eb7e96c5b49\" xlink:actuate=\"onRequest\" xlink:href=\"psysml:8a2f941b-3a97-4b54-9145-5eb7e96c5b49\" xlink:show=\"new\" xlink:title=\"psysml:8a2f941b-3a97-4b54-9145-5eb7e96c5b49\" xlink:type=\"simple\"><path d=\"M106.18,545.35 C105.04,561.08 103.83,577.65 102.87,590.83 \" fill=\"none\" id=\"E6&lt;-E7\" style=\"stroke: #A80036; stroke-width: 1.0;\"/><ellipse cx=\"106.7138\" cy=\"538.0285\" fill=\"#FFFFFF\" rx=\"8\" ry=\"8\" style=\"stroke: #A80036; stroke-width: 1.0;\"/><line style=\"stroke: #A80036; stroke-width: 1.0;\" x1=\"106.1276\" x2=\"107.3\" y1=\"546.007\" y2=\"530.05\"/><line style=\"stroke: #A80036; stroke-width: 1.0;\" x1=\"98.7353\" x2=\"114.6923\" y1=\"537.4423\" y2=\"538.6147\"/></a><!--MD5=[95fa686b5a16158bcdbcaeead89f639b]\n",
       "link E8 to E3--><a href=\"psysml:edfb0c1d-eeea-43d5-bece-b0bce4203cff\" target=\"_top\" title=\"psysml:edfb0c1d-eeea-43d5-bece-b0bce4203cff\" xlink:actuate=\"onRequest\" xlink:href=\"psysml:edfb0c1d-eeea-43d5-bece-b0bce4203cff\" xlink:show=\"new\" xlink:title=\"psysml:edfb0c1d-eeea-43d5-bece-b0bce4203cff\" xlink:type=\"simple\"><path d=\"M172.32,594.45 C172.8,548.41 173.03,438.69 166,347 C164.57,328.37 162.18,308.13 159.73,289.94 \" fill=\"none\" id=\"E8-&gt;E3\" style=\"stroke: #A80036; stroke-width: 1.0;\"/><polygon fill=\"#FFFFFF\" points=\"156.92,270.12,166.5114,287.9527,152.6494,289.913,156.92,270.12\" style=\"stroke: #A80036; stroke-width: 1.0;\"/><ellipse cx=\"165.3293\" cy=\"293.8766\" fill=\"#A80036\" rx=\"2\" ry=\"2\" style=\"stroke: #A80036; stroke-width: 1.0;\"/><ellipse cx=\"155.4278\" cy=\"295.2768\" fill=\"#A80036\" rx=\"2\" ry=\"2\" style=\"stroke: #A80036; stroke-width: 1.0;\"/></a><!--MD5=[f4cf0736d43fd73c4ef68817c49d37d5]\n",
       "reverse link E6 to E8--><a href=\"psysml:4e9eccbd-3da0-4f6c-a773-1d808904fdc5\" target=\"_top\" title=\"psysml:4e9eccbd-3da0-4f6c-a773-1d808904fdc5\" xlink:actuate=\"onRequest\" xlink:href=\"psysml:4e9eccbd-3da0-4f6c-a773-1d808904fdc5\" xlink:show=\"new\" xlink:title=\"psysml:4e9eccbd-3da0-4f6c-a773-1d808904fdc5\" xlink:type=\"simple\"><path d=\"M134.44,541.68 C143.55,559.83 153.45,579.55 160.8,594.19 \" fill=\"none\" id=\"E6&lt;-E8\" style=\"stroke: #A80036; stroke-width: 1.0;\"/><polygon fill=\"#A80036\" points=\"128.6,530.05,127.7161,537.2067,133.9824,540.7752,134.8663,533.6185,128.6,530.05\" style=\"stroke: #A80036; stroke-width: 1.0;\"/></a><!--MD5=[8e04057e7b3cbc0dca4fc78ea351e2da]\n",
       "reverse link E10 to E3--><a href=\"psysml:800170d4-464e-4c2e-99b4-fb1d2de59c3f\" target=\"_top\" title=\"psysml:800170d4-464e-4c2e-99b4-fb1d2de59c3f\" xlink:actuate=\"onRequest\" xlink:href=\"psysml:800170d4-464e-4c2e-99b4-fb1d2de59c3f\" xlink:show=\"new\" xlink:title=\"psysml:800170d4-464e-4c2e-99b4-fb1d2de59c3f\" xlink:type=\"simple\"><path d=\"M98.98,128.98 C109.72,150.06 122.08,174.29 132.05,193.84 \" fill=\"none\" id=\"E10&lt;-E3\" style=\"stroke: #A80036; stroke-width: 1.0;\"/><polygon fill=\"#FFFFFF\" points=\"93.03,117.33,92.1919,124.4922,98.4809,128.0206,99.319,120.8583,93.03,117.33\" style=\"stroke: #A80036; stroke-width: 1.0;\"/><text fill=\"#000000\" font-family=\"sans-serif\" font-size=\"13\" lengthAdjust=\"spacingAndGlyphs\" textLength=\"7\" x=\"115\" y=\"160.0669\">y</text></a><!--MD5=[604cbf994c02b74b117f728a71673cea]\n",
       "reverse link E10 to E6--><a href=\"psysml:800170d4-464e-4c2e-99b4-fb1d2de59c3f\" target=\"_top\" title=\"psysml:800170d4-464e-4c2e-99b4-fb1d2de59c3f\" xlink:actuate=\"onRequest\" xlink:href=\"psysml:800170d4-464e-4c2e-99b4-fb1d2de59c3f\" xlink:show=\"new\" xlink:title=\"psysml:800170d4-464e-4c2e-99b4-fb1d2de59c3f\" xlink:type=\"simple\"><path d=\"M73.89,130.53 C74.34,192.6 77.02,300.97 89,393 C91.63,413.19 96.24,435.39 100.47,453.55 \" fill=\"none\" id=\"E10&lt;-E6\" style=\"stroke: #A80036; stroke-width: 1.0;\"/><polygon fill=\"#FFFFFF\" points=\"73.83,117.27,69.863,123.2919,73.8959,129.2698,77.8629,123.2479,73.83,117.27\" style=\"stroke: #A80036; stroke-width: 1.0;\"/><text fill=\"#000000\" font-family=\"sans-serif\" font-size=\"13\" lengthAdjust=\"spacingAndGlyphs\" textLength=\"7\" x=\"82\" y=\"313.0669\">y</text></a><!--MD5=[1440fcb86fd19c6f6f9da29c3b779904]\n",
       "@startuml\r\n",
       "skinparam wrapWidth 300\r\n",
       "hide circle\r\n",
       "\r\n",
       "package \"BlockTest\" as E1  [[psysml:1f80f8be-3c31-4480-9ece-24461005c64a ]]  {\r\n",
       "comp usage \"f: A\" as E2  <<(T,blue)part>> [[psysml:77ca47e2-95bd-4f5e-baaf-35974d96745c ]] {\r\n",
       "}\r\n",
       "comp def \"A\" as E3  <<(T,blue)part def>> [[psysml:feda5581-6f8c-419d-8ba7-a8a04be8503b ]] {\r\n",
       "- - ports - -\r\n",
       "c: C\r\n",
       "}\r\n",
       "comp usage \"b: B\" as E4  <<(T,blue)part>> [[psysml:ebd0a90b-6b0b-4fe7-b689-bf63abb6537b ]] {\r\n",
       "}\r\n",
       "comp def \"B\" as E6  <<(T,blue)part def>> [[psysml:7287ae62-763a-4b84-8405-f658443750c5 ]] {\r\n",
       "- - ports - -\r\n",
       "x: ~C\r\n",
       "}\r\n",
       "package \"P\" as E7  [[psysml:8a2f941b-3a97-4b54-9145-5eb7e96c5b49 ]]  {\r\n",
       "}\r\n",
       "comp usage \"a: A\" as E8  <<(T,blue)part>> [[psysml:4e9eccbd-3da0-4f6c-a773-1d808904fdc5 ]] {\r\n",
       "}\r\n",
       "comp def \"C\" as E10  <<(T,blue)port def>> [[psysml:8c4f99f3-2675-4f4d-a756-da09d407570d ]] {\r\n",
       "- - references - -\r\n",
       "y: A, B <b>as</b> z2 \r\n",
       "}\r\n",
       "E2 - -:|> E3 [[psysml:f1219804-170d-45ce-a1b2-74df9d2ed655 ]] \r\n",
       "E3 *- - E4 [[psysml:ebd0a90b-6b0b-4fe7-b689-bf63abb6537b ]] \r\n",
       "E4 - -:|> E6 [[psysml:0b7e6d0b-da90-43fd-82ff-3f36fc5229c0 ]] \r\n",
       "E6 +- - E7 [[psysml:8a2f941b-3a97-4b54-9145-5eb7e96c5b49 ]] \r\n",
       "E8 - -:|> E3 [[psysml:edfb0c1d-eeea-43d5-bece-b0bce4203cff ]] \r\n",
       "E6 *- - E8 [[psysml:4e9eccbd-3da0-4f6c-a773-1d808904fdc5 ]] \r\n",
       "E10 o- - E3 [[psysml:800170d4-464e-4c2e-99b4-fb1d2de59c3f ]] : y\r\n",
       "E10 o- - E6 [[psysml:800170d4-464e-4c2e-99b4-fb1d2de59c3f ]] : y\r\n",
       "}\r\n",
       "@enduml\r\n",
       "\n",
       "PlantUML version 1.2020.13(Sat Jun 13 12:26:38 UTC 2020)\n",
       "(EPL source distribution)\n",
       "Java Runtime: OpenJDK Runtime Environment\n",
       "JVM: OpenJDK 64-Bit Server VM\n",
       "Default Encoding: UTF-8\n",
       "Language: en\n",
       "Country: null\n",
       "--></g></svg>"
      ]
     },
     "execution_count": 29,
     "metadata": {},
     "output_type": "execute_result"
    }
   ],
   "source": [
    "%viz --style=\"STDCOLOR\" --view=\"MIXED\" \"BlockTest\""
   ]
  },
  {
   "cell_type": "code",
   "execution_count": 30,
   "id": "corporate-george",
   "metadata": {
    "execution": {
     "iopub.execute_input": "2021-03-26T12:07:39.482370Z",
     "iopub.status.busy": "2021-03-26T12:07:39.481501Z",
     "iopub.status.idle": "2021-03-26T12:07:39.568215Z",
     "shell.execute_reply": "2021-03-26T12:07:39.566600Z"
    }
   },
   "outputs": [
    {
     "data": {
      "image/svg+xml": [
       "<?xml version=\"1.0\" encoding=\"UTF-8\" standalone=\"no\"?><svg xmlns=\"http://www.w3.org/2000/svg\" xmlns:xlink=\"http://www.w3.org/1999/xlink\" contentScriptType=\"application/ecmascript\" contentStyleType=\"text/css\" height=\"660px\" preserveAspectRatio=\"none\" style=\"width:265px;height:660px;\" version=\"1.1\" viewBox=\"0 0 265 660\" width=\"265px\" zoomAndPan=\"magnify\"><defs><filter height=\"300%\" id=\"f7lo0yfpgldzt\" width=\"300%\" x=\"-1\" y=\"-1\"><feGaussianBlur result=\"blurOut\" stdDeviation=\"2.0\"/><feColorMatrix in=\"blurOut\" result=\"blurOut2\" type=\"matrix\" values=\"0 0 0 0 0 0 0 0 0 0 0 0 0 0 0 0 0 0 .4 0\"/><feOffset dx=\"4.0\" dy=\"4.0\" in=\"blurOut2\" result=\"blurOut3\"/><feBlend in=\"SourceGraphic\" in2=\"blurOut3\" mode=\"normal\"/></filter></defs><g><!--MD5=[fbc87193dbaf4d95561dea2c320d4a47]\n",
       "cluster E1--><a href=\"psysml:1f80f8be-3c31-4480-9ece-24461005c64a\" target=\"_top\" title=\"psysml:1f80f8be-3c31-4480-9ece-24461005c64a\" xlink:actuate=\"onRequest\" xlink:href=\"psysml:1f80f8be-3c31-4480-9ece-24461005c64a\" xlink:show=\"new\" xlink:title=\"psysml:1f80f8be-3c31-4480-9ece-24461005c64a\" xlink:type=\"simple\"><polygon fill=\"#FFFFFF\" filter=\"url(#f7lo0yfpgldzt)\" points=\"16,6,99,6,106,28.2969,243,28.2969,243,648,16,648,16,6\" style=\"stroke: #000000; stroke-width: 1.5;\"/><line style=\"stroke: #000000; stroke-width: 1.5;\" x1=\"16\" x2=\"106\" y1=\"28.2969\" y2=\"28.2969\"/><text fill=\"#000000\" font-family=\"sans-serif\" font-size=\"14\" font-weight=\"bold\" lengthAdjust=\"spacingAndGlyphs\" textLength=\"77\" x=\"20\" y=\"20.9951\">BlockTest</text></a><!--MD5=[b4997ac47864f28c2f74865a473b2911]\n",
       "class E2--><a href=\"psysml:77ca47e2-95bd-4f5e-baaf-35974d96745c\" target=\"_top\" title=\"psysml:77ca47e2-95bd-4f5e-baaf-35974d96745c\" xlink:actuate=\"onRequest\" xlink:href=\"psysml:77ca47e2-95bd-4f5e-baaf-35974d96745c\" xlink:show=\"new\" xlink:title=\"psysml:77ca47e2-95bd-4f5e-baaf-35974d96745c\" xlink:type=\"simple\"><rect fill=\"#FEFECE\" filter=\"url(#f7lo0yfpgldzt)\" height=\"45.9375\" id=\"E2\" rx=\"10\" ry=\"10\" style=\"stroke: #A80036; stroke-width: 1.5;\" width=\"68\" x=\"159\" y=\"56\"/><ellipse cx=\"174\" cy=\"74.9688\" fill=\"#32CD32\" rx=\"11\" ry=\"11\" style=\"stroke: #A80036; stroke-width: 1.0;\"/><path d=\"M173.7969,70.6406 L173.7969,74.2656 L174.7969,74.2656 Q176,74.2656 176.4844,73.8594 Q176.9688,73.4531 176.9688,72.4531 Q176.9688,71.4531 176.4844,71.0469 Q176,70.6406 174.7969,70.6406 L173.7969,70.6406 Z M171.3438,68.5781 L174.7031,68.5781 Q177.2656,68.5781 178.3906,69.5 Q179.5156,70.4063 179.5156,72.4531 Q179.5156,74.5 178.3906,75.4219 Q177.2656,76.3281 174.7031,76.3281 L173.7969,76.3281 L173.7969,80.9688 L171.3438,80.9688 L171.3438,68.5781 Z \"/><text fill=\"#000000\" font-family=\"sans-serif\" font-size=\"12\" font-style=\"italic\" lengthAdjust=\"spacingAndGlyphs\" textLength=\"40\" x=\"186\" y=\"72.1387\">«part»</text><text fill=\"#000000\" font-family=\"sans-serif\" font-size=\"12\" lengthAdjust=\"spacingAndGlyphs\" textLength=\"20\" x=\"196\" y=\"86.1074\">f: A</text><line style=\"stroke: #A80036; stroke-width: 1.5;\" x1=\"160\" x2=\"226\" y1=\"93.9375\" y2=\"93.9375\"/></a><!--MD5=[09b614a08d8cba4a07c9adeb5e0fee81]\n",
       "class E3--><a href=\"psysml:feda5581-6f8c-419d-8ba7-a8a04be8503b\" target=\"_top\" title=\"psysml:feda5581-6f8c-419d-8ba7-a8a04be8503b\" xlink:actuate=\"onRequest\" xlink:href=\"psysml:feda5581-6f8c-419d-8ba7-a8a04be8503b\" xlink:show=\"new\" xlink:title=\"psysml:feda5581-6f8c-419d-8ba7-a8a04be8503b\" xlink:type=\"simple\"><rect fill=\"#FEFECE\" filter=\"url(#f7lo0yfpgldzt)\" height=\"69.6094\" id=\"E3\" style=\"stroke: #A80036; stroke-width: 1.5;\" width=\"40\" x=\"149\" y=\"194\"/><ellipse cx=\"164\" cy=\"210\" fill=\"#008000\" rx=\"11\" ry=\"11\" style=\"stroke: #A80036; stroke-width: 1.0;\"/><path d=\"M162.9063,210.375 L162.9063,214.0469 L164.5313,214.0469 Q165.7031,214.0469 166.1719,213.6563 Q166.6406,213.25 166.6406,212.25 Q166.6406,211.25 166.1406,210.8125 Q165.6563,210.375 164.5313,210.375 L162.9063,210.375 Z M162.9063,205.5469 L162.9063,208.4219 L164.5313,208.4219 Q165.4531,208.4219 165.8438,208.0938 Q166.25,207.75 166.25,207 Q166.25,206.2344 165.8438,205.8906 Q165.4375,205.5469 164.5313,205.5469 L162.9063,205.5469 Z M160.5313,203.5938 L164.5313,203.5938 Q166.5938,203.5938 167.6406,204.375 Q168.6875,205.1563 168.6875,206.7188 Q168.6875,207.9219 168.0625,208.5938 Q167.4531,209.2656 166.2656,209.375 Q167.6875,209.5156 168.4063,210.3281 Q169.125,211.1406 169.125,212.5938 Q169.125,214.3906 168.0469,215.2031 Q166.9688,216 164.5313,216 L160.5313,216 L160.5313,203.5938 Z \"/><text fill=\"#000000\" font-family=\"sans-serif\" font-size=\"12\" lengthAdjust=\"spacingAndGlyphs\" textLength=\"8\" x=\"178\" y=\"214.1543\">A</text><line style=\"stroke: #A80036; stroke-width: 1.5;\" x1=\"150\" x2=\"188\" y1=\"226\" y2=\"226\"/><text fill=\"#000000\" font-family=\"sans-serif\" font-size=\"11\" lengthAdjust=\"spacingAndGlyphs\" textLength=\"22\" x=\"155\" y=\"257.0151\">c: C</text><line style=\"stroke: #A80036; stroke-width: 1.0;\" x1=\"150\" x2=\"154\" y1=\"240.4023\" y2=\"240.4023\"/><text fill=\"#000000\" font-family=\"sans-serif\" font-size=\"11\" lengthAdjust=\"spacingAndGlyphs\" textLength=\"30\" x=\"154\" y=\"243.7104\">ports</text><line style=\"stroke: #A80036; stroke-width: 1.0;\" x1=\"184\" x2=\"188\" y1=\"240.4023\" y2=\"240.4023\"/></a><!--MD5=[ebbe1d658d1005bcc118a6aa81145e00]\n",
       "class E4--><a href=\"psysml:ebd0a90b-6b0b-4fe7-b689-bf63abb6537b\" target=\"_top\" title=\"psysml:ebd0a90b-6b0b-4fe7-b689-bf63abb6537b\" xlink:actuate=\"onRequest\" xlink:href=\"psysml:ebd0a90b-6b0b-4fe7-b689-bf63abb6537b\" xlink:show=\"new\" xlink:title=\"psysml:ebd0a90b-6b0b-4fe7-b689-bf63abb6537b\" xlink:type=\"simple\"><rect fill=\"#FEFECE\" filter=\"url(#f7lo0yfpgldzt)\" height=\"45.9375\" id=\"E4\" rx=\"10\" ry=\"10\" style=\"stroke: #A80036; stroke-width: 1.5;\" width=\"68\" x=\"108\" y=\"341\"/><ellipse cx=\"123\" cy=\"359.9688\" fill=\"#32CD32\" rx=\"11\" ry=\"11\" style=\"stroke: #A80036; stroke-width: 1.0;\"/><path d=\"M122.7969,355.6406 L122.7969,359.2656 L123.7969,359.2656 Q125,359.2656 125.4844,358.8594 Q125.9688,358.4531 125.9688,357.4531 Q125.9688,356.4531 125.4844,356.0469 Q125,355.6406 123.7969,355.6406 L122.7969,355.6406 Z M120.3438,353.5781 L123.7031,353.5781 Q126.2656,353.5781 127.3906,354.5 Q128.5156,355.4063 128.5156,357.4531 Q128.5156,359.5 127.3906,360.4219 Q126.2656,361.3281 123.7031,361.3281 L122.7969,361.3281 L122.7969,365.9688 L120.3438,365.9688 L120.3438,353.5781 Z \"/><text fill=\"#000000\" font-family=\"sans-serif\" font-size=\"12\" font-style=\"italic\" lengthAdjust=\"spacingAndGlyphs\" textLength=\"40\" x=\"135\" y=\"357.1387\">«part»</text><text fill=\"#000000\" font-family=\"sans-serif\" font-size=\"12\" lengthAdjust=\"spacingAndGlyphs\" textLength=\"24\" x=\"143\" y=\"371.1074\">b: B</text><line style=\"stroke: #A80036; stroke-width: 1.5;\" x1=\"109\" x2=\"175\" y1=\"378.9375\" y2=\"378.9375\"/></a><!--MD5=[60a26617385b1d2d0262a64233df1f8d]\n",
       "class E6--><a href=\"psysml:7287ae62-763a-4b84-8405-f658443750c5\" target=\"_top\" title=\"psysml:7287ae62-763a-4b84-8405-f658443750c5\" xlink:actuate=\"onRequest\" xlink:href=\"psysml:7287ae62-763a-4b84-8405-f658443750c5\" xlink:show=\"new\" xlink:title=\"psysml:7287ae62-763a-4b84-8405-f658443750c5\" xlink:type=\"simple\"><rect fill=\"#FEFECE\" filter=\"url(#f7lo0yfpgldzt)\" height=\"69.6094\" id=\"E6\" style=\"stroke: #A80036; stroke-width: 1.5;\" width=\"43\" x=\"100.5\" y=\"448\"/><ellipse cx=\"116.85\" cy=\"464\" fill=\"#008000\" rx=\"11\" ry=\"11\" style=\"stroke: #A80036; stroke-width: 1.0;\"/><path d=\"M115.7563,464.375 L115.7563,468.0469 L117.3813,468.0469 Q118.5531,468.0469 119.0219,467.6563 Q119.4906,467.25 119.4906,466.25 Q119.4906,465.25 118.9906,464.8125 Q118.5063,464.375 117.3813,464.375 L115.7563,464.375 Z M115.7563,459.5469 L115.7563,462.4219 L117.3813,462.4219 Q118.3031,462.4219 118.6938,462.0938 Q119.1,461.75 119.1,461 Q119.1,460.2344 118.6938,459.8906 Q118.2875,459.5469 117.3813,459.5469 L115.7563,459.5469 Z M113.3813,457.5938 L117.3813,457.5938 Q119.4438,457.5938 120.4906,458.375 Q121.5375,459.1563 121.5375,460.7188 Q121.5375,461.9219 120.9125,462.5938 Q120.3031,463.2656 119.1156,463.375 Q120.5375,463.5156 121.2563,464.3281 Q121.975,465.1406 121.975,466.5938 Q121.975,468.3906 120.8969,469.2031 Q119.8188,470 117.3813,470 L113.3813,470 L113.3813,457.5938 Z \"/><text fill=\"#000000\" font-family=\"sans-serif\" font-size=\"12\" lengthAdjust=\"spacingAndGlyphs\" textLength=\"8\" x=\"131.15\" y=\"468.1543\">B</text><line style=\"stroke: #A80036; stroke-width: 1.5;\" x1=\"101.5\" x2=\"142.5\" y1=\"480\" y2=\"480\"/><text fill=\"#000000\" font-family=\"sans-serif\" font-size=\"11\" lengthAdjust=\"spacingAndGlyphs\" textLength=\"31\" x=\"106.5\" y=\"511.0151\">x: ~C</text><line style=\"stroke: #A80036; stroke-width: 1.0;\" x1=\"101.5\" x2=\"107\" y1=\"494.4023\" y2=\"494.4023\"/><text fill=\"#000000\" font-family=\"sans-serif\" font-size=\"11\" lengthAdjust=\"spacingAndGlyphs\" textLength=\"30\" x=\"107\" y=\"497.7104\">ports</text><line style=\"stroke: #A80036; stroke-width: 1.0;\" x1=\"137\" x2=\"142.5\" y1=\"494.4023\" y2=\"494.4023\"/></a><!--MD5=[b9389687b975829384b498ac4b7476b2]\n",
       "class E8--><a href=\"psysml:4e9eccbd-3da0-4f6c-a773-1d808904fdc5\" target=\"_top\" title=\"psysml:4e9eccbd-3da0-4f6c-a773-1d808904fdc5\" xlink:actuate=\"onRequest\" xlink:href=\"psysml:4e9eccbd-3da0-4f6c-a773-1d808904fdc5\" xlink:show=\"new\" xlink:title=\"psysml:4e9eccbd-3da0-4f6c-a773-1d808904fdc5\" xlink:type=\"simple\"><rect fill=\"#FEFECE\" filter=\"url(#f7lo0yfpgldzt)\" height=\"45.9375\" id=\"E8\" rx=\"10\" ry=\"10\" style=\"stroke: #A80036; stroke-width: 1.5;\" width=\"68\" x=\"159\" y=\"582.5\"/><ellipse cx=\"174\" cy=\"601.4688\" fill=\"#32CD32\" rx=\"11\" ry=\"11\" style=\"stroke: #A80036; stroke-width: 1.0;\"/><path d=\"M173.7969,597.1406 L173.7969,600.7656 L174.7969,600.7656 Q176,600.7656 176.4844,600.3594 Q176.9688,599.9531 176.9688,598.9531 Q176.9688,597.9531 176.4844,597.5469 Q176,597.1406 174.7969,597.1406 L173.7969,597.1406 Z M171.3438,595.0781 L174.7031,595.0781 Q177.2656,595.0781 178.3906,596 Q179.5156,596.9063 179.5156,598.9531 Q179.5156,601 178.3906,601.9219 Q177.2656,602.8281 174.7031,602.8281 L173.7969,602.8281 L173.7969,607.4688 L171.3438,607.4688 L171.3438,595.0781 Z \"/><text fill=\"#000000\" font-family=\"sans-serif\" font-size=\"12\" font-style=\"italic\" lengthAdjust=\"spacingAndGlyphs\" textLength=\"40\" x=\"186\" y=\"598.6387\">«part»</text><text fill=\"#000000\" font-family=\"sans-serif\" font-size=\"12\" lengthAdjust=\"spacingAndGlyphs\" textLength=\"24\" x=\"194\" y=\"612.6074\">a: A</text><line style=\"stroke: #A80036; stroke-width: 1.5;\" x1=\"160\" x2=\"226\" y1=\"620.4375\" y2=\"620.4375\"/></a><!--MD5=[96f4274e9e20536e775497830990834d]\n",
       "class E10--><a href=\"psysml:8c4f99f3-2675-4f4d-a756-da09d407570d\" target=\"_top\" title=\"psysml:8c4f99f3-2675-4f4d-a756-da09d407570d\" xlink:actuate=\"onRequest\" xlink:href=\"psysml:8c4f99f3-2675-4f4d-a756-da09d407570d\" xlink:show=\"new\" xlink:title=\"psysml:8c4f99f3-2675-4f4d-a756-da09d407570d\" xlink:type=\"simple\"><rect fill=\"#FEFECE\" filter=\"url(#f7lo0yfpgldzt)\" height=\"75.5469\" id=\"E10\" style=\"stroke: #A80036; stroke-width: 1.5;\" width=\"92\" x=\"32\" y=\"41\"/><ellipse cx=\"47\" cy=\"59.9688\" fill=\"#A52A2A\" rx=\"11\" ry=\"11\" style=\"stroke: #A80036; stroke-width: 1.0;\"/><path d=\"M46.5938,55.7813 L46.5938,63.7656 L47.25,63.7656 Q48.6875,63.7656 49.2969,62.8594 Q49.9219,61.9375 49.9219,59.7656 Q49.9219,57.5938 49.2969,56.6875 Q48.6875,55.7813 47.25,55.7813 L46.5938,55.7813 Z M44.1406,53.5781 L46.7656,53.5781 Q49.7969,53.5781 51.125,55.0313 Q52.4688,56.4688 52.4688,59.7656 Q52.4688,63.0625 51.125,64.5156 Q49.7969,65.9688 46.7656,65.9688 L44.1406,65.9688 L44.1406,53.5781 Z \"/><text fill=\"#000000\" font-family=\"sans-serif\" font-size=\"12\" font-style=\"italic\" lengthAdjust=\"spacingAndGlyphs\" textLength=\"64\" x=\"59\" y=\"57.1387\">«port def»</text><text fill=\"#000000\" font-family=\"sans-serif\" font-size=\"12\" lengthAdjust=\"spacingAndGlyphs\" textLength=\"8\" x=\"87\" y=\"71.1074\">C</text><line style=\"stroke: #A80036; stroke-width: 1.5;\" x1=\"33\" x2=\"123\" y1=\"78.9375\" y2=\"78.9375\"/><text fill=\"#000000\" font-family=\"sans-serif\" font-size=\"11\" lengthAdjust=\"spacingAndGlyphs\" textLength=\"37\" x=\"38\" y=\"109.9526\">y: A, B</text><text fill=\"#000000\" font-family=\"sans-serif\" font-size=\"11\" font-weight=\"bold\" lengthAdjust=\"spacingAndGlyphs\" textLength=\"15\" x=\"79\" y=\"109.9526\">as</text><text fill=\"#000000\" font-family=\"sans-serif\" font-size=\"11\" lengthAdjust=\"spacingAndGlyphs\" textLength=\"12\" x=\"98\" y=\"109.9526\">z2</text><line style=\"stroke: #A80036; stroke-width: 1.0;\" x1=\"33\" x2=\"47\" y1=\"93.3398\" y2=\"93.3398\"/><text fill=\"#000000\" font-family=\"sans-serif\" font-size=\"11\" lengthAdjust=\"spacingAndGlyphs\" textLength=\"62\" x=\"47\" y=\"96.6479\">references</text><line style=\"stroke: #A80036; stroke-width: 1.0;\" x1=\"109\" x2=\"123\" y1=\"93.3398\" y2=\"93.3398\"/></a><a href=\"psysml:8a2f941b-3a97-4b54-9145-5eb7e96c5b49\" target=\"_top\" title=\"psysml:8a2f941b-3a97-4b54-9145-5eb7e96c5b49\" xlink:actuate=\"onRequest\" xlink:href=\"psysml:8a2f941b-3a97-4b54-9145-5eb7e96c5b49\" xlink:show=\"new\" xlink:title=\"psysml:8a2f941b-3a97-4b54-9145-5eb7e96c5b49\" xlink:type=\"simple\"><polygon fill=\"#FFFFFF\" filter=\"url(#f7lo0yfpgldzt)\" points=\"94,579,110,579,117,601.2969,124,601.2969,124,631.5938,94,631.5938,94,579\" style=\"stroke: #000000; stroke-width: 1.5;\"/><line style=\"stroke: #000000; stroke-width: 1.5;\" x1=\"94\" x2=\"117\" y1=\"601.2969\" y2=\"601.2969\"/><text fill=\"#000000\" font-family=\"sans-serif\" font-size=\"14\" font-weight=\"bold\" lengthAdjust=\"spacingAndGlyphs\" textLength=\"10\" x=\"98\" y=\"593.9951\">P</text></a><!--MD5=[2720a5a1f2c3fca2055b230370638851]\n",
       "link E2 to E3--><a href=\"psysml:f1219804-170d-45ce-a1b2-74df9d2ed655\" target=\"_top\" title=\"psysml:f1219804-170d-45ce-a1b2-74df9d2ed655\" xlink:actuate=\"onRequest\" xlink:href=\"psysml:f1219804-170d-45ce-a1b2-74df9d2ed655\" xlink:show=\"new\" xlink:title=\"psysml:f1219804-170d-45ce-a1b2-74df9d2ed655\" xlink:type=\"simple\"><path d=\"M189.41,102.16 C186.33,121.12 181.78,149.21 177.75,174.04 \" fill=\"none\" id=\"E2-&gt;E3\" style=\"stroke: #A80036; stroke-width: 1.0;\"/><polygon fill=\"#FFFFFF\" points=\"174.54,193.87,170.6701,173.9948,184.4897,176.2347,174.54,193.87\" style=\"stroke: #A80036; stroke-width: 1.0;\"/><ellipse cx=\"173.5563\" cy=\"168.6882\" fill=\"#A80036\" rx=\"2\" ry=\"2\" style=\"stroke: #A80036; stroke-width: 1.0;\"/><ellipse cx=\"183.4275\" cy=\"170.2882\" fill=\"#A80036\" rx=\"2\" ry=\"2\" style=\"stroke: #A80036; stroke-width: 1.0;\"/></a><!--MD5=[4672eba38e49728da53d11aeb285b987]\n",
       "reverse link E3 to E4--><a href=\"psysml:ebd0a90b-6b0b-4fe7-b689-bf63abb6537b\" target=\"_top\" title=\"psysml:ebd0a90b-6b0b-4fe7-b689-bf63abb6537b\" xlink:actuate=\"onRequest\" xlink:href=\"psysml:ebd0a90b-6b0b-4fe7-b689-bf63abb6537b\" xlink:show=\"new\" xlink:title=\"psysml:ebd0a90b-6b0b-4fe7-b689-bf63abb6537b\" xlink:type=\"simple\"><path d=\"M159.4,277.28 C155,298.98 149.98,323.67 146.47,340.96 \" fill=\"none\" id=\"E3&lt;-E4\" style=\"stroke: #A80036; stroke-width: 1.0;\"/><polygon fill=\"#A80036\" points=\"162.05,264.25,156.9367,269.3347,159.6637,276.0103,164.7769,270.9256,162.05,264.25\" style=\"stroke: #A80036; stroke-width: 1.0;\"/></a><!--MD5=[79568f1e445c3877b6a54524624ccc7d]\n",
       "link E4 to E6--><a href=\"psysml:0b7e6d0b-da90-43fd-82ff-3f36fc5229c0\" target=\"_top\" title=\"psysml:0b7e6d0b-da90-43fd-82ff-3f36fc5229c0\" xlink:actuate=\"onRequest\" xlink:href=\"psysml:0b7e6d0b-da90-43fd-82ff-3f36fc5229c0\" xlink:show=\"new\" xlink:title=\"psysml:0b7e6d0b-da90-43fd-82ff-3f36fc5229c0\" xlink:type=\"simple\"><path d=\"M138.24,387.01 C136.25,398.61 133.72,413.41 131.26,427.86 \" fill=\"none\" id=\"E4-&gt;E6\" style=\"stroke: #A80036; stroke-width: 1.0;\"/><polygon fill=\"#FFFFFF\" points=\"127.87,447.67,124.1589,427.7645,137.9603,430.1147,127.87,447.67\" style=\"stroke: #A80036; stroke-width: 1.0;\"/><ellipse cx=\"127.0874\" cy=\"422.4812\" fill=\"#A80036\" rx=\"2\" ry=\"2\" style=\"stroke: #A80036; stroke-width: 1.0;\"/><ellipse cx=\"136.9455\" cy=\"424.1599\" fill=\"#A80036\" rx=\"2\" ry=\"2\" style=\"stroke: #A80036; stroke-width: 1.0;\"/></a><!--MD5=[3f50a3473f1dfb74d3f76443e03635af]\n",
       "reverse link E6 to E7--><a href=\"psysml:8a2f941b-3a97-4b54-9145-5eb7e96c5b49\" target=\"_top\" title=\"psysml:8a2f941b-3a97-4b54-9145-5eb7e96c5b49\" xlink:actuate=\"onRequest\" xlink:href=\"psysml:8a2f941b-3a97-4b54-9145-5eb7e96c5b49\" xlink:show=\"new\" xlink:title=\"psysml:8a2f941b-3a97-4b54-9145-5eb7e96c5b49\" xlink:type=\"simple\"><path d=\"M116.68,533.27 C115.01,548.83 113.22,565.4 111.79,578.64 \" fill=\"none\" id=\"E6&lt;-E7\" style=\"stroke: #A80036; stroke-width: 1.0;\"/><ellipse cx=\"117.4567\" cy=\"526.1644\" fill=\"#FFFFFF\" rx=\"8\" ry=\"8\" style=\"stroke: #A80036; stroke-width: 1.0;\"/><line style=\"stroke: #A80036; stroke-width: 1.0;\" x1=\"116.6033\" x2=\"118.31\" y1=\"534.1187\" y2=\"518.21\"/><line style=\"stroke: #A80036; stroke-width: 1.0;\" x1=\"109.5023\" x2=\"125.411\" y1=\"525.311\" y2=\"527.0177\"/></a><!--MD5=[95fa686b5a16158bcdbcaeead89f639b]\n",
       "link E8 to E3--><a href=\"psysml:edfb0c1d-eeea-43d5-bece-b0bce4203cff\" target=\"_top\" title=\"psysml:edfb0c1d-eeea-43d5-bece-b0bce4203cff\" xlink:actuate=\"onRequest\" xlink:href=\"psysml:edfb0c1d-eeea-43d5-bece-b0bce4203cff\" xlink:show=\"new\" xlink:title=\"psysml:edfb0c1d-eeea-43d5-bece-b0bce4203cff\" xlink:type=\"simple\"><path d=\"M194.8,582.2 C198.09,536.68 203.89,429.89 194,341 C191.9,322.13 187.85,301.78 183.62,283.73 \" fill=\"none\" id=\"E8-&gt;E3\" style=\"stroke: #A80036; stroke-width: 1.0;\"/><polygon fill=\"#FFFFFF\" points=\"178.76,264.17,190.1301,280.9247,176.5423,284.2966,178.76,264.17\" style=\"stroke: #A80036; stroke-width: 1.0;\"/><ellipse cx=\"189.5619\" cy=\"286.9386\" fill=\"#A80036\" rx=\"2\" ry=\"2\" style=\"stroke: #A80036; stroke-width: 1.0;\"/><ellipse cx=\"179.8563\" cy=\"289.3471\" fill=\"#A80036\" rx=\"2\" ry=\"2\" style=\"stroke: #A80036; stroke-width: 1.0;\"/></a><!--MD5=[f4cf0736d43fd73c4ef68817c49d37d5]\n",
       "reverse link E6 to E8--><a href=\"psysml:4e9eccbd-3da0-4f6c-a773-1d808904fdc5\" target=\"_top\" title=\"psysml:4e9eccbd-3da0-4f6c-a773-1d808904fdc5\" xlink:actuate=\"onRequest\" xlink:href=\"psysml:4e9eccbd-3da0-4f6c-a773-1d808904fdc5\" xlink:show=\"new\" xlink:title=\"psysml:4e9eccbd-3da0-4f6c-a773-1d808904fdc5\" xlink:type=\"simple\"><path d=\"M148.79,529.47 C159.46,547.58 171.25,567.58 179.97,582.38 \" fill=\"none\" id=\"E6&lt;-E8\" style=\"stroke: #A80036; stroke-width: 1.0;\"/><polygon fill=\"#A80036\" points=\"142.16,518.21,141.76,525.41,148.2523,528.5485,148.6523,521.3485,142.16,518.21\" style=\"stroke: #A80036; stroke-width: 1.0;\"/></a><!--MD5=[8e04057e7b3cbc0dca4fc78ea351e2da]\n",
       "reverse link E10 to E3--><a href=\"psysml:800170d4-464e-4c2e-99b4-fb1d2de59c3f\" target=\"_top\" title=\"psysml:800170d4-464e-4c2e-99b4-fb1d2de59c3f\" xlink:actuate=\"onRequest\" xlink:href=\"psysml:800170d4-464e-4c2e-99b4-fb1d2de59c3f\" xlink:show=\"new\" xlink:title=\"psysml:800170d4-464e-4c2e-99b4-fb1d2de59c3f\" xlink:type=\"simple\"><path d=\"M107.78,128.43 C121.23,150.31 136.77,175.59 148.83,195.2 \" fill=\"none\" id=\"E10&lt;-E3\" style=\"stroke: #A80036; stroke-width: 1.0;\"/><polygon fill=\"#FFFFFF\" points=\"100.96,117.35,100.6917,124.5561,107.2403,127.5753,107.5086,120.3692,100.96,117.35\" style=\"stroke: #A80036; stroke-width: 1.0;\"/><text fill=\"#000000\" font-family=\"sans-serif\" font-size=\"13\" lengthAdjust=\"spacingAndGlyphs\" textLength=\"7\" x=\"129\" y=\"160.0669\">y</text></a><!--MD5=[604cbf994c02b74b117f728a71673cea]\n",
       "reverse link E10 to E6--><a href=\"psysml:800170d4-464e-4c2e-99b4-fb1d2de59c3f\" target=\"_top\" title=\"psysml:800170d4-464e-4c2e-99b4-fb1d2de59c3f\" xlink:actuate=\"onRequest\" xlink:href=\"psysml:800170d4-464e-4c2e-99b4-fb1d2de59c3f\" xlink:show=\"new\" xlink:title=\"psysml:800170d4-464e-4c2e-99b4-fb1d2de59c3f\" xlink:type=\"simple\"><path d=\"M75.96,130.3 C74.43,191.49 74.85,297.69 91,387 C94.73,407.66 101.86,430.01 108.35,447.84 \" fill=\"none\" id=\"E10&lt;-E6\" style=\"stroke: #A80036; stroke-width: 1.0;\"/><polygon fill=\"#FFFFFF\" points=\"76.33,117.22,72.1603,123.1033,75.9873,129.2151,80.157,123.3318,76.33,117.22\" style=\"stroke: #A80036; stroke-width: 1.0;\"/><text fill=\"#000000\" font-family=\"sans-serif\" font-size=\"13\" lengthAdjust=\"spacingAndGlyphs\" textLength=\"7\" x=\"81\" y=\"307.0669\">y</text></a><!--MD5=[32cea4f60e5d638a3d1c04d30806821d]\n",
       "@startuml\r\n",
       " \r\n",
       "package \"BlockTest\" as E1  [[psysml:1f80f8be-3c31-4480-9ece-24461005c64a ]]  {\r\n",
       "comp usage \"f: A\" as E2  << (P,limegreen) part>> [[psysml:77ca47e2-95bd-4f5e-baaf-35974d96745c ]] {\r\n",
       "}\r\n",
       "comp def \"A\" as E3  << (B,green) >> [[psysml:feda5581-6f8c-419d-8ba7-a8a04be8503b ]] {\r\n",
       "- - ports - -\r\n",
       "c: C\r\n",
       "}\r\n",
       "comp usage \"b: B\" as E4  << (P,limegreen) part>> [[psysml:ebd0a90b-6b0b-4fe7-b689-bf63abb6537b ]] {\r\n",
       "}\r\n",
       "comp def \"B\" as E6  << (B,green) >> [[psysml:7287ae62-763a-4b84-8405-f658443750c5 ]] {\r\n",
       "- - ports - -\r\n",
       "x: ~C\r\n",
       "}\r\n",
       "package \"P\" as E7  [[psysml:8a2f941b-3a97-4b54-9145-5eb7e96c5b49 ]]  {\r\n",
       "}\r\n",
       "comp usage \"a: A\" as E8  << (P,limegreen) part>> [[psysml:4e9eccbd-3da0-4f6c-a773-1d808904fdc5 ]] {\r\n",
       "}\r\n",
       "comp def \"C\" as E10  <<(D,brown)port def>> [[psysml:8c4f99f3-2675-4f4d-a756-da09d407570d ]] {\r\n",
       "- - references - -\r\n",
       "y: A, B <b>as</b> z2 \r\n",
       "}\r\n",
       "E2 - -:|> E3 [[psysml:f1219804-170d-45ce-a1b2-74df9d2ed655 ]] \r\n",
       "E3 *- - E4 [[psysml:ebd0a90b-6b0b-4fe7-b689-bf63abb6537b ]] \r\n",
       "E4 - -:|> E6 [[psysml:0b7e6d0b-da90-43fd-82ff-3f36fc5229c0 ]] \r\n",
       "E6 +- - E7 [[psysml:8a2f941b-3a97-4b54-9145-5eb7e96c5b49 ]] \r\n",
       "E8 - -:|> E3 [[psysml:edfb0c1d-eeea-43d5-bece-b0bce4203cff ]] \r\n",
       "E6 *- - E8 [[psysml:4e9eccbd-3da0-4f6c-a773-1d808904fdc5 ]] \r\n",
       "E10 o- - E3 [[psysml:800170d4-464e-4c2e-99b4-fb1d2de59c3f ]] : y\r\n",
       "E10 o- - E6 [[psysml:800170d4-464e-4c2e-99b4-fb1d2de59c3f ]] : y\r\n",
       "}\r\n",
       "@enduml\r\n",
       "\n",
       "PlantUML version 1.2020.13(Sat Jun 13 12:26:38 UTC 2020)\n",
       "(EPL source distribution)\n",
       "Java Runtime: OpenJDK Runtime Environment\n",
       "JVM: OpenJDK 64-Bit Server VM\n",
       "Default Encoding: UTF-8\n",
       "Language: en\n",
       "Country: null\n",
       "--></g></svg>"
      ]
     },
     "execution_count": 30,
     "metadata": {},
     "output_type": "execute_result"
    }
   ],
   "source": [
    "%viz --style=\"PLANTUML\" --view=\"Default\" \"BlockTest\""
   ]
  },
  {
   "cell_type": "code",
   "execution_count": 31,
   "id": "yellow-coating",
   "metadata": {
    "execution": {
     "iopub.execute_input": "2021-03-26T12:07:39.620632Z",
     "iopub.status.busy": "2021-03-26T12:07:39.619928Z",
     "iopub.status.idle": "2021-03-26T12:07:39.683318Z",
     "shell.execute_reply": "2021-03-26T12:07:39.681898Z"
    }
   },
   "outputs": [
    {
     "data": {
      "image/svg+xml": [
       "<?xml version=\"1.0\" encoding=\"UTF-8\" standalone=\"no\"?><svg xmlns=\"http://www.w3.org/2000/svg\" xmlns:xlink=\"http://www.w3.org/1999/xlink\" contentScriptType=\"application/ecmascript\" contentStyleType=\"text/css\" height=\"660px\" preserveAspectRatio=\"none\" style=\"width:265px;height:660px;\" version=\"1.1\" viewBox=\"0 0 265 660\" width=\"265px\" zoomAndPan=\"magnify\"><defs><filter height=\"300%\" id=\"f7lo0yfpgldzt\" width=\"300%\" x=\"-1\" y=\"-1\"><feGaussianBlur result=\"blurOut\" stdDeviation=\"2.0\"/><feColorMatrix in=\"blurOut\" result=\"blurOut2\" type=\"matrix\" values=\"0 0 0 0 0 0 0 0 0 0 0 0 0 0 0 0 0 0 .4 0\"/><feOffset dx=\"4.0\" dy=\"4.0\" in=\"blurOut2\" result=\"blurOut3\"/><feBlend in=\"SourceGraphic\" in2=\"blurOut3\" mode=\"normal\"/></filter></defs><g><!--MD5=[fbc87193dbaf4d95561dea2c320d4a47]\n",
       "cluster E1--><a href=\"psysml:1f80f8be-3c31-4480-9ece-24461005c64a\" target=\"_top\" title=\"psysml:1f80f8be-3c31-4480-9ece-24461005c64a\" xlink:actuate=\"onRequest\" xlink:href=\"psysml:1f80f8be-3c31-4480-9ece-24461005c64a\" xlink:show=\"new\" xlink:title=\"psysml:1f80f8be-3c31-4480-9ece-24461005c64a\" xlink:type=\"simple\"><polygon fill=\"#FFFFFF\" filter=\"url(#f7lo0yfpgldzt)\" points=\"16,6,99,6,106,28.2969,243,28.2969,243,648,16,648,16,6\" style=\"stroke: #000000; stroke-width: 1.5;\"/><line style=\"stroke: #000000; stroke-width: 1.5;\" x1=\"16\" x2=\"106\" y1=\"28.2969\" y2=\"28.2969\"/><text fill=\"#000000\" font-family=\"sans-serif\" font-size=\"14\" font-weight=\"bold\" lengthAdjust=\"spacingAndGlyphs\" textLength=\"77\" x=\"20\" y=\"20.9951\">BlockTest</text></a><!--MD5=[b4997ac47864f28c2f74865a473b2911]\n",
       "class E2--><a href=\"psysml:77ca47e2-95bd-4f5e-baaf-35974d96745c\" target=\"_top\" title=\"psysml:77ca47e2-95bd-4f5e-baaf-35974d96745c\" xlink:actuate=\"onRequest\" xlink:href=\"psysml:77ca47e2-95bd-4f5e-baaf-35974d96745c\" xlink:show=\"new\" xlink:title=\"psysml:77ca47e2-95bd-4f5e-baaf-35974d96745c\" xlink:type=\"simple\"><rect fill=\"#FEFECE\" filter=\"url(#f7lo0yfpgldzt)\" height=\"45.9375\" id=\"E2\" rx=\"10\" ry=\"10\" style=\"stroke: #A80036; stroke-width: 1.5;\" width=\"68\" x=\"159\" y=\"56\"/><ellipse cx=\"174\" cy=\"74.9688\" fill=\"#32CD32\" rx=\"11\" ry=\"11\" style=\"stroke: #A80036; stroke-width: 1.0;\"/><path d=\"M173.7969,70.6406 L173.7969,74.2656 L174.7969,74.2656 Q176,74.2656 176.4844,73.8594 Q176.9688,73.4531 176.9688,72.4531 Q176.9688,71.4531 176.4844,71.0469 Q176,70.6406 174.7969,70.6406 L173.7969,70.6406 Z M171.3438,68.5781 L174.7031,68.5781 Q177.2656,68.5781 178.3906,69.5 Q179.5156,70.4063 179.5156,72.4531 Q179.5156,74.5 178.3906,75.4219 Q177.2656,76.3281 174.7031,76.3281 L173.7969,76.3281 L173.7969,80.9688 L171.3438,80.9688 L171.3438,68.5781 Z \"/><text fill=\"#000000\" font-family=\"sans-serif\" font-size=\"12\" font-style=\"italic\" lengthAdjust=\"spacingAndGlyphs\" textLength=\"40\" x=\"186\" y=\"72.1387\">«part»</text><text fill=\"#000000\" font-family=\"sans-serif\" font-size=\"12\" lengthAdjust=\"spacingAndGlyphs\" textLength=\"20\" x=\"196\" y=\"86.1074\">f: A</text><line style=\"stroke: #A80036; stroke-width: 1.5;\" x1=\"160\" x2=\"226\" y1=\"93.9375\" y2=\"93.9375\"/></a><!--MD5=[09b614a08d8cba4a07c9adeb5e0fee81]\n",
       "class E3--><a href=\"psysml:feda5581-6f8c-419d-8ba7-a8a04be8503b\" target=\"_top\" title=\"psysml:feda5581-6f8c-419d-8ba7-a8a04be8503b\" xlink:actuate=\"onRequest\" xlink:href=\"psysml:feda5581-6f8c-419d-8ba7-a8a04be8503b\" xlink:show=\"new\" xlink:title=\"psysml:feda5581-6f8c-419d-8ba7-a8a04be8503b\" xlink:type=\"simple\"><rect fill=\"#FEFECE\" filter=\"url(#f7lo0yfpgldzt)\" height=\"69.6094\" id=\"E3\" style=\"stroke: #A80036; stroke-width: 1.5;\" width=\"40\" x=\"149\" y=\"194\"/><ellipse cx=\"164\" cy=\"210\" fill=\"#008000\" rx=\"11\" ry=\"11\" style=\"stroke: #A80036; stroke-width: 1.0;\"/><path d=\"M162.9063,210.375 L162.9063,214.0469 L164.5313,214.0469 Q165.7031,214.0469 166.1719,213.6563 Q166.6406,213.25 166.6406,212.25 Q166.6406,211.25 166.1406,210.8125 Q165.6563,210.375 164.5313,210.375 L162.9063,210.375 Z M162.9063,205.5469 L162.9063,208.4219 L164.5313,208.4219 Q165.4531,208.4219 165.8438,208.0938 Q166.25,207.75 166.25,207 Q166.25,206.2344 165.8438,205.8906 Q165.4375,205.5469 164.5313,205.5469 L162.9063,205.5469 Z M160.5313,203.5938 L164.5313,203.5938 Q166.5938,203.5938 167.6406,204.375 Q168.6875,205.1563 168.6875,206.7188 Q168.6875,207.9219 168.0625,208.5938 Q167.4531,209.2656 166.2656,209.375 Q167.6875,209.5156 168.4063,210.3281 Q169.125,211.1406 169.125,212.5938 Q169.125,214.3906 168.0469,215.2031 Q166.9688,216 164.5313,216 L160.5313,216 L160.5313,203.5938 Z \"/><text fill=\"#000000\" font-family=\"sans-serif\" font-size=\"12\" lengthAdjust=\"spacingAndGlyphs\" textLength=\"8\" x=\"178\" y=\"214.1543\">A</text><line style=\"stroke: #A80036; stroke-width: 1.5;\" x1=\"150\" x2=\"188\" y1=\"226\" y2=\"226\"/><text fill=\"#000000\" font-family=\"sans-serif\" font-size=\"11\" lengthAdjust=\"spacingAndGlyphs\" textLength=\"22\" x=\"155\" y=\"257.0151\">c: C</text><line style=\"stroke: #A80036; stroke-width: 1.0;\" x1=\"150\" x2=\"154\" y1=\"240.4023\" y2=\"240.4023\"/><text fill=\"#000000\" font-family=\"sans-serif\" font-size=\"11\" lengthAdjust=\"spacingAndGlyphs\" textLength=\"30\" x=\"154\" y=\"243.7104\">ports</text><line style=\"stroke: #A80036; stroke-width: 1.0;\" x1=\"184\" x2=\"188\" y1=\"240.4023\" y2=\"240.4023\"/></a><!--MD5=[ebbe1d658d1005bcc118a6aa81145e00]\n",
       "class E4--><a href=\"psysml:ebd0a90b-6b0b-4fe7-b689-bf63abb6537b\" target=\"_top\" title=\"psysml:ebd0a90b-6b0b-4fe7-b689-bf63abb6537b\" xlink:actuate=\"onRequest\" xlink:href=\"psysml:ebd0a90b-6b0b-4fe7-b689-bf63abb6537b\" xlink:show=\"new\" xlink:title=\"psysml:ebd0a90b-6b0b-4fe7-b689-bf63abb6537b\" xlink:type=\"simple\"><rect fill=\"#FEFECE\" filter=\"url(#f7lo0yfpgldzt)\" height=\"45.9375\" id=\"E4\" rx=\"10\" ry=\"10\" style=\"stroke: #A80036; stroke-width: 1.5;\" width=\"68\" x=\"108\" y=\"341\"/><ellipse cx=\"123\" cy=\"359.9688\" fill=\"#32CD32\" rx=\"11\" ry=\"11\" style=\"stroke: #A80036; stroke-width: 1.0;\"/><path d=\"M122.7969,355.6406 L122.7969,359.2656 L123.7969,359.2656 Q125,359.2656 125.4844,358.8594 Q125.9688,358.4531 125.9688,357.4531 Q125.9688,356.4531 125.4844,356.0469 Q125,355.6406 123.7969,355.6406 L122.7969,355.6406 Z M120.3438,353.5781 L123.7031,353.5781 Q126.2656,353.5781 127.3906,354.5 Q128.5156,355.4063 128.5156,357.4531 Q128.5156,359.5 127.3906,360.4219 Q126.2656,361.3281 123.7031,361.3281 L122.7969,361.3281 L122.7969,365.9688 L120.3438,365.9688 L120.3438,353.5781 Z \"/><text fill=\"#000000\" font-family=\"sans-serif\" font-size=\"12\" font-style=\"italic\" lengthAdjust=\"spacingAndGlyphs\" textLength=\"40\" x=\"135\" y=\"357.1387\">«part»</text><text fill=\"#000000\" font-family=\"sans-serif\" font-size=\"12\" lengthAdjust=\"spacingAndGlyphs\" textLength=\"24\" x=\"143\" y=\"371.1074\">b: B</text><line style=\"stroke: #A80036; stroke-width: 1.5;\" x1=\"109\" x2=\"175\" y1=\"378.9375\" y2=\"378.9375\"/></a><!--MD5=[60a26617385b1d2d0262a64233df1f8d]\n",
       "class E6--><a href=\"psysml:7287ae62-763a-4b84-8405-f658443750c5\" target=\"_top\" title=\"psysml:7287ae62-763a-4b84-8405-f658443750c5\" xlink:actuate=\"onRequest\" xlink:href=\"psysml:7287ae62-763a-4b84-8405-f658443750c5\" xlink:show=\"new\" xlink:title=\"psysml:7287ae62-763a-4b84-8405-f658443750c5\" xlink:type=\"simple\"><rect fill=\"#FEFECE\" filter=\"url(#f7lo0yfpgldzt)\" height=\"69.6094\" id=\"E6\" style=\"stroke: #A80036; stroke-width: 1.5;\" width=\"43\" x=\"100.5\" y=\"448\"/><ellipse cx=\"116.85\" cy=\"464\" fill=\"#008000\" rx=\"11\" ry=\"11\" style=\"stroke: #A80036; stroke-width: 1.0;\"/><path d=\"M115.7563,464.375 L115.7563,468.0469 L117.3813,468.0469 Q118.5531,468.0469 119.0219,467.6563 Q119.4906,467.25 119.4906,466.25 Q119.4906,465.25 118.9906,464.8125 Q118.5063,464.375 117.3813,464.375 L115.7563,464.375 Z M115.7563,459.5469 L115.7563,462.4219 L117.3813,462.4219 Q118.3031,462.4219 118.6938,462.0938 Q119.1,461.75 119.1,461 Q119.1,460.2344 118.6938,459.8906 Q118.2875,459.5469 117.3813,459.5469 L115.7563,459.5469 Z M113.3813,457.5938 L117.3813,457.5938 Q119.4438,457.5938 120.4906,458.375 Q121.5375,459.1563 121.5375,460.7188 Q121.5375,461.9219 120.9125,462.5938 Q120.3031,463.2656 119.1156,463.375 Q120.5375,463.5156 121.2563,464.3281 Q121.975,465.1406 121.975,466.5938 Q121.975,468.3906 120.8969,469.2031 Q119.8188,470 117.3813,470 L113.3813,470 L113.3813,457.5938 Z \"/><text fill=\"#000000\" font-family=\"sans-serif\" font-size=\"12\" lengthAdjust=\"spacingAndGlyphs\" textLength=\"8\" x=\"131.15\" y=\"468.1543\">B</text><line style=\"stroke: #A80036; stroke-width: 1.5;\" x1=\"101.5\" x2=\"142.5\" y1=\"480\" y2=\"480\"/><text fill=\"#000000\" font-family=\"sans-serif\" font-size=\"11\" lengthAdjust=\"spacingAndGlyphs\" textLength=\"31\" x=\"106.5\" y=\"511.0151\">x: ~C</text><line style=\"stroke: #A80036; stroke-width: 1.0;\" x1=\"101.5\" x2=\"107\" y1=\"494.4023\" y2=\"494.4023\"/><text fill=\"#000000\" font-family=\"sans-serif\" font-size=\"11\" lengthAdjust=\"spacingAndGlyphs\" textLength=\"30\" x=\"107\" y=\"497.7104\">ports</text><line style=\"stroke: #A80036; stroke-width: 1.0;\" x1=\"137\" x2=\"142.5\" y1=\"494.4023\" y2=\"494.4023\"/></a><!--MD5=[b9389687b975829384b498ac4b7476b2]\n",
       "class E8--><a href=\"psysml:4e9eccbd-3da0-4f6c-a773-1d808904fdc5\" target=\"_top\" title=\"psysml:4e9eccbd-3da0-4f6c-a773-1d808904fdc5\" xlink:actuate=\"onRequest\" xlink:href=\"psysml:4e9eccbd-3da0-4f6c-a773-1d808904fdc5\" xlink:show=\"new\" xlink:title=\"psysml:4e9eccbd-3da0-4f6c-a773-1d808904fdc5\" xlink:type=\"simple\"><rect fill=\"#FEFECE\" filter=\"url(#f7lo0yfpgldzt)\" height=\"45.9375\" id=\"E8\" rx=\"10\" ry=\"10\" style=\"stroke: #A80036; stroke-width: 1.5;\" width=\"68\" x=\"159\" y=\"582.5\"/><ellipse cx=\"174\" cy=\"601.4688\" fill=\"#32CD32\" rx=\"11\" ry=\"11\" style=\"stroke: #A80036; stroke-width: 1.0;\"/><path d=\"M173.7969,597.1406 L173.7969,600.7656 L174.7969,600.7656 Q176,600.7656 176.4844,600.3594 Q176.9688,599.9531 176.9688,598.9531 Q176.9688,597.9531 176.4844,597.5469 Q176,597.1406 174.7969,597.1406 L173.7969,597.1406 Z M171.3438,595.0781 L174.7031,595.0781 Q177.2656,595.0781 178.3906,596 Q179.5156,596.9063 179.5156,598.9531 Q179.5156,601 178.3906,601.9219 Q177.2656,602.8281 174.7031,602.8281 L173.7969,602.8281 L173.7969,607.4688 L171.3438,607.4688 L171.3438,595.0781 Z \"/><text fill=\"#000000\" font-family=\"sans-serif\" font-size=\"12\" font-style=\"italic\" lengthAdjust=\"spacingAndGlyphs\" textLength=\"40\" x=\"186\" y=\"598.6387\">«part»</text><text fill=\"#000000\" font-family=\"sans-serif\" font-size=\"12\" lengthAdjust=\"spacingAndGlyphs\" textLength=\"24\" x=\"194\" y=\"612.6074\">a: A</text><line style=\"stroke: #A80036; stroke-width: 1.5;\" x1=\"160\" x2=\"226\" y1=\"620.4375\" y2=\"620.4375\"/></a><!--MD5=[96f4274e9e20536e775497830990834d]\n",
       "class E10--><a href=\"psysml:8c4f99f3-2675-4f4d-a756-da09d407570d\" target=\"_top\" title=\"psysml:8c4f99f3-2675-4f4d-a756-da09d407570d\" xlink:actuate=\"onRequest\" xlink:href=\"psysml:8c4f99f3-2675-4f4d-a756-da09d407570d\" xlink:show=\"new\" xlink:title=\"psysml:8c4f99f3-2675-4f4d-a756-da09d407570d\" xlink:type=\"simple\"><rect fill=\"#FEFECE\" filter=\"url(#f7lo0yfpgldzt)\" height=\"75.5469\" id=\"E10\" style=\"stroke: #A80036; stroke-width: 1.5;\" width=\"92\" x=\"32\" y=\"41\"/><ellipse cx=\"47\" cy=\"59.9688\" fill=\"#A52A2A\" rx=\"11\" ry=\"11\" style=\"stroke: #A80036; stroke-width: 1.0;\"/><path d=\"M46.5938,55.7813 L46.5938,63.7656 L47.25,63.7656 Q48.6875,63.7656 49.2969,62.8594 Q49.9219,61.9375 49.9219,59.7656 Q49.9219,57.5938 49.2969,56.6875 Q48.6875,55.7813 47.25,55.7813 L46.5938,55.7813 Z M44.1406,53.5781 L46.7656,53.5781 Q49.7969,53.5781 51.125,55.0313 Q52.4688,56.4688 52.4688,59.7656 Q52.4688,63.0625 51.125,64.5156 Q49.7969,65.9688 46.7656,65.9688 L44.1406,65.9688 L44.1406,53.5781 Z \"/><text fill=\"#000000\" font-family=\"sans-serif\" font-size=\"12\" font-style=\"italic\" lengthAdjust=\"spacingAndGlyphs\" textLength=\"64\" x=\"59\" y=\"57.1387\">«port def»</text><text fill=\"#000000\" font-family=\"sans-serif\" font-size=\"12\" lengthAdjust=\"spacingAndGlyphs\" textLength=\"8\" x=\"87\" y=\"71.1074\">C</text><line style=\"stroke: #A80036; stroke-width: 1.5;\" x1=\"33\" x2=\"123\" y1=\"78.9375\" y2=\"78.9375\"/><text fill=\"#000000\" font-family=\"sans-serif\" font-size=\"11\" lengthAdjust=\"spacingAndGlyphs\" textLength=\"37\" x=\"38\" y=\"109.9526\">y: A, B</text><text fill=\"#000000\" font-family=\"sans-serif\" font-size=\"11\" font-weight=\"bold\" lengthAdjust=\"spacingAndGlyphs\" textLength=\"15\" x=\"79\" y=\"109.9526\">as</text><text fill=\"#000000\" font-family=\"sans-serif\" font-size=\"11\" lengthAdjust=\"spacingAndGlyphs\" textLength=\"12\" x=\"98\" y=\"109.9526\">z2</text><line style=\"stroke: #A80036; stroke-width: 1.0;\" x1=\"33\" x2=\"47\" y1=\"93.3398\" y2=\"93.3398\"/><text fill=\"#000000\" font-family=\"sans-serif\" font-size=\"11\" lengthAdjust=\"spacingAndGlyphs\" textLength=\"62\" x=\"47\" y=\"96.6479\">references</text><line style=\"stroke: #A80036; stroke-width: 1.0;\" x1=\"109\" x2=\"123\" y1=\"93.3398\" y2=\"93.3398\"/></a><a href=\"psysml:8a2f941b-3a97-4b54-9145-5eb7e96c5b49\" target=\"_top\" title=\"psysml:8a2f941b-3a97-4b54-9145-5eb7e96c5b49\" xlink:actuate=\"onRequest\" xlink:href=\"psysml:8a2f941b-3a97-4b54-9145-5eb7e96c5b49\" xlink:show=\"new\" xlink:title=\"psysml:8a2f941b-3a97-4b54-9145-5eb7e96c5b49\" xlink:type=\"simple\"><polygon fill=\"#FFFFFF\" filter=\"url(#f7lo0yfpgldzt)\" points=\"94,579,110,579,117,601.2969,124,601.2969,124,631.5938,94,631.5938,94,579\" style=\"stroke: #000000; stroke-width: 1.5;\"/><line style=\"stroke: #000000; stroke-width: 1.5;\" x1=\"94\" x2=\"117\" y1=\"601.2969\" y2=\"601.2969\"/><text fill=\"#000000\" font-family=\"sans-serif\" font-size=\"14\" font-weight=\"bold\" lengthAdjust=\"spacingAndGlyphs\" textLength=\"10\" x=\"98\" y=\"593.9951\">P</text></a><!--MD5=[2720a5a1f2c3fca2055b230370638851]\n",
       "link E2 to E3--><a href=\"psysml:f1219804-170d-45ce-a1b2-74df9d2ed655\" target=\"_top\" title=\"psysml:f1219804-170d-45ce-a1b2-74df9d2ed655\" xlink:actuate=\"onRequest\" xlink:href=\"psysml:f1219804-170d-45ce-a1b2-74df9d2ed655\" xlink:show=\"new\" xlink:title=\"psysml:f1219804-170d-45ce-a1b2-74df9d2ed655\" xlink:type=\"simple\"><path d=\"M189.41,102.16 C186.33,121.12 181.78,149.21 177.75,174.04 \" fill=\"none\" id=\"E2-&gt;E3\" style=\"stroke: #A80036; stroke-width: 1.0;\"/><polygon fill=\"#FFFFFF\" points=\"174.54,193.87,170.6701,173.9948,184.4897,176.2347,174.54,193.87\" style=\"stroke: #A80036; stroke-width: 1.0;\"/><ellipse cx=\"173.5563\" cy=\"168.6882\" fill=\"#A80036\" rx=\"2\" ry=\"2\" style=\"stroke: #A80036; stroke-width: 1.0;\"/><ellipse cx=\"183.4275\" cy=\"170.2882\" fill=\"#A80036\" rx=\"2\" ry=\"2\" style=\"stroke: #A80036; stroke-width: 1.0;\"/></a><!--MD5=[4672eba38e49728da53d11aeb285b987]\n",
       "reverse link E3 to E4--><a href=\"psysml:ebd0a90b-6b0b-4fe7-b689-bf63abb6537b\" target=\"_top\" title=\"psysml:ebd0a90b-6b0b-4fe7-b689-bf63abb6537b\" xlink:actuate=\"onRequest\" xlink:href=\"psysml:ebd0a90b-6b0b-4fe7-b689-bf63abb6537b\" xlink:show=\"new\" xlink:title=\"psysml:ebd0a90b-6b0b-4fe7-b689-bf63abb6537b\" xlink:type=\"simple\"><path d=\"M159.4,277.28 C155,298.98 149.98,323.67 146.47,340.96 \" fill=\"none\" id=\"E3&lt;-E4\" style=\"stroke: #A80036; stroke-width: 1.0;\"/><polygon fill=\"#A80036\" points=\"162.05,264.25,156.9367,269.3347,159.6637,276.0103,164.7769,270.9256,162.05,264.25\" style=\"stroke: #A80036; stroke-width: 1.0;\"/></a><!--MD5=[79568f1e445c3877b6a54524624ccc7d]\n",
       "link E4 to E6--><a href=\"psysml:0b7e6d0b-da90-43fd-82ff-3f36fc5229c0\" target=\"_top\" title=\"psysml:0b7e6d0b-da90-43fd-82ff-3f36fc5229c0\" xlink:actuate=\"onRequest\" xlink:href=\"psysml:0b7e6d0b-da90-43fd-82ff-3f36fc5229c0\" xlink:show=\"new\" xlink:title=\"psysml:0b7e6d0b-da90-43fd-82ff-3f36fc5229c0\" xlink:type=\"simple\"><path d=\"M138.24,387.01 C136.25,398.61 133.72,413.41 131.26,427.86 \" fill=\"none\" id=\"E4-&gt;E6\" style=\"stroke: #A80036; stroke-width: 1.0;\"/><polygon fill=\"#FFFFFF\" points=\"127.87,447.67,124.1589,427.7645,137.9603,430.1147,127.87,447.67\" style=\"stroke: #A80036; stroke-width: 1.0;\"/><ellipse cx=\"127.0874\" cy=\"422.4812\" fill=\"#A80036\" rx=\"2\" ry=\"2\" style=\"stroke: #A80036; stroke-width: 1.0;\"/><ellipse cx=\"136.9455\" cy=\"424.1599\" fill=\"#A80036\" rx=\"2\" ry=\"2\" style=\"stroke: #A80036; stroke-width: 1.0;\"/></a><!--MD5=[3f50a3473f1dfb74d3f76443e03635af]\n",
       "reverse link E6 to E7--><a href=\"psysml:8a2f941b-3a97-4b54-9145-5eb7e96c5b49\" target=\"_top\" title=\"psysml:8a2f941b-3a97-4b54-9145-5eb7e96c5b49\" xlink:actuate=\"onRequest\" xlink:href=\"psysml:8a2f941b-3a97-4b54-9145-5eb7e96c5b49\" xlink:show=\"new\" xlink:title=\"psysml:8a2f941b-3a97-4b54-9145-5eb7e96c5b49\" xlink:type=\"simple\"><path d=\"M116.68,533.27 C115.01,548.83 113.22,565.4 111.79,578.64 \" fill=\"none\" id=\"E6&lt;-E7\" style=\"stroke: #A80036; stroke-width: 1.0;\"/><ellipse cx=\"117.4567\" cy=\"526.1644\" fill=\"#FFFFFF\" rx=\"8\" ry=\"8\" style=\"stroke: #A80036; stroke-width: 1.0;\"/><line style=\"stroke: #A80036; stroke-width: 1.0;\" x1=\"116.6033\" x2=\"118.31\" y1=\"534.1187\" y2=\"518.21\"/><line style=\"stroke: #A80036; stroke-width: 1.0;\" x1=\"109.5023\" x2=\"125.411\" y1=\"525.311\" y2=\"527.0177\"/></a><!--MD5=[95fa686b5a16158bcdbcaeead89f639b]\n",
       "link E8 to E3--><a href=\"psysml:edfb0c1d-eeea-43d5-bece-b0bce4203cff\" target=\"_top\" title=\"psysml:edfb0c1d-eeea-43d5-bece-b0bce4203cff\" xlink:actuate=\"onRequest\" xlink:href=\"psysml:edfb0c1d-eeea-43d5-bece-b0bce4203cff\" xlink:show=\"new\" xlink:title=\"psysml:edfb0c1d-eeea-43d5-bece-b0bce4203cff\" xlink:type=\"simple\"><path d=\"M194.8,582.2 C198.09,536.68 203.89,429.89 194,341 C191.9,322.13 187.85,301.78 183.62,283.73 \" fill=\"none\" id=\"E8-&gt;E3\" style=\"stroke: #A80036; stroke-width: 1.0;\"/><polygon fill=\"#FFFFFF\" points=\"178.76,264.17,190.1301,280.9247,176.5423,284.2966,178.76,264.17\" style=\"stroke: #A80036; stroke-width: 1.0;\"/><ellipse cx=\"189.5619\" cy=\"286.9386\" fill=\"#A80036\" rx=\"2\" ry=\"2\" style=\"stroke: #A80036; stroke-width: 1.0;\"/><ellipse cx=\"179.8563\" cy=\"289.3471\" fill=\"#A80036\" rx=\"2\" ry=\"2\" style=\"stroke: #A80036; stroke-width: 1.0;\"/></a><!--MD5=[f4cf0736d43fd73c4ef68817c49d37d5]\n",
       "reverse link E6 to E8--><a href=\"psysml:4e9eccbd-3da0-4f6c-a773-1d808904fdc5\" target=\"_top\" title=\"psysml:4e9eccbd-3da0-4f6c-a773-1d808904fdc5\" xlink:actuate=\"onRequest\" xlink:href=\"psysml:4e9eccbd-3da0-4f6c-a773-1d808904fdc5\" xlink:show=\"new\" xlink:title=\"psysml:4e9eccbd-3da0-4f6c-a773-1d808904fdc5\" xlink:type=\"simple\"><path d=\"M148.79,529.47 C159.46,547.58 171.25,567.58 179.97,582.38 \" fill=\"none\" id=\"E6&lt;-E8\" style=\"stroke: #A80036; stroke-width: 1.0;\"/><polygon fill=\"#A80036\" points=\"142.16,518.21,141.76,525.41,148.2523,528.5485,148.6523,521.3485,142.16,518.21\" style=\"stroke: #A80036; stroke-width: 1.0;\"/></a><!--MD5=[8e04057e7b3cbc0dca4fc78ea351e2da]\n",
       "reverse link E10 to E3--><a href=\"psysml:800170d4-464e-4c2e-99b4-fb1d2de59c3f\" target=\"_top\" title=\"psysml:800170d4-464e-4c2e-99b4-fb1d2de59c3f\" xlink:actuate=\"onRequest\" xlink:href=\"psysml:800170d4-464e-4c2e-99b4-fb1d2de59c3f\" xlink:show=\"new\" xlink:title=\"psysml:800170d4-464e-4c2e-99b4-fb1d2de59c3f\" xlink:type=\"simple\"><path d=\"M107.78,128.43 C121.23,150.31 136.77,175.59 148.83,195.2 \" fill=\"none\" id=\"E10&lt;-E3\" style=\"stroke: #A80036; stroke-width: 1.0;\"/><polygon fill=\"#FFFFFF\" points=\"100.96,117.35,100.6917,124.5561,107.2403,127.5753,107.5086,120.3692,100.96,117.35\" style=\"stroke: #A80036; stroke-width: 1.0;\"/><text fill=\"#000000\" font-family=\"sans-serif\" font-size=\"13\" lengthAdjust=\"spacingAndGlyphs\" textLength=\"7\" x=\"129\" y=\"160.0669\">y</text></a><!--MD5=[604cbf994c02b74b117f728a71673cea]\n",
       "reverse link E10 to E6--><a href=\"psysml:800170d4-464e-4c2e-99b4-fb1d2de59c3f\" target=\"_top\" title=\"psysml:800170d4-464e-4c2e-99b4-fb1d2de59c3f\" xlink:actuate=\"onRequest\" xlink:href=\"psysml:800170d4-464e-4c2e-99b4-fb1d2de59c3f\" xlink:show=\"new\" xlink:title=\"psysml:800170d4-464e-4c2e-99b4-fb1d2de59c3f\" xlink:type=\"simple\"><path d=\"M75.96,130.3 C74.43,191.49 74.85,297.69 91,387 C94.73,407.66 101.86,430.01 108.35,447.84 \" fill=\"none\" id=\"E10&lt;-E6\" style=\"stroke: #A80036; stroke-width: 1.0;\"/><polygon fill=\"#FFFFFF\" points=\"76.33,117.22,72.1603,123.1033,75.9873,129.2151,80.157,123.3318,76.33,117.22\" style=\"stroke: #A80036; stroke-width: 1.0;\"/><text fill=\"#000000\" font-family=\"sans-serif\" font-size=\"13\" lengthAdjust=\"spacingAndGlyphs\" textLength=\"7\" x=\"81\" y=\"307.0669\">y</text></a><!--MD5=[32cea4f60e5d638a3d1c04d30806821d]\n",
       "@startuml\r\n",
       " \r\n",
       "package \"BlockTest\" as E1  [[psysml:1f80f8be-3c31-4480-9ece-24461005c64a ]]  {\r\n",
       "comp usage \"f: A\" as E2  << (P,limegreen) part>> [[psysml:77ca47e2-95bd-4f5e-baaf-35974d96745c ]] {\r\n",
       "}\r\n",
       "comp def \"A\" as E3  << (B,green) >> [[psysml:feda5581-6f8c-419d-8ba7-a8a04be8503b ]] {\r\n",
       "- - ports - -\r\n",
       "c: C\r\n",
       "}\r\n",
       "comp usage \"b: B\" as E4  << (P,limegreen) part>> [[psysml:ebd0a90b-6b0b-4fe7-b689-bf63abb6537b ]] {\r\n",
       "}\r\n",
       "comp def \"B\" as E6  << (B,green) >> [[psysml:7287ae62-763a-4b84-8405-f658443750c5 ]] {\r\n",
       "- - ports - -\r\n",
       "x: ~C\r\n",
       "}\r\n",
       "package \"P\" as E7  [[psysml:8a2f941b-3a97-4b54-9145-5eb7e96c5b49 ]]  {\r\n",
       "}\r\n",
       "comp usage \"a: A\" as E8  << (P,limegreen) part>> [[psysml:4e9eccbd-3da0-4f6c-a773-1d808904fdc5 ]] {\r\n",
       "}\r\n",
       "comp def \"C\" as E10  <<(D,brown)port def>> [[psysml:8c4f99f3-2675-4f4d-a756-da09d407570d ]] {\r\n",
       "- - references - -\r\n",
       "y: A, B <b>as</b> z2 \r\n",
       "}\r\n",
       "E2 - -:|> E3 [[psysml:f1219804-170d-45ce-a1b2-74df9d2ed655 ]] \r\n",
       "E3 *- - E4 [[psysml:ebd0a90b-6b0b-4fe7-b689-bf63abb6537b ]] \r\n",
       "E4 - -:|> E6 [[psysml:0b7e6d0b-da90-43fd-82ff-3f36fc5229c0 ]] \r\n",
       "E6 +- - E7 [[psysml:8a2f941b-3a97-4b54-9145-5eb7e96c5b49 ]] \r\n",
       "E8 - -:|> E3 [[psysml:edfb0c1d-eeea-43d5-bece-b0bce4203cff ]] \r\n",
       "E6 *- - E8 [[psysml:4e9eccbd-3da0-4f6c-a773-1d808904fdc5 ]] \r\n",
       "E10 o- - E3 [[psysml:800170d4-464e-4c2e-99b4-fb1d2de59c3f ]] : y\r\n",
       "E10 o- - E6 [[psysml:800170d4-464e-4c2e-99b4-fb1d2de59c3f ]] : y\r\n",
       "}\r\n",
       "@enduml\r\n",
       "\n",
       "PlantUML version 1.2020.13(Sat Jun 13 12:26:38 UTC 2020)\n",
       "(EPL source distribution)\n",
       "Java Runtime: OpenJDK Runtime Environment\n",
       "JVM: OpenJDK 64-Bit Server VM\n",
       "Default Encoding: UTF-8\n",
       "Language: en\n",
       "Country: null\n",
       "--></g></svg>"
      ]
     },
     "execution_count": 31,
     "metadata": {},
     "output_type": "execute_result"
    }
   ],
   "source": [
    "%viz --style=\"PLANTUML\" --view=\"Tree\" \"BlockTest\""
   ]
  },
  {
   "cell_type": "code",
   "execution_count": 32,
   "id": "adjacent-mambo",
   "metadata": {
    "execution": {
     "iopub.execute_input": "2021-03-26T12:07:39.733503Z",
     "iopub.status.busy": "2021-03-26T12:07:39.733151Z",
     "iopub.status.idle": "2021-03-26T12:07:39.803221Z",
     "shell.execute_reply": "2021-03-26T12:07:39.801946Z"
    }
   },
   "outputs": [
    {
     "data": {
      "image/svg+xml": [
       "<?xml version=\"1.0\" encoding=\"UTF-8\" standalone=\"no\"?><svg xmlns=\"http://www.w3.org/2000/svg\" xmlns:xlink=\"http://www.w3.org/1999/xlink\" contentScriptType=\"application/ecmascript\" contentStyleType=\"text/css\" height=\"303px\" preserveAspectRatio=\"none\" style=\"width:603px;height:303px;background:#000000;\" version=\"1.1\" viewBox=\"0 0 603 303\" width=\"603px\" zoomAndPan=\"magnify\"><defs/><g><rect fill=\"#1B2305\" height=\"1\" style=\"stroke: #1B2305; stroke-width: 1.0;\" width=\"1\" x=\"0\" y=\"0\"/><rect fill=\"#FFFFFF\" height=\"205.5625\" style=\"stroke: #FFFFFF; stroke-width: 1.0;\" width=\"602\" x=\"0\" y=\"0\"/><text fill=\"#000000\" font-family=\"sans-serif\" font-size=\"12\" font-weight=\"bold\" lengthAdjust=\"spacingAndGlyphs\" textLength=\"159\" x=\"5\" y=\"16.1387\">Welcome to PlantUML!</text><text fill=\"#000000\" font-family=\"sans-serif\" font-size=\"12\" lengthAdjust=\"spacingAndGlyphs\" textLength=\"0\" x=\"9\" y=\"30.1074\"/><text fill=\"#000000\" font-family=\"sans-serif\" font-size=\"12\" lengthAdjust=\"spacingAndGlyphs\" textLength=\"293\" x=\"5\" y=\"44.0762\">If you use this software, you accept its license.</text><text fill=\"#000000\" font-family=\"sans-serif\" font-size=\"12\" lengthAdjust=\"spacingAndGlyphs\" textLength=\"107\" x=\"5\" y=\"58.0449\">(details by typing</text><text fill=\"#000000\" font-family=\"monospace\" font-size=\"12\" lengthAdjust=\"spacingAndGlyphs\" textLength=\"49\" x=\"116\" y=\"58.0449\">license</text><text fill=\"#000000\" font-family=\"sans-serif\" font-size=\"12\" lengthAdjust=\"spacingAndGlyphs\" textLength=\"56\" x=\"169\" y=\"58.0449\">keyword)</text><text fill=\"#000000\" font-family=\"sans-serif\" font-size=\"12\" lengthAdjust=\"spacingAndGlyphs\" textLength=\"0\" x=\"9\" y=\"72.0137\"/><text fill=\"#000000\" font-family=\"sans-serif\" font-size=\"12\" lengthAdjust=\"spacingAndGlyphs\" textLength=\"283\" x=\"5\" y=\"85.9824\">You can start with a simple UML Diagram like:</text><text fill=\"#000000\" font-family=\"sans-serif\" font-size=\"12\" lengthAdjust=\"spacingAndGlyphs\" textLength=\"0\" x=\"9\" y=\"99.9512\"/><text fill=\"#000000\" font-family=\"monospace\" font-size=\"12\" lengthAdjust=\"spacingAndGlyphs\" textLength=\"119\" x=\"5\" y=\"113.9199\">Bob-&gt;Alice: Hello</text><text fill=\"#000000\" font-family=\"sans-serif\" font-size=\"12\" lengthAdjust=\"spacingAndGlyphs\" textLength=\"0\" x=\"9\" y=\"127.8887\"/><text fill=\"#000000\" font-family=\"sans-serif\" font-size=\"12\" lengthAdjust=\"spacingAndGlyphs\" textLength=\"14\" x=\"5\" y=\"141.8574\">Or</text><text fill=\"#000000\" font-family=\"sans-serif\" font-size=\"12\" lengthAdjust=\"spacingAndGlyphs\" textLength=\"0\" x=\"9\" y=\"155.8262\"/><text fill=\"#000000\" font-family=\"monospace\" font-size=\"12\" lengthAdjust=\"spacingAndGlyphs\" textLength=\"91\" x=\"5\" y=\"169.7949\">class Example</text><text fill=\"#000000\" font-family=\"sans-serif\" font-size=\"12\" lengthAdjust=\"spacingAndGlyphs\" textLength=\"0\" x=\"9\" y=\"183.7637\"/><text fill=\"#000000\" font-family=\"sans-serif\" font-size=\"12\" lengthAdjust=\"spacingAndGlyphs\" textLength=\"349\" x=\"5\" y=\"197.7324\">You will find more information about PlantUML syntax on</text><text fill=\"#000000\" font-family=\"sans-serif\" font-size=\"12\" lengthAdjust=\"spacingAndGlyphs\" text-decoration=\"underline\" textLength=\"129\" x=\"358\" y=\"197.7324\">https://plantuml.com</text><image height=\"71\" width=\"80\" x=\"516\" xlink:href=\"data:image/png;base64,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\" y=\"6\"/><rect fill=\"#000000\" height=\"96.4844\" style=\"stroke: #000000; stroke-width: 1.0;\" width=\"602\" x=\"0\" y=\"205.5625\"/><rect fill=\"#33FF02\" height=\"21.2969\" style=\"stroke: #33FF02; stroke-width: 1.0;\" width=\"170\" x=\"5\" y=\"210.5625\"/><text fill=\"#000000\" font-family=\"sans-serif\" font-size=\"14\" font-weight=\"bold\" lengthAdjust=\"spacingAndGlyphs\" textLength=\"168\" x=\"6\" y=\"225.5625\">[From string (line 2) ]</text><text fill=\"#33FF02\" font-family=\"sans-serif\" font-size=\"14\" font-weight=\"bold\" lengthAdjust=\"spacingAndGlyphs\" textLength=\"0\" x=\"10\" y=\"245.8594\"/><text fill=\"#33FF02\" font-family=\"sans-serif\" font-size=\"14\" font-weight=\"bold\" lengthAdjust=\"spacingAndGlyphs\" textLength=\"79\" x=\"5\" y=\"262.1563\">@startuml</text><text fill=\"#33FF02\" font-family=\"sans-serif\" font-size=\"14\" font-weight=\"bold\" lengthAdjust=\"spacingAndGlyphs\" textLength=\"0\" x=\"10\" y=\"278.4531\"/><text fill=\"#FF0000\" font-family=\"sans-serif\" font-size=\"14\" font-weight=\"bold\" lengthAdjust=\"spacingAndGlyphs\" textLength=\"142\" x=\"10\" y=\"294.75\">Empty description</text><!--MD5=[f59edd8218d337f74d0c332fc6737304]\n",
       "@startuml\r\n",
       " \r\n",
       "@enduml\r\n",
       "\n",
       "PlantUML version 1.2020.13(Sat Jun 13 12:26:38 UTC 2020)\n",
       "(EPL source distribution)\n",
       "Java Runtime: OpenJDK Runtime Environment\n",
       "JVM: OpenJDK 64-Bit Server VM\n",
       "Default Encoding: UTF-8\n",
       "Language: en\n",
       "Country: null\n",
       "--></g></svg>"
      ]
     },
     "execution_count": 32,
     "metadata": {},
     "output_type": "execute_result"
    }
   ],
   "source": [
    "%viz --style=\"PLANTUML\" --view=\"State\" \"BlockTest\""
   ]
  },
  {
   "cell_type": "code",
   "execution_count": 33,
   "id": "abstract-subject",
   "metadata": {
    "execution": {
     "iopub.execute_input": "2021-03-26T12:07:39.856067Z",
     "iopub.status.busy": "2021-03-26T12:07:39.855202Z",
     "iopub.status.idle": "2021-03-26T12:07:39.887020Z",
     "shell.execute_reply": "2021-03-26T12:07:39.885649Z"
    }
   },
   "outputs": [
    {
     "data": {
      "image/svg+xml": [
       "<?xml version=\"1.0\" encoding=\"UTF-8\" standalone=\"no\"?><svg xmlns=\"http://www.w3.org/2000/svg\" xmlns:xlink=\"http://www.w3.org/1999/xlink\" contentScriptType=\"application/ecmascript\" contentStyleType=\"text/css\" height=\"245px\" preserveAspectRatio=\"none\" style=\"width:492px;height:245px;\" version=\"1.1\" viewBox=\"0 0 492 245\" width=\"492px\" zoomAndPan=\"magnify\"><defs><filter height=\"300%\" id=\"f1gla6zjwsjpfl\" width=\"300%\" x=\"-1\" y=\"-1\"><feGaussianBlur result=\"blurOut\" stdDeviation=\"2.0\"/><feColorMatrix in=\"blurOut\" result=\"blurOut2\" type=\"matrix\" values=\"0 0 0 0 0 0 0 0 0 0 0 0 0 0 0 0 0 0 .4 0\"/><feOffset dx=\"4.0\" dy=\"4.0\" in=\"blurOut2\" result=\"blurOut3\"/><feBlend in=\"SourceGraphic\" in2=\"blurOut3\" mode=\"normal\"/></filter></defs><g><!--MD5=[fbc87193dbaf4d95561dea2c320d4a47]\n",
       "cluster E1--><a href=\"psysml:1f80f8be-3c31-4480-9ece-24461005c64a\" target=\"_top\" title=\"psysml:1f80f8be-3c31-4480-9ece-24461005c64a\" xlink:actuate=\"onRequest\" xlink:href=\"psysml:1f80f8be-3c31-4480-9ece-24461005c64a\" xlink:show=\"new\" xlink:title=\"psysml:1f80f8be-3c31-4480-9ece-24461005c64a\" xlink:type=\"simple\"><polygon fill=\"#FFFFFF\" filter=\"url(#f1gla6zjwsjpfl)\" points=\"16,6,99,6,106,28.2969,470,28.2969,470,233,16,233,16,6\" style=\"stroke: #000000; stroke-width: 1.5;\"/><line style=\"stroke: #000000; stroke-width: 1.5;\" x1=\"16\" x2=\"106\" y1=\"28.2969\" y2=\"28.2969\"/><text fill=\"#000000\" font-family=\"sans-serif\" font-size=\"14\" font-weight=\"bold\" lengthAdjust=\"spacingAndGlyphs\" textLength=\"77\" x=\"20\" y=\"20.9951\">BlockTest</text></a><!--MD5=[d5e69f78d87373223dbae638b30a9c99]\n",
       "cluster E3--><a href=\"psysml:feda5581-6f8c-419d-8ba7-a8a04be8503b\" target=\"_top\" title=\"psysml:feda5581-6f8c-419d-8ba7-a8a04be8503b\" xlink:actuate=\"onRequest\" xlink:href=\"psysml:feda5581-6f8c-419d-8ba7-a8a04be8503b\" xlink:show=\"new\" xlink:title=\"psysml:feda5581-6f8c-419d-8ba7-a8a04be8503b\" xlink:type=\"simple\"><rect fill=\"#FFFFFF\" filter=\"url(#f1gla6zjwsjpfl)\" height=\"154.5\" id=\"E3\" style=\"stroke: #A80036; stroke-width: 1.5;\" width=\"94\" x=\"360\" y=\"62.5\"/><rect fill=\"#FEFECE\" height=\"23.9688\" style=\"stroke: #A80036; stroke-width: 1.5;\" width=\"94\" x=\"360\" y=\"62.5\"/><text fill=\"#000000\" font-family=\"sans-serif\" font-size=\"12\" lengthAdjust=\"spacingAndGlyphs\" textLength=\"8\" x=\"403\" y=\"78.6387\">A</text></a><!--MD5=[14e3b0961a2654348d326746436168a1]\n",
       "cluster E6--><a href=\"psysml:7287ae62-763a-4b84-8405-f658443750c5\" target=\"_top\" title=\"psysml:7287ae62-763a-4b84-8405-f658443750c5\" xlink:actuate=\"onRequest\" xlink:href=\"psysml:7287ae62-763a-4b84-8405-f658443750c5\" xlink:show=\"new\" xlink:title=\"psysml:7287ae62-763a-4b84-8405-f658443750c5\" xlink:type=\"simple\"><rect fill=\"#FFFFFF\" filter=\"url(#f1gla6zjwsjpfl)\" height=\"154.5\" id=\"E6\" style=\"stroke: #A80036; stroke-width: 1.5;\" width=\"123\" x=\"229\" y=\"62.5\"/><rect fill=\"#FEFECE\" height=\"23.9688\" style=\"stroke: #A80036; stroke-width: 1.5;\" width=\"123\" x=\"229\" y=\"62.5\"/><text fill=\"#000000\" font-family=\"sans-serif\" font-size=\"12\" lengthAdjust=\"spacingAndGlyphs\" textLength=\"8\" x=\"286.5\" y=\"78.6387\">B</text></a><g id=\"E1.E10\"><a href=\"psysml:8c4f99f3-2675-4f4d-a756-da09d407570d\" target=\"_top\" title=\"psysml:8c4f99f3-2675-4f4d-a756-da09d407570d\" xlink:actuate=\"onRequest\" xlink:href=\"psysml:8c4f99f3-2675-4f4d-a756-da09d407570d\" xlink:show=\"new\" xlink:title=\"psysml:8c4f99f3-2675-4f4d-a756-da09d407570d\" xlink:type=\"simple\"><rect fill=\"#FEFECE\" filter=\"url(#f1gla6zjwsjpfl)\" height=\"42.9375\" id=\"E10\" style=\"stroke: #A80036; stroke-width: 1.5;\" width=\"97\" x=\"124.5\" y=\"41\"/><ellipse cx=\"141.75\" cy=\"59.9688\" fill=\"#A52A2A\" rx=\"11\" ry=\"11\" style=\"stroke: #A80036; stroke-width: 1.0;\"/><path d=\"M141.3438,55.7813 L141.3438,63.7656 L142,63.7656 Q143.4375,63.7656 144.0469,62.8594 Q144.6719,61.9375 144.6719,59.7656 Q144.6719,57.5938 144.0469,56.6875 Q143.4375,55.7813 142,55.7813 L141.3438,55.7813 Z M138.8906,53.5781 L141.5156,53.5781 Q144.5469,53.5781 145.875,55.0313 Q147.2188,56.4688 147.2188,59.7656 Q147.2188,63.0625 145.875,64.5156 Q144.5469,65.9688 141.5156,65.9688 L138.8906,65.9688 L138.8906,53.5781 Z \"/><text fill=\"#000000\" font-family=\"sans-serif\" font-size=\"12\" font-style=\"italic\" lengthAdjust=\"spacingAndGlyphs\" textLength=\"64\" x=\"154.25\" y=\"57.1387\">«port def»</text><text fill=\"#000000\" font-family=\"sans-serif\" font-size=\"12\" lengthAdjust=\"spacingAndGlyphs\" textLength=\"8\" x=\"182.25\" y=\"71.1074\">C</text></a></g><g id=\"E1.E2\"><a href=\"psysml:77ca47e2-95bd-4f5e-baaf-35974d96745c\" target=\"_top\" title=\"psysml:77ca47e2-95bd-4f5e-baaf-35974d96745c\" xlink:actuate=\"onRequest\" xlink:href=\"psysml:77ca47e2-95bd-4f5e-baaf-35974d96745c\" xlink:show=\"new\" xlink:title=\"psysml:77ca47e2-95bd-4f5e-baaf-35974d96745c\" xlink:type=\"simple\"><rect fill=\"#FEFECE\" filter=\"url(#f1gla6zjwsjpfl)\" height=\"40\" id=\"E2\" rx=\"10\" ry=\"10\" style=\"stroke: #A80036; stroke-width: 1.5;\" width=\"57\" x=\"32.5\" y=\"42.5\"/><ellipse cx=\"49.75\" cy=\"58.5\" fill=\"#B6DBBB\" rx=\"11\" ry=\"11\" style=\"stroke: #A80036; stroke-width: 1.0;\"/><path d=\"M45.625,60.4219 L45.625,52.6094 L48.0781,52.6094 L48.0781,61.0469 Q48.0781,61.9688 48.5469,62.5 Q49.0313,63.0313 49.8594,63.0313 Q50.7031,63.0313 51.1719,62.5 Q51.6406,61.9688 51.6406,61.0469 L51.6406,52.6094 L54.0938,52.6094 L54.0938,60.4219 Q54.0938,62.9531 53.0938,64.0938 Q52.0938,65.2344 49.8594,65.2344 Q47.6406,65.2344 46.625,64.0938 Q45.625,62.9531 45.625,60.4219 Z \"/><text fill=\"#000000\" font-family=\"sans-serif\" font-size=\"12\" lengthAdjust=\"spacingAndGlyphs\" textLength=\"20\" x=\"64.25\" y=\"62.6543\">f: A</text></a></g><text fill=\"#000000\" font-family=\"sans-serif\" font-size=\"14\" lengthAdjust=\"spacingAndGlyphs\" textLength=\"27\" x=\"393.5\" y=\"41.1982\">c: C</text><rect fill=\"#A80036\" height=\"12\" style=\"stroke: #FEFECE; stroke-width: 1.5;\" width=\"12\" x=\"401\" y=\"56.5\"/><g id=\"E1.E3.E4\"><a href=\"psysml:ebd0a90b-6b0b-4fe7-b689-bf63abb6537b\" target=\"_top\" title=\"psysml:ebd0a90b-6b0b-4fe7-b689-bf63abb6537b\" xlink:actuate=\"onRequest\" xlink:href=\"psysml:ebd0a90b-6b0b-4fe7-b689-bf63abb6537b\" xlink:show=\"new\" xlink:title=\"psysml:ebd0a90b-6b0b-4fe7-b689-bf63abb6537b\" xlink:type=\"simple\"><rect fill=\"#FEFECE\" filter=\"url(#f1gla6zjwsjpfl)\" height=\"40\" id=\"E4\" rx=\"10\" ry=\"10\" style=\"stroke: #A80036; stroke-width: 1.5;\" width=\"61\" x=\"376.5\" y=\"161\"/><ellipse cx=\"393.75\" cy=\"177\" fill=\"#B6DBBB\" rx=\"11\" ry=\"11\" style=\"stroke: #A80036; stroke-width: 1.0;\"/><path d=\"M389.625,178.9219 L389.625,171.1094 L392.0781,171.1094 L392.0781,179.5469 Q392.0781,180.4688 392.5469,181 Q393.0313,181.5313 393.8594,181.5313 Q394.7031,181.5313 395.1719,181 Q395.6406,180.4688 395.6406,179.5469 L395.6406,171.1094 L398.0938,171.1094 L398.0938,178.9219 Q398.0938,181.4531 397.0938,182.5938 Q396.0938,183.7344 393.8594,183.7344 Q391.6406,183.7344 390.625,182.5938 Q389.625,181.4531 389.625,178.9219 Z \"/><text fill=\"#000000\" font-family=\"sans-serif\" font-size=\"12\" lengthAdjust=\"spacingAndGlyphs\" textLength=\"24\" x=\"408.25\" y=\"181.1543\">b: B</text></a></g><text fill=\"#000000\" font-family=\"sans-serif\" font-size=\"14\" lengthAdjust=\"spacingAndGlyphs\" textLength=\"38\" x=\"304\" y=\"41.1982\">x: ~C</text><rect fill=\"#A80036\" height=\"12\" style=\"stroke: #FEFECE; stroke-width: 1.5;\" width=\"12\" x=\"317\" y=\"56.5\"/><a href=\"psysml:8a2f941b-3a97-4b54-9145-5eb7e96c5b49\" target=\"_top\" title=\"psysml:8a2f941b-3a97-4b54-9145-5eb7e96c5b49\" xlink:actuate=\"onRequest\" xlink:href=\"psysml:8a2f941b-3a97-4b54-9145-5eb7e96c5b49\" xlink:show=\"new\" xlink:title=\"psysml:8a2f941b-3a97-4b54-9145-5eb7e96c5b49\" xlink:type=\"simple\"><polygon fill=\"#FFFFFF\" filter=\"url(#f1gla6zjwsjpfl)\" points=\"245,100,261,100,268,122.2969,275,122.2969,275,152.5938,245,152.5938,245,100\" style=\"stroke: #000000; stroke-width: 1.5;\"/><line style=\"stroke: #000000; stroke-width: 1.5;\" x1=\"245\" x2=\"268\" y1=\"122.2969\" y2=\"122.2969\"/><text fill=\"#000000\" font-family=\"sans-serif\" font-size=\"14\" font-weight=\"bold\" lengthAdjust=\"spacingAndGlyphs\" textLength=\"10\" x=\"249\" y=\"114.9951\">P</text></a><g id=\"E1.E6.E8\"><a href=\"psysml:4e9eccbd-3da0-4f6c-a773-1d808904fdc5\" target=\"_top\" title=\"psysml:4e9eccbd-3da0-4f6c-a773-1d808904fdc5\" xlink:actuate=\"onRequest\" xlink:href=\"psysml:4e9eccbd-3da0-4f6c-a773-1d808904fdc5\" xlink:show=\"new\" xlink:title=\"psysml:4e9eccbd-3da0-4f6c-a773-1d808904fdc5\" xlink:type=\"simple\"><rect fill=\"#FEFECE\" filter=\"url(#f1gla6zjwsjpfl)\" height=\"40\" id=\"E8\" rx=\"10\" ry=\"10\" style=\"stroke: #A80036; stroke-width: 1.5;\" width=\"61\" x=\"274.5\" y=\"161\"/><ellipse cx=\"291.75\" cy=\"177\" fill=\"#B6DBBB\" rx=\"11\" ry=\"11\" style=\"stroke: #A80036; stroke-width: 1.0;\"/><path d=\"M287.625,178.9219 L287.625,171.1094 L290.0781,171.1094 L290.0781,179.5469 Q290.0781,180.4688 290.5469,181 Q291.0313,181.5313 291.8594,181.5313 Q292.7031,181.5313 293.1719,181 Q293.6406,180.4688 293.6406,179.5469 L293.6406,171.1094 L296.0938,171.1094 L296.0938,178.9219 Q296.0938,181.4531 295.0938,182.5938 Q294.0938,183.7344 291.8594,183.7344 Q289.6406,183.7344 288.625,182.5938 Q287.625,181.4531 287.625,178.9219 Z \"/><text fill=\"#000000\" font-family=\"sans-serif\" font-size=\"12\" lengthAdjust=\"spacingAndGlyphs\" textLength=\"24\" x=\"306.25\" y=\"181.1543\">a: A</text></a></g><!--MD5=[f3400bd17858c79b148ae05c877b4fe5]\n",
       "@startuml\r\n",
       "skinparam ranksep 8\r\n",
       "skinparam rectangle {\r\n",
       " backgroundColor<<block>> LightGreen\r\n",
       "}\r\n",
       " \r\n",
       "package \"BlockTest\" as E1  [[psysml:1f80f8be-3c31-4480-9ece-24461005c64a ]]  {\r\n",
       "rec usage \"f: A\" as E2  [[psysml:77ca47e2-95bd-4f5e-baaf-35974d96745c ]] {\r\n",
       "}\r\n",
       "rec def \"A\" as E3  << (B,green) >> [[psysml:feda5581-6f8c-419d-8ba7-a8a04be8503b ]] {\r\n",
       "rec usage \"b: B\" as E4  [[psysml:ebd0a90b-6b0b-4fe7-b689-bf63abb6537b ]] {\r\n",
       "}\r\n",
       "portin \"c: C\" as E5  << (P,blue) port>> [[psysml:32f6582c-cfe7-4be0-a097-86306546e345 ]] \r\n",
       "}\r\n",
       "rec def \"B\" as E6  << (B,green) >> [[psysml:7287ae62-763a-4b84-8405-f658443750c5 ]] {\r\n",
       "package \"P\" as E7  [[psysml:8a2f941b-3a97-4b54-9145-5eb7e96c5b49 ]]  {\r\n",
       "}\r\n",
       "rec usage \"a: A\" as E8  [[psysml:4e9eccbd-3da0-4f6c-a773-1d808904fdc5 ]] {\r\n",
       "}\r\n",
       "portin \"x: ~C\" as E9  << (P,blue) port>> [[psysml:8030edf4-ee82-408b-9211-cce203dbe0d1 ]] \r\n",
       "}\r\n",
       "def \"C\" as E10  <<(D,brown)port def>> [[psysml:8c4f99f3-2675-4f4d-a756-da09d407570d ]] \r\n",
       "}\r\n",
       "@enduml\r\n",
       "\n",
       "PlantUML version 1.2020.13(Sat Jun 13 12:26:38 UTC 2020)\n",
       "(EPL source distribution)\n",
       "Java Runtime: OpenJDK Runtime Environment\n",
       "JVM: OpenJDK 64-Bit Server VM\n",
       "Default Encoding: UTF-8\n",
       "Language: en\n",
       "Country: null\n",
       "--></g></svg>"
      ]
     },
     "execution_count": 33,
     "metadata": {},
     "output_type": "execute_result"
    }
   ],
   "source": [
    "%viz --style=\"PLANTUML\" --view=\"Interconnection\" \"BlockTest\""
   ]
  },
  {
   "cell_type": "code",
   "execution_count": 34,
   "id": "conceptual-venezuela",
   "metadata": {
    "execution": {
     "iopub.execute_input": "2021-03-26T12:07:39.939437Z",
     "iopub.status.busy": "2021-03-26T12:07:39.938894Z",
     "iopub.status.idle": "2021-03-26T12:07:39.943527Z",
     "shell.execute_reply": "2021-03-26T12:07:39.943180Z"
    }
   },
   "outputs": [
    {
     "data": {
      "image/svg+xml": [
       "<?xml version=\"1.0\" encoding=\"UTF-8\" standalone=\"no\"?><svg xmlns=\"http://www.w3.org/2000/svg\" xmlns:xlink=\"http://www.w3.org/1999/xlink\" contentScriptType=\"application/ecmascript\" contentStyleType=\"text/css\" height=\"12px\" preserveAspectRatio=\"none\" style=\"width:12px;height:12px;\" version=\"1.1\" viewBox=\"0 0 12 12\" width=\"12px\" zoomAndPan=\"magnify\"><defs/><g><!--MD5=[6a4cb978cab31700e1ce5529f947a75d]\n",
       "@startuml\r\n",
       "skinparam ranksep 8\r\n",
       " \r\n",
       "@enduml\r\n",
       "\n",
       "PlantUML version 1.2020.13(Sat Jun 13 12:26:38 UTC 2020)\n",
       "(EPL source distribution)\n",
       "Java Runtime: OpenJDK Runtime Environment\n",
       "JVM: OpenJDK 64-Bit Server VM\n",
       "Default Encoding: UTF-8\n",
       "Language: en\n",
       "Country: null\n",
       "--></g></svg>"
      ]
     },
     "execution_count": 34,
     "metadata": {},
     "output_type": "execute_result"
    }
   ],
   "source": [
    "%viz --style=\"PLANTUML\" --view=\"Action\" \"BlockTest\""
   ]
  },
  {
   "cell_type": "code",
   "execution_count": 35,
   "id": "matched-glasgow",
   "metadata": {
    "execution": {
     "iopub.execute_input": "2021-03-26T12:07:39.995462Z",
     "iopub.status.busy": "2021-03-26T12:07:39.994665Z",
     "iopub.status.idle": "2021-03-26T12:07:40.057266Z",
     "shell.execute_reply": "2021-03-26T12:07:40.055965Z"
    }
   },
   "outputs": [
    {
     "data": {
      "image/svg+xml": [
       "<?xml version=\"1.0\" encoding=\"UTF-8\" standalone=\"no\"?><svg xmlns=\"http://www.w3.org/2000/svg\" xmlns:xlink=\"http://www.w3.org/1999/xlink\" contentScriptType=\"application/ecmascript\" contentStyleType=\"text/css\" height=\"660px\" preserveAspectRatio=\"none\" style=\"width:265px;height:660px;\" version=\"1.1\" viewBox=\"0 0 265 660\" width=\"265px\" zoomAndPan=\"magnify\"><defs><filter height=\"300%\" id=\"f7lo0yfpgldzt\" width=\"300%\" x=\"-1\" y=\"-1\"><feGaussianBlur result=\"blurOut\" stdDeviation=\"2.0\"/><feColorMatrix in=\"blurOut\" result=\"blurOut2\" type=\"matrix\" values=\"0 0 0 0 0 0 0 0 0 0 0 0 0 0 0 0 0 0 .4 0\"/><feOffset dx=\"4.0\" dy=\"4.0\" in=\"blurOut2\" result=\"blurOut3\"/><feBlend in=\"SourceGraphic\" in2=\"blurOut3\" mode=\"normal\"/></filter></defs><g><!--MD5=[fbc87193dbaf4d95561dea2c320d4a47]\n",
       "cluster E1--><a href=\"psysml:1f80f8be-3c31-4480-9ece-24461005c64a\" target=\"_top\" title=\"psysml:1f80f8be-3c31-4480-9ece-24461005c64a\" xlink:actuate=\"onRequest\" xlink:href=\"psysml:1f80f8be-3c31-4480-9ece-24461005c64a\" xlink:show=\"new\" xlink:title=\"psysml:1f80f8be-3c31-4480-9ece-24461005c64a\" xlink:type=\"simple\"><polygon fill=\"#FFFFFF\" filter=\"url(#f7lo0yfpgldzt)\" points=\"16,6,99,6,106,28.2969,243,28.2969,243,648,16,648,16,6\" style=\"stroke: #000000; stroke-width: 1.5;\"/><line style=\"stroke: #000000; stroke-width: 1.5;\" x1=\"16\" x2=\"106\" y1=\"28.2969\" y2=\"28.2969\"/><text fill=\"#000000\" font-family=\"sans-serif\" font-size=\"14\" font-weight=\"bold\" lengthAdjust=\"spacingAndGlyphs\" textLength=\"77\" x=\"20\" y=\"20.9951\">BlockTest</text></a><!--MD5=[b4997ac47864f28c2f74865a473b2911]\n",
       "class E2--><a href=\"psysml:77ca47e2-95bd-4f5e-baaf-35974d96745c\" target=\"_top\" title=\"psysml:77ca47e2-95bd-4f5e-baaf-35974d96745c\" xlink:actuate=\"onRequest\" xlink:href=\"psysml:77ca47e2-95bd-4f5e-baaf-35974d96745c\" xlink:show=\"new\" xlink:title=\"psysml:77ca47e2-95bd-4f5e-baaf-35974d96745c\" xlink:type=\"simple\"><rect fill=\"#FEFECE\" filter=\"url(#f7lo0yfpgldzt)\" height=\"45.9375\" id=\"E2\" rx=\"10\" ry=\"10\" style=\"stroke: #A80036; stroke-width: 1.5;\" width=\"68\" x=\"159\" y=\"56\"/><ellipse cx=\"174\" cy=\"74.9688\" fill=\"#32CD32\" rx=\"11\" ry=\"11\" style=\"stroke: #A80036; stroke-width: 1.0;\"/><path d=\"M173.7969,70.6406 L173.7969,74.2656 L174.7969,74.2656 Q176,74.2656 176.4844,73.8594 Q176.9688,73.4531 176.9688,72.4531 Q176.9688,71.4531 176.4844,71.0469 Q176,70.6406 174.7969,70.6406 L173.7969,70.6406 Z M171.3438,68.5781 L174.7031,68.5781 Q177.2656,68.5781 178.3906,69.5 Q179.5156,70.4063 179.5156,72.4531 Q179.5156,74.5 178.3906,75.4219 Q177.2656,76.3281 174.7031,76.3281 L173.7969,76.3281 L173.7969,80.9688 L171.3438,80.9688 L171.3438,68.5781 Z \"/><text fill=\"#000000\" font-family=\"sans-serif\" font-size=\"12\" font-style=\"italic\" lengthAdjust=\"spacingAndGlyphs\" textLength=\"40\" x=\"186\" y=\"72.1387\">«part»</text><text fill=\"#000000\" font-family=\"sans-serif\" font-size=\"12\" lengthAdjust=\"spacingAndGlyphs\" textLength=\"20\" x=\"196\" y=\"86.1074\">f: A</text><line style=\"stroke: #A80036; stroke-width: 1.5;\" x1=\"160\" x2=\"226\" y1=\"93.9375\" y2=\"93.9375\"/></a><!--MD5=[09b614a08d8cba4a07c9adeb5e0fee81]\n",
       "class E3--><a href=\"psysml:feda5581-6f8c-419d-8ba7-a8a04be8503b\" target=\"_top\" title=\"psysml:feda5581-6f8c-419d-8ba7-a8a04be8503b\" xlink:actuate=\"onRequest\" xlink:href=\"psysml:feda5581-6f8c-419d-8ba7-a8a04be8503b\" xlink:show=\"new\" xlink:title=\"psysml:feda5581-6f8c-419d-8ba7-a8a04be8503b\" xlink:type=\"simple\"><rect fill=\"#FEFECE\" filter=\"url(#f7lo0yfpgldzt)\" height=\"69.6094\" id=\"E3\" style=\"stroke: #A80036; stroke-width: 1.5;\" width=\"40\" x=\"149\" y=\"194\"/><ellipse cx=\"164\" cy=\"210\" fill=\"#008000\" rx=\"11\" ry=\"11\" style=\"stroke: #A80036; stroke-width: 1.0;\"/><path d=\"M162.9063,210.375 L162.9063,214.0469 L164.5313,214.0469 Q165.7031,214.0469 166.1719,213.6563 Q166.6406,213.25 166.6406,212.25 Q166.6406,211.25 166.1406,210.8125 Q165.6563,210.375 164.5313,210.375 L162.9063,210.375 Z M162.9063,205.5469 L162.9063,208.4219 L164.5313,208.4219 Q165.4531,208.4219 165.8438,208.0938 Q166.25,207.75 166.25,207 Q166.25,206.2344 165.8438,205.8906 Q165.4375,205.5469 164.5313,205.5469 L162.9063,205.5469 Z M160.5313,203.5938 L164.5313,203.5938 Q166.5938,203.5938 167.6406,204.375 Q168.6875,205.1563 168.6875,206.7188 Q168.6875,207.9219 168.0625,208.5938 Q167.4531,209.2656 166.2656,209.375 Q167.6875,209.5156 168.4063,210.3281 Q169.125,211.1406 169.125,212.5938 Q169.125,214.3906 168.0469,215.2031 Q166.9688,216 164.5313,216 L160.5313,216 L160.5313,203.5938 Z \"/><text fill=\"#000000\" font-family=\"sans-serif\" font-size=\"12\" lengthAdjust=\"spacingAndGlyphs\" textLength=\"8\" x=\"178\" y=\"214.1543\">A</text><line style=\"stroke: #A80036; stroke-width: 1.5;\" x1=\"150\" x2=\"188\" y1=\"226\" y2=\"226\"/><text fill=\"#000000\" font-family=\"sans-serif\" font-size=\"11\" lengthAdjust=\"spacingAndGlyphs\" textLength=\"22\" x=\"155\" y=\"257.0151\">c: C</text><line style=\"stroke: #A80036; stroke-width: 1.0;\" x1=\"150\" x2=\"154\" y1=\"240.4023\" y2=\"240.4023\"/><text fill=\"#000000\" font-family=\"sans-serif\" font-size=\"11\" lengthAdjust=\"spacingAndGlyphs\" textLength=\"30\" x=\"154\" y=\"243.7104\">ports</text><line style=\"stroke: #A80036; stroke-width: 1.0;\" x1=\"184\" x2=\"188\" y1=\"240.4023\" y2=\"240.4023\"/></a><!--MD5=[ebbe1d658d1005bcc118a6aa81145e00]\n",
       "class E4--><a href=\"psysml:ebd0a90b-6b0b-4fe7-b689-bf63abb6537b\" target=\"_top\" title=\"psysml:ebd0a90b-6b0b-4fe7-b689-bf63abb6537b\" xlink:actuate=\"onRequest\" xlink:href=\"psysml:ebd0a90b-6b0b-4fe7-b689-bf63abb6537b\" xlink:show=\"new\" xlink:title=\"psysml:ebd0a90b-6b0b-4fe7-b689-bf63abb6537b\" xlink:type=\"simple\"><rect fill=\"#FEFECE\" filter=\"url(#f7lo0yfpgldzt)\" height=\"45.9375\" id=\"E4\" rx=\"10\" ry=\"10\" style=\"stroke: #A80036; stroke-width: 1.5;\" width=\"68\" x=\"108\" y=\"341\"/><ellipse cx=\"123\" cy=\"359.9688\" fill=\"#32CD32\" rx=\"11\" ry=\"11\" style=\"stroke: #A80036; stroke-width: 1.0;\"/><path d=\"M122.7969,355.6406 L122.7969,359.2656 L123.7969,359.2656 Q125,359.2656 125.4844,358.8594 Q125.9688,358.4531 125.9688,357.4531 Q125.9688,356.4531 125.4844,356.0469 Q125,355.6406 123.7969,355.6406 L122.7969,355.6406 Z M120.3438,353.5781 L123.7031,353.5781 Q126.2656,353.5781 127.3906,354.5 Q128.5156,355.4063 128.5156,357.4531 Q128.5156,359.5 127.3906,360.4219 Q126.2656,361.3281 123.7031,361.3281 L122.7969,361.3281 L122.7969,365.9688 L120.3438,365.9688 L120.3438,353.5781 Z \"/><text fill=\"#000000\" font-family=\"sans-serif\" font-size=\"12\" font-style=\"italic\" lengthAdjust=\"spacingAndGlyphs\" textLength=\"40\" x=\"135\" y=\"357.1387\">«part»</text><text fill=\"#000000\" font-family=\"sans-serif\" font-size=\"12\" lengthAdjust=\"spacingAndGlyphs\" textLength=\"24\" x=\"143\" y=\"371.1074\">b: B</text><line style=\"stroke: #A80036; stroke-width: 1.5;\" x1=\"109\" x2=\"175\" y1=\"378.9375\" y2=\"378.9375\"/></a><!--MD5=[60a26617385b1d2d0262a64233df1f8d]\n",
       "class E6--><a href=\"psysml:7287ae62-763a-4b84-8405-f658443750c5\" target=\"_top\" title=\"psysml:7287ae62-763a-4b84-8405-f658443750c5\" xlink:actuate=\"onRequest\" xlink:href=\"psysml:7287ae62-763a-4b84-8405-f658443750c5\" xlink:show=\"new\" xlink:title=\"psysml:7287ae62-763a-4b84-8405-f658443750c5\" xlink:type=\"simple\"><rect fill=\"#FEFECE\" filter=\"url(#f7lo0yfpgldzt)\" height=\"69.6094\" id=\"E6\" style=\"stroke: #A80036; stroke-width: 1.5;\" width=\"43\" x=\"100.5\" y=\"448\"/><ellipse cx=\"116.85\" cy=\"464\" fill=\"#008000\" rx=\"11\" ry=\"11\" style=\"stroke: #A80036; stroke-width: 1.0;\"/><path d=\"M115.7563,464.375 L115.7563,468.0469 L117.3813,468.0469 Q118.5531,468.0469 119.0219,467.6563 Q119.4906,467.25 119.4906,466.25 Q119.4906,465.25 118.9906,464.8125 Q118.5063,464.375 117.3813,464.375 L115.7563,464.375 Z M115.7563,459.5469 L115.7563,462.4219 L117.3813,462.4219 Q118.3031,462.4219 118.6938,462.0938 Q119.1,461.75 119.1,461 Q119.1,460.2344 118.6938,459.8906 Q118.2875,459.5469 117.3813,459.5469 L115.7563,459.5469 Z M113.3813,457.5938 L117.3813,457.5938 Q119.4438,457.5938 120.4906,458.375 Q121.5375,459.1563 121.5375,460.7188 Q121.5375,461.9219 120.9125,462.5938 Q120.3031,463.2656 119.1156,463.375 Q120.5375,463.5156 121.2563,464.3281 Q121.975,465.1406 121.975,466.5938 Q121.975,468.3906 120.8969,469.2031 Q119.8188,470 117.3813,470 L113.3813,470 L113.3813,457.5938 Z \"/><text fill=\"#000000\" font-family=\"sans-serif\" font-size=\"12\" lengthAdjust=\"spacingAndGlyphs\" textLength=\"8\" x=\"131.15\" y=\"468.1543\">B</text><line style=\"stroke: #A80036; stroke-width: 1.5;\" x1=\"101.5\" x2=\"142.5\" y1=\"480\" y2=\"480\"/><text fill=\"#000000\" font-family=\"sans-serif\" font-size=\"11\" lengthAdjust=\"spacingAndGlyphs\" textLength=\"31\" x=\"106.5\" y=\"511.0151\">x: ~C</text><line style=\"stroke: #A80036; stroke-width: 1.0;\" x1=\"101.5\" x2=\"107\" y1=\"494.4023\" y2=\"494.4023\"/><text fill=\"#000000\" font-family=\"sans-serif\" font-size=\"11\" lengthAdjust=\"spacingAndGlyphs\" textLength=\"30\" x=\"107\" y=\"497.7104\">ports</text><line style=\"stroke: #A80036; stroke-width: 1.0;\" x1=\"137\" x2=\"142.5\" y1=\"494.4023\" y2=\"494.4023\"/></a><!--MD5=[b9389687b975829384b498ac4b7476b2]\n",
       "class E8--><a href=\"psysml:4e9eccbd-3da0-4f6c-a773-1d808904fdc5\" target=\"_top\" title=\"psysml:4e9eccbd-3da0-4f6c-a773-1d808904fdc5\" xlink:actuate=\"onRequest\" xlink:href=\"psysml:4e9eccbd-3da0-4f6c-a773-1d808904fdc5\" xlink:show=\"new\" xlink:title=\"psysml:4e9eccbd-3da0-4f6c-a773-1d808904fdc5\" xlink:type=\"simple\"><rect fill=\"#FEFECE\" filter=\"url(#f7lo0yfpgldzt)\" height=\"45.9375\" id=\"E8\" rx=\"10\" ry=\"10\" style=\"stroke: #A80036; stroke-width: 1.5;\" width=\"68\" x=\"159\" y=\"582.5\"/><ellipse cx=\"174\" cy=\"601.4688\" fill=\"#32CD32\" rx=\"11\" ry=\"11\" style=\"stroke: #A80036; stroke-width: 1.0;\"/><path d=\"M173.7969,597.1406 L173.7969,600.7656 L174.7969,600.7656 Q176,600.7656 176.4844,600.3594 Q176.9688,599.9531 176.9688,598.9531 Q176.9688,597.9531 176.4844,597.5469 Q176,597.1406 174.7969,597.1406 L173.7969,597.1406 Z M171.3438,595.0781 L174.7031,595.0781 Q177.2656,595.0781 178.3906,596 Q179.5156,596.9063 179.5156,598.9531 Q179.5156,601 178.3906,601.9219 Q177.2656,602.8281 174.7031,602.8281 L173.7969,602.8281 L173.7969,607.4688 L171.3438,607.4688 L171.3438,595.0781 Z \"/><text fill=\"#000000\" font-family=\"sans-serif\" font-size=\"12\" font-style=\"italic\" lengthAdjust=\"spacingAndGlyphs\" textLength=\"40\" x=\"186\" y=\"598.6387\">«part»</text><text fill=\"#000000\" font-family=\"sans-serif\" font-size=\"12\" lengthAdjust=\"spacingAndGlyphs\" textLength=\"24\" x=\"194\" y=\"612.6074\">a: A</text><line style=\"stroke: #A80036; stroke-width: 1.5;\" x1=\"160\" x2=\"226\" y1=\"620.4375\" y2=\"620.4375\"/></a><!--MD5=[96f4274e9e20536e775497830990834d]\n",
       "class E10--><a href=\"psysml:8c4f99f3-2675-4f4d-a756-da09d407570d\" target=\"_top\" title=\"psysml:8c4f99f3-2675-4f4d-a756-da09d407570d\" xlink:actuate=\"onRequest\" xlink:href=\"psysml:8c4f99f3-2675-4f4d-a756-da09d407570d\" xlink:show=\"new\" xlink:title=\"psysml:8c4f99f3-2675-4f4d-a756-da09d407570d\" xlink:type=\"simple\"><rect fill=\"#FEFECE\" filter=\"url(#f7lo0yfpgldzt)\" height=\"75.5469\" id=\"E10\" style=\"stroke: #A80036; stroke-width: 1.5;\" width=\"92\" x=\"32\" y=\"41\"/><ellipse cx=\"47\" cy=\"59.9688\" fill=\"#A52A2A\" rx=\"11\" ry=\"11\" style=\"stroke: #A80036; stroke-width: 1.0;\"/><path d=\"M46.5938,55.7813 L46.5938,63.7656 L47.25,63.7656 Q48.6875,63.7656 49.2969,62.8594 Q49.9219,61.9375 49.9219,59.7656 Q49.9219,57.5938 49.2969,56.6875 Q48.6875,55.7813 47.25,55.7813 L46.5938,55.7813 Z M44.1406,53.5781 L46.7656,53.5781 Q49.7969,53.5781 51.125,55.0313 Q52.4688,56.4688 52.4688,59.7656 Q52.4688,63.0625 51.125,64.5156 Q49.7969,65.9688 46.7656,65.9688 L44.1406,65.9688 L44.1406,53.5781 Z \"/><text fill=\"#000000\" font-family=\"sans-serif\" font-size=\"12\" font-style=\"italic\" lengthAdjust=\"spacingAndGlyphs\" textLength=\"64\" x=\"59\" y=\"57.1387\">«port def»</text><text fill=\"#000000\" font-family=\"sans-serif\" font-size=\"12\" lengthAdjust=\"spacingAndGlyphs\" textLength=\"8\" x=\"87\" y=\"71.1074\">C</text><line style=\"stroke: #A80036; stroke-width: 1.5;\" x1=\"33\" x2=\"123\" y1=\"78.9375\" y2=\"78.9375\"/><text fill=\"#000000\" font-family=\"sans-serif\" font-size=\"11\" lengthAdjust=\"spacingAndGlyphs\" textLength=\"37\" x=\"38\" y=\"109.9526\">y: A, B</text><text fill=\"#000000\" font-family=\"sans-serif\" font-size=\"11\" font-weight=\"bold\" lengthAdjust=\"spacingAndGlyphs\" textLength=\"15\" x=\"79\" y=\"109.9526\">as</text><text fill=\"#000000\" font-family=\"sans-serif\" font-size=\"11\" lengthAdjust=\"spacingAndGlyphs\" textLength=\"12\" x=\"98\" y=\"109.9526\">z2</text><line style=\"stroke: #A80036; stroke-width: 1.0;\" x1=\"33\" x2=\"47\" y1=\"93.3398\" y2=\"93.3398\"/><text fill=\"#000000\" font-family=\"sans-serif\" font-size=\"11\" lengthAdjust=\"spacingAndGlyphs\" textLength=\"62\" x=\"47\" y=\"96.6479\">references</text><line style=\"stroke: #A80036; stroke-width: 1.0;\" x1=\"109\" x2=\"123\" y1=\"93.3398\" y2=\"93.3398\"/></a><a href=\"psysml:8a2f941b-3a97-4b54-9145-5eb7e96c5b49\" target=\"_top\" title=\"psysml:8a2f941b-3a97-4b54-9145-5eb7e96c5b49\" xlink:actuate=\"onRequest\" xlink:href=\"psysml:8a2f941b-3a97-4b54-9145-5eb7e96c5b49\" xlink:show=\"new\" xlink:title=\"psysml:8a2f941b-3a97-4b54-9145-5eb7e96c5b49\" xlink:type=\"simple\"><polygon fill=\"#FFFFFF\" filter=\"url(#f7lo0yfpgldzt)\" points=\"94,579,110,579,117,601.2969,124,601.2969,124,631.5938,94,631.5938,94,579\" style=\"stroke: #000000; stroke-width: 1.5;\"/><line style=\"stroke: #000000; stroke-width: 1.5;\" x1=\"94\" x2=\"117\" y1=\"601.2969\" y2=\"601.2969\"/><text fill=\"#000000\" font-family=\"sans-serif\" font-size=\"14\" font-weight=\"bold\" lengthAdjust=\"spacingAndGlyphs\" textLength=\"10\" x=\"98\" y=\"593.9951\">P</text></a><!--MD5=[2720a5a1f2c3fca2055b230370638851]\n",
       "link E2 to E3--><a href=\"psysml:f1219804-170d-45ce-a1b2-74df9d2ed655\" target=\"_top\" title=\"psysml:f1219804-170d-45ce-a1b2-74df9d2ed655\" xlink:actuate=\"onRequest\" xlink:href=\"psysml:f1219804-170d-45ce-a1b2-74df9d2ed655\" xlink:show=\"new\" xlink:title=\"psysml:f1219804-170d-45ce-a1b2-74df9d2ed655\" xlink:type=\"simple\"><path d=\"M189.41,102.16 C186.33,121.12 181.78,149.21 177.75,174.04 \" fill=\"none\" id=\"E2-&gt;E3\" style=\"stroke: #A80036; stroke-width: 1.0;\"/><polygon fill=\"#FFFFFF\" points=\"174.54,193.87,170.6701,173.9948,184.4897,176.2347,174.54,193.87\" style=\"stroke: #A80036; stroke-width: 1.0;\"/><ellipse cx=\"173.5563\" cy=\"168.6882\" fill=\"#A80036\" rx=\"2\" ry=\"2\" style=\"stroke: #A80036; stroke-width: 1.0;\"/><ellipse cx=\"183.4275\" cy=\"170.2882\" fill=\"#A80036\" rx=\"2\" ry=\"2\" style=\"stroke: #A80036; stroke-width: 1.0;\"/></a><!--MD5=[4672eba38e49728da53d11aeb285b987]\n",
       "reverse link E3 to E4--><a href=\"psysml:ebd0a90b-6b0b-4fe7-b689-bf63abb6537b\" target=\"_top\" title=\"psysml:ebd0a90b-6b0b-4fe7-b689-bf63abb6537b\" xlink:actuate=\"onRequest\" xlink:href=\"psysml:ebd0a90b-6b0b-4fe7-b689-bf63abb6537b\" xlink:show=\"new\" xlink:title=\"psysml:ebd0a90b-6b0b-4fe7-b689-bf63abb6537b\" xlink:type=\"simple\"><path d=\"M159.4,277.28 C155,298.98 149.98,323.67 146.47,340.96 \" fill=\"none\" id=\"E3&lt;-E4\" style=\"stroke: #A80036; stroke-width: 1.0;\"/><polygon fill=\"#A80036\" points=\"162.05,264.25,156.9367,269.3347,159.6637,276.0103,164.7769,270.9256,162.05,264.25\" style=\"stroke: #A80036; stroke-width: 1.0;\"/></a><!--MD5=[79568f1e445c3877b6a54524624ccc7d]\n",
       "link E4 to E6--><a href=\"psysml:0b7e6d0b-da90-43fd-82ff-3f36fc5229c0\" target=\"_top\" title=\"psysml:0b7e6d0b-da90-43fd-82ff-3f36fc5229c0\" xlink:actuate=\"onRequest\" xlink:href=\"psysml:0b7e6d0b-da90-43fd-82ff-3f36fc5229c0\" xlink:show=\"new\" xlink:title=\"psysml:0b7e6d0b-da90-43fd-82ff-3f36fc5229c0\" xlink:type=\"simple\"><path d=\"M138.24,387.01 C136.25,398.61 133.72,413.41 131.26,427.86 \" fill=\"none\" id=\"E4-&gt;E6\" style=\"stroke: #A80036; stroke-width: 1.0;\"/><polygon fill=\"#FFFFFF\" points=\"127.87,447.67,124.1589,427.7645,137.9603,430.1147,127.87,447.67\" style=\"stroke: #A80036; stroke-width: 1.0;\"/><ellipse cx=\"127.0874\" cy=\"422.4812\" fill=\"#A80036\" rx=\"2\" ry=\"2\" style=\"stroke: #A80036; stroke-width: 1.0;\"/><ellipse cx=\"136.9455\" cy=\"424.1599\" fill=\"#A80036\" rx=\"2\" ry=\"2\" style=\"stroke: #A80036; stroke-width: 1.0;\"/></a><!--MD5=[3f50a3473f1dfb74d3f76443e03635af]\n",
       "reverse link E6 to E7--><a href=\"psysml:8a2f941b-3a97-4b54-9145-5eb7e96c5b49\" target=\"_top\" title=\"psysml:8a2f941b-3a97-4b54-9145-5eb7e96c5b49\" xlink:actuate=\"onRequest\" xlink:href=\"psysml:8a2f941b-3a97-4b54-9145-5eb7e96c5b49\" xlink:show=\"new\" xlink:title=\"psysml:8a2f941b-3a97-4b54-9145-5eb7e96c5b49\" xlink:type=\"simple\"><path d=\"M116.68,533.27 C115.01,548.83 113.22,565.4 111.79,578.64 \" fill=\"none\" id=\"E6&lt;-E7\" style=\"stroke: #A80036; stroke-width: 1.0;\"/><ellipse cx=\"117.4567\" cy=\"526.1644\" fill=\"#FFFFFF\" rx=\"8\" ry=\"8\" style=\"stroke: #A80036; stroke-width: 1.0;\"/><line style=\"stroke: #A80036; stroke-width: 1.0;\" x1=\"116.6033\" x2=\"118.31\" y1=\"534.1187\" y2=\"518.21\"/><line style=\"stroke: #A80036; stroke-width: 1.0;\" x1=\"109.5023\" x2=\"125.411\" y1=\"525.311\" y2=\"527.0177\"/></a><!--MD5=[95fa686b5a16158bcdbcaeead89f639b]\n",
       "link E8 to E3--><a href=\"psysml:edfb0c1d-eeea-43d5-bece-b0bce4203cff\" target=\"_top\" title=\"psysml:edfb0c1d-eeea-43d5-bece-b0bce4203cff\" xlink:actuate=\"onRequest\" xlink:href=\"psysml:edfb0c1d-eeea-43d5-bece-b0bce4203cff\" xlink:show=\"new\" xlink:title=\"psysml:edfb0c1d-eeea-43d5-bece-b0bce4203cff\" xlink:type=\"simple\"><path d=\"M194.8,582.2 C198.09,536.68 203.89,429.89 194,341 C191.9,322.13 187.85,301.78 183.62,283.73 \" fill=\"none\" id=\"E8-&gt;E3\" style=\"stroke: #A80036; stroke-width: 1.0;\"/><polygon fill=\"#FFFFFF\" points=\"178.76,264.17,190.1301,280.9247,176.5423,284.2966,178.76,264.17\" style=\"stroke: #A80036; stroke-width: 1.0;\"/><ellipse cx=\"189.5619\" cy=\"286.9386\" fill=\"#A80036\" rx=\"2\" ry=\"2\" style=\"stroke: #A80036; stroke-width: 1.0;\"/><ellipse cx=\"179.8563\" cy=\"289.3471\" fill=\"#A80036\" rx=\"2\" ry=\"2\" style=\"stroke: #A80036; stroke-width: 1.0;\"/></a><!--MD5=[f4cf0736d43fd73c4ef68817c49d37d5]\n",
       "reverse link E6 to E8--><a href=\"psysml:4e9eccbd-3da0-4f6c-a773-1d808904fdc5\" target=\"_top\" title=\"psysml:4e9eccbd-3da0-4f6c-a773-1d808904fdc5\" xlink:actuate=\"onRequest\" xlink:href=\"psysml:4e9eccbd-3da0-4f6c-a773-1d808904fdc5\" xlink:show=\"new\" xlink:title=\"psysml:4e9eccbd-3da0-4f6c-a773-1d808904fdc5\" xlink:type=\"simple\"><path d=\"M148.79,529.47 C159.46,547.58 171.25,567.58 179.97,582.38 \" fill=\"none\" id=\"E6&lt;-E8\" style=\"stroke: #A80036; stroke-width: 1.0;\"/><polygon fill=\"#A80036\" points=\"142.16,518.21,141.76,525.41,148.2523,528.5485,148.6523,521.3485,142.16,518.21\" style=\"stroke: #A80036; stroke-width: 1.0;\"/></a><!--MD5=[8e04057e7b3cbc0dca4fc78ea351e2da]\n",
       "reverse link E10 to E3--><a href=\"psysml:800170d4-464e-4c2e-99b4-fb1d2de59c3f\" target=\"_top\" title=\"psysml:800170d4-464e-4c2e-99b4-fb1d2de59c3f\" xlink:actuate=\"onRequest\" xlink:href=\"psysml:800170d4-464e-4c2e-99b4-fb1d2de59c3f\" xlink:show=\"new\" xlink:title=\"psysml:800170d4-464e-4c2e-99b4-fb1d2de59c3f\" xlink:type=\"simple\"><path d=\"M107.78,128.43 C121.23,150.31 136.77,175.59 148.83,195.2 \" fill=\"none\" id=\"E10&lt;-E3\" style=\"stroke: #A80036; stroke-width: 1.0;\"/><polygon fill=\"#FFFFFF\" points=\"100.96,117.35,100.6917,124.5561,107.2403,127.5753,107.5086,120.3692,100.96,117.35\" style=\"stroke: #A80036; stroke-width: 1.0;\"/><text fill=\"#000000\" font-family=\"sans-serif\" font-size=\"13\" lengthAdjust=\"spacingAndGlyphs\" textLength=\"7\" x=\"129\" y=\"160.0669\">y</text></a><!--MD5=[604cbf994c02b74b117f728a71673cea]\n",
       "reverse link E10 to E6--><a href=\"psysml:800170d4-464e-4c2e-99b4-fb1d2de59c3f\" target=\"_top\" title=\"psysml:800170d4-464e-4c2e-99b4-fb1d2de59c3f\" xlink:actuate=\"onRequest\" xlink:href=\"psysml:800170d4-464e-4c2e-99b4-fb1d2de59c3f\" xlink:show=\"new\" xlink:title=\"psysml:800170d4-464e-4c2e-99b4-fb1d2de59c3f\" xlink:type=\"simple\"><path d=\"M75.96,130.3 C74.43,191.49 74.85,297.69 91,387 C94.73,407.66 101.86,430.01 108.35,447.84 \" fill=\"none\" id=\"E10&lt;-E6\" style=\"stroke: #A80036; stroke-width: 1.0;\"/><polygon fill=\"#FFFFFF\" points=\"76.33,117.22,72.1603,123.1033,75.9873,129.2151,80.157,123.3318,76.33,117.22\" style=\"stroke: #A80036; stroke-width: 1.0;\"/><text fill=\"#000000\" font-family=\"sans-serif\" font-size=\"13\" lengthAdjust=\"spacingAndGlyphs\" textLength=\"7\" x=\"81\" y=\"307.0669\">y</text></a><!--MD5=[32cea4f60e5d638a3d1c04d30806821d]\n",
       "@startuml\r\n",
       " \r\n",
       "package \"BlockTest\" as E1  [[psysml:1f80f8be-3c31-4480-9ece-24461005c64a ]]  {\r\n",
       "comp usage \"f: A\" as E2  << (P,limegreen) part>> [[psysml:77ca47e2-95bd-4f5e-baaf-35974d96745c ]] {\r\n",
       "}\r\n",
       "comp def \"A\" as E3  << (B,green) >> [[psysml:feda5581-6f8c-419d-8ba7-a8a04be8503b ]] {\r\n",
       "- - ports - -\r\n",
       "c: C\r\n",
       "}\r\n",
       "comp usage \"b: B\" as E4  << (P,limegreen) part>> [[psysml:ebd0a90b-6b0b-4fe7-b689-bf63abb6537b ]] {\r\n",
       "}\r\n",
       "comp def \"B\" as E6  << (B,green) >> [[psysml:7287ae62-763a-4b84-8405-f658443750c5 ]] {\r\n",
       "- - ports - -\r\n",
       "x: ~C\r\n",
       "}\r\n",
       "package \"P\" as E7  [[psysml:8a2f941b-3a97-4b54-9145-5eb7e96c5b49 ]]  {\r\n",
       "}\r\n",
       "comp usage \"a: A\" as E8  << (P,limegreen) part>> [[psysml:4e9eccbd-3da0-4f6c-a773-1d808904fdc5 ]] {\r\n",
       "}\r\n",
       "comp def \"C\" as E10  <<(D,brown)port def>> [[psysml:8c4f99f3-2675-4f4d-a756-da09d407570d ]] {\r\n",
       "- - references - -\r\n",
       "y: A, B <b>as</b> z2 \r\n",
       "}\r\n",
       "E2 - -:|> E3 [[psysml:f1219804-170d-45ce-a1b2-74df9d2ed655 ]] \r\n",
       "E3 *- - E4 [[psysml:ebd0a90b-6b0b-4fe7-b689-bf63abb6537b ]] \r\n",
       "E4 - -:|> E6 [[psysml:0b7e6d0b-da90-43fd-82ff-3f36fc5229c0 ]] \r\n",
       "E6 +- - E7 [[psysml:8a2f941b-3a97-4b54-9145-5eb7e96c5b49 ]] \r\n",
       "E8 - -:|> E3 [[psysml:edfb0c1d-eeea-43d5-bece-b0bce4203cff ]] \r\n",
       "E6 *- - E8 [[psysml:4e9eccbd-3da0-4f6c-a773-1d808904fdc5 ]] \r\n",
       "E10 o- - E3 [[psysml:800170d4-464e-4c2e-99b4-fb1d2de59c3f ]] : y\r\n",
       "E10 o- - E6 [[psysml:800170d4-464e-4c2e-99b4-fb1d2de59c3f ]] : y\r\n",
       "}\r\n",
       "@enduml\r\n",
       "\n",
       "PlantUML version 1.2020.13(Sat Jun 13 12:26:38 UTC 2020)\n",
       "(EPL source distribution)\n",
       "Java Runtime: OpenJDK Runtime Environment\n",
       "JVM: OpenJDK 64-Bit Server VM\n",
       "Default Encoding: UTF-8\n",
       "Language: en\n",
       "Country: null\n",
       "--></g></svg>"
      ]
     },
     "execution_count": 35,
     "metadata": {},
     "output_type": "execute_result"
    }
   ],
   "source": [
    "%viz --style=\"PLANTUML\" --view=\"Sequence\" \"BlockTest\""
   ]
  },
  {
   "cell_type": "code",
   "execution_count": 36,
   "id": "express-graham",
   "metadata": {
    "execution": {
     "iopub.execute_input": "2021-03-26T12:07:40.108999Z",
     "iopub.status.busy": "2021-03-26T12:07:40.108346Z",
     "iopub.status.idle": "2021-03-26T12:07:40.172858Z",
     "shell.execute_reply": "2021-03-26T12:07:40.171129Z"
    }
   },
   "outputs": [
    {
     "data": {
      "image/svg+xml": [
       "<?xml version=\"1.0\" encoding=\"UTF-8\" standalone=\"no\"?><svg xmlns=\"http://www.w3.org/2000/svg\" xmlns:xlink=\"http://www.w3.org/1999/xlink\" contentScriptType=\"application/ecmascript\" contentStyleType=\"text/css\" height=\"660px\" preserveAspectRatio=\"none\" style=\"width:265px;height:660px;\" version=\"1.1\" viewBox=\"0 0 265 660\" width=\"265px\" zoomAndPan=\"magnify\"><defs><filter height=\"300%\" id=\"f7lo0yfpgldzt\" width=\"300%\" x=\"-1\" y=\"-1\"><feGaussianBlur result=\"blurOut\" stdDeviation=\"2.0\"/><feColorMatrix in=\"blurOut\" result=\"blurOut2\" type=\"matrix\" values=\"0 0 0 0 0 0 0 0 0 0 0 0 0 0 0 0 0 0 .4 0\"/><feOffset dx=\"4.0\" dy=\"4.0\" in=\"blurOut2\" result=\"blurOut3\"/><feBlend in=\"SourceGraphic\" in2=\"blurOut3\" mode=\"normal\"/></filter></defs><g><!--MD5=[fbc87193dbaf4d95561dea2c320d4a47]\n",
       "cluster E1--><a href=\"psysml:1f80f8be-3c31-4480-9ece-24461005c64a\" target=\"_top\" title=\"psysml:1f80f8be-3c31-4480-9ece-24461005c64a\" xlink:actuate=\"onRequest\" xlink:href=\"psysml:1f80f8be-3c31-4480-9ece-24461005c64a\" xlink:show=\"new\" xlink:title=\"psysml:1f80f8be-3c31-4480-9ece-24461005c64a\" xlink:type=\"simple\"><polygon fill=\"#FFFFFF\" filter=\"url(#f7lo0yfpgldzt)\" points=\"16,6,99,6,106,28.2969,243,28.2969,243,648,16,648,16,6\" style=\"stroke: #000000; stroke-width: 1.5;\"/><line style=\"stroke: #000000; stroke-width: 1.5;\" x1=\"16\" x2=\"106\" y1=\"28.2969\" y2=\"28.2969\"/><text fill=\"#000000\" font-family=\"sans-serif\" font-size=\"14\" font-weight=\"bold\" lengthAdjust=\"spacingAndGlyphs\" textLength=\"77\" x=\"20\" y=\"20.9951\">BlockTest</text></a><!--MD5=[b4997ac47864f28c2f74865a473b2911]\n",
       "class E2--><a href=\"psysml:77ca47e2-95bd-4f5e-baaf-35974d96745c\" target=\"_top\" title=\"psysml:77ca47e2-95bd-4f5e-baaf-35974d96745c\" xlink:actuate=\"onRequest\" xlink:href=\"psysml:77ca47e2-95bd-4f5e-baaf-35974d96745c\" xlink:show=\"new\" xlink:title=\"psysml:77ca47e2-95bd-4f5e-baaf-35974d96745c\" xlink:type=\"simple\"><rect fill=\"#FEFECE\" filter=\"url(#f7lo0yfpgldzt)\" height=\"45.9375\" id=\"E2\" rx=\"10\" ry=\"10\" style=\"stroke: #A80036; stroke-width: 1.5;\" width=\"68\" x=\"159\" y=\"56\"/><ellipse cx=\"174\" cy=\"74.9688\" fill=\"#32CD32\" rx=\"11\" ry=\"11\" style=\"stroke: #A80036; stroke-width: 1.0;\"/><path d=\"M173.7969,70.6406 L173.7969,74.2656 L174.7969,74.2656 Q176,74.2656 176.4844,73.8594 Q176.9688,73.4531 176.9688,72.4531 Q176.9688,71.4531 176.4844,71.0469 Q176,70.6406 174.7969,70.6406 L173.7969,70.6406 Z M171.3438,68.5781 L174.7031,68.5781 Q177.2656,68.5781 178.3906,69.5 Q179.5156,70.4063 179.5156,72.4531 Q179.5156,74.5 178.3906,75.4219 Q177.2656,76.3281 174.7031,76.3281 L173.7969,76.3281 L173.7969,80.9688 L171.3438,80.9688 L171.3438,68.5781 Z \"/><text fill=\"#000000\" font-family=\"sans-serif\" font-size=\"12\" font-style=\"italic\" lengthAdjust=\"spacingAndGlyphs\" textLength=\"40\" x=\"186\" y=\"72.1387\">«part»</text><text fill=\"#000000\" font-family=\"sans-serif\" font-size=\"12\" lengthAdjust=\"spacingAndGlyphs\" textLength=\"20\" x=\"196\" y=\"86.1074\">f: A</text><line style=\"stroke: #A80036; stroke-width: 1.5;\" x1=\"160\" x2=\"226\" y1=\"93.9375\" y2=\"93.9375\"/></a><!--MD5=[09b614a08d8cba4a07c9adeb5e0fee81]\n",
       "class E3--><a href=\"psysml:feda5581-6f8c-419d-8ba7-a8a04be8503b\" target=\"_top\" title=\"psysml:feda5581-6f8c-419d-8ba7-a8a04be8503b\" xlink:actuate=\"onRequest\" xlink:href=\"psysml:feda5581-6f8c-419d-8ba7-a8a04be8503b\" xlink:show=\"new\" xlink:title=\"psysml:feda5581-6f8c-419d-8ba7-a8a04be8503b\" xlink:type=\"simple\"><rect fill=\"#FEFECE\" filter=\"url(#f7lo0yfpgldzt)\" height=\"69.6094\" id=\"E3\" style=\"stroke: #A80036; stroke-width: 1.5;\" width=\"40\" x=\"149\" y=\"194\"/><ellipse cx=\"164\" cy=\"210\" fill=\"#008000\" rx=\"11\" ry=\"11\" style=\"stroke: #A80036; stroke-width: 1.0;\"/><path d=\"M162.9063,210.375 L162.9063,214.0469 L164.5313,214.0469 Q165.7031,214.0469 166.1719,213.6563 Q166.6406,213.25 166.6406,212.25 Q166.6406,211.25 166.1406,210.8125 Q165.6563,210.375 164.5313,210.375 L162.9063,210.375 Z M162.9063,205.5469 L162.9063,208.4219 L164.5313,208.4219 Q165.4531,208.4219 165.8438,208.0938 Q166.25,207.75 166.25,207 Q166.25,206.2344 165.8438,205.8906 Q165.4375,205.5469 164.5313,205.5469 L162.9063,205.5469 Z M160.5313,203.5938 L164.5313,203.5938 Q166.5938,203.5938 167.6406,204.375 Q168.6875,205.1563 168.6875,206.7188 Q168.6875,207.9219 168.0625,208.5938 Q167.4531,209.2656 166.2656,209.375 Q167.6875,209.5156 168.4063,210.3281 Q169.125,211.1406 169.125,212.5938 Q169.125,214.3906 168.0469,215.2031 Q166.9688,216 164.5313,216 L160.5313,216 L160.5313,203.5938 Z \"/><text fill=\"#000000\" font-family=\"sans-serif\" font-size=\"12\" lengthAdjust=\"spacingAndGlyphs\" textLength=\"8\" x=\"178\" y=\"214.1543\">A</text><line style=\"stroke: #A80036; stroke-width: 1.5;\" x1=\"150\" x2=\"188\" y1=\"226\" y2=\"226\"/><text fill=\"#000000\" font-family=\"sans-serif\" font-size=\"11\" lengthAdjust=\"spacingAndGlyphs\" textLength=\"22\" x=\"155\" y=\"257.0151\">c: C</text><line style=\"stroke: #A80036; stroke-width: 1.0;\" x1=\"150\" x2=\"154\" y1=\"240.4023\" y2=\"240.4023\"/><text fill=\"#000000\" font-family=\"sans-serif\" font-size=\"11\" lengthAdjust=\"spacingAndGlyphs\" textLength=\"30\" x=\"154\" y=\"243.7104\">ports</text><line style=\"stroke: #A80036; stroke-width: 1.0;\" x1=\"184\" x2=\"188\" y1=\"240.4023\" y2=\"240.4023\"/></a><!--MD5=[ebbe1d658d1005bcc118a6aa81145e00]\n",
       "class E4--><a href=\"psysml:ebd0a90b-6b0b-4fe7-b689-bf63abb6537b\" target=\"_top\" title=\"psysml:ebd0a90b-6b0b-4fe7-b689-bf63abb6537b\" xlink:actuate=\"onRequest\" xlink:href=\"psysml:ebd0a90b-6b0b-4fe7-b689-bf63abb6537b\" xlink:show=\"new\" xlink:title=\"psysml:ebd0a90b-6b0b-4fe7-b689-bf63abb6537b\" xlink:type=\"simple\"><rect fill=\"#FEFECE\" filter=\"url(#f7lo0yfpgldzt)\" height=\"45.9375\" id=\"E4\" rx=\"10\" ry=\"10\" style=\"stroke: #A80036; stroke-width: 1.5;\" width=\"68\" x=\"108\" y=\"341\"/><ellipse cx=\"123\" cy=\"359.9688\" fill=\"#32CD32\" rx=\"11\" ry=\"11\" style=\"stroke: #A80036; stroke-width: 1.0;\"/><path d=\"M122.7969,355.6406 L122.7969,359.2656 L123.7969,359.2656 Q125,359.2656 125.4844,358.8594 Q125.9688,358.4531 125.9688,357.4531 Q125.9688,356.4531 125.4844,356.0469 Q125,355.6406 123.7969,355.6406 L122.7969,355.6406 Z M120.3438,353.5781 L123.7031,353.5781 Q126.2656,353.5781 127.3906,354.5 Q128.5156,355.4063 128.5156,357.4531 Q128.5156,359.5 127.3906,360.4219 Q126.2656,361.3281 123.7031,361.3281 L122.7969,361.3281 L122.7969,365.9688 L120.3438,365.9688 L120.3438,353.5781 Z \"/><text fill=\"#000000\" font-family=\"sans-serif\" font-size=\"12\" font-style=\"italic\" lengthAdjust=\"spacingAndGlyphs\" textLength=\"40\" x=\"135\" y=\"357.1387\">«part»</text><text fill=\"#000000\" font-family=\"sans-serif\" font-size=\"12\" lengthAdjust=\"spacingAndGlyphs\" textLength=\"24\" x=\"143\" y=\"371.1074\">b: B</text><line style=\"stroke: #A80036; stroke-width: 1.5;\" x1=\"109\" x2=\"175\" y1=\"378.9375\" y2=\"378.9375\"/></a><!--MD5=[60a26617385b1d2d0262a64233df1f8d]\n",
       "class E6--><a href=\"psysml:7287ae62-763a-4b84-8405-f658443750c5\" target=\"_top\" title=\"psysml:7287ae62-763a-4b84-8405-f658443750c5\" xlink:actuate=\"onRequest\" xlink:href=\"psysml:7287ae62-763a-4b84-8405-f658443750c5\" xlink:show=\"new\" xlink:title=\"psysml:7287ae62-763a-4b84-8405-f658443750c5\" xlink:type=\"simple\"><rect fill=\"#FEFECE\" filter=\"url(#f7lo0yfpgldzt)\" height=\"69.6094\" id=\"E6\" style=\"stroke: #A80036; stroke-width: 1.5;\" width=\"43\" x=\"100.5\" y=\"448\"/><ellipse cx=\"116.85\" cy=\"464\" fill=\"#008000\" rx=\"11\" ry=\"11\" style=\"stroke: #A80036; stroke-width: 1.0;\"/><path d=\"M115.7563,464.375 L115.7563,468.0469 L117.3813,468.0469 Q118.5531,468.0469 119.0219,467.6563 Q119.4906,467.25 119.4906,466.25 Q119.4906,465.25 118.9906,464.8125 Q118.5063,464.375 117.3813,464.375 L115.7563,464.375 Z M115.7563,459.5469 L115.7563,462.4219 L117.3813,462.4219 Q118.3031,462.4219 118.6938,462.0938 Q119.1,461.75 119.1,461 Q119.1,460.2344 118.6938,459.8906 Q118.2875,459.5469 117.3813,459.5469 L115.7563,459.5469 Z M113.3813,457.5938 L117.3813,457.5938 Q119.4438,457.5938 120.4906,458.375 Q121.5375,459.1563 121.5375,460.7188 Q121.5375,461.9219 120.9125,462.5938 Q120.3031,463.2656 119.1156,463.375 Q120.5375,463.5156 121.2563,464.3281 Q121.975,465.1406 121.975,466.5938 Q121.975,468.3906 120.8969,469.2031 Q119.8188,470 117.3813,470 L113.3813,470 L113.3813,457.5938 Z \"/><text fill=\"#000000\" font-family=\"sans-serif\" font-size=\"12\" lengthAdjust=\"spacingAndGlyphs\" textLength=\"8\" x=\"131.15\" y=\"468.1543\">B</text><line style=\"stroke: #A80036; stroke-width: 1.5;\" x1=\"101.5\" x2=\"142.5\" y1=\"480\" y2=\"480\"/><text fill=\"#000000\" font-family=\"sans-serif\" font-size=\"11\" lengthAdjust=\"spacingAndGlyphs\" textLength=\"31\" x=\"106.5\" y=\"511.0151\">x: ~C</text><line style=\"stroke: #A80036; stroke-width: 1.0;\" x1=\"101.5\" x2=\"107\" y1=\"494.4023\" y2=\"494.4023\"/><text fill=\"#000000\" font-family=\"sans-serif\" font-size=\"11\" lengthAdjust=\"spacingAndGlyphs\" textLength=\"30\" x=\"107\" y=\"497.7104\">ports</text><line style=\"stroke: #A80036; stroke-width: 1.0;\" x1=\"137\" x2=\"142.5\" y1=\"494.4023\" y2=\"494.4023\"/></a><!--MD5=[b9389687b975829384b498ac4b7476b2]\n",
       "class E8--><a href=\"psysml:4e9eccbd-3da0-4f6c-a773-1d808904fdc5\" target=\"_top\" title=\"psysml:4e9eccbd-3da0-4f6c-a773-1d808904fdc5\" xlink:actuate=\"onRequest\" xlink:href=\"psysml:4e9eccbd-3da0-4f6c-a773-1d808904fdc5\" xlink:show=\"new\" xlink:title=\"psysml:4e9eccbd-3da0-4f6c-a773-1d808904fdc5\" xlink:type=\"simple\"><rect fill=\"#FEFECE\" filter=\"url(#f7lo0yfpgldzt)\" height=\"45.9375\" id=\"E8\" rx=\"10\" ry=\"10\" style=\"stroke: #A80036; stroke-width: 1.5;\" width=\"68\" x=\"159\" y=\"582.5\"/><ellipse cx=\"174\" cy=\"601.4688\" fill=\"#32CD32\" rx=\"11\" ry=\"11\" style=\"stroke: #A80036; stroke-width: 1.0;\"/><path d=\"M173.7969,597.1406 L173.7969,600.7656 L174.7969,600.7656 Q176,600.7656 176.4844,600.3594 Q176.9688,599.9531 176.9688,598.9531 Q176.9688,597.9531 176.4844,597.5469 Q176,597.1406 174.7969,597.1406 L173.7969,597.1406 Z M171.3438,595.0781 L174.7031,595.0781 Q177.2656,595.0781 178.3906,596 Q179.5156,596.9063 179.5156,598.9531 Q179.5156,601 178.3906,601.9219 Q177.2656,602.8281 174.7031,602.8281 L173.7969,602.8281 L173.7969,607.4688 L171.3438,607.4688 L171.3438,595.0781 Z \"/><text fill=\"#000000\" font-family=\"sans-serif\" font-size=\"12\" font-style=\"italic\" lengthAdjust=\"spacingAndGlyphs\" textLength=\"40\" x=\"186\" y=\"598.6387\">«part»</text><text fill=\"#000000\" font-family=\"sans-serif\" font-size=\"12\" lengthAdjust=\"spacingAndGlyphs\" textLength=\"24\" x=\"194\" y=\"612.6074\">a: A</text><line style=\"stroke: #A80036; stroke-width: 1.5;\" x1=\"160\" x2=\"226\" y1=\"620.4375\" y2=\"620.4375\"/></a><!--MD5=[96f4274e9e20536e775497830990834d]\n",
       "class E10--><a href=\"psysml:8c4f99f3-2675-4f4d-a756-da09d407570d\" target=\"_top\" title=\"psysml:8c4f99f3-2675-4f4d-a756-da09d407570d\" xlink:actuate=\"onRequest\" xlink:href=\"psysml:8c4f99f3-2675-4f4d-a756-da09d407570d\" xlink:show=\"new\" xlink:title=\"psysml:8c4f99f3-2675-4f4d-a756-da09d407570d\" xlink:type=\"simple\"><rect fill=\"#FEFECE\" filter=\"url(#f7lo0yfpgldzt)\" height=\"75.5469\" id=\"E10\" style=\"stroke: #A80036; stroke-width: 1.5;\" width=\"92\" x=\"32\" y=\"41\"/><ellipse cx=\"47\" cy=\"59.9688\" fill=\"#A52A2A\" rx=\"11\" ry=\"11\" style=\"stroke: #A80036; stroke-width: 1.0;\"/><path d=\"M46.5938,55.7813 L46.5938,63.7656 L47.25,63.7656 Q48.6875,63.7656 49.2969,62.8594 Q49.9219,61.9375 49.9219,59.7656 Q49.9219,57.5938 49.2969,56.6875 Q48.6875,55.7813 47.25,55.7813 L46.5938,55.7813 Z M44.1406,53.5781 L46.7656,53.5781 Q49.7969,53.5781 51.125,55.0313 Q52.4688,56.4688 52.4688,59.7656 Q52.4688,63.0625 51.125,64.5156 Q49.7969,65.9688 46.7656,65.9688 L44.1406,65.9688 L44.1406,53.5781 Z \"/><text fill=\"#000000\" font-family=\"sans-serif\" font-size=\"12\" font-style=\"italic\" lengthAdjust=\"spacingAndGlyphs\" textLength=\"64\" x=\"59\" y=\"57.1387\">«port def»</text><text fill=\"#000000\" font-family=\"sans-serif\" font-size=\"12\" lengthAdjust=\"spacingAndGlyphs\" textLength=\"8\" x=\"87\" y=\"71.1074\">C</text><line style=\"stroke: #A80036; stroke-width: 1.5;\" x1=\"33\" x2=\"123\" y1=\"78.9375\" y2=\"78.9375\"/><text fill=\"#000000\" font-family=\"sans-serif\" font-size=\"11\" lengthAdjust=\"spacingAndGlyphs\" textLength=\"37\" x=\"38\" y=\"109.9526\">y: A, B</text><text fill=\"#000000\" font-family=\"sans-serif\" font-size=\"11\" font-weight=\"bold\" lengthAdjust=\"spacingAndGlyphs\" textLength=\"15\" x=\"79\" y=\"109.9526\">as</text><text fill=\"#000000\" font-family=\"sans-serif\" font-size=\"11\" lengthAdjust=\"spacingAndGlyphs\" textLength=\"12\" x=\"98\" y=\"109.9526\">z2</text><line style=\"stroke: #A80036; stroke-width: 1.0;\" x1=\"33\" x2=\"47\" y1=\"93.3398\" y2=\"93.3398\"/><text fill=\"#000000\" font-family=\"sans-serif\" font-size=\"11\" lengthAdjust=\"spacingAndGlyphs\" textLength=\"62\" x=\"47\" y=\"96.6479\">references</text><line style=\"stroke: #A80036; stroke-width: 1.0;\" x1=\"109\" x2=\"123\" y1=\"93.3398\" y2=\"93.3398\"/></a><a href=\"psysml:8a2f941b-3a97-4b54-9145-5eb7e96c5b49\" target=\"_top\" title=\"psysml:8a2f941b-3a97-4b54-9145-5eb7e96c5b49\" xlink:actuate=\"onRequest\" xlink:href=\"psysml:8a2f941b-3a97-4b54-9145-5eb7e96c5b49\" xlink:show=\"new\" xlink:title=\"psysml:8a2f941b-3a97-4b54-9145-5eb7e96c5b49\" xlink:type=\"simple\"><polygon fill=\"#FFFFFF\" filter=\"url(#f7lo0yfpgldzt)\" points=\"94,579,110,579,117,601.2969,124,601.2969,124,631.5938,94,631.5938,94,579\" style=\"stroke: #000000; stroke-width: 1.5;\"/><line style=\"stroke: #000000; stroke-width: 1.5;\" x1=\"94\" x2=\"117\" y1=\"601.2969\" y2=\"601.2969\"/><text fill=\"#000000\" font-family=\"sans-serif\" font-size=\"14\" font-weight=\"bold\" lengthAdjust=\"spacingAndGlyphs\" textLength=\"10\" x=\"98\" y=\"593.9951\">P</text></a><!--MD5=[2720a5a1f2c3fca2055b230370638851]\n",
       "link E2 to E3--><a href=\"psysml:f1219804-170d-45ce-a1b2-74df9d2ed655\" target=\"_top\" title=\"psysml:f1219804-170d-45ce-a1b2-74df9d2ed655\" xlink:actuate=\"onRequest\" xlink:href=\"psysml:f1219804-170d-45ce-a1b2-74df9d2ed655\" xlink:show=\"new\" xlink:title=\"psysml:f1219804-170d-45ce-a1b2-74df9d2ed655\" xlink:type=\"simple\"><path d=\"M189.41,102.16 C186.33,121.12 181.78,149.21 177.75,174.04 \" fill=\"none\" id=\"E2-&gt;E3\" style=\"stroke: #A80036; stroke-width: 1.0;\"/><polygon fill=\"#FFFFFF\" points=\"174.54,193.87,170.6701,173.9948,184.4897,176.2347,174.54,193.87\" style=\"stroke: #A80036; stroke-width: 1.0;\"/><ellipse cx=\"173.5563\" cy=\"168.6882\" fill=\"#A80036\" rx=\"2\" ry=\"2\" style=\"stroke: #A80036; stroke-width: 1.0;\"/><ellipse cx=\"183.4275\" cy=\"170.2882\" fill=\"#A80036\" rx=\"2\" ry=\"2\" style=\"stroke: #A80036; stroke-width: 1.0;\"/></a><!--MD5=[4672eba38e49728da53d11aeb285b987]\n",
       "reverse link E3 to E4--><a href=\"psysml:ebd0a90b-6b0b-4fe7-b689-bf63abb6537b\" target=\"_top\" title=\"psysml:ebd0a90b-6b0b-4fe7-b689-bf63abb6537b\" xlink:actuate=\"onRequest\" xlink:href=\"psysml:ebd0a90b-6b0b-4fe7-b689-bf63abb6537b\" xlink:show=\"new\" xlink:title=\"psysml:ebd0a90b-6b0b-4fe7-b689-bf63abb6537b\" xlink:type=\"simple\"><path d=\"M159.4,277.28 C155,298.98 149.98,323.67 146.47,340.96 \" fill=\"none\" id=\"E3&lt;-E4\" style=\"stroke: #A80036; stroke-width: 1.0;\"/><polygon fill=\"#A80036\" points=\"162.05,264.25,156.9367,269.3347,159.6637,276.0103,164.7769,270.9256,162.05,264.25\" style=\"stroke: #A80036; stroke-width: 1.0;\"/></a><!--MD5=[79568f1e445c3877b6a54524624ccc7d]\n",
       "link E4 to E6--><a href=\"psysml:0b7e6d0b-da90-43fd-82ff-3f36fc5229c0\" target=\"_top\" title=\"psysml:0b7e6d0b-da90-43fd-82ff-3f36fc5229c0\" xlink:actuate=\"onRequest\" xlink:href=\"psysml:0b7e6d0b-da90-43fd-82ff-3f36fc5229c0\" xlink:show=\"new\" xlink:title=\"psysml:0b7e6d0b-da90-43fd-82ff-3f36fc5229c0\" xlink:type=\"simple\"><path d=\"M138.24,387.01 C136.25,398.61 133.72,413.41 131.26,427.86 \" fill=\"none\" id=\"E4-&gt;E6\" style=\"stroke: #A80036; stroke-width: 1.0;\"/><polygon fill=\"#FFFFFF\" points=\"127.87,447.67,124.1589,427.7645,137.9603,430.1147,127.87,447.67\" style=\"stroke: #A80036; stroke-width: 1.0;\"/><ellipse cx=\"127.0874\" cy=\"422.4812\" fill=\"#A80036\" rx=\"2\" ry=\"2\" style=\"stroke: #A80036; stroke-width: 1.0;\"/><ellipse cx=\"136.9455\" cy=\"424.1599\" fill=\"#A80036\" rx=\"2\" ry=\"2\" style=\"stroke: #A80036; stroke-width: 1.0;\"/></a><!--MD5=[3f50a3473f1dfb74d3f76443e03635af]\n",
       "reverse link E6 to E7--><a href=\"psysml:8a2f941b-3a97-4b54-9145-5eb7e96c5b49\" target=\"_top\" title=\"psysml:8a2f941b-3a97-4b54-9145-5eb7e96c5b49\" xlink:actuate=\"onRequest\" xlink:href=\"psysml:8a2f941b-3a97-4b54-9145-5eb7e96c5b49\" xlink:show=\"new\" xlink:title=\"psysml:8a2f941b-3a97-4b54-9145-5eb7e96c5b49\" xlink:type=\"simple\"><path d=\"M116.68,533.27 C115.01,548.83 113.22,565.4 111.79,578.64 \" fill=\"none\" id=\"E6&lt;-E7\" style=\"stroke: #A80036; stroke-width: 1.0;\"/><ellipse cx=\"117.4567\" cy=\"526.1644\" fill=\"#FFFFFF\" rx=\"8\" ry=\"8\" style=\"stroke: #A80036; stroke-width: 1.0;\"/><line style=\"stroke: #A80036; stroke-width: 1.0;\" x1=\"116.6033\" x2=\"118.31\" y1=\"534.1187\" y2=\"518.21\"/><line style=\"stroke: #A80036; stroke-width: 1.0;\" x1=\"109.5023\" x2=\"125.411\" y1=\"525.311\" y2=\"527.0177\"/></a><!--MD5=[95fa686b5a16158bcdbcaeead89f639b]\n",
       "link E8 to E3--><a href=\"psysml:edfb0c1d-eeea-43d5-bece-b0bce4203cff\" target=\"_top\" title=\"psysml:edfb0c1d-eeea-43d5-bece-b0bce4203cff\" xlink:actuate=\"onRequest\" xlink:href=\"psysml:edfb0c1d-eeea-43d5-bece-b0bce4203cff\" xlink:show=\"new\" xlink:title=\"psysml:edfb0c1d-eeea-43d5-bece-b0bce4203cff\" xlink:type=\"simple\"><path d=\"M194.8,582.2 C198.09,536.68 203.89,429.89 194,341 C191.9,322.13 187.85,301.78 183.62,283.73 \" fill=\"none\" id=\"E8-&gt;E3\" style=\"stroke: #A80036; stroke-width: 1.0;\"/><polygon fill=\"#FFFFFF\" points=\"178.76,264.17,190.1301,280.9247,176.5423,284.2966,178.76,264.17\" style=\"stroke: #A80036; stroke-width: 1.0;\"/><ellipse cx=\"189.5619\" cy=\"286.9386\" fill=\"#A80036\" rx=\"2\" ry=\"2\" style=\"stroke: #A80036; stroke-width: 1.0;\"/><ellipse cx=\"179.8563\" cy=\"289.3471\" fill=\"#A80036\" rx=\"2\" ry=\"2\" style=\"stroke: #A80036; stroke-width: 1.0;\"/></a><!--MD5=[f4cf0736d43fd73c4ef68817c49d37d5]\n",
       "reverse link E6 to E8--><a href=\"psysml:4e9eccbd-3da0-4f6c-a773-1d808904fdc5\" target=\"_top\" title=\"psysml:4e9eccbd-3da0-4f6c-a773-1d808904fdc5\" xlink:actuate=\"onRequest\" xlink:href=\"psysml:4e9eccbd-3da0-4f6c-a773-1d808904fdc5\" xlink:show=\"new\" xlink:title=\"psysml:4e9eccbd-3da0-4f6c-a773-1d808904fdc5\" xlink:type=\"simple\"><path d=\"M148.79,529.47 C159.46,547.58 171.25,567.58 179.97,582.38 \" fill=\"none\" id=\"E6&lt;-E8\" style=\"stroke: #A80036; stroke-width: 1.0;\"/><polygon fill=\"#A80036\" points=\"142.16,518.21,141.76,525.41,148.2523,528.5485,148.6523,521.3485,142.16,518.21\" style=\"stroke: #A80036; stroke-width: 1.0;\"/></a><!--MD5=[8e04057e7b3cbc0dca4fc78ea351e2da]\n",
       "reverse link E10 to E3--><a href=\"psysml:800170d4-464e-4c2e-99b4-fb1d2de59c3f\" target=\"_top\" title=\"psysml:800170d4-464e-4c2e-99b4-fb1d2de59c3f\" xlink:actuate=\"onRequest\" xlink:href=\"psysml:800170d4-464e-4c2e-99b4-fb1d2de59c3f\" xlink:show=\"new\" xlink:title=\"psysml:800170d4-464e-4c2e-99b4-fb1d2de59c3f\" xlink:type=\"simple\"><path d=\"M107.78,128.43 C121.23,150.31 136.77,175.59 148.83,195.2 \" fill=\"none\" id=\"E10&lt;-E3\" style=\"stroke: #A80036; stroke-width: 1.0;\"/><polygon fill=\"#FFFFFF\" points=\"100.96,117.35,100.6917,124.5561,107.2403,127.5753,107.5086,120.3692,100.96,117.35\" style=\"stroke: #A80036; stroke-width: 1.0;\"/><text fill=\"#000000\" font-family=\"sans-serif\" font-size=\"13\" lengthAdjust=\"spacingAndGlyphs\" textLength=\"7\" x=\"129\" y=\"160.0669\">y</text></a><!--MD5=[604cbf994c02b74b117f728a71673cea]\n",
       "reverse link E10 to E6--><a href=\"psysml:800170d4-464e-4c2e-99b4-fb1d2de59c3f\" target=\"_top\" title=\"psysml:800170d4-464e-4c2e-99b4-fb1d2de59c3f\" xlink:actuate=\"onRequest\" xlink:href=\"psysml:800170d4-464e-4c2e-99b4-fb1d2de59c3f\" xlink:show=\"new\" xlink:title=\"psysml:800170d4-464e-4c2e-99b4-fb1d2de59c3f\" xlink:type=\"simple\"><path d=\"M75.96,130.3 C74.43,191.49 74.85,297.69 91,387 C94.73,407.66 101.86,430.01 108.35,447.84 \" fill=\"none\" id=\"E10&lt;-E6\" style=\"stroke: #A80036; stroke-width: 1.0;\"/><polygon fill=\"#FFFFFF\" points=\"76.33,117.22,72.1603,123.1033,75.9873,129.2151,80.157,123.3318,76.33,117.22\" style=\"stroke: #A80036; stroke-width: 1.0;\"/><text fill=\"#000000\" font-family=\"sans-serif\" font-size=\"13\" lengthAdjust=\"spacingAndGlyphs\" textLength=\"7\" x=\"81\" y=\"307.0669\">y</text></a><!--MD5=[32cea4f60e5d638a3d1c04d30806821d]\n",
       "@startuml\r\n",
       " \r\n",
       "package \"BlockTest\" as E1  [[psysml:1f80f8be-3c31-4480-9ece-24461005c64a ]]  {\r\n",
       "comp usage \"f: A\" as E2  << (P,limegreen) part>> [[psysml:77ca47e2-95bd-4f5e-baaf-35974d96745c ]] {\r\n",
       "}\r\n",
       "comp def \"A\" as E3  << (B,green) >> [[psysml:feda5581-6f8c-419d-8ba7-a8a04be8503b ]] {\r\n",
       "- - ports - -\r\n",
       "c: C\r\n",
       "}\r\n",
       "comp usage \"b: B\" as E4  << (P,limegreen) part>> [[psysml:ebd0a90b-6b0b-4fe7-b689-bf63abb6537b ]] {\r\n",
       "}\r\n",
       "comp def \"B\" as E6  << (B,green) >> [[psysml:7287ae62-763a-4b84-8405-f658443750c5 ]] {\r\n",
       "- - ports - -\r\n",
       "x: ~C\r\n",
       "}\r\n",
       "package \"P\" as E7  [[psysml:8a2f941b-3a97-4b54-9145-5eb7e96c5b49 ]]  {\r\n",
       "}\r\n",
       "comp usage \"a: A\" as E8  << (P,limegreen) part>> [[psysml:4e9eccbd-3da0-4f6c-a773-1d808904fdc5 ]] {\r\n",
       "}\r\n",
       "comp def \"C\" as E10  <<(D,brown)port def>> [[psysml:8c4f99f3-2675-4f4d-a756-da09d407570d ]] {\r\n",
       "- - references - -\r\n",
       "y: A, B <b>as</b> z2 \r\n",
       "}\r\n",
       "E2 - -:|> E3 [[psysml:f1219804-170d-45ce-a1b2-74df9d2ed655 ]] \r\n",
       "E3 *- - E4 [[psysml:ebd0a90b-6b0b-4fe7-b689-bf63abb6537b ]] \r\n",
       "E4 - -:|> E6 [[psysml:0b7e6d0b-da90-43fd-82ff-3f36fc5229c0 ]] \r\n",
       "E6 +- - E7 [[psysml:8a2f941b-3a97-4b54-9145-5eb7e96c5b49 ]] \r\n",
       "E8 - -:|> E3 [[psysml:edfb0c1d-eeea-43d5-bece-b0bce4203cff ]] \r\n",
       "E6 *- - E8 [[psysml:4e9eccbd-3da0-4f6c-a773-1d808904fdc5 ]] \r\n",
       "E10 o- - E3 [[psysml:800170d4-464e-4c2e-99b4-fb1d2de59c3f ]] : y\r\n",
       "E10 o- - E6 [[psysml:800170d4-464e-4c2e-99b4-fb1d2de59c3f ]] : y\r\n",
       "}\r\n",
       "@enduml\r\n",
       "\n",
       "PlantUML version 1.2020.13(Sat Jun 13 12:26:38 UTC 2020)\n",
       "(EPL source distribution)\n",
       "Java Runtime: OpenJDK Runtime Environment\n",
       "JVM: OpenJDK 64-Bit Server VM\n",
       "Default Encoding: UTF-8\n",
       "Language: en\n",
       "Country: null\n",
       "--></g></svg>"
      ]
     },
     "execution_count": 36,
     "metadata": {},
     "output_type": "execute_result"
    }
   ],
   "source": [
    "%viz --style=\"PLANTUML\" --view=\"MIXED\" \"BlockTest\""
   ]
  },
  {
   "cell_type": "code",
   "execution_count": 37,
   "id": "spiritual-muslim",
   "metadata": {
    "execution": {
     "iopub.execute_input": "2021-03-26T12:07:40.224782Z",
     "iopub.status.busy": "2021-03-26T12:07:40.224023Z",
     "iopub.status.idle": "2021-03-26T12:07:40.284562Z",
     "shell.execute_reply": "2021-03-26T12:07:40.283149Z"
    }
   },
   "outputs": [
    {
     "data": {
      "image/svg+xml": [
       "<?xml version=\"1.0\" encoding=\"UTF-8\" standalone=\"no\"?><svg xmlns=\"http://www.w3.org/2000/svg\" xmlns:xlink=\"http://www.w3.org/1999/xlink\" contentScriptType=\"application/ecmascript\" contentStyleType=\"text/css\" height=\"672px\" preserveAspectRatio=\"none\" style=\"width:231px;height:672px;\" version=\"1.1\" viewBox=\"0 0 231 672\" width=\"231px\" zoomAndPan=\"magnify\"><defs/><g><!--MD5=[fbc87193dbaf4d95561dea2c320d4a47]\n",
       "cluster E1--><a href=\"psysml:1f80f8be-3c31-4480-9ece-24461005c64a\" target=\"_top\" title=\"psysml:1f80f8be-3c31-4480-9ece-24461005c64a\" xlink:actuate=\"onRequest\" xlink:href=\"psysml:1f80f8be-3c31-4480-9ece-24461005c64a\" xlink:show=\"new\" xlink:title=\"psysml:1f80f8be-3c31-4480-9ece-24461005c64a\" xlink:type=\"simple\"><polygon fill=\"#FFFFFF\" points=\"16,6,99,6,106,28.2969,209,28.2969,209,660,16,660,16,6\" style=\"stroke: #000000; stroke-width: 1.5;\"/><line style=\"stroke: #000000; stroke-width: 1.5;\" x1=\"16\" x2=\"106\" y1=\"28.2969\" y2=\"28.2969\"/><text fill=\"#000000\" font-family=\"sans-serif\" font-size=\"14\" font-weight=\"bold\" lengthAdjust=\"spacingAndGlyphs\" textLength=\"77\" x=\"20\" y=\"20.9951\">BlockTest</text></a><!--MD5=[b4997ac47864f28c2f74865a473b2911]\n",
       "class E2--><a href=\"psysml:77ca47e2-95bd-4f5e-baaf-35974d96745c\" target=\"_top\" title=\"psysml:77ca47e2-95bd-4f5e-baaf-35974d96745c\" xlink:actuate=\"onRequest\" xlink:href=\"psysml:77ca47e2-95bd-4f5e-baaf-35974d96745c\" xlink:show=\"new\" xlink:title=\"psysml:77ca47e2-95bd-4f5e-baaf-35974d96745c\" xlink:type=\"simple\"><rect fill=\"#FFFFFF\" height=\"45.9375\" id=\"E2\" rx=\"10\" ry=\"10\" style=\"stroke: #383838; stroke-width: 1.5;\" width=\"42\" x=\"151\" y=\"56\"/><text fill=\"#000000\" font-family=\"sans-serif\" font-size=\"12\" font-style=\"italic\" lengthAdjust=\"spacingAndGlyphs\" textLength=\"40\" x=\"152\" y=\"72.1387\">«part»</text><text fill=\"#000000\" font-family=\"sans-serif\" font-size=\"12\" lengthAdjust=\"spacingAndGlyphs\" textLength=\"20\" x=\"162\" y=\"86.1074\">f: A</text><line style=\"stroke: #383838; stroke-width: 1.5;\" x1=\"152\" x2=\"192\" y1=\"93.9375\" y2=\"93.9375\"/></a><!--MD5=[09b614a08d8cba4a07c9adeb5e0fee81]\n",
       "class E3--><a href=\"psysml:feda5581-6f8c-419d-8ba7-a8a04be8503b\" target=\"_top\" title=\"psysml:feda5581-6f8c-419d-8ba7-a8a04be8503b\" xlink:actuate=\"onRequest\" xlink:href=\"psysml:feda5581-6f8c-419d-8ba7-a8a04be8503b\" xlink:show=\"new\" xlink:title=\"psysml:feda5581-6f8c-419d-8ba7-a8a04be8503b\" xlink:type=\"simple\"><rect fill=\"#FFFFFF\" height=\"75.5469\" id=\"E3\" style=\"stroke: #383838; stroke-width: 1.5;\" width=\"66\" x=\"118\" y=\"194\"/><text fill=\"#000000\" font-family=\"sans-serif\" font-size=\"12\" font-style=\"italic\" lengthAdjust=\"spacingAndGlyphs\" textLength=\"64\" x=\"119\" y=\"210.1387\">«part def»</text><text fill=\"#000000\" font-family=\"sans-serif\" font-size=\"12\" lengthAdjust=\"spacingAndGlyphs\" textLength=\"8\" x=\"147\" y=\"224.1074\">A</text><line style=\"stroke: #383838; stroke-width: 1.5;\" x1=\"119\" x2=\"183\" y1=\"231.9375\" y2=\"231.9375\"/><text fill=\"#000000\" font-family=\"sans-serif\" font-size=\"11\" lengthAdjust=\"spacingAndGlyphs\" textLength=\"22\" x=\"124\" y=\"262.9526\">c: C</text><line style=\"stroke: #383838; stroke-width: 1.0;\" x1=\"119\" x2=\"136\" y1=\"246.3398\" y2=\"246.3398\"/><text fill=\"#000000\" font-family=\"sans-serif\" font-size=\"11\" lengthAdjust=\"spacingAndGlyphs\" textLength=\"30\" x=\"136\" y=\"249.6479\">ports</text><line style=\"stroke: #383838; stroke-width: 1.0;\" x1=\"166\" x2=\"183\" y1=\"246.3398\" y2=\"246.3398\"/></a><!--MD5=[ebbe1d658d1005bcc118a6aa81145e00]\n",
       "class E4--><a href=\"psysml:ebd0a90b-6b0b-4fe7-b689-bf63abb6537b\" target=\"_top\" title=\"psysml:ebd0a90b-6b0b-4fe7-b689-bf63abb6537b\" xlink:actuate=\"onRequest\" xlink:href=\"psysml:ebd0a90b-6b0b-4fe7-b689-bf63abb6537b\" xlink:show=\"new\" xlink:title=\"psysml:ebd0a90b-6b0b-4fe7-b689-bf63abb6537b\" xlink:type=\"simple\"><rect fill=\"#FFFFFF\" height=\"45.9375\" id=\"E4\" rx=\"10\" ry=\"10\" style=\"stroke: #383838; stroke-width: 1.5;\" width=\"42\" x=\"106\" y=\"347\"/><text fill=\"#000000\" font-family=\"sans-serif\" font-size=\"12\" font-style=\"italic\" lengthAdjust=\"spacingAndGlyphs\" textLength=\"40\" x=\"107\" y=\"363.1387\">«part»</text><text fill=\"#000000\" font-family=\"sans-serif\" font-size=\"12\" lengthAdjust=\"spacingAndGlyphs\" textLength=\"24\" x=\"115\" y=\"377.1074\">b: B</text><line style=\"stroke: #383838; stroke-width: 1.5;\" x1=\"107\" x2=\"147\" y1=\"384.9375\" y2=\"384.9375\"/></a><!--MD5=[60a26617385b1d2d0262a64233df1f8d]\n",
       "class E6--><a href=\"psysml:7287ae62-763a-4b84-8405-f658443750c5\" target=\"_top\" title=\"psysml:7287ae62-763a-4b84-8405-f658443750c5\" xlink:actuate=\"onRequest\" xlink:href=\"psysml:7287ae62-763a-4b84-8405-f658443750c5\" xlink:show=\"new\" xlink:title=\"psysml:7287ae62-763a-4b84-8405-f658443750c5\" xlink:type=\"simple\"><rect fill=\"#FFFFFF\" height=\"75.5469\" id=\"E6\" style=\"stroke: #383838; stroke-width: 1.5;\" width=\"66\" x=\"77\" y=\"454\"/><text fill=\"#000000\" font-family=\"sans-serif\" font-size=\"12\" font-style=\"italic\" lengthAdjust=\"spacingAndGlyphs\" textLength=\"64\" x=\"78\" y=\"470.1387\">«part def»</text><text fill=\"#000000\" font-family=\"sans-serif\" font-size=\"12\" lengthAdjust=\"spacingAndGlyphs\" textLength=\"8\" x=\"106\" y=\"484.1074\">B</text><line style=\"stroke: #383838; stroke-width: 1.5;\" x1=\"78\" x2=\"142\" y1=\"491.9375\" y2=\"491.9375\"/><text fill=\"#000000\" font-family=\"sans-serif\" font-size=\"11\" lengthAdjust=\"spacingAndGlyphs\" textLength=\"31\" x=\"83\" y=\"522.9526\">x: ~C</text><line style=\"stroke: #383838; stroke-width: 1.0;\" x1=\"78\" x2=\"95\" y1=\"506.3398\" y2=\"506.3398\"/><text fill=\"#000000\" font-family=\"sans-serif\" font-size=\"11\" lengthAdjust=\"spacingAndGlyphs\" textLength=\"30\" x=\"95\" y=\"509.6479\">ports</text><line style=\"stroke: #383838; stroke-width: 1.0;\" x1=\"125\" x2=\"142\" y1=\"506.3398\" y2=\"506.3398\"/></a><!--MD5=[b9389687b975829384b498ac4b7476b2]\n",
       "class E8--><a href=\"psysml:4e9eccbd-3da0-4f6c-a773-1d808904fdc5\" target=\"_top\" title=\"psysml:4e9eccbd-3da0-4f6c-a773-1d808904fdc5\" xlink:actuate=\"onRequest\" xlink:href=\"psysml:4e9eccbd-3da0-4f6c-a773-1d808904fdc5\" xlink:show=\"new\" xlink:title=\"psysml:4e9eccbd-3da0-4f6c-a773-1d808904fdc5\" xlink:type=\"simple\"><rect fill=\"#FFFFFF\" height=\"45.9375\" id=\"E8\" rx=\"10\" ry=\"10\" style=\"stroke: #383838; stroke-width: 1.5;\" width=\"42\" x=\"151\" y=\"594.5\"/><text fill=\"#000000\" font-family=\"sans-serif\" font-size=\"12\" font-style=\"italic\" lengthAdjust=\"spacingAndGlyphs\" textLength=\"40\" x=\"152\" y=\"610.6387\">«part»</text><text fill=\"#000000\" font-family=\"sans-serif\" font-size=\"12\" lengthAdjust=\"spacingAndGlyphs\" textLength=\"24\" x=\"160\" y=\"624.6074\">a: A</text><line style=\"stroke: #383838; stroke-width: 1.5;\" x1=\"152\" x2=\"192\" y1=\"632.4375\" y2=\"632.4375\"/></a><!--MD5=[96f4274e9e20536e775497830990834d]\n",
       "class E10--><a href=\"psysml:8c4f99f3-2675-4f4d-a756-da09d407570d\" target=\"_top\" title=\"psysml:8c4f99f3-2675-4f4d-a756-da09d407570d\" xlink:actuate=\"onRequest\" xlink:href=\"psysml:8c4f99f3-2675-4f4d-a756-da09d407570d\" xlink:show=\"new\" xlink:title=\"psysml:8c4f99f3-2675-4f4d-a756-da09d407570d\" xlink:type=\"simple\"><rect fill=\"#FFFFFF\" height=\"75.5469\" id=\"E10\" style=\"stroke: #383838; stroke-width: 1.5;\" width=\"84\" x=\"32\" y=\"41\"/><text fill=\"#000000\" font-family=\"sans-serif\" font-size=\"12\" font-style=\"italic\" lengthAdjust=\"spacingAndGlyphs\" textLength=\"64\" x=\"42\" y=\"57.1387\">«port def»</text><text fill=\"#000000\" font-family=\"sans-serif\" font-size=\"12\" lengthAdjust=\"spacingAndGlyphs\" textLength=\"8\" x=\"70\" y=\"71.1074\">C</text><line style=\"stroke: #383838; stroke-width: 1.5;\" x1=\"33\" x2=\"115\" y1=\"78.9375\" y2=\"78.9375\"/><text fill=\"#000000\" font-family=\"sans-serif\" font-size=\"11\" lengthAdjust=\"spacingAndGlyphs\" textLength=\"37\" x=\"38\" y=\"109.9526\">y: A, B</text><text fill=\"#000000\" font-family=\"sans-serif\" font-size=\"11\" font-weight=\"bold\" lengthAdjust=\"spacingAndGlyphs\" textLength=\"15\" x=\"79\" y=\"109.9526\">as</text><text fill=\"#000000\" font-family=\"sans-serif\" font-size=\"11\" lengthAdjust=\"spacingAndGlyphs\" textLength=\"12\" x=\"98\" y=\"109.9526\">z2</text><line style=\"stroke: #383838; stroke-width: 1.0;\" x1=\"33\" x2=\"43\" y1=\"93.3398\" y2=\"93.3398\"/><text fill=\"#000000\" font-family=\"sans-serif\" font-size=\"11\" lengthAdjust=\"spacingAndGlyphs\" textLength=\"62\" x=\"43\" y=\"96.6479\">references</text><line style=\"stroke: #383838; stroke-width: 1.0;\" x1=\"105\" x2=\"115\" y1=\"93.3398\" y2=\"93.3398\"/></a><a href=\"psysml:8a2f941b-3a97-4b54-9145-5eb7e96c5b49\" target=\"_top\" title=\"psysml:8a2f941b-3a97-4b54-9145-5eb7e96c5b49\" xlink:actuate=\"onRequest\" xlink:href=\"psysml:8a2f941b-3a97-4b54-9145-5eb7e96c5b49\" xlink:show=\"new\" xlink:title=\"psysml:8a2f941b-3a97-4b54-9145-5eb7e96c5b49\" xlink:type=\"simple\"><polygon fill=\"#FFFFFF\" points=\"86,591,102,591,109,613.2969,116,613.2969,116,643.5938,86,643.5938,86,591\" style=\"stroke: #000000; stroke-width: 1.5;\"/><line style=\"stroke: #000000; stroke-width: 1.5;\" x1=\"86\" x2=\"109\" y1=\"613.2969\" y2=\"613.2969\"/><text fill=\"#000000\" font-family=\"sans-serif\" font-size=\"14\" font-weight=\"bold\" lengthAdjust=\"spacingAndGlyphs\" textLength=\"10\" x=\"90\" y=\"605.9951\">P</text></a><!--MD5=[2720a5a1f2c3fca2055b230370638851]\n",
       "link E2 to E3--><a href=\"psysml:f1219804-170d-45ce-a1b2-74df9d2ed655\" target=\"_top\" title=\"psysml:f1219804-170d-45ce-a1b2-74df9d2ed655\" xlink:actuate=\"onRequest\" xlink:href=\"psysml:f1219804-170d-45ce-a1b2-74df9d2ed655\" xlink:show=\"new\" xlink:title=\"psysml:f1219804-170d-45ce-a1b2-74df9d2ed655\" xlink:type=\"simple\"><path d=\"M168.9,102.28 C166.28,121.12 162.41,148.97 158.94,173.94 \" fill=\"none\" id=\"E2-&gt;E3\" style=\"stroke: #383838; stroke-width: 1.0;\"/><polygon fill=\"#FFFFFF\" points=\"156.15,193.98,151.8354,174.1966,165.7018,176.1261,156.15,193.98\" style=\"stroke: #383838; stroke-width: 1.0;\"/><ellipse cx=\"154.6019\" cy=\"168.8266\" fill=\"#383838\" rx=\"2\" ry=\"2\" style=\"stroke: #383838; stroke-width: 1.0;\"/><ellipse cx=\"164.5065\" cy=\"170.2048\" fill=\"#383838\" rx=\"2\" ry=\"2\" style=\"stroke: #383838; stroke-width: 1.0;\"/></a><!--MD5=[4672eba38e49728da53d11aeb285b987]\n",
       "reverse link E3 to E4--><a href=\"psysml:ebd0a90b-6b0b-4fe7-b689-bf63abb6537b\" target=\"_top\" title=\"psysml:ebd0a90b-6b0b-4fe7-b689-bf63abb6537b\" xlink:actuate=\"onRequest\" xlink:href=\"psysml:ebd0a90b-6b0b-4fe7-b689-bf63abb6537b\" xlink:show=\"new\" xlink:title=\"psysml:ebd0a90b-6b0b-4fe7-b689-bf63abb6537b\" xlink:type=\"simple\"><path d=\"M142.17,283.02 C138.31,304.93 133.97,329.52 130.92,346.77 \" fill=\"none\" id=\"E3&lt;-E4\" style=\"stroke: #383838; stroke-width: 1.0;\"/><polygon fill=\"#383838\" points=\"144.44,270.16,139.4532,275.3688,142.3433,281.9754,147.3301,276.7666,144.44,270.16\" style=\"stroke: #383838; stroke-width: 1.0;\"/></a><!--MD5=[79568f1e445c3877b6a54524624ccc7d]\n",
       "link E4 to E6--><a href=\"psysml:0b7e6d0b-da90-43fd-82ff-3f36fc5229c0\" target=\"_top\" title=\"psysml:0b7e6d0b-da90-43fd-82ff-3f36fc5229c0\" xlink:actuate=\"onRequest\" xlink:href=\"psysml:0b7e6d0b-da90-43fd-82ff-3f36fc5229c0\" xlink:show=\"new\" xlink:title=\"psysml:0b7e6d0b-da90-43fd-82ff-3f36fc5229c0\" xlink:type=\"simple\"><path d=\"M123.88,393.01 C122.25,404.51 120.18,419.17 118.13,433.62 \" fill=\"none\" id=\"E4-&gt;E6\" style=\"stroke: #383838; stroke-width: 1.0;\"/><polygon fill=\"#FFFFFF\" points=\"115.3,453.57,111.0294,433.777,124.8914,435.7373,115.3,453.57\" style=\"stroke: #383838; stroke-width: 1.0;\"/><ellipse cx=\"113.8078\" cy=\"428.4132\" fill=\"#383838\" rx=\"2\" ry=\"2\" style=\"stroke: #383838; stroke-width: 1.0;\"/><ellipse cx=\"123.7093\" cy=\"429.8134\" fill=\"#383838\" rx=\"2\" ry=\"2\" style=\"stroke: #383838; stroke-width: 1.0;\"/></a><!--MD5=[3f50a3473f1dfb74d3f76443e03635af]\n",
       "reverse link E6 to E7--><a href=\"psysml:8a2f941b-3a97-4b54-9145-5eb7e96c5b49\" target=\"_top\" title=\"psysml:8a2f941b-3a97-4b54-9145-5eb7e96c5b49\" xlink:actuate=\"onRequest\" xlink:href=\"psysml:8a2f941b-3a97-4b54-9145-5eb7e96c5b49\" xlink:show=\"new\" xlink:title=\"psysml:8a2f941b-3a97-4b54-9145-5eb7e96c5b49\" xlink:type=\"simple\"><path d=\"M106.18,545.35 C105.04,561.08 103.83,577.65 102.87,590.83 \" fill=\"none\" id=\"E6&lt;-E7\" style=\"stroke: #383838; stroke-width: 1.0;\"/><ellipse cx=\"106.7138\" cy=\"538.0285\" fill=\"#FFFFFF\" rx=\"8\" ry=\"8\" style=\"stroke: #383838; stroke-width: 1.0;\"/><line style=\"stroke: #383838; stroke-width: 1.0;\" x1=\"106.1276\" x2=\"107.3\" y1=\"546.007\" y2=\"530.05\"/><line style=\"stroke: #383838; stroke-width: 1.0;\" x1=\"98.7353\" x2=\"114.6923\" y1=\"537.4423\" y2=\"538.6147\"/></a><!--MD5=[95fa686b5a16158bcdbcaeead89f639b]\n",
       "link E8 to E3--><a href=\"psysml:edfb0c1d-eeea-43d5-bece-b0bce4203cff\" target=\"_top\" title=\"psysml:edfb0c1d-eeea-43d5-bece-b0bce4203cff\" xlink:actuate=\"onRequest\" xlink:href=\"psysml:edfb0c1d-eeea-43d5-bece-b0bce4203cff\" xlink:show=\"new\" xlink:title=\"psysml:edfb0c1d-eeea-43d5-bece-b0bce4203cff\" xlink:type=\"simple\"><path d=\"M172.32,594.45 C172.8,548.41 173.03,438.69 166,347 C164.57,328.37 162.18,308.13 159.73,289.94 \" fill=\"none\" id=\"E8-&gt;E3\" style=\"stroke: #383838; stroke-width: 1.0;\"/><polygon fill=\"#FFFFFF\" points=\"156.92,270.12,166.5114,287.9527,152.6494,289.913,156.92,270.12\" style=\"stroke: #383838; stroke-width: 1.0;\"/><ellipse cx=\"165.3293\" cy=\"293.8766\" fill=\"#383838\" rx=\"2\" ry=\"2\" style=\"stroke: #383838; stroke-width: 1.0;\"/><ellipse cx=\"155.4278\" cy=\"295.2768\" fill=\"#383838\" rx=\"2\" ry=\"2\" style=\"stroke: #383838; stroke-width: 1.0;\"/></a><!--MD5=[f4cf0736d43fd73c4ef68817c49d37d5]\n",
       "reverse link E6 to E8--><a href=\"psysml:4e9eccbd-3da0-4f6c-a773-1d808904fdc5\" target=\"_top\" title=\"psysml:4e9eccbd-3da0-4f6c-a773-1d808904fdc5\" xlink:actuate=\"onRequest\" xlink:href=\"psysml:4e9eccbd-3da0-4f6c-a773-1d808904fdc5\" xlink:show=\"new\" xlink:title=\"psysml:4e9eccbd-3da0-4f6c-a773-1d808904fdc5\" xlink:type=\"simple\"><path d=\"M134.44,541.68 C143.55,559.83 153.45,579.55 160.8,594.19 \" fill=\"none\" id=\"E6&lt;-E8\" style=\"stroke: #383838; stroke-width: 1.0;\"/><polygon fill=\"#383838\" points=\"128.6,530.05,127.7161,537.2067,133.9824,540.7752,134.8663,533.6185,128.6,530.05\" style=\"stroke: #383838; stroke-width: 1.0;\"/></a><!--MD5=[8e04057e7b3cbc0dca4fc78ea351e2da]\n",
       "reverse link E10 to E3--><a href=\"psysml:800170d4-464e-4c2e-99b4-fb1d2de59c3f\" target=\"_top\" title=\"psysml:800170d4-464e-4c2e-99b4-fb1d2de59c3f\" xlink:actuate=\"onRequest\" xlink:href=\"psysml:800170d4-464e-4c2e-99b4-fb1d2de59c3f\" xlink:show=\"new\" xlink:title=\"psysml:800170d4-464e-4c2e-99b4-fb1d2de59c3f\" xlink:type=\"simple\"><path d=\"M98.98,128.98 C109.72,150.06 122.08,174.29 132.05,193.84 \" fill=\"none\" id=\"E10&lt;-E3\" style=\"stroke: #383838; stroke-width: 1.0;\"/><polygon fill=\"#FFFFFF\" points=\"93.03,117.33,92.1919,124.4922,98.4809,128.0206,99.319,120.8583,93.03,117.33\" style=\"stroke: #383838; stroke-width: 1.0;\"/><text fill=\"#000000\" font-family=\"sans-serif\" font-size=\"13\" lengthAdjust=\"spacingAndGlyphs\" textLength=\"7\" x=\"115\" y=\"160.0669\">y</text></a><!--MD5=[604cbf994c02b74b117f728a71673cea]\n",
       "reverse link E10 to E6--><a href=\"psysml:800170d4-464e-4c2e-99b4-fb1d2de59c3f\" target=\"_top\" title=\"psysml:800170d4-464e-4c2e-99b4-fb1d2de59c3f\" xlink:actuate=\"onRequest\" xlink:href=\"psysml:800170d4-464e-4c2e-99b4-fb1d2de59c3f\" xlink:show=\"new\" xlink:title=\"psysml:800170d4-464e-4c2e-99b4-fb1d2de59c3f\" xlink:type=\"simple\"><path d=\"M73.89,130.53 C74.34,192.6 77.02,300.97 89,393 C91.63,413.19 96.24,435.39 100.47,453.55 \" fill=\"none\" id=\"E10&lt;-E6\" style=\"stroke: #383838; stroke-width: 1.0;\"/><polygon fill=\"#FFFFFF\" points=\"73.83,117.27,69.863,123.2919,73.8959,129.2698,77.8629,123.2479,73.83,117.27\" style=\"stroke: #383838; stroke-width: 1.0;\"/><text fill=\"#000000\" font-family=\"sans-serif\" font-size=\"13\" lengthAdjust=\"spacingAndGlyphs\" textLength=\"7\" x=\"82\" y=\"313.0669\">y</text></a><!--MD5=[c6986d8dd217a34716d192184e1f3bce]\n",
       "@startuml\r\n",
       "skinparam monochrome true\r\n",
       "skinparam classbackgroundcolor white\r\n",
       "skinparam shadowing false\r\n",
       "skinparam wrapWidth 300\r\n",
       "hide circle\r\n",
       "\r\n",
       "package \"BlockTest\" as E1  [[psysml:1f80f8be-3c31-4480-9ece-24461005c64a ]]  {\r\n",
       "comp usage \"f: A\" as E2  <<(T,blue)part>> [[psysml:77ca47e2-95bd-4f5e-baaf-35974d96745c ]] {\r\n",
       "}\r\n",
       "comp def \"A\" as E3  <<(T,blue)part def>> [[psysml:feda5581-6f8c-419d-8ba7-a8a04be8503b ]] {\r\n",
       "- - ports - -\r\n",
       "c: C\r\n",
       "}\r\n",
       "comp usage \"b: B\" as E4  <<(T,blue)part>> [[psysml:ebd0a90b-6b0b-4fe7-b689-bf63abb6537b ]] {\r\n",
       "}\r\n",
       "comp def \"B\" as E6  <<(T,blue)part def>> [[psysml:7287ae62-763a-4b84-8405-f658443750c5 ]] {\r\n",
       "- - ports - -\r\n",
       "x: ~C\r\n",
       "}\r\n",
       "package \"P\" as E7  [[psysml:8a2f941b-3a97-4b54-9145-5eb7e96c5b49 ]]  {\r\n",
       "}\r\n",
       "comp usage \"a: A\" as E8  <<(T,blue)part>> [[psysml:4e9eccbd-3da0-4f6c-a773-1d808904fdc5 ]] {\r\n",
       "}\r\n",
       "comp def \"C\" as E10  <<(T,blue)port def>> [[psysml:8c4f99f3-2675-4f4d-a756-da09d407570d ]] {\r\n",
       "- - references - -\r\n",
       "y: A, B <b>as</b> z2 \r\n",
       "}\r\n",
       "E2 - -:|> E3 [[psysml:f1219804-170d-45ce-a1b2-74df9d2ed655 ]] \r\n",
       "E3 *- - E4 [[psysml:ebd0a90b-6b0b-4fe7-b689-bf63abb6537b ]] \r\n",
       "E4 - -:|> E6 [[psysml:0b7e6d0b-da90-43fd-82ff-3f36fc5229c0 ]] \r\n",
       "E6 +- - E7 [[psysml:8a2f941b-3a97-4b54-9145-5eb7e96c5b49 ]] \r\n",
       "E8 - -:|> E3 [[psysml:edfb0c1d-eeea-43d5-bece-b0bce4203cff ]] \r\n",
       "E6 *- - E8 [[psysml:4e9eccbd-3da0-4f6c-a773-1d808904fdc5 ]] \r\n",
       "E10 o- - E3 [[psysml:800170d4-464e-4c2e-99b4-fb1d2de59c3f ]] : y\r\n",
       "E10 o- - E6 [[psysml:800170d4-464e-4c2e-99b4-fb1d2de59c3f ]] : y\r\n",
       "}\r\n",
       "@enduml\r\n",
       "\n",
       "PlantUML version 1.2020.13(Sat Jun 13 12:26:38 UTC 2020)\n",
       "(EPL source distribution)\n",
       "Java Runtime: OpenJDK Runtime Environment\n",
       "JVM: OpenJDK 64-Bit Server VM\n",
       "Default Encoding: UTF-8\n",
       "Language: en\n",
       "Country: null\n",
       "--></g></svg>"
      ]
     },
     "execution_count": 37,
     "metadata": {},
     "output_type": "execute_result"
    }
   ],
   "source": [
    "%viz --style=\"DEFAULT\" --view=\"Default\" \"BlockTest\""
   ]
  },
  {
   "cell_type": "code",
   "execution_count": 38,
   "id": "searching-chosen",
   "metadata": {
    "execution": {
     "iopub.execute_input": "2021-03-26T12:07:40.336290Z",
     "iopub.status.busy": "2021-03-26T12:07:40.335449Z",
     "iopub.status.idle": "2021-03-26T12:07:40.413619Z",
     "shell.execute_reply": "2021-03-26T12:07:40.411683Z"
    }
   },
   "outputs": [
    {
     "data": {
      "image/svg+xml": [
       "<?xml version=\"1.0\" encoding=\"UTF-8\" standalone=\"no\"?><svg xmlns=\"http://www.w3.org/2000/svg\" xmlns:xlink=\"http://www.w3.org/1999/xlink\" contentScriptType=\"application/ecmascript\" contentStyleType=\"text/css\" height=\"672px\" preserveAspectRatio=\"none\" style=\"width:231px;height:672px;\" version=\"1.1\" viewBox=\"0 0 231 672\" width=\"231px\" zoomAndPan=\"magnify\"><defs/><g><!--MD5=[fbc87193dbaf4d95561dea2c320d4a47]\n",
       "cluster E1--><a href=\"psysml:1f80f8be-3c31-4480-9ece-24461005c64a\" target=\"_top\" title=\"psysml:1f80f8be-3c31-4480-9ece-24461005c64a\" xlink:actuate=\"onRequest\" xlink:href=\"psysml:1f80f8be-3c31-4480-9ece-24461005c64a\" xlink:show=\"new\" xlink:title=\"psysml:1f80f8be-3c31-4480-9ece-24461005c64a\" xlink:type=\"simple\"><polygon fill=\"#FFFFFF\" points=\"16,6,99,6,106,28.2969,209,28.2969,209,660,16,660,16,6\" style=\"stroke: #000000; stroke-width: 1.5;\"/><line style=\"stroke: #000000; stroke-width: 1.5;\" x1=\"16\" x2=\"106\" y1=\"28.2969\" y2=\"28.2969\"/><text fill=\"#000000\" font-family=\"sans-serif\" font-size=\"14\" font-weight=\"bold\" lengthAdjust=\"spacingAndGlyphs\" textLength=\"77\" x=\"20\" y=\"20.9951\">BlockTest</text></a><!--MD5=[b4997ac47864f28c2f74865a473b2911]\n",
       "class E2--><a href=\"psysml:77ca47e2-95bd-4f5e-baaf-35974d96745c\" target=\"_top\" title=\"psysml:77ca47e2-95bd-4f5e-baaf-35974d96745c\" xlink:actuate=\"onRequest\" xlink:href=\"psysml:77ca47e2-95bd-4f5e-baaf-35974d96745c\" xlink:show=\"new\" xlink:title=\"psysml:77ca47e2-95bd-4f5e-baaf-35974d96745c\" xlink:type=\"simple\"><rect fill=\"#FFFFFF\" height=\"45.9375\" id=\"E2\" rx=\"10\" ry=\"10\" style=\"stroke: #383838; stroke-width: 1.5;\" width=\"42\" x=\"151\" y=\"56\"/><text fill=\"#000000\" font-family=\"sans-serif\" font-size=\"12\" font-style=\"italic\" lengthAdjust=\"spacingAndGlyphs\" textLength=\"40\" x=\"152\" y=\"72.1387\">«part»</text><text fill=\"#000000\" font-family=\"sans-serif\" font-size=\"12\" lengthAdjust=\"spacingAndGlyphs\" textLength=\"20\" x=\"162\" y=\"86.1074\">f: A</text><line style=\"stroke: #383838; stroke-width: 1.5;\" x1=\"152\" x2=\"192\" y1=\"93.9375\" y2=\"93.9375\"/></a><!--MD5=[09b614a08d8cba4a07c9adeb5e0fee81]\n",
       "class E3--><a href=\"psysml:feda5581-6f8c-419d-8ba7-a8a04be8503b\" target=\"_top\" title=\"psysml:feda5581-6f8c-419d-8ba7-a8a04be8503b\" xlink:actuate=\"onRequest\" xlink:href=\"psysml:feda5581-6f8c-419d-8ba7-a8a04be8503b\" xlink:show=\"new\" xlink:title=\"psysml:feda5581-6f8c-419d-8ba7-a8a04be8503b\" xlink:type=\"simple\"><rect fill=\"#FFFFFF\" height=\"75.5469\" id=\"E3\" style=\"stroke: #383838; stroke-width: 1.5;\" width=\"66\" x=\"118\" y=\"194\"/><text fill=\"#000000\" font-family=\"sans-serif\" font-size=\"12\" font-style=\"italic\" lengthAdjust=\"spacingAndGlyphs\" textLength=\"64\" x=\"119\" y=\"210.1387\">«part def»</text><text fill=\"#000000\" font-family=\"sans-serif\" font-size=\"12\" lengthAdjust=\"spacingAndGlyphs\" textLength=\"8\" x=\"147\" y=\"224.1074\">A</text><line style=\"stroke: #383838; stroke-width: 1.5;\" x1=\"119\" x2=\"183\" y1=\"231.9375\" y2=\"231.9375\"/><text fill=\"#000000\" font-family=\"sans-serif\" font-size=\"11\" lengthAdjust=\"spacingAndGlyphs\" textLength=\"22\" x=\"124\" y=\"262.9526\">c: C</text><line style=\"stroke: #383838; stroke-width: 1.0;\" x1=\"119\" x2=\"136\" y1=\"246.3398\" y2=\"246.3398\"/><text fill=\"#000000\" font-family=\"sans-serif\" font-size=\"11\" lengthAdjust=\"spacingAndGlyphs\" textLength=\"30\" x=\"136\" y=\"249.6479\">ports</text><line style=\"stroke: #383838; stroke-width: 1.0;\" x1=\"166\" x2=\"183\" y1=\"246.3398\" y2=\"246.3398\"/></a><!--MD5=[ebbe1d658d1005bcc118a6aa81145e00]\n",
       "class E4--><a href=\"psysml:ebd0a90b-6b0b-4fe7-b689-bf63abb6537b\" target=\"_top\" title=\"psysml:ebd0a90b-6b0b-4fe7-b689-bf63abb6537b\" xlink:actuate=\"onRequest\" xlink:href=\"psysml:ebd0a90b-6b0b-4fe7-b689-bf63abb6537b\" xlink:show=\"new\" xlink:title=\"psysml:ebd0a90b-6b0b-4fe7-b689-bf63abb6537b\" xlink:type=\"simple\"><rect fill=\"#FFFFFF\" height=\"45.9375\" id=\"E4\" rx=\"10\" ry=\"10\" style=\"stroke: #383838; stroke-width: 1.5;\" width=\"42\" x=\"106\" y=\"347\"/><text fill=\"#000000\" font-family=\"sans-serif\" font-size=\"12\" font-style=\"italic\" lengthAdjust=\"spacingAndGlyphs\" textLength=\"40\" x=\"107\" y=\"363.1387\">«part»</text><text fill=\"#000000\" font-family=\"sans-serif\" font-size=\"12\" lengthAdjust=\"spacingAndGlyphs\" textLength=\"24\" x=\"115\" y=\"377.1074\">b: B</text><line style=\"stroke: #383838; stroke-width: 1.5;\" x1=\"107\" x2=\"147\" y1=\"384.9375\" y2=\"384.9375\"/></a><!--MD5=[60a26617385b1d2d0262a64233df1f8d]\n",
       "class E6--><a href=\"psysml:7287ae62-763a-4b84-8405-f658443750c5\" target=\"_top\" title=\"psysml:7287ae62-763a-4b84-8405-f658443750c5\" xlink:actuate=\"onRequest\" xlink:href=\"psysml:7287ae62-763a-4b84-8405-f658443750c5\" xlink:show=\"new\" xlink:title=\"psysml:7287ae62-763a-4b84-8405-f658443750c5\" xlink:type=\"simple\"><rect fill=\"#FFFFFF\" height=\"75.5469\" id=\"E6\" style=\"stroke: #383838; stroke-width: 1.5;\" width=\"66\" x=\"77\" y=\"454\"/><text fill=\"#000000\" font-family=\"sans-serif\" font-size=\"12\" font-style=\"italic\" lengthAdjust=\"spacingAndGlyphs\" textLength=\"64\" x=\"78\" y=\"470.1387\">«part def»</text><text fill=\"#000000\" font-family=\"sans-serif\" font-size=\"12\" lengthAdjust=\"spacingAndGlyphs\" textLength=\"8\" x=\"106\" y=\"484.1074\">B</text><line style=\"stroke: #383838; stroke-width: 1.5;\" x1=\"78\" x2=\"142\" y1=\"491.9375\" y2=\"491.9375\"/><text fill=\"#000000\" font-family=\"sans-serif\" font-size=\"11\" lengthAdjust=\"spacingAndGlyphs\" textLength=\"31\" x=\"83\" y=\"522.9526\">x: ~C</text><line style=\"stroke: #383838; stroke-width: 1.0;\" x1=\"78\" x2=\"95\" y1=\"506.3398\" y2=\"506.3398\"/><text fill=\"#000000\" font-family=\"sans-serif\" font-size=\"11\" lengthAdjust=\"spacingAndGlyphs\" textLength=\"30\" x=\"95\" y=\"509.6479\">ports</text><line style=\"stroke: #383838; stroke-width: 1.0;\" x1=\"125\" x2=\"142\" y1=\"506.3398\" y2=\"506.3398\"/></a><!--MD5=[b9389687b975829384b498ac4b7476b2]\n",
       "class E8--><a href=\"psysml:4e9eccbd-3da0-4f6c-a773-1d808904fdc5\" target=\"_top\" title=\"psysml:4e9eccbd-3da0-4f6c-a773-1d808904fdc5\" xlink:actuate=\"onRequest\" xlink:href=\"psysml:4e9eccbd-3da0-4f6c-a773-1d808904fdc5\" xlink:show=\"new\" xlink:title=\"psysml:4e9eccbd-3da0-4f6c-a773-1d808904fdc5\" xlink:type=\"simple\"><rect fill=\"#FFFFFF\" height=\"45.9375\" id=\"E8\" rx=\"10\" ry=\"10\" style=\"stroke: #383838; stroke-width: 1.5;\" width=\"42\" x=\"151\" y=\"594.5\"/><text fill=\"#000000\" font-family=\"sans-serif\" font-size=\"12\" font-style=\"italic\" lengthAdjust=\"spacingAndGlyphs\" textLength=\"40\" x=\"152\" y=\"610.6387\">«part»</text><text fill=\"#000000\" font-family=\"sans-serif\" font-size=\"12\" lengthAdjust=\"spacingAndGlyphs\" textLength=\"24\" x=\"160\" y=\"624.6074\">a: A</text><line style=\"stroke: #383838; stroke-width: 1.5;\" x1=\"152\" x2=\"192\" y1=\"632.4375\" y2=\"632.4375\"/></a><!--MD5=[96f4274e9e20536e775497830990834d]\n",
       "class E10--><a href=\"psysml:8c4f99f3-2675-4f4d-a756-da09d407570d\" target=\"_top\" title=\"psysml:8c4f99f3-2675-4f4d-a756-da09d407570d\" xlink:actuate=\"onRequest\" xlink:href=\"psysml:8c4f99f3-2675-4f4d-a756-da09d407570d\" xlink:show=\"new\" xlink:title=\"psysml:8c4f99f3-2675-4f4d-a756-da09d407570d\" xlink:type=\"simple\"><rect fill=\"#FFFFFF\" height=\"75.5469\" id=\"E10\" style=\"stroke: #383838; stroke-width: 1.5;\" width=\"84\" x=\"32\" y=\"41\"/><text fill=\"#000000\" font-family=\"sans-serif\" font-size=\"12\" font-style=\"italic\" lengthAdjust=\"spacingAndGlyphs\" textLength=\"64\" x=\"42\" y=\"57.1387\">«port def»</text><text fill=\"#000000\" font-family=\"sans-serif\" font-size=\"12\" lengthAdjust=\"spacingAndGlyphs\" textLength=\"8\" x=\"70\" y=\"71.1074\">C</text><line style=\"stroke: #383838; stroke-width: 1.5;\" x1=\"33\" x2=\"115\" y1=\"78.9375\" y2=\"78.9375\"/><text fill=\"#000000\" font-family=\"sans-serif\" font-size=\"11\" lengthAdjust=\"spacingAndGlyphs\" textLength=\"37\" x=\"38\" y=\"109.9526\">y: A, B</text><text fill=\"#000000\" font-family=\"sans-serif\" font-size=\"11\" font-weight=\"bold\" lengthAdjust=\"spacingAndGlyphs\" textLength=\"15\" x=\"79\" y=\"109.9526\">as</text><text fill=\"#000000\" font-family=\"sans-serif\" font-size=\"11\" lengthAdjust=\"spacingAndGlyphs\" textLength=\"12\" x=\"98\" y=\"109.9526\">z2</text><line style=\"stroke: #383838; stroke-width: 1.0;\" x1=\"33\" x2=\"43\" y1=\"93.3398\" y2=\"93.3398\"/><text fill=\"#000000\" font-family=\"sans-serif\" font-size=\"11\" lengthAdjust=\"spacingAndGlyphs\" textLength=\"62\" x=\"43\" y=\"96.6479\">references</text><line style=\"stroke: #383838; stroke-width: 1.0;\" x1=\"105\" x2=\"115\" y1=\"93.3398\" y2=\"93.3398\"/></a><a href=\"psysml:8a2f941b-3a97-4b54-9145-5eb7e96c5b49\" target=\"_top\" title=\"psysml:8a2f941b-3a97-4b54-9145-5eb7e96c5b49\" xlink:actuate=\"onRequest\" xlink:href=\"psysml:8a2f941b-3a97-4b54-9145-5eb7e96c5b49\" xlink:show=\"new\" xlink:title=\"psysml:8a2f941b-3a97-4b54-9145-5eb7e96c5b49\" xlink:type=\"simple\"><polygon fill=\"#FFFFFF\" points=\"86,591,102,591,109,613.2969,116,613.2969,116,643.5938,86,643.5938,86,591\" style=\"stroke: #000000; stroke-width: 1.5;\"/><line style=\"stroke: #000000; stroke-width: 1.5;\" x1=\"86\" x2=\"109\" y1=\"613.2969\" y2=\"613.2969\"/><text fill=\"#000000\" font-family=\"sans-serif\" font-size=\"14\" font-weight=\"bold\" lengthAdjust=\"spacingAndGlyphs\" textLength=\"10\" x=\"90\" y=\"605.9951\">P</text></a><!--MD5=[2720a5a1f2c3fca2055b230370638851]\n",
       "link E2 to E3--><a href=\"psysml:f1219804-170d-45ce-a1b2-74df9d2ed655\" target=\"_top\" title=\"psysml:f1219804-170d-45ce-a1b2-74df9d2ed655\" xlink:actuate=\"onRequest\" xlink:href=\"psysml:f1219804-170d-45ce-a1b2-74df9d2ed655\" xlink:show=\"new\" xlink:title=\"psysml:f1219804-170d-45ce-a1b2-74df9d2ed655\" xlink:type=\"simple\"><path d=\"M168.9,102.28 C166.28,121.12 162.41,148.97 158.94,173.94 \" fill=\"none\" id=\"E2-&gt;E3\" style=\"stroke: #383838; stroke-width: 1.0;\"/><polygon fill=\"#FFFFFF\" points=\"156.15,193.98,151.8354,174.1966,165.7018,176.1261,156.15,193.98\" style=\"stroke: #383838; stroke-width: 1.0;\"/><ellipse cx=\"154.6019\" cy=\"168.8266\" fill=\"#383838\" rx=\"2\" ry=\"2\" style=\"stroke: #383838; stroke-width: 1.0;\"/><ellipse cx=\"164.5065\" cy=\"170.2048\" fill=\"#383838\" rx=\"2\" ry=\"2\" style=\"stroke: #383838; stroke-width: 1.0;\"/></a><!--MD5=[4672eba38e49728da53d11aeb285b987]\n",
       "reverse link E3 to E4--><a href=\"psysml:ebd0a90b-6b0b-4fe7-b689-bf63abb6537b\" target=\"_top\" title=\"psysml:ebd0a90b-6b0b-4fe7-b689-bf63abb6537b\" xlink:actuate=\"onRequest\" xlink:href=\"psysml:ebd0a90b-6b0b-4fe7-b689-bf63abb6537b\" xlink:show=\"new\" xlink:title=\"psysml:ebd0a90b-6b0b-4fe7-b689-bf63abb6537b\" xlink:type=\"simple\"><path d=\"M142.17,283.02 C138.31,304.93 133.97,329.52 130.92,346.77 \" fill=\"none\" id=\"E3&lt;-E4\" style=\"stroke: #383838; stroke-width: 1.0;\"/><polygon fill=\"#383838\" points=\"144.44,270.16,139.4532,275.3688,142.3433,281.9754,147.3301,276.7666,144.44,270.16\" style=\"stroke: #383838; stroke-width: 1.0;\"/></a><!--MD5=[79568f1e445c3877b6a54524624ccc7d]\n",
       "link E4 to E6--><a href=\"psysml:0b7e6d0b-da90-43fd-82ff-3f36fc5229c0\" target=\"_top\" title=\"psysml:0b7e6d0b-da90-43fd-82ff-3f36fc5229c0\" xlink:actuate=\"onRequest\" xlink:href=\"psysml:0b7e6d0b-da90-43fd-82ff-3f36fc5229c0\" xlink:show=\"new\" xlink:title=\"psysml:0b7e6d0b-da90-43fd-82ff-3f36fc5229c0\" xlink:type=\"simple\"><path d=\"M123.88,393.01 C122.25,404.51 120.18,419.17 118.13,433.62 \" fill=\"none\" id=\"E4-&gt;E6\" style=\"stroke: #383838; stroke-width: 1.0;\"/><polygon fill=\"#FFFFFF\" points=\"115.3,453.57,111.0294,433.777,124.8914,435.7373,115.3,453.57\" style=\"stroke: #383838; stroke-width: 1.0;\"/><ellipse cx=\"113.8078\" cy=\"428.4132\" fill=\"#383838\" rx=\"2\" ry=\"2\" style=\"stroke: #383838; stroke-width: 1.0;\"/><ellipse cx=\"123.7093\" cy=\"429.8134\" fill=\"#383838\" rx=\"2\" ry=\"2\" style=\"stroke: #383838; stroke-width: 1.0;\"/></a><!--MD5=[3f50a3473f1dfb74d3f76443e03635af]\n",
       "reverse link E6 to E7--><a href=\"psysml:8a2f941b-3a97-4b54-9145-5eb7e96c5b49\" target=\"_top\" title=\"psysml:8a2f941b-3a97-4b54-9145-5eb7e96c5b49\" xlink:actuate=\"onRequest\" xlink:href=\"psysml:8a2f941b-3a97-4b54-9145-5eb7e96c5b49\" xlink:show=\"new\" xlink:title=\"psysml:8a2f941b-3a97-4b54-9145-5eb7e96c5b49\" xlink:type=\"simple\"><path d=\"M106.18,545.35 C105.04,561.08 103.83,577.65 102.87,590.83 \" fill=\"none\" id=\"E6&lt;-E7\" style=\"stroke: #383838; stroke-width: 1.0;\"/><ellipse cx=\"106.7138\" cy=\"538.0285\" fill=\"#FFFFFF\" rx=\"8\" ry=\"8\" style=\"stroke: #383838; stroke-width: 1.0;\"/><line style=\"stroke: #383838; stroke-width: 1.0;\" x1=\"106.1276\" x2=\"107.3\" y1=\"546.007\" y2=\"530.05\"/><line style=\"stroke: #383838; stroke-width: 1.0;\" x1=\"98.7353\" x2=\"114.6923\" y1=\"537.4423\" y2=\"538.6147\"/></a><!--MD5=[95fa686b5a16158bcdbcaeead89f639b]\n",
       "link E8 to E3--><a href=\"psysml:edfb0c1d-eeea-43d5-bece-b0bce4203cff\" target=\"_top\" title=\"psysml:edfb0c1d-eeea-43d5-bece-b0bce4203cff\" xlink:actuate=\"onRequest\" xlink:href=\"psysml:edfb0c1d-eeea-43d5-bece-b0bce4203cff\" xlink:show=\"new\" xlink:title=\"psysml:edfb0c1d-eeea-43d5-bece-b0bce4203cff\" xlink:type=\"simple\"><path d=\"M172.32,594.45 C172.8,548.41 173.03,438.69 166,347 C164.57,328.37 162.18,308.13 159.73,289.94 \" fill=\"none\" id=\"E8-&gt;E3\" style=\"stroke: #383838; stroke-width: 1.0;\"/><polygon fill=\"#FFFFFF\" points=\"156.92,270.12,166.5114,287.9527,152.6494,289.913,156.92,270.12\" style=\"stroke: #383838; stroke-width: 1.0;\"/><ellipse cx=\"165.3293\" cy=\"293.8766\" fill=\"#383838\" rx=\"2\" ry=\"2\" style=\"stroke: #383838; stroke-width: 1.0;\"/><ellipse cx=\"155.4278\" cy=\"295.2768\" fill=\"#383838\" rx=\"2\" ry=\"2\" style=\"stroke: #383838; stroke-width: 1.0;\"/></a><!--MD5=[f4cf0736d43fd73c4ef68817c49d37d5]\n",
       "reverse link E6 to E8--><a href=\"psysml:4e9eccbd-3da0-4f6c-a773-1d808904fdc5\" target=\"_top\" title=\"psysml:4e9eccbd-3da0-4f6c-a773-1d808904fdc5\" xlink:actuate=\"onRequest\" xlink:href=\"psysml:4e9eccbd-3da0-4f6c-a773-1d808904fdc5\" xlink:show=\"new\" xlink:title=\"psysml:4e9eccbd-3da0-4f6c-a773-1d808904fdc5\" xlink:type=\"simple\"><path d=\"M134.44,541.68 C143.55,559.83 153.45,579.55 160.8,594.19 \" fill=\"none\" id=\"E6&lt;-E8\" style=\"stroke: #383838; stroke-width: 1.0;\"/><polygon fill=\"#383838\" points=\"128.6,530.05,127.7161,537.2067,133.9824,540.7752,134.8663,533.6185,128.6,530.05\" style=\"stroke: #383838; stroke-width: 1.0;\"/></a><!--MD5=[8e04057e7b3cbc0dca4fc78ea351e2da]\n",
       "reverse link E10 to E3--><a href=\"psysml:800170d4-464e-4c2e-99b4-fb1d2de59c3f\" target=\"_top\" title=\"psysml:800170d4-464e-4c2e-99b4-fb1d2de59c3f\" xlink:actuate=\"onRequest\" xlink:href=\"psysml:800170d4-464e-4c2e-99b4-fb1d2de59c3f\" xlink:show=\"new\" xlink:title=\"psysml:800170d4-464e-4c2e-99b4-fb1d2de59c3f\" xlink:type=\"simple\"><path d=\"M98.98,128.98 C109.72,150.06 122.08,174.29 132.05,193.84 \" fill=\"none\" id=\"E10&lt;-E3\" style=\"stroke: #383838; stroke-width: 1.0;\"/><polygon fill=\"#FFFFFF\" points=\"93.03,117.33,92.1919,124.4922,98.4809,128.0206,99.319,120.8583,93.03,117.33\" style=\"stroke: #383838; stroke-width: 1.0;\"/><text fill=\"#000000\" font-family=\"sans-serif\" font-size=\"13\" lengthAdjust=\"spacingAndGlyphs\" textLength=\"7\" x=\"115\" y=\"160.0669\">y</text></a><!--MD5=[604cbf994c02b74b117f728a71673cea]\n",
       "reverse link E10 to E6--><a href=\"psysml:800170d4-464e-4c2e-99b4-fb1d2de59c3f\" target=\"_top\" title=\"psysml:800170d4-464e-4c2e-99b4-fb1d2de59c3f\" xlink:actuate=\"onRequest\" xlink:href=\"psysml:800170d4-464e-4c2e-99b4-fb1d2de59c3f\" xlink:show=\"new\" xlink:title=\"psysml:800170d4-464e-4c2e-99b4-fb1d2de59c3f\" xlink:type=\"simple\"><path d=\"M73.89,130.53 C74.34,192.6 77.02,300.97 89,393 C91.63,413.19 96.24,435.39 100.47,453.55 \" fill=\"none\" id=\"E10&lt;-E6\" style=\"stroke: #383838; stroke-width: 1.0;\"/><polygon fill=\"#FFFFFF\" points=\"73.83,117.27,69.863,123.2919,73.8959,129.2698,77.8629,123.2479,73.83,117.27\" style=\"stroke: #383838; stroke-width: 1.0;\"/><text fill=\"#000000\" font-family=\"sans-serif\" font-size=\"13\" lengthAdjust=\"spacingAndGlyphs\" textLength=\"7\" x=\"82\" y=\"313.0669\">y</text></a><!--MD5=[c6986d8dd217a34716d192184e1f3bce]\n",
       "@startuml\r\n",
       "skinparam monochrome true\r\n",
       "skinparam classbackgroundcolor white\r\n",
       "skinparam shadowing false\r\n",
       "skinparam wrapWidth 300\r\n",
       "hide circle\r\n",
       "\r\n",
       "package \"BlockTest\" as E1  [[psysml:1f80f8be-3c31-4480-9ece-24461005c64a ]]  {\r\n",
       "comp usage \"f: A\" as E2  <<(T,blue)part>> [[psysml:77ca47e2-95bd-4f5e-baaf-35974d96745c ]] {\r\n",
       "}\r\n",
       "comp def \"A\" as E3  <<(T,blue)part def>> [[psysml:feda5581-6f8c-419d-8ba7-a8a04be8503b ]] {\r\n",
       "- - ports - -\r\n",
       "c: C\r\n",
       "}\r\n",
       "comp usage \"b: B\" as E4  <<(T,blue)part>> [[psysml:ebd0a90b-6b0b-4fe7-b689-bf63abb6537b ]] {\r\n",
       "}\r\n",
       "comp def \"B\" as E6  <<(T,blue)part def>> [[psysml:7287ae62-763a-4b84-8405-f658443750c5 ]] {\r\n",
       "- - ports - -\r\n",
       "x: ~C\r\n",
       "}\r\n",
       "package \"P\" as E7  [[psysml:8a2f941b-3a97-4b54-9145-5eb7e96c5b49 ]]  {\r\n",
       "}\r\n",
       "comp usage \"a: A\" as E8  <<(T,blue)part>> [[psysml:4e9eccbd-3da0-4f6c-a773-1d808904fdc5 ]] {\r\n",
       "}\r\n",
       "comp def \"C\" as E10  <<(T,blue)port def>> [[psysml:8c4f99f3-2675-4f4d-a756-da09d407570d ]] {\r\n",
       "- - references - -\r\n",
       "y: A, B <b>as</b> z2 \r\n",
       "}\r\n",
       "E2 - -:|> E3 [[psysml:f1219804-170d-45ce-a1b2-74df9d2ed655 ]] \r\n",
       "E3 *- - E4 [[psysml:ebd0a90b-6b0b-4fe7-b689-bf63abb6537b ]] \r\n",
       "E4 - -:|> E6 [[psysml:0b7e6d0b-da90-43fd-82ff-3f36fc5229c0 ]] \r\n",
       "E6 +- - E7 [[psysml:8a2f941b-3a97-4b54-9145-5eb7e96c5b49 ]] \r\n",
       "E8 - -:|> E3 [[psysml:edfb0c1d-eeea-43d5-bece-b0bce4203cff ]] \r\n",
       "E6 *- - E8 [[psysml:4e9eccbd-3da0-4f6c-a773-1d808904fdc5 ]] \r\n",
       "E10 o- - E3 [[psysml:800170d4-464e-4c2e-99b4-fb1d2de59c3f ]] : y\r\n",
       "E10 o- - E6 [[psysml:800170d4-464e-4c2e-99b4-fb1d2de59c3f ]] : y\r\n",
       "}\r\n",
       "@enduml\r\n",
       "\n",
       "PlantUML version 1.2020.13(Sat Jun 13 12:26:38 UTC 2020)\n",
       "(EPL source distribution)\n",
       "Java Runtime: OpenJDK Runtime Environment\n",
       "JVM: OpenJDK 64-Bit Server VM\n",
       "Default Encoding: UTF-8\n",
       "Language: en\n",
       "Country: null\n",
       "--></g></svg>"
      ]
     },
     "execution_count": 38,
     "metadata": {},
     "output_type": "execute_result"
    }
   ],
   "source": [
    "%viz --style=\"DEFAULT\" --view=\"Tree\" \"BlockTest\""
   ]
  },
  {
   "cell_type": "code",
   "execution_count": 39,
   "id": "formal-receptor",
   "metadata": {
    "execution": {
     "iopub.execute_input": "2021-03-26T12:07:40.466518Z",
     "iopub.status.busy": "2021-03-26T12:07:40.465695Z",
     "iopub.status.idle": "2021-03-26T12:07:40.471858Z",
     "shell.execute_reply": "2021-03-26T12:07:40.471160Z"
    }
   },
   "outputs": [
    {
     "data": {
      "image/svg+xml": [
       "<?xml version=\"1.0\" encoding=\"UTF-8\" standalone=\"no\"?><svg xmlns=\"http://www.w3.org/2000/svg\" xmlns:xlink=\"http://www.w3.org/1999/xlink\" contentScriptType=\"application/ecmascript\" contentStyleType=\"text/css\" height=\"12px\" preserveAspectRatio=\"none\" style=\"width:12px;height:12px;\" version=\"1.1\" viewBox=\"0 0 12 12\" width=\"12px\" zoomAndPan=\"magnify\"><defs/><g><!--MD5=[c5f280e076d0d61ccf4b0f27871bda1d]\n",
       "@startuml\r\n",
       "skinparam monochrome true\r\n",
       "skinparam classbackgroundcolor white\r\n",
       "skinparam shadowing false\r\n",
       "skinparam wrapWidth 300\r\n",
       "hide circle\r\n",
       "\r\n",
       "@enduml\r\n",
       "\n",
       "PlantUML version 1.2020.13(Sat Jun 13 12:26:38 UTC 2020)\n",
       "(EPL source distribution)\n",
       "Java Runtime: OpenJDK Runtime Environment\n",
       "JVM: OpenJDK 64-Bit Server VM\n",
       "Default Encoding: UTF-8\n",
       "Language: en\n",
       "Country: null\n",
       "--></g></svg>"
      ]
     },
     "execution_count": 39,
     "metadata": {},
     "output_type": "execute_result"
    }
   ],
   "source": [
    "%viz --style=\"DEFAULT\" --view=\"State\" \"BlockTest\""
   ]
  },
  {
   "cell_type": "code",
   "execution_count": 40,
   "id": "superb-delaware",
   "metadata": {
    "execution": {
     "iopub.execute_input": "2021-03-26T12:07:40.523972Z",
     "iopub.status.busy": "2021-03-26T12:07:40.523052Z",
     "iopub.status.idle": "2021-03-26T12:07:40.556383Z",
     "shell.execute_reply": "2021-03-26T12:07:40.555198Z"
    }
   },
   "outputs": [
    {
     "data": {
      "image/svg+xml": [
       "<?xml version=\"1.0\" encoding=\"UTF-8\" standalone=\"no\"?><svg xmlns=\"http://www.w3.org/2000/svg\" xmlns:xlink=\"http://www.w3.org/1999/xlink\" contentScriptType=\"application/ecmascript\" contentStyleType=\"text/css\" height=\"245px\" preserveAspectRatio=\"none\" style=\"width:548px;height:245px;\" version=\"1.1\" viewBox=\"0 0 548 245\" width=\"548px\" zoomAndPan=\"magnify\"><defs/><g><!--MD5=[fbc87193dbaf4d95561dea2c320d4a47]\n",
       "cluster E1--><a href=\"psysml:1f80f8be-3c31-4480-9ece-24461005c64a\" target=\"_top\" title=\"psysml:1f80f8be-3c31-4480-9ece-24461005c64a\" xlink:actuate=\"onRequest\" xlink:href=\"psysml:1f80f8be-3c31-4480-9ece-24461005c64a\" xlink:show=\"new\" xlink:title=\"psysml:1f80f8be-3c31-4480-9ece-24461005c64a\" xlink:type=\"simple\"><polygon fill=\"#FFFFFF\" points=\"16,6,99,6,106,28.2969,526,28.2969,526,233,16,233,16,6\" style=\"stroke: #000000; stroke-width: 1.5;\"/><line style=\"stroke: #000000; stroke-width: 1.5;\" x1=\"16\" x2=\"106\" y1=\"28.2969\" y2=\"28.2969\"/><text fill=\"#000000\" font-family=\"sans-serif\" font-size=\"14\" font-weight=\"bold\" lengthAdjust=\"spacingAndGlyphs\" textLength=\"77\" x=\"20\" y=\"20.9951\">BlockTest</text></a><!--MD5=[d5e69f78d87373223dbae638b30a9c99]\n",
       "cluster E3--><a href=\"psysml:feda5581-6f8c-419d-8ba7-a8a04be8503b\" target=\"_top\" title=\"psysml:feda5581-6f8c-419d-8ba7-a8a04be8503b\" xlink:actuate=\"onRequest\" xlink:href=\"psysml:feda5581-6f8c-419d-8ba7-a8a04be8503b\" xlink:show=\"new\" xlink:title=\"psysml:feda5581-6f8c-419d-8ba7-a8a04be8503b\" xlink:type=\"simple\"><rect fill=\"#FFFFFF\" height=\"154.5\" id=\"E3\" style=\"stroke: #383838; stroke-width: 1.5;\" width=\"120\" x=\"390\" y=\"62.5\"/><rect fill=\"#F8F8F8\" height=\"37.9375\" style=\"stroke: #383838; stroke-width: 1.5;\" width=\"120\" x=\"390\" y=\"62.5\"/><text fill=\"#000000\" font-family=\"sans-serif\" font-size=\"12\" font-style=\"italic\" lengthAdjust=\"spacingAndGlyphs\" textLength=\"64\" x=\"418\" y=\"78.6387\">«part def»</text><text fill=\"#000000\" font-family=\"sans-serif\" font-size=\"12\" lengthAdjust=\"spacingAndGlyphs\" textLength=\"8\" x=\"446\" y=\"92.6074\">A</text></a><!--MD5=[14e3b0961a2654348d326746436168a1]\n",
       "cluster E6--><a href=\"psysml:7287ae62-763a-4b84-8405-f658443750c5\" target=\"_top\" title=\"psysml:7287ae62-763a-4b84-8405-f658443750c5\" xlink:actuate=\"onRequest\" xlink:href=\"psysml:7287ae62-763a-4b84-8405-f658443750c5\" xlink:show=\"new\" xlink:title=\"psysml:7287ae62-763a-4b84-8405-f658443750c5\" xlink:type=\"simple\"><rect fill=\"#FFFFFF\" height=\"154.5\" id=\"E6\" style=\"stroke: #383838; stroke-width: 1.5;\" width=\"185\" x=\"197\" y=\"62.5\"/><rect fill=\"#F8F8F8\" height=\"37.9375\" style=\"stroke: #383838; stroke-width: 1.5;\" width=\"185\" x=\"197\" y=\"62.5\"/><text fill=\"#000000\" font-family=\"sans-serif\" font-size=\"12\" font-style=\"italic\" lengthAdjust=\"spacingAndGlyphs\" textLength=\"64\" x=\"257.5\" y=\"78.6387\">«part def»</text><text fill=\"#000000\" font-family=\"sans-serif\" font-size=\"12\" lengthAdjust=\"spacingAndGlyphs\" textLength=\"8\" x=\"285.5\" y=\"92.6074\">B</text></a><g id=\"E1.E10\"><a href=\"psysml:8c4f99f3-2675-4f4d-a756-da09d407570d\" target=\"_top\" title=\"psysml:8c4f99f3-2675-4f4d-a756-da09d407570d\" xlink:actuate=\"onRequest\" xlink:href=\"psysml:8c4f99f3-2675-4f4d-a756-da09d407570d\" xlink:show=\"new\" xlink:title=\"psysml:8c4f99f3-2675-4f4d-a756-da09d407570d\" xlink:type=\"simple\"><rect fill=\"#FFFFFF\" height=\"42.9375\" id=\"E10\" style=\"stroke: #383838; stroke-width: 1.5;\" width=\"71\" x=\"117.5\" y=\"41\"/><rect fill=\"#F8F8F8\" height=\"37.9375\" style=\"stroke: #383838; stroke-width: 1.5;\" width=\"71\" x=\"117.5\" y=\"41\"/><text fill=\"#000000\" font-family=\"sans-serif\" font-size=\"12\" font-style=\"italic\" lengthAdjust=\"spacingAndGlyphs\" textLength=\"64\" x=\"121\" y=\"57.1387\">«port def»</text><text fill=\"#000000\" font-family=\"sans-serif\" font-size=\"12\" lengthAdjust=\"spacingAndGlyphs\" textLength=\"8\" x=\"149\" y=\"71.1074\">C</text></a></g><g id=\"E1.E2\"><a href=\"psysml:77ca47e2-95bd-4f5e-baaf-35974d96745c\" target=\"_top\" title=\"psysml:77ca47e2-95bd-4f5e-baaf-35974d96745c\" xlink:actuate=\"onRequest\" xlink:href=\"psysml:77ca47e2-95bd-4f5e-baaf-35974d96745c\" xlink:show=\"new\" xlink:title=\"psysml:77ca47e2-95bd-4f5e-baaf-35974d96745c\" xlink:type=\"simple\"><rect fill=\"#FFFFFF\" height=\"40\" id=\"E2\" rx=\"10\" ry=\"10\" style=\"stroke: #383838; stroke-width: 1.5;\" width=\"50\" x=\"32\" y=\"42.5\"/><rect fill=\"#F8F8F8\" height=\"23.9688\" rx=\"10\" ry=\"10\" style=\"stroke: #F8F8F8; stroke-width: 1.5;\" width=\"50\" x=\"32\" y=\"42.5\"/><rect fill=\"#F8F8F8\" height=\"10\" style=\"stroke: #F8F8F8; stroke-width: 1.5;\" width=\"50\" x=\"32\" y=\"56.4688\"/><rect fill=\"none\" height=\"40\" id=\"E2\" rx=\"10\" ry=\"10\" style=\"stroke: #383838; stroke-width: 1.5;\" width=\"50\" x=\"32\" y=\"42.5\"/><text fill=\"#000000\" font-family=\"sans-serif\" font-size=\"12\" lengthAdjust=\"spacingAndGlyphs\" textLength=\"20\" x=\"47\" y=\"58.6387\">f: A</text></a></g><text fill=\"#000000\" font-family=\"sans-serif\" font-size=\"14\" lengthAdjust=\"spacingAndGlyphs\" textLength=\"27\" x=\"436.5\" y=\"41.1982\">c: C</text><rect fill=\"#383838\" height=\"12\" style=\"stroke: #F8F8F8; stroke-width: 1.5;\" width=\"12\" x=\"444\" y=\"56.5\"/><g id=\"E1.E3.E4\"><a href=\"psysml:ebd0a90b-6b0b-4fe7-b689-bf63abb6537b\" target=\"_top\" title=\"psysml:ebd0a90b-6b0b-4fe7-b689-bf63abb6537b\" xlink:actuate=\"onRequest\" xlink:href=\"psysml:ebd0a90b-6b0b-4fe7-b689-bf63abb6537b\" xlink:show=\"new\" xlink:title=\"psysml:ebd0a90b-6b0b-4fe7-b689-bf63abb6537b\" xlink:type=\"simple\"><rect fill=\"#FFFFFF\" height=\"40\" id=\"E4\" rx=\"10\" ry=\"10\" style=\"stroke: #383838; stroke-width: 1.5;\" width=\"50\" x=\"425\" y=\"161\"/><rect fill=\"#F8F8F8\" height=\"23.9688\" rx=\"10\" ry=\"10\" style=\"stroke: #F8F8F8; stroke-width: 1.5;\" width=\"50\" x=\"425\" y=\"161\"/><rect fill=\"#F8F8F8\" height=\"10\" style=\"stroke: #F8F8F8; stroke-width: 1.5;\" width=\"50\" x=\"425\" y=\"174.9688\"/><rect fill=\"none\" height=\"40\" id=\"E4\" rx=\"10\" ry=\"10\" style=\"stroke: #383838; stroke-width: 1.5;\" width=\"50\" x=\"425\" y=\"161\"/><text fill=\"#000000\" font-family=\"sans-serif\" font-size=\"12\" lengthAdjust=\"spacingAndGlyphs\" textLength=\"24\" x=\"438\" y=\"177.1387\">b: B</text></a></g><text fill=\"#000000\" font-family=\"sans-serif\" font-size=\"14\" lengthAdjust=\"spacingAndGlyphs\" textLength=\"38\" x=\"303\" y=\"41.1982\">x: ~C</text><rect fill=\"#383838\" height=\"12\" style=\"stroke: #F8F8F8; stroke-width: 1.5;\" width=\"12\" x=\"316\" y=\"56.5\"/><a href=\"psysml:8a2f941b-3a97-4b54-9145-5eb7e96c5b49\" target=\"_top\" title=\"psysml:8a2f941b-3a97-4b54-9145-5eb7e96c5b49\" xlink:actuate=\"onRequest\" xlink:href=\"psysml:8a2f941b-3a97-4b54-9145-5eb7e96c5b49\" xlink:show=\"new\" xlink:title=\"psysml:8a2f941b-3a97-4b54-9145-5eb7e96c5b49\" xlink:type=\"simple\"><polygon fill=\"#FFFFFF\" points=\"213,100,229,100,236,122.2969,243,122.2969,243,152.5938,213,152.5938,213,100\" style=\"stroke: #000000; stroke-width: 1.5;\"/><line style=\"stroke: #000000; stroke-width: 1.5;\" x1=\"213\" x2=\"236\" y1=\"122.2969\" y2=\"122.2969\"/><text fill=\"#000000\" font-family=\"sans-serif\" font-size=\"14\" font-weight=\"bold\" lengthAdjust=\"spacingAndGlyphs\" textLength=\"10\" x=\"217\" y=\"114.9951\">P</text></a><g id=\"E1.E6.E8\"><a href=\"psysml:4e9eccbd-3da0-4f6c-a773-1d808904fdc5\" target=\"_top\" title=\"psysml:4e9eccbd-3da0-4f6c-a773-1d808904fdc5\" xlink:actuate=\"onRequest\" xlink:href=\"psysml:4e9eccbd-3da0-4f6c-a773-1d808904fdc5\" xlink:show=\"new\" xlink:title=\"psysml:4e9eccbd-3da0-4f6c-a773-1d808904fdc5\" xlink:type=\"simple\"><rect fill=\"#FFFFFF\" height=\"40\" id=\"E8\" rx=\"10\" ry=\"10\" style=\"stroke: #383838; stroke-width: 1.5;\" width=\"50\" x=\"297\" y=\"161\"/><rect fill=\"#F8F8F8\" height=\"23.9688\" rx=\"10\" ry=\"10\" style=\"stroke: #F8F8F8; stroke-width: 1.5;\" width=\"50\" x=\"297\" y=\"161\"/><rect fill=\"#F8F8F8\" height=\"10\" style=\"stroke: #F8F8F8; stroke-width: 1.5;\" width=\"50\" x=\"297\" y=\"174.9688\"/><rect fill=\"none\" height=\"40\" id=\"E8\" rx=\"10\" ry=\"10\" style=\"stroke: #383838; stroke-width: 1.5;\" width=\"50\" x=\"297\" y=\"161\"/><text fill=\"#000000\" font-family=\"sans-serif\" font-size=\"12\" lengthAdjust=\"spacingAndGlyphs\" textLength=\"24\" x=\"310\" y=\"177.1387\">a: A</text></a></g><!--MD5=[b01f33684bc37b7767cbda66b1efe1fa]\n",
       "@startuml\r\n",
       "skinparam ranksep 8\r\n",
       "skinparam rectangle {\r\n",
       " backgroundColor<<block>> LightGreen\r\n",
       "}\r\n",
       "skinparam monochrome true\r\n",
       "skinparam classbackgroundcolor white\r\n",
       "skinparam shadowing false\r\n",
       "skinparam wrapWidth 300\r\n",
       "hide circle\r\n",
       "\r\n",
       "package \"BlockTest\" as E1  [[psysml:1f80f8be-3c31-4480-9ece-24461005c64a ]]  {\r\n",
       "rec usage \"f: A\" as E2  [[psysml:77ca47e2-95bd-4f5e-baaf-35974d96745c ]] {\r\n",
       "}\r\n",
       "rec def \"A\" as E3  <<(T,blue)part def>> [[psysml:feda5581-6f8c-419d-8ba7-a8a04be8503b ]] {\r\n",
       "rec usage \"b: B\" as E4  [[psysml:ebd0a90b-6b0b-4fe7-b689-bf63abb6537b ]] {\r\n",
       "}\r\n",
       "portin \"c: C\" as E5  <<(T,blue)port>> [[psysml:32f6582c-cfe7-4be0-a097-86306546e345 ]] \r\n",
       "}\r\n",
       "rec def \"B\" as E6  <<(T,blue)part def>> [[psysml:7287ae62-763a-4b84-8405-f658443750c5 ]] {\r\n",
       "package \"P\" as E7  [[psysml:8a2f941b-3a97-4b54-9145-5eb7e96c5b49 ]]  {\r\n",
       "}\r\n",
       "rec usage \"a: A\" as E8  [[psysml:4e9eccbd-3da0-4f6c-a773-1d808904fdc5 ]] {\r\n",
       "}\r\n",
       "portin \"x: ~C\" as E9  <<(T,blue)port>> [[psysml:8030edf4-ee82-408b-9211-cce203dbe0d1 ]] \r\n",
       "}\r\n",
       "def \"C\" as E10  <<(T,blue)port def>> [[psysml:8c4f99f3-2675-4f4d-a756-da09d407570d ]] \r\n",
       "}\r\n",
       "@enduml\r\n",
       "\n",
       "PlantUML version 1.2020.13(Sat Jun 13 12:26:38 UTC 2020)\n",
       "(EPL source distribution)\n",
       "Java Runtime: OpenJDK Runtime Environment\n",
       "JVM: OpenJDK 64-Bit Server VM\n",
       "Default Encoding: UTF-8\n",
       "Language: en\n",
       "Country: null\n",
       "--></g></svg>"
      ]
     },
     "execution_count": 40,
     "metadata": {},
     "output_type": "execute_result"
    }
   ],
   "source": [
    "%viz --style=\"DEFAULT\" --view=\"Interconnection\" \"BlockTest\""
   ]
  },
  {
   "cell_type": "code",
   "execution_count": 41,
   "id": "nominated-movie",
   "metadata": {
    "execution": {
     "iopub.execute_input": "2021-03-26T12:07:40.608109Z",
     "iopub.status.busy": "2021-03-26T12:07:40.607533Z",
     "iopub.status.idle": "2021-03-26T12:07:40.614539Z",
     "shell.execute_reply": "2021-03-26T12:07:40.614205Z"
    }
   },
   "outputs": [
    {
     "data": {
      "image/svg+xml": [
       "<?xml version=\"1.0\" encoding=\"UTF-8\" standalone=\"no\"?><svg xmlns=\"http://www.w3.org/2000/svg\" xmlns:xlink=\"http://www.w3.org/1999/xlink\" contentScriptType=\"application/ecmascript\" contentStyleType=\"text/css\" height=\"12px\" preserveAspectRatio=\"none\" style=\"width:12px;height:12px;\" version=\"1.1\" viewBox=\"0 0 12 12\" width=\"12px\" zoomAndPan=\"magnify\"><defs/><g><!--MD5=[388f21188e31bfdd97050473b19af356]\n",
       "@startuml\r\n",
       "skinparam ranksep 8\r\n",
       "skinparam monochrome true\r\n",
       "skinparam classbackgroundcolor white\r\n",
       "skinparam shadowing false\r\n",
       "skinparam wrapWidth 300\r\n",
       "hide circle\r\n",
       "\r\n",
       "@enduml\r\n",
       "\n",
       "PlantUML version 1.2020.13(Sat Jun 13 12:26:38 UTC 2020)\n",
       "(EPL source distribution)\n",
       "Java Runtime: OpenJDK Runtime Environment\n",
       "JVM: OpenJDK 64-Bit Server VM\n",
       "Default Encoding: UTF-8\n",
       "Language: en\n",
       "Country: null\n",
       "--></g></svg>"
      ]
     },
     "execution_count": 41,
     "metadata": {},
     "output_type": "execute_result"
    }
   ],
   "source": [
    "%viz --style=\"DEFAULT\" --view=\"Action\" \"BlockTest\""
   ]
  },
  {
   "cell_type": "code",
   "execution_count": 42,
   "id": "indonesian-vienna",
   "metadata": {
    "execution": {
     "iopub.execute_input": "2021-03-26T12:07:40.665510Z",
     "iopub.status.busy": "2021-03-26T12:07:40.665012Z",
     "iopub.status.idle": "2021-03-26T12:07:40.723950Z",
     "shell.execute_reply": "2021-03-26T12:07:40.722259Z"
    }
   },
   "outputs": [
    {
     "data": {
      "image/svg+xml": [
       "<?xml version=\"1.0\" encoding=\"UTF-8\" standalone=\"no\"?><svg xmlns=\"http://www.w3.org/2000/svg\" xmlns:xlink=\"http://www.w3.org/1999/xlink\" contentScriptType=\"application/ecmascript\" contentStyleType=\"text/css\" height=\"672px\" preserveAspectRatio=\"none\" style=\"width:231px;height:672px;\" version=\"1.1\" viewBox=\"0 0 231 672\" width=\"231px\" zoomAndPan=\"magnify\"><defs/><g><!--MD5=[fbc87193dbaf4d95561dea2c320d4a47]\n",
       "cluster E1--><a href=\"psysml:1f80f8be-3c31-4480-9ece-24461005c64a\" target=\"_top\" title=\"psysml:1f80f8be-3c31-4480-9ece-24461005c64a\" xlink:actuate=\"onRequest\" xlink:href=\"psysml:1f80f8be-3c31-4480-9ece-24461005c64a\" xlink:show=\"new\" xlink:title=\"psysml:1f80f8be-3c31-4480-9ece-24461005c64a\" xlink:type=\"simple\"><polygon fill=\"#FFFFFF\" points=\"16,6,99,6,106,28.2969,209,28.2969,209,660,16,660,16,6\" style=\"stroke: #000000; stroke-width: 1.5;\"/><line style=\"stroke: #000000; stroke-width: 1.5;\" x1=\"16\" x2=\"106\" y1=\"28.2969\" y2=\"28.2969\"/><text fill=\"#000000\" font-family=\"sans-serif\" font-size=\"14\" font-weight=\"bold\" lengthAdjust=\"spacingAndGlyphs\" textLength=\"77\" x=\"20\" y=\"20.9951\">BlockTest</text></a><!--MD5=[b4997ac47864f28c2f74865a473b2911]\n",
       "class E2--><a href=\"psysml:77ca47e2-95bd-4f5e-baaf-35974d96745c\" target=\"_top\" title=\"psysml:77ca47e2-95bd-4f5e-baaf-35974d96745c\" xlink:actuate=\"onRequest\" xlink:href=\"psysml:77ca47e2-95bd-4f5e-baaf-35974d96745c\" xlink:show=\"new\" xlink:title=\"psysml:77ca47e2-95bd-4f5e-baaf-35974d96745c\" xlink:type=\"simple\"><rect fill=\"#FFFFFF\" height=\"45.9375\" id=\"E2\" rx=\"10\" ry=\"10\" style=\"stroke: #383838; stroke-width: 1.5;\" width=\"42\" x=\"151\" y=\"56\"/><text fill=\"#000000\" font-family=\"sans-serif\" font-size=\"12\" font-style=\"italic\" lengthAdjust=\"spacingAndGlyphs\" textLength=\"40\" x=\"152\" y=\"72.1387\">«part»</text><text fill=\"#000000\" font-family=\"sans-serif\" font-size=\"12\" lengthAdjust=\"spacingAndGlyphs\" textLength=\"20\" x=\"162\" y=\"86.1074\">f: A</text><line style=\"stroke: #383838; stroke-width: 1.5;\" x1=\"152\" x2=\"192\" y1=\"93.9375\" y2=\"93.9375\"/></a><!--MD5=[09b614a08d8cba4a07c9adeb5e0fee81]\n",
       "class E3--><a href=\"psysml:feda5581-6f8c-419d-8ba7-a8a04be8503b\" target=\"_top\" title=\"psysml:feda5581-6f8c-419d-8ba7-a8a04be8503b\" xlink:actuate=\"onRequest\" xlink:href=\"psysml:feda5581-6f8c-419d-8ba7-a8a04be8503b\" xlink:show=\"new\" xlink:title=\"psysml:feda5581-6f8c-419d-8ba7-a8a04be8503b\" xlink:type=\"simple\"><rect fill=\"#FFFFFF\" height=\"75.5469\" id=\"E3\" style=\"stroke: #383838; stroke-width: 1.5;\" width=\"66\" x=\"118\" y=\"194\"/><text fill=\"#000000\" font-family=\"sans-serif\" font-size=\"12\" font-style=\"italic\" lengthAdjust=\"spacingAndGlyphs\" textLength=\"64\" x=\"119\" y=\"210.1387\">«part def»</text><text fill=\"#000000\" font-family=\"sans-serif\" font-size=\"12\" lengthAdjust=\"spacingAndGlyphs\" textLength=\"8\" x=\"147\" y=\"224.1074\">A</text><line style=\"stroke: #383838; stroke-width: 1.5;\" x1=\"119\" x2=\"183\" y1=\"231.9375\" y2=\"231.9375\"/><text fill=\"#000000\" font-family=\"sans-serif\" font-size=\"11\" lengthAdjust=\"spacingAndGlyphs\" textLength=\"22\" x=\"124\" y=\"262.9526\">c: C</text><line style=\"stroke: #383838; stroke-width: 1.0;\" x1=\"119\" x2=\"136\" y1=\"246.3398\" y2=\"246.3398\"/><text fill=\"#000000\" font-family=\"sans-serif\" font-size=\"11\" lengthAdjust=\"spacingAndGlyphs\" textLength=\"30\" x=\"136\" y=\"249.6479\">ports</text><line style=\"stroke: #383838; stroke-width: 1.0;\" x1=\"166\" x2=\"183\" y1=\"246.3398\" y2=\"246.3398\"/></a><!--MD5=[ebbe1d658d1005bcc118a6aa81145e00]\n",
       "class E4--><a href=\"psysml:ebd0a90b-6b0b-4fe7-b689-bf63abb6537b\" target=\"_top\" title=\"psysml:ebd0a90b-6b0b-4fe7-b689-bf63abb6537b\" xlink:actuate=\"onRequest\" xlink:href=\"psysml:ebd0a90b-6b0b-4fe7-b689-bf63abb6537b\" xlink:show=\"new\" xlink:title=\"psysml:ebd0a90b-6b0b-4fe7-b689-bf63abb6537b\" xlink:type=\"simple\"><rect fill=\"#FFFFFF\" height=\"45.9375\" id=\"E4\" rx=\"10\" ry=\"10\" style=\"stroke: #383838; stroke-width: 1.5;\" width=\"42\" x=\"106\" y=\"347\"/><text fill=\"#000000\" font-family=\"sans-serif\" font-size=\"12\" font-style=\"italic\" lengthAdjust=\"spacingAndGlyphs\" textLength=\"40\" x=\"107\" y=\"363.1387\">«part»</text><text fill=\"#000000\" font-family=\"sans-serif\" font-size=\"12\" lengthAdjust=\"spacingAndGlyphs\" textLength=\"24\" x=\"115\" y=\"377.1074\">b: B</text><line style=\"stroke: #383838; stroke-width: 1.5;\" x1=\"107\" x2=\"147\" y1=\"384.9375\" y2=\"384.9375\"/></a><!--MD5=[60a26617385b1d2d0262a64233df1f8d]\n",
       "class E6--><a href=\"psysml:7287ae62-763a-4b84-8405-f658443750c5\" target=\"_top\" title=\"psysml:7287ae62-763a-4b84-8405-f658443750c5\" xlink:actuate=\"onRequest\" xlink:href=\"psysml:7287ae62-763a-4b84-8405-f658443750c5\" xlink:show=\"new\" xlink:title=\"psysml:7287ae62-763a-4b84-8405-f658443750c5\" xlink:type=\"simple\"><rect fill=\"#FFFFFF\" height=\"75.5469\" id=\"E6\" style=\"stroke: #383838; stroke-width: 1.5;\" width=\"66\" x=\"77\" y=\"454\"/><text fill=\"#000000\" font-family=\"sans-serif\" font-size=\"12\" font-style=\"italic\" lengthAdjust=\"spacingAndGlyphs\" textLength=\"64\" x=\"78\" y=\"470.1387\">«part def»</text><text fill=\"#000000\" font-family=\"sans-serif\" font-size=\"12\" lengthAdjust=\"spacingAndGlyphs\" textLength=\"8\" x=\"106\" y=\"484.1074\">B</text><line style=\"stroke: #383838; stroke-width: 1.5;\" x1=\"78\" x2=\"142\" y1=\"491.9375\" y2=\"491.9375\"/><text fill=\"#000000\" font-family=\"sans-serif\" font-size=\"11\" lengthAdjust=\"spacingAndGlyphs\" textLength=\"31\" x=\"83\" y=\"522.9526\">x: ~C</text><line style=\"stroke: #383838; stroke-width: 1.0;\" x1=\"78\" x2=\"95\" y1=\"506.3398\" y2=\"506.3398\"/><text fill=\"#000000\" font-family=\"sans-serif\" font-size=\"11\" lengthAdjust=\"spacingAndGlyphs\" textLength=\"30\" x=\"95\" y=\"509.6479\">ports</text><line style=\"stroke: #383838; stroke-width: 1.0;\" x1=\"125\" x2=\"142\" y1=\"506.3398\" y2=\"506.3398\"/></a><!--MD5=[b9389687b975829384b498ac4b7476b2]\n",
       "class E8--><a href=\"psysml:4e9eccbd-3da0-4f6c-a773-1d808904fdc5\" target=\"_top\" title=\"psysml:4e9eccbd-3da0-4f6c-a773-1d808904fdc5\" xlink:actuate=\"onRequest\" xlink:href=\"psysml:4e9eccbd-3da0-4f6c-a773-1d808904fdc5\" xlink:show=\"new\" xlink:title=\"psysml:4e9eccbd-3da0-4f6c-a773-1d808904fdc5\" xlink:type=\"simple\"><rect fill=\"#FFFFFF\" height=\"45.9375\" id=\"E8\" rx=\"10\" ry=\"10\" style=\"stroke: #383838; stroke-width: 1.5;\" width=\"42\" x=\"151\" y=\"594.5\"/><text fill=\"#000000\" font-family=\"sans-serif\" font-size=\"12\" font-style=\"italic\" lengthAdjust=\"spacingAndGlyphs\" textLength=\"40\" x=\"152\" y=\"610.6387\">«part»</text><text fill=\"#000000\" font-family=\"sans-serif\" font-size=\"12\" lengthAdjust=\"spacingAndGlyphs\" textLength=\"24\" x=\"160\" y=\"624.6074\">a: A</text><line style=\"stroke: #383838; stroke-width: 1.5;\" x1=\"152\" x2=\"192\" y1=\"632.4375\" y2=\"632.4375\"/></a><!--MD5=[96f4274e9e20536e775497830990834d]\n",
       "class E10--><a href=\"psysml:8c4f99f3-2675-4f4d-a756-da09d407570d\" target=\"_top\" title=\"psysml:8c4f99f3-2675-4f4d-a756-da09d407570d\" xlink:actuate=\"onRequest\" xlink:href=\"psysml:8c4f99f3-2675-4f4d-a756-da09d407570d\" xlink:show=\"new\" xlink:title=\"psysml:8c4f99f3-2675-4f4d-a756-da09d407570d\" xlink:type=\"simple\"><rect fill=\"#FFFFFF\" height=\"75.5469\" id=\"E10\" style=\"stroke: #383838; stroke-width: 1.5;\" width=\"84\" x=\"32\" y=\"41\"/><text fill=\"#000000\" font-family=\"sans-serif\" font-size=\"12\" font-style=\"italic\" lengthAdjust=\"spacingAndGlyphs\" textLength=\"64\" x=\"42\" y=\"57.1387\">«port def»</text><text fill=\"#000000\" font-family=\"sans-serif\" font-size=\"12\" lengthAdjust=\"spacingAndGlyphs\" textLength=\"8\" x=\"70\" y=\"71.1074\">C</text><line style=\"stroke: #383838; stroke-width: 1.5;\" x1=\"33\" x2=\"115\" y1=\"78.9375\" y2=\"78.9375\"/><text fill=\"#000000\" font-family=\"sans-serif\" font-size=\"11\" lengthAdjust=\"spacingAndGlyphs\" textLength=\"37\" x=\"38\" y=\"109.9526\">y: A, B</text><text fill=\"#000000\" font-family=\"sans-serif\" font-size=\"11\" font-weight=\"bold\" lengthAdjust=\"spacingAndGlyphs\" textLength=\"15\" x=\"79\" y=\"109.9526\">as</text><text fill=\"#000000\" font-family=\"sans-serif\" font-size=\"11\" lengthAdjust=\"spacingAndGlyphs\" textLength=\"12\" x=\"98\" y=\"109.9526\">z2</text><line style=\"stroke: #383838; stroke-width: 1.0;\" x1=\"33\" x2=\"43\" y1=\"93.3398\" y2=\"93.3398\"/><text fill=\"#000000\" font-family=\"sans-serif\" font-size=\"11\" lengthAdjust=\"spacingAndGlyphs\" textLength=\"62\" x=\"43\" y=\"96.6479\">references</text><line style=\"stroke: #383838; stroke-width: 1.0;\" x1=\"105\" x2=\"115\" y1=\"93.3398\" y2=\"93.3398\"/></a><a href=\"psysml:8a2f941b-3a97-4b54-9145-5eb7e96c5b49\" target=\"_top\" title=\"psysml:8a2f941b-3a97-4b54-9145-5eb7e96c5b49\" xlink:actuate=\"onRequest\" xlink:href=\"psysml:8a2f941b-3a97-4b54-9145-5eb7e96c5b49\" xlink:show=\"new\" xlink:title=\"psysml:8a2f941b-3a97-4b54-9145-5eb7e96c5b49\" xlink:type=\"simple\"><polygon fill=\"#FFFFFF\" points=\"86,591,102,591,109,613.2969,116,613.2969,116,643.5938,86,643.5938,86,591\" style=\"stroke: #000000; stroke-width: 1.5;\"/><line style=\"stroke: #000000; stroke-width: 1.5;\" x1=\"86\" x2=\"109\" y1=\"613.2969\" y2=\"613.2969\"/><text fill=\"#000000\" font-family=\"sans-serif\" font-size=\"14\" font-weight=\"bold\" lengthAdjust=\"spacingAndGlyphs\" textLength=\"10\" x=\"90\" y=\"605.9951\">P</text></a><!--MD5=[2720a5a1f2c3fca2055b230370638851]\n",
       "link E2 to E3--><a href=\"psysml:f1219804-170d-45ce-a1b2-74df9d2ed655\" target=\"_top\" title=\"psysml:f1219804-170d-45ce-a1b2-74df9d2ed655\" xlink:actuate=\"onRequest\" xlink:href=\"psysml:f1219804-170d-45ce-a1b2-74df9d2ed655\" xlink:show=\"new\" xlink:title=\"psysml:f1219804-170d-45ce-a1b2-74df9d2ed655\" xlink:type=\"simple\"><path d=\"M168.9,102.28 C166.28,121.12 162.41,148.97 158.94,173.94 \" fill=\"none\" id=\"E2-&gt;E3\" style=\"stroke: #383838; stroke-width: 1.0;\"/><polygon fill=\"#FFFFFF\" points=\"156.15,193.98,151.8354,174.1966,165.7018,176.1261,156.15,193.98\" style=\"stroke: #383838; stroke-width: 1.0;\"/><ellipse cx=\"154.6019\" cy=\"168.8266\" fill=\"#383838\" rx=\"2\" ry=\"2\" style=\"stroke: #383838; stroke-width: 1.0;\"/><ellipse cx=\"164.5065\" cy=\"170.2048\" fill=\"#383838\" rx=\"2\" ry=\"2\" style=\"stroke: #383838; stroke-width: 1.0;\"/></a><!--MD5=[4672eba38e49728da53d11aeb285b987]\n",
       "reverse link E3 to E4--><a href=\"psysml:ebd0a90b-6b0b-4fe7-b689-bf63abb6537b\" target=\"_top\" title=\"psysml:ebd0a90b-6b0b-4fe7-b689-bf63abb6537b\" xlink:actuate=\"onRequest\" xlink:href=\"psysml:ebd0a90b-6b0b-4fe7-b689-bf63abb6537b\" xlink:show=\"new\" xlink:title=\"psysml:ebd0a90b-6b0b-4fe7-b689-bf63abb6537b\" xlink:type=\"simple\"><path d=\"M142.17,283.02 C138.31,304.93 133.97,329.52 130.92,346.77 \" fill=\"none\" id=\"E3&lt;-E4\" style=\"stroke: #383838; stroke-width: 1.0;\"/><polygon fill=\"#383838\" points=\"144.44,270.16,139.4532,275.3688,142.3433,281.9754,147.3301,276.7666,144.44,270.16\" style=\"stroke: #383838; stroke-width: 1.0;\"/></a><!--MD5=[79568f1e445c3877b6a54524624ccc7d]\n",
       "link E4 to E6--><a href=\"psysml:0b7e6d0b-da90-43fd-82ff-3f36fc5229c0\" target=\"_top\" title=\"psysml:0b7e6d0b-da90-43fd-82ff-3f36fc5229c0\" xlink:actuate=\"onRequest\" xlink:href=\"psysml:0b7e6d0b-da90-43fd-82ff-3f36fc5229c0\" xlink:show=\"new\" xlink:title=\"psysml:0b7e6d0b-da90-43fd-82ff-3f36fc5229c0\" xlink:type=\"simple\"><path d=\"M123.88,393.01 C122.25,404.51 120.18,419.17 118.13,433.62 \" fill=\"none\" id=\"E4-&gt;E6\" style=\"stroke: #383838; stroke-width: 1.0;\"/><polygon fill=\"#FFFFFF\" points=\"115.3,453.57,111.0294,433.777,124.8914,435.7373,115.3,453.57\" style=\"stroke: #383838; stroke-width: 1.0;\"/><ellipse cx=\"113.8078\" cy=\"428.4132\" fill=\"#383838\" rx=\"2\" ry=\"2\" style=\"stroke: #383838; stroke-width: 1.0;\"/><ellipse cx=\"123.7093\" cy=\"429.8134\" fill=\"#383838\" rx=\"2\" ry=\"2\" style=\"stroke: #383838; stroke-width: 1.0;\"/></a><!--MD5=[3f50a3473f1dfb74d3f76443e03635af]\n",
       "reverse link E6 to E7--><a href=\"psysml:8a2f941b-3a97-4b54-9145-5eb7e96c5b49\" target=\"_top\" title=\"psysml:8a2f941b-3a97-4b54-9145-5eb7e96c5b49\" xlink:actuate=\"onRequest\" xlink:href=\"psysml:8a2f941b-3a97-4b54-9145-5eb7e96c5b49\" xlink:show=\"new\" xlink:title=\"psysml:8a2f941b-3a97-4b54-9145-5eb7e96c5b49\" xlink:type=\"simple\"><path d=\"M106.18,545.35 C105.04,561.08 103.83,577.65 102.87,590.83 \" fill=\"none\" id=\"E6&lt;-E7\" style=\"stroke: #383838; stroke-width: 1.0;\"/><ellipse cx=\"106.7138\" cy=\"538.0285\" fill=\"#FFFFFF\" rx=\"8\" ry=\"8\" style=\"stroke: #383838; stroke-width: 1.0;\"/><line style=\"stroke: #383838; stroke-width: 1.0;\" x1=\"106.1276\" x2=\"107.3\" y1=\"546.007\" y2=\"530.05\"/><line style=\"stroke: #383838; stroke-width: 1.0;\" x1=\"98.7353\" x2=\"114.6923\" y1=\"537.4423\" y2=\"538.6147\"/></a><!--MD5=[95fa686b5a16158bcdbcaeead89f639b]\n",
       "link E8 to E3--><a href=\"psysml:edfb0c1d-eeea-43d5-bece-b0bce4203cff\" target=\"_top\" title=\"psysml:edfb0c1d-eeea-43d5-bece-b0bce4203cff\" xlink:actuate=\"onRequest\" xlink:href=\"psysml:edfb0c1d-eeea-43d5-bece-b0bce4203cff\" xlink:show=\"new\" xlink:title=\"psysml:edfb0c1d-eeea-43d5-bece-b0bce4203cff\" xlink:type=\"simple\"><path d=\"M172.32,594.45 C172.8,548.41 173.03,438.69 166,347 C164.57,328.37 162.18,308.13 159.73,289.94 \" fill=\"none\" id=\"E8-&gt;E3\" style=\"stroke: #383838; stroke-width: 1.0;\"/><polygon fill=\"#FFFFFF\" points=\"156.92,270.12,166.5114,287.9527,152.6494,289.913,156.92,270.12\" style=\"stroke: #383838; stroke-width: 1.0;\"/><ellipse cx=\"165.3293\" cy=\"293.8766\" fill=\"#383838\" rx=\"2\" ry=\"2\" style=\"stroke: #383838; stroke-width: 1.0;\"/><ellipse cx=\"155.4278\" cy=\"295.2768\" fill=\"#383838\" rx=\"2\" ry=\"2\" style=\"stroke: #383838; stroke-width: 1.0;\"/></a><!--MD5=[f4cf0736d43fd73c4ef68817c49d37d5]\n",
       "reverse link E6 to E8--><a href=\"psysml:4e9eccbd-3da0-4f6c-a773-1d808904fdc5\" target=\"_top\" title=\"psysml:4e9eccbd-3da0-4f6c-a773-1d808904fdc5\" xlink:actuate=\"onRequest\" xlink:href=\"psysml:4e9eccbd-3da0-4f6c-a773-1d808904fdc5\" xlink:show=\"new\" xlink:title=\"psysml:4e9eccbd-3da0-4f6c-a773-1d808904fdc5\" xlink:type=\"simple\"><path d=\"M134.44,541.68 C143.55,559.83 153.45,579.55 160.8,594.19 \" fill=\"none\" id=\"E6&lt;-E8\" style=\"stroke: #383838; stroke-width: 1.0;\"/><polygon fill=\"#383838\" points=\"128.6,530.05,127.7161,537.2067,133.9824,540.7752,134.8663,533.6185,128.6,530.05\" style=\"stroke: #383838; stroke-width: 1.0;\"/></a><!--MD5=[8e04057e7b3cbc0dca4fc78ea351e2da]\n",
       "reverse link E10 to E3--><a href=\"psysml:800170d4-464e-4c2e-99b4-fb1d2de59c3f\" target=\"_top\" title=\"psysml:800170d4-464e-4c2e-99b4-fb1d2de59c3f\" xlink:actuate=\"onRequest\" xlink:href=\"psysml:800170d4-464e-4c2e-99b4-fb1d2de59c3f\" xlink:show=\"new\" xlink:title=\"psysml:800170d4-464e-4c2e-99b4-fb1d2de59c3f\" xlink:type=\"simple\"><path d=\"M98.98,128.98 C109.72,150.06 122.08,174.29 132.05,193.84 \" fill=\"none\" id=\"E10&lt;-E3\" style=\"stroke: #383838; stroke-width: 1.0;\"/><polygon fill=\"#FFFFFF\" points=\"93.03,117.33,92.1919,124.4922,98.4809,128.0206,99.319,120.8583,93.03,117.33\" style=\"stroke: #383838; stroke-width: 1.0;\"/><text fill=\"#000000\" font-family=\"sans-serif\" font-size=\"13\" lengthAdjust=\"spacingAndGlyphs\" textLength=\"7\" x=\"115\" y=\"160.0669\">y</text></a><!--MD5=[604cbf994c02b74b117f728a71673cea]\n",
       "reverse link E10 to E6--><a href=\"psysml:800170d4-464e-4c2e-99b4-fb1d2de59c3f\" target=\"_top\" title=\"psysml:800170d4-464e-4c2e-99b4-fb1d2de59c3f\" xlink:actuate=\"onRequest\" xlink:href=\"psysml:800170d4-464e-4c2e-99b4-fb1d2de59c3f\" xlink:show=\"new\" xlink:title=\"psysml:800170d4-464e-4c2e-99b4-fb1d2de59c3f\" xlink:type=\"simple\"><path d=\"M73.89,130.53 C74.34,192.6 77.02,300.97 89,393 C91.63,413.19 96.24,435.39 100.47,453.55 \" fill=\"none\" id=\"E10&lt;-E6\" style=\"stroke: #383838; stroke-width: 1.0;\"/><polygon fill=\"#FFFFFF\" points=\"73.83,117.27,69.863,123.2919,73.8959,129.2698,77.8629,123.2479,73.83,117.27\" style=\"stroke: #383838; stroke-width: 1.0;\"/><text fill=\"#000000\" font-family=\"sans-serif\" font-size=\"13\" lengthAdjust=\"spacingAndGlyphs\" textLength=\"7\" x=\"82\" y=\"313.0669\">y</text></a><!--MD5=[c6986d8dd217a34716d192184e1f3bce]\n",
       "@startuml\r\n",
       "skinparam monochrome true\r\n",
       "skinparam classbackgroundcolor white\r\n",
       "skinparam shadowing false\r\n",
       "skinparam wrapWidth 300\r\n",
       "hide circle\r\n",
       "\r\n",
       "package \"BlockTest\" as E1  [[psysml:1f80f8be-3c31-4480-9ece-24461005c64a ]]  {\r\n",
       "comp usage \"f: A\" as E2  <<(T,blue)part>> [[psysml:77ca47e2-95bd-4f5e-baaf-35974d96745c ]] {\r\n",
       "}\r\n",
       "comp def \"A\" as E3  <<(T,blue)part def>> [[psysml:feda5581-6f8c-419d-8ba7-a8a04be8503b ]] {\r\n",
       "- - ports - -\r\n",
       "c: C\r\n",
       "}\r\n",
       "comp usage \"b: B\" as E4  <<(T,blue)part>> [[psysml:ebd0a90b-6b0b-4fe7-b689-bf63abb6537b ]] {\r\n",
       "}\r\n",
       "comp def \"B\" as E6  <<(T,blue)part def>> [[psysml:7287ae62-763a-4b84-8405-f658443750c5 ]] {\r\n",
       "- - ports - -\r\n",
       "x: ~C\r\n",
       "}\r\n",
       "package \"P\" as E7  [[psysml:8a2f941b-3a97-4b54-9145-5eb7e96c5b49 ]]  {\r\n",
       "}\r\n",
       "comp usage \"a: A\" as E8  <<(T,blue)part>> [[psysml:4e9eccbd-3da0-4f6c-a773-1d808904fdc5 ]] {\r\n",
       "}\r\n",
       "comp def \"C\" as E10  <<(T,blue)port def>> [[psysml:8c4f99f3-2675-4f4d-a756-da09d407570d ]] {\r\n",
       "- - references - -\r\n",
       "y: A, B <b>as</b> z2 \r\n",
       "}\r\n",
       "E2 - -:|> E3 [[psysml:f1219804-170d-45ce-a1b2-74df9d2ed655 ]] \r\n",
       "E3 *- - E4 [[psysml:ebd0a90b-6b0b-4fe7-b689-bf63abb6537b ]] \r\n",
       "E4 - -:|> E6 [[psysml:0b7e6d0b-da90-43fd-82ff-3f36fc5229c0 ]] \r\n",
       "E6 +- - E7 [[psysml:8a2f941b-3a97-4b54-9145-5eb7e96c5b49 ]] \r\n",
       "E8 - -:|> E3 [[psysml:edfb0c1d-eeea-43d5-bece-b0bce4203cff ]] \r\n",
       "E6 *- - E8 [[psysml:4e9eccbd-3da0-4f6c-a773-1d808904fdc5 ]] \r\n",
       "E10 o- - E3 [[psysml:800170d4-464e-4c2e-99b4-fb1d2de59c3f ]] : y\r\n",
       "E10 o- - E6 [[psysml:800170d4-464e-4c2e-99b4-fb1d2de59c3f ]] : y\r\n",
       "}\r\n",
       "@enduml\r\n",
       "\n",
       "PlantUML version 1.2020.13(Sat Jun 13 12:26:38 UTC 2020)\n",
       "(EPL source distribution)\n",
       "Java Runtime: OpenJDK Runtime Environment\n",
       "JVM: OpenJDK 64-Bit Server VM\n",
       "Default Encoding: UTF-8\n",
       "Language: en\n",
       "Country: null\n",
       "--></g></svg>"
      ]
     },
     "execution_count": 42,
     "metadata": {},
     "output_type": "execute_result"
    }
   ],
   "source": [
    "%viz --style=\"DEFAULT\" --view=\"Sequence\" \"BlockTest\""
   ]
  },
  {
   "cell_type": "code",
   "execution_count": 43,
   "id": "fresh-thumb",
   "metadata": {
    "execution": {
     "iopub.execute_input": "2021-03-26T12:07:40.782895Z",
     "iopub.status.busy": "2021-03-26T12:07:40.782532Z",
     "iopub.status.idle": "2021-03-26T12:07:40.859815Z",
     "shell.execute_reply": "2021-03-26T12:07:40.857728Z"
    }
   },
   "outputs": [
    {
     "data": {
      "image/svg+xml": [
       "<?xml version=\"1.0\" encoding=\"UTF-8\" standalone=\"no\"?><svg xmlns=\"http://www.w3.org/2000/svg\" xmlns:xlink=\"http://www.w3.org/1999/xlink\" contentScriptType=\"application/ecmascript\" contentStyleType=\"text/css\" height=\"672px\" preserveAspectRatio=\"none\" style=\"width:231px;height:672px;\" version=\"1.1\" viewBox=\"0 0 231 672\" width=\"231px\" zoomAndPan=\"magnify\"><defs/><g><!--MD5=[fbc87193dbaf4d95561dea2c320d4a47]\n",
       "cluster E1--><a href=\"psysml:1f80f8be-3c31-4480-9ece-24461005c64a\" target=\"_top\" title=\"psysml:1f80f8be-3c31-4480-9ece-24461005c64a\" xlink:actuate=\"onRequest\" xlink:href=\"psysml:1f80f8be-3c31-4480-9ece-24461005c64a\" xlink:show=\"new\" xlink:title=\"psysml:1f80f8be-3c31-4480-9ece-24461005c64a\" xlink:type=\"simple\"><polygon fill=\"#FFFFFF\" points=\"16,6,99,6,106,28.2969,209,28.2969,209,660,16,660,16,6\" style=\"stroke: #000000; stroke-width: 1.5;\"/><line style=\"stroke: #000000; stroke-width: 1.5;\" x1=\"16\" x2=\"106\" y1=\"28.2969\" y2=\"28.2969\"/><text fill=\"#000000\" font-family=\"sans-serif\" font-size=\"14\" font-weight=\"bold\" lengthAdjust=\"spacingAndGlyphs\" textLength=\"77\" x=\"20\" y=\"20.9951\">BlockTest</text></a><!--MD5=[b4997ac47864f28c2f74865a473b2911]\n",
       "class E2--><a href=\"psysml:77ca47e2-95bd-4f5e-baaf-35974d96745c\" target=\"_top\" title=\"psysml:77ca47e2-95bd-4f5e-baaf-35974d96745c\" xlink:actuate=\"onRequest\" xlink:href=\"psysml:77ca47e2-95bd-4f5e-baaf-35974d96745c\" xlink:show=\"new\" xlink:title=\"psysml:77ca47e2-95bd-4f5e-baaf-35974d96745c\" xlink:type=\"simple\"><rect fill=\"#FFFFFF\" height=\"45.9375\" id=\"E2\" rx=\"10\" ry=\"10\" style=\"stroke: #383838; stroke-width: 1.5;\" width=\"42\" x=\"151\" y=\"56\"/><text fill=\"#000000\" font-family=\"sans-serif\" font-size=\"12\" font-style=\"italic\" lengthAdjust=\"spacingAndGlyphs\" textLength=\"40\" x=\"152\" y=\"72.1387\">«part»</text><text fill=\"#000000\" font-family=\"sans-serif\" font-size=\"12\" lengthAdjust=\"spacingAndGlyphs\" textLength=\"20\" x=\"162\" y=\"86.1074\">f: A</text><line style=\"stroke: #383838; stroke-width: 1.5;\" x1=\"152\" x2=\"192\" y1=\"93.9375\" y2=\"93.9375\"/></a><!--MD5=[09b614a08d8cba4a07c9adeb5e0fee81]\n",
       "class E3--><a href=\"psysml:feda5581-6f8c-419d-8ba7-a8a04be8503b\" target=\"_top\" title=\"psysml:feda5581-6f8c-419d-8ba7-a8a04be8503b\" xlink:actuate=\"onRequest\" xlink:href=\"psysml:feda5581-6f8c-419d-8ba7-a8a04be8503b\" xlink:show=\"new\" xlink:title=\"psysml:feda5581-6f8c-419d-8ba7-a8a04be8503b\" xlink:type=\"simple\"><rect fill=\"#FFFFFF\" height=\"75.5469\" id=\"E3\" style=\"stroke: #383838; stroke-width: 1.5;\" width=\"66\" x=\"118\" y=\"194\"/><text fill=\"#000000\" font-family=\"sans-serif\" font-size=\"12\" font-style=\"italic\" lengthAdjust=\"spacingAndGlyphs\" textLength=\"64\" x=\"119\" y=\"210.1387\">«part def»</text><text fill=\"#000000\" font-family=\"sans-serif\" font-size=\"12\" lengthAdjust=\"spacingAndGlyphs\" textLength=\"8\" x=\"147\" y=\"224.1074\">A</text><line style=\"stroke: #383838; stroke-width: 1.5;\" x1=\"119\" x2=\"183\" y1=\"231.9375\" y2=\"231.9375\"/><text fill=\"#000000\" font-family=\"sans-serif\" font-size=\"11\" lengthAdjust=\"spacingAndGlyphs\" textLength=\"22\" x=\"124\" y=\"262.9526\">c: C</text><line style=\"stroke: #383838; stroke-width: 1.0;\" x1=\"119\" x2=\"136\" y1=\"246.3398\" y2=\"246.3398\"/><text fill=\"#000000\" font-family=\"sans-serif\" font-size=\"11\" lengthAdjust=\"spacingAndGlyphs\" textLength=\"30\" x=\"136\" y=\"249.6479\">ports</text><line style=\"stroke: #383838; stroke-width: 1.0;\" x1=\"166\" x2=\"183\" y1=\"246.3398\" y2=\"246.3398\"/></a><!--MD5=[ebbe1d658d1005bcc118a6aa81145e00]\n",
       "class E4--><a href=\"psysml:ebd0a90b-6b0b-4fe7-b689-bf63abb6537b\" target=\"_top\" title=\"psysml:ebd0a90b-6b0b-4fe7-b689-bf63abb6537b\" xlink:actuate=\"onRequest\" xlink:href=\"psysml:ebd0a90b-6b0b-4fe7-b689-bf63abb6537b\" xlink:show=\"new\" xlink:title=\"psysml:ebd0a90b-6b0b-4fe7-b689-bf63abb6537b\" xlink:type=\"simple\"><rect fill=\"#FFFFFF\" height=\"45.9375\" id=\"E4\" rx=\"10\" ry=\"10\" style=\"stroke: #383838; stroke-width: 1.5;\" width=\"42\" x=\"106\" y=\"347\"/><text fill=\"#000000\" font-family=\"sans-serif\" font-size=\"12\" font-style=\"italic\" lengthAdjust=\"spacingAndGlyphs\" textLength=\"40\" x=\"107\" y=\"363.1387\">«part»</text><text fill=\"#000000\" font-family=\"sans-serif\" font-size=\"12\" lengthAdjust=\"spacingAndGlyphs\" textLength=\"24\" x=\"115\" y=\"377.1074\">b: B</text><line style=\"stroke: #383838; stroke-width: 1.5;\" x1=\"107\" x2=\"147\" y1=\"384.9375\" y2=\"384.9375\"/></a><!--MD5=[60a26617385b1d2d0262a64233df1f8d]\n",
       "class E6--><a href=\"psysml:7287ae62-763a-4b84-8405-f658443750c5\" target=\"_top\" title=\"psysml:7287ae62-763a-4b84-8405-f658443750c5\" xlink:actuate=\"onRequest\" xlink:href=\"psysml:7287ae62-763a-4b84-8405-f658443750c5\" xlink:show=\"new\" xlink:title=\"psysml:7287ae62-763a-4b84-8405-f658443750c5\" xlink:type=\"simple\"><rect fill=\"#FFFFFF\" height=\"75.5469\" id=\"E6\" style=\"stroke: #383838; stroke-width: 1.5;\" width=\"66\" x=\"77\" y=\"454\"/><text fill=\"#000000\" font-family=\"sans-serif\" font-size=\"12\" font-style=\"italic\" lengthAdjust=\"spacingAndGlyphs\" textLength=\"64\" x=\"78\" y=\"470.1387\">«part def»</text><text fill=\"#000000\" font-family=\"sans-serif\" font-size=\"12\" lengthAdjust=\"spacingAndGlyphs\" textLength=\"8\" x=\"106\" y=\"484.1074\">B</text><line style=\"stroke: #383838; stroke-width: 1.5;\" x1=\"78\" x2=\"142\" y1=\"491.9375\" y2=\"491.9375\"/><text fill=\"#000000\" font-family=\"sans-serif\" font-size=\"11\" lengthAdjust=\"spacingAndGlyphs\" textLength=\"31\" x=\"83\" y=\"522.9526\">x: ~C</text><line style=\"stroke: #383838; stroke-width: 1.0;\" x1=\"78\" x2=\"95\" y1=\"506.3398\" y2=\"506.3398\"/><text fill=\"#000000\" font-family=\"sans-serif\" font-size=\"11\" lengthAdjust=\"spacingAndGlyphs\" textLength=\"30\" x=\"95\" y=\"509.6479\">ports</text><line style=\"stroke: #383838; stroke-width: 1.0;\" x1=\"125\" x2=\"142\" y1=\"506.3398\" y2=\"506.3398\"/></a><!--MD5=[b9389687b975829384b498ac4b7476b2]\n",
       "class E8--><a href=\"psysml:4e9eccbd-3da0-4f6c-a773-1d808904fdc5\" target=\"_top\" title=\"psysml:4e9eccbd-3da0-4f6c-a773-1d808904fdc5\" xlink:actuate=\"onRequest\" xlink:href=\"psysml:4e9eccbd-3da0-4f6c-a773-1d808904fdc5\" xlink:show=\"new\" xlink:title=\"psysml:4e9eccbd-3da0-4f6c-a773-1d808904fdc5\" xlink:type=\"simple\"><rect fill=\"#FFFFFF\" height=\"45.9375\" id=\"E8\" rx=\"10\" ry=\"10\" style=\"stroke: #383838; stroke-width: 1.5;\" width=\"42\" x=\"151\" y=\"594.5\"/><text fill=\"#000000\" font-family=\"sans-serif\" font-size=\"12\" font-style=\"italic\" lengthAdjust=\"spacingAndGlyphs\" textLength=\"40\" x=\"152\" y=\"610.6387\">«part»</text><text fill=\"#000000\" font-family=\"sans-serif\" font-size=\"12\" lengthAdjust=\"spacingAndGlyphs\" textLength=\"24\" x=\"160\" y=\"624.6074\">a: A</text><line style=\"stroke: #383838; stroke-width: 1.5;\" x1=\"152\" x2=\"192\" y1=\"632.4375\" y2=\"632.4375\"/></a><!--MD5=[96f4274e9e20536e775497830990834d]\n",
       "class E10--><a href=\"psysml:8c4f99f3-2675-4f4d-a756-da09d407570d\" target=\"_top\" title=\"psysml:8c4f99f3-2675-4f4d-a756-da09d407570d\" xlink:actuate=\"onRequest\" xlink:href=\"psysml:8c4f99f3-2675-4f4d-a756-da09d407570d\" xlink:show=\"new\" xlink:title=\"psysml:8c4f99f3-2675-4f4d-a756-da09d407570d\" xlink:type=\"simple\"><rect fill=\"#FFFFFF\" height=\"75.5469\" id=\"E10\" style=\"stroke: #383838; stroke-width: 1.5;\" width=\"84\" x=\"32\" y=\"41\"/><text fill=\"#000000\" font-family=\"sans-serif\" font-size=\"12\" font-style=\"italic\" lengthAdjust=\"spacingAndGlyphs\" textLength=\"64\" x=\"42\" y=\"57.1387\">«port def»</text><text fill=\"#000000\" font-family=\"sans-serif\" font-size=\"12\" lengthAdjust=\"spacingAndGlyphs\" textLength=\"8\" x=\"70\" y=\"71.1074\">C</text><line style=\"stroke: #383838; stroke-width: 1.5;\" x1=\"33\" x2=\"115\" y1=\"78.9375\" y2=\"78.9375\"/><text fill=\"#000000\" font-family=\"sans-serif\" font-size=\"11\" lengthAdjust=\"spacingAndGlyphs\" textLength=\"37\" x=\"38\" y=\"109.9526\">y: A, B</text><text fill=\"#000000\" font-family=\"sans-serif\" font-size=\"11\" font-weight=\"bold\" lengthAdjust=\"spacingAndGlyphs\" textLength=\"15\" x=\"79\" y=\"109.9526\">as</text><text fill=\"#000000\" font-family=\"sans-serif\" font-size=\"11\" lengthAdjust=\"spacingAndGlyphs\" textLength=\"12\" x=\"98\" y=\"109.9526\">z2</text><line style=\"stroke: #383838; stroke-width: 1.0;\" x1=\"33\" x2=\"43\" y1=\"93.3398\" y2=\"93.3398\"/><text fill=\"#000000\" font-family=\"sans-serif\" font-size=\"11\" lengthAdjust=\"spacingAndGlyphs\" textLength=\"62\" x=\"43\" y=\"96.6479\">references</text><line style=\"stroke: #383838; stroke-width: 1.0;\" x1=\"105\" x2=\"115\" y1=\"93.3398\" y2=\"93.3398\"/></a><a href=\"psysml:8a2f941b-3a97-4b54-9145-5eb7e96c5b49\" target=\"_top\" title=\"psysml:8a2f941b-3a97-4b54-9145-5eb7e96c5b49\" xlink:actuate=\"onRequest\" xlink:href=\"psysml:8a2f941b-3a97-4b54-9145-5eb7e96c5b49\" xlink:show=\"new\" xlink:title=\"psysml:8a2f941b-3a97-4b54-9145-5eb7e96c5b49\" xlink:type=\"simple\"><polygon fill=\"#FFFFFF\" points=\"86,591,102,591,109,613.2969,116,613.2969,116,643.5938,86,643.5938,86,591\" style=\"stroke: #000000; stroke-width: 1.5;\"/><line style=\"stroke: #000000; stroke-width: 1.5;\" x1=\"86\" x2=\"109\" y1=\"613.2969\" y2=\"613.2969\"/><text fill=\"#000000\" font-family=\"sans-serif\" font-size=\"14\" font-weight=\"bold\" lengthAdjust=\"spacingAndGlyphs\" textLength=\"10\" x=\"90\" y=\"605.9951\">P</text></a><!--MD5=[2720a5a1f2c3fca2055b230370638851]\n",
       "link E2 to E3--><a href=\"psysml:f1219804-170d-45ce-a1b2-74df9d2ed655\" target=\"_top\" title=\"psysml:f1219804-170d-45ce-a1b2-74df9d2ed655\" xlink:actuate=\"onRequest\" xlink:href=\"psysml:f1219804-170d-45ce-a1b2-74df9d2ed655\" xlink:show=\"new\" xlink:title=\"psysml:f1219804-170d-45ce-a1b2-74df9d2ed655\" xlink:type=\"simple\"><path d=\"M168.9,102.28 C166.28,121.12 162.41,148.97 158.94,173.94 \" fill=\"none\" id=\"E2-&gt;E3\" style=\"stroke: #383838; stroke-width: 1.0;\"/><polygon fill=\"#FFFFFF\" points=\"156.15,193.98,151.8354,174.1966,165.7018,176.1261,156.15,193.98\" style=\"stroke: #383838; stroke-width: 1.0;\"/><ellipse cx=\"154.6019\" cy=\"168.8266\" fill=\"#383838\" rx=\"2\" ry=\"2\" style=\"stroke: #383838; stroke-width: 1.0;\"/><ellipse cx=\"164.5065\" cy=\"170.2048\" fill=\"#383838\" rx=\"2\" ry=\"2\" style=\"stroke: #383838; stroke-width: 1.0;\"/></a><!--MD5=[4672eba38e49728da53d11aeb285b987]\n",
       "reverse link E3 to E4--><a href=\"psysml:ebd0a90b-6b0b-4fe7-b689-bf63abb6537b\" target=\"_top\" title=\"psysml:ebd0a90b-6b0b-4fe7-b689-bf63abb6537b\" xlink:actuate=\"onRequest\" xlink:href=\"psysml:ebd0a90b-6b0b-4fe7-b689-bf63abb6537b\" xlink:show=\"new\" xlink:title=\"psysml:ebd0a90b-6b0b-4fe7-b689-bf63abb6537b\" xlink:type=\"simple\"><path d=\"M142.17,283.02 C138.31,304.93 133.97,329.52 130.92,346.77 \" fill=\"none\" id=\"E3&lt;-E4\" style=\"stroke: #383838; stroke-width: 1.0;\"/><polygon fill=\"#383838\" points=\"144.44,270.16,139.4532,275.3688,142.3433,281.9754,147.3301,276.7666,144.44,270.16\" style=\"stroke: #383838; stroke-width: 1.0;\"/></a><!--MD5=[79568f1e445c3877b6a54524624ccc7d]\n",
       "link E4 to E6--><a href=\"psysml:0b7e6d0b-da90-43fd-82ff-3f36fc5229c0\" target=\"_top\" title=\"psysml:0b7e6d0b-da90-43fd-82ff-3f36fc5229c0\" xlink:actuate=\"onRequest\" xlink:href=\"psysml:0b7e6d0b-da90-43fd-82ff-3f36fc5229c0\" xlink:show=\"new\" xlink:title=\"psysml:0b7e6d0b-da90-43fd-82ff-3f36fc5229c0\" xlink:type=\"simple\"><path d=\"M123.88,393.01 C122.25,404.51 120.18,419.17 118.13,433.62 \" fill=\"none\" id=\"E4-&gt;E6\" style=\"stroke: #383838; stroke-width: 1.0;\"/><polygon fill=\"#FFFFFF\" points=\"115.3,453.57,111.0294,433.777,124.8914,435.7373,115.3,453.57\" style=\"stroke: #383838; stroke-width: 1.0;\"/><ellipse cx=\"113.8078\" cy=\"428.4132\" fill=\"#383838\" rx=\"2\" ry=\"2\" style=\"stroke: #383838; stroke-width: 1.0;\"/><ellipse cx=\"123.7093\" cy=\"429.8134\" fill=\"#383838\" rx=\"2\" ry=\"2\" style=\"stroke: #383838; stroke-width: 1.0;\"/></a><!--MD5=[3f50a3473f1dfb74d3f76443e03635af]\n",
       "reverse link E6 to E7--><a href=\"psysml:8a2f941b-3a97-4b54-9145-5eb7e96c5b49\" target=\"_top\" title=\"psysml:8a2f941b-3a97-4b54-9145-5eb7e96c5b49\" xlink:actuate=\"onRequest\" xlink:href=\"psysml:8a2f941b-3a97-4b54-9145-5eb7e96c5b49\" xlink:show=\"new\" xlink:title=\"psysml:8a2f941b-3a97-4b54-9145-5eb7e96c5b49\" xlink:type=\"simple\"><path d=\"M106.18,545.35 C105.04,561.08 103.83,577.65 102.87,590.83 \" fill=\"none\" id=\"E6&lt;-E7\" style=\"stroke: #383838; stroke-width: 1.0;\"/><ellipse cx=\"106.7138\" cy=\"538.0285\" fill=\"#FFFFFF\" rx=\"8\" ry=\"8\" style=\"stroke: #383838; stroke-width: 1.0;\"/><line style=\"stroke: #383838; stroke-width: 1.0;\" x1=\"106.1276\" x2=\"107.3\" y1=\"546.007\" y2=\"530.05\"/><line style=\"stroke: #383838; stroke-width: 1.0;\" x1=\"98.7353\" x2=\"114.6923\" y1=\"537.4423\" y2=\"538.6147\"/></a><!--MD5=[95fa686b5a16158bcdbcaeead89f639b]\n",
       "link E8 to E3--><a href=\"psysml:edfb0c1d-eeea-43d5-bece-b0bce4203cff\" target=\"_top\" title=\"psysml:edfb0c1d-eeea-43d5-bece-b0bce4203cff\" xlink:actuate=\"onRequest\" xlink:href=\"psysml:edfb0c1d-eeea-43d5-bece-b0bce4203cff\" xlink:show=\"new\" xlink:title=\"psysml:edfb0c1d-eeea-43d5-bece-b0bce4203cff\" xlink:type=\"simple\"><path d=\"M172.32,594.45 C172.8,548.41 173.03,438.69 166,347 C164.57,328.37 162.18,308.13 159.73,289.94 \" fill=\"none\" id=\"E8-&gt;E3\" style=\"stroke: #383838; stroke-width: 1.0;\"/><polygon fill=\"#FFFFFF\" points=\"156.92,270.12,166.5114,287.9527,152.6494,289.913,156.92,270.12\" style=\"stroke: #383838; stroke-width: 1.0;\"/><ellipse cx=\"165.3293\" cy=\"293.8766\" fill=\"#383838\" rx=\"2\" ry=\"2\" style=\"stroke: #383838; stroke-width: 1.0;\"/><ellipse cx=\"155.4278\" cy=\"295.2768\" fill=\"#383838\" rx=\"2\" ry=\"2\" style=\"stroke: #383838; stroke-width: 1.0;\"/></a><!--MD5=[f4cf0736d43fd73c4ef68817c49d37d5]\n",
       "reverse link E6 to E8--><a href=\"psysml:4e9eccbd-3da0-4f6c-a773-1d808904fdc5\" target=\"_top\" title=\"psysml:4e9eccbd-3da0-4f6c-a773-1d808904fdc5\" xlink:actuate=\"onRequest\" xlink:href=\"psysml:4e9eccbd-3da0-4f6c-a773-1d808904fdc5\" xlink:show=\"new\" xlink:title=\"psysml:4e9eccbd-3da0-4f6c-a773-1d808904fdc5\" xlink:type=\"simple\"><path d=\"M134.44,541.68 C143.55,559.83 153.45,579.55 160.8,594.19 \" fill=\"none\" id=\"E6&lt;-E8\" style=\"stroke: #383838; stroke-width: 1.0;\"/><polygon fill=\"#383838\" points=\"128.6,530.05,127.7161,537.2067,133.9824,540.7752,134.8663,533.6185,128.6,530.05\" style=\"stroke: #383838; stroke-width: 1.0;\"/></a><!--MD5=[8e04057e7b3cbc0dca4fc78ea351e2da]\n",
       "reverse link E10 to E3--><a href=\"psysml:800170d4-464e-4c2e-99b4-fb1d2de59c3f\" target=\"_top\" title=\"psysml:800170d4-464e-4c2e-99b4-fb1d2de59c3f\" xlink:actuate=\"onRequest\" xlink:href=\"psysml:800170d4-464e-4c2e-99b4-fb1d2de59c3f\" xlink:show=\"new\" xlink:title=\"psysml:800170d4-464e-4c2e-99b4-fb1d2de59c3f\" xlink:type=\"simple\"><path d=\"M98.98,128.98 C109.72,150.06 122.08,174.29 132.05,193.84 \" fill=\"none\" id=\"E10&lt;-E3\" style=\"stroke: #383838; stroke-width: 1.0;\"/><polygon fill=\"#FFFFFF\" points=\"93.03,117.33,92.1919,124.4922,98.4809,128.0206,99.319,120.8583,93.03,117.33\" style=\"stroke: #383838; stroke-width: 1.0;\"/><text fill=\"#000000\" font-family=\"sans-serif\" font-size=\"13\" lengthAdjust=\"spacingAndGlyphs\" textLength=\"7\" x=\"115\" y=\"160.0669\">y</text></a><!--MD5=[604cbf994c02b74b117f728a71673cea]\n",
       "reverse link E10 to E6--><a href=\"psysml:800170d4-464e-4c2e-99b4-fb1d2de59c3f\" target=\"_top\" title=\"psysml:800170d4-464e-4c2e-99b4-fb1d2de59c3f\" xlink:actuate=\"onRequest\" xlink:href=\"psysml:800170d4-464e-4c2e-99b4-fb1d2de59c3f\" xlink:show=\"new\" xlink:title=\"psysml:800170d4-464e-4c2e-99b4-fb1d2de59c3f\" xlink:type=\"simple\"><path d=\"M73.89,130.53 C74.34,192.6 77.02,300.97 89,393 C91.63,413.19 96.24,435.39 100.47,453.55 \" fill=\"none\" id=\"E10&lt;-E6\" style=\"stroke: #383838; stroke-width: 1.0;\"/><polygon fill=\"#FFFFFF\" points=\"73.83,117.27,69.863,123.2919,73.8959,129.2698,77.8629,123.2479,73.83,117.27\" style=\"stroke: #383838; stroke-width: 1.0;\"/><text fill=\"#000000\" font-family=\"sans-serif\" font-size=\"13\" lengthAdjust=\"spacingAndGlyphs\" textLength=\"7\" x=\"82\" y=\"313.0669\">y</text></a><!--MD5=[c6986d8dd217a34716d192184e1f3bce]\n",
       "@startuml\r\n",
       "skinparam monochrome true\r\n",
       "skinparam classbackgroundcolor white\r\n",
       "skinparam shadowing false\r\n",
       "skinparam wrapWidth 300\r\n",
       "hide circle\r\n",
       "\r\n",
       "package \"BlockTest\" as E1  [[psysml:1f80f8be-3c31-4480-9ece-24461005c64a ]]  {\r\n",
       "comp usage \"f: A\" as E2  <<(T,blue)part>> [[psysml:77ca47e2-95bd-4f5e-baaf-35974d96745c ]] {\r\n",
       "}\r\n",
       "comp def \"A\" as E3  <<(T,blue)part def>> [[psysml:feda5581-6f8c-419d-8ba7-a8a04be8503b ]] {\r\n",
       "- - ports - -\r\n",
       "c: C\r\n",
       "}\r\n",
       "comp usage \"b: B\" as E4  <<(T,blue)part>> [[psysml:ebd0a90b-6b0b-4fe7-b689-bf63abb6537b ]] {\r\n",
       "}\r\n",
       "comp def \"B\" as E6  <<(T,blue)part def>> [[psysml:7287ae62-763a-4b84-8405-f658443750c5 ]] {\r\n",
       "- - ports - -\r\n",
       "x: ~C\r\n",
       "}\r\n",
       "package \"P\" as E7  [[psysml:8a2f941b-3a97-4b54-9145-5eb7e96c5b49 ]]  {\r\n",
       "}\r\n",
       "comp usage \"a: A\" as E8  <<(T,blue)part>> [[psysml:4e9eccbd-3da0-4f6c-a773-1d808904fdc5 ]] {\r\n",
       "}\r\n",
       "comp def \"C\" as E10  <<(T,blue)port def>> [[psysml:8c4f99f3-2675-4f4d-a756-da09d407570d ]] {\r\n",
       "- - references - -\r\n",
       "y: A, B <b>as</b> z2 \r\n",
       "}\r\n",
       "E2 - -:|> E3 [[psysml:f1219804-170d-45ce-a1b2-74df9d2ed655 ]] \r\n",
       "E3 *- - E4 [[psysml:ebd0a90b-6b0b-4fe7-b689-bf63abb6537b ]] \r\n",
       "E4 - -:|> E6 [[psysml:0b7e6d0b-da90-43fd-82ff-3f36fc5229c0 ]] \r\n",
       "E6 +- - E7 [[psysml:8a2f941b-3a97-4b54-9145-5eb7e96c5b49 ]] \r\n",
       "E8 - -:|> E3 [[psysml:edfb0c1d-eeea-43d5-bece-b0bce4203cff ]] \r\n",
       "E6 *- - E8 [[psysml:4e9eccbd-3da0-4f6c-a773-1d808904fdc5 ]] \r\n",
       "E10 o- - E3 [[psysml:800170d4-464e-4c2e-99b4-fb1d2de59c3f ]] : y\r\n",
       "E10 o- - E6 [[psysml:800170d4-464e-4c2e-99b4-fb1d2de59c3f ]] : y\r\n",
       "}\r\n",
       "@enduml\r\n",
       "\n",
       "PlantUML version 1.2020.13(Sat Jun 13 12:26:38 UTC 2020)\n",
       "(EPL source distribution)\n",
       "Java Runtime: OpenJDK Runtime Environment\n",
       "JVM: OpenJDK 64-Bit Server VM\n",
       "Default Encoding: UTF-8\n",
       "Language: en\n",
       "Country: null\n",
       "--></g></svg>"
      ]
     },
     "execution_count": 43,
     "metadata": {},
     "output_type": "execute_result"
    }
   ],
   "source": [
    "%viz --style=\"DEFAULT\" --view=\"MIXED\" \"BlockTest\""
   ]
  },
  {
   "cell_type": "code",
   "execution_count": 44,
   "id": "common-original",
   "metadata": {
    "execution": {
     "iopub.execute_input": "2021-03-26T12:07:40.912096Z",
     "iopub.status.busy": "2021-03-26T12:07:40.911353Z",
     "iopub.status.idle": "2021-03-26T12:07:40.971172Z",
     "shell.execute_reply": "2021-03-26T12:07:40.969488Z"
    }
   },
   "outputs": [
    {
     "data": {
      "image/svg+xml": [
       "<?xml version=\"1.0\" encoding=\"UTF-8\" standalone=\"no\"?><svg xmlns=\"http://www.w3.org/2000/svg\" xmlns:xlink=\"http://www.w3.org/1999/xlink\" contentScriptType=\"application/ecmascript\" contentStyleType=\"text/css\" height=\"672px\" preserveAspectRatio=\"none\" style=\"width:231px;height:672px;\" version=\"1.1\" viewBox=\"0 0 231 672\" width=\"231px\" zoomAndPan=\"magnify\"><defs/><g><!--MD5=[fbc87193dbaf4d95561dea2c320d4a47]\n",
       "cluster E1--><a href=\"psysml:1f80f8be-3c31-4480-9ece-24461005c64a\" target=\"_top\" title=\"psysml:1f80f8be-3c31-4480-9ece-24461005c64a\" xlink:actuate=\"onRequest\" xlink:href=\"psysml:1f80f8be-3c31-4480-9ece-24461005c64a\" xlink:show=\"new\" xlink:title=\"psysml:1f80f8be-3c31-4480-9ece-24461005c64a\" xlink:type=\"simple\"><polygon fill=\"#FFFFFF\" points=\"16,6,99,6,106,28.2969,209,28.2969,209,660,16,660,16,6\" style=\"stroke: #000000; stroke-width: 1.5;\"/><line style=\"stroke: #000000; stroke-width: 1.5;\" x1=\"16\" x2=\"106\" y1=\"28.2969\" y2=\"28.2969\"/><text fill=\"#000000\" font-family=\"sans-serif\" font-size=\"14\" font-weight=\"bold\" lengthAdjust=\"spacingAndGlyphs\" textLength=\"77\" x=\"20\" y=\"20.9951\">BlockTest</text></a><!--MD5=[b4997ac47864f28c2f74865a473b2911]\n",
       "class E2--><a href=\"psysml:77ca47e2-95bd-4f5e-baaf-35974d96745c\" target=\"_top\" title=\"psysml:77ca47e2-95bd-4f5e-baaf-35974d96745c\" xlink:actuate=\"onRequest\" xlink:href=\"psysml:77ca47e2-95bd-4f5e-baaf-35974d96745c\" xlink:show=\"new\" xlink:title=\"psysml:77ca47e2-95bd-4f5e-baaf-35974d96745c\" xlink:type=\"simple\"><rect fill=\"#FFFFFF\" height=\"45.9375\" id=\"E2\" rx=\"10\" ry=\"10\" style=\"stroke: #383838; stroke-width: 1.5;\" width=\"42\" x=\"151\" y=\"56\"/><text fill=\"#000000\" font-family=\"sans-serif\" font-size=\"12\" font-style=\"italic\" lengthAdjust=\"spacingAndGlyphs\" textLength=\"40\" x=\"152\" y=\"72.1387\">«part»</text><text fill=\"#000000\" font-family=\"sans-serif\" font-size=\"12\" lengthAdjust=\"spacingAndGlyphs\" textLength=\"20\" x=\"162\" y=\"86.1074\">f: A</text><line style=\"stroke: #383838; stroke-width: 1.5;\" x1=\"152\" x2=\"192\" y1=\"93.9375\" y2=\"93.9375\"/></a><!--MD5=[09b614a08d8cba4a07c9adeb5e0fee81]\n",
       "class E3--><a href=\"psysml:feda5581-6f8c-419d-8ba7-a8a04be8503b\" target=\"_top\" title=\"psysml:feda5581-6f8c-419d-8ba7-a8a04be8503b\" xlink:actuate=\"onRequest\" xlink:href=\"psysml:feda5581-6f8c-419d-8ba7-a8a04be8503b\" xlink:show=\"new\" xlink:title=\"psysml:feda5581-6f8c-419d-8ba7-a8a04be8503b\" xlink:type=\"simple\"><rect fill=\"#FFFFFF\" height=\"75.5469\" id=\"E3\" style=\"stroke: #383838; stroke-width: 1.5;\" width=\"66\" x=\"118\" y=\"194\"/><text fill=\"#000000\" font-family=\"sans-serif\" font-size=\"12\" font-style=\"italic\" lengthAdjust=\"spacingAndGlyphs\" textLength=\"64\" x=\"119\" y=\"210.1387\">«part def»</text><text fill=\"#000000\" font-family=\"sans-serif\" font-size=\"12\" lengthAdjust=\"spacingAndGlyphs\" textLength=\"8\" x=\"147\" y=\"224.1074\">A</text><line style=\"stroke: #383838; stroke-width: 1.5;\" x1=\"119\" x2=\"183\" y1=\"231.9375\" y2=\"231.9375\"/><text fill=\"#000000\" font-family=\"sans-serif\" font-size=\"11\" lengthAdjust=\"spacingAndGlyphs\" textLength=\"22\" x=\"124\" y=\"262.9526\">c: C</text><line style=\"stroke: #383838; stroke-width: 1.0;\" x1=\"119\" x2=\"136\" y1=\"246.3398\" y2=\"246.3398\"/><text fill=\"#000000\" font-family=\"sans-serif\" font-size=\"11\" lengthAdjust=\"spacingAndGlyphs\" textLength=\"30\" x=\"136\" y=\"249.6479\">ports</text><line style=\"stroke: #383838; stroke-width: 1.0;\" x1=\"166\" x2=\"183\" y1=\"246.3398\" y2=\"246.3398\"/></a><!--MD5=[ebbe1d658d1005bcc118a6aa81145e00]\n",
       "class E4--><a href=\"psysml:ebd0a90b-6b0b-4fe7-b689-bf63abb6537b\" target=\"_top\" title=\"psysml:ebd0a90b-6b0b-4fe7-b689-bf63abb6537b\" xlink:actuate=\"onRequest\" xlink:href=\"psysml:ebd0a90b-6b0b-4fe7-b689-bf63abb6537b\" xlink:show=\"new\" xlink:title=\"psysml:ebd0a90b-6b0b-4fe7-b689-bf63abb6537b\" xlink:type=\"simple\"><rect fill=\"#FFFFFF\" height=\"45.9375\" id=\"E4\" rx=\"10\" ry=\"10\" style=\"stroke: #383838; stroke-width: 1.5;\" width=\"42\" x=\"106\" y=\"347\"/><text fill=\"#000000\" font-family=\"sans-serif\" font-size=\"12\" font-style=\"italic\" lengthAdjust=\"spacingAndGlyphs\" textLength=\"40\" x=\"107\" y=\"363.1387\">«part»</text><text fill=\"#000000\" font-family=\"sans-serif\" font-size=\"12\" lengthAdjust=\"spacingAndGlyphs\" textLength=\"24\" x=\"115\" y=\"377.1074\">b: B</text><line style=\"stroke: #383838; stroke-width: 1.5;\" x1=\"107\" x2=\"147\" y1=\"384.9375\" y2=\"384.9375\"/></a><!--MD5=[60a26617385b1d2d0262a64233df1f8d]\n",
       "class E6--><a href=\"psysml:7287ae62-763a-4b84-8405-f658443750c5\" target=\"_top\" title=\"psysml:7287ae62-763a-4b84-8405-f658443750c5\" xlink:actuate=\"onRequest\" xlink:href=\"psysml:7287ae62-763a-4b84-8405-f658443750c5\" xlink:show=\"new\" xlink:title=\"psysml:7287ae62-763a-4b84-8405-f658443750c5\" xlink:type=\"simple\"><rect fill=\"#FFFFFF\" height=\"75.5469\" id=\"E6\" style=\"stroke: #383838; stroke-width: 1.5;\" width=\"66\" x=\"77\" y=\"454\"/><text fill=\"#000000\" font-family=\"sans-serif\" font-size=\"12\" font-style=\"italic\" lengthAdjust=\"spacingAndGlyphs\" textLength=\"64\" x=\"78\" y=\"470.1387\">«part def»</text><text fill=\"#000000\" font-family=\"sans-serif\" font-size=\"12\" lengthAdjust=\"spacingAndGlyphs\" textLength=\"8\" x=\"106\" y=\"484.1074\">B</text><line style=\"stroke: #383838; stroke-width: 1.5;\" x1=\"78\" x2=\"142\" y1=\"491.9375\" y2=\"491.9375\"/><text fill=\"#000000\" font-family=\"sans-serif\" font-size=\"11\" lengthAdjust=\"spacingAndGlyphs\" textLength=\"31\" x=\"83\" y=\"522.9526\">x: ~C</text><line style=\"stroke: #383838; stroke-width: 1.0;\" x1=\"78\" x2=\"95\" y1=\"506.3398\" y2=\"506.3398\"/><text fill=\"#000000\" font-family=\"sans-serif\" font-size=\"11\" lengthAdjust=\"spacingAndGlyphs\" textLength=\"30\" x=\"95\" y=\"509.6479\">ports</text><line style=\"stroke: #383838; stroke-width: 1.0;\" x1=\"125\" x2=\"142\" y1=\"506.3398\" y2=\"506.3398\"/></a><!--MD5=[b9389687b975829384b498ac4b7476b2]\n",
       "class E8--><a href=\"psysml:4e9eccbd-3da0-4f6c-a773-1d808904fdc5\" target=\"_top\" title=\"psysml:4e9eccbd-3da0-4f6c-a773-1d808904fdc5\" xlink:actuate=\"onRequest\" xlink:href=\"psysml:4e9eccbd-3da0-4f6c-a773-1d808904fdc5\" xlink:show=\"new\" xlink:title=\"psysml:4e9eccbd-3da0-4f6c-a773-1d808904fdc5\" xlink:type=\"simple\"><rect fill=\"#FFFFFF\" height=\"45.9375\" id=\"E8\" rx=\"10\" ry=\"10\" style=\"stroke: #383838; stroke-width: 1.5;\" width=\"42\" x=\"151\" y=\"594.5\"/><text fill=\"#000000\" font-family=\"sans-serif\" font-size=\"12\" font-style=\"italic\" lengthAdjust=\"spacingAndGlyphs\" textLength=\"40\" x=\"152\" y=\"610.6387\">«part»</text><text fill=\"#000000\" font-family=\"sans-serif\" font-size=\"12\" lengthAdjust=\"spacingAndGlyphs\" textLength=\"24\" x=\"160\" y=\"624.6074\">a: A</text><line style=\"stroke: #383838; stroke-width: 1.5;\" x1=\"152\" x2=\"192\" y1=\"632.4375\" y2=\"632.4375\"/></a><!--MD5=[96f4274e9e20536e775497830990834d]\n",
       "class E10--><a href=\"psysml:8c4f99f3-2675-4f4d-a756-da09d407570d\" target=\"_top\" title=\"psysml:8c4f99f3-2675-4f4d-a756-da09d407570d\" xlink:actuate=\"onRequest\" xlink:href=\"psysml:8c4f99f3-2675-4f4d-a756-da09d407570d\" xlink:show=\"new\" xlink:title=\"psysml:8c4f99f3-2675-4f4d-a756-da09d407570d\" xlink:type=\"simple\"><rect fill=\"#FFFFFF\" height=\"75.5469\" id=\"E10\" style=\"stroke: #383838; stroke-width: 1.5;\" width=\"84\" x=\"32\" y=\"41\"/><text fill=\"#000000\" font-family=\"sans-serif\" font-size=\"12\" font-style=\"italic\" lengthAdjust=\"spacingAndGlyphs\" textLength=\"64\" x=\"42\" y=\"57.1387\">«port def»</text><text fill=\"#000000\" font-family=\"sans-serif\" font-size=\"12\" lengthAdjust=\"spacingAndGlyphs\" textLength=\"8\" x=\"70\" y=\"71.1074\">C</text><line style=\"stroke: #383838; stroke-width: 1.5;\" x1=\"33\" x2=\"115\" y1=\"78.9375\" y2=\"78.9375\"/><text fill=\"#000000\" font-family=\"sans-serif\" font-size=\"11\" lengthAdjust=\"spacingAndGlyphs\" textLength=\"37\" x=\"38\" y=\"109.9526\">y: A, B</text><text fill=\"#000000\" font-family=\"sans-serif\" font-size=\"11\" font-weight=\"bold\" lengthAdjust=\"spacingAndGlyphs\" textLength=\"15\" x=\"79\" y=\"109.9526\">as</text><text fill=\"#000000\" font-family=\"sans-serif\" font-size=\"11\" lengthAdjust=\"spacingAndGlyphs\" textLength=\"12\" x=\"98\" y=\"109.9526\">z2</text><line style=\"stroke: #383838; stroke-width: 1.0;\" x1=\"33\" x2=\"43\" y1=\"93.3398\" y2=\"93.3398\"/><text fill=\"#000000\" font-family=\"sans-serif\" font-size=\"11\" lengthAdjust=\"spacingAndGlyphs\" textLength=\"62\" x=\"43\" y=\"96.6479\">references</text><line style=\"stroke: #383838; stroke-width: 1.0;\" x1=\"105\" x2=\"115\" y1=\"93.3398\" y2=\"93.3398\"/></a><a href=\"psysml:8a2f941b-3a97-4b54-9145-5eb7e96c5b49\" target=\"_top\" title=\"psysml:8a2f941b-3a97-4b54-9145-5eb7e96c5b49\" xlink:actuate=\"onRequest\" xlink:href=\"psysml:8a2f941b-3a97-4b54-9145-5eb7e96c5b49\" xlink:show=\"new\" xlink:title=\"psysml:8a2f941b-3a97-4b54-9145-5eb7e96c5b49\" xlink:type=\"simple\"><polygon fill=\"#FFFFFF\" points=\"86,591,102,591,109,613.2969,116,613.2969,116,643.5938,86,643.5938,86,591\" style=\"stroke: #000000; stroke-width: 1.5;\"/><line style=\"stroke: #000000; stroke-width: 1.5;\" x1=\"86\" x2=\"109\" y1=\"613.2969\" y2=\"613.2969\"/><text fill=\"#000000\" font-family=\"sans-serif\" font-size=\"14\" font-weight=\"bold\" lengthAdjust=\"spacingAndGlyphs\" textLength=\"10\" x=\"90\" y=\"605.9951\">P</text></a><!--MD5=[2720a5a1f2c3fca2055b230370638851]\n",
       "link E2 to E3--><a href=\"psysml:f1219804-170d-45ce-a1b2-74df9d2ed655\" target=\"_top\" title=\"psysml:f1219804-170d-45ce-a1b2-74df9d2ed655\" xlink:actuate=\"onRequest\" xlink:href=\"psysml:f1219804-170d-45ce-a1b2-74df9d2ed655\" xlink:show=\"new\" xlink:title=\"psysml:f1219804-170d-45ce-a1b2-74df9d2ed655\" xlink:type=\"simple\"><path d=\"M168.9,102.28 C166.28,121.12 162.41,148.97 158.94,173.94 \" fill=\"none\" id=\"E2-&gt;E3\" style=\"stroke: #383838; stroke-width: 1.0;\"/><polygon fill=\"#FFFFFF\" points=\"156.15,193.98,151.8354,174.1966,165.7018,176.1261,156.15,193.98\" style=\"stroke: #383838; stroke-width: 1.0;\"/><ellipse cx=\"154.6019\" cy=\"168.8266\" fill=\"#383838\" rx=\"2\" ry=\"2\" style=\"stroke: #383838; stroke-width: 1.0;\"/><ellipse cx=\"164.5065\" cy=\"170.2048\" fill=\"#383838\" rx=\"2\" ry=\"2\" style=\"stroke: #383838; stroke-width: 1.0;\"/></a><!--MD5=[4672eba38e49728da53d11aeb285b987]\n",
       "reverse link E3 to E4--><a href=\"psysml:ebd0a90b-6b0b-4fe7-b689-bf63abb6537b\" target=\"_top\" title=\"psysml:ebd0a90b-6b0b-4fe7-b689-bf63abb6537b\" xlink:actuate=\"onRequest\" xlink:href=\"psysml:ebd0a90b-6b0b-4fe7-b689-bf63abb6537b\" xlink:show=\"new\" xlink:title=\"psysml:ebd0a90b-6b0b-4fe7-b689-bf63abb6537b\" xlink:type=\"simple\"><path d=\"M142.17,283.02 C138.31,304.93 133.97,329.52 130.92,346.77 \" fill=\"none\" id=\"E3&lt;-E4\" style=\"stroke: #383838; stroke-width: 1.0;\"/><polygon fill=\"#383838\" points=\"144.44,270.16,139.4532,275.3688,142.3433,281.9754,147.3301,276.7666,144.44,270.16\" style=\"stroke: #383838; stroke-width: 1.0;\"/></a><!--MD5=[79568f1e445c3877b6a54524624ccc7d]\n",
       "link E4 to E6--><a href=\"psysml:0b7e6d0b-da90-43fd-82ff-3f36fc5229c0\" target=\"_top\" title=\"psysml:0b7e6d0b-da90-43fd-82ff-3f36fc5229c0\" xlink:actuate=\"onRequest\" xlink:href=\"psysml:0b7e6d0b-da90-43fd-82ff-3f36fc5229c0\" xlink:show=\"new\" xlink:title=\"psysml:0b7e6d0b-da90-43fd-82ff-3f36fc5229c0\" xlink:type=\"simple\"><path d=\"M123.88,393.01 C122.25,404.51 120.18,419.17 118.13,433.62 \" fill=\"none\" id=\"E4-&gt;E6\" style=\"stroke: #383838; stroke-width: 1.0;\"/><polygon fill=\"#FFFFFF\" points=\"115.3,453.57,111.0294,433.777,124.8914,435.7373,115.3,453.57\" style=\"stroke: #383838; stroke-width: 1.0;\"/><ellipse cx=\"113.8078\" cy=\"428.4132\" fill=\"#383838\" rx=\"2\" ry=\"2\" style=\"stroke: #383838; stroke-width: 1.0;\"/><ellipse cx=\"123.7093\" cy=\"429.8134\" fill=\"#383838\" rx=\"2\" ry=\"2\" style=\"stroke: #383838; stroke-width: 1.0;\"/></a><!--MD5=[3f50a3473f1dfb74d3f76443e03635af]\n",
       "reverse link E6 to E7--><a href=\"psysml:8a2f941b-3a97-4b54-9145-5eb7e96c5b49\" target=\"_top\" title=\"psysml:8a2f941b-3a97-4b54-9145-5eb7e96c5b49\" xlink:actuate=\"onRequest\" xlink:href=\"psysml:8a2f941b-3a97-4b54-9145-5eb7e96c5b49\" xlink:show=\"new\" xlink:title=\"psysml:8a2f941b-3a97-4b54-9145-5eb7e96c5b49\" xlink:type=\"simple\"><path d=\"M106.18,545.35 C105.04,561.08 103.83,577.65 102.87,590.83 \" fill=\"none\" id=\"E6&lt;-E7\" style=\"stroke: #383838; stroke-width: 1.0;\"/><ellipse cx=\"106.7138\" cy=\"538.0285\" fill=\"#FFFFFF\" rx=\"8\" ry=\"8\" style=\"stroke: #383838; stroke-width: 1.0;\"/><line style=\"stroke: #383838; stroke-width: 1.0;\" x1=\"106.1276\" x2=\"107.3\" y1=\"546.007\" y2=\"530.05\"/><line style=\"stroke: #383838; stroke-width: 1.0;\" x1=\"98.7353\" x2=\"114.6923\" y1=\"537.4423\" y2=\"538.6147\"/></a><!--MD5=[95fa686b5a16158bcdbcaeead89f639b]\n",
       "link E8 to E3--><a href=\"psysml:edfb0c1d-eeea-43d5-bece-b0bce4203cff\" target=\"_top\" title=\"psysml:edfb0c1d-eeea-43d5-bece-b0bce4203cff\" xlink:actuate=\"onRequest\" xlink:href=\"psysml:edfb0c1d-eeea-43d5-bece-b0bce4203cff\" xlink:show=\"new\" xlink:title=\"psysml:edfb0c1d-eeea-43d5-bece-b0bce4203cff\" xlink:type=\"simple\"><path d=\"M172.32,594.45 C172.8,548.41 173.03,438.69 166,347 C164.57,328.37 162.18,308.13 159.73,289.94 \" fill=\"none\" id=\"E8-&gt;E3\" style=\"stroke: #383838; stroke-width: 1.0;\"/><polygon fill=\"#FFFFFF\" points=\"156.92,270.12,166.5114,287.9527,152.6494,289.913,156.92,270.12\" style=\"stroke: #383838; stroke-width: 1.0;\"/><ellipse cx=\"165.3293\" cy=\"293.8766\" fill=\"#383838\" rx=\"2\" ry=\"2\" style=\"stroke: #383838; stroke-width: 1.0;\"/><ellipse cx=\"155.4278\" cy=\"295.2768\" fill=\"#383838\" rx=\"2\" ry=\"2\" style=\"stroke: #383838; stroke-width: 1.0;\"/></a><!--MD5=[f4cf0736d43fd73c4ef68817c49d37d5]\n",
       "reverse link E6 to E8--><a href=\"psysml:4e9eccbd-3da0-4f6c-a773-1d808904fdc5\" target=\"_top\" title=\"psysml:4e9eccbd-3da0-4f6c-a773-1d808904fdc5\" xlink:actuate=\"onRequest\" xlink:href=\"psysml:4e9eccbd-3da0-4f6c-a773-1d808904fdc5\" xlink:show=\"new\" xlink:title=\"psysml:4e9eccbd-3da0-4f6c-a773-1d808904fdc5\" xlink:type=\"simple\"><path d=\"M134.44,541.68 C143.55,559.83 153.45,579.55 160.8,594.19 \" fill=\"none\" id=\"E6&lt;-E8\" style=\"stroke: #383838; stroke-width: 1.0;\"/><polygon fill=\"#383838\" points=\"128.6,530.05,127.7161,537.2067,133.9824,540.7752,134.8663,533.6185,128.6,530.05\" style=\"stroke: #383838; stroke-width: 1.0;\"/></a><!--MD5=[8e04057e7b3cbc0dca4fc78ea351e2da]\n",
       "reverse link E10 to E3--><a href=\"psysml:800170d4-464e-4c2e-99b4-fb1d2de59c3f\" target=\"_top\" title=\"psysml:800170d4-464e-4c2e-99b4-fb1d2de59c3f\" xlink:actuate=\"onRequest\" xlink:href=\"psysml:800170d4-464e-4c2e-99b4-fb1d2de59c3f\" xlink:show=\"new\" xlink:title=\"psysml:800170d4-464e-4c2e-99b4-fb1d2de59c3f\" xlink:type=\"simple\"><path d=\"M98.98,128.98 C109.72,150.06 122.08,174.29 132.05,193.84 \" fill=\"none\" id=\"E10&lt;-E3\" style=\"stroke: #383838; stroke-width: 1.0;\"/><polygon fill=\"#FFFFFF\" points=\"93.03,117.33,92.1919,124.4922,98.4809,128.0206,99.319,120.8583,93.03,117.33\" style=\"stroke: #383838; stroke-width: 1.0;\"/><text fill=\"#000000\" font-family=\"sans-serif\" font-size=\"13\" lengthAdjust=\"spacingAndGlyphs\" textLength=\"7\" x=\"115\" y=\"160.0669\">y</text></a><!--MD5=[604cbf994c02b74b117f728a71673cea]\n",
       "reverse link E10 to E6--><a href=\"psysml:800170d4-464e-4c2e-99b4-fb1d2de59c3f\" target=\"_top\" title=\"psysml:800170d4-464e-4c2e-99b4-fb1d2de59c3f\" xlink:actuate=\"onRequest\" xlink:href=\"psysml:800170d4-464e-4c2e-99b4-fb1d2de59c3f\" xlink:show=\"new\" xlink:title=\"psysml:800170d4-464e-4c2e-99b4-fb1d2de59c3f\" xlink:type=\"simple\"><path d=\"M73.89,130.53 C74.34,192.6 77.02,300.97 89,393 C91.63,413.19 96.24,435.39 100.47,453.55 \" fill=\"none\" id=\"E10&lt;-E6\" style=\"stroke: #383838; stroke-width: 1.0;\"/><polygon fill=\"#FFFFFF\" points=\"73.83,117.27,69.863,123.2919,73.8959,129.2698,77.8629,123.2479,73.83,117.27\" style=\"stroke: #383838; stroke-width: 1.0;\"/><text fill=\"#000000\" font-family=\"sans-serif\" font-size=\"13\" lengthAdjust=\"spacingAndGlyphs\" textLength=\"7\" x=\"82\" y=\"313.0669\">y</text></a><!--MD5=[f8f20a50cda4171d928f7210108270f0]\n",
       "@startuml\r\n",
       "top to bottom direction\r\n",
       "skinparam monochrome true\r\n",
       "skinparam classbackgroundcolor white\r\n",
       "skinparam shadowing false\r\n",
       "skinparam wrapWidth 300\r\n",
       "hide circle\r\n",
       "\r\n",
       "package \"BlockTest\" as E1  [[psysml:1f80f8be-3c31-4480-9ece-24461005c64a ]]  {\r\n",
       "comp usage \"f: A\" as E2  <<(T,blue)part>> [[psysml:77ca47e2-95bd-4f5e-baaf-35974d96745c ]] {\r\n",
       "}\r\n",
       "comp def \"A\" as E3  <<(T,blue)part def>> [[psysml:feda5581-6f8c-419d-8ba7-a8a04be8503b ]] {\r\n",
       "- - ports - -\r\n",
       "c: C\r\n",
       "}\r\n",
       "comp usage \"b: B\" as E4  <<(T,blue)part>> [[psysml:ebd0a90b-6b0b-4fe7-b689-bf63abb6537b ]] {\r\n",
       "}\r\n",
       "comp def \"B\" as E6  <<(T,blue)part def>> [[psysml:7287ae62-763a-4b84-8405-f658443750c5 ]] {\r\n",
       "- - ports - -\r\n",
       "x: ~C\r\n",
       "}\r\n",
       "package \"P\" as E7  [[psysml:8a2f941b-3a97-4b54-9145-5eb7e96c5b49 ]]  {\r\n",
       "}\r\n",
       "comp usage \"a: A\" as E8  <<(T,blue)part>> [[psysml:4e9eccbd-3da0-4f6c-a773-1d808904fdc5 ]] {\r\n",
       "}\r\n",
       "comp def \"C\" as E10  <<(T,blue)port def>> [[psysml:8c4f99f3-2675-4f4d-a756-da09d407570d ]] {\r\n",
       "- - references - -\r\n",
       "y: A, B <b>as</b> z2 \r\n",
       "}\r\n",
       "E2 - -:|> E3 [[psysml:f1219804-170d-45ce-a1b2-74df9d2ed655 ]] \r\n",
       "E3 *- - E4 [[psysml:ebd0a90b-6b0b-4fe7-b689-bf63abb6537b ]] \r\n",
       "E4 - -:|> E6 [[psysml:0b7e6d0b-da90-43fd-82ff-3f36fc5229c0 ]] \r\n",
       "E6 +- - E7 [[psysml:8a2f941b-3a97-4b54-9145-5eb7e96c5b49 ]] \r\n",
       "E8 - -:|> E3 [[psysml:edfb0c1d-eeea-43d5-bece-b0bce4203cff ]] \r\n",
       "E6 *- - E8 [[psysml:4e9eccbd-3da0-4f6c-a773-1d808904fdc5 ]] \r\n",
       "E10 o- - E3 [[psysml:800170d4-464e-4c2e-99b4-fb1d2de59c3f ]] : y\r\n",
       "E10 o- - E6 [[psysml:800170d4-464e-4c2e-99b4-fb1d2de59c3f ]] : y\r\n",
       "}\r\n",
       "@enduml\r\n",
       "\n",
       "PlantUML version 1.2020.13(Sat Jun 13 12:26:38 UTC 2020)\n",
       "(EPL source distribution)\n",
       "Java Runtime: OpenJDK Runtime Environment\n",
       "JVM: OpenJDK 64-Bit Server VM\n",
       "Default Encoding: UTF-8\n",
       "Language: en\n",
       "Country: null\n",
       "--></g></svg>"
      ]
     },
     "execution_count": 44,
     "metadata": {},
     "output_type": "execute_result"
    }
   ],
   "source": [
    "%viz --style=\"TB\" --view=\"Default\" \"BlockTest\""
   ]
  },
  {
   "cell_type": "code",
   "execution_count": 45,
   "id": "quick-terrace",
   "metadata": {
    "execution": {
     "iopub.execute_input": "2021-03-26T12:07:41.021600Z",
     "iopub.status.busy": "2021-03-26T12:07:41.020618Z",
     "iopub.status.idle": "2021-03-26T12:07:41.076307Z",
     "shell.execute_reply": "2021-03-26T12:07:41.074914Z"
    }
   },
   "outputs": [
    {
     "data": {
      "image/svg+xml": [
       "<?xml version=\"1.0\" encoding=\"UTF-8\" standalone=\"no\"?><svg xmlns=\"http://www.w3.org/2000/svg\" xmlns:xlink=\"http://www.w3.org/1999/xlink\" contentScriptType=\"application/ecmascript\" contentStyleType=\"text/css\" height=\"672px\" preserveAspectRatio=\"none\" style=\"width:231px;height:672px;\" version=\"1.1\" viewBox=\"0 0 231 672\" width=\"231px\" zoomAndPan=\"magnify\"><defs/><g><!--MD5=[fbc87193dbaf4d95561dea2c320d4a47]\n",
       "cluster E1--><a href=\"psysml:1f80f8be-3c31-4480-9ece-24461005c64a\" target=\"_top\" title=\"psysml:1f80f8be-3c31-4480-9ece-24461005c64a\" xlink:actuate=\"onRequest\" xlink:href=\"psysml:1f80f8be-3c31-4480-9ece-24461005c64a\" xlink:show=\"new\" xlink:title=\"psysml:1f80f8be-3c31-4480-9ece-24461005c64a\" xlink:type=\"simple\"><polygon fill=\"#FFFFFF\" points=\"16,6,99,6,106,28.2969,209,28.2969,209,660,16,660,16,6\" style=\"stroke: #000000; stroke-width: 1.5;\"/><line style=\"stroke: #000000; stroke-width: 1.5;\" x1=\"16\" x2=\"106\" y1=\"28.2969\" y2=\"28.2969\"/><text fill=\"#000000\" font-family=\"sans-serif\" font-size=\"14\" font-weight=\"bold\" lengthAdjust=\"spacingAndGlyphs\" textLength=\"77\" x=\"20\" y=\"20.9951\">BlockTest</text></a><!--MD5=[b4997ac47864f28c2f74865a473b2911]\n",
       "class E2--><a href=\"psysml:77ca47e2-95bd-4f5e-baaf-35974d96745c\" target=\"_top\" title=\"psysml:77ca47e2-95bd-4f5e-baaf-35974d96745c\" xlink:actuate=\"onRequest\" xlink:href=\"psysml:77ca47e2-95bd-4f5e-baaf-35974d96745c\" xlink:show=\"new\" xlink:title=\"psysml:77ca47e2-95bd-4f5e-baaf-35974d96745c\" xlink:type=\"simple\"><rect fill=\"#FFFFFF\" height=\"45.9375\" id=\"E2\" rx=\"10\" ry=\"10\" style=\"stroke: #383838; stroke-width: 1.5;\" width=\"42\" x=\"151\" y=\"56\"/><text fill=\"#000000\" font-family=\"sans-serif\" font-size=\"12\" font-style=\"italic\" lengthAdjust=\"spacingAndGlyphs\" textLength=\"40\" x=\"152\" y=\"72.1387\">«part»</text><text fill=\"#000000\" font-family=\"sans-serif\" font-size=\"12\" lengthAdjust=\"spacingAndGlyphs\" textLength=\"20\" x=\"162\" y=\"86.1074\">f: A</text><line style=\"stroke: #383838; stroke-width: 1.5;\" x1=\"152\" x2=\"192\" y1=\"93.9375\" y2=\"93.9375\"/></a><!--MD5=[09b614a08d8cba4a07c9adeb5e0fee81]\n",
       "class E3--><a href=\"psysml:feda5581-6f8c-419d-8ba7-a8a04be8503b\" target=\"_top\" title=\"psysml:feda5581-6f8c-419d-8ba7-a8a04be8503b\" xlink:actuate=\"onRequest\" xlink:href=\"psysml:feda5581-6f8c-419d-8ba7-a8a04be8503b\" xlink:show=\"new\" xlink:title=\"psysml:feda5581-6f8c-419d-8ba7-a8a04be8503b\" xlink:type=\"simple\"><rect fill=\"#FFFFFF\" height=\"75.5469\" id=\"E3\" style=\"stroke: #383838; stroke-width: 1.5;\" width=\"66\" x=\"118\" y=\"194\"/><text fill=\"#000000\" font-family=\"sans-serif\" font-size=\"12\" font-style=\"italic\" lengthAdjust=\"spacingAndGlyphs\" textLength=\"64\" x=\"119\" y=\"210.1387\">«part def»</text><text fill=\"#000000\" font-family=\"sans-serif\" font-size=\"12\" lengthAdjust=\"spacingAndGlyphs\" textLength=\"8\" x=\"147\" y=\"224.1074\">A</text><line style=\"stroke: #383838; stroke-width: 1.5;\" x1=\"119\" x2=\"183\" y1=\"231.9375\" y2=\"231.9375\"/><text fill=\"#000000\" font-family=\"sans-serif\" font-size=\"11\" lengthAdjust=\"spacingAndGlyphs\" textLength=\"22\" x=\"124\" y=\"262.9526\">c: C</text><line style=\"stroke: #383838; stroke-width: 1.0;\" x1=\"119\" x2=\"136\" y1=\"246.3398\" y2=\"246.3398\"/><text fill=\"#000000\" font-family=\"sans-serif\" font-size=\"11\" lengthAdjust=\"spacingAndGlyphs\" textLength=\"30\" x=\"136\" y=\"249.6479\">ports</text><line style=\"stroke: #383838; stroke-width: 1.0;\" x1=\"166\" x2=\"183\" y1=\"246.3398\" y2=\"246.3398\"/></a><!--MD5=[ebbe1d658d1005bcc118a6aa81145e00]\n",
       "class E4--><a href=\"psysml:ebd0a90b-6b0b-4fe7-b689-bf63abb6537b\" target=\"_top\" title=\"psysml:ebd0a90b-6b0b-4fe7-b689-bf63abb6537b\" xlink:actuate=\"onRequest\" xlink:href=\"psysml:ebd0a90b-6b0b-4fe7-b689-bf63abb6537b\" xlink:show=\"new\" xlink:title=\"psysml:ebd0a90b-6b0b-4fe7-b689-bf63abb6537b\" xlink:type=\"simple\"><rect fill=\"#FFFFFF\" height=\"45.9375\" id=\"E4\" rx=\"10\" ry=\"10\" style=\"stroke: #383838; stroke-width: 1.5;\" width=\"42\" x=\"106\" y=\"347\"/><text fill=\"#000000\" font-family=\"sans-serif\" font-size=\"12\" font-style=\"italic\" lengthAdjust=\"spacingAndGlyphs\" textLength=\"40\" x=\"107\" y=\"363.1387\">«part»</text><text fill=\"#000000\" font-family=\"sans-serif\" font-size=\"12\" lengthAdjust=\"spacingAndGlyphs\" textLength=\"24\" x=\"115\" y=\"377.1074\">b: B</text><line style=\"stroke: #383838; stroke-width: 1.5;\" x1=\"107\" x2=\"147\" y1=\"384.9375\" y2=\"384.9375\"/></a><!--MD5=[60a26617385b1d2d0262a64233df1f8d]\n",
       "class E6--><a href=\"psysml:7287ae62-763a-4b84-8405-f658443750c5\" target=\"_top\" title=\"psysml:7287ae62-763a-4b84-8405-f658443750c5\" xlink:actuate=\"onRequest\" xlink:href=\"psysml:7287ae62-763a-4b84-8405-f658443750c5\" xlink:show=\"new\" xlink:title=\"psysml:7287ae62-763a-4b84-8405-f658443750c5\" xlink:type=\"simple\"><rect fill=\"#FFFFFF\" height=\"75.5469\" id=\"E6\" style=\"stroke: #383838; stroke-width: 1.5;\" width=\"66\" x=\"77\" y=\"454\"/><text fill=\"#000000\" font-family=\"sans-serif\" font-size=\"12\" font-style=\"italic\" lengthAdjust=\"spacingAndGlyphs\" textLength=\"64\" x=\"78\" y=\"470.1387\">«part def»</text><text fill=\"#000000\" font-family=\"sans-serif\" font-size=\"12\" lengthAdjust=\"spacingAndGlyphs\" textLength=\"8\" x=\"106\" y=\"484.1074\">B</text><line style=\"stroke: #383838; stroke-width: 1.5;\" x1=\"78\" x2=\"142\" y1=\"491.9375\" y2=\"491.9375\"/><text fill=\"#000000\" font-family=\"sans-serif\" font-size=\"11\" lengthAdjust=\"spacingAndGlyphs\" textLength=\"31\" x=\"83\" y=\"522.9526\">x: ~C</text><line style=\"stroke: #383838; stroke-width: 1.0;\" x1=\"78\" x2=\"95\" y1=\"506.3398\" y2=\"506.3398\"/><text fill=\"#000000\" font-family=\"sans-serif\" font-size=\"11\" lengthAdjust=\"spacingAndGlyphs\" textLength=\"30\" x=\"95\" y=\"509.6479\">ports</text><line style=\"stroke: #383838; stroke-width: 1.0;\" x1=\"125\" x2=\"142\" y1=\"506.3398\" y2=\"506.3398\"/></a><!--MD5=[b9389687b975829384b498ac4b7476b2]\n",
       "class E8--><a href=\"psysml:4e9eccbd-3da0-4f6c-a773-1d808904fdc5\" target=\"_top\" title=\"psysml:4e9eccbd-3da0-4f6c-a773-1d808904fdc5\" xlink:actuate=\"onRequest\" xlink:href=\"psysml:4e9eccbd-3da0-4f6c-a773-1d808904fdc5\" xlink:show=\"new\" xlink:title=\"psysml:4e9eccbd-3da0-4f6c-a773-1d808904fdc5\" xlink:type=\"simple\"><rect fill=\"#FFFFFF\" height=\"45.9375\" id=\"E8\" rx=\"10\" ry=\"10\" style=\"stroke: #383838; stroke-width: 1.5;\" width=\"42\" x=\"151\" y=\"594.5\"/><text fill=\"#000000\" font-family=\"sans-serif\" font-size=\"12\" font-style=\"italic\" lengthAdjust=\"spacingAndGlyphs\" textLength=\"40\" x=\"152\" y=\"610.6387\">«part»</text><text fill=\"#000000\" font-family=\"sans-serif\" font-size=\"12\" lengthAdjust=\"spacingAndGlyphs\" textLength=\"24\" x=\"160\" y=\"624.6074\">a: A</text><line style=\"stroke: #383838; stroke-width: 1.5;\" x1=\"152\" x2=\"192\" y1=\"632.4375\" y2=\"632.4375\"/></a><!--MD5=[96f4274e9e20536e775497830990834d]\n",
       "class E10--><a href=\"psysml:8c4f99f3-2675-4f4d-a756-da09d407570d\" target=\"_top\" title=\"psysml:8c4f99f3-2675-4f4d-a756-da09d407570d\" xlink:actuate=\"onRequest\" xlink:href=\"psysml:8c4f99f3-2675-4f4d-a756-da09d407570d\" xlink:show=\"new\" xlink:title=\"psysml:8c4f99f3-2675-4f4d-a756-da09d407570d\" xlink:type=\"simple\"><rect fill=\"#FFFFFF\" height=\"75.5469\" id=\"E10\" style=\"stroke: #383838; stroke-width: 1.5;\" width=\"84\" x=\"32\" y=\"41\"/><text fill=\"#000000\" font-family=\"sans-serif\" font-size=\"12\" font-style=\"italic\" lengthAdjust=\"spacingAndGlyphs\" textLength=\"64\" x=\"42\" y=\"57.1387\">«port def»</text><text fill=\"#000000\" font-family=\"sans-serif\" font-size=\"12\" lengthAdjust=\"spacingAndGlyphs\" textLength=\"8\" x=\"70\" y=\"71.1074\">C</text><line style=\"stroke: #383838; stroke-width: 1.5;\" x1=\"33\" x2=\"115\" y1=\"78.9375\" y2=\"78.9375\"/><text fill=\"#000000\" font-family=\"sans-serif\" font-size=\"11\" lengthAdjust=\"spacingAndGlyphs\" textLength=\"37\" x=\"38\" y=\"109.9526\">y: A, B</text><text fill=\"#000000\" font-family=\"sans-serif\" font-size=\"11\" font-weight=\"bold\" lengthAdjust=\"spacingAndGlyphs\" textLength=\"15\" x=\"79\" y=\"109.9526\">as</text><text fill=\"#000000\" font-family=\"sans-serif\" font-size=\"11\" lengthAdjust=\"spacingAndGlyphs\" textLength=\"12\" x=\"98\" y=\"109.9526\">z2</text><line style=\"stroke: #383838; stroke-width: 1.0;\" x1=\"33\" x2=\"43\" y1=\"93.3398\" y2=\"93.3398\"/><text fill=\"#000000\" font-family=\"sans-serif\" font-size=\"11\" lengthAdjust=\"spacingAndGlyphs\" textLength=\"62\" x=\"43\" y=\"96.6479\">references</text><line style=\"stroke: #383838; stroke-width: 1.0;\" x1=\"105\" x2=\"115\" y1=\"93.3398\" y2=\"93.3398\"/></a><a href=\"psysml:8a2f941b-3a97-4b54-9145-5eb7e96c5b49\" target=\"_top\" title=\"psysml:8a2f941b-3a97-4b54-9145-5eb7e96c5b49\" xlink:actuate=\"onRequest\" xlink:href=\"psysml:8a2f941b-3a97-4b54-9145-5eb7e96c5b49\" xlink:show=\"new\" xlink:title=\"psysml:8a2f941b-3a97-4b54-9145-5eb7e96c5b49\" xlink:type=\"simple\"><polygon fill=\"#FFFFFF\" points=\"86,591,102,591,109,613.2969,116,613.2969,116,643.5938,86,643.5938,86,591\" style=\"stroke: #000000; stroke-width: 1.5;\"/><line style=\"stroke: #000000; stroke-width: 1.5;\" x1=\"86\" x2=\"109\" y1=\"613.2969\" y2=\"613.2969\"/><text fill=\"#000000\" font-family=\"sans-serif\" font-size=\"14\" font-weight=\"bold\" lengthAdjust=\"spacingAndGlyphs\" textLength=\"10\" x=\"90\" y=\"605.9951\">P</text></a><!--MD5=[2720a5a1f2c3fca2055b230370638851]\n",
       "link E2 to E3--><a href=\"psysml:f1219804-170d-45ce-a1b2-74df9d2ed655\" target=\"_top\" title=\"psysml:f1219804-170d-45ce-a1b2-74df9d2ed655\" xlink:actuate=\"onRequest\" xlink:href=\"psysml:f1219804-170d-45ce-a1b2-74df9d2ed655\" xlink:show=\"new\" xlink:title=\"psysml:f1219804-170d-45ce-a1b2-74df9d2ed655\" xlink:type=\"simple\"><path d=\"M168.9,102.28 C166.28,121.12 162.41,148.97 158.94,173.94 \" fill=\"none\" id=\"E2-&gt;E3\" style=\"stroke: #383838; stroke-width: 1.0;\"/><polygon fill=\"#FFFFFF\" points=\"156.15,193.98,151.8354,174.1966,165.7018,176.1261,156.15,193.98\" style=\"stroke: #383838; stroke-width: 1.0;\"/><ellipse cx=\"154.6019\" cy=\"168.8266\" fill=\"#383838\" rx=\"2\" ry=\"2\" style=\"stroke: #383838; stroke-width: 1.0;\"/><ellipse cx=\"164.5065\" cy=\"170.2048\" fill=\"#383838\" rx=\"2\" ry=\"2\" style=\"stroke: #383838; stroke-width: 1.0;\"/></a><!--MD5=[4672eba38e49728da53d11aeb285b987]\n",
       "reverse link E3 to E4--><a href=\"psysml:ebd0a90b-6b0b-4fe7-b689-bf63abb6537b\" target=\"_top\" title=\"psysml:ebd0a90b-6b0b-4fe7-b689-bf63abb6537b\" xlink:actuate=\"onRequest\" xlink:href=\"psysml:ebd0a90b-6b0b-4fe7-b689-bf63abb6537b\" xlink:show=\"new\" xlink:title=\"psysml:ebd0a90b-6b0b-4fe7-b689-bf63abb6537b\" xlink:type=\"simple\"><path d=\"M142.17,283.02 C138.31,304.93 133.97,329.52 130.92,346.77 \" fill=\"none\" id=\"E3&lt;-E4\" style=\"stroke: #383838; stroke-width: 1.0;\"/><polygon fill=\"#383838\" points=\"144.44,270.16,139.4532,275.3688,142.3433,281.9754,147.3301,276.7666,144.44,270.16\" style=\"stroke: #383838; stroke-width: 1.0;\"/></a><!--MD5=[79568f1e445c3877b6a54524624ccc7d]\n",
       "link E4 to E6--><a href=\"psysml:0b7e6d0b-da90-43fd-82ff-3f36fc5229c0\" target=\"_top\" title=\"psysml:0b7e6d0b-da90-43fd-82ff-3f36fc5229c0\" xlink:actuate=\"onRequest\" xlink:href=\"psysml:0b7e6d0b-da90-43fd-82ff-3f36fc5229c0\" xlink:show=\"new\" xlink:title=\"psysml:0b7e6d0b-da90-43fd-82ff-3f36fc5229c0\" xlink:type=\"simple\"><path d=\"M123.88,393.01 C122.25,404.51 120.18,419.17 118.13,433.62 \" fill=\"none\" id=\"E4-&gt;E6\" style=\"stroke: #383838; stroke-width: 1.0;\"/><polygon fill=\"#FFFFFF\" points=\"115.3,453.57,111.0294,433.777,124.8914,435.7373,115.3,453.57\" style=\"stroke: #383838; stroke-width: 1.0;\"/><ellipse cx=\"113.8078\" cy=\"428.4132\" fill=\"#383838\" rx=\"2\" ry=\"2\" style=\"stroke: #383838; stroke-width: 1.0;\"/><ellipse cx=\"123.7093\" cy=\"429.8134\" fill=\"#383838\" rx=\"2\" ry=\"2\" style=\"stroke: #383838; stroke-width: 1.0;\"/></a><!--MD5=[3f50a3473f1dfb74d3f76443e03635af]\n",
       "reverse link E6 to E7--><a href=\"psysml:8a2f941b-3a97-4b54-9145-5eb7e96c5b49\" target=\"_top\" title=\"psysml:8a2f941b-3a97-4b54-9145-5eb7e96c5b49\" xlink:actuate=\"onRequest\" xlink:href=\"psysml:8a2f941b-3a97-4b54-9145-5eb7e96c5b49\" xlink:show=\"new\" xlink:title=\"psysml:8a2f941b-3a97-4b54-9145-5eb7e96c5b49\" xlink:type=\"simple\"><path d=\"M106.18,545.35 C105.04,561.08 103.83,577.65 102.87,590.83 \" fill=\"none\" id=\"E6&lt;-E7\" style=\"stroke: #383838; stroke-width: 1.0;\"/><ellipse cx=\"106.7138\" cy=\"538.0285\" fill=\"#FFFFFF\" rx=\"8\" ry=\"8\" style=\"stroke: #383838; stroke-width: 1.0;\"/><line style=\"stroke: #383838; stroke-width: 1.0;\" x1=\"106.1276\" x2=\"107.3\" y1=\"546.007\" y2=\"530.05\"/><line style=\"stroke: #383838; stroke-width: 1.0;\" x1=\"98.7353\" x2=\"114.6923\" y1=\"537.4423\" y2=\"538.6147\"/></a><!--MD5=[95fa686b5a16158bcdbcaeead89f639b]\n",
       "link E8 to E3--><a href=\"psysml:edfb0c1d-eeea-43d5-bece-b0bce4203cff\" target=\"_top\" title=\"psysml:edfb0c1d-eeea-43d5-bece-b0bce4203cff\" xlink:actuate=\"onRequest\" xlink:href=\"psysml:edfb0c1d-eeea-43d5-bece-b0bce4203cff\" xlink:show=\"new\" xlink:title=\"psysml:edfb0c1d-eeea-43d5-bece-b0bce4203cff\" xlink:type=\"simple\"><path d=\"M172.32,594.45 C172.8,548.41 173.03,438.69 166,347 C164.57,328.37 162.18,308.13 159.73,289.94 \" fill=\"none\" id=\"E8-&gt;E3\" style=\"stroke: #383838; stroke-width: 1.0;\"/><polygon fill=\"#FFFFFF\" points=\"156.92,270.12,166.5114,287.9527,152.6494,289.913,156.92,270.12\" style=\"stroke: #383838; stroke-width: 1.0;\"/><ellipse cx=\"165.3293\" cy=\"293.8766\" fill=\"#383838\" rx=\"2\" ry=\"2\" style=\"stroke: #383838; stroke-width: 1.0;\"/><ellipse cx=\"155.4278\" cy=\"295.2768\" fill=\"#383838\" rx=\"2\" ry=\"2\" style=\"stroke: #383838; stroke-width: 1.0;\"/></a><!--MD5=[f4cf0736d43fd73c4ef68817c49d37d5]\n",
       "reverse link E6 to E8--><a href=\"psysml:4e9eccbd-3da0-4f6c-a773-1d808904fdc5\" target=\"_top\" title=\"psysml:4e9eccbd-3da0-4f6c-a773-1d808904fdc5\" xlink:actuate=\"onRequest\" xlink:href=\"psysml:4e9eccbd-3da0-4f6c-a773-1d808904fdc5\" xlink:show=\"new\" xlink:title=\"psysml:4e9eccbd-3da0-4f6c-a773-1d808904fdc5\" xlink:type=\"simple\"><path d=\"M134.44,541.68 C143.55,559.83 153.45,579.55 160.8,594.19 \" fill=\"none\" id=\"E6&lt;-E8\" style=\"stroke: #383838; stroke-width: 1.0;\"/><polygon fill=\"#383838\" points=\"128.6,530.05,127.7161,537.2067,133.9824,540.7752,134.8663,533.6185,128.6,530.05\" style=\"stroke: #383838; stroke-width: 1.0;\"/></a><!--MD5=[8e04057e7b3cbc0dca4fc78ea351e2da]\n",
       "reverse link E10 to E3--><a href=\"psysml:800170d4-464e-4c2e-99b4-fb1d2de59c3f\" target=\"_top\" title=\"psysml:800170d4-464e-4c2e-99b4-fb1d2de59c3f\" xlink:actuate=\"onRequest\" xlink:href=\"psysml:800170d4-464e-4c2e-99b4-fb1d2de59c3f\" xlink:show=\"new\" xlink:title=\"psysml:800170d4-464e-4c2e-99b4-fb1d2de59c3f\" xlink:type=\"simple\"><path d=\"M98.98,128.98 C109.72,150.06 122.08,174.29 132.05,193.84 \" fill=\"none\" id=\"E10&lt;-E3\" style=\"stroke: #383838; stroke-width: 1.0;\"/><polygon fill=\"#FFFFFF\" points=\"93.03,117.33,92.1919,124.4922,98.4809,128.0206,99.319,120.8583,93.03,117.33\" style=\"stroke: #383838; stroke-width: 1.0;\"/><text fill=\"#000000\" font-family=\"sans-serif\" font-size=\"13\" lengthAdjust=\"spacingAndGlyphs\" textLength=\"7\" x=\"115\" y=\"160.0669\">y</text></a><!--MD5=[604cbf994c02b74b117f728a71673cea]\n",
       "reverse link E10 to E6--><a href=\"psysml:800170d4-464e-4c2e-99b4-fb1d2de59c3f\" target=\"_top\" title=\"psysml:800170d4-464e-4c2e-99b4-fb1d2de59c3f\" xlink:actuate=\"onRequest\" xlink:href=\"psysml:800170d4-464e-4c2e-99b4-fb1d2de59c3f\" xlink:show=\"new\" xlink:title=\"psysml:800170d4-464e-4c2e-99b4-fb1d2de59c3f\" xlink:type=\"simple\"><path d=\"M73.89,130.53 C74.34,192.6 77.02,300.97 89,393 C91.63,413.19 96.24,435.39 100.47,453.55 \" fill=\"none\" id=\"E10&lt;-E6\" style=\"stroke: #383838; stroke-width: 1.0;\"/><polygon fill=\"#FFFFFF\" points=\"73.83,117.27,69.863,123.2919,73.8959,129.2698,77.8629,123.2479,73.83,117.27\" style=\"stroke: #383838; stroke-width: 1.0;\"/><text fill=\"#000000\" font-family=\"sans-serif\" font-size=\"13\" lengthAdjust=\"spacingAndGlyphs\" textLength=\"7\" x=\"82\" y=\"313.0669\">y</text></a><!--MD5=[f8f20a50cda4171d928f7210108270f0]\n",
       "@startuml\r\n",
       "top to bottom direction\r\n",
       "skinparam monochrome true\r\n",
       "skinparam classbackgroundcolor white\r\n",
       "skinparam shadowing false\r\n",
       "skinparam wrapWidth 300\r\n",
       "hide circle\r\n",
       "\r\n",
       "package \"BlockTest\" as E1  [[psysml:1f80f8be-3c31-4480-9ece-24461005c64a ]]  {\r\n",
       "comp usage \"f: A\" as E2  <<(T,blue)part>> [[psysml:77ca47e2-95bd-4f5e-baaf-35974d96745c ]] {\r\n",
       "}\r\n",
       "comp def \"A\" as E3  <<(T,blue)part def>> [[psysml:feda5581-6f8c-419d-8ba7-a8a04be8503b ]] {\r\n",
       "- - ports - -\r\n",
       "c: C\r\n",
       "}\r\n",
       "comp usage \"b: B\" as E4  <<(T,blue)part>> [[psysml:ebd0a90b-6b0b-4fe7-b689-bf63abb6537b ]] {\r\n",
       "}\r\n",
       "comp def \"B\" as E6  <<(T,blue)part def>> [[psysml:7287ae62-763a-4b84-8405-f658443750c5 ]] {\r\n",
       "- - ports - -\r\n",
       "x: ~C\r\n",
       "}\r\n",
       "package \"P\" as E7  [[psysml:8a2f941b-3a97-4b54-9145-5eb7e96c5b49 ]]  {\r\n",
       "}\r\n",
       "comp usage \"a: A\" as E8  <<(T,blue)part>> [[psysml:4e9eccbd-3da0-4f6c-a773-1d808904fdc5 ]] {\r\n",
       "}\r\n",
       "comp def \"C\" as E10  <<(T,blue)port def>> [[psysml:8c4f99f3-2675-4f4d-a756-da09d407570d ]] {\r\n",
       "- - references - -\r\n",
       "y: A, B <b>as</b> z2 \r\n",
       "}\r\n",
       "E2 - -:|> E3 [[psysml:f1219804-170d-45ce-a1b2-74df9d2ed655 ]] \r\n",
       "E3 *- - E4 [[psysml:ebd0a90b-6b0b-4fe7-b689-bf63abb6537b ]] \r\n",
       "E4 - -:|> E6 [[psysml:0b7e6d0b-da90-43fd-82ff-3f36fc5229c0 ]] \r\n",
       "E6 +- - E7 [[psysml:8a2f941b-3a97-4b54-9145-5eb7e96c5b49 ]] \r\n",
       "E8 - -:|> E3 [[psysml:edfb0c1d-eeea-43d5-bece-b0bce4203cff ]] \r\n",
       "E6 *- - E8 [[psysml:4e9eccbd-3da0-4f6c-a773-1d808904fdc5 ]] \r\n",
       "E10 o- - E3 [[psysml:800170d4-464e-4c2e-99b4-fb1d2de59c3f ]] : y\r\n",
       "E10 o- - E6 [[psysml:800170d4-464e-4c2e-99b4-fb1d2de59c3f ]] : y\r\n",
       "}\r\n",
       "@enduml\r\n",
       "\n",
       "PlantUML version 1.2020.13(Sat Jun 13 12:26:38 UTC 2020)\n",
       "(EPL source distribution)\n",
       "Java Runtime: OpenJDK Runtime Environment\n",
       "JVM: OpenJDK 64-Bit Server VM\n",
       "Default Encoding: UTF-8\n",
       "Language: en\n",
       "Country: null\n",
       "--></g></svg>"
      ]
     },
     "execution_count": 45,
     "metadata": {},
     "output_type": "execute_result"
    }
   ],
   "source": [
    "%viz --style=\"TB\" --view=\"Tree\" \"BlockTest\""
   ]
  },
  {
   "cell_type": "code",
   "execution_count": 46,
   "id": "severe-march",
   "metadata": {
    "execution": {
     "iopub.execute_input": "2021-03-26T12:07:41.127905Z",
     "iopub.status.busy": "2021-03-26T12:07:41.127300Z",
     "iopub.status.idle": "2021-03-26T12:07:41.132455Z",
     "shell.execute_reply": "2021-03-26T12:07:41.132893Z"
    }
   },
   "outputs": [
    {
     "data": {
      "image/svg+xml": [
       "<?xml version=\"1.0\" encoding=\"UTF-8\" standalone=\"no\"?><svg xmlns=\"http://www.w3.org/2000/svg\" xmlns:xlink=\"http://www.w3.org/1999/xlink\" contentScriptType=\"application/ecmascript\" contentStyleType=\"text/css\" height=\"12px\" preserveAspectRatio=\"none\" style=\"width:12px;height:12px;\" version=\"1.1\" viewBox=\"0 0 12 12\" width=\"12px\" zoomAndPan=\"magnify\"><defs/><g><!--MD5=[f4ee21bc66e489b5061b7c3e9601fdef]\n",
       "@startuml\r\n",
       "top to bottom direction\r\n",
       "skinparam monochrome true\r\n",
       "skinparam classbackgroundcolor white\r\n",
       "skinparam shadowing false\r\n",
       "skinparam wrapWidth 300\r\n",
       "hide circle\r\n",
       "\r\n",
       "@enduml\r\n",
       "\n",
       "PlantUML version 1.2020.13(Sat Jun 13 12:26:38 UTC 2020)\n",
       "(EPL source distribution)\n",
       "Java Runtime: OpenJDK Runtime Environment\n",
       "JVM: OpenJDK 64-Bit Server VM\n",
       "Default Encoding: UTF-8\n",
       "Language: en\n",
       "Country: null\n",
       "--></g></svg>"
      ]
     },
     "execution_count": 46,
     "metadata": {},
     "output_type": "execute_result"
    }
   ],
   "source": [
    "%viz --style=\"TB\" --view=\"State\" \"BlockTest\""
   ]
  },
  {
   "cell_type": "code",
   "execution_count": 47,
   "id": "confirmed-transfer",
   "metadata": {
    "execution": {
     "iopub.execute_input": "2021-03-26T12:07:41.185063Z",
     "iopub.status.busy": "2021-03-26T12:07:41.184254Z",
     "iopub.status.idle": "2021-03-26T12:07:41.219446Z",
     "shell.execute_reply": "2021-03-26T12:07:41.219023Z"
    }
   },
   "outputs": [
    {
     "data": {
      "image/svg+xml": [
       "<?xml version=\"1.0\" encoding=\"UTF-8\" standalone=\"no\"?><svg xmlns=\"http://www.w3.org/2000/svg\" xmlns:xlink=\"http://www.w3.org/1999/xlink\" contentScriptType=\"application/ecmascript\" contentStyleType=\"text/css\" height=\"245px\" preserveAspectRatio=\"none\" style=\"width:548px;height:245px;\" version=\"1.1\" viewBox=\"0 0 548 245\" width=\"548px\" zoomAndPan=\"magnify\"><defs/><g><!--MD5=[fbc87193dbaf4d95561dea2c320d4a47]\n",
       "cluster E1--><a href=\"psysml:1f80f8be-3c31-4480-9ece-24461005c64a\" target=\"_top\" title=\"psysml:1f80f8be-3c31-4480-9ece-24461005c64a\" xlink:actuate=\"onRequest\" xlink:href=\"psysml:1f80f8be-3c31-4480-9ece-24461005c64a\" xlink:show=\"new\" xlink:title=\"psysml:1f80f8be-3c31-4480-9ece-24461005c64a\" xlink:type=\"simple\"><polygon fill=\"#FFFFFF\" points=\"16,6,99,6,106,28.2969,526,28.2969,526,233,16,233,16,6\" style=\"stroke: #000000; stroke-width: 1.5;\"/><line style=\"stroke: #000000; stroke-width: 1.5;\" x1=\"16\" x2=\"106\" y1=\"28.2969\" y2=\"28.2969\"/><text fill=\"#000000\" font-family=\"sans-serif\" font-size=\"14\" font-weight=\"bold\" lengthAdjust=\"spacingAndGlyphs\" textLength=\"77\" x=\"20\" y=\"20.9951\">BlockTest</text></a><!--MD5=[d5e69f78d87373223dbae638b30a9c99]\n",
       "cluster E3--><a href=\"psysml:feda5581-6f8c-419d-8ba7-a8a04be8503b\" target=\"_top\" title=\"psysml:feda5581-6f8c-419d-8ba7-a8a04be8503b\" xlink:actuate=\"onRequest\" xlink:href=\"psysml:feda5581-6f8c-419d-8ba7-a8a04be8503b\" xlink:show=\"new\" xlink:title=\"psysml:feda5581-6f8c-419d-8ba7-a8a04be8503b\" xlink:type=\"simple\"><rect fill=\"#FFFFFF\" height=\"154.5\" id=\"E3\" style=\"stroke: #383838; stroke-width: 1.5;\" width=\"120\" x=\"390\" y=\"62.5\"/><rect fill=\"#F8F8F8\" height=\"37.9375\" style=\"stroke: #383838; stroke-width: 1.5;\" width=\"120\" x=\"390\" y=\"62.5\"/><text fill=\"#000000\" font-family=\"sans-serif\" font-size=\"12\" font-style=\"italic\" lengthAdjust=\"spacingAndGlyphs\" textLength=\"64\" x=\"418\" y=\"78.6387\">«part def»</text><text fill=\"#000000\" font-family=\"sans-serif\" font-size=\"12\" lengthAdjust=\"spacingAndGlyphs\" textLength=\"8\" x=\"446\" y=\"92.6074\">A</text></a><!--MD5=[14e3b0961a2654348d326746436168a1]\n",
       "cluster E6--><a href=\"psysml:7287ae62-763a-4b84-8405-f658443750c5\" target=\"_top\" title=\"psysml:7287ae62-763a-4b84-8405-f658443750c5\" xlink:actuate=\"onRequest\" xlink:href=\"psysml:7287ae62-763a-4b84-8405-f658443750c5\" xlink:show=\"new\" xlink:title=\"psysml:7287ae62-763a-4b84-8405-f658443750c5\" xlink:type=\"simple\"><rect fill=\"#FFFFFF\" height=\"154.5\" id=\"E6\" style=\"stroke: #383838; stroke-width: 1.5;\" width=\"185\" x=\"197\" y=\"62.5\"/><rect fill=\"#F8F8F8\" height=\"37.9375\" style=\"stroke: #383838; stroke-width: 1.5;\" width=\"185\" x=\"197\" y=\"62.5\"/><text fill=\"#000000\" font-family=\"sans-serif\" font-size=\"12\" font-style=\"italic\" lengthAdjust=\"spacingAndGlyphs\" textLength=\"64\" x=\"257.5\" y=\"78.6387\">«part def»</text><text fill=\"#000000\" font-family=\"sans-serif\" font-size=\"12\" lengthAdjust=\"spacingAndGlyphs\" textLength=\"8\" x=\"285.5\" y=\"92.6074\">B</text></a><g id=\"E1.E10\"><a href=\"psysml:8c4f99f3-2675-4f4d-a756-da09d407570d\" target=\"_top\" title=\"psysml:8c4f99f3-2675-4f4d-a756-da09d407570d\" xlink:actuate=\"onRequest\" xlink:href=\"psysml:8c4f99f3-2675-4f4d-a756-da09d407570d\" xlink:show=\"new\" xlink:title=\"psysml:8c4f99f3-2675-4f4d-a756-da09d407570d\" xlink:type=\"simple\"><rect fill=\"#FFFFFF\" height=\"42.9375\" id=\"E10\" style=\"stroke: #383838; stroke-width: 1.5;\" width=\"71\" x=\"117.5\" y=\"41\"/><rect fill=\"#F8F8F8\" height=\"37.9375\" style=\"stroke: #383838; stroke-width: 1.5;\" width=\"71\" x=\"117.5\" y=\"41\"/><text fill=\"#000000\" font-family=\"sans-serif\" font-size=\"12\" font-style=\"italic\" lengthAdjust=\"spacingAndGlyphs\" textLength=\"64\" x=\"121\" y=\"57.1387\">«port def»</text><text fill=\"#000000\" font-family=\"sans-serif\" font-size=\"12\" lengthAdjust=\"spacingAndGlyphs\" textLength=\"8\" x=\"149\" y=\"71.1074\">C</text></a></g><g id=\"E1.E2\"><a href=\"psysml:77ca47e2-95bd-4f5e-baaf-35974d96745c\" target=\"_top\" title=\"psysml:77ca47e2-95bd-4f5e-baaf-35974d96745c\" xlink:actuate=\"onRequest\" xlink:href=\"psysml:77ca47e2-95bd-4f5e-baaf-35974d96745c\" xlink:show=\"new\" xlink:title=\"psysml:77ca47e2-95bd-4f5e-baaf-35974d96745c\" xlink:type=\"simple\"><rect fill=\"#FFFFFF\" height=\"40\" id=\"E2\" rx=\"10\" ry=\"10\" style=\"stroke: #383838; stroke-width: 1.5;\" width=\"50\" x=\"32\" y=\"42.5\"/><rect fill=\"#F8F8F8\" height=\"23.9688\" rx=\"10\" ry=\"10\" style=\"stroke: #F8F8F8; stroke-width: 1.5;\" width=\"50\" x=\"32\" y=\"42.5\"/><rect fill=\"#F8F8F8\" height=\"10\" style=\"stroke: #F8F8F8; stroke-width: 1.5;\" width=\"50\" x=\"32\" y=\"56.4688\"/><rect fill=\"none\" height=\"40\" id=\"E2\" rx=\"10\" ry=\"10\" style=\"stroke: #383838; stroke-width: 1.5;\" width=\"50\" x=\"32\" y=\"42.5\"/><text fill=\"#000000\" font-family=\"sans-serif\" font-size=\"12\" lengthAdjust=\"spacingAndGlyphs\" textLength=\"20\" x=\"47\" y=\"58.6387\">f: A</text></a></g><text fill=\"#000000\" font-family=\"sans-serif\" font-size=\"14\" lengthAdjust=\"spacingAndGlyphs\" textLength=\"27\" x=\"436.5\" y=\"41.1982\">c: C</text><rect fill=\"#383838\" height=\"12\" style=\"stroke: #F8F8F8; stroke-width: 1.5;\" width=\"12\" x=\"444\" y=\"56.5\"/><g id=\"E1.E3.E4\"><a href=\"psysml:ebd0a90b-6b0b-4fe7-b689-bf63abb6537b\" target=\"_top\" title=\"psysml:ebd0a90b-6b0b-4fe7-b689-bf63abb6537b\" xlink:actuate=\"onRequest\" xlink:href=\"psysml:ebd0a90b-6b0b-4fe7-b689-bf63abb6537b\" xlink:show=\"new\" xlink:title=\"psysml:ebd0a90b-6b0b-4fe7-b689-bf63abb6537b\" xlink:type=\"simple\"><rect fill=\"#FFFFFF\" height=\"40\" id=\"E4\" rx=\"10\" ry=\"10\" style=\"stroke: #383838; stroke-width: 1.5;\" width=\"50\" x=\"425\" y=\"161\"/><rect fill=\"#F8F8F8\" height=\"23.9688\" rx=\"10\" ry=\"10\" style=\"stroke: #F8F8F8; stroke-width: 1.5;\" width=\"50\" x=\"425\" y=\"161\"/><rect fill=\"#F8F8F8\" height=\"10\" style=\"stroke: #F8F8F8; stroke-width: 1.5;\" width=\"50\" x=\"425\" y=\"174.9688\"/><rect fill=\"none\" height=\"40\" id=\"E4\" rx=\"10\" ry=\"10\" style=\"stroke: #383838; stroke-width: 1.5;\" width=\"50\" x=\"425\" y=\"161\"/><text fill=\"#000000\" font-family=\"sans-serif\" font-size=\"12\" lengthAdjust=\"spacingAndGlyphs\" textLength=\"24\" x=\"438\" y=\"177.1387\">b: B</text></a></g><text fill=\"#000000\" font-family=\"sans-serif\" font-size=\"14\" lengthAdjust=\"spacingAndGlyphs\" textLength=\"38\" x=\"303\" y=\"41.1982\">x: ~C</text><rect fill=\"#383838\" height=\"12\" style=\"stroke: #F8F8F8; stroke-width: 1.5;\" width=\"12\" x=\"316\" y=\"56.5\"/><a href=\"psysml:8a2f941b-3a97-4b54-9145-5eb7e96c5b49\" target=\"_top\" title=\"psysml:8a2f941b-3a97-4b54-9145-5eb7e96c5b49\" xlink:actuate=\"onRequest\" xlink:href=\"psysml:8a2f941b-3a97-4b54-9145-5eb7e96c5b49\" xlink:show=\"new\" xlink:title=\"psysml:8a2f941b-3a97-4b54-9145-5eb7e96c5b49\" xlink:type=\"simple\"><polygon fill=\"#FFFFFF\" points=\"213,100,229,100,236,122.2969,243,122.2969,243,152.5938,213,152.5938,213,100\" style=\"stroke: #000000; stroke-width: 1.5;\"/><line style=\"stroke: #000000; stroke-width: 1.5;\" x1=\"213\" x2=\"236\" y1=\"122.2969\" y2=\"122.2969\"/><text fill=\"#000000\" font-family=\"sans-serif\" font-size=\"14\" font-weight=\"bold\" lengthAdjust=\"spacingAndGlyphs\" textLength=\"10\" x=\"217\" y=\"114.9951\">P</text></a><g id=\"E1.E6.E8\"><a href=\"psysml:4e9eccbd-3da0-4f6c-a773-1d808904fdc5\" target=\"_top\" title=\"psysml:4e9eccbd-3da0-4f6c-a773-1d808904fdc5\" xlink:actuate=\"onRequest\" xlink:href=\"psysml:4e9eccbd-3da0-4f6c-a773-1d808904fdc5\" xlink:show=\"new\" xlink:title=\"psysml:4e9eccbd-3da0-4f6c-a773-1d808904fdc5\" xlink:type=\"simple\"><rect fill=\"#FFFFFF\" height=\"40\" id=\"E8\" rx=\"10\" ry=\"10\" style=\"stroke: #383838; stroke-width: 1.5;\" width=\"50\" x=\"297\" y=\"161\"/><rect fill=\"#F8F8F8\" height=\"23.9688\" rx=\"10\" ry=\"10\" style=\"stroke: #F8F8F8; stroke-width: 1.5;\" width=\"50\" x=\"297\" y=\"161\"/><rect fill=\"#F8F8F8\" height=\"10\" style=\"stroke: #F8F8F8; stroke-width: 1.5;\" width=\"50\" x=\"297\" y=\"174.9688\"/><rect fill=\"none\" height=\"40\" id=\"E8\" rx=\"10\" ry=\"10\" style=\"stroke: #383838; stroke-width: 1.5;\" width=\"50\" x=\"297\" y=\"161\"/><text fill=\"#000000\" font-family=\"sans-serif\" font-size=\"12\" lengthAdjust=\"spacingAndGlyphs\" textLength=\"24\" x=\"310\" y=\"177.1387\">a: A</text></a></g><!--MD5=[1614c96f2d35bea39e9397363c35ce78]\n",
       "@startuml\r\n",
       "skinparam ranksep 8\r\n",
       "skinparam rectangle {\r\n",
       " backgroundColor<<block>> LightGreen\r\n",
       "}\r\n",
       "top to bottom direction\r\n",
       "skinparam monochrome true\r\n",
       "skinparam classbackgroundcolor white\r\n",
       "skinparam shadowing false\r\n",
       "skinparam wrapWidth 300\r\n",
       "hide circle\r\n",
       "\r\n",
       "package \"BlockTest\" as E1  [[psysml:1f80f8be-3c31-4480-9ece-24461005c64a ]]  {\r\n",
       "rec usage \"f: A\" as E2  [[psysml:77ca47e2-95bd-4f5e-baaf-35974d96745c ]] {\r\n",
       "}\r\n",
       "rec def \"A\" as E3  <<(T,blue)part def>> [[psysml:feda5581-6f8c-419d-8ba7-a8a04be8503b ]] {\r\n",
       "rec usage \"b: B\" as E4  [[psysml:ebd0a90b-6b0b-4fe7-b689-bf63abb6537b ]] {\r\n",
       "}\r\n",
       "portin \"c: C\" as E5  <<(T,blue)port>> [[psysml:32f6582c-cfe7-4be0-a097-86306546e345 ]] \r\n",
       "}\r\n",
       "rec def \"B\" as E6  <<(T,blue)part def>> [[psysml:7287ae62-763a-4b84-8405-f658443750c5 ]] {\r\n",
       "package \"P\" as E7  [[psysml:8a2f941b-3a97-4b54-9145-5eb7e96c5b49 ]]  {\r\n",
       "}\r\n",
       "rec usage \"a: A\" as E8  [[psysml:4e9eccbd-3da0-4f6c-a773-1d808904fdc5 ]] {\r\n",
       "}\r\n",
       "portin \"x: ~C\" as E9  <<(T,blue)port>> [[psysml:8030edf4-ee82-408b-9211-cce203dbe0d1 ]] \r\n",
       "}\r\n",
       "def \"C\" as E10  <<(T,blue)port def>> [[psysml:8c4f99f3-2675-4f4d-a756-da09d407570d ]] \r\n",
       "}\r\n",
       "@enduml\r\n",
       "\n",
       "PlantUML version 1.2020.13(Sat Jun 13 12:26:38 UTC 2020)\n",
       "(EPL source distribution)\n",
       "Java Runtime: OpenJDK Runtime Environment\n",
       "JVM: OpenJDK 64-Bit Server VM\n",
       "Default Encoding: UTF-8\n",
       "Language: en\n",
       "Country: null\n",
       "--></g></svg>"
      ]
     },
     "execution_count": 47,
     "metadata": {},
     "output_type": "execute_result"
    }
   ],
   "source": [
    "%viz --style=\"TB\" --view=\"Interconnection\" \"BlockTest\""
   ]
  },
  {
   "cell_type": "code",
   "execution_count": 48,
   "id": "imported-temperature",
   "metadata": {
    "execution": {
     "iopub.execute_input": "2021-03-26T12:07:41.272956Z",
     "iopub.status.busy": "2021-03-26T12:07:41.272089Z",
     "iopub.status.idle": "2021-03-26T12:07:41.282024Z",
     "shell.execute_reply": "2021-03-26T12:07:41.281020Z"
    }
   },
   "outputs": [
    {
     "data": {
      "image/svg+xml": [
       "<?xml version=\"1.0\" encoding=\"UTF-8\" standalone=\"no\"?><svg xmlns=\"http://www.w3.org/2000/svg\" xmlns:xlink=\"http://www.w3.org/1999/xlink\" contentScriptType=\"application/ecmascript\" contentStyleType=\"text/css\" height=\"12px\" preserveAspectRatio=\"none\" style=\"width:12px;height:12px;\" version=\"1.1\" viewBox=\"0 0 12 12\" width=\"12px\" zoomAndPan=\"magnify\"><defs/><g><!--MD5=[06afc254b03ac5e9d9fb7773b07d0800]\n",
       "@startuml\r\n",
       "skinparam ranksep 8\r\n",
       "top to bottom direction\r\n",
       "skinparam monochrome true\r\n",
       "skinparam classbackgroundcolor white\r\n",
       "skinparam shadowing false\r\n",
       "skinparam wrapWidth 300\r\n",
       "hide circle\r\n",
       "\r\n",
       "@enduml\r\n",
       "\n",
       "PlantUML version 1.2020.13(Sat Jun 13 12:26:38 UTC 2020)\n",
       "(EPL source distribution)\n",
       "Java Runtime: OpenJDK Runtime Environment\n",
       "JVM: OpenJDK 64-Bit Server VM\n",
       "Default Encoding: UTF-8\n",
       "Language: en\n",
       "Country: null\n",
       "--></g></svg>"
      ]
     },
     "execution_count": 48,
     "metadata": {},
     "output_type": "execute_result"
    }
   ],
   "source": [
    "%viz --style=\"TB\" --view=\"Action\" \"BlockTest\""
   ]
  },
  {
   "cell_type": "code",
   "execution_count": 49,
   "id": "pharmaceutical-suicide",
   "metadata": {
    "execution": {
     "iopub.execute_input": "2021-03-26T12:07:41.335452Z",
     "iopub.status.busy": "2021-03-26T12:07:41.334901Z",
     "iopub.status.idle": "2021-03-26T12:07:41.396220Z",
     "shell.execute_reply": "2021-03-26T12:07:41.395435Z"
    }
   },
   "outputs": [
    {
     "data": {
      "image/svg+xml": [
       "<?xml version=\"1.0\" encoding=\"UTF-8\" standalone=\"no\"?><svg xmlns=\"http://www.w3.org/2000/svg\" xmlns:xlink=\"http://www.w3.org/1999/xlink\" contentScriptType=\"application/ecmascript\" contentStyleType=\"text/css\" height=\"672px\" preserveAspectRatio=\"none\" style=\"width:231px;height:672px;\" version=\"1.1\" viewBox=\"0 0 231 672\" width=\"231px\" zoomAndPan=\"magnify\"><defs/><g><!--MD5=[fbc87193dbaf4d95561dea2c320d4a47]\n",
       "cluster E1--><a href=\"psysml:1f80f8be-3c31-4480-9ece-24461005c64a\" target=\"_top\" title=\"psysml:1f80f8be-3c31-4480-9ece-24461005c64a\" xlink:actuate=\"onRequest\" xlink:href=\"psysml:1f80f8be-3c31-4480-9ece-24461005c64a\" xlink:show=\"new\" xlink:title=\"psysml:1f80f8be-3c31-4480-9ece-24461005c64a\" xlink:type=\"simple\"><polygon fill=\"#FFFFFF\" points=\"16,6,99,6,106,28.2969,209,28.2969,209,660,16,660,16,6\" style=\"stroke: #000000; stroke-width: 1.5;\"/><line style=\"stroke: #000000; stroke-width: 1.5;\" x1=\"16\" x2=\"106\" y1=\"28.2969\" y2=\"28.2969\"/><text fill=\"#000000\" font-family=\"sans-serif\" font-size=\"14\" font-weight=\"bold\" lengthAdjust=\"spacingAndGlyphs\" textLength=\"77\" x=\"20\" y=\"20.9951\">BlockTest</text></a><!--MD5=[b4997ac47864f28c2f74865a473b2911]\n",
       "class E2--><a href=\"psysml:77ca47e2-95bd-4f5e-baaf-35974d96745c\" target=\"_top\" title=\"psysml:77ca47e2-95bd-4f5e-baaf-35974d96745c\" xlink:actuate=\"onRequest\" xlink:href=\"psysml:77ca47e2-95bd-4f5e-baaf-35974d96745c\" xlink:show=\"new\" xlink:title=\"psysml:77ca47e2-95bd-4f5e-baaf-35974d96745c\" xlink:type=\"simple\"><rect fill=\"#FFFFFF\" height=\"45.9375\" id=\"E2\" rx=\"10\" ry=\"10\" style=\"stroke: #383838; stroke-width: 1.5;\" width=\"42\" x=\"151\" y=\"56\"/><text fill=\"#000000\" font-family=\"sans-serif\" font-size=\"12\" font-style=\"italic\" lengthAdjust=\"spacingAndGlyphs\" textLength=\"40\" x=\"152\" y=\"72.1387\">«part»</text><text fill=\"#000000\" font-family=\"sans-serif\" font-size=\"12\" lengthAdjust=\"spacingAndGlyphs\" textLength=\"20\" x=\"162\" y=\"86.1074\">f: A</text><line style=\"stroke: #383838; stroke-width: 1.5;\" x1=\"152\" x2=\"192\" y1=\"93.9375\" y2=\"93.9375\"/></a><!--MD5=[09b614a08d8cba4a07c9adeb5e0fee81]\n",
       "class E3--><a href=\"psysml:feda5581-6f8c-419d-8ba7-a8a04be8503b\" target=\"_top\" title=\"psysml:feda5581-6f8c-419d-8ba7-a8a04be8503b\" xlink:actuate=\"onRequest\" xlink:href=\"psysml:feda5581-6f8c-419d-8ba7-a8a04be8503b\" xlink:show=\"new\" xlink:title=\"psysml:feda5581-6f8c-419d-8ba7-a8a04be8503b\" xlink:type=\"simple\"><rect fill=\"#FFFFFF\" height=\"75.5469\" id=\"E3\" style=\"stroke: #383838; stroke-width: 1.5;\" width=\"66\" x=\"118\" y=\"194\"/><text fill=\"#000000\" font-family=\"sans-serif\" font-size=\"12\" font-style=\"italic\" lengthAdjust=\"spacingAndGlyphs\" textLength=\"64\" x=\"119\" y=\"210.1387\">«part def»</text><text fill=\"#000000\" font-family=\"sans-serif\" font-size=\"12\" lengthAdjust=\"spacingAndGlyphs\" textLength=\"8\" x=\"147\" y=\"224.1074\">A</text><line style=\"stroke: #383838; stroke-width: 1.5;\" x1=\"119\" x2=\"183\" y1=\"231.9375\" y2=\"231.9375\"/><text fill=\"#000000\" font-family=\"sans-serif\" font-size=\"11\" lengthAdjust=\"spacingAndGlyphs\" textLength=\"22\" x=\"124\" y=\"262.9526\">c: C</text><line style=\"stroke: #383838; stroke-width: 1.0;\" x1=\"119\" x2=\"136\" y1=\"246.3398\" y2=\"246.3398\"/><text fill=\"#000000\" font-family=\"sans-serif\" font-size=\"11\" lengthAdjust=\"spacingAndGlyphs\" textLength=\"30\" x=\"136\" y=\"249.6479\">ports</text><line style=\"stroke: #383838; stroke-width: 1.0;\" x1=\"166\" x2=\"183\" y1=\"246.3398\" y2=\"246.3398\"/></a><!--MD5=[ebbe1d658d1005bcc118a6aa81145e00]\n",
       "class E4--><a href=\"psysml:ebd0a90b-6b0b-4fe7-b689-bf63abb6537b\" target=\"_top\" title=\"psysml:ebd0a90b-6b0b-4fe7-b689-bf63abb6537b\" xlink:actuate=\"onRequest\" xlink:href=\"psysml:ebd0a90b-6b0b-4fe7-b689-bf63abb6537b\" xlink:show=\"new\" xlink:title=\"psysml:ebd0a90b-6b0b-4fe7-b689-bf63abb6537b\" xlink:type=\"simple\"><rect fill=\"#FFFFFF\" height=\"45.9375\" id=\"E4\" rx=\"10\" ry=\"10\" style=\"stroke: #383838; stroke-width: 1.5;\" width=\"42\" x=\"106\" y=\"347\"/><text fill=\"#000000\" font-family=\"sans-serif\" font-size=\"12\" font-style=\"italic\" lengthAdjust=\"spacingAndGlyphs\" textLength=\"40\" x=\"107\" y=\"363.1387\">«part»</text><text fill=\"#000000\" font-family=\"sans-serif\" font-size=\"12\" lengthAdjust=\"spacingAndGlyphs\" textLength=\"24\" x=\"115\" y=\"377.1074\">b: B</text><line style=\"stroke: #383838; stroke-width: 1.5;\" x1=\"107\" x2=\"147\" y1=\"384.9375\" y2=\"384.9375\"/></a><!--MD5=[60a26617385b1d2d0262a64233df1f8d]\n",
       "class E6--><a href=\"psysml:7287ae62-763a-4b84-8405-f658443750c5\" target=\"_top\" title=\"psysml:7287ae62-763a-4b84-8405-f658443750c5\" xlink:actuate=\"onRequest\" xlink:href=\"psysml:7287ae62-763a-4b84-8405-f658443750c5\" xlink:show=\"new\" xlink:title=\"psysml:7287ae62-763a-4b84-8405-f658443750c5\" xlink:type=\"simple\"><rect fill=\"#FFFFFF\" height=\"75.5469\" id=\"E6\" style=\"stroke: #383838; stroke-width: 1.5;\" width=\"66\" x=\"77\" y=\"454\"/><text fill=\"#000000\" font-family=\"sans-serif\" font-size=\"12\" font-style=\"italic\" lengthAdjust=\"spacingAndGlyphs\" textLength=\"64\" x=\"78\" y=\"470.1387\">«part def»</text><text fill=\"#000000\" font-family=\"sans-serif\" font-size=\"12\" lengthAdjust=\"spacingAndGlyphs\" textLength=\"8\" x=\"106\" y=\"484.1074\">B</text><line style=\"stroke: #383838; stroke-width: 1.5;\" x1=\"78\" x2=\"142\" y1=\"491.9375\" y2=\"491.9375\"/><text fill=\"#000000\" font-family=\"sans-serif\" font-size=\"11\" lengthAdjust=\"spacingAndGlyphs\" textLength=\"31\" x=\"83\" y=\"522.9526\">x: ~C</text><line style=\"stroke: #383838; stroke-width: 1.0;\" x1=\"78\" x2=\"95\" y1=\"506.3398\" y2=\"506.3398\"/><text fill=\"#000000\" font-family=\"sans-serif\" font-size=\"11\" lengthAdjust=\"spacingAndGlyphs\" textLength=\"30\" x=\"95\" y=\"509.6479\">ports</text><line style=\"stroke: #383838; stroke-width: 1.0;\" x1=\"125\" x2=\"142\" y1=\"506.3398\" y2=\"506.3398\"/></a><!--MD5=[b9389687b975829384b498ac4b7476b2]\n",
       "class E8--><a href=\"psysml:4e9eccbd-3da0-4f6c-a773-1d808904fdc5\" target=\"_top\" title=\"psysml:4e9eccbd-3da0-4f6c-a773-1d808904fdc5\" xlink:actuate=\"onRequest\" xlink:href=\"psysml:4e9eccbd-3da0-4f6c-a773-1d808904fdc5\" xlink:show=\"new\" xlink:title=\"psysml:4e9eccbd-3da0-4f6c-a773-1d808904fdc5\" xlink:type=\"simple\"><rect fill=\"#FFFFFF\" height=\"45.9375\" id=\"E8\" rx=\"10\" ry=\"10\" style=\"stroke: #383838; stroke-width: 1.5;\" width=\"42\" x=\"151\" y=\"594.5\"/><text fill=\"#000000\" font-family=\"sans-serif\" font-size=\"12\" font-style=\"italic\" lengthAdjust=\"spacingAndGlyphs\" textLength=\"40\" x=\"152\" y=\"610.6387\">«part»</text><text fill=\"#000000\" font-family=\"sans-serif\" font-size=\"12\" lengthAdjust=\"spacingAndGlyphs\" textLength=\"24\" x=\"160\" y=\"624.6074\">a: A</text><line style=\"stroke: #383838; stroke-width: 1.5;\" x1=\"152\" x2=\"192\" y1=\"632.4375\" y2=\"632.4375\"/></a><!--MD5=[96f4274e9e20536e775497830990834d]\n",
       "class E10--><a href=\"psysml:8c4f99f3-2675-4f4d-a756-da09d407570d\" target=\"_top\" title=\"psysml:8c4f99f3-2675-4f4d-a756-da09d407570d\" xlink:actuate=\"onRequest\" xlink:href=\"psysml:8c4f99f3-2675-4f4d-a756-da09d407570d\" xlink:show=\"new\" xlink:title=\"psysml:8c4f99f3-2675-4f4d-a756-da09d407570d\" xlink:type=\"simple\"><rect fill=\"#FFFFFF\" height=\"75.5469\" id=\"E10\" style=\"stroke: #383838; stroke-width: 1.5;\" width=\"84\" x=\"32\" y=\"41\"/><text fill=\"#000000\" font-family=\"sans-serif\" font-size=\"12\" font-style=\"italic\" lengthAdjust=\"spacingAndGlyphs\" textLength=\"64\" x=\"42\" y=\"57.1387\">«port def»</text><text fill=\"#000000\" font-family=\"sans-serif\" font-size=\"12\" lengthAdjust=\"spacingAndGlyphs\" textLength=\"8\" x=\"70\" y=\"71.1074\">C</text><line style=\"stroke: #383838; stroke-width: 1.5;\" x1=\"33\" x2=\"115\" y1=\"78.9375\" y2=\"78.9375\"/><text fill=\"#000000\" font-family=\"sans-serif\" font-size=\"11\" lengthAdjust=\"spacingAndGlyphs\" textLength=\"37\" x=\"38\" y=\"109.9526\">y: A, B</text><text fill=\"#000000\" font-family=\"sans-serif\" font-size=\"11\" font-weight=\"bold\" lengthAdjust=\"spacingAndGlyphs\" textLength=\"15\" x=\"79\" y=\"109.9526\">as</text><text fill=\"#000000\" font-family=\"sans-serif\" font-size=\"11\" lengthAdjust=\"spacingAndGlyphs\" textLength=\"12\" x=\"98\" y=\"109.9526\">z2</text><line style=\"stroke: #383838; stroke-width: 1.0;\" x1=\"33\" x2=\"43\" y1=\"93.3398\" y2=\"93.3398\"/><text fill=\"#000000\" font-family=\"sans-serif\" font-size=\"11\" lengthAdjust=\"spacingAndGlyphs\" textLength=\"62\" x=\"43\" y=\"96.6479\">references</text><line style=\"stroke: #383838; stroke-width: 1.0;\" x1=\"105\" x2=\"115\" y1=\"93.3398\" y2=\"93.3398\"/></a><a href=\"psysml:8a2f941b-3a97-4b54-9145-5eb7e96c5b49\" target=\"_top\" title=\"psysml:8a2f941b-3a97-4b54-9145-5eb7e96c5b49\" xlink:actuate=\"onRequest\" xlink:href=\"psysml:8a2f941b-3a97-4b54-9145-5eb7e96c5b49\" xlink:show=\"new\" xlink:title=\"psysml:8a2f941b-3a97-4b54-9145-5eb7e96c5b49\" xlink:type=\"simple\"><polygon fill=\"#FFFFFF\" points=\"86,591,102,591,109,613.2969,116,613.2969,116,643.5938,86,643.5938,86,591\" style=\"stroke: #000000; stroke-width: 1.5;\"/><line style=\"stroke: #000000; stroke-width: 1.5;\" x1=\"86\" x2=\"109\" y1=\"613.2969\" y2=\"613.2969\"/><text fill=\"#000000\" font-family=\"sans-serif\" font-size=\"14\" font-weight=\"bold\" lengthAdjust=\"spacingAndGlyphs\" textLength=\"10\" x=\"90\" y=\"605.9951\">P</text></a><!--MD5=[2720a5a1f2c3fca2055b230370638851]\n",
       "link E2 to E3--><a href=\"psysml:f1219804-170d-45ce-a1b2-74df9d2ed655\" target=\"_top\" title=\"psysml:f1219804-170d-45ce-a1b2-74df9d2ed655\" xlink:actuate=\"onRequest\" xlink:href=\"psysml:f1219804-170d-45ce-a1b2-74df9d2ed655\" xlink:show=\"new\" xlink:title=\"psysml:f1219804-170d-45ce-a1b2-74df9d2ed655\" xlink:type=\"simple\"><path d=\"M168.9,102.28 C166.28,121.12 162.41,148.97 158.94,173.94 \" fill=\"none\" id=\"E2-&gt;E3\" style=\"stroke: #383838; stroke-width: 1.0;\"/><polygon fill=\"#FFFFFF\" points=\"156.15,193.98,151.8354,174.1966,165.7018,176.1261,156.15,193.98\" style=\"stroke: #383838; stroke-width: 1.0;\"/><ellipse cx=\"154.6019\" cy=\"168.8266\" fill=\"#383838\" rx=\"2\" ry=\"2\" style=\"stroke: #383838; stroke-width: 1.0;\"/><ellipse cx=\"164.5065\" cy=\"170.2048\" fill=\"#383838\" rx=\"2\" ry=\"2\" style=\"stroke: #383838; stroke-width: 1.0;\"/></a><!--MD5=[4672eba38e49728da53d11aeb285b987]\n",
       "reverse link E3 to E4--><a href=\"psysml:ebd0a90b-6b0b-4fe7-b689-bf63abb6537b\" target=\"_top\" title=\"psysml:ebd0a90b-6b0b-4fe7-b689-bf63abb6537b\" xlink:actuate=\"onRequest\" xlink:href=\"psysml:ebd0a90b-6b0b-4fe7-b689-bf63abb6537b\" xlink:show=\"new\" xlink:title=\"psysml:ebd0a90b-6b0b-4fe7-b689-bf63abb6537b\" xlink:type=\"simple\"><path d=\"M142.17,283.02 C138.31,304.93 133.97,329.52 130.92,346.77 \" fill=\"none\" id=\"E3&lt;-E4\" style=\"stroke: #383838; stroke-width: 1.0;\"/><polygon fill=\"#383838\" points=\"144.44,270.16,139.4532,275.3688,142.3433,281.9754,147.3301,276.7666,144.44,270.16\" style=\"stroke: #383838; stroke-width: 1.0;\"/></a><!--MD5=[79568f1e445c3877b6a54524624ccc7d]\n",
       "link E4 to E6--><a href=\"psysml:0b7e6d0b-da90-43fd-82ff-3f36fc5229c0\" target=\"_top\" title=\"psysml:0b7e6d0b-da90-43fd-82ff-3f36fc5229c0\" xlink:actuate=\"onRequest\" xlink:href=\"psysml:0b7e6d0b-da90-43fd-82ff-3f36fc5229c0\" xlink:show=\"new\" xlink:title=\"psysml:0b7e6d0b-da90-43fd-82ff-3f36fc5229c0\" xlink:type=\"simple\"><path d=\"M123.88,393.01 C122.25,404.51 120.18,419.17 118.13,433.62 \" fill=\"none\" id=\"E4-&gt;E6\" style=\"stroke: #383838; stroke-width: 1.0;\"/><polygon fill=\"#FFFFFF\" points=\"115.3,453.57,111.0294,433.777,124.8914,435.7373,115.3,453.57\" style=\"stroke: #383838; stroke-width: 1.0;\"/><ellipse cx=\"113.8078\" cy=\"428.4132\" fill=\"#383838\" rx=\"2\" ry=\"2\" style=\"stroke: #383838; stroke-width: 1.0;\"/><ellipse cx=\"123.7093\" cy=\"429.8134\" fill=\"#383838\" rx=\"2\" ry=\"2\" style=\"stroke: #383838; stroke-width: 1.0;\"/></a><!--MD5=[3f50a3473f1dfb74d3f76443e03635af]\n",
       "reverse link E6 to E7--><a href=\"psysml:8a2f941b-3a97-4b54-9145-5eb7e96c5b49\" target=\"_top\" title=\"psysml:8a2f941b-3a97-4b54-9145-5eb7e96c5b49\" xlink:actuate=\"onRequest\" xlink:href=\"psysml:8a2f941b-3a97-4b54-9145-5eb7e96c5b49\" xlink:show=\"new\" xlink:title=\"psysml:8a2f941b-3a97-4b54-9145-5eb7e96c5b49\" xlink:type=\"simple\"><path d=\"M106.18,545.35 C105.04,561.08 103.83,577.65 102.87,590.83 \" fill=\"none\" id=\"E6&lt;-E7\" style=\"stroke: #383838; stroke-width: 1.0;\"/><ellipse cx=\"106.7138\" cy=\"538.0285\" fill=\"#FFFFFF\" rx=\"8\" ry=\"8\" style=\"stroke: #383838; stroke-width: 1.0;\"/><line style=\"stroke: #383838; stroke-width: 1.0;\" x1=\"106.1276\" x2=\"107.3\" y1=\"546.007\" y2=\"530.05\"/><line style=\"stroke: #383838; stroke-width: 1.0;\" x1=\"98.7353\" x2=\"114.6923\" y1=\"537.4423\" y2=\"538.6147\"/></a><!--MD5=[95fa686b5a16158bcdbcaeead89f639b]\n",
       "link E8 to E3--><a href=\"psysml:edfb0c1d-eeea-43d5-bece-b0bce4203cff\" target=\"_top\" title=\"psysml:edfb0c1d-eeea-43d5-bece-b0bce4203cff\" xlink:actuate=\"onRequest\" xlink:href=\"psysml:edfb0c1d-eeea-43d5-bece-b0bce4203cff\" xlink:show=\"new\" xlink:title=\"psysml:edfb0c1d-eeea-43d5-bece-b0bce4203cff\" xlink:type=\"simple\"><path d=\"M172.32,594.45 C172.8,548.41 173.03,438.69 166,347 C164.57,328.37 162.18,308.13 159.73,289.94 \" fill=\"none\" id=\"E8-&gt;E3\" style=\"stroke: #383838; stroke-width: 1.0;\"/><polygon fill=\"#FFFFFF\" points=\"156.92,270.12,166.5114,287.9527,152.6494,289.913,156.92,270.12\" style=\"stroke: #383838; stroke-width: 1.0;\"/><ellipse cx=\"165.3293\" cy=\"293.8766\" fill=\"#383838\" rx=\"2\" ry=\"2\" style=\"stroke: #383838; stroke-width: 1.0;\"/><ellipse cx=\"155.4278\" cy=\"295.2768\" fill=\"#383838\" rx=\"2\" ry=\"2\" style=\"stroke: #383838; stroke-width: 1.0;\"/></a><!--MD5=[f4cf0736d43fd73c4ef68817c49d37d5]\n",
       "reverse link E6 to E8--><a href=\"psysml:4e9eccbd-3da0-4f6c-a773-1d808904fdc5\" target=\"_top\" title=\"psysml:4e9eccbd-3da0-4f6c-a773-1d808904fdc5\" xlink:actuate=\"onRequest\" xlink:href=\"psysml:4e9eccbd-3da0-4f6c-a773-1d808904fdc5\" xlink:show=\"new\" xlink:title=\"psysml:4e9eccbd-3da0-4f6c-a773-1d808904fdc5\" xlink:type=\"simple\"><path d=\"M134.44,541.68 C143.55,559.83 153.45,579.55 160.8,594.19 \" fill=\"none\" id=\"E6&lt;-E8\" style=\"stroke: #383838; stroke-width: 1.0;\"/><polygon fill=\"#383838\" points=\"128.6,530.05,127.7161,537.2067,133.9824,540.7752,134.8663,533.6185,128.6,530.05\" style=\"stroke: #383838; stroke-width: 1.0;\"/></a><!--MD5=[8e04057e7b3cbc0dca4fc78ea351e2da]\n",
       "reverse link E10 to E3--><a href=\"psysml:800170d4-464e-4c2e-99b4-fb1d2de59c3f\" target=\"_top\" title=\"psysml:800170d4-464e-4c2e-99b4-fb1d2de59c3f\" xlink:actuate=\"onRequest\" xlink:href=\"psysml:800170d4-464e-4c2e-99b4-fb1d2de59c3f\" xlink:show=\"new\" xlink:title=\"psysml:800170d4-464e-4c2e-99b4-fb1d2de59c3f\" xlink:type=\"simple\"><path d=\"M98.98,128.98 C109.72,150.06 122.08,174.29 132.05,193.84 \" fill=\"none\" id=\"E10&lt;-E3\" style=\"stroke: #383838; stroke-width: 1.0;\"/><polygon fill=\"#FFFFFF\" points=\"93.03,117.33,92.1919,124.4922,98.4809,128.0206,99.319,120.8583,93.03,117.33\" style=\"stroke: #383838; stroke-width: 1.0;\"/><text fill=\"#000000\" font-family=\"sans-serif\" font-size=\"13\" lengthAdjust=\"spacingAndGlyphs\" textLength=\"7\" x=\"115\" y=\"160.0669\">y</text></a><!--MD5=[604cbf994c02b74b117f728a71673cea]\n",
       "reverse link E10 to E6--><a href=\"psysml:800170d4-464e-4c2e-99b4-fb1d2de59c3f\" target=\"_top\" title=\"psysml:800170d4-464e-4c2e-99b4-fb1d2de59c3f\" xlink:actuate=\"onRequest\" xlink:href=\"psysml:800170d4-464e-4c2e-99b4-fb1d2de59c3f\" xlink:show=\"new\" xlink:title=\"psysml:800170d4-464e-4c2e-99b4-fb1d2de59c3f\" xlink:type=\"simple\"><path d=\"M73.89,130.53 C74.34,192.6 77.02,300.97 89,393 C91.63,413.19 96.24,435.39 100.47,453.55 \" fill=\"none\" id=\"E10&lt;-E6\" style=\"stroke: #383838; stroke-width: 1.0;\"/><polygon fill=\"#FFFFFF\" points=\"73.83,117.27,69.863,123.2919,73.8959,129.2698,77.8629,123.2479,73.83,117.27\" style=\"stroke: #383838; stroke-width: 1.0;\"/><text fill=\"#000000\" font-family=\"sans-serif\" font-size=\"13\" lengthAdjust=\"spacingAndGlyphs\" textLength=\"7\" x=\"82\" y=\"313.0669\">y</text></a><!--MD5=[f8f20a50cda4171d928f7210108270f0]\n",
       "@startuml\r\n",
       "top to bottom direction\r\n",
       "skinparam monochrome true\r\n",
       "skinparam classbackgroundcolor white\r\n",
       "skinparam shadowing false\r\n",
       "skinparam wrapWidth 300\r\n",
       "hide circle\r\n",
       "\r\n",
       "package \"BlockTest\" as E1  [[psysml:1f80f8be-3c31-4480-9ece-24461005c64a ]]  {\r\n",
       "comp usage \"f: A\" as E2  <<(T,blue)part>> [[psysml:77ca47e2-95bd-4f5e-baaf-35974d96745c ]] {\r\n",
       "}\r\n",
       "comp def \"A\" as E3  <<(T,blue)part def>> [[psysml:feda5581-6f8c-419d-8ba7-a8a04be8503b ]] {\r\n",
       "- - ports - -\r\n",
       "c: C\r\n",
       "}\r\n",
       "comp usage \"b: B\" as E4  <<(T,blue)part>> [[psysml:ebd0a90b-6b0b-4fe7-b689-bf63abb6537b ]] {\r\n",
       "}\r\n",
       "comp def \"B\" as E6  <<(T,blue)part def>> [[psysml:7287ae62-763a-4b84-8405-f658443750c5 ]] {\r\n",
       "- - ports - -\r\n",
       "x: ~C\r\n",
       "}\r\n",
       "package \"P\" as E7  [[psysml:8a2f941b-3a97-4b54-9145-5eb7e96c5b49 ]]  {\r\n",
       "}\r\n",
       "comp usage \"a: A\" as E8  <<(T,blue)part>> [[psysml:4e9eccbd-3da0-4f6c-a773-1d808904fdc5 ]] {\r\n",
       "}\r\n",
       "comp def \"C\" as E10  <<(T,blue)port def>> [[psysml:8c4f99f3-2675-4f4d-a756-da09d407570d ]] {\r\n",
       "- - references - -\r\n",
       "y: A, B <b>as</b> z2 \r\n",
       "}\r\n",
       "E2 - -:|> E3 [[psysml:f1219804-170d-45ce-a1b2-74df9d2ed655 ]] \r\n",
       "E3 *- - E4 [[psysml:ebd0a90b-6b0b-4fe7-b689-bf63abb6537b ]] \r\n",
       "E4 - -:|> E6 [[psysml:0b7e6d0b-da90-43fd-82ff-3f36fc5229c0 ]] \r\n",
       "E6 +- - E7 [[psysml:8a2f941b-3a97-4b54-9145-5eb7e96c5b49 ]] \r\n",
       "E8 - -:|> E3 [[psysml:edfb0c1d-eeea-43d5-bece-b0bce4203cff ]] \r\n",
       "E6 *- - E8 [[psysml:4e9eccbd-3da0-4f6c-a773-1d808904fdc5 ]] \r\n",
       "E10 o- - E3 [[psysml:800170d4-464e-4c2e-99b4-fb1d2de59c3f ]] : y\r\n",
       "E10 o- - E6 [[psysml:800170d4-464e-4c2e-99b4-fb1d2de59c3f ]] : y\r\n",
       "}\r\n",
       "@enduml\r\n",
       "\n",
       "PlantUML version 1.2020.13(Sat Jun 13 12:26:38 UTC 2020)\n",
       "(EPL source distribution)\n",
       "Java Runtime: OpenJDK Runtime Environment\n",
       "JVM: OpenJDK 64-Bit Server VM\n",
       "Default Encoding: UTF-8\n",
       "Language: en\n",
       "Country: null\n",
       "--></g></svg>"
      ]
     },
     "execution_count": 49,
     "metadata": {},
     "output_type": "execute_result"
    }
   ],
   "source": [
    "%viz --style=\"TB\" --view=\"Sequence\" \"BlockTest\""
   ]
  },
  {
   "cell_type": "code",
   "execution_count": 50,
   "id": "injured-scanning",
   "metadata": {
    "execution": {
     "iopub.execute_input": "2021-03-26T12:07:41.448113Z",
     "iopub.status.busy": "2021-03-26T12:07:41.447405Z",
     "iopub.status.idle": "2021-03-26T12:07:41.515353Z",
     "shell.execute_reply": "2021-03-26T12:07:41.513836Z"
    }
   },
   "outputs": [
    {
     "data": {
      "image/svg+xml": [
       "<?xml version=\"1.0\" encoding=\"UTF-8\" standalone=\"no\"?><svg xmlns=\"http://www.w3.org/2000/svg\" xmlns:xlink=\"http://www.w3.org/1999/xlink\" contentScriptType=\"application/ecmascript\" contentStyleType=\"text/css\" height=\"672px\" preserveAspectRatio=\"none\" style=\"width:231px;height:672px;\" version=\"1.1\" viewBox=\"0 0 231 672\" width=\"231px\" zoomAndPan=\"magnify\"><defs/><g><!--MD5=[fbc87193dbaf4d95561dea2c320d4a47]\n",
       "cluster E1--><a href=\"psysml:1f80f8be-3c31-4480-9ece-24461005c64a\" target=\"_top\" title=\"psysml:1f80f8be-3c31-4480-9ece-24461005c64a\" xlink:actuate=\"onRequest\" xlink:href=\"psysml:1f80f8be-3c31-4480-9ece-24461005c64a\" xlink:show=\"new\" xlink:title=\"psysml:1f80f8be-3c31-4480-9ece-24461005c64a\" xlink:type=\"simple\"><polygon fill=\"#FFFFFF\" points=\"16,6,99,6,106,28.2969,209,28.2969,209,660,16,660,16,6\" style=\"stroke: #000000; stroke-width: 1.5;\"/><line style=\"stroke: #000000; stroke-width: 1.5;\" x1=\"16\" x2=\"106\" y1=\"28.2969\" y2=\"28.2969\"/><text fill=\"#000000\" font-family=\"sans-serif\" font-size=\"14\" font-weight=\"bold\" lengthAdjust=\"spacingAndGlyphs\" textLength=\"77\" x=\"20\" y=\"20.9951\">BlockTest</text></a><!--MD5=[b4997ac47864f28c2f74865a473b2911]\n",
       "class E2--><a href=\"psysml:77ca47e2-95bd-4f5e-baaf-35974d96745c\" target=\"_top\" title=\"psysml:77ca47e2-95bd-4f5e-baaf-35974d96745c\" xlink:actuate=\"onRequest\" xlink:href=\"psysml:77ca47e2-95bd-4f5e-baaf-35974d96745c\" xlink:show=\"new\" xlink:title=\"psysml:77ca47e2-95bd-4f5e-baaf-35974d96745c\" xlink:type=\"simple\"><rect fill=\"#FFFFFF\" height=\"45.9375\" id=\"E2\" rx=\"10\" ry=\"10\" style=\"stroke: #383838; stroke-width: 1.5;\" width=\"42\" x=\"151\" y=\"56\"/><text fill=\"#000000\" font-family=\"sans-serif\" font-size=\"12\" font-style=\"italic\" lengthAdjust=\"spacingAndGlyphs\" textLength=\"40\" x=\"152\" y=\"72.1387\">«part»</text><text fill=\"#000000\" font-family=\"sans-serif\" font-size=\"12\" lengthAdjust=\"spacingAndGlyphs\" textLength=\"20\" x=\"162\" y=\"86.1074\">f: A</text><line style=\"stroke: #383838; stroke-width: 1.5;\" x1=\"152\" x2=\"192\" y1=\"93.9375\" y2=\"93.9375\"/></a><!--MD5=[09b614a08d8cba4a07c9adeb5e0fee81]\n",
       "class E3--><a href=\"psysml:feda5581-6f8c-419d-8ba7-a8a04be8503b\" target=\"_top\" title=\"psysml:feda5581-6f8c-419d-8ba7-a8a04be8503b\" xlink:actuate=\"onRequest\" xlink:href=\"psysml:feda5581-6f8c-419d-8ba7-a8a04be8503b\" xlink:show=\"new\" xlink:title=\"psysml:feda5581-6f8c-419d-8ba7-a8a04be8503b\" xlink:type=\"simple\"><rect fill=\"#FFFFFF\" height=\"75.5469\" id=\"E3\" style=\"stroke: #383838; stroke-width: 1.5;\" width=\"66\" x=\"118\" y=\"194\"/><text fill=\"#000000\" font-family=\"sans-serif\" font-size=\"12\" font-style=\"italic\" lengthAdjust=\"spacingAndGlyphs\" textLength=\"64\" x=\"119\" y=\"210.1387\">«part def»</text><text fill=\"#000000\" font-family=\"sans-serif\" font-size=\"12\" lengthAdjust=\"spacingAndGlyphs\" textLength=\"8\" x=\"147\" y=\"224.1074\">A</text><line style=\"stroke: #383838; stroke-width: 1.5;\" x1=\"119\" x2=\"183\" y1=\"231.9375\" y2=\"231.9375\"/><text fill=\"#000000\" font-family=\"sans-serif\" font-size=\"11\" lengthAdjust=\"spacingAndGlyphs\" textLength=\"22\" x=\"124\" y=\"262.9526\">c: C</text><line style=\"stroke: #383838; stroke-width: 1.0;\" x1=\"119\" x2=\"136\" y1=\"246.3398\" y2=\"246.3398\"/><text fill=\"#000000\" font-family=\"sans-serif\" font-size=\"11\" lengthAdjust=\"spacingAndGlyphs\" textLength=\"30\" x=\"136\" y=\"249.6479\">ports</text><line style=\"stroke: #383838; stroke-width: 1.0;\" x1=\"166\" x2=\"183\" y1=\"246.3398\" y2=\"246.3398\"/></a><!--MD5=[ebbe1d658d1005bcc118a6aa81145e00]\n",
       "class E4--><a href=\"psysml:ebd0a90b-6b0b-4fe7-b689-bf63abb6537b\" target=\"_top\" title=\"psysml:ebd0a90b-6b0b-4fe7-b689-bf63abb6537b\" xlink:actuate=\"onRequest\" xlink:href=\"psysml:ebd0a90b-6b0b-4fe7-b689-bf63abb6537b\" xlink:show=\"new\" xlink:title=\"psysml:ebd0a90b-6b0b-4fe7-b689-bf63abb6537b\" xlink:type=\"simple\"><rect fill=\"#FFFFFF\" height=\"45.9375\" id=\"E4\" rx=\"10\" ry=\"10\" style=\"stroke: #383838; stroke-width: 1.5;\" width=\"42\" x=\"106\" y=\"347\"/><text fill=\"#000000\" font-family=\"sans-serif\" font-size=\"12\" font-style=\"italic\" lengthAdjust=\"spacingAndGlyphs\" textLength=\"40\" x=\"107\" y=\"363.1387\">«part»</text><text fill=\"#000000\" font-family=\"sans-serif\" font-size=\"12\" lengthAdjust=\"spacingAndGlyphs\" textLength=\"24\" x=\"115\" y=\"377.1074\">b: B</text><line style=\"stroke: #383838; stroke-width: 1.5;\" x1=\"107\" x2=\"147\" y1=\"384.9375\" y2=\"384.9375\"/></a><!--MD5=[60a26617385b1d2d0262a64233df1f8d]\n",
       "class E6--><a href=\"psysml:7287ae62-763a-4b84-8405-f658443750c5\" target=\"_top\" title=\"psysml:7287ae62-763a-4b84-8405-f658443750c5\" xlink:actuate=\"onRequest\" xlink:href=\"psysml:7287ae62-763a-4b84-8405-f658443750c5\" xlink:show=\"new\" xlink:title=\"psysml:7287ae62-763a-4b84-8405-f658443750c5\" xlink:type=\"simple\"><rect fill=\"#FFFFFF\" height=\"75.5469\" id=\"E6\" style=\"stroke: #383838; stroke-width: 1.5;\" width=\"66\" x=\"77\" y=\"454\"/><text fill=\"#000000\" font-family=\"sans-serif\" font-size=\"12\" font-style=\"italic\" lengthAdjust=\"spacingAndGlyphs\" textLength=\"64\" x=\"78\" y=\"470.1387\">«part def»</text><text fill=\"#000000\" font-family=\"sans-serif\" font-size=\"12\" lengthAdjust=\"spacingAndGlyphs\" textLength=\"8\" x=\"106\" y=\"484.1074\">B</text><line style=\"stroke: #383838; stroke-width: 1.5;\" x1=\"78\" x2=\"142\" y1=\"491.9375\" y2=\"491.9375\"/><text fill=\"#000000\" font-family=\"sans-serif\" font-size=\"11\" lengthAdjust=\"spacingAndGlyphs\" textLength=\"31\" x=\"83\" y=\"522.9526\">x: ~C</text><line style=\"stroke: #383838; stroke-width: 1.0;\" x1=\"78\" x2=\"95\" y1=\"506.3398\" y2=\"506.3398\"/><text fill=\"#000000\" font-family=\"sans-serif\" font-size=\"11\" lengthAdjust=\"spacingAndGlyphs\" textLength=\"30\" x=\"95\" y=\"509.6479\">ports</text><line style=\"stroke: #383838; stroke-width: 1.0;\" x1=\"125\" x2=\"142\" y1=\"506.3398\" y2=\"506.3398\"/></a><!--MD5=[b9389687b975829384b498ac4b7476b2]\n",
       "class E8--><a href=\"psysml:4e9eccbd-3da0-4f6c-a773-1d808904fdc5\" target=\"_top\" title=\"psysml:4e9eccbd-3da0-4f6c-a773-1d808904fdc5\" xlink:actuate=\"onRequest\" xlink:href=\"psysml:4e9eccbd-3da0-4f6c-a773-1d808904fdc5\" xlink:show=\"new\" xlink:title=\"psysml:4e9eccbd-3da0-4f6c-a773-1d808904fdc5\" xlink:type=\"simple\"><rect fill=\"#FFFFFF\" height=\"45.9375\" id=\"E8\" rx=\"10\" ry=\"10\" style=\"stroke: #383838; stroke-width: 1.5;\" width=\"42\" x=\"151\" y=\"594.5\"/><text fill=\"#000000\" font-family=\"sans-serif\" font-size=\"12\" font-style=\"italic\" lengthAdjust=\"spacingAndGlyphs\" textLength=\"40\" x=\"152\" y=\"610.6387\">«part»</text><text fill=\"#000000\" font-family=\"sans-serif\" font-size=\"12\" lengthAdjust=\"spacingAndGlyphs\" textLength=\"24\" x=\"160\" y=\"624.6074\">a: A</text><line style=\"stroke: #383838; stroke-width: 1.5;\" x1=\"152\" x2=\"192\" y1=\"632.4375\" y2=\"632.4375\"/></a><!--MD5=[96f4274e9e20536e775497830990834d]\n",
       "class E10--><a href=\"psysml:8c4f99f3-2675-4f4d-a756-da09d407570d\" target=\"_top\" title=\"psysml:8c4f99f3-2675-4f4d-a756-da09d407570d\" xlink:actuate=\"onRequest\" xlink:href=\"psysml:8c4f99f3-2675-4f4d-a756-da09d407570d\" xlink:show=\"new\" xlink:title=\"psysml:8c4f99f3-2675-4f4d-a756-da09d407570d\" xlink:type=\"simple\"><rect fill=\"#FFFFFF\" height=\"75.5469\" id=\"E10\" style=\"stroke: #383838; stroke-width: 1.5;\" width=\"84\" x=\"32\" y=\"41\"/><text fill=\"#000000\" font-family=\"sans-serif\" font-size=\"12\" font-style=\"italic\" lengthAdjust=\"spacingAndGlyphs\" textLength=\"64\" x=\"42\" y=\"57.1387\">«port def»</text><text fill=\"#000000\" font-family=\"sans-serif\" font-size=\"12\" lengthAdjust=\"spacingAndGlyphs\" textLength=\"8\" x=\"70\" y=\"71.1074\">C</text><line style=\"stroke: #383838; stroke-width: 1.5;\" x1=\"33\" x2=\"115\" y1=\"78.9375\" y2=\"78.9375\"/><text fill=\"#000000\" font-family=\"sans-serif\" font-size=\"11\" lengthAdjust=\"spacingAndGlyphs\" textLength=\"37\" x=\"38\" y=\"109.9526\">y: A, B</text><text fill=\"#000000\" font-family=\"sans-serif\" font-size=\"11\" font-weight=\"bold\" lengthAdjust=\"spacingAndGlyphs\" textLength=\"15\" x=\"79\" y=\"109.9526\">as</text><text fill=\"#000000\" font-family=\"sans-serif\" font-size=\"11\" lengthAdjust=\"spacingAndGlyphs\" textLength=\"12\" x=\"98\" y=\"109.9526\">z2</text><line style=\"stroke: #383838; stroke-width: 1.0;\" x1=\"33\" x2=\"43\" y1=\"93.3398\" y2=\"93.3398\"/><text fill=\"#000000\" font-family=\"sans-serif\" font-size=\"11\" lengthAdjust=\"spacingAndGlyphs\" textLength=\"62\" x=\"43\" y=\"96.6479\">references</text><line style=\"stroke: #383838; stroke-width: 1.0;\" x1=\"105\" x2=\"115\" y1=\"93.3398\" y2=\"93.3398\"/></a><a href=\"psysml:8a2f941b-3a97-4b54-9145-5eb7e96c5b49\" target=\"_top\" title=\"psysml:8a2f941b-3a97-4b54-9145-5eb7e96c5b49\" xlink:actuate=\"onRequest\" xlink:href=\"psysml:8a2f941b-3a97-4b54-9145-5eb7e96c5b49\" xlink:show=\"new\" xlink:title=\"psysml:8a2f941b-3a97-4b54-9145-5eb7e96c5b49\" xlink:type=\"simple\"><polygon fill=\"#FFFFFF\" points=\"86,591,102,591,109,613.2969,116,613.2969,116,643.5938,86,643.5938,86,591\" style=\"stroke: #000000; stroke-width: 1.5;\"/><line style=\"stroke: #000000; stroke-width: 1.5;\" x1=\"86\" x2=\"109\" y1=\"613.2969\" y2=\"613.2969\"/><text fill=\"#000000\" font-family=\"sans-serif\" font-size=\"14\" font-weight=\"bold\" lengthAdjust=\"spacingAndGlyphs\" textLength=\"10\" x=\"90\" y=\"605.9951\">P</text></a><!--MD5=[2720a5a1f2c3fca2055b230370638851]\n",
       "link E2 to E3--><a href=\"psysml:f1219804-170d-45ce-a1b2-74df9d2ed655\" target=\"_top\" title=\"psysml:f1219804-170d-45ce-a1b2-74df9d2ed655\" xlink:actuate=\"onRequest\" xlink:href=\"psysml:f1219804-170d-45ce-a1b2-74df9d2ed655\" xlink:show=\"new\" xlink:title=\"psysml:f1219804-170d-45ce-a1b2-74df9d2ed655\" xlink:type=\"simple\"><path d=\"M168.9,102.28 C166.28,121.12 162.41,148.97 158.94,173.94 \" fill=\"none\" id=\"E2-&gt;E3\" style=\"stroke: #383838; stroke-width: 1.0;\"/><polygon fill=\"#FFFFFF\" points=\"156.15,193.98,151.8354,174.1966,165.7018,176.1261,156.15,193.98\" style=\"stroke: #383838; stroke-width: 1.0;\"/><ellipse cx=\"154.6019\" cy=\"168.8266\" fill=\"#383838\" rx=\"2\" ry=\"2\" style=\"stroke: #383838; stroke-width: 1.0;\"/><ellipse cx=\"164.5065\" cy=\"170.2048\" fill=\"#383838\" rx=\"2\" ry=\"2\" style=\"stroke: #383838; stroke-width: 1.0;\"/></a><!--MD5=[4672eba38e49728da53d11aeb285b987]\n",
       "reverse link E3 to E4--><a href=\"psysml:ebd0a90b-6b0b-4fe7-b689-bf63abb6537b\" target=\"_top\" title=\"psysml:ebd0a90b-6b0b-4fe7-b689-bf63abb6537b\" xlink:actuate=\"onRequest\" xlink:href=\"psysml:ebd0a90b-6b0b-4fe7-b689-bf63abb6537b\" xlink:show=\"new\" xlink:title=\"psysml:ebd0a90b-6b0b-4fe7-b689-bf63abb6537b\" xlink:type=\"simple\"><path d=\"M142.17,283.02 C138.31,304.93 133.97,329.52 130.92,346.77 \" fill=\"none\" id=\"E3&lt;-E4\" style=\"stroke: #383838; stroke-width: 1.0;\"/><polygon fill=\"#383838\" points=\"144.44,270.16,139.4532,275.3688,142.3433,281.9754,147.3301,276.7666,144.44,270.16\" style=\"stroke: #383838; stroke-width: 1.0;\"/></a><!--MD5=[79568f1e445c3877b6a54524624ccc7d]\n",
       "link E4 to E6--><a href=\"psysml:0b7e6d0b-da90-43fd-82ff-3f36fc5229c0\" target=\"_top\" title=\"psysml:0b7e6d0b-da90-43fd-82ff-3f36fc5229c0\" xlink:actuate=\"onRequest\" xlink:href=\"psysml:0b7e6d0b-da90-43fd-82ff-3f36fc5229c0\" xlink:show=\"new\" xlink:title=\"psysml:0b7e6d0b-da90-43fd-82ff-3f36fc5229c0\" xlink:type=\"simple\"><path d=\"M123.88,393.01 C122.25,404.51 120.18,419.17 118.13,433.62 \" fill=\"none\" id=\"E4-&gt;E6\" style=\"stroke: #383838; stroke-width: 1.0;\"/><polygon fill=\"#FFFFFF\" points=\"115.3,453.57,111.0294,433.777,124.8914,435.7373,115.3,453.57\" style=\"stroke: #383838; stroke-width: 1.0;\"/><ellipse cx=\"113.8078\" cy=\"428.4132\" fill=\"#383838\" rx=\"2\" ry=\"2\" style=\"stroke: #383838; stroke-width: 1.0;\"/><ellipse cx=\"123.7093\" cy=\"429.8134\" fill=\"#383838\" rx=\"2\" ry=\"2\" style=\"stroke: #383838; stroke-width: 1.0;\"/></a><!--MD5=[3f50a3473f1dfb74d3f76443e03635af]\n",
       "reverse link E6 to E7--><a href=\"psysml:8a2f941b-3a97-4b54-9145-5eb7e96c5b49\" target=\"_top\" title=\"psysml:8a2f941b-3a97-4b54-9145-5eb7e96c5b49\" xlink:actuate=\"onRequest\" xlink:href=\"psysml:8a2f941b-3a97-4b54-9145-5eb7e96c5b49\" xlink:show=\"new\" xlink:title=\"psysml:8a2f941b-3a97-4b54-9145-5eb7e96c5b49\" xlink:type=\"simple\"><path d=\"M106.18,545.35 C105.04,561.08 103.83,577.65 102.87,590.83 \" fill=\"none\" id=\"E6&lt;-E7\" style=\"stroke: #383838; stroke-width: 1.0;\"/><ellipse cx=\"106.7138\" cy=\"538.0285\" fill=\"#FFFFFF\" rx=\"8\" ry=\"8\" style=\"stroke: #383838; stroke-width: 1.0;\"/><line style=\"stroke: #383838; stroke-width: 1.0;\" x1=\"106.1276\" x2=\"107.3\" y1=\"546.007\" y2=\"530.05\"/><line style=\"stroke: #383838; stroke-width: 1.0;\" x1=\"98.7353\" x2=\"114.6923\" y1=\"537.4423\" y2=\"538.6147\"/></a><!--MD5=[95fa686b5a16158bcdbcaeead89f639b]\n",
       "link E8 to E3--><a href=\"psysml:edfb0c1d-eeea-43d5-bece-b0bce4203cff\" target=\"_top\" title=\"psysml:edfb0c1d-eeea-43d5-bece-b0bce4203cff\" xlink:actuate=\"onRequest\" xlink:href=\"psysml:edfb0c1d-eeea-43d5-bece-b0bce4203cff\" xlink:show=\"new\" xlink:title=\"psysml:edfb0c1d-eeea-43d5-bece-b0bce4203cff\" xlink:type=\"simple\"><path d=\"M172.32,594.45 C172.8,548.41 173.03,438.69 166,347 C164.57,328.37 162.18,308.13 159.73,289.94 \" fill=\"none\" id=\"E8-&gt;E3\" style=\"stroke: #383838; stroke-width: 1.0;\"/><polygon fill=\"#FFFFFF\" points=\"156.92,270.12,166.5114,287.9527,152.6494,289.913,156.92,270.12\" style=\"stroke: #383838; stroke-width: 1.0;\"/><ellipse cx=\"165.3293\" cy=\"293.8766\" fill=\"#383838\" rx=\"2\" ry=\"2\" style=\"stroke: #383838; stroke-width: 1.0;\"/><ellipse cx=\"155.4278\" cy=\"295.2768\" fill=\"#383838\" rx=\"2\" ry=\"2\" style=\"stroke: #383838; stroke-width: 1.0;\"/></a><!--MD5=[f4cf0736d43fd73c4ef68817c49d37d5]\n",
       "reverse link E6 to E8--><a href=\"psysml:4e9eccbd-3da0-4f6c-a773-1d808904fdc5\" target=\"_top\" title=\"psysml:4e9eccbd-3da0-4f6c-a773-1d808904fdc5\" xlink:actuate=\"onRequest\" xlink:href=\"psysml:4e9eccbd-3da0-4f6c-a773-1d808904fdc5\" xlink:show=\"new\" xlink:title=\"psysml:4e9eccbd-3da0-4f6c-a773-1d808904fdc5\" xlink:type=\"simple\"><path d=\"M134.44,541.68 C143.55,559.83 153.45,579.55 160.8,594.19 \" fill=\"none\" id=\"E6&lt;-E8\" style=\"stroke: #383838; stroke-width: 1.0;\"/><polygon fill=\"#383838\" points=\"128.6,530.05,127.7161,537.2067,133.9824,540.7752,134.8663,533.6185,128.6,530.05\" style=\"stroke: #383838; stroke-width: 1.0;\"/></a><!--MD5=[8e04057e7b3cbc0dca4fc78ea351e2da]\n",
       "reverse link E10 to E3--><a href=\"psysml:800170d4-464e-4c2e-99b4-fb1d2de59c3f\" target=\"_top\" title=\"psysml:800170d4-464e-4c2e-99b4-fb1d2de59c3f\" xlink:actuate=\"onRequest\" xlink:href=\"psysml:800170d4-464e-4c2e-99b4-fb1d2de59c3f\" xlink:show=\"new\" xlink:title=\"psysml:800170d4-464e-4c2e-99b4-fb1d2de59c3f\" xlink:type=\"simple\"><path d=\"M98.98,128.98 C109.72,150.06 122.08,174.29 132.05,193.84 \" fill=\"none\" id=\"E10&lt;-E3\" style=\"stroke: #383838; stroke-width: 1.0;\"/><polygon fill=\"#FFFFFF\" points=\"93.03,117.33,92.1919,124.4922,98.4809,128.0206,99.319,120.8583,93.03,117.33\" style=\"stroke: #383838; stroke-width: 1.0;\"/><text fill=\"#000000\" font-family=\"sans-serif\" font-size=\"13\" lengthAdjust=\"spacingAndGlyphs\" textLength=\"7\" x=\"115\" y=\"160.0669\">y</text></a><!--MD5=[604cbf994c02b74b117f728a71673cea]\n",
       "reverse link E10 to E6--><a href=\"psysml:800170d4-464e-4c2e-99b4-fb1d2de59c3f\" target=\"_top\" title=\"psysml:800170d4-464e-4c2e-99b4-fb1d2de59c3f\" xlink:actuate=\"onRequest\" xlink:href=\"psysml:800170d4-464e-4c2e-99b4-fb1d2de59c3f\" xlink:show=\"new\" xlink:title=\"psysml:800170d4-464e-4c2e-99b4-fb1d2de59c3f\" xlink:type=\"simple\"><path d=\"M73.89,130.53 C74.34,192.6 77.02,300.97 89,393 C91.63,413.19 96.24,435.39 100.47,453.55 \" fill=\"none\" id=\"E10&lt;-E6\" style=\"stroke: #383838; stroke-width: 1.0;\"/><polygon fill=\"#FFFFFF\" points=\"73.83,117.27,69.863,123.2919,73.8959,129.2698,77.8629,123.2479,73.83,117.27\" style=\"stroke: #383838; stroke-width: 1.0;\"/><text fill=\"#000000\" font-family=\"sans-serif\" font-size=\"13\" lengthAdjust=\"spacingAndGlyphs\" textLength=\"7\" x=\"82\" y=\"313.0669\">y</text></a><!--MD5=[f8f20a50cda4171d928f7210108270f0]\n",
       "@startuml\r\n",
       "top to bottom direction\r\n",
       "skinparam monochrome true\r\n",
       "skinparam classbackgroundcolor white\r\n",
       "skinparam shadowing false\r\n",
       "skinparam wrapWidth 300\r\n",
       "hide circle\r\n",
       "\r\n",
       "package \"BlockTest\" as E1  [[psysml:1f80f8be-3c31-4480-9ece-24461005c64a ]]  {\r\n",
       "comp usage \"f: A\" as E2  <<(T,blue)part>> [[psysml:77ca47e2-95bd-4f5e-baaf-35974d96745c ]] {\r\n",
       "}\r\n",
       "comp def \"A\" as E3  <<(T,blue)part def>> [[psysml:feda5581-6f8c-419d-8ba7-a8a04be8503b ]] {\r\n",
       "- - ports - -\r\n",
       "c: C\r\n",
       "}\r\n",
       "comp usage \"b: B\" as E4  <<(T,blue)part>> [[psysml:ebd0a90b-6b0b-4fe7-b689-bf63abb6537b ]] {\r\n",
       "}\r\n",
       "comp def \"B\" as E6  <<(T,blue)part def>> [[psysml:7287ae62-763a-4b84-8405-f658443750c5 ]] {\r\n",
       "- - ports - -\r\n",
       "x: ~C\r\n",
       "}\r\n",
       "package \"P\" as E7  [[psysml:8a2f941b-3a97-4b54-9145-5eb7e96c5b49 ]]  {\r\n",
       "}\r\n",
       "comp usage \"a: A\" as E8  <<(T,blue)part>> [[psysml:4e9eccbd-3da0-4f6c-a773-1d808904fdc5 ]] {\r\n",
       "}\r\n",
       "comp def \"C\" as E10  <<(T,blue)port def>> [[psysml:8c4f99f3-2675-4f4d-a756-da09d407570d ]] {\r\n",
       "- - references - -\r\n",
       "y: A, B <b>as</b> z2 \r\n",
       "}\r\n",
       "E2 - -:|> E3 [[psysml:f1219804-170d-45ce-a1b2-74df9d2ed655 ]] \r\n",
       "E3 *- - E4 [[psysml:ebd0a90b-6b0b-4fe7-b689-bf63abb6537b ]] \r\n",
       "E4 - -:|> E6 [[psysml:0b7e6d0b-da90-43fd-82ff-3f36fc5229c0 ]] \r\n",
       "E6 +- - E7 [[psysml:8a2f941b-3a97-4b54-9145-5eb7e96c5b49 ]] \r\n",
       "E8 - -:|> E3 [[psysml:edfb0c1d-eeea-43d5-bece-b0bce4203cff ]] \r\n",
       "E6 *- - E8 [[psysml:4e9eccbd-3da0-4f6c-a773-1d808904fdc5 ]] \r\n",
       "E10 o- - E3 [[psysml:800170d4-464e-4c2e-99b4-fb1d2de59c3f ]] : y\r\n",
       "E10 o- - E6 [[psysml:800170d4-464e-4c2e-99b4-fb1d2de59c3f ]] : y\r\n",
       "}\r\n",
       "@enduml\r\n",
       "\n",
       "PlantUML version 1.2020.13(Sat Jun 13 12:26:38 UTC 2020)\n",
       "(EPL source distribution)\n",
       "Java Runtime: OpenJDK Runtime Environment\n",
       "JVM: OpenJDK 64-Bit Server VM\n",
       "Default Encoding: UTF-8\n",
       "Language: en\n",
       "Country: null\n",
       "--></g></svg>"
      ]
     },
     "execution_count": 50,
     "metadata": {},
     "output_type": "execute_result"
    }
   ],
   "source": [
    "%viz --style=\"TB\" --view=\"MIXED\" \"BlockTest\""
   ]
  },
  {
   "cell_type": "code",
   "execution_count": 51,
   "id": "minor-connecticut",
   "metadata": {
    "execution": {
     "iopub.execute_input": "2021-03-26T12:07:41.566545Z",
     "iopub.status.busy": "2021-03-26T12:07:41.566027Z",
     "iopub.status.idle": "2021-03-26T12:07:41.631196Z",
     "shell.execute_reply": "2021-03-26T12:07:41.629813Z"
    }
   },
   "outputs": [
    {
     "data": {
      "image/svg+xml": [
       "<?xml version=\"1.0\" encoding=\"UTF-8\" standalone=\"no\"?><svg xmlns=\"http://www.w3.org/2000/svg\" xmlns:xlink=\"http://www.w3.org/1999/xlink\" contentScriptType=\"application/ecmascript\" contentStyleType=\"text/css\" height=\"672px\" preserveAspectRatio=\"none\" style=\"width:231px;height:672px;\" version=\"1.1\" viewBox=\"0 0 231 672\" width=\"231px\" zoomAndPan=\"magnify\"><defs/><g><!--MD5=[fbc87193dbaf4d95561dea2c320d4a47]\n",
       "cluster E1--><a href=\"psysml:1f80f8be-3c31-4480-9ece-24461005c64a\" target=\"_top\" title=\"psysml:1f80f8be-3c31-4480-9ece-24461005c64a\" xlink:actuate=\"onRequest\" xlink:href=\"psysml:1f80f8be-3c31-4480-9ece-24461005c64a\" xlink:show=\"new\" xlink:title=\"psysml:1f80f8be-3c31-4480-9ece-24461005c64a\" xlink:type=\"simple\"><polygon fill=\"#FFFFFF\" points=\"16,6,99,6,106,28.2969,209,28.2969,209,660,16,660,16,6\" style=\"stroke: #000000; stroke-width: 1.5;\"/><line style=\"stroke: #000000; stroke-width: 1.5;\" x1=\"16\" x2=\"106\" y1=\"28.2969\" y2=\"28.2969\"/><text fill=\"#000000\" font-family=\"sans-serif\" font-size=\"14\" font-weight=\"bold\" lengthAdjust=\"spacingAndGlyphs\" textLength=\"77\" x=\"20\" y=\"20.9951\">BlockTest</text></a><!--MD5=[b4997ac47864f28c2f74865a473b2911]\n",
       "class E2--><a href=\"psysml:77ca47e2-95bd-4f5e-baaf-35974d96745c\" target=\"_top\" title=\"psysml:77ca47e2-95bd-4f5e-baaf-35974d96745c\" xlink:actuate=\"onRequest\" xlink:href=\"psysml:77ca47e2-95bd-4f5e-baaf-35974d96745c\" xlink:show=\"new\" xlink:title=\"psysml:77ca47e2-95bd-4f5e-baaf-35974d96745c\" xlink:type=\"simple\"><rect fill=\"#FFFFFF\" height=\"45.9375\" id=\"E2\" rx=\"10\" ry=\"10\" style=\"stroke: #383838; stroke-width: 1.5;\" width=\"42\" x=\"151\" y=\"56\"/><text fill=\"#000000\" font-family=\"sans-serif\" font-size=\"12\" font-style=\"italic\" lengthAdjust=\"spacingAndGlyphs\" textLength=\"40\" x=\"152\" y=\"72.1387\">«part»</text><text fill=\"#000000\" font-family=\"sans-serif\" font-size=\"12\" lengthAdjust=\"spacingAndGlyphs\" textLength=\"20\" x=\"162\" y=\"86.1074\">f: A</text><line style=\"stroke: #383838; stroke-width: 1.5;\" x1=\"152\" x2=\"192\" y1=\"93.9375\" y2=\"93.9375\"/></a><!--MD5=[09b614a08d8cba4a07c9adeb5e0fee81]\n",
       "class E3--><a href=\"psysml:feda5581-6f8c-419d-8ba7-a8a04be8503b\" target=\"_top\" title=\"psysml:feda5581-6f8c-419d-8ba7-a8a04be8503b\" xlink:actuate=\"onRequest\" xlink:href=\"psysml:feda5581-6f8c-419d-8ba7-a8a04be8503b\" xlink:show=\"new\" xlink:title=\"psysml:feda5581-6f8c-419d-8ba7-a8a04be8503b\" xlink:type=\"simple\"><rect fill=\"#FFFFFF\" height=\"75.5469\" id=\"E3\" style=\"stroke: #383838; stroke-width: 1.5;\" width=\"66\" x=\"118\" y=\"194\"/><text fill=\"#000000\" font-family=\"sans-serif\" font-size=\"12\" font-style=\"italic\" lengthAdjust=\"spacingAndGlyphs\" textLength=\"64\" x=\"119\" y=\"210.1387\">«part def»</text><text fill=\"#000000\" font-family=\"sans-serif\" font-size=\"12\" lengthAdjust=\"spacingAndGlyphs\" textLength=\"8\" x=\"147\" y=\"224.1074\">A</text><line style=\"stroke: #383838; stroke-width: 1.5;\" x1=\"119\" x2=\"183\" y1=\"231.9375\" y2=\"231.9375\"/><text fill=\"#000000\" font-family=\"sans-serif\" font-size=\"11\" lengthAdjust=\"spacingAndGlyphs\" textLength=\"22\" x=\"124\" y=\"262.9526\">c: C</text><line style=\"stroke: #383838; stroke-width: 1.0;\" x1=\"119\" x2=\"136\" y1=\"246.3398\" y2=\"246.3398\"/><text fill=\"#000000\" font-family=\"sans-serif\" font-size=\"11\" lengthAdjust=\"spacingAndGlyphs\" textLength=\"30\" x=\"136\" y=\"249.6479\">ports</text><line style=\"stroke: #383838; stroke-width: 1.0;\" x1=\"166\" x2=\"183\" y1=\"246.3398\" y2=\"246.3398\"/></a><!--MD5=[ebbe1d658d1005bcc118a6aa81145e00]\n",
       "class E4--><a href=\"psysml:ebd0a90b-6b0b-4fe7-b689-bf63abb6537b\" target=\"_top\" title=\"psysml:ebd0a90b-6b0b-4fe7-b689-bf63abb6537b\" xlink:actuate=\"onRequest\" xlink:href=\"psysml:ebd0a90b-6b0b-4fe7-b689-bf63abb6537b\" xlink:show=\"new\" xlink:title=\"psysml:ebd0a90b-6b0b-4fe7-b689-bf63abb6537b\" xlink:type=\"simple\"><rect fill=\"#FFFFFF\" height=\"45.9375\" id=\"E4\" rx=\"10\" ry=\"10\" style=\"stroke: #383838; stroke-width: 1.5;\" width=\"42\" x=\"106\" y=\"347\"/><text fill=\"#000000\" font-family=\"sans-serif\" font-size=\"12\" font-style=\"italic\" lengthAdjust=\"spacingAndGlyphs\" textLength=\"40\" x=\"107\" y=\"363.1387\">«part»</text><text fill=\"#000000\" font-family=\"sans-serif\" font-size=\"12\" lengthAdjust=\"spacingAndGlyphs\" textLength=\"24\" x=\"115\" y=\"377.1074\">b: B</text><line style=\"stroke: #383838; stroke-width: 1.5;\" x1=\"107\" x2=\"147\" y1=\"384.9375\" y2=\"384.9375\"/></a><!--MD5=[60a26617385b1d2d0262a64233df1f8d]\n",
       "class E6--><a href=\"psysml:7287ae62-763a-4b84-8405-f658443750c5\" target=\"_top\" title=\"psysml:7287ae62-763a-4b84-8405-f658443750c5\" xlink:actuate=\"onRequest\" xlink:href=\"psysml:7287ae62-763a-4b84-8405-f658443750c5\" xlink:show=\"new\" xlink:title=\"psysml:7287ae62-763a-4b84-8405-f658443750c5\" xlink:type=\"simple\"><rect fill=\"#FFFFFF\" height=\"75.5469\" id=\"E6\" style=\"stroke: #383838; stroke-width: 1.5;\" width=\"66\" x=\"77\" y=\"454\"/><text fill=\"#000000\" font-family=\"sans-serif\" font-size=\"12\" font-style=\"italic\" lengthAdjust=\"spacingAndGlyphs\" textLength=\"64\" x=\"78\" y=\"470.1387\">«part def»</text><text fill=\"#000000\" font-family=\"sans-serif\" font-size=\"12\" lengthAdjust=\"spacingAndGlyphs\" textLength=\"8\" x=\"106\" y=\"484.1074\">B</text><line style=\"stroke: #383838; stroke-width: 1.5;\" x1=\"78\" x2=\"142\" y1=\"491.9375\" y2=\"491.9375\"/><text fill=\"#000000\" font-family=\"sans-serif\" font-size=\"11\" lengthAdjust=\"spacingAndGlyphs\" textLength=\"31\" x=\"83\" y=\"522.9526\">x: ~C</text><line style=\"stroke: #383838; stroke-width: 1.0;\" x1=\"78\" x2=\"95\" y1=\"506.3398\" y2=\"506.3398\"/><text fill=\"#000000\" font-family=\"sans-serif\" font-size=\"11\" lengthAdjust=\"spacingAndGlyphs\" textLength=\"30\" x=\"95\" y=\"509.6479\">ports</text><line style=\"stroke: #383838; stroke-width: 1.0;\" x1=\"125\" x2=\"142\" y1=\"506.3398\" y2=\"506.3398\"/></a><!--MD5=[b9389687b975829384b498ac4b7476b2]\n",
       "class E8--><a href=\"psysml:4e9eccbd-3da0-4f6c-a773-1d808904fdc5\" target=\"_top\" title=\"psysml:4e9eccbd-3da0-4f6c-a773-1d808904fdc5\" xlink:actuate=\"onRequest\" xlink:href=\"psysml:4e9eccbd-3da0-4f6c-a773-1d808904fdc5\" xlink:show=\"new\" xlink:title=\"psysml:4e9eccbd-3da0-4f6c-a773-1d808904fdc5\" xlink:type=\"simple\"><rect fill=\"#FFFFFF\" height=\"45.9375\" id=\"E8\" rx=\"10\" ry=\"10\" style=\"stroke: #383838; stroke-width: 1.5;\" width=\"42\" x=\"151\" y=\"594.5\"/><text fill=\"#000000\" font-family=\"sans-serif\" font-size=\"12\" font-style=\"italic\" lengthAdjust=\"spacingAndGlyphs\" textLength=\"40\" x=\"152\" y=\"610.6387\">«part»</text><text fill=\"#000000\" font-family=\"sans-serif\" font-size=\"12\" lengthAdjust=\"spacingAndGlyphs\" textLength=\"24\" x=\"160\" y=\"624.6074\">a: A</text><line style=\"stroke: #383838; stroke-width: 1.5;\" x1=\"152\" x2=\"192\" y1=\"632.4375\" y2=\"632.4375\"/></a><!--MD5=[96f4274e9e20536e775497830990834d]\n",
       "class E10--><a href=\"psysml:8c4f99f3-2675-4f4d-a756-da09d407570d\" target=\"_top\" title=\"psysml:8c4f99f3-2675-4f4d-a756-da09d407570d\" xlink:actuate=\"onRequest\" xlink:href=\"psysml:8c4f99f3-2675-4f4d-a756-da09d407570d\" xlink:show=\"new\" xlink:title=\"psysml:8c4f99f3-2675-4f4d-a756-da09d407570d\" xlink:type=\"simple\"><rect fill=\"#FFFFFF\" height=\"75.5469\" id=\"E10\" style=\"stroke: #383838; stroke-width: 1.5;\" width=\"84\" x=\"32\" y=\"41\"/><text fill=\"#000000\" font-family=\"sans-serif\" font-size=\"12\" font-style=\"italic\" lengthAdjust=\"spacingAndGlyphs\" textLength=\"64\" x=\"42\" y=\"57.1387\">«port def»</text><text fill=\"#000000\" font-family=\"sans-serif\" font-size=\"12\" lengthAdjust=\"spacingAndGlyphs\" textLength=\"8\" x=\"70\" y=\"71.1074\">C</text><line style=\"stroke: #383838; stroke-width: 1.5;\" x1=\"33\" x2=\"115\" y1=\"78.9375\" y2=\"78.9375\"/><text fill=\"#000000\" font-family=\"sans-serif\" font-size=\"11\" lengthAdjust=\"spacingAndGlyphs\" textLength=\"37\" x=\"38\" y=\"109.9526\">y: A, B</text><text fill=\"#000000\" font-family=\"sans-serif\" font-size=\"11\" font-weight=\"bold\" lengthAdjust=\"spacingAndGlyphs\" textLength=\"15\" x=\"79\" y=\"109.9526\">as</text><text fill=\"#000000\" font-family=\"sans-serif\" font-size=\"11\" lengthAdjust=\"spacingAndGlyphs\" textLength=\"12\" x=\"98\" y=\"109.9526\">z2</text><line style=\"stroke: #383838; stroke-width: 1.0;\" x1=\"33\" x2=\"43\" y1=\"93.3398\" y2=\"93.3398\"/><text fill=\"#000000\" font-family=\"sans-serif\" font-size=\"11\" lengthAdjust=\"spacingAndGlyphs\" textLength=\"62\" x=\"43\" y=\"96.6479\">references</text><line style=\"stroke: #383838; stroke-width: 1.0;\" x1=\"105\" x2=\"115\" y1=\"93.3398\" y2=\"93.3398\"/></a><a href=\"psysml:8a2f941b-3a97-4b54-9145-5eb7e96c5b49\" target=\"_top\" title=\"psysml:8a2f941b-3a97-4b54-9145-5eb7e96c5b49\" xlink:actuate=\"onRequest\" xlink:href=\"psysml:8a2f941b-3a97-4b54-9145-5eb7e96c5b49\" xlink:show=\"new\" xlink:title=\"psysml:8a2f941b-3a97-4b54-9145-5eb7e96c5b49\" xlink:type=\"simple\"><polygon fill=\"#FFFFFF\" points=\"86,591,102,591,109,613.2969,116,613.2969,116,643.5938,86,643.5938,86,591\" style=\"stroke: #000000; stroke-width: 1.5;\"/><line style=\"stroke: #000000; stroke-width: 1.5;\" x1=\"86\" x2=\"109\" y1=\"613.2969\" y2=\"613.2969\"/><text fill=\"#000000\" font-family=\"sans-serif\" font-size=\"14\" font-weight=\"bold\" lengthAdjust=\"spacingAndGlyphs\" textLength=\"10\" x=\"90\" y=\"605.9951\">P</text></a><!--MD5=[2720a5a1f2c3fca2055b230370638851]\n",
       "link E2 to E3--><a href=\"psysml:f1219804-170d-45ce-a1b2-74df9d2ed655\" target=\"_top\" title=\"psysml:f1219804-170d-45ce-a1b2-74df9d2ed655\" xlink:actuate=\"onRequest\" xlink:href=\"psysml:f1219804-170d-45ce-a1b2-74df9d2ed655\" xlink:show=\"new\" xlink:title=\"psysml:f1219804-170d-45ce-a1b2-74df9d2ed655\" xlink:type=\"simple\"><path d=\"M167.5,102.24 C167.5,102.24 167.5,173.94 167.5,173.94 \" fill=\"none\" id=\"E2-&gt;E3\" style=\"stroke: #383838; stroke-width: 1.0;\"/><polygon fill=\"#FFFFFF\" points=\"167.5,193.94,160.5,174.94,174.5,174.94,167.5,193.94\" style=\"stroke: #383838; stroke-width: 1.0;\"/><ellipse cx=\"162.5\" cy=\"169.24\" fill=\"#383838\" rx=\"2\" ry=\"2\" style=\"stroke: #383838; stroke-width: 1.0;\"/><ellipse cx=\"172.5\" cy=\"169.24\" fill=\"#383838\" rx=\"2\" ry=\"2\" style=\"stroke: #383838; stroke-width: 1.0;\"/></a><!--MD5=[4672eba38e49728da53d11aeb285b987]\n",
       "reverse link E3 to E4--><a href=\"psysml:ebd0a90b-6b0b-4fe7-b689-bf63abb6537b\" target=\"_top\" title=\"psysml:ebd0a90b-6b0b-4fe7-b689-bf63abb6537b\" xlink:actuate=\"onRequest\" xlink:href=\"psysml:ebd0a90b-6b0b-4fe7-b689-bf63abb6537b\" xlink:show=\"new\" xlink:title=\"psysml:ebd0a90b-6b0b-4fe7-b689-bf63abb6537b\" xlink:type=\"simple\"><path d=\"M133,283.07 C133,283.07 133,346.75 133,346.75 \" fill=\"none\" id=\"E3&lt;-E4\" style=\"stroke: #383838; stroke-width: 1.0;\"/><polygon fill=\"#383838\" points=\"133,270.07,129,276.07,133,282.07,137,276.07,133,270.07\" style=\"stroke: #383838; stroke-width: 1.0;\"/></a><!--MD5=[79568f1e445c3877b6a54524624ccc7d]\n",
       "link E4 to E6--><a href=\"psysml:0b7e6d0b-da90-43fd-82ff-3f36fc5229c0\" target=\"_top\" title=\"psysml:0b7e6d0b-da90-43fd-82ff-3f36fc5229c0\" xlink:actuate=\"onRequest\" xlink:href=\"psysml:0b7e6d0b-da90-43fd-82ff-3f36fc5229c0\" xlink:show=\"new\" xlink:title=\"psysml:0b7e6d0b-da90-43fd-82ff-3f36fc5229c0\" xlink:type=\"simple\"><path d=\"M124.5,393.23 C124.5,393.23 124.5,433.98 124.5,433.98 \" fill=\"none\" id=\"E4-&gt;E6\" style=\"stroke: #383838; stroke-width: 1.0;\"/><polygon fill=\"#FFFFFF\" points=\"124.5,453.98,117.5,434.98,131.5,434.98,124.5,453.98\" style=\"stroke: #383838; stroke-width: 1.0;\"/><ellipse cx=\"119.5\" cy=\"429.28\" fill=\"#383838\" rx=\"2\" ry=\"2\" style=\"stroke: #383838; stroke-width: 1.0;\"/><ellipse cx=\"129.5\" cy=\"429.28\" fill=\"#383838\" rx=\"2\" ry=\"2\" style=\"stroke: #383838; stroke-width: 1.0;\"/></a><!--MD5=[3f50a3473f1dfb74d3f76443e03635af]\n",
       "reverse link E6 to E7--><a href=\"psysml:8a2f941b-3a97-4b54-9145-5eb7e96c5b49\" target=\"_top\" title=\"psysml:8a2f941b-3a97-4b54-9145-5eb7e96c5b49\" xlink:actuate=\"onRequest\" xlink:href=\"psysml:8a2f941b-3a97-4b54-9145-5eb7e96c5b49\" xlink:show=\"new\" xlink:title=\"psysml:8a2f941b-3a97-4b54-9145-5eb7e96c5b49\" xlink:type=\"simple\"><path d=\"M101,545.34 C101,545.34 101,590.92 101,590.92 \" fill=\"none\" id=\"E6&lt;-E7\" style=\"stroke: #383838; stroke-width: 1.0;\"/><ellipse cx=\"101\" cy=\"538.34\" fill=\"#FFFFFF\" rx=\"8\" ry=\"8\" style=\"stroke: #383838; stroke-width: 1.0;\"/><line style=\"stroke: #383838; stroke-width: 1.0;\" x1=\"101\" x2=\"101\" y1=\"546.34\" y2=\"530.34\"/><line style=\"stroke: #383838; stroke-width: 1.0;\" x1=\"93\" x2=\"109\" y1=\"538.34\" y2=\"538.34\"/></a><!--MD5=[95fa686b5a16158bcdbcaeead89f639b]\n",
       "link E8 to E3--><a href=\"psysml:edfb0c1d-eeea-43d5-bece-b0bce4203cff\" target=\"_top\" title=\"psysml:edfb0c1d-eeea-43d5-bece-b0bce4203cff\" xlink:actuate=\"onRequest\" xlink:href=\"psysml:edfb0c1d-eeea-43d5-bece-b0bce4203cff\" xlink:show=\"new\" xlink:title=\"psysml:edfb0c1d-eeea-43d5-bece-b0bce4203cff\" xlink:type=\"simple\"><path d=\"M167.5,594.25 C167.5,594.25 167.5,290.03 167.5,290.03 \" fill=\"none\" id=\"E8-&gt;E3\" style=\"stroke: #383838; stroke-width: 1.0;\"/><polygon fill=\"#FFFFFF\" points=\"167.5,270.03,174.5,289.03,160.5,289.03,167.5,270.03\" style=\"stroke: #383838; stroke-width: 1.0;\"/><ellipse cx=\"172.5\" cy=\"294.73\" fill=\"#383838\" rx=\"2\" ry=\"2\" style=\"stroke: #383838; stroke-width: 1.0;\"/><ellipse cx=\"162.5\" cy=\"294.73\" fill=\"#383838\" rx=\"2\" ry=\"2\" style=\"stroke: #383838; stroke-width: 1.0;\"/></a><!--MD5=[f4cf0736d43fd73c4ef68817c49d37d5]\n",
       "reverse link E6 to E8--><a href=\"psysml:4e9eccbd-3da0-4f6c-a773-1d808904fdc5\" target=\"_top\" title=\"psysml:4e9eccbd-3da0-4f6c-a773-1d808904fdc5\" xlink:actuate=\"onRequest\" xlink:href=\"psysml:4e9eccbd-3da0-4f6c-a773-1d808904fdc5\" xlink:show=\"new\" xlink:title=\"psysml:4e9eccbd-3da0-4f6c-a773-1d808904fdc5\" xlink:type=\"simple\"><path d=\"M129.5,543.15 C129.5,543.15 129.5,618 129.5,618 C129.5,618 140.12,618 150.75,618 \" fill=\"none\" id=\"E6&lt;-E8\" style=\"stroke: #383838; stroke-width: 1.0;\"/><polygon fill=\"#383838\" points=\"129.5,530.15,125.5,536.15,129.5,542.15,133.5,536.15,129.5,530.15\" style=\"stroke: #383838; stroke-width: 1.0;\"/></a><!--MD5=[8e04057e7b3cbc0dca4fc78ea351e2da]\n",
       "reverse link E10 to E3--><a href=\"psysml:800170d4-464e-4c2e-99b4-fb1d2de59c3f\" target=\"_top\" title=\"psysml:800170d4-464e-4c2e-99b4-fb1d2de59c3f\" xlink:actuate=\"onRequest\" xlink:href=\"psysml:800170d4-464e-4c2e-99b4-fb1d2de59c3f\" xlink:show=\"new\" xlink:title=\"psysml:800170d4-464e-4c2e-99b4-fb1d2de59c3f\" xlink:type=\"simple\"><path d=\"M129.02,110 C129.02,110 134.5,110 134.5,110 C134.5,110 134.5,157.95 134.5,193.73 \" fill=\"none\" id=\"E10&lt;-E3\" style=\"stroke: #383838; stroke-width: 1.0;\"/><polygon fill=\"#FFFFFF\" points=\"116.02,110,122.02,114,128.02,110,122.02,106,116.02,110\" style=\"stroke: #383838; stroke-width: 1.0;\"/><text fill=\"#000000\" font-family=\"sans-serif\" font-size=\"13\" lengthAdjust=\"spacingAndGlyphs\" textLength=\"7\" x=\"141\" y=\"160.0669\">y</text></a><!--MD5=[604cbf994c02b74b117f728a71673cea]\n",
       "reverse link E10 to E6--><a href=\"psysml:800170d4-464e-4c2e-99b4-fb1d2de59c3f\" target=\"_top\" title=\"psysml:800170d4-464e-4c2e-99b4-fb1d2de59c3f\" xlink:actuate=\"onRequest\" xlink:href=\"psysml:800170d4-464e-4c2e-99b4-fb1d2de59c3f\" xlink:show=\"new\" xlink:title=\"psysml:800170d4-464e-4c2e-99b4-fb1d2de59c3f\" xlink:type=\"simple\"><path d=\"M91.5,130.11 C91.5,130.11 91.5,453.98 91.5,453.98 \" fill=\"none\" id=\"E10&lt;-E6\" style=\"stroke: #383838; stroke-width: 1.0;\"/><polygon fill=\"#FFFFFF\" points=\"91.5,117.11,87.5,123.11,91.5,129.11,95.5,123.11,91.5,117.11\" style=\"stroke: #383838; stroke-width: 1.0;\"/><text fill=\"#000000\" font-family=\"sans-serif\" font-size=\"13\" lengthAdjust=\"spacingAndGlyphs\" textLength=\"7\" x=\"71\" y=\"313.0669\">y</text></a><!--MD5=[c246ce6bf38e33a96e1a98be7d9cd88b]\n",
       "@startuml\r\n",
       "skinparam linetype ortho\r\n",
       "skinparam monochrome true\r\n",
       "skinparam classbackgroundcolor white\r\n",
       "skinparam shadowing false\r\n",
       "skinparam wrapWidth 300\r\n",
       "hide circle\r\n",
       "\r\n",
       "package \"BlockTest\" as E1  [[psysml:1f80f8be-3c31-4480-9ece-24461005c64a ]]  {\r\n",
       "comp usage \"f: A\" as E2  <<(T,blue)part>> [[psysml:77ca47e2-95bd-4f5e-baaf-35974d96745c ]] {\r\n",
       "}\r\n",
       "comp def \"A\" as E3  <<(T,blue)part def>> [[psysml:feda5581-6f8c-419d-8ba7-a8a04be8503b ]] {\r\n",
       "- - ports - -\r\n",
       "c: C\r\n",
       "}\r\n",
       "comp usage \"b: B\" as E4  <<(T,blue)part>> [[psysml:ebd0a90b-6b0b-4fe7-b689-bf63abb6537b ]] {\r\n",
       "}\r\n",
       "comp def \"B\" as E6  <<(T,blue)part def>> [[psysml:7287ae62-763a-4b84-8405-f658443750c5 ]] {\r\n",
       "- - ports - -\r\n",
       "x: ~C\r\n",
       "}\r\n",
       "package \"P\" as E7  [[psysml:8a2f941b-3a97-4b54-9145-5eb7e96c5b49 ]]  {\r\n",
       "}\r\n",
       "comp usage \"a: A\" as E8  <<(T,blue)part>> [[psysml:4e9eccbd-3da0-4f6c-a773-1d808904fdc5 ]] {\r\n",
       "}\r\n",
       "comp def \"C\" as E10  <<(T,blue)port def>> [[psysml:8c4f99f3-2675-4f4d-a756-da09d407570d ]] {\r\n",
       "- - references - -\r\n",
       "y: A, B <b>as</b> z2 \r\n",
       "}\r\n",
       "E2 - -:|> E3 [[psysml:f1219804-170d-45ce-a1b2-74df9d2ed655 ]] \r\n",
       "E3 *- - E4 [[psysml:ebd0a90b-6b0b-4fe7-b689-bf63abb6537b ]] \r\n",
       "E4 - -:|> E6 [[psysml:0b7e6d0b-da90-43fd-82ff-3f36fc5229c0 ]] \r\n",
       "E6 +- - E7 [[psysml:8a2f941b-3a97-4b54-9145-5eb7e96c5b49 ]] \r\n",
       "E8 - -:|> E3 [[psysml:edfb0c1d-eeea-43d5-bece-b0bce4203cff ]] \r\n",
       "E6 *- - E8 [[psysml:4e9eccbd-3da0-4f6c-a773-1d808904fdc5 ]] \r\n",
       "E10 o- - E3 [[psysml:800170d4-464e-4c2e-99b4-fb1d2de59c3f ]] : y\r\n",
       "E10 o- - E6 [[psysml:800170d4-464e-4c2e-99b4-fb1d2de59c3f ]] : y\r\n",
       "}\r\n",
       "@enduml\r\n",
       "\n",
       "PlantUML version 1.2020.13(Sat Jun 13 12:26:38 UTC 2020)\n",
       "(EPL source distribution)\n",
       "Java Runtime: OpenJDK Runtime Environment\n",
       "JVM: OpenJDK 64-Bit Server VM\n",
       "Default Encoding: UTF-8\n",
       "Language: en\n",
       "Country: null\n",
       "--></g></svg>"
      ]
     },
     "execution_count": 51,
     "metadata": {},
     "output_type": "execute_result"
    }
   ],
   "source": [
    "%viz --style=\"ORTHOLINE\" --view=\"Default\" \"BlockTest\""
   ]
  },
  {
   "cell_type": "code",
   "execution_count": 52,
   "id": "spread-fellow",
   "metadata": {
    "execution": {
     "iopub.execute_input": "2021-03-26T12:07:41.689925Z",
     "iopub.status.busy": "2021-03-26T12:07:41.689522Z",
     "iopub.status.idle": "2021-03-26T12:07:41.746836Z",
     "shell.execute_reply": "2021-03-26T12:07:41.745455Z"
    }
   },
   "outputs": [
    {
     "data": {
      "image/svg+xml": [
       "<?xml version=\"1.0\" encoding=\"UTF-8\" standalone=\"no\"?><svg xmlns=\"http://www.w3.org/2000/svg\" xmlns:xlink=\"http://www.w3.org/1999/xlink\" contentScriptType=\"application/ecmascript\" contentStyleType=\"text/css\" height=\"672px\" preserveAspectRatio=\"none\" style=\"width:231px;height:672px;\" version=\"1.1\" viewBox=\"0 0 231 672\" width=\"231px\" zoomAndPan=\"magnify\"><defs/><g><!--MD5=[fbc87193dbaf4d95561dea2c320d4a47]\n",
       "cluster E1--><a href=\"psysml:1f80f8be-3c31-4480-9ece-24461005c64a\" target=\"_top\" title=\"psysml:1f80f8be-3c31-4480-9ece-24461005c64a\" xlink:actuate=\"onRequest\" xlink:href=\"psysml:1f80f8be-3c31-4480-9ece-24461005c64a\" xlink:show=\"new\" xlink:title=\"psysml:1f80f8be-3c31-4480-9ece-24461005c64a\" xlink:type=\"simple\"><polygon fill=\"#FFFFFF\" points=\"16,6,99,6,106,28.2969,209,28.2969,209,660,16,660,16,6\" style=\"stroke: #000000; stroke-width: 1.5;\"/><line style=\"stroke: #000000; stroke-width: 1.5;\" x1=\"16\" x2=\"106\" y1=\"28.2969\" y2=\"28.2969\"/><text fill=\"#000000\" font-family=\"sans-serif\" font-size=\"14\" font-weight=\"bold\" lengthAdjust=\"spacingAndGlyphs\" textLength=\"77\" x=\"20\" y=\"20.9951\">BlockTest</text></a><!--MD5=[b4997ac47864f28c2f74865a473b2911]\n",
       "class E2--><a href=\"psysml:77ca47e2-95bd-4f5e-baaf-35974d96745c\" target=\"_top\" title=\"psysml:77ca47e2-95bd-4f5e-baaf-35974d96745c\" xlink:actuate=\"onRequest\" xlink:href=\"psysml:77ca47e2-95bd-4f5e-baaf-35974d96745c\" xlink:show=\"new\" xlink:title=\"psysml:77ca47e2-95bd-4f5e-baaf-35974d96745c\" xlink:type=\"simple\"><rect fill=\"#FFFFFF\" height=\"45.9375\" id=\"E2\" rx=\"10\" ry=\"10\" style=\"stroke: #383838; stroke-width: 1.5;\" width=\"42\" x=\"151\" y=\"56\"/><text fill=\"#000000\" font-family=\"sans-serif\" font-size=\"12\" font-style=\"italic\" lengthAdjust=\"spacingAndGlyphs\" textLength=\"40\" x=\"152\" y=\"72.1387\">«part»</text><text fill=\"#000000\" font-family=\"sans-serif\" font-size=\"12\" lengthAdjust=\"spacingAndGlyphs\" textLength=\"20\" x=\"162\" y=\"86.1074\">f: A</text><line style=\"stroke: #383838; stroke-width: 1.5;\" x1=\"152\" x2=\"192\" y1=\"93.9375\" y2=\"93.9375\"/></a><!--MD5=[09b614a08d8cba4a07c9adeb5e0fee81]\n",
       "class E3--><a href=\"psysml:feda5581-6f8c-419d-8ba7-a8a04be8503b\" target=\"_top\" title=\"psysml:feda5581-6f8c-419d-8ba7-a8a04be8503b\" xlink:actuate=\"onRequest\" xlink:href=\"psysml:feda5581-6f8c-419d-8ba7-a8a04be8503b\" xlink:show=\"new\" xlink:title=\"psysml:feda5581-6f8c-419d-8ba7-a8a04be8503b\" xlink:type=\"simple\"><rect fill=\"#FFFFFF\" height=\"75.5469\" id=\"E3\" style=\"stroke: #383838; stroke-width: 1.5;\" width=\"66\" x=\"118\" y=\"194\"/><text fill=\"#000000\" font-family=\"sans-serif\" font-size=\"12\" font-style=\"italic\" lengthAdjust=\"spacingAndGlyphs\" textLength=\"64\" x=\"119\" y=\"210.1387\">«part def»</text><text fill=\"#000000\" font-family=\"sans-serif\" font-size=\"12\" lengthAdjust=\"spacingAndGlyphs\" textLength=\"8\" x=\"147\" y=\"224.1074\">A</text><line style=\"stroke: #383838; stroke-width: 1.5;\" x1=\"119\" x2=\"183\" y1=\"231.9375\" y2=\"231.9375\"/><text fill=\"#000000\" font-family=\"sans-serif\" font-size=\"11\" lengthAdjust=\"spacingAndGlyphs\" textLength=\"22\" x=\"124\" y=\"262.9526\">c: C</text><line style=\"stroke: #383838; stroke-width: 1.0;\" x1=\"119\" x2=\"136\" y1=\"246.3398\" y2=\"246.3398\"/><text fill=\"#000000\" font-family=\"sans-serif\" font-size=\"11\" lengthAdjust=\"spacingAndGlyphs\" textLength=\"30\" x=\"136\" y=\"249.6479\">ports</text><line style=\"stroke: #383838; stroke-width: 1.0;\" x1=\"166\" x2=\"183\" y1=\"246.3398\" y2=\"246.3398\"/></a><!--MD5=[ebbe1d658d1005bcc118a6aa81145e00]\n",
       "class E4--><a href=\"psysml:ebd0a90b-6b0b-4fe7-b689-bf63abb6537b\" target=\"_top\" title=\"psysml:ebd0a90b-6b0b-4fe7-b689-bf63abb6537b\" xlink:actuate=\"onRequest\" xlink:href=\"psysml:ebd0a90b-6b0b-4fe7-b689-bf63abb6537b\" xlink:show=\"new\" xlink:title=\"psysml:ebd0a90b-6b0b-4fe7-b689-bf63abb6537b\" xlink:type=\"simple\"><rect fill=\"#FFFFFF\" height=\"45.9375\" id=\"E4\" rx=\"10\" ry=\"10\" style=\"stroke: #383838; stroke-width: 1.5;\" width=\"42\" x=\"106\" y=\"347\"/><text fill=\"#000000\" font-family=\"sans-serif\" font-size=\"12\" font-style=\"italic\" lengthAdjust=\"spacingAndGlyphs\" textLength=\"40\" x=\"107\" y=\"363.1387\">«part»</text><text fill=\"#000000\" font-family=\"sans-serif\" font-size=\"12\" lengthAdjust=\"spacingAndGlyphs\" textLength=\"24\" x=\"115\" y=\"377.1074\">b: B</text><line style=\"stroke: #383838; stroke-width: 1.5;\" x1=\"107\" x2=\"147\" y1=\"384.9375\" y2=\"384.9375\"/></a><!--MD5=[60a26617385b1d2d0262a64233df1f8d]\n",
       "class E6--><a href=\"psysml:7287ae62-763a-4b84-8405-f658443750c5\" target=\"_top\" title=\"psysml:7287ae62-763a-4b84-8405-f658443750c5\" xlink:actuate=\"onRequest\" xlink:href=\"psysml:7287ae62-763a-4b84-8405-f658443750c5\" xlink:show=\"new\" xlink:title=\"psysml:7287ae62-763a-4b84-8405-f658443750c5\" xlink:type=\"simple\"><rect fill=\"#FFFFFF\" height=\"75.5469\" id=\"E6\" style=\"stroke: #383838; stroke-width: 1.5;\" width=\"66\" x=\"77\" y=\"454\"/><text fill=\"#000000\" font-family=\"sans-serif\" font-size=\"12\" font-style=\"italic\" lengthAdjust=\"spacingAndGlyphs\" textLength=\"64\" x=\"78\" y=\"470.1387\">«part def»</text><text fill=\"#000000\" font-family=\"sans-serif\" font-size=\"12\" lengthAdjust=\"spacingAndGlyphs\" textLength=\"8\" x=\"106\" y=\"484.1074\">B</text><line style=\"stroke: #383838; stroke-width: 1.5;\" x1=\"78\" x2=\"142\" y1=\"491.9375\" y2=\"491.9375\"/><text fill=\"#000000\" font-family=\"sans-serif\" font-size=\"11\" lengthAdjust=\"spacingAndGlyphs\" textLength=\"31\" x=\"83\" y=\"522.9526\">x: ~C</text><line style=\"stroke: #383838; stroke-width: 1.0;\" x1=\"78\" x2=\"95\" y1=\"506.3398\" y2=\"506.3398\"/><text fill=\"#000000\" font-family=\"sans-serif\" font-size=\"11\" lengthAdjust=\"spacingAndGlyphs\" textLength=\"30\" x=\"95\" y=\"509.6479\">ports</text><line style=\"stroke: #383838; stroke-width: 1.0;\" x1=\"125\" x2=\"142\" y1=\"506.3398\" y2=\"506.3398\"/></a><!--MD5=[b9389687b975829384b498ac4b7476b2]\n",
       "class E8--><a href=\"psysml:4e9eccbd-3da0-4f6c-a773-1d808904fdc5\" target=\"_top\" title=\"psysml:4e9eccbd-3da0-4f6c-a773-1d808904fdc5\" xlink:actuate=\"onRequest\" xlink:href=\"psysml:4e9eccbd-3da0-4f6c-a773-1d808904fdc5\" xlink:show=\"new\" xlink:title=\"psysml:4e9eccbd-3da0-4f6c-a773-1d808904fdc5\" xlink:type=\"simple\"><rect fill=\"#FFFFFF\" height=\"45.9375\" id=\"E8\" rx=\"10\" ry=\"10\" style=\"stroke: #383838; stroke-width: 1.5;\" width=\"42\" x=\"151\" y=\"594.5\"/><text fill=\"#000000\" font-family=\"sans-serif\" font-size=\"12\" font-style=\"italic\" lengthAdjust=\"spacingAndGlyphs\" textLength=\"40\" x=\"152\" y=\"610.6387\">«part»</text><text fill=\"#000000\" font-family=\"sans-serif\" font-size=\"12\" lengthAdjust=\"spacingAndGlyphs\" textLength=\"24\" x=\"160\" y=\"624.6074\">a: A</text><line style=\"stroke: #383838; stroke-width: 1.5;\" x1=\"152\" x2=\"192\" y1=\"632.4375\" y2=\"632.4375\"/></a><!--MD5=[96f4274e9e20536e775497830990834d]\n",
       "class E10--><a href=\"psysml:8c4f99f3-2675-4f4d-a756-da09d407570d\" target=\"_top\" title=\"psysml:8c4f99f3-2675-4f4d-a756-da09d407570d\" xlink:actuate=\"onRequest\" xlink:href=\"psysml:8c4f99f3-2675-4f4d-a756-da09d407570d\" xlink:show=\"new\" xlink:title=\"psysml:8c4f99f3-2675-4f4d-a756-da09d407570d\" xlink:type=\"simple\"><rect fill=\"#FFFFFF\" height=\"75.5469\" id=\"E10\" style=\"stroke: #383838; stroke-width: 1.5;\" width=\"84\" x=\"32\" y=\"41\"/><text fill=\"#000000\" font-family=\"sans-serif\" font-size=\"12\" font-style=\"italic\" lengthAdjust=\"spacingAndGlyphs\" textLength=\"64\" x=\"42\" y=\"57.1387\">«port def»</text><text fill=\"#000000\" font-family=\"sans-serif\" font-size=\"12\" lengthAdjust=\"spacingAndGlyphs\" textLength=\"8\" x=\"70\" y=\"71.1074\">C</text><line style=\"stroke: #383838; stroke-width: 1.5;\" x1=\"33\" x2=\"115\" y1=\"78.9375\" y2=\"78.9375\"/><text fill=\"#000000\" font-family=\"sans-serif\" font-size=\"11\" lengthAdjust=\"spacingAndGlyphs\" textLength=\"37\" x=\"38\" y=\"109.9526\">y: A, B</text><text fill=\"#000000\" font-family=\"sans-serif\" font-size=\"11\" font-weight=\"bold\" lengthAdjust=\"spacingAndGlyphs\" textLength=\"15\" x=\"79\" y=\"109.9526\">as</text><text fill=\"#000000\" font-family=\"sans-serif\" font-size=\"11\" lengthAdjust=\"spacingAndGlyphs\" textLength=\"12\" x=\"98\" y=\"109.9526\">z2</text><line style=\"stroke: #383838; stroke-width: 1.0;\" x1=\"33\" x2=\"43\" y1=\"93.3398\" y2=\"93.3398\"/><text fill=\"#000000\" font-family=\"sans-serif\" font-size=\"11\" lengthAdjust=\"spacingAndGlyphs\" textLength=\"62\" x=\"43\" y=\"96.6479\">references</text><line style=\"stroke: #383838; stroke-width: 1.0;\" x1=\"105\" x2=\"115\" y1=\"93.3398\" y2=\"93.3398\"/></a><a href=\"psysml:8a2f941b-3a97-4b54-9145-5eb7e96c5b49\" target=\"_top\" title=\"psysml:8a2f941b-3a97-4b54-9145-5eb7e96c5b49\" xlink:actuate=\"onRequest\" xlink:href=\"psysml:8a2f941b-3a97-4b54-9145-5eb7e96c5b49\" xlink:show=\"new\" xlink:title=\"psysml:8a2f941b-3a97-4b54-9145-5eb7e96c5b49\" xlink:type=\"simple\"><polygon fill=\"#FFFFFF\" points=\"86,591,102,591,109,613.2969,116,613.2969,116,643.5938,86,643.5938,86,591\" style=\"stroke: #000000; stroke-width: 1.5;\"/><line style=\"stroke: #000000; stroke-width: 1.5;\" x1=\"86\" x2=\"109\" y1=\"613.2969\" y2=\"613.2969\"/><text fill=\"#000000\" font-family=\"sans-serif\" font-size=\"14\" font-weight=\"bold\" lengthAdjust=\"spacingAndGlyphs\" textLength=\"10\" x=\"90\" y=\"605.9951\">P</text></a><!--MD5=[2720a5a1f2c3fca2055b230370638851]\n",
       "link E2 to E3--><a href=\"psysml:f1219804-170d-45ce-a1b2-74df9d2ed655\" target=\"_top\" title=\"psysml:f1219804-170d-45ce-a1b2-74df9d2ed655\" xlink:actuate=\"onRequest\" xlink:href=\"psysml:f1219804-170d-45ce-a1b2-74df9d2ed655\" xlink:show=\"new\" xlink:title=\"psysml:f1219804-170d-45ce-a1b2-74df9d2ed655\" xlink:type=\"simple\"><path d=\"M167.5,102.24 C167.5,102.24 167.5,173.94 167.5,173.94 \" fill=\"none\" id=\"E2-&gt;E3\" style=\"stroke: #383838; stroke-width: 1.0;\"/><polygon fill=\"#FFFFFF\" points=\"167.5,193.94,160.5,174.94,174.5,174.94,167.5,193.94\" style=\"stroke: #383838; stroke-width: 1.0;\"/><ellipse cx=\"162.5\" cy=\"169.24\" fill=\"#383838\" rx=\"2\" ry=\"2\" style=\"stroke: #383838; stroke-width: 1.0;\"/><ellipse cx=\"172.5\" cy=\"169.24\" fill=\"#383838\" rx=\"2\" ry=\"2\" style=\"stroke: #383838; stroke-width: 1.0;\"/></a><!--MD5=[4672eba38e49728da53d11aeb285b987]\n",
       "reverse link E3 to E4--><a href=\"psysml:ebd0a90b-6b0b-4fe7-b689-bf63abb6537b\" target=\"_top\" title=\"psysml:ebd0a90b-6b0b-4fe7-b689-bf63abb6537b\" xlink:actuate=\"onRequest\" xlink:href=\"psysml:ebd0a90b-6b0b-4fe7-b689-bf63abb6537b\" xlink:show=\"new\" xlink:title=\"psysml:ebd0a90b-6b0b-4fe7-b689-bf63abb6537b\" xlink:type=\"simple\"><path d=\"M133,283.07 C133,283.07 133,346.75 133,346.75 \" fill=\"none\" id=\"E3&lt;-E4\" style=\"stroke: #383838; stroke-width: 1.0;\"/><polygon fill=\"#383838\" points=\"133,270.07,129,276.07,133,282.07,137,276.07,133,270.07\" style=\"stroke: #383838; stroke-width: 1.0;\"/></a><!--MD5=[79568f1e445c3877b6a54524624ccc7d]\n",
       "link E4 to E6--><a href=\"psysml:0b7e6d0b-da90-43fd-82ff-3f36fc5229c0\" target=\"_top\" title=\"psysml:0b7e6d0b-da90-43fd-82ff-3f36fc5229c0\" xlink:actuate=\"onRequest\" xlink:href=\"psysml:0b7e6d0b-da90-43fd-82ff-3f36fc5229c0\" xlink:show=\"new\" xlink:title=\"psysml:0b7e6d0b-da90-43fd-82ff-3f36fc5229c0\" xlink:type=\"simple\"><path d=\"M124.5,393.23 C124.5,393.23 124.5,433.98 124.5,433.98 \" fill=\"none\" id=\"E4-&gt;E6\" style=\"stroke: #383838; stroke-width: 1.0;\"/><polygon fill=\"#FFFFFF\" points=\"124.5,453.98,117.5,434.98,131.5,434.98,124.5,453.98\" style=\"stroke: #383838; stroke-width: 1.0;\"/><ellipse cx=\"119.5\" cy=\"429.28\" fill=\"#383838\" rx=\"2\" ry=\"2\" style=\"stroke: #383838; stroke-width: 1.0;\"/><ellipse cx=\"129.5\" cy=\"429.28\" fill=\"#383838\" rx=\"2\" ry=\"2\" style=\"stroke: #383838; stroke-width: 1.0;\"/></a><!--MD5=[3f50a3473f1dfb74d3f76443e03635af]\n",
       "reverse link E6 to E7--><a href=\"psysml:8a2f941b-3a97-4b54-9145-5eb7e96c5b49\" target=\"_top\" title=\"psysml:8a2f941b-3a97-4b54-9145-5eb7e96c5b49\" xlink:actuate=\"onRequest\" xlink:href=\"psysml:8a2f941b-3a97-4b54-9145-5eb7e96c5b49\" xlink:show=\"new\" xlink:title=\"psysml:8a2f941b-3a97-4b54-9145-5eb7e96c5b49\" xlink:type=\"simple\"><path d=\"M101,545.34 C101,545.34 101,590.92 101,590.92 \" fill=\"none\" id=\"E6&lt;-E7\" style=\"stroke: #383838; stroke-width: 1.0;\"/><ellipse cx=\"101\" cy=\"538.34\" fill=\"#FFFFFF\" rx=\"8\" ry=\"8\" style=\"stroke: #383838; stroke-width: 1.0;\"/><line style=\"stroke: #383838; stroke-width: 1.0;\" x1=\"101\" x2=\"101\" y1=\"546.34\" y2=\"530.34\"/><line style=\"stroke: #383838; stroke-width: 1.0;\" x1=\"93\" x2=\"109\" y1=\"538.34\" y2=\"538.34\"/></a><!--MD5=[95fa686b5a16158bcdbcaeead89f639b]\n",
       "link E8 to E3--><a href=\"psysml:edfb0c1d-eeea-43d5-bece-b0bce4203cff\" target=\"_top\" title=\"psysml:edfb0c1d-eeea-43d5-bece-b0bce4203cff\" xlink:actuate=\"onRequest\" xlink:href=\"psysml:edfb0c1d-eeea-43d5-bece-b0bce4203cff\" xlink:show=\"new\" xlink:title=\"psysml:edfb0c1d-eeea-43d5-bece-b0bce4203cff\" xlink:type=\"simple\"><path d=\"M167.5,594.25 C167.5,594.25 167.5,290.03 167.5,290.03 \" fill=\"none\" id=\"E8-&gt;E3\" style=\"stroke: #383838; stroke-width: 1.0;\"/><polygon fill=\"#FFFFFF\" points=\"167.5,270.03,174.5,289.03,160.5,289.03,167.5,270.03\" style=\"stroke: #383838; stroke-width: 1.0;\"/><ellipse cx=\"172.5\" cy=\"294.73\" fill=\"#383838\" rx=\"2\" ry=\"2\" style=\"stroke: #383838; stroke-width: 1.0;\"/><ellipse cx=\"162.5\" cy=\"294.73\" fill=\"#383838\" rx=\"2\" ry=\"2\" style=\"stroke: #383838; stroke-width: 1.0;\"/></a><!--MD5=[f4cf0736d43fd73c4ef68817c49d37d5]\n",
       "reverse link E6 to E8--><a href=\"psysml:4e9eccbd-3da0-4f6c-a773-1d808904fdc5\" target=\"_top\" title=\"psysml:4e9eccbd-3da0-4f6c-a773-1d808904fdc5\" xlink:actuate=\"onRequest\" xlink:href=\"psysml:4e9eccbd-3da0-4f6c-a773-1d808904fdc5\" xlink:show=\"new\" xlink:title=\"psysml:4e9eccbd-3da0-4f6c-a773-1d808904fdc5\" xlink:type=\"simple\"><path d=\"M129.5,543.15 C129.5,543.15 129.5,618 129.5,618 C129.5,618 140.12,618 150.75,618 \" fill=\"none\" id=\"E6&lt;-E8\" style=\"stroke: #383838; stroke-width: 1.0;\"/><polygon fill=\"#383838\" points=\"129.5,530.15,125.5,536.15,129.5,542.15,133.5,536.15,129.5,530.15\" style=\"stroke: #383838; stroke-width: 1.0;\"/></a><!--MD5=[8e04057e7b3cbc0dca4fc78ea351e2da]\n",
       "reverse link E10 to E3--><a href=\"psysml:800170d4-464e-4c2e-99b4-fb1d2de59c3f\" target=\"_top\" title=\"psysml:800170d4-464e-4c2e-99b4-fb1d2de59c3f\" xlink:actuate=\"onRequest\" xlink:href=\"psysml:800170d4-464e-4c2e-99b4-fb1d2de59c3f\" xlink:show=\"new\" xlink:title=\"psysml:800170d4-464e-4c2e-99b4-fb1d2de59c3f\" xlink:type=\"simple\"><path d=\"M129.02,110 C129.02,110 134.5,110 134.5,110 C134.5,110 134.5,157.95 134.5,193.73 \" fill=\"none\" id=\"E10&lt;-E3\" style=\"stroke: #383838; stroke-width: 1.0;\"/><polygon fill=\"#FFFFFF\" points=\"116.02,110,122.02,114,128.02,110,122.02,106,116.02,110\" style=\"stroke: #383838; stroke-width: 1.0;\"/><text fill=\"#000000\" font-family=\"sans-serif\" font-size=\"13\" lengthAdjust=\"spacingAndGlyphs\" textLength=\"7\" x=\"141\" y=\"160.0669\">y</text></a><!--MD5=[604cbf994c02b74b117f728a71673cea]\n",
       "reverse link E10 to E6--><a href=\"psysml:800170d4-464e-4c2e-99b4-fb1d2de59c3f\" target=\"_top\" title=\"psysml:800170d4-464e-4c2e-99b4-fb1d2de59c3f\" xlink:actuate=\"onRequest\" xlink:href=\"psysml:800170d4-464e-4c2e-99b4-fb1d2de59c3f\" xlink:show=\"new\" xlink:title=\"psysml:800170d4-464e-4c2e-99b4-fb1d2de59c3f\" xlink:type=\"simple\"><path d=\"M91.5,130.11 C91.5,130.11 91.5,453.98 91.5,453.98 \" fill=\"none\" id=\"E10&lt;-E6\" style=\"stroke: #383838; stroke-width: 1.0;\"/><polygon fill=\"#FFFFFF\" points=\"91.5,117.11,87.5,123.11,91.5,129.11,95.5,123.11,91.5,117.11\" style=\"stroke: #383838; stroke-width: 1.0;\"/><text fill=\"#000000\" font-family=\"sans-serif\" font-size=\"13\" lengthAdjust=\"spacingAndGlyphs\" textLength=\"7\" x=\"71\" y=\"313.0669\">y</text></a><!--MD5=[c246ce6bf38e33a96e1a98be7d9cd88b]\n",
       "@startuml\r\n",
       "skinparam linetype ortho\r\n",
       "skinparam monochrome true\r\n",
       "skinparam classbackgroundcolor white\r\n",
       "skinparam shadowing false\r\n",
       "skinparam wrapWidth 300\r\n",
       "hide circle\r\n",
       "\r\n",
       "package \"BlockTest\" as E1  [[psysml:1f80f8be-3c31-4480-9ece-24461005c64a ]]  {\r\n",
       "comp usage \"f: A\" as E2  <<(T,blue)part>> [[psysml:77ca47e2-95bd-4f5e-baaf-35974d96745c ]] {\r\n",
       "}\r\n",
       "comp def \"A\" as E3  <<(T,blue)part def>> [[psysml:feda5581-6f8c-419d-8ba7-a8a04be8503b ]] {\r\n",
       "- - ports - -\r\n",
       "c: C\r\n",
       "}\r\n",
       "comp usage \"b: B\" as E4  <<(T,blue)part>> [[psysml:ebd0a90b-6b0b-4fe7-b689-bf63abb6537b ]] {\r\n",
       "}\r\n",
       "comp def \"B\" as E6  <<(T,blue)part def>> [[psysml:7287ae62-763a-4b84-8405-f658443750c5 ]] {\r\n",
       "- - ports - -\r\n",
       "x: ~C\r\n",
       "}\r\n",
       "package \"P\" as E7  [[psysml:8a2f941b-3a97-4b54-9145-5eb7e96c5b49 ]]  {\r\n",
       "}\r\n",
       "comp usage \"a: A\" as E8  <<(T,blue)part>> [[psysml:4e9eccbd-3da0-4f6c-a773-1d808904fdc5 ]] {\r\n",
       "}\r\n",
       "comp def \"C\" as E10  <<(T,blue)port def>> [[psysml:8c4f99f3-2675-4f4d-a756-da09d407570d ]] {\r\n",
       "- - references - -\r\n",
       "y: A, B <b>as</b> z2 \r\n",
       "}\r\n",
       "E2 - -:|> E3 [[psysml:f1219804-170d-45ce-a1b2-74df9d2ed655 ]] \r\n",
       "E3 *- - E4 [[psysml:ebd0a90b-6b0b-4fe7-b689-bf63abb6537b ]] \r\n",
       "E4 - -:|> E6 [[psysml:0b7e6d0b-da90-43fd-82ff-3f36fc5229c0 ]] \r\n",
       "E6 +- - E7 [[psysml:8a2f941b-3a97-4b54-9145-5eb7e96c5b49 ]] \r\n",
       "E8 - -:|> E3 [[psysml:edfb0c1d-eeea-43d5-bece-b0bce4203cff ]] \r\n",
       "E6 *- - E8 [[psysml:4e9eccbd-3da0-4f6c-a773-1d808904fdc5 ]] \r\n",
       "E10 o- - E3 [[psysml:800170d4-464e-4c2e-99b4-fb1d2de59c3f ]] : y\r\n",
       "E10 o- - E6 [[psysml:800170d4-464e-4c2e-99b4-fb1d2de59c3f ]] : y\r\n",
       "}\r\n",
       "@enduml\r\n",
       "\n",
       "PlantUML version 1.2020.13(Sat Jun 13 12:26:38 UTC 2020)\n",
       "(EPL source distribution)\n",
       "Java Runtime: OpenJDK Runtime Environment\n",
       "JVM: OpenJDK 64-Bit Server VM\n",
       "Default Encoding: UTF-8\n",
       "Language: en\n",
       "Country: null\n",
       "--></g></svg>"
      ]
     },
     "execution_count": 52,
     "metadata": {},
     "output_type": "execute_result"
    }
   ],
   "source": [
    "%viz --style=\"ORTHOLINE\" --view=\"Tree\" \"BlockTest\""
   ]
  },
  {
   "cell_type": "code",
   "execution_count": 53,
   "id": "instructional-davis",
   "metadata": {
    "execution": {
     "iopub.execute_input": "2021-03-26T12:07:41.797944Z",
     "iopub.status.busy": "2021-03-26T12:07:41.796494Z",
     "iopub.status.idle": "2021-03-26T12:07:41.807044Z",
     "shell.execute_reply": "2021-03-26T12:07:41.806736Z"
    }
   },
   "outputs": [
    {
     "data": {
      "image/svg+xml": [
       "<?xml version=\"1.0\" encoding=\"UTF-8\" standalone=\"no\"?><svg xmlns=\"http://www.w3.org/2000/svg\" xmlns:xlink=\"http://www.w3.org/1999/xlink\" contentScriptType=\"application/ecmascript\" contentStyleType=\"text/css\" height=\"12px\" preserveAspectRatio=\"none\" style=\"width:12px;height:12px;\" version=\"1.1\" viewBox=\"0 0 12 12\" width=\"12px\" zoomAndPan=\"magnify\"><defs/><g><!--MD5=[97d6f38768b311333d388e66b2b27985]\n",
       "@startuml\r\n",
       "skinparam linetype ortho\r\n",
       "skinparam monochrome true\r\n",
       "skinparam classbackgroundcolor white\r\n",
       "skinparam shadowing false\r\n",
       "skinparam wrapWidth 300\r\n",
       "hide circle\r\n",
       "\r\n",
       "@enduml\r\n",
       "\n",
       "PlantUML version 1.2020.13(Sat Jun 13 12:26:38 UTC 2020)\n",
       "(EPL source distribution)\n",
       "Java Runtime: OpenJDK Runtime Environment\n",
       "JVM: OpenJDK 64-Bit Server VM\n",
       "Default Encoding: UTF-8\n",
       "Language: en\n",
       "Country: null\n",
       "--></g></svg>"
      ]
     },
     "execution_count": 53,
     "metadata": {},
     "output_type": "execute_result"
    }
   ],
   "source": [
    "%viz --style=\"ORTHOLINE\" --view=\"State\" \"BlockTest\""
   ]
  },
  {
   "cell_type": "code",
   "execution_count": 54,
   "id": "assisted-algorithm",
   "metadata": {
    "execution": {
     "iopub.execute_input": "2021-03-26T12:07:41.858538Z",
     "iopub.status.busy": "2021-03-26T12:07:41.858144Z",
     "iopub.status.idle": "2021-03-26T12:07:41.892529Z",
     "shell.execute_reply": "2021-03-26T12:07:41.891196Z"
    }
   },
   "outputs": [
    {
     "data": {
      "image/svg+xml": [
       "<?xml version=\"1.0\" encoding=\"UTF-8\" standalone=\"no\"?><svg xmlns=\"http://www.w3.org/2000/svg\" xmlns:xlink=\"http://www.w3.org/1999/xlink\" contentScriptType=\"application/ecmascript\" contentStyleType=\"text/css\" height=\"245px\" preserveAspectRatio=\"none\" style=\"width:548px;height:245px;\" version=\"1.1\" viewBox=\"0 0 548 245\" width=\"548px\" zoomAndPan=\"magnify\"><defs/><g><!--MD5=[fbc87193dbaf4d95561dea2c320d4a47]\n",
       "cluster E1--><a href=\"psysml:1f80f8be-3c31-4480-9ece-24461005c64a\" target=\"_top\" title=\"psysml:1f80f8be-3c31-4480-9ece-24461005c64a\" xlink:actuate=\"onRequest\" xlink:href=\"psysml:1f80f8be-3c31-4480-9ece-24461005c64a\" xlink:show=\"new\" xlink:title=\"psysml:1f80f8be-3c31-4480-9ece-24461005c64a\" xlink:type=\"simple\"><polygon fill=\"#FFFFFF\" points=\"16,6,99,6,106,28.2969,526,28.2969,526,233,16,233,16,6\" style=\"stroke: #000000; stroke-width: 1.5;\"/><line style=\"stroke: #000000; stroke-width: 1.5;\" x1=\"16\" x2=\"106\" y1=\"28.2969\" y2=\"28.2969\"/><text fill=\"#000000\" font-family=\"sans-serif\" font-size=\"14\" font-weight=\"bold\" lengthAdjust=\"spacingAndGlyphs\" textLength=\"77\" x=\"20\" y=\"20.9951\">BlockTest</text></a><!--MD5=[d5e69f78d87373223dbae638b30a9c99]\n",
       "cluster E3--><a href=\"psysml:feda5581-6f8c-419d-8ba7-a8a04be8503b\" target=\"_top\" title=\"psysml:feda5581-6f8c-419d-8ba7-a8a04be8503b\" xlink:actuate=\"onRequest\" xlink:href=\"psysml:feda5581-6f8c-419d-8ba7-a8a04be8503b\" xlink:show=\"new\" xlink:title=\"psysml:feda5581-6f8c-419d-8ba7-a8a04be8503b\" xlink:type=\"simple\"><rect fill=\"#FFFFFF\" height=\"154.5\" id=\"E3\" style=\"stroke: #383838; stroke-width: 1.5;\" width=\"120\" x=\"390\" y=\"62.5\"/><rect fill=\"#F8F8F8\" height=\"37.9375\" style=\"stroke: #383838; stroke-width: 1.5;\" width=\"120\" x=\"390\" y=\"62.5\"/><text fill=\"#000000\" font-family=\"sans-serif\" font-size=\"12\" font-style=\"italic\" lengthAdjust=\"spacingAndGlyphs\" textLength=\"64\" x=\"418\" y=\"78.6387\">«part def»</text><text fill=\"#000000\" font-family=\"sans-serif\" font-size=\"12\" lengthAdjust=\"spacingAndGlyphs\" textLength=\"8\" x=\"446\" y=\"92.6074\">A</text></a><!--MD5=[14e3b0961a2654348d326746436168a1]\n",
       "cluster E6--><a href=\"psysml:7287ae62-763a-4b84-8405-f658443750c5\" target=\"_top\" title=\"psysml:7287ae62-763a-4b84-8405-f658443750c5\" xlink:actuate=\"onRequest\" xlink:href=\"psysml:7287ae62-763a-4b84-8405-f658443750c5\" xlink:show=\"new\" xlink:title=\"psysml:7287ae62-763a-4b84-8405-f658443750c5\" xlink:type=\"simple\"><rect fill=\"#FFFFFF\" height=\"154.5\" id=\"E6\" style=\"stroke: #383838; stroke-width: 1.5;\" width=\"185\" x=\"197\" y=\"62.5\"/><rect fill=\"#F8F8F8\" height=\"37.9375\" style=\"stroke: #383838; stroke-width: 1.5;\" width=\"185\" x=\"197\" y=\"62.5\"/><text fill=\"#000000\" font-family=\"sans-serif\" font-size=\"12\" font-style=\"italic\" lengthAdjust=\"spacingAndGlyphs\" textLength=\"64\" x=\"257.5\" y=\"78.6387\">«part def»</text><text fill=\"#000000\" font-family=\"sans-serif\" font-size=\"12\" lengthAdjust=\"spacingAndGlyphs\" textLength=\"8\" x=\"285.5\" y=\"92.6074\">B</text></a><g id=\"E1.E10\"><a href=\"psysml:8c4f99f3-2675-4f4d-a756-da09d407570d\" target=\"_top\" title=\"psysml:8c4f99f3-2675-4f4d-a756-da09d407570d\" xlink:actuate=\"onRequest\" xlink:href=\"psysml:8c4f99f3-2675-4f4d-a756-da09d407570d\" xlink:show=\"new\" xlink:title=\"psysml:8c4f99f3-2675-4f4d-a756-da09d407570d\" xlink:type=\"simple\"><rect fill=\"#FFFFFF\" height=\"42.9375\" id=\"E10\" style=\"stroke: #383838; stroke-width: 1.5;\" width=\"71\" x=\"117.5\" y=\"41\"/><rect fill=\"#F8F8F8\" height=\"37.9375\" style=\"stroke: #383838; stroke-width: 1.5;\" width=\"71\" x=\"117.5\" y=\"41\"/><text fill=\"#000000\" font-family=\"sans-serif\" font-size=\"12\" font-style=\"italic\" lengthAdjust=\"spacingAndGlyphs\" textLength=\"64\" x=\"121\" y=\"57.1387\">«port def»</text><text fill=\"#000000\" font-family=\"sans-serif\" font-size=\"12\" lengthAdjust=\"spacingAndGlyphs\" textLength=\"8\" x=\"149\" y=\"71.1074\">C</text></a></g><g id=\"E1.E2\"><a href=\"psysml:77ca47e2-95bd-4f5e-baaf-35974d96745c\" target=\"_top\" title=\"psysml:77ca47e2-95bd-4f5e-baaf-35974d96745c\" xlink:actuate=\"onRequest\" xlink:href=\"psysml:77ca47e2-95bd-4f5e-baaf-35974d96745c\" xlink:show=\"new\" xlink:title=\"psysml:77ca47e2-95bd-4f5e-baaf-35974d96745c\" xlink:type=\"simple\"><rect fill=\"#FFFFFF\" height=\"40\" id=\"E2\" rx=\"10\" ry=\"10\" style=\"stroke: #383838; stroke-width: 1.5;\" width=\"50\" x=\"32\" y=\"42.5\"/><rect fill=\"#F8F8F8\" height=\"23.9688\" rx=\"10\" ry=\"10\" style=\"stroke: #F8F8F8; stroke-width: 1.5;\" width=\"50\" x=\"32\" y=\"42.5\"/><rect fill=\"#F8F8F8\" height=\"10\" style=\"stroke: #F8F8F8; stroke-width: 1.5;\" width=\"50\" x=\"32\" y=\"56.4688\"/><rect fill=\"none\" height=\"40\" id=\"E2\" rx=\"10\" ry=\"10\" style=\"stroke: #383838; stroke-width: 1.5;\" width=\"50\" x=\"32\" y=\"42.5\"/><text fill=\"#000000\" font-family=\"sans-serif\" font-size=\"12\" lengthAdjust=\"spacingAndGlyphs\" textLength=\"20\" x=\"47\" y=\"58.6387\">f: A</text></a></g><text fill=\"#000000\" font-family=\"sans-serif\" font-size=\"14\" lengthAdjust=\"spacingAndGlyphs\" textLength=\"27\" x=\"436.5\" y=\"41.1982\">c: C</text><rect fill=\"#383838\" height=\"12\" style=\"stroke: #F8F8F8; stroke-width: 1.5;\" width=\"12\" x=\"444\" y=\"56.5\"/><g id=\"E1.E3.E4\"><a href=\"psysml:ebd0a90b-6b0b-4fe7-b689-bf63abb6537b\" target=\"_top\" title=\"psysml:ebd0a90b-6b0b-4fe7-b689-bf63abb6537b\" xlink:actuate=\"onRequest\" xlink:href=\"psysml:ebd0a90b-6b0b-4fe7-b689-bf63abb6537b\" xlink:show=\"new\" xlink:title=\"psysml:ebd0a90b-6b0b-4fe7-b689-bf63abb6537b\" xlink:type=\"simple\"><rect fill=\"#FFFFFF\" height=\"40\" id=\"E4\" rx=\"10\" ry=\"10\" style=\"stroke: #383838; stroke-width: 1.5;\" width=\"50\" x=\"425\" y=\"161\"/><rect fill=\"#F8F8F8\" height=\"23.9688\" rx=\"10\" ry=\"10\" style=\"stroke: #F8F8F8; stroke-width: 1.5;\" width=\"50\" x=\"425\" y=\"161\"/><rect fill=\"#F8F8F8\" height=\"10\" style=\"stroke: #F8F8F8; stroke-width: 1.5;\" width=\"50\" x=\"425\" y=\"174.9688\"/><rect fill=\"none\" height=\"40\" id=\"E4\" rx=\"10\" ry=\"10\" style=\"stroke: #383838; stroke-width: 1.5;\" width=\"50\" x=\"425\" y=\"161\"/><text fill=\"#000000\" font-family=\"sans-serif\" font-size=\"12\" lengthAdjust=\"spacingAndGlyphs\" textLength=\"24\" x=\"438\" y=\"177.1387\">b: B</text></a></g><text fill=\"#000000\" font-family=\"sans-serif\" font-size=\"14\" lengthAdjust=\"spacingAndGlyphs\" textLength=\"38\" x=\"303\" y=\"41.1982\">x: ~C</text><rect fill=\"#383838\" height=\"12\" style=\"stroke: #F8F8F8; stroke-width: 1.5;\" width=\"12\" x=\"316\" y=\"56.5\"/><a href=\"psysml:8a2f941b-3a97-4b54-9145-5eb7e96c5b49\" target=\"_top\" title=\"psysml:8a2f941b-3a97-4b54-9145-5eb7e96c5b49\" xlink:actuate=\"onRequest\" xlink:href=\"psysml:8a2f941b-3a97-4b54-9145-5eb7e96c5b49\" xlink:show=\"new\" xlink:title=\"psysml:8a2f941b-3a97-4b54-9145-5eb7e96c5b49\" xlink:type=\"simple\"><polygon fill=\"#FFFFFF\" points=\"213,100,229,100,236,122.2969,243,122.2969,243,152.5938,213,152.5938,213,100\" style=\"stroke: #000000; stroke-width: 1.5;\"/><line style=\"stroke: #000000; stroke-width: 1.5;\" x1=\"213\" x2=\"236\" y1=\"122.2969\" y2=\"122.2969\"/><text fill=\"#000000\" font-family=\"sans-serif\" font-size=\"14\" font-weight=\"bold\" lengthAdjust=\"spacingAndGlyphs\" textLength=\"10\" x=\"217\" y=\"114.9951\">P</text></a><g id=\"E1.E6.E8\"><a href=\"psysml:4e9eccbd-3da0-4f6c-a773-1d808904fdc5\" target=\"_top\" title=\"psysml:4e9eccbd-3da0-4f6c-a773-1d808904fdc5\" xlink:actuate=\"onRequest\" xlink:href=\"psysml:4e9eccbd-3da0-4f6c-a773-1d808904fdc5\" xlink:show=\"new\" xlink:title=\"psysml:4e9eccbd-3da0-4f6c-a773-1d808904fdc5\" xlink:type=\"simple\"><rect fill=\"#FFFFFF\" height=\"40\" id=\"E8\" rx=\"10\" ry=\"10\" style=\"stroke: #383838; stroke-width: 1.5;\" width=\"50\" x=\"297\" y=\"161\"/><rect fill=\"#F8F8F8\" height=\"23.9688\" rx=\"10\" ry=\"10\" style=\"stroke: #F8F8F8; stroke-width: 1.5;\" width=\"50\" x=\"297\" y=\"161\"/><rect fill=\"#F8F8F8\" height=\"10\" style=\"stroke: #F8F8F8; stroke-width: 1.5;\" width=\"50\" x=\"297\" y=\"174.9688\"/><rect fill=\"none\" height=\"40\" id=\"E8\" rx=\"10\" ry=\"10\" style=\"stroke: #383838; stroke-width: 1.5;\" width=\"50\" x=\"297\" y=\"161\"/><text fill=\"#000000\" font-family=\"sans-serif\" font-size=\"12\" lengthAdjust=\"spacingAndGlyphs\" textLength=\"24\" x=\"310\" y=\"177.1387\">a: A</text></a></g><!--MD5=[2c28ff623997e006fbc2d30c8ab08cfc]\n",
       "@startuml\r\n",
       "skinparam ranksep 8\r\n",
       "skinparam rectangle {\r\n",
       " backgroundColor<<block>> LightGreen\r\n",
       "}\r\n",
       "skinparam linetype ortho\r\n",
       "skinparam monochrome true\r\n",
       "skinparam classbackgroundcolor white\r\n",
       "skinparam shadowing false\r\n",
       "skinparam wrapWidth 300\r\n",
       "hide circle\r\n",
       "\r\n",
       "package \"BlockTest\" as E1  [[psysml:1f80f8be-3c31-4480-9ece-24461005c64a ]]  {\r\n",
       "rec usage \"f: A\" as E2  [[psysml:77ca47e2-95bd-4f5e-baaf-35974d96745c ]] {\r\n",
       "}\r\n",
       "rec def \"A\" as E3  <<(T,blue)part def>> [[psysml:feda5581-6f8c-419d-8ba7-a8a04be8503b ]] {\r\n",
       "rec usage \"b: B\" as E4  [[psysml:ebd0a90b-6b0b-4fe7-b689-bf63abb6537b ]] {\r\n",
       "}\r\n",
       "portin \"c: C\" as E5  <<(T,blue)port>> [[psysml:32f6582c-cfe7-4be0-a097-86306546e345 ]] \r\n",
       "}\r\n",
       "rec def \"B\" as E6  <<(T,blue)part def>> [[psysml:7287ae62-763a-4b84-8405-f658443750c5 ]] {\r\n",
       "package \"P\" as E7  [[psysml:8a2f941b-3a97-4b54-9145-5eb7e96c5b49 ]]  {\r\n",
       "}\r\n",
       "rec usage \"a: A\" as E8  [[psysml:4e9eccbd-3da0-4f6c-a773-1d808904fdc5 ]] {\r\n",
       "}\r\n",
       "portin \"x: ~C\" as E9  <<(T,blue)port>> [[psysml:8030edf4-ee82-408b-9211-cce203dbe0d1 ]] \r\n",
       "}\r\n",
       "def \"C\" as E10  <<(T,blue)port def>> [[psysml:8c4f99f3-2675-4f4d-a756-da09d407570d ]] \r\n",
       "}\r\n",
       "@enduml\r\n",
       "\n",
       "PlantUML version 1.2020.13(Sat Jun 13 12:26:38 UTC 2020)\n",
       "(EPL source distribution)\n",
       "Java Runtime: OpenJDK Runtime Environment\n",
       "JVM: OpenJDK 64-Bit Server VM\n",
       "Default Encoding: UTF-8\n",
       "Language: en\n",
       "Country: null\n",
       "--></g></svg>"
      ]
     },
     "execution_count": 54,
     "metadata": {},
     "output_type": "execute_result"
    }
   ],
   "source": [
    "%viz --style=\"ORTHOLINE\" --view=\"Interconnection\" \"BlockTest\""
   ]
  },
  {
   "cell_type": "code",
   "execution_count": 55,
   "id": "concrete-requirement",
   "metadata": {
    "execution": {
     "iopub.execute_input": "2021-03-26T12:07:41.943598Z",
     "iopub.status.busy": "2021-03-26T12:07:41.942942Z",
     "iopub.status.idle": "2021-03-26T12:07:41.948168Z",
     "shell.execute_reply": "2021-03-26T12:07:41.947861Z"
    }
   },
   "outputs": [
    {
     "data": {
      "image/svg+xml": [
       "<?xml version=\"1.0\" encoding=\"UTF-8\" standalone=\"no\"?><svg xmlns=\"http://www.w3.org/2000/svg\" xmlns:xlink=\"http://www.w3.org/1999/xlink\" contentScriptType=\"application/ecmascript\" contentStyleType=\"text/css\" height=\"12px\" preserveAspectRatio=\"none\" style=\"width:12px;height:12px;\" version=\"1.1\" viewBox=\"0 0 12 12\" width=\"12px\" zoomAndPan=\"magnify\"><defs/><g><!--MD5=[72934c63077099a26744516a776b4749]\n",
       "@startuml\r\n",
       "skinparam ranksep 8\r\n",
       "skinparam linetype ortho\r\n",
       "skinparam monochrome true\r\n",
       "skinparam classbackgroundcolor white\r\n",
       "skinparam shadowing false\r\n",
       "skinparam wrapWidth 300\r\n",
       "hide circle\r\n",
       "\r\n",
       "@enduml\r\n",
       "\n",
       "PlantUML version 1.2020.13(Sat Jun 13 12:26:38 UTC 2020)\n",
       "(EPL source distribution)\n",
       "Java Runtime: OpenJDK Runtime Environment\n",
       "JVM: OpenJDK 64-Bit Server VM\n",
       "Default Encoding: UTF-8\n",
       "Language: en\n",
       "Country: null\n",
       "--></g></svg>"
      ]
     },
     "execution_count": 55,
     "metadata": {},
     "output_type": "execute_result"
    }
   ],
   "source": [
    "%viz --style=\"ORTHOLINE\" --view=\"Action\" \"BlockTest\""
   ]
  },
  {
   "cell_type": "code",
   "execution_count": 56,
   "id": "acceptable-continent",
   "metadata": {
    "execution": {
     "iopub.execute_input": "2021-03-26T12:07:41.999082Z",
     "iopub.status.busy": "2021-03-26T12:07:41.998508Z",
     "iopub.status.idle": "2021-03-26T12:07:42.070588Z",
     "shell.execute_reply": "2021-03-26T12:07:42.069625Z"
    }
   },
   "outputs": [
    {
     "data": {
      "image/svg+xml": [
       "<?xml version=\"1.0\" encoding=\"UTF-8\" standalone=\"no\"?><svg xmlns=\"http://www.w3.org/2000/svg\" xmlns:xlink=\"http://www.w3.org/1999/xlink\" contentScriptType=\"application/ecmascript\" contentStyleType=\"text/css\" height=\"672px\" preserveAspectRatio=\"none\" style=\"width:231px;height:672px;\" version=\"1.1\" viewBox=\"0 0 231 672\" width=\"231px\" zoomAndPan=\"magnify\"><defs/><g><!--MD5=[fbc87193dbaf4d95561dea2c320d4a47]\n",
       "cluster E1--><a href=\"psysml:1f80f8be-3c31-4480-9ece-24461005c64a\" target=\"_top\" title=\"psysml:1f80f8be-3c31-4480-9ece-24461005c64a\" xlink:actuate=\"onRequest\" xlink:href=\"psysml:1f80f8be-3c31-4480-9ece-24461005c64a\" xlink:show=\"new\" xlink:title=\"psysml:1f80f8be-3c31-4480-9ece-24461005c64a\" xlink:type=\"simple\"><polygon fill=\"#FFFFFF\" points=\"16,6,99,6,106,28.2969,209,28.2969,209,660,16,660,16,6\" style=\"stroke: #000000; stroke-width: 1.5;\"/><line style=\"stroke: #000000; stroke-width: 1.5;\" x1=\"16\" x2=\"106\" y1=\"28.2969\" y2=\"28.2969\"/><text fill=\"#000000\" font-family=\"sans-serif\" font-size=\"14\" font-weight=\"bold\" lengthAdjust=\"spacingAndGlyphs\" textLength=\"77\" x=\"20\" y=\"20.9951\">BlockTest</text></a><!--MD5=[b4997ac47864f28c2f74865a473b2911]\n",
       "class E2--><a href=\"psysml:77ca47e2-95bd-4f5e-baaf-35974d96745c\" target=\"_top\" title=\"psysml:77ca47e2-95bd-4f5e-baaf-35974d96745c\" xlink:actuate=\"onRequest\" xlink:href=\"psysml:77ca47e2-95bd-4f5e-baaf-35974d96745c\" xlink:show=\"new\" xlink:title=\"psysml:77ca47e2-95bd-4f5e-baaf-35974d96745c\" xlink:type=\"simple\"><rect fill=\"#FFFFFF\" height=\"45.9375\" id=\"E2\" rx=\"10\" ry=\"10\" style=\"stroke: #383838; stroke-width: 1.5;\" width=\"42\" x=\"151\" y=\"56\"/><text fill=\"#000000\" font-family=\"sans-serif\" font-size=\"12\" font-style=\"italic\" lengthAdjust=\"spacingAndGlyphs\" textLength=\"40\" x=\"152\" y=\"72.1387\">«part»</text><text fill=\"#000000\" font-family=\"sans-serif\" font-size=\"12\" lengthAdjust=\"spacingAndGlyphs\" textLength=\"20\" x=\"162\" y=\"86.1074\">f: A</text><line style=\"stroke: #383838; stroke-width: 1.5;\" x1=\"152\" x2=\"192\" y1=\"93.9375\" y2=\"93.9375\"/></a><!--MD5=[09b614a08d8cba4a07c9adeb5e0fee81]\n",
       "class E3--><a href=\"psysml:feda5581-6f8c-419d-8ba7-a8a04be8503b\" target=\"_top\" title=\"psysml:feda5581-6f8c-419d-8ba7-a8a04be8503b\" xlink:actuate=\"onRequest\" xlink:href=\"psysml:feda5581-6f8c-419d-8ba7-a8a04be8503b\" xlink:show=\"new\" xlink:title=\"psysml:feda5581-6f8c-419d-8ba7-a8a04be8503b\" xlink:type=\"simple\"><rect fill=\"#FFFFFF\" height=\"75.5469\" id=\"E3\" style=\"stroke: #383838; stroke-width: 1.5;\" width=\"66\" x=\"118\" y=\"194\"/><text fill=\"#000000\" font-family=\"sans-serif\" font-size=\"12\" font-style=\"italic\" lengthAdjust=\"spacingAndGlyphs\" textLength=\"64\" x=\"119\" y=\"210.1387\">«part def»</text><text fill=\"#000000\" font-family=\"sans-serif\" font-size=\"12\" lengthAdjust=\"spacingAndGlyphs\" textLength=\"8\" x=\"147\" y=\"224.1074\">A</text><line style=\"stroke: #383838; stroke-width: 1.5;\" x1=\"119\" x2=\"183\" y1=\"231.9375\" y2=\"231.9375\"/><text fill=\"#000000\" font-family=\"sans-serif\" font-size=\"11\" lengthAdjust=\"spacingAndGlyphs\" textLength=\"22\" x=\"124\" y=\"262.9526\">c: C</text><line style=\"stroke: #383838; stroke-width: 1.0;\" x1=\"119\" x2=\"136\" y1=\"246.3398\" y2=\"246.3398\"/><text fill=\"#000000\" font-family=\"sans-serif\" font-size=\"11\" lengthAdjust=\"spacingAndGlyphs\" textLength=\"30\" x=\"136\" y=\"249.6479\">ports</text><line style=\"stroke: #383838; stroke-width: 1.0;\" x1=\"166\" x2=\"183\" y1=\"246.3398\" y2=\"246.3398\"/></a><!--MD5=[ebbe1d658d1005bcc118a6aa81145e00]\n",
       "class E4--><a href=\"psysml:ebd0a90b-6b0b-4fe7-b689-bf63abb6537b\" target=\"_top\" title=\"psysml:ebd0a90b-6b0b-4fe7-b689-bf63abb6537b\" xlink:actuate=\"onRequest\" xlink:href=\"psysml:ebd0a90b-6b0b-4fe7-b689-bf63abb6537b\" xlink:show=\"new\" xlink:title=\"psysml:ebd0a90b-6b0b-4fe7-b689-bf63abb6537b\" xlink:type=\"simple\"><rect fill=\"#FFFFFF\" height=\"45.9375\" id=\"E4\" rx=\"10\" ry=\"10\" style=\"stroke: #383838; stroke-width: 1.5;\" width=\"42\" x=\"106\" y=\"347\"/><text fill=\"#000000\" font-family=\"sans-serif\" font-size=\"12\" font-style=\"italic\" lengthAdjust=\"spacingAndGlyphs\" textLength=\"40\" x=\"107\" y=\"363.1387\">«part»</text><text fill=\"#000000\" font-family=\"sans-serif\" font-size=\"12\" lengthAdjust=\"spacingAndGlyphs\" textLength=\"24\" x=\"115\" y=\"377.1074\">b: B</text><line style=\"stroke: #383838; stroke-width: 1.5;\" x1=\"107\" x2=\"147\" y1=\"384.9375\" y2=\"384.9375\"/></a><!--MD5=[60a26617385b1d2d0262a64233df1f8d]\n",
       "class E6--><a href=\"psysml:7287ae62-763a-4b84-8405-f658443750c5\" target=\"_top\" title=\"psysml:7287ae62-763a-4b84-8405-f658443750c5\" xlink:actuate=\"onRequest\" xlink:href=\"psysml:7287ae62-763a-4b84-8405-f658443750c5\" xlink:show=\"new\" xlink:title=\"psysml:7287ae62-763a-4b84-8405-f658443750c5\" xlink:type=\"simple\"><rect fill=\"#FFFFFF\" height=\"75.5469\" id=\"E6\" style=\"stroke: #383838; stroke-width: 1.5;\" width=\"66\" x=\"77\" y=\"454\"/><text fill=\"#000000\" font-family=\"sans-serif\" font-size=\"12\" font-style=\"italic\" lengthAdjust=\"spacingAndGlyphs\" textLength=\"64\" x=\"78\" y=\"470.1387\">«part def»</text><text fill=\"#000000\" font-family=\"sans-serif\" font-size=\"12\" lengthAdjust=\"spacingAndGlyphs\" textLength=\"8\" x=\"106\" y=\"484.1074\">B</text><line style=\"stroke: #383838; stroke-width: 1.5;\" x1=\"78\" x2=\"142\" y1=\"491.9375\" y2=\"491.9375\"/><text fill=\"#000000\" font-family=\"sans-serif\" font-size=\"11\" lengthAdjust=\"spacingAndGlyphs\" textLength=\"31\" x=\"83\" y=\"522.9526\">x: ~C</text><line style=\"stroke: #383838; stroke-width: 1.0;\" x1=\"78\" x2=\"95\" y1=\"506.3398\" y2=\"506.3398\"/><text fill=\"#000000\" font-family=\"sans-serif\" font-size=\"11\" lengthAdjust=\"spacingAndGlyphs\" textLength=\"30\" x=\"95\" y=\"509.6479\">ports</text><line style=\"stroke: #383838; stroke-width: 1.0;\" x1=\"125\" x2=\"142\" y1=\"506.3398\" y2=\"506.3398\"/></a><!--MD5=[b9389687b975829384b498ac4b7476b2]\n",
       "class E8--><a href=\"psysml:4e9eccbd-3da0-4f6c-a773-1d808904fdc5\" target=\"_top\" title=\"psysml:4e9eccbd-3da0-4f6c-a773-1d808904fdc5\" xlink:actuate=\"onRequest\" xlink:href=\"psysml:4e9eccbd-3da0-4f6c-a773-1d808904fdc5\" xlink:show=\"new\" xlink:title=\"psysml:4e9eccbd-3da0-4f6c-a773-1d808904fdc5\" xlink:type=\"simple\"><rect fill=\"#FFFFFF\" height=\"45.9375\" id=\"E8\" rx=\"10\" ry=\"10\" style=\"stroke: #383838; stroke-width: 1.5;\" width=\"42\" x=\"151\" y=\"594.5\"/><text fill=\"#000000\" font-family=\"sans-serif\" font-size=\"12\" font-style=\"italic\" lengthAdjust=\"spacingAndGlyphs\" textLength=\"40\" x=\"152\" y=\"610.6387\">«part»</text><text fill=\"#000000\" font-family=\"sans-serif\" font-size=\"12\" lengthAdjust=\"spacingAndGlyphs\" textLength=\"24\" x=\"160\" y=\"624.6074\">a: A</text><line style=\"stroke: #383838; stroke-width: 1.5;\" x1=\"152\" x2=\"192\" y1=\"632.4375\" y2=\"632.4375\"/></a><!--MD5=[96f4274e9e20536e775497830990834d]\n",
       "class E10--><a href=\"psysml:8c4f99f3-2675-4f4d-a756-da09d407570d\" target=\"_top\" title=\"psysml:8c4f99f3-2675-4f4d-a756-da09d407570d\" xlink:actuate=\"onRequest\" xlink:href=\"psysml:8c4f99f3-2675-4f4d-a756-da09d407570d\" xlink:show=\"new\" xlink:title=\"psysml:8c4f99f3-2675-4f4d-a756-da09d407570d\" xlink:type=\"simple\"><rect fill=\"#FFFFFF\" height=\"75.5469\" id=\"E10\" style=\"stroke: #383838; stroke-width: 1.5;\" width=\"84\" x=\"32\" y=\"41\"/><text fill=\"#000000\" font-family=\"sans-serif\" font-size=\"12\" font-style=\"italic\" lengthAdjust=\"spacingAndGlyphs\" textLength=\"64\" x=\"42\" y=\"57.1387\">«port def»</text><text fill=\"#000000\" font-family=\"sans-serif\" font-size=\"12\" lengthAdjust=\"spacingAndGlyphs\" textLength=\"8\" x=\"70\" y=\"71.1074\">C</text><line style=\"stroke: #383838; stroke-width: 1.5;\" x1=\"33\" x2=\"115\" y1=\"78.9375\" y2=\"78.9375\"/><text fill=\"#000000\" font-family=\"sans-serif\" font-size=\"11\" lengthAdjust=\"spacingAndGlyphs\" textLength=\"37\" x=\"38\" y=\"109.9526\">y: A, B</text><text fill=\"#000000\" font-family=\"sans-serif\" font-size=\"11\" font-weight=\"bold\" lengthAdjust=\"spacingAndGlyphs\" textLength=\"15\" x=\"79\" y=\"109.9526\">as</text><text fill=\"#000000\" font-family=\"sans-serif\" font-size=\"11\" lengthAdjust=\"spacingAndGlyphs\" textLength=\"12\" x=\"98\" y=\"109.9526\">z2</text><line style=\"stroke: #383838; stroke-width: 1.0;\" x1=\"33\" x2=\"43\" y1=\"93.3398\" y2=\"93.3398\"/><text fill=\"#000000\" font-family=\"sans-serif\" font-size=\"11\" lengthAdjust=\"spacingAndGlyphs\" textLength=\"62\" x=\"43\" y=\"96.6479\">references</text><line style=\"stroke: #383838; stroke-width: 1.0;\" x1=\"105\" x2=\"115\" y1=\"93.3398\" y2=\"93.3398\"/></a><a href=\"psysml:8a2f941b-3a97-4b54-9145-5eb7e96c5b49\" target=\"_top\" title=\"psysml:8a2f941b-3a97-4b54-9145-5eb7e96c5b49\" xlink:actuate=\"onRequest\" xlink:href=\"psysml:8a2f941b-3a97-4b54-9145-5eb7e96c5b49\" xlink:show=\"new\" xlink:title=\"psysml:8a2f941b-3a97-4b54-9145-5eb7e96c5b49\" xlink:type=\"simple\"><polygon fill=\"#FFFFFF\" points=\"86,591,102,591,109,613.2969,116,613.2969,116,643.5938,86,643.5938,86,591\" style=\"stroke: #000000; stroke-width: 1.5;\"/><line style=\"stroke: #000000; stroke-width: 1.5;\" x1=\"86\" x2=\"109\" y1=\"613.2969\" y2=\"613.2969\"/><text fill=\"#000000\" font-family=\"sans-serif\" font-size=\"14\" font-weight=\"bold\" lengthAdjust=\"spacingAndGlyphs\" textLength=\"10\" x=\"90\" y=\"605.9951\">P</text></a><!--MD5=[2720a5a1f2c3fca2055b230370638851]\n",
       "link E2 to E3--><a href=\"psysml:f1219804-170d-45ce-a1b2-74df9d2ed655\" target=\"_top\" title=\"psysml:f1219804-170d-45ce-a1b2-74df9d2ed655\" xlink:actuate=\"onRequest\" xlink:href=\"psysml:f1219804-170d-45ce-a1b2-74df9d2ed655\" xlink:show=\"new\" xlink:title=\"psysml:f1219804-170d-45ce-a1b2-74df9d2ed655\" xlink:type=\"simple\"><path d=\"M167.5,102.24 C167.5,102.24 167.5,173.94 167.5,173.94 \" fill=\"none\" id=\"E2-&gt;E3\" style=\"stroke: #383838; stroke-width: 1.0;\"/><polygon fill=\"#FFFFFF\" points=\"167.5,193.94,160.5,174.94,174.5,174.94,167.5,193.94\" style=\"stroke: #383838; stroke-width: 1.0;\"/><ellipse cx=\"162.5\" cy=\"169.24\" fill=\"#383838\" rx=\"2\" ry=\"2\" style=\"stroke: #383838; stroke-width: 1.0;\"/><ellipse cx=\"172.5\" cy=\"169.24\" fill=\"#383838\" rx=\"2\" ry=\"2\" style=\"stroke: #383838; stroke-width: 1.0;\"/></a><!--MD5=[4672eba38e49728da53d11aeb285b987]\n",
       "reverse link E3 to E4--><a href=\"psysml:ebd0a90b-6b0b-4fe7-b689-bf63abb6537b\" target=\"_top\" title=\"psysml:ebd0a90b-6b0b-4fe7-b689-bf63abb6537b\" xlink:actuate=\"onRequest\" xlink:href=\"psysml:ebd0a90b-6b0b-4fe7-b689-bf63abb6537b\" xlink:show=\"new\" xlink:title=\"psysml:ebd0a90b-6b0b-4fe7-b689-bf63abb6537b\" xlink:type=\"simple\"><path d=\"M133,283.07 C133,283.07 133,346.75 133,346.75 \" fill=\"none\" id=\"E3&lt;-E4\" style=\"stroke: #383838; stroke-width: 1.0;\"/><polygon fill=\"#383838\" points=\"133,270.07,129,276.07,133,282.07,137,276.07,133,270.07\" style=\"stroke: #383838; stroke-width: 1.0;\"/></a><!--MD5=[79568f1e445c3877b6a54524624ccc7d]\n",
       "link E4 to E6--><a href=\"psysml:0b7e6d0b-da90-43fd-82ff-3f36fc5229c0\" target=\"_top\" title=\"psysml:0b7e6d0b-da90-43fd-82ff-3f36fc5229c0\" xlink:actuate=\"onRequest\" xlink:href=\"psysml:0b7e6d0b-da90-43fd-82ff-3f36fc5229c0\" xlink:show=\"new\" xlink:title=\"psysml:0b7e6d0b-da90-43fd-82ff-3f36fc5229c0\" xlink:type=\"simple\"><path d=\"M124.5,393.23 C124.5,393.23 124.5,433.98 124.5,433.98 \" fill=\"none\" id=\"E4-&gt;E6\" style=\"stroke: #383838; stroke-width: 1.0;\"/><polygon fill=\"#FFFFFF\" points=\"124.5,453.98,117.5,434.98,131.5,434.98,124.5,453.98\" style=\"stroke: #383838; stroke-width: 1.0;\"/><ellipse cx=\"119.5\" cy=\"429.28\" fill=\"#383838\" rx=\"2\" ry=\"2\" style=\"stroke: #383838; stroke-width: 1.0;\"/><ellipse cx=\"129.5\" cy=\"429.28\" fill=\"#383838\" rx=\"2\" ry=\"2\" style=\"stroke: #383838; stroke-width: 1.0;\"/></a><!--MD5=[3f50a3473f1dfb74d3f76443e03635af]\n",
       "reverse link E6 to E7--><a href=\"psysml:8a2f941b-3a97-4b54-9145-5eb7e96c5b49\" target=\"_top\" title=\"psysml:8a2f941b-3a97-4b54-9145-5eb7e96c5b49\" xlink:actuate=\"onRequest\" xlink:href=\"psysml:8a2f941b-3a97-4b54-9145-5eb7e96c5b49\" xlink:show=\"new\" xlink:title=\"psysml:8a2f941b-3a97-4b54-9145-5eb7e96c5b49\" xlink:type=\"simple\"><path d=\"M101,545.34 C101,545.34 101,590.92 101,590.92 \" fill=\"none\" id=\"E6&lt;-E7\" style=\"stroke: #383838; stroke-width: 1.0;\"/><ellipse cx=\"101\" cy=\"538.34\" fill=\"#FFFFFF\" rx=\"8\" ry=\"8\" style=\"stroke: #383838; stroke-width: 1.0;\"/><line style=\"stroke: #383838; stroke-width: 1.0;\" x1=\"101\" x2=\"101\" y1=\"546.34\" y2=\"530.34\"/><line style=\"stroke: #383838; stroke-width: 1.0;\" x1=\"93\" x2=\"109\" y1=\"538.34\" y2=\"538.34\"/></a><!--MD5=[95fa686b5a16158bcdbcaeead89f639b]\n",
       "link E8 to E3--><a href=\"psysml:edfb0c1d-eeea-43d5-bece-b0bce4203cff\" target=\"_top\" title=\"psysml:edfb0c1d-eeea-43d5-bece-b0bce4203cff\" xlink:actuate=\"onRequest\" xlink:href=\"psysml:edfb0c1d-eeea-43d5-bece-b0bce4203cff\" xlink:show=\"new\" xlink:title=\"psysml:edfb0c1d-eeea-43d5-bece-b0bce4203cff\" xlink:type=\"simple\"><path d=\"M167.5,594.25 C167.5,594.25 167.5,290.03 167.5,290.03 \" fill=\"none\" id=\"E8-&gt;E3\" style=\"stroke: #383838; stroke-width: 1.0;\"/><polygon fill=\"#FFFFFF\" points=\"167.5,270.03,174.5,289.03,160.5,289.03,167.5,270.03\" style=\"stroke: #383838; stroke-width: 1.0;\"/><ellipse cx=\"172.5\" cy=\"294.73\" fill=\"#383838\" rx=\"2\" ry=\"2\" style=\"stroke: #383838; stroke-width: 1.0;\"/><ellipse cx=\"162.5\" cy=\"294.73\" fill=\"#383838\" rx=\"2\" ry=\"2\" style=\"stroke: #383838; stroke-width: 1.0;\"/></a><!--MD5=[f4cf0736d43fd73c4ef68817c49d37d5]\n",
       "reverse link E6 to E8--><a href=\"psysml:4e9eccbd-3da0-4f6c-a773-1d808904fdc5\" target=\"_top\" title=\"psysml:4e9eccbd-3da0-4f6c-a773-1d808904fdc5\" xlink:actuate=\"onRequest\" xlink:href=\"psysml:4e9eccbd-3da0-4f6c-a773-1d808904fdc5\" xlink:show=\"new\" xlink:title=\"psysml:4e9eccbd-3da0-4f6c-a773-1d808904fdc5\" xlink:type=\"simple\"><path d=\"M129.5,543.15 C129.5,543.15 129.5,618 129.5,618 C129.5,618 140.12,618 150.75,618 \" fill=\"none\" id=\"E6&lt;-E8\" style=\"stroke: #383838; stroke-width: 1.0;\"/><polygon fill=\"#383838\" points=\"129.5,530.15,125.5,536.15,129.5,542.15,133.5,536.15,129.5,530.15\" style=\"stroke: #383838; stroke-width: 1.0;\"/></a><!--MD5=[8e04057e7b3cbc0dca4fc78ea351e2da]\n",
       "reverse link E10 to E3--><a href=\"psysml:800170d4-464e-4c2e-99b4-fb1d2de59c3f\" target=\"_top\" title=\"psysml:800170d4-464e-4c2e-99b4-fb1d2de59c3f\" xlink:actuate=\"onRequest\" xlink:href=\"psysml:800170d4-464e-4c2e-99b4-fb1d2de59c3f\" xlink:show=\"new\" xlink:title=\"psysml:800170d4-464e-4c2e-99b4-fb1d2de59c3f\" xlink:type=\"simple\"><path d=\"M129.02,110 C129.02,110 134.5,110 134.5,110 C134.5,110 134.5,157.95 134.5,193.73 \" fill=\"none\" id=\"E10&lt;-E3\" style=\"stroke: #383838; stroke-width: 1.0;\"/><polygon fill=\"#FFFFFF\" points=\"116.02,110,122.02,114,128.02,110,122.02,106,116.02,110\" style=\"stroke: #383838; stroke-width: 1.0;\"/><text fill=\"#000000\" font-family=\"sans-serif\" font-size=\"13\" lengthAdjust=\"spacingAndGlyphs\" textLength=\"7\" x=\"141\" y=\"160.0669\">y</text></a><!--MD5=[604cbf994c02b74b117f728a71673cea]\n",
       "reverse link E10 to E6--><a href=\"psysml:800170d4-464e-4c2e-99b4-fb1d2de59c3f\" target=\"_top\" title=\"psysml:800170d4-464e-4c2e-99b4-fb1d2de59c3f\" xlink:actuate=\"onRequest\" xlink:href=\"psysml:800170d4-464e-4c2e-99b4-fb1d2de59c3f\" xlink:show=\"new\" xlink:title=\"psysml:800170d4-464e-4c2e-99b4-fb1d2de59c3f\" xlink:type=\"simple\"><path d=\"M91.5,130.11 C91.5,130.11 91.5,453.98 91.5,453.98 \" fill=\"none\" id=\"E10&lt;-E6\" style=\"stroke: #383838; stroke-width: 1.0;\"/><polygon fill=\"#FFFFFF\" points=\"91.5,117.11,87.5,123.11,91.5,129.11,95.5,123.11,91.5,117.11\" style=\"stroke: #383838; stroke-width: 1.0;\"/><text fill=\"#000000\" font-family=\"sans-serif\" font-size=\"13\" lengthAdjust=\"spacingAndGlyphs\" textLength=\"7\" x=\"71\" y=\"313.0669\">y</text></a><!--MD5=[c246ce6bf38e33a96e1a98be7d9cd88b]\n",
       "@startuml\r\n",
       "skinparam linetype ortho\r\n",
       "skinparam monochrome true\r\n",
       "skinparam classbackgroundcolor white\r\n",
       "skinparam shadowing false\r\n",
       "skinparam wrapWidth 300\r\n",
       "hide circle\r\n",
       "\r\n",
       "package \"BlockTest\" as E1  [[psysml:1f80f8be-3c31-4480-9ece-24461005c64a ]]  {\r\n",
       "comp usage \"f: A\" as E2  <<(T,blue)part>> [[psysml:77ca47e2-95bd-4f5e-baaf-35974d96745c ]] {\r\n",
       "}\r\n",
       "comp def \"A\" as E3  <<(T,blue)part def>> [[psysml:feda5581-6f8c-419d-8ba7-a8a04be8503b ]] {\r\n",
       "- - ports - -\r\n",
       "c: C\r\n",
       "}\r\n",
       "comp usage \"b: B\" as E4  <<(T,blue)part>> [[psysml:ebd0a90b-6b0b-4fe7-b689-bf63abb6537b ]] {\r\n",
       "}\r\n",
       "comp def \"B\" as E6  <<(T,blue)part def>> [[psysml:7287ae62-763a-4b84-8405-f658443750c5 ]] {\r\n",
       "- - ports - -\r\n",
       "x: ~C\r\n",
       "}\r\n",
       "package \"P\" as E7  [[psysml:8a2f941b-3a97-4b54-9145-5eb7e96c5b49 ]]  {\r\n",
       "}\r\n",
       "comp usage \"a: A\" as E8  <<(T,blue)part>> [[psysml:4e9eccbd-3da0-4f6c-a773-1d808904fdc5 ]] {\r\n",
       "}\r\n",
       "comp def \"C\" as E10  <<(T,blue)port def>> [[psysml:8c4f99f3-2675-4f4d-a756-da09d407570d ]] {\r\n",
       "- - references - -\r\n",
       "y: A, B <b>as</b> z2 \r\n",
       "}\r\n",
       "E2 - -:|> E3 [[psysml:f1219804-170d-45ce-a1b2-74df9d2ed655 ]] \r\n",
       "E3 *- - E4 [[psysml:ebd0a90b-6b0b-4fe7-b689-bf63abb6537b ]] \r\n",
       "E4 - -:|> E6 [[psysml:0b7e6d0b-da90-43fd-82ff-3f36fc5229c0 ]] \r\n",
       "E6 +- - E7 [[psysml:8a2f941b-3a97-4b54-9145-5eb7e96c5b49 ]] \r\n",
       "E8 - -:|> E3 [[psysml:edfb0c1d-eeea-43d5-bece-b0bce4203cff ]] \r\n",
       "E6 *- - E8 [[psysml:4e9eccbd-3da0-4f6c-a773-1d808904fdc5 ]] \r\n",
       "E10 o- - E3 [[psysml:800170d4-464e-4c2e-99b4-fb1d2de59c3f ]] : y\r\n",
       "E10 o- - E6 [[psysml:800170d4-464e-4c2e-99b4-fb1d2de59c3f ]] : y\r\n",
       "}\r\n",
       "@enduml\r\n",
       "\n",
       "PlantUML version 1.2020.13(Sat Jun 13 12:26:38 UTC 2020)\n",
       "(EPL source distribution)\n",
       "Java Runtime: OpenJDK Runtime Environment\n",
       "JVM: OpenJDK 64-Bit Server VM\n",
       "Default Encoding: UTF-8\n",
       "Language: en\n",
       "Country: null\n",
       "--></g></svg>"
      ]
     },
     "execution_count": 56,
     "metadata": {},
     "output_type": "execute_result"
    }
   ],
   "source": [
    "%viz --style=\"ORTHOLINE\" --view=\"Sequence\" \"BlockTest\""
   ]
  },
  {
   "cell_type": "code",
   "execution_count": 57,
   "id": "brief-partnership",
   "metadata": {
    "execution": {
     "iopub.execute_input": "2021-03-26T12:07:42.122197Z",
     "iopub.status.busy": "2021-03-26T12:07:42.121622Z",
     "iopub.status.idle": "2021-03-26T12:07:42.180518Z",
     "shell.execute_reply": "2021-03-26T12:07:42.178565Z"
    }
   },
   "outputs": [
    {
     "data": {
      "image/svg+xml": [
       "<?xml version=\"1.0\" encoding=\"UTF-8\" standalone=\"no\"?><svg xmlns=\"http://www.w3.org/2000/svg\" xmlns:xlink=\"http://www.w3.org/1999/xlink\" contentScriptType=\"application/ecmascript\" contentStyleType=\"text/css\" height=\"672px\" preserveAspectRatio=\"none\" style=\"width:231px;height:672px;\" version=\"1.1\" viewBox=\"0 0 231 672\" width=\"231px\" zoomAndPan=\"magnify\"><defs/><g><!--MD5=[fbc87193dbaf4d95561dea2c320d4a47]\n",
       "cluster E1--><a href=\"psysml:1f80f8be-3c31-4480-9ece-24461005c64a\" target=\"_top\" title=\"psysml:1f80f8be-3c31-4480-9ece-24461005c64a\" xlink:actuate=\"onRequest\" xlink:href=\"psysml:1f80f8be-3c31-4480-9ece-24461005c64a\" xlink:show=\"new\" xlink:title=\"psysml:1f80f8be-3c31-4480-9ece-24461005c64a\" xlink:type=\"simple\"><polygon fill=\"#FFFFFF\" points=\"16,6,99,6,106,28.2969,209,28.2969,209,660,16,660,16,6\" style=\"stroke: #000000; stroke-width: 1.5;\"/><line style=\"stroke: #000000; stroke-width: 1.5;\" x1=\"16\" x2=\"106\" y1=\"28.2969\" y2=\"28.2969\"/><text fill=\"#000000\" font-family=\"sans-serif\" font-size=\"14\" font-weight=\"bold\" lengthAdjust=\"spacingAndGlyphs\" textLength=\"77\" x=\"20\" y=\"20.9951\">BlockTest</text></a><!--MD5=[b4997ac47864f28c2f74865a473b2911]\n",
       "class E2--><a href=\"psysml:77ca47e2-95bd-4f5e-baaf-35974d96745c\" target=\"_top\" title=\"psysml:77ca47e2-95bd-4f5e-baaf-35974d96745c\" xlink:actuate=\"onRequest\" xlink:href=\"psysml:77ca47e2-95bd-4f5e-baaf-35974d96745c\" xlink:show=\"new\" xlink:title=\"psysml:77ca47e2-95bd-4f5e-baaf-35974d96745c\" xlink:type=\"simple\"><rect fill=\"#FFFFFF\" height=\"45.9375\" id=\"E2\" rx=\"10\" ry=\"10\" style=\"stroke: #383838; stroke-width: 1.5;\" width=\"42\" x=\"151\" y=\"56\"/><text fill=\"#000000\" font-family=\"sans-serif\" font-size=\"12\" font-style=\"italic\" lengthAdjust=\"spacingAndGlyphs\" textLength=\"40\" x=\"152\" y=\"72.1387\">«part»</text><text fill=\"#000000\" font-family=\"sans-serif\" font-size=\"12\" lengthAdjust=\"spacingAndGlyphs\" textLength=\"20\" x=\"162\" y=\"86.1074\">f: A</text><line style=\"stroke: #383838; stroke-width: 1.5;\" x1=\"152\" x2=\"192\" y1=\"93.9375\" y2=\"93.9375\"/></a><!--MD5=[09b614a08d8cba4a07c9adeb5e0fee81]\n",
       "class E3--><a href=\"psysml:feda5581-6f8c-419d-8ba7-a8a04be8503b\" target=\"_top\" title=\"psysml:feda5581-6f8c-419d-8ba7-a8a04be8503b\" xlink:actuate=\"onRequest\" xlink:href=\"psysml:feda5581-6f8c-419d-8ba7-a8a04be8503b\" xlink:show=\"new\" xlink:title=\"psysml:feda5581-6f8c-419d-8ba7-a8a04be8503b\" xlink:type=\"simple\"><rect fill=\"#FFFFFF\" height=\"75.5469\" id=\"E3\" style=\"stroke: #383838; stroke-width: 1.5;\" width=\"66\" x=\"118\" y=\"194\"/><text fill=\"#000000\" font-family=\"sans-serif\" font-size=\"12\" font-style=\"italic\" lengthAdjust=\"spacingAndGlyphs\" textLength=\"64\" x=\"119\" y=\"210.1387\">«part def»</text><text fill=\"#000000\" font-family=\"sans-serif\" font-size=\"12\" lengthAdjust=\"spacingAndGlyphs\" textLength=\"8\" x=\"147\" y=\"224.1074\">A</text><line style=\"stroke: #383838; stroke-width: 1.5;\" x1=\"119\" x2=\"183\" y1=\"231.9375\" y2=\"231.9375\"/><text fill=\"#000000\" font-family=\"sans-serif\" font-size=\"11\" lengthAdjust=\"spacingAndGlyphs\" textLength=\"22\" x=\"124\" y=\"262.9526\">c: C</text><line style=\"stroke: #383838; stroke-width: 1.0;\" x1=\"119\" x2=\"136\" y1=\"246.3398\" y2=\"246.3398\"/><text fill=\"#000000\" font-family=\"sans-serif\" font-size=\"11\" lengthAdjust=\"spacingAndGlyphs\" textLength=\"30\" x=\"136\" y=\"249.6479\">ports</text><line style=\"stroke: #383838; stroke-width: 1.0;\" x1=\"166\" x2=\"183\" y1=\"246.3398\" y2=\"246.3398\"/></a><!--MD5=[ebbe1d658d1005bcc118a6aa81145e00]\n",
       "class E4--><a href=\"psysml:ebd0a90b-6b0b-4fe7-b689-bf63abb6537b\" target=\"_top\" title=\"psysml:ebd0a90b-6b0b-4fe7-b689-bf63abb6537b\" xlink:actuate=\"onRequest\" xlink:href=\"psysml:ebd0a90b-6b0b-4fe7-b689-bf63abb6537b\" xlink:show=\"new\" xlink:title=\"psysml:ebd0a90b-6b0b-4fe7-b689-bf63abb6537b\" xlink:type=\"simple\"><rect fill=\"#FFFFFF\" height=\"45.9375\" id=\"E4\" rx=\"10\" ry=\"10\" style=\"stroke: #383838; stroke-width: 1.5;\" width=\"42\" x=\"106\" y=\"347\"/><text fill=\"#000000\" font-family=\"sans-serif\" font-size=\"12\" font-style=\"italic\" lengthAdjust=\"spacingAndGlyphs\" textLength=\"40\" x=\"107\" y=\"363.1387\">«part»</text><text fill=\"#000000\" font-family=\"sans-serif\" font-size=\"12\" lengthAdjust=\"spacingAndGlyphs\" textLength=\"24\" x=\"115\" y=\"377.1074\">b: B</text><line style=\"stroke: #383838; stroke-width: 1.5;\" x1=\"107\" x2=\"147\" y1=\"384.9375\" y2=\"384.9375\"/></a><!--MD5=[60a26617385b1d2d0262a64233df1f8d]\n",
       "class E6--><a href=\"psysml:7287ae62-763a-4b84-8405-f658443750c5\" target=\"_top\" title=\"psysml:7287ae62-763a-4b84-8405-f658443750c5\" xlink:actuate=\"onRequest\" xlink:href=\"psysml:7287ae62-763a-4b84-8405-f658443750c5\" xlink:show=\"new\" xlink:title=\"psysml:7287ae62-763a-4b84-8405-f658443750c5\" xlink:type=\"simple\"><rect fill=\"#FFFFFF\" height=\"75.5469\" id=\"E6\" style=\"stroke: #383838; stroke-width: 1.5;\" width=\"66\" x=\"77\" y=\"454\"/><text fill=\"#000000\" font-family=\"sans-serif\" font-size=\"12\" font-style=\"italic\" lengthAdjust=\"spacingAndGlyphs\" textLength=\"64\" x=\"78\" y=\"470.1387\">«part def»</text><text fill=\"#000000\" font-family=\"sans-serif\" font-size=\"12\" lengthAdjust=\"spacingAndGlyphs\" textLength=\"8\" x=\"106\" y=\"484.1074\">B</text><line style=\"stroke: #383838; stroke-width: 1.5;\" x1=\"78\" x2=\"142\" y1=\"491.9375\" y2=\"491.9375\"/><text fill=\"#000000\" font-family=\"sans-serif\" font-size=\"11\" lengthAdjust=\"spacingAndGlyphs\" textLength=\"31\" x=\"83\" y=\"522.9526\">x: ~C</text><line style=\"stroke: #383838; stroke-width: 1.0;\" x1=\"78\" x2=\"95\" y1=\"506.3398\" y2=\"506.3398\"/><text fill=\"#000000\" font-family=\"sans-serif\" font-size=\"11\" lengthAdjust=\"spacingAndGlyphs\" textLength=\"30\" x=\"95\" y=\"509.6479\">ports</text><line style=\"stroke: #383838; stroke-width: 1.0;\" x1=\"125\" x2=\"142\" y1=\"506.3398\" y2=\"506.3398\"/></a><!--MD5=[b9389687b975829384b498ac4b7476b2]\n",
       "class E8--><a href=\"psysml:4e9eccbd-3da0-4f6c-a773-1d808904fdc5\" target=\"_top\" title=\"psysml:4e9eccbd-3da0-4f6c-a773-1d808904fdc5\" xlink:actuate=\"onRequest\" xlink:href=\"psysml:4e9eccbd-3da0-4f6c-a773-1d808904fdc5\" xlink:show=\"new\" xlink:title=\"psysml:4e9eccbd-3da0-4f6c-a773-1d808904fdc5\" xlink:type=\"simple\"><rect fill=\"#FFFFFF\" height=\"45.9375\" id=\"E8\" rx=\"10\" ry=\"10\" style=\"stroke: #383838; stroke-width: 1.5;\" width=\"42\" x=\"151\" y=\"594.5\"/><text fill=\"#000000\" font-family=\"sans-serif\" font-size=\"12\" font-style=\"italic\" lengthAdjust=\"spacingAndGlyphs\" textLength=\"40\" x=\"152\" y=\"610.6387\">«part»</text><text fill=\"#000000\" font-family=\"sans-serif\" font-size=\"12\" lengthAdjust=\"spacingAndGlyphs\" textLength=\"24\" x=\"160\" y=\"624.6074\">a: A</text><line style=\"stroke: #383838; stroke-width: 1.5;\" x1=\"152\" x2=\"192\" y1=\"632.4375\" y2=\"632.4375\"/></a><!--MD5=[96f4274e9e20536e775497830990834d]\n",
       "class E10--><a href=\"psysml:8c4f99f3-2675-4f4d-a756-da09d407570d\" target=\"_top\" title=\"psysml:8c4f99f3-2675-4f4d-a756-da09d407570d\" xlink:actuate=\"onRequest\" xlink:href=\"psysml:8c4f99f3-2675-4f4d-a756-da09d407570d\" xlink:show=\"new\" xlink:title=\"psysml:8c4f99f3-2675-4f4d-a756-da09d407570d\" xlink:type=\"simple\"><rect fill=\"#FFFFFF\" height=\"75.5469\" id=\"E10\" style=\"stroke: #383838; stroke-width: 1.5;\" width=\"84\" x=\"32\" y=\"41\"/><text fill=\"#000000\" font-family=\"sans-serif\" font-size=\"12\" font-style=\"italic\" lengthAdjust=\"spacingAndGlyphs\" textLength=\"64\" x=\"42\" y=\"57.1387\">«port def»</text><text fill=\"#000000\" font-family=\"sans-serif\" font-size=\"12\" lengthAdjust=\"spacingAndGlyphs\" textLength=\"8\" x=\"70\" y=\"71.1074\">C</text><line style=\"stroke: #383838; stroke-width: 1.5;\" x1=\"33\" x2=\"115\" y1=\"78.9375\" y2=\"78.9375\"/><text fill=\"#000000\" font-family=\"sans-serif\" font-size=\"11\" lengthAdjust=\"spacingAndGlyphs\" textLength=\"37\" x=\"38\" y=\"109.9526\">y: A, B</text><text fill=\"#000000\" font-family=\"sans-serif\" font-size=\"11\" font-weight=\"bold\" lengthAdjust=\"spacingAndGlyphs\" textLength=\"15\" x=\"79\" y=\"109.9526\">as</text><text fill=\"#000000\" font-family=\"sans-serif\" font-size=\"11\" lengthAdjust=\"spacingAndGlyphs\" textLength=\"12\" x=\"98\" y=\"109.9526\">z2</text><line style=\"stroke: #383838; stroke-width: 1.0;\" x1=\"33\" x2=\"43\" y1=\"93.3398\" y2=\"93.3398\"/><text fill=\"#000000\" font-family=\"sans-serif\" font-size=\"11\" lengthAdjust=\"spacingAndGlyphs\" textLength=\"62\" x=\"43\" y=\"96.6479\">references</text><line style=\"stroke: #383838; stroke-width: 1.0;\" x1=\"105\" x2=\"115\" y1=\"93.3398\" y2=\"93.3398\"/></a><a href=\"psysml:8a2f941b-3a97-4b54-9145-5eb7e96c5b49\" target=\"_top\" title=\"psysml:8a2f941b-3a97-4b54-9145-5eb7e96c5b49\" xlink:actuate=\"onRequest\" xlink:href=\"psysml:8a2f941b-3a97-4b54-9145-5eb7e96c5b49\" xlink:show=\"new\" xlink:title=\"psysml:8a2f941b-3a97-4b54-9145-5eb7e96c5b49\" xlink:type=\"simple\"><polygon fill=\"#FFFFFF\" points=\"86,591,102,591,109,613.2969,116,613.2969,116,643.5938,86,643.5938,86,591\" style=\"stroke: #000000; stroke-width: 1.5;\"/><line style=\"stroke: #000000; stroke-width: 1.5;\" x1=\"86\" x2=\"109\" y1=\"613.2969\" y2=\"613.2969\"/><text fill=\"#000000\" font-family=\"sans-serif\" font-size=\"14\" font-weight=\"bold\" lengthAdjust=\"spacingAndGlyphs\" textLength=\"10\" x=\"90\" y=\"605.9951\">P</text></a><!--MD5=[2720a5a1f2c3fca2055b230370638851]\n",
       "link E2 to E3--><a href=\"psysml:f1219804-170d-45ce-a1b2-74df9d2ed655\" target=\"_top\" title=\"psysml:f1219804-170d-45ce-a1b2-74df9d2ed655\" xlink:actuate=\"onRequest\" xlink:href=\"psysml:f1219804-170d-45ce-a1b2-74df9d2ed655\" xlink:show=\"new\" xlink:title=\"psysml:f1219804-170d-45ce-a1b2-74df9d2ed655\" xlink:type=\"simple\"><path d=\"M167.5,102.24 C167.5,102.24 167.5,173.94 167.5,173.94 \" fill=\"none\" id=\"E2-&gt;E3\" style=\"stroke: #383838; stroke-width: 1.0;\"/><polygon fill=\"#FFFFFF\" points=\"167.5,193.94,160.5,174.94,174.5,174.94,167.5,193.94\" style=\"stroke: #383838; stroke-width: 1.0;\"/><ellipse cx=\"162.5\" cy=\"169.24\" fill=\"#383838\" rx=\"2\" ry=\"2\" style=\"stroke: #383838; stroke-width: 1.0;\"/><ellipse cx=\"172.5\" cy=\"169.24\" fill=\"#383838\" rx=\"2\" ry=\"2\" style=\"stroke: #383838; stroke-width: 1.0;\"/></a><!--MD5=[4672eba38e49728da53d11aeb285b987]\n",
       "reverse link E3 to E4--><a href=\"psysml:ebd0a90b-6b0b-4fe7-b689-bf63abb6537b\" target=\"_top\" title=\"psysml:ebd0a90b-6b0b-4fe7-b689-bf63abb6537b\" xlink:actuate=\"onRequest\" xlink:href=\"psysml:ebd0a90b-6b0b-4fe7-b689-bf63abb6537b\" xlink:show=\"new\" xlink:title=\"psysml:ebd0a90b-6b0b-4fe7-b689-bf63abb6537b\" xlink:type=\"simple\"><path d=\"M133,283.07 C133,283.07 133,346.75 133,346.75 \" fill=\"none\" id=\"E3&lt;-E4\" style=\"stroke: #383838; stroke-width: 1.0;\"/><polygon fill=\"#383838\" points=\"133,270.07,129,276.07,133,282.07,137,276.07,133,270.07\" style=\"stroke: #383838; stroke-width: 1.0;\"/></a><!--MD5=[79568f1e445c3877b6a54524624ccc7d]\n",
       "link E4 to E6--><a href=\"psysml:0b7e6d0b-da90-43fd-82ff-3f36fc5229c0\" target=\"_top\" title=\"psysml:0b7e6d0b-da90-43fd-82ff-3f36fc5229c0\" xlink:actuate=\"onRequest\" xlink:href=\"psysml:0b7e6d0b-da90-43fd-82ff-3f36fc5229c0\" xlink:show=\"new\" xlink:title=\"psysml:0b7e6d0b-da90-43fd-82ff-3f36fc5229c0\" xlink:type=\"simple\"><path d=\"M124.5,393.23 C124.5,393.23 124.5,433.98 124.5,433.98 \" fill=\"none\" id=\"E4-&gt;E6\" style=\"stroke: #383838; stroke-width: 1.0;\"/><polygon fill=\"#FFFFFF\" points=\"124.5,453.98,117.5,434.98,131.5,434.98,124.5,453.98\" style=\"stroke: #383838; stroke-width: 1.0;\"/><ellipse cx=\"119.5\" cy=\"429.28\" fill=\"#383838\" rx=\"2\" ry=\"2\" style=\"stroke: #383838; stroke-width: 1.0;\"/><ellipse cx=\"129.5\" cy=\"429.28\" fill=\"#383838\" rx=\"2\" ry=\"2\" style=\"stroke: #383838; stroke-width: 1.0;\"/></a><!--MD5=[3f50a3473f1dfb74d3f76443e03635af]\n",
       "reverse link E6 to E7--><a href=\"psysml:8a2f941b-3a97-4b54-9145-5eb7e96c5b49\" target=\"_top\" title=\"psysml:8a2f941b-3a97-4b54-9145-5eb7e96c5b49\" xlink:actuate=\"onRequest\" xlink:href=\"psysml:8a2f941b-3a97-4b54-9145-5eb7e96c5b49\" xlink:show=\"new\" xlink:title=\"psysml:8a2f941b-3a97-4b54-9145-5eb7e96c5b49\" xlink:type=\"simple\"><path d=\"M101,545.34 C101,545.34 101,590.92 101,590.92 \" fill=\"none\" id=\"E6&lt;-E7\" style=\"stroke: #383838; stroke-width: 1.0;\"/><ellipse cx=\"101\" cy=\"538.34\" fill=\"#FFFFFF\" rx=\"8\" ry=\"8\" style=\"stroke: #383838; stroke-width: 1.0;\"/><line style=\"stroke: #383838; stroke-width: 1.0;\" x1=\"101\" x2=\"101\" y1=\"546.34\" y2=\"530.34\"/><line style=\"stroke: #383838; stroke-width: 1.0;\" x1=\"93\" x2=\"109\" y1=\"538.34\" y2=\"538.34\"/></a><!--MD5=[95fa686b5a16158bcdbcaeead89f639b]\n",
       "link E8 to E3--><a href=\"psysml:edfb0c1d-eeea-43d5-bece-b0bce4203cff\" target=\"_top\" title=\"psysml:edfb0c1d-eeea-43d5-bece-b0bce4203cff\" xlink:actuate=\"onRequest\" xlink:href=\"psysml:edfb0c1d-eeea-43d5-bece-b0bce4203cff\" xlink:show=\"new\" xlink:title=\"psysml:edfb0c1d-eeea-43d5-bece-b0bce4203cff\" xlink:type=\"simple\"><path d=\"M167.5,594.25 C167.5,594.25 167.5,290.03 167.5,290.03 \" fill=\"none\" id=\"E8-&gt;E3\" style=\"stroke: #383838; stroke-width: 1.0;\"/><polygon fill=\"#FFFFFF\" points=\"167.5,270.03,174.5,289.03,160.5,289.03,167.5,270.03\" style=\"stroke: #383838; stroke-width: 1.0;\"/><ellipse cx=\"172.5\" cy=\"294.73\" fill=\"#383838\" rx=\"2\" ry=\"2\" style=\"stroke: #383838; stroke-width: 1.0;\"/><ellipse cx=\"162.5\" cy=\"294.73\" fill=\"#383838\" rx=\"2\" ry=\"2\" style=\"stroke: #383838; stroke-width: 1.0;\"/></a><!--MD5=[f4cf0736d43fd73c4ef68817c49d37d5]\n",
       "reverse link E6 to E8--><a href=\"psysml:4e9eccbd-3da0-4f6c-a773-1d808904fdc5\" target=\"_top\" title=\"psysml:4e9eccbd-3da0-4f6c-a773-1d808904fdc5\" xlink:actuate=\"onRequest\" xlink:href=\"psysml:4e9eccbd-3da0-4f6c-a773-1d808904fdc5\" xlink:show=\"new\" xlink:title=\"psysml:4e9eccbd-3da0-4f6c-a773-1d808904fdc5\" xlink:type=\"simple\"><path d=\"M129.5,543.15 C129.5,543.15 129.5,618 129.5,618 C129.5,618 140.12,618 150.75,618 \" fill=\"none\" id=\"E6&lt;-E8\" style=\"stroke: #383838; stroke-width: 1.0;\"/><polygon fill=\"#383838\" points=\"129.5,530.15,125.5,536.15,129.5,542.15,133.5,536.15,129.5,530.15\" style=\"stroke: #383838; stroke-width: 1.0;\"/></a><!--MD5=[8e04057e7b3cbc0dca4fc78ea351e2da]\n",
       "reverse link E10 to E3--><a href=\"psysml:800170d4-464e-4c2e-99b4-fb1d2de59c3f\" target=\"_top\" title=\"psysml:800170d4-464e-4c2e-99b4-fb1d2de59c3f\" xlink:actuate=\"onRequest\" xlink:href=\"psysml:800170d4-464e-4c2e-99b4-fb1d2de59c3f\" xlink:show=\"new\" xlink:title=\"psysml:800170d4-464e-4c2e-99b4-fb1d2de59c3f\" xlink:type=\"simple\"><path d=\"M129.02,110 C129.02,110 134.5,110 134.5,110 C134.5,110 134.5,157.95 134.5,193.73 \" fill=\"none\" id=\"E10&lt;-E3\" style=\"stroke: #383838; stroke-width: 1.0;\"/><polygon fill=\"#FFFFFF\" points=\"116.02,110,122.02,114,128.02,110,122.02,106,116.02,110\" style=\"stroke: #383838; stroke-width: 1.0;\"/><text fill=\"#000000\" font-family=\"sans-serif\" font-size=\"13\" lengthAdjust=\"spacingAndGlyphs\" textLength=\"7\" x=\"141\" y=\"160.0669\">y</text></a><!--MD5=[604cbf994c02b74b117f728a71673cea]\n",
       "reverse link E10 to E6--><a href=\"psysml:800170d4-464e-4c2e-99b4-fb1d2de59c3f\" target=\"_top\" title=\"psysml:800170d4-464e-4c2e-99b4-fb1d2de59c3f\" xlink:actuate=\"onRequest\" xlink:href=\"psysml:800170d4-464e-4c2e-99b4-fb1d2de59c3f\" xlink:show=\"new\" xlink:title=\"psysml:800170d4-464e-4c2e-99b4-fb1d2de59c3f\" xlink:type=\"simple\"><path d=\"M91.5,130.11 C91.5,130.11 91.5,453.98 91.5,453.98 \" fill=\"none\" id=\"E10&lt;-E6\" style=\"stroke: #383838; stroke-width: 1.0;\"/><polygon fill=\"#FFFFFF\" points=\"91.5,117.11,87.5,123.11,91.5,129.11,95.5,123.11,91.5,117.11\" style=\"stroke: #383838; stroke-width: 1.0;\"/><text fill=\"#000000\" font-family=\"sans-serif\" font-size=\"13\" lengthAdjust=\"spacingAndGlyphs\" textLength=\"7\" x=\"71\" y=\"313.0669\">y</text></a><!--MD5=[c246ce6bf38e33a96e1a98be7d9cd88b]\n",
       "@startuml\r\n",
       "skinparam linetype ortho\r\n",
       "skinparam monochrome true\r\n",
       "skinparam classbackgroundcolor white\r\n",
       "skinparam shadowing false\r\n",
       "skinparam wrapWidth 300\r\n",
       "hide circle\r\n",
       "\r\n",
       "package \"BlockTest\" as E1  [[psysml:1f80f8be-3c31-4480-9ece-24461005c64a ]]  {\r\n",
       "comp usage \"f: A\" as E2  <<(T,blue)part>> [[psysml:77ca47e2-95bd-4f5e-baaf-35974d96745c ]] {\r\n",
       "}\r\n",
       "comp def \"A\" as E3  <<(T,blue)part def>> [[psysml:feda5581-6f8c-419d-8ba7-a8a04be8503b ]] {\r\n",
       "- - ports - -\r\n",
       "c: C\r\n",
       "}\r\n",
       "comp usage \"b: B\" as E4  <<(T,blue)part>> [[psysml:ebd0a90b-6b0b-4fe7-b689-bf63abb6537b ]] {\r\n",
       "}\r\n",
       "comp def \"B\" as E6  <<(T,blue)part def>> [[psysml:7287ae62-763a-4b84-8405-f658443750c5 ]] {\r\n",
       "- - ports - -\r\n",
       "x: ~C\r\n",
       "}\r\n",
       "package \"P\" as E7  [[psysml:8a2f941b-3a97-4b54-9145-5eb7e96c5b49 ]]  {\r\n",
       "}\r\n",
       "comp usage \"a: A\" as E8  <<(T,blue)part>> [[psysml:4e9eccbd-3da0-4f6c-a773-1d808904fdc5 ]] {\r\n",
       "}\r\n",
       "comp def \"C\" as E10  <<(T,blue)port def>> [[psysml:8c4f99f3-2675-4f4d-a756-da09d407570d ]] {\r\n",
       "- - references - -\r\n",
       "y: A, B <b>as</b> z2 \r\n",
       "}\r\n",
       "E2 - -:|> E3 [[psysml:f1219804-170d-45ce-a1b2-74df9d2ed655 ]] \r\n",
       "E3 *- - E4 [[psysml:ebd0a90b-6b0b-4fe7-b689-bf63abb6537b ]] \r\n",
       "E4 - -:|> E6 [[psysml:0b7e6d0b-da90-43fd-82ff-3f36fc5229c0 ]] \r\n",
       "E6 +- - E7 [[psysml:8a2f941b-3a97-4b54-9145-5eb7e96c5b49 ]] \r\n",
       "E8 - -:|> E3 [[psysml:edfb0c1d-eeea-43d5-bece-b0bce4203cff ]] \r\n",
       "E6 *- - E8 [[psysml:4e9eccbd-3da0-4f6c-a773-1d808904fdc5 ]] \r\n",
       "E10 o- - E3 [[psysml:800170d4-464e-4c2e-99b4-fb1d2de59c3f ]] : y\r\n",
       "E10 o- - E6 [[psysml:800170d4-464e-4c2e-99b4-fb1d2de59c3f ]] : y\r\n",
       "}\r\n",
       "@enduml\r\n",
       "\n",
       "PlantUML version 1.2020.13(Sat Jun 13 12:26:38 UTC 2020)\n",
       "(EPL source distribution)\n",
       "Java Runtime: OpenJDK Runtime Environment\n",
       "JVM: OpenJDK 64-Bit Server VM\n",
       "Default Encoding: UTF-8\n",
       "Language: en\n",
       "Country: null\n",
       "--></g></svg>"
      ]
     },
     "execution_count": 57,
     "metadata": {},
     "output_type": "execute_result"
    }
   ],
   "source": [
    "%viz --style=\"ORTHOLINE\" --view=\"MIXED\" \"BlockTest\""
   ]
  }
 ],
 "metadata": {
  "kernelspec": {
   "display_name": "SysML",
   "language": "sysml",
   "name": "sysml"
  },
  "language_info": {
   "codemirror_mode": "sysml",
   "file_extension": ".sysml",
   "mimetype": "text/x-sysml",
   "name": "SysML",
   "pygments_lexer": "java",
   "version": "1.0.0"
  }
 },
 "nbformat": 4,
 "nbformat_minor": 5
}
