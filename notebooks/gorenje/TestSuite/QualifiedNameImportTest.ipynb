{
 "cells": [
  {
   "cell_type": "markdown",
   "id": "287fdc18",
   "metadata": {},
   "source": [
    "# SysML v2 Test Suite\n",
    "\n",
    "This can notebook can be cleared using menu `Edit --> Clear All Outputs` and then all cells can be\n",
    "run using menu `Run --> Run All Cells`.\n",
    "\n",
    "**WARNING**: This file is generated, all modifications here will be ignored.\n"
   ]
  },
  {
   "cell_type": "markdown",
   "id": "354469af",
   "metadata": {},
   "source": [
    "## File: ../../sysml/src/examples/Import Tests/QualifiedNameImportTest.sysml"
   ]
  },
  {
   "cell_type": "code",
   "execution_count": 1,
   "id": "4f02a79a",
   "metadata": {
    "execution": {
     "iopub.execute_input": "2021-05-28T10:48:55.580884Z",
     "iopub.status.busy": "2021-05-28T10:48:55.576699Z",
     "iopub.status.idle": "2021-05-28T10:48:55.678681Z",
     "shell.execute_reply": "2021-05-28T10:48:55.678262Z"
    }
   },
   "outputs": [
    {
     "data": {
      "text/plain": [
       "Package QualifiedNameImportTest (c89f6893-2a89-4324-ae03-158ce18b16b9)\n"
      ]
     },
     "execution_count": 1,
     "metadata": {},
     "output_type": "execute_result"
    }
   ],
   "source": [
    "package QualifiedNameImportTest {\n",
    "\tpackage P1 {\n",
    "\t\tpart def A;\n",
    "\t}\n",
    "\tpackage P2 {\n",
    "\t\tpackage P2a {\n",
    "\t\t\timport P1::*;\n",
    "\t\t}\n",
    "\t\t// The following should not fail.\n",
    "\t\t// A is a member of P2a because of the import.\n",
    "\t\tpart x: P2a::A;\n",
    "\t}\n",
    "}"
   ]
  },
  {
   "cell_type": "code",
   "execution_count": 2,
   "id": "8040fb23",
   "metadata": {
    "execution": {
     "iopub.execute_input": "2021-05-28T10:48:55.731511Z",
     "iopub.status.busy": "2021-05-28T10:48:55.730914Z",
     "iopub.status.idle": "2021-05-28T10:48:56.273730Z",
     "shell.execute_reply": "2021-05-28T10:48:56.273977Z"
    }
   },
   "outputs": [
    {
     "data": {
      "image/svg+xml": [
       "<?xml version=\"1.0\" encoding=\"UTF-8\" standalone=\"no\"?><svg xmlns=\"http://www.w3.org/2000/svg\" xmlns:xlink=\"http://www.w3.org/1999/xlink\" contentScriptType=\"application/ecmascript\" contentStyleType=\"text/css\" height=\"310px\" preserveAspectRatio=\"none\" style=\"width:253px;height:310px;\" version=\"1.1\" viewBox=\"0 0 253 310\" width=\"253px\" zoomAndPan=\"magnify\"><defs/><g><!--MD5=[fbc87193dbaf4d95561dea2c320d4a47]\n",
       "cluster E1--><a href=\"psysml:a4661f57-6558-47c6-8aa5-037eecc073c9\" target=\"_top\" title=\"psysml:a4661f57-6558-47c6-8aa5-037eecc073c9\" xlink:actuate=\"onRequest\" xlink:href=\"psysml:a4661f57-6558-47c6-8aa5-037eecc073c9\" xlink:show=\"new\" xlink:title=\"psysml:a4661f57-6558-47c6-8aa5-037eecc073c9\" xlink:type=\"simple\"><polygon fill=\"#FFFFFF\" points=\"16,6,221,6,228,28.2969,231,28.2969,231,298,16,298,16,6\" style=\"stroke: #000000; stroke-width: 1.5;\"/><line style=\"stroke: #000000; stroke-width: 1.5;\" x1=\"16\" x2=\"228\" y1=\"28.2969\" y2=\"28.2969\"/><text fill=\"#000000\" font-family=\"sans-serif\" font-size=\"14\" font-weight=\"bold\" lengthAdjust=\"spacingAndGlyphs\" textLength=\"199\" x=\"20\" y=\"20.9951\">QualifiedNameImportTest</text></a><!--MD5=[e4f7fae6ed58524ba242bb0b0d3be6b7]\n",
       "cluster E2--><a href=\"psysml:29f17ec2-4245-49fb-a177-0d25d24d4819\" target=\"_top\" title=\"psysml:29f17ec2-4245-49fb-a177-0d25d24d4819\" xlink:actuate=\"onRequest\" xlink:href=\"psysml:29f17ec2-4245-49fb-a177-0d25d24d4819\" xlink:show=\"new\" xlink:title=\"psysml:29f17ec2-4245-49fb-a177-0d25d24d4819\" xlink:type=\"simple\"><polygon fill=\"#FFFFFF\" points=\"105,177,131,177,138,199.2969,203,199.2969,203,274,105,274,105,177\" style=\"stroke: #000000; stroke-width: 1.5;\"/><line style=\"stroke: #000000; stroke-width: 1.5;\" x1=\"105\" x2=\"138\" y1=\"199.2969\" y2=\"199.2969\"/><text fill=\"#000000\" font-family=\"sans-serif\" font-size=\"14\" font-weight=\"bold\" lengthAdjust=\"spacingAndGlyphs\" textLength=\"20\" x=\"109\" y=\"191.9951\">P1</text></a><!--MD5=[f6df4d0ebaf0b5dfb2ced0ae5af7c670]\n",
       "cluster E4--><a href=\"psysml:a2f2702a-9aae-4fcb-bcab-ee7ca241440a\" target=\"_top\" title=\"psysml:a2f2702a-9aae-4fcb-bcab-ee7ca241440a\" xlink:actuate=\"onRequest\" xlink:href=\"psysml:a2f2702a-9aae-4fcb-bcab-ee7ca241440a\" xlink:show=\"new\" xlink:title=\"psysml:a2f2702a-9aae-4fcb-bcab-ee7ca241440a\" xlink:type=\"simple\"><polygon fill=\"#FFFFFF\" points=\"44,49,70,49,77,71.2969,203,71.2969,203,153,44,153,44,49\" style=\"stroke: #000000; stroke-width: 1.5;\"/><line style=\"stroke: #000000; stroke-width: 1.5;\" x1=\"44\" x2=\"77\" y1=\"71.2969\" y2=\"71.2969\"/><text fill=\"#000000\" font-family=\"sans-serif\" font-size=\"14\" font-weight=\"bold\" lengthAdjust=\"spacingAndGlyphs\" textLength=\"20\" x=\"48\" y=\"63.9951\">P2</text></a><!--MD5=[09b614a08d8cba4a07c9adeb5e0fee81]\n",
       "class E3--><a href=\"psysml:572e0642-2007-40ad-b1a4-6402326f1a76\" target=\"_top\" title=\"psysml:572e0642-2007-40ad-b1a4-6402326f1a76\" xlink:actuate=\"onRequest\" xlink:href=\"psysml:572e0642-2007-40ad-b1a4-6402326f1a76\" xlink:show=\"new\" xlink:title=\"psysml:572e0642-2007-40ad-b1a4-6402326f1a76\" xlink:type=\"simple\"><rect fill=\"#FFFFFF\" height=\"45.9375\" id=\"E3\" style=\"stroke: #383838; stroke-width: 1.5;\" width=\"66\" x=\"121\" y=\"212\"/><text fill=\"#000000\" font-family=\"sans-serif\" font-size=\"12\" font-style=\"italic\" lengthAdjust=\"spacingAndGlyphs\" textLength=\"64\" x=\"122\" y=\"228.1387\">«part def»</text><text fill=\"#000000\" font-family=\"sans-serif\" font-size=\"12\" lengthAdjust=\"spacingAndGlyphs\" textLength=\"8\" x=\"150\" y=\"242.1074\">A</text><line style=\"stroke: #383838; stroke-width: 1.5;\" x1=\"122\" x2=\"186\" y1=\"249.9375\" y2=\"249.9375\"/></a><!--MD5=[60a26617385b1d2d0262a64233df1f8d]\n",
       "class E6--><a href=\"psysml:1b3157b3-25ca-40f3-9d15-65b1efb05714\" target=\"_top\" title=\"psysml:1b3157b3-25ca-40f3-9d15-65b1efb05714\" xlink:actuate=\"onRequest\" xlink:href=\"psysml:1b3157b3-25ca-40f3-9d15-65b1efb05714\" xlink:show=\"new\" xlink:title=\"psysml:1b3157b3-25ca-40f3-9d15-65b1efb05714\" xlink:type=\"simple\"><rect fill=\"#FFFFFF\" height=\"45.9375\" id=\"E6\" rx=\"10\" ry=\"10\" style=\"stroke: #383838; stroke-width: 1.5;\" width=\"42\" x=\"145\" y=\"87.5\"/><text fill=\"#000000\" font-family=\"sans-serif\" font-size=\"12\" font-style=\"italic\" lengthAdjust=\"spacingAndGlyphs\" textLength=\"40\" x=\"146\" y=\"103.6387\">«part»</text><text fill=\"#000000\" font-family=\"sans-serif\" font-size=\"12\" lengthAdjust=\"spacingAndGlyphs\" textLength=\"22\" x=\"155\" y=\"117.6074\">x: A</text><line style=\"stroke: #383838; stroke-width: 1.5;\" x1=\"146\" x2=\"186\" y1=\"125.4375\" y2=\"125.4375\"/></a><a href=\"psysml:584bb17b-e85a-4a43-abf7-54afe3b89034\" target=\"_top\" title=\"psysml:584bb17b-e85a-4a43-abf7-54afe3b89034\" xlink:actuate=\"onRequest\" xlink:href=\"psysml:584bb17b-e85a-4a43-abf7-54afe3b89034\" xlink:show=\"new\" xlink:title=\"psysml:584bb17b-e85a-4a43-abf7-54afe3b89034\" xlink:type=\"simple\"><polygon fill=\"#FFFFFF\" points=\"60.5,84,95.5,84,102.5,106.2969,109.5,106.2969,109.5,136.5938,60.5,136.5938,60.5,84\" style=\"stroke: #000000; stroke-width: 1.5;\"/><line style=\"stroke: #000000; stroke-width: 1.5;\" x1=\"60.5\" x2=\"102.5\" y1=\"106.2969\" y2=\"106.2969\"/><text fill=\"#000000\" font-family=\"sans-serif\" font-size=\"14\" font-weight=\"bold\" lengthAdjust=\"spacingAndGlyphs\" textLength=\"29\" x=\"64.5\" y=\"98.9951\">P2a</text></a><!--MD5=[a717450b82c80b9240a525fa862496af]\n",
       "link E6 to E3--><a href=\"psysml:dd0f39f2-d93b-4af4-8d6e-2bae3b2dacf1\" target=\"_top\" title=\"psysml:dd0f39f2-d93b-4af4-8d6e-2bae3b2dacf1\" xlink:actuate=\"onRequest\" xlink:href=\"psysml:dd0f39f2-d93b-4af4-8d6e-2bae3b2dacf1\" xlink:show=\"new\" xlink:title=\"psysml:dd0f39f2-d93b-4af4-8d6e-2bae3b2dacf1\" xlink:type=\"simple\"><path d=\"M163.83,133.68 C162.24,149.9 160.04,172.39 158.12,191.96 \" fill=\"none\" id=\"E6-&gt;E3\" style=\"stroke: #383838; stroke-width: 1.0;\"/><polygon fill=\"#FFFFFF\" points=\"156.16,211.98,151.0533,192.3861,164.986,193.7564,156.16,211.98\" style=\"stroke: #383838; stroke-width: 1.0;\"/><ellipse cx=\"153.6016\" cy=\"186.9092\" fill=\"#383838\" rx=\"2\" ry=\"2\" style=\"stroke: #383838; stroke-width: 1.0;\"/><ellipse cx=\"163.5535\" cy=\"187.888\" fill=\"#383838\" rx=\"2\" ry=\"2\" style=\"stroke: #383838; stroke-width: 1.0;\"/></a><!--MD5=[ba7ca2e7a16448bbe0501fff4e456634]\n",
       "@startuml\r\n",
       " skinparam monochrome true\r\n",
       "skinparam classbackgroundcolor white\r\n",
       "skinparam shadowing false\r\n",
       "skinparam wrapWidth 300\r\n",
       "hide circle\r\n",
       "\r\n",
       "package \"QualifiedNameImportTest\" as E1  [[psysml:a4661f57-6558-47c6-8aa5-037eecc073c9 ]]  {\r\n",
       "package \"P1\" as E2  [[psysml:29f17ec2-4245-49fb-a177-0d25d24d4819 ]]  {\r\n",
       "comp def \"A\" as E3  <<(T,blue)part def>> [[psysml:572e0642-2007-40ad-b1a4-6402326f1a76 ]] {\r\n",
       "}\r\n",
       "}\r\n",
       "package \"P2\" as E4  [[psysml:a2f2702a-9aae-4fcb-bcab-ee7ca241440a ]]  {\r\n",
       "package \"P2a\" as E5  [[psysml:584bb17b-e85a-4a43-abf7-54afe3b89034 ]]  {\r\n",
       "}\r\n",
       "comp usage \"x: A\" as E6  <<(T,blue)part>> [[psysml:1b3157b3-25ca-40f3-9d15-65b1efb05714 ]] {\r\n",
       "}\r\n",
       "E6 - -:|> E3 [[psysml:dd0f39f2-d93b-4af4-8d6e-2bae3b2dacf1 ]] \r\n",
       "}\r\n",
       "}\r\n",
       "@enduml\r\n",
       "\n",
       "PlantUML version 1.2020.13(Sat Jun 13 12:26:38 UTC 2020)\n",
       "(EPL source distribution)\n",
       "Java Runtime: OpenJDK Runtime Environment\n",
       "JVM: OpenJDK 64-Bit Server VM\n",
       "Default Encoding: UTF-8\n",
       "Language: en\n",
       "Country: null\n",
       "--></g></svg>"
      ]
     },
     "execution_count": 2,
     "metadata": {},
     "output_type": "execute_result"
    }
   ],
   "source": [
    "%viz --style=\"COMPTREE\" --view=\"Default\" \"QualifiedNameImportTest\""
   ]
  },
  {
   "cell_type": "code",
   "execution_count": 3,
   "id": "5c8c7714",
   "metadata": {
    "execution": {
     "iopub.execute_input": "2021-05-28T10:48:56.324648Z",
     "iopub.status.busy": "2021-05-28T10:48:56.324172Z",
     "iopub.status.idle": "2021-05-28T10:48:56.374669Z",
     "shell.execute_reply": "2021-05-28T10:48:56.373647Z"
    }
   },
   "outputs": [
    {
     "data": {
      "image/svg+xml": [
       "<?xml version=\"1.0\" encoding=\"UTF-8\" standalone=\"no\"?><svg xmlns=\"http://www.w3.org/2000/svg\" xmlns:xlink=\"http://www.w3.org/1999/xlink\" contentScriptType=\"application/ecmascript\" contentStyleType=\"text/css\" height=\"310px\" preserveAspectRatio=\"none\" style=\"width:253px;height:310px;\" version=\"1.1\" viewBox=\"0 0 253 310\" width=\"253px\" zoomAndPan=\"magnify\"><defs/><g><!--MD5=[fbc87193dbaf4d95561dea2c320d4a47]\n",
       "cluster E1--><a href=\"psysml:a4661f57-6558-47c6-8aa5-037eecc073c9\" target=\"_top\" title=\"psysml:a4661f57-6558-47c6-8aa5-037eecc073c9\" xlink:actuate=\"onRequest\" xlink:href=\"psysml:a4661f57-6558-47c6-8aa5-037eecc073c9\" xlink:show=\"new\" xlink:title=\"psysml:a4661f57-6558-47c6-8aa5-037eecc073c9\" xlink:type=\"simple\"><polygon fill=\"#FFFFFF\" points=\"16,6,221,6,228,28.2969,231,28.2969,231,298,16,298,16,6\" style=\"stroke: #000000; stroke-width: 1.5;\"/><line style=\"stroke: #000000; stroke-width: 1.5;\" x1=\"16\" x2=\"228\" y1=\"28.2969\" y2=\"28.2969\"/><text fill=\"#000000\" font-family=\"sans-serif\" font-size=\"14\" font-weight=\"bold\" lengthAdjust=\"spacingAndGlyphs\" textLength=\"199\" x=\"20\" y=\"20.9951\">QualifiedNameImportTest</text></a><!--MD5=[e4f7fae6ed58524ba242bb0b0d3be6b7]\n",
       "cluster E2--><a href=\"psysml:29f17ec2-4245-49fb-a177-0d25d24d4819\" target=\"_top\" title=\"psysml:29f17ec2-4245-49fb-a177-0d25d24d4819\" xlink:actuate=\"onRequest\" xlink:href=\"psysml:29f17ec2-4245-49fb-a177-0d25d24d4819\" xlink:show=\"new\" xlink:title=\"psysml:29f17ec2-4245-49fb-a177-0d25d24d4819\" xlink:type=\"simple\"><polygon fill=\"#FFFFFF\" points=\"105,177,131,177,138,199.2969,203,199.2969,203,274,105,274,105,177\" style=\"stroke: #000000; stroke-width: 1.5;\"/><line style=\"stroke: #000000; stroke-width: 1.5;\" x1=\"105\" x2=\"138\" y1=\"199.2969\" y2=\"199.2969\"/><text fill=\"#000000\" font-family=\"sans-serif\" font-size=\"14\" font-weight=\"bold\" lengthAdjust=\"spacingAndGlyphs\" textLength=\"20\" x=\"109\" y=\"191.9951\">P1</text></a><!--MD5=[f6df4d0ebaf0b5dfb2ced0ae5af7c670]\n",
       "cluster E4--><a href=\"psysml:a2f2702a-9aae-4fcb-bcab-ee7ca241440a\" target=\"_top\" title=\"psysml:a2f2702a-9aae-4fcb-bcab-ee7ca241440a\" xlink:actuate=\"onRequest\" xlink:href=\"psysml:a2f2702a-9aae-4fcb-bcab-ee7ca241440a\" xlink:show=\"new\" xlink:title=\"psysml:a2f2702a-9aae-4fcb-bcab-ee7ca241440a\" xlink:type=\"simple\"><polygon fill=\"#FFFFFF\" points=\"44,49,70,49,77,71.2969,203,71.2969,203,153,44,153,44,49\" style=\"stroke: #000000; stroke-width: 1.5;\"/><line style=\"stroke: #000000; stroke-width: 1.5;\" x1=\"44\" x2=\"77\" y1=\"71.2969\" y2=\"71.2969\"/><text fill=\"#000000\" font-family=\"sans-serif\" font-size=\"14\" font-weight=\"bold\" lengthAdjust=\"spacingAndGlyphs\" textLength=\"20\" x=\"48\" y=\"63.9951\">P2</text></a><!--MD5=[09b614a08d8cba4a07c9adeb5e0fee81]\n",
       "class E3--><a href=\"psysml:572e0642-2007-40ad-b1a4-6402326f1a76\" target=\"_top\" title=\"psysml:572e0642-2007-40ad-b1a4-6402326f1a76\" xlink:actuate=\"onRequest\" xlink:href=\"psysml:572e0642-2007-40ad-b1a4-6402326f1a76\" xlink:show=\"new\" xlink:title=\"psysml:572e0642-2007-40ad-b1a4-6402326f1a76\" xlink:type=\"simple\"><rect fill=\"#FFFFFF\" height=\"45.9375\" id=\"E3\" style=\"stroke: #383838; stroke-width: 1.5;\" width=\"66\" x=\"121\" y=\"212\"/><text fill=\"#000000\" font-family=\"sans-serif\" font-size=\"12\" font-style=\"italic\" lengthAdjust=\"spacingAndGlyphs\" textLength=\"64\" x=\"122\" y=\"228.1387\">«part def»</text><text fill=\"#000000\" font-family=\"sans-serif\" font-size=\"12\" lengthAdjust=\"spacingAndGlyphs\" textLength=\"8\" x=\"150\" y=\"242.1074\">A</text><line style=\"stroke: #383838; stroke-width: 1.5;\" x1=\"122\" x2=\"186\" y1=\"249.9375\" y2=\"249.9375\"/></a><!--MD5=[60a26617385b1d2d0262a64233df1f8d]\n",
       "class E6--><a href=\"psysml:1b3157b3-25ca-40f3-9d15-65b1efb05714\" target=\"_top\" title=\"psysml:1b3157b3-25ca-40f3-9d15-65b1efb05714\" xlink:actuate=\"onRequest\" xlink:href=\"psysml:1b3157b3-25ca-40f3-9d15-65b1efb05714\" xlink:show=\"new\" xlink:title=\"psysml:1b3157b3-25ca-40f3-9d15-65b1efb05714\" xlink:type=\"simple\"><rect fill=\"#FFFFFF\" height=\"45.9375\" id=\"E6\" rx=\"10\" ry=\"10\" style=\"stroke: #383838; stroke-width: 1.5;\" width=\"42\" x=\"145\" y=\"87.5\"/><text fill=\"#000000\" font-family=\"sans-serif\" font-size=\"12\" font-style=\"italic\" lengthAdjust=\"spacingAndGlyphs\" textLength=\"40\" x=\"146\" y=\"103.6387\">«part»</text><text fill=\"#000000\" font-family=\"sans-serif\" font-size=\"12\" lengthAdjust=\"spacingAndGlyphs\" textLength=\"22\" x=\"155\" y=\"117.6074\">x: A</text><line style=\"stroke: #383838; stroke-width: 1.5;\" x1=\"146\" x2=\"186\" y1=\"125.4375\" y2=\"125.4375\"/></a><a href=\"psysml:584bb17b-e85a-4a43-abf7-54afe3b89034\" target=\"_top\" title=\"psysml:584bb17b-e85a-4a43-abf7-54afe3b89034\" xlink:actuate=\"onRequest\" xlink:href=\"psysml:584bb17b-e85a-4a43-abf7-54afe3b89034\" xlink:show=\"new\" xlink:title=\"psysml:584bb17b-e85a-4a43-abf7-54afe3b89034\" xlink:type=\"simple\"><polygon fill=\"#FFFFFF\" points=\"60.5,84,95.5,84,102.5,106.2969,109.5,106.2969,109.5,136.5938,60.5,136.5938,60.5,84\" style=\"stroke: #000000; stroke-width: 1.5;\"/><line style=\"stroke: #000000; stroke-width: 1.5;\" x1=\"60.5\" x2=\"102.5\" y1=\"106.2969\" y2=\"106.2969\"/><text fill=\"#000000\" font-family=\"sans-serif\" font-size=\"14\" font-weight=\"bold\" lengthAdjust=\"spacingAndGlyphs\" textLength=\"29\" x=\"64.5\" y=\"98.9951\">P2a</text></a><!--MD5=[a717450b82c80b9240a525fa862496af]\n",
       "link E6 to E3--><a href=\"psysml:dd0f39f2-d93b-4af4-8d6e-2bae3b2dacf1\" target=\"_top\" title=\"psysml:dd0f39f2-d93b-4af4-8d6e-2bae3b2dacf1\" xlink:actuate=\"onRequest\" xlink:href=\"psysml:dd0f39f2-d93b-4af4-8d6e-2bae3b2dacf1\" xlink:show=\"new\" xlink:title=\"psysml:dd0f39f2-d93b-4af4-8d6e-2bae3b2dacf1\" xlink:type=\"simple\"><path d=\"M163.83,133.68 C162.24,149.9 160.04,172.39 158.12,191.96 \" fill=\"none\" id=\"E6-&gt;E3\" style=\"stroke: #383838; stroke-width: 1.0;\"/><polygon fill=\"#FFFFFF\" points=\"156.16,211.98,151.0533,192.3861,164.986,193.7564,156.16,211.98\" style=\"stroke: #383838; stroke-width: 1.0;\"/><ellipse cx=\"153.6016\" cy=\"186.9092\" fill=\"#383838\" rx=\"2\" ry=\"2\" style=\"stroke: #383838; stroke-width: 1.0;\"/><ellipse cx=\"163.5535\" cy=\"187.888\" fill=\"#383838\" rx=\"2\" ry=\"2\" style=\"stroke: #383838; stroke-width: 1.0;\"/></a><!--MD5=[ba7ca2e7a16448bbe0501fff4e456634]\n",
       "@startuml\r\n",
       " skinparam monochrome true\r\n",
       "skinparam classbackgroundcolor white\r\n",
       "skinparam shadowing false\r\n",
       "skinparam wrapWidth 300\r\n",
       "hide circle\r\n",
       "\r\n",
       "package \"QualifiedNameImportTest\" as E1  [[psysml:a4661f57-6558-47c6-8aa5-037eecc073c9 ]]  {\r\n",
       "package \"P1\" as E2  [[psysml:29f17ec2-4245-49fb-a177-0d25d24d4819 ]]  {\r\n",
       "comp def \"A\" as E3  <<(T,blue)part def>> [[psysml:572e0642-2007-40ad-b1a4-6402326f1a76 ]] {\r\n",
       "}\r\n",
       "}\r\n",
       "package \"P2\" as E4  [[psysml:a2f2702a-9aae-4fcb-bcab-ee7ca241440a ]]  {\r\n",
       "package \"P2a\" as E5  [[psysml:584bb17b-e85a-4a43-abf7-54afe3b89034 ]]  {\r\n",
       "}\r\n",
       "comp usage \"x: A\" as E6  <<(T,blue)part>> [[psysml:1b3157b3-25ca-40f3-9d15-65b1efb05714 ]] {\r\n",
       "}\r\n",
       "E6 - -:|> E3 [[psysml:dd0f39f2-d93b-4af4-8d6e-2bae3b2dacf1 ]] \r\n",
       "}\r\n",
       "}\r\n",
       "@enduml\r\n",
       "\n",
       "PlantUML version 1.2020.13(Sat Jun 13 12:26:38 UTC 2020)\n",
       "(EPL source distribution)\n",
       "Java Runtime: OpenJDK Runtime Environment\n",
       "JVM: OpenJDK 64-Bit Server VM\n",
       "Default Encoding: UTF-8\n",
       "Language: en\n",
       "Country: null\n",
       "--></g></svg>"
      ]
     },
     "execution_count": 3,
     "metadata": {},
     "output_type": "execute_result"
    }
   ],
   "source": [
    "%viz --style=\"COMPTREE\" --view=\"Tree\" \"QualifiedNameImportTest\""
   ]
  },
  {
   "cell_type": "code",
   "execution_count": 4,
   "id": "6c33687d",
   "metadata": {
    "execution": {
     "iopub.execute_input": "2021-05-28T10:48:56.429559Z",
     "iopub.status.busy": "2021-05-28T10:48:56.428353Z",
     "iopub.status.idle": "2021-05-28T10:48:56.442079Z",
     "shell.execute_reply": "2021-05-28T10:48:56.441187Z"
    }
   },
   "outputs": [
    {
     "data": {
      "image/svg+xml": [
       "<?xml version=\"1.0\" encoding=\"UTF-8\" standalone=\"no\"?><svg xmlns=\"http://www.w3.org/2000/svg\" xmlns:xlink=\"http://www.w3.org/1999/xlink\" contentScriptType=\"application/ecmascript\" contentStyleType=\"text/css\" height=\"12px\" preserveAspectRatio=\"none\" style=\"width:12px;height:12px;\" version=\"1.1\" viewBox=\"0 0 12 12\" width=\"12px\" zoomAndPan=\"magnify\"><defs/><g><!--MD5=[f19188ef49e11757b5c46753f95d9edc]\n",
       "@startuml\r\n",
       " skinparam monochrome true\r\n",
       "skinparam classbackgroundcolor white\r\n",
       "skinparam shadowing false\r\n",
       "skinparam wrapWidth 300\r\n",
       "hide circle\r\n",
       "\r\n",
       "@enduml\r\n",
       "\n",
       "PlantUML version 1.2020.13(Sat Jun 13 12:26:38 UTC 2020)\n",
       "(EPL source distribution)\n",
       "Java Runtime: OpenJDK Runtime Environment\n",
       "JVM: OpenJDK 64-Bit Server VM\n",
       "Default Encoding: UTF-8\n",
       "Language: en\n",
       "Country: null\n",
       "--></g></svg>"
      ]
     },
     "execution_count": 4,
     "metadata": {},
     "output_type": "execute_result"
    }
   ],
   "source": [
    "%viz --style=\"COMPTREE\" --view=\"State\" \"QualifiedNameImportTest\""
   ]
  },
  {
   "cell_type": "code",
   "execution_count": 5,
   "id": "5a60d502",
   "metadata": {
    "execution": {
     "iopub.execute_input": "2021-05-28T10:48:56.493584Z",
     "iopub.status.busy": "2021-05-28T10:48:56.493217Z",
     "iopub.status.idle": "2021-05-28T10:48:56.553003Z",
     "shell.execute_reply": "2021-05-28T10:48:56.551775Z"
    }
   },
   "outputs": [
    {
     "data": {
      "image/svg+xml": [
       "<?xml version=\"1.0\" encoding=\"UTF-8\" standalone=\"no\"?><svg xmlns=\"http://www.w3.org/2000/svg\" xmlns:xlink=\"http://www.w3.org/1999/xlink\" contentScriptType=\"application/ecmascript\" contentStyleType=\"text/css\" height=\"189px\" preserveAspectRatio=\"none\" style=\"width:381px;height:189px;\" version=\"1.1\" viewBox=\"0 0 381 189\" width=\"381px\" zoomAndPan=\"magnify\"><defs/><g><!--MD5=[fbc87193dbaf4d95561dea2c320d4a47]\n",
       "cluster E1--><a href=\"psysml:a4661f57-6558-47c6-8aa5-037eecc073c9\" target=\"_top\" title=\"psysml:a4661f57-6558-47c6-8aa5-037eecc073c9\" xlink:actuate=\"onRequest\" xlink:href=\"psysml:a4661f57-6558-47c6-8aa5-037eecc073c9\" xlink:show=\"new\" xlink:title=\"psysml:a4661f57-6558-47c6-8aa5-037eecc073c9\" xlink:type=\"simple\"><polygon fill=\"#FFFFFF\" points=\"16,6,221,6,228,28.2969,359,28.2969,359,177,16,177,16,6\" style=\"stroke: #000000; stroke-width: 1.5;\"/><line style=\"stroke: #000000; stroke-width: 1.5;\" x1=\"16\" x2=\"228\" y1=\"28.2969\" y2=\"28.2969\"/><text fill=\"#000000\" font-family=\"sans-serif\" font-size=\"14\" font-weight=\"bold\" lengthAdjust=\"spacingAndGlyphs\" textLength=\"199\" x=\"20\" y=\"20.9951\">QualifiedNameImportTest</text></a><!--MD5=[e4f7fae6ed58524ba242bb0b0d3be6b7]\n",
       "cluster E2--><a href=\"psysml:29f17ec2-4245-49fb-a177-0d25d24d4819\" target=\"_top\" title=\"psysml:29f17ec2-4245-49fb-a177-0d25d24d4819\" xlink:actuate=\"onRequest\" xlink:href=\"psysml:29f17ec2-4245-49fb-a177-0d25d24d4819\" xlink:show=\"new\" xlink:title=\"psysml:29f17ec2-4245-49fb-a177-0d25d24d4819\" xlink:type=\"simple\"><polygon fill=\"#FFFFFF\" points=\"231,54,257,54,264,76.2969,335,76.2969,335,148,231,148,231,54\" style=\"stroke: #000000; stroke-width: 1.5;\"/><line style=\"stroke: #000000; stroke-width: 1.5;\" x1=\"231\" x2=\"264\" y1=\"76.2969\" y2=\"76.2969\"/><text fill=\"#000000\" font-family=\"sans-serif\" font-size=\"14\" font-weight=\"bold\" lengthAdjust=\"spacingAndGlyphs\" textLength=\"20\" x=\"235\" y=\"68.9951\">P1</text></a><!--MD5=[f6df4d0ebaf0b5dfb2ced0ae5af7c670]\n",
       "cluster E4--><a href=\"psysml:a2f2702a-9aae-4fcb-bcab-ee7ca241440a\" target=\"_top\" title=\"psysml:a2f2702a-9aae-4fcb-bcab-ee7ca241440a\" xlink:actuate=\"onRequest\" xlink:href=\"psysml:a2f2702a-9aae-4fcb-bcab-ee7ca241440a\" xlink:show=\"new\" xlink:title=\"psysml:a2f2702a-9aae-4fcb-bcab-ee7ca241440a\" xlink:type=\"simple\"><polygon fill=\"#FFFFFF\" points=\"40,49,66,49,73,71.2969,207,71.2969,207,153,40,153,40,49\" style=\"stroke: #000000; stroke-width: 1.5;\"/><line style=\"stroke: #000000; stroke-width: 1.5;\" x1=\"40\" x2=\"73\" y1=\"71.2969\" y2=\"71.2969\"/><text fill=\"#000000\" font-family=\"sans-serif\" font-size=\"14\" font-weight=\"bold\" lengthAdjust=\"spacingAndGlyphs\" textLength=\"20\" x=\"44\" y=\"63.9951\">P2</text></a><g id=\"E1.E2.E3\"><a href=\"psysml:572e0642-2007-40ad-b1a4-6402326f1a76\" target=\"_top\" title=\"psysml:572e0642-2007-40ad-b1a4-6402326f1a76\" xlink:actuate=\"onRequest\" xlink:href=\"psysml:572e0642-2007-40ad-b1a4-6402326f1a76\" xlink:show=\"new\" xlink:title=\"psysml:572e0642-2007-40ad-b1a4-6402326f1a76\" xlink:type=\"simple\"><rect fill=\"#FFFFFF\" height=\"42.9375\" id=\"E3\" style=\"stroke: #383838; stroke-width: 1.5;\" width=\"71\" x=\"247.5\" y=\"89\"/><rect fill=\"#F8F8F8\" height=\"37.9375\" style=\"stroke: #383838; stroke-width: 1.5;\" width=\"71\" x=\"247.5\" y=\"89\"/><text fill=\"#000000\" font-family=\"sans-serif\" font-size=\"12\" font-style=\"italic\" lengthAdjust=\"spacingAndGlyphs\" textLength=\"64\" x=\"251\" y=\"105.1387\">«part def»</text><text fill=\"#000000\" font-family=\"sans-serif\" font-size=\"12\" lengthAdjust=\"spacingAndGlyphs\" textLength=\"8\" x=\"279\" y=\"119.1074\">A</text></a></g><a href=\"psysml:584bb17b-e85a-4a43-abf7-54afe3b89034\" target=\"_top\" title=\"psysml:584bb17b-e85a-4a43-abf7-54afe3b89034\" xlink:actuate=\"onRequest\" xlink:href=\"psysml:584bb17b-e85a-4a43-abf7-54afe3b89034\" xlink:show=\"new\" xlink:title=\"psysml:584bb17b-e85a-4a43-abf7-54afe3b89034\" xlink:type=\"simple\"><polygon fill=\"#FFFFFF\" points=\"141.5,84,176.5,84,183.5,106.2969,190.5,106.2969,190.5,136.5938,141.5,136.5938,141.5,84\" style=\"stroke: #000000; stroke-width: 1.5;\"/><line style=\"stroke: #000000; stroke-width: 1.5;\" x1=\"141.5\" x2=\"183.5\" y1=\"106.2969\" y2=\"106.2969\"/><text fill=\"#000000\" font-family=\"sans-serif\" font-size=\"14\" font-weight=\"bold\" lengthAdjust=\"spacingAndGlyphs\" textLength=\"29\" x=\"145.5\" y=\"98.9951\">P2a</text></a><g id=\"E1.E4.E6\"><a href=\"psysml:1b3157b3-25ca-40f3-9d15-65b1efb05714\" target=\"_top\" title=\"psysml:1b3157b3-25ca-40f3-9d15-65b1efb05714\" xlink:actuate=\"onRequest\" xlink:href=\"psysml:1b3157b3-25ca-40f3-9d15-65b1efb05714\" xlink:show=\"new\" xlink:title=\"psysml:1b3157b3-25ca-40f3-9d15-65b1efb05714\" xlink:type=\"simple\"><rect fill=\"#FFFFFF\" height=\"40\" id=\"E6\" rx=\"10\" ry=\"10\" style=\"stroke: #383838; stroke-width: 1.5;\" width=\"50\" x=\"56\" y=\"90.5\"/><rect fill=\"#F8F8F8\" height=\"23.9688\" rx=\"10\" ry=\"10\" style=\"stroke: #F8F8F8; stroke-width: 1.5;\" width=\"50\" x=\"56\" y=\"90.5\"/><rect fill=\"#F8F8F8\" height=\"10\" style=\"stroke: #F8F8F8; stroke-width: 1.5;\" width=\"50\" x=\"56\" y=\"104.4688\"/><rect fill=\"none\" height=\"40\" id=\"E6\" rx=\"10\" ry=\"10\" style=\"stroke: #383838; stroke-width: 1.5;\" width=\"50\" x=\"56\" y=\"90.5\"/><text fill=\"#000000\" font-family=\"sans-serif\" font-size=\"12\" lengthAdjust=\"spacingAndGlyphs\" textLength=\"22\" x=\"70\" y=\"106.6387\">x: A</text></a></g><!--MD5=[5001c148f879d30f5f0a8de794eb85cb]\n",
       "@startuml\r\n",
       "skinparam ranksep 10\r\n",
       "skinparam rectangle {\r\n",
       " backgroundColor<<block>> LightGreen\r\n",
       "}\r\n",
       " skinparam monochrome true\r\n",
       "skinparam classbackgroundcolor white\r\n",
       "skinparam shadowing false\r\n",
       "skinparam wrapWidth 300\r\n",
       "hide circle\r\n",
       "\r\n",
       "package \"QualifiedNameImportTest\" as E1  [[psysml:a4661f57-6558-47c6-8aa5-037eecc073c9 ]]  {\r\n",
       "package \"P1\" as E2  [[psysml:29f17ec2-4245-49fb-a177-0d25d24d4819 ]]  {\r\n",
       "rec def \"A\" as E3  <<(T,blue)part def>> [[psysml:572e0642-2007-40ad-b1a4-6402326f1a76 ]] {\r\n",
       "}\r\n",
       "}\r\n",
       "package \"P2\" as E4  [[psysml:a2f2702a-9aae-4fcb-bcab-ee7ca241440a ]]  {\r\n",
       "package \"P2a\" as E5  [[psysml:584bb17b-e85a-4a43-abf7-54afe3b89034 ]]  {\r\n",
       "}\r\n",
       "rec usage \"x: A\" as E6  [[psysml:1b3157b3-25ca-40f3-9d15-65b1efb05714 ]] {\r\n",
       "}\r\n",
       "}\r\n",
       "}\r\n",
       "@enduml\r\n",
       "\n",
       "PlantUML version 1.2020.13(Sat Jun 13 12:26:38 UTC 2020)\n",
       "(EPL source distribution)\n",
       "Java Runtime: OpenJDK Runtime Environment\n",
       "JVM: OpenJDK 64-Bit Server VM\n",
       "Default Encoding: UTF-8\n",
       "Language: en\n",
       "Country: null\n",
       "--></g></svg>"
      ]
     },
     "execution_count": 5,
     "metadata": {},
     "output_type": "execute_result"
    }
   ],
   "source": [
    "%viz --style=\"COMPTREE\" --view=\"Interconnection\" \"QualifiedNameImportTest\""
   ]
  },
  {
   "cell_type": "code",
   "execution_count": 6,
   "id": "17f19980",
   "metadata": {
    "execution": {
     "iopub.execute_input": "2021-05-28T10:48:56.604171Z",
     "iopub.status.busy": "2021-05-28T10:48:56.603282Z",
     "iopub.status.idle": "2021-05-28T10:48:56.609809Z",
     "shell.execute_reply": "2021-05-28T10:48:56.609511Z"
    }
   },
   "outputs": [
    {
     "data": {
      "image/svg+xml": [
       "<?xml version=\"1.0\" encoding=\"UTF-8\" standalone=\"no\"?><svg xmlns=\"http://www.w3.org/2000/svg\" xmlns:xlink=\"http://www.w3.org/1999/xlink\" contentScriptType=\"application/ecmascript\" contentStyleType=\"text/css\" height=\"12px\" preserveAspectRatio=\"none\" style=\"width:12px;height:12px;\" version=\"1.1\" viewBox=\"0 0 12 12\" width=\"12px\" zoomAndPan=\"magnify\"><defs/><g><!--MD5=[655b888544ca4751ea36af1068543f84]\n",
       "@startuml\r\n",
       "skinparam ranksep 8\r\n",
       " skinparam monochrome true\r\n",
       "skinparam classbackgroundcolor white\r\n",
       "skinparam shadowing false\r\n",
       "skinparam wrapWidth 300\r\n",
       "hide circle\r\n",
       "\r\n",
       "@enduml\r\n",
       "\n",
       "PlantUML version 1.2020.13(Sat Jun 13 12:26:38 UTC 2020)\n",
       "(EPL source distribution)\n",
       "Java Runtime: OpenJDK Runtime Environment\n",
       "JVM: OpenJDK 64-Bit Server VM\n",
       "Default Encoding: UTF-8\n",
       "Language: en\n",
       "Country: null\n",
       "--></g></svg>"
      ]
     },
     "execution_count": 6,
     "metadata": {},
     "output_type": "execute_result"
    }
   ],
   "source": [
    "%viz --style=\"COMPTREE\" --view=\"Action\" \"QualifiedNameImportTest\""
   ]
  },
  {
   "cell_type": "code",
   "execution_count": 7,
   "id": "0851c1b6",
   "metadata": {
    "execution": {
     "iopub.execute_input": "2021-05-28T10:48:56.660978Z",
     "iopub.status.busy": "2021-05-28T10:48:56.660580Z",
     "iopub.status.idle": "2021-05-28T10:48:56.697047Z",
     "shell.execute_reply": "2021-05-28T10:48:56.695822Z"
    }
   },
   "outputs": [
    {
     "data": {
      "image/svg+xml": [
       "<?xml version=\"1.0\" encoding=\"UTF-8\" standalone=\"no\"?><svg xmlns=\"http://www.w3.org/2000/svg\" xmlns:xlink=\"http://www.w3.org/1999/xlink\" contentScriptType=\"application/ecmascript\" contentStyleType=\"text/css\" height=\"310px\" preserveAspectRatio=\"none\" style=\"width:253px;height:310px;\" version=\"1.1\" viewBox=\"0 0 253 310\" width=\"253px\" zoomAndPan=\"magnify\"><defs/><g><!--MD5=[fbc87193dbaf4d95561dea2c320d4a47]\n",
       "cluster E1--><a href=\"psysml:a4661f57-6558-47c6-8aa5-037eecc073c9\" target=\"_top\" title=\"psysml:a4661f57-6558-47c6-8aa5-037eecc073c9\" xlink:actuate=\"onRequest\" xlink:href=\"psysml:a4661f57-6558-47c6-8aa5-037eecc073c9\" xlink:show=\"new\" xlink:title=\"psysml:a4661f57-6558-47c6-8aa5-037eecc073c9\" xlink:type=\"simple\"><polygon fill=\"#FFFFFF\" points=\"16,6,221,6,228,28.2969,231,28.2969,231,298,16,298,16,6\" style=\"stroke: #000000; stroke-width: 1.5;\"/><line style=\"stroke: #000000; stroke-width: 1.5;\" x1=\"16\" x2=\"228\" y1=\"28.2969\" y2=\"28.2969\"/><text fill=\"#000000\" font-family=\"sans-serif\" font-size=\"14\" font-weight=\"bold\" lengthAdjust=\"spacingAndGlyphs\" textLength=\"199\" x=\"20\" y=\"20.9951\">QualifiedNameImportTest</text></a><!--MD5=[e4f7fae6ed58524ba242bb0b0d3be6b7]\n",
       "cluster E2--><a href=\"psysml:29f17ec2-4245-49fb-a177-0d25d24d4819\" target=\"_top\" title=\"psysml:29f17ec2-4245-49fb-a177-0d25d24d4819\" xlink:actuate=\"onRequest\" xlink:href=\"psysml:29f17ec2-4245-49fb-a177-0d25d24d4819\" xlink:show=\"new\" xlink:title=\"psysml:29f17ec2-4245-49fb-a177-0d25d24d4819\" xlink:type=\"simple\"><polygon fill=\"#FFFFFF\" points=\"105,177,131,177,138,199.2969,203,199.2969,203,274,105,274,105,177\" style=\"stroke: #000000; stroke-width: 1.5;\"/><line style=\"stroke: #000000; stroke-width: 1.5;\" x1=\"105\" x2=\"138\" y1=\"199.2969\" y2=\"199.2969\"/><text fill=\"#000000\" font-family=\"sans-serif\" font-size=\"14\" font-weight=\"bold\" lengthAdjust=\"spacingAndGlyphs\" textLength=\"20\" x=\"109\" y=\"191.9951\">P1</text></a><!--MD5=[f6df4d0ebaf0b5dfb2ced0ae5af7c670]\n",
       "cluster E4--><a href=\"psysml:a2f2702a-9aae-4fcb-bcab-ee7ca241440a\" target=\"_top\" title=\"psysml:a2f2702a-9aae-4fcb-bcab-ee7ca241440a\" xlink:actuate=\"onRequest\" xlink:href=\"psysml:a2f2702a-9aae-4fcb-bcab-ee7ca241440a\" xlink:show=\"new\" xlink:title=\"psysml:a2f2702a-9aae-4fcb-bcab-ee7ca241440a\" xlink:type=\"simple\"><polygon fill=\"#FFFFFF\" points=\"44,49,70,49,77,71.2969,203,71.2969,203,153,44,153,44,49\" style=\"stroke: #000000; stroke-width: 1.5;\"/><line style=\"stroke: #000000; stroke-width: 1.5;\" x1=\"44\" x2=\"77\" y1=\"71.2969\" y2=\"71.2969\"/><text fill=\"#000000\" font-family=\"sans-serif\" font-size=\"14\" font-weight=\"bold\" lengthAdjust=\"spacingAndGlyphs\" textLength=\"20\" x=\"48\" y=\"63.9951\">P2</text></a><!--MD5=[09b614a08d8cba4a07c9adeb5e0fee81]\n",
       "class E3--><a href=\"psysml:572e0642-2007-40ad-b1a4-6402326f1a76\" target=\"_top\" title=\"psysml:572e0642-2007-40ad-b1a4-6402326f1a76\" xlink:actuate=\"onRequest\" xlink:href=\"psysml:572e0642-2007-40ad-b1a4-6402326f1a76\" xlink:show=\"new\" xlink:title=\"psysml:572e0642-2007-40ad-b1a4-6402326f1a76\" xlink:type=\"simple\"><rect fill=\"#FFFFFF\" height=\"45.9375\" id=\"E3\" style=\"stroke: #383838; stroke-width: 1.5;\" width=\"66\" x=\"121\" y=\"212\"/><text fill=\"#000000\" font-family=\"sans-serif\" font-size=\"12\" font-style=\"italic\" lengthAdjust=\"spacingAndGlyphs\" textLength=\"64\" x=\"122\" y=\"228.1387\">«part def»</text><text fill=\"#000000\" font-family=\"sans-serif\" font-size=\"12\" lengthAdjust=\"spacingAndGlyphs\" textLength=\"8\" x=\"150\" y=\"242.1074\">A</text><line style=\"stroke: #383838; stroke-width: 1.5;\" x1=\"122\" x2=\"186\" y1=\"249.9375\" y2=\"249.9375\"/></a><!--MD5=[60a26617385b1d2d0262a64233df1f8d]\n",
       "class E6--><a href=\"psysml:1b3157b3-25ca-40f3-9d15-65b1efb05714\" target=\"_top\" title=\"psysml:1b3157b3-25ca-40f3-9d15-65b1efb05714\" xlink:actuate=\"onRequest\" xlink:href=\"psysml:1b3157b3-25ca-40f3-9d15-65b1efb05714\" xlink:show=\"new\" xlink:title=\"psysml:1b3157b3-25ca-40f3-9d15-65b1efb05714\" xlink:type=\"simple\"><rect fill=\"#FFFFFF\" height=\"45.9375\" id=\"E6\" rx=\"10\" ry=\"10\" style=\"stroke: #383838; stroke-width: 1.5;\" width=\"42\" x=\"145\" y=\"87.5\"/><text fill=\"#000000\" font-family=\"sans-serif\" font-size=\"12\" font-style=\"italic\" lengthAdjust=\"spacingAndGlyphs\" textLength=\"40\" x=\"146\" y=\"103.6387\">«part»</text><text fill=\"#000000\" font-family=\"sans-serif\" font-size=\"12\" lengthAdjust=\"spacingAndGlyphs\" textLength=\"22\" x=\"155\" y=\"117.6074\">x: A</text><line style=\"stroke: #383838; stroke-width: 1.5;\" x1=\"146\" x2=\"186\" y1=\"125.4375\" y2=\"125.4375\"/></a><a href=\"psysml:584bb17b-e85a-4a43-abf7-54afe3b89034\" target=\"_top\" title=\"psysml:584bb17b-e85a-4a43-abf7-54afe3b89034\" xlink:actuate=\"onRequest\" xlink:href=\"psysml:584bb17b-e85a-4a43-abf7-54afe3b89034\" xlink:show=\"new\" xlink:title=\"psysml:584bb17b-e85a-4a43-abf7-54afe3b89034\" xlink:type=\"simple\"><polygon fill=\"#FFFFFF\" points=\"60.5,84,95.5,84,102.5,106.2969,109.5,106.2969,109.5,136.5938,60.5,136.5938,60.5,84\" style=\"stroke: #000000; stroke-width: 1.5;\"/><line style=\"stroke: #000000; stroke-width: 1.5;\" x1=\"60.5\" x2=\"102.5\" y1=\"106.2969\" y2=\"106.2969\"/><text fill=\"#000000\" font-family=\"sans-serif\" font-size=\"14\" font-weight=\"bold\" lengthAdjust=\"spacingAndGlyphs\" textLength=\"29\" x=\"64.5\" y=\"98.9951\">P2a</text></a><!--MD5=[a717450b82c80b9240a525fa862496af]\n",
       "link E6 to E3--><a href=\"psysml:dd0f39f2-d93b-4af4-8d6e-2bae3b2dacf1\" target=\"_top\" title=\"psysml:dd0f39f2-d93b-4af4-8d6e-2bae3b2dacf1\" xlink:actuate=\"onRequest\" xlink:href=\"psysml:dd0f39f2-d93b-4af4-8d6e-2bae3b2dacf1\" xlink:show=\"new\" xlink:title=\"psysml:dd0f39f2-d93b-4af4-8d6e-2bae3b2dacf1\" xlink:type=\"simple\"><path d=\"M163.83,133.68 C162.24,149.9 160.04,172.39 158.12,191.96 \" fill=\"none\" id=\"E6-&gt;E3\" style=\"stroke: #383838; stroke-width: 1.0;\"/><polygon fill=\"#FFFFFF\" points=\"156.16,211.98,151.0533,192.3861,164.986,193.7564,156.16,211.98\" style=\"stroke: #383838; stroke-width: 1.0;\"/><ellipse cx=\"153.6016\" cy=\"186.9092\" fill=\"#383838\" rx=\"2\" ry=\"2\" style=\"stroke: #383838; stroke-width: 1.0;\"/><ellipse cx=\"163.5535\" cy=\"187.888\" fill=\"#383838\" rx=\"2\" ry=\"2\" style=\"stroke: #383838; stroke-width: 1.0;\"/></a><!--MD5=[ba7ca2e7a16448bbe0501fff4e456634]\n",
       "@startuml\r\n",
       " skinparam monochrome true\r\n",
       "skinparam classbackgroundcolor white\r\n",
       "skinparam shadowing false\r\n",
       "skinparam wrapWidth 300\r\n",
       "hide circle\r\n",
       "\r\n",
       "package \"QualifiedNameImportTest\" as E1  [[psysml:a4661f57-6558-47c6-8aa5-037eecc073c9 ]]  {\r\n",
       "package \"P1\" as E2  [[psysml:29f17ec2-4245-49fb-a177-0d25d24d4819 ]]  {\r\n",
       "comp def \"A\" as E3  <<(T,blue)part def>> [[psysml:572e0642-2007-40ad-b1a4-6402326f1a76 ]] {\r\n",
       "}\r\n",
       "}\r\n",
       "package \"P2\" as E4  [[psysml:a2f2702a-9aae-4fcb-bcab-ee7ca241440a ]]  {\r\n",
       "package \"P2a\" as E5  [[psysml:584bb17b-e85a-4a43-abf7-54afe3b89034 ]]  {\r\n",
       "}\r\n",
       "comp usage \"x: A\" as E6  <<(T,blue)part>> [[psysml:1b3157b3-25ca-40f3-9d15-65b1efb05714 ]] {\r\n",
       "}\r\n",
       "E6 - -:|> E3 [[psysml:dd0f39f2-d93b-4af4-8d6e-2bae3b2dacf1 ]] \r\n",
       "}\r\n",
       "}\r\n",
       "@enduml\r\n",
       "\n",
       "PlantUML version 1.2020.13(Sat Jun 13 12:26:38 UTC 2020)\n",
       "(EPL source distribution)\n",
       "Java Runtime: OpenJDK Runtime Environment\n",
       "JVM: OpenJDK 64-Bit Server VM\n",
       "Default Encoding: UTF-8\n",
       "Language: en\n",
       "Country: null\n",
       "--></g></svg>"
      ]
     },
     "execution_count": 7,
     "metadata": {},
     "output_type": "execute_result"
    }
   ],
   "source": [
    "%viz --style=\"COMPTREE\" --view=\"Sequence\" \"QualifiedNameImportTest\""
   ]
  },
  {
   "cell_type": "code",
   "execution_count": 8,
   "id": "eb3a81bb",
   "metadata": {
    "execution": {
     "iopub.execute_input": "2021-05-28T10:48:56.747813Z",
     "iopub.status.busy": "2021-05-28T10:48:56.747114Z",
     "iopub.status.idle": "2021-05-28T10:48:56.782553Z",
     "shell.execute_reply": "2021-05-28T10:48:56.781361Z"
    }
   },
   "outputs": [
    {
     "data": {
      "image/svg+xml": [
       "<?xml version=\"1.0\" encoding=\"UTF-8\" standalone=\"no\"?><svg xmlns=\"http://www.w3.org/2000/svg\" xmlns:xlink=\"http://www.w3.org/1999/xlink\" contentScriptType=\"application/ecmascript\" contentStyleType=\"text/css\" height=\"310px\" preserveAspectRatio=\"none\" style=\"width:253px;height:310px;\" version=\"1.1\" viewBox=\"0 0 253 310\" width=\"253px\" zoomAndPan=\"magnify\"><defs/><g><!--MD5=[fbc87193dbaf4d95561dea2c320d4a47]\n",
       "cluster E1--><a href=\"psysml:a4661f57-6558-47c6-8aa5-037eecc073c9\" target=\"_top\" title=\"psysml:a4661f57-6558-47c6-8aa5-037eecc073c9\" xlink:actuate=\"onRequest\" xlink:href=\"psysml:a4661f57-6558-47c6-8aa5-037eecc073c9\" xlink:show=\"new\" xlink:title=\"psysml:a4661f57-6558-47c6-8aa5-037eecc073c9\" xlink:type=\"simple\"><polygon fill=\"#FFFFFF\" points=\"16,6,221,6,228,28.2969,231,28.2969,231,298,16,298,16,6\" style=\"stroke: #000000; stroke-width: 1.5;\"/><line style=\"stroke: #000000; stroke-width: 1.5;\" x1=\"16\" x2=\"228\" y1=\"28.2969\" y2=\"28.2969\"/><text fill=\"#000000\" font-family=\"sans-serif\" font-size=\"14\" font-weight=\"bold\" lengthAdjust=\"spacingAndGlyphs\" textLength=\"199\" x=\"20\" y=\"20.9951\">QualifiedNameImportTest</text></a><!--MD5=[e4f7fae6ed58524ba242bb0b0d3be6b7]\n",
       "cluster E2--><a href=\"psysml:29f17ec2-4245-49fb-a177-0d25d24d4819\" target=\"_top\" title=\"psysml:29f17ec2-4245-49fb-a177-0d25d24d4819\" xlink:actuate=\"onRequest\" xlink:href=\"psysml:29f17ec2-4245-49fb-a177-0d25d24d4819\" xlink:show=\"new\" xlink:title=\"psysml:29f17ec2-4245-49fb-a177-0d25d24d4819\" xlink:type=\"simple\"><polygon fill=\"#FFFFFF\" points=\"105,177,131,177,138,199.2969,203,199.2969,203,274,105,274,105,177\" style=\"stroke: #000000; stroke-width: 1.5;\"/><line style=\"stroke: #000000; stroke-width: 1.5;\" x1=\"105\" x2=\"138\" y1=\"199.2969\" y2=\"199.2969\"/><text fill=\"#000000\" font-family=\"sans-serif\" font-size=\"14\" font-weight=\"bold\" lengthAdjust=\"spacingAndGlyphs\" textLength=\"20\" x=\"109\" y=\"191.9951\">P1</text></a><!--MD5=[f6df4d0ebaf0b5dfb2ced0ae5af7c670]\n",
       "cluster E4--><a href=\"psysml:a2f2702a-9aae-4fcb-bcab-ee7ca241440a\" target=\"_top\" title=\"psysml:a2f2702a-9aae-4fcb-bcab-ee7ca241440a\" xlink:actuate=\"onRequest\" xlink:href=\"psysml:a2f2702a-9aae-4fcb-bcab-ee7ca241440a\" xlink:show=\"new\" xlink:title=\"psysml:a2f2702a-9aae-4fcb-bcab-ee7ca241440a\" xlink:type=\"simple\"><polygon fill=\"#FFFFFF\" points=\"44,49,70,49,77,71.2969,203,71.2969,203,153,44,153,44,49\" style=\"stroke: #000000; stroke-width: 1.5;\"/><line style=\"stroke: #000000; stroke-width: 1.5;\" x1=\"44\" x2=\"77\" y1=\"71.2969\" y2=\"71.2969\"/><text fill=\"#000000\" font-family=\"sans-serif\" font-size=\"14\" font-weight=\"bold\" lengthAdjust=\"spacingAndGlyphs\" textLength=\"20\" x=\"48\" y=\"63.9951\">P2</text></a><!--MD5=[09b614a08d8cba4a07c9adeb5e0fee81]\n",
       "class E3--><a href=\"psysml:572e0642-2007-40ad-b1a4-6402326f1a76\" target=\"_top\" title=\"psysml:572e0642-2007-40ad-b1a4-6402326f1a76\" xlink:actuate=\"onRequest\" xlink:href=\"psysml:572e0642-2007-40ad-b1a4-6402326f1a76\" xlink:show=\"new\" xlink:title=\"psysml:572e0642-2007-40ad-b1a4-6402326f1a76\" xlink:type=\"simple\"><rect fill=\"#FFFFFF\" height=\"45.9375\" id=\"E3\" style=\"stroke: #383838; stroke-width: 1.5;\" width=\"66\" x=\"121\" y=\"212\"/><text fill=\"#000000\" font-family=\"sans-serif\" font-size=\"12\" font-style=\"italic\" lengthAdjust=\"spacingAndGlyphs\" textLength=\"64\" x=\"122\" y=\"228.1387\">«part def»</text><text fill=\"#000000\" font-family=\"sans-serif\" font-size=\"12\" lengthAdjust=\"spacingAndGlyphs\" textLength=\"8\" x=\"150\" y=\"242.1074\">A</text><line style=\"stroke: #383838; stroke-width: 1.5;\" x1=\"122\" x2=\"186\" y1=\"249.9375\" y2=\"249.9375\"/></a><!--MD5=[60a26617385b1d2d0262a64233df1f8d]\n",
       "class E6--><a href=\"psysml:1b3157b3-25ca-40f3-9d15-65b1efb05714\" target=\"_top\" title=\"psysml:1b3157b3-25ca-40f3-9d15-65b1efb05714\" xlink:actuate=\"onRequest\" xlink:href=\"psysml:1b3157b3-25ca-40f3-9d15-65b1efb05714\" xlink:show=\"new\" xlink:title=\"psysml:1b3157b3-25ca-40f3-9d15-65b1efb05714\" xlink:type=\"simple\"><rect fill=\"#FFFFFF\" height=\"45.9375\" id=\"E6\" rx=\"10\" ry=\"10\" style=\"stroke: #383838; stroke-width: 1.5;\" width=\"42\" x=\"145\" y=\"87.5\"/><text fill=\"#000000\" font-family=\"sans-serif\" font-size=\"12\" font-style=\"italic\" lengthAdjust=\"spacingAndGlyphs\" textLength=\"40\" x=\"146\" y=\"103.6387\">«part»</text><text fill=\"#000000\" font-family=\"sans-serif\" font-size=\"12\" lengthAdjust=\"spacingAndGlyphs\" textLength=\"22\" x=\"155\" y=\"117.6074\">x: A</text><line style=\"stroke: #383838; stroke-width: 1.5;\" x1=\"146\" x2=\"186\" y1=\"125.4375\" y2=\"125.4375\"/></a><a href=\"psysml:584bb17b-e85a-4a43-abf7-54afe3b89034\" target=\"_top\" title=\"psysml:584bb17b-e85a-4a43-abf7-54afe3b89034\" xlink:actuate=\"onRequest\" xlink:href=\"psysml:584bb17b-e85a-4a43-abf7-54afe3b89034\" xlink:show=\"new\" xlink:title=\"psysml:584bb17b-e85a-4a43-abf7-54afe3b89034\" xlink:type=\"simple\"><polygon fill=\"#FFFFFF\" points=\"60.5,84,95.5,84,102.5,106.2969,109.5,106.2969,109.5,136.5938,60.5,136.5938,60.5,84\" style=\"stroke: #000000; stroke-width: 1.5;\"/><line style=\"stroke: #000000; stroke-width: 1.5;\" x1=\"60.5\" x2=\"102.5\" y1=\"106.2969\" y2=\"106.2969\"/><text fill=\"#000000\" font-family=\"sans-serif\" font-size=\"14\" font-weight=\"bold\" lengthAdjust=\"spacingAndGlyphs\" textLength=\"29\" x=\"64.5\" y=\"98.9951\">P2a</text></a><!--MD5=[a717450b82c80b9240a525fa862496af]\n",
       "link E6 to E3--><a href=\"psysml:dd0f39f2-d93b-4af4-8d6e-2bae3b2dacf1\" target=\"_top\" title=\"psysml:dd0f39f2-d93b-4af4-8d6e-2bae3b2dacf1\" xlink:actuate=\"onRequest\" xlink:href=\"psysml:dd0f39f2-d93b-4af4-8d6e-2bae3b2dacf1\" xlink:show=\"new\" xlink:title=\"psysml:dd0f39f2-d93b-4af4-8d6e-2bae3b2dacf1\" xlink:type=\"simple\"><path d=\"M163.83,133.68 C162.24,149.9 160.04,172.39 158.12,191.96 \" fill=\"none\" id=\"E6-&gt;E3\" style=\"stroke: #383838; stroke-width: 1.0;\"/><polygon fill=\"#FFFFFF\" points=\"156.16,211.98,151.0533,192.3861,164.986,193.7564,156.16,211.98\" style=\"stroke: #383838; stroke-width: 1.0;\"/><ellipse cx=\"153.6016\" cy=\"186.9092\" fill=\"#383838\" rx=\"2\" ry=\"2\" style=\"stroke: #383838; stroke-width: 1.0;\"/><ellipse cx=\"163.5535\" cy=\"187.888\" fill=\"#383838\" rx=\"2\" ry=\"2\" style=\"stroke: #383838; stroke-width: 1.0;\"/></a><!--MD5=[ba7ca2e7a16448bbe0501fff4e456634]\n",
       "@startuml\r\n",
       " skinparam monochrome true\r\n",
       "skinparam classbackgroundcolor white\r\n",
       "skinparam shadowing false\r\n",
       "skinparam wrapWidth 300\r\n",
       "hide circle\r\n",
       "\r\n",
       "package \"QualifiedNameImportTest\" as E1  [[psysml:a4661f57-6558-47c6-8aa5-037eecc073c9 ]]  {\r\n",
       "package \"P1\" as E2  [[psysml:29f17ec2-4245-49fb-a177-0d25d24d4819 ]]  {\r\n",
       "comp def \"A\" as E3  <<(T,blue)part def>> [[psysml:572e0642-2007-40ad-b1a4-6402326f1a76 ]] {\r\n",
       "}\r\n",
       "}\r\n",
       "package \"P2\" as E4  [[psysml:a2f2702a-9aae-4fcb-bcab-ee7ca241440a ]]  {\r\n",
       "package \"P2a\" as E5  [[psysml:584bb17b-e85a-4a43-abf7-54afe3b89034 ]]  {\r\n",
       "}\r\n",
       "comp usage \"x: A\" as E6  <<(T,blue)part>> [[psysml:1b3157b3-25ca-40f3-9d15-65b1efb05714 ]] {\r\n",
       "}\r\n",
       "E6 - -:|> E3 [[psysml:dd0f39f2-d93b-4af4-8d6e-2bae3b2dacf1 ]] \r\n",
       "}\r\n",
       "}\r\n",
       "@enduml\r\n",
       "\n",
       "PlantUML version 1.2020.13(Sat Jun 13 12:26:38 UTC 2020)\n",
       "(EPL source distribution)\n",
       "Java Runtime: OpenJDK Runtime Environment\n",
       "JVM: OpenJDK 64-Bit Server VM\n",
       "Default Encoding: UTF-8\n",
       "Language: en\n",
       "Country: null\n",
       "--></g></svg>"
      ]
     },
     "execution_count": 8,
     "metadata": {},
     "output_type": "execute_result"
    }
   ],
   "source": [
    "%viz --style=\"COMPTREE\" --view=\"MIXED\" \"QualifiedNameImportTest\""
   ]
  },
  {
   "cell_type": "code",
   "execution_count": 9,
   "id": "ef8be85e",
   "metadata": {
    "execution": {
     "iopub.execute_input": "2021-05-28T10:48:56.835025Z",
     "iopub.status.busy": "2021-05-28T10:48:56.834252Z",
     "iopub.status.idle": "2021-05-28T10:48:56.869469Z",
     "shell.execute_reply": "2021-05-28T10:48:56.869170Z"
    }
   },
   "outputs": [
    {
     "data": {
      "image/svg+xml": [
       "<?xml version=\"1.0\" encoding=\"UTF-8\" standalone=\"no\"?><svg xmlns=\"http://www.w3.org/2000/svg\" xmlns:xlink=\"http://www.w3.org/1999/xlink\" contentScriptType=\"application/ecmascript\" contentStyleType=\"text/css\" height=\"310px\" preserveAspectRatio=\"none\" style=\"width:253px;height:310px;\" version=\"1.1\" viewBox=\"0 0 253 310\" width=\"253px\" zoomAndPan=\"magnify\"><defs/><g><!--MD5=[fbc87193dbaf4d95561dea2c320d4a47]\n",
       "cluster E1--><a href=\"psysml:a4661f57-6558-47c6-8aa5-037eecc073c9\" target=\"_top\" title=\"psysml:a4661f57-6558-47c6-8aa5-037eecc073c9\" xlink:actuate=\"onRequest\" xlink:href=\"psysml:a4661f57-6558-47c6-8aa5-037eecc073c9\" xlink:show=\"new\" xlink:title=\"psysml:a4661f57-6558-47c6-8aa5-037eecc073c9\" xlink:type=\"simple\"><polygon fill=\"#FFFFFF\" points=\"16,6,221,6,228,28.2969,231,28.2969,231,298,16,298,16,6\" style=\"stroke: #000000; stroke-width: 1.5;\"/><line style=\"stroke: #000000; stroke-width: 1.5;\" x1=\"16\" x2=\"228\" y1=\"28.2969\" y2=\"28.2969\"/><text fill=\"#000000\" font-family=\"sans-serif\" font-size=\"14\" font-weight=\"bold\" lengthAdjust=\"spacingAndGlyphs\" textLength=\"199\" x=\"20\" y=\"20.9951\">QualifiedNameImportTest</text></a><!--MD5=[e4f7fae6ed58524ba242bb0b0d3be6b7]\n",
       "cluster E2--><a href=\"psysml:29f17ec2-4245-49fb-a177-0d25d24d4819\" target=\"_top\" title=\"psysml:29f17ec2-4245-49fb-a177-0d25d24d4819\" xlink:actuate=\"onRequest\" xlink:href=\"psysml:29f17ec2-4245-49fb-a177-0d25d24d4819\" xlink:show=\"new\" xlink:title=\"psysml:29f17ec2-4245-49fb-a177-0d25d24d4819\" xlink:type=\"simple\"><polygon fill=\"#FFFFFF\" points=\"105,177,131,177,138,199.2969,203,199.2969,203,274,105,274,105,177\" style=\"stroke: #000000; stroke-width: 1.5;\"/><line style=\"stroke: #000000; stroke-width: 1.5;\" x1=\"105\" x2=\"138\" y1=\"199.2969\" y2=\"199.2969\"/><text fill=\"#000000\" font-family=\"sans-serif\" font-size=\"14\" font-weight=\"bold\" lengthAdjust=\"spacingAndGlyphs\" textLength=\"20\" x=\"109\" y=\"191.9951\">P1</text></a><!--MD5=[f6df4d0ebaf0b5dfb2ced0ae5af7c670]\n",
       "cluster E4--><a href=\"psysml:a2f2702a-9aae-4fcb-bcab-ee7ca241440a\" target=\"_top\" title=\"psysml:a2f2702a-9aae-4fcb-bcab-ee7ca241440a\" xlink:actuate=\"onRequest\" xlink:href=\"psysml:a2f2702a-9aae-4fcb-bcab-ee7ca241440a\" xlink:show=\"new\" xlink:title=\"psysml:a2f2702a-9aae-4fcb-bcab-ee7ca241440a\" xlink:type=\"simple\"><polygon fill=\"#FFFFFF\" points=\"44,49,70,49,77,71.2969,203,71.2969,203,153,44,153,44,49\" style=\"stroke: #000000; stroke-width: 1.5;\"/><line style=\"stroke: #000000; stroke-width: 1.5;\" x1=\"44\" x2=\"77\" y1=\"71.2969\" y2=\"71.2969\"/><text fill=\"#000000\" font-family=\"sans-serif\" font-size=\"14\" font-weight=\"bold\" lengthAdjust=\"spacingAndGlyphs\" textLength=\"20\" x=\"48\" y=\"63.9951\">P2</text></a><!--MD5=[09b614a08d8cba4a07c9adeb5e0fee81]\n",
       "class E3--><a href=\"psysml:572e0642-2007-40ad-b1a4-6402326f1a76\" target=\"_top\" title=\"psysml:572e0642-2007-40ad-b1a4-6402326f1a76\" xlink:actuate=\"onRequest\" xlink:href=\"psysml:572e0642-2007-40ad-b1a4-6402326f1a76\" xlink:show=\"new\" xlink:title=\"psysml:572e0642-2007-40ad-b1a4-6402326f1a76\" xlink:type=\"simple\"><rect fill=\"#FFFFFF\" height=\"45.9375\" id=\"E3\" style=\"stroke: #383838; stroke-width: 1.5;\" width=\"66\" x=\"121\" y=\"212\"/><text fill=\"#000000\" font-family=\"sans-serif\" font-size=\"12\" font-style=\"italic\" lengthAdjust=\"spacingAndGlyphs\" textLength=\"64\" x=\"122\" y=\"228.1387\">«part def»</text><text fill=\"#000000\" font-family=\"sans-serif\" font-size=\"12\" lengthAdjust=\"spacingAndGlyphs\" textLength=\"8\" x=\"150\" y=\"242.1074\">A</text><line style=\"stroke: #383838; stroke-width: 1.5;\" x1=\"122\" x2=\"186\" y1=\"249.9375\" y2=\"249.9375\"/></a><!--MD5=[60a26617385b1d2d0262a64233df1f8d]\n",
       "class E6--><a href=\"psysml:1b3157b3-25ca-40f3-9d15-65b1efb05714\" target=\"_top\" title=\"psysml:1b3157b3-25ca-40f3-9d15-65b1efb05714\" xlink:actuate=\"onRequest\" xlink:href=\"psysml:1b3157b3-25ca-40f3-9d15-65b1efb05714\" xlink:show=\"new\" xlink:title=\"psysml:1b3157b3-25ca-40f3-9d15-65b1efb05714\" xlink:type=\"simple\"><rect fill=\"#FFFFFF\" height=\"45.9375\" id=\"E6\" rx=\"10\" ry=\"10\" style=\"stroke: #383838; stroke-width: 1.5;\" width=\"42\" x=\"145\" y=\"87.5\"/><text fill=\"#000000\" font-family=\"sans-serif\" font-size=\"12\" font-style=\"italic\" lengthAdjust=\"spacingAndGlyphs\" textLength=\"40\" x=\"146\" y=\"103.6387\">«part»</text><text fill=\"#000000\" font-family=\"sans-serif\" font-size=\"12\" lengthAdjust=\"spacingAndGlyphs\" textLength=\"22\" x=\"155\" y=\"117.6074\">x: A</text><line style=\"stroke: #383838; stroke-width: 1.5;\" x1=\"146\" x2=\"186\" y1=\"125.4375\" y2=\"125.4375\"/></a><a href=\"psysml:584bb17b-e85a-4a43-abf7-54afe3b89034\" target=\"_top\" title=\"psysml:584bb17b-e85a-4a43-abf7-54afe3b89034\" xlink:actuate=\"onRequest\" xlink:href=\"psysml:584bb17b-e85a-4a43-abf7-54afe3b89034\" xlink:show=\"new\" xlink:title=\"psysml:584bb17b-e85a-4a43-abf7-54afe3b89034\" xlink:type=\"simple\"><polygon fill=\"#FFFFFF\" points=\"60.5,84,95.5,84,102.5,106.2969,109.5,106.2969,109.5,136.5938,60.5,136.5938,60.5,84\" style=\"stroke: #000000; stroke-width: 1.5;\"/><line style=\"stroke: #000000; stroke-width: 1.5;\" x1=\"60.5\" x2=\"102.5\" y1=\"106.2969\" y2=\"106.2969\"/><text fill=\"#000000\" font-family=\"sans-serif\" font-size=\"14\" font-weight=\"bold\" lengthAdjust=\"spacingAndGlyphs\" textLength=\"29\" x=\"64.5\" y=\"98.9951\">P2a</text></a><!--MD5=[a717450b82c80b9240a525fa862496af]\n",
       "link E6 to E3--><a href=\"psysml:dd0f39f2-d93b-4af4-8d6e-2bae3b2dacf1\" target=\"_top\" title=\"psysml:dd0f39f2-d93b-4af4-8d6e-2bae3b2dacf1\" xlink:actuate=\"onRequest\" xlink:href=\"psysml:dd0f39f2-d93b-4af4-8d6e-2bae3b2dacf1\" xlink:show=\"new\" xlink:title=\"psysml:dd0f39f2-d93b-4af4-8d6e-2bae3b2dacf1\" xlink:type=\"simple\"><path d=\"M163.83,133.68 C162.24,149.9 160.04,172.39 158.12,191.96 \" fill=\"none\" id=\"E6-&gt;E3\" style=\"stroke: #383838; stroke-width: 1.0;\"/><polygon fill=\"#FFFFFF\" points=\"156.16,211.98,151.0533,192.3861,164.986,193.7564,156.16,211.98\" style=\"stroke: #383838; stroke-width: 1.0;\"/><ellipse cx=\"153.6016\" cy=\"186.9092\" fill=\"#383838\" rx=\"2\" ry=\"2\" style=\"stroke: #383838; stroke-width: 1.0;\"/><ellipse cx=\"163.5535\" cy=\"187.888\" fill=\"#383838\" rx=\"2\" ry=\"2\" style=\"stroke: #383838; stroke-width: 1.0;\"/></a><!--MD5=[0270118a3d19b670e02f4d36e742542d]\n",
       "@startuml\r\n",
       "skinparam linetype polyline\r\n",
       "skinparam monochrome true\r\n",
       "skinparam classbackgroundcolor white\r\n",
       "skinparam shadowing false\r\n",
       "skinparam wrapWidth 300\r\n",
       "hide circle\r\n",
       "\r\n",
       "package \"QualifiedNameImportTest\" as E1  [[psysml:a4661f57-6558-47c6-8aa5-037eecc073c9 ]]  {\r\n",
       "package \"P1\" as E2  [[psysml:29f17ec2-4245-49fb-a177-0d25d24d4819 ]]  {\r\n",
       "comp def \"A\" as E3  <<(T,blue)part def>> [[psysml:572e0642-2007-40ad-b1a4-6402326f1a76 ]] {\r\n",
       "}\r\n",
       "}\r\n",
       "package \"P2\" as E4  [[psysml:a2f2702a-9aae-4fcb-bcab-ee7ca241440a ]]  {\r\n",
       "package \"P2a\" as E5  [[psysml:584bb17b-e85a-4a43-abf7-54afe3b89034 ]]  {\r\n",
       "}\r\n",
       "comp usage \"x: A\" as E6  <<(T,blue)part>> [[psysml:1b3157b3-25ca-40f3-9d15-65b1efb05714 ]] {\r\n",
       "}\r\n",
       "E6 - -:|> E3 [[psysml:dd0f39f2-d93b-4af4-8d6e-2bae3b2dacf1 ]] \r\n",
       "}\r\n",
       "}\r\n",
       "@enduml\r\n",
       "\n",
       "PlantUML version 1.2020.13(Sat Jun 13 12:26:38 UTC 2020)\n",
       "(EPL source distribution)\n",
       "Java Runtime: OpenJDK Runtime Environment\n",
       "JVM: OpenJDK 64-Bit Server VM\n",
       "Default Encoding: UTF-8\n",
       "Language: en\n",
       "Country: null\n",
       "--></g></svg>"
      ]
     },
     "execution_count": 9,
     "metadata": {},
     "output_type": "execute_result"
    }
   ],
   "source": [
    "%viz --style=\"POLYLINE\" --view=\"Default\" \"QualifiedNameImportTest\""
   ]
  },
  {
   "cell_type": "code",
   "execution_count": 10,
   "id": "3835f88b",
   "metadata": {
    "execution": {
     "iopub.execute_input": "2021-05-28T10:48:56.922268Z",
     "iopub.status.busy": "2021-05-28T10:48:56.921660Z",
     "iopub.status.idle": "2021-05-28T10:48:56.955908Z",
     "shell.execute_reply": "2021-05-28T10:48:56.955621Z"
    }
   },
   "outputs": [
    {
     "data": {
      "image/svg+xml": [
       "<?xml version=\"1.0\" encoding=\"UTF-8\" standalone=\"no\"?><svg xmlns=\"http://www.w3.org/2000/svg\" xmlns:xlink=\"http://www.w3.org/1999/xlink\" contentScriptType=\"application/ecmascript\" contentStyleType=\"text/css\" height=\"310px\" preserveAspectRatio=\"none\" style=\"width:253px;height:310px;\" version=\"1.1\" viewBox=\"0 0 253 310\" width=\"253px\" zoomAndPan=\"magnify\"><defs/><g><!--MD5=[fbc87193dbaf4d95561dea2c320d4a47]\n",
       "cluster E1--><a href=\"psysml:a4661f57-6558-47c6-8aa5-037eecc073c9\" target=\"_top\" title=\"psysml:a4661f57-6558-47c6-8aa5-037eecc073c9\" xlink:actuate=\"onRequest\" xlink:href=\"psysml:a4661f57-6558-47c6-8aa5-037eecc073c9\" xlink:show=\"new\" xlink:title=\"psysml:a4661f57-6558-47c6-8aa5-037eecc073c9\" xlink:type=\"simple\"><polygon fill=\"#FFFFFF\" points=\"16,6,221,6,228,28.2969,231,28.2969,231,298,16,298,16,6\" style=\"stroke: #000000; stroke-width: 1.5;\"/><line style=\"stroke: #000000; stroke-width: 1.5;\" x1=\"16\" x2=\"228\" y1=\"28.2969\" y2=\"28.2969\"/><text fill=\"#000000\" font-family=\"sans-serif\" font-size=\"14\" font-weight=\"bold\" lengthAdjust=\"spacingAndGlyphs\" textLength=\"199\" x=\"20\" y=\"20.9951\">QualifiedNameImportTest</text></a><!--MD5=[e4f7fae6ed58524ba242bb0b0d3be6b7]\n",
       "cluster E2--><a href=\"psysml:29f17ec2-4245-49fb-a177-0d25d24d4819\" target=\"_top\" title=\"psysml:29f17ec2-4245-49fb-a177-0d25d24d4819\" xlink:actuate=\"onRequest\" xlink:href=\"psysml:29f17ec2-4245-49fb-a177-0d25d24d4819\" xlink:show=\"new\" xlink:title=\"psysml:29f17ec2-4245-49fb-a177-0d25d24d4819\" xlink:type=\"simple\"><polygon fill=\"#FFFFFF\" points=\"105,177,131,177,138,199.2969,203,199.2969,203,274,105,274,105,177\" style=\"stroke: #000000; stroke-width: 1.5;\"/><line style=\"stroke: #000000; stroke-width: 1.5;\" x1=\"105\" x2=\"138\" y1=\"199.2969\" y2=\"199.2969\"/><text fill=\"#000000\" font-family=\"sans-serif\" font-size=\"14\" font-weight=\"bold\" lengthAdjust=\"spacingAndGlyphs\" textLength=\"20\" x=\"109\" y=\"191.9951\">P1</text></a><!--MD5=[f6df4d0ebaf0b5dfb2ced0ae5af7c670]\n",
       "cluster E4--><a href=\"psysml:a2f2702a-9aae-4fcb-bcab-ee7ca241440a\" target=\"_top\" title=\"psysml:a2f2702a-9aae-4fcb-bcab-ee7ca241440a\" xlink:actuate=\"onRequest\" xlink:href=\"psysml:a2f2702a-9aae-4fcb-bcab-ee7ca241440a\" xlink:show=\"new\" xlink:title=\"psysml:a2f2702a-9aae-4fcb-bcab-ee7ca241440a\" xlink:type=\"simple\"><polygon fill=\"#FFFFFF\" points=\"44,49,70,49,77,71.2969,203,71.2969,203,153,44,153,44,49\" style=\"stroke: #000000; stroke-width: 1.5;\"/><line style=\"stroke: #000000; stroke-width: 1.5;\" x1=\"44\" x2=\"77\" y1=\"71.2969\" y2=\"71.2969\"/><text fill=\"#000000\" font-family=\"sans-serif\" font-size=\"14\" font-weight=\"bold\" lengthAdjust=\"spacingAndGlyphs\" textLength=\"20\" x=\"48\" y=\"63.9951\">P2</text></a><!--MD5=[09b614a08d8cba4a07c9adeb5e0fee81]\n",
       "class E3--><a href=\"psysml:572e0642-2007-40ad-b1a4-6402326f1a76\" target=\"_top\" title=\"psysml:572e0642-2007-40ad-b1a4-6402326f1a76\" xlink:actuate=\"onRequest\" xlink:href=\"psysml:572e0642-2007-40ad-b1a4-6402326f1a76\" xlink:show=\"new\" xlink:title=\"psysml:572e0642-2007-40ad-b1a4-6402326f1a76\" xlink:type=\"simple\"><rect fill=\"#FFFFFF\" height=\"45.9375\" id=\"E3\" style=\"stroke: #383838; stroke-width: 1.5;\" width=\"66\" x=\"121\" y=\"212\"/><text fill=\"#000000\" font-family=\"sans-serif\" font-size=\"12\" font-style=\"italic\" lengthAdjust=\"spacingAndGlyphs\" textLength=\"64\" x=\"122\" y=\"228.1387\">«part def»</text><text fill=\"#000000\" font-family=\"sans-serif\" font-size=\"12\" lengthAdjust=\"spacingAndGlyphs\" textLength=\"8\" x=\"150\" y=\"242.1074\">A</text><line style=\"stroke: #383838; stroke-width: 1.5;\" x1=\"122\" x2=\"186\" y1=\"249.9375\" y2=\"249.9375\"/></a><!--MD5=[60a26617385b1d2d0262a64233df1f8d]\n",
       "class E6--><a href=\"psysml:1b3157b3-25ca-40f3-9d15-65b1efb05714\" target=\"_top\" title=\"psysml:1b3157b3-25ca-40f3-9d15-65b1efb05714\" xlink:actuate=\"onRequest\" xlink:href=\"psysml:1b3157b3-25ca-40f3-9d15-65b1efb05714\" xlink:show=\"new\" xlink:title=\"psysml:1b3157b3-25ca-40f3-9d15-65b1efb05714\" xlink:type=\"simple\"><rect fill=\"#FFFFFF\" height=\"45.9375\" id=\"E6\" rx=\"10\" ry=\"10\" style=\"stroke: #383838; stroke-width: 1.5;\" width=\"42\" x=\"145\" y=\"87.5\"/><text fill=\"#000000\" font-family=\"sans-serif\" font-size=\"12\" font-style=\"italic\" lengthAdjust=\"spacingAndGlyphs\" textLength=\"40\" x=\"146\" y=\"103.6387\">«part»</text><text fill=\"#000000\" font-family=\"sans-serif\" font-size=\"12\" lengthAdjust=\"spacingAndGlyphs\" textLength=\"22\" x=\"155\" y=\"117.6074\">x: A</text><line style=\"stroke: #383838; stroke-width: 1.5;\" x1=\"146\" x2=\"186\" y1=\"125.4375\" y2=\"125.4375\"/></a><a href=\"psysml:584bb17b-e85a-4a43-abf7-54afe3b89034\" target=\"_top\" title=\"psysml:584bb17b-e85a-4a43-abf7-54afe3b89034\" xlink:actuate=\"onRequest\" xlink:href=\"psysml:584bb17b-e85a-4a43-abf7-54afe3b89034\" xlink:show=\"new\" xlink:title=\"psysml:584bb17b-e85a-4a43-abf7-54afe3b89034\" xlink:type=\"simple\"><polygon fill=\"#FFFFFF\" points=\"60.5,84,95.5,84,102.5,106.2969,109.5,106.2969,109.5,136.5938,60.5,136.5938,60.5,84\" style=\"stroke: #000000; stroke-width: 1.5;\"/><line style=\"stroke: #000000; stroke-width: 1.5;\" x1=\"60.5\" x2=\"102.5\" y1=\"106.2969\" y2=\"106.2969\"/><text fill=\"#000000\" font-family=\"sans-serif\" font-size=\"14\" font-weight=\"bold\" lengthAdjust=\"spacingAndGlyphs\" textLength=\"29\" x=\"64.5\" y=\"98.9951\">P2a</text></a><!--MD5=[a717450b82c80b9240a525fa862496af]\n",
       "link E6 to E3--><a href=\"psysml:dd0f39f2-d93b-4af4-8d6e-2bae3b2dacf1\" target=\"_top\" title=\"psysml:dd0f39f2-d93b-4af4-8d6e-2bae3b2dacf1\" xlink:actuate=\"onRequest\" xlink:href=\"psysml:dd0f39f2-d93b-4af4-8d6e-2bae3b2dacf1\" xlink:show=\"new\" xlink:title=\"psysml:dd0f39f2-d93b-4af4-8d6e-2bae3b2dacf1\" xlink:type=\"simple\"><path d=\"M163.83,133.68 C162.24,149.9 160.04,172.39 158.12,191.96 \" fill=\"none\" id=\"E6-&gt;E3\" style=\"stroke: #383838; stroke-width: 1.0;\"/><polygon fill=\"#FFFFFF\" points=\"156.16,211.98,151.0533,192.3861,164.986,193.7564,156.16,211.98\" style=\"stroke: #383838; stroke-width: 1.0;\"/><ellipse cx=\"153.6016\" cy=\"186.9092\" fill=\"#383838\" rx=\"2\" ry=\"2\" style=\"stroke: #383838; stroke-width: 1.0;\"/><ellipse cx=\"163.5535\" cy=\"187.888\" fill=\"#383838\" rx=\"2\" ry=\"2\" style=\"stroke: #383838; stroke-width: 1.0;\"/></a><!--MD5=[0270118a3d19b670e02f4d36e742542d]\n",
       "@startuml\r\n",
       "skinparam linetype polyline\r\n",
       "skinparam monochrome true\r\n",
       "skinparam classbackgroundcolor white\r\n",
       "skinparam shadowing false\r\n",
       "skinparam wrapWidth 300\r\n",
       "hide circle\r\n",
       "\r\n",
       "package \"QualifiedNameImportTest\" as E1  [[psysml:a4661f57-6558-47c6-8aa5-037eecc073c9 ]]  {\r\n",
       "package \"P1\" as E2  [[psysml:29f17ec2-4245-49fb-a177-0d25d24d4819 ]]  {\r\n",
       "comp def \"A\" as E3  <<(T,blue)part def>> [[psysml:572e0642-2007-40ad-b1a4-6402326f1a76 ]] {\r\n",
       "}\r\n",
       "}\r\n",
       "package \"P2\" as E4  [[psysml:a2f2702a-9aae-4fcb-bcab-ee7ca241440a ]]  {\r\n",
       "package \"P2a\" as E5  [[psysml:584bb17b-e85a-4a43-abf7-54afe3b89034 ]]  {\r\n",
       "}\r\n",
       "comp usage \"x: A\" as E6  <<(T,blue)part>> [[psysml:1b3157b3-25ca-40f3-9d15-65b1efb05714 ]] {\r\n",
       "}\r\n",
       "E6 - -:|> E3 [[psysml:dd0f39f2-d93b-4af4-8d6e-2bae3b2dacf1 ]] \r\n",
       "}\r\n",
       "}\r\n",
       "@enduml\r\n",
       "\n",
       "PlantUML version 1.2020.13(Sat Jun 13 12:26:38 UTC 2020)\n",
       "(EPL source distribution)\n",
       "Java Runtime: OpenJDK Runtime Environment\n",
       "JVM: OpenJDK 64-Bit Server VM\n",
       "Default Encoding: UTF-8\n",
       "Language: en\n",
       "Country: null\n",
       "--></g></svg>"
      ]
     },
     "execution_count": 10,
     "metadata": {},
     "output_type": "execute_result"
    }
   ],
   "source": [
    "%viz --style=\"POLYLINE\" --view=\"Tree\" \"QualifiedNameImportTest\""
   ]
  },
  {
   "cell_type": "code",
   "execution_count": 11,
   "id": "8ed5bad3",
   "metadata": {
    "execution": {
     "iopub.execute_input": "2021-05-28T10:48:57.006908Z",
     "iopub.status.busy": "2021-05-28T10:48:57.006472Z",
     "iopub.status.idle": "2021-05-28T10:48:57.012725Z",
     "shell.execute_reply": "2021-05-28T10:48:57.012386Z"
    }
   },
   "outputs": [
    {
     "data": {
      "image/svg+xml": [
       "<?xml version=\"1.0\" encoding=\"UTF-8\" standalone=\"no\"?><svg xmlns=\"http://www.w3.org/2000/svg\" xmlns:xlink=\"http://www.w3.org/1999/xlink\" contentScriptType=\"application/ecmascript\" contentStyleType=\"text/css\" height=\"12px\" preserveAspectRatio=\"none\" style=\"width:12px;height:12px;\" version=\"1.1\" viewBox=\"0 0 12 12\" width=\"12px\" zoomAndPan=\"magnify\"><defs/><g><!--MD5=[896ac0e7a515d8dd7765a661cb4ee08b]\n",
       "@startuml\r\n",
       "skinparam linetype polyline\r\n",
       "skinparam monochrome true\r\n",
       "skinparam classbackgroundcolor white\r\n",
       "skinparam shadowing false\r\n",
       "skinparam wrapWidth 300\r\n",
       "hide circle\r\n",
       "\r\n",
       "@enduml\r\n",
       "\n",
       "PlantUML version 1.2020.13(Sat Jun 13 12:26:38 UTC 2020)\n",
       "(EPL source distribution)\n",
       "Java Runtime: OpenJDK Runtime Environment\n",
       "JVM: OpenJDK 64-Bit Server VM\n",
       "Default Encoding: UTF-8\n",
       "Language: en\n",
       "Country: null\n",
       "--></g></svg>"
      ]
     },
     "execution_count": 11,
     "metadata": {},
     "output_type": "execute_result"
    }
   ],
   "source": [
    "%viz --style=\"POLYLINE\" --view=\"State\" \"QualifiedNameImportTest\""
   ]
  },
  {
   "cell_type": "code",
   "execution_count": 12,
   "id": "2e58d0f7",
   "metadata": {
    "execution": {
     "iopub.execute_input": "2021-05-28T10:48:57.065944Z",
     "iopub.status.busy": "2021-05-28T10:48:57.065420Z",
     "iopub.status.idle": "2021-05-28T10:48:57.101528Z",
     "shell.execute_reply": "2021-05-28T10:48:57.100295Z"
    }
   },
   "outputs": [
    {
     "data": {
      "image/svg+xml": [
       "<?xml version=\"1.0\" encoding=\"UTF-8\" standalone=\"no\"?><svg xmlns=\"http://www.w3.org/2000/svg\" xmlns:xlink=\"http://www.w3.org/1999/xlink\" contentScriptType=\"application/ecmascript\" contentStyleType=\"text/css\" height=\"189px\" preserveAspectRatio=\"none\" style=\"width:381px;height:189px;\" version=\"1.1\" viewBox=\"0 0 381 189\" width=\"381px\" zoomAndPan=\"magnify\"><defs/><g><!--MD5=[fbc87193dbaf4d95561dea2c320d4a47]\n",
       "cluster E1--><a href=\"psysml:a4661f57-6558-47c6-8aa5-037eecc073c9\" target=\"_top\" title=\"psysml:a4661f57-6558-47c6-8aa5-037eecc073c9\" xlink:actuate=\"onRequest\" xlink:href=\"psysml:a4661f57-6558-47c6-8aa5-037eecc073c9\" xlink:show=\"new\" xlink:title=\"psysml:a4661f57-6558-47c6-8aa5-037eecc073c9\" xlink:type=\"simple\"><polygon fill=\"#FFFFFF\" points=\"16,6,221,6,228,28.2969,359,28.2969,359,177,16,177,16,6\" style=\"stroke: #000000; stroke-width: 1.5;\"/><line style=\"stroke: #000000; stroke-width: 1.5;\" x1=\"16\" x2=\"228\" y1=\"28.2969\" y2=\"28.2969\"/><text fill=\"#000000\" font-family=\"sans-serif\" font-size=\"14\" font-weight=\"bold\" lengthAdjust=\"spacingAndGlyphs\" textLength=\"199\" x=\"20\" y=\"20.9951\">QualifiedNameImportTest</text></a><!--MD5=[e4f7fae6ed58524ba242bb0b0d3be6b7]\n",
       "cluster E2--><a href=\"psysml:29f17ec2-4245-49fb-a177-0d25d24d4819\" target=\"_top\" title=\"psysml:29f17ec2-4245-49fb-a177-0d25d24d4819\" xlink:actuate=\"onRequest\" xlink:href=\"psysml:29f17ec2-4245-49fb-a177-0d25d24d4819\" xlink:show=\"new\" xlink:title=\"psysml:29f17ec2-4245-49fb-a177-0d25d24d4819\" xlink:type=\"simple\"><polygon fill=\"#FFFFFF\" points=\"231,54,257,54,264,76.2969,335,76.2969,335,148,231,148,231,54\" style=\"stroke: #000000; stroke-width: 1.5;\"/><line style=\"stroke: #000000; stroke-width: 1.5;\" x1=\"231\" x2=\"264\" y1=\"76.2969\" y2=\"76.2969\"/><text fill=\"#000000\" font-family=\"sans-serif\" font-size=\"14\" font-weight=\"bold\" lengthAdjust=\"spacingAndGlyphs\" textLength=\"20\" x=\"235\" y=\"68.9951\">P1</text></a><!--MD5=[f6df4d0ebaf0b5dfb2ced0ae5af7c670]\n",
       "cluster E4--><a href=\"psysml:a2f2702a-9aae-4fcb-bcab-ee7ca241440a\" target=\"_top\" title=\"psysml:a2f2702a-9aae-4fcb-bcab-ee7ca241440a\" xlink:actuate=\"onRequest\" xlink:href=\"psysml:a2f2702a-9aae-4fcb-bcab-ee7ca241440a\" xlink:show=\"new\" xlink:title=\"psysml:a2f2702a-9aae-4fcb-bcab-ee7ca241440a\" xlink:type=\"simple\"><polygon fill=\"#FFFFFF\" points=\"40,49,66,49,73,71.2969,207,71.2969,207,153,40,153,40,49\" style=\"stroke: #000000; stroke-width: 1.5;\"/><line style=\"stroke: #000000; stroke-width: 1.5;\" x1=\"40\" x2=\"73\" y1=\"71.2969\" y2=\"71.2969\"/><text fill=\"#000000\" font-family=\"sans-serif\" font-size=\"14\" font-weight=\"bold\" lengthAdjust=\"spacingAndGlyphs\" textLength=\"20\" x=\"44\" y=\"63.9951\">P2</text></a><g id=\"E1.E2.E3\"><a href=\"psysml:572e0642-2007-40ad-b1a4-6402326f1a76\" target=\"_top\" title=\"psysml:572e0642-2007-40ad-b1a4-6402326f1a76\" xlink:actuate=\"onRequest\" xlink:href=\"psysml:572e0642-2007-40ad-b1a4-6402326f1a76\" xlink:show=\"new\" xlink:title=\"psysml:572e0642-2007-40ad-b1a4-6402326f1a76\" xlink:type=\"simple\"><rect fill=\"#FFFFFF\" height=\"42.9375\" id=\"E3\" style=\"stroke: #383838; stroke-width: 1.5;\" width=\"71\" x=\"247.5\" y=\"89\"/><rect fill=\"#F8F8F8\" height=\"37.9375\" style=\"stroke: #383838; stroke-width: 1.5;\" width=\"71\" x=\"247.5\" y=\"89\"/><text fill=\"#000000\" font-family=\"sans-serif\" font-size=\"12\" font-style=\"italic\" lengthAdjust=\"spacingAndGlyphs\" textLength=\"64\" x=\"251\" y=\"105.1387\">«part def»</text><text fill=\"#000000\" font-family=\"sans-serif\" font-size=\"12\" lengthAdjust=\"spacingAndGlyphs\" textLength=\"8\" x=\"279\" y=\"119.1074\">A</text></a></g><a href=\"psysml:584bb17b-e85a-4a43-abf7-54afe3b89034\" target=\"_top\" title=\"psysml:584bb17b-e85a-4a43-abf7-54afe3b89034\" xlink:actuate=\"onRequest\" xlink:href=\"psysml:584bb17b-e85a-4a43-abf7-54afe3b89034\" xlink:show=\"new\" xlink:title=\"psysml:584bb17b-e85a-4a43-abf7-54afe3b89034\" xlink:type=\"simple\"><polygon fill=\"#FFFFFF\" points=\"141.5,84,176.5,84,183.5,106.2969,190.5,106.2969,190.5,136.5938,141.5,136.5938,141.5,84\" style=\"stroke: #000000; stroke-width: 1.5;\"/><line style=\"stroke: #000000; stroke-width: 1.5;\" x1=\"141.5\" x2=\"183.5\" y1=\"106.2969\" y2=\"106.2969\"/><text fill=\"#000000\" font-family=\"sans-serif\" font-size=\"14\" font-weight=\"bold\" lengthAdjust=\"spacingAndGlyphs\" textLength=\"29\" x=\"145.5\" y=\"98.9951\">P2a</text></a><g id=\"E1.E4.E6\"><a href=\"psysml:1b3157b3-25ca-40f3-9d15-65b1efb05714\" target=\"_top\" title=\"psysml:1b3157b3-25ca-40f3-9d15-65b1efb05714\" xlink:actuate=\"onRequest\" xlink:href=\"psysml:1b3157b3-25ca-40f3-9d15-65b1efb05714\" xlink:show=\"new\" xlink:title=\"psysml:1b3157b3-25ca-40f3-9d15-65b1efb05714\" xlink:type=\"simple\"><rect fill=\"#FFFFFF\" height=\"40\" id=\"E6\" rx=\"10\" ry=\"10\" style=\"stroke: #383838; stroke-width: 1.5;\" width=\"50\" x=\"56\" y=\"90.5\"/><rect fill=\"#F8F8F8\" height=\"23.9688\" rx=\"10\" ry=\"10\" style=\"stroke: #F8F8F8; stroke-width: 1.5;\" width=\"50\" x=\"56\" y=\"90.5\"/><rect fill=\"#F8F8F8\" height=\"10\" style=\"stroke: #F8F8F8; stroke-width: 1.5;\" width=\"50\" x=\"56\" y=\"104.4688\"/><rect fill=\"none\" height=\"40\" id=\"E6\" rx=\"10\" ry=\"10\" style=\"stroke: #383838; stroke-width: 1.5;\" width=\"50\" x=\"56\" y=\"90.5\"/><text fill=\"#000000\" font-family=\"sans-serif\" font-size=\"12\" lengthAdjust=\"spacingAndGlyphs\" textLength=\"22\" x=\"70\" y=\"106.6387\">x: A</text></a></g><!--MD5=[cc2f5ab44cc4e6b5331c71422343ac4d]\n",
       "@startuml\r\n",
       "skinparam ranksep 10\r\n",
       "skinparam rectangle {\r\n",
       " backgroundColor<<block>> LightGreen\r\n",
       "}\r\n",
       "skinparam linetype polyline\r\n",
       "skinparam monochrome true\r\n",
       "skinparam classbackgroundcolor white\r\n",
       "skinparam shadowing false\r\n",
       "skinparam wrapWidth 300\r\n",
       "hide circle\r\n",
       "\r\n",
       "package \"QualifiedNameImportTest\" as E1  [[psysml:a4661f57-6558-47c6-8aa5-037eecc073c9 ]]  {\r\n",
       "package \"P1\" as E2  [[psysml:29f17ec2-4245-49fb-a177-0d25d24d4819 ]]  {\r\n",
       "rec def \"A\" as E3  <<(T,blue)part def>> [[psysml:572e0642-2007-40ad-b1a4-6402326f1a76 ]] {\r\n",
       "}\r\n",
       "}\r\n",
       "package \"P2\" as E4  [[psysml:a2f2702a-9aae-4fcb-bcab-ee7ca241440a ]]  {\r\n",
       "package \"P2a\" as E5  [[psysml:584bb17b-e85a-4a43-abf7-54afe3b89034 ]]  {\r\n",
       "}\r\n",
       "rec usage \"x: A\" as E6  [[psysml:1b3157b3-25ca-40f3-9d15-65b1efb05714 ]] {\r\n",
       "}\r\n",
       "}\r\n",
       "}\r\n",
       "@enduml\r\n",
       "\n",
       "PlantUML version 1.2020.13(Sat Jun 13 12:26:38 UTC 2020)\n",
       "(EPL source distribution)\n",
       "Java Runtime: OpenJDK Runtime Environment\n",
       "JVM: OpenJDK 64-Bit Server VM\n",
       "Default Encoding: UTF-8\n",
       "Language: en\n",
       "Country: null\n",
       "--></g></svg>"
      ]
     },
     "execution_count": 12,
     "metadata": {},
     "output_type": "execute_result"
    }
   ],
   "source": [
    "%viz --style=\"POLYLINE\" --view=\"Interconnection\" \"QualifiedNameImportTest\""
   ]
  },
  {
   "cell_type": "code",
   "execution_count": 13,
   "id": "ba062845",
   "metadata": {
    "execution": {
     "iopub.execute_input": "2021-05-28T10:48:57.152148Z",
     "iopub.status.busy": "2021-05-28T10:48:57.151633Z",
     "iopub.status.idle": "2021-05-28T10:48:57.158579Z",
     "shell.execute_reply": "2021-05-28T10:48:57.158302Z"
    }
   },
   "outputs": [
    {
     "data": {
      "image/svg+xml": [
       "<?xml version=\"1.0\" encoding=\"UTF-8\" standalone=\"no\"?><svg xmlns=\"http://www.w3.org/2000/svg\" xmlns:xlink=\"http://www.w3.org/1999/xlink\" contentScriptType=\"application/ecmascript\" contentStyleType=\"text/css\" height=\"12px\" preserveAspectRatio=\"none\" style=\"width:12px;height:12px;\" version=\"1.1\" viewBox=\"0 0 12 12\" width=\"12px\" zoomAndPan=\"magnify\"><defs/><g><!--MD5=[97bbf32f66ccd50cbc40d92ea8f5a65e]\n",
       "@startuml\r\n",
       "skinparam ranksep 8\r\n",
       "skinparam linetype polyline\r\n",
       "skinparam monochrome true\r\n",
       "skinparam classbackgroundcolor white\r\n",
       "skinparam shadowing false\r\n",
       "skinparam wrapWidth 300\r\n",
       "hide circle\r\n",
       "\r\n",
       "@enduml\r\n",
       "\n",
       "PlantUML version 1.2020.13(Sat Jun 13 12:26:38 UTC 2020)\n",
       "(EPL source distribution)\n",
       "Java Runtime: OpenJDK Runtime Environment\n",
       "JVM: OpenJDK 64-Bit Server VM\n",
       "Default Encoding: UTF-8\n",
       "Language: en\n",
       "Country: null\n",
       "--></g></svg>"
      ]
     },
     "execution_count": 13,
     "metadata": {},
     "output_type": "execute_result"
    }
   ],
   "source": [
    "%viz --style=\"POLYLINE\" --view=\"Action\" \"QualifiedNameImportTest\""
   ]
  },
  {
   "cell_type": "code",
   "execution_count": 14,
   "id": "61519007",
   "metadata": {
    "execution": {
     "iopub.execute_input": "2021-05-28T10:48:57.209812Z",
     "iopub.status.busy": "2021-05-28T10:48:57.209433Z",
     "iopub.status.idle": "2021-05-28T10:48:57.240018Z",
     "shell.execute_reply": "2021-05-28T10:48:57.238907Z"
    }
   },
   "outputs": [
    {
     "data": {
      "image/svg+xml": [
       "<?xml version=\"1.0\" encoding=\"UTF-8\" standalone=\"no\"?><svg xmlns=\"http://www.w3.org/2000/svg\" xmlns:xlink=\"http://www.w3.org/1999/xlink\" contentScriptType=\"application/ecmascript\" contentStyleType=\"text/css\" height=\"310px\" preserveAspectRatio=\"none\" style=\"width:253px;height:310px;\" version=\"1.1\" viewBox=\"0 0 253 310\" width=\"253px\" zoomAndPan=\"magnify\"><defs/><g><!--MD5=[fbc87193dbaf4d95561dea2c320d4a47]\n",
       "cluster E1--><a href=\"psysml:a4661f57-6558-47c6-8aa5-037eecc073c9\" target=\"_top\" title=\"psysml:a4661f57-6558-47c6-8aa5-037eecc073c9\" xlink:actuate=\"onRequest\" xlink:href=\"psysml:a4661f57-6558-47c6-8aa5-037eecc073c9\" xlink:show=\"new\" xlink:title=\"psysml:a4661f57-6558-47c6-8aa5-037eecc073c9\" xlink:type=\"simple\"><polygon fill=\"#FFFFFF\" points=\"16,6,221,6,228,28.2969,231,28.2969,231,298,16,298,16,6\" style=\"stroke: #000000; stroke-width: 1.5;\"/><line style=\"stroke: #000000; stroke-width: 1.5;\" x1=\"16\" x2=\"228\" y1=\"28.2969\" y2=\"28.2969\"/><text fill=\"#000000\" font-family=\"sans-serif\" font-size=\"14\" font-weight=\"bold\" lengthAdjust=\"spacingAndGlyphs\" textLength=\"199\" x=\"20\" y=\"20.9951\">QualifiedNameImportTest</text></a><!--MD5=[e4f7fae6ed58524ba242bb0b0d3be6b7]\n",
       "cluster E2--><a href=\"psysml:29f17ec2-4245-49fb-a177-0d25d24d4819\" target=\"_top\" title=\"psysml:29f17ec2-4245-49fb-a177-0d25d24d4819\" xlink:actuate=\"onRequest\" xlink:href=\"psysml:29f17ec2-4245-49fb-a177-0d25d24d4819\" xlink:show=\"new\" xlink:title=\"psysml:29f17ec2-4245-49fb-a177-0d25d24d4819\" xlink:type=\"simple\"><polygon fill=\"#FFFFFF\" points=\"105,177,131,177,138,199.2969,203,199.2969,203,274,105,274,105,177\" style=\"stroke: #000000; stroke-width: 1.5;\"/><line style=\"stroke: #000000; stroke-width: 1.5;\" x1=\"105\" x2=\"138\" y1=\"199.2969\" y2=\"199.2969\"/><text fill=\"#000000\" font-family=\"sans-serif\" font-size=\"14\" font-weight=\"bold\" lengthAdjust=\"spacingAndGlyphs\" textLength=\"20\" x=\"109\" y=\"191.9951\">P1</text></a><!--MD5=[f6df4d0ebaf0b5dfb2ced0ae5af7c670]\n",
       "cluster E4--><a href=\"psysml:a2f2702a-9aae-4fcb-bcab-ee7ca241440a\" target=\"_top\" title=\"psysml:a2f2702a-9aae-4fcb-bcab-ee7ca241440a\" xlink:actuate=\"onRequest\" xlink:href=\"psysml:a2f2702a-9aae-4fcb-bcab-ee7ca241440a\" xlink:show=\"new\" xlink:title=\"psysml:a2f2702a-9aae-4fcb-bcab-ee7ca241440a\" xlink:type=\"simple\"><polygon fill=\"#FFFFFF\" points=\"44,49,70,49,77,71.2969,203,71.2969,203,153,44,153,44,49\" style=\"stroke: #000000; stroke-width: 1.5;\"/><line style=\"stroke: #000000; stroke-width: 1.5;\" x1=\"44\" x2=\"77\" y1=\"71.2969\" y2=\"71.2969\"/><text fill=\"#000000\" font-family=\"sans-serif\" font-size=\"14\" font-weight=\"bold\" lengthAdjust=\"spacingAndGlyphs\" textLength=\"20\" x=\"48\" y=\"63.9951\">P2</text></a><!--MD5=[09b614a08d8cba4a07c9adeb5e0fee81]\n",
       "class E3--><a href=\"psysml:572e0642-2007-40ad-b1a4-6402326f1a76\" target=\"_top\" title=\"psysml:572e0642-2007-40ad-b1a4-6402326f1a76\" xlink:actuate=\"onRequest\" xlink:href=\"psysml:572e0642-2007-40ad-b1a4-6402326f1a76\" xlink:show=\"new\" xlink:title=\"psysml:572e0642-2007-40ad-b1a4-6402326f1a76\" xlink:type=\"simple\"><rect fill=\"#FFFFFF\" height=\"45.9375\" id=\"E3\" style=\"stroke: #383838; stroke-width: 1.5;\" width=\"66\" x=\"121\" y=\"212\"/><text fill=\"#000000\" font-family=\"sans-serif\" font-size=\"12\" font-style=\"italic\" lengthAdjust=\"spacingAndGlyphs\" textLength=\"64\" x=\"122\" y=\"228.1387\">«part def»</text><text fill=\"#000000\" font-family=\"sans-serif\" font-size=\"12\" lengthAdjust=\"spacingAndGlyphs\" textLength=\"8\" x=\"150\" y=\"242.1074\">A</text><line style=\"stroke: #383838; stroke-width: 1.5;\" x1=\"122\" x2=\"186\" y1=\"249.9375\" y2=\"249.9375\"/></a><!--MD5=[60a26617385b1d2d0262a64233df1f8d]\n",
       "class E6--><a href=\"psysml:1b3157b3-25ca-40f3-9d15-65b1efb05714\" target=\"_top\" title=\"psysml:1b3157b3-25ca-40f3-9d15-65b1efb05714\" xlink:actuate=\"onRequest\" xlink:href=\"psysml:1b3157b3-25ca-40f3-9d15-65b1efb05714\" xlink:show=\"new\" xlink:title=\"psysml:1b3157b3-25ca-40f3-9d15-65b1efb05714\" xlink:type=\"simple\"><rect fill=\"#FFFFFF\" height=\"45.9375\" id=\"E6\" rx=\"10\" ry=\"10\" style=\"stroke: #383838; stroke-width: 1.5;\" width=\"42\" x=\"145\" y=\"87.5\"/><text fill=\"#000000\" font-family=\"sans-serif\" font-size=\"12\" font-style=\"italic\" lengthAdjust=\"spacingAndGlyphs\" textLength=\"40\" x=\"146\" y=\"103.6387\">«part»</text><text fill=\"#000000\" font-family=\"sans-serif\" font-size=\"12\" lengthAdjust=\"spacingAndGlyphs\" textLength=\"22\" x=\"155\" y=\"117.6074\">x: A</text><line style=\"stroke: #383838; stroke-width: 1.5;\" x1=\"146\" x2=\"186\" y1=\"125.4375\" y2=\"125.4375\"/></a><a href=\"psysml:584bb17b-e85a-4a43-abf7-54afe3b89034\" target=\"_top\" title=\"psysml:584bb17b-e85a-4a43-abf7-54afe3b89034\" xlink:actuate=\"onRequest\" xlink:href=\"psysml:584bb17b-e85a-4a43-abf7-54afe3b89034\" xlink:show=\"new\" xlink:title=\"psysml:584bb17b-e85a-4a43-abf7-54afe3b89034\" xlink:type=\"simple\"><polygon fill=\"#FFFFFF\" points=\"60.5,84,95.5,84,102.5,106.2969,109.5,106.2969,109.5,136.5938,60.5,136.5938,60.5,84\" style=\"stroke: #000000; stroke-width: 1.5;\"/><line style=\"stroke: #000000; stroke-width: 1.5;\" x1=\"60.5\" x2=\"102.5\" y1=\"106.2969\" y2=\"106.2969\"/><text fill=\"#000000\" font-family=\"sans-serif\" font-size=\"14\" font-weight=\"bold\" lengthAdjust=\"spacingAndGlyphs\" textLength=\"29\" x=\"64.5\" y=\"98.9951\">P2a</text></a><!--MD5=[a717450b82c80b9240a525fa862496af]\n",
       "link E6 to E3--><a href=\"psysml:dd0f39f2-d93b-4af4-8d6e-2bae3b2dacf1\" target=\"_top\" title=\"psysml:dd0f39f2-d93b-4af4-8d6e-2bae3b2dacf1\" xlink:actuate=\"onRequest\" xlink:href=\"psysml:dd0f39f2-d93b-4af4-8d6e-2bae3b2dacf1\" xlink:show=\"new\" xlink:title=\"psysml:dd0f39f2-d93b-4af4-8d6e-2bae3b2dacf1\" xlink:type=\"simple\"><path d=\"M163.83,133.68 C162.24,149.9 160.04,172.39 158.12,191.96 \" fill=\"none\" id=\"E6-&gt;E3\" style=\"stroke: #383838; stroke-width: 1.0;\"/><polygon fill=\"#FFFFFF\" points=\"156.16,211.98,151.0533,192.3861,164.986,193.7564,156.16,211.98\" style=\"stroke: #383838; stroke-width: 1.0;\"/><ellipse cx=\"153.6016\" cy=\"186.9092\" fill=\"#383838\" rx=\"2\" ry=\"2\" style=\"stroke: #383838; stroke-width: 1.0;\"/><ellipse cx=\"163.5535\" cy=\"187.888\" fill=\"#383838\" rx=\"2\" ry=\"2\" style=\"stroke: #383838; stroke-width: 1.0;\"/></a><!--MD5=[0270118a3d19b670e02f4d36e742542d]\n",
       "@startuml\r\n",
       "skinparam linetype polyline\r\n",
       "skinparam monochrome true\r\n",
       "skinparam classbackgroundcolor white\r\n",
       "skinparam shadowing false\r\n",
       "skinparam wrapWidth 300\r\n",
       "hide circle\r\n",
       "\r\n",
       "package \"QualifiedNameImportTest\" as E1  [[psysml:a4661f57-6558-47c6-8aa5-037eecc073c9 ]]  {\r\n",
       "package \"P1\" as E2  [[psysml:29f17ec2-4245-49fb-a177-0d25d24d4819 ]]  {\r\n",
       "comp def \"A\" as E3  <<(T,blue)part def>> [[psysml:572e0642-2007-40ad-b1a4-6402326f1a76 ]] {\r\n",
       "}\r\n",
       "}\r\n",
       "package \"P2\" as E4  [[psysml:a2f2702a-9aae-4fcb-bcab-ee7ca241440a ]]  {\r\n",
       "package \"P2a\" as E5  [[psysml:584bb17b-e85a-4a43-abf7-54afe3b89034 ]]  {\r\n",
       "}\r\n",
       "comp usage \"x: A\" as E6  <<(T,blue)part>> [[psysml:1b3157b3-25ca-40f3-9d15-65b1efb05714 ]] {\r\n",
       "}\r\n",
       "E6 - -:|> E3 [[psysml:dd0f39f2-d93b-4af4-8d6e-2bae3b2dacf1 ]] \r\n",
       "}\r\n",
       "}\r\n",
       "@enduml\r\n",
       "\n",
       "PlantUML version 1.2020.13(Sat Jun 13 12:26:38 UTC 2020)\n",
       "(EPL source distribution)\n",
       "Java Runtime: OpenJDK Runtime Environment\n",
       "JVM: OpenJDK 64-Bit Server VM\n",
       "Default Encoding: UTF-8\n",
       "Language: en\n",
       "Country: null\n",
       "--></g></svg>"
      ]
     },
     "execution_count": 14,
     "metadata": {},
     "output_type": "execute_result"
    }
   ],
   "source": [
    "%viz --style=\"POLYLINE\" --view=\"Sequence\" \"QualifiedNameImportTest\""
   ]
  },
  {
   "cell_type": "code",
   "execution_count": 15,
   "id": "2b2a7eec",
   "metadata": {
    "execution": {
     "iopub.execute_input": "2021-05-28T10:48:57.292059Z",
     "iopub.status.busy": "2021-05-28T10:48:57.291516Z",
     "iopub.status.idle": "2021-05-28T10:48:57.323505Z",
     "shell.execute_reply": "2021-05-28T10:48:57.322130Z"
    }
   },
   "outputs": [
    {
     "data": {
      "image/svg+xml": [
       "<?xml version=\"1.0\" encoding=\"UTF-8\" standalone=\"no\"?><svg xmlns=\"http://www.w3.org/2000/svg\" xmlns:xlink=\"http://www.w3.org/1999/xlink\" contentScriptType=\"application/ecmascript\" contentStyleType=\"text/css\" height=\"310px\" preserveAspectRatio=\"none\" style=\"width:253px;height:310px;\" version=\"1.1\" viewBox=\"0 0 253 310\" width=\"253px\" zoomAndPan=\"magnify\"><defs/><g><!--MD5=[fbc87193dbaf4d95561dea2c320d4a47]\n",
       "cluster E1--><a href=\"psysml:a4661f57-6558-47c6-8aa5-037eecc073c9\" target=\"_top\" title=\"psysml:a4661f57-6558-47c6-8aa5-037eecc073c9\" xlink:actuate=\"onRequest\" xlink:href=\"psysml:a4661f57-6558-47c6-8aa5-037eecc073c9\" xlink:show=\"new\" xlink:title=\"psysml:a4661f57-6558-47c6-8aa5-037eecc073c9\" xlink:type=\"simple\"><polygon fill=\"#FFFFFF\" points=\"16,6,221,6,228,28.2969,231,28.2969,231,298,16,298,16,6\" style=\"stroke: #000000; stroke-width: 1.5;\"/><line style=\"stroke: #000000; stroke-width: 1.5;\" x1=\"16\" x2=\"228\" y1=\"28.2969\" y2=\"28.2969\"/><text fill=\"#000000\" font-family=\"sans-serif\" font-size=\"14\" font-weight=\"bold\" lengthAdjust=\"spacingAndGlyphs\" textLength=\"199\" x=\"20\" y=\"20.9951\">QualifiedNameImportTest</text></a><!--MD5=[e4f7fae6ed58524ba242bb0b0d3be6b7]\n",
       "cluster E2--><a href=\"psysml:29f17ec2-4245-49fb-a177-0d25d24d4819\" target=\"_top\" title=\"psysml:29f17ec2-4245-49fb-a177-0d25d24d4819\" xlink:actuate=\"onRequest\" xlink:href=\"psysml:29f17ec2-4245-49fb-a177-0d25d24d4819\" xlink:show=\"new\" xlink:title=\"psysml:29f17ec2-4245-49fb-a177-0d25d24d4819\" xlink:type=\"simple\"><polygon fill=\"#FFFFFF\" points=\"105,177,131,177,138,199.2969,203,199.2969,203,274,105,274,105,177\" style=\"stroke: #000000; stroke-width: 1.5;\"/><line style=\"stroke: #000000; stroke-width: 1.5;\" x1=\"105\" x2=\"138\" y1=\"199.2969\" y2=\"199.2969\"/><text fill=\"#000000\" font-family=\"sans-serif\" font-size=\"14\" font-weight=\"bold\" lengthAdjust=\"spacingAndGlyphs\" textLength=\"20\" x=\"109\" y=\"191.9951\">P1</text></a><!--MD5=[f6df4d0ebaf0b5dfb2ced0ae5af7c670]\n",
       "cluster E4--><a href=\"psysml:a2f2702a-9aae-4fcb-bcab-ee7ca241440a\" target=\"_top\" title=\"psysml:a2f2702a-9aae-4fcb-bcab-ee7ca241440a\" xlink:actuate=\"onRequest\" xlink:href=\"psysml:a2f2702a-9aae-4fcb-bcab-ee7ca241440a\" xlink:show=\"new\" xlink:title=\"psysml:a2f2702a-9aae-4fcb-bcab-ee7ca241440a\" xlink:type=\"simple\"><polygon fill=\"#FFFFFF\" points=\"44,49,70,49,77,71.2969,203,71.2969,203,153,44,153,44,49\" style=\"stroke: #000000; stroke-width: 1.5;\"/><line style=\"stroke: #000000; stroke-width: 1.5;\" x1=\"44\" x2=\"77\" y1=\"71.2969\" y2=\"71.2969\"/><text fill=\"#000000\" font-family=\"sans-serif\" font-size=\"14\" font-weight=\"bold\" lengthAdjust=\"spacingAndGlyphs\" textLength=\"20\" x=\"48\" y=\"63.9951\">P2</text></a><!--MD5=[09b614a08d8cba4a07c9adeb5e0fee81]\n",
       "class E3--><a href=\"psysml:572e0642-2007-40ad-b1a4-6402326f1a76\" target=\"_top\" title=\"psysml:572e0642-2007-40ad-b1a4-6402326f1a76\" xlink:actuate=\"onRequest\" xlink:href=\"psysml:572e0642-2007-40ad-b1a4-6402326f1a76\" xlink:show=\"new\" xlink:title=\"psysml:572e0642-2007-40ad-b1a4-6402326f1a76\" xlink:type=\"simple\"><rect fill=\"#FFFFFF\" height=\"45.9375\" id=\"E3\" style=\"stroke: #383838; stroke-width: 1.5;\" width=\"66\" x=\"121\" y=\"212\"/><text fill=\"#000000\" font-family=\"sans-serif\" font-size=\"12\" font-style=\"italic\" lengthAdjust=\"spacingAndGlyphs\" textLength=\"64\" x=\"122\" y=\"228.1387\">«part def»</text><text fill=\"#000000\" font-family=\"sans-serif\" font-size=\"12\" lengthAdjust=\"spacingAndGlyphs\" textLength=\"8\" x=\"150\" y=\"242.1074\">A</text><line style=\"stroke: #383838; stroke-width: 1.5;\" x1=\"122\" x2=\"186\" y1=\"249.9375\" y2=\"249.9375\"/></a><!--MD5=[60a26617385b1d2d0262a64233df1f8d]\n",
       "class E6--><a href=\"psysml:1b3157b3-25ca-40f3-9d15-65b1efb05714\" target=\"_top\" title=\"psysml:1b3157b3-25ca-40f3-9d15-65b1efb05714\" xlink:actuate=\"onRequest\" xlink:href=\"psysml:1b3157b3-25ca-40f3-9d15-65b1efb05714\" xlink:show=\"new\" xlink:title=\"psysml:1b3157b3-25ca-40f3-9d15-65b1efb05714\" xlink:type=\"simple\"><rect fill=\"#FFFFFF\" height=\"45.9375\" id=\"E6\" rx=\"10\" ry=\"10\" style=\"stroke: #383838; stroke-width: 1.5;\" width=\"42\" x=\"145\" y=\"87.5\"/><text fill=\"#000000\" font-family=\"sans-serif\" font-size=\"12\" font-style=\"italic\" lengthAdjust=\"spacingAndGlyphs\" textLength=\"40\" x=\"146\" y=\"103.6387\">«part»</text><text fill=\"#000000\" font-family=\"sans-serif\" font-size=\"12\" lengthAdjust=\"spacingAndGlyphs\" textLength=\"22\" x=\"155\" y=\"117.6074\">x: A</text><line style=\"stroke: #383838; stroke-width: 1.5;\" x1=\"146\" x2=\"186\" y1=\"125.4375\" y2=\"125.4375\"/></a><a href=\"psysml:584bb17b-e85a-4a43-abf7-54afe3b89034\" target=\"_top\" title=\"psysml:584bb17b-e85a-4a43-abf7-54afe3b89034\" xlink:actuate=\"onRequest\" xlink:href=\"psysml:584bb17b-e85a-4a43-abf7-54afe3b89034\" xlink:show=\"new\" xlink:title=\"psysml:584bb17b-e85a-4a43-abf7-54afe3b89034\" xlink:type=\"simple\"><polygon fill=\"#FFFFFF\" points=\"60.5,84,95.5,84,102.5,106.2969,109.5,106.2969,109.5,136.5938,60.5,136.5938,60.5,84\" style=\"stroke: #000000; stroke-width: 1.5;\"/><line style=\"stroke: #000000; stroke-width: 1.5;\" x1=\"60.5\" x2=\"102.5\" y1=\"106.2969\" y2=\"106.2969\"/><text fill=\"#000000\" font-family=\"sans-serif\" font-size=\"14\" font-weight=\"bold\" lengthAdjust=\"spacingAndGlyphs\" textLength=\"29\" x=\"64.5\" y=\"98.9951\">P2a</text></a><!--MD5=[a717450b82c80b9240a525fa862496af]\n",
       "link E6 to E3--><a href=\"psysml:dd0f39f2-d93b-4af4-8d6e-2bae3b2dacf1\" target=\"_top\" title=\"psysml:dd0f39f2-d93b-4af4-8d6e-2bae3b2dacf1\" xlink:actuate=\"onRequest\" xlink:href=\"psysml:dd0f39f2-d93b-4af4-8d6e-2bae3b2dacf1\" xlink:show=\"new\" xlink:title=\"psysml:dd0f39f2-d93b-4af4-8d6e-2bae3b2dacf1\" xlink:type=\"simple\"><path d=\"M163.83,133.68 C162.24,149.9 160.04,172.39 158.12,191.96 \" fill=\"none\" id=\"E6-&gt;E3\" style=\"stroke: #383838; stroke-width: 1.0;\"/><polygon fill=\"#FFFFFF\" points=\"156.16,211.98,151.0533,192.3861,164.986,193.7564,156.16,211.98\" style=\"stroke: #383838; stroke-width: 1.0;\"/><ellipse cx=\"153.6016\" cy=\"186.9092\" fill=\"#383838\" rx=\"2\" ry=\"2\" style=\"stroke: #383838; stroke-width: 1.0;\"/><ellipse cx=\"163.5535\" cy=\"187.888\" fill=\"#383838\" rx=\"2\" ry=\"2\" style=\"stroke: #383838; stroke-width: 1.0;\"/></a><!--MD5=[0270118a3d19b670e02f4d36e742542d]\n",
       "@startuml\r\n",
       "skinparam linetype polyline\r\n",
       "skinparam monochrome true\r\n",
       "skinparam classbackgroundcolor white\r\n",
       "skinparam shadowing false\r\n",
       "skinparam wrapWidth 300\r\n",
       "hide circle\r\n",
       "\r\n",
       "package \"QualifiedNameImportTest\" as E1  [[psysml:a4661f57-6558-47c6-8aa5-037eecc073c9 ]]  {\r\n",
       "package \"P1\" as E2  [[psysml:29f17ec2-4245-49fb-a177-0d25d24d4819 ]]  {\r\n",
       "comp def \"A\" as E3  <<(T,blue)part def>> [[psysml:572e0642-2007-40ad-b1a4-6402326f1a76 ]] {\r\n",
       "}\r\n",
       "}\r\n",
       "package \"P2\" as E4  [[psysml:a2f2702a-9aae-4fcb-bcab-ee7ca241440a ]]  {\r\n",
       "package \"P2a\" as E5  [[psysml:584bb17b-e85a-4a43-abf7-54afe3b89034 ]]  {\r\n",
       "}\r\n",
       "comp usage \"x: A\" as E6  <<(T,blue)part>> [[psysml:1b3157b3-25ca-40f3-9d15-65b1efb05714 ]] {\r\n",
       "}\r\n",
       "E6 - -:|> E3 [[psysml:dd0f39f2-d93b-4af4-8d6e-2bae3b2dacf1 ]] \r\n",
       "}\r\n",
       "}\r\n",
       "@enduml\r\n",
       "\n",
       "PlantUML version 1.2020.13(Sat Jun 13 12:26:38 UTC 2020)\n",
       "(EPL source distribution)\n",
       "Java Runtime: OpenJDK Runtime Environment\n",
       "JVM: OpenJDK 64-Bit Server VM\n",
       "Default Encoding: UTF-8\n",
       "Language: en\n",
       "Country: null\n",
       "--></g></svg>"
      ]
     },
     "execution_count": 15,
     "metadata": {},
     "output_type": "execute_result"
    }
   ],
   "source": [
    "%viz --style=\"POLYLINE\" --view=\"MIXED\" \"QualifiedNameImportTest\""
   ]
  },
  {
   "cell_type": "code",
   "execution_count": 16,
   "id": "aa495688",
   "metadata": {
    "execution": {
     "iopub.execute_input": "2021-05-28T10:48:57.376100Z",
     "iopub.status.busy": "2021-05-28T10:48:57.375568Z",
     "iopub.status.idle": "2021-05-28T10:48:57.422656Z",
     "shell.execute_reply": "2021-05-28T10:48:57.421547Z"
    }
   },
   "outputs": [
    {
     "data": {
      "image/svg+xml": [
       "<?xml version=\"1.0\" encoding=\"UTF-8\" standalone=\"no\"?><svg xmlns=\"http://www.w3.org/2000/svg\" xmlns:xlink=\"http://www.w3.org/1999/xlink\" contentScriptType=\"application/ecmascript\" contentStyleType=\"text/css\" height=\"271px\" preserveAspectRatio=\"none\" style=\"width:293px;height:271px;\" version=\"1.1\" viewBox=\"0 0 293 271\" width=\"293px\" zoomAndPan=\"magnify\"><defs/><g><!--MD5=[fbc87193dbaf4d95561dea2c320d4a47]\n",
       "cluster E1--><a href=\"psysml:a4661f57-6558-47c6-8aa5-037eecc073c9\" target=\"_top\" title=\"psysml:a4661f57-6558-47c6-8aa5-037eecc073c9\" xlink:actuate=\"onRequest\" xlink:href=\"psysml:a4661f57-6558-47c6-8aa5-037eecc073c9\" xlink:show=\"new\" xlink:title=\"psysml:a4661f57-6558-47c6-8aa5-037eecc073c9\" xlink:type=\"simple\"><polygon fill=\"#FFFFFF\" points=\"16,6,221,6,228,28.2969,271,28.2969,271,259,16,259,16,6\" style=\"stroke: #000000; stroke-width: 1.5;\"/><line style=\"stroke: #000000; stroke-width: 1.5;\" x1=\"16\" x2=\"228\" y1=\"28.2969\" y2=\"28.2969\"/><text fill=\"#000000\" font-family=\"sans-serif\" font-size=\"14\" font-weight=\"bold\" lengthAdjust=\"spacingAndGlyphs\" textLength=\"199\" x=\"20\" y=\"20.9951\">QualifiedNameImportTest</text></a><!--MD5=[e4f7fae6ed58524ba242bb0b0d3be6b7]\n",
       "cluster E2--><a href=\"psysml:29f17ec2-4245-49fb-a177-0d25d24d4819\" target=\"_top\" title=\"psysml:29f17ec2-4245-49fb-a177-0d25d24d4819\" xlink:actuate=\"onRequest\" xlink:href=\"psysml:29f17ec2-4245-49fb-a177-0d25d24d4819\" xlink:show=\"new\" xlink:title=\"psysml:29f17ec2-4245-49fb-a177-0d25d24d4819\" xlink:type=\"simple\"><polygon fill=\"#FFFFFF\" points=\"149,49,175,49,182,71.2969,247,71.2969,247,146,149,146,149,49\" style=\"stroke: #000000; stroke-width: 1.5;\"/><line style=\"stroke: #000000; stroke-width: 1.5;\" x1=\"149\" x2=\"182\" y1=\"71.2969\" y2=\"71.2969\"/><text fill=\"#000000\" font-family=\"sans-serif\" font-size=\"14\" font-weight=\"bold\" lengthAdjust=\"spacingAndGlyphs\" textLength=\"20\" x=\"153\" y=\"63.9951\">P1</text></a><!--MD5=[f6df4d0ebaf0b5dfb2ced0ae5af7c670]\n",
       "cluster E4--><a href=\"psysml:a2f2702a-9aae-4fcb-bcab-ee7ca241440a\" target=\"_top\" title=\"psysml:a2f2702a-9aae-4fcb-bcab-ee7ca241440a\" xlink:actuate=\"onRequest\" xlink:href=\"psysml:a2f2702a-9aae-4fcb-bcab-ee7ca241440a\" xlink:show=\"new\" xlink:title=\"psysml:a2f2702a-9aae-4fcb-bcab-ee7ca241440a\" xlink:type=\"simple\"><polygon fill=\"#FFFFFF\" points=\"40,49,66,49,73,71.2969,121,71.2969,121,235,40,235,40,49\" style=\"stroke: #000000; stroke-width: 1.5;\"/><line style=\"stroke: #000000; stroke-width: 1.5;\" x1=\"40\" x2=\"73\" y1=\"71.2969\" y2=\"71.2969\"/><text fill=\"#000000\" font-family=\"sans-serif\" font-size=\"14\" font-weight=\"bold\" lengthAdjust=\"spacingAndGlyphs\" textLength=\"20\" x=\"44\" y=\"63.9951\">P2</text></a><!--MD5=[09b614a08d8cba4a07c9adeb5e0fee81]\n",
       "class E3--><a href=\"psysml:572e0642-2007-40ad-b1a4-6402326f1a76\" target=\"_top\" title=\"psysml:572e0642-2007-40ad-b1a4-6402326f1a76\" xlink:actuate=\"onRequest\" xlink:href=\"psysml:572e0642-2007-40ad-b1a4-6402326f1a76\" xlink:show=\"new\" xlink:title=\"psysml:572e0642-2007-40ad-b1a4-6402326f1a76\" xlink:type=\"simple\"><rect fill=\"#FFFFFF\" height=\"45.9375\" id=\"E3\" style=\"stroke: #383838; stroke-width: 1.5;\" width=\"66\" x=\"165\" y=\"84\"/><text fill=\"#000000\" font-family=\"sans-serif\" font-size=\"12\" font-style=\"italic\" lengthAdjust=\"spacingAndGlyphs\" textLength=\"64\" x=\"166\" y=\"100.1387\">«part def»</text><text fill=\"#000000\" font-family=\"sans-serif\" font-size=\"12\" lengthAdjust=\"spacingAndGlyphs\" textLength=\"8\" x=\"194\" y=\"114.1074\">A</text><line style=\"stroke: #383838; stroke-width: 1.5;\" x1=\"166\" x2=\"230\" y1=\"121.9375\" y2=\"121.9375\"/></a><!--MD5=[60a26617385b1d2d0262a64233df1f8d]\n",
       "class E6--><a href=\"psysml:1b3157b3-25ca-40f3-9d15-65b1efb05714\" target=\"_top\" title=\"psysml:1b3157b3-25ca-40f3-9d15-65b1efb05714\" xlink:actuate=\"onRequest\" xlink:href=\"psysml:1b3157b3-25ca-40f3-9d15-65b1efb05714\" xlink:show=\"new\" xlink:title=\"psysml:1b3157b3-25ca-40f3-9d15-65b1efb05714\" xlink:type=\"simple\"><rect fill=\"#FFFFFF\" height=\"45.9375\" id=\"E6\" rx=\"10\" ry=\"10\" style=\"stroke: #383838; stroke-width: 1.5;\" width=\"42\" x=\"59.5\" y=\"84\"/><text fill=\"#000000\" font-family=\"sans-serif\" font-size=\"12\" font-style=\"italic\" lengthAdjust=\"spacingAndGlyphs\" textLength=\"40\" x=\"60.5\" y=\"100.1387\">«part»</text><text fill=\"#000000\" font-family=\"sans-serif\" font-size=\"12\" lengthAdjust=\"spacingAndGlyphs\" textLength=\"22\" x=\"69.5\" y=\"114.1074\">x: A</text><line style=\"stroke: #383838; stroke-width: 1.5;\" x1=\"60.5\" x2=\"100.5\" y1=\"121.9375\" y2=\"121.9375\"/></a><a href=\"psysml:584bb17b-e85a-4a43-abf7-54afe3b89034\" target=\"_top\" title=\"psysml:584bb17b-e85a-4a43-abf7-54afe3b89034\" xlink:actuate=\"onRequest\" xlink:href=\"psysml:584bb17b-e85a-4a43-abf7-54afe3b89034\" xlink:show=\"new\" xlink:title=\"psysml:584bb17b-e85a-4a43-abf7-54afe3b89034\" xlink:type=\"simple\"><polygon fill=\"#FFFFFF\" points=\"56,165.5,91,165.5,98,187.7969,105,187.7969,105,218.0938,56,218.0938,56,165.5\" style=\"stroke: #000000; stroke-width: 1.5;\"/><line style=\"stroke: #000000; stroke-width: 1.5;\" x1=\"56\" x2=\"98\" y1=\"187.7969\" y2=\"187.7969\"/><text fill=\"#000000\" font-family=\"sans-serif\" font-size=\"14\" font-weight=\"bold\" lengthAdjust=\"spacingAndGlyphs\" textLength=\"29\" x=\"60\" y=\"180.4951\">P2a</text></a><!--MD5=[a717450b82c80b9240a525fa862496af]\n",
       "link E6 to E3--><a href=\"psysml:dd0f39f2-d93b-4af4-8d6e-2bae3b2dacf1\" target=\"_top\" title=\"psysml:dd0f39f2-d93b-4af4-8d6e-2bae3b2dacf1\" xlink:actuate=\"onRequest\" xlink:href=\"psysml:dd0f39f2-d93b-4af4-8d6e-2bae3b2dacf1\" xlink:show=\"new\" xlink:title=\"psysml:dd0f39f2-d93b-4af4-8d6e-2bae3b2dacf1\" xlink:type=\"simple\"><path d=\"M101.62,107 C113.62,107 129.45,107 144.76,107 \" fill=\"none\" id=\"E6-&gt;E3\" style=\"stroke: #383838; stroke-width: 1.0;\"/><polygon fill=\"#FFFFFF\" points=\"164.91,107,145.91,114,145.91,100,164.91,107\" style=\"stroke: #383838; stroke-width: 1.0;\"/><ellipse cx=\"140.21\" cy=\"112\" fill=\"#383838\" rx=\"2\" ry=\"2\" style=\"stroke: #383838; stroke-width: 1.0;\"/><ellipse cx=\"140.21\" cy=\"102\" fill=\"#383838\" rx=\"2\" ry=\"2\" style=\"stroke: #383838; stroke-width: 1.0;\"/></a><!--MD5=[1ea7d798af2230526ca1bc4d1453b7c0]\n",
       "@startuml\r\n",
       "left to right direction\r\n",
       "skinparam monochrome true\r\n",
       "skinparam classbackgroundcolor white\r\n",
       "skinparam shadowing false\r\n",
       "skinparam wrapWidth 300\r\n",
       "hide circle\r\n",
       "\r\n",
       "package \"QualifiedNameImportTest\" as E1  [[psysml:a4661f57-6558-47c6-8aa5-037eecc073c9 ]]  {\r\n",
       "package \"P1\" as E2  [[psysml:29f17ec2-4245-49fb-a177-0d25d24d4819 ]]  {\r\n",
       "comp def \"A\" as E3  <<(T,blue)part def>> [[psysml:572e0642-2007-40ad-b1a4-6402326f1a76 ]] {\r\n",
       "}\r\n",
       "}\r\n",
       "package \"P2\" as E4  [[psysml:a2f2702a-9aae-4fcb-bcab-ee7ca241440a ]]  {\r\n",
       "package \"P2a\" as E5  [[psysml:584bb17b-e85a-4a43-abf7-54afe3b89034 ]]  {\r\n",
       "}\r\n",
       "comp usage \"x: A\" as E6  <<(T,blue)part>> [[psysml:1b3157b3-25ca-40f3-9d15-65b1efb05714 ]] {\r\n",
       "}\r\n",
       "E6 - -:|> E3 [[psysml:dd0f39f2-d93b-4af4-8d6e-2bae3b2dacf1 ]] \r\n",
       "}\r\n",
       "}\r\n",
       "@enduml\r\n",
       "\n",
       "PlantUML version 1.2020.13(Sat Jun 13 12:26:38 UTC 2020)\n",
       "(EPL source distribution)\n",
       "Java Runtime: OpenJDK Runtime Environment\n",
       "JVM: OpenJDK 64-Bit Server VM\n",
       "Default Encoding: UTF-8\n",
       "Language: en\n",
       "Country: null\n",
       "--></g></svg>"
      ]
     },
     "execution_count": 16,
     "metadata": {},
     "output_type": "execute_result"
    }
   ],
   "source": [
    "%viz --style=\"LR\" --view=\"Default\" \"QualifiedNameImportTest\""
   ]
  },
  {
   "cell_type": "code",
   "execution_count": 17,
   "id": "fa4f06fc",
   "metadata": {
    "execution": {
     "iopub.execute_input": "2021-05-28T10:48:57.473309Z",
     "iopub.status.busy": "2021-05-28T10:48:57.472824Z",
     "iopub.status.idle": "2021-05-28T10:48:57.511356Z",
     "shell.execute_reply": "2021-05-28T10:48:57.510069Z"
    }
   },
   "outputs": [
    {
     "data": {
      "image/svg+xml": [
       "<?xml version=\"1.0\" encoding=\"UTF-8\" standalone=\"no\"?><svg xmlns=\"http://www.w3.org/2000/svg\" xmlns:xlink=\"http://www.w3.org/1999/xlink\" contentScriptType=\"application/ecmascript\" contentStyleType=\"text/css\" height=\"271px\" preserveAspectRatio=\"none\" style=\"width:293px;height:271px;\" version=\"1.1\" viewBox=\"0 0 293 271\" width=\"293px\" zoomAndPan=\"magnify\"><defs/><g><!--MD5=[fbc87193dbaf4d95561dea2c320d4a47]\n",
       "cluster E1--><a href=\"psysml:a4661f57-6558-47c6-8aa5-037eecc073c9\" target=\"_top\" title=\"psysml:a4661f57-6558-47c6-8aa5-037eecc073c9\" xlink:actuate=\"onRequest\" xlink:href=\"psysml:a4661f57-6558-47c6-8aa5-037eecc073c9\" xlink:show=\"new\" xlink:title=\"psysml:a4661f57-6558-47c6-8aa5-037eecc073c9\" xlink:type=\"simple\"><polygon fill=\"#FFFFFF\" points=\"16,6,221,6,228,28.2969,271,28.2969,271,259,16,259,16,6\" style=\"stroke: #000000; stroke-width: 1.5;\"/><line style=\"stroke: #000000; stroke-width: 1.5;\" x1=\"16\" x2=\"228\" y1=\"28.2969\" y2=\"28.2969\"/><text fill=\"#000000\" font-family=\"sans-serif\" font-size=\"14\" font-weight=\"bold\" lengthAdjust=\"spacingAndGlyphs\" textLength=\"199\" x=\"20\" y=\"20.9951\">QualifiedNameImportTest</text></a><!--MD5=[e4f7fae6ed58524ba242bb0b0d3be6b7]\n",
       "cluster E2--><a href=\"psysml:29f17ec2-4245-49fb-a177-0d25d24d4819\" target=\"_top\" title=\"psysml:29f17ec2-4245-49fb-a177-0d25d24d4819\" xlink:actuate=\"onRequest\" xlink:href=\"psysml:29f17ec2-4245-49fb-a177-0d25d24d4819\" xlink:show=\"new\" xlink:title=\"psysml:29f17ec2-4245-49fb-a177-0d25d24d4819\" xlink:type=\"simple\"><polygon fill=\"#FFFFFF\" points=\"149,49,175,49,182,71.2969,247,71.2969,247,146,149,146,149,49\" style=\"stroke: #000000; stroke-width: 1.5;\"/><line style=\"stroke: #000000; stroke-width: 1.5;\" x1=\"149\" x2=\"182\" y1=\"71.2969\" y2=\"71.2969\"/><text fill=\"#000000\" font-family=\"sans-serif\" font-size=\"14\" font-weight=\"bold\" lengthAdjust=\"spacingAndGlyphs\" textLength=\"20\" x=\"153\" y=\"63.9951\">P1</text></a><!--MD5=[f6df4d0ebaf0b5dfb2ced0ae5af7c670]\n",
       "cluster E4--><a href=\"psysml:a2f2702a-9aae-4fcb-bcab-ee7ca241440a\" target=\"_top\" title=\"psysml:a2f2702a-9aae-4fcb-bcab-ee7ca241440a\" xlink:actuate=\"onRequest\" xlink:href=\"psysml:a2f2702a-9aae-4fcb-bcab-ee7ca241440a\" xlink:show=\"new\" xlink:title=\"psysml:a2f2702a-9aae-4fcb-bcab-ee7ca241440a\" xlink:type=\"simple\"><polygon fill=\"#FFFFFF\" points=\"40,49,66,49,73,71.2969,121,71.2969,121,235,40,235,40,49\" style=\"stroke: #000000; stroke-width: 1.5;\"/><line style=\"stroke: #000000; stroke-width: 1.5;\" x1=\"40\" x2=\"73\" y1=\"71.2969\" y2=\"71.2969\"/><text fill=\"#000000\" font-family=\"sans-serif\" font-size=\"14\" font-weight=\"bold\" lengthAdjust=\"spacingAndGlyphs\" textLength=\"20\" x=\"44\" y=\"63.9951\">P2</text></a><!--MD5=[09b614a08d8cba4a07c9adeb5e0fee81]\n",
       "class E3--><a href=\"psysml:572e0642-2007-40ad-b1a4-6402326f1a76\" target=\"_top\" title=\"psysml:572e0642-2007-40ad-b1a4-6402326f1a76\" xlink:actuate=\"onRequest\" xlink:href=\"psysml:572e0642-2007-40ad-b1a4-6402326f1a76\" xlink:show=\"new\" xlink:title=\"psysml:572e0642-2007-40ad-b1a4-6402326f1a76\" xlink:type=\"simple\"><rect fill=\"#FFFFFF\" height=\"45.9375\" id=\"E3\" style=\"stroke: #383838; stroke-width: 1.5;\" width=\"66\" x=\"165\" y=\"84\"/><text fill=\"#000000\" font-family=\"sans-serif\" font-size=\"12\" font-style=\"italic\" lengthAdjust=\"spacingAndGlyphs\" textLength=\"64\" x=\"166\" y=\"100.1387\">«part def»</text><text fill=\"#000000\" font-family=\"sans-serif\" font-size=\"12\" lengthAdjust=\"spacingAndGlyphs\" textLength=\"8\" x=\"194\" y=\"114.1074\">A</text><line style=\"stroke: #383838; stroke-width: 1.5;\" x1=\"166\" x2=\"230\" y1=\"121.9375\" y2=\"121.9375\"/></a><!--MD5=[60a26617385b1d2d0262a64233df1f8d]\n",
       "class E6--><a href=\"psysml:1b3157b3-25ca-40f3-9d15-65b1efb05714\" target=\"_top\" title=\"psysml:1b3157b3-25ca-40f3-9d15-65b1efb05714\" xlink:actuate=\"onRequest\" xlink:href=\"psysml:1b3157b3-25ca-40f3-9d15-65b1efb05714\" xlink:show=\"new\" xlink:title=\"psysml:1b3157b3-25ca-40f3-9d15-65b1efb05714\" xlink:type=\"simple\"><rect fill=\"#FFFFFF\" height=\"45.9375\" id=\"E6\" rx=\"10\" ry=\"10\" style=\"stroke: #383838; stroke-width: 1.5;\" width=\"42\" x=\"59.5\" y=\"84\"/><text fill=\"#000000\" font-family=\"sans-serif\" font-size=\"12\" font-style=\"italic\" lengthAdjust=\"spacingAndGlyphs\" textLength=\"40\" x=\"60.5\" y=\"100.1387\">«part»</text><text fill=\"#000000\" font-family=\"sans-serif\" font-size=\"12\" lengthAdjust=\"spacingAndGlyphs\" textLength=\"22\" x=\"69.5\" y=\"114.1074\">x: A</text><line style=\"stroke: #383838; stroke-width: 1.5;\" x1=\"60.5\" x2=\"100.5\" y1=\"121.9375\" y2=\"121.9375\"/></a><a href=\"psysml:584bb17b-e85a-4a43-abf7-54afe3b89034\" target=\"_top\" title=\"psysml:584bb17b-e85a-4a43-abf7-54afe3b89034\" xlink:actuate=\"onRequest\" xlink:href=\"psysml:584bb17b-e85a-4a43-abf7-54afe3b89034\" xlink:show=\"new\" xlink:title=\"psysml:584bb17b-e85a-4a43-abf7-54afe3b89034\" xlink:type=\"simple\"><polygon fill=\"#FFFFFF\" points=\"56,165.5,91,165.5,98,187.7969,105,187.7969,105,218.0938,56,218.0938,56,165.5\" style=\"stroke: #000000; stroke-width: 1.5;\"/><line style=\"stroke: #000000; stroke-width: 1.5;\" x1=\"56\" x2=\"98\" y1=\"187.7969\" y2=\"187.7969\"/><text fill=\"#000000\" font-family=\"sans-serif\" font-size=\"14\" font-weight=\"bold\" lengthAdjust=\"spacingAndGlyphs\" textLength=\"29\" x=\"60\" y=\"180.4951\">P2a</text></a><!--MD5=[a717450b82c80b9240a525fa862496af]\n",
       "link E6 to E3--><a href=\"psysml:dd0f39f2-d93b-4af4-8d6e-2bae3b2dacf1\" target=\"_top\" title=\"psysml:dd0f39f2-d93b-4af4-8d6e-2bae3b2dacf1\" xlink:actuate=\"onRequest\" xlink:href=\"psysml:dd0f39f2-d93b-4af4-8d6e-2bae3b2dacf1\" xlink:show=\"new\" xlink:title=\"psysml:dd0f39f2-d93b-4af4-8d6e-2bae3b2dacf1\" xlink:type=\"simple\"><path d=\"M101.62,107 C113.62,107 129.45,107 144.76,107 \" fill=\"none\" id=\"E6-&gt;E3\" style=\"stroke: #383838; stroke-width: 1.0;\"/><polygon fill=\"#FFFFFF\" points=\"164.91,107,145.91,114,145.91,100,164.91,107\" style=\"stroke: #383838; stroke-width: 1.0;\"/><ellipse cx=\"140.21\" cy=\"112\" fill=\"#383838\" rx=\"2\" ry=\"2\" style=\"stroke: #383838; stroke-width: 1.0;\"/><ellipse cx=\"140.21\" cy=\"102\" fill=\"#383838\" rx=\"2\" ry=\"2\" style=\"stroke: #383838; stroke-width: 1.0;\"/></a><!--MD5=[1ea7d798af2230526ca1bc4d1453b7c0]\n",
       "@startuml\r\n",
       "left to right direction\r\n",
       "skinparam monochrome true\r\n",
       "skinparam classbackgroundcolor white\r\n",
       "skinparam shadowing false\r\n",
       "skinparam wrapWidth 300\r\n",
       "hide circle\r\n",
       "\r\n",
       "package \"QualifiedNameImportTest\" as E1  [[psysml:a4661f57-6558-47c6-8aa5-037eecc073c9 ]]  {\r\n",
       "package \"P1\" as E2  [[psysml:29f17ec2-4245-49fb-a177-0d25d24d4819 ]]  {\r\n",
       "comp def \"A\" as E3  <<(T,blue)part def>> [[psysml:572e0642-2007-40ad-b1a4-6402326f1a76 ]] {\r\n",
       "}\r\n",
       "}\r\n",
       "package \"P2\" as E4  [[psysml:a2f2702a-9aae-4fcb-bcab-ee7ca241440a ]]  {\r\n",
       "package \"P2a\" as E5  [[psysml:584bb17b-e85a-4a43-abf7-54afe3b89034 ]]  {\r\n",
       "}\r\n",
       "comp usage \"x: A\" as E6  <<(T,blue)part>> [[psysml:1b3157b3-25ca-40f3-9d15-65b1efb05714 ]] {\r\n",
       "}\r\n",
       "E6 - -:|> E3 [[psysml:dd0f39f2-d93b-4af4-8d6e-2bae3b2dacf1 ]] \r\n",
       "}\r\n",
       "}\r\n",
       "@enduml\r\n",
       "\n",
       "PlantUML version 1.2020.13(Sat Jun 13 12:26:38 UTC 2020)\n",
       "(EPL source distribution)\n",
       "Java Runtime: OpenJDK Runtime Environment\n",
       "JVM: OpenJDK 64-Bit Server VM\n",
       "Default Encoding: UTF-8\n",
       "Language: en\n",
       "Country: null\n",
       "--></g></svg>"
      ]
     },
     "execution_count": 17,
     "metadata": {},
     "output_type": "execute_result"
    }
   ],
   "source": [
    "%viz --style=\"LR\" --view=\"Tree\" \"QualifiedNameImportTest\""
   ]
  },
  {
   "cell_type": "code",
   "execution_count": 18,
   "id": "abf6b3f5",
   "metadata": {
    "execution": {
     "iopub.execute_input": "2021-05-28T10:48:57.562781Z",
     "iopub.status.busy": "2021-05-28T10:48:57.561153Z",
     "iopub.status.idle": "2021-05-28T10:48:57.567583Z",
     "shell.execute_reply": "2021-05-28T10:48:57.567265Z"
    }
   },
   "outputs": [
    {
     "data": {
      "image/svg+xml": [
       "<?xml version=\"1.0\" encoding=\"UTF-8\" standalone=\"no\"?><svg xmlns=\"http://www.w3.org/2000/svg\" xmlns:xlink=\"http://www.w3.org/1999/xlink\" contentScriptType=\"application/ecmascript\" contentStyleType=\"text/css\" height=\"12px\" preserveAspectRatio=\"none\" style=\"width:12px;height:12px;\" version=\"1.1\" viewBox=\"0 0 12 12\" width=\"12px\" zoomAndPan=\"magnify\"><defs/><g><!--MD5=[19d285c9d72a204eba4e2cd117d745e8]\n",
       "@startuml\r\n",
       "left to right direction\r\n",
       "skinparam monochrome true\r\n",
       "skinparam classbackgroundcolor white\r\n",
       "skinparam shadowing false\r\n",
       "skinparam wrapWidth 300\r\n",
       "hide circle\r\n",
       "\r\n",
       "@enduml\r\n",
       "\n",
       "PlantUML version 1.2020.13(Sat Jun 13 12:26:38 UTC 2020)\n",
       "(EPL source distribution)\n",
       "Java Runtime: OpenJDK Runtime Environment\n",
       "JVM: OpenJDK 64-Bit Server VM\n",
       "Default Encoding: UTF-8\n",
       "Language: en\n",
       "Country: null\n",
       "--></g></svg>"
      ]
     },
     "execution_count": 18,
     "metadata": {},
     "output_type": "execute_result"
    }
   ],
   "source": [
    "%viz --style=\"LR\" --view=\"State\" \"QualifiedNameImportTest\""
   ]
  },
  {
   "cell_type": "code",
   "execution_count": 19,
   "id": "81af352d",
   "metadata": {
    "execution": {
     "iopub.execute_input": "2021-05-28T10:48:57.619743Z",
     "iopub.status.busy": "2021-05-28T10:48:57.619081Z",
     "iopub.status.idle": "2021-05-28T10:48:57.647502Z",
     "shell.execute_reply": "2021-05-28T10:48:57.646043Z"
    }
   },
   "outputs": [
    {
     "data": {
      "image/svg+xml": [
       "<?xml version=\"1.0\" encoding=\"UTF-8\" standalone=\"no\"?><svg xmlns=\"http://www.w3.org/2000/svg\" xmlns:xlink=\"http://www.w3.org/1999/xlink\" contentScriptType=\"application/ecmascript\" contentStyleType=\"text/css\" height=\"384px\" preserveAspectRatio=\"none\" style=\"width:253px;height:384px;\" version=\"1.1\" viewBox=\"0 0 253 384\" width=\"253px\" zoomAndPan=\"magnify\"><defs/><g><!--MD5=[fbc87193dbaf4d95561dea2c320d4a47]\n",
       "cluster E1--><a href=\"psysml:a4661f57-6558-47c6-8aa5-037eecc073c9\" target=\"_top\" title=\"psysml:a4661f57-6558-47c6-8aa5-037eecc073c9\" xlink:actuate=\"onRequest\" xlink:href=\"psysml:a4661f57-6558-47c6-8aa5-037eecc073c9\" xlink:show=\"new\" xlink:title=\"psysml:a4661f57-6558-47c6-8aa5-037eecc073c9\" xlink:type=\"simple\"><polygon fill=\"#FFFFFF\" points=\"16,6,221,6,228,28.2969,231,28.2969,231,372,16,372,16,6\" style=\"stroke: #000000; stroke-width: 1.5;\"/><line style=\"stroke: #000000; stroke-width: 1.5;\" x1=\"16\" x2=\"228\" y1=\"28.2969\" y2=\"28.2969\"/><text fill=\"#000000\" font-family=\"sans-serif\" font-size=\"14\" font-weight=\"bold\" lengthAdjust=\"spacingAndGlyphs\" textLength=\"199\" x=\"20\" y=\"20.9951\">QualifiedNameImportTest</text></a><!--MD5=[e4f7fae6ed58524ba242bb0b0d3be6b7]\n",
       "cluster E2--><a href=\"psysml:29f17ec2-4245-49fb-a177-0d25d24d4819\" target=\"_top\" title=\"psysml:29f17ec2-4245-49fb-a177-0d25d24d4819\" xlink:actuate=\"onRequest\" xlink:href=\"psysml:29f17ec2-4245-49fb-a177-0d25d24d4819\" xlink:show=\"new\" xlink:title=\"psysml:29f17ec2-4245-49fb-a177-0d25d24d4819\" xlink:type=\"simple\"><polygon fill=\"#FFFFFF\" points=\"72,49,98,49,105,71.2969,175,71.2969,175,144,72,144,72,49\" style=\"stroke: #000000; stroke-width: 1.5;\"/><line style=\"stroke: #000000; stroke-width: 1.5;\" x1=\"72\" x2=\"105\" y1=\"71.2969\" y2=\"71.2969\"/><text fill=\"#000000\" font-family=\"sans-serif\" font-size=\"14\" font-weight=\"bold\" lengthAdjust=\"spacingAndGlyphs\" textLength=\"20\" x=\"76\" y=\"63.9951\">P1</text></a><!--MD5=[f6df4d0ebaf0b5dfb2ced0ae5af7c670]\n",
       "cluster E4--><a href=\"psysml:a2f2702a-9aae-4fcb-bcab-ee7ca241440a\" target=\"_top\" title=\"psysml:a2f2702a-9aae-4fcb-bcab-ee7ca241440a\" xlink:actuate=\"onRequest\" xlink:href=\"psysml:a2f2702a-9aae-4fcb-bcab-ee7ca241440a\" xlink:show=\"new\" xlink:title=\"psysml:a2f2702a-9aae-4fcb-bcab-ee7ca241440a\" xlink:type=\"simple\"><polygon fill=\"#FFFFFF\" points=\"82.5,168,108.5,168,115.5,190.2969,164.5,190.2969,164.5,348,82.5,348,82.5,168\" style=\"stroke: #000000; stroke-width: 1.5;\"/><line style=\"stroke: #000000; stroke-width: 1.5;\" x1=\"82.5\" x2=\"115.5\" y1=\"190.2969\" y2=\"190.2969\"/><text fill=\"#000000\" font-family=\"sans-serif\" font-size=\"14\" font-weight=\"bold\" lengthAdjust=\"spacingAndGlyphs\" textLength=\"20\" x=\"86.5\" y=\"182.9951\">P2</text></a><g id=\"E1.E2.E3\"><a href=\"psysml:572e0642-2007-40ad-b1a4-6402326f1a76\" target=\"_top\" title=\"psysml:572e0642-2007-40ad-b1a4-6402326f1a76\" xlink:actuate=\"onRequest\" xlink:href=\"psysml:572e0642-2007-40ad-b1a4-6402326f1a76\" xlink:show=\"new\" xlink:title=\"psysml:572e0642-2007-40ad-b1a4-6402326f1a76\" xlink:type=\"simple\"><rect fill=\"#FFFFFF\" height=\"42.9375\" id=\"E3\" style=\"stroke: #383838; stroke-width: 1.5;\" width=\"71\" x=\"88\" y=\"84.5\"/><rect fill=\"#F8F8F8\" height=\"37.9375\" style=\"stroke: #383838; stroke-width: 1.5;\" width=\"71\" x=\"88\" y=\"84.5\"/><text fill=\"#000000\" font-family=\"sans-serif\" font-size=\"12\" font-style=\"italic\" lengthAdjust=\"spacingAndGlyphs\" textLength=\"64\" x=\"91.5\" y=\"100.6387\">«part def»</text><text fill=\"#000000\" font-family=\"sans-serif\" font-size=\"12\" lengthAdjust=\"spacingAndGlyphs\" textLength=\"8\" x=\"119.5\" y=\"114.6074\">A</text></a></g><a href=\"psysml:584bb17b-e85a-4a43-abf7-54afe3b89034\" target=\"_top\" title=\"psysml:584bb17b-e85a-4a43-abf7-54afe3b89034\" xlink:actuate=\"onRequest\" xlink:href=\"psysml:584bb17b-e85a-4a43-abf7-54afe3b89034\" xlink:show=\"new\" xlink:title=\"psysml:584bb17b-e85a-4a43-abf7-54afe3b89034\" xlink:type=\"simple\"><polygon fill=\"#FFFFFF\" points=\"99,203.5,134,203.5,141,225.7969,148,225.7969,148,256.0938,99,256.0938,99,203.5\" style=\"stroke: #000000; stroke-width: 1.5;\"/><line style=\"stroke: #000000; stroke-width: 1.5;\" x1=\"99\" x2=\"141\" y1=\"225.7969\" y2=\"225.7969\"/><text fill=\"#000000\" font-family=\"sans-serif\" font-size=\"14\" font-weight=\"bold\" lengthAdjust=\"spacingAndGlyphs\" textLength=\"29\" x=\"103\" y=\"218.4951\">P2a</text></a><g id=\"E1.E4.E6\"><a href=\"psysml:1b3157b3-25ca-40f3-9d15-65b1efb05714\" target=\"_top\" title=\"psysml:1b3157b3-25ca-40f3-9d15-65b1efb05714\" xlink:actuate=\"onRequest\" xlink:href=\"psysml:1b3157b3-25ca-40f3-9d15-65b1efb05714\" xlink:show=\"new\" xlink:title=\"psysml:1b3157b3-25ca-40f3-9d15-65b1efb05714\" xlink:type=\"simple\"><rect fill=\"#FFFFFF\" height=\"40\" id=\"E6\" rx=\"10\" ry=\"10\" style=\"stroke: #383838; stroke-width: 1.5;\" width=\"50\" x=\"98.5\" y=\"292\"/><rect fill=\"#F8F8F8\" height=\"23.9688\" rx=\"10\" ry=\"10\" style=\"stroke: #F8F8F8; stroke-width: 1.5;\" width=\"50\" x=\"98.5\" y=\"292\"/><rect fill=\"#F8F8F8\" height=\"10\" style=\"stroke: #F8F8F8; stroke-width: 1.5;\" width=\"50\" x=\"98.5\" y=\"305.9688\"/><rect fill=\"none\" height=\"40\" id=\"E6\" rx=\"10\" ry=\"10\" style=\"stroke: #383838; stroke-width: 1.5;\" width=\"50\" x=\"98.5\" y=\"292\"/><text fill=\"#000000\" font-family=\"sans-serif\" font-size=\"12\" lengthAdjust=\"spacingAndGlyphs\" textLength=\"22\" x=\"112.5\" y=\"308.1387\">x: A</text></a></g><!--MD5=[f65add3a55bc6ae5ec83e9c78766754a]\n",
       "@startuml\r\n",
       "skinparam ranksep 10\r\n",
       "skinparam rectangle {\r\n",
       " backgroundColor<<block>> LightGreen\r\n",
       "}\r\n",
       "left to right direction\r\n",
       "skinparam monochrome true\r\n",
       "skinparam classbackgroundcolor white\r\n",
       "skinparam shadowing false\r\n",
       "skinparam wrapWidth 300\r\n",
       "hide circle\r\n",
       "\r\n",
       "package \"QualifiedNameImportTest\" as E1  [[psysml:a4661f57-6558-47c6-8aa5-037eecc073c9 ]]  {\r\n",
       "package \"P1\" as E2  [[psysml:29f17ec2-4245-49fb-a177-0d25d24d4819 ]]  {\r\n",
       "rec def \"A\" as E3  <<(T,blue)part def>> [[psysml:572e0642-2007-40ad-b1a4-6402326f1a76 ]] {\r\n",
       "}\r\n",
       "}\r\n",
       "package \"P2\" as E4  [[psysml:a2f2702a-9aae-4fcb-bcab-ee7ca241440a ]]  {\r\n",
       "package \"P2a\" as E5  [[psysml:584bb17b-e85a-4a43-abf7-54afe3b89034 ]]  {\r\n",
       "}\r\n",
       "rec usage \"x: A\" as E6  [[psysml:1b3157b3-25ca-40f3-9d15-65b1efb05714 ]] {\r\n",
       "}\r\n",
       "}\r\n",
       "}\r\n",
       "@enduml\r\n",
       "\n",
       "PlantUML version 1.2020.13(Sat Jun 13 12:26:38 UTC 2020)\n",
       "(EPL source distribution)\n",
       "Java Runtime: OpenJDK Runtime Environment\n",
       "JVM: OpenJDK 64-Bit Server VM\n",
       "Default Encoding: UTF-8\n",
       "Language: en\n",
       "Country: null\n",
       "--></g></svg>"
      ]
     },
     "execution_count": 19,
     "metadata": {},
     "output_type": "execute_result"
    }
   ],
   "source": [
    "%viz --style=\"LR\" --view=\"Interconnection\" \"QualifiedNameImportTest\""
   ]
  },
  {
   "cell_type": "code",
   "execution_count": 20,
   "id": "d7a456f3",
   "metadata": {
    "execution": {
     "iopub.execute_input": "2021-05-28T10:48:57.699356Z",
     "iopub.status.busy": "2021-05-28T10:48:57.698661Z",
     "iopub.status.idle": "2021-05-28T10:48:57.706909Z",
     "shell.execute_reply": "2021-05-28T10:48:57.706508Z"
    }
   },
   "outputs": [
    {
     "data": {
      "image/svg+xml": [
       "<?xml version=\"1.0\" encoding=\"UTF-8\" standalone=\"no\"?><svg xmlns=\"http://www.w3.org/2000/svg\" xmlns:xlink=\"http://www.w3.org/1999/xlink\" contentScriptType=\"application/ecmascript\" contentStyleType=\"text/css\" height=\"12px\" preserveAspectRatio=\"none\" style=\"width:12px;height:12px;\" version=\"1.1\" viewBox=\"0 0 12 12\" width=\"12px\" zoomAndPan=\"magnify\"><defs/><g><!--MD5=[7aeb398939421629f6affaa4a1a7b125]\n",
       "@startuml\r\n",
       "skinparam ranksep 8\r\n",
       "left to right direction\r\n",
       "skinparam monochrome true\r\n",
       "skinparam classbackgroundcolor white\r\n",
       "skinparam shadowing false\r\n",
       "skinparam wrapWidth 300\r\n",
       "hide circle\r\n",
       "\r\n",
       "@enduml\r\n",
       "\n",
       "PlantUML version 1.2020.13(Sat Jun 13 12:26:38 UTC 2020)\n",
       "(EPL source distribution)\n",
       "Java Runtime: OpenJDK Runtime Environment\n",
       "JVM: OpenJDK 64-Bit Server VM\n",
       "Default Encoding: UTF-8\n",
       "Language: en\n",
       "Country: null\n",
       "--></g></svg>"
      ]
     },
     "execution_count": 20,
     "metadata": {},
     "output_type": "execute_result"
    }
   ],
   "source": [
    "%viz --style=\"LR\" --view=\"Action\" \"QualifiedNameImportTest\""
   ]
  },
  {
   "cell_type": "code",
   "execution_count": 21,
   "id": "1cb31677",
   "metadata": {
    "execution": {
     "iopub.execute_input": "2021-05-28T10:48:57.762281Z",
     "iopub.status.busy": "2021-05-28T10:48:57.761619Z",
     "iopub.status.idle": "2021-05-28T10:48:57.793517Z",
     "shell.execute_reply": "2021-05-28T10:48:57.792254Z"
    }
   },
   "outputs": [
    {
     "data": {
      "image/svg+xml": [
       "<?xml version=\"1.0\" encoding=\"UTF-8\" standalone=\"no\"?><svg xmlns=\"http://www.w3.org/2000/svg\" xmlns:xlink=\"http://www.w3.org/1999/xlink\" contentScriptType=\"application/ecmascript\" contentStyleType=\"text/css\" height=\"271px\" preserveAspectRatio=\"none\" style=\"width:293px;height:271px;\" version=\"1.1\" viewBox=\"0 0 293 271\" width=\"293px\" zoomAndPan=\"magnify\"><defs/><g><!--MD5=[fbc87193dbaf4d95561dea2c320d4a47]\n",
       "cluster E1--><a href=\"psysml:a4661f57-6558-47c6-8aa5-037eecc073c9\" target=\"_top\" title=\"psysml:a4661f57-6558-47c6-8aa5-037eecc073c9\" xlink:actuate=\"onRequest\" xlink:href=\"psysml:a4661f57-6558-47c6-8aa5-037eecc073c9\" xlink:show=\"new\" xlink:title=\"psysml:a4661f57-6558-47c6-8aa5-037eecc073c9\" xlink:type=\"simple\"><polygon fill=\"#FFFFFF\" points=\"16,6,221,6,228,28.2969,271,28.2969,271,259,16,259,16,6\" style=\"stroke: #000000; stroke-width: 1.5;\"/><line style=\"stroke: #000000; stroke-width: 1.5;\" x1=\"16\" x2=\"228\" y1=\"28.2969\" y2=\"28.2969\"/><text fill=\"#000000\" font-family=\"sans-serif\" font-size=\"14\" font-weight=\"bold\" lengthAdjust=\"spacingAndGlyphs\" textLength=\"199\" x=\"20\" y=\"20.9951\">QualifiedNameImportTest</text></a><!--MD5=[e4f7fae6ed58524ba242bb0b0d3be6b7]\n",
       "cluster E2--><a href=\"psysml:29f17ec2-4245-49fb-a177-0d25d24d4819\" target=\"_top\" title=\"psysml:29f17ec2-4245-49fb-a177-0d25d24d4819\" xlink:actuate=\"onRequest\" xlink:href=\"psysml:29f17ec2-4245-49fb-a177-0d25d24d4819\" xlink:show=\"new\" xlink:title=\"psysml:29f17ec2-4245-49fb-a177-0d25d24d4819\" xlink:type=\"simple\"><polygon fill=\"#FFFFFF\" points=\"149,49,175,49,182,71.2969,247,71.2969,247,146,149,146,149,49\" style=\"stroke: #000000; stroke-width: 1.5;\"/><line style=\"stroke: #000000; stroke-width: 1.5;\" x1=\"149\" x2=\"182\" y1=\"71.2969\" y2=\"71.2969\"/><text fill=\"#000000\" font-family=\"sans-serif\" font-size=\"14\" font-weight=\"bold\" lengthAdjust=\"spacingAndGlyphs\" textLength=\"20\" x=\"153\" y=\"63.9951\">P1</text></a><!--MD5=[f6df4d0ebaf0b5dfb2ced0ae5af7c670]\n",
       "cluster E4--><a href=\"psysml:a2f2702a-9aae-4fcb-bcab-ee7ca241440a\" target=\"_top\" title=\"psysml:a2f2702a-9aae-4fcb-bcab-ee7ca241440a\" xlink:actuate=\"onRequest\" xlink:href=\"psysml:a2f2702a-9aae-4fcb-bcab-ee7ca241440a\" xlink:show=\"new\" xlink:title=\"psysml:a2f2702a-9aae-4fcb-bcab-ee7ca241440a\" xlink:type=\"simple\"><polygon fill=\"#FFFFFF\" points=\"40,49,66,49,73,71.2969,121,71.2969,121,235,40,235,40,49\" style=\"stroke: #000000; stroke-width: 1.5;\"/><line style=\"stroke: #000000; stroke-width: 1.5;\" x1=\"40\" x2=\"73\" y1=\"71.2969\" y2=\"71.2969\"/><text fill=\"#000000\" font-family=\"sans-serif\" font-size=\"14\" font-weight=\"bold\" lengthAdjust=\"spacingAndGlyphs\" textLength=\"20\" x=\"44\" y=\"63.9951\">P2</text></a><!--MD5=[09b614a08d8cba4a07c9adeb5e0fee81]\n",
       "class E3--><a href=\"psysml:572e0642-2007-40ad-b1a4-6402326f1a76\" target=\"_top\" title=\"psysml:572e0642-2007-40ad-b1a4-6402326f1a76\" xlink:actuate=\"onRequest\" xlink:href=\"psysml:572e0642-2007-40ad-b1a4-6402326f1a76\" xlink:show=\"new\" xlink:title=\"psysml:572e0642-2007-40ad-b1a4-6402326f1a76\" xlink:type=\"simple\"><rect fill=\"#FFFFFF\" height=\"45.9375\" id=\"E3\" style=\"stroke: #383838; stroke-width: 1.5;\" width=\"66\" x=\"165\" y=\"84\"/><text fill=\"#000000\" font-family=\"sans-serif\" font-size=\"12\" font-style=\"italic\" lengthAdjust=\"spacingAndGlyphs\" textLength=\"64\" x=\"166\" y=\"100.1387\">«part def»</text><text fill=\"#000000\" font-family=\"sans-serif\" font-size=\"12\" lengthAdjust=\"spacingAndGlyphs\" textLength=\"8\" x=\"194\" y=\"114.1074\">A</text><line style=\"stroke: #383838; stroke-width: 1.5;\" x1=\"166\" x2=\"230\" y1=\"121.9375\" y2=\"121.9375\"/></a><!--MD5=[60a26617385b1d2d0262a64233df1f8d]\n",
       "class E6--><a href=\"psysml:1b3157b3-25ca-40f3-9d15-65b1efb05714\" target=\"_top\" title=\"psysml:1b3157b3-25ca-40f3-9d15-65b1efb05714\" xlink:actuate=\"onRequest\" xlink:href=\"psysml:1b3157b3-25ca-40f3-9d15-65b1efb05714\" xlink:show=\"new\" xlink:title=\"psysml:1b3157b3-25ca-40f3-9d15-65b1efb05714\" xlink:type=\"simple\"><rect fill=\"#FFFFFF\" height=\"45.9375\" id=\"E6\" rx=\"10\" ry=\"10\" style=\"stroke: #383838; stroke-width: 1.5;\" width=\"42\" x=\"59.5\" y=\"84\"/><text fill=\"#000000\" font-family=\"sans-serif\" font-size=\"12\" font-style=\"italic\" lengthAdjust=\"spacingAndGlyphs\" textLength=\"40\" x=\"60.5\" y=\"100.1387\">«part»</text><text fill=\"#000000\" font-family=\"sans-serif\" font-size=\"12\" lengthAdjust=\"spacingAndGlyphs\" textLength=\"22\" x=\"69.5\" y=\"114.1074\">x: A</text><line style=\"stroke: #383838; stroke-width: 1.5;\" x1=\"60.5\" x2=\"100.5\" y1=\"121.9375\" y2=\"121.9375\"/></a><a href=\"psysml:584bb17b-e85a-4a43-abf7-54afe3b89034\" target=\"_top\" title=\"psysml:584bb17b-e85a-4a43-abf7-54afe3b89034\" xlink:actuate=\"onRequest\" xlink:href=\"psysml:584bb17b-e85a-4a43-abf7-54afe3b89034\" xlink:show=\"new\" xlink:title=\"psysml:584bb17b-e85a-4a43-abf7-54afe3b89034\" xlink:type=\"simple\"><polygon fill=\"#FFFFFF\" points=\"56,165.5,91,165.5,98,187.7969,105,187.7969,105,218.0938,56,218.0938,56,165.5\" style=\"stroke: #000000; stroke-width: 1.5;\"/><line style=\"stroke: #000000; stroke-width: 1.5;\" x1=\"56\" x2=\"98\" y1=\"187.7969\" y2=\"187.7969\"/><text fill=\"#000000\" font-family=\"sans-serif\" font-size=\"14\" font-weight=\"bold\" lengthAdjust=\"spacingAndGlyphs\" textLength=\"29\" x=\"60\" y=\"180.4951\">P2a</text></a><!--MD5=[a717450b82c80b9240a525fa862496af]\n",
       "link E6 to E3--><a href=\"psysml:dd0f39f2-d93b-4af4-8d6e-2bae3b2dacf1\" target=\"_top\" title=\"psysml:dd0f39f2-d93b-4af4-8d6e-2bae3b2dacf1\" xlink:actuate=\"onRequest\" xlink:href=\"psysml:dd0f39f2-d93b-4af4-8d6e-2bae3b2dacf1\" xlink:show=\"new\" xlink:title=\"psysml:dd0f39f2-d93b-4af4-8d6e-2bae3b2dacf1\" xlink:type=\"simple\"><path d=\"M101.62,107 C113.62,107 129.45,107 144.76,107 \" fill=\"none\" id=\"E6-&gt;E3\" style=\"stroke: #383838; stroke-width: 1.0;\"/><polygon fill=\"#FFFFFF\" points=\"164.91,107,145.91,114,145.91,100,164.91,107\" style=\"stroke: #383838; stroke-width: 1.0;\"/><ellipse cx=\"140.21\" cy=\"112\" fill=\"#383838\" rx=\"2\" ry=\"2\" style=\"stroke: #383838; stroke-width: 1.0;\"/><ellipse cx=\"140.21\" cy=\"102\" fill=\"#383838\" rx=\"2\" ry=\"2\" style=\"stroke: #383838; stroke-width: 1.0;\"/></a><!--MD5=[1ea7d798af2230526ca1bc4d1453b7c0]\n",
       "@startuml\r\n",
       "left to right direction\r\n",
       "skinparam monochrome true\r\n",
       "skinparam classbackgroundcolor white\r\n",
       "skinparam shadowing false\r\n",
       "skinparam wrapWidth 300\r\n",
       "hide circle\r\n",
       "\r\n",
       "package \"QualifiedNameImportTest\" as E1  [[psysml:a4661f57-6558-47c6-8aa5-037eecc073c9 ]]  {\r\n",
       "package \"P1\" as E2  [[psysml:29f17ec2-4245-49fb-a177-0d25d24d4819 ]]  {\r\n",
       "comp def \"A\" as E3  <<(T,blue)part def>> [[psysml:572e0642-2007-40ad-b1a4-6402326f1a76 ]] {\r\n",
       "}\r\n",
       "}\r\n",
       "package \"P2\" as E4  [[psysml:a2f2702a-9aae-4fcb-bcab-ee7ca241440a ]]  {\r\n",
       "package \"P2a\" as E5  [[psysml:584bb17b-e85a-4a43-abf7-54afe3b89034 ]]  {\r\n",
       "}\r\n",
       "comp usage \"x: A\" as E6  <<(T,blue)part>> [[psysml:1b3157b3-25ca-40f3-9d15-65b1efb05714 ]] {\r\n",
       "}\r\n",
       "E6 - -:|> E3 [[psysml:dd0f39f2-d93b-4af4-8d6e-2bae3b2dacf1 ]] \r\n",
       "}\r\n",
       "}\r\n",
       "@enduml\r\n",
       "\n",
       "PlantUML version 1.2020.13(Sat Jun 13 12:26:38 UTC 2020)\n",
       "(EPL source distribution)\n",
       "Java Runtime: OpenJDK Runtime Environment\n",
       "JVM: OpenJDK 64-Bit Server VM\n",
       "Default Encoding: UTF-8\n",
       "Language: en\n",
       "Country: null\n",
       "--></g></svg>"
      ]
     },
     "execution_count": 21,
     "metadata": {},
     "output_type": "execute_result"
    }
   ],
   "source": [
    "%viz --style=\"LR\" --view=\"Sequence\" \"QualifiedNameImportTest\""
   ]
  },
  {
   "cell_type": "code",
   "execution_count": 22,
   "id": "4d60d2cf",
   "metadata": {
    "execution": {
     "iopub.execute_input": "2021-05-28T10:48:57.861044Z",
     "iopub.status.busy": "2021-05-28T10:48:57.845521Z",
     "iopub.status.idle": "2021-05-28T10:48:57.879706Z",
     "shell.execute_reply": "2021-05-28T10:48:57.878863Z"
    }
   },
   "outputs": [
    {
     "data": {
      "image/svg+xml": [
       "<?xml version=\"1.0\" encoding=\"UTF-8\" standalone=\"no\"?><svg xmlns=\"http://www.w3.org/2000/svg\" xmlns:xlink=\"http://www.w3.org/1999/xlink\" contentScriptType=\"application/ecmascript\" contentStyleType=\"text/css\" height=\"271px\" preserveAspectRatio=\"none\" style=\"width:293px;height:271px;\" version=\"1.1\" viewBox=\"0 0 293 271\" width=\"293px\" zoomAndPan=\"magnify\"><defs/><g><!--MD5=[fbc87193dbaf4d95561dea2c320d4a47]\n",
       "cluster E1--><a href=\"psysml:a4661f57-6558-47c6-8aa5-037eecc073c9\" target=\"_top\" title=\"psysml:a4661f57-6558-47c6-8aa5-037eecc073c9\" xlink:actuate=\"onRequest\" xlink:href=\"psysml:a4661f57-6558-47c6-8aa5-037eecc073c9\" xlink:show=\"new\" xlink:title=\"psysml:a4661f57-6558-47c6-8aa5-037eecc073c9\" xlink:type=\"simple\"><polygon fill=\"#FFFFFF\" points=\"16,6,221,6,228,28.2969,271,28.2969,271,259,16,259,16,6\" style=\"stroke: #000000; stroke-width: 1.5;\"/><line style=\"stroke: #000000; stroke-width: 1.5;\" x1=\"16\" x2=\"228\" y1=\"28.2969\" y2=\"28.2969\"/><text fill=\"#000000\" font-family=\"sans-serif\" font-size=\"14\" font-weight=\"bold\" lengthAdjust=\"spacingAndGlyphs\" textLength=\"199\" x=\"20\" y=\"20.9951\">QualifiedNameImportTest</text></a><!--MD5=[e4f7fae6ed58524ba242bb0b0d3be6b7]\n",
       "cluster E2--><a href=\"psysml:29f17ec2-4245-49fb-a177-0d25d24d4819\" target=\"_top\" title=\"psysml:29f17ec2-4245-49fb-a177-0d25d24d4819\" xlink:actuate=\"onRequest\" xlink:href=\"psysml:29f17ec2-4245-49fb-a177-0d25d24d4819\" xlink:show=\"new\" xlink:title=\"psysml:29f17ec2-4245-49fb-a177-0d25d24d4819\" xlink:type=\"simple\"><polygon fill=\"#FFFFFF\" points=\"149,49,175,49,182,71.2969,247,71.2969,247,146,149,146,149,49\" style=\"stroke: #000000; stroke-width: 1.5;\"/><line style=\"stroke: #000000; stroke-width: 1.5;\" x1=\"149\" x2=\"182\" y1=\"71.2969\" y2=\"71.2969\"/><text fill=\"#000000\" font-family=\"sans-serif\" font-size=\"14\" font-weight=\"bold\" lengthAdjust=\"spacingAndGlyphs\" textLength=\"20\" x=\"153\" y=\"63.9951\">P1</text></a><!--MD5=[f6df4d0ebaf0b5dfb2ced0ae5af7c670]\n",
       "cluster E4--><a href=\"psysml:a2f2702a-9aae-4fcb-bcab-ee7ca241440a\" target=\"_top\" title=\"psysml:a2f2702a-9aae-4fcb-bcab-ee7ca241440a\" xlink:actuate=\"onRequest\" xlink:href=\"psysml:a2f2702a-9aae-4fcb-bcab-ee7ca241440a\" xlink:show=\"new\" xlink:title=\"psysml:a2f2702a-9aae-4fcb-bcab-ee7ca241440a\" xlink:type=\"simple\"><polygon fill=\"#FFFFFF\" points=\"40,49,66,49,73,71.2969,121,71.2969,121,235,40,235,40,49\" style=\"stroke: #000000; stroke-width: 1.5;\"/><line style=\"stroke: #000000; stroke-width: 1.5;\" x1=\"40\" x2=\"73\" y1=\"71.2969\" y2=\"71.2969\"/><text fill=\"#000000\" font-family=\"sans-serif\" font-size=\"14\" font-weight=\"bold\" lengthAdjust=\"spacingAndGlyphs\" textLength=\"20\" x=\"44\" y=\"63.9951\">P2</text></a><!--MD5=[09b614a08d8cba4a07c9adeb5e0fee81]\n",
       "class E3--><a href=\"psysml:572e0642-2007-40ad-b1a4-6402326f1a76\" target=\"_top\" title=\"psysml:572e0642-2007-40ad-b1a4-6402326f1a76\" xlink:actuate=\"onRequest\" xlink:href=\"psysml:572e0642-2007-40ad-b1a4-6402326f1a76\" xlink:show=\"new\" xlink:title=\"psysml:572e0642-2007-40ad-b1a4-6402326f1a76\" xlink:type=\"simple\"><rect fill=\"#FFFFFF\" height=\"45.9375\" id=\"E3\" style=\"stroke: #383838; stroke-width: 1.5;\" width=\"66\" x=\"165\" y=\"84\"/><text fill=\"#000000\" font-family=\"sans-serif\" font-size=\"12\" font-style=\"italic\" lengthAdjust=\"spacingAndGlyphs\" textLength=\"64\" x=\"166\" y=\"100.1387\">«part def»</text><text fill=\"#000000\" font-family=\"sans-serif\" font-size=\"12\" lengthAdjust=\"spacingAndGlyphs\" textLength=\"8\" x=\"194\" y=\"114.1074\">A</text><line style=\"stroke: #383838; stroke-width: 1.5;\" x1=\"166\" x2=\"230\" y1=\"121.9375\" y2=\"121.9375\"/></a><!--MD5=[60a26617385b1d2d0262a64233df1f8d]\n",
       "class E6--><a href=\"psysml:1b3157b3-25ca-40f3-9d15-65b1efb05714\" target=\"_top\" title=\"psysml:1b3157b3-25ca-40f3-9d15-65b1efb05714\" xlink:actuate=\"onRequest\" xlink:href=\"psysml:1b3157b3-25ca-40f3-9d15-65b1efb05714\" xlink:show=\"new\" xlink:title=\"psysml:1b3157b3-25ca-40f3-9d15-65b1efb05714\" xlink:type=\"simple\"><rect fill=\"#FFFFFF\" height=\"45.9375\" id=\"E6\" rx=\"10\" ry=\"10\" style=\"stroke: #383838; stroke-width: 1.5;\" width=\"42\" x=\"59.5\" y=\"84\"/><text fill=\"#000000\" font-family=\"sans-serif\" font-size=\"12\" font-style=\"italic\" lengthAdjust=\"spacingAndGlyphs\" textLength=\"40\" x=\"60.5\" y=\"100.1387\">«part»</text><text fill=\"#000000\" font-family=\"sans-serif\" font-size=\"12\" lengthAdjust=\"spacingAndGlyphs\" textLength=\"22\" x=\"69.5\" y=\"114.1074\">x: A</text><line style=\"stroke: #383838; stroke-width: 1.5;\" x1=\"60.5\" x2=\"100.5\" y1=\"121.9375\" y2=\"121.9375\"/></a><a href=\"psysml:584bb17b-e85a-4a43-abf7-54afe3b89034\" target=\"_top\" title=\"psysml:584bb17b-e85a-4a43-abf7-54afe3b89034\" xlink:actuate=\"onRequest\" xlink:href=\"psysml:584bb17b-e85a-4a43-abf7-54afe3b89034\" xlink:show=\"new\" xlink:title=\"psysml:584bb17b-e85a-4a43-abf7-54afe3b89034\" xlink:type=\"simple\"><polygon fill=\"#FFFFFF\" points=\"56,165.5,91,165.5,98,187.7969,105,187.7969,105,218.0938,56,218.0938,56,165.5\" style=\"stroke: #000000; stroke-width: 1.5;\"/><line style=\"stroke: #000000; stroke-width: 1.5;\" x1=\"56\" x2=\"98\" y1=\"187.7969\" y2=\"187.7969\"/><text fill=\"#000000\" font-family=\"sans-serif\" font-size=\"14\" font-weight=\"bold\" lengthAdjust=\"spacingAndGlyphs\" textLength=\"29\" x=\"60\" y=\"180.4951\">P2a</text></a><!--MD5=[a717450b82c80b9240a525fa862496af]\n",
       "link E6 to E3--><a href=\"psysml:dd0f39f2-d93b-4af4-8d6e-2bae3b2dacf1\" target=\"_top\" title=\"psysml:dd0f39f2-d93b-4af4-8d6e-2bae3b2dacf1\" xlink:actuate=\"onRequest\" xlink:href=\"psysml:dd0f39f2-d93b-4af4-8d6e-2bae3b2dacf1\" xlink:show=\"new\" xlink:title=\"psysml:dd0f39f2-d93b-4af4-8d6e-2bae3b2dacf1\" xlink:type=\"simple\"><path d=\"M101.62,107 C113.62,107 129.45,107 144.76,107 \" fill=\"none\" id=\"E6-&gt;E3\" style=\"stroke: #383838; stroke-width: 1.0;\"/><polygon fill=\"#FFFFFF\" points=\"164.91,107,145.91,114,145.91,100,164.91,107\" style=\"stroke: #383838; stroke-width: 1.0;\"/><ellipse cx=\"140.21\" cy=\"112\" fill=\"#383838\" rx=\"2\" ry=\"2\" style=\"stroke: #383838; stroke-width: 1.0;\"/><ellipse cx=\"140.21\" cy=\"102\" fill=\"#383838\" rx=\"2\" ry=\"2\" style=\"stroke: #383838; stroke-width: 1.0;\"/></a><!--MD5=[1ea7d798af2230526ca1bc4d1453b7c0]\n",
       "@startuml\r\n",
       "left to right direction\r\n",
       "skinparam monochrome true\r\n",
       "skinparam classbackgroundcolor white\r\n",
       "skinparam shadowing false\r\n",
       "skinparam wrapWidth 300\r\n",
       "hide circle\r\n",
       "\r\n",
       "package \"QualifiedNameImportTest\" as E1  [[psysml:a4661f57-6558-47c6-8aa5-037eecc073c9 ]]  {\r\n",
       "package \"P1\" as E2  [[psysml:29f17ec2-4245-49fb-a177-0d25d24d4819 ]]  {\r\n",
       "comp def \"A\" as E3  <<(T,blue)part def>> [[psysml:572e0642-2007-40ad-b1a4-6402326f1a76 ]] {\r\n",
       "}\r\n",
       "}\r\n",
       "package \"P2\" as E4  [[psysml:a2f2702a-9aae-4fcb-bcab-ee7ca241440a ]]  {\r\n",
       "package \"P2a\" as E5  [[psysml:584bb17b-e85a-4a43-abf7-54afe3b89034 ]]  {\r\n",
       "}\r\n",
       "comp usage \"x: A\" as E6  <<(T,blue)part>> [[psysml:1b3157b3-25ca-40f3-9d15-65b1efb05714 ]] {\r\n",
       "}\r\n",
       "E6 - -:|> E3 [[psysml:dd0f39f2-d93b-4af4-8d6e-2bae3b2dacf1 ]] \r\n",
       "}\r\n",
       "}\r\n",
       "@enduml\r\n",
       "\n",
       "PlantUML version 1.2020.13(Sat Jun 13 12:26:38 UTC 2020)\n",
       "(EPL source distribution)\n",
       "Java Runtime: OpenJDK Runtime Environment\n",
       "JVM: OpenJDK 64-Bit Server VM\n",
       "Default Encoding: UTF-8\n",
       "Language: en\n",
       "Country: null\n",
       "--></g></svg>"
      ]
     },
     "execution_count": 22,
     "metadata": {},
     "output_type": "execute_result"
    }
   ],
   "source": [
    "%viz --style=\"LR\" --view=\"MIXED\" \"QualifiedNameImportTest\""
   ]
  },
  {
   "cell_type": "code",
   "execution_count": 23,
   "id": "3e485919",
   "metadata": {
    "execution": {
     "iopub.execute_input": "2021-05-28T10:48:57.933006Z",
     "iopub.status.busy": "2021-05-28T10:48:57.931880Z",
     "iopub.status.idle": "2021-05-28T10:48:57.966711Z",
     "shell.execute_reply": "2021-05-28T10:48:57.965846Z"
    }
   },
   "outputs": [
    {
     "data": {
      "image/svg+xml": [
       "<?xml version=\"1.0\" encoding=\"UTF-8\" standalone=\"no\"?><svg xmlns=\"http://www.w3.org/2000/svg\" xmlns:xlink=\"http://www.w3.org/1999/xlink\" contentScriptType=\"application/ecmascript\" contentStyleType=\"text/css\" height=\"310px\" preserveAspectRatio=\"none\" style=\"width:253px;height:310px;\" version=\"1.1\" viewBox=\"0 0 253 310\" width=\"253px\" zoomAndPan=\"magnify\"><defs><filter height=\"300%\" id=\"f16hd3ttytq3fu\" width=\"300%\" x=\"-1\" y=\"-1\"><feGaussianBlur result=\"blurOut\" stdDeviation=\"2.0\"/><feColorMatrix in=\"blurOut\" result=\"blurOut2\" type=\"matrix\" values=\"0 0 0 0 0 0 0 0 0 0 0 0 0 0 0 0 0 0 .4 0\"/><feOffset dx=\"4.0\" dy=\"4.0\" in=\"blurOut2\" result=\"blurOut3\"/><feBlend in=\"SourceGraphic\" in2=\"blurOut3\" mode=\"normal\"/></filter></defs><g><!--MD5=[fbc87193dbaf4d95561dea2c320d4a47]\n",
       "cluster E1--><a href=\"psysml:a4661f57-6558-47c6-8aa5-037eecc073c9\" target=\"_top\" title=\"psysml:a4661f57-6558-47c6-8aa5-037eecc073c9\" xlink:actuate=\"onRequest\" xlink:href=\"psysml:a4661f57-6558-47c6-8aa5-037eecc073c9\" xlink:show=\"new\" xlink:title=\"psysml:a4661f57-6558-47c6-8aa5-037eecc073c9\" xlink:type=\"simple\"><polygon fill=\"#FFFFFF\" filter=\"url(#f16hd3ttytq3fu)\" points=\"16,6,221,6,228,28.2969,231,28.2969,231,298,16,298,16,6\" style=\"stroke: #000000; stroke-width: 1.5;\"/><line style=\"stroke: #000000; stroke-width: 1.5;\" x1=\"16\" x2=\"228\" y1=\"28.2969\" y2=\"28.2969\"/><text fill=\"#000000\" font-family=\"sans-serif\" font-size=\"14\" font-weight=\"bold\" lengthAdjust=\"spacingAndGlyphs\" textLength=\"199\" x=\"20\" y=\"20.9951\">QualifiedNameImportTest</text></a><!--MD5=[e4f7fae6ed58524ba242bb0b0d3be6b7]\n",
       "cluster E2--><a href=\"psysml:29f17ec2-4245-49fb-a177-0d25d24d4819\" target=\"_top\" title=\"psysml:29f17ec2-4245-49fb-a177-0d25d24d4819\" xlink:actuate=\"onRequest\" xlink:href=\"psysml:29f17ec2-4245-49fb-a177-0d25d24d4819\" xlink:show=\"new\" xlink:title=\"psysml:29f17ec2-4245-49fb-a177-0d25d24d4819\" xlink:type=\"simple\"><polygon fill=\"#FFFFFF\" filter=\"url(#f16hd3ttytq3fu)\" points=\"105,177,131,177,138,199.2969,203,199.2969,203,274,105,274,105,177\" style=\"stroke: #000000; stroke-width: 1.5;\"/><line style=\"stroke: #000000; stroke-width: 1.5;\" x1=\"105\" x2=\"138\" y1=\"199.2969\" y2=\"199.2969\"/><text fill=\"#000000\" font-family=\"sans-serif\" font-size=\"14\" font-weight=\"bold\" lengthAdjust=\"spacingAndGlyphs\" textLength=\"20\" x=\"109\" y=\"191.9951\">P1</text></a><!--MD5=[f6df4d0ebaf0b5dfb2ced0ae5af7c670]\n",
       "cluster E4--><a href=\"psysml:a2f2702a-9aae-4fcb-bcab-ee7ca241440a\" target=\"_top\" title=\"psysml:a2f2702a-9aae-4fcb-bcab-ee7ca241440a\" xlink:actuate=\"onRequest\" xlink:href=\"psysml:a2f2702a-9aae-4fcb-bcab-ee7ca241440a\" xlink:show=\"new\" xlink:title=\"psysml:a2f2702a-9aae-4fcb-bcab-ee7ca241440a\" xlink:type=\"simple\"><polygon fill=\"#FFFFFF\" filter=\"url(#f16hd3ttytq3fu)\" points=\"44,49,70,49,77,71.2969,203,71.2969,203,153,44,153,44,49\" style=\"stroke: #000000; stroke-width: 1.5;\"/><line style=\"stroke: #000000; stroke-width: 1.5;\" x1=\"44\" x2=\"77\" y1=\"71.2969\" y2=\"71.2969\"/><text fill=\"#000000\" font-family=\"sans-serif\" font-size=\"14\" font-weight=\"bold\" lengthAdjust=\"spacingAndGlyphs\" textLength=\"20\" x=\"48\" y=\"63.9951\">P2</text></a><!--MD5=[09b614a08d8cba4a07c9adeb5e0fee81]\n",
       "class E3--><a href=\"psysml:572e0642-2007-40ad-b1a4-6402326f1a76\" target=\"_top\" title=\"psysml:572e0642-2007-40ad-b1a4-6402326f1a76\" xlink:actuate=\"onRequest\" xlink:href=\"psysml:572e0642-2007-40ad-b1a4-6402326f1a76\" xlink:show=\"new\" xlink:title=\"psysml:572e0642-2007-40ad-b1a4-6402326f1a76\" xlink:type=\"simple\"><rect fill=\"#FEFECE\" filter=\"url(#f16hd3ttytq3fu)\" height=\"45.9375\" id=\"E3\" style=\"stroke: #A80036; stroke-width: 1.5;\" width=\"66\" x=\"121\" y=\"212\"/><text fill=\"#000000\" font-family=\"sans-serif\" font-size=\"12\" font-style=\"italic\" lengthAdjust=\"spacingAndGlyphs\" textLength=\"64\" x=\"122\" y=\"228.1387\">«part def»</text><text fill=\"#000000\" font-family=\"sans-serif\" font-size=\"12\" lengthAdjust=\"spacingAndGlyphs\" textLength=\"8\" x=\"150\" y=\"242.1074\">A</text><line style=\"stroke: #A80036; stroke-width: 1.5;\" x1=\"122\" x2=\"186\" y1=\"249.9375\" y2=\"249.9375\"/></a><!--MD5=[60a26617385b1d2d0262a64233df1f8d]\n",
       "class E6--><a href=\"psysml:1b3157b3-25ca-40f3-9d15-65b1efb05714\" target=\"_top\" title=\"psysml:1b3157b3-25ca-40f3-9d15-65b1efb05714\" xlink:actuate=\"onRequest\" xlink:href=\"psysml:1b3157b3-25ca-40f3-9d15-65b1efb05714\" xlink:show=\"new\" xlink:title=\"psysml:1b3157b3-25ca-40f3-9d15-65b1efb05714\" xlink:type=\"simple\"><rect fill=\"#FEFECE\" filter=\"url(#f16hd3ttytq3fu)\" height=\"45.9375\" id=\"E6\" rx=\"10\" ry=\"10\" style=\"stroke: #A80036; stroke-width: 1.5;\" width=\"42\" x=\"145\" y=\"87.5\"/><text fill=\"#000000\" font-family=\"sans-serif\" font-size=\"12\" font-style=\"italic\" lengthAdjust=\"spacingAndGlyphs\" textLength=\"40\" x=\"146\" y=\"103.6387\">«part»</text><text fill=\"#000000\" font-family=\"sans-serif\" font-size=\"12\" lengthAdjust=\"spacingAndGlyphs\" textLength=\"22\" x=\"155\" y=\"117.6074\">x: A</text><line style=\"stroke: #A80036; stroke-width: 1.5;\" x1=\"146\" x2=\"186\" y1=\"125.4375\" y2=\"125.4375\"/></a><a href=\"psysml:584bb17b-e85a-4a43-abf7-54afe3b89034\" target=\"_top\" title=\"psysml:584bb17b-e85a-4a43-abf7-54afe3b89034\" xlink:actuate=\"onRequest\" xlink:href=\"psysml:584bb17b-e85a-4a43-abf7-54afe3b89034\" xlink:show=\"new\" xlink:title=\"psysml:584bb17b-e85a-4a43-abf7-54afe3b89034\" xlink:type=\"simple\"><polygon fill=\"#FFFFFF\" filter=\"url(#f16hd3ttytq3fu)\" points=\"60.5,84,95.5,84,102.5,106.2969,109.5,106.2969,109.5,136.5938,60.5,136.5938,60.5,84\" style=\"stroke: #000000; stroke-width: 1.5;\"/><line style=\"stroke: #000000; stroke-width: 1.5;\" x1=\"60.5\" x2=\"102.5\" y1=\"106.2969\" y2=\"106.2969\"/><text fill=\"#000000\" font-family=\"sans-serif\" font-size=\"14\" font-weight=\"bold\" lengthAdjust=\"spacingAndGlyphs\" textLength=\"29\" x=\"64.5\" y=\"98.9951\">P2a</text></a><!--MD5=[a717450b82c80b9240a525fa862496af]\n",
       "link E6 to E3--><a href=\"psysml:dd0f39f2-d93b-4af4-8d6e-2bae3b2dacf1\" target=\"_top\" title=\"psysml:dd0f39f2-d93b-4af4-8d6e-2bae3b2dacf1\" xlink:actuate=\"onRequest\" xlink:href=\"psysml:dd0f39f2-d93b-4af4-8d6e-2bae3b2dacf1\" xlink:show=\"new\" xlink:title=\"psysml:dd0f39f2-d93b-4af4-8d6e-2bae3b2dacf1\" xlink:type=\"simple\"><path d=\"M163.83,133.68 C162.24,149.9 160.04,172.39 158.12,191.96 \" fill=\"none\" id=\"E6-&gt;E3\" style=\"stroke: #A80036; stroke-width: 1.0;\"/><polygon fill=\"#FFFFFF\" points=\"156.16,211.98,151.0533,192.3861,164.986,193.7564,156.16,211.98\" style=\"stroke: #A80036; stroke-width: 1.0;\"/><ellipse cx=\"153.6016\" cy=\"186.9092\" fill=\"#A80036\" rx=\"2\" ry=\"2\" style=\"stroke: #A80036; stroke-width: 1.0;\"/><ellipse cx=\"163.5535\" cy=\"187.888\" fill=\"#A80036\" rx=\"2\" ry=\"2\" style=\"stroke: #A80036; stroke-width: 1.0;\"/></a><!--MD5=[cd4dc458b0e4f033ba3c729f56d74b14]\n",
       "@startuml\r\n",
       "skinparam wrapWidth 300\r\n",
       "hide circle\r\n",
       "\r\n",
       "package \"QualifiedNameImportTest\" as E1  [[psysml:a4661f57-6558-47c6-8aa5-037eecc073c9 ]]  {\r\n",
       "package \"P1\" as E2  [[psysml:29f17ec2-4245-49fb-a177-0d25d24d4819 ]]  {\r\n",
       "comp def \"A\" as E3  <<(T,blue)part def>> [[psysml:572e0642-2007-40ad-b1a4-6402326f1a76 ]] {\r\n",
       "}\r\n",
       "}\r\n",
       "package \"P2\" as E4  [[psysml:a2f2702a-9aae-4fcb-bcab-ee7ca241440a ]]  {\r\n",
       "package \"P2a\" as E5  [[psysml:584bb17b-e85a-4a43-abf7-54afe3b89034 ]]  {\r\n",
       "}\r\n",
       "comp usage \"x: A\" as E6  <<(T,blue)part>> [[psysml:1b3157b3-25ca-40f3-9d15-65b1efb05714 ]] {\r\n",
       "}\r\n",
       "E6 - -:|> E3 [[psysml:dd0f39f2-d93b-4af4-8d6e-2bae3b2dacf1 ]] \r\n",
       "}\r\n",
       "}\r\n",
       "@enduml\r\n",
       "\n",
       "PlantUML version 1.2020.13(Sat Jun 13 12:26:38 UTC 2020)\n",
       "(EPL source distribution)\n",
       "Java Runtime: OpenJDK Runtime Environment\n",
       "JVM: OpenJDK 64-Bit Server VM\n",
       "Default Encoding: UTF-8\n",
       "Language: en\n",
       "Country: null\n",
       "--></g></svg>"
      ]
     },
     "execution_count": 23,
     "metadata": {},
     "output_type": "execute_result"
    }
   ],
   "source": [
    "%viz --style=\"STDCOLOR\" --view=\"Default\" \"QualifiedNameImportTest\""
   ]
  },
  {
   "cell_type": "code",
   "execution_count": 24,
   "id": "b46d3323",
   "metadata": {
    "execution": {
     "iopub.execute_input": "2021-05-28T10:48:58.017672Z",
     "iopub.status.busy": "2021-05-28T10:48:58.017353Z",
     "iopub.status.idle": "2021-05-28T10:48:58.049531Z",
     "shell.execute_reply": "2021-05-28T10:48:58.049202Z"
    }
   },
   "outputs": [
    {
     "data": {
      "image/svg+xml": [
       "<?xml version=\"1.0\" encoding=\"UTF-8\" standalone=\"no\"?><svg xmlns=\"http://www.w3.org/2000/svg\" xmlns:xlink=\"http://www.w3.org/1999/xlink\" contentScriptType=\"application/ecmascript\" contentStyleType=\"text/css\" height=\"310px\" preserveAspectRatio=\"none\" style=\"width:253px;height:310px;\" version=\"1.1\" viewBox=\"0 0 253 310\" width=\"253px\" zoomAndPan=\"magnify\"><defs><filter height=\"300%\" id=\"f16hd3ttytq3fu\" width=\"300%\" x=\"-1\" y=\"-1\"><feGaussianBlur result=\"blurOut\" stdDeviation=\"2.0\"/><feColorMatrix in=\"blurOut\" result=\"blurOut2\" type=\"matrix\" values=\"0 0 0 0 0 0 0 0 0 0 0 0 0 0 0 0 0 0 .4 0\"/><feOffset dx=\"4.0\" dy=\"4.0\" in=\"blurOut2\" result=\"blurOut3\"/><feBlend in=\"SourceGraphic\" in2=\"blurOut3\" mode=\"normal\"/></filter></defs><g><!--MD5=[fbc87193dbaf4d95561dea2c320d4a47]\n",
       "cluster E1--><a href=\"psysml:a4661f57-6558-47c6-8aa5-037eecc073c9\" target=\"_top\" title=\"psysml:a4661f57-6558-47c6-8aa5-037eecc073c9\" xlink:actuate=\"onRequest\" xlink:href=\"psysml:a4661f57-6558-47c6-8aa5-037eecc073c9\" xlink:show=\"new\" xlink:title=\"psysml:a4661f57-6558-47c6-8aa5-037eecc073c9\" xlink:type=\"simple\"><polygon fill=\"#FFFFFF\" filter=\"url(#f16hd3ttytq3fu)\" points=\"16,6,221,6,228,28.2969,231,28.2969,231,298,16,298,16,6\" style=\"stroke: #000000; stroke-width: 1.5;\"/><line style=\"stroke: #000000; stroke-width: 1.5;\" x1=\"16\" x2=\"228\" y1=\"28.2969\" y2=\"28.2969\"/><text fill=\"#000000\" font-family=\"sans-serif\" font-size=\"14\" font-weight=\"bold\" lengthAdjust=\"spacingAndGlyphs\" textLength=\"199\" x=\"20\" y=\"20.9951\">QualifiedNameImportTest</text></a><!--MD5=[e4f7fae6ed58524ba242bb0b0d3be6b7]\n",
       "cluster E2--><a href=\"psysml:29f17ec2-4245-49fb-a177-0d25d24d4819\" target=\"_top\" title=\"psysml:29f17ec2-4245-49fb-a177-0d25d24d4819\" xlink:actuate=\"onRequest\" xlink:href=\"psysml:29f17ec2-4245-49fb-a177-0d25d24d4819\" xlink:show=\"new\" xlink:title=\"psysml:29f17ec2-4245-49fb-a177-0d25d24d4819\" xlink:type=\"simple\"><polygon fill=\"#FFFFFF\" filter=\"url(#f16hd3ttytq3fu)\" points=\"105,177,131,177,138,199.2969,203,199.2969,203,274,105,274,105,177\" style=\"stroke: #000000; stroke-width: 1.5;\"/><line style=\"stroke: #000000; stroke-width: 1.5;\" x1=\"105\" x2=\"138\" y1=\"199.2969\" y2=\"199.2969\"/><text fill=\"#000000\" font-family=\"sans-serif\" font-size=\"14\" font-weight=\"bold\" lengthAdjust=\"spacingAndGlyphs\" textLength=\"20\" x=\"109\" y=\"191.9951\">P1</text></a><!--MD5=[f6df4d0ebaf0b5dfb2ced0ae5af7c670]\n",
       "cluster E4--><a href=\"psysml:a2f2702a-9aae-4fcb-bcab-ee7ca241440a\" target=\"_top\" title=\"psysml:a2f2702a-9aae-4fcb-bcab-ee7ca241440a\" xlink:actuate=\"onRequest\" xlink:href=\"psysml:a2f2702a-9aae-4fcb-bcab-ee7ca241440a\" xlink:show=\"new\" xlink:title=\"psysml:a2f2702a-9aae-4fcb-bcab-ee7ca241440a\" xlink:type=\"simple\"><polygon fill=\"#FFFFFF\" filter=\"url(#f16hd3ttytq3fu)\" points=\"44,49,70,49,77,71.2969,203,71.2969,203,153,44,153,44,49\" style=\"stroke: #000000; stroke-width: 1.5;\"/><line style=\"stroke: #000000; stroke-width: 1.5;\" x1=\"44\" x2=\"77\" y1=\"71.2969\" y2=\"71.2969\"/><text fill=\"#000000\" font-family=\"sans-serif\" font-size=\"14\" font-weight=\"bold\" lengthAdjust=\"spacingAndGlyphs\" textLength=\"20\" x=\"48\" y=\"63.9951\">P2</text></a><!--MD5=[09b614a08d8cba4a07c9adeb5e0fee81]\n",
       "class E3--><a href=\"psysml:572e0642-2007-40ad-b1a4-6402326f1a76\" target=\"_top\" title=\"psysml:572e0642-2007-40ad-b1a4-6402326f1a76\" xlink:actuate=\"onRequest\" xlink:href=\"psysml:572e0642-2007-40ad-b1a4-6402326f1a76\" xlink:show=\"new\" xlink:title=\"psysml:572e0642-2007-40ad-b1a4-6402326f1a76\" xlink:type=\"simple\"><rect fill=\"#FEFECE\" filter=\"url(#f16hd3ttytq3fu)\" height=\"45.9375\" id=\"E3\" style=\"stroke: #A80036; stroke-width: 1.5;\" width=\"66\" x=\"121\" y=\"212\"/><text fill=\"#000000\" font-family=\"sans-serif\" font-size=\"12\" font-style=\"italic\" lengthAdjust=\"spacingAndGlyphs\" textLength=\"64\" x=\"122\" y=\"228.1387\">«part def»</text><text fill=\"#000000\" font-family=\"sans-serif\" font-size=\"12\" lengthAdjust=\"spacingAndGlyphs\" textLength=\"8\" x=\"150\" y=\"242.1074\">A</text><line style=\"stroke: #A80036; stroke-width: 1.5;\" x1=\"122\" x2=\"186\" y1=\"249.9375\" y2=\"249.9375\"/></a><!--MD5=[60a26617385b1d2d0262a64233df1f8d]\n",
       "class E6--><a href=\"psysml:1b3157b3-25ca-40f3-9d15-65b1efb05714\" target=\"_top\" title=\"psysml:1b3157b3-25ca-40f3-9d15-65b1efb05714\" xlink:actuate=\"onRequest\" xlink:href=\"psysml:1b3157b3-25ca-40f3-9d15-65b1efb05714\" xlink:show=\"new\" xlink:title=\"psysml:1b3157b3-25ca-40f3-9d15-65b1efb05714\" xlink:type=\"simple\"><rect fill=\"#FEFECE\" filter=\"url(#f16hd3ttytq3fu)\" height=\"45.9375\" id=\"E6\" rx=\"10\" ry=\"10\" style=\"stroke: #A80036; stroke-width: 1.5;\" width=\"42\" x=\"145\" y=\"87.5\"/><text fill=\"#000000\" font-family=\"sans-serif\" font-size=\"12\" font-style=\"italic\" lengthAdjust=\"spacingAndGlyphs\" textLength=\"40\" x=\"146\" y=\"103.6387\">«part»</text><text fill=\"#000000\" font-family=\"sans-serif\" font-size=\"12\" lengthAdjust=\"spacingAndGlyphs\" textLength=\"22\" x=\"155\" y=\"117.6074\">x: A</text><line style=\"stroke: #A80036; stroke-width: 1.5;\" x1=\"146\" x2=\"186\" y1=\"125.4375\" y2=\"125.4375\"/></a><a href=\"psysml:584bb17b-e85a-4a43-abf7-54afe3b89034\" target=\"_top\" title=\"psysml:584bb17b-e85a-4a43-abf7-54afe3b89034\" xlink:actuate=\"onRequest\" xlink:href=\"psysml:584bb17b-e85a-4a43-abf7-54afe3b89034\" xlink:show=\"new\" xlink:title=\"psysml:584bb17b-e85a-4a43-abf7-54afe3b89034\" xlink:type=\"simple\"><polygon fill=\"#FFFFFF\" filter=\"url(#f16hd3ttytq3fu)\" points=\"60.5,84,95.5,84,102.5,106.2969,109.5,106.2969,109.5,136.5938,60.5,136.5938,60.5,84\" style=\"stroke: #000000; stroke-width: 1.5;\"/><line style=\"stroke: #000000; stroke-width: 1.5;\" x1=\"60.5\" x2=\"102.5\" y1=\"106.2969\" y2=\"106.2969\"/><text fill=\"#000000\" font-family=\"sans-serif\" font-size=\"14\" font-weight=\"bold\" lengthAdjust=\"spacingAndGlyphs\" textLength=\"29\" x=\"64.5\" y=\"98.9951\">P2a</text></a><!--MD5=[a717450b82c80b9240a525fa862496af]\n",
       "link E6 to E3--><a href=\"psysml:dd0f39f2-d93b-4af4-8d6e-2bae3b2dacf1\" target=\"_top\" title=\"psysml:dd0f39f2-d93b-4af4-8d6e-2bae3b2dacf1\" xlink:actuate=\"onRequest\" xlink:href=\"psysml:dd0f39f2-d93b-4af4-8d6e-2bae3b2dacf1\" xlink:show=\"new\" xlink:title=\"psysml:dd0f39f2-d93b-4af4-8d6e-2bae3b2dacf1\" xlink:type=\"simple\"><path d=\"M163.83,133.68 C162.24,149.9 160.04,172.39 158.12,191.96 \" fill=\"none\" id=\"E6-&gt;E3\" style=\"stroke: #A80036; stroke-width: 1.0;\"/><polygon fill=\"#FFFFFF\" points=\"156.16,211.98,151.0533,192.3861,164.986,193.7564,156.16,211.98\" style=\"stroke: #A80036; stroke-width: 1.0;\"/><ellipse cx=\"153.6016\" cy=\"186.9092\" fill=\"#A80036\" rx=\"2\" ry=\"2\" style=\"stroke: #A80036; stroke-width: 1.0;\"/><ellipse cx=\"163.5535\" cy=\"187.888\" fill=\"#A80036\" rx=\"2\" ry=\"2\" style=\"stroke: #A80036; stroke-width: 1.0;\"/></a><!--MD5=[cd4dc458b0e4f033ba3c729f56d74b14]\n",
       "@startuml\r\n",
       "skinparam wrapWidth 300\r\n",
       "hide circle\r\n",
       "\r\n",
       "package \"QualifiedNameImportTest\" as E1  [[psysml:a4661f57-6558-47c6-8aa5-037eecc073c9 ]]  {\r\n",
       "package \"P1\" as E2  [[psysml:29f17ec2-4245-49fb-a177-0d25d24d4819 ]]  {\r\n",
       "comp def \"A\" as E3  <<(T,blue)part def>> [[psysml:572e0642-2007-40ad-b1a4-6402326f1a76 ]] {\r\n",
       "}\r\n",
       "}\r\n",
       "package \"P2\" as E4  [[psysml:a2f2702a-9aae-4fcb-bcab-ee7ca241440a ]]  {\r\n",
       "package \"P2a\" as E5  [[psysml:584bb17b-e85a-4a43-abf7-54afe3b89034 ]]  {\r\n",
       "}\r\n",
       "comp usage \"x: A\" as E6  <<(T,blue)part>> [[psysml:1b3157b3-25ca-40f3-9d15-65b1efb05714 ]] {\r\n",
       "}\r\n",
       "E6 - -:|> E3 [[psysml:dd0f39f2-d93b-4af4-8d6e-2bae3b2dacf1 ]] \r\n",
       "}\r\n",
       "}\r\n",
       "@enduml\r\n",
       "\n",
       "PlantUML version 1.2020.13(Sat Jun 13 12:26:38 UTC 2020)\n",
       "(EPL source distribution)\n",
       "Java Runtime: OpenJDK Runtime Environment\n",
       "JVM: OpenJDK 64-Bit Server VM\n",
       "Default Encoding: UTF-8\n",
       "Language: en\n",
       "Country: null\n",
       "--></g></svg>"
      ]
     },
     "execution_count": 24,
     "metadata": {},
     "output_type": "execute_result"
    }
   ],
   "source": [
    "%viz --style=\"STDCOLOR\" --view=\"Tree\" \"QualifiedNameImportTest\""
   ]
  },
  {
   "cell_type": "code",
   "execution_count": 25,
   "id": "4757dfc4",
   "metadata": {
    "execution": {
     "iopub.execute_input": "2021-05-28T10:48:58.100103Z",
     "iopub.status.busy": "2021-05-28T10:48:58.099546Z",
     "iopub.status.idle": "2021-05-28T10:48:58.104842Z",
     "shell.execute_reply": "2021-05-28T10:48:58.104519Z"
    }
   },
   "outputs": [
    {
     "data": {
      "image/svg+xml": [
       "<?xml version=\"1.0\" encoding=\"UTF-8\" standalone=\"no\"?><svg xmlns=\"http://www.w3.org/2000/svg\" xmlns:xlink=\"http://www.w3.org/1999/xlink\" contentScriptType=\"application/ecmascript\" contentStyleType=\"text/css\" height=\"12px\" preserveAspectRatio=\"none\" style=\"width:12px;height:12px;\" version=\"1.1\" viewBox=\"0 0 12 12\" width=\"12px\" zoomAndPan=\"magnify\"><defs/><g><!--MD5=[aeeef50f102b80d730deb6443d14f702]\n",
       "@startuml\r\n",
       "skinparam wrapWidth 300\r\n",
       "hide circle\r\n",
       "\r\n",
       "@enduml\r\n",
       "\n",
       "PlantUML version 1.2020.13(Sat Jun 13 12:26:38 UTC 2020)\n",
       "(EPL source distribution)\n",
       "Java Runtime: OpenJDK Runtime Environment\n",
       "JVM: OpenJDK 64-Bit Server VM\n",
       "Default Encoding: UTF-8\n",
       "Language: en\n",
       "Country: null\n",
       "--></g></svg>"
      ]
     },
     "execution_count": 25,
     "metadata": {},
     "output_type": "execute_result"
    }
   ],
   "source": [
    "%viz --style=\"STDCOLOR\" --view=\"State\" \"QualifiedNameImportTest\""
   ]
  },
  {
   "cell_type": "code",
   "execution_count": 26,
   "id": "801e1f73",
   "metadata": {
    "execution": {
     "iopub.execute_input": "2021-05-28T10:48:58.157879Z",
     "iopub.status.busy": "2021-05-28T10:48:58.157277Z",
     "iopub.status.idle": "2021-05-28T10:48:58.185339Z",
     "shell.execute_reply": "2021-05-28T10:48:58.184098Z"
    }
   },
   "outputs": [
    {
     "data": {
      "image/svg+xml": [
       "<?xml version=\"1.0\" encoding=\"UTF-8\" standalone=\"no\"?><svg xmlns=\"http://www.w3.org/2000/svg\" xmlns:xlink=\"http://www.w3.org/1999/xlink\" contentScriptType=\"application/ecmascript\" contentStyleType=\"text/css\" height=\"189px\" preserveAspectRatio=\"none\" style=\"width:381px;height:189px;\" version=\"1.1\" viewBox=\"0 0 381 189\" width=\"381px\" zoomAndPan=\"magnify\"><defs><filter height=\"300%\" id=\"f1cveht7i7y5qt\" width=\"300%\" x=\"-1\" y=\"-1\"><feGaussianBlur result=\"blurOut\" stdDeviation=\"2.0\"/><feColorMatrix in=\"blurOut\" result=\"blurOut2\" type=\"matrix\" values=\"0 0 0 0 0 0 0 0 0 0 0 0 0 0 0 0 0 0 .4 0\"/><feOffset dx=\"4.0\" dy=\"4.0\" in=\"blurOut2\" result=\"blurOut3\"/><feBlend in=\"SourceGraphic\" in2=\"blurOut3\" mode=\"normal\"/></filter></defs><g><!--MD5=[fbc87193dbaf4d95561dea2c320d4a47]\n",
       "cluster E1--><a href=\"psysml:a4661f57-6558-47c6-8aa5-037eecc073c9\" target=\"_top\" title=\"psysml:a4661f57-6558-47c6-8aa5-037eecc073c9\" xlink:actuate=\"onRequest\" xlink:href=\"psysml:a4661f57-6558-47c6-8aa5-037eecc073c9\" xlink:show=\"new\" xlink:title=\"psysml:a4661f57-6558-47c6-8aa5-037eecc073c9\" xlink:type=\"simple\"><polygon fill=\"#FFFFFF\" filter=\"url(#f1cveht7i7y5qt)\" points=\"16,6,221,6,228,28.2969,359,28.2969,359,177,16,177,16,6\" style=\"stroke: #000000; stroke-width: 1.5;\"/><line style=\"stroke: #000000; stroke-width: 1.5;\" x1=\"16\" x2=\"228\" y1=\"28.2969\" y2=\"28.2969\"/><text fill=\"#000000\" font-family=\"sans-serif\" font-size=\"14\" font-weight=\"bold\" lengthAdjust=\"spacingAndGlyphs\" textLength=\"199\" x=\"20\" y=\"20.9951\">QualifiedNameImportTest</text></a><!--MD5=[e4f7fae6ed58524ba242bb0b0d3be6b7]\n",
       "cluster E2--><a href=\"psysml:29f17ec2-4245-49fb-a177-0d25d24d4819\" target=\"_top\" title=\"psysml:29f17ec2-4245-49fb-a177-0d25d24d4819\" xlink:actuate=\"onRequest\" xlink:href=\"psysml:29f17ec2-4245-49fb-a177-0d25d24d4819\" xlink:show=\"new\" xlink:title=\"psysml:29f17ec2-4245-49fb-a177-0d25d24d4819\" xlink:type=\"simple\"><polygon fill=\"#FFFFFF\" filter=\"url(#f1cveht7i7y5qt)\" points=\"231,54,257,54,264,76.2969,335,76.2969,335,148,231,148,231,54\" style=\"stroke: #000000; stroke-width: 1.5;\"/><line style=\"stroke: #000000; stroke-width: 1.5;\" x1=\"231\" x2=\"264\" y1=\"76.2969\" y2=\"76.2969\"/><text fill=\"#000000\" font-family=\"sans-serif\" font-size=\"14\" font-weight=\"bold\" lengthAdjust=\"spacingAndGlyphs\" textLength=\"20\" x=\"235\" y=\"68.9951\">P1</text></a><!--MD5=[f6df4d0ebaf0b5dfb2ced0ae5af7c670]\n",
       "cluster E4--><a href=\"psysml:a2f2702a-9aae-4fcb-bcab-ee7ca241440a\" target=\"_top\" title=\"psysml:a2f2702a-9aae-4fcb-bcab-ee7ca241440a\" xlink:actuate=\"onRequest\" xlink:href=\"psysml:a2f2702a-9aae-4fcb-bcab-ee7ca241440a\" xlink:show=\"new\" xlink:title=\"psysml:a2f2702a-9aae-4fcb-bcab-ee7ca241440a\" xlink:type=\"simple\"><polygon fill=\"#FFFFFF\" filter=\"url(#f1cveht7i7y5qt)\" points=\"40,49,66,49,73,71.2969,207,71.2969,207,153,40,153,40,49\" style=\"stroke: #000000; stroke-width: 1.5;\"/><line style=\"stroke: #000000; stroke-width: 1.5;\" x1=\"40\" x2=\"73\" y1=\"71.2969\" y2=\"71.2969\"/><text fill=\"#000000\" font-family=\"sans-serif\" font-size=\"14\" font-weight=\"bold\" lengthAdjust=\"spacingAndGlyphs\" textLength=\"20\" x=\"44\" y=\"63.9951\">P2</text></a><g id=\"E1.E2.E3\"><a href=\"psysml:572e0642-2007-40ad-b1a4-6402326f1a76\" target=\"_top\" title=\"psysml:572e0642-2007-40ad-b1a4-6402326f1a76\" xlink:actuate=\"onRequest\" xlink:href=\"psysml:572e0642-2007-40ad-b1a4-6402326f1a76\" xlink:show=\"new\" xlink:title=\"psysml:572e0642-2007-40ad-b1a4-6402326f1a76\" xlink:type=\"simple\"><rect fill=\"#FEFECE\" filter=\"url(#f1cveht7i7y5qt)\" height=\"42.9375\" id=\"E3\" style=\"stroke: #A80036; stroke-width: 1.5;\" width=\"71\" x=\"247.5\" y=\"89\"/><text fill=\"#000000\" font-family=\"sans-serif\" font-size=\"12\" font-style=\"italic\" lengthAdjust=\"spacingAndGlyphs\" textLength=\"64\" x=\"251\" y=\"105.1387\">«part def»</text><text fill=\"#000000\" font-family=\"sans-serif\" font-size=\"12\" lengthAdjust=\"spacingAndGlyphs\" textLength=\"8\" x=\"279\" y=\"119.1074\">A</text></a></g><a href=\"psysml:584bb17b-e85a-4a43-abf7-54afe3b89034\" target=\"_top\" title=\"psysml:584bb17b-e85a-4a43-abf7-54afe3b89034\" xlink:actuate=\"onRequest\" xlink:href=\"psysml:584bb17b-e85a-4a43-abf7-54afe3b89034\" xlink:show=\"new\" xlink:title=\"psysml:584bb17b-e85a-4a43-abf7-54afe3b89034\" xlink:type=\"simple\"><polygon fill=\"#FFFFFF\" filter=\"url(#f1cveht7i7y5qt)\" points=\"141.5,84,176.5,84,183.5,106.2969,190.5,106.2969,190.5,136.5938,141.5,136.5938,141.5,84\" style=\"stroke: #000000; stroke-width: 1.5;\"/><line style=\"stroke: #000000; stroke-width: 1.5;\" x1=\"141.5\" x2=\"183.5\" y1=\"106.2969\" y2=\"106.2969\"/><text fill=\"#000000\" font-family=\"sans-serif\" font-size=\"14\" font-weight=\"bold\" lengthAdjust=\"spacingAndGlyphs\" textLength=\"29\" x=\"145.5\" y=\"98.9951\">P2a</text></a><g id=\"E1.E4.E6\"><a href=\"psysml:1b3157b3-25ca-40f3-9d15-65b1efb05714\" target=\"_top\" title=\"psysml:1b3157b3-25ca-40f3-9d15-65b1efb05714\" xlink:actuate=\"onRequest\" xlink:href=\"psysml:1b3157b3-25ca-40f3-9d15-65b1efb05714\" xlink:show=\"new\" xlink:title=\"psysml:1b3157b3-25ca-40f3-9d15-65b1efb05714\" xlink:type=\"simple\"><rect fill=\"#FEFECE\" filter=\"url(#f1cveht7i7y5qt)\" height=\"40\" id=\"E6\" rx=\"10\" ry=\"10\" style=\"stroke: #A80036; stroke-width: 1.5;\" width=\"50\" x=\"56\" y=\"90.5\"/><text fill=\"#000000\" font-family=\"sans-serif\" font-size=\"12\" lengthAdjust=\"spacingAndGlyphs\" textLength=\"22\" x=\"70\" y=\"106.6387\">x: A</text></a></g><!--MD5=[04ac8e83f22e4a2d69d953b06d61a24c]\n",
       "@startuml\r\n",
       "skinparam ranksep 10\r\n",
       "skinparam rectangle {\r\n",
       " backgroundColor<<block>> LightGreen\r\n",
       "}\r\n",
       "skinparam wrapWidth 300\r\n",
       "hide circle\r\n",
       "\r\n",
       "package \"QualifiedNameImportTest\" as E1  [[psysml:a4661f57-6558-47c6-8aa5-037eecc073c9 ]]  {\r\n",
       "package \"P1\" as E2  [[psysml:29f17ec2-4245-49fb-a177-0d25d24d4819 ]]  {\r\n",
       "rec def \"A\" as E3  <<(T,blue)part def>> [[psysml:572e0642-2007-40ad-b1a4-6402326f1a76 ]] {\r\n",
       "}\r\n",
       "}\r\n",
       "package \"P2\" as E4  [[psysml:a2f2702a-9aae-4fcb-bcab-ee7ca241440a ]]  {\r\n",
       "package \"P2a\" as E5  [[psysml:584bb17b-e85a-4a43-abf7-54afe3b89034 ]]  {\r\n",
       "}\r\n",
       "rec usage \"x: A\" as E6  [[psysml:1b3157b3-25ca-40f3-9d15-65b1efb05714 ]] {\r\n",
       "}\r\n",
       "}\r\n",
       "}\r\n",
       "@enduml\r\n",
       "\n",
       "PlantUML version 1.2020.13(Sat Jun 13 12:26:38 UTC 2020)\n",
       "(EPL source distribution)\n",
       "Java Runtime: OpenJDK Runtime Environment\n",
       "JVM: OpenJDK 64-Bit Server VM\n",
       "Default Encoding: UTF-8\n",
       "Language: en\n",
       "Country: null\n",
       "--></g></svg>"
      ]
     },
     "execution_count": 26,
     "metadata": {},
     "output_type": "execute_result"
    }
   ],
   "source": [
    "%viz --style=\"STDCOLOR\" --view=\"Interconnection\" \"QualifiedNameImportTest\""
   ]
  },
  {
   "cell_type": "code",
   "execution_count": 27,
   "id": "e0fd1a79",
   "metadata": {
    "execution": {
     "iopub.execute_input": "2021-05-28T10:48:58.238644Z",
     "iopub.status.busy": "2021-05-28T10:48:58.237942Z",
     "iopub.status.idle": "2021-05-28T10:48:58.245846Z",
     "shell.execute_reply": "2021-05-28T10:48:58.245478Z"
    }
   },
   "outputs": [
    {
     "data": {
      "image/svg+xml": [
       "<?xml version=\"1.0\" encoding=\"UTF-8\" standalone=\"no\"?><svg xmlns=\"http://www.w3.org/2000/svg\" xmlns:xlink=\"http://www.w3.org/1999/xlink\" contentScriptType=\"application/ecmascript\" contentStyleType=\"text/css\" height=\"12px\" preserveAspectRatio=\"none\" style=\"width:12px;height:12px;\" version=\"1.1\" viewBox=\"0 0 12 12\" width=\"12px\" zoomAndPan=\"magnify\"><defs/><g><!--MD5=[9863325348a96a77dacc89509d8ee65e]\n",
       "@startuml\r\n",
       "skinparam ranksep 8\r\n",
       "skinparam wrapWidth 300\r\n",
       "hide circle\r\n",
       "\r\n",
       "@enduml\r\n",
       "\n",
       "PlantUML version 1.2020.13(Sat Jun 13 12:26:38 UTC 2020)\n",
       "(EPL source distribution)\n",
       "Java Runtime: OpenJDK Runtime Environment\n",
       "JVM: OpenJDK 64-Bit Server VM\n",
       "Default Encoding: UTF-8\n",
       "Language: en\n",
       "Country: null\n",
       "--></g></svg>"
      ]
     },
     "execution_count": 27,
     "metadata": {},
     "output_type": "execute_result"
    }
   ],
   "source": [
    "%viz --style=\"STDCOLOR\" --view=\"Action\" \"QualifiedNameImportTest\""
   ]
  },
  {
   "cell_type": "code",
   "execution_count": 28,
   "id": "1cf48c94",
   "metadata": {
    "execution": {
     "iopub.execute_input": "2021-05-28T10:48:58.297590Z",
     "iopub.status.busy": "2021-05-28T10:48:58.296805Z",
     "iopub.status.idle": "2021-05-28T10:48:58.333167Z",
     "shell.execute_reply": "2021-05-28T10:48:58.332782Z"
    }
   },
   "outputs": [
    {
     "data": {
      "image/svg+xml": [
       "<?xml version=\"1.0\" encoding=\"UTF-8\" standalone=\"no\"?><svg xmlns=\"http://www.w3.org/2000/svg\" xmlns:xlink=\"http://www.w3.org/1999/xlink\" contentScriptType=\"application/ecmascript\" contentStyleType=\"text/css\" height=\"310px\" preserveAspectRatio=\"none\" style=\"width:253px;height:310px;\" version=\"1.1\" viewBox=\"0 0 253 310\" width=\"253px\" zoomAndPan=\"magnify\"><defs><filter height=\"300%\" id=\"f16hd3ttytq3fu\" width=\"300%\" x=\"-1\" y=\"-1\"><feGaussianBlur result=\"blurOut\" stdDeviation=\"2.0\"/><feColorMatrix in=\"blurOut\" result=\"blurOut2\" type=\"matrix\" values=\"0 0 0 0 0 0 0 0 0 0 0 0 0 0 0 0 0 0 .4 0\"/><feOffset dx=\"4.0\" dy=\"4.0\" in=\"blurOut2\" result=\"blurOut3\"/><feBlend in=\"SourceGraphic\" in2=\"blurOut3\" mode=\"normal\"/></filter></defs><g><!--MD5=[fbc87193dbaf4d95561dea2c320d4a47]\n",
       "cluster E1--><a href=\"psysml:a4661f57-6558-47c6-8aa5-037eecc073c9\" target=\"_top\" title=\"psysml:a4661f57-6558-47c6-8aa5-037eecc073c9\" xlink:actuate=\"onRequest\" xlink:href=\"psysml:a4661f57-6558-47c6-8aa5-037eecc073c9\" xlink:show=\"new\" xlink:title=\"psysml:a4661f57-6558-47c6-8aa5-037eecc073c9\" xlink:type=\"simple\"><polygon fill=\"#FFFFFF\" filter=\"url(#f16hd3ttytq3fu)\" points=\"16,6,221,6,228,28.2969,231,28.2969,231,298,16,298,16,6\" style=\"stroke: #000000; stroke-width: 1.5;\"/><line style=\"stroke: #000000; stroke-width: 1.5;\" x1=\"16\" x2=\"228\" y1=\"28.2969\" y2=\"28.2969\"/><text fill=\"#000000\" font-family=\"sans-serif\" font-size=\"14\" font-weight=\"bold\" lengthAdjust=\"spacingAndGlyphs\" textLength=\"199\" x=\"20\" y=\"20.9951\">QualifiedNameImportTest</text></a><!--MD5=[e4f7fae6ed58524ba242bb0b0d3be6b7]\n",
       "cluster E2--><a href=\"psysml:29f17ec2-4245-49fb-a177-0d25d24d4819\" target=\"_top\" title=\"psysml:29f17ec2-4245-49fb-a177-0d25d24d4819\" xlink:actuate=\"onRequest\" xlink:href=\"psysml:29f17ec2-4245-49fb-a177-0d25d24d4819\" xlink:show=\"new\" xlink:title=\"psysml:29f17ec2-4245-49fb-a177-0d25d24d4819\" xlink:type=\"simple\"><polygon fill=\"#FFFFFF\" filter=\"url(#f16hd3ttytq3fu)\" points=\"105,177,131,177,138,199.2969,203,199.2969,203,274,105,274,105,177\" style=\"stroke: #000000; stroke-width: 1.5;\"/><line style=\"stroke: #000000; stroke-width: 1.5;\" x1=\"105\" x2=\"138\" y1=\"199.2969\" y2=\"199.2969\"/><text fill=\"#000000\" font-family=\"sans-serif\" font-size=\"14\" font-weight=\"bold\" lengthAdjust=\"spacingAndGlyphs\" textLength=\"20\" x=\"109\" y=\"191.9951\">P1</text></a><!--MD5=[f6df4d0ebaf0b5dfb2ced0ae5af7c670]\n",
       "cluster E4--><a href=\"psysml:a2f2702a-9aae-4fcb-bcab-ee7ca241440a\" target=\"_top\" title=\"psysml:a2f2702a-9aae-4fcb-bcab-ee7ca241440a\" xlink:actuate=\"onRequest\" xlink:href=\"psysml:a2f2702a-9aae-4fcb-bcab-ee7ca241440a\" xlink:show=\"new\" xlink:title=\"psysml:a2f2702a-9aae-4fcb-bcab-ee7ca241440a\" xlink:type=\"simple\"><polygon fill=\"#FFFFFF\" filter=\"url(#f16hd3ttytq3fu)\" points=\"44,49,70,49,77,71.2969,203,71.2969,203,153,44,153,44,49\" style=\"stroke: #000000; stroke-width: 1.5;\"/><line style=\"stroke: #000000; stroke-width: 1.5;\" x1=\"44\" x2=\"77\" y1=\"71.2969\" y2=\"71.2969\"/><text fill=\"#000000\" font-family=\"sans-serif\" font-size=\"14\" font-weight=\"bold\" lengthAdjust=\"spacingAndGlyphs\" textLength=\"20\" x=\"48\" y=\"63.9951\">P2</text></a><!--MD5=[09b614a08d8cba4a07c9adeb5e0fee81]\n",
       "class E3--><a href=\"psysml:572e0642-2007-40ad-b1a4-6402326f1a76\" target=\"_top\" title=\"psysml:572e0642-2007-40ad-b1a4-6402326f1a76\" xlink:actuate=\"onRequest\" xlink:href=\"psysml:572e0642-2007-40ad-b1a4-6402326f1a76\" xlink:show=\"new\" xlink:title=\"psysml:572e0642-2007-40ad-b1a4-6402326f1a76\" xlink:type=\"simple\"><rect fill=\"#FEFECE\" filter=\"url(#f16hd3ttytq3fu)\" height=\"45.9375\" id=\"E3\" style=\"stroke: #A80036; stroke-width: 1.5;\" width=\"66\" x=\"121\" y=\"212\"/><text fill=\"#000000\" font-family=\"sans-serif\" font-size=\"12\" font-style=\"italic\" lengthAdjust=\"spacingAndGlyphs\" textLength=\"64\" x=\"122\" y=\"228.1387\">«part def»</text><text fill=\"#000000\" font-family=\"sans-serif\" font-size=\"12\" lengthAdjust=\"spacingAndGlyphs\" textLength=\"8\" x=\"150\" y=\"242.1074\">A</text><line style=\"stroke: #A80036; stroke-width: 1.5;\" x1=\"122\" x2=\"186\" y1=\"249.9375\" y2=\"249.9375\"/></a><!--MD5=[60a26617385b1d2d0262a64233df1f8d]\n",
       "class E6--><a href=\"psysml:1b3157b3-25ca-40f3-9d15-65b1efb05714\" target=\"_top\" title=\"psysml:1b3157b3-25ca-40f3-9d15-65b1efb05714\" xlink:actuate=\"onRequest\" xlink:href=\"psysml:1b3157b3-25ca-40f3-9d15-65b1efb05714\" xlink:show=\"new\" xlink:title=\"psysml:1b3157b3-25ca-40f3-9d15-65b1efb05714\" xlink:type=\"simple\"><rect fill=\"#FEFECE\" filter=\"url(#f16hd3ttytq3fu)\" height=\"45.9375\" id=\"E6\" rx=\"10\" ry=\"10\" style=\"stroke: #A80036; stroke-width: 1.5;\" width=\"42\" x=\"145\" y=\"87.5\"/><text fill=\"#000000\" font-family=\"sans-serif\" font-size=\"12\" font-style=\"italic\" lengthAdjust=\"spacingAndGlyphs\" textLength=\"40\" x=\"146\" y=\"103.6387\">«part»</text><text fill=\"#000000\" font-family=\"sans-serif\" font-size=\"12\" lengthAdjust=\"spacingAndGlyphs\" textLength=\"22\" x=\"155\" y=\"117.6074\">x: A</text><line style=\"stroke: #A80036; stroke-width: 1.5;\" x1=\"146\" x2=\"186\" y1=\"125.4375\" y2=\"125.4375\"/></a><a href=\"psysml:584bb17b-e85a-4a43-abf7-54afe3b89034\" target=\"_top\" title=\"psysml:584bb17b-e85a-4a43-abf7-54afe3b89034\" xlink:actuate=\"onRequest\" xlink:href=\"psysml:584bb17b-e85a-4a43-abf7-54afe3b89034\" xlink:show=\"new\" xlink:title=\"psysml:584bb17b-e85a-4a43-abf7-54afe3b89034\" xlink:type=\"simple\"><polygon fill=\"#FFFFFF\" filter=\"url(#f16hd3ttytq3fu)\" points=\"60.5,84,95.5,84,102.5,106.2969,109.5,106.2969,109.5,136.5938,60.5,136.5938,60.5,84\" style=\"stroke: #000000; stroke-width: 1.5;\"/><line style=\"stroke: #000000; stroke-width: 1.5;\" x1=\"60.5\" x2=\"102.5\" y1=\"106.2969\" y2=\"106.2969\"/><text fill=\"#000000\" font-family=\"sans-serif\" font-size=\"14\" font-weight=\"bold\" lengthAdjust=\"spacingAndGlyphs\" textLength=\"29\" x=\"64.5\" y=\"98.9951\">P2a</text></a><!--MD5=[a717450b82c80b9240a525fa862496af]\n",
       "link E6 to E3--><a href=\"psysml:dd0f39f2-d93b-4af4-8d6e-2bae3b2dacf1\" target=\"_top\" title=\"psysml:dd0f39f2-d93b-4af4-8d6e-2bae3b2dacf1\" xlink:actuate=\"onRequest\" xlink:href=\"psysml:dd0f39f2-d93b-4af4-8d6e-2bae3b2dacf1\" xlink:show=\"new\" xlink:title=\"psysml:dd0f39f2-d93b-4af4-8d6e-2bae3b2dacf1\" xlink:type=\"simple\"><path d=\"M163.83,133.68 C162.24,149.9 160.04,172.39 158.12,191.96 \" fill=\"none\" id=\"E6-&gt;E3\" style=\"stroke: #A80036; stroke-width: 1.0;\"/><polygon fill=\"#FFFFFF\" points=\"156.16,211.98,151.0533,192.3861,164.986,193.7564,156.16,211.98\" style=\"stroke: #A80036; stroke-width: 1.0;\"/><ellipse cx=\"153.6016\" cy=\"186.9092\" fill=\"#A80036\" rx=\"2\" ry=\"2\" style=\"stroke: #A80036; stroke-width: 1.0;\"/><ellipse cx=\"163.5535\" cy=\"187.888\" fill=\"#A80036\" rx=\"2\" ry=\"2\" style=\"stroke: #A80036; stroke-width: 1.0;\"/></a><!--MD5=[cd4dc458b0e4f033ba3c729f56d74b14]\n",
       "@startuml\r\n",
       "skinparam wrapWidth 300\r\n",
       "hide circle\r\n",
       "\r\n",
       "package \"QualifiedNameImportTest\" as E1  [[psysml:a4661f57-6558-47c6-8aa5-037eecc073c9 ]]  {\r\n",
       "package \"P1\" as E2  [[psysml:29f17ec2-4245-49fb-a177-0d25d24d4819 ]]  {\r\n",
       "comp def \"A\" as E3  <<(T,blue)part def>> [[psysml:572e0642-2007-40ad-b1a4-6402326f1a76 ]] {\r\n",
       "}\r\n",
       "}\r\n",
       "package \"P2\" as E4  [[psysml:a2f2702a-9aae-4fcb-bcab-ee7ca241440a ]]  {\r\n",
       "package \"P2a\" as E5  [[psysml:584bb17b-e85a-4a43-abf7-54afe3b89034 ]]  {\r\n",
       "}\r\n",
       "comp usage \"x: A\" as E6  <<(T,blue)part>> [[psysml:1b3157b3-25ca-40f3-9d15-65b1efb05714 ]] {\r\n",
       "}\r\n",
       "E6 - -:|> E3 [[psysml:dd0f39f2-d93b-4af4-8d6e-2bae3b2dacf1 ]] \r\n",
       "}\r\n",
       "}\r\n",
       "@enduml\r\n",
       "\n",
       "PlantUML version 1.2020.13(Sat Jun 13 12:26:38 UTC 2020)\n",
       "(EPL source distribution)\n",
       "Java Runtime: OpenJDK Runtime Environment\n",
       "JVM: OpenJDK 64-Bit Server VM\n",
       "Default Encoding: UTF-8\n",
       "Language: en\n",
       "Country: null\n",
       "--></g></svg>"
      ]
     },
     "execution_count": 28,
     "metadata": {},
     "output_type": "execute_result"
    }
   ],
   "source": [
    "%viz --style=\"STDCOLOR\" --view=\"Sequence\" \"QualifiedNameImportTest\""
   ]
  },
  {
   "cell_type": "code",
   "execution_count": 29,
   "id": "b4c3392a",
   "metadata": {
    "execution": {
     "iopub.execute_input": "2021-05-28T10:48:58.385718Z",
     "iopub.status.busy": "2021-05-28T10:48:58.385232Z",
     "iopub.status.idle": "2021-05-28T10:48:58.415093Z",
     "shell.execute_reply": "2021-05-28T10:48:58.413795Z"
    }
   },
   "outputs": [
    {
     "data": {
      "image/svg+xml": [
       "<?xml version=\"1.0\" encoding=\"UTF-8\" standalone=\"no\"?><svg xmlns=\"http://www.w3.org/2000/svg\" xmlns:xlink=\"http://www.w3.org/1999/xlink\" contentScriptType=\"application/ecmascript\" contentStyleType=\"text/css\" height=\"310px\" preserveAspectRatio=\"none\" style=\"width:253px;height:310px;\" version=\"1.1\" viewBox=\"0 0 253 310\" width=\"253px\" zoomAndPan=\"magnify\"><defs><filter height=\"300%\" id=\"f16hd3ttytq3fu\" width=\"300%\" x=\"-1\" y=\"-1\"><feGaussianBlur result=\"blurOut\" stdDeviation=\"2.0\"/><feColorMatrix in=\"blurOut\" result=\"blurOut2\" type=\"matrix\" values=\"0 0 0 0 0 0 0 0 0 0 0 0 0 0 0 0 0 0 .4 0\"/><feOffset dx=\"4.0\" dy=\"4.0\" in=\"blurOut2\" result=\"blurOut3\"/><feBlend in=\"SourceGraphic\" in2=\"blurOut3\" mode=\"normal\"/></filter></defs><g><!--MD5=[fbc87193dbaf4d95561dea2c320d4a47]\n",
       "cluster E1--><a href=\"psysml:a4661f57-6558-47c6-8aa5-037eecc073c9\" target=\"_top\" title=\"psysml:a4661f57-6558-47c6-8aa5-037eecc073c9\" xlink:actuate=\"onRequest\" xlink:href=\"psysml:a4661f57-6558-47c6-8aa5-037eecc073c9\" xlink:show=\"new\" xlink:title=\"psysml:a4661f57-6558-47c6-8aa5-037eecc073c9\" xlink:type=\"simple\"><polygon fill=\"#FFFFFF\" filter=\"url(#f16hd3ttytq3fu)\" points=\"16,6,221,6,228,28.2969,231,28.2969,231,298,16,298,16,6\" style=\"stroke: #000000; stroke-width: 1.5;\"/><line style=\"stroke: #000000; stroke-width: 1.5;\" x1=\"16\" x2=\"228\" y1=\"28.2969\" y2=\"28.2969\"/><text fill=\"#000000\" font-family=\"sans-serif\" font-size=\"14\" font-weight=\"bold\" lengthAdjust=\"spacingAndGlyphs\" textLength=\"199\" x=\"20\" y=\"20.9951\">QualifiedNameImportTest</text></a><!--MD5=[e4f7fae6ed58524ba242bb0b0d3be6b7]\n",
       "cluster E2--><a href=\"psysml:29f17ec2-4245-49fb-a177-0d25d24d4819\" target=\"_top\" title=\"psysml:29f17ec2-4245-49fb-a177-0d25d24d4819\" xlink:actuate=\"onRequest\" xlink:href=\"psysml:29f17ec2-4245-49fb-a177-0d25d24d4819\" xlink:show=\"new\" xlink:title=\"psysml:29f17ec2-4245-49fb-a177-0d25d24d4819\" xlink:type=\"simple\"><polygon fill=\"#FFFFFF\" filter=\"url(#f16hd3ttytq3fu)\" points=\"105,177,131,177,138,199.2969,203,199.2969,203,274,105,274,105,177\" style=\"stroke: #000000; stroke-width: 1.5;\"/><line style=\"stroke: #000000; stroke-width: 1.5;\" x1=\"105\" x2=\"138\" y1=\"199.2969\" y2=\"199.2969\"/><text fill=\"#000000\" font-family=\"sans-serif\" font-size=\"14\" font-weight=\"bold\" lengthAdjust=\"spacingAndGlyphs\" textLength=\"20\" x=\"109\" y=\"191.9951\">P1</text></a><!--MD5=[f6df4d0ebaf0b5dfb2ced0ae5af7c670]\n",
       "cluster E4--><a href=\"psysml:a2f2702a-9aae-4fcb-bcab-ee7ca241440a\" target=\"_top\" title=\"psysml:a2f2702a-9aae-4fcb-bcab-ee7ca241440a\" xlink:actuate=\"onRequest\" xlink:href=\"psysml:a2f2702a-9aae-4fcb-bcab-ee7ca241440a\" xlink:show=\"new\" xlink:title=\"psysml:a2f2702a-9aae-4fcb-bcab-ee7ca241440a\" xlink:type=\"simple\"><polygon fill=\"#FFFFFF\" filter=\"url(#f16hd3ttytq3fu)\" points=\"44,49,70,49,77,71.2969,203,71.2969,203,153,44,153,44,49\" style=\"stroke: #000000; stroke-width: 1.5;\"/><line style=\"stroke: #000000; stroke-width: 1.5;\" x1=\"44\" x2=\"77\" y1=\"71.2969\" y2=\"71.2969\"/><text fill=\"#000000\" font-family=\"sans-serif\" font-size=\"14\" font-weight=\"bold\" lengthAdjust=\"spacingAndGlyphs\" textLength=\"20\" x=\"48\" y=\"63.9951\">P2</text></a><!--MD5=[09b614a08d8cba4a07c9adeb5e0fee81]\n",
       "class E3--><a href=\"psysml:572e0642-2007-40ad-b1a4-6402326f1a76\" target=\"_top\" title=\"psysml:572e0642-2007-40ad-b1a4-6402326f1a76\" xlink:actuate=\"onRequest\" xlink:href=\"psysml:572e0642-2007-40ad-b1a4-6402326f1a76\" xlink:show=\"new\" xlink:title=\"psysml:572e0642-2007-40ad-b1a4-6402326f1a76\" xlink:type=\"simple\"><rect fill=\"#FEFECE\" filter=\"url(#f16hd3ttytq3fu)\" height=\"45.9375\" id=\"E3\" style=\"stroke: #A80036; stroke-width: 1.5;\" width=\"66\" x=\"121\" y=\"212\"/><text fill=\"#000000\" font-family=\"sans-serif\" font-size=\"12\" font-style=\"italic\" lengthAdjust=\"spacingAndGlyphs\" textLength=\"64\" x=\"122\" y=\"228.1387\">«part def»</text><text fill=\"#000000\" font-family=\"sans-serif\" font-size=\"12\" lengthAdjust=\"spacingAndGlyphs\" textLength=\"8\" x=\"150\" y=\"242.1074\">A</text><line style=\"stroke: #A80036; stroke-width: 1.5;\" x1=\"122\" x2=\"186\" y1=\"249.9375\" y2=\"249.9375\"/></a><!--MD5=[60a26617385b1d2d0262a64233df1f8d]\n",
       "class E6--><a href=\"psysml:1b3157b3-25ca-40f3-9d15-65b1efb05714\" target=\"_top\" title=\"psysml:1b3157b3-25ca-40f3-9d15-65b1efb05714\" xlink:actuate=\"onRequest\" xlink:href=\"psysml:1b3157b3-25ca-40f3-9d15-65b1efb05714\" xlink:show=\"new\" xlink:title=\"psysml:1b3157b3-25ca-40f3-9d15-65b1efb05714\" xlink:type=\"simple\"><rect fill=\"#FEFECE\" filter=\"url(#f16hd3ttytq3fu)\" height=\"45.9375\" id=\"E6\" rx=\"10\" ry=\"10\" style=\"stroke: #A80036; stroke-width: 1.5;\" width=\"42\" x=\"145\" y=\"87.5\"/><text fill=\"#000000\" font-family=\"sans-serif\" font-size=\"12\" font-style=\"italic\" lengthAdjust=\"spacingAndGlyphs\" textLength=\"40\" x=\"146\" y=\"103.6387\">«part»</text><text fill=\"#000000\" font-family=\"sans-serif\" font-size=\"12\" lengthAdjust=\"spacingAndGlyphs\" textLength=\"22\" x=\"155\" y=\"117.6074\">x: A</text><line style=\"stroke: #A80036; stroke-width: 1.5;\" x1=\"146\" x2=\"186\" y1=\"125.4375\" y2=\"125.4375\"/></a><a href=\"psysml:584bb17b-e85a-4a43-abf7-54afe3b89034\" target=\"_top\" title=\"psysml:584bb17b-e85a-4a43-abf7-54afe3b89034\" xlink:actuate=\"onRequest\" xlink:href=\"psysml:584bb17b-e85a-4a43-abf7-54afe3b89034\" xlink:show=\"new\" xlink:title=\"psysml:584bb17b-e85a-4a43-abf7-54afe3b89034\" xlink:type=\"simple\"><polygon fill=\"#FFFFFF\" filter=\"url(#f16hd3ttytq3fu)\" points=\"60.5,84,95.5,84,102.5,106.2969,109.5,106.2969,109.5,136.5938,60.5,136.5938,60.5,84\" style=\"stroke: #000000; stroke-width: 1.5;\"/><line style=\"stroke: #000000; stroke-width: 1.5;\" x1=\"60.5\" x2=\"102.5\" y1=\"106.2969\" y2=\"106.2969\"/><text fill=\"#000000\" font-family=\"sans-serif\" font-size=\"14\" font-weight=\"bold\" lengthAdjust=\"spacingAndGlyphs\" textLength=\"29\" x=\"64.5\" y=\"98.9951\">P2a</text></a><!--MD5=[a717450b82c80b9240a525fa862496af]\n",
       "link E6 to E3--><a href=\"psysml:dd0f39f2-d93b-4af4-8d6e-2bae3b2dacf1\" target=\"_top\" title=\"psysml:dd0f39f2-d93b-4af4-8d6e-2bae3b2dacf1\" xlink:actuate=\"onRequest\" xlink:href=\"psysml:dd0f39f2-d93b-4af4-8d6e-2bae3b2dacf1\" xlink:show=\"new\" xlink:title=\"psysml:dd0f39f2-d93b-4af4-8d6e-2bae3b2dacf1\" xlink:type=\"simple\"><path d=\"M163.83,133.68 C162.24,149.9 160.04,172.39 158.12,191.96 \" fill=\"none\" id=\"E6-&gt;E3\" style=\"stroke: #A80036; stroke-width: 1.0;\"/><polygon fill=\"#FFFFFF\" points=\"156.16,211.98,151.0533,192.3861,164.986,193.7564,156.16,211.98\" style=\"stroke: #A80036; stroke-width: 1.0;\"/><ellipse cx=\"153.6016\" cy=\"186.9092\" fill=\"#A80036\" rx=\"2\" ry=\"2\" style=\"stroke: #A80036; stroke-width: 1.0;\"/><ellipse cx=\"163.5535\" cy=\"187.888\" fill=\"#A80036\" rx=\"2\" ry=\"2\" style=\"stroke: #A80036; stroke-width: 1.0;\"/></a><!--MD5=[cd4dc458b0e4f033ba3c729f56d74b14]\n",
       "@startuml\r\n",
       "skinparam wrapWidth 300\r\n",
       "hide circle\r\n",
       "\r\n",
       "package \"QualifiedNameImportTest\" as E1  [[psysml:a4661f57-6558-47c6-8aa5-037eecc073c9 ]]  {\r\n",
       "package \"P1\" as E2  [[psysml:29f17ec2-4245-49fb-a177-0d25d24d4819 ]]  {\r\n",
       "comp def \"A\" as E3  <<(T,blue)part def>> [[psysml:572e0642-2007-40ad-b1a4-6402326f1a76 ]] {\r\n",
       "}\r\n",
       "}\r\n",
       "package \"P2\" as E4  [[psysml:a2f2702a-9aae-4fcb-bcab-ee7ca241440a ]]  {\r\n",
       "package \"P2a\" as E5  [[psysml:584bb17b-e85a-4a43-abf7-54afe3b89034 ]]  {\r\n",
       "}\r\n",
       "comp usage \"x: A\" as E6  <<(T,blue)part>> [[psysml:1b3157b3-25ca-40f3-9d15-65b1efb05714 ]] {\r\n",
       "}\r\n",
       "E6 - -:|> E3 [[psysml:dd0f39f2-d93b-4af4-8d6e-2bae3b2dacf1 ]] \r\n",
       "}\r\n",
       "}\r\n",
       "@enduml\r\n",
       "\n",
       "PlantUML version 1.2020.13(Sat Jun 13 12:26:38 UTC 2020)\n",
       "(EPL source distribution)\n",
       "Java Runtime: OpenJDK Runtime Environment\n",
       "JVM: OpenJDK 64-Bit Server VM\n",
       "Default Encoding: UTF-8\n",
       "Language: en\n",
       "Country: null\n",
       "--></g></svg>"
      ]
     },
     "execution_count": 29,
     "metadata": {},
     "output_type": "execute_result"
    }
   ],
   "source": [
    "%viz --style=\"STDCOLOR\" --view=\"MIXED\" \"QualifiedNameImportTest\""
   ]
  },
  {
   "cell_type": "code",
   "execution_count": 30,
   "id": "013ba549",
   "metadata": {
    "execution": {
     "iopub.execute_input": "2021-05-28T10:48:58.465782Z",
     "iopub.status.busy": "2021-05-28T10:48:58.465316Z",
     "iopub.status.idle": "2021-05-28T10:48:58.513325Z",
     "shell.execute_reply": "2021-05-28T10:48:58.512042Z"
    }
   },
   "outputs": [
    {
     "data": {
      "image/svg+xml": [
       "<?xml version=\"1.0\" encoding=\"UTF-8\" standalone=\"no\"?><svg xmlns=\"http://www.w3.org/2000/svg\" xmlns:xlink=\"http://www.w3.org/1999/xlink\" contentScriptType=\"application/ecmascript\" contentStyleType=\"text/css\" height=\"304px\" preserveAspectRatio=\"none\" style=\"width:271px;height:304px;\" version=\"1.1\" viewBox=\"0 0 271 304\" width=\"271px\" zoomAndPan=\"magnify\"><defs><filter height=\"300%\" id=\"f1lqdozfl6s1zg\" width=\"300%\" x=\"-1\" y=\"-1\"><feGaussianBlur result=\"blurOut\" stdDeviation=\"2.0\"/><feColorMatrix in=\"blurOut\" result=\"blurOut2\" type=\"matrix\" values=\"0 0 0 0 0 0 0 0 0 0 0 0 0 0 0 0 0 0 .4 0\"/><feOffset dx=\"4.0\" dy=\"4.0\" in=\"blurOut2\" result=\"blurOut3\"/><feBlend in=\"SourceGraphic\" in2=\"blurOut3\" mode=\"normal\"/></filter></defs><g><!--MD5=[fbc87193dbaf4d95561dea2c320d4a47]\n",
       "cluster E1--><a href=\"psysml:a4661f57-6558-47c6-8aa5-037eecc073c9\" target=\"_top\" title=\"psysml:a4661f57-6558-47c6-8aa5-037eecc073c9\" xlink:actuate=\"onRequest\" xlink:href=\"psysml:a4661f57-6558-47c6-8aa5-037eecc073c9\" xlink:show=\"new\" xlink:title=\"psysml:a4661f57-6558-47c6-8aa5-037eecc073c9\" xlink:type=\"simple\"><polygon fill=\"#FFFFFF\" filter=\"url(#f1lqdozfl6s1zg)\" points=\"16,6,221,6,228,28.2969,249,28.2969,249,292,16,292,16,6\" style=\"stroke: #000000; stroke-width: 1.5;\"/><line style=\"stroke: #000000; stroke-width: 1.5;\" x1=\"16\" x2=\"228\" y1=\"28.2969\" y2=\"28.2969\"/><text fill=\"#000000\" font-family=\"sans-serif\" font-size=\"14\" font-weight=\"bold\" lengthAdjust=\"spacingAndGlyphs\" textLength=\"199\" x=\"20\" y=\"20.9951\">QualifiedNameImportTest</text></a><!--MD5=[e4f7fae6ed58524ba242bb0b0d3be6b7]\n",
       "cluster E2--><a href=\"psysml:29f17ec2-4245-49fb-a177-0d25d24d4819\" target=\"_top\" title=\"psysml:29f17ec2-4245-49fb-a177-0d25d24d4819\" xlink:actuate=\"onRequest\" xlink:href=\"psysml:29f17ec2-4245-49fb-a177-0d25d24d4819\" xlink:show=\"new\" xlink:title=\"psysml:29f17ec2-4245-49fb-a177-0d25d24d4819\" xlink:type=\"simple\"><polygon fill=\"#FFFFFF\" filter=\"url(#f1lqdozfl6s1zg)\" points=\"139,177,165,177,172,199.2969,211,199.2969,211,268,139,268,139,177\" style=\"stroke: #000000; stroke-width: 1.5;\"/><line style=\"stroke: #000000; stroke-width: 1.5;\" x1=\"139\" x2=\"172\" y1=\"199.2969\" y2=\"199.2969\"/><text fill=\"#000000\" font-family=\"sans-serif\" font-size=\"14\" font-weight=\"bold\" lengthAdjust=\"spacingAndGlyphs\" textLength=\"20\" x=\"143\" y=\"191.9951\">P1</text></a><!--MD5=[f6df4d0ebaf0b5dfb2ced0ae5af7c670]\n",
       "cluster E4--><a href=\"psysml:a2f2702a-9aae-4fcb-bcab-ee7ca241440a\" target=\"_top\" title=\"psysml:a2f2702a-9aae-4fcb-bcab-ee7ca241440a\" xlink:actuate=\"onRequest\" xlink:href=\"psysml:a2f2702a-9aae-4fcb-bcab-ee7ca241440a\" xlink:show=\"new\" xlink:title=\"psysml:a2f2702a-9aae-4fcb-bcab-ee7ca241440a\" xlink:type=\"simple\"><polygon fill=\"#FFFFFF\" filter=\"url(#f1lqdozfl6s1zg)\" points=\"40,49,66,49,73,71.2969,225,71.2969,225,153,40,153,40,49\" style=\"stroke: #000000; stroke-width: 1.5;\"/><line style=\"stroke: #000000; stroke-width: 1.5;\" x1=\"40\" x2=\"73\" y1=\"71.2969\" y2=\"71.2969\"/><text fill=\"#000000\" font-family=\"sans-serif\" font-size=\"14\" font-weight=\"bold\" lengthAdjust=\"spacingAndGlyphs\" textLength=\"20\" x=\"44\" y=\"63.9951\">P2</text></a><!--MD5=[09b614a08d8cba4a07c9adeb5e0fee81]\n",
       "class E3--><a href=\"psysml:572e0642-2007-40ad-b1a4-6402326f1a76\" target=\"_top\" title=\"psysml:572e0642-2007-40ad-b1a4-6402326f1a76\" xlink:actuate=\"onRequest\" xlink:href=\"psysml:572e0642-2007-40ad-b1a4-6402326f1a76\" xlink:show=\"new\" xlink:title=\"psysml:572e0642-2007-40ad-b1a4-6402326f1a76\" xlink:type=\"simple\"><rect fill=\"#FEFECE\" filter=\"url(#f1lqdozfl6s1zg)\" height=\"40\" id=\"E3\" style=\"stroke: #A80036; stroke-width: 1.5;\" width=\"40\" x=\"155\" y=\"212\"/><ellipse cx=\"170\" cy=\"228\" fill=\"#008000\" rx=\"11\" ry=\"11\" style=\"stroke: #A80036; stroke-width: 1.0;\"/><path d=\"M168.9063,228.375 L168.9063,232.0469 L170.5313,232.0469 Q171.7031,232.0469 172.1719,231.6563 Q172.6406,231.25 172.6406,230.25 Q172.6406,229.25 172.1406,228.8125 Q171.6563,228.375 170.5313,228.375 L168.9063,228.375 Z M168.9063,223.5469 L168.9063,226.4219 L170.5313,226.4219 Q171.4531,226.4219 171.8438,226.0938 Q172.25,225.75 172.25,225 Q172.25,224.2344 171.8438,223.8906 Q171.4375,223.5469 170.5313,223.5469 L168.9063,223.5469 Z M166.5313,221.5938 L170.5313,221.5938 Q172.5938,221.5938 173.6406,222.375 Q174.6875,223.1563 174.6875,224.7188 Q174.6875,225.9219 174.0625,226.5938 Q173.4531,227.2656 172.2656,227.375 Q173.6875,227.5156 174.4063,228.3281 Q175.125,229.1406 175.125,230.5938 Q175.125,232.3906 174.0469,233.2031 Q172.9688,234 170.5313,234 L166.5313,234 L166.5313,221.5938 Z \"/><text fill=\"#000000\" font-family=\"sans-serif\" font-size=\"12\" lengthAdjust=\"spacingAndGlyphs\" textLength=\"8\" x=\"184\" y=\"232.1543\">A</text><line style=\"stroke: #A80036; stroke-width: 1.5;\" x1=\"156\" x2=\"194\" y1=\"244\" y2=\"244\"/></a><!--MD5=[60a26617385b1d2d0262a64233df1f8d]\n",
       "class E6--><a href=\"psysml:1b3157b3-25ca-40f3-9d15-65b1efb05714\" target=\"_top\" title=\"psysml:1b3157b3-25ca-40f3-9d15-65b1efb05714\" xlink:actuate=\"onRequest\" xlink:href=\"psysml:1b3157b3-25ca-40f3-9d15-65b1efb05714\" xlink:show=\"new\" xlink:title=\"psysml:1b3157b3-25ca-40f3-9d15-65b1efb05714\" xlink:type=\"simple\"><rect fill=\"#FEFECE\" filter=\"url(#f1lqdozfl6s1zg)\" height=\"45.9375\" id=\"E6\" rx=\"10\" ry=\"10\" style=\"stroke: #A80036; stroke-width: 1.5;\" width=\"68\" x=\"141\" y=\"87.5\"/><ellipse cx=\"156\" cy=\"106.4688\" fill=\"#32CD32\" rx=\"11\" ry=\"11\" style=\"stroke: #A80036; stroke-width: 1.0;\"/><path d=\"M155.7969,102.1406 L155.7969,105.7656 L156.7969,105.7656 Q158,105.7656 158.4844,105.3594 Q158.9688,104.9531 158.9688,103.9531 Q158.9688,102.9531 158.4844,102.5469 Q158,102.1406 156.7969,102.1406 L155.7969,102.1406 Z M153.3438,100.0781 L156.7031,100.0781 Q159.2656,100.0781 160.3906,101 Q161.5156,101.9063 161.5156,103.9531 Q161.5156,106 160.3906,106.9219 Q159.2656,107.8281 156.7031,107.8281 L155.7969,107.8281 L155.7969,112.4688 L153.3438,112.4688 L153.3438,100.0781 Z \"/><text fill=\"#000000\" font-family=\"sans-serif\" font-size=\"12\" font-style=\"italic\" lengthAdjust=\"spacingAndGlyphs\" textLength=\"40\" x=\"168\" y=\"103.6387\">«part»</text><text fill=\"#000000\" font-family=\"sans-serif\" font-size=\"12\" lengthAdjust=\"spacingAndGlyphs\" textLength=\"22\" x=\"177\" y=\"117.6074\">x: A</text><line style=\"stroke: #A80036; stroke-width: 1.5;\" x1=\"142\" x2=\"208\" y1=\"125.4375\" y2=\"125.4375\"/></a><a href=\"psysml:584bb17b-e85a-4a43-abf7-54afe3b89034\" target=\"_top\" title=\"psysml:584bb17b-e85a-4a43-abf7-54afe3b89034\" xlink:actuate=\"onRequest\" xlink:href=\"psysml:584bb17b-e85a-4a43-abf7-54afe3b89034\" xlink:show=\"new\" xlink:title=\"psysml:584bb17b-e85a-4a43-abf7-54afe3b89034\" xlink:type=\"simple\"><polygon fill=\"#FFFFFF\" filter=\"url(#f1lqdozfl6s1zg)\" points=\"56.5,84,91.5,84,98.5,106.2969,105.5,106.2969,105.5,136.5938,56.5,136.5938,56.5,84\" style=\"stroke: #000000; stroke-width: 1.5;\"/><line style=\"stroke: #000000; stroke-width: 1.5;\" x1=\"56.5\" x2=\"98.5\" y1=\"106.2969\" y2=\"106.2969\"/><text fill=\"#000000\" font-family=\"sans-serif\" font-size=\"14\" font-weight=\"bold\" lengthAdjust=\"spacingAndGlyphs\" textLength=\"29\" x=\"60.5\" y=\"98.9951\">P2a</text></a><!--MD5=[a717450b82c80b9240a525fa862496af]\n",
       "link E6 to E3--><a href=\"psysml:dd0f39f2-d93b-4af4-8d6e-2bae3b2dacf1\" target=\"_top\" title=\"psysml:dd0f39f2-d93b-4af4-8d6e-2bae3b2dacf1\" xlink:actuate=\"onRequest\" xlink:href=\"psysml:dd0f39f2-d93b-4af4-8d6e-2bae3b2dacf1\" xlink:show=\"new\" xlink:title=\"psysml:dd0f39f2-d93b-4af4-8d6e-2bae3b2dacf1\" xlink:type=\"simple\"><path d=\"M175,133.7 C175,149.89 175,172.27 175,191.49 \" fill=\"none\" id=\"E6-&gt;E3\" style=\"stroke: #A80036; stroke-width: 1.0;\"/><polygon fill=\"#FFFFFF\" points=\"175,211.69,168,192.69,182,192.69,175,211.69\" style=\"stroke: #A80036; stroke-width: 1.0;\"/><ellipse cx=\"170\" cy=\"186.99\" fill=\"#A80036\" rx=\"2\" ry=\"2\" style=\"stroke: #A80036; stroke-width: 1.0;\"/><ellipse cx=\"180\" cy=\"186.99\" fill=\"#A80036\" rx=\"2\" ry=\"2\" style=\"stroke: #A80036; stroke-width: 1.0;\"/></a><!--MD5=[56f4b579dfd85aab81a5081842ae93f8]\n",
       "@startuml\r\n",
       " \r\n",
       "package \"QualifiedNameImportTest\" as E1  [[psysml:a4661f57-6558-47c6-8aa5-037eecc073c9 ]]  {\r\n",
       "package \"P1\" as E2  [[psysml:29f17ec2-4245-49fb-a177-0d25d24d4819 ]]  {\r\n",
       "comp def \"A\" as E3  << (B,green) >> [[psysml:572e0642-2007-40ad-b1a4-6402326f1a76 ]] {\r\n",
       "}\r\n",
       "}\r\n",
       "package \"P2\" as E4  [[psysml:a2f2702a-9aae-4fcb-bcab-ee7ca241440a ]]  {\r\n",
       "package \"P2a\" as E5  [[psysml:584bb17b-e85a-4a43-abf7-54afe3b89034 ]]  {\r\n",
       "}\r\n",
       "comp usage \"x: A\" as E6  << (P,limegreen) part>> [[psysml:1b3157b3-25ca-40f3-9d15-65b1efb05714 ]] {\r\n",
       "}\r\n",
       "E6 - -:|> E3 [[psysml:dd0f39f2-d93b-4af4-8d6e-2bae3b2dacf1 ]] \r\n",
       "}\r\n",
       "}\r\n",
       "@enduml\r\n",
       "\n",
       "PlantUML version 1.2020.13(Sat Jun 13 12:26:38 UTC 2020)\n",
       "(EPL source distribution)\n",
       "Java Runtime: OpenJDK Runtime Environment\n",
       "JVM: OpenJDK 64-Bit Server VM\n",
       "Default Encoding: UTF-8\n",
       "Language: en\n",
       "Country: null\n",
       "--></g></svg>"
      ]
     },
     "execution_count": 30,
     "metadata": {},
     "output_type": "execute_result"
    }
   ],
   "source": [
    "%viz --style=\"PLANTUML\" --view=\"Default\" \"QualifiedNameImportTest\""
   ]
  },
  {
   "cell_type": "code",
   "execution_count": 31,
   "id": "9f33ab49",
   "metadata": {
    "execution": {
     "iopub.execute_input": "2021-05-28T10:48:58.563885Z",
     "iopub.status.busy": "2021-05-28T10:48:58.563479Z",
     "iopub.status.idle": "2021-05-28T10:48:58.595819Z",
     "shell.execute_reply": "2021-05-28T10:48:58.594636Z"
    }
   },
   "outputs": [
    {
     "data": {
      "image/svg+xml": [
       "<?xml version=\"1.0\" encoding=\"UTF-8\" standalone=\"no\"?><svg xmlns=\"http://www.w3.org/2000/svg\" xmlns:xlink=\"http://www.w3.org/1999/xlink\" contentScriptType=\"application/ecmascript\" contentStyleType=\"text/css\" height=\"304px\" preserveAspectRatio=\"none\" style=\"width:271px;height:304px;\" version=\"1.1\" viewBox=\"0 0 271 304\" width=\"271px\" zoomAndPan=\"magnify\"><defs><filter height=\"300%\" id=\"f1lqdozfl6s1zg\" width=\"300%\" x=\"-1\" y=\"-1\"><feGaussianBlur result=\"blurOut\" stdDeviation=\"2.0\"/><feColorMatrix in=\"blurOut\" result=\"blurOut2\" type=\"matrix\" values=\"0 0 0 0 0 0 0 0 0 0 0 0 0 0 0 0 0 0 .4 0\"/><feOffset dx=\"4.0\" dy=\"4.0\" in=\"blurOut2\" result=\"blurOut3\"/><feBlend in=\"SourceGraphic\" in2=\"blurOut3\" mode=\"normal\"/></filter></defs><g><!--MD5=[fbc87193dbaf4d95561dea2c320d4a47]\n",
       "cluster E1--><a href=\"psysml:a4661f57-6558-47c6-8aa5-037eecc073c9\" target=\"_top\" title=\"psysml:a4661f57-6558-47c6-8aa5-037eecc073c9\" xlink:actuate=\"onRequest\" xlink:href=\"psysml:a4661f57-6558-47c6-8aa5-037eecc073c9\" xlink:show=\"new\" xlink:title=\"psysml:a4661f57-6558-47c6-8aa5-037eecc073c9\" xlink:type=\"simple\"><polygon fill=\"#FFFFFF\" filter=\"url(#f1lqdozfl6s1zg)\" points=\"16,6,221,6,228,28.2969,249,28.2969,249,292,16,292,16,6\" style=\"stroke: #000000; stroke-width: 1.5;\"/><line style=\"stroke: #000000; stroke-width: 1.5;\" x1=\"16\" x2=\"228\" y1=\"28.2969\" y2=\"28.2969\"/><text fill=\"#000000\" font-family=\"sans-serif\" font-size=\"14\" font-weight=\"bold\" lengthAdjust=\"spacingAndGlyphs\" textLength=\"199\" x=\"20\" y=\"20.9951\">QualifiedNameImportTest</text></a><!--MD5=[e4f7fae6ed58524ba242bb0b0d3be6b7]\n",
       "cluster E2--><a href=\"psysml:29f17ec2-4245-49fb-a177-0d25d24d4819\" target=\"_top\" title=\"psysml:29f17ec2-4245-49fb-a177-0d25d24d4819\" xlink:actuate=\"onRequest\" xlink:href=\"psysml:29f17ec2-4245-49fb-a177-0d25d24d4819\" xlink:show=\"new\" xlink:title=\"psysml:29f17ec2-4245-49fb-a177-0d25d24d4819\" xlink:type=\"simple\"><polygon fill=\"#FFFFFF\" filter=\"url(#f1lqdozfl6s1zg)\" points=\"139,177,165,177,172,199.2969,211,199.2969,211,268,139,268,139,177\" style=\"stroke: #000000; stroke-width: 1.5;\"/><line style=\"stroke: #000000; stroke-width: 1.5;\" x1=\"139\" x2=\"172\" y1=\"199.2969\" y2=\"199.2969\"/><text fill=\"#000000\" font-family=\"sans-serif\" font-size=\"14\" font-weight=\"bold\" lengthAdjust=\"spacingAndGlyphs\" textLength=\"20\" x=\"143\" y=\"191.9951\">P1</text></a><!--MD5=[f6df4d0ebaf0b5dfb2ced0ae5af7c670]\n",
       "cluster E4--><a href=\"psysml:a2f2702a-9aae-4fcb-bcab-ee7ca241440a\" target=\"_top\" title=\"psysml:a2f2702a-9aae-4fcb-bcab-ee7ca241440a\" xlink:actuate=\"onRequest\" xlink:href=\"psysml:a2f2702a-9aae-4fcb-bcab-ee7ca241440a\" xlink:show=\"new\" xlink:title=\"psysml:a2f2702a-9aae-4fcb-bcab-ee7ca241440a\" xlink:type=\"simple\"><polygon fill=\"#FFFFFF\" filter=\"url(#f1lqdozfl6s1zg)\" points=\"40,49,66,49,73,71.2969,225,71.2969,225,153,40,153,40,49\" style=\"stroke: #000000; stroke-width: 1.5;\"/><line style=\"stroke: #000000; stroke-width: 1.5;\" x1=\"40\" x2=\"73\" y1=\"71.2969\" y2=\"71.2969\"/><text fill=\"#000000\" font-family=\"sans-serif\" font-size=\"14\" font-weight=\"bold\" lengthAdjust=\"spacingAndGlyphs\" textLength=\"20\" x=\"44\" y=\"63.9951\">P2</text></a><!--MD5=[09b614a08d8cba4a07c9adeb5e0fee81]\n",
       "class E3--><a href=\"psysml:572e0642-2007-40ad-b1a4-6402326f1a76\" target=\"_top\" title=\"psysml:572e0642-2007-40ad-b1a4-6402326f1a76\" xlink:actuate=\"onRequest\" xlink:href=\"psysml:572e0642-2007-40ad-b1a4-6402326f1a76\" xlink:show=\"new\" xlink:title=\"psysml:572e0642-2007-40ad-b1a4-6402326f1a76\" xlink:type=\"simple\"><rect fill=\"#FEFECE\" filter=\"url(#f1lqdozfl6s1zg)\" height=\"40\" id=\"E3\" style=\"stroke: #A80036; stroke-width: 1.5;\" width=\"40\" x=\"155\" y=\"212\"/><ellipse cx=\"170\" cy=\"228\" fill=\"#008000\" rx=\"11\" ry=\"11\" style=\"stroke: #A80036; stroke-width: 1.0;\"/><path d=\"M168.9063,228.375 L168.9063,232.0469 L170.5313,232.0469 Q171.7031,232.0469 172.1719,231.6563 Q172.6406,231.25 172.6406,230.25 Q172.6406,229.25 172.1406,228.8125 Q171.6563,228.375 170.5313,228.375 L168.9063,228.375 Z M168.9063,223.5469 L168.9063,226.4219 L170.5313,226.4219 Q171.4531,226.4219 171.8438,226.0938 Q172.25,225.75 172.25,225 Q172.25,224.2344 171.8438,223.8906 Q171.4375,223.5469 170.5313,223.5469 L168.9063,223.5469 Z M166.5313,221.5938 L170.5313,221.5938 Q172.5938,221.5938 173.6406,222.375 Q174.6875,223.1563 174.6875,224.7188 Q174.6875,225.9219 174.0625,226.5938 Q173.4531,227.2656 172.2656,227.375 Q173.6875,227.5156 174.4063,228.3281 Q175.125,229.1406 175.125,230.5938 Q175.125,232.3906 174.0469,233.2031 Q172.9688,234 170.5313,234 L166.5313,234 L166.5313,221.5938 Z \"/><text fill=\"#000000\" font-family=\"sans-serif\" font-size=\"12\" lengthAdjust=\"spacingAndGlyphs\" textLength=\"8\" x=\"184\" y=\"232.1543\">A</text><line style=\"stroke: #A80036; stroke-width: 1.5;\" x1=\"156\" x2=\"194\" y1=\"244\" y2=\"244\"/></a><!--MD5=[60a26617385b1d2d0262a64233df1f8d]\n",
       "class E6--><a href=\"psysml:1b3157b3-25ca-40f3-9d15-65b1efb05714\" target=\"_top\" title=\"psysml:1b3157b3-25ca-40f3-9d15-65b1efb05714\" xlink:actuate=\"onRequest\" xlink:href=\"psysml:1b3157b3-25ca-40f3-9d15-65b1efb05714\" xlink:show=\"new\" xlink:title=\"psysml:1b3157b3-25ca-40f3-9d15-65b1efb05714\" xlink:type=\"simple\"><rect fill=\"#FEFECE\" filter=\"url(#f1lqdozfl6s1zg)\" height=\"45.9375\" id=\"E6\" rx=\"10\" ry=\"10\" style=\"stroke: #A80036; stroke-width: 1.5;\" width=\"68\" x=\"141\" y=\"87.5\"/><ellipse cx=\"156\" cy=\"106.4688\" fill=\"#32CD32\" rx=\"11\" ry=\"11\" style=\"stroke: #A80036; stroke-width: 1.0;\"/><path d=\"M155.7969,102.1406 L155.7969,105.7656 L156.7969,105.7656 Q158,105.7656 158.4844,105.3594 Q158.9688,104.9531 158.9688,103.9531 Q158.9688,102.9531 158.4844,102.5469 Q158,102.1406 156.7969,102.1406 L155.7969,102.1406 Z M153.3438,100.0781 L156.7031,100.0781 Q159.2656,100.0781 160.3906,101 Q161.5156,101.9063 161.5156,103.9531 Q161.5156,106 160.3906,106.9219 Q159.2656,107.8281 156.7031,107.8281 L155.7969,107.8281 L155.7969,112.4688 L153.3438,112.4688 L153.3438,100.0781 Z \"/><text fill=\"#000000\" font-family=\"sans-serif\" font-size=\"12\" font-style=\"italic\" lengthAdjust=\"spacingAndGlyphs\" textLength=\"40\" x=\"168\" y=\"103.6387\">«part»</text><text fill=\"#000000\" font-family=\"sans-serif\" font-size=\"12\" lengthAdjust=\"spacingAndGlyphs\" textLength=\"22\" x=\"177\" y=\"117.6074\">x: A</text><line style=\"stroke: #A80036; stroke-width: 1.5;\" x1=\"142\" x2=\"208\" y1=\"125.4375\" y2=\"125.4375\"/></a><a href=\"psysml:584bb17b-e85a-4a43-abf7-54afe3b89034\" target=\"_top\" title=\"psysml:584bb17b-e85a-4a43-abf7-54afe3b89034\" xlink:actuate=\"onRequest\" xlink:href=\"psysml:584bb17b-e85a-4a43-abf7-54afe3b89034\" xlink:show=\"new\" xlink:title=\"psysml:584bb17b-e85a-4a43-abf7-54afe3b89034\" xlink:type=\"simple\"><polygon fill=\"#FFFFFF\" filter=\"url(#f1lqdozfl6s1zg)\" points=\"56.5,84,91.5,84,98.5,106.2969,105.5,106.2969,105.5,136.5938,56.5,136.5938,56.5,84\" style=\"stroke: #000000; stroke-width: 1.5;\"/><line style=\"stroke: #000000; stroke-width: 1.5;\" x1=\"56.5\" x2=\"98.5\" y1=\"106.2969\" y2=\"106.2969\"/><text fill=\"#000000\" font-family=\"sans-serif\" font-size=\"14\" font-weight=\"bold\" lengthAdjust=\"spacingAndGlyphs\" textLength=\"29\" x=\"60.5\" y=\"98.9951\">P2a</text></a><!--MD5=[a717450b82c80b9240a525fa862496af]\n",
       "link E6 to E3--><a href=\"psysml:dd0f39f2-d93b-4af4-8d6e-2bae3b2dacf1\" target=\"_top\" title=\"psysml:dd0f39f2-d93b-4af4-8d6e-2bae3b2dacf1\" xlink:actuate=\"onRequest\" xlink:href=\"psysml:dd0f39f2-d93b-4af4-8d6e-2bae3b2dacf1\" xlink:show=\"new\" xlink:title=\"psysml:dd0f39f2-d93b-4af4-8d6e-2bae3b2dacf1\" xlink:type=\"simple\"><path d=\"M175,133.7 C175,149.89 175,172.27 175,191.49 \" fill=\"none\" id=\"E6-&gt;E3\" style=\"stroke: #A80036; stroke-width: 1.0;\"/><polygon fill=\"#FFFFFF\" points=\"175,211.69,168,192.69,182,192.69,175,211.69\" style=\"stroke: #A80036; stroke-width: 1.0;\"/><ellipse cx=\"170\" cy=\"186.99\" fill=\"#A80036\" rx=\"2\" ry=\"2\" style=\"stroke: #A80036; stroke-width: 1.0;\"/><ellipse cx=\"180\" cy=\"186.99\" fill=\"#A80036\" rx=\"2\" ry=\"2\" style=\"stroke: #A80036; stroke-width: 1.0;\"/></a><!--MD5=[56f4b579dfd85aab81a5081842ae93f8]\n",
       "@startuml\r\n",
       " \r\n",
       "package \"QualifiedNameImportTest\" as E1  [[psysml:a4661f57-6558-47c6-8aa5-037eecc073c9 ]]  {\r\n",
       "package \"P1\" as E2  [[psysml:29f17ec2-4245-49fb-a177-0d25d24d4819 ]]  {\r\n",
       "comp def \"A\" as E3  << (B,green) >> [[psysml:572e0642-2007-40ad-b1a4-6402326f1a76 ]] {\r\n",
       "}\r\n",
       "}\r\n",
       "package \"P2\" as E4  [[psysml:a2f2702a-9aae-4fcb-bcab-ee7ca241440a ]]  {\r\n",
       "package \"P2a\" as E5  [[psysml:584bb17b-e85a-4a43-abf7-54afe3b89034 ]]  {\r\n",
       "}\r\n",
       "comp usage \"x: A\" as E6  << (P,limegreen) part>> [[psysml:1b3157b3-25ca-40f3-9d15-65b1efb05714 ]] {\r\n",
       "}\r\n",
       "E6 - -:|> E3 [[psysml:dd0f39f2-d93b-4af4-8d6e-2bae3b2dacf1 ]] \r\n",
       "}\r\n",
       "}\r\n",
       "@enduml\r\n",
       "\n",
       "PlantUML version 1.2020.13(Sat Jun 13 12:26:38 UTC 2020)\n",
       "(EPL source distribution)\n",
       "Java Runtime: OpenJDK Runtime Environment\n",
       "JVM: OpenJDK 64-Bit Server VM\n",
       "Default Encoding: UTF-8\n",
       "Language: en\n",
       "Country: null\n",
       "--></g></svg>"
      ]
     },
     "execution_count": 31,
     "metadata": {},
     "output_type": "execute_result"
    }
   ],
   "source": [
    "%viz --style=\"PLANTUML\" --view=\"Tree\" \"QualifiedNameImportTest\""
   ]
  },
  {
   "cell_type": "code",
   "execution_count": 32,
   "id": "d07a8761",
   "metadata": {
    "execution": {
     "iopub.execute_input": "2021-05-28T10:48:58.645738Z",
     "iopub.status.busy": "2021-05-28T10:48:58.645360Z",
     "iopub.status.idle": "2021-05-28T10:48:58.762060Z",
     "shell.execute_reply": "2021-05-28T10:48:58.760800Z"
    }
   },
   "outputs": [
    {
     "data": {
      "image/svg+xml": [
       "<?xml version=\"1.0\" encoding=\"UTF-8\" standalone=\"no\"?><svg xmlns=\"http://www.w3.org/2000/svg\" xmlns:xlink=\"http://www.w3.org/1999/xlink\" contentScriptType=\"application/ecmascript\" contentStyleType=\"text/css\" height=\"368px\" preserveAspectRatio=\"none\" style=\"width:603px;height:368px;background:#000000;\" version=\"1.1\" viewBox=\"0 0 603 368\" width=\"603px\" zoomAndPan=\"magnify\"><defs/><g><rect fill=\"#12060F\" height=\"1\" style=\"stroke: #12060F; stroke-width: 1.0;\" width=\"1\" x=\"0\" y=\"0\"/><rect fill=\"#EAE2C9\" height=\"65.1875\" style=\"stroke: #EAE2C9; stroke-width: 1.0;\" width=\"602\" x=\"0\" y=\"0\"/><text fill=\"#000000\" font-family=\"sans-serif\" font-size=\"14\" font-weight=\"bold\" lengthAdjust=\"spacingAndGlyphs\" textLength=\"310\" x=\"10\" y=\"12.9951\">Add your own dedication into PlantUML</text><text fill=\"#000000\" font-family=\"sans-serif\" font-size=\"14\" lengthAdjust=\"spacingAndGlyphs\" textLength=\"0\" x=\"14\" y=\"29.292\"/><text fill=\"#000000\" font-family=\"sans-serif\" font-size=\"14\" lengthAdjust=\"spacingAndGlyphs\" textLength=\"154\" x=\"10\" y=\"45.5889\">For just $5 per month!</text><text fill=\"#000000\" font-family=\"sans-serif\" font-size=\"14\" lengthAdjust=\"spacingAndGlyphs\" textLength=\"69\" x=\"10\" y=\"61.8857\">Details on</text><a href=\"http://plantuml.com/dedication\" target=\"_top\" title=\"http://plantuml.com/dedication\" xlink:actuate=\"onRequest\" xlink:href=\"http://plantuml.com/dedication\" xlink:show=\"new\" xlink:title=\"http://plantuml.com/dedication\" xlink:type=\"simple\"><text fill=\"#000000\" font-family=\"sans-serif\" font-size=\"14\" font-style=\"italic\" lengthAdjust=\"spacingAndGlyphs\" textLength=\"213\" x=\"83\" y=\"61.8857\">http://plantuml.com/dedication</text></a><rect fill=\"#FFFFFF\" height=\"205.5625\" style=\"stroke: #FFFFFF; stroke-width: 1.0;\" width=\"602\" x=\"0\" y=\"65.1875\"/><text fill=\"#000000\" font-family=\"sans-serif\" font-size=\"12\" font-weight=\"bold\" lengthAdjust=\"spacingAndGlyphs\" textLength=\"159\" x=\"5\" y=\"81.3262\">Welcome to PlantUML!</text><text fill=\"#000000\" font-family=\"sans-serif\" font-size=\"12\" lengthAdjust=\"spacingAndGlyphs\" textLength=\"0\" x=\"9\" y=\"95.2949\"/><text fill=\"#000000\" font-family=\"sans-serif\" font-size=\"12\" lengthAdjust=\"spacingAndGlyphs\" textLength=\"293\" x=\"5\" y=\"109.2637\">If you use this software, you accept its license.</text><text fill=\"#000000\" font-family=\"sans-serif\" font-size=\"12\" lengthAdjust=\"spacingAndGlyphs\" textLength=\"107\" x=\"5\" y=\"123.2324\">(details by typing</text><text fill=\"#000000\" font-family=\"monospace\" font-size=\"12\" lengthAdjust=\"spacingAndGlyphs\" textLength=\"49\" x=\"116\" y=\"123.2324\">license</text><text fill=\"#000000\" font-family=\"sans-serif\" font-size=\"12\" lengthAdjust=\"spacingAndGlyphs\" textLength=\"56\" x=\"169\" y=\"123.2324\">keyword)</text><text fill=\"#000000\" font-family=\"sans-serif\" font-size=\"12\" lengthAdjust=\"spacingAndGlyphs\" textLength=\"0\" x=\"9\" y=\"137.2012\"/><text fill=\"#000000\" font-family=\"sans-serif\" font-size=\"12\" lengthAdjust=\"spacingAndGlyphs\" textLength=\"283\" x=\"5\" y=\"151.1699\">You can start with a simple UML Diagram like:</text><text fill=\"#000000\" font-family=\"sans-serif\" font-size=\"12\" lengthAdjust=\"spacingAndGlyphs\" textLength=\"0\" x=\"9\" y=\"165.1387\"/><text fill=\"#000000\" font-family=\"monospace\" font-size=\"12\" lengthAdjust=\"spacingAndGlyphs\" textLength=\"119\" x=\"5\" y=\"179.1074\">Bob-&gt;Alice: Hello</text><text fill=\"#000000\" font-family=\"sans-serif\" font-size=\"12\" lengthAdjust=\"spacingAndGlyphs\" textLength=\"0\" x=\"9\" y=\"193.0762\"/><text fill=\"#000000\" font-family=\"sans-serif\" font-size=\"12\" lengthAdjust=\"spacingAndGlyphs\" textLength=\"14\" x=\"5\" y=\"207.0449\">Or</text><text fill=\"#000000\" font-family=\"sans-serif\" font-size=\"12\" lengthAdjust=\"spacingAndGlyphs\" textLength=\"0\" x=\"9\" y=\"221.0137\"/><text fill=\"#000000\" font-family=\"monospace\" font-size=\"12\" lengthAdjust=\"spacingAndGlyphs\" textLength=\"91\" x=\"5\" y=\"234.9824\">class Example</text><text fill=\"#000000\" font-family=\"sans-serif\" font-size=\"12\" lengthAdjust=\"spacingAndGlyphs\" textLength=\"0\" x=\"9\" y=\"248.9512\"/><text fill=\"#000000\" font-family=\"sans-serif\" font-size=\"12\" lengthAdjust=\"spacingAndGlyphs\" textLength=\"349\" x=\"5\" y=\"262.9199\">You will find more information about PlantUML syntax on</text><text fill=\"#000000\" font-family=\"sans-serif\" font-size=\"12\" lengthAdjust=\"spacingAndGlyphs\" text-decoration=\"underline\" textLength=\"129\" x=\"358\" y=\"262.9199\">https://plantuml.com</text><image height=\"71\" width=\"80\" x=\"516\" xlink:href=\"data:image/png;base64,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\" y=\"71.1875\"/><rect fill=\"#000000\" height=\"96.4844\" style=\"stroke: #000000; stroke-width: 1.0;\" width=\"602\" x=\"0\" y=\"270.75\"/><rect fill=\"#33FF02\" height=\"21.2969\" style=\"stroke: #33FF02; stroke-width: 1.0;\" width=\"170\" x=\"5\" y=\"275.75\"/><text fill=\"#000000\" font-family=\"sans-serif\" font-size=\"14\" font-weight=\"bold\" lengthAdjust=\"spacingAndGlyphs\" textLength=\"168\" x=\"6\" y=\"290.75\">[From string (line 2) ]</text><text fill=\"#33FF02\" font-family=\"sans-serif\" font-size=\"14\" font-weight=\"bold\" lengthAdjust=\"spacingAndGlyphs\" textLength=\"0\" x=\"10\" y=\"311.0469\"/><text fill=\"#33FF02\" font-family=\"sans-serif\" font-size=\"14\" font-weight=\"bold\" lengthAdjust=\"spacingAndGlyphs\" textLength=\"79\" x=\"5\" y=\"327.3438\">@startuml</text><text fill=\"#33FF02\" font-family=\"sans-serif\" font-size=\"14\" font-weight=\"bold\" lengthAdjust=\"spacingAndGlyphs\" textLength=\"0\" x=\"10\" y=\"343.6406\"/><text fill=\"#FF0000\" font-family=\"sans-serif\" font-size=\"14\" font-weight=\"bold\" lengthAdjust=\"spacingAndGlyphs\" textLength=\"142\" x=\"10\" y=\"359.9375\">Empty description</text><!--MD5=[f59edd8218d337f74d0c332fc6737304]\n",
       "@startuml\r\n",
       " \r\n",
       "@enduml\r\n",
       "\n",
       "PlantUML version 1.2020.13(Sat Jun 13 12:26:38 UTC 2020)\n",
       "(EPL source distribution)\n",
       "Java Runtime: OpenJDK Runtime Environment\n",
       "JVM: OpenJDK 64-Bit Server VM\n",
       "Default Encoding: UTF-8\n",
       "Language: en\n",
       "Country: null\n",
       "--></g></svg>"
      ]
     },
     "execution_count": 32,
     "metadata": {},
     "output_type": "execute_result"
    }
   ],
   "source": [
    "%viz --style=\"PLANTUML\" --view=\"State\" \"QualifiedNameImportTest\""
   ]
  },
  {
   "cell_type": "code",
   "execution_count": 33,
   "id": "a89351e8",
   "metadata": {
    "execution": {
     "iopub.execute_input": "2021-05-28T10:48:58.815416Z",
     "iopub.status.busy": "2021-05-28T10:48:58.814633Z",
     "iopub.status.idle": "2021-05-28T10:48:58.844489Z",
     "shell.execute_reply": "2021-05-28T10:48:58.843057Z"
    }
   },
   "outputs": [
    {
     "data": {
      "image/svg+xml": [
       "<?xml version=\"1.0\" encoding=\"UTF-8\" standalone=\"no\"?><svg xmlns=\"http://www.w3.org/2000/svg\" xmlns:xlink=\"http://www.w3.org/1999/xlink\" contentScriptType=\"application/ecmascript\" contentStyleType=\"text/css\" height=\"189px\" preserveAspectRatio=\"none\" style=\"width:368px;height:189px;\" version=\"1.1\" viewBox=\"0 0 368 189\" width=\"368px\" zoomAndPan=\"magnify\"><defs><filter height=\"300%\" id=\"fn0vpuzlwqsi9\" width=\"300%\" x=\"-1\" y=\"-1\"><feGaussianBlur result=\"blurOut\" stdDeviation=\"2.0\"/><feColorMatrix in=\"blurOut\" result=\"blurOut2\" type=\"matrix\" values=\"0 0 0 0 0 0 0 0 0 0 0 0 0 0 0 0 0 0 .4 0\"/><feOffset dx=\"4.0\" dy=\"4.0\" in=\"blurOut2\" result=\"blurOut3\"/><feBlend in=\"SourceGraphic\" in2=\"blurOut3\" mode=\"normal\"/></filter></defs><g><!--MD5=[fbc87193dbaf4d95561dea2c320d4a47]\n",
       "cluster E1--><a href=\"psysml:a4661f57-6558-47c6-8aa5-037eecc073c9\" target=\"_top\" title=\"psysml:a4661f57-6558-47c6-8aa5-037eecc073c9\" xlink:actuate=\"onRequest\" xlink:href=\"psysml:a4661f57-6558-47c6-8aa5-037eecc073c9\" xlink:show=\"new\" xlink:title=\"psysml:a4661f57-6558-47c6-8aa5-037eecc073c9\" xlink:type=\"simple\"><polygon fill=\"#FFFFFF\" filter=\"url(#fn0vpuzlwqsi9)\" points=\"16,6,221,6,228,28.2969,346,28.2969,346,177,16,177,16,6\" style=\"stroke: #000000; stroke-width: 1.5;\"/><line style=\"stroke: #000000; stroke-width: 1.5;\" x1=\"16\" x2=\"228\" y1=\"28.2969\" y2=\"28.2969\"/><text fill=\"#000000\" font-family=\"sans-serif\" font-size=\"14\" font-weight=\"bold\" lengthAdjust=\"spacingAndGlyphs\" textLength=\"199\" x=\"20\" y=\"20.9951\">QualifiedNameImportTest</text></a><!--MD5=[e4f7fae6ed58524ba242bb0b0d3be6b7]\n",
       "cluster E2--><a href=\"psysml:29f17ec2-4245-49fb-a177-0d25d24d4819\" target=\"_top\" title=\"psysml:29f17ec2-4245-49fb-a177-0d25d24d4819\" xlink:actuate=\"onRequest\" xlink:href=\"psysml:29f17ec2-4245-49fb-a177-0d25d24d4819\" xlink:show=\"new\" xlink:title=\"psysml:29f17ec2-4245-49fb-a177-0d25d24d4819\" xlink:type=\"simple\"><polygon fill=\"#FFFFFF\" filter=\"url(#fn0vpuzlwqsi9)\" points=\"240,55.5,266,55.5,273,77.7969,322,77.7969,322,146.5,240,146.5,240,55.5\" style=\"stroke: #000000; stroke-width: 1.5;\"/><line style=\"stroke: #000000; stroke-width: 1.5;\" x1=\"240\" x2=\"273\" y1=\"77.7969\" y2=\"77.7969\"/><text fill=\"#000000\" font-family=\"sans-serif\" font-size=\"14\" font-weight=\"bold\" lengthAdjust=\"spacingAndGlyphs\" textLength=\"20\" x=\"244\" y=\"70.4951\">P1</text></a><!--MD5=[f6df4d0ebaf0b5dfb2ced0ae5af7c670]\n",
       "cluster E4--><a href=\"psysml:a2f2702a-9aae-4fcb-bcab-ee7ca241440a\" target=\"_top\" title=\"psysml:a2f2702a-9aae-4fcb-bcab-ee7ca241440a\" xlink:actuate=\"onRequest\" xlink:href=\"psysml:a2f2702a-9aae-4fcb-bcab-ee7ca241440a\" xlink:show=\"new\" xlink:title=\"psysml:a2f2702a-9aae-4fcb-bcab-ee7ca241440a\" xlink:type=\"simple\"><polygon fill=\"#FFFFFF\" filter=\"url(#fn0vpuzlwqsi9)\" points=\"40,49,66,49,73,71.2969,216,71.2969,216,153,40,153,40,49\" style=\"stroke: #000000; stroke-width: 1.5;\"/><line style=\"stroke: #000000; stroke-width: 1.5;\" x1=\"40\" x2=\"73\" y1=\"71.2969\" y2=\"71.2969\"/><text fill=\"#000000\" font-family=\"sans-serif\" font-size=\"14\" font-weight=\"bold\" lengthAdjust=\"spacingAndGlyphs\" textLength=\"20\" x=\"44\" y=\"63.9951\">P2</text></a><g id=\"E1.E2.E3\"><a href=\"psysml:572e0642-2007-40ad-b1a4-6402326f1a76\" target=\"_top\" title=\"psysml:572e0642-2007-40ad-b1a4-6402326f1a76\" xlink:actuate=\"onRequest\" xlink:href=\"psysml:572e0642-2007-40ad-b1a4-6402326f1a76\" xlink:show=\"new\" xlink:title=\"psysml:572e0642-2007-40ad-b1a4-6402326f1a76\" xlink:type=\"simple\"><rect fill=\"#FEFECE\" filter=\"url(#fn0vpuzlwqsi9)\" height=\"40\" id=\"E3\" style=\"stroke: #A80036; stroke-width: 1.5;\" width=\"50\" x=\"256\" y=\"90.5\"/><ellipse cx=\"275.5\" cy=\"106.5\" fill=\"#008000\" rx=\"11\" ry=\"11\" style=\"stroke: #A80036; stroke-width: 1.0;\"/><path d=\"M274.4063,106.875 L274.4063,110.5469 L276.0313,110.5469 Q277.2031,110.5469 277.6719,110.1563 Q278.1406,109.75 278.1406,108.75 Q278.1406,107.75 277.6406,107.3125 Q277.1563,106.875 276.0313,106.875 L274.4063,106.875 Z M274.4063,102.0469 L274.4063,104.9219 L276.0313,104.9219 Q276.9531,104.9219 277.3438,104.5938 Q277.75,104.25 277.75,103.5 Q277.75,102.7344 277.3438,102.3906 Q276.9375,102.0469 276.0313,102.0469 L274.4063,102.0469 Z M272.0313,100.0938 L276.0313,100.0938 Q278.0938,100.0938 279.1406,100.875 Q280.1875,101.6563 280.1875,103.2188 Q280.1875,104.4219 279.5625,105.0938 Q278.9531,105.7656 277.7656,105.875 Q279.1875,106.0156 279.9063,106.8281 Q280.625,107.6406 280.625,109.0938 Q280.625,110.8906 279.5469,111.7031 Q278.4688,112.5 276.0313,112.5 L272.0313,112.5 L272.0313,100.0938 Z \"/><text fill=\"#000000\" font-family=\"sans-serif\" font-size=\"12\" lengthAdjust=\"spacingAndGlyphs\" textLength=\"8\" x=\"290.5\" y=\"110.6543\">A</text></a></g><a href=\"psysml:584bb17b-e85a-4a43-abf7-54afe3b89034\" target=\"_top\" title=\"psysml:584bb17b-e85a-4a43-abf7-54afe3b89034\" xlink:actuate=\"onRequest\" xlink:href=\"psysml:584bb17b-e85a-4a43-abf7-54afe3b89034\" xlink:show=\"new\" xlink:title=\"psysml:584bb17b-e85a-4a43-abf7-54afe3b89034\" xlink:type=\"simple\"><polygon fill=\"#FFFFFF\" filter=\"url(#fn0vpuzlwqsi9)\" points=\"150.5,84,185.5,84,192.5,106.2969,199.5,106.2969,199.5,136.5938,150.5,136.5938,150.5,84\" style=\"stroke: #000000; stroke-width: 1.5;\"/><line style=\"stroke: #000000; stroke-width: 1.5;\" x1=\"150.5\" x2=\"192.5\" y1=\"106.2969\" y2=\"106.2969\"/><text fill=\"#000000\" font-family=\"sans-serif\" font-size=\"14\" font-weight=\"bold\" lengthAdjust=\"spacingAndGlyphs\" textLength=\"29\" x=\"154.5\" y=\"98.9951\">P2a</text></a><g id=\"E1.E4.E6\"><a href=\"psysml:1b3157b3-25ca-40f3-9d15-65b1efb05714\" target=\"_top\" title=\"psysml:1b3157b3-25ca-40f3-9d15-65b1efb05714\" xlink:actuate=\"onRequest\" xlink:href=\"psysml:1b3157b3-25ca-40f3-9d15-65b1efb05714\" xlink:show=\"new\" xlink:title=\"psysml:1b3157b3-25ca-40f3-9d15-65b1efb05714\" xlink:type=\"simple\"><rect fill=\"#FEFECE\" filter=\"url(#fn0vpuzlwqsi9)\" height=\"40\" id=\"E6\" rx=\"10\" ry=\"10\" style=\"stroke: #A80036; stroke-width: 1.5;\" width=\"59\" x=\"56.5\" y=\"90.5\"/><ellipse cx=\"73.75\" cy=\"106.5\" fill=\"#B6DBBB\" rx=\"11\" ry=\"11\" style=\"stroke: #A80036; stroke-width: 1.0;\"/><path d=\"M69.625,108.4219 L69.625,100.6094 L72.0781,100.6094 L72.0781,109.0469 Q72.0781,109.9688 72.5469,110.5 Q73.0313,111.0313 73.8594,111.0313 Q74.7031,111.0313 75.1719,110.5 Q75.6406,109.9688 75.6406,109.0469 L75.6406,100.6094 L78.0938,100.6094 L78.0938,108.4219 Q78.0938,110.9531 77.0938,112.0938 Q76.0938,113.2344 73.8594,113.2344 Q71.6406,113.2344 70.625,112.0938 Q69.625,110.9531 69.625,108.4219 Z \"/><text fill=\"#000000\" font-family=\"sans-serif\" font-size=\"12\" lengthAdjust=\"spacingAndGlyphs\" textLength=\"22\" x=\"88.25\" y=\"110.6543\">x: A</text></a></g><!--MD5=[eb920020546f4abc2cc60fdf02a6e4ed]\n",
       "@startuml\r\n",
       "skinparam ranksep 10\r\n",
       "skinparam rectangle {\r\n",
       " backgroundColor<<block>> LightGreen\r\n",
       "}\r\n",
       " \r\n",
       "package \"QualifiedNameImportTest\" as E1  [[psysml:a4661f57-6558-47c6-8aa5-037eecc073c9 ]]  {\r\n",
       "package \"P1\" as E2  [[psysml:29f17ec2-4245-49fb-a177-0d25d24d4819 ]]  {\r\n",
       "rec def \"A\" as E3  << (B,green) >> [[psysml:572e0642-2007-40ad-b1a4-6402326f1a76 ]] {\r\n",
       "}\r\n",
       "}\r\n",
       "package \"P2\" as E4  [[psysml:a2f2702a-9aae-4fcb-bcab-ee7ca241440a ]]  {\r\n",
       "package \"P2a\" as E5  [[psysml:584bb17b-e85a-4a43-abf7-54afe3b89034 ]]  {\r\n",
       "}\r\n",
       "rec usage \"x: A\" as E6  [[psysml:1b3157b3-25ca-40f3-9d15-65b1efb05714 ]] {\r\n",
       "}\r\n",
       "}\r\n",
       "}\r\n",
       "@enduml\r\n",
       "\n",
       "PlantUML version 1.2020.13(Sat Jun 13 12:26:38 UTC 2020)\n",
       "(EPL source distribution)\n",
       "Java Runtime: OpenJDK Runtime Environment\n",
       "JVM: OpenJDK 64-Bit Server VM\n",
       "Default Encoding: UTF-8\n",
       "Language: en\n",
       "Country: null\n",
       "--></g></svg>"
      ]
     },
     "execution_count": 33,
     "metadata": {},
     "output_type": "execute_result"
    }
   ],
   "source": [
    "%viz --style=\"PLANTUML\" --view=\"Interconnection\" \"QualifiedNameImportTest\""
   ]
  },
  {
   "cell_type": "code",
   "execution_count": 34,
   "id": "b41e2e2b",
   "metadata": {
    "execution": {
     "iopub.execute_input": "2021-05-28T10:48:58.896381Z",
     "iopub.status.busy": "2021-05-28T10:48:58.895593Z",
     "iopub.status.idle": "2021-05-28T10:48:58.901948Z",
     "shell.execute_reply": "2021-05-28T10:48:58.901574Z"
    }
   },
   "outputs": [
    {
     "data": {
      "image/svg+xml": [
       "<?xml version=\"1.0\" encoding=\"UTF-8\" standalone=\"no\"?><svg xmlns=\"http://www.w3.org/2000/svg\" xmlns:xlink=\"http://www.w3.org/1999/xlink\" contentScriptType=\"application/ecmascript\" contentStyleType=\"text/css\" height=\"12px\" preserveAspectRatio=\"none\" style=\"width:12px;height:12px;\" version=\"1.1\" viewBox=\"0 0 12 12\" width=\"12px\" zoomAndPan=\"magnify\"><defs/><g><!--MD5=[6a4cb978cab31700e1ce5529f947a75d]\n",
       "@startuml\r\n",
       "skinparam ranksep 8\r\n",
       " \r\n",
       "@enduml\r\n",
       "\n",
       "PlantUML version 1.2020.13(Sat Jun 13 12:26:38 UTC 2020)\n",
       "(EPL source distribution)\n",
       "Java Runtime: OpenJDK Runtime Environment\n",
       "JVM: OpenJDK 64-Bit Server VM\n",
       "Default Encoding: UTF-8\n",
       "Language: en\n",
       "Country: null\n",
       "--></g></svg>"
      ]
     },
     "execution_count": 34,
     "metadata": {},
     "output_type": "execute_result"
    }
   ],
   "source": [
    "%viz --style=\"PLANTUML\" --view=\"Action\" \"QualifiedNameImportTest\""
   ]
  },
  {
   "cell_type": "code",
   "execution_count": 35,
   "id": "77dd5e2a",
   "metadata": {
    "execution": {
     "iopub.execute_input": "2021-05-28T10:48:58.953924Z",
     "iopub.status.busy": "2021-05-28T10:48:58.953100Z",
     "iopub.status.idle": "2021-05-28T10:48:58.983189Z",
     "shell.execute_reply": "2021-05-28T10:48:58.981934Z"
    }
   },
   "outputs": [
    {
     "data": {
      "image/svg+xml": [
       "<?xml version=\"1.0\" encoding=\"UTF-8\" standalone=\"no\"?><svg xmlns=\"http://www.w3.org/2000/svg\" xmlns:xlink=\"http://www.w3.org/1999/xlink\" contentScriptType=\"application/ecmascript\" contentStyleType=\"text/css\" height=\"304px\" preserveAspectRatio=\"none\" style=\"width:271px;height:304px;\" version=\"1.1\" viewBox=\"0 0 271 304\" width=\"271px\" zoomAndPan=\"magnify\"><defs><filter height=\"300%\" id=\"f1lqdozfl6s1zg\" width=\"300%\" x=\"-1\" y=\"-1\"><feGaussianBlur result=\"blurOut\" stdDeviation=\"2.0\"/><feColorMatrix in=\"blurOut\" result=\"blurOut2\" type=\"matrix\" values=\"0 0 0 0 0 0 0 0 0 0 0 0 0 0 0 0 0 0 .4 0\"/><feOffset dx=\"4.0\" dy=\"4.0\" in=\"blurOut2\" result=\"blurOut3\"/><feBlend in=\"SourceGraphic\" in2=\"blurOut3\" mode=\"normal\"/></filter></defs><g><!--MD5=[fbc87193dbaf4d95561dea2c320d4a47]\n",
       "cluster E1--><a href=\"psysml:a4661f57-6558-47c6-8aa5-037eecc073c9\" target=\"_top\" title=\"psysml:a4661f57-6558-47c6-8aa5-037eecc073c9\" xlink:actuate=\"onRequest\" xlink:href=\"psysml:a4661f57-6558-47c6-8aa5-037eecc073c9\" xlink:show=\"new\" xlink:title=\"psysml:a4661f57-6558-47c6-8aa5-037eecc073c9\" xlink:type=\"simple\"><polygon fill=\"#FFFFFF\" filter=\"url(#f1lqdozfl6s1zg)\" points=\"16,6,221,6,228,28.2969,249,28.2969,249,292,16,292,16,6\" style=\"stroke: #000000; stroke-width: 1.5;\"/><line style=\"stroke: #000000; stroke-width: 1.5;\" x1=\"16\" x2=\"228\" y1=\"28.2969\" y2=\"28.2969\"/><text fill=\"#000000\" font-family=\"sans-serif\" font-size=\"14\" font-weight=\"bold\" lengthAdjust=\"spacingAndGlyphs\" textLength=\"199\" x=\"20\" y=\"20.9951\">QualifiedNameImportTest</text></a><!--MD5=[e4f7fae6ed58524ba242bb0b0d3be6b7]\n",
       "cluster E2--><a href=\"psysml:29f17ec2-4245-49fb-a177-0d25d24d4819\" target=\"_top\" title=\"psysml:29f17ec2-4245-49fb-a177-0d25d24d4819\" xlink:actuate=\"onRequest\" xlink:href=\"psysml:29f17ec2-4245-49fb-a177-0d25d24d4819\" xlink:show=\"new\" xlink:title=\"psysml:29f17ec2-4245-49fb-a177-0d25d24d4819\" xlink:type=\"simple\"><polygon fill=\"#FFFFFF\" filter=\"url(#f1lqdozfl6s1zg)\" points=\"139,177,165,177,172,199.2969,211,199.2969,211,268,139,268,139,177\" style=\"stroke: #000000; stroke-width: 1.5;\"/><line style=\"stroke: #000000; stroke-width: 1.5;\" x1=\"139\" x2=\"172\" y1=\"199.2969\" y2=\"199.2969\"/><text fill=\"#000000\" font-family=\"sans-serif\" font-size=\"14\" font-weight=\"bold\" lengthAdjust=\"spacingAndGlyphs\" textLength=\"20\" x=\"143\" y=\"191.9951\">P1</text></a><!--MD5=[f6df4d0ebaf0b5dfb2ced0ae5af7c670]\n",
       "cluster E4--><a href=\"psysml:a2f2702a-9aae-4fcb-bcab-ee7ca241440a\" target=\"_top\" title=\"psysml:a2f2702a-9aae-4fcb-bcab-ee7ca241440a\" xlink:actuate=\"onRequest\" xlink:href=\"psysml:a2f2702a-9aae-4fcb-bcab-ee7ca241440a\" xlink:show=\"new\" xlink:title=\"psysml:a2f2702a-9aae-4fcb-bcab-ee7ca241440a\" xlink:type=\"simple\"><polygon fill=\"#FFFFFF\" filter=\"url(#f1lqdozfl6s1zg)\" points=\"40,49,66,49,73,71.2969,225,71.2969,225,153,40,153,40,49\" style=\"stroke: #000000; stroke-width: 1.5;\"/><line style=\"stroke: #000000; stroke-width: 1.5;\" x1=\"40\" x2=\"73\" y1=\"71.2969\" y2=\"71.2969\"/><text fill=\"#000000\" font-family=\"sans-serif\" font-size=\"14\" font-weight=\"bold\" lengthAdjust=\"spacingAndGlyphs\" textLength=\"20\" x=\"44\" y=\"63.9951\">P2</text></a><!--MD5=[09b614a08d8cba4a07c9adeb5e0fee81]\n",
       "class E3--><a href=\"psysml:572e0642-2007-40ad-b1a4-6402326f1a76\" target=\"_top\" title=\"psysml:572e0642-2007-40ad-b1a4-6402326f1a76\" xlink:actuate=\"onRequest\" xlink:href=\"psysml:572e0642-2007-40ad-b1a4-6402326f1a76\" xlink:show=\"new\" xlink:title=\"psysml:572e0642-2007-40ad-b1a4-6402326f1a76\" xlink:type=\"simple\"><rect fill=\"#FEFECE\" filter=\"url(#f1lqdozfl6s1zg)\" height=\"40\" id=\"E3\" style=\"stroke: #A80036; stroke-width: 1.5;\" width=\"40\" x=\"155\" y=\"212\"/><ellipse cx=\"170\" cy=\"228\" fill=\"#008000\" rx=\"11\" ry=\"11\" style=\"stroke: #A80036; stroke-width: 1.0;\"/><path d=\"M168.9063,228.375 L168.9063,232.0469 L170.5313,232.0469 Q171.7031,232.0469 172.1719,231.6563 Q172.6406,231.25 172.6406,230.25 Q172.6406,229.25 172.1406,228.8125 Q171.6563,228.375 170.5313,228.375 L168.9063,228.375 Z M168.9063,223.5469 L168.9063,226.4219 L170.5313,226.4219 Q171.4531,226.4219 171.8438,226.0938 Q172.25,225.75 172.25,225 Q172.25,224.2344 171.8438,223.8906 Q171.4375,223.5469 170.5313,223.5469 L168.9063,223.5469 Z M166.5313,221.5938 L170.5313,221.5938 Q172.5938,221.5938 173.6406,222.375 Q174.6875,223.1563 174.6875,224.7188 Q174.6875,225.9219 174.0625,226.5938 Q173.4531,227.2656 172.2656,227.375 Q173.6875,227.5156 174.4063,228.3281 Q175.125,229.1406 175.125,230.5938 Q175.125,232.3906 174.0469,233.2031 Q172.9688,234 170.5313,234 L166.5313,234 L166.5313,221.5938 Z \"/><text fill=\"#000000\" font-family=\"sans-serif\" font-size=\"12\" lengthAdjust=\"spacingAndGlyphs\" textLength=\"8\" x=\"184\" y=\"232.1543\">A</text><line style=\"stroke: #A80036; stroke-width: 1.5;\" x1=\"156\" x2=\"194\" y1=\"244\" y2=\"244\"/></a><!--MD5=[60a26617385b1d2d0262a64233df1f8d]\n",
       "class E6--><a href=\"psysml:1b3157b3-25ca-40f3-9d15-65b1efb05714\" target=\"_top\" title=\"psysml:1b3157b3-25ca-40f3-9d15-65b1efb05714\" xlink:actuate=\"onRequest\" xlink:href=\"psysml:1b3157b3-25ca-40f3-9d15-65b1efb05714\" xlink:show=\"new\" xlink:title=\"psysml:1b3157b3-25ca-40f3-9d15-65b1efb05714\" xlink:type=\"simple\"><rect fill=\"#FEFECE\" filter=\"url(#f1lqdozfl6s1zg)\" height=\"45.9375\" id=\"E6\" rx=\"10\" ry=\"10\" style=\"stroke: #A80036; stroke-width: 1.5;\" width=\"68\" x=\"141\" y=\"87.5\"/><ellipse cx=\"156\" cy=\"106.4688\" fill=\"#32CD32\" rx=\"11\" ry=\"11\" style=\"stroke: #A80036; stroke-width: 1.0;\"/><path d=\"M155.7969,102.1406 L155.7969,105.7656 L156.7969,105.7656 Q158,105.7656 158.4844,105.3594 Q158.9688,104.9531 158.9688,103.9531 Q158.9688,102.9531 158.4844,102.5469 Q158,102.1406 156.7969,102.1406 L155.7969,102.1406 Z M153.3438,100.0781 L156.7031,100.0781 Q159.2656,100.0781 160.3906,101 Q161.5156,101.9063 161.5156,103.9531 Q161.5156,106 160.3906,106.9219 Q159.2656,107.8281 156.7031,107.8281 L155.7969,107.8281 L155.7969,112.4688 L153.3438,112.4688 L153.3438,100.0781 Z \"/><text fill=\"#000000\" font-family=\"sans-serif\" font-size=\"12\" font-style=\"italic\" lengthAdjust=\"spacingAndGlyphs\" textLength=\"40\" x=\"168\" y=\"103.6387\">«part»</text><text fill=\"#000000\" font-family=\"sans-serif\" font-size=\"12\" lengthAdjust=\"spacingAndGlyphs\" textLength=\"22\" x=\"177\" y=\"117.6074\">x: A</text><line style=\"stroke: #A80036; stroke-width: 1.5;\" x1=\"142\" x2=\"208\" y1=\"125.4375\" y2=\"125.4375\"/></a><a href=\"psysml:584bb17b-e85a-4a43-abf7-54afe3b89034\" target=\"_top\" title=\"psysml:584bb17b-e85a-4a43-abf7-54afe3b89034\" xlink:actuate=\"onRequest\" xlink:href=\"psysml:584bb17b-e85a-4a43-abf7-54afe3b89034\" xlink:show=\"new\" xlink:title=\"psysml:584bb17b-e85a-4a43-abf7-54afe3b89034\" xlink:type=\"simple\"><polygon fill=\"#FFFFFF\" filter=\"url(#f1lqdozfl6s1zg)\" points=\"56.5,84,91.5,84,98.5,106.2969,105.5,106.2969,105.5,136.5938,56.5,136.5938,56.5,84\" style=\"stroke: #000000; stroke-width: 1.5;\"/><line style=\"stroke: #000000; stroke-width: 1.5;\" x1=\"56.5\" x2=\"98.5\" y1=\"106.2969\" y2=\"106.2969\"/><text fill=\"#000000\" font-family=\"sans-serif\" font-size=\"14\" font-weight=\"bold\" lengthAdjust=\"spacingAndGlyphs\" textLength=\"29\" x=\"60.5\" y=\"98.9951\">P2a</text></a><!--MD5=[a717450b82c80b9240a525fa862496af]\n",
       "link E6 to E3--><a href=\"psysml:dd0f39f2-d93b-4af4-8d6e-2bae3b2dacf1\" target=\"_top\" title=\"psysml:dd0f39f2-d93b-4af4-8d6e-2bae3b2dacf1\" xlink:actuate=\"onRequest\" xlink:href=\"psysml:dd0f39f2-d93b-4af4-8d6e-2bae3b2dacf1\" xlink:show=\"new\" xlink:title=\"psysml:dd0f39f2-d93b-4af4-8d6e-2bae3b2dacf1\" xlink:type=\"simple\"><path d=\"M175,133.7 C175,149.89 175,172.27 175,191.49 \" fill=\"none\" id=\"E6-&gt;E3\" style=\"stroke: #A80036; stroke-width: 1.0;\"/><polygon fill=\"#FFFFFF\" points=\"175,211.69,168,192.69,182,192.69,175,211.69\" style=\"stroke: #A80036; stroke-width: 1.0;\"/><ellipse cx=\"170\" cy=\"186.99\" fill=\"#A80036\" rx=\"2\" ry=\"2\" style=\"stroke: #A80036; stroke-width: 1.0;\"/><ellipse cx=\"180\" cy=\"186.99\" fill=\"#A80036\" rx=\"2\" ry=\"2\" style=\"stroke: #A80036; stroke-width: 1.0;\"/></a><!--MD5=[56f4b579dfd85aab81a5081842ae93f8]\n",
       "@startuml\r\n",
       " \r\n",
       "package \"QualifiedNameImportTest\" as E1  [[psysml:a4661f57-6558-47c6-8aa5-037eecc073c9 ]]  {\r\n",
       "package \"P1\" as E2  [[psysml:29f17ec2-4245-49fb-a177-0d25d24d4819 ]]  {\r\n",
       "comp def \"A\" as E3  << (B,green) >> [[psysml:572e0642-2007-40ad-b1a4-6402326f1a76 ]] {\r\n",
       "}\r\n",
       "}\r\n",
       "package \"P2\" as E4  [[psysml:a2f2702a-9aae-4fcb-bcab-ee7ca241440a ]]  {\r\n",
       "package \"P2a\" as E5  [[psysml:584bb17b-e85a-4a43-abf7-54afe3b89034 ]]  {\r\n",
       "}\r\n",
       "comp usage \"x: A\" as E6  << (P,limegreen) part>> [[psysml:1b3157b3-25ca-40f3-9d15-65b1efb05714 ]] {\r\n",
       "}\r\n",
       "E6 - -:|> E3 [[psysml:dd0f39f2-d93b-4af4-8d6e-2bae3b2dacf1 ]] \r\n",
       "}\r\n",
       "}\r\n",
       "@enduml\r\n",
       "\n",
       "PlantUML version 1.2020.13(Sat Jun 13 12:26:38 UTC 2020)\n",
       "(EPL source distribution)\n",
       "Java Runtime: OpenJDK Runtime Environment\n",
       "JVM: OpenJDK 64-Bit Server VM\n",
       "Default Encoding: UTF-8\n",
       "Language: en\n",
       "Country: null\n",
       "--></g></svg>"
      ]
     },
     "execution_count": 35,
     "metadata": {},
     "output_type": "execute_result"
    }
   ],
   "source": [
    "%viz --style=\"PLANTUML\" --view=\"Sequence\" \"QualifiedNameImportTest\""
   ]
  },
  {
   "cell_type": "code",
   "execution_count": 36,
   "id": "dc244d33",
   "metadata": {
    "execution": {
     "iopub.execute_input": "2021-05-28T10:48:59.033799Z",
     "iopub.status.busy": "2021-05-28T10:48:59.032529Z",
     "iopub.status.idle": "2021-05-28T10:48:59.071368Z",
     "shell.execute_reply": "2021-05-28T10:48:59.070197Z"
    }
   },
   "outputs": [
    {
     "data": {
      "image/svg+xml": [
       "<?xml version=\"1.0\" encoding=\"UTF-8\" standalone=\"no\"?><svg xmlns=\"http://www.w3.org/2000/svg\" xmlns:xlink=\"http://www.w3.org/1999/xlink\" contentScriptType=\"application/ecmascript\" contentStyleType=\"text/css\" height=\"304px\" preserveAspectRatio=\"none\" style=\"width:271px;height:304px;\" version=\"1.1\" viewBox=\"0 0 271 304\" width=\"271px\" zoomAndPan=\"magnify\"><defs><filter height=\"300%\" id=\"f1lqdozfl6s1zg\" width=\"300%\" x=\"-1\" y=\"-1\"><feGaussianBlur result=\"blurOut\" stdDeviation=\"2.0\"/><feColorMatrix in=\"blurOut\" result=\"blurOut2\" type=\"matrix\" values=\"0 0 0 0 0 0 0 0 0 0 0 0 0 0 0 0 0 0 .4 0\"/><feOffset dx=\"4.0\" dy=\"4.0\" in=\"blurOut2\" result=\"blurOut3\"/><feBlend in=\"SourceGraphic\" in2=\"blurOut3\" mode=\"normal\"/></filter></defs><g><!--MD5=[fbc87193dbaf4d95561dea2c320d4a47]\n",
       "cluster E1--><a href=\"psysml:a4661f57-6558-47c6-8aa5-037eecc073c9\" target=\"_top\" title=\"psysml:a4661f57-6558-47c6-8aa5-037eecc073c9\" xlink:actuate=\"onRequest\" xlink:href=\"psysml:a4661f57-6558-47c6-8aa5-037eecc073c9\" xlink:show=\"new\" xlink:title=\"psysml:a4661f57-6558-47c6-8aa5-037eecc073c9\" xlink:type=\"simple\"><polygon fill=\"#FFFFFF\" filter=\"url(#f1lqdozfl6s1zg)\" points=\"16,6,221,6,228,28.2969,249,28.2969,249,292,16,292,16,6\" style=\"stroke: #000000; stroke-width: 1.5;\"/><line style=\"stroke: #000000; stroke-width: 1.5;\" x1=\"16\" x2=\"228\" y1=\"28.2969\" y2=\"28.2969\"/><text fill=\"#000000\" font-family=\"sans-serif\" font-size=\"14\" font-weight=\"bold\" lengthAdjust=\"spacingAndGlyphs\" textLength=\"199\" x=\"20\" y=\"20.9951\">QualifiedNameImportTest</text></a><!--MD5=[e4f7fae6ed58524ba242bb0b0d3be6b7]\n",
       "cluster E2--><a href=\"psysml:29f17ec2-4245-49fb-a177-0d25d24d4819\" target=\"_top\" title=\"psysml:29f17ec2-4245-49fb-a177-0d25d24d4819\" xlink:actuate=\"onRequest\" xlink:href=\"psysml:29f17ec2-4245-49fb-a177-0d25d24d4819\" xlink:show=\"new\" xlink:title=\"psysml:29f17ec2-4245-49fb-a177-0d25d24d4819\" xlink:type=\"simple\"><polygon fill=\"#FFFFFF\" filter=\"url(#f1lqdozfl6s1zg)\" points=\"139,177,165,177,172,199.2969,211,199.2969,211,268,139,268,139,177\" style=\"stroke: #000000; stroke-width: 1.5;\"/><line style=\"stroke: #000000; stroke-width: 1.5;\" x1=\"139\" x2=\"172\" y1=\"199.2969\" y2=\"199.2969\"/><text fill=\"#000000\" font-family=\"sans-serif\" font-size=\"14\" font-weight=\"bold\" lengthAdjust=\"spacingAndGlyphs\" textLength=\"20\" x=\"143\" y=\"191.9951\">P1</text></a><!--MD5=[f6df4d0ebaf0b5dfb2ced0ae5af7c670]\n",
       "cluster E4--><a href=\"psysml:a2f2702a-9aae-4fcb-bcab-ee7ca241440a\" target=\"_top\" title=\"psysml:a2f2702a-9aae-4fcb-bcab-ee7ca241440a\" xlink:actuate=\"onRequest\" xlink:href=\"psysml:a2f2702a-9aae-4fcb-bcab-ee7ca241440a\" xlink:show=\"new\" xlink:title=\"psysml:a2f2702a-9aae-4fcb-bcab-ee7ca241440a\" xlink:type=\"simple\"><polygon fill=\"#FFFFFF\" filter=\"url(#f1lqdozfl6s1zg)\" points=\"40,49,66,49,73,71.2969,225,71.2969,225,153,40,153,40,49\" style=\"stroke: #000000; stroke-width: 1.5;\"/><line style=\"stroke: #000000; stroke-width: 1.5;\" x1=\"40\" x2=\"73\" y1=\"71.2969\" y2=\"71.2969\"/><text fill=\"#000000\" font-family=\"sans-serif\" font-size=\"14\" font-weight=\"bold\" lengthAdjust=\"spacingAndGlyphs\" textLength=\"20\" x=\"44\" y=\"63.9951\">P2</text></a><!--MD5=[09b614a08d8cba4a07c9adeb5e0fee81]\n",
       "class E3--><a href=\"psysml:572e0642-2007-40ad-b1a4-6402326f1a76\" target=\"_top\" title=\"psysml:572e0642-2007-40ad-b1a4-6402326f1a76\" xlink:actuate=\"onRequest\" xlink:href=\"psysml:572e0642-2007-40ad-b1a4-6402326f1a76\" xlink:show=\"new\" xlink:title=\"psysml:572e0642-2007-40ad-b1a4-6402326f1a76\" xlink:type=\"simple\"><rect fill=\"#FEFECE\" filter=\"url(#f1lqdozfl6s1zg)\" height=\"40\" id=\"E3\" style=\"stroke: #A80036; stroke-width: 1.5;\" width=\"40\" x=\"155\" y=\"212\"/><ellipse cx=\"170\" cy=\"228\" fill=\"#008000\" rx=\"11\" ry=\"11\" style=\"stroke: #A80036; stroke-width: 1.0;\"/><path d=\"M168.9063,228.375 L168.9063,232.0469 L170.5313,232.0469 Q171.7031,232.0469 172.1719,231.6563 Q172.6406,231.25 172.6406,230.25 Q172.6406,229.25 172.1406,228.8125 Q171.6563,228.375 170.5313,228.375 L168.9063,228.375 Z M168.9063,223.5469 L168.9063,226.4219 L170.5313,226.4219 Q171.4531,226.4219 171.8438,226.0938 Q172.25,225.75 172.25,225 Q172.25,224.2344 171.8438,223.8906 Q171.4375,223.5469 170.5313,223.5469 L168.9063,223.5469 Z M166.5313,221.5938 L170.5313,221.5938 Q172.5938,221.5938 173.6406,222.375 Q174.6875,223.1563 174.6875,224.7188 Q174.6875,225.9219 174.0625,226.5938 Q173.4531,227.2656 172.2656,227.375 Q173.6875,227.5156 174.4063,228.3281 Q175.125,229.1406 175.125,230.5938 Q175.125,232.3906 174.0469,233.2031 Q172.9688,234 170.5313,234 L166.5313,234 L166.5313,221.5938 Z \"/><text fill=\"#000000\" font-family=\"sans-serif\" font-size=\"12\" lengthAdjust=\"spacingAndGlyphs\" textLength=\"8\" x=\"184\" y=\"232.1543\">A</text><line style=\"stroke: #A80036; stroke-width: 1.5;\" x1=\"156\" x2=\"194\" y1=\"244\" y2=\"244\"/></a><!--MD5=[60a26617385b1d2d0262a64233df1f8d]\n",
       "class E6--><a href=\"psysml:1b3157b3-25ca-40f3-9d15-65b1efb05714\" target=\"_top\" title=\"psysml:1b3157b3-25ca-40f3-9d15-65b1efb05714\" xlink:actuate=\"onRequest\" xlink:href=\"psysml:1b3157b3-25ca-40f3-9d15-65b1efb05714\" xlink:show=\"new\" xlink:title=\"psysml:1b3157b3-25ca-40f3-9d15-65b1efb05714\" xlink:type=\"simple\"><rect fill=\"#FEFECE\" filter=\"url(#f1lqdozfl6s1zg)\" height=\"45.9375\" id=\"E6\" rx=\"10\" ry=\"10\" style=\"stroke: #A80036; stroke-width: 1.5;\" width=\"68\" x=\"141\" y=\"87.5\"/><ellipse cx=\"156\" cy=\"106.4688\" fill=\"#32CD32\" rx=\"11\" ry=\"11\" style=\"stroke: #A80036; stroke-width: 1.0;\"/><path d=\"M155.7969,102.1406 L155.7969,105.7656 L156.7969,105.7656 Q158,105.7656 158.4844,105.3594 Q158.9688,104.9531 158.9688,103.9531 Q158.9688,102.9531 158.4844,102.5469 Q158,102.1406 156.7969,102.1406 L155.7969,102.1406 Z M153.3438,100.0781 L156.7031,100.0781 Q159.2656,100.0781 160.3906,101 Q161.5156,101.9063 161.5156,103.9531 Q161.5156,106 160.3906,106.9219 Q159.2656,107.8281 156.7031,107.8281 L155.7969,107.8281 L155.7969,112.4688 L153.3438,112.4688 L153.3438,100.0781 Z \"/><text fill=\"#000000\" font-family=\"sans-serif\" font-size=\"12\" font-style=\"italic\" lengthAdjust=\"spacingAndGlyphs\" textLength=\"40\" x=\"168\" y=\"103.6387\">«part»</text><text fill=\"#000000\" font-family=\"sans-serif\" font-size=\"12\" lengthAdjust=\"spacingAndGlyphs\" textLength=\"22\" x=\"177\" y=\"117.6074\">x: A</text><line style=\"stroke: #A80036; stroke-width: 1.5;\" x1=\"142\" x2=\"208\" y1=\"125.4375\" y2=\"125.4375\"/></a><a href=\"psysml:584bb17b-e85a-4a43-abf7-54afe3b89034\" target=\"_top\" title=\"psysml:584bb17b-e85a-4a43-abf7-54afe3b89034\" xlink:actuate=\"onRequest\" xlink:href=\"psysml:584bb17b-e85a-4a43-abf7-54afe3b89034\" xlink:show=\"new\" xlink:title=\"psysml:584bb17b-e85a-4a43-abf7-54afe3b89034\" xlink:type=\"simple\"><polygon fill=\"#FFFFFF\" filter=\"url(#f1lqdozfl6s1zg)\" points=\"56.5,84,91.5,84,98.5,106.2969,105.5,106.2969,105.5,136.5938,56.5,136.5938,56.5,84\" style=\"stroke: #000000; stroke-width: 1.5;\"/><line style=\"stroke: #000000; stroke-width: 1.5;\" x1=\"56.5\" x2=\"98.5\" y1=\"106.2969\" y2=\"106.2969\"/><text fill=\"#000000\" font-family=\"sans-serif\" font-size=\"14\" font-weight=\"bold\" lengthAdjust=\"spacingAndGlyphs\" textLength=\"29\" x=\"60.5\" y=\"98.9951\">P2a</text></a><!--MD5=[a717450b82c80b9240a525fa862496af]\n",
       "link E6 to E3--><a href=\"psysml:dd0f39f2-d93b-4af4-8d6e-2bae3b2dacf1\" target=\"_top\" title=\"psysml:dd0f39f2-d93b-4af4-8d6e-2bae3b2dacf1\" xlink:actuate=\"onRequest\" xlink:href=\"psysml:dd0f39f2-d93b-4af4-8d6e-2bae3b2dacf1\" xlink:show=\"new\" xlink:title=\"psysml:dd0f39f2-d93b-4af4-8d6e-2bae3b2dacf1\" xlink:type=\"simple\"><path d=\"M175,133.7 C175,149.89 175,172.27 175,191.49 \" fill=\"none\" id=\"E6-&gt;E3\" style=\"stroke: #A80036; stroke-width: 1.0;\"/><polygon fill=\"#FFFFFF\" points=\"175,211.69,168,192.69,182,192.69,175,211.69\" style=\"stroke: #A80036; stroke-width: 1.0;\"/><ellipse cx=\"170\" cy=\"186.99\" fill=\"#A80036\" rx=\"2\" ry=\"2\" style=\"stroke: #A80036; stroke-width: 1.0;\"/><ellipse cx=\"180\" cy=\"186.99\" fill=\"#A80036\" rx=\"2\" ry=\"2\" style=\"stroke: #A80036; stroke-width: 1.0;\"/></a><!--MD5=[56f4b579dfd85aab81a5081842ae93f8]\n",
       "@startuml\r\n",
       " \r\n",
       "package \"QualifiedNameImportTest\" as E1  [[psysml:a4661f57-6558-47c6-8aa5-037eecc073c9 ]]  {\r\n",
       "package \"P1\" as E2  [[psysml:29f17ec2-4245-49fb-a177-0d25d24d4819 ]]  {\r\n",
       "comp def \"A\" as E3  << (B,green) >> [[psysml:572e0642-2007-40ad-b1a4-6402326f1a76 ]] {\r\n",
       "}\r\n",
       "}\r\n",
       "package \"P2\" as E4  [[psysml:a2f2702a-9aae-4fcb-bcab-ee7ca241440a ]]  {\r\n",
       "package \"P2a\" as E5  [[psysml:584bb17b-e85a-4a43-abf7-54afe3b89034 ]]  {\r\n",
       "}\r\n",
       "comp usage \"x: A\" as E6  << (P,limegreen) part>> [[psysml:1b3157b3-25ca-40f3-9d15-65b1efb05714 ]] {\r\n",
       "}\r\n",
       "E6 - -:|> E3 [[psysml:dd0f39f2-d93b-4af4-8d6e-2bae3b2dacf1 ]] \r\n",
       "}\r\n",
       "}\r\n",
       "@enduml\r\n",
       "\n",
       "PlantUML version 1.2020.13(Sat Jun 13 12:26:38 UTC 2020)\n",
       "(EPL source distribution)\n",
       "Java Runtime: OpenJDK Runtime Environment\n",
       "JVM: OpenJDK 64-Bit Server VM\n",
       "Default Encoding: UTF-8\n",
       "Language: en\n",
       "Country: null\n",
       "--></g></svg>"
      ]
     },
     "execution_count": 36,
     "metadata": {},
     "output_type": "execute_result"
    }
   ],
   "source": [
    "%viz --style=\"PLANTUML\" --view=\"MIXED\" \"QualifiedNameImportTest\""
   ]
  },
  {
   "cell_type": "code",
   "execution_count": 37,
   "id": "7415ba7d",
   "metadata": {
    "execution": {
     "iopub.execute_input": "2021-05-28T10:48:59.140301Z",
     "iopub.status.busy": "2021-05-28T10:48:59.126954Z",
     "iopub.status.idle": "2021-05-28T10:48:59.198787Z",
     "shell.execute_reply": "2021-05-28T10:48:59.198230Z"
    }
   },
   "outputs": [
    {
     "data": {
      "image/svg+xml": [
       "<?xml version=\"1.0\" encoding=\"UTF-8\" standalone=\"no\"?><svg xmlns=\"http://www.w3.org/2000/svg\" xmlns:xlink=\"http://www.w3.org/1999/xlink\" contentScriptType=\"application/ecmascript\" contentStyleType=\"text/css\" height=\"310px\" preserveAspectRatio=\"none\" style=\"width:253px;height:310px;\" version=\"1.1\" viewBox=\"0 0 253 310\" width=\"253px\" zoomAndPan=\"magnify\"><defs/><g><!--MD5=[fbc87193dbaf4d95561dea2c320d4a47]\n",
       "cluster E1--><a href=\"psysml:a4661f57-6558-47c6-8aa5-037eecc073c9\" target=\"_top\" title=\"psysml:a4661f57-6558-47c6-8aa5-037eecc073c9\" xlink:actuate=\"onRequest\" xlink:href=\"psysml:a4661f57-6558-47c6-8aa5-037eecc073c9\" xlink:show=\"new\" xlink:title=\"psysml:a4661f57-6558-47c6-8aa5-037eecc073c9\" xlink:type=\"simple\"><polygon fill=\"#FFFFFF\" points=\"16,6,221,6,228,28.2969,231,28.2969,231,298,16,298,16,6\" style=\"stroke: #000000; stroke-width: 1.5;\"/><line style=\"stroke: #000000; stroke-width: 1.5;\" x1=\"16\" x2=\"228\" y1=\"28.2969\" y2=\"28.2969\"/><text fill=\"#000000\" font-family=\"sans-serif\" font-size=\"14\" font-weight=\"bold\" lengthAdjust=\"spacingAndGlyphs\" textLength=\"199\" x=\"20\" y=\"20.9951\">QualifiedNameImportTest</text></a><!--MD5=[e4f7fae6ed58524ba242bb0b0d3be6b7]\n",
       "cluster E2--><a href=\"psysml:29f17ec2-4245-49fb-a177-0d25d24d4819\" target=\"_top\" title=\"psysml:29f17ec2-4245-49fb-a177-0d25d24d4819\" xlink:actuate=\"onRequest\" xlink:href=\"psysml:29f17ec2-4245-49fb-a177-0d25d24d4819\" xlink:show=\"new\" xlink:title=\"psysml:29f17ec2-4245-49fb-a177-0d25d24d4819\" xlink:type=\"simple\"><polygon fill=\"#FFFFFF\" points=\"105,177,131,177,138,199.2969,203,199.2969,203,274,105,274,105,177\" style=\"stroke: #000000; stroke-width: 1.5;\"/><line style=\"stroke: #000000; stroke-width: 1.5;\" x1=\"105\" x2=\"138\" y1=\"199.2969\" y2=\"199.2969\"/><text fill=\"#000000\" font-family=\"sans-serif\" font-size=\"14\" font-weight=\"bold\" lengthAdjust=\"spacingAndGlyphs\" textLength=\"20\" x=\"109\" y=\"191.9951\">P1</text></a><!--MD5=[f6df4d0ebaf0b5dfb2ced0ae5af7c670]\n",
       "cluster E4--><a href=\"psysml:a2f2702a-9aae-4fcb-bcab-ee7ca241440a\" target=\"_top\" title=\"psysml:a2f2702a-9aae-4fcb-bcab-ee7ca241440a\" xlink:actuate=\"onRequest\" xlink:href=\"psysml:a2f2702a-9aae-4fcb-bcab-ee7ca241440a\" xlink:show=\"new\" xlink:title=\"psysml:a2f2702a-9aae-4fcb-bcab-ee7ca241440a\" xlink:type=\"simple\"><polygon fill=\"#FFFFFF\" points=\"44,49,70,49,77,71.2969,203,71.2969,203,153,44,153,44,49\" style=\"stroke: #000000; stroke-width: 1.5;\"/><line style=\"stroke: #000000; stroke-width: 1.5;\" x1=\"44\" x2=\"77\" y1=\"71.2969\" y2=\"71.2969\"/><text fill=\"#000000\" font-family=\"sans-serif\" font-size=\"14\" font-weight=\"bold\" lengthAdjust=\"spacingAndGlyphs\" textLength=\"20\" x=\"48\" y=\"63.9951\">P2</text></a><!--MD5=[09b614a08d8cba4a07c9adeb5e0fee81]\n",
       "class E3--><a href=\"psysml:572e0642-2007-40ad-b1a4-6402326f1a76\" target=\"_top\" title=\"psysml:572e0642-2007-40ad-b1a4-6402326f1a76\" xlink:actuate=\"onRequest\" xlink:href=\"psysml:572e0642-2007-40ad-b1a4-6402326f1a76\" xlink:show=\"new\" xlink:title=\"psysml:572e0642-2007-40ad-b1a4-6402326f1a76\" xlink:type=\"simple\"><rect fill=\"#FFFFFF\" height=\"45.9375\" id=\"E3\" style=\"stroke: #383838; stroke-width: 1.5;\" width=\"66\" x=\"121\" y=\"212\"/><text fill=\"#000000\" font-family=\"sans-serif\" font-size=\"12\" font-style=\"italic\" lengthAdjust=\"spacingAndGlyphs\" textLength=\"64\" x=\"122\" y=\"228.1387\">«part def»</text><text fill=\"#000000\" font-family=\"sans-serif\" font-size=\"12\" lengthAdjust=\"spacingAndGlyphs\" textLength=\"8\" x=\"150\" y=\"242.1074\">A</text><line style=\"stroke: #383838; stroke-width: 1.5;\" x1=\"122\" x2=\"186\" y1=\"249.9375\" y2=\"249.9375\"/></a><!--MD5=[60a26617385b1d2d0262a64233df1f8d]\n",
       "class E6--><a href=\"psysml:1b3157b3-25ca-40f3-9d15-65b1efb05714\" target=\"_top\" title=\"psysml:1b3157b3-25ca-40f3-9d15-65b1efb05714\" xlink:actuate=\"onRequest\" xlink:href=\"psysml:1b3157b3-25ca-40f3-9d15-65b1efb05714\" xlink:show=\"new\" xlink:title=\"psysml:1b3157b3-25ca-40f3-9d15-65b1efb05714\" xlink:type=\"simple\"><rect fill=\"#FFFFFF\" height=\"45.9375\" id=\"E6\" rx=\"10\" ry=\"10\" style=\"stroke: #383838; stroke-width: 1.5;\" width=\"42\" x=\"145\" y=\"87.5\"/><text fill=\"#000000\" font-family=\"sans-serif\" font-size=\"12\" font-style=\"italic\" lengthAdjust=\"spacingAndGlyphs\" textLength=\"40\" x=\"146\" y=\"103.6387\">«part»</text><text fill=\"#000000\" font-family=\"sans-serif\" font-size=\"12\" lengthAdjust=\"spacingAndGlyphs\" textLength=\"22\" x=\"155\" y=\"117.6074\">x: A</text><line style=\"stroke: #383838; stroke-width: 1.5;\" x1=\"146\" x2=\"186\" y1=\"125.4375\" y2=\"125.4375\"/></a><a href=\"psysml:584bb17b-e85a-4a43-abf7-54afe3b89034\" target=\"_top\" title=\"psysml:584bb17b-e85a-4a43-abf7-54afe3b89034\" xlink:actuate=\"onRequest\" xlink:href=\"psysml:584bb17b-e85a-4a43-abf7-54afe3b89034\" xlink:show=\"new\" xlink:title=\"psysml:584bb17b-e85a-4a43-abf7-54afe3b89034\" xlink:type=\"simple\"><polygon fill=\"#FFFFFF\" points=\"60.5,84,95.5,84,102.5,106.2969,109.5,106.2969,109.5,136.5938,60.5,136.5938,60.5,84\" style=\"stroke: #000000; stroke-width: 1.5;\"/><line style=\"stroke: #000000; stroke-width: 1.5;\" x1=\"60.5\" x2=\"102.5\" y1=\"106.2969\" y2=\"106.2969\"/><text fill=\"#000000\" font-family=\"sans-serif\" font-size=\"14\" font-weight=\"bold\" lengthAdjust=\"spacingAndGlyphs\" textLength=\"29\" x=\"64.5\" y=\"98.9951\">P2a</text></a><!--MD5=[a717450b82c80b9240a525fa862496af]\n",
       "link E6 to E3--><a href=\"psysml:dd0f39f2-d93b-4af4-8d6e-2bae3b2dacf1\" target=\"_top\" title=\"psysml:dd0f39f2-d93b-4af4-8d6e-2bae3b2dacf1\" xlink:actuate=\"onRequest\" xlink:href=\"psysml:dd0f39f2-d93b-4af4-8d6e-2bae3b2dacf1\" xlink:show=\"new\" xlink:title=\"psysml:dd0f39f2-d93b-4af4-8d6e-2bae3b2dacf1\" xlink:type=\"simple\"><path d=\"M163.83,133.68 C162.24,149.9 160.04,172.39 158.12,191.96 \" fill=\"none\" id=\"E6-&gt;E3\" style=\"stroke: #383838; stroke-width: 1.0;\"/><polygon fill=\"#FFFFFF\" points=\"156.16,211.98,151.0533,192.3861,164.986,193.7564,156.16,211.98\" style=\"stroke: #383838; stroke-width: 1.0;\"/><ellipse cx=\"153.6016\" cy=\"186.9092\" fill=\"#383838\" rx=\"2\" ry=\"2\" style=\"stroke: #383838; stroke-width: 1.0;\"/><ellipse cx=\"163.5535\" cy=\"187.888\" fill=\"#383838\" rx=\"2\" ry=\"2\" style=\"stroke: #383838; stroke-width: 1.0;\"/></a><!--MD5=[39f04d2c3c65dbec01523ef0b0f4302e]\n",
       "@startuml\r\n",
       "skinparam monochrome true\r\n",
       "skinparam classbackgroundcolor white\r\n",
       "skinparam shadowing false\r\n",
       "skinparam wrapWidth 300\r\n",
       "hide circle\r\n",
       "\r\n",
       "package \"QualifiedNameImportTest\" as E1  [[psysml:a4661f57-6558-47c6-8aa5-037eecc073c9 ]]  {\r\n",
       "package \"P1\" as E2  [[psysml:29f17ec2-4245-49fb-a177-0d25d24d4819 ]]  {\r\n",
       "comp def \"A\" as E3  <<(T,blue)part def>> [[psysml:572e0642-2007-40ad-b1a4-6402326f1a76 ]] {\r\n",
       "}\r\n",
       "}\r\n",
       "package \"P2\" as E4  [[psysml:a2f2702a-9aae-4fcb-bcab-ee7ca241440a ]]  {\r\n",
       "package \"P2a\" as E5  [[psysml:584bb17b-e85a-4a43-abf7-54afe3b89034 ]]  {\r\n",
       "}\r\n",
       "comp usage \"x: A\" as E6  <<(T,blue)part>> [[psysml:1b3157b3-25ca-40f3-9d15-65b1efb05714 ]] {\r\n",
       "}\r\n",
       "E6 - -:|> E3 [[psysml:dd0f39f2-d93b-4af4-8d6e-2bae3b2dacf1 ]] \r\n",
       "}\r\n",
       "}\r\n",
       "@enduml\r\n",
       "\n",
       "PlantUML version 1.2020.13(Sat Jun 13 12:26:38 UTC 2020)\n",
       "(EPL source distribution)\n",
       "Java Runtime: OpenJDK Runtime Environment\n",
       "JVM: OpenJDK 64-Bit Server VM\n",
       "Default Encoding: UTF-8\n",
       "Language: en\n",
       "Country: null\n",
       "--></g></svg>"
      ]
     },
     "execution_count": 37,
     "metadata": {},
     "output_type": "execute_result"
    }
   ],
   "source": [
    "%viz --style=\"DEFAULT\" --view=\"Default\" \"QualifiedNameImportTest\""
   ]
  },
  {
   "cell_type": "code",
   "execution_count": 38,
   "id": "8d0abe31",
   "metadata": {
    "execution": {
     "iopub.execute_input": "2021-05-28T10:48:59.249428Z",
     "iopub.status.busy": "2021-05-28T10:48:59.248844Z",
     "iopub.status.idle": "2021-05-28T10:48:59.281087Z",
     "shell.execute_reply": "2021-05-28T10:48:59.279666Z"
    }
   },
   "outputs": [
    {
     "data": {
      "image/svg+xml": [
       "<?xml version=\"1.0\" encoding=\"UTF-8\" standalone=\"no\"?><svg xmlns=\"http://www.w3.org/2000/svg\" xmlns:xlink=\"http://www.w3.org/1999/xlink\" contentScriptType=\"application/ecmascript\" contentStyleType=\"text/css\" height=\"310px\" preserveAspectRatio=\"none\" style=\"width:253px;height:310px;\" version=\"1.1\" viewBox=\"0 0 253 310\" width=\"253px\" zoomAndPan=\"magnify\"><defs/><g><!--MD5=[fbc87193dbaf4d95561dea2c320d4a47]\n",
       "cluster E1--><a href=\"psysml:a4661f57-6558-47c6-8aa5-037eecc073c9\" target=\"_top\" title=\"psysml:a4661f57-6558-47c6-8aa5-037eecc073c9\" xlink:actuate=\"onRequest\" xlink:href=\"psysml:a4661f57-6558-47c6-8aa5-037eecc073c9\" xlink:show=\"new\" xlink:title=\"psysml:a4661f57-6558-47c6-8aa5-037eecc073c9\" xlink:type=\"simple\"><polygon fill=\"#FFFFFF\" points=\"16,6,221,6,228,28.2969,231,28.2969,231,298,16,298,16,6\" style=\"stroke: #000000; stroke-width: 1.5;\"/><line style=\"stroke: #000000; stroke-width: 1.5;\" x1=\"16\" x2=\"228\" y1=\"28.2969\" y2=\"28.2969\"/><text fill=\"#000000\" font-family=\"sans-serif\" font-size=\"14\" font-weight=\"bold\" lengthAdjust=\"spacingAndGlyphs\" textLength=\"199\" x=\"20\" y=\"20.9951\">QualifiedNameImportTest</text></a><!--MD5=[e4f7fae6ed58524ba242bb0b0d3be6b7]\n",
       "cluster E2--><a href=\"psysml:29f17ec2-4245-49fb-a177-0d25d24d4819\" target=\"_top\" title=\"psysml:29f17ec2-4245-49fb-a177-0d25d24d4819\" xlink:actuate=\"onRequest\" xlink:href=\"psysml:29f17ec2-4245-49fb-a177-0d25d24d4819\" xlink:show=\"new\" xlink:title=\"psysml:29f17ec2-4245-49fb-a177-0d25d24d4819\" xlink:type=\"simple\"><polygon fill=\"#FFFFFF\" points=\"105,177,131,177,138,199.2969,203,199.2969,203,274,105,274,105,177\" style=\"stroke: #000000; stroke-width: 1.5;\"/><line style=\"stroke: #000000; stroke-width: 1.5;\" x1=\"105\" x2=\"138\" y1=\"199.2969\" y2=\"199.2969\"/><text fill=\"#000000\" font-family=\"sans-serif\" font-size=\"14\" font-weight=\"bold\" lengthAdjust=\"spacingAndGlyphs\" textLength=\"20\" x=\"109\" y=\"191.9951\">P1</text></a><!--MD5=[f6df4d0ebaf0b5dfb2ced0ae5af7c670]\n",
       "cluster E4--><a href=\"psysml:a2f2702a-9aae-4fcb-bcab-ee7ca241440a\" target=\"_top\" title=\"psysml:a2f2702a-9aae-4fcb-bcab-ee7ca241440a\" xlink:actuate=\"onRequest\" xlink:href=\"psysml:a2f2702a-9aae-4fcb-bcab-ee7ca241440a\" xlink:show=\"new\" xlink:title=\"psysml:a2f2702a-9aae-4fcb-bcab-ee7ca241440a\" xlink:type=\"simple\"><polygon fill=\"#FFFFFF\" points=\"44,49,70,49,77,71.2969,203,71.2969,203,153,44,153,44,49\" style=\"stroke: #000000; stroke-width: 1.5;\"/><line style=\"stroke: #000000; stroke-width: 1.5;\" x1=\"44\" x2=\"77\" y1=\"71.2969\" y2=\"71.2969\"/><text fill=\"#000000\" font-family=\"sans-serif\" font-size=\"14\" font-weight=\"bold\" lengthAdjust=\"spacingAndGlyphs\" textLength=\"20\" x=\"48\" y=\"63.9951\">P2</text></a><!--MD5=[09b614a08d8cba4a07c9adeb5e0fee81]\n",
       "class E3--><a href=\"psysml:572e0642-2007-40ad-b1a4-6402326f1a76\" target=\"_top\" title=\"psysml:572e0642-2007-40ad-b1a4-6402326f1a76\" xlink:actuate=\"onRequest\" xlink:href=\"psysml:572e0642-2007-40ad-b1a4-6402326f1a76\" xlink:show=\"new\" xlink:title=\"psysml:572e0642-2007-40ad-b1a4-6402326f1a76\" xlink:type=\"simple\"><rect fill=\"#FFFFFF\" height=\"45.9375\" id=\"E3\" style=\"stroke: #383838; stroke-width: 1.5;\" width=\"66\" x=\"121\" y=\"212\"/><text fill=\"#000000\" font-family=\"sans-serif\" font-size=\"12\" font-style=\"italic\" lengthAdjust=\"spacingAndGlyphs\" textLength=\"64\" x=\"122\" y=\"228.1387\">«part def»</text><text fill=\"#000000\" font-family=\"sans-serif\" font-size=\"12\" lengthAdjust=\"spacingAndGlyphs\" textLength=\"8\" x=\"150\" y=\"242.1074\">A</text><line style=\"stroke: #383838; stroke-width: 1.5;\" x1=\"122\" x2=\"186\" y1=\"249.9375\" y2=\"249.9375\"/></a><!--MD5=[60a26617385b1d2d0262a64233df1f8d]\n",
       "class E6--><a href=\"psysml:1b3157b3-25ca-40f3-9d15-65b1efb05714\" target=\"_top\" title=\"psysml:1b3157b3-25ca-40f3-9d15-65b1efb05714\" xlink:actuate=\"onRequest\" xlink:href=\"psysml:1b3157b3-25ca-40f3-9d15-65b1efb05714\" xlink:show=\"new\" xlink:title=\"psysml:1b3157b3-25ca-40f3-9d15-65b1efb05714\" xlink:type=\"simple\"><rect fill=\"#FFFFFF\" height=\"45.9375\" id=\"E6\" rx=\"10\" ry=\"10\" style=\"stroke: #383838; stroke-width: 1.5;\" width=\"42\" x=\"145\" y=\"87.5\"/><text fill=\"#000000\" font-family=\"sans-serif\" font-size=\"12\" font-style=\"italic\" lengthAdjust=\"spacingAndGlyphs\" textLength=\"40\" x=\"146\" y=\"103.6387\">«part»</text><text fill=\"#000000\" font-family=\"sans-serif\" font-size=\"12\" lengthAdjust=\"spacingAndGlyphs\" textLength=\"22\" x=\"155\" y=\"117.6074\">x: A</text><line style=\"stroke: #383838; stroke-width: 1.5;\" x1=\"146\" x2=\"186\" y1=\"125.4375\" y2=\"125.4375\"/></a><a href=\"psysml:584bb17b-e85a-4a43-abf7-54afe3b89034\" target=\"_top\" title=\"psysml:584bb17b-e85a-4a43-abf7-54afe3b89034\" xlink:actuate=\"onRequest\" xlink:href=\"psysml:584bb17b-e85a-4a43-abf7-54afe3b89034\" xlink:show=\"new\" xlink:title=\"psysml:584bb17b-e85a-4a43-abf7-54afe3b89034\" xlink:type=\"simple\"><polygon fill=\"#FFFFFF\" points=\"60.5,84,95.5,84,102.5,106.2969,109.5,106.2969,109.5,136.5938,60.5,136.5938,60.5,84\" style=\"stroke: #000000; stroke-width: 1.5;\"/><line style=\"stroke: #000000; stroke-width: 1.5;\" x1=\"60.5\" x2=\"102.5\" y1=\"106.2969\" y2=\"106.2969\"/><text fill=\"#000000\" font-family=\"sans-serif\" font-size=\"14\" font-weight=\"bold\" lengthAdjust=\"spacingAndGlyphs\" textLength=\"29\" x=\"64.5\" y=\"98.9951\">P2a</text></a><!--MD5=[a717450b82c80b9240a525fa862496af]\n",
       "link E6 to E3--><a href=\"psysml:dd0f39f2-d93b-4af4-8d6e-2bae3b2dacf1\" target=\"_top\" title=\"psysml:dd0f39f2-d93b-4af4-8d6e-2bae3b2dacf1\" xlink:actuate=\"onRequest\" xlink:href=\"psysml:dd0f39f2-d93b-4af4-8d6e-2bae3b2dacf1\" xlink:show=\"new\" xlink:title=\"psysml:dd0f39f2-d93b-4af4-8d6e-2bae3b2dacf1\" xlink:type=\"simple\"><path d=\"M163.83,133.68 C162.24,149.9 160.04,172.39 158.12,191.96 \" fill=\"none\" id=\"E6-&gt;E3\" style=\"stroke: #383838; stroke-width: 1.0;\"/><polygon fill=\"#FFFFFF\" points=\"156.16,211.98,151.0533,192.3861,164.986,193.7564,156.16,211.98\" style=\"stroke: #383838; stroke-width: 1.0;\"/><ellipse cx=\"153.6016\" cy=\"186.9092\" fill=\"#383838\" rx=\"2\" ry=\"2\" style=\"stroke: #383838; stroke-width: 1.0;\"/><ellipse cx=\"163.5535\" cy=\"187.888\" fill=\"#383838\" rx=\"2\" ry=\"2\" style=\"stroke: #383838; stroke-width: 1.0;\"/></a><!--MD5=[39f04d2c3c65dbec01523ef0b0f4302e]\n",
       "@startuml\r\n",
       "skinparam monochrome true\r\n",
       "skinparam classbackgroundcolor white\r\n",
       "skinparam shadowing false\r\n",
       "skinparam wrapWidth 300\r\n",
       "hide circle\r\n",
       "\r\n",
       "package \"QualifiedNameImportTest\" as E1  [[psysml:a4661f57-6558-47c6-8aa5-037eecc073c9 ]]  {\r\n",
       "package \"P1\" as E2  [[psysml:29f17ec2-4245-49fb-a177-0d25d24d4819 ]]  {\r\n",
       "comp def \"A\" as E3  <<(T,blue)part def>> [[psysml:572e0642-2007-40ad-b1a4-6402326f1a76 ]] {\r\n",
       "}\r\n",
       "}\r\n",
       "package \"P2\" as E4  [[psysml:a2f2702a-9aae-4fcb-bcab-ee7ca241440a ]]  {\r\n",
       "package \"P2a\" as E5  [[psysml:584bb17b-e85a-4a43-abf7-54afe3b89034 ]]  {\r\n",
       "}\r\n",
       "comp usage \"x: A\" as E6  <<(T,blue)part>> [[psysml:1b3157b3-25ca-40f3-9d15-65b1efb05714 ]] {\r\n",
       "}\r\n",
       "E6 - -:|> E3 [[psysml:dd0f39f2-d93b-4af4-8d6e-2bae3b2dacf1 ]] \r\n",
       "}\r\n",
       "}\r\n",
       "@enduml\r\n",
       "\n",
       "PlantUML version 1.2020.13(Sat Jun 13 12:26:38 UTC 2020)\n",
       "(EPL source distribution)\n",
       "Java Runtime: OpenJDK Runtime Environment\n",
       "JVM: OpenJDK 64-Bit Server VM\n",
       "Default Encoding: UTF-8\n",
       "Language: en\n",
       "Country: null\n",
       "--></g></svg>"
      ]
     },
     "execution_count": 38,
     "metadata": {},
     "output_type": "execute_result"
    }
   ],
   "source": [
    "%viz --style=\"DEFAULT\" --view=\"Tree\" \"QualifiedNameImportTest\""
   ]
  },
  {
   "cell_type": "code",
   "execution_count": 39,
   "id": "4b6b71c5",
   "metadata": {
    "execution": {
     "iopub.execute_input": "2021-05-28T10:48:59.331980Z",
     "iopub.status.busy": "2021-05-28T10:48:59.331594Z",
     "iopub.status.idle": "2021-05-28T10:48:59.335464Z",
     "shell.execute_reply": "2021-05-28T10:48:59.335141Z"
    }
   },
   "outputs": [
    {
     "data": {
      "image/svg+xml": [
       "<?xml version=\"1.0\" encoding=\"UTF-8\" standalone=\"no\"?><svg xmlns=\"http://www.w3.org/2000/svg\" xmlns:xlink=\"http://www.w3.org/1999/xlink\" contentScriptType=\"application/ecmascript\" contentStyleType=\"text/css\" height=\"12px\" preserveAspectRatio=\"none\" style=\"width:12px;height:12px;\" version=\"1.1\" viewBox=\"0 0 12 12\" width=\"12px\" zoomAndPan=\"magnify\"><defs/><g><!--MD5=[c5f280e076d0d61ccf4b0f27871bda1d]\n",
       "@startuml\r\n",
       "skinparam monochrome true\r\n",
       "skinparam classbackgroundcolor white\r\n",
       "skinparam shadowing false\r\n",
       "skinparam wrapWidth 300\r\n",
       "hide circle\r\n",
       "\r\n",
       "@enduml\r\n",
       "\n",
       "PlantUML version 1.2020.13(Sat Jun 13 12:26:38 UTC 2020)\n",
       "(EPL source distribution)\n",
       "Java Runtime: OpenJDK Runtime Environment\n",
       "JVM: OpenJDK 64-Bit Server VM\n",
       "Default Encoding: UTF-8\n",
       "Language: en\n",
       "Country: null\n",
       "--></g></svg>"
      ]
     },
     "execution_count": 39,
     "metadata": {},
     "output_type": "execute_result"
    }
   ],
   "source": [
    "%viz --style=\"DEFAULT\" --view=\"State\" \"QualifiedNameImportTest\""
   ]
  },
  {
   "cell_type": "code",
   "execution_count": 40,
   "id": "82f6890b",
   "metadata": {
    "execution": {
     "iopub.execute_input": "2021-05-28T10:48:59.387002Z",
     "iopub.status.busy": "2021-05-28T10:48:59.386373Z",
     "iopub.status.idle": "2021-05-28T10:48:59.414273Z",
     "shell.execute_reply": "2021-05-28T10:48:59.413111Z"
    }
   },
   "outputs": [
    {
     "data": {
      "image/svg+xml": [
       "<?xml version=\"1.0\" encoding=\"UTF-8\" standalone=\"no\"?><svg xmlns=\"http://www.w3.org/2000/svg\" xmlns:xlink=\"http://www.w3.org/1999/xlink\" contentScriptType=\"application/ecmascript\" contentStyleType=\"text/css\" height=\"189px\" preserveAspectRatio=\"none\" style=\"width:381px;height:189px;\" version=\"1.1\" viewBox=\"0 0 381 189\" width=\"381px\" zoomAndPan=\"magnify\"><defs/><g><!--MD5=[fbc87193dbaf4d95561dea2c320d4a47]\n",
       "cluster E1--><a href=\"psysml:a4661f57-6558-47c6-8aa5-037eecc073c9\" target=\"_top\" title=\"psysml:a4661f57-6558-47c6-8aa5-037eecc073c9\" xlink:actuate=\"onRequest\" xlink:href=\"psysml:a4661f57-6558-47c6-8aa5-037eecc073c9\" xlink:show=\"new\" xlink:title=\"psysml:a4661f57-6558-47c6-8aa5-037eecc073c9\" xlink:type=\"simple\"><polygon fill=\"#FFFFFF\" points=\"16,6,221,6,228,28.2969,359,28.2969,359,177,16,177,16,6\" style=\"stroke: #000000; stroke-width: 1.5;\"/><line style=\"stroke: #000000; stroke-width: 1.5;\" x1=\"16\" x2=\"228\" y1=\"28.2969\" y2=\"28.2969\"/><text fill=\"#000000\" font-family=\"sans-serif\" font-size=\"14\" font-weight=\"bold\" lengthAdjust=\"spacingAndGlyphs\" textLength=\"199\" x=\"20\" y=\"20.9951\">QualifiedNameImportTest</text></a><!--MD5=[e4f7fae6ed58524ba242bb0b0d3be6b7]\n",
       "cluster E2--><a href=\"psysml:29f17ec2-4245-49fb-a177-0d25d24d4819\" target=\"_top\" title=\"psysml:29f17ec2-4245-49fb-a177-0d25d24d4819\" xlink:actuate=\"onRequest\" xlink:href=\"psysml:29f17ec2-4245-49fb-a177-0d25d24d4819\" xlink:show=\"new\" xlink:title=\"psysml:29f17ec2-4245-49fb-a177-0d25d24d4819\" xlink:type=\"simple\"><polygon fill=\"#FFFFFF\" points=\"231,54,257,54,264,76.2969,335,76.2969,335,148,231,148,231,54\" style=\"stroke: #000000; stroke-width: 1.5;\"/><line style=\"stroke: #000000; stroke-width: 1.5;\" x1=\"231\" x2=\"264\" y1=\"76.2969\" y2=\"76.2969\"/><text fill=\"#000000\" font-family=\"sans-serif\" font-size=\"14\" font-weight=\"bold\" lengthAdjust=\"spacingAndGlyphs\" textLength=\"20\" x=\"235\" y=\"68.9951\">P1</text></a><!--MD5=[f6df4d0ebaf0b5dfb2ced0ae5af7c670]\n",
       "cluster E4--><a href=\"psysml:a2f2702a-9aae-4fcb-bcab-ee7ca241440a\" target=\"_top\" title=\"psysml:a2f2702a-9aae-4fcb-bcab-ee7ca241440a\" xlink:actuate=\"onRequest\" xlink:href=\"psysml:a2f2702a-9aae-4fcb-bcab-ee7ca241440a\" xlink:show=\"new\" xlink:title=\"psysml:a2f2702a-9aae-4fcb-bcab-ee7ca241440a\" xlink:type=\"simple\"><polygon fill=\"#FFFFFF\" points=\"40,49,66,49,73,71.2969,207,71.2969,207,153,40,153,40,49\" style=\"stroke: #000000; stroke-width: 1.5;\"/><line style=\"stroke: #000000; stroke-width: 1.5;\" x1=\"40\" x2=\"73\" y1=\"71.2969\" y2=\"71.2969\"/><text fill=\"#000000\" font-family=\"sans-serif\" font-size=\"14\" font-weight=\"bold\" lengthAdjust=\"spacingAndGlyphs\" textLength=\"20\" x=\"44\" y=\"63.9951\">P2</text></a><g id=\"E1.E2.E3\"><a href=\"psysml:572e0642-2007-40ad-b1a4-6402326f1a76\" target=\"_top\" title=\"psysml:572e0642-2007-40ad-b1a4-6402326f1a76\" xlink:actuate=\"onRequest\" xlink:href=\"psysml:572e0642-2007-40ad-b1a4-6402326f1a76\" xlink:show=\"new\" xlink:title=\"psysml:572e0642-2007-40ad-b1a4-6402326f1a76\" xlink:type=\"simple\"><rect fill=\"#FFFFFF\" height=\"42.9375\" id=\"E3\" style=\"stroke: #383838; stroke-width: 1.5;\" width=\"71\" x=\"247.5\" y=\"89\"/><rect fill=\"#F8F8F8\" height=\"37.9375\" style=\"stroke: #383838; stroke-width: 1.5;\" width=\"71\" x=\"247.5\" y=\"89\"/><text fill=\"#000000\" font-family=\"sans-serif\" font-size=\"12\" font-style=\"italic\" lengthAdjust=\"spacingAndGlyphs\" textLength=\"64\" x=\"251\" y=\"105.1387\">«part def»</text><text fill=\"#000000\" font-family=\"sans-serif\" font-size=\"12\" lengthAdjust=\"spacingAndGlyphs\" textLength=\"8\" x=\"279\" y=\"119.1074\">A</text></a></g><a href=\"psysml:584bb17b-e85a-4a43-abf7-54afe3b89034\" target=\"_top\" title=\"psysml:584bb17b-e85a-4a43-abf7-54afe3b89034\" xlink:actuate=\"onRequest\" xlink:href=\"psysml:584bb17b-e85a-4a43-abf7-54afe3b89034\" xlink:show=\"new\" xlink:title=\"psysml:584bb17b-e85a-4a43-abf7-54afe3b89034\" xlink:type=\"simple\"><polygon fill=\"#FFFFFF\" points=\"141.5,84,176.5,84,183.5,106.2969,190.5,106.2969,190.5,136.5938,141.5,136.5938,141.5,84\" style=\"stroke: #000000; stroke-width: 1.5;\"/><line style=\"stroke: #000000; stroke-width: 1.5;\" x1=\"141.5\" x2=\"183.5\" y1=\"106.2969\" y2=\"106.2969\"/><text fill=\"#000000\" font-family=\"sans-serif\" font-size=\"14\" font-weight=\"bold\" lengthAdjust=\"spacingAndGlyphs\" textLength=\"29\" x=\"145.5\" y=\"98.9951\">P2a</text></a><g id=\"E1.E4.E6\"><a href=\"psysml:1b3157b3-25ca-40f3-9d15-65b1efb05714\" target=\"_top\" title=\"psysml:1b3157b3-25ca-40f3-9d15-65b1efb05714\" xlink:actuate=\"onRequest\" xlink:href=\"psysml:1b3157b3-25ca-40f3-9d15-65b1efb05714\" xlink:show=\"new\" xlink:title=\"psysml:1b3157b3-25ca-40f3-9d15-65b1efb05714\" xlink:type=\"simple\"><rect fill=\"#FFFFFF\" height=\"40\" id=\"E6\" rx=\"10\" ry=\"10\" style=\"stroke: #383838; stroke-width: 1.5;\" width=\"50\" x=\"56\" y=\"90.5\"/><rect fill=\"#F8F8F8\" height=\"23.9688\" rx=\"10\" ry=\"10\" style=\"stroke: #F8F8F8; stroke-width: 1.5;\" width=\"50\" x=\"56\" y=\"90.5\"/><rect fill=\"#F8F8F8\" height=\"10\" style=\"stroke: #F8F8F8; stroke-width: 1.5;\" width=\"50\" x=\"56\" y=\"104.4688\"/><rect fill=\"none\" height=\"40\" id=\"E6\" rx=\"10\" ry=\"10\" style=\"stroke: #383838; stroke-width: 1.5;\" width=\"50\" x=\"56\" y=\"90.5\"/><text fill=\"#000000\" font-family=\"sans-serif\" font-size=\"12\" lengthAdjust=\"spacingAndGlyphs\" textLength=\"22\" x=\"70\" y=\"106.6387\">x: A</text></a></g><!--MD5=[dac2b088766ae062aeb7426177b51db9]\n",
       "@startuml\r\n",
       "skinparam ranksep 10\r\n",
       "skinparam rectangle {\r\n",
       " backgroundColor<<block>> LightGreen\r\n",
       "}\r\n",
       "skinparam monochrome true\r\n",
       "skinparam classbackgroundcolor white\r\n",
       "skinparam shadowing false\r\n",
       "skinparam wrapWidth 300\r\n",
       "hide circle\r\n",
       "\r\n",
       "package \"QualifiedNameImportTest\" as E1  [[psysml:a4661f57-6558-47c6-8aa5-037eecc073c9 ]]  {\r\n",
       "package \"P1\" as E2  [[psysml:29f17ec2-4245-49fb-a177-0d25d24d4819 ]]  {\r\n",
       "rec def \"A\" as E3  <<(T,blue)part def>> [[psysml:572e0642-2007-40ad-b1a4-6402326f1a76 ]] {\r\n",
       "}\r\n",
       "}\r\n",
       "package \"P2\" as E4  [[psysml:a2f2702a-9aae-4fcb-bcab-ee7ca241440a ]]  {\r\n",
       "package \"P2a\" as E5  [[psysml:584bb17b-e85a-4a43-abf7-54afe3b89034 ]]  {\r\n",
       "}\r\n",
       "rec usage \"x: A\" as E6  [[psysml:1b3157b3-25ca-40f3-9d15-65b1efb05714 ]] {\r\n",
       "}\r\n",
       "}\r\n",
       "}\r\n",
       "@enduml\r\n",
       "\n",
       "PlantUML version 1.2020.13(Sat Jun 13 12:26:38 UTC 2020)\n",
       "(EPL source distribution)\n",
       "Java Runtime: OpenJDK Runtime Environment\n",
       "JVM: OpenJDK 64-Bit Server VM\n",
       "Default Encoding: UTF-8\n",
       "Language: en\n",
       "Country: null\n",
       "--></g></svg>"
      ]
     },
     "execution_count": 40,
     "metadata": {},
     "output_type": "execute_result"
    }
   ],
   "source": [
    "%viz --style=\"DEFAULT\" --view=\"Interconnection\" \"QualifiedNameImportTest\""
   ]
  },
  {
   "cell_type": "code",
   "execution_count": 41,
   "id": "5f41add4",
   "metadata": {
    "execution": {
     "iopub.execute_input": "2021-05-28T10:48:59.465965Z",
     "iopub.status.busy": "2021-05-28T10:48:59.465222Z",
     "iopub.status.idle": "2021-05-28T10:48:59.471217Z",
     "shell.execute_reply": "2021-05-28T10:48:59.470668Z"
    }
   },
   "outputs": [
    {
     "data": {
      "image/svg+xml": [
       "<?xml version=\"1.0\" encoding=\"UTF-8\" standalone=\"no\"?><svg xmlns=\"http://www.w3.org/2000/svg\" xmlns:xlink=\"http://www.w3.org/1999/xlink\" contentScriptType=\"application/ecmascript\" contentStyleType=\"text/css\" height=\"12px\" preserveAspectRatio=\"none\" style=\"width:12px;height:12px;\" version=\"1.1\" viewBox=\"0 0 12 12\" width=\"12px\" zoomAndPan=\"magnify\"><defs/><g><!--MD5=[388f21188e31bfdd97050473b19af356]\n",
       "@startuml\r\n",
       "skinparam ranksep 8\r\n",
       "skinparam monochrome true\r\n",
       "skinparam classbackgroundcolor white\r\n",
       "skinparam shadowing false\r\n",
       "skinparam wrapWidth 300\r\n",
       "hide circle\r\n",
       "\r\n",
       "@enduml\r\n",
       "\n",
       "PlantUML version 1.2020.13(Sat Jun 13 12:26:38 UTC 2020)\n",
       "(EPL source distribution)\n",
       "Java Runtime: OpenJDK Runtime Environment\n",
       "JVM: OpenJDK 64-Bit Server VM\n",
       "Default Encoding: UTF-8\n",
       "Language: en\n",
       "Country: null\n",
       "--></g></svg>"
      ]
     },
     "execution_count": 41,
     "metadata": {},
     "output_type": "execute_result"
    }
   ],
   "source": [
    "%viz --style=\"DEFAULT\" --view=\"Action\" \"QualifiedNameImportTest\""
   ]
  },
  {
   "cell_type": "code",
   "execution_count": 42,
   "id": "0d2ae9a0",
   "metadata": {
    "execution": {
     "iopub.execute_input": "2021-05-28T10:48:59.522529Z",
     "iopub.status.busy": "2021-05-28T10:48:59.521957Z",
     "iopub.status.idle": "2021-05-28T10:48:59.547190Z",
     "shell.execute_reply": "2021-05-28T10:48:59.545695Z"
    }
   },
   "outputs": [
    {
     "data": {
      "image/svg+xml": [
       "<?xml version=\"1.0\" encoding=\"UTF-8\" standalone=\"no\"?><svg xmlns=\"http://www.w3.org/2000/svg\" xmlns:xlink=\"http://www.w3.org/1999/xlink\" contentScriptType=\"application/ecmascript\" contentStyleType=\"text/css\" height=\"310px\" preserveAspectRatio=\"none\" style=\"width:253px;height:310px;\" version=\"1.1\" viewBox=\"0 0 253 310\" width=\"253px\" zoomAndPan=\"magnify\"><defs/><g><!--MD5=[fbc87193dbaf4d95561dea2c320d4a47]\n",
       "cluster E1--><a href=\"psysml:a4661f57-6558-47c6-8aa5-037eecc073c9\" target=\"_top\" title=\"psysml:a4661f57-6558-47c6-8aa5-037eecc073c9\" xlink:actuate=\"onRequest\" xlink:href=\"psysml:a4661f57-6558-47c6-8aa5-037eecc073c9\" xlink:show=\"new\" xlink:title=\"psysml:a4661f57-6558-47c6-8aa5-037eecc073c9\" xlink:type=\"simple\"><polygon fill=\"#FFFFFF\" points=\"16,6,221,6,228,28.2969,231,28.2969,231,298,16,298,16,6\" style=\"stroke: #000000; stroke-width: 1.5;\"/><line style=\"stroke: #000000; stroke-width: 1.5;\" x1=\"16\" x2=\"228\" y1=\"28.2969\" y2=\"28.2969\"/><text fill=\"#000000\" font-family=\"sans-serif\" font-size=\"14\" font-weight=\"bold\" lengthAdjust=\"spacingAndGlyphs\" textLength=\"199\" x=\"20\" y=\"20.9951\">QualifiedNameImportTest</text></a><!--MD5=[e4f7fae6ed58524ba242bb0b0d3be6b7]\n",
       "cluster E2--><a href=\"psysml:29f17ec2-4245-49fb-a177-0d25d24d4819\" target=\"_top\" title=\"psysml:29f17ec2-4245-49fb-a177-0d25d24d4819\" xlink:actuate=\"onRequest\" xlink:href=\"psysml:29f17ec2-4245-49fb-a177-0d25d24d4819\" xlink:show=\"new\" xlink:title=\"psysml:29f17ec2-4245-49fb-a177-0d25d24d4819\" xlink:type=\"simple\"><polygon fill=\"#FFFFFF\" points=\"105,177,131,177,138,199.2969,203,199.2969,203,274,105,274,105,177\" style=\"stroke: #000000; stroke-width: 1.5;\"/><line style=\"stroke: #000000; stroke-width: 1.5;\" x1=\"105\" x2=\"138\" y1=\"199.2969\" y2=\"199.2969\"/><text fill=\"#000000\" font-family=\"sans-serif\" font-size=\"14\" font-weight=\"bold\" lengthAdjust=\"spacingAndGlyphs\" textLength=\"20\" x=\"109\" y=\"191.9951\">P1</text></a><!--MD5=[f6df4d0ebaf0b5dfb2ced0ae5af7c670]\n",
       "cluster E4--><a href=\"psysml:a2f2702a-9aae-4fcb-bcab-ee7ca241440a\" target=\"_top\" title=\"psysml:a2f2702a-9aae-4fcb-bcab-ee7ca241440a\" xlink:actuate=\"onRequest\" xlink:href=\"psysml:a2f2702a-9aae-4fcb-bcab-ee7ca241440a\" xlink:show=\"new\" xlink:title=\"psysml:a2f2702a-9aae-4fcb-bcab-ee7ca241440a\" xlink:type=\"simple\"><polygon fill=\"#FFFFFF\" points=\"44,49,70,49,77,71.2969,203,71.2969,203,153,44,153,44,49\" style=\"stroke: #000000; stroke-width: 1.5;\"/><line style=\"stroke: #000000; stroke-width: 1.5;\" x1=\"44\" x2=\"77\" y1=\"71.2969\" y2=\"71.2969\"/><text fill=\"#000000\" font-family=\"sans-serif\" font-size=\"14\" font-weight=\"bold\" lengthAdjust=\"spacingAndGlyphs\" textLength=\"20\" x=\"48\" y=\"63.9951\">P2</text></a><!--MD5=[09b614a08d8cba4a07c9adeb5e0fee81]\n",
       "class E3--><a href=\"psysml:572e0642-2007-40ad-b1a4-6402326f1a76\" target=\"_top\" title=\"psysml:572e0642-2007-40ad-b1a4-6402326f1a76\" xlink:actuate=\"onRequest\" xlink:href=\"psysml:572e0642-2007-40ad-b1a4-6402326f1a76\" xlink:show=\"new\" xlink:title=\"psysml:572e0642-2007-40ad-b1a4-6402326f1a76\" xlink:type=\"simple\"><rect fill=\"#FFFFFF\" height=\"45.9375\" id=\"E3\" style=\"stroke: #383838; stroke-width: 1.5;\" width=\"66\" x=\"121\" y=\"212\"/><text fill=\"#000000\" font-family=\"sans-serif\" font-size=\"12\" font-style=\"italic\" lengthAdjust=\"spacingAndGlyphs\" textLength=\"64\" x=\"122\" y=\"228.1387\">«part def»</text><text fill=\"#000000\" font-family=\"sans-serif\" font-size=\"12\" lengthAdjust=\"spacingAndGlyphs\" textLength=\"8\" x=\"150\" y=\"242.1074\">A</text><line style=\"stroke: #383838; stroke-width: 1.5;\" x1=\"122\" x2=\"186\" y1=\"249.9375\" y2=\"249.9375\"/></a><!--MD5=[60a26617385b1d2d0262a64233df1f8d]\n",
       "class E6--><a href=\"psysml:1b3157b3-25ca-40f3-9d15-65b1efb05714\" target=\"_top\" title=\"psysml:1b3157b3-25ca-40f3-9d15-65b1efb05714\" xlink:actuate=\"onRequest\" xlink:href=\"psysml:1b3157b3-25ca-40f3-9d15-65b1efb05714\" xlink:show=\"new\" xlink:title=\"psysml:1b3157b3-25ca-40f3-9d15-65b1efb05714\" xlink:type=\"simple\"><rect fill=\"#FFFFFF\" height=\"45.9375\" id=\"E6\" rx=\"10\" ry=\"10\" style=\"stroke: #383838; stroke-width: 1.5;\" width=\"42\" x=\"145\" y=\"87.5\"/><text fill=\"#000000\" font-family=\"sans-serif\" font-size=\"12\" font-style=\"italic\" lengthAdjust=\"spacingAndGlyphs\" textLength=\"40\" x=\"146\" y=\"103.6387\">«part»</text><text fill=\"#000000\" font-family=\"sans-serif\" font-size=\"12\" lengthAdjust=\"spacingAndGlyphs\" textLength=\"22\" x=\"155\" y=\"117.6074\">x: A</text><line style=\"stroke: #383838; stroke-width: 1.5;\" x1=\"146\" x2=\"186\" y1=\"125.4375\" y2=\"125.4375\"/></a><a href=\"psysml:584bb17b-e85a-4a43-abf7-54afe3b89034\" target=\"_top\" title=\"psysml:584bb17b-e85a-4a43-abf7-54afe3b89034\" xlink:actuate=\"onRequest\" xlink:href=\"psysml:584bb17b-e85a-4a43-abf7-54afe3b89034\" xlink:show=\"new\" xlink:title=\"psysml:584bb17b-e85a-4a43-abf7-54afe3b89034\" xlink:type=\"simple\"><polygon fill=\"#FFFFFF\" points=\"60.5,84,95.5,84,102.5,106.2969,109.5,106.2969,109.5,136.5938,60.5,136.5938,60.5,84\" style=\"stroke: #000000; stroke-width: 1.5;\"/><line style=\"stroke: #000000; stroke-width: 1.5;\" x1=\"60.5\" x2=\"102.5\" y1=\"106.2969\" y2=\"106.2969\"/><text fill=\"#000000\" font-family=\"sans-serif\" font-size=\"14\" font-weight=\"bold\" lengthAdjust=\"spacingAndGlyphs\" textLength=\"29\" x=\"64.5\" y=\"98.9951\">P2a</text></a><!--MD5=[a717450b82c80b9240a525fa862496af]\n",
       "link E6 to E3--><a href=\"psysml:dd0f39f2-d93b-4af4-8d6e-2bae3b2dacf1\" target=\"_top\" title=\"psysml:dd0f39f2-d93b-4af4-8d6e-2bae3b2dacf1\" xlink:actuate=\"onRequest\" xlink:href=\"psysml:dd0f39f2-d93b-4af4-8d6e-2bae3b2dacf1\" xlink:show=\"new\" xlink:title=\"psysml:dd0f39f2-d93b-4af4-8d6e-2bae3b2dacf1\" xlink:type=\"simple\"><path d=\"M163.83,133.68 C162.24,149.9 160.04,172.39 158.12,191.96 \" fill=\"none\" id=\"E6-&gt;E3\" style=\"stroke: #383838; stroke-width: 1.0;\"/><polygon fill=\"#FFFFFF\" points=\"156.16,211.98,151.0533,192.3861,164.986,193.7564,156.16,211.98\" style=\"stroke: #383838; stroke-width: 1.0;\"/><ellipse cx=\"153.6016\" cy=\"186.9092\" fill=\"#383838\" rx=\"2\" ry=\"2\" style=\"stroke: #383838; stroke-width: 1.0;\"/><ellipse cx=\"163.5535\" cy=\"187.888\" fill=\"#383838\" rx=\"2\" ry=\"2\" style=\"stroke: #383838; stroke-width: 1.0;\"/></a><!--MD5=[39f04d2c3c65dbec01523ef0b0f4302e]\n",
       "@startuml\r\n",
       "skinparam monochrome true\r\n",
       "skinparam classbackgroundcolor white\r\n",
       "skinparam shadowing false\r\n",
       "skinparam wrapWidth 300\r\n",
       "hide circle\r\n",
       "\r\n",
       "package \"QualifiedNameImportTest\" as E1  [[psysml:a4661f57-6558-47c6-8aa5-037eecc073c9 ]]  {\r\n",
       "package \"P1\" as E2  [[psysml:29f17ec2-4245-49fb-a177-0d25d24d4819 ]]  {\r\n",
       "comp def \"A\" as E3  <<(T,blue)part def>> [[psysml:572e0642-2007-40ad-b1a4-6402326f1a76 ]] {\r\n",
       "}\r\n",
       "}\r\n",
       "package \"P2\" as E4  [[psysml:a2f2702a-9aae-4fcb-bcab-ee7ca241440a ]]  {\r\n",
       "package \"P2a\" as E5  [[psysml:584bb17b-e85a-4a43-abf7-54afe3b89034 ]]  {\r\n",
       "}\r\n",
       "comp usage \"x: A\" as E6  <<(T,blue)part>> [[psysml:1b3157b3-25ca-40f3-9d15-65b1efb05714 ]] {\r\n",
       "}\r\n",
       "E6 - -:|> E3 [[psysml:dd0f39f2-d93b-4af4-8d6e-2bae3b2dacf1 ]] \r\n",
       "}\r\n",
       "}\r\n",
       "@enduml\r\n",
       "\n",
       "PlantUML version 1.2020.13(Sat Jun 13 12:26:38 UTC 2020)\n",
       "(EPL source distribution)\n",
       "Java Runtime: OpenJDK Runtime Environment\n",
       "JVM: OpenJDK 64-Bit Server VM\n",
       "Default Encoding: UTF-8\n",
       "Language: en\n",
       "Country: null\n",
       "--></g></svg>"
      ]
     },
     "execution_count": 42,
     "metadata": {},
     "output_type": "execute_result"
    }
   ],
   "source": [
    "%viz --style=\"DEFAULT\" --view=\"Sequence\" \"QualifiedNameImportTest\""
   ]
  },
  {
   "cell_type": "code",
   "execution_count": 43,
   "id": "526dcd48",
   "metadata": {
    "execution": {
     "iopub.execute_input": "2021-05-28T10:48:59.598785Z",
     "iopub.status.busy": "2021-05-28T10:48:59.597926Z",
     "iopub.status.idle": "2021-05-28T10:48:59.624558Z",
     "shell.execute_reply": "2021-05-28T10:48:59.623368Z"
    }
   },
   "outputs": [
    {
     "data": {
      "image/svg+xml": [
       "<?xml version=\"1.0\" encoding=\"UTF-8\" standalone=\"no\"?><svg xmlns=\"http://www.w3.org/2000/svg\" xmlns:xlink=\"http://www.w3.org/1999/xlink\" contentScriptType=\"application/ecmascript\" contentStyleType=\"text/css\" height=\"310px\" preserveAspectRatio=\"none\" style=\"width:253px;height:310px;\" version=\"1.1\" viewBox=\"0 0 253 310\" width=\"253px\" zoomAndPan=\"magnify\"><defs/><g><!--MD5=[fbc87193dbaf4d95561dea2c320d4a47]\n",
       "cluster E1--><a href=\"psysml:a4661f57-6558-47c6-8aa5-037eecc073c9\" target=\"_top\" title=\"psysml:a4661f57-6558-47c6-8aa5-037eecc073c9\" xlink:actuate=\"onRequest\" xlink:href=\"psysml:a4661f57-6558-47c6-8aa5-037eecc073c9\" xlink:show=\"new\" xlink:title=\"psysml:a4661f57-6558-47c6-8aa5-037eecc073c9\" xlink:type=\"simple\"><polygon fill=\"#FFFFFF\" points=\"16,6,221,6,228,28.2969,231,28.2969,231,298,16,298,16,6\" style=\"stroke: #000000; stroke-width: 1.5;\"/><line style=\"stroke: #000000; stroke-width: 1.5;\" x1=\"16\" x2=\"228\" y1=\"28.2969\" y2=\"28.2969\"/><text fill=\"#000000\" font-family=\"sans-serif\" font-size=\"14\" font-weight=\"bold\" lengthAdjust=\"spacingAndGlyphs\" textLength=\"199\" x=\"20\" y=\"20.9951\">QualifiedNameImportTest</text></a><!--MD5=[e4f7fae6ed58524ba242bb0b0d3be6b7]\n",
       "cluster E2--><a href=\"psysml:29f17ec2-4245-49fb-a177-0d25d24d4819\" target=\"_top\" title=\"psysml:29f17ec2-4245-49fb-a177-0d25d24d4819\" xlink:actuate=\"onRequest\" xlink:href=\"psysml:29f17ec2-4245-49fb-a177-0d25d24d4819\" xlink:show=\"new\" xlink:title=\"psysml:29f17ec2-4245-49fb-a177-0d25d24d4819\" xlink:type=\"simple\"><polygon fill=\"#FFFFFF\" points=\"105,177,131,177,138,199.2969,203,199.2969,203,274,105,274,105,177\" style=\"stroke: #000000; stroke-width: 1.5;\"/><line style=\"stroke: #000000; stroke-width: 1.5;\" x1=\"105\" x2=\"138\" y1=\"199.2969\" y2=\"199.2969\"/><text fill=\"#000000\" font-family=\"sans-serif\" font-size=\"14\" font-weight=\"bold\" lengthAdjust=\"spacingAndGlyphs\" textLength=\"20\" x=\"109\" y=\"191.9951\">P1</text></a><!--MD5=[f6df4d0ebaf0b5dfb2ced0ae5af7c670]\n",
       "cluster E4--><a href=\"psysml:a2f2702a-9aae-4fcb-bcab-ee7ca241440a\" target=\"_top\" title=\"psysml:a2f2702a-9aae-4fcb-bcab-ee7ca241440a\" xlink:actuate=\"onRequest\" xlink:href=\"psysml:a2f2702a-9aae-4fcb-bcab-ee7ca241440a\" xlink:show=\"new\" xlink:title=\"psysml:a2f2702a-9aae-4fcb-bcab-ee7ca241440a\" xlink:type=\"simple\"><polygon fill=\"#FFFFFF\" points=\"44,49,70,49,77,71.2969,203,71.2969,203,153,44,153,44,49\" style=\"stroke: #000000; stroke-width: 1.5;\"/><line style=\"stroke: #000000; stroke-width: 1.5;\" x1=\"44\" x2=\"77\" y1=\"71.2969\" y2=\"71.2969\"/><text fill=\"#000000\" font-family=\"sans-serif\" font-size=\"14\" font-weight=\"bold\" lengthAdjust=\"spacingAndGlyphs\" textLength=\"20\" x=\"48\" y=\"63.9951\">P2</text></a><!--MD5=[09b614a08d8cba4a07c9adeb5e0fee81]\n",
       "class E3--><a href=\"psysml:572e0642-2007-40ad-b1a4-6402326f1a76\" target=\"_top\" title=\"psysml:572e0642-2007-40ad-b1a4-6402326f1a76\" xlink:actuate=\"onRequest\" xlink:href=\"psysml:572e0642-2007-40ad-b1a4-6402326f1a76\" xlink:show=\"new\" xlink:title=\"psysml:572e0642-2007-40ad-b1a4-6402326f1a76\" xlink:type=\"simple\"><rect fill=\"#FFFFFF\" height=\"45.9375\" id=\"E3\" style=\"stroke: #383838; stroke-width: 1.5;\" width=\"66\" x=\"121\" y=\"212\"/><text fill=\"#000000\" font-family=\"sans-serif\" font-size=\"12\" font-style=\"italic\" lengthAdjust=\"spacingAndGlyphs\" textLength=\"64\" x=\"122\" y=\"228.1387\">«part def»</text><text fill=\"#000000\" font-family=\"sans-serif\" font-size=\"12\" lengthAdjust=\"spacingAndGlyphs\" textLength=\"8\" x=\"150\" y=\"242.1074\">A</text><line style=\"stroke: #383838; stroke-width: 1.5;\" x1=\"122\" x2=\"186\" y1=\"249.9375\" y2=\"249.9375\"/></a><!--MD5=[60a26617385b1d2d0262a64233df1f8d]\n",
       "class E6--><a href=\"psysml:1b3157b3-25ca-40f3-9d15-65b1efb05714\" target=\"_top\" title=\"psysml:1b3157b3-25ca-40f3-9d15-65b1efb05714\" xlink:actuate=\"onRequest\" xlink:href=\"psysml:1b3157b3-25ca-40f3-9d15-65b1efb05714\" xlink:show=\"new\" xlink:title=\"psysml:1b3157b3-25ca-40f3-9d15-65b1efb05714\" xlink:type=\"simple\"><rect fill=\"#FFFFFF\" height=\"45.9375\" id=\"E6\" rx=\"10\" ry=\"10\" style=\"stroke: #383838; stroke-width: 1.5;\" width=\"42\" x=\"145\" y=\"87.5\"/><text fill=\"#000000\" font-family=\"sans-serif\" font-size=\"12\" font-style=\"italic\" lengthAdjust=\"spacingAndGlyphs\" textLength=\"40\" x=\"146\" y=\"103.6387\">«part»</text><text fill=\"#000000\" font-family=\"sans-serif\" font-size=\"12\" lengthAdjust=\"spacingAndGlyphs\" textLength=\"22\" x=\"155\" y=\"117.6074\">x: A</text><line style=\"stroke: #383838; stroke-width: 1.5;\" x1=\"146\" x2=\"186\" y1=\"125.4375\" y2=\"125.4375\"/></a><a href=\"psysml:584bb17b-e85a-4a43-abf7-54afe3b89034\" target=\"_top\" title=\"psysml:584bb17b-e85a-4a43-abf7-54afe3b89034\" xlink:actuate=\"onRequest\" xlink:href=\"psysml:584bb17b-e85a-4a43-abf7-54afe3b89034\" xlink:show=\"new\" xlink:title=\"psysml:584bb17b-e85a-4a43-abf7-54afe3b89034\" xlink:type=\"simple\"><polygon fill=\"#FFFFFF\" points=\"60.5,84,95.5,84,102.5,106.2969,109.5,106.2969,109.5,136.5938,60.5,136.5938,60.5,84\" style=\"stroke: #000000; stroke-width: 1.5;\"/><line style=\"stroke: #000000; stroke-width: 1.5;\" x1=\"60.5\" x2=\"102.5\" y1=\"106.2969\" y2=\"106.2969\"/><text fill=\"#000000\" font-family=\"sans-serif\" font-size=\"14\" font-weight=\"bold\" lengthAdjust=\"spacingAndGlyphs\" textLength=\"29\" x=\"64.5\" y=\"98.9951\">P2a</text></a><!--MD5=[a717450b82c80b9240a525fa862496af]\n",
       "link E6 to E3--><a href=\"psysml:dd0f39f2-d93b-4af4-8d6e-2bae3b2dacf1\" target=\"_top\" title=\"psysml:dd0f39f2-d93b-4af4-8d6e-2bae3b2dacf1\" xlink:actuate=\"onRequest\" xlink:href=\"psysml:dd0f39f2-d93b-4af4-8d6e-2bae3b2dacf1\" xlink:show=\"new\" xlink:title=\"psysml:dd0f39f2-d93b-4af4-8d6e-2bae3b2dacf1\" xlink:type=\"simple\"><path d=\"M163.83,133.68 C162.24,149.9 160.04,172.39 158.12,191.96 \" fill=\"none\" id=\"E6-&gt;E3\" style=\"stroke: #383838; stroke-width: 1.0;\"/><polygon fill=\"#FFFFFF\" points=\"156.16,211.98,151.0533,192.3861,164.986,193.7564,156.16,211.98\" style=\"stroke: #383838; stroke-width: 1.0;\"/><ellipse cx=\"153.6016\" cy=\"186.9092\" fill=\"#383838\" rx=\"2\" ry=\"2\" style=\"stroke: #383838; stroke-width: 1.0;\"/><ellipse cx=\"163.5535\" cy=\"187.888\" fill=\"#383838\" rx=\"2\" ry=\"2\" style=\"stroke: #383838; stroke-width: 1.0;\"/></a><!--MD5=[39f04d2c3c65dbec01523ef0b0f4302e]\n",
       "@startuml\r\n",
       "skinparam monochrome true\r\n",
       "skinparam classbackgroundcolor white\r\n",
       "skinparam shadowing false\r\n",
       "skinparam wrapWidth 300\r\n",
       "hide circle\r\n",
       "\r\n",
       "package \"QualifiedNameImportTest\" as E1  [[psysml:a4661f57-6558-47c6-8aa5-037eecc073c9 ]]  {\r\n",
       "package \"P1\" as E2  [[psysml:29f17ec2-4245-49fb-a177-0d25d24d4819 ]]  {\r\n",
       "comp def \"A\" as E3  <<(T,blue)part def>> [[psysml:572e0642-2007-40ad-b1a4-6402326f1a76 ]] {\r\n",
       "}\r\n",
       "}\r\n",
       "package \"P2\" as E4  [[psysml:a2f2702a-9aae-4fcb-bcab-ee7ca241440a ]]  {\r\n",
       "package \"P2a\" as E5  [[psysml:584bb17b-e85a-4a43-abf7-54afe3b89034 ]]  {\r\n",
       "}\r\n",
       "comp usage \"x: A\" as E6  <<(T,blue)part>> [[psysml:1b3157b3-25ca-40f3-9d15-65b1efb05714 ]] {\r\n",
       "}\r\n",
       "E6 - -:|> E3 [[psysml:dd0f39f2-d93b-4af4-8d6e-2bae3b2dacf1 ]] \r\n",
       "}\r\n",
       "}\r\n",
       "@enduml\r\n",
       "\n",
       "PlantUML version 1.2020.13(Sat Jun 13 12:26:38 UTC 2020)\n",
       "(EPL source distribution)\n",
       "Java Runtime: OpenJDK Runtime Environment\n",
       "JVM: OpenJDK 64-Bit Server VM\n",
       "Default Encoding: UTF-8\n",
       "Language: en\n",
       "Country: null\n",
       "--></g></svg>"
      ]
     },
     "execution_count": 43,
     "metadata": {},
     "output_type": "execute_result"
    }
   ],
   "source": [
    "%viz --style=\"DEFAULT\" --view=\"MIXED\" \"QualifiedNameImportTest\""
   ]
  },
  {
   "cell_type": "code",
   "execution_count": 44,
   "id": "34c13e2e",
   "metadata": {
    "execution": {
     "iopub.execute_input": "2021-05-28T10:48:59.674853Z",
     "iopub.status.busy": "2021-05-28T10:48:59.674312Z",
     "iopub.status.idle": "2021-05-28T10:48:59.699703Z",
     "shell.execute_reply": "2021-05-28T10:48:59.698533Z"
    }
   },
   "outputs": [
    {
     "data": {
      "image/svg+xml": [
       "<?xml version=\"1.0\" encoding=\"UTF-8\" standalone=\"no\"?><svg xmlns=\"http://www.w3.org/2000/svg\" xmlns:xlink=\"http://www.w3.org/1999/xlink\" contentScriptType=\"application/ecmascript\" contentStyleType=\"text/css\" height=\"310px\" preserveAspectRatio=\"none\" style=\"width:253px;height:310px;\" version=\"1.1\" viewBox=\"0 0 253 310\" width=\"253px\" zoomAndPan=\"magnify\"><defs/><g><!--MD5=[fbc87193dbaf4d95561dea2c320d4a47]\n",
       "cluster E1--><a href=\"psysml:a4661f57-6558-47c6-8aa5-037eecc073c9\" target=\"_top\" title=\"psysml:a4661f57-6558-47c6-8aa5-037eecc073c9\" xlink:actuate=\"onRequest\" xlink:href=\"psysml:a4661f57-6558-47c6-8aa5-037eecc073c9\" xlink:show=\"new\" xlink:title=\"psysml:a4661f57-6558-47c6-8aa5-037eecc073c9\" xlink:type=\"simple\"><polygon fill=\"#FFFFFF\" points=\"16,6,221,6,228,28.2969,231,28.2969,231,298,16,298,16,6\" style=\"stroke: #000000; stroke-width: 1.5;\"/><line style=\"stroke: #000000; stroke-width: 1.5;\" x1=\"16\" x2=\"228\" y1=\"28.2969\" y2=\"28.2969\"/><text fill=\"#000000\" font-family=\"sans-serif\" font-size=\"14\" font-weight=\"bold\" lengthAdjust=\"spacingAndGlyphs\" textLength=\"199\" x=\"20\" y=\"20.9951\">QualifiedNameImportTest</text></a><!--MD5=[e4f7fae6ed58524ba242bb0b0d3be6b7]\n",
       "cluster E2--><a href=\"psysml:29f17ec2-4245-49fb-a177-0d25d24d4819\" target=\"_top\" title=\"psysml:29f17ec2-4245-49fb-a177-0d25d24d4819\" xlink:actuate=\"onRequest\" xlink:href=\"psysml:29f17ec2-4245-49fb-a177-0d25d24d4819\" xlink:show=\"new\" xlink:title=\"psysml:29f17ec2-4245-49fb-a177-0d25d24d4819\" xlink:type=\"simple\"><polygon fill=\"#FFFFFF\" points=\"105,177,131,177,138,199.2969,203,199.2969,203,274,105,274,105,177\" style=\"stroke: #000000; stroke-width: 1.5;\"/><line style=\"stroke: #000000; stroke-width: 1.5;\" x1=\"105\" x2=\"138\" y1=\"199.2969\" y2=\"199.2969\"/><text fill=\"#000000\" font-family=\"sans-serif\" font-size=\"14\" font-weight=\"bold\" lengthAdjust=\"spacingAndGlyphs\" textLength=\"20\" x=\"109\" y=\"191.9951\">P1</text></a><!--MD5=[f6df4d0ebaf0b5dfb2ced0ae5af7c670]\n",
       "cluster E4--><a href=\"psysml:a2f2702a-9aae-4fcb-bcab-ee7ca241440a\" target=\"_top\" title=\"psysml:a2f2702a-9aae-4fcb-bcab-ee7ca241440a\" xlink:actuate=\"onRequest\" xlink:href=\"psysml:a2f2702a-9aae-4fcb-bcab-ee7ca241440a\" xlink:show=\"new\" xlink:title=\"psysml:a2f2702a-9aae-4fcb-bcab-ee7ca241440a\" xlink:type=\"simple\"><polygon fill=\"#FFFFFF\" points=\"44,49,70,49,77,71.2969,203,71.2969,203,153,44,153,44,49\" style=\"stroke: #000000; stroke-width: 1.5;\"/><line style=\"stroke: #000000; stroke-width: 1.5;\" x1=\"44\" x2=\"77\" y1=\"71.2969\" y2=\"71.2969\"/><text fill=\"#000000\" font-family=\"sans-serif\" font-size=\"14\" font-weight=\"bold\" lengthAdjust=\"spacingAndGlyphs\" textLength=\"20\" x=\"48\" y=\"63.9951\">P2</text></a><!--MD5=[09b614a08d8cba4a07c9adeb5e0fee81]\n",
       "class E3--><a href=\"psysml:572e0642-2007-40ad-b1a4-6402326f1a76\" target=\"_top\" title=\"psysml:572e0642-2007-40ad-b1a4-6402326f1a76\" xlink:actuate=\"onRequest\" xlink:href=\"psysml:572e0642-2007-40ad-b1a4-6402326f1a76\" xlink:show=\"new\" xlink:title=\"psysml:572e0642-2007-40ad-b1a4-6402326f1a76\" xlink:type=\"simple\"><rect fill=\"#FFFFFF\" height=\"45.9375\" id=\"E3\" style=\"stroke: #383838; stroke-width: 1.5;\" width=\"66\" x=\"121\" y=\"212\"/><text fill=\"#000000\" font-family=\"sans-serif\" font-size=\"12\" font-style=\"italic\" lengthAdjust=\"spacingAndGlyphs\" textLength=\"64\" x=\"122\" y=\"228.1387\">«part def»</text><text fill=\"#000000\" font-family=\"sans-serif\" font-size=\"12\" lengthAdjust=\"spacingAndGlyphs\" textLength=\"8\" x=\"150\" y=\"242.1074\">A</text><line style=\"stroke: #383838; stroke-width: 1.5;\" x1=\"122\" x2=\"186\" y1=\"249.9375\" y2=\"249.9375\"/></a><!--MD5=[60a26617385b1d2d0262a64233df1f8d]\n",
       "class E6--><a href=\"psysml:1b3157b3-25ca-40f3-9d15-65b1efb05714\" target=\"_top\" title=\"psysml:1b3157b3-25ca-40f3-9d15-65b1efb05714\" xlink:actuate=\"onRequest\" xlink:href=\"psysml:1b3157b3-25ca-40f3-9d15-65b1efb05714\" xlink:show=\"new\" xlink:title=\"psysml:1b3157b3-25ca-40f3-9d15-65b1efb05714\" xlink:type=\"simple\"><rect fill=\"#FFFFFF\" height=\"45.9375\" id=\"E6\" rx=\"10\" ry=\"10\" style=\"stroke: #383838; stroke-width: 1.5;\" width=\"42\" x=\"145\" y=\"87.5\"/><text fill=\"#000000\" font-family=\"sans-serif\" font-size=\"12\" font-style=\"italic\" lengthAdjust=\"spacingAndGlyphs\" textLength=\"40\" x=\"146\" y=\"103.6387\">«part»</text><text fill=\"#000000\" font-family=\"sans-serif\" font-size=\"12\" lengthAdjust=\"spacingAndGlyphs\" textLength=\"22\" x=\"155\" y=\"117.6074\">x: A</text><line style=\"stroke: #383838; stroke-width: 1.5;\" x1=\"146\" x2=\"186\" y1=\"125.4375\" y2=\"125.4375\"/></a><a href=\"psysml:584bb17b-e85a-4a43-abf7-54afe3b89034\" target=\"_top\" title=\"psysml:584bb17b-e85a-4a43-abf7-54afe3b89034\" xlink:actuate=\"onRequest\" xlink:href=\"psysml:584bb17b-e85a-4a43-abf7-54afe3b89034\" xlink:show=\"new\" xlink:title=\"psysml:584bb17b-e85a-4a43-abf7-54afe3b89034\" xlink:type=\"simple\"><polygon fill=\"#FFFFFF\" points=\"60.5,84,95.5,84,102.5,106.2969,109.5,106.2969,109.5,136.5938,60.5,136.5938,60.5,84\" style=\"stroke: #000000; stroke-width: 1.5;\"/><line style=\"stroke: #000000; stroke-width: 1.5;\" x1=\"60.5\" x2=\"102.5\" y1=\"106.2969\" y2=\"106.2969\"/><text fill=\"#000000\" font-family=\"sans-serif\" font-size=\"14\" font-weight=\"bold\" lengthAdjust=\"spacingAndGlyphs\" textLength=\"29\" x=\"64.5\" y=\"98.9951\">P2a</text></a><!--MD5=[a717450b82c80b9240a525fa862496af]\n",
       "link E6 to E3--><a href=\"psysml:dd0f39f2-d93b-4af4-8d6e-2bae3b2dacf1\" target=\"_top\" title=\"psysml:dd0f39f2-d93b-4af4-8d6e-2bae3b2dacf1\" xlink:actuate=\"onRequest\" xlink:href=\"psysml:dd0f39f2-d93b-4af4-8d6e-2bae3b2dacf1\" xlink:show=\"new\" xlink:title=\"psysml:dd0f39f2-d93b-4af4-8d6e-2bae3b2dacf1\" xlink:type=\"simple\"><path d=\"M163.83,133.68 C162.24,149.9 160.04,172.39 158.12,191.96 \" fill=\"none\" id=\"E6-&gt;E3\" style=\"stroke: #383838; stroke-width: 1.0;\"/><polygon fill=\"#FFFFFF\" points=\"156.16,211.98,151.0533,192.3861,164.986,193.7564,156.16,211.98\" style=\"stroke: #383838; stroke-width: 1.0;\"/><ellipse cx=\"153.6016\" cy=\"186.9092\" fill=\"#383838\" rx=\"2\" ry=\"2\" style=\"stroke: #383838; stroke-width: 1.0;\"/><ellipse cx=\"163.5535\" cy=\"187.888\" fill=\"#383838\" rx=\"2\" ry=\"2\" style=\"stroke: #383838; stroke-width: 1.0;\"/></a><!--MD5=[7c2e62bfa700e3c544cacaf8b1198929]\n",
       "@startuml\r\n",
       "top to bottom direction\r\n",
       "skinparam monochrome true\r\n",
       "skinparam classbackgroundcolor white\r\n",
       "skinparam shadowing false\r\n",
       "skinparam wrapWidth 300\r\n",
       "hide circle\r\n",
       "\r\n",
       "package \"QualifiedNameImportTest\" as E1  [[psysml:a4661f57-6558-47c6-8aa5-037eecc073c9 ]]  {\r\n",
       "package \"P1\" as E2  [[psysml:29f17ec2-4245-49fb-a177-0d25d24d4819 ]]  {\r\n",
       "comp def \"A\" as E3  <<(T,blue)part def>> [[psysml:572e0642-2007-40ad-b1a4-6402326f1a76 ]] {\r\n",
       "}\r\n",
       "}\r\n",
       "package \"P2\" as E4  [[psysml:a2f2702a-9aae-4fcb-bcab-ee7ca241440a ]]  {\r\n",
       "package \"P2a\" as E5  [[psysml:584bb17b-e85a-4a43-abf7-54afe3b89034 ]]  {\r\n",
       "}\r\n",
       "comp usage \"x: A\" as E6  <<(T,blue)part>> [[psysml:1b3157b3-25ca-40f3-9d15-65b1efb05714 ]] {\r\n",
       "}\r\n",
       "E6 - -:|> E3 [[psysml:dd0f39f2-d93b-4af4-8d6e-2bae3b2dacf1 ]] \r\n",
       "}\r\n",
       "}\r\n",
       "@enduml\r\n",
       "\n",
       "PlantUML version 1.2020.13(Sat Jun 13 12:26:38 UTC 2020)\n",
       "(EPL source distribution)\n",
       "Java Runtime: OpenJDK Runtime Environment\n",
       "JVM: OpenJDK 64-Bit Server VM\n",
       "Default Encoding: UTF-8\n",
       "Language: en\n",
       "Country: null\n",
       "--></g></svg>"
      ]
     },
     "execution_count": 44,
     "metadata": {},
     "output_type": "execute_result"
    }
   ],
   "source": [
    "%viz --style=\"TB\" --view=\"Default\" \"QualifiedNameImportTest\""
   ]
  },
  {
   "cell_type": "code",
   "execution_count": 45,
   "id": "781bf71e",
   "metadata": {
    "execution": {
     "iopub.execute_input": "2021-05-28T10:48:59.750298Z",
     "iopub.status.busy": "2021-05-28T10:48:59.749589Z",
     "iopub.status.idle": "2021-05-28T10:48:59.775683Z",
     "shell.execute_reply": "2021-05-28T10:48:59.774521Z"
    }
   },
   "outputs": [
    {
     "data": {
      "image/svg+xml": [
       "<?xml version=\"1.0\" encoding=\"UTF-8\" standalone=\"no\"?><svg xmlns=\"http://www.w3.org/2000/svg\" xmlns:xlink=\"http://www.w3.org/1999/xlink\" contentScriptType=\"application/ecmascript\" contentStyleType=\"text/css\" height=\"310px\" preserveAspectRatio=\"none\" style=\"width:253px;height:310px;\" version=\"1.1\" viewBox=\"0 0 253 310\" width=\"253px\" zoomAndPan=\"magnify\"><defs/><g><!--MD5=[fbc87193dbaf4d95561dea2c320d4a47]\n",
       "cluster E1--><a href=\"psysml:a4661f57-6558-47c6-8aa5-037eecc073c9\" target=\"_top\" title=\"psysml:a4661f57-6558-47c6-8aa5-037eecc073c9\" xlink:actuate=\"onRequest\" xlink:href=\"psysml:a4661f57-6558-47c6-8aa5-037eecc073c9\" xlink:show=\"new\" xlink:title=\"psysml:a4661f57-6558-47c6-8aa5-037eecc073c9\" xlink:type=\"simple\"><polygon fill=\"#FFFFFF\" points=\"16,6,221,6,228,28.2969,231,28.2969,231,298,16,298,16,6\" style=\"stroke: #000000; stroke-width: 1.5;\"/><line style=\"stroke: #000000; stroke-width: 1.5;\" x1=\"16\" x2=\"228\" y1=\"28.2969\" y2=\"28.2969\"/><text fill=\"#000000\" font-family=\"sans-serif\" font-size=\"14\" font-weight=\"bold\" lengthAdjust=\"spacingAndGlyphs\" textLength=\"199\" x=\"20\" y=\"20.9951\">QualifiedNameImportTest</text></a><!--MD5=[e4f7fae6ed58524ba242bb0b0d3be6b7]\n",
       "cluster E2--><a href=\"psysml:29f17ec2-4245-49fb-a177-0d25d24d4819\" target=\"_top\" title=\"psysml:29f17ec2-4245-49fb-a177-0d25d24d4819\" xlink:actuate=\"onRequest\" xlink:href=\"psysml:29f17ec2-4245-49fb-a177-0d25d24d4819\" xlink:show=\"new\" xlink:title=\"psysml:29f17ec2-4245-49fb-a177-0d25d24d4819\" xlink:type=\"simple\"><polygon fill=\"#FFFFFF\" points=\"105,177,131,177,138,199.2969,203,199.2969,203,274,105,274,105,177\" style=\"stroke: #000000; stroke-width: 1.5;\"/><line style=\"stroke: #000000; stroke-width: 1.5;\" x1=\"105\" x2=\"138\" y1=\"199.2969\" y2=\"199.2969\"/><text fill=\"#000000\" font-family=\"sans-serif\" font-size=\"14\" font-weight=\"bold\" lengthAdjust=\"spacingAndGlyphs\" textLength=\"20\" x=\"109\" y=\"191.9951\">P1</text></a><!--MD5=[f6df4d0ebaf0b5dfb2ced0ae5af7c670]\n",
       "cluster E4--><a href=\"psysml:a2f2702a-9aae-4fcb-bcab-ee7ca241440a\" target=\"_top\" title=\"psysml:a2f2702a-9aae-4fcb-bcab-ee7ca241440a\" xlink:actuate=\"onRequest\" xlink:href=\"psysml:a2f2702a-9aae-4fcb-bcab-ee7ca241440a\" xlink:show=\"new\" xlink:title=\"psysml:a2f2702a-9aae-4fcb-bcab-ee7ca241440a\" xlink:type=\"simple\"><polygon fill=\"#FFFFFF\" points=\"44,49,70,49,77,71.2969,203,71.2969,203,153,44,153,44,49\" style=\"stroke: #000000; stroke-width: 1.5;\"/><line style=\"stroke: #000000; stroke-width: 1.5;\" x1=\"44\" x2=\"77\" y1=\"71.2969\" y2=\"71.2969\"/><text fill=\"#000000\" font-family=\"sans-serif\" font-size=\"14\" font-weight=\"bold\" lengthAdjust=\"spacingAndGlyphs\" textLength=\"20\" x=\"48\" y=\"63.9951\">P2</text></a><!--MD5=[09b614a08d8cba4a07c9adeb5e0fee81]\n",
       "class E3--><a href=\"psysml:572e0642-2007-40ad-b1a4-6402326f1a76\" target=\"_top\" title=\"psysml:572e0642-2007-40ad-b1a4-6402326f1a76\" xlink:actuate=\"onRequest\" xlink:href=\"psysml:572e0642-2007-40ad-b1a4-6402326f1a76\" xlink:show=\"new\" xlink:title=\"psysml:572e0642-2007-40ad-b1a4-6402326f1a76\" xlink:type=\"simple\"><rect fill=\"#FFFFFF\" height=\"45.9375\" id=\"E3\" style=\"stroke: #383838; stroke-width: 1.5;\" width=\"66\" x=\"121\" y=\"212\"/><text fill=\"#000000\" font-family=\"sans-serif\" font-size=\"12\" font-style=\"italic\" lengthAdjust=\"spacingAndGlyphs\" textLength=\"64\" x=\"122\" y=\"228.1387\">«part def»</text><text fill=\"#000000\" font-family=\"sans-serif\" font-size=\"12\" lengthAdjust=\"spacingAndGlyphs\" textLength=\"8\" x=\"150\" y=\"242.1074\">A</text><line style=\"stroke: #383838; stroke-width: 1.5;\" x1=\"122\" x2=\"186\" y1=\"249.9375\" y2=\"249.9375\"/></a><!--MD5=[60a26617385b1d2d0262a64233df1f8d]\n",
       "class E6--><a href=\"psysml:1b3157b3-25ca-40f3-9d15-65b1efb05714\" target=\"_top\" title=\"psysml:1b3157b3-25ca-40f3-9d15-65b1efb05714\" xlink:actuate=\"onRequest\" xlink:href=\"psysml:1b3157b3-25ca-40f3-9d15-65b1efb05714\" xlink:show=\"new\" xlink:title=\"psysml:1b3157b3-25ca-40f3-9d15-65b1efb05714\" xlink:type=\"simple\"><rect fill=\"#FFFFFF\" height=\"45.9375\" id=\"E6\" rx=\"10\" ry=\"10\" style=\"stroke: #383838; stroke-width: 1.5;\" width=\"42\" x=\"145\" y=\"87.5\"/><text fill=\"#000000\" font-family=\"sans-serif\" font-size=\"12\" font-style=\"italic\" lengthAdjust=\"spacingAndGlyphs\" textLength=\"40\" x=\"146\" y=\"103.6387\">«part»</text><text fill=\"#000000\" font-family=\"sans-serif\" font-size=\"12\" lengthAdjust=\"spacingAndGlyphs\" textLength=\"22\" x=\"155\" y=\"117.6074\">x: A</text><line style=\"stroke: #383838; stroke-width: 1.5;\" x1=\"146\" x2=\"186\" y1=\"125.4375\" y2=\"125.4375\"/></a><a href=\"psysml:584bb17b-e85a-4a43-abf7-54afe3b89034\" target=\"_top\" title=\"psysml:584bb17b-e85a-4a43-abf7-54afe3b89034\" xlink:actuate=\"onRequest\" xlink:href=\"psysml:584bb17b-e85a-4a43-abf7-54afe3b89034\" xlink:show=\"new\" xlink:title=\"psysml:584bb17b-e85a-4a43-abf7-54afe3b89034\" xlink:type=\"simple\"><polygon fill=\"#FFFFFF\" points=\"60.5,84,95.5,84,102.5,106.2969,109.5,106.2969,109.5,136.5938,60.5,136.5938,60.5,84\" style=\"stroke: #000000; stroke-width: 1.5;\"/><line style=\"stroke: #000000; stroke-width: 1.5;\" x1=\"60.5\" x2=\"102.5\" y1=\"106.2969\" y2=\"106.2969\"/><text fill=\"#000000\" font-family=\"sans-serif\" font-size=\"14\" font-weight=\"bold\" lengthAdjust=\"spacingAndGlyphs\" textLength=\"29\" x=\"64.5\" y=\"98.9951\">P2a</text></a><!--MD5=[a717450b82c80b9240a525fa862496af]\n",
       "link E6 to E3--><a href=\"psysml:dd0f39f2-d93b-4af4-8d6e-2bae3b2dacf1\" target=\"_top\" title=\"psysml:dd0f39f2-d93b-4af4-8d6e-2bae3b2dacf1\" xlink:actuate=\"onRequest\" xlink:href=\"psysml:dd0f39f2-d93b-4af4-8d6e-2bae3b2dacf1\" xlink:show=\"new\" xlink:title=\"psysml:dd0f39f2-d93b-4af4-8d6e-2bae3b2dacf1\" xlink:type=\"simple\"><path d=\"M163.83,133.68 C162.24,149.9 160.04,172.39 158.12,191.96 \" fill=\"none\" id=\"E6-&gt;E3\" style=\"stroke: #383838; stroke-width: 1.0;\"/><polygon fill=\"#FFFFFF\" points=\"156.16,211.98,151.0533,192.3861,164.986,193.7564,156.16,211.98\" style=\"stroke: #383838; stroke-width: 1.0;\"/><ellipse cx=\"153.6016\" cy=\"186.9092\" fill=\"#383838\" rx=\"2\" ry=\"2\" style=\"stroke: #383838; stroke-width: 1.0;\"/><ellipse cx=\"163.5535\" cy=\"187.888\" fill=\"#383838\" rx=\"2\" ry=\"2\" style=\"stroke: #383838; stroke-width: 1.0;\"/></a><!--MD5=[7c2e62bfa700e3c544cacaf8b1198929]\n",
       "@startuml\r\n",
       "top to bottom direction\r\n",
       "skinparam monochrome true\r\n",
       "skinparam classbackgroundcolor white\r\n",
       "skinparam shadowing false\r\n",
       "skinparam wrapWidth 300\r\n",
       "hide circle\r\n",
       "\r\n",
       "package \"QualifiedNameImportTest\" as E1  [[psysml:a4661f57-6558-47c6-8aa5-037eecc073c9 ]]  {\r\n",
       "package \"P1\" as E2  [[psysml:29f17ec2-4245-49fb-a177-0d25d24d4819 ]]  {\r\n",
       "comp def \"A\" as E3  <<(T,blue)part def>> [[psysml:572e0642-2007-40ad-b1a4-6402326f1a76 ]] {\r\n",
       "}\r\n",
       "}\r\n",
       "package \"P2\" as E4  [[psysml:a2f2702a-9aae-4fcb-bcab-ee7ca241440a ]]  {\r\n",
       "package \"P2a\" as E5  [[psysml:584bb17b-e85a-4a43-abf7-54afe3b89034 ]]  {\r\n",
       "}\r\n",
       "comp usage \"x: A\" as E6  <<(T,blue)part>> [[psysml:1b3157b3-25ca-40f3-9d15-65b1efb05714 ]] {\r\n",
       "}\r\n",
       "E6 - -:|> E3 [[psysml:dd0f39f2-d93b-4af4-8d6e-2bae3b2dacf1 ]] \r\n",
       "}\r\n",
       "}\r\n",
       "@enduml\r\n",
       "\n",
       "PlantUML version 1.2020.13(Sat Jun 13 12:26:38 UTC 2020)\n",
       "(EPL source distribution)\n",
       "Java Runtime: OpenJDK Runtime Environment\n",
       "JVM: OpenJDK 64-Bit Server VM\n",
       "Default Encoding: UTF-8\n",
       "Language: en\n",
       "Country: null\n",
       "--></g></svg>"
      ]
     },
     "execution_count": 45,
     "metadata": {},
     "output_type": "execute_result"
    }
   ],
   "source": [
    "%viz --style=\"TB\" --view=\"Tree\" \"QualifiedNameImportTest\""
   ]
  },
  {
   "cell_type": "code",
   "execution_count": 46,
   "id": "2fab4c92",
   "metadata": {
    "execution": {
     "iopub.execute_input": "2021-05-28T10:48:59.829116Z",
     "iopub.status.busy": "2021-05-28T10:48:59.828647Z",
     "iopub.status.idle": "2021-05-28T10:48:59.832427Z",
     "shell.execute_reply": "2021-05-28T10:48:59.832058Z"
    }
   },
   "outputs": [
    {
     "data": {
      "image/svg+xml": [
       "<?xml version=\"1.0\" encoding=\"UTF-8\" standalone=\"no\"?><svg xmlns=\"http://www.w3.org/2000/svg\" xmlns:xlink=\"http://www.w3.org/1999/xlink\" contentScriptType=\"application/ecmascript\" contentStyleType=\"text/css\" height=\"12px\" preserveAspectRatio=\"none\" style=\"width:12px;height:12px;\" version=\"1.1\" viewBox=\"0 0 12 12\" width=\"12px\" zoomAndPan=\"magnify\"><defs/><g><!--MD5=[f4ee21bc66e489b5061b7c3e9601fdef]\n",
       "@startuml\r\n",
       "top to bottom direction\r\n",
       "skinparam monochrome true\r\n",
       "skinparam classbackgroundcolor white\r\n",
       "skinparam shadowing false\r\n",
       "skinparam wrapWidth 300\r\n",
       "hide circle\r\n",
       "\r\n",
       "@enduml\r\n",
       "\n",
       "PlantUML version 1.2020.13(Sat Jun 13 12:26:38 UTC 2020)\n",
       "(EPL source distribution)\n",
       "Java Runtime: OpenJDK Runtime Environment\n",
       "JVM: OpenJDK 64-Bit Server VM\n",
       "Default Encoding: UTF-8\n",
       "Language: en\n",
       "Country: null\n",
       "--></g></svg>"
      ]
     },
     "execution_count": 46,
     "metadata": {},
     "output_type": "execute_result"
    }
   ],
   "source": [
    "%viz --style=\"TB\" --view=\"State\" \"QualifiedNameImportTest\""
   ]
  },
  {
   "cell_type": "code",
   "execution_count": 47,
   "id": "4c1f35ff",
   "metadata": {
    "execution": {
     "iopub.execute_input": "2021-05-28T10:48:59.885809Z",
     "iopub.status.busy": "2021-05-28T10:48:59.884856Z",
     "iopub.status.idle": "2021-05-28T10:48:59.909944Z",
     "shell.execute_reply": "2021-05-28T10:48:59.908517Z"
    }
   },
   "outputs": [
    {
     "data": {
      "image/svg+xml": [
       "<?xml version=\"1.0\" encoding=\"UTF-8\" standalone=\"no\"?><svg xmlns=\"http://www.w3.org/2000/svg\" xmlns:xlink=\"http://www.w3.org/1999/xlink\" contentScriptType=\"application/ecmascript\" contentStyleType=\"text/css\" height=\"189px\" preserveAspectRatio=\"none\" style=\"width:381px;height:189px;\" version=\"1.1\" viewBox=\"0 0 381 189\" width=\"381px\" zoomAndPan=\"magnify\"><defs/><g><!--MD5=[fbc87193dbaf4d95561dea2c320d4a47]\n",
       "cluster E1--><a href=\"psysml:a4661f57-6558-47c6-8aa5-037eecc073c9\" target=\"_top\" title=\"psysml:a4661f57-6558-47c6-8aa5-037eecc073c9\" xlink:actuate=\"onRequest\" xlink:href=\"psysml:a4661f57-6558-47c6-8aa5-037eecc073c9\" xlink:show=\"new\" xlink:title=\"psysml:a4661f57-6558-47c6-8aa5-037eecc073c9\" xlink:type=\"simple\"><polygon fill=\"#FFFFFF\" points=\"16,6,221,6,228,28.2969,359,28.2969,359,177,16,177,16,6\" style=\"stroke: #000000; stroke-width: 1.5;\"/><line style=\"stroke: #000000; stroke-width: 1.5;\" x1=\"16\" x2=\"228\" y1=\"28.2969\" y2=\"28.2969\"/><text fill=\"#000000\" font-family=\"sans-serif\" font-size=\"14\" font-weight=\"bold\" lengthAdjust=\"spacingAndGlyphs\" textLength=\"199\" x=\"20\" y=\"20.9951\">QualifiedNameImportTest</text></a><!--MD5=[e4f7fae6ed58524ba242bb0b0d3be6b7]\n",
       "cluster E2--><a href=\"psysml:29f17ec2-4245-49fb-a177-0d25d24d4819\" target=\"_top\" title=\"psysml:29f17ec2-4245-49fb-a177-0d25d24d4819\" xlink:actuate=\"onRequest\" xlink:href=\"psysml:29f17ec2-4245-49fb-a177-0d25d24d4819\" xlink:show=\"new\" xlink:title=\"psysml:29f17ec2-4245-49fb-a177-0d25d24d4819\" xlink:type=\"simple\"><polygon fill=\"#FFFFFF\" points=\"231,54,257,54,264,76.2969,335,76.2969,335,148,231,148,231,54\" style=\"stroke: #000000; stroke-width: 1.5;\"/><line style=\"stroke: #000000; stroke-width: 1.5;\" x1=\"231\" x2=\"264\" y1=\"76.2969\" y2=\"76.2969\"/><text fill=\"#000000\" font-family=\"sans-serif\" font-size=\"14\" font-weight=\"bold\" lengthAdjust=\"spacingAndGlyphs\" textLength=\"20\" x=\"235\" y=\"68.9951\">P1</text></a><!--MD5=[f6df4d0ebaf0b5dfb2ced0ae5af7c670]\n",
       "cluster E4--><a href=\"psysml:a2f2702a-9aae-4fcb-bcab-ee7ca241440a\" target=\"_top\" title=\"psysml:a2f2702a-9aae-4fcb-bcab-ee7ca241440a\" xlink:actuate=\"onRequest\" xlink:href=\"psysml:a2f2702a-9aae-4fcb-bcab-ee7ca241440a\" xlink:show=\"new\" xlink:title=\"psysml:a2f2702a-9aae-4fcb-bcab-ee7ca241440a\" xlink:type=\"simple\"><polygon fill=\"#FFFFFF\" points=\"40,49,66,49,73,71.2969,207,71.2969,207,153,40,153,40,49\" style=\"stroke: #000000; stroke-width: 1.5;\"/><line style=\"stroke: #000000; stroke-width: 1.5;\" x1=\"40\" x2=\"73\" y1=\"71.2969\" y2=\"71.2969\"/><text fill=\"#000000\" font-family=\"sans-serif\" font-size=\"14\" font-weight=\"bold\" lengthAdjust=\"spacingAndGlyphs\" textLength=\"20\" x=\"44\" y=\"63.9951\">P2</text></a><g id=\"E1.E2.E3\"><a href=\"psysml:572e0642-2007-40ad-b1a4-6402326f1a76\" target=\"_top\" title=\"psysml:572e0642-2007-40ad-b1a4-6402326f1a76\" xlink:actuate=\"onRequest\" xlink:href=\"psysml:572e0642-2007-40ad-b1a4-6402326f1a76\" xlink:show=\"new\" xlink:title=\"psysml:572e0642-2007-40ad-b1a4-6402326f1a76\" xlink:type=\"simple\"><rect fill=\"#FFFFFF\" height=\"42.9375\" id=\"E3\" style=\"stroke: #383838; stroke-width: 1.5;\" width=\"71\" x=\"247.5\" y=\"89\"/><rect fill=\"#F8F8F8\" height=\"37.9375\" style=\"stroke: #383838; stroke-width: 1.5;\" width=\"71\" x=\"247.5\" y=\"89\"/><text fill=\"#000000\" font-family=\"sans-serif\" font-size=\"12\" font-style=\"italic\" lengthAdjust=\"spacingAndGlyphs\" textLength=\"64\" x=\"251\" y=\"105.1387\">«part def»</text><text fill=\"#000000\" font-family=\"sans-serif\" font-size=\"12\" lengthAdjust=\"spacingAndGlyphs\" textLength=\"8\" x=\"279\" y=\"119.1074\">A</text></a></g><a href=\"psysml:584bb17b-e85a-4a43-abf7-54afe3b89034\" target=\"_top\" title=\"psysml:584bb17b-e85a-4a43-abf7-54afe3b89034\" xlink:actuate=\"onRequest\" xlink:href=\"psysml:584bb17b-e85a-4a43-abf7-54afe3b89034\" xlink:show=\"new\" xlink:title=\"psysml:584bb17b-e85a-4a43-abf7-54afe3b89034\" xlink:type=\"simple\"><polygon fill=\"#FFFFFF\" points=\"141.5,84,176.5,84,183.5,106.2969,190.5,106.2969,190.5,136.5938,141.5,136.5938,141.5,84\" style=\"stroke: #000000; stroke-width: 1.5;\"/><line style=\"stroke: #000000; stroke-width: 1.5;\" x1=\"141.5\" x2=\"183.5\" y1=\"106.2969\" y2=\"106.2969\"/><text fill=\"#000000\" font-family=\"sans-serif\" font-size=\"14\" font-weight=\"bold\" lengthAdjust=\"spacingAndGlyphs\" textLength=\"29\" x=\"145.5\" y=\"98.9951\">P2a</text></a><g id=\"E1.E4.E6\"><a href=\"psysml:1b3157b3-25ca-40f3-9d15-65b1efb05714\" target=\"_top\" title=\"psysml:1b3157b3-25ca-40f3-9d15-65b1efb05714\" xlink:actuate=\"onRequest\" xlink:href=\"psysml:1b3157b3-25ca-40f3-9d15-65b1efb05714\" xlink:show=\"new\" xlink:title=\"psysml:1b3157b3-25ca-40f3-9d15-65b1efb05714\" xlink:type=\"simple\"><rect fill=\"#FFFFFF\" height=\"40\" id=\"E6\" rx=\"10\" ry=\"10\" style=\"stroke: #383838; stroke-width: 1.5;\" width=\"50\" x=\"56\" y=\"90.5\"/><rect fill=\"#F8F8F8\" height=\"23.9688\" rx=\"10\" ry=\"10\" style=\"stroke: #F8F8F8; stroke-width: 1.5;\" width=\"50\" x=\"56\" y=\"90.5\"/><rect fill=\"#F8F8F8\" height=\"10\" style=\"stroke: #F8F8F8; stroke-width: 1.5;\" width=\"50\" x=\"56\" y=\"104.4688\"/><rect fill=\"none\" height=\"40\" id=\"E6\" rx=\"10\" ry=\"10\" style=\"stroke: #383838; stroke-width: 1.5;\" width=\"50\" x=\"56\" y=\"90.5\"/><text fill=\"#000000\" font-family=\"sans-serif\" font-size=\"12\" lengthAdjust=\"spacingAndGlyphs\" textLength=\"22\" x=\"70\" y=\"106.6387\">x: A</text></a></g><!--MD5=[294125dcb84693a5533bfa781296d565]\n",
       "@startuml\r\n",
       "skinparam ranksep 10\r\n",
       "skinparam rectangle {\r\n",
       " backgroundColor<<block>> LightGreen\r\n",
       "}\r\n",
       "top to bottom direction\r\n",
       "skinparam monochrome true\r\n",
       "skinparam classbackgroundcolor white\r\n",
       "skinparam shadowing false\r\n",
       "skinparam wrapWidth 300\r\n",
       "hide circle\r\n",
       "\r\n",
       "package \"QualifiedNameImportTest\" as E1  [[psysml:a4661f57-6558-47c6-8aa5-037eecc073c9 ]]  {\r\n",
       "package \"P1\" as E2  [[psysml:29f17ec2-4245-49fb-a177-0d25d24d4819 ]]  {\r\n",
       "rec def \"A\" as E3  <<(T,blue)part def>> [[psysml:572e0642-2007-40ad-b1a4-6402326f1a76 ]] {\r\n",
       "}\r\n",
       "}\r\n",
       "package \"P2\" as E4  [[psysml:a2f2702a-9aae-4fcb-bcab-ee7ca241440a ]]  {\r\n",
       "package \"P2a\" as E5  [[psysml:584bb17b-e85a-4a43-abf7-54afe3b89034 ]]  {\r\n",
       "}\r\n",
       "rec usage \"x: A\" as E6  [[psysml:1b3157b3-25ca-40f3-9d15-65b1efb05714 ]] {\r\n",
       "}\r\n",
       "}\r\n",
       "}\r\n",
       "@enduml\r\n",
       "\n",
       "PlantUML version 1.2020.13(Sat Jun 13 12:26:38 UTC 2020)\n",
       "(EPL source distribution)\n",
       "Java Runtime: OpenJDK Runtime Environment\n",
       "JVM: OpenJDK 64-Bit Server VM\n",
       "Default Encoding: UTF-8\n",
       "Language: en\n",
       "Country: null\n",
       "--></g></svg>"
      ]
     },
     "execution_count": 47,
     "metadata": {},
     "output_type": "execute_result"
    }
   ],
   "source": [
    "%viz --style=\"TB\" --view=\"Interconnection\" \"QualifiedNameImportTest\""
   ]
  },
  {
   "cell_type": "code",
   "execution_count": 48,
   "id": "3064332d",
   "metadata": {
    "execution": {
     "iopub.execute_input": "2021-05-28T10:48:59.961907Z",
     "iopub.status.busy": "2021-05-28T10:48:59.961172Z",
     "iopub.status.idle": "2021-05-28T10:48:59.966870Z",
     "shell.execute_reply": "2021-05-28T10:48:59.966495Z"
    }
   },
   "outputs": [
    {
     "data": {
      "image/svg+xml": [
       "<?xml version=\"1.0\" encoding=\"UTF-8\" standalone=\"no\"?><svg xmlns=\"http://www.w3.org/2000/svg\" xmlns:xlink=\"http://www.w3.org/1999/xlink\" contentScriptType=\"application/ecmascript\" contentStyleType=\"text/css\" height=\"12px\" preserveAspectRatio=\"none\" style=\"width:12px;height:12px;\" version=\"1.1\" viewBox=\"0 0 12 12\" width=\"12px\" zoomAndPan=\"magnify\"><defs/><g><!--MD5=[06afc254b03ac5e9d9fb7773b07d0800]\n",
       "@startuml\r\n",
       "skinparam ranksep 8\r\n",
       "top to bottom direction\r\n",
       "skinparam monochrome true\r\n",
       "skinparam classbackgroundcolor white\r\n",
       "skinparam shadowing false\r\n",
       "skinparam wrapWidth 300\r\n",
       "hide circle\r\n",
       "\r\n",
       "@enduml\r\n",
       "\n",
       "PlantUML version 1.2020.13(Sat Jun 13 12:26:38 UTC 2020)\n",
       "(EPL source distribution)\n",
       "Java Runtime: OpenJDK Runtime Environment\n",
       "JVM: OpenJDK 64-Bit Server VM\n",
       "Default Encoding: UTF-8\n",
       "Language: en\n",
       "Country: null\n",
       "--></g></svg>"
      ]
     },
     "execution_count": 48,
     "metadata": {},
     "output_type": "execute_result"
    }
   ],
   "source": [
    "%viz --style=\"TB\" --view=\"Action\" \"QualifiedNameImportTest\""
   ]
  },
  {
   "cell_type": "code",
   "execution_count": 49,
   "id": "6f83c3cd",
   "metadata": {
    "execution": {
     "iopub.execute_input": "2021-05-28T10:49:00.018607Z",
     "iopub.status.busy": "2021-05-28T10:49:00.017628Z",
     "iopub.status.idle": "2021-05-28T10:49:00.044147Z",
     "shell.execute_reply": "2021-05-28T10:49:00.042864Z"
    }
   },
   "outputs": [
    {
     "data": {
      "image/svg+xml": [
       "<?xml version=\"1.0\" encoding=\"UTF-8\" standalone=\"no\"?><svg xmlns=\"http://www.w3.org/2000/svg\" xmlns:xlink=\"http://www.w3.org/1999/xlink\" contentScriptType=\"application/ecmascript\" contentStyleType=\"text/css\" height=\"310px\" preserveAspectRatio=\"none\" style=\"width:253px;height:310px;\" version=\"1.1\" viewBox=\"0 0 253 310\" width=\"253px\" zoomAndPan=\"magnify\"><defs/><g><!--MD5=[fbc87193dbaf4d95561dea2c320d4a47]\n",
       "cluster E1--><a href=\"psysml:a4661f57-6558-47c6-8aa5-037eecc073c9\" target=\"_top\" title=\"psysml:a4661f57-6558-47c6-8aa5-037eecc073c9\" xlink:actuate=\"onRequest\" xlink:href=\"psysml:a4661f57-6558-47c6-8aa5-037eecc073c9\" xlink:show=\"new\" xlink:title=\"psysml:a4661f57-6558-47c6-8aa5-037eecc073c9\" xlink:type=\"simple\"><polygon fill=\"#FFFFFF\" points=\"16,6,221,6,228,28.2969,231,28.2969,231,298,16,298,16,6\" style=\"stroke: #000000; stroke-width: 1.5;\"/><line style=\"stroke: #000000; stroke-width: 1.5;\" x1=\"16\" x2=\"228\" y1=\"28.2969\" y2=\"28.2969\"/><text fill=\"#000000\" font-family=\"sans-serif\" font-size=\"14\" font-weight=\"bold\" lengthAdjust=\"spacingAndGlyphs\" textLength=\"199\" x=\"20\" y=\"20.9951\">QualifiedNameImportTest</text></a><!--MD5=[e4f7fae6ed58524ba242bb0b0d3be6b7]\n",
       "cluster E2--><a href=\"psysml:29f17ec2-4245-49fb-a177-0d25d24d4819\" target=\"_top\" title=\"psysml:29f17ec2-4245-49fb-a177-0d25d24d4819\" xlink:actuate=\"onRequest\" xlink:href=\"psysml:29f17ec2-4245-49fb-a177-0d25d24d4819\" xlink:show=\"new\" xlink:title=\"psysml:29f17ec2-4245-49fb-a177-0d25d24d4819\" xlink:type=\"simple\"><polygon fill=\"#FFFFFF\" points=\"105,177,131,177,138,199.2969,203,199.2969,203,274,105,274,105,177\" style=\"stroke: #000000; stroke-width: 1.5;\"/><line style=\"stroke: #000000; stroke-width: 1.5;\" x1=\"105\" x2=\"138\" y1=\"199.2969\" y2=\"199.2969\"/><text fill=\"#000000\" font-family=\"sans-serif\" font-size=\"14\" font-weight=\"bold\" lengthAdjust=\"spacingAndGlyphs\" textLength=\"20\" x=\"109\" y=\"191.9951\">P1</text></a><!--MD5=[f6df4d0ebaf0b5dfb2ced0ae5af7c670]\n",
       "cluster E4--><a href=\"psysml:a2f2702a-9aae-4fcb-bcab-ee7ca241440a\" target=\"_top\" title=\"psysml:a2f2702a-9aae-4fcb-bcab-ee7ca241440a\" xlink:actuate=\"onRequest\" xlink:href=\"psysml:a2f2702a-9aae-4fcb-bcab-ee7ca241440a\" xlink:show=\"new\" xlink:title=\"psysml:a2f2702a-9aae-4fcb-bcab-ee7ca241440a\" xlink:type=\"simple\"><polygon fill=\"#FFFFFF\" points=\"44,49,70,49,77,71.2969,203,71.2969,203,153,44,153,44,49\" style=\"stroke: #000000; stroke-width: 1.5;\"/><line style=\"stroke: #000000; stroke-width: 1.5;\" x1=\"44\" x2=\"77\" y1=\"71.2969\" y2=\"71.2969\"/><text fill=\"#000000\" font-family=\"sans-serif\" font-size=\"14\" font-weight=\"bold\" lengthAdjust=\"spacingAndGlyphs\" textLength=\"20\" x=\"48\" y=\"63.9951\">P2</text></a><!--MD5=[09b614a08d8cba4a07c9adeb5e0fee81]\n",
       "class E3--><a href=\"psysml:572e0642-2007-40ad-b1a4-6402326f1a76\" target=\"_top\" title=\"psysml:572e0642-2007-40ad-b1a4-6402326f1a76\" xlink:actuate=\"onRequest\" xlink:href=\"psysml:572e0642-2007-40ad-b1a4-6402326f1a76\" xlink:show=\"new\" xlink:title=\"psysml:572e0642-2007-40ad-b1a4-6402326f1a76\" xlink:type=\"simple\"><rect fill=\"#FFFFFF\" height=\"45.9375\" id=\"E3\" style=\"stroke: #383838; stroke-width: 1.5;\" width=\"66\" x=\"121\" y=\"212\"/><text fill=\"#000000\" font-family=\"sans-serif\" font-size=\"12\" font-style=\"italic\" lengthAdjust=\"spacingAndGlyphs\" textLength=\"64\" x=\"122\" y=\"228.1387\">«part def»</text><text fill=\"#000000\" font-family=\"sans-serif\" font-size=\"12\" lengthAdjust=\"spacingAndGlyphs\" textLength=\"8\" x=\"150\" y=\"242.1074\">A</text><line style=\"stroke: #383838; stroke-width: 1.5;\" x1=\"122\" x2=\"186\" y1=\"249.9375\" y2=\"249.9375\"/></a><!--MD5=[60a26617385b1d2d0262a64233df1f8d]\n",
       "class E6--><a href=\"psysml:1b3157b3-25ca-40f3-9d15-65b1efb05714\" target=\"_top\" title=\"psysml:1b3157b3-25ca-40f3-9d15-65b1efb05714\" xlink:actuate=\"onRequest\" xlink:href=\"psysml:1b3157b3-25ca-40f3-9d15-65b1efb05714\" xlink:show=\"new\" xlink:title=\"psysml:1b3157b3-25ca-40f3-9d15-65b1efb05714\" xlink:type=\"simple\"><rect fill=\"#FFFFFF\" height=\"45.9375\" id=\"E6\" rx=\"10\" ry=\"10\" style=\"stroke: #383838; stroke-width: 1.5;\" width=\"42\" x=\"145\" y=\"87.5\"/><text fill=\"#000000\" font-family=\"sans-serif\" font-size=\"12\" font-style=\"italic\" lengthAdjust=\"spacingAndGlyphs\" textLength=\"40\" x=\"146\" y=\"103.6387\">«part»</text><text fill=\"#000000\" font-family=\"sans-serif\" font-size=\"12\" lengthAdjust=\"spacingAndGlyphs\" textLength=\"22\" x=\"155\" y=\"117.6074\">x: A</text><line style=\"stroke: #383838; stroke-width: 1.5;\" x1=\"146\" x2=\"186\" y1=\"125.4375\" y2=\"125.4375\"/></a><a href=\"psysml:584bb17b-e85a-4a43-abf7-54afe3b89034\" target=\"_top\" title=\"psysml:584bb17b-e85a-4a43-abf7-54afe3b89034\" xlink:actuate=\"onRequest\" xlink:href=\"psysml:584bb17b-e85a-4a43-abf7-54afe3b89034\" xlink:show=\"new\" xlink:title=\"psysml:584bb17b-e85a-4a43-abf7-54afe3b89034\" xlink:type=\"simple\"><polygon fill=\"#FFFFFF\" points=\"60.5,84,95.5,84,102.5,106.2969,109.5,106.2969,109.5,136.5938,60.5,136.5938,60.5,84\" style=\"stroke: #000000; stroke-width: 1.5;\"/><line style=\"stroke: #000000; stroke-width: 1.5;\" x1=\"60.5\" x2=\"102.5\" y1=\"106.2969\" y2=\"106.2969\"/><text fill=\"#000000\" font-family=\"sans-serif\" font-size=\"14\" font-weight=\"bold\" lengthAdjust=\"spacingAndGlyphs\" textLength=\"29\" x=\"64.5\" y=\"98.9951\">P2a</text></a><!--MD5=[a717450b82c80b9240a525fa862496af]\n",
       "link E6 to E3--><a href=\"psysml:dd0f39f2-d93b-4af4-8d6e-2bae3b2dacf1\" target=\"_top\" title=\"psysml:dd0f39f2-d93b-4af4-8d6e-2bae3b2dacf1\" xlink:actuate=\"onRequest\" xlink:href=\"psysml:dd0f39f2-d93b-4af4-8d6e-2bae3b2dacf1\" xlink:show=\"new\" xlink:title=\"psysml:dd0f39f2-d93b-4af4-8d6e-2bae3b2dacf1\" xlink:type=\"simple\"><path d=\"M163.83,133.68 C162.24,149.9 160.04,172.39 158.12,191.96 \" fill=\"none\" id=\"E6-&gt;E3\" style=\"stroke: #383838; stroke-width: 1.0;\"/><polygon fill=\"#FFFFFF\" points=\"156.16,211.98,151.0533,192.3861,164.986,193.7564,156.16,211.98\" style=\"stroke: #383838; stroke-width: 1.0;\"/><ellipse cx=\"153.6016\" cy=\"186.9092\" fill=\"#383838\" rx=\"2\" ry=\"2\" style=\"stroke: #383838; stroke-width: 1.0;\"/><ellipse cx=\"163.5535\" cy=\"187.888\" fill=\"#383838\" rx=\"2\" ry=\"2\" style=\"stroke: #383838; stroke-width: 1.0;\"/></a><!--MD5=[7c2e62bfa700e3c544cacaf8b1198929]\n",
       "@startuml\r\n",
       "top to bottom direction\r\n",
       "skinparam monochrome true\r\n",
       "skinparam classbackgroundcolor white\r\n",
       "skinparam shadowing false\r\n",
       "skinparam wrapWidth 300\r\n",
       "hide circle\r\n",
       "\r\n",
       "package \"QualifiedNameImportTest\" as E1  [[psysml:a4661f57-6558-47c6-8aa5-037eecc073c9 ]]  {\r\n",
       "package \"P1\" as E2  [[psysml:29f17ec2-4245-49fb-a177-0d25d24d4819 ]]  {\r\n",
       "comp def \"A\" as E3  <<(T,blue)part def>> [[psysml:572e0642-2007-40ad-b1a4-6402326f1a76 ]] {\r\n",
       "}\r\n",
       "}\r\n",
       "package \"P2\" as E4  [[psysml:a2f2702a-9aae-4fcb-bcab-ee7ca241440a ]]  {\r\n",
       "package \"P2a\" as E5  [[psysml:584bb17b-e85a-4a43-abf7-54afe3b89034 ]]  {\r\n",
       "}\r\n",
       "comp usage \"x: A\" as E6  <<(T,blue)part>> [[psysml:1b3157b3-25ca-40f3-9d15-65b1efb05714 ]] {\r\n",
       "}\r\n",
       "E6 - -:|> E3 [[psysml:dd0f39f2-d93b-4af4-8d6e-2bae3b2dacf1 ]] \r\n",
       "}\r\n",
       "}\r\n",
       "@enduml\r\n",
       "\n",
       "PlantUML version 1.2020.13(Sat Jun 13 12:26:38 UTC 2020)\n",
       "(EPL source distribution)\n",
       "Java Runtime: OpenJDK Runtime Environment\n",
       "JVM: OpenJDK 64-Bit Server VM\n",
       "Default Encoding: UTF-8\n",
       "Language: en\n",
       "Country: null\n",
       "--></g></svg>"
      ]
     },
     "execution_count": 49,
     "metadata": {},
     "output_type": "execute_result"
    }
   ],
   "source": [
    "%viz --style=\"TB\" --view=\"Sequence\" \"QualifiedNameImportTest\""
   ]
  },
  {
   "cell_type": "code",
   "execution_count": 50,
   "id": "486e1e03",
   "metadata": {
    "execution": {
     "iopub.execute_input": "2021-05-28T10:49:00.096136Z",
     "iopub.status.busy": "2021-05-28T10:49:00.095334Z",
     "iopub.status.idle": "2021-05-28T10:49:00.120730Z",
     "shell.execute_reply": "2021-05-28T10:49:00.119508Z"
    }
   },
   "outputs": [
    {
     "data": {
      "image/svg+xml": [
       "<?xml version=\"1.0\" encoding=\"UTF-8\" standalone=\"no\"?><svg xmlns=\"http://www.w3.org/2000/svg\" xmlns:xlink=\"http://www.w3.org/1999/xlink\" contentScriptType=\"application/ecmascript\" contentStyleType=\"text/css\" height=\"310px\" preserveAspectRatio=\"none\" style=\"width:253px;height:310px;\" version=\"1.1\" viewBox=\"0 0 253 310\" width=\"253px\" zoomAndPan=\"magnify\"><defs/><g><!--MD5=[fbc87193dbaf4d95561dea2c320d4a47]\n",
       "cluster E1--><a href=\"psysml:a4661f57-6558-47c6-8aa5-037eecc073c9\" target=\"_top\" title=\"psysml:a4661f57-6558-47c6-8aa5-037eecc073c9\" xlink:actuate=\"onRequest\" xlink:href=\"psysml:a4661f57-6558-47c6-8aa5-037eecc073c9\" xlink:show=\"new\" xlink:title=\"psysml:a4661f57-6558-47c6-8aa5-037eecc073c9\" xlink:type=\"simple\"><polygon fill=\"#FFFFFF\" points=\"16,6,221,6,228,28.2969,231,28.2969,231,298,16,298,16,6\" style=\"stroke: #000000; stroke-width: 1.5;\"/><line style=\"stroke: #000000; stroke-width: 1.5;\" x1=\"16\" x2=\"228\" y1=\"28.2969\" y2=\"28.2969\"/><text fill=\"#000000\" font-family=\"sans-serif\" font-size=\"14\" font-weight=\"bold\" lengthAdjust=\"spacingAndGlyphs\" textLength=\"199\" x=\"20\" y=\"20.9951\">QualifiedNameImportTest</text></a><!--MD5=[e4f7fae6ed58524ba242bb0b0d3be6b7]\n",
       "cluster E2--><a href=\"psysml:29f17ec2-4245-49fb-a177-0d25d24d4819\" target=\"_top\" title=\"psysml:29f17ec2-4245-49fb-a177-0d25d24d4819\" xlink:actuate=\"onRequest\" xlink:href=\"psysml:29f17ec2-4245-49fb-a177-0d25d24d4819\" xlink:show=\"new\" xlink:title=\"psysml:29f17ec2-4245-49fb-a177-0d25d24d4819\" xlink:type=\"simple\"><polygon fill=\"#FFFFFF\" points=\"105,177,131,177,138,199.2969,203,199.2969,203,274,105,274,105,177\" style=\"stroke: #000000; stroke-width: 1.5;\"/><line style=\"stroke: #000000; stroke-width: 1.5;\" x1=\"105\" x2=\"138\" y1=\"199.2969\" y2=\"199.2969\"/><text fill=\"#000000\" font-family=\"sans-serif\" font-size=\"14\" font-weight=\"bold\" lengthAdjust=\"spacingAndGlyphs\" textLength=\"20\" x=\"109\" y=\"191.9951\">P1</text></a><!--MD5=[f6df4d0ebaf0b5dfb2ced0ae5af7c670]\n",
       "cluster E4--><a href=\"psysml:a2f2702a-9aae-4fcb-bcab-ee7ca241440a\" target=\"_top\" title=\"psysml:a2f2702a-9aae-4fcb-bcab-ee7ca241440a\" xlink:actuate=\"onRequest\" xlink:href=\"psysml:a2f2702a-9aae-4fcb-bcab-ee7ca241440a\" xlink:show=\"new\" xlink:title=\"psysml:a2f2702a-9aae-4fcb-bcab-ee7ca241440a\" xlink:type=\"simple\"><polygon fill=\"#FFFFFF\" points=\"44,49,70,49,77,71.2969,203,71.2969,203,153,44,153,44,49\" style=\"stroke: #000000; stroke-width: 1.5;\"/><line style=\"stroke: #000000; stroke-width: 1.5;\" x1=\"44\" x2=\"77\" y1=\"71.2969\" y2=\"71.2969\"/><text fill=\"#000000\" font-family=\"sans-serif\" font-size=\"14\" font-weight=\"bold\" lengthAdjust=\"spacingAndGlyphs\" textLength=\"20\" x=\"48\" y=\"63.9951\">P2</text></a><!--MD5=[09b614a08d8cba4a07c9adeb5e0fee81]\n",
       "class E3--><a href=\"psysml:572e0642-2007-40ad-b1a4-6402326f1a76\" target=\"_top\" title=\"psysml:572e0642-2007-40ad-b1a4-6402326f1a76\" xlink:actuate=\"onRequest\" xlink:href=\"psysml:572e0642-2007-40ad-b1a4-6402326f1a76\" xlink:show=\"new\" xlink:title=\"psysml:572e0642-2007-40ad-b1a4-6402326f1a76\" xlink:type=\"simple\"><rect fill=\"#FFFFFF\" height=\"45.9375\" id=\"E3\" style=\"stroke: #383838; stroke-width: 1.5;\" width=\"66\" x=\"121\" y=\"212\"/><text fill=\"#000000\" font-family=\"sans-serif\" font-size=\"12\" font-style=\"italic\" lengthAdjust=\"spacingAndGlyphs\" textLength=\"64\" x=\"122\" y=\"228.1387\">«part def»</text><text fill=\"#000000\" font-family=\"sans-serif\" font-size=\"12\" lengthAdjust=\"spacingAndGlyphs\" textLength=\"8\" x=\"150\" y=\"242.1074\">A</text><line style=\"stroke: #383838; stroke-width: 1.5;\" x1=\"122\" x2=\"186\" y1=\"249.9375\" y2=\"249.9375\"/></a><!--MD5=[60a26617385b1d2d0262a64233df1f8d]\n",
       "class E6--><a href=\"psysml:1b3157b3-25ca-40f3-9d15-65b1efb05714\" target=\"_top\" title=\"psysml:1b3157b3-25ca-40f3-9d15-65b1efb05714\" xlink:actuate=\"onRequest\" xlink:href=\"psysml:1b3157b3-25ca-40f3-9d15-65b1efb05714\" xlink:show=\"new\" xlink:title=\"psysml:1b3157b3-25ca-40f3-9d15-65b1efb05714\" xlink:type=\"simple\"><rect fill=\"#FFFFFF\" height=\"45.9375\" id=\"E6\" rx=\"10\" ry=\"10\" style=\"stroke: #383838; stroke-width: 1.5;\" width=\"42\" x=\"145\" y=\"87.5\"/><text fill=\"#000000\" font-family=\"sans-serif\" font-size=\"12\" font-style=\"italic\" lengthAdjust=\"spacingAndGlyphs\" textLength=\"40\" x=\"146\" y=\"103.6387\">«part»</text><text fill=\"#000000\" font-family=\"sans-serif\" font-size=\"12\" lengthAdjust=\"spacingAndGlyphs\" textLength=\"22\" x=\"155\" y=\"117.6074\">x: A</text><line style=\"stroke: #383838; stroke-width: 1.5;\" x1=\"146\" x2=\"186\" y1=\"125.4375\" y2=\"125.4375\"/></a><a href=\"psysml:584bb17b-e85a-4a43-abf7-54afe3b89034\" target=\"_top\" title=\"psysml:584bb17b-e85a-4a43-abf7-54afe3b89034\" xlink:actuate=\"onRequest\" xlink:href=\"psysml:584bb17b-e85a-4a43-abf7-54afe3b89034\" xlink:show=\"new\" xlink:title=\"psysml:584bb17b-e85a-4a43-abf7-54afe3b89034\" xlink:type=\"simple\"><polygon fill=\"#FFFFFF\" points=\"60.5,84,95.5,84,102.5,106.2969,109.5,106.2969,109.5,136.5938,60.5,136.5938,60.5,84\" style=\"stroke: #000000; stroke-width: 1.5;\"/><line style=\"stroke: #000000; stroke-width: 1.5;\" x1=\"60.5\" x2=\"102.5\" y1=\"106.2969\" y2=\"106.2969\"/><text fill=\"#000000\" font-family=\"sans-serif\" font-size=\"14\" font-weight=\"bold\" lengthAdjust=\"spacingAndGlyphs\" textLength=\"29\" x=\"64.5\" y=\"98.9951\">P2a</text></a><!--MD5=[a717450b82c80b9240a525fa862496af]\n",
       "link E6 to E3--><a href=\"psysml:dd0f39f2-d93b-4af4-8d6e-2bae3b2dacf1\" target=\"_top\" title=\"psysml:dd0f39f2-d93b-4af4-8d6e-2bae3b2dacf1\" xlink:actuate=\"onRequest\" xlink:href=\"psysml:dd0f39f2-d93b-4af4-8d6e-2bae3b2dacf1\" xlink:show=\"new\" xlink:title=\"psysml:dd0f39f2-d93b-4af4-8d6e-2bae3b2dacf1\" xlink:type=\"simple\"><path d=\"M163.83,133.68 C162.24,149.9 160.04,172.39 158.12,191.96 \" fill=\"none\" id=\"E6-&gt;E3\" style=\"stroke: #383838; stroke-width: 1.0;\"/><polygon fill=\"#FFFFFF\" points=\"156.16,211.98,151.0533,192.3861,164.986,193.7564,156.16,211.98\" style=\"stroke: #383838; stroke-width: 1.0;\"/><ellipse cx=\"153.6016\" cy=\"186.9092\" fill=\"#383838\" rx=\"2\" ry=\"2\" style=\"stroke: #383838; stroke-width: 1.0;\"/><ellipse cx=\"163.5535\" cy=\"187.888\" fill=\"#383838\" rx=\"2\" ry=\"2\" style=\"stroke: #383838; stroke-width: 1.0;\"/></a><!--MD5=[7c2e62bfa700e3c544cacaf8b1198929]\n",
       "@startuml\r\n",
       "top to bottom direction\r\n",
       "skinparam monochrome true\r\n",
       "skinparam classbackgroundcolor white\r\n",
       "skinparam shadowing false\r\n",
       "skinparam wrapWidth 300\r\n",
       "hide circle\r\n",
       "\r\n",
       "package \"QualifiedNameImportTest\" as E1  [[psysml:a4661f57-6558-47c6-8aa5-037eecc073c9 ]]  {\r\n",
       "package \"P1\" as E2  [[psysml:29f17ec2-4245-49fb-a177-0d25d24d4819 ]]  {\r\n",
       "comp def \"A\" as E3  <<(T,blue)part def>> [[psysml:572e0642-2007-40ad-b1a4-6402326f1a76 ]] {\r\n",
       "}\r\n",
       "}\r\n",
       "package \"P2\" as E4  [[psysml:a2f2702a-9aae-4fcb-bcab-ee7ca241440a ]]  {\r\n",
       "package \"P2a\" as E5  [[psysml:584bb17b-e85a-4a43-abf7-54afe3b89034 ]]  {\r\n",
       "}\r\n",
       "comp usage \"x: A\" as E6  <<(T,blue)part>> [[psysml:1b3157b3-25ca-40f3-9d15-65b1efb05714 ]] {\r\n",
       "}\r\n",
       "E6 - -:|> E3 [[psysml:dd0f39f2-d93b-4af4-8d6e-2bae3b2dacf1 ]] \r\n",
       "}\r\n",
       "}\r\n",
       "@enduml\r\n",
       "\n",
       "PlantUML version 1.2020.13(Sat Jun 13 12:26:38 UTC 2020)\n",
       "(EPL source distribution)\n",
       "Java Runtime: OpenJDK Runtime Environment\n",
       "JVM: OpenJDK 64-Bit Server VM\n",
       "Default Encoding: UTF-8\n",
       "Language: en\n",
       "Country: null\n",
       "--></g></svg>"
      ]
     },
     "execution_count": 50,
     "metadata": {},
     "output_type": "execute_result"
    }
   ],
   "source": [
    "%viz --style=\"TB\" --view=\"MIXED\" \"QualifiedNameImportTest\""
   ]
  },
  {
   "cell_type": "code",
   "execution_count": 51,
   "id": "b09aefaf",
   "metadata": {
    "execution": {
     "iopub.execute_input": "2021-05-28T10:49:00.171006Z",
     "iopub.status.busy": "2021-05-28T10:49:00.170628Z",
     "iopub.status.idle": "2021-05-28T10:49:00.193482Z",
     "shell.execute_reply": "2021-05-28T10:49:00.191963Z"
    }
   },
   "outputs": [
    {
     "data": {
      "image/svg+xml": [
       "<?xml version=\"1.0\" encoding=\"UTF-8\" standalone=\"no\"?><svg xmlns=\"http://www.w3.org/2000/svg\" xmlns:xlink=\"http://www.w3.org/1999/xlink\" contentScriptType=\"application/ecmascript\" contentStyleType=\"text/css\" height=\"310px\" preserveAspectRatio=\"none\" style=\"width:253px;height:310px;\" version=\"1.1\" viewBox=\"0 0 253 310\" width=\"253px\" zoomAndPan=\"magnify\"><defs/><g><!--MD5=[fbc87193dbaf4d95561dea2c320d4a47]\n",
       "cluster E1--><a href=\"psysml:a4661f57-6558-47c6-8aa5-037eecc073c9\" target=\"_top\" title=\"psysml:a4661f57-6558-47c6-8aa5-037eecc073c9\" xlink:actuate=\"onRequest\" xlink:href=\"psysml:a4661f57-6558-47c6-8aa5-037eecc073c9\" xlink:show=\"new\" xlink:title=\"psysml:a4661f57-6558-47c6-8aa5-037eecc073c9\" xlink:type=\"simple\"><polygon fill=\"#FFFFFF\" points=\"16,6,221,6,228,28.2969,231,28.2969,231,298,16,298,16,6\" style=\"stroke: #000000; stroke-width: 1.5;\"/><line style=\"stroke: #000000; stroke-width: 1.5;\" x1=\"16\" x2=\"228\" y1=\"28.2969\" y2=\"28.2969\"/><text fill=\"#000000\" font-family=\"sans-serif\" font-size=\"14\" font-weight=\"bold\" lengthAdjust=\"spacingAndGlyphs\" textLength=\"199\" x=\"20\" y=\"20.9951\">QualifiedNameImportTest</text></a><!--MD5=[e4f7fae6ed58524ba242bb0b0d3be6b7]\n",
       "cluster E2--><a href=\"psysml:29f17ec2-4245-49fb-a177-0d25d24d4819\" target=\"_top\" title=\"psysml:29f17ec2-4245-49fb-a177-0d25d24d4819\" xlink:actuate=\"onRequest\" xlink:href=\"psysml:29f17ec2-4245-49fb-a177-0d25d24d4819\" xlink:show=\"new\" xlink:title=\"psysml:29f17ec2-4245-49fb-a177-0d25d24d4819\" xlink:type=\"simple\"><polygon fill=\"#FFFFFF\" points=\"105,177,131,177,138,199.2969,203,199.2969,203,274,105,274,105,177\" style=\"stroke: #000000; stroke-width: 1.5;\"/><line style=\"stroke: #000000; stroke-width: 1.5;\" x1=\"105\" x2=\"138\" y1=\"199.2969\" y2=\"199.2969\"/><text fill=\"#000000\" font-family=\"sans-serif\" font-size=\"14\" font-weight=\"bold\" lengthAdjust=\"spacingAndGlyphs\" textLength=\"20\" x=\"109\" y=\"191.9951\">P1</text></a><!--MD5=[f6df4d0ebaf0b5dfb2ced0ae5af7c670]\n",
       "cluster E4--><a href=\"psysml:a2f2702a-9aae-4fcb-bcab-ee7ca241440a\" target=\"_top\" title=\"psysml:a2f2702a-9aae-4fcb-bcab-ee7ca241440a\" xlink:actuate=\"onRequest\" xlink:href=\"psysml:a2f2702a-9aae-4fcb-bcab-ee7ca241440a\" xlink:show=\"new\" xlink:title=\"psysml:a2f2702a-9aae-4fcb-bcab-ee7ca241440a\" xlink:type=\"simple\"><polygon fill=\"#FFFFFF\" points=\"44,49,70,49,77,71.2969,203,71.2969,203,153,44,153,44,49\" style=\"stroke: #000000; stroke-width: 1.5;\"/><line style=\"stroke: #000000; stroke-width: 1.5;\" x1=\"44\" x2=\"77\" y1=\"71.2969\" y2=\"71.2969\"/><text fill=\"#000000\" font-family=\"sans-serif\" font-size=\"14\" font-weight=\"bold\" lengthAdjust=\"spacingAndGlyphs\" textLength=\"20\" x=\"48\" y=\"63.9951\">P2</text></a><!--MD5=[09b614a08d8cba4a07c9adeb5e0fee81]\n",
       "class E3--><a href=\"psysml:572e0642-2007-40ad-b1a4-6402326f1a76\" target=\"_top\" title=\"psysml:572e0642-2007-40ad-b1a4-6402326f1a76\" xlink:actuate=\"onRequest\" xlink:href=\"psysml:572e0642-2007-40ad-b1a4-6402326f1a76\" xlink:show=\"new\" xlink:title=\"psysml:572e0642-2007-40ad-b1a4-6402326f1a76\" xlink:type=\"simple\"><rect fill=\"#FFFFFF\" height=\"45.9375\" id=\"E3\" style=\"stroke: #383838; stroke-width: 1.5;\" width=\"66\" x=\"121\" y=\"212\"/><text fill=\"#000000\" font-family=\"sans-serif\" font-size=\"12\" font-style=\"italic\" lengthAdjust=\"spacingAndGlyphs\" textLength=\"64\" x=\"122\" y=\"228.1387\">«part def»</text><text fill=\"#000000\" font-family=\"sans-serif\" font-size=\"12\" lengthAdjust=\"spacingAndGlyphs\" textLength=\"8\" x=\"150\" y=\"242.1074\">A</text><line style=\"stroke: #383838; stroke-width: 1.5;\" x1=\"122\" x2=\"186\" y1=\"249.9375\" y2=\"249.9375\"/></a><!--MD5=[60a26617385b1d2d0262a64233df1f8d]\n",
       "class E6--><a href=\"psysml:1b3157b3-25ca-40f3-9d15-65b1efb05714\" target=\"_top\" title=\"psysml:1b3157b3-25ca-40f3-9d15-65b1efb05714\" xlink:actuate=\"onRequest\" xlink:href=\"psysml:1b3157b3-25ca-40f3-9d15-65b1efb05714\" xlink:show=\"new\" xlink:title=\"psysml:1b3157b3-25ca-40f3-9d15-65b1efb05714\" xlink:type=\"simple\"><rect fill=\"#FFFFFF\" height=\"45.9375\" id=\"E6\" rx=\"10\" ry=\"10\" style=\"stroke: #383838; stroke-width: 1.5;\" width=\"42\" x=\"145\" y=\"87.5\"/><text fill=\"#000000\" font-family=\"sans-serif\" font-size=\"12\" font-style=\"italic\" lengthAdjust=\"spacingAndGlyphs\" textLength=\"40\" x=\"146\" y=\"103.6387\">«part»</text><text fill=\"#000000\" font-family=\"sans-serif\" font-size=\"12\" lengthAdjust=\"spacingAndGlyphs\" textLength=\"22\" x=\"155\" y=\"117.6074\">x: A</text><line style=\"stroke: #383838; stroke-width: 1.5;\" x1=\"146\" x2=\"186\" y1=\"125.4375\" y2=\"125.4375\"/></a><a href=\"psysml:584bb17b-e85a-4a43-abf7-54afe3b89034\" target=\"_top\" title=\"psysml:584bb17b-e85a-4a43-abf7-54afe3b89034\" xlink:actuate=\"onRequest\" xlink:href=\"psysml:584bb17b-e85a-4a43-abf7-54afe3b89034\" xlink:show=\"new\" xlink:title=\"psysml:584bb17b-e85a-4a43-abf7-54afe3b89034\" xlink:type=\"simple\"><polygon fill=\"#FFFFFF\" points=\"60.5,84,95.5,84,102.5,106.2969,109.5,106.2969,109.5,136.5938,60.5,136.5938,60.5,84\" style=\"stroke: #000000; stroke-width: 1.5;\"/><line style=\"stroke: #000000; stroke-width: 1.5;\" x1=\"60.5\" x2=\"102.5\" y1=\"106.2969\" y2=\"106.2969\"/><text fill=\"#000000\" font-family=\"sans-serif\" font-size=\"14\" font-weight=\"bold\" lengthAdjust=\"spacingAndGlyphs\" textLength=\"29\" x=\"64.5\" y=\"98.9951\">P2a</text></a><!--MD5=[a717450b82c80b9240a525fa862496af]\n",
       "link E6 to E3--><a href=\"psysml:dd0f39f2-d93b-4af4-8d6e-2bae3b2dacf1\" target=\"_top\" title=\"psysml:dd0f39f2-d93b-4af4-8d6e-2bae3b2dacf1\" xlink:actuate=\"onRequest\" xlink:href=\"psysml:dd0f39f2-d93b-4af4-8d6e-2bae3b2dacf1\" xlink:show=\"new\" xlink:title=\"psysml:dd0f39f2-d93b-4af4-8d6e-2bae3b2dacf1\" xlink:type=\"simple\"><path d=\"M166,133.63 C166,133.63 166,192 166,192 \" fill=\"none\" id=\"E6-&gt;E3\" style=\"stroke: #383838; stroke-width: 1.0;\"/><polygon fill=\"#FFFFFF\" points=\"166,212,159,193,173,193,166,212\" style=\"stroke: #383838; stroke-width: 1.0;\"/><ellipse cx=\"161\" cy=\"187.3\" fill=\"#383838\" rx=\"2\" ry=\"2\" style=\"stroke: #383838; stroke-width: 1.0;\"/><ellipse cx=\"171\" cy=\"187.3\" fill=\"#383838\" rx=\"2\" ry=\"2\" style=\"stroke: #383838; stroke-width: 1.0;\"/></a><!--MD5=[74e0b1e889fddf806696ce5473b718e3]\n",
       "@startuml\r\n",
       "skinparam linetype ortho\r\n",
       "skinparam monochrome true\r\n",
       "skinparam classbackgroundcolor white\r\n",
       "skinparam shadowing false\r\n",
       "skinparam wrapWidth 300\r\n",
       "hide circle\r\n",
       "\r\n",
       "package \"QualifiedNameImportTest\" as E1  [[psysml:a4661f57-6558-47c6-8aa5-037eecc073c9 ]]  {\r\n",
       "package \"P1\" as E2  [[psysml:29f17ec2-4245-49fb-a177-0d25d24d4819 ]]  {\r\n",
       "comp def \"A\" as E3  <<(T,blue)part def>> [[psysml:572e0642-2007-40ad-b1a4-6402326f1a76 ]] {\r\n",
       "}\r\n",
       "}\r\n",
       "package \"P2\" as E4  [[psysml:a2f2702a-9aae-4fcb-bcab-ee7ca241440a ]]  {\r\n",
       "package \"P2a\" as E5  [[psysml:584bb17b-e85a-4a43-abf7-54afe3b89034 ]]  {\r\n",
       "}\r\n",
       "comp usage \"x: A\" as E6  <<(T,blue)part>> [[psysml:1b3157b3-25ca-40f3-9d15-65b1efb05714 ]] {\r\n",
       "}\r\n",
       "E6 - -:|> E3 [[psysml:dd0f39f2-d93b-4af4-8d6e-2bae3b2dacf1 ]] \r\n",
       "}\r\n",
       "}\r\n",
       "@enduml\r\n",
       "\n",
       "PlantUML version 1.2020.13(Sat Jun 13 12:26:38 UTC 2020)\n",
       "(EPL source distribution)\n",
       "Java Runtime: OpenJDK Runtime Environment\n",
       "JVM: OpenJDK 64-Bit Server VM\n",
       "Default Encoding: UTF-8\n",
       "Language: en\n",
       "Country: null\n",
       "--></g></svg>"
      ]
     },
     "execution_count": 51,
     "metadata": {},
     "output_type": "execute_result"
    }
   ],
   "source": [
    "%viz --style=\"ORTHOLINE\" --view=\"Default\" \"QualifiedNameImportTest\""
   ]
  },
  {
   "cell_type": "code",
   "execution_count": 52,
   "id": "2612cf85",
   "metadata": {
    "execution": {
     "iopub.execute_input": "2021-05-28T10:49:00.243890Z",
     "iopub.status.busy": "2021-05-28T10:49:00.243538Z",
     "iopub.status.idle": "2021-05-28T10:49:00.268185Z",
     "shell.execute_reply": "2021-05-28T10:49:00.266949Z"
    }
   },
   "outputs": [
    {
     "data": {
      "image/svg+xml": [
       "<?xml version=\"1.0\" encoding=\"UTF-8\" standalone=\"no\"?><svg xmlns=\"http://www.w3.org/2000/svg\" xmlns:xlink=\"http://www.w3.org/1999/xlink\" contentScriptType=\"application/ecmascript\" contentStyleType=\"text/css\" height=\"310px\" preserveAspectRatio=\"none\" style=\"width:253px;height:310px;\" version=\"1.1\" viewBox=\"0 0 253 310\" width=\"253px\" zoomAndPan=\"magnify\"><defs/><g><!--MD5=[fbc87193dbaf4d95561dea2c320d4a47]\n",
       "cluster E1--><a href=\"psysml:a4661f57-6558-47c6-8aa5-037eecc073c9\" target=\"_top\" title=\"psysml:a4661f57-6558-47c6-8aa5-037eecc073c9\" xlink:actuate=\"onRequest\" xlink:href=\"psysml:a4661f57-6558-47c6-8aa5-037eecc073c9\" xlink:show=\"new\" xlink:title=\"psysml:a4661f57-6558-47c6-8aa5-037eecc073c9\" xlink:type=\"simple\"><polygon fill=\"#FFFFFF\" points=\"16,6,221,6,228,28.2969,231,28.2969,231,298,16,298,16,6\" style=\"stroke: #000000; stroke-width: 1.5;\"/><line style=\"stroke: #000000; stroke-width: 1.5;\" x1=\"16\" x2=\"228\" y1=\"28.2969\" y2=\"28.2969\"/><text fill=\"#000000\" font-family=\"sans-serif\" font-size=\"14\" font-weight=\"bold\" lengthAdjust=\"spacingAndGlyphs\" textLength=\"199\" x=\"20\" y=\"20.9951\">QualifiedNameImportTest</text></a><!--MD5=[e4f7fae6ed58524ba242bb0b0d3be6b7]\n",
       "cluster E2--><a href=\"psysml:29f17ec2-4245-49fb-a177-0d25d24d4819\" target=\"_top\" title=\"psysml:29f17ec2-4245-49fb-a177-0d25d24d4819\" xlink:actuate=\"onRequest\" xlink:href=\"psysml:29f17ec2-4245-49fb-a177-0d25d24d4819\" xlink:show=\"new\" xlink:title=\"psysml:29f17ec2-4245-49fb-a177-0d25d24d4819\" xlink:type=\"simple\"><polygon fill=\"#FFFFFF\" points=\"105,177,131,177,138,199.2969,203,199.2969,203,274,105,274,105,177\" style=\"stroke: #000000; stroke-width: 1.5;\"/><line style=\"stroke: #000000; stroke-width: 1.5;\" x1=\"105\" x2=\"138\" y1=\"199.2969\" y2=\"199.2969\"/><text fill=\"#000000\" font-family=\"sans-serif\" font-size=\"14\" font-weight=\"bold\" lengthAdjust=\"spacingAndGlyphs\" textLength=\"20\" x=\"109\" y=\"191.9951\">P1</text></a><!--MD5=[f6df4d0ebaf0b5dfb2ced0ae5af7c670]\n",
       "cluster E4--><a href=\"psysml:a2f2702a-9aae-4fcb-bcab-ee7ca241440a\" target=\"_top\" title=\"psysml:a2f2702a-9aae-4fcb-bcab-ee7ca241440a\" xlink:actuate=\"onRequest\" xlink:href=\"psysml:a2f2702a-9aae-4fcb-bcab-ee7ca241440a\" xlink:show=\"new\" xlink:title=\"psysml:a2f2702a-9aae-4fcb-bcab-ee7ca241440a\" xlink:type=\"simple\"><polygon fill=\"#FFFFFF\" points=\"44,49,70,49,77,71.2969,203,71.2969,203,153,44,153,44,49\" style=\"stroke: #000000; stroke-width: 1.5;\"/><line style=\"stroke: #000000; stroke-width: 1.5;\" x1=\"44\" x2=\"77\" y1=\"71.2969\" y2=\"71.2969\"/><text fill=\"#000000\" font-family=\"sans-serif\" font-size=\"14\" font-weight=\"bold\" lengthAdjust=\"spacingAndGlyphs\" textLength=\"20\" x=\"48\" y=\"63.9951\">P2</text></a><!--MD5=[09b614a08d8cba4a07c9adeb5e0fee81]\n",
       "class E3--><a href=\"psysml:572e0642-2007-40ad-b1a4-6402326f1a76\" target=\"_top\" title=\"psysml:572e0642-2007-40ad-b1a4-6402326f1a76\" xlink:actuate=\"onRequest\" xlink:href=\"psysml:572e0642-2007-40ad-b1a4-6402326f1a76\" xlink:show=\"new\" xlink:title=\"psysml:572e0642-2007-40ad-b1a4-6402326f1a76\" xlink:type=\"simple\"><rect fill=\"#FFFFFF\" height=\"45.9375\" id=\"E3\" style=\"stroke: #383838; stroke-width: 1.5;\" width=\"66\" x=\"121\" y=\"212\"/><text fill=\"#000000\" font-family=\"sans-serif\" font-size=\"12\" font-style=\"italic\" lengthAdjust=\"spacingAndGlyphs\" textLength=\"64\" x=\"122\" y=\"228.1387\">«part def»</text><text fill=\"#000000\" font-family=\"sans-serif\" font-size=\"12\" lengthAdjust=\"spacingAndGlyphs\" textLength=\"8\" x=\"150\" y=\"242.1074\">A</text><line style=\"stroke: #383838; stroke-width: 1.5;\" x1=\"122\" x2=\"186\" y1=\"249.9375\" y2=\"249.9375\"/></a><!--MD5=[60a26617385b1d2d0262a64233df1f8d]\n",
       "class E6--><a href=\"psysml:1b3157b3-25ca-40f3-9d15-65b1efb05714\" target=\"_top\" title=\"psysml:1b3157b3-25ca-40f3-9d15-65b1efb05714\" xlink:actuate=\"onRequest\" xlink:href=\"psysml:1b3157b3-25ca-40f3-9d15-65b1efb05714\" xlink:show=\"new\" xlink:title=\"psysml:1b3157b3-25ca-40f3-9d15-65b1efb05714\" xlink:type=\"simple\"><rect fill=\"#FFFFFF\" height=\"45.9375\" id=\"E6\" rx=\"10\" ry=\"10\" style=\"stroke: #383838; stroke-width: 1.5;\" width=\"42\" x=\"145\" y=\"87.5\"/><text fill=\"#000000\" font-family=\"sans-serif\" font-size=\"12\" font-style=\"italic\" lengthAdjust=\"spacingAndGlyphs\" textLength=\"40\" x=\"146\" y=\"103.6387\">«part»</text><text fill=\"#000000\" font-family=\"sans-serif\" font-size=\"12\" lengthAdjust=\"spacingAndGlyphs\" textLength=\"22\" x=\"155\" y=\"117.6074\">x: A</text><line style=\"stroke: #383838; stroke-width: 1.5;\" x1=\"146\" x2=\"186\" y1=\"125.4375\" y2=\"125.4375\"/></a><a href=\"psysml:584bb17b-e85a-4a43-abf7-54afe3b89034\" target=\"_top\" title=\"psysml:584bb17b-e85a-4a43-abf7-54afe3b89034\" xlink:actuate=\"onRequest\" xlink:href=\"psysml:584bb17b-e85a-4a43-abf7-54afe3b89034\" xlink:show=\"new\" xlink:title=\"psysml:584bb17b-e85a-4a43-abf7-54afe3b89034\" xlink:type=\"simple\"><polygon fill=\"#FFFFFF\" points=\"60.5,84,95.5,84,102.5,106.2969,109.5,106.2969,109.5,136.5938,60.5,136.5938,60.5,84\" style=\"stroke: #000000; stroke-width: 1.5;\"/><line style=\"stroke: #000000; stroke-width: 1.5;\" x1=\"60.5\" x2=\"102.5\" y1=\"106.2969\" y2=\"106.2969\"/><text fill=\"#000000\" font-family=\"sans-serif\" font-size=\"14\" font-weight=\"bold\" lengthAdjust=\"spacingAndGlyphs\" textLength=\"29\" x=\"64.5\" y=\"98.9951\">P2a</text></a><!--MD5=[a717450b82c80b9240a525fa862496af]\n",
       "link E6 to E3--><a href=\"psysml:dd0f39f2-d93b-4af4-8d6e-2bae3b2dacf1\" target=\"_top\" title=\"psysml:dd0f39f2-d93b-4af4-8d6e-2bae3b2dacf1\" xlink:actuate=\"onRequest\" xlink:href=\"psysml:dd0f39f2-d93b-4af4-8d6e-2bae3b2dacf1\" xlink:show=\"new\" xlink:title=\"psysml:dd0f39f2-d93b-4af4-8d6e-2bae3b2dacf1\" xlink:type=\"simple\"><path d=\"M166,133.63 C166,133.63 166,192 166,192 \" fill=\"none\" id=\"E6-&gt;E3\" style=\"stroke: #383838; stroke-width: 1.0;\"/><polygon fill=\"#FFFFFF\" points=\"166,212,159,193,173,193,166,212\" style=\"stroke: #383838; stroke-width: 1.0;\"/><ellipse cx=\"161\" cy=\"187.3\" fill=\"#383838\" rx=\"2\" ry=\"2\" style=\"stroke: #383838; stroke-width: 1.0;\"/><ellipse cx=\"171\" cy=\"187.3\" fill=\"#383838\" rx=\"2\" ry=\"2\" style=\"stroke: #383838; stroke-width: 1.0;\"/></a><!--MD5=[74e0b1e889fddf806696ce5473b718e3]\n",
       "@startuml\r\n",
       "skinparam linetype ortho\r\n",
       "skinparam monochrome true\r\n",
       "skinparam classbackgroundcolor white\r\n",
       "skinparam shadowing false\r\n",
       "skinparam wrapWidth 300\r\n",
       "hide circle\r\n",
       "\r\n",
       "package \"QualifiedNameImportTest\" as E1  [[psysml:a4661f57-6558-47c6-8aa5-037eecc073c9 ]]  {\r\n",
       "package \"P1\" as E2  [[psysml:29f17ec2-4245-49fb-a177-0d25d24d4819 ]]  {\r\n",
       "comp def \"A\" as E3  <<(T,blue)part def>> [[psysml:572e0642-2007-40ad-b1a4-6402326f1a76 ]] {\r\n",
       "}\r\n",
       "}\r\n",
       "package \"P2\" as E4  [[psysml:a2f2702a-9aae-4fcb-bcab-ee7ca241440a ]]  {\r\n",
       "package \"P2a\" as E5  [[psysml:584bb17b-e85a-4a43-abf7-54afe3b89034 ]]  {\r\n",
       "}\r\n",
       "comp usage \"x: A\" as E6  <<(T,blue)part>> [[psysml:1b3157b3-25ca-40f3-9d15-65b1efb05714 ]] {\r\n",
       "}\r\n",
       "E6 - -:|> E3 [[psysml:dd0f39f2-d93b-4af4-8d6e-2bae3b2dacf1 ]] \r\n",
       "}\r\n",
       "}\r\n",
       "@enduml\r\n",
       "\n",
       "PlantUML version 1.2020.13(Sat Jun 13 12:26:38 UTC 2020)\n",
       "(EPL source distribution)\n",
       "Java Runtime: OpenJDK Runtime Environment\n",
       "JVM: OpenJDK 64-Bit Server VM\n",
       "Default Encoding: UTF-8\n",
       "Language: en\n",
       "Country: null\n",
       "--></g></svg>"
      ]
     },
     "execution_count": 52,
     "metadata": {},
     "output_type": "execute_result"
    }
   ],
   "source": [
    "%viz --style=\"ORTHOLINE\" --view=\"Tree\" \"QualifiedNameImportTest\""
   ]
  },
  {
   "cell_type": "code",
   "execution_count": 53,
   "id": "c7ff3d56",
   "metadata": {
    "execution": {
     "iopub.execute_input": "2021-05-28T10:49:00.319845Z",
     "iopub.status.busy": "2021-05-28T10:49:00.319196Z",
     "iopub.status.idle": "2021-05-28T10:49:00.324841Z",
     "shell.execute_reply": "2021-05-28T10:49:00.324530Z"
    }
   },
   "outputs": [
    {
     "data": {
      "image/svg+xml": [
       "<?xml version=\"1.0\" encoding=\"UTF-8\" standalone=\"no\"?><svg xmlns=\"http://www.w3.org/2000/svg\" xmlns:xlink=\"http://www.w3.org/1999/xlink\" contentScriptType=\"application/ecmascript\" contentStyleType=\"text/css\" height=\"12px\" preserveAspectRatio=\"none\" style=\"width:12px;height:12px;\" version=\"1.1\" viewBox=\"0 0 12 12\" width=\"12px\" zoomAndPan=\"magnify\"><defs/><g><!--MD5=[97d6f38768b311333d388e66b2b27985]\n",
       "@startuml\r\n",
       "skinparam linetype ortho\r\n",
       "skinparam monochrome true\r\n",
       "skinparam classbackgroundcolor white\r\n",
       "skinparam shadowing false\r\n",
       "skinparam wrapWidth 300\r\n",
       "hide circle\r\n",
       "\r\n",
       "@enduml\r\n",
       "\n",
       "PlantUML version 1.2020.13(Sat Jun 13 12:26:38 UTC 2020)\n",
       "(EPL source distribution)\n",
       "Java Runtime: OpenJDK Runtime Environment\n",
       "JVM: OpenJDK 64-Bit Server VM\n",
       "Default Encoding: UTF-8\n",
       "Language: en\n",
       "Country: null\n",
       "--></g></svg>"
      ]
     },
     "execution_count": 53,
     "metadata": {},
     "output_type": "execute_result"
    }
   ],
   "source": [
    "%viz --style=\"ORTHOLINE\" --view=\"State\" \"QualifiedNameImportTest\""
   ]
  },
  {
   "cell_type": "code",
   "execution_count": 54,
   "id": "fcfd8bfa",
   "metadata": {
    "execution": {
     "iopub.execute_input": "2021-05-28T10:49:00.377214Z",
     "iopub.status.busy": "2021-05-28T10:49:00.376539Z",
     "iopub.status.idle": "2021-05-28T10:49:00.401248Z",
     "shell.execute_reply": "2021-05-28T10:49:00.399882Z"
    }
   },
   "outputs": [
    {
     "data": {
      "image/svg+xml": [
       "<?xml version=\"1.0\" encoding=\"UTF-8\" standalone=\"no\"?><svg xmlns=\"http://www.w3.org/2000/svg\" xmlns:xlink=\"http://www.w3.org/1999/xlink\" contentScriptType=\"application/ecmascript\" contentStyleType=\"text/css\" height=\"189px\" preserveAspectRatio=\"none\" style=\"width:381px;height:189px;\" version=\"1.1\" viewBox=\"0 0 381 189\" width=\"381px\" zoomAndPan=\"magnify\"><defs/><g><!--MD5=[fbc87193dbaf4d95561dea2c320d4a47]\n",
       "cluster E1--><a href=\"psysml:a4661f57-6558-47c6-8aa5-037eecc073c9\" target=\"_top\" title=\"psysml:a4661f57-6558-47c6-8aa5-037eecc073c9\" xlink:actuate=\"onRequest\" xlink:href=\"psysml:a4661f57-6558-47c6-8aa5-037eecc073c9\" xlink:show=\"new\" xlink:title=\"psysml:a4661f57-6558-47c6-8aa5-037eecc073c9\" xlink:type=\"simple\"><polygon fill=\"#FFFFFF\" points=\"16,6,221,6,228,28.2969,359,28.2969,359,177,16,177,16,6\" style=\"stroke: #000000; stroke-width: 1.5;\"/><line style=\"stroke: #000000; stroke-width: 1.5;\" x1=\"16\" x2=\"228\" y1=\"28.2969\" y2=\"28.2969\"/><text fill=\"#000000\" font-family=\"sans-serif\" font-size=\"14\" font-weight=\"bold\" lengthAdjust=\"spacingAndGlyphs\" textLength=\"199\" x=\"20\" y=\"20.9951\">QualifiedNameImportTest</text></a><!--MD5=[e4f7fae6ed58524ba242bb0b0d3be6b7]\n",
       "cluster E2--><a href=\"psysml:29f17ec2-4245-49fb-a177-0d25d24d4819\" target=\"_top\" title=\"psysml:29f17ec2-4245-49fb-a177-0d25d24d4819\" xlink:actuate=\"onRequest\" xlink:href=\"psysml:29f17ec2-4245-49fb-a177-0d25d24d4819\" xlink:show=\"new\" xlink:title=\"psysml:29f17ec2-4245-49fb-a177-0d25d24d4819\" xlink:type=\"simple\"><polygon fill=\"#FFFFFF\" points=\"231,54,257,54,264,76.2969,335,76.2969,335,148,231,148,231,54\" style=\"stroke: #000000; stroke-width: 1.5;\"/><line style=\"stroke: #000000; stroke-width: 1.5;\" x1=\"231\" x2=\"264\" y1=\"76.2969\" y2=\"76.2969\"/><text fill=\"#000000\" font-family=\"sans-serif\" font-size=\"14\" font-weight=\"bold\" lengthAdjust=\"spacingAndGlyphs\" textLength=\"20\" x=\"235\" y=\"68.9951\">P1</text></a><!--MD5=[f6df4d0ebaf0b5dfb2ced0ae5af7c670]\n",
       "cluster E4--><a href=\"psysml:a2f2702a-9aae-4fcb-bcab-ee7ca241440a\" target=\"_top\" title=\"psysml:a2f2702a-9aae-4fcb-bcab-ee7ca241440a\" xlink:actuate=\"onRequest\" xlink:href=\"psysml:a2f2702a-9aae-4fcb-bcab-ee7ca241440a\" xlink:show=\"new\" xlink:title=\"psysml:a2f2702a-9aae-4fcb-bcab-ee7ca241440a\" xlink:type=\"simple\"><polygon fill=\"#FFFFFF\" points=\"40,49,66,49,73,71.2969,207,71.2969,207,153,40,153,40,49\" style=\"stroke: #000000; stroke-width: 1.5;\"/><line style=\"stroke: #000000; stroke-width: 1.5;\" x1=\"40\" x2=\"73\" y1=\"71.2969\" y2=\"71.2969\"/><text fill=\"#000000\" font-family=\"sans-serif\" font-size=\"14\" font-weight=\"bold\" lengthAdjust=\"spacingAndGlyphs\" textLength=\"20\" x=\"44\" y=\"63.9951\">P2</text></a><g id=\"E1.E2.E3\"><a href=\"psysml:572e0642-2007-40ad-b1a4-6402326f1a76\" target=\"_top\" title=\"psysml:572e0642-2007-40ad-b1a4-6402326f1a76\" xlink:actuate=\"onRequest\" xlink:href=\"psysml:572e0642-2007-40ad-b1a4-6402326f1a76\" xlink:show=\"new\" xlink:title=\"psysml:572e0642-2007-40ad-b1a4-6402326f1a76\" xlink:type=\"simple\"><rect fill=\"#FFFFFF\" height=\"42.9375\" id=\"E3\" style=\"stroke: #383838; stroke-width: 1.5;\" width=\"71\" x=\"247.5\" y=\"89\"/><rect fill=\"#F8F8F8\" height=\"37.9375\" style=\"stroke: #383838; stroke-width: 1.5;\" width=\"71\" x=\"247.5\" y=\"89\"/><text fill=\"#000000\" font-family=\"sans-serif\" font-size=\"12\" font-style=\"italic\" lengthAdjust=\"spacingAndGlyphs\" textLength=\"64\" x=\"251\" y=\"105.1387\">«part def»</text><text fill=\"#000000\" font-family=\"sans-serif\" font-size=\"12\" lengthAdjust=\"spacingAndGlyphs\" textLength=\"8\" x=\"279\" y=\"119.1074\">A</text></a></g><a href=\"psysml:584bb17b-e85a-4a43-abf7-54afe3b89034\" target=\"_top\" title=\"psysml:584bb17b-e85a-4a43-abf7-54afe3b89034\" xlink:actuate=\"onRequest\" xlink:href=\"psysml:584bb17b-e85a-4a43-abf7-54afe3b89034\" xlink:show=\"new\" xlink:title=\"psysml:584bb17b-e85a-4a43-abf7-54afe3b89034\" xlink:type=\"simple\"><polygon fill=\"#FFFFFF\" points=\"141.5,84,176.5,84,183.5,106.2969,190.5,106.2969,190.5,136.5938,141.5,136.5938,141.5,84\" style=\"stroke: #000000; stroke-width: 1.5;\"/><line style=\"stroke: #000000; stroke-width: 1.5;\" x1=\"141.5\" x2=\"183.5\" y1=\"106.2969\" y2=\"106.2969\"/><text fill=\"#000000\" font-family=\"sans-serif\" font-size=\"14\" font-weight=\"bold\" lengthAdjust=\"spacingAndGlyphs\" textLength=\"29\" x=\"145.5\" y=\"98.9951\">P2a</text></a><g id=\"E1.E4.E6\"><a href=\"psysml:1b3157b3-25ca-40f3-9d15-65b1efb05714\" target=\"_top\" title=\"psysml:1b3157b3-25ca-40f3-9d15-65b1efb05714\" xlink:actuate=\"onRequest\" xlink:href=\"psysml:1b3157b3-25ca-40f3-9d15-65b1efb05714\" xlink:show=\"new\" xlink:title=\"psysml:1b3157b3-25ca-40f3-9d15-65b1efb05714\" xlink:type=\"simple\"><rect fill=\"#FFFFFF\" height=\"40\" id=\"E6\" rx=\"10\" ry=\"10\" style=\"stroke: #383838; stroke-width: 1.5;\" width=\"50\" x=\"56\" y=\"90.5\"/><rect fill=\"#F8F8F8\" height=\"23.9688\" rx=\"10\" ry=\"10\" style=\"stroke: #F8F8F8; stroke-width: 1.5;\" width=\"50\" x=\"56\" y=\"90.5\"/><rect fill=\"#F8F8F8\" height=\"10\" style=\"stroke: #F8F8F8; stroke-width: 1.5;\" width=\"50\" x=\"56\" y=\"104.4688\"/><rect fill=\"none\" height=\"40\" id=\"E6\" rx=\"10\" ry=\"10\" style=\"stroke: #383838; stroke-width: 1.5;\" width=\"50\" x=\"56\" y=\"90.5\"/><text fill=\"#000000\" font-family=\"sans-serif\" font-size=\"12\" lengthAdjust=\"spacingAndGlyphs\" textLength=\"22\" x=\"70\" y=\"106.6387\">x: A</text></a></g><!--MD5=[6b9eebaa5d8dbbd7ae9021d8f13e1f32]\n",
       "@startuml\r\n",
       "skinparam ranksep 10\r\n",
       "skinparam rectangle {\r\n",
       " backgroundColor<<block>> LightGreen\r\n",
       "}\r\n",
       "skinparam linetype ortho\r\n",
       "skinparam monochrome true\r\n",
       "skinparam classbackgroundcolor white\r\n",
       "skinparam shadowing false\r\n",
       "skinparam wrapWidth 300\r\n",
       "hide circle\r\n",
       "\r\n",
       "package \"QualifiedNameImportTest\" as E1  [[psysml:a4661f57-6558-47c6-8aa5-037eecc073c9 ]]  {\r\n",
       "package \"P1\" as E2  [[psysml:29f17ec2-4245-49fb-a177-0d25d24d4819 ]]  {\r\n",
       "rec def \"A\" as E3  <<(T,blue)part def>> [[psysml:572e0642-2007-40ad-b1a4-6402326f1a76 ]] {\r\n",
       "}\r\n",
       "}\r\n",
       "package \"P2\" as E4  [[psysml:a2f2702a-9aae-4fcb-bcab-ee7ca241440a ]]  {\r\n",
       "package \"P2a\" as E5  [[psysml:584bb17b-e85a-4a43-abf7-54afe3b89034 ]]  {\r\n",
       "}\r\n",
       "rec usage \"x: A\" as E6  [[psysml:1b3157b3-25ca-40f3-9d15-65b1efb05714 ]] {\r\n",
       "}\r\n",
       "}\r\n",
       "}\r\n",
       "@enduml\r\n",
       "\n",
       "PlantUML version 1.2020.13(Sat Jun 13 12:26:38 UTC 2020)\n",
       "(EPL source distribution)\n",
       "Java Runtime: OpenJDK Runtime Environment\n",
       "JVM: OpenJDK 64-Bit Server VM\n",
       "Default Encoding: UTF-8\n",
       "Language: en\n",
       "Country: null\n",
       "--></g></svg>"
      ]
     },
     "execution_count": 54,
     "metadata": {},
     "output_type": "execute_result"
    }
   ],
   "source": [
    "%viz --style=\"ORTHOLINE\" --view=\"Interconnection\" \"QualifiedNameImportTest\""
   ]
  },
  {
   "cell_type": "code",
   "execution_count": 55,
   "id": "23754ab1",
   "metadata": {
    "execution": {
     "iopub.execute_input": "2021-05-28T10:49:00.451562Z",
     "iopub.status.busy": "2021-05-28T10:49:00.451187Z",
     "iopub.status.idle": "2021-05-28T10:49:00.455849Z",
     "shell.execute_reply": "2021-05-28T10:49:00.455528Z"
    }
   },
   "outputs": [
    {
     "data": {
      "image/svg+xml": [
       "<?xml version=\"1.0\" encoding=\"UTF-8\" standalone=\"no\"?><svg xmlns=\"http://www.w3.org/2000/svg\" xmlns:xlink=\"http://www.w3.org/1999/xlink\" contentScriptType=\"application/ecmascript\" contentStyleType=\"text/css\" height=\"12px\" preserveAspectRatio=\"none\" style=\"width:12px;height:12px;\" version=\"1.1\" viewBox=\"0 0 12 12\" width=\"12px\" zoomAndPan=\"magnify\"><defs/><g><!--MD5=[72934c63077099a26744516a776b4749]\n",
       "@startuml\r\n",
       "skinparam ranksep 8\r\n",
       "skinparam linetype ortho\r\n",
       "skinparam monochrome true\r\n",
       "skinparam classbackgroundcolor white\r\n",
       "skinparam shadowing false\r\n",
       "skinparam wrapWidth 300\r\n",
       "hide circle\r\n",
       "\r\n",
       "@enduml\r\n",
       "\n",
       "PlantUML version 1.2020.13(Sat Jun 13 12:26:38 UTC 2020)\n",
       "(EPL source distribution)\n",
       "Java Runtime: OpenJDK Runtime Environment\n",
       "JVM: OpenJDK 64-Bit Server VM\n",
       "Default Encoding: UTF-8\n",
       "Language: en\n",
       "Country: null\n",
       "--></g></svg>"
      ]
     },
     "execution_count": 55,
     "metadata": {},
     "output_type": "execute_result"
    }
   ],
   "source": [
    "%viz --style=\"ORTHOLINE\" --view=\"Action\" \"QualifiedNameImportTest\""
   ]
  },
  {
   "cell_type": "code",
   "execution_count": 56,
   "id": "a654eaf1",
   "metadata": {
    "execution": {
     "iopub.execute_input": "2021-05-28T10:49:00.507904Z",
     "iopub.status.busy": "2021-05-28T10:49:00.507350Z",
     "iopub.status.idle": "2021-05-28T10:49:00.532117Z",
     "shell.execute_reply": "2021-05-28T10:49:00.530531Z"
    }
   },
   "outputs": [
    {
     "data": {
      "image/svg+xml": [
       "<?xml version=\"1.0\" encoding=\"UTF-8\" standalone=\"no\"?><svg xmlns=\"http://www.w3.org/2000/svg\" xmlns:xlink=\"http://www.w3.org/1999/xlink\" contentScriptType=\"application/ecmascript\" contentStyleType=\"text/css\" height=\"310px\" preserveAspectRatio=\"none\" style=\"width:253px;height:310px;\" version=\"1.1\" viewBox=\"0 0 253 310\" width=\"253px\" zoomAndPan=\"magnify\"><defs/><g><!--MD5=[fbc87193dbaf4d95561dea2c320d4a47]\n",
       "cluster E1--><a href=\"psysml:a4661f57-6558-47c6-8aa5-037eecc073c9\" target=\"_top\" title=\"psysml:a4661f57-6558-47c6-8aa5-037eecc073c9\" xlink:actuate=\"onRequest\" xlink:href=\"psysml:a4661f57-6558-47c6-8aa5-037eecc073c9\" xlink:show=\"new\" xlink:title=\"psysml:a4661f57-6558-47c6-8aa5-037eecc073c9\" xlink:type=\"simple\"><polygon fill=\"#FFFFFF\" points=\"16,6,221,6,228,28.2969,231,28.2969,231,298,16,298,16,6\" style=\"stroke: #000000; stroke-width: 1.5;\"/><line style=\"stroke: #000000; stroke-width: 1.5;\" x1=\"16\" x2=\"228\" y1=\"28.2969\" y2=\"28.2969\"/><text fill=\"#000000\" font-family=\"sans-serif\" font-size=\"14\" font-weight=\"bold\" lengthAdjust=\"spacingAndGlyphs\" textLength=\"199\" x=\"20\" y=\"20.9951\">QualifiedNameImportTest</text></a><!--MD5=[e4f7fae6ed58524ba242bb0b0d3be6b7]\n",
       "cluster E2--><a href=\"psysml:29f17ec2-4245-49fb-a177-0d25d24d4819\" target=\"_top\" title=\"psysml:29f17ec2-4245-49fb-a177-0d25d24d4819\" xlink:actuate=\"onRequest\" xlink:href=\"psysml:29f17ec2-4245-49fb-a177-0d25d24d4819\" xlink:show=\"new\" xlink:title=\"psysml:29f17ec2-4245-49fb-a177-0d25d24d4819\" xlink:type=\"simple\"><polygon fill=\"#FFFFFF\" points=\"105,177,131,177,138,199.2969,203,199.2969,203,274,105,274,105,177\" style=\"stroke: #000000; stroke-width: 1.5;\"/><line style=\"stroke: #000000; stroke-width: 1.5;\" x1=\"105\" x2=\"138\" y1=\"199.2969\" y2=\"199.2969\"/><text fill=\"#000000\" font-family=\"sans-serif\" font-size=\"14\" font-weight=\"bold\" lengthAdjust=\"spacingAndGlyphs\" textLength=\"20\" x=\"109\" y=\"191.9951\">P1</text></a><!--MD5=[f6df4d0ebaf0b5dfb2ced0ae5af7c670]\n",
       "cluster E4--><a href=\"psysml:a2f2702a-9aae-4fcb-bcab-ee7ca241440a\" target=\"_top\" title=\"psysml:a2f2702a-9aae-4fcb-bcab-ee7ca241440a\" xlink:actuate=\"onRequest\" xlink:href=\"psysml:a2f2702a-9aae-4fcb-bcab-ee7ca241440a\" xlink:show=\"new\" xlink:title=\"psysml:a2f2702a-9aae-4fcb-bcab-ee7ca241440a\" xlink:type=\"simple\"><polygon fill=\"#FFFFFF\" points=\"44,49,70,49,77,71.2969,203,71.2969,203,153,44,153,44,49\" style=\"stroke: #000000; stroke-width: 1.5;\"/><line style=\"stroke: #000000; stroke-width: 1.5;\" x1=\"44\" x2=\"77\" y1=\"71.2969\" y2=\"71.2969\"/><text fill=\"#000000\" font-family=\"sans-serif\" font-size=\"14\" font-weight=\"bold\" lengthAdjust=\"spacingAndGlyphs\" textLength=\"20\" x=\"48\" y=\"63.9951\">P2</text></a><!--MD5=[09b614a08d8cba4a07c9adeb5e0fee81]\n",
       "class E3--><a href=\"psysml:572e0642-2007-40ad-b1a4-6402326f1a76\" target=\"_top\" title=\"psysml:572e0642-2007-40ad-b1a4-6402326f1a76\" xlink:actuate=\"onRequest\" xlink:href=\"psysml:572e0642-2007-40ad-b1a4-6402326f1a76\" xlink:show=\"new\" xlink:title=\"psysml:572e0642-2007-40ad-b1a4-6402326f1a76\" xlink:type=\"simple\"><rect fill=\"#FFFFFF\" height=\"45.9375\" id=\"E3\" style=\"stroke: #383838; stroke-width: 1.5;\" width=\"66\" x=\"121\" y=\"212\"/><text fill=\"#000000\" font-family=\"sans-serif\" font-size=\"12\" font-style=\"italic\" lengthAdjust=\"spacingAndGlyphs\" textLength=\"64\" x=\"122\" y=\"228.1387\">«part def»</text><text fill=\"#000000\" font-family=\"sans-serif\" font-size=\"12\" lengthAdjust=\"spacingAndGlyphs\" textLength=\"8\" x=\"150\" y=\"242.1074\">A</text><line style=\"stroke: #383838; stroke-width: 1.5;\" x1=\"122\" x2=\"186\" y1=\"249.9375\" y2=\"249.9375\"/></a><!--MD5=[60a26617385b1d2d0262a64233df1f8d]\n",
       "class E6--><a href=\"psysml:1b3157b3-25ca-40f3-9d15-65b1efb05714\" target=\"_top\" title=\"psysml:1b3157b3-25ca-40f3-9d15-65b1efb05714\" xlink:actuate=\"onRequest\" xlink:href=\"psysml:1b3157b3-25ca-40f3-9d15-65b1efb05714\" xlink:show=\"new\" xlink:title=\"psysml:1b3157b3-25ca-40f3-9d15-65b1efb05714\" xlink:type=\"simple\"><rect fill=\"#FFFFFF\" height=\"45.9375\" id=\"E6\" rx=\"10\" ry=\"10\" style=\"stroke: #383838; stroke-width: 1.5;\" width=\"42\" x=\"145\" y=\"87.5\"/><text fill=\"#000000\" font-family=\"sans-serif\" font-size=\"12\" font-style=\"italic\" lengthAdjust=\"spacingAndGlyphs\" textLength=\"40\" x=\"146\" y=\"103.6387\">«part»</text><text fill=\"#000000\" font-family=\"sans-serif\" font-size=\"12\" lengthAdjust=\"spacingAndGlyphs\" textLength=\"22\" x=\"155\" y=\"117.6074\">x: A</text><line style=\"stroke: #383838; stroke-width: 1.5;\" x1=\"146\" x2=\"186\" y1=\"125.4375\" y2=\"125.4375\"/></a><a href=\"psysml:584bb17b-e85a-4a43-abf7-54afe3b89034\" target=\"_top\" title=\"psysml:584bb17b-e85a-4a43-abf7-54afe3b89034\" xlink:actuate=\"onRequest\" xlink:href=\"psysml:584bb17b-e85a-4a43-abf7-54afe3b89034\" xlink:show=\"new\" xlink:title=\"psysml:584bb17b-e85a-4a43-abf7-54afe3b89034\" xlink:type=\"simple\"><polygon fill=\"#FFFFFF\" points=\"60.5,84,95.5,84,102.5,106.2969,109.5,106.2969,109.5,136.5938,60.5,136.5938,60.5,84\" style=\"stroke: #000000; stroke-width: 1.5;\"/><line style=\"stroke: #000000; stroke-width: 1.5;\" x1=\"60.5\" x2=\"102.5\" y1=\"106.2969\" y2=\"106.2969\"/><text fill=\"#000000\" font-family=\"sans-serif\" font-size=\"14\" font-weight=\"bold\" lengthAdjust=\"spacingAndGlyphs\" textLength=\"29\" x=\"64.5\" y=\"98.9951\">P2a</text></a><!--MD5=[a717450b82c80b9240a525fa862496af]\n",
       "link E6 to E3--><a href=\"psysml:dd0f39f2-d93b-4af4-8d6e-2bae3b2dacf1\" target=\"_top\" title=\"psysml:dd0f39f2-d93b-4af4-8d6e-2bae3b2dacf1\" xlink:actuate=\"onRequest\" xlink:href=\"psysml:dd0f39f2-d93b-4af4-8d6e-2bae3b2dacf1\" xlink:show=\"new\" xlink:title=\"psysml:dd0f39f2-d93b-4af4-8d6e-2bae3b2dacf1\" xlink:type=\"simple\"><path d=\"M166,133.63 C166,133.63 166,192 166,192 \" fill=\"none\" id=\"E6-&gt;E3\" style=\"stroke: #383838; stroke-width: 1.0;\"/><polygon fill=\"#FFFFFF\" points=\"166,212,159,193,173,193,166,212\" style=\"stroke: #383838; stroke-width: 1.0;\"/><ellipse cx=\"161\" cy=\"187.3\" fill=\"#383838\" rx=\"2\" ry=\"2\" style=\"stroke: #383838; stroke-width: 1.0;\"/><ellipse cx=\"171\" cy=\"187.3\" fill=\"#383838\" rx=\"2\" ry=\"2\" style=\"stroke: #383838; stroke-width: 1.0;\"/></a><!--MD5=[74e0b1e889fddf806696ce5473b718e3]\n",
       "@startuml\r\n",
       "skinparam linetype ortho\r\n",
       "skinparam monochrome true\r\n",
       "skinparam classbackgroundcolor white\r\n",
       "skinparam shadowing false\r\n",
       "skinparam wrapWidth 300\r\n",
       "hide circle\r\n",
       "\r\n",
       "package \"QualifiedNameImportTest\" as E1  [[psysml:a4661f57-6558-47c6-8aa5-037eecc073c9 ]]  {\r\n",
       "package \"P1\" as E2  [[psysml:29f17ec2-4245-49fb-a177-0d25d24d4819 ]]  {\r\n",
       "comp def \"A\" as E3  <<(T,blue)part def>> [[psysml:572e0642-2007-40ad-b1a4-6402326f1a76 ]] {\r\n",
       "}\r\n",
       "}\r\n",
       "package \"P2\" as E4  [[psysml:a2f2702a-9aae-4fcb-bcab-ee7ca241440a ]]  {\r\n",
       "package \"P2a\" as E5  [[psysml:584bb17b-e85a-4a43-abf7-54afe3b89034 ]]  {\r\n",
       "}\r\n",
       "comp usage \"x: A\" as E6  <<(T,blue)part>> [[psysml:1b3157b3-25ca-40f3-9d15-65b1efb05714 ]] {\r\n",
       "}\r\n",
       "E6 - -:|> E3 [[psysml:dd0f39f2-d93b-4af4-8d6e-2bae3b2dacf1 ]] \r\n",
       "}\r\n",
       "}\r\n",
       "@enduml\r\n",
       "\n",
       "PlantUML version 1.2020.13(Sat Jun 13 12:26:38 UTC 2020)\n",
       "(EPL source distribution)\n",
       "Java Runtime: OpenJDK Runtime Environment\n",
       "JVM: OpenJDK 64-Bit Server VM\n",
       "Default Encoding: UTF-8\n",
       "Language: en\n",
       "Country: null\n",
       "--></g></svg>"
      ]
     },
     "execution_count": 56,
     "metadata": {},
     "output_type": "execute_result"
    }
   ],
   "source": [
    "%viz --style=\"ORTHOLINE\" --view=\"Sequence\" \"QualifiedNameImportTest\""
   ]
  },
  {
   "cell_type": "code",
   "execution_count": 57,
   "id": "be6da547",
   "metadata": {
    "execution": {
     "iopub.execute_input": "2021-05-28T10:49:00.583080Z",
     "iopub.status.busy": "2021-05-28T10:49:00.582433Z",
     "iopub.status.idle": "2021-05-28T10:49:00.611365Z",
     "shell.execute_reply": "2021-05-28T10:49:00.609992Z"
    }
   },
   "outputs": [
    {
     "data": {
      "image/svg+xml": [
       "<?xml version=\"1.0\" encoding=\"UTF-8\" standalone=\"no\"?><svg xmlns=\"http://www.w3.org/2000/svg\" xmlns:xlink=\"http://www.w3.org/1999/xlink\" contentScriptType=\"application/ecmascript\" contentStyleType=\"text/css\" height=\"310px\" preserveAspectRatio=\"none\" style=\"width:253px;height:310px;\" version=\"1.1\" viewBox=\"0 0 253 310\" width=\"253px\" zoomAndPan=\"magnify\"><defs/><g><!--MD5=[fbc87193dbaf4d95561dea2c320d4a47]\n",
       "cluster E1--><a href=\"psysml:a4661f57-6558-47c6-8aa5-037eecc073c9\" target=\"_top\" title=\"psysml:a4661f57-6558-47c6-8aa5-037eecc073c9\" xlink:actuate=\"onRequest\" xlink:href=\"psysml:a4661f57-6558-47c6-8aa5-037eecc073c9\" xlink:show=\"new\" xlink:title=\"psysml:a4661f57-6558-47c6-8aa5-037eecc073c9\" xlink:type=\"simple\"><polygon fill=\"#FFFFFF\" points=\"16,6,221,6,228,28.2969,231,28.2969,231,298,16,298,16,6\" style=\"stroke: #000000; stroke-width: 1.5;\"/><line style=\"stroke: #000000; stroke-width: 1.5;\" x1=\"16\" x2=\"228\" y1=\"28.2969\" y2=\"28.2969\"/><text fill=\"#000000\" font-family=\"sans-serif\" font-size=\"14\" font-weight=\"bold\" lengthAdjust=\"spacingAndGlyphs\" textLength=\"199\" x=\"20\" y=\"20.9951\">QualifiedNameImportTest</text></a><!--MD5=[e4f7fae6ed58524ba242bb0b0d3be6b7]\n",
       "cluster E2--><a href=\"psysml:29f17ec2-4245-49fb-a177-0d25d24d4819\" target=\"_top\" title=\"psysml:29f17ec2-4245-49fb-a177-0d25d24d4819\" xlink:actuate=\"onRequest\" xlink:href=\"psysml:29f17ec2-4245-49fb-a177-0d25d24d4819\" xlink:show=\"new\" xlink:title=\"psysml:29f17ec2-4245-49fb-a177-0d25d24d4819\" xlink:type=\"simple\"><polygon fill=\"#FFFFFF\" points=\"105,177,131,177,138,199.2969,203,199.2969,203,274,105,274,105,177\" style=\"stroke: #000000; stroke-width: 1.5;\"/><line style=\"stroke: #000000; stroke-width: 1.5;\" x1=\"105\" x2=\"138\" y1=\"199.2969\" y2=\"199.2969\"/><text fill=\"#000000\" font-family=\"sans-serif\" font-size=\"14\" font-weight=\"bold\" lengthAdjust=\"spacingAndGlyphs\" textLength=\"20\" x=\"109\" y=\"191.9951\">P1</text></a><!--MD5=[f6df4d0ebaf0b5dfb2ced0ae5af7c670]\n",
       "cluster E4--><a href=\"psysml:a2f2702a-9aae-4fcb-bcab-ee7ca241440a\" target=\"_top\" title=\"psysml:a2f2702a-9aae-4fcb-bcab-ee7ca241440a\" xlink:actuate=\"onRequest\" xlink:href=\"psysml:a2f2702a-9aae-4fcb-bcab-ee7ca241440a\" xlink:show=\"new\" xlink:title=\"psysml:a2f2702a-9aae-4fcb-bcab-ee7ca241440a\" xlink:type=\"simple\"><polygon fill=\"#FFFFFF\" points=\"44,49,70,49,77,71.2969,203,71.2969,203,153,44,153,44,49\" style=\"stroke: #000000; stroke-width: 1.5;\"/><line style=\"stroke: #000000; stroke-width: 1.5;\" x1=\"44\" x2=\"77\" y1=\"71.2969\" y2=\"71.2969\"/><text fill=\"#000000\" font-family=\"sans-serif\" font-size=\"14\" font-weight=\"bold\" lengthAdjust=\"spacingAndGlyphs\" textLength=\"20\" x=\"48\" y=\"63.9951\">P2</text></a><!--MD5=[09b614a08d8cba4a07c9adeb5e0fee81]\n",
       "class E3--><a href=\"psysml:572e0642-2007-40ad-b1a4-6402326f1a76\" target=\"_top\" title=\"psysml:572e0642-2007-40ad-b1a4-6402326f1a76\" xlink:actuate=\"onRequest\" xlink:href=\"psysml:572e0642-2007-40ad-b1a4-6402326f1a76\" xlink:show=\"new\" xlink:title=\"psysml:572e0642-2007-40ad-b1a4-6402326f1a76\" xlink:type=\"simple\"><rect fill=\"#FFFFFF\" height=\"45.9375\" id=\"E3\" style=\"stroke: #383838; stroke-width: 1.5;\" width=\"66\" x=\"121\" y=\"212\"/><text fill=\"#000000\" font-family=\"sans-serif\" font-size=\"12\" font-style=\"italic\" lengthAdjust=\"spacingAndGlyphs\" textLength=\"64\" x=\"122\" y=\"228.1387\">«part def»</text><text fill=\"#000000\" font-family=\"sans-serif\" font-size=\"12\" lengthAdjust=\"spacingAndGlyphs\" textLength=\"8\" x=\"150\" y=\"242.1074\">A</text><line style=\"stroke: #383838; stroke-width: 1.5;\" x1=\"122\" x2=\"186\" y1=\"249.9375\" y2=\"249.9375\"/></a><!--MD5=[60a26617385b1d2d0262a64233df1f8d]\n",
       "class E6--><a href=\"psysml:1b3157b3-25ca-40f3-9d15-65b1efb05714\" target=\"_top\" title=\"psysml:1b3157b3-25ca-40f3-9d15-65b1efb05714\" xlink:actuate=\"onRequest\" xlink:href=\"psysml:1b3157b3-25ca-40f3-9d15-65b1efb05714\" xlink:show=\"new\" xlink:title=\"psysml:1b3157b3-25ca-40f3-9d15-65b1efb05714\" xlink:type=\"simple\"><rect fill=\"#FFFFFF\" height=\"45.9375\" id=\"E6\" rx=\"10\" ry=\"10\" style=\"stroke: #383838; stroke-width: 1.5;\" width=\"42\" x=\"145\" y=\"87.5\"/><text fill=\"#000000\" font-family=\"sans-serif\" font-size=\"12\" font-style=\"italic\" lengthAdjust=\"spacingAndGlyphs\" textLength=\"40\" x=\"146\" y=\"103.6387\">«part»</text><text fill=\"#000000\" font-family=\"sans-serif\" font-size=\"12\" lengthAdjust=\"spacingAndGlyphs\" textLength=\"22\" x=\"155\" y=\"117.6074\">x: A</text><line style=\"stroke: #383838; stroke-width: 1.5;\" x1=\"146\" x2=\"186\" y1=\"125.4375\" y2=\"125.4375\"/></a><a href=\"psysml:584bb17b-e85a-4a43-abf7-54afe3b89034\" target=\"_top\" title=\"psysml:584bb17b-e85a-4a43-abf7-54afe3b89034\" xlink:actuate=\"onRequest\" xlink:href=\"psysml:584bb17b-e85a-4a43-abf7-54afe3b89034\" xlink:show=\"new\" xlink:title=\"psysml:584bb17b-e85a-4a43-abf7-54afe3b89034\" xlink:type=\"simple\"><polygon fill=\"#FFFFFF\" points=\"60.5,84,95.5,84,102.5,106.2969,109.5,106.2969,109.5,136.5938,60.5,136.5938,60.5,84\" style=\"stroke: #000000; stroke-width: 1.5;\"/><line style=\"stroke: #000000; stroke-width: 1.5;\" x1=\"60.5\" x2=\"102.5\" y1=\"106.2969\" y2=\"106.2969\"/><text fill=\"#000000\" font-family=\"sans-serif\" font-size=\"14\" font-weight=\"bold\" lengthAdjust=\"spacingAndGlyphs\" textLength=\"29\" x=\"64.5\" y=\"98.9951\">P2a</text></a><!--MD5=[a717450b82c80b9240a525fa862496af]\n",
       "link E6 to E3--><a href=\"psysml:dd0f39f2-d93b-4af4-8d6e-2bae3b2dacf1\" target=\"_top\" title=\"psysml:dd0f39f2-d93b-4af4-8d6e-2bae3b2dacf1\" xlink:actuate=\"onRequest\" xlink:href=\"psysml:dd0f39f2-d93b-4af4-8d6e-2bae3b2dacf1\" xlink:show=\"new\" xlink:title=\"psysml:dd0f39f2-d93b-4af4-8d6e-2bae3b2dacf1\" xlink:type=\"simple\"><path d=\"M166,133.63 C166,133.63 166,192 166,192 \" fill=\"none\" id=\"E6-&gt;E3\" style=\"stroke: #383838; stroke-width: 1.0;\"/><polygon fill=\"#FFFFFF\" points=\"166,212,159,193,173,193,166,212\" style=\"stroke: #383838; stroke-width: 1.0;\"/><ellipse cx=\"161\" cy=\"187.3\" fill=\"#383838\" rx=\"2\" ry=\"2\" style=\"stroke: #383838; stroke-width: 1.0;\"/><ellipse cx=\"171\" cy=\"187.3\" fill=\"#383838\" rx=\"2\" ry=\"2\" style=\"stroke: #383838; stroke-width: 1.0;\"/></a><!--MD5=[74e0b1e889fddf806696ce5473b718e3]\n",
       "@startuml\r\n",
       "skinparam linetype ortho\r\n",
       "skinparam monochrome true\r\n",
       "skinparam classbackgroundcolor white\r\n",
       "skinparam shadowing false\r\n",
       "skinparam wrapWidth 300\r\n",
       "hide circle\r\n",
       "\r\n",
       "package \"QualifiedNameImportTest\" as E1  [[psysml:a4661f57-6558-47c6-8aa5-037eecc073c9 ]]  {\r\n",
       "package \"P1\" as E2  [[psysml:29f17ec2-4245-49fb-a177-0d25d24d4819 ]]  {\r\n",
       "comp def \"A\" as E3  <<(T,blue)part def>> [[psysml:572e0642-2007-40ad-b1a4-6402326f1a76 ]] {\r\n",
       "}\r\n",
       "}\r\n",
       "package \"P2\" as E4  [[psysml:a2f2702a-9aae-4fcb-bcab-ee7ca241440a ]]  {\r\n",
       "package \"P2a\" as E5  [[psysml:584bb17b-e85a-4a43-abf7-54afe3b89034 ]]  {\r\n",
       "}\r\n",
       "comp usage \"x: A\" as E6  <<(T,blue)part>> [[psysml:1b3157b3-25ca-40f3-9d15-65b1efb05714 ]] {\r\n",
       "}\r\n",
       "E6 - -:|> E3 [[psysml:dd0f39f2-d93b-4af4-8d6e-2bae3b2dacf1 ]] \r\n",
       "}\r\n",
       "}\r\n",
       "@enduml\r\n",
       "\n",
       "PlantUML version 1.2020.13(Sat Jun 13 12:26:38 UTC 2020)\n",
       "(EPL source distribution)\n",
       "Java Runtime: OpenJDK Runtime Environment\n",
       "JVM: OpenJDK 64-Bit Server VM\n",
       "Default Encoding: UTF-8\n",
       "Language: en\n",
       "Country: null\n",
       "--></g></svg>"
      ]
     },
     "execution_count": 57,
     "metadata": {},
     "output_type": "execute_result"
    }
   ],
   "source": [
    "%viz --style=\"ORTHOLINE\" --view=\"MIXED\" \"QualifiedNameImportTest\""
   ]
  }
 ],
 "metadata": {
  "kernelspec": {
   "display_name": "SysML",
   "language": "sysml",
   "name": "sysml"
  },
  "language_info": {
   "codemirror_mode": "sysml",
   "file_extension": ".sysml",
   "mimetype": "text/x-sysml",
   "name": "SysML",
   "pygments_lexer": "java",
   "version": "1.0.0"
  }
 },
 "nbformat": 4,
 "nbformat_minor": 5
}
