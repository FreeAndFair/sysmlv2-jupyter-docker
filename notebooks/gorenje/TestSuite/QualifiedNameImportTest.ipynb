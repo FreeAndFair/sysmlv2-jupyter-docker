{
 "cells": [
  {
   "cell_type": "markdown",
   "id": "valid-above",
   "metadata": {},
   "source": [
    "# SysML v2 Test Suite\n",
    "\n",
    "This can notebook can be cleared using menu `Edit --> Clear All Outputs` and then all cells can be\n",
    "run using menu `Run --> Run All Cells`.\n",
    "\n",
    "**WARNING**: This file is generated, all modifications here will be ignored.\n"
   ]
  },
  {
   "cell_type": "markdown",
   "id": "dated-designer",
   "metadata": {},
   "source": [
    "## File: ../../sysml/src/examples/Import Tests/QualifiedNameImportTest.sysml"
   ]
  },
  {
   "cell_type": "code",
   "execution_count": 1,
   "id": "american-anaheim",
   "metadata": {
    "execution": {
     "iopub.execute_input": "2021-03-25T15:09:09.329318Z",
     "iopub.status.busy": "2021-03-25T15:09:09.327948Z",
     "iopub.status.idle": "2021-03-25T15:09:09.439508Z",
     "shell.execute_reply": "2021-03-25T15:09:09.440045Z"
    }
   },
   "outputs": [
    {
     "data": {
      "text/plain": [
       "Package QualifiedNameImportTest (12b35db7-1363-4223-a278-fcf67e3eafb6)\n"
      ]
     },
     "execution_count": 1,
     "metadata": {},
     "output_type": "execute_result"
    }
   ],
   "source": [
    "package QualifiedNameImportTest {\n",
    "\tpackage P1 {\n",
    "\t\tpart def A;\n",
    "\t}\n",
    "\tpackage P2 {\n",
    "\t\tpackage P2a {\n",
    "\t\t\timport P1::*;\n",
    "\t\t}\n",
    "\t\t// The following should not fail.\n",
    "\t\t// A is a member of P2a because of the import.\n",
    "\t\tpart x: P2a::A;\n",
    "\t}\n",
    "}"
   ]
  },
  {
   "cell_type": "code",
   "execution_count": 2,
   "id": "double-killer",
   "metadata": {
    "execution": {
     "iopub.execute_input": "2021-03-25T15:09:09.488495Z",
     "iopub.status.busy": "2021-03-25T15:09:09.487704Z",
     "iopub.status.idle": "2021-03-25T15:09:10.238536Z",
     "shell.execute_reply": "2021-03-25T15:09:10.238183Z"
    }
   },
   "outputs": [
    {
     "data": {
      "image/svg+xml": [
       "<?xml version=\"1.0\" encoding=\"UTF-8\" standalone=\"no\"?><svg xmlns=\"http://www.w3.org/2000/svg\" xmlns:xlink=\"http://www.w3.org/1999/xlink\" contentScriptType=\"application/ecmascript\" contentStyleType=\"text/css\" height=\"310px\" preserveAspectRatio=\"none\" style=\"width:271px;height:310px;\" version=\"1.1\" viewBox=\"0 0 271 310\" width=\"271px\" zoomAndPan=\"magnify\"><defs><filter height=\"300%\" id=\"fkbd2wpw65nu6\" width=\"300%\" x=\"-1\" y=\"-1\"><feGaussianBlur result=\"blurOut\" stdDeviation=\"2.0\"/><feColorMatrix in=\"blurOut\" result=\"blurOut2\" type=\"matrix\" values=\"0 0 0 0 0 0 0 0 0 0 0 0 0 0 0 0 0 0 .4 0\"/><feOffset dx=\"4.0\" dy=\"4.0\" in=\"blurOut2\" result=\"blurOut3\"/><feBlend in=\"SourceGraphic\" in2=\"blurOut3\" mode=\"normal\"/></filter></defs><g><!--MD5=[fbc87193dbaf4d95561dea2c320d4a47]\n",
       "cluster E1--><a href=\"psysml:825b0528-a754-4768-92c2-54c3479055c4\" target=\"_top\" title=\"psysml:825b0528-a754-4768-92c2-54c3479055c4\" xlink:actuate=\"onRequest\" xlink:href=\"psysml:825b0528-a754-4768-92c2-54c3479055c4\" xlink:show=\"new\" xlink:title=\"psysml:825b0528-a754-4768-92c2-54c3479055c4\" xlink:type=\"simple\"><polygon fill=\"#FFFFFF\" filter=\"url(#fkbd2wpw65nu6)\" points=\"16,6,221,6,228,28.2969,249,28.2969,249,298,16,298,16,6\" style=\"stroke: #000000; stroke-width: 1.5;\"/><line style=\"stroke: #000000; stroke-width: 1.5;\" x1=\"16\" x2=\"228\" y1=\"28.2969\" y2=\"28.2969\"/><text fill=\"#000000\" font-family=\"sans-serif\" font-size=\"14\" font-weight=\"bold\" lengthAdjust=\"spacingAndGlyphs\" textLength=\"199\" x=\"20\" y=\"20.9951\">QualifiedNameImportTest</text></a><!--MD5=[e4f7fae6ed58524ba242bb0b0d3be6b7]\n",
       "cluster E2--><a href=\"psysml:a3fdeae3-ca66-43fb-8ea3-ccc1fec12162\" target=\"_top\" title=\"psysml:a3fdeae3-ca66-43fb-8ea3-ccc1fec12162\" xlink:actuate=\"onRequest\" xlink:href=\"psysml:a3fdeae3-ca66-43fb-8ea3-ccc1fec12162\" xlink:show=\"new\" xlink:title=\"psysml:a3fdeae3-ca66-43fb-8ea3-ccc1fec12162\" xlink:type=\"simple\"><polygon fill=\"#FFFFFF\" filter=\"url(#fkbd2wpw65nu6)\" points=\"101,177,127,177,134,199.2969,225,199.2969,225,274,101,274,101,177\" style=\"stroke: #000000; stroke-width: 1.5;\"/><line style=\"stroke: #000000; stroke-width: 1.5;\" x1=\"101\" x2=\"134\" y1=\"199.2969\" y2=\"199.2969\"/><text fill=\"#000000\" font-family=\"sans-serif\" font-size=\"14\" font-weight=\"bold\" lengthAdjust=\"spacingAndGlyphs\" textLength=\"20\" x=\"105\" y=\"191.9951\">P1</text></a><!--MD5=[f6df4d0ebaf0b5dfb2ced0ae5af7c670]\n",
       "cluster E4--><a href=\"psysml:f7e915ae-81d4-47d2-8346-f23cee504381\" target=\"_top\" title=\"psysml:f7e915ae-81d4-47d2-8346-f23cee504381\" xlink:actuate=\"onRequest\" xlink:href=\"psysml:f7e915ae-81d4-47d2-8346-f23cee504381\" xlink:show=\"new\" xlink:title=\"psysml:f7e915ae-81d4-47d2-8346-f23cee504381\" xlink:type=\"simple\"><polygon fill=\"#FFFFFF\" filter=\"url(#fkbd2wpw65nu6)\" points=\"40,49,66,49,73,71.2969,225,71.2969,225,153,40,153,40,49\" style=\"stroke: #000000; stroke-width: 1.5;\"/><line style=\"stroke: #000000; stroke-width: 1.5;\" x1=\"40\" x2=\"73\" y1=\"71.2969\" y2=\"71.2969\"/><text fill=\"#000000\" font-family=\"sans-serif\" font-size=\"14\" font-weight=\"bold\" lengthAdjust=\"spacingAndGlyphs\" textLength=\"20\" x=\"44\" y=\"63.9951\">P2</text></a><!--MD5=[09b614a08d8cba4a07c9adeb5e0fee81]\n",
       "class E3--><a href=\"psysml:383f729c-d04b-4502-922b-14a45e711088\" target=\"_top\" title=\"psysml:383f729c-d04b-4502-922b-14a45e711088\" xlink:actuate=\"onRequest\" xlink:href=\"psysml:383f729c-d04b-4502-922b-14a45e711088\" xlink:show=\"new\" xlink:title=\"psysml:383f729c-d04b-4502-922b-14a45e711088\" xlink:type=\"simple\"><rect fill=\"#FEFECE\" filter=\"url(#fkbd2wpw65nu6)\" height=\"45.9375\" id=\"E3\" style=\"stroke: #A80036; stroke-width: 1.5;\" width=\"92\" x=\"117\" y=\"212\"/><ellipse cx=\"132\" cy=\"230.9688\" fill=\"#0000FF\" rx=\"11\" ry=\"11\" style=\"stroke: #A80036; stroke-width: 1.0;\"/><path d=\"M132.8438,237.7188 L130.3906,237.7188 L130.3906,227.4688 L127.25,227.4688 L127.25,225.3281 L135.9844,225.3281 L135.9844,227.4688 L132.8438,227.4688 L132.8438,237.7188 Z \"/><text fill=\"#000000\" font-family=\"sans-serif\" font-size=\"12\" font-style=\"italic\" lengthAdjust=\"spacingAndGlyphs\" textLength=\"64\" x=\"144\" y=\"228.1387\">«part def»</text><text fill=\"#000000\" font-family=\"sans-serif\" font-size=\"12\" lengthAdjust=\"spacingAndGlyphs\" textLength=\"8\" x=\"172\" y=\"242.1074\">A</text><line style=\"stroke: #A80036; stroke-width: 1.5;\" x1=\"118\" x2=\"208\" y1=\"249.9375\" y2=\"249.9375\"/></a><!--MD5=[60a26617385b1d2d0262a64233df1f8d]\n",
       "class E6--><a href=\"psysml:411a4236-fb50-40bf-b31c-7cf2c008c402\" target=\"_top\" title=\"psysml:411a4236-fb50-40bf-b31c-7cf2c008c402\" xlink:actuate=\"onRequest\" xlink:href=\"psysml:411a4236-fb50-40bf-b31c-7cf2c008c402\" xlink:show=\"new\" xlink:title=\"psysml:411a4236-fb50-40bf-b31c-7cf2c008c402\" xlink:type=\"simple\"><rect fill=\"#FEFECE\" filter=\"url(#fkbd2wpw65nu6)\" height=\"45.9375\" id=\"E6\" rx=\"10\" ry=\"10\" style=\"stroke: #A80036; stroke-width: 1.5;\" width=\"68\" x=\"141\" y=\"87.5\"/><ellipse cx=\"156\" cy=\"106.4688\" fill=\"#0000FF\" rx=\"11\" ry=\"11\" style=\"stroke: #A80036; stroke-width: 1.0;\"/><path d=\"M156.8438,113.2188 L154.3906,113.2188 L154.3906,102.9688 L151.25,102.9688 L151.25,100.8281 L159.9844,100.8281 L159.9844,102.9688 L156.8438,102.9688 L156.8438,113.2188 Z \"/><text fill=\"#000000\" font-family=\"sans-serif\" font-size=\"12\" font-style=\"italic\" lengthAdjust=\"spacingAndGlyphs\" textLength=\"40\" x=\"168\" y=\"103.6387\">«part»</text><text fill=\"#000000\" font-family=\"sans-serif\" font-size=\"12\" lengthAdjust=\"spacingAndGlyphs\" textLength=\"22\" x=\"177\" y=\"117.6074\">x: A</text><line style=\"stroke: #A80036; stroke-width: 1.5;\" x1=\"142\" x2=\"208\" y1=\"125.4375\" y2=\"125.4375\"/></a><a href=\"psysml:806dfed2-196c-4937-8c4a-4cb4ed2b492f\" target=\"_top\" title=\"psysml:806dfed2-196c-4937-8c4a-4cb4ed2b492f\" xlink:actuate=\"onRequest\" xlink:href=\"psysml:806dfed2-196c-4937-8c4a-4cb4ed2b492f\" xlink:show=\"new\" xlink:title=\"psysml:806dfed2-196c-4937-8c4a-4cb4ed2b492f\" xlink:type=\"simple\"><polygon fill=\"#FFFFFF\" filter=\"url(#fkbd2wpw65nu6)\" points=\"56.5,84,91.5,84,98.5,106.2969,105.5,106.2969,105.5,136.5938,56.5,136.5938,56.5,84\" style=\"stroke: #000000; stroke-width: 1.5;\"/><line style=\"stroke: #000000; stroke-width: 1.5;\" x1=\"56.5\" x2=\"98.5\" y1=\"106.2969\" y2=\"106.2969\"/><text fill=\"#000000\" font-family=\"sans-serif\" font-size=\"14\" font-weight=\"bold\" lengthAdjust=\"spacingAndGlyphs\" textLength=\"29\" x=\"60.5\" y=\"98.9951\">P2a</text></a><!--MD5=[a717450b82c80b9240a525fa862496af]\n",
       "link E6 to E3--><a href=\"psysml:65a94b24-3d9f-4a56-873a-c3d993dcfd1a\" target=\"_top\" title=\"psysml:65a94b24-3d9f-4a56-873a-c3d993dcfd1a\" xlink:actuate=\"onRequest\" xlink:href=\"psysml:65a94b24-3d9f-4a56-873a-c3d993dcfd1a\" xlink:show=\"new\" xlink:title=\"psysml:65a94b24-3d9f-4a56-873a-c3d993dcfd1a\" xlink:type=\"simple\"><path d=\"M172.83,133.68 C171.24,149.9 169.04,172.39 167.12,191.96 \" fill=\"none\" id=\"E6-&gt;E3\" style=\"stroke: #A80036; stroke-width: 1.0;\"/><polygon fill=\"#FFFFFF\" points=\"165.16,211.98,160.0533,192.3861,173.986,193.7564,165.16,211.98\" style=\"stroke: #A80036; stroke-width: 1.0;\"/><ellipse cx=\"162.6016\" cy=\"186.9092\" fill=\"#A80036\" rx=\"2\" ry=\"2\" style=\"stroke: #A80036; stroke-width: 1.0;\"/><ellipse cx=\"172.5535\" cy=\"187.888\" fill=\"#A80036\" rx=\"2\" ry=\"2\" style=\"stroke: #A80036; stroke-width: 1.0;\"/></a><!--MD5=[6126a4458579a2fd3884b0173d5bf831]\n",
       "@startuml\r\n",
       " \r\n",
       "package \"QualifiedNameImportTest\" as E1  [[psysml:825b0528-a754-4768-92c2-54c3479055c4 ]]  {\r\n",
       "package \"P1\" as E2  [[psysml:a3fdeae3-ca66-43fb-8ea3-ccc1fec12162 ]]  {\r\n",
       "comp def \"A\" as E3  <<(T,blue)part def>> [[psysml:383f729c-d04b-4502-922b-14a45e711088 ]] {\r\n",
       "}\r\n",
       "}\r\n",
       "package \"P2\" as E4  [[psysml:f7e915ae-81d4-47d2-8346-f23cee504381 ]]  {\r\n",
       "package \"P2a\" as E5  [[psysml:806dfed2-196c-4937-8c4a-4cb4ed2b492f ]]  {\r\n",
       "}\r\n",
       "comp usage \"x: A\" as E6  <<(T,blue)part>> [[psysml:411a4236-fb50-40bf-b31c-7cf2c008c402 ]] {\r\n",
       "}\r\n",
       "E6 - -:|> E3 [[psysml:65a94b24-3d9f-4a56-873a-c3d993dcfd1a ]] \r\n",
       "}\r\n",
       "}\r\n",
       "@enduml\r\n",
       "\n",
       "PlantUML version 1.2020.13(Sat Jun 13 12:26:38 UTC 2020)\n",
       "(EPL source distribution)\n",
       "Java Runtime: OpenJDK Runtime Environment\n",
       "JVM: OpenJDK 64-Bit Server VM\n",
       "Default Encoding: UTF-8\n",
       "Language: en\n",
       "Country: null\n",
       "--></g></svg>"
      ]
     },
     "execution_count": 2,
     "metadata": {},
     "output_type": "execute_result"
    }
   ],
   "source": [
    "%viz --style=\"COMPTREE\" --view=\"Default\" \"QualifiedNameImportTest\""
   ]
  },
  {
   "cell_type": "code",
   "execution_count": 3,
   "id": "experienced-storage",
   "metadata": {
    "execution": {
     "iopub.execute_input": "2021-03-25T15:09:10.289148Z",
     "iopub.status.busy": "2021-03-25T15:09:10.288641Z",
     "iopub.status.idle": "2021-03-25T15:09:10.375454Z",
     "shell.execute_reply": "2021-03-25T15:09:10.375981Z"
    }
   },
   "outputs": [
    {
     "data": {
      "image/svg+xml": [
       "<?xml version=\"1.0\" encoding=\"UTF-8\" standalone=\"no\"?><svg xmlns=\"http://www.w3.org/2000/svg\" xmlns:xlink=\"http://www.w3.org/1999/xlink\" contentScriptType=\"application/ecmascript\" contentStyleType=\"text/css\" height=\"310px\" preserveAspectRatio=\"none\" style=\"width:271px;height:310px;\" version=\"1.1\" viewBox=\"0 0 271 310\" width=\"271px\" zoomAndPan=\"magnify\"><defs><filter height=\"300%\" id=\"fkbd2wpw65nu6\" width=\"300%\" x=\"-1\" y=\"-1\"><feGaussianBlur result=\"blurOut\" stdDeviation=\"2.0\"/><feColorMatrix in=\"blurOut\" result=\"blurOut2\" type=\"matrix\" values=\"0 0 0 0 0 0 0 0 0 0 0 0 0 0 0 0 0 0 .4 0\"/><feOffset dx=\"4.0\" dy=\"4.0\" in=\"blurOut2\" result=\"blurOut3\"/><feBlend in=\"SourceGraphic\" in2=\"blurOut3\" mode=\"normal\"/></filter></defs><g><!--MD5=[fbc87193dbaf4d95561dea2c320d4a47]\n",
       "cluster E1--><a href=\"psysml:825b0528-a754-4768-92c2-54c3479055c4\" target=\"_top\" title=\"psysml:825b0528-a754-4768-92c2-54c3479055c4\" xlink:actuate=\"onRequest\" xlink:href=\"psysml:825b0528-a754-4768-92c2-54c3479055c4\" xlink:show=\"new\" xlink:title=\"psysml:825b0528-a754-4768-92c2-54c3479055c4\" xlink:type=\"simple\"><polygon fill=\"#FFFFFF\" filter=\"url(#fkbd2wpw65nu6)\" points=\"16,6,221,6,228,28.2969,249,28.2969,249,298,16,298,16,6\" style=\"stroke: #000000; stroke-width: 1.5;\"/><line style=\"stroke: #000000; stroke-width: 1.5;\" x1=\"16\" x2=\"228\" y1=\"28.2969\" y2=\"28.2969\"/><text fill=\"#000000\" font-family=\"sans-serif\" font-size=\"14\" font-weight=\"bold\" lengthAdjust=\"spacingAndGlyphs\" textLength=\"199\" x=\"20\" y=\"20.9951\">QualifiedNameImportTest</text></a><!--MD5=[e4f7fae6ed58524ba242bb0b0d3be6b7]\n",
       "cluster E2--><a href=\"psysml:a3fdeae3-ca66-43fb-8ea3-ccc1fec12162\" target=\"_top\" title=\"psysml:a3fdeae3-ca66-43fb-8ea3-ccc1fec12162\" xlink:actuate=\"onRequest\" xlink:href=\"psysml:a3fdeae3-ca66-43fb-8ea3-ccc1fec12162\" xlink:show=\"new\" xlink:title=\"psysml:a3fdeae3-ca66-43fb-8ea3-ccc1fec12162\" xlink:type=\"simple\"><polygon fill=\"#FFFFFF\" filter=\"url(#fkbd2wpw65nu6)\" points=\"101,177,127,177,134,199.2969,225,199.2969,225,274,101,274,101,177\" style=\"stroke: #000000; stroke-width: 1.5;\"/><line style=\"stroke: #000000; stroke-width: 1.5;\" x1=\"101\" x2=\"134\" y1=\"199.2969\" y2=\"199.2969\"/><text fill=\"#000000\" font-family=\"sans-serif\" font-size=\"14\" font-weight=\"bold\" lengthAdjust=\"spacingAndGlyphs\" textLength=\"20\" x=\"105\" y=\"191.9951\">P1</text></a><!--MD5=[f6df4d0ebaf0b5dfb2ced0ae5af7c670]\n",
       "cluster E4--><a href=\"psysml:f7e915ae-81d4-47d2-8346-f23cee504381\" target=\"_top\" title=\"psysml:f7e915ae-81d4-47d2-8346-f23cee504381\" xlink:actuate=\"onRequest\" xlink:href=\"psysml:f7e915ae-81d4-47d2-8346-f23cee504381\" xlink:show=\"new\" xlink:title=\"psysml:f7e915ae-81d4-47d2-8346-f23cee504381\" xlink:type=\"simple\"><polygon fill=\"#FFFFFF\" filter=\"url(#fkbd2wpw65nu6)\" points=\"40,49,66,49,73,71.2969,225,71.2969,225,153,40,153,40,49\" style=\"stroke: #000000; stroke-width: 1.5;\"/><line style=\"stroke: #000000; stroke-width: 1.5;\" x1=\"40\" x2=\"73\" y1=\"71.2969\" y2=\"71.2969\"/><text fill=\"#000000\" font-family=\"sans-serif\" font-size=\"14\" font-weight=\"bold\" lengthAdjust=\"spacingAndGlyphs\" textLength=\"20\" x=\"44\" y=\"63.9951\">P2</text></a><!--MD5=[09b614a08d8cba4a07c9adeb5e0fee81]\n",
       "class E3--><a href=\"psysml:383f729c-d04b-4502-922b-14a45e711088\" target=\"_top\" title=\"psysml:383f729c-d04b-4502-922b-14a45e711088\" xlink:actuate=\"onRequest\" xlink:href=\"psysml:383f729c-d04b-4502-922b-14a45e711088\" xlink:show=\"new\" xlink:title=\"psysml:383f729c-d04b-4502-922b-14a45e711088\" xlink:type=\"simple\"><rect fill=\"#FEFECE\" filter=\"url(#fkbd2wpw65nu6)\" height=\"45.9375\" id=\"E3\" style=\"stroke: #A80036; stroke-width: 1.5;\" width=\"92\" x=\"117\" y=\"212\"/><ellipse cx=\"132\" cy=\"230.9688\" fill=\"#0000FF\" rx=\"11\" ry=\"11\" style=\"stroke: #A80036; stroke-width: 1.0;\"/><path d=\"M132.8438,237.7188 L130.3906,237.7188 L130.3906,227.4688 L127.25,227.4688 L127.25,225.3281 L135.9844,225.3281 L135.9844,227.4688 L132.8438,227.4688 L132.8438,237.7188 Z \"/><text fill=\"#000000\" font-family=\"sans-serif\" font-size=\"12\" font-style=\"italic\" lengthAdjust=\"spacingAndGlyphs\" textLength=\"64\" x=\"144\" y=\"228.1387\">«part def»</text><text fill=\"#000000\" font-family=\"sans-serif\" font-size=\"12\" lengthAdjust=\"spacingAndGlyphs\" textLength=\"8\" x=\"172\" y=\"242.1074\">A</text><line style=\"stroke: #A80036; stroke-width: 1.5;\" x1=\"118\" x2=\"208\" y1=\"249.9375\" y2=\"249.9375\"/></a><!--MD5=[60a26617385b1d2d0262a64233df1f8d]\n",
       "class E6--><a href=\"psysml:411a4236-fb50-40bf-b31c-7cf2c008c402\" target=\"_top\" title=\"psysml:411a4236-fb50-40bf-b31c-7cf2c008c402\" xlink:actuate=\"onRequest\" xlink:href=\"psysml:411a4236-fb50-40bf-b31c-7cf2c008c402\" xlink:show=\"new\" xlink:title=\"psysml:411a4236-fb50-40bf-b31c-7cf2c008c402\" xlink:type=\"simple\"><rect fill=\"#FEFECE\" filter=\"url(#fkbd2wpw65nu6)\" height=\"45.9375\" id=\"E6\" rx=\"10\" ry=\"10\" style=\"stroke: #A80036; stroke-width: 1.5;\" width=\"68\" x=\"141\" y=\"87.5\"/><ellipse cx=\"156\" cy=\"106.4688\" fill=\"#0000FF\" rx=\"11\" ry=\"11\" style=\"stroke: #A80036; stroke-width: 1.0;\"/><path d=\"M156.8438,113.2188 L154.3906,113.2188 L154.3906,102.9688 L151.25,102.9688 L151.25,100.8281 L159.9844,100.8281 L159.9844,102.9688 L156.8438,102.9688 L156.8438,113.2188 Z \"/><text fill=\"#000000\" font-family=\"sans-serif\" font-size=\"12\" font-style=\"italic\" lengthAdjust=\"spacingAndGlyphs\" textLength=\"40\" x=\"168\" y=\"103.6387\">«part»</text><text fill=\"#000000\" font-family=\"sans-serif\" font-size=\"12\" lengthAdjust=\"spacingAndGlyphs\" textLength=\"22\" x=\"177\" y=\"117.6074\">x: A</text><line style=\"stroke: #A80036; stroke-width: 1.5;\" x1=\"142\" x2=\"208\" y1=\"125.4375\" y2=\"125.4375\"/></a><a href=\"psysml:806dfed2-196c-4937-8c4a-4cb4ed2b492f\" target=\"_top\" title=\"psysml:806dfed2-196c-4937-8c4a-4cb4ed2b492f\" xlink:actuate=\"onRequest\" xlink:href=\"psysml:806dfed2-196c-4937-8c4a-4cb4ed2b492f\" xlink:show=\"new\" xlink:title=\"psysml:806dfed2-196c-4937-8c4a-4cb4ed2b492f\" xlink:type=\"simple\"><polygon fill=\"#FFFFFF\" filter=\"url(#fkbd2wpw65nu6)\" points=\"56.5,84,91.5,84,98.5,106.2969,105.5,106.2969,105.5,136.5938,56.5,136.5938,56.5,84\" style=\"stroke: #000000; stroke-width: 1.5;\"/><line style=\"stroke: #000000; stroke-width: 1.5;\" x1=\"56.5\" x2=\"98.5\" y1=\"106.2969\" y2=\"106.2969\"/><text fill=\"#000000\" font-family=\"sans-serif\" font-size=\"14\" font-weight=\"bold\" lengthAdjust=\"spacingAndGlyphs\" textLength=\"29\" x=\"60.5\" y=\"98.9951\">P2a</text></a><!--MD5=[a717450b82c80b9240a525fa862496af]\n",
       "link E6 to E3--><a href=\"psysml:65a94b24-3d9f-4a56-873a-c3d993dcfd1a\" target=\"_top\" title=\"psysml:65a94b24-3d9f-4a56-873a-c3d993dcfd1a\" xlink:actuate=\"onRequest\" xlink:href=\"psysml:65a94b24-3d9f-4a56-873a-c3d993dcfd1a\" xlink:show=\"new\" xlink:title=\"psysml:65a94b24-3d9f-4a56-873a-c3d993dcfd1a\" xlink:type=\"simple\"><path d=\"M172.83,133.68 C171.24,149.9 169.04,172.39 167.12,191.96 \" fill=\"none\" id=\"E6-&gt;E3\" style=\"stroke: #A80036; stroke-width: 1.0;\"/><polygon fill=\"#FFFFFF\" points=\"165.16,211.98,160.0533,192.3861,173.986,193.7564,165.16,211.98\" style=\"stroke: #A80036; stroke-width: 1.0;\"/><ellipse cx=\"162.6016\" cy=\"186.9092\" fill=\"#A80036\" rx=\"2\" ry=\"2\" style=\"stroke: #A80036; stroke-width: 1.0;\"/><ellipse cx=\"172.5535\" cy=\"187.888\" fill=\"#A80036\" rx=\"2\" ry=\"2\" style=\"stroke: #A80036; stroke-width: 1.0;\"/></a><!--MD5=[6126a4458579a2fd3884b0173d5bf831]\n",
       "@startuml\r\n",
       " \r\n",
       "package \"QualifiedNameImportTest\" as E1  [[psysml:825b0528-a754-4768-92c2-54c3479055c4 ]]  {\r\n",
       "package \"P1\" as E2  [[psysml:a3fdeae3-ca66-43fb-8ea3-ccc1fec12162 ]]  {\r\n",
       "comp def \"A\" as E3  <<(T,blue)part def>> [[psysml:383f729c-d04b-4502-922b-14a45e711088 ]] {\r\n",
       "}\r\n",
       "}\r\n",
       "package \"P2\" as E4  [[psysml:f7e915ae-81d4-47d2-8346-f23cee504381 ]]  {\r\n",
       "package \"P2a\" as E5  [[psysml:806dfed2-196c-4937-8c4a-4cb4ed2b492f ]]  {\r\n",
       "}\r\n",
       "comp usage \"x: A\" as E6  <<(T,blue)part>> [[psysml:411a4236-fb50-40bf-b31c-7cf2c008c402 ]] {\r\n",
       "}\r\n",
       "E6 - -:|> E3 [[psysml:65a94b24-3d9f-4a56-873a-c3d993dcfd1a ]] \r\n",
       "}\r\n",
       "}\r\n",
       "@enduml\r\n",
       "\n",
       "PlantUML version 1.2020.13(Sat Jun 13 12:26:38 UTC 2020)\n",
       "(EPL source distribution)\n",
       "Java Runtime: OpenJDK Runtime Environment\n",
       "JVM: OpenJDK 64-Bit Server VM\n",
       "Default Encoding: UTF-8\n",
       "Language: en\n",
       "Country: null\n",
       "--></g></svg>"
      ]
     },
     "execution_count": 3,
     "metadata": {},
     "output_type": "execute_result"
    }
   ],
   "source": [
    "%viz --style=\"COMPTREE\" --view=\"Tree\" \"QualifiedNameImportTest\""
   ]
  },
  {
   "cell_type": "code",
   "execution_count": 4,
   "id": "assumed-frontier",
   "metadata": {
    "execution": {
     "iopub.execute_input": "2021-03-25T15:09:10.430334Z",
     "iopub.status.busy": "2021-03-25T15:09:10.428494Z",
     "iopub.status.idle": "2021-03-25T15:09:11.371078Z",
     "shell.execute_reply": "2021-03-25T15:09:11.371669Z"
    }
   },
   "outputs": [
    {
     "data": {
      "image/svg+xml": [
       "<?xml version=\"1.0\" encoding=\"UTF-8\" standalone=\"no\"?><svg xmlns=\"http://www.w3.org/2000/svg\" xmlns:xlink=\"http://www.w3.org/1999/xlink\" contentScriptType=\"application/ecmascript\" contentStyleType=\"text/css\" height=\"303px\" preserveAspectRatio=\"none\" style=\"width:603px;height:303px;background:#000000;\" version=\"1.1\" viewBox=\"0 0 603 303\" width=\"603px\" zoomAndPan=\"magnify\"><defs/><g><rect fill=\"#180C07\" height=\"1\" style=\"stroke: #180C07; stroke-width: 1.0;\" width=\"1\" x=\"0\" y=\"0\"/><rect fill=\"#FFFFFF\" height=\"205.5625\" style=\"stroke: #FFFFFF; stroke-width: 1.0;\" width=\"602\" x=\"0\" y=\"0\"/><text fill=\"#000000\" font-family=\"sans-serif\" font-size=\"12\" font-weight=\"bold\" lengthAdjust=\"spacingAndGlyphs\" textLength=\"159\" x=\"5\" y=\"16.1387\">Welcome to PlantUML!</text><text fill=\"#000000\" font-family=\"sans-serif\" font-size=\"12\" lengthAdjust=\"spacingAndGlyphs\" textLength=\"0\" x=\"9\" y=\"30.1074\"/><text fill=\"#000000\" font-family=\"sans-serif\" font-size=\"12\" lengthAdjust=\"spacingAndGlyphs\" textLength=\"293\" x=\"5\" y=\"44.0762\">If you use this software, you accept its license.</text><text fill=\"#000000\" font-family=\"sans-serif\" font-size=\"12\" lengthAdjust=\"spacingAndGlyphs\" textLength=\"107\" x=\"5\" y=\"58.0449\">(details by typing</text><text fill=\"#000000\" font-family=\"monospace\" font-size=\"12\" lengthAdjust=\"spacingAndGlyphs\" textLength=\"49\" x=\"116\" y=\"58.0449\">license</text><text fill=\"#000000\" font-family=\"sans-serif\" font-size=\"12\" lengthAdjust=\"spacingAndGlyphs\" textLength=\"56\" x=\"169\" y=\"58.0449\">keyword)</text><text fill=\"#000000\" font-family=\"sans-serif\" font-size=\"12\" lengthAdjust=\"spacingAndGlyphs\" textLength=\"0\" x=\"9\" y=\"72.0137\"/><text fill=\"#000000\" font-family=\"sans-serif\" font-size=\"12\" lengthAdjust=\"spacingAndGlyphs\" textLength=\"283\" x=\"5\" y=\"85.9824\">You can start with a simple UML Diagram like:</text><text fill=\"#000000\" font-family=\"sans-serif\" font-size=\"12\" lengthAdjust=\"spacingAndGlyphs\" textLength=\"0\" x=\"9\" y=\"99.9512\"/><text fill=\"#000000\" font-family=\"monospace\" font-size=\"12\" lengthAdjust=\"spacingAndGlyphs\" textLength=\"119\" x=\"5\" y=\"113.9199\">Bob-&gt;Alice: Hello</text><text fill=\"#000000\" font-family=\"sans-serif\" font-size=\"12\" lengthAdjust=\"spacingAndGlyphs\" textLength=\"0\" x=\"9\" y=\"127.8887\"/><text fill=\"#000000\" font-family=\"sans-serif\" font-size=\"12\" lengthAdjust=\"spacingAndGlyphs\" textLength=\"14\" x=\"5\" y=\"141.8574\">Or</text><text fill=\"#000000\" font-family=\"sans-serif\" font-size=\"12\" lengthAdjust=\"spacingAndGlyphs\" textLength=\"0\" x=\"9\" y=\"155.8262\"/><text fill=\"#000000\" font-family=\"monospace\" font-size=\"12\" lengthAdjust=\"spacingAndGlyphs\" textLength=\"91\" x=\"5\" y=\"169.7949\">class Example</text><text fill=\"#000000\" font-family=\"sans-serif\" font-size=\"12\" lengthAdjust=\"spacingAndGlyphs\" textLength=\"0\" x=\"9\" y=\"183.7637\"/><text fill=\"#000000\" font-family=\"sans-serif\" font-size=\"12\" lengthAdjust=\"spacingAndGlyphs\" textLength=\"349\" x=\"5\" y=\"197.7324\">You will find more information about PlantUML syntax on</text><text fill=\"#000000\" font-family=\"sans-serif\" font-size=\"12\" lengthAdjust=\"spacingAndGlyphs\" text-decoration=\"underline\" textLength=\"129\" x=\"358\" y=\"197.7324\">https://plantuml.com</text><image height=\"71\" width=\"80\" x=\"516\" xlink:href=\"data:image/png;base64,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\" y=\"6\"/><rect fill=\"#000000\" height=\"96.4844\" style=\"stroke: #000000; stroke-width: 1.0;\" width=\"602\" x=\"0\" y=\"205.5625\"/><rect fill=\"#33FF02\" height=\"21.2969\" style=\"stroke: #33FF02; stroke-width: 1.0;\" width=\"170\" x=\"5\" y=\"210.5625\"/><text fill=\"#000000\" font-family=\"sans-serif\" font-size=\"14\" font-weight=\"bold\" lengthAdjust=\"spacingAndGlyphs\" textLength=\"168\" x=\"6\" y=\"225.5625\">[From string (line 2) ]</text><text fill=\"#33FF02\" font-family=\"sans-serif\" font-size=\"14\" font-weight=\"bold\" lengthAdjust=\"spacingAndGlyphs\" textLength=\"0\" x=\"10\" y=\"245.8594\"/><text fill=\"#33FF02\" font-family=\"sans-serif\" font-size=\"14\" font-weight=\"bold\" lengthAdjust=\"spacingAndGlyphs\" textLength=\"79\" x=\"5\" y=\"262.1563\">@startuml</text><text fill=\"#33FF02\" font-family=\"sans-serif\" font-size=\"14\" font-weight=\"bold\" lengthAdjust=\"spacingAndGlyphs\" textLength=\"0\" x=\"10\" y=\"278.4531\"/><text fill=\"#FF0000\" font-family=\"sans-serif\" font-size=\"14\" font-weight=\"bold\" lengthAdjust=\"spacingAndGlyphs\" textLength=\"142\" x=\"10\" y=\"294.75\">Empty description</text><!--MD5=[f59edd8218d337f74d0c332fc6737304]\n",
       "@startuml\r\n",
       " \r\n",
       "@enduml\r\n",
       "\n",
       "PlantUML version 1.2020.13(Sat Jun 13 12:26:38 UTC 2020)\n",
       "(EPL source distribution)\n",
       "Java Runtime: OpenJDK Runtime Environment\n",
       "JVM: OpenJDK 64-Bit Server VM\n",
       "Default Encoding: UTF-8\n",
       "Language: en\n",
       "Country: null\n",
       "--></g></svg>"
      ]
     },
     "execution_count": 4,
     "metadata": {},
     "output_type": "execute_result"
    }
   ],
   "source": [
    "%viz --style=\"COMPTREE\" --view=\"State\" \"QualifiedNameImportTest\""
   ]
  },
  {
   "cell_type": "code",
   "execution_count": 5,
   "id": "monthly-motion",
   "metadata": {
    "execution": {
     "iopub.execute_input": "2021-03-25T15:09:11.422371Z",
     "iopub.status.busy": "2021-03-25T15:09:11.421920Z",
     "iopub.status.idle": "2021-03-25T15:09:11.502747Z",
     "shell.execute_reply": "2021-03-25T15:09:11.502444Z"
    }
   },
   "outputs": [
    {
     "data": {
      "image/svg+xml": [
       "<?xml version=\"1.0\" encoding=\"UTF-8\" standalone=\"no\"?><svg xmlns=\"http://www.w3.org/2000/svg\" xmlns:xlink=\"http://www.w3.org/1999/xlink\" contentScriptType=\"application/ecmascript\" contentStyleType=\"text/css\" height=\"189px\" preserveAspectRatio=\"none\" style=\"width:414px;height:189px;\" version=\"1.1\" viewBox=\"0 0 414 189\" width=\"414px\" zoomAndPan=\"magnify\"><defs><filter height=\"300%\" id=\"fm4f0wxpdmmmu\" width=\"300%\" x=\"-1\" y=\"-1\"><feGaussianBlur result=\"blurOut\" stdDeviation=\"2.0\"/><feColorMatrix in=\"blurOut\" result=\"blurOut2\" type=\"matrix\" values=\"0 0 0 0 0 0 0 0 0 0 0 0 0 0 0 0 0 0 .4 0\"/><feOffset dx=\"4.0\" dy=\"4.0\" in=\"blurOut2\" result=\"blurOut3\"/><feBlend in=\"SourceGraphic\" in2=\"blurOut3\" mode=\"normal\"/></filter></defs><g><!--MD5=[fbc87193dbaf4d95561dea2c320d4a47]\n",
       "cluster E1--><a href=\"psysml:825b0528-a754-4768-92c2-54c3479055c4\" target=\"_top\" title=\"psysml:825b0528-a754-4768-92c2-54c3479055c4\" xlink:actuate=\"onRequest\" xlink:href=\"psysml:825b0528-a754-4768-92c2-54c3479055c4\" xlink:show=\"new\" xlink:title=\"psysml:825b0528-a754-4768-92c2-54c3479055c4\" xlink:type=\"simple\"><polygon fill=\"#FFFFFF\" filter=\"url(#fm4f0wxpdmmmu)\" points=\"16,6,221,6,228,28.2969,392,28.2969,392,177,16,177,16,6\" style=\"stroke: #000000; stroke-width: 1.5;\"/><line style=\"stroke: #000000; stroke-width: 1.5;\" x1=\"16\" x2=\"228\" y1=\"28.2969\" y2=\"28.2969\"/><text fill=\"#000000\" font-family=\"sans-serif\" font-size=\"14\" font-weight=\"bold\" lengthAdjust=\"spacingAndGlyphs\" textLength=\"199\" x=\"20\" y=\"20.9951\">QualifiedNameImportTest</text></a><!--MD5=[e4f7fae6ed58524ba242bb0b0d3be6b7]\n",
       "cluster E2--><a href=\"psysml:a3fdeae3-ca66-43fb-8ea3-ccc1fec12162\" target=\"_top\" title=\"psysml:a3fdeae3-ca66-43fb-8ea3-ccc1fec12162\" xlink:actuate=\"onRequest\" xlink:href=\"psysml:a3fdeae3-ca66-43fb-8ea3-ccc1fec12162\" xlink:show=\"new\" xlink:title=\"psysml:a3fdeae3-ca66-43fb-8ea3-ccc1fec12162\" xlink:type=\"simple\"><polygon fill=\"#FFFFFF\" filter=\"url(#fm4f0wxpdmmmu)\" points=\"240,54,266,54,273,76.2969,368,76.2969,368,148,240,148,240,54\" style=\"stroke: #000000; stroke-width: 1.5;\"/><line style=\"stroke: #000000; stroke-width: 1.5;\" x1=\"240\" x2=\"273\" y1=\"76.2969\" y2=\"76.2969\"/><text fill=\"#000000\" font-family=\"sans-serif\" font-size=\"14\" font-weight=\"bold\" lengthAdjust=\"spacingAndGlyphs\" textLength=\"20\" x=\"244\" y=\"68.9951\">P1</text></a><!--MD5=[f6df4d0ebaf0b5dfb2ced0ae5af7c670]\n",
       "cluster E4--><a href=\"psysml:f7e915ae-81d4-47d2-8346-f23cee504381\" target=\"_top\" title=\"psysml:f7e915ae-81d4-47d2-8346-f23cee504381\" xlink:actuate=\"onRequest\" xlink:href=\"psysml:f7e915ae-81d4-47d2-8346-f23cee504381\" xlink:show=\"new\" xlink:title=\"psysml:f7e915ae-81d4-47d2-8346-f23cee504381\" xlink:type=\"simple\"><polygon fill=\"#FFFFFF\" filter=\"url(#fm4f0wxpdmmmu)\" points=\"40,49,66,49,73,71.2969,216,71.2969,216,153,40,153,40,49\" style=\"stroke: #000000; stroke-width: 1.5;\"/><line style=\"stroke: #000000; stroke-width: 1.5;\" x1=\"40\" x2=\"73\" y1=\"71.2969\" y2=\"71.2969\"/><text fill=\"#000000\" font-family=\"sans-serif\" font-size=\"14\" font-weight=\"bold\" lengthAdjust=\"spacingAndGlyphs\" textLength=\"20\" x=\"44\" y=\"63.9951\">P2</text></a><g id=\"E1.E2.E3\"><a href=\"psysml:383f729c-d04b-4502-922b-14a45e711088\" target=\"_top\" title=\"psysml:383f729c-d04b-4502-922b-14a45e711088\" xlink:actuate=\"onRequest\" xlink:href=\"psysml:383f729c-d04b-4502-922b-14a45e711088\" xlink:show=\"new\" xlink:title=\"psysml:383f729c-d04b-4502-922b-14a45e711088\" xlink:type=\"simple\"><rect fill=\"#FEFECE\" filter=\"url(#fm4f0wxpdmmmu)\" height=\"42.9375\" id=\"E3\" style=\"stroke: #A80036; stroke-width: 1.5;\" width=\"97\" x=\"255.5\" y=\"89\"/><ellipse cx=\"272.75\" cy=\"107.9688\" fill=\"#0000FF\" rx=\"11\" ry=\"11\" style=\"stroke: #A80036; stroke-width: 1.0;\"/><path d=\"M273.5938,114.7188 L271.1406,114.7188 L271.1406,104.4688 L268,104.4688 L268,102.3281 L276.7344,102.3281 L276.7344,104.4688 L273.5938,104.4688 L273.5938,114.7188 Z \"/><text fill=\"#000000\" font-family=\"sans-serif\" font-size=\"12\" font-style=\"italic\" lengthAdjust=\"spacingAndGlyphs\" textLength=\"64\" x=\"285.25\" y=\"105.1387\">«part def»</text><text fill=\"#000000\" font-family=\"sans-serif\" font-size=\"12\" lengthAdjust=\"spacingAndGlyphs\" textLength=\"8\" x=\"313.25\" y=\"119.1074\">A</text></a></g><a href=\"psysml:806dfed2-196c-4937-8c4a-4cb4ed2b492f\" target=\"_top\" title=\"psysml:806dfed2-196c-4937-8c4a-4cb4ed2b492f\" xlink:actuate=\"onRequest\" xlink:href=\"psysml:806dfed2-196c-4937-8c4a-4cb4ed2b492f\" xlink:show=\"new\" xlink:title=\"psysml:806dfed2-196c-4937-8c4a-4cb4ed2b492f\" xlink:type=\"simple\"><polygon fill=\"#FFFFFF\" filter=\"url(#fm4f0wxpdmmmu)\" points=\"150.5,84,185.5,84,192.5,106.2969,199.5,106.2969,199.5,136.5938,150.5,136.5938,150.5,84\" style=\"stroke: #000000; stroke-width: 1.5;\"/><line style=\"stroke: #000000; stroke-width: 1.5;\" x1=\"150.5\" x2=\"192.5\" y1=\"106.2969\" y2=\"106.2969\"/><text fill=\"#000000\" font-family=\"sans-serif\" font-size=\"14\" font-weight=\"bold\" lengthAdjust=\"spacingAndGlyphs\" textLength=\"29\" x=\"154.5\" y=\"98.9951\">P2a</text></a><g id=\"E1.E4.E6\"><a href=\"psysml:411a4236-fb50-40bf-b31c-7cf2c008c402\" target=\"_top\" title=\"psysml:411a4236-fb50-40bf-b31c-7cf2c008c402\" xlink:actuate=\"onRequest\" xlink:href=\"psysml:411a4236-fb50-40bf-b31c-7cf2c008c402\" xlink:show=\"new\" xlink:title=\"psysml:411a4236-fb50-40bf-b31c-7cf2c008c402\" xlink:type=\"simple\"><rect fill=\"#FEFECE\" filter=\"url(#fm4f0wxpdmmmu)\" height=\"40\" id=\"E6\" rx=\"10\" ry=\"10\" style=\"stroke: #A80036; stroke-width: 1.5;\" width=\"59\" x=\"56.5\" y=\"90.5\"/><ellipse cx=\"73.75\" cy=\"106.5\" fill=\"#B6DBBB\" rx=\"11\" ry=\"11\" style=\"stroke: #A80036; stroke-width: 1.0;\"/><path d=\"M69.625,108.4219 L69.625,100.6094 L72.0781,100.6094 L72.0781,109.0469 Q72.0781,109.9688 72.5469,110.5 Q73.0313,111.0313 73.8594,111.0313 Q74.7031,111.0313 75.1719,110.5 Q75.6406,109.9688 75.6406,109.0469 L75.6406,100.6094 L78.0938,100.6094 L78.0938,108.4219 Q78.0938,110.9531 77.0938,112.0938 Q76.0938,113.2344 73.8594,113.2344 Q71.6406,113.2344 70.625,112.0938 Q69.625,110.9531 69.625,108.4219 Z \"/><text fill=\"#000000\" font-family=\"sans-serif\" font-size=\"12\" lengthAdjust=\"spacingAndGlyphs\" textLength=\"22\" x=\"88.25\" y=\"110.6543\">x: A</text></a></g><!--MD5=[90c488b7b4d2287453471f502cffd120]\n",
       "@startuml\r\n",
       "skinparam ranksep 8\r\n",
       "skinparam rectangle {\r\n",
       " backgroundColor<<block>> LightGreen\r\n",
       "}\r\n",
       " \r\n",
       "package \"QualifiedNameImportTest\" as E1  [[psysml:825b0528-a754-4768-92c2-54c3479055c4 ]]  {\r\n",
       "package \"P1\" as E2  [[psysml:a3fdeae3-ca66-43fb-8ea3-ccc1fec12162 ]]  {\r\n",
       "rec def \"A\" as E3  <<(T,blue)part def>> [[psysml:383f729c-d04b-4502-922b-14a45e711088 ]] {\r\n",
       "}\r\n",
       "}\r\n",
       "package \"P2\" as E4  [[psysml:f7e915ae-81d4-47d2-8346-f23cee504381 ]]  {\r\n",
       "package \"P2a\" as E5  [[psysml:806dfed2-196c-4937-8c4a-4cb4ed2b492f ]]  {\r\n",
       "}\r\n",
       "rec usage \"x: A\" as E6  [[psysml:411a4236-fb50-40bf-b31c-7cf2c008c402 ]] {\r\n",
       "}\r\n",
       "}\r\n",
       "}\r\n",
       "@enduml\r\n",
       "\n",
       "PlantUML version 1.2020.13(Sat Jun 13 12:26:38 UTC 2020)\n",
       "(EPL source distribution)\n",
       "Java Runtime: OpenJDK Runtime Environment\n",
       "JVM: OpenJDK 64-Bit Server VM\n",
       "Default Encoding: UTF-8\n",
       "Language: en\n",
       "Country: null\n",
       "--></g></svg>"
      ]
     },
     "execution_count": 5,
     "metadata": {},
     "output_type": "execute_result"
    }
   ],
   "source": [
    "%viz --style=\"COMPTREE\" --view=\"Interconnection\" \"QualifiedNameImportTest\""
   ]
  },
  {
   "cell_type": "code",
   "execution_count": 6,
   "id": "democratic-intensity",
   "metadata": {
    "execution": {
     "iopub.execute_input": "2021-03-25T15:09:11.556941Z",
     "iopub.status.busy": "2021-03-25T15:09:11.556377Z",
     "iopub.status.idle": "2021-03-25T15:09:11.566031Z",
     "shell.execute_reply": "2021-03-25T15:09:11.565655Z"
    }
   },
   "outputs": [
    {
     "data": {
      "image/svg+xml": [
       "<?xml version=\"1.0\" encoding=\"UTF-8\" standalone=\"no\"?><svg xmlns=\"http://www.w3.org/2000/svg\" xmlns:xlink=\"http://www.w3.org/1999/xlink\" contentScriptType=\"application/ecmascript\" contentStyleType=\"text/css\" height=\"12px\" preserveAspectRatio=\"none\" style=\"width:12px;height:12px;\" version=\"1.1\" viewBox=\"0 0 12 12\" width=\"12px\" zoomAndPan=\"magnify\"><defs/><g><!--MD5=[6a4cb978cab31700e1ce5529f947a75d]\n",
       "@startuml\r\n",
       "skinparam ranksep 8\r\n",
       " \r\n",
       "@enduml\r\n",
       "\n",
       "PlantUML version 1.2020.13(Sat Jun 13 12:26:38 UTC 2020)\n",
       "(EPL source distribution)\n",
       "Java Runtime: OpenJDK Runtime Environment\n",
       "JVM: OpenJDK 64-Bit Server VM\n",
       "Default Encoding: UTF-8\n",
       "Language: en\n",
       "Country: null\n",
       "--></g></svg>"
      ]
     },
     "execution_count": 6,
     "metadata": {},
     "output_type": "execute_result"
    }
   ],
   "source": [
    "%viz --style=\"COMPTREE\" --view=\"Action\" \"QualifiedNameImportTest\""
   ]
  },
  {
   "cell_type": "code",
   "execution_count": 7,
   "id": "varied-magnitude",
   "metadata": {
    "execution": {
     "iopub.execute_input": "2021-03-25T15:09:11.618293Z",
     "iopub.status.busy": "2021-03-25T15:09:11.617694Z",
     "iopub.status.idle": "2021-03-25T15:09:11.687044Z",
     "shell.execute_reply": "2021-03-25T15:09:11.687418Z"
    }
   },
   "outputs": [
    {
     "data": {
      "image/svg+xml": [
       "<?xml version=\"1.0\" encoding=\"UTF-8\" standalone=\"no\"?><svg xmlns=\"http://www.w3.org/2000/svg\" xmlns:xlink=\"http://www.w3.org/1999/xlink\" contentScriptType=\"application/ecmascript\" contentStyleType=\"text/css\" height=\"310px\" preserveAspectRatio=\"none\" style=\"width:271px;height:310px;\" version=\"1.1\" viewBox=\"0 0 271 310\" width=\"271px\" zoomAndPan=\"magnify\"><defs><filter height=\"300%\" id=\"fkbd2wpw65nu6\" width=\"300%\" x=\"-1\" y=\"-1\"><feGaussianBlur result=\"blurOut\" stdDeviation=\"2.0\"/><feColorMatrix in=\"blurOut\" result=\"blurOut2\" type=\"matrix\" values=\"0 0 0 0 0 0 0 0 0 0 0 0 0 0 0 0 0 0 .4 0\"/><feOffset dx=\"4.0\" dy=\"4.0\" in=\"blurOut2\" result=\"blurOut3\"/><feBlend in=\"SourceGraphic\" in2=\"blurOut3\" mode=\"normal\"/></filter></defs><g><!--MD5=[fbc87193dbaf4d95561dea2c320d4a47]\n",
       "cluster E1--><a href=\"psysml:825b0528-a754-4768-92c2-54c3479055c4\" target=\"_top\" title=\"psysml:825b0528-a754-4768-92c2-54c3479055c4\" xlink:actuate=\"onRequest\" xlink:href=\"psysml:825b0528-a754-4768-92c2-54c3479055c4\" xlink:show=\"new\" xlink:title=\"psysml:825b0528-a754-4768-92c2-54c3479055c4\" xlink:type=\"simple\"><polygon fill=\"#FFFFFF\" filter=\"url(#fkbd2wpw65nu6)\" points=\"16,6,221,6,228,28.2969,249,28.2969,249,298,16,298,16,6\" style=\"stroke: #000000; stroke-width: 1.5;\"/><line style=\"stroke: #000000; stroke-width: 1.5;\" x1=\"16\" x2=\"228\" y1=\"28.2969\" y2=\"28.2969\"/><text fill=\"#000000\" font-family=\"sans-serif\" font-size=\"14\" font-weight=\"bold\" lengthAdjust=\"spacingAndGlyphs\" textLength=\"199\" x=\"20\" y=\"20.9951\">QualifiedNameImportTest</text></a><!--MD5=[e4f7fae6ed58524ba242bb0b0d3be6b7]\n",
       "cluster E2--><a href=\"psysml:a3fdeae3-ca66-43fb-8ea3-ccc1fec12162\" target=\"_top\" title=\"psysml:a3fdeae3-ca66-43fb-8ea3-ccc1fec12162\" xlink:actuate=\"onRequest\" xlink:href=\"psysml:a3fdeae3-ca66-43fb-8ea3-ccc1fec12162\" xlink:show=\"new\" xlink:title=\"psysml:a3fdeae3-ca66-43fb-8ea3-ccc1fec12162\" xlink:type=\"simple\"><polygon fill=\"#FFFFFF\" filter=\"url(#fkbd2wpw65nu6)\" points=\"101,177,127,177,134,199.2969,225,199.2969,225,274,101,274,101,177\" style=\"stroke: #000000; stroke-width: 1.5;\"/><line style=\"stroke: #000000; stroke-width: 1.5;\" x1=\"101\" x2=\"134\" y1=\"199.2969\" y2=\"199.2969\"/><text fill=\"#000000\" font-family=\"sans-serif\" font-size=\"14\" font-weight=\"bold\" lengthAdjust=\"spacingAndGlyphs\" textLength=\"20\" x=\"105\" y=\"191.9951\">P1</text></a><!--MD5=[f6df4d0ebaf0b5dfb2ced0ae5af7c670]\n",
       "cluster E4--><a href=\"psysml:f7e915ae-81d4-47d2-8346-f23cee504381\" target=\"_top\" title=\"psysml:f7e915ae-81d4-47d2-8346-f23cee504381\" xlink:actuate=\"onRequest\" xlink:href=\"psysml:f7e915ae-81d4-47d2-8346-f23cee504381\" xlink:show=\"new\" xlink:title=\"psysml:f7e915ae-81d4-47d2-8346-f23cee504381\" xlink:type=\"simple\"><polygon fill=\"#FFFFFF\" filter=\"url(#fkbd2wpw65nu6)\" points=\"40,49,66,49,73,71.2969,225,71.2969,225,153,40,153,40,49\" style=\"stroke: #000000; stroke-width: 1.5;\"/><line style=\"stroke: #000000; stroke-width: 1.5;\" x1=\"40\" x2=\"73\" y1=\"71.2969\" y2=\"71.2969\"/><text fill=\"#000000\" font-family=\"sans-serif\" font-size=\"14\" font-weight=\"bold\" lengthAdjust=\"spacingAndGlyphs\" textLength=\"20\" x=\"44\" y=\"63.9951\">P2</text></a><!--MD5=[09b614a08d8cba4a07c9adeb5e0fee81]\n",
       "class E3--><a href=\"psysml:383f729c-d04b-4502-922b-14a45e711088\" target=\"_top\" title=\"psysml:383f729c-d04b-4502-922b-14a45e711088\" xlink:actuate=\"onRequest\" xlink:href=\"psysml:383f729c-d04b-4502-922b-14a45e711088\" xlink:show=\"new\" xlink:title=\"psysml:383f729c-d04b-4502-922b-14a45e711088\" xlink:type=\"simple\"><rect fill=\"#FEFECE\" filter=\"url(#fkbd2wpw65nu6)\" height=\"45.9375\" id=\"E3\" style=\"stroke: #A80036; stroke-width: 1.5;\" width=\"92\" x=\"117\" y=\"212\"/><ellipse cx=\"132\" cy=\"230.9688\" fill=\"#0000FF\" rx=\"11\" ry=\"11\" style=\"stroke: #A80036; stroke-width: 1.0;\"/><path d=\"M132.8438,237.7188 L130.3906,237.7188 L130.3906,227.4688 L127.25,227.4688 L127.25,225.3281 L135.9844,225.3281 L135.9844,227.4688 L132.8438,227.4688 L132.8438,237.7188 Z \"/><text fill=\"#000000\" font-family=\"sans-serif\" font-size=\"12\" font-style=\"italic\" lengthAdjust=\"spacingAndGlyphs\" textLength=\"64\" x=\"144\" y=\"228.1387\">«part def»</text><text fill=\"#000000\" font-family=\"sans-serif\" font-size=\"12\" lengthAdjust=\"spacingAndGlyphs\" textLength=\"8\" x=\"172\" y=\"242.1074\">A</text><line style=\"stroke: #A80036; stroke-width: 1.5;\" x1=\"118\" x2=\"208\" y1=\"249.9375\" y2=\"249.9375\"/></a><!--MD5=[60a26617385b1d2d0262a64233df1f8d]\n",
       "class E6--><a href=\"psysml:411a4236-fb50-40bf-b31c-7cf2c008c402\" target=\"_top\" title=\"psysml:411a4236-fb50-40bf-b31c-7cf2c008c402\" xlink:actuate=\"onRequest\" xlink:href=\"psysml:411a4236-fb50-40bf-b31c-7cf2c008c402\" xlink:show=\"new\" xlink:title=\"psysml:411a4236-fb50-40bf-b31c-7cf2c008c402\" xlink:type=\"simple\"><rect fill=\"#FEFECE\" filter=\"url(#fkbd2wpw65nu6)\" height=\"45.9375\" id=\"E6\" rx=\"10\" ry=\"10\" style=\"stroke: #A80036; stroke-width: 1.5;\" width=\"68\" x=\"141\" y=\"87.5\"/><ellipse cx=\"156\" cy=\"106.4688\" fill=\"#0000FF\" rx=\"11\" ry=\"11\" style=\"stroke: #A80036; stroke-width: 1.0;\"/><path d=\"M156.8438,113.2188 L154.3906,113.2188 L154.3906,102.9688 L151.25,102.9688 L151.25,100.8281 L159.9844,100.8281 L159.9844,102.9688 L156.8438,102.9688 L156.8438,113.2188 Z \"/><text fill=\"#000000\" font-family=\"sans-serif\" font-size=\"12\" font-style=\"italic\" lengthAdjust=\"spacingAndGlyphs\" textLength=\"40\" x=\"168\" y=\"103.6387\">«part»</text><text fill=\"#000000\" font-family=\"sans-serif\" font-size=\"12\" lengthAdjust=\"spacingAndGlyphs\" textLength=\"22\" x=\"177\" y=\"117.6074\">x: A</text><line style=\"stroke: #A80036; stroke-width: 1.5;\" x1=\"142\" x2=\"208\" y1=\"125.4375\" y2=\"125.4375\"/></a><a href=\"psysml:806dfed2-196c-4937-8c4a-4cb4ed2b492f\" target=\"_top\" title=\"psysml:806dfed2-196c-4937-8c4a-4cb4ed2b492f\" xlink:actuate=\"onRequest\" xlink:href=\"psysml:806dfed2-196c-4937-8c4a-4cb4ed2b492f\" xlink:show=\"new\" xlink:title=\"psysml:806dfed2-196c-4937-8c4a-4cb4ed2b492f\" xlink:type=\"simple\"><polygon fill=\"#FFFFFF\" filter=\"url(#fkbd2wpw65nu6)\" points=\"56.5,84,91.5,84,98.5,106.2969,105.5,106.2969,105.5,136.5938,56.5,136.5938,56.5,84\" style=\"stroke: #000000; stroke-width: 1.5;\"/><line style=\"stroke: #000000; stroke-width: 1.5;\" x1=\"56.5\" x2=\"98.5\" y1=\"106.2969\" y2=\"106.2969\"/><text fill=\"#000000\" font-family=\"sans-serif\" font-size=\"14\" font-weight=\"bold\" lengthAdjust=\"spacingAndGlyphs\" textLength=\"29\" x=\"60.5\" y=\"98.9951\">P2a</text></a><!--MD5=[a717450b82c80b9240a525fa862496af]\n",
       "link E6 to E3--><a href=\"psysml:65a94b24-3d9f-4a56-873a-c3d993dcfd1a\" target=\"_top\" title=\"psysml:65a94b24-3d9f-4a56-873a-c3d993dcfd1a\" xlink:actuate=\"onRequest\" xlink:href=\"psysml:65a94b24-3d9f-4a56-873a-c3d993dcfd1a\" xlink:show=\"new\" xlink:title=\"psysml:65a94b24-3d9f-4a56-873a-c3d993dcfd1a\" xlink:type=\"simple\"><path d=\"M172.83,133.68 C171.24,149.9 169.04,172.39 167.12,191.96 \" fill=\"none\" id=\"E6-&gt;E3\" style=\"stroke: #A80036; stroke-width: 1.0;\"/><polygon fill=\"#FFFFFF\" points=\"165.16,211.98,160.0533,192.3861,173.986,193.7564,165.16,211.98\" style=\"stroke: #A80036; stroke-width: 1.0;\"/><ellipse cx=\"162.6016\" cy=\"186.9092\" fill=\"#A80036\" rx=\"2\" ry=\"2\" style=\"stroke: #A80036; stroke-width: 1.0;\"/><ellipse cx=\"172.5535\" cy=\"187.888\" fill=\"#A80036\" rx=\"2\" ry=\"2\" style=\"stroke: #A80036; stroke-width: 1.0;\"/></a><!--MD5=[6126a4458579a2fd3884b0173d5bf831]\n",
       "@startuml\r\n",
       " \r\n",
       "package \"QualifiedNameImportTest\" as E1  [[psysml:825b0528-a754-4768-92c2-54c3479055c4 ]]  {\r\n",
       "package \"P1\" as E2  [[psysml:a3fdeae3-ca66-43fb-8ea3-ccc1fec12162 ]]  {\r\n",
       "comp def \"A\" as E3  <<(T,blue)part def>> [[psysml:383f729c-d04b-4502-922b-14a45e711088 ]] {\r\n",
       "}\r\n",
       "}\r\n",
       "package \"P2\" as E4  [[psysml:f7e915ae-81d4-47d2-8346-f23cee504381 ]]  {\r\n",
       "package \"P2a\" as E5  [[psysml:806dfed2-196c-4937-8c4a-4cb4ed2b492f ]]  {\r\n",
       "}\r\n",
       "comp usage \"x: A\" as E6  <<(T,blue)part>> [[psysml:411a4236-fb50-40bf-b31c-7cf2c008c402 ]] {\r\n",
       "}\r\n",
       "E6 - -:|> E3 [[psysml:65a94b24-3d9f-4a56-873a-c3d993dcfd1a ]] \r\n",
       "}\r\n",
       "}\r\n",
       "@enduml\r\n",
       "\n",
       "PlantUML version 1.2020.13(Sat Jun 13 12:26:38 UTC 2020)\n",
       "(EPL source distribution)\n",
       "Java Runtime: OpenJDK Runtime Environment\n",
       "JVM: OpenJDK 64-Bit Server VM\n",
       "Default Encoding: UTF-8\n",
       "Language: en\n",
       "Country: null\n",
       "--></g></svg>"
      ]
     },
     "execution_count": 7,
     "metadata": {},
     "output_type": "execute_result"
    }
   ],
   "source": [
    "%viz --style=\"COMPTREE\" --view=\"Sequence\" \"QualifiedNameImportTest\""
   ]
  },
  {
   "cell_type": "code",
   "execution_count": 8,
   "id": "arabic-venue",
   "metadata": {
    "execution": {
     "iopub.execute_input": "2021-03-25T15:09:11.739711Z",
     "iopub.status.busy": "2021-03-25T15:09:11.738745Z",
     "iopub.status.idle": "2021-03-25T15:09:11.805939Z",
     "shell.execute_reply": "2021-03-25T15:09:11.806304Z"
    }
   },
   "outputs": [
    {
     "data": {
      "image/svg+xml": [
       "<?xml version=\"1.0\" encoding=\"UTF-8\" standalone=\"no\"?><svg xmlns=\"http://www.w3.org/2000/svg\" xmlns:xlink=\"http://www.w3.org/1999/xlink\" contentScriptType=\"application/ecmascript\" contentStyleType=\"text/css\" height=\"310px\" preserveAspectRatio=\"none\" style=\"width:271px;height:310px;\" version=\"1.1\" viewBox=\"0 0 271 310\" width=\"271px\" zoomAndPan=\"magnify\"><defs><filter height=\"300%\" id=\"fkbd2wpw65nu6\" width=\"300%\" x=\"-1\" y=\"-1\"><feGaussianBlur result=\"blurOut\" stdDeviation=\"2.0\"/><feColorMatrix in=\"blurOut\" result=\"blurOut2\" type=\"matrix\" values=\"0 0 0 0 0 0 0 0 0 0 0 0 0 0 0 0 0 0 .4 0\"/><feOffset dx=\"4.0\" dy=\"4.0\" in=\"blurOut2\" result=\"blurOut3\"/><feBlend in=\"SourceGraphic\" in2=\"blurOut3\" mode=\"normal\"/></filter></defs><g><!--MD5=[fbc87193dbaf4d95561dea2c320d4a47]\n",
       "cluster E1--><a href=\"psysml:825b0528-a754-4768-92c2-54c3479055c4\" target=\"_top\" title=\"psysml:825b0528-a754-4768-92c2-54c3479055c4\" xlink:actuate=\"onRequest\" xlink:href=\"psysml:825b0528-a754-4768-92c2-54c3479055c4\" xlink:show=\"new\" xlink:title=\"psysml:825b0528-a754-4768-92c2-54c3479055c4\" xlink:type=\"simple\"><polygon fill=\"#FFFFFF\" filter=\"url(#fkbd2wpw65nu6)\" points=\"16,6,221,6,228,28.2969,249,28.2969,249,298,16,298,16,6\" style=\"stroke: #000000; stroke-width: 1.5;\"/><line style=\"stroke: #000000; stroke-width: 1.5;\" x1=\"16\" x2=\"228\" y1=\"28.2969\" y2=\"28.2969\"/><text fill=\"#000000\" font-family=\"sans-serif\" font-size=\"14\" font-weight=\"bold\" lengthAdjust=\"spacingAndGlyphs\" textLength=\"199\" x=\"20\" y=\"20.9951\">QualifiedNameImportTest</text></a><!--MD5=[e4f7fae6ed58524ba242bb0b0d3be6b7]\n",
       "cluster E2--><a href=\"psysml:a3fdeae3-ca66-43fb-8ea3-ccc1fec12162\" target=\"_top\" title=\"psysml:a3fdeae3-ca66-43fb-8ea3-ccc1fec12162\" xlink:actuate=\"onRequest\" xlink:href=\"psysml:a3fdeae3-ca66-43fb-8ea3-ccc1fec12162\" xlink:show=\"new\" xlink:title=\"psysml:a3fdeae3-ca66-43fb-8ea3-ccc1fec12162\" xlink:type=\"simple\"><polygon fill=\"#FFFFFF\" filter=\"url(#fkbd2wpw65nu6)\" points=\"101,177,127,177,134,199.2969,225,199.2969,225,274,101,274,101,177\" style=\"stroke: #000000; stroke-width: 1.5;\"/><line style=\"stroke: #000000; stroke-width: 1.5;\" x1=\"101\" x2=\"134\" y1=\"199.2969\" y2=\"199.2969\"/><text fill=\"#000000\" font-family=\"sans-serif\" font-size=\"14\" font-weight=\"bold\" lengthAdjust=\"spacingAndGlyphs\" textLength=\"20\" x=\"105\" y=\"191.9951\">P1</text></a><!--MD5=[f6df4d0ebaf0b5dfb2ced0ae5af7c670]\n",
       "cluster E4--><a href=\"psysml:f7e915ae-81d4-47d2-8346-f23cee504381\" target=\"_top\" title=\"psysml:f7e915ae-81d4-47d2-8346-f23cee504381\" xlink:actuate=\"onRequest\" xlink:href=\"psysml:f7e915ae-81d4-47d2-8346-f23cee504381\" xlink:show=\"new\" xlink:title=\"psysml:f7e915ae-81d4-47d2-8346-f23cee504381\" xlink:type=\"simple\"><polygon fill=\"#FFFFFF\" filter=\"url(#fkbd2wpw65nu6)\" points=\"40,49,66,49,73,71.2969,225,71.2969,225,153,40,153,40,49\" style=\"stroke: #000000; stroke-width: 1.5;\"/><line style=\"stroke: #000000; stroke-width: 1.5;\" x1=\"40\" x2=\"73\" y1=\"71.2969\" y2=\"71.2969\"/><text fill=\"#000000\" font-family=\"sans-serif\" font-size=\"14\" font-weight=\"bold\" lengthAdjust=\"spacingAndGlyphs\" textLength=\"20\" x=\"44\" y=\"63.9951\">P2</text></a><!--MD5=[09b614a08d8cba4a07c9adeb5e0fee81]\n",
       "class E3--><a href=\"psysml:383f729c-d04b-4502-922b-14a45e711088\" target=\"_top\" title=\"psysml:383f729c-d04b-4502-922b-14a45e711088\" xlink:actuate=\"onRequest\" xlink:href=\"psysml:383f729c-d04b-4502-922b-14a45e711088\" xlink:show=\"new\" xlink:title=\"psysml:383f729c-d04b-4502-922b-14a45e711088\" xlink:type=\"simple\"><rect fill=\"#FEFECE\" filter=\"url(#fkbd2wpw65nu6)\" height=\"45.9375\" id=\"E3\" style=\"stroke: #A80036; stroke-width: 1.5;\" width=\"92\" x=\"117\" y=\"212\"/><ellipse cx=\"132\" cy=\"230.9688\" fill=\"#0000FF\" rx=\"11\" ry=\"11\" style=\"stroke: #A80036; stroke-width: 1.0;\"/><path d=\"M132.8438,237.7188 L130.3906,237.7188 L130.3906,227.4688 L127.25,227.4688 L127.25,225.3281 L135.9844,225.3281 L135.9844,227.4688 L132.8438,227.4688 L132.8438,237.7188 Z \"/><text fill=\"#000000\" font-family=\"sans-serif\" font-size=\"12\" font-style=\"italic\" lengthAdjust=\"spacingAndGlyphs\" textLength=\"64\" x=\"144\" y=\"228.1387\">«part def»</text><text fill=\"#000000\" font-family=\"sans-serif\" font-size=\"12\" lengthAdjust=\"spacingAndGlyphs\" textLength=\"8\" x=\"172\" y=\"242.1074\">A</text><line style=\"stroke: #A80036; stroke-width: 1.5;\" x1=\"118\" x2=\"208\" y1=\"249.9375\" y2=\"249.9375\"/></a><!--MD5=[60a26617385b1d2d0262a64233df1f8d]\n",
       "class E6--><a href=\"psysml:411a4236-fb50-40bf-b31c-7cf2c008c402\" target=\"_top\" title=\"psysml:411a4236-fb50-40bf-b31c-7cf2c008c402\" xlink:actuate=\"onRequest\" xlink:href=\"psysml:411a4236-fb50-40bf-b31c-7cf2c008c402\" xlink:show=\"new\" xlink:title=\"psysml:411a4236-fb50-40bf-b31c-7cf2c008c402\" xlink:type=\"simple\"><rect fill=\"#FEFECE\" filter=\"url(#fkbd2wpw65nu6)\" height=\"45.9375\" id=\"E6\" rx=\"10\" ry=\"10\" style=\"stroke: #A80036; stroke-width: 1.5;\" width=\"68\" x=\"141\" y=\"87.5\"/><ellipse cx=\"156\" cy=\"106.4688\" fill=\"#0000FF\" rx=\"11\" ry=\"11\" style=\"stroke: #A80036; stroke-width: 1.0;\"/><path d=\"M156.8438,113.2188 L154.3906,113.2188 L154.3906,102.9688 L151.25,102.9688 L151.25,100.8281 L159.9844,100.8281 L159.9844,102.9688 L156.8438,102.9688 L156.8438,113.2188 Z \"/><text fill=\"#000000\" font-family=\"sans-serif\" font-size=\"12\" font-style=\"italic\" lengthAdjust=\"spacingAndGlyphs\" textLength=\"40\" x=\"168\" y=\"103.6387\">«part»</text><text fill=\"#000000\" font-family=\"sans-serif\" font-size=\"12\" lengthAdjust=\"spacingAndGlyphs\" textLength=\"22\" x=\"177\" y=\"117.6074\">x: A</text><line style=\"stroke: #A80036; stroke-width: 1.5;\" x1=\"142\" x2=\"208\" y1=\"125.4375\" y2=\"125.4375\"/></a><a href=\"psysml:806dfed2-196c-4937-8c4a-4cb4ed2b492f\" target=\"_top\" title=\"psysml:806dfed2-196c-4937-8c4a-4cb4ed2b492f\" xlink:actuate=\"onRequest\" xlink:href=\"psysml:806dfed2-196c-4937-8c4a-4cb4ed2b492f\" xlink:show=\"new\" xlink:title=\"psysml:806dfed2-196c-4937-8c4a-4cb4ed2b492f\" xlink:type=\"simple\"><polygon fill=\"#FFFFFF\" filter=\"url(#fkbd2wpw65nu6)\" points=\"56.5,84,91.5,84,98.5,106.2969,105.5,106.2969,105.5,136.5938,56.5,136.5938,56.5,84\" style=\"stroke: #000000; stroke-width: 1.5;\"/><line style=\"stroke: #000000; stroke-width: 1.5;\" x1=\"56.5\" x2=\"98.5\" y1=\"106.2969\" y2=\"106.2969\"/><text fill=\"#000000\" font-family=\"sans-serif\" font-size=\"14\" font-weight=\"bold\" lengthAdjust=\"spacingAndGlyphs\" textLength=\"29\" x=\"60.5\" y=\"98.9951\">P2a</text></a><!--MD5=[a717450b82c80b9240a525fa862496af]\n",
       "link E6 to E3--><a href=\"psysml:65a94b24-3d9f-4a56-873a-c3d993dcfd1a\" target=\"_top\" title=\"psysml:65a94b24-3d9f-4a56-873a-c3d993dcfd1a\" xlink:actuate=\"onRequest\" xlink:href=\"psysml:65a94b24-3d9f-4a56-873a-c3d993dcfd1a\" xlink:show=\"new\" xlink:title=\"psysml:65a94b24-3d9f-4a56-873a-c3d993dcfd1a\" xlink:type=\"simple\"><path d=\"M172.83,133.68 C171.24,149.9 169.04,172.39 167.12,191.96 \" fill=\"none\" id=\"E6-&gt;E3\" style=\"stroke: #A80036; stroke-width: 1.0;\"/><polygon fill=\"#FFFFFF\" points=\"165.16,211.98,160.0533,192.3861,173.986,193.7564,165.16,211.98\" style=\"stroke: #A80036; stroke-width: 1.0;\"/><ellipse cx=\"162.6016\" cy=\"186.9092\" fill=\"#A80036\" rx=\"2\" ry=\"2\" style=\"stroke: #A80036; stroke-width: 1.0;\"/><ellipse cx=\"172.5535\" cy=\"187.888\" fill=\"#A80036\" rx=\"2\" ry=\"2\" style=\"stroke: #A80036; stroke-width: 1.0;\"/></a><!--MD5=[6126a4458579a2fd3884b0173d5bf831]\n",
       "@startuml\r\n",
       " \r\n",
       "package \"QualifiedNameImportTest\" as E1  [[psysml:825b0528-a754-4768-92c2-54c3479055c4 ]]  {\r\n",
       "package \"P1\" as E2  [[psysml:a3fdeae3-ca66-43fb-8ea3-ccc1fec12162 ]]  {\r\n",
       "comp def \"A\" as E3  <<(T,blue)part def>> [[psysml:383f729c-d04b-4502-922b-14a45e711088 ]] {\r\n",
       "}\r\n",
       "}\r\n",
       "package \"P2\" as E4  [[psysml:f7e915ae-81d4-47d2-8346-f23cee504381 ]]  {\r\n",
       "package \"P2a\" as E5  [[psysml:806dfed2-196c-4937-8c4a-4cb4ed2b492f ]]  {\r\n",
       "}\r\n",
       "comp usage \"x: A\" as E6  <<(T,blue)part>> [[psysml:411a4236-fb50-40bf-b31c-7cf2c008c402 ]] {\r\n",
       "}\r\n",
       "E6 - -:|> E3 [[psysml:65a94b24-3d9f-4a56-873a-c3d993dcfd1a ]] \r\n",
       "}\r\n",
       "}\r\n",
       "@enduml\r\n",
       "\n",
       "PlantUML version 1.2020.13(Sat Jun 13 12:26:38 UTC 2020)\n",
       "(EPL source distribution)\n",
       "Java Runtime: OpenJDK Runtime Environment\n",
       "JVM: OpenJDK 64-Bit Server VM\n",
       "Default Encoding: UTF-8\n",
       "Language: en\n",
       "Country: null\n",
       "--></g></svg>"
      ]
     },
     "execution_count": 8,
     "metadata": {},
     "output_type": "execute_result"
    }
   ],
   "source": [
    "%viz --style=\"COMPTREE\" --view=\"MIXED\" \"QualifiedNameImportTest\""
   ]
  },
  {
   "cell_type": "code",
   "execution_count": 9,
   "id": "maritime-combining",
   "metadata": {
    "execution": {
     "iopub.execute_input": "2021-03-25T15:09:11.857548Z",
     "iopub.status.busy": "2021-03-25T15:09:11.856898Z",
     "iopub.status.idle": "2021-03-25T15:09:11.929567Z",
     "shell.execute_reply": "2021-03-25T15:09:11.927920Z"
    }
   },
   "outputs": [
    {
     "data": {
      "image/svg+xml": [
       "<?xml version=\"1.0\" encoding=\"UTF-8\" standalone=\"no\"?><svg xmlns=\"http://www.w3.org/2000/svg\" xmlns:xlink=\"http://www.w3.org/1999/xlink\" contentScriptType=\"application/ecmascript\" contentStyleType=\"text/css\" height=\"310px\" preserveAspectRatio=\"none\" style=\"width:253px;height:310px;\" version=\"1.1\" viewBox=\"0 0 253 310\" width=\"253px\" zoomAndPan=\"magnify\"><defs/><g><!--MD5=[fbc87193dbaf4d95561dea2c320d4a47]\n",
       "cluster E1--><a href=\"psysml:825b0528-a754-4768-92c2-54c3479055c4\" target=\"_top\" title=\"psysml:825b0528-a754-4768-92c2-54c3479055c4\" xlink:actuate=\"onRequest\" xlink:href=\"psysml:825b0528-a754-4768-92c2-54c3479055c4\" xlink:show=\"new\" xlink:title=\"psysml:825b0528-a754-4768-92c2-54c3479055c4\" xlink:type=\"simple\"><polygon fill=\"#FFFFFF\" points=\"16,6,221,6,228,28.2969,231,28.2969,231,298,16,298,16,6\" style=\"stroke: #000000; stroke-width: 1.5;\"/><line style=\"stroke: #000000; stroke-width: 1.5;\" x1=\"16\" x2=\"228\" y1=\"28.2969\" y2=\"28.2969\"/><text fill=\"#000000\" font-family=\"sans-serif\" font-size=\"14\" font-weight=\"bold\" lengthAdjust=\"spacingAndGlyphs\" textLength=\"199\" x=\"20\" y=\"20.9951\">QualifiedNameImportTest</text></a><!--MD5=[e4f7fae6ed58524ba242bb0b0d3be6b7]\n",
       "cluster E2--><a href=\"psysml:a3fdeae3-ca66-43fb-8ea3-ccc1fec12162\" target=\"_top\" title=\"psysml:a3fdeae3-ca66-43fb-8ea3-ccc1fec12162\" xlink:actuate=\"onRequest\" xlink:href=\"psysml:a3fdeae3-ca66-43fb-8ea3-ccc1fec12162\" xlink:show=\"new\" xlink:title=\"psysml:a3fdeae3-ca66-43fb-8ea3-ccc1fec12162\" xlink:type=\"simple\"><polygon fill=\"#FFFFFF\" points=\"105,177,131,177,138,199.2969,203,199.2969,203,274,105,274,105,177\" style=\"stroke: #000000; stroke-width: 1.5;\"/><line style=\"stroke: #000000; stroke-width: 1.5;\" x1=\"105\" x2=\"138\" y1=\"199.2969\" y2=\"199.2969\"/><text fill=\"#000000\" font-family=\"sans-serif\" font-size=\"14\" font-weight=\"bold\" lengthAdjust=\"spacingAndGlyphs\" textLength=\"20\" x=\"109\" y=\"191.9951\">P1</text></a><!--MD5=[f6df4d0ebaf0b5dfb2ced0ae5af7c670]\n",
       "cluster E4--><a href=\"psysml:f7e915ae-81d4-47d2-8346-f23cee504381\" target=\"_top\" title=\"psysml:f7e915ae-81d4-47d2-8346-f23cee504381\" xlink:actuate=\"onRequest\" xlink:href=\"psysml:f7e915ae-81d4-47d2-8346-f23cee504381\" xlink:show=\"new\" xlink:title=\"psysml:f7e915ae-81d4-47d2-8346-f23cee504381\" xlink:type=\"simple\"><polygon fill=\"#FFFFFF\" points=\"44,49,70,49,77,71.2969,203,71.2969,203,153,44,153,44,49\" style=\"stroke: #000000; stroke-width: 1.5;\"/><line style=\"stroke: #000000; stroke-width: 1.5;\" x1=\"44\" x2=\"77\" y1=\"71.2969\" y2=\"71.2969\"/><text fill=\"#000000\" font-family=\"sans-serif\" font-size=\"14\" font-weight=\"bold\" lengthAdjust=\"spacingAndGlyphs\" textLength=\"20\" x=\"48\" y=\"63.9951\">P2</text></a><!--MD5=[09b614a08d8cba4a07c9adeb5e0fee81]\n",
       "class E3--><a href=\"psysml:383f729c-d04b-4502-922b-14a45e711088\" target=\"_top\" title=\"psysml:383f729c-d04b-4502-922b-14a45e711088\" xlink:actuate=\"onRequest\" xlink:href=\"psysml:383f729c-d04b-4502-922b-14a45e711088\" xlink:show=\"new\" xlink:title=\"psysml:383f729c-d04b-4502-922b-14a45e711088\" xlink:type=\"simple\"><rect fill=\"#FFFFFF\" height=\"45.9375\" id=\"E3\" style=\"stroke: #383838; stroke-width: 1.5;\" width=\"66\" x=\"121\" y=\"212\"/><text fill=\"#000000\" font-family=\"sans-serif\" font-size=\"12\" font-style=\"italic\" lengthAdjust=\"spacingAndGlyphs\" textLength=\"64\" x=\"122\" y=\"228.1387\">«part def»</text><text fill=\"#000000\" font-family=\"sans-serif\" font-size=\"12\" lengthAdjust=\"spacingAndGlyphs\" textLength=\"8\" x=\"150\" y=\"242.1074\">A</text><line style=\"stroke: #383838; stroke-width: 1.5;\" x1=\"122\" x2=\"186\" y1=\"249.9375\" y2=\"249.9375\"/></a><!--MD5=[60a26617385b1d2d0262a64233df1f8d]\n",
       "class E6--><a href=\"psysml:411a4236-fb50-40bf-b31c-7cf2c008c402\" target=\"_top\" title=\"psysml:411a4236-fb50-40bf-b31c-7cf2c008c402\" xlink:actuate=\"onRequest\" xlink:href=\"psysml:411a4236-fb50-40bf-b31c-7cf2c008c402\" xlink:show=\"new\" xlink:title=\"psysml:411a4236-fb50-40bf-b31c-7cf2c008c402\" xlink:type=\"simple\"><rect fill=\"#FFFFFF\" height=\"45.9375\" id=\"E6\" rx=\"10\" ry=\"10\" style=\"stroke: #383838; stroke-width: 1.5;\" width=\"42\" x=\"145\" y=\"87.5\"/><text fill=\"#000000\" font-family=\"sans-serif\" font-size=\"12\" font-style=\"italic\" lengthAdjust=\"spacingAndGlyphs\" textLength=\"40\" x=\"146\" y=\"103.6387\">«part»</text><text fill=\"#000000\" font-family=\"sans-serif\" font-size=\"12\" lengthAdjust=\"spacingAndGlyphs\" textLength=\"22\" x=\"155\" y=\"117.6074\">x: A</text><line style=\"stroke: #383838; stroke-width: 1.5;\" x1=\"146\" x2=\"186\" y1=\"125.4375\" y2=\"125.4375\"/></a><a href=\"psysml:806dfed2-196c-4937-8c4a-4cb4ed2b492f\" target=\"_top\" title=\"psysml:806dfed2-196c-4937-8c4a-4cb4ed2b492f\" xlink:actuate=\"onRequest\" xlink:href=\"psysml:806dfed2-196c-4937-8c4a-4cb4ed2b492f\" xlink:show=\"new\" xlink:title=\"psysml:806dfed2-196c-4937-8c4a-4cb4ed2b492f\" xlink:type=\"simple\"><polygon fill=\"#FFFFFF\" points=\"60.5,84,95.5,84,102.5,106.2969,109.5,106.2969,109.5,136.5938,60.5,136.5938,60.5,84\" style=\"stroke: #000000; stroke-width: 1.5;\"/><line style=\"stroke: #000000; stroke-width: 1.5;\" x1=\"60.5\" x2=\"102.5\" y1=\"106.2969\" y2=\"106.2969\"/><text fill=\"#000000\" font-family=\"sans-serif\" font-size=\"14\" font-weight=\"bold\" lengthAdjust=\"spacingAndGlyphs\" textLength=\"29\" x=\"64.5\" y=\"98.9951\">P2a</text></a><!--MD5=[a717450b82c80b9240a525fa862496af]\n",
       "link E6 to E3--><a href=\"psysml:65a94b24-3d9f-4a56-873a-c3d993dcfd1a\" target=\"_top\" title=\"psysml:65a94b24-3d9f-4a56-873a-c3d993dcfd1a\" xlink:actuate=\"onRequest\" xlink:href=\"psysml:65a94b24-3d9f-4a56-873a-c3d993dcfd1a\" xlink:show=\"new\" xlink:title=\"psysml:65a94b24-3d9f-4a56-873a-c3d993dcfd1a\" xlink:type=\"simple\"><path d=\"M163.83,133.68 C162.24,149.9 160.04,172.39 158.12,191.96 \" fill=\"none\" id=\"E6-&gt;E3\" style=\"stroke: #383838; stroke-width: 1.0;\"/><polygon fill=\"#FFFFFF\" points=\"156.16,211.98,151.0533,192.3861,164.986,193.7564,156.16,211.98\" style=\"stroke: #383838; stroke-width: 1.0;\"/><ellipse cx=\"153.6016\" cy=\"186.9092\" fill=\"#383838\" rx=\"2\" ry=\"2\" style=\"stroke: #383838; stroke-width: 1.0;\"/><ellipse cx=\"163.5535\" cy=\"187.888\" fill=\"#383838\" rx=\"2\" ry=\"2\" style=\"stroke: #383838; stroke-width: 1.0;\"/></a><!--MD5=[8f4230e9db1c228dc5bddd5848a22a5f]\n",
       "@startuml\r\n",
       "skinparam linetype polyline\r\n",
       "skinparam monochrome true\r\n",
       "skinparam classbackgroundcolor white\r\n",
       "skinparam shadowing false\r\n",
       "skinparam wrapWidth 300\r\n",
       "hide circle\r\n",
       "\r\n",
       "package \"QualifiedNameImportTest\" as E1  [[psysml:825b0528-a754-4768-92c2-54c3479055c4 ]]  {\r\n",
       "package \"P1\" as E2  [[psysml:a3fdeae3-ca66-43fb-8ea3-ccc1fec12162 ]]  {\r\n",
       "comp def \"A\" as E3  <<(T,blue)part def>> [[psysml:383f729c-d04b-4502-922b-14a45e711088 ]] {\r\n",
       "}\r\n",
       "}\r\n",
       "package \"P2\" as E4  [[psysml:f7e915ae-81d4-47d2-8346-f23cee504381 ]]  {\r\n",
       "package \"P2a\" as E5  [[psysml:806dfed2-196c-4937-8c4a-4cb4ed2b492f ]]  {\r\n",
       "}\r\n",
       "comp usage \"x: A\" as E6  <<(T,blue)part>> [[psysml:411a4236-fb50-40bf-b31c-7cf2c008c402 ]] {\r\n",
       "}\r\n",
       "E6 - -:|> E3 [[psysml:65a94b24-3d9f-4a56-873a-c3d993dcfd1a ]] \r\n",
       "}\r\n",
       "}\r\n",
       "@enduml\r\n",
       "\n",
       "PlantUML version 1.2020.13(Sat Jun 13 12:26:38 UTC 2020)\n",
       "(EPL source distribution)\n",
       "Java Runtime: OpenJDK Runtime Environment\n",
       "JVM: OpenJDK 64-Bit Server VM\n",
       "Default Encoding: UTF-8\n",
       "Language: en\n",
       "Country: null\n",
       "--></g></svg>"
      ]
     },
     "execution_count": 9,
     "metadata": {},
     "output_type": "execute_result"
    }
   ],
   "source": [
    "%viz --style=\"POLYLINE\" --view=\"Default\" \"QualifiedNameImportTest\""
   ]
  },
  {
   "cell_type": "code",
   "execution_count": 10,
   "id": "interim-holmes",
   "metadata": {
    "execution": {
     "iopub.execute_input": "2021-03-25T15:09:11.980946Z",
     "iopub.status.busy": "2021-03-25T15:09:11.979950Z",
     "iopub.status.idle": "2021-03-25T15:09:12.061830Z",
     "shell.execute_reply": "2021-03-25T15:09:12.060125Z"
    }
   },
   "outputs": [
    {
     "data": {
      "image/svg+xml": [
       "<?xml version=\"1.0\" encoding=\"UTF-8\" standalone=\"no\"?><svg xmlns=\"http://www.w3.org/2000/svg\" xmlns:xlink=\"http://www.w3.org/1999/xlink\" contentScriptType=\"application/ecmascript\" contentStyleType=\"text/css\" height=\"310px\" preserveAspectRatio=\"none\" style=\"width:253px;height:310px;\" version=\"1.1\" viewBox=\"0 0 253 310\" width=\"253px\" zoomAndPan=\"magnify\"><defs/><g><!--MD5=[fbc87193dbaf4d95561dea2c320d4a47]\n",
       "cluster E1--><a href=\"psysml:825b0528-a754-4768-92c2-54c3479055c4\" target=\"_top\" title=\"psysml:825b0528-a754-4768-92c2-54c3479055c4\" xlink:actuate=\"onRequest\" xlink:href=\"psysml:825b0528-a754-4768-92c2-54c3479055c4\" xlink:show=\"new\" xlink:title=\"psysml:825b0528-a754-4768-92c2-54c3479055c4\" xlink:type=\"simple\"><polygon fill=\"#FFFFFF\" points=\"16,6,221,6,228,28.2969,231,28.2969,231,298,16,298,16,6\" style=\"stroke: #000000; stroke-width: 1.5;\"/><line style=\"stroke: #000000; stroke-width: 1.5;\" x1=\"16\" x2=\"228\" y1=\"28.2969\" y2=\"28.2969\"/><text fill=\"#000000\" font-family=\"sans-serif\" font-size=\"14\" font-weight=\"bold\" lengthAdjust=\"spacingAndGlyphs\" textLength=\"199\" x=\"20\" y=\"20.9951\">QualifiedNameImportTest</text></a><!--MD5=[e4f7fae6ed58524ba242bb0b0d3be6b7]\n",
       "cluster E2--><a href=\"psysml:a3fdeae3-ca66-43fb-8ea3-ccc1fec12162\" target=\"_top\" title=\"psysml:a3fdeae3-ca66-43fb-8ea3-ccc1fec12162\" xlink:actuate=\"onRequest\" xlink:href=\"psysml:a3fdeae3-ca66-43fb-8ea3-ccc1fec12162\" xlink:show=\"new\" xlink:title=\"psysml:a3fdeae3-ca66-43fb-8ea3-ccc1fec12162\" xlink:type=\"simple\"><polygon fill=\"#FFFFFF\" points=\"105,177,131,177,138,199.2969,203,199.2969,203,274,105,274,105,177\" style=\"stroke: #000000; stroke-width: 1.5;\"/><line style=\"stroke: #000000; stroke-width: 1.5;\" x1=\"105\" x2=\"138\" y1=\"199.2969\" y2=\"199.2969\"/><text fill=\"#000000\" font-family=\"sans-serif\" font-size=\"14\" font-weight=\"bold\" lengthAdjust=\"spacingAndGlyphs\" textLength=\"20\" x=\"109\" y=\"191.9951\">P1</text></a><!--MD5=[f6df4d0ebaf0b5dfb2ced0ae5af7c670]\n",
       "cluster E4--><a href=\"psysml:f7e915ae-81d4-47d2-8346-f23cee504381\" target=\"_top\" title=\"psysml:f7e915ae-81d4-47d2-8346-f23cee504381\" xlink:actuate=\"onRequest\" xlink:href=\"psysml:f7e915ae-81d4-47d2-8346-f23cee504381\" xlink:show=\"new\" xlink:title=\"psysml:f7e915ae-81d4-47d2-8346-f23cee504381\" xlink:type=\"simple\"><polygon fill=\"#FFFFFF\" points=\"44,49,70,49,77,71.2969,203,71.2969,203,153,44,153,44,49\" style=\"stroke: #000000; stroke-width: 1.5;\"/><line style=\"stroke: #000000; stroke-width: 1.5;\" x1=\"44\" x2=\"77\" y1=\"71.2969\" y2=\"71.2969\"/><text fill=\"#000000\" font-family=\"sans-serif\" font-size=\"14\" font-weight=\"bold\" lengthAdjust=\"spacingAndGlyphs\" textLength=\"20\" x=\"48\" y=\"63.9951\">P2</text></a><!--MD5=[09b614a08d8cba4a07c9adeb5e0fee81]\n",
       "class E3--><a href=\"psysml:383f729c-d04b-4502-922b-14a45e711088\" target=\"_top\" title=\"psysml:383f729c-d04b-4502-922b-14a45e711088\" xlink:actuate=\"onRequest\" xlink:href=\"psysml:383f729c-d04b-4502-922b-14a45e711088\" xlink:show=\"new\" xlink:title=\"psysml:383f729c-d04b-4502-922b-14a45e711088\" xlink:type=\"simple\"><rect fill=\"#FFFFFF\" height=\"45.9375\" id=\"E3\" style=\"stroke: #383838; stroke-width: 1.5;\" width=\"66\" x=\"121\" y=\"212\"/><text fill=\"#000000\" font-family=\"sans-serif\" font-size=\"12\" font-style=\"italic\" lengthAdjust=\"spacingAndGlyphs\" textLength=\"64\" x=\"122\" y=\"228.1387\">«part def»</text><text fill=\"#000000\" font-family=\"sans-serif\" font-size=\"12\" lengthAdjust=\"spacingAndGlyphs\" textLength=\"8\" x=\"150\" y=\"242.1074\">A</text><line style=\"stroke: #383838; stroke-width: 1.5;\" x1=\"122\" x2=\"186\" y1=\"249.9375\" y2=\"249.9375\"/></a><!--MD5=[60a26617385b1d2d0262a64233df1f8d]\n",
       "class E6--><a href=\"psysml:411a4236-fb50-40bf-b31c-7cf2c008c402\" target=\"_top\" title=\"psysml:411a4236-fb50-40bf-b31c-7cf2c008c402\" xlink:actuate=\"onRequest\" xlink:href=\"psysml:411a4236-fb50-40bf-b31c-7cf2c008c402\" xlink:show=\"new\" xlink:title=\"psysml:411a4236-fb50-40bf-b31c-7cf2c008c402\" xlink:type=\"simple\"><rect fill=\"#FFFFFF\" height=\"45.9375\" id=\"E6\" rx=\"10\" ry=\"10\" style=\"stroke: #383838; stroke-width: 1.5;\" width=\"42\" x=\"145\" y=\"87.5\"/><text fill=\"#000000\" font-family=\"sans-serif\" font-size=\"12\" font-style=\"italic\" lengthAdjust=\"spacingAndGlyphs\" textLength=\"40\" x=\"146\" y=\"103.6387\">«part»</text><text fill=\"#000000\" font-family=\"sans-serif\" font-size=\"12\" lengthAdjust=\"spacingAndGlyphs\" textLength=\"22\" x=\"155\" y=\"117.6074\">x: A</text><line style=\"stroke: #383838; stroke-width: 1.5;\" x1=\"146\" x2=\"186\" y1=\"125.4375\" y2=\"125.4375\"/></a><a href=\"psysml:806dfed2-196c-4937-8c4a-4cb4ed2b492f\" target=\"_top\" title=\"psysml:806dfed2-196c-4937-8c4a-4cb4ed2b492f\" xlink:actuate=\"onRequest\" xlink:href=\"psysml:806dfed2-196c-4937-8c4a-4cb4ed2b492f\" xlink:show=\"new\" xlink:title=\"psysml:806dfed2-196c-4937-8c4a-4cb4ed2b492f\" xlink:type=\"simple\"><polygon fill=\"#FFFFFF\" points=\"60.5,84,95.5,84,102.5,106.2969,109.5,106.2969,109.5,136.5938,60.5,136.5938,60.5,84\" style=\"stroke: #000000; stroke-width: 1.5;\"/><line style=\"stroke: #000000; stroke-width: 1.5;\" x1=\"60.5\" x2=\"102.5\" y1=\"106.2969\" y2=\"106.2969\"/><text fill=\"#000000\" font-family=\"sans-serif\" font-size=\"14\" font-weight=\"bold\" lengthAdjust=\"spacingAndGlyphs\" textLength=\"29\" x=\"64.5\" y=\"98.9951\">P2a</text></a><!--MD5=[a717450b82c80b9240a525fa862496af]\n",
       "link E6 to E3--><a href=\"psysml:65a94b24-3d9f-4a56-873a-c3d993dcfd1a\" target=\"_top\" title=\"psysml:65a94b24-3d9f-4a56-873a-c3d993dcfd1a\" xlink:actuate=\"onRequest\" xlink:href=\"psysml:65a94b24-3d9f-4a56-873a-c3d993dcfd1a\" xlink:show=\"new\" xlink:title=\"psysml:65a94b24-3d9f-4a56-873a-c3d993dcfd1a\" xlink:type=\"simple\"><path d=\"M163.83,133.68 C162.24,149.9 160.04,172.39 158.12,191.96 \" fill=\"none\" id=\"E6-&gt;E3\" style=\"stroke: #383838; stroke-width: 1.0;\"/><polygon fill=\"#FFFFFF\" points=\"156.16,211.98,151.0533,192.3861,164.986,193.7564,156.16,211.98\" style=\"stroke: #383838; stroke-width: 1.0;\"/><ellipse cx=\"153.6016\" cy=\"186.9092\" fill=\"#383838\" rx=\"2\" ry=\"2\" style=\"stroke: #383838; stroke-width: 1.0;\"/><ellipse cx=\"163.5535\" cy=\"187.888\" fill=\"#383838\" rx=\"2\" ry=\"2\" style=\"stroke: #383838; stroke-width: 1.0;\"/></a><!--MD5=[8f4230e9db1c228dc5bddd5848a22a5f]\n",
       "@startuml\r\n",
       "skinparam linetype polyline\r\n",
       "skinparam monochrome true\r\n",
       "skinparam classbackgroundcolor white\r\n",
       "skinparam shadowing false\r\n",
       "skinparam wrapWidth 300\r\n",
       "hide circle\r\n",
       "\r\n",
       "package \"QualifiedNameImportTest\" as E1  [[psysml:825b0528-a754-4768-92c2-54c3479055c4 ]]  {\r\n",
       "package \"P1\" as E2  [[psysml:a3fdeae3-ca66-43fb-8ea3-ccc1fec12162 ]]  {\r\n",
       "comp def \"A\" as E3  <<(T,blue)part def>> [[psysml:383f729c-d04b-4502-922b-14a45e711088 ]] {\r\n",
       "}\r\n",
       "}\r\n",
       "package \"P2\" as E4  [[psysml:f7e915ae-81d4-47d2-8346-f23cee504381 ]]  {\r\n",
       "package \"P2a\" as E5  [[psysml:806dfed2-196c-4937-8c4a-4cb4ed2b492f ]]  {\r\n",
       "}\r\n",
       "comp usage \"x: A\" as E6  <<(T,blue)part>> [[psysml:411a4236-fb50-40bf-b31c-7cf2c008c402 ]] {\r\n",
       "}\r\n",
       "E6 - -:|> E3 [[psysml:65a94b24-3d9f-4a56-873a-c3d993dcfd1a ]] \r\n",
       "}\r\n",
       "}\r\n",
       "@enduml\r\n",
       "\n",
       "PlantUML version 1.2020.13(Sat Jun 13 12:26:38 UTC 2020)\n",
       "(EPL source distribution)\n",
       "Java Runtime: OpenJDK Runtime Environment\n",
       "JVM: OpenJDK 64-Bit Server VM\n",
       "Default Encoding: UTF-8\n",
       "Language: en\n",
       "Country: null\n",
       "--></g></svg>"
      ]
     },
     "execution_count": 10,
     "metadata": {},
     "output_type": "execute_result"
    }
   ],
   "source": [
    "%viz --style=\"POLYLINE\" --view=\"Tree\" \"QualifiedNameImportTest\""
   ]
  },
  {
   "cell_type": "code",
   "execution_count": 11,
   "id": "incorporated-curve",
   "metadata": {
    "execution": {
     "iopub.execute_input": "2021-03-25T15:09:12.111979Z",
     "iopub.status.busy": "2021-03-25T15:09:12.111380Z",
     "iopub.status.idle": "2021-03-25T15:09:12.121568Z",
     "shell.execute_reply": "2021-03-25T15:09:12.122002Z"
    }
   },
   "outputs": [
    {
     "data": {
      "image/svg+xml": [
       "<?xml version=\"1.0\" encoding=\"UTF-8\" standalone=\"no\"?><svg xmlns=\"http://www.w3.org/2000/svg\" xmlns:xlink=\"http://www.w3.org/1999/xlink\" contentScriptType=\"application/ecmascript\" contentStyleType=\"text/css\" height=\"12px\" preserveAspectRatio=\"none\" style=\"width:12px;height:12px;\" version=\"1.1\" viewBox=\"0 0 12 12\" width=\"12px\" zoomAndPan=\"magnify\"><defs/><g><!--MD5=[896ac0e7a515d8dd7765a661cb4ee08b]\n",
       "@startuml\r\n",
       "skinparam linetype polyline\r\n",
       "skinparam monochrome true\r\n",
       "skinparam classbackgroundcolor white\r\n",
       "skinparam shadowing false\r\n",
       "skinparam wrapWidth 300\r\n",
       "hide circle\r\n",
       "\r\n",
       "@enduml\r\n",
       "\n",
       "PlantUML version 1.2020.13(Sat Jun 13 12:26:38 UTC 2020)\n",
       "(EPL source distribution)\n",
       "Java Runtime: OpenJDK Runtime Environment\n",
       "JVM: OpenJDK 64-Bit Server VM\n",
       "Default Encoding: UTF-8\n",
       "Language: en\n",
       "Country: null\n",
       "--></g></svg>"
      ]
     },
     "execution_count": 11,
     "metadata": {},
     "output_type": "execute_result"
    }
   ],
   "source": [
    "%viz --style=\"POLYLINE\" --view=\"State\" \"QualifiedNameImportTest\""
   ]
  },
  {
   "cell_type": "code",
   "execution_count": 12,
   "id": "residential-little",
   "metadata": {
    "execution": {
     "iopub.execute_input": "2021-03-25T15:09:12.175457Z",
     "iopub.status.busy": "2021-03-25T15:09:12.174614Z",
     "iopub.status.idle": "2021-03-25T15:09:12.246178Z",
     "shell.execute_reply": "2021-03-25T15:09:12.245725Z"
    }
   },
   "outputs": [
    {
     "data": {
      "image/svg+xml": [
       "<?xml version=\"1.0\" encoding=\"UTF-8\" standalone=\"no\"?><svg xmlns=\"http://www.w3.org/2000/svg\" xmlns:xlink=\"http://www.w3.org/1999/xlink\" contentScriptType=\"application/ecmascript\" contentStyleType=\"text/css\" height=\"189px\" preserveAspectRatio=\"none\" style=\"width:381px;height:189px;\" version=\"1.1\" viewBox=\"0 0 381 189\" width=\"381px\" zoomAndPan=\"magnify\"><defs/><g><!--MD5=[fbc87193dbaf4d95561dea2c320d4a47]\n",
       "cluster E1--><a href=\"psysml:825b0528-a754-4768-92c2-54c3479055c4\" target=\"_top\" title=\"psysml:825b0528-a754-4768-92c2-54c3479055c4\" xlink:actuate=\"onRequest\" xlink:href=\"psysml:825b0528-a754-4768-92c2-54c3479055c4\" xlink:show=\"new\" xlink:title=\"psysml:825b0528-a754-4768-92c2-54c3479055c4\" xlink:type=\"simple\"><polygon fill=\"#FFFFFF\" points=\"16,6,221,6,228,28.2969,359,28.2969,359,177,16,177,16,6\" style=\"stroke: #000000; stroke-width: 1.5;\"/><line style=\"stroke: #000000; stroke-width: 1.5;\" x1=\"16\" x2=\"228\" y1=\"28.2969\" y2=\"28.2969\"/><text fill=\"#000000\" font-family=\"sans-serif\" font-size=\"14\" font-weight=\"bold\" lengthAdjust=\"spacingAndGlyphs\" textLength=\"199\" x=\"20\" y=\"20.9951\">QualifiedNameImportTest</text></a><!--MD5=[e4f7fae6ed58524ba242bb0b0d3be6b7]\n",
       "cluster E2--><a href=\"psysml:a3fdeae3-ca66-43fb-8ea3-ccc1fec12162\" target=\"_top\" title=\"psysml:a3fdeae3-ca66-43fb-8ea3-ccc1fec12162\" xlink:actuate=\"onRequest\" xlink:href=\"psysml:a3fdeae3-ca66-43fb-8ea3-ccc1fec12162\" xlink:show=\"new\" xlink:title=\"psysml:a3fdeae3-ca66-43fb-8ea3-ccc1fec12162\" xlink:type=\"simple\"><polygon fill=\"#FFFFFF\" points=\"231,54,257,54,264,76.2969,335,76.2969,335,148,231,148,231,54\" style=\"stroke: #000000; stroke-width: 1.5;\"/><line style=\"stroke: #000000; stroke-width: 1.5;\" x1=\"231\" x2=\"264\" y1=\"76.2969\" y2=\"76.2969\"/><text fill=\"#000000\" font-family=\"sans-serif\" font-size=\"14\" font-weight=\"bold\" lengthAdjust=\"spacingAndGlyphs\" textLength=\"20\" x=\"235\" y=\"68.9951\">P1</text></a><!--MD5=[f6df4d0ebaf0b5dfb2ced0ae5af7c670]\n",
       "cluster E4--><a href=\"psysml:f7e915ae-81d4-47d2-8346-f23cee504381\" target=\"_top\" title=\"psysml:f7e915ae-81d4-47d2-8346-f23cee504381\" xlink:actuate=\"onRequest\" xlink:href=\"psysml:f7e915ae-81d4-47d2-8346-f23cee504381\" xlink:show=\"new\" xlink:title=\"psysml:f7e915ae-81d4-47d2-8346-f23cee504381\" xlink:type=\"simple\"><polygon fill=\"#FFFFFF\" points=\"40,49,66,49,73,71.2969,207,71.2969,207,153,40,153,40,49\" style=\"stroke: #000000; stroke-width: 1.5;\"/><line style=\"stroke: #000000; stroke-width: 1.5;\" x1=\"40\" x2=\"73\" y1=\"71.2969\" y2=\"71.2969\"/><text fill=\"#000000\" font-family=\"sans-serif\" font-size=\"14\" font-weight=\"bold\" lengthAdjust=\"spacingAndGlyphs\" textLength=\"20\" x=\"44\" y=\"63.9951\">P2</text></a><g id=\"E1.E2.E3\"><a href=\"psysml:383f729c-d04b-4502-922b-14a45e711088\" target=\"_top\" title=\"psysml:383f729c-d04b-4502-922b-14a45e711088\" xlink:actuate=\"onRequest\" xlink:href=\"psysml:383f729c-d04b-4502-922b-14a45e711088\" xlink:show=\"new\" xlink:title=\"psysml:383f729c-d04b-4502-922b-14a45e711088\" xlink:type=\"simple\"><rect fill=\"#FFFFFF\" height=\"42.9375\" id=\"E3\" style=\"stroke: #383838; stroke-width: 1.5;\" width=\"71\" x=\"247.5\" y=\"89\"/><rect fill=\"#F8F8F8\" height=\"37.9375\" style=\"stroke: #383838; stroke-width: 1.5;\" width=\"71\" x=\"247.5\" y=\"89\"/><text fill=\"#000000\" font-family=\"sans-serif\" font-size=\"12\" font-style=\"italic\" lengthAdjust=\"spacingAndGlyphs\" textLength=\"64\" x=\"251\" y=\"105.1387\">«part def»</text><text fill=\"#000000\" font-family=\"sans-serif\" font-size=\"12\" lengthAdjust=\"spacingAndGlyphs\" textLength=\"8\" x=\"279\" y=\"119.1074\">A</text></a></g><a href=\"psysml:806dfed2-196c-4937-8c4a-4cb4ed2b492f\" target=\"_top\" title=\"psysml:806dfed2-196c-4937-8c4a-4cb4ed2b492f\" xlink:actuate=\"onRequest\" xlink:href=\"psysml:806dfed2-196c-4937-8c4a-4cb4ed2b492f\" xlink:show=\"new\" xlink:title=\"psysml:806dfed2-196c-4937-8c4a-4cb4ed2b492f\" xlink:type=\"simple\"><polygon fill=\"#FFFFFF\" points=\"141.5,84,176.5,84,183.5,106.2969,190.5,106.2969,190.5,136.5938,141.5,136.5938,141.5,84\" style=\"stroke: #000000; stroke-width: 1.5;\"/><line style=\"stroke: #000000; stroke-width: 1.5;\" x1=\"141.5\" x2=\"183.5\" y1=\"106.2969\" y2=\"106.2969\"/><text fill=\"#000000\" font-family=\"sans-serif\" font-size=\"14\" font-weight=\"bold\" lengthAdjust=\"spacingAndGlyphs\" textLength=\"29\" x=\"145.5\" y=\"98.9951\">P2a</text></a><g id=\"E1.E4.E6\"><a href=\"psysml:411a4236-fb50-40bf-b31c-7cf2c008c402\" target=\"_top\" title=\"psysml:411a4236-fb50-40bf-b31c-7cf2c008c402\" xlink:actuate=\"onRequest\" xlink:href=\"psysml:411a4236-fb50-40bf-b31c-7cf2c008c402\" xlink:show=\"new\" xlink:title=\"psysml:411a4236-fb50-40bf-b31c-7cf2c008c402\" xlink:type=\"simple\"><rect fill=\"#FFFFFF\" height=\"40\" id=\"E6\" rx=\"10\" ry=\"10\" style=\"stroke: #383838; stroke-width: 1.5;\" width=\"50\" x=\"56\" y=\"90.5\"/><rect fill=\"#F8F8F8\" height=\"23.9688\" rx=\"10\" ry=\"10\" style=\"stroke: #F8F8F8; stroke-width: 1.5;\" width=\"50\" x=\"56\" y=\"90.5\"/><rect fill=\"#F8F8F8\" height=\"10\" style=\"stroke: #F8F8F8; stroke-width: 1.5;\" width=\"50\" x=\"56\" y=\"104.4688\"/><rect fill=\"none\" height=\"40\" id=\"E6\" rx=\"10\" ry=\"10\" style=\"stroke: #383838; stroke-width: 1.5;\" width=\"50\" x=\"56\" y=\"90.5\"/><text fill=\"#000000\" font-family=\"sans-serif\" font-size=\"12\" lengthAdjust=\"spacingAndGlyphs\" textLength=\"22\" x=\"70\" y=\"106.6387\">x: A</text></a></g><!--MD5=[d5de8e416268bfe2803b75861e37069a]\n",
       "@startuml\r\n",
       "skinparam ranksep 8\r\n",
       "skinparam rectangle {\r\n",
       " backgroundColor<<block>> LightGreen\r\n",
       "}\r\n",
       "skinparam linetype polyline\r\n",
       "skinparam monochrome true\r\n",
       "skinparam classbackgroundcolor white\r\n",
       "skinparam shadowing false\r\n",
       "skinparam wrapWidth 300\r\n",
       "hide circle\r\n",
       "\r\n",
       "package \"QualifiedNameImportTest\" as E1  [[psysml:825b0528-a754-4768-92c2-54c3479055c4 ]]  {\r\n",
       "package \"P1\" as E2  [[psysml:a3fdeae3-ca66-43fb-8ea3-ccc1fec12162 ]]  {\r\n",
       "rec def \"A\" as E3  <<(T,blue)part def>> [[psysml:383f729c-d04b-4502-922b-14a45e711088 ]] {\r\n",
       "}\r\n",
       "}\r\n",
       "package \"P2\" as E4  [[psysml:f7e915ae-81d4-47d2-8346-f23cee504381 ]]  {\r\n",
       "package \"P2a\" as E5  [[psysml:806dfed2-196c-4937-8c4a-4cb4ed2b492f ]]  {\r\n",
       "}\r\n",
       "rec usage \"x: A\" as E6  [[psysml:411a4236-fb50-40bf-b31c-7cf2c008c402 ]] {\r\n",
       "}\r\n",
       "}\r\n",
       "}\r\n",
       "@enduml\r\n",
       "\n",
       "PlantUML version 1.2020.13(Sat Jun 13 12:26:38 UTC 2020)\n",
       "(EPL source distribution)\n",
       "Java Runtime: OpenJDK Runtime Environment\n",
       "JVM: OpenJDK 64-Bit Server VM\n",
       "Default Encoding: UTF-8\n",
       "Language: en\n",
       "Country: null\n",
       "--></g></svg>"
      ]
     },
     "execution_count": 12,
     "metadata": {},
     "output_type": "execute_result"
    }
   ],
   "source": [
    "%viz --style=\"POLYLINE\" --view=\"Interconnection\" \"QualifiedNameImportTest\""
   ]
  },
  {
   "cell_type": "code",
   "execution_count": 13,
   "id": "innovative-partner",
   "metadata": {
    "execution": {
     "iopub.execute_input": "2021-03-25T15:09:12.300492Z",
     "iopub.status.busy": "2021-03-25T15:09:12.299895Z",
     "iopub.status.idle": "2021-03-25T15:09:12.312188Z",
     "shell.execute_reply": "2021-03-25T15:09:12.312548Z"
    }
   },
   "outputs": [
    {
     "data": {
      "image/svg+xml": [
       "<?xml version=\"1.0\" encoding=\"UTF-8\" standalone=\"no\"?><svg xmlns=\"http://www.w3.org/2000/svg\" xmlns:xlink=\"http://www.w3.org/1999/xlink\" contentScriptType=\"application/ecmascript\" contentStyleType=\"text/css\" height=\"12px\" preserveAspectRatio=\"none\" style=\"width:12px;height:12px;\" version=\"1.1\" viewBox=\"0 0 12 12\" width=\"12px\" zoomAndPan=\"magnify\"><defs/><g><!--MD5=[97bbf32f66ccd50cbc40d92ea8f5a65e]\n",
       "@startuml\r\n",
       "skinparam ranksep 8\r\n",
       "skinparam linetype polyline\r\n",
       "skinparam monochrome true\r\n",
       "skinparam classbackgroundcolor white\r\n",
       "skinparam shadowing false\r\n",
       "skinparam wrapWidth 300\r\n",
       "hide circle\r\n",
       "\r\n",
       "@enduml\r\n",
       "\n",
       "PlantUML version 1.2020.13(Sat Jun 13 12:26:38 UTC 2020)\n",
       "(EPL source distribution)\n",
       "Java Runtime: OpenJDK Runtime Environment\n",
       "JVM: OpenJDK 64-Bit Server VM\n",
       "Default Encoding: UTF-8\n",
       "Language: en\n",
       "Country: null\n",
       "--></g></svg>"
      ]
     },
     "execution_count": 13,
     "metadata": {},
     "output_type": "execute_result"
    }
   ],
   "source": [
    "%viz --style=\"POLYLINE\" --view=\"Action\" \"QualifiedNameImportTest\""
   ]
  },
  {
   "cell_type": "code",
   "execution_count": 14,
   "id": "thick-illinois",
   "metadata": {
    "execution": {
     "iopub.execute_input": "2021-03-25T15:09:12.364909Z",
     "iopub.status.busy": "2021-03-25T15:09:12.363752Z",
     "iopub.status.idle": "2021-03-25T15:09:12.437156Z",
     "shell.execute_reply": "2021-03-25T15:09:12.435847Z"
    }
   },
   "outputs": [
    {
     "data": {
      "image/svg+xml": [
       "<?xml version=\"1.0\" encoding=\"UTF-8\" standalone=\"no\"?><svg xmlns=\"http://www.w3.org/2000/svg\" xmlns:xlink=\"http://www.w3.org/1999/xlink\" contentScriptType=\"application/ecmascript\" contentStyleType=\"text/css\" height=\"310px\" preserveAspectRatio=\"none\" style=\"width:253px;height:310px;\" version=\"1.1\" viewBox=\"0 0 253 310\" width=\"253px\" zoomAndPan=\"magnify\"><defs/><g><!--MD5=[fbc87193dbaf4d95561dea2c320d4a47]\n",
       "cluster E1--><a href=\"psysml:825b0528-a754-4768-92c2-54c3479055c4\" target=\"_top\" title=\"psysml:825b0528-a754-4768-92c2-54c3479055c4\" xlink:actuate=\"onRequest\" xlink:href=\"psysml:825b0528-a754-4768-92c2-54c3479055c4\" xlink:show=\"new\" xlink:title=\"psysml:825b0528-a754-4768-92c2-54c3479055c4\" xlink:type=\"simple\"><polygon fill=\"#FFFFFF\" points=\"16,6,221,6,228,28.2969,231,28.2969,231,298,16,298,16,6\" style=\"stroke: #000000; stroke-width: 1.5;\"/><line style=\"stroke: #000000; stroke-width: 1.5;\" x1=\"16\" x2=\"228\" y1=\"28.2969\" y2=\"28.2969\"/><text fill=\"#000000\" font-family=\"sans-serif\" font-size=\"14\" font-weight=\"bold\" lengthAdjust=\"spacingAndGlyphs\" textLength=\"199\" x=\"20\" y=\"20.9951\">QualifiedNameImportTest</text></a><!--MD5=[e4f7fae6ed58524ba242bb0b0d3be6b7]\n",
       "cluster E2--><a href=\"psysml:a3fdeae3-ca66-43fb-8ea3-ccc1fec12162\" target=\"_top\" title=\"psysml:a3fdeae3-ca66-43fb-8ea3-ccc1fec12162\" xlink:actuate=\"onRequest\" xlink:href=\"psysml:a3fdeae3-ca66-43fb-8ea3-ccc1fec12162\" xlink:show=\"new\" xlink:title=\"psysml:a3fdeae3-ca66-43fb-8ea3-ccc1fec12162\" xlink:type=\"simple\"><polygon fill=\"#FFFFFF\" points=\"105,177,131,177,138,199.2969,203,199.2969,203,274,105,274,105,177\" style=\"stroke: #000000; stroke-width: 1.5;\"/><line style=\"stroke: #000000; stroke-width: 1.5;\" x1=\"105\" x2=\"138\" y1=\"199.2969\" y2=\"199.2969\"/><text fill=\"#000000\" font-family=\"sans-serif\" font-size=\"14\" font-weight=\"bold\" lengthAdjust=\"spacingAndGlyphs\" textLength=\"20\" x=\"109\" y=\"191.9951\">P1</text></a><!--MD5=[f6df4d0ebaf0b5dfb2ced0ae5af7c670]\n",
       "cluster E4--><a href=\"psysml:f7e915ae-81d4-47d2-8346-f23cee504381\" target=\"_top\" title=\"psysml:f7e915ae-81d4-47d2-8346-f23cee504381\" xlink:actuate=\"onRequest\" xlink:href=\"psysml:f7e915ae-81d4-47d2-8346-f23cee504381\" xlink:show=\"new\" xlink:title=\"psysml:f7e915ae-81d4-47d2-8346-f23cee504381\" xlink:type=\"simple\"><polygon fill=\"#FFFFFF\" points=\"44,49,70,49,77,71.2969,203,71.2969,203,153,44,153,44,49\" style=\"stroke: #000000; stroke-width: 1.5;\"/><line style=\"stroke: #000000; stroke-width: 1.5;\" x1=\"44\" x2=\"77\" y1=\"71.2969\" y2=\"71.2969\"/><text fill=\"#000000\" font-family=\"sans-serif\" font-size=\"14\" font-weight=\"bold\" lengthAdjust=\"spacingAndGlyphs\" textLength=\"20\" x=\"48\" y=\"63.9951\">P2</text></a><!--MD5=[09b614a08d8cba4a07c9adeb5e0fee81]\n",
       "class E3--><a href=\"psysml:383f729c-d04b-4502-922b-14a45e711088\" target=\"_top\" title=\"psysml:383f729c-d04b-4502-922b-14a45e711088\" xlink:actuate=\"onRequest\" xlink:href=\"psysml:383f729c-d04b-4502-922b-14a45e711088\" xlink:show=\"new\" xlink:title=\"psysml:383f729c-d04b-4502-922b-14a45e711088\" xlink:type=\"simple\"><rect fill=\"#FFFFFF\" height=\"45.9375\" id=\"E3\" style=\"stroke: #383838; stroke-width: 1.5;\" width=\"66\" x=\"121\" y=\"212\"/><text fill=\"#000000\" font-family=\"sans-serif\" font-size=\"12\" font-style=\"italic\" lengthAdjust=\"spacingAndGlyphs\" textLength=\"64\" x=\"122\" y=\"228.1387\">«part def»</text><text fill=\"#000000\" font-family=\"sans-serif\" font-size=\"12\" lengthAdjust=\"spacingAndGlyphs\" textLength=\"8\" x=\"150\" y=\"242.1074\">A</text><line style=\"stroke: #383838; stroke-width: 1.5;\" x1=\"122\" x2=\"186\" y1=\"249.9375\" y2=\"249.9375\"/></a><!--MD5=[60a26617385b1d2d0262a64233df1f8d]\n",
       "class E6--><a href=\"psysml:411a4236-fb50-40bf-b31c-7cf2c008c402\" target=\"_top\" title=\"psysml:411a4236-fb50-40bf-b31c-7cf2c008c402\" xlink:actuate=\"onRequest\" xlink:href=\"psysml:411a4236-fb50-40bf-b31c-7cf2c008c402\" xlink:show=\"new\" xlink:title=\"psysml:411a4236-fb50-40bf-b31c-7cf2c008c402\" xlink:type=\"simple\"><rect fill=\"#FFFFFF\" height=\"45.9375\" id=\"E6\" rx=\"10\" ry=\"10\" style=\"stroke: #383838; stroke-width: 1.5;\" width=\"42\" x=\"145\" y=\"87.5\"/><text fill=\"#000000\" font-family=\"sans-serif\" font-size=\"12\" font-style=\"italic\" lengthAdjust=\"spacingAndGlyphs\" textLength=\"40\" x=\"146\" y=\"103.6387\">«part»</text><text fill=\"#000000\" font-family=\"sans-serif\" font-size=\"12\" lengthAdjust=\"spacingAndGlyphs\" textLength=\"22\" x=\"155\" y=\"117.6074\">x: A</text><line style=\"stroke: #383838; stroke-width: 1.5;\" x1=\"146\" x2=\"186\" y1=\"125.4375\" y2=\"125.4375\"/></a><a href=\"psysml:806dfed2-196c-4937-8c4a-4cb4ed2b492f\" target=\"_top\" title=\"psysml:806dfed2-196c-4937-8c4a-4cb4ed2b492f\" xlink:actuate=\"onRequest\" xlink:href=\"psysml:806dfed2-196c-4937-8c4a-4cb4ed2b492f\" xlink:show=\"new\" xlink:title=\"psysml:806dfed2-196c-4937-8c4a-4cb4ed2b492f\" xlink:type=\"simple\"><polygon fill=\"#FFFFFF\" points=\"60.5,84,95.5,84,102.5,106.2969,109.5,106.2969,109.5,136.5938,60.5,136.5938,60.5,84\" style=\"stroke: #000000; stroke-width: 1.5;\"/><line style=\"stroke: #000000; stroke-width: 1.5;\" x1=\"60.5\" x2=\"102.5\" y1=\"106.2969\" y2=\"106.2969\"/><text fill=\"#000000\" font-family=\"sans-serif\" font-size=\"14\" font-weight=\"bold\" lengthAdjust=\"spacingAndGlyphs\" textLength=\"29\" x=\"64.5\" y=\"98.9951\">P2a</text></a><!--MD5=[a717450b82c80b9240a525fa862496af]\n",
       "link E6 to E3--><a href=\"psysml:65a94b24-3d9f-4a56-873a-c3d993dcfd1a\" target=\"_top\" title=\"psysml:65a94b24-3d9f-4a56-873a-c3d993dcfd1a\" xlink:actuate=\"onRequest\" xlink:href=\"psysml:65a94b24-3d9f-4a56-873a-c3d993dcfd1a\" xlink:show=\"new\" xlink:title=\"psysml:65a94b24-3d9f-4a56-873a-c3d993dcfd1a\" xlink:type=\"simple\"><path d=\"M163.83,133.68 C162.24,149.9 160.04,172.39 158.12,191.96 \" fill=\"none\" id=\"E6-&gt;E3\" style=\"stroke: #383838; stroke-width: 1.0;\"/><polygon fill=\"#FFFFFF\" points=\"156.16,211.98,151.0533,192.3861,164.986,193.7564,156.16,211.98\" style=\"stroke: #383838; stroke-width: 1.0;\"/><ellipse cx=\"153.6016\" cy=\"186.9092\" fill=\"#383838\" rx=\"2\" ry=\"2\" style=\"stroke: #383838; stroke-width: 1.0;\"/><ellipse cx=\"163.5535\" cy=\"187.888\" fill=\"#383838\" rx=\"2\" ry=\"2\" style=\"stroke: #383838; stroke-width: 1.0;\"/></a><!--MD5=[8f4230e9db1c228dc5bddd5848a22a5f]\n",
       "@startuml\r\n",
       "skinparam linetype polyline\r\n",
       "skinparam monochrome true\r\n",
       "skinparam classbackgroundcolor white\r\n",
       "skinparam shadowing false\r\n",
       "skinparam wrapWidth 300\r\n",
       "hide circle\r\n",
       "\r\n",
       "package \"QualifiedNameImportTest\" as E1  [[psysml:825b0528-a754-4768-92c2-54c3479055c4 ]]  {\r\n",
       "package \"P1\" as E2  [[psysml:a3fdeae3-ca66-43fb-8ea3-ccc1fec12162 ]]  {\r\n",
       "comp def \"A\" as E3  <<(T,blue)part def>> [[psysml:383f729c-d04b-4502-922b-14a45e711088 ]] {\r\n",
       "}\r\n",
       "}\r\n",
       "package \"P2\" as E4  [[psysml:f7e915ae-81d4-47d2-8346-f23cee504381 ]]  {\r\n",
       "package \"P2a\" as E5  [[psysml:806dfed2-196c-4937-8c4a-4cb4ed2b492f ]]  {\r\n",
       "}\r\n",
       "comp usage \"x: A\" as E6  <<(T,blue)part>> [[psysml:411a4236-fb50-40bf-b31c-7cf2c008c402 ]] {\r\n",
       "}\r\n",
       "E6 - -:|> E3 [[psysml:65a94b24-3d9f-4a56-873a-c3d993dcfd1a ]] \r\n",
       "}\r\n",
       "}\r\n",
       "@enduml\r\n",
       "\n",
       "PlantUML version 1.2020.13(Sat Jun 13 12:26:38 UTC 2020)\n",
       "(EPL source distribution)\n",
       "Java Runtime: OpenJDK Runtime Environment\n",
       "JVM: OpenJDK 64-Bit Server VM\n",
       "Default Encoding: UTF-8\n",
       "Language: en\n",
       "Country: null\n",
       "--></g></svg>"
      ]
     },
     "execution_count": 14,
     "metadata": {},
     "output_type": "execute_result"
    }
   ],
   "source": [
    "%viz --style=\"POLYLINE\" --view=\"Sequence\" \"QualifiedNameImportTest\""
   ]
  },
  {
   "cell_type": "code",
   "execution_count": 15,
   "id": "mobile-driving",
   "metadata": {
    "execution": {
     "iopub.execute_input": "2021-03-25T15:09:12.488878Z",
     "iopub.status.busy": "2021-03-25T15:09:12.488318Z",
     "iopub.status.idle": "2021-03-25T15:09:12.560183Z",
     "shell.execute_reply": "2021-03-25T15:09:12.559683Z"
    }
   },
   "outputs": [
    {
     "data": {
      "image/svg+xml": [
       "<?xml version=\"1.0\" encoding=\"UTF-8\" standalone=\"no\"?><svg xmlns=\"http://www.w3.org/2000/svg\" xmlns:xlink=\"http://www.w3.org/1999/xlink\" contentScriptType=\"application/ecmascript\" contentStyleType=\"text/css\" height=\"310px\" preserveAspectRatio=\"none\" style=\"width:253px;height:310px;\" version=\"1.1\" viewBox=\"0 0 253 310\" width=\"253px\" zoomAndPan=\"magnify\"><defs/><g><!--MD5=[fbc87193dbaf4d95561dea2c320d4a47]\n",
       "cluster E1--><a href=\"psysml:825b0528-a754-4768-92c2-54c3479055c4\" target=\"_top\" title=\"psysml:825b0528-a754-4768-92c2-54c3479055c4\" xlink:actuate=\"onRequest\" xlink:href=\"psysml:825b0528-a754-4768-92c2-54c3479055c4\" xlink:show=\"new\" xlink:title=\"psysml:825b0528-a754-4768-92c2-54c3479055c4\" xlink:type=\"simple\"><polygon fill=\"#FFFFFF\" points=\"16,6,221,6,228,28.2969,231,28.2969,231,298,16,298,16,6\" style=\"stroke: #000000; stroke-width: 1.5;\"/><line style=\"stroke: #000000; stroke-width: 1.5;\" x1=\"16\" x2=\"228\" y1=\"28.2969\" y2=\"28.2969\"/><text fill=\"#000000\" font-family=\"sans-serif\" font-size=\"14\" font-weight=\"bold\" lengthAdjust=\"spacingAndGlyphs\" textLength=\"199\" x=\"20\" y=\"20.9951\">QualifiedNameImportTest</text></a><!--MD5=[e4f7fae6ed58524ba242bb0b0d3be6b7]\n",
       "cluster E2--><a href=\"psysml:a3fdeae3-ca66-43fb-8ea3-ccc1fec12162\" target=\"_top\" title=\"psysml:a3fdeae3-ca66-43fb-8ea3-ccc1fec12162\" xlink:actuate=\"onRequest\" xlink:href=\"psysml:a3fdeae3-ca66-43fb-8ea3-ccc1fec12162\" xlink:show=\"new\" xlink:title=\"psysml:a3fdeae3-ca66-43fb-8ea3-ccc1fec12162\" xlink:type=\"simple\"><polygon fill=\"#FFFFFF\" points=\"105,177,131,177,138,199.2969,203,199.2969,203,274,105,274,105,177\" style=\"stroke: #000000; stroke-width: 1.5;\"/><line style=\"stroke: #000000; stroke-width: 1.5;\" x1=\"105\" x2=\"138\" y1=\"199.2969\" y2=\"199.2969\"/><text fill=\"#000000\" font-family=\"sans-serif\" font-size=\"14\" font-weight=\"bold\" lengthAdjust=\"spacingAndGlyphs\" textLength=\"20\" x=\"109\" y=\"191.9951\">P1</text></a><!--MD5=[f6df4d0ebaf0b5dfb2ced0ae5af7c670]\n",
       "cluster E4--><a href=\"psysml:f7e915ae-81d4-47d2-8346-f23cee504381\" target=\"_top\" title=\"psysml:f7e915ae-81d4-47d2-8346-f23cee504381\" xlink:actuate=\"onRequest\" xlink:href=\"psysml:f7e915ae-81d4-47d2-8346-f23cee504381\" xlink:show=\"new\" xlink:title=\"psysml:f7e915ae-81d4-47d2-8346-f23cee504381\" xlink:type=\"simple\"><polygon fill=\"#FFFFFF\" points=\"44,49,70,49,77,71.2969,203,71.2969,203,153,44,153,44,49\" style=\"stroke: #000000; stroke-width: 1.5;\"/><line style=\"stroke: #000000; stroke-width: 1.5;\" x1=\"44\" x2=\"77\" y1=\"71.2969\" y2=\"71.2969\"/><text fill=\"#000000\" font-family=\"sans-serif\" font-size=\"14\" font-weight=\"bold\" lengthAdjust=\"spacingAndGlyphs\" textLength=\"20\" x=\"48\" y=\"63.9951\">P2</text></a><!--MD5=[09b614a08d8cba4a07c9adeb5e0fee81]\n",
       "class E3--><a href=\"psysml:383f729c-d04b-4502-922b-14a45e711088\" target=\"_top\" title=\"psysml:383f729c-d04b-4502-922b-14a45e711088\" xlink:actuate=\"onRequest\" xlink:href=\"psysml:383f729c-d04b-4502-922b-14a45e711088\" xlink:show=\"new\" xlink:title=\"psysml:383f729c-d04b-4502-922b-14a45e711088\" xlink:type=\"simple\"><rect fill=\"#FFFFFF\" height=\"45.9375\" id=\"E3\" style=\"stroke: #383838; stroke-width: 1.5;\" width=\"66\" x=\"121\" y=\"212\"/><text fill=\"#000000\" font-family=\"sans-serif\" font-size=\"12\" font-style=\"italic\" lengthAdjust=\"spacingAndGlyphs\" textLength=\"64\" x=\"122\" y=\"228.1387\">«part def»</text><text fill=\"#000000\" font-family=\"sans-serif\" font-size=\"12\" lengthAdjust=\"spacingAndGlyphs\" textLength=\"8\" x=\"150\" y=\"242.1074\">A</text><line style=\"stroke: #383838; stroke-width: 1.5;\" x1=\"122\" x2=\"186\" y1=\"249.9375\" y2=\"249.9375\"/></a><!--MD5=[60a26617385b1d2d0262a64233df1f8d]\n",
       "class E6--><a href=\"psysml:411a4236-fb50-40bf-b31c-7cf2c008c402\" target=\"_top\" title=\"psysml:411a4236-fb50-40bf-b31c-7cf2c008c402\" xlink:actuate=\"onRequest\" xlink:href=\"psysml:411a4236-fb50-40bf-b31c-7cf2c008c402\" xlink:show=\"new\" xlink:title=\"psysml:411a4236-fb50-40bf-b31c-7cf2c008c402\" xlink:type=\"simple\"><rect fill=\"#FFFFFF\" height=\"45.9375\" id=\"E6\" rx=\"10\" ry=\"10\" style=\"stroke: #383838; stroke-width: 1.5;\" width=\"42\" x=\"145\" y=\"87.5\"/><text fill=\"#000000\" font-family=\"sans-serif\" font-size=\"12\" font-style=\"italic\" lengthAdjust=\"spacingAndGlyphs\" textLength=\"40\" x=\"146\" y=\"103.6387\">«part»</text><text fill=\"#000000\" font-family=\"sans-serif\" font-size=\"12\" lengthAdjust=\"spacingAndGlyphs\" textLength=\"22\" x=\"155\" y=\"117.6074\">x: A</text><line style=\"stroke: #383838; stroke-width: 1.5;\" x1=\"146\" x2=\"186\" y1=\"125.4375\" y2=\"125.4375\"/></a><a href=\"psysml:806dfed2-196c-4937-8c4a-4cb4ed2b492f\" target=\"_top\" title=\"psysml:806dfed2-196c-4937-8c4a-4cb4ed2b492f\" xlink:actuate=\"onRequest\" xlink:href=\"psysml:806dfed2-196c-4937-8c4a-4cb4ed2b492f\" xlink:show=\"new\" xlink:title=\"psysml:806dfed2-196c-4937-8c4a-4cb4ed2b492f\" xlink:type=\"simple\"><polygon fill=\"#FFFFFF\" points=\"60.5,84,95.5,84,102.5,106.2969,109.5,106.2969,109.5,136.5938,60.5,136.5938,60.5,84\" style=\"stroke: #000000; stroke-width: 1.5;\"/><line style=\"stroke: #000000; stroke-width: 1.5;\" x1=\"60.5\" x2=\"102.5\" y1=\"106.2969\" y2=\"106.2969\"/><text fill=\"#000000\" font-family=\"sans-serif\" font-size=\"14\" font-weight=\"bold\" lengthAdjust=\"spacingAndGlyphs\" textLength=\"29\" x=\"64.5\" y=\"98.9951\">P2a</text></a><!--MD5=[a717450b82c80b9240a525fa862496af]\n",
       "link E6 to E3--><a href=\"psysml:65a94b24-3d9f-4a56-873a-c3d993dcfd1a\" target=\"_top\" title=\"psysml:65a94b24-3d9f-4a56-873a-c3d993dcfd1a\" xlink:actuate=\"onRequest\" xlink:href=\"psysml:65a94b24-3d9f-4a56-873a-c3d993dcfd1a\" xlink:show=\"new\" xlink:title=\"psysml:65a94b24-3d9f-4a56-873a-c3d993dcfd1a\" xlink:type=\"simple\"><path d=\"M163.83,133.68 C162.24,149.9 160.04,172.39 158.12,191.96 \" fill=\"none\" id=\"E6-&gt;E3\" style=\"stroke: #383838; stroke-width: 1.0;\"/><polygon fill=\"#FFFFFF\" points=\"156.16,211.98,151.0533,192.3861,164.986,193.7564,156.16,211.98\" style=\"stroke: #383838; stroke-width: 1.0;\"/><ellipse cx=\"153.6016\" cy=\"186.9092\" fill=\"#383838\" rx=\"2\" ry=\"2\" style=\"stroke: #383838; stroke-width: 1.0;\"/><ellipse cx=\"163.5535\" cy=\"187.888\" fill=\"#383838\" rx=\"2\" ry=\"2\" style=\"stroke: #383838; stroke-width: 1.0;\"/></a><!--MD5=[8f4230e9db1c228dc5bddd5848a22a5f]\n",
       "@startuml\r\n",
       "skinparam linetype polyline\r\n",
       "skinparam monochrome true\r\n",
       "skinparam classbackgroundcolor white\r\n",
       "skinparam shadowing false\r\n",
       "skinparam wrapWidth 300\r\n",
       "hide circle\r\n",
       "\r\n",
       "package \"QualifiedNameImportTest\" as E1  [[psysml:825b0528-a754-4768-92c2-54c3479055c4 ]]  {\r\n",
       "package \"P1\" as E2  [[psysml:a3fdeae3-ca66-43fb-8ea3-ccc1fec12162 ]]  {\r\n",
       "comp def \"A\" as E3  <<(T,blue)part def>> [[psysml:383f729c-d04b-4502-922b-14a45e711088 ]] {\r\n",
       "}\r\n",
       "}\r\n",
       "package \"P2\" as E4  [[psysml:f7e915ae-81d4-47d2-8346-f23cee504381 ]]  {\r\n",
       "package \"P2a\" as E5  [[psysml:806dfed2-196c-4937-8c4a-4cb4ed2b492f ]]  {\r\n",
       "}\r\n",
       "comp usage \"x: A\" as E6  <<(T,blue)part>> [[psysml:411a4236-fb50-40bf-b31c-7cf2c008c402 ]] {\r\n",
       "}\r\n",
       "E6 - -:|> E3 [[psysml:65a94b24-3d9f-4a56-873a-c3d993dcfd1a ]] \r\n",
       "}\r\n",
       "}\r\n",
       "@enduml\r\n",
       "\n",
       "PlantUML version 1.2020.13(Sat Jun 13 12:26:38 UTC 2020)\n",
       "(EPL source distribution)\n",
       "Java Runtime: OpenJDK Runtime Environment\n",
       "JVM: OpenJDK 64-Bit Server VM\n",
       "Default Encoding: UTF-8\n",
       "Language: en\n",
       "Country: null\n",
       "--></g></svg>"
      ]
     },
     "execution_count": 15,
     "metadata": {},
     "output_type": "execute_result"
    }
   ],
   "source": [
    "%viz --style=\"POLYLINE\" --view=\"MIXED\" \"QualifiedNameImportTest\""
   ]
  },
  {
   "cell_type": "code",
   "execution_count": 16,
   "id": "warming-theory",
   "metadata": {
    "execution": {
     "iopub.execute_input": "2021-03-25T15:09:12.613846Z",
     "iopub.status.busy": "2021-03-25T15:09:12.612567Z",
     "iopub.status.idle": "2021-03-25T15:09:12.680175Z",
     "shell.execute_reply": "2021-03-25T15:09:12.679767Z"
    }
   },
   "outputs": [
    {
     "data": {
      "image/svg+xml": [
       "<?xml version=\"1.0\" encoding=\"UTF-8\" standalone=\"no\"?><svg xmlns=\"http://www.w3.org/2000/svg\" xmlns:xlink=\"http://www.w3.org/1999/xlink\" contentScriptType=\"application/ecmascript\" contentStyleType=\"text/css\" height=\"271px\" preserveAspectRatio=\"none\" style=\"width:293px;height:271px;\" version=\"1.1\" viewBox=\"0 0 293 271\" width=\"293px\" zoomAndPan=\"magnify\"><defs/><g><!--MD5=[fbc87193dbaf4d95561dea2c320d4a47]\n",
       "cluster E1--><a href=\"psysml:825b0528-a754-4768-92c2-54c3479055c4\" target=\"_top\" title=\"psysml:825b0528-a754-4768-92c2-54c3479055c4\" xlink:actuate=\"onRequest\" xlink:href=\"psysml:825b0528-a754-4768-92c2-54c3479055c4\" xlink:show=\"new\" xlink:title=\"psysml:825b0528-a754-4768-92c2-54c3479055c4\" xlink:type=\"simple\"><polygon fill=\"#FFFFFF\" points=\"16,6,221,6,228,28.2969,271,28.2969,271,259,16,259,16,6\" style=\"stroke: #000000; stroke-width: 1.5;\"/><line style=\"stroke: #000000; stroke-width: 1.5;\" x1=\"16\" x2=\"228\" y1=\"28.2969\" y2=\"28.2969\"/><text fill=\"#000000\" font-family=\"sans-serif\" font-size=\"14\" font-weight=\"bold\" lengthAdjust=\"spacingAndGlyphs\" textLength=\"199\" x=\"20\" y=\"20.9951\">QualifiedNameImportTest</text></a><!--MD5=[e4f7fae6ed58524ba242bb0b0d3be6b7]\n",
       "cluster E2--><a href=\"psysml:a3fdeae3-ca66-43fb-8ea3-ccc1fec12162\" target=\"_top\" title=\"psysml:a3fdeae3-ca66-43fb-8ea3-ccc1fec12162\" xlink:actuate=\"onRequest\" xlink:href=\"psysml:a3fdeae3-ca66-43fb-8ea3-ccc1fec12162\" xlink:show=\"new\" xlink:title=\"psysml:a3fdeae3-ca66-43fb-8ea3-ccc1fec12162\" xlink:type=\"simple\"><polygon fill=\"#FFFFFF\" points=\"149,49,175,49,182,71.2969,247,71.2969,247,146,149,146,149,49\" style=\"stroke: #000000; stroke-width: 1.5;\"/><line style=\"stroke: #000000; stroke-width: 1.5;\" x1=\"149\" x2=\"182\" y1=\"71.2969\" y2=\"71.2969\"/><text fill=\"#000000\" font-family=\"sans-serif\" font-size=\"14\" font-weight=\"bold\" lengthAdjust=\"spacingAndGlyphs\" textLength=\"20\" x=\"153\" y=\"63.9951\">P1</text></a><!--MD5=[f6df4d0ebaf0b5dfb2ced0ae5af7c670]\n",
       "cluster E4--><a href=\"psysml:f7e915ae-81d4-47d2-8346-f23cee504381\" target=\"_top\" title=\"psysml:f7e915ae-81d4-47d2-8346-f23cee504381\" xlink:actuate=\"onRequest\" xlink:href=\"psysml:f7e915ae-81d4-47d2-8346-f23cee504381\" xlink:show=\"new\" xlink:title=\"psysml:f7e915ae-81d4-47d2-8346-f23cee504381\" xlink:type=\"simple\"><polygon fill=\"#FFFFFF\" points=\"40,49,66,49,73,71.2969,121,71.2969,121,235,40,235,40,49\" style=\"stroke: #000000; stroke-width: 1.5;\"/><line style=\"stroke: #000000; stroke-width: 1.5;\" x1=\"40\" x2=\"73\" y1=\"71.2969\" y2=\"71.2969\"/><text fill=\"#000000\" font-family=\"sans-serif\" font-size=\"14\" font-weight=\"bold\" lengthAdjust=\"spacingAndGlyphs\" textLength=\"20\" x=\"44\" y=\"63.9951\">P2</text></a><!--MD5=[09b614a08d8cba4a07c9adeb5e0fee81]\n",
       "class E3--><a href=\"psysml:383f729c-d04b-4502-922b-14a45e711088\" target=\"_top\" title=\"psysml:383f729c-d04b-4502-922b-14a45e711088\" xlink:actuate=\"onRequest\" xlink:href=\"psysml:383f729c-d04b-4502-922b-14a45e711088\" xlink:show=\"new\" xlink:title=\"psysml:383f729c-d04b-4502-922b-14a45e711088\" xlink:type=\"simple\"><rect fill=\"#FFFFFF\" height=\"45.9375\" id=\"E3\" style=\"stroke: #383838; stroke-width: 1.5;\" width=\"66\" x=\"165\" y=\"84\"/><text fill=\"#000000\" font-family=\"sans-serif\" font-size=\"12\" font-style=\"italic\" lengthAdjust=\"spacingAndGlyphs\" textLength=\"64\" x=\"166\" y=\"100.1387\">«part def»</text><text fill=\"#000000\" font-family=\"sans-serif\" font-size=\"12\" lengthAdjust=\"spacingAndGlyphs\" textLength=\"8\" x=\"194\" y=\"114.1074\">A</text><line style=\"stroke: #383838; stroke-width: 1.5;\" x1=\"166\" x2=\"230\" y1=\"121.9375\" y2=\"121.9375\"/></a><!--MD5=[60a26617385b1d2d0262a64233df1f8d]\n",
       "class E6--><a href=\"psysml:411a4236-fb50-40bf-b31c-7cf2c008c402\" target=\"_top\" title=\"psysml:411a4236-fb50-40bf-b31c-7cf2c008c402\" xlink:actuate=\"onRequest\" xlink:href=\"psysml:411a4236-fb50-40bf-b31c-7cf2c008c402\" xlink:show=\"new\" xlink:title=\"psysml:411a4236-fb50-40bf-b31c-7cf2c008c402\" xlink:type=\"simple\"><rect fill=\"#FFFFFF\" height=\"45.9375\" id=\"E6\" rx=\"10\" ry=\"10\" style=\"stroke: #383838; stroke-width: 1.5;\" width=\"42\" x=\"59.5\" y=\"84\"/><text fill=\"#000000\" font-family=\"sans-serif\" font-size=\"12\" font-style=\"italic\" lengthAdjust=\"spacingAndGlyphs\" textLength=\"40\" x=\"60.5\" y=\"100.1387\">«part»</text><text fill=\"#000000\" font-family=\"sans-serif\" font-size=\"12\" lengthAdjust=\"spacingAndGlyphs\" textLength=\"22\" x=\"69.5\" y=\"114.1074\">x: A</text><line style=\"stroke: #383838; stroke-width: 1.5;\" x1=\"60.5\" x2=\"100.5\" y1=\"121.9375\" y2=\"121.9375\"/></a><a href=\"psysml:806dfed2-196c-4937-8c4a-4cb4ed2b492f\" target=\"_top\" title=\"psysml:806dfed2-196c-4937-8c4a-4cb4ed2b492f\" xlink:actuate=\"onRequest\" xlink:href=\"psysml:806dfed2-196c-4937-8c4a-4cb4ed2b492f\" xlink:show=\"new\" xlink:title=\"psysml:806dfed2-196c-4937-8c4a-4cb4ed2b492f\" xlink:type=\"simple\"><polygon fill=\"#FFFFFF\" points=\"56,165.5,91,165.5,98,187.7969,105,187.7969,105,218.0938,56,218.0938,56,165.5\" style=\"stroke: #000000; stroke-width: 1.5;\"/><line style=\"stroke: #000000; stroke-width: 1.5;\" x1=\"56\" x2=\"98\" y1=\"187.7969\" y2=\"187.7969\"/><text fill=\"#000000\" font-family=\"sans-serif\" font-size=\"14\" font-weight=\"bold\" lengthAdjust=\"spacingAndGlyphs\" textLength=\"29\" x=\"60\" y=\"180.4951\">P2a</text></a><!--MD5=[a717450b82c80b9240a525fa862496af]\n",
       "link E6 to E3--><a href=\"psysml:65a94b24-3d9f-4a56-873a-c3d993dcfd1a\" target=\"_top\" title=\"psysml:65a94b24-3d9f-4a56-873a-c3d993dcfd1a\" xlink:actuate=\"onRequest\" xlink:href=\"psysml:65a94b24-3d9f-4a56-873a-c3d993dcfd1a\" xlink:show=\"new\" xlink:title=\"psysml:65a94b24-3d9f-4a56-873a-c3d993dcfd1a\" xlink:type=\"simple\"><path d=\"M101.62,107 C113.62,107 129.45,107 144.76,107 \" fill=\"none\" id=\"E6-&gt;E3\" style=\"stroke: #383838; stroke-width: 1.0;\"/><polygon fill=\"#FFFFFF\" points=\"164.91,107,145.91,114,145.91,100,164.91,107\" style=\"stroke: #383838; stroke-width: 1.0;\"/><ellipse cx=\"140.21\" cy=\"112\" fill=\"#383838\" rx=\"2\" ry=\"2\" style=\"stroke: #383838; stroke-width: 1.0;\"/><ellipse cx=\"140.21\" cy=\"102\" fill=\"#383838\" rx=\"2\" ry=\"2\" style=\"stroke: #383838; stroke-width: 1.0;\"/></a><!--MD5=[e23a54fafeefe38581e065f78c016f7e]\n",
       "@startuml\r\n",
       "left to right direction\r\n",
       "skinparam monochrome true\r\n",
       "skinparam classbackgroundcolor white\r\n",
       "skinparam shadowing false\r\n",
       "skinparam wrapWidth 300\r\n",
       "hide circle\r\n",
       "\r\n",
       "package \"QualifiedNameImportTest\" as E1  [[psysml:825b0528-a754-4768-92c2-54c3479055c4 ]]  {\r\n",
       "package \"P1\" as E2  [[psysml:a3fdeae3-ca66-43fb-8ea3-ccc1fec12162 ]]  {\r\n",
       "comp def \"A\" as E3  <<(T,blue)part def>> [[psysml:383f729c-d04b-4502-922b-14a45e711088 ]] {\r\n",
       "}\r\n",
       "}\r\n",
       "package \"P2\" as E4  [[psysml:f7e915ae-81d4-47d2-8346-f23cee504381 ]]  {\r\n",
       "package \"P2a\" as E5  [[psysml:806dfed2-196c-4937-8c4a-4cb4ed2b492f ]]  {\r\n",
       "}\r\n",
       "comp usage \"x: A\" as E6  <<(T,blue)part>> [[psysml:411a4236-fb50-40bf-b31c-7cf2c008c402 ]] {\r\n",
       "}\r\n",
       "E6 - -:|> E3 [[psysml:65a94b24-3d9f-4a56-873a-c3d993dcfd1a ]] \r\n",
       "}\r\n",
       "}\r\n",
       "@enduml\r\n",
       "\n",
       "PlantUML version 1.2020.13(Sat Jun 13 12:26:38 UTC 2020)\n",
       "(EPL source distribution)\n",
       "Java Runtime: OpenJDK Runtime Environment\n",
       "JVM: OpenJDK 64-Bit Server VM\n",
       "Default Encoding: UTF-8\n",
       "Language: en\n",
       "Country: null\n",
       "--></g></svg>"
      ]
     },
     "execution_count": 16,
     "metadata": {},
     "output_type": "execute_result"
    }
   ],
   "source": [
    "%viz --style=\"LR\" --view=\"Default\" \"QualifiedNameImportTest\""
   ]
  },
  {
   "cell_type": "code",
   "execution_count": 17,
   "id": "nonprofit-recommendation",
   "metadata": {
    "execution": {
     "iopub.execute_input": "2021-03-25T15:09:12.731032Z",
     "iopub.status.busy": "2021-03-25T15:09:12.730434Z",
     "iopub.status.idle": "2021-03-25T15:09:12.800003Z",
     "shell.execute_reply": "2021-03-25T15:09:12.798404Z"
    }
   },
   "outputs": [
    {
     "data": {
      "image/svg+xml": [
       "<?xml version=\"1.0\" encoding=\"UTF-8\" standalone=\"no\"?><svg xmlns=\"http://www.w3.org/2000/svg\" xmlns:xlink=\"http://www.w3.org/1999/xlink\" contentScriptType=\"application/ecmascript\" contentStyleType=\"text/css\" height=\"271px\" preserveAspectRatio=\"none\" style=\"width:293px;height:271px;\" version=\"1.1\" viewBox=\"0 0 293 271\" width=\"293px\" zoomAndPan=\"magnify\"><defs/><g><!--MD5=[fbc87193dbaf4d95561dea2c320d4a47]\n",
       "cluster E1--><a href=\"psysml:825b0528-a754-4768-92c2-54c3479055c4\" target=\"_top\" title=\"psysml:825b0528-a754-4768-92c2-54c3479055c4\" xlink:actuate=\"onRequest\" xlink:href=\"psysml:825b0528-a754-4768-92c2-54c3479055c4\" xlink:show=\"new\" xlink:title=\"psysml:825b0528-a754-4768-92c2-54c3479055c4\" xlink:type=\"simple\"><polygon fill=\"#FFFFFF\" points=\"16,6,221,6,228,28.2969,271,28.2969,271,259,16,259,16,6\" style=\"stroke: #000000; stroke-width: 1.5;\"/><line style=\"stroke: #000000; stroke-width: 1.5;\" x1=\"16\" x2=\"228\" y1=\"28.2969\" y2=\"28.2969\"/><text fill=\"#000000\" font-family=\"sans-serif\" font-size=\"14\" font-weight=\"bold\" lengthAdjust=\"spacingAndGlyphs\" textLength=\"199\" x=\"20\" y=\"20.9951\">QualifiedNameImportTest</text></a><!--MD5=[e4f7fae6ed58524ba242bb0b0d3be6b7]\n",
       "cluster E2--><a href=\"psysml:a3fdeae3-ca66-43fb-8ea3-ccc1fec12162\" target=\"_top\" title=\"psysml:a3fdeae3-ca66-43fb-8ea3-ccc1fec12162\" xlink:actuate=\"onRequest\" xlink:href=\"psysml:a3fdeae3-ca66-43fb-8ea3-ccc1fec12162\" xlink:show=\"new\" xlink:title=\"psysml:a3fdeae3-ca66-43fb-8ea3-ccc1fec12162\" xlink:type=\"simple\"><polygon fill=\"#FFFFFF\" points=\"149,49,175,49,182,71.2969,247,71.2969,247,146,149,146,149,49\" style=\"stroke: #000000; stroke-width: 1.5;\"/><line style=\"stroke: #000000; stroke-width: 1.5;\" x1=\"149\" x2=\"182\" y1=\"71.2969\" y2=\"71.2969\"/><text fill=\"#000000\" font-family=\"sans-serif\" font-size=\"14\" font-weight=\"bold\" lengthAdjust=\"spacingAndGlyphs\" textLength=\"20\" x=\"153\" y=\"63.9951\">P1</text></a><!--MD5=[f6df4d0ebaf0b5dfb2ced0ae5af7c670]\n",
       "cluster E4--><a href=\"psysml:f7e915ae-81d4-47d2-8346-f23cee504381\" target=\"_top\" title=\"psysml:f7e915ae-81d4-47d2-8346-f23cee504381\" xlink:actuate=\"onRequest\" xlink:href=\"psysml:f7e915ae-81d4-47d2-8346-f23cee504381\" xlink:show=\"new\" xlink:title=\"psysml:f7e915ae-81d4-47d2-8346-f23cee504381\" xlink:type=\"simple\"><polygon fill=\"#FFFFFF\" points=\"40,49,66,49,73,71.2969,121,71.2969,121,235,40,235,40,49\" style=\"stroke: #000000; stroke-width: 1.5;\"/><line style=\"stroke: #000000; stroke-width: 1.5;\" x1=\"40\" x2=\"73\" y1=\"71.2969\" y2=\"71.2969\"/><text fill=\"#000000\" font-family=\"sans-serif\" font-size=\"14\" font-weight=\"bold\" lengthAdjust=\"spacingAndGlyphs\" textLength=\"20\" x=\"44\" y=\"63.9951\">P2</text></a><!--MD5=[09b614a08d8cba4a07c9adeb5e0fee81]\n",
       "class E3--><a href=\"psysml:383f729c-d04b-4502-922b-14a45e711088\" target=\"_top\" title=\"psysml:383f729c-d04b-4502-922b-14a45e711088\" xlink:actuate=\"onRequest\" xlink:href=\"psysml:383f729c-d04b-4502-922b-14a45e711088\" xlink:show=\"new\" xlink:title=\"psysml:383f729c-d04b-4502-922b-14a45e711088\" xlink:type=\"simple\"><rect fill=\"#FFFFFF\" height=\"45.9375\" id=\"E3\" style=\"stroke: #383838; stroke-width: 1.5;\" width=\"66\" x=\"165\" y=\"84\"/><text fill=\"#000000\" font-family=\"sans-serif\" font-size=\"12\" font-style=\"italic\" lengthAdjust=\"spacingAndGlyphs\" textLength=\"64\" x=\"166\" y=\"100.1387\">«part def»</text><text fill=\"#000000\" font-family=\"sans-serif\" font-size=\"12\" lengthAdjust=\"spacingAndGlyphs\" textLength=\"8\" x=\"194\" y=\"114.1074\">A</text><line style=\"stroke: #383838; stroke-width: 1.5;\" x1=\"166\" x2=\"230\" y1=\"121.9375\" y2=\"121.9375\"/></a><!--MD5=[60a26617385b1d2d0262a64233df1f8d]\n",
       "class E6--><a href=\"psysml:411a4236-fb50-40bf-b31c-7cf2c008c402\" target=\"_top\" title=\"psysml:411a4236-fb50-40bf-b31c-7cf2c008c402\" xlink:actuate=\"onRequest\" xlink:href=\"psysml:411a4236-fb50-40bf-b31c-7cf2c008c402\" xlink:show=\"new\" xlink:title=\"psysml:411a4236-fb50-40bf-b31c-7cf2c008c402\" xlink:type=\"simple\"><rect fill=\"#FFFFFF\" height=\"45.9375\" id=\"E6\" rx=\"10\" ry=\"10\" style=\"stroke: #383838; stroke-width: 1.5;\" width=\"42\" x=\"59.5\" y=\"84\"/><text fill=\"#000000\" font-family=\"sans-serif\" font-size=\"12\" font-style=\"italic\" lengthAdjust=\"spacingAndGlyphs\" textLength=\"40\" x=\"60.5\" y=\"100.1387\">«part»</text><text fill=\"#000000\" font-family=\"sans-serif\" font-size=\"12\" lengthAdjust=\"spacingAndGlyphs\" textLength=\"22\" x=\"69.5\" y=\"114.1074\">x: A</text><line style=\"stroke: #383838; stroke-width: 1.5;\" x1=\"60.5\" x2=\"100.5\" y1=\"121.9375\" y2=\"121.9375\"/></a><a href=\"psysml:806dfed2-196c-4937-8c4a-4cb4ed2b492f\" target=\"_top\" title=\"psysml:806dfed2-196c-4937-8c4a-4cb4ed2b492f\" xlink:actuate=\"onRequest\" xlink:href=\"psysml:806dfed2-196c-4937-8c4a-4cb4ed2b492f\" xlink:show=\"new\" xlink:title=\"psysml:806dfed2-196c-4937-8c4a-4cb4ed2b492f\" xlink:type=\"simple\"><polygon fill=\"#FFFFFF\" points=\"56,165.5,91,165.5,98,187.7969,105,187.7969,105,218.0938,56,218.0938,56,165.5\" style=\"stroke: #000000; stroke-width: 1.5;\"/><line style=\"stroke: #000000; stroke-width: 1.5;\" x1=\"56\" x2=\"98\" y1=\"187.7969\" y2=\"187.7969\"/><text fill=\"#000000\" font-family=\"sans-serif\" font-size=\"14\" font-weight=\"bold\" lengthAdjust=\"spacingAndGlyphs\" textLength=\"29\" x=\"60\" y=\"180.4951\">P2a</text></a><!--MD5=[a717450b82c80b9240a525fa862496af]\n",
       "link E6 to E3--><a href=\"psysml:65a94b24-3d9f-4a56-873a-c3d993dcfd1a\" target=\"_top\" title=\"psysml:65a94b24-3d9f-4a56-873a-c3d993dcfd1a\" xlink:actuate=\"onRequest\" xlink:href=\"psysml:65a94b24-3d9f-4a56-873a-c3d993dcfd1a\" xlink:show=\"new\" xlink:title=\"psysml:65a94b24-3d9f-4a56-873a-c3d993dcfd1a\" xlink:type=\"simple\"><path d=\"M101.62,107 C113.62,107 129.45,107 144.76,107 \" fill=\"none\" id=\"E6-&gt;E3\" style=\"stroke: #383838; stroke-width: 1.0;\"/><polygon fill=\"#FFFFFF\" points=\"164.91,107,145.91,114,145.91,100,164.91,107\" style=\"stroke: #383838; stroke-width: 1.0;\"/><ellipse cx=\"140.21\" cy=\"112\" fill=\"#383838\" rx=\"2\" ry=\"2\" style=\"stroke: #383838; stroke-width: 1.0;\"/><ellipse cx=\"140.21\" cy=\"102\" fill=\"#383838\" rx=\"2\" ry=\"2\" style=\"stroke: #383838; stroke-width: 1.0;\"/></a><!--MD5=[e23a54fafeefe38581e065f78c016f7e]\n",
       "@startuml\r\n",
       "left to right direction\r\n",
       "skinparam monochrome true\r\n",
       "skinparam classbackgroundcolor white\r\n",
       "skinparam shadowing false\r\n",
       "skinparam wrapWidth 300\r\n",
       "hide circle\r\n",
       "\r\n",
       "package \"QualifiedNameImportTest\" as E1  [[psysml:825b0528-a754-4768-92c2-54c3479055c4 ]]  {\r\n",
       "package \"P1\" as E2  [[psysml:a3fdeae3-ca66-43fb-8ea3-ccc1fec12162 ]]  {\r\n",
       "comp def \"A\" as E3  <<(T,blue)part def>> [[psysml:383f729c-d04b-4502-922b-14a45e711088 ]] {\r\n",
       "}\r\n",
       "}\r\n",
       "package \"P2\" as E4  [[psysml:f7e915ae-81d4-47d2-8346-f23cee504381 ]]  {\r\n",
       "package \"P2a\" as E5  [[psysml:806dfed2-196c-4937-8c4a-4cb4ed2b492f ]]  {\r\n",
       "}\r\n",
       "comp usage \"x: A\" as E6  <<(T,blue)part>> [[psysml:411a4236-fb50-40bf-b31c-7cf2c008c402 ]] {\r\n",
       "}\r\n",
       "E6 - -:|> E3 [[psysml:65a94b24-3d9f-4a56-873a-c3d993dcfd1a ]] \r\n",
       "}\r\n",
       "}\r\n",
       "@enduml\r\n",
       "\n",
       "PlantUML version 1.2020.13(Sat Jun 13 12:26:38 UTC 2020)\n",
       "(EPL source distribution)\n",
       "Java Runtime: OpenJDK Runtime Environment\n",
       "JVM: OpenJDK 64-Bit Server VM\n",
       "Default Encoding: UTF-8\n",
       "Language: en\n",
       "Country: null\n",
       "--></g></svg>"
      ]
     },
     "execution_count": 17,
     "metadata": {},
     "output_type": "execute_result"
    }
   ],
   "source": [
    "%viz --style=\"LR\" --view=\"Tree\" \"QualifiedNameImportTest\""
   ]
  },
  {
   "cell_type": "code",
   "execution_count": 18,
   "id": "increased-start",
   "metadata": {
    "execution": {
     "iopub.execute_input": "2021-03-25T15:09:12.850895Z",
     "iopub.status.busy": "2021-03-25T15:09:12.850194Z",
     "iopub.status.idle": "2021-03-25T15:09:12.858041Z",
     "shell.execute_reply": "2021-03-25T15:09:12.858414Z"
    }
   },
   "outputs": [
    {
     "data": {
      "image/svg+xml": [
       "<?xml version=\"1.0\" encoding=\"UTF-8\" standalone=\"no\"?><svg xmlns=\"http://www.w3.org/2000/svg\" xmlns:xlink=\"http://www.w3.org/1999/xlink\" contentScriptType=\"application/ecmascript\" contentStyleType=\"text/css\" height=\"12px\" preserveAspectRatio=\"none\" style=\"width:12px;height:12px;\" version=\"1.1\" viewBox=\"0 0 12 12\" width=\"12px\" zoomAndPan=\"magnify\"><defs/><g><!--MD5=[19d285c9d72a204eba4e2cd117d745e8]\n",
       "@startuml\r\n",
       "left to right direction\r\n",
       "skinparam monochrome true\r\n",
       "skinparam classbackgroundcolor white\r\n",
       "skinparam shadowing false\r\n",
       "skinparam wrapWidth 300\r\n",
       "hide circle\r\n",
       "\r\n",
       "@enduml\r\n",
       "\n",
       "PlantUML version 1.2020.13(Sat Jun 13 12:26:38 UTC 2020)\n",
       "(EPL source distribution)\n",
       "Java Runtime: OpenJDK Runtime Environment\n",
       "JVM: OpenJDK 64-Bit Server VM\n",
       "Default Encoding: UTF-8\n",
       "Language: en\n",
       "Country: null\n",
       "--></g></svg>"
      ]
     },
     "execution_count": 18,
     "metadata": {},
     "output_type": "execute_result"
    }
   ],
   "source": [
    "%viz --style=\"LR\" --view=\"State\" \"QualifiedNameImportTest\""
   ]
  },
  {
   "cell_type": "code",
   "execution_count": 19,
   "id": "acoustic-warner",
   "metadata": {
    "execution": {
     "iopub.execute_input": "2021-03-25T15:09:12.910895Z",
     "iopub.status.busy": "2021-03-25T15:09:12.910357Z",
     "iopub.status.idle": "2021-03-25T15:09:12.972115Z",
     "shell.execute_reply": "2021-03-25T15:09:12.970577Z"
    }
   },
   "outputs": [
    {
     "data": {
      "image/svg+xml": [
       "<?xml version=\"1.0\" encoding=\"UTF-8\" standalone=\"no\"?><svg xmlns=\"http://www.w3.org/2000/svg\" xmlns:xlink=\"http://www.w3.org/1999/xlink\" contentScriptType=\"application/ecmascript\" contentStyleType=\"text/css\" height=\"384px\" preserveAspectRatio=\"none\" style=\"width:253px;height:384px;\" version=\"1.1\" viewBox=\"0 0 253 384\" width=\"253px\" zoomAndPan=\"magnify\"><defs/><g><!--MD5=[fbc87193dbaf4d95561dea2c320d4a47]\n",
       "cluster E1--><a href=\"psysml:825b0528-a754-4768-92c2-54c3479055c4\" target=\"_top\" title=\"psysml:825b0528-a754-4768-92c2-54c3479055c4\" xlink:actuate=\"onRequest\" xlink:href=\"psysml:825b0528-a754-4768-92c2-54c3479055c4\" xlink:show=\"new\" xlink:title=\"psysml:825b0528-a754-4768-92c2-54c3479055c4\" xlink:type=\"simple\"><polygon fill=\"#FFFFFF\" points=\"16,6,221,6,228,28.2969,231,28.2969,231,372,16,372,16,6\" style=\"stroke: #000000; stroke-width: 1.5;\"/><line style=\"stroke: #000000; stroke-width: 1.5;\" x1=\"16\" x2=\"228\" y1=\"28.2969\" y2=\"28.2969\"/><text fill=\"#000000\" font-family=\"sans-serif\" font-size=\"14\" font-weight=\"bold\" lengthAdjust=\"spacingAndGlyphs\" textLength=\"199\" x=\"20\" y=\"20.9951\">QualifiedNameImportTest</text></a><!--MD5=[e4f7fae6ed58524ba242bb0b0d3be6b7]\n",
       "cluster E2--><a href=\"psysml:a3fdeae3-ca66-43fb-8ea3-ccc1fec12162\" target=\"_top\" title=\"psysml:a3fdeae3-ca66-43fb-8ea3-ccc1fec12162\" xlink:actuate=\"onRequest\" xlink:href=\"psysml:a3fdeae3-ca66-43fb-8ea3-ccc1fec12162\" xlink:show=\"new\" xlink:title=\"psysml:a3fdeae3-ca66-43fb-8ea3-ccc1fec12162\" xlink:type=\"simple\"><polygon fill=\"#FFFFFF\" points=\"72,49,98,49,105,71.2969,175,71.2969,175,144,72,144,72,49\" style=\"stroke: #000000; stroke-width: 1.5;\"/><line style=\"stroke: #000000; stroke-width: 1.5;\" x1=\"72\" x2=\"105\" y1=\"71.2969\" y2=\"71.2969\"/><text fill=\"#000000\" font-family=\"sans-serif\" font-size=\"14\" font-weight=\"bold\" lengthAdjust=\"spacingAndGlyphs\" textLength=\"20\" x=\"76\" y=\"63.9951\">P1</text></a><!--MD5=[f6df4d0ebaf0b5dfb2ced0ae5af7c670]\n",
       "cluster E4--><a href=\"psysml:f7e915ae-81d4-47d2-8346-f23cee504381\" target=\"_top\" title=\"psysml:f7e915ae-81d4-47d2-8346-f23cee504381\" xlink:actuate=\"onRequest\" xlink:href=\"psysml:f7e915ae-81d4-47d2-8346-f23cee504381\" xlink:show=\"new\" xlink:title=\"psysml:f7e915ae-81d4-47d2-8346-f23cee504381\" xlink:type=\"simple\"><polygon fill=\"#FFFFFF\" points=\"82.5,168,108.5,168,115.5,190.2969,164.5,190.2969,164.5,348,82.5,348,82.5,168\" style=\"stroke: #000000; stroke-width: 1.5;\"/><line style=\"stroke: #000000; stroke-width: 1.5;\" x1=\"82.5\" x2=\"115.5\" y1=\"190.2969\" y2=\"190.2969\"/><text fill=\"#000000\" font-family=\"sans-serif\" font-size=\"14\" font-weight=\"bold\" lengthAdjust=\"spacingAndGlyphs\" textLength=\"20\" x=\"86.5\" y=\"182.9951\">P2</text></a><g id=\"E1.E2.E3\"><a href=\"psysml:383f729c-d04b-4502-922b-14a45e711088\" target=\"_top\" title=\"psysml:383f729c-d04b-4502-922b-14a45e711088\" xlink:actuate=\"onRequest\" xlink:href=\"psysml:383f729c-d04b-4502-922b-14a45e711088\" xlink:show=\"new\" xlink:title=\"psysml:383f729c-d04b-4502-922b-14a45e711088\" xlink:type=\"simple\"><rect fill=\"#FFFFFF\" height=\"42.9375\" id=\"E3\" style=\"stroke: #383838; stroke-width: 1.5;\" width=\"71\" x=\"88\" y=\"84.5\"/><rect fill=\"#F8F8F8\" height=\"37.9375\" style=\"stroke: #383838; stroke-width: 1.5;\" width=\"71\" x=\"88\" y=\"84.5\"/><text fill=\"#000000\" font-family=\"sans-serif\" font-size=\"12\" font-style=\"italic\" lengthAdjust=\"spacingAndGlyphs\" textLength=\"64\" x=\"91.5\" y=\"100.6387\">«part def»</text><text fill=\"#000000\" font-family=\"sans-serif\" font-size=\"12\" lengthAdjust=\"spacingAndGlyphs\" textLength=\"8\" x=\"119.5\" y=\"114.6074\">A</text></a></g><a href=\"psysml:806dfed2-196c-4937-8c4a-4cb4ed2b492f\" target=\"_top\" title=\"psysml:806dfed2-196c-4937-8c4a-4cb4ed2b492f\" xlink:actuate=\"onRequest\" xlink:href=\"psysml:806dfed2-196c-4937-8c4a-4cb4ed2b492f\" xlink:show=\"new\" xlink:title=\"psysml:806dfed2-196c-4937-8c4a-4cb4ed2b492f\" xlink:type=\"simple\"><polygon fill=\"#FFFFFF\" points=\"99,203.5,134,203.5,141,225.7969,148,225.7969,148,256.0938,99,256.0938,99,203.5\" style=\"stroke: #000000; stroke-width: 1.5;\"/><line style=\"stroke: #000000; stroke-width: 1.5;\" x1=\"99\" x2=\"141\" y1=\"225.7969\" y2=\"225.7969\"/><text fill=\"#000000\" font-family=\"sans-serif\" font-size=\"14\" font-weight=\"bold\" lengthAdjust=\"spacingAndGlyphs\" textLength=\"29\" x=\"103\" y=\"218.4951\">P2a</text></a><g id=\"E1.E4.E6\"><a href=\"psysml:411a4236-fb50-40bf-b31c-7cf2c008c402\" target=\"_top\" title=\"psysml:411a4236-fb50-40bf-b31c-7cf2c008c402\" xlink:actuate=\"onRequest\" xlink:href=\"psysml:411a4236-fb50-40bf-b31c-7cf2c008c402\" xlink:show=\"new\" xlink:title=\"psysml:411a4236-fb50-40bf-b31c-7cf2c008c402\" xlink:type=\"simple\"><rect fill=\"#FFFFFF\" height=\"40\" id=\"E6\" rx=\"10\" ry=\"10\" style=\"stroke: #383838; stroke-width: 1.5;\" width=\"50\" x=\"98.5\" y=\"292\"/><rect fill=\"#F8F8F8\" height=\"23.9688\" rx=\"10\" ry=\"10\" style=\"stroke: #F8F8F8; stroke-width: 1.5;\" width=\"50\" x=\"98.5\" y=\"292\"/><rect fill=\"#F8F8F8\" height=\"10\" style=\"stroke: #F8F8F8; stroke-width: 1.5;\" width=\"50\" x=\"98.5\" y=\"305.9688\"/><rect fill=\"none\" height=\"40\" id=\"E6\" rx=\"10\" ry=\"10\" style=\"stroke: #383838; stroke-width: 1.5;\" width=\"50\" x=\"98.5\" y=\"292\"/><text fill=\"#000000\" font-family=\"sans-serif\" font-size=\"12\" lengthAdjust=\"spacingAndGlyphs\" textLength=\"22\" x=\"112.5\" y=\"308.1387\">x: A</text></a></g><!--MD5=[c3746c620dc12f6266211ce4f12aaacf]\n",
       "@startuml\r\n",
       "skinparam ranksep 8\r\n",
       "skinparam rectangle {\r\n",
       " backgroundColor<<block>> LightGreen\r\n",
       "}\r\n",
       "left to right direction\r\n",
       "skinparam monochrome true\r\n",
       "skinparam classbackgroundcolor white\r\n",
       "skinparam shadowing false\r\n",
       "skinparam wrapWidth 300\r\n",
       "hide circle\r\n",
       "\r\n",
       "package \"QualifiedNameImportTest\" as E1  [[psysml:825b0528-a754-4768-92c2-54c3479055c4 ]]  {\r\n",
       "package \"P1\" as E2  [[psysml:a3fdeae3-ca66-43fb-8ea3-ccc1fec12162 ]]  {\r\n",
       "rec def \"A\" as E3  <<(T,blue)part def>> [[psysml:383f729c-d04b-4502-922b-14a45e711088 ]] {\r\n",
       "}\r\n",
       "}\r\n",
       "package \"P2\" as E4  [[psysml:f7e915ae-81d4-47d2-8346-f23cee504381 ]]  {\r\n",
       "package \"P2a\" as E5  [[psysml:806dfed2-196c-4937-8c4a-4cb4ed2b492f ]]  {\r\n",
       "}\r\n",
       "rec usage \"x: A\" as E6  [[psysml:411a4236-fb50-40bf-b31c-7cf2c008c402 ]] {\r\n",
       "}\r\n",
       "}\r\n",
       "}\r\n",
       "@enduml\r\n",
       "\n",
       "PlantUML version 1.2020.13(Sat Jun 13 12:26:38 UTC 2020)\n",
       "(EPL source distribution)\n",
       "Java Runtime: OpenJDK Runtime Environment\n",
       "JVM: OpenJDK 64-Bit Server VM\n",
       "Default Encoding: UTF-8\n",
       "Language: en\n",
       "Country: null\n",
       "--></g></svg>"
      ]
     },
     "execution_count": 19,
     "metadata": {},
     "output_type": "execute_result"
    }
   ],
   "source": [
    "%viz --style=\"LR\" --view=\"Interconnection\" \"QualifiedNameImportTest\""
   ]
  },
  {
   "cell_type": "code",
   "execution_count": 20,
   "id": "dutch-arrival",
   "metadata": {
    "execution": {
     "iopub.execute_input": "2021-03-25T15:09:13.023515Z",
     "iopub.status.busy": "2021-03-25T15:09:13.022566Z",
     "iopub.status.idle": "2021-03-25T15:09:13.030521Z",
     "shell.execute_reply": "2021-03-25T15:09:13.031057Z"
    }
   },
   "outputs": [
    {
     "data": {
      "image/svg+xml": [
       "<?xml version=\"1.0\" encoding=\"UTF-8\" standalone=\"no\"?><svg xmlns=\"http://www.w3.org/2000/svg\" xmlns:xlink=\"http://www.w3.org/1999/xlink\" contentScriptType=\"application/ecmascript\" contentStyleType=\"text/css\" height=\"12px\" preserveAspectRatio=\"none\" style=\"width:12px;height:12px;\" version=\"1.1\" viewBox=\"0 0 12 12\" width=\"12px\" zoomAndPan=\"magnify\"><defs/><g><!--MD5=[7aeb398939421629f6affaa4a1a7b125]\n",
       "@startuml\r\n",
       "skinparam ranksep 8\r\n",
       "left to right direction\r\n",
       "skinparam monochrome true\r\n",
       "skinparam classbackgroundcolor white\r\n",
       "skinparam shadowing false\r\n",
       "skinparam wrapWidth 300\r\n",
       "hide circle\r\n",
       "\r\n",
       "@enduml\r\n",
       "\n",
       "PlantUML version 1.2020.13(Sat Jun 13 12:26:38 UTC 2020)\n",
       "(EPL source distribution)\n",
       "Java Runtime: OpenJDK Runtime Environment\n",
       "JVM: OpenJDK 64-Bit Server VM\n",
       "Default Encoding: UTF-8\n",
       "Language: en\n",
       "Country: null\n",
       "--></g></svg>"
      ]
     },
     "execution_count": 20,
     "metadata": {},
     "output_type": "execute_result"
    }
   ],
   "source": [
    "%viz --style=\"LR\" --view=\"Action\" \"QualifiedNameImportTest\""
   ]
  },
  {
   "cell_type": "code",
   "execution_count": 21,
   "id": "traditional-tackle",
   "metadata": {
    "execution": {
     "iopub.execute_input": "2021-03-25T15:09:13.083265Z",
     "iopub.status.busy": "2021-03-25T15:09:13.082592Z",
     "iopub.status.idle": "2021-03-25T15:09:13.145912Z",
     "shell.execute_reply": "2021-03-25T15:09:13.144509Z"
    }
   },
   "outputs": [
    {
     "data": {
      "image/svg+xml": [
       "<?xml version=\"1.0\" encoding=\"UTF-8\" standalone=\"no\"?><svg xmlns=\"http://www.w3.org/2000/svg\" xmlns:xlink=\"http://www.w3.org/1999/xlink\" contentScriptType=\"application/ecmascript\" contentStyleType=\"text/css\" height=\"271px\" preserveAspectRatio=\"none\" style=\"width:293px;height:271px;\" version=\"1.1\" viewBox=\"0 0 293 271\" width=\"293px\" zoomAndPan=\"magnify\"><defs/><g><!--MD5=[fbc87193dbaf4d95561dea2c320d4a47]\n",
       "cluster E1--><a href=\"psysml:825b0528-a754-4768-92c2-54c3479055c4\" target=\"_top\" title=\"psysml:825b0528-a754-4768-92c2-54c3479055c4\" xlink:actuate=\"onRequest\" xlink:href=\"psysml:825b0528-a754-4768-92c2-54c3479055c4\" xlink:show=\"new\" xlink:title=\"psysml:825b0528-a754-4768-92c2-54c3479055c4\" xlink:type=\"simple\"><polygon fill=\"#FFFFFF\" points=\"16,6,221,6,228,28.2969,271,28.2969,271,259,16,259,16,6\" style=\"stroke: #000000; stroke-width: 1.5;\"/><line style=\"stroke: #000000; stroke-width: 1.5;\" x1=\"16\" x2=\"228\" y1=\"28.2969\" y2=\"28.2969\"/><text fill=\"#000000\" font-family=\"sans-serif\" font-size=\"14\" font-weight=\"bold\" lengthAdjust=\"spacingAndGlyphs\" textLength=\"199\" x=\"20\" y=\"20.9951\">QualifiedNameImportTest</text></a><!--MD5=[e4f7fae6ed58524ba242bb0b0d3be6b7]\n",
       "cluster E2--><a href=\"psysml:a3fdeae3-ca66-43fb-8ea3-ccc1fec12162\" target=\"_top\" title=\"psysml:a3fdeae3-ca66-43fb-8ea3-ccc1fec12162\" xlink:actuate=\"onRequest\" xlink:href=\"psysml:a3fdeae3-ca66-43fb-8ea3-ccc1fec12162\" xlink:show=\"new\" xlink:title=\"psysml:a3fdeae3-ca66-43fb-8ea3-ccc1fec12162\" xlink:type=\"simple\"><polygon fill=\"#FFFFFF\" points=\"149,49,175,49,182,71.2969,247,71.2969,247,146,149,146,149,49\" style=\"stroke: #000000; stroke-width: 1.5;\"/><line style=\"stroke: #000000; stroke-width: 1.5;\" x1=\"149\" x2=\"182\" y1=\"71.2969\" y2=\"71.2969\"/><text fill=\"#000000\" font-family=\"sans-serif\" font-size=\"14\" font-weight=\"bold\" lengthAdjust=\"spacingAndGlyphs\" textLength=\"20\" x=\"153\" y=\"63.9951\">P1</text></a><!--MD5=[f6df4d0ebaf0b5dfb2ced0ae5af7c670]\n",
       "cluster E4--><a href=\"psysml:f7e915ae-81d4-47d2-8346-f23cee504381\" target=\"_top\" title=\"psysml:f7e915ae-81d4-47d2-8346-f23cee504381\" xlink:actuate=\"onRequest\" xlink:href=\"psysml:f7e915ae-81d4-47d2-8346-f23cee504381\" xlink:show=\"new\" xlink:title=\"psysml:f7e915ae-81d4-47d2-8346-f23cee504381\" xlink:type=\"simple\"><polygon fill=\"#FFFFFF\" points=\"40,49,66,49,73,71.2969,121,71.2969,121,235,40,235,40,49\" style=\"stroke: #000000; stroke-width: 1.5;\"/><line style=\"stroke: #000000; stroke-width: 1.5;\" x1=\"40\" x2=\"73\" y1=\"71.2969\" y2=\"71.2969\"/><text fill=\"#000000\" font-family=\"sans-serif\" font-size=\"14\" font-weight=\"bold\" lengthAdjust=\"spacingAndGlyphs\" textLength=\"20\" x=\"44\" y=\"63.9951\">P2</text></a><!--MD5=[09b614a08d8cba4a07c9adeb5e0fee81]\n",
       "class E3--><a href=\"psysml:383f729c-d04b-4502-922b-14a45e711088\" target=\"_top\" title=\"psysml:383f729c-d04b-4502-922b-14a45e711088\" xlink:actuate=\"onRequest\" xlink:href=\"psysml:383f729c-d04b-4502-922b-14a45e711088\" xlink:show=\"new\" xlink:title=\"psysml:383f729c-d04b-4502-922b-14a45e711088\" xlink:type=\"simple\"><rect fill=\"#FFFFFF\" height=\"45.9375\" id=\"E3\" style=\"stroke: #383838; stroke-width: 1.5;\" width=\"66\" x=\"165\" y=\"84\"/><text fill=\"#000000\" font-family=\"sans-serif\" font-size=\"12\" font-style=\"italic\" lengthAdjust=\"spacingAndGlyphs\" textLength=\"64\" x=\"166\" y=\"100.1387\">«part def»</text><text fill=\"#000000\" font-family=\"sans-serif\" font-size=\"12\" lengthAdjust=\"spacingAndGlyphs\" textLength=\"8\" x=\"194\" y=\"114.1074\">A</text><line style=\"stroke: #383838; stroke-width: 1.5;\" x1=\"166\" x2=\"230\" y1=\"121.9375\" y2=\"121.9375\"/></a><!--MD5=[60a26617385b1d2d0262a64233df1f8d]\n",
       "class E6--><a href=\"psysml:411a4236-fb50-40bf-b31c-7cf2c008c402\" target=\"_top\" title=\"psysml:411a4236-fb50-40bf-b31c-7cf2c008c402\" xlink:actuate=\"onRequest\" xlink:href=\"psysml:411a4236-fb50-40bf-b31c-7cf2c008c402\" xlink:show=\"new\" xlink:title=\"psysml:411a4236-fb50-40bf-b31c-7cf2c008c402\" xlink:type=\"simple\"><rect fill=\"#FFFFFF\" height=\"45.9375\" id=\"E6\" rx=\"10\" ry=\"10\" style=\"stroke: #383838; stroke-width: 1.5;\" width=\"42\" x=\"59.5\" y=\"84\"/><text fill=\"#000000\" font-family=\"sans-serif\" font-size=\"12\" font-style=\"italic\" lengthAdjust=\"spacingAndGlyphs\" textLength=\"40\" x=\"60.5\" y=\"100.1387\">«part»</text><text fill=\"#000000\" font-family=\"sans-serif\" font-size=\"12\" lengthAdjust=\"spacingAndGlyphs\" textLength=\"22\" x=\"69.5\" y=\"114.1074\">x: A</text><line style=\"stroke: #383838; stroke-width: 1.5;\" x1=\"60.5\" x2=\"100.5\" y1=\"121.9375\" y2=\"121.9375\"/></a><a href=\"psysml:806dfed2-196c-4937-8c4a-4cb4ed2b492f\" target=\"_top\" title=\"psysml:806dfed2-196c-4937-8c4a-4cb4ed2b492f\" xlink:actuate=\"onRequest\" xlink:href=\"psysml:806dfed2-196c-4937-8c4a-4cb4ed2b492f\" xlink:show=\"new\" xlink:title=\"psysml:806dfed2-196c-4937-8c4a-4cb4ed2b492f\" xlink:type=\"simple\"><polygon fill=\"#FFFFFF\" points=\"56,165.5,91,165.5,98,187.7969,105,187.7969,105,218.0938,56,218.0938,56,165.5\" style=\"stroke: #000000; stroke-width: 1.5;\"/><line style=\"stroke: #000000; stroke-width: 1.5;\" x1=\"56\" x2=\"98\" y1=\"187.7969\" y2=\"187.7969\"/><text fill=\"#000000\" font-family=\"sans-serif\" font-size=\"14\" font-weight=\"bold\" lengthAdjust=\"spacingAndGlyphs\" textLength=\"29\" x=\"60\" y=\"180.4951\">P2a</text></a><!--MD5=[a717450b82c80b9240a525fa862496af]\n",
       "link E6 to E3--><a href=\"psysml:65a94b24-3d9f-4a56-873a-c3d993dcfd1a\" target=\"_top\" title=\"psysml:65a94b24-3d9f-4a56-873a-c3d993dcfd1a\" xlink:actuate=\"onRequest\" xlink:href=\"psysml:65a94b24-3d9f-4a56-873a-c3d993dcfd1a\" xlink:show=\"new\" xlink:title=\"psysml:65a94b24-3d9f-4a56-873a-c3d993dcfd1a\" xlink:type=\"simple\"><path d=\"M101.62,107 C113.62,107 129.45,107 144.76,107 \" fill=\"none\" id=\"E6-&gt;E3\" style=\"stroke: #383838; stroke-width: 1.0;\"/><polygon fill=\"#FFFFFF\" points=\"164.91,107,145.91,114,145.91,100,164.91,107\" style=\"stroke: #383838; stroke-width: 1.0;\"/><ellipse cx=\"140.21\" cy=\"112\" fill=\"#383838\" rx=\"2\" ry=\"2\" style=\"stroke: #383838; stroke-width: 1.0;\"/><ellipse cx=\"140.21\" cy=\"102\" fill=\"#383838\" rx=\"2\" ry=\"2\" style=\"stroke: #383838; stroke-width: 1.0;\"/></a><!--MD5=[e23a54fafeefe38581e065f78c016f7e]\n",
       "@startuml\r\n",
       "left to right direction\r\n",
       "skinparam monochrome true\r\n",
       "skinparam classbackgroundcolor white\r\n",
       "skinparam shadowing false\r\n",
       "skinparam wrapWidth 300\r\n",
       "hide circle\r\n",
       "\r\n",
       "package \"QualifiedNameImportTest\" as E1  [[psysml:825b0528-a754-4768-92c2-54c3479055c4 ]]  {\r\n",
       "package \"P1\" as E2  [[psysml:a3fdeae3-ca66-43fb-8ea3-ccc1fec12162 ]]  {\r\n",
       "comp def \"A\" as E3  <<(T,blue)part def>> [[psysml:383f729c-d04b-4502-922b-14a45e711088 ]] {\r\n",
       "}\r\n",
       "}\r\n",
       "package \"P2\" as E4  [[psysml:f7e915ae-81d4-47d2-8346-f23cee504381 ]]  {\r\n",
       "package \"P2a\" as E5  [[psysml:806dfed2-196c-4937-8c4a-4cb4ed2b492f ]]  {\r\n",
       "}\r\n",
       "comp usage \"x: A\" as E6  <<(T,blue)part>> [[psysml:411a4236-fb50-40bf-b31c-7cf2c008c402 ]] {\r\n",
       "}\r\n",
       "E6 - -:|> E3 [[psysml:65a94b24-3d9f-4a56-873a-c3d993dcfd1a ]] \r\n",
       "}\r\n",
       "}\r\n",
       "@enduml\r\n",
       "\n",
       "PlantUML version 1.2020.13(Sat Jun 13 12:26:38 UTC 2020)\n",
       "(EPL source distribution)\n",
       "Java Runtime: OpenJDK Runtime Environment\n",
       "JVM: OpenJDK 64-Bit Server VM\n",
       "Default Encoding: UTF-8\n",
       "Language: en\n",
       "Country: null\n",
       "--></g></svg>"
      ]
     },
     "execution_count": 21,
     "metadata": {},
     "output_type": "execute_result"
    }
   ],
   "source": [
    "%viz --style=\"LR\" --view=\"Sequence\" \"QualifiedNameImportTest\""
   ]
  },
  {
   "cell_type": "code",
   "execution_count": 22,
   "id": "soviet-wheel",
   "metadata": {
    "execution": {
     "iopub.execute_input": "2021-03-25T15:09:13.196059Z",
     "iopub.status.busy": "2021-03-25T15:09:13.195523Z",
     "iopub.status.idle": "2021-03-25T15:09:13.256767Z",
     "shell.execute_reply": "2021-03-25T15:09:13.257268Z"
    }
   },
   "outputs": [
    {
     "data": {
      "image/svg+xml": [
       "<?xml version=\"1.0\" encoding=\"UTF-8\" standalone=\"no\"?><svg xmlns=\"http://www.w3.org/2000/svg\" xmlns:xlink=\"http://www.w3.org/1999/xlink\" contentScriptType=\"application/ecmascript\" contentStyleType=\"text/css\" height=\"271px\" preserveAspectRatio=\"none\" style=\"width:293px;height:271px;\" version=\"1.1\" viewBox=\"0 0 293 271\" width=\"293px\" zoomAndPan=\"magnify\"><defs/><g><!--MD5=[fbc87193dbaf4d95561dea2c320d4a47]\n",
       "cluster E1--><a href=\"psysml:825b0528-a754-4768-92c2-54c3479055c4\" target=\"_top\" title=\"psysml:825b0528-a754-4768-92c2-54c3479055c4\" xlink:actuate=\"onRequest\" xlink:href=\"psysml:825b0528-a754-4768-92c2-54c3479055c4\" xlink:show=\"new\" xlink:title=\"psysml:825b0528-a754-4768-92c2-54c3479055c4\" xlink:type=\"simple\"><polygon fill=\"#FFFFFF\" points=\"16,6,221,6,228,28.2969,271,28.2969,271,259,16,259,16,6\" style=\"stroke: #000000; stroke-width: 1.5;\"/><line style=\"stroke: #000000; stroke-width: 1.5;\" x1=\"16\" x2=\"228\" y1=\"28.2969\" y2=\"28.2969\"/><text fill=\"#000000\" font-family=\"sans-serif\" font-size=\"14\" font-weight=\"bold\" lengthAdjust=\"spacingAndGlyphs\" textLength=\"199\" x=\"20\" y=\"20.9951\">QualifiedNameImportTest</text></a><!--MD5=[e4f7fae6ed58524ba242bb0b0d3be6b7]\n",
       "cluster E2--><a href=\"psysml:a3fdeae3-ca66-43fb-8ea3-ccc1fec12162\" target=\"_top\" title=\"psysml:a3fdeae3-ca66-43fb-8ea3-ccc1fec12162\" xlink:actuate=\"onRequest\" xlink:href=\"psysml:a3fdeae3-ca66-43fb-8ea3-ccc1fec12162\" xlink:show=\"new\" xlink:title=\"psysml:a3fdeae3-ca66-43fb-8ea3-ccc1fec12162\" xlink:type=\"simple\"><polygon fill=\"#FFFFFF\" points=\"149,49,175,49,182,71.2969,247,71.2969,247,146,149,146,149,49\" style=\"stroke: #000000; stroke-width: 1.5;\"/><line style=\"stroke: #000000; stroke-width: 1.5;\" x1=\"149\" x2=\"182\" y1=\"71.2969\" y2=\"71.2969\"/><text fill=\"#000000\" font-family=\"sans-serif\" font-size=\"14\" font-weight=\"bold\" lengthAdjust=\"spacingAndGlyphs\" textLength=\"20\" x=\"153\" y=\"63.9951\">P1</text></a><!--MD5=[f6df4d0ebaf0b5dfb2ced0ae5af7c670]\n",
       "cluster E4--><a href=\"psysml:f7e915ae-81d4-47d2-8346-f23cee504381\" target=\"_top\" title=\"psysml:f7e915ae-81d4-47d2-8346-f23cee504381\" xlink:actuate=\"onRequest\" xlink:href=\"psysml:f7e915ae-81d4-47d2-8346-f23cee504381\" xlink:show=\"new\" xlink:title=\"psysml:f7e915ae-81d4-47d2-8346-f23cee504381\" xlink:type=\"simple\"><polygon fill=\"#FFFFFF\" points=\"40,49,66,49,73,71.2969,121,71.2969,121,235,40,235,40,49\" style=\"stroke: #000000; stroke-width: 1.5;\"/><line style=\"stroke: #000000; stroke-width: 1.5;\" x1=\"40\" x2=\"73\" y1=\"71.2969\" y2=\"71.2969\"/><text fill=\"#000000\" font-family=\"sans-serif\" font-size=\"14\" font-weight=\"bold\" lengthAdjust=\"spacingAndGlyphs\" textLength=\"20\" x=\"44\" y=\"63.9951\">P2</text></a><!--MD5=[09b614a08d8cba4a07c9adeb5e0fee81]\n",
       "class E3--><a href=\"psysml:383f729c-d04b-4502-922b-14a45e711088\" target=\"_top\" title=\"psysml:383f729c-d04b-4502-922b-14a45e711088\" xlink:actuate=\"onRequest\" xlink:href=\"psysml:383f729c-d04b-4502-922b-14a45e711088\" xlink:show=\"new\" xlink:title=\"psysml:383f729c-d04b-4502-922b-14a45e711088\" xlink:type=\"simple\"><rect fill=\"#FFFFFF\" height=\"45.9375\" id=\"E3\" style=\"stroke: #383838; stroke-width: 1.5;\" width=\"66\" x=\"165\" y=\"84\"/><text fill=\"#000000\" font-family=\"sans-serif\" font-size=\"12\" font-style=\"italic\" lengthAdjust=\"spacingAndGlyphs\" textLength=\"64\" x=\"166\" y=\"100.1387\">«part def»</text><text fill=\"#000000\" font-family=\"sans-serif\" font-size=\"12\" lengthAdjust=\"spacingAndGlyphs\" textLength=\"8\" x=\"194\" y=\"114.1074\">A</text><line style=\"stroke: #383838; stroke-width: 1.5;\" x1=\"166\" x2=\"230\" y1=\"121.9375\" y2=\"121.9375\"/></a><!--MD5=[60a26617385b1d2d0262a64233df1f8d]\n",
       "class E6--><a href=\"psysml:411a4236-fb50-40bf-b31c-7cf2c008c402\" target=\"_top\" title=\"psysml:411a4236-fb50-40bf-b31c-7cf2c008c402\" xlink:actuate=\"onRequest\" xlink:href=\"psysml:411a4236-fb50-40bf-b31c-7cf2c008c402\" xlink:show=\"new\" xlink:title=\"psysml:411a4236-fb50-40bf-b31c-7cf2c008c402\" xlink:type=\"simple\"><rect fill=\"#FFFFFF\" height=\"45.9375\" id=\"E6\" rx=\"10\" ry=\"10\" style=\"stroke: #383838; stroke-width: 1.5;\" width=\"42\" x=\"59.5\" y=\"84\"/><text fill=\"#000000\" font-family=\"sans-serif\" font-size=\"12\" font-style=\"italic\" lengthAdjust=\"spacingAndGlyphs\" textLength=\"40\" x=\"60.5\" y=\"100.1387\">«part»</text><text fill=\"#000000\" font-family=\"sans-serif\" font-size=\"12\" lengthAdjust=\"spacingAndGlyphs\" textLength=\"22\" x=\"69.5\" y=\"114.1074\">x: A</text><line style=\"stroke: #383838; stroke-width: 1.5;\" x1=\"60.5\" x2=\"100.5\" y1=\"121.9375\" y2=\"121.9375\"/></a><a href=\"psysml:806dfed2-196c-4937-8c4a-4cb4ed2b492f\" target=\"_top\" title=\"psysml:806dfed2-196c-4937-8c4a-4cb4ed2b492f\" xlink:actuate=\"onRequest\" xlink:href=\"psysml:806dfed2-196c-4937-8c4a-4cb4ed2b492f\" xlink:show=\"new\" xlink:title=\"psysml:806dfed2-196c-4937-8c4a-4cb4ed2b492f\" xlink:type=\"simple\"><polygon fill=\"#FFFFFF\" points=\"56,165.5,91,165.5,98,187.7969,105,187.7969,105,218.0938,56,218.0938,56,165.5\" style=\"stroke: #000000; stroke-width: 1.5;\"/><line style=\"stroke: #000000; stroke-width: 1.5;\" x1=\"56\" x2=\"98\" y1=\"187.7969\" y2=\"187.7969\"/><text fill=\"#000000\" font-family=\"sans-serif\" font-size=\"14\" font-weight=\"bold\" lengthAdjust=\"spacingAndGlyphs\" textLength=\"29\" x=\"60\" y=\"180.4951\">P2a</text></a><!--MD5=[a717450b82c80b9240a525fa862496af]\n",
       "link E6 to E3--><a href=\"psysml:65a94b24-3d9f-4a56-873a-c3d993dcfd1a\" target=\"_top\" title=\"psysml:65a94b24-3d9f-4a56-873a-c3d993dcfd1a\" xlink:actuate=\"onRequest\" xlink:href=\"psysml:65a94b24-3d9f-4a56-873a-c3d993dcfd1a\" xlink:show=\"new\" xlink:title=\"psysml:65a94b24-3d9f-4a56-873a-c3d993dcfd1a\" xlink:type=\"simple\"><path d=\"M101.62,107 C113.62,107 129.45,107 144.76,107 \" fill=\"none\" id=\"E6-&gt;E3\" style=\"stroke: #383838; stroke-width: 1.0;\"/><polygon fill=\"#FFFFFF\" points=\"164.91,107,145.91,114,145.91,100,164.91,107\" style=\"stroke: #383838; stroke-width: 1.0;\"/><ellipse cx=\"140.21\" cy=\"112\" fill=\"#383838\" rx=\"2\" ry=\"2\" style=\"stroke: #383838; stroke-width: 1.0;\"/><ellipse cx=\"140.21\" cy=\"102\" fill=\"#383838\" rx=\"2\" ry=\"2\" style=\"stroke: #383838; stroke-width: 1.0;\"/></a><!--MD5=[e23a54fafeefe38581e065f78c016f7e]\n",
       "@startuml\r\n",
       "left to right direction\r\n",
       "skinparam monochrome true\r\n",
       "skinparam classbackgroundcolor white\r\n",
       "skinparam shadowing false\r\n",
       "skinparam wrapWidth 300\r\n",
       "hide circle\r\n",
       "\r\n",
       "package \"QualifiedNameImportTest\" as E1  [[psysml:825b0528-a754-4768-92c2-54c3479055c4 ]]  {\r\n",
       "package \"P1\" as E2  [[psysml:a3fdeae3-ca66-43fb-8ea3-ccc1fec12162 ]]  {\r\n",
       "comp def \"A\" as E3  <<(T,blue)part def>> [[psysml:383f729c-d04b-4502-922b-14a45e711088 ]] {\r\n",
       "}\r\n",
       "}\r\n",
       "package \"P2\" as E4  [[psysml:f7e915ae-81d4-47d2-8346-f23cee504381 ]]  {\r\n",
       "package \"P2a\" as E5  [[psysml:806dfed2-196c-4937-8c4a-4cb4ed2b492f ]]  {\r\n",
       "}\r\n",
       "comp usage \"x: A\" as E6  <<(T,blue)part>> [[psysml:411a4236-fb50-40bf-b31c-7cf2c008c402 ]] {\r\n",
       "}\r\n",
       "E6 - -:|> E3 [[psysml:65a94b24-3d9f-4a56-873a-c3d993dcfd1a ]] \r\n",
       "}\r\n",
       "}\r\n",
       "@enduml\r\n",
       "\n",
       "PlantUML version 1.2020.13(Sat Jun 13 12:26:38 UTC 2020)\n",
       "(EPL source distribution)\n",
       "Java Runtime: OpenJDK Runtime Environment\n",
       "JVM: OpenJDK 64-Bit Server VM\n",
       "Default Encoding: UTF-8\n",
       "Language: en\n",
       "Country: null\n",
       "--></g></svg>"
      ]
     },
     "execution_count": 22,
     "metadata": {},
     "output_type": "execute_result"
    }
   ],
   "source": [
    "%viz --style=\"LR\" --view=\"MIXED\" \"QualifiedNameImportTest\""
   ]
  },
  {
   "cell_type": "code",
   "execution_count": 23,
   "id": "spectacular-anime",
   "metadata": {
    "execution": {
     "iopub.execute_input": "2021-03-25T15:09:13.307218Z",
     "iopub.status.busy": "2021-03-25T15:09:13.306708Z",
     "iopub.status.idle": "2021-03-25T15:09:13.367852Z",
     "shell.execute_reply": "2021-03-25T15:09:13.367427Z"
    }
   },
   "outputs": [
    {
     "data": {
      "image/svg+xml": [
       "<?xml version=\"1.0\" encoding=\"UTF-8\" standalone=\"no\"?><svg xmlns=\"http://www.w3.org/2000/svg\" xmlns:xlink=\"http://www.w3.org/1999/xlink\" contentScriptType=\"application/ecmascript\" contentStyleType=\"text/css\" height=\"310px\" preserveAspectRatio=\"none\" style=\"width:253px;height:310px;\" version=\"1.1\" viewBox=\"0 0 253 310\" width=\"253px\" zoomAndPan=\"magnify\"><defs><filter height=\"300%\" id=\"f1sv728z4pnvo5\" width=\"300%\" x=\"-1\" y=\"-1\"><feGaussianBlur result=\"blurOut\" stdDeviation=\"2.0\"/><feColorMatrix in=\"blurOut\" result=\"blurOut2\" type=\"matrix\" values=\"0 0 0 0 0 0 0 0 0 0 0 0 0 0 0 0 0 0 .4 0\"/><feOffset dx=\"4.0\" dy=\"4.0\" in=\"blurOut2\" result=\"blurOut3\"/><feBlend in=\"SourceGraphic\" in2=\"blurOut3\" mode=\"normal\"/></filter></defs><g><!--MD5=[fbc87193dbaf4d95561dea2c320d4a47]\n",
       "cluster E1--><a href=\"psysml:825b0528-a754-4768-92c2-54c3479055c4\" target=\"_top\" title=\"psysml:825b0528-a754-4768-92c2-54c3479055c4\" xlink:actuate=\"onRequest\" xlink:href=\"psysml:825b0528-a754-4768-92c2-54c3479055c4\" xlink:show=\"new\" xlink:title=\"psysml:825b0528-a754-4768-92c2-54c3479055c4\" xlink:type=\"simple\"><polygon fill=\"#FFFFFF\" filter=\"url(#f1sv728z4pnvo5)\" points=\"16,6,221,6,228,28.2969,231,28.2969,231,298,16,298,16,6\" style=\"stroke: #000000; stroke-width: 1.5;\"/><line style=\"stroke: #000000; stroke-width: 1.5;\" x1=\"16\" x2=\"228\" y1=\"28.2969\" y2=\"28.2969\"/><text fill=\"#000000\" font-family=\"sans-serif\" font-size=\"14\" font-weight=\"bold\" lengthAdjust=\"spacingAndGlyphs\" textLength=\"199\" x=\"20\" y=\"20.9951\">QualifiedNameImportTest</text></a><!--MD5=[e4f7fae6ed58524ba242bb0b0d3be6b7]\n",
       "cluster E2--><a href=\"psysml:a3fdeae3-ca66-43fb-8ea3-ccc1fec12162\" target=\"_top\" title=\"psysml:a3fdeae3-ca66-43fb-8ea3-ccc1fec12162\" xlink:actuate=\"onRequest\" xlink:href=\"psysml:a3fdeae3-ca66-43fb-8ea3-ccc1fec12162\" xlink:show=\"new\" xlink:title=\"psysml:a3fdeae3-ca66-43fb-8ea3-ccc1fec12162\" xlink:type=\"simple\"><polygon fill=\"#FFFFFF\" filter=\"url(#f1sv728z4pnvo5)\" points=\"105,177,131,177,138,199.2969,203,199.2969,203,274,105,274,105,177\" style=\"stroke: #000000; stroke-width: 1.5;\"/><line style=\"stroke: #000000; stroke-width: 1.5;\" x1=\"105\" x2=\"138\" y1=\"199.2969\" y2=\"199.2969\"/><text fill=\"#000000\" font-family=\"sans-serif\" font-size=\"14\" font-weight=\"bold\" lengthAdjust=\"spacingAndGlyphs\" textLength=\"20\" x=\"109\" y=\"191.9951\">P1</text></a><!--MD5=[f6df4d0ebaf0b5dfb2ced0ae5af7c670]\n",
       "cluster E4--><a href=\"psysml:f7e915ae-81d4-47d2-8346-f23cee504381\" target=\"_top\" title=\"psysml:f7e915ae-81d4-47d2-8346-f23cee504381\" xlink:actuate=\"onRequest\" xlink:href=\"psysml:f7e915ae-81d4-47d2-8346-f23cee504381\" xlink:show=\"new\" xlink:title=\"psysml:f7e915ae-81d4-47d2-8346-f23cee504381\" xlink:type=\"simple\"><polygon fill=\"#FFFFFF\" filter=\"url(#f1sv728z4pnvo5)\" points=\"44,49,70,49,77,71.2969,203,71.2969,203,153,44,153,44,49\" style=\"stroke: #000000; stroke-width: 1.5;\"/><line style=\"stroke: #000000; stroke-width: 1.5;\" x1=\"44\" x2=\"77\" y1=\"71.2969\" y2=\"71.2969\"/><text fill=\"#000000\" font-family=\"sans-serif\" font-size=\"14\" font-weight=\"bold\" lengthAdjust=\"spacingAndGlyphs\" textLength=\"20\" x=\"48\" y=\"63.9951\">P2</text></a><!--MD5=[09b614a08d8cba4a07c9adeb5e0fee81]\n",
       "class E3--><a href=\"psysml:383f729c-d04b-4502-922b-14a45e711088\" target=\"_top\" title=\"psysml:383f729c-d04b-4502-922b-14a45e711088\" xlink:actuate=\"onRequest\" xlink:href=\"psysml:383f729c-d04b-4502-922b-14a45e711088\" xlink:show=\"new\" xlink:title=\"psysml:383f729c-d04b-4502-922b-14a45e711088\" xlink:type=\"simple\"><rect fill=\"#FEFECE\" filter=\"url(#f1sv728z4pnvo5)\" height=\"45.9375\" id=\"E3\" style=\"stroke: #A80036; stroke-width: 1.5;\" width=\"66\" x=\"121\" y=\"212\"/><text fill=\"#000000\" font-family=\"sans-serif\" font-size=\"12\" font-style=\"italic\" lengthAdjust=\"spacingAndGlyphs\" textLength=\"64\" x=\"122\" y=\"228.1387\">«part def»</text><text fill=\"#000000\" font-family=\"sans-serif\" font-size=\"12\" lengthAdjust=\"spacingAndGlyphs\" textLength=\"8\" x=\"150\" y=\"242.1074\">A</text><line style=\"stroke: #A80036; stroke-width: 1.5;\" x1=\"122\" x2=\"186\" y1=\"249.9375\" y2=\"249.9375\"/></a><!--MD5=[60a26617385b1d2d0262a64233df1f8d]\n",
       "class E6--><a href=\"psysml:411a4236-fb50-40bf-b31c-7cf2c008c402\" target=\"_top\" title=\"psysml:411a4236-fb50-40bf-b31c-7cf2c008c402\" xlink:actuate=\"onRequest\" xlink:href=\"psysml:411a4236-fb50-40bf-b31c-7cf2c008c402\" xlink:show=\"new\" xlink:title=\"psysml:411a4236-fb50-40bf-b31c-7cf2c008c402\" xlink:type=\"simple\"><rect fill=\"#FEFECE\" filter=\"url(#f1sv728z4pnvo5)\" height=\"45.9375\" id=\"E6\" rx=\"10\" ry=\"10\" style=\"stroke: #A80036; stroke-width: 1.5;\" width=\"42\" x=\"145\" y=\"87.5\"/><text fill=\"#000000\" font-family=\"sans-serif\" font-size=\"12\" font-style=\"italic\" lengthAdjust=\"spacingAndGlyphs\" textLength=\"40\" x=\"146\" y=\"103.6387\">«part»</text><text fill=\"#000000\" font-family=\"sans-serif\" font-size=\"12\" lengthAdjust=\"spacingAndGlyphs\" textLength=\"22\" x=\"155\" y=\"117.6074\">x: A</text><line style=\"stroke: #A80036; stroke-width: 1.5;\" x1=\"146\" x2=\"186\" y1=\"125.4375\" y2=\"125.4375\"/></a><a href=\"psysml:806dfed2-196c-4937-8c4a-4cb4ed2b492f\" target=\"_top\" title=\"psysml:806dfed2-196c-4937-8c4a-4cb4ed2b492f\" xlink:actuate=\"onRequest\" xlink:href=\"psysml:806dfed2-196c-4937-8c4a-4cb4ed2b492f\" xlink:show=\"new\" xlink:title=\"psysml:806dfed2-196c-4937-8c4a-4cb4ed2b492f\" xlink:type=\"simple\"><polygon fill=\"#FFFFFF\" filter=\"url(#f1sv728z4pnvo5)\" points=\"60.5,84,95.5,84,102.5,106.2969,109.5,106.2969,109.5,136.5938,60.5,136.5938,60.5,84\" style=\"stroke: #000000; stroke-width: 1.5;\"/><line style=\"stroke: #000000; stroke-width: 1.5;\" x1=\"60.5\" x2=\"102.5\" y1=\"106.2969\" y2=\"106.2969\"/><text fill=\"#000000\" font-family=\"sans-serif\" font-size=\"14\" font-weight=\"bold\" lengthAdjust=\"spacingAndGlyphs\" textLength=\"29\" x=\"64.5\" y=\"98.9951\">P2a</text></a><!--MD5=[a717450b82c80b9240a525fa862496af]\n",
       "link E6 to E3--><a href=\"psysml:65a94b24-3d9f-4a56-873a-c3d993dcfd1a\" target=\"_top\" title=\"psysml:65a94b24-3d9f-4a56-873a-c3d993dcfd1a\" xlink:actuate=\"onRequest\" xlink:href=\"psysml:65a94b24-3d9f-4a56-873a-c3d993dcfd1a\" xlink:show=\"new\" xlink:title=\"psysml:65a94b24-3d9f-4a56-873a-c3d993dcfd1a\" xlink:type=\"simple\"><path d=\"M163.83,133.68 C162.24,149.9 160.04,172.39 158.12,191.96 \" fill=\"none\" id=\"E6-&gt;E3\" style=\"stroke: #A80036; stroke-width: 1.0;\"/><polygon fill=\"#FFFFFF\" points=\"156.16,211.98,151.0533,192.3861,164.986,193.7564,156.16,211.98\" style=\"stroke: #A80036; stroke-width: 1.0;\"/><ellipse cx=\"153.6016\" cy=\"186.9092\" fill=\"#A80036\" rx=\"2\" ry=\"2\" style=\"stroke: #A80036; stroke-width: 1.0;\"/><ellipse cx=\"163.5535\" cy=\"187.888\" fill=\"#A80036\" rx=\"2\" ry=\"2\" style=\"stroke: #A80036; stroke-width: 1.0;\"/></a><!--MD5=[e614859a662eae389a59932ed9c91cc9]\n",
       "@startuml\r\n",
       "skinparam wrapWidth 300\r\n",
       "hide circle\r\n",
       "\r\n",
       "package \"QualifiedNameImportTest\" as E1  [[psysml:825b0528-a754-4768-92c2-54c3479055c4 ]]  {\r\n",
       "package \"P1\" as E2  [[psysml:a3fdeae3-ca66-43fb-8ea3-ccc1fec12162 ]]  {\r\n",
       "comp def \"A\" as E3  <<(T,blue)part def>> [[psysml:383f729c-d04b-4502-922b-14a45e711088 ]] {\r\n",
       "}\r\n",
       "}\r\n",
       "package \"P2\" as E4  [[psysml:f7e915ae-81d4-47d2-8346-f23cee504381 ]]  {\r\n",
       "package \"P2a\" as E5  [[psysml:806dfed2-196c-4937-8c4a-4cb4ed2b492f ]]  {\r\n",
       "}\r\n",
       "comp usage \"x: A\" as E6  <<(T,blue)part>> [[psysml:411a4236-fb50-40bf-b31c-7cf2c008c402 ]] {\r\n",
       "}\r\n",
       "E6 - -:|> E3 [[psysml:65a94b24-3d9f-4a56-873a-c3d993dcfd1a ]] \r\n",
       "}\r\n",
       "}\r\n",
       "@enduml\r\n",
       "\n",
       "PlantUML version 1.2020.13(Sat Jun 13 12:26:38 UTC 2020)\n",
       "(EPL source distribution)\n",
       "Java Runtime: OpenJDK Runtime Environment\n",
       "JVM: OpenJDK 64-Bit Server VM\n",
       "Default Encoding: UTF-8\n",
       "Language: en\n",
       "Country: null\n",
       "--></g></svg>"
      ]
     },
     "execution_count": 23,
     "metadata": {},
     "output_type": "execute_result"
    }
   ],
   "source": [
    "%viz --style=\"STDCOLOR\" --view=\"Default\" \"QualifiedNameImportTest\""
   ]
  },
  {
   "cell_type": "code",
   "execution_count": 24,
   "id": "vocal-lighter",
   "metadata": {
    "execution": {
     "iopub.execute_input": "2021-03-25T15:09:13.417613Z",
     "iopub.status.busy": "2021-03-25T15:09:13.417176Z",
     "iopub.status.idle": "2021-03-25T15:09:13.475582Z",
     "shell.execute_reply": "2021-03-25T15:09:13.476066Z"
    }
   },
   "outputs": [
    {
     "data": {
      "image/svg+xml": [
       "<?xml version=\"1.0\" encoding=\"UTF-8\" standalone=\"no\"?><svg xmlns=\"http://www.w3.org/2000/svg\" xmlns:xlink=\"http://www.w3.org/1999/xlink\" contentScriptType=\"application/ecmascript\" contentStyleType=\"text/css\" height=\"310px\" preserveAspectRatio=\"none\" style=\"width:253px;height:310px;\" version=\"1.1\" viewBox=\"0 0 253 310\" width=\"253px\" zoomAndPan=\"magnify\"><defs><filter height=\"300%\" id=\"f1sv728z4pnvo5\" width=\"300%\" x=\"-1\" y=\"-1\"><feGaussianBlur result=\"blurOut\" stdDeviation=\"2.0\"/><feColorMatrix in=\"blurOut\" result=\"blurOut2\" type=\"matrix\" values=\"0 0 0 0 0 0 0 0 0 0 0 0 0 0 0 0 0 0 .4 0\"/><feOffset dx=\"4.0\" dy=\"4.0\" in=\"blurOut2\" result=\"blurOut3\"/><feBlend in=\"SourceGraphic\" in2=\"blurOut3\" mode=\"normal\"/></filter></defs><g><!--MD5=[fbc87193dbaf4d95561dea2c320d4a47]\n",
       "cluster E1--><a href=\"psysml:825b0528-a754-4768-92c2-54c3479055c4\" target=\"_top\" title=\"psysml:825b0528-a754-4768-92c2-54c3479055c4\" xlink:actuate=\"onRequest\" xlink:href=\"psysml:825b0528-a754-4768-92c2-54c3479055c4\" xlink:show=\"new\" xlink:title=\"psysml:825b0528-a754-4768-92c2-54c3479055c4\" xlink:type=\"simple\"><polygon fill=\"#FFFFFF\" filter=\"url(#f1sv728z4pnvo5)\" points=\"16,6,221,6,228,28.2969,231,28.2969,231,298,16,298,16,6\" style=\"stroke: #000000; stroke-width: 1.5;\"/><line style=\"stroke: #000000; stroke-width: 1.5;\" x1=\"16\" x2=\"228\" y1=\"28.2969\" y2=\"28.2969\"/><text fill=\"#000000\" font-family=\"sans-serif\" font-size=\"14\" font-weight=\"bold\" lengthAdjust=\"spacingAndGlyphs\" textLength=\"199\" x=\"20\" y=\"20.9951\">QualifiedNameImportTest</text></a><!--MD5=[e4f7fae6ed58524ba242bb0b0d3be6b7]\n",
       "cluster E2--><a href=\"psysml:a3fdeae3-ca66-43fb-8ea3-ccc1fec12162\" target=\"_top\" title=\"psysml:a3fdeae3-ca66-43fb-8ea3-ccc1fec12162\" xlink:actuate=\"onRequest\" xlink:href=\"psysml:a3fdeae3-ca66-43fb-8ea3-ccc1fec12162\" xlink:show=\"new\" xlink:title=\"psysml:a3fdeae3-ca66-43fb-8ea3-ccc1fec12162\" xlink:type=\"simple\"><polygon fill=\"#FFFFFF\" filter=\"url(#f1sv728z4pnvo5)\" points=\"105,177,131,177,138,199.2969,203,199.2969,203,274,105,274,105,177\" style=\"stroke: #000000; stroke-width: 1.5;\"/><line style=\"stroke: #000000; stroke-width: 1.5;\" x1=\"105\" x2=\"138\" y1=\"199.2969\" y2=\"199.2969\"/><text fill=\"#000000\" font-family=\"sans-serif\" font-size=\"14\" font-weight=\"bold\" lengthAdjust=\"spacingAndGlyphs\" textLength=\"20\" x=\"109\" y=\"191.9951\">P1</text></a><!--MD5=[f6df4d0ebaf0b5dfb2ced0ae5af7c670]\n",
       "cluster E4--><a href=\"psysml:f7e915ae-81d4-47d2-8346-f23cee504381\" target=\"_top\" title=\"psysml:f7e915ae-81d4-47d2-8346-f23cee504381\" xlink:actuate=\"onRequest\" xlink:href=\"psysml:f7e915ae-81d4-47d2-8346-f23cee504381\" xlink:show=\"new\" xlink:title=\"psysml:f7e915ae-81d4-47d2-8346-f23cee504381\" xlink:type=\"simple\"><polygon fill=\"#FFFFFF\" filter=\"url(#f1sv728z4pnvo5)\" points=\"44,49,70,49,77,71.2969,203,71.2969,203,153,44,153,44,49\" style=\"stroke: #000000; stroke-width: 1.5;\"/><line style=\"stroke: #000000; stroke-width: 1.5;\" x1=\"44\" x2=\"77\" y1=\"71.2969\" y2=\"71.2969\"/><text fill=\"#000000\" font-family=\"sans-serif\" font-size=\"14\" font-weight=\"bold\" lengthAdjust=\"spacingAndGlyphs\" textLength=\"20\" x=\"48\" y=\"63.9951\">P2</text></a><!--MD5=[09b614a08d8cba4a07c9adeb5e0fee81]\n",
       "class E3--><a href=\"psysml:383f729c-d04b-4502-922b-14a45e711088\" target=\"_top\" title=\"psysml:383f729c-d04b-4502-922b-14a45e711088\" xlink:actuate=\"onRequest\" xlink:href=\"psysml:383f729c-d04b-4502-922b-14a45e711088\" xlink:show=\"new\" xlink:title=\"psysml:383f729c-d04b-4502-922b-14a45e711088\" xlink:type=\"simple\"><rect fill=\"#FEFECE\" filter=\"url(#f1sv728z4pnvo5)\" height=\"45.9375\" id=\"E3\" style=\"stroke: #A80036; stroke-width: 1.5;\" width=\"66\" x=\"121\" y=\"212\"/><text fill=\"#000000\" font-family=\"sans-serif\" font-size=\"12\" font-style=\"italic\" lengthAdjust=\"spacingAndGlyphs\" textLength=\"64\" x=\"122\" y=\"228.1387\">«part def»</text><text fill=\"#000000\" font-family=\"sans-serif\" font-size=\"12\" lengthAdjust=\"spacingAndGlyphs\" textLength=\"8\" x=\"150\" y=\"242.1074\">A</text><line style=\"stroke: #A80036; stroke-width: 1.5;\" x1=\"122\" x2=\"186\" y1=\"249.9375\" y2=\"249.9375\"/></a><!--MD5=[60a26617385b1d2d0262a64233df1f8d]\n",
       "class E6--><a href=\"psysml:411a4236-fb50-40bf-b31c-7cf2c008c402\" target=\"_top\" title=\"psysml:411a4236-fb50-40bf-b31c-7cf2c008c402\" xlink:actuate=\"onRequest\" xlink:href=\"psysml:411a4236-fb50-40bf-b31c-7cf2c008c402\" xlink:show=\"new\" xlink:title=\"psysml:411a4236-fb50-40bf-b31c-7cf2c008c402\" xlink:type=\"simple\"><rect fill=\"#FEFECE\" filter=\"url(#f1sv728z4pnvo5)\" height=\"45.9375\" id=\"E6\" rx=\"10\" ry=\"10\" style=\"stroke: #A80036; stroke-width: 1.5;\" width=\"42\" x=\"145\" y=\"87.5\"/><text fill=\"#000000\" font-family=\"sans-serif\" font-size=\"12\" font-style=\"italic\" lengthAdjust=\"spacingAndGlyphs\" textLength=\"40\" x=\"146\" y=\"103.6387\">«part»</text><text fill=\"#000000\" font-family=\"sans-serif\" font-size=\"12\" lengthAdjust=\"spacingAndGlyphs\" textLength=\"22\" x=\"155\" y=\"117.6074\">x: A</text><line style=\"stroke: #A80036; stroke-width: 1.5;\" x1=\"146\" x2=\"186\" y1=\"125.4375\" y2=\"125.4375\"/></a><a href=\"psysml:806dfed2-196c-4937-8c4a-4cb4ed2b492f\" target=\"_top\" title=\"psysml:806dfed2-196c-4937-8c4a-4cb4ed2b492f\" xlink:actuate=\"onRequest\" xlink:href=\"psysml:806dfed2-196c-4937-8c4a-4cb4ed2b492f\" xlink:show=\"new\" xlink:title=\"psysml:806dfed2-196c-4937-8c4a-4cb4ed2b492f\" xlink:type=\"simple\"><polygon fill=\"#FFFFFF\" filter=\"url(#f1sv728z4pnvo5)\" points=\"60.5,84,95.5,84,102.5,106.2969,109.5,106.2969,109.5,136.5938,60.5,136.5938,60.5,84\" style=\"stroke: #000000; stroke-width: 1.5;\"/><line style=\"stroke: #000000; stroke-width: 1.5;\" x1=\"60.5\" x2=\"102.5\" y1=\"106.2969\" y2=\"106.2969\"/><text fill=\"#000000\" font-family=\"sans-serif\" font-size=\"14\" font-weight=\"bold\" lengthAdjust=\"spacingAndGlyphs\" textLength=\"29\" x=\"64.5\" y=\"98.9951\">P2a</text></a><!--MD5=[a717450b82c80b9240a525fa862496af]\n",
       "link E6 to E3--><a href=\"psysml:65a94b24-3d9f-4a56-873a-c3d993dcfd1a\" target=\"_top\" title=\"psysml:65a94b24-3d9f-4a56-873a-c3d993dcfd1a\" xlink:actuate=\"onRequest\" xlink:href=\"psysml:65a94b24-3d9f-4a56-873a-c3d993dcfd1a\" xlink:show=\"new\" xlink:title=\"psysml:65a94b24-3d9f-4a56-873a-c3d993dcfd1a\" xlink:type=\"simple\"><path d=\"M163.83,133.68 C162.24,149.9 160.04,172.39 158.12,191.96 \" fill=\"none\" id=\"E6-&gt;E3\" style=\"stroke: #A80036; stroke-width: 1.0;\"/><polygon fill=\"#FFFFFF\" points=\"156.16,211.98,151.0533,192.3861,164.986,193.7564,156.16,211.98\" style=\"stroke: #A80036; stroke-width: 1.0;\"/><ellipse cx=\"153.6016\" cy=\"186.9092\" fill=\"#A80036\" rx=\"2\" ry=\"2\" style=\"stroke: #A80036; stroke-width: 1.0;\"/><ellipse cx=\"163.5535\" cy=\"187.888\" fill=\"#A80036\" rx=\"2\" ry=\"2\" style=\"stroke: #A80036; stroke-width: 1.0;\"/></a><!--MD5=[e614859a662eae389a59932ed9c91cc9]\n",
       "@startuml\r\n",
       "skinparam wrapWidth 300\r\n",
       "hide circle\r\n",
       "\r\n",
       "package \"QualifiedNameImportTest\" as E1  [[psysml:825b0528-a754-4768-92c2-54c3479055c4 ]]  {\r\n",
       "package \"P1\" as E2  [[psysml:a3fdeae3-ca66-43fb-8ea3-ccc1fec12162 ]]  {\r\n",
       "comp def \"A\" as E3  <<(T,blue)part def>> [[psysml:383f729c-d04b-4502-922b-14a45e711088 ]] {\r\n",
       "}\r\n",
       "}\r\n",
       "package \"P2\" as E4  [[psysml:f7e915ae-81d4-47d2-8346-f23cee504381 ]]  {\r\n",
       "package \"P2a\" as E5  [[psysml:806dfed2-196c-4937-8c4a-4cb4ed2b492f ]]  {\r\n",
       "}\r\n",
       "comp usage \"x: A\" as E6  <<(T,blue)part>> [[psysml:411a4236-fb50-40bf-b31c-7cf2c008c402 ]] {\r\n",
       "}\r\n",
       "E6 - -:|> E3 [[psysml:65a94b24-3d9f-4a56-873a-c3d993dcfd1a ]] \r\n",
       "}\r\n",
       "}\r\n",
       "@enduml\r\n",
       "\n",
       "PlantUML version 1.2020.13(Sat Jun 13 12:26:38 UTC 2020)\n",
       "(EPL source distribution)\n",
       "Java Runtime: OpenJDK Runtime Environment\n",
       "JVM: OpenJDK 64-Bit Server VM\n",
       "Default Encoding: UTF-8\n",
       "Language: en\n",
       "Country: null\n",
       "--></g></svg>"
      ]
     },
     "execution_count": 24,
     "metadata": {},
     "output_type": "execute_result"
    }
   ],
   "source": [
    "%viz --style=\"STDCOLOR\" --view=\"Tree\" \"QualifiedNameImportTest\""
   ]
  },
  {
   "cell_type": "code",
   "execution_count": 25,
   "id": "mysterious-midnight",
   "metadata": {
    "execution": {
     "iopub.execute_input": "2021-03-25T15:09:13.529209Z",
     "iopub.status.busy": "2021-03-25T15:09:13.528736Z",
     "iopub.status.idle": "2021-03-25T15:09:13.530564Z",
     "shell.execute_reply": "2021-03-25T15:09:13.530991Z"
    }
   },
   "outputs": [
    {
     "data": {
      "image/svg+xml": [
       "<?xml version=\"1.0\" encoding=\"UTF-8\" standalone=\"no\"?><svg xmlns=\"http://www.w3.org/2000/svg\" xmlns:xlink=\"http://www.w3.org/1999/xlink\" contentScriptType=\"application/ecmascript\" contentStyleType=\"text/css\" height=\"12px\" preserveAspectRatio=\"none\" style=\"width:12px;height:12px;\" version=\"1.1\" viewBox=\"0 0 12 12\" width=\"12px\" zoomAndPan=\"magnify\"><defs/><g><!--MD5=[aeeef50f102b80d730deb6443d14f702]\n",
       "@startuml\r\n",
       "skinparam wrapWidth 300\r\n",
       "hide circle\r\n",
       "\r\n",
       "@enduml\r\n",
       "\n",
       "PlantUML version 1.2020.13(Sat Jun 13 12:26:38 UTC 2020)\n",
       "(EPL source distribution)\n",
       "Java Runtime: OpenJDK Runtime Environment\n",
       "JVM: OpenJDK 64-Bit Server VM\n",
       "Default Encoding: UTF-8\n",
       "Language: en\n",
       "Country: null\n",
       "--></g></svg>"
      ]
     },
     "execution_count": 25,
     "metadata": {},
     "output_type": "execute_result"
    }
   ],
   "source": [
    "%viz --style=\"STDCOLOR\" --view=\"State\" \"QualifiedNameImportTest\""
   ]
  },
  {
   "cell_type": "code",
   "execution_count": 26,
   "id": "killing-australian",
   "metadata": {
    "execution": {
     "iopub.execute_input": "2021-03-25T15:09:13.581667Z",
     "iopub.status.busy": "2021-03-25T15:09:13.581253Z",
     "iopub.status.idle": "2021-03-25T15:09:13.645100Z",
     "shell.execute_reply": "2021-03-25T15:09:13.643702Z"
    }
   },
   "outputs": [
    {
     "data": {
      "image/svg+xml": [
       "<?xml version=\"1.0\" encoding=\"UTF-8\" standalone=\"no\"?><svg xmlns=\"http://www.w3.org/2000/svg\" xmlns:xlink=\"http://www.w3.org/1999/xlink\" contentScriptType=\"application/ecmascript\" contentStyleType=\"text/css\" height=\"189px\" preserveAspectRatio=\"none\" style=\"width:381px;height:189px;\" version=\"1.1\" viewBox=\"0 0 381 189\" width=\"381px\" zoomAndPan=\"magnify\"><defs><filter height=\"300%\" id=\"fujhm7i078y0v\" width=\"300%\" x=\"-1\" y=\"-1\"><feGaussianBlur result=\"blurOut\" stdDeviation=\"2.0\"/><feColorMatrix in=\"blurOut\" result=\"blurOut2\" type=\"matrix\" values=\"0 0 0 0 0 0 0 0 0 0 0 0 0 0 0 0 0 0 .4 0\"/><feOffset dx=\"4.0\" dy=\"4.0\" in=\"blurOut2\" result=\"blurOut3\"/><feBlend in=\"SourceGraphic\" in2=\"blurOut3\" mode=\"normal\"/></filter></defs><g><!--MD5=[fbc87193dbaf4d95561dea2c320d4a47]\n",
       "cluster E1--><a href=\"psysml:825b0528-a754-4768-92c2-54c3479055c4\" target=\"_top\" title=\"psysml:825b0528-a754-4768-92c2-54c3479055c4\" xlink:actuate=\"onRequest\" xlink:href=\"psysml:825b0528-a754-4768-92c2-54c3479055c4\" xlink:show=\"new\" xlink:title=\"psysml:825b0528-a754-4768-92c2-54c3479055c4\" xlink:type=\"simple\"><polygon fill=\"#FFFFFF\" filter=\"url(#fujhm7i078y0v)\" points=\"16,6,221,6,228,28.2969,359,28.2969,359,177,16,177,16,6\" style=\"stroke: #000000; stroke-width: 1.5;\"/><line style=\"stroke: #000000; stroke-width: 1.5;\" x1=\"16\" x2=\"228\" y1=\"28.2969\" y2=\"28.2969\"/><text fill=\"#000000\" font-family=\"sans-serif\" font-size=\"14\" font-weight=\"bold\" lengthAdjust=\"spacingAndGlyphs\" textLength=\"199\" x=\"20\" y=\"20.9951\">QualifiedNameImportTest</text></a><!--MD5=[e4f7fae6ed58524ba242bb0b0d3be6b7]\n",
       "cluster E2--><a href=\"psysml:a3fdeae3-ca66-43fb-8ea3-ccc1fec12162\" target=\"_top\" title=\"psysml:a3fdeae3-ca66-43fb-8ea3-ccc1fec12162\" xlink:actuate=\"onRequest\" xlink:href=\"psysml:a3fdeae3-ca66-43fb-8ea3-ccc1fec12162\" xlink:show=\"new\" xlink:title=\"psysml:a3fdeae3-ca66-43fb-8ea3-ccc1fec12162\" xlink:type=\"simple\"><polygon fill=\"#FFFFFF\" filter=\"url(#fujhm7i078y0v)\" points=\"231,54,257,54,264,76.2969,335,76.2969,335,148,231,148,231,54\" style=\"stroke: #000000; stroke-width: 1.5;\"/><line style=\"stroke: #000000; stroke-width: 1.5;\" x1=\"231\" x2=\"264\" y1=\"76.2969\" y2=\"76.2969\"/><text fill=\"#000000\" font-family=\"sans-serif\" font-size=\"14\" font-weight=\"bold\" lengthAdjust=\"spacingAndGlyphs\" textLength=\"20\" x=\"235\" y=\"68.9951\">P1</text></a><!--MD5=[f6df4d0ebaf0b5dfb2ced0ae5af7c670]\n",
       "cluster E4--><a href=\"psysml:f7e915ae-81d4-47d2-8346-f23cee504381\" target=\"_top\" title=\"psysml:f7e915ae-81d4-47d2-8346-f23cee504381\" xlink:actuate=\"onRequest\" xlink:href=\"psysml:f7e915ae-81d4-47d2-8346-f23cee504381\" xlink:show=\"new\" xlink:title=\"psysml:f7e915ae-81d4-47d2-8346-f23cee504381\" xlink:type=\"simple\"><polygon fill=\"#FFFFFF\" filter=\"url(#fujhm7i078y0v)\" points=\"40,49,66,49,73,71.2969,207,71.2969,207,153,40,153,40,49\" style=\"stroke: #000000; stroke-width: 1.5;\"/><line style=\"stroke: #000000; stroke-width: 1.5;\" x1=\"40\" x2=\"73\" y1=\"71.2969\" y2=\"71.2969\"/><text fill=\"#000000\" font-family=\"sans-serif\" font-size=\"14\" font-weight=\"bold\" lengthAdjust=\"spacingAndGlyphs\" textLength=\"20\" x=\"44\" y=\"63.9951\">P2</text></a><g id=\"E1.E2.E3\"><a href=\"psysml:383f729c-d04b-4502-922b-14a45e711088\" target=\"_top\" title=\"psysml:383f729c-d04b-4502-922b-14a45e711088\" xlink:actuate=\"onRequest\" xlink:href=\"psysml:383f729c-d04b-4502-922b-14a45e711088\" xlink:show=\"new\" xlink:title=\"psysml:383f729c-d04b-4502-922b-14a45e711088\" xlink:type=\"simple\"><rect fill=\"#FEFECE\" filter=\"url(#fujhm7i078y0v)\" height=\"42.9375\" id=\"E3\" style=\"stroke: #A80036; stroke-width: 1.5;\" width=\"71\" x=\"247.5\" y=\"89\"/><text fill=\"#000000\" font-family=\"sans-serif\" font-size=\"12\" font-style=\"italic\" lengthAdjust=\"spacingAndGlyphs\" textLength=\"64\" x=\"251\" y=\"105.1387\">«part def»</text><text fill=\"#000000\" font-family=\"sans-serif\" font-size=\"12\" lengthAdjust=\"spacingAndGlyphs\" textLength=\"8\" x=\"279\" y=\"119.1074\">A</text></a></g><a href=\"psysml:806dfed2-196c-4937-8c4a-4cb4ed2b492f\" target=\"_top\" title=\"psysml:806dfed2-196c-4937-8c4a-4cb4ed2b492f\" xlink:actuate=\"onRequest\" xlink:href=\"psysml:806dfed2-196c-4937-8c4a-4cb4ed2b492f\" xlink:show=\"new\" xlink:title=\"psysml:806dfed2-196c-4937-8c4a-4cb4ed2b492f\" xlink:type=\"simple\"><polygon fill=\"#FFFFFF\" filter=\"url(#fujhm7i078y0v)\" points=\"141.5,84,176.5,84,183.5,106.2969,190.5,106.2969,190.5,136.5938,141.5,136.5938,141.5,84\" style=\"stroke: #000000; stroke-width: 1.5;\"/><line style=\"stroke: #000000; stroke-width: 1.5;\" x1=\"141.5\" x2=\"183.5\" y1=\"106.2969\" y2=\"106.2969\"/><text fill=\"#000000\" font-family=\"sans-serif\" font-size=\"14\" font-weight=\"bold\" lengthAdjust=\"spacingAndGlyphs\" textLength=\"29\" x=\"145.5\" y=\"98.9951\">P2a</text></a><g id=\"E1.E4.E6\"><a href=\"psysml:411a4236-fb50-40bf-b31c-7cf2c008c402\" target=\"_top\" title=\"psysml:411a4236-fb50-40bf-b31c-7cf2c008c402\" xlink:actuate=\"onRequest\" xlink:href=\"psysml:411a4236-fb50-40bf-b31c-7cf2c008c402\" xlink:show=\"new\" xlink:title=\"psysml:411a4236-fb50-40bf-b31c-7cf2c008c402\" xlink:type=\"simple\"><rect fill=\"#FEFECE\" filter=\"url(#fujhm7i078y0v)\" height=\"40\" id=\"E6\" rx=\"10\" ry=\"10\" style=\"stroke: #A80036; stroke-width: 1.5;\" width=\"50\" x=\"56\" y=\"90.5\"/><text fill=\"#000000\" font-family=\"sans-serif\" font-size=\"12\" lengthAdjust=\"spacingAndGlyphs\" textLength=\"22\" x=\"70\" y=\"106.6387\">x: A</text></a></g><!--MD5=[02718b8df6249b38d768db24bc5e82b4]\n",
       "@startuml\r\n",
       "skinparam ranksep 8\r\n",
       "skinparam rectangle {\r\n",
       " backgroundColor<<block>> LightGreen\r\n",
       "}\r\n",
       "skinparam wrapWidth 300\r\n",
       "hide circle\r\n",
       "\r\n",
       "package \"QualifiedNameImportTest\" as E1  [[psysml:825b0528-a754-4768-92c2-54c3479055c4 ]]  {\r\n",
       "package \"P1\" as E2  [[psysml:a3fdeae3-ca66-43fb-8ea3-ccc1fec12162 ]]  {\r\n",
       "rec def \"A\" as E3  <<(T,blue)part def>> [[psysml:383f729c-d04b-4502-922b-14a45e711088 ]] {\r\n",
       "}\r\n",
       "}\r\n",
       "package \"P2\" as E4  [[psysml:f7e915ae-81d4-47d2-8346-f23cee504381 ]]  {\r\n",
       "package \"P2a\" as E5  [[psysml:806dfed2-196c-4937-8c4a-4cb4ed2b492f ]]  {\r\n",
       "}\r\n",
       "rec usage \"x: A\" as E6  [[psysml:411a4236-fb50-40bf-b31c-7cf2c008c402 ]] {\r\n",
       "}\r\n",
       "}\r\n",
       "}\r\n",
       "@enduml\r\n",
       "\n",
       "PlantUML version 1.2020.13(Sat Jun 13 12:26:38 UTC 2020)\n",
       "(EPL source distribution)\n",
       "Java Runtime: OpenJDK Runtime Environment\n",
       "JVM: OpenJDK 64-Bit Server VM\n",
       "Default Encoding: UTF-8\n",
       "Language: en\n",
       "Country: null\n",
       "--></g></svg>"
      ]
     },
     "execution_count": 26,
     "metadata": {},
     "output_type": "execute_result"
    }
   ],
   "source": [
    "%viz --style=\"STDCOLOR\" --view=\"Interconnection\" \"QualifiedNameImportTest\""
   ]
  },
  {
   "cell_type": "code",
   "execution_count": 27,
   "id": "promising-electronics",
   "metadata": {
    "execution": {
     "iopub.execute_input": "2021-03-25T15:09:13.696802Z",
     "iopub.status.busy": "2021-03-25T15:09:13.696197Z",
     "iopub.status.idle": "2021-03-25T15:09:13.704622Z",
     "shell.execute_reply": "2021-03-25T15:09:13.705234Z"
    }
   },
   "outputs": [
    {
     "data": {
      "image/svg+xml": [
       "<?xml version=\"1.0\" encoding=\"UTF-8\" standalone=\"no\"?><svg xmlns=\"http://www.w3.org/2000/svg\" xmlns:xlink=\"http://www.w3.org/1999/xlink\" contentScriptType=\"application/ecmascript\" contentStyleType=\"text/css\" height=\"12px\" preserveAspectRatio=\"none\" style=\"width:12px;height:12px;\" version=\"1.1\" viewBox=\"0 0 12 12\" width=\"12px\" zoomAndPan=\"magnify\"><defs/><g><!--MD5=[9863325348a96a77dacc89509d8ee65e]\n",
       "@startuml\r\n",
       "skinparam ranksep 8\r\n",
       "skinparam wrapWidth 300\r\n",
       "hide circle\r\n",
       "\r\n",
       "@enduml\r\n",
       "\n",
       "PlantUML version 1.2020.13(Sat Jun 13 12:26:38 UTC 2020)\n",
       "(EPL source distribution)\n",
       "Java Runtime: OpenJDK Runtime Environment\n",
       "JVM: OpenJDK 64-Bit Server VM\n",
       "Default Encoding: UTF-8\n",
       "Language: en\n",
       "Country: null\n",
       "--></g></svg>"
      ]
     },
     "execution_count": 27,
     "metadata": {},
     "output_type": "execute_result"
    }
   ],
   "source": [
    "%viz --style=\"STDCOLOR\" --view=\"Action\" \"QualifiedNameImportTest\""
   ]
  },
  {
   "cell_type": "code",
   "execution_count": 28,
   "id": "australian-davis",
   "metadata": {
    "execution": {
     "iopub.execute_input": "2021-03-25T15:09:13.756787Z",
     "iopub.status.busy": "2021-03-25T15:09:13.756325Z",
     "iopub.status.idle": "2021-03-25T15:09:13.814342Z",
     "shell.execute_reply": "2021-03-25T15:09:13.812922Z"
    }
   },
   "outputs": [
    {
     "data": {
      "image/svg+xml": [
       "<?xml version=\"1.0\" encoding=\"UTF-8\" standalone=\"no\"?><svg xmlns=\"http://www.w3.org/2000/svg\" xmlns:xlink=\"http://www.w3.org/1999/xlink\" contentScriptType=\"application/ecmascript\" contentStyleType=\"text/css\" height=\"310px\" preserveAspectRatio=\"none\" style=\"width:253px;height:310px;\" version=\"1.1\" viewBox=\"0 0 253 310\" width=\"253px\" zoomAndPan=\"magnify\"><defs><filter height=\"300%\" id=\"f1sv728z4pnvo5\" width=\"300%\" x=\"-1\" y=\"-1\"><feGaussianBlur result=\"blurOut\" stdDeviation=\"2.0\"/><feColorMatrix in=\"blurOut\" result=\"blurOut2\" type=\"matrix\" values=\"0 0 0 0 0 0 0 0 0 0 0 0 0 0 0 0 0 0 .4 0\"/><feOffset dx=\"4.0\" dy=\"4.0\" in=\"blurOut2\" result=\"blurOut3\"/><feBlend in=\"SourceGraphic\" in2=\"blurOut3\" mode=\"normal\"/></filter></defs><g><!--MD5=[fbc87193dbaf4d95561dea2c320d4a47]\n",
       "cluster E1--><a href=\"psysml:825b0528-a754-4768-92c2-54c3479055c4\" target=\"_top\" title=\"psysml:825b0528-a754-4768-92c2-54c3479055c4\" xlink:actuate=\"onRequest\" xlink:href=\"psysml:825b0528-a754-4768-92c2-54c3479055c4\" xlink:show=\"new\" xlink:title=\"psysml:825b0528-a754-4768-92c2-54c3479055c4\" xlink:type=\"simple\"><polygon fill=\"#FFFFFF\" filter=\"url(#f1sv728z4pnvo5)\" points=\"16,6,221,6,228,28.2969,231,28.2969,231,298,16,298,16,6\" style=\"stroke: #000000; stroke-width: 1.5;\"/><line style=\"stroke: #000000; stroke-width: 1.5;\" x1=\"16\" x2=\"228\" y1=\"28.2969\" y2=\"28.2969\"/><text fill=\"#000000\" font-family=\"sans-serif\" font-size=\"14\" font-weight=\"bold\" lengthAdjust=\"spacingAndGlyphs\" textLength=\"199\" x=\"20\" y=\"20.9951\">QualifiedNameImportTest</text></a><!--MD5=[e4f7fae6ed58524ba242bb0b0d3be6b7]\n",
       "cluster E2--><a href=\"psysml:a3fdeae3-ca66-43fb-8ea3-ccc1fec12162\" target=\"_top\" title=\"psysml:a3fdeae3-ca66-43fb-8ea3-ccc1fec12162\" xlink:actuate=\"onRequest\" xlink:href=\"psysml:a3fdeae3-ca66-43fb-8ea3-ccc1fec12162\" xlink:show=\"new\" xlink:title=\"psysml:a3fdeae3-ca66-43fb-8ea3-ccc1fec12162\" xlink:type=\"simple\"><polygon fill=\"#FFFFFF\" filter=\"url(#f1sv728z4pnvo5)\" points=\"105,177,131,177,138,199.2969,203,199.2969,203,274,105,274,105,177\" style=\"stroke: #000000; stroke-width: 1.5;\"/><line style=\"stroke: #000000; stroke-width: 1.5;\" x1=\"105\" x2=\"138\" y1=\"199.2969\" y2=\"199.2969\"/><text fill=\"#000000\" font-family=\"sans-serif\" font-size=\"14\" font-weight=\"bold\" lengthAdjust=\"spacingAndGlyphs\" textLength=\"20\" x=\"109\" y=\"191.9951\">P1</text></a><!--MD5=[f6df4d0ebaf0b5dfb2ced0ae5af7c670]\n",
       "cluster E4--><a href=\"psysml:f7e915ae-81d4-47d2-8346-f23cee504381\" target=\"_top\" title=\"psysml:f7e915ae-81d4-47d2-8346-f23cee504381\" xlink:actuate=\"onRequest\" xlink:href=\"psysml:f7e915ae-81d4-47d2-8346-f23cee504381\" xlink:show=\"new\" xlink:title=\"psysml:f7e915ae-81d4-47d2-8346-f23cee504381\" xlink:type=\"simple\"><polygon fill=\"#FFFFFF\" filter=\"url(#f1sv728z4pnvo5)\" points=\"44,49,70,49,77,71.2969,203,71.2969,203,153,44,153,44,49\" style=\"stroke: #000000; stroke-width: 1.5;\"/><line style=\"stroke: #000000; stroke-width: 1.5;\" x1=\"44\" x2=\"77\" y1=\"71.2969\" y2=\"71.2969\"/><text fill=\"#000000\" font-family=\"sans-serif\" font-size=\"14\" font-weight=\"bold\" lengthAdjust=\"spacingAndGlyphs\" textLength=\"20\" x=\"48\" y=\"63.9951\">P2</text></a><!--MD5=[09b614a08d8cba4a07c9adeb5e0fee81]\n",
       "class E3--><a href=\"psysml:383f729c-d04b-4502-922b-14a45e711088\" target=\"_top\" title=\"psysml:383f729c-d04b-4502-922b-14a45e711088\" xlink:actuate=\"onRequest\" xlink:href=\"psysml:383f729c-d04b-4502-922b-14a45e711088\" xlink:show=\"new\" xlink:title=\"psysml:383f729c-d04b-4502-922b-14a45e711088\" xlink:type=\"simple\"><rect fill=\"#FEFECE\" filter=\"url(#f1sv728z4pnvo5)\" height=\"45.9375\" id=\"E3\" style=\"stroke: #A80036; stroke-width: 1.5;\" width=\"66\" x=\"121\" y=\"212\"/><text fill=\"#000000\" font-family=\"sans-serif\" font-size=\"12\" font-style=\"italic\" lengthAdjust=\"spacingAndGlyphs\" textLength=\"64\" x=\"122\" y=\"228.1387\">«part def»</text><text fill=\"#000000\" font-family=\"sans-serif\" font-size=\"12\" lengthAdjust=\"spacingAndGlyphs\" textLength=\"8\" x=\"150\" y=\"242.1074\">A</text><line style=\"stroke: #A80036; stroke-width: 1.5;\" x1=\"122\" x2=\"186\" y1=\"249.9375\" y2=\"249.9375\"/></a><!--MD5=[60a26617385b1d2d0262a64233df1f8d]\n",
       "class E6--><a href=\"psysml:411a4236-fb50-40bf-b31c-7cf2c008c402\" target=\"_top\" title=\"psysml:411a4236-fb50-40bf-b31c-7cf2c008c402\" xlink:actuate=\"onRequest\" xlink:href=\"psysml:411a4236-fb50-40bf-b31c-7cf2c008c402\" xlink:show=\"new\" xlink:title=\"psysml:411a4236-fb50-40bf-b31c-7cf2c008c402\" xlink:type=\"simple\"><rect fill=\"#FEFECE\" filter=\"url(#f1sv728z4pnvo5)\" height=\"45.9375\" id=\"E6\" rx=\"10\" ry=\"10\" style=\"stroke: #A80036; stroke-width: 1.5;\" width=\"42\" x=\"145\" y=\"87.5\"/><text fill=\"#000000\" font-family=\"sans-serif\" font-size=\"12\" font-style=\"italic\" lengthAdjust=\"spacingAndGlyphs\" textLength=\"40\" x=\"146\" y=\"103.6387\">«part»</text><text fill=\"#000000\" font-family=\"sans-serif\" font-size=\"12\" lengthAdjust=\"spacingAndGlyphs\" textLength=\"22\" x=\"155\" y=\"117.6074\">x: A</text><line style=\"stroke: #A80036; stroke-width: 1.5;\" x1=\"146\" x2=\"186\" y1=\"125.4375\" y2=\"125.4375\"/></a><a href=\"psysml:806dfed2-196c-4937-8c4a-4cb4ed2b492f\" target=\"_top\" title=\"psysml:806dfed2-196c-4937-8c4a-4cb4ed2b492f\" xlink:actuate=\"onRequest\" xlink:href=\"psysml:806dfed2-196c-4937-8c4a-4cb4ed2b492f\" xlink:show=\"new\" xlink:title=\"psysml:806dfed2-196c-4937-8c4a-4cb4ed2b492f\" xlink:type=\"simple\"><polygon fill=\"#FFFFFF\" filter=\"url(#f1sv728z4pnvo5)\" points=\"60.5,84,95.5,84,102.5,106.2969,109.5,106.2969,109.5,136.5938,60.5,136.5938,60.5,84\" style=\"stroke: #000000; stroke-width: 1.5;\"/><line style=\"stroke: #000000; stroke-width: 1.5;\" x1=\"60.5\" x2=\"102.5\" y1=\"106.2969\" y2=\"106.2969\"/><text fill=\"#000000\" font-family=\"sans-serif\" font-size=\"14\" font-weight=\"bold\" lengthAdjust=\"spacingAndGlyphs\" textLength=\"29\" x=\"64.5\" y=\"98.9951\">P2a</text></a><!--MD5=[a717450b82c80b9240a525fa862496af]\n",
       "link E6 to E3--><a href=\"psysml:65a94b24-3d9f-4a56-873a-c3d993dcfd1a\" target=\"_top\" title=\"psysml:65a94b24-3d9f-4a56-873a-c3d993dcfd1a\" xlink:actuate=\"onRequest\" xlink:href=\"psysml:65a94b24-3d9f-4a56-873a-c3d993dcfd1a\" xlink:show=\"new\" xlink:title=\"psysml:65a94b24-3d9f-4a56-873a-c3d993dcfd1a\" xlink:type=\"simple\"><path d=\"M163.83,133.68 C162.24,149.9 160.04,172.39 158.12,191.96 \" fill=\"none\" id=\"E6-&gt;E3\" style=\"stroke: #A80036; stroke-width: 1.0;\"/><polygon fill=\"#FFFFFF\" points=\"156.16,211.98,151.0533,192.3861,164.986,193.7564,156.16,211.98\" style=\"stroke: #A80036; stroke-width: 1.0;\"/><ellipse cx=\"153.6016\" cy=\"186.9092\" fill=\"#A80036\" rx=\"2\" ry=\"2\" style=\"stroke: #A80036; stroke-width: 1.0;\"/><ellipse cx=\"163.5535\" cy=\"187.888\" fill=\"#A80036\" rx=\"2\" ry=\"2\" style=\"stroke: #A80036; stroke-width: 1.0;\"/></a><!--MD5=[e614859a662eae389a59932ed9c91cc9]\n",
       "@startuml\r\n",
       "skinparam wrapWidth 300\r\n",
       "hide circle\r\n",
       "\r\n",
       "package \"QualifiedNameImportTest\" as E1  [[psysml:825b0528-a754-4768-92c2-54c3479055c4 ]]  {\r\n",
       "package \"P1\" as E2  [[psysml:a3fdeae3-ca66-43fb-8ea3-ccc1fec12162 ]]  {\r\n",
       "comp def \"A\" as E3  <<(T,blue)part def>> [[psysml:383f729c-d04b-4502-922b-14a45e711088 ]] {\r\n",
       "}\r\n",
       "}\r\n",
       "package \"P2\" as E4  [[psysml:f7e915ae-81d4-47d2-8346-f23cee504381 ]]  {\r\n",
       "package \"P2a\" as E5  [[psysml:806dfed2-196c-4937-8c4a-4cb4ed2b492f ]]  {\r\n",
       "}\r\n",
       "comp usage \"x: A\" as E6  <<(T,blue)part>> [[psysml:411a4236-fb50-40bf-b31c-7cf2c008c402 ]] {\r\n",
       "}\r\n",
       "E6 - -:|> E3 [[psysml:65a94b24-3d9f-4a56-873a-c3d993dcfd1a ]] \r\n",
       "}\r\n",
       "}\r\n",
       "@enduml\r\n",
       "\n",
       "PlantUML version 1.2020.13(Sat Jun 13 12:26:38 UTC 2020)\n",
       "(EPL source distribution)\n",
       "Java Runtime: OpenJDK Runtime Environment\n",
       "JVM: OpenJDK 64-Bit Server VM\n",
       "Default Encoding: UTF-8\n",
       "Language: en\n",
       "Country: null\n",
       "--></g></svg>"
      ]
     },
     "execution_count": 28,
     "metadata": {},
     "output_type": "execute_result"
    }
   ],
   "source": [
    "%viz --style=\"STDCOLOR\" --view=\"Sequence\" \"QualifiedNameImportTest\""
   ]
  },
  {
   "cell_type": "code",
   "execution_count": 29,
   "id": "quarterly-oliver",
   "metadata": {
    "execution": {
     "iopub.execute_input": "2021-03-25T15:09:13.866759Z",
     "iopub.status.busy": "2021-03-25T15:09:13.865723Z",
     "iopub.status.idle": "2021-03-25T15:09:13.925102Z",
     "shell.execute_reply": "2021-03-25T15:09:13.923639Z"
    }
   },
   "outputs": [
    {
     "data": {
      "image/svg+xml": [
       "<?xml version=\"1.0\" encoding=\"UTF-8\" standalone=\"no\"?><svg xmlns=\"http://www.w3.org/2000/svg\" xmlns:xlink=\"http://www.w3.org/1999/xlink\" contentScriptType=\"application/ecmascript\" contentStyleType=\"text/css\" height=\"310px\" preserveAspectRatio=\"none\" style=\"width:253px;height:310px;\" version=\"1.1\" viewBox=\"0 0 253 310\" width=\"253px\" zoomAndPan=\"magnify\"><defs><filter height=\"300%\" id=\"f1sv728z4pnvo5\" width=\"300%\" x=\"-1\" y=\"-1\"><feGaussianBlur result=\"blurOut\" stdDeviation=\"2.0\"/><feColorMatrix in=\"blurOut\" result=\"blurOut2\" type=\"matrix\" values=\"0 0 0 0 0 0 0 0 0 0 0 0 0 0 0 0 0 0 .4 0\"/><feOffset dx=\"4.0\" dy=\"4.0\" in=\"blurOut2\" result=\"blurOut3\"/><feBlend in=\"SourceGraphic\" in2=\"blurOut3\" mode=\"normal\"/></filter></defs><g><!--MD5=[fbc87193dbaf4d95561dea2c320d4a47]\n",
       "cluster E1--><a href=\"psysml:825b0528-a754-4768-92c2-54c3479055c4\" target=\"_top\" title=\"psysml:825b0528-a754-4768-92c2-54c3479055c4\" xlink:actuate=\"onRequest\" xlink:href=\"psysml:825b0528-a754-4768-92c2-54c3479055c4\" xlink:show=\"new\" xlink:title=\"psysml:825b0528-a754-4768-92c2-54c3479055c4\" xlink:type=\"simple\"><polygon fill=\"#FFFFFF\" filter=\"url(#f1sv728z4pnvo5)\" points=\"16,6,221,6,228,28.2969,231,28.2969,231,298,16,298,16,6\" style=\"stroke: #000000; stroke-width: 1.5;\"/><line style=\"stroke: #000000; stroke-width: 1.5;\" x1=\"16\" x2=\"228\" y1=\"28.2969\" y2=\"28.2969\"/><text fill=\"#000000\" font-family=\"sans-serif\" font-size=\"14\" font-weight=\"bold\" lengthAdjust=\"spacingAndGlyphs\" textLength=\"199\" x=\"20\" y=\"20.9951\">QualifiedNameImportTest</text></a><!--MD5=[e4f7fae6ed58524ba242bb0b0d3be6b7]\n",
       "cluster E2--><a href=\"psysml:a3fdeae3-ca66-43fb-8ea3-ccc1fec12162\" target=\"_top\" title=\"psysml:a3fdeae3-ca66-43fb-8ea3-ccc1fec12162\" xlink:actuate=\"onRequest\" xlink:href=\"psysml:a3fdeae3-ca66-43fb-8ea3-ccc1fec12162\" xlink:show=\"new\" xlink:title=\"psysml:a3fdeae3-ca66-43fb-8ea3-ccc1fec12162\" xlink:type=\"simple\"><polygon fill=\"#FFFFFF\" filter=\"url(#f1sv728z4pnvo5)\" points=\"105,177,131,177,138,199.2969,203,199.2969,203,274,105,274,105,177\" style=\"stroke: #000000; stroke-width: 1.5;\"/><line style=\"stroke: #000000; stroke-width: 1.5;\" x1=\"105\" x2=\"138\" y1=\"199.2969\" y2=\"199.2969\"/><text fill=\"#000000\" font-family=\"sans-serif\" font-size=\"14\" font-weight=\"bold\" lengthAdjust=\"spacingAndGlyphs\" textLength=\"20\" x=\"109\" y=\"191.9951\">P1</text></a><!--MD5=[f6df4d0ebaf0b5dfb2ced0ae5af7c670]\n",
       "cluster E4--><a href=\"psysml:f7e915ae-81d4-47d2-8346-f23cee504381\" target=\"_top\" title=\"psysml:f7e915ae-81d4-47d2-8346-f23cee504381\" xlink:actuate=\"onRequest\" xlink:href=\"psysml:f7e915ae-81d4-47d2-8346-f23cee504381\" xlink:show=\"new\" xlink:title=\"psysml:f7e915ae-81d4-47d2-8346-f23cee504381\" xlink:type=\"simple\"><polygon fill=\"#FFFFFF\" filter=\"url(#f1sv728z4pnvo5)\" points=\"44,49,70,49,77,71.2969,203,71.2969,203,153,44,153,44,49\" style=\"stroke: #000000; stroke-width: 1.5;\"/><line style=\"stroke: #000000; stroke-width: 1.5;\" x1=\"44\" x2=\"77\" y1=\"71.2969\" y2=\"71.2969\"/><text fill=\"#000000\" font-family=\"sans-serif\" font-size=\"14\" font-weight=\"bold\" lengthAdjust=\"spacingAndGlyphs\" textLength=\"20\" x=\"48\" y=\"63.9951\">P2</text></a><!--MD5=[09b614a08d8cba4a07c9adeb5e0fee81]\n",
       "class E3--><a href=\"psysml:383f729c-d04b-4502-922b-14a45e711088\" target=\"_top\" title=\"psysml:383f729c-d04b-4502-922b-14a45e711088\" xlink:actuate=\"onRequest\" xlink:href=\"psysml:383f729c-d04b-4502-922b-14a45e711088\" xlink:show=\"new\" xlink:title=\"psysml:383f729c-d04b-4502-922b-14a45e711088\" xlink:type=\"simple\"><rect fill=\"#FEFECE\" filter=\"url(#f1sv728z4pnvo5)\" height=\"45.9375\" id=\"E3\" style=\"stroke: #A80036; stroke-width: 1.5;\" width=\"66\" x=\"121\" y=\"212\"/><text fill=\"#000000\" font-family=\"sans-serif\" font-size=\"12\" font-style=\"italic\" lengthAdjust=\"spacingAndGlyphs\" textLength=\"64\" x=\"122\" y=\"228.1387\">«part def»</text><text fill=\"#000000\" font-family=\"sans-serif\" font-size=\"12\" lengthAdjust=\"spacingAndGlyphs\" textLength=\"8\" x=\"150\" y=\"242.1074\">A</text><line style=\"stroke: #A80036; stroke-width: 1.5;\" x1=\"122\" x2=\"186\" y1=\"249.9375\" y2=\"249.9375\"/></a><!--MD5=[60a26617385b1d2d0262a64233df1f8d]\n",
       "class E6--><a href=\"psysml:411a4236-fb50-40bf-b31c-7cf2c008c402\" target=\"_top\" title=\"psysml:411a4236-fb50-40bf-b31c-7cf2c008c402\" xlink:actuate=\"onRequest\" xlink:href=\"psysml:411a4236-fb50-40bf-b31c-7cf2c008c402\" xlink:show=\"new\" xlink:title=\"psysml:411a4236-fb50-40bf-b31c-7cf2c008c402\" xlink:type=\"simple\"><rect fill=\"#FEFECE\" filter=\"url(#f1sv728z4pnvo5)\" height=\"45.9375\" id=\"E6\" rx=\"10\" ry=\"10\" style=\"stroke: #A80036; stroke-width: 1.5;\" width=\"42\" x=\"145\" y=\"87.5\"/><text fill=\"#000000\" font-family=\"sans-serif\" font-size=\"12\" font-style=\"italic\" lengthAdjust=\"spacingAndGlyphs\" textLength=\"40\" x=\"146\" y=\"103.6387\">«part»</text><text fill=\"#000000\" font-family=\"sans-serif\" font-size=\"12\" lengthAdjust=\"spacingAndGlyphs\" textLength=\"22\" x=\"155\" y=\"117.6074\">x: A</text><line style=\"stroke: #A80036; stroke-width: 1.5;\" x1=\"146\" x2=\"186\" y1=\"125.4375\" y2=\"125.4375\"/></a><a href=\"psysml:806dfed2-196c-4937-8c4a-4cb4ed2b492f\" target=\"_top\" title=\"psysml:806dfed2-196c-4937-8c4a-4cb4ed2b492f\" xlink:actuate=\"onRequest\" xlink:href=\"psysml:806dfed2-196c-4937-8c4a-4cb4ed2b492f\" xlink:show=\"new\" xlink:title=\"psysml:806dfed2-196c-4937-8c4a-4cb4ed2b492f\" xlink:type=\"simple\"><polygon fill=\"#FFFFFF\" filter=\"url(#f1sv728z4pnvo5)\" points=\"60.5,84,95.5,84,102.5,106.2969,109.5,106.2969,109.5,136.5938,60.5,136.5938,60.5,84\" style=\"stroke: #000000; stroke-width: 1.5;\"/><line style=\"stroke: #000000; stroke-width: 1.5;\" x1=\"60.5\" x2=\"102.5\" y1=\"106.2969\" y2=\"106.2969\"/><text fill=\"#000000\" font-family=\"sans-serif\" font-size=\"14\" font-weight=\"bold\" lengthAdjust=\"spacingAndGlyphs\" textLength=\"29\" x=\"64.5\" y=\"98.9951\">P2a</text></a><!--MD5=[a717450b82c80b9240a525fa862496af]\n",
       "link E6 to E3--><a href=\"psysml:65a94b24-3d9f-4a56-873a-c3d993dcfd1a\" target=\"_top\" title=\"psysml:65a94b24-3d9f-4a56-873a-c3d993dcfd1a\" xlink:actuate=\"onRequest\" xlink:href=\"psysml:65a94b24-3d9f-4a56-873a-c3d993dcfd1a\" xlink:show=\"new\" xlink:title=\"psysml:65a94b24-3d9f-4a56-873a-c3d993dcfd1a\" xlink:type=\"simple\"><path d=\"M163.83,133.68 C162.24,149.9 160.04,172.39 158.12,191.96 \" fill=\"none\" id=\"E6-&gt;E3\" style=\"stroke: #A80036; stroke-width: 1.0;\"/><polygon fill=\"#FFFFFF\" points=\"156.16,211.98,151.0533,192.3861,164.986,193.7564,156.16,211.98\" style=\"stroke: #A80036; stroke-width: 1.0;\"/><ellipse cx=\"153.6016\" cy=\"186.9092\" fill=\"#A80036\" rx=\"2\" ry=\"2\" style=\"stroke: #A80036; stroke-width: 1.0;\"/><ellipse cx=\"163.5535\" cy=\"187.888\" fill=\"#A80036\" rx=\"2\" ry=\"2\" style=\"stroke: #A80036; stroke-width: 1.0;\"/></a><!--MD5=[e614859a662eae389a59932ed9c91cc9]\n",
       "@startuml\r\n",
       "skinparam wrapWidth 300\r\n",
       "hide circle\r\n",
       "\r\n",
       "package \"QualifiedNameImportTest\" as E1  [[psysml:825b0528-a754-4768-92c2-54c3479055c4 ]]  {\r\n",
       "package \"P1\" as E2  [[psysml:a3fdeae3-ca66-43fb-8ea3-ccc1fec12162 ]]  {\r\n",
       "comp def \"A\" as E3  <<(T,blue)part def>> [[psysml:383f729c-d04b-4502-922b-14a45e711088 ]] {\r\n",
       "}\r\n",
       "}\r\n",
       "package \"P2\" as E4  [[psysml:f7e915ae-81d4-47d2-8346-f23cee504381 ]]  {\r\n",
       "package \"P2a\" as E5  [[psysml:806dfed2-196c-4937-8c4a-4cb4ed2b492f ]]  {\r\n",
       "}\r\n",
       "comp usage \"x: A\" as E6  <<(T,blue)part>> [[psysml:411a4236-fb50-40bf-b31c-7cf2c008c402 ]] {\r\n",
       "}\r\n",
       "E6 - -:|> E3 [[psysml:65a94b24-3d9f-4a56-873a-c3d993dcfd1a ]] \r\n",
       "}\r\n",
       "}\r\n",
       "@enduml\r\n",
       "\n",
       "PlantUML version 1.2020.13(Sat Jun 13 12:26:38 UTC 2020)\n",
       "(EPL source distribution)\n",
       "Java Runtime: OpenJDK Runtime Environment\n",
       "JVM: OpenJDK 64-Bit Server VM\n",
       "Default Encoding: UTF-8\n",
       "Language: en\n",
       "Country: null\n",
       "--></g></svg>"
      ]
     },
     "execution_count": 29,
     "metadata": {},
     "output_type": "execute_result"
    }
   ],
   "source": [
    "%viz --style=\"STDCOLOR\" --view=\"MIXED\" \"QualifiedNameImportTest\""
   ]
  },
  {
   "cell_type": "code",
   "execution_count": 30,
   "id": "fourth-bailey",
   "metadata": {
    "execution": {
     "iopub.execute_input": "2021-03-25T15:09:13.976006Z",
     "iopub.status.busy": "2021-03-25T15:09:13.975491Z",
     "iopub.status.idle": "2021-03-25T15:09:14.031842Z",
     "shell.execute_reply": "2021-03-25T15:09:14.030492Z"
    }
   },
   "outputs": [
    {
     "data": {
      "image/svg+xml": [
       "<?xml version=\"1.0\" encoding=\"UTF-8\" standalone=\"no\"?><svg xmlns=\"http://www.w3.org/2000/svg\" xmlns:xlink=\"http://www.w3.org/1999/xlink\" contentScriptType=\"application/ecmascript\" contentStyleType=\"text/css\" height=\"304px\" preserveAspectRatio=\"none\" style=\"width:271px;height:304px;\" version=\"1.1\" viewBox=\"0 0 271 304\" width=\"271px\" zoomAndPan=\"magnify\"><defs><filter height=\"300%\" id=\"fnn6ihfrlvsi9\" width=\"300%\" x=\"-1\" y=\"-1\"><feGaussianBlur result=\"blurOut\" stdDeviation=\"2.0\"/><feColorMatrix in=\"blurOut\" result=\"blurOut2\" type=\"matrix\" values=\"0 0 0 0 0 0 0 0 0 0 0 0 0 0 0 0 0 0 .4 0\"/><feOffset dx=\"4.0\" dy=\"4.0\" in=\"blurOut2\" result=\"blurOut3\"/><feBlend in=\"SourceGraphic\" in2=\"blurOut3\" mode=\"normal\"/></filter></defs><g><!--MD5=[fbc87193dbaf4d95561dea2c320d4a47]\n",
       "cluster E1--><a href=\"psysml:825b0528-a754-4768-92c2-54c3479055c4\" target=\"_top\" title=\"psysml:825b0528-a754-4768-92c2-54c3479055c4\" xlink:actuate=\"onRequest\" xlink:href=\"psysml:825b0528-a754-4768-92c2-54c3479055c4\" xlink:show=\"new\" xlink:title=\"psysml:825b0528-a754-4768-92c2-54c3479055c4\" xlink:type=\"simple\"><polygon fill=\"#FFFFFF\" filter=\"url(#fnn6ihfrlvsi9)\" points=\"16,6,221,6,228,28.2969,249,28.2969,249,292,16,292,16,6\" style=\"stroke: #000000; stroke-width: 1.5;\"/><line style=\"stroke: #000000; stroke-width: 1.5;\" x1=\"16\" x2=\"228\" y1=\"28.2969\" y2=\"28.2969\"/><text fill=\"#000000\" font-family=\"sans-serif\" font-size=\"14\" font-weight=\"bold\" lengthAdjust=\"spacingAndGlyphs\" textLength=\"199\" x=\"20\" y=\"20.9951\">QualifiedNameImportTest</text></a><!--MD5=[e4f7fae6ed58524ba242bb0b0d3be6b7]\n",
       "cluster E2--><a href=\"psysml:a3fdeae3-ca66-43fb-8ea3-ccc1fec12162\" target=\"_top\" title=\"psysml:a3fdeae3-ca66-43fb-8ea3-ccc1fec12162\" xlink:actuate=\"onRequest\" xlink:href=\"psysml:a3fdeae3-ca66-43fb-8ea3-ccc1fec12162\" xlink:show=\"new\" xlink:title=\"psysml:a3fdeae3-ca66-43fb-8ea3-ccc1fec12162\" xlink:type=\"simple\"><polygon fill=\"#FFFFFF\" filter=\"url(#fnn6ihfrlvsi9)\" points=\"139,177,165,177,172,199.2969,211,199.2969,211,268,139,268,139,177\" style=\"stroke: #000000; stroke-width: 1.5;\"/><line style=\"stroke: #000000; stroke-width: 1.5;\" x1=\"139\" x2=\"172\" y1=\"199.2969\" y2=\"199.2969\"/><text fill=\"#000000\" font-family=\"sans-serif\" font-size=\"14\" font-weight=\"bold\" lengthAdjust=\"spacingAndGlyphs\" textLength=\"20\" x=\"143\" y=\"191.9951\">P1</text></a><!--MD5=[f6df4d0ebaf0b5dfb2ced0ae5af7c670]\n",
       "cluster E4--><a href=\"psysml:f7e915ae-81d4-47d2-8346-f23cee504381\" target=\"_top\" title=\"psysml:f7e915ae-81d4-47d2-8346-f23cee504381\" xlink:actuate=\"onRequest\" xlink:href=\"psysml:f7e915ae-81d4-47d2-8346-f23cee504381\" xlink:show=\"new\" xlink:title=\"psysml:f7e915ae-81d4-47d2-8346-f23cee504381\" xlink:type=\"simple\"><polygon fill=\"#FFFFFF\" filter=\"url(#fnn6ihfrlvsi9)\" points=\"40,49,66,49,73,71.2969,225,71.2969,225,153,40,153,40,49\" style=\"stroke: #000000; stroke-width: 1.5;\"/><line style=\"stroke: #000000; stroke-width: 1.5;\" x1=\"40\" x2=\"73\" y1=\"71.2969\" y2=\"71.2969\"/><text fill=\"#000000\" font-family=\"sans-serif\" font-size=\"14\" font-weight=\"bold\" lengthAdjust=\"spacingAndGlyphs\" textLength=\"20\" x=\"44\" y=\"63.9951\">P2</text></a><!--MD5=[09b614a08d8cba4a07c9adeb5e0fee81]\n",
       "class E3--><a href=\"psysml:383f729c-d04b-4502-922b-14a45e711088\" target=\"_top\" title=\"psysml:383f729c-d04b-4502-922b-14a45e711088\" xlink:actuate=\"onRequest\" xlink:href=\"psysml:383f729c-d04b-4502-922b-14a45e711088\" xlink:show=\"new\" xlink:title=\"psysml:383f729c-d04b-4502-922b-14a45e711088\" xlink:type=\"simple\"><rect fill=\"#FEFECE\" filter=\"url(#fnn6ihfrlvsi9)\" height=\"40\" id=\"E3\" style=\"stroke: #A80036; stroke-width: 1.5;\" width=\"40\" x=\"155\" y=\"212\"/><ellipse cx=\"170\" cy=\"228\" fill=\"#008000\" rx=\"11\" ry=\"11\" style=\"stroke: #A80036; stroke-width: 1.0;\"/><path d=\"M168.9063,228.375 L168.9063,232.0469 L170.5313,232.0469 Q171.7031,232.0469 172.1719,231.6563 Q172.6406,231.25 172.6406,230.25 Q172.6406,229.25 172.1406,228.8125 Q171.6563,228.375 170.5313,228.375 L168.9063,228.375 Z M168.9063,223.5469 L168.9063,226.4219 L170.5313,226.4219 Q171.4531,226.4219 171.8438,226.0938 Q172.25,225.75 172.25,225 Q172.25,224.2344 171.8438,223.8906 Q171.4375,223.5469 170.5313,223.5469 L168.9063,223.5469 Z M166.5313,221.5938 L170.5313,221.5938 Q172.5938,221.5938 173.6406,222.375 Q174.6875,223.1563 174.6875,224.7188 Q174.6875,225.9219 174.0625,226.5938 Q173.4531,227.2656 172.2656,227.375 Q173.6875,227.5156 174.4063,228.3281 Q175.125,229.1406 175.125,230.5938 Q175.125,232.3906 174.0469,233.2031 Q172.9688,234 170.5313,234 L166.5313,234 L166.5313,221.5938 Z \"/><text fill=\"#000000\" font-family=\"sans-serif\" font-size=\"12\" lengthAdjust=\"spacingAndGlyphs\" textLength=\"8\" x=\"184\" y=\"232.1543\">A</text><line style=\"stroke: #A80036; stroke-width: 1.5;\" x1=\"156\" x2=\"194\" y1=\"244\" y2=\"244\"/></a><!--MD5=[60a26617385b1d2d0262a64233df1f8d]\n",
       "class E6--><a href=\"psysml:411a4236-fb50-40bf-b31c-7cf2c008c402\" target=\"_top\" title=\"psysml:411a4236-fb50-40bf-b31c-7cf2c008c402\" xlink:actuate=\"onRequest\" xlink:href=\"psysml:411a4236-fb50-40bf-b31c-7cf2c008c402\" xlink:show=\"new\" xlink:title=\"psysml:411a4236-fb50-40bf-b31c-7cf2c008c402\" xlink:type=\"simple\"><rect fill=\"#FEFECE\" filter=\"url(#fnn6ihfrlvsi9)\" height=\"45.9375\" id=\"E6\" rx=\"10\" ry=\"10\" style=\"stroke: #A80036; stroke-width: 1.5;\" width=\"68\" x=\"141\" y=\"87.5\"/><ellipse cx=\"156\" cy=\"106.4688\" fill=\"#32CD32\" rx=\"11\" ry=\"11\" style=\"stroke: #A80036; stroke-width: 1.0;\"/><path d=\"M155.7969,102.1406 L155.7969,105.7656 L156.7969,105.7656 Q158,105.7656 158.4844,105.3594 Q158.9688,104.9531 158.9688,103.9531 Q158.9688,102.9531 158.4844,102.5469 Q158,102.1406 156.7969,102.1406 L155.7969,102.1406 Z M153.3438,100.0781 L156.7031,100.0781 Q159.2656,100.0781 160.3906,101 Q161.5156,101.9063 161.5156,103.9531 Q161.5156,106 160.3906,106.9219 Q159.2656,107.8281 156.7031,107.8281 L155.7969,107.8281 L155.7969,112.4688 L153.3438,112.4688 L153.3438,100.0781 Z \"/><text fill=\"#000000\" font-family=\"sans-serif\" font-size=\"12\" font-style=\"italic\" lengthAdjust=\"spacingAndGlyphs\" textLength=\"40\" x=\"168\" y=\"103.6387\">«part»</text><text fill=\"#000000\" font-family=\"sans-serif\" font-size=\"12\" lengthAdjust=\"spacingAndGlyphs\" textLength=\"22\" x=\"177\" y=\"117.6074\">x: A</text><line style=\"stroke: #A80036; stroke-width: 1.5;\" x1=\"142\" x2=\"208\" y1=\"125.4375\" y2=\"125.4375\"/></a><a href=\"psysml:806dfed2-196c-4937-8c4a-4cb4ed2b492f\" target=\"_top\" title=\"psysml:806dfed2-196c-4937-8c4a-4cb4ed2b492f\" xlink:actuate=\"onRequest\" xlink:href=\"psysml:806dfed2-196c-4937-8c4a-4cb4ed2b492f\" xlink:show=\"new\" xlink:title=\"psysml:806dfed2-196c-4937-8c4a-4cb4ed2b492f\" xlink:type=\"simple\"><polygon fill=\"#FFFFFF\" filter=\"url(#fnn6ihfrlvsi9)\" points=\"56.5,84,91.5,84,98.5,106.2969,105.5,106.2969,105.5,136.5938,56.5,136.5938,56.5,84\" style=\"stroke: #000000; stroke-width: 1.5;\"/><line style=\"stroke: #000000; stroke-width: 1.5;\" x1=\"56.5\" x2=\"98.5\" y1=\"106.2969\" y2=\"106.2969\"/><text fill=\"#000000\" font-family=\"sans-serif\" font-size=\"14\" font-weight=\"bold\" lengthAdjust=\"spacingAndGlyphs\" textLength=\"29\" x=\"60.5\" y=\"98.9951\">P2a</text></a><!--MD5=[a717450b82c80b9240a525fa862496af]\n",
       "link E6 to E3--><a href=\"psysml:65a94b24-3d9f-4a56-873a-c3d993dcfd1a\" target=\"_top\" title=\"psysml:65a94b24-3d9f-4a56-873a-c3d993dcfd1a\" xlink:actuate=\"onRequest\" xlink:href=\"psysml:65a94b24-3d9f-4a56-873a-c3d993dcfd1a\" xlink:show=\"new\" xlink:title=\"psysml:65a94b24-3d9f-4a56-873a-c3d993dcfd1a\" xlink:type=\"simple\"><path d=\"M175,133.7 C175,149.89 175,172.27 175,191.49 \" fill=\"none\" id=\"E6-&gt;E3\" style=\"stroke: #A80036; stroke-width: 1.0;\"/><polygon fill=\"#FFFFFF\" points=\"175,211.69,168,192.69,182,192.69,175,211.69\" style=\"stroke: #A80036; stroke-width: 1.0;\"/><ellipse cx=\"170\" cy=\"186.99\" fill=\"#A80036\" rx=\"2\" ry=\"2\" style=\"stroke: #A80036; stroke-width: 1.0;\"/><ellipse cx=\"180\" cy=\"186.99\" fill=\"#A80036\" rx=\"2\" ry=\"2\" style=\"stroke: #A80036; stroke-width: 1.0;\"/></a><!--MD5=[9bfecbe6ca7f492160c44745f15cde89]\n",
       "@startuml\r\n",
       " \r\n",
       "package \"QualifiedNameImportTest\" as E1  [[psysml:825b0528-a754-4768-92c2-54c3479055c4 ]]  {\r\n",
       "package \"P1\" as E2  [[psysml:a3fdeae3-ca66-43fb-8ea3-ccc1fec12162 ]]  {\r\n",
       "comp def \"A\" as E3  << (B,green) >> [[psysml:383f729c-d04b-4502-922b-14a45e711088 ]] {\r\n",
       "}\r\n",
       "}\r\n",
       "package \"P2\" as E4  [[psysml:f7e915ae-81d4-47d2-8346-f23cee504381 ]]  {\r\n",
       "package \"P2a\" as E5  [[psysml:806dfed2-196c-4937-8c4a-4cb4ed2b492f ]]  {\r\n",
       "}\r\n",
       "comp usage \"x: A\" as E6  << (P,limegreen) part>> [[psysml:411a4236-fb50-40bf-b31c-7cf2c008c402 ]] {\r\n",
       "}\r\n",
       "E6 - -:|> E3 [[psysml:65a94b24-3d9f-4a56-873a-c3d993dcfd1a ]] \r\n",
       "}\r\n",
       "}\r\n",
       "@enduml\r\n",
       "\n",
       "PlantUML version 1.2020.13(Sat Jun 13 12:26:38 UTC 2020)\n",
       "(EPL source distribution)\n",
       "Java Runtime: OpenJDK Runtime Environment\n",
       "JVM: OpenJDK 64-Bit Server VM\n",
       "Default Encoding: UTF-8\n",
       "Language: en\n",
       "Country: null\n",
       "--></g></svg>"
      ]
     },
     "execution_count": 30,
     "metadata": {},
     "output_type": "execute_result"
    }
   ],
   "source": [
    "%viz --style=\"PLANTUML\" --view=\"Default\" \"QualifiedNameImportTest\""
   ]
  },
  {
   "cell_type": "code",
   "execution_count": 31,
   "id": "infinite-forest",
   "metadata": {
    "execution": {
     "iopub.execute_input": "2021-03-25T15:09:14.083447Z",
     "iopub.status.busy": "2021-03-25T15:09:14.082760Z",
     "iopub.status.idle": "2021-03-25T15:09:14.135695Z",
     "shell.execute_reply": "2021-03-25T15:09:14.133984Z"
    }
   },
   "outputs": [
    {
     "data": {
      "image/svg+xml": [
       "<?xml version=\"1.0\" encoding=\"UTF-8\" standalone=\"no\"?><svg xmlns=\"http://www.w3.org/2000/svg\" xmlns:xlink=\"http://www.w3.org/1999/xlink\" contentScriptType=\"application/ecmascript\" contentStyleType=\"text/css\" height=\"304px\" preserveAspectRatio=\"none\" style=\"width:271px;height:304px;\" version=\"1.1\" viewBox=\"0 0 271 304\" width=\"271px\" zoomAndPan=\"magnify\"><defs><filter height=\"300%\" id=\"fnn6ihfrlvsi9\" width=\"300%\" x=\"-1\" y=\"-1\"><feGaussianBlur result=\"blurOut\" stdDeviation=\"2.0\"/><feColorMatrix in=\"blurOut\" result=\"blurOut2\" type=\"matrix\" values=\"0 0 0 0 0 0 0 0 0 0 0 0 0 0 0 0 0 0 .4 0\"/><feOffset dx=\"4.0\" dy=\"4.0\" in=\"blurOut2\" result=\"blurOut3\"/><feBlend in=\"SourceGraphic\" in2=\"blurOut3\" mode=\"normal\"/></filter></defs><g><!--MD5=[fbc87193dbaf4d95561dea2c320d4a47]\n",
       "cluster E1--><a href=\"psysml:825b0528-a754-4768-92c2-54c3479055c4\" target=\"_top\" title=\"psysml:825b0528-a754-4768-92c2-54c3479055c4\" xlink:actuate=\"onRequest\" xlink:href=\"psysml:825b0528-a754-4768-92c2-54c3479055c4\" xlink:show=\"new\" xlink:title=\"psysml:825b0528-a754-4768-92c2-54c3479055c4\" xlink:type=\"simple\"><polygon fill=\"#FFFFFF\" filter=\"url(#fnn6ihfrlvsi9)\" points=\"16,6,221,6,228,28.2969,249,28.2969,249,292,16,292,16,6\" style=\"stroke: #000000; stroke-width: 1.5;\"/><line style=\"stroke: #000000; stroke-width: 1.5;\" x1=\"16\" x2=\"228\" y1=\"28.2969\" y2=\"28.2969\"/><text fill=\"#000000\" font-family=\"sans-serif\" font-size=\"14\" font-weight=\"bold\" lengthAdjust=\"spacingAndGlyphs\" textLength=\"199\" x=\"20\" y=\"20.9951\">QualifiedNameImportTest</text></a><!--MD5=[e4f7fae6ed58524ba242bb0b0d3be6b7]\n",
       "cluster E2--><a href=\"psysml:a3fdeae3-ca66-43fb-8ea3-ccc1fec12162\" target=\"_top\" title=\"psysml:a3fdeae3-ca66-43fb-8ea3-ccc1fec12162\" xlink:actuate=\"onRequest\" xlink:href=\"psysml:a3fdeae3-ca66-43fb-8ea3-ccc1fec12162\" xlink:show=\"new\" xlink:title=\"psysml:a3fdeae3-ca66-43fb-8ea3-ccc1fec12162\" xlink:type=\"simple\"><polygon fill=\"#FFFFFF\" filter=\"url(#fnn6ihfrlvsi9)\" points=\"139,177,165,177,172,199.2969,211,199.2969,211,268,139,268,139,177\" style=\"stroke: #000000; stroke-width: 1.5;\"/><line style=\"stroke: #000000; stroke-width: 1.5;\" x1=\"139\" x2=\"172\" y1=\"199.2969\" y2=\"199.2969\"/><text fill=\"#000000\" font-family=\"sans-serif\" font-size=\"14\" font-weight=\"bold\" lengthAdjust=\"spacingAndGlyphs\" textLength=\"20\" x=\"143\" y=\"191.9951\">P1</text></a><!--MD5=[f6df4d0ebaf0b5dfb2ced0ae5af7c670]\n",
       "cluster E4--><a href=\"psysml:f7e915ae-81d4-47d2-8346-f23cee504381\" target=\"_top\" title=\"psysml:f7e915ae-81d4-47d2-8346-f23cee504381\" xlink:actuate=\"onRequest\" xlink:href=\"psysml:f7e915ae-81d4-47d2-8346-f23cee504381\" xlink:show=\"new\" xlink:title=\"psysml:f7e915ae-81d4-47d2-8346-f23cee504381\" xlink:type=\"simple\"><polygon fill=\"#FFFFFF\" filter=\"url(#fnn6ihfrlvsi9)\" points=\"40,49,66,49,73,71.2969,225,71.2969,225,153,40,153,40,49\" style=\"stroke: #000000; stroke-width: 1.5;\"/><line style=\"stroke: #000000; stroke-width: 1.5;\" x1=\"40\" x2=\"73\" y1=\"71.2969\" y2=\"71.2969\"/><text fill=\"#000000\" font-family=\"sans-serif\" font-size=\"14\" font-weight=\"bold\" lengthAdjust=\"spacingAndGlyphs\" textLength=\"20\" x=\"44\" y=\"63.9951\">P2</text></a><!--MD5=[09b614a08d8cba4a07c9adeb5e0fee81]\n",
       "class E3--><a href=\"psysml:383f729c-d04b-4502-922b-14a45e711088\" target=\"_top\" title=\"psysml:383f729c-d04b-4502-922b-14a45e711088\" xlink:actuate=\"onRequest\" xlink:href=\"psysml:383f729c-d04b-4502-922b-14a45e711088\" xlink:show=\"new\" xlink:title=\"psysml:383f729c-d04b-4502-922b-14a45e711088\" xlink:type=\"simple\"><rect fill=\"#FEFECE\" filter=\"url(#fnn6ihfrlvsi9)\" height=\"40\" id=\"E3\" style=\"stroke: #A80036; stroke-width: 1.5;\" width=\"40\" x=\"155\" y=\"212\"/><ellipse cx=\"170\" cy=\"228\" fill=\"#008000\" rx=\"11\" ry=\"11\" style=\"stroke: #A80036; stroke-width: 1.0;\"/><path d=\"M168.9063,228.375 L168.9063,232.0469 L170.5313,232.0469 Q171.7031,232.0469 172.1719,231.6563 Q172.6406,231.25 172.6406,230.25 Q172.6406,229.25 172.1406,228.8125 Q171.6563,228.375 170.5313,228.375 L168.9063,228.375 Z M168.9063,223.5469 L168.9063,226.4219 L170.5313,226.4219 Q171.4531,226.4219 171.8438,226.0938 Q172.25,225.75 172.25,225 Q172.25,224.2344 171.8438,223.8906 Q171.4375,223.5469 170.5313,223.5469 L168.9063,223.5469 Z M166.5313,221.5938 L170.5313,221.5938 Q172.5938,221.5938 173.6406,222.375 Q174.6875,223.1563 174.6875,224.7188 Q174.6875,225.9219 174.0625,226.5938 Q173.4531,227.2656 172.2656,227.375 Q173.6875,227.5156 174.4063,228.3281 Q175.125,229.1406 175.125,230.5938 Q175.125,232.3906 174.0469,233.2031 Q172.9688,234 170.5313,234 L166.5313,234 L166.5313,221.5938 Z \"/><text fill=\"#000000\" font-family=\"sans-serif\" font-size=\"12\" lengthAdjust=\"spacingAndGlyphs\" textLength=\"8\" x=\"184\" y=\"232.1543\">A</text><line style=\"stroke: #A80036; stroke-width: 1.5;\" x1=\"156\" x2=\"194\" y1=\"244\" y2=\"244\"/></a><!--MD5=[60a26617385b1d2d0262a64233df1f8d]\n",
       "class E6--><a href=\"psysml:411a4236-fb50-40bf-b31c-7cf2c008c402\" target=\"_top\" title=\"psysml:411a4236-fb50-40bf-b31c-7cf2c008c402\" xlink:actuate=\"onRequest\" xlink:href=\"psysml:411a4236-fb50-40bf-b31c-7cf2c008c402\" xlink:show=\"new\" xlink:title=\"psysml:411a4236-fb50-40bf-b31c-7cf2c008c402\" xlink:type=\"simple\"><rect fill=\"#FEFECE\" filter=\"url(#fnn6ihfrlvsi9)\" height=\"45.9375\" id=\"E6\" rx=\"10\" ry=\"10\" style=\"stroke: #A80036; stroke-width: 1.5;\" width=\"68\" x=\"141\" y=\"87.5\"/><ellipse cx=\"156\" cy=\"106.4688\" fill=\"#32CD32\" rx=\"11\" ry=\"11\" style=\"stroke: #A80036; stroke-width: 1.0;\"/><path d=\"M155.7969,102.1406 L155.7969,105.7656 L156.7969,105.7656 Q158,105.7656 158.4844,105.3594 Q158.9688,104.9531 158.9688,103.9531 Q158.9688,102.9531 158.4844,102.5469 Q158,102.1406 156.7969,102.1406 L155.7969,102.1406 Z M153.3438,100.0781 L156.7031,100.0781 Q159.2656,100.0781 160.3906,101 Q161.5156,101.9063 161.5156,103.9531 Q161.5156,106 160.3906,106.9219 Q159.2656,107.8281 156.7031,107.8281 L155.7969,107.8281 L155.7969,112.4688 L153.3438,112.4688 L153.3438,100.0781 Z \"/><text fill=\"#000000\" font-family=\"sans-serif\" font-size=\"12\" font-style=\"italic\" lengthAdjust=\"spacingAndGlyphs\" textLength=\"40\" x=\"168\" y=\"103.6387\">«part»</text><text fill=\"#000000\" font-family=\"sans-serif\" font-size=\"12\" lengthAdjust=\"spacingAndGlyphs\" textLength=\"22\" x=\"177\" y=\"117.6074\">x: A</text><line style=\"stroke: #A80036; stroke-width: 1.5;\" x1=\"142\" x2=\"208\" y1=\"125.4375\" y2=\"125.4375\"/></a><a href=\"psysml:806dfed2-196c-4937-8c4a-4cb4ed2b492f\" target=\"_top\" title=\"psysml:806dfed2-196c-4937-8c4a-4cb4ed2b492f\" xlink:actuate=\"onRequest\" xlink:href=\"psysml:806dfed2-196c-4937-8c4a-4cb4ed2b492f\" xlink:show=\"new\" xlink:title=\"psysml:806dfed2-196c-4937-8c4a-4cb4ed2b492f\" xlink:type=\"simple\"><polygon fill=\"#FFFFFF\" filter=\"url(#fnn6ihfrlvsi9)\" points=\"56.5,84,91.5,84,98.5,106.2969,105.5,106.2969,105.5,136.5938,56.5,136.5938,56.5,84\" style=\"stroke: #000000; stroke-width: 1.5;\"/><line style=\"stroke: #000000; stroke-width: 1.5;\" x1=\"56.5\" x2=\"98.5\" y1=\"106.2969\" y2=\"106.2969\"/><text fill=\"#000000\" font-family=\"sans-serif\" font-size=\"14\" font-weight=\"bold\" lengthAdjust=\"spacingAndGlyphs\" textLength=\"29\" x=\"60.5\" y=\"98.9951\">P2a</text></a><!--MD5=[a717450b82c80b9240a525fa862496af]\n",
       "link E6 to E3--><a href=\"psysml:65a94b24-3d9f-4a56-873a-c3d993dcfd1a\" target=\"_top\" title=\"psysml:65a94b24-3d9f-4a56-873a-c3d993dcfd1a\" xlink:actuate=\"onRequest\" xlink:href=\"psysml:65a94b24-3d9f-4a56-873a-c3d993dcfd1a\" xlink:show=\"new\" xlink:title=\"psysml:65a94b24-3d9f-4a56-873a-c3d993dcfd1a\" xlink:type=\"simple\"><path d=\"M175,133.7 C175,149.89 175,172.27 175,191.49 \" fill=\"none\" id=\"E6-&gt;E3\" style=\"stroke: #A80036; stroke-width: 1.0;\"/><polygon fill=\"#FFFFFF\" points=\"175,211.69,168,192.69,182,192.69,175,211.69\" style=\"stroke: #A80036; stroke-width: 1.0;\"/><ellipse cx=\"170\" cy=\"186.99\" fill=\"#A80036\" rx=\"2\" ry=\"2\" style=\"stroke: #A80036; stroke-width: 1.0;\"/><ellipse cx=\"180\" cy=\"186.99\" fill=\"#A80036\" rx=\"2\" ry=\"2\" style=\"stroke: #A80036; stroke-width: 1.0;\"/></a><!--MD5=[9bfecbe6ca7f492160c44745f15cde89]\n",
       "@startuml\r\n",
       " \r\n",
       "package \"QualifiedNameImportTest\" as E1  [[psysml:825b0528-a754-4768-92c2-54c3479055c4 ]]  {\r\n",
       "package \"P1\" as E2  [[psysml:a3fdeae3-ca66-43fb-8ea3-ccc1fec12162 ]]  {\r\n",
       "comp def \"A\" as E3  << (B,green) >> [[psysml:383f729c-d04b-4502-922b-14a45e711088 ]] {\r\n",
       "}\r\n",
       "}\r\n",
       "package \"P2\" as E4  [[psysml:f7e915ae-81d4-47d2-8346-f23cee504381 ]]  {\r\n",
       "package \"P2a\" as E5  [[psysml:806dfed2-196c-4937-8c4a-4cb4ed2b492f ]]  {\r\n",
       "}\r\n",
       "comp usage \"x: A\" as E6  << (P,limegreen) part>> [[psysml:411a4236-fb50-40bf-b31c-7cf2c008c402 ]] {\r\n",
       "}\r\n",
       "E6 - -:|> E3 [[psysml:65a94b24-3d9f-4a56-873a-c3d993dcfd1a ]] \r\n",
       "}\r\n",
       "}\r\n",
       "@enduml\r\n",
       "\n",
       "PlantUML version 1.2020.13(Sat Jun 13 12:26:38 UTC 2020)\n",
       "(EPL source distribution)\n",
       "Java Runtime: OpenJDK Runtime Environment\n",
       "JVM: OpenJDK 64-Bit Server VM\n",
       "Default Encoding: UTF-8\n",
       "Language: en\n",
       "Country: null\n",
       "--></g></svg>"
      ]
     },
     "execution_count": 31,
     "metadata": {},
     "output_type": "execute_result"
    }
   ],
   "source": [
    "%viz --style=\"PLANTUML\" --view=\"Tree\" \"QualifiedNameImportTest\""
   ]
  },
  {
   "cell_type": "code",
   "execution_count": 32,
   "id": "turkish-roulette",
   "metadata": {
    "execution": {
     "iopub.execute_input": "2021-03-25T15:09:14.186379Z",
     "iopub.status.busy": "2021-03-25T15:09:14.185839Z",
     "iopub.status.idle": "2021-03-25T15:09:15.042097Z",
     "shell.execute_reply": "2021-03-25T15:09:15.040864Z"
    }
   },
   "outputs": [
    {
     "data": {
      "image/svg+xml": [
       "<?xml version=\"1.0\" encoding=\"UTF-8\" standalone=\"no\"?><svg xmlns=\"http://www.w3.org/2000/svg\" xmlns:xlink=\"http://www.w3.org/1999/xlink\" contentScriptType=\"application/ecmascript\" contentStyleType=\"text/css\" height=\"303px\" preserveAspectRatio=\"none\" style=\"width:603px;height:303px;background:#000000;\" version=\"1.1\" viewBox=\"0 0 603 303\" width=\"603px\" zoomAndPan=\"magnify\"><defs/><g><rect fill=\"#081606\" height=\"1\" style=\"stroke: #081606; stroke-width: 1.0;\" width=\"1\" x=\"0\" y=\"0\"/><rect fill=\"#FFFFFF\" height=\"205.5625\" style=\"stroke: #FFFFFF; stroke-width: 1.0;\" width=\"602\" x=\"0\" y=\"0\"/><text fill=\"#000000\" font-family=\"sans-serif\" font-size=\"12\" font-weight=\"bold\" lengthAdjust=\"spacingAndGlyphs\" textLength=\"159\" x=\"5\" y=\"16.1387\">Welcome to PlantUML!</text><text fill=\"#000000\" font-family=\"sans-serif\" font-size=\"12\" lengthAdjust=\"spacingAndGlyphs\" textLength=\"0\" x=\"9\" y=\"30.1074\"/><text fill=\"#000000\" font-family=\"sans-serif\" font-size=\"12\" lengthAdjust=\"spacingAndGlyphs\" textLength=\"293\" x=\"5\" y=\"44.0762\">If you use this software, you accept its license.</text><text fill=\"#000000\" font-family=\"sans-serif\" font-size=\"12\" lengthAdjust=\"spacingAndGlyphs\" textLength=\"107\" x=\"5\" y=\"58.0449\">(details by typing</text><text fill=\"#000000\" font-family=\"monospace\" font-size=\"12\" lengthAdjust=\"spacingAndGlyphs\" textLength=\"49\" x=\"116\" y=\"58.0449\">license</text><text fill=\"#000000\" font-family=\"sans-serif\" font-size=\"12\" lengthAdjust=\"spacingAndGlyphs\" textLength=\"56\" x=\"169\" y=\"58.0449\">keyword)</text><text fill=\"#000000\" font-family=\"sans-serif\" font-size=\"12\" lengthAdjust=\"spacingAndGlyphs\" textLength=\"0\" x=\"9\" y=\"72.0137\"/><text fill=\"#000000\" font-family=\"sans-serif\" font-size=\"12\" lengthAdjust=\"spacingAndGlyphs\" textLength=\"283\" x=\"5\" y=\"85.9824\">You can start with a simple UML Diagram like:</text><text fill=\"#000000\" font-family=\"sans-serif\" font-size=\"12\" lengthAdjust=\"spacingAndGlyphs\" textLength=\"0\" x=\"9\" y=\"99.9512\"/><text fill=\"#000000\" font-family=\"monospace\" font-size=\"12\" lengthAdjust=\"spacingAndGlyphs\" textLength=\"119\" x=\"5\" y=\"113.9199\">Bob-&gt;Alice: Hello</text><text fill=\"#000000\" font-family=\"sans-serif\" font-size=\"12\" lengthAdjust=\"spacingAndGlyphs\" textLength=\"0\" x=\"9\" y=\"127.8887\"/><text fill=\"#000000\" font-family=\"sans-serif\" font-size=\"12\" lengthAdjust=\"spacingAndGlyphs\" textLength=\"14\" x=\"5\" y=\"141.8574\">Or</text><text fill=\"#000000\" font-family=\"sans-serif\" font-size=\"12\" lengthAdjust=\"spacingAndGlyphs\" textLength=\"0\" x=\"9\" y=\"155.8262\"/><text fill=\"#000000\" font-family=\"monospace\" font-size=\"12\" lengthAdjust=\"spacingAndGlyphs\" textLength=\"91\" x=\"5\" y=\"169.7949\">class Example</text><text fill=\"#000000\" font-family=\"sans-serif\" font-size=\"12\" lengthAdjust=\"spacingAndGlyphs\" textLength=\"0\" x=\"9\" y=\"183.7637\"/><text fill=\"#000000\" font-family=\"sans-serif\" font-size=\"12\" lengthAdjust=\"spacingAndGlyphs\" textLength=\"349\" x=\"5\" y=\"197.7324\">You will find more information about PlantUML syntax on</text><text fill=\"#000000\" font-family=\"sans-serif\" font-size=\"12\" lengthAdjust=\"spacingAndGlyphs\" text-decoration=\"underline\" textLength=\"129\" x=\"358\" y=\"197.7324\">https://plantuml.com</text><image height=\"71\" width=\"80\" x=\"516\" xlink:href=\"data:image/png;base64,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\" y=\"6\"/><rect fill=\"#000000\" height=\"96.4844\" style=\"stroke: #000000; stroke-width: 1.0;\" width=\"602\" x=\"0\" y=\"205.5625\"/><rect fill=\"#33FF02\" height=\"21.2969\" style=\"stroke: #33FF02; stroke-width: 1.0;\" width=\"170\" x=\"5\" y=\"210.5625\"/><text fill=\"#000000\" font-family=\"sans-serif\" font-size=\"14\" font-weight=\"bold\" lengthAdjust=\"spacingAndGlyphs\" textLength=\"168\" x=\"6\" y=\"225.5625\">[From string (line 2) ]</text><text fill=\"#33FF02\" font-family=\"sans-serif\" font-size=\"14\" font-weight=\"bold\" lengthAdjust=\"spacingAndGlyphs\" textLength=\"0\" x=\"10\" y=\"245.8594\"/><text fill=\"#33FF02\" font-family=\"sans-serif\" font-size=\"14\" font-weight=\"bold\" lengthAdjust=\"spacingAndGlyphs\" textLength=\"79\" x=\"5\" y=\"262.1563\">@startuml</text><text fill=\"#33FF02\" font-family=\"sans-serif\" font-size=\"14\" font-weight=\"bold\" lengthAdjust=\"spacingAndGlyphs\" textLength=\"0\" x=\"10\" y=\"278.4531\"/><text fill=\"#FF0000\" font-family=\"sans-serif\" font-size=\"14\" font-weight=\"bold\" lengthAdjust=\"spacingAndGlyphs\" textLength=\"142\" x=\"10\" y=\"294.75\">Empty description</text><!--MD5=[f59edd8218d337f74d0c332fc6737304]\n",
       "@startuml\r\n",
       " \r\n",
       "@enduml\r\n",
       "\n",
       "PlantUML version 1.2020.13(Sat Jun 13 12:26:38 UTC 2020)\n",
       "(EPL source distribution)\n",
       "Java Runtime: OpenJDK Runtime Environment\n",
       "JVM: OpenJDK 64-Bit Server VM\n",
       "Default Encoding: UTF-8\n",
       "Language: en\n",
       "Country: null\n",
       "--></g></svg>"
      ]
     },
     "execution_count": 32,
     "metadata": {},
     "output_type": "execute_result"
    }
   ],
   "source": [
    "%viz --style=\"PLANTUML\" --view=\"State\" \"QualifiedNameImportTest\""
   ]
  },
  {
   "cell_type": "code",
   "execution_count": 33,
   "id": "instant-mexico",
   "metadata": {
    "execution": {
     "iopub.execute_input": "2021-03-25T15:09:15.093014Z",
     "iopub.status.busy": "2021-03-25T15:09:15.092486Z",
     "iopub.status.idle": "2021-03-25T15:09:15.148200Z",
     "shell.execute_reply": "2021-03-25T15:09:15.147692Z"
    }
   },
   "outputs": [
    {
     "data": {
      "image/svg+xml": [
       "<?xml version=\"1.0\" encoding=\"UTF-8\" standalone=\"no\"?><svg xmlns=\"http://www.w3.org/2000/svg\" xmlns:xlink=\"http://www.w3.org/1999/xlink\" contentScriptType=\"application/ecmascript\" contentStyleType=\"text/css\" height=\"189px\" preserveAspectRatio=\"none\" style=\"width:368px;height:189px;\" version=\"1.1\" viewBox=\"0 0 368 189\" width=\"368px\" zoomAndPan=\"magnify\"><defs><filter height=\"300%\" id=\"f1qpkti8ifflzd\" width=\"300%\" x=\"-1\" y=\"-1\"><feGaussianBlur result=\"blurOut\" stdDeviation=\"2.0\"/><feColorMatrix in=\"blurOut\" result=\"blurOut2\" type=\"matrix\" values=\"0 0 0 0 0 0 0 0 0 0 0 0 0 0 0 0 0 0 .4 0\"/><feOffset dx=\"4.0\" dy=\"4.0\" in=\"blurOut2\" result=\"blurOut3\"/><feBlend in=\"SourceGraphic\" in2=\"blurOut3\" mode=\"normal\"/></filter></defs><g><!--MD5=[fbc87193dbaf4d95561dea2c320d4a47]\n",
       "cluster E1--><a href=\"psysml:825b0528-a754-4768-92c2-54c3479055c4\" target=\"_top\" title=\"psysml:825b0528-a754-4768-92c2-54c3479055c4\" xlink:actuate=\"onRequest\" xlink:href=\"psysml:825b0528-a754-4768-92c2-54c3479055c4\" xlink:show=\"new\" xlink:title=\"psysml:825b0528-a754-4768-92c2-54c3479055c4\" xlink:type=\"simple\"><polygon fill=\"#FFFFFF\" filter=\"url(#f1qpkti8ifflzd)\" points=\"16,6,221,6,228,28.2969,346,28.2969,346,177,16,177,16,6\" style=\"stroke: #000000; stroke-width: 1.5;\"/><line style=\"stroke: #000000; stroke-width: 1.5;\" x1=\"16\" x2=\"228\" y1=\"28.2969\" y2=\"28.2969\"/><text fill=\"#000000\" font-family=\"sans-serif\" font-size=\"14\" font-weight=\"bold\" lengthAdjust=\"spacingAndGlyphs\" textLength=\"199\" x=\"20\" y=\"20.9951\">QualifiedNameImportTest</text></a><!--MD5=[e4f7fae6ed58524ba242bb0b0d3be6b7]\n",
       "cluster E2--><a href=\"psysml:a3fdeae3-ca66-43fb-8ea3-ccc1fec12162\" target=\"_top\" title=\"psysml:a3fdeae3-ca66-43fb-8ea3-ccc1fec12162\" xlink:actuate=\"onRequest\" xlink:href=\"psysml:a3fdeae3-ca66-43fb-8ea3-ccc1fec12162\" xlink:show=\"new\" xlink:title=\"psysml:a3fdeae3-ca66-43fb-8ea3-ccc1fec12162\" xlink:type=\"simple\"><polygon fill=\"#FFFFFF\" filter=\"url(#f1qpkti8ifflzd)\" points=\"240,55.5,266,55.5,273,77.7969,322,77.7969,322,146.5,240,146.5,240,55.5\" style=\"stroke: #000000; stroke-width: 1.5;\"/><line style=\"stroke: #000000; stroke-width: 1.5;\" x1=\"240\" x2=\"273\" y1=\"77.7969\" y2=\"77.7969\"/><text fill=\"#000000\" font-family=\"sans-serif\" font-size=\"14\" font-weight=\"bold\" lengthAdjust=\"spacingAndGlyphs\" textLength=\"20\" x=\"244\" y=\"70.4951\">P1</text></a><!--MD5=[f6df4d0ebaf0b5dfb2ced0ae5af7c670]\n",
       "cluster E4--><a href=\"psysml:f7e915ae-81d4-47d2-8346-f23cee504381\" target=\"_top\" title=\"psysml:f7e915ae-81d4-47d2-8346-f23cee504381\" xlink:actuate=\"onRequest\" xlink:href=\"psysml:f7e915ae-81d4-47d2-8346-f23cee504381\" xlink:show=\"new\" xlink:title=\"psysml:f7e915ae-81d4-47d2-8346-f23cee504381\" xlink:type=\"simple\"><polygon fill=\"#FFFFFF\" filter=\"url(#f1qpkti8ifflzd)\" points=\"40,49,66,49,73,71.2969,216,71.2969,216,153,40,153,40,49\" style=\"stroke: #000000; stroke-width: 1.5;\"/><line style=\"stroke: #000000; stroke-width: 1.5;\" x1=\"40\" x2=\"73\" y1=\"71.2969\" y2=\"71.2969\"/><text fill=\"#000000\" font-family=\"sans-serif\" font-size=\"14\" font-weight=\"bold\" lengthAdjust=\"spacingAndGlyphs\" textLength=\"20\" x=\"44\" y=\"63.9951\">P2</text></a><g id=\"E1.E2.E3\"><a href=\"psysml:383f729c-d04b-4502-922b-14a45e711088\" target=\"_top\" title=\"psysml:383f729c-d04b-4502-922b-14a45e711088\" xlink:actuate=\"onRequest\" xlink:href=\"psysml:383f729c-d04b-4502-922b-14a45e711088\" xlink:show=\"new\" xlink:title=\"psysml:383f729c-d04b-4502-922b-14a45e711088\" xlink:type=\"simple\"><rect fill=\"#FEFECE\" filter=\"url(#f1qpkti8ifflzd)\" height=\"40\" id=\"E3\" style=\"stroke: #A80036; stroke-width: 1.5;\" width=\"50\" x=\"256\" y=\"90.5\"/><ellipse cx=\"275.5\" cy=\"106.5\" fill=\"#008000\" rx=\"11\" ry=\"11\" style=\"stroke: #A80036; stroke-width: 1.0;\"/><path d=\"M274.4063,106.875 L274.4063,110.5469 L276.0313,110.5469 Q277.2031,110.5469 277.6719,110.1563 Q278.1406,109.75 278.1406,108.75 Q278.1406,107.75 277.6406,107.3125 Q277.1563,106.875 276.0313,106.875 L274.4063,106.875 Z M274.4063,102.0469 L274.4063,104.9219 L276.0313,104.9219 Q276.9531,104.9219 277.3438,104.5938 Q277.75,104.25 277.75,103.5 Q277.75,102.7344 277.3438,102.3906 Q276.9375,102.0469 276.0313,102.0469 L274.4063,102.0469 Z M272.0313,100.0938 L276.0313,100.0938 Q278.0938,100.0938 279.1406,100.875 Q280.1875,101.6563 280.1875,103.2188 Q280.1875,104.4219 279.5625,105.0938 Q278.9531,105.7656 277.7656,105.875 Q279.1875,106.0156 279.9063,106.8281 Q280.625,107.6406 280.625,109.0938 Q280.625,110.8906 279.5469,111.7031 Q278.4688,112.5 276.0313,112.5 L272.0313,112.5 L272.0313,100.0938 Z \"/><text fill=\"#000000\" font-family=\"sans-serif\" font-size=\"12\" lengthAdjust=\"spacingAndGlyphs\" textLength=\"8\" x=\"290.5\" y=\"110.6543\">A</text></a></g><a href=\"psysml:806dfed2-196c-4937-8c4a-4cb4ed2b492f\" target=\"_top\" title=\"psysml:806dfed2-196c-4937-8c4a-4cb4ed2b492f\" xlink:actuate=\"onRequest\" xlink:href=\"psysml:806dfed2-196c-4937-8c4a-4cb4ed2b492f\" xlink:show=\"new\" xlink:title=\"psysml:806dfed2-196c-4937-8c4a-4cb4ed2b492f\" xlink:type=\"simple\"><polygon fill=\"#FFFFFF\" filter=\"url(#f1qpkti8ifflzd)\" points=\"150.5,84,185.5,84,192.5,106.2969,199.5,106.2969,199.5,136.5938,150.5,136.5938,150.5,84\" style=\"stroke: #000000; stroke-width: 1.5;\"/><line style=\"stroke: #000000; stroke-width: 1.5;\" x1=\"150.5\" x2=\"192.5\" y1=\"106.2969\" y2=\"106.2969\"/><text fill=\"#000000\" font-family=\"sans-serif\" font-size=\"14\" font-weight=\"bold\" lengthAdjust=\"spacingAndGlyphs\" textLength=\"29\" x=\"154.5\" y=\"98.9951\">P2a</text></a><g id=\"E1.E4.E6\"><a href=\"psysml:411a4236-fb50-40bf-b31c-7cf2c008c402\" target=\"_top\" title=\"psysml:411a4236-fb50-40bf-b31c-7cf2c008c402\" xlink:actuate=\"onRequest\" xlink:href=\"psysml:411a4236-fb50-40bf-b31c-7cf2c008c402\" xlink:show=\"new\" xlink:title=\"psysml:411a4236-fb50-40bf-b31c-7cf2c008c402\" xlink:type=\"simple\"><rect fill=\"#FEFECE\" filter=\"url(#f1qpkti8ifflzd)\" height=\"40\" id=\"E6\" rx=\"10\" ry=\"10\" style=\"stroke: #A80036; stroke-width: 1.5;\" width=\"59\" x=\"56.5\" y=\"90.5\"/><ellipse cx=\"73.75\" cy=\"106.5\" fill=\"#B6DBBB\" rx=\"11\" ry=\"11\" style=\"stroke: #A80036; stroke-width: 1.0;\"/><path d=\"M69.625,108.4219 L69.625,100.6094 L72.0781,100.6094 L72.0781,109.0469 Q72.0781,109.9688 72.5469,110.5 Q73.0313,111.0313 73.8594,111.0313 Q74.7031,111.0313 75.1719,110.5 Q75.6406,109.9688 75.6406,109.0469 L75.6406,100.6094 L78.0938,100.6094 L78.0938,108.4219 Q78.0938,110.9531 77.0938,112.0938 Q76.0938,113.2344 73.8594,113.2344 Q71.6406,113.2344 70.625,112.0938 Q69.625,110.9531 69.625,108.4219 Z \"/><text fill=\"#000000\" font-family=\"sans-serif\" font-size=\"12\" lengthAdjust=\"spacingAndGlyphs\" textLength=\"22\" x=\"88.25\" y=\"110.6543\">x: A</text></a></g><!--MD5=[b40fa58d2496c58bdf5718fd60f60377]\n",
       "@startuml\r\n",
       "skinparam ranksep 8\r\n",
       "skinparam rectangle {\r\n",
       " backgroundColor<<block>> LightGreen\r\n",
       "}\r\n",
       " \r\n",
       "package \"QualifiedNameImportTest\" as E1  [[psysml:825b0528-a754-4768-92c2-54c3479055c4 ]]  {\r\n",
       "package \"P1\" as E2  [[psysml:a3fdeae3-ca66-43fb-8ea3-ccc1fec12162 ]]  {\r\n",
       "rec def \"A\" as E3  << (B,green) >> [[psysml:383f729c-d04b-4502-922b-14a45e711088 ]] {\r\n",
       "}\r\n",
       "}\r\n",
       "package \"P2\" as E4  [[psysml:f7e915ae-81d4-47d2-8346-f23cee504381 ]]  {\r\n",
       "package \"P2a\" as E5  [[psysml:806dfed2-196c-4937-8c4a-4cb4ed2b492f ]]  {\r\n",
       "}\r\n",
       "rec usage \"x: A\" as E6  [[psysml:411a4236-fb50-40bf-b31c-7cf2c008c402 ]] {\r\n",
       "}\r\n",
       "}\r\n",
       "}\r\n",
       "@enduml\r\n",
       "\n",
       "PlantUML version 1.2020.13(Sat Jun 13 12:26:38 UTC 2020)\n",
       "(EPL source distribution)\n",
       "Java Runtime: OpenJDK Runtime Environment\n",
       "JVM: OpenJDK 64-Bit Server VM\n",
       "Default Encoding: UTF-8\n",
       "Language: en\n",
       "Country: null\n",
       "--></g></svg>"
      ]
     },
     "execution_count": 33,
     "metadata": {},
     "output_type": "execute_result"
    }
   ],
   "source": [
    "%viz --style=\"PLANTUML\" --view=\"Interconnection\" \"QualifiedNameImportTest\""
   ]
  },
  {
   "cell_type": "code",
   "execution_count": 34,
   "id": "agricultural-silver",
   "metadata": {
    "execution": {
     "iopub.execute_input": "2021-03-25T15:09:15.200029Z",
     "iopub.status.busy": "2021-03-25T15:09:15.199488Z",
     "iopub.status.idle": "2021-03-25T15:09:15.205258Z",
     "shell.execute_reply": "2021-03-25T15:09:15.204748Z"
    }
   },
   "outputs": [
    {
     "data": {
      "image/svg+xml": [
       "<?xml version=\"1.0\" encoding=\"UTF-8\" standalone=\"no\"?><svg xmlns=\"http://www.w3.org/2000/svg\" xmlns:xlink=\"http://www.w3.org/1999/xlink\" contentScriptType=\"application/ecmascript\" contentStyleType=\"text/css\" height=\"12px\" preserveAspectRatio=\"none\" style=\"width:12px;height:12px;\" version=\"1.1\" viewBox=\"0 0 12 12\" width=\"12px\" zoomAndPan=\"magnify\"><defs/><g><!--MD5=[6a4cb978cab31700e1ce5529f947a75d]\n",
       "@startuml\r\n",
       "skinparam ranksep 8\r\n",
       " \r\n",
       "@enduml\r\n",
       "\n",
       "PlantUML version 1.2020.13(Sat Jun 13 12:26:38 UTC 2020)\n",
       "(EPL source distribution)\n",
       "Java Runtime: OpenJDK Runtime Environment\n",
       "JVM: OpenJDK 64-Bit Server VM\n",
       "Default Encoding: UTF-8\n",
       "Language: en\n",
       "Country: null\n",
       "--></g></svg>"
      ]
     },
     "execution_count": 34,
     "metadata": {},
     "output_type": "execute_result"
    }
   ],
   "source": [
    "%viz --style=\"PLANTUML\" --view=\"Action\" \"QualifiedNameImportTest\""
   ]
  },
  {
   "cell_type": "code",
   "execution_count": 35,
   "id": "thick-genre",
   "metadata": {
    "execution": {
     "iopub.execute_input": "2021-03-25T15:09:15.257427Z",
     "iopub.status.busy": "2021-03-25T15:09:15.256950Z",
     "iopub.status.idle": "2021-03-25T15:09:15.315430Z",
     "shell.execute_reply": "2021-03-25T15:09:15.314159Z"
    }
   },
   "outputs": [
    {
     "data": {
      "image/svg+xml": [
       "<?xml version=\"1.0\" encoding=\"UTF-8\" standalone=\"no\"?><svg xmlns=\"http://www.w3.org/2000/svg\" xmlns:xlink=\"http://www.w3.org/1999/xlink\" contentScriptType=\"application/ecmascript\" contentStyleType=\"text/css\" height=\"304px\" preserveAspectRatio=\"none\" style=\"width:271px;height:304px;\" version=\"1.1\" viewBox=\"0 0 271 304\" width=\"271px\" zoomAndPan=\"magnify\"><defs><filter height=\"300%\" id=\"fnn6ihfrlvsi9\" width=\"300%\" x=\"-1\" y=\"-1\"><feGaussianBlur result=\"blurOut\" stdDeviation=\"2.0\"/><feColorMatrix in=\"blurOut\" result=\"blurOut2\" type=\"matrix\" values=\"0 0 0 0 0 0 0 0 0 0 0 0 0 0 0 0 0 0 .4 0\"/><feOffset dx=\"4.0\" dy=\"4.0\" in=\"blurOut2\" result=\"blurOut3\"/><feBlend in=\"SourceGraphic\" in2=\"blurOut3\" mode=\"normal\"/></filter></defs><g><!--MD5=[fbc87193dbaf4d95561dea2c320d4a47]\n",
       "cluster E1--><a href=\"psysml:825b0528-a754-4768-92c2-54c3479055c4\" target=\"_top\" title=\"psysml:825b0528-a754-4768-92c2-54c3479055c4\" xlink:actuate=\"onRequest\" xlink:href=\"psysml:825b0528-a754-4768-92c2-54c3479055c4\" xlink:show=\"new\" xlink:title=\"psysml:825b0528-a754-4768-92c2-54c3479055c4\" xlink:type=\"simple\"><polygon fill=\"#FFFFFF\" filter=\"url(#fnn6ihfrlvsi9)\" points=\"16,6,221,6,228,28.2969,249,28.2969,249,292,16,292,16,6\" style=\"stroke: #000000; stroke-width: 1.5;\"/><line style=\"stroke: #000000; stroke-width: 1.5;\" x1=\"16\" x2=\"228\" y1=\"28.2969\" y2=\"28.2969\"/><text fill=\"#000000\" font-family=\"sans-serif\" font-size=\"14\" font-weight=\"bold\" lengthAdjust=\"spacingAndGlyphs\" textLength=\"199\" x=\"20\" y=\"20.9951\">QualifiedNameImportTest</text></a><!--MD5=[e4f7fae6ed58524ba242bb0b0d3be6b7]\n",
       "cluster E2--><a href=\"psysml:a3fdeae3-ca66-43fb-8ea3-ccc1fec12162\" target=\"_top\" title=\"psysml:a3fdeae3-ca66-43fb-8ea3-ccc1fec12162\" xlink:actuate=\"onRequest\" xlink:href=\"psysml:a3fdeae3-ca66-43fb-8ea3-ccc1fec12162\" xlink:show=\"new\" xlink:title=\"psysml:a3fdeae3-ca66-43fb-8ea3-ccc1fec12162\" xlink:type=\"simple\"><polygon fill=\"#FFFFFF\" filter=\"url(#fnn6ihfrlvsi9)\" points=\"139,177,165,177,172,199.2969,211,199.2969,211,268,139,268,139,177\" style=\"stroke: #000000; stroke-width: 1.5;\"/><line style=\"stroke: #000000; stroke-width: 1.5;\" x1=\"139\" x2=\"172\" y1=\"199.2969\" y2=\"199.2969\"/><text fill=\"#000000\" font-family=\"sans-serif\" font-size=\"14\" font-weight=\"bold\" lengthAdjust=\"spacingAndGlyphs\" textLength=\"20\" x=\"143\" y=\"191.9951\">P1</text></a><!--MD5=[f6df4d0ebaf0b5dfb2ced0ae5af7c670]\n",
       "cluster E4--><a href=\"psysml:f7e915ae-81d4-47d2-8346-f23cee504381\" target=\"_top\" title=\"psysml:f7e915ae-81d4-47d2-8346-f23cee504381\" xlink:actuate=\"onRequest\" xlink:href=\"psysml:f7e915ae-81d4-47d2-8346-f23cee504381\" xlink:show=\"new\" xlink:title=\"psysml:f7e915ae-81d4-47d2-8346-f23cee504381\" xlink:type=\"simple\"><polygon fill=\"#FFFFFF\" filter=\"url(#fnn6ihfrlvsi9)\" points=\"40,49,66,49,73,71.2969,225,71.2969,225,153,40,153,40,49\" style=\"stroke: #000000; stroke-width: 1.5;\"/><line style=\"stroke: #000000; stroke-width: 1.5;\" x1=\"40\" x2=\"73\" y1=\"71.2969\" y2=\"71.2969\"/><text fill=\"#000000\" font-family=\"sans-serif\" font-size=\"14\" font-weight=\"bold\" lengthAdjust=\"spacingAndGlyphs\" textLength=\"20\" x=\"44\" y=\"63.9951\">P2</text></a><!--MD5=[09b614a08d8cba4a07c9adeb5e0fee81]\n",
       "class E3--><a href=\"psysml:383f729c-d04b-4502-922b-14a45e711088\" target=\"_top\" title=\"psysml:383f729c-d04b-4502-922b-14a45e711088\" xlink:actuate=\"onRequest\" xlink:href=\"psysml:383f729c-d04b-4502-922b-14a45e711088\" xlink:show=\"new\" xlink:title=\"psysml:383f729c-d04b-4502-922b-14a45e711088\" xlink:type=\"simple\"><rect fill=\"#FEFECE\" filter=\"url(#fnn6ihfrlvsi9)\" height=\"40\" id=\"E3\" style=\"stroke: #A80036; stroke-width: 1.5;\" width=\"40\" x=\"155\" y=\"212\"/><ellipse cx=\"170\" cy=\"228\" fill=\"#008000\" rx=\"11\" ry=\"11\" style=\"stroke: #A80036; stroke-width: 1.0;\"/><path d=\"M168.9063,228.375 L168.9063,232.0469 L170.5313,232.0469 Q171.7031,232.0469 172.1719,231.6563 Q172.6406,231.25 172.6406,230.25 Q172.6406,229.25 172.1406,228.8125 Q171.6563,228.375 170.5313,228.375 L168.9063,228.375 Z M168.9063,223.5469 L168.9063,226.4219 L170.5313,226.4219 Q171.4531,226.4219 171.8438,226.0938 Q172.25,225.75 172.25,225 Q172.25,224.2344 171.8438,223.8906 Q171.4375,223.5469 170.5313,223.5469 L168.9063,223.5469 Z M166.5313,221.5938 L170.5313,221.5938 Q172.5938,221.5938 173.6406,222.375 Q174.6875,223.1563 174.6875,224.7188 Q174.6875,225.9219 174.0625,226.5938 Q173.4531,227.2656 172.2656,227.375 Q173.6875,227.5156 174.4063,228.3281 Q175.125,229.1406 175.125,230.5938 Q175.125,232.3906 174.0469,233.2031 Q172.9688,234 170.5313,234 L166.5313,234 L166.5313,221.5938 Z \"/><text fill=\"#000000\" font-family=\"sans-serif\" font-size=\"12\" lengthAdjust=\"spacingAndGlyphs\" textLength=\"8\" x=\"184\" y=\"232.1543\">A</text><line style=\"stroke: #A80036; stroke-width: 1.5;\" x1=\"156\" x2=\"194\" y1=\"244\" y2=\"244\"/></a><!--MD5=[60a26617385b1d2d0262a64233df1f8d]\n",
       "class E6--><a href=\"psysml:411a4236-fb50-40bf-b31c-7cf2c008c402\" target=\"_top\" title=\"psysml:411a4236-fb50-40bf-b31c-7cf2c008c402\" xlink:actuate=\"onRequest\" xlink:href=\"psysml:411a4236-fb50-40bf-b31c-7cf2c008c402\" xlink:show=\"new\" xlink:title=\"psysml:411a4236-fb50-40bf-b31c-7cf2c008c402\" xlink:type=\"simple\"><rect fill=\"#FEFECE\" filter=\"url(#fnn6ihfrlvsi9)\" height=\"45.9375\" id=\"E6\" rx=\"10\" ry=\"10\" style=\"stroke: #A80036; stroke-width: 1.5;\" width=\"68\" x=\"141\" y=\"87.5\"/><ellipse cx=\"156\" cy=\"106.4688\" fill=\"#32CD32\" rx=\"11\" ry=\"11\" style=\"stroke: #A80036; stroke-width: 1.0;\"/><path d=\"M155.7969,102.1406 L155.7969,105.7656 L156.7969,105.7656 Q158,105.7656 158.4844,105.3594 Q158.9688,104.9531 158.9688,103.9531 Q158.9688,102.9531 158.4844,102.5469 Q158,102.1406 156.7969,102.1406 L155.7969,102.1406 Z M153.3438,100.0781 L156.7031,100.0781 Q159.2656,100.0781 160.3906,101 Q161.5156,101.9063 161.5156,103.9531 Q161.5156,106 160.3906,106.9219 Q159.2656,107.8281 156.7031,107.8281 L155.7969,107.8281 L155.7969,112.4688 L153.3438,112.4688 L153.3438,100.0781 Z \"/><text fill=\"#000000\" font-family=\"sans-serif\" font-size=\"12\" font-style=\"italic\" lengthAdjust=\"spacingAndGlyphs\" textLength=\"40\" x=\"168\" y=\"103.6387\">«part»</text><text fill=\"#000000\" font-family=\"sans-serif\" font-size=\"12\" lengthAdjust=\"spacingAndGlyphs\" textLength=\"22\" x=\"177\" y=\"117.6074\">x: A</text><line style=\"stroke: #A80036; stroke-width: 1.5;\" x1=\"142\" x2=\"208\" y1=\"125.4375\" y2=\"125.4375\"/></a><a href=\"psysml:806dfed2-196c-4937-8c4a-4cb4ed2b492f\" target=\"_top\" title=\"psysml:806dfed2-196c-4937-8c4a-4cb4ed2b492f\" xlink:actuate=\"onRequest\" xlink:href=\"psysml:806dfed2-196c-4937-8c4a-4cb4ed2b492f\" xlink:show=\"new\" xlink:title=\"psysml:806dfed2-196c-4937-8c4a-4cb4ed2b492f\" xlink:type=\"simple\"><polygon fill=\"#FFFFFF\" filter=\"url(#fnn6ihfrlvsi9)\" points=\"56.5,84,91.5,84,98.5,106.2969,105.5,106.2969,105.5,136.5938,56.5,136.5938,56.5,84\" style=\"stroke: #000000; stroke-width: 1.5;\"/><line style=\"stroke: #000000; stroke-width: 1.5;\" x1=\"56.5\" x2=\"98.5\" y1=\"106.2969\" y2=\"106.2969\"/><text fill=\"#000000\" font-family=\"sans-serif\" font-size=\"14\" font-weight=\"bold\" lengthAdjust=\"spacingAndGlyphs\" textLength=\"29\" x=\"60.5\" y=\"98.9951\">P2a</text></a><!--MD5=[a717450b82c80b9240a525fa862496af]\n",
       "link E6 to E3--><a href=\"psysml:65a94b24-3d9f-4a56-873a-c3d993dcfd1a\" target=\"_top\" title=\"psysml:65a94b24-3d9f-4a56-873a-c3d993dcfd1a\" xlink:actuate=\"onRequest\" xlink:href=\"psysml:65a94b24-3d9f-4a56-873a-c3d993dcfd1a\" xlink:show=\"new\" xlink:title=\"psysml:65a94b24-3d9f-4a56-873a-c3d993dcfd1a\" xlink:type=\"simple\"><path d=\"M175,133.7 C175,149.89 175,172.27 175,191.49 \" fill=\"none\" id=\"E6-&gt;E3\" style=\"stroke: #A80036; stroke-width: 1.0;\"/><polygon fill=\"#FFFFFF\" points=\"175,211.69,168,192.69,182,192.69,175,211.69\" style=\"stroke: #A80036; stroke-width: 1.0;\"/><ellipse cx=\"170\" cy=\"186.99\" fill=\"#A80036\" rx=\"2\" ry=\"2\" style=\"stroke: #A80036; stroke-width: 1.0;\"/><ellipse cx=\"180\" cy=\"186.99\" fill=\"#A80036\" rx=\"2\" ry=\"2\" style=\"stroke: #A80036; stroke-width: 1.0;\"/></a><!--MD5=[9bfecbe6ca7f492160c44745f15cde89]\n",
       "@startuml\r\n",
       " \r\n",
       "package \"QualifiedNameImportTest\" as E1  [[psysml:825b0528-a754-4768-92c2-54c3479055c4 ]]  {\r\n",
       "package \"P1\" as E2  [[psysml:a3fdeae3-ca66-43fb-8ea3-ccc1fec12162 ]]  {\r\n",
       "comp def \"A\" as E3  << (B,green) >> [[psysml:383f729c-d04b-4502-922b-14a45e711088 ]] {\r\n",
       "}\r\n",
       "}\r\n",
       "package \"P2\" as E4  [[psysml:f7e915ae-81d4-47d2-8346-f23cee504381 ]]  {\r\n",
       "package \"P2a\" as E5  [[psysml:806dfed2-196c-4937-8c4a-4cb4ed2b492f ]]  {\r\n",
       "}\r\n",
       "comp usage \"x: A\" as E6  << (P,limegreen) part>> [[psysml:411a4236-fb50-40bf-b31c-7cf2c008c402 ]] {\r\n",
       "}\r\n",
       "E6 - -:|> E3 [[psysml:65a94b24-3d9f-4a56-873a-c3d993dcfd1a ]] \r\n",
       "}\r\n",
       "}\r\n",
       "@enduml\r\n",
       "\n",
       "PlantUML version 1.2020.13(Sat Jun 13 12:26:38 UTC 2020)\n",
       "(EPL source distribution)\n",
       "Java Runtime: OpenJDK Runtime Environment\n",
       "JVM: OpenJDK 64-Bit Server VM\n",
       "Default Encoding: UTF-8\n",
       "Language: en\n",
       "Country: null\n",
       "--></g></svg>"
      ]
     },
     "execution_count": 35,
     "metadata": {},
     "output_type": "execute_result"
    }
   ],
   "source": [
    "%viz --style=\"PLANTUML\" --view=\"Sequence\" \"QualifiedNameImportTest\""
   ]
  },
  {
   "cell_type": "code",
   "execution_count": 36,
   "id": "hungry-supervision",
   "metadata": {
    "execution": {
     "iopub.execute_input": "2021-03-25T15:09:15.365542Z",
     "iopub.status.busy": "2021-03-25T15:09:15.365117Z",
     "iopub.status.idle": "2021-03-25T15:09:15.416884Z",
     "shell.execute_reply": "2021-03-25T15:09:15.415465Z"
    }
   },
   "outputs": [
    {
     "data": {
      "image/svg+xml": [
       "<?xml version=\"1.0\" encoding=\"UTF-8\" standalone=\"no\"?><svg xmlns=\"http://www.w3.org/2000/svg\" xmlns:xlink=\"http://www.w3.org/1999/xlink\" contentScriptType=\"application/ecmascript\" contentStyleType=\"text/css\" height=\"304px\" preserveAspectRatio=\"none\" style=\"width:271px;height:304px;\" version=\"1.1\" viewBox=\"0 0 271 304\" width=\"271px\" zoomAndPan=\"magnify\"><defs><filter height=\"300%\" id=\"fnn6ihfrlvsi9\" width=\"300%\" x=\"-1\" y=\"-1\"><feGaussianBlur result=\"blurOut\" stdDeviation=\"2.0\"/><feColorMatrix in=\"blurOut\" result=\"blurOut2\" type=\"matrix\" values=\"0 0 0 0 0 0 0 0 0 0 0 0 0 0 0 0 0 0 .4 0\"/><feOffset dx=\"4.0\" dy=\"4.0\" in=\"blurOut2\" result=\"blurOut3\"/><feBlend in=\"SourceGraphic\" in2=\"blurOut3\" mode=\"normal\"/></filter></defs><g><!--MD5=[fbc87193dbaf4d95561dea2c320d4a47]\n",
       "cluster E1--><a href=\"psysml:825b0528-a754-4768-92c2-54c3479055c4\" target=\"_top\" title=\"psysml:825b0528-a754-4768-92c2-54c3479055c4\" xlink:actuate=\"onRequest\" xlink:href=\"psysml:825b0528-a754-4768-92c2-54c3479055c4\" xlink:show=\"new\" xlink:title=\"psysml:825b0528-a754-4768-92c2-54c3479055c4\" xlink:type=\"simple\"><polygon fill=\"#FFFFFF\" filter=\"url(#fnn6ihfrlvsi9)\" points=\"16,6,221,6,228,28.2969,249,28.2969,249,292,16,292,16,6\" style=\"stroke: #000000; stroke-width: 1.5;\"/><line style=\"stroke: #000000; stroke-width: 1.5;\" x1=\"16\" x2=\"228\" y1=\"28.2969\" y2=\"28.2969\"/><text fill=\"#000000\" font-family=\"sans-serif\" font-size=\"14\" font-weight=\"bold\" lengthAdjust=\"spacingAndGlyphs\" textLength=\"199\" x=\"20\" y=\"20.9951\">QualifiedNameImportTest</text></a><!--MD5=[e4f7fae6ed58524ba242bb0b0d3be6b7]\n",
       "cluster E2--><a href=\"psysml:a3fdeae3-ca66-43fb-8ea3-ccc1fec12162\" target=\"_top\" title=\"psysml:a3fdeae3-ca66-43fb-8ea3-ccc1fec12162\" xlink:actuate=\"onRequest\" xlink:href=\"psysml:a3fdeae3-ca66-43fb-8ea3-ccc1fec12162\" xlink:show=\"new\" xlink:title=\"psysml:a3fdeae3-ca66-43fb-8ea3-ccc1fec12162\" xlink:type=\"simple\"><polygon fill=\"#FFFFFF\" filter=\"url(#fnn6ihfrlvsi9)\" points=\"139,177,165,177,172,199.2969,211,199.2969,211,268,139,268,139,177\" style=\"stroke: #000000; stroke-width: 1.5;\"/><line style=\"stroke: #000000; stroke-width: 1.5;\" x1=\"139\" x2=\"172\" y1=\"199.2969\" y2=\"199.2969\"/><text fill=\"#000000\" font-family=\"sans-serif\" font-size=\"14\" font-weight=\"bold\" lengthAdjust=\"spacingAndGlyphs\" textLength=\"20\" x=\"143\" y=\"191.9951\">P1</text></a><!--MD5=[f6df4d0ebaf0b5dfb2ced0ae5af7c670]\n",
       "cluster E4--><a href=\"psysml:f7e915ae-81d4-47d2-8346-f23cee504381\" target=\"_top\" title=\"psysml:f7e915ae-81d4-47d2-8346-f23cee504381\" xlink:actuate=\"onRequest\" xlink:href=\"psysml:f7e915ae-81d4-47d2-8346-f23cee504381\" xlink:show=\"new\" xlink:title=\"psysml:f7e915ae-81d4-47d2-8346-f23cee504381\" xlink:type=\"simple\"><polygon fill=\"#FFFFFF\" filter=\"url(#fnn6ihfrlvsi9)\" points=\"40,49,66,49,73,71.2969,225,71.2969,225,153,40,153,40,49\" style=\"stroke: #000000; stroke-width: 1.5;\"/><line style=\"stroke: #000000; stroke-width: 1.5;\" x1=\"40\" x2=\"73\" y1=\"71.2969\" y2=\"71.2969\"/><text fill=\"#000000\" font-family=\"sans-serif\" font-size=\"14\" font-weight=\"bold\" lengthAdjust=\"spacingAndGlyphs\" textLength=\"20\" x=\"44\" y=\"63.9951\">P2</text></a><!--MD5=[09b614a08d8cba4a07c9adeb5e0fee81]\n",
       "class E3--><a href=\"psysml:383f729c-d04b-4502-922b-14a45e711088\" target=\"_top\" title=\"psysml:383f729c-d04b-4502-922b-14a45e711088\" xlink:actuate=\"onRequest\" xlink:href=\"psysml:383f729c-d04b-4502-922b-14a45e711088\" xlink:show=\"new\" xlink:title=\"psysml:383f729c-d04b-4502-922b-14a45e711088\" xlink:type=\"simple\"><rect fill=\"#FEFECE\" filter=\"url(#fnn6ihfrlvsi9)\" height=\"40\" id=\"E3\" style=\"stroke: #A80036; stroke-width: 1.5;\" width=\"40\" x=\"155\" y=\"212\"/><ellipse cx=\"170\" cy=\"228\" fill=\"#008000\" rx=\"11\" ry=\"11\" style=\"stroke: #A80036; stroke-width: 1.0;\"/><path d=\"M168.9063,228.375 L168.9063,232.0469 L170.5313,232.0469 Q171.7031,232.0469 172.1719,231.6563 Q172.6406,231.25 172.6406,230.25 Q172.6406,229.25 172.1406,228.8125 Q171.6563,228.375 170.5313,228.375 L168.9063,228.375 Z M168.9063,223.5469 L168.9063,226.4219 L170.5313,226.4219 Q171.4531,226.4219 171.8438,226.0938 Q172.25,225.75 172.25,225 Q172.25,224.2344 171.8438,223.8906 Q171.4375,223.5469 170.5313,223.5469 L168.9063,223.5469 Z M166.5313,221.5938 L170.5313,221.5938 Q172.5938,221.5938 173.6406,222.375 Q174.6875,223.1563 174.6875,224.7188 Q174.6875,225.9219 174.0625,226.5938 Q173.4531,227.2656 172.2656,227.375 Q173.6875,227.5156 174.4063,228.3281 Q175.125,229.1406 175.125,230.5938 Q175.125,232.3906 174.0469,233.2031 Q172.9688,234 170.5313,234 L166.5313,234 L166.5313,221.5938 Z \"/><text fill=\"#000000\" font-family=\"sans-serif\" font-size=\"12\" lengthAdjust=\"spacingAndGlyphs\" textLength=\"8\" x=\"184\" y=\"232.1543\">A</text><line style=\"stroke: #A80036; stroke-width: 1.5;\" x1=\"156\" x2=\"194\" y1=\"244\" y2=\"244\"/></a><!--MD5=[60a26617385b1d2d0262a64233df1f8d]\n",
       "class E6--><a href=\"psysml:411a4236-fb50-40bf-b31c-7cf2c008c402\" target=\"_top\" title=\"psysml:411a4236-fb50-40bf-b31c-7cf2c008c402\" xlink:actuate=\"onRequest\" xlink:href=\"psysml:411a4236-fb50-40bf-b31c-7cf2c008c402\" xlink:show=\"new\" xlink:title=\"psysml:411a4236-fb50-40bf-b31c-7cf2c008c402\" xlink:type=\"simple\"><rect fill=\"#FEFECE\" filter=\"url(#fnn6ihfrlvsi9)\" height=\"45.9375\" id=\"E6\" rx=\"10\" ry=\"10\" style=\"stroke: #A80036; stroke-width: 1.5;\" width=\"68\" x=\"141\" y=\"87.5\"/><ellipse cx=\"156\" cy=\"106.4688\" fill=\"#32CD32\" rx=\"11\" ry=\"11\" style=\"stroke: #A80036; stroke-width: 1.0;\"/><path d=\"M155.7969,102.1406 L155.7969,105.7656 L156.7969,105.7656 Q158,105.7656 158.4844,105.3594 Q158.9688,104.9531 158.9688,103.9531 Q158.9688,102.9531 158.4844,102.5469 Q158,102.1406 156.7969,102.1406 L155.7969,102.1406 Z M153.3438,100.0781 L156.7031,100.0781 Q159.2656,100.0781 160.3906,101 Q161.5156,101.9063 161.5156,103.9531 Q161.5156,106 160.3906,106.9219 Q159.2656,107.8281 156.7031,107.8281 L155.7969,107.8281 L155.7969,112.4688 L153.3438,112.4688 L153.3438,100.0781 Z \"/><text fill=\"#000000\" font-family=\"sans-serif\" font-size=\"12\" font-style=\"italic\" lengthAdjust=\"spacingAndGlyphs\" textLength=\"40\" x=\"168\" y=\"103.6387\">«part»</text><text fill=\"#000000\" font-family=\"sans-serif\" font-size=\"12\" lengthAdjust=\"spacingAndGlyphs\" textLength=\"22\" x=\"177\" y=\"117.6074\">x: A</text><line style=\"stroke: #A80036; stroke-width: 1.5;\" x1=\"142\" x2=\"208\" y1=\"125.4375\" y2=\"125.4375\"/></a><a href=\"psysml:806dfed2-196c-4937-8c4a-4cb4ed2b492f\" target=\"_top\" title=\"psysml:806dfed2-196c-4937-8c4a-4cb4ed2b492f\" xlink:actuate=\"onRequest\" xlink:href=\"psysml:806dfed2-196c-4937-8c4a-4cb4ed2b492f\" xlink:show=\"new\" xlink:title=\"psysml:806dfed2-196c-4937-8c4a-4cb4ed2b492f\" xlink:type=\"simple\"><polygon fill=\"#FFFFFF\" filter=\"url(#fnn6ihfrlvsi9)\" points=\"56.5,84,91.5,84,98.5,106.2969,105.5,106.2969,105.5,136.5938,56.5,136.5938,56.5,84\" style=\"stroke: #000000; stroke-width: 1.5;\"/><line style=\"stroke: #000000; stroke-width: 1.5;\" x1=\"56.5\" x2=\"98.5\" y1=\"106.2969\" y2=\"106.2969\"/><text fill=\"#000000\" font-family=\"sans-serif\" font-size=\"14\" font-weight=\"bold\" lengthAdjust=\"spacingAndGlyphs\" textLength=\"29\" x=\"60.5\" y=\"98.9951\">P2a</text></a><!--MD5=[a717450b82c80b9240a525fa862496af]\n",
       "link E6 to E3--><a href=\"psysml:65a94b24-3d9f-4a56-873a-c3d993dcfd1a\" target=\"_top\" title=\"psysml:65a94b24-3d9f-4a56-873a-c3d993dcfd1a\" xlink:actuate=\"onRequest\" xlink:href=\"psysml:65a94b24-3d9f-4a56-873a-c3d993dcfd1a\" xlink:show=\"new\" xlink:title=\"psysml:65a94b24-3d9f-4a56-873a-c3d993dcfd1a\" xlink:type=\"simple\"><path d=\"M175,133.7 C175,149.89 175,172.27 175,191.49 \" fill=\"none\" id=\"E6-&gt;E3\" style=\"stroke: #A80036; stroke-width: 1.0;\"/><polygon fill=\"#FFFFFF\" points=\"175,211.69,168,192.69,182,192.69,175,211.69\" style=\"stroke: #A80036; stroke-width: 1.0;\"/><ellipse cx=\"170\" cy=\"186.99\" fill=\"#A80036\" rx=\"2\" ry=\"2\" style=\"stroke: #A80036; stroke-width: 1.0;\"/><ellipse cx=\"180\" cy=\"186.99\" fill=\"#A80036\" rx=\"2\" ry=\"2\" style=\"stroke: #A80036; stroke-width: 1.0;\"/></a><!--MD5=[9bfecbe6ca7f492160c44745f15cde89]\n",
       "@startuml\r\n",
       " \r\n",
       "package \"QualifiedNameImportTest\" as E1  [[psysml:825b0528-a754-4768-92c2-54c3479055c4 ]]  {\r\n",
       "package \"P1\" as E2  [[psysml:a3fdeae3-ca66-43fb-8ea3-ccc1fec12162 ]]  {\r\n",
       "comp def \"A\" as E3  << (B,green) >> [[psysml:383f729c-d04b-4502-922b-14a45e711088 ]] {\r\n",
       "}\r\n",
       "}\r\n",
       "package \"P2\" as E4  [[psysml:f7e915ae-81d4-47d2-8346-f23cee504381 ]]  {\r\n",
       "package \"P2a\" as E5  [[psysml:806dfed2-196c-4937-8c4a-4cb4ed2b492f ]]  {\r\n",
       "}\r\n",
       "comp usage \"x: A\" as E6  << (P,limegreen) part>> [[psysml:411a4236-fb50-40bf-b31c-7cf2c008c402 ]] {\r\n",
       "}\r\n",
       "E6 - -:|> E3 [[psysml:65a94b24-3d9f-4a56-873a-c3d993dcfd1a ]] \r\n",
       "}\r\n",
       "}\r\n",
       "@enduml\r\n",
       "\n",
       "PlantUML version 1.2020.13(Sat Jun 13 12:26:38 UTC 2020)\n",
       "(EPL source distribution)\n",
       "Java Runtime: OpenJDK Runtime Environment\n",
       "JVM: OpenJDK 64-Bit Server VM\n",
       "Default Encoding: UTF-8\n",
       "Language: en\n",
       "Country: null\n",
       "--></g></svg>"
      ]
     },
     "execution_count": 36,
     "metadata": {},
     "output_type": "execute_result"
    }
   ],
   "source": [
    "%viz --style=\"PLANTUML\" --view=\"MIXED\" \"QualifiedNameImportTest\""
   ]
  },
  {
   "cell_type": "code",
   "execution_count": 37,
   "id": "soviet-newman",
   "metadata": {
    "execution": {
     "iopub.execute_input": "2021-03-25T15:09:15.468542Z",
     "iopub.status.busy": "2021-03-25T15:09:15.467384Z",
     "iopub.status.idle": "2021-03-25T15:09:15.529195Z",
     "shell.execute_reply": "2021-03-25T15:09:15.527799Z"
    }
   },
   "outputs": [
    {
     "data": {
      "image/svg+xml": [
       "<?xml version=\"1.0\" encoding=\"UTF-8\" standalone=\"no\"?><svg xmlns=\"http://www.w3.org/2000/svg\" xmlns:xlink=\"http://www.w3.org/1999/xlink\" contentScriptType=\"application/ecmascript\" contentStyleType=\"text/css\" height=\"310px\" preserveAspectRatio=\"none\" style=\"width:253px;height:310px;\" version=\"1.1\" viewBox=\"0 0 253 310\" width=\"253px\" zoomAndPan=\"magnify\"><defs/><g><!--MD5=[fbc87193dbaf4d95561dea2c320d4a47]\n",
       "cluster E1--><a href=\"psysml:825b0528-a754-4768-92c2-54c3479055c4\" target=\"_top\" title=\"psysml:825b0528-a754-4768-92c2-54c3479055c4\" xlink:actuate=\"onRequest\" xlink:href=\"psysml:825b0528-a754-4768-92c2-54c3479055c4\" xlink:show=\"new\" xlink:title=\"psysml:825b0528-a754-4768-92c2-54c3479055c4\" xlink:type=\"simple\"><polygon fill=\"#FFFFFF\" points=\"16,6,221,6,228,28.2969,231,28.2969,231,298,16,298,16,6\" style=\"stroke: #000000; stroke-width: 1.5;\"/><line style=\"stroke: #000000; stroke-width: 1.5;\" x1=\"16\" x2=\"228\" y1=\"28.2969\" y2=\"28.2969\"/><text fill=\"#000000\" font-family=\"sans-serif\" font-size=\"14\" font-weight=\"bold\" lengthAdjust=\"spacingAndGlyphs\" textLength=\"199\" x=\"20\" y=\"20.9951\">QualifiedNameImportTest</text></a><!--MD5=[e4f7fae6ed58524ba242bb0b0d3be6b7]\n",
       "cluster E2--><a href=\"psysml:a3fdeae3-ca66-43fb-8ea3-ccc1fec12162\" target=\"_top\" title=\"psysml:a3fdeae3-ca66-43fb-8ea3-ccc1fec12162\" xlink:actuate=\"onRequest\" xlink:href=\"psysml:a3fdeae3-ca66-43fb-8ea3-ccc1fec12162\" xlink:show=\"new\" xlink:title=\"psysml:a3fdeae3-ca66-43fb-8ea3-ccc1fec12162\" xlink:type=\"simple\"><polygon fill=\"#FFFFFF\" points=\"105,177,131,177,138,199.2969,203,199.2969,203,274,105,274,105,177\" style=\"stroke: #000000; stroke-width: 1.5;\"/><line style=\"stroke: #000000; stroke-width: 1.5;\" x1=\"105\" x2=\"138\" y1=\"199.2969\" y2=\"199.2969\"/><text fill=\"#000000\" font-family=\"sans-serif\" font-size=\"14\" font-weight=\"bold\" lengthAdjust=\"spacingAndGlyphs\" textLength=\"20\" x=\"109\" y=\"191.9951\">P1</text></a><!--MD5=[f6df4d0ebaf0b5dfb2ced0ae5af7c670]\n",
       "cluster E4--><a href=\"psysml:f7e915ae-81d4-47d2-8346-f23cee504381\" target=\"_top\" title=\"psysml:f7e915ae-81d4-47d2-8346-f23cee504381\" xlink:actuate=\"onRequest\" xlink:href=\"psysml:f7e915ae-81d4-47d2-8346-f23cee504381\" xlink:show=\"new\" xlink:title=\"psysml:f7e915ae-81d4-47d2-8346-f23cee504381\" xlink:type=\"simple\"><polygon fill=\"#FFFFFF\" points=\"44,49,70,49,77,71.2969,203,71.2969,203,153,44,153,44,49\" style=\"stroke: #000000; stroke-width: 1.5;\"/><line style=\"stroke: #000000; stroke-width: 1.5;\" x1=\"44\" x2=\"77\" y1=\"71.2969\" y2=\"71.2969\"/><text fill=\"#000000\" font-family=\"sans-serif\" font-size=\"14\" font-weight=\"bold\" lengthAdjust=\"spacingAndGlyphs\" textLength=\"20\" x=\"48\" y=\"63.9951\">P2</text></a><!--MD5=[09b614a08d8cba4a07c9adeb5e0fee81]\n",
       "class E3--><a href=\"psysml:383f729c-d04b-4502-922b-14a45e711088\" target=\"_top\" title=\"psysml:383f729c-d04b-4502-922b-14a45e711088\" xlink:actuate=\"onRequest\" xlink:href=\"psysml:383f729c-d04b-4502-922b-14a45e711088\" xlink:show=\"new\" xlink:title=\"psysml:383f729c-d04b-4502-922b-14a45e711088\" xlink:type=\"simple\"><rect fill=\"#FFFFFF\" height=\"45.9375\" id=\"E3\" style=\"stroke: #383838; stroke-width: 1.5;\" width=\"66\" x=\"121\" y=\"212\"/><text fill=\"#000000\" font-family=\"sans-serif\" font-size=\"12\" font-style=\"italic\" lengthAdjust=\"spacingAndGlyphs\" textLength=\"64\" x=\"122\" y=\"228.1387\">«part def»</text><text fill=\"#000000\" font-family=\"sans-serif\" font-size=\"12\" lengthAdjust=\"spacingAndGlyphs\" textLength=\"8\" x=\"150\" y=\"242.1074\">A</text><line style=\"stroke: #383838; stroke-width: 1.5;\" x1=\"122\" x2=\"186\" y1=\"249.9375\" y2=\"249.9375\"/></a><!--MD5=[60a26617385b1d2d0262a64233df1f8d]\n",
       "class E6--><a href=\"psysml:411a4236-fb50-40bf-b31c-7cf2c008c402\" target=\"_top\" title=\"psysml:411a4236-fb50-40bf-b31c-7cf2c008c402\" xlink:actuate=\"onRequest\" xlink:href=\"psysml:411a4236-fb50-40bf-b31c-7cf2c008c402\" xlink:show=\"new\" xlink:title=\"psysml:411a4236-fb50-40bf-b31c-7cf2c008c402\" xlink:type=\"simple\"><rect fill=\"#FFFFFF\" height=\"45.9375\" id=\"E6\" rx=\"10\" ry=\"10\" style=\"stroke: #383838; stroke-width: 1.5;\" width=\"42\" x=\"145\" y=\"87.5\"/><text fill=\"#000000\" font-family=\"sans-serif\" font-size=\"12\" font-style=\"italic\" lengthAdjust=\"spacingAndGlyphs\" textLength=\"40\" x=\"146\" y=\"103.6387\">«part»</text><text fill=\"#000000\" font-family=\"sans-serif\" font-size=\"12\" lengthAdjust=\"spacingAndGlyphs\" textLength=\"22\" x=\"155\" y=\"117.6074\">x: A</text><line style=\"stroke: #383838; stroke-width: 1.5;\" x1=\"146\" x2=\"186\" y1=\"125.4375\" y2=\"125.4375\"/></a><a href=\"psysml:806dfed2-196c-4937-8c4a-4cb4ed2b492f\" target=\"_top\" title=\"psysml:806dfed2-196c-4937-8c4a-4cb4ed2b492f\" xlink:actuate=\"onRequest\" xlink:href=\"psysml:806dfed2-196c-4937-8c4a-4cb4ed2b492f\" xlink:show=\"new\" xlink:title=\"psysml:806dfed2-196c-4937-8c4a-4cb4ed2b492f\" xlink:type=\"simple\"><polygon fill=\"#FFFFFF\" points=\"60.5,84,95.5,84,102.5,106.2969,109.5,106.2969,109.5,136.5938,60.5,136.5938,60.5,84\" style=\"stroke: #000000; stroke-width: 1.5;\"/><line style=\"stroke: #000000; stroke-width: 1.5;\" x1=\"60.5\" x2=\"102.5\" y1=\"106.2969\" y2=\"106.2969\"/><text fill=\"#000000\" font-family=\"sans-serif\" font-size=\"14\" font-weight=\"bold\" lengthAdjust=\"spacingAndGlyphs\" textLength=\"29\" x=\"64.5\" y=\"98.9951\">P2a</text></a><!--MD5=[a717450b82c80b9240a525fa862496af]\n",
       "link E6 to E3--><a href=\"psysml:65a94b24-3d9f-4a56-873a-c3d993dcfd1a\" target=\"_top\" title=\"psysml:65a94b24-3d9f-4a56-873a-c3d993dcfd1a\" xlink:actuate=\"onRequest\" xlink:href=\"psysml:65a94b24-3d9f-4a56-873a-c3d993dcfd1a\" xlink:show=\"new\" xlink:title=\"psysml:65a94b24-3d9f-4a56-873a-c3d993dcfd1a\" xlink:type=\"simple\"><path d=\"M163.83,133.68 C162.24,149.9 160.04,172.39 158.12,191.96 \" fill=\"none\" id=\"E6-&gt;E3\" style=\"stroke: #383838; stroke-width: 1.0;\"/><polygon fill=\"#FFFFFF\" points=\"156.16,211.98,151.0533,192.3861,164.986,193.7564,156.16,211.98\" style=\"stroke: #383838; stroke-width: 1.0;\"/><ellipse cx=\"153.6016\" cy=\"186.9092\" fill=\"#383838\" rx=\"2\" ry=\"2\" style=\"stroke: #383838; stroke-width: 1.0;\"/><ellipse cx=\"163.5535\" cy=\"187.888\" fill=\"#383838\" rx=\"2\" ry=\"2\" style=\"stroke: #383838; stroke-width: 1.0;\"/></a><!--MD5=[139b543eac4f8e3005d8e57896db527b]\n",
       "@startuml\r\n",
       "skinparam monochrome true\r\n",
       "skinparam classbackgroundcolor white\r\n",
       "skinparam shadowing false\r\n",
       "skinparam wrapWidth 300\r\n",
       "hide circle\r\n",
       "\r\n",
       "package \"QualifiedNameImportTest\" as E1  [[psysml:825b0528-a754-4768-92c2-54c3479055c4 ]]  {\r\n",
       "package \"P1\" as E2  [[psysml:a3fdeae3-ca66-43fb-8ea3-ccc1fec12162 ]]  {\r\n",
       "comp def \"A\" as E3  <<(T,blue)part def>> [[psysml:383f729c-d04b-4502-922b-14a45e711088 ]] {\r\n",
       "}\r\n",
       "}\r\n",
       "package \"P2\" as E4  [[psysml:f7e915ae-81d4-47d2-8346-f23cee504381 ]]  {\r\n",
       "package \"P2a\" as E5  [[psysml:806dfed2-196c-4937-8c4a-4cb4ed2b492f ]]  {\r\n",
       "}\r\n",
       "comp usage \"x: A\" as E6  <<(T,blue)part>> [[psysml:411a4236-fb50-40bf-b31c-7cf2c008c402 ]] {\r\n",
       "}\r\n",
       "E6 - -:|> E3 [[psysml:65a94b24-3d9f-4a56-873a-c3d993dcfd1a ]] \r\n",
       "}\r\n",
       "}\r\n",
       "@enduml\r\n",
       "\n",
       "PlantUML version 1.2020.13(Sat Jun 13 12:26:38 UTC 2020)\n",
       "(EPL source distribution)\n",
       "Java Runtime: OpenJDK Runtime Environment\n",
       "JVM: OpenJDK 64-Bit Server VM\n",
       "Default Encoding: UTF-8\n",
       "Language: en\n",
       "Country: null\n",
       "--></g></svg>"
      ]
     },
     "execution_count": 37,
     "metadata": {},
     "output_type": "execute_result"
    }
   ],
   "source": [
    "%viz --style=\"DEFAULT\" --view=\"Default\" \"QualifiedNameImportTest\""
   ]
  },
  {
   "cell_type": "code",
   "execution_count": 38,
   "id": "spare-resource",
   "metadata": {
    "execution": {
     "iopub.execute_input": "2021-03-25T15:09:15.581132Z",
     "iopub.status.busy": "2021-03-25T15:09:15.580260Z",
     "iopub.status.idle": "2021-03-25T15:09:15.640174Z",
     "shell.execute_reply": "2021-03-25T15:09:15.638811Z"
    }
   },
   "outputs": [
    {
     "data": {
      "image/svg+xml": [
       "<?xml version=\"1.0\" encoding=\"UTF-8\" standalone=\"no\"?><svg xmlns=\"http://www.w3.org/2000/svg\" xmlns:xlink=\"http://www.w3.org/1999/xlink\" contentScriptType=\"application/ecmascript\" contentStyleType=\"text/css\" height=\"310px\" preserveAspectRatio=\"none\" style=\"width:253px;height:310px;\" version=\"1.1\" viewBox=\"0 0 253 310\" width=\"253px\" zoomAndPan=\"magnify\"><defs/><g><!--MD5=[fbc87193dbaf4d95561dea2c320d4a47]\n",
       "cluster E1--><a href=\"psysml:825b0528-a754-4768-92c2-54c3479055c4\" target=\"_top\" title=\"psysml:825b0528-a754-4768-92c2-54c3479055c4\" xlink:actuate=\"onRequest\" xlink:href=\"psysml:825b0528-a754-4768-92c2-54c3479055c4\" xlink:show=\"new\" xlink:title=\"psysml:825b0528-a754-4768-92c2-54c3479055c4\" xlink:type=\"simple\"><polygon fill=\"#FFFFFF\" points=\"16,6,221,6,228,28.2969,231,28.2969,231,298,16,298,16,6\" style=\"stroke: #000000; stroke-width: 1.5;\"/><line style=\"stroke: #000000; stroke-width: 1.5;\" x1=\"16\" x2=\"228\" y1=\"28.2969\" y2=\"28.2969\"/><text fill=\"#000000\" font-family=\"sans-serif\" font-size=\"14\" font-weight=\"bold\" lengthAdjust=\"spacingAndGlyphs\" textLength=\"199\" x=\"20\" y=\"20.9951\">QualifiedNameImportTest</text></a><!--MD5=[e4f7fae6ed58524ba242bb0b0d3be6b7]\n",
       "cluster E2--><a href=\"psysml:a3fdeae3-ca66-43fb-8ea3-ccc1fec12162\" target=\"_top\" title=\"psysml:a3fdeae3-ca66-43fb-8ea3-ccc1fec12162\" xlink:actuate=\"onRequest\" xlink:href=\"psysml:a3fdeae3-ca66-43fb-8ea3-ccc1fec12162\" xlink:show=\"new\" xlink:title=\"psysml:a3fdeae3-ca66-43fb-8ea3-ccc1fec12162\" xlink:type=\"simple\"><polygon fill=\"#FFFFFF\" points=\"105,177,131,177,138,199.2969,203,199.2969,203,274,105,274,105,177\" style=\"stroke: #000000; stroke-width: 1.5;\"/><line style=\"stroke: #000000; stroke-width: 1.5;\" x1=\"105\" x2=\"138\" y1=\"199.2969\" y2=\"199.2969\"/><text fill=\"#000000\" font-family=\"sans-serif\" font-size=\"14\" font-weight=\"bold\" lengthAdjust=\"spacingAndGlyphs\" textLength=\"20\" x=\"109\" y=\"191.9951\">P1</text></a><!--MD5=[f6df4d0ebaf0b5dfb2ced0ae5af7c670]\n",
       "cluster E4--><a href=\"psysml:f7e915ae-81d4-47d2-8346-f23cee504381\" target=\"_top\" title=\"psysml:f7e915ae-81d4-47d2-8346-f23cee504381\" xlink:actuate=\"onRequest\" xlink:href=\"psysml:f7e915ae-81d4-47d2-8346-f23cee504381\" xlink:show=\"new\" xlink:title=\"psysml:f7e915ae-81d4-47d2-8346-f23cee504381\" xlink:type=\"simple\"><polygon fill=\"#FFFFFF\" points=\"44,49,70,49,77,71.2969,203,71.2969,203,153,44,153,44,49\" style=\"stroke: #000000; stroke-width: 1.5;\"/><line style=\"stroke: #000000; stroke-width: 1.5;\" x1=\"44\" x2=\"77\" y1=\"71.2969\" y2=\"71.2969\"/><text fill=\"#000000\" font-family=\"sans-serif\" font-size=\"14\" font-weight=\"bold\" lengthAdjust=\"spacingAndGlyphs\" textLength=\"20\" x=\"48\" y=\"63.9951\">P2</text></a><!--MD5=[09b614a08d8cba4a07c9adeb5e0fee81]\n",
       "class E3--><a href=\"psysml:383f729c-d04b-4502-922b-14a45e711088\" target=\"_top\" title=\"psysml:383f729c-d04b-4502-922b-14a45e711088\" xlink:actuate=\"onRequest\" xlink:href=\"psysml:383f729c-d04b-4502-922b-14a45e711088\" xlink:show=\"new\" xlink:title=\"psysml:383f729c-d04b-4502-922b-14a45e711088\" xlink:type=\"simple\"><rect fill=\"#FFFFFF\" height=\"45.9375\" id=\"E3\" style=\"stroke: #383838; stroke-width: 1.5;\" width=\"66\" x=\"121\" y=\"212\"/><text fill=\"#000000\" font-family=\"sans-serif\" font-size=\"12\" font-style=\"italic\" lengthAdjust=\"spacingAndGlyphs\" textLength=\"64\" x=\"122\" y=\"228.1387\">«part def»</text><text fill=\"#000000\" font-family=\"sans-serif\" font-size=\"12\" lengthAdjust=\"spacingAndGlyphs\" textLength=\"8\" x=\"150\" y=\"242.1074\">A</text><line style=\"stroke: #383838; stroke-width: 1.5;\" x1=\"122\" x2=\"186\" y1=\"249.9375\" y2=\"249.9375\"/></a><!--MD5=[60a26617385b1d2d0262a64233df1f8d]\n",
       "class E6--><a href=\"psysml:411a4236-fb50-40bf-b31c-7cf2c008c402\" target=\"_top\" title=\"psysml:411a4236-fb50-40bf-b31c-7cf2c008c402\" xlink:actuate=\"onRequest\" xlink:href=\"psysml:411a4236-fb50-40bf-b31c-7cf2c008c402\" xlink:show=\"new\" xlink:title=\"psysml:411a4236-fb50-40bf-b31c-7cf2c008c402\" xlink:type=\"simple\"><rect fill=\"#FFFFFF\" height=\"45.9375\" id=\"E6\" rx=\"10\" ry=\"10\" style=\"stroke: #383838; stroke-width: 1.5;\" width=\"42\" x=\"145\" y=\"87.5\"/><text fill=\"#000000\" font-family=\"sans-serif\" font-size=\"12\" font-style=\"italic\" lengthAdjust=\"spacingAndGlyphs\" textLength=\"40\" x=\"146\" y=\"103.6387\">«part»</text><text fill=\"#000000\" font-family=\"sans-serif\" font-size=\"12\" lengthAdjust=\"spacingAndGlyphs\" textLength=\"22\" x=\"155\" y=\"117.6074\">x: A</text><line style=\"stroke: #383838; stroke-width: 1.5;\" x1=\"146\" x2=\"186\" y1=\"125.4375\" y2=\"125.4375\"/></a><a href=\"psysml:806dfed2-196c-4937-8c4a-4cb4ed2b492f\" target=\"_top\" title=\"psysml:806dfed2-196c-4937-8c4a-4cb4ed2b492f\" xlink:actuate=\"onRequest\" xlink:href=\"psysml:806dfed2-196c-4937-8c4a-4cb4ed2b492f\" xlink:show=\"new\" xlink:title=\"psysml:806dfed2-196c-4937-8c4a-4cb4ed2b492f\" xlink:type=\"simple\"><polygon fill=\"#FFFFFF\" points=\"60.5,84,95.5,84,102.5,106.2969,109.5,106.2969,109.5,136.5938,60.5,136.5938,60.5,84\" style=\"stroke: #000000; stroke-width: 1.5;\"/><line style=\"stroke: #000000; stroke-width: 1.5;\" x1=\"60.5\" x2=\"102.5\" y1=\"106.2969\" y2=\"106.2969\"/><text fill=\"#000000\" font-family=\"sans-serif\" font-size=\"14\" font-weight=\"bold\" lengthAdjust=\"spacingAndGlyphs\" textLength=\"29\" x=\"64.5\" y=\"98.9951\">P2a</text></a><!--MD5=[a717450b82c80b9240a525fa862496af]\n",
       "link E6 to E3--><a href=\"psysml:65a94b24-3d9f-4a56-873a-c3d993dcfd1a\" target=\"_top\" title=\"psysml:65a94b24-3d9f-4a56-873a-c3d993dcfd1a\" xlink:actuate=\"onRequest\" xlink:href=\"psysml:65a94b24-3d9f-4a56-873a-c3d993dcfd1a\" xlink:show=\"new\" xlink:title=\"psysml:65a94b24-3d9f-4a56-873a-c3d993dcfd1a\" xlink:type=\"simple\"><path d=\"M163.83,133.68 C162.24,149.9 160.04,172.39 158.12,191.96 \" fill=\"none\" id=\"E6-&gt;E3\" style=\"stroke: #383838; stroke-width: 1.0;\"/><polygon fill=\"#FFFFFF\" points=\"156.16,211.98,151.0533,192.3861,164.986,193.7564,156.16,211.98\" style=\"stroke: #383838; stroke-width: 1.0;\"/><ellipse cx=\"153.6016\" cy=\"186.9092\" fill=\"#383838\" rx=\"2\" ry=\"2\" style=\"stroke: #383838; stroke-width: 1.0;\"/><ellipse cx=\"163.5535\" cy=\"187.888\" fill=\"#383838\" rx=\"2\" ry=\"2\" style=\"stroke: #383838; stroke-width: 1.0;\"/></a><!--MD5=[139b543eac4f8e3005d8e57896db527b]\n",
       "@startuml\r\n",
       "skinparam monochrome true\r\n",
       "skinparam classbackgroundcolor white\r\n",
       "skinparam shadowing false\r\n",
       "skinparam wrapWidth 300\r\n",
       "hide circle\r\n",
       "\r\n",
       "package \"QualifiedNameImportTest\" as E1  [[psysml:825b0528-a754-4768-92c2-54c3479055c4 ]]  {\r\n",
       "package \"P1\" as E2  [[psysml:a3fdeae3-ca66-43fb-8ea3-ccc1fec12162 ]]  {\r\n",
       "comp def \"A\" as E3  <<(T,blue)part def>> [[psysml:383f729c-d04b-4502-922b-14a45e711088 ]] {\r\n",
       "}\r\n",
       "}\r\n",
       "package \"P2\" as E4  [[psysml:f7e915ae-81d4-47d2-8346-f23cee504381 ]]  {\r\n",
       "package \"P2a\" as E5  [[psysml:806dfed2-196c-4937-8c4a-4cb4ed2b492f ]]  {\r\n",
       "}\r\n",
       "comp usage \"x: A\" as E6  <<(T,blue)part>> [[psysml:411a4236-fb50-40bf-b31c-7cf2c008c402 ]] {\r\n",
       "}\r\n",
       "E6 - -:|> E3 [[psysml:65a94b24-3d9f-4a56-873a-c3d993dcfd1a ]] \r\n",
       "}\r\n",
       "}\r\n",
       "@enduml\r\n",
       "\n",
       "PlantUML version 1.2020.13(Sat Jun 13 12:26:38 UTC 2020)\n",
       "(EPL source distribution)\n",
       "Java Runtime: OpenJDK Runtime Environment\n",
       "JVM: OpenJDK 64-Bit Server VM\n",
       "Default Encoding: UTF-8\n",
       "Language: en\n",
       "Country: null\n",
       "--></g></svg>"
      ]
     },
     "execution_count": 38,
     "metadata": {},
     "output_type": "execute_result"
    }
   ],
   "source": [
    "%viz --style=\"DEFAULT\" --view=\"Tree\" \"QualifiedNameImportTest\""
   ]
  },
  {
   "cell_type": "code",
   "execution_count": 39,
   "id": "suspended-share",
   "metadata": {
    "execution": {
     "iopub.execute_input": "2021-03-25T15:09:15.690974Z",
     "iopub.status.busy": "2021-03-25T15:09:15.690413Z",
     "iopub.status.idle": "2021-03-25T15:09:15.698004Z",
     "shell.execute_reply": "2021-03-25T15:09:15.697603Z"
    }
   },
   "outputs": [
    {
     "data": {
      "image/svg+xml": [
       "<?xml version=\"1.0\" encoding=\"UTF-8\" standalone=\"no\"?><svg xmlns=\"http://www.w3.org/2000/svg\" xmlns:xlink=\"http://www.w3.org/1999/xlink\" contentScriptType=\"application/ecmascript\" contentStyleType=\"text/css\" height=\"12px\" preserveAspectRatio=\"none\" style=\"width:12px;height:12px;\" version=\"1.1\" viewBox=\"0 0 12 12\" width=\"12px\" zoomAndPan=\"magnify\"><defs/><g><!--MD5=[c5f280e076d0d61ccf4b0f27871bda1d]\n",
       "@startuml\r\n",
       "skinparam monochrome true\r\n",
       "skinparam classbackgroundcolor white\r\n",
       "skinparam shadowing false\r\n",
       "skinparam wrapWidth 300\r\n",
       "hide circle\r\n",
       "\r\n",
       "@enduml\r\n",
       "\n",
       "PlantUML version 1.2020.13(Sat Jun 13 12:26:38 UTC 2020)\n",
       "(EPL source distribution)\n",
       "Java Runtime: OpenJDK Runtime Environment\n",
       "JVM: OpenJDK 64-Bit Server VM\n",
       "Default Encoding: UTF-8\n",
       "Language: en\n",
       "Country: null\n",
       "--></g></svg>"
      ]
     },
     "execution_count": 39,
     "metadata": {},
     "output_type": "execute_result"
    }
   ],
   "source": [
    "%viz --style=\"DEFAULT\" --view=\"State\" \"QualifiedNameImportTest\""
   ]
  },
  {
   "cell_type": "code",
   "execution_count": 40,
   "id": "light-bradford",
   "metadata": {
    "execution": {
     "iopub.execute_input": "2021-03-25T15:09:15.748886Z",
     "iopub.status.busy": "2021-03-25T15:09:15.748275Z",
     "iopub.status.idle": "2021-03-25T15:09:15.804054Z",
     "shell.execute_reply": "2021-03-25T15:09:15.802544Z"
    }
   },
   "outputs": [
    {
     "data": {
      "image/svg+xml": [
       "<?xml version=\"1.0\" encoding=\"UTF-8\" standalone=\"no\"?><svg xmlns=\"http://www.w3.org/2000/svg\" xmlns:xlink=\"http://www.w3.org/1999/xlink\" contentScriptType=\"application/ecmascript\" contentStyleType=\"text/css\" height=\"189px\" preserveAspectRatio=\"none\" style=\"width:381px;height:189px;\" version=\"1.1\" viewBox=\"0 0 381 189\" width=\"381px\" zoomAndPan=\"magnify\"><defs/><g><!--MD5=[fbc87193dbaf4d95561dea2c320d4a47]\n",
       "cluster E1--><a href=\"psysml:825b0528-a754-4768-92c2-54c3479055c4\" target=\"_top\" title=\"psysml:825b0528-a754-4768-92c2-54c3479055c4\" xlink:actuate=\"onRequest\" xlink:href=\"psysml:825b0528-a754-4768-92c2-54c3479055c4\" xlink:show=\"new\" xlink:title=\"psysml:825b0528-a754-4768-92c2-54c3479055c4\" xlink:type=\"simple\"><polygon fill=\"#FFFFFF\" points=\"16,6,221,6,228,28.2969,359,28.2969,359,177,16,177,16,6\" style=\"stroke: #000000; stroke-width: 1.5;\"/><line style=\"stroke: #000000; stroke-width: 1.5;\" x1=\"16\" x2=\"228\" y1=\"28.2969\" y2=\"28.2969\"/><text fill=\"#000000\" font-family=\"sans-serif\" font-size=\"14\" font-weight=\"bold\" lengthAdjust=\"spacingAndGlyphs\" textLength=\"199\" x=\"20\" y=\"20.9951\">QualifiedNameImportTest</text></a><!--MD5=[e4f7fae6ed58524ba242bb0b0d3be6b7]\n",
       "cluster E2--><a href=\"psysml:a3fdeae3-ca66-43fb-8ea3-ccc1fec12162\" target=\"_top\" title=\"psysml:a3fdeae3-ca66-43fb-8ea3-ccc1fec12162\" xlink:actuate=\"onRequest\" xlink:href=\"psysml:a3fdeae3-ca66-43fb-8ea3-ccc1fec12162\" xlink:show=\"new\" xlink:title=\"psysml:a3fdeae3-ca66-43fb-8ea3-ccc1fec12162\" xlink:type=\"simple\"><polygon fill=\"#FFFFFF\" points=\"231,54,257,54,264,76.2969,335,76.2969,335,148,231,148,231,54\" style=\"stroke: #000000; stroke-width: 1.5;\"/><line style=\"stroke: #000000; stroke-width: 1.5;\" x1=\"231\" x2=\"264\" y1=\"76.2969\" y2=\"76.2969\"/><text fill=\"#000000\" font-family=\"sans-serif\" font-size=\"14\" font-weight=\"bold\" lengthAdjust=\"spacingAndGlyphs\" textLength=\"20\" x=\"235\" y=\"68.9951\">P1</text></a><!--MD5=[f6df4d0ebaf0b5dfb2ced0ae5af7c670]\n",
       "cluster E4--><a href=\"psysml:f7e915ae-81d4-47d2-8346-f23cee504381\" target=\"_top\" title=\"psysml:f7e915ae-81d4-47d2-8346-f23cee504381\" xlink:actuate=\"onRequest\" xlink:href=\"psysml:f7e915ae-81d4-47d2-8346-f23cee504381\" xlink:show=\"new\" xlink:title=\"psysml:f7e915ae-81d4-47d2-8346-f23cee504381\" xlink:type=\"simple\"><polygon fill=\"#FFFFFF\" points=\"40,49,66,49,73,71.2969,207,71.2969,207,153,40,153,40,49\" style=\"stroke: #000000; stroke-width: 1.5;\"/><line style=\"stroke: #000000; stroke-width: 1.5;\" x1=\"40\" x2=\"73\" y1=\"71.2969\" y2=\"71.2969\"/><text fill=\"#000000\" font-family=\"sans-serif\" font-size=\"14\" font-weight=\"bold\" lengthAdjust=\"spacingAndGlyphs\" textLength=\"20\" x=\"44\" y=\"63.9951\">P2</text></a><g id=\"E1.E2.E3\"><a href=\"psysml:383f729c-d04b-4502-922b-14a45e711088\" target=\"_top\" title=\"psysml:383f729c-d04b-4502-922b-14a45e711088\" xlink:actuate=\"onRequest\" xlink:href=\"psysml:383f729c-d04b-4502-922b-14a45e711088\" xlink:show=\"new\" xlink:title=\"psysml:383f729c-d04b-4502-922b-14a45e711088\" xlink:type=\"simple\"><rect fill=\"#FFFFFF\" height=\"42.9375\" id=\"E3\" style=\"stroke: #383838; stroke-width: 1.5;\" width=\"71\" x=\"247.5\" y=\"89\"/><rect fill=\"#F8F8F8\" height=\"37.9375\" style=\"stroke: #383838; stroke-width: 1.5;\" width=\"71\" x=\"247.5\" y=\"89\"/><text fill=\"#000000\" font-family=\"sans-serif\" font-size=\"12\" font-style=\"italic\" lengthAdjust=\"spacingAndGlyphs\" textLength=\"64\" x=\"251\" y=\"105.1387\">«part def»</text><text fill=\"#000000\" font-family=\"sans-serif\" font-size=\"12\" lengthAdjust=\"spacingAndGlyphs\" textLength=\"8\" x=\"279\" y=\"119.1074\">A</text></a></g><a href=\"psysml:806dfed2-196c-4937-8c4a-4cb4ed2b492f\" target=\"_top\" title=\"psysml:806dfed2-196c-4937-8c4a-4cb4ed2b492f\" xlink:actuate=\"onRequest\" xlink:href=\"psysml:806dfed2-196c-4937-8c4a-4cb4ed2b492f\" xlink:show=\"new\" xlink:title=\"psysml:806dfed2-196c-4937-8c4a-4cb4ed2b492f\" xlink:type=\"simple\"><polygon fill=\"#FFFFFF\" points=\"141.5,84,176.5,84,183.5,106.2969,190.5,106.2969,190.5,136.5938,141.5,136.5938,141.5,84\" style=\"stroke: #000000; stroke-width: 1.5;\"/><line style=\"stroke: #000000; stroke-width: 1.5;\" x1=\"141.5\" x2=\"183.5\" y1=\"106.2969\" y2=\"106.2969\"/><text fill=\"#000000\" font-family=\"sans-serif\" font-size=\"14\" font-weight=\"bold\" lengthAdjust=\"spacingAndGlyphs\" textLength=\"29\" x=\"145.5\" y=\"98.9951\">P2a</text></a><g id=\"E1.E4.E6\"><a href=\"psysml:411a4236-fb50-40bf-b31c-7cf2c008c402\" target=\"_top\" title=\"psysml:411a4236-fb50-40bf-b31c-7cf2c008c402\" xlink:actuate=\"onRequest\" xlink:href=\"psysml:411a4236-fb50-40bf-b31c-7cf2c008c402\" xlink:show=\"new\" xlink:title=\"psysml:411a4236-fb50-40bf-b31c-7cf2c008c402\" xlink:type=\"simple\"><rect fill=\"#FFFFFF\" height=\"40\" id=\"E6\" rx=\"10\" ry=\"10\" style=\"stroke: #383838; stroke-width: 1.5;\" width=\"50\" x=\"56\" y=\"90.5\"/><rect fill=\"#F8F8F8\" height=\"23.9688\" rx=\"10\" ry=\"10\" style=\"stroke: #F8F8F8; stroke-width: 1.5;\" width=\"50\" x=\"56\" y=\"90.5\"/><rect fill=\"#F8F8F8\" height=\"10\" style=\"stroke: #F8F8F8; stroke-width: 1.5;\" width=\"50\" x=\"56\" y=\"104.4688\"/><rect fill=\"none\" height=\"40\" id=\"E6\" rx=\"10\" ry=\"10\" style=\"stroke: #383838; stroke-width: 1.5;\" width=\"50\" x=\"56\" y=\"90.5\"/><text fill=\"#000000\" font-family=\"sans-serif\" font-size=\"12\" lengthAdjust=\"spacingAndGlyphs\" textLength=\"22\" x=\"70\" y=\"106.6387\">x: A</text></a></g><!--MD5=[24ae99324ba02b752fd16b0dc39564c8]\n",
       "@startuml\r\n",
       "skinparam ranksep 8\r\n",
       "skinparam rectangle {\r\n",
       " backgroundColor<<block>> LightGreen\r\n",
       "}\r\n",
       "skinparam monochrome true\r\n",
       "skinparam classbackgroundcolor white\r\n",
       "skinparam shadowing false\r\n",
       "skinparam wrapWidth 300\r\n",
       "hide circle\r\n",
       "\r\n",
       "package \"QualifiedNameImportTest\" as E1  [[psysml:825b0528-a754-4768-92c2-54c3479055c4 ]]  {\r\n",
       "package \"P1\" as E2  [[psysml:a3fdeae3-ca66-43fb-8ea3-ccc1fec12162 ]]  {\r\n",
       "rec def \"A\" as E3  <<(T,blue)part def>> [[psysml:383f729c-d04b-4502-922b-14a45e711088 ]] {\r\n",
       "}\r\n",
       "}\r\n",
       "package \"P2\" as E4  [[psysml:f7e915ae-81d4-47d2-8346-f23cee504381 ]]  {\r\n",
       "package \"P2a\" as E5  [[psysml:806dfed2-196c-4937-8c4a-4cb4ed2b492f ]]  {\r\n",
       "}\r\n",
       "rec usage \"x: A\" as E6  [[psysml:411a4236-fb50-40bf-b31c-7cf2c008c402 ]] {\r\n",
       "}\r\n",
       "}\r\n",
       "}\r\n",
       "@enduml\r\n",
       "\n",
       "PlantUML version 1.2020.13(Sat Jun 13 12:26:38 UTC 2020)\n",
       "(EPL source distribution)\n",
       "Java Runtime: OpenJDK Runtime Environment\n",
       "JVM: OpenJDK 64-Bit Server VM\n",
       "Default Encoding: UTF-8\n",
       "Language: en\n",
       "Country: null\n",
       "--></g></svg>"
      ]
     },
     "execution_count": 40,
     "metadata": {},
     "output_type": "execute_result"
    }
   ],
   "source": [
    "%viz --style=\"DEFAULT\" --view=\"Interconnection\" \"QualifiedNameImportTest\""
   ]
  },
  {
   "cell_type": "code",
   "execution_count": 41,
   "id": "incorrect-guatemala",
   "metadata": {
    "execution": {
     "iopub.execute_input": "2021-03-25T15:09:15.854209Z",
     "iopub.status.busy": "2021-03-25T15:09:15.853679Z",
     "iopub.status.idle": "2021-03-25T15:09:15.862489Z",
     "shell.execute_reply": "2021-03-25T15:09:15.862159Z"
    }
   },
   "outputs": [
    {
     "data": {
      "image/svg+xml": [
       "<?xml version=\"1.0\" encoding=\"UTF-8\" standalone=\"no\"?><svg xmlns=\"http://www.w3.org/2000/svg\" xmlns:xlink=\"http://www.w3.org/1999/xlink\" contentScriptType=\"application/ecmascript\" contentStyleType=\"text/css\" height=\"12px\" preserveAspectRatio=\"none\" style=\"width:12px;height:12px;\" version=\"1.1\" viewBox=\"0 0 12 12\" width=\"12px\" zoomAndPan=\"magnify\"><defs/><g><!--MD5=[388f21188e31bfdd97050473b19af356]\n",
       "@startuml\r\n",
       "skinparam ranksep 8\r\n",
       "skinparam monochrome true\r\n",
       "skinparam classbackgroundcolor white\r\n",
       "skinparam shadowing false\r\n",
       "skinparam wrapWidth 300\r\n",
       "hide circle\r\n",
       "\r\n",
       "@enduml\r\n",
       "\n",
       "PlantUML version 1.2020.13(Sat Jun 13 12:26:38 UTC 2020)\n",
       "(EPL source distribution)\n",
       "Java Runtime: OpenJDK Runtime Environment\n",
       "JVM: OpenJDK 64-Bit Server VM\n",
       "Default Encoding: UTF-8\n",
       "Language: en\n",
       "Country: null\n",
       "--></g></svg>"
      ]
     },
     "execution_count": 41,
     "metadata": {},
     "output_type": "execute_result"
    }
   ],
   "source": [
    "%viz --style=\"DEFAULT\" --view=\"Action\" \"QualifiedNameImportTest\""
   ]
  },
  {
   "cell_type": "code",
   "execution_count": 42,
   "id": "sustained-wagon",
   "metadata": {
    "execution": {
     "iopub.execute_input": "2021-03-25T15:09:15.915094Z",
     "iopub.status.busy": "2021-03-25T15:09:15.914487Z",
     "iopub.status.idle": "2021-03-25T15:09:15.973264Z",
     "shell.execute_reply": "2021-03-25T15:09:15.971856Z"
    }
   },
   "outputs": [
    {
     "data": {
      "image/svg+xml": [
       "<?xml version=\"1.0\" encoding=\"UTF-8\" standalone=\"no\"?><svg xmlns=\"http://www.w3.org/2000/svg\" xmlns:xlink=\"http://www.w3.org/1999/xlink\" contentScriptType=\"application/ecmascript\" contentStyleType=\"text/css\" height=\"310px\" preserveAspectRatio=\"none\" style=\"width:253px;height:310px;\" version=\"1.1\" viewBox=\"0 0 253 310\" width=\"253px\" zoomAndPan=\"magnify\"><defs/><g><!--MD5=[fbc87193dbaf4d95561dea2c320d4a47]\n",
       "cluster E1--><a href=\"psysml:825b0528-a754-4768-92c2-54c3479055c4\" target=\"_top\" title=\"psysml:825b0528-a754-4768-92c2-54c3479055c4\" xlink:actuate=\"onRequest\" xlink:href=\"psysml:825b0528-a754-4768-92c2-54c3479055c4\" xlink:show=\"new\" xlink:title=\"psysml:825b0528-a754-4768-92c2-54c3479055c4\" xlink:type=\"simple\"><polygon fill=\"#FFFFFF\" points=\"16,6,221,6,228,28.2969,231,28.2969,231,298,16,298,16,6\" style=\"stroke: #000000; stroke-width: 1.5;\"/><line style=\"stroke: #000000; stroke-width: 1.5;\" x1=\"16\" x2=\"228\" y1=\"28.2969\" y2=\"28.2969\"/><text fill=\"#000000\" font-family=\"sans-serif\" font-size=\"14\" font-weight=\"bold\" lengthAdjust=\"spacingAndGlyphs\" textLength=\"199\" x=\"20\" y=\"20.9951\">QualifiedNameImportTest</text></a><!--MD5=[e4f7fae6ed58524ba242bb0b0d3be6b7]\n",
       "cluster E2--><a href=\"psysml:a3fdeae3-ca66-43fb-8ea3-ccc1fec12162\" target=\"_top\" title=\"psysml:a3fdeae3-ca66-43fb-8ea3-ccc1fec12162\" xlink:actuate=\"onRequest\" xlink:href=\"psysml:a3fdeae3-ca66-43fb-8ea3-ccc1fec12162\" xlink:show=\"new\" xlink:title=\"psysml:a3fdeae3-ca66-43fb-8ea3-ccc1fec12162\" xlink:type=\"simple\"><polygon fill=\"#FFFFFF\" points=\"105,177,131,177,138,199.2969,203,199.2969,203,274,105,274,105,177\" style=\"stroke: #000000; stroke-width: 1.5;\"/><line style=\"stroke: #000000; stroke-width: 1.5;\" x1=\"105\" x2=\"138\" y1=\"199.2969\" y2=\"199.2969\"/><text fill=\"#000000\" font-family=\"sans-serif\" font-size=\"14\" font-weight=\"bold\" lengthAdjust=\"spacingAndGlyphs\" textLength=\"20\" x=\"109\" y=\"191.9951\">P1</text></a><!--MD5=[f6df4d0ebaf0b5dfb2ced0ae5af7c670]\n",
       "cluster E4--><a href=\"psysml:f7e915ae-81d4-47d2-8346-f23cee504381\" target=\"_top\" title=\"psysml:f7e915ae-81d4-47d2-8346-f23cee504381\" xlink:actuate=\"onRequest\" xlink:href=\"psysml:f7e915ae-81d4-47d2-8346-f23cee504381\" xlink:show=\"new\" xlink:title=\"psysml:f7e915ae-81d4-47d2-8346-f23cee504381\" xlink:type=\"simple\"><polygon fill=\"#FFFFFF\" points=\"44,49,70,49,77,71.2969,203,71.2969,203,153,44,153,44,49\" style=\"stroke: #000000; stroke-width: 1.5;\"/><line style=\"stroke: #000000; stroke-width: 1.5;\" x1=\"44\" x2=\"77\" y1=\"71.2969\" y2=\"71.2969\"/><text fill=\"#000000\" font-family=\"sans-serif\" font-size=\"14\" font-weight=\"bold\" lengthAdjust=\"spacingAndGlyphs\" textLength=\"20\" x=\"48\" y=\"63.9951\">P2</text></a><!--MD5=[09b614a08d8cba4a07c9adeb5e0fee81]\n",
       "class E3--><a href=\"psysml:383f729c-d04b-4502-922b-14a45e711088\" target=\"_top\" title=\"psysml:383f729c-d04b-4502-922b-14a45e711088\" xlink:actuate=\"onRequest\" xlink:href=\"psysml:383f729c-d04b-4502-922b-14a45e711088\" xlink:show=\"new\" xlink:title=\"psysml:383f729c-d04b-4502-922b-14a45e711088\" xlink:type=\"simple\"><rect fill=\"#FFFFFF\" height=\"45.9375\" id=\"E3\" style=\"stroke: #383838; stroke-width: 1.5;\" width=\"66\" x=\"121\" y=\"212\"/><text fill=\"#000000\" font-family=\"sans-serif\" font-size=\"12\" font-style=\"italic\" lengthAdjust=\"spacingAndGlyphs\" textLength=\"64\" x=\"122\" y=\"228.1387\">«part def»</text><text fill=\"#000000\" font-family=\"sans-serif\" font-size=\"12\" lengthAdjust=\"spacingAndGlyphs\" textLength=\"8\" x=\"150\" y=\"242.1074\">A</text><line style=\"stroke: #383838; stroke-width: 1.5;\" x1=\"122\" x2=\"186\" y1=\"249.9375\" y2=\"249.9375\"/></a><!--MD5=[60a26617385b1d2d0262a64233df1f8d]\n",
       "class E6--><a href=\"psysml:411a4236-fb50-40bf-b31c-7cf2c008c402\" target=\"_top\" title=\"psysml:411a4236-fb50-40bf-b31c-7cf2c008c402\" xlink:actuate=\"onRequest\" xlink:href=\"psysml:411a4236-fb50-40bf-b31c-7cf2c008c402\" xlink:show=\"new\" xlink:title=\"psysml:411a4236-fb50-40bf-b31c-7cf2c008c402\" xlink:type=\"simple\"><rect fill=\"#FFFFFF\" height=\"45.9375\" id=\"E6\" rx=\"10\" ry=\"10\" style=\"stroke: #383838; stroke-width: 1.5;\" width=\"42\" x=\"145\" y=\"87.5\"/><text fill=\"#000000\" font-family=\"sans-serif\" font-size=\"12\" font-style=\"italic\" lengthAdjust=\"spacingAndGlyphs\" textLength=\"40\" x=\"146\" y=\"103.6387\">«part»</text><text fill=\"#000000\" font-family=\"sans-serif\" font-size=\"12\" lengthAdjust=\"spacingAndGlyphs\" textLength=\"22\" x=\"155\" y=\"117.6074\">x: A</text><line style=\"stroke: #383838; stroke-width: 1.5;\" x1=\"146\" x2=\"186\" y1=\"125.4375\" y2=\"125.4375\"/></a><a href=\"psysml:806dfed2-196c-4937-8c4a-4cb4ed2b492f\" target=\"_top\" title=\"psysml:806dfed2-196c-4937-8c4a-4cb4ed2b492f\" xlink:actuate=\"onRequest\" xlink:href=\"psysml:806dfed2-196c-4937-8c4a-4cb4ed2b492f\" xlink:show=\"new\" xlink:title=\"psysml:806dfed2-196c-4937-8c4a-4cb4ed2b492f\" xlink:type=\"simple\"><polygon fill=\"#FFFFFF\" points=\"60.5,84,95.5,84,102.5,106.2969,109.5,106.2969,109.5,136.5938,60.5,136.5938,60.5,84\" style=\"stroke: #000000; stroke-width: 1.5;\"/><line style=\"stroke: #000000; stroke-width: 1.5;\" x1=\"60.5\" x2=\"102.5\" y1=\"106.2969\" y2=\"106.2969\"/><text fill=\"#000000\" font-family=\"sans-serif\" font-size=\"14\" font-weight=\"bold\" lengthAdjust=\"spacingAndGlyphs\" textLength=\"29\" x=\"64.5\" y=\"98.9951\">P2a</text></a><!--MD5=[a717450b82c80b9240a525fa862496af]\n",
       "link E6 to E3--><a href=\"psysml:65a94b24-3d9f-4a56-873a-c3d993dcfd1a\" target=\"_top\" title=\"psysml:65a94b24-3d9f-4a56-873a-c3d993dcfd1a\" xlink:actuate=\"onRequest\" xlink:href=\"psysml:65a94b24-3d9f-4a56-873a-c3d993dcfd1a\" xlink:show=\"new\" xlink:title=\"psysml:65a94b24-3d9f-4a56-873a-c3d993dcfd1a\" xlink:type=\"simple\"><path d=\"M163.83,133.68 C162.24,149.9 160.04,172.39 158.12,191.96 \" fill=\"none\" id=\"E6-&gt;E3\" style=\"stroke: #383838; stroke-width: 1.0;\"/><polygon fill=\"#FFFFFF\" points=\"156.16,211.98,151.0533,192.3861,164.986,193.7564,156.16,211.98\" style=\"stroke: #383838; stroke-width: 1.0;\"/><ellipse cx=\"153.6016\" cy=\"186.9092\" fill=\"#383838\" rx=\"2\" ry=\"2\" style=\"stroke: #383838; stroke-width: 1.0;\"/><ellipse cx=\"163.5535\" cy=\"187.888\" fill=\"#383838\" rx=\"2\" ry=\"2\" style=\"stroke: #383838; stroke-width: 1.0;\"/></a><!--MD5=[139b543eac4f8e3005d8e57896db527b]\n",
       "@startuml\r\n",
       "skinparam monochrome true\r\n",
       "skinparam classbackgroundcolor white\r\n",
       "skinparam shadowing false\r\n",
       "skinparam wrapWidth 300\r\n",
       "hide circle\r\n",
       "\r\n",
       "package \"QualifiedNameImportTest\" as E1  [[psysml:825b0528-a754-4768-92c2-54c3479055c4 ]]  {\r\n",
       "package \"P1\" as E2  [[psysml:a3fdeae3-ca66-43fb-8ea3-ccc1fec12162 ]]  {\r\n",
       "comp def \"A\" as E3  <<(T,blue)part def>> [[psysml:383f729c-d04b-4502-922b-14a45e711088 ]] {\r\n",
       "}\r\n",
       "}\r\n",
       "package \"P2\" as E4  [[psysml:f7e915ae-81d4-47d2-8346-f23cee504381 ]]  {\r\n",
       "package \"P2a\" as E5  [[psysml:806dfed2-196c-4937-8c4a-4cb4ed2b492f ]]  {\r\n",
       "}\r\n",
       "comp usage \"x: A\" as E6  <<(T,blue)part>> [[psysml:411a4236-fb50-40bf-b31c-7cf2c008c402 ]] {\r\n",
       "}\r\n",
       "E6 - -:|> E3 [[psysml:65a94b24-3d9f-4a56-873a-c3d993dcfd1a ]] \r\n",
       "}\r\n",
       "}\r\n",
       "@enduml\r\n",
       "\n",
       "PlantUML version 1.2020.13(Sat Jun 13 12:26:38 UTC 2020)\n",
       "(EPL source distribution)\n",
       "Java Runtime: OpenJDK Runtime Environment\n",
       "JVM: OpenJDK 64-Bit Server VM\n",
       "Default Encoding: UTF-8\n",
       "Language: en\n",
       "Country: null\n",
       "--></g></svg>"
      ]
     },
     "execution_count": 42,
     "metadata": {},
     "output_type": "execute_result"
    }
   ],
   "source": [
    "%viz --style=\"DEFAULT\" --view=\"Sequence\" \"QualifiedNameImportTest\""
   ]
  },
  {
   "cell_type": "code",
   "execution_count": 43,
   "id": "meaning-basin",
   "metadata": {
    "execution": {
     "iopub.execute_input": "2021-03-25T15:09:16.024864Z",
     "iopub.status.busy": "2021-03-25T15:09:16.024479Z",
     "iopub.status.idle": "2021-03-25T15:09:16.085642Z",
     "shell.execute_reply": "2021-03-25T15:09:16.084024Z"
    }
   },
   "outputs": [
    {
     "data": {
      "image/svg+xml": [
       "<?xml version=\"1.0\" encoding=\"UTF-8\" standalone=\"no\"?><svg xmlns=\"http://www.w3.org/2000/svg\" xmlns:xlink=\"http://www.w3.org/1999/xlink\" contentScriptType=\"application/ecmascript\" contentStyleType=\"text/css\" height=\"310px\" preserveAspectRatio=\"none\" style=\"width:253px;height:310px;\" version=\"1.1\" viewBox=\"0 0 253 310\" width=\"253px\" zoomAndPan=\"magnify\"><defs/><g><!--MD5=[fbc87193dbaf4d95561dea2c320d4a47]\n",
       "cluster E1--><a href=\"psysml:825b0528-a754-4768-92c2-54c3479055c4\" target=\"_top\" title=\"psysml:825b0528-a754-4768-92c2-54c3479055c4\" xlink:actuate=\"onRequest\" xlink:href=\"psysml:825b0528-a754-4768-92c2-54c3479055c4\" xlink:show=\"new\" xlink:title=\"psysml:825b0528-a754-4768-92c2-54c3479055c4\" xlink:type=\"simple\"><polygon fill=\"#FFFFFF\" points=\"16,6,221,6,228,28.2969,231,28.2969,231,298,16,298,16,6\" style=\"stroke: #000000; stroke-width: 1.5;\"/><line style=\"stroke: #000000; stroke-width: 1.5;\" x1=\"16\" x2=\"228\" y1=\"28.2969\" y2=\"28.2969\"/><text fill=\"#000000\" font-family=\"sans-serif\" font-size=\"14\" font-weight=\"bold\" lengthAdjust=\"spacingAndGlyphs\" textLength=\"199\" x=\"20\" y=\"20.9951\">QualifiedNameImportTest</text></a><!--MD5=[e4f7fae6ed58524ba242bb0b0d3be6b7]\n",
       "cluster E2--><a href=\"psysml:a3fdeae3-ca66-43fb-8ea3-ccc1fec12162\" target=\"_top\" title=\"psysml:a3fdeae3-ca66-43fb-8ea3-ccc1fec12162\" xlink:actuate=\"onRequest\" xlink:href=\"psysml:a3fdeae3-ca66-43fb-8ea3-ccc1fec12162\" xlink:show=\"new\" xlink:title=\"psysml:a3fdeae3-ca66-43fb-8ea3-ccc1fec12162\" xlink:type=\"simple\"><polygon fill=\"#FFFFFF\" points=\"105,177,131,177,138,199.2969,203,199.2969,203,274,105,274,105,177\" style=\"stroke: #000000; stroke-width: 1.5;\"/><line style=\"stroke: #000000; stroke-width: 1.5;\" x1=\"105\" x2=\"138\" y1=\"199.2969\" y2=\"199.2969\"/><text fill=\"#000000\" font-family=\"sans-serif\" font-size=\"14\" font-weight=\"bold\" lengthAdjust=\"spacingAndGlyphs\" textLength=\"20\" x=\"109\" y=\"191.9951\">P1</text></a><!--MD5=[f6df4d0ebaf0b5dfb2ced0ae5af7c670]\n",
       "cluster E4--><a href=\"psysml:f7e915ae-81d4-47d2-8346-f23cee504381\" target=\"_top\" title=\"psysml:f7e915ae-81d4-47d2-8346-f23cee504381\" xlink:actuate=\"onRequest\" xlink:href=\"psysml:f7e915ae-81d4-47d2-8346-f23cee504381\" xlink:show=\"new\" xlink:title=\"psysml:f7e915ae-81d4-47d2-8346-f23cee504381\" xlink:type=\"simple\"><polygon fill=\"#FFFFFF\" points=\"44,49,70,49,77,71.2969,203,71.2969,203,153,44,153,44,49\" style=\"stroke: #000000; stroke-width: 1.5;\"/><line style=\"stroke: #000000; stroke-width: 1.5;\" x1=\"44\" x2=\"77\" y1=\"71.2969\" y2=\"71.2969\"/><text fill=\"#000000\" font-family=\"sans-serif\" font-size=\"14\" font-weight=\"bold\" lengthAdjust=\"spacingAndGlyphs\" textLength=\"20\" x=\"48\" y=\"63.9951\">P2</text></a><!--MD5=[09b614a08d8cba4a07c9adeb5e0fee81]\n",
       "class E3--><a href=\"psysml:383f729c-d04b-4502-922b-14a45e711088\" target=\"_top\" title=\"psysml:383f729c-d04b-4502-922b-14a45e711088\" xlink:actuate=\"onRequest\" xlink:href=\"psysml:383f729c-d04b-4502-922b-14a45e711088\" xlink:show=\"new\" xlink:title=\"psysml:383f729c-d04b-4502-922b-14a45e711088\" xlink:type=\"simple\"><rect fill=\"#FFFFFF\" height=\"45.9375\" id=\"E3\" style=\"stroke: #383838; stroke-width: 1.5;\" width=\"66\" x=\"121\" y=\"212\"/><text fill=\"#000000\" font-family=\"sans-serif\" font-size=\"12\" font-style=\"italic\" lengthAdjust=\"spacingAndGlyphs\" textLength=\"64\" x=\"122\" y=\"228.1387\">«part def»</text><text fill=\"#000000\" font-family=\"sans-serif\" font-size=\"12\" lengthAdjust=\"spacingAndGlyphs\" textLength=\"8\" x=\"150\" y=\"242.1074\">A</text><line style=\"stroke: #383838; stroke-width: 1.5;\" x1=\"122\" x2=\"186\" y1=\"249.9375\" y2=\"249.9375\"/></a><!--MD5=[60a26617385b1d2d0262a64233df1f8d]\n",
       "class E6--><a href=\"psysml:411a4236-fb50-40bf-b31c-7cf2c008c402\" target=\"_top\" title=\"psysml:411a4236-fb50-40bf-b31c-7cf2c008c402\" xlink:actuate=\"onRequest\" xlink:href=\"psysml:411a4236-fb50-40bf-b31c-7cf2c008c402\" xlink:show=\"new\" xlink:title=\"psysml:411a4236-fb50-40bf-b31c-7cf2c008c402\" xlink:type=\"simple\"><rect fill=\"#FFFFFF\" height=\"45.9375\" id=\"E6\" rx=\"10\" ry=\"10\" style=\"stroke: #383838; stroke-width: 1.5;\" width=\"42\" x=\"145\" y=\"87.5\"/><text fill=\"#000000\" font-family=\"sans-serif\" font-size=\"12\" font-style=\"italic\" lengthAdjust=\"spacingAndGlyphs\" textLength=\"40\" x=\"146\" y=\"103.6387\">«part»</text><text fill=\"#000000\" font-family=\"sans-serif\" font-size=\"12\" lengthAdjust=\"spacingAndGlyphs\" textLength=\"22\" x=\"155\" y=\"117.6074\">x: A</text><line style=\"stroke: #383838; stroke-width: 1.5;\" x1=\"146\" x2=\"186\" y1=\"125.4375\" y2=\"125.4375\"/></a><a href=\"psysml:806dfed2-196c-4937-8c4a-4cb4ed2b492f\" target=\"_top\" title=\"psysml:806dfed2-196c-4937-8c4a-4cb4ed2b492f\" xlink:actuate=\"onRequest\" xlink:href=\"psysml:806dfed2-196c-4937-8c4a-4cb4ed2b492f\" xlink:show=\"new\" xlink:title=\"psysml:806dfed2-196c-4937-8c4a-4cb4ed2b492f\" xlink:type=\"simple\"><polygon fill=\"#FFFFFF\" points=\"60.5,84,95.5,84,102.5,106.2969,109.5,106.2969,109.5,136.5938,60.5,136.5938,60.5,84\" style=\"stroke: #000000; stroke-width: 1.5;\"/><line style=\"stroke: #000000; stroke-width: 1.5;\" x1=\"60.5\" x2=\"102.5\" y1=\"106.2969\" y2=\"106.2969\"/><text fill=\"#000000\" font-family=\"sans-serif\" font-size=\"14\" font-weight=\"bold\" lengthAdjust=\"spacingAndGlyphs\" textLength=\"29\" x=\"64.5\" y=\"98.9951\">P2a</text></a><!--MD5=[a717450b82c80b9240a525fa862496af]\n",
       "link E6 to E3--><a href=\"psysml:65a94b24-3d9f-4a56-873a-c3d993dcfd1a\" target=\"_top\" title=\"psysml:65a94b24-3d9f-4a56-873a-c3d993dcfd1a\" xlink:actuate=\"onRequest\" xlink:href=\"psysml:65a94b24-3d9f-4a56-873a-c3d993dcfd1a\" xlink:show=\"new\" xlink:title=\"psysml:65a94b24-3d9f-4a56-873a-c3d993dcfd1a\" xlink:type=\"simple\"><path d=\"M163.83,133.68 C162.24,149.9 160.04,172.39 158.12,191.96 \" fill=\"none\" id=\"E6-&gt;E3\" style=\"stroke: #383838; stroke-width: 1.0;\"/><polygon fill=\"#FFFFFF\" points=\"156.16,211.98,151.0533,192.3861,164.986,193.7564,156.16,211.98\" style=\"stroke: #383838; stroke-width: 1.0;\"/><ellipse cx=\"153.6016\" cy=\"186.9092\" fill=\"#383838\" rx=\"2\" ry=\"2\" style=\"stroke: #383838; stroke-width: 1.0;\"/><ellipse cx=\"163.5535\" cy=\"187.888\" fill=\"#383838\" rx=\"2\" ry=\"2\" style=\"stroke: #383838; stroke-width: 1.0;\"/></a><!--MD5=[139b543eac4f8e3005d8e57896db527b]\n",
       "@startuml\r\n",
       "skinparam monochrome true\r\n",
       "skinparam classbackgroundcolor white\r\n",
       "skinparam shadowing false\r\n",
       "skinparam wrapWidth 300\r\n",
       "hide circle\r\n",
       "\r\n",
       "package \"QualifiedNameImportTest\" as E1  [[psysml:825b0528-a754-4768-92c2-54c3479055c4 ]]  {\r\n",
       "package \"P1\" as E2  [[psysml:a3fdeae3-ca66-43fb-8ea3-ccc1fec12162 ]]  {\r\n",
       "comp def \"A\" as E3  <<(T,blue)part def>> [[psysml:383f729c-d04b-4502-922b-14a45e711088 ]] {\r\n",
       "}\r\n",
       "}\r\n",
       "package \"P2\" as E4  [[psysml:f7e915ae-81d4-47d2-8346-f23cee504381 ]]  {\r\n",
       "package \"P2a\" as E5  [[psysml:806dfed2-196c-4937-8c4a-4cb4ed2b492f ]]  {\r\n",
       "}\r\n",
       "comp usage \"x: A\" as E6  <<(T,blue)part>> [[psysml:411a4236-fb50-40bf-b31c-7cf2c008c402 ]] {\r\n",
       "}\r\n",
       "E6 - -:|> E3 [[psysml:65a94b24-3d9f-4a56-873a-c3d993dcfd1a ]] \r\n",
       "}\r\n",
       "}\r\n",
       "@enduml\r\n",
       "\n",
       "PlantUML version 1.2020.13(Sat Jun 13 12:26:38 UTC 2020)\n",
       "(EPL source distribution)\n",
       "Java Runtime: OpenJDK Runtime Environment\n",
       "JVM: OpenJDK 64-Bit Server VM\n",
       "Default Encoding: UTF-8\n",
       "Language: en\n",
       "Country: null\n",
       "--></g></svg>"
      ]
     },
     "execution_count": 43,
     "metadata": {},
     "output_type": "execute_result"
    }
   ],
   "source": [
    "%viz --style=\"DEFAULT\" --view=\"MIXED\" \"QualifiedNameImportTest\""
   ]
  },
  {
   "cell_type": "code",
   "execution_count": 44,
   "id": "intellectual-edwards",
   "metadata": {
    "execution": {
     "iopub.execute_input": "2021-03-25T15:09:16.136424Z",
     "iopub.status.busy": "2021-03-25T15:09:16.135777Z",
     "iopub.status.idle": "2021-03-25T15:09:16.196672Z",
     "shell.execute_reply": "2021-03-25T15:09:16.194859Z"
    }
   },
   "outputs": [
    {
     "data": {
      "image/svg+xml": [
       "<?xml version=\"1.0\" encoding=\"UTF-8\" standalone=\"no\"?><svg xmlns=\"http://www.w3.org/2000/svg\" xmlns:xlink=\"http://www.w3.org/1999/xlink\" contentScriptType=\"application/ecmascript\" contentStyleType=\"text/css\" height=\"310px\" preserveAspectRatio=\"none\" style=\"width:253px;height:310px;\" version=\"1.1\" viewBox=\"0 0 253 310\" width=\"253px\" zoomAndPan=\"magnify\"><defs/><g><!--MD5=[fbc87193dbaf4d95561dea2c320d4a47]\n",
       "cluster E1--><a href=\"psysml:825b0528-a754-4768-92c2-54c3479055c4\" target=\"_top\" title=\"psysml:825b0528-a754-4768-92c2-54c3479055c4\" xlink:actuate=\"onRequest\" xlink:href=\"psysml:825b0528-a754-4768-92c2-54c3479055c4\" xlink:show=\"new\" xlink:title=\"psysml:825b0528-a754-4768-92c2-54c3479055c4\" xlink:type=\"simple\"><polygon fill=\"#FFFFFF\" points=\"16,6,221,6,228,28.2969,231,28.2969,231,298,16,298,16,6\" style=\"stroke: #000000; stroke-width: 1.5;\"/><line style=\"stroke: #000000; stroke-width: 1.5;\" x1=\"16\" x2=\"228\" y1=\"28.2969\" y2=\"28.2969\"/><text fill=\"#000000\" font-family=\"sans-serif\" font-size=\"14\" font-weight=\"bold\" lengthAdjust=\"spacingAndGlyphs\" textLength=\"199\" x=\"20\" y=\"20.9951\">QualifiedNameImportTest</text></a><!--MD5=[e4f7fae6ed58524ba242bb0b0d3be6b7]\n",
       "cluster E2--><a href=\"psysml:a3fdeae3-ca66-43fb-8ea3-ccc1fec12162\" target=\"_top\" title=\"psysml:a3fdeae3-ca66-43fb-8ea3-ccc1fec12162\" xlink:actuate=\"onRequest\" xlink:href=\"psysml:a3fdeae3-ca66-43fb-8ea3-ccc1fec12162\" xlink:show=\"new\" xlink:title=\"psysml:a3fdeae3-ca66-43fb-8ea3-ccc1fec12162\" xlink:type=\"simple\"><polygon fill=\"#FFFFFF\" points=\"105,177,131,177,138,199.2969,203,199.2969,203,274,105,274,105,177\" style=\"stroke: #000000; stroke-width: 1.5;\"/><line style=\"stroke: #000000; stroke-width: 1.5;\" x1=\"105\" x2=\"138\" y1=\"199.2969\" y2=\"199.2969\"/><text fill=\"#000000\" font-family=\"sans-serif\" font-size=\"14\" font-weight=\"bold\" lengthAdjust=\"spacingAndGlyphs\" textLength=\"20\" x=\"109\" y=\"191.9951\">P1</text></a><!--MD5=[f6df4d0ebaf0b5dfb2ced0ae5af7c670]\n",
       "cluster E4--><a href=\"psysml:f7e915ae-81d4-47d2-8346-f23cee504381\" target=\"_top\" title=\"psysml:f7e915ae-81d4-47d2-8346-f23cee504381\" xlink:actuate=\"onRequest\" xlink:href=\"psysml:f7e915ae-81d4-47d2-8346-f23cee504381\" xlink:show=\"new\" xlink:title=\"psysml:f7e915ae-81d4-47d2-8346-f23cee504381\" xlink:type=\"simple\"><polygon fill=\"#FFFFFF\" points=\"44,49,70,49,77,71.2969,203,71.2969,203,153,44,153,44,49\" style=\"stroke: #000000; stroke-width: 1.5;\"/><line style=\"stroke: #000000; stroke-width: 1.5;\" x1=\"44\" x2=\"77\" y1=\"71.2969\" y2=\"71.2969\"/><text fill=\"#000000\" font-family=\"sans-serif\" font-size=\"14\" font-weight=\"bold\" lengthAdjust=\"spacingAndGlyphs\" textLength=\"20\" x=\"48\" y=\"63.9951\">P2</text></a><!--MD5=[09b614a08d8cba4a07c9adeb5e0fee81]\n",
       "class E3--><a href=\"psysml:383f729c-d04b-4502-922b-14a45e711088\" target=\"_top\" title=\"psysml:383f729c-d04b-4502-922b-14a45e711088\" xlink:actuate=\"onRequest\" xlink:href=\"psysml:383f729c-d04b-4502-922b-14a45e711088\" xlink:show=\"new\" xlink:title=\"psysml:383f729c-d04b-4502-922b-14a45e711088\" xlink:type=\"simple\"><rect fill=\"#FFFFFF\" height=\"45.9375\" id=\"E3\" style=\"stroke: #383838; stroke-width: 1.5;\" width=\"66\" x=\"121\" y=\"212\"/><text fill=\"#000000\" font-family=\"sans-serif\" font-size=\"12\" font-style=\"italic\" lengthAdjust=\"spacingAndGlyphs\" textLength=\"64\" x=\"122\" y=\"228.1387\">«part def»</text><text fill=\"#000000\" font-family=\"sans-serif\" font-size=\"12\" lengthAdjust=\"spacingAndGlyphs\" textLength=\"8\" x=\"150\" y=\"242.1074\">A</text><line style=\"stroke: #383838; stroke-width: 1.5;\" x1=\"122\" x2=\"186\" y1=\"249.9375\" y2=\"249.9375\"/></a><!--MD5=[60a26617385b1d2d0262a64233df1f8d]\n",
       "class E6--><a href=\"psysml:411a4236-fb50-40bf-b31c-7cf2c008c402\" target=\"_top\" title=\"psysml:411a4236-fb50-40bf-b31c-7cf2c008c402\" xlink:actuate=\"onRequest\" xlink:href=\"psysml:411a4236-fb50-40bf-b31c-7cf2c008c402\" xlink:show=\"new\" xlink:title=\"psysml:411a4236-fb50-40bf-b31c-7cf2c008c402\" xlink:type=\"simple\"><rect fill=\"#FFFFFF\" height=\"45.9375\" id=\"E6\" rx=\"10\" ry=\"10\" style=\"stroke: #383838; stroke-width: 1.5;\" width=\"42\" x=\"145\" y=\"87.5\"/><text fill=\"#000000\" font-family=\"sans-serif\" font-size=\"12\" font-style=\"italic\" lengthAdjust=\"spacingAndGlyphs\" textLength=\"40\" x=\"146\" y=\"103.6387\">«part»</text><text fill=\"#000000\" font-family=\"sans-serif\" font-size=\"12\" lengthAdjust=\"spacingAndGlyphs\" textLength=\"22\" x=\"155\" y=\"117.6074\">x: A</text><line style=\"stroke: #383838; stroke-width: 1.5;\" x1=\"146\" x2=\"186\" y1=\"125.4375\" y2=\"125.4375\"/></a><a href=\"psysml:806dfed2-196c-4937-8c4a-4cb4ed2b492f\" target=\"_top\" title=\"psysml:806dfed2-196c-4937-8c4a-4cb4ed2b492f\" xlink:actuate=\"onRequest\" xlink:href=\"psysml:806dfed2-196c-4937-8c4a-4cb4ed2b492f\" xlink:show=\"new\" xlink:title=\"psysml:806dfed2-196c-4937-8c4a-4cb4ed2b492f\" xlink:type=\"simple\"><polygon fill=\"#FFFFFF\" points=\"60.5,84,95.5,84,102.5,106.2969,109.5,106.2969,109.5,136.5938,60.5,136.5938,60.5,84\" style=\"stroke: #000000; stroke-width: 1.5;\"/><line style=\"stroke: #000000; stroke-width: 1.5;\" x1=\"60.5\" x2=\"102.5\" y1=\"106.2969\" y2=\"106.2969\"/><text fill=\"#000000\" font-family=\"sans-serif\" font-size=\"14\" font-weight=\"bold\" lengthAdjust=\"spacingAndGlyphs\" textLength=\"29\" x=\"64.5\" y=\"98.9951\">P2a</text></a><!--MD5=[a717450b82c80b9240a525fa862496af]\n",
       "link E6 to E3--><a href=\"psysml:65a94b24-3d9f-4a56-873a-c3d993dcfd1a\" target=\"_top\" title=\"psysml:65a94b24-3d9f-4a56-873a-c3d993dcfd1a\" xlink:actuate=\"onRequest\" xlink:href=\"psysml:65a94b24-3d9f-4a56-873a-c3d993dcfd1a\" xlink:show=\"new\" xlink:title=\"psysml:65a94b24-3d9f-4a56-873a-c3d993dcfd1a\" xlink:type=\"simple\"><path d=\"M163.83,133.68 C162.24,149.9 160.04,172.39 158.12,191.96 \" fill=\"none\" id=\"E6-&gt;E3\" style=\"stroke: #383838; stroke-width: 1.0;\"/><polygon fill=\"#FFFFFF\" points=\"156.16,211.98,151.0533,192.3861,164.986,193.7564,156.16,211.98\" style=\"stroke: #383838; stroke-width: 1.0;\"/><ellipse cx=\"153.6016\" cy=\"186.9092\" fill=\"#383838\" rx=\"2\" ry=\"2\" style=\"stroke: #383838; stroke-width: 1.0;\"/><ellipse cx=\"163.5535\" cy=\"187.888\" fill=\"#383838\" rx=\"2\" ry=\"2\" style=\"stroke: #383838; stroke-width: 1.0;\"/></a><!--MD5=[d3551db17d0311dfe6b26a9f2f0e3d3f]\n",
       "@startuml\r\n",
       "top to bottom direction\r\n",
       "skinparam monochrome true\r\n",
       "skinparam classbackgroundcolor white\r\n",
       "skinparam shadowing false\r\n",
       "skinparam wrapWidth 300\r\n",
       "hide circle\r\n",
       "\r\n",
       "package \"QualifiedNameImportTest\" as E1  [[psysml:825b0528-a754-4768-92c2-54c3479055c4 ]]  {\r\n",
       "package \"P1\" as E2  [[psysml:a3fdeae3-ca66-43fb-8ea3-ccc1fec12162 ]]  {\r\n",
       "comp def \"A\" as E3  <<(T,blue)part def>> [[psysml:383f729c-d04b-4502-922b-14a45e711088 ]] {\r\n",
       "}\r\n",
       "}\r\n",
       "package \"P2\" as E4  [[psysml:f7e915ae-81d4-47d2-8346-f23cee504381 ]]  {\r\n",
       "package \"P2a\" as E5  [[psysml:806dfed2-196c-4937-8c4a-4cb4ed2b492f ]]  {\r\n",
       "}\r\n",
       "comp usage \"x: A\" as E6  <<(T,blue)part>> [[psysml:411a4236-fb50-40bf-b31c-7cf2c008c402 ]] {\r\n",
       "}\r\n",
       "E6 - -:|> E3 [[psysml:65a94b24-3d9f-4a56-873a-c3d993dcfd1a ]] \r\n",
       "}\r\n",
       "}\r\n",
       "@enduml\r\n",
       "\n",
       "PlantUML version 1.2020.13(Sat Jun 13 12:26:38 UTC 2020)\n",
       "(EPL source distribution)\n",
       "Java Runtime: OpenJDK Runtime Environment\n",
       "JVM: OpenJDK 64-Bit Server VM\n",
       "Default Encoding: UTF-8\n",
       "Language: en\n",
       "Country: null\n",
       "--></g></svg>"
      ]
     },
     "execution_count": 44,
     "metadata": {},
     "output_type": "execute_result"
    }
   ],
   "source": [
    "%viz --style=\"TB\" --view=\"Default\" \"QualifiedNameImportTest\""
   ]
  },
  {
   "cell_type": "code",
   "execution_count": 45,
   "id": "adjusted-hebrew",
   "metadata": {
    "execution": {
     "iopub.execute_input": "2021-03-25T15:09:16.246401Z",
     "iopub.status.busy": "2021-03-25T15:09:16.245949Z",
     "iopub.status.idle": "2021-03-25T15:09:16.304855Z",
     "shell.execute_reply": "2021-03-25T15:09:16.303220Z"
    }
   },
   "outputs": [
    {
     "data": {
      "image/svg+xml": [
       "<?xml version=\"1.0\" encoding=\"UTF-8\" standalone=\"no\"?><svg xmlns=\"http://www.w3.org/2000/svg\" xmlns:xlink=\"http://www.w3.org/1999/xlink\" contentScriptType=\"application/ecmascript\" contentStyleType=\"text/css\" height=\"310px\" preserveAspectRatio=\"none\" style=\"width:253px;height:310px;\" version=\"1.1\" viewBox=\"0 0 253 310\" width=\"253px\" zoomAndPan=\"magnify\"><defs/><g><!--MD5=[fbc87193dbaf4d95561dea2c320d4a47]\n",
       "cluster E1--><a href=\"psysml:825b0528-a754-4768-92c2-54c3479055c4\" target=\"_top\" title=\"psysml:825b0528-a754-4768-92c2-54c3479055c4\" xlink:actuate=\"onRequest\" xlink:href=\"psysml:825b0528-a754-4768-92c2-54c3479055c4\" xlink:show=\"new\" xlink:title=\"psysml:825b0528-a754-4768-92c2-54c3479055c4\" xlink:type=\"simple\"><polygon fill=\"#FFFFFF\" points=\"16,6,221,6,228,28.2969,231,28.2969,231,298,16,298,16,6\" style=\"stroke: #000000; stroke-width: 1.5;\"/><line style=\"stroke: #000000; stroke-width: 1.5;\" x1=\"16\" x2=\"228\" y1=\"28.2969\" y2=\"28.2969\"/><text fill=\"#000000\" font-family=\"sans-serif\" font-size=\"14\" font-weight=\"bold\" lengthAdjust=\"spacingAndGlyphs\" textLength=\"199\" x=\"20\" y=\"20.9951\">QualifiedNameImportTest</text></a><!--MD5=[e4f7fae6ed58524ba242bb0b0d3be6b7]\n",
       "cluster E2--><a href=\"psysml:a3fdeae3-ca66-43fb-8ea3-ccc1fec12162\" target=\"_top\" title=\"psysml:a3fdeae3-ca66-43fb-8ea3-ccc1fec12162\" xlink:actuate=\"onRequest\" xlink:href=\"psysml:a3fdeae3-ca66-43fb-8ea3-ccc1fec12162\" xlink:show=\"new\" xlink:title=\"psysml:a3fdeae3-ca66-43fb-8ea3-ccc1fec12162\" xlink:type=\"simple\"><polygon fill=\"#FFFFFF\" points=\"105,177,131,177,138,199.2969,203,199.2969,203,274,105,274,105,177\" style=\"stroke: #000000; stroke-width: 1.5;\"/><line style=\"stroke: #000000; stroke-width: 1.5;\" x1=\"105\" x2=\"138\" y1=\"199.2969\" y2=\"199.2969\"/><text fill=\"#000000\" font-family=\"sans-serif\" font-size=\"14\" font-weight=\"bold\" lengthAdjust=\"spacingAndGlyphs\" textLength=\"20\" x=\"109\" y=\"191.9951\">P1</text></a><!--MD5=[f6df4d0ebaf0b5dfb2ced0ae5af7c670]\n",
       "cluster E4--><a href=\"psysml:f7e915ae-81d4-47d2-8346-f23cee504381\" target=\"_top\" title=\"psysml:f7e915ae-81d4-47d2-8346-f23cee504381\" xlink:actuate=\"onRequest\" xlink:href=\"psysml:f7e915ae-81d4-47d2-8346-f23cee504381\" xlink:show=\"new\" xlink:title=\"psysml:f7e915ae-81d4-47d2-8346-f23cee504381\" xlink:type=\"simple\"><polygon fill=\"#FFFFFF\" points=\"44,49,70,49,77,71.2969,203,71.2969,203,153,44,153,44,49\" style=\"stroke: #000000; stroke-width: 1.5;\"/><line style=\"stroke: #000000; stroke-width: 1.5;\" x1=\"44\" x2=\"77\" y1=\"71.2969\" y2=\"71.2969\"/><text fill=\"#000000\" font-family=\"sans-serif\" font-size=\"14\" font-weight=\"bold\" lengthAdjust=\"spacingAndGlyphs\" textLength=\"20\" x=\"48\" y=\"63.9951\">P2</text></a><!--MD5=[09b614a08d8cba4a07c9adeb5e0fee81]\n",
       "class E3--><a href=\"psysml:383f729c-d04b-4502-922b-14a45e711088\" target=\"_top\" title=\"psysml:383f729c-d04b-4502-922b-14a45e711088\" xlink:actuate=\"onRequest\" xlink:href=\"psysml:383f729c-d04b-4502-922b-14a45e711088\" xlink:show=\"new\" xlink:title=\"psysml:383f729c-d04b-4502-922b-14a45e711088\" xlink:type=\"simple\"><rect fill=\"#FFFFFF\" height=\"45.9375\" id=\"E3\" style=\"stroke: #383838; stroke-width: 1.5;\" width=\"66\" x=\"121\" y=\"212\"/><text fill=\"#000000\" font-family=\"sans-serif\" font-size=\"12\" font-style=\"italic\" lengthAdjust=\"spacingAndGlyphs\" textLength=\"64\" x=\"122\" y=\"228.1387\">«part def»</text><text fill=\"#000000\" font-family=\"sans-serif\" font-size=\"12\" lengthAdjust=\"spacingAndGlyphs\" textLength=\"8\" x=\"150\" y=\"242.1074\">A</text><line style=\"stroke: #383838; stroke-width: 1.5;\" x1=\"122\" x2=\"186\" y1=\"249.9375\" y2=\"249.9375\"/></a><!--MD5=[60a26617385b1d2d0262a64233df1f8d]\n",
       "class E6--><a href=\"psysml:411a4236-fb50-40bf-b31c-7cf2c008c402\" target=\"_top\" title=\"psysml:411a4236-fb50-40bf-b31c-7cf2c008c402\" xlink:actuate=\"onRequest\" xlink:href=\"psysml:411a4236-fb50-40bf-b31c-7cf2c008c402\" xlink:show=\"new\" xlink:title=\"psysml:411a4236-fb50-40bf-b31c-7cf2c008c402\" xlink:type=\"simple\"><rect fill=\"#FFFFFF\" height=\"45.9375\" id=\"E6\" rx=\"10\" ry=\"10\" style=\"stroke: #383838; stroke-width: 1.5;\" width=\"42\" x=\"145\" y=\"87.5\"/><text fill=\"#000000\" font-family=\"sans-serif\" font-size=\"12\" font-style=\"italic\" lengthAdjust=\"spacingAndGlyphs\" textLength=\"40\" x=\"146\" y=\"103.6387\">«part»</text><text fill=\"#000000\" font-family=\"sans-serif\" font-size=\"12\" lengthAdjust=\"spacingAndGlyphs\" textLength=\"22\" x=\"155\" y=\"117.6074\">x: A</text><line style=\"stroke: #383838; stroke-width: 1.5;\" x1=\"146\" x2=\"186\" y1=\"125.4375\" y2=\"125.4375\"/></a><a href=\"psysml:806dfed2-196c-4937-8c4a-4cb4ed2b492f\" target=\"_top\" title=\"psysml:806dfed2-196c-4937-8c4a-4cb4ed2b492f\" xlink:actuate=\"onRequest\" xlink:href=\"psysml:806dfed2-196c-4937-8c4a-4cb4ed2b492f\" xlink:show=\"new\" xlink:title=\"psysml:806dfed2-196c-4937-8c4a-4cb4ed2b492f\" xlink:type=\"simple\"><polygon fill=\"#FFFFFF\" points=\"60.5,84,95.5,84,102.5,106.2969,109.5,106.2969,109.5,136.5938,60.5,136.5938,60.5,84\" style=\"stroke: #000000; stroke-width: 1.5;\"/><line style=\"stroke: #000000; stroke-width: 1.5;\" x1=\"60.5\" x2=\"102.5\" y1=\"106.2969\" y2=\"106.2969\"/><text fill=\"#000000\" font-family=\"sans-serif\" font-size=\"14\" font-weight=\"bold\" lengthAdjust=\"spacingAndGlyphs\" textLength=\"29\" x=\"64.5\" y=\"98.9951\">P2a</text></a><!--MD5=[a717450b82c80b9240a525fa862496af]\n",
       "link E6 to E3--><a href=\"psysml:65a94b24-3d9f-4a56-873a-c3d993dcfd1a\" target=\"_top\" title=\"psysml:65a94b24-3d9f-4a56-873a-c3d993dcfd1a\" xlink:actuate=\"onRequest\" xlink:href=\"psysml:65a94b24-3d9f-4a56-873a-c3d993dcfd1a\" xlink:show=\"new\" xlink:title=\"psysml:65a94b24-3d9f-4a56-873a-c3d993dcfd1a\" xlink:type=\"simple\"><path d=\"M163.83,133.68 C162.24,149.9 160.04,172.39 158.12,191.96 \" fill=\"none\" id=\"E6-&gt;E3\" style=\"stroke: #383838; stroke-width: 1.0;\"/><polygon fill=\"#FFFFFF\" points=\"156.16,211.98,151.0533,192.3861,164.986,193.7564,156.16,211.98\" style=\"stroke: #383838; stroke-width: 1.0;\"/><ellipse cx=\"153.6016\" cy=\"186.9092\" fill=\"#383838\" rx=\"2\" ry=\"2\" style=\"stroke: #383838; stroke-width: 1.0;\"/><ellipse cx=\"163.5535\" cy=\"187.888\" fill=\"#383838\" rx=\"2\" ry=\"2\" style=\"stroke: #383838; stroke-width: 1.0;\"/></a><!--MD5=[d3551db17d0311dfe6b26a9f2f0e3d3f]\n",
       "@startuml\r\n",
       "top to bottom direction\r\n",
       "skinparam monochrome true\r\n",
       "skinparam classbackgroundcolor white\r\n",
       "skinparam shadowing false\r\n",
       "skinparam wrapWidth 300\r\n",
       "hide circle\r\n",
       "\r\n",
       "package \"QualifiedNameImportTest\" as E1  [[psysml:825b0528-a754-4768-92c2-54c3479055c4 ]]  {\r\n",
       "package \"P1\" as E2  [[psysml:a3fdeae3-ca66-43fb-8ea3-ccc1fec12162 ]]  {\r\n",
       "comp def \"A\" as E3  <<(T,blue)part def>> [[psysml:383f729c-d04b-4502-922b-14a45e711088 ]] {\r\n",
       "}\r\n",
       "}\r\n",
       "package \"P2\" as E4  [[psysml:f7e915ae-81d4-47d2-8346-f23cee504381 ]]  {\r\n",
       "package \"P2a\" as E5  [[psysml:806dfed2-196c-4937-8c4a-4cb4ed2b492f ]]  {\r\n",
       "}\r\n",
       "comp usage \"x: A\" as E6  <<(T,blue)part>> [[psysml:411a4236-fb50-40bf-b31c-7cf2c008c402 ]] {\r\n",
       "}\r\n",
       "E6 - -:|> E3 [[psysml:65a94b24-3d9f-4a56-873a-c3d993dcfd1a ]] \r\n",
       "}\r\n",
       "}\r\n",
       "@enduml\r\n",
       "\n",
       "PlantUML version 1.2020.13(Sat Jun 13 12:26:38 UTC 2020)\n",
       "(EPL source distribution)\n",
       "Java Runtime: OpenJDK Runtime Environment\n",
       "JVM: OpenJDK 64-Bit Server VM\n",
       "Default Encoding: UTF-8\n",
       "Language: en\n",
       "Country: null\n",
       "--></g></svg>"
      ]
     },
     "execution_count": 45,
     "metadata": {},
     "output_type": "execute_result"
    }
   ],
   "source": [
    "%viz --style=\"TB\" --view=\"Tree\" \"QualifiedNameImportTest\""
   ]
  },
  {
   "cell_type": "code",
   "execution_count": 46,
   "id": "assigned-worker",
   "metadata": {
    "execution": {
     "iopub.execute_input": "2021-03-25T15:09:16.355020Z",
     "iopub.status.busy": "2021-03-25T15:09:16.354516Z",
     "iopub.status.idle": "2021-03-25T15:09:16.361590Z",
     "shell.execute_reply": "2021-03-25T15:09:16.362141Z"
    }
   },
   "outputs": [
    {
     "data": {
      "image/svg+xml": [
       "<?xml version=\"1.0\" encoding=\"UTF-8\" standalone=\"no\"?><svg xmlns=\"http://www.w3.org/2000/svg\" xmlns:xlink=\"http://www.w3.org/1999/xlink\" contentScriptType=\"application/ecmascript\" contentStyleType=\"text/css\" height=\"12px\" preserveAspectRatio=\"none\" style=\"width:12px;height:12px;\" version=\"1.1\" viewBox=\"0 0 12 12\" width=\"12px\" zoomAndPan=\"magnify\"><defs/><g><!--MD5=[f4ee21bc66e489b5061b7c3e9601fdef]\n",
       "@startuml\r\n",
       "top to bottom direction\r\n",
       "skinparam monochrome true\r\n",
       "skinparam classbackgroundcolor white\r\n",
       "skinparam shadowing false\r\n",
       "skinparam wrapWidth 300\r\n",
       "hide circle\r\n",
       "\r\n",
       "@enduml\r\n",
       "\n",
       "PlantUML version 1.2020.13(Sat Jun 13 12:26:38 UTC 2020)\n",
       "(EPL source distribution)\n",
       "Java Runtime: OpenJDK Runtime Environment\n",
       "JVM: OpenJDK 64-Bit Server VM\n",
       "Default Encoding: UTF-8\n",
       "Language: en\n",
       "Country: null\n",
       "--></g></svg>"
      ]
     },
     "execution_count": 46,
     "metadata": {},
     "output_type": "execute_result"
    }
   ],
   "source": [
    "%viz --style=\"TB\" --view=\"State\" \"QualifiedNameImportTest\""
   ]
  },
  {
   "cell_type": "code",
   "execution_count": 47,
   "id": "dirty-scholarship",
   "metadata": {
    "execution": {
     "iopub.execute_input": "2021-03-25T15:09:16.412175Z",
     "iopub.status.busy": "2021-03-25T15:09:16.411700Z",
     "iopub.status.idle": "2021-03-25T15:09:16.471227Z",
     "shell.execute_reply": "2021-03-25T15:09:16.468766Z"
    }
   },
   "outputs": [
    {
     "data": {
      "image/svg+xml": [
       "<?xml version=\"1.0\" encoding=\"UTF-8\" standalone=\"no\"?><svg xmlns=\"http://www.w3.org/2000/svg\" xmlns:xlink=\"http://www.w3.org/1999/xlink\" contentScriptType=\"application/ecmascript\" contentStyleType=\"text/css\" height=\"189px\" preserveAspectRatio=\"none\" style=\"width:381px;height:189px;\" version=\"1.1\" viewBox=\"0 0 381 189\" width=\"381px\" zoomAndPan=\"magnify\"><defs/><g><!--MD5=[fbc87193dbaf4d95561dea2c320d4a47]\n",
       "cluster E1--><a href=\"psysml:825b0528-a754-4768-92c2-54c3479055c4\" target=\"_top\" title=\"psysml:825b0528-a754-4768-92c2-54c3479055c4\" xlink:actuate=\"onRequest\" xlink:href=\"psysml:825b0528-a754-4768-92c2-54c3479055c4\" xlink:show=\"new\" xlink:title=\"psysml:825b0528-a754-4768-92c2-54c3479055c4\" xlink:type=\"simple\"><polygon fill=\"#FFFFFF\" points=\"16,6,221,6,228,28.2969,359,28.2969,359,177,16,177,16,6\" style=\"stroke: #000000; stroke-width: 1.5;\"/><line style=\"stroke: #000000; stroke-width: 1.5;\" x1=\"16\" x2=\"228\" y1=\"28.2969\" y2=\"28.2969\"/><text fill=\"#000000\" font-family=\"sans-serif\" font-size=\"14\" font-weight=\"bold\" lengthAdjust=\"spacingAndGlyphs\" textLength=\"199\" x=\"20\" y=\"20.9951\">QualifiedNameImportTest</text></a><!--MD5=[e4f7fae6ed58524ba242bb0b0d3be6b7]\n",
       "cluster E2--><a href=\"psysml:a3fdeae3-ca66-43fb-8ea3-ccc1fec12162\" target=\"_top\" title=\"psysml:a3fdeae3-ca66-43fb-8ea3-ccc1fec12162\" xlink:actuate=\"onRequest\" xlink:href=\"psysml:a3fdeae3-ca66-43fb-8ea3-ccc1fec12162\" xlink:show=\"new\" xlink:title=\"psysml:a3fdeae3-ca66-43fb-8ea3-ccc1fec12162\" xlink:type=\"simple\"><polygon fill=\"#FFFFFF\" points=\"231,54,257,54,264,76.2969,335,76.2969,335,148,231,148,231,54\" style=\"stroke: #000000; stroke-width: 1.5;\"/><line style=\"stroke: #000000; stroke-width: 1.5;\" x1=\"231\" x2=\"264\" y1=\"76.2969\" y2=\"76.2969\"/><text fill=\"#000000\" font-family=\"sans-serif\" font-size=\"14\" font-weight=\"bold\" lengthAdjust=\"spacingAndGlyphs\" textLength=\"20\" x=\"235\" y=\"68.9951\">P1</text></a><!--MD5=[f6df4d0ebaf0b5dfb2ced0ae5af7c670]\n",
       "cluster E4--><a href=\"psysml:f7e915ae-81d4-47d2-8346-f23cee504381\" target=\"_top\" title=\"psysml:f7e915ae-81d4-47d2-8346-f23cee504381\" xlink:actuate=\"onRequest\" xlink:href=\"psysml:f7e915ae-81d4-47d2-8346-f23cee504381\" xlink:show=\"new\" xlink:title=\"psysml:f7e915ae-81d4-47d2-8346-f23cee504381\" xlink:type=\"simple\"><polygon fill=\"#FFFFFF\" points=\"40,49,66,49,73,71.2969,207,71.2969,207,153,40,153,40,49\" style=\"stroke: #000000; stroke-width: 1.5;\"/><line style=\"stroke: #000000; stroke-width: 1.5;\" x1=\"40\" x2=\"73\" y1=\"71.2969\" y2=\"71.2969\"/><text fill=\"#000000\" font-family=\"sans-serif\" font-size=\"14\" font-weight=\"bold\" lengthAdjust=\"spacingAndGlyphs\" textLength=\"20\" x=\"44\" y=\"63.9951\">P2</text></a><g id=\"E1.E2.E3\"><a href=\"psysml:383f729c-d04b-4502-922b-14a45e711088\" target=\"_top\" title=\"psysml:383f729c-d04b-4502-922b-14a45e711088\" xlink:actuate=\"onRequest\" xlink:href=\"psysml:383f729c-d04b-4502-922b-14a45e711088\" xlink:show=\"new\" xlink:title=\"psysml:383f729c-d04b-4502-922b-14a45e711088\" xlink:type=\"simple\"><rect fill=\"#FFFFFF\" height=\"42.9375\" id=\"E3\" style=\"stroke: #383838; stroke-width: 1.5;\" width=\"71\" x=\"247.5\" y=\"89\"/><rect fill=\"#F8F8F8\" height=\"37.9375\" style=\"stroke: #383838; stroke-width: 1.5;\" width=\"71\" x=\"247.5\" y=\"89\"/><text fill=\"#000000\" font-family=\"sans-serif\" font-size=\"12\" font-style=\"italic\" lengthAdjust=\"spacingAndGlyphs\" textLength=\"64\" x=\"251\" y=\"105.1387\">«part def»</text><text fill=\"#000000\" font-family=\"sans-serif\" font-size=\"12\" lengthAdjust=\"spacingAndGlyphs\" textLength=\"8\" x=\"279\" y=\"119.1074\">A</text></a></g><a href=\"psysml:806dfed2-196c-4937-8c4a-4cb4ed2b492f\" target=\"_top\" title=\"psysml:806dfed2-196c-4937-8c4a-4cb4ed2b492f\" xlink:actuate=\"onRequest\" xlink:href=\"psysml:806dfed2-196c-4937-8c4a-4cb4ed2b492f\" xlink:show=\"new\" xlink:title=\"psysml:806dfed2-196c-4937-8c4a-4cb4ed2b492f\" xlink:type=\"simple\"><polygon fill=\"#FFFFFF\" points=\"141.5,84,176.5,84,183.5,106.2969,190.5,106.2969,190.5,136.5938,141.5,136.5938,141.5,84\" style=\"stroke: #000000; stroke-width: 1.5;\"/><line style=\"stroke: #000000; stroke-width: 1.5;\" x1=\"141.5\" x2=\"183.5\" y1=\"106.2969\" y2=\"106.2969\"/><text fill=\"#000000\" font-family=\"sans-serif\" font-size=\"14\" font-weight=\"bold\" lengthAdjust=\"spacingAndGlyphs\" textLength=\"29\" x=\"145.5\" y=\"98.9951\">P2a</text></a><g id=\"E1.E4.E6\"><a href=\"psysml:411a4236-fb50-40bf-b31c-7cf2c008c402\" target=\"_top\" title=\"psysml:411a4236-fb50-40bf-b31c-7cf2c008c402\" xlink:actuate=\"onRequest\" xlink:href=\"psysml:411a4236-fb50-40bf-b31c-7cf2c008c402\" xlink:show=\"new\" xlink:title=\"psysml:411a4236-fb50-40bf-b31c-7cf2c008c402\" xlink:type=\"simple\"><rect fill=\"#FFFFFF\" height=\"40\" id=\"E6\" rx=\"10\" ry=\"10\" style=\"stroke: #383838; stroke-width: 1.5;\" width=\"50\" x=\"56\" y=\"90.5\"/><rect fill=\"#F8F8F8\" height=\"23.9688\" rx=\"10\" ry=\"10\" style=\"stroke: #F8F8F8; stroke-width: 1.5;\" width=\"50\" x=\"56\" y=\"90.5\"/><rect fill=\"#F8F8F8\" height=\"10\" style=\"stroke: #F8F8F8; stroke-width: 1.5;\" width=\"50\" x=\"56\" y=\"104.4688\"/><rect fill=\"none\" height=\"40\" id=\"E6\" rx=\"10\" ry=\"10\" style=\"stroke: #383838; stroke-width: 1.5;\" width=\"50\" x=\"56\" y=\"90.5\"/><text fill=\"#000000\" font-family=\"sans-serif\" font-size=\"12\" lengthAdjust=\"spacingAndGlyphs\" textLength=\"22\" x=\"70\" y=\"106.6387\">x: A</text></a></g><!--MD5=[b4c61260400fbf1b58dcb2ac870f2561]\n",
       "@startuml\r\n",
       "skinparam ranksep 8\r\n",
       "skinparam rectangle {\r\n",
       " backgroundColor<<block>> LightGreen\r\n",
       "}\r\n",
       "top to bottom direction\r\n",
       "skinparam monochrome true\r\n",
       "skinparam classbackgroundcolor white\r\n",
       "skinparam shadowing false\r\n",
       "skinparam wrapWidth 300\r\n",
       "hide circle\r\n",
       "\r\n",
       "package \"QualifiedNameImportTest\" as E1  [[psysml:825b0528-a754-4768-92c2-54c3479055c4 ]]  {\r\n",
       "package \"P1\" as E2  [[psysml:a3fdeae3-ca66-43fb-8ea3-ccc1fec12162 ]]  {\r\n",
       "rec def \"A\" as E3  <<(T,blue)part def>> [[psysml:383f729c-d04b-4502-922b-14a45e711088 ]] {\r\n",
       "}\r\n",
       "}\r\n",
       "package \"P2\" as E4  [[psysml:f7e915ae-81d4-47d2-8346-f23cee504381 ]]  {\r\n",
       "package \"P2a\" as E5  [[psysml:806dfed2-196c-4937-8c4a-4cb4ed2b492f ]]  {\r\n",
       "}\r\n",
       "rec usage \"x: A\" as E6  [[psysml:411a4236-fb50-40bf-b31c-7cf2c008c402 ]] {\r\n",
       "}\r\n",
       "}\r\n",
       "}\r\n",
       "@enduml\r\n",
       "\n",
       "PlantUML version 1.2020.13(Sat Jun 13 12:26:38 UTC 2020)\n",
       "(EPL source distribution)\n",
       "Java Runtime: OpenJDK Runtime Environment\n",
       "JVM: OpenJDK 64-Bit Server VM\n",
       "Default Encoding: UTF-8\n",
       "Language: en\n",
       "Country: null\n",
       "--></g></svg>"
      ]
     },
     "execution_count": 47,
     "metadata": {},
     "output_type": "execute_result"
    }
   ],
   "source": [
    "%viz --style=\"TB\" --view=\"Interconnection\" \"QualifiedNameImportTest\""
   ]
  },
  {
   "cell_type": "code",
   "execution_count": 48,
   "id": "photographic-empty",
   "metadata": {
    "execution": {
     "iopub.execute_input": "2021-03-25T15:09:16.521030Z",
     "iopub.status.busy": "2021-03-25T15:09:16.520407Z",
     "iopub.status.idle": "2021-03-25T15:09:16.526949Z",
     "shell.execute_reply": "2021-03-25T15:09:16.526572Z"
    }
   },
   "outputs": [
    {
     "data": {
      "image/svg+xml": [
       "<?xml version=\"1.0\" encoding=\"UTF-8\" standalone=\"no\"?><svg xmlns=\"http://www.w3.org/2000/svg\" xmlns:xlink=\"http://www.w3.org/1999/xlink\" contentScriptType=\"application/ecmascript\" contentStyleType=\"text/css\" height=\"12px\" preserveAspectRatio=\"none\" style=\"width:12px;height:12px;\" version=\"1.1\" viewBox=\"0 0 12 12\" width=\"12px\" zoomAndPan=\"magnify\"><defs/><g><!--MD5=[06afc254b03ac5e9d9fb7773b07d0800]\n",
       "@startuml\r\n",
       "skinparam ranksep 8\r\n",
       "top to bottom direction\r\n",
       "skinparam monochrome true\r\n",
       "skinparam classbackgroundcolor white\r\n",
       "skinparam shadowing false\r\n",
       "skinparam wrapWidth 300\r\n",
       "hide circle\r\n",
       "\r\n",
       "@enduml\r\n",
       "\n",
       "PlantUML version 1.2020.13(Sat Jun 13 12:26:38 UTC 2020)\n",
       "(EPL source distribution)\n",
       "Java Runtime: OpenJDK Runtime Environment\n",
       "JVM: OpenJDK 64-Bit Server VM\n",
       "Default Encoding: UTF-8\n",
       "Language: en\n",
       "Country: null\n",
       "--></g></svg>"
      ]
     },
     "execution_count": 48,
     "metadata": {},
     "output_type": "execute_result"
    }
   ],
   "source": [
    "%viz --style=\"TB\" --view=\"Action\" \"QualifiedNameImportTest\""
   ]
  },
  {
   "cell_type": "code",
   "execution_count": 49,
   "id": "continent-newman",
   "metadata": {
    "execution": {
     "iopub.execute_input": "2021-03-25T15:09:16.578634Z",
     "iopub.status.busy": "2021-03-25T15:09:16.578121Z",
     "iopub.status.idle": "2021-03-25T15:09:16.638257Z",
     "shell.execute_reply": "2021-03-25T15:09:16.636714Z"
    }
   },
   "outputs": [
    {
     "data": {
      "image/svg+xml": [
       "<?xml version=\"1.0\" encoding=\"UTF-8\" standalone=\"no\"?><svg xmlns=\"http://www.w3.org/2000/svg\" xmlns:xlink=\"http://www.w3.org/1999/xlink\" contentScriptType=\"application/ecmascript\" contentStyleType=\"text/css\" height=\"310px\" preserveAspectRatio=\"none\" style=\"width:253px;height:310px;\" version=\"1.1\" viewBox=\"0 0 253 310\" width=\"253px\" zoomAndPan=\"magnify\"><defs/><g><!--MD5=[fbc87193dbaf4d95561dea2c320d4a47]\n",
       "cluster E1--><a href=\"psysml:825b0528-a754-4768-92c2-54c3479055c4\" target=\"_top\" title=\"psysml:825b0528-a754-4768-92c2-54c3479055c4\" xlink:actuate=\"onRequest\" xlink:href=\"psysml:825b0528-a754-4768-92c2-54c3479055c4\" xlink:show=\"new\" xlink:title=\"psysml:825b0528-a754-4768-92c2-54c3479055c4\" xlink:type=\"simple\"><polygon fill=\"#FFFFFF\" points=\"16,6,221,6,228,28.2969,231,28.2969,231,298,16,298,16,6\" style=\"stroke: #000000; stroke-width: 1.5;\"/><line style=\"stroke: #000000; stroke-width: 1.5;\" x1=\"16\" x2=\"228\" y1=\"28.2969\" y2=\"28.2969\"/><text fill=\"#000000\" font-family=\"sans-serif\" font-size=\"14\" font-weight=\"bold\" lengthAdjust=\"spacingAndGlyphs\" textLength=\"199\" x=\"20\" y=\"20.9951\">QualifiedNameImportTest</text></a><!--MD5=[e4f7fae6ed58524ba242bb0b0d3be6b7]\n",
       "cluster E2--><a href=\"psysml:a3fdeae3-ca66-43fb-8ea3-ccc1fec12162\" target=\"_top\" title=\"psysml:a3fdeae3-ca66-43fb-8ea3-ccc1fec12162\" xlink:actuate=\"onRequest\" xlink:href=\"psysml:a3fdeae3-ca66-43fb-8ea3-ccc1fec12162\" xlink:show=\"new\" xlink:title=\"psysml:a3fdeae3-ca66-43fb-8ea3-ccc1fec12162\" xlink:type=\"simple\"><polygon fill=\"#FFFFFF\" points=\"105,177,131,177,138,199.2969,203,199.2969,203,274,105,274,105,177\" style=\"stroke: #000000; stroke-width: 1.5;\"/><line style=\"stroke: #000000; stroke-width: 1.5;\" x1=\"105\" x2=\"138\" y1=\"199.2969\" y2=\"199.2969\"/><text fill=\"#000000\" font-family=\"sans-serif\" font-size=\"14\" font-weight=\"bold\" lengthAdjust=\"spacingAndGlyphs\" textLength=\"20\" x=\"109\" y=\"191.9951\">P1</text></a><!--MD5=[f6df4d0ebaf0b5dfb2ced0ae5af7c670]\n",
       "cluster E4--><a href=\"psysml:f7e915ae-81d4-47d2-8346-f23cee504381\" target=\"_top\" title=\"psysml:f7e915ae-81d4-47d2-8346-f23cee504381\" xlink:actuate=\"onRequest\" xlink:href=\"psysml:f7e915ae-81d4-47d2-8346-f23cee504381\" xlink:show=\"new\" xlink:title=\"psysml:f7e915ae-81d4-47d2-8346-f23cee504381\" xlink:type=\"simple\"><polygon fill=\"#FFFFFF\" points=\"44,49,70,49,77,71.2969,203,71.2969,203,153,44,153,44,49\" style=\"stroke: #000000; stroke-width: 1.5;\"/><line style=\"stroke: #000000; stroke-width: 1.5;\" x1=\"44\" x2=\"77\" y1=\"71.2969\" y2=\"71.2969\"/><text fill=\"#000000\" font-family=\"sans-serif\" font-size=\"14\" font-weight=\"bold\" lengthAdjust=\"spacingAndGlyphs\" textLength=\"20\" x=\"48\" y=\"63.9951\">P2</text></a><!--MD5=[09b614a08d8cba4a07c9adeb5e0fee81]\n",
       "class E3--><a href=\"psysml:383f729c-d04b-4502-922b-14a45e711088\" target=\"_top\" title=\"psysml:383f729c-d04b-4502-922b-14a45e711088\" xlink:actuate=\"onRequest\" xlink:href=\"psysml:383f729c-d04b-4502-922b-14a45e711088\" xlink:show=\"new\" xlink:title=\"psysml:383f729c-d04b-4502-922b-14a45e711088\" xlink:type=\"simple\"><rect fill=\"#FFFFFF\" height=\"45.9375\" id=\"E3\" style=\"stroke: #383838; stroke-width: 1.5;\" width=\"66\" x=\"121\" y=\"212\"/><text fill=\"#000000\" font-family=\"sans-serif\" font-size=\"12\" font-style=\"italic\" lengthAdjust=\"spacingAndGlyphs\" textLength=\"64\" x=\"122\" y=\"228.1387\">«part def»</text><text fill=\"#000000\" font-family=\"sans-serif\" font-size=\"12\" lengthAdjust=\"spacingAndGlyphs\" textLength=\"8\" x=\"150\" y=\"242.1074\">A</text><line style=\"stroke: #383838; stroke-width: 1.5;\" x1=\"122\" x2=\"186\" y1=\"249.9375\" y2=\"249.9375\"/></a><!--MD5=[60a26617385b1d2d0262a64233df1f8d]\n",
       "class E6--><a href=\"psysml:411a4236-fb50-40bf-b31c-7cf2c008c402\" target=\"_top\" title=\"psysml:411a4236-fb50-40bf-b31c-7cf2c008c402\" xlink:actuate=\"onRequest\" xlink:href=\"psysml:411a4236-fb50-40bf-b31c-7cf2c008c402\" xlink:show=\"new\" xlink:title=\"psysml:411a4236-fb50-40bf-b31c-7cf2c008c402\" xlink:type=\"simple\"><rect fill=\"#FFFFFF\" height=\"45.9375\" id=\"E6\" rx=\"10\" ry=\"10\" style=\"stroke: #383838; stroke-width: 1.5;\" width=\"42\" x=\"145\" y=\"87.5\"/><text fill=\"#000000\" font-family=\"sans-serif\" font-size=\"12\" font-style=\"italic\" lengthAdjust=\"spacingAndGlyphs\" textLength=\"40\" x=\"146\" y=\"103.6387\">«part»</text><text fill=\"#000000\" font-family=\"sans-serif\" font-size=\"12\" lengthAdjust=\"spacingAndGlyphs\" textLength=\"22\" x=\"155\" y=\"117.6074\">x: A</text><line style=\"stroke: #383838; stroke-width: 1.5;\" x1=\"146\" x2=\"186\" y1=\"125.4375\" y2=\"125.4375\"/></a><a href=\"psysml:806dfed2-196c-4937-8c4a-4cb4ed2b492f\" target=\"_top\" title=\"psysml:806dfed2-196c-4937-8c4a-4cb4ed2b492f\" xlink:actuate=\"onRequest\" xlink:href=\"psysml:806dfed2-196c-4937-8c4a-4cb4ed2b492f\" xlink:show=\"new\" xlink:title=\"psysml:806dfed2-196c-4937-8c4a-4cb4ed2b492f\" xlink:type=\"simple\"><polygon fill=\"#FFFFFF\" points=\"60.5,84,95.5,84,102.5,106.2969,109.5,106.2969,109.5,136.5938,60.5,136.5938,60.5,84\" style=\"stroke: #000000; stroke-width: 1.5;\"/><line style=\"stroke: #000000; stroke-width: 1.5;\" x1=\"60.5\" x2=\"102.5\" y1=\"106.2969\" y2=\"106.2969\"/><text fill=\"#000000\" font-family=\"sans-serif\" font-size=\"14\" font-weight=\"bold\" lengthAdjust=\"spacingAndGlyphs\" textLength=\"29\" x=\"64.5\" y=\"98.9951\">P2a</text></a><!--MD5=[a717450b82c80b9240a525fa862496af]\n",
       "link E6 to E3--><a href=\"psysml:65a94b24-3d9f-4a56-873a-c3d993dcfd1a\" target=\"_top\" title=\"psysml:65a94b24-3d9f-4a56-873a-c3d993dcfd1a\" xlink:actuate=\"onRequest\" xlink:href=\"psysml:65a94b24-3d9f-4a56-873a-c3d993dcfd1a\" xlink:show=\"new\" xlink:title=\"psysml:65a94b24-3d9f-4a56-873a-c3d993dcfd1a\" xlink:type=\"simple\"><path d=\"M163.83,133.68 C162.24,149.9 160.04,172.39 158.12,191.96 \" fill=\"none\" id=\"E6-&gt;E3\" style=\"stroke: #383838; stroke-width: 1.0;\"/><polygon fill=\"#FFFFFF\" points=\"156.16,211.98,151.0533,192.3861,164.986,193.7564,156.16,211.98\" style=\"stroke: #383838; stroke-width: 1.0;\"/><ellipse cx=\"153.6016\" cy=\"186.9092\" fill=\"#383838\" rx=\"2\" ry=\"2\" style=\"stroke: #383838; stroke-width: 1.0;\"/><ellipse cx=\"163.5535\" cy=\"187.888\" fill=\"#383838\" rx=\"2\" ry=\"2\" style=\"stroke: #383838; stroke-width: 1.0;\"/></a><!--MD5=[d3551db17d0311dfe6b26a9f2f0e3d3f]\n",
       "@startuml\r\n",
       "top to bottom direction\r\n",
       "skinparam monochrome true\r\n",
       "skinparam classbackgroundcolor white\r\n",
       "skinparam shadowing false\r\n",
       "skinparam wrapWidth 300\r\n",
       "hide circle\r\n",
       "\r\n",
       "package \"QualifiedNameImportTest\" as E1  [[psysml:825b0528-a754-4768-92c2-54c3479055c4 ]]  {\r\n",
       "package \"P1\" as E2  [[psysml:a3fdeae3-ca66-43fb-8ea3-ccc1fec12162 ]]  {\r\n",
       "comp def \"A\" as E3  <<(T,blue)part def>> [[psysml:383f729c-d04b-4502-922b-14a45e711088 ]] {\r\n",
       "}\r\n",
       "}\r\n",
       "package \"P2\" as E4  [[psysml:f7e915ae-81d4-47d2-8346-f23cee504381 ]]  {\r\n",
       "package \"P2a\" as E5  [[psysml:806dfed2-196c-4937-8c4a-4cb4ed2b492f ]]  {\r\n",
       "}\r\n",
       "comp usage \"x: A\" as E6  <<(T,blue)part>> [[psysml:411a4236-fb50-40bf-b31c-7cf2c008c402 ]] {\r\n",
       "}\r\n",
       "E6 - -:|> E3 [[psysml:65a94b24-3d9f-4a56-873a-c3d993dcfd1a ]] \r\n",
       "}\r\n",
       "}\r\n",
       "@enduml\r\n",
       "\n",
       "PlantUML version 1.2020.13(Sat Jun 13 12:26:38 UTC 2020)\n",
       "(EPL source distribution)\n",
       "Java Runtime: OpenJDK Runtime Environment\n",
       "JVM: OpenJDK 64-Bit Server VM\n",
       "Default Encoding: UTF-8\n",
       "Language: en\n",
       "Country: null\n",
       "--></g></svg>"
      ]
     },
     "execution_count": 49,
     "metadata": {},
     "output_type": "execute_result"
    }
   ],
   "source": [
    "%viz --style=\"TB\" --view=\"Sequence\" \"QualifiedNameImportTest\""
   ]
  },
  {
   "cell_type": "code",
   "execution_count": 50,
   "id": "elegant-manchester",
   "metadata": {
    "execution": {
     "iopub.execute_input": "2021-03-25T15:09:16.688916Z",
     "iopub.status.busy": "2021-03-25T15:09:16.688248Z",
     "iopub.status.idle": "2021-03-25T15:09:16.748984Z",
     "shell.execute_reply": "2021-03-25T15:09:16.747670Z"
    }
   },
   "outputs": [
    {
     "data": {
      "image/svg+xml": [
       "<?xml version=\"1.0\" encoding=\"UTF-8\" standalone=\"no\"?><svg xmlns=\"http://www.w3.org/2000/svg\" xmlns:xlink=\"http://www.w3.org/1999/xlink\" contentScriptType=\"application/ecmascript\" contentStyleType=\"text/css\" height=\"310px\" preserveAspectRatio=\"none\" style=\"width:253px;height:310px;\" version=\"1.1\" viewBox=\"0 0 253 310\" width=\"253px\" zoomAndPan=\"magnify\"><defs/><g><!--MD5=[fbc87193dbaf4d95561dea2c320d4a47]\n",
       "cluster E1--><a href=\"psysml:825b0528-a754-4768-92c2-54c3479055c4\" target=\"_top\" title=\"psysml:825b0528-a754-4768-92c2-54c3479055c4\" xlink:actuate=\"onRequest\" xlink:href=\"psysml:825b0528-a754-4768-92c2-54c3479055c4\" xlink:show=\"new\" xlink:title=\"psysml:825b0528-a754-4768-92c2-54c3479055c4\" xlink:type=\"simple\"><polygon fill=\"#FFFFFF\" points=\"16,6,221,6,228,28.2969,231,28.2969,231,298,16,298,16,6\" style=\"stroke: #000000; stroke-width: 1.5;\"/><line style=\"stroke: #000000; stroke-width: 1.5;\" x1=\"16\" x2=\"228\" y1=\"28.2969\" y2=\"28.2969\"/><text fill=\"#000000\" font-family=\"sans-serif\" font-size=\"14\" font-weight=\"bold\" lengthAdjust=\"spacingAndGlyphs\" textLength=\"199\" x=\"20\" y=\"20.9951\">QualifiedNameImportTest</text></a><!--MD5=[e4f7fae6ed58524ba242bb0b0d3be6b7]\n",
       "cluster E2--><a href=\"psysml:a3fdeae3-ca66-43fb-8ea3-ccc1fec12162\" target=\"_top\" title=\"psysml:a3fdeae3-ca66-43fb-8ea3-ccc1fec12162\" xlink:actuate=\"onRequest\" xlink:href=\"psysml:a3fdeae3-ca66-43fb-8ea3-ccc1fec12162\" xlink:show=\"new\" xlink:title=\"psysml:a3fdeae3-ca66-43fb-8ea3-ccc1fec12162\" xlink:type=\"simple\"><polygon fill=\"#FFFFFF\" points=\"105,177,131,177,138,199.2969,203,199.2969,203,274,105,274,105,177\" style=\"stroke: #000000; stroke-width: 1.5;\"/><line style=\"stroke: #000000; stroke-width: 1.5;\" x1=\"105\" x2=\"138\" y1=\"199.2969\" y2=\"199.2969\"/><text fill=\"#000000\" font-family=\"sans-serif\" font-size=\"14\" font-weight=\"bold\" lengthAdjust=\"spacingAndGlyphs\" textLength=\"20\" x=\"109\" y=\"191.9951\">P1</text></a><!--MD5=[f6df4d0ebaf0b5dfb2ced0ae5af7c670]\n",
       "cluster E4--><a href=\"psysml:f7e915ae-81d4-47d2-8346-f23cee504381\" target=\"_top\" title=\"psysml:f7e915ae-81d4-47d2-8346-f23cee504381\" xlink:actuate=\"onRequest\" xlink:href=\"psysml:f7e915ae-81d4-47d2-8346-f23cee504381\" xlink:show=\"new\" xlink:title=\"psysml:f7e915ae-81d4-47d2-8346-f23cee504381\" xlink:type=\"simple\"><polygon fill=\"#FFFFFF\" points=\"44,49,70,49,77,71.2969,203,71.2969,203,153,44,153,44,49\" style=\"stroke: #000000; stroke-width: 1.5;\"/><line style=\"stroke: #000000; stroke-width: 1.5;\" x1=\"44\" x2=\"77\" y1=\"71.2969\" y2=\"71.2969\"/><text fill=\"#000000\" font-family=\"sans-serif\" font-size=\"14\" font-weight=\"bold\" lengthAdjust=\"spacingAndGlyphs\" textLength=\"20\" x=\"48\" y=\"63.9951\">P2</text></a><!--MD5=[09b614a08d8cba4a07c9adeb5e0fee81]\n",
       "class E3--><a href=\"psysml:383f729c-d04b-4502-922b-14a45e711088\" target=\"_top\" title=\"psysml:383f729c-d04b-4502-922b-14a45e711088\" xlink:actuate=\"onRequest\" xlink:href=\"psysml:383f729c-d04b-4502-922b-14a45e711088\" xlink:show=\"new\" xlink:title=\"psysml:383f729c-d04b-4502-922b-14a45e711088\" xlink:type=\"simple\"><rect fill=\"#FFFFFF\" height=\"45.9375\" id=\"E3\" style=\"stroke: #383838; stroke-width: 1.5;\" width=\"66\" x=\"121\" y=\"212\"/><text fill=\"#000000\" font-family=\"sans-serif\" font-size=\"12\" font-style=\"italic\" lengthAdjust=\"spacingAndGlyphs\" textLength=\"64\" x=\"122\" y=\"228.1387\">«part def»</text><text fill=\"#000000\" font-family=\"sans-serif\" font-size=\"12\" lengthAdjust=\"spacingAndGlyphs\" textLength=\"8\" x=\"150\" y=\"242.1074\">A</text><line style=\"stroke: #383838; stroke-width: 1.5;\" x1=\"122\" x2=\"186\" y1=\"249.9375\" y2=\"249.9375\"/></a><!--MD5=[60a26617385b1d2d0262a64233df1f8d]\n",
       "class E6--><a href=\"psysml:411a4236-fb50-40bf-b31c-7cf2c008c402\" target=\"_top\" title=\"psysml:411a4236-fb50-40bf-b31c-7cf2c008c402\" xlink:actuate=\"onRequest\" xlink:href=\"psysml:411a4236-fb50-40bf-b31c-7cf2c008c402\" xlink:show=\"new\" xlink:title=\"psysml:411a4236-fb50-40bf-b31c-7cf2c008c402\" xlink:type=\"simple\"><rect fill=\"#FFFFFF\" height=\"45.9375\" id=\"E6\" rx=\"10\" ry=\"10\" style=\"stroke: #383838; stroke-width: 1.5;\" width=\"42\" x=\"145\" y=\"87.5\"/><text fill=\"#000000\" font-family=\"sans-serif\" font-size=\"12\" font-style=\"italic\" lengthAdjust=\"spacingAndGlyphs\" textLength=\"40\" x=\"146\" y=\"103.6387\">«part»</text><text fill=\"#000000\" font-family=\"sans-serif\" font-size=\"12\" lengthAdjust=\"spacingAndGlyphs\" textLength=\"22\" x=\"155\" y=\"117.6074\">x: A</text><line style=\"stroke: #383838; stroke-width: 1.5;\" x1=\"146\" x2=\"186\" y1=\"125.4375\" y2=\"125.4375\"/></a><a href=\"psysml:806dfed2-196c-4937-8c4a-4cb4ed2b492f\" target=\"_top\" title=\"psysml:806dfed2-196c-4937-8c4a-4cb4ed2b492f\" xlink:actuate=\"onRequest\" xlink:href=\"psysml:806dfed2-196c-4937-8c4a-4cb4ed2b492f\" xlink:show=\"new\" xlink:title=\"psysml:806dfed2-196c-4937-8c4a-4cb4ed2b492f\" xlink:type=\"simple\"><polygon fill=\"#FFFFFF\" points=\"60.5,84,95.5,84,102.5,106.2969,109.5,106.2969,109.5,136.5938,60.5,136.5938,60.5,84\" style=\"stroke: #000000; stroke-width: 1.5;\"/><line style=\"stroke: #000000; stroke-width: 1.5;\" x1=\"60.5\" x2=\"102.5\" y1=\"106.2969\" y2=\"106.2969\"/><text fill=\"#000000\" font-family=\"sans-serif\" font-size=\"14\" font-weight=\"bold\" lengthAdjust=\"spacingAndGlyphs\" textLength=\"29\" x=\"64.5\" y=\"98.9951\">P2a</text></a><!--MD5=[a717450b82c80b9240a525fa862496af]\n",
       "link E6 to E3--><a href=\"psysml:65a94b24-3d9f-4a56-873a-c3d993dcfd1a\" target=\"_top\" title=\"psysml:65a94b24-3d9f-4a56-873a-c3d993dcfd1a\" xlink:actuate=\"onRequest\" xlink:href=\"psysml:65a94b24-3d9f-4a56-873a-c3d993dcfd1a\" xlink:show=\"new\" xlink:title=\"psysml:65a94b24-3d9f-4a56-873a-c3d993dcfd1a\" xlink:type=\"simple\"><path d=\"M163.83,133.68 C162.24,149.9 160.04,172.39 158.12,191.96 \" fill=\"none\" id=\"E6-&gt;E3\" style=\"stroke: #383838; stroke-width: 1.0;\"/><polygon fill=\"#FFFFFF\" points=\"156.16,211.98,151.0533,192.3861,164.986,193.7564,156.16,211.98\" style=\"stroke: #383838; stroke-width: 1.0;\"/><ellipse cx=\"153.6016\" cy=\"186.9092\" fill=\"#383838\" rx=\"2\" ry=\"2\" style=\"stroke: #383838; stroke-width: 1.0;\"/><ellipse cx=\"163.5535\" cy=\"187.888\" fill=\"#383838\" rx=\"2\" ry=\"2\" style=\"stroke: #383838; stroke-width: 1.0;\"/></a><!--MD5=[d3551db17d0311dfe6b26a9f2f0e3d3f]\n",
       "@startuml\r\n",
       "top to bottom direction\r\n",
       "skinparam monochrome true\r\n",
       "skinparam classbackgroundcolor white\r\n",
       "skinparam shadowing false\r\n",
       "skinparam wrapWidth 300\r\n",
       "hide circle\r\n",
       "\r\n",
       "package \"QualifiedNameImportTest\" as E1  [[psysml:825b0528-a754-4768-92c2-54c3479055c4 ]]  {\r\n",
       "package \"P1\" as E2  [[psysml:a3fdeae3-ca66-43fb-8ea3-ccc1fec12162 ]]  {\r\n",
       "comp def \"A\" as E3  <<(T,blue)part def>> [[psysml:383f729c-d04b-4502-922b-14a45e711088 ]] {\r\n",
       "}\r\n",
       "}\r\n",
       "package \"P2\" as E4  [[psysml:f7e915ae-81d4-47d2-8346-f23cee504381 ]]  {\r\n",
       "package \"P2a\" as E5  [[psysml:806dfed2-196c-4937-8c4a-4cb4ed2b492f ]]  {\r\n",
       "}\r\n",
       "comp usage \"x: A\" as E6  <<(T,blue)part>> [[psysml:411a4236-fb50-40bf-b31c-7cf2c008c402 ]] {\r\n",
       "}\r\n",
       "E6 - -:|> E3 [[psysml:65a94b24-3d9f-4a56-873a-c3d993dcfd1a ]] \r\n",
       "}\r\n",
       "}\r\n",
       "@enduml\r\n",
       "\n",
       "PlantUML version 1.2020.13(Sat Jun 13 12:26:38 UTC 2020)\n",
       "(EPL source distribution)\n",
       "Java Runtime: OpenJDK Runtime Environment\n",
       "JVM: OpenJDK 64-Bit Server VM\n",
       "Default Encoding: UTF-8\n",
       "Language: en\n",
       "Country: null\n",
       "--></g></svg>"
      ]
     },
     "execution_count": 50,
     "metadata": {},
     "output_type": "execute_result"
    }
   ],
   "source": [
    "%viz --style=\"TB\" --view=\"MIXED\" \"QualifiedNameImportTest\""
   ]
  },
  {
   "cell_type": "code",
   "execution_count": 51,
   "id": "intellectual-minnesota",
   "metadata": {
    "execution": {
     "iopub.execute_input": "2021-03-25T15:09:16.801751Z",
     "iopub.status.busy": "2021-03-25T15:09:16.801174Z",
     "iopub.status.idle": "2021-03-25T15:09:16.862351Z",
     "shell.execute_reply": "2021-03-25T15:09:16.862716Z"
    }
   },
   "outputs": [
    {
     "data": {
      "image/svg+xml": [
       "<?xml version=\"1.0\" encoding=\"UTF-8\" standalone=\"no\"?><svg xmlns=\"http://www.w3.org/2000/svg\" xmlns:xlink=\"http://www.w3.org/1999/xlink\" contentScriptType=\"application/ecmascript\" contentStyleType=\"text/css\" height=\"310px\" preserveAspectRatio=\"none\" style=\"width:253px;height:310px;\" version=\"1.1\" viewBox=\"0 0 253 310\" width=\"253px\" zoomAndPan=\"magnify\"><defs/><g><!--MD5=[fbc87193dbaf4d95561dea2c320d4a47]\n",
       "cluster E1--><a href=\"psysml:825b0528-a754-4768-92c2-54c3479055c4\" target=\"_top\" title=\"psysml:825b0528-a754-4768-92c2-54c3479055c4\" xlink:actuate=\"onRequest\" xlink:href=\"psysml:825b0528-a754-4768-92c2-54c3479055c4\" xlink:show=\"new\" xlink:title=\"psysml:825b0528-a754-4768-92c2-54c3479055c4\" xlink:type=\"simple\"><polygon fill=\"#FFFFFF\" points=\"16,6,221,6,228,28.2969,231,28.2969,231,298,16,298,16,6\" style=\"stroke: #000000; stroke-width: 1.5;\"/><line style=\"stroke: #000000; stroke-width: 1.5;\" x1=\"16\" x2=\"228\" y1=\"28.2969\" y2=\"28.2969\"/><text fill=\"#000000\" font-family=\"sans-serif\" font-size=\"14\" font-weight=\"bold\" lengthAdjust=\"spacingAndGlyphs\" textLength=\"199\" x=\"20\" y=\"20.9951\">QualifiedNameImportTest</text></a><!--MD5=[e4f7fae6ed58524ba242bb0b0d3be6b7]\n",
       "cluster E2--><a href=\"psysml:a3fdeae3-ca66-43fb-8ea3-ccc1fec12162\" target=\"_top\" title=\"psysml:a3fdeae3-ca66-43fb-8ea3-ccc1fec12162\" xlink:actuate=\"onRequest\" xlink:href=\"psysml:a3fdeae3-ca66-43fb-8ea3-ccc1fec12162\" xlink:show=\"new\" xlink:title=\"psysml:a3fdeae3-ca66-43fb-8ea3-ccc1fec12162\" xlink:type=\"simple\"><polygon fill=\"#FFFFFF\" points=\"105,177,131,177,138,199.2969,203,199.2969,203,274,105,274,105,177\" style=\"stroke: #000000; stroke-width: 1.5;\"/><line style=\"stroke: #000000; stroke-width: 1.5;\" x1=\"105\" x2=\"138\" y1=\"199.2969\" y2=\"199.2969\"/><text fill=\"#000000\" font-family=\"sans-serif\" font-size=\"14\" font-weight=\"bold\" lengthAdjust=\"spacingAndGlyphs\" textLength=\"20\" x=\"109\" y=\"191.9951\">P1</text></a><!--MD5=[f6df4d0ebaf0b5dfb2ced0ae5af7c670]\n",
       "cluster E4--><a href=\"psysml:f7e915ae-81d4-47d2-8346-f23cee504381\" target=\"_top\" title=\"psysml:f7e915ae-81d4-47d2-8346-f23cee504381\" xlink:actuate=\"onRequest\" xlink:href=\"psysml:f7e915ae-81d4-47d2-8346-f23cee504381\" xlink:show=\"new\" xlink:title=\"psysml:f7e915ae-81d4-47d2-8346-f23cee504381\" xlink:type=\"simple\"><polygon fill=\"#FFFFFF\" points=\"44,49,70,49,77,71.2969,203,71.2969,203,153,44,153,44,49\" style=\"stroke: #000000; stroke-width: 1.5;\"/><line style=\"stroke: #000000; stroke-width: 1.5;\" x1=\"44\" x2=\"77\" y1=\"71.2969\" y2=\"71.2969\"/><text fill=\"#000000\" font-family=\"sans-serif\" font-size=\"14\" font-weight=\"bold\" lengthAdjust=\"spacingAndGlyphs\" textLength=\"20\" x=\"48\" y=\"63.9951\">P2</text></a><!--MD5=[09b614a08d8cba4a07c9adeb5e0fee81]\n",
       "class E3--><a href=\"psysml:383f729c-d04b-4502-922b-14a45e711088\" target=\"_top\" title=\"psysml:383f729c-d04b-4502-922b-14a45e711088\" xlink:actuate=\"onRequest\" xlink:href=\"psysml:383f729c-d04b-4502-922b-14a45e711088\" xlink:show=\"new\" xlink:title=\"psysml:383f729c-d04b-4502-922b-14a45e711088\" xlink:type=\"simple\"><rect fill=\"#FFFFFF\" height=\"45.9375\" id=\"E3\" style=\"stroke: #383838; stroke-width: 1.5;\" width=\"66\" x=\"121\" y=\"212\"/><text fill=\"#000000\" font-family=\"sans-serif\" font-size=\"12\" font-style=\"italic\" lengthAdjust=\"spacingAndGlyphs\" textLength=\"64\" x=\"122\" y=\"228.1387\">«part def»</text><text fill=\"#000000\" font-family=\"sans-serif\" font-size=\"12\" lengthAdjust=\"spacingAndGlyphs\" textLength=\"8\" x=\"150\" y=\"242.1074\">A</text><line style=\"stroke: #383838; stroke-width: 1.5;\" x1=\"122\" x2=\"186\" y1=\"249.9375\" y2=\"249.9375\"/></a><!--MD5=[60a26617385b1d2d0262a64233df1f8d]\n",
       "class E6--><a href=\"psysml:411a4236-fb50-40bf-b31c-7cf2c008c402\" target=\"_top\" title=\"psysml:411a4236-fb50-40bf-b31c-7cf2c008c402\" xlink:actuate=\"onRequest\" xlink:href=\"psysml:411a4236-fb50-40bf-b31c-7cf2c008c402\" xlink:show=\"new\" xlink:title=\"psysml:411a4236-fb50-40bf-b31c-7cf2c008c402\" xlink:type=\"simple\"><rect fill=\"#FFFFFF\" height=\"45.9375\" id=\"E6\" rx=\"10\" ry=\"10\" style=\"stroke: #383838; stroke-width: 1.5;\" width=\"42\" x=\"145\" y=\"87.5\"/><text fill=\"#000000\" font-family=\"sans-serif\" font-size=\"12\" font-style=\"italic\" lengthAdjust=\"spacingAndGlyphs\" textLength=\"40\" x=\"146\" y=\"103.6387\">«part»</text><text fill=\"#000000\" font-family=\"sans-serif\" font-size=\"12\" lengthAdjust=\"spacingAndGlyphs\" textLength=\"22\" x=\"155\" y=\"117.6074\">x: A</text><line style=\"stroke: #383838; stroke-width: 1.5;\" x1=\"146\" x2=\"186\" y1=\"125.4375\" y2=\"125.4375\"/></a><a href=\"psysml:806dfed2-196c-4937-8c4a-4cb4ed2b492f\" target=\"_top\" title=\"psysml:806dfed2-196c-4937-8c4a-4cb4ed2b492f\" xlink:actuate=\"onRequest\" xlink:href=\"psysml:806dfed2-196c-4937-8c4a-4cb4ed2b492f\" xlink:show=\"new\" xlink:title=\"psysml:806dfed2-196c-4937-8c4a-4cb4ed2b492f\" xlink:type=\"simple\"><polygon fill=\"#FFFFFF\" points=\"60.5,84,95.5,84,102.5,106.2969,109.5,106.2969,109.5,136.5938,60.5,136.5938,60.5,84\" style=\"stroke: #000000; stroke-width: 1.5;\"/><line style=\"stroke: #000000; stroke-width: 1.5;\" x1=\"60.5\" x2=\"102.5\" y1=\"106.2969\" y2=\"106.2969\"/><text fill=\"#000000\" font-family=\"sans-serif\" font-size=\"14\" font-weight=\"bold\" lengthAdjust=\"spacingAndGlyphs\" textLength=\"29\" x=\"64.5\" y=\"98.9951\">P2a</text></a><!--MD5=[a717450b82c80b9240a525fa862496af]\n",
       "link E6 to E3--><a href=\"psysml:65a94b24-3d9f-4a56-873a-c3d993dcfd1a\" target=\"_top\" title=\"psysml:65a94b24-3d9f-4a56-873a-c3d993dcfd1a\" xlink:actuate=\"onRequest\" xlink:href=\"psysml:65a94b24-3d9f-4a56-873a-c3d993dcfd1a\" xlink:show=\"new\" xlink:title=\"psysml:65a94b24-3d9f-4a56-873a-c3d993dcfd1a\" xlink:type=\"simple\"><path d=\"M166,133.63 C166,133.63 166,192 166,192 \" fill=\"none\" id=\"E6-&gt;E3\" style=\"stroke: #383838; stroke-width: 1.0;\"/><polygon fill=\"#FFFFFF\" points=\"166,212,159,193,173,193,166,212\" style=\"stroke: #383838; stroke-width: 1.0;\"/><ellipse cx=\"161\" cy=\"187.3\" fill=\"#383838\" rx=\"2\" ry=\"2\" style=\"stroke: #383838; stroke-width: 1.0;\"/><ellipse cx=\"171\" cy=\"187.3\" fill=\"#383838\" rx=\"2\" ry=\"2\" style=\"stroke: #383838; stroke-width: 1.0;\"/></a><!--MD5=[c3f6d5cebd4c06e1a37839e728b72026]\n",
       "@startuml\r\n",
       "skinparam linetype ortho\r\n",
       "skinparam monochrome true\r\n",
       "skinparam classbackgroundcolor white\r\n",
       "skinparam shadowing false\r\n",
       "skinparam wrapWidth 300\r\n",
       "hide circle\r\n",
       "\r\n",
       "package \"QualifiedNameImportTest\" as E1  [[psysml:825b0528-a754-4768-92c2-54c3479055c4 ]]  {\r\n",
       "package \"P1\" as E2  [[psysml:a3fdeae3-ca66-43fb-8ea3-ccc1fec12162 ]]  {\r\n",
       "comp def \"A\" as E3  <<(T,blue)part def>> [[psysml:383f729c-d04b-4502-922b-14a45e711088 ]] {\r\n",
       "}\r\n",
       "}\r\n",
       "package \"P2\" as E4  [[psysml:f7e915ae-81d4-47d2-8346-f23cee504381 ]]  {\r\n",
       "package \"P2a\" as E5  [[psysml:806dfed2-196c-4937-8c4a-4cb4ed2b492f ]]  {\r\n",
       "}\r\n",
       "comp usage \"x: A\" as E6  <<(T,blue)part>> [[psysml:411a4236-fb50-40bf-b31c-7cf2c008c402 ]] {\r\n",
       "}\r\n",
       "E6 - -:|> E3 [[psysml:65a94b24-3d9f-4a56-873a-c3d993dcfd1a ]] \r\n",
       "}\r\n",
       "}\r\n",
       "@enduml\r\n",
       "\n",
       "PlantUML version 1.2020.13(Sat Jun 13 12:26:38 UTC 2020)\n",
       "(EPL source distribution)\n",
       "Java Runtime: OpenJDK Runtime Environment\n",
       "JVM: OpenJDK 64-Bit Server VM\n",
       "Default Encoding: UTF-8\n",
       "Language: en\n",
       "Country: null\n",
       "--></g></svg>"
      ]
     },
     "execution_count": 51,
     "metadata": {},
     "output_type": "execute_result"
    }
   ],
   "source": [
    "%viz --style=\"ORTHOLINE\" --view=\"Default\" \"QualifiedNameImportTest\""
   ]
  },
  {
   "cell_type": "code",
   "execution_count": 52,
   "id": "sunset-personality",
   "metadata": {
    "execution": {
     "iopub.execute_input": "2021-03-25T15:09:16.914277Z",
     "iopub.status.busy": "2021-03-25T15:09:16.913776Z",
     "iopub.status.idle": "2021-03-25T15:09:16.972143Z",
     "shell.execute_reply": "2021-03-25T15:09:16.970454Z"
    }
   },
   "outputs": [
    {
     "data": {
      "image/svg+xml": [
       "<?xml version=\"1.0\" encoding=\"UTF-8\" standalone=\"no\"?><svg xmlns=\"http://www.w3.org/2000/svg\" xmlns:xlink=\"http://www.w3.org/1999/xlink\" contentScriptType=\"application/ecmascript\" contentStyleType=\"text/css\" height=\"310px\" preserveAspectRatio=\"none\" style=\"width:253px;height:310px;\" version=\"1.1\" viewBox=\"0 0 253 310\" width=\"253px\" zoomAndPan=\"magnify\"><defs/><g><!--MD5=[fbc87193dbaf4d95561dea2c320d4a47]\n",
       "cluster E1--><a href=\"psysml:825b0528-a754-4768-92c2-54c3479055c4\" target=\"_top\" title=\"psysml:825b0528-a754-4768-92c2-54c3479055c4\" xlink:actuate=\"onRequest\" xlink:href=\"psysml:825b0528-a754-4768-92c2-54c3479055c4\" xlink:show=\"new\" xlink:title=\"psysml:825b0528-a754-4768-92c2-54c3479055c4\" xlink:type=\"simple\"><polygon fill=\"#FFFFFF\" points=\"16,6,221,6,228,28.2969,231,28.2969,231,298,16,298,16,6\" style=\"stroke: #000000; stroke-width: 1.5;\"/><line style=\"stroke: #000000; stroke-width: 1.5;\" x1=\"16\" x2=\"228\" y1=\"28.2969\" y2=\"28.2969\"/><text fill=\"#000000\" font-family=\"sans-serif\" font-size=\"14\" font-weight=\"bold\" lengthAdjust=\"spacingAndGlyphs\" textLength=\"199\" x=\"20\" y=\"20.9951\">QualifiedNameImportTest</text></a><!--MD5=[e4f7fae6ed58524ba242bb0b0d3be6b7]\n",
       "cluster E2--><a href=\"psysml:a3fdeae3-ca66-43fb-8ea3-ccc1fec12162\" target=\"_top\" title=\"psysml:a3fdeae3-ca66-43fb-8ea3-ccc1fec12162\" xlink:actuate=\"onRequest\" xlink:href=\"psysml:a3fdeae3-ca66-43fb-8ea3-ccc1fec12162\" xlink:show=\"new\" xlink:title=\"psysml:a3fdeae3-ca66-43fb-8ea3-ccc1fec12162\" xlink:type=\"simple\"><polygon fill=\"#FFFFFF\" points=\"105,177,131,177,138,199.2969,203,199.2969,203,274,105,274,105,177\" style=\"stroke: #000000; stroke-width: 1.5;\"/><line style=\"stroke: #000000; stroke-width: 1.5;\" x1=\"105\" x2=\"138\" y1=\"199.2969\" y2=\"199.2969\"/><text fill=\"#000000\" font-family=\"sans-serif\" font-size=\"14\" font-weight=\"bold\" lengthAdjust=\"spacingAndGlyphs\" textLength=\"20\" x=\"109\" y=\"191.9951\">P1</text></a><!--MD5=[f6df4d0ebaf0b5dfb2ced0ae5af7c670]\n",
       "cluster E4--><a href=\"psysml:f7e915ae-81d4-47d2-8346-f23cee504381\" target=\"_top\" title=\"psysml:f7e915ae-81d4-47d2-8346-f23cee504381\" xlink:actuate=\"onRequest\" xlink:href=\"psysml:f7e915ae-81d4-47d2-8346-f23cee504381\" xlink:show=\"new\" xlink:title=\"psysml:f7e915ae-81d4-47d2-8346-f23cee504381\" xlink:type=\"simple\"><polygon fill=\"#FFFFFF\" points=\"44,49,70,49,77,71.2969,203,71.2969,203,153,44,153,44,49\" style=\"stroke: #000000; stroke-width: 1.5;\"/><line style=\"stroke: #000000; stroke-width: 1.5;\" x1=\"44\" x2=\"77\" y1=\"71.2969\" y2=\"71.2969\"/><text fill=\"#000000\" font-family=\"sans-serif\" font-size=\"14\" font-weight=\"bold\" lengthAdjust=\"spacingAndGlyphs\" textLength=\"20\" x=\"48\" y=\"63.9951\">P2</text></a><!--MD5=[09b614a08d8cba4a07c9adeb5e0fee81]\n",
       "class E3--><a href=\"psysml:383f729c-d04b-4502-922b-14a45e711088\" target=\"_top\" title=\"psysml:383f729c-d04b-4502-922b-14a45e711088\" xlink:actuate=\"onRequest\" xlink:href=\"psysml:383f729c-d04b-4502-922b-14a45e711088\" xlink:show=\"new\" xlink:title=\"psysml:383f729c-d04b-4502-922b-14a45e711088\" xlink:type=\"simple\"><rect fill=\"#FFFFFF\" height=\"45.9375\" id=\"E3\" style=\"stroke: #383838; stroke-width: 1.5;\" width=\"66\" x=\"121\" y=\"212\"/><text fill=\"#000000\" font-family=\"sans-serif\" font-size=\"12\" font-style=\"italic\" lengthAdjust=\"spacingAndGlyphs\" textLength=\"64\" x=\"122\" y=\"228.1387\">«part def»</text><text fill=\"#000000\" font-family=\"sans-serif\" font-size=\"12\" lengthAdjust=\"spacingAndGlyphs\" textLength=\"8\" x=\"150\" y=\"242.1074\">A</text><line style=\"stroke: #383838; stroke-width: 1.5;\" x1=\"122\" x2=\"186\" y1=\"249.9375\" y2=\"249.9375\"/></a><!--MD5=[60a26617385b1d2d0262a64233df1f8d]\n",
       "class E6--><a href=\"psysml:411a4236-fb50-40bf-b31c-7cf2c008c402\" target=\"_top\" title=\"psysml:411a4236-fb50-40bf-b31c-7cf2c008c402\" xlink:actuate=\"onRequest\" xlink:href=\"psysml:411a4236-fb50-40bf-b31c-7cf2c008c402\" xlink:show=\"new\" xlink:title=\"psysml:411a4236-fb50-40bf-b31c-7cf2c008c402\" xlink:type=\"simple\"><rect fill=\"#FFFFFF\" height=\"45.9375\" id=\"E6\" rx=\"10\" ry=\"10\" style=\"stroke: #383838; stroke-width: 1.5;\" width=\"42\" x=\"145\" y=\"87.5\"/><text fill=\"#000000\" font-family=\"sans-serif\" font-size=\"12\" font-style=\"italic\" lengthAdjust=\"spacingAndGlyphs\" textLength=\"40\" x=\"146\" y=\"103.6387\">«part»</text><text fill=\"#000000\" font-family=\"sans-serif\" font-size=\"12\" lengthAdjust=\"spacingAndGlyphs\" textLength=\"22\" x=\"155\" y=\"117.6074\">x: A</text><line style=\"stroke: #383838; stroke-width: 1.5;\" x1=\"146\" x2=\"186\" y1=\"125.4375\" y2=\"125.4375\"/></a><a href=\"psysml:806dfed2-196c-4937-8c4a-4cb4ed2b492f\" target=\"_top\" title=\"psysml:806dfed2-196c-4937-8c4a-4cb4ed2b492f\" xlink:actuate=\"onRequest\" xlink:href=\"psysml:806dfed2-196c-4937-8c4a-4cb4ed2b492f\" xlink:show=\"new\" xlink:title=\"psysml:806dfed2-196c-4937-8c4a-4cb4ed2b492f\" xlink:type=\"simple\"><polygon fill=\"#FFFFFF\" points=\"60.5,84,95.5,84,102.5,106.2969,109.5,106.2969,109.5,136.5938,60.5,136.5938,60.5,84\" style=\"stroke: #000000; stroke-width: 1.5;\"/><line style=\"stroke: #000000; stroke-width: 1.5;\" x1=\"60.5\" x2=\"102.5\" y1=\"106.2969\" y2=\"106.2969\"/><text fill=\"#000000\" font-family=\"sans-serif\" font-size=\"14\" font-weight=\"bold\" lengthAdjust=\"spacingAndGlyphs\" textLength=\"29\" x=\"64.5\" y=\"98.9951\">P2a</text></a><!--MD5=[a717450b82c80b9240a525fa862496af]\n",
       "link E6 to E3--><a href=\"psysml:65a94b24-3d9f-4a56-873a-c3d993dcfd1a\" target=\"_top\" title=\"psysml:65a94b24-3d9f-4a56-873a-c3d993dcfd1a\" xlink:actuate=\"onRequest\" xlink:href=\"psysml:65a94b24-3d9f-4a56-873a-c3d993dcfd1a\" xlink:show=\"new\" xlink:title=\"psysml:65a94b24-3d9f-4a56-873a-c3d993dcfd1a\" xlink:type=\"simple\"><path d=\"M166,133.63 C166,133.63 166,192 166,192 \" fill=\"none\" id=\"E6-&gt;E3\" style=\"stroke: #383838; stroke-width: 1.0;\"/><polygon fill=\"#FFFFFF\" points=\"166,212,159,193,173,193,166,212\" style=\"stroke: #383838; stroke-width: 1.0;\"/><ellipse cx=\"161\" cy=\"187.3\" fill=\"#383838\" rx=\"2\" ry=\"2\" style=\"stroke: #383838; stroke-width: 1.0;\"/><ellipse cx=\"171\" cy=\"187.3\" fill=\"#383838\" rx=\"2\" ry=\"2\" style=\"stroke: #383838; stroke-width: 1.0;\"/></a><!--MD5=[c3f6d5cebd4c06e1a37839e728b72026]\n",
       "@startuml\r\n",
       "skinparam linetype ortho\r\n",
       "skinparam monochrome true\r\n",
       "skinparam classbackgroundcolor white\r\n",
       "skinparam shadowing false\r\n",
       "skinparam wrapWidth 300\r\n",
       "hide circle\r\n",
       "\r\n",
       "package \"QualifiedNameImportTest\" as E1  [[psysml:825b0528-a754-4768-92c2-54c3479055c4 ]]  {\r\n",
       "package \"P1\" as E2  [[psysml:a3fdeae3-ca66-43fb-8ea3-ccc1fec12162 ]]  {\r\n",
       "comp def \"A\" as E3  <<(T,blue)part def>> [[psysml:383f729c-d04b-4502-922b-14a45e711088 ]] {\r\n",
       "}\r\n",
       "}\r\n",
       "package \"P2\" as E4  [[psysml:f7e915ae-81d4-47d2-8346-f23cee504381 ]]  {\r\n",
       "package \"P2a\" as E5  [[psysml:806dfed2-196c-4937-8c4a-4cb4ed2b492f ]]  {\r\n",
       "}\r\n",
       "comp usage \"x: A\" as E6  <<(T,blue)part>> [[psysml:411a4236-fb50-40bf-b31c-7cf2c008c402 ]] {\r\n",
       "}\r\n",
       "E6 - -:|> E3 [[psysml:65a94b24-3d9f-4a56-873a-c3d993dcfd1a ]] \r\n",
       "}\r\n",
       "}\r\n",
       "@enduml\r\n",
       "\n",
       "PlantUML version 1.2020.13(Sat Jun 13 12:26:38 UTC 2020)\n",
       "(EPL source distribution)\n",
       "Java Runtime: OpenJDK Runtime Environment\n",
       "JVM: OpenJDK 64-Bit Server VM\n",
       "Default Encoding: UTF-8\n",
       "Language: en\n",
       "Country: null\n",
       "--></g></svg>"
      ]
     },
     "execution_count": 52,
     "metadata": {},
     "output_type": "execute_result"
    }
   ],
   "source": [
    "%viz --style=\"ORTHOLINE\" --view=\"Tree\" \"QualifiedNameImportTest\""
   ]
  },
  {
   "cell_type": "code",
   "execution_count": 53,
   "id": "executed-batman",
   "metadata": {
    "execution": {
     "iopub.execute_input": "2021-03-25T15:09:17.022129Z",
     "iopub.status.busy": "2021-03-25T15:09:17.021598Z",
     "iopub.status.idle": "2021-03-25T15:09:17.030476Z",
     "shell.execute_reply": "2021-03-25T15:09:17.029644Z"
    }
   },
   "outputs": [
    {
     "data": {
      "image/svg+xml": [
       "<?xml version=\"1.0\" encoding=\"UTF-8\" standalone=\"no\"?><svg xmlns=\"http://www.w3.org/2000/svg\" xmlns:xlink=\"http://www.w3.org/1999/xlink\" contentScriptType=\"application/ecmascript\" contentStyleType=\"text/css\" height=\"12px\" preserveAspectRatio=\"none\" style=\"width:12px;height:12px;\" version=\"1.1\" viewBox=\"0 0 12 12\" width=\"12px\" zoomAndPan=\"magnify\"><defs/><g><!--MD5=[97d6f38768b311333d388e66b2b27985]\n",
       "@startuml\r\n",
       "skinparam linetype ortho\r\n",
       "skinparam monochrome true\r\n",
       "skinparam classbackgroundcolor white\r\n",
       "skinparam shadowing false\r\n",
       "skinparam wrapWidth 300\r\n",
       "hide circle\r\n",
       "\r\n",
       "@enduml\r\n",
       "\n",
       "PlantUML version 1.2020.13(Sat Jun 13 12:26:38 UTC 2020)\n",
       "(EPL source distribution)\n",
       "Java Runtime: OpenJDK Runtime Environment\n",
       "JVM: OpenJDK 64-Bit Server VM\n",
       "Default Encoding: UTF-8\n",
       "Language: en\n",
       "Country: null\n",
       "--></g></svg>"
      ]
     },
     "execution_count": 53,
     "metadata": {},
     "output_type": "execute_result"
    }
   ],
   "source": [
    "%viz --style=\"ORTHOLINE\" --view=\"State\" \"QualifiedNameImportTest\""
   ]
  },
  {
   "cell_type": "code",
   "execution_count": 54,
   "id": "mature-attendance",
   "metadata": {
    "execution": {
     "iopub.execute_input": "2021-03-25T15:09:17.082054Z",
     "iopub.status.busy": "2021-03-25T15:09:17.081506Z",
     "iopub.status.idle": "2021-03-25T15:09:17.138286Z",
     "shell.execute_reply": "2021-03-25T15:09:17.137125Z"
    }
   },
   "outputs": [
    {
     "data": {
      "image/svg+xml": [
       "<?xml version=\"1.0\" encoding=\"UTF-8\" standalone=\"no\"?><svg xmlns=\"http://www.w3.org/2000/svg\" xmlns:xlink=\"http://www.w3.org/1999/xlink\" contentScriptType=\"application/ecmascript\" contentStyleType=\"text/css\" height=\"189px\" preserveAspectRatio=\"none\" style=\"width:381px;height:189px;\" version=\"1.1\" viewBox=\"0 0 381 189\" width=\"381px\" zoomAndPan=\"magnify\"><defs/><g><!--MD5=[fbc87193dbaf4d95561dea2c320d4a47]\n",
       "cluster E1--><a href=\"psysml:825b0528-a754-4768-92c2-54c3479055c4\" target=\"_top\" title=\"psysml:825b0528-a754-4768-92c2-54c3479055c4\" xlink:actuate=\"onRequest\" xlink:href=\"psysml:825b0528-a754-4768-92c2-54c3479055c4\" xlink:show=\"new\" xlink:title=\"psysml:825b0528-a754-4768-92c2-54c3479055c4\" xlink:type=\"simple\"><polygon fill=\"#FFFFFF\" points=\"16,6,221,6,228,28.2969,359,28.2969,359,177,16,177,16,6\" style=\"stroke: #000000; stroke-width: 1.5;\"/><line style=\"stroke: #000000; stroke-width: 1.5;\" x1=\"16\" x2=\"228\" y1=\"28.2969\" y2=\"28.2969\"/><text fill=\"#000000\" font-family=\"sans-serif\" font-size=\"14\" font-weight=\"bold\" lengthAdjust=\"spacingAndGlyphs\" textLength=\"199\" x=\"20\" y=\"20.9951\">QualifiedNameImportTest</text></a><!--MD5=[e4f7fae6ed58524ba242bb0b0d3be6b7]\n",
       "cluster E2--><a href=\"psysml:a3fdeae3-ca66-43fb-8ea3-ccc1fec12162\" target=\"_top\" title=\"psysml:a3fdeae3-ca66-43fb-8ea3-ccc1fec12162\" xlink:actuate=\"onRequest\" xlink:href=\"psysml:a3fdeae3-ca66-43fb-8ea3-ccc1fec12162\" xlink:show=\"new\" xlink:title=\"psysml:a3fdeae3-ca66-43fb-8ea3-ccc1fec12162\" xlink:type=\"simple\"><polygon fill=\"#FFFFFF\" points=\"231,54,257,54,264,76.2969,335,76.2969,335,148,231,148,231,54\" style=\"stroke: #000000; stroke-width: 1.5;\"/><line style=\"stroke: #000000; stroke-width: 1.5;\" x1=\"231\" x2=\"264\" y1=\"76.2969\" y2=\"76.2969\"/><text fill=\"#000000\" font-family=\"sans-serif\" font-size=\"14\" font-weight=\"bold\" lengthAdjust=\"spacingAndGlyphs\" textLength=\"20\" x=\"235\" y=\"68.9951\">P1</text></a><!--MD5=[f6df4d0ebaf0b5dfb2ced0ae5af7c670]\n",
       "cluster E4--><a href=\"psysml:f7e915ae-81d4-47d2-8346-f23cee504381\" target=\"_top\" title=\"psysml:f7e915ae-81d4-47d2-8346-f23cee504381\" xlink:actuate=\"onRequest\" xlink:href=\"psysml:f7e915ae-81d4-47d2-8346-f23cee504381\" xlink:show=\"new\" xlink:title=\"psysml:f7e915ae-81d4-47d2-8346-f23cee504381\" xlink:type=\"simple\"><polygon fill=\"#FFFFFF\" points=\"40,49,66,49,73,71.2969,207,71.2969,207,153,40,153,40,49\" style=\"stroke: #000000; stroke-width: 1.5;\"/><line style=\"stroke: #000000; stroke-width: 1.5;\" x1=\"40\" x2=\"73\" y1=\"71.2969\" y2=\"71.2969\"/><text fill=\"#000000\" font-family=\"sans-serif\" font-size=\"14\" font-weight=\"bold\" lengthAdjust=\"spacingAndGlyphs\" textLength=\"20\" x=\"44\" y=\"63.9951\">P2</text></a><g id=\"E1.E2.E3\"><a href=\"psysml:383f729c-d04b-4502-922b-14a45e711088\" target=\"_top\" title=\"psysml:383f729c-d04b-4502-922b-14a45e711088\" xlink:actuate=\"onRequest\" xlink:href=\"psysml:383f729c-d04b-4502-922b-14a45e711088\" xlink:show=\"new\" xlink:title=\"psysml:383f729c-d04b-4502-922b-14a45e711088\" xlink:type=\"simple\"><rect fill=\"#FFFFFF\" height=\"42.9375\" id=\"E3\" style=\"stroke: #383838; stroke-width: 1.5;\" width=\"71\" x=\"247.5\" y=\"89\"/><rect fill=\"#F8F8F8\" height=\"37.9375\" style=\"stroke: #383838; stroke-width: 1.5;\" width=\"71\" x=\"247.5\" y=\"89\"/><text fill=\"#000000\" font-family=\"sans-serif\" font-size=\"12\" font-style=\"italic\" lengthAdjust=\"spacingAndGlyphs\" textLength=\"64\" x=\"251\" y=\"105.1387\">«part def»</text><text fill=\"#000000\" font-family=\"sans-serif\" font-size=\"12\" lengthAdjust=\"spacingAndGlyphs\" textLength=\"8\" x=\"279\" y=\"119.1074\">A</text></a></g><a href=\"psysml:806dfed2-196c-4937-8c4a-4cb4ed2b492f\" target=\"_top\" title=\"psysml:806dfed2-196c-4937-8c4a-4cb4ed2b492f\" xlink:actuate=\"onRequest\" xlink:href=\"psysml:806dfed2-196c-4937-8c4a-4cb4ed2b492f\" xlink:show=\"new\" xlink:title=\"psysml:806dfed2-196c-4937-8c4a-4cb4ed2b492f\" xlink:type=\"simple\"><polygon fill=\"#FFFFFF\" points=\"141.5,84,176.5,84,183.5,106.2969,190.5,106.2969,190.5,136.5938,141.5,136.5938,141.5,84\" style=\"stroke: #000000; stroke-width: 1.5;\"/><line style=\"stroke: #000000; stroke-width: 1.5;\" x1=\"141.5\" x2=\"183.5\" y1=\"106.2969\" y2=\"106.2969\"/><text fill=\"#000000\" font-family=\"sans-serif\" font-size=\"14\" font-weight=\"bold\" lengthAdjust=\"spacingAndGlyphs\" textLength=\"29\" x=\"145.5\" y=\"98.9951\">P2a</text></a><g id=\"E1.E4.E6\"><a href=\"psysml:411a4236-fb50-40bf-b31c-7cf2c008c402\" target=\"_top\" title=\"psysml:411a4236-fb50-40bf-b31c-7cf2c008c402\" xlink:actuate=\"onRequest\" xlink:href=\"psysml:411a4236-fb50-40bf-b31c-7cf2c008c402\" xlink:show=\"new\" xlink:title=\"psysml:411a4236-fb50-40bf-b31c-7cf2c008c402\" xlink:type=\"simple\"><rect fill=\"#FFFFFF\" height=\"40\" id=\"E6\" rx=\"10\" ry=\"10\" style=\"stroke: #383838; stroke-width: 1.5;\" width=\"50\" x=\"56\" y=\"90.5\"/><rect fill=\"#F8F8F8\" height=\"23.9688\" rx=\"10\" ry=\"10\" style=\"stroke: #F8F8F8; stroke-width: 1.5;\" width=\"50\" x=\"56\" y=\"90.5\"/><rect fill=\"#F8F8F8\" height=\"10\" style=\"stroke: #F8F8F8; stroke-width: 1.5;\" width=\"50\" x=\"56\" y=\"104.4688\"/><rect fill=\"none\" height=\"40\" id=\"E6\" rx=\"10\" ry=\"10\" style=\"stroke: #383838; stroke-width: 1.5;\" width=\"50\" x=\"56\" y=\"90.5\"/><text fill=\"#000000\" font-family=\"sans-serif\" font-size=\"12\" lengthAdjust=\"spacingAndGlyphs\" textLength=\"22\" x=\"70\" y=\"106.6387\">x: A</text></a></g><!--MD5=[a5813165af9a784bdd1a9d917a363a84]\n",
       "@startuml\r\n",
       "skinparam ranksep 8\r\n",
       "skinparam rectangle {\r\n",
       " backgroundColor<<block>> LightGreen\r\n",
       "}\r\n",
       "skinparam linetype ortho\r\n",
       "skinparam monochrome true\r\n",
       "skinparam classbackgroundcolor white\r\n",
       "skinparam shadowing false\r\n",
       "skinparam wrapWidth 300\r\n",
       "hide circle\r\n",
       "\r\n",
       "package \"QualifiedNameImportTest\" as E1  [[psysml:825b0528-a754-4768-92c2-54c3479055c4 ]]  {\r\n",
       "package \"P1\" as E2  [[psysml:a3fdeae3-ca66-43fb-8ea3-ccc1fec12162 ]]  {\r\n",
       "rec def \"A\" as E3  <<(T,blue)part def>> [[psysml:383f729c-d04b-4502-922b-14a45e711088 ]] {\r\n",
       "}\r\n",
       "}\r\n",
       "package \"P2\" as E4  [[psysml:f7e915ae-81d4-47d2-8346-f23cee504381 ]]  {\r\n",
       "package \"P2a\" as E5  [[psysml:806dfed2-196c-4937-8c4a-4cb4ed2b492f ]]  {\r\n",
       "}\r\n",
       "rec usage \"x: A\" as E6  [[psysml:411a4236-fb50-40bf-b31c-7cf2c008c402 ]] {\r\n",
       "}\r\n",
       "}\r\n",
       "}\r\n",
       "@enduml\r\n",
       "\n",
       "PlantUML version 1.2020.13(Sat Jun 13 12:26:38 UTC 2020)\n",
       "(EPL source distribution)\n",
       "Java Runtime: OpenJDK Runtime Environment\n",
       "JVM: OpenJDK 64-Bit Server VM\n",
       "Default Encoding: UTF-8\n",
       "Language: en\n",
       "Country: null\n",
       "--></g></svg>"
      ]
     },
     "execution_count": 54,
     "metadata": {},
     "output_type": "execute_result"
    }
   ],
   "source": [
    "%viz --style=\"ORTHOLINE\" --view=\"Interconnection\" \"QualifiedNameImportTest\""
   ]
  },
  {
   "cell_type": "code",
   "execution_count": 55,
   "id": "juvenile-pension",
   "metadata": {
    "execution": {
     "iopub.execute_input": "2021-03-25T15:09:17.188961Z",
     "iopub.status.busy": "2021-03-25T15:09:17.188465Z",
     "iopub.status.idle": "2021-03-25T15:09:17.196188Z",
     "shell.execute_reply": "2021-03-25T15:09:17.195834Z"
    }
   },
   "outputs": [
    {
     "data": {
      "image/svg+xml": [
       "<?xml version=\"1.0\" encoding=\"UTF-8\" standalone=\"no\"?><svg xmlns=\"http://www.w3.org/2000/svg\" xmlns:xlink=\"http://www.w3.org/1999/xlink\" contentScriptType=\"application/ecmascript\" contentStyleType=\"text/css\" height=\"12px\" preserveAspectRatio=\"none\" style=\"width:12px;height:12px;\" version=\"1.1\" viewBox=\"0 0 12 12\" width=\"12px\" zoomAndPan=\"magnify\"><defs/><g><!--MD5=[72934c63077099a26744516a776b4749]\n",
       "@startuml\r\n",
       "skinparam ranksep 8\r\n",
       "skinparam linetype ortho\r\n",
       "skinparam monochrome true\r\n",
       "skinparam classbackgroundcolor white\r\n",
       "skinparam shadowing false\r\n",
       "skinparam wrapWidth 300\r\n",
       "hide circle\r\n",
       "\r\n",
       "@enduml\r\n",
       "\n",
       "PlantUML version 1.2020.13(Sat Jun 13 12:26:38 UTC 2020)\n",
       "(EPL source distribution)\n",
       "Java Runtime: OpenJDK Runtime Environment\n",
       "JVM: OpenJDK 64-Bit Server VM\n",
       "Default Encoding: UTF-8\n",
       "Language: en\n",
       "Country: null\n",
       "--></g></svg>"
      ]
     },
     "execution_count": 55,
     "metadata": {},
     "output_type": "execute_result"
    }
   ],
   "source": [
    "%viz --style=\"ORTHOLINE\" --view=\"Action\" \"QualifiedNameImportTest\""
   ]
  },
  {
   "cell_type": "code",
   "execution_count": 56,
   "id": "cardiovascular-speed",
   "metadata": {
    "execution": {
     "iopub.execute_input": "2021-03-25T15:09:17.247756Z",
     "iopub.status.busy": "2021-03-25T15:09:17.247056Z",
     "iopub.status.idle": "2021-03-25T15:09:17.303405Z",
     "shell.execute_reply": "2021-03-25T15:09:17.302037Z"
    }
   },
   "outputs": [
    {
     "data": {
      "image/svg+xml": [
       "<?xml version=\"1.0\" encoding=\"UTF-8\" standalone=\"no\"?><svg xmlns=\"http://www.w3.org/2000/svg\" xmlns:xlink=\"http://www.w3.org/1999/xlink\" contentScriptType=\"application/ecmascript\" contentStyleType=\"text/css\" height=\"310px\" preserveAspectRatio=\"none\" style=\"width:253px;height:310px;\" version=\"1.1\" viewBox=\"0 0 253 310\" width=\"253px\" zoomAndPan=\"magnify\"><defs/><g><!--MD5=[fbc87193dbaf4d95561dea2c320d4a47]\n",
       "cluster E1--><a href=\"psysml:825b0528-a754-4768-92c2-54c3479055c4\" target=\"_top\" title=\"psysml:825b0528-a754-4768-92c2-54c3479055c4\" xlink:actuate=\"onRequest\" xlink:href=\"psysml:825b0528-a754-4768-92c2-54c3479055c4\" xlink:show=\"new\" xlink:title=\"psysml:825b0528-a754-4768-92c2-54c3479055c4\" xlink:type=\"simple\"><polygon fill=\"#FFFFFF\" points=\"16,6,221,6,228,28.2969,231,28.2969,231,298,16,298,16,6\" style=\"stroke: #000000; stroke-width: 1.5;\"/><line style=\"stroke: #000000; stroke-width: 1.5;\" x1=\"16\" x2=\"228\" y1=\"28.2969\" y2=\"28.2969\"/><text fill=\"#000000\" font-family=\"sans-serif\" font-size=\"14\" font-weight=\"bold\" lengthAdjust=\"spacingAndGlyphs\" textLength=\"199\" x=\"20\" y=\"20.9951\">QualifiedNameImportTest</text></a><!--MD5=[e4f7fae6ed58524ba242bb0b0d3be6b7]\n",
       "cluster E2--><a href=\"psysml:a3fdeae3-ca66-43fb-8ea3-ccc1fec12162\" target=\"_top\" title=\"psysml:a3fdeae3-ca66-43fb-8ea3-ccc1fec12162\" xlink:actuate=\"onRequest\" xlink:href=\"psysml:a3fdeae3-ca66-43fb-8ea3-ccc1fec12162\" xlink:show=\"new\" xlink:title=\"psysml:a3fdeae3-ca66-43fb-8ea3-ccc1fec12162\" xlink:type=\"simple\"><polygon fill=\"#FFFFFF\" points=\"105,177,131,177,138,199.2969,203,199.2969,203,274,105,274,105,177\" style=\"stroke: #000000; stroke-width: 1.5;\"/><line style=\"stroke: #000000; stroke-width: 1.5;\" x1=\"105\" x2=\"138\" y1=\"199.2969\" y2=\"199.2969\"/><text fill=\"#000000\" font-family=\"sans-serif\" font-size=\"14\" font-weight=\"bold\" lengthAdjust=\"spacingAndGlyphs\" textLength=\"20\" x=\"109\" y=\"191.9951\">P1</text></a><!--MD5=[f6df4d0ebaf0b5dfb2ced0ae5af7c670]\n",
       "cluster E4--><a href=\"psysml:f7e915ae-81d4-47d2-8346-f23cee504381\" target=\"_top\" title=\"psysml:f7e915ae-81d4-47d2-8346-f23cee504381\" xlink:actuate=\"onRequest\" xlink:href=\"psysml:f7e915ae-81d4-47d2-8346-f23cee504381\" xlink:show=\"new\" xlink:title=\"psysml:f7e915ae-81d4-47d2-8346-f23cee504381\" xlink:type=\"simple\"><polygon fill=\"#FFFFFF\" points=\"44,49,70,49,77,71.2969,203,71.2969,203,153,44,153,44,49\" style=\"stroke: #000000; stroke-width: 1.5;\"/><line style=\"stroke: #000000; stroke-width: 1.5;\" x1=\"44\" x2=\"77\" y1=\"71.2969\" y2=\"71.2969\"/><text fill=\"#000000\" font-family=\"sans-serif\" font-size=\"14\" font-weight=\"bold\" lengthAdjust=\"spacingAndGlyphs\" textLength=\"20\" x=\"48\" y=\"63.9951\">P2</text></a><!--MD5=[09b614a08d8cba4a07c9adeb5e0fee81]\n",
       "class E3--><a href=\"psysml:383f729c-d04b-4502-922b-14a45e711088\" target=\"_top\" title=\"psysml:383f729c-d04b-4502-922b-14a45e711088\" xlink:actuate=\"onRequest\" xlink:href=\"psysml:383f729c-d04b-4502-922b-14a45e711088\" xlink:show=\"new\" xlink:title=\"psysml:383f729c-d04b-4502-922b-14a45e711088\" xlink:type=\"simple\"><rect fill=\"#FFFFFF\" height=\"45.9375\" id=\"E3\" style=\"stroke: #383838; stroke-width: 1.5;\" width=\"66\" x=\"121\" y=\"212\"/><text fill=\"#000000\" font-family=\"sans-serif\" font-size=\"12\" font-style=\"italic\" lengthAdjust=\"spacingAndGlyphs\" textLength=\"64\" x=\"122\" y=\"228.1387\">«part def»</text><text fill=\"#000000\" font-family=\"sans-serif\" font-size=\"12\" lengthAdjust=\"spacingAndGlyphs\" textLength=\"8\" x=\"150\" y=\"242.1074\">A</text><line style=\"stroke: #383838; stroke-width: 1.5;\" x1=\"122\" x2=\"186\" y1=\"249.9375\" y2=\"249.9375\"/></a><!--MD5=[60a26617385b1d2d0262a64233df1f8d]\n",
       "class E6--><a href=\"psysml:411a4236-fb50-40bf-b31c-7cf2c008c402\" target=\"_top\" title=\"psysml:411a4236-fb50-40bf-b31c-7cf2c008c402\" xlink:actuate=\"onRequest\" xlink:href=\"psysml:411a4236-fb50-40bf-b31c-7cf2c008c402\" xlink:show=\"new\" xlink:title=\"psysml:411a4236-fb50-40bf-b31c-7cf2c008c402\" xlink:type=\"simple\"><rect fill=\"#FFFFFF\" height=\"45.9375\" id=\"E6\" rx=\"10\" ry=\"10\" style=\"stroke: #383838; stroke-width: 1.5;\" width=\"42\" x=\"145\" y=\"87.5\"/><text fill=\"#000000\" font-family=\"sans-serif\" font-size=\"12\" font-style=\"italic\" lengthAdjust=\"spacingAndGlyphs\" textLength=\"40\" x=\"146\" y=\"103.6387\">«part»</text><text fill=\"#000000\" font-family=\"sans-serif\" font-size=\"12\" lengthAdjust=\"spacingAndGlyphs\" textLength=\"22\" x=\"155\" y=\"117.6074\">x: A</text><line style=\"stroke: #383838; stroke-width: 1.5;\" x1=\"146\" x2=\"186\" y1=\"125.4375\" y2=\"125.4375\"/></a><a href=\"psysml:806dfed2-196c-4937-8c4a-4cb4ed2b492f\" target=\"_top\" title=\"psysml:806dfed2-196c-4937-8c4a-4cb4ed2b492f\" xlink:actuate=\"onRequest\" xlink:href=\"psysml:806dfed2-196c-4937-8c4a-4cb4ed2b492f\" xlink:show=\"new\" xlink:title=\"psysml:806dfed2-196c-4937-8c4a-4cb4ed2b492f\" xlink:type=\"simple\"><polygon fill=\"#FFFFFF\" points=\"60.5,84,95.5,84,102.5,106.2969,109.5,106.2969,109.5,136.5938,60.5,136.5938,60.5,84\" style=\"stroke: #000000; stroke-width: 1.5;\"/><line style=\"stroke: #000000; stroke-width: 1.5;\" x1=\"60.5\" x2=\"102.5\" y1=\"106.2969\" y2=\"106.2969\"/><text fill=\"#000000\" font-family=\"sans-serif\" font-size=\"14\" font-weight=\"bold\" lengthAdjust=\"spacingAndGlyphs\" textLength=\"29\" x=\"64.5\" y=\"98.9951\">P2a</text></a><!--MD5=[a717450b82c80b9240a525fa862496af]\n",
       "link E6 to E3--><a href=\"psysml:65a94b24-3d9f-4a56-873a-c3d993dcfd1a\" target=\"_top\" title=\"psysml:65a94b24-3d9f-4a56-873a-c3d993dcfd1a\" xlink:actuate=\"onRequest\" xlink:href=\"psysml:65a94b24-3d9f-4a56-873a-c3d993dcfd1a\" xlink:show=\"new\" xlink:title=\"psysml:65a94b24-3d9f-4a56-873a-c3d993dcfd1a\" xlink:type=\"simple\"><path d=\"M166,133.63 C166,133.63 166,192 166,192 \" fill=\"none\" id=\"E6-&gt;E3\" style=\"stroke: #383838; stroke-width: 1.0;\"/><polygon fill=\"#FFFFFF\" points=\"166,212,159,193,173,193,166,212\" style=\"stroke: #383838; stroke-width: 1.0;\"/><ellipse cx=\"161\" cy=\"187.3\" fill=\"#383838\" rx=\"2\" ry=\"2\" style=\"stroke: #383838; stroke-width: 1.0;\"/><ellipse cx=\"171\" cy=\"187.3\" fill=\"#383838\" rx=\"2\" ry=\"2\" style=\"stroke: #383838; stroke-width: 1.0;\"/></a><!--MD5=[c3f6d5cebd4c06e1a37839e728b72026]\n",
       "@startuml\r\n",
       "skinparam linetype ortho\r\n",
       "skinparam monochrome true\r\n",
       "skinparam classbackgroundcolor white\r\n",
       "skinparam shadowing false\r\n",
       "skinparam wrapWidth 300\r\n",
       "hide circle\r\n",
       "\r\n",
       "package \"QualifiedNameImportTest\" as E1  [[psysml:825b0528-a754-4768-92c2-54c3479055c4 ]]  {\r\n",
       "package \"P1\" as E2  [[psysml:a3fdeae3-ca66-43fb-8ea3-ccc1fec12162 ]]  {\r\n",
       "comp def \"A\" as E3  <<(T,blue)part def>> [[psysml:383f729c-d04b-4502-922b-14a45e711088 ]] {\r\n",
       "}\r\n",
       "}\r\n",
       "package \"P2\" as E4  [[psysml:f7e915ae-81d4-47d2-8346-f23cee504381 ]]  {\r\n",
       "package \"P2a\" as E5  [[psysml:806dfed2-196c-4937-8c4a-4cb4ed2b492f ]]  {\r\n",
       "}\r\n",
       "comp usage \"x: A\" as E6  <<(T,blue)part>> [[psysml:411a4236-fb50-40bf-b31c-7cf2c008c402 ]] {\r\n",
       "}\r\n",
       "E6 - -:|> E3 [[psysml:65a94b24-3d9f-4a56-873a-c3d993dcfd1a ]] \r\n",
       "}\r\n",
       "}\r\n",
       "@enduml\r\n",
       "\n",
       "PlantUML version 1.2020.13(Sat Jun 13 12:26:38 UTC 2020)\n",
       "(EPL source distribution)\n",
       "Java Runtime: OpenJDK Runtime Environment\n",
       "JVM: OpenJDK 64-Bit Server VM\n",
       "Default Encoding: UTF-8\n",
       "Language: en\n",
       "Country: null\n",
       "--></g></svg>"
      ]
     },
     "execution_count": 56,
     "metadata": {},
     "output_type": "execute_result"
    }
   ],
   "source": [
    "%viz --style=\"ORTHOLINE\" --view=\"Sequence\" \"QualifiedNameImportTest\""
   ]
  },
  {
   "cell_type": "code",
   "execution_count": 57,
   "id": "graphic-wrist",
   "metadata": {
    "execution": {
     "iopub.execute_input": "2021-03-25T15:09:17.355970Z",
     "iopub.status.busy": "2021-03-25T15:09:17.355142Z",
     "iopub.status.idle": "2021-03-25T15:09:17.411833Z",
     "shell.execute_reply": "2021-03-25T15:09:17.410579Z"
    }
   },
   "outputs": [
    {
     "data": {
      "image/svg+xml": [
       "<?xml version=\"1.0\" encoding=\"UTF-8\" standalone=\"no\"?><svg xmlns=\"http://www.w3.org/2000/svg\" xmlns:xlink=\"http://www.w3.org/1999/xlink\" contentScriptType=\"application/ecmascript\" contentStyleType=\"text/css\" height=\"310px\" preserveAspectRatio=\"none\" style=\"width:253px;height:310px;\" version=\"1.1\" viewBox=\"0 0 253 310\" width=\"253px\" zoomAndPan=\"magnify\"><defs/><g><!--MD5=[fbc87193dbaf4d95561dea2c320d4a47]\n",
       "cluster E1--><a href=\"psysml:825b0528-a754-4768-92c2-54c3479055c4\" target=\"_top\" title=\"psysml:825b0528-a754-4768-92c2-54c3479055c4\" xlink:actuate=\"onRequest\" xlink:href=\"psysml:825b0528-a754-4768-92c2-54c3479055c4\" xlink:show=\"new\" xlink:title=\"psysml:825b0528-a754-4768-92c2-54c3479055c4\" xlink:type=\"simple\"><polygon fill=\"#FFFFFF\" points=\"16,6,221,6,228,28.2969,231,28.2969,231,298,16,298,16,6\" style=\"stroke: #000000; stroke-width: 1.5;\"/><line style=\"stroke: #000000; stroke-width: 1.5;\" x1=\"16\" x2=\"228\" y1=\"28.2969\" y2=\"28.2969\"/><text fill=\"#000000\" font-family=\"sans-serif\" font-size=\"14\" font-weight=\"bold\" lengthAdjust=\"spacingAndGlyphs\" textLength=\"199\" x=\"20\" y=\"20.9951\">QualifiedNameImportTest</text></a><!--MD5=[e4f7fae6ed58524ba242bb0b0d3be6b7]\n",
       "cluster E2--><a href=\"psysml:a3fdeae3-ca66-43fb-8ea3-ccc1fec12162\" target=\"_top\" title=\"psysml:a3fdeae3-ca66-43fb-8ea3-ccc1fec12162\" xlink:actuate=\"onRequest\" xlink:href=\"psysml:a3fdeae3-ca66-43fb-8ea3-ccc1fec12162\" xlink:show=\"new\" xlink:title=\"psysml:a3fdeae3-ca66-43fb-8ea3-ccc1fec12162\" xlink:type=\"simple\"><polygon fill=\"#FFFFFF\" points=\"105,177,131,177,138,199.2969,203,199.2969,203,274,105,274,105,177\" style=\"stroke: #000000; stroke-width: 1.5;\"/><line style=\"stroke: #000000; stroke-width: 1.5;\" x1=\"105\" x2=\"138\" y1=\"199.2969\" y2=\"199.2969\"/><text fill=\"#000000\" font-family=\"sans-serif\" font-size=\"14\" font-weight=\"bold\" lengthAdjust=\"spacingAndGlyphs\" textLength=\"20\" x=\"109\" y=\"191.9951\">P1</text></a><!--MD5=[f6df4d0ebaf0b5dfb2ced0ae5af7c670]\n",
       "cluster E4--><a href=\"psysml:f7e915ae-81d4-47d2-8346-f23cee504381\" target=\"_top\" title=\"psysml:f7e915ae-81d4-47d2-8346-f23cee504381\" xlink:actuate=\"onRequest\" xlink:href=\"psysml:f7e915ae-81d4-47d2-8346-f23cee504381\" xlink:show=\"new\" xlink:title=\"psysml:f7e915ae-81d4-47d2-8346-f23cee504381\" xlink:type=\"simple\"><polygon fill=\"#FFFFFF\" points=\"44,49,70,49,77,71.2969,203,71.2969,203,153,44,153,44,49\" style=\"stroke: #000000; stroke-width: 1.5;\"/><line style=\"stroke: #000000; stroke-width: 1.5;\" x1=\"44\" x2=\"77\" y1=\"71.2969\" y2=\"71.2969\"/><text fill=\"#000000\" font-family=\"sans-serif\" font-size=\"14\" font-weight=\"bold\" lengthAdjust=\"spacingAndGlyphs\" textLength=\"20\" x=\"48\" y=\"63.9951\">P2</text></a><!--MD5=[09b614a08d8cba4a07c9adeb5e0fee81]\n",
       "class E3--><a href=\"psysml:383f729c-d04b-4502-922b-14a45e711088\" target=\"_top\" title=\"psysml:383f729c-d04b-4502-922b-14a45e711088\" xlink:actuate=\"onRequest\" xlink:href=\"psysml:383f729c-d04b-4502-922b-14a45e711088\" xlink:show=\"new\" xlink:title=\"psysml:383f729c-d04b-4502-922b-14a45e711088\" xlink:type=\"simple\"><rect fill=\"#FFFFFF\" height=\"45.9375\" id=\"E3\" style=\"stroke: #383838; stroke-width: 1.5;\" width=\"66\" x=\"121\" y=\"212\"/><text fill=\"#000000\" font-family=\"sans-serif\" font-size=\"12\" font-style=\"italic\" lengthAdjust=\"spacingAndGlyphs\" textLength=\"64\" x=\"122\" y=\"228.1387\">«part def»</text><text fill=\"#000000\" font-family=\"sans-serif\" font-size=\"12\" lengthAdjust=\"spacingAndGlyphs\" textLength=\"8\" x=\"150\" y=\"242.1074\">A</text><line style=\"stroke: #383838; stroke-width: 1.5;\" x1=\"122\" x2=\"186\" y1=\"249.9375\" y2=\"249.9375\"/></a><!--MD5=[60a26617385b1d2d0262a64233df1f8d]\n",
       "class E6--><a href=\"psysml:411a4236-fb50-40bf-b31c-7cf2c008c402\" target=\"_top\" title=\"psysml:411a4236-fb50-40bf-b31c-7cf2c008c402\" xlink:actuate=\"onRequest\" xlink:href=\"psysml:411a4236-fb50-40bf-b31c-7cf2c008c402\" xlink:show=\"new\" xlink:title=\"psysml:411a4236-fb50-40bf-b31c-7cf2c008c402\" xlink:type=\"simple\"><rect fill=\"#FFFFFF\" height=\"45.9375\" id=\"E6\" rx=\"10\" ry=\"10\" style=\"stroke: #383838; stroke-width: 1.5;\" width=\"42\" x=\"145\" y=\"87.5\"/><text fill=\"#000000\" font-family=\"sans-serif\" font-size=\"12\" font-style=\"italic\" lengthAdjust=\"spacingAndGlyphs\" textLength=\"40\" x=\"146\" y=\"103.6387\">«part»</text><text fill=\"#000000\" font-family=\"sans-serif\" font-size=\"12\" lengthAdjust=\"spacingAndGlyphs\" textLength=\"22\" x=\"155\" y=\"117.6074\">x: A</text><line style=\"stroke: #383838; stroke-width: 1.5;\" x1=\"146\" x2=\"186\" y1=\"125.4375\" y2=\"125.4375\"/></a><a href=\"psysml:806dfed2-196c-4937-8c4a-4cb4ed2b492f\" target=\"_top\" title=\"psysml:806dfed2-196c-4937-8c4a-4cb4ed2b492f\" xlink:actuate=\"onRequest\" xlink:href=\"psysml:806dfed2-196c-4937-8c4a-4cb4ed2b492f\" xlink:show=\"new\" xlink:title=\"psysml:806dfed2-196c-4937-8c4a-4cb4ed2b492f\" xlink:type=\"simple\"><polygon fill=\"#FFFFFF\" points=\"60.5,84,95.5,84,102.5,106.2969,109.5,106.2969,109.5,136.5938,60.5,136.5938,60.5,84\" style=\"stroke: #000000; stroke-width: 1.5;\"/><line style=\"stroke: #000000; stroke-width: 1.5;\" x1=\"60.5\" x2=\"102.5\" y1=\"106.2969\" y2=\"106.2969\"/><text fill=\"#000000\" font-family=\"sans-serif\" font-size=\"14\" font-weight=\"bold\" lengthAdjust=\"spacingAndGlyphs\" textLength=\"29\" x=\"64.5\" y=\"98.9951\">P2a</text></a><!--MD5=[a717450b82c80b9240a525fa862496af]\n",
       "link E6 to E3--><a href=\"psysml:65a94b24-3d9f-4a56-873a-c3d993dcfd1a\" target=\"_top\" title=\"psysml:65a94b24-3d9f-4a56-873a-c3d993dcfd1a\" xlink:actuate=\"onRequest\" xlink:href=\"psysml:65a94b24-3d9f-4a56-873a-c3d993dcfd1a\" xlink:show=\"new\" xlink:title=\"psysml:65a94b24-3d9f-4a56-873a-c3d993dcfd1a\" xlink:type=\"simple\"><path d=\"M166,133.63 C166,133.63 166,192 166,192 \" fill=\"none\" id=\"E6-&gt;E3\" style=\"stroke: #383838; stroke-width: 1.0;\"/><polygon fill=\"#FFFFFF\" points=\"166,212,159,193,173,193,166,212\" style=\"stroke: #383838; stroke-width: 1.0;\"/><ellipse cx=\"161\" cy=\"187.3\" fill=\"#383838\" rx=\"2\" ry=\"2\" style=\"stroke: #383838; stroke-width: 1.0;\"/><ellipse cx=\"171\" cy=\"187.3\" fill=\"#383838\" rx=\"2\" ry=\"2\" style=\"stroke: #383838; stroke-width: 1.0;\"/></a><!--MD5=[c3f6d5cebd4c06e1a37839e728b72026]\n",
       "@startuml\r\n",
       "skinparam linetype ortho\r\n",
       "skinparam monochrome true\r\n",
       "skinparam classbackgroundcolor white\r\n",
       "skinparam shadowing false\r\n",
       "skinparam wrapWidth 300\r\n",
       "hide circle\r\n",
       "\r\n",
       "package \"QualifiedNameImportTest\" as E1  [[psysml:825b0528-a754-4768-92c2-54c3479055c4 ]]  {\r\n",
       "package \"P1\" as E2  [[psysml:a3fdeae3-ca66-43fb-8ea3-ccc1fec12162 ]]  {\r\n",
       "comp def \"A\" as E3  <<(T,blue)part def>> [[psysml:383f729c-d04b-4502-922b-14a45e711088 ]] {\r\n",
       "}\r\n",
       "}\r\n",
       "package \"P2\" as E4  [[psysml:f7e915ae-81d4-47d2-8346-f23cee504381 ]]  {\r\n",
       "package \"P2a\" as E5  [[psysml:806dfed2-196c-4937-8c4a-4cb4ed2b492f ]]  {\r\n",
       "}\r\n",
       "comp usage \"x: A\" as E6  <<(T,blue)part>> [[psysml:411a4236-fb50-40bf-b31c-7cf2c008c402 ]] {\r\n",
       "}\r\n",
       "E6 - -:|> E3 [[psysml:65a94b24-3d9f-4a56-873a-c3d993dcfd1a ]] \r\n",
       "}\r\n",
       "}\r\n",
       "@enduml\r\n",
       "\n",
       "PlantUML version 1.2020.13(Sat Jun 13 12:26:38 UTC 2020)\n",
       "(EPL source distribution)\n",
       "Java Runtime: OpenJDK Runtime Environment\n",
       "JVM: OpenJDK 64-Bit Server VM\n",
       "Default Encoding: UTF-8\n",
       "Language: en\n",
       "Country: null\n",
       "--></g></svg>"
      ]
     },
     "execution_count": 57,
     "metadata": {},
     "output_type": "execute_result"
    }
   ],
   "source": [
    "%viz --style=\"ORTHOLINE\" --view=\"MIXED\" \"QualifiedNameImportTest\""
   ]
  }
 ],
 "metadata": {
  "kernelspec": {
   "display_name": "SysML",
   "language": "sysml",
   "name": "sysml"
  },
  "language_info": {
   "codemirror_mode": "sysml",
   "file_extension": ".sysml",
   "mimetype": "text/x-sysml",
   "name": "SysML",
   "pygments_lexer": "java",
   "version": "1.0.0"
  }
 },
 "nbformat": 4,
 "nbformat_minor": 5
}
