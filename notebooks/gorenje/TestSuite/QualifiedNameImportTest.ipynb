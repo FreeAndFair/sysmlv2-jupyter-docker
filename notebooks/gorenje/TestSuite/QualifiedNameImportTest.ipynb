{
 "cells": [
  {
   "cell_type": "markdown",
   "id": "97054bba",
   "metadata": {},
   "source": [
    "# SysML v2 Test Suite\n",
    "\n",
    "This can notebook can be cleared using menu `Edit --> Clear All Outputs` and then all cells can be\n",
    "run using menu `Run --> Run All Cells`.\n",
    "\n",
    "**WARNING**: This file is generated, all modifications here will be ignored.\n"
   ]
  },
  {
   "cell_type": "markdown",
   "id": "8e91b3b7",
   "metadata": {},
   "source": [
    "## File: ../../sysml/src/examples/Import Tests/QualifiedNameImportTest.sysml"
   ]
  },
  {
   "cell_type": "code",
   "execution_count": 1,
   "id": "dbe03c7d",
   "metadata": {
    "execution": {
     "iopub.execute_input": "2024-12-16T03:25:40.370990Z",
     "iopub.status.busy": "2024-12-16T03:25:40.369529Z",
     "iopub.status.idle": "2024-12-16T03:25:40.547508Z",
     "shell.execute_reply": "2024-12-16T03:25:40.547264Z"
    }
   },
   "outputs": [
    {
     "data": {
      "text/plain": [
       "Package QualifiedNameImportTest (c4b7552d-b9f7-430e-8774-a992809b5587)\n"
      ]
     },
     "execution_count": 1,
     "metadata": {},
     "output_type": "execute_result"
    }
   ],
   "source": [
    "package QualifiedNameImportTest {\n",
    "\tpackage P1 {\n",
    "\t\tpart def A;\n",
    "\t}\n",
    "\tpackage P2 {\n",
    "\t\tpackage P2a {\n",
    "\t\t\tpublic import P1::*;\n",
    "\t\t}\n",
    "\t\t// The following should not fail.\n",
    "\t\t// A is a member of P2a because of the import.\n",
    "\t\tpart x: P2a::A;\n",
    "\t}\n",
    "}"
   ]
  },
  {
   "cell_type": "code",
   "execution_count": 2,
   "id": "2d897602",
   "metadata": {
    "execution": {
     "iopub.execute_input": "2024-12-16T03:25:40.605424Z",
     "iopub.status.busy": "2024-12-16T03:25:40.604620Z",
     "iopub.status.idle": "2024-12-16T03:25:40.979309Z",
     "shell.execute_reply": "2024-12-16T03:25:40.977324Z"
    }
   },
   "outputs": [
    {
     "data": {
      "image/svg+xml": [
       "<?xml version=\"1.0\" encoding=\"UTF-8\" standalone=\"no\"?><svg xmlns=\"http://www.w3.org/2000/svg\" xmlns:xlink=\"http://www.w3.org/1999/xlink\" contentStyleType=\"text/css\" height=\"364px\" preserveAspectRatio=\"none\" style=\"width:239px;height:364px;background:#FFFFFF;\" version=\"1.1\" viewBox=\"0 0 239 364\" width=\"239px\" zoomAndPan=\"magnify\"><defs/><g><!--MD5=[fbc87193dbaf4d95561dea2c320d4a47]\n",
       "cluster E1--><g id=\"cluster_E1\"><a href=\"psysml:c4b7552d-b9f7-430e-8774-a992809b5587\" target=\"_top\" title=\"psysml:c4b7552d-b9f7-430e-8774-a992809b5587\" xlink:actuate=\"onRequest\" xlink:href=\"psysml:c4b7552d-b9f7-430e-8774-a992809b5587\" xlink:show=\"new\" xlink:title=\"psysml:c4b7552d-b9f7-430e-8774-a992809b5587\" xlink:type=\"simple\"><polygon fill=\"none\" points=\"16,6,206.0625,6,213.0625,28.2969,219,28.2969,219,357,16,357,16,6\" style=\"stroke:#000000;stroke-width:1.5;\"/><line style=\"stroke:#000000;stroke-width:1.5;\" x1=\"16\" x2=\"213.0625\" y1=\"28.2969\" y2=\"28.2969\"/><text fill=\"#000000\" font-family=\"sans-serif\" font-size=\"14\" font-weight=\"bold\" lengthAdjust=\"spacing\" textLength=\"184.0625\" x=\"20\" y=\"20.9951\">QualifiedNameImportTest</text></a></g><!--MD5=[e4f7fae6ed58524ba242bb0b0d3be6b7]\n",
       "cluster E2--><g id=\"cluster_E2\"><a href=\"psysml:50965905-a474-4117-8075-2a307b415370\" target=\"_top\" title=\"psysml:50965905-a474-4117-8075-2a307b415370\" xlink:actuate=\"onRequest\" xlink:href=\"psysml:50965905-a474-4117-8075-2a307b415370\" xlink:show=\"new\" xlink:title=\"psysml:50965905-a474-4117-8075-2a307b415370\" xlink:type=\"simple\"><polygon fill=\"none\" points=\"48,210,72.875,210,79.875,232.2969,185,232.2969,185,325,48,325,48,210\" style=\"stroke:#000000;stroke-width:1.5;\"/><line style=\"stroke:#000000;stroke-width:1.5;\" x1=\"48\" x2=\"79.875\" y1=\"232.2969\" y2=\"232.2969\"/><text fill=\"#000000\" font-family=\"sans-serif\" font-size=\"14\" font-weight=\"bold\" lengthAdjust=\"spacing\" textLength=\"18.875\" x=\"52\" y=\"224.9951\">P1</text></a></g><!--MD5=[f6df4d0ebaf0b5dfb2ced0ae5af7c670]\n",
       "cluster E4--><g id=\"cluster_E4\"><a href=\"psysml:baf5ed1e-c4c1-4a5d-ad5e-204bd26a43d4\" target=\"_top\" title=\"psysml:baf5ed1e-c4c1-4a5d-ad5e-204bd26a43d4\" xlink:actuate=\"onRequest\" xlink:href=\"psysml:baf5ed1e-c4c1-4a5d-ad5e-204bd26a43d4\" xlink:show=\"new\" xlink:title=\"psysml:baf5ed1e-c4c1-4a5d-ad5e-204bd26a43d4\" xlink:type=\"simple\"><polygon fill=\"none\" points=\"40,49,64.875,49,71.875,71.2969,195,71.2969,195,153,40,153,40,49\" style=\"stroke:#000000;stroke-width:1.5;\"/><line style=\"stroke:#000000;stroke-width:1.5;\" x1=\"40\" x2=\"71.875\" y1=\"71.2969\" y2=\"71.2969\"/><text fill=\"#000000\" font-family=\"sans-serif\" font-size=\"14\" font-weight=\"bold\" lengthAdjust=\"spacing\" textLength=\"18.875\" x=\"44\" y=\"63.9951\">P2</text></a></g><!--MD5=[09b614a08d8cba4a07c9adeb5e0fee81]\n",
       "class E3--><a href=\"psysml:7bcd0150-a304-4bd6-beeb-4a591e07f43e\" target=\"_top\" title=\"psysml:7bcd0150-a304-4bd6-beeb-4a591e07f43e\" xlink:actuate=\"onRequest\" xlink:href=\"psysml:7bcd0150-a304-4bd6-beeb-4a591e07f43e\" xlink:show=\"new\" xlink:title=\"psysml:7bcd0150-a304-4bd6-beeb-4a591e07f43e\" xlink:type=\"simple\"><g id=\"elem_E3\"><rect fill=\"#FFFFFF\" height=\"48.2656\" id=\"E3\" style=\"stroke:#181818;stroke-width:0.5;\" width=\"70\" x=\"72\" y=\"253\"/><text fill=\"#000000\" font-family=\"sans-serif\" font-size=\"12\" font-style=\"italic\" lengthAdjust=\"spacing\" textLength=\"68\" x=\"73\" y=\"269.1387\">«part  def»</text><text fill=\"#000000\" font-family=\"sans-serif\" font-size=\"14\" lengthAdjust=\"spacing\" textLength=\"9\" x=\"102.5\" y=\"284.9639\">A</text><line style=\"stroke:#181818;stroke-width:0.5;\" x1=\"73\" x2=\"141\" y1=\"293.2656\" y2=\"293.2656\"/></g></a><!--MD5=[60a26617385b1d2d0262a64233df1f8d]\n",
       "class E6--><a href=\"psysml:1e68c641-a483-45d8-8926-6ab40309dfc3\" target=\"_top\" title=\"psysml:1e68c641-a483-45d8-8926-6ab40309dfc3\" xlink:actuate=\"onRequest\" xlink:href=\"psysml:1e68c641-a483-45d8-8926-6ab40309dfc3\" xlink:show=\"new\" xlink:title=\"psysml:1e68c641-a483-45d8-8926-6ab40309dfc3\" xlink:type=\"simple\"><g id=\"elem_E6\"><rect fill=\"#FFFFFF\" height=\"48.2656\" id=\"E6\" rx=\"10\" ry=\"10\" style=\"stroke:#181818;stroke-width:0.5;\" width=\"42\" x=\"56\" y=\"86.5\"/><text fill=\"#000000\" font-family=\"sans-serif\" font-size=\"12\" font-style=\"italic\" lengthAdjust=\"spacing\" textLength=\"40\" x=\"57\" y=\"102.6387\">«part»</text><text fill=\"#000000\" font-family=\"sans-serif\" font-size=\"14\" lengthAdjust=\"spacing\" textLength=\"25\" x=\"60.5\" y=\"118.4639\">x: A</text><line style=\"stroke:#181818;stroke-width:0.5;\" x1=\"57\" x2=\"97\" y1=\"126.7656\" y2=\"126.7656\"/></g></a><a href=\"psysml:70275c95-cc90-4a8f-9ab9-2df7f67b6861\" target=\"_top\" title=\"psysml:70275c95-cc90-4a8f-9ab9-2df7f67b6861\" xlink:actuate=\"onRequest\" xlink:href=\"psysml:70275c95-cc90-4a8f-9ab9-2df7f67b6861\" xlink:show=\"new\" xlink:title=\"psysml:70275c95-cc90-4a8f-9ab9-2df7f67b6861\" xlink:type=\"simple\"><polygon fill=\"#FFFFFF\" points=\"133,84,165,84,172,106.2969,179,106.2969,179,136.5938,133,136.5938,133,84\" style=\"stroke:#181818;stroke-width:0.5;\"/><line style=\"stroke:#181818;stroke-width:0.5;\" x1=\"133\" x2=\"172\" y1=\"106.2969\" y2=\"106.2969\"/><text fill=\"#000000\" font-family=\"sans-serif\" font-size=\"14\" lengthAdjust=\"spacing\" textLength=\"26\" x=\"137\" y=\"98.9951\">P2a</text></a><!--MD5=[15ebcb19ae302d9b601edb458606d402]\n",
       "link E5 to E2--><g id=\"link_E5_E2\"><a href=\"psysml:0b7a29bb-3729-45f6-9ea2-8894bf23e053\" target=\"_top\" title=\"psysml:0b7a29bb-3729-45f6-9ea2-8894bf23e053\" xlink:actuate=\"onRequest\" xlink:href=\"psysml:0b7a29bb-3729-45f6-9ea2-8894bf23e053\" xlink:show=\"new\" xlink:title=\"psysml:0b7a29bb-3729-45f6-9ea2-8894bf23e053\" xlink:type=\"simple\"><path d=\"M159.28,137.2 C160.735,148.5875 162.5469,162.7762 164.4519,177.6978 C165.4044,185.1586 166.3802,192.8026 167.3463,200.3712 C167.5878,202.2634 167.8287,204.1508 168.0685,206.0295 C168.1884,206.9689 168.308,207.906 168.4273,208.8405 C168.4571,209.0741 168.4869,209.3076 168.5167,209.5408 \" fill=\"none\" id=\"E5-to-E2\" style=\"stroke:#181818;stroke-width:1.0;stroke-dasharray:7.0,7.0;\"/><polygon fill=\"#181818\" points=\"168.5167,209.5408,171.345,200.1068,167.8836,204.5811,163.4094,201.1197,168.5167,209.5408\" style=\"stroke:#181818;stroke-width:1.0;\"/><text fill=\"#000000\" font-family=\"sans-serif\" font-size=\"13\" lengthAdjust=\"spacing\" textLength=\"65\" x=\"166\" y=\"182.0669\">«import»*</text></a></g><!--MD5=[a717450b82c80b9240a525fa862496af]\n",
       "link E6 to E3--><g id=\"link_E6_E3\"><a href=\"psysml:d6b7e27f-bd18-4212-9fb0-b02d6224d86d\" target=\"_top\" title=\"psysml:d6b7e27f-bd18-4212-9fb0-b02d6224d86d\" xlink:actuate=\"onRequest\" xlink:href=\"psysml:d6b7e27f-bd18-4212-9fb0-b02d6224d86d\" xlink:show=\"new\" xlink:title=\"psysml:d6b7e27f-bd18-4212-9fb0-b02d6224d86d\" xlink:type=\"simple\"><path d=\"M81.23,134.72 C85.88,160.19 93.44,201.63 99.17,233.06 \" fill=\"none\" id=\"E6-to-E3\" style=\"stroke:#181818;stroke-width:1.0;\"/><polygon fill=\"#FFFFFF\" points=\"102.79,252.9,92.4985,235.462,106.2719,232.9532,102.79,252.9\" style=\"stroke:#181818;stroke-width:1.0;\"/><ellipse cx=\"93.4447\" cy=\"229.4958\" fill=\"#181818\" rx=\"2\" ry=\"2\" style=\"stroke:#181818;stroke-width:1.0;\"/><ellipse cx=\"103.2828\" cy=\"227.7038\" fill=\"#181818\" rx=\"2\" ry=\"2\" style=\"stroke:#181818;stroke-width:1.0;\"/></a></g><!--MD5=[9690bf63b96eebc0df340b5ca62a46a0]\n",
       "@startuml\r\n",
       "skin sysmlbw\r\n",
       "skinparam monochrome true\r\n",
       "skinparam wrapWidth 300\r\n",
       "hide circle\r\n",
       " \r\n",
       "package \"QualifiedNameImportTest\" as E1  [[psysml:c4b7552d-b9f7-430e-8774-a992809b5587 ]]  {\r\n",
       "package \"P1\" as E2  [[psysml:50965905-a474-4117-8075-2a307b415370 ]]  {\r\n",
       "comp def \"A\" as E3  <<(T,blue) part  def>> [[psysml:7bcd0150-a304-4bd6-beeb-4a591e07f43e ]] {\r\n",
       "}\r\n",
       "}\r\n",
       "package \"P2\" as E4  [[psysml:baf5ed1e-c4c1-4a5d-ad5e-204bd26a43d4 ]]  {\r\n",
       "package \"P2a\" as E5  [[psysml:70275c95-cc90-4a8f-9ab9-2df7f67b6861 ]]  {\r\n",
       "}\r\n",
       "comp usage \"x: A  \" as E6  <<(T,blue) part>> [[psysml:1e68c641-a483-45d8-8926-6ab40309dfc3 ]] {\r\n",
       "}\r\n",
       "}\r\n",
       "}\r\n",
       "E5 ..> E2 [[psysml:0b7a29bb-3729-45f6-9ea2-8894bf23e053 ]] : <<import>>*\r\n",
       "E6 - -:|> E3 [[psysml:d6b7e27f-bd18-4212-9fb0-b02d6224d86d ]] \r\n",
       "@enduml\r\n",
       "\n",
       "PlantUML version 1.2022.7(Mon Aug 22 17:01:30 UTC 2022)\n",
       "(EPL source distribution)\n",
       "Java Runtime: OpenJDK Runtime Environment\n",
       "JVM: OpenJDK 64-Bit Server VM\n",
       "Default Encoding: UTF-8\n",
       "Language: en\n",
       "Country: null\n",
       "--></g></svg>"
      ]
     },
     "execution_count": 2,
     "metadata": {},
     "output_type": "execute_result"
    }
   ],
   "source": [
    "%viz --style=\"COMPTREE\" --view=\"Default\" \"QualifiedNameImportTest\""
   ]
  },
  {
   "cell_type": "code",
   "execution_count": 3,
   "id": "1966c188",
   "metadata": {
    "execution": {
     "iopub.execute_input": "2024-12-16T03:25:41.034589Z",
     "iopub.status.busy": "2024-12-16T03:25:41.034375Z",
     "iopub.status.idle": "2024-12-16T03:25:41.071350Z",
     "shell.execute_reply": "2024-12-16T03:25:41.070594Z"
    }
   },
   "outputs": [
    {
     "data": {
      "image/svg+xml": [
       "<?xml version=\"1.0\" encoding=\"UTF-8\" standalone=\"no\"?><svg xmlns=\"http://www.w3.org/2000/svg\" xmlns:xlink=\"http://www.w3.org/1999/xlink\" contentStyleType=\"text/css\" height=\"364px\" preserveAspectRatio=\"none\" style=\"width:239px;height:364px;background:#FFFFFF;\" version=\"1.1\" viewBox=\"0 0 239 364\" width=\"239px\" zoomAndPan=\"magnify\"><defs/><g><!--MD5=[fbc87193dbaf4d95561dea2c320d4a47]\n",
       "cluster E1--><g id=\"cluster_E1\"><a href=\"psysml:c4b7552d-b9f7-430e-8774-a992809b5587\" target=\"_top\" title=\"psysml:c4b7552d-b9f7-430e-8774-a992809b5587\" xlink:actuate=\"onRequest\" xlink:href=\"psysml:c4b7552d-b9f7-430e-8774-a992809b5587\" xlink:show=\"new\" xlink:title=\"psysml:c4b7552d-b9f7-430e-8774-a992809b5587\" xlink:type=\"simple\"><polygon fill=\"none\" points=\"16,6,206.0625,6,213.0625,28.2969,219,28.2969,219,357,16,357,16,6\" style=\"stroke:#000000;stroke-width:1.5;\"/><line style=\"stroke:#000000;stroke-width:1.5;\" x1=\"16\" x2=\"213.0625\" y1=\"28.2969\" y2=\"28.2969\"/><text fill=\"#000000\" font-family=\"sans-serif\" font-size=\"14\" font-weight=\"bold\" lengthAdjust=\"spacing\" textLength=\"184.0625\" x=\"20\" y=\"20.9951\">QualifiedNameImportTest</text></a></g><!--MD5=[e4f7fae6ed58524ba242bb0b0d3be6b7]\n",
       "cluster E2--><g id=\"cluster_E2\"><a href=\"psysml:50965905-a474-4117-8075-2a307b415370\" target=\"_top\" title=\"psysml:50965905-a474-4117-8075-2a307b415370\" xlink:actuate=\"onRequest\" xlink:href=\"psysml:50965905-a474-4117-8075-2a307b415370\" xlink:show=\"new\" xlink:title=\"psysml:50965905-a474-4117-8075-2a307b415370\" xlink:type=\"simple\"><polygon fill=\"none\" points=\"48,210,72.875,210,79.875,232.2969,185,232.2969,185,325,48,325,48,210\" style=\"stroke:#000000;stroke-width:1.5;\"/><line style=\"stroke:#000000;stroke-width:1.5;\" x1=\"48\" x2=\"79.875\" y1=\"232.2969\" y2=\"232.2969\"/><text fill=\"#000000\" font-family=\"sans-serif\" font-size=\"14\" font-weight=\"bold\" lengthAdjust=\"spacing\" textLength=\"18.875\" x=\"52\" y=\"224.9951\">P1</text></a></g><!--MD5=[f6df4d0ebaf0b5dfb2ced0ae5af7c670]\n",
       "cluster E4--><g id=\"cluster_E4\"><a href=\"psysml:baf5ed1e-c4c1-4a5d-ad5e-204bd26a43d4\" target=\"_top\" title=\"psysml:baf5ed1e-c4c1-4a5d-ad5e-204bd26a43d4\" xlink:actuate=\"onRequest\" xlink:href=\"psysml:baf5ed1e-c4c1-4a5d-ad5e-204bd26a43d4\" xlink:show=\"new\" xlink:title=\"psysml:baf5ed1e-c4c1-4a5d-ad5e-204bd26a43d4\" xlink:type=\"simple\"><polygon fill=\"none\" points=\"40,49,64.875,49,71.875,71.2969,195,71.2969,195,153,40,153,40,49\" style=\"stroke:#000000;stroke-width:1.5;\"/><line style=\"stroke:#000000;stroke-width:1.5;\" x1=\"40\" x2=\"71.875\" y1=\"71.2969\" y2=\"71.2969\"/><text fill=\"#000000\" font-family=\"sans-serif\" font-size=\"14\" font-weight=\"bold\" lengthAdjust=\"spacing\" textLength=\"18.875\" x=\"44\" y=\"63.9951\">P2</text></a></g><!--MD5=[09b614a08d8cba4a07c9adeb5e0fee81]\n",
       "class E3--><a href=\"psysml:7bcd0150-a304-4bd6-beeb-4a591e07f43e\" target=\"_top\" title=\"psysml:7bcd0150-a304-4bd6-beeb-4a591e07f43e\" xlink:actuate=\"onRequest\" xlink:href=\"psysml:7bcd0150-a304-4bd6-beeb-4a591e07f43e\" xlink:show=\"new\" xlink:title=\"psysml:7bcd0150-a304-4bd6-beeb-4a591e07f43e\" xlink:type=\"simple\"><g id=\"elem_E3\"><rect fill=\"#FFFFFF\" height=\"48.2656\" id=\"E3\" style=\"stroke:#181818;stroke-width:0.5;\" width=\"70\" x=\"72\" y=\"253\"/><text fill=\"#000000\" font-family=\"sans-serif\" font-size=\"12\" font-style=\"italic\" lengthAdjust=\"spacing\" textLength=\"68\" x=\"73\" y=\"269.1387\">«part  def»</text><text fill=\"#000000\" font-family=\"sans-serif\" font-size=\"14\" lengthAdjust=\"spacing\" textLength=\"9\" x=\"102.5\" y=\"284.9639\">A</text><line style=\"stroke:#181818;stroke-width:0.5;\" x1=\"73\" x2=\"141\" y1=\"293.2656\" y2=\"293.2656\"/></g></a><!--MD5=[60a26617385b1d2d0262a64233df1f8d]\n",
       "class E6--><a href=\"psysml:1e68c641-a483-45d8-8926-6ab40309dfc3\" target=\"_top\" title=\"psysml:1e68c641-a483-45d8-8926-6ab40309dfc3\" xlink:actuate=\"onRequest\" xlink:href=\"psysml:1e68c641-a483-45d8-8926-6ab40309dfc3\" xlink:show=\"new\" xlink:title=\"psysml:1e68c641-a483-45d8-8926-6ab40309dfc3\" xlink:type=\"simple\"><g id=\"elem_E6\"><rect fill=\"#FFFFFF\" height=\"48.2656\" id=\"E6\" rx=\"10\" ry=\"10\" style=\"stroke:#181818;stroke-width:0.5;\" width=\"42\" x=\"56\" y=\"86.5\"/><text fill=\"#000000\" font-family=\"sans-serif\" font-size=\"12\" font-style=\"italic\" lengthAdjust=\"spacing\" textLength=\"40\" x=\"57\" y=\"102.6387\">«part»</text><text fill=\"#000000\" font-family=\"sans-serif\" font-size=\"14\" lengthAdjust=\"spacing\" textLength=\"25\" x=\"60.5\" y=\"118.4639\">x: A</text><line style=\"stroke:#181818;stroke-width:0.5;\" x1=\"57\" x2=\"97\" y1=\"126.7656\" y2=\"126.7656\"/></g></a><a href=\"psysml:70275c95-cc90-4a8f-9ab9-2df7f67b6861\" target=\"_top\" title=\"psysml:70275c95-cc90-4a8f-9ab9-2df7f67b6861\" xlink:actuate=\"onRequest\" xlink:href=\"psysml:70275c95-cc90-4a8f-9ab9-2df7f67b6861\" xlink:show=\"new\" xlink:title=\"psysml:70275c95-cc90-4a8f-9ab9-2df7f67b6861\" xlink:type=\"simple\"><polygon fill=\"#FFFFFF\" points=\"133,84,165,84,172,106.2969,179,106.2969,179,136.5938,133,136.5938,133,84\" style=\"stroke:#181818;stroke-width:0.5;\"/><line style=\"stroke:#181818;stroke-width:0.5;\" x1=\"133\" x2=\"172\" y1=\"106.2969\" y2=\"106.2969\"/><text fill=\"#000000\" font-family=\"sans-serif\" font-size=\"14\" lengthAdjust=\"spacing\" textLength=\"26\" x=\"137\" y=\"98.9951\">P2a</text></a><!--MD5=[15ebcb19ae302d9b601edb458606d402]\n",
       "link E5 to E2--><g id=\"link_E5_E2\"><a href=\"psysml:0b7a29bb-3729-45f6-9ea2-8894bf23e053\" target=\"_top\" title=\"psysml:0b7a29bb-3729-45f6-9ea2-8894bf23e053\" xlink:actuate=\"onRequest\" xlink:href=\"psysml:0b7a29bb-3729-45f6-9ea2-8894bf23e053\" xlink:show=\"new\" xlink:title=\"psysml:0b7a29bb-3729-45f6-9ea2-8894bf23e053\" xlink:type=\"simple\"><path d=\"M159.28,137.2 C160.735,148.5875 162.5469,162.7762 164.4519,177.6978 C165.4044,185.1586 166.3802,192.8026 167.3463,200.3712 C167.5878,202.2634 167.8287,204.1508 168.0685,206.0295 C168.1884,206.9689 168.308,207.906 168.4273,208.8405 C168.4571,209.0741 168.4869,209.3076 168.5167,209.5408 \" fill=\"none\" id=\"E5-to-E2\" style=\"stroke:#181818;stroke-width:1.0;stroke-dasharray:7.0,7.0;\"/><polygon fill=\"#181818\" points=\"168.5167,209.5408,171.345,200.1068,167.8836,204.5811,163.4094,201.1197,168.5167,209.5408\" style=\"stroke:#181818;stroke-width:1.0;\"/><text fill=\"#000000\" font-family=\"sans-serif\" font-size=\"13\" lengthAdjust=\"spacing\" textLength=\"65\" x=\"166\" y=\"182.0669\">«import»*</text></a></g><!--MD5=[a717450b82c80b9240a525fa862496af]\n",
       "link E6 to E3--><g id=\"link_E6_E3\"><a href=\"psysml:d6b7e27f-bd18-4212-9fb0-b02d6224d86d\" target=\"_top\" title=\"psysml:d6b7e27f-bd18-4212-9fb0-b02d6224d86d\" xlink:actuate=\"onRequest\" xlink:href=\"psysml:d6b7e27f-bd18-4212-9fb0-b02d6224d86d\" xlink:show=\"new\" xlink:title=\"psysml:d6b7e27f-bd18-4212-9fb0-b02d6224d86d\" xlink:type=\"simple\"><path d=\"M81.23,134.72 C85.88,160.19 93.44,201.63 99.17,233.06 \" fill=\"none\" id=\"E6-to-E3\" style=\"stroke:#181818;stroke-width:1.0;\"/><polygon fill=\"#FFFFFF\" points=\"102.79,252.9,92.4985,235.462,106.2719,232.9532,102.79,252.9\" style=\"stroke:#181818;stroke-width:1.0;\"/><ellipse cx=\"93.4447\" cy=\"229.4958\" fill=\"#181818\" rx=\"2\" ry=\"2\" style=\"stroke:#181818;stroke-width:1.0;\"/><ellipse cx=\"103.2828\" cy=\"227.7038\" fill=\"#181818\" rx=\"2\" ry=\"2\" style=\"stroke:#181818;stroke-width:1.0;\"/></a></g><!--MD5=[9690bf63b96eebc0df340b5ca62a46a0]\n",
       "@startuml\r\n",
       "skin sysmlbw\r\n",
       "skinparam monochrome true\r\n",
       "skinparam wrapWidth 300\r\n",
       "hide circle\r\n",
       " \r\n",
       "package \"QualifiedNameImportTest\" as E1  [[psysml:c4b7552d-b9f7-430e-8774-a992809b5587 ]]  {\r\n",
       "package \"P1\" as E2  [[psysml:50965905-a474-4117-8075-2a307b415370 ]]  {\r\n",
       "comp def \"A\" as E3  <<(T,blue) part  def>> [[psysml:7bcd0150-a304-4bd6-beeb-4a591e07f43e ]] {\r\n",
       "}\r\n",
       "}\r\n",
       "package \"P2\" as E4  [[psysml:baf5ed1e-c4c1-4a5d-ad5e-204bd26a43d4 ]]  {\r\n",
       "package \"P2a\" as E5  [[psysml:70275c95-cc90-4a8f-9ab9-2df7f67b6861 ]]  {\r\n",
       "}\r\n",
       "comp usage \"x: A  \" as E6  <<(T,blue) part>> [[psysml:1e68c641-a483-45d8-8926-6ab40309dfc3 ]] {\r\n",
       "}\r\n",
       "}\r\n",
       "}\r\n",
       "E5 ..> E2 [[psysml:0b7a29bb-3729-45f6-9ea2-8894bf23e053 ]] : <<import>>*\r\n",
       "E6 - -:|> E3 [[psysml:d6b7e27f-bd18-4212-9fb0-b02d6224d86d ]] \r\n",
       "@enduml\r\n",
       "\n",
       "PlantUML version 1.2022.7(Mon Aug 22 17:01:30 UTC 2022)\n",
       "(EPL source distribution)\n",
       "Java Runtime: OpenJDK Runtime Environment\n",
       "JVM: OpenJDK 64-Bit Server VM\n",
       "Default Encoding: UTF-8\n",
       "Language: en\n",
       "Country: null\n",
       "--></g></svg>"
      ]
     },
     "execution_count": 3,
     "metadata": {},
     "output_type": "execute_result"
    }
   ],
   "source": [
    "%viz --style=\"COMPTREE\" --view=\"Tree\" \"QualifiedNameImportTest\""
   ]
  },
  {
   "cell_type": "code",
   "execution_count": 4,
   "id": "eb4a8af4",
   "metadata": {
    "execution": {
     "iopub.execute_input": "2024-12-16T03:25:41.123327Z",
     "iopub.status.busy": "2024-12-16T03:25:41.123098Z",
     "iopub.status.idle": "2024-12-16T03:25:41.130730Z",
     "shell.execute_reply": "2024-12-16T03:25:41.130547Z"
    }
   },
   "outputs": [
    {
     "data": {
      "image/svg+xml": [
       "<?xml version=\"1.0\" encoding=\"UTF-8\" standalone=\"no\"?><svg xmlns=\"http://www.w3.org/2000/svg\" xmlns:xlink=\"http://www.w3.org/1999/xlink\" contentStyleType=\"text/css\" height=\"10px\" preserveAspectRatio=\"none\" style=\"width:10px;height:10px;background:#FFFFFF;\" version=\"1.1\" viewBox=\"0 0 10 10\" width=\"10px\" zoomAndPan=\"magnify\"><defs/><g><!--MD5=[ee07d3037018df61283447c7fdb4a44f]\n",
       "@startuml\r\n",
       "skin sysmlbw\r\n",
       "skinparam monochrome true\r\n",
       "skinparam wrapWidth 300\r\n",
       "hide circle\r\n",
       " \r\n",
       "@enduml\r\n",
       "\n",
       "PlantUML version 1.2022.7(Mon Aug 22 17:01:30 UTC 2022)\n",
       "(EPL source distribution)\n",
       "Java Runtime: OpenJDK Runtime Environment\n",
       "JVM: OpenJDK 64-Bit Server VM\n",
       "Default Encoding: UTF-8\n",
       "Language: en\n",
       "Country: null\n",
       "--></g></svg>"
      ]
     },
     "execution_count": 4,
     "metadata": {},
     "output_type": "execute_result"
    }
   ],
   "source": [
    "%viz --style=\"COMPTREE\" --view=\"State\" \"QualifiedNameImportTest\""
   ]
  },
  {
   "cell_type": "code",
   "execution_count": 5,
   "id": "12b52d8d",
   "metadata": {
    "execution": {
     "iopub.execute_input": "2024-12-16T03:25:41.185601Z",
     "iopub.status.busy": "2024-12-16T03:25:41.185383Z",
     "iopub.status.idle": "2024-12-16T03:25:41.215916Z",
     "shell.execute_reply": "2024-12-16T03:25:41.216045Z"
    }
   },
   "outputs": [
    {
     "data": {
      "image/svg+xml": [
       "<?xml version=\"1.0\" encoding=\"UTF-8\" standalone=\"no\"?><svg xmlns=\"http://www.w3.org/2000/svg\" xmlns:xlink=\"http://www.w3.org/1999/xlink\" contentStyleType=\"text/css\" height=\"361px\" preserveAspectRatio=\"none\" style=\"width:244px;height:361px;background:#FFFFFF;\" version=\"1.1\" viewBox=\"0 0 244 361\" width=\"244px\" zoomAndPan=\"magnify\"><defs/><g><!--MD5=[fbc87193dbaf4d95561dea2c320d4a47]\n",
       "cluster E1--><g id=\"cluster_E1\"><a href=\"psysml:c4b7552d-b9f7-430e-8774-a992809b5587\" target=\"_top\" title=\"psysml:c4b7552d-b9f7-430e-8774-a992809b5587\" xlink:actuate=\"onRequest\" xlink:href=\"psysml:c4b7552d-b9f7-430e-8774-a992809b5587\" xlink:show=\"new\" xlink:title=\"psysml:c4b7552d-b9f7-430e-8774-a992809b5587\" xlink:type=\"simple\"><polygon fill=\"none\" points=\"16,6,206.0625,6,213.0625,28.2969,227,28.2969,227,354,16,354,16,6\" style=\"stroke:#000000;stroke-width:1.5;\"/><line style=\"stroke:#000000;stroke-width:1.5;\" x1=\"16\" x2=\"213.0625\" y1=\"28.2969\" y2=\"28.2969\"/><text fill=\"#000000\" font-family=\"sans-serif\" font-size=\"14\" font-weight=\"bold\" lengthAdjust=\"spacing\" textLength=\"184.0625\" x=\"20\" y=\"20.9951\">QualifiedNameImportTest</text></a></g><!--MD5=[e4f7fae6ed58524ba242bb0b0d3be6b7]\n",
       "cluster E2--><g id=\"cluster_E2\"><a href=\"psysml:50965905-a474-4117-8075-2a307b415370\" target=\"_top\" title=\"psysml:50965905-a474-4117-8075-2a307b415370\" xlink:actuate=\"onRequest\" xlink:href=\"psysml:50965905-a474-4117-8075-2a307b415370\" xlink:show=\"new\" xlink:title=\"psysml:50965905-a474-4117-8075-2a307b415370\" xlink:type=\"simple\"><polygon fill=\"none\" points=\"53,210,77.875,210,84.875,232.2969,195,232.2969,195,322,53,322,53,210\" style=\"stroke:#000000;stroke-width:1.5;\"/><line style=\"stroke:#000000;stroke-width:1.5;\" x1=\"53\" x2=\"84.875\" y1=\"232.2969\" y2=\"232.2969\"/><text fill=\"#000000\" font-family=\"sans-serif\" font-size=\"14\" font-weight=\"bold\" lengthAdjust=\"spacing\" textLength=\"18.875\" x=\"57\" y=\"224.9951\">P1</text></a></g><!--MD5=[f6df4d0ebaf0b5dfb2ced0ae5af7c670]\n",
       "cluster E4--><g id=\"cluster_E4\"><a href=\"psysml:baf5ed1e-c4c1-4a5d-ad5e-204bd26a43d4\" target=\"_top\" title=\"psysml:baf5ed1e-c4c1-4a5d-ad5e-204bd26a43d4\" xlink:actuate=\"onRequest\" xlink:href=\"psysml:baf5ed1e-c4c1-4a5d-ad5e-204bd26a43d4\" xlink:show=\"new\" xlink:title=\"psysml:baf5ed1e-c4c1-4a5d-ad5e-204bd26a43d4\" xlink:type=\"simple\"><polygon fill=\"none\" points=\"40,49,64.875,49,71.875,71.2969,203,71.2969,203,153,40,153,40,49\" style=\"stroke:#000000;stroke-width:1.5;\"/><line style=\"stroke:#000000;stroke-width:1.5;\" x1=\"40\" x2=\"71.875\" y1=\"71.2969\" y2=\"71.2969\"/><text fill=\"#000000\" font-family=\"sans-serif\" font-size=\"14\" font-weight=\"bold\" lengthAdjust=\"spacing\" textLength=\"18.875\" x=\"44\" y=\"63.9951\">P2</text></a></g><g><a href=\"psysml:7bcd0150-a304-4bd6-beeb-4a591e07f43e\" target=\"_top\" title=\"psysml:7bcd0150-a304-4bd6-beeb-4a591e07f43e\" xlink:actuate=\"onRequest\" xlink:href=\"psysml:7bcd0150-a304-4bd6-beeb-4a591e07f43e\" xlink:show=\"new\" xlink:title=\"psysml:7bcd0150-a304-4bd6-beeb-4a591e07f43e\" xlink:type=\"simple\"><rect fill=\"#FFFFFF\" height=\"45.2656\" id=\"E3\" style=\"stroke:#383838;stroke-width:1.5;\" width=\"75\" x=\"96.5\" y=\"253\"/><text fill=\"#000000\" font-family=\"sans-serif\" font-size=\"12\" font-style=\"italic\" lengthAdjust=\"spacing\" textLength=\"68\" x=\"100\" y=\"269.1387\">«part  def»</text><text fill=\"#000000\" font-family=\"sans-serif\" font-size=\"14\" lengthAdjust=\"spacing\" textLength=\"9\" x=\"129.5\" y=\"284.9639\">A</text></a></g><a href=\"psysml:70275c95-cc90-4a8f-9ab9-2df7f67b6861\" target=\"_top\" title=\"psysml:70275c95-cc90-4a8f-9ab9-2df7f67b6861\" xlink:actuate=\"onRequest\" xlink:href=\"psysml:70275c95-cc90-4a8f-9ab9-2df7f67b6861\" xlink:show=\"new\" xlink:title=\"psysml:70275c95-cc90-4a8f-9ab9-2df7f67b6861\" xlink:type=\"simple\"><polygon fill=\"#FFFFFF\" points=\"56,84,88,84,95,106.2969,102,106.2969,102,136.5938,56,136.5938,56,84\" style=\"stroke:#181818;stroke-width:0.5;\"/><line style=\"stroke:#181818;stroke-width:0.5;\" x1=\"56\" x2=\"95\" y1=\"106.2969\" y2=\"106.2969\"/><text fill=\"#000000\" font-family=\"sans-serif\" font-size=\"14\" lengthAdjust=\"spacing\" textLength=\"26\" x=\"60\" y=\"98.9951\">P2a</text></a><g><a href=\"psysml:1e68c641-a483-45d8-8926-6ab40309dfc3\" target=\"_top\" title=\"psysml:1e68c641-a483-45d8-8926-6ab40309dfc3\" xlink:actuate=\"onRequest\" xlink:href=\"psysml:1e68c641-a483-45d8-8926-6ab40309dfc3\" xlink:show=\"new\" xlink:title=\"psysml:1e68c641-a483-45d8-8926-6ab40309dfc3\" xlink:type=\"simple\"><rect fill=\"#FFFFFF\" height=\"40\" id=\"E6\" rx=\"10\" ry=\"10\" style=\"stroke:#383838;stroke-width:1.5;\" width=\"50\" x=\"137\" y=\"90.5\"/><text fill=\"#000000\" font-family=\"sans-serif\" font-size=\"14\" lengthAdjust=\"spacing\" textLength=\"25\" x=\"149.5\" y=\"108.4951\">x: A</text></a></g><!--MD5=[15ebcb19ae302d9b601edb458606d402]\n",
       "link E5 to E2--><g id=\"link_E5_E2\"><a href=\"psysml:0b7a29bb-3729-45f6-9ea2-8894bf23e053\" target=\"_top\" title=\"psysml:0b7a29bb-3729-45f6-9ea2-8894bf23e053\" xlink:actuate=\"onRequest\" xlink:href=\"psysml:0b7a29bb-3729-45f6-9ea2-8894bf23e053\" xlink:show=\"new\" xlink:title=\"psysml:0b7a29bb-3729-45f6-9ea2-8894bf23e053\" xlink:type=\"simple\"><path d=\"M76.15,137.33 C74.9,148.64 73.3475,162.6906 71.7172,177.448 C70.902,184.8266 70.0674,192.382 69.2414,199.8598 C69.035,201.7292 68.829,203.5938 68.624,205.4496 C68.5215,206.3775 68.4193,207.3032 68.3173,208.2262 C68.2664,208.6877 68.2155,209.1485 68.1647,209.6086 \" fill=\"none\" id=\"E5-to-E2\" style=\"stroke:#181818;stroke-width:1.0;stroke-dasharray:7.0,7.0;\"/><polygon fill=\"#181818\" points=\"68.1647,209.6086,73.1285,201.1021,68.7136,204.6388,65.1769,200.2238,68.1647,209.6086\" style=\"stroke:#181818;stroke-width:1.0;\"/><text fill=\"#000000\" font-family=\"sans-serif\" font-size=\"13\" lengthAdjust=\"spacing\" textLength=\"65\" x=\"73\" y=\"182.0669\">«import»*</text></a></g><!--MD5=[a717450b82c80b9240a525fa862496af]\n",
       "link E6 to E3--><g id=\"link_E6_E3\"><a href=\"psysml:d6b7e27f-bd18-4212-9fb0-b02d6224d86d\" target=\"_top\" title=\"psysml:d6b7e27f-bd18-4212-9fb0-b02d6224d86d\" xlink:actuate=\"onRequest\" xlink:href=\"psysml:d6b7e27f-bd18-4212-9fb0-b02d6224d86d\" xlink:show=\"new\" xlink:title=\"psysml:d6b7e27f-bd18-4212-9fb0-b02d6224d86d\" xlink:type=\"simple\"><path d=\"M158.73,130.52 C154.46,155.41 146.85,199.72 141.19,232.64 \" fill=\"none\" id=\"E6-to-E3\" style=\"stroke:#181818;stroke-width:1.0;\"/><polygon fill=\"#FFFFFF\" points=\"137.73,252.76,134.047,232.8493,147.845,235.219,137.73,252.76\" style=\"stroke:#181818;stroke-width:1.0;\"/><ellipse cx=\"136.9829\" cy=\"227.5701\" fill=\"#181818\" rx=\"2\" ry=\"2\" style=\"stroke:#181818;stroke-width:1.0;\"/><ellipse cx=\"146.8386\" cy=\"229.2627\" fill=\"#181818\" rx=\"2\" ry=\"2\" style=\"stroke:#181818;stroke-width:1.0;\"/></a></g><!--MD5=[220dd267af16aef9426306ac62d806a5]\n",
       "@startuml\r\n",
       "skin sysmlbw\r\n",
       "skinparam monochrome true\r\n",
       "skinparam wrapWidth 300\r\n",
       "hide circle\r\n",
       " skinparam ranksep 10\r\n",
       "skinparam rectangle {\r\n",
       " backgroundColor<<block>> LightGreen\r\n",
       "}\r\n",
       "\r\n",
       "package \"QualifiedNameImportTest\" as E1  [[psysml:c4b7552d-b9f7-430e-8774-a992809b5587 ]]  {\r\n",
       "package \"P1\" as E2  [[psysml:50965905-a474-4117-8075-2a307b415370 ]]  {\r\n",
       "rec def \"A\" as E3  <<(T,blue) part  def>> [[psysml:7bcd0150-a304-4bd6-beeb-4a591e07f43e ]] {\r\n",
       "}\r\n",
       "}\r\n",
       "package \"P2\" as E4  [[psysml:baf5ed1e-c4c1-4a5d-ad5e-204bd26a43d4 ]]  {\r\n",
       "package \"P2a\" as E5  [[psysml:70275c95-cc90-4a8f-9ab9-2df7f67b6861 ]]  {\r\n",
       "}\r\n",
       "rec usage \"x: A\" as E6 [[psysml:1e68c641-a483-45d8-8926-6ab40309dfc3 ]] {\r\n",
       "}\r\n",
       "}\r\n",
       "}\r\n",
       "E5 ..> E2 [[psysml:0b7a29bb-3729-45f6-9ea2-8894bf23e053 ]] : <<import>>*\r\n",
       "E6 - -:|> E3 [[psysml:d6b7e27f-bd18-4212-9fb0-b02d6224d86d ]] \r\n",
       "@enduml\r\n",
       "\n",
       "PlantUML version 1.2022.7(Mon Aug 22 17:01:30 UTC 2022)\n",
       "(EPL source distribution)\n",
       "Java Runtime: OpenJDK Runtime Environment\n",
       "JVM: OpenJDK 64-Bit Server VM\n",
       "Default Encoding: UTF-8\n",
       "Language: en\n",
       "Country: null\n",
       "--></g></svg>"
      ]
     },
     "execution_count": 5,
     "metadata": {},
     "output_type": "execute_result"
    }
   ],
   "source": [
    "%viz --style=\"COMPTREE\" --view=\"Interconnection\" \"QualifiedNameImportTest\""
   ]
  },
  {
   "cell_type": "code",
   "execution_count": 6,
   "id": "55ff70de",
   "metadata": {
    "execution": {
     "iopub.execute_input": "2024-12-16T03:25:41.270582Z",
     "iopub.status.busy": "2024-12-16T03:25:41.270342Z",
     "iopub.status.idle": "2024-12-16T03:25:41.277452Z",
     "shell.execute_reply": "2024-12-16T03:25:41.277277Z"
    }
   },
   "outputs": [
    {
     "data": {
      "image/svg+xml": [
       "<?xml version=\"1.0\" encoding=\"UTF-8\" standalone=\"no\"?><svg xmlns=\"http://www.w3.org/2000/svg\" xmlns:xlink=\"http://www.w3.org/1999/xlink\" contentStyleType=\"text/css\" height=\"10px\" preserveAspectRatio=\"none\" style=\"width:10px;height:10px;background:#FFFFFF;\" version=\"1.1\" viewBox=\"0 0 10 10\" width=\"10px\" zoomAndPan=\"magnify\"><defs/><g><!--MD5=[042b5323e4810735e2315f6f99dad39e]\n",
       "@startuml\r\n",
       "skin sysmlbw\r\n",
       "skinparam monochrome true\r\n",
       "skinparam wrapWidth 300\r\n",
       "hide circle\r\n",
       " skinparam ranksep 8\r\n",
       "\r\n",
       "@enduml\r\n",
       "\n",
       "PlantUML version 1.2022.7(Mon Aug 22 17:01:30 UTC 2022)\n",
       "(EPL source distribution)\n",
       "Java Runtime: OpenJDK Runtime Environment\n",
       "JVM: OpenJDK 64-Bit Server VM\n",
       "Default Encoding: UTF-8\n",
       "Language: en\n",
       "Country: null\n",
       "--></g></svg>"
      ]
     },
     "execution_count": 6,
     "metadata": {},
     "output_type": "execute_result"
    }
   ],
   "source": [
    "%viz --style=\"COMPTREE\" --view=\"Action\" \"QualifiedNameImportTest\""
   ]
  },
  {
   "cell_type": "code",
   "execution_count": 7,
   "id": "c496640b",
   "metadata": {
    "execution": {
     "iopub.execute_input": "2024-12-16T03:25:41.328786Z",
     "iopub.status.busy": "2024-12-16T03:25:41.328564Z",
     "iopub.status.idle": "2024-12-16T03:25:41.343292Z",
     "shell.execute_reply": "2024-12-16T03:25:41.343115Z"
    }
   },
   "outputs": [
    {
     "data": {
      "image/svg+xml": [
       "<?xml version=\"1.0\" encoding=\"UTF-8\" standalone=\"no\"?><svg xmlns=\"http://www.w3.org/2000/svg\" xmlns:xlink=\"http://www.w3.org/1999/xlink\" contentStyleType=\"text/css\" height=\"10px\" preserveAspectRatio=\"none\" style=\"width:10px;height:10px;background:#FFFFFF;\" version=\"1.1\" viewBox=\"0 0 10 10\" width=\"10px\" zoomAndPan=\"magnify\"><defs/><g><!--MD5=[f5e9abf0a6c8dccaf40d0172f495ca0b]\n",
       "@startuml\r\n",
       "skin sysmlbw\r\n",
       "skinparam monochrome true\r\n",
       "skinparam wrapWidth 300\r\n",
       "hide circle\r\n",
       " skinparam roundcorner 20\r\n",
       "skinparam BoxPadding 20\r\n",
       "skinparam SequenceBoxBackgroundColor #white\r\n",
       "skinparam style strictuml\r\n",
       "skinparam maxMessageSize 100\r\n",
       "\r\n",
       "@enduml\r\n",
       "\n",
       "PlantUML version 1.2022.7(Mon Aug 22 17:01:30 UTC 2022)\n",
       "(EPL source distribution)\n",
       "Java Runtime: OpenJDK Runtime Environment\n",
       "JVM: OpenJDK 64-Bit Server VM\n",
       "Default Encoding: UTF-8\n",
       "Language: en\n",
       "Country: null\n",
       "--></g></svg>"
      ]
     },
     "execution_count": 7,
     "metadata": {},
     "output_type": "execute_result"
    }
   ],
   "source": [
    "%viz --style=\"COMPTREE\" --view=\"Sequence\" \"QualifiedNameImportTest\""
   ]
  },
  {
   "cell_type": "code",
   "execution_count": 8,
   "id": "e08cd576",
   "metadata": {
    "execution": {
     "iopub.execute_input": "2024-12-16T03:25:41.395345Z",
     "iopub.status.busy": "2024-12-16T03:25:41.395120Z",
     "iopub.status.idle": "2024-12-16T03:25:41.420720Z",
     "shell.execute_reply": "2024-12-16T03:25:41.420550Z"
    }
   },
   "outputs": [
    {
     "data": {
      "image/svg+xml": [
       "<?xml version=\"1.0\" encoding=\"UTF-8\" standalone=\"no\"?><svg xmlns=\"http://www.w3.org/2000/svg\" xmlns:xlink=\"http://www.w3.org/1999/xlink\" contentStyleType=\"text/css\" height=\"364px\" preserveAspectRatio=\"none\" style=\"width:239px;height:364px;background:#FFFFFF;\" version=\"1.1\" viewBox=\"0 0 239 364\" width=\"239px\" zoomAndPan=\"magnify\"><defs/><g><!--MD5=[fbc87193dbaf4d95561dea2c320d4a47]\n",
       "cluster E1--><g id=\"cluster_E1\"><a href=\"psysml:c4b7552d-b9f7-430e-8774-a992809b5587\" target=\"_top\" title=\"psysml:c4b7552d-b9f7-430e-8774-a992809b5587\" xlink:actuate=\"onRequest\" xlink:href=\"psysml:c4b7552d-b9f7-430e-8774-a992809b5587\" xlink:show=\"new\" xlink:title=\"psysml:c4b7552d-b9f7-430e-8774-a992809b5587\" xlink:type=\"simple\"><polygon fill=\"none\" points=\"16,6,206.0625,6,213.0625,28.2969,219,28.2969,219,357,16,357,16,6\" style=\"stroke:#000000;stroke-width:1.5;\"/><line style=\"stroke:#000000;stroke-width:1.5;\" x1=\"16\" x2=\"213.0625\" y1=\"28.2969\" y2=\"28.2969\"/><text fill=\"#000000\" font-family=\"sans-serif\" font-size=\"14\" font-weight=\"bold\" lengthAdjust=\"spacing\" textLength=\"184.0625\" x=\"20\" y=\"20.9951\">QualifiedNameImportTest</text></a></g><!--MD5=[e4f7fae6ed58524ba242bb0b0d3be6b7]\n",
       "cluster E2--><g id=\"cluster_E2\"><a href=\"psysml:50965905-a474-4117-8075-2a307b415370\" target=\"_top\" title=\"psysml:50965905-a474-4117-8075-2a307b415370\" xlink:actuate=\"onRequest\" xlink:href=\"psysml:50965905-a474-4117-8075-2a307b415370\" xlink:show=\"new\" xlink:title=\"psysml:50965905-a474-4117-8075-2a307b415370\" xlink:type=\"simple\"><polygon fill=\"none\" points=\"48,210,72.875,210,79.875,232.2969,185,232.2969,185,325,48,325,48,210\" style=\"stroke:#000000;stroke-width:1.5;\"/><line style=\"stroke:#000000;stroke-width:1.5;\" x1=\"48\" x2=\"79.875\" y1=\"232.2969\" y2=\"232.2969\"/><text fill=\"#000000\" font-family=\"sans-serif\" font-size=\"14\" font-weight=\"bold\" lengthAdjust=\"spacing\" textLength=\"18.875\" x=\"52\" y=\"224.9951\">P1</text></a></g><!--MD5=[f6df4d0ebaf0b5dfb2ced0ae5af7c670]\n",
       "cluster E4--><g id=\"cluster_E4\"><a href=\"psysml:baf5ed1e-c4c1-4a5d-ad5e-204bd26a43d4\" target=\"_top\" title=\"psysml:baf5ed1e-c4c1-4a5d-ad5e-204bd26a43d4\" xlink:actuate=\"onRequest\" xlink:href=\"psysml:baf5ed1e-c4c1-4a5d-ad5e-204bd26a43d4\" xlink:show=\"new\" xlink:title=\"psysml:baf5ed1e-c4c1-4a5d-ad5e-204bd26a43d4\" xlink:type=\"simple\"><polygon fill=\"none\" points=\"40,49,64.875,49,71.875,71.2969,195,71.2969,195,153,40,153,40,49\" style=\"stroke:#000000;stroke-width:1.5;\"/><line style=\"stroke:#000000;stroke-width:1.5;\" x1=\"40\" x2=\"71.875\" y1=\"71.2969\" y2=\"71.2969\"/><text fill=\"#000000\" font-family=\"sans-serif\" font-size=\"14\" font-weight=\"bold\" lengthAdjust=\"spacing\" textLength=\"18.875\" x=\"44\" y=\"63.9951\">P2</text></a></g><!--MD5=[09b614a08d8cba4a07c9adeb5e0fee81]\n",
       "class E3--><a href=\"psysml:7bcd0150-a304-4bd6-beeb-4a591e07f43e\" target=\"_top\" title=\"psysml:7bcd0150-a304-4bd6-beeb-4a591e07f43e\" xlink:actuate=\"onRequest\" xlink:href=\"psysml:7bcd0150-a304-4bd6-beeb-4a591e07f43e\" xlink:show=\"new\" xlink:title=\"psysml:7bcd0150-a304-4bd6-beeb-4a591e07f43e\" xlink:type=\"simple\"><g id=\"elem_E3\"><rect fill=\"#FFFFFF\" height=\"48.2656\" id=\"E3\" style=\"stroke:#181818;stroke-width:0.5;\" width=\"70\" x=\"72\" y=\"253\"/><text fill=\"#000000\" font-family=\"sans-serif\" font-size=\"12\" font-style=\"italic\" lengthAdjust=\"spacing\" textLength=\"68\" x=\"73\" y=\"269.1387\">«part  def»</text><text fill=\"#000000\" font-family=\"sans-serif\" font-size=\"14\" lengthAdjust=\"spacing\" textLength=\"9\" x=\"102.5\" y=\"284.9639\">A</text><line style=\"stroke:#181818;stroke-width:0.5;\" x1=\"73\" x2=\"141\" y1=\"293.2656\" y2=\"293.2656\"/></g></a><!--MD5=[60a26617385b1d2d0262a64233df1f8d]\n",
       "class E6--><a href=\"psysml:1e68c641-a483-45d8-8926-6ab40309dfc3\" target=\"_top\" title=\"psysml:1e68c641-a483-45d8-8926-6ab40309dfc3\" xlink:actuate=\"onRequest\" xlink:href=\"psysml:1e68c641-a483-45d8-8926-6ab40309dfc3\" xlink:show=\"new\" xlink:title=\"psysml:1e68c641-a483-45d8-8926-6ab40309dfc3\" xlink:type=\"simple\"><g id=\"elem_E6\"><rect fill=\"#FFFFFF\" height=\"48.2656\" id=\"E6\" rx=\"10\" ry=\"10\" style=\"stroke:#181818;stroke-width:0.5;\" width=\"42\" x=\"56\" y=\"86.5\"/><text fill=\"#000000\" font-family=\"sans-serif\" font-size=\"12\" font-style=\"italic\" lengthAdjust=\"spacing\" textLength=\"40\" x=\"57\" y=\"102.6387\">«part»</text><text fill=\"#000000\" font-family=\"sans-serif\" font-size=\"14\" lengthAdjust=\"spacing\" textLength=\"25\" x=\"60.5\" y=\"118.4639\">x: A</text><line style=\"stroke:#181818;stroke-width:0.5;\" x1=\"57\" x2=\"97\" y1=\"126.7656\" y2=\"126.7656\"/></g></a><a href=\"psysml:70275c95-cc90-4a8f-9ab9-2df7f67b6861\" target=\"_top\" title=\"psysml:70275c95-cc90-4a8f-9ab9-2df7f67b6861\" xlink:actuate=\"onRequest\" xlink:href=\"psysml:70275c95-cc90-4a8f-9ab9-2df7f67b6861\" xlink:show=\"new\" xlink:title=\"psysml:70275c95-cc90-4a8f-9ab9-2df7f67b6861\" xlink:type=\"simple\"><polygon fill=\"#FFFFFF\" points=\"133,84,165,84,172,106.2969,179,106.2969,179,136.5938,133,136.5938,133,84\" style=\"stroke:#181818;stroke-width:0.5;\"/><line style=\"stroke:#181818;stroke-width:0.5;\" x1=\"133\" x2=\"172\" y1=\"106.2969\" y2=\"106.2969\"/><text fill=\"#000000\" font-family=\"sans-serif\" font-size=\"14\" lengthAdjust=\"spacing\" textLength=\"26\" x=\"137\" y=\"98.9951\">P2a</text></a><!--MD5=[15ebcb19ae302d9b601edb458606d402]\n",
       "link E5 to E2--><g id=\"link_E5_E2\"><a href=\"psysml:0b7a29bb-3729-45f6-9ea2-8894bf23e053\" target=\"_top\" title=\"psysml:0b7a29bb-3729-45f6-9ea2-8894bf23e053\" xlink:actuate=\"onRequest\" xlink:href=\"psysml:0b7a29bb-3729-45f6-9ea2-8894bf23e053\" xlink:show=\"new\" xlink:title=\"psysml:0b7a29bb-3729-45f6-9ea2-8894bf23e053\" xlink:type=\"simple\"><path d=\"M159.28,137.2 C160.735,148.5875 162.5469,162.7762 164.4519,177.6978 C165.4044,185.1586 166.3802,192.8026 167.3463,200.3712 C167.5878,202.2634 167.8287,204.1508 168.0685,206.0295 C168.1884,206.9689 168.308,207.906 168.4273,208.8405 C168.4571,209.0741 168.4869,209.3076 168.5167,209.5408 \" fill=\"none\" id=\"E5-to-E2\" style=\"stroke:#181818;stroke-width:1.0;stroke-dasharray:7.0,7.0;\"/><polygon fill=\"#181818\" points=\"168.5167,209.5408,171.345,200.1068,167.8836,204.5811,163.4094,201.1197,168.5167,209.5408\" style=\"stroke:#181818;stroke-width:1.0;\"/><text fill=\"#000000\" font-family=\"sans-serif\" font-size=\"13\" lengthAdjust=\"spacing\" textLength=\"65\" x=\"166\" y=\"182.0669\">«import»*</text></a></g><!--MD5=[a717450b82c80b9240a525fa862496af]\n",
       "link E6 to E3--><g id=\"link_E6_E3\"><a href=\"psysml:d6b7e27f-bd18-4212-9fb0-b02d6224d86d\" target=\"_top\" title=\"psysml:d6b7e27f-bd18-4212-9fb0-b02d6224d86d\" xlink:actuate=\"onRequest\" xlink:href=\"psysml:d6b7e27f-bd18-4212-9fb0-b02d6224d86d\" xlink:show=\"new\" xlink:title=\"psysml:d6b7e27f-bd18-4212-9fb0-b02d6224d86d\" xlink:type=\"simple\"><path d=\"M81.23,134.72 C85.88,160.19 93.44,201.63 99.17,233.06 \" fill=\"none\" id=\"E6-to-E3\" style=\"stroke:#181818;stroke-width:1.0;\"/><polygon fill=\"#FFFFFF\" points=\"102.79,252.9,92.4985,235.462,106.2719,232.9532,102.79,252.9\" style=\"stroke:#181818;stroke-width:1.0;\"/><ellipse cx=\"93.4447\" cy=\"229.4958\" fill=\"#181818\" rx=\"2\" ry=\"2\" style=\"stroke:#181818;stroke-width:1.0;\"/><ellipse cx=\"103.2828\" cy=\"227.7038\" fill=\"#181818\" rx=\"2\" ry=\"2\" style=\"stroke:#181818;stroke-width:1.0;\"/></a></g><!--MD5=[9690bf63b96eebc0df340b5ca62a46a0]\n",
       "@startuml\r\n",
       "skin sysmlbw\r\n",
       "skinparam monochrome true\r\n",
       "skinparam wrapWidth 300\r\n",
       "hide circle\r\n",
       " \r\n",
       "package \"QualifiedNameImportTest\" as E1  [[psysml:c4b7552d-b9f7-430e-8774-a992809b5587 ]]  {\r\n",
       "package \"P1\" as E2  [[psysml:50965905-a474-4117-8075-2a307b415370 ]]  {\r\n",
       "comp def \"A\" as E3  <<(T,blue) part  def>> [[psysml:7bcd0150-a304-4bd6-beeb-4a591e07f43e ]] {\r\n",
       "}\r\n",
       "}\r\n",
       "package \"P2\" as E4  [[psysml:baf5ed1e-c4c1-4a5d-ad5e-204bd26a43d4 ]]  {\r\n",
       "package \"P2a\" as E5  [[psysml:70275c95-cc90-4a8f-9ab9-2df7f67b6861 ]]  {\r\n",
       "}\r\n",
       "comp usage \"x: A  \" as E6  <<(T,blue) part>> [[psysml:1e68c641-a483-45d8-8926-6ab40309dfc3 ]] {\r\n",
       "}\r\n",
       "}\r\n",
       "}\r\n",
       "E5 ..> E2 [[psysml:0b7a29bb-3729-45f6-9ea2-8894bf23e053 ]] : <<import>>*\r\n",
       "E6 - -:|> E3 [[psysml:d6b7e27f-bd18-4212-9fb0-b02d6224d86d ]] \r\n",
       "@enduml\r\n",
       "\n",
       "PlantUML version 1.2022.7(Mon Aug 22 17:01:30 UTC 2022)\n",
       "(EPL source distribution)\n",
       "Java Runtime: OpenJDK Runtime Environment\n",
       "JVM: OpenJDK 64-Bit Server VM\n",
       "Default Encoding: UTF-8\n",
       "Language: en\n",
       "Country: null\n",
       "--></g></svg>"
      ]
     },
     "execution_count": 8,
     "metadata": {},
     "output_type": "execute_result"
    }
   ],
   "source": [
    "%viz --style=\"COMPTREE\" --view=\"MIXED\" \"QualifiedNameImportTest\""
   ]
  },
  {
   "cell_type": "code",
   "execution_count": 9,
   "id": "a30db821",
   "metadata": {
    "execution": {
     "iopub.execute_input": "2024-12-16T03:25:41.472627Z",
     "iopub.status.busy": "2024-12-16T03:25:41.472396Z",
     "iopub.status.idle": "2024-12-16T03:25:41.496390Z",
     "shell.execute_reply": "2024-12-16T03:25:41.495541Z"
    }
   },
   "outputs": [
    {
     "data": {
      "image/svg+xml": [
       "<?xml version=\"1.0\" encoding=\"UTF-8\" standalone=\"no\"?><svg xmlns=\"http://www.w3.org/2000/svg\" xmlns:xlink=\"http://www.w3.org/1999/xlink\" contentStyleType=\"text/css\" height=\"364px\" preserveAspectRatio=\"none\" style=\"width:239px;height:364px;background:#FFFFFF;\" version=\"1.1\" viewBox=\"0 0 239 364\" width=\"239px\" zoomAndPan=\"magnify\"><defs/><g><!--MD5=[fbc87193dbaf4d95561dea2c320d4a47]\n",
       "cluster E1--><g id=\"cluster_E1\"><a href=\"psysml:c4b7552d-b9f7-430e-8774-a992809b5587\" target=\"_top\" title=\"psysml:c4b7552d-b9f7-430e-8774-a992809b5587\" xlink:actuate=\"onRequest\" xlink:href=\"psysml:c4b7552d-b9f7-430e-8774-a992809b5587\" xlink:show=\"new\" xlink:title=\"psysml:c4b7552d-b9f7-430e-8774-a992809b5587\" xlink:type=\"simple\"><polygon fill=\"none\" points=\"16,6,206.0625,6,213.0625,28.2969,219,28.2969,219,357,16,357,16,6\" style=\"stroke:#000000;stroke-width:1.5;\"/><line style=\"stroke:#000000;stroke-width:1.5;\" x1=\"16\" x2=\"213.0625\" y1=\"28.2969\" y2=\"28.2969\"/><text fill=\"#000000\" font-family=\"sans-serif\" font-size=\"14\" font-weight=\"bold\" lengthAdjust=\"spacing\" textLength=\"184.0625\" x=\"20\" y=\"20.9951\">QualifiedNameImportTest</text></a></g><!--MD5=[e4f7fae6ed58524ba242bb0b0d3be6b7]\n",
       "cluster E2--><g id=\"cluster_E2\"><a href=\"psysml:50965905-a474-4117-8075-2a307b415370\" target=\"_top\" title=\"psysml:50965905-a474-4117-8075-2a307b415370\" xlink:actuate=\"onRequest\" xlink:href=\"psysml:50965905-a474-4117-8075-2a307b415370\" xlink:show=\"new\" xlink:title=\"psysml:50965905-a474-4117-8075-2a307b415370\" xlink:type=\"simple\"><polygon fill=\"none\" points=\"48,210,72.875,210,79.875,232.2969,185,232.2969,185,325,48,325,48,210\" style=\"stroke:#000000;stroke-width:1.5;\"/><line style=\"stroke:#000000;stroke-width:1.5;\" x1=\"48\" x2=\"79.875\" y1=\"232.2969\" y2=\"232.2969\"/><text fill=\"#000000\" font-family=\"sans-serif\" font-size=\"14\" font-weight=\"bold\" lengthAdjust=\"spacing\" textLength=\"18.875\" x=\"52\" y=\"224.9951\">P1</text></a></g><!--MD5=[f6df4d0ebaf0b5dfb2ced0ae5af7c670]\n",
       "cluster E4--><g id=\"cluster_E4\"><a href=\"psysml:baf5ed1e-c4c1-4a5d-ad5e-204bd26a43d4\" target=\"_top\" title=\"psysml:baf5ed1e-c4c1-4a5d-ad5e-204bd26a43d4\" xlink:actuate=\"onRequest\" xlink:href=\"psysml:baf5ed1e-c4c1-4a5d-ad5e-204bd26a43d4\" xlink:show=\"new\" xlink:title=\"psysml:baf5ed1e-c4c1-4a5d-ad5e-204bd26a43d4\" xlink:type=\"simple\"><polygon fill=\"none\" points=\"40,49,64.875,49,71.875,71.2969,195,71.2969,195,153,40,153,40,49\" style=\"stroke:#000000;stroke-width:1.5;\"/><line style=\"stroke:#000000;stroke-width:1.5;\" x1=\"40\" x2=\"71.875\" y1=\"71.2969\" y2=\"71.2969\"/><text fill=\"#000000\" font-family=\"sans-serif\" font-size=\"14\" font-weight=\"bold\" lengthAdjust=\"spacing\" textLength=\"18.875\" x=\"44\" y=\"63.9951\">P2</text></a></g><!--MD5=[09b614a08d8cba4a07c9adeb5e0fee81]\n",
       "class E3--><a href=\"psysml:7bcd0150-a304-4bd6-beeb-4a591e07f43e\" target=\"_top\" title=\"psysml:7bcd0150-a304-4bd6-beeb-4a591e07f43e\" xlink:actuate=\"onRequest\" xlink:href=\"psysml:7bcd0150-a304-4bd6-beeb-4a591e07f43e\" xlink:show=\"new\" xlink:title=\"psysml:7bcd0150-a304-4bd6-beeb-4a591e07f43e\" xlink:type=\"simple\"><g id=\"elem_E3\"><rect fill=\"#FFFFFF\" height=\"48.2656\" id=\"E3\" style=\"stroke:#181818;stroke-width:0.5;\" width=\"70\" x=\"72\" y=\"253\"/><text fill=\"#000000\" font-family=\"sans-serif\" font-size=\"12\" font-style=\"italic\" lengthAdjust=\"spacing\" textLength=\"68\" x=\"73\" y=\"269.1387\">«part  def»</text><text fill=\"#000000\" font-family=\"sans-serif\" font-size=\"14\" lengthAdjust=\"spacing\" textLength=\"9\" x=\"102.5\" y=\"284.9639\">A</text><line style=\"stroke:#181818;stroke-width:0.5;\" x1=\"73\" x2=\"141\" y1=\"293.2656\" y2=\"293.2656\"/></g></a><!--MD5=[60a26617385b1d2d0262a64233df1f8d]\n",
       "class E6--><a href=\"psysml:1e68c641-a483-45d8-8926-6ab40309dfc3\" target=\"_top\" title=\"psysml:1e68c641-a483-45d8-8926-6ab40309dfc3\" xlink:actuate=\"onRequest\" xlink:href=\"psysml:1e68c641-a483-45d8-8926-6ab40309dfc3\" xlink:show=\"new\" xlink:title=\"psysml:1e68c641-a483-45d8-8926-6ab40309dfc3\" xlink:type=\"simple\"><g id=\"elem_E6\"><rect fill=\"#FFFFFF\" height=\"48.2656\" id=\"E6\" rx=\"10\" ry=\"10\" style=\"stroke:#181818;stroke-width:0.5;\" width=\"42\" x=\"56\" y=\"86.5\"/><text fill=\"#000000\" font-family=\"sans-serif\" font-size=\"12\" font-style=\"italic\" lengthAdjust=\"spacing\" textLength=\"40\" x=\"57\" y=\"102.6387\">«part»</text><text fill=\"#000000\" font-family=\"sans-serif\" font-size=\"14\" lengthAdjust=\"spacing\" textLength=\"25\" x=\"60.5\" y=\"118.4639\">x: A</text><line style=\"stroke:#181818;stroke-width:0.5;\" x1=\"57\" x2=\"97\" y1=\"126.7656\" y2=\"126.7656\"/></g></a><a href=\"psysml:70275c95-cc90-4a8f-9ab9-2df7f67b6861\" target=\"_top\" title=\"psysml:70275c95-cc90-4a8f-9ab9-2df7f67b6861\" xlink:actuate=\"onRequest\" xlink:href=\"psysml:70275c95-cc90-4a8f-9ab9-2df7f67b6861\" xlink:show=\"new\" xlink:title=\"psysml:70275c95-cc90-4a8f-9ab9-2df7f67b6861\" xlink:type=\"simple\"><polygon fill=\"#FFFFFF\" points=\"133,84,165,84,172,106.2969,179,106.2969,179,136.5938,133,136.5938,133,84\" style=\"stroke:#181818;stroke-width:0.5;\"/><line style=\"stroke:#181818;stroke-width:0.5;\" x1=\"133\" x2=\"172\" y1=\"106.2969\" y2=\"106.2969\"/><text fill=\"#000000\" font-family=\"sans-serif\" font-size=\"14\" lengthAdjust=\"spacing\" textLength=\"26\" x=\"137\" y=\"98.9951\">P2a</text></a><!--MD5=[15ebcb19ae302d9b601edb458606d402]\n",
       "link E5 to E2--><g id=\"link_E5_E2\"><a href=\"psysml:0b7a29bb-3729-45f6-9ea2-8894bf23e053\" target=\"_top\" title=\"psysml:0b7a29bb-3729-45f6-9ea2-8894bf23e053\" xlink:actuate=\"onRequest\" xlink:href=\"psysml:0b7a29bb-3729-45f6-9ea2-8894bf23e053\" xlink:show=\"new\" xlink:title=\"psysml:0b7a29bb-3729-45f6-9ea2-8894bf23e053\" xlink:type=\"simple\"><path d=\"M159.28,137.2 C160.735,148.5875 162.5469,162.7762 164.4519,177.6978 C165.4044,185.1586 166.3802,192.8026 167.3463,200.3712 C167.5878,202.2634 167.8287,204.1508 168.0685,206.0295 C168.1884,206.9689 168.308,207.906 168.4273,208.8405 C168.4571,209.0741 168.4869,209.3076 168.5167,209.5408 \" fill=\"none\" id=\"E5-to-E2\" style=\"stroke:#181818;stroke-width:1.0;stroke-dasharray:7.0,7.0;\"/><polygon fill=\"#181818\" points=\"168.5167,209.5408,171.345,200.1068,167.8836,204.5811,163.4094,201.1197,168.5167,209.5408\" style=\"stroke:#181818;stroke-width:1.0;\"/><text fill=\"#000000\" font-family=\"sans-serif\" font-size=\"13\" lengthAdjust=\"spacing\" textLength=\"65\" x=\"166\" y=\"182.0669\">«import»*</text></a></g><!--MD5=[a717450b82c80b9240a525fa862496af]\n",
       "link E6 to E3--><g id=\"link_E6_E3\"><a href=\"psysml:d6b7e27f-bd18-4212-9fb0-b02d6224d86d\" target=\"_top\" title=\"psysml:d6b7e27f-bd18-4212-9fb0-b02d6224d86d\" xlink:actuate=\"onRequest\" xlink:href=\"psysml:d6b7e27f-bd18-4212-9fb0-b02d6224d86d\" xlink:show=\"new\" xlink:title=\"psysml:d6b7e27f-bd18-4212-9fb0-b02d6224d86d\" xlink:type=\"simple\"><path d=\"M81.23,134.72 C85.88,160.19 93.44,201.63 99.17,233.06 \" fill=\"none\" id=\"E6-to-E3\" style=\"stroke:#181818;stroke-width:1.0;\"/><polygon fill=\"#FFFFFF\" points=\"102.79,252.9,92.4985,235.462,106.2719,232.9532,102.79,252.9\" style=\"stroke:#181818;stroke-width:1.0;\"/><ellipse cx=\"93.4447\" cy=\"229.4958\" fill=\"#181818\" rx=\"2\" ry=\"2\" style=\"stroke:#181818;stroke-width:1.0;\"/><ellipse cx=\"103.2828\" cy=\"227.7038\" fill=\"#181818\" rx=\"2\" ry=\"2\" style=\"stroke:#181818;stroke-width:1.0;\"/></a></g><!--MD5=[dc4a5c160c0368d96c6deb6609a35ea3]\n",
       "@startuml\r\n",
       "skin sysmlbw\r\n",
       "skinparam monochrome true\r\n",
       "skinparam wrapWidth 300\r\n",
       "hide circle\r\n",
       "skinparam linetype polyline\r\n",
       "\r\n",
       "package \"QualifiedNameImportTest\" as E1  [[psysml:c4b7552d-b9f7-430e-8774-a992809b5587 ]]  {\r\n",
       "package \"P1\" as E2  [[psysml:50965905-a474-4117-8075-2a307b415370 ]]  {\r\n",
       "comp def \"A\" as E3  <<(T,blue) part  def>> [[psysml:7bcd0150-a304-4bd6-beeb-4a591e07f43e ]] {\r\n",
       "}\r\n",
       "}\r\n",
       "package \"P2\" as E4  [[psysml:baf5ed1e-c4c1-4a5d-ad5e-204bd26a43d4 ]]  {\r\n",
       "package \"P2a\" as E5  [[psysml:70275c95-cc90-4a8f-9ab9-2df7f67b6861 ]]  {\r\n",
       "}\r\n",
       "comp usage \"x: A  \" as E6  <<(T,blue) part>> [[psysml:1e68c641-a483-45d8-8926-6ab40309dfc3 ]] {\r\n",
       "}\r\n",
       "}\r\n",
       "}\r\n",
       "E5 ..> E2 [[psysml:0b7a29bb-3729-45f6-9ea2-8894bf23e053 ]] : <<import>>*\r\n",
       "E6 - -:|> E3 [[psysml:d6b7e27f-bd18-4212-9fb0-b02d6224d86d ]] \r\n",
       "@enduml\r\n",
       "\n",
       "PlantUML version 1.2022.7(Mon Aug 22 17:01:30 UTC 2022)\n",
       "(EPL source distribution)\n",
       "Java Runtime: OpenJDK Runtime Environment\n",
       "JVM: OpenJDK 64-Bit Server VM\n",
       "Default Encoding: UTF-8\n",
       "Language: en\n",
       "Country: null\n",
       "--></g></svg>"
      ]
     },
     "execution_count": 9,
     "metadata": {},
     "output_type": "execute_result"
    }
   ],
   "source": [
    "%viz --style=\"POLYLINE\" --view=\"Default\" \"QualifiedNameImportTest\""
   ]
  },
  {
   "cell_type": "code",
   "execution_count": 10,
   "id": "7af2f60e",
   "metadata": {
    "execution": {
     "iopub.execute_input": "2024-12-16T03:25:41.548350Z",
     "iopub.status.busy": "2024-12-16T03:25:41.548141Z",
     "iopub.status.idle": "2024-12-16T03:25:41.566119Z",
     "shell.execute_reply": "2024-12-16T03:25:41.566240Z"
    }
   },
   "outputs": [
    {
     "data": {
      "image/svg+xml": [
       "<?xml version=\"1.0\" encoding=\"UTF-8\" standalone=\"no\"?><svg xmlns=\"http://www.w3.org/2000/svg\" xmlns:xlink=\"http://www.w3.org/1999/xlink\" contentStyleType=\"text/css\" height=\"364px\" preserveAspectRatio=\"none\" style=\"width:239px;height:364px;background:#FFFFFF;\" version=\"1.1\" viewBox=\"0 0 239 364\" width=\"239px\" zoomAndPan=\"magnify\"><defs/><g><!--MD5=[fbc87193dbaf4d95561dea2c320d4a47]\n",
       "cluster E1--><g id=\"cluster_E1\"><a href=\"psysml:c4b7552d-b9f7-430e-8774-a992809b5587\" target=\"_top\" title=\"psysml:c4b7552d-b9f7-430e-8774-a992809b5587\" xlink:actuate=\"onRequest\" xlink:href=\"psysml:c4b7552d-b9f7-430e-8774-a992809b5587\" xlink:show=\"new\" xlink:title=\"psysml:c4b7552d-b9f7-430e-8774-a992809b5587\" xlink:type=\"simple\"><polygon fill=\"none\" points=\"16,6,206.0625,6,213.0625,28.2969,219,28.2969,219,357,16,357,16,6\" style=\"stroke:#000000;stroke-width:1.5;\"/><line style=\"stroke:#000000;stroke-width:1.5;\" x1=\"16\" x2=\"213.0625\" y1=\"28.2969\" y2=\"28.2969\"/><text fill=\"#000000\" font-family=\"sans-serif\" font-size=\"14\" font-weight=\"bold\" lengthAdjust=\"spacing\" textLength=\"184.0625\" x=\"20\" y=\"20.9951\">QualifiedNameImportTest</text></a></g><!--MD5=[e4f7fae6ed58524ba242bb0b0d3be6b7]\n",
       "cluster E2--><g id=\"cluster_E2\"><a href=\"psysml:50965905-a474-4117-8075-2a307b415370\" target=\"_top\" title=\"psysml:50965905-a474-4117-8075-2a307b415370\" xlink:actuate=\"onRequest\" xlink:href=\"psysml:50965905-a474-4117-8075-2a307b415370\" xlink:show=\"new\" xlink:title=\"psysml:50965905-a474-4117-8075-2a307b415370\" xlink:type=\"simple\"><polygon fill=\"none\" points=\"48,210,72.875,210,79.875,232.2969,185,232.2969,185,325,48,325,48,210\" style=\"stroke:#000000;stroke-width:1.5;\"/><line style=\"stroke:#000000;stroke-width:1.5;\" x1=\"48\" x2=\"79.875\" y1=\"232.2969\" y2=\"232.2969\"/><text fill=\"#000000\" font-family=\"sans-serif\" font-size=\"14\" font-weight=\"bold\" lengthAdjust=\"spacing\" textLength=\"18.875\" x=\"52\" y=\"224.9951\">P1</text></a></g><!--MD5=[f6df4d0ebaf0b5dfb2ced0ae5af7c670]\n",
       "cluster E4--><g id=\"cluster_E4\"><a href=\"psysml:baf5ed1e-c4c1-4a5d-ad5e-204bd26a43d4\" target=\"_top\" title=\"psysml:baf5ed1e-c4c1-4a5d-ad5e-204bd26a43d4\" xlink:actuate=\"onRequest\" xlink:href=\"psysml:baf5ed1e-c4c1-4a5d-ad5e-204bd26a43d4\" xlink:show=\"new\" xlink:title=\"psysml:baf5ed1e-c4c1-4a5d-ad5e-204bd26a43d4\" xlink:type=\"simple\"><polygon fill=\"none\" points=\"40,49,64.875,49,71.875,71.2969,195,71.2969,195,153,40,153,40,49\" style=\"stroke:#000000;stroke-width:1.5;\"/><line style=\"stroke:#000000;stroke-width:1.5;\" x1=\"40\" x2=\"71.875\" y1=\"71.2969\" y2=\"71.2969\"/><text fill=\"#000000\" font-family=\"sans-serif\" font-size=\"14\" font-weight=\"bold\" lengthAdjust=\"spacing\" textLength=\"18.875\" x=\"44\" y=\"63.9951\">P2</text></a></g><!--MD5=[09b614a08d8cba4a07c9adeb5e0fee81]\n",
       "class E3--><a href=\"psysml:7bcd0150-a304-4bd6-beeb-4a591e07f43e\" target=\"_top\" title=\"psysml:7bcd0150-a304-4bd6-beeb-4a591e07f43e\" xlink:actuate=\"onRequest\" xlink:href=\"psysml:7bcd0150-a304-4bd6-beeb-4a591e07f43e\" xlink:show=\"new\" xlink:title=\"psysml:7bcd0150-a304-4bd6-beeb-4a591e07f43e\" xlink:type=\"simple\"><g id=\"elem_E3\"><rect fill=\"#FFFFFF\" height=\"48.2656\" id=\"E3\" style=\"stroke:#181818;stroke-width:0.5;\" width=\"70\" x=\"72\" y=\"253\"/><text fill=\"#000000\" font-family=\"sans-serif\" font-size=\"12\" font-style=\"italic\" lengthAdjust=\"spacing\" textLength=\"68\" x=\"73\" y=\"269.1387\">«part  def»</text><text fill=\"#000000\" font-family=\"sans-serif\" font-size=\"14\" lengthAdjust=\"spacing\" textLength=\"9\" x=\"102.5\" y=\"284.9639\">A</text><line style=\"stroke:#181818;stroke-width:0.5;\" x1=\"73\" x2=\"141\" y1=\"293.2656\" y2=\"293.2656\"/></g></a><!--MD5=[60a26617385b1d2d0262a64233df1f8d]\n",
       "class E6--><a href=\"psysml:1e68c641-a483-45d8-8926-6ab40309dfc3\" target=\"_top\" title=\"psysml:1e68c641-a483-45d8-8926-6ab40309dfc3\" xlink:actuate=\"onRequest\" xlink:href=\"psysml:1e68c641-a483-45d8-8926-6ab40309dfc3\" xlink:show=\"new\" xlink:title=\"psysml:1e68c641-a483-45d8-8926-6ab40309dfc3\" xlink:type=\"simple\"><g id=\"elem_E6\"><rect fill=\"#FFFFFF\" height=\"48.2656\" id=\"E6\" rx=\"10\" ry=\"10\" style=\"stroke:#181818;stroke-width:0.5;\" width=\"42\" x=\"56\" y=\"86.5\"/><text fill=\"#000000\" font-family=\"sans-serif\" font-size=\"12\" font-style=\"italic\" lengthAdjust=\"spacing\" textLength=\"40\" x=\"57\" y=\"102.6387\">«part»</text><text fill=\"#000000\" font-family=\"sans-serif\" font-size=\"14\" lengthAdjust=\"spacing\" textLength=\"25\" x=\"60.5\" y=\"118.4639\">x: A</text><line style=\"stroke:#181818;stroke-width:0.5;\" x1=\"57\" x2=\"97\" y1=\"126.7656\" y2=\"126.7656\"/></g></a><a href=\"psysml:70275c95-cc90-4a8f-9ab9-2df7f67b6861\" target=\"_top\" title=\"psysml:70275c95-cc90-4a8f-9ab9-2df7f67b6861\" xlink:actuate=\"onRequest\" xlink:href=\"psysml:70275c95-cc90-4a8f-9ab9-2df7f67b6861\" xlink:show=\"new\" xlink:title=\"psysml:70275c95-cc90-4a8f-9ab9-2df7f67b6861\" xlink:type=\"simple\"><polygon fill=\"#FFFFFF\" points=\"133,84,165,84,172,106.2969,179,106.2969,179,136.5938,133,136.5938,133,84\" style=\"stroke:#181818;stroke-width:0.5;\"/><line style=\"stroke:#181818;stroke-width:0.5;\" x1=\"133\" x2=\"172\" y1=\"106.2969\" y2=\"106.2969\"/><text fill=\"#000000\" font-family=\"sans-serif\" font-size=\"14\" lengthAdjust=\"spacing\" textLength=\"26\" x=\"137\" y=\"98.9951\">P2a</text></a><!--MD5=[15ebcb19ae302d9b601edb458606d402]\n",
       "link E5 to E2--><g id=\"link_E5_E2\"><a href=\"psysml:0b7a29bb-3729-45f6-9ea2-8894bf23e053\" target=\"_top\" title=\"psysml:0b7a29bb-3729-45f6-9ea2-8894bf23e053\" xlink:actuate=\"onRequest\" xlink:href=\"psysml:0b7a29bb-3729-45f6-9ea2-8894bf23e053\" xlink:show=\"new\" xlink:title=\"psysml:0b7a29bb-3729-45f6-9ea2-8894bf23e053\" xlink:type=\"simple\"><path d=\"M159.28,137.2 C160.735,148.5875 162.5469,162.7762 164.4519,177.6978 C165.4044,185.1586 166.3802,192.8026 167.3463,200.3712 C167.5878,202.2634 167.8287,204.1508 168.0685,206.0295 C168.1884,206.9689 168.308,207.906 168.4273,208.8405 C168.4571,209.0741 168.4869,209.3076 168.5167,209.5408 \" fill=\"none\" id=\"E5-to-E2\" style=\"stroke:#181818;stroke-width:1.0;stroke-dasharray:7.0,7.0;\"/><polygon fill=\"#181818\" points=\"168.5167,209.5408,171.345,200.1068,167.8836,204.5811,163.4094,201.1197,168.5167,209.5408\" style=\"stroke:#181818;stroke-width:1.0;\"/><text fill=\"#000000\" font-family=\"sans-serif\" font-size=\"13\" lengthAdjust=\"spacing\" textLength=\"65\" x=\"166\" y=\"182.0669\">«import»*</text></a></g><!--MD5=[a717450b82c80b9240a525fa862496af]\n",
       "link E6 to E3--><g id=\"link_E6_E3\"><a href=\"psysml:d6b7e27f-bd18-4212-9fb0-b02d6224d86d\" target=\"_top\" title=\"psysml:d6b7e27f-bd18-4212-9fb0-b02d6224d86d\" xlink:actuate=\"onRequest\" xlink:href=\"psysml:d6b7e27f-bd18-4212-9fb0-b02d6224d86d\" xlink:show=\"new\" xlink:title=\"psysml:d6b7e27f-bd18-4212-9fb0-b02d6224d86d\" xlink:type=\"simple\"><path d=\"M81.23,134.72 C85.88,160.19 93.44,201.63 99.17,233.06 \" fill=\"none\" id=\"E6-to-E3\" style=\"stroke:#181818;stroke-width:1.0;\"/><polygon fill=\"#FFFFFF\" points=\"102.79,252.9,92.4985,235.462,106.2719,232.9532,102.79,252.9\" style=\"stroke:#181818;stroke-width:1.0;\"/><ellipse cx=\"93.4447\" cy=\"229.4958\" fill=\"#181818\" rx=\"2\" ry=\"2\" style=\"stroke:#181818;stroke-width:1.0;\"/><ellipse cx=\"103.2828\" cy=\"227.7038\" fill=\"#181818\" rx=\"2\" ry=\"2\" style=\"stroke:#181818;stroke-width:1.0;\"/></a></g><!--MD5=[dc4a5c160c0368d96c6deb6609a35ea3]\n",
       "@startuml\r\n",
       "skin sysmlbw\r\n",
       "skinparam monochrome true\r\n",
       "skinparam wrapWidth 300\r\n",
       "hide circle\r\n",
       "skinparam linetype polyline\r\n",
       "\r\n",
       "package \"QualifiedNameImportTest\" as E1  [[psysml:c4b7552d-b9f7-430e-8774-a992809b5587 ]]  {\r\n",
       "package \"P1\" as E2  [[psysml:50965905-a474-4117-8075-2a307b415370 ]]  {\r\n",
       "comp def \"A\" as E3  <<(T,blue) part  def>> [[psysml:7bcd0150-a304-4bd6-beeb-4a591e07f43e ]] {\r\n",
       "}\r\n",
       "}\r\n",
       "package \"P2\" as E4  [[psysml:baf5ed1e-c4c1-4a5d-ad5e-204bd26a43d4 ]]  {\r\n",
       "package \"P2a\" as E5  [[psysml:70275c95-cc90-4a8f-9ab9-2df7f67b6861 ]]  {\r\n",
       "}\r\n",
       "comp usage \"x: A  \" as E6  <<(T,blue) part>> [[psysml:1e68c641-a483-45d8-8926-6ab40309dfc3 ]] {\r\n",
       "}\r\n",
       "}\r\n",
       "}\r\n",
       "E5 ..> E2 [[psysml:0b7a29bb-3729-45f6-9ea2-8894bf23e053 ]] : <<import>>*\r\n",
       "E6 - -:|> E3 [[psysml:d6b7e27f-bd18-4212-9fb0-b02d6224d86d ]] \r\n",
       "@enduml\r\n",
       "\n",
       "PlantUML version 1.2022.7(Mon Aug 22 17:01:30 UTC 2022)\n",
       "(EPL source distribution)\n",
       "Java Runtime: OpenJDK Runtime Environment\n",
       "JVM: OpenJDK 64-Bit Server VM\n",
       "Default Encoding: UTF-8\n",
       "Language: en\n",
       "Country: null\n",
       "--></g></svg>"
      ]
     },
     "execution_count": 10,
     "metadata": {},
     "output_type": "execute_result"
    }
   ],
   "source": [
    "%viz --style=\"POLYLINE\" --view=\"Tree\" \"QualifiedNameImportTest\""
   ]
  },
  {
   "cell_type": "code",
   "execution_count": 11,
   "id": "0382a32d",
   "metadata": {
    "execution": {
     "iopub.execute_input": "2024-12-16T03:25:41.619363Z",
     "iopub.status.busy": "2024-12-16T03:25:41.619124Z",
     "iopub.status.idle": "2024-12-16T03:25:41.624805Z",
     "shell.execute_reply": "2024-12-16T03:25:41.624598Z"
    }
   },
   "outputs": [
    {
     "data": {
      "image/svg+xml": [
       "<?xml version=\"1.0\" encoding=\"UTF-8\" standalone=\"no\"?><svg xmlns=\"http://www.w3.org/2000/svg\" xmlns:xlink=\"http://www.w3.org/1999/xlink\" contentStyleType=\"text/css\" height=\"10px\" preserveAspectRatio=\"none\" style=\"width:10px;height:10px;background:#FFFFFF;\" version=\"1.1\" viewBox=\"0 0 10 10\" width=\"10px\" zoomAndPan=\"magnify\"><defs/><g><!--MD5=[20bed88d98f2aabbefdc8661420d403d]\n",
       "@startuml\r\n",
       "skin sysmlbw\r\n",
       "skinparam monochrome true\r\n",
       "skinparam wrapWidth 300\r\n",
       "hide circle\r\n",
       "skinparam linetype polyline\r\n",
       "\r\n",
       "@enduml\r\n",
       "\n",
       "PlantUML version 1.2022.7(Mon Aug 22 17:01:30 UTC 2022)\n",
       "(EPL source distribution)\n",
       "Java Runtime: OpenJDK Runtime Environment\n",
       "JVM: OpenJDK 64-Bit Server VM\n",
       "Default Encoding: UTF-8\n",
       "Language: en\n",
       "Country: null\n",
       "--></g></svg>"
      ]
     },
     "execution_count": 11,
     "metadata": {},
     "output_type": "execute_result"
    }
   ],
   "source": [
    "%viz --style=\"POLYLINE\" --view=\"State\" \"QualifiedNameImportTest\""
   ]
  },
  {
   "cell_type": "code",
   "execution_count": 12,
   "id": "1d8d3636",
   "metadata": {
    "execution": {
     "iopub.execute_input": "2024-12-16T03:25:41.677653Z",
     "iopub.status.busy": "2024-12-16T03:25:41.677423Z",
     "iopub.status.idle": "2024-12-16T03:25:41.697031Z",
     "shell.execute_reply": "2024-12-16T03:25:41.696291Z"
    }
   },
   "outputs": [
    {
     "data": {
      "image/svg+xml": [
       "<?xml version=\"1.0\" encoding=\"UTF-8\" standalone=\"no\"?><svg xmlns=\"http://www.w3.org/2000/svg\" xmlns:xlink=\"http://www.w3.org/1999/xlink\" contentStyleType=\"text/css\" height=\"361px\" preserveAspectRatio=\"none\" style=\"width:244px;height:361px;background:#FFFFFF;\" version=\"1.1\" viewBox=\"0 0 244 361\" width=\"244px\" zoomAndPan=\"magnify\"><defs/><g><!--MD5=[fbc87193dbaf4d95561dea2c320d4a47]\n",
       "cluster E1--><g id=\"cluster_E1\"><a href=\"psysml:c4b7552d-b9f7-430e-8774-a992809b5587\" target=\"_top\" title=\"psysml:c4b7552d-b9f7-430e-8774-a992809b5587\" xlink:actuate=\"onRequest\" xlink:href=\"psysml:c4b7552d-b9f7-430e-8774-a992809b5587\" xlink:show=\"new\" xlink:title=\"psysml:c4b7552d-b9f7-430e-8774-a992809b5587\" xlink:type=\"simple\"><polygon fill=\"none\" points=\"16,6,206.0625,6,213.0625,28.2969,227,28.2969,227,354,16,354,16,6\" style=\"stroke:#000000;stroke-width:1.5;\"/><line style=\"stroke:#000000;stroke-width:1.5;\" x1=\"16\" x2=\"213.0625\" y1=\"28.2969\" y2=\"28.2969\"/><text fill=\"#000000\" font-family=\"sans-serif\" font-size=\"14\" font-weight=\"bold\" lengthAdjust=\"spacing\" textLength=\"184.0625\" x=\"20\" y=\"20.9951\">QualifiedNameImportTest</text></a></g><!--MD5=[e4f7fae6ed58524ba242bb0b0d3be6b7]\n",
       "cluster E2--><g id=\"cluster_E2\"><a href=\"psysml:50965905-a474-4117-8075-2a307b415370\" target=\"_top\" title=\"psysml:50965905-a474-4117-8075-2a307b415370\" xlink:actuate=\"onRequest\" xlink:href=\"psysml:50965905-a474-4117-8075-2a307b415370\" xlink:show=\"new\" xlink:title=\"psysml:50965905-a474-4117-8075-2a307b415370\" xlink:type=\"simple\"><polygon fill=\"none\" points=\"53,210,77.875,210,84.875,232.2969,195,232.2969,195,322,53,322,53,210\" style=\"stroke:#000000;stroke-width:1.5;\"/><line style=\"stroke:#000000;stroke-width:1.5;\" x1=\"53\" x2=\"84.875\" y1=\"232.2969\" y2=\"232.2969\"/><text fill=\"#000000\" font-family=\"sans-serif\" font-size=\"14\" font-weight=\"bold\" lengthAdjust=\"spacing\" textLength=\"18.875\" x=\"57\" y=\"224.9951\">P1</text></a></g><!--MD5=[f6df4d0ebaf0b5dfb2ced0ae5af7c670]\n",
       "cluster E4--><g id=\"cluster_E4\"><a href=\"psysml:baf5ed1e-c4c1-4a5d-ad5e-204bd26a43d4\" target=\"_top\" title=\"psysml:baf5ed1e-c4c1-4a5d-ad5e-204bd26a43d4\" xlink:actuate=\"onRequest\" xlink:href=\"psysml:baf5ed1e-c4c1-4a5d-ad5e-204bd26a43d4\" xlink:show=\"new\" xlink:title=\"psysml:baf5ed1e-c4c1-4a5d-ad5e-204bd26a43d4\" xlink:type=\"simple\"><polygon fill=\"none\" points=\"40,49,64.875,49,71.875,71.2969,203,71.2969,203,153,40,153,40,49\" style=\"stroke:#000000;stroke-width:1.5;\"/><line style=\"stroke:#000000;stroke-width:1.5;\" x1=\"40\" x2=\"71.875\" y1=\"71.2969\" y2=\"71.2969\"/><text fill=\"#000000\" font-family=\"sans-serif\" font-size=\"14\" font-weight=\"bold\" lengthAdjust=\"spacing\" textLength=\"18.875\" x=\"44\" y=\"63.9951\">P2</text></a></g><g><a href=\"psysml:7bcd0150-a304-4bd6-beeb-4a591e07f43e\" target=\"_top\" title=\"psysml:7bcd0150-a304-4bd6-beeb-4a591e07f43e\" xlink:actuate=\"onRequest\" xlink:href=\"psysml:7bcd0150-a304-4bd6-beeb-4a591e07f43e\" xlink:show=\"new\" xlink:title=\"psysml:7bcd0150-a304-4bd6-beeb-4a591e07f43e\" xlink:type=\"simple\"><rect fill=\"#FFFFFF\" height=\"45.2656\" id=\"E3\" style=\"stroke:#383838;stroke-width:1.5;\" width=\"75\" x=\"96.5\" y=\"253\"/><text fill=\"#000000\" font-family=\"sans-serif\" font-size=\"12\" font-style=\"italic\" lengthAdjust=\"spacing\" textLength=\"68\" x=\"100\" y=\"269.1387\">«part  def»</text><text fill=\"#000000\" font-family=\"sans-serif\" font-size=\"14\" lengthAdjust=\"spacing\" textLength=\"9\" x=\"129.5\" y=\"284.9639\">A</text></a></g><a href=\"psysml:70275c95-cc90-4a8f-9ab9-2df7f67b6861\" target=\"_top\" title=\"psysml:70275c95-cc90-4a8f-9ab9-2df7f67b6861\" xlink:actuate=\"onRequest\" xlink:href=\"psysml:70275c95-cc90-4a8f-9ab9-2df7f67b6861\" xlink:show=\"new\" xlink:title=\"psysml:70275c95-cc90-4a8f-9ab9-2df7f67b6861\" xlink:type=\"simple\"><polygon fill=\"#FFFFFF\" points=\"56,84,88,84,95,106.2969,102,106.2969,102,136.5938,56,136.5938,56,84\" style=\"stroke:#181818;stroke-width:0.5;\"/><line style=\"stroke:#181818;stroke-width:0.5;\" x1=\"56\" x2=\"95\" y1=\"106.2969\" y2=\"106.2969\"/><text fill=\"#000000\" font-family=\"sans-serif\" font-size=\"14\" lengthAdjust=\"spacing\" textLength=\"26\" x=\"60\" y=\"98.9951\">P2a</text></a><g><a href=\"psysml:1e68c641-a483-45d8-8926-6ab40309dfc3\" target=\"_top\" title=\"psysml:1e68c641-a483-45d8-8926-6ab40309dfc3\" xlink:actuate=\"onRequest\" xlink:href=\"psysml:1e68c641-a483-45d8-8926-6ab40309dfc3\" xlink:show=\"new\" xlink:title=\"psysml:1e68c641-a483-45d8-8926-6ab40309dfc3\" xlink:type=\"simple\"><rect fill=\"#FFFFFF\" height=\"40\" id=\"E6\" rx=\"10\" ry=\"10\" style=\"stroke:#383838;stroke-width:1.5;\" width=\"50\" x=\"137\" y=\"90.5\"/><text fill=\"#000000\" font-family=\"sans-serif\" font-size=\"14\" lengthAdjust=\"spacing\" textLength=\"25\" x=\"149.5\" y=\"108.4951\">x: A</text></a></g><!--MD5=[15ebcb19ae302d9b601edb458606d402]\n",
       "link E5 to E2--><g id=\"link_E5_E2\"><a href=\"psysml:0b7a29bb-3729-45f6-9ea2-8894bf23e053\" target=\"_top\" title=\"psysml:0b7a29bb-3729-45f6-9ea2-8894bf23e053\" xlink:actuate=\"onRequest\" xlink:href=\"psysml:0b7a29bb-3729-45f6-9ea2-8894bf23e053\" xlink:show=\"new\" xlink:title=\"psysml:0b7a29bb-3729-45f6-9ea2-8894bf23e053\" xlink:type=\"simple\"><path d=\"M76.15,137.33 C74.9,148.64 73.3475,162.6906 71.7172,177.448 C70.902,184.8266 70.0674,192.382 69.2414,199.8598 C69.035,201.7292 68.829,203.5938 68.624,205.4496 C68.5215,206.3775 68.4193,207.3032 68.3173,208.2262 C68.2664,208.6877 68.2155,209.1485 68.1647,209.6086 \" fill=\"none\" id=\"E5-to-E2\" style=\"stroke:#181818;stroke-width:1.0;stroke-dasharray:7.0,7.0;\"/><polygon fill=\"#181818\" points=\"68.1647,209.6086,73.1285,201.1021,68.7136,204.6388,65.1769,200.2238,68.1647,209.6086\" style=\"stroke:#181818;stroke-width:1.0;\"/><text fill=\"#000000\" font-family=\"sans-serif\" font-size=\"13\" lengthAdjust=\"spacing\" textLength=\"65\" x=\"73\" y=\"182.0669\">«import»*</text></a></g><!--MD5=[a717450b82c80b9240a525fa862496af]\n",
       "link E6 to E3--><g id=\"link_E6_E3\"><a href=\"psysml:d6b7e27f-bd18-4212-9fb0-b02d6224d86d\" target=\"_top\" title=\"psysml:d6b7e27f-bd18-4212-9fb0-b02d6224d86d\" xlink:actuate=\"onRequest\" xlink:href=\"psysml:d6b7e27f-bd18-4212-9fb0-b02d6224d86d\" xlink:show=\"new\" xlink:title=\"psysml:d6b7e27f-bd18-4212-9fb0-b02d6224d86d\" xlink:type=\"simple\"><path d=\"M158.73,130.52 C154.46,155.41 146.85,199.72 141.19,232.64 \" fill=\"none\" id=\"E6-to-E3\" style=\"stroke:#181818;stroke-width:1.0;\"/><polygon fill=\"#FFFFFF\" points=\"137.73,252.76,134.047,232.8493,147.845,235.219,137.73,252.76\" style=\"stroke:#181818;stroke-width:1.0;\"/><ellipse cx=\"136.9829\" cy=\"227.5701\" fill=\"#181818\" rx=\"2\" ry=\"2\" style=\"stroke:#181818;stroke-width:1.0;\"/><ellipse cx=\"146.8386\" cy=\"229.2627\" fill=\"#181818\" rx=\"2\" ry=\"2\" style=\"stroke:#181818;stroke-width:1.0;\"/></a></g><!--MD5=[60b201b7d19a367597f13e29c7d30535]\n",
       "@startuml\r\n",
       "skin sysmlbw\r\n",
       "skinparam monochrome true\r\n",
       "skinparam wrapWidth 300\r\n",
       "hide circle\r\n",
       "skinparam linetype polyline\r\n",
       "skinparam ranksep 10\r\n",
       "skinparam rectangle {\r\n",
       " backgroundColor<<block>> LightGreen\r\n",
       "}\r\n",
       "\r\n",
       "package \"QualifiedNameImportTest\" as E1  [[psysml:c4b7552d-b9f7-430e-8774-a992809b5587 ]]  {\r\n",
       "package \"P1\" as E2  [[psysml:50965905-a474-4117-8075-2a307b415370 ]]  {\r\n",
       "rec def \"A\" as E3  <<(T,blue) part  def>> [[psysml:7bcd0150-a304-4bd6-beeb-4a591e07f43e ]] {\r\n",
       "}\r\n",
       "}\r\n",
       "package \"P2\" as E4  [[psysml:baf5ed1e-c4c1-4a5d-ad5e-204bd26a43d4 ]]  {\r\n",
       "package \"P2a\" as E5  [[psysml:70275c95-cc90-4a8f-9ab9-2df7f67b6861 ]]  {\r\n",
       "}\r\n",
       "rec usage \"x: A\" as E6 [[psysml:1e68c641-a483-45d8-8926-6ab40309dfc3 ]] {\r\n",
       "}\r\n",
       "}\r\n",
       "}\r\n",
       "E5 ..> E2 [[psysml:0b7a29bb-3729-45f6-9ea2-8894bf23e053 ]] : <<import>>*\r\n",
       "E6 - -:|> E3 [[psysml:d6b7e27f-bd18-4212-9fb0-b02d6224d86d ]] \r\n",
       "@enduml\r\n",
       "\n",
       "PlantUML version 1.2022.7(Mon Aug 22 17:01:30 UTC 2022)\n",
       "(EPL source distribution)\n",
       "Java Runtime: OpenJDK Runtime Environment\n",
       "JVM: OpenJDK 64-Bit Server VM\n",
       "Default Encoding: UTF-8\n",
       "Language: en\n",
       "Country: null\n",
       "--></g></svg>"
      ]
     },
     "execution_count": 12,
     "metadata": {},
     "output_type": "execute_result"
    }
   ],
   "source": [
    "%viz --style=\"POLYLINE\" --view=\"Interconnection\" \"QualifiedNameImportTest\""
   ]
  },
  {
   "cell_type": "code",
   "execution_count": 13,
   "id": "5c127f73",
   "metadata": {
    "execution": {
     "iopub.execute_input": "2024-12-16T03:25:41.750931Z",
     "iopub.status.busy": "2024-12-16T03:25:41.750666Z",
     "iopub.status.idle": "2024-12-16T03:25:41.755972Z",
     "shell.execute_reply": "2024-12-16T03:25:41.756111Z"
    }
   },
   "outputs": [
    {
     "data": {
      "image/svg+xml": [
       "<?xml version=\"1.0\" encoding=\"UTF-8\" standalone=\"no\"?><svg xmlns=\"http://www.w3.org/2000/svg\" xmlns:xlink=\"http://www.w3.org/1999/xlink\" contentStyleType=\"text/css\" height=\"10px\" preserveAspectRatio=\"none\" style=\"width:10px;height:10px;background:#FFFFFF;\" version=\"1.1\" viewBox=\"0 0 10 10\" width=\"10px\" zoomAndPan=\"magnify\"><defs/><g><!--MD5=[ff8e7c24accf200c4355ceeab022c402]\n",
       "@startuml\r\n",
       "skin sysmlbw\r\n",
       "skinparam monochrome true\r\n",
       "skinparam wrapWidth 300\r\n",
       "hide circle\r\n",
       "skinparam linetype polyline\r\n",
       "skinparam ranksep 8\r\n",
       "\r\n",
       "@enduml\r\n",
       "\n",
       "PlantUML version 1.2022.7(Mon Aug 22 17:01:30 UTC 2022)\n",
       "(EPL source distribution)\n",
       "Java Runtime: OpenJDK Runtime Environment\n",
       "JVM: OpenJDK 64-Bit Server VM\n",
       "Default Encoding: UTF-8\n",
       "Language: en\n",
       "Country: null\n",
       "--></g></svg>"
      ]
     },
     "execution_count": 13,
     "metadata": {},
     "output_type": "execute_result"
    }
   ],
   "source": [
    "%viz --style=\"POLYLINE\" --view=\"Action\" \"QualifiedNameImportTest\""
   ]
  },
  {
   "cell_type": "code",
   "execution_count": 14,
   "id": "57815ee4",
   "metadata": {
    "execution": {
     "iopub.execute_input": "2024-12-16T03:25:41.812585Z",
     "iopub.status.busy": "2024-12-16T03:25:41.812341Z",
     "iopub.status.idle": "2024-12-16T03:25:41.818772Z",
     "shell.execute_reply": "2024-12-16T03:25:41.818549Z"
    }
   },
   "outputs": [
    {
     "data": {
      "image/svg+xml": [
       "<?xml version=\"1.0\" encoding=\"UTF-8\" standalone=\"no\"?><svg xmlns=\"http://www.w3.org/2000/svg\" xmlns:xlink=\"http://www.w3.org/1999/xlink\" contentStyleType=\"text/css\" height=\"10px\" preserveAspectRatio=\"none\" style=\"width:10px;height:10px;background:#FFFFFF;\" version=\"1.1\" viewBox=\"0 0 10 10\" width=\"10px\" zoomAndPan=\"magnify\"><defs/><g><!--MD5=[efefafbf36b45173e0355713d9054f90]\n",
       "@startuml\r\n",
       "skin sysmlbw\r\n",
       "skinparam monochrome true\r\n",
       "skinparam wrapWidth 300\r\n",
       "hide circle\r\n",
       "skinparam linetype polyline\r\n",
       "skinparam roundcorner 20\r\n",
       "skinparam BoxPadding 20\r\n",
       "skinparam SequenceBoxBackgroundColor #white\r\n",
       "skinparam style strictuml\r\n",
       "skinparam maxMessageSize 100\r\n",
       "\r\n",
       "@enduml\r\n",
       "\n",
       "PlantUML version 1.2022.7(Mon Aug 22 17:01:30 UTC 2022)\n",
       "(EPL source distribution)\n",
       "Java Runtime: OpenJDK Runtime Environment\n",
       "JVM: OpenJDK 64-Bit Server VM\n",
       "Default Encoding: UTF-8\n",
       "Language: en\n",
       "Country: null\n",
       "--></g></svg>"
      ]
     },
     "execution_count": 14,
     "metadata": {},
     "output_type": "execute_result"
    }
   ],
   "source": [
    "%viz --style=\"POLYLINE\" --view=\"Sequence\" \"QualifiedNameImportTest\""
   ]
  },
  {
   "cell_type": "code",
   "execution_count": 15,
   "id": "0474fd3e",
   "metadata": {
    "execution": {
     "iopub.execute_input": "2024-12-16T03:25:41.875358Z",
     "iopub.status.busy": "2024-12-16T03:25:41.874839Z",
     "iopub.status.idle": "2024-12-16T03:25:41.896918Z",
     "shell.execute_reply": "2024-12-16T03:25:41.897049Z"
    }
   },
   "outputs": [
    {
     "data": {
      "image/svg+xml": [
       "<?xml version=\"1.0\" encoding=\"UTF-8\" standalone=\"no\"?><svg xmlns=\"http://www.w3.org/2000/svg\" xmlns:xlink=\"http://www.w3.org/1999/xlink\" contentStyleType=\"text/css\" height=\"364px\" preserveAspectRatio=\"none\" style=\"width:239px;height:364px;background:#FFFFFF;\" version=\"1.1\" viewBox=\"0 0 239 364\" width=\"239px\" zoomAndPan=\"magnify\"><defs/><g><!--MD5=[fbc87193dbaf4d95561dea2c320d4a47]\n",
       "cluster E1--><g id=\"cluster_E1\"><a href=\"psysml:c4b7552d-b9f7-430e-8774-a992809b5587\" target=\"_top\" title=\"psysml:c4b7552d-b9f7-430e-8774-a992809b5587\" xlink:actuate=\"onRequest\" xlink:href=\"psysml:c4b7552d-b9f7-430e-8774-a992809b5587\" xlink:show=\"new\" xlink:title=\"psysml:c4b7552d-b9f7-430e-8774-a992809b5587\" xlink:type=\"simple\"><polygon fill=\"none\" points=\"16,6,206.0625,6,213.0625,28.2969,219,28.2969,219,357,16,357,16,6\" style=\"stroke:#000000;stroke-width:1.5;\"/><line style=\"stroke:#000000;stroke-width:1.5;\" x1=\"16\" x2=\"213.0625\" y1=\"28.2969\" y2=\"28.2969\"/><text fill=\"#000000\" font-family=\"sans-serif\" font-size=\"14\" font-weight=\"bold\" lengthAdjust=\"spacing\" textLength=\"184.0625\" x=\"20\" y=\"20.9951\">QualifiedNameImportTest</text></a></g><!--MD5=[e4f7fae6ed58524ba242bb0b0d3be6b7]\n",
       "cluster E2--><g id=\"cluster_E2\"><a href=\"psysml:50965905-a474-4117-8075-2a307b415370\" target=\"_top\" title=\"psysml:50965905-a474-4117-8075-2a307b415370\" xlink:actuate=\"onRequest\" xlink:href=\"psysml:50965905-a474-4117-8075-2a307b415370\" xlink:show=\"new\" xlink:title=\"psysml:50965905-a474-4117-8075-2a307b415370\" xlink:type=\"simple\"><polygon fill=\"none\" points=\"48,210,72.875,210,79.875,232.2969,185,232.2969,185,325,48,325,48,210\" style=\"stroke:#000000;stroke-width:1.5;\"/><line style=\"stroke:#000000;stroke-width:1.5;\" x1=\"48\" x2=\"79.875\" y1=\"232.2969\" y2=\"232.2969\"/><text fill=\"#000000\" font-family=\"sans-serif\" font-size=\"14\" font-weight=\"bold\" lengthAdjust=\"spacing\" textLength=\"18.875\" x=\"52\" y=\"224.9951\">P1</text></a></g><!--MD5=[f6df4d0ebaf0b5dfb2ced0ae5af7c670]\n",
       "cluster E4--><g id=\"cluster_E4\"><a href=\"psysml:baf5ed1e-c4c1-4a5d-ad5e-204bd26a43d4\" target=\"_top\" title=\"psysml:baf5ed1e-c4c1-4a5d-ad5e-204bd26a43d4\" xlink:actuate=\"onRequest\" xlink:href=\"psysml:baf5ed1e-c4c1-4a5d-ad5e-204bd26a43d4\" xlink:show=\"new\" xlink:title=\"psysml:baf5ed1e-c4c1-4a5d-ad5e-204bd26a43d4\" xlink:type=\"simple\"><polygon fill=\"none\" points=\"40,49,64.875,49,71.875,71.2969,195,71.2969,195,153,40,153,40,49\" style=\"stroke:#000000;stroke-width:1.5;\"/><line style=\"stroke:#000000;stroke-width:1.5;\" x1=\"40\" x2=\"71.875\" y1=\"71.2969\" y2=\"71.2969\"/><text fill=\"#000000\" font-family=\"sans-serif\" font-size=\"14\" font-weight=\"bold\" lengthAdjust=\"spacing\" textLength=\"18.875\" x=\"44\" y=\"63.9951\">P2</text></a></g><!--MD5=[09b614a08d8cba4a07c9adeb5e0fee81]\n",
       "class E3--><a href=\"psysml:7bcd0150-a304-4bd6-beeb-4a591e07f43e\" target=\"_top\" title=\"psysml:7bcd0150-a304-4bd6-beeb-4a591e07f43e\" xlink:actuate=\"onRequest\" xlink:href=\"psysml:7bcd0150-a304-4bd6-beeb-4a591e07f43e\" xlink:show=\"new\" xlink:title=\"psysml:7bcd0150-a304-4bd6-beeb-4a591e07f43e\" xlink:type=\"simple\"><g id=\"elem_E3\"><rect fill=\"#FFFFFF\" height=\"48.2656\" id=\"E3\" style=\"stroke:#181818;stroke-width:0.5;\" width=\"70\" x=\"72\" y=\"253\"/><text fill=\"#000000\" font-family=\"sans-serif\" font-size=\"12\" font-style=\"italic\" lengthAdjust=\"spacing\" textLength=\"68\" x=\"73\" y=\"269.1387\">«part  def»</text><text fill=\"#000000\" font-family=\"sans-serif\" font-size=\"14\" lengthAdjust=\"spacing\" textLength=\"9\" x=\"102.5\" y=\"284.9639\">A</text><line style=\"stroke:#181818;stroke-width:0.5;\" x1=\"73\" x2=\"141\" y1=\"293.2656\" y2=\"293.2656\"/></g></a><!--MD5=[60a26617385b1d2d0262a64233df1f8d]\n",
       "class E6--><a href=\"psysml:1e68c641-a483-45d8-8926-6ab40309dfc3\" target=\"_top\" title=\"psysml:1e68c641-a483-45d8-8926-6ab40309dfc3\" xlink:actuate=\"onRequest\" xlink:href=\"psysml:1e68c641-a483-45d8-8926-6ab40309dfc3\" xlink:show=\"new\" xlink:title=\"psysml:1e68c641-a483-45d8-8926-6ab40309dfc3\" xlink:type=\"simple\"><g id=\"elem_E6\"><rect fill=\"#FFFFFF\" height=\"48.2656\" id=\"E6\" rx=\"10\" ry=\"10\" style=\"stroke:#181818;stroke-width:0.5;\" width=\"42\" x=\"56\" y=\"86.5\"/><text fill=\"#000000\" font-family=\"sans-serif\" font-size=\"12\" font-style=\"italic\" lengthAdjust=\"spacing\" textLength=\"40\" x=\"57\" y=\"102.6387\">«part»</text><text fill=\"#000000\" font-family=\"sans-serif\" font-size=\"14\" lengthAdjust=\"spacing\" textLength=\"25\" x=\"60.5\" y=\"118.4639\">x: A</text><line style=\"stroke:#181818;stroke-width:0.5;\" x1=\"57\" x2=\"97\" y1=\"126.7656\" y2=\"126.7656\"/></g></a><a href=\"psysml:70275c95-cc90-4a8f-9ab9-2df7f67b6861\" target=\"_top\" title=\"psysml:70275c95-cc90-4a8f-9ab9-2df7f67b6861\" xlink:actuate=\"onRequest\" xlink:href=\"psysml:70275c95-cc90-4a8f-9ab9-2df7f67b6861\" xlink:show=\"new\" xlink:title=\"psysml:70275c95-cc90-4a8f-9ab9-2df7f67b6861\" xlink:type=\"simple\"><polygon fill=\"#FFFFFF\" points=\"133,84,165,84,172,106.2969,179,106.2969,179,136.5938,133,136.5938,133,84\" style=\"stroke:#181818;stroke-width:0.5;\"/><line style=\"stroke:#181818;stroke-width:0.5;\" x1=\"133\" x2=\"172\" y1=\"106.2969\" y2=\"106.2969\"/><text fill=\"#000000\" font-family=\"sans-serif\" font-size=\"14\" lengthAdjust=\"spacing\" textLength=\"26\" x=\"137\" y=\"98.9951\">P2a</text></a><!--MD5=[15ebcb19ae302d9b601edb458606d402]\n",
       "link E5 to E2--><g id=\"link_E5_E2\"><a href=\"psysml:0b7a29bb-3729-45f6-9ea2-8894bf23e053\" target=\"_top\" title=\"psysml:0b7a29bb-3729-45f6-9ea2-8894bf23e053\" xlink:actuate=\"onRequest\" xlink:href=\"psysml:0b7a29bb-3729-45f6-9ea2-8894bf23e053\" xlink:show=\"new\" xlink:title=\"psysml:0b7a29bb-3729-45f6-9ea2-8894bf23e053\" xlink:type=\"simple\"><path d=\"M159.28,137.2 C160.735,148.5875 162.5469,162.7762 164.4519,177.6978 C165.4044,185.1586 166.3802,192.8026 167.3463,200.3712 C167.5878,202.2634 167.8287,204.1508 168.0685,206.0295 C168.1884,206.9689 168.308,207.906 168.4273,208.8405 C168.4571,209.0741 168.4869,209.3076 168.5167,209.5408 \" fill=\"none\" id=\"E5-to-E2\" style=\"stroke:#181818;stroke-width:1.0;stroke-dasharray:7.0,7.0;\"/><polygon fill=\"#181818\" points=\"168.5167,209.5408,171.345,200.1068,167.8836,204.5811,163.4094,201.1197,168.5167,209.5408\" style=\"stroke:#181818;stroke-width:1.0;\"/><text fill=\"#000000\" font-family=\"sans-serif\" font-size=\"13\" lengthAdjust=\"spacing\" textLength=\"65\" x=\"166\" y=\"182.0669\">«import»*</text></a></g><!--MD5=[a717450b82c80b9240a525fa862496af]\n",
       "link E6 to E3--><g id=\"link_E6_E3\"><a href=\"psysml:d6b7e27f-bd18-4212-9fb0-b02d6224d86d\" target=\"_top\" title=\"psysml:d6b7e27f-bd18-4212-9fb0-b02d6224d86d\" xlink:actuate=\"onRequest\" xlink:href=\"psysml:d6b7e27f-bd18-4212-9fb0-b02d6224d86d\" xlink:show=\"new\" xlink:title=\"psysml:d6b7e27f-bd18-4212-9fb0-b02d6224d86d\" xlink:type=\"simple\"><path d=\"M81.23,134.72 C85.88,160.19 93.44,201.63 99.17,233.06 \" fill=\"none\" id=\"E6-to-E3\" style=\"stroke:#181818;stroke-width:1.0;\"/><polygon fill=\"#FFFFFF\" points=\"102.79,252.9,92.4985,235.462,106.2719,232.9532,102.79,252.9\" style=\"stroke:#181818;stroke-width:1.0;\"/><ellipse cx=\"93.4447\" cy=\"229.4958\" fill=\"#181818\" rx=\"2\" ry=\"2\" style=\"stroke:#181818;stroke-width:1.0;\"/><ellipse cx=\"103.2828\" cy=\"227.7038\" fill=\"#181818\" rx=\"2\" ry=\"2\" style=\"stroke:#181818;stroke-width:1.0;\"/></a></g><!--MD5=[dc4a5c160c0368d96c6deb6609a35ea3]\n",
       "@startuml\r\n",
       "skin sysmlbw\r\n",
       "skinparam monochrome true\r\n",
       "skinparam wrapWidth 300\r\n",
       "hide circle\r\n",
       "skinparam linetype polyline\r\n",
       "\r\n",
       "package \"QualifiedNameImportTest\" as E1  [[psysml:c4b7552d-b9f7-430e-8774-a992809b5587 ]]  {\r\n",
       "package \"P1\" as E2  [[psysml:50965905-a474-4117-8075-2a307b415370 ]]  {\r\n",
       "comp def \"A\" as E3  <<(T,blue) part  def>> [[psysml:7bcd0150-a304-4bd6-beeb-4a591e07f43e ]] {\r\n",
       "}\r\n",
       "}\r\n",
       "package \"P2\" as E4  [[psysml:baf5ed1e-c4c1-4a5d-ad5e-204bd26a43d4 ]]  {\r\n",
       "package \"P2a\" as E5  [[psysml:70275c95-cc90-4a8f-9ab9-2df7f67b6861 ]]  {\r\n",
       "}\r\n",
       "comp usage \"x: A  \" as E6  <<(T,blue) part>> [[psysml:1e68c641-a483-45d8-8926-6ab40309dfc3 ]] {\r\n",
       "}\r\n",
       "}\r\n",
       "}\r\n",
       "E5 ..> E2 [[psysml:0b7a29bb-3729-45f6-9ea2-8894bf23e053 ]] : <<import>>*\r\n",
       "E6 - -:|> E3 [[psysml:d6b7e27f-bd18-4212-9fb0-b02d6224d86d ]] \r\n",
       "@enduml\r\n",
       "\n",
       "PlantUML version 1.2022.7(Mon Aug 22 17:01:30 UTC 2022)\n",
       "(EPL source distribution)\n",
       "Java Runtime: OpenJDK Runtime Environment\n",
       "JVM: OpenJDK 64-Bit Server VM\n",
       "Default Encoding: UTF-8\n",
       "Language: en\n",
       "Country: null\n",
       "--></g></svg>"
      ]
     },
     "execution_count": 15,
     "metadata": {},
     "output_type": "execute_result"
    }
   ],
   "source": [
    "%viz --style=\"POLYLINE\" --view=\"MIXED\" \"QualifiedNameImportTest\""
   ]
  },
  {
   "cell_type": "code",
   "execution_count": 16,
   "id": "bf7076db",
   "metadata": {
    "execution": {
     "iopub.execute_input": "2024-12-16T03:25:41.950868Z",
     "iopub.status.busy": "2024-12-16T03:25:41.950602Z",
     "iopub.status.idle": "2024-12-16T03:25:41.969602Z",
     "shell.execute_reply": "2024-12-16T03:25:41.968887Z"
    }
   },
   "outputs": [
    {
     "data": {
      "image/svg+xml": [
       "<?xml version=\"1.0\" encoding=\"UTF-8\" standalone=\"no\"?><svg xmlns=\"http://www.w3.org/2000/svg\" xmlns:xlink=\"http://www.w3.org/1999/xlink\" contentStyleType=\"text/css\" height=\"268px\" preserveAspectRatio=\"none\" style=\"width:392px;height:268px;background:#FFFFFF;\" version=\"1.1\" viewBox=\"0 0 392 268\" width=\"392px\" zoomAndPan=\"magnify\"><defs/><g><!--MD5=[fbc87193dbaf4d95561dea2c320d4a47]\n",
       "cluster E1--><g id=\"cluster_E1\"><a href=\"psysml:c4b7552d-b9f7-430e-8774-a992809b5587\" target=\"_top\" title=\"psysml:c4b7552d-b9f7-430e-8774-a992809b5587\" xlink:actuate=\"onRequest\" xlink:href=\"psysml:c4b7552d-b9f7-430e-8774-a992809b5587\" xlink:show=\"new\" xlink:title=\"psysml:c4b7552d-b9f7-430e-8774-a992809b5587\" xlink:type=\"simple\"><polygon fill=\"none\" points=\"16,6,206.0625,6,213.0625,28.2969,375,28.2969,375,261,16,261,16,6\" style=\"stroke:#000000;stroke-width:1.5;\"/><line style=\"stroke:#000000;stroke-width:1.5;\" x1=\"16\" x2=\"213.0625\" y1=\"28.2969\" y2=\"28.2969\"/><text fill=\"#000000\" font-family=\"sans-serif\" font-size=\"14\" font-weight=\"bold\" lengthAdjust=\"spacing\" textLength=\"184.0625\" x=\"20\" y=\"20.9951\">QualifiedNameImportTest</text></a></g><!--MD5=[e4f7fae6ed58524ba242bb0b0d3be6b7]\n",
       "cluster E2--><g id=\"cluster_E2\"><a href=\"psysml:50965905-a474-4117-8075-2a307b415370\" target=\"_top\" title=\"psysml:50965905-a474-4117-8075-2a307b415370\" xlink:actuate=\"onRequest\" xlink:href=\"psysml:50965905-a474-4117-8075-2a307b415370\" xlink:show=\"new\" xlink:title=\"psysml:50965905-a474-4117-8075-2a307b415370\" xlink:type=\"simple\"><polygon fill=\"none\" points=\"225,90,249.875,90,256.875,112.2969,343,112.2969,343,224,225,224,225,90\" style=\"stroke:#000000;stroke-width:1.5;\"/><line style=\"stroke:#000000;stroke-width:1.5;\" x1=\"225\" x2=\"256.875\" y1=\"112.2969\" y2=\"112.2969\"/><text fill=\"#000000\" font-family=\"sans-serif\" font-size=\"14\" font-weight=\"bold\" lengthAdjust=\"spacing\" textLength=\"18.875\" x=\"229\" y=\"104.9951\">P1</text></a></g><!--MD5=[f6df4d0ebaf0b5dfb2ced0ae5af7c670]\n",
       "cluster E4--><g id=\"cluster_E4\"><a href=\"psysml:baf5ed1e-c4c1-4a5d-ad5e-204bd26a43d4\" target=\"_top\" title=\"psysml:baf5ed1e-c4c1-4a5d-ad5e-204bd26a43d4\" xlink:actuate=\"onRequest\" xlink:href=\"psysml:baf5ed1e-c4c1-4a5d-ad5e-204bd26a43d4\" xlink:show=\"new\" xlink:title=\"psysml:baf5ed1e-c4c1-4a5d-ad5e-204bd26a43d4\" xlink:type=\"simple\"><polygon fill=\"none\" points=\"40,49,64.875,49,71.875,71.2969,118,71.2969,118,237,40,237,40,49\" style=\"stroke:#000000;stroke-width:1.5;\"/><line style=\"stroke:#000000;stroke-width:1.5;\" x1=\"40\" x2=\"71.875\" y1=\"71.2969\" y2=\"71.2969\"/><text fill=\"#000000\" font-family=\"sans-serif\" font-size=\"14\" font-weight=\"bold\" lengthAdjust=\"spacing\" textLength=\"18.875\" x=\"44\" y=\"63.9951\">P2</text></a></g><!--MD5=[09b614a08d8cba4a07c9adeb5e0fee81]\n",
       "class E3--><a href=\"psysml:7bcd0150-a304-4bd6-beeb-4a591e07f43e\" target=\"_top\" title=\"psysml:7bcd0150-a304-4bd6-beeb-4a591e07f43e\" xlink:actuate=\"onRequest\" xlink:href=\"psysml:7bcd0150-a304-4bd6-beeb-4a591e07f43e\" xlink:show=\"new\" xlink:title=\"psysml:7bcd0150-a304-4bd6-beeb-4a591e07f43e\" xlink:type=\"simple\"><g id=\"elem_E3\"><rect fill=\"#FFFFFF\" height=\"48.2656\" id=\"E3\" style=\"stroke:#181818;stroke-width:0.5;\" width=\"70\" x=\"249\" y=\"152\"/><text fill=\"#000000\" font-family=\"sans-serif\" font-size=\"12\" font-style=\"italic\" lengthAdjust=\"spacing\" textLength=\"68\" x=\"250\" y=\"168.1387\">«part  def»</text><text fill=\"#000000\" font-family=\"sans-serif\" font-size=\"14\" lengthAdjust=\"spacing\" textLength=\"9\" x=\"279.5\" y=\"183.9639\">A</text><line style=\"stroke:#181818;stroke-width:0.5;\" x1=\"250\" x2=\"318\" y1=\"192.2656\" y2=\"192.2656\"/></g></a><!--MD5=[60a26617385b1d2d0262a64233df1f8d]\n",
       "class E6--><a href=\"psysml:1e68c641-a483-45d8-8926-6ab40309dfc3\" target=\"_top\" title=\"psysml:1e68c641-a483-45d8-8926-6ab40309dfc3\" xlink:actuate=\"onRequest\" xlink:href=\"psysml:1e68c641-a483-45d8-8926-6ab40309dfc3\" xlink:show=\"new\" xlink:title=\"psysml:1e68c641-a483-45d8-8926-6ab40309dfc3\" xlink:type=\"simple\"><g id=\"elem_E6\"><rect fill=\"#FFFFFF\" height=\"48.2656\" id=\"E6\" rx=\"10\" ry=\"10\" style=\"stroke:#181818;stroke-width:0.5;\" width=\"42\" x=\"58\" y=\"173\"/><text fill=\"#000000\" font-family=\"sans-serif\" font-size=\"12\" font-style=\"italic\" lengthAdjust=\"spacing\" textLength=\"40\" x=\"59\" y=\"189.1387\">«part»</text><text fill=\"#000000\" font-family=\"sans-serif\" font-size=\"14\" lengthAdjust=\"spacing\" textLength=\"25\" x=\"62.5\" y=\"204.9639\">x: A</text><line style=\"stroke:#181818;stroke-width:0.5;\" x1=\"59\" x2=\"99\" y1=\"213.2656\" y2=\"213.2656\"/></g></a><a href=\"psysml:70275c95-cc90-4a8f-9ab9-2df7f67b6861\" target=\"_top\" title=\"psysml:70275c95-cc90-4a8f-9ab9-2df7f67b6861\" xlink:actuate=\"onRequest\" xlink:href=\"psysml:70275c95-cc90-4a8f-9ab9-2df7f67b6861\" xlink:show=\"new\" xlink:title=\"psysml:70275c95-cc90-4a8f-9ab9-2df7f67b6861\" xlink:type=\"simple\"><polygon fill=\"#FFFFFF\" points=\"56,84.5,88,84.5,95,106.7969,102,106.7969,102,137.0938,56,137.0938,56,84.5\" style=\"stroke:#181818;stroke-width:0.5;\"/><line style=\"stroke:#181818;stroke-width:0.5;\" x1=\"56\" x2=\"95\" y1=\"106.7969\" y2=\"106.7969\"/><text fill=\"#000000\" font-family=\"sans-serif\" font-size=\"14\" lengthAdjust=\"spacing\" textLength=\"26\" x=\"60\" y=\"99.4951\">P2a</text></a><!--MD5=[15ebcb19ae302d9b601edb458606d402]\n",
       "link E5 to E2--><g id=\"link_E5_E2\"><a href=\"psysml:0b7a29bb-3729-45f6-9ea2-8894bf23e053\" target=\"_top\" title=\"psysml:0b7a29bb-3729-45f6-9ea2-8894bf23e053\" xlink:actuate=\"onRequest\" xlink:href=\"psysml:0b7a29bb-3729-45f6-9ea2-8894bf23e053\" xlink:show=\"new\" xlink:title=\"psysml:0b7a29bb-3729-45f6-9ea2-8894bf23e053\" xlink:type=\"simple\"><path d=\"M102.11,111.65 C128.005,112.415 172.23,113.7225 210.4688,114.8538 C215.2486,114.9952 219.9349,115.1338 224.4802,115.2683 \" fill=\"none\" id=\"E5-to-E2\" style=\"stroke:#181818;stroke-width:1.0;stroke-dasharray:7.0,7.0;\"/><polygon fill=\"#181818\" points=\"224.4802,115.2683,215.6024,111.0039,219.4824,115.1204,215.3658,119.0004,224.4802,115.2683\" style=\"stroke:#181818;stroke-width:1.0;\"/><text fill=\"#000000\" font-family=\"sans-serif\" font-size=\"13\" lengthAdjust=\"spacing\" textLength=\"65\" x=\"135\" y=\"109.0669\">«import»*</text></a></g><!--MD5=[a717450b82c80b9240a525fa862496af]\n",
       "link E6 to E3--><g id=\"link_E6_E3\"><a href=\"psysml:d6b7e27f-bd18-4212-9fb0-b02d6224d86d\" target=\"_top\" title=\"psysml:d6b7e27f-bd18-4212-9fb0-b02d6224d86d\" xlink:actuate=\"onRequest\" xlink:href=\"psysml:d6b7e27f-bd18-4212-9fb0-b02d6224d86d\" xlink:show=\"new\" xlink:title=\"psysml:d6b7e27f-bd18-4212-9fb0-b02d6224d86d\" xlink:type=\"simple\"><path d=\"M100.21,194.91 C129.89,191.84 186.34,186 228.7,181.62 \" fill=\"none\" id=\"E6-to-E3\" style=\"stroke:#181818;stroke-width:1.0;\"/><polygon fill=\"#FFFFFF\" points=\"248.76,179.54,230.5811,188.4579,229.1406,174.5322,248.76,179.54\" style=\"stroke:#181818;stroke-width:1.0;\"/><ellipse cx=\"224.7056\" cy=\"187.0551\" fill=\"#181818\" rx=\"2\" ry=\"2\" style=\"stroke:#181818;stroke-width:1.0;\"/><ellipse cx=\"223.6766\" cy=\"177.1082\" fill=\"#181818\" rx=\"2\" ry=\"2\" style=\"stroke:#181818;stroke-width:1.0;\"/></a></g><!--MD5=[7df01cef534b0acdd57cba0167fd6ed0]\n",
       "@startuml\r\n",
       "skin sysmlbw\r\n",
       "skinparam monochrome true\r\n",
       "skinparam wrapWidth 300\r\n",
       "hide circle\r\n",
       "left to right direction\r\n",
       "\r\n",
       "package \"QualifiedNameImportTest\" as E1  [[psysml:c4b7552d-b9f7-430e-8774-a992809b5587 ]]  {\r\n",
       "package \"P1\" as E2  [[psysml:50965905-a474-4117-8075-2a307b415370 ]]  {\r\n",
       "comp def \"A\" as E3  <<(T,blue) part  def>> [[psysml:7bcd0150-a304-4bd6-beeb-4a591e07f43e ]] {\r\n",
       "}\r\n",
       "}\r\n",
       "package \"P2\" as E4  [[psysml:baf5ed1e-c4c1-4a5d-ad5e-204bd26a43d4 ]]  {\r\n",
       "package \"P2a\" as E5  [[psysml:70275c95-cc90-4a8f-9ab9-2df7f67b6861 ]]  {\r\n",
       "}\r\n",
       "comp usage \"x: A  \" as E6  <<(T,blue) part>> [[psysml:1e68c641-a483-45d8-8926-6ab40309dfc3 ]] {\r\n",
       "}\r\n",
       "}\r\n",
       "}\r\n",
       "E5 ..> E2 [[psysml:0b7a29bb-3729-45f6-9ea2-8894bf23e053 ]] : <<import>>*\r\n",
       "E6 - -:|> E3 [[psysml:d6b7e27f-bd18-4212-9fb0-b02d6224d86d ]] \r\n",
       "@enduml\r\n",
       "\n",
       "PlantUML version 1.2022.7(Mon Aug 22 17:01:30 UTC 2022)\n",
       "(EPL source distribution)\n",
       "Java Runtime: OpenJDK Runtime Environment\n",
       "JVM: OpenJDK 64-Bit Server VM\n",
       "Default Encoding: UTF-8\n",
       "Language: en\n",
       "Country: null\n",
       "--></g></svg>"
      ]
     },
     "execution_count": 16,
     "metadata": {},
     "output_type": "execute_result"
    }
   ],
   "source": [
    "%viz --style=\"LR\" --view=\"Default\" \"QualifiedNameImportTest\""
   ]
  },
  {
   "cell_type": "code",
   "execution_count": 17,
   "id": "36f567d4",
   "metadata": {
    "execution": {
     "iopub.execute_input": "2024-12-16T03:25:42.024137Z",
     "iopub.status.busy": "2024-12-16T03:25:42.023909Z",
     "iopub.status.idle": "2024-12-16T03:25:42.046560Z",
     "shell.execute_reply": "2024-12-16T03:25:42.045825Z"
    }
   },
   "outputs": [
    {
     "data": {
      "image/svg+xml": [
       "<?xml version=\"1.0\" encoding=\"UTF-8\" standalone=\"no\"?><svg xmlns=\"http://www.w3.org/2000/svg\" xmlns:xlink=\"http://www.w3.org/1999/xlink\" contentStyleType=\"text/css\" height=\"268px\" preserveAspectRatio=\"none\" style=\"width:392px;height:268px;background:#FFFFFF;\" version=\"1.1\" viewBox=\"0 0 392 268\" width=\"392px\" zoomAndPan=\"magnify\"><defs/><g><!--MD5=[fbc87193dbaf4d95561dea2c320d4a47]\n",
       "cluster E1--><g id=\"cluster_E1\"><a href=\"psysml:c4b7552d-b9f7-430e-8774-a992809b5587\" target=\"_top\" title=\"psysml:c4b7552d-b9f7-430e-8774-a992809b5587\" xlink:actuate=\"onRequest\" xlink:href=\"psysml:c4b7552d-b9f7-430e-8774-a992809b5587\" xlink:show=\"new\" xlink:title=\"psysml:c4b7552d-b9f7-430e-8774-a992809b5587\" xlink:type=\"simple\"><polygon fill=\"none\" points=\"16,6,206.0625,6,213.0625,28.2969,375,28.2969,375,261,16,261,16,6\" style=\"stroke:#000000;stroke-width:1.5;\"/><line style=\"stroke:#000000;stroke-width:1.5;\" x1=\"16\" x2=\"213.0625\" y1=\"28.2969\" y2=\"28.2969\"/><text fill=\"#000000\" font-family=\"sans-serif\" font-size=\"14\" font-weight=\"bold\" lengthAdjust=\"spacing\" textLength=\"184.0625\" x=\"20\" y=\"20.9951\">QualifiedNameImportTest</text></a></g><!--MD5=[e4f7fae6ed58524ba242bb0b0d3be6b7]\n",
       "cluster E2--><g id=\"cluster_E2\"><a href=\"psysml:50965905-a474-4117-8075-2a307b415370\" target=\"_top\" title=\"psysml:50965905-a474-4117-8075-2a307b415370\" xlink:actuate=\"onRequest\" xlink:href=\"psysml:50965905-a474-4117-8075-2a307b415370\" xlink:show=\"new\" xlink:title=\"psysml:50965905-a474-4117-8075-2a307b415370\" xlink:type=\"simple\"><polygon fill=\"none\" points=\"225,90,249.875,90,256.875,112.2969,343,112.2969,343,224,225,224,225,90\" style=\"stroke:#000000;stroke-width:1.5;\"/><line style=\"stroke:#000000;stroke-width:1.5;\" x1=\"225\" x2=\"256.875\" y1=\"112.2969\" y2=\"112.2969\"/><text fill=\"#000000\" font-family=\"sans-serif\" font-size=\"14\" font-weight=\"bold\" lengthAdjust=\"spacing\" textLength=\"18.875\" x=\"229\" y=\"104.9951\">P1</text></a></g><!--MD5=[f6df4d0ebaf0b5dfb2ced0ae5af7c670]\n",
       "cluster E4--><g id=\"cluster_E4\"><a href=\"psysml:baf5ed1e-c4c1-4a5d-ad5e-204bd26a43d4\" target=\"_top\" title=\"psysml:baf5ed1e-c4c1-4a5d-ad5e-204bd26a43d4\" xlink:actuate=\"onRequest\" xlink:href=\"psysml:baf5ed1e-c4c1-4a5d-ad5e-204bd26a43d4\" xlink:show=\"new\" xlink:title=\"psysml:baf5ed1e-c4c1-4a5d-ad5e-204bd26a43d4\" xlink:type=\"simple\"><polygon fill=\"none\" points=\"40,49,64.875,49,71.875,71.2969,118,71.2969,118,237,40,237,40,49\" style=\"stroke:#000000;stroke-width:1.5;\"/><line style=\"stroke:#000000;stroke-width:1.5;\" x1=\"40\" x2=\"71.875\" y1=\"71.2969\" y2=\"71.2969\"/><text fill=\"#000000\" font-family=\"sans-serif\" font-size=\"14\" font-weight=\"bold\" lengthAdjust=\"spacing\" textLength=\"18.875\" x=\"44\" y=\"63.9951\">P2</text></a></g><!--MD5=[09b614a08d8cba4a07c9adeb5e0fee81]\n",
       "class E3--><a href=\"psysml:7bcd0150-a304-4bd6-beeb-4a591e07f43e\" target=\"_top\" title=\"psysml:7bcd0150-a304-4bd6-beeb-4a591e07f43e\" xlink:actuate=\"onRequest\" xlink:href=\"psysml:7bcd0150-a304-4bd6-beeb-4a591e07f43e\" xlink:show=\"new\" xlink:title=\"psysml:7bcd0150-a304-4bd6-beeb-4a591e07f43e\" xlink:type=\"simple\"><g id=\"elem_E3\"><rect fill=\"#FFFFFF\" height=\"48.2656\" id=\"E3\" style=\"stroke:#181818;stroke-width:0.5;\" width=\"70\" x=\"249\" y=\"152\"/><text fill=\"#000000\" font-family=\"sans-serif\" font-size=\"12\" font-style=\"italic\" lengthAdjust=\"spacing\" textLength=\"68\" x=\"250\" y=\"168.1387\">«part  def»</text><text fill=\"#000000\" font-family=\"sans-serif\" font-size=\"14\" lengthAdjust=\"spacing\" textLength=\"9\" x=\"279.5\" y=\"183.9639\">A</text><line style=\"stroke:#181818;stroke-width:0.5;\" x1=\"250\" x2=\"318\" y1=\"192.2656\" y2=\"192.2656\"/></g></a><!--MD5=[60a26617385b1d2d0262a64233df1f8d]\n",
       "class E6--><a href=\"psysml:1e68c641-a483-45d8-8926-6ab40309dfc3\" target=\"_top\" title=\"psysml:1e68c641-a483-45d8-8926-6ab40309dfc3\" xlink:actuate=\"onRequest\" xlink:href=\"psysml:1e68c641-a483-45d8-8926-6ab40309dfc3\" xlink:show=\"new\" xlink:title=\"psysml:1e68c641-a483-45d8-8926-6ab40309dfc3\" xlink:type=\"simple\"><g id=\"elem_E6\"><rect fill=\"#FFFFFF\" height=\"48.2656\" id=\"E6\" rx=\"10\" ry=\"10\" style=\"stroke:#181818;stroke-width:0.5;\" width=\"42\" x=\"58\" y=\"173\"/><text fill=\"#000000\" font-family=\"sans-serif\" font-size=\"12\" font-style=\"italic\" lengthAdjust=\"spacing\" textLength=\"40\" x=\"59\" y=\"189.1387\">«part»</text><text fill=\"#000000\" font-family=\"sans-serif\" font-size=\"14\" lengthAdjust=\"spacing\" textLength=\"25\" x=\"62.5\" y=\"204.9639\">x: A</text><line style=\"stroke:#181818;stroke-width:0.5;\" x1=\"59\" x2=\"99\" y1=\"213.2656\" y2=\"213.2656\"/></g></a><a href=\"psysml:70275c95-cc90-4a8f-9ab9-2df7f67b6861\" target=\"_top\" title=\"psysml:70275c95-cc90-4a8f-9ab9-2df7f67b6861\" xlink:actuate=\"onRequest\" xlink:href=\"psysml:70275c95-cc90-4a8f-9ab9-2df7f67b6861\" xlink:show=\"new\" xlink:title=\"psysml:70275c95-cc90-4a8f-9ab9-2df7f67b6861\" xlink:type=\"simple\"><polygon fill=\"#FFFFFF\" points=\"56,84.5,88,84.5,95,106.7969,102,106.7969,102,137.0938,56,137.0938,56,84.5\" style=\"stroke:#181818;stroke-width:0.5;\"/><line style=\"stroke:#181818;stroke-width:0.5;\" x1=\"56\" x2=\"95\" y1=\"106.7969\" y2=\"106.7969\"/><text fill=\"#000000\" font-family=\"sans-serif\" font-size=\"14\" lengthAdjust=\"spacing\" textLength=\"26\" x=\"60\" y=\"99.4951\">P2a</text></a><!--MD5=[15ebcb19ae302d9b601edb458606d402]\n",
       "link E5 to E2--><g id=\"link_E5_E2\"><a href=\"psysml:0b7a29bb-3729-45f6-9ea2-8894bf23e053\" target=\"_top\" title=\"psysml:0b7a29bb-3729-45f6-9ea2-8894bf23e053\" xlink:actuate=\"onRequest\" xlink:href=\"psysml:0b7a29bb-3729-45f6-9ea2-8894bf23e053\" xlink:show=\"new\" xlink:title=\"psysml:0b7a29bb-3729-45f6-9ea2-8894bf23e053\" xlink:type=\"simple\"><path d=\"M102.11,111.65 C128.005,112.415 172.23,113.7225 210.4688,114.8538 C215.2486,114.9952 219.9349,115.1338 224.4802,115.2683 \" fill=\"none\" id=\"E5-to-E2\" style=\"stroke:#181818;stroke-width:1.0;stroke-dasharray:7.0,7.0;\"/><polygon fill=\"#181818\" points=\"224.4802,115.2683,215.6024,111.0039,219.4824,115.1204,215.3658,119.0004,224.4802,115.2683\" style=\"stroke:#181818;stroke-width:1.0;\"/><text fill=\"#000000\" font-family=\"sans-serif\" font-size=\"13\" lengthAdjust=\"spacing\" textLength=\"65\" x=\"135\" y=\"109.0669\">«import»*</text></a></g><!--MD5=[a717450b82c80b9240a525fa862496af]\n",
       "link E6 to E3--><g id=\"link_E6_E3\"><a href=\"psysml:d6b7e27f-bd18-4212-9fb0-b02d6224d86d\" target=\"_top\" title=\"psysml:d6b7e27f-bd18-4212-9fb0-b02d6224d86d\" xlink:actuate=\"onRequest\" xlink:href=\"psysml:d6b7e27f-bd18-4212-9fb0-b02d6224d86d\" xlink:show=\"new\" xlink:title=\"psysml:d6b7e27f-bd18-4212-9fb0-b02d6224d86d\" xlink:type=\"simple\"><path d=\"M100.21,194.91 C129.89,191.84 186.34,186 228.7,181.62 \" fill=\"none\" id=\"E6-to-E3\" style=\"stroke:#181818;stroke-width:1.0;\"/><polygon fill=\"#FFFFFF\" points=\"248.76,179.54,230.5811,188.4579,229.1406,174.5322,248.76,179.54\" style=\"stroke:#181818;stroke-width:1.0;\"/><ellipse cx=\"224.7056\" cy=\"187.0551\" fill=\"#181818\" rx=\"2\" ry=\"2\" style=\"stroke:#181818;stroke-width:1.0;\"/><ellipse cx=\"223.6766\" cy=\"177.1082\" fill=\"#181818\" rx=\"2\" ry=\"2\" style=\"stroke:#181818;stroke-width:1.0;\"/></a></g><!--MD5=[7df01cef534b0acdd57cba0167fd6ed0]\n",
       "@startuml\r\n",
       "skin sysmlbw\r\n",
       "skinparam monochrome true\r\n",
       "skinparam wrapWidth 300\r\n",
       "hide circle\r\n",
       "left to right direction\r\n",
       "\r\n",
       "package \"QualifiedNameImportTest\" as E1  [[psysml:c4b7552d-b9f7-430e-8774-a992809b5587 ]]  {\r\n",
       "package \"P1\" as E2  [[psysml:50965905-a474-4117-8075-2a307b415370 ]]  {\r\n",
       "comp def \"A\" as E3  <<(T,blue) part  def>> [[psysml:7bcd0150-a304-4bd6-beeb-4a591e07f43e ]] {\r\n",
       "}\r\n",
       "}\r\n",
       "package \"P2\" as E4  [[psysml:baf5ed1e-c4c1-4a5d-ad5e-204bd26a43d4 ]]  {\r\n",
       "package \"P2a\" as E5  [[psysml:70275c95-cc90-4a8f-9ab9-2df7f67b6861 ]]  {\r\n",
       "}\r\n",
       "comp usage \"x: A  \" as E6  <<(T,blue) part>> [[psysml:1e68c641-a483-45d8-8926-6ab40309dfc3 ]] {\r\n",
       "}\r\n",
       "}\r\n",
       "}\r\n",
       "E5 ..> E2 [[psysml:0b7a29bb-3729-45f6-9ea2-8894bf23e053 ]] : <<import>>*\r\n",
       "E6 - -:|> E3 [[psysml:d6b7e27f-bd18-4212-9fb0-b02d6224d86d ]] \r\n",
       "@enduml\r\n",
       "\n",
       "PlantUML version 1.2022.7(Mon Aug 22 17:01:30 UTC 2022)\n",
       "(EPL source distribution)\n",
       "Java Runtime: OpenJDK Runtime Environment\n",
       "JVM: OpenJDK 64-Bit Server VM\n",
       "Default Encoding: UTF-8\n",
       "Language: en\n",
       "Country: null\n",
       "--></g></svg>"
      ]
     },
     "execution_count": 17,
     "metadata": {},
     "output_type": "execute_result"
    }
   ],
   "source": [
    "%viz --style=\"LR\" --view=\"Tree\" \"QualifiedNameImportTest\""
   ]
  },
  {
   "cell_type": "code",
   "execution_count": 18,
   "id": "436ae8bb",
   "metadata": {
    "execution": {
     "iopub.execute_input": "2024-12-16T03:25:42.098537Z",
     "iopub.status.busy": "2024-12-16T03:25:42.098232Z",
     "iopub.status.idle": "2024-12-16T03:25:42.104413Z",
     "shell.execute_reply": "2024-12-16T03:25:42.104560Z"
    }
   },
   "outputs": [
    {
     "data": {
      "image/svg+xml": [
       "<?xml version=\"1.0\" encoding=\"UTF-8\" standalone=\"no\"?><svg xmlns=\"http://www.w3.org/2000/svg\" xmlns:xlink=\"http://www.w3.org/1999/xlink\" contentStyleType=\"text/css\" height=\"10px\" preserveAspectRatio=\"none\" style=\"width:10px;height:10px;background:#FFFFFF;\" version=\"1.1\" viewBox=\"0 0 10 10\" width=\"10px\" zoomAndPan=\"magnify\"><defs/><g><!--MD5=[fb420fbd7a91d32138f4344b927a323c]\n",
       "@startuml\r\n",
       "skin sysmlbw\r\n",
       "skinparam monochrome true\r\n",
       "skinparam wrapWidth 300\r\n",
       "hide circle\r\n",
       "left to right direction\r\n",
       "\r\n",
       "@enduml\r\n",
       "\n",
       "PlantUML version 1.2022.7(Mon Aug 22 17:01:30 UTC 2022)\n",
       "(EPL source distribution)\n",
       "Java Runtime: OpenJDK Runtime Environment\n",
       "JVM: OpenJDK 64-Bit Server VM\n",
       "Default Encoding: UTF-8\n",
       "Language: en\n",
       "Country: null\n",
       "--></g></svg>"
      ]
     },
     "execution_count": 18,
     "metadata": {},
     "output_type": "execute_result"
    }
   ],
   "source": [
    "%viz --style=\"LR\" --view=\"State\" \"QualifiedNameImportTest\""
   ]
  },
  {
   "cell_type": "code",
   "execution_count": 19,
   "id": "8dedd369",
   "metadata": {
    "execution": {
     "iopub.execute_input": "2024-12-16T03:25:42.161413Z",
     "iopub.status.busy": "2024-12-16T03:25:42.161164Z",
     "iopub.status.idle": "2024-12-16T03:25:42.178246Z",
     "shell.execute_reply": "2024-12-16T03:25:42.177530Z"
    }
   },
   "outputs": [
    {
     "data": {
      "image/svg+xml": [
       "<?xml version=\"1.0\" encoding=\"UTF-8\" standalone=\"no\"?><svg xmlns=\"http://www.w3.org/2000/svg\" xmlns:xlink=\"http://www.w3.org/1999/xlink\" contentStyleType=\"text/css\" height=\"260px\" preserveAspectRatio=\"none\" style=\"width:401px;height:260px;background:#FFFFFF;\" version=\"1.1\" viewBox=\"0 0 401 260\" width=\"401px\" zoomAndPan=\"magnify\"><defs/><g><!--MD5=[fbc87193dbaf4d95561dea2c320d4a47]\n",
       "cluster E1--><g id=\"cluster_E1\"><a href=\"psysml:c4b7552d-b9f7-430e-8774-a992809b5587\" target=\"_top\" title=\"psysml:c4b7552d-b9f7-430e-8774-a992809b5587\" xlink:actuate=\"onRequest\" xlink:href=\"psysml:c4b7552d-b9f7-430e-8774-a992809b5587\" xlink:show=\"new\" xlink:title=\"psysml:c4b7552d-b9f7-430e-8774-a992809b5587\" xlink:type=\"simple\"><polygon fill=\"none\" points=\"16,6,206.0625,6,213.0625,28.2969,384,28.2969,384,253,16,253,16,6\" style=\"stroke:#000000;stroke-width:1.5;\"/><line style=\"stroke:#000000;stroke-width:1.5;\" x1=\"16\" x2=\"213.0625\" y1=\"28.2969\" y2=\"28.2969\"/><text fill=\"#000000\" font-family=\"sans-serif\" font-size=\"14\" font-weight=\"bold\" lengthAdjust=\"spacing\" textLength=\"184.0625\" x=\"20\" y=\"20.9951\">QualifiedNameImportTest</text></a></g><!--MD5=[e4f7fae6ed58524ba242bb0b0d3be6b7]\n",
       "cluster E2--><g id=\"cluster_E2\"><a href=\"psysml:50965905-a474-4117-8075-2a307b415370\" target=\"_top\" title=\"psysml:50965905-a474-4117-8075-2a307b415370\" xlink:actuate=\"onRequest\" xlink:href=\"psysml:50965905-a474-4117-8075-2a307b415370\" xlink:show=\"new\" xlink:title=\"psysml:50965905-a474-4117-8075-2a307b415370\" xlink:type=\"simple\"><polygon fill=\"none\" points=\"229,59,253.875,59,260.875,81.2969,352,81.2969,352,191,229,191,229,59\" style=\"stroke:#000000;stroke-width:1.5;\"/><line style=\"stroke:#000000;stroke-width:1.5;\" x1=\"229\" x2=\"260.875\" y1=\"81.2969\" y2=\"81.2969\"/><text fill=\"#000000\" font-family=\"sans-serif\" font-size=\"14\" font-weight=\"bold\" lengthAdjust=\"spacing\" textLength=\"18.875\" x=\"233\" y=\"73.9951\">P1</text></a></g><!--MD5=[f6df4d0ebaf0b5dfb2ced0ae5af7c670]\n",
       "cluster E4--><g id=\"cluster_E4\"><a href=\"psysml:baf5ed1e-c4c1-4a5d-ad5e-204bd26a43d4\" target=\"_top\" title=\"psysml:baf5ed1e-c4c1-4a5d-ad5e-204bd26a43d4\" xlink:actuate=\"onRequest\" xlink:href=\"psysml:baf5ed1e-c4c1-4a5d-ad5e-204bd26a43d4\" xlink:show=\"new\" xlink:title=\"psysml:baf5ed1e-c4c1-4a5d-ad5e-204bd26a43d4\" xlink:type=\"simple\"><polygon fill=\"none\" points=\"40,49,64.875,49,71.875,71.2969,122,71.2969,122,229,40,229,40,49\" style=\"stroke:#000000;stroke-width:1.5;\"/><line style=\"stroke:#000000;stroke-width:1.5;\" x1=\"40\" x2=\"71.875\" y1=\"71.2969\" y2=\"71.2969\"/><text fill=\"#000000\" font-family=\"sans-serif\" font-size=\"14\" font-weight=\"bold\" lengthAdjust=\"spacing\" textLength=\"18.875\" x=\"44\" y=\"63.9951\">P2</text></a></g><g><a href=\"psysml:7bcd0150-a304-4bd6-beeb-4a591e07f43e\" target=\"_top\" title=\"psysml:7bcd0150-a304-4bd6-beeb-4a591e07f43e\" xlink:actuate=\"onRequest\" xlink:href=\"psysml:7bcd0150-a304-4bd6-beeb-4a591e07f43e\" xlink:show=\"new\" xlink:title=\"psysml:7bcd0150-a304-4bd6-beeb-4a591e07f43e\" xlink:type=\"simple\"><rect fill=\"#FFFFFF\" height=\"45.2656\" id=\"E3\" style=\"stroke:#383838;stroke-width:1.5;\" width=\"75\" x=\"253\" y=\"102.5\"/><text fill=\"#000000\" font-family=\"sans-serif\" font-size=\"12\" font-style=\"italic\" lengthAdjust=\"spacing\" textLength=\"68\" x=\"256.5\" y=\"118.6387\">«part  def»</text><text fill=\"#000000\" font-family=\"sans-serif\" font-size=\"14\" lengthAdjust=\"spacing\" textLength=\"9\" x=\"286\" y=\"134.4639\">A</text></a></g><a href=\"psysml:70275c95-cc90-4a8f-9ab9-2df7f67b6861\" target=\"_top\" title=\"psysml:70275c95-cc90-4a8f-9ab9-2df7f67b6861\" xlink:actuate=\"onRequest\" xlink:href=\"psysml:70275c95-cc90-4a8f-9ab9-2df7f67b6861\" xlink:show=\"new\" xlink:title=\"psysml:70275c95-cc90-4a8f-9ab9-2df7f67b6861\" xlink:type=\"simple\"><polygon fill=\"#FFFFFF\" points=\"58,159.5,90,159.5,97,181.7969,104,181.7969,104,212.0938,58,212.0938,58,159.5\" style=\"stroke:#181818;stroke-width:0.5;\"/><line style=\"stroke:#181818;stroke-width:0.5;\" x1=\"58\" x2=\"97\" y1=\"181.7969\" y2=\"181.7969\"/><text fill=\"#000000\" font-family=\"sans-serif\" font-size=\"14\" lengthAdjust=\"spacing\" textLength=\"26\" x=\"62\" y=\"174.4951\">P2a</text></a><g><a href=\"psysml:1e68c641-a483-45d8-8926-6ab40309dfc3\" target=\"_top\" title=\"psysml:1e68c641-a483-45d8-8926-6ab40309dfc3\" xlink:actuate=\"onRequest\" xlink:href=\"psysml:1e68c641-a483-45d8-8926-6ab40309dfc3\" xlink:show=\"new\" xlink:title=\"psysml:1e68c641-a483-45d8-8926-6ab40309dfc3\" xlink:type=\"simple\"><rect fill=\"#FFFFFF\" height=\"40\" id=\"E6\" rx=\"10\" ry=\"10\" style=\"stroke:#383838;stroke-width:1.5;\" width=\"50\" x=\"56\" y=\"84\"/><text fill=\"#000000\" font-family=\"sans-serif\" font-size=\"14\" lengthAdjust=\"spacing\" textLength=\"25\" x=\"68.5\" y=\"101.9951\">x: A</text></a></g><!--MD5=[15ebcb19ae302d9b601edb458606d402]\n",
       "link E5 to E2--><g id=\"link_E5_E2\"><a href=\"psysml:0b7a29bb-3729-45f6-9ea2-8894bf23e053\" target=\"_top\" title=\"psysml:0b7a29bb-3729-45f6-9ea2-8894bf23e053\" xlink:actuate=\"onRequest\" xlink:href=\"psysml:0b7a29bb-3729-45f6-9ea2-8894bf23e053\" xlink:show=\"new\" xlink:title=\"psysml:0b7a29bb-3729-45f6-9ea2-8894bf23e053\" xlink:type=\"simple\"><path d=\"M104.21,185.68 C130.555,185.3 175.8525,184.645 215.0637,184.0775 C217.5145,184.042 219.9414,184.0069 222.3384,183.9722 C223.5369,183.9549 224.728,183.9376 225.9108,183.9205 C226.5022,183.9119 227.0916,183.9034 227.6788,183.8949 C227.9723,183.8907 228.2654,183.8864 228.5579,183.8822 \" fill=\"none\" id=\"E5-to-E2\" style=\"stroke:#181818;stroke-width:1.0;stroke-dasharray:7.0,7.0;\"/><polygon fill=\"#181818\" points=\"228.5579,183.8822,219.501,180.0129,223.5584,183.9546,219.6168,188.012,228.5579,183.8822\" style=\"stroke:#181818;stroke-width:1.0;\"/><text fill=\"#000000\" font-family=\"sans-serif\" font-size=\"13\" lengthAdjust=\"spacing\" textLength=\"65\" x=\"139\" y=\"181.0669\">«import»*</text></a></g><!--MD5=[a717450b82c80b9240a525fa862496af]\n",
       "link E6 to E3--><g id=\"link_E6_E3\"><a href=\"psysml:d6b7e27f-bd18-4212-9fb0-b02d6224d86d\" target=\"_top\" title=\"psysml:d6b7e27f-bd18-4212-9fb0-b02d6224d86d\" xlink:actuate=\"onRequest\" xlink:href=\"psysml:d6b7e27f-bd18-4212-9fb0-b02d6224d86d\" xlink:show=\"new\" xlink:title=\"psysml:d6b7e27f-bd18-4212-9fb0-b02d6224d86d\" xlink:type=\"simple\"><path d=\"M106.21,106.45 C137.05,109.57 191.33,115.06 232.84,119.27 \" fill=\"none\" id=\"E6-to-E3\" style=\"stroke:#181818;stroke-width:1.0;\"/><polygon fill=\"#FFFFFF\" points=\"252.9,121.3,233.2917,126.351,234.7015,112.4222,252.9,121.3\" style=\"stroke:#181818;stroke-width:1.0;\"/><ellipse cx=\"227.822\" cy=\"123.7871\" fill=\"#181818\" rx=\"2\" ry=\"2\" style=\"stroke:#181818;stroke-width:1.0;\"/><ellipse cx=\"228.8291\" cy=\"113.838\" fill=\"#181818\" rx=\"2\" ry=\"2\" style=\"stroke:#181818;stroke-width:1.0;\"/></a></g><!--MD5=[14e4e0307df8c37fb86effb8531c319f]\n",
       "@startuml\r\n",
       "skin sysmlbw\r\n",
       "skinparam monochrome true\r\n",
       "skinparam wrapWidth 300\r\n",
       "hide circle\r\n",
       "left to right direction\r\n",
       "skinparam ranksep 10\r\n",
       "skinparam rectangle {\r\n",
       " backgroundColor<<block>> LightGreen\r\n",
       "}\r\n",
       "\r\n",
       "package \"QualifiedNameImportTest\" as E1  [[psysml:c4b7552d-b9f7-430e-8774-a992809b5587 ]]  {\r\n",
       "package \"P1\" as E2  [[psysml:50965905-a474-4117-8075-2a307b415370 ]]  {\r\n",
       "rec def \"A\" as E3  <<(T,blue) part  def>> [[psysml:7bcd0150-a304-4bd6-beeb-4a591e07f43e ]] {\r\n",
       "}\r\n",
       "}\r\n",
       "package \"P2\" as E4  [[psysml:baf5ed1e-c4c1-4a5d-ad5e-204bd26a43d4 ]]  {\r\n",
       "package \"P2a\" as E5  [[psysml:70275c95-cc90-4a8f-9ab9-2df7f67b6861 ]]  {\r\n",
       "}\r\n",
       "rec usage \"x: A\" as E6 [[psysml:1e68c641-a483-45d8-8926-6ab40309dfc3 ]] {\r\n",
       "}\r\n",
       "}\r\n",
       "}\r\n",
       "E5 ..> E2 [[psysml:0b7a29bb-3729-45f6-9ea2-8894bf23e053 ]] : <<import>>*\r\n",
       "E6 - -:|> E3 [[psysml:d6b7e27f-bd18-4212-9fb0-b02d6224d86d ]] \r\n",
       "@enduml\r\n",
       "\n",
       "PlantUML version 1.2022.7(Mon Aug 22 17:01:30 UTC 2022)\n",
       "(EPL source distribution)\n",
       "Java Runtime: OpenJDK Runtime Environment\n",
       "JVM: OpenJDK 64-Bit Server VM\n",
       "Default Encoding: UTF-8\n",
       "Language: en\n",
       "Country: null\n",
       "--></g></svg>"
      ]
     },
     "execution_count": 19,
     "metadata": {},
     "output_type": "execute_result"
    }
   ],
   "source": [
    "%viz --style=\"LR\" --view=\"Interconnection\" \"QualifiedNameImportTest\""
   ]
  },
  {
   "cell_type": "code",
   "execution_count": 20,
   "id": "180fdceb",
   "metadata": {
    "execution": {
     "iopub.execute_input": "2024-12-16T03:25:42.230198Z",
     "iopub.status.busy": "2024-12-16T03:25:42.229973Z",
     "iopub.status.idle": "2024-12-16T03:25:42.234658Z",
     "shell.execute_reply": "2024-12-16T03:25:42.234475Z"
    }
   },
   "outputs": [
    {
     "data": {
      "image/svg+xml": [
       "<?xml version=\"1.0\" encoding=\"UTF-8\" standalone=\"no\"?><svg xmlns=\"http://www.w3.org/2000/svg\" xmlns:xlink=\"http://www.w3.org/1999/xlink\" contentStyleType=\"text/css\" height=\"10px\" preserveAspectRatio=\"none\" style=\"width:10px;height:10px;background:#FFFFFF;\" version=\"1.1\" viewBox=\"0 0 10 10\" width=\"10px\" zoomAndPan=\"magnify\"><defs/><g><!--MD5=[a45826aa31d3f335355a0e6fe4d8f867]\n",
       "@startuml\r\n",
       "skin sysmlbw\r\n",
       "skinparam monochrome true\r\n",
       "skinparam wrapWidth 300\r\n",
       "hide circle\r\n",
       "left to right direction\r\n",
       "skinparam ranksep 8\r\n",
       "\r\n",
       "@enduml\r\n",
       "\n",
       "PlantUML version 1.2022.7(Mon Aug 22 17:01:30 UTC 2022)\n",
       "(EPL source distribution)\n",
       "Java Runtime: OpenJDK Runtime Environment\n",
       "JVM: OpenJDK 64-Bit Server VM\n",
       "Default Encoding: UTF-8\n",
       "Language: en\n",
       "Country: null\n",
       "--></g></svg>"
      ]
     },
     "execution_count": 20,
     "metadata": {},
     "output_type": "execute_result"
    }
   ],
   "source": [
    "%viz --style=\"LR\" --view=\"Action\" \"QualifiedNameImportTest\""
   ]
  },
  {
   "cell_type": "code",
   "execution_count": 21,
   "id": "8b8f31b7",
   "metadata": {
    "execution": {
     "iopub.execute_input": "2024-12-16T03:25:42.287574Z",
     "iopub.status.busy": "2024-12-16T03:25:42.287357Z",
     "iopub.status.idle": "2024-12-16T03:25:42.293969Z",
     "shell.execute_reply": "2024-12-16T03:25:42.293789Z"
    }
   },
   "outputs": [
    {
     "data": {
      "image/svg+xml": [
       "<?xml version=\"1.0\" encoding=\"UTF-8\" standalone=\"no\"?><svg xmlns=\"http://www.w3.org/2000/svg\" xmlns:xlink=\"http://www.w3.org/1999/xlink\" contentStyleType=\"text/css\" height=\"10px\" preserveAspectRatio=\"none\" style=\"width:10px;height:10px;background:#FFFFFF;\" version=\"1.1\" viewBox=\"0 0 10 10\" width=\"10px\" zoomAndPan=\"magnify\"><defs/><g><!--MD5=[3d7abb46b795db4c9d99c7acf425de78]\n",
       "@startuml\r\n",
       "skin sysmlbw\r\n",
       "skinparam monochrome true\r\n",
       "skinparam wrapWidth 300\r\n",
       "hide circle\r\n",
       "left to right direction\r\n",
       "skinparam roundcorner 20\r\n",
       "skinparam BoxPadding 20\r\n",
       "skinparam SequenceBoxBackgroundColor #white\r\n",
       "skinparam style strictuml\r\n",
       "skinparam maxMessageSize 100\r\n",
       "\r\n",
       "@enduml\r\n",
       "\n",
       "PlantUML version 1.2022.7(Mon Aug 22 17:01:30 UTC 2022)\n",
       "(EPL source distribution)\n",
       "Java Runtime: OpenJDK Runtime Environment\n",
       "JVM: OpenJDK 64-Bit Server VM\n",
       "Default Encoding: UTF-8\n",
       "Language: en\n",
       "Country: null\n",
       "--></g></svg>"
      ]
     },
     "execution_count": 21,
     "metadata": {},
     "output_type": "execute_result"
    }
   ],
   "source": [
    "%viz --style=\"LR\" --view=\"Sequence\" \"QualifiedNameImportTest\""
   ]
  },
  {
   "cell_type": "code",
   "execution_count": 22,
   "id": "6223ea4d",
   "metadata": {
    "execution": {
     "iopub.execute_input": "2024-12-16T03:25:42.347485Z",
     "iopub.status.busy": "2024-12-16T03:25:42.347262Z",
     "iopub.status.idle": "2024-12-16T03:25:42.366558Z",
     "shell.execute_reply": "2024-12-16T03:25:42.365607Z"
    }
   },
   "outputs": [
    {
     "data": {
      "image/svg+xml": [
       "<?xml version=\"1.0\" encoding=\"UTF-8\" standalone=\"no\"?><svg xmlns=\"http://www.w3.org/2000/svg\" xmlns:xlink=\"http://www.w3.org/1999/xlink\" contentStyleType=\"text/css\" height=\"268px\" preserveAspectRatio=\"none\" style=\"width:392px;height:268px;background:#FFFFFF;\" version=\"1.1\" viewBox=\"0 0 392 268\" width=\"392px\" zoomAndPan=\"magnify\"><defs/><g><!--MD5=[fbc87193dbaf4d95561dea2c320d4a47]\n",
       "cluster E1--><g id=\"cluster_E1\"><a href=\"psysml:c4b7552d-b9f7-430e-8774-a992809b5587\" target=\"_top\" title=\"psysml:c4b7552d-b9f7-430e-8774-a992809b5587\" xlink:actuate=\"onRequest\" xlink:href=\"psysml:c4b7552d-b9f7-430e-8774-a992809b5587\" xlink:show=\"new\" xlink:title=\"psysml:c4b7552d-b9f7-430e-8774-a992809b5587\" xlink:type=\"simple\"><polygon fill=\"none\" points=\"16,6,206.0625,6,213.0625,28.2969,375,28.2969,375,261,16,261,16,6\" style=\"stroke:#000000;stroke-width:1.5;\"/><line style=\"stroke:#000000;stroke-width:1.5;\" x1=\"16\" x2=\"213.0625\" y1=\"28.2969\" y2=\"28.2969\"/><text fill=\"#000000\" font-family=\"sans-serif\" font-size=\"14\" font-weight=\"bold\" lengthAdjust=\"spacing\" textLength=\"184.0625\" x=\"20\" y=\"20.9951\">QualifiedNameImportTest</text></a></g><!--MD5=[e4f7fae6ed58524ba242bb0b0d3be6b7]\n",
       "cluster E2--><g id=\"cluster_E2\"><a href=\"psysml:50965905-a474-4117-8075-2a307b415370\" target=\"_top\" title=\"psysml:50965905-a474-4117-8075-2a307b415370\" xlink:actuate=\"onRequest\" xlink:href=\"psysml:50965905-a474-4117-8075-2a307b415370\" xlink:show=\"new\" xlink:title=\"psysml:50965905-a474-4117-8075-2a307b415370\" xlink:type=\"simple\"><polygon fill=\"none\" points=\"225,90,249.875,90,256.875,112.2969,343,112.2969,343,224,225,224,225,90\" style=\"stroke:#000000;stroke-width:1.5;\"/><line style=\"stroke:#000000;stroke-width:1.5;\" x1=\"225\" x2=\"256.875\" y1=\"112.2969\" y2=\"112.2969\"/><text fill=\"#000000\" font-family=\"sans-serif\" font-size=\"14\" font-weight=\"bold\" lengthAdjust=\"spacing\" textLength=\"18.875\" x=\"229\" y=\"104.9951\">P1</text></a></g><!--MD5=[f6df4d0ebaf0b5dfb2ced0ae5af7c670]\n",
       "cluster E4--><g id=\"cluster_E4\"><a href=\"psysml:baf5ed1e-c4c1-4a5d-ad5e-204bd26a43d4\" target=\"_top\" title=\"psysml:baf5ed1e-c4c1-4a5d-ad5e-204bd26a43d4\" xlink:actuate=\"onRequest\" xlink:href=\"psysml:baf5ed1e-c4c1-4a5d-ad5e-204bd26a43d4\" xlink:show=\"new\" xlink:title=\"psysml:baf5ed1e-c4c1-4a5d-ad5e-204bd26a43d4\" xlink:type=\"simple\"><polygon fill=\"none\" points=\"40,49,64.875,49,71.875,71.2969,118,71.2969,118,237,40,237,40,49\" style=\"stroke:#000000;stroke-width:1.5;\"/><line style=\"stroke:#000000;stroke-width:1.5;\" x1=\"40\" x2=\"71.875\" y1=\"71.2969\" y2=\"71.2969\"/><text fill=\"#000000\" font-family=\"sans-serif\" font-size=\"14\" font-weight=\"bold\" lengthAdjust=\"spacing\" textLength=\"18.875\" x=\"44\" y=\"63.9951\">P2</text></a></g><!--MD5=[09b614a08d8cba4a07c9adeb5e0fee81]\n",
       "class E3--><a href=\"psysml:7bcd0150-a304-4bd6-beeb-4a591e07f43e\" target=\"_top\" title=\"psysml:7bcd0150-a304-4bd6-beeb-4a591e07f43e\" xlink:actuate=\"onRequest\" xlink:href=\"psysml:7bcd0150-a304-4bd6-beeb-4a591e07f43e\" xlink:show=\"new\" xlink:title=\"psysml:7bcd0150-a304-4bd6-beeb-4a591e07f43e\" xlink:type=\"simple\"><g id=\"elem_E3\"><rect fill=\"#FFFFFF\" height=\"48.2656\" id=\"E3\" style=\"stroke:#181818;stroke-width:0.5;\" width=\"70\" x=\"249\" y=\"152\"/><text fill=\"#000000\" font-family=\"sans-serif\" font-size=\"12\" font-style=\"italic\" lengthAdjust=\"spacing\" textLength=\"68\" x=\"250\" y=\"168.1387\">«part  def»</text><text fill=\"#000000\" font-family=\"sans-serif\" font-size=\"14\" lengthAdjust=\"spacing\" textLength=\"9\" x=\"279.5\" y=\"183.9639\">A</text><line style=\"stroke:#181818;stroke-width:0.5;\" x1=\"250\" x2=\"318\" y1=\"192.2656\" y2=\"192.2656\"/></g></a><!--MD5=[60a26617385b1d2d0262a64233df1f8d]\n",
       "class E6--><a href=\"psysml:1e68c641-a483-45d8-8926-6ab40309dfc3\" target=\"_top\" title=\"psysml:1e68c641-a483-45d8-8926-6ab40309dfc3\" xlink:actuate=\"onRequest\" xlink:href=\"psysml:1e68c641-a483-45d8-8926-6ab40309dfc3\" xlink:show=\"new\" xlink:title=\"psysml:1e68c641-a483-45d8-8926-6ab40309dfc3\" xlink:type=\"simple\"><g id=\"elem_E6\"><rect fill=\"#FFFFFF\" height=\"48.2656\" id=\"E6\" rx=\"10\" ry=\"10\" style=\"stroke:#181818;stroke-width:0.5;\" width=\"42\" x=\"58\" y=\"173\"/><text fill=\"#000000\" font-family=\"sans-serif\" font-size=\"12\" font-style=\"italic\" lengthAdjust=\"spacing\" textLength=\"40\" x=\"59\" y=\"189.1387\">«part»</text><text fill=\"#000000\" font-family=\"sans-serif\" font-size=\"14\" lengthAdjust=\"spacing\" textLength=\"25\" x=\"62.5\" y=\"204.9639\">x: A</text><line style=\"stroke:#181818;stroke-width:0.5;\" x1=\"59\" x2=\"99\" y1=\"213.2656\" y2=\"213.2656\"/></g></a><a href=\"psysml:70275c95-cc90-4a8f-9ab9-2df7f67b6861\" target=\"_top\" title=\"psysml:70275c95-cc90-4a8f-9ab9-2df7f67b6861\" xlink:actuate=\"onRequest\" xlink:href=\"psysml:70275c95-cc90-4a8f-9ab9-2df7f67b6861\" xlink:show=\"new\" xlink:title=\"psysml:70275c95-cc90-4a8f-9ab9-2df7f67b6861\" xlink:type=\"simple\"><polygon fill=\"#FFFFFF\" points=\"56,84.5,88,84.5,95,106.7969,102,106.7969,102,137.0938,56,137.0938,56,84.5\" style=\"stroke:#181818;stroke-width:0.5;\"/><line style=\"stroke:#181818;stroke-width:0.5;\" x1=\"56\" x2=\"95\" y1=\"106.7969\" y2=\"106.7969\"/><text fill=\"#000000\" font-family=\"sans-serif\" font-size=\"14\" lengthAdjust=\"spacing\" textLength=\"26\" x=\"60\" y=\"99.4951\">P2a</text></a><!--MD5=[15ebcb19ae302d9b601edb458606d402]\n",
       "link E5 to E2--><g id=\"link_E5_E2\"><a href=\"psysml:0b7a29bb-3729-45f6-9ea2-8894bf23e053\" target=\"_top\" title=\"psysml:0b7a29bb-3729-45f6-9ea2-8894bf23e053\" xlink:actuate=\"onRequest\" xlink:href=\"psysml:0b7a29bb-3729-45f6-9ea2-8894bf23e053\" xlink:show=\"new\" xlink:title=\"psysml:0b7a29bb-3729-45f6-9ea2-8894bf23e053\" xlink:type=\"simple\"><path d=\"M102.11,111.65 C128.005,112.415 172.23,113.7225 210.4688,114.8538 C215.2486,114.9952 219.9349,115.1338 224.4802,115.2683 \" fill=\"none\" id=\"E5-to-E2\" style=\"stroke:#181818;stroke-width:1.0;stroke-dasharray:7.0,7.0;\"/><polygon fill=\"#181818\" points=\"224.4802,115.2683,215.6024,111.0039,219.4824,115.1204,215.3658,119.0004,224.4802,115.2683\" style=\"stroke:#181818;stroke-width:1.0;\"/><text fill=\"#000000\" font-family=\"sans-serif\" font-size=\"13\" lengthAdjust=\"spacing\" textLength=\"65\" x=\"135\" y=\"109.0669\">«import»*</text></a></g><!--MD5=[a717450b82c80b9240a525fa862496af]\n",
       "link E6 to E3--><g id=\"link_E6_E3\"><a href=\"psysml:d6b7e27f-bd18-4212-9fb0-b02d6224d86d\" target=\"_top\" title=\"psysml:d6b7e27f-bd18-4212-9fb0-b02d6224d86d\" xlink:actuate=\"onRequest\" xlink:href=\"psysml:d6b7e27f-bd18-4212-9fb0-b02d6224d86d\" xlink:show=\"new\" xlink:title=\"psysml:d6b7e27f-bd18-4212-9fb0-b02d6224d86d\" xlink:type=\"simple\"><path d=\"M100.21,194.91 C129.89,191.84 186.34,186 228.7,181.62 \" fill=\"none\" id=\"E6-to-E3\" style=\"stroke:#181818;stroke-width:1.0;\"/><polygon fill=\"#FFFFFF\" points=\"248.76,179.54,230.5811,188.4579,229.1406,174.5322,248.76,179.54\" style=\"stroke:#181818;stroke-width:1.0;\"/><ellipse cx=\"224.7056\" cy=\"187.0551\" fill=\"#181818\" rx=\"2\" ry=\"2\" style=\"stroke:#181818;stroke-width:1.0;\"/><ellipse cx=\"223.6766\" cy=\"177.1082\" fill=\"#181818\" rx=\"2\" ry=\"2\" style=\"stroke:#181818;stroke-width:1.0;\"/></a></g><!--MD5=[7df01cef534b0acdd57cba0167fd6ed0]\n",
       "@startuml\r\n",
       "skin sysmlbw\r\n",
       "skinparam monochrome true\r\n",
       "skinparam wrapWidth 300\r\n",
       "hide circle\r\n",
       "left to right direction\r\n",
       "\r\n",
       "package \"QualifiedNameImportTest\" as E1  [[psysml:c4b7552d-b9f7-430e-8774-a992809b5587 ]]  {\r\n",
       "package \"P1\" as E2  [[psysml:50965905-a474-4117-8075-2a307b415370 ]]  {\r\n",
       "comp def \"A\" as E3  <<(T,blue) part  def>> [[psysml:7bcd0150-a304-4bd6-beeb-4a591e07f43e ]] {\r\n",
       "}\r\n",
       "}\r\n",
       "package \"P2\" as E4  [[psysml:baf5ed1e-c4c1-4a5d-ad5e-204bd26a43d4 ]]  {\r\n",
       "package \"P2a\" as E5  [[psysml:70275c95-cc90-4a8f-9ab9-2df7f67b6861 ]]  {\r\n",
       "}\r\n",
       "comp usage \"x: A  \" as E6  <<(T,blue) part>> [[psysml:1e68c641-a483-45d8-8926-6ab40309dfc3 ]] {\r\n",
       "}\r\n",
       "}\r\n",
       "}\r\n",
       "E5 ..> E2 [[psysml:0b7a29bb-3729-45f6-9ea2-8894bf23e053 ]] : <<import>>*\r\n",
       "E6 - -:|> E3 [[psysml:d6b7e27f-bd18-4212-9fb0-b02d6224d86d ]] \r\n",
       "@enduml\r\n",
       "\n",
       "PlantUML version 1.2022.7(Mon Aug 22 17:01:30 UTC 2022)\n",
       "(EPL source distribution)\n",
       "Java Runtime: OpenJDK Runtime Environment\n",
       "JVM: OpenJDK 64-Bit Server VM\n",
       "Default Encoding: UTF-8\n",
       "Language: en\n",
       "Country: null\n",
       "--></g></svg>"
      ]
     },
     "execution_count": 22,
     "metadata": {},
     "output_type": "execute_result"
    }
   ],
   "source": [
    "%viz --style=\"LR\" --view=\"MIXED\" \"QualifiedNameImportTest\""
   ]
  },
  {
   "cell_type": "code",
   "execution_count": 23,
   "id": "9994ab22",
   "metadata": {
    "execution": {
     "iopub.execute_input": "2024-12-16T03:25:42.422494Z",
     "iopub.status.busy": "2024-12-16T03:25:42.422267Z",
     "iopub.status.idle": "2024-12-16T03:25:42.441887Z",
     "shell.execute_reply": "2024-12-16T03:25:42.441090Z"
    }
   },
   "outputs": [
    {
     "data": {
      "image/svg+xml": [
       "<?xml version=\"1.0\" encoding=\"UTF-8\" standalone=\"no\"?><svg xmlns=\"http://www.w3.org/2000/svg\" xmlns:xlink=\"http://www.w3.org/1999/xlink\" contentStyleType=\"text/css\" height=\"364px\" preserveAspectRatio=\"none\" style=\"width:239px;height:364px;background:#FFFFFF;\" version=\"1.1\" viewBox=\"0 0 239 364\" width=\"239px\" zoomAndPan=\"magnify\"><defs><filter height=\"300%\" id=\"fj5l1cs8907l1\" width=\"300%\" x=\"-1\" y=\"-1\"><feGaussianBlur result=\"blurOut\" stdDeviation=\"2.0\"/><feColorMatrix in=\"blurOut\" result=\"blurOut2\" type=\"matrix\" values=\"0 0 0 0 0 0 0 0 0 0 0 0 0 0 0 0 0 0 .4 0\"/><feOffset dx=\"4.0\" dy=\"4.0\" in=\"blurOut2\" result=\"blurOut3\"/><feBlend in=\"SourceGraphic\" in2=\"blurOut3\" mode=\"normal\"/></filter></defs><g><!--MD5=[fbc87193dbaf4d95561dea2c320d4a47]\n",
       "cluster E1--><g id=\"cluster_E1\"><a href=\"psysml:c4b7552d-b9f7-430e-8774-a992809b5587\" target=\"_top\" title=\"psysml:c4b7552d-b9f7-430e-8774-a992809b5587\" xlink:actuate=\"onRequest\" xlink:href=\"psysml:c4b7552d-b9f7-430e-8774-a992809b5587\" xlink:show=\"new\" xlink:title=\"psysml:c4b7552d-b9f7-430e-8774-a992809b5587\" xlink:type=\"simple\"><polygon fill=\"none\" filter=\"url(#fj5l1cs8907l1)\" points=\"16,6,206.0625,6,213.0625,28.2969,219,28.2969,219,357,16,357,16,6\" style=\"stroke:#000000;stroke-width:1.5;\"/><line style=\"stroke:#000000;stroke-width:1.5;\" x1=\"16\" x2=\"213.0625\" y1=\"28.2969\" y2=\"28.2969\"/><text fill=\"#000000\" font-family=\"sans-serif\" font-size=\"14\" font-weight=\"bold\" lengthAdjust=\"spacing\" textLength=\"184.0625\" x=\"20\" y=\"20.9951\">QualifiedNameImportTest</text></a></g><!--MD5=[e4f7fae6ed58524ba242bb0b0d3be6b7]\n",
       "cluster E2--><g id=\"cluster_E2\"><a href=\"psysml:50965905-a474-4117-8075-2a307b415370\" target=\"_top\" title=\"psysml:50965905-a474-4117-8075-2a307b415370\" xlink:actuate=\"onRequest\" xlink:href=\"psysml:50965905-a474-4117-8075-2a307b415370\" xlink:show=\"new\" xlink:title=\"psysml:50965905-a474-4117-8075-2a307b415370\" xlink:type=\"simple\"><polygon fill=\"none\" filter=\"url(#fj5l1cs8907l1)\" points=\"48,210,72.875,210,79.875,232.2969,185,232.2969,185,325,48,325,48,210\" style=\"stroke:#000000;stroke-width:1.5;\"/><line style=\"stroke:#000000;stroke-width:1.5;\" x1=\"48\" x2=\"79.875\" y1=\"232.2969\" y2=\"232.2969\"/><text fill=\"#000000\" font-family=\"sans-serif\" font-size=\"14\" font-weight=\"bold\" lengthAdjust=\"spacing\" textLength=\"18.875\" x=\"52\" y=\"224.9951\">P1</text></a></g><!--MD5=[f6df4d0ebaf0b5dfb2ced0ae5af7c670]\n",
       "cluster E4--><g id=\"cluster_E4\"><a href=\"psysml:baf5ed1e-c4c1-4a5d-ad5e-204bd26a43d4\" target=\"_top\" title=\"psysml:baf5ed1e-c4c1-4a5d-ad5e-204bd26a43d4\" xlink:actuate=\"onRequest\" xlink:href=\"psysml:baf5ed1e-c4c1-4a5d-ad5e-204bd26a43d4\" xlink:show=\"new\" xlink:title=\"psysml:baf5ed1e-c4c1-4a5d-ad5e-204bd26a43d4\" xlink:type=\"simple\"><polygon fill=\"none\" filter=\"url(#fj5l1cs8907l1)\" points=\"40,49,64.875,49,71.875,71.2969,195,71.2969,195,153,40,153,40,49\" style=\"stroke:#000000;stroke-width:1.5;\"/><line style=\"stroke:#000000;stroke-width:1.5;\" x1=\"40\" x2=\"71.875\" y1=\"71.2969\" y2=\"71.2969\"/><text fill=\"#000000\" font-family=\"sans-serif\" font-size=\"14\" font-weight=\"bold\" lengthAdjust=\"spacing\" textLength=\"18.875\" x=\"44\" y=\"63.9951\">P2</text></a></g><!--MD5=[09b614a08d8cba4a07c9adeb5e0fee81]\n",
       "class E3--><a href=\"psysml:7bcd0150-a304-4bd6-beeb-4a591e07f43e\" target=\"_top\" title=\"psysml:7bcd0150-a304-4bd6-beeb-4a591e07f43e\" xlink:actuate=\"onRequest\" xlink:href=\"psysml:7bcd0150-a304-4bd6-beeb-4a591e07f43e\" xlink:show=\"new\" xlink:title=\"psysml:7bcd0150-a304-4bd6-beeb-4a591e07f43e\" xlink:type=\"simple\"><g id=\"elem_E3\"><rect fill=\"#FFFACD\" filter=\"url(#fj5l1cs8907l1)\" height=\"48.2656\" id=\"E3\" style=\"stroke:#181818;stroke-width:0.5;\" width=\"70\" x=\"72\" y=\"253\"/><text fill=\"#000000\" font-family=\"sans-serif\" font-size=\"12\" font-style=\"italic\" lengthAdjust=\"spacing\" textLength=\"68\" x=\"73\" y=\"269.1387\">«part  def»</text><text fill=\"#000000\" font-family=\"sans-serif\" font-size=\"14\" lengthAdjust=\"spacing\" textLength=\"9\" x=\"102.5\" y=\"284.9639\">A</text><line style=\"stroke:#181818;stroke-width:0.5;\" x1=\"73\" x2=\"141\" y1=\"293.2656\" y2=\"293.2656\"/></g></a><!--MD5=[60a26617385b1d2d0262a64233df1f8d]\n",
       "class E6--><a href=\"psysml:1e68c641-a483-45d8-8926-6ab40309dfc3\" target=\"_top\" title=\"psysml:1e68c641-a483-45d8-8926-6ab40309dfc3\" xlink:actuate=\"onRequest\" xlink:href=\"psysml:1e68c641-a483-45d8-8926-6ab40309dfc3\" xlink:show=\"new\" xlink:title=\"psysml:1e68c641-a483-45d8-8926-6ab40309dfc3\" xlink:type=\"simple\"><g id=\"elem_E6\"><rect fill=\"#FFFACD\" filter=\"url(#fj5l1cs8907l1)\" height=\"48.2656\" id=\"E6\" rx=\"10\" ry=\"10\" style=\"stroke:#181818;stroke-width:0.5;\" width=\"42\" x=\"56\" y=\"86.5\"/><text fill=\"#000000\" font-family=\"sans-serif\" font-size=\"12\" font-style=\"italic\" lengthAdjust=\"spacing\" textLength=\"40\" x=\"57\" y=\"102.6387\">«part»</text><text fill=\"#000000\" font-family=\"sans-serif\" font-size=\"14\" lengthAdjust=\"spacing\" textLength=\"25\" x=\"60.5\" y=\"118.4639\">x: A</text><line style=\"stroke:#181818;stroke-width:0.5;\" x1=\"57\" x2=\"97\" y1=\"126.7656\" y2=\"126.7656\"/></g></a><a href=\"psysml:70275c95-cc90-4a8f-9ab9-2df7f67b6861\" target=\"_top\" title=\"psysml:70275c95-cc90-4a8f-9ab9-2df7f67b6861\" xlink:actuate=\"onRequest\" xlink:href=\"psysml:70275c95-cc90-4a8f-9ab9-2df7f67b6861\" xlink:show=\"new\" xlink:title=\"psysml:70275c95-cc90-4a8f-9ab9-2df7f67b6861\" xlink:type=\"simple\"><polygon fill=\"#FFFACD\" filter=\"url(#fj5l1cs8907l1)\" points=\"133,84,165,84,172,106.2969,179,106.2969,179,136.5938,133,136.5938,133,84\" style=\"stroke:#181818;stroke-width:0.5;\"/><line style=\"stroke:#181818;stroke-width:0.5;\" x1=\"133\" x2=\"172\" y1=\"106.2969\" y2=\"106.2969\"/><text fill=\"#000000\" font-family=\"sans-serif\" font-size=\"14\" lengthAdjust=\"spacing\" textLength=\"26\" x=\"137\" y=\"98.9951\">P2a</text></a><!--MD5=[15ebcb19ae302d9b601edb458606d402]\n",
       "link E5 to E2--><g id=\"link_E5_E2\"><a href=\"psysml:0b7a29bb-3729-45f6-9ea2-8894bf23e053\" target=\"_top\" title=\"psysml:0b7a29bb-3729-45f6-9ea2-8894bf23e053\" xlink:actuate=\"onRequest\" xlink:href=\"psysml:0b7a29bb-3729-45f6-9ea2-8894bf23e053\" xlink:show=\"new\" xlink:title=\"psysml:0b7a29bb-3729-45f6-9ea2-8894bf23e053\" xlink:type=\"simple\"><path d=\"M159.28,137.2 C160.735,148.5875 162.5469,162.7762 164.4519,177.6978 C165.4044,185.1586 166.3802,192.8026 167.3463,200.3712 C167.5878,202.2634 167.8287,204.1508 168.0685,206.0295 C168.1884,206.9689 168.308,207.906 168.4273,208.8405 C168.4571,209.0741 168.4869,209.3076 168.5167,209.5408 \" fill=\"none\" id=\"E5-to-E2\" style=\"stroke:#181818;stroke-width:1.0;stroke-dasharray:7.0,7.0;\"/><polygon fill=\"#181818\" points=\"168.5167,209.5408,171.345,200.1068,167.8836,204.5811,163.4094,201.1197,168.5167,209.5408\" style=\"stroke:#181818;stroke-width:1.0;\"/><text fill=\"#000000\" font-family=\"sans-serif\" font-size=\"13\" lengthAdjust=\"spacing\" textLength=\"65\" x=\"166\" y=\"182.0669\">«import»*</text></a></g><!--MD5=[a717450b82c80b9240a525fa862496af]\n",
       "link E6 to E3--><g id=\"link_E6_E3\"><a href=\"psysml:d6b7e27f-bd18-4212-9fb0-b02d6224d86d\" target=\"_top\" title=\"psysml:d6b7e27f-bd18-4212-9fb0-b02d6224d86d\" xlink:actuate=\"onRequest\" xlink:href=\"psysml:d6b7e27f-bd18-4212-9fb0-b02d6224d86d\" xlink:show=\"new\" xlink:title=\"psysml:d6b7e27f-bd18-4212-9fb0-b02d6224d86d\" xlink:type=\"simple\"><path d=\"M81.23,134.72 C85.88,160.19 93.44,201.63 99.17,233.06 \" fill=\"none\" id=\"E6-to-E3\" style=\"stroke:#181818;stroke-width:1.0;\"/><polygon fill=\"#FFFFFF\" points=\"102.79,252.9,92.4985,235.462,106.2719,232.9532,102.79,252.9\" style=\"stroke:#181818;stroke-width:1.0;\"/><ellipse cx=\"93.4447\" cy=\"229.4958\" fill=\"#181818\" rx=\"2\" ry=\"2\" style=\"stroke:#181818;stroke-width:1.0;\"/><ellipse cx=\"103.2828\" cy=\"227.7038\" fill=\"#181818\" rx=\"2\" ry=\"2\" style=\"stroke:#181818;stroke-width:1.0;\"/></a></g><!--MD5=[57b9e2dfd883013793df1bdc906dde19]\n",
       "@startuml\r\n",
       "skin sysmlc\r\n",
       "skinparam wrapWidth 300\r\n",
       "hide circle\r\n",
       "\r\n",
       "package \"QualifiedNameImportTest\" as E1  [[psysml:c4b7552d-b9f7-430e-8774-a992809b5587 ]]  {\r\n",
       "package \"P1\" as E2  [[psysml:50965905-a474-4117-8075-2a307b415370 ]]  {\r\n",
       "comp def \"A\" as E3  <<(T,blue) part  def>> [[psysml:7bcd0150-a304-4bd6-beeb-4a591e07f43e ]] {\r\n",
       "}\r\n",
       "}\r\n",
       "package \"P2\" as E4  [[psysml:baf5ed1e-c4c1-4a5d-ad5e-204bd26a43d4 ]]  {\r\n",
       "package \"P2a\" as E5  [[psysml:70275c95-cc90-4a8f-9ab9-2df7f67b6861 ]]  {\r\n",
       "}\r\n",
       "comp usage \"x: A  \" as E6  <<(T,blue) part>> [[psysml:1e68c641-a483-45d8-8926-6ab40309dfc3 ]] {\r\n",
       "}\r\n",
       "}\r\n",
       "}\r\n",
       "E5 ..> E2 [[psysml:0b7a29bb-3729-45f6-9ea2-8894bf23e053 ]] : <<import>>*\r\n",
       "E6 - -:|> E3 [[psysml:d6b7e27f-bd18-4212-9fb0-b02d6224d86d ]] \r\n",
       "@enduml\r\n",
       "\n",
       "PlantUML version 1.2022.7(Mon Aug 22 17:01:30 UTC 2022)\n",
       "(EPL source distribution)\n",
       "Java Runtime: OpenJDK Runtime Environment\n",
       "JVM: OpenJDK 64-Bit Server VM\n",
       "Default Encoding: UTF-8\n",
       "Language: en\n",
       "Country: null\n",
       "--></g></svg>"
      ]
     },
     "execution_count": 23,
     "metadata": {},
     "output_type": "execute_result"
    }
   ],
   "source": [
    "%viz --style=\"STDCOLOR\" --view=\"Default\" \"QualifiedNameImportTest\""
   ]
  },
  {
   "cell_type": "code",
   "execution_count": 24,
   "id": "0426127c",
   "metadata": {
    "execution": {
     "iopub.execute_input": "2024-12-16T03:25:42.493217Z",
     "iopub.status.busy": "2024-12-16T03:25:42.492993Z",
     "iopub.status.idle": "2024-12-16T03:25:42.511129Z",
     "shell.execute_reply": "2024-12-16T03:25:42.510183Z"
    }
   },
   "outputs": [
    {
     "data": {
      "image/svg+xml": [
       "<?xml version=\"1.0\" encoding=\"UTF-8\" standalone=\"no\"?><svg xmlns=\"http://www.w3.org/2000/svg\" xmlns:xlink=\"http://www.w3.org/1999/xlink\" contentStyleType=\"text/css\" height=\"364px\" preserveAspectRatio=\"none\" style=\"width:239px;height:364px;background:#FFFFFF;\" version=\"1.1\" viewBox=\"0 0 239 364\" width=\"239px\" zoomAndPan=\"magnify\"><defs><filter height=\"300%\" id=\"fj5l1cs8907l1\" width=\"300%\" x=\"-1\" y=\"-1\"><feGaussianBlur result=\"blurOut\" stdDeviation=\"2.0\"/><feColorMatrix in=\"blurOut\" result=\"blurOut2\" type=\"matrix\" values=\"0 0 0 0 0 0 0 0 0 0 0 0 0 0 0 0 0 0 .4 0\"/><feOffset dx=\"4.0\" dy=\"4.0\" in=\"blurOut2\" result=\"blurOut3\"/><feBlend in=\"SourceGraphic\" in2=\"blurOut3\" mode=\"normal\"/></filter></defs><g><!--MD5=[fbc87193dbaf4d95561dea2c320d4a47]\n",
       "cluster E1--><g id=\"cluster_E1\"><a href=\"psysml:c4b7552d-b9f7-430e-8774-a992809b5587\" target=\"_top\" title=\"psysml:c4b7552d-b9f7-430e-8774-a992809b5587\" xlink:actuate=\"onRequest\" xlink:href=\"psysml:c4b7552d-b9f7-430e-8774-a992809b5587\" xlink:show=\"new\" xlink:title=\"psysml:c4b7552d-b9f7-430e-8774-a992809b5587\" xlink:type=\"simple\"><polygon fill=\"none\" filter=\"url(#fj5l1cs8907l1)\" points=\"16,6,206.0625,6,213.0625,28.2969,219,28.2969,219,357,16,357,16,6\" style=\"stroke:#000000;stroke-width:1.5;\"/><line style=\"stroke:#000000;stroke-width:1.5;\" x1=\"16\" x2=\"213.0625\" y1=\"28.2969\" y2=\"28.2969\"/><text fill=\"#000000\" font-family=\"sans-serif\" font-size=\"14\" font-weight=\"bold\" lengthAdjust=\"spacing\" textLength=\"184.0625\" x=\"20\" y=\"20.9951\">QualifiedNameImportTest</text></a></g><!--MD5=[e4f7fae6ed58524ba242bb0b0d3be6b7]\n",
       "cluster E2--><g id=\"cluster_E2\"><a href=\"psysml:50965905-a474-4117-8075-2a307b415370\" target=\"_top\" title=\"psysml:50965905-a474-4117-8075-2a307b415370\" xlink:actuate=\"onRequest\" xlink:href=\"psysml:50965905-a474-4117-8075-2a307b415370\" xlink:show=\"new\" xlink:title=\"psysml:50965905-a474-4117-8075-2a307b415370\" xlink:type=\"simple\"><polygon fill=\"none\" filter=\"url(#fj5l1cs8907l1)\" points=\"48,210,72.875,210,79.875,232.2969,185,232.2969,185,325,48,325,48,210\" style=\"stroke:#000000;stroke-width:1.5;\"/><line style=\"stroke:#000000;stroke-width:1.5;\" x1=\"48\" x2=\"79.875\" y1=\"232.2969\" y2=\"232.2969\"/><text fill=\"#000000\" font-family=\"sans-serif\" font-size=\"14\" font-weight=\"bold\" lengthAdjust=\"spacing\" textLength=\"18.875\" x=\"52\" y=\"224.9951\">P1</text></a></g><!--MD5=[f6df4d0ebaf0b5dfb2ced0ae5af7c670]\n",
       "cluster E4--><g id=\"cluster_E4\"><a href=\"psysml:baf5ed1e-c4c1-4a5d-ad5e-204bd26a43d4\" target=\"_top\" title=\"psysml:baf5ed1e-c4c1-4a5d-ad5e-204bd26a43d4\" xlink:actuate=\"onRequest\" xlink:href=\"psysml:baf5ed1e-c4c1-4a5d-ad5e-204bd26a43d4\" xlink:show=\"new\" xlink:title=\"psysml:baf5ed1e-c4c1-4a5d-ad5e-204bd26a43d4\" xlink:type=\"simple\"><polygon fill=\"none\" filter=\"url(#fj5l1cs8907l1)\" points=\"40,49,64.875,49,71.875,71.2969,195,71.2969,195,153,40,153,40,49\" style=\"stroke:#000000;stroke-width:1.5;\"/><line style=\"stroke:#000000;stroke-width:1.5;\" x1=\"40\" x2=\"71.875\" y1=\"71.2969\" y2=\"71.2969\"/><text fill=\"#000000\" font-family=\"sans-serif\" font-size=\"14\" font-weight=\"bold\" lengthAdjust=\"spacing\" textLength=\"18.875\" x=\"44\" y=\"63.9951\">P2</text></a></g><!--MD5=[09b614a08d8cba4a07c9adeb5e0fee81]\n",
       "class E3--><a href=\"psysml:7bcd0150-a304-4bd6-beeb-4a591e07f43e\" target=\"_top\" title=\"psysml:7bcd0150-a304-4bd6-beeb-4a591e07f43e\" xlink:actuate=\"onRequest\" xlink:href=\"psysml:7bcd0150-a304-4bd6-beeb-4a591e07f43e\" xlink:show=\"new\" xlink:title=\"psysml:7bcd0150-a304-4bd6-beeb-4a591e07f43e\" xlink:type=\"simple\"><g id=\"elem_E3\"><rect fill=\"#FFFACD\" filter=\"url(#fj5l1cs8907l1)\" height=\"48.2656\" id=\"E3\" style=\"stroke:#181818;stroke-width:0.5;\" width=\"70\" x=\"72\" y=\"253\"/><text fill=\"#000000\" font-family=\"sans-serif\" font-size=\"12\" font-style=\"italic\" lengthAdjust=\"spacing\" textLength=\"68\" x=\"73\" y=\"269.1387\">«part  def»</text><text fill=\"#000000\" font-family=\"sans-serif\" font-size=\"14\" lengthAdjust=\"spacing\" textLength=\"9\" x=\"102.5\" y=\"284.9639\">A</text><line style=\"stroke:#181818;stroke-width:0.5;\" x1=\"73\" x2=\"141\" y1=\"293.2656\" y2=\"293.2656\"/></g></a><!--MD5=[60a26617385b1d2d0262a64233df1f8d]\n",
       "class E6--><a href=\"psysml:1e68c641-a483-45d8-8926-6ab40309dfc3\" target=\"_top\" title=\"psysml:1e68c641-a483-45d8-8926-6ab40309dfc3\" xlink:actuate=\"onRequest\" xlink:href=\"psysml:1e68c641-a483-45d8-8926-6ab40309dfc3\" xlink:show=\"new\" xlink:title=\"psysml:1e68c641-a483-45d8-8926-6ab40309dfc3\" xlink:type=\"simple\"><g id=\"elem_E6\"><rect fill=\"#FFFACD\" filter=\"url(#fj5l1cs8907l1)\" height=\"48.2656\" id=\"E6\" rx=\"10\" ry=\"10\" style=\"stroke:#181818;stroke-width:0.5;\" width=\"42\" x=\"56\" y=\"86.5\"/><text fill=\"#000000\" font-family=\"sans-serif\" font-size=\"12\" font-style=\"italic\" lengthAdjust=\"spacing\" textLength=\"40\" x=\"57\" y=\"102.6387\">«part»</text><text fill=\"#000000\" font-family=\"sans-serif\" font-size=\"14\" lengthAdjust=\"spacing\" textLength=\"25\" x=\"60.5\" y=\"118.4639\">x: A</text><line style=\"stroke:#181818;stroke-width:0.5;\" x1=\"57\" x2=\"97\" y1=\"126.7656\" y2=\"126.7656\"/></g></a><a href=\"psysml:70275c95-cc90-4a8f-9ab9-2df7f67b6861\" target=\"_top\" title=\"psysml:70275c95-cc90-4a8f-9ab9-2df7f67b6861\" xlink:actuate=\"onRequest\" xlink:href=\"psysml:70275c95-cc90-4a8f-9ab9-2df7f67b6861\" xlink:show=\"new\" xlink:title=\"psysml:70275c95-cc90-4a8f-9ab9-2df7f67b6861\" xlink:type=\"simple\"><polygon fill=\"#FFFACD\" filter=\"url(#fj5l1cs8907l1)\" points=\"133,84,165,84,172,106.2969,179,106.2969,179,136.5938,133,136.5938,133,84\" style=\"stroke:#181818;stroke-width:0.5;\"/><line style=\"stroke:#181818;stroke-width:0.5;\" x1=\"133\" x2=\"172\" y1=\"106.2969\" y2=\"106.2969\"/><text fill=\"#000000\" font-family=\"sans-serif\" font-size=\"14\" lengthAdjust=\"spacing\" textLength=\"26\" x=\"137\" y=\"98.9951\">P2a</text></a><!--MD5=[15ebcb19ae302d9b601edb458606d402]\n",
       "link E5 to E2--><g id=\"link_E5_E2\"><a href=\"psysml:0b7a29bb-3729-45f6-9ea2-8894bf23e053\" target=\"_top\" title=\"psysml:0b7a29bb-3729-45f6-9ea2-8894bf23e053\" xlink:actuate=\"onRequest\" xlink:href=\"psysml:0b7a29bb-3729-45f6-9ea2-8894bf23e053\" xlink:show=\"new\" xlink:title=\"psysml:0b7a29bb-3729-45f6-9ea2-8894bf23e053\" xlink:type=\"simple\"><path d=\"M159.28,137.2 C160.735,148.5875 162.5469,162.7762 164.4519,177.6978 C165.4044,185.1586 166.3802,192.8026 167.3463,200.3712 C167.5878,202.2634 167.8287,204.1508 168.0685,206.0295 C168.1884,206.9689 168.308,207.906 168.4273,208.8405 C168.4571,209.0741 168.4869,209.3076 168.5167,209.5408 \" fill=\"none\" id=\"E5-to-E2\" style=\"stroke:#181818;stroke-width:1.0;stroke-dasharray:7.0,7.0;\"/><polygon fill=\"#181818\" points=\"168.5167,209.5408,171.345,200.1068,167.8836,204.5811,163.4094,201.1197,168.5167,209.5408\" style=\"stroke:#181818;stroke-width:1.0;\"/><text fill=\"#000000\" font-family=\"sans-serif\" font-size=\"13\" lengthAdjust=\"spacing\" textLength=\"65\" x=\"166\" y=\"182.0669\">«import»*</text></a></g><!--MD5=[a717450b82c80b9240a525fa862496af]\n",
       "link E6 to E3--><g id=\"link_E6_E3\"><a href=\"psysml:d6b7e27f-bd18-4212-9fb0-b02d6224d86d\" target=\"_top\" title=\"psysml:d6b7e27f-bd18-4212-9fb0-b02d6224d86d\" xlink:actuate=\"onRequest\" xlink:href=\"psysml:d6b7e27f-bd18-4212-9fb0-b02d6224d86d\" xlink:show=\"new\" xlink:title=\"psysml:d6b7e27f-bd18-4212-9fb0-b02d6224d86d\" xlink:type=\"simple\"><path d=\"M81.23,134.72 C85.88,160.19 93.44,201.63 99.17,233.06 \" fill=\"none\" id=\"E6-to-E3\" style=\"stroke:#181818;stroke-width:1.0;\"/><polygon fill=\"#FFFFFF\" points=\"102.79,252.9,92.4985,235.462,106.2719,232.9532,102.79,252.9\" style=\"stroke:#181818;stroke-width:1.0;\"/><ellipse cx=\"93.4447\" cy=\"229.4958\" fill=\"#181818\" rx=\"2\" ry=\"2\" style=\"stroke:#181818;stroke-width:1.0;\"/><ellipse cx=\"103.2828\" cy=\"227.7038\" fill=\"#181818\" rx=\"2\" ry=\"2\" style=\"stroke:#181818;stroke-width:1.0;\"/></a></g><!--MD5=[57b9e2dfd883013793df1bdc906dde19]\n",
       "@startuml\r\n",
       "skin sysmlc\r\n",
       "skinparam wrapWidth 300\r\n",
       "hide circle\r\n",
       "\r\n",
       "package \"QualifiedNameImportTest\" as E1  [[psysml:c4b7552d-b9f7-430e-8774-a992809b5587 ]]  {\r\n",
       "package \"P1\" as E2  [[psysml:50965905-a474-4117-8075-2a307b415370 ]]  {\r\n",
       "comp def \"A\" as E3  <<(T,blue) part  def>> [[psysml:7bcd0150-a304-4bd6-beeb-4a591e07f43e ]] {\r\n",
       "}\r\n",
       "}\r\n",
       "package \"P2\" as E4  [[psysml:baf5ed1e-c4c1-4a5d-ad5e-204bd26a43d4 ]]  {\r\n",
       "package \"P2a\" as E5  [[psysml:70275c95-cc90-4a8f-9ab9-2df7f67b6861 ]]  {\r\n",
       "}\r\n",
       "comp usage \"x: A  \" as E6  <<(T,blue) part>> [[psysml:1e68c641-a483-45d8-8926-6ab40309dfc3 ]] {\r\n",
       "}\r\n",
       "}\r\n",
       "}\r\n",
       "E5 ..> E2 [[psysml:0b7a29bb-3729-45f6-9ea2-8894bf23e053 ]] : <<import>>*\r\n",
       "E6 - -:|> E3 [[psysml:d6b7e27f-bd18-4212-9fb0-b02d6224d86d ]] \r\n",
       "@enduml\r\n",
       "\n",
       "PlantUML version 1.2022.7(Mon Aug 22 17:01:30 UTC 2022)\n",
       "(EPL source distribution)\n",
       "Java Runtime: OpenJDK Runtime Environment\n",
       "JVM: OpenJDK 64-Bit Server VM\n",
       "Default Encoding: UTF-8\n",
       "Language: en\n",
       "Country: null\n",
       "--></g></svg>"
      ]
     },
     "execution_count": 24,
     "metadata": {},
     "output_type": "execute_result"
    }
   ],
   "source": [
    "%viz --style=\"STDCOLOR\" --view=\"Tree\" \"QualifiedNameImportTest\""
   ]
  },
  {
   "cell_type": "code",
   "execution_count": 25,
   "id": "a13241b3",
   "metadata": {
    "execution": {
     "iopub.execute_input": "2024-12-16T03:25:42.563326Z",
     "iopub.status.busy": "2024-12-16T03:25:42.563101Z",
     "iopub.status.idle": "2024-12-16T03:25:42.568321Z",
     "shell.execute_reply": "2024-12-16T03:25:42.568137Z"
    }
   },
   "outputs": [
    {
     "data": {
      "image/svg+xml": [
       "<?xml version=\"1.0\" encoding=\"UTF-8\" standalone=\"no\"?><svg xmlns=\"http://www.w3.org/2000/svg\" xmlns:xlink=\"http://www.w3.org/1999/xlink\" contentStyleType=\"text/css\" height=\"10px\" preserveAspectRatio=\"none\" style=\"width:10px;height:10px;background:#FFFFFF;\" version=\"1.1\" viewBox=\"0 0 10 10\" width=\"10px\" zoomAndPan=\"magnify\"><defs/><g><!--MD5=[a1048f16c75022af837d4b7065e6f600]\n",
       "@startuml\r\n",
       "skin sysmlc\r\n",
       "skinparam wrapWidth 300\r\n",
       "hide circle\r\n",
       "\r\n",
       "@enduml\r\n",
       "\n",
       "PlantUML version 1.2022.7(Mon Aug 22 17:01:30 UTC 2022)\n",
       "(EPL source distribution)\n",
       "Java Runtime: OpenJDK Runtime Environment\n",
       "JVM: OpenJDK 64-Bit Server VM\n",
       "Default Encoding: UTF-8\n",
       "Language: en\n",
       "Country: null\n",
       "--></g></svg>"
      ]
     },
     "execution_count": 25,
     "metadata": {},
     "output_type": "execute_result"
    }
   ],
   "source": [
    "%viz --style=\"STDCOLOR\" --view=\"State\" \"QualifiedNameImportTest\""
   ]
  },
  {
   "cell_type": "code",
   "execution_count": 26,
   "id": "1fd21555",
   "metadata": {
    "execution": {
     "iopub.execute_input": "2024-12-16T03:25:42.620982Z",
     "iopub.status.busy": "2024-12-16T03:25:42.620759Z",
     "iopub.status.idle": "2024-12-16T03:25:42.637478Z",
     "shell.execute_reply": "2024-12-16T03:25:42.636607Z"
    }
   },
   "outputs": [
    {
     "data": {
      "image/svg+xml": [
       "<?xml version=\"1.0\" encoding=\"UTF-8\" standalone=\"no\"?><svg xmlns=\"http://www.w3.org/2000/svg\" xmlns:xlink=\"http://www.w3.org/1999/xlink\" contentStyleType=\"text/css\" height=\"361px\" preserveAspectRatio=\"none\" style=\"width:244px;height:361px;background:#FFFFFF;\" version=\"1.1\" viewBox=\"0 0 244 361\" width=\"244px\" zoomAndPan=\"magnify\"><defs><filter height=\"300%\" id=\"f1hpbn22830jjy\" width=\"300%\" x=\"-1\" y=\"-1\"><feGaussianBlur result=\"blurOut\" stdDeviation=\"2.0\"/><feColorMatrix in=\"blurOut\" result=\"blurOut2\" type=\"matrix\" values=\"0 0 0 0 0 0 0 0 0 0 0 0 0 0 0 0 0 0 .4 0\"/><feOffset dx=\"4.0\" dy=\"4.0\" in=\"blurOut2\" result=\"blurOut3\"/><feBlend in=\"SourceGraphic\" in2=\"blurOut3\" mode=\"normal\"/></filter></defs><g><!--MD5=[fbc87193dbaf4d95561dea2c320d4a47]\n",
       "cluster E1--><g id=\"cluster_E1\"><a href=\"psysml:c4b7552d-b9f7-430e-8774-a992809b5587\" target=\"_top\" title=\"psysml:c4b7552d-b9f7-430e-8774-a992809b5587\" xlink:actuate=\"onRequest\" xlink:href=\"psysml:c4b7552d-b9f7-430e-8774-a992809b5587\" xlink:show=\"new\" xlink:title=\"psysml:c4b7552d-b9f7-430e-8774-a992809b5587\" xlink:type=\"simple\"><polygon fill=\"none\" filter=\"url(#f1hpbn22830jjy)\" points=\"16,6,206.0625,6,213.0625,28.2969,227,28.2969,227,354,16,354,16,6\" style=\"stroke:#000000;stroke-width:1.5;\"/><line style=\"stroke:#000000;stroke-width:1.5;\" x1=\"16\" x2=\"213.0625\" y1=\"28.2969\" y2=\"28.2969\"/><text fill=\"#000000\" font-family=\"sans-serif\" font-size=\"14\" font-weight=\"bold\" lengthAdjust=\"spacing\" textLength=\"184.0625\" x=\"20\" y=\"20.9951\">QualifiedNameImportTest</text></a></g><!--MD5=[e4f7fae6ed58524ba242bb0b0d3be6b7]\n",
       "cluster E2--><g id=\"cluster_E2\"><a href=\"psysml:50965905-a474-4117-8075-2a307b415370\" target=\"_top\" title=\"psysml:50965905-a474-4117-8075-2a307b415370\" xlink:actuate=\"onRequest\" xlink:href=\"psysml:50965905-a474-4117-8075-2a307b415370\" xlink:show=\"new\" xlink:title=\"psysml:50965905-a474-4117-8075-2a307b415370\" xlink:type=\"simple\"><polygon fill=\"none\" filter=\"url(#f1hpbn22830jjy)\" points=\"53,210,77.875,210,84.875,232.2969,195,232.2969,195,322,53,322,53,210\" style=\"stroke:#000000;stroke-width:1.5;\"/><line style=\"stroke:#000000;stroke-width:1.5;\" x1=\"53\" x2=\"84.875\" y1=\"232.2969\" y2=\"232.2969\"/><text fill=\"#000000\" font-family=\"sans-serif\" font-size=\"14\" font-weight=\"bold\" lengthAdjust=\"spacing\" textLength=\"18.875\" x=\"57\" y=\"224.9951\">P1</text></a></g><!--MD5=[f6df4d0ebaf0b5dfb2ced0ae5af7c670]\n",
       "cluster E4--><g id=\"cluster_E4\"><a href=\"psysml:baf5ed1e-c4c1-4a5d-ad5e-204bd26a43d4\" target=\"_top\" title=\"psysml:baf5ed1e-c4c1-4a5d-ad5e-204bd26a43d4\" xlink:actuate=\"onRequest\" xlink:href=\"psysml:baf5ed1e-c4c1-4a5d-ad5e-204bd26a43d4\" xlink:show=\"new\" xlink:title=\"psysml:baf5ed1e-c4c1-4a5d-ad5e-204bd26a43d4\" xlink:type=\"simple\"><polygon fill=\"none\" filter=\"url(#f1hpbn22830jjy)\" points=\"40,49,64.875,49,71.875,71.2969,203,71.2969,203,153,40,153,40,49\" style=\"stroke:#000000;stroke-width:1.5;\"/><line style=\"stroke:#000000;stroke-width:1.5;\" x1=\"40\" x2=\"71.875\" y1=\"71.2969\" y2=\"71.2969\"/><text fill=\"#000000\" font-family=\"sans-serif\" font-size=\"14\" font-weight=\"bold\" lengthAdjust=\"spacing\" textLength=\"18.875\" x=\"44\" y=\"63.9951\">P2</text></a></g><g><a href=\"psysml:7bcd0150-a304-4bd6-beeb-4a591e07f43e\" target=\"_top\" title=\"psysml:7bcd0150-a304-4bd6-beeb-4a591e07f43e\" xlink:actuate=\"onRequest\" xlink:href=\"psysml:7bcd0150-a304-4bd6-beeb-4a591e07f43e\" xlink:show=\"new\" xlink:title=\"psysml:7bcd0150-a304-4bd6-beeb-4a591e07f43e\" xlink:type=\"simple\"><rect fill=\"#FFFACD\" filter=\"url(#f1hpbn22830jjy)\" height=\"45.2656\" id=\"E3\" style=\"stroke:#A80036;stroke-width:1.5;\" width=\"75\" x=\"96.5\" y=\"253\"/><text fill=\"#000000\" font-family=\"sans-serif\" font-size=\"12\" font-style=\"italic\" lengthAdjust=\"spacing\" textLength=\"68\" x=\"100\" y=\"269.1387\">«part  def»</text><text fill=\"#000000\" font-family=\"sans-serif\" font-size=\"14\" lengthAdjust=\"spacing\" textLength=\"9\" x=\"129.5\" y=\"284.9639\">A</text></a></g><a href=\"psysml:70275c95-cc90-4a8f-9ab9-2df7f67b6861\" target=\"_top\" title=\"psysml:70275c95-cc90-4a8f-9ab9-2df7f67b6861\" xlink:actuate=\"onRequest\" xlink:href=\"psysml:70275c95-cc90-4a8f-9ab9-2df7f67b6861\" xlink:show=\"new\" xlink:title=\"psysml:70275c95-cc90-4a8f-9ab9-2df7f67b6861\" xlink:type=\"simple\"><polygon fill=\"#FFFACD\" filter=\"url(#f1hpbn22830jjy)\" points=\"56,84,88,84,95,106.2969,102,106.2969,102,136.5938,56,136.5938,56,84\" style=\"stroke:#181818;stroke-width:0.5;\"/><line style=\"stroke:#181818;stroke-width:0.5;\" x1=\"56\" x2=\"95\" y1=\"106.2969\" y2=\"106.2969\"/><text fill=\"#000000\" font-family=\"sans-serif\" font-size=\"14\" lengthAdjust=\"spacing\" textLength=\"26\" x=\"60\" y=\"98.9951\">P2a</text></a><g><a href=\"psysml:1e68c641-a483-45d8-8926-6ab40309dfc3\" target=\"_top\" title=\"psysml:1e68c641-a483-45d8-8926-6ab40309dfc3\" xlink:actuate=\"onRequest\" xlink:href=\"psysml:1e68c641-a483-45d8-8926-6ab40309dfc3\" xlink:show=\"new\" xlink:title=\"psysml:1e68c641-a483-45d8-8926-6ab40309dfc3\" xlink:type=\"simple\"><rect fill=\"#FFFACD\" filter=\"url(#f1hpbn22830jjy)\" height=\"40\" id=\"E6\" rx=\"10\" ry=\"10\" style=\"stroke:#A80036;stroke-width:1.5;\" width=\"50\" x=\"137\" y=\"90.5\"/><text fill=\"#000000\" font-family=\"sans-serif\" font-size=\"14\" lengthAdjust=\"spacing\" textLength=\"25\" x=\"149.5\" y=\"108.4951\">x: A</text></a></g><!--MD5=[15ebcb19ae302d9b601edb458606d402]\n",
       "link E5 to E2--><g id=\"link_E5_E2\"><a href=\"psysml:0b7a29bb-3729-45f6-9ea2-8894bf23e053\" target=\"_top\" title=\"psysml:0b7a29bb-3729-45f6-9ea2-8894bf23e053\" xlink:actuate=\"onRequest\" xlink:href=\"psysml:0b7a29bb-3729-45f6-9ea2-8894bf23e053\" xlink:show=\"new\" xlink:title=\"psysml:0b7a29bb-3729-45f6-9ea2-8894bf23e053\" xlink:type=\"simple\"><path d=\"M76.15,137.33 C74.9,148.64 73.3475,162.6906 71.7172,177.448 C70.902,184.8266 70.0674,192.382 69.2414,199.8598 C69.035,201.7292 68.829,203.5938 68.624,205.4496 C68.5215,206.3775 68.4193,207.3032 68.3173,208.2262 C68.2664,208.6877 68.2155,209.1485 68.1647,209.6086 \" fill=\"none\" id=\"E5-to-E2\" style=\"stroke:#181818;stroke-width:1.0;stroke-dasharray:7.0,7.0;\"/><polygon fill=\"#181818\" points=\"68.1647,209.6086,73.1285,201.1021,68.7136,204.6388,65.1769,200.2238,68.1647,209.6086\" style=\"stroke:#181818;stroke-width:1.0;\"/><text fill=\"#000000\" font-family=\"sans-serif\" font-size=\"13\" lengthAdjust=\"spacing\" textLength=\"65\" x=\"73\" y=\"182.0669\">«import»*</text></a></g><!--MD5=[a717450b82c80b9240a525fa862496af]\n",
       "link E6 to E3--><g id=\"link_E6_E3\"><a href=\"psysml:d6b7e27f-bd18-4212-9fb0-b02d6224d86d\" target=\"_top\" title=\"psysml:d6b7e27f-bd18-4212-9fb0-b02d6224d86d\" xlink:actuate=\"onRequest\" xlink:href=\"psysml:d6b7e27f-bd18-4212-9fb0-b02d6224d86d\" xlink:show=\"new\" xlink:title=\"psysml:d6b7e27f-bd18-4212-9fb0-b02d6224d86d\" xlink:type=\"simple\"><path d=\"M158.73,130.52 C154.46,155.41 146.85,199.72 141.19,232.64 \" fill=\"none\" id=\"E6-to-E3\" style=\"stroke:#181818;stroke-width:1.0;\"/><polygon fill=\"#FFFFFF\" points=\"137.73,252.76,134.047,232.8493,147.845,235.219,137.73,252.76\" style=\"stroke:#181818;stroke-width:1.0;\"/><ellipse cx=\"136.9829\" cy=\"227.5701\" fill=\"#181818\" rx=\"2\" ry=\"2\" style=\"stroke:#181818;stroke-width:1.0;\"/><ellipse cx=\"146.8386\" cy=\"229.2627\" fill=\"#181818\" rx=\"2\" ry=\"2\" style=\"stroke:#181818;stroke-width:1.0;\"/></a></g><!--MD5=[d3b30079927d0c30c8d01139c78cfbd8]\n",
       "@startuml\r\n",
       "skin sysmlc\r\n",
       "skinparam wrapWidth 300\r\n",
       "hide circle\r\n",
       "skinparam ranksep 10\r\n",
       "skinparam rectangle {\r\n",
       " backgroundColor<<block>> LightGreen\r\n",
       "}\r\n",
       "\r\n",
       "package \"QualifiedNameImportTest\" as E1  [[psysml:c4b7552d-b9f7-430e-8774-a992809b5587 ]]  {\r\n",
       "package \"P1\" as E2  [[psysml:50965905-a474-4117-8075-2a307b415370 ]]  {\r\n",
       "rec def \"A\" as E3  <<(T,blue) part  def>> [[psysml:7bcd0150-a304-4bd6-beeb-4a591e07f43e ]] {\r\n",
       "}\r\n",
       "}\r\n",
       "package \"P2\" as E4  [[psysml:baf5ed1e-c4c1-4a5d-ad5e-204bd26a43d4 ]]  {\r\n",
       "package \"P2a\" as E5  [[psysml:70275c95-cc90-4a8f-9ab9-2df7f67b6861 ]]  {\r\n",
       "}\r\n",
       "rec usage \"x: A\" as E6 [[psysml:1e68c641-a483-45d8-8926-6ab40309dfc3 ]] {\r\n",
       "}\r\n",
       "}\r\n",
       "}\r\n",
       "E5 ..> E2 [[psysml:0b7a29bb-3729-45f6-9ea2-8894bf23e053 ]] : <<import>>*\r\n",
       "E6 - -:|> E3 [[psysml:d6b7e27f-bd18-4212-9fb0-b02d6224d86d ]] \r\n",
       "@enduml\r\n",
       "\n",
       "PlantUML version 1.2022.7(Mon Aug 22 17:01:30 UTC 2022)\n",
       "(EPL source distribution)\n",
       "Java Runtime: OpenJDK Runtime Environment\n",
       "JVM: OpenJDK 64-Bit Server VM\n",
       "Default Encoding: UTF-8\n",
       "Language: en\n",
       "Country: null\n",
       "--></g></svg>"
      ]
     },
     "execution_count": 26,
     "metadata": {},
     "output_type": "execute_result"
    }
   ],
   "source": [
    "%viz --style=\"STDCOLOR\" --view=\"Interconnection\" \"QualifiedNameImportTest\""
   ]
  },
  {
   "cell_type": "code",
   "execution_count": 27,
   "id": "432434b3",
   "metadata": {
    "execution": {
     "iopub.execute_input": "2024-12-16T03:25:42.688856Z",
     "iopub.status.busy": "2024-12-16T03:25:42.688620Z",
     "iopub.status.idle": "2024-12-16T03:25:42.694157Z",
     "shell.execute_reply": "2024-12-16T03:25:42.693964Z"
    }
   },
   "outputs": [
    {
     "data": {
      "image/svg+xml": [
       "<?xml version=\"1.0\" encoding=\"UTF-8\" standalone=\"no\"?><svg xmlns=\"http://www.w3.org/2000/svg\" xmlns:xlink=\"http://www.w3.org/1999/xlink\" contentStyleType=\"text/css\" height=\"10px\" preserveAspectRatio=\"none\" style=\"width:10px;height:10px;background:#FFFFFF;\" version=\"1.1\" viewBox=\"0 0 10 10\" width=\"10px\" zoomAndPan=\"magnify\"><defs/><g><!--MD5=[f1e15a62785563bad28e840d677c8e75]\n",
       "@startuml\r\n",
       "skin sysmlc\r\n",
       "skinparam wrapWidth 300\r\n",
       "hide circle\r\n",
       "skinparam ranksep 8\r\n",
       "\r\n",
       "@enduml\r\n",
       "\n",
       "PlantUML version 1.2022.7(Mon Aug 22 17:01:30 UTC 2022)\n",
       "(EPL source distribution)\n",
       "Java Runtime: OpenJDK Runtime Environment\n",
       "JVM: OpenJDK 64-Bit Server VM\n",
       "Default Encoding: UTF-8\n",
       "Language: en\n",
       "Country: null\n",
       "--></g></svg>"
      ]
     },
     "execution_count": 27,
     "metadata": {},
     "output_type": "execute_result"
    }
   ],
   "source": [
    "%viz --style=\"STDCOLOR\" --view=\"Action\" \"QualifiedNameImportTest\""
   ]
  },
  {
   "cell_type": "code",
   "execution_count": 28,
   "id": "f183ff2d",
   "metadata": {
    "execution": {
     "iopub.execute_input": "2024-12-16T03:25:42.747342Z",
     "iopub.status.busy": "2024-12-16T03:25:42.747119Z",
     "iopub.status.idle": "2024-12-16T03:25:42.753944Z",
     "shell.execute_reply": "2024-12-16T03:25:42.753760Z"
    }
   },
   "outputs": [
    {
     "data": {
      "image/svg+xml": [
       "<?xml version=\"1.0\" encoding=\"UTF-8\" standalone=\"no\"?><svg xmlns=\"http://www.w3.org/2000/svg\" xmlns:xlink=\"http://www.w3.org/1999/xlink\" contentStyleType=\"text/css\" height=\"10px\" preserveAspectRatio=\"none\" style=\"width:10px;height:10px;background:#FFFFFF;\" version=\"1.1\" viewBox=\"0 0 10 10\" width=\"10px\" zoomAndPan=\"magnify\"><defs/><g><!--MD5=[e54413e611bf323face5c486cd3a32bb]\n",
       "@startuml\r\n",
       "skin sysmlc\r\n",
       "skinparam wrapWidth 300\r\n",
       "hide circle\r\n",
       "skinparam roundcorner 20\r\n",
       "skinparam BoxPadding 20\r\n",
       "skinparam SequenceBoxBackgroundColor #white\r\n",
       "skinparam style strictuml\r\n",
       "skinparam maxMessageSize 100\r\n",
       "\r\n",
       "@enduml\r\n",
       "\n",
       "PlantUML version 1.2022.7(Mon Aug 22 17:01:30 UTC 2022)\n",
       "(EPL source distribution)\n",
       "Java Runtime: OpenJDK Runtime Environment\n",
       "JVM: OpenJDK 64-Bit Server VM\n",
       "Default Encoding: UTF-8\n",
       "Language: en\n",
       "Country: null\n",
       "--></g></svg>"
      ]
     },
     "execution_count": 28,
     "metadata": {},
     "output_type": "execute_result"
    }
   ],
   "source": [
    "%viz --style=\"STDCOLOR\" --view=\"Sequence\" \"QualifiedNameImportTest\""
   ]
  },
  {
   "cell_type": "code",
   "execution_count": 29,
   "id": "6b424a14",
   "metadata": {
    "execution": {
     "iopub.execute_input": "2024-12-16T03:25:42.805464Z",
     "iopub.status.busy": "2024-12-16T03:25:42.805259Z",
     "iopub.status.idle": "2024-12-16T03:25:42.825528Z",
     "shell.execute_reply": "2024-12-16T03:25:42.824770Z"
    }
   },
   "outputs": [
    {
     "data": {
      "image/svg+xml": [
       "<?xml version=\"1.0\" encoding=\"UTF-8\" standalone=\"no\"?><svg xmlns=\"http://www.w3.org/2000/svg\" xmlns:xlink=\"http://www.w3.org/1999/xlink\" contentStyleType=\"text/css\" height=\"364px\" preserveAspectRatio=\"none\" style=\"width:239px;height:364px;background:#FFFFFF;\" version=\"1.1\" viewBox=\"0 0 239 364\" width=\"239px\" zoomAndPan=\"magnify\"><defs><filter height=\"300%\" id=\"fj5l1cs8907l1\" width=\"300%\" x=\"-1\" y=\"-1\"><feGaussianBlur result=\"blurOut\" stdDeviation=\"2.0\"/><feColorMatrix in=\"blurOut\" result=\"blurOut2\" type=\"matrix\" values=\"0 0 0 0 0 0 0 0 0 0 0 0 0 0 0 0 0 0 .4 0\"/><feOffset dx=\"4.0\" dy=\"4.0\" in=\"blurOut2\" result=\"blurOut3\"/><feBlend in=\"SourceGraphic\" in2=\"blurOut3\" mode=\"normal\"/></filter></defs><g><!--MD5=[fbc87193dbaf4d95561dea2c320d4a47]\n",
       "cluster E1--><g id=\"cluster_E1\"><a href=\"psysml:c4b7552d-b9f7-430e-8774-a992809b5587\" target=\"_top\" title=\"psysml:c4b7552d-b9f7-430e-8774-a992809b5587\" xlink:actuate=\"onRequest\" xlink:href=\"psysml:c4b7552d-b9f7-430e-8774-a992809b5587\" xlink:show=\"new\" xlink:title=\"psysml:c4b7552d-b9f7-430e-8774-a992809b5587\" xlink:type=\"simple\"><polygon fill=\"none\" filter=\"url(#fj5l1cs8907l1)\" points=\"16,6,206.0625,6,213.0625,28.2969,219,28.2969,219,357,16,357,16,6\" style=\"stroke:#000000;stroke-width:1.5;\"/><line style=\"stroke:#000000;stroke-width:1.5;\" x1=\"16\" x2=\"213.0625\" y1=\"28.2969\" y2=\"28.2969\"/><text fill=\"#000000\" font-family=\"sans-serif\" font-size=\"14\" font-weight=\"bold\" lengthAdjust=\"spacing\" textLength=\"184.0625\" x=\"20\" y=\"20.9951\">QualifiedNameImportTest</text></a></g><!--MD5=[e4f7fae6ed58524ba242bb0b0d3be6b7]\n",
       "cluster E2--><g id=\"cluster_E2\"><a href=\"psysml:50965905-a474-4117-8075-2a307b415370\" target=\"_top\" title=\"psysml:50965905-a474-4117-8075-2a307b415370\" xlink:actuate=\"onRequest\" xlink:href=\"psysml:50965905-a474-4117-8075-2a307b415370\" xlink:show=\"new\" xlink:title=\"psysml:50965905-a474-4117-8075-2a307b415370\" xlink:type=\"simple\"><polygon fill=\"none\" filter=\"url(#fj5l1cs8907l1)\" points=\"48,210,72.875,210,79.875,232.2969,185,232.2969,185,325,48,325,48,210\" style=\"stroke:#000000;stroke-width:1.5;\"/><line style=\"stroke:#000000;stroke-width:1.5;\" x1=\"48\" x2=\"79.875\" y1=\"232.2969\" y2=\"232.2969\"/><text fill=\"#000000\" font-family=\"sans-serif\" font-size=\"14\" font-weight=\"bold\" lengthAdjust=\"spacing\" textLength=\"18.875\" x=\"52\" y=\"224.9951\">P1</text></a></g><!--MD5=[f6df4d0ebaf0b5dfb2ced0ae5af7c670]\n",
       "cluster E4--><g id=\"cluster_E4\"><a href=\"psysml:baf5ed1e-c4c1-4a5d-ad5e-204bd26a43d4\" target=\"_top\" title=\"psysml:baf5ed1e-c4c1-4a5d-ad5e-204bd26a43d4\" xlink:actuate=\"onRequest\" xlink:href=\"psysml:baf5ed1e-c4c1-4a5d-ad5e-204bd26a43d4\" xlink:show=\"new\" xlink:title=\"psysml:baf5ed1e-c4c1-4a5d-ad5e-204bd26a43d4\" xlink:type=\"simple\"><polygon fill=\"none\" filter=\"url(#fj5l1cs8907l1)\" points=\"40,49,64.875,49,71.875,71.2969,195,71.2969,195,153,40,153,40,49\" style=\"stroke:#000000;stroke-width:1.5;\"/><line style=\"stroke:#000000;stroke-width:1.5;\" x1=\"40\" x2=\"71.875\" y1=\"71.2969\" y2=\"71.2969\"/><text fill=\"#000000\" font-family=\"sans-serif\" font-size=\"14\" font-weight=\"bold\" lengthAdjust=\"spacing\" textLength=\"18.875\" x=\"44\" y=\"63.9951\">P2</text></a></g><!--MD5=[09b614a08d8cba4a07c9adeb5e0fee81]\n",
       "class E3--><a href=\"psysml:7bcd0150-a304-4bd6-beeb-4a591e07f43e\" target=\"_top\" title=\"psysml:7bcd0150-a304-4bd6-beeb-4a591e07f43e\" xlink:actuate=\"onRequest\" xlink:href=\"psysml:7bcd0150-a304-4bd6-beeb-4a591e07f43e\" xlink:show=\"new\" xlink:title=\"psysml:7bcd0150-a304-4bd6-beeb-4a591e07f43e\" xlink:type=\"simple\"><g id=\"elem_E3\"><rect fill=\"#FFFACD\" filter=\"url(#fj5l1cs8907l1)\" height=\"48.2656\" id=\"E3\" style=\"stroke:#181818;stroke-width:0.5;\" width=\"70\" x=\"72\" y=\"253\"/><text fill=\"#000000\" font-family=\"sans-serif\" font-size=\"12\" font-style=\"italic\" lengthAdjust=\"spacing\" textLength=\"68\" x=\"73\" y=\"269.1387\">«part  def»</text><text fill=\"#000000\" font-family=\"sans-serif\" font-size=\"14\" lengthAdjust=\"spacing\" textLength=\"9\" x=\"102.5\" y=\"284.9639\">A</text><line style=\"stroke:#181818;stroke-width:0.5;\" x1=\"73\" x2=\"141\" y1=\"293.2656\" y2=\"293.2656\"/></g></a><!--MD5=[60a26617385b1d2d0262a64233df1f8d]\n",
       "class E6--><a href=\"psysml:1e68c641-a483-45d8-8926-6ab40309dfc3\" target=\"_top\" title=\"psysml:1e68c641-a483-45d8-8926-6ab40309dfc3\" xlink:actuate=\"onRequest\" xlink:href=\"psysml:1e68c641-a483-45d8-8926-6ab40309dfc3\" xlink:show=\"new\" xlink:title=\"psysml:1e68c641-a483-45d8-8926-6ab40309dfc3\" xlink:type=\"simple\"><g id=\"elem_E6\"><rect fill=\"#FFFACD\" filter=\"url(#fj5l1cs8907l1)\" height=\"48.2656\" id=\"E6\" rx=\"10\" ry=\"10\" style=\"stroke:#181818;stroke-width:0.5;\" width=\"42\" x=\"56\" y=\"86.5\"/><text fill=\"#000000\" font-family=\"sans-serif\" font-size=\"12\" font-style=\"italic\" lengthAdjust=\"spacing\" textLength=\"40\" x=\"57\" y=\"102.6387\">«part»</text><text fill=\"#000000\" font-family=\"sans-serif\" font-size=\"14\" lengthAdjust=\"spacing\" textLength=\"25\" x=\"60.5\" y=\"118.4639\">x: A</text><line style=\"stroke:#181818;stroke-width:0.5;\" x1=\"57\" x2=\"97\" y1=\"126.7656\" y2=\"126.7656\"/></g></a><a href=\"psysml:70275c95-cc90-4a8f-9ab9-2df7f67b6861\" target=\"_top\" title=\"psysml:70275c95-cc90-4a8f-9ab9-2df7f67b6861\" xlink:actuate=\"onRequest\" xlink:href=\"psysml:70275c95-cc90-4a8f-9ab9-2df7f67b6861\" xlink:show=\"new\" xlink:title=\"psysml:70275c95-cc90-4a8f-9ab9-2df7f67b6861\" xlink:type=\"simple\"><polygon fill=\"#FFFACD\" filter=\"url(#fj5l1cs8907l1)\" points=\"133,84,165,84,172,106.2969,179,106.2969,179,136.5938,133,136.5938,133,84\" style=\"stroke:#181818;stroke-width:0.5;\"/><line style=\"stroke:#181818;stroke-width:0.5;\" x1=\"133\" x2=\"172\" y1=\"106.2969\" y2=\"106.2969\"/><text fill=\"#000000\" font-family=\"sans-serif\" font-size=\"14\" lengthAdjust=\"spacing\" textLength=\"26\" x=\"137\" y=\"98.9951\">P2a</text></a><!--MD5=[15ebcb19ae302d9b601edb458606d402]\n",
       "link E5 to E2--><g id=\"link_E5_E2\"><a href=\"psysml:0b7a29bb-3729-45f6-9ea2-8894bf23e053\" target=\"_top\" title=\"psysml:0b7a29bb-3729-45f6-9ea2-8894bf23e053\" xlink:actuate=\"onRequest\" xlink:href=\"psysml:0b7a29bb-3729-45f6-9ea2-8894bf23e053\" xlink:show=\"new\" xlink:title=\"psysml:0b7a29bb-3729-45f6-9ea2-8894bf23e053\" xlink:type=\"simple\"><path d=\"M159.28,137.2 C160.735,148.5875 162.5469,162.7762 164.4519,177.6978 C165.4044,185.1586 166.3802,192.8026 167.3463,200.3712 C167.5878,202.2634 167.8287,204.1508 168.0685,206.0295 C168.1884,206.9689 168.308,207.906 168.4273,208.8405 C168.4571,209.0741 168.4869,209.3076 168.5167,209.5408 \" fill=\"none\" id=\"E5-to-E2\" style=\"stroke:#181818;stroke-width:1.0;stroke-dasharray:7.0,7.0;\"/><polygon fill=\"#181818\" points=\"168.5167,209.5408,171.345,200.1068,167.8836,204.5811,163.4094,201.1197,168.5167,209.5408\" style=\"stroke:#181818;stroke-width:1.0;\"/><text fill=\"#000000\" font-family=\"sans-serif\" font-size=\"13\" lengthAdjust=\"spacing\" textLength=\"65\" x=\"166\" y=\"182.0669\">«import»*</text></a></g><!--MD5=[a717450b82c80b9240a525fa862496af]\n",
       "link E6 to E3--><g id=\"link_E6_E3\"><a href=\"psysml:d6b7e27f-bd18-4212-9fb0-b02d6224d86d\" target=\"_top\" title=\"psysml:d6b7e27f-bd18-4212-9fb0-b02d6224d86d\" xlink:actuate=\"onRequest\" xlink:href=\"psysml:d6b7e27f-bd18-4212-9fb0-b02d6224d86d\" xlink:show=\"new\" xlink:title=\"psysml:d6b7e27f-bd18-4212-9fb0-b02d6224d86d\" xlink:type=\"simple\"><path d=\"M81.23,134.72 C85.88,160.19 93.44,201.63 99.17,233.06 \" fill=\"none\" id=\"E6-to-E3\" style=\"stroke:#181818;stroke-width:1.0;\"/><polygon fill=\"#FFFFFF\" points=\"102.79,252.9,92.4985,235.462,106.2719,232.9532,102.79,252.9\" style=\"stroke:#181818;stroke-width:1.0;\"/><ellipse cx=\"93.4447\" cy=\"229.4958\" fill=\"#181818\" rx=\"2\" ry=\"2\" style=\"stroke:#181818;stroke-width:1.0;\"/><ellipse cx=\"103.2828\" cy=\"227.7038\" fill=\"#181818\" rx=\"2\" ry=\"2\" style=\"stroke:#181818;stroke-width:1.0;\"/></a></g><!--MD5=[57b9e2dfd883013793df1bdc906dde19]\n",
       "@startuml\r\n",
       "skin sysmlc\r\n",
       "skinparam wrapWidth 300\r\n",
       "hide circle\r\n",
       "\r\n",
       "package \"QualifiedNameImportTest\" as E1  [[psysml:c4b7552d-b9f7-430e-8774-a992809b5587 ]]  {\r\n",
       "package \"P1\" as E2  [[psysml:50965905-a474-4117-8075-2a307b415370 ]]  {\r\n",
       "comp def \"A\" as E3  <<(T,blue) part  def>> [[psysml:7bcd0150-a304-4bd6-beeb-4a591e07f43e ]] {\r\n",
       "}\r\n",
       "}\r\n",
       "package \"P2\" as E4  [[psysml:baf5ed1e-c4c1-4a5d-ad5e-204bd26a43d4 ]]  {\r\n",
       "package \"P2a\" as E5  [[psysml:70275c95-cc90-4a8f-9ab9-2df7f67b6861 ]]  {\r\n",
       "}\r\n",
       "comp usage \"x: A  \" as E6  <<(T,blue) part>> [[psysml:1e68c641-a483-45d8-8926-6ab40309dfc3 ]] {\r\n",
       "}\r\n",
       "}\r\n",
       "}\r\n",
       "E5 ..> E2 [[psysml:0b7a29bb-3729-45f6-9ea2-8894bf23e053 ]] : <<import>>*\r\n",
       "E6 - -:|> E3 [[psysml:d6b7e27f-bd18-4212-9fb0-b02d6224d86d ]] \r\n",
       "@enduml\r\n",
       "\n",
       "PlantUML version 1.2022.7(Mon Aug 22 17:01:30 UTC 2022)\n",
       "(EPL source distribution)\n",
       "Java Runtime: OpenJDK Runtime Environment\n",
       "JVM: OpenJDK 64-Bit Server VM\n",
       "Default Encoding: UTF-8\n",
       "Language: en\n",
       "Country: null\n",
       "--></g></svg>"
      ]
     },
     "execution_count": 29,
     "metadata": {},
     "output_type": "execute_result"
    }
   ],
   "source": [
    "%viz --style=\"STDCOLOR\" --view=\"MIXED\" \"QualifiedNameImportTest\""
   ]
  },
  {
   "cell_type": "code",
   "execution_count": 30,
   "id": "a553a237",
   "metadata": {
    "execution": {
     "iopub.execute_input": "2024-12-16T03:25:42.877303Z",
     "iopub.status.busy": "2024-12-16T03:25:42.877075Z",
     "iopub.status.idle": "2024-12-16T03:25:43.019090Z",
     "shell.execute_reply": "2024-12-16T03:25:43.018906Z"
    }
   },
   "outputs": [
    {
     "data": {
      "image/svg+xml": [
       "<?xml version=\"1.0\" encoding=\"UTF-8\" standalone=\"no\"?><svg xmlns=\"http://www.w3.org/2000/svg\" xmlns:xlink=\"http://www.w3.org/1999/xlink\" contentStyleType=\"text/css\" height=\"356px\" preserveAspectRatio=\"none\" style=\"width:242px;height:356px;background:#FFFFFF;\" version=\"1.1\" viewBox=\"0 0 242 356\" width=\"242px\" zoomAndPan=\"magnify\"><defs/><g><!--MD5=[fbc87193dbaf4d95561dea2c320d4a47]\n",
       "cluster E1--><g id=\"cluster_E1\"><a href=\"psysml:c4b7552d-b9f7-430e-8774-a992809b5587\" target=\"_top\" title=\"psysml:c4b7552d-b9f7-430e-8774-a992809b5587\" xlink:actuate=\"onRequest\" xlink:href=\"psysml:c4b7552d-b9f7-430e-8774-a992809b5587\" xlink:show=\"new\" xlink:title=\"psysml:c4b7552d-b9f7-430e-8774-a992809b5587\" xlink:type=\"simple\"><path d=\"M8.5,6 L193.5625,6 A3.75,3.75 0 0 1 196.0625,8.5 L203.0625,28.2969 L232.5,28.2969 A2.5,2.5 0 0 1 235,30.7969 L235,346.5 A2.5,2.5 0 0 1 232.5,349 L8.5,349 A2.5,2.5 0 0 1 6,346.5 L6,8.5 A2.5,2.5 0 0 1 8.5,6 \" fill=\"none\" style=\"stroke:#000000;stroke-width:1.5;\"/><line style=\"stroke:#000000;stroke-width:1.5;\" x1=\"6\" x2=\"203.0625\" y1=\"28.2969\" y2=\"28.2969\"/><text fill=\"#000000\" font-family=\"sans-serif\" font-size=\"14\" font-weight=\"bold\" lengthAdjust=\"spacing\" textLength=\"184.0625\" x=\"10\" y=\"20.9951\">QualifiedNameImportTest</text></a></g><!--MD5=[e4f7fae6ed58524ba242bb0b0d3be6b7]\n",
       "cluster E2--><g id=\"cluster_E2\"><a href=\"psysml:50965905-a474-4117-8075-2a307b415370\" target=\"_top\" title=\"psysml:50965905-a474-4117-8075-2a307b415370\" xlink:actuate=\"onRequest\" xlink:href=\"psysml:50965905-a474-4117-8075-2a307b415370\" xlink:show=\"new\" xlink:title=\"psysml:50965905-a474-4117-8075-2a307b415370\" xlink:type=\"simple\"><path d=\"M46.5,210 L66.375,210 A3.75,3.75 0 0 1 68.875,212.5 L75.875,232.2969 L150.5,232.2969 A2.5,2.5 0 0 1 153,234.7969 L153,314.5 A2.5,2.5 0 0 1 150.5,317 L46.5,317 A2.5,2.5 0 0 1 44,314.5 L44,212.5 A2.5,2.5 0 0 1 46.5,210 \" fill=\"none\" style=\"stroke:#000000;stroke-width:1.5;\"/><line style=\"stroke:#000000;stroke-width:1.5;\" x1=\"44\" x2=\"75.875\" y1=\"232.2969\" y2=\"232.2969\"/><text fill=\"#000000\" font-family=\"sans-serif\" font-size=\"14\" font-weight=\"bold\" lengthAdjust=\"spacing\" textLength=\"18.875\" x=\"48\" y=\"224.9951\">P1</text></a></g><!--MD5=[f6df4d0ebaf0b5dfb2ced0ae5af7c670]\n",
       "cluster E4--><g id=\"cluster_E4\"><a href=\"psysml:baf5ed1e-c4c1-4a5d-ad5e-204bd26a43d4\" target=\"_top\" title=\"psysml:baf5ed1e-c4c1-4a5d-ad5e-204bd26a43d4\" xlink:actuate=\"onRequest\" xlink:href=\"psysml:baf5ed1e-c4c1-4a5d-ad5e-204bd26a43d4\" xlink:show=\"new\" xlink:title=\"psysml:baf5ed1e-c4c1-4a5d-ad5e-204bd26a43d4\" xlink:type=\"simple\"><path d=\"M32.5,49 L52.375,49 A3.75,3.75 0 0 1 54.875,51.5 L61.875,71.2969 L208.5,71.2969 A2.5,2.5 0 0 1 211,73.7969 L211,150.5 A2.5,2.5 0 0 1 208.5,153 L32.5,153 A2.5,2.5 0 0 1 30,150.5 L30,51.5 A2.5,2.5 0 0 1 32.5,49 \" fill=\"none\" style=\"stroke:#000000;stroke-width:1.5;\"/><line style=\"stroke:#000000;stroke-width:1.5;\" x1=\"30\" x2=\"61.875\" y1=\"71.2969\" y2=\"71.2969\"/><text fill=\"#000000\" font-family=\"sans-serif\" font-size=\"14\" font-weight=\"bold\" lengthAdjust=\"spacing\" textLength=\"18.875\" x=\"34\" y=\"63.9951\">P2</text></a></g><!--MD5=[09b614a08d8cba4a07c9adeb5e0fee81]\n",
       "class E3--><a href=\"psysml:7bcd0150-a304-4bd6-beeb-4a591e07f43e\" target=\"_top\" title=\"psysml:7bcd0150-a304-4bd6-beeb-4a591e07f43e\" xlink:actuate=\"onRequest\" xlink:href=\"psysml:7bcd0150-a304-4bd6-beeb-4a591e07f43e\" xlink:show=\"new\" xlink:title=\"psysml:7bcd0150-a304-4bd6-beeb-4a591e07f43e\" xlink:type=\"simple\"><g id=\"elem_E3\"><rect fill=\"#F1F1F1\" height=\"40\" id=\"E3\" rx=\"2.5\" ry=\"2.5\" style=\"stroke:#181818;stroke-width:0.5;\" width=\"41\" x=\"68.5\" y=\"253\"/><ellipse cx=\"83.5\" cy=\"269\" fill=\"#008000\" rx=\"11\" ry=\"11\" style=\"stroke:#181818;stroke-width:1.0;\"/><path d=\"M80.3594,275.5 L80.3594,263.3594 L84.1563,263.3594 Q86.1563,263.3594 87.2031,264.0625 Q88.2656,264.7656 88.2656,266.3438 Q88.2656,267.4375 87.7656,268.1563 Q87.2813,268.875 86.4531,269.0625 L86.4531,269.1406 Q87.375,269.3594 87.9375,270.0313 Q88.5156,270.6875 88.5156,271.9531 Q88.5156,273.6094 87.4688,274.5625 Q86.4219,275.5 84.5625,275.5 L80.3594,275.5 Z M84.1406,268.1406 Q85.0313,268.1406 85.3906,267.8125 Q85.7656,267.4688 85.7656,266.7656 Q85.7656,266.0313 85.375,265.7188 Q84.9844,265.3906 84.0469,265.3906 L82.6563,265.3906 L82.6563,268.1406 L84.1406,268.1406 Z M84.3281,273.4844 Q85.2344,273.4844 85.5938,273.0469 Q85.9531,272.5938 85.9531,271.8125 Q85.9531,271.0313 85.5781,270.6406 Q85.2188,270.2344 84.2344,270.2344 L82.6563,270.2344 L82.6563,273.4844 L84.3281,273.4844 Z \" fill=\"#000000\"/><text fill=\"#000000\" font-family=\"sans-serif\" font-size=\"14\" lengthAdjust=\"spacing\" textLength=\"9\" x=\"97.5\" y=\"273.8467\">A</text><line style=\"stroke:#181818;stroke-width:0.5;\" x1=\"69.5\" x2=\"108.5\" y1=\"285\" y2=\"285\"/></g></a><!--MD5=[60a26617385b1d2d0262a64233df1f8d]\n",
       "class E6--><a href=\"psysml:1e68c641-a483-45d8-8926-6ab40309dfc3\" target=\"_top\" title=\"psysml:1e68c641-a483-45d8-8926-6ab40309dfc3\" xlink:actuate=\"onRequest\" xlink:href=\"psysml:1e68c641-a483-45d8-8926-6ab40309dfc3\" xlink:show=\"new\" xlink:title=\"psysml:1e68c641-a483-45d8-8926-6ab40309dfc3\" xlink:type=\"simple\"><g id=\"elem_E6\"><rect fill=\"#F1F1F1\" height=\"48.2656\" id=\"E6\" rx=\"10\" ry=\"10\" style=\"stroke:#181818;stroke-width:0.5;\" width=\"68\" x=\"46\" y=\"86.5\"/><ellipse cx=\"61\" cy=\"106.6328\" fill=\"#32CD32\" rx=\"11\" ry=\"11\" style=\"stroke:#181818;stroke-width:1.0;\"/><path d=\"M57.8594,113.1328 L57.8594,100.9922 L61.8906,100.9922 Q63.9844,100.9922 65,101.9766 Q66.0156,102.9453 66.0156,104.7734 Q66.0156,105.9766 65.5781,106.8828 Q65.1563,107.7891 64.2031,108.3047 Q63.2656,108.8203 61.7344,108.8203 L60.2344,108.8203 L60.2344,113.1328 L57.8594,113.1328 Z M61.4844,106.7266 Q62.5313,106.7266 63.0469,106.2422 Q63.5781,105.7578 63.5781,104.8672 Q63.5781,103.9766 63.1406,103.5391 Q62.7188,103.0859 61.7969,103.0859 L60.2344,103.0859 L60.2344,106.7266 L61.4844,106.7266 Z \" fill=\"#000000\"/><text fill=\"#000000\" font-family=\"sans-serif\" font-size=\"12\" font-style=\"italic\" lengthAdjust=\"spacing\" textLength=\"40\" x=\"73\" y=\"102.6387\">«part»</text><text fill=\"#000000\" font-family=\"sans-serif\" font-size=\"14\" lengthAdjust=\"spacing\" textLength=\"25\" x=\"76.5\" y=\"118.4639\">x: A</text><line style=\"stroke:#181818;stroke-width:0.5;\" x1=\"47\" x2=\"113\" y1=\"126.7656\" y2=\"126.7656\"/></g></a><a href=\"psysml:70275c95-cc90-4a8f-9ab9-2df7f67b6861\" target=\"_top\" title=\"psysml:70275c95-cc90-4a8f-9ab9-2df7f67b6861\" xlink:actuate=\"onRequest\" xlink:href=\"psysml:70275c95-cc90-4a8f-9ab9-2df7f67b6861\" xlink:show=\"new\" xlink:title=\"psysml:70275c95-cc90-4a8f-9ab9-2df7f67b6861\" xlink:type=\"simple\"><path d=\"M151.5,84 L178.5,84 A3.75,3.75 0 0 1 181,86.5 L188,106.2969 L192.5,106.2969 A2.5,2.5 0 0 1 195,108.7969 L195,134.0938 A2.5,2.5 0 0 1 192.5,136.5938 L151.5,136.5938 A2.5,2.5 0 0 1 149,134.0938 L149,86.5 A2.5,2.5 0 0 1 151.5,84 \" fill=\"#F1F1F1\" style=\"stroke:#181818;stroke-width:0.5;\"/><line style=\"stroke:#181818;stroke-width:0.5;\" x1=\"149\" x2=\"188\" y1=\"106.2969\" y2=\"106.2969\"/><text fill=\"#000000\" font-family=\"sans-serif\" font-size=\"14\" lengthAdjust=\"spacing\" textLength=\"26\" x=\"153\" y=\"98.9951\">P2a</text></a><!--MD5=[15ebcb19ae302d9b601edb458606d402]\n",
       "link E5 to E2--><g id=\"link_E5_E2\"><a href=\"psysml:0b7a29bb-3729-45f6-9ea2-8894bf23e053\" target=\"_top\" title=\"psysml:0b7a29bb-3729-45f6-9ea2-8894bf23e053\" xlink:actuate=\"onRequest\" xlink:href=\"psysml:0b7a29bb-3729-45f6-9ea2-8894bf23e053\" xlink:show=\"new\" xlink:title=\"psysml:0b7a29bb-3729-45f6-9ea2-8894bf23e053\" xlink:type=\"simple\"><path d=\"M167.66,137.29 C163.905,159.62 158.3575,192.6025 153.6913,220.3425 C153.5454,221.2094 153.4005,222.0711 153.2565,222.9273 C153.1844,223.3554 153.1127,223.782 153.0411,224.2072 \" fill=\"none\" id=\"E5-to-E2\" style=\"stroke:#181818;stroke-width:1.0;stroke-dasharray:7.0,7.0;\"/><polygon fill=\"#181818\" points=\"153.0411,224.2072,158.4787,215.9955,153.8706,219.2765,150.5895,214.6684,153.0411,224.2072\" style=\"stroke:#181818;stroke-width:1.0;\"/><text fill=\"#000000\" font-family=\"sans-serif\" font-size=\"13\" lengthAdjust=\"spacing\" textLength=\"65\" x=\"162\" y=\"182.0669\">«import»*</text></a></g><!--MD5=[a717450b82c80b9240a525fa862496af]\n",
       "link E6 to E3--><g id=\"link_E6_E3\"><a href=\"psysml:d6b7e27f-bd18-4212-9fb0-b02d6224d86d\" target=\"_top\" title=\"psysml:d6b7e27f-bd18-4212-9fb0-b02d6224d86d\" xlink:actuate=\"onRequest\" xlink:href=\"psysml:d6b7e27f-bd18-4212-9fb0-b02d6224d86d\" xlink:show=\"new\" xlink:title=\"psysml:d6b7e27f-bd18-4212-9fb0-b02d6224d86d\" xlink:type=\"simple\"><path d=\"M81.31,134.84 C82.74,160.44 85.07,201.98 86.79,232.64 \" fill=\"none\" id=\"E6-to-E3\" style=\"stroke:#181818;stroke-width:1.0;\"/><polygon fill=\"#FFFFFF\" points=\"87.92,252.66,79.8584,234.0855,93.8361,233.2951,87.92,252.66\" style=\"stroke:#181818;stroke-width:1.0;\"/><ellipse cx=\"81.5334\" cy=\"228.2817\" fill=\"#181818\" rx=\"2\" ry=\"2\" style=\"stroke:#181818;stroke-width:1.0;\"/><ellipse cx=\"91.5175\" cy=\"227.7171\" fill=\"#181818\" rx=\"2\" ry=\"2\" style=\"stroke:#181818;stroke-width:1.0;\"/></a></g><!--MD5=[acf34dbedf6cfdafce31914ae23f30e9]\n",
       "@startuml\r\n",
       " \r\n",
       "package \"QualifiedNameImportTest\" as E1  [[psysml:c4b7552d-b9f7-430e-8774-a992809b5587 ]]  {\r\n",
       "package \"P1\" as E2  [[psysml:50965905-a474-4117-8075-2a307b415370 ]]  {\r\n",
       "comp def \"A\" as E3  << << (B,green) >> [[psysml:7bcd0150-a304-4bd6-beeb-4a591e07f43e ]] {\r\n",
       "}\r\n",
       "}\r\n",
       "package \"P2\" as E4  [[psysml:baf5ed1e-c4c1-4a5d-ad5e-204bd26a43d4 ]]  {\r\n",
       "package \"P2a\" as E5  [[psysml:70275c95-cc90-4a8f-9ab9-2df7f67b6861 ]]  {\r\n",
       "}\r\n",
       "comp usage \"x: A  \" as E6  << << (P,limegreen) part>> [[psysml:1e68c641-a483-45d8-8926-6ab40309dfc3 ]] {\r\n",
       "}\r\n",
       "}\r\n",
       "}\r\n",
       "E5 ..> E2 [[psysml:0b7a29bb-3729-45f6-9ea2-8894bf23e053 ]] : <<import>>*\r\n",
       "E6 - -:|> E3 [[psysml:d6b7e27f-bd18-4212-9fb0-b02d6224d86d ]] \r\n",
       "@enduml\r\n",
       "\n",
       "PlantUML version 1.2022.7(Mon Aug 22 17:01:30 UTC 2022)\n",
       "(EPL source distribution)\n",
       "Java Runtime: OpenJDK Runtime Environment\n",
       "JVM: OpenJDK 64-Bit Server VM\n",
       "Default Encoding: UTF-8\n",
       "Language: en\n",
       "Country: null\n",
       "--></g></svg>"
      ]
     },
     "execution_count": 30,
     "metadata": {},
     "output_type": "execute_result"
    }
   ],
   "source": [
    "%viz --style=\"PLANTUML\" --view=\"Default\" \"QualifiedNameImportTest\""
   ]
  },
  {
   "cell_type": "code",
   "execution_count": 31,
   "id": "096c0017",
   "metadata": {
    "execution": {
     "iopub.execute_input": "2024-12-16T03:25:43.074865Z",
     "iopub.status.busy": "2024-12-16T03:25:43.074638Z",
     "iopub.status.idle": "2024-12-16T03:25:43.094528Z",
     "shell.execute_reply": "2024-12-16T03:25:43.093696Z"
    }
   },
   "outputs": [
    {
     "data": {
      "image/svg+xml": [
       "<?xml version=\"1.0\" encoding=\"UTF-8\" standalone=\"no\"?><svg xmlns=\"http://www.w3.org/2000/svg\" xmlns:xlink=\"http://www.w3.org/1999/xlink\" contentStyleType=\"text/css\" height=\"356px\" preserveAspectRatio=\"none\" style=\"width:242px;height:356px;background:#FFFFFF;\" version=\"1.1\" viewBox=\"0 0 242 356\" width=\"242px\" zoomAndPan=\"magnify\"><defs/><g><!--MD5=[fbc87193dbaf4d95561dea2c320d4a47]\n",
       "cluster E1--><g id=\"cluster_E1\"><a href=\"psysml:c4b7552d-b9f7-430e-8774-a992809b5587\" target=\"_top\" title=\"psysml:c4b7552d-b9f7-430e-8774-a992809b5587\" xlink:actuate=\"onRequest\" xlink:href=\"psysml:c4b7552d-b9f7-430e-8774-a992809b5587\" xlink:show=\"new\" xlink:title=\"psysml:c4b7552d-b9f7-430e-8774-a992809b5587\" xlink:type=\"simple\"><path d=\"M8.5,6 L193.5625,6 A3.75,3.75 0 0 1 196.0625,8.5 L203.0625,28.2969 L232.5,28.2969 A2.5,2.5 0 0 1 235,30.7969 L235,346.5 A2.5,2.5 0 0 1 232.5,349 L8.5,349 A2.5,2.5 0 0 1 6,346.5 L6,8.5 A2.5,2.5 0 0 1 8.5,6 \" fill=\"none\" style=\"stroke:#000000;stroke-width:1.5;\"/><line style=\"stroke:#000000;stroke-width:1.5;\" x1=\"6\" x2=\"203.0625\" y1=\"28.2969\" y2=\"28.2969\"/><text fill=\"#000000\" font-family=\"sans-serif\" font-size=\"14\" font-weight=\"bold\" lengthAdjust=\"spacing\" textLength=\"184.0625\" x=\"10\" y=\"20.9951\">QualifiedNameImportTest</text></a></g><!--MD5=[e4f7fae6ed58524ba242bb0b0d3be6b7]\n",
       "cluster E2--><g id=\"cluster_E2\"><a href=\"psysml:50965905-a474-4117-8075-2a307b415370\" target=\"_top\" title=\"psysml:50965905-a474-4117-8075-2a307b415370\" xlink:actuate=\"onRequest\" xlink:href=\"psysml:50965905-a474-4117-8075-2a307b415370\" xlink:show=\"new\" xlink:title=\"psysml:50965905-a474-4117-8075-2a307b415370\" xlink:type=\"simple\"><path d=\"M46.5,210 L66.375,210 A3.75,3.75 0 0 1 68.875,212.5 L75.875,232.2969 L150.5,232.2969 A2.5,2.5 0 0 1 153,234.7969 L153,314.5 A2.5,2.5 0 0 1 150.5,317 L46.5,317 A2.5,2.5 0 0 1 44,314.5 L44,212.5 A2.5,2.5 0 0 1 46.5,210 \" fill=\"none\" style=\"stroke:#000000;stroke-width:1.5;\"/><line style=\"stroke:#000000;stroke-width:1.5;\" x1=\"44\" x2=\"75.875\" y1=\"232.2969\" y2=\"232.2969\"/><text fill=\"#000000\" font-family=\"sans-serif\" font-size=\"14\" font-weight=\"bold\" lengthAdjust=\"spacing\" textLength=\"18.875\" x=\"48\" y=\"224.9951\">P1</text></a></g><!--MD5=[f6df4d0ebaf0b5dfb2ced0ae5af7c670]\n",
       "cluster E4--><g id=\"cluster_E4\"><a href=\"psysml:baf5ed1e-c4c1-4a5d-ad5e-204bd26a43d4\" target=\"_top\" title=\"psysml:baf5ed1e-c4c1-4a5d-ad5e-204bd26a43d4\" xlink:actuate=\"onRequest\" xlink:href=\"psysml:baf5ed1e-c4c1-4a5d-ad5e-204bd26a43d4\" xlink:show=\"new\" xlink:title=\"psysml:baf5ed1e-c4c1-4a5d-ad5e-204bd26a43d4\" xlink:type=\"simple\"><path d=\"M32.5,49 L52.375,49 A3.75,3.75 0 0 1 54.875,51.5 L61.875,71.2969 L208.5,71.2969 A2.5,2.5 0 0 1 211,73.7969 L211,150.5 A2.5,2.5 0 0 1 208.5,153 L32.5,153 A2.5,2.5 0 0 1 30,150.5 L30,51.5 A2.5,2.5 0 0 1 32.5,49 \" fill=\"none\" style=\"stroke:#000000;stroke-width:1.5;\"/><line style=\"stroke:#000000;stroke-width:1.5;\" x1=\"30\" x2=\"61.875\" y1=\"71.2969\" y2=\"71.2969\"/><text fill=\"#000000\" font-family=\"sans-serif\" font-size=\"14\" font-weight=\"bold\" lengthAdjust=\"spacing\" textLength=\"18.875\" x=\"34\" y=\"63.9951\">P2</text></a></g><!--MD5=[09b614a08d8cba4a07c9adeb5e0fee81]\n",
       "class E3--><a href=\"psysml:7bcd0150-a304-4bd6-beeb-4a591e07f43e\" target=\"_top\" title=\"psysml:7bcd0150-a304-4bd6-beeb-4a591e07f43e\" xlink:actuate=\"onRequest\" xlink:href=\"psysml:7bcd0150-a304-4bd6-beeb-4a591e07f43e\" xlink:show=\"new\" xlink:title=\"psysml:7bcd0150-a304-4bd6-beeb-4a591e07f43e\" xlink:type=\"simple\"><g id=\"elem_E3\"><rect fill=\"#F1F1F1\" height=\"40\" id=\"E3\" rx=\"2.5\" ry=\"2.5\" style=\"stroke:#181818;stroke-width:0.5;\" width=\"41\" x=\"68.5\" y=\"253\"/><ellipse cx=\"83.5\" cy=\"269\" fill=\"#008000\" rx=\"11\" ry=\"11\" style=\"stroke:#181818;stroke-width:1.0;\"/><path d=\"M80.3594,275.5 L80.3594,263.3594 L84.1563,263.3594 Q86.1563,263.3594 87.2031,264.0625 Q88.2656,264.7656 88.2656,266.3438 Q88.2656,267.4375 87.7656,268.1563 Q87.2813,268.875 86.4531,269.0625 L86.4531,269.1406 Q87.375,269.3594 87.9375,270.0313 Q88.5156,270.6875 88.5156,271.9531 Q88.5156,273.6094 87.4688,274.5625 Q86.4219,275.5 84.5625,275.5 L80.3594,275.5 Z M84.1406,268.1406 Q85.0313,268.1406 85.3906,267.8125 Q85.7656,267.4688 85.7656,266.7656 Q85.7656,266.0313 85.375,265.7188 Q84.9844,265.3906 84.0469,265.3906 L82.6563,265.3906 L82.6563,268.1406 L84.1406,268.1406 Z M84.3281,273.4844 Q85.2344,273.4844 85.5938,273.0469 Q85.9531,272.5938 85.9531,271.8125 Q85.9531,271.0313 85.5781,270.6406 Q85.2188,270.2344 84.2344,270.2344 L82.6563,270.2344 L82.6563,273.4844 L84.3281,273.4844 Z \" fill=\"#000000\"/><text fill=\"#000000\" font-family=\"sans-serif\" font-size=\"14\" lengthAdjust=\"spacing\" textLength=\"9\" x=\"97.5\" y=\"273.8467\">A</text><line style=\"stroke:#181818;stroke-width:0.5;\" x1=\"69.5\" x2=\"108.5\" y1=\"285\" y2=\"285\"/></g></a><!--MD5=[60a26617385b1d2d0262a64233df1f8d]\n",
       "class E6--><a href=\"psysml:1e68c641-a483-45d8-8926-6ab40309dfc3\" target=\"_top\" title=\"psysml:1e68c641-a483-45d8-8926-6ab40309dfc3\" xlink:actuate=\"onRequest\" xlink:href=\"psysml:1e68c641-a483-45d8-8926-6ab40309dfc3\" xlink:show=\"new\" xlink:title=\"psysml:1e68c641-a483-45d8-8926-6ab40309dfc3\" xlink:type=\"simple\"><g id=\"elem_E6\"><rect fill=\"#F1F1F1\" height=\"48.2656\" id=\"E6\" rx=\"10\" ry=\"10\" style=\"stroke:#181818;stroke-width:0.5;\" width=\"68\" x=\"46\" y=\"86.5\"/><ellipse cx=\"61\" cy=\"106.6328\" fill=\"#32CD32\" rx=\"11\" ry=\"11\" style=\"stroke:#181818;stroke-width:1.0;\"/><path d=\"M57.8594,113.1328 L57.8594,100.9922 L61.8906,100.9922 Q63.9844,100.9922 65,101.9766 Q66.0156,102.9453 66.0156,104.7734 Q66.0156,105.9766 65.5781,106.8828 Q65.1563,107.7891 64.2031,108.3047 Q63.2656,108.8203 61.7344,108.8203 L60.2344,108.8203 L60.2344,113.1328 L57.8594,113.1328 Z M61.4844,106.7266 Q62.5313,106.7266 63.0469,106.2422 Q63.5781,105.7578 63.5781,104.8672 Q63.5781,103.9766 63.1406,103.5391 Q62.7188,103.0859 61.7969,103.0859 L60.2344,103.0859 L60.2344,106.7266 L61.4844,106.7266 Z \" fill=\"#000000\"/><text fill=\"#000000\" font-family=\"sans-serif\" font-size=\"12\" font-style=\"italic\" lengthAdjust=\"spacing\" textLength=\"40\" x=\"73\" y=\"102.6387\">«part»</text><text fill=\"#000000\" font-family=\"sans-serif\" font-size=\"14\" lengthAdjust=\"spacing\" textLength=\"25\" x=\"76.5\" y=\"118.4639\">x: A</text><line style=\"stroke:#181818;stroke-width:0.5;\" x1=\"47\" x2=\"113\" y1=\"126.7656\" y2=\"126.7656\"/></g></a><a href=\"psysml:70275c95-cc90-4a8f-9ab9-2df7f67b6861\" target=\"_top\" title=\"psysml:70275c95-cc90-4a8f-9ab9-2df7f67b6861\" xlink:actuate=\"onRequest\" xlink:href=\"psysml:70275c95-cc90-4a8f-9ab9-2df7f67b6861\" xlink:show=\"new\" xlink:title=\"psysml:70275c95-cc90-4a8f-9ab9-2df7f67b6861\" xlink:type=\"simple\"><path d=\"M151.5,84 L178.5,84 A3.75,3.75 0 0 1 181,86.5 L188,106.2969 L192.5,106.2969 A2.5,2.5 0 0 1 195,108.7969 L195,134.0938 A2.5,2.5 0 0 1 192.5,136.5938 L151.5,136.5938 A2.5,2.5 0 0 1 149,134.0938 L149,86.5 A2.5,2.5 0 0 1 151.5,84 \" fill=\"#F1F1F1\" style=\"stroke:#181818;stroke-width:0.5;\"/><line style=\"stroke:#181818;stroke-width:0.5;\" x1=\"149\" x2=\"188\" y1=\"106.2969\" y2=\"106.2969\"/><text fill=\"#000000\" font-family=\"sans-serif\" font-size=\"14\" lengthAdjust=\"spacing\" textLength=\"26\" x=\"153\" y=\"98.9951\">P2a</text></a><!--MD5=[15ebcb19ae302d9b601edb458606d402]\n",
       "link E5 to E2--><g id=\"link_E5_E2\"><a href=\"psysml:0b7a29bb-3729-45f6-9ea2-8894bf23e053\" target=\"_top\" title=\"psysml:0b7a29bb-3729-45f6-9ea2-8894bf23e053\" xlink:actuate=\"onRequest\" xlink:href=\"psysml:0b7a29bb-3729-45f6-9ea2-8894bf23e053\" xlink:show=\"new\" xlink:title=\"psysml:0b7a29bb-3729-45f6-9ea2-8894bf23e053\" xlink:type=\"simple\"><path d=\"M167.66,137.29 C163.905,159.62 158.3575,192.6025 153.6913,220.3425 C153.5454,221.2094 153.4005,222.0711 153.2565,222.9273 C153.1844,223.3554 153.1127,223.782 153.0411,224.2072 \" fill=\"none\" id=\"E5-to-E2\" style=\"stroke:#181818;stroke-width:1.0;stroke-dasharray:7.0,7.0;\"/><polygon fill=\"#181818\" points=\"153.0411,224.2072,158.4787,215.9955,153.8706,219.2765,150.5895,214.6684,153.0411,224.2072\" style=\"stroke:#181818;stroke-width:1.0;\"/><text fill=\"#000000\" font-family=\"sans-serif\" font-size=\"13\" lengthAdjust=\"spacing\" textLength=\"65\" x=\"162\" y=\"182.0669\">«import»*</text></a></g><!--MD5=[a717450b82c80b9240a525fa862496af]\n",
       "link E6 to E3--><g id=\"link_E6_E3\"><a href=\"psysml:d6b7e27f-bd18-4212-9fb0-b02d6224d86d\" target=\"_top\" title=\"psysml:d6b7e27f-bd18-4212-9fb0-b02d6224d86d\" xlink:actuate=\"onRequest\" xlink:href=\"psysml:d6b7e27f-bd18-4212-9fb0-b02d6224d86d\" xlink:show=\"new\" xlink:title=\"psysml:d6b7e27f-bd18-4212-9fb0-b02d6224d86d\" xlink:type=\"simple\"><path d=\"M81.31,134.84 C82.74,160.44 85.07,201.98 86.79,232.64 \" fill=\"none\" id=\"E6-to-E3\" style=\"stroke:#181818;stroke-width:1.0;\"/><polygon fill=\"#FFFFFF\" points=\"87.92,252.66,79.8584,234.0855,93.8361,233.2951,87.92,252.66\" style=\"stroke:#181818;stroke-width:1.0;\"/><ellipse cx=\"81.5334\" cy=\"228.2817\" fill=\"#181818\" rx=\"2\" ry=\"2\" style=\"stroke:#181818;stroke-width:1.0;\"/><ellipse cx=\"91.5175\" cy=\"227.7171\" fill=\"#181818\" rx=\"2\" ry=\"2\" style=\"stroke:#181818;stroke-width:1.0;\"/></a></g><!--MD5=[acf34dbedf6cfdafce31914ae23f30e9]\n",
       "@startuml\r\n",
       " \r\n",
       "package \"QualifiedNameImportTest\" as E1  [[psysml:c4b7552d-b9f7-430e-8774-a992809b5587 ]]  {\r\n",
       "package \"P1\" as E2  [[psysml:50965905-a474-4117-8075-2a307b415370 ]]  {\r\n",
       "comp def \"A\" as E3  << << (B,green) >> [[psysml:7bcd0150-a304-4bd6-beeb-4a591e07f43e ]] {\r\n",
       "}\r\n",
       "}\r\n",
       "package \"P2\" as E4  [[psysml:baf5ed1e-c4c1-4a5d-ad5e-204bd26a43d4 ]]  {\r\n",
       "package \"P2a\" as E5  [[psysml:70275c95-cc90-4a8f-9ab9-2df7f67b6861 ]]  {\r\n",
       "}\r\n",
       "comp usage \"x: A  \" as E6  << << (P,limegreen) part>> [[psysml:1e68c641-a483-45d8-8926-6ab40309dfc3 ]] {\r\n",
       "}\r\n",
       "}\r\n",
       "}\r\n",
       "E5 ..> E2 [[psysml:0b7a29bb-3729-45f6-9ea2-8894bf23e053 ]] : <<import>>*\r\n",
       "E6 - -:|> E3 [[psysml:d6b7e27f-bd18-4212-9fb0-b02d6224d86d ]] \r\n",
       "@enduml\r\n",
       "\n",
       "PlantUML version 1.2022.7(Mon Aug 22 17:01:30 UTC 2022)\n",
       "(EPL source distribution)\n",
       "Java Runtime: OpenJDK Runtime Environment\n",
       "JVM: OpenJDK 64-Bit Server VM\n",
       "Default Encoding: UTF-8\n",
       "Language: en\n",
       "Country: null\n",
       "--></g></svg>"
      ]
     },
     "execution_count": 31,
     "metadata": {},
     "output_type": "execute_result"
    }
   ],
   "source": [
    "%viz --style=\"PLANTUML\" --view=\"Tree\" \"QualifiedNameImportTest\""
   ]
  },
  {
   "cell_type": "code",
   "execution_count": 32,
   "id": "e89d3ebd",
   "metadata": {
    "execution": {
     "iopub.execute_input": "2024-12-16T03:25:43.148948Z",
     "iopub.status.busy": "2024-12-16T03:25:43.148722Z",
     "iopub.status.idle": "2024-12-16T03:25:43.188860Z",
     "shell.execute_reply": "2024-12-16T03:25:43.188649Z"
    }
   },
   "outputs": [
    {
     "data": {
      "image/svg+xml": [
       "<?xml version=\"1.0\" encoding=\"UTF-8\" standalone=\"no\"?><svg xmlns=\"http://www.w3.org/2000/svg\" xmlns:xlink=\"http://www.w3.org/1999/xlink\" contentStyleType=\"text/css\" height=\"389px\" preserveAspectRatio=\"none\" style=\"width:603px;height:389px;background:#000000;\" version=\"1.1\" viewBox=\"0 0 603 389\" width=\"603px\" zoomAndPan=\"magnify\"><defs/><g><rect fill=\"#000905\" height=\"1\" style=\"stroke:#000905;stroke-width:1.0;\" width=\"1\" x=\"0\" y=\"0\"/><rect fill=\"#FFFFFF\" height=\"226.6573\" style=\"stroke:#FFFFFF;stroke-width:1.0;\" width=\"602\" x=\"0\" y=\"0\"/><text fill=\"#000000\" font-family=\"sans-serif\" font-size=\"12\" font-weight=\"bold\" lengthAdjust=\"spacing\" textLength=\"145.75\" x=\"5\" y=\"16.1387\">Welcome to PlantUML!</text><text fill=\"#000000\" font-family=\"sans-serif\" font-size=\"12\" lengthAdjust=\"spacing\" textLength=\"4\" x=\"5\" y=\"30.1074\"> </text><text fill=\"#000000\" font-family=\"sans-serif\" font-size=\"12\" lengthAdjust=\"spacing\" textLength=\"283\" x=\"5\" y=\"44.0762\">You can start with a simple UML Diagram like:</text><text fill=\"#000000\" font-family=\"sans-serif\" font-size=\"12\" lengthAdjust=\"spacing\" textLength=\"4\" x=\"5\" y=\"58.0449\"> </text><text fill=\"#000000\" font-family=\"monospace\" font-size=\"12\" lengthAdjust=\"spacing\" textLength=\"119\" x=\"5\" y=\"73.7031\">Bob-&gt;Alice: Hello</text><text fill=\"#000000\" font-family=\"sans-serif\" font-size=\"12\" lengthAdjust=\"spacing\" textLength=\"4\" x=\"5\" y=\"88.3578\"> </text><text fill=\"#000000\" font-family=\"sans-serif\" font-size=\"12\" lengthAdjust=\"spacing\" textLength=\"14\" x=\"5\" y=\"102.3265\">Or</text><text fill=\"#000000\" font-family=\"sans-serif\" font-size=\"12\" lengthAdjust=\"spacing\" textLength=\"4\" x=\"5\" y=\"116.2953\"> </text><text fill=\"#000000\" font-family=\"monospace\" font-size=\"12\" lengthAdjust=\"spacing\" textLength=\"91\" x=\"5\" y=\"131.9535\">class Example</text><text fill=\"#000000\" font-family=\"sans-serif\" font-size=\"12\" lengthAdjust=\"spacing\" textLength=\"4\" x=\"5\" y=\"146.6082\"> </text><text fill=\"#000000\" font-family=\"sans-serif\" font-size=\"12\" lengthAdjust=\"spacing\" textLength=\"349\" x=\"5\" y=\"160.5769\">You will find more information about PlantUML syntax on</text><text fill=\"#000000\" font-family=\"sans-serif\" font-size=\"12\" lengthAdjust=\"spacing\" text-decoration=\"underline\" textLength=\"129\" x=\"358\" y=\"160.5769\">https://plantuml.com</text><text fill=\"#000000\" font-family=\"sans-serif\" font-size=\"12\" lengthAdjust=\"spacing\" textLength=\"4\" x=\"5\" y=\"174.5457\"> </text><text fill=\"#000000\" font-family=\"sans-serif\" font-size=\"12\" lengthAdjust=\"spacing\" textLength=\"299\" x=\"5\" y=\"188.5144\">(If you use this software, you accept its license)</text><text fill=\"#000000\" font-family=\"sans-serif\" font-size=\"12\" lengthAdjust=\"spacing\" textLength=\"108\" x=\"5\" y=\"204.8585\">(Details by typing</text><text fill=\"#000000\" font-family=\"monospace\" font-size=\"12\" lengthAdjust=\"spacing\" textLength=\"49\" x=\"117\" y=\"204.1726\">license</text><text fill=\"#000000\" font-family=\"sans-serif\" font-size=\"12\" lengthAdjust=\"spacing\" textLength=\"56\" x=\"170\" y=\"204.8585\">keyword)</text><text fill=\"#000000\" font-family=\"sans-serif\" font-size=\"12\" lengthAdjust=\"spacing\" textLength=\"4\" x=\"5\" y=\"218.8273\"> </text><image height=\"71\" width=\"80\" x=\"516\" xlink:href=\"data:image/png;base64,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\" y=\"6\"/><rect fill=\"#000000\" height=\"160.3594\" style=\"stroke:#000000;stroke-width:1.0;\" width=\"602\" x=\"0\" y=\"226.6573\"/><text fill=\"#33FF02\" font-family=\"sans-serif\" font-size=\"12\" font-style=\"italic\" font-weight=\"bold\" lengthAdjust=\"spacing\" textLength=\"123\" x=\"5\" y=\"243.6573\">PlantUML 1.2022.7</text><text fill=\"#33FF02\" font-family=\"sans-serif\" font-size=\"12\" font-style=\"italic\" font-weight=\"bold\" lengthAdjust=\"spacing\" textLength=\"4\" x=\"5\" y=\"257.6261\"> </text><text fill=\"#33FF02\" font-family=\"sans-serif\" font-size=\"12\" font-style=\"italic\" font-weight=\"bold\" lengthAdjust=\"spacing\" textLength=\"390\" x=\"5\" y=\"271.5948\">&lt;b&gt;This version of PlantUML is 846 days old, so you should</text><text fill=\"#33FF02\" font-family=\"sans-serif\" font-size=\"12\" font-style=\"italic\" font-weight=\"bold\" lengthAdjust=\"spacing\" textLength=\"398.875\" x=\"5\" y=\"285.5636\">&lt;b&gt;consider upgrading from https://plantuml.com/download</text><rect fill=\"#33FF02\" height=\"21.2969\" style=\"stroke:#33FF02;stroke-width:1.0;\" width=\"153.3125\" x=\"5\" y=\"295.5323\"/><text fill=\"#000000\" font-family=\"sans-serif\" font-size=\"14\" font-weight=\"bold\" lengthAdjust=\"spacing\" textLength=\"151.3125\" x=\"6\" y=\"310.5323\">[From string (line 2) ]</text><text fill=\"#33FF02\" font-family=\"sans-serif\" font-size=\"14\" font-weight=\"bold\" lengthAdjust=\"spacing\" textLength=\"4\" x=\"5\" y=\"330.8292\"> </text><text fill=\"#33FF02\" font-family=\"sans-serif\" font-size=\"14\" font-weight=\"bold\" lengthAdjust=\"spacing\" textLength=\"73.9375\" x=\"5\" y=\"347.1261\">@startuml</text><text fill=\"#33FF02\" font-family=\"sans-serif\" font-size=\"14\" font-weight=\"bold\" lengthAdjust=\"spacing\" text-decoration=\"wavy underline\" textLength=\"4\" x=\"5\" y=\"363.423\"> </text><text fill=\"#FF0000\" font-family=\"sans-serif\" font-size=\"14\" font-weight=\"bold\" lengthAdjust=\"spacing\" textLength=\"131\" x=\"9\" y=\"379.7198\">Empty description</text><!--MD5=[5b6570bdd48fecdb4121f0162c378f28]\n",
       "@startuml\r\n",
       " \r\n",
       "@enduml\r\n",
       "\n",
       "PlantUML version 1.2022.7(Mon Aug 22 17:01:30 UTC 2022)\n",
       "(EPL source distribution)\n",
       "Java Runtime: OpenJDK Runtime Environment\n",
       "JVM: OpenJDK 64-Bit Server VM\n",
       "Default Encoding: UTF-8\n",
       "Language: en\n",
       "Country: null\n",
       "--></g></svg>"
      ]
     },
     "execution_count": 32,
     "metadata": {},
     "output_type": "execute_result"
    }
   ],
   "source": [
    "%viz --style=\"PLANTUML\" --view=\"State\" \"QualifiedNameImportTest\""
   ]
  },
  {
   "cell_type": "code",
   "execution_count": 33,
   "id": "2456f363",
   "metadata": {
    "execution": {
     "iopub.execute_input": "2024-12-16T03:25:43.244238Z",
     "iopub.status.busy": "2024-12-16T03:25:43.244030Z",
     "iopub.status.idle": "2024-12-16T03:25:43.261779Z",
     "shell.execute_reply": "2024-12-16T03:25:43.261010Z"
    }
   },
   "outputs": [
    {
     "data": {
      "image/svg+xml": [
       "<?xml version=\"1.0\" encoding=\"UTF-8\" standalone=\"no\"?><svg xmlns=\"http://www.w3.org/2000/svg\" xmlns:xlink=\"http://www.w3.org/1999/xlink\" contentStyleType=\"text/css\" height=\"356px\" preserveAspectRatio=\"none\" style=\"width:236px;height:356px;background:#FFFFFF;\" version=\"1.1\" viewBox=\"0 0 236 356\" width=\"236px\" zoomAndPan=\"magnify\"><defs/><g><!--MD5=[fbc87193dbaf4d95561dea2c320d4a47]\n",
       "cluster E1--><g id=\"cluster_E1\"><a href=\"psysml:c4b7552d-b9f7-430e-8774-a992809b5587\" target=\"_top\" title=\"psysml:c4b7552d-b9f7-430e-8774-a992809b5587\" xlink:actuate=\"onRequest\" xlink:href=\"psysml:c4b7552d-b9f7-430e-8774-a992809b5587\" xlink:show=\"new\" xlink:title=\"psysml:c4b7552d-b9f7-430e-8774-a992809b5587\" xlink:type=\"simple\"><path d=\"M8.5,6 L193.5625,6 A3.75,3.75 0 0 1 196.0625,8.5 L203.0625,28.2969 L226.5,28.2969 A2.5,2.5 0 0 1 229,30.7969 L229,346.5 A2.5,2.5 0 0 1 226.5,349 L8.5,349 A2.5,2.5 0 0 1 6,346.5 L6,8.5 A2.5,2.5 0 0 1 8.5,6 \" fill=\"none\" style=\"stroke:#000000;stroke-width:1.5;\"/><line style=\"stroke:#000000;stroke-width:1.5;\" x1=\"6\" x2=\"203.0625\" y1=\"28.2969\" y2=\"28.2969\"/><text fill=\"#000000\" font-family=\"sans-serif\" font-size=\"14\" font-weight=\"bold\" lengthAdjust=\"spacing\" textLength=\"184.0625\" x=\"10\" y=\"20.9951\">QualifiedNameImportTest</text></a></g><!--MD5=[e4f7fae6ed58524ba242bb0b0d3be6b7]\n",
       "cluster E2--><g id=\"cluster_E2\"><a href=\"psysml:50965905-a474-4117-8075-2a307b415370\" target=\"_top\" title=\"psysml:50965905-a474-4117-8075-2a307b415370\" xlink:actuate=\"onRequest\" xlink:href=\"psysml:50965905-a474-4117-8075-2a307b415370\" xlink:show=\"new\" xlink:title=\"psysml:50965905-a474-4117-8075-2a307b415370\" xlink:type=\"simple\"><path d=\"M76.5,210 L96.375,210 A3.75,3.75 0 0 1 98.875,212.5 L105.875,232.2969 L188.5,232.2969 A2.5,2.5 0 0 1 191,234.7969 L191,314.5 A2.5,2.5 0 0 1 188.5,317 L76.5,317 A2.5,2.5 0 0 1 74,314.5 L74,212.5 A2.5,2.5 0 0 1 76.5,210 \" fill=\"none\" style=\"stroke:#000000;stroke-width:1.5;\"/><line style=\"stroke:#000000;stroke-width:1.5;\" x1=\"74\" x2=\"105.875\" y1=\"232.2969\" y2=\"232.2969\"/><text fill=\"#000000\" font-family=\"sans-serif\" font-size=\"14\" font-weight=\"bold\" lengthAdjust=\"spacing\" textLength=\"18.875\" x=\"78\" y=\"224.9951\">P1</text></a></g><!--MD5=[f6df4d0ebaf0b5dfb2ced0ae5af7c670]\n",
       "cluster E4--><g id=\"cluster_E4\"><a href=\"psysml:baf5ed1e-c4c1-4a5d-ad5e-204bd26a43d4\" target=\"_top\" title=\"psysml:baf5ed1e-c4c1-4a5d-ad5e-204bd26a43d4\" xlink:actuate=\"onRequest\" xlink:href=\"psysml:baf5ed1e-c4c1-4a5d-ad5e-204bd26a43d4\" xlink:show=\"new\" xlink:title=\"psysml:baf5ed1e-c4c1-4a5d-ad5e-204bd26a43d4\" xlink:type=\"simple\"><path d=\"M32.5,49 L52.375,49 A3.75,3.75 0 0 1 54.875,51.5 L61.875,71.2969 L202.5,71.2969 A2.5,2.5 0 0 1 205,73.7969 L205,150.5 A2.5,2.5 0 0 1 202.5,153 L32.5,153 A2.5,2.5 0 0 1 30,150.5 L30,51.5 A2.5,2.5 0 0 1 32.5,49 \" fill=\"none\" style=\"stroke:#000000;stroke-width:1.5;\"/><line style=\"stroke:#000000;stroke-width:1.5;\" x1=\"30\" x2=\"61.875\" y1=\"71.2969\" y2=\"71.2969\"/><text fill=\"#000000\" font-family=\"sans-serif\" font-size=\"14\" font-weight=\"bold\" lengthAdjust=\"spacing\" textLength=\"18.875\" x=\"34\" y=\"63.9951\">P2</text></a></g><g><a href=\"psysml:7bcd0150-a304-4bd6-beeb-4a591e07f43e\" target=\"_top\" title=\"psysml:7bcd0150-a304-4bd6-beeb-4a591e07f43e\" xlink:actuate=\"onRequest\" xlink:href=\"psysml:7bcd0150-a304-4bd6-beeb-4a591e07f43e\" xlink:show=\"new\" xlink:title=\"psysml:7bcd0150-a304-4bd6-beeb-4a591e07f43e\" xlink:type=\"simple\"><rect fill=\"#F1F1F1\" height=\"40\" id=\"E3\" style=\"stroke:#A80036;stroke-width:1.5;\" width=\"50\" x=\"117\" y=\"253\"/><ellipse cx=\"136.05\" cy=\"269\" fill=\"#008000\" rx=\"11\" ry=\"11\" style=\"stroke:#181818;stroke-width:1.0;\"/><path d=\"M132.9094,275.5 L132.9094,263.3594 L136.7063,263.3594 Q138.7063,263.3594 139.7531,264.0625 Q140.8156,264.7656 140.8156,266.3438 Q140.8156,267.4375 140.3156,268.1563 Q139.8313,268.875 139.0031,269.0625 L139.0031,269.1406 Q139.925,269.3594 140.4875,270.0313 Q141.0656,270.6875 141.0656,271.9531 Q141.0656,273.6094 140.0188,274.5625 Q138.9719,275.5 137.1125,275.5 L132.9094,275.5 Z M136.6906,268.1406 Q137.5813,268.1406 137.9406,267.8125 Q138.3156,267.4688 138.3156,266.7656 Q138.3156,266.0313 137.925,265.7188 Q137.5344,265.3906 136.5969,265.3906 L135.2063,265.3906 L135.2063,268.1406 L136.6906,268.1406 Z M136.8781,273.4844 Q137.7844,273.4844 138.1438,273.0469 Q138.5031,272.5938 138.5031,271.8125 Q138.5031,271.0313 138.1281,270.6406 Q137.7688,270.2344 136.7844,270.2344 L135.2063,270.2344 L135.2063,273.4844 L136.8781,273.4844 Z \" fill=\"#000000\"/><text fill=\"#000000\" font-family=\"sans-serif\" font-size=\"14\" lengthAdjust=\"spacing\" textLength=\"9\" x=\"150.95\" y=\"273.8467\">A</text></a></g><a href=\"psysml:70275c95-cc90-4a8f-9ab9-2df7f67b6861\" target=\"_top\" title=\"psysml:70275c95-cc90-4a8f-9ab9-2df7f67b6861\" xlink:actuate=\"onRequest\" xlink:href=\"psysml:70275c95-cc90-4a8f-9ab9-2df7f67b6861\" xlink:show=\"new\" xlink:title=\"psysml:70275c95-cc90-4a8f-9ab9-2df7f67b6861\" xlink:type=\"simple\"><path d=\"M48.5,84 L75.5,84 A3.75,3.75 0 0 1 78,86.5 L85,106.2969 L89.5,106.2969 A2.5,2.5 0 0 1 92,108.7969 L92,134.0938 A2.5,2.5 0 0 1 89.5,136.5938 L48.5,136.5938 A2.5,2.5 0 0 1 46,134.0938 L46,86.5 A2.5,2.5 0 0 1 48.5,84 \" fill=\"#F1F1F1\" style=\"stroke:#181818;stroke-width:0.5;\"/><line style=\"stroke:#181818;stroke-width:0.5;\" x1=\"46\" x2=\"85\" y1=\"106.2969\" y2=\"106.2969\"/><text fill=\"#000000\" font-family=\"sans-serif\" font-size=\"14\" lengthAdjust=\"spacing\" textLength=\"26\" x=\"50\" y=\"98.9951\">P2a</text></a><g><a href=\"psysml:1e68c641-a483-45d8-8926-6ab40309dfc3\" target=\"_top\" title=\"psysml:1e68c641-a483-45d8-8926-6ab40309dfc3\" xlink:actuate=\"onRequest\" xlink:href=\"psysml:1e68c641-a483-45d8-8926-6ab40309dfc3\" xlink:show=\"new\" xlink:title=\"psysml:1e68c641-a483-45d8-8926-6ab40309dfc3\" xlink:type=\"simple\"><rect fill=\"#F1F1F1\" height=\"40\" id=\"E6\" rx=\"10\" ry=\"10\" style=\"stroke:#A80036;stroke-width:1.5;\" width=\"62\" x=\"127\" y=\"90.5\"/><ellipse cx=\"144.25\" cy=\"106.5\" fill=\"#F1F1F1\" rx=\"11\" ry=\"11\" style=\"stroke:#181818;stroke-width:1.0;\"/><path d=\"M144.3125,113.6719 Q142.2031,113.6719 141.1094,112.5469 Q140.0156,111.4219 140.0156,109.375 L140.0156,101.3594 L142.4844,101.3594 L142.4844,108.9375 Q142.4844,110.375 142.9375,110.9688 Q143.3906,111.5469 144.3438,111.5469 Q145.3594,111.5469 145.7813,110.9375 Q146.2188,110.3281 146.2188,108.9219 L146.2188,101.3594 L148.6875,101.3594 L148.6875,109.3594 Q148.6875,111.3438 147.5938,112.5156 Q146.5156,113.6719 144.3125,113.6719 Z \" fill=\"#000000\"/><text fill=\"#000000\" font-family=\"sans-serif\" font-size=\"14\" lengthAdjust=\"spacing\" textLength=\"25\" x=\"158.75\" y=\"111.3467\">x: A</text></a></g><!--MD5=[15ebcb19ae302d9b601edb458606d402]\n",
       "link E5 to E2--><g id=\"link_E5_E2\"><a href=\"psysml:0b7a29bb-3729-45f6-9ea2-8894bf23e053\" target=\"_top\" title=\"psysml:0b7a29bb-3729-45f6-9ea2-8894bf23e053\" xlink:actuate=\"onRequest\" xlink:href=\"psysml:0b7a29bb-3729-45f6-9ea2-8894bf23e053\" xlink:show=\"new\" xlink:title=\"psysml:0b7a29bb-3729-45f6-9ea2-8894bf23e053\" xlink:type=\"simple\"><path d=\"M71.09,137.29 C71.995,148.455 73.115,162.2831 74.2894,176.7875 C74.8766,184.0397 75.4773,191.4609 76.0716,198.8029 C76.3688,202.4739 76.6643,206.125 76.9557,209.7253 \" fill=\"none\" id=\"E5-to-E2\" style=\"stroke:#181818;stroke-width:1.0;stroke-dasharray:7.0,7.0;\"/><polygon fill=\"#181818\" points=\"76.9557,209.7253,80.2166,200.4319,76.5523,204.7416,72.2427,201.0773,76.9557,209.7253\" style=\"stroke:#181818;stroke-width:1.0;\"/><text fill=\"#000000\" font-family=\"sans-serif\" font-size=\"13\" lengthAdjust=\"spacing\" textLength=\"65\" x=\"75\" y=\"182.0669\">«import»*</text></a></g><!--MD5=[a717450b82c80b9240a525fa862496af]\n",
       "link E6 to E3--><g id=\"link_E6_E3\"><a href=\"psysml:d6b7e27f-bd18-4212-9fb0-b02d6224d86d\" target=\"_top\" title=\"psysml:d6b7e27f-bd18-4212-9fb0-b02d6224d86d\" xlink:actuate=\"onRequest\" xlink:href=\"psysml:d6b7e27f-bd18-4212-9fb0-b02d6224d86d\" xlink:show=\"new\" xlink:title=\"psysml:d6b7e27f-bd18-4212-9fb0-b02d6224d86d\" xlink:type=\"simple\"><path d=\"M156.1,130.54 C153.6,155.64 149.14,200.4 145.9,232.87 \" fill=\"none\" id=\"E6-to-E3\" style=\"stroke:#181818;stroke-width:1.0;\"/><polygon fill=\"#FFFFFF\" points=\"143.9,252.98,138.8197,233.3792,152.7507,234.7683,143.9,252.98\" style=\"stroke:#181818;stroke-width:1.0;\"/><ellipse cx=\"141.3754\" cy=\"227.9058\" fill=\"#181818\" rx=\"2\" ry=\"2\" style=\"stroke:#181818;stroke-width:1.0;\"/><ellipse cx=\"151.3261\" cy=\"228.898\" fill=\"#181818\" rx=\"2\" ry=\"2\" style=\"stroke:#181818;stroke-width:1.0;\"/></a></g><!--MD5=[60a8e64d5a4e6ae8e07aa9a0c7a454c4]\n",
       "@startuml\r\n",
       " skinparam ranksep 10\r\n",
       "skinparam rectangle {\r\n",
       " backgroundColor<<block>> LightGreen\r\n",
       "}\r\n",
       "\r\n",
       "package \"QualifiedNameImportTest\" as E1  [[psysml:c4b7552d-b9f7-430e-8774-a992809b5587 ]]  {\r\n",
       "package \"P1\" as E2  [[psysml:50965905-a474-4117-8075-2a307b415370 ]]  {\r\n",
       "rec def \"A\" as E3  << << (B,green) >> [[psysml:7bcd0150-a304-4bd6-beeb-4a591e07f43e ]] {\r\n",
       "}\r\n",
       "}\r\n",
       "package \"P2\" as E4  [[psysml:baf5ed1e-c4c1-4a5d-ad5e-204bd26a43d4 ]]  {\r\n",
       "package \"P2a\" as E5  [[psysml:70275c95-cc90-4a8f-9ab9-2df7f67b6861 ]]  {\r\n",
       "}\r\n",
       "rec usage \"x: A\" as E6 [[psysml:1e68c641-a483-45d8-8926-6ab40309dfc3 ]] {\r\n",
       "}\r\n",
       "}\r\n",
       "}\r\n",
       "E5 ..> E2 [[psysml:0b7a29bb-3729-45f6-9ea2-8894bf23e053 ]] : <<import>>*\r\n",
       "E6 - -:|> E3 [[psysml:d6b7e27f-bd18-4212-9fb0-b02d6224d86d ]] \r\n",
       "@enduml\r\n",
       "\n",
       "PlantUML version 1.2022.7(Mon Aug 22 17:01:30 UTC 2022)\n",
       "(EPL source distribution)\n",
       "Java Runtime: OpenJDK Runtime Environment\n",
       "JVM: OpenJDK 64-Bit Server VM\n",
       "Default Encoding: UTF-8\n",
       "Language: en\n",
       "Country: null\n",
       "--></g></svg>"
      ]
     },
     "execution_count": 33,
     "metadata": {},
     "output_type": "execute_result"
    }
   ],
   "source": [
    "%viz --style=\"PLANTUML\" --view=\"Interconnection\" \"QualifiedNameImportTest\""
   ]
  },
  {
   "cell_type": "code",
   "execution_count": 34,
   "id": "edc11c92",
   "metadata": {
    "execution": {
     "iopub.execute_input": "2024-12-16T03:25:43.313216Z",
     "iopub.status.busy": "2024-12-16T03:25:43.313020Z",
     "iopub.status.idle": "2024-12-16T03:25:43.317641Z",
     "shell.execute_reply": "2024-12-16T03:25:43.317493Z"
    }
   },
   "outputs": [
    {
     "data": {
      "image/svg+xml": [
       "<?xml version=\"1.0\" encoding=\"UTF-8\" standalone=\"no\"?><svg xmlns=\"http://www.w3.org/2000/svg\" xmlns:xlink=\"http://www.w3.org/1999/xlink\" contentStyleType=\"text/css\" height=\"10px\" preserveAspectRatio=\"none\" style=\"width:10px;height:10px;background:#FFFFFF;\" version=\"1.1\" viewBox=\"0 0 10 10\" width=\"10px\" zoomAndPan=\"magnify\"><defs/><g><!--MD5=[5b85ed15c012f432344d03f88cdcf85b]\n",
       "@startuml\r\n",
       " skinparam ranksep 8\r\n",
       "\r\n",
       "@enduml\r\n",
       "\n",
       "PlantUML version 1.2022.7(Mon Aug 22 17:01:30 UTC 2022)\n",
       "(EPL source distribution)\n",
       "Java Runtime: OpenJDK Runtime Environment\n",
       "JVM: OpenJDK 64-Bit Server VM\n",
       "Default Encoding: UTF-8\n",
       "Language: en\n",
       "Country: null\n",
       "--></g></svg>"
      ]
     },
     "execution_count": 34,
     "metadata": {},
     "output_type": "execute_result"
    }
   ],
   "source": [
    "%viz --style=\"PLANTUML\" --view=\"Action\" \"QualifiedNameImportTest\""
   ]
  },
  {
   "cell_type": "code",
   "execution_count": 35,
   "id": "3d704869",
   "metadata": {
    "execution": {
     "iopub.execute_input": "2024-12-16T03:25:43.374329Z",
     "iopub.status.busy": "2024-12-16T03:25:43.374010Z",
     "iopub.status.idle": "2024-12-16T03:25:43.379461Z",
     "shell.execute_reply": "2024-12-16T03:25:43.379282Z"
    }
   },
   "outputs": [
    {
     "data": {
      "image/svg+xml": [
       "<?xml version=\"1.0\" encoding=\"UTF-8\" standalone=\"no\"?><svg xmlns=\"http://www.w3.org/2000/svg\" xmlns:xlink=\"http://www.w3.org/1999/xlink\" contentStyleType=\"text/css\" height=\"10px\" preserveAspectRatio=\"none\" style=\"width:10px;height:10px;background:#FFFFFF;\" version=\"1.1\" viewBox=\"0 0 10 10\" width=\"10px\" zoomAndPan=\"magnify\"><defs/><g><!--MD5=[395e82ba475bd2e80052467b56fa0251]\n",
       "@startuml\r\n",
       " skinparam roundcorner 20\r\n",
       "skinparam BoxPadding 20\r\n",
       "skinparam SequenceBoxBackgroundColor #white\r\n",
       "skinparam style strictuml\r\n",
       "skinparam maxMessageSize 100\r\n",
       "\r\n",
       "@enduml\r\n",
       "\n",
       "PlantUML version 1.2022.7(Mon Aug 22 17:01:30 UTC 2022)\n",
       "(EPL source distribution)\n",
       "Java Runtime: OpenJDK Runtime Environment\n",
       "JVM: OpenJDK 64-Bit Server VM\n",
       "Default Encoding: UTF-8\n",
       "Language: en\n",
       "Country: null\n",
       "--></g></svg>"
      ]
     },
     "execution_count": 35,
     "metadata": {},
     "output_type": "execute_result"
    }
   ],
   "source": [
    "%viz --style=\"PLANTUML\" --view=\"Sequence\" \"QualifiedNameImportTest\""
   ]
  },
  {
   "cell_type": "code",
   "execution_count": 36,
   "id": "fb04bbfe",
   "metadata": {
    "execution": {
     "iopub.execute_input": "2024-12-16T03:25:43.430032Z",
     "iopub.status.busy": "2024-12-16T03:25:43.429812Z",
     "iopub.status.idle": "2024-12-16T03:25:43.448074Z",
     "shell.execute_reply": "2024-12-16T03:25:43.447850Z"
    }
   },
   "outputs": [
    {
     "data": {
      "image/svg+xml": [
       "<?xml version=\"1.0\" encoding=\"UTF-8\" standalone=\"no\"?><svg xmlns=\"http://www.w3.org/2000/svg\" xmlns:xlink=\"http://www.w3.org/1999/xlink\" contentStyleType=\"text/css\" height=\"356px\" preserveAspectRatio=\"none\" style=\"width:242px;height:356px;background:#FFFFFF;\" version=\"1.1\" viewBox=\"0 0 242 356\" width=\"242px\" zoomAndPan=\"magnify\"><defs/><g><!--MD5=[fbc87193dbaf4d95561dea2c320d4a47]\n",
       "cluster E1--><g id=\"cluster_E1\"><a href=\"psysml:c4b7552d-b9f7-430e-8774-a992809b5587\" target=\"_top\" title=\"psysml:c4b7552d-b9f7-430e-8774-a992809b5587\" xlink:actuate=\"onRequest\" xlink:href=\"psysml:c4b7552d-b9f7-430e-8774-a992809b5587\" xlink:show=\"new\" xlink:title=\"psysml:c4b7552d-b9f7-430e-8774-a992809b5587\" xlink:type=\"simple\"><path d=\"M8.5,6 L193.5625,6 A3.75,3.75 0 0 1 196.0625,8.5 L203.0625,28.2969 L232.5,28.2969 A2.5,2.5 0 0 1 235,30.7969 L235,346.5 A2.5,2.5 0 0 1 232.5,349 L8.5,349 A2.5,2.5 0 0 1 6,346.5 L6,8.5 A2.5,2.5 0 0 1 8.5,6 \" fill=\"none\" style=\"stroke:#000000;stroke-width:1.5;\"/><line style=\"stroke:#000000;stroke-width:1.5;\" x1=\"6\" x2=\"203.0625\" y1=\"28.2969\" y2=\"28.2969\"/><text fill=\"#000000\" font-family=\"sans-serif\" font-size=\"14\" font-weight=\"bold\" lengthAdjust=\"spacing\" textLength=\"184.0625\" x=\"10\" y=\"20.9951\">QualifiedNameImportTest</text></a></g><!--MD5=[e4f7fae6ed58524ba242bb0b0d3be6b7]\n",
       "cluster E2--><g id=\"cluster_E2\"><a href=\"psysml:50965905-a474-4117-8075-2a307b415370\" target=\"_top\" title=\"psysml:50965905-a474-4117-8075-2a307b415370\" xlink:actuate=\"onRequest\" xlink:href=\"psysml:50965905-a474-4117-8075-2a307b415370\" xlink:show=\"new\" xlink:title=\"psysml:50965905-a474-4117-8075-2a307b415370\" xlink:type=\"simple\"><path d=\"M46.5,210 L66.375,210 A3.75,3.75 0 0 1 68.875,212.5 L75.875,232.2969 L150.5,232.2969 A2.5,2.5 0 0 1 153,234.7969 L153,314.5 A2.5,2.5 0 0 1 150.5,317 L46.5,317 A2.5,2.5 0 0 1 44,314.5 L44,212.5 A2.5,2.5 0 0 1 46.5,210 \" fill=\"none\" style=\"stroke:#000000;stroke-width:1.5;\"/><line style=\"stroke:#000000;stroke-width:1.5;\" x1=\"44\" x2=\"75.875\" y1=\"232.2969\" y2=\"232.2969\"/><text fill=\"#000000\" font-family=\"sans-serif\" font-size=\"14\" font-weight=\"bold\" lengthAdjust=\"spacing\" textLength=\"18.875\" x=\"48\" y=\"224.9951\">P1</text></a></g><!--MD5=[f6df4d0ebaf0b5dfb2ced0ae5af7c670]\n",
       "cluster E4--><g id=\"cluster_E4\"><a href=\"psysml:baf5ed1e-c4c1-4a5d-ad5e-204bd26a43d4\" target=\"_top\" title=\"psysml:baf5ed1e-c4c1-4a5d-ad5e-204bd26a43d4\" xlink:actuate=\"onRequest\" xlink:href=\"psysml:baf5ed1e-c4c1-4a5d-ad5e-204bd26a43d4\" xlink:show=\"new\" xlink:title=\"psysml:baf5ed1e-c4c1-4a5d-ad5e-204bd26a43d4\" xlink:type=\"simple\"><path d=\"M32.5,49 L52.375,49 A3.75,3.75 0 0 1 54.875,51.5 L61.875,71.2969 L208.5,71.2969 A2.5,2.5 0 0 1 211,73.7969 L211,150.5 A2.5,2.5 0 0 1 208.5,153 L32.5,153 A2.5,2.5 0 0 1 30,150.5 L30,51.5 A2.5,2.5 0 0 1 32.5,49 \" fill=\"none\" style=\"stroke:#000000;stroke-width:1.5;\"/><line style=\"stroke:#000000;stroke-width:1.5;\" x1=\"30\" x2=\"61.875\" y1=\"71.2969\" y2=\"71.2969\"/><text fill=\"#000000\" font-family=\"sans-serif\" font-size=\"14\" font-weight=\"bold\" lengthAdjust=\"spacing\" textLength=\"18.875\" x=\"34\" y=\"63.9951\">P2</text></a></g><!--MD5=[09b614a08d8cba4a07c9adeb5e0fee81]\n",
       "class E3--><a href=\"psysml:7bcd0150-a304-4bd6-beeb-4a591e07f43e\" target=\"_top\" title=\"psysml:7bcd0150-a304-4bd6-beeb-4a591e07f43e\" xlink:actuate=\"onRequest\" xlink:href=\"psysml:7bcd0150-a304-4bd6-beeb-4a591e07f43e\" xlink:show=\"new\" xlink:title=\"psysml:7bcd0150-a304-4bd6-beeb-4a591e07f43e\" xlink:type=\"simple\"><g id=\"elem_E3\"><rect fill=\"#F1F1F1\" height=\"40\" id=\"E3\" rx=\"2.5\" ry=\"2.5\" style=\"stroke:#181818;stroke-width:0.5;\" width=\"41\" x=\"68.5\" y=\"253\"/><ellipse cx=\"83.5\" cy=\"269\" fill=\"#008000\" rx=\"11\" ry=\"11\" style=\"stroke:#181818;stroke-width:1.0;\"/><path d=\"M80.3594,275.5 L80.3594,263.3594 L84.1563,263.3594 Q86.1563,263.3594 87.2031,264.0625 Q88.2656,264.7656 88.2656,266.3438 Q88.2656,267.4375 87.7656,268.1563 Q87.2813,268.875 86.4531,269.0625 L86.4531,269.1406 Q87.375,269.3594 87.9375,270.0313 Q88.5156,270.6875 88.5156,271.9531 Q88.5156,273.6094 87.4688,274.5625 Q86.4219,275.5 84.5625,275.5 L80.3594,275.5 Z M84.1406,268.1406 Q85.0313,268.1406 85.3906,267.8125 Q85.7656,267.4688 85.7656,266.7656 Q85.7656,266.0313 85.375,265.7188 Q84.9844,265.3906 84.0469,265.3906 L82.6563,265.3906 L82.6563,268.1406 L84.1406,268.1406 Z M84.3281,273.4844 Q85.2344,273.4844 85.5938,273.0469 Q85.9531,272.5938 85.9531,271.8125 Q85.9531,271.0313 85.5781,270.6406 Q85.2188,270.2344 84.2344,270.2344 L82.6563,270.2344 L82.6563,273.4844 L84.3281,273.4844 Z \" fill=\"#000000\"/><text fill=\"#000000\" font-family=\"sans-serif\" font-size=\"14\" lengthAdjust=\"spacing\" textLength=\"9\" x=\"97.5\" y=\"273.8467\">A</text><line style=\"stroke:#181818;stroke-width:0.5;\" x1=\"69.5\" x2=\"108.5\" y1=\"285\" y2=\"285\"/></g></a><!--MD5=[60a26617385b1d2d0262a64233df1f8d]\n",
       "class E6--><a href=\"psysml:1e68c641-a483-45d8-8926-6ab40309dfc3\" target=\"_top\" title=\"psysml:1e68c641-a483-45d8-8926-6ab40309dfc3\" xlink:actuate=\"onRequest\" xlink:href=\"psysml:1e68c641-a483-45d8-8926-6ab40309dfc3\" xlink:show=\"new\" xlink:title=\"psysml:1e68c641-a483-45d8-8926-6ab40309dfc3\" xlink:type=\"simple\"><g id=\"elem_E6\"><rect fill=\"#F1F1F1\" height=\"48.2656\" id=\"E6\" rx=\"10\" ry=\"10\" style=\"stroke:#181818;stroke-width:0.5;\" width=\"68\" x=\"46\" y=\"86.5\"/><ellipse cx=\"61\" cy=\"106.6328\" fill=\"#32CD32\" rx=\"11\" ry=\"11\" style=\"stroke:#181818;stroke-width:1.0;\"/><path d=\"M57.8594,113.1328 L57.8594,100.9922 L61.8906,100.9922 Q63.9844,100.9922 65,101.9766 Q66.0156,102.9453 66.0156,104.7734 Q66.0156,105.9766 65.5781,106.8828 Q65.1563,107.7891 64.2031,108.3047 Q63.2656,108.8203 61.7344,108.8203 L60.2344,108.8203 L60.2344,113.1328 L57.8594,113.1328 Z M61.4844,106.7266 Q62.5313,106.7266 63.0469,106.2422 Q63.5781,105.7578 63.5781,104.8672 Q63.5781,103.9766 63.1406,103.5391 Q62.7188,103.0859 61.7969,103.0859 L60.2344,103.0859 L60.2344,106.7266 L61.4844,106.7266 Z \" fill=\"#000000\"/><text fill=\"#000000\" font-family=\"sans-serif\" font-size=\"12\" font-style=\"italic\" lengthAdjust=\"spacing\" textLength=\"40\" x=\"73\" y=\"102.6387\">«part»</text><text fill=\"#000000\" font-family=\"sans-serif\" font-size=\"14\" lengthAdjust=\"spacing\" textLength=\"25\" x=\"76.5\" y=\"118.4639\">x: A</text><line style=\"stroke:#181818;stroke-width:0.5;\" x1=\"47\" x2=\"113\" y1=\"126.7656\" y2=\"126.7656\"/></g></a><a href=\"psysml:70275c95-cc90-4a8f-9ab9-2df7f67b6861\" target=\"_top\" title=\"psysml:70275c95-cc90-4a8f-9ab9-2df7f67b6861\" xlink:actuate=\"onRequest\" xlink:href=\"psysml:70275c95-cc90-4a8f-9ab9-2df7f67b6861\" xlink:show=\"new\" xlink:title=\"psysml:70275c95-cc90-4a8f-9ab9-2df7f67b6861\" xlink:type=\"simple\"><path d=\"M151.5,84 L178.5,84 A3.75,3.75 0 0 1 181,86.5 L188,106.2969 L192.5,106.2969 A2.5,2.5 0 0 1 195,108.7969 L195,134.0938 A2.5,2.5 0 0 1 192.5,136.5938 L151.5,136.5938 A2.5,2.5 0 0 1 149,134.0938 L149,86.5 A2.5,2.5 0 0 1 151.5,84 \" fill=\"#F1F1F1\" style=\"stroke:#181818;stroke-width:0.5;\"/><line style=\"stroke:#181818;stroke-width:0.5;\" x1=\"149\" x2=\"188\" y1=\"106.2969\" y2=\"106.2969\"/><text fill=\"#000000\" font-family=\"sans-serif\" font-size=\"14\" lengthAdjust=\"spacing\" textLength=\"26\" x=\"153\" y=\"98.9951\">P2a</text></a><!--MD5=[15ebcb19ae302d9b601edb458606d402]\n",
       "link E5 to E2--><g id=\"link_E5_E2\"><a href=\"psysml:0b7a29bb-3729-45f6-9ea2-8894bf23e053\" target=\"_top\" title=\"psysml:0b7a29bb-3729-45f6-9ea2-8894bf23e053\" xlink:actuate=\"onRequest\" xlink:href=\"psysml:0b7a29bb-3729-45f6-9ea2-8894bf23e053\" xlink:show=\"new\" xlink:title=\"psysml:0b7a29bb-3729-45f6-9ea2-8894bf23e053\" xlink:type=\"simple\"><path d=\"M167.66,137.29 C163.905,159.62 158.3575,192.6025 153.6913,220.3425 C153.5454,221.2094 153.4005,222.0711 153.2565,222.9273 C153.1844,223.3554 153.1127,223.782 153.0411,224.2072 \" fill=\"none\" id=\"E5-to-E2\" style=\"stroke:#181818;stroke-width:1.0;stroke-dasharray:7.0,7.0;\"/><polygon fill=\"#181818\" points=\"153.0411,224.2072,158.4787,215.9955,153.8706,219.2765,150.5895,214.6684,153.0411,224.2072\" style=\"stroke:#181818;stroke-width:1.0;\"/><text fill=\"#000000\" font-family=\"sans-serif\" font-size=\"13\" lengthAdjust=\"spacing\" textLength=\"65\" x=\"162\" y=\"182.0669\">«import»*</text></a></g><!--MD5=[a717450b82c80b9240a525fa862496af]\n",
       "link E6 to E3--><g id=\"link_E6_E3\"><a href=\"psysml:d6b7e27f-bd18-4212-9fb0-b02d6224d86d\" target=\"_top\" title=\"psysml:d6b7e27f-bd18-4212-9fb0-b02d6224d86d\" xlink:actuate=\"onRequest\" xlink:href=\"psysml:d6b7e27f-bd18-4212-9fb0-b02d6224d86d\" xlink:show=\"new\" xlink:title=\"psysml:d6b7e27f-bd18-4212-9fb0-b02d6224d86d\" xlink:type=\"simple\"><path d=\"M81.31,134.84 C82.74,160.44 85.07,201.98 86.79,232.64 \" fill=\"none\" id=\"E6-to-E3\" style=\"stroke:#181818;stroke-width:1.0;\"/><polygon fill=\"#FFFFFF\" points=\"87.92,252.66,79.8584,234.0855,93.8361,233.2951,87.92,252.66\" style=\"stroke:#181818;stroke-width:1.0;\"/><ellipse cx=\"81.5334\" cy=\"228.2817\" fill=\"#181818\" rx=\"2\" ry=\"2\" style=\"stroke:#181818;stroke-width:1.0;\"/><ellipse cx=\"91.5175\" cy=\"227.7171\" fill=\"#181818\" rx=\"2\" ry=\"2\" style=\"stroke:#181818;stroke-width:1.0;\"/></a></g><!--MD5=[acf34dbedf6cfdafce31914ae23f30e9]\n",
       "@startuml\r\n",
       " \r\n",
       "package \"QualifiedNameImportTest\" as E1  [[psysml:c4b7552d-b9f7-430e-8774-a992809b5587 ]]  {\r\n",
       "package \"P1\" as E2  [[psysml:50965905-a474-4117-8075-2a307b415370 ]]  {\r\n",
       "comp def \"A\" as E3  << << (B,green) >> [[psysml:7bcd0150-a304-4bd6-beeb-4a591e07f43e ]] {\r\n",
       "}\r\n",
       "}\r\n",
       "package \"P2\" as E4  [[psysml:baf5ed1e-c4c1-4a5d-ad5e-204bd26a43d4 ]]  {\r\n",
       "package \"P2a\" as E5  [[psysml:70275c95-cc90-4a8f-9ab9-2df7f67b6861 ]]  {\r\n",
       "}\r\n",
       "comp usage \"x: A  \" as E6  << << (P,limegreen) part>> [[psysml:1e68c641-a483-45d8-8926-6ab40309dfc3 ]] {\r\n",
       "}\r\n",
       "}\r\n",
       "}\r\n",
       "E5 ..> E2 [[psysml:0b7a29bb-3729-45f6-9ea2-8894bf23e053 ]] : <<import>>*\r\n",
       "E6 - -:|> E3 [[psysml:d6b7e27f-bd18-4212-9fb0-b02d6224d86d ]] \r\n",
       "@enduml\r\n",
       "\n",
       "PlantUML version 1.2022.7(Mon Aug 22 17:01:30 UTC 2022)\n",
       "(EPL source distribution)\n",
       "Java Runtime: OpenJDK Runtime Environment\n",
       "JVM: OpenJDK 64-Bit Server VM\n",
       "Default Encoding: UTF-8\n",
       "Language: en\n",
       "Country: null\n",
       "--></g></svg>"
      ]
     },
     "execution_count": 36,
     "metadata": {},
     "output_type": "execute_result"
    }
   ],
   "source": [
    "%viz --style=\"PLANTUML\" --view=\"MIXED\" \"QualifiedNameImportTest\""
   ]
  },
  {
   "cell_type": "code",
   "execution_count": 37,
   "id": "dc0d9016",
   "metadata": {
    "execution": {
     "iopub.execute_input": "2024-12-16T03:25:43.501530Z",
     "iopub.status.busy": "2024-12-16T03:25:43.501337Z",
     "iopub.status.idle": "2024-12-16T03:25:43.515293Z",
     "shell.execute_reply": "2024-12-16T03:25:43.515416Z"
    }
   },
   "outputs": [
    {
     "data": {
      "image/svg+xml": [
       "<?xml version=\"1.0\" encoding=\"UTF-8\" standalone=\"no\"?><svg xmlns=\"http://www.w3.org/2000/svg\" xmlns:xlink=\"http://www.w3.org/1999/xlink\" contentStyleType=\"text/css\" height=\"364px\" preserveAspectRatio=\"none\" style=\"width:239px;height:364px;background:#FFFFFF;\" version=\"1.1\" viewBox=\"0 0 239 364\" width=\"239px\" zoomAndPan=\"magnify\"><defs/><g><!--MD5=[fbc87193dbaf4d95561dea2c320d4a47]\n",
       "cluster E1--><g id=\"cluster_E1\"><a href=\"psysml:c4b7552d-b9f7-430e-8774-a992809b5587\" target=\"_top\" title=\"psysml:c4b7552d-b9f7-430e-8774-a992809b5587\" xlink:actuate=\"onRequest\" xlink:href=\"psysml:c4b7552d-b9f7-430e-8774-a992809b5587\" xlink:show=\"new\" xlink:title=\"psysml:c4b7552d-b9f7-430e-8774-a992809b5587\" xlink:type=\"simple\"><polygon fill=\"none\" points=\"16,6,206.0625,6,213.0625,28.2969,219,28.2969,219,357,16,357,16,6\" style=\"stroke:#000000;stroke-width:1.5;\"/><line style=\"stroke:#000000;stroke-width:1.5;\" x1=\"16\" x2=\"213.0625\" y1=\"28.2969\" y2=\"28.2969\"/><text fill=\"#000000\" font-family=\"sans-serif\" font-size=\"14\" font-weight=\"bold\" lengthAdjust=\"spacing\" textLength=\"184.0625\" x=\"20\" y=\"20.9951\">QualifiedNameImportTest</text></a></g><!--MD5=[e4f7fae6ed58524ba242bb0b0d3be6b7]\n",
       "cluster E2--><g id=\"cluster_E2\"><a href=\"psysml:50965905-a474-4117-8075-2a307b415370\" target=\"_top\" title=\"psysml:50965905-a474-4117-8075-2a307b415370\" xlink:actuate=\"onRequest\" xlink:href=\"psysml:50965905-a474-4117-8075-2a307b415370\" xlink:show=\"new\" xlink:title=\"psysml:50965905-a474-4117-8075-2a307b415370\" xlink:type=\"simple\"><polygon fill=\"none\" points=\"48,210,72.875,210,79.875,232.2969,185,232.2969,185,325,48,325,48,210\" style=\"stroke:#000000;stroke-width:1.5;\"/><line style=\"stroke:#000000;stroke-width:1.5;\" x1=\"48\" x2=\"79.875\" y1=\"232.2969\" y2=\"232.2969\"/><text fill=\"#000000\" font-family=\"sans-serif\" font-size=\"14\" font-weight=\"bold\" lengthAdjust=\"spacing\" textLength=\"18.875\" x=\"52\" y=\"224.9951\">P1</text></a></g><!--MD5=[f6df4d0ebaf0b5dfb2ced0ae5af7c670]\n",
       "cluster E4--><g id=\"cluster_E4\"><a href=\"psysml:baf5ed1e-c4c1-4a5d-ad5e-204bd26a43d4\" target=\"_top\" title=\"psysml:baf5ed1e-c4c1-4a5d-ad5e-204bd26a43d4\" xlink:actuate=\"onRequest\" xlink:href=\"psysml:baf5ed1e-c4c1-4a5d-ad5e-204bd26a43d4\" xlink:show=\"new\" xlink:title=\"psysml:baf5ed1e-c4c1-4a5d-ad5e-204bd26a43d4\" xlink:type=\"simple\"><polygon fill=\"none\" points=\"40,49,64.875,49,71.875,71.2969,195,71.2969,195,153,40,153,40,49\" style=\"stroke:#000000;stroke-width:1.5;\"/><line style=\"stroke:#000000;stroke-width:1.5;\" x1=\"40\" x2=\"71.875\" y1=\"71.2969\" y2=\"71.2969\"/><text fill=\"#000000\" font-family=\"sans-serif\" font-size=\"14\" font-weight=\"bold\" lengthAdjust=\"spacing\" textLength=\"18.875\" x=\"44\" y=\"63.9951\">P2</text></a></g><!--MD5=[09b614a08d8cba4a07c9adeb5e0fee81]\n",
       "class E3--><a href=\"psysml:7bcd0150-a304-4bd6-beeb-4a591e07f43e\" target=\"_top\" title=\"psysml:7bcd0150-a304-4bd6-beeb-4a591e07f43e\" xlink:actuate=\"onRequest\" xlink:href=\"psysml:7bcd0150-a304-4bd6-beeb-4a591e07f43e\" xlink:show=\"new\" xlink:title=\"psysml:7bcd0150-a304-4bd6-beeb-4a591e07f43e\" xlink:type=\"simple\"><g id=\"elem_E3\"><rect fill=\"#FFFFFF\" height=\"48.2656\" id=\"E3\" style=\"stroke:#181818;stroke-width:0.5;\" width=\"70\" x=\"72\" y=\"253\"/><text fill=\"#000000\" font-family=\"sans-serif\" font-size=\"12\" font-style=\"italic\" lengthAdjust=\"spacing\" textLength=\"68\" x=\"73\" y=\"269.1387\">«part  def»</text><text fill=\"#000000\" font-family=\"sans-serif\" font-size=\"14\" lengthAdjust=\"spacing\" textLength=\"9\" x=\"102.5\" y=\"284.9639\">A</text><line style=\"stroke:#181818;stroke-width:0.5;\" x1=\"73\" x2=\"141\" y1=\"293.2656\" y2=\"293.2656\"/></g></a><!--MD5=[60a26617385b1d2d0262a64233df1f8d]\n",
       "class E6--><a href=\"psysml:1e68c641-a483-45d8-8926-6ab40309dfc3\" target=\"_top\" title=\"psysml:1e68c641-a483-45d8-8926-6ab40309dfc3\" xlink:actuate=\"onRequest\" xlink:href=\"psysml:1e68c641-a483-45d8-8926-6ab40309dfc3\" xlink:show=\"new\" xlink:title=\"psysml:1e68c641-a483-45d8-8926-6ab40309dfc3\" xlink:type=\"simple\"><g id=\"elem_E6\"><rect fill=\"#FFFFFF\" height=\"48.2656\" id=\"E6\" rx=\"10\" ry=\"10\" style=\"stroke:#181818;stroke-width:0.5;\" width=\"42\" x=\"56\" y=\"86.5\"/><text fill=\"#000000\" font-family=\"sans-serif\" font-size=\"12\" font-style=\"italic\" lengthAdjust=\"spacing\" textLength=\"40\" x=\"57\" y=\"102.6387\">«part»</text><text fill=\"#000000\" font-family=\"sans-serif\" font-size=\"14\" lengthAdjust=\"spacing\" textLength=\"25\" x=\"60.5\" y=\"118.4639\">x: A</text><line style=\"stroke:#181818;stroke-width:0.5;\" x1=\"57\" x2=\"97\" y1=\"126.7656\" y2=\"126.7656\"/></g></a><a href=\"psysml:70275c95-cc90-4a8f-9ab9-2df7f67b6861\" target=\"_top\" title=\"psysml:70275c95-cc90-4a8f-9ab9-2df7f67b6861\" xlink:actuate=\"onRequest\" xlink:href=\"psysml:70275c95-cc90-4a8f-9ab9-2df7f67b6861\" xlink:show=\"new\" xlink:title=\"psysml:70275c95-cc90-4a8f-9ab9-2df7f67b6861\" xlink:type=\"simple\"><polygon fill=\"#FFFFFF\" points=\"133,84,165,84,172,106.2969,179,106.2969,179,136.5938,133,136.5938,133,84\" style=\"stroke:#181818;stroke-width:0.5;\"/><line style=\"stroke:#181818;stroke-width:0.5;\" x1=\"133\" x2=\"172\" y1=\"106.2969\" y2=\"106.2969\"/><text fill=\"#000000\" font-family=\"sans-serif\" font-size=\"14\" lengthAdjust=\"spacing\" textLength=\"26\" x=\"137\" y=\"98.9951\">P2a</text></a><!--MD5=[15ebcb19ae302d9b601edb458606d402]\n",
       "link E5 to E2--><g id=\"link_E5_E2\"><a href=\"psysml:0b7a29bb-3729-45f6-9ea2-8894bf23e053\" target=\"_top\" title=\"psysml:0b7a29bb-3729-45f6-9ea2-8894bf23e053\" xlink:actuate=\"onRequest\" xlink:href=\"psysml:0b7a29bb-3729-45f6-9ea2-8894bf23e053\" xlink:show=\"new\" xlink:title=\"psysml:0b7a29bb-3729-45f6-9ea2-8894bf23e053\" xlink:type=\"simple\"><path d=\"M159.28,137.2 C160.735,148.5875 162.5469,162.7762 164.4519,177.6978 C165.4044,185.1586 166.3802,192.8026 167.3463,200.3712 C167.5878,202.2634 167.8287,204.1508 168.0685,206.0295 C168.1884,206.9689 168.308,207.906 168.4273,208.8405 C168.4571,209.0741 168.4869,209.3076 168.5167,209.5408 \" fill=\"none\" id=\"E5-to-E2\" style=\"stroke:#181818;stroke-width:1.0;stroke-dasharray:7.0,7.0;\"/><polygon fill=\"#181818\" points=\"168.5167,209.5408,171.345,200.1068,167.8836,204.5811,163.4094,201.1197,168.5167,209.5408\" style=\"stroke:#181818;stroke-width:1.0;\"/><text fill=\"#000000\" font-family=\"sans-serif\" font-size=\"13\" lengthAdjust=\"spacing\" textLength=\"65\" x=\"166\" y=\"182.0669\">«import»*</text></a></g><!--MD5=[a717450b82c80b9240a525fa862496af]\n",
       "link E6 to E3--><g id=\"link_E6_E3\"><a href=\"psysml:d6b7e27f-bd18-4212-9fb0-b02d6224d86d\" target=\"_top\" title=\"psysml:d6b7e27f-bd18-4212-9fb0-b02d6224d86d\" xlink:actuate=\"onRequest\" xlink:href=\"psysml:d6b7e27f-bd18-4212-9fb0-b02d6224d86d\" xlink:show=\"new\" xlink:title=\"psysml:d6b7e27f-bd18-4212-9fb0-b02d6224d86d\" xlink:type=\"simple\"><path d=\"M81.23,134.72 C85.88,160.19 93.44,201.63 99.17,233.06 \" fill=\"none\" id=\"E6-to-E3\" style=\"stroke:#181818;stroke-width:1.0;\"/><polygon fill=\"#FFFFFF\" points=\"102.79,252.9,92.4985,235.462,106.2719,232.9532,102.79,252.9\" style=\"stroke:#181818;stroke-width:1.0;\"/><ellipse cx=\"93.4447\" cy=\"229.4958\" fill=\"#181818\" rx=\"2\" ry=\"2\" style=\"stroke:#181818;stroke-width:1.0;\"/><ellipse cx=\"103.2828\" cy=\"227.7038\" fill=\"#181818\" rx=\"2\" ry=\"2\" style=\"stroke:#181818;stroke-width:1.0;\"/></a></g><!--MD5=[8c6c9c99ae603ebc1a93ea16046c2f34]\n",
       "@startuml\r\n",
       "skin sysmlbw\r\n",
       "skinparam monochrome true\r\n",
       "skinparam wrapWidth 300\r\n",
       "hide circle\r\n",
       "\r\n",
       "package \"QualifiedNameImportTest\" as E1  [[psysml:c4b7552d-b9f7-430e-8774-a992809b5587 ]]  {\r\n",
       "package \"P1\" as E2  [[psysml:50965905-a474-4117-8075-2a307b415370 ]]  {\r\n",
       "comp def \"A\" as E3  <<(T,blue) part  def>> [[psysml:7bcd0150-a304-4bd6-beeb-4a591e07f43e ]] {\r\n",
       "}\r\n",
       "}\r\n",
       "package \"P2\" as E4  [[psysml:baf5ed1e-c4c1-4a5d-ad5e-204bd26a43d4 ]]  {\r\n",
       "package \"P2a\" as E5  [[psysml:70275c95-cc90-4a8f-9ab9-2df7f67b6861 ]]  {\r\n",
       "}\r\n",
       "comp usage \"x: A  \" as E6  <<(T,blue) part>> [[psysml:1e68c641-a483-45d8-8926-6ab40309dfc3 ]] {\r\n",
       "}\r\n",
       "}\r\n",
       "}\r\n",
       "E5 ..> E2 [[psysml:0b7a29bb-3729-45f6-9ea2-8894bf23e053 ]] : <<import>>*\r\n",
       "E6 - -:|> E3 [[psysml:d6b7e27f-bd18-4212-9fb0-b02d6224d86d ]] \r\n",
       "@enduml\r\n",
       "\n",
       "PlantUML version 1.2022.7(Mon Aug 22 17:01:30 UTC 2022)\n",
       "(EPL source distribution)\n",
       "Java Runtime: OpenJDK Runtime Environment\n",
       "JVM: OpenJDK 64-Bit Server VM\n",
       "Default Encoding: UTF-8\n",
       "Language: en\n",
       "Country: null\n",
       "--></g></svg>"
      ]
     },
     "execution_count": 37,
     "metadata": {},
     "output_type": "execute_result"
    }
   ],
   "source": [
    "%viz --style=\"DEFAULT\" --view=\"Default\" \"QualifiedNameImportTest\""
   ]
  },
  {
   "cell_type": "code",
   "execution_count": 38,
   "id": "1822e1ba",
   "metadata": {
    "execution": {
     "iopub.execute_input": "2024-12-16T03:25:43.567466Z",
     "iopub.status.busy": "2024-12-16T03:25:43.567219Z",
     "iopub.status.idle": "2024-12-16T03:25:43.583773Z",
     "shell.execute_reply": "2024-12-16T03:25:43.583024Z"
    }
   },
   "outputs": [
    {
     "data": {
      "image/svg+xml": [
       "<?xml version=\"1.0\" encoding=\"UTF-8\" standalone=\"no\"?><svg xmlns=\"http://www.w3.org/2000/svg\" xmlns:xlink=\"http://www.w3.org/1999/xlink\" contentStyleType=\"text/css\" height=\"364px\" preserveAspectRatio=\"none\" style=\"width:239px;height:364px;background:#FFFFFF;\" version=\"1.1\" viewBox=\"0 0 239 364\" width=\"239px\" zoomAndPan=\"magnify\"><defs/><g><!--MD5=[fbc87193dbaf4d95561dea2c320d4a47]\n",
       "cluster E1--><g id=\"cluster_E1\"><a href=\"psysml:c4b7552d-b9f7-430e-8774-a992809b5587\" target=\"_top\" title=\"psysml:c4b7552d-b9f7-430e-8774-a992809b5587\" xlink:actuate=\"onRequest\" xlink:href=\"psysml:c4b7552d-b9f7-430e-8774-a992809b5587\" xlink:show=\"new\" xlink:title=\"psysml:c4b7552d-b9f7-430e-8774-a992809b5587\" xlink:type=\"simple\"><polygon fill=\"none\" points=\"16,6,206.0625,6,213.0625,28.2969,219,28.2969,219,357,16,357,16,6\" style=\"stroke:#000000;stroke-width:1.5;\"/><line style=\"stroke:#000000;stroke-width:1.5;\" x1=\"16\" x2=\"213.0625\" y1=\"28.2969\" y2=\"28.2969\"/><text fill=\"#000000\" font-family=\"sans-serif\" font-size=\"14\" font-weight=\"bold\" lengthAdjust=\"spacing\" textLength=\"184.0625\" x=\"20\" y=\"20.9951\">QualifiedNameImportTest</text></a></g><!--MD5=[e4f7fae6ed58524ba242bb0b0d3be6b7]\n",
       "cluster E2--><g id=\"cluster_E2\"><a href=\"psysml:50965905-a474-4117-8075-2a307b415370\" target=\"_top\" title=\"psysml:50965905-a474-4117-8075-2a307b415370\" xlink:actuate=\"onRequest\" xlink:href=\"psysml:50965905-a474-4117-8075-2a307b415370\" xlink:show=\"new\" xlink:title=\"psysml:50965905-a474-4117-8075-2a307b415370\" xlink:type=\"simple\"><polygon fill=\"none\" points=\"48,210,72.875,210,79.875,232.2969,185,232.2969,185,325,48,325,48,210\" style=\"stroke:#000000;stroke-width:1.5;\"/><line style=\"stroke:#000000;stroke-width:1.5;\" x1=\"48\" x2=\"79.875\" y1=\"232.2969\" y2=\"232.2969\"/><text fill=\"#000000\" font-family=\"sans-serif\" font-size=\"14\" font-weight=\"bold\" lengthAdjust=\"spacing\" textLength=\"18.875\" x=\"52\" y=\"224.9951\">P1</text></a></g><!--MD5=[f6df4d0ebaf0b5dfb2ced0ae5af7c670]\n",
       "cluster E4--><g id=\"cluster_E4\"><a href=\"psysml:baf5ed1e-c4c1-4a5d-ad5e-204bd26a43d4\" target=\"_top\" title=\"psysml:baf5ed1e-c4c1-4a5d-ad5e-204bd26a43d4\" xlink:actuate=\"onRequest\" xlink:href=\"psysml:baf5ed1e-c4c1-4a5d-ad5e-204bd26a43d4\" xlink:show=\"new\" xlink:title=\"psysml:baf5ed1e-c4c1-4a5d-ad5e-204bd26a43d4\" xlink:type=\"simple\"><polygon fill=\"none\" points=\"40,49,64.875,49,71.875,71.2969,195,71.2969,195,153,40,153,40,49\" style=\"stroke:#000000;stroke-width:1.5;\"/><line style=\"stroke:#000000;stroke-width:1.5;\" x1=\"40\" x2=\"71.875\" y1=\"71.2969\" y2=\"71.2969\"/><text fill=\"#000000\" font-family=\"sans-serif\" font-size=\"14\" font-weight=\"bold\" lengthAdjust=\"spacing\" textLength=\"18.875\" x=\"44\" y=\"63.9951\">P2</text></a></g><!--MD5=[09b614a08d8cba4a07c9adeb5e0fee81]\n",
       "class E3--><a href=\"psysml:7bcd0150-a304-4bd6-beeb-4a591e07f43e\" target=\"_top\" title=\"psysml:7bcd0150-a304-4bd6-beeb-4a591e07f43e\" xlink:actuate=\"onRequest\" xlink:href=\"psysml:7bcd0150-a304-4bd6-beeb-4a591e07f43e\" xlink:show=\"new\" xlink:title=\"psysml:7bcd0150-a304-4bd6-beeb-4a591e07f43e\" xlink:type=\"simple\"><g id=\"elem_E3\"><rect fill=\"#FFFFFF\" height=\"48.2656\" id=\"E3\" style=\"stroke:#181818;stroke-width:0.5;\" width=\"70\" x=\"72\" y=\"253\"/><text fill=\"#000000\" font-family=\"sans-serif\" font-size=\"12\" font-style=\"italic\" lengthAdjust=\"spacing\" textLength=\"68\" x=\"73\" y=\"269.1387\">«part  def»</text><text fill=\"#000000\" font-family=\"sans-serif\" font-size=\"14\" lengthAdjust=\"spacing\" textLength=\"9\" x=\"102.5\" y=\"284.9639\">A</text><line style=\"stroke:#181818;stroke-width:0.5;\" x1=\"73\" x2=\"141\" y1=\"293.2656\" y2=\"293.2656\"/></g></a><!--MD5=[60a26617385b1d2d0262a64233df1f8d]\n",
       "class E6--><a href=\"psysml:1e68c641-a483-45d8-8926-6ab40309dfc3\" target=\"_top\" title=\"psysml:1e68c641-a483-45d8-8926-6ab40309dfc3\" xlink:actuate=\"onRequest\" xlink:href=\"psysml:1e68c641-a483-45d8-8926-6ab40309dfc3\" xlink:show=\"new\" xlink:title=\"psysml:1e68c641-a483-45d8-8926-6ab40309dfc3\" xlink:type=\"simple\"><g id=\"elem_E6\"><rect fill=\"#FFFFFF\" height=\"48.2656\" id=\"E6\" rx=\"10\" ry=\"10\" style=\"stroke:#181818;stroke-width:0.5;\" width=\"42\" x=\"56\" y=\"86.5\"/><text fill=\"#000000\" font-family=\"sans-serif\" font-size=\"12\" font-style=\"italic\" lengthAdjust=\"spacing\" textLength=\"40\" x=\"57\" y=\"102.6387\">«part»</text><text fill=\"#000000\" font-family=\"sans-serif\" font-size=\"14\" lengthAdjust=\"spacing\" textLength=\"25\" x=\"60.5\" y=\"118.4639\">x: A</text><line style=\"stroke:#181818;stroke-width:0.5;\" x1=\"57\" x2=\"97\" y1=\"126.7656\" y2=\"126.7656\"/></g></a><a href=\"psysml:70275c95-cc90-4a8f-9ab9-2df7f67b6861\" target=\"_top\" title=\"psysml:70275c95-cc90-4a8f-9ab9-2df7f67b6861\" xlink:actuate=\"onRequest\" xlink:href=\"psysml:70275c95-cc90-4a8f-9ab9-2df7f67b6861\" xlink:show=\"new\" xlink:title=\"psysml:70275c95-cc90-4a8f-9ab9-2df7f67b6861\" xlink:type=\"simple\"><polygon fill=\"#FFFFFF\" points=\"133,84,165,84,172,106.2969,179,106.2969,179,136.5938,133,136.5938,133,84\" style=\"stroke:#181818;stroke-width:0.5;\"/><line style=\"stroke:#181818;stroke-width:0.5;\" x1=\"133\" x2=\"172\" y1=\"106.2969\" y2=\"106.2969\"/><text fill=\"#000000\" font-family=\"sans-serif\" font-size=\"14\" lengthAdjust=\"spacing\" textLength=\"26\" x=\"137\" y=\"98.9951\">P2a</text></a><!--MD5=[15ebcb19ae302d9b601edb458606d402]\n",
       "link E5 to E2--><g id=\"link_E5_E2\"><a href=\"psysml:0b7a29bb-3729-45f6-9ea2-8894bf23e053\" target=\"_top\" title=\"psysml:0b7a29bb-3729-45f6-9ea2-8894bf23e053\" xlink:actuate=\"onRequest\" xlink:href=\"psysml:0b7a29bb-3729-45f6-9ea2-8894bf23e053\" xlink:show=\"new\" xlink:title=\"psysml:0b7a29bb-3729-45f6-9ea2-8894bf23e053\" xlink:type=\"simple\"><path d=\"M159.28,137.2 C160.735,148.5875 162.5469,162.7762 164.4519,177.6978 C165.4044,185.1586 166.3802,192.8026 167.3463,200.3712 C167.5878,202.2634 167.8287,204.1508 168.0685,206.0295 C168.1884,206.9689 168.308,207.906 168.4273,208.8405 C168.4571,209.0741 168.4869,209.3076 168.5167,209.5408 \" fill=\"none\" id=\"E5-to-E2\" style=\"stroke:#181818;stroke-width:1.0;stroke-dasharray:7.0,7.0;\"/><polygon fill=\"#181818\" points=\"168.5167,209.5408,171.345,200.1068,167.8836,204.5811,163.4094,201.1197,168.5167,209.5408\" style=\"stroke:#181818;stroke-width:1.0;\"/><text fill=\"#000000\" font-family=\"sans-serif\" font-size=\"13\" lengthAdjust=\"spacing\" textLength=\"65\" x=\"166\" y=\"182.0669\">«import»*</text></a></g><!--MD5=[a717450b82c80b9240a525fa862496af]\n",
       "link E6 to E3--><g id=\"link_E6_E3\"><a href=\"psysml:d6b7e27f-bd18-4212-9fb0-b02d6224d86d\" target=\"_top\" title=\"psysml:d6b7e27f-bd18-4212-9fb0-b02d6224d86d\" xlink:actuate=\"onRequest\" xlink:href=\"psysml:d6b7e27f-bd18-4212-9fb0-b02d6224d86d\" xlink:show=\"new\" xlink:title=\"psysml:d6b7e27f-bd18-4212-9fb0-b02d6224d86d\" xlink:type=\"simple\"><path d=\"M81.23,134.72 C85.88,160.19 93.44,201.63 99.17,233.06 \" fill=\"none\" id=\"E6-to-E3\" style=\"stroke:#181818;stroke-width:1.0;\"/><polygon fill=\"#FFFFFF\" points=\"102.79,252.9,92.4985,235.462,106.2719,232.9532,102.79,252.9\" style=\"stroke:#181818;stroke-width:1.0;\"/><ellipse cx=\"93.4447\" cy=\"229.4958\" fill=\"#181818\" rx=\"2\" ry=\"2\" style=\"stroke:#181818;stroke-width:1.0;\"/><ellipse cx=\"103.2828\" cy=\"227.7038\" fill=\"#181818\" rx=\"2\" ry=\"2\" style=\"stroke:#181818;stroke-width:1.0;\"/></a></g><!--MD5=[8c6c9c99ae603ebc1a93ea16046c2f34]\n",
       "@startuml\r\n",
       "skin sysmlbw\r\n",
       "skinparam monochrome true\r\n",
       "skinparam wrapWidth 300\r\n",
       "hide circle\r\n",
       "\r\n",
       "package \"QualifiedNameImportTest\" as E1  [[psysml:c4b7552d-b9f7-430e-8774-a992809b5587 ]]  {\r\n",
       "package \"P1\" as E2  [[psysml:50965905-a474-4117-8075-2a307b415370 ]]  {\r\n",
       "comp def \"A\" as E3  <<(T,blue) part  def>> [[psysml:7bcd0150-a304-4bd6-beeb-4a591e07f43e ]] {\r\n",
       "}\r\n",
       "}\r\n",
       "package \"P2\" as E4  [[psysml:baf5ed1e-c4c1-4a5d-ad5e-204bd26a43d4 ]]  {\r\n",
       "package \"P2a\" as E5  [[psysml:70275c95-cc90-4a8f-9ab9-2df7f67b6861 ]]  {\r\n",
       "}\r\n",
       "comp usage \"x: A  \" as E6  <<(T,blue) part>> [[psysml:1e68c641-a483-45d8-8926-6ab40309dfc3 ]] {\r\n",
       "}\r\n",
       "}\r\n",
       "}\r\n",
       "E5 ..> E2 [[psysml:0b7a29bb-3729-45f6-9ea2-8894bf23e053 ]] : <<import>>*\r\n",
       "E6 - -:|> E3 [[psysml:d6b7e27f-bd18-4212-9fb0-b02d6224d86d ]] \r\n",
       "@enduml\r\n",
       "\n",
       "PlantUML version 1.2022.7(Mon Aug 22 17:01:30 UTC 2022)\n",
       "(EPL source distribution)\n",
       "Java Runtime: OpenJDK Runtime Environment\n",
       "JVM: OpenJDK 64-Bit Server VM\n",
       "Default Encoding: UTF-8\n",
       "Language: en\n",
       "Country: null\n",
       "--></g></svg>"
      ]
     },
     "execution_count": 38,
     "metadata": {},
     "output_type": "execute_result"
    }
   ],
   "source": [
    "%viz --style=\"DEFAULT\" --view=\"Tree\" \"QualifiedNameImportTest\""
   ]
  },
  {
   "cell_type": "code",
   "execution_count": 39,
   "id": "b5336680",
   "metadata": {
    "execution": {
     "iopub.execute_input": "2024-12-16T03:25:43.639243Z",
     "iopub.status.busy": "2024-12-16T03:25:43.639015Z",
     "iopub.status.idle": "2024-12-16T03:25:43.642492Z",
     "shell.execute_reply": "2024-12-16T03:25:43.642315Z"
    }
   },
   "outputs": [
    {
     "data": {
      "image/svg+xml": [
       "<?xml version=\"1.0\" encoding=\"UTF-8\" standalone=\"no\"?><svg xmlns=\"http://www.w3.org/2000/svg\" xmlns:xlink=\"http://www.w3.org/1999/xlink\" contentStyleType=\"text/css\" height=\"10px\" preserveAspectRatio=\"none\" style=\"width:10px;height:10px;background:#FFFFFF;\" version=\"1.1\" viewBox=\"0 0 10 10\" width=\"10px\" zoomAndPan=\"magnify\"><defs/><g><!--MD5=[ac12e6954f3af68464267ee74ddf8a9f]\n",
       "@startuml\r\n",
       "skin sysmlbw\r\n",
       "skinparam monochrome true\r\n",
       "skinparam wrapWidth 300\r\n",
       "hide circle\r\n",
       "\r\n",
       "@enduml\r\n",
       "\n",
       "PlantUML version 1.2022.7(Mon Aug 22 17:01:30 UTC 2022)\n",
       "(EPL source distribution)\n",
       "Java Runtime: OpenJDK Runtime Environment\n",
       "JVM: OpenJDK 64-Bit Server VM\n",
       "Default Encoding: UTF-8\n",
       "Language: en\n",
       "Country: null\n",
       "--></g></svg>"
      ]
     },
     "execution_count": 39,
     "metadata": {},
     "output_type": "execute_result"
    }
   ],
   "source": [
    "%viz --style=\"DEFAULT\" --view=\"State\" \"QualifiedNameImportTest\""
   ]
  },
  {
   "cell_type": "code",
   "execution_count": 40,
   "id": "7c4a74b8",
   "metadata": {
    "execution": {
     "iopub.execute_input": "2024-12-16T03:25:43.695256Z",
     "iopub.status.busy": "2024-12-16T03:25:43.695040Z",
     "iopub.status.idle": "2024-12-16T03:25:43.710698Z",
     "shell.execute_reply": "2024-12-16T03:25:43.709955Z"
    }
   },
   "outputs": [
    {
     "data": {
      "image/svg+xml": [
       "<?xml version=\"1.0\" encoding=\"UTF-8\" standalone=\"no\"?><svg xmlns=\"http://www.w3.org/2000/svg\" xmlns:xlink=\"http://www.w3.org/1999/xlink\" contentStyleType=\"text/css\" height=\"361px\" preserveAspectRatio=\"none\" style=\"width:244px;height:361px;background:#FFFFFF;\" version=\"1.1\" viewBox=\"0 0 244 361\" width=\"244px\" zoomAndPan=\"magnify\"><defs/><g><!--MD5=[fbc87193dbaf4d95561dea2c320d4a47]\n",
       "cluster E1--><g id=\"cluster_E1\"><a href=\"psysml:c4b7552d-b9f7-430e-8774-a992809b5587\" target=\"_top\" title=\"psysml:c4b7552d-b9f7-430e-8774-a992809b5587\" xlink:actuate=\"onRequest\" xlink:href=\"psysml:c4b7552d-b9f7-430e-8774-a992809b5587\" xlink:show=\"new\" xlink:title=\"psysml:c4b7552d-b9f7-430e-8774-a992809b5587\" xlink:type=\"simple\"><polygon fill=\"none\" points=\"16,6,206.0625,6,213.0625,28.2969,227,28.2969,227,354,16,354,16,6\" style=\"stroke:#000000;stroke-width:1.5;\"/><line style=\"stroke:#000000;stroke-width:1.5;\" x1=\"16\" x2=\"213.0625\" y1=\"28.2969\" y2=\"28.2969\"/><text fill=\"#000000\" font-family=\"sans-serif\" font-size=\"14\" font-weight=\"bold\" lengthAdjust=\"spacing\" textLength=\"184.0625\" x=\"20\" y=\"20.9951\">QualifiedNameImportTest</text></a></g><!--MD5=[e4f7fae6ed58524ba242bb0b0d3be6b7]\n",
       "cluster E2--><g id=\"cluster_E2\"><a href=\"psysml:50965905-a474-4117-8075-2a307b415370\" target=\"_top\" title=\"psysml:50965905-a474-4117-8075-2a307b415370\" xlink:actuate=\"onRequest\" xlink:href=\"psysml:50965905-a474-4117-8075-2a307b415370\" xlink:show=\"new\" xlink:title=\"psysml:50965905-a474-4117-8075-2a307b415370\" xlink:type=\"simple\"><polygon fill=\"none\" points=\"53,210,77.875,210,84.875,232.2969,195,232.2969,195,322,53,322,53,210\" style=\"stroke:#000000;stroke-width:1.5;\"/><line style=\"stroke:#000000;stroke-width:1.5;\" x1=\"53\" x2=\"84.875\" y1=\"232.2969\" y2=\"232.2969\"/><text fill=\"#000000\" font-family=\"sans-serif\" font-size=\"14\" font-weight=\"bold\" lengthAdjust=\"spacing\" textLength=\"18.875\" x=\"57\" y=\"224.9951\">P1</text></a></g><!--MD5=[f6df4d0ebaf0b5dfb2ced0ae5af7c670]\n",
       "cluster E4--><g id=\"cluster_E4\"><a href=\"psysml:baf5ed1e-c4c1-4a5d-ad5e-204bd26a43d4\" target=\"_top\" title=\"psysml:baf5ed1e-c4c1-4a5d-ad5e-204bd26a43d4\" xlink:actuate=\"onRequest\" xlink:href=\"psysml:baf5ed1e-c4c1-4a5d-ad5e-204bd26a43d4\" xlink:show=\"new\" xlink:title=\"psysml:baf5ed1e-c4c1-4a5d-ad5e-204bd26a43d4\" xlink:type=\"simple\"><polygon fill=\"none\" points=\"40,49,64.875,49,71.875,71.2969,203,71.2969,203,153,40,153,40,49\" style=\"stroke:#000000;stroke-width:1.5;\"/><line style=\"stroke:#000000;stroke-width:1.5;\" x1=\"40\" x2=\"71.875\" y1=\"71.2969\" y2=\"71.2969\"/><text fill=\"#000000\" font-family=\"sans-serif\" font-size=\"14\" font-weight=\"bold\" lengthAdjust=\"spacing\" textLength=\"18.875\" x=\"44\" y=\"63.9951\">P2</text></a></g><g><a href=\"psysml:7bcd0150-a304-4bd6-beeb-4a591e07f43e\" target=\"_top\" title=\"psysml:7bcd0150-a304-4bd6-beeb-4a591e07f43e\" xlink:actuate=\"onRequest\" xlink:href=\"psysml:7bcd0150-a304-4bd6-beeb-4a591e07f43e\" xlink:show=\"new\" xlink:title=\"psysml:7bcd0150-a304-4bd6-beeb-4a591e07f43e\" xlink:type=\"simple\"><rect fill=\"#FFFFFF\" height=\"45.2656\" id=\"E3\" style=\"stroke:#383838;stroke-width:1.5;\" width=\"75\" x=\"96.5\" y=\"253\"/><text fill=\"#000000\" font-family=\"sans-serif\" font-size=\"12\" font-style=\"italic\" lengthAdjust=\"spacing\" textLength=\"68\" x=\"100\" y=\"269.1387\">«part  def»</text><text fill=\"#000000\" font-family=\"sans-serif\" font-size=\"14\" lengthAdjust=\"spacing\" textLength=\"9\" x=\"129.5\" y=\"284.9639\">A</text></a></g><a href=\"psysml:70275c95-cc90-4a8f-9ab9-2df7f67b6861\" target=\"_top\" title=\"psysml:70275c95-cc90-4a8f-9ab9-2df7f67b6861\" xlink:actuate=\"onRequest\" xlink:href=\"psysml:70275c95-cc90-4a8f-9ab9-2df7f67b6861\" xlink:show=\"new\" xlink:title=\"psysml:70275c95-cc90-4a8f-9ab9-2df7f67b6861\" xlink:type=\"simple\"><polygon fill=\"#FFFFFF\" points=\"56,84,88,84,95,106.2969,102,106.2969,102,136.5938,56,136.5938,56,84\" style=\"stroke:#181818;stroke-width:0.5;\"/><line style=\"stroke:#181818;stroke-width:0.5;\" x1=\"56\" x2=\"95\" y1=\"106.2969\" y2=\"106.2969\"/><text fill=\"#000000\" font-family=\"sans-serif\" font-size=\"14\" lengthAdjust=\"spacing\" textLength=\"26\" x=\"60\" y=\"98.9951\">P2a</text></a><g><a href=\"psysml:1e68c641-a483-45d8-8926-6ab40309dfc3\" target=\"_top\" title=\"psysml:1e68c641-a483-45d8-8926-6ab40309dfc3\" xlink:actuate=\"onRequest\" xlink:href=\"psysml:1e68c641-a483-45d8-8926-6ab40309dfc3\" xlink:show=\"new\" xlink:title=\"psysml:1e68c641-a483-45d8-8926-6ab40309dfc3\" xlink:type=\"simple\"><rect fill=\"#FFFFFF\" height=\"40\" id=\"E6\" rx=\"10\" ry=\"10\" style=\"stroke:#383838;stroke-width:1.5;\" width=\"50\" x=\"137\" y=\"90.5\"/><text fill=\"#000000\" font-family=\"sans-serif\" font-size=\"14\" lengthAdjust=\"spacing\" textLength=\"25\" x=\"149.5\" y=\"108.4951\">x: A</text></a></g><!--MD5=[15ebcb19ae302d9b601edb458606d402]\n",
       "link E5 to E2--><g id=\"link_E5_E2\"><a href=\"psysml:0b7a29bb-3729-45f6-9ea2-8894bf23e053\" target=\"_top\" title=\"psysml:0b7a29bb-3729-45f6-9ea2-8894bf23e053\" xlink:actuate=\"onRequest\" xlink:href=\"psysml:0b7a29bb-3729-45f6-9ea2-8894bf23e053\" xlink:show=\"new\" xlink:title=\"psysml:0b7a29bb-3729-45f6-9ea2-8894bf23e053\" xlink:type=\"simple\"><path d=\"M76.15,137.33 C74.9,148.64 73.3475,162.6906 71.7172,177.448 C70.902,184.8266 70.0674,192.382 69.2414,199.8598 C69.035,201.7292 68.829,203.5938 68.624,205.4496 C68.5215,206.3775 68.4193,207.3032 68.3173,208.2262 C68.2664,208.6877 68.2155,209.1485 68.1647,209.6086 \" fill=\"none\" id=\"E5-to-E2\" style=\"stroke:#181818;stroke-width:1.0;stroke-dasharray:7.0,7.0;\"/><polygon fill=\"#181818\" points=\"68.1647,209.6086,73.1285,201.1021,68.7136,204.6388,65.1769,200.2238,68.1647,209.6086\" style=\"stroke:#181818;stroke-width:1.0;\"/><text fill=\"#000000\" font-family=\"sans-serif\" font-size=\"13\" lengthAdjust=\"spacing\" textLength=\"65\" x=\"73\" y=\"182.0669\">«import»*</text></a></g><!--MD5=[a717450b82c80b9240a525fa862496af]\n",
       "link E6 to E3--><g id=\"link_E6_E3\"><a href=\"psysml:d6b7e27f-bd18-4212-9fb0-b02d6224d86d\" target=\"_top\" title=\"psysml:d6b7e27f-bd18-4212-9fb0-b02d6224d86d\" xlink:actuate=\"onRequest\" xlink:href=\"psysml:d6b7e27f-bd18-4212-9fb0-b02d6224d86d\" xlink:show=\"new\" xlink:title=\"psysml:d6b7e27f-bd18-4212-9fb0-b02d6224d86d\" xlink:type=\"simple\"><path d=\"M158.73,130.52 C154.46,155.41 146.85,199.72 141.19,232.64 \" fill=\"none\" id=\"E6-to-E3\" style=\"stroke:#181818;stroke-width:1.0;\"/><polygon fill=\"#FFFFFF\" points=\"137.73,252.76,134.047,232.8493,147.845,235.219,137.73,252.76\" style=\"stroke:#181818;stroke-width:1.0;\"/><ellipse cx=\"136.9829\" cy=\"227.5701\" fill=\"#181818\" rx=\"2\" ry=\"2\" style=\"stroke:#181818;stroke-width:1.0;\"/><ellipse cx=\"146.8386\" cy=\"229.2627\" fill=\"#181818\" rx=\"2\" ry=\"2\" style=\"stroke:#181818;stroke-width:1.0;\"/></a></g><!--MD5=[b15ee2601574271711fabb18e6d26725]\n",
       "@startuml\r\n",
       "skin sysmlbw\r\n",
       "skinparam monochrome true\r\n",
       "skinparam wrapWidth 300\r\n",
       "hide circle\r\n",
       "skinparam ranksep 10\r\n",
       "skinparam rectangle {\r\n",
       " backgroundColor<<block>> LightGreen\r\n",
       "}\r\n",
       "\r\n",
       "package \"QualifiedNameImportTest\" as E1  [[psysml:c4b7552d-b9f7-430e-8774-a992809b5587 ]]  {\r\n",
       "package \"P1\" as E2  [[psysml:50965905-a474-4117-8075-2a307b415370 ]]  {\r\n",
       "rec def \"A\" as E3  <<(T,blue) part  def>> [[psysml:7bcd0150-a304-4bd6-beeb-4a591e07f43e ]] {\r\n",
       "}\r\n",
       "}\r\n",
       "package \"P2\" as E4  [[psysml:baf5ed1e-c4c1-4a5d-ad5e-204bd26a43d4 ]]  {\r\n",
       "package \"P2a\" as E5  [[psysml:70275c95-cc90-4a8f-9ab9-2df7f67b6861 ]]  {\r\n",
       "}\r\n",
       "rec usage \"x: A\" as E6 [[psysml:1e68c641-a483-45d8-8926-6ab40309dfc3 ]] {\r\n",
       "}\r\n",
       "}\r\n",
       "}\r\n",
       "E5 ..> E2 [[psysml:0b7a29bb-3729-45f6-9ea2-8894bf23e053 ]] : <<import>>*\r\n",
       "E6 - -:|> E3 [[psysml:d6b7e27f-bd18-4212-9fb0-b02d6224d86d ]] \r\n",
       "@enduml\r\n",
       "\n",
       "PlantUML version 1.2022.7(Mon Aug 22 17:01:30 UTC 2022)\n",
       "(EPL source distribution)\n",
       "Java Runtime: OpenJDK Runtime Environment\n",
       "JVM: OpenJDK 64-Bit Server VM\n",
       "Default Encoding: UTF-8\n",
       "Language: en\n",
       "Country: null\n",
       "--></g></svg>"
      ]
     },
     "execution_count": 40,
     "metadata": {},
     "output_type": "execute_result"
    }
   ],
   "source": [
    "%viz --style=\"DEFAULT\" --view=\"Interconnection\" \"QualifiedNameImportTest\""
   ]
  },
  {
   "cell_type": "code",
   "execution_count": 41,
   "id": "ee8d9195",
   "metadata": {
    "execution": {
     "iopub.execute_input": "2024-12-16T03:25:43.762790Z",
     "iopub.status.busy": "2024-12-16T03:25:43.762557Z",
     "iopub.status.idle": "2024-12-16T03:25:43.766802Z",
     "shell.execute_reply": "2024-12-16T03:25:43.766938Z"
    }
   },
   "outputs": [
    {
     "data": {
      "image/svg+xml": [
       "<?xml version=\"1.0\" encoding=\"UTF-8\" standalone=\"no\"?><svg xmlns=\"http://www.w3.org/2000/svg\" xmlns:xlink=\"http://www.w3.org/1999/xlink\" contentStyleType=\"text/css\" height=\"10px\" preserveAspectRatio=\"none\" style=\"width:10px;height:10px;background:#FFFFFF;\" version=\"1.1\" viewBox=\"0 0 10 10\" width=\"10px\" zoomAndPan=\"magnify\"><defs/><g><!--MD5=[3d9597b1575ffc4802b0d6ba40297a8d]\n",
       "@startuml\r\n",
       "skin sysmlbw\r\n",
       "skinparam monochrome true\r\n",
       "skinparam wrapWidth 300\r\n",
       "hide circle\r\n",
       "skinparam ranksep 8\r\n",
       "\r\n",
       "@enduml\r\n",
       "\n",
       "PlantUML version 1.2022.7(Mon Aug 22 17:01:30 UTC 2022)\n",
       "(EPL source distribution)\n",
       "Java Runtime: OpenJDK Runtime Environment\n",
       "JVM: OpenJDK 64-Bit Server VM\n",
       "Default Encoding: UTF-8\n",
       "Language: en\n",
       "Country: null\n",
       "--></g></svg>"
      ]
     },
     "execution_count": 41,
     "metadata": {},
     "output_type": "execute_result"
    }
   ],
   "source": [
    "%viz --style=\"DEFAULT\" --view=\"Action\" \"QualifiedNameImportTest\""
   ]
  },
  {
   "cell_type": "code",
   "execution_count": 42,
   "id": "1632b9f9",
   "metadata": {
    "execution": {
     "iopub.execute_input": "2024-12-16T03:25:43.819069Z",
     "iopub.status.busy": "2024-12-16T03:25:43.818824Z",
     "iopub.status.idle": "2024-12-16T03:25:43.823535Z",
     "shell.execute_reply": "2024-12-16T03:25:43.823361Z"
    }
   },
   "outputs": [
    {
     "data": {
      "image/svg+xml": [
       "<?xml version=\"1.0\" encoding=\"UTF-8\" standalone=\"no\"?><svg xmlns=\"http://www.w3.org/2000/svg\" xmlns:xlink=\"http://www.w3.org/1999/xlink\" contentStyleType=\"text/css\" height=\"10px\" preserveAspectRatio=\"none\" style=\"width:10px;height:10px;background:#FFFFFF;\" version=\"1.1\" viewBox=\"0 0 10 10\" width=\"10px\" zoomAndPan=\"magnify\"><defs/><g><!--MD5=[075159388321915a295a256e9638f934]\n",
       "@startuml\r\n",
       "skin sysmlbw\r\n",
       "skinparam monochrome true\r\n",
       "skinparam wrapWidth 300\r\n",
       "hide circle\r\n",
       "skinparam roundcorner 20\r\n",
       "skinparam BoxPadding 20\r\n",
       "skinparam SequenceBoxBackgroundColor #white\r\n",
       "skinparam style strictuml\r\n",
       "skinparam maxMessageSize 100\r\n",
       "\r\n",
       "@enduml\r\n",
       "\n",
       "PlantUML version 1.2022.7(Mon Aug 22 17:01:30 UTC 2022)\n",
       "(EPL source distribution)\n",
       "Java Runtime: OpenJDK Runtime Environment\n",
       "JVM: OpenJDK 64-Bit Server VM\n",
       "Default Encoding: UTF-8\n",
       "Language: en\n",
       "Country: null\n",
       "--></g></svg>"
      ]
     },
     "execution_count": 42,
     "metadata": {},
     "output_type": "execute_result"
    }
   ],
   "source": [
    "%viz --style=\"DEFAULT\" --view=\"Sequence\" \"QualifiedNameImportTest\""
   ]
  },
  {
   "cell_type": "code",
   "execution_count": 43,
   "id": "0541412d",
   "metadata": {
    "execution": {
     "iopub.execute_input": "2024-12-16T03:25:43.876866Z",
     "iopub.status.busy": "2024-12-16T03:25:43.876574Z",
     "iopub.status.idle": "2024-12-16T03:25:43.895181Z",
     "shell.execute_reply": "2024-12-16T03:25:43.894295Z"
    }
   },
   "outputs": [
    {
     "data": {
      "image/svg+xml": [
       "<?xml version=\"1.0\" encoding=\"UTF-8\" standalone=\"no\"?><svg xmlns=\"http://www.w3.org/2000/svg\" xmlns:xlink=\"http://www.w3.org/1999/xlink\" contentStyleType=\"text/css\" height=\"364px\" preserveAspectRatio=\"none\" style=\"width:239px;height:364px;background:#FFFFFF;\" version=\"1.1\" viewBox=\"0 0 239 364\" width=\"239px\" zoomAndPan=\"magnify\"><defs/><g><!--MD5=[fbc87193dbaf4d95561dea2c320d4a47]\n",
       "cluster E1--><g id=\"cluster_E1\"><a href=\"psysml:c4b7552d-b9f7-430e-8774-a992809b5587\" target=\"_top\" title=\"psysml:c4b7552d-b9f7-430e-8774-a992809b5587\" xlink:actuate=\"onRequest\" xlink:href=\"psysml:c4b7552d-b9f7-430e-8774-a992809b5587\" xlink:show=\"new\" xlink:title=\"psysml:c4b7552d-b9f7-430e-8774-a992809b5587\" xlink:type=\"simple\"><polygon fill=\"none\" points=\"16,6,206.0625,6,213.0625,28.2969,219,28.2969,219,357,16,357,16,6\" style=\"stroke:#000000;stroke-width:1.5;\"/><line style=\"stroke:#000000;stroke-width:1.5;\" x1=\"16\" x2=\"213.0625\" y1=\"28.2969\" y2=\"28.2969\"/><text fill=\"#000000\" font-family=\"sans-serif\" font-size=\"14\" font-weight=\"bold\" lengthAdjust=\"spacing\" textLength=\"184.0625\" x=\"20\" y=\"20.9951\">QualifiedNameImportTest</text></a></g><!--MD5=[e4f7fae6ed58524ba242bb0b0d3be6b7]\n",
       "cluster E2--><g id=\"cluster_E2\"><a href=\"psysml:50965905-a474-4117-8075-2a307b415370\" target=\"_top\" title=\"psysml:50965905-a474-4117-8075-2a307b415370\" xlink:actuate=\"onRequest\" xlink:href=\"psysml:50965905-a474-4117-8075-2a307b415370\" xlink:show=\"new\" xlink:title=\"psysml:50965905-a474-4117-8075-2a307b415370\" xlink:type=\"simple\"><polygon fill=\"none\" points=\"48,210,72.875,210,79.875,232.2969,185,232.2969,185,325,48,325,48,210\" style=\"stroke:#000000;stroke-width:1.5;\"/><line style=\"stroke:#000000;stroke-width:1.5;\" x1=\"48\" x2=\"79.875\" y1=\"232.2969\" y2=\"232.2969\"/><text fill=\"#000000\" font-family=\"sans-serif\" font-size=\"14\" font-weight=\"bold\" lengthAdjust=\"spacing\" textLength=\"18.875\" x=\"52\" y=\"224.9951\">P1</text></a></g><!--MD5=[f6df4d0ebaf0b5dfb2ced0ae5af7c670]\n",
       "cluster E4--><g id=\"cluster_E4\"><a href=\"psysml:baf5ed1e-c4c1-4a5d-ad5e-204bd26a43d4\" target=\"_top\" title=\"psysml:baf5ed1e-c4c1-4a5d-ad5e-204bd26a43d4\" xlink:actuate=\"onRequest\" xlink:href=\"psysml:baf5ed1e-c4c1-4a5d-ad5e-204bd26a43d4\" xlink:show=\"new\" xlink:title=\"psysml:baf5ed1e-c4c1-4a5d-ad5e-204bd26a43d4\" xlink:type=\"simple\"><polygon fill=\"none\" points=\"40,49,64.875,49,71.875,71.2969,195,71.2969,195,153,40,153,40,49\" style=\"stroke:#000000;stroke-width:1.5;\"/><line style=\"stroke:#000000;stroke-width:1.5;\" x1=\"40\" x2=\"71.875\" y1=\"71.2969\" y2=\"71.2969\"/><text fill=\"#000000\" font-family=\"sans-serif\" font-size=\"14\" font-weight=\"bold\" lengthAdjust=\"spacing\" textLength=\"18.875\" x=\"44\" y=\"63.9951\">P2</text></a></g><!--MD5=[09b614a08d8cba4a07c9adeb5e0fee81]\n",
       "class E3--><a href=\"psysml:7bcd0150-a304-4bd6-beeb-4a591e07f43e\" target=\"_top\" title=\"psysml:7bcd0150-a304-4bd6-beeb-4a591e07f43e\" xlink:actuate=\"onRequest\" xlink:href=\"psysml:7bcd0150-a304-4bd6-beeb-4a591e07f43e\" xlink:show=\"new\" xlink:title=\"psysml:7bcd0150-a304-4bd6-beeb-4a591e07f43e\" xlink:type=\"simple\"><g id=\"elem_E3\"><rect fill=\"#FFFFFF\" height=\"48.2656\" id=\"E3\" style=\"stroke:#181818;stroke-width:0.5;\" width=\"70\" x=\"72\" y=\"253\"/><text fill=\"#000000\" font-family=\"sans-serif\" font-size=\"12\" font-style=\"italic\" lengthAdjust=\"spacing\" textLength=\"68\" x=\"73\" y=\"269.1387\">«part  def»</text><text fill=\"#000000\" font-family=\"sans-serif\" font-size=\"14\" lengthAdjust=\"spacing\" textLength=\"9\" x=\"102.5\" y=\"284.9639\">A</text><line style=\"stroke:#181818;stroke-width:0.5;\" x1=\"73\" x2=\"141\" y1=\"293.2656\" y2=\"293.2656\"/></g></a><!--MD5=[60a26617385b1d2d0262a64233df1f8d]\n",
       "class E6--><a href=\"psysml:1e68c641-a483-45d8-8926-6ab40309dfc3\" target=\"_top\" title=\"psysml:1e68c641-a483-45d8-8926-6ab40309dfc3\" xlink:actuate=\"onRequest\" xlink:href=\"psysml:1e68c641-a483-45d8-8926-6ab40309dfc3\" xlink:show=\"new\" xlink:title=\"psysml:1e68c641-a483-45d8-8926-6ab40309dfc3\" xlink:type=\"simple\"><g id=\"elem_E6\"><rect fill=\"#FFFFFF\" height=\"48.2656\" id=\"E6\" rx=\"10\" ry=\"10\" style=\"stroke:#181818;stroke-width:0.5;\" width=\"42\" x=\"56\" y=\"86.5\"/><text fill=\"#000000\" font-family=\"sans-serif\" font-size=\"12\" font-style=\"italic\" lengthAdjust=\"spacing\" textLength=\"40\" x=\"57\" y=\"102.6387\">«part»</text><text fill=\"#000000\" font-family=\"sans-serif\" font-size=\"14\" lengthAdjust=\"spacing\" textLength=\"25\" x=\"60.5\" y=\"118.4639\">x: A</text><line style=\"stroke:#181818;stroke-width:0.5;\" x1=\"57\" x2=\"97\" y1=\"126.7656\" y2=\"126.7656\"/></g></a><a href=\"psysml:70275c95-cc90-4a8f-9ab9-2df7f67b6861\" target=\"_top\" title=\"psysml:70275c95-cc90-4a8f-9ab9-2df7f67b6861\" xlink:actuate=\"onRequest\" xlink:href=\"psysml:70275c95-cc90-4a8f-9ab9-2df7f67b6861\" xlink:show=\"new\" xlink:title=\"psysml:70275c95-cc90-4a8f-9ab9-2df7f67b6861\" xlink:type=\"simple\"><polygon fill=\"#FFFFFF\" points=\"133,84,165,84,172,106.2969,179,106.2969,179,136.5938,133,136.5938,133,84\" style=\"stroke:#181818;stroke-width:0.5;\"/><line style=\"stroke:#181818;stroke-width:0.5;\" x1=\"133\" x2=\"172\" y1=\"106.2969\" y2=\"106.2969\"/><text fill=\"#000000\" font-family=\"sans-serif\" font-size=\"14\" lengthAdjust=\"spacing\" textLength=\"26\" x=\"137\" y=\"98.9951\">P2a</text></a><!--MD5=[15ebcb19ae302d9b601edb458606d402]\n",
       "link E5 to E2--><g id=\"link_E5_E2\"><a href=\"psysml:0b7a29bb-3729-45f6-9ea2-8894bf23e053\" target=\"_top\" title=\"psysml:0b7a29bb-3729-45f6-9ea2-8894bf23e053\" xlink:actuate=\"onRequest\" xlink:href=\"psysml:0b7a29bb-3729-45f6-9ea2-8894bf23e053\" xlink:show=\"new\" xlink:title=\"psysml:0b7a29bb-3729-45f6-9ea2-8894bf23e053\" xlink:type=\"simple\"><path d=\"M159.28,137.2 C160.735,148.5875 162.5469,162.7762 164.4519,177.6978 C165.4044,185.1586 166.3802,192.8026 167.3463,200.3712 C167.5878,202.2634 167.8287,204.1508 168.0685,206.0295 C168.1884,206.9689 168.308,207.906 168.4273,208.8405 C168.4571,209.0741 168.4869,209.3076 168.5167,209.5408 \" fill=\"none\" id=\"E5-to-E2\" style=\"stroke:#181818;stroke-width:1.0;stroke-dasharray:7.0,7.0;\"/><polygon fill=\"#181818\" points=\"168.5167,209.5408,171.345,200.1068,167.8836,204.5811,163.4094,201.1197,168.5167,209.5408\" style=\"stroke:#181818;stroke-width:1.0;\"/><text fill=\"#000000\" font-family=\"sans-serif\" font-size=\"13\" lengthAdjust=\"spacing\" textLength=\"65\" x=\"166\" y=\"182.0669\">«import»*</text></a></g><!--MD5=[a717450b82c80b9240a525fa862496af]\n",
       "link E6 to E3--><g id=\"link_E6_E3\"><a href=\"psysml:d6b7e27f-bd18-4212-9fb0-b02d6224d86d\" target=\"_top\" title=\"psysml:d6b7e27f-bd18-4212-9fb0-b02d6224d86d\" xlink:actuate=\"onRequest\" xlink:href=\"psysml:d6b7e27f-bd18-4212-9fb0-b02d6224d86d\" xlink:show=\"new\" xlink:title=\"psysml:d6b7e27f-bd18-4212-9fb0-b02d6224d86d\" xlink:type=\"simple\"><path d=\"M81.23,134.72 C85.88,160.19 93.44,201.63 99.17,233.06 \" fill=\"none\" id=\"E6-to-E3\" style=\"stroke:#181818;stroke-width:1.0;\"/><polygon fill=\"#FFFFFF\" points=\"102.79,252.9,92.4985,235.462,106.2719,232.9532,102.79,252.9\" style=\"stroke:#181818;stroke-width:1.0;\"/><ellipse cx=\"93.4447\" cy=\"229.4958\" fill=\"#181818\" rx=\"2\" ry=\"2\" style=\"stroke:#181818;stroke-width:1.0;\"/><ellipse cx=\"103.2828\" cy=\"227.7038\" fill=\"#181818\" rx=\"2\" ry=\"2\" style=\"stroke:#181818;stroke-width:1.0;\"/></a></g><!--MD5=[8c6c9c99ae603ebc1a93ea16046c2f34]\n",
       "@startuml\r\n",
       "skin sysmlbw\r\n",
       "skinparam monochrome true\r\n",
       "skinparam wrapWidth 300\r\n",
       "hide circle\r\n",
       "\r\n",
       "package \"QualifiedNameImportTest\" as E1  [[psysml:c4b7552d-b9f7-430e-8774-a992809b5587 ]]  {\r\n",
       "package \"P1\" as E2  [[psysml:50965905-a474-4117-8075-2a307b415370 ]]  {\r\n",
       "comp def \"A\" as E3  <<(T,blue) part  def>> [[psysml:7bcd0150-a304-4bd6-beeb-4a591e07f43e ]] {\r\n",
       "}\r\n",
       "}\r\n",
       "package \"P2\" as E4  [[psysml:baf5ed1e-c4c1-4a5d-ad5e-204bd26a43d4 ]]  {\r\n",
       "package \"P2a\" as E5  [[psysml:70275c95-cc90-4a8f-9ab9-2df7f67b6861 ]]  {\r\n",
       "}\r\n",
       "comp usage \"x: A  \" as E6  <<(T,blue) part>> [[psysml:1e68c641-a483-45d8-8926-6ab40309dfc3 ]] {\r\n",
       "}\r\n",
       "}\r\n",
       "}\r\n",
       "E5 ..> E2 [[psysml:0b7a29bb-3729-45f6-9ea2-8894bf23e053 ]] : <<import>>*\r\n",
       "E6 - -:|> E3 [[psysml:d6b7e27f-bd18-4212-9fb0-b02d6224d86d ]] \r\n",
       "@enduml\r\n",
       "\n",
       "PlantUML version 1.2022.7(Mon Aug 22 17:01:30 UTC 2022)\n",
       "(EPL source distribution)\n",
       "Java Runtime: OpenJDK Runtime Environment\n",
       "JVM: OpenJDK 64-Bit Server VM\n",
       "Default Encoding: UTF-8\n",
       "Language: en\n",
       "Country: null\n",
       "--></g></svg>"
      ]
     },
     "execution_count": 43,
     "metadata": {},
     "output_type": "execute_result"
    }
   ],
   "source": [
    "%viz --style=\"DEFAULT\" --view=\"MIXED\" \"QualifiedNameImportTest\""
   ]
  },
  {
   "cell_type": "code",
   "execution_count": 44,
   "id": "6e283a64",
   "metadata": {
    "execution": {
     "iopub.execute_input": "2024-12-16T03:25:43.947388Z",
     "iopub.status.busy": "2024-12-16T03:25:43.947168Z",
     "iopub.status.idle": "2024-12-16T03:25:43.963256Z",
     "shell.execute_reply": "2024-12-16T03:25:43.962443Z"
    }
   },
   "outputs": [
    {
     "data": {
      "image/svg+xml": [
       "<?xml version=\"1.0\" encoding=\"UTF-8\" standalone=\"no\"?><svg xmlns=\"http://www.w3.org/2000/svg\" xmlns:xlink=\"http://www.w3.org/1999/xlink\" contentStyleType=\"text/css\" height=\"364px\" preserveAspectRatio=\"none\" style=\"width:239px;height:364px;background:#FFFFFF;\" version=\"1.1\" viewBox=\"0 0 239 364\" width=\"239px\" zoomAndPan=\"magnify\"><defs/><g><!--MD5=[fbc87193dbaf4d95561dea2c320d4a47]\n",
       "cluster E1--><g id=\"cluster_E1\"><a href=\"psysml:c4b7552d-b9f7-430e-8774-a992809b5587\" target=\"_top\" title=\"psysml:c4b7552d-b9f7-430e-8774-a992809b5587\" xlink:actuate=\"onRequest\" xlink:href=\"psysml:c4b7552d-b9f7-430e-8774-a992809b5587\" xlink:show=\"new\" xlink:title=\"psysml:c4b7552d-b9f7-430e-8774-a992809b5587\" xlink:type=\"simple\"><polygon fill=\"none\" points=\"16,6,206.0625,6,213.0625,28.2969,219,28.2969,219,357,16,357,16,6\" style=\"stroke:#000000;stroke-width:1.5;\"/><line style=\"stroke:#000000;stroke-width:1.5;\" x1=\"16\" x2=\"213.0625\" y1=\"28.2969\" y2=\"28.2969\"/><text fill=\"#000000\" font-family=\"sans-serif\" font-size=\"14\" font-weight=\"bold\" lengthAdjust=\"spacing\" textLength=\"184.0625\" x=\"20\" y=\"20.9951\">QualifiedNameImportTest</text></a></g><!--MD5=[e4f7fae6ed58524ba242bb0b0d3be6b7]\n",
       "cluster E2--><g id=\"cluster_E2\"><a href=\"psysml:50965905-a474-4117-8075-2a307b415370\" target=\"_top\" title=\"psysml:50965905-a474-4117-8075-2a307b415370\" xlink:actuate=\"onRequest\" xlink:href=\"psysml:50965905-a474-4117-8075-2a307b415370\" xlink:show=\"new\" xlink:title=\"psysml:50965905-a474-4117-8075-2a307b415370\" xlink:type=\"simple\"><polygon fill=\"none\" points=\"48,210,72.875,210,79.875,232.2969,185,232.2969,185,325,48,325,48,210\" style=\"stroke:#000000;stroke-width:1.5;\"/><line style=\"stroke:#000000;stroke-width:1.5;\" x1=\"48\" x2=\"79.875\" y1=\"232.2969\" y2=\"232.2969\"/><text fill=\"#000000\" font-family=\"sans-serif\" font-size=\"14\" font-weight=\"bold\" lengthAdjust=\"spacing\" textLength=\"18.875\" x=\"52\" y=\"224.9951\">P1</text></a></g><!--MD5=[f6df4d0ebaf0b5dfb2ced0ae5af7c670]\n",
       "cluster E4--><g id=\"cluster_E4\"><a href=\"psysml:baf5ed1e-c4c1-4a5d-ad5e-204bd26a43d4\" target=\"_top\" title=\"psysml:baf5ed1e-c4c1-4a5d-ad5e-204bd26a43d4\" xlink:actuate=\"onRequest\" xlink:href=\"psysml:baf5ed1e-c4c1-4a5d-ad5e-204bd26a43d4\" xlink:show=\"new\" xlink:title=\"psysml:baf5ed1e-c4c1-4a5d-ad5e-204bd26a43d4\" xlink:type=\"simple\"><polygon fill=\"none\" points=\"40,49,64.875,49,71.875,71.2969,195,71.2969,195,153,40,153,40,49\" style=\"stroke:#000000;stroke-width:1.5;\"/><line style=\"stroke:#000000;stroke-width:1.5;\" x1=\"40\" x2=\"71.875\" y1=\"71.2969\" y2=\"71.2969\"/><text fill=\"#000000\" font-family=\"sans-serif\" font-size=\"14\" font-weight=\"bold\" lengthAdjust=\"spacing\" textLength=\"18.875\" x=\"44\" y=\"63.9951\">P2</text></a></g><!--MD5=[09b614a08d8cba4a07c9adeb5e0fee81]\n",
       "class E3--><a href=\"psysml:7bcd0150-a304-4bd6-beeb-4a591e07f43e\" target=\"_top\" title=\"psysml:7bcd0150-a304-4bd6-beeb-4a591e07f43e\" xlink:actuate=\"onRequest\" xlink:href=\"psysml:7bcd0150-a304-4bd6-beeb-4a591e07f43e\" xlink:show=\"new\" xlink:title=\"psysml:7bcd0150-a304-4bd6-beeb-4a591e07f43e\" xlink:type=\"simple\"><g id=\"elem_E3\"><rect fill=\"#FFFFFF\" height=\"48.2656\" id=\"E3\" style=\"stroke:#181818;stroke-width:0.5;\" width=\"70\" x=\"72\" y=\"253\"/><text fill=\"#000000\" font-family=\"sans-serif\" font-size=\"12\" font-style=\"italic\" lengthAdjust=\"spacing\" textLength=\"68\" x=\"73\" y=\"269.1387\">«part  def»</text><text fill=\"#000000\" font-family=\"sans-serif\" font-size=\"14\" lengthAdjust=\"spacing\" textLength=\"9\" x=\"102.5\" y=\"284.9639\">A</text><line style=\"stroke:#181818;stroke-width:0.5;\" x1=\"73\" x2=\"141\" y1=\"293.2656\" y2=\"293.2656\"/></g></a><!--MD5=[60a26617385b1d2d0262a64233df1f8d]\n",
       "class E6--><a href=\"psysml:1e68c641-a483-45d8-8926-6ab40309dfc3\" target=\"_top\" title=\"psysml:1e68c641-a483-45d8-8926-6ab40309dfc3\" xlink:actuate=\"onRequest\" xlink:href=\"psysml:1e68c641-a483-45d8-8926-6ab40309dfc3\" xlink:show=\"new\" xlink:title=\"psysml:1e68c641-a483-45d8-8926-6ab40309dfc3\" xlink:type=\"simple\"><g id=\"elem_E6\"><rect fill=\"#FFFFFF\" height=\"48.2656\" id=\"E6\" rx=\"10\" ry=\"10\" style=\"stroke:#181818;stroke-width:0.5;\" width=\"42\" x=\"56\" y=\"86.5\"/><text fill=\"#000000\" font-family=\"sans-serif\" font-size=\"12\" font-style=\"italic\" lengthAdjust=\"spacing\" textLength=\"40\" x=\"57\" y=\"102.6387\">«part»</text><text fill=\"#000000\" font-family=\"sans-serif\" font-size=\"14\" lengthAdjust=\"spacing\" textLength=\"25\" x=\"60.5\" y=\"118.4639\">x: A</text><line style=\"stroke:#181818;stroke-width:0.5;\" x1=\"57\" x2=\"97\" y1=\"126.7656\" y2=\"126.7656\"/></g></a><a href=\"psysml:70275c95-cc90-4a8f-9ab9-2df7f67b6861\" target=\"_top\" title=\"psysml:70275c95-cc90-4a8f-9ab9-2df7f67b6861\" xlink:actuate=\"onRequest\" xlink:href=\"psysml:70275c95-cc90-4a8f-9ab9-2df7f67b6861\" xlink:show=\"new\" xlink:title=\"psysml:70275c95-cc90-4a8f-9ab9-2df7f67b6861\" xlink:type=\"simple\"><polygon fill=\"#FFFFFF\" points=\"133,84,165,84,172,106.2969,179,106.2969,179,136.5938,133,136.5938,133,84\" style=\"stroke:#181818;stroke-width:0.5;\"/><line style=\"stroke:#181818;stroke-width:0.5;\" x1=\"133\" x2=\"172\" y1=\"106.2969\" y2=\"106.2969\"/><text fill=\"#000000\" font-family=\"sans-serif\" font-size=\"14\" lengthAdjust=\"spacing\" textLength=\"26\" x=\"137\" y=\"98.9951\">P2a</text></a><!--MD5=[15ebcb19ae302d9b601edb458606d402]\n",
       "link E5 to E2--><g id=\"link_E5_E2\"><a href=\"psysml:0b7a29bb-3729-45f6-9ea2-8894bf23e053\" target=\"_top\" title=\"psysml:0b7a29bb-3729-45f6-9ea2-8894bf23e053\" xlink:actuate=\"onRequest\" xlink:href=\"psysml:0b7a29bb-3729-45f6-9ea2-8894bf23e053\" xlink:show=\"new\" xlink:title=\"psysml:0b7a29bb-3729-45f6-9ea2-8894bf23e053\" xlink:type=\"simple\"><path d=\"M159.28,137.2 C160.735,148.5875 162.5469,162.7762 164.4519,177.6978 C165.4044,185.1586 166.3802,192.8026 167.3463,200.3712 C167.5878,202.2634 167.8287,204.1508 168.0685,206.0295 C168.1884,206.9689 168.308,207.906 168.4273,208.8405 C168.4571,209.0741 168.4869,209.3076 168.5167,209.5408 \" fill=\"none\" id=\"E5-to-E2\" style=\"stroke:#181818;stroke-width:1.0;stroke-dasharray:7.0,7.0;\"/><polygon fill=\"#181818\" points=\"168.5167,209.5408,171.345,200.1068,167.8836,204.5811,163.4094,201.1197,168.5167,209.5408\" style=\"stroke:#181818;stroke-width:1.0;\"/><text fill=\"#000000\" font-family=\"sans-serif\" font-size=\"13\" lengthAdjust=\"spacing\" textLength=\"65\" x=\"166\" y=\"182.0669\">«import»*</text></a></g><!--MD5=[a717450b82c80b9240a525fa862496af]\n",
       "link E6 to E3--><g id=\"link_E6_E3\"><a href=\"psysml:d6b7e27f-bd18-4212-9fb0-b02d6224d86d\" target=\"_top\" title=\"psysml:d6b7e27f-bd18-4212-9fb0-b02d6224d86d\" xlink:actuate=\"onRequest\" xlink:href=\"psysml:d6b7e27f-bd18-4212-9fb0-b02d6224d86d\" xlink:show=\"new\" xlink:title=\"psysml:d6b7e27f-bd18-4212-9fb0-b02d6224d86d\" xlink:type=\"simple\"><path d=\"M81.23,134.72 C85.88,160.19 93.44,201.63 99.17,233.06 \" fill=\"none\" id=\"E6-to-E3\" style=\"stroke:#181818;stroke-width:1.0;\"/><polygon fill=\"#FFFFFF\" points=\"102.79,252.9,92.4985,235.462,106.2719,232.9532,102.79,252.9\" style=\"stroke:#181818;stroke-width:1.0;\"/><ellipse cx=\"93.4447\" cy=\"229.4958\" fill=\"#181818\" rx=\"2\" ry=\"2\" style=\"stroke:#181818;stroke-width:1.0;\"/><ellipse cx=\"103.2828\" cy=\"227.7038\" fill=\"#181818\" rx=\"2\" ry=\"2\" style=\"stroke:#181818;stroke-width:1.0;\"/></a></g><!--MD5=[cd8927d1f1298119a9a36ed7bba7e6d1]\n",
       "@startuml\r\n",
       "skin sysmlbw\r\n",
       "skinparam monochrome true\r\n",
       "skinparam wrapWidth 300\r\n",
       "hide circle\r\n",
       "top to bottom direction\r\n",
       "\r\n",
       "package \"QualifiedNameImportTest\" as E1  [[psysml:c4b7552d-b9f7-430e-8774-a992809b5587 ]]  {\r\n",
       "package \"P1\" as E2  [[psysml:50965905-a474-4117-8075-2a307b415370 ]]  {\r\n",
       "comp def \"A\" as E3  <<(T,blue) part  def>> [[psysml:7bcd0150-a304-4bd6-beeb-4a591e07f43e ]] {\r\n",
       "}\r\n",
       "}\r\n",
       "package \"P2\" as E4  [[psysml:baf5ed1e-c4c1-4a5d-ad5e-204bd26a43d4 ]]  {\r\n",
       "package \"P2a\" as E5  [[psysml:70275c95-cc90-4a8f-9ab9-2df7f67b6861 ]]  {\r\n",
       "}\r\n",
       "comp usage \"x: A  \" as E6  <<(T,blue) part>> [[psysml:1e68c641-a483-45d8-8926-6ab40309dfc3 ]] {\r\n",
       "}\r\n",
       "}\r\n",
       "}\r\n",
       "E5 ..> E2 [[psysml:0b7a29bb-3729-45f6-9ea2-8894bf23e053 ]] : <<import>>*\r\n",
       "E6 - -:|> E3 [[psysml:d6b7e27f-bd18-4212-9fb0-b02d6224d86d ]] \r\n",
       "@enduml\r\n",
       "\n",
       "PlantUML version 1.2022.7(Mon Aug 22 17:01:30 UTC 2022)\n",
       "(EPL source distribution)\n",
       "Java Runtime: OpenJDK Runtime Environment\n",
       "JVM: OpenJDK 64-Bit Server VM\n",
       "Default Encoding: UTF-8\n",
       "Language: en\n",
       "Country: null\n",
       "--></g></svg>"
      ]
     },
     "execution_count": 44,
     "metadata": {},
     "output_type": "execute_result"
    }
   ],
   "source": [
    "%viz --style=\"TB\" --view=\"Default\" \"QualifiedNameImportTest\""
   ]
  },
  {
   "cell_type": "code",
   "execution_count": 45,
   "id": "88c433b9",
   "metadata": {
    "execution": {
     "iopub.execute_input": "2024-12-16T03:25:44.014793Z",
     "iopub.status.busy": "2024-12-16T03:25:44.014511Z",
     "iopub.status.idle": "2024-12-16T03:25:44.029726Z",
     "shell.execute_reply": "2024-12-16T03:25:44.028909Z"
    }
   },
   "outputs": [
    {
     "data": {
      "image/svg+xml": [
       "<?xml version=\"1.0\" encoding=\"UTF-8\" standalone=\"no\"?><svg xmlns=\"http://www.w3.org/2000/svg\" xmlns:xlink=\"http://www.w3.org/1999/xlink\" contentStyleType=\"text/css\" height=\"364px\" preserveAspectRatio=\"none\" style=\"width:239px;height:364px;background:#FFFFFF;\" version=\"1.1\" viewBox=\"0 0 239 364\" width=\"239px\" zoomAndPan=\"magnify\"><defs/><g><!--MD5=[fbc87193dbaf4d95561dea2c320d4a47]\n",
       "cluster E1--><g id=\"cluster_E1\"><a href=\"psysml:c4b7552d-b9f7-430e-8774-a992809b5587\" target=\"_top\" title=\"psysml:c4b7552d-b9f7-430e-8774-a992809b5587\" xlink:actuate=\"onRequest\" xlink:href=\"psysml:c4b7552d-b9f7-430e-8774-a992809b5587\" xlink:show=\"new\" xlink:title=\"psysml:c4b7552d-b9f7-430e-8774-a992809b5587\" xlink:type=\"simple\"><polygon fill=\"none\" points=\"16,6,206.0625,6,213.0625,28.2969,219,28.2969,219,357,16,357,16,6\" style=\"stroke:#000000;stroke-width:1.5;\"/><line style=\"stroke:#000000;stroke-width:1.5;\" x1=\"16\" x2=\"213.0625\" y1=\"28.2969\" y2=\"28.2969\"/><text fill=\"#000000\" font-family=\"sans-serif\" font-size=\"14\" font-weight=\"bold\" lengthAdjust=\"spacing\" textLength=\"184.0625\" x=\"20\" y=\"20.9951\">QualifiedNameImportTest</text></a></g><!--MD5=[e4f7fae6ed58524ba242bb0b0d3be6b7]\n",
       "cluster E2--><g id=\"cluster_E2\"><a href=\"psysml:50965905-a474-4117-8075-2a307b415370\" target=\"_top\" title=\"psysml:50965905-a474-4117-8075-2a307b415370\" xlink:actuate=\"onRequest\" xlink:href=\"psysml:50965905-a474-4117-8075-2a307b415370\" xlink:show=\"new\" xlink:title=\"psysml:50965905-a474-4117-8075-2a307b415370\" xlink:type=\"simple\"><polygon fill=\"none\" points=\"48,210,72.875,210,79.875,232.2969,185,232.2969,185,325,48,325,48,210\" style=\"stroke:#000000;stroke-width:1.5;\"/><line style=\"stroke:#000000;stroke-width:1.5;\" x1=\"48\" x2=\"79.875\" y1=\"232.2969\" y2=\"232.2969\"/><text fill=\"#000000\" font-family=\"sans-serif\" font-size=\"14\" font-weight=\"bold\" lengthAdjust=\"spacing\" textLength=\"18.875\" x=\"52\" y=\"224.9951\">P1</text></a></g><!--MD5=[f6df4d0ebaf0b5dfb2ced0ae5af7c670]\n",
       "cluster E4--><g id=\"cluster_E4\"><a href=\"psysml:baf5ed1e-c4c1-4a5d-ad5e-204bd26a43d4\" target=\"_top\" title=\"psysml:baf5ed1e-c4c1-4a5d-ad5e-204bd26a43d4\" xlink:actuate=\"onRequest\" xlink:href=\"psysml:baf5ed1e-c4c1-4a5d-ad5e-204bd26a43d4\" xlink:show=\"new\" xlink:title=\"psysml:baf5ed1e-c4c1-4a5d-ad5e-204bd26a43d4\" xlink:type=\"simple\"><polygon fill=\"none\" points=\"40,49,64.875,49,71.875,71.2969,195,71.2969,195,153,40,153,40,49\" style=\"stroke:#000000;stroke-width:1.5;\"/><line style=\"stroke:#000000;stroke-width:1.5;\" x1=\"40\" x2=\"71.875\" y1=\"71.2969\" y2=\"71.2969\"/><text fill=\"#000000\" font-family=\"sans-serif\" font-size=\"14\" font-weight=\"bold\" lengthAdjust=\"spacing\" textLength=\"18.875\" x=\"44\" y=\"63.9951\">P2</text></a></g><!--MD5=[09b614a08d8cba4a07c9adeb5e0fee81]\n",
       "class E3--><a href=\"psysml:7bcd0150-a304-4bd6-beeb-4a591e07f43e\" target=\"_top\" title=\"psysml:7bcd0150-a304-4bd6-beeb-4a591e07f43e\" xlink:actuate=\"onRequest\" xlink:href=\"psysml:7bcd0150-a304-4bd6-beeb-4a591e07f43e\" xlink:show=\"new\" xlink:title=\"psysml:7bcd0150-a304-4bd6-beeb-4a591e07f43e\" xlink:type=\"simple\"><g id=\"elem_E3\"><rect fill=\"#FFFFFF\" height=\"48.2656\" id=\"E3\" style=\"stroke:#181818;stroke-width:0.5;\" width=\"70\" x=\"72\" y=\"253\"/><text fill=\"#000000\" font-family=\"sans-serif\" font-size=\"12\" font-style=\"italic\" lengthAdjust=\"spacing\" textLength=\"68\" x=\"73\" y=\"269.1387\">«part  def»</text><text fill=\"#000000\" font-family=\"sans-serif\" font-size=\"14\" lengthAdjust=\"spacing\" textLength=\"9\" x=\"102.5\" y=\"284.9639\">A</text><line style=\"stroke:#181818;stroke-width:0.5;\" x1=\"73\" x2=\"141\" y1=\"293.2656\" y2=\"293.2656\"/></g></a><!--MD5=[60a26617385b1d2d0262a64233df1f8d]\n",
       "class E6--><a href=\"psysml:1e68c641-a483-45d8-8926-6ab40309dfc3\" target=\"_top\" title=\"psysml:1e68c641-a483-45d8-8926-6ab40309dfc3\" xlink:actuate=\"onRequest\" xlink:href=\"psysml:1e68c641-a483-45d8-8926-6ab40309dfc3\" xlink:show=\"new\" xlink:title=\"psysml:1e68c641-a483-45d8-8926-6ab40309dfc3\" xlink:type=\"simple\"><g id=\"elem_E6\"><rect fill=\"#FFFFFF\" height=\"48.2656\" id=\"E6\" rx=\"10\" ry=\"10\" style=\"stroke:#181818;stroke-width:0.5;\" width=\"42\" x=\"56\" y=\"86.5\"/><text fill=\"#000000\" font-family=\"sans-serif\" font-size=\"12\" font-style=\"italic\" lengthAdjust=\"spacing\" textLength=\"40\" x=\"57\" y=\"102.6387\">«part»</text><text fill=\"#000000\" font-family=\"sans-serif\" font-size=\"14\" lengthAdjust=\"spacing\" textLength=\"25\" x=\"60.5\" y=\"118.4639\">x: A</text><line style=\"stroke:#181818;stroke-width:0.5;\" x1=\"57\" x2=\"97\" y1=\"126.7656\" y2=\"126.7656\"/></g></a><a href=\"psysml:70275c95-cc90-4a8f-9ab9-2df7f67b6861\" target=\"_top\" title=\"psysml:70275c95-cc90-4a8f-9ab9-2df7f67b6861\" xlink:actuate=\"onRequest\" xlink:href=\"psysml:70275c95-cc90-4a8f-9ab9-2df7f67b6861\" xlink:show=\"new\" xlink:title=\"psysml:70275c95-cc90-4a8f-9ab9-2df7f67b6861\" xlink:type=\"simple\"><polygon fill=\"#FFFFFF\" points=\"133,84,165,84,172,106.2969,179,106.2969,179,136.5938,133,136.5938,133,84\" style=\"stroke:#181818;stroke-width:0.5;\"/><line style=\"stroke:#181818;stroke-width:0.5;\" x1=\"133\" x2=\"172\" y1=\"106.2969\" y2=\"106.2969\"/><text fill=\"#000000\" font-family=\"sans-serif\" font-size=\"14\" lengthAdjust=\"spacing\" textLength=\"26\" x=\"137\" y=\"98.9951\">P2a</text></a><!--MD5=[15ebcb19ae302d9b601edb458606d402]\n",
       "link E5 to E2--><g id=\"link_E5_E2\"><a href=\"psysml:0b7a29bb-3729-45f6-9ea2-8894bf23e053\" target=\"_top\" title=\"psysml:0b7a29bb-3729-45f6-9ea2-8894bf23e053\" xlink:actuate=\"onRequest\" xlink:href=\"psysml:0b7a29bb-3729-45f6-9ea2-8894bf23e053\" xlink:show=\"new\" xlink:title=\"psysml:0b7a29bb-3729-45f6-9ea2-8894bf23e053\" xlink:type=\"simple\"><path d=\"M159.28,137.2 C160.735,148.5875 162.5469,162.7762 164.4519,177.6978 C165.4044,185.1586 166.3802,192.8026 167.3463,200.3712 C167.5878,202.2634 167.8287,204.1508 168.0685,206.0295 C168.1884,206.9689 168.308,207.906 168.4273,208.8405 C168.4571,209.0741 168.4869,209.3076 168.5167,209.5408 \" fill=\"none\" id=\"E5-to-E2\" style=\"stroke:#181818;stroke-width:1.0;stroke-dasharray:7.0,7.0;\"/><polygon fill=\"#181818\" points=\"168.5167,209.5408,171.345,200.1068,167.8836,204.5811,163.4094,201.1197,168.5167,209.5408\" style=\"stroke:#181818;stroke-width:1.0;\"/><text fill=\"#000000\" font-family=\"sans-serif\" font-size=\"13\" lengthAdjust=\"spacing\" textLength=\"65\" x=\"166\" y=\"182.0669\">«import»*</text></a></g><!--MD5=[a717450b82c80b9240a525fa862496af]\n",
       "link E6 to E3--><g id=\"link_E6_E3\"><a href=\"psysml:d6b7e27f-bd18-4212-9fb0-b02d6224d86d\" target=\"_top\" title=\"psysml:d6b7e27f-bd18-4212-9fb0-b02d6224d86d\" xlink:actuate=\"onRequest\" xlink:href=\"psysml:d6b7e27f-bd18-4212-9fb0-b02d6224d86d\" xlink:show=\"new\" xlink:title=\"psysml:d6b7e27f-bd18-4212-9fb0-b02d6224d86d\" xlink:type=\"simple\"><path d=\"M81.23,134.72 C85.88,160.19 93.44,201.63 99.17,233.06 \" fill=\"none\" id=\"E6-to-E3\" style=\"stroke:#181818;stroke-width:1.0;\"/><polygon fill=\"#FFFFFF\" points=\"102.79,252.9,92.4985,235.462,106.2719,232.9532,102.79,252.9\" style=\"stroke:#181818;stroke-width:1.0;\"/><ellipse cx=\"93.4447\" cy=\"229.4958\" fill=\"#181818\" rx=\"2\" ry=\"2\" style=\"stroke:#181818;stroke-width:1.0;\"/><ellipse cx=\"103.2828\" cy=\"227.7038\" fill=\"#181818\" rx=\"2\" ry=\"2\" style=\"stroke:#181818;stroke-width:1.0;\"/></a></g><!--MD5=[cd8927d1f1298119a9a36ed7bba7e6d1]\n",
       "@startuml\r\n",
       "skin sysmlbw\r\n",
       "skinparam monochrome true\r\n",
       "skinparam wrapWidth 300\r\n",
       "hide circle\r\n",
       "top to bottom direction\r\n",
       "\r\n",
       "package \"QualifiedNameImportTest\" as E1  [[psysml:c4b7552d-b9f7-430e-8774-a992809b5587 ]]  {\r\n",
       "package \"P1\" as E2  [[psysml:50965905-a474-4117-8075-2a307b415370 ]]  {\r\n",
       "comp def \"A\" as E3  <<(T,blue) part  def>> [[psysml:7bcd0150-a304-4bd6-beeb-4a591e07f43e ]] {\r\n",
       "}\r\n",
       "}\r\n",
       "package \"P2\" as E4  [[psysml:baf5ed1e-c4c1-4a5d-ad5e-204bd26a43d4 ]]  {\r\n",
       "package \"P2a\" as E5  [[psysml:70275c95-cc90-4a8f-9ab9-2df7f67b6861 ]]  {\r\n",
       "}\r\n",
       "comp usage \"x: A  \" as E6  <<(T,blue) part>> [[psysml:1e68c641-a483-45d8-8926-6ab40309dfc3 ]] {\r\n",
       "}\r\n",
       "}\r\n",
       "}\r\n",
       "E5 ..> E2 [[psysml:0b7a29bb-3729-45f6-9ea2-8894bf23e053 ]] : <<import>>*\r\n",
       "E6 - -:|> E3 [[psysml:d6b7e27f-bd18-4212-9fb0-b02d6224d86d ]] \r\n",
       "@enduml\r\n",
       "\n",
       "PlantUML version 1.2022.7(Mon Aug 22 17:01:30 UTC 2022)\n",
       "(EPL source distribution)\n",
       "Java Runtime: OpenJDK Runtime Environment\n",
       "JVM: OpenJDK 64-Bit Server VM\n",
       "Default Encoding: UTF-8\n",
       "Language: en\n",
       "Country: null\n",
       "--></g></svg>"
      ]
     },
     "execution_count": 45,
     "metadata": {},
     "output_type": "execute_result"
    }
   ],
   "source": [
    "%viz --style=\"TB\" --view=\"Tree\" \"QualifiedNameImportTest\""
   ]
  },
  {
   "cell_type": "code",
   "execution_count": 46,
   "id": "e176af4d",
   "metadata": {
    "execution": {
     "iopub.execute_input": "2024-12-16T03:25:44.080658Z",
     "iopub.status.busy": "2024-12-16T03:25:44.080446Z",
     "iopub.status.idle": "2024-12-16T03:25:44.084342Z",
     "shell.execute_reply": "2024-12-16T03:25:44.084168Z"
    }
   },
   "outputs": [
    {
     "data": {
      "image/svg+xml": [
       "<?xml version=\"1.0\" encoding=\"UTF-8\" standalone=\"no\"?><svg xmlns=\"http://www.w3.org/2000/svg\" xmlns:xlink=\"http://www.w3.org/1999/xlink\" contentStyleType=\"text/css\" height=\"10px\" preserveAspectRatio=\"none\" style=\"width:10px;height:10px;background:#FFFFFF;\" version=\"1.1\" viewBox=\"0 0 10 10\" width=\"10px\" zoomAndPan=\"magnify\"><defs/><g><!--MD5=[457d54036ad86991b1ebb71db2c9a3b1]\n",
       "@startuml\r\n",
       "skin sysmlbw\r\n",
       "skinparam monochrome true\r\n",
       "skinparam wrapWidth 300\r\n",
       "hide circle\r\n",
       "top to bottom direction\r\n",
       "\r\n",
       "@enduml\r\n",
       "\n",
       "PlantUML version 1.2022.7(Mon Aug 22 17:01:30 UTC 2022)\n",
       "(EPL source distribution)\n",
       "Java Runtime: OpenJDK Runtime Environment\n",
       "JVM: OpenJDK 64-Bit Server VM\n",
       "Default Encoding: UTF-8\n",
       "Language: en\n",
       "Country: null\n",
       "--></g></svg>"
      ]
     },
     "execution_count": 46,
     "metadata": {},
     "output_type": "execute_result"
    }
   ],
   "source": [
    "%viz --style=\"TB\" --view=\"State\" \"QualifiedNameImportTest\""
   ]
  },
  {
   "cell_type": "code",
   "execution_count": 47,
   "id": "e8e59c14",
   "metadata": {
    "execution": {
     "iopub.execute_input": "2024-12-16T03:25:44.141581Z",
     "iopub.status.busy": "2024-12-16T03:25:44.141078Z",
     "iopub.status.idle": "2024-12-16T03:25:44.160940Z",
     "shell.execute_reply": "2024-12-16T03:25:44.160388Z"
    }
   },
   "outputs": [
    {
     "data": {
      "image/svg+xml": [
       "<?xml version=\"1.0\" encoding=\"UTF-8\" standalone=\"no\"?><svg xmlns=\"http://www.w3.org/2000/svg\" xmlns:xlink=\"http://www.w3.org/1999/xlink\" contentStyleType=\"text/css\" height=\"361px\" preserveAspectRatio=\"none\" style=\"width:244px;height:361px;background:#FFFFFF;\" version=\"1.1\" viewBox=\"0 0 244 361\" width=\"244px\" zoomAndPan=\"magnify\"><defs/><g><!--MD5=[fbc87193dbaf4d95561dea2c320d4a47]\n",
       "cluster E1--><g id=\"cluster_E1\"><a href=\"psysml:c4b7552d-b9f7-430e-8774-a992809b5587\" target=\"_top\" title=\"psysml:c4b7552d-b9f7-430e-8774-a992809b5587\" xlink:actuate=\"onRequest\" xlink:href=\"psysml:c4b7552d-b9f7-430e-8774-a992809b5587\" xlink:show=\"new\" xlink:title=\"psysml:c4b7552d-b9f7-430e-8774-a992809b5587\" xlink:type=\"simple\"><polygon fill=\"none\" points=\"16,6,206.0625,6,213.0625,28.2969,227,28.2969,227,354,16,354,16,6\" style=\"stroke:#000000;stroke-width:1.5;\"/><line style=\"stroke:#000000;stroke-width:1.5;\" x1=\"16\" x2=\"213.0625\" y1=\"28.2969\" y2=\"28.2969\"/><text fill=\"#000000\" font-family=\"sans-serif\" font-size=\"14\" font-weight=\"bold\" lengthAdjust=\"spacing\" textLength=\"184.0625\" x=\"20\" y=\"20.9951\">QualifiedNameImportTest</text></a></g><!--MD5=[e4f7fae6ed58524ba242bb0b0d3be6b7]\n",
       "cluster E2--><g id=\"cluster_E2\"><a href=\"psysml:50965905-a474-4117-8075-2a307b415370\" target=\"_top\" title=\"psysml:50965905-a474-4117-8075-2a307b415370\" xlink:actuate=\"onRequest\" xlink:href=\"psysml:50965905-a474-4117-8075-2a307b415370\" xlink:show=\"new\" xlink:title=\"psysml:50965905-a474-4117-8075-2a307b415370\" xlink:type=\"simple\"><polygon fill=\"none\" points=\"53,210,77.875,210,84.875,232.2969,195,232.2969,195,322,53,322,53,210\" style=\"stroke:#000000;stroke-width:1.5;\"/><line style=\"stroke:#000000;stroke-width:1.5;\" x1=\"53\" x2=\"84.875\" y1=\"232.2969\" y2=\"232.2969\"/><text fill=\"#000000\" font-family=\"sans-serif\" font-size=\"14\" font-weight=\"bold\" lengthAdjust=\"spacing\" textLength=\"18.875\" x=\"57\" y=\"224.9951\">P1</text></a></g><!--MD5=[f6df4d0ebaf0b5dfb2ced0ae5af7c670]\n",
       "cluster E4--><g id=\"cluster_E4\"><a href=\"psysml:baf5ed1e-c4c1-4a5d-ad5e-204bd26a43d4\" target=\"_top\" title=\"psysml:baf5ed1e-c4c1-4a5d-ad5e-204bd26a43d4\" xlink:actuate=\"onRequest\" xlink:href=\"psysml:baf5ed1e-c4c1-4a5d-ad5e-204bd26a43d4\" xlink:show=\"new\" xlink:title=\"psysml:baf5ed1e-c4c1-4a5d-ad5e-204bd26a43d4\" xlink:type=\"simple\"><polygon fill=\"none\" points=\"40,49,64.875,49,71.875,71.2969,203,71.2969,203,153,40,153,40,49\" style=\"stroke:#000000;stroke-width:1.5;\"/><line style=\"stroke:#000000;stroke-width:1.5;\" x1=\"40\" x2=\"71.875\" y1=\"71.2969\" y2=\"71.2969\"/><text fill=\"#000000\" font-family=\"sans-serif\" font-size=\"14\" font-weight=\"bold\" lengthAdjust=\"spacing\" textLength=\"18.875\" x=\"44\" y=\"63.9951\">P2</text></a></g><g><a href=\"psysml:7bcd0150-a304-4bd6-beeb-4a591e07f43e\" target=\"_top\" title=\"psysml:7bcd0150-a304-4bd6-beeb-4a591e07f43e\" xlink:actuate=\"onRequest\" xlink:href=\"psysml:7bcd0150-a304-4bd6-beeb-4a591e07f43e\" xlink:show=\"new\" xlink:title=\"psysml:7bcd0150-a304-4bd6-beeb-4a591e07f43e\" xlink:type=\"simple\"><rect fill=\"#FFFFFF\" height=\"45.2656\" id=\"E3\" style=\"stroke:#383838;stroke-width:1.5;\" width=\"75\" x=\"96.5\" y=\"253\"/><text fill=\"#000000\" font-family=\"sans-serif\" font-size=\"12\" font-style=\"italic\" lengthAdjust=\"spacing\" textLength=\"68\" x=\"100\" y=\"269.1387\">«part  def»</text><text fill=\"#000000\" font-family=\"sans-serif\" font-size=\"14\" lengthAdjust=\"spacing\" textLength=\"9\" x=\"129.5\" y=\"284.9639\">A</text></a></g><a href=\"psysml:70275c95-cc90-4a8f-9ab9-2df7f67b6861\" target=\"_top\" title=\"psysml:70275c95-cc90-4a8f-9ab9-2df7f67b6861\" xlink:actuate=\"onRequest\" xlink:href=\"psysml:70275c95-cc90-4a8f-9ab9-2df7f67b6861\" xlink:show=\"new\" xlink:title=\"psysml:70275c95-cc90-4a8f-9ab9-2df7f67b6861\" xlink:type=\"simple\"><polygon fill=\"#FFFFFF\" points=\"56,84,88,84,95,106.2969,102,106.2969,102,136.5938,56,136.5938,56,84\" style=\"stroke:#181818;stroke-width:0.5;\"/><line style=\"stroke:#181818;stroke-width:0.5;\" x1=\"56\" x2=\"95\" y1=\"106.2969\" y2=\"106.2969\"/><text fill=\"#000000\" font-family=\"sans-serif\" font-size=\"14\" lengthAdjust=\"spacing\" textLength=\"26\" x=\"60\" y=\"98.9951\">P2a</text></a><g><a href=\"psysml:1e68c641-a483-45d8-8926-6ab40309dfc3\" target=\"_top\" title=\"psysml:1e68c641-a483-45d8-8926-6ab40309dfc3\" xlink:actuate=\"onRequest\" xlink:href=\"psysml:1e68c641-a483-45d8-8926-6ab40309dfc3\" xlink:show=\"new\" xlink:title=\"psysml:1e68c641-a483-45d8-8926-6ab40309dfc3\" xlink:type=\"simple\"><rect fill=\"#FFFFFF\" height=\"40\" id=\"E6\" rx=\"10\" ry=\"10\" style=\"stroke:#383838;stroke-width:1.5;\" width=\"50\" x=\"137\" y=\"90.5\"/><text fill=\"#000000\" font-family=\"sans-serif\" font-size=\"14\" lengthAdjust=\"spacing\" textLength=\"25\" x=\"149.5\" y=\"108.4951\">x: A</text></a></g><!--MD5=[15ebcb19ae302d9b601edb458606d402]\n",
       "link E5 to E2--><g id=\"link_E5_E2\"><a href=\"psysml:0b7a29bb-3729-45f6-9ea2-8894bf23e053\" target=\"_top\" title=\"psysml:0b7a29bb-3729-45f6-9ea2-8894bf23e053\" xlink:actuate=\"onRequest\" xlink:href=\"psysml:0b7a29bb-3729-45f6-9ea2-8894bf23e053\" xlink:show=\"new\" xlink:title=\"psysml:0b7a29bb-3729-45f6-9ea2-8894bf23e053\" xlink:type=\"simple\"><path d=\"M76.15,137.33 C74.9,148.64 73.3475,162.6906 71.7172,177.448 C70.902,184.8266 70.0674,192.382 69.2414,199.8598 C69.035,201.7292 68.829,203.5938 68.624,205.4496 C68.5215,206.3775 68.4193,207.3032 68.3173,208.2262 C68.2664,208.6877 68.2155,209.1485 68.1647,209.6086 \" fill=\"none\" id=\"E5-to-E2\" style=\"stroke:#181818;stroke-width:1.0;stroke-dasharray:7.0,7.0;\"/><polygon fill=\"#181818\" points=\"68.1647,209.6086,73.1285,201.1021,68.7136,204.6388,65.1769,200.2238,68.1647,209.6086\" style=\"stroke:#181818;stroke-width:1.0;\"/><text fill=\"#000000\" font-family=\"sans-serif\" font-size=\"13\" lengthAdjust=\"spacing\" textLength=\"65\" x=\"73\" y=\"182.0669\">«import»*</text></a></g><!--MD5=[a717450b82c80b9240a525fa862496af]\n",
       "link E6 to E3--><g id=\"link_E6_E3\"><a href=\"psysml:d6b7e27f-bd18-4212-9fb0-b02d6224d86d\" target=\"_top\" title=\"psysml:d6b7e27f-bd18-4212-9fb0-b02d6224d86d\" xlink:actuate=\"onRequest\" xlink:href=\"psysml:d6b7e27f-bd18-4212-9fb0-b02d6224d86d\" xlink:show=\"new\" xlink:title=\"psysml:d6b7e27f-bd18-4212-9fb0-b02d6224d86d\" xlink:type=\"simple\"><path d=\"M158.73,130.52 C154.46,155.41 146.85,199.72 141.19,232.64 \" fill=\"none\" id=\"E6-to-E3\" style=\"stroke:#181818;stroke-width:1.0;\"/><polygon fill=\"#FFFFFF\" points=\"137.73,252.76,134.047,232.8493,147.845,235.219,137.73,252.76\" style=\"stroke:#181818;stroke-width:1.0;\"/><ellipse cx=\"136.9829\" cy=\"227.5701\" fill=\"#181818\" rx=\"2\" ry=\"2\" style=\"stroke:#181818;stroke-width:1.0;\"/><ellipse cx=\"146.8386\" cy=\"229.2627\" fill=\"#181818\" rx=\"2\" ry=\"2\" style=\"stroke:#181818;stroke-width:1.0;\"/></a></g><!--MD5=[d1b054724208f8ac25cb360e4cc131ed]\n",
       "@startuml\r\n",
       "skin sysmlbw\r\n",
       "skinparam monochrome true\r\n",
       "skinparam wrapWidth 300\r\n",
       "hide circle\r\n",
       "top to bottom direction\r\n",
       "skinparam ranksep 10\r\n",
       "skinparam rectangle {\r\n",
       " backgroundColor<<block>> LightGreen\r\n",
       "}\r\n",
       "\r\n",
       "package \"QualifiedNameImportTest\" as E1  [[psysml:c4b7552d-b9f7-430e-8774-a992809b5587 ]]  {\r\n",
       "package \"P1\" as E2  [[psysml:50965905-a474-4117-8075-2a307b415370 ]]  {\r\n",
       "rec def \"A\" as E3  <<(T,blue) part  def>> [[psysml:7bcd0150-a304-4bd6-beeb-4a591e07f43e ]] {\r\n",
       "}\r\n",
       "}\r\n",
       "package \"P2\" as E4  [[psysml:baf5ed1e-c4c1-4a5d-ad5e-204bd26a43d4 ]]  {\r\n",
       "package \"P2a\" as E5  [[psysml:70275c95-cc90-4a8f-9ab9-2df7f67b6861 ]]  {\r\n",
       "}\r\n",
       "rec usage \"x: A\" as E6 [[psysml:1e68c641-a483-45d8-8926-6ab40309dfc3 ]] {\r\n",
       "}\r\n",
       "}\r\n",
       "}\r\n",
       "E5 ..> E2 [[psysml:0b7a29bb-3729-45f6-9ea2-8894bf23e053 ]] : <<import>>*\r\n",
       "E6 - -:|> E3 [[psysml:d6b7e27f-bd18-4212-9fb0-b02d6224d86d ]] \r\n",
       "@enduml\r\n",
       "\n",
       "PlantUML version 1.2022.7(Mon Aug 22 17:01:30 UTC 2022)\n",
       "(EPL source distribution)\n",
       "Java Runtime: OpenJDK Runtime Environment\n",
       "JVM: OpenJDK 64-Bit Server VM\n",
       "Default Encoding: UTF-8\n",
       "Language: en\n",
       "Country: null\n",
       "--></g></svg>"
      ]
     },
     "execution_count": 47,
     "metadata": {},
     "output_type": "execute_result"
    }
   ],
   "source": [
    "%viz --style=\"TB\" --view=\"Interconnection\" \"QualifiedNameImportTest\""
   ]
  },
  {
   "cell_type": "code",
   "execution_count": 48,
   "id": "1ad0f92f",
   "metadata": {
    "execution": {
     "iopub.execute_input": "2024-12-16T03:25:44.212170Z",
     "iopub.status.busy": "2024-12-16T03:25:44.211943Z",
     "iopub.status.idle": "2024-12-16T03:25:44.216325Z",
     "shell.execute_reply": "2024-12-16T03:25:44.216148Z"
    }
   },
   "outputs": [
    {
     "data": {
      "image/svg+xml": [
       "<?xml version=\"1.0\" encoding=\"UTF-8\" standalone=\"no\"?><svg xmlns=\"http://www.w3.org/2000/svg\" xmlns:xlink=\"http://www.w3.org/1999/xlink\" contentStyleType=\"text/css\" height=\"10px\" preserveAspectRatio=\"none\" style=\"width:10px;height:10px;background:#FFFFFF;\" version=\"1.1\" viewBox=\"0 0 10 10\" width=\"10px\" zoomAndPan=\"magnify\"><defs/><g><!--MD5=[c8dde5d066d102a500cd081cce1d9948]\n",
       "@startuml\r\n",
       "skin sysmlbw\r\n",
       "skinparam monochrome true\r\n",
       "skinparam wrapWidth 300\r\n",
       "hide circle\r\n",
       "top to bottom direction\r\n",
       "skinparam ranksep 8\r\n",
       "\r\n",
       "@enduml\r\n",
       "\n",
       "PlantUML version 1.2022.7(Mon Aug 22 17:01:30 UTC 2022)\n",
       "(EPL source distribution)\n",
       "Java Runtime: OpenJDK Runtime Environment\n",
       "JVM: OpenJDK 64-Bit Server VM\n",
       "Default Encoding: UTF-8\n",
       "Language: en\n",
       "Country: null\n",
       "--></g></svg>"
      ]
     },
     "execution_count": 48,
     "metadata": {},
     "output_type": "execute_result"
    }
   ],
   "source": [
    "%viz --style=\"TB\" --view=\"Action\" \"QualifiedNameImportTest\""
   ]
  },
  {
   "cell_type": "code",
   "execution_count": 49,
   "id": "37a4cb1c",
   "metadata": {
    "execution": {
     "iopub.execute_input": "2024-12-16T03:25:44.268929Z",
     "iopub.status.busy": "2024-12-16T03:25:44.268661Z",
     "iopub.status.idle": "2024-12-16T03:25:44.273391Z",
     "shell.execute_reply": "2024-12-16T03:25:44.273201Z"
    }
   },
   "outputs": [
    {
     "data": {
      "image/svg+xml": [
       "<?xml version=\"1.0\" encoding=\"UTF-8\" standalone=\"no\"?><svg xmlns=\"http://www.w3.org/2000/svg\" xmlns:xlink=\"http://www.w3.org/1999/xlink\" contentStyleType=\"text/css\" height=\"10px\" preserveAspectRatio=\"none\" style=\"width:10px;height:10px;background:#FFFFFF;\" version=\"1.1\" viewBox=\"0 0 10 10\" width=\"10px\" zoomAndPan=\"magnify\"><defs/><g><!--MD5=[228a58293b408a2cee091b1559da5a28]\n",
       "@startuml\r\n",
       "skin sysmlbw\r\n",
       "skinparam monochrome true\r\n",
       "skinparam wrapWidth 300\r\n",
       "hide circle\r\n",
       "top to bottom direction\r\n",
       "skinparam roundcorner 20\r\n",
       "skinparam BoxPadding 20\r\n",
       "skinparam SequenceBoxBackgroundColor #white\r\n",
       "skinparam style strictuml\r\n",
       "skinparam maxMessageSize 100\r\n",
       "\r\n",
       "@enduml\r\n",
       "\n",
       "PlantUML version 1.2022.7(Mon Aug 22 17:01:30 UTC 2022)\n",
       "(EPL source distribution)\n",
       "Java Runtime: OpenJDK Runtime Environment\n",
       "JVM: OpenJDK 64-Bit Server VM\n",
       "Default Encoding: UTF-8\n",
       "Language: en\n",
       "Country: null\n",
       "--></g></svg>"
      ]
     },
     "execution_count": 49,
     "metadata": {},
     "output_type": "execute_result"
    }
   ],
   "source": [
    "%viz --style=\"TB\" --view=\"Sequence\" \"QualifiedNameImportTest\""
   ]
  },
  {
   "cell_type": "code",
   "execution_count": 50,
   "id": "1e4d795b",
   "metadata": {
    "execution": {
     "iopub.execute_input": "2024-12-16T03:25:44.329215Z",
     "iopub.status.busy": "2024-12-16T03:25:44.328996Z",
     "iopub.status.idle": "2024-12-16T03:25:44.347024Z",
     "shell.execute_reply": "2024-12-16T03:25:44.345921Z"
    }
   },
   "outputs": [
    {
     "data": {
      "image/svg+xml": [
       "<?xml version=\"1.0\" encoding=\"UTF-8\" standalone=\"no\"?><svg xmlns=\"http://www.w3.org/2000/svg\" xmlns:xlink=\"http://www.w3.org/1999/xlink\" contentStyleType=\"text/css\" height=\"364px\" preserveAspectRatio=\"none\" style=\"width:239px;height:364px;background:#FFFFFF;\" version=\"1.1\" viewBox=\"0 0 239 364\" width=\"239px\" zoomAndPan=\"magnify\"><defs/><g><!--MD5=[fbc87193dbaf4d95561dea2c320d4a47]\n",
       "cluster E1--><g id=\"cluster_E1\"><a href=\"psysml:c4b7552d-b9f7-430e-8774-a992809b5587\" target=\"_top\" title=\"psysml:c4b7552d-b9f7-430e-8774-a992809b5587\" xlink:actuate=\"onRequest\" xlink:href=\"psysml:c4b7552d-b9f7-430e-8774-a992809b5587\" xlink:show=\"new\" xlink:title=\"psysml:c4b7552d-b9f7-430e-8774-a992809b5587\" xlink:type=\"simple\"><polygon fill=\"none\" points=\"16,6,206.0625,6,213.0625,28.2969,219,28.2969,219,357,16,357,16,6\" style=\"stroke:#000000;stroke-width:1.5;\"/><line style=\"stroke:#000000;stroke-width:1.5;\" x1=\"16\" x2=\"213.0625\" y1=\"28.2969\" y2=\"28.2969\"/><text fill=\"#000000\" font-family=\"sans-serif\" font-size=\"14\" font-weight=\"bold\" lengthAdjust=\"spacing\" textLength=\"184.0625\" x=\"20\" y=\"20.9951\">QualifiedNameImportTest</text></a></g><!--MD5=[e4f7fae6ed58524ba242bb0b0d3be6b7]\n",
       "cluster E2--><g id=\"cluster_E2\"><a href=\"psysml:50965905-a474-4117-8075-2a307b415370\" target=\"_top\" title=\"psysml:50965905-a474-4117-8075-2a307b415370\" xlink:actuate=\"onRequest\" xlink:href=\"psysml:50965905-a474-4117-8075-2a307b415370\" xlink:show=\"new\" xlink:title=\"psysml:50965905-a474-4117-8075-2a307b415370\" xlink:type=\"simple\"><polygon fill=\"none\" points=\"48,210,72.875,210,79.875,232.2969,185,232.2969,185,325,48,325,48,210\" style=\"stroke:#000000;stroke-width:1.5;\"/><line style=\"stroke:#000000;stroke-width:1.5;\" x1=\"48\" x2=\"79.875\" y1=\"232.2969\" y2=\"232.2969\"/><text fill=\"#000000\" font-family=\"sans-serif\" font-size=\"14\" font-weight=\"bold\" lengthAdjust=\"spacing\" textLength=\"18.875\" x=\"52\" y=\"224.9951\">P1</text></a></g><!--MD5=[f6df4d0ebaf0b5dfb2ced0ae5af7c670]\n",
       "cluster E4--><g id=\"cluster_E4\"><a href=\"psysml:baf5ed1e-c4c1-4a5d-ad5e-204bd26a43d4\" target=\"_top\" title=\"psysml:baf5ed1e-c4c1-4a5d-ad5e-204bd26a43d4\" xlink:actuate=\"onRequest\" xlink:href=\"psysml:baf5ed1e-c4c1-4a5d-ad5e-204bd26a43d4\" xlink:show=\"new\" xlink:title=\"psysml:baf5ed1e-c4c1-4a5d-ad5e-204bd26a43d4\" xlink:type=\"simple\"><polygon fill=\"none\" points=\"40,49,64.875,49,71.875,71.2969,195,71.2969,195,153,40,153,40,49\" style=\"stroke:#000000;stroke-width:1.5;\"/><line style=\"stroke:#000000;stroke-width:1.5;\" x1=\"40\" x2=\"71.875\" y1=\"71.2969\" y2=\"71.2969\"/><text fill=\"#000000\" font-family=\"sans-serif\" font-size=\"14\" font-weight=\"bold\" lengthAdjust=\"spacing\" textLength=\"18.875\" x=\"44\" y=\"63.9951\">P2</text></a></g><!--MD5=[09b614a08d8cba4a07c9adeb5e0fee81]\n",
       "class E3--><a href=\"psysml:7bcd0150-a304-4bd6-beeb-4a591e07f43e\" target=\"_top\" title=\"psysml:7bcd0150-a304-4bd6-beeb-4a591e07f43e\" xlink:actuate=\"onRequest\" xlink:href=\"psysml:7bcd0150-a304-4bd6-beeb-4a591e07f43e\" xlink:show=\"new\" xlink:title=\"psysml:7bcd0150-a304-4bd6-beeb-4a591e07f43e\" xlink:type=\"simple\"><g id=\"elem_E3\"><rect fill=\"#FFFFFF\" height=\"48.2656\" id=\"E3\" style=\"stroke:#181818;stroke-width:0.5;\" width=\"70\" x=\"72\" y=\"253\"/><text fill=\"#000000\" font-family=\"sans-serif\" font-size=\"12\" font-style=\"italic\" lengthAdjust=\"spacing\" textLength=\"68\" x=\"73\" y=\"269.1387\">«part  def»</text><text fill=\"#000000\" font-family=\"sans-serif\" font-size=\"14\" lengthAdjust=\"spacing\" textLength=\"9\" x=\"102.5\" y=\"284.9639\">A</text><line style=\"stroke:#181818;stroke-width:0.5;\" x1=\"73\" x2=\"141\" y1=\"293.2656\" y2=\"293.2656\"/></g></a><!--MD5=[60a26617385b1d2d0262a64233df1f8d]\n",
       "class E6--><a href=\"psysml:1e68c641-a483-45d8-8926-6ab40309dfc3\" target=\"_top\" title=\"psysml:1e68c641-a483-45d8-8926-6ab40309dfc3\" xlink:actuate=\"onRequest\" xlink:href=\"psysml:1e68c641-a483-45d8-8926-6ab40309dfc3\" xlink:show=\"new\" xlink:title=\"psysml:1e68c641-a483-45d8-8926-6ab40309dfc3\" xlink:type=\"simple\"><g id=\"elem_E6\"><rect fill=\"#FFFFFF\" height=\"48.2656\" id=\"E6\" rx=\"10\" ry=\"10\" style=\"stroke:#181818;stroke-width:0.5;\" width=\"42\" x=\"56\" y=\"86.5\"/><text fill=\"#000000\" font-family=\"sans-serif\" font-size=\"12\" font-style=\"italic\" lengthAdjust=\"spacing\" textLength=\"40\" x=\"57\" y=\"102.6387\">«part»</text><text fill=\"#000000\" font-family=\"sans-serif\" font-size=\"14\" lengthAdjust=\"spacing\" textLength=\"25\" x=\"60.5\" y=\"118.4639\">x: A</text><line style=\"stroke:#181818;stroke-width:0.5;\" x1=\"57\" x2=\"97\" y1=\"126.7656\" y2=\"126.7656\"/></g></a><a href=\"psysml:70275c95-cc90-4a8f-9ab9-2df7f67b6861\" target=\"_top\" title=\"psysml:70275c95-cc90-4a8f-9ab9-2df7f67b6861\" xlink:actuate=\"onRequest\" xlink:href=\"psysml:70275c95-cc90-4a8f-9ab9-2df7f67b6861\" xlink:show=\"new\" xlink:title=\"psysml:70275c95-cc90-4a8f-9ab9-2df7f67b6861\" xlink:type=\"simple\"><polygon fill=\"#FFFFFF\" points=\"133,84,165,84,172,106.2969,179,106.2969,179,136.5938,133,136.5938,133,84\" style=\"stroke:#181818;stroke-width:0.5;\"/><line style=\"stroke:#181818;stroke-width:0.5;\" x1=\"133\" x2=\"172\" y1=\"106.2969\" y2=\"106.2969\"/><text fill=\"#000000\" font-family=\"sans-serif\" font-size=\"14\" lengthAdjust=\"spacing\" textLength=\"26\" x=\"137\" y=\"98.9951\">P2a</text></a><!--MD5=[15ebcb19ae302d9b601edb458606d402]\n",
       "link E5 to E2--><g id=\"link_E5_E2\"><a href=\"psysml:0b7a29bb-3729-45f6-9ea2-8894bf23e053\" target=\"_top\" title=\"psysml:0b7a29bb-3729-45f6-9ea2-8894bf23e053\" xlink:actuate=\"onRequest\" xlink:href=\"psysml:0b7a29bb-3729-45f6-9ea2-8894bf23e053\" xlink:show=\"new\" xlink:title=\"psysml:0b7a29bb-3729-45f6-9ea2-8894bf23e053\" xlink:type=\"simple\"><path d=\"M159.28,137.2 C160.735,148.5875 162.5469,162.7762 164.4519,177.6978 C165.4044,185.1586 166.3802,192.8026 167.3463,200.3712 C167.5878,202.2634 167.8287,204.1508 168.0685,206.0295 C168.1884,206.9689 168.308,207.906 168.4273,208.8405 C168.4571,209.0741 168.4869,209.3076 168.5167,209.5408 \" fill=\"none\" id=\"E5-to-E2\" style=\"stroke:#181818;stroke-width:1.0;stroke-dasharray:7.0,7.0;\"/><polygon fill=\"#181818\" points=\"168.5167,209.5408,171.345,200.1068,167.8836,204.5811,163.4094,201.1197,168.5167,209.5408\" style=\"stroke:#181818;stroke-width:1.0;\"/><text fill=\"#000000\" font-family=\"sans-serif\" font-size=\"13\" lengthAdjust=\"spacing\" textLength=\"65\" x=\"166\" y=\"182.0669\">«import»*</text></a></g><!--MD5=[a717450b82c80b9240a525fa862496af]\n",
       "link E6 to E3--><g id=\"link_E6_E3\"><a href=\"psysml:d6b7e27f-bd18-4212-9fb0-b02d6224d86d\" target=\"_top\" title=\"psysml:d6b7e27f-bd18-4212-9fb0-b02d6224d86d\" xlink:actuate=\"onRequest\" xlink:href=\"psysml:d6b7e27f-bd18-4212-9fb0-b02d6224d86d\" xlink:show=\"new\" xlink:title=\"psysml:d6b7e27f-bd18-4212-9fb0-b02d6224d86d\" xlink:type=\"simple\"><path d=\"M81.23,134.72 C85.88,160.19 93.44,201.63 99.17,233.06 \" fill=\"none\" id=\"E6-to-E3\" style=\"stroke:#181818;stroke-width:1.0;\"/><polygon fill=\"#FFFFFF\" points=\"102.79,252.9,92.4985,235.462,106.2719,232.9532,102.79,252.9\" style=\"stroke:#181818;stroke-width:1.0;\"/><ellipse cx=\"93.4447\" cy=\"229.4958\" fill=\"#181818\" rx=\"2\" ry=\"2\" style=\"stroke:#181818;stroke-width:1.0;\"/><ellipse cx=\"103.2828\" cy=\"227.7038\" fill=\"#181818\" rx=\"2\" ry=\"2\" style=\"stroke:#181818;stroke-width:1.0;\"/></a></g><!--MD5=[cd8927d1f1298119a9a36ed7bba7e6d1]\n",
       "@startuml\r\n",
       "skin sysmlbw\r\n",
       "skinparam monochrome true\r\n",
       "skinparam wrapWidth 300\r\n",
       "hide circle\r\n",
       "top to bottom direction\r\n",
       "\r\n",
       "package \"QualifiedNameImportTest\" as E1  [[psysml:c4b7552d-b9f7-430e-8774-a992809b5587 ]]  {\r\n",
       "package \"P1\" as E2  [[psysml:50965905-a474-4117-8075-2a307b415370 ]]  {\r\n",
       "comp def \"A\" as E3  <<(T,blue) part  def>> [[psysml:7bcd0150-a304-4bd6-beeb-4a591e07f43e ]] {\r\n",
       "}\r\n",
       "}\r\n",
       "package \"P2\" as E4  [[psysml:baf5ed1e-c4c1-4a5d-ad5e-204bd26a43d4 ]]  {\r\n",
       "package \"P2a\" as E5  [[psysml:70275c95-cc90-4a8f-9ab9-2df7f67b6861 ]]  {\r\n",
       "}\r\n",
       "comp usage \"x: A  \" as E6  <<(T,blue) part>> [[psysml:1e68c641-a483-45d8-8926-6ab40309dfc3 ]] {\r\n",
       "}\r\n",
       "}\r\n",
       "}\r\n",
       "E5 ..> E2 [[psysml:0b7a29bb-3729-45f6-9ea2-8894bf23e053 ]] : <<import>>*\r\n",
       "E6 - -:|> E3 [[psysml:d6b7e27f-bd18-4212-9fb0-b02d6224d86d ]] \r\n",
       "@enduml\r\n",
       "\n",
       "PlantUML version 1.2022.7(Mon Aug 22 17:01:30 UTC 2022)\n",
       "(EPL source distribution)\n",
       "Java Runtime: OpenJDK Runtime Environment\n",
       "JVM: OpenJDK 64-Bit Server VM\n",
       "Default Encoding: UTF-8\n",
       "Language: en\n",
       "Country: null\n",
       "--></g></svg>"
      ]
     },
     "execution_count": 50,
     "metadata": {},
     "output_type": "execute_result"
    }
   ],
   "source": [
    "%viz --style=\"TB\" --view=\"MIXED\" \"QualifiedNameImportTest\""
   ]
  },
  {
   "cell_type": "code",
   "execution_count": 51,
   "id": "9e12ba1c",
   "metadata": {
    "execution": {
     "iopub.execute_input": "2024-12-16T03:25:44.401823Z",
     "iopub.status.busy": "2024-12-16T03:25:44.401571Z",
     "iopub.status.idle": "2024-12-16T03:25:44.416459Z",
     "shell.execute_reply": "2024-12-16T03:25:44.415718Z"
    }
   },
   "outputs": [
    {
     "data": {
      "image/svg+xml": [
       "<?xml version=\"1.0\" encoding=\"UTF-8\" standalone=\"no\"?><svg xmlns=\"http://www.w3.org/2000/svg\" xmlns:xlink=\"http://www.w3.org/1999/xlink\" contentStyleType=\"text/css\" height=\"339px\" preserveAspectRatio=\"none\" style=\"width:251px;height:339px;background:#FFFFFF;\" version=\"1.1\" viewBox=\"0 0 251 339\" width=\"251px\" zoomAndPan=\"magnify\"><defs/><g><!--MD5=[fbc87193dbaf4d95561dea2c320d4a47]\n",
       "cluster E1--><g id=\"cluster_E1\"><a href=\"psysml:c4b7552d-b9f7-430e-8774-a992809b5587\" target=\"_top\" title=\"psysml:c4b7552d-b9f7-430e-8774-a992809b5587\" xlink:actuate=\"onRequest\" xlink:href=\"psysml:c4b7552d-b9f7-430e-8774-a992809b5587\" xlink:show=\"new\" xlink:title=\"psysml:c4b7552d-b9f7-430e-8774-a992809b5587\" xlink:type=\"simple\"><polygon fill=\"none\" points=\"31,6,221.0625,6,228.0625,28.2969,234,28.2969,234,332,31,332,31,6\" style=\"stroke:#000000;stroke-width:1.5;\"/><line style=\"stroke:#000000;stroke-width:1.5;\" x1=\"31\" x2=\"228.0625\" y1=\"28.2969\" y2=\"28.2969\"/><text fill=\"#000000\" font-family=\"sans-serif\" font-size=\"14\" font-weight=\"bold\" lengthAdjust=\"spacing\" textLength=\"184.0625\" x=\"35\" y=\"20.9951\">QualifiedNameImportTest</text></a></g><!--MD5=[e4f7fae6ed58524ba242bb0b0d3be6b7]\n",
       "cluster E2--><g id=\"cluster_E2\"><a href=\"psysml:50965905-a474-4117-8075-2a307b415370\" target=\"_top\" title=\"psysml:50965905-a474-4117-8075-2a307b415370\" xlink:actuate=\"onRequest\" xlink:href=\"psysml:50965905-a474-4117-8075-2a307b415370\" xlink:show=\"new\" xlink:title=\"psysml:50965905-a474-4117-8075-2a307b415370\" xlink:type=\"simple\"><polygon fill=\"none\" points=\"65,185,89.875,185,96.875,207.2969,202,207.2969,202,300,65,300,65,185\" style=\"stroke:#000000;stroke-width:1.5;\"/><line style=\"stroke:#000000;stroke-width:1.5;\" x1=\"65\" x2=\"96.875\" y1=\"207.2969\" y2=\"207.2969\"/><text fill=\"#000000\" font-family=\"sans-serif\" font-size=\"14\" font-weight=\"bold\" lengthAdjust=\"spacing\" textLength=\"18.875\" x=\"69\" y=\"199.9951\">P1</text></a></g><!--MD5=[f6df4d0ebaf0b5dfb2ced0ae5af7c670]\n",
       "cluster E4--><g id=\"cluster_E4\"><a href=\"psysml:baf5ed1e-c4c1-4a5d-ad5e-204bd26a43d4\" target=\"_top\" title=\"psysml:baf5ed1e-c4c1-4a5d-ad5e-204bd26a43d4\" xlink:actuate=\"onRequest\" xlink:href=\"psysml:baf5ed1e-c4c1-4a5d-ad5e-204bd26a43d4\" xlink:show=\"new\" xlink:title=\"psysml:baf5ed1e-c4c1-4a5d-ad5e-204bd26a43d4\" xlink:type=\"simple\"><polygon fill=\"none\" points=\"55,49,79.875,49,86.875,71.2969,210,71.2969,210,153,55,153,55,49\" style=\"stroke:#000000;stroke-width:1.5;\"/><line style=\"stroke:#000000;stroke-width:1.5;\" x1=\"55\" x2=\"86.875\" y1=\"71.2969\" y2=\"71.2969\"/><text fill=\"#000000\" font-family=\"sans-serif\" font-size=\"14\" font-weight=\"bold\" lengthAdjust=\"spacing\" textLength=\"18.875\" x=\"59\" y=\"63.9951\">P2</text></a></g><!--MD5=[09b614a08d8cba4a07c9adeb5e0fee81]\n",
       "class E3--><a href=\"psysml:7bcd0150-a304-4bd6-beeb-4a591e07f43e\" target=\"_top\" title=\"psysml:7bcd0150-a304-4bd6-beeb-4a591e07f43e\" xlink:actuate=\"onRequest\" xlink:href=\"psysml:7bcd0150-a304-4bd6-beeb-4a591e07f43e\" xlink:show=\"new\" xlink:title=\"psysml:7bcd0150-a304-4bd6-beeb-4a591e07f43e\" xlink:type=\"simple\"><g id=\"elem_E3\"><rect fill=\"#FFFFFF\" height=\"48.2656\" id=\"E3\" style=\"stroke:#181818;stroke-width:0.5;\" width=\"70\" x=\"108\" y=\"228\"/><text fill=\"#000000\" font-family=\"sans-serif\" font-size=\"12\" font-style=\"italic\" lengthAdjust=\"spacing\" textLength=\"68\" x=\"109\" y=\"244.1387\">«part  def»</text><text fill=\"#000000\" font-family=\"sans-serif\" font-size=\"14\" lengthAdjust=\"spacing\" textLength=\"9\" x=\"138.5\" y=\"259.9639\">A</text><line style=\"stroke:#181818;stroke-width:0.5;\" x1=\"109\" x2=\"177\" y1=\"268.2656\" y2=\"268.2656\"/></g></a><!--MD5=[60a26617385b1d2d0262a64233df1f8d]\n",
       "class E6--><a href=\"psysml:1e68c641-a483-45d8-8926-6ab40309dfc3\" target=\"_top\" title=\"psysml:1e68c641-a483-45d8-8926-6ab40309dfc3\" xlink:actuate=\"onRequest\" xlink:href=\"psysml:1e68c641-a483-45d8-8926-6ab40309dfc3\" xlink:show=\"new\" xlink:title=\"psysml:1e68c641-a483-45d8-8926-6ab40309dfc3\" xlink:type=\"simple\"><g id=\"elem_E6\"><rect fill=\"#FFFFFF\" height=\"48.2656\" id=\"E6\" rx=\"10\" ry=\"10\" style=\"stroke:#181818;stroke-width:0.5;\" width=\"42\" x=\"152\" y=\"86.5\"/><text fill=\"#000000\" font-family=\"sans-serif\" font-size=\"12\" font-style=\"italic\" lengthAdjust=\"spacing\" textLength=\"40\" x=\"153\" y=\"102.6387\">«part»</text><text fill=\"#000000\" font-family=\"sans-serif\" font-size=\"14\" lengthAdjust=\"spacing\" textLength=\"25\" x=\"156.5\" y=\"118.4639\">x: A</text><line style=\"stroke:#181818;stroke-width:0.5;\" x1=\"153\" x2=\"193\" y1=\"126.7656\" y2=\"126.7656\"/></g></a><a href=\"psysml:70275c95-cc90-4a8f-9ab9-2df7f67b6861\" target=\"_top\" title=\"psysml:70275c95-cc90-4a8f-9ab9-2df7f67b6861\" xlink:actuate=\"onRequest\" xlink:href=\"psysml:70275c95-cc90-4a8f-9ab9-2df7f67b6861\" xlink:show=\"new\" xlink:title=\"psysml:70275c95-cc90-4a8f-9ab9-2df7f67b6861\" xlink:type=\"simple\"><polygon fill=\"#FFFFFF\" points=\"71,84,103,84,110,106.2969,117,106.2969,117,136.5938,71,136.5938,71,84\" style=\"stroke:#181818;stroke-width:0.5;\"/><line style=\"stroke:#181818;stroke-width:0.5;\" x1=\"71\" x2=\"110\" y1=\"106.2969\" y2=\"106.2969\"/><text fill=\"#000000\" font-family=\"sans-serif\" font-size=\"14\" lengthAdjust=\"spacing\" textLength=\"26\" x=\"75\" y=\"98.9951\">P2a</text></a><!--MD5=[15ebcb19ae302d9b601edb458606d402]\n",
       "link E5 to E2--><g id=\"link_E5_E2\"><a href=\"psysml:0b7a29bb-3729-45f6-9ea2-8894bf23e053\" target=\"_top\" title=\"psysml:0b7a29bb-3729-45f6-9ea2-8894bf23e053\" xlink:actuate=\"onRequest\" xlink:href=\"psysml:0b7a29bb-3729-45f6-9ea2-8894bf23e053\" xlink:show=\"new\" xlink:title=\"psysml:0b7a29bb-3729-45f6-9ea2-8894bf23e053\" xlink:type=\"simple\"><path d=\"M73,137.12 C73,146.885 73,158.5188 73,170.5763 C73,173.5906 73,176.6315 73,179.6763 C73,181.1986 73,182.722 73,184.2435 C73,184.4337 73,184.6239 73,184.814 \" fill=\"none\" id=\"E5-to-E2\" style=\"stroke:#181818;stroke-width:1.0;stroke-dasharray:7.0,7.0;\"/><polygon fill=\"#181818\" points=\"73,184.814,77,175.814,73,179.814,69,175.814,73,184.814\" style=\"stroke:#181818;stroke-width:1.0;\"/><text fill=\"#000000\" font-family=\"sans-serif\" font-size=\"13\" lengthAdjust=\"spacing\" textLength=\"65\" x=\"7\" y=\"190.3869\">«import»*</text></a></g><!--MD5=[a717450b82c80b9240a525fa862496af]\n",
       "link E6 to E3--><g id=\"link_E6_E3\"><a href=\"psysml:d6b7e27f-bd18-4212-9fb0-b02d6224d86d\" target=\"_top\" title=\"psysml:d6b7e27f-bd18-4212-9fb0-b02d6224d86d\" xlink:actuate=\"onRequest\" xlink:href=\"psysml:d6b7e27f-bd18-4212-9fb0-b02d6224d86d\" xlink:show=\"new\" xlink:title=\"psysml:d6b7e27f-bd18-4212-9fb0-b02d6224d86d\" xlink:type=\"simple\"><path d=\"M165,134.5 C165,134.5 165,207.88 165,207.88 \" fill=\"none\" id=\"E6-to-E3\" style=\"stroke:#181818;stroke-width:1.0;\"/><polygon fill=\"#FFFFFF\" points=\"165,227.88,158,208.88,172,208.88,165,227.88\" style=\"stroke:#181818;stroke-width:1.0;\"/><ellipse cx=\"160\" cy=\"203.18\" fill=\"#181818\" rx=\"2\" ry=\"2\" style=\"stroke:#181818;stroke-width:1.0;\"/><ellipse cx=\"170\" cy=\"203.18\" fill=\"#181818\" rx=\"2\" ry=\"2\" style=\"stroke:#181818;stroke-width:1.0;\"/></a></g><!--MD5=[d833f659376d9623c4676ec99c83d230]\n",
       "@startuml\r\n",
       "skin sysmlbw\r\n",
       "skinparam monochrome true\r\n",
       "skinparam wrapWidth 300\r\n",
       "hide circle\r\n",
       "skinparam linetype ortho\r\n",
       "\r\n",
       "package \"QualifiedNameImportTest\" as E1  [[psysml:c4b7552d-b9f7-430e-8774-a992809b5587 ]]  {\r\n",
       "package \"P1\" as E2  [[psysml:50965905-a474-4117-8075-2a307b415370 ]]  {\r\n",
       "comp def \"A\" as E3  <<(T,blue) part  def>> [[psysml:7bcd0150-a304-4bd6-beeb-4a591e07f43e ]] {\r\n",
       "}\r\n",
       "}\r\n",
       "package \"P2\" as E4  [[psysml:baf5ed1e-c4c1-4a5d-ad5e-204bd26a43d4 ]]  {\r\n",
       "package \"P2a\" as E5  [[psysml:70275c95-cc90-4a8f-9ab9-2df7f67b6861 ]]  {\r\n",
       "}\r\n",
       "comp usage \"x: A  \" as E6  <<(T,blue) part>> [[psysml:1e68c641-a483-45d8-8926-6ab40309dfc3 ]] {\r\n",
       "}\r\n",
       "}\r\n",
       "}\r\n",
       "E5 ..> E2 [[psysml:0b7a29bb-3729-45f6-9ea2-8894bf23e053 ]] : <<import>>*\r\n",
       "E6 - -:|> E3 [[psysml:d6b7e27f-bd18-4212-9fb0-b02d6224d86d ]] \r\n",
       "@enduml\r\n",
       "\n",
       "PlantUML version 1.2022.7(Mon Aug 22 17:01:30 UTC 2022)\n",
       "(EPL source distribution)\n",
       "Java Runtime: OpenJDK Runtime Environment\n",
       "JVM: OpenJDK 64-Bit Server VM\n",
       "Default Encoding: UTF-8\n",
       "Language: en\n",
       "Country: null\n",
       "--></g></svg>"
      ]
     },
     "execution_count": 51,
     "metadata": {},
     "output_type": "execute_result"
    }
   ],
   "source": [
    "%viz --style=\"ORTHOLINE\" --view=\"Default\" \"QualifiedNameImportTest\""
   ]
  },
  {
   "cell_type": "code",
   "execution_count": 52,
   "id": "8d7ce215",
   "metadata": {
    "execution": {
     "iopub.execute_input": "2024-12-16T03:25:44.469062Z",
     "iopub.status.busy": "2024-12-16T03:25:44.468831Z",
     "iopub.status.idle": "2024-12-16T03:25:44.483611Z",
     "shell.execute_reply": "2024-12-16T03:25:44.482696Z"
    }
   },
   "outputs": [
    {
     "data": {
      "image/svg+xml": [
       "<?xml version=\"1.0\" encoding=\"UTF-8\" standalone=\"no\"?><svg xmlns=\"http://www.w3.org/2000/svg\" xmlns:xlink=\"http://www.w3.org/1999/xlink\" contentStyleType=\"text/css\" height=\"339px\" preserveAspectRatio=\"none\" style=\"width:251px;height:339px;background:#FFFFFF;\" version=\"1.1\" viewBox=\"0 0 251 339\" width=\"251px\" zoomAndPan=\"magnify\"><defs/><g><!--MD5=[fbc87193dbaf4d95561dea2c320d4a47]\n",
       "cluster E1--><g id=\"cluster_E1\"><a href=\"psysml:c4b7552d-b9f7-430e-8774-a992809b5587\" target=\"_top\" title=\"psysml:c4b7552d-b9f7-430e-8774-a992809b5587\" xlink:actuate=\"onRequest\" xlink:href=\"psysml:c4b7552d-b9f7-430e-8774-a992809b5587\" xlink:show=\"new\" xlink:title=\"psysml:c4b7552d-b9f7-430e-8774-a992809b5587\" xlink:type=\"simple\"><polygon fill=\"none\" points=\"31,6,221.0625,6,228.0625,28.2969,234,28.2969,234,332,31,332,31,6\" style=\"stroke:#000000;stroke-width:1.5;\"/><line style=\"stroke:#000000;stroke-width:1.5;\" x1=\"31\" x2=\"228.0625\" y1=\"28.2969\" y2=\"28.2969\"/><text fill=\"#000000\" font-family=\"sans-serif\" font-size=\"14\" font-weight=\"bold\" lengthAdjust=\"spacing\" textLength=\"184.0625\" x=\"35\" y=\"20.9951\">QualifiedNameImportTest</text></a></g><!--MD5=[e4f7fae6ed58524ba242bb0b0d3be6b7]\n",
       "cluster E2--><g id=\"cluster_E2\"><a href=\"psysml:50965905-a474-4117-8075-2a307b415370\" target=\"_top\" title=\"psysml:50965905-a474-4117-8075-2a307b415370\" xlink:actuate=\"onRequest\" xlink:href=\"psysml:50965905-a474-4117-8075-2a307b415370\" xlink:show=\"new\" xlink:title=\"psysml:50965905-a474-4117-8075-2a307b415370\" xlink:type=\"simple\"><polygon fill=\"none\" points=\"65,185,89.875,185,96.875,207.2969,202,207.2969,202,300,65,300,65,185\" style=\"stroke:#000000;stroke-width:1.5;\"/><line style=\"stroke:#000000;stroke-width:1.5;\" x1=\"65\" x2=\"96.875\" y1=\"207.2969\" y2=\"207.2969\"/><text fill=\"#000000\" font-family=\"sans-serif\" font-size=\"14\" font-weight=\"bold\" lengthAdjust=\"spacing\" textLength=\"18.875\" x=\"69\" y=\"199.9951\">P1</text></a></g><!--MD5=[f6df4d0ebaf0b5dfb2ced0ae5af7c670]\n",
       "cluster E4--><g id=\"cluster_E4\"><a href=\"psysml:baf5ed1e-c4c1-4a5d-ad5e-204bd26a43d4\" target=\"_top\" title=\"psysml:baf5ed1e-c4c1-4a5d-ad5e-204bd26a43d4\" xlink:actuate=\"onRequest\" xlink:href=\"psysml:baf5ed1e-c4c1-4a5d-ad5e-204bd26a43d4\" xlink:show=\"new\" xlink:title=\"psysml:baf5ed1e-c4c1-4a5d-ad5e-204bd26a43d4\" xlink:type=\"simple\"><polygon fill=\"none\" points=\"55,49,79.875,49,86.875,71.2969,210,71.2969,210,153,55,153,55,49\" style=\"stroke:#000000;stroke-width:1.5;\"/><line style=\"stroke:#000000;stroke-width:1.5;\" x1=\"55\" x2=\"86.875\" y1=\"71.2969\" y2=\"71.2969\"/><text fill=\"#000000\" font-family=\"sans-serif\" font-size=\"14\" font-weight=\"bold\" lengthAdjust=\"spacing\" textLength=\"18.875\" x=\"59\" y=\"63.9951\">P2</text></a></g><!--MD5=[09b614a08d8cba4a07c9adeb5e0fee81]\n",
       "class E3--><a href=\"psysml:7bcd0150-a304-4bd6-beeb-4a591e07f43e\" target=\"_top\" title=\"psysml:7bcd0150-a304-4bd6-beeb-4a591e07f43e\" xlink:actuate=\"onRequest\" xlink:href=\"psysml:7bcd0150-a304-4bd6-beeb-4a591e07f43e\" xlink:show=\"new\" xlink:title=\"psysml:7bcd0150-a304-4bd6-beeb-4a591e07f43e\" xlink:type=\"simple\"><g id=\"elem_E3\"><rect fill=\"#FFFFFF\" height=\"48.2656\" id=\"E3\" style=\"stroke:#181818;stroke-width:0.5;\" width=\"70\" x=\"108\" y=\"228\"/><text fill=\"#000000\" font-family=\"sans-serif\" font-size=\"12\" font-style=\"italic\" lengthAdjust=\"spacing\" textLength=\"68\" x=\"109\" y=\"244.1387\">«part  def»</text><text fill=\"#000000\" font-family=\"sans-serif\" font-size=\"14\" lengthAdjust=\"spacing\" textLength=\"9\" x=\"138.5\" y=\"259.9639\">A</text><line style=\"stroke:#181818;stroke-width:0.5;\" x1=\"109\" x2=\"177\" y1=\"268.2656\" y2=\"268.2656\"/></g></a><!--MD5=[60a26617385b1d2d0262a64233df1f8d]\n",
       "class E6--><a href=\"psysml:1e68c641-a483-45d8-8926-6ab40309dfc3\" target=\"_top\" title=\"psysml:1e68c641-a483-45d8-8926-6ab40309dfc3\" xlink:actuate=\"onRequest\" xlink:href=\"psysml:1e68c641-a483-45d8-8926-6ab40309dfc3\" xlink:show=\"new\" xlink:title=\"psysml:1e68c641-a483-45d8-8926-6ab40309dfc3\" xlink:type=\"simple\"><g id=\"elem_E6\"><rect fill=\"#FFFFFF\" height=\"48.2656\" id=\"E6\" rx=\"10\" ry=\"10\" style=\"stroke:#181818;stroke-width:0.5;\" width=\"42\" x=\"152\" y=\"86.5\"/><text fill=\"#000000\" font-family=\"sans-serif\" font-size=\"12\" font-style=\"italic\" lengthAdjust=\"spacing\" textLength=\"40\" x=\"153\" y=\"102.6387\">«part»</text><text fill=\"#000000\" font-family=\"sans-serif\" font-size=\"14\" lengthAdjust=\"spacing\" textLength=\"25\" x=\"156.5\" y=\"118.4639\">x: A</text><line style=\"stroke:#181818;stroke-width:0.5;\" x1=\"153\" x2=\"193\" y1=\"126.7656\" y2=\"126.7656\"/></g></a><a href=\"psysml:70275c95-cc90-4a8f-9ab9-2df7f67b6861\" target=\"_top\" title=\"psysml:70275c95-cc90-4a8f-9ab9-2df7f67b6861\" xlink:actuate=\"onRequest\" xlink:href=\"psysml:70275c95-cc90-4a8f-9ab9-2df7f67b6861\" xlink:show=\"new\" xlink:title=\"psysml:70275c95-cc90-4a8f-9ab9-2df7f67b6861\" xlink:type=\"simple\"><polygon fill=\"#FFFFFF\" points=\"71,84,103,84,110,106.2969,117,106.2969,117,136.5938,71,136.5938,71,84\" style=\"stroke:#181818;stroke-width:0.5;\"/><line style=\"stroke:#181818;stroke-width:0.5;\" x1=\"71\" x2=\"110\" y1=\"106.2969\" y2=\"106.2969\"/><text fill=\"#000000\" font-family=\"sans-serif\" font-size=\"14\" lengthAdjust=\"spacing\" textLength=\"26\" x=\"75\" y=\"98.9951\">P2a</text></a><!--MD5=[15ebcb19ae302d9b601edb458606d402]\n",
       "link E5 to E2--><g id=\"link_E5_E2\"><a href=\"psysml:0b7a29bb-3729-45f6-9ea2-8894bf23e053\" target=\"_top\" title=\"psysml:0b7a29bb-3729-45f6-9ea2-8894bf23e053\" xlink:actuate=\"onRequest\" xlink:href=\"psysml:0b7a29bb-3729-45f6-9ea2-8894bf23e053\" xlink:show=\"new\" xlink:title=\"psysml:0b7a29bb-3729-45f6-9ea2-8894bf23e053\" xlink:type=\"simple\"><path d=\"M73,137.12 C73,146.885 73,158.5188 73,170.5763 C73,173.5906 73,176.6315 73,179.6763 C73,181.1986 73,182.722 73,184.2435 C73,184.4337 73,184.6239 73,184.814 \" fill=\"none\" id=\"E5-to-E2\" style=\"stroke:#181818;stroke-width:1.0;stroke-dasharray:7.0,7.0;\"/><polygon fill=\"#181818\" points=\"73,184.814,77,175.814,73,179.814,69,175.814,73,184.814\" style=\"stroke:#181818;stroke-width:1.0;\"/><text fill=\"#000000\" font-family=\"sans-serif\" font-size=\"13\" lengthAdjust=\"spacing\" textLength=\"65\" x=\"7\" y=\"190.3869\">«import»*</text></a></g><!--MD5=[a717450b82c80b9240a525fa862496af]\n",
       "link E6 to E3--><g id=\"link_E6_E3\"><a href=\"psysml:d6b7e27f-bd18-4212-9fb0-b02d6224d86d\" target=\"_top\" title=\"psysml:d6b7e27f-bd18-4212-9fb0-b02d6224d86d\" xlink:actuate=\"onRequest\" xlink:href=\"psysml:d6b7e27f-bd18-4212-9fb0-b02d6224d86d\" xlink:show=\"new\" xlink:title=\"psysml:d6b7e27f-bd18-4212-9fb0-b02d6224d86d\" xlink:type=\"simple\"><path d=\"M165,134.5 C165,134.5 165,207.88 165,207.88 \" fill=\"none\" id=\"E6-to-E3\" style=\"stroke:#181818;stroke-width:1.0;\"/><polygon fill=\"#FFFFFF\" points=\"165,227.88,158,208.88,172,208.88,165,227.88\" style=\"stroke:#181818;stroke-width:1.0;\"/><ellipse cx=\"160\" cy=\"203.18\" fill=\"#181818\" rx=\"2\" ry=\"2\" style=\"stroke:#181818;stroke-width:1.0;\"/><ellipse cx=\"170\" cy=\"203.18\" fill=\"#181818\" rx=\"2\" ry=\"2\" style=\"stroke:#181818;stroke-width:1.0;\"/></a></g><!--MD5=[d833f659376d9623c4676ec99c83d230]\n",
       "@startuml\r\n",
       "skin sysmlbw\r\n",
       "skinparam monochrome true\r\n",
       "skinparam wrapWidth 300\r\n",
       "hide circle\r\n",
       "skinparam linetype ortho\r\n",
       "\r\n",
       "package \"QualifiedNameImportTest\" as E1  [[psysml:c4b7552d-b9f7-430e-8774-a992809b5587 ]]  {\r\n",
       "package \"P1\" as E2  [[psysml:50965905-a474-4117-8075-2a307b415370 ]]  {\r\n",
       "comp def \"A\" as E3  <<(T,blue) part  def>> [[psysml:7bcd0150-a304-4bd6-beeb-4a591e07f43e ]] {\r\n",
       "}\r\n",
       "}\r\n",
       "package \"P2\" as E4  [[psysml:baf5ed1e-c4c1-4a5d-ad5e-204bd26a43d4 ]]  {\r\n",
       "package \"P2a\" as E5  [[psysml:70275c95-cc90-4a8f-9ab9-2df7f67b6861 ]]  {\r\n",
       "}\r\n",
       "comp usage \"x: A  \" as E6  <<(T,blue) part>> [[psysml:1e68c641-a483-45d8-8926-6ab40309dfc3 ]] {\r\n",
       "}\r\n",
       "}\r\n",
       "}\r\n",
       "E5 ..> E2 [[psysml:0b7a29bb-3729-45f6-9ea2-8894bf23e053 ]] : <<import>>*\r\n",
       "E6 - -:|> E3 [[psysml:d6b7e27f-bd18-4212-9fb0-b02d6224d86d ]] \r\n",
       "@enduml\r\n",
       "\n",
       "PlantUML version 1.2022.7(Mon Aug 22 17:01:30 UTC 2022)\n",
       "(EPL source distribution)\n",
       "Java Runtime: OpenJDK Runtime Environment\n",
       "JVM: OpenJDK 64-Bit Server VM\n",
       "Default Encoding: UTF-8\n",
       "Language: en\n",
       "Country: null\n",
       "--></g></svg>"
      ]
     },
     "execution_count": 52,
     "metadata": {},
     "output_type": "execute_result"
    }
   ],
   "source": [
    "%viz --style=\"ORTHOLINE\" --view=\"Tree\" \"QualifiedNameImportTest\""
   ]
  },
  {
   "cell_type": "code",
   "execution_count": 53,
   "id": "1672a030",
   "metadata": {
    "execution": {
     "iopub.execute_input": "2024-12-16T03:25:44.539368Z",
     "iopub.status.busy": "2024-12-16T03:25:44.539132Z",
     "iopub.status.idle": "2024-12-16T03:25:44.544053Z",
     "shell.execute_reply": "2024-12-16T03:25:44.543766Z"
    }
   },
   "outputs": [
    {
     "data": {
      "image/svg+xml": [
       "<?xml version=\"1.0\" encoding=\"UTF-8\" standalone=\"no\"?><svg xmlns=\"http://www.w3.org/2000/svg\" xmlns:xlink=\"http://www.w3.org/1999/xlink\" contentStyleType=\"text/css\" height=\"10px\" preserveAspectRatio=\"none\" style=\"width:10px;height:10px;background:#FFFFFF;\" version=\"1.1\" viewBox=\"0 0 10 10\" width=\"10px\" zoomAndPan=\"magnify\"><defs/><g><!--MD5=[db5337d1ba6fd3a35e07e04988169323]\n",
       "@startuml\r\n",
       "skin sysmlbw\r\n",
       "skinparam monochrome true\r\n",
       "skinparam wrapWidth 300\r\n",
       "hide circle\r\n",
       "skinparam linetype ortho\r\n",
       "\r\n",
       "@enduml\r\n",
       "\n",
       "PlantUML version 1.2022.7(Mon Aug 22 17:01:30 UTC 2022)\n",
       "(EPL source distribution)\n",
       "Java Runtime: OpenJDK Runtime Environment\n",
       "JVM: OpenJDK 64-Bit Server VM\n",
       "Default Encoding: UTF-8\n",
       "Language: en\n",
       "Country: null\n",
       "--></g></svg>"
      ]
     },
     "execution_count": 53,
     "metadata": {},
     "output_type": "execute_result"
    }
   ],
   "source": [
    "%viz --style=\"ORTHOLINE\" --view=\"State\" \"QualifiedNameImportTest\""
   ]
  },
  {
   "cell_type": "code",
   "execution_count": 54,
   "id": "8159dc94",
   "metadata": {
    "execution": {
     "iopub.execute_input": "2024-12-16T03:25:44.599903Z",
     "iopub.status.busy": "2024-12-16T03:25:44.599683Z",
     "iopub.status.idle": "2024-12-16T03:25:44.613510Z",
     "shell.execute_reply": "2024-12-16T03:25:44.612812Z"
    }
   },
   "outputs": [
    {
     "data": {
      "image/svg+xml": [
       "<?xml version=\"1.0\" encoding=\"UTF-8\" standalone=\"no\"?><svg xmlns=\"http://www.w3.org/2000/svg\" xmlns:xlink=\"http://www.w3.org/1999/xlink\" contentStyleType=\"text/css\" height=\"336px\" preserveAspectRatio=\"none\" style=\"width:256px;height:336px;background:#FFFFFF;\" version=\"1.1\" viewBox=\"0 0 256 336\" width=\"256px\" zoomAndPan=\"magnify\"><defs/><g><!--MD5=[fbc87193dbaf4d95561dea2c320d4a47]\n",
       "cluster E1--><g id=\"cluster_E1\"><a href=\"psysml:c4b7552d-b9f7-430e-8774-a992809b5587\" target=\"_top\" title=\"psysml:c4b7552d-b9f7-430e-8774-a992809b5587\" xlink:actuate=\"onRequest\" xlink:href=\"psysml:c4b7552d-b9f7-430e-8774-a992809b5587\" xlink:show=\"new\" xlink:title=\"psysml:c4b7552d-b9f7-430e-8774-a992809b5587\" xlink:type=\"simple\"><polygon fill=\"none\" points=\"28,6,218.0625,6,225.0625,28.2969,239,28.2969,239,329,28,329,28,6\" style=\"stroke:#000000;stroke-width:1.5;\"/><line style=\"stroke:#000000;stroke-width:1.5;\" x1=\"28\" x2=\"225.0625\" y1=\"28.2969\" y2=\"28.2969\"/><text fill=\"#000000\" font-family=\"sans-serif\" font-size=\"14\" font-weight=\"bold\" lengthAdjust=\"spacing\" textLength=\"184.0625\" x=\"32\" y=\"20.9951\">QualifiedNameImportTest</text></a></g><!--MD5=[e4f7fae6ed58524ba242bb0b0d3be6b7]\n",
       "cluster E2--><g id=\"cluster_E2\"><a href=\"psysml:50965905-a474-4117-8075-2a307b415370\" target=\"_top\" title=\"psysml:50965905-a474-4117-8075-2a307b415370\" xlink:actuate=\"onRequest\" xlink:href=\"psysml:50965905-a474-4117-8075-2a307b415370\" xlink:show=\"new\" xlink:title=\"psysml:50965905-a474-4117-8075-2a307b415370\" xlink:type=\"simple\"><polygon fill=\"none\" points=\"65,185,89.875,185,96.875,207.2969,207,207.2969,207,297,65,297,65,185\" style=\"stroke:#000000;stroke-width:1.5;\"/><line style=\"stroke:#000000;stroke-width:1.5;\" x1=\"65\" x2=\"96.875\" y1=\"207.2969\" y2=\"207.2969\"/><text fill=\"#000000\" font-family=\"sans-serif\" font-size=\"14\" font-weight=\"bold\" lengthAdjust=\"spacing\" textLength=\"18.875\" x=\"69\" y=\"199.9951\">P1</text></a></g><!--MD5=[f6df4d0ebaf0b5dfb2ced0ae5af7c670]\n",
       "cluster E4--><g id=\"cluster_E4\"><a href=\"psysml:baf5ed1e-c4c1-4a5d-ad5e-204bd26a43d4\" target=\"_top\" title=\"psysml:baf5ed1e-c4c1-4a5d-ad5e-204bd26a43d4\" xlink:actuate=\"onRequest\" xlink:href=\"psysml:baf5ed1e-c4c1-4a5d-ad5e-204bd26a43d4\" xlink:show=\"new\" xlink:title=\"psysml:baf5ed1e-c4c1-4a5d-ad5e-204bd26a43d4\" xlink:type=\"simple\"><polygon fill=\"none\" points=\"52,49,76.875,49,83.875,71.2969,215,71.2969,215,153,52,153,52,49\" style=\"stroke:#000000;stroke-width:1.5;\"/><line style=\"stroke:#000000;stroke-width:1.5;\" x1=\"52\" x2=\"83.875\" y1=\"71.2969\" y2=\"71.2969\"/><text fill=\"#000000\" font-family=\"sans-serif\" font-size=\"14\" font-weight=\"bold\" lengthAdjust=\"spacing\" textLength=\"18.875\" x=\"56\" y=\"63.9951\">P2</text></a></g><g><a href=\"psysml:7bcd0150-a304-4bd6-beeb-4a591e07f43e\" target=\"_top\" title=\"psysml:7bcd0150-a304-4bd6-beeb-4a591e07f43e\" xlink:actuate=\"onRequest\" xlink:href=\"psysml:7bcd0150-a304-4bd6-beeb-4a591e07f43e\" xlink:show=\"new\" xlink:title=\"psysml:7bcd0150-a304-4bd6-beeb-4a591e07f43e\" xlink:type=\"simple\"><rect fill=\"#FFFFFF\" height=\"45.2656\" id=\"E3\" style=\"stroke:#383838;stroke-width:1.5;\" width=\"75\" x=\"108.5\" y=\"228\"/><text fill=\"#000000\" font-family=\"sans-serif\" font-size=\"12\" font-style=\"italic\" lengthAdjust=\"spacing\" textLength=\"68\" x=\"112\" y=\"244.1387\">«part  def»</text><text fill=\"#000000\" font-family=\"sans-serif\" font-size=\"14\" lengthAdjust=\"spacing\" textLength=\"9\" x=\"141.5\" y=\"259.9639\">A</text></a></g><a href=\"psysml:70275c95-cc90-4a8f-9ab9-2df7f67b6861\" target=\"_top\" title=\"psysml:70275c95-cc90-4a8f-9ab9-2df7f67b6861\" xlink:actuate=\"onRequest\" xlink:href=\"psysml:70275c95-cc90-4a8f-9ab9-2df7f67b6861\" xlink:show=\"new\" xlink:title=\"psysml:70275c95-cc90-4a8f-9ab9-2df7f67b6861\" xlink:type=\"simple\"><polygon fill=\"#FFFFFF\" points=\"68,84,100,84,107,106.2969,114,106.2969,114,136.5938,68,136.5938,68,84\" style=\"stroke:#181818;stroke-width:0.5;\"/><line style=\"stroke:#181818;stroke-width:0.5;\" x1=\"68\" x2=\"107\" y1=\"106.2969\" y2=\"106.2969\"/><text fill=\"#000000\" font-family=\"sans-serif\" font-size=\"14\" lengthAdjust=\"spacing\" textLength=\"26\" x=\"72\" y=\"98.9951\">P2a</text></a><g><a href=\"psysml:1e68c641-a483-45d8-8926-6ab40309dfc3\" target=\"_top\" title=\"psysml:1e68c641-a483-45d8-8926-6ab40309dfc3\" xlink:actuate=\"onRequest\" xlink:href=\"psysml:1e68c641-a483-45d8-8926-6ab40309dfc3\" xlink:show=\"new\" xlink:title=\"psysml:1e68c641-a483-45d8-8926-6ab40309dfc3\" xlink:type=\"simple\"><rect fill=\"#FFFFFF\" height=\"40\" id=\"E6\" rx=\"10\" ry=\"10\" style=\"stroke:#383838;stroke-width:1.5;\" width=\"50\" x=\"149\" y=\"90.5\"/><text fill=\"#000000\" font-family=\"sans-serif\" font-size=\"14\" lengthAdjust=\"spacing\" textLength=\"25\" x=\"161.5\" y=\"108.4951\">x: A</text></a></g><!--MD5=[15ebcb19ae302d9b601edb458606d402]\n",
       "link E5 to E2--><g id=\"link_E5_E2\"><a href=\"psysml:0b7a29bb-3729-45f6-9ea2-8894bf23e053\" target=\"_top\" title=\"psysml:0b7a29bb-3729-45f6-9ea2-8894bf23e053\" xlink:actuate=\"onRequest\" xlink:href=\"psysml:0b7a29bb-3729-45f6-9ea2-8894bf23e053\" xlink:show=\"new\" xlink:title=\"psysml:0b7a29bb-3729-45f6-9ea2-8894bf23e053\" xlink:type=\"simple\"><path d=\"M73,137.16 C73,146.84 73,158.3419 73,170.2478 C73,173.2243 73,176.226 73,179.2309 C73,180.7333 73,182.2365 73,183.7377 C73,184.113 73,184.4882 73,184.8632 \" fill=\"none\" id=\"E5-to-E2\" style=\"stroke:#181818;stroke-width:1.0;stroke-dasharray:7.0,7.0;\"/><polygon fill=\"#181818\" points=\"73,184.8632,77,175.8632,73,179.8632,69,175.8632,73,184.8632\" style=\"stroke:#181818;stroke-width:1.0;\"/><text fill=\"#000000\" font-family=\"sans-serif\" font-size=\"13\" lengthAdjust=\"spacing\" textLength=\"65\" x=\"7\" y=\"189.6669\">«import»*</text></a></g><!--MD5=[a717450b82c80b9240a525fa862496af]\n",
       "link E6 to E3--><g id=\"link_E6_E3\"><a href=\"psysml:d6b7e27f-bd18-4212-9fb0-b02d6224d86d\" target=\"_top\" title=\"psysml:d6b7e27f-bd18-4212-9fb0-b02d6224d86d\" xlink:actuate=\"onRequest\" xlink:href=\"psysml:d6b7e27f-bd18-4212-9fb0-b02d6224d86d\" xlink:show=\"new\" xlink:title=\"psysml:d6b7e27f-bd18-4212-9fb0-b02d6224d86d\" xlink:type=\"simple\"><path d=\"M166.25,130.56 C166.25,130.56 166.25,207.69 166.25,207.69 \" fill=\"none\" id=\"E6-to-E3\" style=\"stroke:#181818;stroke-width:1.0;\"/><polygon fill=\"#FFFFFF\" points=\"166.25,227.69,159.25,208.69,173.25,208.69,166.25,227.69\" style=\"stroke:#181818;stroke-width:1.0;\"/><ellipse cx=\"161.25\" cy=\"202.99\" fill=\"#181818\" rx=\"2\" ry=\"2\" style=\"stroke:#181818;stroke-width:1.0;\"/><ellipse cx=\"171.25\" cy=\"202.99\" fill=\"#181818\" rx=\"2\" ry=\"2\" style=\"stroke:#181818;stroke-width:1.0;\"/></a></g><!--MD5=[f89ac4d37402cac2f6b3447b5e9352d1]\n",
       "@startuml\r\n",
       "skin sysmlbw\r\n",
       "skinparam monochrome true\r\n",
       "skinparam wrapWidth 300\r\n",
       "hide circle\r\n",
       "skinparam linetype ortho\r\n",
       "skinparam ranksep 10\r\n",
       "skinparam rectangle {\r\n",
       " backgroundColor<<block>> LightGreen\r\n",
       "}\r\n",
       "\r\n",
       "package \"QualifiedNameImportTest\" as E1  [[psysml:c4b7552d-b9f7-430e-8774-a992809b5587 ]]  {\r\n",
       "package \"P1\" as E2  [[psysml:50965905-a474-4117-8075-2a307b415370 ]]  {\r\n",
       "rec def \"A\" as E3  <<(T,blue) part  def>> [[psysml:7bcd0150-a304-4bd6-beeb-4a591e07f43e ]] {\r\n",
       "}\r\n",
       "}\r\n",
       "package \"P2\" as E4  [[psysml:baf5ed1e-c4c1-4a5d-ad5e-204bd26a43d4 ]]  {\r\n",
       "package \"P2a\" as E5  [[psysml:70275c95-cc90-4a8f-9ab9-2df7f67b6861 ]]  {\r\n",
       "}\r\n",
       "rec usage \"x: A\" as E6 [[psysml:1e68c641-a483-45d8-8926-6ab40309dfc3 ]] {\r\n",
       "}\r\n",
       "}\r\n",
       "}\r\n",
       "E5 ..> E2 [[psysml:0b7a29bb-3729-45f6-9ea2-8894bf23e053 ]] : <<import>>*\r\n",
       "E6 - -:|> E3 [[psysml:d6b7e27f-bd18-4212-9fb0-b02d6224d86d ]] \r\n",
       "@enduml\r\n",
       "\n",
       "PlantUML version 1.2022.7(Mon Aug 22 17:01:30 UTC 2022)\n",
       "(EPL source distribution)\n",
       "Java Runtime: OpenJDK Runtime Environment\n",
       "JVM: OpenJDK 64-Bit Server VM\n",
       "Default Encoding: UTF-8\n",
       "Language: en\n",
       "Country: null\n",
       "--></g></svg>"
      ]
     },
     "execution_count": 54,
     "metadata": {},
     "output_type": "execute_result"
    }
   ],
   "source": [
    "%viz --style=\"ORTHOLINE\" --view=\"Interconnection\" \"QualifiedNameImportTest\""
   ]
  },
  {
   "cell_type": "code",
   "execution_count": 55,
   "id": "d4a99136",
   "metadata": {
    "execution": {
     "iopub.execute_input": "2024-12-16T03:25:44.664819Z",
     "iopub.status.busy": "2024-12-16T03:25:44.664560Z",
     "iopub.status.idle": "2024-12-16T03:25:44.669104Z",
     "shell.execute_reply": "2024-12-16T03:25:44.668928Z"
    }
   },
   "outputs": [
    {
     "data": {
      "image/svg+xml": [
       "<?xml version=\"1.0\" encoding=\"UTF-8\" standalone=\"no\"?><svg xmlns=\"http://www.w3.org/2000/svg\" xmlns:xlink=\"http://www.w3.org/1999/xlink\" contentStyleType=\"text/css\" height=\"10px\" preserveAspectRatio=\"none\" style=\"width:10px;height:10px;background:#FFFFFF;\" version=\"1.1\" viewBox=\"0 0 10 10\" width=\"10px\" zoomAndPan=\"magnify\"><defs/><g><!--MD5=[13654d10b9e2b79db36f00fd31e63fb2]\n",
       "@startuml\r\n",
       "skin sysmlbw\r\n",
       "skinparam monochrome true\r\n",
       "skinparam wrapWidth 300\r\n",
       "hide circle\r\n",
       "skinparam linetype ortho\r\n",
       "skinparam ranksep 8\r\n",
       "\r\n",
       "@enduml\r\n",
       "\n",
       "PlantUML version 1.2022.7(Mon Aug 22 17:01:30 UTC 2022)\n",
       "(EPL source distribution)\n",
       "Java Runtime: OpenJDK Runtime Environment\n",
       "JVM: OpenJDK 64-Bit Server VM\n",
       "Default Encoding: UTF-8\n",
       "Language: en\n",
       "Country: null\n",
       "--></g></svg>"
      ]
     },
     "execution_count": 55,
     "metadata": {},
     "output_type": "execute_result"
    }
   ],
   "source": [
    "%viz --style=\"ORTHOLINE\" --view=\"Action\" \"QualifiedNameImportTest\""
   ]
  },
  {
   "cell_type": "code",
   "execution_count": 56,
   "id": "8641702d",
   "metadata": {
    "execution": {
     "iopub.execute_input": "2024-12-16T03:25:44.724937Z",
     "iopub.status.busy": "2024-12-16T03:25:44.724688Z",
     "iopub.status.idle": "2024-12-16T03:25:44.729938Z",
     "shell.execute_reply": "2024-12-16T03:25:44.729749Z"
    }
   },
   "outputs": [
    {
     "data": {
      "image/svg+xml": [
       "<?xml version=\"1.0\" encoding=\"UTF-8\" standalone=\"no\"?><svg xmlns=\"http://www.w3.org/2000/svg\" xmlns:xlink=\"http://www.w3.org/1999/xlink\" contentStyleType=\"text/css\" height=\"10px\" preserveAspectRatio=\"none\" style=\"width:10px;height:10px;background:#FFFFFF;\" version=\"1.1\" viewBox=\"0 0 10 10\" width=\"10px\" zoomAndPan=\"magnify\"><defs/><g><!--MD5=[5b6eb85285460e34b0e63326afe72cc5]\n",
       "@startuml\r\n",
       "skin sysmlbw\r\n",
       "skinparam monochrome true\r\n",
       "skinparam wrapWidth 300\r\n",
       "hide circle\r\n",
       "skinparam linetype ortho\r\n",
       "skinparam roundcorner 20\r\n",
       "skinparam BoxPadding 20\r\n",
       "skinparam SequenceBoxBackgroundColor #white\r\n",
       "skinparam style strictuml\r\n",
       "skinparam maxMessageSize 100\r\n",
       "\r\n",
       "@enduml\r\n",
       "\n",
       "PlantUML version 1.2022.7(Mon Aug 22 17:01:30 UTC 2022)\n",
       "(EPL source distribution)\n",
       "Java Runtime: OpenJDK Runtime Environment\n",
       "JVM: OpenJDK 64-Bit Server VM\n",
       "Default Encoding: UTF-8\n",
       "Language: en\n",
       "Country: null\n",
       "--></g></svg>"
      ]
     },
     "execution_count": 56,
     "metadata": {},
     "output_type": "execute_result"
    }
   ],
   "source": [
    "%viz --style=\"ORTHOLINE\" --view=\"Sequence\" \"QualifiedNameImportTest\""
   ]
  },
  {
   "cell_type": "code",
   "execution_count": 57,
   "id": "a3487236",
   "metadata": {
    "execution": {
     "iopub.execute_input": "2024-12-16T03:25:44.781860Z",
     "iopub.status.busy": "2024-12-16T03:25:44.781553Z",
     "iopub.status.idle": "2024-12-16T03:25:44.798049Z",
     "shell.execute_reply": "2024-12-16T03:25:44.797177Z"
    }
   },
   "outputs": [
    {
     "data": {
      "image/svg+xml": [
       "<?xml version=\"1.0\" encoding=\"UTF-8\" standalone=\"no\"?><svg xmlns=\"http://www.w3.org/2000/svg\" xmlns:xlink=\"http://www.w3.org/1999/xlink\" contentStyleType=\"text/css\" height=\"339px\" preserveAspectRatio=\"none\" style=\"width:251px;height:339px;background:#FFFFFF;\" version=\"1.1\" viewBox=\"0 0 251 339\" width=\"251px\" zoomAndPan=\"magnify\"><defs/><g><!--MD5=[fbc87193dbaf4d95561dea2c320d4a47]\n",
       "cluster E1--><g id=\"cluster_E1\"><a href=\"psysml:c4b7552d-b9f7-430e-8774-a992809b5587\" target=\"_top\" title=\"psysml:c4b7552d-b9f7-430e-8774-a992809b5587\" xlink:actuate=\"onRequest\" xlink:href=\"psysml:c4b7552d-b9f7-430e-8774-a992809b5587\" xlink:show=\"new\" xlink:title=\"psysml:c4b7552d-b9f7-430e-8774-a992809b5587\" xlink:type=\"simple\"><polygon fill=\"none\" points=\"31,6,221.0625,6,228.0625,28.2969,234,28.2969,234,332,31,332,31,6\" style=\"stroke:#000000;stroke-width:1.5;\"/><line style=\"stroke:#000000;stroke-width:1.5;\" x1=\"31\" x2=\"228.0625\" y1=\"28.2969\" y2=\"28.2969\"/><text fill=\"#000000\" font-family=\"sans-serif\" font-size=\"14\" font-weight=\"bold\" lengthAdjust=\"spacing\" textLength=\"184.0625\" x=\"35\" y=\"20.9951\">QualifiedNameImportTest</text></a></g><!--MD5=[e4f7fae6ed58524ba242bb0b0d3be6b7]\n",
       "cluster E2--><g id=\"cluster_E2\"><a href=\"psysml:50965905-a474-4117-8075-2a307b415370\" target=\"_top\" title=\"psysml:50965905-a474-4117-8075-2a307b415370\" xlink:actuate=\"onRequest\" xlink:href=\"psysml:50965905-a474-4117-8075-2a307b415370\" xlink:show=\"new\" xlink:title=\"psysml:50965905-a474-4117-8075-2a307b415370\" xlink:type=\"simple\"><polygon fill=\"none\" points=\"65,185,89.875,185,96.875,207.2969,202,207.2969,202,300,65,300,65,185\" style=\"stroke:#000000;stroke-width:1.5;\"/><line style=\"stroke:#000000;stroke-width:1.5;\" x1=\"65\" x2=\"96.875\" y1=\"207.2969\" y2=\"207.2969\"/><text fill=\"#000000\" font-family=\"sans-serif\" font-size=\"14\" font-weight=\"bold\" lengthAdjust=\"spacing\" textLength=\"18.875\" x=\"69\" y=\"199.9951\">P1</text></a></g><!--MD5=[f6df4d0ebaf0b5dfb2ced0ae5af7c670]\n",
       "cluster E4--><g id=\"cluster_E4\"><a href=\"psysml:baf5ed1e-c4c1-4a5d-ad5e-204bd26a43d4\" target=\"_top\" title=\"psysml:baf5ed1e-c4c1-4a5d-ad5e-204bd26a43d4\" xlink:actuate=\"onRequest\" xlink:href=\"psysml:baf5ed1e-c4c1-4a5d-ad5e-204bd26a43d4\" xlink:show=\"new\" xlink:title=\"psysml:baf5ed1e-c4c1-4a5d-ad5e-204bd26a43d4\" xlink:type=\"simple\"><polygon fill=\"none\" points=\"55,49,79.875,49,86.875,71.2969,210,71.2969,210,153,55,153,55,49\" style=\"stroke:#000000;stroke-width:1.5;\"/><line style=\"stroke:#000000;stroke-width:1.5;\" x1=\"55\" x2=\"86.875\" y1=\"71.2969\" y2=\"71.2969\"/><text fill=\"#000000\" font-family=\"sans-serif\" font-size=\"14\" font-weight=\"bold\" lengthAdjust=\"spacing\" textLength=\"18.875\" x=\"59\" y=\"63.9951\">P2</text></a></g><!--MD5=[09b614a08d8cba4a07c9adeb5e0fee81]\n",
       "class E3--><a href=\"psysml:7bcd0150-a304-4bd6-beeb-4a591e07f43e\" target=\"_top\" title=\"psysml:7bcd0150-a304-4bd6-beeb-4a591e07f43e\" xlink:actuate=\"onRequest\" xlink:href=\"psysml:7bcd0150-a304-4bd6-beeb-4a591e07f43e\" xlink:show=\"new\" xlink:title=\"psysml:7bcd0150-a304-4bd6-beeb-4a591e07f43e\" xlink:type=\"simple\"><g id=\"elem_E3\"><rect fill=\"#FFFFFF\" height=\"48.2656\" id=\"E3\" style=\"stroke:#181818;stroke-width:0.5;\" width=\"70\" x=\"108\" y=\"228\"/><text fill=\"#000000\" font-family=\"sans-serif\" font-size=\"12\" font-style=\"italic\" lengthAdjust=\"spacing\" textLength=\"68\" x=\"109\" y=\"244.1387\">«part  def»</text><text fill=\"#000000\" font-family=\"sans-serif\" font-size=\"14\" lengthAdjust=\"spacing\" textLength=\"9\" x=\"138.5\" y=\"259.9639\">A</text><line style=\"stroke:#181818;stroke-width:0.5;\" x1=\"109\" x2=\"177\" y1=\"268.2656\" y2=\"268.2656\"/></g></a><!--MD5=[60a26617385b1d2d0262a64233df1f8d]\n",
       "class E6--><a href=\"psysml:1e68c641-a483-45d8-8926-6ab40309dfc3\" target=\"_top\" title=\"psysml:1e68c641-a483-45d8-8926-6ab40309dfc3\" xlink:actuate=\"onRequest\" xlink:href=\"psysml:1e68c641-a483-45d8-8926-6ab40309dfc3\" xlink:show=\"new\" xlink:title=\"psysml:1e68c641-a483-45d8-8926-6ab40309dfc3\" xlink:type=\"simple\"><g id=\"elem_E6\"><rect fill=\"#FFFFFF\" height=\"48.2656\" id=\"E6\" rx=\"10\" ry=\"10\" style=\"stroke:#181818;stroke-width:0.5;\" width=\"42\" x=\"152\" y=\"86.5\"/><text fill=\"#000000\" font-family=\"sans-serif\" font-size=\"12\" font-style=\"italic\" lengthAdjust=\"spacing\" textLength=\"40\" x=\"153\" y=\"102.6387\">«part»</text><text fill=\"#000000\" font-family=\"sans-serif\" font-size=\"14\" lengthAdjust=\"spacing\" textLength=\"25\" x=\"156.5\" y=\"118.4639\">x: A</text><line style=\"stroke:#181818;stroke-width:0.5;\" x1=\"153\" x2=\"193\" y1=\"126.7656\" y2=\"126.7656\"/></g></a><a href=\"psysml:70275c95-cc90-4a8f-9ab9-2df7f67b6861\" target=\"_top\" title=\"psysml:70275c95-cc90-4a8f-9ab9-2df7f67b6861\" xlink:actuate=\"onRequest\" xlink:href=\"psysml:70275c95-cc90-4a8f-9ab9-2df7f67b6861\" xlink:show=\"new\" xlink:title=\"psysml:70275c95-cc90-4a8f-9ab9-2df7f67b6861\" xlink:type=\"simple\"><polygon fill=\"#FFFFFF\" points=\"71,84,103,84,110,106.2969,117,106.2969,117,136.5938,71,136.5938,71,84\" style=\"stroke:#181818;stroke-width:0.5;\"/><line style=\"stroke:#181818;stroke-width:0.5;\" x1=\"71\" x2=\"110\" y1=\"106.2969\" y2=\"106.2969\"/><text fill=\"#000000\" font-family=\"sans-serif\" font-size=\"14\" lengthAdjust=\"spacing\" textLength=\"26\" x=\"75\" y=\"98.9951\">P2a</text></a><!--MD5=[15ebcb19ae302d9b601edb458606d402]\n",
       "link E5 to E2--><g id=\"link_E5_E2\"><a href=\"psysml:0b7a29bb-3729-45f6-9ea2-8894bf23e053\" target=\"_top\" title=\"psysml:0b7a29bb-3729-45f6-9ea2-8894bf23e053\" xlink:actuate=\"onRequest\" xlink:href=\"psysml:0b7a29bb-3729-45f6-9ea2-8894bf23e053\" xlink:show=\"new\" xlink:title=\"psysml:0b7a29bb-3729-45f6-9ea2-8894bf23e053\" xlink:type=\"simple\"><path d=\"M73,137.12 C73,146.885 73,158.5188 73,170.5763 C73,173.5906 73,176.6315 73,179.6763 C73,181.1986 73,182.722 73,184.2435 C73,184.4337 73,184.6239 73,184.814 \" fill=\"none\" id=\"E5-to-E2\" style=\"stroke:#181818;stroke-width:1.0;stroke-dasharray:7.0,7.0;\"/><polygon fill=\"#181818\" points=\"73,184.814,77,175.814,73,179.814,69,175.814,73,184.814\" style=\"stroke:#181818;stroke-width:1.0;\"/><text fill=\"#000000\" font-family=\"sans-serif\" font-size=\"13\" lengthAdjust=\"spacing\" textLength=\"65\" x=\"7\" y=\"190.3869\">«import»*</text></a></g><!--MD5=[a717450b82c80b9240a525fa862496af]\n",
       "link E6 to E3--><g id=\"link_E6_E3\"><a href=\"psysml:d6b7e27f-bd18-4212-9fb0-b02d6224d86d\" target=\"_top\" title=\"psysml:d6b7e27f-bd18-4212-9fb0-b02d6224d86d\" xlink:actuate=\"onRequest\" xlink:href=\"psysml:d6b7e27f-bd18-4212-9fb0-b02d6224d86d\" xlink:show=\"new\" xlink:title=\"psysml:d6b7e27f-bd18-4212-9fb0-b02d6224d86d\" xlink:type=\"simple\"><path d=\"M165,134.5 C165,134.5 165,207.88 165,207.88 \" fill=\"none\" id=\"E6-to-E3\" style=\"stroke:#181818;stroke-width:1.0;\"/><polygon fill=\"#FFFFFF\" points=\"165,227.88,158,208.88,172,208.88,165,227.88\" style=\"stroke:#181818;stroke-width:1.0;\"/><ellipse cx=\"160\" cy=\"203.18\" fill=\"#181818\" rx=\"2\" ry=\"2\" style=\"stroke:#181818;stroke-width:1.0;\"/><ellipse cx=\"170\" cy=\"203.18\" fill=\"#181818\" rx=\"2\" ry=\"2\" style=\"stroke:#181818;stroke-width:1.0;\"/></a></g><!--MD5=[d833f659376d9623c4676ec99c83d230]\n",
       "@startuml\r\n",
       "skin sysmlbw\r\n",
       "skinparam monochrome true\r\n",
       "skinparam wrapWidth 300\r\n",
       "hide circle\r\n",
       "skinparam linetype ortho\r\n",
       "\r\n",
       "package \"QualifiedNameImportTest\" as E1  [[psysml:c4b7552d-b9f7-430e-8774-a992809b5587 ]]  {\r\n",
       "package \"P1\" as E2  [[psysml:50965905-a474-4117-8075-2a307b415370 ]]  {\r\n",
       "comp def \"A\" as E3  <<(T,blue) part  def>> [[psysml:7bcd0150-a304-4bd6-beeb-4a591e07f43e ]] {\r\n",
       "}\r\n",
       "}\r\n",
       "package \"P2\" as E4  [[psysml:baf5ed1e-c4c1-4a5d-ad5e-204bd26a43d4 ]]  {\r\n",
       "package \"P2a\" as E5  [[psysml:70275c95-cc90-4a8f-9ab9-2df7f67b6861 ]]  {\r\n",
       "}\r\n",
       "comp usage \"x: A  \" as E6  <<(T,blue) part>> [[psysml:1e68c641-a483-45d8-8926-6ab40309dfc3 ]] {\r\n",
       "}\r\n",
       "}\r\n",
       "}\r\n",
       "E5 ..> E2 [[psysml:0b7a29bb-3729-45f6-9ea2-8894bf23e053 ]] : <<import>>*\r\n",
       "E6 - -:|> E3 [[psysml:d6b7e27f-bd18-4212-9fb0-b02d6224d86d ]] \r\n",
       "@enduml\r\n",
       "\n",
       "PlantUML version 1.2022.7(Mon Aug 22 17:01:30 UTC 2022)\n",
       "(EPL source distribution)\n",
       "Java Runtime: OpenJDK Runtime Environment\n",
       "JVM: OpenJDK 64-Bit Server VM\n",
       "Default Encoding: UTF-8\n",
       "Language: en\n",
       "Country: null\n",
       "--></g></svg>"
      ]
     },
     "execution_count": 57,
     "metadata": {},
     "output_type": "execute_result"
    }
   ],
   "source": [
    "%viz --style=\"ORTHOLINE\" --view=\"MIXED\" \"QualifiedNameImportTest\""
   ]
  }
 ],
 "metadata": {
  "kernelspec": {
   "display_name": "SysML",
   "language": "sysml",
   "name": "sysml"
  },
  "language_info": {
   "codemirror_mode": "sysml",
   "file_extension": ".sysml",
   "mimetype": "text/x-sysml",
   "name": "SysML",
   "pygments_lexer": "java",
   "version": "1.0.0"
  }
 },
 "nbformat": 4,
 "nbformat_minor": 5
}
