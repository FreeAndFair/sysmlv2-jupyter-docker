{
 "cells": [
  {
   "cell_type": "markdown",
   "id": "blind-namibia",
   "metadata": {},
   "source": [
    "# SysML v2 Test Suite\n",
    "\n",
    "This can notebook can be cleared using menu `Edit --> Clear All Outputs` and then all cells can be\n",
    "run using menu `Run --> Run All Cells`.\n",
    "\n",
    "**WARNING**: This file is generated, all modifications here will be ignored.\n"
   ]
  },
  {
   "cell_type": "markdown",
   "id": "superior-leave",
   "metadata": {},
   "source": [
    "## File: ../../sysml/src/examples/Import Tests/QualifiedNameImportTest.sysml"
   ]
  },
  {
   "cell_type": "code",
   "execution_count": 1,
   "id": "falling-trunk",
   "metadata": {
    "execution": {
     "iopub.execute_input": "2021-03-26T09:14:58.681611Z",
     "iopub.status.busy": "2021-03-26T09:14:58.680736Z",
     "iopub.status.idle": "2021-03-26T09:14:58.758842Z",
     "shell.execute_reply": "2021-03-26T09:14:58.758426Z"
    }
   },
   "outputs": [
    {
     "data": {
      "text/plain": [
       "Package QualifiedNameImportTest (13e0e0e3-7b05-4349-bcaf-76a0e26538ed)\n"
      ]
     },
     "execution_count": 1,
     "metadata": {},
     "output_type": "execute_result"
    }
   ],
   "source": [
    "package QualifiedNameImportTest {\n",
    "\tpackage P1 {\n",
    "\t\tpart def A;\n",
    "\t}\n",
    "\tpackage P2 {\n",
    "\t\tpackage P2a {\n",
    "\t\t\timport P1::*;\n",
    "\t\t}\n",
    "\t\t// The following should not fail.\n",
    "\t\t// A is a member of P2a because of the import.\n",
    "\t\tpart x: P2a::A;\n",
    "\t}\n",
    "}"
   ]
  },
  {
   "cell_type": "code",
   "execution_count": 2,
   "id": "persistent-ceremony",
   "metadata": {
    "execution": {
     "iopub.execute_input": "2021-03-26T09:14:58.810868Z",
     "iopub.status.busy": "2021-03-26T09:14:58.810455Z",
     "iopub.status.idle": "2021-03-26T09:14:59.303635Z",
     "shell.execute_reply": "2021-03-26T09:14:59.303952Z"
    }
   },
   "outputs": [
    {
     "data": {
      "image/svg+xml": [
       "<?xml version=\"1.0\" encoding=\"UTF-8\" standalone=\"no\"?><svg xmlns=\"http://www.w3.org/2000/svg\" xmlns:xlink=\"http://www.w3.org/1999/xlink\" contentScriptType=\"application/ecmascript\" contentStyleType=\"text/css\" height=\"310px\" preserveAspectRatio=\"none\" style=\"width:271px;height:310px;\" version=\"1.1\" viewBox=\"0 0 271 310\" width=\"271px\" zoomAndPan=\"magnify\"><defs><filter height=\"300%\" id=\"f18glqbonaf5nr\" width=\"300%\" x=\"-1\" y=\"-1\"><feGaussianBlur result=\"blurOut\" stdDeviation=\"2.0\"/><feColorMatrix in=\"blurOut\" result=\"blurOut2\" type=\"matrix\" values=\"0 0 0 0 0 0 0 0 0 0 0 0 0 0 0 0 0 0 .4 0\"/><feOffset dx=\"4.0\" dy=\"4.0\" in=\"blurOut2\" result=\"blurOut3\"/><feBlend in=\"SourceGraphic\" in2=\"blurOut3\" mode=\"normal\"/></filter></defs><g><!--MD5=[fbc87193dbaf4d95561dea2c320d4a47]\n",
       "cluster E1--><a href=\"psysml:69fab460-d5be-4945-91cf-3ca8c8123b68\" target=\"_top\" title=\"psysml:69fab460-d5be-4945-91cf-3ca8c8123b68\" xlink:actuate=\"onRequest\" xlink:href=\"psysml:69fab460-d5be-4945-91cf-3ca8c8123b68\" xlink:show=\"new\" xlink:title=\"psysml:69fab460-d5be-4945-91cf-3ca8c8123b68\" xlink:type=\"simple\"><polygon fill=\"#FFFFFF\" filter=\"url(#f18glqbonaf5nr)\" points=\"16,6,221,6,228,28.2969,249,28.2969,249,298,16,298,16,6\" style=\"stroke: #000000; stroke-width: 1.5;\"/><line style=\"stroke: #000000; stroke-width: 1.5;\" x1=\"16\" x2=\"228\" y1=\"28.2969\" y2=\"28.2969\"/><text fill=\"#000000\" font-family=\"sans-serif\" font-size=\"14\" font-weight=\"bold\" lengthAdjust=\"spacingAndGlyphs\" textLength=\"199\" x=\"20\" y=\"20.9951\">QualifiedNameImportTest</text></a><!--MD5=[e4f7fae6ed58524ba242bb0b0d3be6b7]\n",
       "cluster E2--><a href=\"psysml:a87ccb6a-ce8a-4667-9a31-41e6c6a1c677\" target=\"_top\" title=\"psysml:a87ccb6a-ce8a-4667-9a31-41e6c6a1c677\" xlink:actuate=\"onRequest\" xlink:href=\"psysml:a87ccb6a-ce8a-4667-9a31-41e6c6a1c677\" xlink:show=\"new\" xlink:title=\"psysml:a87ccb6a-ce8a-4667-9a31-41e6c6a1c677\" xlink:type=\"simple\"><polygon fill=\"#FFFFFF\" filter=\"url(#f18glqbonaf5nr)\" points=\"101,177,127,177,134,199.2969,225,199.2969,225,274,101,274,101,177\" style=\"stroke: #000000; stroke-width: 1.5;\"/><line style=\"stroke: #000000; stroke-width: 1.5;\" x1=\"101\" x2=\"134\" y1=\"199.2969\" y2=\"199.2969\"/><text fill=\"#000000\" font-family=\"sans-serif\" font-size=\"14\" font-weight=\"bold\" lengthAdjust=\"spacingAndGlyphs\" textLength=\"20\" x=\"105\" y=\"191.9951\">P1</text></a><!--MD5=[f6df4d0ebaf0b5dfb2ced0ae5af7c670]\n",
       "cluster E4--><a href=\"psysml:434a9cec-9a5b-4c30-bd61-ce4aa8eabf42\" target=\"_top\" title=\"psysml:434a9cec-9a5b-4c30-bd61-ce4aa8eabf42\" xlink:actuate=\"onRequest\" xlink:href=\"psysml:434a9cec-9a5b-4c30-bd61-ce4aa8eabf42\" xlink:show=\"new\" xlink:title=\"psysml:434a9cec-9a5b-4c30-bd61-ce4aa8eabf42\" xlink:type=\"simple\"><polygon fill=\"#FFFFFF\" filter=\"url(#f18glqbonaf5nr)\" points=\"40,49,66,49,73,71.2969,225,71.2969,225,153,40,153,40,49\" style=\"stroke: #000000; stroke-width: 1.5;\"/><line style=\"stroke: #000000; stroke-width: 1.5;\" x1=\"40\" x2=\"73\" y1=\"71.2969\" y2=\"71.2969\"/><text fill=\"#000000\" font-family=\"sans-serif\" font-size=\"14\" font-weight=\"bold\" lengthAdjust=\"spacingAndGlyphs\" textLength=\"20\" x=\"44\" y=\"63.9951\">P2</text></a><!--MD5=[09b614a08d8cba4a07c9adeb5e0fee81]\n",
       "class E3--><a href=\"psysml:dead2420-b34a-43f7-a875-a2c685248268\" target=\"_top\" title=\"psysml:dead2420-b34a-43f7-a875-a2c685248268\" xlink:actuate=\"onRequest\" xlink:href=\"psysml:dead2420-b34a-43f7-a875-a2c685248268\" xlink:show=\"new\" xlink:title=\"psysml:dead2420-b34a-43f7-a875-a2c685248268\" xlink:type=\"simple\"><rect fill=\"#FEFECE\" filter=\"url(#f18glqbonaf5nr)\" height=\"45.9375\" id=\"E3\" style=\"stroke: #A80036; stroke-width: 1.5;\" width=\"92\" x=\"117\" y=\"212\"/><ellipse cx=\"132\" cy=\"230.9688\" fill=\"#0000FF\" rx=\"11\" ry=\"11\" style=\"stroke: #A80036; stroke-width: 1.0;\"/><path d=\"M132.8438,237.7188 L130.3906,237.7188 L130.3906,227.4688 L127.25,227.4688 L127.25,225.3281 L135.9844,225.3281 L135.9844,227.4688 L132.8438,227.4688 L132.8438,237.7188 Z \"/><text fill=\"#000000\" font-family=\"sans-serif\" font-size=\"12\" font-style=\"italic\" lengthAdjust=\"spacingAndGlyphs\" textLength=\"64\" x=\"144\" y=\"228.1387\">«part def»</text><text fill=\"#000000\" font-family=\"sans-serif\" font-size=\"12\" lengthAdjust=\"spacingAndGlyphs\" textLength=\"8\" x=\"172\" y=\"242.1074\">A</text><line style=\"stroke: #A80036; stroke-width: 1.5;\" x1=\"118\" x2=\"208\" y1=\"249.9375\" y2=\"249.9375\"/></a><!--MD5=[60a26617385b1d2d0262a64233df1f8d]\n",
       "class E6--><a href=\"psysml:febc5459-2ebe-4c36-9a31-624278ca958f\" target=\"_top\" title=\"psysml:febc5459-2ebe-4c36-9a31-624278ca958f\" xlink:actuate=\"onRequest\" xlink:href=\"psysml:febc5459-2ebe-4c36-9a31-624278ca958f\" xlink:show=\"new\" xlink:title=\"psysml:febc5459-2ebe-4c36-9a31-624278ca958f\" xlink:type=\"simple\"><rect fill=\"#FEFECE\" filter=\"url(#f18glqbonaf5nr)\" height=\"45.9375\" id=\"E6\" rx=\"10\" ry=\"10\" style=\"stroke: #A80036; stroke-width: 1.5;\" width=\"68\" x=\"141\" y=\"87.5\"/><ellipse cx=\"156\" cy=\"106.4688\" fill=\"#0000FF\" rx=\"11\" ry=\"11\" style=\"stroke: #A80036; stroke-width: 1.0;\"/><path d=\"M156.8438,113.2188 L154.3906,113.2188 L154.3906,102.9688 L151.25,102.9688 L151.25,100.8281 L159.9844,100.8281 L159.9844,102.9688 L156.8438,102.9688 L156.8438,113.2188 Z \"/><text fill=\"#000000\" font-family=\"sans-serif\" font-size=\"12\" font-style=\"italic\" lengthAdjust=\"spacingAndGlyphs\" textLength=\"40\" x=\"168\" y=\"103.6387\">«part»</text><text fill=\"#000000\" font-family=\"sans-serif\" font-size=\"12\" lengthAdjust=\"spacingAndGlyphs\" textLength=\"22\" x=\"177\" y=\"117.6074\">x: A</text><line style=\"stroke: #A80036; stroke-width: 1.5;\" x1=\"142\" x2=\"208\" y1=\"125.4375\" y2=\"125.4375\"/></a><a href=\"psysml:0289fe7d-3512-4b15-a612-d4f3c113c698\" target=\"_top\" title=\"psysml:0289fe7d-3512-4b15-a612-d4f3c113c698\" xlink:actuate=\"onRequest\" xlink:href=\"psysml:0289fe7d-3512-4b15-a612-d4f3c113c698\" xlink:show=\"new\" xlink:title=\"psysml:0289fe7d-3512-4b15-a612-d4f3c113c698\" xlink:type=\"simple\"><polygon fill=\"#FFFFFF\" filter=\"url(#f18glqbonaf5nr)\" points=\"56.5,84,91.5,84,98.5,106.2969,105.5,106.2969,105.5,136.5938,56.5,136.5938,56.5,84\" style=\"stroke: #000000; stroke-width: 1.5;\"/><line style=\"stroke: #000000; stroke-width: 1.5;\" x1=\"56.5\" x2=\"98.5\" y1=\"106.2969\" y2=\"106.2969\"/><text fill=\"#000000\" font-family=\"sans-serif\" font-size=\"14\" font-weight=\"bold\" lengthAdjust=\"spacingAndGlyphs\" textLength=\"29\" x=\"60.5\" y=\"98.9951\">P2a</text></a><!--MD5=[a717450b82c80b9240a525fa862496af]\n",
       "link E6 to E3--><a href=\"psysml:a41f4e21-5f48-4d30-b801-3db99d3a1abc\" target=\"_top\" title=\"psysml:a41f4e21-5f48-4d30-b801-3db99d3a1abc\" xlink:actuate=\"onRequest\" xlink:href=\"psysml:a41f4e21-5f48-4d30-b801-3db99d3a1abc\" xlink:show=\"new\" xlink:title=\"psysml:a41f4e21-5f48-4d30-b801-3db99d3a1abc\" xlink:type=\"simple\"><path d=\"M172.83,133.68 C171.24,149.9 169.04,172.39 167.12,191.96 \" fill=\"none\" id=\"E6-&gt;E3\" style=\"stroke: #A80036; stroke-width: 1.0;\"/><polygon fill=\"#FFFFFF\" points=\"165.16,211.98,160.0533,192.3861,173.986,193.7564,165.16,211.98\" style=\"stroke: #A80036; stroke-width: 1.0;\"/><ellipse cx=\"162.6016\" cy=\"186.9092\" fill=\"#A80036\" rx=\"2\" ry=\"2\" style=\"stroke: #A80036; stroke-width: 1.0;\"/><ellipse cx=\"172.5535\" cy=\"187.888\" fill=\"#A80036\" rx=\"2\" ry=\"2\" style=\"stroke: #A80036; stroke-width: 1.0;\"/></a><!--MD5=[55dfee019b4e47bde17ac5cbcbfe7088]\n",
       "@startuml\r\n",
       " \r\n",
       "package \"QualifiedNameImportTest\" as E1  [[psysml:69fab460-d5be-4945-91cf-3ca8c8123b68 ]]  {\r\n",
       "package \"P1\" as E2  [[psysml:a87ccb6a-ce8a-4667-9a31-41e6c6a1c677 ]]  {\r\n",
       "comp def \"A\" as E3  <<(T,blue)part def>> [[psysml:dead2420-b34a-43f7-a875-a2c685248268 ]] {\r\n",
       "}\r\n",
       "}\r\n",
       "package \"P2\" as E4  [[psysml:434a9cec-9a5b-4c30-bd61-ce4aa8eabf42 ]]  {\r\n",
       "package \"P2a\" as E5  [[psysml:0289fe7d-3512-4b15-a612-d4f3c113c698 ]]  {\r\n",
       "}\r\n",
       "comp usage \"x: A\" as E6  <<(T,blue)part>> [[psysml:febc5459-2ebe-4c36-9a31-624278ca958f ]] {\r\n",
       "}\r\n",
       "E6 - -:|> E3 [[psysml:a41f4e21-5f48-4d30-b801-3db99d3a1abc ]] \r\n",
       "}\r\n",
       "}\r\n",
       "@enduml\r\n",
       "\n",
       "PlantUML version 1.2020.13(Sat Jun 13 12:26:38 UTC 2020)\n",
       "(EPL source distribution)\n",
       "Java Runtime: OpenJDK Runtime Environment\n",
       "JVM: OpenJDK 64-Bit Server VM\n",
       "Default Encoding: UTF-8\n",
       "Language: en\n",
       "Country: null\n",
       "--></g></svg>"
      ]
     },
     "execution_count": 2,
     "metadata": {},
     "output_type": "execute_result"
    }
   ],
   "source": [
    "%viz --style=\"COMPTREE\" --view=\"Default\" \"QualifiedNameImportTest\""
   ]
  },
  {
   "cell_type": "code",
   "execution_count": 3,
   "id": "acoustic-flush",
   "metadata": {
    "execution": {
     "iopub.execute_input": "2021-03-26T09:14:59.355895Z",
     "iopub.status.busy": "2021-03-26T09:14:59.355109Z",
     "iopub.status.idle": "2021-03-26T09:14:59.408280Z",
     "shell.execute_reply": "2021-03-26T09:14:59.408626Z"
    }
   },
   "outputs": [
    {
     "data": {
      "image/svg+xml": [
       "<?xml version=\"1.0\" encoding=\"UTF-8\" standalone=\"no\"?><svg xmlns=\"http://www.w3.org/2000/svg\" xmlns:xlink=\"http://www.w3.org/1999/xlink\" contentScriptType=\"application/ecmascript\" contentStyleType=\"text/css\" height=\"310px\" preserveAspectRatio=\"none\" style=\"width:271px;height:310px;\" version=\"1.1\" viewBox=\"0 0 271 310\" width=\"271px\" zoomAndPan=\"magnify\"><defs><filter height=\"300%\" id=\"f18glqbonaf5nr\" width=\"300%\" x=\"-1\" y=\"-1\"><feGaussianBlur result=\"blurOut\" stdDeviation=\"2.0\"/><feColorMatrix in=\"blurOut\" result=\"blurOut2\" type=\"matrix\" values=\"0 0 0 0 0 0 0 0 0 0 0 0 0 0 0 0 0 0 .4 0\"/><feOffset dx=\"4.0\" dy=\"4.0\" in=\"blurOut2\" result=\"blurOut3\"/><feBlend in=\"SourceGraphic\" in2=\"blurOut3\" mode=\"normal\"/></filter></defs><g><!--MD5=[fbc87193dbaf4d95561dea2c320d4a47]\n",
       "cluster E1--><a href=\"psysml:69fab460-d5be-4945-91cf-3ca8c8123b68\" target=\"_top\" title=\"psysml:69fab460-d5be-4945-91cf-3ca8c8123b68\" xlink:actuate=\"onRequest\" xlink:href=\"psysml:69fab460-d5be-4945-91cf-3ca8c8123b68\" xlink:show=\"new\" xlink:title=\"psysml:69fab460-d5be-4945-91cf-3ca8c8123b68\" xlink:type=\"simple\"><polygon fill=\"#FFFFFF\" filter=\"url(#f18glqbonaf5nr)\" points=\"16,6,221,6,228,28.2969,249,28.2969,249,298,16,298,16,6\" style=\"stroke: #000000; stroke-width: 1.5;\"/><line style=\"stroke: #000000; stroke-width: 1.5;\" x1=\"16\" x2=\"228\" y1=\"28.2969\" y2=\"28.2969\"/><text fill=\"#000000\" font-family=\"sans-serif\" font-size=\"14\" font-weight=\"bold\" lengthAdjust=\"spacingAndGlyphs\" textLength=\"199\" x=\"20\" y=\"20.9951\">QualifiedNameImportTest</text></a><!--MD5=[e4f7fae6ed58524ba242bb0b0d3be6b7]\n",
       "cluster E2--><a href=\"psysml:a87ccb6a-ce8a-4667-9a31-41e6c6a1c677\" target=\"_top\" title=\"psysml:a87ccb6a-ce8a-4667-9a31-41e6c6a1c677\" xlink:actuate=\"onRequest\" xlink:href=\"psysml:a87ccb6a-ce8a-4667-9a31-41e6c6a1c677\" xlink:show=\"new\" xlink:title=\"psysml:a87ccb6a-ce8a-4667-9a31-41e6c6a1c677\" xlink:type=\"simple\"><polygon fill=\"#FFFFFF\" filter=\"url(#f18glqbonaf5nr)\" points=\"101,177,127,177,134,199.2969,225,199.2969,225,274,101,274,101,177\" style=\"stroke: #000000; stroke-width: 1.5;\"/><line style=\"stroke: #000000; stroke-width: 1.5;\" x1=\"101\" x2=\"134\" y1=\"199.2969\" y2=\"199.2969\"/><text fill=\"#000000\" font-family=\"sans-serif\" font-size=\"14\" font-weight=\"bold\" lengthAdjust=\"spacingAndGlyphs\" textLength=\"20\" x=\"105\" y=\"191.9951\">P1</text></a><!--MD5=[f6df4d0ebaf0b5dfb2ced0ae5af7c670]\n",
       "cluster E4--><a href=\"psysml:434a9cec-9a5b-4c30-bd61-ce4aa8eabf42\" target=\"_top\" title=\"psysml:434a9cec-9a5b-4c30-bd61-ce4aa8eabf42\" xlink:actuate=\"onRequest\" xlink:href=\"psysml:434a9cec-9a5b-4c30-bd61-ce4aa8eabf42\" xlink:show=\"new\" xlink:title=\"psysml:434a9cec-9a5b-4c30-bd61-ce4aa8eabf42\" xlink:type=\"simple\"><polygon fill=\"#FFFFFF\" filter=\"url(#f18glqbonaf5nr)\" points=\"40,49,66,49,73,71.2969,225,71.2969,225,153,40,153,40,49\" style=\"stroke: #000000; stroke-width: 1.5;\"/><line style=\"stroke: #000000; stroke-width: 1.5;\" x1=\"40\" x2=\"73\" y1=\"71.2969\" y2=\"71.2969\"/><text fill=\"#000000\" font-family=\"sans-serif\" font-size=\"14\" font-weight=\"bold\" lengthAdjust=\"spacingAndGlyphs\" textLength=\"20\" x=\"44\" y=\"63.9951\">P2</text></a><!--MD5=[09b614a08d8cba4a07c9adeb5e0fee81]\n",
       "class E3--><a href=\"psysml:dead2420-b34a-43f7-a875-a2c685248268\" target=\"_top\" title=\"psysml:dead2420-b34a-43f7-a875-a2c685248268\" xlink:actuate=\"onRequest\" xlink:href=\"psysml:dead2420-b34a-43f7-a875-a2c685248268\" xlink:show=\"new\" xlink:title=\"psysml:dead2420-b34a-43f7-a875-a2c685248268\" xlink:type=\"simple\"><rect fill=\"#FEFECE\" filter=\"url(#f18glqbonaf5nr)\" height=\"45.9375\" id=\"E3\" style=\"stroke: #A80036; stroke-width: 1.5;\" width=\"92\" x=\"117\" y=\"212\"/><ellipse cx=\"132\" cy=\"230.9688\" fill=\"#0000FF\" rx=\"11\" ry=\"11\" style=\"stroke: #A80036; stroke-width: 1.0;\"/><path d=\"M132.8438,237.7188 L130.3906,237.7188 L130.3906,227.4688 L127.25,227.4688 L127.25,225.3281 L135.9844,225.3281 L135.9844,227.4688 L132.8438,227.4688 L132.8438,237.7188 Z \"/><text fill=\"#000000\" font-family=\"sans-serif\" font-size=\"12\" font-style=\"italic\" lengthAdjust=\"spacingAndGlyphs\" textLength=\"64\" x=\"144\" y=\"228.1387\">«part def»</text><text fill=\"#000000\" font-family=\"sans-serif\" font-size=\"12\" lengthAdjust=\"spacingAndGlyphs\" textLength=\"8\" x=\"172\" y=\"242.1074\">A</text><line style=\"stroke: #A80036; stroke-width: 1.5;\" x1=\"118\" x2=\"208\" y1=\"249.9375\" y2=\"249.9375\"/></a><!--MD5=[60a26617385b1d2d0262a64233df1f8d]\n",
       "class E6--><a href=\"psysml:febc5459-2ebe-4c36-9a31-624278ca958f\" target=\"_top\" title=\"psysml:febc5459-2ebe-4c36-9a31-624278ca958f\" xlink:actuate=\"onRequest\" xlink:href=\"psysml:febc5459-2ebe-4c36-9a31-624278ca958f\" xlink:show=\"new\" xlink:title=\"psysml:febc5459-2ebe-4c36-9a31-624278ca958f\" xlink:type=\"simple\"><rect fill=\"#FEFECE\" filter=\"url(#f18glqbonaf5nr)\" height=\"45.9375\" id=\"E6\" rx=\"10\" ry=\"10\" style=\"stroke: #A80036; stroke-width: 1.5;\" width=\"68\" x=\"141\" y=\"87.5\"/><ellipse cx=\"156\" cy=\"106.4688\" fill=\"#0000FF\" rx=\"11\" ry=\"11\" style=\"stroke: #A80036; stroke-width: 1.0;\"/><path d=\"M156.8438,113.2188 L154.3906,113.2188 L154.3906,102.9688 L151.25,102.9688 L151.25,100.8281 L159.9844,100.8281 L159.9844,102.9688 L156.8438,102.9688 L156.8438,113.2188 Z \"/><text fill=\"#000000\" font-family=\"sans-serif\" font-size=\"12\" font-style=\"italic\" lengthAdjust=\"spacingAndGlyphs\" textLength=\"40\" x=\"168\" y=\"103.6387\">«part»</text><text fill=\"#000000\" font-family=\"sans-serif\" font-size=\"12\" lengthAdjust=\"spacingAndGlyphs\" textLength=\"22\" x=\"177\" y=\"117.6074\">x: A</text><line style=\"stroke: #A80036; stroke-width: 1.5;\" x1=\"142\" x2=\"208\" y1=\"125.4375\" y2=\"125.4375\"/></a><a href=\"psysml:0289fe7d-3512-4b15-a612-d4f3c113c698\" target=\"_top\" title=\"psysml:0289fe7d-3512-4b15-a612-d4f3c113c698\" xlink:actuate=\"onRequest\" xlink:href=\"psysml:0289fe7d-3512-4b15-a612-d4f3c113c698\" xlink:show=\"new\" xlink:title=\"psysml:0289fe7d-3512-4b15-a612-d4f3c113c698\" xlink:type=\"simple\"><polygon fill=\"#FFFFFF\" filter=\"url(#f18glqbonaf5nr)\" points=\"56.5,84,91.5,84,98.5,106.2969,105.5,106.2969,105.5,136.5938,56.5,136.5938,56.5,84\" style=\"stroke: #000000; stroke-width: 1.5;\"/><line style=\"stroke: #000000; stroke-width: 1.5;\" x1=\"56.5\" x2=\"98.5\" y1=\"106.2969\" y2=\"106.2969\"/><text fill=\"#000000\" font-family=\"sans-serif\" font-size=\"14\" font-weight=\"bold\" lengthAdjust=\"spacingAndGlyphs\" textLength=\"29\" x=\"60.5\" y=\"98.9951\">P2a</text></a><!--MD5=[a717450b82c80b9240a525fa862496af]\n",
       "link E6 to E3--><a href=\"psysml:a41f4e21-5f48-4d30-b801-3db99d3a1abc\" target=\"_top\" title=\"psysml:a41f4e21-5f48-4d30-b801-3db99d3a1abc\" xlink:actuate=\"onRequest\" xlink:href=\"psysml:a41f4e21-5f48-4d30-b801-3db99d3a1abc\" xlink:show=\"new\" xlink:title=\"psysml:a41f4e21-5f48-4d30-b801-3db99d3a1abc\" xlink:type=\"simple\"><path d=\"M172.83,133.68 C171.24,149.9 169.04,172.39 167.12,191.96 \" fill=\"none\" id=\"E6-&gt;E3\" style=\"stroke: #A80036; stroke-width: 1.0;\"/><polygon fill=\"#FFFFFF\" points=\"165.16,211.98,160.0533,192.3861,173.986,193.7564,165.16,211.98\" style=\"stroke: #A80036; stroke-width: 1.0;\"/><ellipse cx=\"162.6016\" cy=\"186.9092\" fill=\"#A80036\" rx=\"2\" ry=\"2\" style=\"stroke: #A80036; stroke-width: 1.0;\"/><ellipse cx=\"172.5535\" cy=\"187.888\" fill=\"#A80036\" rx=\"2\" ry=\"2\" style=\"stroke: #A80036; stroke-width: 1.0;\"/></a><!--MD5=[55dfee019b4e47bde17ac5cbcbfe7088]\n",
       "@startuml\r\n",
       " \r\n",
       "package \"QualifiedNameImportTest\" as E1  [[psysml:69fab460-d5be-4945-91cf-3ca8c8123b68 ]]  {\r\n",
       "package \"P1\" as E2  [[psysml:a87ccb6a-ce8a-4667-9a31-41e6c6a1c677 ]]  {\r\n",
       "comp def \"A\" as E3  <<(T,blue)part def>> [[psysml:dead2420-b34a-43f7-a875-a2c685248268 ]] {\r\n",
       "}\r\n",
       "}\r\n",
       "package \"P2\" as E4  [[psysml:434a9cec-9a5b-4c30-bd61-ce4aa8eabf42 ]]  {\r\n",
       "package \"P2a\" as E5  [[psysml:0289fe7d-3512-4b15-a612-d4f3c113c698 ]]  {\r\n",
       "}\r\n",
       "comp usage \"x: A\" as E6  <<(T,blue)part>> [[psysml:febc5459-2ebe-4c36-9a31-624278ca958f ]] {\r\n",
       "}\r\n",
       "E6 - -:|> E3 [[psysml:a41f4e21-5f48-4d30-b801-3db99d3a1abc ]] \r\n",
       "}\r\n",
       "}\r\n",
       "@enduml\r\n",
       "\n",
       "PlantUML version 1.2020.13(Sat Jun 13 12:26:38 UTC 2020)\n",
       "(EPL source distribution)\n",
       "Java Runtime: OpenJDK Runtime Environment\n",
       "JVM: OpenJDK 64-Bit Server VM\n",
       "Default Encoding: UTF-8\n",
       "Language: en\n",
       "Country: null\n",
       "--></g></svg>"
      ]
     },
     "execution_count": 3,
     "metadata": {},
     "output_type": "execute_result"
    }
   ],
   "source": [
    "%viz --style=\"COMPTREE\" --view=\"Tree\" \"QualifiedNameImportTest\""
   ]
  },
  {
   "cell_type": "code",
   "execution_count": 4,
   "id": "micro-array",
   "metadata": {
    "execution": {
     "iopub.execute_input": "2021-03-26T09:14:59.460098Z",
     "iopub.status.busy": "2021-03-26T09:14:59.459583Z",
     "iopub.status.idle": "2021-03-26T09:14:59.555197Z",
     "shell.execute_reply": "2021-03-26T09:14:59.555520Z"
    }
   },
   "outputs": [
    {
     "data": {
      "image/svg+xml": [
       "<?xml version=\"1.0\" encoding=\"UTF-8\" standalone=\"no\"?><svg xmlns=\"http://www.w3.org/2000/svg\" xmlns:xlink=\"http://www.w3.org/1999/xlink\" contentScriptType=\"application/ecmascript\" contentStyleType=\"text/css\" height=\"303px\" preserveAspectRatio=\"none\" style=\"width:603px;height:303px;background:#000000;\" version=\"1.1\" viewBox=\"0 0 603 303\" width=\"603px\" zoomAndPan=\"magnify\"><defs/><g><rect fill=\"#1A231F\" height=\"1\" style=\"stroke: #1A231F; stroke-width: 1.0;\" width=\"1\" x=\"0\" y=\"0\"/><rect fill=\"#FFFFFF\" height=\"205.5625\" style=\"stroke: #FFFFFF; stroke-width: 1.0;\" width=\"602\" x=\"0\" y=\"0\"/><text fill=\"#000000\" font-family=\"sans-serif\" font-size=\"12\" font-weight=\"bold\" lengthAdjust=\"spacingAndGlyphs\" textLength=\"159\" x=\"5\" y=\"16.1387\">Welcome to PlantUML!</text><text fill=\"#000000\" font-family=\"sans-serif\" font-size=\"12\" lengthAdjust=\"spacingAndGlyphs\" textLength=\"0\" x=\"9\" y=\"30.1074\"/><text fill=\"#000000\" font-family=\"sans-serif\" font-size=\"12\" lengthAdjust=\"spacingAndGlyphs\" textLength=\"293\" x=\"5\" y=\"44.0762\">If you use this software, you accept its license.</text><text fill=\"#000000\" font-family=\"sans-serif\" font-size=\"12\" lengthAdjust=\"spacingAndGlyphs\" textLength=\"107\" x=\"5\" y=\"58.0449\">(details by typing</text><text fill=\"#000000\" font-family=\"monospace\" font-size=\"12\" lengthAdjust=\"spacingAndGlyphs\" textLength=\"49\" x=\"116\" y=\"58.0449\">license</text><text fill=\"#000000\" font-family=\"sans-serif\" font-size=\"12\" lengthAdjust=\"spacingAndGlyphs\" textLength=\"56\" x=\"169\" y=\"58.0449\">keyword)</text><text fill=\"#000000\" font-family=\"sans-serif\" font-size=\"12\" lengthAdjust=\"spacingAndGlyphs\" textLength=\"0\" x=\"9\" y=\"72.0137\"/><text fill=\"#000000\" font-family=\"sans-serif\" font-size=\"12\" lengthAdjust=\"spacingAndGlyphs\" textLength=\"283\" x=\"5\" y=\"85.9824\">You can start with a simple UML Diagram like:</text><text fill=\"#000000\" font-family=\"sans-serif\" font-size=\"12\" lengthAdjust=\"spacingAndGlyphs\" textLength=\"0\" x=\"9\" y=\"99.9512\"/><text fill=\"#000000\" font-family=\"monospace\" font-size=\"12\" lengthAdjust=\"spacingAndGlyphs\" textLength=\"119\" x=\"5\" y=\"113.9199\">Bob-&gt;Alice: Hello</text><text fill=\"#000000\" font-family=\"sans-serif\" font-size=\"12\" lengthAdjust=\"spacingAndGlyphs\" textLength=\"0\" x=\"9\" y=\"127.8887\"/><text fill=\"#000000\" font-family=\"sans-serif\" font-size=\"12\" lengthAdjust=\"spacingAndGlyphs\" textLength=\"14\" x=\"5\" y=\"141.8574\">Or</text><text fill=\"#000000\" font-family=\"sans-serif\" font-size=\"12\" lengthAdjust=\"spacingAndGlyphs\" textLength=\"0\" x=\"9\" y=\"155.8262\"/><text fill=\"#000000\" font-family=\"monospace\" font-size=\"12\" lengthAdjust=\"spacingAndGlyphs\" textLength=\"91\" x=\"5\" y=\"169.7949\">class Example</text><text fill=\"#000000\" font-family=\"sans-serif\" font-size=\"12\" lengthAdjust=\"spacingAndGlyphs\" textLength=\"0\" x=\"9\" y=\"183.7637\"/><text fill=\"#000000\" font-family=\"sans-serif\" font-size=\"12\" lengthAdjust=\"spacingAndGlyphs\" textLength=\"349\" x=\"5\" y=\"197.7324\">You will find more information about PlantUML syntax on</text><text fill=\"#000000\" font-family=\"sans-serif\" font-size=\"12\" lengthAdjust=\"spacingAndGlyphs\" text-decoration=\"underline\" textLength=\"129\" x=\"358\" y=\"197.7324\">https://plantuml.com</text><image height=\"71\" width=\"80\" x=\"516\" xlink:href=\"data:image/png;base64,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\" y=\"6\"/><rect fill=\"#000000\" height=\"96.4844\" style=\"stroke: #000000; stroke-width: 1.0;\" width=\"602\" x=\"0\" y=\"205.5625\"/><rect fill=\"#33FF02\" height=\"21.2969\" style=\"stroke: #33FF02; stroke-width: 1.0;\" width=\"170\" x=\"5\" y=\"210.5625\"/><text fill=\"#000000\" font-family=\"sans-serif\" font-size=\"14\" font-weight=\"bold\" lengthAdjust=\"spacingAndGlyphs\" textLength=\"168\" x=\"6\" y=\"225.5625\">[From string (line 2) ]</text><text fill=\"#33FF02\" font-family=\"sans-serif\" font-size=\"14\" font-weight=\"bold\" lengthAdjust=\"spacingAndGlyphs\" textLength=\"0\" x=\"10\" y=\"245.8594\"/><text fill=\"#33FF02\" font-family=\"sans-serif\" font-size=\"14\" font-weight=\"bold\" lengthAdjust=\"spacingAndGlyphs\" textLength=\"79\" x=\"5\" y=\"262.1563\">@startuml</text><text fill=\"#33FF02\" font-family=\"sans-serif\" font-size=\"14\" font-weight=\"bold\" lengthAdjust=\"spacingAndGlyphs\" textLength=\"0\" x=\"10\" y=\"278.4531\"/><text fill=\"#FF0000\" font-family=\"sans-serif\" font-size=\"14\" font-weight=\"bold\" lengthAdjust=\"spacingAndGlyphs\" textLength=\"142\" x=\"10\" y=\"294.75\">Empty description</text><!--MD5=[f59edd8218d337f74d0c332fc6737304]\n",
       "@startuml\r\n",
       " \r\n",
       "@enduml\r\n",
       "\n",
       "PlantUML version 1.2020.13(Sat Jun 13 12:26:38 UTC 2020)\n",
       "(EPL source distribution)\n",
       "Java Runtime: OpenJDK Runtime Environment\n",
       "JVM: OpenJDK 64-Bit Server VM\n",
       "Default Encoding: UTF-8\n",
       "Language: en\n",
       "Country: null\n",
       "--></g></svg>"
      ]
     },
     "execution_count": 4,
     "metadata": {},
     "output_type": "execute_result"
    }
   ],
   "source": [
    "%viz --style=\"COMPTREE\" --view=\"State\" \"QualifiedNameImportTest\""
   ]
  },
  {
   "cell_type": "code",
   "execution_count": 5,
   "id": "dangerous-demonstration",
   "metadata": {
    "execution": {
     "iopub.execute_input": "2021-03-26T09:14:59.608200Z",
     "iopub.status.busy": "2021-03-26T09:14:59.607377Z",
     "iopub.status.idle": "2021-03-26T09:14:59.644449Z",
     "shell.execute_reply": "2021-03-26T09:14:59.644761Z"
    }
   },
   "outputs": [
    {
     "data": {
      "image/svg+xml": [
       "<?xml version=\"1.0\" encoding=\"UTF-8\" standalone=\"no\"?><svg xmlns=\"http://www.w3.org/2000/svg\" xmlns:xlink=\"http://www.w3.org/1999/xlink\" contentScriptType=\"application/ecmascript\" contentStyleType=\"text/css\" height=\"189px\" preserveAspectRatio=\"none\" style=\"width:414px;height:189px;\" version=\"1.1\" viewBox=\"0 0 414 189\" width=\"414px\" zoomAndPan=\"magnify\"><defs><filter height=\"300%\" id=\"fwb7x3zux7q7y\" width=\"300%\" x=\"-1\" y=\"-1\"><feGaussianBlur result=\"blurOut\" stdDeviation=\"2.0\"/><feColorMatrix in=\"blurOut\" result=\"blurOut2\" type=\"matrix\" values=\"0 0 0 0 0 0 0 0 0 0 0 0 0 0 0 0 0 0 .4 0\"/><feOffset dx=\"4.0\" dy=\"4.0\" in=\"blurOut2\" result=\"blurOut3\"/><feBlend in=\"SourceGraphic\" in2=\"blurOut3\" mode=\"normal\"/></filter></defs><g><!--MD5=[fbc87193dbaf4d95561dea2c320d4a47]\n",
       "cluster E1--><a href=\"psysml:69fab460-d5be-4945-91cf-3ca8c8123b68\" target=\"_top\" title=\"psysml:69fab460-d5be-4945-91cf-3ca8c8123b68\" xlink:actuate=\"onRequest\" xlink:href=\"psysml:69fab460-d5be-4945-91cf-3ca8c8123b68\" xlink:show=\"new\" xlink:title=\"psysml:69fab460-d5be-4945-91cf-3ca8c8123b68\" xlink:type=\"simple\"><polygon fill=\"#FFFFFF\" filter=\"url(#fwb7x3zux7q7y)\" points=\"16,6,221,6,228,28.2969,392,28.2969,392,177,16,177,16,6\" style=\"stroke: #000000; stroke-width: 1.5;\"/><line style=\"stroke: #000000; stroke-width: 1.5;\" x1=\"16\" x2=\"228\" y1=\"28.2969\" y2=\"28.2969\"/><text fill=\"#000000\" font-family=\"sans-serif\" font-size=\"14\" font-weight=\"bold\" lengthAdjust=\"spacingAndGlyphs\" textLength=\"199\" x=\"20\" y=\"20.9951\">QualifiedNameImportTest</text></a><!--MD5=[e4f7fae6ed58524ba242bb0b0d3be6b7]\n",
       "cluster E2--><a href=\"psysml:a87ccb6a-ce8a-4667-9a31-41e6c6a1c677\" target=\"_top\" title=\"psysml:a87ccb6a-ce8a-4667-9a31-41e6c6a1c677\" xlink:actuate=\"onRequest\" xlink:href=\"psysml:a87ccb6a-ce8a-4667-9a31-41e6c6a1c677\" xlink:show=\"new\" xlink:title=\"psysml:a87ccb6a-ce8a-4667-9a31-41e6c6a1c677\" xlink:type=\"simple\"><polygon fill=\"#FFFFFF\" filter=\"url(#fwb7x3zux7q7y)\" points=\"240,54,266,54,273,76.2969,368,76.2969,368,148,240,148,240,54\" style=\"stroke: #000000; stroke-width: 1.5;\"/><line style=\"stroke: #000000; stroke-width: 1.5;\" x1=\"240\" x2=\"273\" y1=\"76.2969\" y2=\"76.2969\"/><text fill=\"#000000\" font-family=\"sans-serif\" font-size=\"14\" font-weight=\"bold\" lengthAdjust=\"spacingAndGlyphs\" textLength=\"20\" x=\"244\" y=\"68.9951\">P1</text></a><!--MD5=[f6df4d0ebaf0b5dfb2ced0ae5af7c670]\n",
       "cluster E4--><a href=\"psysml:434a9cec-9a5b-4c30-bd61-ce4aa8eabf42\" target=\"_top\" title=\"psysml:434a9cec-9a5b-4c30-bd61-ce4aa8eabf42\" xlink:actuate=\"onRequest\" xlink:href=\"psysml:434a9cec-9a5b-4c30-bd61-ce4aa8eabf42\" xlink:show=\"new\" xlink:title=\"psysml:434a9cec-9a5b-4c30-bd61-ce4aa8eabf42\" xlink:type=\"simple\"><polygon fill=\"#FFFFFF\" filter=\"url(#fwb7x3zux7q7y)\" points=\"40,49,66,49,73,71.2969,216,71.2969,216,153,40,153,40,49\" style=\"stroke: #000000; stroke-width: 1.5;\"/><line style=\"stroke: #000000; stroke-width: 1.5;\" x1=\"40\" x2=\"73\" y1=\"71.2969\" y2=\"71.2969\"/><text fill=\"#000000\" font-family=\"sans-serif\" font-size=\"14\" font-weight=\"bold\" lengthAdjust=\"spacingAndGlyphs\" textLength=\"20\" x=\"44\" y=\"63.9951\">P2</text></a><g id=\"E1.E2.E3\"><a href=\"psysml:dead2420-b34a-43f7-a875-a2c685248268\" target=\"_top\" title=\"psysml:dead2420-b34a-43f7-a875-a2c685248268\" xlink:actuate=\"onRequest\" xlink:href=\"psysml:dead2420-b34a-43f7-a875-a2c685248268\" xlink:show=\"new\" xlink:title=\"psysml:dead2420-b34a-43f7-a875-a2c685248268\" xlink:type=\"simple\"><rect fill=\"#FEFECE\" filter=\"url(#fwb7x3zux7q7y)\" height=\"42.9375\" id=\"E3\" style=\"stroke: #A80036; stroke-width: 1.5;\" width=\"97\" x=\"255.5\" y=\"89\"/><ellipse cx=\"272.75\" cy=\"107.9688\" fill=\"#0000FF\" rx=\"11\" ry=\"11\" style=\"stroke: #A80036; stroke-width: 1.0;\"/><path d=\"M273.5938,114.7188 L271.1406,114.7188 L271.1406,104.4688 L268,104.4688 L268,102.3281 L276.7344,102.3281 L276.7344,104.4688 L273.5938,104.4688 L273.5938,114.7188 Z \"/><text fill=\"#000000\" font-family=\"sans-serif\" font-size=\"12\" font-style=\"italic\" lengthAdjust=\"spacingAndGlyphs\" textLength=\"64\" x=\"285.25\" y=\"105.1387\">«part def»</text><text fill=\"#000000\" font-family=\"sans-serif\" font-size=\"12\" lengthAdjust=\"spacingAndGlyphs\" textLength=\"8\" x=\"313.25\" y=\"119.1074\">A</text></a></g><a href=\"psysml:0289fe7d-3512-4b15-a612-d4f3c113c698\" target=\"_top\" title=\"psysml:0289fe7d-3512-4b15-a612-d4f3c113c698\" xlink:actuate=\"onRequest\" xlink:href=\"psysml:0289fe7d-3512-4b15-a612-d4f3c113c698\" xlink:show=\"new\" xlink:title=\"psysml:0289fe7d-3512-4b15-a612-d4f3c113c698\" xlink:type=\"simple\"><polygon fill=\"#FFFFFF\" filter=\"url(#fwb7x3zux7q7y)\" points=\"150.5,84,185.5,84,192.5,106.2969,199.5,106.2969,199.5,136.5938,150.5,136.5938,150.5,84\" style=\"stroke: #000000; stroke-width: 1.5;\"/><line style=\"stroke: #000000; stroke-width: 1.5;\" x1=\"150.5\" x2=\"192.5\" y1=\"106.2969\" y2=\"106.2969\"/><text fill=\"#000000\" font-family=\"sans-serif\" font-size=\"14\" font-weight=\"bold\" lengthAdjust=\"spacingAndGlyphs\" textLength=\"29\" x=\"154.5\" y=\"98.9951\">P2a</text></a><g id=\"E1.E4.E6\"><a href=\"psysml:febc5459-2ebe-4c36-9a31-624278ca958f\" target=\"_top\" title=\"psysml:febc5459-2ebe-4c36-9a31-624278ca958f\" xlink:actuate=\"onRequest\" xlink:href=\"psysml:febc5459-2ebe-4c36-9a31-624278ca958f\" xlink:show=\"new\" xlink:title=\"psysml:febc5459-2ebe-4c36-9a31-624278ca958f\" xlink:type=\"simple\"><rect fill=\"#FEFECE\" filter=\"url(#fwb7x3zux7q7y)\" height=\"40\" id=\"E6\" rx=\"10\" ry=\"10\" style=\"stroke: #A80036; stroke-width: 1.5;\" width=\"59\" x=\"56.5\" y=\"90.5\"/><ellipse cx=\"73.75\" cy=\"106.5\" fill=\"#B6DBBB\" rx=\"11\" ry=\"11\" style=\"stroke: #A80036; stroke-width: 1.0;\"/><path d=\"M69.625,108.4219 L69.625,100.6094 L72.0781,100.6094 L72.0781,109.0469 Q72.0781,109.9688 72.5469,110.5 Q73.0313,111.0313 73.8594,111.0313 Q74.7031,111.0313 75.1719,110.5 Q75.6406,109.9688 75.6406,109.0469 L75.6406,100.6094 L78.0938,100.6094 L78.0938,108.4219 Q78.0938,110.9531 77.0938,112.0938 Q76.0938,113.2344 73.8594,113.2344 Q71.6406,113.2344 70.625,112.0938 Q69.625,110.9531 69.625,108.4219 Z \"/><text fill=\"#000000\" font-family=\"sans-serif\" font-size=\"12\" lengthAdjust=\"spacingAndGlyphs\" textLength=\"22\" x=\"88.25\" y=\"110.6543\">x: A</text></a></g><!--MD5=[9581b48d62f03cc02552c596543ffbf3]\n",
       "@startuml\r\n",
       "skinparam ranksep 8\r\n",
       "skinparam rectangle {\r\n",
       " backgroundColor<<block>> LightGreen\r\n",
       "}\r\n",
       " \r\n",
       "package \"QualifiedNameImportTest\" as E1  [[psysml:69fab460-d5be-4945-91cf-3ca8c8123b68 ]]  {\r\n",
       "package \"P1\" as E2  [[psysml:a87ccb6a-ce8a-4667-9a31-41e6c6a1c677 ]]  {\r\n",
       "rec def \"A\" as E3  <<(T,blue)part def>> [[psysml:dead2420-b34a-43f7-a875-a2c685248268 ]] {\r\n",
       "}\r\n",
       "}\r\n",
       "package \"P2\" as E4  [[psysml:434a9cec-9a5b-4c30-bd61-ce4aa8eabf42 ]]  {\r\n",
       "package \"P2a\" as E5  [[psysml:0289fe7d-3512-4b15-a612-d4f3c113c698 ]]  {\r\n",
       "}\r\n",
       "rec usage \"x: A\" as E6  [[psysml:febc5459-2ebe-4c36-9a31-624278ca958f ]] {\r\n",
       "}\r\n",
       "}\r\n",
       "}\r\n",
       "@enduml\r\n",
       "\n",
       "PlantUML version 1.2020.13(Sat Jun 13 12:26:38 UTC 2020)\n",
       "(EPL source distribution)\n",
       "Java Runtime: OpenJDK Runtime Environment\n",
       "JVM: OpenJDK 64-Bit Server VM\n",
       "Default Encoding: UTF-8\n",
       "Language: en\n",
       "Country: null\n",
       "--></g></svg>"
      ]
     },
     "execution_count": 5,
     "metadata": {},
     "output_type": "execute_result"
    }
   ],
   "source": [
    "%viz --style=\"COMPTREE\" --view=\"Interconnection\" \"QualifiedNameImportTest\""
   ]
  },
  {
   "cell_type": "code",
   "execution_count": 6,
   "id": "veterinary-rates",
   "metadata": {
    "execution": {
     "iopub.execute_input": "2021-03-26T09:14:59.696330Z",
     "iopub.status.busy": "2021-03-26T09:14:59.695382Z",
     "iopub.status.idle": "2021-03-26T09:14:59.702481Z",
     "shell.execute_reply": "2021-03-26T09:14:59.702808Z"
    }
   },
   "outputs": [
    {
     "data": {
      "image/svg+xml": [
       "<?xml version=\"1.0\" encoding=\"UTF-8\" standalone=\"no\"?><svg xmlns=\"http://www.w3.org/2000/svg\" xmlns:xlink=\"http://www.w3.org/1999/xlink\" contentScriptType=\"application/ecmascript\" contentStyleType=\"text/css\" height=\"12px\" preserveAspectRatio=\"none\" style=\"width:12px;height:12px;\" version=\"1.1\" viewBox=\"0 0 12 12\" width=\"12px\" zoomAndPan=\"magnify\"><defs/><g><!--MD5=[6a4cb978cab31700e1ce5529f947a75d]\n",
       "@startuml\r\n",
       "skinparam ranksep 8\r\n",
       " \r\n",
       "@enduml\r\n",
       "\n",
       "PlantUML version 1.2020.13(Sat Jun 13 12:26:38 UTC 2020)\n",
       "(EPL source distribution)\n",
       "Java Runtime: OpenJDK Runtime Environment\n",
       "JVM: OpenJDK 64-Bit Server VM\n",
       "Default Encoding: UTF-8\n",
       "Language: en\n",
       "Country: null\n",
       "--></g></svg>"
      ]
     },
     "execution_count": 6,
     "metadata": {},
     "output_type": "execute_result"
    }
   ],
   "source": [
    "%viz --style=\"COMPTREE\" --view=\"Action\" \"QualifiedNameImportTest\""
   ]
  },
  {
   "cell_type": "code",
   "execution_count": 7,
   "id": "further-borough",
   "metadata": {
    "execution": {
     "iopub.execute_input": "2021-03-26T09:14:59.754390Z",
     "iopub.status.busy": "2021-03-26T09:14:59.753905Z",
     "iopub.status.idle": "2021-03-26T09:14:59.787028Z",
     "shell.execute_reply": "2021-03-26T09:14:59.787387Z"
    }
   },
   "outputs": [
    {
     "data": {
      "image/svg+xml": [
       "<?xml version=\"1.0\" encoding=\"UTF-8\" standalone=\"no\"?><svg xmlns=\"http://www.w3.org/2000/svg\" xmlns:xlink=\"http://www.w3.org/1999/xlink\" contentScriptType=\"application/ecmascript\" contentStyleType=\"text/css\" height=\"310px\" preserveAspectRatio=\"none\" style=\"width:271px;height:310px;\" version=\"1.1\" viewBox=\"0 0 271 310\" width=\"271px\" zoomAndPan=\"magnify\"><defs><filter height=\"300%\" id=\"f18glqbonaf5nr\" width=\"300%\" x=\"-1\" y=\"-1\"><feGaussianBlur result=\"blurOut\" stdDeviation=\"2.0\"/><feColorMatrix in=\"blurOut\" result=\"blurOut2\" type=\"matrix\" values=\"0 0 0 0 0 0 0 0 0 0 0 0 0 0 0 0 0 0 .4 0\"/><feOffset dx=\"4.0\" dy=\"4.0\" in=\"blurOut2\" result=\"blurOut3\"/><feBlend in=\"SourceGraphic\" in2=\"blurOut3\" mode=\"normal\"/></filter></defs><g><!--MD5=[fbc87193dbaf4d95561dea2c320d4a47]\n",
       "cluster E1--><a href=\"psysml:69fab460-d5be-4945-91cf-3ca8c8123b68\" target=\"_top\" title=\"psysml:69fab460-d5be-4945-91cf-3ca8c8123b68\" xlink:actuate=\"onRequest\" xlink:href=\"psysml:69fab460-d5be-4945-91cf-3ca8c8123b68\" xlink:show=\"new\" xlink:title=\"psysml:69fab460-d5be-4945-91cf-3ca8c8123b68\" xlink:type=\"simple\"><polygon fill=\"#FFFFFF\" filter=\"url(#f18glqbonaf5nr)\" points=\"16,6,221,6,228,28.2969,249,28.2969,249,298,16,298,16,6\" style=\"stroke: #000000; stroke-width: 1.5;\"/><line style=\"stroke: #000000; stroke-width: 1.5;\" x1=\"16\" x2=\"228\" y1=\"28.2969\" y2=\"28.2969\"/><text fill=\"#000000\" font-family=\"sans-serif\" font-size=\"14\" font-weight=\"bold\" lengthAdjust=\"spacingAndGlyphs\" textLength=\"199\" x=\"20\" y=\"20.9951\">QualifiedNameImportTest</text></a><!--MD5=[e4f7fae6ed58524ba242bb0b0d3be6b7]\n",
       "cluster E2--><a href=\"psysml:a87ccb6a-ce8a-4667-9a31-41e6c6a1c677\" target=\"_top\" title=\"psysml:a87ccb6a-ce8a-4667-9a31-41e6c6a1c677\" xlink:actuate=\"onRequest\" xlink:href=\"psysml:a87ccb6a-ce8a-4667-9a31-41e6c6a1c677\" xlink:show=\"new\" xlink:title=\"psysml:a87ccb6a-ce8a-4667-9a31-41e6c6a1c677\" xlink:type=\"simple\"><polygon fill=\"#FFFFFF\" filter=\"url(#f18glqbonaf5nr)\" points=\"101,177,127,177,134,199.2969,225,199.2969,225,274,101,274,101,177\" style=\"stroke: #000000; stroke-width: 1.5;\"/><line style=\"stroke: #000000; stroke-width: 1.5;\" x1=\"101\" x2=\"134\" y1=\"199.2969\" y2=\"199.2969\"/><text fill=\"#000000\" font-family=\"sans-serif\" font-size=\"14\" font-weight=\"bold\" lengthAdjust=\"spacingAndGlyphs\" textLength=\"20\" x=\"105\" y=\"191.9951\">P1</text></a><!--MD5=[f6df4d0ebaf0b5dfb2ced0ae5af7c670]\n",
       "cluster E4--><a href=\"psysml:434a9cec-9a5b-4c30-bd61-ce4aa8eabf42\" target=\"_top\" title=\"psysml:434a9cec-9a5b-4c30-bd61-ce4aa8eabf42\" xlink:actuate=\"onRequest\" xlink:href=\"psysml:434a9cec-9a5b-4c30-bd61-ce4aa8eabf42\" xlink:show=\"new\" xlink:title=\"psysml:434a9cec-9a5b-4c30-bd61-ce4aa8eabf42\" xlink:type=\"simple\"><polygon fill=\"#FFFFFF\" filter=\"url(#f18glqbonaf5nr)\" points=\"40,49,66,49,73,71.2969,225,71.2969,225,153,40,153,40,49\" style=\"stroke: #000000; stroke-width: 1.5;\"/><line style=\"stroke: #000000; stroke-width: 1.5;\" x1=\"40\" x2=\"73\" y1=\"71.2969\" y2=\"71.2969\"/><text fill=\"#000000\" font-family=\"sans-serif\" font-size=\"14\" font-weight=\"bold\" lengthAdjust=\"spacingAndGlyphs\" textLength=\"20\" x=\"44\" y=\"63.9951\">P2</text></a><!--MD5=[09b614a08d8cba4a07c9adeb5e0fee81]\n",
       "class E3--><a href=\"psysml:dead2420-b34a-43f7-a875-a2c685248268\" target=\"_top\" title=\"psysml:dead2420-b34a-43f7-a875-a2c685248268\" xlink:actuate=\"onRequest\" xlink:href=\"psysml:dead2420-b34a-43f7-a875-a2c685248268\" xlink:show=\"new\" xlink:title=\"psysml:dead2420-b34a-43f7-a875-a2c685248268\" xlink:type=\"simple\"><rect fill=\"#FEFECE\" filter=\"url(#f18glqbonaf5nr)\" height=\"45.9375\" id=\"E3\" style=\"stroke: #A80036; stroke-width: 1.5;\" width=\"92\" x=\"117\" y=\"212\"/><ellipse cx=\"132\" cy=\"230.9688\" fill=\"#0000FF\" rx=\"11\" ry=\"11\" style=\"stroke: #A80036; stroke-width: 1.0;\"/><path d=\"M132.8438,237.7188 L130.3906,237.7188 L130.3906,227.4688 L127.25,227.4688 L127.25,225.3281 L135.9844,225.3281 L135.9844,227.4688 L132.8438,227.4688 L132.8438,237.7188 Z \"/><text fill=\"#000000\" font-family=\"sans-serif\" font-size=\"12\" font-style=\"italic\" lengthAdjust=\"spacingAndGlyphs\" textLength=\"64\" x=\"144\" y=\"228.1387\">«part def»</text><text fill=\"#000000\" font-family=\"sans-serif\" font-size=\"12\" lengthAdjust=\"spacingAndGlyphs\" textLength=\"8\" x=\"172\" y=\"242.1074\">A</text><line style=\"stroke: #A80036; stroke-width: 1.5;\" x1=\"118\" x2=\"208\" y1=\"249.9375\" y2=\"249.9375\"/></a><!--MD5=[60a26617385b1d2d0262a64233df1f8d]\n",
       "class E6--><a href=\"psysml:febc5459-2ebe-4c36-9a31-624278ca958f\" target=\"_top\" title=\"psysml:febc5459-2ebe-4c36-9a31-624278ca958f\" xlink:actuate=\"onRequest\" xlink:href=\"psysml:febc5459-2ebe-4c36-9a31-624278ca958f\" xlink:show=\"new\" xlink:title=\"psysml:febc5459-2ebe-4c36-9a31-624278ca958f\" xlink:type=\"simple\"><rect fill=\"#FEFECE\" filter=\"url(#f18glqbonaf5nr)\" height=\"45.9375\" id=\"E6\" rx=\"10\" ry=\"10\" style=\"stroke: #A80036; stroke-width: 1.5;\" width=\"68\" x=\"141\" y=\"87.5\"/><ellipse cx=\"156\" cy=\"106.4688\" fill=\"#0000FF\" rx=\"11\" ry=\"11\" style=\"stroke: #A80036; stroke-width: 1.0;\"/><path d=\"M156.8438,113.2188 L154.3906,113.2188 L154.3906,102.9688 L151.25,102.9688 L151.25,100.8281 L159.9844,100.8281 L159.9844,102.9688 L156.8438,102.9688 L156.8438,113.2188 Z \"/><text fill=\"#000000\" font-family=\"sans-serif\" font-size=\"12\" font-style=\"italic\" lengthAdjust=\"spacingAndGlyphs\" textLength=\"40\" x=\"168\" y=\"103.6387\">«part»</text><text fill=\"#000000\" font-family=\"sans-serif\" font-size=\"12\" lengthAdjust=\"spacingAndGlyphs\" textLength=\"22\" x=\"177\" y=\"117.6074\">x: A</text><line style=\"stroke: #A80036; stroke-width: 1.5;\" x1=\"142\" x2=\"208\" y1=\"125.4375\" y2=\"125.4375\"/></a><a href=\"psysml:0289fe7d-3512-4b15-a612-d4f3c113c698\" target=\"_top\" title=\"psysml:0289fe7d-3512-4b15-a612-d4f3c113c698\" xlink:actuate=\"onRequest\" xlink:href=\"psysml:0289fe7d-3512-4b15-a612-d4f3c113c698\" xlink:show=\"new\" xlink:title=\"psysml:0289fe7d-3512-4b15-a612-d4f3c113c698\" xlink:type=\"simple\"><polygon fill=\"#FFFFFF\" filter=\"url(#f18glqbonaf5nr)\" points=\"56.5,84,91.5,84,98.5,106.2969,105.5,106.2969,105.5,136.5938,56.5,136.5938,56.5,84\" style=\"stroke: #000000; stroke-width: 1.5;\"/><line style=\"stroke: #000000; stroke-width: 1.5;\" x1=\"56.5\" x2=\"98.5\" y1=\"106.2969\" y2=\"106.2969\"/><text fill=\"#000000\" font-family=\"sans-serif\" font-size=\"14\" font-weight=\"bold\" lengthAdjust=\"spacingAndGlyphs\" textLength=\"29\" x=\"60.5\" y=\"98.9951\">P2a</text></a><!--MD5=[a717450b82c80b9240a525fa862496af]\n",
       "link E6 to E3--><a href=\"psysml:a41f4e21-5f48-4d30-b801-3db99d3a1abc\" target=\"_top\" title=\"psysml:a41f4e21-5f48-4d30-b801-3db99d3a1abc\" xlink:actuate=\"onRequest\" xlink:href=\"psysml:a41f4e21-5f48-4d30-b801-3db99d3a1abc\" xlink:show=\"new\" xlink:title=\"psysml:a41f4e21-5f48-4d30-b801-3db99d3a1abc\" xlink:type=\"simple\"><path d=\"M172.83,133.68 C171.24,149.9 169.04,172.39 167.12,191.96 \" fill=\"none\" id=\"E6-&gt;E3\" style=\"stroke: #A80036; stroke-width: 1.0;\"/><polygon fill=\"#FFFFFF\" points=\"165.16,211.98,160.0533,192.3861,173.986,193.7564,165.16,211.98\" style=\"stroke: #A80036; stroke-width: 1.0;\"/><ellipse cx=\"162.6016\" cy=\"186.9092\" fill=\"#A80036\" rx=\"2\" ry=\"2\" style=\"stroke: #A80036; stroke-width: 1.0;\"/><ellipse cx=\"172.5535\" cy=\"187.888\" fill=\"#A80036\" rx=\"2\" ry=\"2\" style=\"stroke: #A80036; stroke-width: 1.0;\"/></a><!--MD5=[55dfee019b4e47bde17ac5cbcbfe7088]\n",
       "@startuml\r\n",
       " \r\n",
       "package \"QualifiedNameImportTest\" as E1  [[psysml:69fab460-d5be-4945-91cf-3ca8c8123b68 ]]  {\r\n",
       "package \"P1\" as E2  [[psysml:a87ccb6a-ce8a-4667-9a31-41e6c6a1c677 ]]  {\r\n",
       "comp def \"A\" as E3  <<(T,blue)part def>> [[psysml:dead2420-b34a-43f7-a875-a2c685248268 ]] {\r\n",
       "}\r\n",
       "}\r\n",
       "package \"P2\" as E4  [[psysml:434a9cec-9a5b-4c30-bd61-ce4aa8eabf42 ]]  {\r\n",
       "package \"P2a\" as E5  [[psysml:0289fe7d-3512-4b15-a612-d4f3c113c698 ]]  {\r\n",
       "}\r\n",
       "comp usage \"x: A\" as E6  <<(T,blue)part>> [[psysml:febc5459-2ebe-4c36-9a31-624278ca958f ]] {\r\n",
       "}\r\n",
       "E6 - -:|> E3 [[psysml:a41f4e21-5f48-4d30-b801-3db99d3a1abc ]] \r\n",
       "}\r\n",
       "}\r\n",
       "@enduml\r\n",
       "\n",
       "PlantUML version 1.2020.13(Sat Jun 13 12:26:38 UTC 2020)\n",
       "(EPL source distribution)\n",
       "Java Runtime: OpenJDK Runtime Environment\n",
       "JVM: OpenJDK 64-Bit Server VM\n",
       "Default Encoding: UTF-8\n",
       "Language: en\n",
       "Country: null\n",
       "--></g></svg>"
      ]
     },
     "execution_count": 7,
     "metadata": {},
     "output_type": "execute_result"
    }
   ],
   "source": [
    "%viz --style=\"COMPTREE\" --view=\"Sequence\" \"QualifiedNameImportTest\""
   ]
  },
  {
   "cell_type": "code",
   "execution_count": 8,
   "id": "constitutional-vatican",
   "metadata": {
    "execution": {
     "iopub.execute_input": "2021-03-26T09:14:59.837874Z",
     "iopub.status.busy": "2021-03-26T09:14:59.837551Z",
     "iopub.status.idle": "2021-03-26T09:14:59.871660Z",
     "shell.execute_reply": "2021-03-26T09:14:59.872050Z"
    }
   },
   "outputs": [
    {
     "data": {
      "image/svg+xml": [
       "<?xml version=\"1.0\" encoding=\"UTF-8\" standalone=\"no\"?><svg xmlns=\"http://www.w3.org/2000/svg\" xmlns:xlink=\"http://www.w3.org/1999/xlink\" contentScriptType=\"application/ecmascript\" contentStyleType=\"text/css\" height=\"310px\" preserveAspectRatio=\"none\" style=\"width:271px;height:310px;\" version=\"1.1\" viewBox=\"0 0 271 310\" width=\"271px\" zoomAndPan=\"magnify\"><defs><filter height=\"300%\" id=\"f18glqbonaf5nr\" width=\"300%\" x=\"-1\" y=\"-1\"><feGaussianBlur result=\"blurOut\" stdDeviation=\"2.0\"/><feColorMatrix in=\"blurOut\" result=\"blurOut2\" type=\"matrix\" values=\"0 0 0 0 0 0 0 0 0 0 0 0 0 0 0 0 0 0 .4 0\"/><feOffset dx=\"4.0\" dy=\"4.0\" in=\"blurOut2\" result=\"blurOut3\"/><feBlend in=\"SourceGraphic\" in2=\"blurOut3\" mode=\"normal\"/></filter></defs><g><!--MD5=[fbc87193dbaf4d95561dea2c320d4a47]\n",
       "cluster E1--><a href=\"psysml:69fab460-d5be-4945-91cf-3ca8c8123b68\" target=\"_top\" title=\"psysml:69fab460-d5be-4945-91cf-3ca8c8123b68\" xlink:actuate=\"onRequest\" xlink:href=\"psysml:69fab460-d5be-4945-91cf-3ca8c8123b68\" xlink:show=\"new\" xlink:title=\"psysml:69fab460-d5be-4945-91cf-3ca8c8123b68\" xlink:type=\"simple\"><polygon fill=\"#FFFFFF\" filter=\"url(#f18glqbonaf5nr)\" points=\"16,6,221,6,228,28.2969,249,28.2969,249,298,16,298,16,6\" style=\"stroke: #000000; stroke-width: 1.5;\"/><line style=\"stroke: #000000; stroke-width: 1.5;\" x1=\"16\" x2=\"228\" y1=\"28.2969\" y2=\"28.2969\"/><text fill=\"#000000\" font-family=\"sans-serif\" font-size=\"14\" font-weight=\"bold\" lengthAdjust=\"spacingAndGlyphs\" textLength=\"199\" x=\"20\" y=\"20.9951\">QualifiedNameImportTest</text></a><!--MD5=[e4f7fae6ed58524ba242bb0b0d3be6b7]\n",
       "cluster E2--><a href=\"psysml:a87ccb6a-ce8a-4667-9a31-41e6c6a1c677\" target=\"_top\" title=\"psysml:a87ccb6a-ce8a-4667-9a31-41e6c6a1c677\" xlink:actuate=\"onRequest\" xlink:href=\"psysml:a87ccb6a-ce8a-4667-9a31-41e6c6a1c677\" xlink:show=\"new\" xlink:title=\"psysml:a87ccb6a-ce8a-4667-9a31-41e6c6a1c677\" xlink:type=\"simple\"><polygon fill=\"#FFFFFF\" filter=\"url(#f18glqbonaf5nr)\" points=\"101,177,127,177,134,199.2969,225,199.2969,225,274,101,274,101,177\" style=\"stroke: #000000; stroke-width: 1.5;\"/><line style=\"stroke: #000000; stroke-width: 1.5;\" x1=\"101\" x2=\"134\" y1=\"199.2969\" y2=\"199.2969\"/><text fill=\"#000000\" font-family=\"sans-serif\" font-size=\"14\" font-weight=\"bold\" lengthAdjust=\"spacingAndGlyphs\" textLength=\"20\" x=\"105\" y=\"191.9951\">P1</text></a><!--MD5=[f6df4d0ebaf0b5dfb2ced0ae5af7c670]\n",
       "cluster E4--><a href=\"psysml:434a9cec-9a5b-4c30-bd61-ce4aa8eabf42\" target=\"_top\" title=\"psysml:434a9cec-9a5b-4c30-bd61-ce4aa8eabf42\" xlink:actuate=\"onRequest\" xlink:href=\"psysml:434a9cec-9a5b-4c30-bd61-ce4aa8eabf42\" xlink:show=\"new\" xlink:title=\"psysml:434a9cec-9a5b-4c30-bd61-ce4aa8eabf42\" xlink:type=\"simple\"><polygon fill=\"#FFFFFF\" filter=\"url(#f18glqbonaf5nr)\" points=\"40,49,66,49,73,71.2969,225,71.2969,225,153,40,153,40,49\" style=\"stroke: #000000; stroke-width: 1.5;\"/><line style=\"stroke: #000000; stroke-width: 1.5;\" x1=\"40\" x2=\"73\" y1=\"71.2969\" y2=\"71.2969\"/><text fill=\"#000000\" font-family=\"sans-serif\" font-size=\"14\" font-weight=\"bold\" lengthAdjust=\"spacingAndGlyphs\" textLength=\"20\" x=\"44\" y=\"63.9951\">P2</text></a><!--MD5=[09b614a08d8cba4a07c9adeb5e0fee81]\n",
       "class E3--><a href=\"psysml:dead2420-b34a-43f7-a875-a2c685248268\" target=\"_top\" title=\"psysml:dead2420-b34a-43f7-a875-a2c685248268\" xlink:actuate=\"onRequest\" xlink:href=\"psysml:dead2420-b34a-43f7-a875-a2c685248268\" xlink:show=\"new\" xlink:title=\"psysml:dead2420-b34a-43f7-a875-a2c685248268\" xlink:type=\"simple\"><rect fill=\"#FEFECE\" filter=\"url(#f18glqbonaf5nr)\" height=\"45.9375\" id=\"E3\" style=\"stroke: #A80036; stroke-width: 1.5;\" width=\"92\" x=\"117\" y=\"212\"/><ellipse cx=\"132\" cy=\"230.9688\" fill=\"#0000FF\" rx=\"11\" ry=\"11\" style=\"stroke: #A80036; stroke-width: 1.0;\"/><path d=\"M132.8438,237.7188 L130.3906,237.7188 L130.3906,227.4688 L127.25,227.4688 L127.25,225.3281 L135.9844,225.3281 L135.9844,227.4688 L132.8438,227.4688 L132.8438,237.7188 Z \"/><text fill=\"#000000\" font-family=\"sans-serif\" font-size=\"12\" font-style=\"italic\" lengthAdjust=\"spacingAndGlyphs\" textLength=\"64\" x=\"144\" y=\"228.1387\">«part def»</text><text fill=\"#000000\" font-family=\"sans-serif\" font-size=\"12\" lengthAdjust=\"spacingAndGlyphs\" textLength=\"8\" x=\"172\" y=\"242.1074\">A</text><line style=\"stroke: #A80036; stroke-width: 1.5;\" x1=\"118\" x2=\"208\" y1=\"249.9375\" y2=\"249.9375\"/></a><!--MD5=[60a26617385b1d2d0262a64233df1f8d]\n",
       "class E6--><a href=\"psysml:febc5459-2ebe-4c36-9a31-624278ca958f\" target=\"_top\" title=\"psysml:febc5459-2ebe-4c36-9a31-624278ca958f\" xlink:actuate=\"onRequest\" xlink:href=\"psysml:febc5459-2ebe-4c36-9a31-624278ca958f\" xlink:show=\"new\" xlink:title=\"psysml:febc5459-2ebe-4c36-9a31-624278ca958f\" xlink:type=\"simple\"><rect fill=\"#FEFECE\" filter=\"url(#f18glqbonaf5nr)\" height=\"45.9375\" id=\"E6\" rx=\"10\" ry=\"10\" style=\"stroke: #A80036; stroke-width: 1.5;\" width=\"68\" x=\"141\" y=\"87.5\"/><ellipse cx=\"156\" cy=\"106.4688\" fill=\"#0000FF\" rx=\"11\" ry=\"11\" style=\"stroke: #A80036; stroke-width: 1.0;\"/><path d=\"M156.8438,113.2188 L154.3906,113.2188 L154.3906,102.9688 L151.25,102.9688 L151.25,100.8281 L159.9844,100.8281 L159.9844,102.9688 L156.8438,102.9688 L156.8438,113.2188 Z \"/><text fill=\"#000000\" font-family=\"sans-serif\" font-size=\"12\" font-style=\"italic\" lengthAdjust=\"spacingAndGlyphs\" textLength=\"40\" x=\"168\" y=\"103.6387\">«part»</text><text fill=\"#000000\" font-family=\"sans-serif\" font-size=\"12\" lengthAdjust=\"spacingAndGlyphs\" textLength=\"22\" x=\"177\" y=\"117.6074\">x: A</text><line style=\"stroke: #A80036; stroke-width: 1.5;\" x1=\"142\" x2=\"208\" y1=\"125.4375\" y2=\"125.4375\"/></a><a href=\"psysml:0289fe7d-3512-4b15-a612-d4f3c113c698\" target=\"_top\" title=\"psysml:0289fe7d-3512-4b15-a612-d4f3c113c698\" xlink:actuate=\"onRequest\" xlink:href=\"psysml:0289fe7d-3512-4b15-a612-d4f3c113c698\" xlink:show=\"new\" xlink:title=\"psysml:0289fe7d-3512-4b15-a612-d4f3c113c698\" xlink:type=\"simple\"><polygon fill=\"#FFFFFF\" filter=\"url(#f18glqbonaf5nr)\" points=\"56.5,84,91.5,84,98.5,106.2969,105.5,106.2969,105.5,136.5938,56.5,136.5938,56.5,84\" style=\"stroke: #000000; stroke-width: 1.5;\"/><line style=\"stroke: #000000; stroke-width: 1.5;\" x1=\"56.5\" x2=\"98.5\" y1=\"106.2969\" y2=\"106.2969\"/><text fill=\"#000000\" font-family=\"sans-serif\" font-size=\"14\" font-weight=\"bold\" lengthAdjust=\"spacingAndGlyphs\" textLength=\"29\" x=\"60.5\" y=\"98.9951\">P2a</text></a><!--MD5=[a717450b82c80b9240a525fa862496af]\n",
       "link E6 to E3--><a href=\"psysml:a41f4e21-5f48-4d30-b801-3db99d3a1abc\" target=\"_top\" title=\"psysml:a41f4e21-5f48-4d30-b801-3db99d3a1abc\" xlink:actuate=\"onRequest\" xlink:href=\"psysml:a41f4e21-5f48-4d30-b801-3db99d3a1abc\" xlink:show=\"new\" xlink:title=\"psysml:a41f4e21-5f48-4d30-b801-3db99d3a1abc\" xlink:type=\"simple\"><path d=\"M172.83,133.68 C171.24,149.9 169.04,172.39 167.12,191.96 \" fill=\"none\" id=\"E6-&gt;E3\" style=\"stroke: #A80036; stroke-width: 1.0;\"/><polygon fill=\"#FFFFFF\" points=\"165.16,211.98,160.0533,192.3861,173.986,193.7564,165.16,211.98\" style=\"stroke: #A80036; stroke-width: 1.0;\"/><ellipse cx=\"162.6016\" cy=\"186.9092\" fill=\"#A80036\" rx=\"2\" ry=\"2\" style=\"stroke: #A80036; stroke-width: 1.0;\"/><ellipse cx=\"172.5535\" cy=\"187.888\" fill=\"#A80036\" rx=\"2\" ry=\"2\" style=\"stroke: #A80036; stroke-width: 1.0;\"/></a><!--MD5=[55dfee019b4e47bde17ac5cbcbfe7088]\n",
       "@startuml\r\n",
       " \r\n",
       "package \"QualifiedNameImportTest\" as E1  [[psysml:69fab460-d5be-4945-91cf-3ca8c8123b68 ]]  {\r\n",
       "package \"P1\" as E2  [[psysml:a87ccb6a-ce8a-4667-9a31-41e6c6a1c677 ]]  {\r\n",
       "comp def \"A\" as E3  <<(T,blue)part def>> [[psysml:dead2420-b34a-43f7-a875-a2c685248268 ]] {\r\n",
       "}\r\n",
       "}\r\n",
       "package \"P2\" as E4  [[psysml:434a9cec-9a5b-4c30-bd61-ce4aa8eabf42 ]]  {\r\n",
       "package \"P2a\" as E5  [[psysml:0289fe7d-3512-4b15-a612-d4f3c113c698 ]]  {\r\n",
       "}\r\n",
       "comp usage \"x: A\" as E6  <<(T,blue)part>> [[psysml:febc5459-2ebe-4c36-9a31-624278ca958f ]] {\r\n",
       "}\r\n",
       "E6 - -:|> E3 [[psysml:a41f4e21-5f48-4d30-b801-3db99d3a1abc ]] \r\n",
       "}\r\n",
       "}\r\n",
       "@enduml\r\n",
       "\n",
       "PlantUML version 1.2020.13(Sat Jun 13 12:26:38 UTC 2020)\n",
       "(EPL source distribution)\n",
       "Java Runtime: OpenJDK Runtime Environment\n",
       "JVM: OpenJDK 64-Bit Server VM\n",
       "Default Encoding: UTF-8\n",
       "Language: en\n",
       "Country: null\n",
       "--></g></svg>"
      ]
     },
     "execution_count": 8,
     "metadata": {},
     "output_type": "execute_result"
    }
   ],
   "source": [
    "%viz --style=\"COMPTREE\" --view=\"MIXED\" \"QualifiedNameImportTest\""
   ]
  },
  {
   "cell_type": "code",
   "execution_count": 9,
   "id": "according-password",
   "metadata": {
    "execution": {
     "iopub.execute_input": "2021-03-26T09:14:59.922572Z",
     "iopub.status.busy": "2021-03-26T09:14:59.922207Z",
     "iopub.status.idle": "2021-03-26T09:14:59.957811Z",
     "shell.execute_reply": "2021-03-26T09:14:59.956901Z"
    }
   },
   "outputs": [
    {
     "data": {
      "image/svg+xml": [
       "<?xml version=\"1.0\" encoding=\"UTF-8\" standalone=\"no\"?><svg xmlns=\"http://www.w3.org/2000/svg\" xmlns:xlink=\"http://www.w3.org/1999/xlink\" contentScriptType=\"application/ecmascript\" contentStyleType=\"text/css\" height=\"310px\" preserveAspectRatio=\"none\" style=\"width:253px;height:310px;\" version=\"1.1\" viewBox=\"0 0 253 310\" width=\"253px\" zoomAndPan=\"magnify\"><defs/><g><!--MD5=[fbc87193dbaf4d95561dea2c320d4a47]\n",
       "cluster E1--><a href=\"psysml:69fab460-d5be-4945-91cf-3ca8c8123b68\" target=\"_top\" title=\"psysml:69fab460-d5be-4945-91cf-3ca8c8123b68\" xlink:actuate=\"onRequest\" xlink:href=\"psysml:69fab460-d5be-4945-91cf-3ca8c8123b68\" xlink:show=\"new\" xlink:title=\"psysml:69fab460-d5be-4945-91cf-3ca8c8123b68\" xlink:type=\"simple\"><polygon fill=\"#FFFFFF\" points=\"16,6,221,6,228,28.2969,231,28.2969,231,298,16,298,16,6\" style=\"stroke: #000000; stroke-width: 1.5;\"/><line style=\"stroke: #000000; stroke-width: 1.5;\" x1=\"16\" x2=\"228\" y1=\"28.2969\" y2=\"28.2969\"/><text fill=\"#000000\" font-family=\"sans-serif\" font-size=\"14\" font-weight=\"bold\" lengthAdjust=\"spacingAndGlyphs\" textLength=\"199\" x=\"20\" y=\"20.9951\">QualifiedNameImportTest</text></a><!--MD5=[e4f7fae6ed58524ba242bb0b0d3be6b7]\n",
       "cluster E2--><a href=\"psysml:a87ccb6a-ce8a-4667-9a31-41e6c6a1c677\" target=\"_top\" title=\"psysml:a87ccb6a-ce8a-4667-9a31-41e6c6a1c677\" xlink:actuate=\"onRequest\" xlink:href=\"psysml:a87ccb6a-ce8a-4667-9a31-41e6c6a1c677\" xlink:show=\"new\" xlink:title=\"psysml:a87ccb6a-ce8a-4667-9a31-41e6c6a1c677\" xlink:type=\"simple\"><polygon fill=\"#FFFFFF\" points=\"105,177,131,177,138,199.2969,203,199.2969,203,274,105,274,105,177\" style=\"stroke: #000000; stroke-width: 1.5;\"/><line style=\"stroke: #000000; stroke-width: 1.5;\" x1=\"105\" x2=\"138\" y1=\"199.2969\" y2=\"199.2969\"/><text fill=\"#000000\" font-family=\"sans-serif\" font-size=\"14\" font-weight=\"bold\" lengthAdjust=\"spacingAndGlyphs\" textLength=\"20\" x=\"109\" y=\"191.9951\">P1</text></a><!--MD5=[f6df4d0ebaf0b5dfb2ced0ae5af7c670]\n",
       "cluster E4--><a href=\"psysml:434a9cec-9a5b-4c30-bd61-ce4aa8eabf42\" target=\"_top\" title=\"psysml:434a9cec-9a5b-4c30-bd61-ce4aa8eabf42\" xlink:actuate=\"onRequest\" xlink:href=\"psysml:434a9cec-9a5b-4c30-bd61-ce4aa8eabf42\" xlink:show=\"new\" xlink:title=\"psysml:434a9cec-9a5b-4c30-bd61-ce4aa8eabf42\" xlink:type=\"simple\"><polygon fill=\"#FFFFFF\" points=\"44,49,70,49,77,71.2969,203,71.2969,203,153,44,153,44,49\" style=\"stroke: #000000; stroke-width: 1.5;\"/><line style=\"stroke: #000000; stroke-width: 1.5;\" x1=\"44\" x2=\"77\" y1=\"71.2969\" y2=\"71.2969\"/><text fill=\"#000000\" font-family=\"sans-serif\" font-size=\"14\" font-weight=\"bold\" lengthAdjust=\"spacingAndGlyphs\" textLength=\"20\" x=\"48\" y=\"63.9951\">P2</text></a><!--MD5=[09b614a08d8cba4a07c9adeb5e0fee81]\n",
       "class E3--><a href=\"psysml:dead2420-b34a-43f7-a875-a2c685248268\" target=\"_top\" title=\"psysml:dead2420-b34a-43f7-a875-a2c685248268\" xlink:actuate=\"onRequest\" xlink:href=\"psysml:dead2420-b34a-43f7-a875-a2c685248268\" xlink:show=\"new\" xlink:title=\"psysml:dead2420-b34a-43f7-a875-a2c685248268\" xlink:type=\"simple\"><rect fill=\"#FFFFFF\" height=\"45.9375\" id=\"E3\" style=\"stroke: #383838; stroke-width: 1.5;\" width=\"66\" x=\"121\" y=\"212\"/><text fill=\"#000000\" font-family=\"sans-serif\" font-size=\"12\" font-style=\"italic\" lengthAdjust=\"spacingAndGlyphs\" textLength=\"64\" x=\"122\" y=\"228.1387\">«part def»</text><text fill=\"#000000\" font-family=\"sans-serif\" font-size=\"12\" lengthAdjust=\"spacingAndGlyphs\" textLength=\"8\" x=\"150\" y=\"242.1074\">A</text><line style=\"stroke: #383838; stroke-width: 1.5;\" x1=\"122\" x2=\"186\" y1=\"249.9375\" y2=\"249.9375\"/></a><!--MD5=[60a26617385b1d2d0262a64233df1f8d]\n",
       "class E6--><a href=\"psysml:febc5459-2ebe-4c36-9a31-624278ca958f\" target=\"_top\" title=\"psysml:febc5459-2ebe-4c36-9a31-624278ca958f\" xlink:actuate=\"onRequest\" xlink:href=\"psysml:febc5459-2ebe-4c36-9a31-624278ca958f\" xlink:show=\"new\" xlink:title=\"psysml:febc5459-2ebe-4c36-9a31-624278ca958f\" xlink:type=\"simple\"><rect fill=\"#FFFFFF\" height=\"45.9375\" id=\"E6\" rx=\"10\" ry=\"10\" style=\"stroke: #383838; stroke-width: 1.5;\" width=\"42\" x=\"145\" y=\"87.5\"/><text fill=\"#000000\" font-family=\"sans-serif\" font-size=\"12\" font-style=\"italic\" lengthAdjust=\"spacingAndGlyphs\" textLength=\"40\" x=\"146\" y=\"103.6387\">«part»</text><text fill=\"#000000\" font-family=\"sans-serif\" font-size=\"12\" lengthAdjust=\"spacingAndGlyphs\" textLength=\"22\" x=\"155\" y=\"117.6074\">x: A</text><line style=\"stroke: #383838; stroke-width: 1.5;\" x1=\"146\" x2=\"186\" y1=\"125.4375\" y2=\"125.4375\"/></a><a href=\"psysml:0289fe7d-3512-4b15-a612-d4f3c113c698\" target=\"_top\" title=\"psysml:0289fe7d-3512-4b15-a612-d4f3c113c698\" xlink:actuate=\"onRequest\" xlink:href=\"psysml:0289fe7d-3512-4b15-a612-d4f3c113c698\" xlink:show=\"new\" xlink:title=\"psysml:0289fe7d-3512-4b15-a612-d4f3c113c698\" xlink:type=\"simple\"><polygon fill=\"#FFFFFF\" points=\"60.5,84,95.5,84,102.5,106.2969,109.5,106.2969,109.5,136.5938,60.5,136.5938,60.5,84\" style=\"stroke: #000000; stroke-width: 1.5;\"/><line style=\"stroke: #000000; stroke-width: 1.5;\" x1=\"60.5\" x2=\"102.5\" y1=\"106.2969\" y2=\"106.2969\"/><text fill=\"#000000\" font-family=\"sans-serif\" font-size=\"14\" font-weight=\"bold\" lengthAdjust=\"spacingAndGlyphs\" textLength=\"29\" x=\"64.5\" y=\"98.9951\">P2a</text></a><!--MD5=[a717450b82c80b9240a525fa862496af]\n",
       "link E6 to E3--><a href=\"psysml:a41f4e21-5f48-4d30-b801-3db99d3a1abc\" target=\"_top\" title=\"psysml:a41f4e21-5f48-4d30-b801-3db99d3a1abc\" xlink:actuate=\"onRequest\" xlink:href=\"psysml:a41f4e21-5f48-4d30-b801-3db99d3a1abc\" xlink:show=\"new\" xlink:title=\"psysml:a41f4e21-5f48-4d30-b801-3db99d3a1abc\" xlink:type=\"simple\"><path d=\"M163.83,133.68 C162.24,149.9 160.04,172.39 158.12,191.96 \" fill=\"none\" id=\"E6-&gt;E3\" style=\"stroke: #383838; stroke-width: 1.0;\"/><polygon fill=\"#FFFFFF\" points=\"156.16,211.98,151.0533,192.3861,164.986,193.7564,156.16,211.98\" style=\"stroke: #383838; stroke-width: 1.0;\"/><ellipse cx=\"153.6016\" cy=\"186.9092\" fill=\"#383838\" rx=\"2\" ry=\"2\" style=\"stroke: #383838; stroke-width: 1.0;\"/><ellipse cx=\"163.5535\" cy=\"187.888\" fill=\"#383838\" rx=\"2\" ry=\"2\" style=\"stroke: #383838; stroke-width: 1.0;\"/></a><!--MD5=[bbcedfbcd039c8656044c192718f80ca]\n",
       "@startuml\r\n",
       "skinparam linetype polyline\r\n",
       "skinparam monochrome true\r\n",
       "skinparam classbackgroundcolor white\r\n",
       "skinparam shadowing false\r\n",
       "skinparam wrapWidth 300\r\n",
       "hide circle\r\n",
       "\r\n",
       "package \"QualifiedNameImportTest\" as E1  [[psysml:69fab460-d5be-4945-91cf-3ca8c8123b68 ]]  {\r\n",
       "package \"P1\" as E2  [[psysml:a87ccb6a-ce8a-4667-9a31-41e6c6a1c677 ]]  {\r\n",
       "comp def \"A\" as E3  <<(T,blue)part def>> [[psysml:dead2420-b34a-43f7-a875-a2c685248268 ]] {\r\n",
       "}\r\n",
       "}\r\n",
       "package \"P2\" as E4  [[psysml:434a9cec-9a5b-4c30-bd61-ce4aa8eabf42 ]]  {\r\n",
       "package \"P2a\" as E5  [[psysml:0289fe7d-3512-4b15-a612-d4f3c113c698 ]]  {\r\n",
       "}\r\n",
       "comp usage \"x: A\" as E6  <<(T,blue)part>> [[psysml:febc5459-2ebe-4c36-9a31-624278ca958f ]] {\r\n",
       "}\r\n",
       "E6 - -:|> E3 [[psysml:a41f4e21-5f48-4d30-b801-3db99d3a1abc ]] \r\n",
       "}\r\n",
       "}\r\n",
       "@enduml\r\n",
       "\n",
       "PlantUML version 1.2020.13(Sat Jun 13 12:26:38 UTC 2020)\n",
       "(EPL source distribution)\n",
       "Java Runtime: OpenJDK Runtime Environment\n",
       "JVM: OpenJDK 64-Bit Server VM\n",
       "Default Encoding: UTF-8\n",
       "Language: en\n",
       "Country: null\n",
       "--></g></svg>"
      ]
     },
     "execution_count": 9,
     "metadata": {},
     "output_type": "execute_result"
    }
   ],
   "source": [
    "%viz --style=\"POLYLINE\" --view=\"Default\" \"QualifiedNameImportTest\""
   ]
  },
  {
   "cell_type": "code",
   "execution_count": 10,
   "id": "behavioral-template",
   "metadata": {
    "execution": {
     "iopub.execute_input": "2021-03-26T09:15:00.010102Z",
     "iopub.status.busy": "2021-03-26T09:15:00.009341Z",
     "iopub.status.idle": "2021-03-26T09:15:00.062915Z",
     "shell.execute_reply": "2021-03-26T09:15:00.063365Z"
    }
   },
   "outputs": [
    {
     "data": {
      "image/svg+xml": [
       "<?xml version=\"1.0\" encoding=\"UTF-8\" standalone=\"no\"?><svg xmlns=\"http://www.w3.org/2000/svg\" xmlns:xlink=\"http://www.w3.org/1999/xlink\" contentScriptType=\"application/ecmascript\" contentStyleType=\"text/css\" height=\"310px\" preserveAspectRatio=\"none\" style=\"width:253px;height:310px;\" version=\"1.1\" viewBox=\"0 0 253 310\" width=\"253px\" zoomAndPan=\"magnify\"><defs/><g><!--MD5=[fbc87193dbaf4d95561dea2c320d4a47]\n",
       "cluster E1--><a href=\"psysml:69fab460-d5be-4945-91cf-3ca8c8123b68\" target=\"_top\" title=\"psysml:69fab460-d5be-4945-91cf-3ca8c8123b68\" xlink:actuate=\"onRequest\" xlink:href=\"psysml:69fab460-d5be-4945-91cf-3ca8c8123b68\" xlink:show=\"new\" xlink:title=\"psysml:69fab460-d5be-4945-91cf-3ca8c8123b68\" xlink:type=\"simple\"><polygon fill=\"#FFFFFF\" points=\"16,6,221,6,228,28.2969,231,28.2969,231,298,16,298,16,6\" style=\"stroke: #000000; stroke-width: 1.5;\"/><line style=\"stroke: #000000; stroke-width: 1.5;\" x1=\"16\" x2=\"228\" y1=\"28.2969\" y2=\"28.2969\"/><text fill=\"#000000\" font-family=\"sans-serif\" font-size=\"14\" font-weight=\"bold\" lengthAdjust=\"spacingAndGlyphs\" textLength=\"199\" x=\"20\" y=\"20.9951\">QualifiedNameImportTest</text></a><!--MD5=[e4f7fae6ed58524ba242bb0b0d3be6b7]\n",
       "cluster E2--><a href=\"psysml:a87ccb6a-ce8a-4667-9a31-41e6c6a1c677\" target=\"_top\" title=\"psysml:a87ccb6a-ce8a-4667-9a31-41e6c6a1c677\" xlink:actuate=\"onRequest\" xlink:href=\"psysml:a87ccb6a-ce8a-4667-9a31-41e6c6a1c677\" xlink:show=\"new\" xlink:title=\"psysml:a87ccb6a-ce8a-4667-9a31-41e6c6a1c677\" xlink:type=\"simple\"><polygon fill=\"#FFFFFF\" points=\"105,177,131,177,138,199.2969,203,199.2969,203,274,105,274,105,177\" style=\"stroke: #000000; stroke-width: 1.5;\"/><line style=\"stroke: #000000; stroke-width: 1.5;\" x1=\"105\" x2=\"138\" y1=\"199.2969\" y2=\"199.2969\"/><text fill=\"#000000\" font-family=\"sans-serif\" font-size=\"14\" font-weight=\"bold\" lengthAdjust=\"spacingAndGlyphs\" textLength=\"20\" x=\"109\" y=\"191.9951\">P1</text></a><!--MD5=[f6df4d0ebaf0b5dfb2ced0ae5af7c670]\n",
       "cluster E4--><a href=\"psysml:434a9cec-9a5b-4c30-bd61-ce4aa8eabf42\" target=\"_top\" title=\"psysml:434a9cec-9a5b-4c30-bd61-ce4aa8eabf42\" xlink:actuate=\"onRequest\" xlink:href=\"psysml:434a9cec-9a5b-4c30-bd61-ce4aa8eabf42\" xlink:show=\"new\" xlink:title=\"psysml:434a9cec-9a5b-4c30-bd61-ce4aa8eabf42\" xlink:type=\"simple\"><polygon fill=\"#FFFFFF\" points=\"44,49,70,49,77,71.2969,203,71.2969,203,153,44,153,44,49\" style=\"stroke: #000000; stroke-width: 1.5;\"/><line style=\"stroke: #000000; stroke-width: 1.5;\" x1=\"44\" x2=\"77\" y1=\"71.2969\" y2=\"71.2969\"/><text fill=\"#000000\" font-family=\"sans-serif\" font-size=\"14\" font-weight=\"bold\" lengthAdjust=\"spacingAndGlyphs\" textLength=\"20\" x=\"48\" y=\"63.9951\">P2</text></a><!--MD5=[09b614a08d8cba4a07c9adeb5e0fee81]\n",
       "class E3--><a href=\"psysml:dead2420-b34a-43f7-a875-a2c685248268\" target=\"_top\" title=\"psysml:dead2420-b34a-43f7-a875-a2c685248268\" xlink:actuate=\"onRequest\" xlink:href=\"psysml:dead2420-b34a-43f7-a875-a2c685248268\" xlink:show=\"new\" xlink:title=\"psysml:dead2420-b34a-43f7-a875-a2c685248268\" xlink:type=\"simple\"><rect fill=\"#FFFFFF\" height=\"45.9375\" id=\"E3\" style=\"stroke: #383838; stroke-width: 1.5;\" width=\"66\" x=\"121\" y=\"212\"/><text fill=\"#000000\" font-family=\"sans-serif\" font-size=\"12\" font-style=\"italic\" lengthAdjust=\"spacingAndGlyphs\" textLength=\"64\" x=\"122\" y=\"228.1387\">«part def»</text><text fill=\"#000000\" font-family=\"sans-serif\" font-size=\"12\" lengthAdjust=\"spacingAndGlyphs\" textLength=\"8\" x=\"150\" y=\"242.1074\">A</text><line style=\"stroke: #383838; stroke-width: 1.5;\" x1=\"122\" x2=\"186\" y1=\"249.9375\" y2=\"249.9375\"/></a><!--MD5=[60a26617385b1d2d0262a64233df1f8d]\n",
       "class E6--><a href=\"psysml:febc5459-2ebe-4c36-9a31-624278ca958f\" target=\"_top\" title=\"psysml:febc5459-2ebe-4c36-9a31-624278ca958f\" xlink:actuate=\"onRequest\" xlink:href=\"psysml:febc5459-2ebe-4c36-9a31-624278ca958f\" xlink:show=\"new\" xlink:title=\"psysml:febc5459-2ebe-4c36-9a31-624278ca958f\" xlink:type=\"simple\"><rect fill=\"#FFFFFF\" height=\"45.9375\" id=\"E6\" rx=\"10\" ry=\"10\" style=\"stroke: #383838; stroke-width: 1.5;\" width=\"42\" x=\"145\" y=\"87.5\"/><text fill=\"#000000\" font-family=\"sans-serif\" font-size=\"12\" font-style=\"italic\" lengthAdjust=\"spacingAndGlyphs\" textLength=\"40\" x=\"146\" y=\"103.6387\">«part»</text><text fill=\"#000000\" font-family=\"sans-serif\" font-size=\"12\" lengthAdjust=\"spacingAndGlyphs\" textLength=\"22\" x=\"155\" y=\"117.6074\">x: A</text><line style=\"stroke: #383838; stroke-width: 1.5;\" x1=\"146\" x2=\"186\" y1=\"125.4375\" y2=\"125.4375\"/></a><a href=\"psysml:0289fe7d-3512-4b15-a612-d4f3c113c698\" target=\"_top\" title=\"psysml:0289fe7d-3512-4b15-a612-d4f3c113c698\" xlink:actuate=\"onRequest\" xlink:href=\"psysml:0289fe7d-3512-4b15-a612-d4f3c113c698\" xlink:show=\"new\" xlink:title=\"psysml:0289fe7d-3512-4b15-a612-d4f3c113c698\" xlink:type=\"simple\"><polygon fill=\"#FFFFFF\" points=\"60.5,84,95.5,84,102.5,106.2969,109.5,106.2969,109.5,136.5938,60.5,136.5938,60.5,84\" style=\"stroke: #000000; stroke-width: 1.5;\"/><line style=\"stroke: #000000; stroke-width: 1.5;\" x1=\"60.5\" x2=\"102.5\" y1=\"106.2969\" y2=\"106.2969\"/><text fill=\"#000000\" font-family=\"sans-serif\" font-size=\"14\" font-weight=\"bold\" lengthAdjust=\"spacingAndGlyphs\" textLength=\"29\" x=\"64.5\" y=\"98.9951\">P2a</text></a><!--MD5=[a717450b82c80b9240a525fa862496af]\n",
       "link E6 to E3--><a href=\"psysml:a41f4e21-5f48-4d30-b801-3db99d3a1abc\" target=\"_top\" title=\"psysml:a41f4e21-5f48-4d30-b801-3db99d3a1abc\" xlink:actuate=\"onRequest\" xlink:href=\"psysml:a41f4e21-5f48-4d30-b801-3db99d3a1abc\" xlink:show=\"new\" xlink:title=\"psysml:a41f4e21-5f48-4d30-b801-3db99d3a1abc\" xlink:type=\"simple\"><path d=\"M163.83,133.68 C162.24,149.9 160.04,172.39 158.12,191.96 \" fill=\"none\" id=\"E6-&gt;E3\" style=\"stroke: #383838; stroke-width: 1.0;\"/><polygon fill=\"#FFFFFF\" points=\"156.16,211.98,151.0533,192.3861,164.986,193.7564,156.16,211.98\" style=\"stroke: #383838; stroke-width: 1.0;\"/><ellipse cx=\"153.6016\" cy=\"186.9092\" fill=\"#383838\" rx=\"2\" ry=\"2\" style=\"stroke: #383838; stroke-width: 1.0;\"/><ellipse cx=\"163.5535\" cy=\"187.888\" fill=\"#383838\" rx=\"2\" ry=\"2\" style=\"stroke: #383838; stroke-width: 1.0;\"/></a><!--MD5=[bbcedfbcd039c8656044c192718f80ca]\n",
       "@startuml\r\n",
       "skinparam linetype polyline\r\n",
       "skinparam monochrome true\r\n",
       "skinparam classbackgroundcolor white\r\n",
       "skinparam shadowing false\r\n",
       "skinparam wrapWidth 300\r\n",
       "hide circle\r\n",
       "\r\n",
       "package \"QualifiedNameImportTest\" as E1  [[psysml:69fab460-d5be-4945-91cf-3ca8c8123b68 ]]  {\r\n",
       "package \"P1\" as E2  [[psysml:a87ccb6a-ce8a-4667-9a31-41e6c6a1c677 ]]  {\r\n",
       "comp def \"A\" as E3  <<(T,blue)part def>> [[psysml:dead2420-b34a-43f7-a875-a2c685248268 ]] {\r\n",
       "}\r\n",
       "}\r\n",
       "package \"P2\" as E4  [[psysml:434a9cec-9a5b-4c30-bd61-ce4aa8eabf42 ]]  {\r\n",
       "package \"P2a\" as E5  [[psysml:0289fe7d-3512-4b15-a612-d4f3c113c698 ]]  {\r\n",
       "}\r\n",
       "comp usage \"x: A\" as E6  <<(T,blue)part>> [[psysml:febc5459-2ebe-4c36-9a31-624278ca958f ]] {\r\n",
       "}\r\n",
       "E6 - -:|> E3 [[psysml:a41f4e21-5f48-4d30-b801-3db99d3a1abc ]] \r\n",
       "}\r\n",
       "}\r\n",
       "@enduml\r\n",
       "\n",
       "PlantUML version 1.2020.13(Sat Jun 13 12:26:38 UTC 2020)\n",
       "(EPL source distribution)\n",
       "Java Runtime: OpenJDK Runtime Environment\n",
       "JVM: OpenJDK 64-Bit Server VM\n",
       "Default Encoding: UTF-8\n",
       "Language: en\n",
       "Country: null\n",
       "--></g></svg>"
      ]
     },
     "execution_count": 10,
     "metadata": {},
     "output_type": "execute_result"
    }
   ],
   "source": [
    "%viz --style=\"POLYLINE\" --view=\"Tree\" \"QualifiedNameImportTest\""
   ]
  },
  {
   "cell_type": "code",
   "execution_count": 11,
   "id": "alone-machinery",
   "metadata": {
    "execution": {
     "iopub.execute_input": "2021-03-26T09:15:00.113334Z",
     "iopub.status.busy": "2021-03-26T09:15:00.112939Z",
     "iopub.status.idle": "2021-03-26T09:15:00.120657Z",
     "shell.execute_reply": "2021-03-26T09:15:00.120974Z"
    }
   },
   "outputs": [
    {
     "data": {
      "image/svg+xml": [
       "<?xml version=\"1.0\" encoding=\"UTF-8\" standalone=\"no\"?><svg xmlns=\"http://www.w3.org/2000/svg\" xmlns:xlink=\"http://www.w3.org/1999/xlink\" contentScriptType=\"application/ecmascript\" contentStyleType=\"text/css\" height=\"12px\" preserveAspectRatio=\"none\" style=\"width:12px;height:12px;\" version=\"1.1\" viewBox=\"0 0 12 12\" width=\"12px\" zoomAndPan=\"magnify\"><defs/><g><!--MD5=[896ac0e7a515d8dd7765a661cb4ee08b]\n",
       "@startuml\r\n",
       "skinparam linetype polyline\r\n",
       "skinparam monochrome true\r\n",
       "skinparam classbackgroundcolor white\r\n",
       "skinparam shadowing false\r\n",
       "skinparam wrapWidth 300\r\n",
       "hide circle\r\n",
       "\r\n",
       "@enduml\r\n",
       "\n",
       "PlantUML version 1.2020.13(Sat Jun 13 12:26:38 UTC 2020)\n",
       "(EPL source distribution)\n",
       "Java Runtime: OpenJDK Runtime Environment\n",
       "JVM: OpenJDK 64-Bit Server VM\n",
       "Default Encoding: UTF-8\n",
       "Language: en\n",
       "Country: null\n",
       "--></g></svg>"
      ]
     },
     "execution_count": 11,
     "metadata": {},
     "output_type": "execute_result"
    }
   ],
   "source": [
    "%viz --style=\"POLYLINE\" --view=\"State\" \"QualifiedNameImportTest\""
   ]
  },
  {
   "cell_type": "code",
   "execution_count": 12,
   "id": "fatal-passion",
   "metadata": {
    "execution": {
     "iopub.execute_input": "2021-03-26T09:15:00.172378Z",
     "iopub.status.busy": "2021-03-26T09:15:00.171940Z",
     "iopub.status.idle": "2021-03-26T09:15:00.207065Z",
     "shell.execute_reply": "2021-03-26T09:15:00.205946Z"
    }
   },
   "outputs": [
    {
     "data": {
      "image/svg+xml": [
       "<?xml version=\"1.0\" encoding=\"UTF-8\" standalone=\"no\"?><svg xmlns=\"http://www.w3.org/2000/svg\" xmlns:xlink=\"http://www.w3.org/1999/xlink\" contentScriptType=\"application/ecmascript\" contentStyleType=\"text/css\" height=\"189px\" preserveAspectRatio=\"none\" style=\"width:381px;height:189px;\" version=\"1.1\" viewBox=\"0 0 381 189\" width=\"381px\" zoomAndPan=\"magnify\"><defs/><g><!--MD5=[fbc87193dbaf4d95561dea2c320d4a47]\n",
       "cluster E1--><a href=\"psysml:69fab460-d5be-4945-91cf-3ca8c8123b68\" target=\"_top\" title=\"psysml:69fab460-d5be-4945-91cf-3ca8c8123b68\" xlink:actuate=\"onRequest\" xlink:href=\"psysml:69fab460-d5be-4945-91cf-3ca8c8123b68\" xlink:show=\"new\" xlink:title=\"psysml:69fab460-d5be-4945-91cf-3ca8c8123b68\" xlink:type=\"simple\"><polygon fill=\"#FFFFFF\" points=\"16,6,221,6,228,28.2969,359,28.2969,359,177,16,177,16,6\" style=\"stroke: #000000; stroke-width: 1.5;\"/><line style=\"stroke: #000000; stroke-width: 1.5;\" x1=\"16\" x2=\"228\" y1=\"28.2969\" y2=\"28.2969\"/><text fill=\"#000000\" font-family=\"sans-serif\" font-size=\"14\" font-weight=\"bold\" lengthAdjust=\"spacingAndGlyphs\" textLength=\"199\" x=\"20\" y=\"20.9951\">QualifiedNameImportTest</text></a><!--MD5=[e4f7fae6ed58524ba242bb0b0d3be6b7]\n",
       "cluster E2--><a href=\"psysml:a87ccb6a-ce8a-4667-9a31-41e6c6a1c677\" target=\"_top\" title=\"psysml:a87ccb6a-ce8a-4667-9a31-41e6c6a1c677\" xlink:actuate=\"onRequest\" xlink:href=\"psysml:a87ccb6a-ce8a-4667-9a31-41e6c6a1c677\" xlink:show=\"new\" xlink:title=\"psysml:a87ccb6a-ce8a-4667-9a31-41e6c6a1c677\" xlink:type=\"simple\"><polygon fill=\"#FFFFFF\" points=\"231,54,257,54,264,76.2969,335,76.2969,335,148,231,148,231,54\" style=\"stroke: #000000; stroke-width: 1.5;\"/><line style=\"stroke: #000000; stroke-width: 1.5;\" x1=\"231\" x2=\"264\" y1=\"76.2969\" y2=\"76.2969\"/><text fill=\"#000000\" font-family=\"sans-serif\" font-size=\"14\" font-weight=\"bold\" lengthAdjust=\"spacingAndGlyphs\" textLength=\"20\" x=\"235\" y=\"68.9951\">P1</text></a><!--MD5=[f6df4d0ebaf0b5dfb2ced0ae5af7c670]\n",
       "cluster E4--><a href=\"psysml:434a9cec-9a5b-4c30-bd61-ce4aa8eabf42\" target=\"_top\" title=\"psysml:434a9cec-9a5b-4c30-bd61-ce4aa8eabf42\" xlink:actuate=\"onRequest\" xlink:href=\"psysml:434a9cec-9a5b-4c30-bd61-ce4aa8eabf42\" xlink:show=\"new\" xlink:title=\"psysml:434a9cec-9a5b-4c30-bd61-ce4aa8eabf42\" xlink:type=\"simple\"><polygon fill=\"#FFFFFF\" points=\"40,49,66,49,73,71.2969,207,71.2969,207,153,40,153,40,49\" style=\"stroke: #000000; stroke-width: 1.5;\"/><line style=\"stroke: #000000; stroke-width: 1.5;\" x1=\"40\" x2=\"73\" y1=\"71.2969\" y2=\"71.2969\"/><text fill=\"#000000\" font-family=\"sans-serif\" font-size=\"14\" font-weight=\"bold\" lengthAdjust=\"spacingAndGlyphs\" textLength=\"20\" x=\"44\" y=\"63.9951\">P2</text></a><g id=\"E1.E2.E3\"><a href=\"psysml:dead2420-b34a-43f7-a875-a2c685248268\" target=\"_top\" title=\"psysml:dead2420-b34a-43f7-a875-a2c685248268\" xlink:actuate=\"onRequest\" xlink:href=\"psysml:dead2420-b34a-43f7-a875-a2c685248268\" xlink:show=\"new\" xlink:title=\"psysml:dead2420-b34a-43f7-a875-a2c685248268\" xlink:type=\"simple\"><rect fill=\"#FFFFFF\" height=\"42.9375\" id=\"E3\" style=\"stroke: #383838; stroke-width: 1.5;\" width=\"71\" x=\"247.5\" y=\"89\"/><rect fill=\"#F8F8F8\" height=\"37.9375\" style=\"stroke: #383838; stroke-width: 1.5;\" width=\"71\" x=\"247.5\" y=\"89\"/><text fill=\"#000000\" font-family=\"sans-serif\" font-size=\"12\" font-style=\"italic\" lengthAdjust=\"spacingAndGlyphs\" textLength=\"64\" x=\"251\" y=\"105.1387\">«part def»</text><text fill=\"#000000\" font-family=\"sans-serif\" font-size=\"12\" lengthAdjust=\"spacingAndGlyphs\" textLength=\"8\" x=\"279\" y=\"119.1074\">A</text></a></g><a href=\"psysml:0289fe7d-3512-4b15-a612-d4f3c113c698\" target=\"_top\" title=\"psysml:0289fe7d-3512-4b15-a612-d4f3c113c698\" xlink:actuate=\"onRequest\" xlink:href=\"psysml:0289fe7d-3512-4b15-a612-d4f3c113c698\" xlink:show=\"new\" xlink:title=\"psysml:0289fe7d-3512-4b15-a612-d4f3c113c698\" xlink:type=\"simple\"><polygon fill=\"#FFFFFF\" points=\"141.5,84,176.5,84,183.5,106.2969,190.5,106.2969,190.5,136.5938,141.5,136.5938,141.5,84\" style=\"stroke: #000000; stroke-width: 1.5;\"/><line style=\"stroke: #000000; stroke-width: 1.5;\" x1=\"141.5\" x2=\"183.5\" y1=\"106.2969\" y2=\"106.2969\"/><text fill=\"#000000\" font-family=\"sans-serif\" font-size=\"14\" font-weight=\"bold\" lengthAdjust=\"spacingAndGlyphs\" textLength=\"29\" x=\"145.5\" y=\"98.9951\">P2a</text></a><g id=\"E1.E4.E6\"><a href=\"psysml:febc5459-2ebe-4c36-9a31-624278ca958f\" target=\"_top\" title=\"psysml:febc5459-2ebe-4c36-9a31-624278ca958f\" xlink:actuate=\"onRequest\" xlink:href=\"psysml:febc5459-2ebe-4c36-9a31-624278ca958f\" xlink:show=\"new\" xlink:title=\"psysml:febc5459-2ebe-4c36-9a31-624278ca958f\" xlink:type=\"simple\"><rect fill=\"#FFFFFF\" height=\"40\" id=\"E6\" rx=\"10\" ry=\"10\" style=\"stroke: #383838; stroke-width: 1.5;\" width=\"50\" x=\"56\" y=\"90.5\"/><rect fill=\"#F8F8F8\" height=\"23.9688\" rx=\"10\" ry=\"10\" style=\"stroke: #F8F8F8; stroke-width: 1.5;\" width=\"50\" x=\"56\" y=\"90.5\"/><rect fill=\"#F8F8F8\" height=\"10\" style=\"stroke: #F8F8F8; stroke-width: 1.5;\" width=\"50\" x=\"56\" y=\"104.4688\"/><rect fill=\"none\" height=\"40\" id=\"E6\" rx=\"10\" ry=\"10\" style=\"stroke: #383838; stroke-width: 1.5;\" width=\"50\" x=\"56\" y=\"90.5\"/><text fill=\"#000000\" font-family=\"sans-serif\" font-size=\"12\" lengthAdjust=\"spacingAndGlyphs\" textLength=\"22\" x=\"70\" y=\"106.6387\">x: A</text></a></g><!--MD5=[e1c466ff5efd8076acbb374ebba46300]\n",
       "@startuml\r\n",
       "skinparam ranksep 8\r\n",
       "skinparam rectangle {\r\n",
       " backgroundColor<<block>> LightGreen\r\n",
       "}\r\n",
       "skinparam linetype polyline\r\n",
       "skinparam monochrome true\r\n",
       "skinparam classbackgroundcolor white\r\n",
       "skinparam shadowing false\r\n",
       "skinparam wrapWidth 300\r\n",
       "hide circle\r\n",
       "\r\n",
       "package \"QualifiedNameImportTest\" as E1  [[psysml:69fab460-d5be-4945-91cf-3ca8c8123b68 ]]  {\r\n",
       "package \"P1\" as E2  [[psysml:a87ccb6a-ce8a-4667-9a31-41e6c6a1c677 ]]  {\r\n",
       "rec def \"A\" as E3  <<(T,blue)part def>> [[psysml:dead2420-b34a-43f7-a875-a2c685248268 ]] {\r\n",
       "}\r\n",
       "}\r\n",
       "package \"P2\" as E4  [[psysml:434a9cec-9a5b-4c30-bd61-ce4aa8eabf42 ]]  {\r\n",
       "package \"P2a\" as E5  [[psysml:0289fe7d-3512-4b15-a612-d4f3c113c698 ]]  {\r\n",
       "}\r\n",
       "rec usage \"x: A\" as E6  [[psysml:febc5459-2ebe-4c36-9a31-624278ca958f ]] {\r\n",
       "}\r\n",
       "}\r\n",
       "}\r\n",
       "@enduml\r\n",
       "\n",
       "PlantUML version 1.2020.13(Sat Jun 13 12:26:38 UTC 2020)\n",
       "(EPL source distribution)\n",
       "Java Runtime: OpenJDK Runtime Environment\n",
       "JVM: OpenJDK 64-Bit Server VM\n",
       "Default Encoding: UTF-8\n",
       "Language: en\n",
       "Country: null\n",
       "--></g></svg>"
      ]
     },
     "execution_count": 12,
     "metadata": {},
     "output_type": "execute_result"
    }
   ],
   "source": [
    "%viz --style=\"POLYLINE\" --view=\"Interconnection\" \"QualifiedNameImportTest\""
   ]
  },
  {
   "cell_type": "code",
   "execution_count": 13,
   "id": "ranging-career",
   "metadata": {
    "execution": {
     "iopub.execute_input": "2021-03-26T09:15:00.258625Z",
     "iopub.status.busy": "2021-03-26T09:15:00.258234Z",
     "iopub.status.idle": "2021-03-26T09:15:00.264917Z",
     "shell.execute_reply": "2021-03-26T09:15:00.265338Z"
    }
   },
   "outputs": [
    {
     "data": {
      "image/svg+xml": [
       "<?xml version=\"1.0\" encoding=\"UTF-8\" standalone=\"no\"?><svg xmlns=\"http://www.w3.org/2000/svg\" xmlns:xlink=\"http://www.w3.org/1999/xlink\" contentScriptType=\"application/ecmascript\" contentStyleType=\"text/css\" height=\"12px\" preserveAspectRatio=\"none\" style=\"width:12px;height:12px;\" version=\"1.1\" viewBox=\"0 0 12 12\" width=\"12px\" zoomAndPan=\"magnify\"><defs/><g><!--MD5=[97bbf32f66ccd50cbc40d92ea8f5a65e]\n",
       "@startuml\r\n",
       "skinparam ranksep 8\r\n",
       "skinparam linetype polyline\r\n",
       "skinparam monochrome true\r\n",
       "skinparam classbackgroundcolor white\r\n",
       "skinparam shadowing false\r\n",
       "skinparam wrapWidth 300\r\n",
       "hide circle\r\n",
       "\r\n",
       "@enduml\r\n",
       "\n",
       "PlantUML version 1.2020.13(Sat Jun 13 12:26:38 UTC 2020)\n",
       "(EPL source distribution)\n",
       "Java Runtime: OpenJDK Runtime Environment\n",
       "JVM: OpenJDK 64-Bit Server VM\n",
       "Default Encoding: UTF-8\n",
       "Language: en\n",
       "Country: null\n",
       "--></g></svg>"
      ]
     },
     "execution_count": 13,
     "metadata": {},
     "output_type": "execute_result"
    }
   ],
   "source": [
    "%viz --style=\"POLYLINE\" --view=\"Action\" \"QualifiedNameImportTest\""
   ]
  },
  {
   "cell_type": "code",
   "execution_count": 14,
   "id": "classified-train",
   "metadata": {
    "execution": {
     "iopub.execute_input": "2021-03-26T09:15:00.316624Z",
     "iopub.status.busy": "2021-03-26T09:15:00.316276Z",
     "iopub.status.idle": "2021-03-26T09:15:00.349981Z",
     "shell.execute_reply": "2021-03-26T09:15:00.348650Z"
    }
   },
   "outputs": [
    {
     "data": {
      "image/svg+xml": [
       "<?xml version=\"1.0\" encoding=\"UTF-8\" standalone=\"no\"?><svg xmlns=\"http://www.w3.org/2000/svg\" xmlns:xlink=\"http://www.w3.org/1999/xlink\" contentScriptType=\"application/ecmascript\" contentStyleType=\"text/css\" height=\"310px\" preserveAspectRatio=\"none\" style=\"width:253px;height:310px;\" version=\"1.1\" viewBox=\"0 0 253 310\" width=\"253px\" zoomAndPan=\"magnify\"><defs/><g><!--MD5=[fbc87193dbaf4d95561dea2c320d4a47]\n",
       "cluster E1--><a href=\"psysml:69fab460-d5be-4945-91cf-3ca8c8123b68\" target=\"_top\" title=\"psysml:69fab460-d5be-4945-91cf-3ca8c8123b68\" xlink:actuate=\"onRequest\" xlink:href=\"psysml:69fab460-d5be-4945-91cf-3ca8c8123b68\" xlink:show=\"new\" xlink:title=\"psysml:69fab460-d5be-4945-91cf-3ca8c8123b68\" xlink:type=\"simple\"><polygon fill=\"#FFFFFF\" points=\"16,6,221,6,228,28.2969,231,28.2969,231,298,16,298,16,6\" style=\"stroke: #000000; stroke-width: 1.5;\"/><line style=\"stroke: #000000; stroke-width: 1.5;\" x1=\"16\" x2=\"228\" y1=\"28.2969\" y2=\"28.2969\"/><text fill=\"#000000\" font-family=\"sans-serif\" font-size=\"14\" font-weight=\"bold\" lengthAdjust=\"spacingAndGlyphs\" textLength=\"199\" x=\"20\" y=\"20.9951\">QualifiedNameImportTest</text></a><!--MD5=[e4f7fae6ed58524ba242bb0b0d3be6b7]\n",
       "cluster E2--><a href=\"psysml:a87ccb6a-ce8a-4667-9a31-41e6c6a1c677\" target=\"_top\" title=\"psysml:a87ccb6a-ce8a-4667-9a31-41e6c6a1c677\" xlink:actuate=\"onRequest\" xlink:href=\"psysml:a87ccb6a-ce8a-4667-9a31-41e6c6a1c677\" xlink:show=\"new\" xlink:title=\"psysml:a87ccb6a-ce8a-4667-9a31-41e6c6a1c677\" xlink:type=\"simple\"><polygon fill=\"#FFFFFF\" points=\"105,177,131,177,138,199.2969,203,199.2969,203,274,105,274,105,177\" style=\"stroke: #000000; stroke-width: 1.5;\"/><line style=\"stroke: #000000; stroke-width: 1.5;\" x1=\"105\" x2=\"138\" y1=\"199.2969\" y2=\"199.2969\"/><text fill=\"#000000\" font-family=\"sans-serif\" font-size=\"14\" font-weight=\"bold\" lengthAdjust=\"spacingAndGlyphs\" textLength=\"20\" x=\"109\" y=\"191.9951\">P1</text></a><!--MD5=[f6df4d0ebaf0b5dfb2ced0ae5af7c670]\n",
       "cluster E4--><a href=\"psysml:434a9cec-9a5b-4c30-bd61-ce4aa8eabf42\" target=\"_top\" title=\"psysml:434a9cec-9a5b-4c30-bd61-ce4aa8eabf42\" xlink:actuate=\"onRequest\" xlink:href=\"psysml:434a9cec-9a5b-4c30-bd61-ce4aa8eabf42\" xlink:show=\"new\" xlink:title=\"psysml:434a9cec-9a5b-4c30-bd61-ce4aa8eabf42\" xlink:type=\"simple\"><polygon fill=\"#FFFFFF\" points=\"44,49,70,49,77,71.2969,203,71.2969,203,153,44,153,44,49\" style=\"stroke: #000000; stroke-width: 1.5;\"/><line style=\"stroke: #000000; stroke-width: 1.5;\" x1=\"44\" x2=\"77\" y1=\"71.2969\" y2=\"71.2969\"/><text fill=\"#000000\" font-family=\"sans-serif\" font-size=\"14\" font-weight=\"bold\" lengthAdjust=\"spacingAndGlyphs\" textLength=\"20\" x=\"48\" y=\"63.9951\">P2</text></a><!--MD5=[09b614a08d8cba4a07c9adeb5e0fee81]\n",
       "class E3--><a href=\"psysml:dead2420-b34a-43f7-a875-a2c685248268\" target=\"_top\" title=\"psysml:dead2420-b34a-43f7-a875-a2c685248268\" xlink:actuate=\"onRequest\" xlink:href=\"psysml:dead2420-b34a-43f7-a875-a2c685248268\" xlink:show=\"new\" xlink:title=\"psysml:dead2420-b34a-43f7-a875-a2c685248268\" xlink:type=\"simple\"><rect fill=\"#FFFFFF\" height=\"45.9375\" id=\"E3\" style=\"stroke: #383838; stroke-width: 1.5;\" width=\"66\" x=\"121\" y=\"212\"/><text fill=\"#000000\" font-family=\"sans-serif\" font-size=\"12\" font-style=\"italic\" lengthAdjust=\"spacingAndGlyphs\" textLength=\"64\" x=\"122\" y=\"228.1387\">«part def»</text><text fill=\"#000000\" font-family=\"sans-serif\" font-size=\"12\" lengthAdjust=\"spacingAndGlyphs\" textLength=\"8\" x=\"150\" y=\"242.1074\">A</text><line style=\"stroke: #383838; stroke-width: 1.5;\" x1=\"122\" x2=\"186\" y1=\"249.9375\" y2=\"249.9375\"/></a><!--MD5=[60a26617385b1d2d0262a64233df1f8d]\n",
       "class E6--><a href=\"psysml:febc5459-2ebe-4c36-9a31-624278ca958f\" target=\"_top\" title=\"psysml:febc5459-2ebe-4c36-9a31-624278ca958f\" xlink:actuate=\"onRequest\" xlink:href=\"psysml:febc5459-2ebe-4c36-9a31-624278ca958f\" xlink:show=\"new\" xlink:title=\"psysml:febc5459-2ebe-4c36-9a31-624278ca958f\" xlink:type=\"simple\"><rect fill=\"#FFFFFF\" height=\"45.9375\" id=\"E6\" rx=\"10\" ry=\"10\" style=\"stroke: #383838; stroke-width: 1.5;\" width=\"42\" x=\"145\" y=\"87.5\"/><text fill=\"#000000\" font-family=\"sans-serif\" font-size=\"12\" font-style=\"italic\" lengthAdjust=\"spacingAndGlyphs\" textLength=\"40\" x=\"146\" y=\"103.6387\">«part»</text><text fill=\"#000000\" font-family=\"sans-serif\" font-size=\"12\" lengthAdjust=\"spacingAndGlyphs\" textLength=\"22\" x=\"155\" y=\"117.6074\">x: A</text><line style=\"stroke: #383838; stroke-width: 1.5;\" x1=\"146\" x2=\"186\" y1=\"125.4375\" y2=\"125.4375\"/></a><a href=\"psysml:0289fe7d-3512-4b15-a612-d4f3c113c698\" target=\"_top\" title=\"psysml:0289fe7d-3512-4b15-a612-d4f3c113c698\" xlink:actuate=\"onRequest\" xlink:href=\"psysml:0289fe7d-3512-4b15-a612-d4f3c113c698\" xlink:show=\"new\" xlink:title=\"psysml:0289fe7d-3512-4b15-a612-d4f3c113c698\" xlink:type=\"simple\"><polygon fill=\"#FFFFFF\" points=\"60.5,84,95.5,84,102.5,106.2969,109.5,106.2969,109.5,136.5938,60.5,136.5938,60.5,84\" style=\"stroke: #000000; stroke-width: 1.5;\"/><line style=\"stroke: #000000; stroke-width: 1.5;\" x1=\"60.5\" x2=\"102.5\" y1=\"106.2969\" y2=\"106.2969\"/><text fill=\"#000000\" font-family=\"sans-serif\" font-size=\"14\" font-weight=\"bold\" lengthAdjust=\"spacingAndGlyphs\" textLength=\"29\" x=\"64.5\" y=\"98.9951\">P2a</text></a><!--MD5=[a717450b82c80b9240a525fa862496af]\n",
       "link E6 to E3--><a href=\"psysml:a41f4e21-5f48-4d30-b801-3db99d3a1abc\" target=\"_top\" title=\"psysml:a41f4e21-5f48-4d30-b801-3db99d3a1abc\" xlink:actuate=\"onRequest\" xlink:href=\"psysml:a41f4e21-5f48-4d30-b801-3db99d3a1abc\" xlink:show=\"new\" xlink:title=\"psysml:a41f4e21-5f48-4d30-b801-3db99d3a1abc\" xlink:type=\"simple\"><path d=\"M163.83,133.68 C162.24,149.9 160.04,172.39 158.12,191.96 \" fill=\"none\" id=\"E6-&gt;E3\" style=\"stroke: #383838; stroke-width: 1.0;\"/><polygon fill=\"#FFFFFF\" points=\"156.16,211.98,151.0533,192.3861,164.986,193.7564,156.16,211.98\" style=\"stroke: #383838; stroke-width: 1.0;\"/><ellipse cx=\"153.6016\" cy=\"186.9092\" fill=\"#383838\" rx=\"2\" ry=\"2\" style=\"stroke: #383838; stroke-width: 1.0;\"/><ellipse cx=\"163.5535\" cy=\"187.888\" fill=\"#383838\" rx=\"2\" ry=\"2\" style=\"stroke: #383838; stroke-width: 1.0;\"/></a><!--MD5=[bbcedfbcd039c8656044c192718f80ca]\n",
       "@startuml\r\n",
       "skinparam linetype polyline\r\n",
       "skinparam monochrome true\r\n",
       "skinparam classbackgroundcolor white\r\n",
       "skinparam shadowing false\r\n",
       "skinparam wrapWidth 300\r\n",
       "hide circle\r\n",
       "\r\n",
       "package \"QualifiedNameImportTest\" as E1  [[psysml:69fab460-d5be-4945-91cf-3ca8c8123b68 ]]  {\r\n",
       "package \"P1\" as E2  [[psysml:a87ccb6a-ce8a-4667-9a31-41e6c6a1c677 ]]  {\r\n",
       "comp def \"A\" as E3  <<(T,blue)part def>> [[psysml:dead2420-b34a-43f7-a875-a2c685248268 ]] {\r\n",
       "}\r\n",
       "}\r\n",
       "package \"P2\" as E4  [[psysml:434a9cec-9a5b-4c30-bd61-ce4aa8eabf42 ]]  {\r\n",
       "package \"P2a\" as E5  [[psysml:0289fe7d-3512-4b15-a612-d4f3c113c698 ]]  {\r\n",
       "}\r\n",
       "comp usage \"x: A\" as E6  <<(T,blue)part>> [[psysml:febc5459-2ebe-4c36-9a31-624278ca958f ]] {\r\n",
       "}\r\n",
       "E6 - -:|> E3 [[psysml:a41f4e21-5f48-4d30-b801-3db99d3a1abc ]] \r\n",
       "}\r\n",
       "}\r\n",
       "@enduml\r\n",
       "\n",
       "PlantUML version 1.2020.13(Sat Jun 13 12:26:38 UTC 2020)\n",
       "(EPL source distribution)\n",
       "Java Runtime: OpenJDK Runtime Environment\n",
       "JVM: OpenJDK 64-Bit Server VM\n",
       "Default Encoding: UTF-8\n",
       "Language: en\n",
       "Country: null\n",
       "--></g></svg>"
      ]
     },
     "execution_count": 14,
     "metadata": {},
     "output_type": "execute_result"
    }
   ],
   "source": [
    "%viz --style=\"POLYLINE\" --view=\"Sequence\" \"QualifiedNameImportTest\""
   ]
  },
  {
   "cell_type": "code",
   "execution_count": 15,
   "id": "consecutive-fitness",
   "metadata": {
    "execution": {
     "iopub.execute_input": "2021-03-26T09:15:00.399769Z",
     "iopub.status.busy": "2021-03-26T09:15:00.399455Z",
     "iopub.status.idle": "2021-03-26T09:15:00.431469Z",
     "shell.execute_reply": "2021-03-26T09:15:00.430423Z"
    }
   },
   "outputs": [
    {
     "data": {
      "image/svg+xml": [
       "<?xml version=\"1.0\" encoding=\"UTF-8\" standalone=\"no\"?><svg xmlns=\"http://www.w3.org/2000/svg\" xmlns:xlink=\"http://www.w3.org/1999/xlink\" contentScriptType=\"application/ecmascript\" contentStyleType=\"text/css\" height=\"310px\" preserveAspectRatio=\"none\" style=\"width:253px;height:310px;\" version=\"1.1\" viewBox=\"0 0 253 310\" width=\"253px\" zoomAndPan=\"magnify\"><defs/><g><!--MD5=[fbc87193dbaf4d95561dea2c320d4a47]\n",
       "cluster E1--><a href=\"psysml:69fab460-d5be-4945-91cf-3ca8c8123b68\" target=\"_top\" title=\"psysml:69fab460-d5be-4945-91cf-3ca8c8123b68\" xlink:actuate=\"onRequest\" xlink:href=\"psysml:69fab460-d5be-4945-91cf-3ca8c8123b68\" xlink:show=\"new\" xlink:title=\"psysml:69fab460-d5be-4945-91cf-3ca8c8123b68\" xlink:type=\"simple\"><polygon fill=\"#FFFFFF\" points=\"16,6,221,6,228,28.2969,231,28.2969,231,298,16,298,16,6\" style=\"stroke: #000000; stroke-width: 1.5;\"/><line style=\"stroke: #000000; stroke-width: 1.5;\" x1=\"16\" x2=\"228\" y1=\"28.2969\" y2=\"28.2969\"/><text fill=\"#000000\" font-family=\"sans-serif\" font-size=\"14\" font-weight=\"bold\" lengthAdjust=\"spacingAndGlyphs\" textLength=\"199\" x=\"20\" y=\"20.9951\">QualifiedNameImportTest</text></a><!--MD5=[e4f7fae6ed58524ba242bb0b0d3be6b7]\n",
       "cluster E2--><a href=\"psysml:a87ccb6a-ce8a-4667-9a31-41e6c6a1c677\" target=\"_top\" title=\"psysml:a87ccb6a-ce8a-4667-9a31-41e6c6a1c677\" xlink:actuate=\"onRequest\" xlink:href=\"psysml:a87ccb6a-ce8a-4667-9a31-41e6c6a1c677\" xlink:show=\"new\" xlink:title=\"psysml:a87ccb6a-ce8a-4667-9a31-41e6c6a1c677\" xlink:type=\"simple\"><polygon fill=\"#FFFFFF\" points=\"105,177,131,177,138,199.2969,203,199.2969,203,274,105,274,105,177\" style=\"stroke: #000000; stroke-width: 1.5;\"/><line style=\"stroke: #000000; stroke-width: 1.5;\" x1=\"105\" x2=\"138\" y1=\"199.2969\" y2=\"199.2969\"/><text fill=\"#000000\" font-family=\"sans-serif\" font-size=\"14\" font-weight=\"bold\" lengthAdjust=\"spacingAndGlyphs\" textLength=\"20\" x=\"109\" y=\"191.9951\">P1</text></a><!--MD5=[f6df4d0ebaf0b5dfb2ced0ae5af7c670]\n",
       "cluster E4--><a href=\"psysml:434a9cec-9a5b-4c30-bd61-ce4aa8eabf42\" target=\"_top\" title=\"psysml:434a9cec-9a5b-4c30-bd61-ce4aa8eabf42\" xlink:actuate=\"onRequest\" xlink:href=\"psysml:434a9cec-9a5b-4c30-bd61-ce4aa8eabf42\" xlink:show=\"new\" xlink:title=\"psysml:434a9cec-9a5b-4c30-bd61-ce4aa8eabf42\" xlink:type=\"simple\"><polygon fill=\"#FFFFFF\" points=\"44,49,70,49,77,71.2969,203,71.2969,203,153,44,153,44,49\" style=\"stroke: #000000; stroke-width: 1.5;\"/><line style=\"stroke: #000000; stroke-width: 1.5;\" x1=\"44\" x2=\"77\" y1=\"71.2969\" y2=\"71.2969\"/><text fill=\"#000000\" font-family=\"sans-serif\" font-size=\"14\" font-weight=\"bold\" lengthAdjust=\"spacingAndGlyphs\" textLength=\"20\" x=\"48\" y=\"63.9951\">P2</text></a><!--MD5=[09b614a08d8cba4a07c9adeb5e0fee81]\n",
       "class E3--><a href=\"psysml:dead2420-b34a-43f7-a875-a2c685248268\" target=\"_top\" title=\"psysml:dead2420-b34a-43f7-a875-a2c685248268\" xlink:actuate=\"onRequest\" xlink:href=\"psysml:dead2420-b34a-43f7-a875-a2c685248268\" xlink:show=\"new\" xlink:title=\"psysml:dead2420-b34a-43f7-a875-a2c685248268\" xlink:type=\"simple\"><rect fill=\"#FFFFFF\" height=\"45.9375\" id=\"E3\" style=\"stroke: #383838; stroke-width: 1.5;\" width=\"66\" x=\"121\" y=\"212\"/><text fill=\"#000000\" font-family=\"sans-serif\" font-size=\"12\" font-style=\"italic\" lengthAdjust=\"spacingAndGlyphs\" textLength=\"64\" x=\"122\" y=\"228.1387\">«part def»</text><text fill=\"#000000\" font-family=\"sans-serif\" font-size=\"12\" lengthAdjust=\"spacingAndGlyphs\" textLength=\"8\" x=\"150\" y=\"242.1074\">A</text><line style=\"stroke: #383838; stroke-width: 1.5;\" x1=\"122\" x2=\"186\" y1=\"249.9375\" y2=\"249.9375\"/></a><!--MD5=[60a26617385b1d2d0262a64233df1f8d]\n",
       "class E6--><a href=\"psysml:febc5459-2ebe-4c36-9a31-624278ca958f\" target=\"_top\" title=\"psysml:febc5459-2ebe-4c36-9a31-624278ca958f\" xlink:actuate=\"onRequest\" xlink:href=\"psysml:febc5459-2ebe-4c36-9a31-624278ca958f\" xlink:show=\"new\" xlink:title=\"psysml:febc5459-2ebe-4c36-9a31-624278ca958f\" xlink:type=\"simple\"><rect fill=\"#FFFFFF\" height=\"45.9375\" id=\"E6\" rx=\"10\" ry=\"10\" style=\"stroke: #383838; stroke-width: 1.5;\" width=\"42\" x=\"145\" y=\"87.5\"/><text fill=\"#000000\" font-family=\"sans-serif\" font-size=\"12\" font-style=\"italic\" lengthAdjust=\"spacingAndGlyphs\" textLength=\"40\" x=\"146\" y=\"103.6387\">«part»</text><text fill=\"#000000\" font-family=\"sans-serif\" font-size=\"12\" lengthAdjust=\"spacingAndGlyphs\" textLength=\"22\" x=\"155\" y=\"117.6074\">x: A</text><line style=\"stroke: #383838; stroke-width: 1.5;\" x1=\"146\" x2=\"186\" y1=\"125.4375\" y2=\"125.4375\"/></a><a href=\"psysml:0289fe7d-3512-4b15-a612-d4f3c113c698\" target=\"_top\" title=\"psysml:0289fe7d-3512-4b15-a612-d4f3c113c698\" xlink:actuate=\"onRequest\" xlink:href=\"psysml:0289fe7d-3512-4b15-a612-d4f3c113c698\" xlink:show=\"new\" xlink:title=\"psysml:0289fe7d-3512-4b15-a612-d4f3c113c698\" xlink:type=\"simple\"><polygon fill=\"#FFFFFF\" points=\"60.5,84,95.5,84,102.5,106.2969,109.5,106.2969,109.5,136.5938,60.5,136.5938,60.5,84\" style=\"stroke: #000000; stroke-width: 1.5;\"/><line style=\"stroke: #000000; stroke-width: 1.5;\" x1=\"60.5\" x2=\"102.5\" y1=\"106.2969\" y2=\"106.2969\"/><text fill=\"#000000\" font-family=\"sans-serif\" font-size=\"14\" font-weight=\"bold\" lengthAdjust=\"spacingAndGlyphs\" textLength=\"29\" x=\"64.5\" y=\"98.9951\">P2a</text></a><!--MD5=[a717450b82c80b9240a525fa862496af]\n",
       "link E6 to E3--><a href=\"psysml:a41f4e21-5f48-4d30-b801-3db99d3a1abc\" target=\"_top\" title=\"psysml:a41f4e21-5f48-4d30-b801-3db99d3a1abc\" xlink:actuate=\"onRequest\" xlink:href=\"psysml:a41f4e21-5f48-4d30-b801-3db99d3a1abc\" xlink:show=\"new\" xlink:title=\"psysml:a41f4e21-5f48-4d30-b801-3db99d3a1abc\" xlink:type=\"simple\"><path d=\"M163.83,133.68 C162.24,149.9 160.04,172.39 158.12,191.96 \" fill=\"none\" id=\"E6-&gt;E3\" style=\"stroke: #383838; stroke-width: 1.0;\"/><polygon fill=\"#FFFFFF\" points=\"156.16,211.98,151.0533,192.3861,164.986,193.7564,156.16,211.98\" style=\"stroke: #383838; stroke-width: 1.0;\"/><ellipse cx=\"153.6016\" cy=\"186.9092\" fill=\"#383838\" rx=\"2\" ry=\"2\" style=\"stroke: #383838; stroke-width: 1.0;\"/><ellipse cx=\"163.5535\" cy=\"187.888\" fill=\"#383838\" rx=\"2\" ry=\"2\" style=\"stroke: #383838; stroke-width: 1.0;\"/></a><!--MD5=[bbcedfbcd039c8656044c192718f80ca]\n",
       "@startuml\r\n",
       "skinparam linetype polyline\r\n",
       "skinparam monochrome true\r\n",
       "skinparam classbackgroundcolor white\r\n",
       "skinparam shadowing false\r\n",
       "skinparam wrapWidth 300\r\n",
       "hide circle\r\n",
       "\r\n",
       "package \"QualifiedNameImportTest\" as E1  [[psysml:69fab460-d5be-4945-91cf-3ca8c8123b68 ]]  {\r\n",
       "package \"P1\" as E2  [[psysml:a87ccb6a-ce8a-4667-9a31-41e6c6a1c677 ]]  {\r\n",
       "comp def \"A\" as E3  <<(T,blue)part def>> [[psysml:dead2420-b34a-43f7-a875-a2c685248268 ]] {\r\n",
       "}\r\n",
       "}\r\n",
       "package \"P2\" as E4  [[psysml:434a9cec-9a5b-4c30-bd61-ce4aa8eabf42 ]]  {\r\n",
       "package \"P2a\" as E5  [[psysml:0289fe7d-3512-4b15-a612-d4f3c113c698 ]]  {\r\n",
       "}\r\n",
       "comp usage \"x: A\" as E6  <<(T,blue)part>> [[psysml:febc5459-2ebe-4c36-9a31-624278ca958f ]] {\r\n",
       "}\r\n",
       "E6 - -:|> E3 [[psysml:a41f4e21-5f48-4d30-b801-3db99d3a1abc ]] \r\n",
       "}\r\n",
       "}\r\n",
       "@enduml\r\n",
       "\n",
       "PlantUML version 1.2020.13(Sat Jun 13 12:26:38 UTC 2020)\n",
       "(EPL source distribution)\n",
       "Java Runtime: OpenJDK Runtime Environment\n",
       "JVM: OpenJDK 64-Bit Server VM\n",
       "Default Encoding: UTF-8\n",
       "Language: en\n",
       "Country: null\n",
       "--></g></svg>"
      ]
     },
     "execution_count": 15,
     "metadata": {},
     "output_type": "execute_result"
    }
   ],
   "source": [
    "%viz --style=\"POLYLINE\" --view=\"MIXED\" \"QualifiedNameImportTest\""
   ]
  },
  {
   "cell_type": "code",
   "execution_count": 16,
   "id": "junior-poland",
   "metadata": {
    "execution": {
     "iopub.execute_input": "2021-03-26T09:15:00.484541Z",
     "iopub.status.busy": "2021-03-26T09:15:00.484108Z",
     "iopub.status.idle": "2021-03-26T09:15:00.515943Z",
     "shell.execute_reply": "2021-03-26T09:15:00.514113Z"
    }
   },
   "outputs": [
    {
     "data": {
      "image/svg+xml": [
       "<?xml version=\"1.0\" encoding=\"UTF-8\" standalone=\"no\"?><svg xmlns=\"http://www.w3.org/2000/svg\" xmlns:xlink=\"http://www.w3.org/1999/xlink\" contentScriptType=\"application/ecmascript\" contentStyleType=\"text/css\" height=\"271px\" preserveAspectRatio=\"none\" style=\"width:293px;height:271px;\" version=\"1.1\" viewBox=\"0 0 293 271\" width=\"293px\" zoomAndPan=\"magnify\"><defs/><g><!--MD5=[fbc87193dbaf4d95561dea2c320d4a47]\n",
       "cluster E1--><a href=\"psysml:69fab460-d5be-4945-91cf-3ca8c8123b68\" target=\"_top\" title=\"psysml:69fab460-d5be-4945-91cf-3ca8c8123b68\" xlink:actuate=\"onRequest\" xlink:href=\"psysml:69fab460-d5be-4945-91cf-3ca8c8123b68\" xlink:show=\"new\" xlink:title=\"psysml:69fab460-d5be-4945-91cf-3ca8c8123b68\" xlink:type=\"simple\"><polygon fill=\"#FFFFFF\" points=\"16,6,221,6,228,28.2969,271,28.2969,271,259,16,259,16,6\" style=\"stroke: #000000; stroke-width: 1.5;\"/><line style=\"stroke: #000000; stroke-width: 1.5;\" x1=\"16\" x2=\"228\" y1=\"28.2969\" y2=\"28.2969\"/><text fill=\"#000000\" font-family=\"sans-serif\" font-size=\"14\" font-weight=\"bold\" lengthAdjust=\"spacingAndGlyphs\" textLength=\"199\" x=\"20\" y=\"20.9951\">QualifiedNameImportTest</text></a><!--MD5=[e4f7fae6ed58524ba242bb0b0d3be6b7]\n",
       "cluster E2--><a href=\"psysml:a87ccb6a-ce8a-4667-9a31-41e6c6a1c677\" target=\"_top\" title=\"psysml:a87ccb6a-ce8a-4667-9a31-41e6c6a1c677\" xlink:actuate=\"onRequest\" xlink:href=\"psysml:a87ccb6a-ce8a-4667-9a31-41e6c6a1c677\" xlink:show=\"new\" xlink:title=\"psysml:a87ccb6a-ce8a-4667-9a31-41e6c6a1c677\" xlink:type=\"simple\"><polygon fill=\"#FFFFFF\" points=\"149,49,175,49,182,71.2969,247,71.2969,247,146,149,146,149,49\" style=\"stroke: #000000; stroke-width: 1.5;\"/><line style=\"stroke: #000000; stroke-width: 1.5;\" x1=\"149\" x2=\"182\" y1=\"71.2969\" y2=\"71.2969\"/><text fill=\"#000000\" font-family=\"sans-serif\" font-size=\"14\" font-weight=\"bold\" lengthAdjust=\"spacingAndGlyphs\" textLength=\"20\" x=\"153\" y=\"63.9951\">P1</text></a><!--MD5=[f6df4d0ebaf0b5dfb2ced0ae5af7c670]\n",
       "cluster E4--><a href=\"psysml:434a9cec-9a5b-4c30-bd61-ce4aa8eabf42\" target=\"_top\" title=\"psysml:434a9cec-9a5b-4c30-bd61-ce4aa8eabf42\" xlink:actuate=\"onRequest\" xlink:href=\"psysml:434a9cec-9a5b-4c30-bd61-ce4aa8eabf42\" xlink:show=\"new\" xlink:title=\"psysml:434a9cec-9a5b-4c30-bd61-ce4aa8eabf42\" xlink:type=\"simple\"><polygon fill=\"#FFFFFF\" points=\"40,49,66,49,73,71.2969,121,71.2969,121,235,40,235,40,49\" style=\"stroke: #000000; stroke-width: 1.5;\"/><line style=\"stroke: #000000; stroke-width: 1.5;\" x1=\"40\" x2=\"73\" y1=\"71.2969\" y2=\"71.2969\"/><text fill=\"#000000\" font-family=\"sans-serif\" font-size=\"14\" font-weight=\"bold\" lengthAdjust=\"spacingAndGlyphs\" textLength=\"20\" x=\"44\" y=\"63.9951\">P2</text></a><!--MD5=[09b614a08d8cba4a07c9adeb5e0fee81]\n",
       "class E3--><a href=\"psysml:dead2420-b34a-43f7-a875-a2c685248268\" target=\"_top\" title=\"psysml:dead2420-b34a-43f7-a875-a2c685248268\" xlink:actuate=\"onRequest\" xlink:href=\"psysml:dead2420-b34a-43f7-a875-a2c685248268\" xlink:show=\"new\" xlink:title=\"psysml:dead2420-b34a-43f7-a875-a2c685248268\" xlink:type=\"simple\"><rect fill=\"#FFFFFF\" height=\"45.9375\" id=\"E3\" style=\"stroke: #383838; stroke-width: 1.5;\" width=\"66\" x=\"165\" y=\"84\"/><text fill=\"#000000\" font-family=\"sans-serif\" font-size=\"12\" font-style=\"italic\" lengthAdjust=\"spacingAndGlyphs\" textLength=\"64\" x=\"166\" y=\"100.1387\">«part def»</text><text fill=\"#000000\" font-family=\"sans-serif\" font-size=\"12\" lengthAdjust=\"spacingAndGlyphs\" textLength=\"8\" x=\"194\" y=\"114.1074\">A</text><line style=\"stroke: #383838; stroke-width: 1.5;\" x1=\"166\" x2=\"230\" y1=\"121.9375\" y2=\"121.9375\"/></a><!--MD5=[60a26617385b1d2d0262a64233df1f8d]\n",
       "class E6--><a href=\"psysml:febc5459-2ebe-4c36-9a31-624278ca958f\" target=\"_top\" title=\"psysml:febc5459-2ebe-4c36-9a31-624278ca958f\" xlink:actuate=\"onRequest\" xlink:href=\"psysml:febc5459-2ebe-4c36-9a31-624278ca958f\" xlink:show=\"new\" xlink:title=\"psysml:febc5459-2ebe-4c36-9a31-624278ca958f\" xlink:type=\"simple\"><rect fill=\"#FFFFFF\" height=\"45.9375\" id=\"E6\" rx=\"10\" ry=\"10\" style=\"stroke: #383838; stroke-width: 1.5;\" width=\"42\" x=\"59.5\" y=\"84\"/><text fill=\"#000000\" font-family=\"sans-serif\" font-size=\"12\" font-style=\"italic\" lengthAdjust=\"spacingAndGlyphs\" textLength=\"40\" x=\"60.5\" y=\"100.1387\">«part»</text><text fill=\"#000000\" font-family=\"sans-serif\" font-size=\"12\" lengthAdjust=\"spacingAndGlyphs\" textLength=\"22\" x=\"69.5\" y=\"114.1074\">x: A</text><line style=\"stroke: #383838; stroke-width: 1.5;\" x1=\"60.5\" x2=\"100.5\" y1=\"121.9375\" y2=\"121.9375\"/></a><a href=\"psysml:0289fe7d-3512-4b15-a612-d4f3c113c698\" target=\"_top\" title=\"psysml:0289fe7d-3512-4b15-a612-d4f3c113c698\" xlink:actuate=\"onRequest\" xlink:href=\"psysml:0289fe7d-3512-4b15-a612-d4f3c113c698\" xlink:show=\"new\" xlink:title=\"psysml:0289fe7d-3512-4b15-a612-d4f3c113c698\" xlink:type=\"simple\"><polygon fill=\"#FFFFFF\" points=\"56,165.5,91,165.5,98,187.7969,105,187.7969,105,218.0938,56,218.0938,56,165.5\" style=\"stroke: #000000; stroke-width: 1.5;\"/><line style=\"stroke: #000000; stroke-width: 1.5;\" x1=\"56\" x2=\"98\" y1=\"187.7969\" y2=\"187.7969\"/><text fill=\"#000000\" font-family=\"sans-serif\" font-size=\"14\" font-weight=\"bold\" lengthAdjust=\"spacingAndGlyphs\" textLength=\"29\" x=\"60\" y=\"180.4951\">P2a</text></a><!--MD5=[a717450b82c80b9240a525fa862496af]\n",
       "link E6 to E3--><a href=\"psysml:a41f4e21-5f48-4d30-b801-3db99d3a1abc\" target=\"_top\" title=\"psysml:a41f4e21-5f48-4d30-b801-3db99d3a1abc\" xlink:actuate=\"onRequest\" xlink:href=\"psysml:a41f4e21-5f48-4d30-b801-3db99d3a1abc\" xlink:show=\"new\" xlink:title=\"psysml:a41f4e21-5f48-4d30-b801-3db99d3a1abc\" xlink:type=\"simple\"><path d=\"M101.62,107 C113.62,107 129.45,107 144.76,107 \" fill=\"none\" id=\"E6-&gt;E3\" style=\"stroke: #383838; stroke-width: 1.0;\"/><polygon fill=\"#FFFFFF\" points=\"164.91,107,145.91,114,145.91,100,164.91,107\" style=\"stroke: #383838; stroke-width: 1.0;\"/><ellipse cx=\"140.21\" cy=\"112\" fill=\"#383838\" rx=\"2\" ry=\"2\" style=\"stroke: #383838; stroke-width: 1.0;\"/><ellipse cx=\"140.21\" cy=\"102\" fill=\"#383838\" rx=\"2\" ry=\"2\" style=\"stroke: #383838; stroke-width: 1.0;\"/></a><!--MD5=[e7d5865e3928a76cb0699f87328d884c]\n",
       "@startuml\r\n",
       "left to right direction\r\n",
       "skinparam monochrome true\r\n",
       "skinparam classbackgroundcolor white\r\n",
       "skinparam shadowing false\r\n",
       "skinparam wrapWidth 300\r\n",
       "hide circle\r\n",
       "\r\n",
       "package \"QualifiedNameImportTest\" as E1  [[psysml:69fab460-d5be-4945-91cf-3ca8c8123b68 ]]  {\r\n",
       "package \"P1\" as E2  [[psysml:a87ccb6a-ce8a-4667-9a31-41e6c6a1c677 ]]  {\r\n",
       "comp def \"A\" as E3  <<(T,blue)part def>> [[psysml:dead2420-b34a-43f7-a875-a2c685248268 ]] {\r\n",
       "}\r\n",
       "}\r\n",
       "package \"P2\" as E4  [[psysml:434a9cec-9a5b-4c30-bd61-ce4aa8eabf42 ]]  {\r\n",
       "package \"P2a\" as E5  [[psysml:0289fe7d-3512-4b15-a612-d4f3c113c698 ]]  {\r\n",
       "}\r\n",
       "comp usage \"x: A\" as E6  <<(T,blue)part>> [[psysml:febc5459-2ebe-4c36-9a31-624278ca958f ]] {\r\n",
       "}\r\n",
       "E6 - -:|> E3 [[psysml:a41f4e21-5f48-4d30-b801-3db99d3a1abc ]] \r\n",
       "}\r\n",
       "}\r\n",
       "@enduml\r\n",
       "\n",
       "PlantUML version 1.2020.13(Sat Jun 13 12:26:38 UTC 2020)\n",
       "(EPL source distribution)\n",
       "Java Runtime: OpenJDK Runtime Environment\n",
       "JVM: OpenJDK 64-Bit Server VM\n",
       "Default Encoding: UTF-8\n",
       "Language: en\n",
       "Country: null\n",
       "--></g></svg>"
      ]
     },
     "execution_count": 16,
     "metadata": {},
     "output_type": "execute_result"
    }
   ],
   "source": [
    "%viz --style=\"LR\" --view=\"Default\" \"QualifiedNameImportTest\""
   ]
  },
  {
   "cell_type": "code",
   "execution_count": 17,
   "id": "continuing-affiliation",
   "metadata": {
    "execution": {
     "iopub.execute_input": "2021-03-26T09:15:00.567735Z",
     "iopub.status.busy": "2021-03-26T09:15:00.567361Z",
     "iopub.status.idle": "2021-03-26T09:15:00.597179Z",
     "shell.execute_reply": "2021-03-26T09:15:00.596501Z"
    }
   },
   "outputs": [
    {
     "data": {
      "image/svg+xml": [
       "<?xml version=\"1.0\" encoding=\"UTF-8\" standalone=\"no\"?><svg xmlns=\"http://www.w3.org/2000/svg\" xmlns:xlink=\"http://www.w3.org/1999/xlink\" contentScriptType=\"application/ecmascript\" contentStyleType=\"text/css\" height=\"271px\" preserveAspectRatio=\"none\" style=\"width:293px;height:271px;\" version=\"1.1\" viewBox=\"0 0 293 271\" width=\"293px\" zoomAndPan=\"magnify\"><defs/><g><!--MD5=[fbc87193dbaf4d95561dea2c320d4a47]\n",
       "cluster E1--><a href=\"psysml:69fab460-d5be-4945-91cf-3ca8c8123b68\" target=\"_top\" title=\"psysml:69fab460-d5be-4945-91cf-3ca8c8123b68\" xlink:actuate=\"onRequest\" xlink:href=\"psysml:69fab460-d5be-4945-91cf-3ca8c8123b68\" xlink:show=\"new\" xlink:title=\"psysml:69fab460-d5be-4945-91cf-3ca8c8123b68\" xlink:type=\"simple\"><polygon fill=\"#FFFFFF\" points=\"16,6,221,6,228,28.2969,271,28.2969,271,259,16,259,16,6\" style=\"stroke: #000000; stroke-width: 1.5;\"/><line style=\"stroke: #000000; stroke-width: 1.5;\" x1=\"16\" x2=\"228\" y1=\"28.2969\" y2=\"28.2969\"/><text fill=\"#000000\" font-family=\"sans-serif\" font-size=\"14\" font-weight=\"bold\" lengthAdjust=\"spacingAndGlyphs\" textLength=\"199\" x=\"20\" y=\"20.9951\">QualifiedNameImportTest</text></a><!--MD5=[e4f7fae6ed58524ba242bb0b0d3be6b7]\n",
       "cluster E2--><a href=\"psysml:a87ccb6a-ce8a-4667-9a31-41e6c6a1c677\" target=\"_top\" title=\"psysml:a87ccb6a-ce8a-4667-9a31-41e6c6a1c677\" xlink:actuate=\"onRequest\" xlink:href=\"psysml:a87ccb6a-ce8a-4667-9a31-41e6c6a1c677\" xlink:show=\"new\" xlink:title=\"psysml:a87ccb6a-ce8a-4667-9a31-41e6c6a1c677\" xlink:type=\"simple\"><polygon fill=\"#FFFFFF\" points=\"149,49,175,49,182,71.2969,247,71.2969,247,146,149,146,149,49\" style=\"stroke: #000000; stroke-width: 1.5;\"/><line style=\"stroke: #000000; stroke-width: 1.5;\" x1=\"149\" x2=\"182\" y1=\"71.2969\" y2=\"71.2969\"/><text fill=\"#000000\" font-family=\"sans-serif\" font-size=\"14\" font-weight=\"bold\" lengthAdjust=\"spacingAndGlyphs\" textLength=\"20\" x=\"153\" y=\"63.9951\">P1</text></a><!--MD5=[f6df4d0ebaf0b5dfb2ced0ae5af7c670]\n",
       "cluster E4--><a href=\"psysml:434a9cec-9a5b-4c30-bd61-ce4aa8eabf42\" target=\"_top\" title=\"psysml:434a9cec-9a5b-4c30-bd61-ce4aa8eabf42\" xlink:actuate=\"onRequest\" xlink:href=\"psysml:434a9cec-9a5b-4c30-bd61-ce4aa8eabf42\" xlink:show=\"new\" xlink:title=\"psysml:434a9cec-9a5b-4c30-bd61-ce4aa8eabf42\" xlink:type=\"simple\"><polygon fill=\"#FFFFFF\" points=\"40,49,66,49,73,71.2969,121,71.2969,121,235,40,235,40,49\" style=\"stroke: #000000; stroke-width: 1.5;\"/><line style=\"stroke: #000000; stroke-width: 1.5;\" x1=\"40\" x2=\"73\" y1=\"71.2969\" y2=\"71.2969\"/><text fill=\"#000000\" font-family=\"sans-serif\" font-size=\"14\" font-weight=\"bold\" lengthAdjust=\"spacingAndGlyphs\" textLength=\"20\" x=\"44\" y=\"63.9951\">P2</text></a><!--MD5=[09b614a08d8cba4a07c9adeb5e0fee81]\n",
       "class E3--><a href=\"psysml:dead2420-b34a-43f7-a875-a2c685248268\" target=\"_top\" title=\"psysml:dead2420-b34a-43f7-a875-a2c685248268\" xlink:actuate=\"onRequest\" xlink:href=\"psysml:dead2420-b34a-43f7-a875-a2c685248268\" xlink:show=\"new\" xlink:title=\"psysml:dead2420-b34a-43f7-a875-a2c685248268\" xlink:type=\"simple\"><rect fill=\"#FFFFFF\" height=\"45.9375\" id=\"E3\" style=\"stroke: #383838; stroke-width: 1.5;\" width=\"66\" x=\"165\" y=\"84\"/><text fill=\"#000000\" font-family=\"sans-serif\" font-size=\"12\" font-style=\"italic\" lengthAdjust=\"spacingAndGlyphs\" textLength=\"64\" x=\"166\" y=\"100.1387\">«part def»</text><text fill=\"#000000\" font-family=\"sans-serif\" font-size=\"12\" lengthAdjust=\"spacingAndGlyphs\" textLength=\"8\" x=\"194\" y=\"114.1074\">A</text><line style=\"stroke: #383838; stroke-width: 1.5;\" x1=\"166\" x2=\"230\" y1=\"121.9375\" y2=\"121.9375\"/></a><!--MD5=[60a26617385b1d2d0262a64233df1f8d]\n",
       "class E6--><a href=\"psysml:febc5459-2ebe-4c36-9a31-624278ca958f\" target=\"_top\" title=\"psysml:febc5459-2ebe-4c36-9a31-624278ca958f\" xlink:actuate=\"onRequest\" xlink:href=\"psysml:febc5459-2ebe-4c36-9a31-624278ca958f\" xlink:show=\"new\" xlink:title=\"psysml:febc5459-2ebe-4c36-9a31-624278ca958f\" xlink:type=\"simple\"><rect fill=\"#FFFFFF\" height=\"45.9375\" id=\"E6\" rx=\"10\" ry=\"10\" style=\"stroke: #383838; stroke-width: 1.5;\" width=\"42\" x=\"59.5\" y=\"84\"/><text fill=\"#000000\" font-family=\"sans-serif\" font-size=\"12\" font-style=\"italic\" lengthAdjust=\"spacingAndGlyphs\" textLength=\"40\" x=\"60.5\" y=\"100.1387\">«part»</text><text fill=\"#000000\" font-family=\"sans-serif\" font-size=\"12\" lengthAdjust=\"spacingAndGlyphs\" textLength=\"22\" x=\"69.5\" y=\"114.1074\">x: A</text><line style=\"stroke: #383838; stroke-width: 1.5;\" x1=\"60.5\" x2=\"100.5\" y1=\"121.9375\" y2=\"121.9375\"/></a><a href=\"psysml:0289fe7d-3512-4b15-a612-d4f3c113c698\" target=\"_top\" title=\"psysml:0289fe7d-3512-4b15-a612-d4f3c113c698\" xlink:actuate=\"onRequest\" xlink:href=\"psysml:0289fe7d-3512-4b15-a612-d4f3c113c698\" xlink:show=\"new\" xlink:title=\"psysml:0289fe7d-3512-4b15-a612-d4f3c113c698\" xlink:type=\"simple\"><polygon fill=\"#FFFFFF\" points=\"56,165.5,91,165.5,98,187.7969,105,187.7969,105,218.0938,56,218.0938,56,165.5\" style=\"stroke: #000000; stroke-width: 1.5;\"/><line style=\"stroke: #000000; stroke-width: 1.5;\" x1=\"56\" x2=\"98\" y1=\"187.7969\" y2=\"187.7969\"/><text fill=\"#000000\" font-family=\"sans-serif\" font-size=\"14\" font-weight=\"bold\" lengthAdjust=\"spacingAndGlyphs\" textLength=\"29\" x=\"60\" y=\"180.4951\">P2a</text></a><!--MD5=[a717450b82c80b9240a525fa862496af]\n",
       "link E6 to E3--><a href=\"psysml:a41f4e21-5f48-4d30-b801-3db99d3a1abc\" target=\"_top\" title=\"psysml:a41f4e21-5f48-4d30-b801-3db99d3a1abc\" xlink:actuate=\"onRequest\" xlink:href=\"psysml:a41f4e21-5f48-4d30-b801-3db99d3a1abc\" xlink:show=\"new\" xlink:title=\"psysml:a41f4e21-5f48-4d30-b801-3db99d3a1abc\" xlink:type=\"simple\"><path d=\"M101.62,107 C113.62,107 129.45,107 144.76,107 \" fill=\"none\" id=\"E6-&gt;E3\" style=\"stroke: #383838; stroke-width: 1.0;\"/><polygon fill=\"#FFFFFF\" points=\"164.91,107,145.91,114,145.91,100,164.91,107\" style=\"stroke: #383838; stroke-width: 1.0;\"/><ellipse cx=\"140.21\" cy=\"112\" fill=\"#383838\" rx=\"2\" ry=\"2\" style=\"stroke: #383838; stroke-width: 1.0;\"/><ellipse cx=\"140.21\" cy=\"102\" fill=\"#383838\" rx=\"2\" ry=\"2\" style=\"stroke: #383838; stroke-width: 1.0;\"/></a><!--MD5=[e7d5865e3928a76cb0699f87328d884c]\n",
       "@startuml\r\n",
       "left to right direction\r\n",
       "skinparam monochrome true\r\n",
       "skinparam classbackgroundcolor white\r\n",
       "skinparam shadowing false\r\n",
       "skinparam wrapWidth 300\r\n",
       "hide circle\r\n",
       "\r\n",
       "package \"QualifiedNameImportTest\" as E1  [[psysml:69fab460-d5be-4945-91cf-3ca8c8123b68 ]]  {\r\n",
       "package \"P1\" as E2  [[psysml:a87ccb6a-ce8a-4667-9a31-41e6c6a1c677 ]]  {\r\n",
       "comp def \"A\" as E3  <<(T,blue)part def>> [[psysml:dead2420-b34a-43f7-a875-a2c685248268 ]] {\r\n",
       "}\r\n",
       "}\r\n",
       "package \"P2\" as E4  [[psysml:434a9cec-9a5b-4c30-bd61-ce4aa8eabf42 ]]  {\r\n",
       "package \"P2a\" as E5  [[psysml:0289fe7d-3512-4b15-a612-d4f3c113c698 ]]  {\r\n",
       "}\r\n",
       "comp usage \"x: A\" as E6  <<(T,blue)part>> [[psysml:febc5459-2ebe-4c36-9a31-624278ca958f ]] {\r\n",
       "}\r\n",
       "E6 - -:|> E3 [[psysml:a41f4e21-5f48-4d30-b801-3db99d3a1abc ]] \r\n",
       "}\r\n",
       "}\r\n",
       "@enduml\r\n",
       "\n",
       "PlantUML version 1.2020.13(Sat Jun 13 12:26:38 UTC 2020)\n",
       "(EPL source distribution)\n",
       "Java Runtime: OpenJDK Runtime Environment\n",
       "JVM: OpenJDK 64-Bit Server VM\n",
       "Default Encoding: UTF-8\n",
       "Language: en\n",
       "Country: null\n",
       "--></g></svg>"
      ]
     },
     "execution_count": 17,
     "metadata": {},
     "output_type": "execute_result"
    }
   ],
   "source": [
    "%viz --style=\"LR\" --view=\"Tree\" \"QualifiedNameImportTest\""
   ]
  },
  {
   "cell_type": "code",
   "execution_count": 18,
   "id": "innovative-conference",
   "metadata": {
    "execution": {
     "iopub.execute_input": "2021-03-26T09:15:00.651176Z",
     "iopub.status.busy": "2021-03-26T09:15:00.649614Z",
     "iopub.status.idle": "2021-03-26T09:15:00.658292Z",
     "shell.execute_reply": "2021-03-26T09:15:00.657387Z"
    }
   },
   "outputs": [
    {
     "data": {
      "image/svg+xml": [
       "<?xml version=\"1.0\" encoding=\"UTF-8\" standalone=\"no\"?><svg xmlns=\"http://www.w3.org/2000/svg\" xmlns:xlink=\"http://www.w3.org/1999/xlink\" contentScriptType=\"application/ecmascript\" contentStyleType=\"text/css\" height=\"12px\" preserveAspectRatio=\"none\" style=\"width:12px;height:12px;\" version=\"1.1\" viewBox=\"0 0 12 12\" width=\"12px\" zoomAndPan=\"magnify\"><defs/><g><!--MD5=[19d285c9d72a204eba4e2cd117d745e8]\n",
       "@startuml\r\n",
       "left to right direction\r\n",
       "skinparam monochrome true\r\n",
       "skinparam classbackgroundcolor white\r\n",
       "skinparam shadowing false\r\n",
       "skinparam wrapWidth 300\r\n",
       "hide circle\r\n",
       "\r\n",
       "@enduml\r\n",
       "\n",
       "PlantUML version 1.2020.13(Sat Jun 13 12:26:38 UTC 2020)\n",
       "(EPL source distribution)\n",
       "Java Runtime: OpenJDK Runtime Environment\n",
       "JVM: OpenJDK 64-Bit Server VM\n",
       "Default Encoding: UTF-8\n",
       "Language: en\n",
       "Country: null\n",
       "--></g></svg>"
      ]
     },
     "execution_count": 18,
     "metadata": {},
     "output_type": "execute_result"
    }
   ],
   "source": [
    "%viz --style=\"LR\" --view=\"State\" \"QualifiedNameImportTest\""
   ]
  },
  {
   "cell_type": "code",
   "execution_count": 19,
   "id": "elder-grill",
   "metadata": {
    "execution": {
     "iopub.execute_input": "2021-03-26T09:15:00.710586Z",
     "iopub.status.busy": "2021-03-26T09:15:00.710072Z",
     "iopub.status.idle": "2021-03-26T09:15:00.740359Z",
     "shell.execute_reply": "2021-03-26T09:15:00.738687Z"
    }
   },
   "outputs": [
    {
     "data": {
      "image/svg+xml": [
       "<?xml version=\"1.0\" encoding=\"UTF-8\" standalone=\"no\"?><svg xmlns=\"http://www.w3.org/2000/svg\" xmlns:xlink=\"http://www.w3.org/1999/xlink\" contentScriptType=\"application/ecmascript\" contentStyleType=\"text/css\" height=\"384px\" preserveAspectRatio=\"none\" style=\"width:253px;height:384px;\" version=\"1.1\" viewBox=\"0 0 253 384\" width=\"253px\" zoomAndPan=\"magnify\"><defs/><g><!--MD5=[fbc87193dbaf4d95561dea2c320d4a47]\n",
       "cluster E1--><a href=\"psysml:69fab460-d5be-4945-91cf-3ca8c8123b68\" target=\"_top\" title=\"psysml:69fab460-d5be-4945-91cf-3ca8c8123b68\" xlink:actuate=\"onRequest\" xlink:href=\"psysml:69fab460-d5be-4945-91cf-3ca8c8123b68\" xlink:show=\"new\" xlink:title=\"psysml:69fab460-d5be-4945-91cf-3ca8c8123b68\" xlink:type=\"simple\"><polygon fill=\"#FFFFFF\" points=\"16,6,221,6,228,28.2969,231,28.2969,231,372,16,372,16,6\" style=\"stroke: #000000; stroke-width: 1.5;\"/><line style=\"stroke: #000000; stroke-width: 1.5;\" x1=\"16\" x2=\"228\" y1=\"28.2969\" y2=\"28.2969\"/><text fill=\"#000000\" font-family=\"sans-serif\" font-size=\"14\" font-weight=\"bold\" lengthAdjust=\"spacingAndGlyphs\" textLength=\"199\" x=\"20\" y=\"20.9951\">QualifiedNameImportTest</text></a><!--MD5=[e4f7fae6ed58524ba242bb0b0d3be6b7]\n",
       "cluster E2--><a href=\"psysml:a87ccb6a-ce8a-4667-9a31-41e6c6a1c677\" target=\"_top\" title=\"psysml:a87ccb6a-ce8a-4667-9a31-41e6c6a1c677\" xlink:actuate=\"onRequest\" xlink:href=\"psysml:a87ccb6a-ce8a-4667-9a31-41e6c6a1c677\" xlink:show=\"new\" xlink:title=\"psysml:a87ccb6a-ce8a-4667-9a31-41e6c6a1c677\" xlink:type=\"simple\"><polygon fill=\"#FFFFFF\" points=\"72,49,98,49,105,71.2969,175,71.2969,175,144,72,144,72,49\" style=\"stroke: #000000; stroke-width: 1.5;\"/><line style=\"stroke: #000000; stroke-width: 1.5;\" x1=\"72\" x2=\"105\" y1=\"71.2969\" y2=\"71.2969\"/><text fill=\"#000000\" font-family=\"sans-serif\" font-size=\"14\" font-weight=\"bold\" lengthAdjust=\"spacingAndGlyphs\" textLength=\"20\" x=\"76\" y=\"63.9951\">P1</text></a><!--MD5=[f6df4d0ebaf0b5dfb2ced0ae5af7c670]\n",
       "cluster E4--><a href=\"psysml:434a9cec-9a5b-4c30-bd61-ce4aa8eabf42\" target=\"_top\" title=\"psysml:434a9cec-9a5b-4c30-bd61-ce4aa8eabf42\" xlink:actuate=\"onRequest\" xlink:href=\"psysml:434a9cec-9a5b-4c30-bd61-ce4aa8eabf42\" xlink:show=\"new\" xlink:title=\"psysml:434a9cec-9a5b-4c30-bd61-ce4aa8eabf42\" xlink:type=\"simple\"><polygon fill=\"#FFFFFF\" points=\"82.5,168,108.5,168,115.5,190.2969,164.5,190.2969,164.5,348,82.5,348,82.5,168\" style=\"stroke: #000000; stroke-width: 1.5;\"/><line style=\"stroke: #000000; stroke-width: 1.5;\" x1=\"82.5\" x2=\"115.5\" y1=\"190.2969\" y2=\"190.2969\"/><text fill=\"#000000\" font-family=\"sans-serif\" font-size=\"14\" font-weight=\"bold\" lengthAdjust=\"spacingAndGlyphs\" textLength=\"20\" x=\"86.5\" y=\"182.9951\">P2</text></a><g id=\"E1.E2.E3\"><a href=\"psysml:dead2420-b34a-43f7-a875-a2c685248268\" target=\"_top\" title=\"psysml:dead2420-b34a-43f7-a875-a2c685248268\" xlink:actuate=\"onRequest\" xlink:href=\"psysml:dead2420-b34a-43f7-a875-a2c685248268\" xlink:show=\"new\" xlink:title=\"psysml:dead2420-b34a-43f7-a875-a2c685248268\" xlink:type=\"simple\"><rect fill=\"#FFFFFF\" height=\"42.9375\" id=\"E3\" style=\"stroke: #383838; stroke-width: 1.5;\" width=\"71\" x=\"88\" y=\"84.5\"/><rect fill=\"#F8F8F8\" height=\"37.9375\" style=\"stroke: #383838; stroke-width: 1.5;\" width=\"71\" x=\"88\" y=\"84.5\"/><text fill=\"#000000\" font-family=\"sans-serif\" font-size=\"12\" font-style=\"italic\" lengthAdjust=\"spacingAndGlyphs\" textLength=\"64\" x=\"91.5\" y=\"100.6387\">«part def»</text><text fill=\"#000000\" font-family=\"sans-serif\" font-size=\"12\" lengthAdjust=\"spacingAndGlyphs\" textLength=\"8\" x=\"119.5\" y=\"114.6074\">A</text></a></g><a href=\"psysml:0289fe7d-3512-4b15-a612-d4f3c113c698\" target=\"_top\" title=\"psysml:0289fe7d-3512-4b15-a612-d4f3c113c698\" xlink:actuate=\"onRequest\" xlink:href=\"psysml:0289fe7d-3512-4b15-a612-d4f3c113c698\" xlink:show=\"new\" xlink:title=\"psysml:0289fe7d-3512-4b15-a612-d4f3c113c698\" xlink:type=\"simple\"><polygon fill=\"#FFFFFF\" points=\"99,203.5,134,203.5,141,225.7969,148,225.7969,148,256.0938,99,256.0938,99,203.5\" style=\"stroke: #000000; stroke-width: 1.5;\"/><line style=\"stroke: #000000; stroke-width: 1.5;\" x1=\"99\" x2=\"141\" y1=\"225.7969\" y2=\"225.7969\"/><text fill=\"#000000\" font-family=\"sans-serif\" font-size=\"14\" font-weight=\"bold\" lengthAdjust=\"spacingAndGlyphs\" textLength=\"29\" x=\"103\" y=\"218.4951\">P2a</text></a><g id=\"E1.E4.E6\"><a href=\"psysml:febc5459-2ebe-4c36-9a31-624278ca958f\" target=\"_top\" title=\"psysml:febc5459-2ebe-4c36-9a31-624278ca958f\" xlink:actuate=\"onRequest\" xlink:href=\"psysml:febc5459-2ebe-4c36-9a31-624278ca958f\" xlink:show=\"new\" xlink:title=\"psysml:febc5459-2ebe-4c36-9a31-624278ca958f\" xlink:type=\"simple\"><rect fill=\"#FFFFFF\" height=\"40\" id=\"E6\" rx=\"10\" ry=\"10\" style=\"stroke: #383838; stroke-width: 1.5;\" width=\"50\" x=\"98.5\" y=\"292\"/><rect fill=\"#F8F8F8\" height=\"23.9688\" rx=\"10\" ry=\"10\" style=\"stroke: #F8F8F8; stroke-width: 1.5;\" width=\"50\" x=\"98.5\" y=\"292\"/><rect fill=\"#F8F8F8\" height=\"10\" style=\"stroke: #F8F8F8; stroke-width: 1.5;\" width=\"50\" x=\"98.5\" y=\"305.9688\"/><rect fill=\"none\" height=\"40\" id=\"E6\" rx=\"10\" ry=\"10\" style=\"stroke: #383838; stroke-width: 1.5;\" width=\"50\" x=\"98.5\" y=\"292\"/><text fill=\"#000000\" font-family=\"sans-serif\" font-size=\"12\" lengthAdjust=\"spacingAndGlyphs\" textLength=\"22\" x=\"112.5\" y=\"308.1387\">x: A</text></a></g><!--MD5=[7b7bf8a73c4e60435135ff1a8f8e7060]\n",
       "@startuml\r\n",
       "skinparam ranksep 8\r\n",
       "skinparam rectangle {\r\n",
       " backgroundColor<<block>> LightGreen\r\n",
       "}\r\n",
       "left to right direction\r\n",
       "skinparam monochrome true\r\n",
       "skinparam classbackgroundcolor white\r\n",
       "skinparam shadowing false\r\n",
       "skinparam wrapWidth 300\r\n",
       "hide circle\r\n",
       "\r\n",
       "package \"QualifiedNameImportTest\" as E1  [[psysml:69fab460-d5be-4945-91cf-3ca8c8123b68 ]]  {\r\n",
       "package \"P1\" as E2  [[psysml:a87ccb6a-ce8a-4667-9a31-41e6c6a1c677 ]]  {\r\n",
       "rec def \"A\" as E3  <<(T,blue)part def>> [[psysml:dead2420-b34a-43f7-a875-a2c685248268 ]] {\r\n",
       "}\r\n",
       "}\r\n",
       "package \"P2\" as E4  [[psysml:434a9cec-9a5b-4c30-bd61-ce4aa8eabf42 ]]  {\r\n",
       "package \"P2a\" as E5  [[psysml:0289fe7d-3512-4b15-a612-d4f3c113c698 ]]  {\r\n",
       "}\r\n",
       "rec usage \"x: A\" as E6  [[psysml:febc5459-2ebe-4c36-9a31-624278ca958f ]] {\r\n",
       "}\r\n",
       "}\r\n",
       "}\r\n",
       "@enduml\r\n",
       "\n",
       "PlantUML version 1.2020.13(Sat Jun 13 12:26:38 UTC 2020)\n",
       "(EPL source distribution)\n",
       "Java Runtime: OpenJDK Runtime Environment\n",
       "JVM: OpenJDK 64-Bit Server VM\n",
       "Default Encoding: UTF-8\n",
       "Language: en\n",
       "Country: null\n",
       "--></g></svg>"
      ]
     },
     "execution_count": 19,
     "metadata": {},
     "output_type": "execute_result"
    }
   ],
   "source": [
    "%viz --style=\"LR\" --view=\"Interconnection\" \"QualifiedNameImportTest\""
   ]
  },
  {
   "cell_type": "code",
   "execution_count": 20,
   "id": "expired-stamp",
   "metadata": {
    "execution": {
     "iopub.execute_input": "2021-03-26T09:15:00.792232Z",
     "iopub.status.busy": "2021-03-26T09:15:00.791752Z",
     "iopub.status.idle": "2021-03-26T09:15:00.800317Z",
     "shell.execute_reply": "2021-03-26T09:15:00.798685Z"
    }
   },
   "outputs": [
    {
     "data": {
      "image/svg+xml": [
       "<?xml version=\"1.0\" encoding=\"UTF-8\" standalone=\"no\"?><svg xmlns=\"http://www.w3.org/2000/svg\" xmlns:xlink=\"http://www.w3.org/1999/xlink\" contentScriptType=\"application/ecmascript\" contentStyleType=\"text/css\" height=\"12px\" preserveAspectRatio=\"none\" style=\"width:12px;height:12px;\" version=\"1.1\" viewBox=\"0 0 12 12\" width=\"12px\" zoomAndPan=\"magnify\"><defs/><g><!--MD5=[7aeb398939421629f6affaa4a1a7b125]\n",
       "@startuml\r\n",
       "skinparam ranksep 8\r\n",
       "left to right direction\r\n",
       "skinparam monochrome true\r\n",
       "skinparam classbackgroundcolor white\r\n",
       "skinparam shadowing false\r\n",
       "skinparam wrapWidth 300\r\n",
       "hide circle\r\n",
       "\r\n",
       "@enduml\r\n",
       "\n",
       "PlantUML version 1.2020.13(Sat Jun 13 12:26:38 UTC 2020)\n",
       "(EPL source distribution)\n",
       "Java Runtime: OpenJDK Runtime Environment\n",
       "JVM: OpenJDK 64-Bit Server VM\n",
       "Default Encoding: UTF-8\n",
       "Language: en\n",
       "Country: null\n",
       "--></g></svg>"
      ]
     },
     "execution_count": 20,
     "metadata": {},
     "output_type": "execute_result"
    }
   ],
   "source": [
    "%viz --style=\"LR\" --view=\"Action\" \"QualifiedNameImportTest\""
   ]
  },
  {
   "cell_type": "code",
   "execution_count": 21,
   "id": "auburn-testing",
   "metadata": {
    "execution": {
     "iopub.execute_input": "2021-03-26T09:15:00.852316Z",
     "iopub.status.busy": "2021-03-26T09:15:00.851821Z",
     "iopub.status.idle": "2021-03-26T09:15:00.881829Z",
     "shell.execute_reply": "2021-03-26T09:15:00.880507Z"
    }
   },
   "outputs": [
    {
     "data": {
      "image/svg+xml": [
       "<?xml version=\"1.0\" encoding=\"UTF-8\" standalone=\"no\"?><svg xmlns=\"http://www.w3.org/2000/svg\" xmlns:xlink=\"http://www.w3.org/1999/xlink\" contentScriptType=\"application/ecmascript\" contentStyleType=\"text/css\" height=\"271px\" preserveAspectRatio=\"none\" style=\"width:293px;height:271px;\" version=\"1.1\" viewBox=\"0 0 293 271\" width=\"293px\" zoomAndPan=\"magnify\"><defs/><g><!--MD5=[fbc87193dbaf4d95561dea2c320d4a47]\n",
       "cluster E1--><a href=\"psysml:69fab460-d5be-4945-91cf-3ca8c8123b68\" target=\"_top\" title=\"psysml:69fab460-d5be-4945-91cf-3ca8c8123b68\" xlink:actuate=\"onRequest\" xlink:href=\"psysml:69fab460-d5be-4945-91cf-3ca8c8123b68\" xlink:show=\"new\" xlink:title=\"psysml:69fab460-d5be-4945-91cf-3ca8c8123b68\" xlink:type=\"simple\"><polygon fill=\"#FFFFFF\" points=\"16,6,221,6,228,28.2969,271,28.2969,271,259,16,259,16,6\" style=\"stroke: #000000; stroke-width: 1.5;\"/><line style=\"stroke: #000000; stroke-width: 1.5;\" x1=\"16\" x2=\"228\" y1=\"28.2969\" y2=\"28.2969\"/><text fill=\"#000000\" font-family=\"sans-serif\" font-size=\"14\" font-weight=\"bold\" lengthAdjust=\"spacingAndGlyphs\" textLength=\"199\" x=\"20\" y=\"20.9951\">QualifiedNameImportTest</text></a><!--MD5=[e4f7fae6ed58524ba242bb0b0d3be6b7]\n",
       "cluster E2--><a href=\"psysml:a87ccb6a-ce8a-4667-9a31-41e6c6a1c677\" target=\"_top\" title=\"psysml:a87ccb6a-ce8a-4667-9a31-41e6c6a1c677\" xlink:actuate=\"onRequest\" xlink:href=\"psysml:a87ccb6a-ce8a-4667-9a31-41e6c6a1c677\" xlink:show=\"new\" xlink:title=\"psysml:a87ccb6a-ce8a-4667-9a31-41e6c6a1c677\" xlink:type=\"simple\"><polygon fill=\"#FFFFFF\" points=\"149,49,175,49,182,71.2969,247,71.2969,247,146,149,146,149,49\" style=\"stroke: #000000; stroke-width: 1.5;\"/><line style=\"stroke: #000000; stroke-width: 1.5;\" x1=\"149\" x2=\"182\" y1=\"71.2969\" y2=\"71.2969\"/><text fill=\"#000000\" font-family=\"sans-serif\" font-size=\"14\" font-weight=\"bold\" lengthAdjust=\"spacingAndGlyphs\" textLength=\"20\" x=\"153\" y=\"63.9951\">P1</text></a><!--MD5=[f6df4d0ebaf0b5dfb2ced0ae5af7c670]\n",
       "cluster E4--><a href=\"psysml:434a9cec-9a5b-4c30-bd61-ce4aa8eabf42\" target=\"_top\" title=\"psysml:434a9cec-9a5b-4c30-bd61-ce4aa8eabf42\" xlink:actuate=\"onRequest\" xlink:href=\"psysml:434a9cec-9a5b-4c30-bd61-ce4aa8eabf42\" xlink:show=\"new\" xlink:title=\"psysml:434a9cec-9a5b-4c30-bd61-ce4aa8eabf42\" xlink:type=\"simple\"><polygon fill=\"#FFFFFF\" points=\"40,49,66,49,73,71.2969,121,71.2969,121,235,40,235,40,49\" style=\"stroke: #000000; stroke-width: 1.5;\"/><line style=\"stroke: #000000; stroke-width: 1.5;\" x1=\"40\" x2=\"73\" y1=\"71.2969\" y2=\"71.2969\"/><text fill=\"#000000\" font-family=\"sans-serif\" font-size=\"14\" font-weight=\"bold\" lengthAdjust=\"spacingAndGlyphs\" textLength=\"20\" x=\"44\" y=\"63.9951\">P2</text></a><!--MD5=[09b614a08d8cba4a07c9adeb5e0fee81]\n",
       "class E3--><a href=\"psysml:dead2420-b34a-43f7-a875-a2c685248268\" target=\"_top\" title=\"psysml:dead2420-b34a-43f7-a875-a2c685248268\" xlink:actuate=\"onRequest\" xlink:href=\"psysml:dead2420-b34a-43f7-a875-a2c685248268\" xlink:show=\"new\" xlink:title=\"psysml:dead2420-b34a-43f7-a875-a2c685248268\" xlink:type=\"simple\"><rect fill=\"#FFFFFF\" height=\"45.9375\" id=\"E3\" style=\"stroke: #383838; stroke-width: 1.5;\" width=\"66\" x=\"165\" y=\"84\"/><text fill=\"#000000\" font-family=\"sans-serif\" font-size=\"12\" font-style=\"italic\" lengthAdjust=\"spacingAndGlyphs\" textLength=\"64\" x=\"166\" y=\"100.1387\">«part def»</text><text fill=\"#000000\" font-family=\"sans-serif\" font-size=\"12\" lengthAdjust=\"spacingAndGlyphs\" textLength=\"8\" x=\"194\" y=\"114.1074\">A</text><line style=\"stroke: #383838; stroke-width: 1.5;\" x1=\"166\" x2=\"230\" y1=\"121.9375\" y2=\"121.9375\"/></a><!--MD5=[60a26617385b1d2d0262a64233df1f8d]\n",
       "class E6--><a href=\"psysml:febc5459-2ebe-4c36-9a31-624278ca958f\" target=\"_top\" title=\"psysml:febc5459-2ebe-4c36-9a31-624278ca958f\" xlink:actuate=\"onRequest\" xlink:href=\"psysml:febc5459-2ebe-4c36-9a31-624278ca958f\" xlink:show=\"new\" xlink:title=\"psysml:febc5459-2ebe-4c36-9a31-624278ca958f\" xlink:type=\"simple\"><rect fill=\"#FFFFFF\" height=\"45.9375\" id=\"E6\" rx=\"10\" ry=\"10\" style=\"stroke: #383838; stroke-width: 1.5;\" width=\"42\" x=\"59.5\" y=\"84\"/><text fill=\"#000000\" font-family=\"sans-serif\" font-size=\"12\" font-style=\"italic\" lengthAdjust=\"spacingAndGlyphs\" textLength=\"40\" x=\"60.5\" y=\"100.1387\">«part»</text><text fill=\"#000000\" font-family=\"sans-serif\" font-size=\"12\" lengthAdjust=\"spacingAndGlyphs\" textLength=\"22\" x=\"69.5\" y=\"114.1074\">x: A</text><line style=\"stroke: #383838; stroke-width: 1.5;\" x1=\"60.5\" x2=\"100.5\" y1=\"121.9375\" y2=\"121.9375\"/></a><a href=\"psysml:0289fe7d-3512-4b15-a612-d4f3c113c698\" target=\"_top\" title=\"psysml:0289fe7d-3512-4b15-a612-d4f3c113c698\" xlink:actuate=\"onRequest\" xlink:href=\"psysml:0289fe7d-3512-4b15-a612-d4f3c113c698\" xlink:show=\"new\" xlink:title=\"psysml:0289fe7d-3512-4b15-a612-d4f3c113c698\" xlink:type=\"simple\"><polygon fill=\"#FFFFFF\" points=\"56,165.5,91,165.5,98,187.7969,105,187.7969,105,218.0938,56,218.0938,56,165.5\" style=\"stroke: #000000; stroke-width: 1.5;\"/><line style=\"stroke: #000000; stroke-width: 1.5;\" x1=\"56\" x2=\"98\" y1=\"187.7969\" y2=\"187.7969\"/><text fill=\"#000000\" font-family=\"sans-serif\" font-size=\"14\" font-weight=\"bold\" lengthAdjust=\"spacingAndGlyphs\" textLength=\"29\" x=\"60\" y=\"180.4951\">P2a</text></a><!--MD5=[a717450b82c80b9240a525fa862496af]\n",
       "link E6 to E3--><a href=\"psysml:a41f4e21-5f48-4d30-b801-3db99d3a1abc\" target=\"_top\" title=\"psysml:a41f4e21-5f48-4d30-b801-3db99d3a1abc\" xlink:actuate=\"onRequest\" xlink:href=\"psysml:a41f4e21-5f48-4d30-b801-3db99d3a1abc\" xlink:show=\"new\" xlink:title=\"psysml:a41f4e21-5f48-4d30-b801-3db99d3a1abc\" xlink:type=\"simple\"><path d=\"M101.62,107 C113.62,107 129.45,107 144.76,107 \" fill=\"none\" id=\"E6-&gt;E3\" style=\"stroke: #383838; stroke-width: 1.0;\"/><polygon fill=\"#FFFFFF\" points=\"164.91,107,145.91,114,145.91,100,164.91,107\" style=\"stroke: #383838; stroke-width: 1.0;\"/><ellipse cx=\"140.21\" cy=\"112\" fill=\"#383838\" rx=\"2\" ry=\"2\" style=\"stroke: #383838; stroke-width: 1.0;\"/><ellipse cx=\"140.21\" cy=\"102\" fill=\"#383838\" rx=\"2\" ry=\"2\" style=\"stroke: #383838; stroke-width: 1.0;\"/></a><!--MD5=[e7d5865e3928a76cb0699f87328d884c]\n",
       "@startuml\r\n",
       "left to right direction\r\n",
       "skinparam monochrome true\r\n",
       "skinparam classbackgroundcolor white\r\n",
       "skinparam shadowing false\r\n",
       "skinparam wrapWidth 300\r\n",
       "hide circle\r\n",
       "\r\n",
       "package \"QualifiedNameImportTest\" as E1  [[psysml:69fab460-d5be-4945-91cf-3ca8c8123b68 ]]  {\r\n",
       "package \"P1\" as E2  [[psysml:a87ccb6a-ce8a-4667-9a31-41e6c6a1c677 ]]  {\r\n",
       "comp def \"A\" as E3  <<(T,blue)part def>> [[psysml:dead2420-b34a-43f7-a875-a2c685248268 ]] {\r\n",
       "}\r\n",
       "}\r\n",
       "package \"P2\" as E4  [[psysml:434a9cec-9a5b-4c30-bd61-ce4aa8eabf42 ]]  {\r\n",
       "package \"P2a\" as E5  [[psysml:0289fe7d-3512-4b15-a612-d4f3c113c698 ]]  {\r\n",
       "}\r\n",
       "comp usage \"x: A\" as E6  <<(T,blue)part>> [[psysml:febc5459-2ebe-4c36-9a31-624278ca958f ]] {\r\n",
       "}\r\n",
       "E6 - -:|> E3 [[psysml:a41f4e21-5f48-4d30-b801-3db99d3a1abc ]] \r\n",
       "}\r\n",
       "}\r\n",
       "@enduml\r\n",
       "\n",
       "PlantUML version 1.2020.13(Sat Jun 13 12:26:38 UTC 2020)\n",
       "(EPL source distribution)\n",
       "Java Runtime: OpenJDK Runtime Environment\n",
       "JVM: OpenJDK 64-Bit Server VM\n",
       "Default Encoding: UTF-8\n",
       "Language: en\n",
       "Country: null\n",
       "--></g></svg>"
      ]
     },
     "execution_count": 21,
     "metadata": {},
     "output_type": "execute_result"
    }
   ],
   "source": [
    "%viz --style=\"LR\" --view=\"Sequence\" \"QualifiedNameImportTest\""
   ]
  },
  {
   "cell_type": "code",
   "execution_count": 22,
   "id": "coupled-italian",
   "metadata": {
    "execution": {
     "iopub.execute_input": "2021-03-26T09:15:00.935338Z",
     "iopub.status.busy": "2021-03-26T09:15:00.934831Z",
     "iopub.status.idle": "2021-03-26T09:15:00.966321Z",
     "shell.execute_reply": "2021-03-26T09:15:00.964999Z"
    }
   },
   "outputs": [
    {
     "data": {
      "image/svg+xml": [
       "<?xml version=\"1.0\" encoding=\"UTF-8\" standalone=\"no\"?><svg xmlns=\"http://www.w3.org/2000/svg\" xmlns:xlink=\"http://www.w3.org/1999/xlink\" contentScriptType=\"application/ecmascript\" contentStyleType=\"text/css\" height=\"271px\" preserveAspectRatio=\"none\" style=\"width:293px;height:271px;\" version=\"1.1\" viewBox=\"0 0 293 271\" width=\"293px\" zoomAndPan=\"magnify\"><defs/><g><!--MD5=[fbc87193dbaf4d95561dea2c320d4a47]\n",
       "cluster E1--><a href=\"psysml:69fab460-d5be-4945-91cf-3ca8c8123b68\" target=\"_top\" title=\"psysml:69fab460-d5be-4945-91cf-3ca8c8123b68\" xlink:actuate=\"onRequest\" xlink:href=\"psysml:69fab460-d5be-4945-91cf-3ca8c8123b68\" xlink:show=\"new\" xlink:title=\"psysml:69fab460-d5be-4945-91cf-3ca8c8123b68\" xlink:type=\"simple\"><polygon fill=\"#FFFFFF\" points=\"16,6,221,6,228,28.2969,271,28.2969,271,259,16,259,16,6\" style=\"stroke: #000000; stroke-width: 1.5;\"/><line style=\"stroke: #000000; stroke-width: 1.5;\" x1=\"16\" x2=\"228\" y1=\"28.2969\" y2=\"28.2969\"/><text fill=\"#000000\" font-family=\"sans-serif\" font-size=\"14\" font-weight=\"bold\" lengthAdjust=\"spacingAndGlyphs\" textLength=\"199\" x=\"20\" y=\"20.9951\">QualifiedNameImportTest</text></a><!--MD5=[e4f7fae6ed58524ba242bb0b0d3be6b7]\n",
       "cluster E2--><a href=\"psysml:a87ccb6a-ce8a-4667-9a31-41e6c6a1c677\" target=\"_top\" title=\"psysml:a87ccb6a-ce8a-4667-9a31-41e6c6a1c677\" xlink:actuate=\"onRequest\" xlink:href=\"psysml:a87ccb6a-ce8a-4667-9a31-41e6c6a1c677\" xlink:show=\"new\" xlink:title=\"psysml:a87ccb6a-ce8a-4667-9a31-41e6c6a1c677\" xlink:type=\"simple\"><polygon fill=\"#FFFFFF\" points=\"149,49,175,49,182,71.2969,247,71.2969,247,146,149,146,149,49\" style=\"stroke: #000000; stroke-width: 1.5;\"/><line style=\"stroke: #000000; stroke-width: 1.5;\" x1=\"149\" x2=\"182\" y1=\"71.2969\" y2=\"71.2969\"/><text fill=\"#000000\" font-family=\"sans-serif\" font-size=\"14\" font-weight=\"bold\" lengthAdjust=\"spacingAndGlyphs\" textLength=\"20\" x=\"153\" y=\"63.9951\">P1</text></a><!--MD5=[f6df4d0ebaf0b5dfb2ced0ae5af7c670]\n",
       "cluster E4--><a href=\"psysml:434a9cec-9a5b-4c30-bd61-ce4aa8eabf42\" target=\"_top\" title=\"psysml:434a9cec-9a5b-4c30-bd61-ce4aa8eabf42\" xlink:actuate=\"onRequest\" xlink:href=\"psysml:434a9cec-9a5b-4c30-bd61-ce4aa8eabf42\" xlink:show=\"new\" xlink:title=\"psysml:434a9cec-9a5b-4c30-bd61-ce4aa8eabf42\" xlink:type=\"simple\"><polygon fill=\"#FFFFFF\" points=\"40,49,66,49,73,71.2969,121,71.2969,121,235,40,235,40,49\" style=\"stroke: #000000; stroke-width: 1.5;\"/><line style=\"stroke: #000000; stroke-width: 1.5;\" x1=\"40\" x2=\"73\" y1=\"71.2969\" y2=\"71.2969\"/><text fill=\"#000000\" font-family=\"sans-serif\" font-size=\"14\" font-weight=\"bold\" lengthAdjust=\"spacingAndGlyphs\" textLength=\"20\" x=\"44\" y=\"63.9951\">P2</text></a><!--MD5=[09b614a08d8cba4a07c9adeb5e0fee81]\n",
       "class E3--><a href=\"psysml:dead2420-b34a-43f7-a875-a2c685248268\" target=\"_top\" title=\"psysml:dead2420-b34a-43f7-a875-a2c685248268\" xlink:actuate=\"onRequest\" xlink:href=\"psysml:dead2420-b34a-43f7-a875-a2c685248268\" xlink:show=\"new\" xlink:title=\"psysml:dead2420-b34a-43f7-a875-a2c685248268\" xlink:type=\"simple\"><rect fill=\"#FFFFFF\" height=\"45.9375\" id=\"E3\" style=\"stroke: #383838; stroke-width: 1.5;\" width=\"66\" x=\"165\" y=\"84\"/><text fill=\"#000000\" font-family=\"sans-serif\" font-size=\"12\" font-style=\"italic\" lengthAdjust=\"spacingAndGlyphs\" textLength=\"64\" x=\"166\" y=\"100.1387\">«part def»</text><text fill=\"#000000\" font-family=\"sans-serif\" font-size=\"12\" lengthAdjust=\"spacingAndGlyphs\" textLength=\"8\" x=\"194\" y=\"114.1074\">A</text><line style=\"stroke: #383838; stroke-width: 1.5;\" x1=\"166\" x2=\"230\" y1=\"121.9375\" y2=\"121.9375\"/></a><!--MD5=[60a26617385b1d2d0262a64233df1f8d]\n",
       "class E6--><a href=\"psysml:febc5459-2ebe-4c36-9a31-624278ca958f\" target=\"_top\" title=\"psysml:febc5459-2ebe-4c36-9a31-624278ca958f\" xlink:actuate=\"onRequest\" xlink:href=\"psysml:febc5459-2ebe-4c36-9a31-624278ca958f\" xlink:show=\"new\" xlink:title=\"psysml:febc5459-2ebe-4c36-9a31-624278ca958f\" xlink:type=\"simple\"><rect fill=\"#FFFFFF\" height=\"45.9375\" id=\"E6\" rx=\"10\" ry=\"10\" style=\"stroke: #383838; stroke-width: 1.5;\" width=\"42\" x=\"59.5\" y=\"84\"/><text fill=\"#000000\" font-family=\"sans-serif\" font-size=\"12\" font-style=\"italic\" lengthAdjust=\"spacingAndGlyphs\" textLength=\"40\" x=\"60.5\" y=\"100.1387\">«part»</text><text fill=\"#000000\" font-family=\"sans-serif\" font-size=\"12\" lengthAdjust=\"spacingAndGlyphs\" textLength=\"22\" x=\"69.5\" y=\"114.1074\">x: A</text><line style=\"stroke: #383838; stroke-width: 1.5;\" x1=\"60.5\" x2=\"100.5\" y1=\"121.9375\" y2=\"121.9375\"/></a><a href=\"psysml:0289fe7d-3512-4b15-a612-d4f3c113c698\" target=\"_top\" title=\"psysml:0289fe7d-3512-4b15-a612-d4f3c113c698\" xlink:actuate=\"onRequest\" xlink:href=\"psysml:0289fe7d-3512-4b15-a612-d4f3c113c698\" xlink:show=\"new\" xlink:title=\"psysml:0289fe7d-3512-4b15-a612-d4f3c113c698\" xlink:type=\"simple\"><polygon fill=\"#FFFFFF\" points=\"56,165.5,91,165.5,98,187.7969,105,187.7969,105,218.0938,56,218.0938,56,165.5\" style=\"stroke: #000000; stroke-width: 1.5;\"/><line style=\"stroke: #000000; stroke-width: 1.5;\" x1=\"56\" x2=\"98\" y1=\"187.7969\" y2=\"187.7969\"/><text fill=\"#000000\" font-family=\"sans-serif\" font-size=\"14\" font-weight=\"bold\" lengthAdjust=\"spacingAndGlyphs\" textLength=\"29\" x=\"60\" y=\"180.4951\">P2a</text></a><!--MD5=[a717450b82c80b9240a525fa862496af]\n",
       "link E6 to E3--><a href=\"psysml:a41f4e21-5f48-4d30-b801-3db99d3a1abc\" target=\"_top\" title=\"psysml:a41f4e21-5f48-4d30-b801-3db99d3a1abc\" xlink:actuate=\"onRequest\" xlink:href=\"psysml:a41f4e21-5f48-4d30-b801-3db99d3a1abc\" xlink:show=\"new\" xlink:title=\"psysml:a41f4e21-5f48-4d30-b801-3db99d3a1abc\" xlink:type=\"simple\"><path d=\"M101.62,107 C113.62,107 129.45,107 144.76,107 \" fill=\"none\" id=\"E6-&gt;E3\" style=\"stroke: #383838; stroke-width: 1.0;\"/><polygon fill=\"#FFFFFF\" points=\"164.91,107,145.91,114,145.91,100,164.91,107\" style=\"stroke: #383838; stroke-width: 1.0;\"/><ellipse cx=\"140.21\" cy=\"112\" fill=\"#383838\" rx=\"2\" ry=\"2\" style=\"stroke: #383838; stroke-width: 1.0;\"/><ellipse cx=\"140.21\" cy=\"102\" fill=\"#383838\" rx=\"2\" ry=\"2\" style=\"stroke: #383838; stroke-width: 1.0;\"/></a><!--MD5=[e7d5865e3928a76cb0699f87328d884c]\n",
       "@startuml\r\n",
       "left to right direction\r\n",
       "skinparam monochrome true\r\n",
       "skinparam classbackgroundcolor white\r\n",
       "skinparam shadowing false\r\n",
       "skinparam wrapWidth 300\r\n",
       "hide circle\r\n",
       "\r\n",
       "package \"QualifiedNameImportTest\" as E1  [[psysml:69fab460-d5be-4945-91cf-3ca8c8123b68 ]]  {\r\n",
       "package \"P1\" as E2  [[psysml:a87ccb6a-ce8a-4667-9a31-41e6c6a1c677 ]]  {\r\n",
       "comp def \"A\" as E3  <<(T,blue)part def>> [[psysml:dead2420-b34a-43f7-a875-a2c685248268 ]] {\r\n",
       "}\r\n",
       "}\r\n",
       "package \"P2\" as E4  [[psysml:434a9cec-9a5b-4c30-bd61-ce4aa8eabf42 ]]  {\r\n",
       "package \"P2a\" as E5  [[psysml:0289fe7d-3512-4b15-a612-d4f3c113c698 ]]  {\r\n",
       "}\r\n",
       "comp usage \"x: A\" as E6  <<(T,blue)part>> [[psysml:febc5459-2ebe-4c36-9a31-624278ca958f ]] {\r\n",
       "}\r\n",
       "E6 - -:|> E3 [[psysml:a41f4e21-5f48-4d30-b801-3db99d3a1abc ]] \r\n",
       "}\r\n",
       "}\r\n",
       "@enduml\r\n",
       "\n",
       "PlantUML version 1.2020.13(Sat Jun 13 12:26:38 UTC 2020)\n",
       "(EPL source distribution)\n",
       "Java Runtime: OpenJDK Runtime Environment\n",
       "JVM: OpenJDK 64-Bit Server VM\n",
       "Default Encoding: UTF-8\n",
       "Language: en\n",
       "Country: null\n",
       "--></g></svg>"
      ]
     },
     "execution_count": 22,
     "metadata": {},
     "output_type": "execute_result"
    }
   ],
   "source": [
    "%viz --style=\"LR\" --view=\"MIXED\" \"QualifiedNameImportTest\""
   ]
  },
  {
   "cell_type": "code",
   "execution_count": 23,
   "id": "alive-foundation",
   "metadata": {
    "execution": {
     "iopub.execute_input": "2021-03-26T09:15:01.018215Z",
     "iopub.status.busy": "2021-03-26T09:15:01.017054Z",
     "iopub.status.idle": "2021-03-26T09:15:01.050076Z",
     "shell.execute_reply": "2021-03-26T09:15:01.049158Z"
    }
   },
   "outputs": [
    {
     "data": {
      "image/svg+xml": [
       "<?xml version=\"1.0\" encoding=\"UTF-8\" standalone=\"no\"?><svg xmlns=\"http://www.w3.org/2000/svg\" xmlns:xlink=\"http://www.w3.org/1999/xlink\" contentScriptType=\"application/ecmascript\" contentStyleType=\"text/css\" height=\"310px\" preserveAspectRatio=\"none\" style=\"width:253px;height:310px;\" version=\"1.1\" viewBox=\"0 0 253 310\" width=\"253px\" zoomAndPan=\"magnify\"><defs><filter height=\"300%\" id=\"fai85johyjrme\" width=\"300%\" x=\"-1\" y=\"-1\"><feGaussianBlur result=\"blurOut\" stdDeviation=\"2.0\"/><feColorMatrix in=\"blurOut\" result=\"blurOut2\" type=\"matrix\" values=\"0 0 0 0 0 0 0 0 0 0 0 0 0 0 0 0 0 0 .4 0\"/><feOffset dx=\"4.0\" dy=\"4.0\" in=\"blurOut2\" result=\"blurOut3\"/><feBlend in=\"SourceGraphic\" in2=\"blurOut3\" mode=\"normal\"/></filter></defs><g><!--MD5=[fbc87193dbaf4d95561dea2c320d4a47]\n",
       "cluster E1--><a href=\"psysml:69fab460-d5be-4945-91cf-3ca8c8123b68\" target=\"_top\" title=\"psysml:69fab460-d5be-4945-91cf-3ca8c8123b68\" xlink:actuate=\"onRequest\" xlink:href=\"psysml:69fab460-d5be-4945-91cf-3ca8c8123b68\" xlink:show=\"new\" xlink:title=\"psysml:69fab460-d5be-4945-91cf-3ca8c8123b68\" xlink:type=\"simple\"><polygon fill=\"#FFFFFF\" filter=\"url(#fai85johyjrme)\" points=\"16,6,221,6,228,28.2969,231,28.2969,231,298,16,298,16,6\" style=\"stroke: #000000; stroke-width: 1.5;\"/><line style=\"stroke: #000000; stroke-width: 1.5;\" x1=\"16\" x2=\"228\" y1=\"28.2969\" y2=\"28.2969\"/><text fill=\"#000000\" font-family=\"sans-serif\" font-size=\"14\" font-weight=\"bold\" lengthAdjust=\"spacingAndGlyphs\" textLength=\"199\" x=\"20\" y=\"20.9951\">QualifiedNameImportTest</text></a><!--MD5=[e4f7fae6ed58524ba242bb0b0d3be6b7]\n",
       "cluster E2--><a href=\"psysml:a87ccb6a-ce8a-4667-9a31-41e6c6a1c677\" target=\"_top\" title=\"psysml:a87ccb6a-ce8a-4667-9a31-41e6c6a1c677\" xlink:actuate=\"onRequest\" xlink:href=\"psysml:a87ccb6a-ce8a-4667-9a31-41e6c6a1c677\" xlink:show=\"new\" xlink:title=\"psysml:a87ccb6a-ce8a-4667-9a31-41e6c6a1c677\" xlink:type=\"simple\"><polygon fill=\"#FFFFFF\" filter=\"url(#fai85johyjrme)\" points=\"105,177,131,177,138,199.2969,203,199.2969,203,274,105,274,105,177\" style=\"stroke: #000000; stroke-width: 1.5;\"/><line style=\"stroke: #000000; stroke-width: 1.5;\" x1=\"105\" x2=\"138\" y1=\"199.2969\" y2=\"199.2969\"/><text fill=\"#000000\" font-family=\"sans-serif\" font-size=\"14\" font-weight=\"bold\" lengthAdjust=\"spacingAndGlyphs\" textLength=\"20\" x=\"109\" y=\"191.9951\">P1</text></a><!--MD5=[f6df4d0ebaf0b5dfb2ced0ae5af7c670]\n",
       "cluster E4--><a href=\"psysml:434a9cec-9a5b-4c30-bd61-ce4aa8eabf42\" target=\"_top\" title=\"psysml:434a9cec-9a5b-4c30-bd61-ce4aa8eabf42\" xlink:actuate=\"onRequest\" xlink:href=\"psysml:434a9cec-9a5b-4c30-bd61-ce4aa8eabf42\" xlink:show=\"new\" xlink:title=\"psysml:434a9cec-9a5b-4c30-bd61-ce4aa8eabf42\" xlink:type=\"simple\"><polygon fill=\"#FFFFFF\" filter=\"url(#fai85johyjrme)\" points=\"44,49,70,49,77,71.2969,203,71.2969,203,153,44,153,44,49\" style=\"stroke: #000000; stroke-width: 1.5;\"/><line style=\"stroke: #000000; stroke-width: 1.5;\" x1=\"44\" x2=\"77\" y1=\"71.2969\" y2=\"71.2969\"/><text fill=\"#000000\" font-family=\"sans-serif\" font-size=\"14\" font-weight=\"bold\" lengthAdjust=\"spacingAndGlyphs\" textLength=\"20\" x=\"48\" y=\"63.9951\">P2</text></a><!--MD5=[09b614a08d8cba4a07c9adeb5e0fee81]\n",
       "class E3--><a href=\"psysml:dead2420-b34a-43f7-a875-a2c685248268\" target=\"_top\" title=\"psysml:dead2420-b34a-43f7-a875-a2c685248268\" xlink:actuate=\"onRequest\" xlink:href=\"psysml:dead2420-b34a-43f7-a875-a2c685248268\" xlink:show=\"new\" xlink:title=\"psysml:dead2420-b34a-43f7-a875-a2c685248268\" xlink:type=\"simple\"><rect fill=\"#FEFECE\" filter=\"url(#fai85johyjrme)\" height=\"45.9375\" id=\"E3\" style=\"stroke: #A80036; stroke-width: 1.5;\" width=\"66\" x=\"121\" y=\"212\"/><text fill=\"#000000\" font-family=\"sans-serif\" font-size=\"12\" font-style=\"italic\" lengthAdjust=\"spacingAndGlyphs\" textLength=\"64\" x=\"122\" y=\"228.1387\">«part def»</text><text fill=\"#000000\" font-family=\"sans-serif\" font-size=\"12\" lengthAdjust=\"spacingAndGlyphs\" textLength=\"8\" x=\"150\" y=\"242.1074\">A</text><line style=\"stroke: #A80036; stroke-width: 1.5;\" x1=\"122\" x2=\"186\" y1=\"249.9375\" y2=\"249.9375\"/></a><!--MD5=[60a26617385b1d2d0262a64233df1f8d]\n",
       "class E6--><a href=\"psysml:febc5459-2ebe-4c36-9a31-624278ca958f\" target=\"_top\" title=\"psysml:febc5459-2ebe-4c36-9a31-624278ca958f\" xlink:actuate=\"onRequest\" xlink:href=\"psysml:febc5459-2ebe-4c36-9a31-624278ca958f\" xlink:show=\"new\" xlink:title=\"psysml:febc5459-2ebe-4c36-9a31-624278ca958f\" xlink:type=\"simple\"><rect fill=\"#FEFECE\" filter=\"url(#fai85johyjrme)\" height=\"45.9375\" id=\"E6\" rx=\"10\" ry=\"10\" style=\"stroke: #A80036; stroke-width: 1.5;\" width=\"42\" x=\"145\" y=\"87.5\"/><text fill=\"#000000\" font-family=\"sans-serif\" font-size=\"12\" font-style=\"italic\" lengthAdjust=\"spacingAndGlyphs\" textLength=\"40\" x=\"146\" y=\"103.6387\">«part»</text><text fill=\"#000000\" font-family=\"sans-serif\" font-size=\"12\" lengthAdjust=\"spacingAndGlyphs\" textLength=\"22\" x=\"155\" y=\"117.6074\">x: A</text><line style=\"stroke: #A80036; stroke-width: 1.5;\" x1=\"146\" x2=\"186\" y1=\"125.4375\" y2=\"125.4375\"/></a><a href=\"psysml:0289fe7d-3512-4b15-a612-d4f3c113c698\" target=\"_top\" title=\"psysml:0289fe7d-3512-4b15-a612-d4f3c113c698\" xlink:actuate=\"onRequest\" xlink:href=\"psysml:0289fe7d-3512-4b15-a612-d4f3c113c698\" xlink:show=\"new\" xlink:title=\"psysml:0289fe7d-3512-4b15-a612-d4f3c113c698\" xlink:type=\"simple\"><polygon fill=\"#FFFFFF\" filter=\"url(#fai85johyjrme)\" points=\"60.5,84,95.5,84,102.5,106.2969,109.5,106.2969,109.5,136.5938,60.5,136.5938,60.5,84\" style=\"stroke: #000000; stroke-width: 1.5;\"/><line style=\"stroke: #000000; stroke-width: 1.5;\" x1=\"60.5\" x2=\"102.5\" y1=\"106.2969\" y2=\"106.2969\"/><text fill=\"#000000\" font-family=\"sans-serif\" font-size=\"14\" font-weight=\"bold\" lengthAdjust=\"spacingAndGlyphs\" textLength=\"29\" x=\"64.5\" y=\"98.9951\">P2a</text></a><!--MD5=[a717450b82c80b9240a525fa862496af]\n",
       "link E6 to E3--><a href=\"psysml:a41f4e21-5f48-4d30-b801-3db99d3a1abc\" target=\"_top\" title=\"psysml:a41f4e21-5f48-4d30-b801-3db99d3a1abc\" xlink:actuate=\"onRequest\" xlink:href=\"psysml:a41f4e21-5f48-4d30-b801-3db99d3a1abc\" xlink:show=\"new\" xlink:title=\"psysml:a41f4e21-5f48-4d30-b801-3db99d3a1abc\" xlink:type=\"simple\"><path d=\"M163.83,133.68 C162.24,149.9 160.04,172.39 158.12,191.96 \" fill=\"none\" id=\"E6-&gt;E3\" style=\"stroke: #A80036; stroke-width: 1.0;\"/><polygon fill=\"#FFFFFF\" points=\"156.16,211.98,151.0533,192.3861,164.986,193.7564,156.16,211.98\" style=\"stroke: #A80036; stroke-width: 1.0;\"/><ellipse cx=\"153.6016\" cy=\"186.9092\" fill=\"#A80036\" rx=\"2\" ry=\"2\" style=\"stroke: #A80036; stroke-width: 1.0;\"/><ellipse cx=\"163.5535\" cy=\"187.888\" fill=\"#A80036\" rx=\"2\" ry=\"2\" style=\"stroke: #A80036; stroke-width: 1.0;\"/></a><!--MD5=[9750ae11788d2622683bb26e78db7d7d]\n",
       "@startuml\r\n",
       "skinparam wrapWidth 300\r\n",
       "hide circle\r\n",
       "\r\n",
       "package \"QualifiedNameImportTest\" as E1  [[psysml:69fab460-d5be-4945-91cf-3ca8c8123b68 ]]  {\r\n",
       "package \"P1\" as E2  [[psysml:a87ccb6a-ce8a-4667-9a31-41e6c6a1c677 ]]  {\r\n",
       "comp def \"A\" as E3  <<(T,blue)part def>> [[psysml:dead2420-b34a-43f7-a875-a2c685248268 ]] {\r\n",
       "}\r\n",
       "}\r\n",
       "package \"P2\" as E4  [[psysml:434a9cec-9a5b-4c30-bd61-ce4aa8eabf42 ]]  {\r\n",
       "package \"P2a\" as E5  [[psysml:0289fe7d-3512-4b15-a612-d4f3c113c698 ]]  {\r\n",
       "}\r\n",
       "comp usage \"x: A\" as E6  <<(T,blue)part>> [[psysml:febc5459-2ebe-4c36-9a31-624278ca958f ]] {\r\n",
       "}\r\n",
       "E6 - -:|> E3 [[psysml:a41f4e21-5f48-4d30-b801-3db99d3a1abc ]] \r\n",
       "}\r\n",
       "}\r\n",
       "@enduml\r\n",
       "\n",
       "PlantUML version 1.2020.13(Sat Jun 13 12:26:38 UTC 2020)\n",
       "(EPL source distribution)\n",
       "Java Runtime: OpenJDK Runtime Environment\n",
       "JVM: OpenJDK 64-Bit Server VM\n",
       "Default Encoding: UTF-8\n",
       "Language: en\n",
       "Country: null\n",
       "--></g></svg>"
      ]
     },
     "execution_count": 23,
     "metadata": {},
     "output_type": "execute_result"
    }
   ],
   "source": [
    "%viz --style=\"STDCOLOR\" --view=\"Default\" \"QualifiedNameImportTest\""
   ]
  },
  {
   "cell_type": "code",
   "execution_count": 24,
   "id": "italian-joseph",
   "metadata": {
    "execution": {
     "iopub.execute_input": "2021-03-26T09:15:01.102633Z",
     "iopub.status.busy": "2021-03-26T09:15:01.102171Z",
     "iopub.status.idle": "2021-03-26T09:15:01.142316Z",
     "shell.execute_reply": "2021-03-26T09:15:01.140959Z"
    }
   },
   "outputs": [
    {
     "data": {
      "image/svg+xml": [
       "<?xml version=\"1.0\" encoding=\"UTF-8\" standalone=\"no\"?><svg xmlns=\"http://www.w3.org/2000/svg\" xmlns:xlink=\"http://www.w3.org/1999/xlink\" contentScriptType=\"application/ecmascript\" contentStyleType=\"text/css\" height=\"310px\" preserveAspectRatio=\"none\" style=\"width:253px;height:310px;\" version=\"1.1\" viewBox=\"0 0 253 310\" width=\"253px\" zoomAndPan=\"magnify\"><defs><filter height=\"300%\" id=\"fai85johyjrme\" width=\"300%\" x=\"-1\" y=\"-1\"><feGaussianBlur result=\"blurOut\" stdDeviation=\"2.0\"/><feColorMatrix in=\"blurOut\" result=\"blurOut2\" type=\"matrix\" values=\"0 0 0 0 0 0 0 0 0 0 0 0 0 0 0 0 0 0 .4 0\"/><feOffset dx=\"4.0\" dy=\"4.0\" in=\"blurOut2\" result=\"blurOut3\"/><feBlend in=\"SourceGraphic\" in2=\"blurOut3\" mode=\"normal\"/></filter></defs><g><!--MD5=[fbc87193dbaf4d95561dea2c320d4a47]\n",
       "cluster E1--><a href=\"psysml:69fab460-d5be-4945-91cf-3ca8c8123b68\" target=\"_top\" title=\"psysml:69fab460-d5be-4945-91cf-3ca8c8123b68\" xlink:actuate=\"onRequest\" xlink:href=\"psysml:69fab460-d5be-4945-91cf-3ca8c8123b68\" xlink:show=\"new\" xlink:title=\"psysml:69fab460-d5be-4945-91cf-3ca8c8123b68\" xlink:type=\"simple\"><polygon fill=\"#FFFFFF\" filter=\"url(#fai85johyjrme)\" points=\"16,6,221,6,228,28.2969,231,28.2969,231,298,16,298,16,6\" style=\"stroke: #000000; stroke-width: 1.5;\"/><line style=\"stroke: #000000; stroke-width: 1.5;\" x1=\"16\" x2=\"228\" y1=\"28.2969\" y2=\"28.2969\"/><text fill=\"#000000\" font-family=\"sans-serif\" font-size=\"14\" font-weight=\"bold\" lengthAdjust=\"spacingAndGlyphs\" textLength=\"199\" x=\"20\" y=\"20.9951\">QualifiedNameImportTest</text></a><!--MD5=[e4f7fae6ed58524ba242bb0b0d3be6b7]\n",
       "cluster E2--><a href=\"psysml:a87ccb6a-ce8a-4667-9a31-41e6c6a1c677\" target=\"_top\" title=\"psysml:a87ccb6a-ce8a-4667-9a31-41e6c6a1c677\" xlink:actuate=\"onRequest\" xlink:href=\"psysml:a87ccb6a-ce8a-4667-9a31-41e6c6a1c677\" xlink:show=\"new\" xlink:title=\"psysml:a87ccb6a-ce8a-4667-9a31-41e6c6a1c677\" xlink:type=\"simple\"><polygon fill=\"#FFFFFF\" filter=\"url(#fai85johyjrme)\" points=\"105,177,131,177,138,199.2969,203,199.2969,203,274,105,274,105,177\" style=\"stroke: #000000; stroke-width: 1.5;\"/><line style=\"stroke: #000000; stroke-width: 1.5;\" x1=\"105\" x2=\"138\" y1=\"199.2969\" y2=\"199.2969\"/><text fill=\"#000000\" font-family=\"sans-serif\" font-size=\"14\" font-weight=\"bold\" lengthAdjust=\"spacingAndGlyphs\" textLength=\"20\" x=\"109\" y=\"191.9951\">P1</text></a><!--MD5=[f6df4d0ebaf0b5dfb2ced0ae5af7c670]\n",
       "cluster E4--><a href=\"psysml:434a9cec-9a5b-4c30-bd61-ce4aa8eabf42\" target=\"_top\" title=\"psysml:434a9cec-9a5b-4c30-bd61-ce4aa8eabf42\" xlink:actuate=\"onRequest\" xlink:href=\"psysml:434a9cec-9a5b-4c30-bd61-ce4aa8eabf42\" xlink:show=\"new\" xlink:title=\"psysml:434a9cec-9a5b-4c30-bd61-ce4aa8eabf42\" xlink:type=\"simple\"><polygon fill=\"#FFFFFF\" filter=\"url(#fai85johyjrme)\" points=\"44,49,70,49,77,71.2969,203,71.2969,203,153,44,153,44,49\" style=\"stroke: #000000; stroke-width: 1.5;\"/><line style=\"stroke: #000000; stroke-width: 1.5;\" x1=\"44\" x2=\"77\" y1=\"71.2969\" y2=\"71.2969\"/><text fill=\"#000000\" font-family=\"sans-serif\" font-size=\"14\" font-weight=\"bold\" lengthAdjust=\"spacingAndGlyphs\" textLength=\"20\" x=\"48\" y=\"63.9951\">P2</text></a><!--MD5=[09b614a08d8cba4a07c9adeb5e0fee81]\n",
       "class E3--><a href=\"psysml:dead2420-b34a-43f7-a875-a2c685248268\" target=\"_top\" title=\"psysml:dead2420-b34a-43f7-a875-a2c685248268\" xlink:actuate=\"onRequest\" xlink:href=\"psysml:dead2420-b34a-43f7-a875-a2c685248268\" xlink:show=\"new\" xlink:title=\"psysml:dead2420-b34a-43f7-a875-a2c685248268\" xlink:type=\"simple\"><rect fill=\"#FEFECE\" filter=\"url(#fai85johyjrme)\" height=\"45.9375\" id=\"E3\" style=\"stroke: #A80036; stroke-width: 1.5;\" width=\"66\" x=\"121\" y=\"212\"/><text fill=\"#000000\" font-family=\"sans-serif\" font-size=\"12\" font-style=\"italic\" lengthAdjust=\"spacingAndGlyphs\" textLength=\"64\" x=\"122\" y=\"228.1387\">«part def»</text><text fill=\"#000000\" font-family=\"sans-serif\" font-size=\"12\" lengthAdjust=\"spacingAndGlyphs\" textLength=\"8\" x=\"150\" y=\"242.1074\">A</text><line style=\"stroke: #A80036; stroke-width: 1.5;\" x1=\"122\" x2=\"186\" y1=\"249.9375\" y2=\"249.9375\"/></a><!--MD5=[60a26617385b1d2d0262a64233df1f8d]\n",
       "class E6--><a href=\"psysml:febc5459-2ebe-4c36-9a31-624278ca958f\" target=\"_top\" title=\"psysml:febc5459-2ebe-4c36-9a31-624278ca958f\" xlink:actuate=\"onRequest\" xlink:href=\"psysml:febc5459-2ebe-4c36-9a31-624278ca958f\" xlink:show=\"new\" xlink:title=\"psysml:febc5459-2ebe-4c36-9a31-624278ca958f\" xlink:type=\"simple\"><rect fill=\"#FEFECE\" filter=\"url(#fai85johyjrme)\" height=\"45.9375\" id=\"E6\" rx=\"10\" ry=\"10\" style=\"stroke: #A80036; stroke-width: 1.5;\" width=\"42\" x=\"145\" y=\"87.5\"/><text fill=\"#000000\" font-family=\"sans-serif\" font-size=\"12\" font-style=\"italic\" lengthAdjust=\"spacingAndGlyphs\" textLength=\"40\" x=\"146\" y=\"103.6387\">«part»</text><text fill=\"#000000\" font-family=\"sans-serif\" font-size=\"12\" lengthAdjust=\"spacingAndGlyphs\" textLength=\"22\" x=\"155\" y=\"117.6074\">x: A</text><line style=\"stroke: #A80036; stroke-width: 1.5;\" x1=\"146\" x2=\"186\" y1=\"125.4375\" y2=\"125.4375\"/></a><a href=\"psysml:0289fe7d-3512-4b15-a612-d4f3c113c698\" target=\"_top\" title=\"psysml:0289fe7d-3512-4b15-a612-d4f3c113c698\" xlink:actuate=\"onRequest\" xlink:href=\"psysml:0289fe7d-3512-4b15-a612-d4f3c113c698\" xlink:show=\"new\" xlink:title=\"psysml:0289fe7d-3512-4b15-a612-d4f3c113c698\" xlink:type=\"simple\"><polygon fill=\"#FFFFFF\" filter=\"url(#fai85johyjrme)\" points=\"60.5,84,95.5,84,102.5,106.2969,109.5,106.2969,109.5,136.5938,60.5,136.5938,60.5,84\" style=\"stroke: #000000; stroke-width: 1.5;\"/><line style=\"stroke: #000000; stroke-width: 1.5;\" x1=\"60.5\" x2=\"102.5\" y1=\"106.2969\" y2=\"106.2969\"/><text fill=\"#000000\" font-family=\"sans-serif\" font-size=\"14\" font-weight=\"bold\" lengthAdjust=\"spacingAndGlyphs\" textLength=\"29\" x=\"64.5\" y=\"98.9951\">P2a</text></a><!--MD5=[a717450b82c80b9240a525fa862496af]\n",
       "link E6 to E3--><a href=\"psysml:a41f4e21-5f48-4d30-b801-3db99d3a1abc\" target=\"_top\" title=\"psysml:a41f4e21-5f48-4d30-b801-3db99d3a1abc\" xlink:actuate=\"onRequest\" xlink:href=\"psysml:a41f4e21-5f48-4d30-b801-3db99d3a1abc\" xlink:show=\"new\" xlink:title=\"psysml:a41f4e21-5f48-4d30-b801-3db99d3a1abc\" xlink:type=\"simple\"><path d=\"M163.83,133.68 C162.24,149.9 160.04,172.39 158.12,191.96 \" fill=\"none\" id=\"E6-&gt;E3\" style=\"stroke: #A80036; stroke-width: 1.0;\"/><polygon fill=\"#FFFFFF\" points=\"156.16,211.98,151.0533,192.3861,164.986,193.7564,156.16,211.98\" style=\"stroke: #A80036; stroke-width: 1.0;\"/><ellipse cx=\"153.6016\" cy=\"186.9092\" fill=\"#A80036\" rx=\"2\" ry=\"2\" style=\"stroke: #A80036; stroke-width: 1.0;\"/><ellipse cx=\"163.5535\" cy=\"187.888\" fill=\"#A80036\" rx=\"2\" ry=\"2\" style=\"stroke: #A80036; stroke-width: 1.0;\"/></a><!--MD5=[9750ae11788d2622683bb26e78db7d7d]\n",
       "@startuml\r\n",
       "skinparam wrapWidth 300\r\n",
       "hide circle\r\n",
       "\r\n",
       "package \"QualifiedNameImportTest\" as E1  [[psysml:69fab460-d5be-4945-91cf-3ca8c8123b68 ]]  {\r\n",
       "package \"P1\" as E2  [[psysml:a87ccb6a-ce8a-4667-9a31-41e6c6a1c677 ]]  {\r\n",
       "comp def \"A\" as E3  <<(T,blue)part def>> [[psysml:dead2420-b34a-43f7-a875-a2c685248268 ]] {\r\n",
       "}\r\n",
       "}\r\n",
       "package \"P2\" as E4  [[psysml:434a9cec-9a5b-4c30-bd61-ce4aa8eabf42 ]]  {\r\n",
       "package \"P2a\" as E5  [[psysml:0289fe7d-3512-4b15-a612-d4f3c113c698 ]]  {\r\n",
       "}\r\n",
       "comp usage \"x: A\" as E6  <<(T,blue)part>> [[psysml:febc5459-2ebe-4c36-9a31-624278ca958f ]] {\r\n",
       "}\r\n",
       "E6 - -:|> E3 [[psysml:a41f4e21-5f48-4d30-b801-3db99d3a1abc ]] \r\n",
       "}\r\n",
       "}\r\n",
       "@enduml\r\n",
       "\n",
       "PlantUML version 1.2020.13(Sat Jun 13 12:26:38 UTC 2020)\n",
       "(EPL source distribution)\n",
       "Java Runtime: OpenJDK Runtime Environment\n",
       "JVM: OpenJDK 64-Bit Server VM\n",
       "Default Encoding: UTF-8\n",
       "Language: en\n",
       "Country: null\n",
       "--></g></svg>"
      ]
     },
     "execution_count": 24,
     "metadata": {},
     "output_type": "execute_result"
    }
   ],
   "source": [
    "%viz --style=\"STDCOLOR\" --view=\"Tree\" \"QualifiedNameImportTest\""
   ]
  },
  {
   "cell_type": "code",
   "execution_count": 25,
   "id": "formed-interference",
   "metadata": {
    "execution": {
     "iopub.execute_input": "2021-03-26T09:15:01.192336Z",
     "iopub.status.busy": "2021-03-26T09:15:01.191884Z",
     "iopub.status.idle": "2021-03-26T09:15:01.196868Z",
     "shell.execute_reply": "2021-03-26T09:15:01.197563Z"
    }
   },
   "outputs": [
    {
     "data": {
      "image/svg+xml": [
       "<?xml version=\"1.0\" encoding=\"UTF-8\" standalone=\"no\"?><svg xmlns=\"http://www.w3.org/2000/svg\" xmlns:xlink=\"http://www.w3.org/1999/xlink\" contentScriptType=\"application/ecmascript\" contentStyleType=\"text/css\" height=\"12px\" preserveAspectRatio=\"none\" style=\"width:12px;height:12px;\" version=\"1.1\" viewBox=\"0 0 12 12\" width=\"12px\" zoomAndPan=\"magnify\"><defs/><g><!--MD5=[aeeef50f102b80d730deb6443d14f702]\n",
       "@startuml\r\n",
       "skinparam wrapWidth 300\r\n",
       "hide circle\r\n",
       "\r\n",
       "@enduml\r\n",
       "\n",
       "PlantUML version 1.2020.13(Sat Jun 13 12:26:38 UTC 2020)\n",
       "(EPL source distribution)\n",
       "Java Runtime: OpenJDK Runtime Environment\n",
       "JVM: OpenJDK 64-Bit Server VM\n",
       "Default Encoding: UTF-8\n",
       "Language: en\n",
       "Country: null\n",
       "--></g></svg>"
      ]
     },
     "execution_count": 25,
     "metadata": {},
     "output_type": "execute_result"
    }
   ],
   "source": [
    "%viz --style=\"STDCOLOR\" --view=\"State\" \"QualifiedNameImportTest\""
   ]
  },
  {
   "cell_type": "code",
   "execution_count": 26,
   "id": "earlier-vietnam",
   "metadata": {
    "execution": {
     "iopub.execute_input": "2021-03-26T09:15:01.247948Z",
     "iopub.status.busy": "2021-03-26T09:15:01.247517Z",
     "iopub.status.idle": "2021-03-26T09:15:01.274003Z",
     "shell.execute_reply": "2021-03-26T09:15:01.272739Z"
    }
   },
   "outputs": [
    {
     "data": {
      "image/svg+xml": [
       "<?xml version=\"1.0\" encoding=\"UTF-8\" standalone=\"no\"?><svg xmlns=\"http://www.w3.org/2000/svg\" xmlns:xlink=\"http://www.w3.org/1999/xlink\" contentScriptType=\"application/ecmascript\" contentStyleType=\"text/css\" height=\"189px\" preserveAspectRatio=\"none\" style=\"width:381px;height:189px;\" version=\"1.1\" viewBox=\"0 0 381 189\" width=\"381px\" zoomAndPan=\"magnify\"><defs><filter height=\"300%\" id=\"f1j69gsmlmp5wt\" width=\"300%\" x=\"-1\" y=\"-1\"><feGaussianBlur result=\"blurOut\" stdDeviation=\"2.0\"/><feColorMatrix in=\"blurOut\" result=\"blurOut2\" type=\"matrix\" values=\"0 0 0 0 0 0 0 0 0 0 0 0 0 0 0 0 0 0 .4 0\"/><feOffset dx=\"4.0\" dy=\"4.0\" in=\"blurOut2\" result=\"blurOut3\"/><feBlend in=\"SourceGraphic\" in2=\"blurOut3\" mode=\"normal\"/></filter></defs><g><!--MD5=[fbc87193dbaf4d95561dea2c320d4a47]\n",
       "cluster E1--><a href=\"psysml:69fab460-d5be-4945-91cf-3ca8c8123b68\" target=\"_top\" title=\"psysml:69fab460-d5be-4945-91cf-3ca8c8123b68\" xlink:actuate=\"onRequest\" xlink:href=\"psysml:69fab460-d5be-4945-91cf-3ca8c8123b68\" xlink:show=\"new\" xlink:title=\"psysml:69fab460-d5be-4945-91cf-3ca8c8123b68\" xlink:type=\"simple\"><polygon fill=\"#FFFFFF\" filter=\"url(#f1j69gsmlmp5wt)\" points=\"16,6,221,6,228,28.2969,359,28.2969,359,177,16,177,16,6\" style=\"stroke: #000000; stroke-width: 1.5;\"/><line style=\"stroke: #000000; stroke-width: 1.5;\" x1=\"16\" x2=\"228\" y1=\"28.2969\" y2=\"28.2969\"/><text fill=\"#000000\" font-family=\"sans-serif\" font-size=\"14\" font-weight=\"bold\" lengthAdjust=\"spacingAndGlyphs\" textLength=\"199\" x=\"20\" y=\"20.9951\">QualifiedNameImportTest</text></a><!--MD5=[e4f7fae6ed58524ba242bb0b0d3be6b7]\n",
       "cluster E2--><a href=\"psysml:a87ccb6a-ce8a-4667-9a31-41e6c6a1c677\" target=\"_top\" title=\"psysml:a87ccb6a-ce8a-4667-9a31-41e6c6a1c677\" xlink:actuate=\"onRequest\" xlink:href=\"psysml:a87ccb6a-ce8a-4667-9a31-41e6c6a1c677\" xlink:show=\"new\" xlink:title=\"psysml:a87ccb6a-ce8a-4667-9a31-41e6c6a1c677\" xlink:type=\"simple\"><polygon fill=\"#FFFFFF\" filter=\"url(#f1j69gsmlmp5wt)\" points=\"231,54,257,54,264,76.2969,335,76.2969,335,148,231,148,231,54\" style=\"stroke: #000000; stroke-width: 1.5;\"/><line style=\"stroke: #000000; stroke-width: 1.5;\" x1=\"231\" x2=\"264\" y1=\"76.2969\" y2=\"76.2969\"/><text fill=\"#000000\" font-family=\"sans-serif\" font-size=\"14\" font-weight=\"bold\" lengthAdjust=\"spacingAndGlyphs\" textLength=\"20\" x=\"235\" y=\"68.9951\">P1</text></a><!--MD5=[f6df4d0ebaf0b5dfb2ced0ae5af7c670]\n",
       "cluster E4--><a href=\"psysml:434a9cec-9a5b-4c30-bd61-ce4aa8eabf42\" target=\"_top\" title=\"psysml:434a9cec-9a5b-4c30-bd61-ce4aa8eabf42\" xlink:actuate=\"onRequest\" xlink:href=\"psysml:434a9cec-9a5b-4c30-bd61-ce4aa8eabf42\" xlink:show=\"new\" xlink:title=\"psysml:434a9cec-9a5b-4c30-bd61-ce4aa8eabf42\" xlink:type=\"simple\"><polygon fill=\"#FFFFFF\" filter=\"url(#f1j69gsmlmp5wt)\" points=\"40,49,66,49,73,71.2969,207,71.2969,207,153,40,153,40,49\" style=\"stroke: #000000; stroke-width: 1.5;\"/><line style=\"stroke: #000000; stroke-width: 1.5;\" x1=\"40\" x2=\"73\" y1=\"71.2969\" y2=\"71.2969\"/><text fill=\"#000000\" font-family=\"sans-serif\" font-size=\"14\" font-weight=\"bold\" lengthAdjust=\"spacingAndGlyphs\" textLength=\"20\" x=\"44\" y=\"63.9951\">P2</text></a><g id=\"E1.E2.E3\"><a href=\"psysml:dead2420-b34a-43f7-a875-a2c685248268\" target=\"_top\" title=\"psysml:dead2420-b34a-43f7-a875-a2c685248268\" xlink:actuate=\"onRequest\" xlink:href=\"psysml:dead2420-b34a-43f7-a875-a2c685248268\" xlink:show=\"new\" xlink:title=\"psysml:dead2420-b34a-43f7-a875-a2c685248268\" xlink:type=\"simple\"><rect fill=\"#FEFECE\" filter=\"url(#f1j69gsmlmp5wt)\" height=\"42.9375\" id=\"E3\" style=\"stroke: #A80036; stroke-width: 1.5;\" width=\"71\" x=\"247.5\" y=\"89\"/><text fill=\"#000000\" font-family=\"sans-serif\" font-size=\"12\" font-style=\"italic\" lengthAdjust=\"spacingAndGlyphs\" textLength=\"64\" x=\"251\" y=\"105.1387\">«part def»</text><text fill=\"#000000\" font-family=\"sans-serif\" font-size=\"12\" lengthAdjust=\"spacingAndGlyphs\" textLength=\"8\" x=\"279\" y=\"119.1074\">A</text></a></g><a href=\"psysml:0289fe7d-3512-4b15-a612-d4f3c113c698\" target=\"_top\" title=\"psysml:0289fe7d-3512-4b15-a612-d4f3c113c698\" xlink:actuate=\"onRequest\" xlink:href=\"psysml:0289fe7d-3512-4b15-a612-d4f3c113c698\" xlink:show=\"new\" xlink:title=\"psysml:0289fe7d-3512-4b15-a612-d4f3c113c698\" xlink:type=\"simple\"><polygon fill=\"#FFFFFF\" filter=\"url(#f1j69gsmlmp5wt)\" points=\"141.5,84,176.5,84,183.5,106.2969,190.5,106.2969,190.5,136.5938,141.5,136.5938,141.5,84\" style=\"stroke: #000000; stroke-width: 1.5;\"/><line style=\"stroke: #000000; stroke-width: 1.5;\" x1=\"141.5\" x2=\"183.5\" y1=\"106.2969\" y2=\"106.2969\"/><text fill=\"#000000\" font-family=\"sans-serif\" font-size=\"14\" font-weight=\"bold\" lengthAdjust=\"spacingAndGlyphs\" textLength=\"29\" x=\"145.5\" y=\"98.9951\">P2a</text></a><g id=\"E1.E4.E6\"><a href=\"psysml:febc5459-2ebe-4c36-9a31-624278ca958f\" target=\"_top\" title=\"psysml:febc5459-2ebe-4c36-9a31-624278ca958f\" xlink:actuate=\"onRequest\" xlink:href=\"psysml:febc5459-2ebe-4c36-9a31-624278ca958f\" xlink:show=\"new\" xlink:title=\"psysml:febc5459-2ebe-4c36-9a31-624278ca958f\" xlink:type=\"simple\"><rect fill=\"#FEFECE\" filter=\"url(#f1j69gsmlmp5wt)\" height=\"40\" id=\"E6\" rx=\"10\" ry=\"10\" style=\"stroke: #A80036; stroke-width: 1.5;\" width=\"50\" x=\"56\" y=\"90.5\"/><text fill=\"#000000\" font-family=\"sans-serif\" font-size=\"12\" lengthAdjust=\"spacingAndGlyphs\" textLength=\"22\" x=\"70\" y=\"106.6387\">x: A</text></a></g><!--MD5=[909deaaa0e0fc65fc131bd1d0b7daa8b]\n",
       "@startuml\r\n",
       "skinparam ranksep 8\r\n",
       "skinparam rectangle {\r\n",
       " backgroundColor<<block>> LightGreen\r\n",
       "}\r\n",
       "skinparam wrapWidth 300\r\n",
       "hide circle\r\n",
       "\r\n",
       "package \"QualifiedNameImportTest\" as E1  [[psysml:69fab460-d5be-4945-91cf-3ca8c8123b68 ]]  {\r\n",
       "package \"P1\" as E2  [[psysml:a87ccb6a-ce8a-4667-9a31-41e6c6a1c677 ]]  {\r\n",
       "rec def \"A\" as E3  <<(T,blue)part def>> [[psysml:dead2420-b34a-43f7-a875-a2c685248268 ]] {\r\n",
       "}\r\n",
       "}\r\n",
       "package \"P2\" as E4  [[psysml:434a9cec-9a5b-4c30-bd61-ce4aa8eabf42 ]]  {\r\n",
       "package \"P2a\" as E5  [[psysml:0289fe7d-3512-4b15-a612-d4f3c113c698 ]]  {\r\n",
       "}\r\n",
       "rec usage \"x: A\" as E6  [[psysml:febc5459-2ebe-4c36-9a31-624278ca958f ]] {\r\n",
       "}\r\n",
       "}\r\n",
       "}\r\n",
       "@enduml\r\n",
       "\n",
       "PlantUML version 1.2020.13(Sat Jun 13 12:26:38 UTC 2020)\n",
       "(EPL source distribution)\n",
       "Java Runtime: OpenJDK Runtime Environment\n",
       "JVM: OpenJDK 64-Bit Server VM\n",
       "Default Encoding: UTF-8\n",
       "Language: en\n",
       "Country: null\n",
       "--></g></svg>"
      ]
     },
     "execution_count": 26,
     "metadata": {},
     "output_type": "execute_result"
    }
   ],
   "source": [
    "%viz --style=\"STDCOLOR\" --view=\"Interconnection\" \"QualifiedNameImportTest\""
   ]
  },
  {
   "cell_type": "code",
   "execution_count": 27,
   "id": "dress-lightweight",
   "metadata": {
    "execution": {
     "iopub.execute_input": "2021-03-26T09:15:01.324460Z",
     "iopub.status.busy": "2021-03-26T09:15:01.324083Z",
     "iopub.status.idle": "2021-03-26T09:15:01.328036Z",
     "shell.execute_reply": "2021-03-26T09:15:01.328390Z"
    }
   },
   "outputs": [
    {
     "data": {
      "image/svg+xml": [
       "<?xml version=\"1.0\" encoding=\"UTF-8\" standalone=\"no\"?><svg xmlns=\"http://www.w3.org/2000/svg\" xmlns:xlink=\"http://www.w3.org/1999/xlink\" contentScriptType=\"application/ecmascript\" contentStyleType=\"text/css\" height=\"12px\" preserveAspectRatio=\"none\" style=\"width:12px;height:12px;\" version=\"1.1\" viewBox=\"0 0 12 12\" width=\"12px\" zoomAndPan=\"magnify\"><defs/><g><!--MD5=[9863325348a96a77dacc89509d8ee65e]\n",
       "@startuml\r\n",
       "skinparam ranksep 8\r\n",
       "skinparam wrapWidth 300\r\n",
       "hide circle\r\n",
       "\r\n",
       "@enduml\r\n",
       "\n",
       "PlantUML version 1.2020.13(Sat Jun 13 12:26:38 UTC 2020)\n",
       "(EPL source distribution)\n",
       "Java Runtime: OpenJDK Runtime Environment\n",
       "JVM: OpenJDK 64-Bit Server VM\n",
       "Default Encoding: UTF-8\n",
       "Language: en\n",
       "Country: null\n",
       "--></g></svg>"
      ]
     },
     "execution_count": 27,
     "metadata": {},
     "output_type": "execute_result"
    }
   ],
   "source": [
    "%viz --style=\"STDCOLOR\" --view=\"Action\" \"QualifiedNameImportTest\""
   ]
  },
  {
   "cell_type": "code",
   "execution_count": 28,
   "id": "outdoor-sodium",
   "metadata": {
    "execution": {
     "iopub.execute_input": "2021-03-26T09:15:01.381392Z",
     "iopub.status.busy": "2021-03-26T09:15:01.380368Z",
     "iopub.status.idle": "2021-03-26T09:15:01.408287Z",
     "shell.execute_reply": "2021-03-26T09:15:01.406870Z"
    }
   },
   "outputs": [
    {
     "data": {
      "image/svg+xml": [
       "<?xml version=\"1.0\" encoding=\"UTF-8\" standalone=\"no\"?><svg xmlns=\"http://www.w3.org/2000/svg\" xmlns:xlink=\"http://www.w3.org/1999/xlink\" contentScriptType=\"application/ecmascript\" contentStyleType=\"text/css\" height=\"310px\" preserveAspectRatio=\"none\" style=\"width:253px;height:310px;\" version=\"1.1\" viewBox=\"0 0 253 310\" width=\"253px\" zoomAndPan=\"magnify\"><defs><filter height=\"300%\" id=\"fai85johyjrme\" width=\"300%\" x=\"-1\" y=\"-1\"><feGaussianBlur result=\"blurOut\" stdDeviation=\"2.0\"/><feColorMatrix in=\"blurOut\" result=\"blurOut2\" type=\"matrix\" values=\"0 0 0 0 0 0 0 0 0 0 0 0 0 0 0 0 0 0 .4 0\"/><feOffset dx=\"4.0\" dy=\"4.0\" in=\"blurOut2\" result=\"blurOut3\"/><feBlend in=\"SourceGraphic\" in2=\"blurOut3\" mode=\"normal\"/></filter></defs><g><!--MD5=[fbc87193dbaf4d95561dea2c320d4a47]\n",
       "cluster E1--><a href=\"psysml:69fab460-d5be-4945-91cf-3ca8c8123b68\" target=\"_top\" title=\"psysml:69fab460-d5be-4945-91cf-3ca8c8123b68\" xlink:actuate=\"onRequest\" xlink:href=\"psysml:69fab460-d5be-4945-91cf-3ca8c8123b68\" xlink:show=\"new\" xlink:title=\"psysml:69fab460-d5be-4945-91cf-3ca8c8123b68\" xlink:type=\"simple\"><polygon fill=\"#FFFFFF\" filter=\"url(#fai85johyjrme)\" points=\"16,6,221,6,228,28.2969,231,28.2969,231,298,16,298,16,6\" style=\"stroke: #000000; stroke-width: 1.5;\"/><line style=\"stroke: #000000; stroke-width: 1.5;\" x1=\"16\" x2=\"228\" y1=\"28.2969\" y2=\"28.2969\"/><text fill=\"#000000\" font-family=\"sans-serif\" font-size=\"14\" font-weight=\"bold\" lengthAdjust=\"spacingAndGlyphs\" textLength=\"199\" x=\"20\" y=\"20.9951\">QualifiedNameImportTest</text></a><!--MD5=[e4f7fae6ed58524ba242bb0b0d3be6b7]\n",
       "cluster E2--><a href=\"psysml:a87ccb6a-ce8a-4667-9a31-41e6c6a1c677\" target=\"_top\" title=\"psysml:a87ccb6a-ce8a-4667-9a31-41e6c6a1c677\" xlink:actuate=\"onRequest\" xlink:href=\"psysml:a87ccb6a-ce8a-4667-9a31-41e6c6a1c677\" xlink:show=\"new\" xlink:title=\"psysml:a87ccb6a-ce8a-4667-9a31-41e6c6a1c677\" xlink:type=\"simple\"><polygon fill=\"#FFFFFF\" filter=\"url(#fai85johyjrme)\" points=\"105,177,131,177,138,199.2969,203,199.2969,203,274,105,274,105,177\" style=\"stroke: #000000; stroke-width: 1.5;\"/><line style=\"stroke: #000000; stroke-width: 1.5;\" x1=\"105\" x2=\"138\" y1=\"199.2969\" y2=\"199.2969\"/><text fill=\"#000000\" font-family=\"sans-serif\" font-size=\"14\" font-weight=\"bold\" lengthAdjust=\"spacingAndGlyphs\" textLength=\"20\" x=\"109\" y=\"191.9951\">P1</text></a><!--MD5=[f6df4d0ebaf0b5dfb2ced0ae5af7c670]\n",
       "cluster E4--><a href=\"psysml:434a9cec-9a5b-4c30-bd61-ce4aa8eabf42\" target=\"_top\" title=\"psysml:434a9cec-9a5b-4c30-bd61-ce4aa8eabf42\" xlink:actuate=\"onRequest\" xlink:href=\"psysml:434a9cec-9a5b-4c30-bd61-ce4aa8eabf42\" xlink:show=\"new\" xlink:title=\"psysml:434a9cec-9a5b-4c30-bd61-ce4aa8eabf42\" xlink:type=\"simple\"><polygon fill=\"#FFFFFF\" filter=\"url(#fai85johyjrme)\" points=\"44,49,70,49,77,71.2969,203,71.2969,203,153,44,153,44,49\" style=\"stroke: #000000; stroke-width: 1.5;\"/><line style=\"stroke: #000000; stroke-width: 1.5;\" x1=\"44\" x2=\"77\" y1=\"71.2969\" y2=\"71.2969\"/><text fill=\"#000000\" font-family=\"sans-serif\" font-size=\"14\" font-weight=\"bold\" lengthAdjust=\"spacingAndGlyphs\" textLength=\"20\" x=\"48\" y=\"63.9951\">P2</text></a><!--MD5=[09b614a08d8cba4a07c9adeb5e0fee81]\n",
       "class E3--><a href=\"psysml:dead2420-b34a-43f7-a875-a2c685248268\" target=\"_top\" title=\"psysml:dead2420-b34a-43f7-a875-a2c685248268\" xlink:actuate=\"onRequest\" xlink:href=\"psysml:dead2420-b34a-43f7-a875-a2c685248268\" xlink:show=\"new\" xlink:title=\"psysml:dead2420-b34a-43f7-a875-a2c685248268\" xlink:type=\"simple\"><rect fill=\"#FEFECE\" filter=\"url(#fai85johyjrme)\" height=\"45.9375\" id=\"E3\" style=\"stroke: #A80036; stroke-width: 1.5;\" width=\"66\" x=\"121\" y=\"212\"/><text fill=\"#000000\" font-family=\"sans-serif\" font-size=\"12\" font-style=\"italic\" lengthAdjust=\"spacingAndGlyphs\" textLength=\"64\" x=\"122\" y=\"228.1387\">«part def»</text><text fill=\"#000000\" font-family=\"sans-serif\" font-size=\"12\" lengthAdjust=\"spacingAndGlyphs\" textLength=\"8\" x=\"150\" y=\"242.1074\">A</text><line style=\"stroke: #A80036; stroke-width: 1.5;\" x1=\"122\" x2=\"186\" y1=\"249.9375\" y2=\"249.9375\"/></a><!--MD5=[60a26617385b1d2d0262a64233df1f8d]\n",
       "class E6--><a href=\"psysml:febc5459-2ebe-4c36-9a31-624278ca958f\" target=\"_top\" title=\"psysml:febc5459-2ebe-4c36-9a31-624278ca958f\" xlink:actuate=\"onRequest\" xlink:href=\"psysml:febc5459-2ebe-4c36-9a31-624278ca958f\" xlink:show=\"new\" xlink:title=\"psysml:febc5459-2ebe-4c36-9a31-624278ca958f\" xlink:type=\"simple\"><rect fill=\"#FEFECE\" filter=\"url(#fai85johyjrme)\" height=\"45.9375\" id=\"E6\" rx=\"10\" ry=\"10\" style=\"stroke: #A80036; stroke-width: 1.5;\" width=\"42\" x=\"145\" y=\"87.5\"/><text fill=\"#000000\" font-family=\"sans-serif\" font-size=\"12\" font-style=\"italic\" lengthAdjust=\"spacingAndGlyphs\" textLength=\"40\" x=\"146\" y=\"103.6387\">«part»</text><text fill=\"#000000\" font-family=\"sans-serif\" font-size=\"12\" lengthAdjust=\"spacingAndGlyphs\" textLength=\"22\" x=\"155\" y=\"117.6074\">x: A</text><line style=\"stroke: #A80036; stroke-width: 1.5;\" x1=\"146\" x2=\"186\" y1=\"125.4375\" y2=\"125.4375\"/></a><a href=\"psysml:0289fe7d-3512-4b15-a612-d4f3c113c698\" target=\"_top\" title=\"psysml:0289fe7d-3512-4b15-a612-d4f3c113c698\" xlink:actuate=\"onRequest\" xlink:href=\"psysml:0289fe7d-3512-4b15-a612-d4f3c113c698\" xlink:show=\"new\" xlink:title=\"psysml:0289fe7d-3512-4b15-a612-d4f3c113c698\" xlink:type=\"simple\"><polygon fill=\"#FFFFFF\" filter=\"url(#fai85johyjrme)\" points=\"60.5,84,95.5,84,102.5,106.2969,109.5,106.2969,109.5,136.5938,60.5,136.5938,60.5,84\" style=\"stroke: #000000; stroke-width: 1.5;\"/><line style=\"stroke: #000000; stroke-width: 1.5;\" x1=\"60.5\" x2=\"102.5\" y1=\"106.2969\" y2=\"106.2969\"/><text fill=\"#000000\" font-family=\"sans-serif\" font-size=\"14\" font-weight=\"bold\" lengthAdjust=\"spacingAndGlyphs\" textLength=\"29\" x=\"64.5\" y=\"98.9951\">P2a</text></a><!--MD5=[a717450b82c80b9240a525fa862496af]\n",
       "link E6 to E3--><a href=\"psysml:a41f4e21-5f48-4d30-b801-3db99d3a1abc\" target=\"_top\" title=\"psysml:a41f4e21-5f48-4d30-b801-3db99d3a1abc\" xlink:actuate=\"onRequest\" xlink:href=\"psysml:a41f4e21-5f48-4d30-b801-3db99d3a1abc\" xlink:show=\"new\" xlink:title=\"psysml:a41f4e21-5f48-4d30-b801-3db99d3a1abc\" xlink:type=\"simple\"><path d=\"M163.83,133.68 C162.24,149.9 160.04,172.39 158.12,191.96 \" fill=\"none\" id=\"E6-&gt;E3\" style=\"stroke: #A80036; stroke-width: 1.0;\"/><polygon fill=\"#FFFFFF\" points=\"156.16,211.98,151.0533,192.3861,164.986,193.7564,156.16,211.98\" style=\"stroke: #A80036; stroke-width: 1.0;\"/><ellipse cx=\"153.6016\" cy=\"186.9092\" fill=\"#A80036\" rx=\"2\" ry=\"2\" style=\"stroke: #A80036; stroke-width: 1.0;\"/><ellipse cx=\"163.5535\" cy=\"187.888\" fill=\"#A80036\" rx=\"2\" ry=\"2\" style=\"stroke: #A80036; stroke-width: 1.0;\"/></a><!--MD5=[9750ae11788d2622683bb26e78db7d7d]\n",
       "@startuml\r\n",
       "skinparam wrapWidth 300\r\n",
       "hide circle\r\n",
       "\r\n",
       "package \"QualifiedNameImportTest\" as E1  [[psysml:69fab460-d5be-4945-91cf-3ca8c8123b68 ]]  {\r\n",
       "package \"P1\" as E2  [[psysml:a87ccb6a-ce8a-4667-9a31-41e6c6a1c677 ]]  {\r\n",
       "comp def \"A\" as E3  <<(T,blue)part def>> [[psysml:dead2420-b34a-43f7-a875-a2c685248268 ]] {\r\n",
       "}\r\n",
       "}\r\n",
       "package \"P2\" as E4  [[psysml:434a9cec-9a5b-4c30-bd61-ce4aa8eabf42 ]]  {\r\n",
       "package \"P2a\" as E5  [[psysml:0289fe7d-3512-4b15-a612-d4f3c113c698 ]]  {\r\n",
       "}\r\n",
       "comp usage \"x: A\" as E6  <<(T,blue)part>> [[psysml:febc5459-2ebe-4c36-9a31-624278ca958f ]] {\r\n",
       "}\r\n",
       "E6 - -:|> E3 [[psysml:a41f4e21-5f48-4d30-b801-3db99d3a1abc ]] \r\n",
       "}\r\n",
       "}\r\n",
       "@enduml\r\n",
       "\n",
       "PlantUML version 1.2020.13(Sat Jun 13 12:26:38 UTC 2020)\n",
       "(EPL source distribution)\n",
       "Java Runtime: OpenJDK Runtime Environment\n",
       "JVM: OpenJDK 64-Bit Server VM\n",
       "Default Encoding: UTF-8\n",
       "Language: en\n",
       "Country: null\n",
       "--></g></svg>"
      ]
     },
     "execution_count": 28,
     "metadata": {},
     "output_type": "execute_result"
    }
   ],
   "source": [
    "%viz --style=\"STDCOLOR\" --view=\"Sequence\" \"QualifiedNameImportTest\""
   ]
  },
  {
   "cell_type": "code",
   "execution_count": 29,
   "id": "otherwise-scale",
   "metadata": {
    "execution": {
     "iopub.execute_input": "2021-03-26T09:15:01.458963Z",
     "iopub.status.busy": "2021-03-26T09:15:01.458401Z",
     "iopub.status.idle": "2021-03-26T09:15:01.484934Z",
     "shell.execute_reply": "2021-03-26T09:15:01.483649Z"
    }
   },
   "outputs": [
    {
     "data": {
      "image/svg+xml": [
       "<?xml version=\"1.0\" encoding=\"UTF-8\" standalone=\"no\"?><svg xmlns=\"http://www.w3.org/2000/svg\" xmlns:xlink=\"http://www.w3.org/1999/xlink\" contentScriptType=\"application/ecmascript\" contentStyleType=\"text/css\" height=\"310px\" preserveAspectRatio=\"none\" style=\"width:253px;height:310px;\" version=\"1.1\" viewBox=\"0 0 253 310\" width=\"253px\" zoomAndPan=\"magnify\"><defs><filter height=\"300%\" id=\"fai85johyjrme\" width=\"300%\" x=\"-1\" y=\"-1\"><feGaussianBlur result=\"blurOut\" stdDeviation=\"2.0\"/><feColorMatrix in=\"blurOut\" result=\"blurOut2\" type=\"matrix\" values=\"0 0 0 0 0 0 0 0 0 0 0 0 0 0 0 0 0 0 .4 0\"/><feOffset dx=\"4.0\" dy=\"4.0\" in=\"blurOut2\" result=\"blurOut3\"/><feBlend in=\"SourceGraphic\" in2=\"blurOut3\" mode=\"normal\"/></filter></defs><g><!--MD5=[fbc87193dbaf4d95561dea2c320d4a47]\n",
       "cluster E1--><a href=\"psysml:69fab460-d5be-4945-91cf-3ca8c8123b68\" target=\"_top\" title=\"psysml:69fab460-d5be-4945-91cf-3ca8c8123b68\" xlink:actuate=\"onRequest\" xlink:href=\"psysml:69fab460-d5be-4945-91cf-3ca8c8123b68\" xlink:show=\"new\" xlink:title=\"psysml:69fab460-d5be-4945-91cf-3ca8c8123b68\" xlink:type=\"simple\"><polygon fill=\"#FFFFFF\" filter=\"url(#fai85johyjrme)\" points=\"16,6,221,6,228,28.2969,231,28.2969,231,298,16,298,16,6\" style=\"stroke: #000000; stroke-width: 1.5;\"/><line style=\"stroke: #000000; stroke-width: 1.5;\" x1=\"16\" x2=\"228\" y1=\"28.2969\" y2=\"28.2969\"/><text fill=\"#000000\" font-family=\"sans-serif\" font-size=\"14\" font-weight=\"bold\" lengthAdjust=\"spacingAndGlyphs\" textLength=\"199\" x=\"20\" y=\"20.9951\">QualifiedNameImportTest</text></a><!--MD5=[e4f7fae6ed58524ba242bb0b0d3be6b7]\n",
       "cluster E2--><a href=\"psysml:a87ccb6a-ce8a-4667-9a31-41e6c6a1c677\" target=\"_top\" title=\"psysml:a87ccb6a-ce8a-4667-9a31-41e6c6a1c677\" xlink:actuate=\"onRequest\" xlink:href=\"psysml:a87ccb6a-ce8a-4667-9a31-41e6c6a1c677\" xlink:show=\"new\" xlink:title=\"psysml:a87ccb6a-ce8a-4667-9a31-41e6c6a1c677\" xlink:type=\"simple\"><polygon fill=\"#FFFFFF\" filter=\"url(#fai85johyjrme)\" points=\"105,177,131,177,138,199.2969,203,199.2969,203,274,105,274,105,177\" style=\"stroke: #000000; stroke-width: 1.5;\"/><line style=\"stroke: #000000; stroke-width: 1.5;\" x1=\"105\" x2=\"138\" y1=\"199.2969\" y2=\"199.2969\"/><text fill=\"#000000\" font-family=\"sans-serif\" font-size=\"14\" font-weight=\"bold\" lengthAdjust=\"spacingAndGlyphs\" textLength=\"20\" x=\"109\" y=\"191.9951\">P1</text></a><!--MD5=[f6df4d0ebaf0b5dfb2ced0ae5af7c670]\n",
       "cluster E4--><a href=\"psysml:434a9cec-9a5b-4c30-bd61-ce4aa8eabf42\" target=\"_top\" title=\"psysml:434a9cec-9a5b-4c30-bd61-ce4aa8eabf42\" xlink:actuate=\"onRequest\" xlink:href=\"psysml:434a9cec-9a5b-4c30-bd61-ce4aa8eabf42\" xlink:show=\"new\" xlink:title=\"psysml:434a9cec-9a5b-4c30-bd61-ce4aa8eabf42\" xlink:type=\"simple\"><polygon fill=\"#FFFFFF\" filter=\"url(#fai85johyjrme)\" points=\"44,49,70,49,77,71.2969,203,71.2969,203,153,44,153,44,49\" style=\"stroke: #000000; stroke-width: 1.5;\"/><line style=\"stroke: #000000; stroke-width: 1.5;\" x1=\"44\" x2=\"77\" y1=\"71.2969\" y2=\"71.2969\"/><text fill=\"#000000\" font-family=\"sans-serif\" font-size=\"14\" font-weight=\"bold\" lengthAdjust=\"spacingAndGlyphs\" textLength=\"20\" x=\"48\" y=\"63.9951\">P2</text></a><!--MD5=[09b614a08d8cba4a07c9adeb5e0fee81]\n",
       "class E3--><a href=\"psysml:dead2420-b34a-43f7-a875-a2c685248268\" target=\"_top\" title=\"psysml:dead2420-b34a-43f7-a875-a2c685248268\" xlink:actuate=\"onRequest\" xlink:href=\"psysml:dead2420-b34a-43f7-a875-a2c685248268\" xlink:show=\"new\" xlink:title=\"psysml:dead2420-b34a-43f7-a875-a2c685248268\" xlink:type=\"simple\"><rect fill=\"#FEFECE\" filter=\"url(#fai85johyjrme)\" height=\"45.9375\" id=\"E3\" style=\"stroke: #A80036; stroke-width: 1.5;\" width=\"66\" x=\"121\" y=\"212\"/><text fill=\"#000000\" font-family=\"sans-serif\" font-size=\"12\" font-style=\"italic\" lengthAdjust=\"spacingAndGlyphs\" textLength=\"64\" x=\"122\" y=\"228.1387\">«part def»</text><text fill=\"#000000\" font-family=\"sans-serif\" font-size=\"12\" lengthAdjust=\"spacingAndGlyphs\" textLength=\"8\" x=\"150\" y=\"242.1074\">A</text><line style=\"stroke: #A80036; stroke-width: 1.5;\" x1=\"122\" x2=\"186\" y1=\"249.9375\" y2=\"249.9375\"/></a><!--MD5=[60a26617385b1d2d0262a64233df1f8d]\n",
       "class E6--><a href=\"psysml:febc5459-2ebe-4c36-9a31-624278ca958f\" target=\"_top\" title=\"psysml:febc5459-2ebe-4c36-9a31-624278ca958f\" xlink:actuate=\"onRequest\" xlink:href=\"psysml:febc5459-2ebe-4c36-9a31-624278ca958f\" xlink:show=\"new\" xlink:title=\"psysml:febc5459-2ebe-4c36-9a31-624278ca958f\" xlink:type=\"simple\"><rect fill=\"#FEFECE\" filter=\"url(#fai85johyjrme)\" height=\"45.9375\" id=\"E6\" rx=\"10\" ry=\"10\" style=\"stroke: #A80036; stroke-width: 1.5;\" width=\"42\" x=\"145\" y=\"87.5\"/><text fill=\"#000000\" font-family=\"sans-serif\" font-size=\"12\" font-style=\"italic\" lengthAdjust=\"spacingAndGlyphs\" textLength=\"40\" x=\"146\" y=\"103.6387\">«part»</text><text fill=\"#000000\" font-family=\"sans-serif\" font-size=\"12\" lengthAdjust=\"spacingAndGlyphs\" textLength=\"22\" x=\"155\" y=\"117.6074\">x: A</text><line style=\"stroke: #A80036; stroke-width: 1.5;\" x1=\"146\" x2=\"186\" y1=\"125.4375\" y2=\"125.4375\"/></a><a href=\"psysml:0289fe7d-3512-4b15-a612-d4f3c113c698\" target=\"_top\" title=\"psysml:0289fe7d-3512-4b15-a612-d4f3c113c698\" xlink:actuate=\"onRequest\" xlink:href=\"psysml:0289fe7d-3512-4b15-a612-d4f3c113c698\" xlink:show=\"new\" xlink:title=\"psysml:0289fe7d-3512-4b15-a612-d4f3c113c698\" xlink:type=\"simple\"><polygon fill=\"#FFFFFF\" filter=\"url(#fai85johyjrme)\" points=\"60.5,84,95.5,84,102.5,106.2969,109.5,106.2969,109.5,136.5938,60.5,136.5938,60.5,84\" style=\"stroke: #000000; stroke-width: 1.5;\"/><line style=\"stroke: #000000; stroke-width: 1.5;\" x1=\"60.5\" x2=\"102.5\" y1=\"106.2969\" y2=\"106.2969\"/><text fill=\"#000000\" font-family=\"sans-serif\" font-size=\"14\" font-weight=\"bold\" lengthAdjust=\"spacingAndGlyphs\" textLength=\"29\" x=\"64.5\" y=\"98.9951\">P2a</text></a><!--MD5=[a717450b82c80b9240a525fa862496af]\n",
       "link E6 to E3--><a href=\"psysml:a41f4e21-5f48-4d30-b801-3db99d3a1abc\" target=\"_top\" title=\"psysml:a41f4e21-5f48-4d30-b801-3db99d3a1abc\" xlink:actuate=\"onRequest\" xlink:href=\"psysml:a41f4e21-5f48-4d30-b801-3db99d3a1abc\" xlink:show=\"new\" xlink:title=\"psysml:a41f4e21-5f48-4d30-b801-3db99d3a1abc\" xlink:type=\"simple\"><path d=\"M163.83,133.68 C162.24,149.9 160.04,172.39 158.12,191.96 \" fill=\"none\" id=\"E6-&gt;E3\" style=\"stroke: #A80036; stroke-width: 1.0;\"/><polygon fill=\"#FFFFFF\" points=\"156.16,211.98,151.0533,192.3861,164.986,193.7564,156.16,211.98\" style=\"stroke: #A80036; stroke-width: 1.0;\"/><ellipse cx=\"153.6016\" cy=\"186.9092\" fill=\"#A80036\" rx=\"2\" ry=\"2\" style=\"stroke: #A80036; stroke-width: 1.0;\"/><ellipse cx=\"163.5535\" cy=\"187.888\" fill=\"#A80036\" rx=\"2\" ry=\"2\" style=\"stroke: #A80036; stroke-width: 1.0;\"/></a><!--MD5=[9750ae11788d2622683bb26e78db7d7d]\n",
       "@startuml\r\n",
       "skinparam wrapWidth 300\r\n",
       "hide circle\r\n",
       "\r\n",
       "package \"QualifiedNameImportTest\" as E1  [[psysml:69fab460-d5be-4945-91cf-3ca8c8123b68 ]]  {\r\n",
       "package \"P1\" as E2  [[psysml:a87ccb6a-ce8a-4667-9a31-41e6c6a1c677 ]]  {\r\n",
       "comp def \"A\" as E3  <<(T,blue)part def>> [[psysml:dead2420-b34a-43f7-a875-a2c685248268 ]] {\r\n",
       "}\r\n",
       "}\r\n",
       "package \"P2\" as E4  [[psysml:434a9cec-9a5b-4c30-bd61-ce4aa8eabf42 ]]  {\r\n",
       "package \"P2a\" as E5  [[psysml:0289fe7d-3512-4b15-a612-d4f3c113c698 ]]  {\r\n",
       "}\r\n",
       "comp usage \"x: A\" as E6  <<(T,blue)part>> [[psysml:febc5459-2ebe-4c36-9a31-624278ca958f ]] {\r\n",
       "}\r\n",
       "E6 - -:|> E3 [[psysml:a41f4e21-5f48-4d30-b801-3db99d3a1abc ]] \r\n",
       "}\r\n",
       "}\r\n",
       "@enduml\r\n",
       "\n",
       "PlantUML version 1.2020.13(Sat Jun 13 12:26:38 UTC 2020)\n",
       "(EPL source distribution)\n",
       "Java Runtime: OpenJDK Runtime Environment\n",
       "JVM: OpenJDK 64-Bit Server VM\n",
       "Default Encoding: UTF-8\n",
       "Language: en\n",
       "Country: null\n",
       "--></g></svg>"
      ]
     },
     "execution_count": 29,
     "metadata": {},
     "output_type": "execute_result"
    }
   ],
   "source": [
    "%viz --style=\"STDCOLOR\" --view=\"MIXED\" \"QualifiedNameImportTest\""
   ]
  },
  {
   "cell_type": "code",
   "execution_count": 30,
   "id": "divided-forty",
   "metadata": {
    "execution": {
     "iopub.execute_input": "2021-03-26T09:15:01.536508Z",
     "iopub.status.busy": "2021-03-26T09:15:01.536067Z",
     "iopub.status.idle": "2021-03-26T09:15:01.569690Z",
     "shell.execute_reply": "2021-03-26T09:15:01.568559Z"
    }
   },
   "outputs": [
    {
     "data": {
      "image/svg+xml": [
       "<?xml version=\"1.0\" encoding=\"UTF-8\" standalone=\"no\"?><svg xmlns=\"http://www.w3.org/2000/svg\" xmlns:xlink=\"http://www.w3.org/1999/xlink\" contentScriptType=\"application/ecmascript\" contentStyleType=\"text/css\" height=\"304px\" preserveAspectRatio=\"none\" style=\"width:271px;height:304px;\" version=\"1.1\" viewBox=\"0 0 271 304\" width=\"271px\" zoomAndPan=\"magnify\"><defs><filter height=\"300%\" id=\"f1tk8su2zih1r2\" width=\"300%\" x=\"-1\" y=\"-1\"><feGaussianBlur result=\"blurOut\" stdDeviation=\"2.0\"/><feColorMatrix in=\"blurOut\" result=\"blurOut2\" type=\"matrix\" values=\"0 0 0 0 0 0 0 0 0 0 0 0 0 0 0 0 0 0 .4 0\"/><feOffset dx=\"4.0\" dy=\"4.0\" in=\"blurOut2\" result=\"blurOut3\"/><feBlend in=\"SourceGraphic\" in2=\"blurOut3\" mode=\"normal\"/></filter></defs><g><!--MD5=[fbc87193dbaf4d95561dea2c320d4a47]\n",
       "cluster E1--><a href=\"psysml:69fab460-d5be-4945-91cf-3ca8c8123b68\" target=\"_top\" title=\"psysml:69fab460-d5be-4945-91cf-3ca8c8123b68\" xlink:actuate=\"onRequest\" xlink:href=\"psysml:69fab460-d5be-4945-91cf-3ca8c8123b68\" xlink:show=\"new\" xlink:title=\"psysml:69fab460-d5be-4945-91cf-3ca8c8123b68\" xlink:type=\"simple\"><polygon fill=\"#FFFFFF\" filter=\"url(#f1tk8su2zih1r2)\" points=\"16,6,221,6,228,28.2969,249,28.2969,249,292,16,292,16,6\" style=\"stroke: #000000; stroke-width: 1.5;\"/><line style=\"stroke: #000000; stroke-width: 1.5;\" x1=\"16\" x2=\"228\" y1=\"28.2969\" y2=\"28.2969\"/><text fill=\"#000000\" font-family=\"sans-serif\" font-size=\"14\" font-weight=\"bold\" lengthAdjust=\"spacingAndGlyphs\" textLength=\"199\" x=\"20\" y=\"20.9951\">QualifiedNameImportTest</text></a><!--MD5=[e4f7fae6ed58524ba242bb0b0d3be6b7]\n",
       "cluster E2--><a href=\"psysml:a87ccb6a-ce8a-4667-9a31-41e6c6a1c677\" target=\"_top\" title=\"psysml:a87ccb6a-ce8a-4667-9a31-41e6c6a1c677\" xlink:actuate=\"onRequest\" xlink:href=\"psysml:a87ccb6a-ce8a-4667-9a31-41e6c6a1c677\" xlink:show=\"new\" xlink:title=\"psysml:a87ccb6a-ce8a-4667-9a31-41e6c6a1c677\" xlink:type=\"simple\"><polygon fill=\"#FFFFFF\" filter=\"url(#f1tk8su2zih1r2)\" points=\"139,177,165,177,172,199.2969,211,199.2969,211,268,139,268,139,177\" style=\"stroke: #000000; stroke-width: 1.5;\"/><line style=\"stroke: #000000; stroke-width: 1.5;\" x1=\"139\" x2=\"172\" y1=\"199.2969\" y2=\"199.2969\"/><text fill=\"#000000\" font-family=\"sans-serif\" font-size=\"14\" font-weight=\"bold\" lengthAdjust=\"spacingAndGlyphs\" textLength=\"20\" x=\"143\" y=\"191.9951\">P1</text></a><!--MD5=[f6df4d0ebaf0b5dfb2ced0ae5af7c670]\n",
       "cluster E4--><a href=\"psysml:434a9cec-9a5b-4c30-bd61-ce4aa8eabf42\" target=\"_top\" title=\"psysml:434a9cec-9a5b-4c30-bd61-ce4aa8eabf42\" xlink:actuate=\"onRequest\" xlink:href=\"psysml:434a9cec-9a5b-4c30-bd61-ce4aa8eabf42\" xlink:show=\"new\" xlink:title=\"psysml:434a9cec-9a5b-4c30-bd61-ce4aa8eabf42\" xlink:type=\"simple\"><polygon fill=\"#FFFFFF\" filter=\"url(#f1tk8su2zih1r2)\" points=\"40,49,66,49,73,71.2969,225,71.2969,225,153,40,153,40,49\" style=\"stroke: #000000; stroke-width: 1.5;\"/><line style=\"stroke: #000000; stroke-width: 1.5;\" x1=\"40\" x2=\"73\" y1=\"71.2969\" y2=\"71.2969\"/><text fill=\"#000000\" font-family=\"sans-serif\" font-size=\"14\" font-weight=\"bold\" lengthAdjust=\"spacingAndGlyphs\" textLength=\"20\" x=\"44\" y=\"63.9951\">P2</text></a><!--MD5=[09b614a08d8cba4a07c9adeb5e0fee81]\n",
       "class E3--><a href=\"psysml:dead2420-b34a-43f7-a875-a2c685248268\" target=\"_top\" title=\"psysml:dead2420-b34a-43f7-a875-a2c685248268\" xlink:actuate=\"onRequest\" xlink:href=\"psysml:dead2420-b34a-43f7-a875-a2c685248268\" xlink:show=\"new\" xlink:title=\"psysml:dead2420-b34a-43f7-a875-a2c685248268\" xlink:type=\"simple\"><rect fill=\"#FEFECE\" filter=\"url(#f1tk8su2zih1r2)\" height=\"40\" id=\"E3\" style=\"stroke: #A80036; stroke-width: 1.5;\" width=\"40\" x=\"155\" y=\"212\"/><ellipse cx=\"170\" cy=\"228\" fill=\"#008000\" rx=\"11\" ry=\"11\" style=\"stroke: #A80036; stroke-width: 1.0;\"/><path d=\"M168.9063,228.375 L168.9063,232.0469 L170.5313,232.0469 Q171.7031,232.0469 172.1719,231.6563 Q172.6406,231.25 172.6406,230.25 Q172.6406,229.25 172.1406,228.8125 Q171.6563,228.375 170.5313,228.375 L168.9063,228.375 Z M168.9063,223.5469 L168.9063,226.4219 L170.5313,226.4219 Q171.4531,226.4219 171.8438,226.0938 Q172.25,225.75 172.25,225 Q172.25,224.2344 171.8438,223.8906 Q171.4375,223.5469 170.5313,223.5469 L168.9063,223.5469 Z M166.5313,221.5938 L170.5313,221.5938 Q172.5938,221.5938 173.6406,222.375 Q174.6875,223.1563 174.6875,224.7188 Q174.6875,225.9219 174.0625,226.5938 Q173.4531,227.2656 172.2656,227.375 Q173.6875,227.5156 174.4063,228.3281 Q175.125,229.1406 175.125,230.5938 Q175.125,232.3906 174.0469,233.2031 Q172.9688,234 170.5313,234 L166.5313,234 L166.5313,221.5938 Z \"/><text fill=\"#000000\" font-family=\"sans-serif\" font-size=\"12\" lengthAdjust=\"spacingAndGlyphs\" textLength=\"8\" x=\"184\" y=\"232.1543\">A</text><line style=\"stroke: #A80036; stroke-width: 1.5;\" x1=\"156\" x2=\"194\" y1=\"244\" y2=\"244\"/></a><!--MD5=[60a26617385b1d2d0262a64233df1f8d]\n",
       "class E6--><a href=\"psysml:febc5459-2ebe-4c36-9a31-624278ca958f\" target=\"_top\" title=\"psysml:febc5459-2ebe-4c36-9a31-624278ca958f\" xlink:actuate=\"onRequest\" xlink:href=\"psysml:febc5459-2ebe-4c36-9a31-624278ca958f\" xlink:show=\"new\" xlink:title=\"psysml:febc5459-2ebe-4c36-9a31-624278ca958f\" xlink:type=\"simple\"><rect fill=\"#FEFECE\" filter=\"url(#f1tk8su2zih1r2)\" height=\"45.9375\" id=\"E6\" rx=\"10\" ry=\"10\" style=\"stroke: #A80036; stroke-width: 1.5;\" width=\"68\" x=\"141\" y=\"87.5\"/><ellipse cx=\"156\" cy=\"106.4688\" fill=\"#32CD32\" rx=\"11\" ry=\"11\" style=\"stroke: #A80036; stroke-width: 1.0;\"/><path d=\"M155.7969,102.1406 L155.7969,105.7656 L156.7969,105.7656 Q158,105.7656 158.4844,105.3594 Q158.9688,104.9531 158.9688,103.9531 Q158.9688,102.9531 158.4844,102.5469 Q158,102.1406 156.7969,102.1406 L155.7969,102.1406 Z M153.3438,100.0781 L156.7031,100.0781 Q159.2656,100.0781 160.3906,101 Q161.5156,101.9063 161.5156,103.9531 Q161.5156,106 160.3906,106.9219 Q159.2656,107.8281 156.7031,107.8281 L155.7969,107.8281 L155.7969,112.4688 L153.3438,112.4688 L153.3438,100.0781 Z \"/><text fill=\"#000000\" font-family=\"sans-serif\" font-size=\"12\" font-style=\"italic\" lengthAdjust=\"spacingAndGlyphs\" textLength=\"40\" x=\"168\" y=\"103.6387\">«part»</text><text fill=\"#000000\" font-family=\"sans-serif\" font-size=\"12\" lengthAdjust=\"spacingAndGlyphs\" textLength=\"22\" x=\"177\" y=\"117.6074\">x: A</text><line style=\"stroke: #A80036; stroke-width: 1.5;\" x1=\"142\" x2=\"208\" y1=\"125.4375\" y2=\"125.4375\"/></a><a href=\"psysml:0289fe7d-3512-4b15-a612-d4f3c113c698\" target=\"_top\" title=\"psysml:0289fe7d-3512-4b15-a612-d4f3c113c698\" xlink:actuate=\"onRequest\" xlink:href=\"psysml:0289fe7d-3512-4b15-a612-d4f3c113c698\" xlink:show=\"new\" xlink:title=\"psysml:0289fe7d-3512-4b15-a612-d4f3c113c698\" xlink:type=\"simple\"><polygon fill=\"#FFFFFF\" filter=\"url(#f1tk8su2zih1r2)\" points=\"56.5,84,91.5,84,98.5,106.2969,105.5,106.2969,105.5,136.5938,56.5,136.5938,56.5,84\" style=\"stroke: #000000; stroke-width: 1.5;\"/><line style=\"stroke: #000000; stroke-width: 1.5;\" x1=\"56.5\" x2=\"98.5\" y1=\"106.2969\" y2=\"106.2969\"/><text fill=\"#000000\" font-family=\"sans-serif\" font-size=\"14\" font-weight=\"bold\" lengthAdjust=\"spacingAndGlyphs\" textLength=\"29\" x=\"60.5\" y=\"98.9951\">P2a</text></a><!--MD5=[a717450b82c80b9240a525fa862496af]\n",
       "link E6 to E3--><a href=\"psysml:a41f4e21-5f48-4d30-b801-3db99d3a1abc\" target=\"_top\" title=\"psysml:a41f4e21-5f48-4d30-b801-3db99d3a1abc\" xlink:actuate=\"onRequest\" xlink:href=\"psysml:a41f4e21-5f48-4d30-b801-3db99d3a1abc\" xlink:show=\"new\" xlink:title=\"psysml:a41f4e21-5f48-4d30-b801-3db99d3a1abc\" xlink:type=\"simple\"><path d=\"M175,133.7 C175,149.89 175,172.27 175,191.49 \" fill=\"none\" id=\"E6-&gt;E3\" style=\"stroke: #A80036; stroke-width: 1.0;\"/><polygon fill=\"#FFFFFF\" points=\"175,211.69,168,192.69,182,192.69,175,211.69\" style=\"stroke: #A80036; stroke-width: 1.0;\"/><ellipse cx=\"170\" cy=\"186.99\" fill=\"#A80036\" rx=\"2\" ry=\"2\" style=\"stroke: #A80036; stroke-width: 1.0;\"/><ellipse cx=\"180\" cy=\"186.99\" fill=\"#A80036\" rx=\"2\" ry=\"2\" style=\"stroke: #A80036; stroke-width: 1.0;\"/></a><!--MD5=[3109ffb419a865630edee744259f3ef1]\n",
       "@startuml\r\n",
       " \r\n",
       "package \"QualifiedNameImportTest\" as E1  [[psysml:69fab460-d5be-4945-91cf-3ca8c8123b68 ]]  {\r\n",
       "package \"P1\" as E2  [[psysml:a87ccb6a-ce8a-4667-9a31-41e6c6a1c677 ]]  {\r\n",
       "comp def \"A\" as E3  << (B,green) >> [[psysml:dead2420-b34a-43f7-a875-a2c685248268 ]] {\r\n",
       "}\r\n",
       "}\r\n",
       "package \"P2\" as E4  [[psysml:434a9cec-9a5b-4c30-bd61-ce4aa8eabf42 ]]  {\r\n",
       "package \"P2a\" as E5  [[psysml:0289fe7d-3512-4b15-a612-d4f3c113c698 ]]  {\r\n",
       "}\r\n",
       "comp usage \"x: A\" as E6  << (P,limegreen) part>> [[psysml:febc5459-2ebe-4c36-9a31-624278ca958f ]] {\r\n",
       "}\r\n",
       "E6 - -:|> E3 [[psysml:a41f4e21-5f48-4d30-b801-3db99d3a1abc ]] \r\n",
       "}\r\n",
       "}\r\n",
       "@enduml\r\n",
       "\n",
       "PlantUML version 1.2020.13(Sat Jun 13 12:26:38 UTC 2020)\n",
       "(EPL source distribution)\n",
       "Java Runtime: OpenJDK Runtime Environment\n",
       "JVM: OpenJDK 64-Bit Server VM\n",
       "Default Encoding: UTF-8\n",
       "Language: en\n",
       "Country: null\n",
       "--></g></svg>"
      ]
     },
     "execution_count": 30,
     "metadata": {},
     "output_type": "execute_result"
    }
   ],
   "source": [
    "%viz --style=\"PLANTUML\" --view=\"Default\" \"QualifiedNameImportTest\""
   ]
  },
  {
   "cell_type": "code",
   "execution_count": 31,
   "id": "tender-environment",
   "metadata": {
    "execution": {
     "iopub.execute_input": "2021-03-26T09:15:01.621040Z",
     "iopub.status.busy": "2021-03-26T09:15:01.620238Z",
     "iopub.status.idle": "2021-03-26T09:15:01.650637Z",
     "shell.execute_reply": "2021-03-26T09:15:01.649559Z"
    }
   },
   "outputs": [
    {
     "data": {
      "image/svg+xml": [
       "<?xml version=\"1.0\" encoding=\"UTF-8\" standalone=\"no\"?><svg xmlns=\"http://www.w3.org/2000/svg\" xmlns:xlink=\"http://www.w3.org/1999/xlink\" contentScriptType=\"application/ecmascript\" contentStyleType=\"text/css\" height=\"304px\" preserveAspectRatio=\"none\" style=\"width:271px;height:304px;\" version=\"1.1\" viewBox=\"0 0 271 304\" width=\"271px\" zoomAndPan=\"magnify\"><defs><filter height=\"300%\" id=\"f1tk8su2zih1r2\" width=\"300%\" x=\"-1\" y=\"-1\"><feGaussianBlur result=\"blurOut\" stdDeviation=\"2.0\"/><feColorMatrix in=\"blurOut\" result=\"blurOut2\" type=\"matrix\" values=\"0 0 0 0 0 0 0 0 0 0 0 0 0 0 0 0 0 0 .4 0\"/><feOffset dx=\"4.0\" dy=\"4.0\" in=\"blurOut2\" result=\"blurOut3\"/><feBlend in=\"SourceGraphic\" in2=\"blurOut3\" mode=\"normal\"/></filter></defs><g><!--MD5=[fbc87193dbaf4d95561dea2c320d4a47]\n",
       "cluster E1--><a href=\"psysml:69fab460-d5be-4945-91cf-3ca8c8123b68\" target=\"_top\" title=\"psysml:69fab460-d5be-4945-91cf-3ca8c8123b68\" xlink:actuate=\"onRequest\" xlink:href=\"psysml:69fab460-d5be-4945-91cf-3ca8c8123b68\" xlink:show=\"new\" xlink:title=\"psysml:69fab460-d5be-4945-91cf-3ca8c8123b68\" xlink:type=\"simple\"><polygon fill=\"#FFFFFF\" filter=\"url(#f1tk8su2zih1r2)\" points=\"16,6,221,6,228,28.2969,249,28.2969,249,292,16,292,16,6\" style=\"stroke: #000000; stroke-width: 1.5;\"/><line style=\"stroke: #000000; stroke-width: 1.5;\" x1=\"16\" x2=\"228\" y1=\"28.2969\" y2=\"28.2969\"/><text fill=\"#000000\" font-family=\"sans-serif\" font-size=\"14\" font-weight=\"bold\" lengthAdjust=\"spacingAndGlyphs\" textLength=\"199\" x=\"20\" y=\"20.9951\">QualifiedNameImportTest</text></a><!--MD5=[e4f7fae6ed58524ba242bb0b0d3be6b7]\n",
       "cluster E2--><a href=\"psysml:a87ccb6a-ce8a-4667-9a31-41e6c6a1c677\" target=\"_top\" title=\"psysml:a87ccb6a-ce8a-4667-9a31-41e6c6a1c677\" xlink:actuate=\"onRequest\" xlink:href=\"psysml:a87ccb6a-ce8a-4667-9a31-41e6c6a1c677\" xlink:show=\"new\" xlink:title=\"psysml:a87ccb6a-ce8a-4667-9a31-41e6c6a1c677\" xlink:type=\"simple\"><polygon fill=\"#FFFFFF\" filter=\"url(#f1tk8su2zih1r2)\" points=\"139,177,165,177,172,199.2969,211,199.2969,211,268,139,268,139,177\" style=\"stroke: #000000; stroke-width: 1.5;\"/><line style=\"stroke: #000000; stroke-width: 1.5;\" x1=\"139\" x2=\"172\" y1=\"199.2969\" y2=\"199.2969\"/><text fill=\"#000000\" font-family=\"sans-serif\" font-size=\"14\" font-weight=\"bold\" lengthAdjust=\"spacingAndGlyphs\" textLength=\"20\" x=\"143\" y=\"191.9951\">P1</text></a><!--MD5=[f6df4d0ebaf0b5dfb2ced0ae5af7c670]\n",
       "cluster E4--><a href=\"psysml:434a9cec-9a5b-4c30-bd61-ce4aa8eabf42\" target=\"_top\" title=\"psysml:434a9cec-9a5b-4c30-bd61-ce4aa8eabf42\" xlink:actuate=\"onRequest\" xlink:href=\"psysml:434a9cec-9a5b-4c30-bd61-ce4aa8eabf42\" xlink:show=\"new\" xlink:title=\"psysml:434a9cec-9a5b-4c30-bd61-ce4aa8eabf42\" xlink:type=\"simple\"><polygon fill=\"#FFFFFF\" filter=\"url(#f1tk8su2zih1r2)\" points=\"40,49,66,49,73,71.2969,225,71.2969,225,153,40,153,40,49\" style=\"stroke: #000000; stroke-width: 1.5;\"/><line style=\"stroke: #000000; stroke-width: 1.5;\" x1=\"40\" x2=\"73\" y1=\"71.2969\" y2=\"71.2969\"/><text fill=\"#000000\" font-family=\"sans-serif\" font-size=\"14\" font-weight=\"bold\" lengthAdjust=\"spacingAndGlyphs\" textLength=\"20\" x=\"44\" y=\"63.9951\">P2</text></a><!--MD5=[09b614a08d8cba4a07c9adeb5e0fee81]\n",
       "class E3--><a href=\"psysml:dead2420-b34a-43f7-a875-a2c685248268\" target=\"_top\" title=\"psysml:dead2420-b34a-43f7-a875-a2c685248268\" xlink:actuate=\"onRequest\" xlink:href=\"psysml:dead2420-b34a-43f7-a875-a2c685248268\" xlink:show=\"new\" xlink:title=\"psysml:dead2420-b34a-43f7-a875-a2c685248268\" xlink:type=\"simple\"><rect fill=\"#FEFECE\" filter=\"url(#f1tk8su2zih1r2)\" height=\"40\" id=\"E3\" style=\"stroke: #A80036; stroke-width: 1.5;\" width=\"40\" x=\"155\" y=\"212\"/><ellipse cx=\"170\" cy=\"228\" fill=\"#008000\" rx=\"11\" ry=\"11\" style=\"stroke: #A80036; stroke-width: 1.0;\"/><path d=\"M168.9063,228.375 L168.9063,232.0469 L170.5313,232.0469 Q171.7031,232.0469 172.1719,231.6563 Q172.6406,231.25 172.6406,230.25 Q172.6406,229.25 172.1406,228.8125 Q171.6563,228.375 170.5313,228.375 L168.9063,228.375 Z M168.9063,223.5469 L168.9063,226.4219 L170.5313,226.4219 Q171.4531,226.4219 171.8438,226.0938 Q172.25,225.75 172.25,225 Q172.25,224.2344 171.8438,223.8906 Q171.4375,223.5469 170.5313,223.5469 L168.9063,223.5469 Z M166.5313,221.5938 L170.5313,221.5938 Q172.5938,221.5938 173.6406,222.375 Q174.6875,223.1563 174.6875,224.7188 Q174.6875,225.9219 174.0625,226.5938 Q173.4531,227.2656 172.2656,227.375 Q173.6875,227.5156 174.4063,228.3281 Q175.125,229.1406 175.125,230.5938 Q175.125,232.3906 174.0469,233.2031 Q172.9688,234 170.5313,234 L166.5313,234 L166.5313,221.5938 Z \"/><text fill=\"#000000\" font-family=\"sans-serif\" font-size=\"12\" lengthAdjust=\"spacingAndGlyphs\" textLength=\"8\" x=\"184\" y=\"232.1543\">A</text><line style=\"stroke: #A80036; stroke-width: 1.5;\" x1=\"156\" x2=\"194\" y1=\"244\" y2=\"244\"/></a><!--MD5=[60a26617385b1d2d0262a64233df1f8d]\n",
       "class E6--><a href=\"psysml:febc5459-2ebe-4c36-9a31-624278ca958f\" target=\"_top\" title=\"psysml:febc5459-2ebe-4c36-9a31-624278ca958f\" xlink:actuate=\"onRequest\" xlink:href=\"psysml:febc5459-2ebe-4c36-9a31-624278ca958f\" xlink:show=\"new\" xlink:title=\"psysml:febc5459-2ebe-4c36-9a31-624278ca958f\" xlink:type=\"simple\"><rect fill=\"#FEFECE\" filter=\"url(#f1tk8su2zih1r2)\" height=\"45.9375\" id=\"E6\" rx=\"10\" ry=\"10\" style=\"stroke: #A80036; stroke-width: 1.5;\" width=\"68\" x=\"141\" y=\"87.5\"/><ellipse cx=\"156\" cy=\"106.4688\" fill=\"#32CD32\" rx=\"11\" ry=\"11\" style=\"stroke: #A80036; stroke-width: 1.0;\"/><path d=\"M155.7969,102.1406 L155.7969,105.7656 L156.7969,105.7656 Q158,105.7656 158.4844,105.3594 Q158.9688,104.9531 158.9688,103.9531 Q158.9688,102.9531 158.4844,102.5469 Q158,102.1406 156.7969,102.1406 L155.7969,102.1406 Z M153.3438,100.0781 L156.7031,100.0781 Q159.2656,100.0781 160.3906,101 Q161.5156,101.9063 161.5156,103.9531 Q161.5156,106 160.3906,106.9219 Q159.2656,107.8281 156.7031,107.8281 L155.7969,107.8281 L155.7969,112.4688 L153.3438,112.4688 L153.3438,100.0781 Z \"/><text fill=\"#000000\" font-family=\"sans-serif\" font-size=\"12\" font-style=\"italic\" lengthAdjust=\"spacingAndGlyphs\" textLength=\"40\" x=\"168\" y=\"103.6387\">«part»</text><text fill=\"#000000\" font-family=\"sans-serif\" font-size=\"12\" lengthAdjust=\"spacingAndGlyphs\" textLength=\"22\" x=\"177\" y=\"117.6074\">x: A</text><line style=\"stroke: #A80036; stroke-width: 1.5;\" x1=\"142\" x2=\"208\" y1=\"125.4375\" y2=\"125.4375\"/></a><a href=\"psysml:0289fe7d-3512-4b15-a612-d4f3c113c698\" target=\"_top\" title=\"psysml:0289fe7d-3512-4b15-a612-d4f3c113c698\" xlink:actuate=\"onRequest\" xlink:href=\"psysml:0289fe7d-3512-4b15-a612-d4f3c113c698\" xlink:show=\"new\" xlink:title=\"psysml:0289fe7d-3512-4b15-a612-d4f3c113c698\" xlink:type=\"simple\"><polygon fill=\"#FFFFFF\" filter=\"url(#f1tk8su2zih1r2)\" points=\"56.5,84,91.5,84,98.5,106.2969,105.5,106.2969,105.5,136.5938,56.5,136.5938,56.5,84\" style=\"stroke: #000000; stroke-width: 1.5;\"/><line style=\"stroke: #000000; stroke-width: 1.5;\" x1=\"56.5\" x2=\"98.5\" y1=\"106.2969\" y2=\"106.2969\"/><text fill=\"#000000\" font-family=\"sans-serif\" font-size=\"14\" font-weight=\"bold\" lengthAdjust=\"spacingAndGlyphs\" textLength=\"29\" x=\"60.5\" y=\"98.9951\">P2a</text></a><!--MD5=[a717450b82c80b9240a525fa862496af]\n",
       "link E6 to E3--><a href=\"psysml:a41f4e21-5f48-4d30-b801-3db99d3a1abc\" target=\"_top\" title=\"psysml:a41f4e21-5f48-4d30-b801-3db99d3a1abc\" xlink:actuate=\"onRequest\" xlink:href=\"psysml:a41f4e21-5f48-4d30-b801-3db99d3a1abc\" xlink:show=\"new\" xlink:title=\"psysml:a41f4e21-5f48-4d30-b801-3db99d3a1abc\" xlink:type=\"simple\"><path d=\"M175,133.7 C175,149.89 175,172.27 175,191.49 \" fill=\"none\" id=\"E6-&gt;E3\" style=\"stroke: #A80036; stroke-width: 1.0;\"/><polygon fill=\"#FFFFFF\" points=\"175,211.69,168,192.69,182,192.69,175,211.69\" style=\"stroke: #A80036; stroke-width: 1.0;\"/><ellipse cx=\"170\" cy=\"186.99\" fill=\"#A80036\" rx=\"2\" ry=\"2\" style=\"stroke: #A80036; stroke-width: 1.0;\"/><ellipse cx=\"180\" cy=\"186.99\" fill=\"#A80036\" rx=\"2\" ry=\"2\" style=\"stroke: #A80036; stroke-width: 1.0;\"/></a><!--MD5=[3109ffb419a865630edee744259f3ef1]\n",
       "@startuml\r\n",
       " \r\n",
       "package \"QualifiedNameImportTest\" as E1  [[psysml:69fab460-d5be-4945-91cf-3ca8c8123b68 ]]  {\r\n",
       "package \"P1\" as E2  [[psysml:a87ccb6a-ce8a-4667-9a31-41e6c6a1c677 ]]  {\r\n",
       "comp def \"A\" as E3  << (B,green) >> [[psysml:dead2420-b34a-43f7-a875-a2c685248268 ]] {\r\n",
       "}\r\n",
       "}\r\n",
       "package \"P2\" as E4  [[psysml:434a9cec-9a5b-4c30-bd61-ce4aa8eabf42 ]]  {\r\n",
       "package \"P2a\" as E5  [[psysml:0289fe7d-3512-4b15-a612-d4f3c113c698 ]]  {\r\n",
       "}\r\n",
       "comp usage \"x: A\" as E6  << (P,limegreen) part>> [[psysml:febc5459-2ebe-4c36-9a31-624278ca958f ]] {\r\n",
       "}\r\n",
       "E6 - -:|> E3 [[psysml:a41f4e21-5f48-4d30-b801-3db99d3a1abc ]] \r\n",
       "}\r\n",
       "}\r\n",
       "@enduml\r\n",
       "\n",
       "PlantUML version 1.2020.13(Sat Jun 13 12:26:38 UTC 2020)\n",
       "(EPL source distribution)\n",
       "Java Runtime: OpenJDK Runtime Environment\n",
       "JVM: OpenJDK 64-Bit Server VM\n",
       "Default Encoding: UTF-8\n",
       "Language: en\n",
       "Country: null\n",
       "--></g></svg>"
      ]
     },
     "execution_count": 31,
     "metadata": {},
     "output_type": "execute_result"
    }
   ],
   "source": [
    "%viz --style=\"PLANTUML\" --view=\"Tree\" \"QualifiedNameImportTest\""
   ]
  },
  {
   "cell_type": "code",
   "execution_count": 32,
   "id": "stuffed-niagara",
   "metadata": {
    "execution": {
     "iopub.execute_input": "2021-03-26T09:15:01.703582Z",
     "iopub.status.busy": "2021-03-26T09:15:01.702737Z",
     "iopub.status.idle": "2021-03-26T09:15:01.817687Z",
     "shell.execute_reply": "2021-03-26T09:15:01.816392Z"
    }
   },
   "outputs": [
    {
     "data": {
      "image/svg+xml": [
       "<?xml version=\"1.0\" encoding=\"UTF-8\" standalone=\"no\"?><svg xmlns=\"http://www.w3.org/2000/svg\" xmlns:xlink=\"http://www.w3.org/1999/xlink\" contentScriptType=\"application/ecmascript\" contentStyleType=\"text/css\" height=\"420px\" preserveAspectRatio=\"none\" style=\"width:603px;height:420px;background:#000000;\" version=\"1.1\" viewBox=\"0 0 603 420\" width=\"603px\" zoomAndPan=\"magnify\"><defs/><g><rect fill=\"#252223\" height=\"1\" style=\"stroke: #252223; stroke-width: 1.0;\" width=\"1\" x=\"0\" y=\"0\"/><rect fill=\"#F6C914\" height=\"58\" style=\"stroke: #F6C914; stroke-width: 1.0;\" width=\"602\" x=\"0\" y=\"0\"/><image height=\"58\" width=\"454\" x=\"1\" xlink:href=\"data:image/png;base64,iVBORw0KGgoAAAANSUhEUgAAAcYAAAA6CAMAAAAdmwnNAAADAFBMVEX2yRQ4AADTyRQ4cREAAAT2yRGKLQAAAAAZFxpikBT2yQ7TcQRiAAAALQuKrRT2kAiwUQAAUQ6wyRT2rQsAAAgYFhoYFxkZFhn2yRMYFxr2yBP2yBRiLQAALQj1yRM4UQ4ZFhqwrRT2rQ4KChoODhkVFBqwUQT/0xQICRn1yRTTkAgAAhgALQQREBr3yhP/0RMAABYMDRoCAxr/1hMCBBj90BPTkAsFBxr1yBT/3Rj/1xJicQ+KkBH/2BQAARQQDhn6zBMYFRlikBD8zhMTExkGCBn/3BT5yxMTEhn+0RMDBho4UQnTyQ//3xf1yBP/1ROKUQTTcQg4cQ44LQBicQsLCxf/2xP/2BAGBxv/1BP/1Rr4yRUAABgWExwEBxcYFRwDBBawcQTTrRQ4AAQtJxn4yhOPdhn/0BdoVxnrvxj4yxPkuxb/0hL/3xO2lhb6zhLgthYPDRWKchkpIxv/2Rn7zRL/2hb/3hQAABrxxhjDoBhiUQT2rRGwcQj/2g8mHxf/0xHDnhX5zBISEBwkHxn/4BUxKxoVEhi7lxX2yRJaShtwXhhjVBiliBj6zBRjUhcYFxf6zho6Mhj/2RJMQBpfTxocGBU+NhkQEBeHcBoXFBbRqRdRQxkDAhR9ahmKrQ+KcQQ4LQj/1hjYsBi+mRiihRcVEhv+0Rr3yxmtjxhQRBr1yhL+zxJnVBnFoxjIoxh6Yhn/1xf5yxcKDRnmvhaafhewkBdjUhz/1BFJPRmVexlzYRgXFhj0yRefhBn/4xOJchmfgRiCahq0khb3zRNyXRnitxjxxBeykxv+0RLbsxY1LRogGxz/2hP/5Rm+nBSoiRcAUQiwkBGKkBQ4cQv2kAuwkAiKkAsKBhZFPBdtWReCbxpUSBn7zxLzxhmOdBg0Lh3swhpBNxyqihZbThzowRuoixfYtBknIxWtixiDbRj/3xusjxy5mx1+ZRyVdx3uwRnovxgTEBX4zBXMpRZaTxemhBb2yRzGoRf/5x/zyRXMohJgUR1iLQSwrQ7TrQ4qcmSgAAARg0lEQVR4Xu2ceXQUx5nAq++e7jkkDZIGSSAsbowhMcYxYIIJR7xrTIyJca6Nsf3y3nodx5tsTPyyYZP12vuy+5y3MUt8bMza8e6+HE7igPG12Dy/GOGQmAVzI8CS0IEOmNHMaKanp6+tqj5mpqWZFhCttMr8/lBXV9X31Tf1dVVXdfcnAMqUKTM+oNwZQ7jpoZbGz1Vtb79JIMRBd2GZ8QHhznAzN+WrWqbq137p5LyNH3a7S8uMD7xG49z48i/vuGffmT2vvtx9/8tJd7En4bAsqIY7t8wfGS830o3L092/qTqTvf6Ogb83LtuNgp4EGqO6s4vA0NDlQm2aU+fF/LK7tBBc1535JwvpznBB/fmD/9mTfD9Onjfe07rcpZ4QiurPujOLIqApXumbzDBn3UVDwHWHg2Er3VnjnD+CxV5uNN6XNXSM9WZSl+fFDfcfBYwSCIH7fO6iYqggrQMl25Fg2AraXYj4zlZtI8fRt5FW3eEIKir6URUB/NPCBJxvmvzmCWhqQKL30sF8gTHHsrgIIWIE/VfsmraZWr347UQCgEDNPz35rruwFAxBkJJAMjF3QQkqJFLCiXDUnxrGSaGMlWBTulPXTSijwgtPIHk9Cs9EFZ6FoyyuLJBKQI9iy9xSY4lpcTGK/tB8SlwGmCzbMA3dPyseeu6Uu8wDjQG+VMKdWwImHfDBGSZQBdO07cV5BNdoV0gb2g1flOV6RvLjulBkFjcFVc+DACz860vJA+iMQX9UFvDoyGayMJdhNZw7csQhw3eYds1sgstfbYQ4H5wB0A/IpYZiWjwEUxmTHom1Hm6M3Pm5U2fhpRLkVw94VHXBsL5BQWZpjrMmfqGh0vw12DVTrkET3p0FNwaGxZ3MoX5PoBlwUhWYdY4FXXmdePTfAejIVtC4LhBq20EfWQXESVXMHRycOQU/J4HpBFepsvacC7tI1dZRsNNF6Q7z8iicsb0NA1QKFqGJeZbpCLvdPFFEWG1HDsmJqyAbau0HPb68lNNKCM73MMlZFlsqHFlLGepHS30JvHyjSb0roBeF9Ok+d1FpfCla96VgosaaMJj+BPpdEBG6pi9ZBZ21s2CpgkTgHw1NhiwIt/bLA6H2mrr8PkcOaKolUlFcl1H7I2vgcpVRBn5AvAGyBLyxwkpnrr0hbi2O8bXMKBX/kJRAOK3uQZeHPVBtvA2D5oTOsVkOiO34mrLbzRNFwKv2NgUuJXLiDNiQ8MMfkM1L5bUCoFYsiSw2dTiytjL8Qz3xcCP5wZyLb0BTeyqjDe6y0qABdSkESLnDmlcJTTQTITVQpxuwX3GOCuwbnjkGVTaDeyYcpZYleS2Qqk4HLA1ouF7curGrZ5lk1mUJoX0vHpYVBAGXxEHoRoqpEY8164w9UUHHQ7EtDC/IfnuDUtgx3oYx2tNaYAvICoTgo5S8dh1RjC8l/Bppzhd/1Z9qxTOCk3JaYbRjiUAdza4xLTZ1OLK2MtwfnnjsG1fW/MW7pwHg2I+/03LBXVgSWqdVwMu8vf1jVD5lwBUH7G9C7dd5XaFRDlx1OFWwCI3ORfnDJ/2TDwEh23jDe/V9dvcHE+CJ5pM3dnxk1hVIEUisykkU0fjjQJrgDLiTFLIGWlVZLfM0bUhCljsiDK7rItO4BdZg8nvG2zBGDX16p/qBqjMyrepErl1H1ByQBCc3JA1ToSnOqwEyDavTkpNSc60Y3X36BSXba1qcMwbLWsryu7AEHm7kNj98Gs4DXOTRumMXAagLVvqa5lZX3xWf1DB/dc+1evHnASJsHv5+wl5l8TQD57UBwAspn2QAVqcpmMMYusHYZuL+ELPwnNeepYx+5Kzo1Eybs8tnDfZ3T2sd6BzVFbJ0LJygmAxP91cACegivM3QuoY6lUdqkOOppIGyOP0kOYCNgjWk/OcG3obhqyTpHzyywxcXVMXIa9cSNSsqDXwfWNKBck1xRiXSadhoOp1LVdqt6ATZoqL+syx2jDFlLWWAF50uLIHHpMoFFqBpIzHnrf0JEIn8YkP1grUfW/fl9W+u2PIgebPUvT7ilnCAs4+5DjGB90nm3kG4H1RZOKcJRMAHl7FNtfo382XQzQzNgmlwe1aBqwEaCG+0GmgdgYF7xQV586EKEjdGDzNYdyoKFGFARRMgXtgpFLovgwxsjFFgVvwR1Z6azTnOYSSGnaHQDX6RgkZxsKBdU9Sq9lHnwsgHBeIay8ySWHTV2CmnFZjHYvdbFmPyZE1lIH4RLRW8KD0a666/+0dxaHuldmvqhFi56bPh5X/12Pn4O7team3fG7t9pbKySx1+HcWgSSqYYBX7woeTBHF4+XnOMOA4WtxOqEmCA8k0fVCX7So8LKEIiZLhVHgkqBsrWv2DOkU/ToWsi4FFc2KuLquTvb5zbSxtGCwaYBTQgppqMPUrejPBQfKWVjDvAqDlylQVvKB/C5BRpKGigTzrkx/R9sM8b8N4WvfHgSBRsBVoERw+VrtZW9QZL/e2xBXDEeehZUS8RkuDvJTdCkUQMromGctiLF/QNFIGzfSPYDSWpH7u352/dRrP829v3vLFqXOXPv+xOTNmVk+unVYzuXpaTfV11//jroXr3UIWaK8l2E9PcAZcZaMMuCeAoMtnAzHlZrhmd+pUoNwKuB8LE5Vobc9xPrggpxsdHSJ91E6iugLLwbJZHHXcfNDR1ADbrIBiaJuHjpBPoTW80wJ6fmO2D7FzPQ0T/Eghw+Ld4yx6mdOuI4qrwa0SBJrviIeJ2wjT/Fwq14q9G7Utxtiy6yxlgj/386+U+peXrKmezPOTr9t2sH5q5Pa77vkhcqpNDb9izQOr6txSJQgh+8MNHDR1GObZPwY/QYP9hB8EDI9T1w3Sfg1KoC3ZT3BqA/5rA91x2xF315Q2zHqwNzxYFIHc+JMC+dyOMpca2opjcT5DlZWk5MO4qTM3P9UO78KRfw0903z+kQ1fiXI9+eVB8NDb39j94/ys0ozowdJYcBWGlRAVZcG6IedSo0OJywzelpe/F0MrHOmZN8+ej+yKaTr0YmUwVBmoDAXh4iaR2N6pjuwZHcM23gdCEr6zjyuuwjAvUUYZmholSi5xAgOff39ARs8w9Au9UxbSf5BlUPktQfNXBBetW3EA7kQE6dA3fukWGw6dTxyF6xO46h5nXIVhXqI87bc2C7nUKFHKjfX69H2xLHTj0lUn2pI0+ToPt3LsxsQLJ79GVE3apnAyyIgGcdAtNyzKIj0NIpfzvuP/iKswzEtUB2gDX5gaHUq5MbgpcCIKp/QQufkQ3XnDdf2X4Pjjjz7w3bYDF44/2Dj/99DDmcgPt7vlhqcroWnWg8PxxVUYVlpU17K2F53UKFHq3rjozaUaFQIhnX312x2R2FYNbXN9k/jWlg+Pdv/0yB5sWeZZl1SZMaCUGw/7B1Q9DuLz5enPdwH6MbT1DqXkrsWgp1v7L3rxQlRpYGRzaplRpZQbs3UEAaeMyrWf7X4tQq2uJXQA4gvXNu+Eo7KH6FvdhmtdKhQqMxaUcuPCp87jt1M7Ot8jwGeW7RyAPg208fsNtAkJZoIBVJj/pqbMWFHKjT2n2k7Agx5emaJA89scfhxP362GTsJEgv8P/HojFS6QKTMmlHIjPeMDtIohZx6OAGraFPyhokrpG5EXwZTZ881t77/lBMqMFSXcGAk/9xg8hPxL330rS0lKLcqs+NKTT+PStj3ma+mFT+YkyowVxd0YWXXvOw+jB4GGQazvqZj0C7wkNaiD+LHq3Dl/+xR6fRRpuzZfqMzYUNyNPRs0DpXq9NzrdwFu9gKUGTI+cQm9KZ67Obn0+3B1E0mHL+cNR5lRorgb6/2pqegJBS386hiIzFiJngmG4vwrt1IATE3snX33L2GOTMwdwZciZUab4m40noj3oa8n1AW+aIT85vFTaGE6Ze2Bn3eBOnDLo59qfQM6matbeBnvqcqMFsOGSmDoTUYUf/iiNwOy++d9+JbIT+82ABlaeVf81ykCgEqpYtPOQjEHsSo1kq9ISsEQ3HAxACOgUPLK9fx/ofij8ZA+oJ6BRy72bCLxinqwDy5MOfKeXcF7Ul/oJX72B4AGo//x135/0S2JYfQkZX8gSAfRotY6DIcY4s33OE4CE9Ao51ueAkqoMslJIo1F9UwYio9GMC0KInAIkp949iuBbeJpdDkLjPoDYGTlg6da6Bhc4DDr6N8UeavNkLw9AIJRldSdwzCEMjL+ji2XMCkeNVVUlYUjiTUW1TNhKD4afekHXonBLb/c0bJv+r9cWnJgEPpG+u2e119XdlWf1uFuI/I8/zdbW4sEkuMvRM0ka+BPwKzDUASgG/j1uJOwEFXnS7hCiqqysSVNjUX1TBiKL3F6Vt2o4LGaIDr3E8eb0WQXIy91Xujcmzqlwxl1CfPiI+vuK/YxD/4e08SKGDIPw4QWsYpqzqQ4kavgFTWVwx3yZElaGvHZMO1OIIqPxqk12sH6BLq9yUu/H9l6CE+emayckeVMRgaVLOn7y692vkUVeW1K6xI9Y7COJjhCBTP6OZrGh6CiK8FeGQyyaki7pRXVDGUE8zMIM0E7FXhagwNaqO4GKZ6X4E1OXd+KosotjUExc+dJ8zbJAtmYdzGgGmDWYEMcfTSBJG2N+CynNt/KiUJxN8Z7pm3bP6MT+jFITqNfci1kgh+nnl/x9ahBnS/Md2AVkbsIUpqqw/EanbMslkaHprOC+pnD/lpJV4wvHG9FXS0AEeDBaCVEp0IwIcChZKQjS85xhqpL23efBZphAFNj01nGOGnAxQyTQd8hi/2UxqhiDMT9MsCSjkZ8llNbaOfEoLgbQbLlv7/zEjU/xv+Z9s+1P8KDMcDx7KIEx9bW82trel+4YHQVGYvQG0LzdjU4qKsaR08C7ScS+NBh8GqLLxVD338f1nCPijKOZHASuQqsIRnAZwg9nXA4kUTo07uhwlBGNzV2GD5ZRBEZmgpFn3tN/OtmxUfCkWegaBscpmFpxGc5tTkbJw4l3Aiv4t1L72Q+f7pmdvVr+5EbA+d+Nm+hD/i/PXURV/36oe7u4pE4jNr4PRTkJGTsGCc71MkJMjIrilnV/B8PdiJXwSNqKhd95A55MmOzHI1mcJer3YlFKTcmxUjrPrn38e5NLx89jfZpNcTkmzemmr7+05YLTzyQlYqsUTFmkBNDwF63IobMQy60yKwXTvjMr43sRF4Fj6ipXPSRO+TJjM1yVKMzd7sTjFJuBElVyvYNynvf/NY2GboxJC469D/TXzmcfr+968XuePGhCPB+A01oug7vV2aEnnmgCJ0lZlxkYQeLBqcyWcJ83+Uk8iqgqBW4Ulp87vCLVMZUqAcSFAp/RKqCiew1vuSWZuTGKKBlQdoB3cur/gyWdDRaIT6O2olISTeCwWQy2RszjOABKQtCpBh45rs7znbv74XZ7qouSEJAXqwY9FsxTtbBcEKLGJ1UDJ+hm13tJHKxR55RU3mRS4UhTwaSdDRiPXlqJyLF940OsUurlxPQJ8bqhztnFtsmumnUcMj/JSOmCJTctVuzDr7U6qwW6YoCoAg1IYHAsX8o2t1KgFwFSBbAhWkktbsumdqfVdE+tLZas1Wl12RrFktKtQB/A2otwWiEDi7N1G5CkjmNWE+B2j9J6hdIn6zmeX7yis6l9e7CEWBFDJmHvNAiVHS/HUNlJ/IreEdN2bhDnqBkTiPWU9juhKP0pIoJzJx+SuxED7tvGnjHXTgCpISWGLAPOLQ/V3TIOnES+RX69SLvMi2NOTKuWx6UzGnEegrbnXCMYFKl2d+dRl/IAepXTejN/9XgGVrkWeHKGCW144YRuDErna41gsFgxUPfUwrCG6+AYv8MzsGzwpUxSmrHDd4/LrLqxheS6MviUNVX29Gbq6tBIYj8N1FD8axwZYyS2nGDtxup2a1fOwbWg12P7rt4/iq9CBT0b5pK4VnhyhglteOGEWwg6ue3mYkGcVdBQZkyZcqUKTMR+V+pob+zxZO21wAAAABJRU5ErkJggg==\" y=\"1\"/><rect fill=\"#FFFFFF\" height=\"205.5625\" style=\"stroke: #FFFFFF; stroke-width: 1.0;\" width=\"602\" x=\"0\" y=\"58\"/><text fill=\"#000000\" font-family=\"sans-serif\" font-size=\"12\" font-weight=\"bold\" lengthAdjust=\"spacingAndGlyphs\" textLength=\"159\" x=\"5\" y=\"74.1387\">Welcome to PlantUML!</text><text fill=\"#000000\" font-family=\"sans-serif\" font-size=\"12\" lengthAdjust=\"spacingAndGlyphs\" textLength=\"0\" x=\"9\" y=\"88.1074\"/><text fill=\"#000000\" font-family=\"sans-serif\" font-size=\"12\" lengthAdjust=\"spacingAndGlyphs\" textLength=\"293\" x=\"5\" y=\"102.0762\">If you use this software, you accept its license.</text><text fill=\"#000000\" font-family=\"sans-serif\" font-size=\"12\" lengthAdjust=\"spacingAndGlyphs\" textLength=\"107\" x=\"5\" y=\"116.0449\">(details by typing</text><text fill=\"#000000\" font-family=\"monospace\" font-size=\"12\" lengthAdjust=\"spacingAndGlyphs\" textLength=\"49\" x=\"116\" y=\"116.0449\">license</text><text fill=\"#000000\" font-family=\"sans-serif\" font-size=\"12\" lengthAdjust=\"spacingAndGlyphs\" textLength=\"56\" x=\"169\" y=\"116.0449\">keyword)</text><text fill=\"#000000\" font-family=\"sans-serif\" font-size=\"12\" lengthAdjust=\"spacingAndGlyphs\" textLength=\"0\" x=\"9\" y=\"130.0137\"/><text fill=\"#000000\" font-family=\"sans-serif\" font-size=\"12\" lengthAdjust=\"spacingAndGlyphs\" textLength=\"283\" x=\"5\" y=\"143.9824\">You can start with a simple UML Diagram like:</text><text fill=\"#000000\" font-family=\"sans-serif\" font-size=\"12\" lengthAdjust=\"spacingAndGlyphs\" textLength=\"0\" x=\"9\" y=\"157.9512\"/><text fill=\"#000000\" font-family=\"monospace\" font-size=\"12\" lengthAdjust=\"spacingAndGlyphs\" textLength=\"119\" x=\"5\" y=\"171.9199\">Bob-&gt;Alice: Hello</text><text fill=\"#000000\" font-family=\"sans-serif\" font-size=\"12\" lengthAdjust=\"spacingAndGlyphs\" textLength=\"0\" x=\"9\" y=\"185.8887\"/><text fill=\"#000000\" font-family=\"sans-serif\" font-size=\"12\" lengthAdjust=\"spacingAndGlyphs\" textLength=\"14\" x=\"5\" y=\"199.8574\">Or</text><text fill=\"#000000\" font-family=\"sans-serif\" font-size=\"12\" lengthAdjust=\"spacingAndGlyphs\" textLength=\"0\" x=\"9\" y=\"213.8262\"/><text fill=\"#000000\" font-family=\"monospace\" font-size=\"12\" lengthAdjust=\"spacingAndGlyphs\" textLength=\"91\" x=\"5\" y=\"227.7949\">class Example</text><text fill=\"#000000\" font-family=\"sans-serif\" font-size=\"12\" lengthAdjust=\"spacingAndGlyphs\" textLength=\"0\" x=\"9\" y=\"241.7637\"/><text fill=\"#000000\" font-family=\"sans-serif\" font-size=\"12\" lengthAdjust=\"spacingAndGlyphs\" textLength=\"349\" x=\"5\" y=\"255.7324\">You will find more information about PlantUML syntax on</text><text fill=\"#000000\" font-family=\"sans-serif\" font-size=\"12\" lengthAdjust=\"spacingAndGlyphs\" text-decoration=\"underline\" textLength=\"129\" x=\"358\" y=\"255.7324\">https://plantuml.com</text><image height=\"71\" width=\"80\" x=\"516\" xlink:href=\"data:image/png;base64,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\" y=\"64\"/><rect fill=\"#000000\" height=\"96.4844\" style=\"stroke: #000000; stroke-width: 1.0;\" width=\"602\" x=\"0\" y=\"263.5625\"/><rect fill=\"#33FF02\" height=\"21.2969\" style=\"stroke: #33FF02; stroke-width: 1.0;\" width=\"170\" x=\"5\" y=\"268.5625\"/><text fill=\"#000000\" font-family=\"sans-serif\" font-size=\"14\" font-weight=\"bold\" lengthAdjust=\"spacingAndGlyphs\" textLength=\"168\" x=\"6\" y=\"283.5625\">[From string (line 2) ]</text><text fill=\"#33FF02\" font-family=\"sans-serif\" font-size=\"14\" font-weight=\"bold\" lengthAdjust=\"spacingAndGlyphs\" textLength=\"0\" x=\"10\" y=\"303.8594\"/><text fill=\"#33FF02\" font-family=\"sans-serif\" font-size=\"14\" font-weight=\"bold\" lengthAdjust=\"spacingAndGlyphs\" textLength=\"79\" x=\"5\" y=\"320.1563\">@startuml</text><text fill=\"#33FF02\" font-family=\"sans-serif\" font-size=\"14\" font-weight=\"bold\" lengthAdjust=\"spacingAndGlyphs\" textLength=\"0\" x=\"10\" y=\"336.4531\"/><text fill=\"#FF0000\" font-family=\"sans-serif\" font-size=\"14\" font-weight=\"bold\" lengthAdjust=\"spacingAndGlyphs\" textLength=\"142\" x=\"10\" y=\"352.75\">Empty description</text><rect fill=\"#F6C914\" height=\"58\" style=\"stroke: #F6C914; stroke-width: 1.0;\" width=\"602\" x=\"0\" y=\"360.0469\"/><image height=\"58\" width=\"454\" x=\"1\" xlink:href=\"data:image/png;base64,iVBORw0KGgoAAAANSUhEUgAAAcYAAAA6CAMAAAAdmwnNAAADAFBMVEX2yRQ4AADTyRQ4cREAAAT2yRGKLQAAAAAZFxpikBT2yQ7TcQRiAAAALQuKrRT2kAiwUQAAUQ6wyRT2rQsAAAgYFhoYFxkZFhn2yRMYFxr2yBP2yBRiLQAALQj1yRM4UQ4ZFhqwrRT2rQ4KChoODhkVFBqwUQT/0xQICRn1yRTTkAgAAhgALQQREBr3yhP/0RMAABYMDRoCAxr/1hMCBBj90BPTkAsFBxr1yBT/3Rj/1xJicQ+KkBH/2BQAARQQDhn6zBMYFRlikBD8zhMTExkGCBn/3BT5yxMTEhn+0RMDBho4UQnTyQ//3xf1yBP/1ROKUQTTcQg4cQ44LQBicQsLCxf/2xP/2BAGBxv/1BP/1Rr4yRUAABgWExwEBxcYFRwDBBawcQTTrRQ4AAQtJxn4yhOPdhn/0BdoVxnrvxj4yxPkuxb/0hL/3xO2lhb6zhLgthYPDRWKchkpIxv/2Rn7zRL/2hb/3hQAABrxxhjDoBhiUQT2rRGwcQj/2g8mHxf/0xHDnhX5zBISEBwkHxn/4BUxKxoVEhi7lxX2yRJaShtwXhhjVBiliBj6zBRjUhcYFxf6zho6Mhj/2RJMQBpfTxocGBU+NhkQEBeHcBoXFBbRqRdRQxkDAhR9ahmKrQ+KcQQ4LQj/1hjYsBi+mRiihRcVEhv+0Rr3yxmtjxhQRBr1yhL+zxJnVBnFoxjIoxh6Yhn/1xf5yxcKDRnmvhaafhewkBdjUhz/1BFJPRmVexlzYRgXFhj0yRefhBn/4xOJchmfgRiCahq0khb3zRNyXRnitxjxxBeykxv+0RLbsxY1LRogGxz/2hP/5Rm+nBSoiRcAUQiwkBGKkBQ4cQv2kAuwkAiKkAsKBhZFPBdtWReCbxpUSBn7zxLzxhmOdBg0Lh3swhpBNxyqihZbThzowRuoixfYtBknIxWtixiDbRj/3xusjxy5mx1+ZRyVdx3uwRnovxgTEBX4zBXMpRZaTxemhBb2yRzGoRf/5x/zyRXMohJgUR1iLQSwrQ7TrQ4qcmSgAAARg0lEQVR4Xu2ceXQUx5nAq++e7jkkDZIGSSAsbowhMcYxYIIJR7xrTIyJca6Nsf3y3nodx5tsTPyyYZP12vuy+5y3MUt8bMza8e6+HE7igPG12Dy/GOGQmAVzI8CS0IEOmNHMaKanp6+tqj5mpqWZFhCttMr8/lBXV9X31Tf1dVVXdfcnAMqUKTM+oNwZQ7jpoZbGz1Vtb79JIMRBd2GZ8QHhznAzN+WrWqbq137p5LyNH3a7S8uMD7xG49z48i/vuGffmT2vvtx9/8tJd7En4bAsqIY7t8wfGS830o3L092/qTqTvf6Ogb83LtuNgp4EGqO6s4vA0NDlQm2aU+fF/LK7tBBc1535JwvpznBB/fmD/9mTfD9Onjfe07rcpZ4QiurPujOLIqApXumbzDBn3UVDwHWHg2Er3VnjnD+CxV5uNN6XNXSM9WZSl+fFDfcfBYwSCIH7fO6iYqggrQMl25Fg2AraXYj4zlZtI8fRt5FW3eEIKir6URUB/NPCBJxvmvzmCWhqQKL30sF8gTHHsrgIIWIE/VfsmraZWr347UQCgEDNPz35rruwFAxBkJJAMjF3QQkqJFLCiXDUnxrGSaGMlWBTulPXTSijwgtPIHk9Cs9EFZ6FoyyuLJBKQI9iy9xSY4lpcTGK/tB8SlwGmCzbMA3dPyseeu6Uu8wDjQG+VMKdWwImHfDBGSZQBdO07cV5BNdoV0gb2g1flOV6RvLjulBkFjcFVc+DACz860vJA+iMQX9UFvDoyGayMJdhNZw7csQhw3eYds1sgstfbYQ4H5wB0A/IpYZiWjwEUxmTHom1Hm6M3Pm5U2fhpRLkVw94VHXBsL5BQWZpjrMmfqGh0vw12DVTrkET3p0FNwaGxZ3MoX5PoBlwUhWYdY4FXXmdePTfAejIVtC4LhBq20EfWQXESVXMHRycOQU/J4HpBFepsvacC7tI1dZRsNNF6Q7z8iicsb0NA1QKFqGJeZbpCLvdPFFEWG1HDsmJqyAbau0HPb68lNNKCM73MMlZFlsqHFlLGepHS30JvHyjSb0roBeF9Ok+d1FpfCla96VgosaaMJj+BPpdEBG6pi9ZBZ21s2CpgkTgHw1NhiwIt/bLA6H2mrr8PkcOaKolUlFcl1H7I2vgcpVRBn5AvAGyBLyxwkpnrr0hbi2O8bXMKBX/kJRAOK3uQZeHPVBtvA2D5oTOsVkOiO34mrLbzRNFwKv2NgUuJXLiDNiQ8MMfkM1L5bUCoFYsiSw2dTiytjL8Qz3xcCP5wZyLb0BTeyqjDe6y0qABdSkESLnDmlcJTTQTITVQpxuwX3GOCuwbnjkGVTaDeyYcpZYleS2Qqk4HLA1ouF7curGrZ5lk1mUJoX0vHpYVBAGXxEHoRoqpEY8164w9UUHHQ7EtDC/IfnuDUtgx3oYx2tNaYAvICoTgo5S8dh1RjC8l/Bppzhd/1Z9qxTOCk3JaYbRjiUAdza4xLTZ1OLK2MtwfnnjsG1fW/MW7pwHg2I+/03LBXVgSWqdVwMu8vf1jVD5lwBUH7G9C7dd5XaFRDlx1OFWwCI3ORfnDJ/2TDwEh23jDe/V9dvcHE+CJ5pM3dnxk1hVIEUisykkU0fjjQJrgDLiTFLIGWlVZLfM0bUhCljsiDK7rItO4BdZg8nvG2zBGDX16p/qBqjMyrepErl1H1ByQBCc3JA1ToSnOqwEyDavTkpNSc60Y3X36BSXba1qcMwbLWsryu7AEHm7kNj98Gs4DXOTRumMXAagLVvqa5lZX3xWf1DB/dc+1evHnASJsHv5+wl5l8TQD57UBwAspn2QAVqcpmMMYusHYZuL+ELPwnNeepYx+5Kzo1Eybs8tnDfZ3T2sd6BzVFbJ0LJygmAxP91cACegivM3QuoY6lUdqkOOppIGyOP0kOYCNgjWk/OcG3obhqyTpHzyywxcXVMXIa9cSNSsqDXwfWNKBck1xRiXSadhoOp1LVdqt6ATZoqL+syx2jDFlLWWAF50uLIHHpMoFFqBpIzHnrf0JEIn8YkP1grUfW/fl9W+u2PIgebPUvT7ilnCAs4+5DjGB90nm3kG4H1RZOKcJRMAHl7FNtfo382XQzQzNgmlwe1aBqwEaCG+0GmgdgYF7xQV586EKEjdGDzNYdyoKFGFARRMgXtgpFLovgwxsjFFgVvwR1Z6azTnOYSSGnaHQDX6RgkZxsKBdU9Sq9lHnwsgHBeIay8ySWHTV2CmnFZjHYvdbFmPyZE1lIH4RLRW8KD0a666/+0dxaHuldmvqhFi56bPh5X/12Pn4O7team3fG7t9pbKySx1+HcWgSSqYYBX7woeTBHF4+XnOMOA4WtxOqEmCA8k0fVCX7So8LKEIiZLhVHgkqBsrWv2DOkU/ToWsi4FFc2KuLquTvb5zbSxtGCwaYBTQgppqMPUrejPBQfKWVjDvAqDlylQVvKB/C5BRpKGigTzrkx/R9sM8b8N4WvfHgSBRsBVoERw+VrtZW9QZL/e2xBXDEeehZUS8RkuDvJTdCkUQMromGctiLF/QNFIGzfSPYDSWpH7u352/dRrP829v3vLFqXOXPv+xOTNmVk+unVYzuXpaTfV11//jroXr3UIWaK8l2E9PcAZcZaMMuCeAoMtnAzHlZrhmd+pUoNwKuB8LE5Vobc9xPrggpxsdHSJ91E6iugLLwbJZHHXcfNDR1ADbrIBiaJuHjpBPoTW80wJ6fmO2D7FzPQ0T/Eghw+Ld4yx6mdOuI4qrwa0SBJrviIeJ2wjT/Fwq14q9G7Utxtiy6yxlgj/386+U+peXrKmezPOTr9t2sH5q5Pa77vkhcqpNDb9izQOr6txSJQgh+8MNHDR1GObZPwY/QYP9hB8EDI9T1w3Sfg1KoC3ZT3BqA/5rA91x2xF315Q2zHqwNzxYFIHc+JMC+dyOMpca2opjcT5DlZWk5MO4qTM3P9UO78KRfw0903z+kQ1fiXI9+eVB8NDb39j94/ys0ozowdJYcBWGlRAVZcG6IedSo0OJywzelpe/F0MrHOmZN8+ej+yKaTr0YmUwVBmoDAXh4iaR2N6pjuwZHcM23gdCEr6zjyuuwjAvUUYZmholSi5xAgOff39ARs8w9Au9UxbSf5BlUPktQfNXBBetW3EA7kQE6dA3fukWGw6dTxyF6xO46h5nXIVhXqI87bc2C7nUKFHKjfX69H2xLHTj0lUn2pI0+ToPt3LsxsQLJ79GVE3apnAyyIgGcdAtNyzKIj0NIpfzvuP/iKswzEtUB2gDX5gaHUq5MbgpcCIKp/QQufkQ3XnDdf2X4Pjjjz7w3bYDF44/2Dj/99DDmcgPt7vlhqcroWnWg8PxxVUYVlpU17K2F53UKFHq3rjozaUaFQIhnX312x2R2FYNbXN9k/jWlg+Pdv/0yB5sWeZZl1SZMaCUGw/7B1Q9DuLz5enPdwH6MbT1DqXkrsWgp1v7L3rxQlRpYGRzaplRpZQbs3UEAaeMyrWf7X4tQq2uJXQA4gvXNu+Eo7KH6FvdhmtdKhQqMxaUcuPCp87jt1M7Ot8jwGeW7RyAPg208fsNtAkJZoIBVJj/pqbMWFHKjT2n2k7Agx5emaJA89scfhxP362GTsJEgv8P/HojFS6QKTMmlHIjPeMDtIohZx6OAGraFPyhokrpG5EXwZTZ881t77/lBMqMFSXcGAk/9xg8hPxL330rS0lKLcqs+NKTT+PStj3ma+mFT+YkyowVxd0YWXXvOw+jB4GGQazvqZj0C7wkNaiD+LHq3Dl/+xR6fRRpuzZfqMzYUNyNPRs0DpXq9NzrdwFu9gKUGTI+cQm9KZ67Obn0+3B1E0mHL+cNR5lRorgb6/2pqegJBS386hiIzFiJngmG4vwrt1IATE3snX33L2GOTMwdwZciZUab4m40noj3oa8n1AW+aIT85vFTaGE6Ze2Bn3eBOnDLo59qfQM6matbeBnvqcqMFsOGSmDoTUYUf/iiNwOy++d9+JbIT+82ABlaeVf81ykCgEqpYtPOQjEHsSo1kq9ISsEQ3HAxACOgUPLK9fx/ofij8ZA+oJ6BRy72bCLxinqwDy5MOfKeXcF7Ul/oJX72B4AGo//x135/0S2JYfQkZX8gSAfRotY6DIcY4s33OE4CE9Ao51ueAkqoMslJIo1F9UwYio9GMC0KInAIkp949iuBbeJpdDkLjPoDYGTlg6da6Bhc4DDr6N8UeavNkLw9AIJRldSdwzCEMjL+ji2XMCkeNVVUlYUjiTUW1TNhKD4afekHXonBLb/c0bJv+r9cWnJgEPpG+u2e119XdlWf1uFuI/I8/zdbW4sEkuMvRM0ka+BPwKzDUASgG/j1uJOwEFXnS7hCiqqysSVNjUX1TBiKL3F6Vt2o4LGaIDr3E8eb0WQXIy91Xujcmzqlwxl1CfPiI+vuK/YxD/4e08SKGDIPw4QWsYpqzqQ4kavgFTWVwx3yZElaGvHZMO1OIIqPxqk12sH6BLq9yUu/H9l6CE+emayckeVMRgaVLOn7y692vkUVeW1K6xI9Y7COJjhCBTP6OZrGh6CiK8FeGQyyaki7pRXVDGUE8zMIM0E7FXhagwNaqO4GKZ6X4E1OXd+KosotjUExc+dJ8zbJAtmYdzGgGmDWYEMcfTSBJG2N+CynNt/KiUJxN8Z7pm3bP6MT+jFITqNfci1kgh+nnl/x9ahBnS/Md2AVkbsIUpqqw/EanbMslkaHprOC+pnD/lpJV4wvHG9FXS0AEeDBaCVEp0IwIcChZKQjS85xhqpL23efBZphAFNj01nGOGnAxQyTQd8hi/2UxqhiDMT9MsCSjkZ8llNbaOfEoLgbQbLlv7/zEjU/xv+Z9s+1P8KDMcDx7KIEx9bW82trel+4YHQVGYvQG0LzdjU4qKsaR08C7ScS+NBh8GqLLxVD338f1nCPijKOZHASuQqsIRnAZwg9nXA4kUTo07uhwlBGNzV2GD5ZRBEZmgpFn3tN/OtmxUfCkWegaBscpmFpxGc5tTkbJw4l3Aiv4t1L72Q+f7pmdvVr+5EbA+d+Nm+hD/i/PXURV/36oe7u4pE4jNr4PRTkJGTsGCc71MkJMjIrilnV/B8PdiJXwSNqKhd95A55MmOzHI1mcJer3YlFKTcmxUjrPrn38e5NLx89jfZpNcTkmzemmr7+05YLTzyQlYqsUTFmkBNDwF63IobMQy60yKwXTvjMr43sRF4Fj6ipXPSRO+TJjM1yVKMzd7sTjFJuBElVyvYNynvf/NY2GboxJC469D/TXzmcfr+968XuePGhCPB+A01oug7vV2aEnnmgCJ0lZlxkYQeLBqcyWcJ83+Uk8iqgqBW4Ulp87vCLVMZUqAcSFAp/RKqCiew1vuSWZuTGKKBlQdoB3cur/gyWdDRaIT6O2olISTeCwWQy2RszjOABKQtCpBh45rs7znbv74XZ7qouSEJAXqwY9FsxTtbBcEKLGJ1UDJ+hm13tJHKxR55RU3mRS4UhTwaSdDRiPXlqJyLF940OsUurlxPQJ8bqhztnFtsmumnUcMj/JSOmCJTctVuzDr7U6qwW6YoCoAg1IYHAsX8o2t1KgFwFSBbAhWkktbsumdqfVdE+tLZas1Wl12RrFktKtQB/A2otwWiEDi7N1G5CkjmNWE+B2j9J6hdIn6zmeX7yis6l9e7CEWBFDJmHvNAiVHS/HUNlJ/IreEdN2bhDnqBkTiPWU9juhKP0pIoJzJx+SuxED7tvGnjHXTgCpISWGLAPOLQ/V3TIOnES+RX69SLvMi2NOTKuWx6UzGnEegrbnXCMYFKl2d+dRl/IAepXTejN/9XgGVrkWeHKGCW144YRuDErna41gsFgxUPfUwrCG6+AYv8MzsGzwpUxSmrHDd4/LrLqxheS6MviUNVX29Gbq6tBIYj8N1FD8axwZYyS2nGDtxup2a1fOwbWg12P7rt4/iq9CBT0b5pK4VnhyhglteOGEWwg6ue3mYkGcVdBQZkyZcqUKTMR+V+pob+zxZO21wAAAABJRU5ErkJggg==\" y=\"361.0469\"/><!--MD5=[f59edd8218d337f74d0c332fc6737304]\n",
       "@startuml\r\n",
       " \r\n",
       "@enduml\r\n",
       "\n",
       "PlantUML version 1.2020.13(Sat Jun 13 12:26:38 UTC 2020)\n",
       "(EPL source distribution)\n",
       "Java Runtime: OpenJDK Runtime Environment\n",
       "JVM: OpenJDK 64-Bit Server VM\n",
       "Default Encoding: UTF-8\n",
       "Language: en\n",
       "Country: null\n",
       "--></g></svg>"
      ]
     },
     "execution_count": 32,
     "metadata": {},
     "output_type": "execute_result"
    }
   ],
   "source": [
    "%viz --style=\"PLANTUML\" --view=\"State\" \"QualifiedNameImportTest\""
   ]
  },
  {
   "cell_type": "code",
   "execution_count": 33,
   "id": "muslim-christianity",
   "metadata": {
    "execution": {
     "iopub.execute_input": "2021-03-26T09:15:01.869274Z",
     "iopub.status.busy": "2021-03-26T09:15:01.868680Z",
     "iopub.status.idle": "2021-03-26T09:15:01.894699Z",
     "shell.execute_reply": "2021-03-26T09:15:01.894389Z"
    }
   },
   "outputs": [
    {
     "data": {
      "image/svg+xml": [
       "<?xml version=\"1.0\" encoding=\"UTF-8\" standalone=\"no\"?><svg xmlns=\"http://www.w3.org/2000/svg\" xmlns:xlink=\"http://www.w3.org/1999/xlink\" contentScriptType=\"application/ecmascript\" contentStyleType=\"text/css\" height=\"189px\" preserveAspectRatio=\"none\" style=\"width:368px;height:189px;\" version=\"1.1\" viewBox=\"0 0 368 189\" width=\"368px\" zoomAndPan=\"magnify\"><defs><filter height=\"300%\" id=\"fn2r0ekt3a8k7\" width=\"300%\" x=\"-1\" y=\"-1\"><feGaussianBlur result=\"blurOut\" stdDeviation=\"2.0\"/><feColorMatrix in=\"blurOut\" result=\"blurOut2\" type=\"matrix\" values=\"0 0 0 0 0 0 0 0 0 0 0 0 0 0 0 0 0 0 .4 0\"/><feOffset dx=\"4.0\" dy=\"4.0\" in=\"blurOut2\" result=\"blurOut3\"/><feBlend in=\"SourceGraphic\" in2=\"blurOut3\" mode=\"normal\"/></filter></defs><g><!--MD5=[fbc87193dbaf4d95561dea2c320d4a47]\n",
       "cluster E1--><a href=\"psysml:69fab460-d5be-4945-91cf-3ca8c8123b68\" target=\"_top\" title=\"psysml:69fab460-d5be-4945-91cf-3ca8c8123b68\" xlink:actuate=\"onRequest\" xlink:href=\"psysml:69fab460-d5be-4945-91cf-3ca8c8123b68\" xlink:show=\"new\" xlink:title=\"psysml:69fab460-d5be-4945-91cf-3ca8c8123b68\" xlink:type=\"simple\"><polygon fill=\"#FFFFFF\" filter=\"url(#fn2r0ekt3a8k7)\" points=\"16,6,221,6,228,28.2969,346,28.2969,346,177,16,177,16,6\" style=\"stroke: #000000; stroke-width: 1.5;\"/><line style=\"stroke: #000000; stroke-width: 1.5;\" x1=\"16\" x2=\"228\" y1=\"28.2969\" y2=\"28.2969\"/><text fill=\"#000000\" font-family=\"sans-serif\" font-size=\"14\" font-weight=\"bold\" lengthAdjust=\"spacingAndGlyphs\" textLength=\"199\" x=\"20\" y=\"20.9951\">QualifiedNameImportTest</text></a><!--MD5=[e4f7fae6ed58524ba242bb0b0d3be6b7]\n",
       "cluster E2--><a href=\"psysml:a87ccb6a-ce8a-4667-9a31-41e6c6a1c677\" target=\"_top\" title=\"psysml:a87ccb6a-ce8a-4667-9a31-41e6c6a1c677\" xlink:actuate=\"onRequest\" xlink:href=\"psysml:a87ccb6a-ce8a-4667-9a31-41e6c6a1c677\" xlink:show=\"new\" xlink:title=\"psysml:a87ccb6a-ce8a-4667-9a31-41e6c6a1c677\" xlink:type=\"simple\"><polygon fill=\"#FFFFFF\" filter=\"url(#fn2r0ekt3a8k7)\" points=\"240,55.5,266,55.5,273,77.7969,322,77.7969,322,146.5,240,146.5,240,55.5\" style=\"stroke: #000000; stroke-width: 1.5;\"/><line style=\"stroke: #000000; stroke-width: 1.5;\" x1=\"240\" x2=\"273\" y1=\"77.7969\" y2=\"77.7969\"/><text fill=\"#000000\" font-family=\"sans-serif\" font-size=\"14\" font-weight=\"bold\" lengthAdjust=\"spacingAndGlyphs\" textLength=\"20\" x=\"244\" y=\"70.4951\">P1</text></a><!--MD5=[f6df4d0ebaf0b5dfb2ced0ae5af7c670]\n",
       "cluster E4--><a href=\"psysml:434a9cec-9a5b-4c30-bd61-ce4aa8eabf42\" target=\"_top\" title=\"psysml:434a9cec-9a5b-4c30-bd61-ce4aa8eabf42\" xlink:actuate=\"onRequest\" xlink:href=\"psysml:434a9cec-9a5b-4c30-bd61-ce4aa8eabf42\" xlink:show=\"new\" xlink:title=\"psysml:434a9cec-9a5b-4c30-bd61-ce4aa8eabf42\" xlink:type=\"simple\"><polygon fill=\"#FFFFFF\" filter=\"url(#fn2r0ekt3a8k7)\" points=\"40,49,66,49,73,71.2969,216,71.2969,216,153,40,153,40,49\" style=\"stroke: #000000; stroke-width: 1.5;\"/><line style=\"stroke: #000000; stroke-width: 1.5;\" x1=\"40\" x2=\"73\" y1=\"71.2969\" y2=\"71.2969\"/><text fill=\"#000000\" font-family=\"sans-serif\" font-size=\"14\" font-weight=\"bold\" lengthAdjust=\"spacingAndGlyphs\" textLength=\"20\" x=\"44\" y=\"63.9951\">P2</text></a><g id=\"E1.E2.E3\"><a href=\"psysml:dead2420-b34a-43f7-a875-a2c685248268\" target=\"_top\" title=\"psysml:dead2420-b34a-43f7-a875-a2c685248268\" xlink:actuate=\"onRequest\" xlink:href=\"psysml:dead2420-b34a-43f7-a875-a2c685248268\" xlink:show=\"new\" xlink:title=\"psysml:dead2420-b34a-43f7-a875-a2c685248268\" xlink:type=\"simple\"><rect fill=\"#FEFECE\" filter=\"url(#fn2r0ekt3a8k7)\" height=\"40\" id=\"E3\" style=\"stroke: #A80036; stroke-width: 1.5;\" width=\"50\" x=\"256\" y=\"90.5\"/><ellipse cx=\"275.5\" cy=\"106.5\" fill=\"#008000\" rx=\"11\" ry=\"11\" style=\"stroke: #A80036; stroke-width: 1.0;\"/><path d=\"M274.4063,106.875 L274.4063,110.5469 L276.0313,110.5469 Q277.2031,110.5469 277.6719,110.1563 Q278.1406,109.75 278.1406,108.75 Q278.1406,107.75 277.6406,107.3125 Q277.1563,106.875 276.0313,106.875 L274.4063,106.875 Z M274.4063,102.0469 L274.4063,104.9219 L276.0313,104.9219 Q276.9531,104.9219 277.3438,104.5938 Q277.75,104.25 277.75,103.5 Q277.75,102.7344 277.3438,102.3906 Q276.9375,102.0469 276.0313,102.0469 L274.4063,102.0469 Z M272.0313,100.0938 L276.0313,100.0938 Q278.0938,100.0938 279.1406,100.875 Q280.1875,101.6563 280.1875,103.2188 Q280.1875,104.4219 279.5625,105.0938 Q278.9531,105.7656 277.7656,105.875 Q279.1875,106.0156 279.9063,106.8281 Q280.625,107.6406 280.625,109.0938 Q280.625,110.8906 279.5469,111.7031 Q278.4688,112.5 276.0313,112.5 L272.0313,112.5 L272.0313,100.0938 Z \"/><text fill=\"#000000\" font-family=\"sans-serif\" font-size=\"12\" lengthAdjust=\"spacingAndGlyphs\" textLength=\"8\" x=\"290.5\" y=\"110.6543\">A</text></a></g><a href=\"psysml:0289fe7d-3512-4b15-a612-d4f3c113c698\" target=\"_top\" title=\"psysml:0289fe7d-3512-4b15-a612-d4f3c113c698\" xlink:actuate=\"onRequest\" xlink:href=\"psysml:0289fe7d-3512-4b15-a612-d4f3c113c698\" xlink:show=\"new\" xlink:title=\"psysml:0289fe7d-3512-4b15-a612-d4f3c113c698\" xlink:type=\"simple\"><polygon fill=\"#FFFFFF\" filter=\"url(#fn2r0ekt3a8k7)\" points=\"150.5,84,185.5,84,192.5,106.2969,199.5,106.2969,199.5,136.5938,150.5,136.5938,150.5,84\" style=\"stroke: #000000; stroke-width: 1.5;\"/><line style=\"stroke: #000000; stroke-width: 1.5;\" x1=\"150.5\" x2=\"192.5\" y1=\"106.2969\" y2=\"106.2969\"/><text fill=\"#000000\" font-family=\"sans-serif\" font-size=\"14\" font-weight=\"bold\" lengthAdjust=\"spacingAndGlyphs\" textLength=\"29\" x=\"154.5\" y=\"98.9951\">P2a</text></a><g id=\"E1.E4.E6\"><a href=\"psysml:febc5459-2ebe-4c36-9a31-624278ca958f\" target=\"_top\" title=\"psysml:febc5459-2ebe-4c36-9a31-624278ca958f\" xlink:actuate=\"onRequest\" xlink:href=\"psysml:febc5459-2ebe-4c36-9a31-624278ca958f\" xlink:show=\"new\" xlink:title=\"psysml:febc5459-2ebe-4c36-9a31-624278ca958f\" xlink:type=\"simple\"><rect fill=\"#FEFECE\" filter=\"url(#fn2r0ekt3a8k7)\" height=\"40\" id=\"E6\" rx=\"10\" ry=\"10\" style=\"stroke: #A80036; stroke-width: 1.5;\" width=\"59\" x=\"56.5\" y=\"90.5\"/><ellipse cx=\"73.75\" cy=\"106.5\" fill=\"#B6DBBB\" rx=\"11\" ry=\"11\" style=\"stroke: #A80036; stroke-width: 1.0;\"/><path d=\"M69.625,108.4219 L69.625,100.6094 L72.0781,100.6094 L72.0781,109.0469 Q72.0781,109.9688 72.5469,110.5 Q73.0313,111.0313 73.8594,111.0313 Q74.7031,111.0313 75.1719,110.5 Q75.6406,109.9688 75.6406,109.0469 L75.6406,100.6094 L78.0938,100.6094 L78.0938,108.4219 Q78.0938,110.9531 77.0938,112.0938 Q76.0938,113.2344 73.8594,113.2344 Q71.6406,113.2344 70.625,112.0938 Q69.625,110.9531 69.625,108.4219 Z \"/><text fill=\"#000000\" font-family=\"sans-serif\" font-size=\"12\" lengthAdjust=\"spacingAndGlyphs\" textLength=\"22\" x=\"88.25\" y=\"110.6543\">x: A</text></a></g><!--MD5=[149b713afab4a5e8f3aba8fd8bd9fd2a]\n",
       "@startuml\r\n",
       "skinparam ranksep 8\r\n",
       "skinparam rectangle {\r\n",
       " backgroundColor<<block>> LightGreen\r\n",
       "}\r\n",
       " \r\n",
       "package \"QualifiedNameImportTest\" as E1  [[psysml:69fab460-d5be-4945-91cf-3ca8c8123b68 ]]  {\r\n",
       "package \"P1\" as E2  [[psysml:a87ccb6a-ce8a-4667-9a31-41e6c6a1c677 ]]  {\r\n",
       "rec def \"A\" as E3  << (B,green) >> [[psysml:dead2420-b34a-43f7-a875-a2c685248268 ]] {\r\n",
       "}\r\n",
       "}\r\n",
       "package \"P2\" as E4  [[psysml:434a9cec-9a5b-4c30-bd61-ce4aa8eabf42 ]]  {\r\n",
       "package \"P2a\" as E5  [[psysml:0289fe7d-3512-4b15-a612-d4f3c113c698 ]]  {\r\n",
       "}\r\n",
       "rec usage \"x: A\" as E6  [[psysml:febc5459-2ebe-4c36-9a31-624278ca958f ]] {\r\n",
       "}\r\n",
       "}\r\n",
       "}\r\n",
       "@enduml\r\n",
       "\n",
       "PlantUML version 1.2020.13(Sat Jun 13 12:26:38 UTC 2020)\n",
       "(EPL source distribution)\n",
       "Java Runtime: OpenJDK Runtime Environment\n",
       "JVM: OpenJDK 64-Bit Server VM\n",
       "Default Encoding: UTF-8\n",
       "Language: en\n",
       "Country: null\n",
       "--></g></svg>"
      ]
     },
     "execution_count": 33,
     "metadata": {},
     "output_type": "execute_result"
    }
   ],
   "source": [
    "%viz --style=\"PLANTUML\" --view=\"Interconnection\" \"QualifiedNameImportTest\""
   ]
  },
  {
   "cell_type": "code",
   "execution_count": 34,
   "id": "great-terrain",
   "metadata": {
    "execution": {
     "iopub.execute_input": "2021-03-26T09:15:01.946640Z",
     "iopub.status.busy": "2021-03-26T09:15:01.946090Z",
     "iopub.status.idle": "2021-03-26T09:15:01.951272Z",
     "shell.execute_reply": "2021-03-26T09:15:01.950860Z"
    }
   },
   "outputs": [
    {
     "data": {
      "image/svg+xml": [
       "<?xml version=\"1.0\" encoding=\"UTF-8\" standalone=\"no\"?><svg xmlns=\"http://www.w3.org/2000/svg\" xmlns:xlink=\"http://www.w3.org/1999/xlink\" contentScriptType=\"application/ecmascript\" contentStyleType=\"text/css\" height=\"12px\" preserveAspectRatio=\"none\" style=\"width:12px;height:12px;\" version=\"1.1\" viewBox=\"0 0 12 12\" width=\"12px\" zoomAndPan=\"magnify\"><defs/><g><!--MD5=[6a4cb978cab31700e1ce5529f947a75d]\n",
       "@startuml\r\n",
       "skinparam ranksep 8\r\n",
       " \r\n",
       "@enduml\r\n",
       "\n",
       "PlantUML version 1.2020.13(Sat Jun 13 12:26:38 UTC 2020)\n",
       "(EPL source distribution)\n",
       "Java Runtime: OpenJDK Runtime Environment\n",
       "JVM: OpenJDK 64-Bit Server VM\n",
       "Default Encoding: UTF-8\n",
       "Language: en\n",
       "Country: null\n",
       "--></g></svg>"
      ]
     },
     "execution_count": 34,
     "metadata": {},
     "output_type": "execute_result"
    }
   ],
   "source": [
    "%viz --style=\"PLANTUML\" --view=\"Action\" \"QualifiedNameImportTest\""
   ]
  },
  {
   "cell_type": "code",
   "execution_count": 35,
   "id": "vital-oxford",
   "metadata": {
    "execution": {
     "iopub.execute_input": "2021-03-26T09:15:02.004364Z",
     "iopub.status.busy": "2021-03-26T09:15:02.003556Z",
     "iopub.status.idle": "2021-03-26T09:15:02.032365Z",
     "shell.execute_reply": "2021-03-26T09:15:02.030941Z"
    }
   },
   "outputs": [
    {
     "data": {
      "image/svg+xml": [
       "<?xml version=\"1.0\" encoding=\"UTF-8\" standalone=\"no\"?><svg xmlns=\"http://www.w3.org/2000/svg\" xmlns:xlink=\"http://www.w3.org/1999/xlink\" contentScriptType=\"application/ecmascript\" contentStyleType=\"text/css\" height=\"304px\" preserveAspectRatio=\"none\" style=\"width:271px;height:304px;\" version=\"1.1\" viewBox=\"0 0 271 304\" width=\"271px\" zoomAndPan=\"magnify\"><defs><filter height=\"300%\" id=\"f1tk8su2zih1r2\" width=\"300%\" x=\"-1\" y=\"-1\"><feGaussianBlur result=\"blurOut\" stdDeviation=\"2.0\"/><feColorMatrix in=\"blurOut\" result=\"blurOut2\" type=\"matrix\" values=\"0 0 0 0 0 0 0 0 0 0 0 0 0 0 0 0 0 0 .4 0\"/><feOffset dx=\"4.0\" dy=\"4.0\" in=\"blurOut2\" result=\"blurOut3\"/><feBlend in=\"SourceGraphic\" in2=\"blurOut3\" mode=\"normal\"/></filter></defs><g><!--MD5=[fbc87193dbaf4d95561dea2c320d4a47]\n",
       "cluster E1--><a href=\"psysml:69fab460-d5be-4945-91cf-3ca8c8123b68\" target=\"_top\" title=\"psysml:69fab460-d5be-4945-91cf-3ca8c8123b68\" xlink:actuate=\"onRequest\" xlink:href=\"psysml:69fab460-d5be-4945-91cf-3ca8c8123b68\" xlink:show=\"new\" xlink:title=\"psysml:69fab460-d5be-4945-91cf-3ca8c8123b68\" xlink:type=\"simple\"><polygon fill=\"#FFFFFF\" filter=\"url(#f1tk8su2zih1r2)\" points=\"16,6,221,6,228,28.2969,249,28.2969,249,292,16,292,16,6\" style=\"stroke: #000000; stroke-width: 1.5;\"/><line style=\"stroke: #000000; stroke-width: 1.5;\" x1=\"16\" x2=\"228\" y1=\"28.2969\" y2=\"28.2969\"/><text fill=\"#000000\" font-family=\"sans-serif\" font-size=\"14\" font-weight=\"bold\" lengthAdjust=\"spacingAndGlyphs\" textLength=\"199\" x=\"20\" y=\"20.9951\">QualifiedNameImportTest</text></a><!--MD5=[e4f7fae6ed58524ba242bb0b0d3be6b7]\n",
       "cluster E2--><a href=\"psysml:a87ccb6a-ce8a-4667-9a31-41e6c6a1c677\" target=\"_top\" title=\"psysml:a87ccb6a-ce8a-4667-9a31-41e6c6a1c677\" xlink:actuate=\"onRequest\" xlink:href=\"psysml:a87ccb6a-ce8a-4667-9a31-41e6c6a1c677\" xlink:show=\"new\" xlink:title=\"psysml:a87ccb6a-ce8a-4667-9a31-41e6c6a1c677\" xlink:type=\"simple\"><polygon fill=\"#FFFFFF\" filter=\"url(#f1tk8su2zih1r2)\" points=\"139,177,165,177,172,199.2969,211,199.2969,211,268,139,268,139,177\" style=\"stroke: #000000; stroke-width: 1.5;\"/><line style=\"stroke: #000000; stroke-width: 1.5;\" x1=\"139\" x2=\"172\" y1=\"199.2969\" y2=\"199.2969\"/><text fill=\"#000000\" font-family=\"sans-serif\" font-size=\"14\" font-weight=\"bold\" lengthAdjust=\"spacingAndGlyphs\" textLength=\"20\" x=\"143\" y=\"191.9951\">P1</text></a><!--MD5=[f6df4d0ebaf0b5dfb2ced0ae5af7c670]\n",
       "cluster E4--><a href=\"psysml:434a9cec-9a5b-4c30-bd61-ce4aa8eabf42\" target=\"_top\" title=\"psysml:434a9cec-9a5b-4c30-bd61-ce4aa8eabf42\" xlink:actuate=\"onRequest\" xlink:href=\"psysml:434a9cec-9a5b-4c30-bd61-ce4aa8eabf42\" xlink:show=\"new\" xlink:title=\"psysml:434a9cec-9a5b-4c30-bd61-ce4aa8eabf42\" xlink:type=\"simple\"><polygon fill=\"#FFFFFF\" filter=\"url(#f1tk8su2zih1r2)\" points=\"40,49,66,49,73,71.2969,225,71.2969,225,153,40,153,40,49\" style=\"stroke: #000000; stroke-width: 1.5;\"/><line style=\"stroke: #000000; stroke-width: 1.5;\" x1=\"40\" x2=\"73\" y1=\"71.2969\" y2=\"71.2969\"/><text fill=\"#000000\" font-family=\"sans-serif\" font-size=\"14\" font-weight=\"bold\" lengthAdjust=\"spacingAndGlyphs\" textLength=\"20\" x=\"44\" y=\"63.9951\">P2</text></a><!--MD5=[09b614a08d8cba4a07c9adeb5e0fee81]\n",
       "class E3--><a href=\"psysml:dead2420-b34a-43f7-a875-a2c685248268\" target=\"_top\" title=\"psysml:dead2420-b34a-43f7-a875-a2c685248268\" xlink:actuate=\"onRequest\" xlink:href=\"psysml:dead2420-b34a-43f7-a875-a2c685248268\" xlink:show=\"new\" xlink:title=\"psysml:dead2420-b34a-43f7-a875-a2c685248268\" xlink:type=\"simple\"><rect fill=\"#FEFECE\" filter=\"url(#f1tk8su2zih1r2)\" height=\"40\" id=\"E3\" style=\"stroke: #A80036; stroke-width: 1.5;\" width=\"40\" x=\"155\" y=\"212\"/><ellipse cx=\"170\" cy=\"228\" fill=\"#008000\" rx=\"11\" ry=\"11\" style=\"stroke: #A80036; stroke-width: 1.0;\"/><path d=\"M168.9063,228.375 L168.9063,232.0469 L170.5313,232.0469 Q171.7031,232.0469 172.1719,231.6563 Q172.6406,231.25 172.6406,230.25 Q172.6406,229.25 172.1406,228.8125 Q171.6563,228.375 170.5313,228.375 L168.9063,228.375 Z M168.9063,223.5469 L168.9063,226.4219 L170.5313,226.4219 Q171.4531,226.4219 171.8438,226.0938 Q172.25,225.75 172.25,225 Q172.25,224.2344 171.8438,223.8906 Q171.4375,223.5469 170.5313,223.5469 L168.9063,223.5469 Z M166.5313,221.5938 L170.5313,221.5938 Q172.5938,221.5938 173.6406,222.375 Q174.6875,223.1563 174.6875,224.7188 Q174.6875,225.9219 174.0625,226.5938 Q173.4531,227.2656 172.2656,227.375 Q173.6875,227.5156 174.4063,228.3281 Q175.125,229.1406 175.125,230.5938 Q175.125,232.3906 174.0469,233.2031 Q172.9688,234 170.5313,234 L166.5313,234 L166.5313,221.5938 Z \"/><text fill=\"#000000\" font-family=\"sans-serif\" font-size=\"12\" lengthAdjust=\"spacingAndGlyphs\" textLength=\"8\" x=\"184\" y=\"232.1543\">A</text><line style=\"stroke: #A80036; stroke-width: 1.5;\" x1=\"156\" x2=\"194\" y1=\"244\" y2=\"244\"/></a><!--MD5=[60a26617385b1d2d0262a64233df1f8d]\n",
       "class E6--><a href=\"psysml:febc5459-2ebe-4c36-9a31-624278ca958f\" target=\"_top\" title=\"psysml:febc5459-2ebe-4c36-9a31-624278ca958f\" xlink:actuate=\"onRequest\" xlink:href=\"psysml:febc5459-2ebe-4c36-9a31-624278ca958f\" xlink:show=\"new\" xlink:title=\"psysml:febc5459-2ebe-4c36-9a31-624278ca958f\" xlink:type=\"simple\"><rect fill=\"#FEFECE\" filter=\"url(#f1tk8su2zih1r2)\" height=\"45.9375\" id=\"E6\" rx=\"10\" ry=\"10\" style=\"stroke: #A80036; stroke-width: 1.5;\" width=\"68\" x=\"141\" y=\"87.5\"/><ellipse cx=\"156\" cy=\"106.4688\" fill=\"#32CD32\" rx=\"11\" ry=\"11\" style=\"stroke: #A80036; stroke-width: 1.0;\"/><path d=\"M155.7969,102.1406 L155.7969,105.7656 L156.7969,105.7656 Q158,105.7656 158.4844,105.3594 Q158.9688,104.9531 158.9688,103.9531 Q158.9688,102.9531 158.4844,102.5469 Q158,102.1406 156.7969,102.1406 L155.7969,102.1406 Z M153.3438,100.0781 L156.7031,100.0781 Q159.2656,100.0781 160.3906,101 Q161.5156,101.9063 161.5156,103.9531 Q161.5156,106 160.3906,106.9219 Q159.2656,107.8281 156.7031,107.8281 L155.7969,107.8281 L155.7969,112.4688 L153.3438,112.4688 L153.3438,100.0781 Z \"/><text fill=\"#000000\" font-family=\"sans-serif\" font-size=\"12\" font-style=\"italic\" lengthAdjust=\"spacingAndGlyphs\" textLength=\"40\" x=\"168\" y=\"103.6387\">«part»</text><text fill=\"#000000\" font-family=\"sans-serif\" font-size=\"12\" lengthAdjust=\"spacingAndGlyphs\" textLength=\"22\" x=\"177\" y=\"117.6074\">x: A</text><line style=\"stroke: #A80036; stroke-width: 1.5;\" x1=\"142\" x2=\"208\" y1=\"125.4375\" y2=\"125.4375\"/></a><a href=\"psysml:0289fe7d-3512-4b15-a612-d4f3c113c698\" target=\"_top\" title=\"psysml:0289fe7d-3512-4b15-a612-d4f3c113c698\" xlink:actuate=\"onRequest\" xlink:href=\"psysml:0289fe7d-3512-4b15-a612-d4f3c113c698\" xlink:show=\"new\" xlink:title=\"psysml:0289fe7d-3512-4b15-a612-d4f3c113c698\" xlink:type=\"simple\"><polygon fill=\"#FFFFFF\" filter=\"url(#f1tk8su2zih1r2)\" points=\"56.5,84,91.5,84,98.5,106.2969,105.5,106.2969,105.5,136.5938,56.5,136.5938,56.5,84\" style=\"stroke: #000000; stroke-width: 1.5;\"/><line style=\"stroke: #000000; stroke-width: 1.5;\" x1=\"56.5\" x2=\"98.5\" y1=\"106.2969\" y2=\"106.2969\"/><text fill=\"#000000\" font-family=\"sans-serif\" font-size=\"14\" font-weight=\"bold\" lengthAdjust=\"spacingAndGlyphs\" textLength=\"29\" x=\"60.5\" y=\"98.9951\">P2a</text></a><!--MD5=[a717450b82c80b9240a525fa862496af]\n",
       "link E6 to E3--><a href=\"psysml:a41f4e21-5f48-4d30-b801-3db99d3a1abc\" target=\"_top\" title=\"psysml:a41f4e21-5f48-4d30-b801-3db99d3a1abc\" xlink:actuate=\"onRequest\" xlink:href=\"psysml:a41f4e21-5f48-4d30-b801-3db99d3a1abc\" xlink:show=\"new\" xlink:title=\"psysml:a41f4e21-5f48-4d30-b801-3db99d3a1abc\" xlink:type=\"simple\"><path d=\"M175,133.7 C175,149.89 175,172.27 175,191.49 \" fill=\"none\" id=\"E6-&gt;E3\" style=\"stroke: #A80036; stroke-width: 1.0;\"/><polygon fill=\"#FFFFFF\" points=\"175,211.69,168,192.69,182,192.69,175,211.69\" style=\"stroke: #A80036; stroke-width: 1.0;\"/><ellipse cx=\"170\" cy=\"186.99\" fill=\"#A80036\" rx=\"2\" ry=\"2\" style=\"stroke: #A80036; stroke-width: 1.0;\"/><ellipse cx=\"180\" cy=\"186.99\" fill=\"#A80036\" rx=\"2\" ry=\"2\" style=\"stroke: #A80036; stroke-width: 1.0;\"/></a><!--MD5=[3109ffb419a865630edee744259f3ef1]\n",
       "@startuml\r\n",
       " \r\n",
       "package \"QualifiedNameImportTest\" as E1  [[psysml:69fab460-d5be-4945-91cf-3ca8c8123b68 ]]  {\r\n",
       "package \"P1\" as E2  [[psysml:a87ccb6a-ce8a-4667-9a31-41e6c6a1c677 ]]  {\r\n",
       "comp def \"A\" as E3  << (B,green) >> [[psysml:dead2420-b34a-43f7-a875-a2c685248268 ]] {\r\n",
       "}\r\n",
       "}\r\n",
       "package \"P2\" as E4  [[psysml:434a9cec-9a5b-4c30-bd61-ce4aa8eabf42 ]]  {\r\n",
       "package \"P2a\" as E5  [[psysml:0289fe7d-3512-4b15-a612-d4f3c113c698 ]]  {\r\n",
       "}\r\n",
       "comp usage \"x: A\" as E6  << (P,limegreen) part>> [[psysml:febc5459-2ebe-4c36-9a31-624278ca958f ]] {\r\n",
       "}\r\n",
       "E6 - -:|> E3 [[psysml:a41f4e21-5f48-4d30-b801-3db99d3a1abc ]] \r\n",
       "}\r\n",
       "}\r\n",
       "@enduml\r\n",
       "\n",
       "PlantUML version 1.2020.13(Sat Jun 13 12:26:38 UTC 2020)\n",
       "(EPL source distribution)\n",
       "Java Runtime: OpenJDK Runtime Environment\n",
       "JVM: OpenJDK 64-Bit Server VM\n",
       "Default Encoding: UTF-8\n",
       "Language: en\n",
       "Country: null\n",
       "--></g></svg>"
      ]
     },
     "execution_count": 35,
     "metadata": {},
     "output_type": "execute_result"
    }
   ],
   "source": [
    "%viz --style=\"PLANTUML\" --view=\"Sequence\" \"QualifiedNameImportTest\""
   ]
  },
  {
   "cell_type": "code",
   "execution_count": 36,
   "id": "quick-insulin",
   "metadata": {
    "execution": {
     "iopub.execute_input": "2021-03-26T09:15:02.084882Z",
     "iopub.status.busy": "2021-03-26T09:15:02.083441Z",
     "iopub.status.idle": "2021-03-26T09:15:02.111887Z",
     "shell.execute_reply": "2021-03-26T09:15:02.110698Z"
    }
   },
   "outputs": [
    {
     "data": {
      "image/svg+xml": [
       "<?xml version=\"1.0\" encoding=\"UTF-8\" standalone=\"no\"?><svg xmlns=\"http://www.w3.org/2000/svg\" xmlns:xlink=\"http://www.w3.org/1999/xlink\" contentScriptType=\"application/ecmascript\" contentStyleType=\"text/css\" height=\"304px\" preserveAspectRatio=\"none\" style=\"width:271px;height:304px;\" version=\"1.1\" viewBox=\"0 0 271 304\" width=\"271px\" zoomAndPan=\"magnify\"><defs><filter height=\"300%\" id=\"f1tk8su2zih1r2\" width=\"300%\" x=\"-1\" y=\"-1\"><feGaussianBlur result=\"blurOut\" stdDeviation=\"2.0\"/><feColorMatrix in=\"blurOut\" result=\"blurOut2\" type=\"matrix\" values=\"0 0 0 0 0 0 0 0 0 0 0 0 0 0 0 0 0 0 .4 0\"/><feOffset dx=\"4.0\" dy=\"4.0\" in=\"blurOut2\" result=\"blurOut3\"/><feBlend in=\"SourceGraphic\" in2=\"blurOut3\" mode=\"normal\"/></filter></defs><g><!--MD5=[fbc87193dbaf4d95561dea2c320d4a47]\n",
       "cluster E1--><a href=\"psysml:69fab460-d5be-4945-91cf-3ca8c8123b68\" target=\"_top\" title=\"psysml:69fab460-d5be-4945-91cf-3ca8c8123b68\" xlink:actuate=\"onRequest\" xlink:href=\"psysml:69fab460-d5be-4945-91cf-3ca8c8123b68\" xlink:show=\"new\" xlink:title=\"psysml:69fab460-d5be-4945-91cf-3ca8c8123b68\" xlink:type=\"simple\"><polygon fill=\"#FFFFFF\" filter=\"url(#f1tk8su2zih1r2)\" points=\"16,6,221,6,228,28.2969,249,28.2969,249,292,16,292,16,6\" style=\"stroke: #000000; stroke-width: 1.5;\"/><line style=\"stroke: #000000; stroke-width: 1.5;\" x1=\"16\" x2=\"228\" y1=\"28.2969\" y2=\"28.2969\"/><text fill=\"#000000\" font-family=\"sans-serif\" font-size=\"14\" font-weight=\"bold\" lengthAdjust=\"spacingAndGlyphs\" textLength=\"199\" x=\"20\" y=\"20.9951\">QualifiedNameImportTest</text></a><!--MD5=[e4f7fae6ed58524ba242bb0b0d3be6b7]\n",
       "cluster E2--><a href=\"psysml:a87ccb6a-ce8a-4667-9a31-41e6c6a1c677\" target=\"_top\" title=\"psysml:a87ccb6a-ce8a-4667-9a31-41e6c6a1c677\" xlink:actuate=\"onRequest\" xlink:href=\"psysml:a87ccb6a-ce8a-4667-9a31-41e6c6a1c677\" xlink:show=\"new\" xlink:title=\"psysml:a87ccb6a-ce8a-4667-9a31-41e6c6a1c677\" xlink:type=\"simple\"><polygon fill=\"#FFFFFF\" filter=\"url(#f1tk8su2zih1r2)\" points=\"139,177,165,177,172,199.2969,211,199.2969,211,268,139,268,139,177\" style=\"stroke: #000000; stroke-width: 1.5;\"/><line style=\"stroke: #000000; stroke-width: 1.5;\" x1=\"139\" x2=\"172\" y1=\"199.2969\" y2=\"199.2969\"/><text fill=\"#000000\" font-family=\"sans-serif\" font-size=\"14\" font-weight=\"bold\" lengthAdjust=\"spacingAndGlyphs\" textLength=\"20\" x=\"143\" y=\"191.9951\">P1</text></a><!--MD5=[f6df4d0ebaf0b5dfb2ced0ae5af7c670]\n",
       "cluster E4--><a href=\"psysml:434a9cec-9a5b-4c30-bd61-ce4aa8eabf42\" target=\"_top\" title=\"psysml:434a9cec-9a5b-4c30-bd61-ce4aa8eabf42\" xlink:actuate=\"onRequest\" xlink:href=\"psysml:434a9cec-9a5b-4c30-bd61-ce4aa8eabf42\" xlink:show=\"new\" xlink:title=\"psysml:434a9cec-9a5b-4c30-bd61-ce4aa8eabf42\" xlink:type=\"simple\"><polygon fill=\"#FFFFFF\" filter=\"url(#f1tk8su2zih1r2)\" points=\"40,49,66,49,73,71.2969,225,71.2969,225,153,40,153,40,49\" style=\"stroke: #000000; stroke-width: 1.5;\"/><line style=\"stroke: #000000; stroke-width: 1.5;\" x1=\"40\" x2=\"73\" y1=\"71.2969\" y2=\"71.2969\"/><text fill=\"#000000\" font-family=\"sans-serif\" font-size=\"14\" font-weight=\"bold\" lengthAdjust=\"spacingAndGlyphs\" textLength=\"20\" x=\"44\" y=\"63.9951\">P2</text></a><!--MD5=[09b614a08d8cba4a07c9adeb5e0fee81]\n",
       "class E3--><a href=\"psysml:dead2420-b34a-43f7-a875-a2c685248268\" target=\"_top\" title=\"psysml:dead2420-b34a-43f7-a875-a2c685248268\" xlink:actuate=\"onRequest\" xlink:href=\"psysml:dead2420-b34a-43f7-a875-a2c685248268\" xlink:show=\"new\" xlink:title=\"psysml:dead2420-b34a-43f7-a875-a2c685248268\" xlink:type=\"simple\"><rect fill=\"#FEFECE\" filter=\"url(#f1tk8su2zih1r2)\" height=\"40\" id=\"E3\" style=\"stroke: #A80036; stroke-width: 1.5;\" width=\"40\" x=\"155\" y=\"212\"/><ellipse cx=\"170\" cy=\"228\" fill=\"#008000\" rx=\"11\" ry=\"11\" style=\"stroke: #A80036; stroke-width: 1.0;\"/><path d=\"M168.9063,228.375 L168.9063,232.0469 L170.5313,232.0469 Q171.7031,232.0469 172.1719,231.6563 Q172.6406,231.25 172.6406,230.25 Q172.6406,229.25 172.1406,228.8125 Q171.6563,228.375 170.5313,228.375 L168.9063,228.375 Z M168.9063,223.5469 L168.9063,226.4219 L170.5313,226.4219 Q171.4531,226.4219 171.8438,226.0938 Q172.25,225.75 172.25,225 Q172.25,224.2344 171.8438,223.8906 Q171.4375,223.5469 170.5313,223.5469 L168.9063,223.5469 Z M166.5313,221.5938 L170.5313,221.5938 Q172.5938,221.5938 173.6406,222.375 Q174.6875,223.1563 174.6875,224.7188 Q174.6875,225.9219 174.0625,226.5938 Q173.4531,227.2656 172.2656,227.375 Q173.6875,227.5156 174.4063,228.3281 Q175.125,229.1406 175.125,230.5938 Q175.125,232.3906 174.0469,233.2031 Q172.9688,234 170.5313,234 L166.5313,234 L166.5313,221.5938 Z \"/><text fill=\"#000000\" font-family=\"sans-serif\" font-size=\"12\" lengthAdjust=\"spacingAndGlyphs\" textLength=\"8\" x=\"184\" y=\"232.1543\">A</text><line style=\"stroke: #A80036; stroke-width: 1.5;\" x1=\"156\" x2=\"194\" y1=\"244\" y2=\"244\"/></a><!--MD5=[60a26617385b1d2d0262a64233df1f8d]\n",
       "class E6--><a href=\"psysml:febc5459-2ebe-4c36-9a31-624278ca958f\" target=\"_top\" title=\"psysml:febc5459-2ebe-4c36-9a31-624278ca958f\" xlink:actuate=\"onRequest\" xlink:href=\"psysml:febc5459-2ebe-4c36-9a31-624278ca958f\" xlink:show=\"new\" xlink:title=\"psysml:febc5459-2ebe-4c36-9a31-624278ca958f\" xlink:type=\"simple\"><rect fill=\"#FEFECE\" filter=\"url(#f1tk8su2zih1r2)\" height=\"45.9375\" id=\"E6\" rx=\"10\" ry=\"10\" style=\"stroke: #A80036; stroke-width: 1.5;\" width=\"68\" x=\"141\" y=\"87.5\"/><ellipse cx=\"156\" cy=\"106.4688\" fill=\"#32CD32\" rx=\"11\" ry=\"11\" style=\"stroke: #A80036; stroke-width: 1.0;\"/><path d=\"M155.7969,102.1406 L155.7969,105.7656 L156.7969,105.7656 Q158,105.7656 158.4844,105.3594 Q158.9688,104.9531 158.9688,103.9531 Q158.9688,102.9531 158.4844,102.5469 Q158,102.1406 156.7969,102.1406 L155.7969,102.1406 Z M153.3438,100.0781 L156.7031,100.0781 Q159.2656,100.0781 160.3906,101 Q161.5156,101.9063 161.5156,103.9531 Q161.5156,106 160.3906,106.9219 Q159.2656,107.8281 156.7031,107.8281 L155.7969,107.8281 L155.7969,112.4688 L153.3438,112.4688 L153.3438,100.0781 Z \"/><text fill=\"#000000\" font-family=\"sans-serif\" font-size=\"12\" font-style=\"italic\" lengthAdjust=\"spacingAndGlyphs\" textLength=\"40\" x=\"168\" y=\"103.6387\">«part»</text><text fill=\"#000000\" font-family=\"sans-serif\" font-size=\"12\" lengthAdjust=\"spacingAndGlyphs\" textLength=\"22\" x=\"177\" y=\"117.6074\">x: A</text><line style=\"stroke: #A80036; stroke-width: 1.5;\" x1=\"142\" x2=\"208\" y1=\"125.4375\" y2=\"125.4375\"/></a><a href=\"psysml:0289fe7d-3512-4b15-a612-d4f3c113c698\" target=\"_top\" title=\"psysml:0289fe7d-3512-4b15-a612-d4f3c113c698\" xlink:actuate=\"onRequest\" xlink:href=\"psysml:0289fe7d-3512-4b15-a612-d4f3c113c698\" xlink:show=\"new\" xlink:title=\"psysml:0289fe7d-3512-4b15-a612-d4f3c113c698\" xlink:type=\"simple\"><polygon fill=\"#FFFFFF\" filter=\"url(#f1tk8su2zih1r2)\" points=\"56.5,84,91.5,84,98.5,106.2969,105.5,106.2969,105.5,136.5938,56.5,136.5938,56.5,84\" style=\"stroke: #000000; stroke-width: 1.5;\"/><line style=\"stroke: #000000; stroke-width: 1.5;\" x1=\"56.5\" x2=\"98.5\" y1=\"106.2969\" y2=\"106.2969\"/><text fill=\"#000000\" font-family=\"sans-serif\" font-size=\"14\" font-weight=\"bold\" lengthAdjust=\"spacingAndGlyphs\" textLength=\"29\" x=\"60.5\" y=\"98.9951\">P2a</text></a><!--MD5=[a717450b82c80b9240a525fa862496af]\n",
       "link E6 to E3--><a href=\"psysml:a41f4e21-5f48-4d30-b801-3db99d3a1abc\" target=\"_top\" title=\"psysml:a41f4e21-5f48-4d30-b801-3db99d3a1abc\" xlink:actuate=\"onRequest\" xlink:href=\"psysml:a41f4e21-5f48-4d30-b801-3db99d3a1abc\" xlink:show=\"new\" xlink:title=\"psysml:a41f4e21-5f48-4d30-b801-3db99d3a1abc\" xlink:type=\"simple\"><path d=\"M175,133.7 C175,149.89 175,172.27 175,191.49 \" fill=\"none\" id=\"E6-&gt;E3\" style=\"stroke: #A80036; stroke-width: 1.0;\"/><polygon fill=\"#FFFFFF\" points=\"175,211.69,168,192.69,182,192.69,175,211.69\" style=\"stroke: #A80036; stroke-width: 1.0;\"/><ellipse cx=\"170\" cy=\"186.99\" fill=\"#A80036\" rx=\"2\" ry=\"2\" style=\"stroke: #A80036; stroke-width: 1.0;\"/><ellipse cx=\"180\" cy=\"186.99\" fill=\"#A80036\" rx=\"2\" ry=\"2\" style=\"stroke: #A80036; stroke-width: 1.0;\"/></a><!--MD5=[3109ffb419a865630edee744259f3ef1]\n",
       "@startuml\r\n",
       " \r\n",
       "package \"QualifiedNameImportTest\" as E1  [[psysml:69fab460-d5be-4945-91cf-3ca8c8123b68 ]]  {\r\n",
       "package \"P1\" as E2  [[psysml:a87ccb6a-ce8a-4667-9a31-41e6c6a1c677 ]]  {\r\n",
       "comp def \"A\" as E3  << (B,green) >> [[psysml:dead2420-b34a-43f7-a875-a2c685248268 ]] {\r\n",
       "}\r\n",
       "}\r\n",
       "package \"P2\" as E4  [[psysml:434a9cec-9a5b-4c30-bd61-ce4aa8eabf42 ]]  {\r\n",
       "package \"P2a\" as E5  [[psysml:0289fe7d-3512-4b15-a612-d4f3c113c698 ]]  {\r\n",
       "}\r\n",
       "comp usage \"x: A\" as E6  << (P,limegreen) part>> [[psysml:febc5459-2ebe-4c36-9a31-624278ca958f ]] {\r\n",
       "}\r\n",
       "E6 - -:|> E3 [[psysml:a41f4e21-5f48-4d30-b801-3db99d3a1abc ]] \r\n",
       "}\r\n",
       "}\r\n",
       "@enduml\r\n",
       "\n",
       "PlantUML version 1.2020.13(Sat Jun 13 12:26:38 UTC 2020)\n",
       "(EPL source distribution)\n",
       "Java Runtime: OpenJDK Runtime Environment\n",
       "JVM: OpenJDK 64-Bit Server VM\n",
       "Default Encoding: UTF-8\n",
       "Language: en\n",
       "Country: null\n",
       "--></g></svg>"
      ]
     },
     "execution_count": 36,
     "metadata": {},
     "output_type": "execute_result"
    }
   ],
   "source": [
    "%viz --style=\"PLANTUML\" --view=\"MIXED\" \"QualifiedNameImportTest\""
   ]
  },
  {
   "cell_type": "code",
   "execution_count": 37,
   "id": "polished-southeast",
   "metadata": {
    "execution": {
     "iopub.execute_input": "2021-03-26T09:15:02.163638Z",
     "iopub.status.busy": "2021-03-26T09:15:02.162941Z",
     "iopub.status.idle": "2021-03-26T09:15:02.188985Z",
     "shell.execute_reply": "2021-03-26T09:15:02.187793Z"
    }
   },
   "outputs": [
    {
     "data": {
      "image/svg+xml": [
       "<?xml version=\"1.0\" encoding=\"UTF-8\" standalone=\"no\"?><svg xmlns=\"http://www.w3.org/2000/svg\" xmlns:xlink=\"http://www.w3.org/1999/xlink\" contentScriptType=\"application/ecmascript\" contentStyleType=\"text/css\" height=\"310px\" preserveAspectRatio=\"none\" style=\"width:253px;height:310px;\" version=\"1.1\" viewBox=\"0 0 253 310\" width=\"253px\" zoomAndPan=\"magnify\"><defs/><g><!--MD5=[fbc87193dbaf4d95561dea2c320d4a47]\n",
       "cluster E1--><a href=\"psysml:69fab460-d5be-4945-91cf-3ca8c8123b68\" target=\"_top\" title=\"psysml:69fab460-d5be-4945-91cf-3ca8c8123b68\" xlink:actuate=\"onRequest\" xlink:href=\"psysml:69fab460-d5be-4945-91cf-3ca8c8123b68\" xlink:show=\"new\" xlink:title=\"psysml:69fab460-d5be-4945-91cf-3ca8c8123b68\" xlink:type=\"simple\"><polygon fill=\"#FFFFFF\" points=\"16,6,221,6,228,28.2969,231,28.2969,231,298,16,298,16,6\" style=\"stroke: #000000; stroke-width: 1.5;\"/><line style=\"stroke: #000000; stroke-width: 1.5;\" x1=\"16\" x2=\"228\" y1=\"28.2969\" y2=\"28.2969\"/><text fill=\"#000000\" font-family=\"sans-serif\" font-size=\"14\" font-weight=\"bold\" lengthAdjust=\"spacingAndGlyphs\" textLength=\"199\" x=\"20\" y=\"20.9951\">QualifiedNameImportTest</text></a><!--MD5=[e4f7fae6ed58524ba242bb0b0d3be6b7]\n",
       "cluster E2--><a href=\"psysml:a87ccb6a-ce8a-4667-9a31-41e6c6a1c677\" target=\"_top\" title=\"psysml:a87ccb6a-ce8a-4667-9a31-41e6c6a1c677\" xlink:actuate=\"onRequest\" xlink:href=\"psysml:a87ccb6a-ce8a-4667-9a31-41e6c6a1c677\" xlink:show=\"new\" xlink:title=\"psysml:a87ccb6a-ce8a-4667-9a31-41e6c6a1c677\" xlink:type=\"simple\"><polygon fill=\"#FFFFFF\" points=\"105,177,131,177,138,199.2969,203,199.2969,203,274,105,274,105,177\" style=\"stroke: #000000; stroke-width: 1.5;\"/><line style=\"stroke: #000000; stroke-width: 1.5;\" x1=\"105\" x2=\"138\" y1=\"199.2969\" y2=\"199.2969\"/><text fill=\"#000000\" font-family=\"sans-serif\" font-size=\"14\" font-weight=\"bold\" lengthAdjust=\"spacingAndGlyphs\" textLength=\"20\" x=\"109\" y=\"191.9951\">P1</text></a><!--MD5=[f6df4d0ebaf0b5dfb2ced0ae5af7c670]\n",
       "cluster E4--><a href=\"psysml:434a9cec-9a5b-4c30-bd61-ce4aa8eabf42\" target=\"_top\" title=\"psysml:434a9cec-9a5b-4c30-bd61-ce4aa8eabf42\" xlink:actuate=\"onRequest\" xlink:href=\"psysml:434a9cec-9a5b-4c30-bd61-ce4aa8eabf42\" xlink:show=\"new\" xlink:title=\"psysml:434a9cec-9a5b-4c30-bd61-ce4aa8eabf42\" xlink:type=\"simple\"><polygon fill=\"#FFFFFF\" points=\"44,49,70,49,77,71.2969,203,71.2969,203,153,44,153,44,49\" style=\"stroke: #000000; stroke-width: 1.5;\"/><line style=\"stroke: #000000; stroke-width: 1.5;\" x1=\"44\" x2=\"77\" y1=\"71.2969\" y2=\"71.2969\"/><text fill=\"#000000\" font-family=\"sans-serif\" font-size=\"14\" font-weight=\"bold\" lengthAdjust=\"spacingAndGlyphs\" textLength=\"20\" x=\"48\" y=\"63.9951\">P2</text></a><!--MD5=[09b614a08d8cba4a07c9adeb5e0fee81]\n",
       "class E3--><a href=\"psysml:dead2420-b34a-43f7-a875-a2c685248268\" target=\"_top\" title=\"psysml:dead2420-b34a-43f7-a875-a2c685248268\" xlink:actuate=\"onRequest\" xlink:href=\"psysml:dead2420-b34a-43f7-a875-a2c685248268\" xlink:show=\"new\" xlink:title=\"psysml:dead2420-b34a-43f7-a875-a2c685248268\" xlink:type=\"simple\"><rect fill=\"#FFFFFF\" height=\"45.9375\" id=\"E3\" style=\"stroke: #383838; stroke-width: 1.5;\" width=\"66\" x=\"121\" y=\"212\"/><text fill=\"#000000\" font-family=\"sans-serif\" font-size=\"12\" font-style=\"italic\" lengthAdjust=\"spacingAndGlyphs\" textLength=\"64\" x=\"122\" y=\"228.1387\">«part def»</text><text fill=\"#000000\" font-family=\"sans-serif\" font-size=\"12\" lengthAdjust=\"spacingAndGlyphs\" textLength=\"8\" x=\"150\" y=\"242.1074\">A</text><line style=\"stroke: #383838; stroke-width: 1.5;\" x1=\"122\" x2=\"186\" y1=\"249.9375\" y2=\"249.9375\"/></a><!--MD5=[60a26617385b1d2d0262a64233df1f8d]\n",
       "class E6--><a href=\"psysml:febc5459-2ebe-4c36-9a31-624278ca958f\" target=\"_top\" title=\"psysml:febc5459-2ebe-4c36-9a31-624278ca958f\" xlink:actuate=\"onRequest\" xlink:href=\"psysml:febc5459-2ebe-4c36-9a31-624278ca958f\" xlink:show=\"new\" xlink:title=\"psysml:febc5459-2ebe-4c36-9a31-624278ca958f\" xlink:type=\"simple\"><rect fill=\"#FFFFFF\" height=\"45.9375\" id=\"E6\" rx=\"10\" ry=\"10\" style=\"stroke: #383838; stroke-width: 1.5;\" width=\"42\" x=\"145\" y=\"87.5\"/><text fill=\"#000000\" font-family=\"sans-serif\" font-size=\"12\" font-style=\"italic\" lengthAdjust=\"spacingAndGlyphs\" textLength=\"40\" x=\"146\" y=\"103.6387\">«part»</text><text fill=\"#000000\" font-family=\"sans-serif\" font-size=\"12\" lengthAdjust=\"spacingAndGlyphs\" textLength=\"22\" x=\"155\" y=\"117.6074\">x: A</text><line style=\"stroke: #383838; stroke-width: 1.5;\" x1=\"146\" x2=\"186\" y1=\"125.4375\" y2=\"125.4375\"/></a><a href=\"psysml:0289fe7d-3512-4b15-a612-d4f3c113c698\" target=\"_top\" title=\"psysml:0289fe7d-3512-4b15-a612-d4f3c113c698\" xlink:actuate=\"onRequest\" xlink:href=\"psysml:0289fe7d-3512-4b15-a612-d4f3c113c698\" xlink:show=\"new\" xlink:title=\"psysml:0289fe7d-3512-4b15-a612-d4f3c113c698\" xlink:type=\"simple\"><polygon fill=\"#FFFFFF\" points=\"60.5,84,95.5,84,102.5,106.2969,109.5,106.2969,109.5,136.5938,60.5,136.5938,60.5,84\" style=\"stroke: #000000; stroke-width: 1.5;\"/><line style=\"stroke: #000000; stroke-width: 1.5;\" x1=\"60.5\" x2=\"102.5\" y1=\"106.2969\" y2=\"106.2969\"/><text fill=\"#000000\" font-family=\"sans-serif\" font-size=\"14\" font-weight=\"bold\" lengthAdjust=\"spacingAndGlyphs\" textLength=\"29\" x=\"64.5\" y=\"98.9951\">P2a</text></a><!--MD5=[a717450b82c80b9240a525fa862496af]\n",
       "link E6 to E3--><a href=\"psysml:a41f4e21-5f48-4d30-b801-3db99d3a1abc\" target=\"_top\" title=\"psysml:a41f4e21-5f48-4d30-b801-3db99d3a1abc\" xlink:actuate=\"onRequest\" xlink:href=\"psysml:a41f4e21-5f48-4d30-b801-3db99d3a1abc\" xlink:show=\"new\" xlink:title=\"psysml:a41f4e21-5f48-4d30-b801-3db99d3a1abc\" xlink:type=\"simple\"><path d=\"M163.83,133.68 C162.24,149.9 160.04,172.39 158.12,191.96 \" fill=\"none\" id=\"E6-&gt;E3\" style=\"stroke: #383838; stroke-width: 1.0;\"/><polygon fill=\"#FFFFFF\" points=\"156.16,211.98,151.0533,192.3861,164.986,193.7564,156.16,211.98\" style=\"stroke: #383838; stroke-width: 1.0;\"/><ellipse cx=\"153.6016\" cy=\"186.9092\" fill=\"#383838\" rx=\"2\" ry=\"2\" style=\"stroke: #383838; stroke-width: 1.0;\"/><ellipse cx=\"163.5535\" cy=\"187.888\" fill=\"#383838\" rx=\"2\" ry=\"2\" style=\"stroke: #383838; stroke-width: 1.0;\"/></a><!--MD5=[eeda65d83e176281ba2e8813b957963c]\n",
       "@startuml\r\n",
       "skinparam monochrome true\r\n",
       "skinparam classbackgroundcolor white\r\n",
       "skinparam shadowing false\r\n",
       "skinparam wrapWidth 300\r\n",
       "hide circle\r\n",
       "\r\n",
       "package \"QualifiedNameImportTest\" as E1  [[psysml:69fab460-d5be-4945-91cf-3ca8c8123b68 ]]  {\r\n",
       "package \"P1\" as E2  [[psysml:a87ccb6a-ce8a-4667-9a31-41e6c6a1c677 ]]  {\r\n",
       "comp def \"A\" as E3  <<(T,blue)part def>> [[psysml:dead2420-b34a-43f7-a875-a2c685248268 ]] {\r\n",
       "}\r\n",
       "}\r\n",
       "package \"P2\" as E4  [[psysml:434a9cec-9a5b-4c30-bd61-ce4aa8eabf42 ]]  {\r\n",
       "package \"P2a\" as E5  [[psysml:0289fe7d-3512-4b15-a612-d4f3c113c698 ]]  {\r\n",
       "}\r\n",
       "comp usage \"x: A\" as E6  <<(T,blue)part>> [[psysml:febc5459-2ebe-4c36-9a31-624278ca958f ]] {\r\n",
       "}\r\n",
       "E6 - -:|> E3 [[psysml:a41f4e21-5f48-4d30-b801-3db99d3a1abc ]] \r\n",
       "}\r\n",
       "}\r\n",
       "@enduml\r\n",
       "\n",
       "PlantUML version 1.2020.13(Sat Jun 13 12:26:38 UTC 2020)\n",
       "(EPL source distribution)\n",
       "Java Runtime: OpenJDK Runtime Environment\n",
       "JVM: OpenJDK 64-Bit Server VM\n",
       "Default Encoding: UTF-8\n",
       "Language: en\n",
       "Country: null\n",
       "--></g></svg>"
      ]
     },
     "execution_count": 37,
     "metadata": {},
     "output_type": "execute_result"
    }
   ],
   "source": [
    "%viz --style=\"DEFAULT\" --view=\"Default\" \"QualifiedNameImportTest\""
   ]
  },
  {
   "cell_type": "code",
   "execution_count": 38,
   "id": "fiscal-danger",
   "metadata": {
    "execution": {
     "iopub.execute_input": "2021-03-26T09:15:02.239461Z",
     "iopub.status.busy": "2021-03-26T09:15:02.239019Z",
     "iopub.status.idle": "2021-03-26T09:15:02.263415Z",
     "shell.execute_reply": "2021-03-26T09:15:02.261919Z"
    }
   },
   "outputs": [
    {
     "data": {
      "image/svg+xml": [
       "<?xml version=\"1.0\" encoding=\"UTF-8\" standalone=\"no\"?><svg xmlns=\"http://www.w3.org/2000/svg\" xmlns:xlink=\"http://www.w3.org/1999/xlink\" contentScriptType=\"application/ecmascript\" contentStyleType=\"text/css\" height=\"310px\" preserveAspectRatio=\"none\" style=\"width:253px;height:310px;\" version=\"1.1\" viewBox=\"0 0 253 310\" width=\"253px\" zoomAndPan=\"magnify\"><defs/><g><!--MD5=[fbc87193dbaf4d95561dea2c320d4a47]\n",
       "cluster E1--><a href=\"psysml:69fab460-d5be-4945-91cf-3ca8c8123b68\" target=\"_top\" title=\"psysml:69fab460-d5be-4945-91cf-3ca8c8123b68\" xlink:actuate=\"onRequest\" xlink:href=\"psysml:69fab460-d5be-4945-91cf-3ca8c8123b68\" xlink:show=\"new\" xlink:title=\"psysml:69fab460-d5be-4945-91cf-3ca8c8123b68\" xlink:type=\"simple\"><polygon fill=\"#FFFFFF\" points=\"16,6,221,6,228,28.2969,231,28.2969,231,298,16,298,16,6\" style=\"stroke: #000000; stroke-width: 1.5;\"/><line style=\"stroke: #000000; stroke-width: 1.5;\" x1=\"16\" x2=\"228\" y1=\"28.2969\" y2=\"28.2969\"/><text fill=\"#000000\" font-family=\"sans-serif\" font-size=\"14\" font-weight=\"bold\" lengthAdjust=\"spacingAndGlyphs\" textLength=\"199\" x=\"20\" y=\"20.9951\">QualifiedNameImportTest</text></a><!--MD5=[e4f7fae6ed58524ba242bb0b0d3be6b7]\n",
       "cluster E2--><a href=\"psysml:a87ccb6a-ce8a-4667-9a31-41e6c6a1c677\" target=\"_top\" title=\"psysml:a87ccb6a-ce8a-4667-9a31-41e6c6a1c677\" xlink:actuate=\"onRequest\" xlink:href=\"psysml:a87ccb6a-ce8a-4667-9a31-41e6c6a1c677\" xlink:show=\"new\" xlink:title=\"psysml:a87ccb6a-ce8a-4667-9a31-41e6c6a1c677\" xlink:type=\"simple\"><polygon fill=\"#FFFFFF\" points=\"105,177,131,177,138,199.2969,203,199.2969,203,274,105,274,105,177\" style=\"stroke: #000000; stroke-width: 1.5;\"/><line style=\"stroke: #000000; stroke-width: 1.5;\" x1=\"105\" x2=\"138\" y1=\"199.2969\" y2=\"199.2969\"/><text fill=\"#000000\" font-family=\"sans-serif\" font-size=\"14\" font-weight=\"bold\" lengthAdjust=\"spacingAndGlyphs\" textLength=\"20\" x=\"109\" y=\"191.9951\">P1</text></a><!--MD5=[f6df4d0ebaf0b5dfb2ced0ae5af7c670]\n",
       "cluster E4--><a href=\"psysml:434a9cec-9a5b-4c30-bd61-ce4aa8eabf42\" target=\"_top\" title=\"psysml:434a9cec-9a5b-4c30-bd61-ce4aa8eabf42\" xlink:actuate=\"onRequest\" xlink:href=\"psysml:434a9cec-9a5b-4c30-bd61-ce4aa8eabf42\" xlink:show=\"new\" xlink:title=\"psysml:434a9cec-9a5b-4c30-bd61-ce4aa8eabf42\" xlink:type=\"simple\"><polygon fill=\"#FFFFFF\" points=\"44,49,70,49,77,71.2969,203,71.2969,203,153,44,153,44,49\" style=\"stroke: #000000; stroke-width: 1.5;\"/><line style=\"stroke: #000000; stroke-width: 1.5;\" x1=\"44\" x2=\"77\" y1=\"71.2969\" y2=\"71.2969\"/><text fill=\"#000000\" font-family=\"sans-serif\" font-size=\"14\" font-weight=\"bold\" lengthAdjust=\"spacingAndGlyphs\" textLength=\"20\" x=\"48\" y=\"63.9951\">P2</text></a><!--MD5=[09b614a08d8cba4a07c9adeb5e0fee81]\n",
       "class E3--><a href=\"psysml:dead2420-b34a-43f7-a875-a2c685248268\" target=\"_top\" title=\"psysml:dead2420-b34a-43f7-a875-a2c685248268\" xlink:actuate=\"onRequest\" xlink:href=\"psysml:dead2420-b34a-43f7-a875-a2c685248268\" xlink:show=\"new\" xlink:title=\"psysml:dead2420-b34a-43f7-a875-a2c685248268\" xlink:type=\"simple\"><rect fill=\"#FFFFFF\" height=\"45.9375\" id=\"E3\" style=\"stroke: #383838; stroke-width: 1.5;\" width=\"66\" x=\"121\" y=\"212\"/><text fill=\"#000000\" font-family=\"sans-serif\" font-size=\"12\" font-style=\"italic\" lengthAdjust=\"spacingAndGlyphs\" textLength=\"64\" x=\"122\" y=\"228.1387\">«part def»</text><text fill=\"#000000\" font-family=\"sans-serif\" font-size=\"12\" lengthAdjust=\"spacingAndGlyphs\" textLength=\"8\" x=\"150\" y=\"242.1074\">A</text><line style=\"stroke: #383838; stroke-width: 1.5;\" x1=\"122\" x2=\"186\" y1=\"249.9375\" y2=\"249.9375\"/></a><!--MD5=[60a26617385b1d2d0262a64233df1f8d]\n",
       "class E6--><a href=\"psysml:febc5459-2ebe-4c36-9a31-624278ca958f\" target=\"_top\" title=\"psysml:febc5459-2ebe-4c36-9a31-624278ca958f\" xlink:actuate=\"onRequest\" xlink:href=\"psysml:febc5459-2ebe-4c36-9a31-624278ca958f\" xlink:show=\"new\" xlink:title=\"psysml:febc5459-2ebe-4c36-9a31-624278ca958f\" xlink:type=\"simple\"><rect fill=\"#FFFFFF\" height=\"45.9375\" id=\"E6\" rx=\"10\" ry=\"10\" style=\"stroke: #383838; stroke-width: 1.5;\" width=\"42\" x=\"145\" y=\"87.5\"/><text fill=\"#000000\" font-family=\"sans-serif\" font-size=\"12\" font-style=\"italic\" lengthAdjust=\"spacingAndGlyphs\" textLength=\"40\" x=\"146\" y=\"103.6387\">«part»</text><text fill=\"#000000\" font-family=\"sans-serif\" font-size=\"12\" lengthAdjust=\"spacingAndGlyphs\" textLength=\"22\" x=\"155\" y=\"117.6074\">x: A</text><line style=\"stroke: #383838; stroke-width: 1.5;\" x1=\"146\" x2=\"186\" y1=\"125.4375\" y2=\"125.4375\"/></a><a href=\"psysml:0289fe7d-3512-4b15-a612-d4f3c113c698\" target=\"_top\" title=\"psysml:0289fe7d-3512-4b15-a612-d4f3c113c698\" xlink:actuate=\"onRequest\" xlink:href=\"psysml:0289fe7d-3512-4b15-a612-d4f3c113c698\" xlink:show=\"new\" xlink:title=\"psysml:0289fe7d-3512-4b15-a612-d4f3c113c698\" xlink:type=\"simple\"><polygon fill=\"#FFFFFF\" points=\"60.5,84,95.5,84,102.5,106.2969,109.5,106.2969,109.5,136.5938,60.5,136.5938,60.5,84\" style=\"stroke: #000000; stroke-width: 1.5;\"/><line style=\"stroke: #000000; stroke-width: 1.5;\" x1=\"60.5\" x2=\"102.5\" y1=\"106.2969\" y2=\"106.2969\"/><text fill=\"#000000\" font-family=\"sans-serif\" font-size=\"14\" font-weight=\"bold\" lengthAdjust=\"spacingAndGlyphs\" textLength=\"29\" x=\"64.5\" y=\"98.9951\">P2a</text></a><!--MD5=[a717450b82c80b9240a525fa862496af]\n",
       "link E6 to E3--><a href=\"psysml:a41f4e21-5f48-4d30-b801-3db99d3a1abc\" target=\"_top\" title=\"psysml:a41f4e21-5f48-4d30-b801-3db99d3a1abc\" xlink:actuate=\"onRequest\" xlink:href=\"psysml:a41f4e21-5f48-4d30-b801-3db99d3a1abc\" xlink:show=\"new\" xlink:title=\"psysml:a41f4e21-5f48-4d30-b801-3db99d3a1abc\" xlink:type=\"simple\"><path d=\"M163.83,133.68 C162.24,149.9 160.04,172.39 158.12,191.96 \" fill=\"none\" id=\"E6-&gt;E3\" style=\"stroke: #383838; stroke-width: 1.0;\"/><polygon fill=\"#FFFFFF\" points=\"156.16,211.98,151.0533,192.3861,164.986,193.7564,156.16,211.98\" style=\"stroke: #383838; stroke-width: 1.0;\"/><ellipse cx=\"153.6016\" cy=\"186.9092\" fill=\"#383838\" rx=\"2\" ry=\"2\" style=\"stroke: #383838; stroke-width: 1.0;\"/><ellipse cx=\"163.5535\" cy=\"187.888\" fill=\"#383838\" rx=\"2\" ry=\"2\" style=\"stroke: #383838; stroke-width: 1.0;\"/></a><!--MD5=[eeda65d83e176281ba2e8813b957963c]\n",
       "@startuml\r\n",
       "skinparam monochrome true\r\n",
       "skinparam classbackgroundcolor white\r\n",
       "skinparam shadowing false\r\n",
       "skinparam wrapWidth 300\r\n",
       "hide circle\r\n",
       "\r\n",
       "package \"QualifiedNameImportTest\" as E1  [[psysml:69fab460-d5be-4945-91cf-3ca8c8123b68 ]]  {\r\n",
       "package \"P1\" as E2  [[psysml:a87ccb6a-ce8a-4667-9a31-41e6c6a1c677 ]]  {\r\n",
       "comp def \"A\" as E3  <<(T,blue)part def>> [[psysml:dead2420-b34a-43f7-a875-a2c685248268 ]] {\r\n",
       "}\r\n",
       "}\r\n",
       "package \"P2\" as E4  [[psysml:434a9cec-9a5b-4c30-bd61-ce4aa8eabf42 ]]  {\r\n",
       "package \"P2a\" as E5  [[psysml:0289fe7d-3512-4b15-a612-d4f3c113c698 ]]  {\r\n",
       "}\r\n",
       "comp usage \"x: A\" as E6  <<(T,blue)part>> [[psysml:febc5459-2ebe-4c36-9a31-624278ca958f ]] {\r\n",
       "}\r\n",
       "E6 - -:|> E3 [[psysml:a41f4e21-5f48-4d30-b801-3db99d3a1abc ]] \r\n",
       "}\r\n",
       "}\r\n",
       "@enduml\r\n",
       "\n",
       "PlantUML version 1.2020.13(Sat Jun 13 12:26:38 UTC 2020)\n",
       "(EPL source distribution)\n",
       "Java Runtime: OpenJDK Runtime Environment\n",
       "JVM: OpenJDK 64-Bit Server VM\n",
       "Default Encoding: UTF-8\n",
       "Language: en\n",
       "Country: null\n",
       "--></g></svg>"
      ]
     },
     "execution_count": 38,
     "metadata": {},
     "output_type": "execute_result"
    }
   ],
   "source": [
    "%viz --style=\"DEFAULT\" --view=\"Tree\" \"QualifiedNameImportTest\""
   ]
  },
  {
   "cell_type": "code",
   "execution_count": 39,
   "id": "printable-firmware",
   "metadata": {
    "execution": {
     "iopub.execute_input": "2021-03-26T09:15:02.315496Z",
     "iopub.status.busy": "2021-03-26T09:15:02.315074Z",
     "iopub.status.idle": "2021-03-26T09:15:02.321152Z",
     "shell.execute_reply": "2021-03-26T09:15:02.320828Z"
    }
   },
   "outputs": [
    {
     "data": {
      "image/svg+xml": [
       "<?xml version=\"1.0\" encoding=\"UTF-8\" standalone=\"no\"?><svg xmlns=\"http://www.w3.org/2000/svg\" xmlns:xlink=\"http://www.w3.org/1999/xlink\" contentScriptType=\"application/ecmascript\" contentStyleType=\"text/css\" height=\"12px\" preserveAspectRatio=\"none\" style=\"width:12px;height:12px;\" version=\"1.1\" viewBox=\"0 0 12 12\" width=\"12px\" zoomAndPan=\"magnify\"><defs/><g><!--MD5=[c5f280e076d0d61ccf4b0f27871bda1d]\n",
       "@startuml\r\n",
       "skinparam monochrome true\r\n",
       "skinparam classbackgroundcolor white\r\n",
       "skinparam shadowing false\r\n",
       "skinparam wrapWidth 300\r\n",
       "hide circle\r\n",
       "\r\n",
       "@enduml\r\n",
       "\n",
       "PlantUML version 1.2020.13(Sat Jun 13 12:26:38 UTC 2020)\n",
       "(EPL source distribution)\n",
       "Java Runtime: OpenJDK Runtime Environment\n",
       "JVM: OpenJDK 64-Bit Server VM\n",
       "Default Encoding: UTF-8\n",
       "Language: en\n",
       "Country: null\n",
       "--></g></svg>"
      ]
     },
     "execution_count": 39,
     "metadata": {},
     "output_type": "execute_result"
    }
   ],
   "source": [
    "%viz --style=\"DEFAULT\" --view=\"State\" \"QualifiedNameImportTest\""
   ]
  },
  {
   "cell_type": "code",
   "execution_count": 40,
   "id": "frequent-potential",
   "metadata": {
    "execution": {
     "iopub.execute_input": "2021-03-26T09:15:02.370332Z",
     "iopub.status.busy": "2021-03-26T09:15:02.369984Z",
     "iopub.status.idle": "2021-03-26T09:15:02.404701Z",
     "shell.execute_reply": "2021-03-26T09:15:02.403464Z"
    }
   },
   "outputs": [
    {
     "data": {
      "image/svg+xml": [
       "<?xml version=\"1.0\" encoding=\"UTF-8\" standalone=\"no\"?><svg xmlns=\"http://www.w3.org/2000/svg\" xmlns:xlink=\"http://www.w3.org/1999/xlink\" contentScriptType=\"application/ecmascript\" contentStyleType=\"text/css\" height=\"189px\" preserveAspectRatio=\"none\" style=\"width:381px;height:189px;\" version=\"1.1\" viewBox=\"0 0 381 189\" width=\"381px\" zoomAndPan=\"magnify\"><defs/><g><!--MD5=[fbc87193dbaf4d95561dea2c320d4a47]\n",
       "cluster E1--><a href=\"psysml:69fab460-d5be-4945-91cf-3ca8c8123b68\" target=\"_top\" title=\"psysml:69fab460-d5be-4945-91cf-3ca8c8123b68\" xlink:actuate=\"onRequest\" xlink:href=\"psysml:69fab460-d5be-4945-91cf-3ca8c8123b68\" xlink:show=\"new\" xlink:title=\"psysml:69fab460-d5be-4945-91cf-3ca8c8123b68\" xlink:type=\"simple\"><polygon fill=\"#FFFFFF\" points=\"16,6,221,6,228,28.2969,359,28.2969,359,177,16,177,16,6\" style=\"stroke: #000000; stroke-width: 1.5;\"/><line style=\"stroke: #000000; stroke-width: 1.5;\" x1=\"16\" x2=\"228\" y1=\"28.2969\" y2=\"28.2969\"/><text fill=\"#000000\" font-family=\"sans-serif\" font-size=\"14\" font-weight=\"bold\" lengthAdjust=\"spacingAndGlyphs\" textLength=\"199\" x=\"20\" y=\"20.9951\">QualifiedNameImportTest</text></a><!--MD5=[e4f7fae6ed58524ba242bb0b0d3be6b7]\n",
       "cluster E2--><a href=\"psysml:a87ccb6a-ce8a-4667-9a31-41e6c6a1c677\" target=\"_top\" title=\"psysml:a87ccb6a-ce8a-4667-9a31-41e6c6a1c677\" xlink:actuate=\"onRequest\" xlink:href=\"psysml:a87ccb6a-ce8a-4667-9a31-41e6c6a1c677\" xlink:show=\"new\" xlink:title=\"psysml:a87ccb6a-ce8a-4667-9a31-41e6c6a1c677\" xlink:type=\"simple\"><polygon fill=\"#FFFFFF\" points=\"231,54,257,54,264,76.2969,335,76.2969,335,148,231,148,231,54\" style=\"stroke: #000000; stroke-width: 1.5;\"/><line style=\"stroke: #000000; stroke-width: 1.5;\" x1=\"231\" x2=\"264\" y1=\"76.2969\" y2=\"76.2969\"/><text fill=\"#000000\" font-family=\"sans-serif\" font-size=\"14\" font-weight=\"bold\" lengthAdjust=\"spacingAndGlyphs\" textLength=\"20\" x=\"235\" y=\"68.9951\">P1</text></a><!--MD5=[f6df4d0ebaf0b5dfb2ced0ae5af7c670]\n",
       "cluster E4--><a href=\"psysml:434a9cec-9a5b-4c30-bd61-ce4aa8eabf42\" target=\"_top\" title=\"psysml:434a9cec-9a5b-4c30-bd61-ce4aa8eabf42\" xlink:actuate=\"onRequest\" xlink:href=\"psysml:434a9cec-9a5b-4c30-bd61-ce4aa8eabf42\" xlink:show=\"new\" xlink:title=\"psysml:434a9cec-9a5b-4c30-bd61-ce4aa8eabf42\" xlink:type=\"simple\"><polygon fill=\"#FFFFFF\" points=\"40,49,66,49,73,71.2969,207,71.2969,207,153,40,153,40,49\" style=\"stroke: #000000; stroke-width: 1.5;\"/><line style=\"stroke: #000000; stroke-width: 1.5;\" x1=\"40\" x2=\"73\" y1=\"71.2969\" y2=\"71.2969\"/><text fill=\"#000000\" font-family=\"sans-serif\" font-size=\"14\" font-weight=\"bold\" lengthAdjust=\"spacingAndGlyphs\" textLength=\"20\" x=\"44\" y=\"63.9951\">P2</text></a><g id=\"E1.E2.E3\"><a href=\"psysml:dead2420-b34a-43f7-a875-a2c685248268\" target=\"_top\" title=\"psysml:dead2420-b34a-43f7-a875-a2c685248268\" xlink:actuate=\"onRequest\" xlink:href=\"psysml:dead2420-b34a-43f7-a875-a2c685248268\" xlink:show=\"new\" xlink:title=\"psysml:dead2420-b34a-43f7-a875-a2c685248268\" xlink:type=\"simple\"><rect fill=\"#FFFFFF\" height=\"42.9375\" id=\"E3\" style=\"stroke: #383838; stroke-width: 1.5;\" width=\"71\" x=\"247.5\" y=\"89\"/><rect fill=\"#F8F8F8\" height=\"37.9375\" style=\"stroke: #383838; stroke-width: 1.5;\" width=\"71\" x=\"247.5\" y=\"89\"/><text fill=\"#000000\" font-family=\"sans-serif\" font-size=\"12\" font-style=\"italic\" lengthAdjust=\"spacingAndGlyphs\" textLength=\"64\" x=\"251\" y=\"105.1387\">«part def»</text><text fill=\"#000000\" font-family=\"sans-serif\" font-size=\"12\" lengthAdjust=\"spacingAndGlyphs\" textLength=\"8\" x=\"279\" y=\"119.1074\">A</text></a></g><a href=\"psysml:0289fe7d-3512-4b15-a612-d4f3c113c698\" target=\"_top\" title=\"psysml:0289fe7d-3512-4b15-a612-d4f3c113c698\" xlink:actuate=\"onRequest\" xlink:href=\"psysml:0289fe7d-3512-4b15-a612-d4f3c113c698\" xlink:show=\"new\" xlink:title=\"psysml:0289fe7d-3512-4b15-a612-d4f3c113c698\" xlink:type=\"simple\"><polygon fill=\"#FFFFFF\" points=\"141.5,84,176.5,84,183.5,106.2969,190.5,106.2969,190.5,136.5938,141.5,136.5938,141.5,84\" style=\"stroke: #000000; stroke-width: 1.5;\"/><line style=\"stroke: #000000; stroke-width: 1.5;\" x1=\"141.5\" x2=\"183.5\" y1=\"106.2969\" y2=\"106.2969\"/><text fill=\"#000000\" font-family=\"sans-serif\" font-size=\"14\" font-weight=\"bold\" lengthAdjust=\"spacingAndGlyphs\" textLength=\"29\" x=\"145.5\" y=\"98.9951\">P2a</text></a><g id=\"E1.E4.E6\"><a href=\"psysml:febc5459-2ebe-4c36-9a31-624278ca958f\" target=\"_top\" title=\"psysml:febc5459-2ebe-4c36-9a31-624278ca958f\" xlink:actuate=\"onRequest\" xlink:href=\"psysml:febc5459-2ebe-4c36-9a31-624278ca958f\" xlink:show=\"new\" xlink:title=\"psysml:febc5459-2ebe-4c36-9a31-624278ca958f\" xlink:type=\"simple\"><rect fill=\"#FFFFFF\" height=\"40\" id=\"E6\" rx=\"10\" ry=\"10\" style=\"stroke: #383838; stroke-width: 1.5;\" width=\"50\" x=\"56\" y=\"90.5\"/><rect fill=\"#F8F8F8\" height=\"23.9688\" rx=\"10\" ry=\"10\" style=\"stroke: #F8F8F8; stroke-width: 1.5;\" width=\"50\" x=\"56\" y=\"90.5\"/><rect fill=\"#F8F8F8\" height=\"10\" style=\"stroke: #F8F8F8; stroke-width: 1.5;\" width=\"50\" x=\"56\" y=\"104.4688\"/><rect fill=\"none\" height=\"40\" id=\"E6\" rx=\"10\" ry=\"10\" style=\"stroke: #383838; stroke-width: 1.5;\" width=\"50\" x=\"56\" y=\"90.5\"/><text fill=\"#000000\" font-family=\"sans-serif\" font-size=\"12\" lengthAdjust=\"spacingAndGlyphs\" textLength=\"22\" x=\"70\" y=\"106.6387\">x: A</text></a></g><!--MD5=[079904be56d757c098b9c76ed654b6c1]\n",
       "@startuml\r\n",
       "skinparam ranksep 8\r\n",
       "skinparam rectangle {\r\n",
       " backgroundColor<<block>> LightGreen\r\n",
       "}\r\n",
       "skinparam monochrome true\r\n",
       "skinparam classbackgroundcolor white\r\n",
       "skinparam shadowing false\r\n",
       "skinparam wrapWidth 300\r\n",
       "hide circle\r\n",
       "\r\n",
       "package \"QualifiedNameImportTest\" as E1  [[psysml:69fab460-d5be-4945-91cf-3ca8c8123b68 ]]  {\r\n",
       "package \"P1\" as E2  [[psysml:a87ccb6a-ce8a-4667-9a31-41e6c6a1c677 ]]  {\r\n",
       "rec def \"A\" as E3  <<(T,blue)part def>> [[psysml:dead2420-b34a-43f7-a875-a2c685248268 ]] {\r\n",
       "}\r\n",
       "}\r\n",
       "package \"P2\" as E4  [[psysml:434a9cec-9a5b-4c30-bd61-ce4aa8eabf42 ]]  {\r\n",
       "package \"P2a\" as E5  [[psysml:0289fe7d-3512-4b15-a612-d4f3c113c698 ]]  {\r\n",
       "}\r\n",
       "rec usage \"x: A\" as E6  [[psysml:febc5459-2ebe-4c36-9a31-624278ca958f ]] {\r\n",
       "}\r\n",
       "}\r\n",
       "}\r\n",
       "@enduml\r\n",
       "\n",
       "PlantUML version 1.2020.13(Sat Jun 13 12:26:38 UTC 2020)\n",
       "(EPL source distribution)\n",
       "Java Runtime: OpenJDK Runtime Environment\n",
       "JVM: OpenJDK 64-Bit Server VM\n",
       "Default Encoding: UTF-8\n",
       "Language: en\n",
       "Country: null\n",
       "--></g></svg>"
      ]
     },
     "execution_count": 40,
     "metadata": {},
     "output_type": "execute_result"
    }
   ],
   "source": [
    "%viz --style=\"DEFAULT\" --view=\"Interconnection\" \"QualifiedNameImportTest\""
   ]
  },
  {
   "cell_type": "code",
   "execution_count": 41,
   "id": "breeding-opinion",
   "metadata": {
    "execution": {
     "iopub.execute_input": "2021-03-26T09:15:02.458979Z",
     "iopub.status.busy": "2021-03-26T09:15:02.458401Z",
     "iopub.status.idle": "2021-03-26T09:15:02.460033Z",
     "shell.execute_reply": "2021-03-26T09:15:02.458687Z"
    }
   },
   "outputs": [
    {
     "data": {
      "image/svg+xml": [
       "<?xml version=\"1.0\" encoding=\"UTF-8\" standalone=\"no\"?><svg xmlns=\"http://www.w3.org/2000/svg\" xmlns:xlink=\"http://www.w3.org/1999/xlink\" contentScriptType=\"application/ecmascript\" contentStyleType=\"text/css\" height=\"12px\" preserveAspectRatio=\"none\" style=\"width:12px;height:12px;\" version=\"1.1\" viewBox=\"0 0 12 12\" width=\"12px\" zoomAndPan=\"magnify\"><defs/><g><!--MD5=[388f21188e31bfdd97050473b19af356]\n",
       "@startuml\r\n",
       "skinparam ranksep 8\r\n",
       "skinparam monochrome true\r\n",
       "skinparam classbackgroundcolor white\r\n",
       "skinparam shadowing false\r\n",
       "skinparam wrapWidth 300\r\n",
       "hide circle\r\n",
       "\r\n",
       "@enduml\r\n",
       "\n",
       "PlantUML version 1.2020.13(Sat Jun 13 12:26:38 UTC 2020)\n",
       "(EPL source distribution)\n",
       "Java Runtime: OpenJDK Runtime Environment\n",
       "JVM: OpenJDK 64-Bit Server VM\n",
       "Default Encoding: UTF-8\n",
       "Language: en\n",
       "Country: null\n",
       "--></g></svg>"
      ]
     },
     "execution_count": 41,
     "metadata": {},
     "output_type": "execute_result"
    }
   ],
   "source": [
    "%viz --style=\"DEFAULT\" --view=\"Action\" \"QualifiedNameImportTest\""
   ]
  },
  {
   "cell_type": "code",
   "execution_count": 42,
   "id": "generous-intersection",
   "metadata": {
    "execution": {
     "iopub.execute_input": "2021-03-26T09:15:02.511034Z",
     "iopub.status.busy": "2021-03-26T09:15:02.510693Z",
     "iopub.status.idle": "2021-03-26T09:15:02.548451Z",
     "shell.execute_reply": "2021-03-26T09:15:02.546917Z"
    }
   },
   "outputs": [
    {
     "data": {
      "image/svg+xml": [
       "<?xml version=\"1.0\" encoding=\"UTF-8\" standalone=\"no\"?><svg xmlns=\"http://www.w3.org/2000/svg\" xmlns:xlink=\"http://www.w3.org/1999/xlink\" contentScriptType=\"application/ecmascript\" contentStyleType=\"text/css\" height=\"310px\" preserveAspectRatio=\"none\" style=\"width:253px;height:310px;\" version=\"1.1\" viewBox=\"0 0 253 310\" width=\"253px\" zoomAndPan=\"magnify\"><defs/><g><!--MD5=[fbc87193dbaf4d95561dea2c320d4a47]\n",
       "cluster E1--><a href=\"psysml:69fab460-d5be-4945-91cf-3ca8c8123b68\" target=\"_top\" title=\"psysml:69fab460-d5be-4945-91cf-3ca8c8123b68\" xlink:actuate=\"onRequest\" xlink:href=\"psysml:69fab460-d5be-4945-91cf-3ca8c8123b68\" xlink:show=\"new\" xlink:title=\"psysml:69fab460-d5be-4945-91cf-3ca8c8123b68\" xlink:type=\"simple\"><polygon fill=\"#FFFFFF\" points=\"16,6,221,6,228,28.2969,231,28.2969,231,298,16,298,16,6\" style=\"stroke: #000000; stroke-width: 1.5;\"/><line style=\"stroke: #000000; stroke-width: 1.5;\" x1=\"16\" x2=\"228\" y1=\"28.2969\" y2=\"28.2969\"/><text fill=\"#000000\" font-family=\"sans-serif\" font-size=\"14\" font-weight=\"bold\" lengthAdjust=\"spacingAndGlyphs\" textLength=\"199\" x=\"20\" y=\"20.9951\">QualifiedNameImportTest</text></a><!--MD5=[e4f7fae6ed58524ba242bb0b0d3be6b7]\n",
       "cluster E2--><a href=\"psysml:a87ccb6a-ce8a-4667-9a31-41e6c6a1c677\" target=\"_top\" title=\"psysml:a87ccb6a-ce8a-4667-9a31-41e6c6a1c677\" xlink:actuate=\"onRequest\" xlink:href=\"psysml:a87ccb6a-ce8a-4667-9a31-41e6c6a1c677\" xlink:show=\"new\" xlink:title=\"psysml:a87ccb6a-ce8a-4667-9a31-41e6c6a1c677\" xlink:type=\"simple\"><polygon fill=\"#FFFFFF\" points=\"105,177,131,177,138,199.2969,203,199.2969,203,274,105,274,105,177\" style=\"stroke: #000000; stroke-width: 1.5;\"/><line style=\"stroke: #000000; stroke-width: 1.5;\" x1=\"105\" x2=\"138\" y1=\"199.2969\" y2=\"199.2969\"/><text fill=\"#000000\" font-family=\"sans-serif\" font-size=\"14\" font-weight=\"bold\" lengthAdjust=\"spacingAndGlyphs\" textLength=\"20\" x=\"109\" y=\"191.9951\">P1</text></a><!--MD5=[f6df4d0ebaf0b5dfb2ced0ae5af7c670]\n",
       "cluster E4--><a href=\"psysml:434a9cec-9a5b-4c30-bd61-ce4aa8eabf42\" target=\"_top\" title=\"psysml:434a9cec-9a5b-4c30-bd61-ce4aa8eabf42\" xlink:actuate=\"onRequest\" xlink:href=\"psysml:434a9cec-9a5b-4c30-bd61-ce4aa8eabf42\" xlink:show=\"new\" xlink:title=\"psysml:434a9cec-9a5b-4c30-bd61-ce4aa8eabf42\" xlink:type=\"simple\"><polygon fill=\"#FFFFFF\" points=\"44,49,70,49,77,71.2969,203,71.2969,203,153,44,153,44,49\" style=\"stroke: #000000; stroke-width: 1.5;\"/><line style=\"stroke: #000000; stroke-width: 1.5;\" x1=\"44\" x2=\"77\" y1=\"71.2969\" y2=\"71.2969\"/><text fill=\"#000000\" font-family=\"sans-serif\" font-size=\"14\" font-weight=\"bold\" lengthAdjust=\"spacingAndGlyphs\" textLength=\"20\" x=\"48\" y=\"63.9951\">P2</text></a><!--MD5=[09b614a08d8cba4a07c9adeb5e0fee81]\n",
       "class E3--><a href=\"psysml:dead2420-b34a-43f7-a875-a2c685248268\" target=\"_top\" title=\"psysml:dead2420-b34a-43f7-a875-a2c685248268\" xlink:actuate=\"onRequest\" xlink:href=\"psysml:dead2420-b34a-43f7-a875-a2c685248268\" xlink:show=\"new\" xlink:title=\"psysml:dead2420-b34a-43f7-a875-a2c685248268\" xlink:type=\"simple\"><rect fill=\"#FFFFFF\" height=\"45.9375\" id=\"E3\" style=\"stroke: #383838; stroke-width: 1.5;\" width=\"66\" x=\"121\" y=\"212\"/><text fill=\"#000000\" font-family=\"sans-serif\" font-size=\"12\" font-style=\"italic\" lengthAdjust=\"spacingAndGlyphs\" textLength=\"64\" x=\"122\" y=\"228.1387\">«part def»</text><text fill=\"#000000\" font-family=\"sans-serif\" font-size=\"12\" lengthAdjust=\"spacingAndGlyphs\" textLength=\"8\" x=\"150\" y=\"242.1074\">A</text><line style=\"stroke: #383838; stroke-width: 1.5;\" x1=\"122\" x2=\"186\" y1=\"249.9375\" y2=\"249.9375\"/></a><!--MD5=[60a26617385b1d2d0262a64233df1f8d]\n",
       "class E6--><a href=\"psysml:febc5459-2ebe-4c36-9a31-624278ca958f\" target=\"_top\" title=\"psysml:febc5459-2ebe-4c36-9a31-624278ca958f\" xlink:actuate=\"onRequest\" xlink:href=\"psysml:febc5459-2ebe-4c36-9a31-624278ca958f\" xlink:show=\"new\" xlink:title=\"psysml:febc5459-2ebe-4c36-9a31-624278ca958f\" xlink:type=\"simple\"><rect fill=\"#FFFFFF\" height=\"45.9375\" id=\"E6\" rx=\"10\" ry=\"10\" style=\"stroke: #383838; stroke-width: 1.5;\" width=\"42\" x=\"145\" y=\"87.5\"/><text fill=\"#000000\" font-family=\"sans-serif\" font-size=\"12\" font-style=\"italic\" lengthAdjust=\"spacingAndGlyphs\" textLength=\"40\" x=\"146\" y=\"103.6387\">«part»</text><text fill=\"#000000\" font-family=\"sans-serif\" font-size=\"12\" lengthAdjust=\"spacingAndGlyphs\" textLength=\"22\" x=\"155\" y=\"117.6074\">x: A</text><line style=\"stroke: #383838; stroke-width: 1.5;\" x1=\"146\" x2=\"186\" y1=\"125.4375\" y2=\"125.4375\"/></a><a href=\"psysml:0289fe7d-3512-4b15-a612-d4f3c113c698\" target=\"_top\" title=\"psysml:0289fe7d-3512-4b15-a612-d4f3c113c698\" xlink:actuate=\"onRequest\" xlink:href=\"psysml:0289fe7d-3512-4b15-a612-d4f3c113c698\" xlink:show=\"new\" xlink:title=\"psysml:0289fe7d-3512-4b15-a612-d4f3c113c698\" xlink:type=\"simple\"><polygon fill=\"#FFFFFF\" points=\"60.5,84,95.5,84,102.5,106.2969,109.5,106.2969,109.5,136.5938,60.5,136.5938,60.5,84\" style=\"stroke: #000000; stroke-width: 1.5;\"/><line style=\"stroke: #000000; stroke-width: 1.5;\" x1=\"60.5\" x2=\"102.5\" y1=\"106.2969\" y2=\"106.2969\"/><text fill=\"#000000\" font-family=\"sans-serif\" font-size=\"14\" font-weight=\"bold\" lengthAdjust=\"spacingAndGlyphs\" textLength=\"29\" x=\"64.5\" y=\"98.9951\">P2a</text></a><!--MD5=[a717450b82c80b9240a525fa862496af]\n",
       "link E6 to E3--><a href=\"psysml:a41f4e21-5f48-4d30-b801-3db99d3a1abc\" target=\"_top\" title=\"psysml:a41f4e21-5f48-4d30-b801-3db99d3a1abc\" xlink:actuate=\"onRequest\" xlink:href=\"psysml:a41f4e21-5f48-4d30-b801-3db99d3a1abc\" xlink:show=\"new\" xlink:title=\"psysml:a41f4e21-5f48-4d30-b801-3db99d3a1abc\" xlink:type=\"simple\"><path d=\"M163.83,133.68 C162.24,149.9 160.04,172.39 158.12,191.96 \" fill=\"none\" id=\"E6-&gt;E3\" style=\"stroke: #383838; stroke-width: 1.0;\"/><polygon fill=\"#FFFFFF\" points=\"156.16,211.98,151.0533,192.3861,164.986,193.7564,156.16,211.98\" style=\"stroke: #383838; stroke-width: 1.0;\"/><ellipse cx=\"153.6016\" cy=\"186.9092\" fill=\"#383838\" rx=\"2\" ry=\"2\" style=\"stroke: #383838; stroke-width: 1.0;\"/><ellipse cx=\"163.5535\" cy=\"187.888\" fill=\"#383838\" rx=\"2\" ry=\"2\" style=\"stroke: #383838; stroke-width: 1.0;\"/></a><!--MD5=[eeda65d83e176281ba2e8813b957963c]\n",
       "@startuml\r\n",
       "skinparam monochrome true\r\n",
       "skinparam classbackgroundcolor white\r\n",
       "skinparam shadowing false\r\n",
       "skinparam wrapWidth 300\r\n",
       "hide circle\r\n",
       "\r\n",
       "package \"QualifiedNameImportTest\" as E1  [[psysml:69fab460-d5be-4945-91cf-3ca8c8123b68 ]]  {\r\n",
       "package \"P1\" as E2  [[psysml:a87ccb6a-ce8a-4667-9a31-41e6c6a1c677 ]]  {\r\n",
       "comp def \"A\" as E3  <<(T,blue)part def>> [[psysml:dead2420-b34a-43f7-a875-a2c685248268 ]] {\r\n",
       "}\r\n",
       "}\r\n",
       "package \"P2\" as E4  [[psysml:434a9cec-9a5b-4c30-bd61-ce4aa8eabf42 ]]  {\r\n",
       "package \"P2a\" as E5  [[psysml:0289fe7d-3512-4b15-a612-d4f3c113c698 ]]  {\r\n",
       "}\r\n",
       "comp usage \"x: A\" as E6  <<(T,blue)part>> [[psysml:febc5459-2ebe-4c36-9a31-624278ca958f ]] {\r\n",
       "}\r\n",
       "E6 - -:|> E3 [[psysml:a41f4e21-5f48-4d30-b801-3db99d3a1abc ]] \r\n",
       "}\r\n",
       "}\r\n",
       "@enduml\r\n",
       "\n",
       "PlantUML version 1.2020.13(Sat Jun 13 12:26:38 UTC 2020)\n",
       "(EPL source distribution)\n",
       "Java Runtime: OpenJDK Runtime Environment\n",
       "JVM: OpenJDK 64-Bit Server VM\n",
       "Default Encoding: UTF-8\n",
       "Language: en\n",
       "Country: null\n",
       "--></g></svg>"
      ]
     },
     "execution_count": 42,
     "metadata": {},
     "output_type": "execute_result"
    }
   ],
   "source": [
    "%viz --style=\"DEFAULT\" --view=\"Sequence\" \"QualifiedNameImportTest\""
   ]
  },
  {
   "cell_type": "code",
   "execution_count": 43,
   "id": "intense-norway",
   "metadata": {
    "execution": {
     "iopub.execute_input": "2021-03-26T09:15:02.604995Z",
     "iopub.status.busy": "2021-03-26T09:15:02.604531Z",
     "iopub.status.idle": "2021-03-26T09:15:02.626335Z",
     "shell.execute_reply": "2021-03-26T09:15:02.625155Z"
    }
   },
   "outputs": [
    {
     "data": {
      "image/svg+xml": [
       "<?xml version=\"1.0\" encoding=\"UTF-8\" standalone=\"no\"?><svg xmlns=\"http://www.w3.org/2000/svg\" xmlns:xlink=\"http://www.w3.org/1999/xlink\" contentScriptType=\"application/ecmascript\" contentStyleType=\"text/css\" height=\"310px\" preserveAspectRatio=\"none\" style=\"width:253px;height:310px;\" version=\"1.1\" viewBox=\"0 0 253 310\" width=\"253px\" zoomAndPan=\"magnify\"><defs/><g><!--MD5=[fbc87193dbaf4d95561dea2c320d4a47]\n",
       "cluster E1--><a href=\"psysml:69fab460-d5be-4945-91cf-3ca8c8123b68\" target=\"_top\" title=\"psysml:69fab460-d5be-4945-91cf-3ca8c8123b68\" xlink:actuate=\"onRequest\" xlink:href=\"psysml:69fab460-d5be-4945-91cf-3ca8c8123b68\" xlink:show=\"new\" xlink:title=\"psysml:69fab460-d5be-4945-91cf-3ca8c8123b68\" xlink:type=\"simple\"><polygon fill=\"#FFFFFF\" points=\"16,6,221,6,228,28.2969,231,28.2969,231,298,16,298,16,6\" style=\"stroke: #000000; stroke-width: 1.5;\"/><line style=\"stroke: #000000; stroke-width: 1.5;\" x1=\"16\" x2=\"228\" y1=\"28.2969\" y2=\"28.2969\"/><text fill=\"#000000\" font-family=\"sans-serif\" font-size=\"14\" font-weight=\"bold\" lengthAdjust=\"spacingAndGlyphs\" textLength=\"199\" x=\"20\" y=\"20.9951\">QualifiedNameImportTest</text></a><!--MD5=[e4f7fae6ed58524ba242bb0b0d3be6b7]\n",
       "cluster E2--><a href=\"psysml:a87ccb6a-ce8a-4667-9a31-41e6c6a1c677\" target=\"_top\" title=\"psysml:a87ccb6a-ce8a-4667-9a31-41e6c6a1c677\" xlink:actuate=\"onRequest\" xlink:href=\"psysml:a87ccb6a-ce8a-4667-9a31-41e6c6a1c677\" xlink:show=\"new\" xlink:title=\"psysml:a87ccb6a-ce8a-4667-9a31-41e6c6a1c677\" xlink:type=\"simple\"><polygon fill=\"#FFFFFF\" points=\"105,177,131,177,138,199.2969,203,199.2969,203,274,105,274,105,177\" style=\"stroke: #000000; stroke-width: 1.5;\"/><line style=\"stroke: #000000; stroke-width: 1.5;\" x1=\"105\" x2=\"138\" y1=\"199.2969\" y2=\"199.2969\"/><text fill=\"#000000\" font-family=\"sans-serif\" font-size=\"14\" font-weight=\"bold\" lengthAdjust=\"spacingAndGlyphs\" textLength=\"20\" x=\"109\" y=\"191.9951\">P1</text></a><!--MD5=[f6df4d0ebaf0b5dfb2ced0ae5af7c670]\n",
       "cluster E4--><a href=\"psysml:434a9cec-9a5b-4c30-bd61-ce4aa8eabf42\" target=\"_top\" title=\"psysml:434a9cec-9a5b-4c30-bd61-ce4aa8eabf42\" xlink:actuate=\"onRequest\" xlink:href=\"psysml:434a9cec-9a5b-4c30-bd61-ce4aa8eabf42\" xlink:show=\"new\" xlink:title=\"psysml:434a9cec-9a5b-4c30-bd61-ce4aa8eabf42\" xlink:type=\"simple\"><polygon fill=\"#FFFFFF\" points=\"44,49,70,49,77,71.2969,203,71.2969,203,153,44,153,44,49\" style=\"stroke: #000000; stroke-width: 1.5;\"/><line style=\"stroke: #000000; stroke-width: 1.5;\" x1=\"44\" x2=\"77\" y1=\"71.2969\" y2=\"71.2969\"/><text fill=\"#000000\" font-family=\"sans-serif\" font-size=\"14\" font-weight=\"bold\" lengthAdjust=\"spacingAndGlyphs\" textLength=\"20\" x=\"48\" y=\"63.9951\">P2</text></a><!--MD5=[09b614a08d8cba4a07c9adeb5e0fee81]\n",
       "class E3--><a href=\"psysml:dead2420-b34a-43f7-a875-a2c685248268\" target=\"_top\" title=\"psysml:dead2420-b34a-43f7-a875-a2c685248268\" xlink:actuate=\"onRequest\" xlink:href=\"psysml:dead2420-b34a-43f7-a875-a2c685248268\" xlink:show=\"new\" xlink:title=\"psysml:dead2420-b34a-43f7-a875-a2c685248268\" xlink:type=\"simple\"><rect fill=\"#FFFFFF\" height=\"45.9375\" id=\"E3\" style=\"stroke: #383838; stroke-width: 1.5;\" width=\"66\" x=\"121\" y=\"212\"/><text fill=\"#000000\" font-family=\"sans-serif\" font-size=\"12\" font-style=\"italic\" lengthAdjust=\"spacingAndGlyphs\" textLength=\"64\" x=\"122\" y=\"228.1387\">«part def»</text><text fill=\"#000000\" font-family=\"sans-serif\" font-size=\"12\" lengthAdjust=\"spacingAndGlyphs\" textLength=\"8\" x=\"150\" y=\"242.1074\">A</text><line style=\"stroke: #383838; stroke-width: 1.5;\" x1=\"122\" x2=\"186\" y1=\"249.9375\" y2=\"249.9375\"/></a><!--MD5=[60a26617385b1d2d0262a64233df1f8d]\n",
       "class E6--><a href=\"psysml:febc5459-2ebe-4c36-9a31-624278ca958f\" target=\"_top\" title=\"psysml:febc5459-2ebe-4c36-9a31-624278ca958f\" xlink:actuate=\"onRequest\" xlink:href=\"psysml:febc5459-2ebe-4c36-9a31-624278ca958f\" xlink:show=\"new\" xlink:title=\"psysml:febc5459-2ebe-4c36-9a31-624278ca958f\" xlink:type=\"simple\"><rect fill=\"#FFFFFF\" height=\"45.9375\" id=\"E6\" rx=\"10\" ry=\"10\" style=\"stroke: #383838; stroke-width: 1.5;\" width=\"42\" x=\"145\" y=\"87.5\"/><text fill=\"#000000\" font-family=\"sans-serif\" font-size=\"12\" font-style=\"italic\" lengthAdjust=\"spacingAndGlyphs\" textLength=\"40\" x=\"146\" y=\"103.6387\">«part»</text><text fill=\"#000000\" font-family=\"sans-serif\" font-size=\"12\" lengthAdjust=\"spacingAndGlyphs\" textLength=\"22\" x=\"155\" y=\"117.6074\">x: A</text><line style=\"stroke: #383838; stroke-width: 1.5;\" x1=\"146\" x2=\"186\" y1=\"125.4375\" y2=\"125.4375\"/></a><a href=\"psysml:0289fe7d-3512-4b15-a612-d4f3c113c698\" target=\"_top\" title=\"psysml:0289fe7d-3512-4b15-a612-d4f3c113c698\" xlink:actuate=\"onRequest\" xlink:href=\"psysml:0289fe7d-3512-4b15-a612-d4f3c113c698\" xlink:show=\"new\" xlink:title=\"psysml:0289fe7d-3512-4b15-a612-d4f3c113c698\" xlink:type=\"simple\"><polygon fill=\"#FFFFFF\" points=\"60.5,84,95.5,84,102.5,106.2969,109.5,106.2969,109.5,136.5938,60.5,136.5938,60.5,84\" style=\"stroke: #000000; stroke-width: 1.5;\"/><line style=\"stroke: #000000; stroke-width: 1.5;\" x1=\"60.5\" x2=\"102.5\" y1=\"106.2969\" y2=\"106.2969\"/><text fill=\"#000000\" font-family=\"sans-serif\" font-size=\"14\" font-weight=\"bold\" lengthAdjust=\"spacingAndGlyphs\" textLength=\"29\" x=\"64.5\" y=\"98.9951\">P2a</text></a><!--MD5=[a717450b82c80b9240a525fa862496af]\n",
       "link E6 to E3--><a href=\"psysml:a41f4e21-5f48-4d30-b801-3db99d3a1abc\" target=\"_top\" title=\"psysml:a41f4e21-5f48-4d30-b801-3db99d3a1abc\" xlink:actuate=\"onRequest\" xlink:href=\"psysml:a41f4e21-5f48-4d30-b801-3db99d3a1abc\" xlink:show=\"new\" xlink:title=\"psysml:a41f4e21-5f48-4d30-b801-3db99d3a1abc\" xlink:type=\"simple\"><path d=\"M163.83,133.68 C162.24,149.9 160.04,172.39 158.12,191.96 \" fill=\"none\" id=\"E6-&gt;E3\" style=\"stroke: #383838; stroke-width: 1.0;\"/><polygon fill=\"#FFFFFF\" points=\"156.16,211.98,151.0533,192.3861,164.986,193.7564,156.16,211.98\" style=\"stroke: #383838; stroke-width: 1.0;\"/><ellipse cx=\"153.6016\" cy=\"186.9092\" fill=\"#383838\" rx=\"2\" ry=\"2\" style=\"stroke: #383838; stroke-width: 1.0;\"/><ellipse cx=\"163.5535\" cy=\"187.888\" fill=\"#383838\" rx=\"2\" ry=\"2\" style=\"stroke: #383838; stroke-width: 1.0;\"/></a><!--MD5=[eeda65d83e176281ba2e8813b957963c]\n",
       "@startuml\r\n",
       "skinparam monochrome true\r\n",
       "skinparam classbackgroundcolor white\r\n",
       "skinparam shadowing false\r\n",
       "skinparam wrapWidth 300\r\n",
       "hide circle\r\n",
       "\r\n",
       "package \"QualifiedNameImportTest\" as E1  [[psysml:69fab460-d5be-4945-91cf-3ca8c8123b68 ]]  {\r\n",
       "package \"P1\" as E2  [[psysml:a87ccb6a-ce8a-4667-9a31-41e6c6a1c677 ]]  {\r\n",
       "comp def \"A\" as E3  <<(T,blue)part def>> [[psysml:dead2420-b34a-43f7-a875-a2c685248268 ]] {\r\n",
       "}\r\n",
       "}\r\n",
       "package \"P2\" as E4  [[psysml:434a9cec-9a5b-4c30-bd61-ce4aa8eabf42 ]]  {\r\n",
       "package \"P2a\" as E5  [[psysml:0289fe7d-3512-4b15-a612-d4f3c113c698 ]]  {\r\n",
       "}\r\n",
       "comp usage \"x: A\" as E6  <<(T,blue)part>> [[psysml:febc5459-2ebe-4c36-9a31-624278ca958f ]] {\r\n",
       "}\r\n",
       "E6 - -:|> E3 [[psysml:a41f4e21-5f48-4d30-b801-3db99d3a1abc ]] \r\n",
       "}\r\n",
       "}\r\n",
       "@enduml\r\n",
       "\n",
       "PlantUML version 1.2020.13(Sat Jun 13 12:26:38 UTC 2020)\n",
       "(EPL source distribution)\n",
       "Java Runtime: OpenJDK Runtime Environment\n",
       "JVM: OpenJDK 64-Bit Server VM\n",
       "Default Encoding: UTF-8\n",
       "Language: en\n",
       "Country: null\n",
       "--></g></svg>"
      ]
     },
     "execution_count": 43,
     "metadata": {},
     "output_type": "execute_result"
    }
   ],
   "source": [
    "%viz --style=\"DEFAULT\" --view=\"MIXED\" \"QualifiedNameImportTest\""
   ]
  },
  {
   "cell_type": "code",
   "execution_count": 44,
   "id": "graduate-junior",
   "metadata": {
    "execution": {
     "iopub.execute_input": "2021-03-26T09:15:02.677249Z",
     "iopub.status.busy": "2021-03-26T09:15:02.676693Z",
     "iopub.status.idle": "2021-03-26T09:15:02.703672Z",
     "shell.execute_reply": "2021-03-26T09:15:02.702555Z"
    }
   },
   "outputs": [
    {
     "data": {
      "image/svg+xml": [
       "<?xml version=\"1.0\" encoding=\"UTF-8\" standalone=\"no\"?><svg xmlns=\"http://www.w3.org/2000/svg\" xmlns:xlink=\"http://www.w3.org/1999/xlink\" contentScriptType=\"application/ecmascript\" contentStyleType=\"text/css\" height=\"310px\" preserveAspectRatio=\"none\" style=\"width:253px;height:310px;\" version=\"1.1\" viewBox=\"0 0 253 310\" width=\"253px\" zoomAndPan=\"magnify\"><defs/><g><!--MD5=[fbc87193dbaf4d95561dea2c320d4a47]\n",
       "cluster E1--><a href=\"psysml:69fab460-d5be-4945-91cf-3ca8c8123b68\" target=\"_top\" title=\"psysml:69fab460-d5be-4945-91cf-3ca8c8123b68\" xlink:actuate=\"onRequest\" xlink:href=\"psysml:69fab460-d5be-4945-91cf-3ca8c8123b68\" xlink:show=\"new\" xlink:title=\"psysml:69fab460-d5be-4945-91cf-3ca8c8123b68\" xlink:type=\"simple\"><polygon fill=\"#FFFFFF\" points=\"16,6,221,6,228,28.2969,231,28.2969,231,298,16,298,16,6\" style=\"stroke: #000000; stroke-width: 1.5;\"/><line style=\"stroke: #000000; stroke-width: 1.5;\" x1=\"16\" x2=\"228\" y1=\"28.2969\" y2=\"28.2969\"/><text fill=\"#000000\" font-family=\"sans-serif\" font-size=\"14\" font-weight=\"bold\" lengthAdjust=\"spacingAndGlyphs\" textLength=\"199\" x=\"20\" y=\"20.9951\">QualifiedNameImportTest</text></a><!--MD5=[e4f7fae6ed58524ba242bb0b0d3be6b7]\n",
       "cluster E2--><a href=\"psysml:a87ccb6a-ce8a-4667-9a31-41e6c6a1c677\" target=\"_top\" title=\"psysml:a87ccb6a-ce8a-4667-9a31-41e6c6a1c677\" xlink:actuate=\"onRequest\" xlink:href=\"psysml:a87ccb6a-ce8a-4667-9a31-41e6c6a1c677\" xlink:show=\"new\" xlink:title=\"psysml:a87ccb6a-ce8a-4667-9a31-41e6c6a1c677\" xlink:type=\"simple\"><polygon fill=\"#FFFFFF\" points=\"105,177,131,177,138,199.2969,203,199.2969,203,274,105,274,105,177\" style=\"stroke: #000000; stroke-width: 1.5;\"/><line style=\"stroke: #000000; stroke-width: 1.5;\" x1=\"105\" x2=\"138\" y1=\"199.2969\" y2=\"199.2969\"/><text fill=\"#000000\" font-family=\"sans-serif\" font-size=\"14\" font-weight=\"bold\" lengthAdjust=\"spacingAndGlyphs\" textLength=\"20\" x=\"109\" y=\"191.9951\">P1</text></a><!--MD5=[f6df4d0ebaf0b5dfb2ced0ae5af7c670]\n",
       "cluster E4--><a href=\"psysml:434a9cec-9a5b-4c30-bd61-ce4aa8eabf42\" target=\"_top\" title=\"psysml:434a9cec-9a5b-4c30-bd61-ce4aa8eabf42\" xlink:actuate=\"onRequest\" xlink:href=\"psysml:434a9cec-9a5b-4c30-bd61-ce4aa8eabf42\" xlink:show=\"new\" xlink:title=\"psysml:434a9cec-9a5b-4c30-bd61-ce4aa8eabf42\" xlink:type=\"simple\"><polygon fill=\"#FFFFFF\" points=\"44,49,70,49,77,71.2969,203,71.2969,203,153,44,153,44,49\" style=\"stroke: #000000; stroke-width: 1.5;\"/><line style=\"stroke: #000000; stroke-width: 1.5;\" x1=\"44\" x2=\"77\" y1=\"71.2969\" y2=\"71.2969\"/><text fill=\"#000000\" font-family=\"sans-serif\" font-size=\"14\" font-weight=\"bold\" lengthAdjust=\"spacingAndGlyphs\" textLength=\"20\" x=\"48\" y=\"63.9951\">P2</text></a><!--MD5=[09b614a08d8cba4a07c9adeb5e0fee81]\n",
       "class E3--><a href=\"psysml:dead2420-b34a-43f7-a875-a2c685248268\" target=\"_top\" title=\"psysml:dead2420-b34a-43f7-a875-a2c685248268\" xlink:actuate=\"onRequest\" xlink:href=\"psysml:dead2420-b34a-43f7-a875-a2c685248268\" xlink:show=\"new\" xlink:title=\"psysml:dead2420-b34a-43f7-a875-a2c685248268\" xlink:type=\"simple\"><rect fill=\"#FFFFFF\" height=\"45.9375\" id=\"E3\" style=\"stroke: #383838; stroke-width: 1.5;\" width=\"66\" x=\"121\" y=\"212\"/><text fill=\"#000000\" font-family=\"sans-serif\" font-size=\"12\" font-style=\"italic\" lengthAdjust=\"spacingAndGlyphs\" textLength=\"64\" x=\"122\" y=\"228.1387\">«part def»</text><text fill=\"#000000\" font-family=\"sans-serif\" font-size=\"12\" lengthAdjust=\"spacingAndGlyphs\" textLength=\"8\" x=\"150\" y=\"242.1074\">A</text><line style=\"stroke: #383838; stroke-width: 1.5;\" x1=\"122\" x2=\"186\" y1=\"249.9375\" y2=\"249.9375\"/></a><!--MD5=[60a26617385b1d2d0262a64233df1f8d]\n",
       "class E6--><a href=\"psysml:febc5459-2ebe-4c36-9a31-624278ca958f\" target=\"_top\" title=\"psysml:febc5459-2ebe-4c36-9a31-624278ca958f\" xlink:actuate=\"onRequest\" xlink:href=\"psysml:febc5459-2ebe-4c36-9a31-624278ca958f\" xlink:show=\"new\" xlink:title=\"psysml:febc5459-2ebe-4c36-9a31-624278ca958f\" xlink:type=\"simple\"><rect fill=\"#FFFFFF\" height=\"45.9375\" id=\"E6\" rx=\"10\" ry=\"10\" style=\"stroke: #383838; stroke-width: 1.5;\" width=\"42\" x=\"145\" y=\"87.5\"/><text fill=\"#000000\" font-family=\"sans-serif\" font-size=\"12\" font-style=\"italic\" lengthAdjust=\"spacingAndGlyphs\" textLength=\"40\" x=\"146\" y=\"103.6387\">«part»</text><text fill=\"#000000\" font-family=\"sans-serif\" font-size=\"12\" lengthAdjust=\"spacingAndGlyphs\" textLength=\"22\" x=\"155\" y=\"117.6074\">x: A</text><line style=\"stroke: #383838; stroke-width: 1.5;\" x1=\"146\" x2=\"186\" y1=\"125.4375\" y2=\"125.4375\"/></a><a href=\"psysml:0289fe7d-3512-4b15-a612-d4f3c113c698\" target=\"_top\" title=\"psysml:0289fe7d-3512-4b15-a612-d4f3c113c698\" xlink:actuate=\"onRequest\" xlink:href=\"psysml:0289fe7d-3512-4b15-a612-d4f3c113c698\" xlink:show=\"new\" xlink:title=\"psysml:0289fe7d-3512-4b15-a612-d4f3c113c698\" xlink:type=\"simple\"><polygon fill=\"#FFFFFF\" points=\"60.5,84,95.5,84,102.5,106.2969,109.5,106.2969,109.5,136.5938,60.5,136.5938,60.5,84\" style=\"stroke: #000000; stroke-width: 1.5;\"/><line style=\"stroke: #000000; stroke-width: 1.5;\" x1=\"60.5\" x2=\"102.5\" y1=\"106.2969\" y2=\"106.2969\"/><text fill=\"#000000\" font-family=\"sans-serif\" font-size=\"14\" font-weight=\"bold\" lengthAdjust=\"spacingAndGlyphs\" textLength=\"29\" x=\"64.5\" y=\"98.9951\">P2a</text></a><!--MD5=[a717450b82c80b9240a525fa862496af]\n",
       "link E6 to E3--><a href=\"psysml:a41f4e21-5f48-4d30-b801-3db99d3a1abc\" target=\"_top\" title=\"psysml:a41f4e21-5f48-4d30-b801-3db99d3a1abc\" xlink:actuate=\"onRequest\" xlink:href=\"psysml:a41f4e21-5f48-4d30-b801-3db99d3a1abc\" xlink:show=\"new\" xlink:title=\"psysml:a41f4e21-5f48-4d30-b801-3db99d3a1abc\" xlink:type=\"simple\"><path d=\"M163.83,133.68 C162.24,149.9 160.04,172.39 158.12,191.96 \" fill=\"none\" id=\"E6-&gt;E3\" style=\"stroke: #383838; stroke-width: 1.0;\"/><polygon fill=\"#FFFFFF\" points=\"156.16,211.98,151.0533,192.3861,164.986,193.7564,156.16,211.98\" style=\"stroke: #383838; stroke-width: 1.0;\"/><ellipse cx=\"153.6016\" cy=\"186.9092\" fill=\"#383838\" rx=\"2\" ry=\"2\" style=\"stroke: #383838; stroke-width: 1.0;\"/><ellipse cx=\"163.5535\" cy=\"187.888\" fill=\"#383838\" rx=\"2\" ry=\"2\" style=\"stroke: #383838; stroke-width: 1.0;\"/></a><!--MD5=[753b6e88bd54ac5aaa7cc6f497fbecc5]\n",
       "@startuml\r\n",
       "top to bottom direction\r\n",
       "skinparam monochrome true\r\n",
       "skinparam classbackgroundcolor white\r\n",
       "skinparam shadowing false\r\n",
       "skinparam wrapWidth 300\r\n",
       "hide circle\r\n",
       "\r\n",
       "package \"QualifiedNameImportTest\" as E1  [[psysml:69fab460-d5be-4945-91cf-3ca8c8123b68 ]]  {\r\n",
       "package \"P1\" as E2  [[psysml:a87ccb6a-ce8a-4667-9a31-41e6c6a1c677 ]]  {\r\n",
       "comp def \"A\" as E3  <<(T,blue)part def>> [[psysml:dead2420-b34a-43f7-a875-a2c685248268 ]] {\r\n",
       "}\r\n",
       "}\r\n",
       "package \"P2\" as E4  [[psysml:434a9cec-9a5b-4c30-bd61-ce4aa8eabf42 ]]  {\r\n",
       "package \"P2a\" as E5  [[psysml:0289fe7d-3512-4b15-a612-d4f3c113c698 ]]  {\r\n",
       "}\r\n",
       "comp usage \"x: A\" as E6  <<(T,blue)part>> [[psysml:febc5459-2ebe-4c36-9a31-624278ca958f ]] {\r\n",
       "}\r\n",
       "E6 - -:|> E3 [[psysml:a41f4e21-5f48-4d30-b801-3db99d3a1abc ]] \r\n",
       "}\r\n",
       "}\r\n",
       "@enduml\r\n",
       "\n",
       "PlantUML version 1.2020.13(Sat Jun 13 12:26:38 UTC 2020)\n",
       "(EPL source distribution)\n",
       "Java Runtime: OpenJDK Runtime Environment\n",
       "JVM: OpenJDK 64-Bit Server VM\n",
       "Default Encoding: UTF-8\n",
       "Language: en\n",
       "Country: null\n",
       "--></g></svg>"
      ]
     },
     "execution_count": 44,
     "metadata": {},
     "output_type": "execute_result"
    }
   ],
   "source": [
    "%viz --style=\"TB\" --view=\"Default\" \"QualifiedNameImportTest\""
   ]
  },
  {
   "cell_type": "code",
   "execution_count": 45,
   "id": "accessory-providence",
   "metadata": {
    "execution": {
     "iopub.execute_input": "2021-03-26T09:15:02.754381Z",
     "iopub.status.busy": "2021-03-26T09:15:02.753824Z",
     "iopub.status.idle": "2021-03-26T09:15:02.779777Z",
     "shell.execute_reply": "2021-03-26T09:15:02.778447Z"
    }
   },
   "outputs": [
    {
     "data": {
      "image/svg+xml": [
       "<?xml version=\"1.0\" encoding=\"UTF-8\" standalone=\"no\"?><svg xmlns=\"http://www.w3.org/2000/svg\" xmlns:xlink=\"http://www.w3.org/1999/xlink\" contentScriptType=\"application/ecmascript\" contentStyleType=\"text/css\" height=\"310px\" preserveAspectRatio=\"none\" style=\"width:253px;height:310px;\" version=\"1.1\" viewBox=\"0 0 253 310\" width=\"253px\" zoomAndPan=\"magnify\"><defs/><g><!--MD5=[fbc87193dbaf4d95561dea2c320d4a47]\n",
       "cluster E1--><a href=\"psysml:69fab460-d5be-4945-91cf-3ca8c8123b68\" target=\"_top\" title=\"psysml:69fab460-d5be-4945-91cf-3ca8c8123b68\" xlink:actuate=\"onRequest\" xlink:href=\"psysml:69fab460-d5be-4945-91cf-3ca8c8123b68\" xlink:show=\"new\" xlink:title=\"psysml:69fab460-d5be-4945-91cf-3ca8c8123b68\" xlink:type=\"simple\"><polygon fill=\"#FFFFFF\" points=\"16,6,221,6,228,28.2969,231,28.2969,231,298,16,298,16,6\" style=\"stroke: #000000; stroke-width: 1.5;\"/><line style=\"stroke: #000000; stroke-width: 1.5;\" x1=\"16\" x2=\"228\" y1=\"28.2969\" y2=\"28.2969\"/><text fill=\"#000000\" font-family=\"sans-serif\" font-size=\"14\" font-weight=\"bold\" lengthAdjust=\"spacingAndGlyphs\" textLength=\"199\" x=\"20\" y=\"20.9951\">QualifiedNameImportTest</text></a><!--MD5=[e4f7fae6ed58524ba242bb0b0d3be6b7]\n",
       "cluster E2--><a href=\"psysml:a87ccb6a-ce8a-4667-9a31-41e6c6a1c677\" target=\"_top\" title=\"psysml:a87ccb6a-ce8a-4667-9a31-41e6c6a1c677\" xlink:actuate=\"onRequest\" xlink:href=\"psysml:a87ccb6a-ce8a-4667-9a31-41e6c6a1c677\" xlink:show=\"new\" xlink:title=\"psysml:a87ccb6a-ce8a-4667-9a31-41e6c6a1c677\" xlink:type=\"simple\"><polygon fill=\"#FFFFFF\" points=\"105,177,131,177,138,199.2969,203,199.2969,203,274,105,274,105,177\" style=\"stroke: #000000; stroke-width: 1.5;\"/><line style=\"stroke: #000000; stroke-width: 1.5;\" x1=\"105\" x2=\"138\" y1=\"199.2969\" y2=\"199.2969\"/><text fill=\"#000000\" font-family=\"sans-serif\" font-size=\"14\" font-weight=\"bold\" lengthAdjust=\"spacingAndGlyphs\" textLength=\"20\" x=\"109\" y=\"191.9951\">P1</text></a><!--MD5=[f6df4d0ebaf0b5dfb2ced0ae5af7c670]\n",
       "cluster E4--><a href=\"psysml:434a9cec-9a5b-4c30-bd61-ce4aa8eabf42\" target=\"_top\" title=\"psysml:434a9cec-9a5b-4c30-bd61-ce4aa8eabf42\" xlink:actuate=\"onRequest\" xlink:href=\"psysml:434a9cec-9a5b-4c30-bd61-ce4aa8eabf42\" xlink:show=\"new\" xlink:title=\"psysml:434a9cec-9a5b-4c30-bd61-ce4aa8eabf42\" xlink:type=\"simple\"><polygon fill=\"#FFFFFF\" points=\"44,49,70,49,77,71.2969,203,71.2969,203,153,44,153,44,49\" style=\"stroke: #000000; stroke-width: 1.5;\"/><line style=\"stroke: #000000; stroke-width: 1.5;\" x1=\"44\" x2=\"77\" y1=\"71.2969\" y2=\"71.2969\"/><text fill=\"#000000\" font-family=\"sans-serif\" font-size=\"14\" font-weight=\"bold\" lengthAdjust=\"spacingAndGlyphs\" textLength=\"20\" x=\"48\" y=\"63.9951\">P2</text></a><!--MD5=[09b614a08d8cba4a07c9adeb5e0fee81]\n",
       "class E3--><a href=\"psysml:dead2420-b34a-43f7-a875-a2c685248268\" target=\"_top\" title=\"psysml:dead2420-b34a-43f7-a875-a2c685248268\" xlink:actuate=\"onRequest\" xlink:href=\"psysml:dead2420-b34a-43f7-a875-a2c685248268\" xlink:show=\"new\" xlink:title=\"psysml:dead2420-b34a-43f7-a875-a2c685248268\" xlink:type=\"simple\"><rect fill=\"#FFFFFF\" height=\"45.9375\" id=\"E3\" style=\"stroke: #383838; stroke-width: 1.5;\" width=\"66\" x=\"121\" y=\"212\"/><text fill=\"#000000\" font-family=\"sans-serif\" font-size=\"12\" font-style=\"italic\" lengthAdjust=\"spacingAndGlyphs\" textLength=\"64\" x=\"122\" y=\"228.1387\">«part def»</text><text fill=\"#000000\" font-family=\"sans-serif\" font-size=\"12\" lengthAdjust=\"spacingAndGlyphs\" textLength=\"8\" x=\"150\" y=\"242.1074\">A</text><line style=\"stroke: #383838; stroke-width: 1.5;\" x1=\"122\" x2=\"186\" y1=\"249.9375\" y2=\"249.9375\"/></a><!--MD5=[60a26617385b1d2d0262a64233df1f8d]\n",
       "class E6--><a href=\"psysml:febc5459-2ebe-4c36-9a31-624278ca958f\" target=\"_top\" title=\"psysml:febc5459-2ebe-4c36-9a31-624278ca958f\" xlink:actuate=\"onRequest\" xlink:href=\"psysml:febc5459-2ebe-4c36-9a31-624278ca958f\" xlink:show=\"new\" xlink:title=\"psysml:febc5459-2ebe-4c36-9a31-624278ca958f\" xlink:type=\"simple\"><rect fill=\"#FFFFFF\" height=\"45.9375\" id=\"E6\" rx=\"10\" ry=\"10\" style=\"stroke: #383838; stroke-width: 1.5;\" width=\"42\" x=\"145\" y=\"87.5\"/><text fill=\"#000000\" font-family=\"sans-serif\" font-size=\"12\" font-style=\"italic\" lengthAdjust=\"spacingAndGlyphs\" textLength=\"40\" x=\"146\" y=\"103.6387\">«part»</text><text fill=\"#000000\" font-family=\"sans-serif\" font-size=\"12\" lengthAdjust=\"spacingAndGlyphs\" textLength=\"22\" x=\"155\" y=\"117.6074\">x: A</text><line style=\"stroke: #383838; stroke-width: 1.5;\" x1=\"146\" x2=\"186\" y1=\"125.4375\" y2=\"125.4375\"/></a><a href=\"psysml:0289fe7d-3512-4b15-a612-d4f3c113c698\" target=\"_top\" title=\"psysml:0289fe7d-3512-4b15-a612-d4f3c113c698\" xlink:actuate=\"onRequest\" xlink:href=\"psysml:0289fe7d-3512-4b15-a612-d4f3c113c698\" xlink:show=\"new\" xlink:title=\"psysml:0289fe7d-3512-4b15-a612-d4f3c113c698\" xlink:type=\"simple\"><polygon fill=\"#FFFFFF\" points=\"60.5,84,95.5,84,102.5,106.2969,109.5,106.2969,109.5,136.5938,60.5,136.5938,60.5,84\" style=\"stroke: #000000; stroke-width: 1.5;\"/><line style=\"stroke: #000000; stroke-width: 1.5;\" x1=\"60.5\" x2=\"102.5\" y1=\"106.2969\" y2=\"106.2969\"/><text fill=\"#000000\" font-family=\"sans-serif\" font-size=\"14\" font-weight=\"bold\" lengthAdjust=\"spacingAndGlyphs\" textLength=\"29\" x=\"64.5\" y=\"98.9951\">P2a</text></a><!--MD5=[a717450b82c80b9240a525fa862496af]\n",
       "link E6 to E3--><a href=\"psysml:a41f4e21-5f48-4d30-b801-3db99d3a1abc\" target=\"_top\" title=\"psysml:a41f4e21-5f48-4d30-b801-3db99d3a1abc\" xlink:actuate=\"onRequest\" xlink:href=\"psysml:a41f4e21-5f48-4d30-b801-3db99d3a1abc\" xlink:show=\"new\" xlink:title=\"psysml:a41f4e21-5f48-4d30-b801-3db99d3a1abc\" xlink:type=\"simple\"><path d=\"M163.83,133.68 C162.24,149.9 160.04,172.39 158.12,191.96 \" fill=\"none\" id=\"E6-&gt;E3\" style=\"stroke: #383838; stroke-width: 1.0;\"/><polygon fill=\"#FFFFFF\" points=\"156.16,211.98,151.0533,192.3861,164.986,193.7564,156.16,211.98\" style=\"stroke: #383838; stroke-width: 1.0;\"/><ellipse cx=\"153.6016\" cy=\"186.9092\" fill=\"#383838\" rx=\"2\" ry=\"2\" style=\"stroke: #383838; stroke-width: 1.0;\"/><ellipse cx=\"163.5535\" cy=\"187.888\" fill=\"#383838\" rx=\"2\" ry=\"2\" style=\"stroke: #383838; stroke-width: 1.0;\"/></a><!--MD5=[753b6e88bd54ac5aaa7cc6f497fbecc5]\n",
       "@startuml\r\n",
       "top to bottom direction\r\n",
       "skinparam monochrome true\r\n",
       "skinparam classbackgroundcolor white\r\n",
       "skinparam shadowing false\r\n",
       "skinparam wrapWidth 300\r\n",
       "hide circle\r\n",
       "\r\n",
       "package \"QualifiedNameImportTest\" as E1  [[psysml:69fab460-d5be-4945-91cf-3ca8c8123b68 ]]  {\r\n",
       "package \"P1\" as E2  [[psysml:a87ccb6a-ce8a-4667-9a31-41e6c6a1c677 ]]  {\r\n",
       "comp def \"A\" as E3  <<(T,blue)part def>> [[psysml:dead2420-b34a-43f7-a875-a2c685248268 ]] {\r\n",
       "}\r\n",
       "}\r\n",
       "package \"P2\" as E4  [[psysml:434a9cec-9a5b-4c30-bd61-ce4aa8eabf42 ]]  {\r\n",
       "package \"P2a\" as E5  [[psysml:0289fe7d-3512-4b15-a612-d4f3c113c698 ]]  {\r\n",
       "}\r\n",
       "comp usage \"x: A\" as E6  <<(T,blue)part>> [[psysml:febc5459-2ebe-4c36-9a31-624278ca958f ]] {\r\n",
       "}\r\n",
       "E6 - -:|> E3 [[psysml:a41f4e21-5f48-4d30-b801-3db99d3a1abc ]] \r\n",
       "}\r\n",
       "}\r\n",
       "@enduml\r\n",
       "\n",
       "PlantUML version 1.2020.13(Sat Jun 13 12:26:38 UTC 2020)\n",
       "(EPL source distribution)\n",
       "Java Runtime: OpenJDK Runtime Environment\n",
       "JVM: OpenJDK 64-Bit Server VM\n",
       "Default Encoding: UTF-8\n",
       "Language: en\n",
       "Country: null\n",
       "--></g></svg>"
      ]
     },
     "execution_count": 45,
     "metadata": {},
     "output_type": "execute_result"
    }
   ],
   "source": [
    "%viz --style=\"TB\" --view=\"Tree\" \"QualifiedNameImportTest\""
   ]
  },
  {
   "cell_type": "code",
   "execution_count": 46,
   "id": "united-somalia",
   "metadata": {
    "execution": {
     "iopub.execute_input": "2021-03-26T09:15:02.831866Z",
     "iopub.status.busy": "2021-03-26T09:15:02.830909Z",
     "iopub.status.idle": "2021-03-26T09:15:02.836719Z",
     "shell.execute_reply": "2021-03-26T09:15:02.836364Z"
    }
   },
   "outputs": [
    {
     "data": {
      "image/svg+xml": [
       "<?xml version=\"1.0\" encoding=\"UTF-8\" standalone=\"no\"?><svg xmlns=\"http://www.w3.org/2000/svg\" xmlns:xlink=\"http://www.w3.org/1999/xlink\" contentScriptType=\"application/ecmascript\" contentStyleType=\"text/css\" height=\"12px\" preserveAspectRatio=\"none\" style=\"width:12px;height:12px;\" version=\"1.1\" viewBox=\"0 0 12 12\" width=\"12px\" zoomAndPan=\"magnify\"><defs/><g><!--MD5=[f4ee21bc66e489b5061b7c3e9601fdef]\n",
       "@startuml\r\n",
       "top to bottom direction\r\n",
       "skinparam monochrome true\r\n",
       "skinparam classbackgroundcolor white\r\n",
       "skinparam shadowing false\r\n",
       "skinparam wrapWidth 300\r\n",
       "hide circle\r\n",
       "\r\n",
       "@enduml\r\n",
       "\n",
       "PlantUML version 1.2020.13(Sat Jun 13 12:26:38 UTC 2020)\n",
       "(EPL source distribution)\n",
       "Java Runtime: OpenJDK Runtime Environment\n",
       "JVM: OpenJDK 64-Bit Server VM\n",
       "Default Encoding: UTF-8\n",
       "Language: en\n",
       "Country: null\n",
       "--></g></svg>"
      ]
     },
     "execution_count": 46,
     "metadata": {},
     "output_type": "execute_result"
    }
   ],
   "source": [
    "%viz --style=\"TB\" --view=\"State\" \"QualifiedNameImportTest\""
   ]
  },
  {
   "cell_type": "code",
   "execution_count": 47,
   "id": "offensive-fortune",
   "metadata": {
    "execution": {
     "iopub.execute_input": "2021-03-26T09:15:02.888767Z",
     "iopub.status.busy": "2021-03-26T09:15:02.887922Z",
     "iopub.status.idle": "2021-03-26T09:15:02.914171Z",
     "shell.execute_reply": "2021-03-26T09:15:02.912548Z"
    }
   },
   "outputs": [
    {
     "data": {
      "image/svg+xml": [
       "<?xml version=\"1.0\" encoding=\"UTF-8\" standalone=\"no\"?><svg xmlns=\"http://www.w3.org/2000/svg\" xmlns:xlink=\"http://www.w3.org/1999/xlink\" contentScriptType=\"application/ecmascript\" contentStyleType=\"text/css\" height=\"189px\" preserveAspectRatio=\"none\" style=\"width:381px;height:189px;\" version=\"1.1\" viewBox=\"0 0 381 189\" width=\"381px\" zoomAndPan=\"magnify\"><defs/><g><!--MD5=[fbc87193dbaf4d95561dea2c320d4a47]\n",
       "cluster E1--><a href=\"psysml:69fab460-d5be-4945-91cf-3ca8c8123b68\" target=\"_top\" title=\"psysml:69fab460-d5be-4945-91cf-3ca8c8123b68\" xlink:actuate=\"onRequest\" xlink:href=\"psysml:69fab460-d5be-4945-91cf-3ca8c8123b68\" xlink:show=\"new\" xlink:title=\"psysml:69fab460-d5be-4945-91cf-3ca8c8123b68\" xlink:type=\"simple\"><polygon fill=\"#FFFFFF\" points=\"16,6,221,6,228,28.2969,359,28.2969,359,177,16,177,16,6\" style=\"stroke: #000000; stroke-width: 1.5;\"/><line style=\"stroke: #000000; stroke-width: 1.5;\" x1=\"16\" x2=\"228\" y1=\"28.2969\" y2=\"28.2969\"/><text fill=\"#000000\" font-family=\"sans-serif\" font-size=\"14\" font-weight=\"bold\" lengthAdjust=\"spacingAndGlyphs\" textLength=\"199\" x=\"20\" y=\"20.9951\">QualifiedNameImportTest</text></a><!--MD5=[e4f7fae6ed58524ba242bb0b0d3be6b7]\n",
       "cluster E2--><a href=\"psysml:a87ccb6a-ce8a-4667-9a31-41e6c6a1c677\" target=\"_top\" title=\"psysml:a87ccb6a-ce8a-4667-9a31-41e6c6a1c677\" xlink:actuate=\"onRequest\" xlink:href=\"psysml:a87ccb6a-ce8a-4667-9a31-41e6c6a1c677\" xlink:show=\"new\" xlink:title=\"psysml:a87ccb6a-ce8a-4667-9a31-41e6c6a1c677\" xlink:type=\"simple\"><polygon fill=\"#FFFFFF\" points=\"231,54,257,54,264,76.2969,335,76.2969,335,148,231,148,231,54\" style=\"stroke: #000000; stroke-width: 1.5;\"/><line style=\"stroke: #000000; stroke-width: 1.5;\" x1=\"231\" x2=\"264\" y1=\"76.2969\" y2=\"76.2969\"/><text fill=\"#000000\" font-family=\"sans-serif\" font-size=\"14\" font-weight=\"bold\" lengthAdjust=\"spacingAndGlyphs\" textLength=\"20\" x=\"235\" y=\"68.9951\">P1</text></a><!--MD5=[f6df4d0ebaf0b5dfb2ced0ae5af7c670]\n",
       "cluster E4--><a href=\"psysml:434a9cec-9a5b-4c30-bd61-ce4aa8eabf42\" target=\"_top\" title=\"psysml:434a9cec-9a5b-4c30-bd61-ce4aa8eabf42\" xlink:actuate=\"onRequest\" xlink:href=\"psysml:434a9cec-9a5b-4c30-bd61-ce4aa8eabf42\" xlink:show=\"new\" xlink:title=\"psysml:434a9cec-9a5b-4c30-bd61-ce4aa8eabf42\" xlink:type=\"simple\"><polygon fill=\"#FFFFFF\" points=\"40,49,66,49,73,71.2969,207,71.2969,207,153,40,153,40,49\" style=\"stroke: #000000; stroke-width: 1.5;\"/><line style=\"stroke: #000000; stroke-width: 1.5;\" x1=\"40\" x2=\"73\" y1=\"71.2969\" y2=\"71.2969\"/><text fill=\"#000000\" font-family=\"sans-serif\" font-size=\"14\" font-weight=\"bold\" lengthAdjust=\"spacingAndGlyphs\" textLength=\"20\" x=\"44\" y=\"63.9951\">P2</text></a><g id=\"E1.E2.E3\"><a href=\"psysml:dead2420-b34a-43f7-a875-a2c685248268\" target=\"_top\" title=\"psysml:dead2420-b34a-43f7-a875-a2c685248268\" xlink:actuate=\"onRequest\" xlink:href=\"psysml:dead2420-b34a-43f7-a875-a2c685248268\" xlink:show=\"new\" xlink:title=\"psysml:dead2420-b34a-43f7-a875-a2c685248268\" xlink:type=\"simple\"><rect fill=\"#FFFFFF\" height=\"42.9375\" id=\"E3\" style=\"stroke: #383838; stroke-width: 1.5;\" width=\"71\" x=\"247.5\" y=\"89\"/><rect fill=\"#F8F8F8\" height=\"37.9375\" style=\"stroke: #383838; stroke-width: 1.5;\" width=\"71\" x=\"247.5\" y=\"89\"/><text fill=\"#000000\" font-family=\"sans-serif\" font-size=\"12\" font-style=\"italic\" lengthAdjust=\"spacingAndGlyphs\" textLength=\"64\" x=\"251\" y=\"105.1387\">«part def»</text><text fill=\"#000000\" font-family=\"sans-serif\" font-size=\"12\" lengthAdjust=\"spacingAndGlyphs\" textLength=\"8\" x=\"279\" y=\"119.1074\">A</text></a></g><a href=\"psysml:0289fe7d-3512-4b15-a612-d4f3c113c698\" target=\"_top\" title=\"psysml:0289fe7d-3512-4b15-a612-d4f3c113c698\" xlink:actuate=\"onRequest\" xlink:href=\"psysml:0289fe7d-3512-4b15-a612-d4f3c113c698\" xlink:show=\"new\" xlink:title=\"psysml:0289fe7d-3512-4b15-a612-d4f3c113c698\" xlink:type=\"simple\"><polygon fill=\"#FFFFFF\" points=\"141.5,84,176.5,84,183.5,106.2969,190.5,106.2969,190.5,136.5938,141.5,136.5938,141.5,84\" style=\"stroke: #000000; stroke-width: 1.5;\"/><line style=\"stroke: #000000; stroke-width: 1.5;\" x1=\"141.5\" x2=\"183.5\" y1=\"106.2969\" y2=\"106.2969\"/><text fill=\"#000000\" font-family=\"sans-serif\" font-size=\"14\" font-weight=\"bold\" lengthAdjust=\"spacingAndGlyphs\" textLength=\"29\" x=\"145.5\" y=\"98.9951\">P2a</text></a><g id=\"E1.E4.E6\"><a href=\"psysml:febc5459-2ebe-4c36-9a31-624278ca958f\" target=\"_top\" title=\"psysml:febc5459-2ebe-4c36-9a31-624278ca958f\" xlink:actuate=\"onRequest\" xlink:href=\"psysml:febc5459-2ebe-4c36-9a31-624278ca958f\" xlink:show=\"new\" xlink:title=\"psysml:febc5459-2ebe-4c36-9a31-624278ca958f\" xlink:type=\"simple\"><rect fill=\"#FFFFFF\" height=\"40\" id=\"E6\" rx=\"10\" ry=\"10\" style=\"stroke: #383838; stroke-width: 1.5;\" width=\"50\" x=\"56\" y=\"90.5\"/><rect fill=\"#F8F8F8\" height=\"23.9688\" rx=\"10\" ry=\"10\" style=\"stroke: #F8F8F8; stroke-width: 1.5;\" width=\"50\" x=\"56\" y=\"90.5\"/><rect fill=\"#F8F8F8\" height=\"10\" style=\"stroke: #F8F8F8; stroke-width: 1.5;\" width=\"50\" x=\"56\" y=\"104.4688\"/><rect fill=\"none\" height=\"40\" id=\"E6\" rx=\"10\" ry=\"10\" style=\"stroke: #383838; stroke-width: 1.5;\" width=\"50\" x=\"56\" y=\"90.5\"/><text fill=\"#000000\" font-family=\"sans-serif\" font-size=\"12\" lengthAdjust=\"spacingAndGlyphs\" textLength=\"22\" x=\"70\" y=\"106.6387\">x: A</text></a></g><!--MD5=[0a40c66b06115b9e590616e5911e5710]\n",
       "@startuml\r\n",
       "skinparam ranksep 8\r\n",
       "skinparam rectangle {\r\n",
       " backgroundColor<<block>> LightGreen\r\n",
       "}\r\n",
       "top to bottom direction\r\n",
       "skinparam monochrome true\r\n",
       "skinparam classbackgroundcolor white\r\n",
       "skinparam shadowing false\r\n",
       "skinparam wrapWidth 300\r\n",
       "hide circle\r\n",
       "\r\n",
       "package \"QualifiedNameImportTest\" as E1  [[psysml:69fab460-d5be-4945-91cf-3ca8c8123b68 ]]  {\r\n",
       "package \"P1\" as E2  [[psysml:a87ccb6a-ce8a-4667-9a31-41e6c6a1c677 ]]  {\r\n",
       "rec def \"A\" as E3  <<(T,blue)part def>> [[psysml:dead2420-b34a-43f7-a875-a2c685248268 ]] {\r\n",
       "}\r\n",
       "}\r\n",
       "package \"P2\" as E4  [[psysml:434a9cec-9a5b-4c30-bd61-ce4aa8eabf42 ]]  {\r\n",
       "package \"P2a\" as E5  [[psysml:0289fe7d-3512-4b15-a612-d4f3c113c698 ]]  {\r\n",
       "}\r\n",
       "rec usage \"x: A\" as E6  [[psysml:febc5459-2ebe-4c36-9a31-624278ca958f ]] {\r\n",
       "}\r\n",
       "}\r\n",
       "}\r\n",
       "@enduml\r\n",
       "\n",
       "PlantUML version 1.2020.13(Sat Jun 13 12:26:38 UTC 2020)\n",
       "(EPL source distribution)\n",
       "Java Runtime: OpenJDK Runtime Environment\n",
       "JVM: OpenJDK 64-Bit Server VM\n",
       "Default Encoding: UTF-8\n",
       "Language: en\n",
       "Country: null\n",
       "--></g></svg>"
      ]
     },
     "execution_count": 47,
     "metadata": {},
     "output_type": "execute_result"
    }
   ],
   "source": [
    "%viz --style=\"TB\" --view=\"Interconnection\" \"QualifiedNameImportTest\""
   ]
  },
  {
   "cell_type": "code",
   "execution_count": 48,
   "id": "trying-clerk",
   "metadata": {
    "execution": {
     "iopub.execute_input": "2021-03-26T09:15:02.965811Z",
     "iopub.status.busy": "2021-03-26T09:15:02.965284Z",
     "iopub.status.idle": "2021-03-26T09:15:02.971249Z",
     "shell.execute_reply": "2021-03-26T09:15:02.970859Z"
    }
   },
   "outputs": [
    {
     "data": {
      "image/svg+xml": [
       "<?xml version=\"1.0\" encoding=\"UTF-8\" standalone=\"no\"?><svg xmlns=\"http://www.w3.org/2000/svg\" xmlns:xlink=\"http://www.w3.org/1999/xlink\" contentScriptType=\"application/ecmascript\" contentStyleType=\"text/css\" height=\"12px\" preserveAspectRatio=\"none\" style=\"width:12px;height:12px;\" version=\"1.1\" viewBox=\"0 0 12 12\" width=\"12px\" zoomAndPan=\"magnify\"><defs/><g><!--MD5=[06afc254b03ac5e9d9fb7773b07d0800]\n",
       "@startuml\r\n",
       "skinparam ranksep 8\r\n",
       "top to bottom direction\r\n",
       "skinparam monochrome true\r\n",
       "skinparam classbackgroundcolor white\r\n",
       "skinparam shadowing false\r\n",
       "skinparam wrapWidth 300\r\n",
       "hide circle\r\n",
       "\r\n",
       "@enduml\r\n",
       "\n",
       "PlantUML version 1.2020.13(Sat Jun 13 12:26:38 UTC 2020)\n",
       "(EPL source distribution)\n",
       "Java Runtime: OpenJDK Runtime Environment\n",
       "JVM: OpenJDK 64-Bit Server VM\n",
       "Default Encoding: UTF-8\n",
       "Language: en\n",
       "Country: null\n",
       "--></g></svg>"
      ]
     },
     "execution_count": 48,
     "metadata": {},
     "output_type": "execute_result"
    }
   ],
   "source": [
    "%viz --style=\"TB\" --view=\"Action\" \"QualifiedNameImportTest\""
   ]
  },
  {
   "cell_type": "code",
   "execution_count": 49,
   "id": "unexpected-substitute",
   "metadata": {
    "execution": {
     "iopub.execute_input": "2021-03-26T09:15:03.022822Z",
     "iopub.status.busy": "2021-03-26T09:15:03.022102Z",
     "iopub.status.idle": "2021-03-26T09:15:03.048295Z",
     "shell.execute_reply": "2021-03-26T09:15:03.046980Z"
    }
   },
   "outputs": [
    {
     "data": {
      "image/svg+xml": [
       "<?xml version=\"1.0\" encoding=\"UTF-8\" standalone=\"no\"?><svg xmlns=\"http://www.w3.org/2000/svg\" xmlns:xlink=\"http://www.w3.org/1999/xlink\" contentScriptType=\"application/ecmascript\" contentStyleType=\"text/css\" height=\"310px\" preserveAspectRatio=\"none\" style=\"width:253px;height:310px;\" version=\"1.1\" viewBox=\"0 0 253 310\" width=\"253px\" zoomAndPan=\"magnify\"><defs/><g><!--MD5=[fbc87193dbaf4d95561dea2c320d4a47]\n",
       "cluster E1--><a href=\"psysml:69fab460-d5be-4945-91cf-3ca8c8123b68\" target=\"_top\" title=\"psysml:69fab460-d5be-4945-91cf-3ca8c8123b68\" xlink:actuate=\"onRequest\" xlink:href=\"psysml:69fab460-d5be-4945-91cf-3ca8c8123b68\" xlink:show=\"new\" xlink:title=\"psysml:69fab460-d5be-4945-91cf-3ca8c8123b68\" xlink:type=\"simple\"><polygon fill=\"#FFFFFF\" points=\"16,6,221,6,228,28.2969,231,28.2969,231,298,16,298,16,6\" style=\"stroke: #000000; stroke-width: 1.5;\"/><line style=\"stroke: #000000; stroke-width: 1.5;\" x1=\"16\" x2=\"228\" y1=\"28.2969\" y2=\"28.2969\"/><text fill=\"#000000\" font-family=\"sans-serif\" font-size=\"14\" font-weight=\"bold\" lengthAdjust=\"spacingAndGlyphs\" textLength=\"199\" x=\"20\" y=\"20.9951\">QualifiedNameImportTest</text></a><!--MD5=[e4f7fae6ed58524ba242bb0b0d3be6b7]\n",
       "cluster E2--><a href=\"psysml:a87ccb6a-ce8a-4667-9a31-41e6c6a1c677\" target=\"_top\" title=\"psysml:a87ccb6a-ce8a-4667-9a31-41e6c6a1c677\" xlink:actuate=\"onRequest\" xlink:href=\"psysml:a87ccb6a-ce8a-4667-9a31-41e6c6a1c677\" xlink:show=\"new\" xlink:title=\"psysml:a87ccb6a-ce8a-4667-9a31-41e6c6a1c677\" xlink:type=\"simple\"><polygon fill=\"#FFFFFF\" points=\"105,177,131,177,138,199.2969,203,199.2969,203,274,105,274,105,177\" style=\"stroke: #000000; stroke-width: 1.5;\"/><line style=\"stroke: #000000; stroke-width: 1.5;\" x1=\"105\" x2=\"138\" y1=\"199.2969\" y2=\"199.2969\"/><text fill=\"#000000\" font-family=\"sans-serif\" font-size=\"14\" font-weight=\"bold\" lengthAdjust=\"spacingAndGlyphs\" textLength=\"20\" x=\"109\" y=\"191.9951\">P1</text></a><!--MD5=[f6df4d0ebaf0b5dfb2ced0ae5af7c670]\n",
       "cluster E4--><a href=\"psysml:434a9cec-9a5b-4c30-bd61-ce4aa8eabf42\" target=\"_top\" title=\"psysml:434a9cec-9a5b-4c30-bd61-ce4aa8eabf42\" xlink:actuate=\"onRequest\" xlink:href=\"psysml:434a9cec-9a5b-4c30-bd61-ce4aa8eabf42\" xlink:show=\"new\" xlink:title=\"psysml:434a9cec-9a5b-4c30-bd61-ce4aa8eabf42\" xlink:type=\"simple\"><polygon fill=\"#FFFFFF\" points=\"44,49,70,49,77,71.2969,203,71.2969,203,153,44,153,44,49\" style=\"stroke: #000000; stroke-width: 1.5;\"/><line style=\"stroke: #000000; stroke-width: 1.5;\" x1=\"44\" x2=\"77\" y1=\"71.2969\" y2=\"71.2969\"/><text fill=\"#000000\" font-family=\"sans-serif\" font-size=\"14\" font-weight=\"bold\" lengthAdjust=\"spacingAndGlyphs\" textLength=\"20\" x=\"48\" y=\"63.9951\">P2</text></a><!--MD5=[09b614a08d8cba4a07c9adeb5e0fee81]\n",
       "class E3--><a href=\"psysml:dead2420-b34a-43f7-a875-a2c685248268\" target=\"_top\" title=\"psysml:dead2420-b34a-43f7-a875-a2c685248268\" xlink:actuate=\"onRequest\" xlink:href=\"psysml:dead2420-b34a-43f7-a875-a2c685248268\" xlink:show=\"new\" xlink:title=\"psysml:dead2420-b34a-43f7-a875-a2c685248268\" xlink:type=\"simple\"><rect fill=\"#FFFFFF\" height=\"45.9375\" id=\"E3\" style=\"stroke: #383838; stroke-width: 1.5;\" width=\"66\" x=\"121\" y=\"212\"/><text fill=\"#000000\" font-family=\"sans-serif\" font-size=\"12\" font-style=\"italic\" lengthAdjust=\"spacingAndGlyphs\" textLength=\"64\" x=\"122\" y=\"228.1387\">«part def»</text><text fill=\"#000000\" font-family=\"sans-serif\" font-size=\"12\" lengthAdjust=\"spacingAndGlyphs\" textLength=\"8\" x=\"150\" y=\"242.1074\">A</text><line style=\"stroke: #383838; stroke-width: 1.5;\" x1=\"122\" x2=\"186\" y1=\"249.9375\" y2=\"249.9375\"/></a><!--MD5=[60a26617385b1d2d0262a64233df1f8d]\n",
       "class E6--><a href=\"psysml:febc5459-2ebe-4c36-9a31-624278ca958f\" target=\"_top\" title=\"psysml:febc5459-2ebe-4c36-9a31-624278ca958f\" xlink:actuate=\"onRequest\" xlink:href=\"psysml:febc5459-2ebe-4c36-9a31-624278ca958f\" xlink:show=\"new\" xlink:title=\"psysml:febc5459-2ebe-4c36-9a31-624278ca958f\" xlink:type=\"simple\"><rect fill=\"#FFFFFF\" height=\"45.9375\" id=\"E6\" rx=\"10\" ry=\"10\" style=\"stroke: #383838; stroke-width: 1.5;\" width=\"42\" x=\"145\" y=\"87.5\"/><text fill=\"#000000\" font-family=\"sans-serif\" font-size=\"12\" font-style=\"italic\" lengthAdjust=\"spacingAndGlyphs\" textLength=\"40\" x=\"146\" y=\"103.6387\">«part»</text><text fill=\"#000000\" font-family=\"sans-serif\" font-size=\"12\" lengthAdjust=\"spacingAndGlyphs\" textLength=\"22\" x=\"155\" y=\"117.6074\">x: A</text><line style=\"stroke: #383838; stroke-width: 1.5;\" x1=\"146\" x2=\"186\" y1=\"125.4375\" y2=\"125.4375\"/></a><a href=\"psysml:0289fe7d-3512-4b15-a612-d4f3c113c698\" target=\"_top\" title=\"psysml:0289fe7d-3512-4b15-a612-d4f3c113c698\" xlink:actuate=\"onRequest\" xlink:href=\"psysml:0289fe7d-3512-4b15-a612-d4f3c113c698\" xlink:show=\"new\" xlink:title=\"psysml:0289fe7d-3512-4b15-a612-d4f3c113c698\" xlink:type=\"simple\"><polygon fill=\"#FFFFFF\" points=\"60.5,84,95.5,84,102.5,106.2969,109.5,106.2969,109.5,136.5938,60.5,136.5938,60.5,84\" style=\"stroke: #000000; stroke-width: 1.5;\"/><line style=\"stroke: #000000; stroke-width: 1.5;\" x1=\"60.5\" x2=\"102.5\" y1=\"106.2969\" y2=\"106.2969\"/><text fill=\"#000000\" font-family=\"sans-serif\" font-size=\"14\" font-weight=\"bold\" lengthAdjust=\"spacingAndGlyphs\" textLength=\"29\" x=\"64.5\" y=\"98.9951\">P2a</text></a><!--MD5=[a717450b82c80b9240a525fa862496af]\n",
       "link E6 to E3--><a href=\"psysml:a41f4e21-5f48-4d30-b801-3db99d3a1abc\" target=\"_top\" title=\"psysml:a41f4e21-5f48-4d30-b801-3db99d3a1abc\" xlink:actuate=\"onRequest\" xlink:href=\"psysml:a41f4e21-5f48-4d30-b801-3db99d3a1abc\" xlink:show=\"new\" xlink:title=\"psysml:a41f4e21-5f48-4d30-b801-3db99d3a1abc\" xlink:type=\"simple\"><path d=\"M163.83,133.68 C162.24,149.9 160.04,172.39 158.12,191.96 \" fill=\"none\" id=\"E6-&gt;E3\" style=\"stroke: #383838; stroke-width: 1.0;\"/><polygon fill=\"#FFFFFF\" points=\"156.16,211.98,151.0533,192.3861,164.986,193.7564,156.16,211.98\" style=\"stroke: #383838; stroke-width: 1.0;\"/><ellipse cx=\"153.6016\" cy=\"186.9092\" fill=\"#383838\" rx=\"2\" ry=\"2\" style=\"stroke: #383838; stroke-width: 1.0;\"/><ellipse cx=\"163.5535\" cy=\"187.888\" fill=\"#383838\" rx=\"2\" ry=\"2\" style=\"stroke: #383838; stroke-width: 1.0;\"/></a><!--MD5=[753b6e88bd54ac5aaa7cc6f497fbecc5]\n",
       "@startuml\r\n",
       "top to bottom direction\r\n",
       "skinparam monochrome true\r\n",
       "skinparam classbackgroundcolor white\r\n",
       "skinparam shadowing false\r\n",
       "skinparam wrapWidth 300\r\n",
       "hide circle\r\n",
       "\r\n",
       "package \"QualifiedNameImportTest\" as E1  [[psysml:69fab460-d5be-4945-91cf-3ca8c8123b68 ]]  {\r\n",
       "package \"P1\" as E2  [[psysml:a87ccb6a-ce8a-4667-9a31-41e6c6a1c677 ]]  {\r\n",
       "comp def \"A\" as E3  <<(T,blue)part def>> [[psysml:dead2420-b34a-43f7-a875-a2c685248268 ]] {\r\n",
       "}\r\n",
       "}\r\n",
       "package \"P2\" as E4  [[psysml:434a9cec-9a5b-4c30-bd61-ce4aa8eabf42 ]]  {\r\n",
       "package \"P2a\" as E5  [[psysml:0289fe7d-3512-4b15-a612-d4f3c113c698 ]]  {\r\n",
       "}\r\n",
       "comp usage \"x: A\" as E6  <<(T,blue)part>> [[psysml:febc5459-2ebe-4c36-9a31-624278ca958f ]] {\r\n",
       "}\r\n",
       "E6 - -:|> E3 [[psysml:a41f4e21-5f48-4d30-b801-3db99d3a1abc ]] \r\n",
       "}\r\n",
       "}\r\n",
       "@enduml\r\n",
       "\n",
       "PlantUML version 1.2020.13(Sat Jun 13 12:26:38 UTC 2020)\n",
       "(EPL source distribution)\n",
       "Java Runtime: OpenJDK Runtime Environment\n",
       "JVM: OpenJDK 64-Bit Server VM\n",
       "Default Encoding: UTF-8\n",
       "Language: en\n",
       "Country: null\n",
       "--></g></svg>"
      ]
     },
     "execution_count": 49,
     "metadata": {},
     "output_type": "execute_result"
    }
   ],
   "source": [
    "%viz --style=\"TB\" --view=\"Sequence\" \"QualifiedNameImportTest\""
   ]
  },
  {
   "cell_type": "code",
   "execution_count": 50,
   "id": "pregnant-essay",
   "metadata": {
    "execution": {
     "iopub.execute_input": "2021-03-26T09:15:03.099348Z",
     "iopub.status.busy": "2021-03-26T09:15:03.098535Z",
     "iopub.status.idle": "2021-03-26T09:15:03.125273Z",
     "shell.execute_reply": "2021-03-26T09:15:03.124152Z"
    }
   },
   "outputs": [
    {
     "data": {
      "image/svg+xml": [
       "<?xml version=\"1.0\" encoding=\"UTF-8\" standalone=\"no\"?><svg xmlns=\"http://www.w3.org/2000/svg\" xmlns:xlink=\"http://www.w3.org/1999/xlink\" contentScriptType=\"application/ecmascript\" contentStyleType=\"text/css\" height=\"310px\" preserveAspectRatio=\"none\" style=\"width:253px;height:310px;\" version=\"1.1\" viewBox=\"0 0 253 310\" width=\"253px\" zoomAndPan=\"magnify\"><defs/><g><!--MD5=[fbc87193dbaf4d95561dea2c320d4a47]\n",
       "cluster E1--><a href=\"psysml:69fab460-d5be-4945-91cf-3ca8c8123b68\" target=\"_top\" title=\"psysml:69fab460-d5be-4945-91cf-3ca8c8123b68\" xlink:actuate=\"onRequest\" xlink:href=\"psysml:69fab460-d5be-4945-91cf-3ca8c8123b68\" xlink:show=\"new\" xlink:title=\"psysml:69fab460-d5be-4945-91cf-3ca8c8123b68\" xlink:type=\"simple\"><polygon fill=\"#FFFFFF\" points=\"16,6,221,6,228,28.2969,231,28.2969,231,298,16,298,16,6\" style=\"stroke: #000000; stroke-width: 1.5;\"/><line style=\"stroke: #000000; stroke-width: 1.5;\" x1=\"16\" x2=\"228\" y1=\"28.2969\" y2=\"28.2969\"/><text fill=\"#000000\" font-family=\"sans-serif\" font-size=\"14\" font-weight=\"bold\" lengthAdjust=\"spacingAndGlyphs\" textLength=\"199\" x=\"20\" y=\"20.9951\">QualifiedNameImportTest</text></a><!--MD5=[e4f7fae6ed58524ba242bb0b0d3be6b7]\n",
       "cluster E2--><a href=\"psysml:a87ccb6a-ce8a-4667-9a31-41e6c6a1c677\" target=\"_top\" title=\"psysml:a87ccb6a-ce8a-4667-9a31-41e6c6a1c677\" xlink:actuate=\"onRequest\" xlink:href=\"psysml:a87ccb6a-ce8a-4667-9a31-41e6c6a1c677\" xlink:show=\"new\" xlink:title=\"psysml:a87ccb6a-ce8a-4667-9a31-41e6c6a1c677\" xlink:type=\"simple\"><polygon fill=\"#FFFFFF\" points=\"105,177,131,177,138,199.2969,203,199.2969,203,274,105,274,105,177\" style=\"stroke: #000000; stroke-width: 1.5;\"/><line style=\"stroke: #000000; stroke-width: 1.5;\" x1=\"105\" x2=\"138\" y1=\"199.2969\" y2=\"199.2969\"/><text fill=\"#000000\" font-family=\"sans-serif\" font-size=\"14\" font-weight=\"bold\" lengthAdjust=\"spacingAndGlyphs\" textLength=\"20\" x=\"109\" y=\"191.9951\">P1</text></a><!--MD5=[f6df4d0ebaf0b5dfb2ced0ae5af7c670]\n",
       "cluster E4--><a href=\"psysml:434a9cec-9a5b-4c30-bd61-ce4aa8eabf42\" target=\"_top\" title=\"psysml:434a9cec-9a5b-4c30-bd61-ce4aa8eabf42\" xlink:actuate=\"onRequest\" xlink:href=\"psysml:434a9cec-9a5b-4c30-bd61-ce4aa8eabf42\" xlink:show=\"new\" xlink:title=\"psysml:434a9cec-9a5b-4c30-bd61-ce4aa8eabf42\" xlink:type=\"simple\"><polygon fill=\"#FFFFFF\" points=\"44,49,70,49,77,71.2969,203,71.2969,203,153,44,153,44,49\" style=\"stroke: #000000; stroke-width: 1.5;\"/><line style=\"stroke: #000000; stroke-width: 1.5;\" x1=\"44\" x2=\"77\" y1=\"71.2969\" y2=\"71.2969\"/><text fill=\"#000000\" font-family=\"sans-serif\" font-size=\"14\" font-weight=\"bold\" lengthAdjust=\"spacingAndGlyphs\" textLength=\"20\" x=\"48\" y=\"63.9951\">P2</text></a><!--MD5=[09b614a08d8cba4a07c9adeb5e0fee81]\n",
       "class E3--><a href=\"psysml:dead2420-b34a-43f7-a875-a2c685248268\" target=\"_top\" title=\"psysml:dead2420-b34a-43f7-a875-a2c685248268\" xlink:actuate=\"onRequest\" xlink:href=\"psysml:dead2420-b34a-43f7-a875-a2c685248268\" xlink:show=\"new\" xlink:title=\"psysml:dead2420-b34a-43f7-a875-a2c685248268\" xlink:type=\"simple\"><rect fill=\"#FFFFFF\" height=\"45.9375\" id=\"E3\" style=\"stroke: #383838; stroke-width: 1.5;\" width=\"66\" x=\"121\" y=\"212\"/><text fill=\"#000000\" font-family=\"sans-serif\" font-size=\"12\" font-style=\"italic\" lengthAdjust=\"spacingAndGlyphs\" textLength=\"64\" x=\"122\" y=\"228.1387\">«part def»</text><text fill=\"#000000\" font-family=\"sans-serif\" font-size=\"12\" lengthAdjust=\"spacingAndGlyphs\" textLength=\"8\" x=\"150\" y=\"242.1074\">A</text><line style=\"stroke: #383838; stroke-width: 1.5;\" x1=\"122\" x2=\"186\" y1=\"249.9375\" y2=\"249.9375\"/></a><!--MD5=[60a26617385b1d2d0262a64233df1f8d]\n",
       "class E6--><a href=\"psysml:febc5459-2ebe-4c36-9a31-624278ca958f\" target=\"_top\" title=\"psysml:febc5459-2ebe-4c36-9a31-624278ca958f\" xlink:actuate=\"onRequest\" xlink:href=\"psysml:febc5459-2ebe-4c36-9a31-624278ca958f\" xlink:show=\"new\" xlink:title=\"psysml:febc5459-2ebe-4c36-9a31-624278ca958f\" xlink:type=\"simple\"><rect fill=\"#FFFFFF\" height=\"45.9375\" id=\"E6\" rx=\"10\" ry=\"10\" style=\"stroke: #383838; stroke-width: 1.5;\" width=\"42\" x=\"145\" y=\"87.5\"/><text fill=\"#000000\" font-family=\"sans-serif\" font-size=\"12\" font-style=\"italic\" lengthAdjust=\"spacingAndGlyphs\" textLength=\"40\" x=\"146\" y=\"103.6387\">«part»</text><text fill=\"#000000\" font-family=\"sans-serif\" font-size=\"12\" lengthAdjust=\"spacingAndGlyphs\" textLength=\"22\" x=\"155\" y=\"117.6074\">x: A</text><line style=\"stroke: #383838; stroke-width: 1.5;\" x1=\"146\" x2=\"186\" y1=\"125.4375\" y2=\"125.4375\"/></a><a href=\"psysml:0289fe7d-3512-4b15-a612-d4f3c113c698\" target=\"_top\" title=\"psysml:0289fe7d-3512-4b15-a612-d4f3c113c698\" xlink:actuate=\"onRequest\" xlink:href=\"psysml:0289fe7d-3512-4b15-a612-d4f3c113c698\" xlink:show=\"new\" xlink:title=\"psysml:0289fe7d-3512-4b15-a612-d4f3c113c698\" xlink:type=\"simple\"><polygon fill=\"#FFFFFF\" points=\"60.5,84,95.5,84,102.5,106.2969,109.5,106.2969,109.5,136.5938,60.5,136.5938,60.5,84\" style=\"stroke: #000000; stroke-width: 1.5;\"/><line style=\"stroke: #000000; stroke-width: 1.5;\" x1=\"60.5\" x2=\"102.5\" y1=\"106.2969\" y2=\"106.2969\"/><text fill=\"#000000\" font-family=\"sans-serif\" font-size=\"14\" font-weight=\"bold\" lengthAdjust=\"spacingAndGlyphs\" textLength=\"29\" x=\"64.5\" y=\"98.9951\">P2a</text></a><!--MD5=[a717450b82c80b9240a525fa862496af]\n",
       "link E6 to E3--><a href=\"psysml:a41f4e21-5f48-4d30-b801-3db99d3a1abc\" target=\"_top\" title=\"psysml:a41f4e21-5f48-4d30-b801-3db99d3a1abc\" xlink:actuate=\"onRequest\" xlink:href=\"psysml:a41f4e21-5f48-4d30-b801-3db99d3a1abc\" xlink:show=\"new\" xlink:title=\"psysml:a41f4e21-5f48-4d30-b801-3db99d3a1abc\" xlink:type=\"simple\"><path d=\"M163.83,133.68 C162.24,149.9 160.04,172.39 158.12,191.96 \" fill=\"none\" id=\"E6-&gt;E3\" style=\"stroke: #383838; stroke-width: 1.0;\"/><polygon fill=\"#FFFFFF\" points=\"156.16,211.98,151.0533,192.3861,164.986,193.7564,156.16,211.98\" style=\"stroke: #383838; stroke-width: 1.0;\"/><ellipse cx=\"153.6016\" cy=\"186.9092\" fill=\"#383838\" rx=\"2\" ry=\"2\" style=\"stroke: #383838; stroke-width: 1.0;\"/><ellipse cx=\"163.5535\" cy=\"187.888\" fill=\"#383838\" rx=\"2\" ry=\"2\" style=\"stroke: #383838; stroke-width: 1.0;\"/></a><!--MD5=[753b6e88bd54ac5aaa7cc6f497fbecc5]\n",
       "@startuml\r\n",
       "top to bottom direction\r\n",
       "skinparam monochrome true\r\n",
       "skinparam classbackgroundcolor white\r\n",
       "skinparam shadowing false\r\n",
       "skinparam wrapWidth 300\r\n",
       "hide circle\r\n",
       "\r\n",
       "package \"QualifiedNameImportTest\" as E1  [[psysml:69fab460-d5be-4945-91cf-3ca8c8123b68 ]]  {\r\n",
       "package \"P1\" as E2  [[psysml:a87ccb6a-ce8a-4667-9a31-41e6c6a1c677 ]]  {\r\n",
       "comp def \"A\" as E3  <<(T,blue)part def>> [[psysml:dead2420-b34a-43f7-a875-a2c685248268 ]] {\r\n",
       "}\r\n",
       "}\r\n",
       "package \"P2\" as E4  [[psysml:434a9cec-9a5b-4c30-bd61-ce4aa8eabf42 ]]  {\r\n",
       "package \"P2a\" as E5  [[psysml:0289fe7d-3512-4b15-a612-d4f3c113c698 ]]  {\r\n",
       "}\r\n",
       "comp usage \"x: A\" as E6  <<(T,blue)part>> [[psysml:febc5459-2ebe-4c36-9a31-624278ca958f ]] {\r\n",
       "}\r\n",
       "E6 - -:|> E3 [[psysml:a41f4e21-5f48-4d30-b801-3db99d3a1abc ]] \r\n",
       "}\r\n",
       "}\r\n",
       "@enduml\r\n",
       "\n",
       "PlantUML version 1.2020.13(Sat Jun 13 12:26:38 UTC 2020)\n",
       "(EPL source distribution)\n",
       "Java Runtime: OpenJDK Runtime Environment\n",
       "JVM: OpenJDK 64-Bit Server VM\n",
       "Default Encoding: UTF-8\n",
       "Language: en\n",
       "Country: null\n",
       "--></g></svg>"
      ]
     },
     "execution_count": 50,
     "metadata": {},
     "output_type": "execute_result"
    }
   ],
   "source": [
    "%viz --style=\"TB\" --view=\"MIXED\" \"QualifiedNameImportTest\""
   ]
  },
  {
   "cell_type": "code",
   "execution_count": 51,
   "id": "olive-aurora",
   "metadata": {
    "execution": {
     "iopub.execute_input": "2021-03-26T09:15:03.178320Z",
     "iopub.status.busy": "2021-03-26T09:15:03.177342Z",
     "iopub.status.idle": "2021-03-26T09:15:03.203466Z",
     "shell.execute_reply": "2021-03-26T09:15:03.202204Z"
    }
   },
   "outputs": [
    {
     "data": {
      "image/svg+xml": [
       "<?xml version=\"1.0\" encoding=\"UTF-8\" standalone=\"no\"?><svg xmlns=\"http://www.w3.org/2000/svg\" xmlns:xlink=\"http://www.w3.org/1999/xlink\" contentScriptType=\"application/ecmascript\" contentStyleType=\"text/css\" height=\"310px\" preserveAspectRatio=\"none\" style=\"width:253px;height:310px;\" version=\"1.1\" viewBox=\"0 0 253 310\" width=\"253px\" zoomAndPan=\"magnify\"><defs/><g><!--MD5=[fbc87193dbaf4d95561dea2c320d4a47]\n",
       "cluster E1--><a href=\"psysml:69fab460-d5be-4945-91cf-3ca8c8123b68\" target=\"_top\" title=\"psysml:69fab460-d5be-4945-91cf-3ca8c8123b68\" xlink:actuate=\"onRequest\" xlink:href=\"psysml:69fab460-d5be-4945-91cf-3ca8c8123b68\" xlink:show=\"new\" xlink:title=\"psysml:69fab460-d5be-4945-91cf-3ca8c8123b68\" xlink:type=\"simple\"><polygon fill=\"#FFFFFF\" points=\"16,6,221,6,228,28.2969,231,28.2969,231,298,16,298,16,6\" style=\"stroke: #000000; stroke-width: 1.5;\"/><line style=\"stroke: #000000; stroke-width: 1.5;\" x1=\"16\" x2=\"228\" y1=\"28.2969\" y2=\"28.2969\"/><text fill=\"#000000\" font-family=\"sans-serif\" font-size=\"14\" font-weight=\"bold\" lengthAdjust=\"spacingAndGlyphs\" textLength=\"199\" x=\"20\" y=\"20.9951\">QualifiedNameImportTest</text></a><!--MD5=[e4f7fae6ed58524ba242bb0b0d3be6b7]\n",
       "cluster E2--><a href=\"psysml:a87ccb6a-ce8a-4667-9a31-41e6c6a1c677\" target=\"_top\" title=\"psysml:a87ccb6a-ce8a-4667-9a31-41e6c6a1c677\" xlink:actuate=\"onRequest\" xlink:href=\"psysml:a87ccb6a-ce8a-4667-9a31-41e6c6a1c677\" xlink:show=\"new\" xlink:title=\"psysml:a87ccb6a-ce8a-4667-9a31-41e6c6a1c677\" xlink:type=\"simple\"><polygon fill=\"#FFFFFF\" points=\"105,177,131,177,138,199.2969,203,199.2969,203,274,105,274,105,177\" style=\"stroke: #000000; stroke-width: 1.5;\"/><line style=\"stroke: #000000; stroke-width: 1.5;\" x1=\"105\" x2=\"138\" y1=\"199.2969\" y2=\"199.2969\"/><text fill=\"#000000\" font-family=\"sans-serif\" font-size=\"14\" font-weight=\"bold\" lengthAdjust=\"spacingAndGlyphs\" textLength=\"20\" x=\"109\" y=\"191.9951\">P1</text></a><!--MD5=[f6df4d0ebaf0b5dfb2ced0ae5af7c670]\n",
       "cluster E4--><a href=\"psysml:434a9cec-9a5b-4c30-bd61-ce4aa8eabf42\" target=\"_top\" title=\"psysml:434a9cec-9a5b-4c30-bd61-ce4aa8eabf42\" xlink:actuate=\"onRequest\" xlink:href=\"psysml:434a9cec-9a5b-4c30-bd61-ce4aa8eabf42\" xlink:show=\"new\" xlink:title=\"psysml:434a9cec-9a5b-4c30-bd61-ce4aa8eabf42\" xlink:type=\"simple\"><polygon fill=\"#FFFFFF\" points=\"44,49,70,49,77,71.2969,203,71.2969,203,153,44,153,44,49\" style=\"stroke: #000000; stroke-width: 1.5;\"/><line style=\"stroke: #000000; stroke-width: 1.5;\" x1=\"44\" x2=\"77\" y1=\"71.2969\" y2=\"71.2969\"/><text fill=\"#000000\" font-family=\"sans-serif\" font-size=\"14\" font-weight=\"bold\" lengthAdjust=\"spacingAndGlyphs\" textLength=\"20\" x=\"48\" y=\"63.9951\">P2</text></a><!--MD5=[09b614a08d8cba4a07c9adeb5e0fee81]\n",
       "class E3--><a href=\"psysml:dead2420-b34a-43f7-a875-a2c685248268\" target=\"_top\" title=\"psysml:dead2420-b34a-43f7-a875-a2c685248268\" xlink:actuate=\"onRequest\" xlink:href=\"psysml:dead2420-b34a-43f7-a875-a2c685248268\" xlink:show=\"new\" xlink:title=\"psysml:dead2420-b34a-43f7-a875-a2c685248268\" xlink:type=\"simple\"><rect fill=\"#FFFFFF\" height=\"45.9375\" id=\"E3\" style=\"stroke: #383838; stroke-width: 1.5;\" width=\"66\" x=\"121\" y=\"212\"/><text fill=\"#000000\" font-family=\"sans-serif\" font-size=\"12\" font-style=\"italic\" lengthAdjust=\"spacingAndGlyphs\" textLength=\"64\" x=\"122\" y=\"228.1387\">«part def»</text><text fill=\"#000000\" font-family=\"sans-serif\" font-size=\"12\" lengthAdjust=\"spacingAndGlyphs\" textLength=\"8\" x=\"150\" y=\"242.1074\">A</text><line style=\"stroke: #383838; stroke-width: 1.5;\" x1=\"122\" x2=\"186\" y1=\"249.9375\" y2=\"249.9375\"/></a><!--MD5=[60a26617385b1d2d0262a64233df1f8d]\n",
       "class E6--><a href=\"psysml:febc5459-2ebe-4c36-9a31-624278ca958f\" target=\"_top\" title=\"psysml:febc5459-2ebe-4c36-9a31-624278ca958f\" xlink:actuate=\"onRequest\" xlink:href=\"psysml:febc5459-2ebe-4c36-9a31-624278ca958f\" xlink:show=\"new\" xlink:title=\"psysml:febc5459-2ebe-4c36-9a31-624278ca958f\" xlink:type=\"simple\"><rect fill=\"#FFFFFF\" height=\"45.9375\" id=\"E6\" rx=\"10\" ry=\"10\" style=\"stroke: #383838; stroke-width: 1.5;\" width=\"42\" x=\"145\" y=\"87.5\"/><text fill=\"#000000\" font-family=\"sans-serif\" font-size=\"12\" font-style=\"italic\" lengthAdjust=\"spacingAndGlyphs\" textLength=\"40\" x=\"146\" y=\"103.6387\">«part»</text><text fill=\"#000000\" font-family=\"sans-serif\" font-size=\"12\" lengthAdjust=\"spacingAndGlyphs\" textLength=\"22\" x=\"155\" y=\"117.6074\">x: A</text><line style=\"stroke: #383838; stroke-width: 1.5;\" x1=\"146\" x2=\"186\" y1=\"125.4375\" y2=\"125.4375\"/></a><a href=\"psysml:0289fe7d-3512-4b15-a612-d4f3c113c698\" target=\"_top\" title=\"psysml:0289fe7d-3512-4b15-a612-d4f3c113c698\" xlink:actuate=\"onRequest\" xlink:href=\"psysml:0289fe7d-3512-4b15-a612-d4f3c113c698\" xlink:show=\"new\" xlink:title=\"psysml:0289fe7d-3512-4b15-a612-d4f3c113c698\" xlink:type=\"simple\"><polygon fill=\"#FFFFFF\" points=\"60.5,84,95.5,84,102.5,106.2969,109.5,106.2969,109.5,136.5938,60.5,136.5938,60.5,84\" style=\"stroke: #000000; stroke-width: 1.5;\"/><line style=\"stroke: #000000; stroke-width: 1.5;\" x1=\"60.5\" x2=\"102.5\" y1=\"106.2969\" y2=\"106.2969\"/><text fill=\"#000000\" font-family=\"sans-serif\" font-size=\"14\" font-weight=\"bold\" lengthAdjust=\"spacingAndGlyphs\" textLength=\"29\" x=\"64.5\" y=\"98.9951\">P2a</text></a><!--MD5=[a717450b82c80b9240a525fa862496af]\n",
       "link E6 to E3--><a href=\"psysml:a41f4e21-5f48-4d30-b801-3db99d3a1abc\" target=\"_top\" title=\"psysml:a41f4e21-5f48-4d30-b801-3db99d3a1abc\" xlink:actuate=\"onRequest\" xlink:href=\"psysml:a41f4e21-5f48-4d30-b801-3db99d3a1abc\" xlink:show=\"new\" xlink:title=\"psysml:a41f4e21-5f48-4d30-b801-3db99d3a1abc\" xlink:type=\"simple\"><path d=\"M166,133.63 C166,133.63 166,192 166,192 \" fill=\"none\" id=\"E6-&gt;E3\" style=\"stroke: #383838; stroke-width: 1.0;\"/><polygon fill=\"#FFFFFF\" points=\"166,212,159,193,173,193,166,212\" style=\"stroke: #383838; stroke-width: 1.0;\"/><ellipse cx=\"161\" cy=\"187.3\" fill=\"#383838\" rx=\"2\" ry=\"2\" style=\"stroke: #383838; stroke-width: 1.0;\"/><ellipse cx=\"171\" cy=\"187.3\" fill=\"#383838\" rx=\"2\" ry=\"2\" style=\"stroke: #383838; stroke-width: 1.0;\"/></a><!--MD5=[b16cd94391d62371e83a2d61eaa9c522]\n",
       "@startuml\r\n",
       "skinparam linetype ortho\r\n",
       "skinparam monochrome true\r\n",
       "skinparam classbackgroundcolor white\r\n",
       "skinparam shadowing false\r\n",
       "skinparam wrapWidth 300\r\n",
       "hide circle\r\n",
       "\r\n",
       "package \"QualifiedNameImportTest\" as E1  [[psysml:69fab460-d5be-4945-91cf-3ca8c8123b68 ]]  {\r\n",
       "package \"P1\" as E2  [[psysml:a87ccb6a-ce8a-4667-9a31-41e6c6a1c677 ]]  {\r\n",
       "comp def \"A\" as E3  <<(T,blue)part def>> [[psysml:dead2420-b34a-43f7-a875-a2c685248268 ]] {\r\n",
       "}\r\n",
       "}\r\n",
       "package \"P2\" as E4  [[psysml:434a9cec-9a5b-4c30-bd61-ce4aa8eabf42 ]]  {\r\n",
       "package \"P2a\" as E5  [[psysml:0289fe7d-3512-4b15-a612-d4f3c113c698 ]]  {\r\n",
       "}\r\n",
       "comp usage \"x: A\" as E6  <<(T,blue)part>> [[psysml:febc5459-2ebe-4c36-9a31-624278ca958f ]] {\r\n",
       "}\r\n",
       "E6 - -:|> E3 [[psysml:a41f4e21-5f48-4d30-b801-3db99d3a1abc ]] \r\n",
       "}\r\n",
       "}\r\n",
       "@enduml\r\n",
       "\n",
       "PlantUML version 1.2020.13(Sat Jun 13 12:26:38 UTC 2020)\n",
       "(EPL source distribution)\n",
       "Java Runtime: OpenJDK Runtime Environment\n",
       "JVM: OpenJDK 64-Bit Server VM\n",
       "Default Encoding: UTF-8\n",
       "Language: en\n",
       "Country: null\n",
       "--></g></svg>"
      ]
     },
     "execution_count": 51,
     "metadata": {},
     "output_type": "execute_result"
    }
   ],
   "source": [
    "%viz --style=\"ORTHOLINE\" --view=\"Default\" \"QualifiedNameImportTest\""
   ]
  },
  {
   "cell_type": "code",
   "execution_count": 52,
   "id": "straight-trainer",
   "metadata": {
    "execution": {
     "iopub.execute_input": "2021-03-26T09:15:03.254543Z",
     "iopub.status.busy": "2021-03-26T09:15:03.254019Z",
     "iopub.status.idle": "2021-03-26T09:15:03.279897Z",
     "shell.execute_reply": "2021-03-26T09:15:03.278283Z"
    }
   },
   "outputs": [
    {
     "data": {
      "image/svg+xml": [
       "<?xml version=\"1.0\" encoding=\"UTF-8\" standalone=\"no\"?><svg xmlns=\"http://www.w3.org/2000/svg\" xmlns:xlink=\"http://www.w3.org/1999/xlink\" contentScriptType=\"application/ecmascript\" contentStyleType=\"text/css\" height=\"310px\" preserveAspectRatio=\"none\" style=\"width:253px;height:310px;\" version=\"1.1\" viewBox=\"0 0 253 310\" width=\"253px\" zoomAndPan=\"magnify\"><defs/><g><!--MD5=[fbc87193dbaf4d95561dea2c320d4a47]\n",
       "cluster E1--><a href=\"psysml:69fab460-d5be-4945-91cf-3ca8c8123b68\" target=\"_top\" title=\"psysml:69fab460-d5be-4945-91cf-3ca8c8123b68\" xlink:actuate=\"onRequest\" xlink:href=\"psysml:69fab460-d5be-4945-91cf-3ca8c8123b68\" xlink:show=\"new\" xlink:title=\"psysml:69fab460-d5be-4945-91cf-3ca8c8123b68\" xlink:type=\"simple\"><polygon fill=\"#FFFFFF\" points=\"16,6,221,6,228,28.2969,231,28.2969,231,298,16,298,16,6\" style=\"stroke: #000000; stroke-width: 1.5;\"/><line style=\"stroke: #000000; stroke-width: 1.5;\" x1=\"16\" x2=\"228\" y1=\"28.2969\" y2=\"28.2969\"/><text fill=\"#000000\" font-family=\"sans-serif\" font-size=\"14\" font-weight=\"bold\" lengthAdjust=\"spacingAndGlyphs\" textLength=\"199\" x=\"20\" y=\"20.9951\">QualifiedNameImportTest</text></a><!--MD5=[e4f7fae6ed58524ba242bb0b0d3be6b7]\n",
       "cluster E2--><a href=\"psysml:a87ccb6a-ce8a-4667-9a31-41e6c6a1c677\" target=\"_top\" title=\"psysml:a87ccb6a-ce8a-4667-9a31-41e6c6a1c677\" xlink:actuate=\"onRequest\" xlink:href=\"psysml:a87ccb6a-ce8a-4667-9a31-41e6c6a1c677\" xlink:show=\"new\" xlink:title=\"psysml:a87ccb6a-ce8a-4667-9a31-41e6c6a1c677\" xlink:type=\"simple\"><polygon fill=\"#FFFFFF\" points=\"105,177,131,177,138,199.2969,203,199.2969,203,274,105,274,105,177\" style=\"stroke: #000000; stroke-width: 1.5;\"/><line style=\"stroke: #000000; stroke-width: 1.5;\" x1=\"105\" x2=\"138\" y1=\"199.2969\" y2=\"199.2969\"/><text fill=\"#000000\" font-family=\"sans-serif\" font-size=\"14\" font-weight=\"bold\" lengthAdjust=\"spacingAndGlyphs\" textLength=\"20\" x=\"109\" y=\"191.9951\">P1</text></a><!--MD5=[f6df4d0ebaf0b5dfb2ced0ae5af7c670]\n",
       "cluster E4--><a href=\"psysml:434a9cec-9a5b-4c30-bd61-ce4aa8eabf42\" target=\"_top\" title=\"psysml:434a9cec-9a5b-4c30-bd61-ce4aa8eabf42\" xlink:actuate=\"onRequest\" xlink:href=\"psysml:434a9cec-9a5b-4c30-bd61-ce4aa8eabf42\" xlink:show=\"new\" xlink:title=\"psysml:434a9cec-9a5b-4c30-bd61-ce4aa8eabf42\" xlink:type=\"simple\"><polygon fill=\"#FFFFFF\" points=\"44,49,70,49,77,71.2969,203,71.2969,203,153,44,153,44,49\" style=\"stroke: #000000; stroke-width: 1.5;\"/><line style=\"stroke: #000000; stroke-width: 1.5;\" x1=\"44\" x2=\"77\" y1=\"71.2969\" y2=\"71.2969\"/><text fill=\"#000000\" font-family=\"sans-serif\" font-size=\"14\" font-weight=\"bold\" lengthAdjust=\"spacingAndGlyphs\" textLength=\"20\" x=\"48\" y=\"63.9951\">P2</text></a><!--MD5=[09b614a08d8cba4a07c9adeb5e0fee81]\n",
       "class E3--><a href=\"psysml:dead2420-b34a-43f7-a875-a2c685248268\" target=\"_top\" title=\"psysml:dead2420-b34a-43f7-a875-a2c685248268\" xlink:actuate=\"onRequest\" xlink:href=\"psysml:dead2420-b34a-43f7-a875-a2c685248268\" xlink:show=\"new\" xlink:title=\"psysml:dead2420-b34a-43f7-a875-a2c685248268\" xlink:type=\"simple\"><rect fill=\"#FFFFFF\" height=\"45.9375\" id=\"E3\" style=\"stroke: #383838; stroke-width: 1.5;\" width=\"66\" x=\"121\" y=\"212\"/><text fill=\"#000000\" font-family=\"sans-serif\" font-size=\"12\" font-style=\"italic\" lengthAdjust=\"spacingAndGlyphs\" textLength=\"64\" x=\"122\" y=\"228.1387\">«part def»</text><text fill=\"#000000\" font-family=\"sans-serif\" font-size=\"12\" lengthAdjust=\"spacingAndGlyphs\" textLength=\"8\" x=\"150\" y=\"242.1074\">A</text><line style=\"stroke: #383838; stroke-width: 1.5;\" x1=\"122\" x2=\"186\" y1=\"249.9375\" y2=\"249.9375\"/></a><!--MD5=[60a26617385b1d2d0262a64233df1f8d]\n",
       "class E6--><a href=\"psysml:febc5459-2ebe-4c36-9a31-624278ca958f\" target=\"_top\" title=\"psysml:febc5459-2ebe-4c36-9a31-624278ca958f\" xlink:actuate=\"onRequest\" xlink:href=\"psysml:febc5459-2ebe-4c36-9a31-624278ca958f\" xlink:show=\"new\" xlink:title=\"psysml:febc5459-2ebe-4c36-9a31-624278ca958f\" xlink:type=\"simple\"><rect fill=\"#FFFFFF\" height=\"45.9375\" id=\"E6\" rx=\"10\" ry=\"10\" style=\"stroke: #383838; stroke-width: 1.5;\" width=\"42\" x=\"145\" y=\"87.5\"/><text fill=\"#000000\" font-family=\"sans-serif\" font-size=\"12\" font-style=\"italic\" lengthAdjust=\"spacingAndGlyphs\" textLength=\"40\" x=\"146\" y=\"103.6387\">«part»</text><text fill=\"#000000\" font-family=\"sans-serif\" font-size=\"12\" lengthAdjust=\"spacingAndGlyphs\" textLength=\"22\" x=\"155\" y=\"117.6074\">x: A</text><line style=\"stroke: #383838; stroke-width: 1.5;\" x1=\"146\" x2=\"186\" y1=\"125.4375\" y2=\"125.4375\"/></a><a href=\"psysml:0289fe7d-3512-4b15-a612-d4f3c113c698\" target=\"_top\" title=\"psysml:0289fe7d-3512-4b15-a612-d4f3c113c698\" xlink:actuate=\"onRequest\" xlink:href=\"psysml:0289fe7d-3512-4b15-a612-d4f3c113c698\" xlink:show=\"new\" xlink:title=\"psysml:0289fe7d-3512-4b15-a612-d4f3c113c698\" xlink:type=\"simple\"><polygon fill=\"#FFFFFF\" points=\"60.5,84,95.5,84,102.5,106.2969,109.5,106.2969,109.5,136.5938,60.5,136.5938,60.5,84\" style=\"stroke: #000000; stroke-width: 1.5;\"/><line style=\"stroke: #000000; stroke-width: 1.5;\" x1=\"60.5\" x2=\"102.5\" y1=\"106.2969\" y2=\"106.2969\"/><text fill=\"#000000\" font-family=\"sans-serif\" font-size=\"14\" font-weight=\"bold\" lengthAdjust=\"spacingAndGlyphs\" textLength=\"29\" x=\"64.5\" y=\"98.9951\">P2a</text></a><!--MD5=[a717450b82c80b9240a525fa862496af]\n",
       "link E6 to E3--><a href=\"psysml:a41f4e21-5f48-4d30-b801-3db99d3a1abc\" target=\"_top\" title=\"psysml:a41f4e21-5f48-4d30-b801-3db99d3a1abc\" xlink:actuate=\"onRequest\" xlink:href=\"psysml:a41f4e21-5f48-4d30-b801-3db99d3a1abc\" xlink:show=\"new\" xlink:title=\"psysml:a41f4e21-5f48-4d30-b801-3db99d3a1abc\" xlink:type=\"simple\"><path d=\"M166,133.63 C166,133.63 166,192 166,192 \" fill=\"none\" id=\"E6-&gt;E3\" style=\"stroke: #383838; stroke-width: 1.0;\"/><polygon fill=\"#FFFFFF\" points=\"166,212,159,193,173,193,166,212\" style=\"stroke: #383838; stroke-width: 1.0;\"/><ellipse cx=\"161\" cy=\"187.3\" fill=\"#383838\" rx=\"2\" ry=\"2\" style=\"stroke: #383838; stroke-width: 1.0;\"/><ellipse cx=\"171\" cy=\"187.3\" fill=\"#383838\" rx=\"2\" ry=\"2\" style=\"stroke: #383838; stroke-width: 1.0;\"/></a><!--MD5=[b16cd94391d62371e83a2d61eaa9c522]\n",
       "@startuml\r\n",
       "skinparam linetype ortho\r\n",
       "skinparam monochrome true\r\n",
       "skinparam classbackgroundcolor white\r\n",
       "skinparam shadowing false\r\n",
       "skinparam wrapWidth 300\r\n",
       "hide circle\r\n",
       "\r\n",
       "package \"QualifiedNameImportTest\" as E1  [[psysml:69fab460-d5be-4945-91cf-3ca8c8123b68 ]]  {\r\n",
       "package \"P1\" as E2  [[psysml:a87ccb6a-ce8a-4667-9a31-41e6c6a1c677 ]]  {\r\n",
       "comp def \"A\" as E3  <<(T,blue)part def>> [[psysml:dead2420-b34a-43f7-a875-a2c685248268 ]] {\r\n",
       "}\r\n",
       "}\r\n",
       "package \"P2\" as E4  [[psysml:434a9cec-9a5b-4c30-bd61-ce4aa8eabf42 ]]  {\r\n",
       "package \"P2a\" as E5  [[psysml:0289fe7d-3512-4b15-a612-d4f3c113c698 ]]  {\r\n",
       "}\r\n",
       "comp usage \"x: A\" as E6  <<(T,blue)part>> [[psysml:febc5459-2ebe-4c36-9a31-624278ca958f ]] {\r\n",
       "}\r\n",
       "E6 - -:|> E3 [[psysml:a41f4e21-5f48-4d30-b801-3db99d3a1abc ]] \r\n",
       "}\r\n",
       "}\r\n",
       "@enduml\r\n",
       "\n",
       "PlantUML version 1.2020.13(Sat Jun 13 12:26:38 UTC 2020)\n",
       "(EPL source distribution)\n",
       "Java Runtime: OpenJDK Runtime Environment\n",
       "JVM: OpenJDK 64-Bit Server VM\n",
       "Default Encoding: UTF-8\n",
       "Language: en\n",
       "Country: null\n",
       "--></g></svg>"
      ]
     },
     "execution_count": 52,
     "metadata": {},
     "output_type": "execute_result"
    }
   ],
   "source": [
    "%viz --style=\"ORTHOLINE\" --view=\"Tree\" \"QualifiedNameImportTest\""
   ]
  },
  {
   "cell_type": "code",
   "execution_count": 53,
   "id": "above-houston",
   "metadata": {
    "execution": {
     "iopub.execute_input": "2021-03-26T09:15:03.329632Z",
     "iopub.status.busy": "2021-03-26T09:15:03.329179Z",
     "iopub.status.idle": "2021-03-26T09:15:03.333810Z",
     "shell.execute_reply": "2021-03-26T09:15:03.333498Z"
    }
   },
   "outputs": [
    {
     "data": {
      "image/svg+xml": [
       "<?xml version=\"1.0\" encoding=\"UTF-8\" standalone=\"no\"?><svg xmlns=\"http://www.w3.org/2000/svg\" xmlns:xlink=\"http://www.w3.org/1999/xlink\" contentScriptType=\"application/ecmascript\" contentStyleType=\"text/css\" height=\"12px\" preserveAspectRatio=\"none\" style=\"width:12px;height:12px;\" version=\"1.1\" viewBox=\"0 0 12 12\" width=\"12px\" zoomAndPan=\"magnify\"><defs/><g><!--MD5=[97d6f38768b311333d388e66b2b27985]\n",
       "@startuml\r\n",
       "skinparam linetype ortho\r\n",
       "skinparam monochrome true\r\n",
       "skinparam classbackgroundcolor white\r\n",
       "skinparam shadowing false\r\n",
       "skinparam wrapWidth 300\r\n",
       "hide circle\r\n",
       "\r\n",
       "@enduml\r\n",
       "\n",
       "PlantUML version 1.2020.13(Sat Jun 13 12:26:38 UTC 2020)\n",
       "(EPL source distribution)\n",
       "Java Runtime: OpenJDK Runtime Environment\n",
       "JVM: OpenJDK 64-Bit Server VM\n",
       "Default Encoding: UTF-8\n",
       "Language: en\n",
       "Country: null\n",
       "--></g></svg>"
      ]
     },
     "execution_count": 53,
     "metadata": {},
     "output_type": "execute_result"
    }
   ],
   "source": [
    "%viz --style=\"ORTHOLINE\" --view=\"State\" \"QualifiedNameImportTest\""
   ]
  },
  {
   "cell_type": "code",
   "execution_count": 54,
   "id": "dress-documentation",
   "metadata": {
    "execution": {
     "iopub.execute_input": "2021-03-26T09:15:03.384441Z",
     "iopub.status.busy": "2021-03-26T09:15:03.383876Z",
     "iopub.status.idle": "2021-03-26T09:15:03.405854Z",
     "shell.execute_reply": "2021-03-26T09:15:03.404800Z"
    }
   },
   "outputs": [
    {
     "data": {
      "image/svg+xml": [
       "<?xml version=\"1.0\" encoding=\"UTF-8\" standalone=\"no\"?><svg xmlns=\"http://www.w3.org/2000/svg\" xmlns:xlink=\"http://www.w3.org/1999/xlink\" contentScriptType=\"application/ecmascript\" contentStyleType=\"text/css\" height=\"189px\" preserveAspectRatio=\"none\" style=\"width:381px;height:189px;\" version=\"1.1\" viewBox=\"0 0 381 189\" width=\"381px\" zoomAndPan=\"magnify\"><defs/><g><!--MD5=[fbc87193dbaf4d95561dea2c320d4a47]\n",
       "cluster E1--><a href=\"psysml:69fab460-d5be-4945-91cf-3ca8c8123b68\" target=\"_top\" title=\"psysml:69fab460-d5be-4945-91cf-3ca8c8123b68\" xlink:actuate=\"onRequest\" xlink:href=\"psysml:69fab460-d5be-4945-91cf-3ca8c8123b68\" xlink:show=\"new\" xlink:title=\"psysml:69fab460-d5be-4945-91cf-3ca8c8123b68\" xlink:type=\"simple\"><polygon fill=\"#FFFFFF\" points=\"16,6,221,6,228,28.2969,359,28.2969,359,177,16,177,16,6\" style=\"stroke: #000000; stroke-width: 1.5;\"/><line style=\"stroke: #000000; stroke-width: 1.5;\" x1=\"16\" x2=\"228\" y1=\"28.2969\" y2=\"28.2969\"/><text fill=\"#000000\" font-family=\"sans-serif\" font-size=\"14\" font-weight=\"bold\" lengthAdjust=\"spacingAndGlyphs\" textLength=\"199\" x=\"20\" y=\"20.9951\">QualifiedNameImportTest</text></a><!--MD5=[e4f7fae6ed58524ba242bb0b0d3be6b7]\n",
       "cluster E2--><a href=\"psysml:a87ccb6a-ce8a-4667-9a31-41e6c6a1c677\" target=\"_top\" title=\"psysml:a87ccb6a-ce8a-4667-9a31-41e6c6a1c677\" xlink:actuate=\"onRequest\" xlink:href=\"psysml:a87ccb6a-ce8a-4667-9a31-41e6c6a1c677\" xlink:show=\"new\" xlink:title=\"psysml:a87ccb6a-ce8a-4667-9a31-41e6c6a1c677\" xlink:type=\"simple\"><polygon fill=\"#FFFFFF\" points=\"231,54,257,54,264,76.2969,335,76.2969,335,148,231,148,231,54\" style=\"stroke: #000000; stroke-width: 1.5;\"/><line style=\"stroke: #000000; stroke-width: 1.5;\" x1=\"231\" x2=\"264\" y1=\"76.2969\" y2=\"76.2969\"/><text fill=\"#000000\" font-family=\"sans-serif\" font-size=\"14\" font-weight=\"bold\" lengthAdjust=\"spacingAndGlyphs\" textLength=\"20\" x=\"235\" y=\"68.9951\">P1</text></a><!--MD5=[f6df4d0ebaf0b5dfb2ced0ae5af7c670]\n",
       "cluster E4--><a href=\"psysml:434a9cec-9a5b-4c30-bd61-ce4aa8eabf42\" target=\"_top\" title=\"psysml:434a9cec-9a5b-4c30-bd61-ce4aa8eabf42\" xlink:actuate=\"onRequest\" xlink:href=\"psysml:434a9cec-9a5b-4c30-bd61-ce4aa8eabf42\" xlink:show=\"new\" xlink:title=\"psysml:434a9cec-9a5b-4c30-bd61-ce4aa8eabf42\" xlink:type=\"simple\"><polygon fill=\"#FFFFFF\" points=\"40,49,66,49,73,71.2969,207,71.2969,207,153,40,153,40,49\" style=\"stroke: #000000; stroke-width: 1.5;\"/><line style=\"stroke: #000000; stroke-width: 1.5;\" x1=\"40\" x2=\"73\" y1=\"71.2969\" y2=\"71.2969\"/><text fill=\"#000000\" font-family=\"sans-serif\" font-size=\"14\" font-weight=\"bold\" lengthAdjust=\"spacingAndGlyphs\" textLength=\"20\" x=\"44\" y=\"63.9951\">P2</text></a><g id=\"E1.E2.E3\"><a href=\"psysml:dead2420-b34a-43f7-a875-a2c685248268\" target=\"_top\" title=\"psysml:dead2420-b34a-43f7-a875-a2c685248268\" xlink:actuate=\"onRequest\" xlink:href=\"psysml:dead2420-b34a-43f7-a875-a2c685248268\" xlink:show=\"new\" xlink:title=\"psysml:dead2420-b34a-43f7-a875-a2c685248268\" xlink:type=\"simple\"><rect fill=\"#FFFFFF\" height=\"42.9375\" id=\"E3\" style=\"stroke: #383838; stroke-width: 1.5;\" width=\"71\" x=\"247.5\" y=\"89\"/><rect fill=\"#F8F8F8\" height=\"37.9375\" style=\"stroke: #383838; stroke-width: 1.5;\" width=\"71\" x=\"247.5\" y=\"89\"/><text fill=\"#000000\" font-family=\"sans-serif\" font-size=\"12\" font-style=\"italic\" lengthAdjust=\"spacingAndGlyphs\" textLength=\"64\" x=\"251\" y=\"105.1387\">«part def»</text><text fill=\"#000000\" font-family=\"sans-serif\" font-size=\"12\" lengthAdjust=\"spacingAndGlyphs\" textLength=\"8\" x=\"279\" y=\"119.1074\">A</text></a></g><a href=\"psysml:0289fe7d-3512-4b15-a612-d4f3c113c698\" target=\"_top\" title=\"psysml:0289fe7d-3512-4b15-a612-d4f3c113c698\" xlink:actuate=\"onRequest\" xlink:href=\"psysml:0289fe7d-3512-4b15-a612-d4f3c113c698\" xlink:show=\"new\" xlink:title=\"psysml:0289fe7d-3512-4b15-a612-d4f3c113c698\" xlink:type=\"simple\"><polygon fill=\"#FFFFFF\" points=\"141.5,84,176.5,84,183.5,106.2969,190.5,106.2969,190.5,136.5938,141.5,136.5938,141.5,84\" style=\"stroke: #000000; stroke-width: 1.5;\"/><line style=\"stroke: #000000; stroke-width: 1.5;\" x1=\"141.5\" x2=\"183.5\" y1=\"106.2969\" y2=\"106.2969\"/><text fill=\"#000000\" font-family=\"sans-serif\" font-size=\"14\" font-weight=\"bold\" lengthAdjust=\"spacingAndGlyphs\" textLength=\"29\" x=\"145.5\" y=\"98.9951\">P2a</text></a><g id=\"E1.E4.E6\"><a href=\"psysml:febc5459-2ebe-4c36-9a31-624278ca958f\" target=\"_top\" title=\"psysml:febc5459-2ebe-4c36-9a31-624278ca958f\" xlink:actuate=\"onRequest\" xlink:href=\"psysml:febc5459-2ebe-4c36-9a31-624278ca958f\" xlink:show=\"new\" xlink:title=\"psysml:febc5459-2ebe-4c36-9a31-624278ca958f\" xlink:type=\"simple\"><rect fill=\"#FFFFFF\" height=\"40\" id=\"E6\" rx=\"10\" ry=\"10\" style=\"stroke: #383838; stroke-width: 1.5;\" width=\"50\" x=\"56\" y=\"90.5\"/><rect fill=\"#F8F8F8\" height=\"23.9688\" rx=\"10\" ry=\"10\" style=\"stroke: #F8F8F8; stroke-width: 1.5;\" width=\"50\" x=\"56\" y=\"90.5\"/><rect fill=\"#F8F8F8\" height=\"10\" style=\"stroke: #F8F8F8; stroke-width: 1.5;\" width=\"50\" x=\"56\" y=\"104.4688\"/><rect fill=\"none\" height=\"40\" id=\"E6\" rx=\"10\" ry=\"10\" style=\"stroke: #383838; stroke-width: 1.5;\" width=\"50\" x=\"56\" y=\"90.5\"/><text fill=\"#000000\" font-family=\"sans-serif\" font-size=\"12\" lengthAdjust=\"spacingAndGlyphs\" textLength=\"22\" x=\"70\" y=\"106.6387\">x: A</text></a></g><!--MD5=[85d5c6bf1a236c4a551193063f3ff8ca]\n",
       "@startuml\r\n",
       "skinparam ranksep 8\r\n",
       "skinparam rectangle {\r\n",
       " backgroundColor<<block>> LightGreen\r\n",
       "}\r\n",
       "skinparam linetype ortho\r\n",
       "skinparam monochrome true\r\n",
       "skinparam classbackgroundcolor white\r\n",
       "skinparam shadowing false\r\n",
       "skinparam wrapWidth 300\r\n",
       "hide circle\r\n",
       "\r\n",
       "package \"QualifiedNameImportTest\" as E1  [[psysml:69fab460-d5be-4945-91cf-3ca8c8123b68 ]]  {\r\n",
       "package \"P1\" as E2  [[psysml:a87ccb6a-ce8a-4667-9a31-41e6c6a1c677 ]]  {\r\n",
       "rec def \"A\" as E3  <<(T,blue)part def>> [[psysml:dead2420-b34a-43f7-a875-a2c685248268 ]] {\r\n",
       "}\r\n",
       "}\r\n",
       "package \"P2\" as E4  [[psysml:434a9cec-9a5b-4c30-bd61-ce4aa8eabf42 ]]  {\r\n",
       "package \"P2a\" as E5  [[psysml:0289fe7d-3512-4b15-a612-d4f3c113c698 ]]  {\r\n",
       "}\r\n",
       "rec usage \"x: A\" as E6  [[psysml:febc5459-2ebe-4c36-9a31-624278ca958f ]] {\r\n",
       "}\r\n",
       "}\r\n",
       "}\r\n",
       "@enduml\r\n",
       "\n",
       "PlantUML version 1.2020.13(Sat Jun 13 12:26:38 UTC 2020)\n",
       "(EPL source distribution)\n",
       "Java Runtime: OpenJDK Runtime Environment\n",
       "JVM: OpenJDK 64-Bit Server VM\n",
       "Default Encoding: UTF-8\n",
       "Language: en\n",
       "Country: null\n",
       "--></g></svg>"
      ]
     },
     "execution_count": 54,
     "metadata": {},
     "output_type": "execute_result"
    }
   ],
   "source": [
    "%viz --style=\"ORTHOLINE\" --view=\"Interconnection\" \"QualifiedNameImportTest\""
   ]
  },
  {
   "cell_type": "code",
   "execution_count": 55,
   "id": "magnetic-clarity",
   "metadata": {
    "execution": {
     "iopub.execute_input": "2021-03-26T09:15:03.455442Z",
     "iopub.status.busy": "2021-03-26T09:15:03.455014Z",
     "iopub.status.idle": "2021-03-26T09:15:03.458906Z",
     "shell.execute_reply": "2021-03-26T09:15:03.458452Z"
    }
   },
   "outputs": [
    {
     "data": {
      "image/svg+xml": [
       "<?xml version=\"1.0\" encoding=\"UTF-8\" standalone=\"no\"?><svg xmlns=\"http://www.w3.org/2000/svg\" xmlns:xlink=\"http://www.w3.org/1999/xlink\" contentScriptType=\"application/ecmascript\" contentStyleType=\"text/css\" height=\"12px\" preserveAspectRatio=\"none\" style=\"width:12px;height:12px;\" version=\"1.1\" viewBox=\"0 0 12 12\" width=\"12px\" zoomAndPan=\"magnify\"><defs/><g><!--MD5=[72934c63077099a26744516a776b4749]\n",
       "@startuml\r\n",
       "skinparam ranksep 8\r\n",
       "skinparam linetype ortho\r\n",
       "skinparam monochrome true\r\n",
       "skinparam classbackgroundcolor white\r\n",
       "skinparam shadowing false\r\n",
       "skinparam wrapWidth 300\r\n",
       "hide circle\r\n",
       "\r\n",
       "@enduml\r\n",
       "\n",
       "PlantUML version 1.2020.13(Sat Jun 13 12:26:38 UTC 2020)\n",
       "(EPL source distribution)\n",
       "Java Runtime: OpenJDK Runtime Environment\n",
       "JVM: OpenJDK 64-Bit Server VM\n",
       "Default Encoding: UTF-8\n",
       "Language: en\n",
       "Country: null\n",
       "--></g></svg>"
      ]
     },
     "execution_count": 55,
     "metadata": {},
     "output_type": "execute_result"
    }
   ],
   "source": [
    "%viz --style=\"ORTHOLINE\" --view=\"Action\" \"QualifiedNameImportTest\""
   ]
  },
  {
   "cell_type": "code",
   "execution_count": 56,
   "id": "educational-timeline",
   "metadata": {
    "execution": {
     "iopub.execute_input": "2021-03-26T09:15:03.509372Z",
     "iopub.status.busy": "2021-03-26T09:15:03.508976Z",
     "iopub.status.idle": "2021-03-26T09:15:03.532114Z",
     "shell.execute_reply": "2021-03-26T09:15:03.531019Z"
    }
   },
   "outputs": [
    {
     "data": {
      "image/svg+xml": [
       "<?xml version=\"1.0\" encoding=\"UTF-8\" standalone=\"no\"?><svg xmlns=\"http://www.w3.org/2000/svg\" xmlns:xlink=\"http://www.w3.org/1999/xlink\" contentScriptType=\"application/ecmascript\" contentStyleType=\"text/css\" height=\"310px\" preserveAspectRatio=\"none\" style=\"width:253px;height:310px;\" version=\"1.1\" viewBox=\"0 0 253 310\" width=\"253px\" zoomAndPan=\"magnify\"><defs/><g><!--MD5=[fbc87193dbaf4d95561dea2c320d4a47]\n",
       "cluster E1--><a href=\"psysml:69fab460-d5be-4945-91cf-3ca8c8123b68\" target=\"_top\" title=\"psysml:69fab460-d5be-4945-91cf-3ca8c8123b68\" xlink:actuate=\"onRequest\" xlink:href=\"psysml:69fab460-d5be-4945-91cf-3ca8c8123b68\" xlink:show=\"new\" xlink:title=\"psysml:69fab460-d5be-4945-91cf-3ca8c8123b68\" xlink:type=\"simple\"><polygon fill=\"#FFFFFF\" points=\"16,6,221,6,228,28.2969,231,28.2969,231,298,16,298,16,6\" style=\"stroke: #000000; stroke-width: 1.5;\"/><line style=\"stroke: #000000; stroke-width: 1.5;\" x1=\"16\" x2=\"228\" y1=\"28.2969\" y2=\"28.2969\"/><text fill=\"#000000\" font-family=\"sans-serif\" font-size=\"14\" font-weight=\"bold\" lengthAdjust=\"spacingAndGlyphs\" textLength=\"199\" x=\"20\" y=\"20.9951\">QualifiedNameImportTest</text></a><!--MD5=[e4f7fae6ed58524ba242bb0b0d3be6b7]\n",
       "cluster E2--><a href=\"psysml:a87ccb6a-ce8a-4667-9a31-41e6c6a1c677\" target=\"_top\" title=\"psysml:a87ccb6a-ce8a-4667-9a31-41e6c6a1c677\" xlink:actuate=\"onRequest\" xlink:href=\"psysml:a87ccb6a-ce8a-4667-9a31-41e6c6a1c677\" xlink:show=\"new\" xlink:title=\"psysml:a87ccb6a-ce8a-4667-9a31-41e6c6a1c677\" xlink:type=\"simple\"><polygon fill=\"#FFFFFF\" points=\"105,177,131,177,138,199.2969,203,199.2969,203,274,105,274,105,177\" style=\"stroke: #000000; stroke-width: 1.5;\"/><line style=\"stroke: #000000; stroke-width: 1.5;\" x1=\"105\" x2=\"138\" y1=\"199.2969\" y2=\"199.2969\"/><text fill=\"#000000\" font-family=\"sans-serif\" font-size=\"14\" font-weight=\"bold\" lengthAdjust=\"spacingAndGlyphs\" textLength=\"20\" x=\"109\" y=\"191.9951\">P1</text></a><!--MD5=[f6df4d0ebaf0b5dfb2ced0ae5af7c670]\n",
       "cluster E4--><a href=\"psysml:434a9cec-9a5b-4c30-bd61-ce4aa8eabf42\" target=\"_top\" title=\"psysml:434a9cec-9a5b-4c30-bd61-ce4aa8eabf42\" xlink:actuate=\"onRequest\" xlink:href=\"psysml:434a9cec-9a5b-4c30-bd61-ce4aa8eabf42\" xlink:show=\"new\" xlink:title=\"psysml:434a9cec-9a5b-4c30-bd61-ce4aa8eabf42\" xlink:type=\"simple\"><polygon fill=\"#FFFFFF\" points=\"44,49,70,49,77,71.2969,203,71.2969,203,153,44,153,44,49\" style=\"stroke: #000000; stroke-width: 1.5;\"/><line style=\"stroke: #000000; stroke-width: 1.5;\" x1=\"44\" x2=\"77\" y1=\"71.2969\" y2=\"71.2969\"/><text fill=\"#000000\" font-family=\"sans-serif\" font-size=\"14\" font-weight=\"bold\" lengthAdjust=\"spacingAndGlyphs\" textLength=\"20\" x=\"48\" y=\"63.9951\">P2</text></a><!--MD5=[09b614a08d8cba4a07c9adeb5e0fee81]\n",
       "class E3--><a href=\"psysml:dead2420-b34a-43f7-a875-a2c685248268\" target=\"_top\" title=\"psysml:dead2420-b34a-43f7-a875-a2c685248268\" xlink:actuate=\"onRequest\" xlink:href=\"psysml:dead2420-b34a-43f7-a875-a2c685248268\" xlink:show=\"new\" xlink:title=\"psysml:dead2420-b34a-43f7-a875-a2c685248268\" xlink:type=\"simple\"><rect fill=\"#FFFFFF\" height=\"45.9375\" id=\"E3\" style=\"stroke: #383838; stroke-width: 1.5;\" width=\"66\" x=\"121\" y=\"212\"/><text fill=\"#000000\" font-family=\"sans-serif\" font-size=\"12\" font-style=\"italic\" lengthAdjust=\"spacingAndGlyphs\" textLength=\"64\" x=\"122\" y=\"228.1387\">«part def»</text><text fill=\"#000000\" font-family=\"sans-serif\" font-size=\"12\" lengthAdjust=\"spacingAndGlyphs\" textLength=\"8\" x=\"150\" y=\"242.1074\">A</text><line style=\"stroke: #383838; stroke-width: 1.5;\" x1=\"122\" x2=\"186\" y1=\"249.9375\" y2=\"249.9375\"/></a><!--MD5=[60a26617385b1d2d0262a64233df1f8d]\n",
       "class E6--><a href=\"psysml:febc5459-2ebe-4c36-9a31-624278ca958f\" target=\"_top\" title=\"psysml:febc5459-2ebe-4c36-9a31-624278ca958f\" xlink:actuate=\"onRequest\" xlink:href=\"psysml:febc5459-2ebe-4c36-9a31-624278ca958f\" xlink:show=\"new\" xlink:title=\"psysml:febc5459-2ebe-4c36-9a31-624278ca958f\" xlink:type=\"simple\"><rect fill=\"#FFFFFF\" height=\"45.9375\" id=\"E6\" rx=\"10\" ry=\"10\" style=\"stroke: #383838; stroke-width: 1.5;\" width=\"42\" x=\"145\" y=\"87.5\"/><text fill=\"#000000\" font-family=\"sans-serif\" font-size=\"12\" font-style=\"italic\" lengthAdjust=\"spacingAndGlyphs\" textLength=\"40\" x=\"146\" y=\"103.6387\">«part»</text><text fill=\"#000000\" font-family=\"sans-serif\" font-size=\"12\" lengthAdjust=\"spacingAndGlyphs\" textLength=\"22\" x=\"155\" y=\"117.6074\">x: A</text><line style=\"stroke: #383838; stroke-width: 1.5;\" x1=\"146\" x2=\"186\" y1=\"125.4375\" y2=\"125.4375\"/></a><a href=\"psysml:0289fe7d-3512-4b15-a612-d4f3c113c698\" target=\"_top\" title=\"psysml:0289fe7d-3512-4b15-a612-d4f3c113c698\" xlink:actuate=\"onRequest\" xlink:href=\"psysml:0289fe7d-3512-4b15-a612-d4f3c113c698\" xlink:show=\"new\" xlink:title=\"psysml:0289fe7d-3512-4b15-a612-d4f3c113c698\" xlink:type=\"simple\"><polygon fill=\"#FFFFFF\" points=\"60.5,84,95.5,84,102.5,106.2969,109.5,106.2969,109.5,136.5938,60.5,136.5938,60.5,84\" style=\"stroke: #000000; stroke-width: 1.5;\"/><line style=\"stroke: #000000; stroke-width: 1.5;\" x1=\"60.5\" x2=\"102.5\" y1=\"106.2969\" y2=\"106.2969\"/><text fill=\"#000000\" font-family=\"sans-serif\" font-size=\"14\" font-weight=\"bold\" lengthAdjust=\"spacingAndGlyphs\" textLength=\"29\" x=\"64.5\" y=\"98.9951\">P2a</text></a><!--MD5=[a717450b82c80b9240a525fa862496af]\n",
       "link E6 to E3--><a href=\"psysml:a41f4e21-5f48-4d30-b801-3db99d3a1abc\" target=\"_top\" title=\"psysml:a41f4e21-5f48-4d30-b801-3db99d3a1abc\" xlink:actuate=\"onRequest\" xlink:href=\"psysml:a41f4e21-5f48-4d30-b801-3db99d3a1abc\" xlink:show=\"new\" xlink:title=\"psysml:a41f4e21-5f48-4d30-b801-3db99d3a1abc\" xlink:type=\"simple\"><path d=\"M166,133.63 C166,133.63 166,192 166,192 \" fill=\"none\" id=\"E6-&gt;E3\" style=\"stroke: #383838; stroke-width: 1.0;\"/><polygon fill=\"#FFFFFF\" points=\"166,212,159,193,173,193,166,212\" style=\"stroke: #383838; stroke-width: 1.0;\"/><ellipse cx=\"161\" cy=\"187.3\" fill=\"#383838\" rx=\"2\" ry=\"2\" style=\"stroke: #383838; stroke-width: 1.0;\"/><ellipse cx=\"171\" cy=\"187.3\" fill=\"#383838\" rx=\"2\" ry=\"2\" style=\"stroke: #383838; stroke-width: 1.0;\"/></a><!--MD5=[b16cd94391d62371e83a2d61eaa9c522]\n",
       "@startuml\r\n",
       "skinparam linetype ortho\r\n",
       "skinparam monochrome true\r\n",
       "skinparam classbackgroundcolor white\r\n",
       "skinparam shadowing false\r\n",
       "skinparam wrapWidth 300\r\n",
       "hide circle\r\n",
       "\r\n",
       "package \"QualifiedNameImportTest\" as E1  [[psysml:69fab460-d5be-4945-91cf-3ca8c8123b68 ]]  {\r\n",
       "package \"P1\" as E2  [[psysml:a87ccb6a-ce8a-4667-9a31-41e6c6a1c677 ]]  {\r\n",
       "comp def \"A\" as E3  <<(T,blue)part def>> [[psysml:dead2420-b34a-43f7-a875-a2c685248268 ]] {\r\n",
       "}\r\n",
       "}\r\n",
       "package \"P2\" as E4  [[psysml:434a9cec-9a5b-4c30-bd61-ce4aa8eabf42 ]]  {\r\n",
       "package \"P2a\" as E5  [[psysml:0289fe7d-3512-4b15-a612-d4f3c113c698 ]]  {\r\n",
       "}\r\n",
       "comp usage \"x: A\" as E6  <<(T,blue)part>> [[psysml:febc5459-2ebe-4c36-9a31-624278ca958f ]] {\r\n",
       "}\r\n",
       "E6 - -:|> E3 [[psysml:a41f4e21-5f48-4d30-b801-3db99d3a1abc ]] \r\n",
       "}\r\n",
       "}\r\n",
       "@enduml\r\n",
       "\n",
       "PlantUML version 1.2020.13(Sat Jun 13 12:26:38 UTC 2020)\n",
       "(EPL source distribution)\n",
       "Java Runtime: OpenJDK Runtime Environment\n",
       "JVM: OpenJDK 64-Bit Server VM\n",
       "Default Encoding: UTF-8\n",
       "Language: en\n",
       "Country: null\n",
       "--></g></svg>"
      ]
     },
     "execution_count": 56,
     "metadata": {},
     "output_type": "execute_result"
    }
   ],
   "source": [
    "%viz --style=\"ORTHOLINE\" --view=\"Sequence\" \"QualifiedNameImportTest\""
   ]
  },
  {
   "cell_type": "code",
   "execution_count": 57,
   "id": "abandoned-criterion",
   "metadata": {
    "execution": {
     "iopub.execute_input": "2021-03-26T09:15:03.583003Z",
     "iopub.status.busy": "2021-03-26T09:15:03.582529Z",
     "iopub.status.idle": "2021-03-26T09:15:03.611261Z",
     "shell.execute_reply": "2021-03-26T09:15:03.610088Z"
    }
   },
   "outputs": [
    {
     "data": {
      "image/svg+xml": [
       "<?xml version=\"1.0\" encoding=\"UTF-8\" standalone=\"no\"?><svg xmlns=\"http://www.w3.org/2000/svg\" xmlns:xlink=\"http://www.w3.org/1999/xlink\" contentScriptType=\"application/ecmascript\" contentStyleType=\"text/css\" height=\"310px\" preserveAspectRatio=\"none\" style=\"width:253px;height:310px;\" version=\"1.1\" viewBox=\"0 0 253 310\" width=\"253px\" zoomAndPan=\"magnify\"><defs/><g><!--MD5=[fbc87193dbaf4d95561dea2c320d4a47]\n",
       "cluster E1--><a href=\"psysml:69fab460-d5be-4945-91cf-3ca8c8123b68\" target=\"_top\" title=\"psysml:69fab460-d5be-4945-91cf-3ca8c8123b68\" xlink:actuate=\"onRequest\" xlink:href=\"psysml:69fab460-d5be-4945-91cf-3ca8c8123b68\" xlink:show=\"new\" xlink:title=\"psysml:69fab460-d5be-4945-91cf-3ca8c8123b68\" xlink:type=\"simple\"><polygon fill=\"#FFFFFF\" points=\"16,6,221,6,228,28.2969,231,28.2969,231,298,16,298,16,6\" style=\"stroke: #000000; stroke-width: 1.5;\"/><line style=\"stroke: #000000; stroke-width: 1.5;\" x1=\"16\" x2=\"228\" y1=\"28.2969\" y2=\"28.2969\"/><text fill=\"#000000\" font-family=\"sans-serif\" font-size=\"14\" font-weight=\"bold\" lengthAdjust=\"spacingAndGlyphs\" textLength=\"199\" x=\"20\" y=\"20.9951\">QualifiedNameImportTest</text></a><!--MD5=[e4f7fae6ed58524ba242bb0b0d3be6b7]\n",
       "cluster E2--><a href=\"psysml:a87ccb6a-ce8a-4667-9a31-41e6c6a1c677\" target=\"_top\" title=\"psysml:a87ccb6a-ce8a-4667-9a31-41e6c6a1c677\" xlink:actuate=\"onRequest\" xlink:href=\"psysml:a87ccb6a-ce8a-4667-9a31-41e6c6a1c677\" xlink:show=\"new\" xlink:title=\"psysml:a87ccb6a-ce8a-4667-9a31-41e6c6a1c677\" xlink:type=\"simple\"><polygon fill=\"#FFFFFF\" points=\"105,177,131,177,138,199.2969,203,199.2969,203,274,105,274,105,177\" style=\"stroke: #000000; stroke-width: 1.5;\"/><line style=\"stroke: #000000; stroke-width: 1.5;\" x1=\"105\" x2=\"138\" y1=\"199.2969\" y2=\"199.2969\"/><text fill=\"#000000\" font-family=\"sans-serif\" font-size=\"14\" font-weight=\"bold\" lengthAdjust=\"spacingAndGlyphs\" textLength=\"20\" x=\"109\" y=\"191.9951\">P1</text></a><!--MD5=[f6df4d0ebaf0b5dfb2ced0ae5af7c670]\n",
       "cluster E4--><a href=\"psysml:434a9cec-9a5b-4c30-bd61-ce4aa8eabf42\" target=\"_top\" title=\"psysml:434a9cec-9a5b-4c30-bd61-ce4aa8eabf42\" xlink:actuate=\"onRequest\" xlink:href=\"psysml:434a9cec-9a5b-4c30-bd61-ce4aa8eabf42\" xlink:show=\"new\" xlink:title=\"psysml:434a9cec-9a5b-4c30-bd61-ce4aa8eabf42\" xlink:type=\"simple\"><polygon fill=\"#FFFFFF\" points=\"44,49,70,49,77,71.2969,203,71.2969,203,153,44,153,44,49\" style=\"stroke: #000000; stroke-width: 1.5;\"/><line style=\"stroke: #000000; stroke-width: 1.5;\" x1=\"44\" x2=\"77\" y1=\"71.2969\" y2=\"71.2969\"/><text fill=\"#000000\" font-family=\"sans-serif\" font-size=\"14\" font-weight=\"bold\" lengthAdjust=\"spacingAndGlyphs\" textLength=\"20\" x=\"48\" y=\"63.9951\">P2</text></a><!--MD5=[09b614a08d8cba4a07c9adeb5e0fee81]\n",
       "class E3--><a href=\"psysml:dead2420-b34a-43f7-a875-a2c685248268\" target=\"_top\" title=\"psysml:dead2420-b34a-43f7-a875-a2c685248268\" xlink:actuate=\"onRequest\" xlink:href=\"psysml:dead2420-b34a-43f7-a875-a2c685248268\" xlink:show=\"new\" xlink:title=\"psysml:dead2420-b34a-43f7-a875-a2c685248268\" xlink:type=\"simple\"><rect fill=\"#FFFFFF\" height=\"45.9375\" id=\"E3\" style=\"stroke: #383838; stroke-width: 1.5;\" width=\"66\" x=\"121\" y=\"212\"/><text fill=\"#000000\" font-family=\"sans-serif\" font-size=\"12\" font-style=\"italic\" lengthAdjust=\"spacingAndGlyphs\" textLength=\"64\" x=\"122\" y=\"228.1387\">«part def»</text><text fill=\"#000000\" font-family=\"sans-serif\" font-size=\"12\" lengthAdjust=\"spacingAndGlyphs\" textLength=\"8\" x=\"150\" y=\"242.1074\">A</text><line style=\"stroke: #383838; stroke-width: 1.5;\" x1=\"122\" x2=\"186\" y1=\"249.9375\" y2=\"249.9375\"/></a><!--MD5=[60a26617385b1d2d0262a64233df1f8d]\n",
       "class E6--><a href=\"psysml:febc5459-2ebe-4c36-9a31-624278ca958f\" target=\"_top\" title=\"psysml:febc5459-2ebe-4c36-9a31-624278ca958f\" xlink:actuate=\"onRequest\" xlink:href=\"psysml:febc5459-2ebe-4c36-9a31-624278ca958f\" xlink:show=\"new\" xlink:title=\"psysml:febc5459-2ebe-4c36-9a31-624278ca958f\" xlink:type=\"simple\"><rect fill=\"#FFFFFF\" height=\"45.9375\" id=\"E6\" rx=\"10\" ry=\"10\" style=\"stroke: #383838; stroke-width: 1.5;\" width=\"42\" x=\"145\" y=\"87.5\"/><text fill=\"#000000\" font-family=\"sans-serif\" font-size=\"12\" font-style=\"italic\" lengthAdjust=\"spacingAndGlyphs\" textLength=\"40\" x=\"146\" y=\"103.6387\">«part»</text><text fill=\"#000000\" font-family=\"sans-serif\" font-size=\"12\" lengthAdjust=\"spacingAndGlyphs\" textLength=\"22\" x=\"155\" y=\"117.6074\">x: A</text><line style=\"stroke: #383838; stroke-width: 1.5;\" x1=\"146\" x2=\"186\" y1=\"125.4375\" y2=\"125.4375\"/></a><a href=\"psysml:0289fe7d-3512-4b15-a612-d4f3c113c698\" target=\"_top\" title=\"psysml:0289fe7d-3512-4b15-a612-d4f3c113c698\" xlink:actuate=\"onRequest\" xlink:href=\"psysml:0289fe7d-3512-4b15-a612-d4f3c113c698\" xlink:show=\"new\" xlink:title=\"psysml:0289fe7d-3512-4b15-a612-d4f3c113c698\" xlink:type=\"simple\"><polygon fill=\"#FFFFFF\" points=\"60.5,84,95.5,84,102.5,106.2969,109.5,106.2969,109.5,136.5938,60.5,136.5938,60.5,84\" style=\"stroke: #000000; stroke-width: 1.5;\"/><line style=\"stroke: #000000; stroke-width: 1.5;\" x1=\"60.5\" x2=\"102.5\" y1=\"106.2969\" y2=\"106.2969\"/><text fill=\"#000000\" font-family=\"sans-serif\" font-size=\"14\" font-weight=\"bold\" lengthAdjust=\"spacingAndGlyphs\" textLength=\"29\" x=\"64.5\" y=\"98.9951\">P2a</text></a><!--MD5=[a717450b82c80b9240a525fa862496af]\n",
       "link E6 to E3--><a href=\"psysml:a41f4e21-5f48-4d30-b801-3db99d3a1abc\" target=\"_top\" title=\"psysml:a41f4e21-5f48-4d30-b801-3db99d3a1abc\" xlink:actuate=\"onRequest\" xlink:href=\"psysml:a41f4e21-5f48-4d30-b801-3db99d3a1abc\" xlink:show=\"new\" xlink:title=\"psysml:a41f4e21-5f48-4d30-b801-3db99d3a1abc\" xlink:type=\"simple\"><path d=\"M166,133.63 C166,133.63 166,192 166,192 \" fill=\"none\" id=\"E6-&gt;E3\" style=\"stroke: #383838; stroke-width: 1.0;\"/><polygon fill=\"#FFFFFF\" points=\"166,212,159,193,173,193,166,212\" style=\"stroke: #383838; stroke-width: 1.0;\"/><ellipse cx=\"161\" cy=\"187.3\" fill=\"#383838\" rx=\"2\" ry=\"2\" style=\"stroke: #383838; stroke-width: 1.0;\"/><ellipse cx=\"171\" cy=\"187.3\" fill=\"#383838\" rx=\"2\" ry=\"2\" style=\"stroke: #383838; stroke-width: 1.0;\"/></a><!--MD5=[b16cd94391d62371e83a2d61eaa9c522]\n",
       "@startuml\r\n",
       "skinparam linetype ortho\r\n",
       "skinparam monochrome true\r\n",
       "skinparam classbackgroundcolor white\r\n",
       "skinparam shadowing false\r\n",
       "skinparam wrapWidth 300\r\n",
       "hide circle\r\n",
       "\r\n",
       "package \"QualifiedNameImportTest\" as E1  [[psysml:69fab460-d5be-4945-91cf-3ca8c8123b68 ]]  {\r\n",
       "package \"P1\" as E2  [[psysml:a87ccb6a-ce8a-4667-9a31-41e6c6a1c677 ]]  {\r\n",
       "comp def \"A\" as E3  <<(T,blue)part def>> [[psysml:dead2420-b34a-43f7-a875-a2c685248268 ]] {\r\n",
       "}\r\n",
       "}\r\n",
       "package \"P2\" as E4  [[psysml:434a9cec-9a5b-4c30-bd61-ce4aa8eabf42 ]]  {\r\n",
       "package \"P2a\" as E5  [[psysml:0289fe7d-3512-4b15-a612-d4f3c113c698 ]]  {\r\n",
       "}\r\n",
       "comp usage \"x: A\" as E6  <<(T,blue)part>> [[psysml:febc5459-2ebe-4c36-9a31-624278ca958f ]] {\r\n",
       "}\r\n",
       "E6 - -:|> E3 [[psysml:a41f4e21-5f48-4d30-b801-3db99d3a1abc ]] \r\n",
       "}\r\n",
       "}\r\n",
       "@enduml\r\n",
       "\n",
       "PlantUML version 1.2020.13(Sat Jun 13 12:26:38 UTC 2020)\n",
       "(EPL source distribution)\n",
       "Java Runtime: OpenJDK Runtime Environment\n",
       "JVM: OpenJDK 64-Bit Server VM\n",
       "Default Encoding: UTF-8\n",
       "Language: en\n",
       "Country: null\n",
       "--></g></svg>"
      ]
     },
     "execution_count": 57,
     "metadata": {},
     "output_type": "execute_result"
    }
   ],
   "source": [
    "%viz --style=\"ORTHOLINE\" --view=\"MIXED\" \"QualifiedNameImportTest\""
   ]
  }
 ],
 "metadata": {
  "kernelspec": {
   "display_name": "SysML",
   "language": "sysml",
   "name": "sysml"
  },
  "language_info": {
   "codemirror_mode": "sysml",
   "file_extension": ".sysml",
   "mimetype": "text/x-sysml",
   "name": "SysML",
   "pygments_lexer": "java",
   "version": "1.0.0"
  }
 },
 "nbformat": 4,
 "nbformat_minor": 5
}
