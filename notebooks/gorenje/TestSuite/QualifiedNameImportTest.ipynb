{
 "cells": [
  {
   "cell_type": "markdown",
   "id": "purple-emerald",
   "metadata": {},
   "source": [
    "# SysML v2 Test Suite\n",
    "\n",
    "This can notebook can be cleared using menu `Edit --> Clear All Outputs` and then all cells can be\n",
    "run using menu `Run --> Run All Cells`.\n",
    "\n",
    "**WARNING**: This file is generated, all modifications here will be ignored.\n"
   ]
  },
  {
   "cell_type": "markdown",
   "id": "blessed-recommendation",
   "metadata": {},
   "source": [
    "## File: ../../sysml/src/examples/Import Tests/QualifiedNameImportTest.sysml"
   ]
  },
  {
   "cell_type": "code",
   "execution_count": 1,
   "id": "bridal-dancing",
   "metadata": {
    "execution": {
     "iopub.execute_input": "2021-03-26T09:43:29.385161Z",
     "iopub.status.busy": "2021-03-26T09:43:29.384439Z",
     "iopub.status.idle": "2021-03-26T09:43:29.516166Z",
     "shell.execute_reply": "2021-03-26T09:43:29.515722Z"
    }
   },
   "outputs": [
    {
     "data": {
      "text/plain": [
       "Package QualifiedNameImportTest (e32e4809-22dd-4f7d-9c69-ba82dd20c002)\n"
      ]
     },
     "execution_count": 1,
     "metadata": {},
     "output_type": "execute_result"
    }
   ],
   "source": [
    "package QualifiedNameImportTest {\n",
    "\tpackage P1 {\n",
    "\t\tpart def A;\n",
    "\t}\n",
    "\tpackage P2 {\n",
    "\t\tpackage P2a {\n",
    "\t\t\timport P1::*;\n",
    "\t\t}\n",
    "\t\t// The following should not fail.\n",
    "\t\t// A is a member of P2a because of the import.\n",
    "\t\tpart x: P2a::A;\n",
    "\t}\n",
    "}"
   ]
  },
  {
   "cell_type": "code",
   "execution_count": 2,
   "id": "animal-tonight",
   "metadata": {
    "execution": {
     "iopub.execute_input": "2021-03-26T09:43:29.568279Z",
     "iopub.status.busy": "2021-03-26T09:43:29.567886Z",
     "iopub.status.idle": "2021-03-26T09:43:29.576495Z",
     "shell.execute_reply": "2021-03-26T09:43:29.576908Z"
    }
   },
   "outputs": [
    {
     "data": {
      "text/plain": [
       "java.lang.IllegalArgumentException: Invalid Style: COMPTREE Possible styles: POLYLINE, LR, STDCOLOR, PLANTUML, DEFAULT, TB, ORTHOLINE\n",
       "\tat org.omg.sysml.plantuml.SysML2PlantUMLStyle.get(SysML2PlantUMLStyle.java:258)\n",
       "\tat org.omg.sysml.plantuml.SysML2PlantUMLSvc.applyStyle(SysML2PlantUMLSvc.java:73)\n",
       "\tat org.omg.sysml.plantuml.SysML2PlantUMLSvc.getPlantUMLCode(SysML2PlantUMLSvc.java:88)\n",
       "\tat org.omg.sysml.plantuml.SysML2PlantUMLSvc.getSVG(SysML2PlantUMLSvc.java:99)\n",
       "\tat org.omg.sysml.interactive.SysMLInteractive.viz(SysMLInteractive.java:294)\n",
       "\tat org.omg.sysml.jupyter.kernel.magic.Viz.viz(Viz.java:47)\n",
       "\tat java.base/jdk.internal.reflect.NativeMethodAccessorImpl.invoke0(Native Method)\n",
       "\tat java.base/jdk.internal.reflect.NativeMethodAccessorImpl.invoke(NativeMethodAccessorImpl.java:78)\n",
       "\tat java.base/jdk.internal.reflect.DelegatingMethodAccessorImpl.invoke(DelegatingMethodAccessorImpl.java:43)\n",
       "\tat java.base/java.lang.reflect.Method.invoke(Method.java:568)\n",
       "\tat io.github.spencerpark.jupyter.kernel.magic.registry.Magics.invoke(Magics.java:89)\n",
       "\tat io.github.spencerpark.jupyter.kernel.magic.registry.Magics.access$000(Magics.java:8)\n",
       "\tat io.github.spencerpark.jupyter.kernel.magic.registry.Magics$LineReflectionMagicFunction.execute(Magics.java:149)\n",
       "\tat io.github.spencerpark.jupyter.kernel.magic.registry.Magics.applyLineMagic(Magics.java:26)\n",
       "\tat org.omg.sysml.jupyter.kernel.SysMLKernel.eval(SysMLKernel.java:76)\n",
       "\tat io.github.spencerpark.jupyter.kernel.BaseKernel.handleExecuteRequest(BaseKernel.java:334)\n",
       "\tat io.github.spencerpark.jupyter.channels.ShellChannel.lambda$bind$0(ShellChannel.java:64)\n",
       "\tat io.github.spencerpark.jupyter.channels.Loop.lambda$new$0(Loop.java:21)\n",
       "\tat io.github.spencerpark.jupyter.channels.Loop.run(Loop.java:78)\n"
      ]
     },
     "execution_count": 2,
     "metadata": {},
     "output_type": "execute_result"
    }
   ],
   "source": [
    "%viz --style=\"COMPTREE\" --view=\"Default\" \"QualifiedNameImportTest\""
   ]
  },
  {
   "cell_type": "code",
   "execution_count": 3,
   "id": "paperback-participation",
   "metadata": {
    "execution": {
     "iopub.execute_input": "2021-03-26T09:43:29.627895Z",
     "iopub.status.busy": "2021-03-26T09:43:29.627484Z",
     "iopub.status.idle": "2021-03-26T09:43:29.629906Z",
     "shell.execute_reply": "2021-03-26T09:43:29.630245Z"
    }
   },
   "outputs": [
    {
     "data": {
      "text/plain": [
       "java.lang.IllegalArgumentException: Invalid Style: COMPTREE Possible styles: POLYLINE, LR, STDCOLOR, PLANTUML, DEFAULT, TB, ORTHOLINE\n",
       "\tat org.omg.sysml.plantuml.SysML2PlantUMLStyle.get(SysML2PlantUMLStyle.java:258)\n",
       "\tat org.omg.sysml.plantuml.SysML2PlantUMLSvc.applyStyle(SysML2PlantUMLSvc.java:73)\n",
       "\tat org.omg.sysml.plantuml.SysML2PlantUMLSvc.getPlantUMLCode(SysML2PlantUMLSvc.java:88)\n",
       "\tat org.omg.sysml.plantuml.SysML2PlantUMLSvc.getSVG(SysML2PlantUMLSvc.java:99)\n",
       "\tat org.omg.sysml.interactive.SysMLInteractive.viz(SysMLInteractive.java:294)\n",
       "\tat org.omg.sysml.jupyter.kernel.magic.Viz.viz(Viz.java:47)\n",
       "\tat java.base/jdk.internal.reflect.NativeMethodAccessorImpl.invoke0(Native Method)\n",
       "\tat java.base/jdk.internal.reflect.NativeMethodAccessorImpl.invoke(NativeMethodAccessorImpl.java:78)\n",
       "\tat java.base/jdk.internal.reflect.DelegatingMethodAccessorImpl.invoke(DelegatingMethodAccessorImpl.java:43)\n",
       "\tat java.base/java.lang.reflect.Method.invoke(Method.java:568)\n",
       "\tat io.github.spencerpark.jupyter.kernel.magic.registry.Magics.invoke(Magics.java:89)\n",
       "\tat io.github.spencerpark.jupyter.kernel.magic.registry.Magics.access$000(Magics.java:8)\n",
       "\tat io.github.spencerpark.jupyter.kernel.magic.registry.Magics$LineReflectionMagicFunction.execute(Magics.java:149)\n",
       "\tat io.github.spencerpark.jupyter.kernel.magic.registry.Magics.applyLineMagic(Magics.java:26)\n",
       "\tat org.omg.sysml.jupyter.kernel.SysMLKernel.eval(SysMLKernel.java:76)\n",
       "\tat io.github.spencerpark.jupyter.kernel.BaseKernel.handleExecuteRequest(BaseKernel.java:334)\n",
       "\tat io.github.spencerpark.jupyter.channels.ShellChannel.lambda$bind$0(ShellChannel.java:64)\n",
       "\tat io.github.spencerpark.jupyter.channels.Loop.lambda$new$0(Loop.java:21)\n",
       "\tat io.github.spencerpark.jupyter.channels.Loop.run(Loop.java:78)\n"
      ]
     },
     "execution_count": 3,
     "metadata": {},
     "output_type": "execute_result"
    }
   ],
   "source": [
    "%viz --style=\"COMPTREE\" --view=\"Tree\" \"QualifiedNameImportTest\""
   ]
  },
  {
   "cell_type": "code",
   "execution_count": 4,
   "id": "material-craps",
   "metadata": {
    "execution": {
     "iopub.execute_input": "2021-03-26T09:43:29.681376Z",
     "iopub.status.busy": "2021-03-26T09:43:29.681048Z",
     "iopub.status.idle": "2021-03-26T09:43:29.684314Z",
     "shell.execute_reply": "2021-03-26T09:43:29.683138Z"
    }
   },
   "outputs": [
    {
     "data": {
      "text/plain": [
       "java.lang.IllegalArgumentException: Invalid View: State View candidates are: Default Tree StateMachine Interconnection Activity Sequence MIXED \n",
       "\tat org.omg.sysml.plantuml.SysML2PlantUMLSvc.setView(SysML2PlantUMLSvc.java:63)\n",
       "\tat org.omg.sysml.interactive.SysMLInteractive.viz(SysMLInteractive.java:286)\n",
       "\tat org.omg.sysml.jupyter.kernel.magic.Viz.viz(Viz.java:47)\n",
       "\tat java.base/jdk.internal.reflect.NativeMethodAccessorImpl.invoke0(Native Method)\n",
       "\tat java.base/jdk.internal.reflect.NativeMethodAccessorImpl.invoke(NativeMethodAccessorImpl.java:78)\n",
       "\tat java.base/jdk.internal.reflect.DelegatingMethodAccessorImpl.invoke(DelegatingMethodAccessorImpl.java:43)\n",
       "\tat java.base/java.lang.reflect.Method.invoke(Method.java:568)\n",
       "\tat io.github.spencerpark.jupyter.kernel.magic.registry.Magics.invoke(Magics.java:89)\n",
       "\tat io.github.spencerpark.jupyter.kernel.magic.registry.Magics.access$000(Magics.java:8)\n",
       "\tat io.github.spencerpark.jupyter.kernel.magic.registry.Magics$LineReflectionMagicFunction.execute(Magics.java:149)\n",
       "\tat io.github.spencerpark.jupyter.kernel.magic.registry.Magics.applyLineMagic(Magics.java:26)\n",
       "\tat org.omg.sysml.jupyter.kernel.SysMLKernel.eval(SysMLKernel.java:76)\n",
       "\tat io.github.spencerpark.jupyter.kernel.BaseKernel.handleExecuteRequest(BaseKernel.java:334)\n",
       "\tat io.github.spencerpark.jupyter.channels.ShellChannel.lambda$bind$0(ShellChannel.java:64)\n",
       "\tat io.github.spencerpark.jupyter.channels.Loop.lambda$new$0(Loop.java:21)\n",
       "\tat io.github.spencerpark.jupyter.channels.Loop.run(Loop.java:78)\n"
      ]
     },
     "execution_count": 4,
     "metadata": {},
     "output_type": "execute_result"
    }
   ],
   "source": [
    "%viz --style=\"COMPTREE\" --view=\"State\" \"QualifiedNameImportTest\""
   ]
  },
  {
   "cell_type": "code",
   "execution_count": 5,
   "id": "accepted-subcommittee",
   "metadata": {
    "execution": {
     "iopub.execute_input": "2021-03-26T09:43:29.736422Z",
     "iopub.status.busy": "2021-03-26T09:43:29.736060Z",
     "iopub.status.idle": "2021-03-26T09:43:29.737917Z",
     "shell.execute_reply": "2021-03-26T09:43:29.738254Z"
    }
   },
   "outputs": [
    {
     "data": {
      "text/plain": [
       "java.lang.IllegalArgumentException: Invalid Style: COMPTREE Possible styles: POLYLINE, LR, STDCOLOR, PLANTUML, DEFAULT, TB, ORTHOLINE\n",
       "\tat org.omg.sysml.plantuml.SysML2PlantUMLStyle.get(SysML2PlantUMLStyle.java:258)\n",
       "\tat org.omg.sysml.plantuml.SysML2PlantUMLSvc.applyStyle(SysML2PlantUMLSvc.java:73)\n",
       "\tat org.omg.sysml.plantuml.SysML2PlantUMLSvc.getPlantUMLCode(SysML2PlantUMLSvc.java:88)\n",
       "\tat org.omg.sysml.plantuml.SysML2PlantUMLSvc.getSVG(SysML2PlantUMLSvc.java:99)\n",
       "\tat org.omg.sysml.interactive.SysMLInteractive.viz(SysMLInteractive.java:294)\n",
       "\tat org.omg.sysml.jupyter.kernel.magic.Viz.viz(Viz.java:47)\n",
       "\tat java.base/jdk.internal.reflect.NativeMethodAccessorImpl.invoke0(Native Method)\n",
       "\tat java.base/jdk.internal.reflect.NativeMethodAccessorImpl.invoke(NativeMethodAccessorImpl.java:78)\n",
       "\tat java.base/jdk.internal.reflect.DelegatingMethodAccessorImpl.invoke(DelegatingMethodAccessorImpl.java:43)\n",
       "\tat java.base/java.lang.reflect.Method.invoke(Method.java:568)\n",
       "\tat io.github.spencerpark.jupyter.kernel.magic.registry.Magics.invoke(Magics.java:89)\n",
       "\tat io.github.spencerpark.jupyter.kernel.magic.registry.Magics.access$000(Magics.java:8)\n",
       "\tat io.github.spencerpark.jupyter.kernel.magic.registry.Magics$LineReflectionMagicFunction.execute(Magics.java:149)\n",
       "\tat io.github.spencerpark.jupyter.kernel.magic.registry.Magics.applyLineMagic(Magics.java:26)\n",
       "\tat org.omg.sysml.jupyter.kernel.SysMLKernel.eval(SysMLKernel.java:76)\n",
       "\tat io.github.spencerpark.jupyter.kernel.BaseKernel.handleExecuteRequest(BaseKernel.java:334)\n",
       "\tat io.github.spencerpark.jupyter.channels.ShellChannel.lambda$bind$0(ShellChannel.java:64)\n",
       "\tat io.github.spencerpark.jupyter.channels.Loop.lambda$new$0(Loop.java:21)\n",
       "\tat io.github.spencerpark.jupyter.channels.Loop.run(Loop.java:78)\n"
      ]
     },
     "execution_count": 5,
     "metadata": {},
     "output_type": "execute_result"
    }
   ],
   "source": [
    "%viz --style=\"COMPTREE\" --view=\"Interconnection\" \"QualifiedNameImportTest\""
   ]
  },
  {
   "cell_type": "code",
   "execution_count": 6,
   "id": "matched-ribbon",
   "metadata": {
    "execution": {
     "iopub.execute_input": "2021-03-26T09:43:29.790321Z",
     "iopub.status.busy": "2021-03-26T09:43:29.789903Z",
     "iopub.status.idle": "2021-03-26T09:43:29.791589Z",
     "shell.execute_reply": "2021-03-26T09:43:29.791952Z"
    }
   },
   "outputs": [
    {
     "data": {
      "text/plain": [
       "java.lang.IllegalArgumentException: Invalid View: Action View candidates are: Default Tree StateMachine Interconnection Activity Sequence MIXED \n",
       "\tat org.omg.sysml.plantuml.SysML2PlantUMLSvc.setView(SysML2PlantUMLSvc.java:63)\n",
       "\tat org.omg.sysml.interactive.SysMLInteractive.viz(SysMLInteractive.java:286)\n",
       "\tat org.omg.sysml.jupyter.kernel.magic.Viz.viz(Viz.java:47)\n",
       "\tat java.base/jdk.internal.reflect.NativeMethodAccessorImpl.invoke0(Native Method)\n",
       "\tat java.base/jdk.internal.reflect.NativeMethodAccessorImpl.invoke(NativeMethodAccessorImpl.java:78)\n",
       "\tat java.base/jdk.internal.reflect.DelegatingMethodAccessorImpl.invoke(DelegatingMethodAccessorImpl.java:43)\n",
       "\tat java.base/java.lang.reflect.Method.invoke(Method.java:568)\n",
       "\tat io.github.spencerpark.jupyter.kernel.magic.registry.Magics.invoke(Magics.java:89)\n",
       "\tat io.github.spencerpark.jupyter.kernel.magic.registry.Magics.access$000(Magics.java:8)\n",
       "\tat io.github.spencerpark.jupyter.kernel.magic.registry.Magics$LineReflectionMagicFunction.execute(Magics.java:149)\n",
       "\tat io.github.spencerpark.jupyter.kernel.magic.registry.Magics.applyLineMagic(Magics.java:26)\n",
       "\tat org.omg.sysml.jupyter.kernel.SysMLKernel.eval(SysMLKernel.java:76)\n",
       "\tat io.github.spencerpark.jupyter.kernel.BaseKernel.handleExecuteRequest(BaseKernel.java:334)\n",
       "\tat io.github.spencerpark.jupyter.channels.ShellChannel.lambda$bind$0(ShellChannel.java:64)\n",
       "\tat io.github.spencerpark.jupyter.channels.Loop.lambda$new$0(Loop.java:21)\n",
       "\tat io.github.spencerpark.jupyter.channels.Loop.run(Loop.java:78)\n"
      ]
     },
     "execution_count": 6,
     "metadata": {},
     "output_type": "execute_result"
    }
   ],
   "source": [
    "%viz --style=\"COMPTREE\" --view=\"Action\" \"QualifiedNameImportTest\""
   ]
  },
  {
   "cell_type": "code",
   "execution_count": 7,
   "id": "authentic-burning",
   "metadata": {
    "execution": {
     "iopub.execute_input": "2021-03-26T09:43:29.845954Z",
     "iopub.status.busy": "2021-03-26T09:43:29.844959Z",
     "iopub.status.idle": "2021-03-26T09:43:29.848010Z",
     "shell.execute_reply": "2021-03-26T09:43:29.848402Z"
    }
   },
   "outputs": [
    {
     "data": {
      "text/plain": [
       "java.lang.IllegalArgumentException: Invalid Style: COMPTREE Possible styles: POLYLINE, LR, STDCOLOR, PLANTUML, DEFAULT, TB, ORTHOLINE\n",
       "\tat org.omg.sysml.plantuml.SysML2PlantUMLStyle.get(SysML2PlantUMLStyle.java:258)\n",
       "\tat org.omg.sysml.plantuml.SysML2PlantUMLSvc.applyStyle(SysML2PlantUMLSvc.java:73)\n",
       "\tat org.omg.sysml.plantuml.SysML2PlantUMLSvc.getPlantUMLCode(SysML2PlantUMLSvc.java:88)\n",
       "\tat org.omg.sysml.plantuml.SysML2PlantUMLSvc.getSVG(SysML2PlantUMLSvc.java:99)\n",
       "\tat org.omg.sysml.interactive.SysMLInteractive.viz(SysMLInteractive.java:294)\n",
       "\tat org.omg.sysml.jupyter.kernel.magic.Viz.viz(Viz.java:47)\n",
       "\tat java.base/jdk.internal.reflect.NativeMethodAccessorImpl.invoke0(Native Method)\n",
       "\tat java.base/jdk.internal.reflect.NativeMethodAccessorImpl.invoke(NativeMethodAccessorImpl.java:78)\n",
       "\tat java.base/jdk.internal.reflect.DelegatingMethodAccessorImpl.invoke(DelegatingMethodAccessorImpl.java:43)\n",
       "\tat java.base/java.lang.reflect.Method.invoke(Method.java:568)\n",
       "\tat io.github.spencerpark.jupyter.kernel.magic.registry.Magics.invoke(Magics.java:89)\n",
       "\tat io.github.spencerpark.jupyter.kernel.magic.registry.Magics.access$000(Magics.java:8)\n",
       "\tat io.github.spencerpark.jupyter.kernel.magic.registry.Magics$LineReflectionMagicFunction.execute(Magics.java:149)\n",
       "\tat io.github.spencerpark.jupyter.kernel.magic.registry.Magics.applyLineMagic(Magics.java:26)\n",
       "\tat org.omg.sysml.jupyter.kernel.SysMLKernel.eval(SysMLKernel.java:76)\n",
       "\tat io.github.spencerpark.jupyter.kernel.BaseKernel.handleExecuteRequest(BaseKernel.java:334)\n",
       "\tat io.github.spencerpark.jupyter.channels.ShellChannel.lambda$bind$0(ShellChannel.java:64)\n",
       "\tat io.github.spencerpark.jupyter.channels.Loop.lambda$new$0(Loop.java:21)\n",
       "\tat io.github.spencerpark.jupyter.channels.Loop.run(Loop.java:78)\n"
      ]
     },
     "execution_count": 7,
     "metadata": {},
     "output_type": "execute_result"
    }
   ],
   "source": [
    "%viz --style=\"COMPTREE\" --view=\"Sequence\" \"QualifiedNameImportTest\""
   ]
  },
  {
   "cell_type": "code",
   "execution_count": 8,
   "id": "framed-sweet",
   "metadata": {
    "execution": {
     "iopub.execute_input": "2021-03-26T09:43:29.901487Z",
     "iopub.status.busy": "2021-03-26T09:43:29.900806Z",
     "iopub.status.idle": "2021-03-26T09:43:29.904876Z",
     "shell.execute_reply": "2021-03-26T09:43:29.905384Z"
    }
   },
   "outputs": [
    {
     "data": {
      "text/plain": [
       "java.lang.IllegalArgumentException: Invalid Style: COMPTREE Possible styles: POLYLINE, LR, STDCOLOR, PLANTUML, DEFAULT, TB, ORTHOLINE\n",
       "\tat org.omg.sysml.plantuml.SysML2PlantUMLStyle.get(SysML2PlantUMLStyle.java:258)\n",
       "\tat org.omg.sysml.plantuml.SysML2PlantUMLSvc.applyStyle(SysML2PlantUMLSvc.java:73)\n",
       "\tat org.omg.sysml.plantuml.SysML2PlantUMLSvc.getPlantUMLCode(SysML2PlantUMLSvc.java:88)\n",
       "\tat org.omg.sysml.plantuml.SysML2PlantUMLSvc.getSVG(SysML2PlantUMLSvc.java:99)\n",
       "\tat org.omg.sysml.interactive.SysMLInteractive.viz(SysMLInteractive.java:294)\n",
       "\tat org.omg.sysml.jupyter.kernel.magic.Viz.viz(Viz.java:47)\n",
       "\tat java.base/jdk.internal.reflect.NativeMethodAccessorImpl.invoke0(Native Method)\n",
       "\tat java.base/jdk.internal.reflect.NativeMethodAccessorImpl.invoke(NativeMethodAccessorImpl.java:78)\n",
       "\tat java.base/jdk.internal.reflect.DelegatingMethodAccessorImpl.invoke(DelegatingMethodAccessorImpl.java:43)\n",
       "\tat java.base/java.lang.reflect.Method.invoke(Method.java:568)\n",
       "\tat io.github.spencerpark.jupyter.kernel.magic.registry.Magics.invoke(Magics.java:89)\n",
       "\tat io.github.spencerpark.jupyter.kernel.magic.registry.Magics.access$000(Magics.java:8)\n",
       "\tat io.github.spencerpark.jupyter.kernel.magic.registry.Magics$LineReflectionMagicFunction.execute(Magics.java:149)\n",
       "\tat io.github.spencerpark.jupyter.kernel.magic.registry.Magics.applyLineMagic(Magics.java:26)\n",
       "\tat org.omg.sysml.jupyter.kernel.SysMLKernel.eval(SysMLKernel.java:76)\n",
       "\tat io.github.spencerpark.jupyter.kernel.BaseKernel.handleExecuteRequest(BaseKernel.java:334)\n",
       "\tat io.github.spencerpark.jupyter.channels.ShellChannel.lambda$bind$0(ShellChannel.java:64)\n",
       "\tat io.github.spencerpark.jupyter.channels.Loop.lambda$new$0(Loop.java:21)\n",
       "\tat io.github.spencerpark.jupyter.channels.Loop.run(Loop.java:78)\n"
      ]
     },
     "execution_count": 8,
     "metadata": {},
     "output_type": "execute_result"
    }
   ],
   "source": [
    "%viz --style=\"COMPTREE\" --view=\"MIXED\" \"QualifiedNameImportTest\""
   ]
  },
  {
   "cell_type": "code",
   "execution_count": 9,
   "id": "assumed-database",
   "metadata": {
    "execution": {
     "iopub.execute_input": "2021-03-26T09:43:29.957533Z",
     "iopub.status.busy": "2021-03-26T09:43:29.956944Z",
     "iopub.status.idle": "2021-03-26T09:43:30.498404Z",
     "shell.execute_reply": "2021-03-26T09:43:30.498720Z"
    }
   },
   "outputs": [
    {
     "data": {
      "image/svg+xml": [
       "<?xml version=\"1.0\" encoding=\"UTF-8\" standalone=\"no\"?><svg xmlns=\"http://www.w3.org/2000/svg\" xmlns:xlink=\"http://www.w3.org/1999/xlink\" contentScriptType=\"application/ecmascript\" contentStyleType=\"text/css\" height=\"310px\" preserveAspectRatio=\"none\" style=\"width:253px;height:310px;\" version=\"1.1\" viewBox=\"0 0 253 310\" width=\"253px\" zoomAndPan=\"magnify\"><defs/><g><!--MD5=[fbc87193dbaf4d95561dea2c320d4a47]\n",
       "cluster E1--><polygon fill=\"#FFFFFF\" points=\"16,6,221,6,228,28.2969,231,28.2969,231,298,16,298,16,6\" style=\"stroke: #000000; stroke-width: 1.5;\"/><line style=\"stroke: #000000; stroke-width: 1.5;\" x1=\"16\" x2=\"228\" y1=\"28.2969\" y2=\"28.2969\"/><text fill=\"#000000\" font-family=\"sans-serif\" font-size=\"14\" font-weight=\"bold\" lengthAdjust=\"spacingAndGlyphs\" textLength=\"199\" x=\"20\" y=\"20.9951\">QualifiedNameImportTest</text><!--MD5=[e4f7fae6ed58524ba242bb0b0d3be6b7]\n",
       "cluster E2--><polygon fill=\"#FFFFFF\" points=\"105,177,131,177,138,199.2969,203,199.2969,203,274,105,274,105,177\" style=\"stroke: #000000; stroke-width: 1.5;\"/><line style=\"stroke: #000000; stroke-width: 1.5;\" x1=\"105\" x2=\"138\" y1=\"199.2969\" y2=\"199.2969\"/><text fill=\"#000000\" font-family=\"sans-serif\" font-size=\"14\" font-weight=\"bold\" lengthAdjust=\"spacingAndGlyphs\" textLength=\"20\" x=\"109\" y=\"191.9951\">P1</text><!--MD5=[f6df4d0ebaf0b5dfb2ced0ae5af7c670]\n",
       "cluster E4--><polygon fill=\"#FFFFFF\" points=\"44,49,70,49,77,71.2969,203,71.2969,203,153,44,153,44,49\" style=\"stroke: #000000; stroke-width: 1.5;\"/><line style=\"stroke: #000000; stroke-width: 1.5;\" x1=\"44\" x2=\"77\" y1=\"71.2969\" y2=\"71.2969\"/><text fill=\"#000000\" font-family=\"sans-serif\" font-size=\"14\" font-weight=\"bold\" lengthAdjust=\"spacingAndGlyphs\" textLength=\"20\" x=\"48\" y=\"63.9951\">P2</text><!--MD5=[09b614a08d8cba4a07c9adeb5e0fee81]\n",
       "class E3--><rect fill=\"#FFFFFF\" height=\"45.9375\" id=\"E3\" style=\"stroke: #383838; stroke-width: 1.5;\" width=\"66\" x=\"121\" y=\"212\"/><text fill=\"#000000\" font-family=\"sans-serif\" font-size=\"12\" font-style=\"italic\" lengthAdjust=\"spacingAndGlyphs\" textLength=\"64\" x=\"122\" y=\"228.1387\">«part def»</text><text fill=\"#000000\" font-family=\"sans-serif\" font-size=\"12\" lengthAdjust=\"spacingAndGlyphs\" textLength=\"8\" x=\"150\" y=\"242.1074\">A</text><line style=\"stroke: #383838; stroke-width: 1.5;\" x1=\"122\" x2=\"186\" y1=\"249.9375\" y2=\"249.9375\"/><!--MD5=[60a26617385b1d2d0262a64233df1f8d]\n",
       "class E6--><rect fill=\"#FFFFFF\" height=\"45.9375\" id=\"E6\" rx=\"10\" ry=\"10\" style=\"stroke: #383838; stroke-width: 1.5;\" width=\"42\" x=\"145\" y=\"87.5\"/><text fill=\"#000000\" font-family=\"sans-serif\" font-size=\"12\" font-style=\"italic\" lengthAdjust=\"spacingAndGlyphs\" textLength=\"40\" x=\"146\" y=\"103.6387\">«part»</text><text fill=\"#000000\" font-family=\"sans-serif\" font-size=\"12\" lengthAdjust=\"spacingAndGlyphs\" textLength=\"22\" x=\"155\" y=\"117.6074\">x: A</text><line style=\"stroke: #383838; stroke-width: 1.5;\" x1=\"146\" x2=\"186\" y1=\"125.4375\" y2=\"125.4375\"/><polygon fill=\"#FFFFFF\" points=\"60.5,84,95.5,84,102.5,106.2969,109.5,106.2969,109.5,136.5938,60.5,136.5938,60.5,84\" style=\"stroke: #000000; stroke-width: 1.5;\"/><line style=\"stroke: #000000; stroke-width: 1.5;\" x1=\"60.5\" x2=\"102.5\" y1=\"106.2969\" y2=\"106.2969\"/><text fill=\"#000000\" font-family=\"sans-serif\" font-size=\"14\" font-weight=\"bold\" lengthAdjust=\"spacingAndGlyphs\" textLength=\"29\" x=\"64.5\" y=\"98.9951\">P2a</text><!--MD5=[a717450b82c80b9240a525fa862496af]\n",
       "link E6 to E3--><path d=\"M163.83,133.68 C162.24,149.9 160.04,172.39 158.12,191.96 \" fill=\"none\" id=\"E6-&gt;E3\" style=\"stroke: #383838; stroke-width: 1.0;\"/><polygon fill=\"#FFFFFF\" points=\"156.16,211.98,151.0533,192.3861,164.986,193.7564,156.16,211.98\" style=\"stroke: #383838; stroke-width: 1.0;\"/><ellipse cx=\"153.6016\" cy=\"186.9092\" fill=\"#383838\" rx=\"2\" ry=\"2\" style=\"stroke: #383838; stroke-width: 1.0;\"/><ellipse cx=\"163.5535\" cy=\"187.888\" fill=\"#383838\" rx=\"2\" ry=\"2\" style=\"stroke: #383838; stroke-width: 1.0;\"/><!--MD5=[5944664a39d56c4d9b3379fc73564b5d]\n",
       "@startuml\r\n",
       "skinparam linetype polyline\r\n",
       "skinparam monochrome true\r\n",
       "skinparam classbackgroundcolor white\r\n",
       "skinparam shadowing false\r\n",
       "skinparam wrapWidth 300\r\n",
       "hide circle\r\n",
       "\r\n",
       "package \"QualifiedNameImportTest\" as E1   {\r\n",
       "package \"P1\" as E2   {\r\n",
       "comp def \"A\" as E3  <<(T,blue)part def>> {\r\n",
       "}\r\n",
       "}\r\n",
       "package \"P2\" as E4   {\r\n",
       "package \"P2a\" as E5   {\r\n",
       "}\r\n",
       "comp usage \"x: A\" as E6  <<(T,blue)part>> {\r\n",
       "}\r\n",
       "E6 - -:|> E3\r\n",
       "}\r\n",
       "}\r\n",
       "@enduml\r\n",
       "\n",
       "PlantUML version 1.2020.13(Sat Jun 13 12:26:38 UTC 2020)\n",
       "(EPL source distribution)\n",
       "Java Runtime: OpenJDK Runtime Environment\n",
       "JVM: OpenJDK 64-Bit Server VM\n",
       "Default Encoding: UTF-8\n",
       "Language: en\n",
       "Country: null\n",
       "--></g></svg>"
      ]
     },
     "execution_count": 9,
     "metadata": {},
     "output_type": "execute_result"
    }
   ],
   "source": [
    "%viz --style=\"POLYLINE\" --view=\"Default\" \"QualifiedNameImportTest\""
   ]
  },
  {
   "cell_type": "code",
   "execution_count": 10,
   "id": "involved-million",
   "metadata": {
    "execution": {
     "iopub.execute_input": "2021-03-26T09:43:30.549639Z",
     "iopub.status.busy": "2021-03-26T09:43:30.549233Z",
     "iopub.status.idle": "2021-03-26T09:43:30.598452Z",
     "shell.execute_reply": "2021-03-26T09:43:30.598876Z"
    }
   },
   "outputs": [
    {
     "data": {
      "image/svg+xml": [
       "<?xml version=\"1.0\" encoding=\"UTF-8\" standalone=\"no\"?><svg xmlns=\"http://www.w3.org/2000/svg\" xmlns:xlink=\"http://www.w3.org/1999/xlink\" contentScriptType=\"application/ecmascript\" contentStyleType=\"text/css\" height=\"310px\" preserveAspectRatio=\"none\" style=\"width:253px;height:310px;\" version=\"1.1\" viewBox=\"0 0 253 310\" width=\"253px\" zoomAndPan=\"magnify\"><defs/><g><!--MD5=[fbc87193dbaf4d95561dea2c320d4a47]\n",
       "cluster E1--><polygon fill=\"#FFFFFF\" points=\"16,6,221,6,228,28.2969,231,28.2969,231,298,16,298,16,6\" style=\"stroke: #000000; stroke-width: 1.5;\"/><line style=\"stroke: #000000; stroke-width: 1.5;\" x1=\"16\" x2=\"228\" y1=\"28.2969\" y2=\"28.2969\"/><text fill=\"#000000\" font-family=\"sans-serif\" font-size=\"14\" font-weight=\"bold\" lengthAdjust=\"spacingAndGlyphs\" textLength=\"199\" x=\"20\" y=\"20.9951\">QualifiedNameImportTest</text><!--MD5=[e4f7fae6ed58524ba242bb0b0d3be6b7]\n",
       "cluster E2--><polygon fill=\"#FFFFFF\" points=\"105,177,131,177,138,199.2969,203,199.2969,203,274,105,274,105,177\" style=\"stroke: #000000; stroke-width: 1.5;\"/><line style=\"stroke: #000000; stroke-width: 1.5;\" x1=\"105\" x2=\"138\" y1=\"199.2969\" y2=\"199.2969\"/><text fill=\"#000000\" font-family=\"sans-serif\" font-size=\"14\" font-weight=\"bold\" lengthAdjust=\"spacingAndGlyphs\" textLength=\"20\" x=\"109\" y=\"191.9951\">P1</text><!--MD5=[f6df4d0ebaf0b5dfb2ced0ae5af7c670]\n",
       "cluster E4--><polygon fill=\"#FFFFFF\" points=\"44,49,70,49,77,71.2969,203,71.2969,203,153,44,153,44,49\" style=\"stroke: #000000; stroke-width: 1.5;\"/><line style=\"stroke: #000000; stroke-width: 1.5;\" x1=\"44\" x2=\"77\" y1=\"71.2969\" y2=\"71.2969\"/><text fill=\"#000000\" font-family=\"sans-serif\" font-size=\"14\" font-weight=\"bold\" lengthAdjust=\"spacingAndGlyphs\" textLength=\"20\" x=\"48\" y=\"63.9951\">P2</text><!--MD5=[09b614a08d8cba4a07c9adeb5e0fee81]\n",
       "class E3--><rect fill=\"#FFFFFF\" height=\"45.9375\" id=\"E3\" style=\"stroke: #383838; stroke-width: 1.5;\" width=\"66\" x=\"121\" y=\"212\"/><text fill=\"#000000\" font-family=\"sans-serif\" font-size=\"12\" font-style=\"italic\" lengthAdjust=\"spacingAndGlyphs\" textLength=\"64\" x=\"122\" y=\"228.1387\">«part def»</text><text fill=\"#000000\" font-family=\"sans-serif\" font-size=\"12\" lengthAdjust=\"spacingAndGlyphs\" textLength=\"8\" x=\"150\" y=\"242.1074\">A</text><line style=\"stroke: #383838; stroke-width: 1.5;\" x1=\"122\" x2=\"186\" y1=\"249.9375\" y2=\"249.9375\"/><!--MD5=[60a26617385b1d2d0262a64233df1f8d]\n",
       "class E6--><rect fill=\"#FFFFFF\" height=\"45.9375\" id=\"E6\" rx=\"10\" ry=\"10\" style=\"stroke: #383838; stroke-width: 1.5;\" width=\"42\" x=\"145\" y=\"87.5\"/><text fill=\"#000000\" font-family=\"sans-serif\" font-size=\"12\" font-style=\"italic\" lengthAdjust=\"spacingAndGlyphs\" textLength=\"40\" x=\"146\" y=\"103.6387\">«part»</text><text fill=\"#000000\" font-family=\"sans-serif\" font-size=\"12\" lengthAdjust=\"spacingAndGlyphs\" textLength=\"22\" x=\"155\" y=\"117.6074\">x: A</text><line style=\"stroke: #383838; stroke-width: 1.5;\" x1=\"146\" x2=\"186\" y1=\"125.4375\" y2=\"125.4375\"/><polygon fill=\"#FFFFFF\" points=\"60.5,84,95.5,84,102.5,106.2969,109.5,106.2969,109.5,136.5938,60.5,136.5938,60.5,84\" style=\"stroke: #000000; stroke-width: 1.5;\"/><line style=\"stroke: #000000; stroke-width: 1.5;\" x1=\"60.5\" x2=\"102.5\" y1=\"106.2969\" y2=\"106.2969\"/><text fill=\"#000000\" font-family=\"sans-serif\" font-size=\"14\" font-weight=\"bold\" lengthAdjust=\"spacingAndGlyphs\" textLength=\"29\" x=\"64.5\" y=\"98.9951\">P2a</text><!--MD5=[a717450b82c80b9240a525fa862496af]\n",
       "link E6 to E3--><path d=\"M163.83,133.68 C162.24,149.9 160.04,172.39 158.12,191.96 \" fill=\"none\" id=\"E6-&gt;E3\" style=\"stroke: #383838; stroke-width: 1.0;\"/><polygon fill=\"#FFFFFF\" points=\"156.16,211.98,151.0533,192.3861,164.986,193.7564,156.16,211.98\" style=\"stroke: #383838; stroke-width: 1.0;\"/><ellipse cx=\"153.6016\" cy=\"186.9092\" fill=\"#383838\" rx=\"2\" ry=\"2\" style=\"stroke: #383838; stroke-width: 1.0;\"/><ellipse cx=\"163.5535\" cy=\"187.888\" fill=\"#383838\" rx=\"2\" ry=\"2\" style=\"stroke: #383838; stroke-width: 1.0;\"/><!--MD5=[5944664a39d56c4d9b3379fc73564b5d]\n",
       "@startuml\r\n",
       "skinparam linetype polyline\r\n",
       "skinparam monochrome true\r\n",
       "skinparam classbackgroundcolor white\r\n",
       "skinparam shadowing false\r\n",
       "skinparam wrapWidth 300\r\n",
       "hide circle\r\n",
       "\r\n",
       "package \"QualifiedNameImportTest\" as E1   {\r\n",
       "package \"P1\" as E2   {\r\n",
       "comp def \"A\" as E3  <<(T,blue)part def>> {\r\n",
       "}\r\n",
       "}\r\n",
       "package \"P2\" as E4   {\r\n",
       "package \"P2a\" as E5   {\r\n",
       "}\r\n",
       "comp usage \"x: A\" as E6  <<(T,blue)part>> {\r\n",
       "}\r\n",
       "E6 - -:|> E3\r\n",
       "}\r\n",
       "}\r\n",
       "@enduml\r\n",
       "\n",
       "PlantUML version 1.2020.13(Sat Jun 13 12:26:38 UTC 2020)\n",
       "(EPL source distribution)\n",
       "Java Runtime: OpenJDK Runtime Environment\n",
       "JVM: OpenJDK 64-Bit Server VM\n",
       "Default Encoding: UTF-8\n",
       "Language: en\n",
       "Country: null\n",
       "--></g></svg>"
      ]
     },
     "execution_count": 10,
     "metadata": {},
     "output_type": "execute_result"
    }
   ],
   "source": [
    "%viz --style=\"POLYLINE\" --view=\"Tree\" \"QualifiedNameImportTest\""
   ]
  },
  {
   "cell_type": "code",
   "execution_count": 11,
   "id": "arabic-hawaii",
   "metadata": {
    "execution": {
     "iopub.execute_input": "2021-03-26T09:43:30.651244Z",
     "iopub.status.busy": "2021-03-26T09:43:30.650527Z",
     "iopub.status.idle": "2021-03-26T09:43:30.652406Z",
     "shell.execute_reply": "2021-03-26T09:43:30.652786Z"
    }
   },
   "outputs": [
    {
     "data": {
      "text/plain": [
       "java.lang.IllegalArgumentException: Invalid View: State View candidates are: Default Tree StateMachine Interconnection Activity Sequence MIXED \n",
       "\tat org.omg.sysml.plantuml.SysML2PlantUMLSvc.setView(SysML2PlantUMLSvc.java:63)\n",
       "\tat org.omg.sysml.interactive.SysMLInteractive.viz(SysMLInteractive.java:286)\n",
       "\tat org.omg.sysml.jupyter.kernel.magic.Viz.viz(Viz.java:47)\n",
       "\tat java.base/jdk.internal.reflect.NativeMethodAccessorImpl.invoke0(Native Method)\n",
       "\tat java.base/jdk.internal.reflect.NativeMethodAccessorImpl.invoke(NativeMethodAccessorImpl.java:78)\n",
       "\tat java.base/jdk.internal.reflect.DelegatingMethodAccessorImpl.invoke(DelegatingMethodAccessorImpl.java:43)\n",
       "\tat java.base/java.lang.reflect.Method.invoke(Method.java:568)\n",
       "\tat io.github.spencerpark.jupyter.kernel.magic.registry.Magics.invoke(Magics.java:89)\n",
       "\tat io.github.spencerpark.jupyter.kernel.magic.registry.Magics.access$000(Magics.java:8)\n",
       "\tat io.github.spencerpark.jupyter.kernel.magic.registry.Magics$LineReflectionMagicFunction.execute(Magics.java:149)\n",
       "\tat io.github.spencerpark.jupyter.kernel.magic.registry.Magics.applyLineMagic(Magics.java:26)\n",
       "\tat org.omg.sysml.jupyter.kernel.SysMLKernel.eval(SysMLKernel.java:76)\n",
       "\tat io.github.spencerpark.jupyter.kernel.BaseKernel.handleExecuteRequest(BaseKernel.java:334)\n",
       "\tat io.github.spencerpark.jupyter.channels.ShellChannel.lambda$bind$0(ShellChannel.java:64)\n",
       "\tat io.github.spencerpark.jupyter.channels.Loop.lambda$new$0(Loop.java:21)\n",
       "\tat io.github.spencerpark.jupyter.channels.Loop.run(Loop.java:78)\n"
      ]
     },
     "execution_count": 11,
     "metadata": {},
     "output_type": "execute_result"
    }
   ],
   "source": [
    "%viz --style=\"POLYLINE\" --view=\"State\" \"QualifiedNameImportTest\""
   ]
  },
  {
   "cell_type": "code",
   "execution_count": 12,
   "id": "quarterly-rebound",
   "metadata": {
    "execution": {
     "iopub.execute_input": "2021-03-26T09:43:30.707586Z",
     "iopub.status.busy": "2021-03-26T09:43:30.706632Z",
     "iopub.status.idle": "2021-03-26T09:43:30.772083Z",
     "shell.execute_reply": "2021-03-26T09:43:30.771710Z"
    }
   },
   "outputs": [
    {
     "data": {
      "image/svg+xml": [
       "<?xml version=\"1.0\" encoding=\"UTF-8\" standalone=\"no\"?><svg xmlns=\"http://www.w3.org/2000/svg\" xmlns:xlink=\"http://www.w3.org/1999/xlink\" contentScriptType=\"application/ecmascript\" contentStyleType=\"text/css\" height=\"189px\" preserveAspectRatio=\"none\" style=\"width:401px;height:189px;\" version=\"1.1\" viewBox=\"0 0 401 189\" width=\"401px\" zoomAndPan=\"magnify\"><defs/><g><!--MD5=[fbc87193dbaf4d95561dea2c320d4a47]\n",
       "cluster E1--><polygon fill=\"#FFFFFF\" points=\"16,6,221,6,228,28.2969,379,28.2969,379,177,16,177,16,6\" style=\"stroke: #000000; stroke-width: 1.5;\"/><line style=\"stroke: #000000; stroke-width: 1.5;\" x1=\"16\" x2=\"228\" y1=\"28.2969\" y2=\"28.2969\"/><text fill=\"#000000\" font-family=\"sans-serif\" font-size=\"14\" font-weight=\"bold\" lengthAdjust=\"spacingAndGlyphs\" textLength=\"199\" x=\"20\" y=\"20.9951\">QualifiedNameImportTest</text><!--MD5=[e4f7fae6ed58524ba242bb0b0d3be6b7]\n",
       "cluster E2--><polygon fill=\"#FFFFFF\" points=\"231,49,257,49,264,71.2969,355,71.2969,355,153,231,153,231,49\" style=\"stroke: #000000; stroke-width: 1.5;\"/><line style=\"stroke: #000000; stroke-width: 1.5;\" x1=\"231\" x2=\"264\" y1=\"71.2969\" y2=\"71.2969\"/><text fill=\"#000000\" font-family=\"sans-serif\" font-size=\"14\" font-weight=\"bold\" lengthAdjust=\"spacingAndGlyphs\" textLength=\"20\" x=\"235\" y=\"63.9951\">P1</text><!--MD5=[f6df4d0ebaf0b5dfb2ced0ae5af7c670]\n",
       "cluster E4--><polygon fill=\"#FFFFFF\" points=\"40,49,66,49,73,71.2969,207,71.2969,207,153,40,153,40,49\" style=\"stroke: #000000; stroke-width: 1.5;\"/><line style=\"stroke: #000000; stroke-width: 1.5;\" x1=\"40\" x2=\"73\" y1=\"71.2969\" y2=\"71.2969\"/><text fill=\"#000000\" font-family=\"sans-serif\" font-size=\"14\" font-weight=\"bold\" lengthAdjust=\"spacingAndGlyphs\" textLength=\"20\" x=\"44\" y=\"63.9951\">P2</text><!--MD5=[a60fb756f580feb9fd8e2cf1329b5c91]\n",
       "entity E3--><rect fill=\"#FFFFFF\" height=\"52.5938\" style=\"stroke: #000000; stroke-width: 1.5;\" width=\"91\" x=\"247.5\" y=\"84\"/><text fill=\"#000000\" font-family=\"sans-serif\" font-size=\"14\" font-style=\"italic\" lengthAdjust=\"spacingAndGlyphs\" textLength=\"71\" x=\"257.5\" y=\"106.9951\">«part def»</text><text fill=\"#000000\" font-family=\"sans-serif\" font-size=\"14\" lengthAdjust=\"spacingAndGlyphs\" textLength=\"9\" x=\"288.5\" y=\"123.292\">A</text><polygon fill=\"#FFFFFF\" points=\"141.5,84,176.5,84,183.5,106.2969,190.5,106.2969,190.5,136.5938,141.5,136.5938,141.5,84\" style=\"stroke: #000000; stroke-width: 1.5;\"/><line style=\"stroke: #000000; stroke-width: 1.5;\" x1=\"141.5\" x2=\"183.5\" y1=\"106.2969\" y2=\"106.2969\"/><text fill=\"#000000\" font-family=\"sans-serif\" font-size=\"14\" font-weight=\"bold\" lengthAdjust=\"spacingAndGlyphs\" textLength=\"29\" x=\"145.5\" y=\"98.9951\">P2a</text><g id=\"E1.E4.E6\"><rect fill=\"#FFFFFF\" height=\"50\" rx=\"12.5\" ry=\"12.5\" style=\"stroke: #383838; stroke-width: 1.5;\" width=\"50\" x=\"56\" y=\"85.5\"/><line style=\"stroke: #383838; stroke-width: 1.5;\" x1=\"56\" x2=\"106\" y1=\"111.7969\" y2=\"111.7969\"/><text fill=\"#000000\" font-family=\"sans-serif\" font-size=\"14\" lengthAdjust=\"spacingAndGlyphs\" textLength=\"25\" x=\"68.5\" y=\"103.4951\">x: A</text></g><!--MD5=[0e290864b82d1a6a0494d314b022d45a]\n",
       "@startuml\r\n",
       "skinparam ranksep 8\r\n",
       "skinparam rectangle {\r\n",
       " backgroundColor<<block>> LightGreen\r\n",
       "}\r\n",
       "skinparam linetype polyline\r\n",
       "skinparam monochrome true\r\n",
       "skinparam classbackgroundcolor white\r\n",
       "skinparam shadowing false\r\n",
       "skinparam wrapWidth 300\r\n",
       "hide circle\r\n",
       "\r\n",
       "package \"QualifiedNameImportTest\" as E1   {\r\n",
       "package \"P1\" as E2   {\r\n",
       "rec def \"A\" as E3  <<part def>> {\r\n",
       "}\r\n",
       "}\r\n",
       "package \"P2\" as E4   {\r\n",
       "package \"P2a\" as E5   {\r\n",
       "}\r\n",
       "rec usage \"x: A\" as E6  {\r\n",
       "}\r\n",
       "}\r\n",
       "}\r\n",
       "@enduml\r\n",
       "\n",
       "PlantUML version 1.2020.13(Sat Jun 13 12:26:38 UTC 2020)\n",
       "(EPL source distribution)\n",
       "Java Runtime: OpenJDK Runtime Environment\n",
       "JVM: OpenJDK 64-Bit Server VM\n",
       "Default Encoding: UTF-8\n",
       "Language: en\n",
       "Country: null\n",
       "--></g></svg>"
      ]
     },
     "execution_count": 12,
     "metadata": {},
     "output_type": "execute_result"
    }
   ],
   "source": [
    "%viz --style=\"POLYLINE\" --view=\"Interconnection\" \"QualifiedNameImportTest\""
   ]
  },
  {
   "cell_type": "code",
   "execution_count": 13,
   "id": "distinguished-solid",
   "metadata": {
    "execution": {
     "iopub.execute_input": "2021-03-26T09:43:30.822525Z",
     "iopub.status.busy": "2021-03-26T09:43:30.822129Z",
     "iopub.status.idle": "2021-03-26T09:43:30.824033Z",
     "shell.execute_reply": "2021-03-26T09:43:30.824370Z"
    }
   },
   "outputs": [
    {
     "data": {
      "text/plain": [
       "java.lang.IllegalArgumentException: Invalid View: Action View candidates are: Default Tree StateMachine Interconnection Activity Sequence MIXED \n",
       "\tat org.omg.sysml.plantuml.SysML2PlantUMLSvc.setView(SysML2PlantUMLSvc.java:63)\n",
       "\tat org.omg.sysml.interactive.SysMLInteractive.viz(SysMLInteractive.java:286)\n",
       "\tat org.omg.sysml.jupyter.kernel.magic.Viz.viz(Viz.java:47)\n",
       "\tat java.base/jdk.internal.reflect.NativeMethodAccessorImpl.invoke0(Native Method)\n",
       "\tat java.base/jdk.internal.reflect.NativeMethodAccessorImpl.invoke(NativeMethodAccessorImpl.java:78)\n",
       "\tat java.base/jdk.internal.reflect.DelegatingMethodAccessorImpl.invoke(DelegatingMethodAccessorImpl.java:43)\n",
       "\tat java.base/java.lang.reflect.Method.invoke(Method.java:568)\n",
       "\tat io.github.spencerpark.jupyter.kernel.magic.registry.Magics.invoke(Magics.java:89)\n",
       "\tat io.github.spencerpark.jupyter.kernel.magic.registry.Magics.access$000(Magics.java:8)\n",
       "\tat io.github.spencerpark.jupyter.kernel.magic.registry.Magics$LineReflectionMagicFunction.execute(Magics.java:149)\n",
       "\tat io.github.spencerpark.jupyter.kernel.magic.registry.Magics.applyLineMagic(Magics.java:26)\n",
       "\tat org.omg.sysml.jupyter.kernel.SysMLKernel.eval(SysMLKernel.java:76)\n",
       "\tat io.github.spencerpark.jupyter.kernel.BaseKernel.handleExecuteRequest(BaseKernel.java:334)\n",
       "\tat io.github.spencerpark.jupyter.channels.ShellChannel.lambda$bind$0(ShellChannel.java:64)\n",
       "\tat io.github.spencerpark.jupyter.channels.Loop.lambda$new$0(Loop.java:21)\n",
       "\tat io.github.spencerpark.jupyter.channels.Loop.run(Loop.java:78)\n"
      ]
     },
     "execution_count": 13,
     "metadata": {},
     "output_type": "execute_result"
    }
   ],
   "source": [
    "%viz --style=\"POLYLINE\" --view=\"Action\" \"QualifiedNameImportTest\""
   ]
  },
  {
   "cell_type": "code",
   "execution_count": 14,
   "id": "unlikely-maryland",
   "metadata": {
    "execution": {
     "iopub.execute_input": "2021-03-26T09:43:30.875080Z",
     "iopub.status.busy": "2021-03-26T09:43:30.874440Z",
     "iopub.status.idle": "2021-03-26T09:43:30.909504Z",
     "shell.execute_reply": "2021-03-26T09:43:30.909976Z"
    }
   },
   "outputs": [
    {
     "data": {
      "image/svg+xml": [
       "<?xml version=\"1.0\" encoding=\"UTF-8\" standalone=\"no\"?><svg xmlns=\"http://www.w3.org/2000/svg\" xmlns:xlink=\"http://www.w3.org/1999/xlink\" contentScriptType=\"application/ecmascript\" contentStyleType=\"text/css\" height=\"310px\" preserveAspectRatio=\"none\" style=\"width:253px;height:310px;\" version=\"1.1\" viewBox=\"0 0 253 310\" width=\"253px\" zoomAndPan=\"magnify\"><defs/><g><!--MD5=[fbc87193dbaf4d95561dea2c320d4a47]\n",
       "cluster E1--><polygon fill=\"#FFFFFF\" points=\"16,6,221,6,228,28.2969,231,28.2969,231,298,16,298,16,6\" style=\"stroke: #000000; stroke-width: 1.5;\"/><line style=\"stroke: #000000; stroke-width: 1.5;\" x1=\"16\" x2=\"228\" y1=\"28.2969\" y2=\"28.2969\"/><text fill=\"#000000\" font-family=\"sans-serif\" font-size=\"14\" font-weight=\"bold\" lengthAdjust=\"spacingAndGlyphs\" textLength=\"199\" x=\"20\" y=\"20.9951\">QualifiedNameImportTest</text><!--MD5=[e4f7fae6ed58524ba242bb0b0d3be6b7]\n",
       "cluster E2--><polygon fill=\"#FFFFFF\" points=\"105,177,131,177,138,199.2969,203,199.2969,203,274,105,274,105,177\" style=\"stroke: #000000; stroke-width: 1.5;\"/><line style=\"stroke: #000000; stroke-width: 1.5;\" x1=\"105\" x2=\"138\" y1=\"199.2969\" y2=\"199.2969\"/><text fill=\"#000000\" font-family=\"sans-serif\" font-size=\"14\" font-weight=\"bold\" lengthAdjust=\"spacingAndGlyphs\" textLength=\"20\" x=\"109\" y=\"191.9951\">P1</text><!--MD5=[f6df4d0ebaf0b5dfb2ced0ae5af7c670]\n",
       "cluster E4--><polygon fill=\"#FFFFFF\" points=\"44,49,70,49,77,71.2969,203,71.2969,203,153,44,153,44,49\" style=\"stroke: #000000; stroke-width: 1.5;\"/><line style=\"stroke: #000000; stroke-width: 1.5;\" x1=\"44\" x2=\"77\" y1=\"71.2969\" y2=\"71.2969\"/><text fill=\"#000000\" font-family=\"sans-serif\" font-size=\"14\" font-weight=\"bold\" lengthAdjust=\"spacingAndGlyphs\" textLength=\"20\" x=\"48\" y=\"63.9951\">P2</text><!--MD5=[09b614a08d8cba4a07c9adeb5e0fee81]\n",
       "class E3--><rect fill=\"#FFFFFF\" height=\"45.9375\" id=\"E3\" style=\"stroke: #383838; stroke-width: 1.5;\" width=\"66\" x=\"121\" y=\"212\"/><text fill=\"#000000\" font-family=\"sans-serif\" font-size=\"12\" font-style=\"italic\" lengthAdjust=\"spacingAndGlyphs\" textLength=\"64\" x=\"122\" y=\"228.1387\">«part def»</text><text fill=\"#000000\" font-family=\"sans-serif\" font-size=\"12\" lengthAdjust=\"spacingAndGlyphs\" textLength=\"8\" x=\"150\" y=\"242.1074\">A</text><line style=\"stroke: #383838; stroke-width: 1.5;\" x1=\"122\" x2=\"186\" y1=\"249.9375\" y2=\"249.9375\"/><!--MD5=[60a26617385b1d2d0262a64233df1f8d]\n",
       "class E6--><rect fill=\"#FFFFFF\" height=\"45.9375\" id=\"E6\" rx=\"10\" ry=\"10\" style=\"stroke: #383838; stroke-width: 1.5;\" width=\"42\" x=\"145\" y=\"87.5\"/><text fill=\"#000000\" font-family=\"sans-serif\" font-size=\"12\" font-style=\"italic\" lengthAdjust=\"spacingAndGlyphs\" textLength=\"40\" x=\"146\" y=\"103.6387\">«part»</text><text fill=\"#000000\" font-family=\"sans-serif\" font-size=\"12\" lengthAdjust=\"spacingAndGlyphs\" textLength=\"22\" x=\"155\" y=\"117.6074\">x: A</text><line style=\"stroke: #383838; stroke-width: 1.5;\" x1=\"146\" x2=\"186\" y1=\"125.4375\" y2=\"125.4375\"/><polygon fill=\"#FFFFFF\" points=\"60.5,84,95.5,84,102.5,106.2969,109.5,106.2969,109.5,136.5938,60.5,136.5938,60.5,84\" style=\"stroke: #000000; stroke-width: 1.5;\"/><line style=\"stroke: #000000; stroke-width: 1.5;\" x1=\"60.5\" x2=\"102.5\" y1=\"106.2969\" y2=\"106.2969\"/><text fill=\"#000000\" font-family=\"sans-serif\" font-size=\"14\" font-weight=\"bold\" lengthAdjust=\"spacingAndGlyphs\" textLength=\"29\" x=\"64.5\" y=\"98.9951\">P2a</text><!--MD5=[a717450b82c80b9240a525fa862496af]\n",
       "link E6 to E3--><path d=\"M163.83,133.68 C162.24,149.9 160.04,172.39 158.12,191.96 \" fill=\"none\" id=\"E6-&gt;E3\" style=\"stroke: #383838; stroke-width: 1.0;\"/><polygon fill=\"#FFFFFF\" points=\"156.16,211.98,151.0533,192.3861,164.986,193.7564,156.16,211.98\" style=\"stroke: #383838; stroke-width: 1.0;\"/><ellipse cx=\"153.6016\" cy=\"186.9092\" fill=\"#383838\" rx=\"2\" ry=\"2\" style=\"stroke: #383838; stroke-width: 1.0;\"/><ellipse cx=\"163.5535\" cy=\"187.888\" fill=\"#383838\" rx=\"2\" ry=\"2\" style=\"stroke: #383838; stroke-width: 1.0;\"/><!--MD5=[5944664a39d56c4d9b3379fc73564b5d]\n",
       "@startuml\r\n",
       "skinparam linetype polyline\r\n",
       "skinparam monochrome true\r\n",
       "skinparam classbackgroundcolor white\r\n",
       "skinparam shadowing false\r\n",
       "skinparam wrapWidth 300\r\n",
       "hide circle\r\n",
       "\r\n",
       "package \"QualifiedNameImportTest\" as E1   {\r\n",
       "package \"P1\" as E2   {\r\n",
       "comp def \"A\" as E3  <<(T,blue)part def>> {\r\n",
       "}\r\n",
       "}\r\n",
       "package \"P2\" as E4   {\r\n",
       "package \"P2a\" as E5   {\r\n",
       "}\r\n",
       "comp usage \"x: A\" as E6  <<(T,blue)part>> {\r\n",
       "}\r\n",
       "E6 - -:|> E3\r\n",
       "}\r\n",
       "}\r\n",
       "@enduml\r\n",
       "\n",
       "PlantUML version 1.2020.13(Sat Jun 13 12:26:38 UTC 2020)\n",
       "(EPL source distribution)\n",
       "Java Runtime: OpenJDK Runtime Environment\n",
       "JVM: OpenJDK 64-Bit Server VM\n",
       "Default Encoding: UTF-8\n",
       "Language: en\n",
       "Country: null\n",
       "--></g></svg>"
      ]
     },
     "execution_count": 14,
     "metadata": {},
     "output_type": "execute_result"
    }
   ],
   "source": [
    "%viz --style=\"POLYLINE\" --view=\"Sequence\" \"QualifiedNameImportTest\""
   ]
  },
  {
   "cell_type": "code",
   "execution_count": 15,
   "id": "southern-affair",
   "metadata": {
    "execution": {
     "iopub.execute_input": "2021-03-26T09:43:30.964243Z",
     "iopub.status.busy": "2021-03-26T09:43:30.963462Z",
     "iopub.status.idle": "2021-03-26T09:43:30.997467Z",
     "shell.execute_reply": "2021-03-26T09:43:30.997834Z"
    }
   },
   "outputs": [
    {
     "data": {
      "image/svg+xml": [
       "<?xml version=\"1.0\" encoding=\"UTF-8\" standalone=\"no\"?><svg xmlns=\"http://www.w3.org/2000/svg\" xmlns:xlink=\"http://www.w3.org/1999/xlink\" contentScriptType=\"application/ecmascript\" contentStyleType=\"text/css\" height=\"310px\" preserveAspectRatio=\"none\" style=\"width:253px;height:310px;\" version=\"1.1\" viewBox=\"0 0 253 310\" width=\"253px\" zoomAndPan=\"magnify\"><defs/><g><!--MD5=[fbc87193dbaf4d95561dea2c320d4a47]\n",
       "cluster E1--><polygon fill=\"#FFFFFF\" points=\"16,6,221,6,228,28.2969,231,28.2969,231,298,16,298,16,6\" style=\"stroke: #000000; stroke-width: 1.5;\"/><line style=\"stroke: #000000; stroke-width: 1.5;\" x1=\"16\" x2=\"228\" y1=\"28.2969\" y2=\"28.2969\"/><text fill=\"#000000\" font-family=\"sans-serif\" font-size=\"14\" font-weight=\"bold\" lengthAdjust=\"spacingAndGlyphs\" textLength=\"199\" x=\"20\" y=\"20.9951\">QualifiedNameImportTest</text><!--MD5=[e4f7fae6ed58524ba242bb0b0d3be6b7]\n",
       "cluster E2--><polygon fill=\"#FFFFFF\" points=\"105,177,131,177,138,199.2969,203,199.2969,203,274,105,274,105,177\" style=\"stroke: #000000; stroke-width: 1.5;\"/><line style=\"stroke: #000000; stroke-width: 1.5;\" x1=\"105\" x2=\"138\" y1=\"199.2969\" y2=\"199.2969\"/><text fill=\"#000000\" font-family=\"sans-serif\" font-size=\"14\" font-weight=\"bold\" lengthAdjust=\"spacingAndGlyphs\" textLength=\"20\" x=\"109\" y=\"191.9951\">P1</text><!--MD5=[f6df4d0ebaf0b5dfb2ced0ae5af7c670]\n",
       "cluster E4--><polygon fill=\"#FFFFFF\" points=\"44,49,70,49,77,71.2969,203,71.2969,203,153,44,153,44,49\" style=\"stroke: #000000; stroke-width: 1.5;\"/><line style=\"stroke: #000000; stroke-width: 1.5;\" x1=\"44\" x2=\"77\" y1=\"71.2969\" y2=\"71.2969\"/><text fill=\"#000000\" font-family=\"sans-serif\" font-size=\"14\" font-weight=\"bold\" lengthAdjust=\"spacingAndGlyphs\" textLength=\"20\" x=\"48\" y=\"63.9951\">P2</text><!--MD5=[09b614a08d8cba4a07c9adeb5e0fee81]\n",
       "class E3--><rect fill=\"#FFFFFF\" height=\"45.9375\" id=\"E3\" style=\"stroke: #383838; stroke-width: 1.5;\" width=\"66\" x=\"121\" y=\"212\"/><text fill=\"#000000\" font-family=\"sans-serif\" font-size=\"12\" font-style=\"italic\" lengthAdjust=\"spacingAndGlyphs\" textLength=\"64\" x=\"122\" y=\"228.1387\">«part def»</text><text fill=\"#000000\" font-family=\"sans-serif\" font-size=\"12\" lengthAdjust=\"spacingAndGlyphs\" textLength=\"8\" x=\"150\" y=\"242.1074\">A</text><line style=\"stroke: #383838; stroke-width: 1.5;\" x1=\"122\" x2=\"186\" y1=\"249.9375\" y2=\"249.9375\"/><!--MD5=[60a26617385b1d2d0262a64233df1f8d]\n",
       "class E6--><rect fill=\"#FFFFFF\" height=\"45.9375\" id=\"E6\" rx=\"10\" ry=\"10\" style=\"stroke: #383838; stroke-width: 1.5;\" width=\"42\" x=\"145\" y=\"87.5\"/><text fill=\"#000000\" font-family=\"sans-serif\" font-size=\"12\" font-style=\"italic\" lengthAdjust=\"spacingAndGlyphs\" textLength=\"40\" x=\"146\" y=\"103.6387\">«part»</text><text fill=\"#000000\" font-family=\"sans-serif\" font-size=\"12\" lengthAdjust=\"spacingAndGlyphs\" textLength=\"22\" x=\"155\" y=\"117.6074\">x: A</text><line style=\"stroke: #383838; stroke-width: 1.5;\" x1=\"146\" x2=\"186\" y1=\"125.4375\" y2=\"125.4375\"/><polygon fill=\"#FFFFFF\" points=\"60.5,84,95.5,84,102.5,106.2969,109.5,106.2969,109.5,136.5938,60.5,136.5938,60.5,84\" style=\"stroke: #000000; stroke-width: 1.5;\"/><line style=\"stroke: #000000; stroke-width: 1.5;\" x1=\"60.5\" x2=\"102.5\" y1=\"106.2969\" y2=\"106.2969\"/><text fill=\"#000000\" font-family=\"sans-serif\" font-size=\"14\" font-weight=\"bold\" lengthAdjust=\"spacingAndGlyphs\" textLength=\"29\" x=\"64.5\" y=\"98.9951\">P2a</text><!--MD5=[a717450b82c80b9240a525fa862496af]\n",
       "link E6 to E3--><path d=\"M163.83,133.68 C162.24,149.9 160.04,172.39 158.12,191.96 \" fill=\"none\" id=\"E6-&gt;E3\" style=\"stroke: #383838; stroke-width: 1.0;\"/><polygon fill=\"#FFFFFF\" points=\"156.16,211.98,151.0533,192.3861,164.986,193.7564,156.16,211.98\" style=\"stroke: #383838; stroke-width: 1.0;\"/><ellipse cx=\"153.6016\" cy=\"186.9092\" fill=\"#383838\" rx=\"2\" ry=\"2\" style=\"stroke: #383838; stroke-width: 1.0;\"/><ellipse cx=\"163.5535\" cy=\"187.888\" fill=\"#383838\" rx=\"2\" ry=\"2\" style=\"stroke: #383838; stroke-width: 1.0;\"/><!--MD5=[5944664a39d56c4d9b3379fc73564b5d]\n",
       "@startuml\r\n",
       "skinparam linetype polyline\r\n",
       "skinparam monochrome true\r\n",
       "skinparam classbackgroundcolor white\r\n",
       "skinparam shadowing false\r\n",
       "skinparam wrapWidth 300\r\n",
       "hide circle\r\n",
       "\r\n",
       "package \"QualifiedNameImportTest\" as E1   {\r\n",
       "package \"P1\" as E2   {\r\n",
       "comp def \"A\" as E3  <<(T,blue)part def>> {\r\n",
       "}\r\n",
       "}\r\n",
       "package \"P2\" as E4   {\r\n",
       "package \"P2a\" as E5   {\r\n",
       "}\r\n",
       "comp usage \"x: A\" as E6  <<(T,blue)part>> {\r\n",
       "}\r\n",
       "E6 - -:|> E3\r\n",
       "}\r\n",
       "}\r\n",
       "@enduml\r\n",
       "\n",
       "PlantUML version 1.2020.13(Sat Jun 13 12:26:38 UTC 2020)\n",
       "(EPL source distribution)\n",
       "Java Runtime: OpenJDK Runtime Environment\n",
       "JVM: OpenJDK 64-Bit Server VM\n",
       "Default Encoding: UTF-8\n",
       "Language: en\n",
       "Country: null\n",
       "--></g></svg>"
      ]
     },
     "execution_count": 15,
     "metadata": {},
     "output_type": "execute_result"
    }
   ],
   "source": [
    "%viz --style=\"POLYLINE\" --view=\"MIXED\" \"QualifiedNameImportTest\""
   ]
  },
  {
   "cell_type": "code",
   "execution_count": 16,
   "id": "alleged-banana",
   "metadata": {
    "execution": {
     "iopub.execute_input": "2021-03-26T09:43:31.049356Z",
     "iopub.status.busy": "2021-03-26T09:43:31.048757Z",
     "iopub.status.idle": "2021-03-26T09:43:31.080402Z",
     "shell.execute_reply": "2021-03-26T09:43:31.080114Z"
    }
   },
   "outputs": [
    {
     "data": {
      "image/svg+xml": [
       "<?xml version=\"1.0\" encoding=\"UTF-8\" standalone=\"no\"?><svg xmlns=\"http://www.w3.org/2000/svg\" xmlns:xlink=\"http://www.w3.org/1999/xlink\" contentScriptType=\"application/ecmascript\" contentStyleType=\"text/css\" height=\"271px\" preserveAspectRatio=\"none\" style=\"width:293px;height:271px;\" version=\"1.1\" viewBox=\"0 0 293 271\" width=\"293px\" zoomAndPan=\"magnify\"><defs/><g><!--MD5=[fbc87193dbaf4d95561dea2c320d4a47]\n",
       "cluster E1--><polygon fill=\"#FFFFFF\" points=\"16,6,221,6,228,28.2969,271,28.2969,271,259,16,259,16,6\" style=\"stroke: #000000; stroke-width: 1.5;\"/><line style=\"stroke: #000000; stroke-width: 1.5;\" x1=\"16\" x2=\"228\" y1=\"28.2969\" y2=\"28.2969\"/><text fill=\"#000000\" font-family=\"sans-serif\" font-size=\"14\" font-weight=\"bold\" lengthAdjust=\"spacingAndGlyphs\" textLength=\"199\" x=\"20\" y=\"20.9951\">QualifiedNameImportTest</text><!--MD5=[e4f7fae6ed58524ba242bb0b0d3be6b7]\n",
       "cluster E2--><polygon fill=\"#FFFFFF\" points=\"149,49,175,49,182,71.2969,247,71.2969,247,146,149,146,149,49\" style=\"stroke: #000000; stroke-width: 1.5;\"/><line style=\"stroke: #000000; stroke-width: 1.5;\" x1=\"149\" x2=\"182\" y1=\"71.2969\" y2=\"71.2969\"/><text fill=\"#000000\" font-family=\"sans-serif\" font-size=\"14\" font-weight=\"bold\" lengthAdjust=\"spacingAndGlyphs\" textLength=\"20\" x=\"153\" y=\"63.9951\">P1</text><!--MD5=[f6df4d0ebaf0b5dfb2ced0ae5af7c670]\n",
       "cluster E4--><polygon fill=\"#FFFFFF\" points=\"40,49,66,49,73,71.2969,121,71.2969,121,235,40,235,40,49\" style=\"stroke: #000000; stroke-width: 1.5;\"/><line style=\"stroke: #000000; stroke-width: 1.5;\" x1=\"40\" x2=\"73\" y1=\"71.2969\" y2=\"71.2969\"/><text fill=\"#000000\" font-family=\"sans-serif\" font-size=\"14\" font-weight=\"bold\" lengthAdjust=\"spacingAndGlyphs\" textLength=\"20\" x=\"44\" y=\"63.9951\">P2</text><!--MD5=[09b614a08d8cba4a07c9adeb5e0fee81]\n",
       "class E3--><rect fill=\"#FFFFFF\" height=\"45.9375\" id=\"E3\" style=\"stroke: #383838; stroke-width: 1.5;\" width=\"66\" x=\"165\" y=\"84\"/><text fill=\"#000000\" font-family=\"sans-serif\" font-size=\"12\" font-style=\"italic\" lengthAdjust=\"spacingAndGlyphs\" textLength=\"64\" x=\"166\" y=\"100.1387\">«part def»</text><text fill=\"#000000\" font-family=\"sans-serif\" font-size=\"12\" lengthAdjust=\"spacingAndGlyphs\" textLength=\"8\" x=\"194\" y=\"114.1074\">A</text><line style=\"stroke: #383838; stroke-width: 1.5;\" x1=\"166\" x2=\"230\" y1=\"121.9375\" y2=\"121.9375\"/><!--MD5=[60a26617385b1d2d0262a64233df1f8d]\n",
       "class E6--><rect fill=\"#FFFFFF\" height=\"45.9375\" id=\"E6\" rx=\"10\" ry=\"10\" style=\"stroke: #383838; stroke-width: 1.5;\" width=\"42\" x=\"59.5\" y=\"84\"/><text fill=\"#000000\" font-family=\"sans-serif\" font-size=\"12\" font-style=\"italic\" lengthAdjust=\"spacingAndGlyphs\" textLength=\"40\" x=\"60.5\" y=\"100.1387\">«part»</text><text fill=\"#000000\" font-family=\"sans-serif\" font-size=\"12\" lengthAdjust=\"spacingAndGlyphs\" textLength=\"22\" x=\"69.5\" y=\"114.1074\">x: A</text><line style=\"stroke: #383838; stroke-width: 1.5;\" x1=\"60.5\" x2=\"100.5\" y1=\"121.9375\" y2=\"121.9375\"/><polygon fill=\"#FFFFFF\" points=\"56,165.5,91,165.5,98,187.7969,105,187.7969,105,218.0938,56,218.0938,56,165.5\" style=\"stroke: #000000; stroke-width: 1.5;\"/><line style=\"stroke: #000000; stroke-width: 1.5;\" x1=\"56\" x2=\"98\" y1=\"187.7969\" y2=\"187.7969\"/><text fill=\"#000000\" font-family=\"sans-serif\" font-size=\"14\" font-weight=\"bold\" lengthAdjust=\"spacingAndGlyphs\" textLength=\"29\" x=\"60\" y=\"180.4951\">P2a</text><!--MD5=[a717450b82c80b9240a525fa862496af]\n",
       "link E6 to E3--><path d=\"M101.62,107 C113.62,107 129.45,107 144.76,107 \" fill=\"none\" id=\"E6-&gt;E3\" style=\"stroke: #383838; stroke-width: 1.0;\"/><polygon fill=\"#FFFFFF\" points=\"164.91,107,145.91,114,145.91,100,164.91,107\" style=\"stroke: #383838; stroke-width: 1.0;\"/><ellipse cx=\"140.21\" cy=\"112\" fill=\"#383838\" rx=\"2\" ry=\"2\" style=\"stroke: #383838; stroke-width: 1.0;\"/><ellipse cx=\"140.21\" cy=\"102\" fill=\"#383838\" rx=\"2\" ry=\"2\" style=\"stroke: #383838; stroke-width: 1.0;\"/><!--MD5=[abbb82ea8401a999289adc04d7e24666]\n",
       "@startuml\r\n",
       "left to right direction\r\n",
       "skinparam monochrome true\r\n",
       "skinparam classbackgroundcolor white\r\n",
       "skinparam shadowing false\r\n",
       "skinparam wrapWidth 300\r\n",
       "hide circle\r\n",
       "\r\n",
       "package \"QualifiedNameImportTest\" as E1   {\r\n",
       "package \"P1\" as E2   {\r\n",
       "comp def \"A\" as E3  <<(T,blue)part def>> {\r\n",
       "}\r\n",
       "}\r\n",
       "package \"P2\" as E4   {\r\n",
       "package \"P2a\" as E5   {\r\n",
       "}\r\n",
       "comp usage \"x: A\" as E6  <<(T,blue)part>> {\r\n",
       "}\r\n",
       "E6 - -:|> E3\r\n",
       "}\r\n",
       "}\r\n",
       "@enduml\r\n",
       "\n",
       "PlantUML version 1.2020.13(Sat Jun 13 12:26:38 UTC 2020)\n",
       "(EPL source distribution)\n",
       "Java Runtime: OpenJDK Runtime Environment\n",
       "JVM: OpenJDK 64-Bit Server VM\n",
       "Default Encoding: UTF-8\n",
       "Language: en\n",
       "Country: null\n",
       "--></g></svg>"
      ]
     },
     "execution_count": 16,
     "metadata": {},
     "output_type": "execute_result"
    }
   ],
   "source": [
    "%viz --style=\"LR\" --view=\"Default\" \"QualifiedNameImportTest\""
   ]
  },
  {
   "cell_type": "code",
   "execution_count": 17,
   "id": "equivalent-chain",
   "metadata": {
    "execution": {
     "iopub.execute_input": "2021-03-26T09:43:31.132612Z",
     "iopub.status.busy": "2021-03-26T09:43:31.131834Z",
     "iopub.status.idle": "2021-03-26T09:43:31.164592Z",
     "shell.execute_reply": "2021-03-26T09:43:31.164995Z"
    }
   },
   "outputs": [
    {
     "data": {
      "image/svg+xml": [
       "<?xml version=\"1.0\" encoding=\"UTF-8\" standalone=\"no\"?><svg xmlns=\"http://www.w3.org/2000/svg\" xmlns:xlink=\"http://www.w3.org/1999/xlink\" contentScriptType=\"application/ecmascript\" contentStyleType=\"text/css\" height=\"271px\" preserveAspectRatio=\"none\" style=\"width:293px;height:271px;\" version=\"1.1\" viewBox=\"0 0 293 271\" width=\"293px\" zoomAndPan=\"magnify\"><defs/><g><!--MD5=[fbc87193dbaf4d95561dea2c320d4a47]\n",
       "cluster E1--><polygon fill=\"#FFFFFF\" points=\"16,6,221,6,228,28.2969,271,28.2969,271,259,16,259,16,6\" style=\"stroke: #000000; stroke-width: 1.5;\"/><line style=\"stroke: #000000; stroke-width: 1.5;\" x1=\"16\" x2=\"228\" y1=\"28.2969\" y2=\"28.2969\"/><text fill=\"#000000\" font-family=\"sans-serif\" font-size=\"14\" font-weight=\"bold\" lengthAdjust=\"spacingAndGlyphs\" textLength=\"199\" x=\"20\" y=\"20.9951\">QualifiedNameImportTest</text><!--MD5=[e4f7fae6ed58524ba242bb0b0d3be6b7]\n",
       "cluster E2--><polygon fill=\"#FFFFFF\" points=\"149,49,175,49,182,71.2969,247,71.2969,247,146,149,146,149,49\" style=\"stroke: #000000; stroke-width: 1.5;\"/><line style=\"stroke: #000000; stroke-width: 1.5;\" x1=\"149\" x2=\"182\" y1=\"71.2969\" y2=\"71.2969\"/><text fill=\"#000000\" font-family=\"sans-serif\" font-size=\"14\" font-weight=\"bold\" lengthAdjust=\"spacingAndGlyphs\" textLength=\"20\" x=\"153\" y=\"63.9951\">P1</text><!--MD5=[f6df4d0ebaf0b5dfb2ced0ae5af7c670]\n",
       "cluster E4--><polygon fill=\"#FFFFFF\" points=\"40,49,66,49,73,71.2969,121,71.2969,121,235,40,235,40,49\" style=\"stroke: #000000; stroke-width: 1.5;\"/><line style=\"stroke: #000000; stroke-width: 1.5;\" x1=\"40\" x2=\"73\" y1=\"71.2969\" y2=\"71.2969\"/><text fill=\"#000000\" font-family=\"sans-serif\" font-size=\"14\" font-weight=\"bold\" lengthAdjust=\"spacingAndGlyphs\" textLength=\"20\" x=\"44\" y=\"63.9951\">P2</text><!--MD5=[09b614a08d8cba4a07c9adeb5e0fee81]\n",
       "class E3--><rect fill=\"#FFFFFF\" height=\"45.9375\" id=\"E3\" style=\"stroke: #383838; stroke-width: 1.5;\" width=\"66\" x=\"165\" y=\"84\"/><text fill=\"#000000\" font-family=\"sans-serif\" font-size=\"12\" font-style=\"italic\" lengthAdjust=\"spacingAndGlyphs\" textLength=\"64\" x=\"166\" y=\"100.1387\">«part def»</text><text fill=\"#000000\" font-family=\"sans-serif\" font-size=\"12\" lengthAdjust=\"spacingAndGlyphs\" textLength=\"8\" x=\"194\" y=\"114.1074\">A</text><line style=\"stroke: #383838; stroke-width: 1.5;\" x1=\"166\" x2=\"230\" y1=\"121.9375\" y2=\"121.9375\"/><!--MD5=[60a26617385b1d2d0262a64233df1f8d]\n",
       "class E6--><rect fill=\"#FFFFFF\" height=\"45.9375\" id=\"E6\" rx=\"10\" ry=\"10\" style=\"stroke: #383838; stroke-width: 1.5;\" width=\"42\" x=\"59.5\" y=\"84\"/><text fill=\"#000000\" font-family=\"sans-serif\" font-size=\"12\" font-style=\"italic\" lengthAdjust=\"spacingAndGlyphs\" textLength=\"40\" x=\"60.5\" y=\"100.1387\">«part»</text><text fill=\"#000000\" font-family=\"sans-serif\" font-size=\"12\" lengthAdjust=\"spacingAndGlyphs\" textLength=\"22\" x=\"69.5\" y=\"114.1074\">x: A</text><line style=\"stroke: #383838; stroke-width: 1.5;\" x1=\"60.5\" x2=\"100.5\" y1=\"121.9375\" y2=\"121.9375\"/><polygon fill=\"#FFFFFF\" points=\"56,165.5,91,165.5,98,187.7969,105,187.7969,105,218.0938,56,218.0938,56,165.5\" style=\"stroke: #000000; stroke-width: 1.5;\"/><line style=\"stroke: #000000; stroke-width: 1.5;\" x1=\"56\" x2=\"98\" y1=\"187.7969\" y2=\"187.7969\"/><text fill=\"#000000\" font-family=\"sans-serif\" font-size=\"14\" font-weight=\"bold\" lengthAdjust=\"spacingAndGlyphs\" textLength=\"29\" x=\"60\" y=\"180.4951\">P2a</text><!--MD5=[a717450b82c80b9240a525fa862496af]\n",
       "link E6 to E3--><path d=\"M101.62,107 C113.62,107 129.45,107 144.76,107 \" fill=\"none\" id=\"E6-&gt;E3\" style=\"stroke: #383838; stroke-width: 1.0;\"/><polygon fill=\"#FFFFFF\" points=\"164.91,107,145.91,114,145.91,100,164.91,107\" style=\"stroke: #383838; stroke-width: 1.0;\"/><ellipse cx=\"140.21\" cy=\"112\" fill=\"#383838\" rx=\"2\" ry=\"2\" style=\"stroke: #383838; stroke-width: 1.0;\"/><ellipse cx=\"140.21\" cy=\"102\" fill=\"#383838\" rx=\"2\" ry=\"2\" style=\"stroke: #383838; stroke-width: 1.0;\"/><!--MD5=[abbb82ea8401a999289adc04d7e24666]\n",
       "@startuml\r\n",
       "left to right direction\r\n",
       "skinparam monochrome true\r\n",
       "skinparam classbackgroundcolor white\r\n",
       "skinparam shadowing false\r\n",
       "skinparam wrapWidth 300\r\n",
       "hide circle\r\n",
       "\r\n",
       "package \"QualifiedNameImportTest\" as E1   {\r\n",
       "package \"P1\" as E2   {\r\n",
       "comp def \"A\" as E3  <<(T,blue)part def>> {\r\n",
       "}\r\n",
       "}\r\n",
       "package \"P2\" as E4   {\r\n",
       "package \"P2a\" as E5   {\r\n",
       "}\r\n",
       "comp usage \"x: A\" as E6  <<(T,blue)part>> {\r\n",
       "}\r\n",
       "E6 - -:|> E3\r\n",
       "}\r\n",
       "}\r\n",
       "@enduml\r\n",
       "\n",
       "PlantUML version 1.2020.13(Sat Jun 13 12:26:38 UTC 2020)\n",
       "(EPL source distribution)\n",
       "Java Runtime: OpenJDK Runtime Environment\n",
       "JVM: OpenJDK 64-Bit Server VM\n",
       "Default Encoding: UTF-8\n",
       "Language: en\n",
       "Country: null\n",
       "--></g></svg>"
      ]
     },
     "execution_count": 17,
     "metadata": {},
     "output_type": "execute_result"
    }
   ],
   "source": [
    "%viz --style=\"LR\" --view=\"Tree\" \"QualifiedNameImportTest\""
   ]
  },
  {
   "cell_type": "code",
   "execution_count": 18,
   "id": "union-albany",
   "metadata": {
    "execution": {
     "iopub.execute_input": "2021-03-26T09:43:31.218289Z",
     "iopub.status.busy": "2021-03-26T09:43:31.217810Z",
     "iopub.status.idle": "2021-03-26T09:43:31.219595Z",
     "shell.execute_reply": "2021-03-26T09:43:31.220037Z"
    }
   },
   "outputs": [
    {
     "data": {
      "text/plain": [
       "java.lang.IllegalArgumentException: Invalid View: State View candidates are: Default Tree StateMachine Interconnection Activity Sequence MIXED \n",
       "\tat org.omg.sysml.plantuml.SysML2PlantUMLSvc.setView(SysML2PlantUMLSvc.java:63)\n",
       "\tat org.omg.sysml.interactive.SysMLInteractive.viz(SysMLInteractive.java:286)\n",
       "\tat org.omg.sysml.jupyter.kernel.magic.Viz.viz(Viz.java:47)\n",
       "\tat jdk.internal.reflect.GeneratedMethodAccessor7.invoke(Unknown Source)\n",
       "\tat java.base/jdk.internal.reflect.DelegatingMethodAccessorImpl.invoke(DelegatingMethodAccessorImpl.java:43)\n",
       "\tat java.base/java.lang.reflect.Method.invoke(Method.java:568)\n",
       "\tat io.github.spencerpark.jupyter.kernel.magic.registry.Magics.invoke(Magics.java:89)\n",
       "\tat io.github.spencerpark.jupyter.kernel.magic.registry.Magics.access$000(Magics.java:8)\n",
       "\tat io.github.spencerpark.jupyter.kernel.magic.registry.Magics$LineReflectionMagicFunction.execute(Magics.java:149)\n",
       "\tat io.github.spencerpark.jupyter.kernel.magic.registry.Magics.applyLineMagic(Magics.java:26)\n",
       "\tat org.omg.sysml.jupyter.kernel.SysMLKernel.eval(SysMLKernel.java:76)\n",
       "\tat io.github.spencerpark.jupyter.kernel.BaseKernel.handleExecuteRequest(BaseKernel.java:334)\n",
       "\tat io.github.spencerpark.jupyter.channels.ShellChannel.lambda$bind$0(ShellChannel.java:64)\n",
       "\tat io.github.spencerpark.jupyter.channels.Loop.lambda$new$0(Loop.java:21)\n",
       "\tat io.github.spencerpark.jupyter.channels.Loop.run(Loop.java:78)\n"
      ]
     },
     "execution_count": 18,
     "metadata": {},
     "output_type": "execute_result"
    }
   ],
   "source": [
    "%viz --style=\"LR\" --view=\"State\" \"QualifiedNameImportTest\""
   ]
  },
  {
   "cell_type": "code",
   "execution_count": 19,
   "id": "consecutive-fever",
   "metadata": {
    "execution": {
     "iopub.execute_input": "2021-03-26T09:43:31.273447Z",
     "iopub.status.busy": "2021-03-26T09:43:31.272746Z",
     "iopub.status.idle": "2021-03-26T09:43:31.307518Z",
     "shell.execute_reply": "2021-03-26T09:43:31.307209Z"
    }
   },
   "outputs": [
    {
     "data": {
      "image/svg+xml": [
       "<?xml version=\"1.0\" encoding=\"UTF-8\" standalone=\"no\"?><svg xmlns=\"http://www.w3.org/2000/svg\" xmlns:xlink=\"http://www.w3.org/1999/xlink\" contentScriptType=\"application/ecmascript\" contentStyleType=\"text/css\" height=\"404px\" preserveAspectRatio=\"none\" style=\"width:253px;height:404px;\" version=\"1.1\" viewBox=\"0 0 253 404\" width=\"253px\" zoomAndPan=\"magnify\"><defs/><g><!--MD5=[fbc87193dbaf4d95561dea2c320d4a47]\n",
       "cluster E1--><polygon fill=\"#FFFFFF\" points=\"16,6,221,6,228,28.2969,231,28.2969,231,392,16,392,16,6\" style=\"stroke: #000000; stroke-width: 1.5;\"/><line style=\"stroke: #000000; stroke-width: 1.5;\" x1=\"16\" x2=\"228\" y1=\"28.2969\" y2=\"28.2969\"/><text fill=\"#000000\" font-family=\"sans-serif\" font-size=\"14\" font-weight=\"bold\" lengthAdjust=\"spacingAndGlyphs\" textLength=\"199\" x=\"20\" y=\"20.9951\">QualifiedNameImportTest</text><!--MD5=[e4f7fae6ed58524ba242bb0b0d3be6b7]\n",
       "cluster E2--><polygon fill=\"#FFFFFF\" points=\"62,49,88,49,95,71.2969,185,71.2969,185,154,62,154,62,49\" style=\"stroke: #000000; stroke-width: 1.5;\"/><line style=\"stroke: #000000; stroke-width: 1.5;\" x1=\"62\" x2=\"95\" y1=\"71.2969\" y2=\"71.2969\"/><text fill=\"#000000\" font-family=\"sans-serif\" font-size=\"14\" font-weight=\"bold\" lengthAdjust=\"spacingAndGlyphs\" textLength=\"20\" x=\"66\" y=\"63.9951\">P1</text><!--MD5=[f6df4d0ebaf0b5dfb2ced0ae5af7c670]\n",
       "cluster E4--><polygon fill=\"#FFFFFF\" points=\"82.5,178,108.5,178,115.5,200.2969,164.5,200.2969,164.5,368,82.5,368,82.5,178\" style=\"stroke: #000000; stroke-width: 1.5;\"/><line style=\"stroke: #000000; stroke-width: 1.5;\" x1=\"82.5\" x2=\"115.5\" y1=\"200.2969\" y2=\"200.2969\"/><text fill=\"#000000\" font-family=\"sans-serif\" font-size=\"14\" font-weight=\"bold\" lengthAdjust=\"spacingAndGlyphs\" textLength=\"20\" x=\"86.5\" y=\"192.9951\">P2</text><!--MD5=[a60fb756f580feb9fd8e2cf1329b5c91]\n",
       "entity E3--><rect fill=\"#FFFFFF\" height=\"52.5938\" style=\"stroke: #000000; stroke-width: 1.5;\" width=\"91\" x=\"78\" y=\"84.5\"/><text fill=\"#000000\" font-family=\"sans-serif\" font-size=\"14\" font-style=\"italic\" lengthAdjust=\"spacingAndGlyphs\" textLength=\"71\" x=\"88\" y=\"107.4951\">«part def»</text><text fill=\"#000000\" font-family=\"sans-serif\" font-size=\"14\" lengthAdjust=\"spacingAndGlyphs\" textLength=\"9\" x=\"119\" y=\"123.792\">A</text><polygon fill=\"#FFFFFF\" points=\"99,213.5,134,213.5,141,235.7969,148,235.7969,148,266.0938,99,266.0938,99,213.5\" style=\"stroke: #000000; stroke-width: 1.5;\"/><line style=\"stroke: #000000; stroke-width: 1.5;\" x1=\"99\" x2=\"141\" y1=\"235.7969\" y2=\"235.7969\"/><text fill=\"#000000\" font-family=\"sans-serif\" font-size=\"14\" font-weight=\"bold\" lengthAdjust=\"spacingAndGlyphs\" textLength=\"29\" x=\"103\" y=\"228.4951\">P2a</text><g id=\"E1.E4.E6\"><rect fill=\"#FFFFFF\" height=\"50\" rx=\"12.5\" ry=\"12.5\" style=\"stroke: #383838; stroke-width: 1.5;\" width=\"50\" x=\"98.5\" y=\"302\"/><line style=\"stroke: #383838; stroke-width: 1.5;\" x1=\"98.5\" x2=\"148.5\" y1=\"328.2969\" y2=\"328.2969\"/><text fill=\"#000000\" font-family=\"sans-serif\" font-size=\"14\" lengthAdjust=\"spacingAndGlyphs\" textLength=\"25\" x=\"111\" y=\"319.9951\">x: A</text></g><!--MD5=[70b70e29bcdaceb3bc916dbff1831ae7]\n",
       "@startuml\r\n",
       "skinparam ranksep 8\r\n",
       "skinparam rectangle {\r\n",
       " backgroundColor<<block>> LightGreen\r\n",
       "}\r\n",
       "left to right direction\r\n",
       "skinparam monochrome true\r\n",
       "skinparam classbackgroundcolor white\r\n",
       "skinparam shadowing false\r\n",
       "skinparam wrapWidth 300\r\n",
       "hide circle\r\n",
       "\r\n",
       "package \"QualifiedNameImportTest\" as E1   {\r\n",
       "package \"P1\" as E2   {\r\n",
       "rec def \"A\" as E3  <<part def>> {\r\n",
       "}\r\n",
       "}\r\n",
       "package \"P2\" as E4   {\r\n",
       "package \"P2a\" as E5   {\r\n",
       "}\r\n",
       "rec usage \"x: A\" as E6  {\r\n",
       "}\r\n",
       "}\r\n",
       "}\r\n",
       "@enduml\r\n",
       "\n",
       "PlantUML version 1.2020.13(Sat Jun 13 12:26:38 UTC 2020)\n",
       "(EPL source distribution)\n",
       "Java Runtime: OpenJDK Runtime Environment\n",
       "JVM: OpenJDK 64-Bit Server VM\n",
       "Default Encoding: UTF-8\n",
       "Language: en\n",
       "Country: null\n",
       "--></g></svg>"
      ]
     },
     "execution_count": 19,
     "metadata": {},
     "output_type": "execute_result"
    }
   ],
   "source": [
    "%viz --style=\"LR\" --view=\"Interconnection\" \"QualifiedNameImportTest\""
   ]
  },
  {
   "cell_type": "code",
   "execution_count": 20,
   "id": "romance-principle",
   "metadata": {
    "execution": {
     "iopub.execute_input": "2021-03-26T09:43:31.360142Z",
     "iopub.status.busy": "2021-03-26T09:43:31.359060Z",
     "iopub.status.idle": "2021-03-26T09:43:31.362041Z",
     "shell.execute_reply": "2021-03-26T09:43:31.362502Z"
    }
   },
   "outputs": [
    {
     "data": {
      "text/plain": [
       "java.lang.IllegalArgumentException: Invalid View: Action View candidates are: Default Tree StateMachine Interconnection Activity Sequence MIXED \n",
       "\tat org.omg.sysml.plantuml.SysML2PlantUMLSvc.setView(SysML2PlantUMLSvc.java:63)\n",
       "\tat org.omg.sysml.interactive.SysMLInteractive.viz(SysMLInteractive.java:286)\n",
       "\tat org.omg.sysml.jupyter.kernel.magic.Viz.viz(Viz.java:47)\n",
       "\tat jdk.internal.reflect.GeneratedMethodAccessor7.invoke(Unknown Source)\n",
       "\tat java.base/jdk.internal.reflect.DelegatingMethodAccessorImpl.invoke(DelegatingMethodAccessorImpl.java:43)\n",
       "\tat java.base/java.lang.reflect.Method.invoke(Method.java:568)\n",
       "\tat io.github.spencerpark.jupyter.kernel.magic.registry.Magics.invoke(Magics.java:89)\n",
       "\tat io.github.spencerpark.jupyter.kernel.magic.registry.Magics.access$000(Magics.java:8)\n",
       "\tat io.github.spencerpark.jupyter.kernel.magic.registry.Magics$LineReflectionMagicFunction.execute(Magics.java:149)\n",
       "\tat io.github.spencerpark.jupyter.kernel.magic.registry.Magics.applyLineMagic(Magics.java:26)\n",
       "\tat org.omg.sysml.jupyter.kernel.SysMLKernel.eval(SysMLKernel.java:76)\n",
       "\tat io.github.spencerpark.jupyter.kernel.BaseKernel.handleExecuteRequest(BaseKernel.java:334)\n",
       "\tat io.github.spencerpark.jupyter.channels.ShellChannel.lambda$bind$0(ShellChannel.java:64)\n",
       "\tat io.github.spencerpark.jupyter.channels.Loop.lambda$new$0(Loop.java:21)\n",
       "\tat io.github.spencerpark.jupyter.channels.Loop.run(Loop.java:78)\n"
      ]
     },
     "execution_count": 20,
     "metadata": {},
     "output_type": "execute_result"
    }
   ],
   "source": [
    "%viz --style=\"LR\" --view=\"Action\" \"QualifiedNameImportTest\""
   ]
  },
  {
   "cell_type": "code",
   "execution_count": 21,
   "id": "wanted-subject",
   "metadata": {
    "execution": {
     "iopub.execute_input": "2021-03-26T09:43:31.415365Z",
     "iopub.status.busy": "2021-03-26T09:43:31.414713Z",
     "iopub.status.idle": "2021-03-26T09:43:31.445878Z",
     "shell.execute_reply": "2021-03-26T09:43:31.444858Z"
    }
   },
   "outputs": [
    {
     "data": {
      "image/svg+xml": [
       "<?xml version=\"1.0\" encoding=\"UTF-8\" standalone=\"no\"?><svg xmlns=\"http://www.w3.org/2000/svg\" xmlns:xlink=\"http://www.w3.org/1999/xlink\" contentScriptType=\"application/ecmascript\" contentStyleType=\"text/css\" height=\"271px\" preserveAspectRatio=\"none\" style=\"width:293px;height:271px;\" version=\"1.1\" viewBox=\"0 0 293 271\" width=\"293px\" zoomAndPan=\"magnify\"><defs/><g><!--MD5=[fbc87193dbaf4d95561dea2c320d4a47]\n",
       "cluster E1--><polygon fill=\"#FFFFFF\" points=\"16,6,221,6,228,28.2969,271,28.2969,271,259,16,259,16,6\" style=\"stroke: #000000; stroke-width: 1.5;\"/><line style=\"stroke: #000000; stroke-width: 1.5;\" x1=\"16\" x2=\"228\" y1=\"28.2969\" y2=\"28.2969\"/><text fill=\"#000000\" font-family=\"sans-serif\" font-size=\"14\" font-weight=\"bold\" lengthAdjust=\"spacingAndGlyphs\" textLength=\"199\" x=\"20\" y=\"20.9951\">QualifiedNameImportTest</text><!--MD5=[e4f7fae6ed58524ba242bb0b0d3be6b7]\n",
       "cluster E2--><polygon fill=\"#FFFFFF\" points=\"149,49,175,49,182,71.2969,247,71.2969,247,146,149,146,149,49\" style=\"stroke: #000000; stroke-width: 1.5;\"/><line style=\"stroke: #000000; stroke-width: 1.5;\" x1=\"149\" x2=\"182\" y1=\"71.2969\" y2=\"71.2969\"/><text fill=\"#000000\" font-family=\"sans-serif\" font-size=\"14\" font-weight=\"bold\" lengthAdjust=\"spacingAndGlyphs\" textLength=\"20\" x=\"153\" y=\"63.9951\">P1</text><!--MD5=[f6df4d0ebaf0b5dfb2ced0ae5af7c670]\n",
       "cluster E4--><polygon fill=\"#FFFFFF\" points=\"40,49,66,49,73,71.2969,121,71.2969,121,235,40,235,40,49\" style=\"stroke: #000000; stroke-width: 1.5;\"/><line style=\"stroke: #000000; stroke-width: 1.5;\" x1=\"40\" x2=\"73\" y1=\"71.2969\" y2=\"71.2969\"/><text fill=\"#000000\" font-family=\"sans-serif\" font-size=\"14\" font-weight=\"bold\" lengthAdjust=\"spacingAndGlyphs\" textLength=\"20\" x=\"44\" y=\"63.9951\">P2</text><!--MD5=[09b614a08d8cba4a07c9adeb5e0fee81]\n",
       "class E3--><rect fill=\"#FFFFFF\" height=\"45.9375\" id=\"E3\" style=\"stroke: #383838; stroke-width: 1.5;\" width=\"66\" x=\"165\" y=\"84\"/><text fill=\"#000000\" font-family=\"sans-serif\" font-size=\"12\" font-style=\"italic\" lengthAdjust=\"spacingAndGlyphs\" textLength=\"64\" x=\"166\" y=\"100.1387\">«part def»</text><text fill=\"#000000\" font-family=\"sans-serif\" font-size=\"12\" lengthAdjust=\"spacingAndGlyphs\" textLength=\"8\" x=\"194\" y=\"114.1074\">A</text><line style=\"stroke: #383838; stroke-width: 1.5;\" x1=\"166\" x2=\"230\" y1=\"121.9375\" y2=\"121.9375\"/><!--MD5=[60a26617385b1d2d0262a64233df1f8d]\n",
       "class E6--><rect fill=\"#FFFFFF\" height=\"45.9375\" id=\"E6\" rx=\"10\" ry=\"10\" style=\"stroke: #383838; stroke-width: 1.5;\" width=\"42\" x=\"59.5\" y=\"84\"/><text fill=\"#000000\" font-family=\"sans-serif\" font-size=\"12\" font-style=\"italic\" lengthAdjust=\"spacingAndGlyphs\" textLength=\"40\" x=\"60.5\" y=\"100.1387\">«part»</text><text fill=\"#000000\" font-family=\"sans-serif\" font-size=\"12\" lengthAdjust=\"spacingAndGlyphs\" textLength=\"22\" x=\"69.5\" y=\"114.1074\">x: A</text><line style=\"stroke: #383838; stroke-width: 1.5;\" x1=\"60.5\" x2=\"100.5\" y1=\"121.9375\" y2=\"121.9375\"/><polygon fill=\"#FFFFFF\" points=\"56,165.5,91,165.5,98,187.7969,105,187.7969,105,218.0938,56,218.0938,56,165.5\" style=\"stroke: #000000; stroke-width: 1.5;\"/><line style=\"stroke: #000000; stroke-width: 1.5;\" x1=\"56\" x2=\"98\" y1=\"187.7969\" y2=\"187.7969\"/><text fill=\"#000000\" font-family=\"sans-serif\" font-size=\"14\" font-weight=\"bold\" lengthAdjust=\"spacingAndGlyphs\" textLength=\"29\" x=\"60\" y=\"180.4951\">P2a</text><!--MD5=[a717450b82c80b9240a525fa862496af]\n",
       "link E6 to E3--><path d=\"M101.62,107 C113.62,107 129.45,107 144.76,107 \" fill=\"none\" id=\"E6-&gt;E3\" style=\"stroke: #383838; stroke-width: 1.0;\"/><polygon fill=\"#FFFFFF\" points=\"164.91,107,145.91,114,145.91,100,164.91,107\" style=\"stroke: #383838; stroke-width: 1.0;\"/><ellipse cx=\"140.21\" cy=\"112\" fill=\"#383838\" rx=\"2\" ry=\"2\" style=\"stroke: #383838; stroke-width: 1.0;\"/><ellipse cx=\"140.21\" cy=\"102\" fill=\"#383838\" rx=\"2\" ry=\"2\" style=\"stroke: #383838; stroke-width: 1.0;\"/><!--MD5=[abbb82ea8401a999289adc04d7e24666]\n",
       "@startuml\r\n",
       "left to right direction\r\n",
       "skinparam monochrome true\r\n",
       "skinparam classbackgroundcolor white\r\n",
       "skinparam shadowing false\r\n",
       "skinparam wrapWidth 300\r\n",
       "hide circle\r\n",
       "\r\n",
       "package \"QualifiedNameImportTest\" as E1   {\r\n",
       "package \"P1\" as E2   {\r\n",
       "comp def \"A\" as E3  <<(T,blue)part def>> {\r\n",
       "}\r\n",
       "}\r\n",
       "package \"P2\" as E4   {\r\n",
       "package \"P2a\" as E5   {\r\n",
       "}\r\n",
       "comp usage \"x: A\" as E6  <<(T,blue)part>> {\r\n",
       "}\r\n",
       "E6 - -:|> E3\r\n",
       "}\r\n",
       "}\r\n",
       "@enduml\r\n",
       "\n",
       "PlantUML version 1.2020.13(Sat Jun 13 12:26:38 UTC 2020)\n",
       "(EPL source distribution)\n",
       "Java Runtime: OpenJDK Runtime Environment\n",
       "JVM: OpenJDK 64-Bit Server VM\n",
       "Default Encoding: UTF-8\n",
       "Language: en\n",
       "Country: null\n",
       "--></g></svg>"
      ]
     },
     "execution_count": 21,
     "metadata": {},
     "output_type": "execute_result"
    }
   ],
   "source": [
    "%viz --style=\"LR\" --view=\"Sequence\" \"QualifiedNameImportTest\""
   ]
  },
  {
   "cell_type": "code",
   "execution_count": 22,
   "id": "split-camping",
   "metadata": {
    "execution": {
     "iopub.execute_input": "2021-03-26T09:43:31.497786Z",
     "iopub.status.busy": "2021-03-26T09:43:31.497232Z",
     "iopub.status.idle": "2021-03-26T09:43:31.526603Z",
     "shell.execute_reply": "2021-03-26T09:43:31.526231Z"
    }
   },
   "outputs": [
    {
     "data": {
      "image/svg+xml": [
       "<?xml version=\"1.0\" encoding=\"UTF-8\" standalone=\"no\"?><svg xmlns=\"http://www.w3.org/2000/svg\" xmlns:xlink=\"http://www.w3.org/1999/xlink\" contentScriptType=\"application/ecmascript\" contentStyleType=\"text/css\" height=\"271px\" preserveAspectRatio=\"none\" style=\"width:293px;height:271px;\" version=\"1.1\" viewBox=\"0 0 293 271\" width=\"293px\" zoomAndPan=\"magnify\"><defs/><g><!--MD5=[fbc87193dbaf4d95561dea2c320d4a47]\n",
       "cluster E1--><polygon fill=\"#FFFFFF\" points=\"16,6,221,6,228,28.2969,271,28.2969,271,259,16,259,16,6\" style=\"stroke: #000000; stroke-width: 1.5;\"/><line style=\"stroke: #000000; stroke-width: 1.5;\" x1=\"16\" x2=\"228\" y1=\"28.2969\" y2=\"28.2969\"/><text fill=\"#000000\" font-family=\"sans-serif\" font-size=\"14\" font-weight=\"bold\" lengthAdjust=\"spacingAndGlyphs\" textLength=\"199\" x=\"20\" y=\"20.9951\">QualifiedNameImportTest</text><!--MD5=[e4f7fae6ed58524ba242bb0b0d3be6b7]\n",
       "cluster E2--><polygon fill=\"#FFFFFF\" points=\"149,49,175,49,182,71.2969,247,71.2969,247,146,149,146,149,49\" style=\"stroke: #000000; stroke-width: 1.5;\"/><line style=\"stroke: #000000; stroke-width: 1.5;\" x1=\"149\" x2=\"182\" y1=\"71.2969\" y2=\"71.2969\"/><text fill=\"#000000\" font-family=\"sans-serif\" font-size=\"14\" font-weight=\"bold\" lengthAdjust=\"spacingAndGlyphs\" textLength=\"20\" x=\"153\" y=\"63.9951\">P1</text><!--MD5=[f6df4d0ebaf0b5dfb2ced0ae5af7c670]\n",
       "cluster E4--><polygon fill=\"#FFFFFF\" points=\"40,49,66,49,73,71.2969,121,71.2969,121,235,40,235,40,49\" style=\"stroke: #000000; stroke-width: 1.5;\"/><line style=\"stroke: #000000; stroke-width: 1.5;\" x1=\"40\" x2=\"73\" y1=\"71.2969\" y2=\"71.2969\"/><text fill=\"#000000\" font-family=\"sans-serif\" font-size=\"14\" font-weight=\"bold\" lengthAdjust=\"spacingAndGlyphs\" textLength=\"20\" x=\"44\" y=\"63.9951\">P2</text><!--MD5=[09b614a08d8cba4a07c9adeb5e0fee81]\n",
       "class E3--><rect fill=\"#FFFFFF\" height=\"45.9375\" id=\"E3\" style=\"stroke: #383838; stroke-width: 1.5;\" width=\"66\" x=\"165\" y=\"84\"/><text fill=\"#000000\" font-family=\"sans-serif\" font-size=\"12\" font-style=\"italic\" lengthAdjust=\"spacingAndGlyphs\" textLength=\"64\" x=\"166\" y=\"100.1387\">«part def»</text><text fill=\"#000000\" font-family=\"sans-serif\" font-size=\"12\" lengthAdjust=\"spacingAndGlyphs\" textLength=\"8\" x=\"194\" y=\"114.1074\">A</text><line style=\"stroke: #383838; stroke-width: 1.5;\" x1=\"166\" x2=\"230\" y1=\"121.9375\" y2=\"121.9375\"/><!--MD5=[60a26617385b1d2d0262a64233df1f8d]\n",
       "class E6--><rect fill=\"#FFFFFF\" height=\"45.9375\" id=\"E6\" rx=\"10\" ry=\"10\" style=\"stroke: #383838; stroke-width: 1.5;\" width=\"42\" x=\"59.5\" y=\"84\"/><text fill=\"#000000\" font-family=\"sans-serif\" font-size=\"12\" font-style=\"italic\" lengthAdjust=\"spacingAndGlyphs\" textLength=\"40\" x=\"60.5\" y=\"100.1387\">«part»</text><text fill=\"#000000\" font-family=\"sans-serif\" font-size=\"12\" lengthAdjust=\"spacingAndGlyphs\" textLength=\"22\" x=\"69.5\" y=\"114.1074\">x: A</text><line style=\"stroke: #383838; stroke-width: 1.5;\" x1=\"60.5\" x2=\"100.5\" y1=\"121.9375\" y2=\"121.9375\"/><polygon fill=\"#FFFFFF\" points=\"56,165.5,91,165.5,98,187.7969,105,187.7969,105,218.0938,56,218.0938,56,165.5\" style=\"stroke: #000000; stroke-width: 1.5;\"/><line style=\"stroke: #000000; stroke-width: 1.5;\" x1=\"56\" x2=\"98\" y1=\"187.7969\" y2=\"187.7969\"/><text fill=\"#000000\" font-family=\"sans-serif\" font-size=\"14\" font-weight=\"bold\" lengthAdjust=\"spacingAndGlyphs\" textLength=\"29\" x=\"60\" y=\"180.4951\">P2a</text><!--MD5=[a717450b82c80b9240a525fa862496af]\n",
       "link E6 to E3--><path d=\"M101.62,107 C113.62,107 129.45,107 144.76,107 \" fill=\"none\" id=\"E6-&gt;E3\" style=\"stroke: #383838; stroke-width: 1.0;\"/><polygon fill=\"#FFFFFF\" points=\"164.91,107,145.91,114,145.91,100,164.91,107\" style=\"stroke: #383838; stroke-width: 1.0;\"/><ellipse cx=\"140.21\" cy=\"112\" fill=\"#383838\" rx=\"2\" ry=\"2\" style=\"stroke: #383838; stroke-width: 1.0;\"/><ellipse cx=\"140.21\" cy=\"102\" fill=\"#383838\" rx=\"2\" ry=\"2\" style=\"stroke: #383838; stroke-width: 1.0;\"/><!--MD5=[abbb82ea8401a999289adc04d7e24666]\n",
       "@startuml\r\n",
       "left to right direction\r\n",
       "skinparam monochrome true\r\n",
       "skinparam classbackgroundcolor white\r\n",
       "skinparam shadowing false\r\n",
       "skinparam wrapWidth 300\r\n",
       "hide circle\r\n",
       "\r\n",
       "package \"QualifiedNameImportTest\" as E1   {\r\n",
       "package \"P1\" as E2   {\r\n",
       "comp def \"A\" as E3  <<(T,blue)part def>> {\r\n",
       "}\r\n",
       "}\r\n",
       "package \"P2\" as E4   {\r\n",
       "package \"P2a\" as E5   {\r\n",
       "}\r\n",
       "comp usage \"x: A\" as E6  <<(T,blue)part>> {\r\n",
       "}\r\n",
       "E6 - -:|> E3\r\n",
       "}\r\n",
       "}\r\n",
       "@enduml\r\n",
       "\n",
       "PlantUML version 1.2020.13(Sat Jun 13 12:26:38 UTC 2020)\n",
       "(EPL source distribution)\n",
       "Java Runtime: OpenJDK Runtime Environment\n",
       "JVM: OpenJDK 64-Bit Server VM\n",
       "Default Encoding: UTF-8\n",
       "Language: en\n",
       "Country: null\n",
       "--></g></svg>"
      ]
     },
     "execution_count": 22,
     "metadata": {},
     "output_type": "execute_result"
    }
   ],
   "source": [
    "%viz --style=\"LR\" --view=\"MIXED\" \"QualifiedNameImportTest\""
   ]
  },
  {
   "cell_type": "code",
   "execution_count": 23,
   "id": "double-range",
   "metadata": {
    "execution": {
     "iopub.execute_input": "2021-03-26T09:43:31.579207Z",
     "iopub.status.busy": "2021-03-26T09:43:31.578644Z",
     "iopub.status.idle": "2021-03-26T09:43:31.610662Z",
     "shell.execute_reply": "2021-03-26T09:43:31.611112Z"
    }
   },
   "outputs": [
    {
     "data": {
      "image/svg+xml": [
       "<?xml version=\"1.0\" encoding=\"UTF-8\" standalone=\"no\"?><svg xmlns=\"http://www.w3.org/2000/svg\" xmlns:xlink=\"http://www.w3.org/1999/xlink\" contentScriptType=\"application/ecmascript\" contentStyleType=\"text/css\" height=\"310px\" preserveAspectRatio=\"none\" style=\"width:253px;height:310px;\" version=\"1.1\" viewBox=\"0 0 253 310\" width=\"253px\" zoomAndPan=\"magnify\"><defs><filter height=\"300%\" id=\"f5ymj8vtxzrfc\" width=\"300%\" x=\"-1\" y=\"-1\"><feGaussianBlur result=\"blurOut\" stdDeviation=\"2.0\"/><feColorMatrix in=\"blurOut\" result=\"blurOut2\" type=\"matrix\" values=\"0 0 0 0 0 0 0 0 0 0 0 0 0 0 0 0 0 0 .4 0\"/><feOffset dx=\"4.0\" dy=\"4.0\" in=\"blurOut2\" result=\"blurOut3\"/><feBlend in=\"SourceGraphic\" in2=\"blurOut3\" mode=\"normal\"/></filter></defs><g><!--MD5=[fbc87193dbaf4d95561dea2c320d4a47]\n",
       "cluster E1--><polygon fill=\"#FFFFFF\" filter=\"url(#f5ymj8vtxzrfc)\" points=\"16,6,221,6,228,28.2969,231,28.2969,231,298,16,298,16,6\" style=\"stroke: #000000; stroke-width: 1.5;\"/><line style=\"stroke: #000000; stroke-width: 1.5;\" x1=\"16\" x2=\"228\" y1=\"28.2969\" y2=\"28.2969\"/><text fill=\"#000000\" font-family=\"sans-serif\" font-size=\"14\" font-weight=\"bold\" lengthAdjust=\"spacingAndGlyphs\" textLength=\"199\" x=\"20\" y=\"20.9951\">QualifiedNameImportTest</text><!--MD5=[e4f7fae6ed58524ba242bb0b0d3be6b7]\n",
       "cluster E2--><polygon fill=\"#FFFFFF\" filter=\"url(#f5ymj8vtxzrfc)\" points=\"105,177,131,177,138,199.2969,203,199.2969,203,274,105,274,105,177\" style=\"stroke: #000000; stroke-width: 1.5;\"/><line style=\"stroke: #000000; stroke-width: 1.5;\" x1=\"105\" x2=\"138\" y1=\"199.2969\" y2=\"199.2969\"/><text fill=\"#000000\" font-family=\"sans-serif\" font-size=\"14\" font-weight=\"bold\" lengthAdjust=\"spacingAndGlyphs\" textLength=\"20\" x=\"109\" y=\"191.9951\">P1</text><!--MD5=[f6df4d0ebaf0b5dfb2ced0ae5af7c670]\n",
       "cluster E4--><polygon fill=\"#FFFFFF\" filter=\"url(#f5ymj8vtxzrfc)\" points=\"44,49,70,49,77,71.2969,203,71.2969,203,153,44,153,44,49\" style=\"stroke: #000000; stroke-width: 1.5;\"/><line style=\"stroke: #000000; stroke-width: 1.5;\" x1=\"44\" x2=\"77\" y1=\"71.2969\" y2=\"71.2969\"/><text fill=\"#000000\" font-family=\"sans-serif\" font-size=\"14\" font-weight=\"bold\" lengthAdjust=\"spacingAndGlyphs\" textLength=\"20\" x=\"48\" y=\"63.9951\">P2</text><!--MD5=[09b614a08d8cba4a07c9adeb5e0fee81]\n",
       "class E3--><rect fill=\"#FEFECE\" filter=\"url(#f5ymj8vtxzrfc)\" height=\"45.9375\" id=\"E3\" style=\"stroke: #A80036; stroke-width: 1.5;\" width=\"66\" x=\"121\" y=\"212\"/><text fill=\"#000000\" font-family=\"sans-serif\" font-size=\"12\" font-style=\"italic\" lengthAdjust=\"spacingAndGlyphs\" textLength=\"64\" x=\"122\" y=\"228.1387\">«part def»</text><text fill=\"#000000\" font-family=\"sans-serif\" font-size=\"12\" lengthAdjust=\"spacingAndGlyphs\" textLength=\"8\" x=\"150\" y=\"242.1074\">A</text><line style=\"stroke: #A80036; stroke-width: 1.5;\" x1=\"122\" x2=\"186\" y1=\"249.9375\" y2=\"249.9375\"/><!--MD5=[60a26617385b1d2d0262a64233df1f8d]\n",
       "class E6--><rect fill=\"#FEFECE\" filter=\"url(#f5ymj8vtxzrfc)\" height=\"45.9375\" id=\"E6\" rx=\"10\" ry=\"10\" style=\"stroke: #A80036; stroke-width: 1.5;\" width=\"42\" x=\"145\" y=\"87.5\"/><text fill=\"#000000\" font-family=\"sans-serif\" font-size=\"12\" font-style=\"italic\" lengthAdjust=\"spacingAndGlyphs\" textLength=\"40\" x=\"146\" y=\"103.6387\">«part»</text><text fill=\"#000000\" font-family=\"sans-serif\" font-size=\"12\" lengthAdjust=\"spacingAndGlyphs\" textLength=\"22\" x=\"155\" y=\"117.6074\">x: A</text><line style=\"stroke: #A80036; stroke-width: 1.5;\" x1=\"146\" x2=\"186\" y1=\"125.4375\" y2=\"125.4375\"/><polygon fill=\"#FFFFFF\" filter=\"url(#f5ymj8vtxzrfc)\" points=\"60.5,84,95.5,84,102.5,106.2969,109.5,106.2969,109.5,136.5938,60.5,136.5938,60.5,84\" style=\"stroke: #000000; stroke-width: 1.5;\"/><line style=\"stroke: #000000; stroke-width: 1.5;\" x1=\"60.5\" x2=\"102.5\" y1=\"106.2969\" y2=\"106.2969\"/><text fill=\"#000000\" font-family=\"sans-serif\" font-size=\"14\" font-weight=\"bold\" lengthAdjust=\"spacingAndGlyphs\" textLength=\"29\" x=\"64.5\" y=\"98.9951\">P2a</text><!--MD5=[a717450b82c80b9240a525fa862496af]\n",
       "link E6 to E3--><path d=\"M163.83,133.68 C162.24,149.9 160.04,172.39 158.12,191.96 \" fill=\"none\" id=\"E6-&gt;E3\" style=\"stroke: #A80036; stroke-width: 1.0;\"/><polygon fill=\"#FFFFFF\" points=\"156.16,211.98,151.0533,192.3861,164.986,193.7564,156.16,211.98\" style=\"stroke: #A80036; stroke-width: 1.0;\"/><ellipse cx=\"153.6016\" cy=\"186.9092\" fill=\"#A80036\" rx=\"2\" ry=\"2\" style=\"stroke: #A80036; stroke-width: 1.0;\"/><ellipse cx=\"163.5535\" cy=\"187.888\" fill=\"#A80036\" rx=\"2\" ry=\"2\" style=\"stroke: #A80036; stroke-width: 1.0;\"/><!--MD5=[ac6510a185ad5bce21af06078946ccb8]\n",
       "@startuml\r\n",
       "skinparam wrapWidth 300\r\n",
       "hide circle\r\n",
       "\r\n",
       "package \"QualifiedNameImportTest\" as E1   {\r\n",
       "package \"P1\" as E2   {\r\n",
       "comp def \"A\" as E3  <<(T,blue)part def>> {\r\n",
       "}\r\n",
       "}\r\n",
       "package \"P2\" as E4   {\r\n",
       "package \"P2a\" as E5   {\r\n",
       "}\r\n",
       "comp usage \"x: A\" as E6  <<(T,blue)part>> {\r\n",
       "}\r\n",
       "E6 - -:|> E3\r\n",
       "}\r\n",
       "}\r\n",
       "@enduml\r\n",
       "\n",
       "PlantUML version 1.2020.13(Sat Jun 13 12:26:38 UTC 2020)\n",
       "(EPL source distribution)\n",
       "Java Runtime: OpenJDK Runtime Environment\n",
       "JVM: OpenJDK 64-Bit Server VM\n",
       "Default Encoding: UTF-8\n",
       "Language: en\n",
       "Country: null\n",
       "--></g></svg>"
      ]
     },
     "execution_count": 23,
     "metadata": {},
     "output_type": "execute_result"
    }
   ],
   "source": [
    "%viz --style=\"STDCOLOR\" --view=\"Default\" \"QualifiedNameImportTest\""
   ]
  },
  {
   "cell_type": "code",
   "execution_count": 24,
   "id": "genuine-shooting",
   "metadata": {
    "execution": {
     "iopub.execute_input": "2021-03-26T09:43:31.663961Z",
     "iopub.status.busy": "2021-03-26T09:43:31.663017Z",
     "iopub.status.idle": "2021-03-26T09:43:31.693691Z",
     "shell.execute_reply": "2021-03-26T09:43:31.693377Z"
    }
   },
   "outputs": [
    {
     "data": {
      "image/svg+xml": [
       "<?xml version=\"1.0\" encoding=\"UTF-8\" standalone=\"no\"?><svg xmlns=\"http://www.w3.org/2000/svg\" xmlns:xlink=\"http://www.w3.org/1999/xlink\" contentScriptType=\"application/ecmascript\" contentStyleType=\"text/css\" height=\"310px\" preserveAspectRatio=\"none\" style=\"width:253px;height:310px;\" version=\"1.1\" viewBox=\"0 0 253 310\" width=\"253px\" zoomAndPan=\"magnify\"><defs><filter height=\"300%\" id=\"f5ymj8vtxzrfc\" width=\"300%\" x=\"-1\" y=\"-1\"><feGaussianBlur result=\"blurOut\" stdDeviation=\"2.0\"/><feColorMatrix in=\"blurOut\" result=\"blurOut2\" type=\"matrix\" values=\"0 0 0 0 0 0 0 0 0 0 0 0 0 0 0 0 0 0 .4 0\"/><feOffset dx=\"4.0\" dy=\"4.0\" in=\"blurOut2\" result=\"blurOut3\"/><feBlend in=\"SourceGraphic\" in2=\"blurOut3\" mode=\"normal\"/></filter></defs><g><!--MD5=[fbc87193dbaf4d95561dea2c320d4a47]\n",
       "cluster E1--><polygon fill=\"#FFFFFF\" filter=\"url(#f5ymj8vtxzrfc)\" points=\"16,6,221,6,228,28.2969,231,28.2969,231,298,16,298,16,6\" style=\"stroke: #000000; stroke-width: 1.5;\"/><line style=\"stroke: #000000; stroke-width: 1.5;\" x1=\"16\" x2=\"228\" y1=\"28.2969\" y2=\"28.2969\"/><text fill=\"#000000\" font-family=\"sans-serif\" font-size=\"14\" font-weight=\"bold\" lengthAdjust=\"spacingAndGlyphs\" textLength=\"199\" x=\"20\" y=\"20.9951\">QualifiedNameImportTest</text><!--MD5=[e4f7fae6ed58524ba242bb0b0d3be6b7]\n",
       "cluster E2--><polygon fill=\"#FFFFFF\" filter=\"url(#f5ymj8vtxzrfc)\" points=\"105,177,131,177,138,199.2969,203,199.2969,203,274,105,274,105,177\" style=\"stroke: #000000; stroke-width: 1.5;\"/><line style=\"stroke: #000000; stroke-width: 1.5;\" x1=\"105\" x2=\"138\" y1=\"199.2969\" y2=\"199.2969\"/><text fill=\"#000000\" font-family=\"sans-serif\" font-size=\"14\" font-weight=\"bold\" lengthAdjust=\"spacingAndGlyphs\" textLength=\"20\" x=\"109\" y=\"191.9951\">P1</text><!--MD5=[f6df4d0ebaf0b5dfb2ced0ae5af7c670]\n",
       "cluster E4--><polygon fill=\"#FFFFFF\" filter=\"url(#f5ymj8vtxzrfc)\" points=\"44,49,70,49,77,71.2969,203,71.2969,203,153,44,153,44,49\" style=\"stroke: #000000; stroke-width: 1.5;\"/><line style=\"stroke: #000000; stroke-width: 1.5;\" x1=\"44\" x2=\"77\" y1=\"71.2969\" y2=\"71.2969\"/><text fill=\"#000000\" font-family=\"sans-serif\" font-size=\"14\" font-weight=\"bold\" lengthAdjust=\"spacingAndGlyphs\" textLength=\"20\" x=\"48\" y=\"63.9951\">P2</text><!--MD5=[09b614a08d8cba4a07c9adeb5e0fee81]\n",
       "class E3--><rect fill=\"#FEFECE\" filter=\"url(#f5ymj8vtxzrfc)\" height=\"45.9375\" id=\"E3\" style=\"stroke: #A80036; stroke-width: 1.5;\" width=\"66\" x=\"121\" y=\"212\"/><text fill=\"#000000\" font-family=\"sans-serif\" font-size=\"12\" font-style=\"italic\" lengthAdjust=\"spacingAndGlyphs\" textLength=\"64\" x=\"122\" y=\"228.1387\">«part def»</text><text fill=\"#000000\" font-family=\"sans-serif\" font-size=\"12\" lengthAdjust=\"spacingAndGlyphs\" textLength=\"8\" x=\"150\" y=\"242.1074\">A</text><line style=\"stroke: #A80036; stroke-width: 1.5;\" x1=\"122\" x2=\"186\" y1=\"249.9375\" y2=\"249.9375\"/><!--MD5=[60a26617385b1d2d0262a64233df1f8d]\n",
       "class E6--><rect fill=\"#FEFECE\" filter=\"url(#f5ymj8vtxzrfc)\" height=\"45.9375\" id=\"E6\" rx=\"10\" ry=\"10\" style=\"stroke: #A80036; stroke-width: 1.5;\" width=\"42\" x=\"145\" y=\"87.5\"/><text fill=\"#000000\" font-family=\"sans-serif\" font-size=\"12\" font-style=\"italic\" lengthAdjust=\"spacingAndGlyphs\" textLength=\"40\" x=\"146\" y=\"103.6387\">«part»</text><text fill=\"#000000\" font-family=\"sans-serif\" font-size=\"12\" lengthAdjust=\"spacingAndGlyphs\" textLength=\"22\" x=\"155\" y=\"117.6074\">x: A</text><line style=\"stroke: #A80036; stroke-width: 1.5;\" x1=\"146\" x2=\"186\" y1=\"125.4375\" y2=\"125.4375\"/><polygon fill=\"#FFFFFF\" filter=\"url(#f5ymj8vtxzrfc)\" points=\"60.5,84,95.5,84,102.5,106.2969,109.5,106.2969,109.5,136.5938,60.5,136.5938,60.5,84\" style=\"stroke: #000000; stroke-width: 1.5;\"/><line style=\"stroke: #000000; stroke-width: 1.5;\" x1=\"60.5\" x2=\"102.5\" y1=\"106.2969\" y2=\"106.2969\"/><text fill=\"#000000\" font-family=\"sans-serif\" font-size=\"14\" font-weight=\"bold\" lengthAdjust=\"spacingAndGlyphs\" textLength=\"29\" x=\"64.5\" y=\"98.9951\">P2a</text><!--MD5=[a717450b82c80b9240a525fa862496af]\n",
       "link E6 to E3--><path d=\"M163.83,133.68 C162.24,149.9 160.04,172.39 158.12,191.96 \" fill=\"none\" id=\"E6-&gt;E3\" style=\"stroke: #A80036; stroke-width: 1.0;\"/><polygon fill=\"#FFFFFF\" points=\"156.16,211.98,151.0533,192.3861,164.986,193.7564,156.16,211.98\" style=\"stroke: #A80036; stroke-width: 1.0;\"/><ellipse cx=\"153.6016\" cy=\"186.9092\" fill=\"#A80036\" rx=\"2\" ry=\"2\" style=\"stroke: #A80036; stroke-width: 1.0;\"/><ellipse cx=\"163.5535\" cy=\"187.888\" fill=\"#A80036\" rx=\"2\" ry=\"2\" style=\"stroke: #A80036; stroke-width: 1.0;\"/><!--MD5=[ac6510a185ad5bce21af06078946ccb8]\n",
       "@startuml\r\n",
       "skinparam wrapWidth 300\r\n",
       "hide circle\r\n",
       "\r\n",
       "package \"QualifiedNameImportTest\" as E1   {\r\n",
       "package \"P1\" as E2   {\r\n",
       "comp def \"A\" as E3  <<(T,blue)part def>> {\r\n",
       "}\r\n",
       "}\r\n",
       "package \"P2\" as E4   {\r\n",
       "package \"P2a\" as E5   {\r\n",
       "}\r\n",
       "comp usage \"x: A\" as E6  <<(T,blue)part>> {\r\n",
       "}\r\n",
       "E6 - -:|> E3\r\n",
       "}\r\n",
       "}\r\n",
       "@enduml\r\n",
       "\n",
       "PlantUML version 1.2020.13(Sat Jun 13 12:26:38 UTC 2020)\n",
       "(EPL source distribution)\n",
       "Java Runtime: OpenJDK Runtime Environment\n",
       "JVM: OpenJDK 64-Bit Server VM\n",
       "Default Encoding: UTF-8\n",
       "Language: en\n",
       "Country: null\n",
       "--></g></svg>"
      ]
     },
     "execution_count": 24,
     "metadata": {},
     "output_type": "execute_result"
    }
   ],
   "source": [
    "%viz --style=\"STDCOLOR\" --view=\"Tree\" \"QualifiedNameImportTest\""
   ]
  },
  {
   "cell_type": "code",
   "execution_count": 25,
   "id": "tight-trash",
   "metadata": {
    "execution": {
     "iopub.execute_input": "2021-03-26T09:43:31.744241Z",
     "iopub.status.busy": "2021-03-26T09:43:31.743776Z",
     "iopub.status.idle": "2021-03-26T09:43:31.746237Z",
     "shell.execute_reply": "2021-03-26T09:43:31.746569Z"
    }
   },
   "outputs": [
    {
     "data": {
      "text/plain": [
       "java.lang.IllegalArgumentException: Invalid View: State View candidates are: Default Tree StateMachine Interconnection Activity Sequence MIXED \n",
       "\tat org.omg.sysml.plantuml.SysML2PlantUMLSvc.setView(SysML2PlantUMLSvc.java:63)\n",
       "\tat org.omg.sysml.interactive.SysMLInteractive.viz(SysMLInteractive.java:286)\n",
       "\tat org.omg.sysml.jupyter.kernel.magic.Viz.viz(Viz.java:47)\n",
       "\tat jdk.internal.reflect.GeneratedMethodAccessor7.invoke(Unknown Source)\n",
       "\tat java.base/jdk.internal.reflect.DelegatingMethodAccessorImpl.invoke(DelegatingMethodAccessorImpl.java:43)\n",
       "\tat java.base/java.lang.reflect.Method.invoke(Method.java:568)\n",
       "\tat io.github.spencerpark.jupyter.kernel.magic.registry.Magics.invoke(Magics.java:89)\n",
       "\tat io.github.spencerpark.jupyter.kernel.magic.registry.Magics.access$000(Magics.java:8)\n",
       "\tat io.github.spencerpark.jupyter.kernel.magic.registry.Magics$LineReflectionMagicFunction.execute(Magics.java:149)\n",
       "\tat io.github.spencerpark.jupyter.kernel.magic.registry.Magics.applyLineMagic(Magics.java:26)\n",
       "\tat org.omg.sysml.jupyter.kernel.SysMLKernel.eval(SysMLKernel.java:76)\n",
       "\tat io.github.spencerpark.jupyter.kernel.BaseKernel.handleExecuteRequest(BaseKernel.java:334)\n",
       "\tat io.github.spencerpark.jupyter.channels.ShellChannel.lambda$bind$0(ShellChannel.java:64)\n",
       "\tat io.github.spencerpark.jupyter.channels.Loop.lambda$new$0(Loop.java:21)\n",
       "\tat io.github.spencerpark.jupyter.channels.Loop.run(Loop.java:78)\n"
      ]
     },
     "execution_count": 25,
     "metadata": {},
     "output_type": "execute_result"
    }
   ],
   "source": [
    "%viz --style=\"STDCOLOR\" --view=\"State\" \"QualifiedNameImportTest\""
   ]
  },
  {
   "cell_type": "code",
   "execution_count": 26,
   "id": "transsexual-hormone",
   "metadata": {
    "execution": {
     "iopub.execute_input": "2021-03-26T09:43:31.797224Z",
     "iopub.status.busy": "2021-03-26T09:43:31.796861Z",
     "iopub.status.idle": "2021-03-26T09:43:31.826568Z",
     "shell.execute_reply": "2021-03-26T09:43:31.826983Z"
    }
   },
   "outputs": [
    {
     "data": {
      "image/svg+xml": [
       "<?xml version=\"1.0\" encoding=\"UTF-8\" standalone=\"no\"?><svg xmlns=\"http://www.w3.org/2000/svg\" xmlns:xlink=\"http://www.w3.org/1999/xlink\" contentScriptType=\"application/ecmascript\" contentStyleType=\"text/css\" height=\"189px\" preserveAspectRatio=\"none\" style=\"width:401px;height:189px;\" version=\"1.1\" viewBox=\"0 0 401 189\" width=\"401px\" zoomAndPan=\"magnify\"><defs><filter height=\"300%\" id=\"f1tea43t5sqc75\" width=\"300%\" x=\"-1\" y=\"-1\"><feGaussianBlur result=\"blurOut\" stdDeviation=\"2.0\"/><feColorMatrix in=\"blurOut\" result=\"blurOut2\" type=\"matrix\" values=\"0 0 0 0 0 0 0 0 0 0 0 0 0 0 0 0 0 0 .4 0\"/><feOffset dx=\"4.0\" dy=\"4.0\" in=\"blurOut2\" result=\"blurOut3\"/><feBlend in=\"SourceGraphic\" in2=\"blurOut3\" mode=\"normal\"/></filter></defs><g><!--MD5=[fbc87193dbaf4d95561dea2c320d4a47]\n",
       "cluster E1--><polygon fill=\"#FFFFFF\" filter=\"url(#f1tea43t5sqc75)\" points=\"16,6,221,6,228,28.2969,379,28.2969,379,177,16,177,16,6\" style=\"stroke: #000000; stroke-width: 1.5;\"/><line style=\"stroke: #000000; stroke-width: 1.5;\" x1=\"16\" x2=\"228\" y1=\"28.2969\" y2=\"28.2969\"/><text fill=\"#000000\" font-family=\"sans-serif\" font-size=\"14\" font-weight=\"bold\" lengthAdjust=\"spacingAndGlyphs\" textLength=\"199\" x=\"20\" y=\"20.9951\">QualifiedNameImportTest</text><!--MD5=[e4f7fae6ed58524ba242bb0b0d3be6b7]\n",
       "cluster E2--><polygon fill=\"#FFFFFF\" filter=\"url(#f1tea43t5sqc75)\" points=\"231,49,257,49,264,71.2969,355,71.2969,355,153,231,153,231,49\" style=\"stroke: #000000; stroke-width: 1.5;\"/><line style=\"stroke: #000000; stroke-width: 1.5;\" x1=\"231\" x2=\"264\" y1=\"71.2969\" y2=\"71.2969\"/><text fill=\"#000000\" font-family=\"sans-serif\" font-size=\"14\" font-weight=\"bold\" lengthAdjust=\"spacingAndGlyphs\" textLength=\"20\" x=\"235\" y=\"63.9951\">P1</text><!--MD5=[f6df4d0ebaf0b5dfb2ced0ae5af7c670]\n",
       "cluster E4--><polygon fill=\"#FFFFFF\" filter=\"url(#f1tea43t5sqc75)\" points=\"40,49,66,49,73,71.2969,207,71.2969,207,153,40,153,40,49\" style=\"stroke: #000000; stroke-width: 1.5;\"/><line style=\"stroke: #000000; stroke-width: 1.5;\" x1=\"40\" x2=\"73\" y1=\"71.2969\" y2=\"71.2969\"/><text fill=\"#000000\" font-family=\"sans-serif\" font-size=\"14\" font-weight=\"bold\" lengthAdjust=\"spacingAndGlyphs\" textLength=\"20\" x=\"44\" y=\"63.9951\">P2</text><!--MD5=[a60fb756f580feb9fd8e2cf1329b5c91]\n",
       "entity E3--><rect fill=\"#FFFFFF\" filter=\"url(#f1tea43t5sqc75)\" height=\"52.5938\" style=\"stroke: #000000; stroke-width: 1.5;\" width=\"91\" x=\"247.5\" y=\"84\"/><text fill=\"#000000\" font-family=\"sans-serif\" font-size=\"14\" font-style=\"italic\" lengthAdjust=\"spacingAndGlyphs\" textLength=\"71\" x=\"257.5\" y=\"106.9951\">«part def»</text><text fill=\"#000000\" font-family=\"sans-serif\" font-size=\"14\" lengthAdjust=\"spacingAndGlyphs\" textLength=\"9\" x=\"288.5\" y=\"123.292\">A</text><polygon fill=\"#FFFFFF\" filter=\"url(#f1tea43t5sqc75)\" points=\"141.5,84,176.5,84,183.5,106.2969,190.5,106.2969,190.5,136.5938,141.5,136.5938,141.5,84\" style=\"stroke: #000000; stroke-width: 1.5;\"/><line style=\"stroke: #000000; stroke-width: 1.5;\" x1=\"141.5\" x2=\"183.5\" y1=\"106.2969\" y2=\"106.2969\"/><text fill=\"#000000\" font-family=\"sans-serif\" font-size=\"14\" font-weight=\"bold\" lengthAdjust=\"spacingAndGlyphs\" textLength=\"29\" x=\"145.5\" y=\"98.9951\">P2a</text><g id=\"E1.E4.E6\"><rect fill=\"#FFFFFF\" filter=\"url(#f1tea43t5sqc75)\" height=\"50\" rx=\"12.5\" ry=\"12.5\" style=\"stroke: #A80036; stroke-width: 1.5;\" width=\"50\" x=\"56\" y=\"85.5\"/><line style=\"stroke: #A80036; stroke-width: 1.5;\" x1=\"56\" x2=\"106\" y1=\"111.7969\" y2=\"111.7969\"/><text fill=\"#000000\" font-family=\"sans-serif\" font-size=\"14\" lengthAdjust=\"spacingAndGlyphs\" textLength=\"25\" x=\"68.5\" y=\"103.4951\">x: A</text></g><!--MD5=[34834a19861c8746f2f7f7faa1ba5749]\n",
       "@startuml\r\n",
       "skinparam ranksep 8\r\n",
       "skinparam rectangle {\r\n",
       " backgroundColor<<block>> LightGreen\r\n",
       "}\r\n",
       "skinparam wrapWidth 300\r\n",
       "hide circle\r\n",
       "\r\n",
       "package \"QualifiedNameImportTest\" as E1   {\r\n",
       "package \"P1\" as E2   {\r\n",
       "rec def \"A\" as E3  <<part def>> {\r\n",
       "}\r\n",
       "}\r\n",
       "package \"P2\" as E4   {\r\n",
       "package \"P2a\" as E5   {\r\n",
       "}\r\n",
       "rec usage \"x: A\" as E6  {\r\n",
       "}\r\n",
       "}\r\n",
       "}\r\n",
       "@enduml\r\n",
       "\n",
       "PlantUML version 1.2020.13(Sat Jun 13 12:26:38 UTC 2020)\n",
       "(EPL source distribution)\n",
       "Java Runtime: OpenJDK Runtime Environment\n",
       "JVM: OpenJDK 64-Bit Server VM\n",
       "Default Encoding: UTF-8\n",
       "Language: en\n",
       "Country: null\n",
       "--></g></svg>"
      ]
     },
     "execution_count": 26,
     "metadata": {},
     "output_type": "execute_result"
    }
   ],
   "source": [
    "%viz --style=\"STDCOLOR\" --view=\"Interconnection\" \"QualifiedNameImportTest\""
   ]
  },
  {
   "cell_type": "code",
   "execution_count": 27,
   "id": "attractive-therapy",
   "metadata": {
    "execution": {
     "iopub.execute_input": "2021-03-26T09:43:31.877459Z",
     "iopub.status.busy": "2021-03-26T09:43:31.877119Z",
     "iopub.status.idle": "2021-03-26T09:43:31.878559Z",
     "shell.execute_reply": "2021-03-26T09:43:31.878916Z"
    }
   },
   "outputs": [
    {
     "data": {
      "text/plain": [
       "java.lang.IllegalArgumentException: Invalid View: Action View candidates are: Default Tree StateMachine Interconnection Activity Sequence MIXED \n",
       "\tat org.omg.sysml.plantuml.SysML2PlantUMLSvc.setView(SysML2PlantUMLSvc.java:63)\n",
       "\tat org.omg.sysml.interactive.SysMLInteractive.viz(SysMLInteractive.java:286)\n",
       "\tat org.omg.sysml.jupyter.kernel.magic.Viz.viz(Viz.java:47)\n",
       "\tat jdk.internal.reflect.GeneratedMethodAccessor7.invoke(Unknown Source)\n",
       "\tat java.base/jdk.internal.reflect.DelegatingMethodAccessorImpl.invoke(DelegatingMethodAccessorImpl.java:43)\n",
       "\tat java.base/java.lang.reflect.Method.invoke(Method.java:568)\n",
       "\tat io.github.spencerpark.jupyter.kernel.magic.registry.Magics.invoke(Magics.java:89)\n",
       "\tat io.github.spencerpark.jupyter.kernel.magic.registry.Magics.access$000(Magics.java:8)\n",
       "\tat io.github.spencerpark.jupyter.kernel.magic.registry.Magics$LineReflectionMagicFunction.execute(Magics.java:149)\n",
       "\tat io.github.spencerpark.jupyter.kernel.magic.registry.Magics.applyLineMagic(Magics.java:26)\n",
       "\tat org.omg.sysml.jupyter.kernel.SysMLKernel.eval(SysMLKernel.java:76)\n",
       "\tat io.github.spencerpark.jupyter.kernel.BaseKernel.handleExecuteRequest(BaseKernel.java:334)\n",
       "\tat io.github.spencerpark.jupyter.channels.ShellChannel.lambda$bind$0(ShellChannel.java:64)\n",
       "\tat io.github.spencerpark.jupyter.channels.Loop.lambda$new$0(Loop.java:21)\n",
       "\tat io.github.spencerpark.jupyter.channels.Loop.run(Loop.java:78)\n"
      ]
     },
     "execution_count": 27,
     "metadata": {},
     "output_type": "execute_result"
    }
   ],
   "source": [
    "%viz --style=\"STDCOLOR\" --view=\"Action\" \"QualifiedNameImportTest\""
   ]
  },
  {
   "cell_type": "code",
   "execution_count": 28,
   "id": "hourly-owner",
   "metadata": {
    "execution": {
     "iopub.execute_input": "2021-03-26T09:43:31.931807Z",
     "iopub.status.busy": "2021-03-26T09:43:31.931189Z",
     "iopub.status.idle": "2021-03-26T09:43:31.960120Z",
     "shell.execute_reply": "2021-03-26T09:43:31.960592Z"
    }
   },
   "outputs": [
    {
     "data": {
      "image/svg+xml": [
       "<?xml version=\"1.0\" encoding=\"UTF-8\" standalone=\"no\"?><svg xmlns=\"http://www.w3.org/2000/svg\" xmlns:xlink=\"http://www.w3.org/1999/xlink\" contentScriptType=\"application/ecmascript\" contentStyleType=\"text/css\" height=\"310px\" preserveAspectRatio=\"none\" style=\"width:253px;height:310px;\" version=\"1.1\" viewBox=\"0 0 253 310\" width=\"253px\" zoomAndPan=\"magnify\"><defs><filter height=\"300%\" id=\"f5ymj8vtxzrfc\" width=\"300%\" x=\"-1\" y=\"-1\"><feGaussianBlur result=\"blurOut\" stdDeviation=\"2.0\"/><feColorMatrix in=\"blurOut\" result=\"blurOut2\" type=\"matrix\" values=\"0 0 0 0 0 0 0 0 0 0 0 0 0 0 0 0 0 0 .4 0\"/><feOffset dx=\"4.0\" dy=\"4.0\" in=\"blurOut2\" result=\"blurOut3\"/><feBlend in=\"SourceGraphic\" in2=\"blurOut3\" mode=\"normal\"/></filter></defs><g><!--MD5=[fbc87193dbaf4d95561dea2c320d4a47]\n",
       "cluster E1--><polygon fill=\"#FFFFFF\" filter=\"url(#f5ymj8vtxzrfc)\" points=\"16,6,221,6,228,28.2969,231,28.2969,231,298,16,298,16,6\" style=\"stroke: #000000; stroke-width: 1.5;\"/><line style=\"stroke: #000000; stroke-width: 1.5;\" x1=\"16\" x2=\"228\" y1=\"28.2969\" y2=\"28.2969\"/><text fill=\"#000000\" font-family=\"sans-serif\" font-size=\"14\" font-weight=\"bold\" lengthAdjust=\"spacingAndGlyphs\" textLength=\"199\" x=\"20\" y=\"20.9951\">QualifiedNameImportTest</text><!--MD5=[e4f7fae6ed58524ba242bb0b0d3be6b7]\n",
       "cluster E2--><polygon fill=\"#FFFFFF\" filter=\"url(#f5ymj8vtxzrfc)\" points=\"105,177,131,177,138,199.2969,203,199.2969,203,274,105,274,105,177\" style=\"stroke: #000000; stroke-width: 1.5;\"/><line style=\"stroke: #000000; stroke-width: 1.5;\" x1=\"105\" x2=\"138\" y1=\"199.2969\" y2=\"199.2969\"/><text fill=\"#000000\" font-family=\"sans-serif\" font-size=\"14\" font-weight=\"bold\" lengthAdjust=\"spacingAndGlyphs\" textLength=\"20\" x=\"109\" y=\"191.9951\">P1</text><!--MD5=[f6df4d0ebaf0b5dfb2ced0ae5af7c670]\n",
       "cluster E4--><polygon fill=\"#FFFFFF\" filter=\"url(#f5ymj8vtxzrfc)\" points=\"44,49,70,49,77,71.2969,203,71.2969,203,153,44,153,44,49\" style=\"stroke: #000000; stroke-width: 1.5;\"/><line style=\"stroke: #000000; stroke-width: 1.5;\" x1=\"44\" x2=\"77\" y1=\"71.2969\" y2=\"71.2969\"/><text fill=\"#000000\" font-family=\"sans-serif\" font-size=\"14\" font-weight=\"bold\" lengthAdjust=\"spacingAndGlyphs\" textLength=\"20\" x=\"48\" y=\"63.9951\">P2</text><!--MD5=[09b614a08d8cba4a07c9adeb5e0fee81]\n",
       "class E3--><rect fill=\"#FEFECE\" filter=\"url(#f5ymj8vtxzrfc)\" height=\"45.9375\" id=\"E3\" style=\"stroke: #A80036; stroke-width: 1.5;\" width=\"66\" x=\"121\" y=\"212\"/><text fill=\"#000000\" font-family=\"sans-serif\" font-size=\"12\" font-style=\"italic\" lengthAdjust=\"spacingAndGlyphs\" textLength=\"64\" x=\"122\" y=\"228.1387\">«part def»</text><text fill=\"#000000\" font-family=\"sans-serif\" font-size=\"12\" lengthAdjust=\"spacingAndGlyphs\" textLength=\"8\" x=\"150\" y=\"242.1074\">A</text><line style=\"stroke: #A80036; stroke-width: 1.5;\" x1=\"122\" x2=\"186\" y1=\"249.9375\" y2=\"249.9375\"/><!--MD5=[60a26617385b1d2d0262a64233df1f8d]\n",
       "class E6--><rect fill=\"#FEFECE\" filter=\"url(#f5ymj8vtxzrfc)\" height=\"45.9375\" id=\"E6\" rx=\"10\" ry=\"10\" style=\"stroke: #A80036; stroke-width: 1.5;\" width=\"42\" x=\"145\" y=\"87.5\"/><text fill=\"#000000\" font-family=\"sans-serif\" font-size=\"12\" font-style=\"italic\" lengthAdjust=\"spacingAndGlyphs\" textLength=\"40\" x=\"146\" y=\"103.6387\">«part»</text><text fill=\"#000000\" font-family=\"sans-serif\" font-size=\"12\" lengthAdjust=\"spacingAndGlyphs\" textLength=\"22\" x=\"155\" y=\"117.6074\">x: A</text><line style=\"stroke: #A80036; stroke-width: 1.5;\" x1=\"146\" x2=\"186\" y1=\"125.4375\" y2=\"125.4375\"/><polygon fill=\"#FFFFFF\" filter=\"url(#f5ymj8vtxzrfc)\" points=\"60.5,84,95.5,84,102.5,106.2969,109.5,106.2969,109.5,136.5938,60.5,136.5938,60.5,84\" style=\"stroke: #000000; stroke-width: 1.5;\"/><line style=\"stroke: #000000; stroke-width: 1.5;\" x1=\"60.5\" x2=\"102.5\" y1=\"106.2969\" y2=\"106.2969\"/><text fill=\"#000000\" font-family=\"sans-serif\" font-size=\"14\" font-weight=\"bold\" lengthAdjust=\"spacingAndGlyphs\" textLength=\"29\" x=\"64.5\" y=\"98.9951\">P2a</text><!--MD5=[a717450b82c80b9240a525fa862496af]\n",
       "link E6 to E3--><path d=\"M163.83,133.68 C162.24,149.9 160.04,172.39 158.12,191.96 \" fill=\"none\" id=\"E6-&gt;E3\" style=\"stroke: #A80036; stroke-width: 1.0;\"/><polygon fill=\"#FFFFFF\" points=\"156.16,211.98,151.0533,192.3861,164.986,193.7564,156.16,211.98\" style=\"stroke: #A80036; stroke-width: 1.0;\"/><ellipse cx=\"153.6016\" cy=\"186.9092\" fill=\"#A80036\" rx=\"2\" ry=\"2\" style=\"stroke: #A80036; stroke-width: 1.0;\"/><ellipse cx=\"163.5535\" cy=\"187.888\" fill=\"#A80036\" rx=\"2\" ry=\"2\" style=\"stroke: #A80036; stroke-width: 1.0;\"/><!--MD5=[ac6510a185ad5bce21af06078946ccb8]\n",
       "@startuml\r\n",
       "skinparam wrapWidth 300\r\n",
       "hide circle\r\n",
       "\r\n",
       "package \"QualifiedNameImportTest\" as E1   {\r\n",
       "package \"P1\" as E2   {\r\n",
       "comp def \"A\" as E3  <<(T,blue)part def>> {\r\n",
       "}\r\n",
       "}\r\n",
       "package \"P2\" as E4   {\r\n",
       "package \"P2a\" as E5   {\r\n",
       "}\r\n",
       "comp usage \"x: A\" as E6  <<(T,blue)part>> {\r\n",
       "}\r\n",
       "E6 - -:|> E3\r\n",
       "}\r\n",
       "}\r\n",
       "@enduml\r\n",
       "\n",
       "PlantUML version 1.2020.13(Sat Jun 13 12:26:38 UTC 2020)\n",
       "(EPL source distribution)\n",
       "Java Runtime: OpenJDK Runtime Environment\n",
       "JVM: OpenJDK 64-Bit Server VM\n",
       "Default Encoding: UTF-8\n",
       "Language: en\n",
       "Country: null\n",
       "--></g></svg>"
      ]
     },
     "execution_count": 28,
     "metadata": {},
     "output_type": "execute_result"
    }
   ],
   "source": [
    "%viz --style=\"STDCOLOR\" --view=\"Sequence\" \"QualifiedNameImportTest\""
   ]
  },
  {
   "cell_type": "code",
   "execution_count": 29,
   "id": "sustained-shock",
   "metadata": {
    "execution": {
     "iopub.execute_input": "2021-03-26T09:43:32.013742Z",
     "iopub.status.busy": "2021-03-26T09:43:32.012541Z",
     "iopub.status.idle": "2021-03-26T09:43:32.050843Z",
     "shell.execute_reply": "2021-03-26T09:43:32.050510Z"
    }
   },
   "outputs": [
    {
     "data": {
      "image/svg+xml": [
       "<?xml version=\"1.0\" encoding=\"UTF-8\" standalone=\"no\"?><svg xmlns=\"http://www.w3.org/2000/svg\" xmlns:xlink=\"http://www.w3.org/1999/xlink\" contentScriptType=\"application/ecmascript\" contentStyleType=\"text/css\" height=\"310px\" preserveAspectRatio=\"none\" style=\"width:253px;height:310px;\" version=\"1.1\" viewBox=\"0 0 253 310\" width=\"253px\" zoomAndPan=\"magnify\"><defs><filter height=\"300%\" id=\"f5ymj8vtxzrfc\" width=\"300%\" x=\"-1\" y=\"-1\"><feGaussianBlur result=\"blurOut\" stdDeviation=\"2.0\"/><feColorMatrix in=\"blurOut\" result=\"blurOut2\" type=\"matrix\" values=\"0 0 0 0 0 0 0 0 0 0 0 0 0 0 0 0 0 0 .4 0\"/><feOffset dx=\"4.0\" dy=\"4.0\" in=\"blurOut2\" result=\"blurOut3\"/><feBlend in=\"SourceGraphic\" in2=\"blurOut3\" mode=\"normal\"/></filter></defs><g><!--MD5=[fbc87193dbaf4d95561dea2c320d4a47]\n",
       "cluster E1--><polygon fill=\"#FFFFFF\" filter=\"url(#f5ymj8vtxzrfc)\" points=\"16,6,221,6,228,28.2969,231,28.2969,231,298,16,298,16,6\" style=\"stroke: #000000; stroke-width: 1.5;\"/><line style=\"stroke: #000000; stroke-width: 1.5;\" x1=\"16\" x2=\"228\" y1=\"28.2969\" y2=\"28.2969\"/><text fill=\"#000000\" font-family=\"sans-serif\" font-size=\"14\" font-weight=\"bold\" lengthAdjust=\"spacingAndGlyphs\" textLength=\"199\" x=\"20\" y=\"20.9951\">QualifiedNameImportTest</text><!--MD5=[e4f7fae6ed58524ba242bb0b0d3be6b7]\n",
       "cluster E2--><polygon fill=\"#FFFFFF\" filter=\"url(#f5ymj8vtxzrfc)\" points=\"105,177,131,177,138,199.2969,203,199.2969,203,274,105,274,105,177\" style=\"stroke: #000000; stroke-width: 1.5;\"/><line style=\"stroke: #000000; stroke-width: 1.5;\" x1=\"105\" x2=\"138\" y1=\"199.2969\" y2=\"199.2969\"/><text fill=\"#000000\" font-family=\"sans-serif\" font-size=\"14\" font-weight=\"bold\" lengthAdjust=\"spacingAndGlyphs\" textLength=\"20\" x=\"109\" y=\"191.9951\">P1</text><!--MD5=[f6df4d0ebaf0b5dfb2ced0ae5af7c670]\n",
       "cluster E4--><polygon fill=\"#FFFFFF\" filter=\"url(#f5ymj8vtxzrfc)\" points=\"44,49,70,49,77,71.2969,203,71.2969,203,153,44,153,44,49\" style=\"stroke: #000000; stroke-width: 1.5;\"/><line style=\"stroke: #000000; stroke-width: 1.5;\" x1=\"44\" x2=\"77\" y1=\"71.2969\" y2=\"71.2969\"/><text fill=\"#000000\" font-family=\"sans-serif\" font-size=\"14\" font-weight=\"bold\" lengthAdjust=\"spacingAndGlyphs\" textLength=\"20\" x=\"48\" y=\"63.9951\">P2</text><!--MD5=[09b614a08d8cba4a07c9adeb5e0fee81]\n",
       "class E3--><rect fill=\"#FEFECE\" filter=\"url(#f5ymj8vtxzrfc)\" height=\"45.9375\" id=\"E3\" style=\"stroke: #A80036; stroke-width: 1.5;\" width=\"66\" x=\"121\" y=\"212\"/><text fill=\"#000000\" font-family=\"sans-serif\" font-size=\"12\" font-style=\"italic\" lengthAdjust=\"spacingAndGlyphs\" textLength=\"64\" x=\"122\" y=\"228.1387\">«part def»</text><text fill=\"#000000\" font-family=\"sans-serif\" font-size=\"12\" lengthAdjust=\"spacingAndGlyphs\" textLength=\"8\" x=\"150\" y=\"242.1074\">A</text><line style=\"stroke: #A80036; stroke-width: 1.5;\" x1=\"122\" x2=\"186\" y1=\"249.9375\" y2=\"249.9375\"/><!--MD5=[60a26617385b1d2d0262a64233df1f8d]\n",
       "class E6--><rect fill=\"#FEFECE\" filter=\"url(#f5ymj8vtxzrfc)\" height=\"45.9375\" id=\"E6\" rx=\"10\" ry=\"10\" style=\"stroke: #A80036; stroke-width: 1.5;\" width=\"42\" x=\"145\" y=\"87.5\"/><text fill=\"#000000\" font-family=\"sans-serif\" font-size=\"12\" font-style=\"italic\" lengthAdjust=\"spacingAndGlyphs\" textLength=\"40\" x=\"146\" y=\"103.6387\">«part»</text><text fill=\"#000000\" font-family=\"sans-serif\" font-size=\"12\" lengthAdjust=\"spacingAndGlyphs\" textLength=\"22\" x=\"155\" y=\"117.6074\">x: A</text><line style=\"stroke: #A80036; stroke-width: 1.5;\" x1=\"146\" x2=\"186\" y1=\"125.4375\" y2=\"125.4375\"/><polygon fill=\"#FFFFFF\" filter=\"url(#f5ymj8vtxzrfc)\" points=\"60.5,84,95.5,84,102.5,106.2969,109.5,106.2969,109.5,136.5938,60.5,136.5938,60.5,84\" style=\"stroke: #000000; stroke-width: 1.5;\"/><line style=\"stroke: #000000; stroke-width: 1.5;\" x1=\"60.5\" x2=\"102.5\" y1=\"106.2969\" y2=\"106.2969\"/><text fill=\"#000000\" font-family=\"sans-serif\" font-size=\"14\" font-weight=\"bold\" lengthAdjust=\"spacingAndGlyphs\" textLength=\"29\" x=\"64.5\" y=\"98.9951\">P2a</text><!--MD5=[a717450b82c80b9240a525fa862496af]\n",
       "link E6 to E3--><path d=\"M163.83,133.68 C162.24,149.9 160.04,172.39 158.12,191.96 \" fill=\"none\" id=\"E6-&gt;E3\" style=\"stroke: #A80036; stroke-width: 1.0;\"/><polygon fill=\"#FFFFFF\" points=\"156.16,211.98,151.0533,192.3861,164.986,193.7564,156.16,211.98\" style=\"stroke: #A80036; stroke-width: 1.0;\"/><ellipse cx=\"153.6016\" cy=\"186.9092\" fill=\"#A80036\" rx=\"2\" ry=\"2\" style=\"stroke: #A80036; stroke-width: 1.0;\"/><ellipse cx=\"163.5535\" cy=\"187.888\" fill=\"#A80036\" rx=\"2\" ry=\"2\" style=\"stroke: #A80036; stroke-width: 1.0;\"/><!--MD5=[ac6510a185ad5bce21af06078946ccb8]\n",
       "@startuml\r\n",
       "skinparam wrapWidth 300\r\n",
       "hide circle\r\n",
       "\r\n",
       "package \"QualifiedNameImportTest\" as E1   {\r\n",
       "package \"P1\" as E2   {\r\n",
       "comp def \"A\" as E3  <<(T,blue)part def>> {\r\n",
       "}\r\n",
       "}\r\n",
       "package \"P2\" as E4   {\r\n",
       "package \"P2a\" as E5   {\r\n",
       "}\r\n",
       "comp usage \"x: A\" as E6  <<(T,blue)part>> {\r\n",
       "}\r\n",
       "E6 - -:|> E3\r\n",
       "}\r\n",
       "}\r\n",
       "@enduml\r\n",
       "\n",
       "PlantUML version 1.2020.13(Sat Jun 13 12:26:38 UTC 2020)\n",
       "(EPL source distribution)\n",
       "Java Runtime: OpenJDK Runtime Environment\n",
       "JVM: OpenJDK 64-Bit Server VM\n",
       "Default Encoding: UTF-8\n",
       "Language: en\n",
       "Country: null\n",
       "--></g></svg>"
      ]
     },
     "execution_count": 29,
     "metadata": {},
     "output_type": "execute_result"
    }
   ],
   "source": [
    "%viz --style=\"STDCOLOR\" --view=\"MIXED\" \"QualifiedNameImportTest\""
   ]
  },
  {
   "cell_type": "code",
   "execution_count": 30,
   "id": "cubic-parcel",
   "metadata": {
    "execution": {
     "iopub.execute_input": "2021-03-26T09:43:32.101541Z",
     "iopub.status.busy": "2021-03-26T09:43:32.101071Z",
     "iopub.status.idle": "2021-03-26T09:43:32.148030Z",
     "shell.execute_reply": "2021-03-26T09:43:32.146506Z"
    }
   },
   "outputs": [
    {
     "data": {
      "image/svg+xml": [
       "<?xml version=\"1.0\" encoding=\"UTF-8\" standalone=\"no\"?><svg xmlns=\"http://www.w3.org/2000/svg\" xmlns:xlink=\"http://www.w3.org/1999/xlink\" contentScriptType=\"application/ecmascript\" contentStyleType=\"text/css\" height=\"304px\" preserveAspectRatio=\"none\" style=\"width:271px;height:304px;\" version=\"1.1\" viewBox=\"0 0 271 304\" width=\"271px\" zoomAndPan=\"magnify\"><defs><filter height=\"300%\" id=\"f1ci3ct1u398ga\" width=\"300%\" x=\"-1\" y=\"-1\"><feGaussianBlur result=\"blurOut\" stdDeviation=\"2.0\"/><feColorMatrix in=\"blurOut\" result=\"blurOut2\" type=\"matrix\" values=\"0 0 0 0 0 0 0 0 0 0 0 0 0 0 0 0 0 0 .4 0\"/><feOffset dx=\"4.0\" dy=\"4.0\" in=\"blurOut2\" result=\"blurOut3\"/><feBlend in=\"SourceGraphic\" in2=\"blurOut3\" mode=\"normal\"/></filter></defs><g><!--MD5=[fbc87193dbaf4d95561dea2c320d4a47]\n",
       "cluster E1--><polygon fill=\"#FFFFFF\" filter=\"url(#f1ci3ct1u398ga)\" points=\"16,6,221,6,228,28.2969,249,28.2969,249,292,16,292,16,6\" style=\"stroke: #000000; stroke-width: 1.5;\"/><line style=\"stroke: #000000; stroke-width: 1.5;\" x1=\"16\" x2=\"228\" y1=\"28.2969\" y2=\"28.2969\"/><text fill=\"#000000\" font-family=\"sans-serif\" font-size=\"14\" font-weight=\"bold\" lengthAdjust=\"spacingAndGlyphs\" textLength=\"199\" x=\"20\" y=\"20.9951\">QualifiedNameImportTest</text><!--MD5=[e4f7fae6ed58524ba242bb0b0d3be6b7]\n",
       "cluster E2--><polygon fill=\"#FFFFFF\" filter=\"url(#f1ci3ct1u398ga)\" points=\"139,177,165,177,172,199.2969,211,199.2969,211,268,139,268,139,177\" style=\"stroke: #000000; stroke-width: 1.5;\"/><line style=\"stroke: #000000; stroke-width: 1.5;\" x1=\"139\" x2=\"172\" y1=\"199.2969\" y2=\"199.2969\"/><text fill=\"#000000\" font-family=\"sans-serif\" font-size=\"14\" font-weight=\"bold\" lengthAdjust=\"spacingAndGlyphs\" textLength=\"20\" x=\"143\" y=\"191.9951\">P1</text><!--MD5=[f6df4d0ebaf0b5dfb2ced0ae5af7c670]\n",
       "cluster E4--><polygon fill=\"#FFFFFF\" filter=\"url(#f1ci3ct1u398ga)\" points=\"40,49,66,49,73,71.2969,225,71.2969,225,153,40,153,40,49\" style=\"stroke: #000000; stroke-width: 1.5;\"/><line style=\"stroke: #000000; stroke-width: 1.5;\" x1=\"40\" x2=\"73\" y1=\"71.2969\" y2=\"71.2969\"/><text fill=\"#000000\" font-family=\"sans-serif\" font-size=\"14\" font-weight=\"bold\" lengthAdjust=\"spacingAndGlyphs\" textLength=\"20\" x=\"44\" y=\"63.9951\">P2</text><!--MD5=[09b614a08d8cba4a07c9adeb5e0fee81]\n",
       "class E3--><rect fill=\"#FEFECE\" filter=\"url(#f1ci3ct1u398ga)\" height=\"40\" id=\"E3\" style=\"stroke: #A80036; stroke-width: 1.5;\" width=\"40\" x=\"155\" y=\"212\"/><ellipse cx=\"170\" cy=\"228\" fill=\"#008000\" rx=\"11\" ry=\"11\" style=\"stroke: #A80036; stroke-width: 1.0;\"/><path d=\"M168.9063,228.375 L168.9063,232.0469 L170.5313,232.0469 Q171.7031,232.0469 172.1719,231.6563 Q172.6406,231.25 172.6406,230.25 Q172.6406,229.25 172.1406,228.8125 Q171.6563,228.375 170.5313,228.375 L168.9063,228.375 Z M168.9063,223.5469 L168.9063,226.4219 L170.5313,226.4219 Q171.4531,226.4219 171.8438,226.0938 Q172.25,225.75 172.25,225 Q172.25,224.2344 171.8438,223.8906 Q171.4375,223.5469 170.5313,223.5469 L168.9063,223.5469 Z M166.5313,221.5938 L170.5313,221.5938 Q172.5938,221.5938 173.6406,222.375 Q174.6875,223.1563 174.6875,224.7188 Q174.6875,225.9219 174.0625,226.5938 Q173.4531,227.2656 172.2656,227.375 Q173.6875,227.5156 174.4063,228.3281 Q175.125,229.1406 175.125,230.5938 Q175.125,232.3906 174.0469,233.2031 Q172.9688,234 170.5313,234 L166.5313,234 L166.5313,221.5938 Z \"/><text fill=\"#000000\" font-family=\"sans-serif\" font-size=\"12\" lengthAdjust=\"spacingAndGlyphs\" textLength=\"8\" x=\"184\" y=\"232.1543\">A</text><line style=\"stroke: #A80036; stroke-width: 1.5;\" x1=\"156\" x2=\"194\" y1=\"244\" y2=\"244\"/><!--MD5=[60a26617385b1d2d0262a64233df1f8d]\n",
       "class E6--><rect fill=\"#FEFECE\" filter=\"url(#f1ci3ct1u398ga)\" height=\"45.9375\" id=\"E6\" rx=\"10\" ry=\"10\" style=\"stroke: #A80036; stroke-width: 1.5;\" width=\"68\" x=\"141\" y=\"87.5\"/><ellipse cx=\"156\" cy=\"106.4688\" fill=\"#32CD32\" rx=\"11\" ry=\"11\" style=\"stroke: #A80036; stroke-width: 1.0;\"/><path d=\"M155.7969,102.1406 L155.7969,105.7656 L156.7969,105.7656 Q158,105.7656 158.4844,105.3594 Q158.9688,104.9531 158.9688,103.9531 Q158.9688,102.9531 158.4844,102.5469 Q158,102.1406 156.7969,102.1406 L155.7969,102.1406 Z M153.3438,100.0781 L156.7031,100.0781 Q159.2656,100.0781 160.3906,101 Q161.5156,101.9063 161.5156,103.9531 Q161.5156,106 160.3906,106.9219 Q159.2656,107.8281 156.7031,107.8281 L155.7969,107.8281 L155.7969,112.4688 L153.3438,112.4688 L153.3438,100.0781 Z \"/><text fill=\"#000000\" font-family=\"sans-serif\" font-size=\"12\" font-style=\"italic\" lengthAdjust=\"spacingAndGlyphs\" textLength=\"40\" x=\"168\" y=\"103.6387\">«part»</text><text fill=\"#000000\" font-family=\"sans-serif\" font-size=\"12\" lengthAdjust=\"spacingAndGlyphs\" textLength=\"22\" x=\"177\" y=\"117.6074\">x: A</text><line style=\"stroke: #A80036; stroke-width: 1.5;\" x1=\"142\" x2=\"208\" y1=\"125.4375\" y2=\"125.4375\"/><polygon fill=\"#FFFFFF\" filter=\"url(#f1ci3ct1u398ga)\" points=\"56.5,84,91.5,84,98.5,106.2969,105.5,106.2969,105.5,136.5938,56.5,136.5938,56.5,84\" style=\"stroke: #000000; stroke-width: 1.5;\"/><line style=\"stroke: #000000; stroke-width: 1.5;\" x1=\"56.5\" x2=\"98.5\" y1=\"106.2969\" y2=\"106.2969\"/><text fill=\"#000000\" font-family=\"sans-serif\" font-size=\"14\" font-weight=\"bold\" lengthAdjust=\"spacingAndGlyphs\" textLength=\"29\" x=\"60.5\" y=\"98.9951\">P2a</text><!--MD5=[a717450b82c80b9240a525fa862496af]\n",
       "link E6 to E3--><path d=\"M175,133.7 C175,149.89 175,172.27 175,191.49 \" fill=\"none\" id=\"E6-&gt;E3\" style=\"stroke: #A80036; stroke-width: 1.0;\"/><polygon fill=\"#FFFFFF\" points=\"175,211.69,168,192.69,182,192.69,175,211.69\" style=\"stroke: #A80036; stroke-width: 1.0;\"/><ellipse cx=\"170\" cy=\"186.99\" fill=\"#A80036\" rx=\"2\" ry=\"2\" style=\"stroke: #A80036; stroke-width: 1.0;\"/><ellipse cx=\"180\" cy=\"186.99\" fill=\"#A80036\" rx=\"2\" ry=\"2\" style=\"stroke: #A80036; stroke-width: 1.0;\"/><!--MD5=[461a111251b07ab80ea844fd57a13c75]\n",
       "@startuml\r\n",
       " \r\n",
       "package \"QualifiedNameImportTest\" as E1   {\r\n",
       "package \"P1\" as E2   {\r\n",
       "comp def \"A\" as E3  << (B,green) >> {\r\n",
       "}\r\n",
       "}\r\n",
       "package \"P2\" as E4   {\r\n",
       "package \"P2a\" as E5   {\r\n",
       "}\r\n",
       "comp usage \"x: A\" as E6  << (P,limegreen) part>> {\r\n",
       "}\r\n",
       "E6 - -:|> E3\r\n",
       "}\r\n",
       "}\r\n",
       "@enduml\r\n",
       "\n",
       "PlantUML version 1.2020.13(Sat Jun 13 12:26:38 UTC 2020)\n",
       "(EPL source distribution)\n",
       "Java Runtime: OpenJDK Runtime Environment\n",
       "JVM: OpenJDK 64-Bit Server VM\n",
       "Default Encoding: UTF-8\n",
       "Language: en\n",
       "Country: null\n",
       "--></g></svg>"
      ]
     },
     "execution_count": 30,
     "metadata": {},
     "output_type": "execute_result"
    }
   ],
   "source": [
    "%viz --style=\"PLANTUML\" --view=\"Default\" \"QualifiedNameImportTest\""
   ]
  },
  {
   "cell_type": "code",
   "execution_count": 31,
   "id": "brutal-division",
   "metadata": {
    "execution": {
     "iopub.execute_input": "2021-03-26T09:43:32.201227Z",
     "iopub.status.busy": "2021-03-26T09:43:32.200528Z",
     "iopub.status.idle": "2021-03-26T09:43:32.228295Z",
     "shell.execute_reply": "2021-03-26T09:43:32.227977Z"
    }
   },
   "outputs": [
    {
     "data": {
      "image/svg+xml": [
       "<?xml version=\"1.0\" encoding=\"UTF-8\" standalone=\"no\"?><svg xmlns=\"http://www.w3.org/2000/svg\" xmlns:xlink=\"http://www.w3.org/1999/xlink\" contentScriptType=\"application/ecmascript\" contentStyleType=\"text/css\" height=\"304px\" preserveAspectRatio=\"none\" style=\"width:271px;height:304px;\" version=\"1.1\" viewBox=\"0 0 271 304\" width=\"271px\" zoomAndPan=\"magnify\"><defs><filter height=\"300%\" id=\"f1ci3ct1u398ga\" width=\"300%\" x=\"-1\" y=\"-1\"><feGaussianBlur result=\"blurOut\" stdDeviation=\"2.0\"/><feColorMatrix in=\"blurOut\" result=\"blurOut2\" type=\"matrix\" values=\"0 0 0 0 0 0 0 0 0 0 0 0 0 0 0 0 0 0 .4 0\"/><feOffset dx=\"4.0\" dy=\"4.0\" in=\"blurOut2\" result=\"blurOut3\"/><feBlend in=\"SourceGraphic\" in2=\"blurOut3\" mode=\"normal\"/></filter></defs><g><!--MD5=[fbc87193dbaf4d95561dea2c320d4a47]\n",
       "cluster E1--><polygon fill=\"#FFFFFF\" filter=\"url(#f1ci3ct1u398ga)\" points=\"16,6,221,6,228,28.2969,249,28.2969,249,292,16,292,16,6\" style=\"stroke: #000000; stroke-width: 1.5;\"/><line style=\"stroke: #000000; stroke-width: 1.5;\" x1=\"16\" x2=\"228\" y1=\"28.2969\" y2=\"28.2969\"/><text fill=\"#000000\" font-family=\"sans-serif\" font-size=\"14\" font-weight=\"bold\" lengthAdjust=\"spacingAndGlyphs\" textLength=\"199\" x=\"20\" y=\"20.9951\">QualifiedNameImportTest</text><!--MD5=[e4f7fae6ed58524ba242bb0b0d3be6b7]\n",
       "cluster E2--><polygon fill=\"#FFFFFF\" filter=\"url(#f1ci3ct1u398ga)\" points=\"139,177,165,177,172,199.2969,211,199.2969,211,268,139,268,139,177\" style=\"stroke: #000000; stroke-width: 1.5;\"/><line style=\"stroke: #000000; stroke-width: 1.5;\" x1=\"139\" x2=\"172\" y1=\"199.2969\" y2=\"199.2969\"/><text fill=\"#000000\" font-family=\"sans-serif\" font-size=\"14\" font-weight=\"bold\" lengthAdjust=\"spacingAndGlyphs\" textLength=\"20\" x=\"143\" y=\"191.9951\">P1</text><!--MD5=[f6df4d0ebaf0b5dfb2ced0ae5af7c670]\n",
       "cluster E4--><polygon fill=\"#FFFFFF\" filter=\"url(#f1ci3ct1u398ga)\" points=\"40,49,66,49,73,71.2969,225,71.2969,225,153,40,153,40,49\" style=\"stroke: #000000; stroke-width: 1.5;\"/><line style=\"stroke: #000000; stroke-width: 1.5;\" x1=\"40\" x2=\"73\" y1=\"71.2969\" y2=\"71.2969\"/><text fill=\"#000000\" font-family=\"sans-serif\" font-size=\"14\" font-weight=\"bold\" lengthAdjust=\"spacingAndGlyphs\" textLength=\"20\" x=\"44\" y=\"63.9951\">P2</text><!--MD5=[09b614a08d8cba4a07c9adeb5e0fee81]\n",
       "class E3--><rect fill=\"#FEFECE\" filter=\"url(#f1ci3ct1u398ga)\" height=\"40\" id=\"E3\" style=\"stroke: #A80036; stroke-width: 1.5;\" width=\"40\" x=\"155\" y=\"212\"/><ellipse cx=\"170\" cy=\"228\" fill=\"#008000\" rx=\"11\" ry=\"11\" style=\"stroke: #A80036; stroke-width: 1.0;\"/><path d=\"M168.9063,228.375 L168.9063,232.0469 L170.5313,232.0469 Q171.7031,232.0469 172.1719,231.6563 Q172.6406,231.25 172.6406,230.25 Q172.6406,229.25 172.1406,228.8125 Q171.6563,228.375 170.5313,228.375 L168.9063,228.375 Z M168.9063,223.5469 L168.9063,226.4219 L170.5313,226.4219 Q171.4531,226.4219 171.8438,226.0938 Q172.25,225.75 172.25,225 Q172.25,224.2344 171.8438,223.8906 Q171.4375,223.5469 170.5313,223.5469 L168.9063,223.5469 Z M166.5313,221.5938 L170.5313,221.5938 Q172.5938,221.5938 173.6406,222.375 Q174.6875,223.1563 174.6875,224.7188 Q174.6875,225.9219 174.0625,226.5938 Q173.4531,227.2656 172.2656,227.375 Q173.6875,227.5156 174.4063,228.3281 Q175.125,229.1406 175.125,230.5938 Q175.125,232.3906 174.0469,233.2031 Q172.9688,234 170.5313,234 L166.5313,234 L166.5313,221.5938 Z \"/><text fill=\"#000000\" font-family=\"sans-serif\" font-size=\"12\" lengthAdjust=\"spacingAndGlyphs\" textLength=\"8\" x=\"184\" y=\"232.1543\">A</text><line style=\"stroke: #A80036; stroke-width: 1.5;\" x1=\"156\" x2=\"194\" y1=\"244\" y2=\"244\"/><!--MD5=[60a26617385b1d2d0262a64233df1f8d]\n",
       "class E6--><rect fill=\"#FEFECE\" filter=\"url(#f1ci3ct1u398ga)\" height=\"45.9375\" id=\"E6\" rx=\"10\" ry=\"10\" style=\"stroke: #A80036; stroke-width: 1.5;\" width=\"68\" x=\"141\" y=\"87.5\"/><ellipse cx=\"156\" cy=\"106.4688\" fill=\"#32CD32\" rx=\"11\" ry=\"11\" style=\"stroke: #A80036; stroke-width: 1.0;\"/><path d=\"M155.7969,102.1406 L155.7969,105.7656 L156.7969,105.7656 Q158,105.7656 158.4844,105.3594 Q158.9688,104.9531 158.9688,103.9531 Q158.9688,102.9531 158.4844,102.5469 Q158,102.1406 156.7969,102.1406 L155.7969,102.1406 Z M153.3438,100.0781 L156.7031,100.0781 Q159.2656,100.0781 160.3906,101 Q161.5156,101.9063 161.5156,103.9531 Q161.5156,106 160.3906,106.9219 Q159.2656,107.8281 156.7031,107.8281 L155.7969,107.8281 L155.7969,112.4688 L153.3438,112.4688 L153.3438,100.0781 Z \"/><text fill=\"#000000\" font-family=\"sans-serif\" font-size=\"12\" font-style=\"italic\" lengthAdjust=\"spacingAndGlyphs\" textLength=\"40\" x=\"168\" y=\"103.6387\">«part»</text><text fill=\"#000000\" font-family=\"sans-serif\" font-size=\"12\" lengthAdjust=\"spacingAndGlyphs\" textLength=\"22\" x=\"177\" y=\"117.6074\">x: A</text><line style=\"stroke: #A80036; stroke-width: 1.5;\" x1=\"142\" x2=\"208\" y1=\"125.4375\" y2=\"125.4375\"/><polygon fill=\"#FFFFFF\" filter=\"url(#f1ci3ct1u398ga)\" points=\"56.5,84,91.5,84,98.5,106.2969,105.5,106.2969,105.5,136.5938,56.5,136.5938,56.5,84\" style=\"stroke: #000000; stroke-width: 1.5;\"/><line style=\"stroke: #000000; stroke-width: 1.5;\" x1=\"56.5\" x2=\"98.5\" y1=\"106.2969\" y2=\"106.2969\"/><text fill=\"#000000\" font-family=\"sans-serif\" font-size=\"14\" font-weight=\"bold\" lengthAdjust=\"spacingAndGlyphs\" textLength=\"29\" x=\"60.5\" y=\"98.9951\">P2a</text><!--MD5=[a717450b82c80b9240a525fa862496af]\n",
       "link E6 to E3--><path d=\"M175,133.7 C175,149.89 175,172.27 175,191.49 \" fill=\"none\" id=\"E6-&gt;E3\" style=\"stroke: #A80036; stroke-width: 1.0;\"/><polygon fill=\"#FFFFFF\" points=\"175,211.69,168,192.69,182,192.69,175,211.69\" style=\"stroke: #A80036; stroke-width: 1.0;\"/><ellipse cx=\"170\" cy=\"186.99\" fill=\"#A80036\" rx=\"2\" ry=\"2\" style=\"stroke: #A80036; stroke-width: 1.0;\"/><ellipse cx=\"180\" cy=\"186.99\" fill=\"#A80036\" rx=\"2\" ry=\"2\" style=\"stroke: #A80036; stroke-width: 1.0;\"/><!--MD5=[461a111251b07ab80ea844fd57a13c75]\n",
       "@startuml\r\n",
       " \r\n",
       "package \"QualifiedNameImportTest\" as E1   {\r\n",
       "package \"P1\" as E2   {\r\n",
       "comp def \"A\" as E3  << (B,green) >> {\r\n",
       "}\r\n",
       "}\r\n",
       "package \"P2\" as E4   {\r\n",
       "package \"P2a\" as E5   {\r\n",
       "}\r\n",
       "comp usage \"x: A\" as E6  << (P,limegreen) part>> {\r\n",
       "}\r\n",
       "E6 - -:|> E3\r\n",
       "}\r\n",
       "}\r\n",
       "@enduml\r\n",
       "\n",
       "PlantUML version 1.2020.13(Sat Jun 13 12:26:38 UTC 2020)\n",
       "(EPL source distribution)\n",
       "Java Runtime: OpenJDK Runtime Environment\n",
       "JVM: OpenJDK 64-Bit Server VM\n",
       "Default Encoding: UTF-8\n",
       "Language: en\n",
       "Country: null\n",
       "--></g></svg>"
      ]
     },
     "execution_count": 31,
     "metadata": {},
     "output_type": "execute_result"
    }
   ],
   "source": [
    "%viz --style=\"PLANTUML\" --view=\"Tree\" \"QualifiedNameImportTest\""
   ]
  },
  {
   "cell_type": "code",
   "execution_count": 32,
   "id": "homeless-reserve",
   "metadata": {
    "execution": {
     "iopub.execute_input": "2021-03-26T09:43:32.280765Z",
     "iopub.status.busy": "2021-03-26T09:43:32.280172Z",
     "iopub.status.idle": "2021-03-26T09:43:32.282096Z",
     "shell.execute_reply": "2021-03-26T09:43:32.282504Z"
    }
   },
   "outputs": [
    {
     "data": {
      "text/plain": [
       "java.lang.IllegalArgumentException: Invalid View: State View candidates are: Default Tree StateMachine Interconnection Activity Sequence MIXED \n",
       "\tat org.omg.sysml.plantuml.SysML2PlantUMLSvc.setView(SysML2PlantUMLSvc.java:63)\n",
       "\tat org.omg.sysml.interactive.SysMLInteractive.viz(SysMLInteractive.java:286)\n",
       "\tat org.omg.sysml.jupyter.kernel.magic.Viz.viz(Viz.java:47)\n",
       "\tat jdk.internal.reflect.GeneratedMethodAccessor7.invoke(Unknown Source)\n",
       "\tat java.base/jdk.internal.reflect.DelegatingMethodAccessorImpl.invoke(DelegatingMethodAccessorImpl.java:43)\n",
       "\tat java.base/java.lang.reflect.Method.invoke(Method.java:568)\n",
       "\tat io.github.spencerpark.jupyter.kernel.magic.registry.Magics.invoke(Magics.java:89)\n",
       "\tat io.github.spencerpark.jupyter.kernel.magic.registry.Magics.access$000(Magics.java:8)\n",
       "\tat io.github.spencerpark.jupyter.kernel.magic.registry.Magics$LineReflectionMagicFunction.execute(Magics.java:149)\n",
       "\tat io.github.spencerpark.jupyter.kernel.magic.registry.Magics.applyLineMagic(Magics.java:26)\n",
       "\tat org.omg.sysml.jupyter.kernel.SysMLKernel.eval(SysMLKernel.java:76)\n",
       "\tat io.github.spencerpark.jupyter.kernel.BaseKernel.handleExecuteRequest(BaseKernel.java:334)\n",
       "\tat io.github.spencerpark.jupyter.channels.ShellChannel.lambda$bind$0(ShellChannel.java:64)\n",
       "\tat io.github.spencerpark.jupyter.channels.Loop.lambda$new$0(Loop.java:21)\n",
       "\tat io.github.spencerpark.jupyter.channels.Loop.run(Loop.java:78)\n"
      ]
     },
     "execution_count": 32,
     "metadata": {},
     "output_type": "execute_result"
    }
   ],
   "source": [
    "%viz --style=\"PLANTUML\" --view=\"State\" \"QualifiedNameImportTest\""
   ]
  },
  {
   "cell_type": "code",
   "execution_count": 33,
   "id": "jewish-timber",
   "metadata": {
    "execution": {
     "iopub.execute_input": "2021-03-26T09:43:32.334542Z",
     "iopub.status.busy": "2021-03-26T09:43:32.334051Z",
     "iopub.status.idle": "2021-03-26T09:43:32.364494Z",
     "shell.execute_reply": "2021-03-26T09:43:32.364105Z"
    }
   },
   "outputs": [
    {
     "data": {
      "image/svg+xml": [
       "<?xml version=\"1.0\" encoding=\"UTF-8\" standalone=\"no\"?><svg xmlns=\"http://www.w3.org/2000/svg\" xmlns:xlink=\"http://www.w3.org/1999/xlink\" contentScriptType=\"application/ecmascript\" contentStyleType=\"text/css\" height=\"189px\" preserveAspectRatio=\"none\" style=\"width:401px;height:189px;\" version=\"1.1\" viewBox=\"0 0 401 189\" width=\"401px\" zoomAndPan=\"magnify\"><defs><filter height=\"300%\" id=\"fxoe7gnrdmf6e\" width=\"300%\" x=\"-1\" y=\"-1\"><feGaussianBlur result=\"blurOut\" stdDeviation=\"2.0\"/><feColorMatrix in=\"blurOut\" result=\"blurOut2\" type=\"matrix\" values=\"0 0 0 0 0 0 0 0 0 0 0 0 0 0 0 0 0 0 .4 0\"/><feOffset dx=\"4.0\" dy=\"4.0\" in=\"blurOut2\" result=\"blurOut3\"/><feBlend in=\"SourceGraphic\" in2=\"blurOut3\" mode=\"normal\"/></filter></defs><g><!--MD5=[fbc87193dbaf4d95561dea2c320d4a47]\n",
       "cluster E1--><polygon fill=\"#FFFFFF\" filter=\"url(#fxoe7gnrdmf6e)\" points=\"16,6,221,6,228,28.2969,379,28.2969,379,177,16,177,16,6\" style=\"stroke: #000000; stroke-width: 1.5;\"/><line style=\"stroke: #000000; stroke-width: 1.5;\" x1=\"16\" x2=\"228\" y1=\"28.2969\" y2=\"28.2969\"/><text fill=\"#000000\" font-family=\"sans-serif\" font-size=\"14\" font-weight=\"bold\" lengthAdjust=\"spacingAndGlyphs\" textLength=\"199\" x=\"20\" y=\"20.9951\">QualifiedNameImportTest</text><!--MD5=[e4f7fae6ed58524ba242bb0b0d3be6b7]\n",
       "cluster E2--><polygon fill=\"#FFFFFF\" filter=\"url(#fxoe7gnrdmf6e)\" points=\"231,49,257,49,264,71.2969,355,71.2969,355,153,231,153,231,49\" style=\"stroke: #000000; stroke-width: 1.5;\"/><line style=\"stroke: #000000; stroke-width: 1.5;\" x1=\"231\" x2=\"264\" y1=\"71.2969\" y2=\"71.2969\"/><text fill=\"#000000\" font-family=\"sans-serif\" font-size=\"14\" font-weight=\"bold\" lengthAdjust=\"spacingAndGlyphs\" textLength=\"20\" x=\"235\" y=\"63.9951\">P1</text><!--MD5=[f6df4d0ebaf0b5dfb2ced0ae5af7c670]\n",
       "cluster E4--><polygon fill=\"#FFFFFF\" filter=\"url(#fxoe7gnrdmf6e)\" points=\"40,49,66,49,73,71.2969,207,71.2969,207,153,40,153,40,49\" style=\"stroke: #000000; stroke-width: 1.5;\"/><line style=\"stroke: #000000; stroke-width: 1.5;\" x1=\"40\" x2=\"73\" y1=\"71.2969\" y2=\"71.2969\"/><text fill=\"#000000\" font-family=\"sans-serif\" font-size=\"14\" font-weight=\"bold\" lengthAdjust=\"spacingAndGlyphs\" textLength=\"20\" x=\"44\" y=\"63.9951\">P2</text><!--MD5=[a60fb756f580feb9fd8e2cf1329b5c91]\n",
       "entity E3--><rect fill=\"#FFFFFF\" filter=\"url(#fxoe7gnrdmf6e)\" height=\"52.5938\" style=\"stroke: #000000; stroke-width: 1.5;\" width=\"91\" x=\"247.5\" y=\"84\"/><text fill=\"#000000\" font-family=\"sans-serif\" font-size=\"14\" font-style=\"italic\" lengthAdjust=\"spacingAndGlyphs\" textLength=\"71\" x=\"257.5\" y=\"106.9951\">«part def»</text><text fill=\"#000000\" font-family=\"sans-serif\" font-size=\"14\" lengthAdjust=\"spacingAndGlyphs\" textLength=\"9\" x=\"288.5\" y=\"123.292\">A</text><polygon fill=\"#FFFFFF\" filter=\"url(#fxoe7gnrdmf6e)\" points=\"141.5,84,176.5,84,183.5,106.2969,190.5,106.2969,190.5,136.5938,141.5,136.5938,141.5,84\" style=\"stroke: #000000; stroke-width: 1.5;\"/><line style=\"stroke: #000000; stroke-width: 1.5;\" x1=\"141.5\" x2=\"183.5\" y1=\"106.2969\" y2=\"106.2969\"/><text fill=\"#000000\" font-family=\"sans-serif\" font-size=\"14\" font-weight=\"bold\" lengthAdjust=\"spacingAndGlyphs\" textLength=\"29\" x=\"145.5\" y=\"98.9951\">P2a</text><g id=\"E1.E4.E6\"><rect fill=\"#FFFFFF\" filter=\"url(#fxoe7gnrdmf6e)\" height=\"50\" rx=\"12.5\" ry=\"12.5\" style=\"stroke: #A80036; stroke-width: 1.5;\" width=\"50\" x=\"56\" y=\"85.5\"/><line style=\"stroke: #A80036; stroke-width: 1.5;\" x1=\"56\" x2=\"106\" y1=\"111.7969\" y2=\"111.7969\"/><text fill=\"#000000\" font-family=\"sans-serif\" font-size=\"14\" lengthAdjust=\"spacingAndGlyphs\" textLength=\"25\" x=\"68.5\" y=\"103.4951\">x: A</text></g><!--MD5=[d97cebc2a99406685a9779110594a674]\n",
       "@startuml\r\n",
       "skinparam ranksep 8\r\n",
       "skinparam rectangle {\r\n",
       " backgroundColor<<block>> LightGreen\r\n",
       "}\r\n",
       " \r\n",
       "package \"QualifiedNameImportTest\" as E1   {\r\n",
       "package \"P1\" as E2   {\r\n",
       "rec def \"A\" as E3  <<part def>> {\r\n",
       "}\r\n",
       "}\r\n",
       "package \"P2\" as E4   {\r\n",
       "package \"P2a\" as E5   {\r\n",
       "}\r\n",
       "rec usage \"x: A\" as E6  {\r\n",
       "}\r\n",
       "}\r\n",
       "}\r\n",
       "@enduml\r\n",
       "\n",
       "PlantUML version 1.2020.13(Sat Jun 13 12:26:38 UTC 2020)\n",
       "(EPL source distribution)\n",
       "Java Runtime: OpenJDK Runtime Environment\n",
       "JVM: OpenJDK 64-Bit Server VM\n",
       "Default Encoding: UTF-8\n",
       "Language: en\n",
       "Country: null\n",
       "--></g></svg>"
      ]
     },
     "execution_count": 33,
     "metadata": {},
     "output_type": "execute_result"
    }
   ],
   "source": [
    "%viz --style=\"PLANTUML\" --view=\"Interconnection\" \"QualifiedNameImportTest\""
   ]
  },
  {
   "cell_type": "code",
   "execution_count": 34,
   "id": "mounted-farming",
   "metadata": {
    "execution": {
     "iopub.execute_input": "2021-03-26T09:43:32.416734Z",
     "iopub.status.busy": "2021-03-26T09:43:32.415866Z",
     "iopub.status.idle": "2021-03-26T09:43:32.417974Z",
     "shell.execute_reply": "2021-03-26T09:43:32.418470Z"
    }
   },
   "outputs": [
    {
     "data": {
      "text/plain": [
       "java.lang.IllegalArgumentException: Invalid View: Action View candidates are: Default Tree StateMachine Interconnection Activity Sequence MIXED \n",
       "\tat org.omg.sysml.plantuml.SysML2PlantUMLSvc.setView(SysML2PlantUMLSvc.java:63)\n",
       "\tat org.omg.sysml.interactive.SysMLInteractive.viz(SysMLInteractive.java:286)\n",
       "\tat org.omg.sysml.jupyter.kernel.magic.Viz.viz(Viz.java:47)\n",
       "\tat jdk.internal.reflect.GeneratedMethodAccessor7.invoke(Unknown Source)\n",
       "\tat java.base/jdk.internal.reflect.DelegatingMethodAccessorImpl.invoke(DelegatingMethodAccessorImpl.java:43)\n",
       "\tat java.base/java.lang.reflect.Method.invoke(Method.java:568)\n",
       "\tat io.github.spencerpark.jupyter.kernel.magic.registry.Magics.invoke(Magics.java:89)\n",
       "\tat io.github.spencerpark.jupyter.kernel.magic.registry.Magics.access$000(Magics.java:8)\n",
       "\tat io.github.spencerpark.jupyter.kernel.magic.registry.Magics$LineReflectionMagicFunction.execute(Magics.java:149)\n",
       "\tat io.github.spencerpark.jupyter.kernel.magic.registry.Magics.applyLineMagic(Magics.java:26)\n",
       "\tat org.omg.sysml.jupyter.kernel.SysMLKernel.eval(SysMLKernel.java:76)\n",
       "\tat io.github.spencerpark.jupyter.kernel.BaseKernel.handleExecuteRequest(BaseKernel.java:334)\n",
       "\tat io.github.spencerpark.jupyter.channels.ShellChannel.lambda$bind$0(ShellChannel.java:64)\n",
       "\tat io.github.spencerpark.jupyter.channels.Loop.lambda$new$0(Loop.java:21)\n",
       "\tat io.github.spencerpark.jupyter.channels.Loop.run(Loop.java:78)\n"
      ]
     },
     "execution_count": 34,
     "metadata": {},
     "output_type": "execute_result"
    }
   ],
   "source": [
    "%viz --style=\"PLANTUML\" --view=\"Action\" \"QualifiedNameImportTest\""
   ]
  },
  {
   "cell_type": "code",
   "execution_count": 35,
   "id": "bulgarian-nation",
   "metadata": {
    "execution": {
     "iopub.execute_input": "2021-03-26T09:43:32.470264Z",
     "iopub.status.busy": "2021-03-26T09:43:32.469576Z",
     "iopub.status.idle": "2021-03-26T09:43:32.497295Z",
     "shell.execute_reply": "2021-03-26T09:43:32.495807Z"
    }
   },
   "outputs": [
    {
     "data": {
      "image/svg+xml": [
       "<?xml version=\"1.0\" encoding=\"UTF-8\" standalone=\"no\"?><svg xmlns=\"http://www.w3.org/2000/svg\" xmlns:xlink=\"http://www.w3.org/1999/xlink\" contentScriptType=\"application/ecmascript\" contentStyleType=\"text/css\" height=\"304px\" preserveAspectRatio=\"none\" style=\"width:271px;height:304px;\" version=\"1.1\" viewBox=\"0 0 271 304\" width=\"271px\" zoomAndPan=\"magnify\"><defs><filter height=\"300%\" id=\"f1ci3ct1u398ga\" width=\"300%\" x=\"-1\" y=\"-1\"><feGaussianBlur result=\"blurOut\" stdDeviation=\"2.0\"/><feColorMatrix in=\"blurOut\" result=\"blurOut2\" type=\"matrix\" values=\"0 0 0 0 0 0 0 0 0 0 0 0 0 0 0 0 0 0 .4 0\"/><feOffset dx=\"4.0\" dy=\"4.0\" in=\"blurOut2\" result=\"blurOut3\"/><feBlend in=\"SourceGraphic\" in2=\"blurOut3\" mode=\"normal\"/></filter></defs><g><!--MD5=[fbc87193dbaf4d95561dea2c320d4a47]\n",
       "cluster E1--><polygon fill=\"#FFFFFF\" filter=\"url(#f1ci3ct1u398ga)\" points=\"16,6,221,6,228,28.2969,249,28.2969,249,292,16,292,16,6\" style=\"stroke: #000000; stroke-width: 1.5;\"/><line style=\"stroke: #000000; stroke-width: 1.5;\" x1=\"16\" x2=\"228\" y1=\"28.2969\" y2=\"28.2969\"/><text fill=\"#000000\" font-family=\"sans-serif\" font-size=\"14\" font-weight=\"bold\" lengthAdjust=\"spacingAndGlyphs\" textLength=\"199\" x=\"20\" y=\"20.9951\">QualifiedNameImportTest</text><!--MD5=[e4f7fae6ed58524ba242bb0b0d3be6b7]\n",
       "cluster E2--><polygon fill=\"#FFFFFF\" filter=\"url(#f1ci3ct1u398ga)\" points=\"139,177,165,177,172,199.2969,211,199.2969,211,268,139,268,139,177\" style=\"stroke: #000000; stroke-width: 1.5;\"/><line style=\"stroke: #000000; stroke-width: 1.5;\" x1=\"139\" x2=\"172\" y1=\"199.2969\" y2=\"199.2969\"/><text fill=\"#000000\" font-family=\"sans-serif\" font-size=\"14\" font-weight=\"bold\" lengthAdjust=\"spacingAndGlyphs\" textLength=\"20\" x=\"143\" y=\"191.9951\">P1</text><!--MD5=[f6df4d0ebaf0b5dfb2ced0ae5af7c670]\n",
       "cluster E4--><polygon fill=\"#FFFFFF\" filter=\"url(#f1ci3ct1u398ga)\" points=\"40,49,66,49,73,71.2969,225,71.2969,225,153,40,153,40,49\" style=\"stroke: #000000; stroke-width: 1.5;\"/><line style=\"stroke: #000000; stroke-width: 1.5;\" x1=\"40\" x2=\"73\" y1=\"71.2969\" y2=\"71.2969\"/><text fill=\"#000000\" font-family=\"sans-serif\" font-size=\"14\" font-weight=\"bold\" lengthAdjust=\"spacingAndGlyphs\" textLength=\"20\" x=\"44\" y=\"63.9951\">P2</text><!--MD5=[09b614a08d8cba4a07c9adeb5e0fee81]\n",
       "class E3--><rect fill=\"#FEFECE\" filter=\"url(#f1ci3ct1u398ga)\" height=\"40\" id=\"E3\" style=\"stroke: #A80036; stroke-width: 1.5;\" width=\"40\" x=\"155\" y=\"212\"/><ellipse cx=\"170\" cy=\"228\" fill=\"#008000\" rx=\"11\" ry=\"11\" style=\"stroke: #A80036; stroke-width: 1.0;\"/><path d=\"M168.9063,228.375 L168.9063,232.0469 L170.5313,232.0469 Q171.7031,232.0469 172.1719,231.6563 Q172.6406,231.25 172.6406,230.25 Q172.6406,229.25 172.1406,228.8125 Q171.6563,228.375 170.5313,228.375 L168.9063,228.375 Z M168.9063,223.5469 L168.9063,226.4219 L170.5313,226.4219 Q171.4531,226.4219 171.8438,226.0938 Q172.25,225.75 172.25,225 Q172.25,224.2344 171.8438,223.8906 Q171.4375,223.5469 170.5313,223.5469 L168.9063,223.5469 Z M166.5313,221.5938 L170.5313,221.5938 Q172.5938,221.5938 173.6406,222.375 Q174.6875,223.1563 174.6875,224.7188 Q174.6875,225.9219 174.0625,226.5938 Q173.4531,227.2656 172.2656,227.375 Q173.6875,227.5156 174.4063,228.3281 Q175.125,229.1406 175.125,230.5938 Q175.125,232.3906 174.0469,233.2031 Q172.9688,234 170.5313,234 L166.5313,234 L166.5313,221.5938 Z \"/><text fill=\"#000000\" font-family=\"sans-serif\" font-size=\"12\" lengthAdjust=\"spacingAndGlyphs\" textLength=\"8\" x=\"184\" y=\"232.1543\">A</text><line style=\"stroke: #A80036; stroke-width: 1.5;\" x1=\"156\" x2=\"194\" y1=\"244\" y2=\"244\"/><!--MD5=[60a26617385b1d2d0262a64233df1f8d]\n",
       "class E6--><rect fill=\"#FEFECE\" filter=\"url(#f1ci3ct1u398ga)\" height=\"45.9375\" id=\"E6\" rx=\"10\" ry=\"10\" style=\"stroke: #A80036; stroke-width: 1.5;\" width=\"68\" x=\"141\" y=\"87.5\"/><ellipse cx=\"156\" cy=\"106.4688\" fill=\"#32CD32\" rx=\"11\" ry=\"11\" style=\"stroke: #A80036; stroke-width: 1.0;\"/><path d=\"M155.7969,102.1406 L155.7969,105.7656 L156.7969,105.7656 Q158,105.7656 158.4844,105.3594 Q158.9688,104.9531 158.9688,103.9531 Q158.9688,102.9531 158.4844,102.5469 Q158,102.1406 156.7969,102.1406 L155.7969,102.1406 Z M153.3438,100.0781 L156.7031,100.0781 Q159.2656,100.0781 160.3906,101 Q161.5156,101.9063 161.5156,103.9531 Q161.5156,106 160.3906,106.9219 Q159.2656,107.8281 156.7031,107.8281 L155.7969,107.8281 L155.7969,112.4688 L153.3438,112.4688 L153.3438,100.0781 Z \"/><text fill=\"#000000\" font-family=\"sans-serif\" font-size=\"12\" font-style=\"italic\" lengthAdjust=\"spacingAndGlyphs\" textLength=\"40\" x=\"168\" y=\"103.6387\">«part»</text><text fill=\"#000000\" font-family=\"sans-serif\" font-size=\"12\" lengthAdjust=\"spacingAndGlyphs\" textLength=\"22\" x=\"177\" y=\"117.6074\">x: A</text><line style=\"stroke: #A80036; stroke-width: 1.5;\" x1=\"142\" x2=\"208\" y1=\"125.4375\" y2=\"125.4375\"/><polygon fill=\"#FFFFFF\" filter=\"url(#f1ci3ct1u398ga)\" points=\"56.5,84,91.5,84,98.5,106.2969,105.5,106.2969,105.5,136.5938,56.5,136.5938,56.5,84\" style=\"stroke: #000000; stroke-width: 1.5;\"/><line style=\"stroke: #000000; stroke-width: 1.5;\" x1=\"56.5\" x2=\"98.5\" y1=\"106.2969\" y2=\"106.2969\"/><text fill=\"#000000\" font-family=\"sans-serif\" font-size=\"14\" font-weight=\"bold\" lengthAdjust=\"spacingAndGlyphs\" textLength=\"29\" x=\"60.5\" y=\"98.9951\">P2a</text><!--MD5=[a717450b82c80b9240a525fa862496af]\n",
       "link E6 to E3--><path d=\"M175,133.7 C175,149.89 175,172.27 175,191.49 \" fill=\"none\" id=\"E6-&gt;E3\" style=\"stroke: #A80036; stroke-width: 1.0;\"/><polygon fill=\"#FFFFFF\" points=\"175,211.69,168,192.69,182,192.69,175,211.69\" style=\"stroke: #A80036; stroke-width: 1.0;\"/><ellipse cx=\"170\" cy=\"186.99\" fill=\"#A80036\" rx=\"2\" ry=\"2\" style=\"stroke: #A80036; stroke-width: 1.0;\"/><ellipse cx=\"180\" cy=\"186.99\" fill=\"#A80036\" rx=\"2\" ry=\"2\" style=\"stroke: #A80036; stroke-width: 1.0;\"/><!--MD5=[461a111251b07ab80ea844fd57a13c75]\n",
       "@startuml\r\n",
       " \r\n",
       "package \"QualifiedNameImportTest\" as E1   {\r\n",
       "package \"P1\" as E2   {\r\n",
       "comp def \"A\" as E3  << (B,green) >> {\r\n",
       "}\r\n",
       "}\r\n",
       "package \"P2\" as E4   {\r\n",
       "package \"P2a\" as E5   {\r\n",
       "}\r\n",
       "comp usage \"x: A\" as E6  << (P,limegreen) part>> {\r\n",
       "}\r\n",
       "E6 - -:|> E3\r\n",
       "}\r\n",
       "}\r\n",
       "@enduml\r\n",
       "\n",
       "PlantUML version 1.2020.13(Sat Jun 13 12:26:38 UTC 2020)\n",
       "(EPL source distribution)\n",
       "Java Runtime: OpenJDK Runtime Environment\n",
       "JVM: OpenJDK 64-Bit Server VM\n",
       "Default Encoding: UTF-8\n",
       "Language: en\n",
       "Country: null\n",
       "--></g></svg>"
      ]
     },
     "execution_count": 35,
     "metadata": {},
     "output_type": "execute_result"
    }
   ],
   "source": [
    "%viz --style=\"PLANTUML\" --view=\"Sequence\" \"QualifiedNameImportTest\""
   ]
  },
  {
   "cell_type": "code",
   "execution_count": 36,
   "id": "satisfied-webmaster",
   "metadata": {
    "execution": {
     "iopub.execute_input": "2021-03-26T09:43:32.550091Z",
     "iopub.status.busy": "2021-03-26T09:43:32.548364Z",
     "iopub.status.idle": "2021-03-26T09:43:32.577647Z",
     "shell.execute_reply": "2021-03-26T09:43:32.576518Z"
    }
   },
   "outputs": [
    {
     "data": {
      "image/svg+xml": [
       "<?xml version=\"1.0\" encoding=\"UTF-8\" standalone=\"no\"?><svg xmlns=\"http://www.w3.org/2000/svg\" xmlns:xlink=\"http://www.w3.org/1999/xlink\" contentScriptType=\"application/ecmascript\" contentStyleType=\"text/css\" height=\"304px\" preserveAspectRatio=\"none\" style=\"width:271px;height:304px;\" version=\"1.1\" viewBox=\"0 0 271 304\" width=\"271px\" zoomAndPan=\"magnify\"><defs><filter height=\"300%\" id=\"f1ci3ct1u398ga\" width=\"300%\" x=\"-1\" y=\"-1\"><feGaussianBlur result=\"blurOut\" stdDeviation=\"2.0\"/><feColorMatrix in=\"blurOut\" result=\"blurOut2\" type=\"matrix\" values=\"0 0 0 0 0 0 0 0 0 0 0 0 0 0 0 0 0 0 .4 0\"/><feOffset dx=\"4.0\" dy=\"4.0\" in=\"blurOut2\" result=\"blurOut3\"/><feBlend in=\"SourceGraphic\" in2=\"blurOut3\" mode=\"normal\"/></filter></defs><g><!--MD5=[fbc87193dbaf4d95561dea2c320d4a47]\n",
       "cluster E1--><polygon fill=\"#FFFFFF\" filter=\"url(#f1ci3ct1u398ga)\" points=\"16,6,221,6,228,28.2969,249,28.2969,249,292,16,292,16,6\" style=\"stroke: #000000; stroke-width: 1.5;\"/><line style=\"stroke: #000000; stroke-width: 1.5;\" x1=\"16\" x2=\"228\" y1=\"28.2969\" y2=\"28.2969\"/><text fill=\"#000000\" font-family=\"sans-serif\" font-size=\"14\" font-weight=\"bold\" lengthAdjust=\"spacingAndGlyphs\" textLength=\"199\" x=\"20\" y=\"20.9951\">QualifiedNameImportTest</text><!--MD5=[e4f7fae6ed58524ba242bb0b0d3be6b7]\n",
       "cluster E2--><polygon fill=\"#FFFFFF\" filter=\"url(#f1ci3ct1u398ga)\" points=\"139,177,165,177,172,199.2969,211,199.2969,211,268,139,268,139,177\" style=\"stroke: #000000; stroke-width: 1.5;\"/><line style=\"stroke: #000000; stroke-width: 1.5;\" x1=\"139\" x2=\"172\" y1=\"199.2969\" y2=\"199.2969\"/><text fill=\"#000000\" font-family=\"sans-serif\" font-size=\"14\" font-weight=\"bold\" lengthAdjust=\"spacingAndGlyphs\" textLength=\"20\" x=\"143\" y=\"191.9951\">P1</text><!--MD5=[f6df4d0ebaf0b5dfb2ced0ae5af7c670]\n",
       "cluster E4--><polygon fill=\"#FFFFFF\" filter=\"url(#f1ci3ct1u398ga)\" points=\"40,49,66,49,73,71.2969,225,71.2969,225,153,40,153,40,49\" style=\"stroke: #000000; stroke-width: 1.5;\"/><line style=\"stroke: #000000; stroke-width: 1.5;\" x1=\"40\" x2=\"73\" y1=\"71.2969\" y2=\"71.2969\"/><text fill=\"#000000\" font-family=\"sans-serif\" font-size=\"14\" font-weight=\"bold\" lengthAdjust=\"spacingAndGlyphs\" textLength=\"20\" x=\"44\" y=\"63.9951\">P2</text><!--MD5=[09b614a08d8cba4a07c9adeb5e0fee81]\n",
       "class E3--><rect fill=\"#FEFECE\" filter=\"url(#f1ci3ct1u398ga)\" height=\"40\" id=\"E3\" style=\"stroke: #A80036; stroke-width: 1.5;\" width=\"40\" x=\"155\" y=\"212\"/><ellipse cx=\"170\" cy=\"228\" fill=\"#008000\" rx=\"11\" ry=\"11\" style=\"stroke: #A80036; stroke-width: 1.0;\"/><path d=\"M168.9063,228.375 L168.9063,232.0469 L170.5313,232.0469 Q171.7031,232.0469 172.1719,231.6563 Q172.6406,231.25 172.6406,230.25 Q172.6406,229.25 172.1406,228.8125 Q171.6563,228.375 170.5313,228.375 L168.9063,228.375 Z M168.9063,223.5469 L168.9063,226.4219 L170.5313,226.4219 Q171.4531,226.4219 171.8438,226.0938 Q172.25,225.75 172.25,225 Q172.25,224.2344 171.8438,223.8906 Q171.4375,223.5469 170.5313,223.5469 L168.9063,223.5469 Z M166.5313,221.5938 L170.5313,221.5938 Q172.5938,221.5938 173.6406,222.375 Q174.6875,223.1563 174.6875,224.7188 Q174.6875,225.9219 174.0625,226.5938 Q173.4531,227.2656 172.2656,227.375 Q173.6875,227.5156 174.4063,228.3281 Q175.125,229.1406 175.125,230.5938 Q175.125,232.3906 174.0469,233.2031 Q172.9688,234 170.5313,234 L166.5313,234 L166.5313,221.5938 Z \"/><text fill=\"#000000\" font-family=\"sans-serif\" font-size=\"12\" lengthAdjust=\"spacingAndGlyphs\" textLength=\"8\" x=\"184\" y=\"232.1543\">A</text><line style=\"stroke: #A80036; stroke-width: 1.5;\" x1=\"156\" x2=\"194\" y1=\"244\" y2=\"244\"/><!--MD5=[60a26617385b1d2d0262a64233df1f8d]\n",
       "class E6--><rect fill=\"#FEFECE\" filter=\"url(#f1ci3ct1u398ga)\" height=\"45.9375\" id=\"E6\" rx=\"10\" ry=\"10\" style=\"stroke: #A80036; stroke-width: 1.5;\" width=\"68\" x=\"141\" y=\"87.5\"/><ellipse cx=\"156\" cy=\"106.4688\" fill=\"#32CD32\" rx=\"11\" ry=\"11\" style=\"stroke: #A80036; stroke-width: 1.0;\"/><path d=\"M155.7969,102.1406 L155.7969,105.7656 L156.7969,105.7656 Q158,105.7656 158.4844,105.3594 Q158.9688,104.9531 158.9688,103.9531 Q158.9688,102.9531 158.4844,102.5469 Q158,102.1406 156.7969,102.1406 L155.7969,102.1406 Z M153.3438,100.0781 L156.7031,100.0781 Q159.2656,100.0781 160.3906,101 Q161.5156,101.9063 161.5156,103.9531 Q161.5156,106 160.3906,106.9219 Q159.2656,107.8281 156.7031,107.8281 L155.7969,107.8281 L155.7969,112.4688 L153.3438,112.4688 L153.3438,100.0781 Z \"/><text fill=\"#000000\" font-family=\"sans-serif\" font-size=\"12\" font-style=\"italic\" lengthAdjust=\"spacingAndGlyphs\" textLength=\"40\" x=\"168\" y=\"103.6387\">«part»</text><text fill=\"#000000\" font-family=\"sans-serif\" font-size=\"12\" lengthAdjust=\"spacingAndGlyphs\" textLength=\"22\" x=\"177\" y=\"117.6074\">x: A</text><line style=\"stroke: #A80036; stroke-width: 1.5;\" x1=\"142\" x2=\"208\" y1=\"125.4375\" y2=\"125.4375\"/><polygon fill=\"#FFFFFF\" filter=\"url(#f1ci3ct1u398ga)\" points=\"56.5,84,91.5,84,98.5,106.2969,105.5,106.2969,105.5,136.5938,56.5,136.5938,56.5,84\" style=\"stroke: #000000; stroke-width: 1.5;\"/><line style=\"stroke: #000000; stroke-width: 1.5;\" x1=\"56.5\" x2=\"98.5\" y1=\"106.2969\" y2=\"106.2969\"/><text fill=\"#000000\" font-family=\"sans-serif\" font-size=\"14\" font-weight=\"bold\" lengthAdjust=\"spacingAndGlyphs\" textLength=\"29\" x=\"60.5\" y=\"98.9951\">P2a</text><!--MD5=[a717450b82c80b9240a525fa862496af]\n",
       "link E6 to E3--><path d=\"M175,133.7 C175,149.89 175,172.27 175,191.49 \" fill=\"none\" id=\"E6-&gt;E3\" style=\"stroke: #A80036; stroke-width: 1.0;\"/><polygon fill=\"#FFFFFF\" points=\"175,211.69,168,192.69,182,192.69,175,211.69\" style=\"stroke: #A80036; stroke-width: 1.0;\"/><ellipse cx=\"170\" cy=\"186.99\" fill=\"#A80036\" rx=\"2\" ry=\"2\" style=\"stroke: #A80036; stroke-width: 1.0;\"/><ellipse cx=\"180\" cy=\"186.99\" fill=\"#A80036\" rx=\"2\" ry=\"2\" style=\"stroke: #A80036; stroke-width: 1.0;\"/><!--MD5=[461a111251b07ab80ea844fd57a13c75]\n",
       "@startuml\r\n",
       " \r\n",
       "package \"QualifiedNameImportTest\" as E1   {\r\n",
       "package \"P1\" as E2   {\r\n",
       "comp def \"A\" as E3  << (B,green) >> {\r\n",
       "}\r\n",
       "}\r\n",
       "package \"P2\" as E4   {\r\n",
       "package \"P2a\" as E5   {\r\n",
       "}\r\n",
       "comp usage \"x: A\" as E6  << (P,limegreen) part>> {\r\n",
       "}\r\n",
       "E6 - -:|> E3\r\n",
       "}\r\n",
       "}\r\n",
       "@enduml\r\n",
       "\n",
       "PlantUML version 1.2020.13(Sat Jun 13 12:26:38 UTC 2020)\n",
       "(EPL source distribution)\n",
       "Java Runtime: OpenJDK Runtime Environment\n",
       "JVM: OpenJDK 64-Bit Server VM\n",
       "Default Encoding: UTF-8\n",
       "Language: en\n",
       "Country: null\n",
       "--></g></svg>"
      ]
     },
     "execution_count": 36,
     "metadata": {},
     "output_type": "execute_result"
    }
   ],
   "source": [
    "%viz --style=\"PLANTUML\" --view=\"MIXED\" \"QualifiedNameImportTest\""
   ]
  },
  {
   "cell_type": "code",
   "execution_count": 37,
   "id": "mexican-wisdom",
   "metadata": {
    "execution": {
     "iopub.execute_input": "2021-03-26T09:43:32.629817Z",
     "iopub.status.busy": "2021-03-26T09:43:32.629259Z",
     "iopub.status.idle": "2021-03-26T09:43:32.657930Z",
     "shell.execute_reply": "2021-03-26T09:43:32.657593Z"
    }
   },
   "outputs": [
    {
     "data": {
      "image/svg+xml": [
       "<?xml version=\"1.0\" encoding=\"UTF-8\" standalone=\"no\"?><svg xmlns=\"http://www.w3.org/2000/svg\" xmlns:xlink=\"http://www.w3.org/1999/xlink\" contentScriptType=\"application/ecmascript\" contentStyleType=\"text/css\" height=\"310px\" preserveAspectRatio=\"none\" style=\"width:253px;height:310px;\" version=\"1.1\" viewBox=\"0 0 253 310\" width=\"253px\" zoomAndPan=\"magnify\"><defs/><g><!--MD5=[fbc87193dbaf4d95561dea2c320d4a47]\n",
       "cluster E1--><polygon fill=\"#FFFFFF\" points=\"16,6,221,6,228,28.2969,231,28.2969,231,298,16,298,16,6\" style=\"stroke: #000000; stroke-width: 1.5;\"/><line style=\"stroke: #000000; stroke-width: 1.5;\" x1=\"16\" x2=\"228\" y1=\"28.2969\" y2=\"28.2969\"/><text fill=\"#000000\" font-family=\"sans-serif\" font-size=\"14\" font-weight=\"bold\" lengthAdjust=\"spacingAndGlyphs\" textLength=\"199\" x=\"20\" y=\"20.9951\">QualifiedNameImportTest</text><!--MD5=[e4f7fae6ed58524ba242bb0b0d3be6b7]\n",
       "cluster E2--><polygon fill=\"#FFFFFF\" points=\"105,177,131,177,138,199.2969,203,199.2969,203,274,105,274,105,177\" style=\"stroke: #000000; stroke-width: 1.5;\"/><line style=\"stroke: #000000; stroke-width: 1.5;\" x1=\"105\" x2=\"138\" y1=\"199.2969\" y2=\"199.2969\"/><text fill=\"#000000\" font-family=\"sans-serif\" font-size=\"14\" font-weight=\"bold\" lengthAdjust=\"spacingAndGlyphs\" textLength=\"20\" x=\"109\" y=\"191.9951\">P1</text><!--MD5=[f6df4d0ebaf0b5dfb2ced0ae5af7c670]\n",
       "cluster E4--><polygon fill=\"#FFFFFF\" points=\"44,49,70,49,77,71.2969,203,71.2969,203,153,44,153,44,49\" style=\"stroke: #000000; stroke-width: 1.5;\"/><line style=\"stroke: #000000; stroke-width: 1.5;\" x1=\"44\" x2=\"77\" y1=\"71.2969\" y2=\"71.2969\"/><text fill=\"#000000\" font-family=\"sans-serif\" font-size=\"14\" font-weight=\"bold\" lengthAdjust=\"spacingAndGlyphs\" textLength=\"20\" x=\"48\" y=\"63.9951\">P2</text><!--MD5=[09b614a08d8cba4a07c9adeb5e0fee81]\n",
       "class E3--><rect fill=\"#FFFFFF\" height=\"45.9375\" id=\"E3\" style=\"stroke: #383838; stroke-width: 1.5;\" width=\"66\" x=\"121\" y=\"212\"/><text fill=\"#000000\" font-family=\"sans-serif\" font-size=\"12\" font-style=\"italic\" lengthAdjust=\"spacingAndGlyphs\" textLength=\"64\" x=\"122\" y=\"228.1387\">«part def»</text><text fill=\"#000000\" font-family=\"sans-serif\" font-size=\"12\" lengthAdjust=\"spacingAndGlyphs\" textLength=\"8\" x=\"150\" y=\"242.1074\">A</text><line style=\"stroke: #383838; stroke-width: 1.5;\" x1=\"122\" x2=\"186\" y1=\"249.9375\" y2=\"249.9375\"/><!--MD5=[60a26617385b1d2d0262a64233df1f8d]\n",
       "class E6--><rect fill=\"#FFFFFF\" height=\"45.9375\" id=\"E6\" rx=\"10\" ry=\"10\" style=\"stroke: #383838; stroke-width: 1.5;\" width=\"42\" x=\"145\" y=\"87.5\"/><text fill=\"#000000\" font-family=\"sans-serif\" font-size=\"12\" font-style=\"italic\" lengthAdjust=\"spacingAndGlyphs\" textLength=\"40\" x=\"146\" y=\"103.6387\">«part»</text><text fill=\"#000000\" font-family=\"sans-serif\" font-size=\"12\" lengthAdjust=\"spacingAndGlyphs\" textLength=\"22\" x=\"155\" y=\"117.6074\">x: A</text><line style=\"stroke: #383838; stroke-width: 1.5;\" x1=\"146\" x2=\"186\" y1=\"125.4375\" y2=\"125.4375\"/><polygon fill=\"#FFFFFF\" points=\"60.5,84,95.5,84,102.5,106.2969,109.5,106.2969,109.5,136.5938,60.5,136.5938,60.5,84\" style=\"stroke: #000000; stroke-width: 1.5;\"/><line style=\"stroke: #000000; stroke-width: 1.5;\" x1=\"60.5\" x2=\"102.5\" y1=\"106.2969\" y2=\"106.2969\"/><text fill=\"#000000\" font-family=\"sans-serif\" font-size=\"14\" font-weight=\"bold\" lengthAdjust=\"spacingAndGlyphs\" textLength=\"29\" x=\"64.5\" y=\"98.9951\">P2a</text><!--MD5=[a717450b82c80b9240a525fa862496af]\n",
       "link E6 to E3--><path d=\"M163.83,133.68 C162.24,149.9 160.04,172.39 158.12,191.96 \" fill=\"none\" id=\"E6-&gt;E3\" style=\"stroke: #383838; stroke-width: 1.0;\"/><polygon fill=\"#FFFFFF\" points=\"156.16,211.98,151.0533,192.3861,164.986,193.7564,156.16,211.98\" style=\"stroke: #383838; stroke-width: 1.0;\"/><ellipse cx=\"153.6016\" cy=\"186.9092\" fill=\"#383838\" rx=\"2\" ry=\"2\" style=\"stroke: #383838; stroke-width: 1.0;\"/><ellipse cx=\"163.5535\" cy=\"187.888\" fill=\"#383838\" rx=\"2\" ry=\"2\" style=\"stroke: #383838; stroke-width: 1.0;\"/><!--MD5=[24f3a2c9e76a953043ddeb47f2ec04b8]\n",
       "@startuml\r\n",
       "skinparam monochrome true\r\n",
       "skinparam classbackgroundcolor white\r\n",
       "skinparam shadowing false\r\n",
       "skinparam wrapWidth 300\r\n",
       "hide circle\r\n",
       "\r\n",
       "package \"QualifiedNameImportTest\" as E1   {\r\n",
       "package \"P1\" as E2   {\r\n",
       "comp def \"A\" as E3  <<(T,blue)part def>> {\r\n",
       "}\r\n",
       "}\r\n",
       "package \"P2\" as E4   {\r\n",
       "package \"P2a\" as E5   {\r\n",
       "}\r\n",
       "comp usage \"x: A\" as E6  <<(T,blue)part>> {\r\n",
       "}\r\n",
       "E6 - -:|> E3\r\n",
       "}\r\n",
       "}\r\n",
       "@enduml\r\n",
       "\n",
       "PlantUML version 1.2020.13(Sat Jun 13 12:26:38 UTC 2020)\n",
       "(EPL source distribution)\n",
       "Java Runtime: OpenJDK Runtime Environment\n",
       "JVM: OpenJDK 64-Bit Server VM\n",
       "Default Encoding: UTF-8\n",
       "Language: en\n",
       "Country: null\n",
       "--></g></svg>"
      ]
     },
     "execution_count": 37,
     "metadata": {},
     "output_type": "execute_result"
    }
   ],
   "source": [
    "%viz --style=\"DEFAULT\" --view=\"Default\" \"QualifiedNameImportTest\""
   ]
  },
  {
   "cell_type": "code",
   "execution_count": 38,
   "id": "amber-thumbnail",
   "metadata": {
    "execution": {
     "iopub.execute_input": "2021-03-26T09:43:32.708303Z",
     "iopub.status.busy": "2021-03-26T09:43:32.707948Z",
     "iopub.status.idle": "2021-03-26T09:43:32.735640Z",
     "shell.execute_reply": "2021-03-26T09:43:32.735345Z"
    }
   },
   "outputs": [
    {
     "data": {
      "image/svg+xml": [
       "<?xml version=\"1.0\" encoding=\"UTF-8\" standalone=\"no\"?><svg xmlns=\"http://www.w3.org/2000/svg\" xmlns:xlink=\"http://www.w3.org/1999/xlink\" contentScriptType=\"application/ecmascript\" contentStyleType=\"text/css\" height=\"310px\" preserveAspectRatio=\"none\" style=\"width:253px;height:310px;\" version=\"1.1\" viewBox=\"0 0 253 310\" width=\"253px\" zoomAndPan=\"magnify\"><defs/><g><!--MD5=[fbc87193dbaf4d95561dea2c320d4a47]\n",
       "cluster E1--><polygon fill=\"#FFFFFF\" points=\"16,6,221,6,228,28.2969,231,28.2969,231,298,16,298,16,6\" style=\"stroke: #000000; stroke-width: 1.5;\"/><line style=\"stroke: #000000; stroke-width: 1.5;\" x1=\"16\" x2=\"228\" y1=\"28.2969\" y2=\"28.2969\"/><text fill=\"#000000\" font-family=\"sans-serif\" font-size=\"14\" font-weight=\"bold\" lengthAdjust=\"spacingAndGlyphs\" textLength=\"199\" x=\"20\" y=\"20.9951\">QualifiedNameImportTest</text><!--MD5=[e4f7fae6ed58524ba242bb0b0d3be6b7]\n",
       "cluster E2--><polygon fill=\"#FFFFFF\" points=\"105,177,131,177,138,199.2969,203,199.2969,203,274,105,274,105,177\" style=\"stroke: #000000; stroke-width: 1.5;\"/><line style=\"stroke: #000000; stroke-width: 1.5;\" x1=\"105\" x2=\"138\" y1=\"199.2969\" y2=\"199.2969\"/><text fill=\"#000000\" font-family=\"sans-serif\" font-size=\"14\" font-weight=\"bold\" lengthAdjust=\"spacingAndGlyphs\" textLength=\"20\" x=\"109\" y=\"191.9951\">P1</text><!--MD5=[f6df4d0ebaf0b5dfb2ced0ae5af7c670]\n",
       "cluster E4--><polygon fill=\"#FFFFFF\" points=\"44,49,70,49,77,71.2969,203,71.2969,203,153,44,153,44,49\" style=\"stroke: #000000; stroke-width: 1.5;\"/><line style=\"stroke: #000000; stroke-width: 1.5;\" x1=\"44\" x2=\"77\" y1=\"71.2969\" y2=\"71.2969\"/><text fill=\"#000000\" font-family=\"sans-serif\" font-size=\"14\" font-weight=\"bold\" lengthAdjust=\"spacingAndGlyphs\" textLength=\"20\" x=\"48\" y=\"63.9951\">P2</text><!--MD5=[09b614a08d8cba4a07c9adeb5e0fee81]\n",
       "class E3--><rect fill=\"#FFFFFF\" height=\"45.9375\" id=\"E3\" style=\"stroke: #383838; stroke-width: 1.5;\" width=\"66\" x=\"121\" y=\"212\"/><text fill=\"#000000\" font-family=\"sans-serif\" font-size=\"12\" font-style=\"italic\" lengthAdjust=\"spacingAndGlyphs\" textLength=\"64\" x=\"122\" y=\"228.1387\">«part def»</text><text fill=\"#000000\" font-family=\"sans-serif\" font-size=\"12\" lengthAdjust=\"spacingAndGlyphs\" textLength=\"8\" x=\"150\" y=\"242.1074\">A</text><line style=\"stroke: #383838; stroke-width: 1.5;\" x1=\"122\" x2=\"186\" y1=\"249.9375\" y2=\"249.9375\"/><!--MD5=[60a26617385b1d2d0262a64233df1f8d]\n",
       "class E6--><rect fill=\"#FFFFFF\" height=\"45.9375\" id=\"E6\" rx=\"10\" ry=\"10\" style=\"stroke: #383838; stroke-width: 1.5;\" width=\"42\" x=\"145\" y=\"87.5\"/><text fill=\"#000000\" font-family=\"sans-serif\" font-size=\"12\" font-style=\"italic\" lengthAdjust=\"spacingAndGlyphs\" textLength=\"40\" x=\"146\" y=\"103.6387\">«part»</text><text fill=\"#000000\" font-family=\"sans-serif\" font-size=\"12\" lengthAdjust=\"spacingAndGlyphs\" textLength=\"22\" x=\"155\" y=\"117.6074\">x: A</text><line style=\"stroke: #383838; stroke-width: 1.5;\" x1=\"146\" x2=\"186\" y1=\"125.4375\" y2=\"125.4375\"/><polygon fill=\"#FFFFFF\" points=\"60.5,84,95.5,84,102.5,106.2969,109.5,106.2969,109.5,136.5938,60.5,136.5938,60.5,84\" style=\"stroke: #000000; stroke-width: 1.5;\"/><line style=\"stroke: #000000; stroke-width: 1.5;\" x1=\"60.5\" x2=\"102.5\" y1=\"106.2969\" y2=\"106.2969\"/><text fill=\"#000000\" font-family=\"sans-serif\" font-size=\"14\" font-weight=\"bold\" lengthAdjust=\"spacingAndGlyphs\" textLength=\"29\" x=\"64.5\" y=\"98.9951\">P2a</text><!--MD5=[a717450b82c80b9240a525fa862496af]\n",
       "link E6 to E3--><path d=\"M163.83,133.68 C162.24,149.9 160.04,172.39 158.12,191.96 \" fill=\"none\" id=\"E6-&gt;E3\" style=\"stroke: #383838; stroke-width: 1.0;\"/><polygon fill=\"#FFFFFF\" points=\"156.16,211.98,151.0533,192.3861,164.986,193.7564,156.16,211.98\" style=\"stroke: #383838; stroke-width: 1.0;\"/><ellipse cx=\"153.6016\" cy=\"186.9092\" fill=\"#383838\" rx=\"2\" ry=\"2\" style=\"stroke: #383838; stroke-width: 1.0;\"/><ellipse cx=\"163.5535\" cy=\"187.888\" fill=\"#383838\" rx=\"2\" ry=\"2\" style=\"stroke: #383838; stroke-width: 1.0;\"/><!--MD5=[24f3a2c9e76a953043ddeb47f2ec04b8]\n",
       "@startuml\r\n",
       "skinparam monochrome true\r\n",
       "skinparam classbackgroundcolor white\r\n",
       "skinparam shadowing false\r\n",
       "skinparam wrapWidth 300\r\n",
       "hide circle\r\n",
       "\r\n",
       "package \"QualifiedNameImportTest\" as E1   {\r\n",
       "package \"P1\" as E2   {\r\n",
       "comp def \"A\" as E3  <<(T,blue)part def>> {\r\n",
       "}\r\n",
       "}\r\n",
       "package \"P2\" as E4   {\r\n",
       "package \"P2a\" as E5   {\r\n",
       "}\r\n",
       "comp usage \"x: A\" as E6  <<(T,blue)part>> {\r\n",
       "}\r\n",
       "E6 - -:|> E3\r\n",
       "}\r\n",
       "}\r\n",
       "@enduml\r\n",
       "\n",
       "PlantUML version 1.2020.13(Sat Jun 13 12:26:38 UTC 2020)\n",
       "(EPL source distribution)\n",
       "Java Runtime: OpenJDK Runtime Environment\n",
       "JVM: OpenJDK 64-Bit Server VM\n",
       "Default Encoding: UTF-8\n",
       "Language: en\n",
       "Country: null\n",
       "--></g></svg>"
      ]
     },
     "execution_count": 38,
     "metadata": {},
     "output_type": "execute_result"
    }
   ],
   "source": [
    "%viz --style=\"DEFAULT\" --view=\"Tree\" \"QualifiedNameImportTest\""
   ]
  },
  {
   "cell_type": "code",
   "execution_count": 39,
   "id": "armed-territory",
   "metadata": {
    "execution": {
     "iopub.execute_input": "2021-03-26T09:43:32.786662Z",
     "iopub.status.busy": "2021-03-26T09:43:32.786073Z",
     "iopub.status.idle": "2021-03-26T09:43:32.787948Z",
     "shell.execute_reply": "2021-03-26T09:43:32.788332Z"
    }
   },
   "outputs": [
    {
     "data": {
      "text/plain": [
       "java.lang.IllegalArgumentException: Invalid View: State View candidates are: Default Tree StateMachine Interconnection Activity Sequence MIXED \n",
       "\tat org.omg.sysml.plantuml.SysML2PlantUMLSvc.setView(SysML2PlantUMLSvc.java:63)\n",
       "\tat org.omg.sysml.interactive.SysMLInteractive.viz(SysMLInteractive.java:286)\n",
       "\tat org.omg.sysml.jupyter.kernel.magic.Viz.viz(Viz.java:47)\n",
       "\tat jdk.internal.reflect.GeneratedMethodAccessor7.invoke(Unknown Source)\n",
       "\tat java.base/jdk.internal.reflect.DelegatingMethodAccessorImpl.invoke(DelegatingMethodAccessorImpl.java:43)\n",
       "\tat java.base/java.lang.reflect.Method.invoke(Method.java:568)\n",
       "\tat io.github.spencerpark.jupyter.kernel.magic.registry.Magics.invoke(Magics.java:89)\n",
       "\tat io.github.spencerpark.jupyter.kernel.magic.registry.Magics.access$000(Magics.java:8)\n",
       "\tat io.github.spencerpark.jupyter.kernel.magic.registry.Magics$LineReflectionMagicFunction.execute(Magics.java:149)\n",
       "\tat io.github.spencerpark.jupyter.kernel.magic.registry.Magics.applyLineMagic(Magics.java:26)\n",
       "\tat org.omg.sysml.jupyter.kernel.SysMLKernel.eval(SysMLKernel.java:76)\n",
       "\tat io.github.spencerpark.jupyter.kernel.BaseKernel.handleExecuteRequest(BaseKernel.java:334)\n",
       "\tat io.github.spencerpark.jupyter.channels.ShellChannel.lambda$bind$0(ShellChannel.java:64)\n",
       "\tat io.github.spencerpark.jupyter.channels.Loop.lambda$new$0(Loop.java:21)\n",
       "\tat io.github.spencerpark.jupyter.channels.Loop.run(Loop.java:78)\n"
      ]
     },
     "execution_count": 39,
     "metadata": {},
     "output_type": "execute_result"
    }
   ],
   "source": [
    "%viz --style=\"DEFAULT\" --view=\"State\" \"QualifiedNameImportTest\""
   ]
  },
  {
   "cell_type": "code",
   "execution_count": 40,
   "id": "extreme-malawi",
   "metadata": {
    "execution": {
     "iopub.execute_input": "2021-03-26T09:43:32.840830Z",
     "iopub.status.busy": "2021-03-26T09:43:32.840111Z",
     "iopub.status.idle": "2021-03-26T09:43:32.870253Z",
     "shell.execute_reply": "2021-03-26T09:43:32.869980Z"
    }
   },
   "outputs": [
    {
     "data": {
      "image/svg+xml": [
       "<?xml version=\"1.0\" encoding=\"UTF-8\" standalone=\"no\"?><svg xmlns=\"http://www.w3.org/2000/svg\" xmlns:xlink=\"http://www.w3.org/1999/xlink\" contentScriptType=\"application/ecmascript\" contentStyleType=\"text/css\" height=\"189px\" preserveAspectRatio=\"none\" style=\"width:401px;height:189px;\" version=\"1.1\" viewBox=\"0 0 401 189\" width=\"401px\" zoomAndPan=\"magnify\"><defs/><g><!--MD5=[fbc87193dbaf4d95561dea2c320d4a47]\n",
       "cluster E1--><polygon fill=\"#FFFFFF\" points=\"16,6,221,6,228,28.2969,379,28.2969,379,177,16,177,16,6\" style=\"stroke: #000000; stroke-width: 1.5;\"/><line style=\"stroke: #000000; stroke-width: 1.5;\" x1=\"16\" x2=\"228\" y1=\"28.2969\" y2=\"28.2969\"/><text fill=\"#000000\" font-family=\"sans-serif\" font-size=\"14\" font-weight=\"bold\" lengthAdjust=\"spacingAndGlyphs\" textLength=\"199\" x=\"20\" y=\"20.9951\">QualifiedNameImportTest</text><!--MD5=[e4f7fae6ed58524ba242bb0b0d3be6b7]\n",
       "cluster E2--><polygon fill=\"#FFFFFF\" points=\"231,49,257,49,264,71.2969,355,71.2969,355,153,231,153,231,49\" style=\"stroke: #000000; stroke-width: 1.5;\"/><line style=\"stroke: #000000; stroke-width: 1.5;\" x1=\"231\" x2=\"264\" y1=\"71.2969\" y2=\"71.2969\"/><text fill=\"#000000\" font-family=\"sans-serif\" font-size=\"14\" font-weight=\"bold\" lengthAdjust=\"spacingAndGlyphs\" textLength=\"20\" x=\"235\" y=\"63.9951\">P1</text><!--MD5=[f6df4d0ebaf0b5dfb2ced0ae5af7c670]\n",
       "cluster E4--><polygon fill=\"#FFFFFF\" points=\"40,49,66,49,73,71.2969,207,71.2969,207,153,40,153,40,49\" style=\"stroke: #000000; stroke-width: 1.5;\"/><line style=\"stroke: #000000; stroke-width: 1.5;\" x1=\"40\" x2=\"73\" y1=\"71.2969\" y2=\"71.2969\"/><text fill=\"#000000\" font-family=\"sans-serif\" font-size=\"14\" font-weight=\"bold\" lengthAdjust=\"spacingAndGlyphs\" textLength=\"20\" x=\"44\" y=\"63.9951\">P2</text><!--MD5=[a60fb756f580feb9fd8e2cf1329b5c91]\n",
       "entity E3--><rect fill=\"#FFFFFF\" height=\"52.5938\" style=\"stroke: #000000; stroke-width: 1.5;\" width=\"91\" x=\"247.5\" y=\"84\"/><text fill=\"#000000\" font-family=\"sans-serif\" font-size=\"14\" font-style=\"italic\" lengthAdjust=\"spacingAndGlyphs\" textLength=\"71\" x=\"257.5\" y=\"106.9951\">«part def»</text><text fill=\"#000000\" font-family=\"sans-serif\" font-size=\"14\" lengthAdjust=\"spacingAndGlyphs\" textLength=\"9\" x=\"288.5\" y=\"123.292\">A</text><polygon fill=\"#FFFFFF\" points=\"141.5,84,176.5,84,183.5,106.2969,190.5,106.2969,190.5,136.5938,141.5,136.5938,141.5,84\" style=\"stroke: #000000; stroke-width: 1.5;\"/><line style=\"stroke: #000000; stroke-width: 1.5;\" x1=\"141.5\" x2=\"183.5\" y1=\"106.2969\" y2=\"106.2969\"/><text fill=\"#000000\" font-family=\"sans-serif\" font-size=\"14\" font-weight=\"bold\" lengthAdjust=\"spacingAndGlyphs\" textLength=\"29\" x=\"145.5\" y=\"98.9951\">P2a</text><g id=\"E1.E4.E6\"><rect fill=\"#FFFFFF\" height=\"50\" rx=\"12.5\" ry=\"12.5\" style=\"stroke: #383838; stroke-width: 1.5;\" width=\"50\" x=\"56\" y=\"85.5\"/><line style=\"stroke: #383838; stroke-width: 1.5;\" x1=\"56\" x2=\"106\" y1=\"111.7969\" y2=\"111.7969\"/><text fill=\"#000000\" font-family=\"sans-serif\" font-size=\"14\" lengthAdjust=\"spacingAndGlyphs\" textLength=\"25\" x=\"68.5\" y=\"103.4951\">x: A</text></g><!--MD5=[010cc6d5b77f7fddc16971e8ad7422b2]\n",
       "@startuml\r\n",
       "skinparam ranksep 8\r\n",
       "skinparam rectangle {\r\n",
       " backgroundColor<<block>> LightGreen\r\n",
       "}\r\n",
       "skinparam monochrome true\r\n",
       "skinparam classbackgroundcolor white\r\n",
       "skinparam shadowing false\r\n",
       "skinparam wrapWidth 300\r\n",
       "hide circle\r\n",
       "\r\n",
       "package \"QualifiedNameImportTest\" as E1   {\r\n",
       "package \"P1\" as E2   {\r\n",
       "rec def \"A\" as E3  <<part def>> {\r\n",
       "}\r\n",
       "}\r\n",
       "package \"P2\" as E4   {\r\n",
       "package \"P2a\" as E5   {\r\n",
       "}\r\n",
       "rec usage \"x: A\" as E6  {\r\n",
       "}\r\n",
       "}\r\n",
       "}\r\n",
       "@enduml\r\n",
       "\n",
       "PlantUML version 1.2020.13(Sat Jun 13 12:26:38 UTC 2020)\n",
       "(EPL source distribution)\n",
       "Java Runtime: OpenJDK Runtime Environment\n",
       "JVM: OpenJDK 64-Bit Server VM\n",
       "Default Encoding: UTF-8\n",
       "Language: en\n",
       "Country: null\n",
       "--></g></svg>"
      ]
     },
     "execution_count": 40,
     "metadata": {},
     "output_type": "execute_result"
    }
   ],
   "source": [
    "%viz --style=\"DEFAULT\" --view=\"Interconnection\" \"QualifiedNameImportTest\""
   ]
  },
  {
   "cell_type": "code",
   "execution_count": 41,
   "id": "functioning-cassette",
   "metadata": {
    "execution": {
     "iopub.execute_input": "2021-03-26T09:43:32.923731Z",
     "iopub.status.busy": "2021-03-26T09:43:32.922662Z",
     "iopub.status.idle": "2021-03-26T09:43:32.925289Z",
     "shell.execute_reply": "2021-03-26T09:43:32.925821Z"
    }
   },
   "outputs": [
    {
     "data": {
      "text/plain": [
       "java.lang.IllegalArgumentException: Invalid View: Action View candidates are: Default Tree StateMachine Interconnection Activity Sequence MIXED \n",
       "\tat org.omg.sysml.plantuml.SysML2PlantUMLSvc.setView(SysML2PlantUMLSvc.java:63)\n",
       "\tat org.omg.sysml.interactive.SysMLInteractive.viz(SysMLInteractive.java:286)\n",
       "\tat org.omg.sysml.jupyter.kernel.magic.Viz.viz(Viz.java:47)\n",
       "\tat jdk.internal.reflect.GeneratedMethodAccessor7.invoke(Unknown Source)\n",
       "\tat java.base/jdk.internal.reflect.DelegatingMethodAccessorImpl.invoke(DelegatingMethodAccessorImpl.java:43)\n",
       "\tat java.base/java.lang.reflect.Method.invoke(Method.java:568)\n",
       "\tat io.github.spencerpark.jupyter.kernel.magic.registry.Magics.invoke(Magics.java:89)\n",
       "\tat io.github.spencerpark.jupyter.kernel.magic.registry.Magics.access$000(Magics.java:8)\n",
       "\tat io.github.spencerpark.jupyter.kernel.magic.registry.Magics$LineReflectionMagicFunction.execute(Magics.java:149)\n",
       "\tat io.github.spencerpark.jupyter.kernel.magic.registry.Magics.applyLineMagic(Magics.java:26)\n",
       "\tat org.omg.sysml.jupyter.kernel.SysMLKernel.eval(SysMLKernel.java:76)\n",
       "\tat io.github.spencerpark.jupyter.kernel.BaseKernel.handleExecuteRequest(BaseKernel.java:334)\n",
       "\tat io.github.spencerpark.jupyter.channels.ShellChannel.lambda$bind$0(ShellChannel.java:64)\n",
       "\tat io.github.spencerpark.jupyter.channels.Loop.lambda$new$0(Loop.java:21)\n",
       "\tat io.github.spencerpark.jupyter.channels.Loop.run(Loop.java:78)\n"
      ]
     },
     "execution_count": 41,
     "metadata": {},
     "output_type": "execute_result"
    }
   ],
   "source": [
    "%viz --style=\"DEFAULT\" --view=\"Action\" \"QualifiedNameImportTest\""
   ]
  },
  {
   "cell_type": "code",
   "execution_count": 42,
   "id": "innovative-silly",
   "metadata": {
    "execution": {
     "iopub.execute_input": "2021-03-26T09:43:32.979915Z",
     "iopub.status.busy": "2021-03-26T09:43:32.979291Z",
     "iopub.status.idle": "2021-03-26T09:43:33.006542Z",
     "shell.execute_reply": "2021-03-26T09:43:33.006142Z"
    }
   },
   "outputs": [
    {
     "data": {
      "image/svg+xml": [
       "<?xml version=\"1.0\" encoding=\"UTF-8\" standalone=\"no\"?><svg xmlns=\"http://www.w3.org/2000/svg\" xmlns:xlink=\"http://www.w3.org/1999/xlink\" contentScriptType=\"application/ecmascript\" contentStyleType=\"text/css\" height=\"310px\" preserveAspectRatio=\"none\" style=\"width:253px;height:310px;\" version=\"1.1\" viewBox=\"0 0 253 310\" width=\"253px\" zoomAndPan=\"magnify\"><defs/><g><!--MD5=[fbc87193dbaf4d95561dea2c320d4a47]\n",
       "cluster E1--><polygon fill=\"#FFFFFF\" points=\"16,6,221,6,228,28.2969,231,28.2969,231,298,16,298,16,6\" style=\"stroke: #000000; stroke-width: 1.5;\"/><line style=\"stroke: #000000; stroke-width: 1.5;\" x1=\"16\" x2=\"228\" y1=\"28.2969\" y2=\"28.2969\"/><text fill=\"#000000\" font-family=\"sans-serif\" font-size=\"14\" font-weight=\"bold\" lengthAdjust=\"spacingAndGlyphs\" textLength=\"199\" x=\"20\" y=\"20.9951\">QualifiedNameImportTest</text><!--MD5=[e4f7fae6ed58524ba242bb0b0d3be6b7]\n",
       "cluster E2--><polygon fill=\"#FFFFFF\" points=\"105,177,131,177,138,199.2969,203,199.2969,203,274,105,274,105,177\" style=\"stroke: #000000; stroke-width: 1.5;\"/><line style=\"stroke: #000000; stroke-width: 1.5;\" x1=\"105\" x2=\"138\" y1=\"199.2969\" y2=\"199.2969\"/><text fill=\"#000000\" font-family=\"sans-serif\" font-size=\"14\" font-weight=\"bold\" lengthAdjust=\"spacingAndGlyphs\" textLength=\"20\" x=\"109\" y=\"191.9951\">P1</text><!--MD5=[f6df4d0ebaf0b5dfb2ced0ae5af7c670]\n",
       "cluster E4--><polygon fill=\"#FFFFFF\" points=\"44,49,70,49,77,71.2969,203,71.2969,203,153,44,153,44,49\" style=\"stroke: #000000; stroke-width: 1.5;\"/><line style=\"stroke: #000000; stroke-width: 1.5;\" x1=\"44\" x2=\"77\" y1=\"71.2969\" y2=\"71.2969\"/><text fill=\"#000000\" font-family=\"sans-serif\" font-size=\"14\" font-weight=\"bold\" lengthAdjust=\"spacingAndGlyphs\" textLength=\"20\" x=\"48\" y=\"63.9951\">P2</text><!--MD5=[09b614a08d8cba4a07c9adeb5e0fee81]\n",
       "class E3--><rect fill=\"#FFFFFF\" height=\"45.9375\" id=\"E3\" style=\"stroke: #383838; stroke-width: 1.5;\" width=\"66\" x=\"121\" y=\"212\"/><text fill=\"#000000\" font-family=\"sans-serif\" font-size=\"12\" font-style=\"italic\" lengthAdjust=\"spacingAndGlyphs\" textLength=\"64\" x=\"122\" y=\"228.1387\">«part def»</text><text fill=\"#000000\" font-family=\"sans-serif\" font-size=\"12\" lengthAdjust=\"spacingAndGlyphs\" textLength=\"8\" x=\"150\" y=\"242.1074\">A</text><line style=\"stroke: #383838; stroke-width: 1.5;\" x1=\"122\" x2=\"186\" y1=\"249.9375\" y2=\"249.9375\"/><!--MD5=[60a26617385b1d2d0262a64233df1f8d]\n",
       "class E6--><rect fill=\"#FFFFFF\" height=\"45.9375\" id=\"E6\" rx=\"10\" ry=\"10\" style=\"stroke: #383838; stroke-width: 1.5;\" width=\"42\" x=\"145\" y=\"87.5\"/><text fill=\"#000000\" font-family=\"sans-serif\" font-size=\"12\" font-style=\"italic\" lengthAdjust=\"spacingAndGlyphs\" textLength=\"40\" x=\"146\" y=\"103.6387\">«part»</text><text fill=\"#000000\" font-family=\"sans-serif\" font-size=\"12\" lengthAdjust=\"spacingAndGlyphs\" textLength=\"22\" x=\"155\" y=\"117.6074\">x: A</text><line style=\"stroke: #383838; stroke-width: 1.5;\" x1=\"146\" x2=\"186\" y1=\"125.4375\" y2=\"125.4375\"/><polygon fill=\"#FFFFFF\" points=\"60.5,84,95.5,84,102.5,106.2969,109.5,106.2969,109.5,136.5938,60.5,136.5938,60.5,84\" style=\"stroke: #000000; stroke-width: 1.5;\"/><line style=\"stroke: #000000; stroke-width: 1.5;\" x1=\"60.5\" x2=\"102.5\" y1=\"106.2969\" y2=\"106.2969\"/><text fill=\"#000000\" font-family=\"sans-serif\" font-size=\"14\" font-weight=\"bold\" lengthAdjust=\"spacingAndGlyphs\" textLength=\"29\" x=\"64.5\" y=\"98.9951\">P2a</text><!--MD5=[a717450b82c80b9240a525fa862496af]\n",
       "link E6 to E3--><path d=\"M163.83,133.68 C162.24,149.9 160.04,172.39 158.12,191.96 \" fill=\"none\" id=\"E6-&gt;E3\" style=\"stroke: #383838; stroke-width: 1.0;\"/><polygon fill=\"#FFFFFF\" points=\"156.16,211.98,151.0533,192.3861,164.986,193.7564,156.16,211.98\" style=\"stroke: #383838; stroke-width: 1.0;\"/><ellipse cx=\"153.6016\" cy=\"186.9092\" fill=\"#383838\" rx=\"2\" ry=\"2\" style=\"stroke: #383838; stroke-width: 1.0;\"/><ellipse cx=\"163.5535\" cy=\"187.888\" fill=\"#383838\" rx=\"2\" ry=\"2\" style=\"stroke: #383838; stroke-width: 1.0;\"/><!--MD5=[24f3a2c9e76a953043ddeb47f2ec04b8]\n",
       "@startuml\r\n",
       "skinparam monochrome true\r\n",
       "skinparam classbackgroundcolor white\r\n",
       "skinparam shadowing false\r\n",
       "skinparam wrapWidth 300\r\n",
       "hide circle\r\n",
       "\r\n",
       "package \"QualifiedNameImportTest\" as E1   {\r\n",
       "package \"P1\" as E2   {\r\n",
       "comp def \"A\" as E3  <<(T,blue)part def>> {\r\n",
       "}\r\n",
       "}\r\n",
       "package \"P2\" as E4   {\r\n",
       "package \"P2a\" as E5   {\r\n",
       "}\r\n",
       "comp usage \"x: A\" as E6  <<(T,blue)part>> {\r\n",
       "}\r\n",
       "E6 - -:|> E3\r\n",
       "}\r\n",
       "}\r\n",
       "@enduml\r\n",
       "\n",
       "PlantUML version 1.2020.13(Sat Jun 13 12:26:38 UTC 2020)\n",
       "(EPL source distribution)\n",
       "Java Runtime: OpenJDK Runtime Environment\n",
       "JVM: OpenJDK 64-Bit Server VM\n",
       "Default Encoding: UTF-8\n",
       "Language: en\n",
       "Country: null\n",
       "--></g></svg>"
      ]
     },
     "execution_count": 42,
     "metadata": {},
     "output_type": "execute_result"
    }
   ],
   "source": [
    "%viz --style=\"DEFAULT\" --view=\"Sequence\" \"QualifiedNameImportTest\""
   ]
  },
  {
   "cell_type": "code",
   "execution_count": 43,
   "id": "earned-checklist",
   "metadata": {
    "execution": {
     "iopub.execute_input": "2021-03-26T09:43:33.056989Z",
     "iopub.status.busy": "2021-03-26T09:43:33.056424Z",
     "iopub.status.idle": "2021-03-26T09:43:33.082035Z",
     "shell.execute_reply": "2021-03-26T09:43:33.081710Z"
    }
   },
   "outputs": [
    {
     "data": {
      "image/svg+xml": [
       "<?xml version=\"1.0\" encoding=\"UTF-8\" standalone=\"no\"?><svg xmlns=\"http://www.w3.org/2000/svg\" xmlns:xlink=\"http://www.w3.org/1999/xlink\" contentScriptType=\"application/ecmascript\" contentStyleType=\"text/css\" height=\"310px\" preserveAspectRatio=\"none\" style=\"width:253px;height:310px;\" version=\"1.1\" viewBox=\"0 0 253 310\" width=\"253px\" zoomAndPan=\"magnify\"><defs/><g><!--MD5=[fbc87193dbaf4d95561dea2c320d4a47]\n",
       "cluster E1--><polygon fill=\"#FFFFFF\" points=\"16,6,221,6,228,28.2969,231,28.2969,231,298,16,298,16,6\" style=\"stroke: #000000; stroke-width: 1.5;\"/><line style=\"stroke: #000000; stroke-width: 1.5;\" x1=\"16\" x2=\"228\" y1=\"28.2969\" y2=\"28.2969\"/><text fill=\"#000000\" font-family=\"sans-serif\" font-size=\"14\" font-weight=\"bold\" lengthAdjust=\"spacingAndGlyphs\" textLength=\"199\" x=\"20\" y=\"20.9951\">QualifiedNameImportTest</text><!--MD5=[e4f7fae6ed58524ba242bb0b0d3be6b7]\n",
       "cluster E2--><polygon fill=\"#FFFFFF\" points=\"105,177,131,177,138,199.2969,203,199.2969,203,274,105,274,105,177\" style=\"stroke: #000000; stroke-width: 1.5;\"/><line style=\"stroke: #000000; stroke-width: 1.5;\" x1=\"105\" x2=\"138\" y1=\"199.2969\" y2=\"199.2969\"/><text fill=\"#000000\" font-family=\"sans-serif\" font-size=\"14\" font-weight=\"bold\" lengthAdjust=\"spacingAndGlyphs\" textLength=\"20\" x=\"109\" y=\"191.9951\">P1</text><!--MD5=[f6df4d0ebaf0b5dfb2ced0ae5af7c670]\n",
       "cluster E4--><polygon fill=\"#FFFFFF\" points=\"44,49,70,49,77,71.2969,203,71.2969,203,153,44,153,44,49\" style=\"stroke: #000000; stroke-width: 1.5;\"/><line style=\"stroke: #000000; stroke-width: 1.5;\" x1=\"44\" x2=\"77\" y1=\"71.2969\" y2=\"71.2969\"/><text fill=\"#000000\" font-family=\"sans-serif\" font-size=\"14\" font-weight=\"bold\" lengthAdjust=\"spacingAndGlyphs\" textLength=\"20\" x=\"48\" y=\"63.9951\">P2</text><!--MD5=[09b614a08d8cba4a07c9adeb5e0fee81]\n",
       "class E3--><rect fill=\"#FFFFFF\" height=\"45.9375\" id=\"E3\" style=\"stroke: #383838; stroke-width: 1.5;\" width=\"66\" x=\"121\" y=\"212\"/><text fill=\"#000000\" font-family=\"sans-serif\" font-size=\"12\" font-style=\"italic\" lengthAdjust=\"spacingAndGlyphs\" textLength=\"64\" x=\"122\" y=\"228.1387\">«part def»</text><text fill=\"#000000\" font-family=\"sans-serif\" font-size=\"12\" lengthAdjust=\"spacingAndGlyphs\" textLength=\"8\" x=\"150\" y=\"242.1074\">A</text><line style=\"stroke: #383838; stroke-width: 1.5;\" x1=\"122\" x2=\"186\" y1=\"249.9375\" y2=\"249.9375\"/><!--MD5=[60a26617385b1d2d0262a64233df1f8d]\n",
       "class E6--><rect fill=\"#FFFFFF\" height=\"45.9375\" id=\"E6\" rx=\"10\" ry=\"10\" style=\"stroke: #383838; stroke-width: 1.5;\" width=\"42\" x=\"145\" y=\"87.5\"/><text fill=\"#000000\" font-family=\"sans-serif\" font-size=\"12\" font-style=\"italic\" lengthAdjust=\"spacingAndGlyphs\" textLength=\"40\" x=\"146\" y=\"103.6387\">«part»</text><text fill=\"#000000\" font-family=\"sans-serif\" font-size=\"12\" lengthAdjust=\"spacingAndGlyphs\" textLength=\"22\" x=\"155\" y=\"117.6074\">x: A</text><line style=\"stroke: #383838; stroke-width: 1.5;\" x1=\"146\" x2=\"186\" y1=\"125.4375\" y2=\"125.4375\"/><polygon fill=\"#FFFFFF\" points=\"60.5,84,95.5,84,102.5,106.2969,109.5,106.2969,109.5,136.5938,60.5,136.5938,60.5,84\" style=\"stroke: #000000; stroke-width: 1.5;\"/><line style=\"stroke: #000000; stroke-width: 1.5;\" x1=\"60.5\" x2=\"102.5\" y1=\"106.2969\" y2=\"106.2969\"/><text fill=\"#000000\" font-family=\"sans-serif\" font-size=\"14\" font-weight=\"bold\" lengthAdjust=\"spacingAndGlyphs\" textLength=\"29\" x=\"64.5\" y=\"98.9951\">P2a</text><!--MD5=[a717450b82c80b9240a525fa862496af]\n",
       "link E6 to E3--><path d=\"M163.83,133.68 C162.24,149.9 160.04,172.39 158.12,191.96 \" fill=\"none\" id=\"E6-&gt;E3\" style=\"stroke: #383838; stroke-width: 1.0;\"/><polygon fill=\"#FFFFFF\" points=\"156.16,211.98,151.0533,192.3861,164.986,193.7564,156.16,211.98\" style=\"stroke: #383838; stroke-width: 1.0;\"/><ellipse cx=\"153.6016\" cy=\"186.9092\" fill=\"#383838\" rx=\"2\" ry=\"2\" style=\"stroke: #383838; stroke-width: 1.0;\"/><ellipse cx=\"163.5535\" cy=\"187.888\" fill=\"#383838\" rx=\"2\" ry=\"2\" style=\"stroke: #383838; stroke-width: 1.0;\"/><!--MD5=[24f3a2c9e76a953043ddeb47f2ec04b8]\n",
       "@startuml\r\n",
       "skinparam monochrome true\r\n",
       "skinparam classbackgroundcolor white\r\n",
       "skinparam shadowing false\r\n",
       "skinparam wrapWidth 300\r\n",
       "hide circle\r\n",
       "\r\n",
       "package \"QualifiedNameImportTest\" as E1   {\r\n",
       "package \"P1\" as E2   {\r\n",
       "comp def \"A\" as E3  <<(T,blue)part def>> {\r\n",
       "}\r\n",
       "}\r\n",
       "package \"P2\" as E4   {\r\n",
       "package \"P2a\" as E5   {\r\n",
       "}\r\n",
       "comp usage \"x: A\" as E6  <<(T,blue)part>> {\r\n",
       "}\r\n",
       "E6 - -:|> E3\r\n",
       "}\r\n",
       "}\r\n",
       "@enduml\r\n",
       "\n",
       "PlantUML version 1.2020.13(Sat Jun 13 12:26:38 UTC 2020)\n",
       "(EPL source distribution)\n",
       "Java Runtime: OpenJDK Runtime Environment\n",
       "JVM: OpenJDK 64-Bit Server VM\n",
       "Default Encoding: UTF-8\n",
       "Language: en\n",
       "Country: null\n",
       "--></g></svg>"
      ]
     },
     "execution_count": 43,
     "metadata": {},
     "output_type": "execute_result"
    }
   ],
   "source": [
    "%viz --style=\"DEFAULT\" --view=\"MIXED\" \"QualifiedNameImportTest\""
   ]
  },
  {
   "cell_type": "code",
   "execution_count": 44,
   "id": "civilian-driving",
   "metadata": {
    "execution": {
     "iopub.execute_input": "2021-03-26T09:43:33.132702Z",
     "iopub.status.busy": "2021-03-26T09:43:33.132235Z",
     "iopub.status.idle": "2021-03-26T09:43:33.155658Z",
     "shell.execute_reply": "2021-03-26T09:43:33.156101Z"
    }
   },
   "outputs": [
    {
     "data": {
      "image/svg+xml": [
       "<?xml version=\"1.0\" encoding=\"UTF-8\" standalone=\"no\"?><svg xmlns=\"http://www.w3.org/2000/svg\" xmlns:xlink=\"http://www.w3.org/1999/xlink\" contentScriptType=\"application/ecmascript\" contentStyleType=\"text/css\" height=\"310px\" preserveAspectRatio=\"none\" style=\"width:253px;height:310px;\" version=\"1.1\" viewBox=\"0 0 253 310\" width=\"253px\" zoomAndPan=\"magnify\"><defs/><g><!--MD5=[fbc87193dbaf4d95561dea2c320d4a47]\n",
       "cluster E1--><polygon fill=\"#FFFFFF\" points=\"16,6,221,6,228,28.2969,231,28.2969,231,298,16,298,16,6\" style=\"stroke: #000000; stroke-width: 1.5;\"/><line style=\"stroke: #000000; stroke-width: 1.5;\" x1=\"16\" x2=\"228\" y1=\"28.2969\" y2=\"28.2969\"/><text fill=\"#000000\" font-family=\"sans-serif\" font-size=\"14\" font-weight=\"bold\" lengthAdjust=\"spacingAndGlyphs\" textLength=\"199\" x=\"20\" y=\"20.9951\">QualifiedNameImportTest</text><!--MD5=[e4f7fae6ed58524ba242bb0b0d3be6b7]\n",
       "cluster E2--><polygon fill=\"#FFFFFF\" points=\"105,177,131,177,138,199.2969,203,199.2969,203,274,105,274,105,177\" style=\"stroke: #000000; stroke-width: 1.5;\"/><line style=\"stroke: #000000; stroke-width: 1.5;\" x1=\"105\" x2=\"138\" y1=\"199.2969\" y2=\"199.2969\"/><text fill=\"#000000\" font-family=\"sans-serif\" font-size=\"14\" font-weight=\"bold\" lengthAdjust=\"spacingAndGlyphs\" textLength=\"20\" x=\"109\" y=\"191.9951\">P1</text><!--MD5=[f6df4d0ebaf0b5dfb2ced0ae5af7c670]\n",
       "cluster E4--><polygon fill=\"#FFFFFF\" points=\"44,49,70,49,77,71.2969,203,71.2969,203,153,44,153,44,49\" style=\"stroke: #000000; stroke-width: 1.5;\"/><line style=\"stroke: #000000; stroke-width: 1.5;\" x1=\"44\" x2=\"77\" y1=\"71.2969\" y2=\"71.2969\"/><text fill=\"#000000\" font-family=\"sans-serif\" font-size=\"14\" font-weight=\"bold\" lengthAdjust=\"spacingAndGlyphs\" textLength=\"20\" x=\"48\" y=\"63.9951\">P2</text><!--MD5=[09b614a08d8cba4a07c9adeb5e0fee81]\n",
       "class E3--><rect fill=\"#FFFFFF\" height=\"45.9375\" id=\"E3\" style=\"stroke: #383838; stroke-width: 1.5;\" width=\"66\" x=\"121\" y=\"212\"/><text fill=\"#000000\" font-family=\"sans-serif\" font-size=\"12\" font-style=\"italic\" lengthAdjust=\"spacingAndGlyphs\" textLength=\"64\" x=\"122\" y=\"228.1387\">«part def»</text><text fill=\"#000000\" font-family=\"sans-serif\" font-size=\"12\" lengthAdjust=\"spacingAndGlyphs\" textLength=\"8\" x=\"150\" y=\"242.1074\">A</text><line style=\"stroke: #383838; stroke-width: 1.5;\" x1=\"122\" x2=\"186\" y1=\"249.9375\" y2=\"249.9375\"/><!--MD5=[60a26617385b1d2d0262a64233df1f8d]\n",
       "class E6--><rect fill=\"#FFFFFF\" height=\"45.9375\" id=\"E6\" rx=\"10\" ry=\"10\" style=\"stroke: #383838; stroke-width: 1.5;\" width=\"42\" x=\"145\" y=\"87.5\"/><text fill=\"#000000\" font-family=\"sans-serif\" font-size=\"12\" font-style=\"italic\" lengthAdjust=\"spacingAndGlyphs\" textLength=\"40\" x=\"146\" y=\"103.6387\">«part»</text><text fill=\"#000000\" font-family=\"sans-serif\" font-size=\"12\" lengthAdjust=\"spacingAndGlyphs\" textLength=\"22\" x=\"155\" y=\"117.6074\">x: A</text><line style=\"stroke: #383838; stroke-width: 1.5;\" x1=\"146\" x2=\"186\" y1=\"125.4375\" y2=\"125.4375\"/><polygon fill=\"#FFFFFF\" points=\"60.5,84,95.5,84,102.5,106.2969,109.5,106.2969,109.5,136.5938,60.5,136.5938,60.5,84\" style=\"stroke: #000000; stroke-width: 1.5;\"/><line style=\"stroke: #000000; stroke-width: 1.5;\" x1=\"60.5\" x2=\"102.5\" y1=\"106.2969\" y2=\"106.2969\"/><text fill=\"#000000\" font-family=\"sans-serif\" font-size=\"14\" font-weight=\"bold\" lengthAdjust=\"spacingAndGlyphs\" textLength=\"29\" x=\"64.5\" y=\"98.9951\">P2a</text><!--MD5=[a717450b82c80b9240a525fa862496af]\n",
       "link E6 to E3--><path d=\"M163.83,133.68 C162.24,149.9 160.04,172.39 158.12,191.96 \" fill=\"none\" id=\"E6-&gt;E3\" style=\"stroke: #383838; stroke-width: 1.0;\"/><polygon fill=\"#FFFFFF\" points=\"156.16,211.98,151.0533,192.3861,164.986,193.7564,156.16,211.98\" style=\"stroke: #383838; stroke-width: 1.0;\"/><ellipse cx=\"153.6016\" cy=\"186.9092\" fill=\"#383838\" rx=\"2\" ry=\"2\" style=\"stroke: #383838; stroke-width: 1.0;\"/><ellipse cx=\"163.5535\" cy=\"187.888\" fill=\"#383838\" rx=\"2\" ry=\"2\" style=\"stroke: #383838; stroke-width: 1.0;\"/><!--MD5=[5dd73e6fd16556193a9bc074764f7120]\n",
       "@startuml\r\n",
       "top to bottom direction\r\n",
       "skinparam monochrome true\r\n",
       "skinparam classbackgroundcolor white\r\n",
       "skinparam shadowing false\r\n",
       "skinparam wrapWidth 300\r\n",
       "hide circle\r\n",
       "\r\n",
       "package \"QualifiedNameImportTest\" as E1   {\r\n",
       "package \"P1\" as E2   {\r\n",
       "comp def \"A\" as E3  <<(T,blue)part def>> {\r\n",
       "}\r\n",
       "}\r\n",
       "package \"P2\" as E4   {\r\n",
       "package \"P2a\" as E5   {\r\n",
       "}\r\n",
       "comp usage \"x: A\" as E6  <<(T,blue)part>> {\r\n",
       "}\r\n",
       "E6 - -:|> E3\r\n",
       "}\r\n",
       "}\r\n",
       "@enduml\r\n",
       "\n",
       "PlantUML version 1.2020.13(Sat Jun 13 12:26:38 UTC 2020)\n",
       "(EPL source distribution)\n",
       "Java Runtime: OpenJDK Runtime Environment\n",
       "JVM: OpenJDK 64-Bit Server VM\n",
       "Default Encoding: UTF-8\n",
       "Language: en\n",
       "Country: null\n",
       "--></g></svg>"
      ]
     },
     "execution_count": 44,
     "metadata": {},
     "output_type": "execute_result"
    }
   ],
   "source": [
    "%viz --style=\"TB\" --view=\"Default\" \"QualifiedNameImportTest\""
   ]
  },
  {
   "cell_type": "code",
   "execution_count": 45,
   "id": "technical-objective",
   "metadata": {
    "execution": {
     "iopub.execute_input": "2021-03-26T09:43:33.210990Z",
     "iopub.status.busy": "2021-03-26T09:43:33.210339Z",
     "iopub.status.idle": "2021-03-26T09:43:33.246227Z",
     "shell.execute_reply": "2021-03-26T09:43:33.245891Z"
    }
   },
   "outputs": [
    {
     "data": {
      "image/svg+xml": [
       "<?xml version=\"1.0\" encoding=\"UTF-8\" standalone=\"no\"?><svg xmlns=\"http://www.w3.org/2000/svg\" xmlns:xlink=\"http://www.w3.org/1999/xlink\" contentScriptType=\"application/ecmascript\" contentStyleType=\"text/css\" height=\"310px\" preserveAspectRatio=\"none\" style=\"width:253px;height:310px;\" version=\"1.1\" viewBox=\"0 0 253 310\" width=\"253px\" zoomAndPan=\"magnify\"><defs/><g><!--MD5=[fbc87193dbaf4d95561dea2c320d4a47]\n",
       "cluster E1--><polygon fill=\"#FFFFFF\" points=\"16,6,221,6,228,28.2969,231,28.2969,231,298,16,298,16,6\" style=\"stroke: #000000; stroke-width: 1.5;\"/><line style=\"stroke: #000000; stroke-width: 1.5;\" x1=\"16\" x2=\"228\" y1=\"28.2969\" y2=\"28.2969\"/><text fill=\"#000000\" font-family=\"sans-serif\" font-size=\"14\" font-weight=\"bold\" lengthAdjust=\"spacingAndGlyphs\" textLength=\"199\" x=\"20\" y=\"20.9951\">QualifiedNameImportTest</text><!--MD5=[e4f7fae6ed58524ba242bb0b0d3be6b7]\n",
       "cluster E2--><polygon fill=\"#FFFFFF\" points=\"105,177,131,177,138,199.2969,203,199.2969,203,274,105,274,105,177\" style=\"stroke: #000000; stroke-width: 1.5;\"/><line style=\"stroke: #000000; stroke-width: 1.5;\" x1=\"105\" x2=\"138\" y1=\"199.2969\" y2=\"199.2969\"/><text fill=\"#000000\" font-family=\"sans-serif\" font-size=\"14\" font-weight=\"bold\" lengthAdjust=\"spacingAndGlyphs\" textLength=\"20\" x=\"109\" y=\"191.9951\">P1</text><!--MD5=[f6df4d0ebaf0b5dfb2ced0ae5af7c670]\n",
       "cluster E4--><polygon fill=\"#FFFFFF\" points=\"44,49,70,49,77,71.2969,203,71.2969,203,153,44,153,44,49\" style=\"stroke: #000000; stroke-width: 1.5;\"/><line style=\"stroke: #000000; stroke-width: 1.5;\" x1=\"44\" x2=\"77\" y1=\"71.2969\" y2=\"71.2969\"/><text fill=\"#000000\" font-family=\"sans-serif\" font-size=\"14\" font-weight=\"bold\" lengthAdjust=\"spacingAndGlyphs\" textLength=\"20\" x=\"48\" y=\"63.9951\">P2</text><!--MD5=[09b614a08d8cba4a07c9adeb5e0fee81]\n",
       "class E3--><rect fill=\"#FFFFFF\" height=\"45.9375\" id=\"E3\" style=\"stroke: #383838; stroke-width: 1.5;\" width=\"66\" x=\"121\" y=\"212\"/><text fill=\"#000000\" font-family=\"sans-serif\" font-size=\"12\" font-style=\"italic\" lengthAdjust=\"spacingAndGlyphs\" textLength=\"64\" x=\"122\" y=\"228.1387\">«part def»</text><text fill=\"#000000\" font-family=\"sans-serif\" font-size=\"12\" lengthAdjust=\"spacingAndGlyphs\" textLength=\"8\" x=\"150\" y=\"242.1074\">A</text><line style=\"stroke: #383838; stroke-width: 1.5;\" x1=\"122\" x2=\"186\" y1=\"249.9375\" y2=\"249.9375\"/><!--MD5=[60a26617385b1d2d0262a64233df1f8d]\n",
       "class E6--><rect fill=\"#FFFFFF\" height=\"45.9375\" id=\"E6\" rx=\"10\" ry=\"10\" style=\"stroke: #383838; stroke-width: 1.5;\" width=\"42\" x=\"145\" y=\"87.5\"/><text fill=\"#000000\" font-family=\"sans-serif\" font-size=\"12\" font-style=\"italic\" lengthAdjust=\"spacingAndGlyphs\" textLength=\"40\" x=\"146\" y=\"103.6387\">«part»</text><text fill=\"#000000\" font-family=\"sans-serif\" font-size=\"12\" lengthAdjust=\"spacingAndGlyphs\" textLength=\"22\" x=\"155\" y=\"117.6074\">x: A</text><line style=\"stroke: #383838; stroke-width: 1.5;\" x1=\"146\" x2=\"186\" y1=\"125.4375\" y2=\"125.4375\"/><polygon fill=\"#FFFFFF\" points=\"60.5,84,95.5,84,102.5,106.2969,109.5,106.2969,109.5,136.5938,60.5,136.5938,60.5,84\" style=\"stroke: #000000; stroke-width: 1.5;\"/><line style=\"stroke: #000000; stroke-width: 1.5;\" x1=\"60.5\" x2=\"102.5\" y1=\"106.2969\" y2=\"106.2969\"/><text fill=\"#000000\" font-family=\"sans-serif\" font-size=\"14\" font-weight=\"bold\" lengthAdjust=\"spacingAndGlyphs\" textLength=\"29\" x=\"64.5\" y=\"98.9951\">P2a</text><!--MD5=[a717450b82c80b9240a525fa862496af]\n",
       "link E6 to E3--><path d=\"M163.83,133.68 C162.24,149.9 160.04,172.39 158.12,191.96 \" fill=\"none\" id=\"E6-&gt;E3\" style=\"stroke: #383838; stroke-width: 1.0;\"/><polygon fill=\"#FFFFFF\" points=\"156.16,211.98,151.0533,192.3861,164.986,193.7564,156.16,211.98\" style=\"stroke: #383838; stroke-width: 1.0;\"/><ellipse cx=\"153.6016\" cy=\"186.9092\" fill=\"#383838\" rx=\"2\" ry=\"2\" style=\"stroke: #383838; stroke-width: 1.0;\"/><ellipse cx=\"163.5535\" cy=\"187.888\" fill=\"#383838\" rx=\"2\" ry=\"2\" style=\"stroke: #383838; stroke-width: 1.0;\"/><!--MD5=[5dd73e6fd16556193a9bc074764f7120]\n",
       "@startuml\r\n",
       "top to bottom direction\r\n",
       "skinparam monochrome true\r\n",
       "skinparam classbackgroundcolor white\r\n",
       "skinparam shadowing false\r\n",
       "skinparam wrapWidth 300\r\n",
       "hide circle\r\n",
       "\r\n",
       "package \"QualifiedNameImportTest\" as E1   {\r\n",
       "package \"P1\" as E2   {\r\n",
       "comp def \"A\" as E3  <<(T,blue)part def>> {\r\n",
       "}\r\n",
       "}\r\n",
       "package \"P2\" as E4   {\r\n",
       "package \"P2a\" as E5   {\r\n",
       "}\r\n",
       "comp usage \"x: A\" as E6  <<(T,blue)part>> {\r\n",
       "}\r\n",
       "E6 - -:|> E3\r\n",
       "}\r\n",
       "}\r\n",
       "@enduml\r\n",
       "\n",
       "PlantUML version 1.2020.13(Sat Jun 13 12:26:38 UTC 2020)\n",
       "(EPL source distribution)\n",
       "Java Runtime: OpenJDK Runtime Environment\n",
       "JVM: OpenJDK 64-Bit Server VM\n",
       "Default Encoding: UTF-8\n",
       "Language: en\n",
       "Country: null\n",
       "--></g></svg>"
      ]
     },
     "execution_count": 45,
     "metadata": {},
     "output_type": "execute_result"
    }
   ],
   "source": [
    "%viz --style=\"TB\" --view=\"Tree\" \"QualifiedNameImportTest\""
   ]
  },
  {
   "cell_type": "code",
   "execution_count": 46,
   "id": "physical-architecture",
   "metadata": {
    "execution": {
     "iopub.execute_input": "2021-03-26T09:43:33.297902Z",
     "iopub.status.busy": "2021-03-26T09:43:33.297125Z",
     "iopub.status.idle": "2021-03-26T09:43:33.299475Z",
     "shell.execute_reply": "2021-03-26T09:43:33.299891Z"
    }
   },
   "outputs": [
    {
     "data": {
      "text/plain": [
       "java.lang.IllegalArgumentException: Invalid View: State View candidates are: Default Tree StateMachine Interconnection Activity Sequence MIXED \n",
       "\tat org.omg.sysml.plantuml.SysML2PlantUMLSvc.setView(SysML2PlantUMLSvc.java:63)\n",
       "\tat org.omg.sysml.interactive.SysMLInteractive.viz(SysMLInteractive.java:286)\n",
       "\tat org.omg.sysml.jupyter.kernel.magic.Viz.viz(Viz.java:47)\n",
       "\tat jdk.internal.reflect.GeneratedMethodAccessor7.invoke(Unknown Source)\n",
       "\tat java.base/jdk.internal.reflect.DelegatingMethodAccessorImpl.invoke(DelegatingMethodAccessorImpl.java:43)\n",
       "\tat java.base/java.lang.reflect.Method.invoke(Method.java:568)\n",
       "\tat io.github.spencerpark.jupyter.kernel.magic.registry.Magics.invoke(Magics.java:89)\n",
       "\tat io.github.spencerpark.jupyter.kernel.magic.registry.Magics.access$000(Magics.java:8)\n",
       "\tat io.github.spencerpark.jupyter.kernel.magic.registry.Magics$LineReflectionMagicFunction.execute(Magics.java:149)\n",
       "\tat io.github.spencerpark.jupyter.kernel.magic.registry.Magics.applyLineMagic(Magics.java:26)\n",
       "\tat org.omg.sysml.jupyter.kernel.SysMLKernel.eval(SysMLKernel.java:76)\n",
       "\tat io.github.spencerpark.jupyter.kernel.BaseKernel.handleExecuteRequest(BaseKernel.java:334)\n",
       "\tat io.github.spencerpark.jupyter.channels.ShellChannel.lambda$bind$0(ShellChannel.java:64)\n",
       "\tat io.github.spencerpark.jupyter.channels.Loop.lambda$new$0(Loop.java:21)\n",
       "\tat io.github.spencerpark.jupyter.channels.Loop.run(Loop.java:78)\n"
      ]
     },
     "execution_count": 46,
     "metadata": {},
     "output_type": "execute_result"
    }
   ],
   "source": [
    "%viz --style=\"TB\" --view=\"State\" \"QualifiedNameImportTest\""
   ]
  },
  {
   "cell_type": "code",
   "execution_count": 47,
   "id": "outer-senior",
   "metadata": {
    "execution": {
     "iopub.execute_input": "2021-03-26T09:43:33.352349Z",
     "iopub.status.busy": "2021-03-26T09:43:33.351597Z",
     "iopub.status.idle": "2021-03-26T09:43:33.380141Z",
     "shell.execute_reply": "2021-03-26T09:43:33.379782Z"
    }
   },
   "outputs": [
    {
     "data": {
      "image/svg+xml": [
       "<?xml version=\"1.0\" encoding=\"UTF-8\" standalone=\"no\"?><svg xmlns=\"http://www.w3.org/2000/svg\" xmlns:xlink=\"http://www.w3.org/1999/xlink\" contentScriptType=\"application/ecmascript\" contentStyleType=\"text/css\" height=\"189px\" preserveAspectRatio=\"none\" style=\"width:401px;height:189px;\" version=\"1.1\" viewBox=\"0 0 401 189\" width=\"401px\" zoomAndPan=\"magnify\"><defs/><g><!--MD5=[fbc87193dbaf4d95561dea2c320d4a47]\n",
       "cluster E1--><polygon fill=\"#FFFFFF\" points=\"16,6,221,6,228,28.2969,379,28.2969,379,177,16,177,16,6\" style=\"stroke: #000000; stroke-width: 1.5;\"/><line style=\"stroke: #000000; stroke-width: 1.5;\" x1=\"16\" x2=\"228\" y1=\"28.2969\" y2=\"28.2969\"/><text fill=\"#000000\" font-family=\"sans-serif\" font-size=\"14\" font-weight=\"bold\" lengthAdjust=\"spacingAndGlyphs\" textLength=\"199\" x=\"20\" y=\"20.9951\">QualifiedNameImportTest</text><!--MD5=[e4f7fae6ed58524ba242bb0b0d3be6b7]\n",
       "cluster E2--><polygon fill=\"#FFFFFF\" points=\"231,49,257,49,264,71.2969,355,71.2969,355,153,231,153,231,49\" style=\"stroke: #000000; stroke-width: 1.5;\"/><line style=\"stroke: #000000; stroke-width: 1.5;\" x1=\"231\" x2=\"264\" y1=\"71.2969\" y2=\"71.2969\"/><text fill=\"#000000\" font-family=\"sans-serif\" font-size=\"14\" font-weight=\"bold\" lengthAdjust=\"spacingAndGlyphs\" textLength=\"20\" x=\"235\" y=\"63.9951\">P1</text><!--MD5=[f6df4d0ebaf0b5dfb2ced0ae5af7c670]\n",
       "cluster E4--><polygon fill=\"#FFFFFF\" points=\"40,49,66,49,73,71.2969,207,71.2969,207,153,40,153,40,49\" style=\"stroke: #000000; stroke-width: 1.5;\"/><line style=\"stroke: #000000; stroke-width: 1.5;\" x1=\"40\" x2=\"73\" y1=\"71.2969\" y2=\"71.2969\"/><text fill=\"#000000\" font-family=\"sans-serif\" font-size=\"14\" font-weight=\"bold\" lengthAdjust=\"spacingAndGlyphs\" textLength=\"20\" x=\"44\" y=\"63.9951\">P2</text><!--MD5=[a60fb756f580feb9fd8e2cf1329b5c91]\n",
       "entity E3--><rect fill=\"#FFFFFF\" height=\"52.5938\" style=\"stroke: #000000; stroke-width: 1.5;\" width=\"91\" x=\"247.5\" y=\"84\"/><text fill=\"#000000\" font-family=\"sans-serif\" font-size=\"14\" font-style=\"italic\" lengthAdjust=\"spacingAndGlyphs\" textLength=\"71\" x=\"257.5\" y=\"106.9951\">«part def»</text><text fill=\"#000000\" font-family=\"sans-serif\" font-size=\"14\" lengthAdjust=\"spacingAndGlyphs\" textLength=\"9\" x=\"288.5\" y=\"123.292\">A</text><polygon fill=\"#FFFFFF\" points=\"141.5,84,176.5,84,183.5,106.2969,190.5,106.2969,190.5,136.5938,141.5,136.5938,141.5,84\" style=\"stroke: #000000; stroke-width: 1.5;\"/><line style=\"stroke: #000000; stroke-width: 1.5;\" x1=\"141.5\" x2=\"183.5\" y1=\"106.2969\" y2=\"106.2969\"/><text fill=\"#000000\" font-family=\"sans-serif\" font-size=\"14\" font-weight=\"bold\" lengthAdjust=\"spacingAndGlyphs\" textLength=\"29\" x=\"145.5\" y=\"98.9951\">P2a</text><g id=\"E1.E4.E6\"><rect fill=\"#FFFFFF\" height=\"50\" rx=\"12.5\" ry=\"12.5\" style=\"stroke: #383838; stroke-width: 1.5;\" width=\"50\" x=\"56\" y=\"85.5\"/><line style=\"stroke: #383838; stroke-width: 1.5;\" x1=\"56\" x2=\"106\" y1=\"111.7969\" y2=\"111.7969\"/><text fill=\"#000000\" font-family=\"sans-serif\" font-size=\"14\" lengthAdjust=\"spacingAndGlyphs\" textLength=\"25\" x=\"68.5\" y=\"103.4951\">x: A</text></g><!--MD5=[b2b5262f5d019a6c528c3aeaf0aaa296]\n",
       "@startuml\r\n",
       "skinparam ranksep 8\r\n",
       "skinparam rectangle {\r\n",
       " backgroundColor<<block>> LightGreen\r\n",
       "}\r\n",
       "top to bottom direction\r\n",
       "skinparam monochrome true\r\n",
       "skinparam classbackgroundcolor white\r\n",
       "skinparam shadowing false\r\n",
       "skinparam wrapWidth 300\r\n",
       "hide circle\r\n",
       "\r\n",
       "package \"QualifiedNameImportTest\" as E1   {\r\n",
       "package \"P1\" as E2   {\r\n",
       "rec def \"A\" as E3  <<part def>> {\r\n",
       "}\r\n",
       "}\r\n",
       "package \"P2\" as E4   {\r\n",
       "package \"P2a\" as E5   {\r\n",
       "}\r\n",
       "rec usage \"x: A\" as E6  {\r\n",
       "}\r\n",
       "}\r\n",
       "}\r\n",
       "@enduml\r\n",
       "\n",
       "PlantUML version 1.2020.13(Sat Jun 13 12:26:38 UTC 2020)\n",
       "(EPL source distribution)\n",
       "Java Runtime: OpenJDK Runtime Environment\n",
       "JVM: OpenJDK 64-Bit Server VM\n",
       "Default Encoding: UTF-8\n",
       "Language: en\n",
       "Country: null\n",
       "--></g></svg>"
      ]
     },
     "execution_count": 47,
     "metadata": {},
     "output_type": "execute_result"
    }
   ],
   "source": [
    "%viz --style=\"TB\" --view=\"Interconnection\" \"QualifiedNameImportTest\""
   ]
  },
  {
   "cell_type": "code",
   "execution_count": 48,
   "id": "informed-palace",
   "metadata": {
    "execution": {
     "iopub.execute_input": "2021-03-26T09:43:33.432305Z",
     "iopub.status.busy": "2021-03-26T09:43:33.431651Z",
     "iopub.status.idle": "2021-03-26T09:43:33.435435Z",
     "shell.execute_reply": "2021-03-26T09:43:33.435926Z"
    }
   },
   "outputs": [
    {
     "data": {
      "text/plain": [
       "java.lang.IllegalArgumentException: Invalid View: Action View candidates are: Default Tree StateMachine Interconnection Activity Sequence MIXED \n",
       "\tat org.omg.sysml.plantuml.SysML2PlantUMLSvc.setView(SysML2PlantUMLSvc.java:63)\n",
       "\tat org.omg.sysml.interactive.SysMLInteractive.viz(SysMLInteractive.java:286)\n",
       "\tat org.omg.sysml.jupyter.kernel.magic.Viz.viz(Viz.java:47)\n",
       "\tat jdk.internal.reflect.GeneratedMethodAccessor7.invoke(Unknown Source)\n",
       "\tat java.base/jdk.internal.reflect.DelegatingMethodAccessorImpl.invoke(DelegatingMethodAccessorImpl.java:43)\n",
       "\tat java.base/java.lang.reflect.Method.invoke(Method.java:568)\n",
       "\tat io.github.spencerpark.jupyter.kernel.magic.registry.Magics.invoke(Magics.java:89)\n",
       "\tat io.github.spencerpark.jupyter.kernel.magic.registry.Magics.access$000(Magics.java:8)\n",
       "\tat io.github.spencerpark.jupyter.kernel.magic.registry.Magics$LineReflectionMagicFunction.execute(Magics.java:149)\n",
       "\tat io.github.spencerpark.jupyter.kernel.magic.registry.Magics.applyLineMagic(Magics.java:26)\n",
       "\tat org.omg.sysml.jupyter.kernel.SysMLKernel.eval(SysMLKernel.java:76)\n",
       "\tat io.github.spencerpark.jupyter.kernel.BaseKernel.handleExecuteRequest(BaseKernel.java:334)\n",
       "\tat io.github.spencerpark.jupyter.channels.ShellChannel.lambda$bind$0(ShellChannel.java:64)\n",
       "\tat io.github.spencerpark.jupyter.channels.Loop.lambda$new$0(Loop.java:21)\n",
       "\tat io.github.spencerpark.jupyter.channels.Loop.run(Loop.java:78)\n"
      ]
     },
     "execution_count": 48,
     "metadata": {},
     "output_type": "execute_result"
    }
   ],
   "source": [
    "%viz --style=\"TB\" --view=\"Action\" \"QualifiedNameImportTest\""
   ]
  },
  {
   "cell_type": "code",
   "execution_count": 49,
   "id": "moving-fruit",
   "metadata": {
    "execution": {
     "iopub.execute_input": "2021-03-26T09:43:33.489167Z",
     "iopub.status.busy": "2021-03-26T09:43:33.488192Z",
     "iopub.status.idle": "2021-03-26T09:43:33.523096Z",
     "shell.execute_reply": "2021-03-26T09:43:33.523417Z"
    }
   },
   "outputs": [
    {
     "data": {
      "image/svg+xml": [
       "<?xml version=\"1.0\" encoding=\"UTF-8\" standalone=\"no\"?><svg xmlns=\"http://www.w3.org/2000/svg\" xmlns:xlink=\"http://www.w3.org/1999/xlink\" contentScriptType=\"application/ecmascript\" contentStyleType=\"text/css\" height=\"310px\" preserveAspectRatio=\"none\" style=\"width:253px;height:310px;\" version=\"1.1\" viewBox=\"0 0 253 310\" width=\"253px\" zoomAndPan=\"magnify\"><defs/><g><!--MD5=[fbc87193dbaf4d95561dea2c320d4a47]\n",
       "cluster E1--><polygon fill=\"#FFFFFF\" points=\"16,6,221,6,228,28.2969,231,28.2969,231,298,16,298,16,6\" style=\"stroke: #000000; stroke-width: 1.5;\"/><line style=\"stroke: #000000; stroke-width: 1.5;\" x1=\"16\" x2=\"228\" y1=\"28.2969\" y2=\"28.2969\"/><text fill=\"#000000\" font-family=\"sans-serif\" font-size=\"14\" font-weight=\"bold\" lengthAdjust=\"spacingAndGlyphs\" textLength=\"199\" x=\"20\" y=\"20.9951\">QualifiedNameImportTest</text><!--MD5=[e4f7fae6ed58524ba242bb0b0d3be6b7]\n",
       "cluster E2--><polygon fill=\"#FFFFFF\" points=\"105,177,131,177,138,199.2969,203,199.2969,203,274,105,274,105,177\" style=\"stroke: #000000; stroke-width: 1.5;\"/><line style=\"stroke: #000000; stroke-width: 1.5;\" x1=\"105\" x2=\"138\" y1=\"199.2969\" y2=\"199.2969\"/><text fill=\"#000000\" font-family=\"sans-serif\" font-size=\"14\" font-weight=\"bold\" lengthAdjust=\"spacingAndGlyphs\" textLength=\"20\" x=\"109\" y=\"191.9951\">P1</text><!--MD5=[f6df4d0ebaf0b5dfb2ced0ae5af7c670]\n",
       "cluster E4--><polygon fill=\"#FFFFFF\" points=\"44,49,70,49,77,71.2969,203,71.2969,203,153,44,153,44,49\" style=\"stroke: #000000; stroke-width: 1.5;\"/><line style=\"stroke: #000000; stroke-width: 1.5;\" x1=\"44\" x2=\"77\" y1=\"71.2969\" y2=\"71.2969\"/><text fill=\"#000000\" font-family=\"sans-serif\" font-size=\"14\" font-weight=\"bold\" lengthAdjust=\"spacingAndGlyphs\" textLength=\"20\" x=\"48\" y=\"63.9951\">P2</text><!--MD5=[09b614a08d8cba4a07c9adeb5e0fee81]\n",
       "class E3--><rect fill=\"#FFFFFF\" height=\"45.9375\" id=\"E3\" style=\"stroke: #383838; stroke-width: 1.5;\" width=\"66\" x=\"121\" y=\"212\"/><text fill=\"#000000\" font-family=\"sans-serif\" font-size=\"12\" font-style=\"italic\" lengthAdjust=\"spacingAndGlyphs\" textLength=\"64\" x=\"122\" y=\"228.1387\">«part def»</text><text fill=\"#000000\" font-family=\"sans-serif\" font-size=\"12\" lengthAdjust=\"spacingAndGlyphs\" textLength=\"8\" x=\"150\" y=\"242.1074\">A</text><line style=\"stroke: #383838; stroke-width: 1.5;\" x1=\"122\" x2=\"186\" y1=\"249.9375\" y2=\"249.9375\"/><!--MD5=[60a26617385b1d2d0262a64233df1f8d]\n",
       "class E6--><rect fill=\"#FFFFFF\" height=\"45.9375\" id=\"E6\" rx=\"10\" ry=\"10\" style=\"stroke: #383838; stroke-width: 1.5;\" width=\"42\" x=\"145\" y=\"87.5\"/><text fill=\"#000000\" font-family=\"sans-serif\" font-size=\"12\" font-style=\"italic\" lengthAdjust=\"spacingAndGlyphs\" textLength=\"40\" x=\"146\" y=\"103.6387\">«part»</text><text fill=\"#000000\" font-family=\"sans-serif\" font-size=\"12\" lengthAdjust=\"spacingAndGlyphs\" textLength=\"22\" x=\"155\" y=\"117.6074\">x: A</text><line style=\"stroke: #383838; stroke-width: 1.5;\" x1=\"146\" x2=\"186\" y1=\"125.4375\" y2=\"125.4375\"/><polygon fill=\"#FFFFFF\" points=\"60.5,84,95.5,84,102.5,106.2969,109.5,106.2969,109.5,136.5938,60.5,136.5938,60.5,84\" style=\"stroke: #000000; stroke-width: 1.5;\"/><line style=\"stroke: #000000; stroke-width: 1.5;\" x1=\"60.5\" x2=\"102.5\" y1=\"106.2969\" y2=\"106.2969\"/><text fill=\"#000000\" font-family=\"sans-serif\" font-size=\"14\" font-weight=\"bold\" lengthAdjust=\"spacingAndGlyphs\" textLength=\"29\" x=\"64.5\" y=\"98.9951\">P2a</text><!--MD5=[a717450b82c80b9240a525fa862496af]\n",
       "link E6 to E3--><path d=\"M163.83,133.68 C162.24,149.9 160.04,172.39 158.12,191.96 \" fill=\"none\" id=\"E6-&gt;E3\" style=\"stroke: #383838; stroke-width: 1.0;\"/><polygon fill=\"#FFFFFF\" points=\"156.16,211.98,151.0533,192.3861,164.986,193.7564,156.16,211.98\" style=\"stroke: #383838; stroke-width: 1.0;\"/><ellipse cx=\"153.6016\" cy=\"186.9092\" fill=\"#383838\" rx=\"2\" ry=\"2\" style=\"stroke: #383838; stroke-width: 1.0;\"/><ellipse cx=\"163.5535\" cy=\"187.888\" fill=\"#383838\" rx=\"2\" ry=\"2\" style=\"stroke: #383838; stroke-width: 1.0;\"/><!--MD5=[5dd73e6fd16556193a9bc074764f7120]\n",
       "@startuml\r\n",
       "top to bottom direction\r\n",
       "skinparam monochrome true\r\n",
       "skinparam classbackgroundcolor white\r\n",
       "skinparam shadowing false\r\n",
       "skinparam wrapWidth 300\r\n",
       "hide circle\r\n",
       "\r\n",
       "package \"QualifiedNameImportTest\" as E1   {\r\n",
       "package \"P1\" as E2   {\r\n",
       "comp def \"A\" as E3  <<(T,blue)part def>> {\r\n",
       "}\r\n",
       "}\r\n",
       "package \"P2\" as E4   {\r\n",
       "package \"P2a\" as E5   {\r\n",
       "}\r\n",
       "comp usage \"x: A\" as E6  <<(T,blue)part>> {\r\n",
       "}\r\n",
       "E6 - -:|> E3\r\n",
       "}\r\n",
       "}\r\n",
       "@enduml\r\n",
       "\n",
       "PlantUML version 1.2020.13(Sat Jun 13 12:26:38 UTC 2020)\n",
       "(EPL source distribution)\n",
       "Java Runtime: OpenJDK Runtime Environment\n",
       "JVM: OpenJDK 64-Bit Server VM\n",
       "Default Encoding: UTF-8\n",
       "Language: en\n",
       "Country: null\n",
       "--></g></svg>"
      ]
     },
     "execution_count": 49,
     "metadata": {},
     "output_type": "execute_result"
    }
   ],
   "source": [
    "%viz --style=\"TB\" --view=\"Sequence\" \"QualifiedNameImportTest\""
   ]
  },
  {
   "cell_type": "code",
   "execution_count": 50,
   "id": "stuck-music",
   "metadata": {
    "execution": {
     "iopub.execute_input": "2021-03-26T09:43:33.574650Z",
     "iopub.status.busy": "2021-03-26T09:43:33.574005Z",
     "iopub.status.idle": "2021-03-26T09:43:33.597894Z",
     "shell.execute_reply": "2021-03-26T09:43:33.597520Z"
    }
   },
   "outputs": [
    {
     "data": {
      "image/svg+xml": [
       "<?xml version=\"1.0\" encoding=\"UTF-8\" standalone=\"no\"?><svg xmlns=\"http://www.w3.org/2000/svg\" xmlns:xlink=\"http://www.w3.org/1999/xlink\" contentScriptType=\"application/ecmascript\" contentStyleType=\"text/css\" height=\"310px\" preserveAspectRatio=\"none\" style=\"width:253px;height:310px;\" version=\"1.1\" viewBox=\"0 0 253 310\" width=\"253px\" zoomAndPan=\"magnify\"><defs/><g><!--MD5=[fbc87193dbaf4d95561dea2c320d4a47]\n",
       "cluster E1--><polygon fill=\"#FFFFFF\" points=\"16,6,221,6,228,28.2969,231,28.2969,231,298,16,298,16,6\" style=\"stroke: #000000; stroke-width: 1.5;\"/><line style=\"stroke: #000000; stroke-width: 1.5;\" x1=\"16\" x2=\"228\" y1=\"28.2969\" y2=\"28.2969\"/><text fill=\"#000000\" font-family=\"sans-serif\" font-size=\"14\" font-weight=\"bold\" lengthAdjust=\"spacingAndGlyphs\" textLength=\"199\" x=\"20\" y=\"20.9951\">QualifiedNameImportTest</text><!--MD5=[e4f7fae6ed58524ba242bb0b0d3be6b7]\n",
       "cluster E2--><polygon fill=\"#FFFFFF\" points=\"105,177,131,177,138,199.2969,203,199.2969,203,274,105,274,105,177\" style=\"stroke: #000000; stroke-width: 1.5;\"/><line style=\"stroke: #000000; stroke-width: 1.5;\" x1=\"105\" x2=\"138\" y1=\"199.2969\" y2=\"199.2969\"/><text fill=\"#000000\" font-family=\"sans-serif\" font-size=\"14\" font-weight=\"bold\" lengthAdjust=\"spacingAndGlyphs\" textLength=\"20\" x=\"109\" y=\"191.9951\">P1</text><!--MD5=[f6df4d0ebaf0b5dfb2ced0ae5af7c670]\n",
       "cluster E4--><polygon fill=\"#FFFFFF\" points=\"44,49,70,49,77,71.2969,203,71.2969,203,153,44,153,44,49\" style=\"stroke: #000000; stroke-width: 1.5;\"/><line style=\"stroke: #000000; stroke-width: 1.5;\" x1=\"44\" x2=\"77\" y1=\"71.2969\" y2=\"71.2969\"/><text fill=\"#000000\" font-family=\"sans-serif\" font-size=\"14\" font-weight=\"bold\" lengthAdjust=\"spacingAndGlyphs\" textLength=\"20\" x=\"48\" y=\"63.9951\">P2</text><!--MD5=[09b614a08d8cba4a07c9adeb5e0fee81]\n",
       "class E3--><rect fill=\"#FFFFFF\" height=\"45.9375\" id=\"E3\" style=\"stroke: #383838; stroke-width: 1.5;\" width=\"66\" x=\"121\" y=\"212\"/><text fill=\"#000000\" font-family=\"sans-serif\" font-size=\"12\" font-style=\"italic\" lengthAdjust=\"spacingAndGlyphs\" textLength=\"64\" x=\"122\" y=\"228.1387\">«part def»</text><text fill=\"#000000\" font-family=\"sans-serif\" font-size=\"12\" lengthAdjust=\"spacingAndGlyphs\" textLength=\"8\" x=\"150\" y=\"242.1074\">A</text><line style=\"stroke: #383838; stroke-width: 1.5;\" x1=\"122\" x2=\"186\" y1=\"249.9375\" y2=\"249.9375\"/><!--MD5=[60a26617385b1d2d0262a64233df1f8d]\n",
       "class E6--><rect fill=\"#FFFFFF\" height=\"45.9375\" id=\"E6\" rx=\"10\" ry=\"10\" style=\"stroke: #383838; stroke-width: 1.5;\" width=\"42\" x=\"145\" y=\"87.5\"/><text fill=\"#000000\" font-family=\"sans-serif\" font-size=\"12\" font-style=\"italic\" lengthAdjust=\"spacingAndGlyphs\" textLength=\"40\" x=\"146\" y=\"103.6387\">«part»</text><text fill=\"#000000\" font-family=\"sans-serif\" font-size=\"12\" lengthAdjust=\"spacingAndGlyphs\" textLength=\"22\" x=\"155\" y=\"117.6074\">x: A</text><line style=\"stroke: #383838; stroke-width: 1.5;\" x1=\"146\" x2=\"186\" y1=\"125.4375\" y2=\"125.4375\"/><polygon fill=\"#FFFFFF\" points=\"60.5,84,95.5,84,102.5,106.2969,109.5,106.2969,109.5,136.5938,60.5,136.5938,60.5,84\" style=\"stroke: #000000; stroke-width: 1.5;\"/><line style=\"stroke: #000000; stroke-width: 1.5;\" x1=\"60.5\" x2=\"102.5\" y1=\"106.2969\" y2=\"106.2969\"/><text fill=\"#000000\" font-family=\"sans-serif\" font-size=\"14\" font-weight=\"bold\" lengthAdjust=\"spacingAndGlyphs\" textLength=\"29\" x=\"64.5\" y=\"98.9951\">P2a</text><!--MD5=[a717450b82c80b9240a525fa862496af]\n",
       "link E6 to E3--><path d=\"M163.83,133.68 C162.24,149.9 160.04,172.39 158.12,191.96 \" fill=\"none\" id=\"E6-&gt;E3\" style=\"stroke: #383838; stroke-width: 1.0;\"/><polygon fill=\"#FFFFFF\" points=\"156.16,211.98,151.0533,192.3861,164.986,193.7564,156.16,211.98\" style=\"stroke: #383838; stroke-width: 1.0;\"/><ellipse cx=\"153.6016\" cy=\"186.9092\" fill=\"#383838\" rx=\"2\" ry=\"2\" style=\"stroke: #383838; stroke-width: 1.0;\"/><ellipse cx=\"163.5535\" cy=\"187.888\" fill=\"#383838\" rx=\"2\" ry=\"2\" style=\"stroke: #383838; stroke-width: 1.0;\"/><!--MD5=[5dd73e6fd16556193a9bc074764f7120]\n",
       "@startuml\r\n",
       "top to bottom direction\r\n",
       "skinparam monochrome true\r\n",
       "skinparam classbackgroundcolor white\r\n",
       "skinparam shadowing false\r\n",
       "skinparam wrapWidth 300\r\n",
       "hide circle\r\n",
       "\r\n",
       "package \"QualifiedNameImportTest\" as E1   {\r\n",
       "package \"P1\" as E2   {\r\n",
       "comp def \"A\" as E3  <<(T,blue)part def>> {\r\n",
       "}\r\n",
       "}\r\n",
       "package \"P2\" as E4   {\r\n",
       "package \"P2a\" as E5   {\r\n",
       "}\r\n",
       "comp usage \"x: A\" as E6  <<(T,blue)part>> {\r\n",
       "}\r\n",
       "E6 - -:|> E3\r\n",
       "}\r\n",
       "}\r\n",
       "@enduml\r\n",
       "\n",
       "PlantUML version 1.2020.13(Sat Jun 13 12:26:38 UTC 2020)\n",
       "(EPL source distribution)\n",
       "Java Runtime: OpenJDK Runtime Environment\n",
       "JVM: OpenJDK 64-Bit Server VM\n",
       "Default Encoding: UTF-8\n",
       "Language: en\n",
       "Country: null\n",
       "--></g></svg>"
      ]
     },
     "execution_count": 50,
     "metadata": {},
     "output_type": "execute_result"
    }
   ],
   "source": [
    "%viz --style=\"TB\" --view=\"MIXED\" \"QualifiedNameImportTest\""
   ]
  },
  {
   "cell_type": "code",
   "execution_count": 51,
   "id": "constant-armstrong",
   "metadata": {
    "execution": {
     "iopub.execute_input": "2021-03-26T09:43:33.649853Z",
     "iopub.status.busy": "2021-03-26T09:43:33.649210Z",
     "iopub.status.idle": "2021-03-26T09:43:33.675291Z",
     "shell.execute_reply": "2021-03-26T09:43:33.674907Z"
    }
   },
   "outputs": [
    {
     "data": {
      "image/svg+xml": [
       "<?xml version=\"1.0\" encoding=\"UTF-8\" standalone=\"no\"?><svg xmlns=\"http://www.w3.org/2000/svg\" xmlns:xlink=\"http://www.w3.org/1999/xlink\" contentScriptType=\"application/ecmascript\" contentStyleType=\"text/css\" height=\"310px\" preserveAspectRatio=\"none\" style=\"width:253px;height:310px;\" version=\"1.1\" viewBox=\"0 0 253 310\" width=\"253px\" zoomAndPan=\"magnify\"><defs/><g><!--MD5=[fbc87193dbaf4d95561dea2c320d4a47]\n",
       "cluster E1--><polygon fill=\"#FFFFFF\" points=\"16,6,221,6,228,28.2969,231,28.2969,231,298,16,298,16,6\" style=\"stroke: #000000; stroke-width: 1.5;\"/><line style=\"stroke: #000000; stroke-width: 1.5;\" x1=\"16\" x2=\"228\" y1=\"28.2969\" y2=\"28.2969\"/><text fill=\"#000000\" font-family=\"sans-serif\" font-size=\"14\" font-weight=\"bold\" lengthAdjust=\"spacingAndGlyphs\" textLength=\"199\" x=\"20\" y=\"20.9951\">QualifiedNameImportTest</text><!--MD5=[e4f7fae6ed58524ba242bb0b0d3be6b7]\n",
       "cluster E2--><polygon fill=\"#FFFFFF\" points=\"105,177,131,177,138,199.2969,203,199.2969,203,274,105,274,105,177\" style=\"stroke: #000000; stroke-width: 1.5;\"/><line style=\"stroke: #000000; stroke-width: 1.5;\" x1=\"105\" x2=\"138\" y1=\"199.2969\" y2=\"199.2969\"/><text fill=\"#000000\" font-family=\"sans-serif\" font-size=\"14\" font-weight=\"bold\" lengthAdjust=\"spacingAndGlyphs\" textLength=\"20\" x=\"109\" y=\"191.9951\">P1</text><!--MD5=[f6df4d0ebaf0b5dfb2ced0ae5af7c670]\n",
       "cluster E4--><polygon fill=\"#FFFFFF\" points=\"44,49,70,49,77,71.2969,203,71.2969,203,153,44,153,44,49\" style=\"stroke: #000000; stroke-width: 1.5;\"/><line style=\"stroke: #000000; stroke-width: 1.5;\" x1=\"44\" x2=\"77\" y1=\"71.2969\" y2=\"71.2969\"/><text fill=\"#000000\" font-family=\"sans-serif\" font-size=\"14\" font-weight=\"bold\" lengthAdjust=\"spacingAndGlyphs\" textLength=\"20\" x=\"48\" y=\"63.9951\">P2</text><!--MD5=[09b614a08d8cba4a07c9adeb5e0fee81]\n",
       "class E3--><rect fill=\"#FFFFFF\" height=\"45.9375\" id=\"E3\" style=\"stroke: #383838; stroke-width: 1.5;\" width=\"66\" x=\"121\" y=\"212\"/><text fill=\"#000000\" font-family=\"sans-serif\" font-size=\"12\" font-style=\"italic\" lengthAdjust=\"spacingAndGlyphs\" textLength=\"64\" x=\"122\" y=\"228.1387\">«part def»</text><text fill=\"#000000\" font-family=\"sans-serif\" font-size=\"12\" lengthAdjust=\"spacingAndGlyphs\" textLength=\"8\" x=\"150\" y=\"242.1074\">A</text><line style=\"stroke: #383838; stroke-width: 1.5;\" x1=\"122\" x2=\"186\" y1=\"249.9375\" y2=\"249.9375\"/><!--MD5=[60a26617385b1d2d0262a64233df1f8d]\n",
       "class E6--><rect fill=\"#FFFFFF\" height=\"45.9375\" id=\"E6\" rx=\"10\" ry=\"10\" style=\"stroke: #383838; stroke-width: 1.5;\" width=\"42\" x=\"145\" y=\"87.5\"/><text fill=\"#000000\" font-family=\"sans-serif\" font-size=\"12\" font-style=\"italic\" lengthAdjust=\"spacingAndGlyphs\" textLength=\"40\" x=\"146\" y=\"103.6387\">«part»</text><text fill=\"#000000\" font-family=\"sans-serif\" font-size=\"12\" lengthAdjust=\"spacingAndGlyphs\" textLength=\"22\" x=\"155\" y=\"117.6074\">x: A</text><line style=\"stroke: #383838; stroke-width: 1.5;\" x1=\"146\" x2=\"186\" y1=\"125.4375\" y2=\"125.4375\"/><polygon fill=\"#FFFFFF\" points=\"60.5,84,95.5,84,102.5,106.2969,109.5,106.2969,109.5,136.5938,60.5,136.5938,60.5,84\" style=\"stroke: #000000; stroke-width: 1.5;\"/><line style=\"stroke: #000000; stroke-width: 1.5;\" x1=\"60.5\" x2=\"102.5\" y1=\"106.2969\" y2=\"106.2969\"/><text fill=\"#000000\" font-family=\"sans-serif\" font-size=\"14\" font-weight=\"bold\" lengthAdjust=\"spacingAndGlyphs\" textLength=\"29\" x=\"64.5\" y=\"98.9951\">P2a</text><!--MD5=[a717450b82c80b9240a525fa862496af]\n",
       "link E6 to E3--><path d=\"M166,133.63 C166,133.63 166,192 166,192 \" fill=\"none\" id=\"E6-&gt;E3\" style=\"stroke: #383838; stroke-width: 1.0;\"/><polygon fill=\"#FFFFFF\" points=\"166,212,159,193,173,193,166,212\" style=\"stroke: #383838; stroke-width: 1.0;\"/><ellipse cx=\"161\" cy=\"187.3\" fill=\"#383838\" rx=\"2\" ry=\"2\" style=\"stroke: #383838; stroke-width: 1.0;\"/><ellipse cx=\"171\" cy=\"187.3\" fill=\"#383838\" rx=\"2\" ry=\"2\" style=\"stroke: #383838; stroke-width: 1.0;\"/><!--MD5=[b2850ab0356fc66b74c5ceafe6b85fc2]\n",
       "@startuml\r\n",
       "skinparam linetype ortho\r\n",
       "skinparam monochrome true\r\n",
       "skinparam classbackgroundcolor white\r\n",
       "skinparam shadowing false\r\n",
       "skinparam wrapWidth 300\r\n",
       "hide circle\r\n",
       "\r\n",
       "package \"QualifiedNameImportTest\" as E1   {\r\n",
       "package \"P1\" as E2   {\r\n",
       "comp def \"A\" as E3  <<(T,blue)part def>> {\r\n",
       "}\r\n",
       "}\r\n",
       "package \"P2\" as E4   {\r\n",
       "package \"P2a\" as E5   {\r\n",
       "}\r\n",
       "comp usage \"x: A\" as E6  <<(T,blue)part>> {\r\n",
       "}\r\n",
       "E6 - -:|> E3\r\n",
       "}\r\n",
       "}\r\n",
       "@enduml\r\n",
       "\n",
       "PlantUML version 1.2020.13(Sat Jun 13 12:26:38 UTC 2020)\n",
       "(EPL source distribution)\n",
       "Java Runtime: OpenJDK Runtime Environment\n",
       "JVM: OpenJDK 64-Bit Server VM\n",
       "Default Encoding: UTF-8\n",
       "Language: en\n",
       "Country: null\n",
       "--></g></svg>"
      ]
     },
     "execution_count": 51,
     "metadata": {},
     "output_type": "execute_result"
    }
   ],
   "source": [
    "%viz --style=\"ORTHOLINE\" --view=\"Default\" \"QualifiedNameImportTest\""
   ]
  },
  {
   "cell_type": "code",
   "execution_count": 52,
   "id": "included-groove",
   "metadata": {
    "execution": {
     "iopub.execute_input": "2021-03-26T09:43:33.727867Z",
     "iopub.status.busy": "2021-03-26T09:43:33.727174Z",
     "iopub.status.idle": "2021-03-26T09:43:33.754597Z",
     "shell.execute_reply": "2021-03-26T09:43:33.754291Z"
    }
   },
   "outputs": [
    {
     "data": {
      "image/svg+xml": [
       "<?xml version=\"1.0\" encoding=\"UTF-8\" standalone=\"no\"?><svg xmlns=\"http://www.w3.org/2000/svg\" xmlns:xlink=\"http://www.w3.org/1999/xlink\" contentScriptType=\"application/ecmascript\" contentStyleType=\"text/css\" height=\"310px\" preserveAspectRatio=\"none\" style=\"width:253px;height:310px;\" version=\"1.1\" viewBox=\"0 0 253 310\" width=\"253px\" zoomAndPan=\"magnify\"><defs/><g><!--MD5=[fbc87193dbaf4d95561dea2c320d4a47]\n",
       "cluster E1--><polygon fill=\"#FFFFFF\" points=\"16,6,221,6,228,28.2969,231,28.2969,231,298,16,298,16,6\" style=\"stroke: #000000; stroke-width: 1.5;\"/><line style=\"stroke: #000000; stroke-width: 1.5;\" x1=\"16\" x2=\"228\" y1=\"28.2969\" y2=\"28.2969\"/><text fill=\"#000000\" font-family=\"sans-serif\" font-size=\"14\" font-weight=\"bold\" lengthAdjust=\"spacingAndGlyphs\" textLength=\"199\" x=\"20\" y=\"20.9951\">QualifiedNameImportTest</text><!--MD5=[e4f7fae6ed58524ba242bb0b0d3be6b7]\n",
       "cluster E2--><polygon fill=\"#FFFFFF\" points=\"105,177,131,177,138,199.2969,203,199.2969,203,274,105,274,105,177\" style=\"stroke: #000000; stroke-width: 1.5;\"/><line style=\"stroke: #000000; stroke-width: 1.5;\" x1=\"105\" x2=\"138\" y1=\"199.2969\" y2=\"199.2969\"/><text fill=\"#000000\" font-family=\"sans-serif\" font-size=\"14\" font-weight=\"bold\" lengthAdjust=\"spacingAndGlyphs\" textLength=\"20\" x=\"109\" y=\"191.9951\">P1</text><!--MD5=[f6df4d0ebaf0b5dfb2ced0ae5af7c670]\n",
       "cluster E4--><polygon fill=\"#FFFFFF\" points=\"44,49,70,49,77,71.2969,203,71.2969,203,153,44,153,44,49\" style=\"stroke: #000000; stroke-width: 1.5;\"/><line style=\"stroke: #000000; stroke-width: 1.5;\" x1=\"44\" x2=\"77\" y1=\"71.2969\" y2=\"71.2969\"/><text fill=\"#000000\" font-family=\"sans-serif\" font-size=\"14\" font-weight=\"bold\" lengthAdjust=\"spacingAndGlyphs\" textLength=\"20\" x=\"48\" y=\"63.9951\">P2</text><!--MD5=[09b614a08d8cba4a07c9adeb5e0fee81]\n",
       "class E3--><rect fill=\"#FFFFFF\" height=\"45.9375\" id=\"E3\" style=\"stroke: #383838; stroke-width: 1.5;\" width=\"66\" x=\"121\" y=\"212\"/><text fill=\"#000000\" font-family=\"sans-serif\" font-size=\"12\" font-style=\"italic\" lengthAdjust=\"spacingAndGlyphs\" textLength=\"64\" x=\"122\" y=\"228.1387\">«part def»</text><text fill=\"#000000\" font-family=\"sans-serif\" font-size=\"12\" lengthAdjust=\"spacingAndGlyphs\" textLength=\"8\" x=\"150\" y=\"242.1074\">A</text><line style=\"stroke: #383838; stroke-width: 1.5;\" x1=\"122\" x2=\"186\" y1=\"249.9375\" y2=\"249.9375\"/><!--MD5=[60a26617385b1d2d0262a64233df1f8d]\n",
       "class E6--><rect fill=\"#FFFFFF\" height=\"45.9375\" id=\"E6\" rx=\"10\" ry=\"10\" style=\"stroke: #383838; stroke-width: 1.5;\" width=\"42\" x=\"145\" y=\"87.5\"/><text fill=\"#000000\" font-family=\"sans-serif\" font-size=\"12\" font-style=\"italic\" lengthAdjust=\"spacingAndGlyphs\" textLength=\"40\" x=\"146\" y=\"103.6387\">«part»</text><text fill=\"#000000\" font-family=\"sans-serif\" font-size=\"12\" lengthAdjust=\"spacingAndGlyphs\" textLength=\"22\" x=\"155\" y=\"117.6074\">x: A</text><line style=\"stroke: #383838; stroke-width: 1.5;\" x1=\"146\" x2=\"186\" y1=\"125.4375\" y2=\"125.4375\"/><polygon fill=\"#FFFFFF\" points=\"60.5,84,95.5,84,102.5,106.2969,109.5,106.2969,109.5,136.5938,60.5,136.5938,60.5,84\" style=\"stroke: #000000; stroke-width: 1.5;\"/><line style=\"stroke: #000000; stroke-width: 1.5;\" x1=\"60.5\" x2=\"102.5\" y1=\"106.2969\" y2=\"106.2969\"/><text fill=\"#000000\" font-family=\"sans-serif\" font-size=\"14\" font-weight=\"bold\" lengthAdjust=\"spacingAndGlyphs\" textLength=\"29\" x=\"64.5\" y=\"98.9951\">P2a</text><!--MD5=[a717450b82c80b9240a525fa862496af]\n",
       "link E6 to E3--><path d=\"M166,133.63 C166,133.63 166,192 166,192 \" fill=\"none\" id=\"E6-&gt;E3\" style=\"stroke: #383838; stroke-width: 1.0;\"/><polygon fill=\"#FFFFFF\" points=\"166,212,159,193,173,193,166,212\" style=\"stroke: #383838; stroke-width: 1.0;\"/><ellipse cx=\"161\" cy=\"187.3\" fill=\"#383838\" rx=\"2\" ry=\"2\" style=\"stroke: #383838; stroke-width: 1.0;\"/><ellipse cx=\"171\" cy=\"187.3\" fill=\"#383838\" rx=\"2\" ry=\"2\" style=\"stroke: #383838; stroke-width: 1.0;\"/><!--MD5=[b2850ab0356fc66b74c5ceafe6b85fc2]\n",
       "@startuml\r\n",
       "skinparam linetype ortho\r\n",
       "skinparam monochrome true\r\n",
       "skinparam classbackgroundcolor white\r\n",
       "skinparam shadowing false\r\n",
       "skinparam wrapWidth 300\r\n",
       "hide circle\r\n",
       "\r\n",
       "package \"QualifiedNameImportTest\" as E1   {\r\n",
       "package \"P1\" as E2   {\r\n",
       "comp def \"A\" as E3  <<(T,blue)part def>> {\r\n",
       "}\r\n",
       "}\r\n",
       "package \"P2\" as E4   {\r\n",
       "package \"P2a\" as E5   {\r\n",
       "}\r\n",
       "comp usage \"x: A\" as E6  <<(T,blue)part>> {\r\n",
       "}\r\n",
       "E6 - -:|> E3\r\n",
       "}\r\n",
       "}\r\n",
       "@enduml\r\n",
       "\n",
       "PlantUML version 1.2020.13(Sat Jun 13 12:26:38 UTC 2020)\n",
       "(EPL source distribution)\n",
       "Java Runtime: OpenJDK Runtime Environment\n",
       "JVM: OpenJDK 64-Bit Server VM\n",
       "Default Encoding: UTF-8\n",
       "Language: en\n",
       "Country: null\n",
       "--></g></svg>"
      ]
     },
     "execution_count": 52,
     "metadata": {},
     "output_type": "execute_result"
    }
   ],
   "source": [
    "%viz --style=\"ORTHOLINE\" --view=\"Tree\" \"QualifiedNameImportTest\""
   ]
  },
  {
   "cell_type": "code",
   "execution_count": 53,
   "id": "activated-planner",
   "metadata": {
    "execution": {
     "iopub.execute_input": "2021-03-26T09:43:33.806676Z",
     "iopub.status.busy": "2021-03-26T09:43:33.805831Z",
     "iopub.status.idle": "2021-03-26T09:43:33.808263Z",
     "shell.execute_reply": "2021-03-26T09:43:33.808684Z"
    }
   },
   "outputs": [
    {
     "data": {
      "text/plain": [
       "java.lang.IllegalArgumentException: Invalid View: State View candidates are: Default Tree StateMachine Interconnection Activity Sequence MIXED \n",
       "\tat org.omg.sysml.plantuml.SysML2PlantUMLSvc.setView(SysML2PlantUMLSvc.java:63)\n",
       "\tat org.omg.sysml.interactive.SysMLInteractive.viz(SysMLInteractive.java:286)\n",
       "\tat org.omg.sysml.jupyter.kernel.magic.Viz.viz(Viz.java:47)\n",
       "\tat jdk.internal.reflect.GeneratedMethodAccessor7.invoke(Unknown Source)\n",
       "\tat java.base/jdk.internal.reflect.DelegatingMethodAccessorImpl.invoke(DelegatingMethodAccessorImpl.java:43)\n",
       "\tat java.base/java.lang.reflect.Method.invoke(Method.java:568)\n",
       "\tat io.github.spencerpark.jupyter.kernel.magic.registry.Magics.invoke(Magics.java:89)\n",
       "\tat io.github.spencerpark.jupyter.kernel.magic.registry.Magics.access$000(Magics.java:8)\n",
       "\tat io.github.spencerpark.jupyter.kernel.magic.registry.Magics$LineReflectionMagicFunction.execute(Magics.java:149)\n",
       "\tat io.github.spencerpark.jupyter.kernel.magic.registry.Magics.applyLineMagic(Magics.java:26)\n",
       "\tat org.omg.sysml.jupyter.kernel.SysMLKernel.eval(SysMLKernel.java:76)\n",
       "\tat io.github.spencerpark.jupyter.kernel.BaseKernel.handleExecuteRequest(BaseKernel.java:334)\n",
       "\tat io.github.spencerpark.jupyter.channels.ShellChannel.lambda$bind$0(ShellChannel.java:64)\n",
       "\tat io.github.spencerpark.jupyter.channels.Loop.lambda$new$0(Loop.java:21)\n",
       "\tat io.github.spencerpark.jupyter.channels.Loop.run(Loop.java:78)\n"
      ]
     },
     "execution_count": 53,
     "metadata": {},
     "output_type": "execute_result"
    }
   ],
   "source": [
    "%viz --style=\"ORTHOLINE\" --view=\"State\" \"QualifiedNameImportTest\""
   ]
  },
  {
   "cell_type": "code",
   "execution_count": 54,
   "id": "excellent-major",
   "metadata": {
    "execution": {
     "iopub.execute_input": "2021-03-26T09:43:33.860651Z",
     "iopub.status.busy": "2021-03-26T09:43:33.859977Z",
     "iopub.status.idle": "2021-03-26T09:43:33.889140Z",
     "shell.execute_reply": "2021-03-26T09:43:33.888808Z"
    }
   },
   "outputs": [
    {
     "data": {
      "image/svg+xml": [
       "<?xml version=\"1.0\" encoding=\"UTF-8\" standalone=\"no\"?><svg xmlns=\"http://www.w3.org/2000/svg\" xmlns:xlink=\"http://www.w3.org/1999/xlink\" contentScriptType=\"application/ecmascript\" contentStyleType=\"text/css\" height=\"189px\" preserveAspectRatio=\"none\" style=\"width:401px;height:189px;\" version=\"1.1\" viewBox=\"0 0 401 189\" width=\"401px\" zoomAndPan=\"magnify\"><defs/><g><!--MD5=[fbc87193dbaf4d95561dea2c320d4a47]\n",
       "cluster E1--><polygon fill=\"#FFFFFF\" points=\"16,6,221,6,228,28.2969,379,28.2969,379,177,16,177,16,6\" style=\"stroke: #000000; stroke-width: 1.5;\"/><line style=\"stroke: #000000; stroke-width: 1.5;\" x1=\"16\" x2=\"228\" y1=\"28.2969\" y2=\"28.2969\"/><text fill=\"#000000\" font-family=\"sans-serif\" font-size=\"14\" font-weight=\"bold\" lengthAdjust=\"spacingAndGlyphs\" textLength=\"199\" x=\"20\" y=\"20.9951\">QualifiedNameImportTest</text><!--MD5=[e4f7fae6ed58524ba242bb0b0d3be6b7]\n",
       "cluster E2--><polygon fill=\"#FFFFFF\" points=\"231,49,257,49,264,71.2969,355,71.2969,355,153,231,153,231,49\" style=\"stroke: #000000; stroke-width: 1.5;\"/><line style=\"stroke: #000000; stroke-width: 1.5;\" x1=\"231\" x2=\"264\" y1=\"71.2969\" y2=\"71.2969\"/><text fill=\"#000000\" font-family=\"sans-serif\" font-size=\"14\" font-weight=\"bold\" lengthAdjust=\"spacingAndGlyphs\" textLength=\"20\" x=\"235\" y=\"63.9951\">P1</text><!--MD5=[f6df4d0ebaf0b5dfb2ced0ae5af7c670]\n",
       "cluster E4--><polygon fill=\"#FFFFFF\" points=\"40,49,66,49,73,71.2969,207,71.2969,207,153,40,153,40,49\" style=\"stroke: #000000; stroke-width: 1.5;\"/><line style=\"stroke: #000000; stroke-width: 1.5;\" x1=\"40\" x2=\"73\" y1=\"71.2969\" y2=\"71.2969\"/><text fill=\"#000000\" font-family=\"sans-serif\" font-size=\"14\" font-weight=\"bold\" lengthAdjust=\"spacingAndGlyphs\" textLength=\"20\" x=\"44\" y=\"63.9951\">P2</text><!--MD5=[a60fb756f580feb9fd8e2cf1329b5c91]\n",
       "entity E3--><rect fill=\"#FFFFFF\" height=\"52.5938\" style=\"stroke: #000000; stroke-width: 1.5;\" width=\"91\" x=\"247.5\" y=\"84\"/><text fill=\"#000000\" font-family=\"sans-serif\" font-size=\"14\" font-style=\"italic\" lengthAdjust=\"spacingAndGlyphs\" textLength=\"71\" x=\"257.5\" y=\"106.9951\">«part def»</text><text fill=\"#000000\" font-family=\"sans-serif\" font-size=\"14\" lengthAdjust=\"spacingAndGlyphs\" textLength=\"9\" x=\"288.5\" y=\"123.292\">A</text><polygon fill=\"#FFFFFF\" points=\"141.5,84,176.5,84,183.5,106.2969,190.5,106.2969,190.5,136.5938,141.5,136.5938,141.5,84\" style=\"stroke: #000000; stroke-width: 1.5;\"/><line style=\"stroke: #000000; stroke-width: 1.5;\" x1=\"141.5\" x2=\"183.5\" y1=\"106.2969\" y2=\"106.2969\"/><text fill=\"#000000\" font-family=\"sans-serif\" font-size=\"14\" font-weight=\"bold\" lengthAdjust=\"spacingAndGlyphs\" textLength=\"29\" x=\"145.5\" y=\"98.9951\">P2a</text><g id=\"E1.E4.E6\"><rect fill=\"#FFFFFF\" height=\"50\" rx=\"12.5\" ry=\"12.5\" style=\"stroke: #383838; stroke-width: 1.5;\" width=\"50\" x=\"56\" y=\"85.5\"/><line style=\"stroke: #383838; stroke-width: 1.5;\" x1=\"56\" x2=\"106\" y1=\"111.7969\" y2=\"111.7969\"/><text fill=\"#000000\" font-family=\"sans-serif\" font-size=\"14\" lengthAdjust=\"spacingAndGlyphs\" textLength=\"25\" x=\"68.5\" y=\"103.4951\">x: A</text></g><!--MD5=[27ac8de94cf9b69198c111fd20d770fb]\n",
       "@startuml\r\n",
       "skinparam ranksep 8\r\n",
       "skinparam rectangle {\r\n",
       " backgroundColor<<block>> LightGreen\r\n",
       "}\r\n",
       "skinparam linetype ortho\r\n",
       "skinparam monochrome true\r\n",
       "skinparam classbackgroundcolor white\r\n",
       "skinparam shadowing false\r\n",
       "skinparam wrapWidth 300\r\n",
       "hide circle\r\n",
       "\r\n",
       "package \"QualifiedNameImportTest\" as E1   {\r\n",
       "package \"P1\" as E2   {\r\n",
       "rec def \"A\" as E3  <<part def>> {\r\n",
       "}\r\n",
       "}\r\n",
       "package \"P2\" as E4   {\r\n",
       "package \"P2a\" as E5   {\r\n",
       "}\r\n",
       "rec usage \"x: A\" as E6  {\r\n",
       "}\r\n",
       "}\r\n",
       "}\r\n",
       "@enduml\r\n",
       "\n",
       "PlantUML version 1.2020.13(Sat Jun 13 12:26:38 UTC 2020)\n",
       "(EPL source distribution)\n",
       "Java Runtime: OpenJDK Runtime Environment\n",
       "JVM: OpenJDK 64-Bit Server VM\n",
       "Default Encoding: UTF-8\n",
       "Language: en\n",
       "Country: null\n",
       "--></g></svg>"
      ]
     },
     "execution_count": 54,
     "metadata": {},
     "output_type": "execute_result"
    }
   ],
   "source": [
    "%viz --style=\"ORTHOLINE\" --view=\"Interconnection\" \"QualifiedNameImportTest\""
   ]
  },
  {
   "cell_type": "code",
   "execution_count": 55,
   "id": "retired-conservation",
   "metadata": {
    "execution": {
     "iopub.execute_input": "2021-03-26T09:43:33.941754Z",
     "iopub.status.busy": "2021-03-26T09:43:33.940746Z",
     "iopub.status.idle": "2021-03-26T09:43:33.943191Z",
     "shell.execute_reply": "2021-03-26T09:43:33.943691Z"
    }
   },
   "outputs": [
    {
     "data": {
      "text/plain": [
       "java.lang.IllegalArgumentException: Invalid View: Action View candidates are: Default Tree StateMachine Interconnection Activity Sequence MIXED \n",
       "\tat org.omg.sysml.plantuml.SysML2PlantUMLSvc.setView(SysML2PlantUMLSvc.java:63)\n",
       "\tat org.omg.sysml.interactive.SysMLInteractive.viz(SysMLInteractive.java:286)\n",
       "\tat org.omg.sysml.jupyter.kernel.magic.Viz.viz(Viz.java:47)\n",
       "\tat jdk.internal.reflect.GeneratedMethodAccessor7.invoke(Unknown Source)\n",
       "\tat java.base/jdk.internal.reflect.DelegatingMethodAccessorImpl.invoke(DelegatingMethodAccessorImpl.java:43)\n",
       "\tat java.base/java.lang.reflect.Method.invoke(Method.java:568)\n",
       "\tat io.github.spencerpark.jupyter.kernel.magic.registry.Magics.invoke(Magics.java:89)\n",
       "\tat io.github.spencerpark.jupyter.kernel.magic.registry.Magics.access$000(Magics.java:8)\n",
       "\tat io.github.spencerpark.jupyter.kernel.magic.registry.Magics$LineReflectionMagicFunction.execute(Magics.java:149)\n",
       "\tat io.github.spencerpark.jupyter.kernel.magic.registry.Magics.applyLineMagic(Magics.java:26)\n",
       "\tat org.omg.sysml.jupyter.kernel.SysMLKernel.eval(SysMLKernel.java:76)\n",
       "\tat io.github.spencerpark.jupyter.kernel.BaseKernel.handleExecuteRequest(BaseKernel.java:334)\n",
       "\tat io.github.spencerpark.jupyter.channels.ShellChannel.lambda$bind$0(ShellChannel.java:64)\n",
       "\tat io.github.spencerpark.jupyter.channels.Loop.lambda$new$0(Loop.java:21)\n",
       "\tat io.github.spencerpark.jupyter.channels.Loop.run(Loop.java:78)\n"
      ]
     },
     "execution_count": 55,
     "metadata": {},
     "output_type": "execute_result"
    }
   ],
   "source": [
    "%viz --style=\"ORTHOLINE\" --view=\"Action\" \"QualifiedNameImportTest\""
   ]
  },
  {
   "cell_type": "code",
   "execution_count": 56,
   "id": "thirty-simple",
   "metadata": {
    "execution": {
     "iopub.execute_input": "2021-03-26T09:43:33.995934Z",
     "iopub.status.busy": "2021-03-26T09:43:33.995065Z",
     "iopub.status.idle": "2021-03-26T09:43:34.027176Z",
     "shell.execute_reply": "2021-03-26T09:43:34.026872Z"
    }
   },
   "outputs": [
    {
     "data": {
      "image/svg+xml": [
       "<?xml version=\"1.0\" encoding=\"UTF-8\" standalone=\"no\"?><svg xmlns=\"http://www.w3.org/2000/svg\" xmlns:xlink=\"http://www.w3.org/1999/xlink\" contentScriptType=\"application/ecmascript\" contentStyleType=\"text/css\" height=\"310px\" preserveAspectRatio=\"none\" style=\"width:253px;height:310px;\" version=\"1.1\" viewBox=\"0 0 253 310\" width=\"253px\" zoomAndPan=\"magnify\"><defs/><g><!--MD5=[fbc87193dbaf4d95561dea2c320d4a47]\n",
       "cluster E1--><polygon fill=\"#FFFFFF\" points=\"16,6,221,6,228,28.2969,231,28.2969,231,298,16,298,16,6\" style=\"stroke: #000000; stroke-width: 1.5;\"/><line style=\"stroke: #000000; stroke-width: 1.5;\" x1=\"16\" x2=\"228\" y1=\"28.2969\" y2=\"28.2969\"/><text fill=\"#000000\" font-family=\"sans-serif\" font-size=\"14\" font-weight=\"bold\" lengthAdjust=\"spacingAndGlyphs\" textLength=\"199\" x=\"20\" y=\"20.9951\">QualifiedNameImportTest</text><!--MD5=[e4f7fae6ed58524ba242bb0b0d3be6b7]\n",
       "cluster E2--><polygon fill=\"#FFFFFF\" points=\"105,177,131,177,138,199.2969,203,199.2969,203,274,105,274,105,177\" style=\"stroke: #000000; stroke-width: 1.5;\"/><line style=\"stroke: #000000; stroke-width: 1.5;\" x1=\"105\" x2=\"138\" y1=\"199.2969\" y2=\"199.2969\"/><text fill=\"#000000\" font-family=\"sans-serif\" font-size=\"14\" font-weight=\"bold\" lengthAdjust=\"spacingAndGlyphs\" textLength=\"20\" x=\"109\" y=\"191.9951\">P1</text><!--MD5=[f6df4d0ebaf0b5dfb2ced0ae5af7c670]\n",
       "cluster E4--><polygon fill=\"#FFFFFF\" points=\"44,49,70,49,77,71.2969,203,71.2969,203,153,44,153,44,49\" style=\"stroke: #000000; stroke-width: 1.5;\"/><line style=\"stroke: #000000; stroke-width: 1.5;\" x1=\"44\" x2=\"77\" y1=\"71.2969\" y2=\"71.2969\"/><text fill=\"#000000\" font-family=\"sans-serif\" font-size=\"14\" font-weight=\"bold\" lengthAdjust=\"spacingAndGlyphs\" textLength=\"20\" x=\"48\" y=\"63.9951\">P2</text><!--MD5=[09b614a08d8cba4a07c9adeb5e0fee81]\n",
       "class E3--><rect fill=\"#FFFFFF\" height=\"45.9375\" id=\"E3\" style=\"stroke: #383838; stroke-width: 1.5;\" width=\"66\" x=\"121\" y=\"212\"/><text fill=\"#000000\" font-family=\"sans-serif\" font-size=\"12\" font-style=\"italic\" lengthAdjust=\"spacingAndGlyphs\" textLength=\"64\" x=\"122\" y=\"228.1387\">«part def»</text><text fill=\"#000000\" font-family=\"sans-serif\" font-size=\"12\" lengthAdjust=\"spacingAndGlyphs\" textLength=\"8\" x=\"150\" y=\"242.1074\">A</text><line style=\"stroke: #383838; stroke-width: 1.5;\" x1=\"122\" x2=\"186\" y1=\"249.9375\" y2=\"249.9375\"/><!--MD5=[60a26617385b1d2d0262a64233df1f8d]\n",
       "class E6--><rect fill=\"#FFFFFF\" height=\"45.9375\" id=\"E6\" rx=\"10\" ry=\"10\" style=\"stroke: #383838; stroke-width: 1.5;\" width=\"42\" x=\"145\" y=\"87.5\"/><text fill=\"#000000\" font-family=\"sans-serif\" font-size=\"12\" font-style=\"italic\" lengthAdjust=\"spacingAndGlyphs\" textLength=\"40\" x=\"146\" y=\"103.6387\">«part»</text><text fill=\"#000000\" font-family=\"sans-serif\" font-size=\"12\" lengthAdjust=\"spacingAndGlyphs\" textLength=\"22\" x=\"155\" y=\"117.6074\">x: A</text><line style=\"stroke: #383838; stroke-width: 1.5;\" x1=\"146\" x2=\"186\" y1=\"125.4375\" y2=\"125.4375\"/><polygon fill=\"#FFFFFF\" points=\"60.5,84,95.5,84,102.5,106.2969,109.5,106.2969,109.5,136.5938,60.5,136.5938,60.5,84\" style=\"stroke: #000000; stroke-width: 1.5;\"/><line style=\"stroke: #000000; stroke-width: 1.5;\" x1=\"60.5\" x2=\"102.5\" y1=\"106.2969\" y2=\"106.2969\"/><text fill=\"#000000\" font-family=\"sans-serif\" font-size=\"14\" font-weight=\"bold\" lengthAdjust=\"spacingAndGlyphs\" textLength=\"29\" x=\"64.5\" y=\"98.9951\">P2a</text><!--MD5=[a717450b82c80b9240a525fa862496af]\n",
       "link E6 to E3--><path d=\"M166,133.63 C166,133.63 166,192 166,192 \" fill=\"none\" id=\"E6-&gt;E3\" style=\"stroke: #383838; stroke-width: 1.0;\"/><polygon fill=\"#FFFFFF\" points=\"166,212,159,193,173,193,166,212\" style=\"stroke: #383838; stroke-width: 1.0;\"/><ellipse cx=\"161\" cy=\"187.3\" fill=\"#383838\" rx=\"2\" ry=\"2\" style=\"stroke: #383838; stroke-width: 1.0;\"/><ellipse cx=\"171\" cy=\"187.3\" fill=\"#383838\" rx=\"2\" ry=\"2\" style=\"stroke: #383838; stroke-width: 1.0;\"/><!--MD5=[b2850ab0356fc66b74c5ceafe6b85fc2]\n",
       "@startuml\r\n",
       "skinparam linetype ortho\r\n",
       "skinparam monochrome true\r\n",
       "skinparam classbackgroundcolor white\r\n",
       "skinparam shadowing false\r\n",
       "skinparam wrapWidth 300\r\n",
       "hide circle\r\n",
       "\r\n",
       "package \"QualifiedNameImportTest\" as E1   {\r\n",
       "package \"P1\" as E2   {\r\n",
       "comp def \"A\" as E3  <<(T,blue)part def>> {\r\n",
       "}\r\n",
       "}\r\n",
       "package \"P2\" as E4   {\r\n",
       "package \"P2a\" as E5   {\r\n",
       "}\r\n",
       "comp usage \"x: A\" as E6  <<(T,blue)part>> {\r\n",
       "}\r\n",
       "E6 - -:|> E3\r\n",
       "}\r\n",
       "}\r\n",
       "@enduml\r\n",
       "\n",
       "PlantUML version 1.2020.13(Sat Jun 13 12:26:38 UTC 2020)\n",
       "(EPL source distribution)\n",
       "Java Runtime: OpenJDK Runtime Environment\n",
       "JVM: OpenJDK 64-Bit Server VM\n",
       "Default Encoding: UTF-8\n",
       "Language: en\n",
       "Country: null\n",
       "--></g></svg>"
      ]
     },
     "execution_count": 56,
     "metadata": {},
     "output_type": "execute_result"
    }
   ],
   "source": [
    "%viz --style=\"ORTHOLINE\" --view=\"Sequence\" \"QualifiedNameImportTest\""
   ]
  },
  {
   "cell_type": "code",
   "execution_count": 57,
   "id": "recreational-monaco",
   "metadata": {
    "execution": {
     "iopub.execute_input": "2021-03-26T09:43:34.080385Z",
     "iopub.status.busy": "2021-03-26T09:43:34.079324Z",
     "iopub.status.idle": "2021-03-26T09:43:34.107509Z",
     "shell.execute_reply": "2021-03-26T09:43:34.107872Z"
    }
   },
   "outputs": [
    {
     "data": {
      "image/svg+xml": [
       "<?xml version=\"1.0\" encoding=\"UTF-8\" standalone=\"no\"?><svg xmlns=\"http://www.w3.org/2000/svg\" xmlns:xlink=\"http://www.w3.org/1999/xlink\" contentScriptType=\"application/ecmascript\" contentStyleType=\"text/css\" height=\"310px\" preserveAspectRatio=\"none\" style=\"width:253px;height:310px;\" version=\"1.1\" viewBox=\"0 0 253 310\" width=\"253px\" zoomAndPan=\"magnify\"><defs/><g><!--MD5=[fbc87193dbaf4d95561dea2c320d4a47]\n",
       "cluster E1--><polygon fill=\"#FFFFFF\" points=\"16,6,221,6,228,28.2969,231,28.2969,231,298,16,298,16,6\" style=\"stroke: #000000; stroke-width: 1.5;\"/><line style=\"stroke: #000000; stroke-width: 1.5;\" x1=\"16\" x2=\"228\" y1=\"28.2969\" y2=\"28.2969\"/><text fill=\"#000000\" font-family=\"sans-serif\" font-size=\"14\" font-weight=\"bold\" lengthAdjust=\"spacingAndGlyphs\" textLength=\"199\" x=\"20\" y=\"20.9951\">QualifiedNameImportTest</text><!--MD5=[e4f7fae6ed58524ba242bb0b0d3be6b7]\n",
       "cluster E2--><polygon fill=\"#FFFFFF\" points=\"105,177,131,177,138,199.2969,203,199.2969,203,274,105,274,105,177\" style=\"stroke: #000000; stroke-width: 1.5;\"/><line style=\"stroke: #000000; stroke-width: 1.5;\" x1=\"105\" x2=\"138\" y1=\"199.2969\" y2=\"199.2969\"/><text fill=\"#000000\" font-family=\"sans-serif\" font-size=\"14\" font-weight=\"bold\" lengthAdjust=\"spacingAndGlyphs\" textLength=\"20\" x=\"109\" y=\"191.9951\">P1</text><!--MD5=[f6df4d0ebaf0b5dfb2ced0ae5af7c670]\n",
       "cluster E4--><polygon fill=\"#FFFFFF\" points=\"44,49,70,49,77,71.2969,203,71.2969,203,153,44,153,44,49\" style=\"stroke: #000000; stroke-width: 1.5;\"/><line style=\"stroke: #000000; stroke-width: 1.5;\" x1=\"44\" x2=\"77\" y1=\"71.2969\" y2=\"71.2969\"/><text fill=\"#000000\" font-family=\"sans-serif\" font-size=\"14\" font-weight=\"bold\" lengthAdjust=\"spacingAndGlyphs\" textLength=\"20\" x=\"48\" y=\"63.9951\">P2</text><!--MD5=[09b614a08d8cba4a07c9adeb5e0fee81]\n",
       "class E3--><rect fill=\"#FFFFFF\" height=\"45.9375\" id=\"E3\" style=\"stroke: #383838; stroke-width: 1.5;\" width=\"66\" x=\"121\" y=\"212\"/><text fill=\"#000000\" font-family=\"sans-serif\" font-size=\"12\" font-style=\"italic\" lengthAdjust=\"spacingAndGlyphs\" textLength=\"64\" x=\"122\" y=\"228.1387\">«part def»</text><text fill=\"#000000\" font-family=\"sans-serif\" font-size=\"12\" lengthAdjust=\"spacingAndGlyphs\" textLength=\"8\" x=\"150\" y=\"242.1074\">A</text><line style=\"stroke: #383838; stroke-width: 1.5;\" x1=\"122\" x2=\"186\" y1=\"249.9375\" y2=\"249.9375\"/><!--MD5=[60a26617385b1d2d0262a64233df1f8d]\n",
       "class E6--><rect fill=\"#FFFFFF\" height=\"45.9375\" id=\"E6\" rx=\"10\" ry=\"10\" style=\"stroke: #383838; stroke-width: 1.5;\" width=\"42\" x=\"145\" y=\"87.5\"/><text fill=\"#000000\" font-family=\"sans-serif\" font-size=\"12\" font-style=\"italic\" lengthAdjust=\"spacingAndGlyphs\" textLength=\"40\" x=\"146\" y=\"103.6387\">«part»</text><text fill=\"#000000\" font-family=\"sans-serif\" font-size=\"12\" lengthAdjust=\"spacingAndGlyphs\" textLength=\"22\" x=\"155\" y=\"117.6074\">x: A</text><line style=\"stroke: #383838; stroke-width: 1.5;\" x1=\"146\" x2=\"186\" y1=\"125.4375\" y2=\"125.4375\"/><polygon fill=\"#FFFFFF\" points=\"60.5,84,95.5,84,102.5,106.2969,109.5,106.2969,109.5,136.5938,60.5,136.5938,60.5,84\" style=\"stroke: #000000; stroke-width: 1.5;\"/><line style=\"stroke: #000000; stroke-width: 1.5;\" x1=\"60.5\" x2=\"102.5\" y1=\"106.2969\" y2=\"106.2969\"/><text fill=\"#000000\" font-family=\"sans-serif\" font-size=\"14\" font-weight=\"bold\" lengthAdjust=\"spacingAndGlyphs\" textLength=\"29\" x=\"64.5\" y=\"98.9951\">P2a</text><!--MD5=[a717450b82c80b9240a525fa862496af]\n",
       "link E6 to E3--><path d=\"M166,133.63 C166,133.63 166,192 166,192 \" fill=\"none\" id=\"E6-&gt;E3\" style=\"stroke: #383838; stroke-width: 1.0;\"/><polygon fill=\"#FFFFFF\" points=\"166,212,159,193,173,193,166,212\" style=\"stroke: #383838; stroke-width: 1.0;\"/><ellipse cx=\"161\" cy=\"187.3\" fill=\"#383838\" rx=\"2\" ry=\"2\" style=\"stroke: #383838; stroke-width: 1.0;\"/><ellipse cx=\"171\" cy=\"187.3\" fill=\"#383838\" rx=\"2\" ry=\"2\" style=\"stroke: #383838; stroke-width: 1.0;\"/><!--MD5=[b2850ab0356fc66b74c5ceafe6b85fc2]\n",
       "@startuml\r\n",
       "skinparam linetype ortho\r\n",
       "skinparam monochrome true\r\n",
       "skinparam classbackgroundcolor white\r\n",
       "skinparam shadowing false\r\n",
       "skinparam wrapWidth 300\r\n",
       "hide circle\r\n",
       "\r\n",
       "package \"QualifiedNameImportTest\" as E1   {\r\n",
       "package \"P1\" as E2   {\r\n",
       "comp def \"A\" as E3  <<(T,blue)part def>> {\r\n",
       "}\r\n",
       "}\r\n",
       "package \"P2\" as E4   {\r\n",
       "package \"P2a\" as E5   {\r\n",
       "}\r\n",
       "comp usage \"x: A\" as E6  <<(T,blue)part>> {\r\n",
       "}\r\n",
       "E6 - -:|> E3\r\n",
       "}\r\n",
       "}\r\n",
       "@enduml\r\n",
       "\n",
       "PlantUML version 1.2020.13(Sat Jun 13 12:26:38 UTC 2020)\n",
       "(EPL source distribution)\n",
       "Java Runtime: OpenJDK Runtime Environment\n",
       "JVM: OpenJDK 64-Bit Server VM\n",
       "Default Encoding: UTF-8\n",
       "Language: en\n",
       "Country: null\n",
       "--></g></svg>"
      ]
     },
     "execution_count": 57,
     "metadata": {},
     "output_type": "execute_result"
    }
   ],
   "source": [
    "%viz --style=\"ORTHOLINE\" --view=\"MIXED\" \"QualifiedNameImportTest\""
   ]
  }
 ],
 "metadata": {
  "kernelspec": {
   "display_name": "SysML",
   "language": "sysml",
   "name": "sysml"
  },
  "language_info": {
   "codemirror_mode": "sysml",
   "file_extension": ".sysml",
   "mimetype": "text/x-sysml",
   "name": "SysML",
   "pygments_lexer": "java",
   "version": "1.0.0"
  }
 },
 "nbformat": 4,
 "nbformat_minor": 5
}
