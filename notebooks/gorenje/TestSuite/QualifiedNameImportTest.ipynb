{
 "cells": [
  {
   "cell_type": "markdown",
   "id": "b17653cb",
   "metadata": {},
   "source": [
    "# SysML v2 Test Suite\n",
    "\n",
    "This can notebook can be cleared using menu `Edit --> Clear All Outputs` and then all cells can be\n",
    "run using menu `Run --> Run All Cells`.\n",
    "\n",
    "**WARNING**: This file is generated, all modifications here will be ignored.\n"
   ]
  },
  {
   "cell_type": "markdown",
   "id": "9ff4b3bb",
   "metadata": {},
   "source": [
    "## File: ../../sysml/src/examples/Import Tests/QualifiedNameImportTest.sysml"
   ]
  },
  {
   "cell_type": "code",
   "execution_count": 1,
   "id": "6d57f003",
   "metadata": {
    "execution": {
     "iopub.execute_input": "2022-02-18T10:50:00.148334Z",
     "iopub.status.busy": "2022-02-18T10:50:00.147336Z",
     "iopub.status.idle": "2022-02-18T10:50:00.244366Z",
     "shell.execute_reply": "2022-02-18T10:50:00.244836Z"
    }
   },
   "outputs": [
    {
     "data": {
      "text/plain": [
       "Package QualifiedNameImportTest (4dbd8a84-28d3-4ea2-888b-6f9eb77a6170)\n"
      ]
     },
     "execution_count": 1,
     "metadata": {},
     "output_type": "execute_result"
    }
   ],
   "source": [
    "package QualifiedNameImportTest {\n",
    "\tpackage P1 {\n",
    "\t\tpart def A;\n",
    "\t}\n",
    "\tpackage P2 {\n",
    "\t\tpackage P2a {\n",
    "\t\t\timport P1::*;\n",
    "\t\t}\n",
    "\t\t// The following should not fail.\n",
    "\t\t// A is a member of P2a because of the import.\n",
    "\t\tpart x: P2a::A;\n",
    "\t}\n",
    "}"
   ]
  },
  {
   "cell_type": "code",
   "execution_count": 2,
   "id": "3f4c3a59",
   "metadata": {
    "execution": {
     "iopub.execute_input": "2022-02-18T10:50:00.294970Z",
     "iopub.status.busy": "2022-02-18T10:50:00.294644Z",
     "iopub.status.idle": "2022-02-18T10:50:00.739666Z",
     "shell.execute_reply": "2022-02-18T10:50:00.739294Z"
    }
   },
   "outputs": [
    {
     "data": {
      "image/svg+xml": [
       "<?xml version=\"1.0\" encoding=\"UTF-8\" standalone=\"no\"?><svg xmlns=\"http://www.w3.org/2000/svg\" xmlns:xlink=\"http://www.w3.org/1999/xlink\" contentScriptType=\"application/ecmascript\" contentStyleType=\"text/css\" height=\"367px\" preserveAspectRatio=\"none\" style=\"width:243px;height:367px;\" version=\"1.1\" viewBox=\"0 0 243 367\" width=\"243px\" zoomAndPan=\"magnify\"><defs/><g><!--MD5=[fbc87193dbaf4d95561dea2c320d4a47]\n",
       "cluster E1--><a href=\"psysml:091e42f3-dddd-4d90-8666-606f19fb366e\" target=\"_top\" title=\"psysml:091e42f3-dddd-4d90-8666-606f19fb366e\" xlink:actuate=\"onRequest\" xlink:href=\"psysml:091e42f3-dddd-4d90-8666-606f19fb366e\" xlink:show=\"new\" xlink:title=\"psysml:091e42f3-dddd-4d90-8666-606f19fb366e\" xlink:type=\"simple\"><polygon fill=\"#FFFFFF\" points=\"16,6,196,6,203,28.2969,219,28.2969,219,355,16,355,16,6\" style=\"stroke: #000000; stroke-width: 1.5;\"/><line style=\"stroke: #000000; stroke-width: 1.5;\" x1=\"16\" x2=\"203\" y1=\"28.2969\" y2=\"28.2969\"/><text fill=\"#000000\" font-family=\"sans-serif\" font-size=\"14\" font-weight=\"bold\" lengthAdjust=\"spacingAndGlyphs\" textLength=\"174\" x=\"20\" y=\"20.9951\">QualifiedNameImportTest</text></a><!--MD5=[e4f7fae6ed58524ba242bb0b0d3be6b7]\n",
       "cluster E2--><a href=\"psysml:63fd19d7-856c-4154-ab3f-5f7beb933c6f\" target=\"_top\" title=\"psysml:63fd19d7-856c-4154-ab3f-5f7beb933c6f\" xlink:actuate=\"onRequest\" xlink:href=\"psysml:63fd19d7-856c-4154-ab3f-5f7beb933c6f\" xlink:show=\"new\" xlink:title=\"psysml:63fd19d7-856c-4154-ab3f-5f7beb933c6f\" xlink:type=\"simple\"><polygon fill=\"#FFFFFF\" points=\"48,210,72,210,79,232.2969,185,232.2969,185,323,48,323,48,210\" style=\"stroke: #000000; stroke-width: 1.5;\"/><line style=\"stroke: #000000; stroke-width: 1.5;\" x1=\"48\" x2=\"79\" y1=\"232.2969\" y2=\"232.2969\"/><text fill=\"#000000\" font-family=\"sans-serif\" font-size=\"14\" font-weight=\"bold\" lengthAdjust=\"spacingAndGlyphs\" textLength=\"18\" x=\"52\" y=\"224.9951\">P1</text></a><!--MD5=[f6df4d0ebaf0b5dfb2ced0ae5af7c670]\n",
       "cluster E4--><a href=\"psysml:d8f64ef2-651e-4c07-9e19-09c43a642dc3\" target=\"_top\" title=\"psysml:d8f64ef2-651e-4c07-9e19-09c43a642dc3\" xlink:actuate=\"onRequest\" xlink:href=\"psysml:d8f64ef2-651e-4c07-9e19-09c43a642dc3\" xlink:show=\"new\" xlink:title=\"psysml:d8f64ef2-651e-4c07-9e19-09c43a642dc3\" xlink:type=\"simple\"><polygon fill=\"#FFFFFF\" points=\"40,49,64,49,71,71.2969,195,71.2969,195,153,40,153,40,49\" style=\"stroke: #000000; stroke-width: 1.5;\"/><line style=\"stroke: #000000; stroke-width: 1.5;\" x1=\"40\" x2=\"71\" y1=\"71.2969\" y2=\"71.2969\"/><text fill=\"#000000\" font-family=\"sans-serif\" font-size=\"14\" font-weight=\"bold\" lengthAdjust=\"spacingAndGlyphs\" textLength=\"18\" x=\"44\" y=\"63.9951\">P2</text></a><!--MD5=[09b614a08d8cba4a07c9adeb5e0fee81]\n",
       "class E3--><a href=\"psysml:9081ec29-06f9-459b-bb5e-85f58996f1a9\" target=\"_top\" title=\"psysml:9081ec29-06f9-459b-bb5e-85f58996f1a9\" xlink:actuate=\"onRequest\" xlink:href=\"psysml:9081ec29-06f9-459b-bb5e-85f58996f1a9\" xlink:show=\"new\" xlink:title=\"psysml:9081ec29-06f9-459b-bb5e-85f58996f1a9\" xlink:type=\"simple\"><rect fill=\"#FFFFFF\" height=\"45.9375\" id=\"E3\" style=\"stroke: #383838; stroke-width: 1.5;\" width=\"70\" x=\"72\" y=\"253\"/><text fill=\"#000000\" font-family=\"sans-serif\" font-size=\"12\" font-style=\"italic\" lengthAdjust=\"spacingAndGlyphs\" textLength=\"68\" x=\"73\" y=\"269.1387\">«part  def»</text><text fill=\"#000000\" font-family=\"sans-serif\" font-size=\"12\" lengthAdjust=\"spacingAndGlyphs\" textLength=\"8\" x=\"103\" y=\"283.1074\">A</text><line style=\"stroke: #383838; stroke-width: 1.5;\" x1=\"73\" x2=\"141\" y1=\"290.9375\" y2=\"290.9375\"/></a><!--MD5=[60a26617385b1d2d0262a64233df1f8d]\n",
       "class E6--><a href=\"psysml:b30d741d-b0a5-4dc2-b144-a7e4c27e5c46\" target=\"_top\" title=\"psysml:b30d741d-b0a5-4dc2-b144-a7e4c27e5c46\" xlink:actuate=\"onRequest\" xlink:href=\"psysml:b30d741d-b0a5-4dc2-b144-a7e4c27e5c46\" xlink:show=\"new\" xlink:title=\"psysml:b30d741d-b0a5-4dc2-b144-a7e4c27e5c46\" xlink:type=\"simple\"><rect fill=\"#FFFFFF\" height=\"45.9375\" id=\"E6\" rx=\"10\" ry=\"10\" style=\"stroke: #383838; stroke-width: 1.5;\" width=\"42\" x=\"56\" y=\"87.5\"/><text fill=\"#000000\" font-family=\"sans-serif\" font-size=\"12\" font-style=\"italic\" lengthAdjust=\"spacingAndGlyphs\" textLength=\"40\" x=\"57\" y=\"103.6387\">«part»</text><text fill=\"#000000\" font-family=\"sans-serif\" font-size=\"12\" lengthAdjust=\"spacingAndGlyphs\" textLength=\"22\" x=\"64\" y=\"117.6074\">x: A</text><line style=\"stroke: #383838; stroke-width: 1.5;\" x1=\"57\" x2=\"97\" y1=\"125.4375\" y2=\"125.4375\"/></a><a href=\"psysml:7edd138a-1c77-4581-b137-3a8c463dac94\" target=\"_top\" title=\"psysml:7edd138a-1c77-4581-b137-3a8c463dac94\" xlink:actuate=\"onRequest\" xlink:href=\"psysml:7edd138a-1c77-4581-b137-3a8c463dac94\" xlink:show=\"new\" xlink:title=\"psysml:7edd138a-1c77-4581-b137-3a8c463dac94\" xlink:type=\"simple\"><polygon fill=\"#FFFFFF\" points=\"133,84,165,84,172,106.2969,179,106.2969,179,136.5938,133,136.5938,133,84\" style=\"stroke: #000000; stroke-width: 1.5;\"/><line style=\"stroke: #000000; stroke-width: 1.5;\" x1=\"133\" x2=\"172\" y1=\"106.2969\" y2=\"106.2969\"/><text fill=\"#000000\" font-family=\"sans-serif\" font-size=\"14\" font-weight=\"bold\" lengthAdjust=\"spacingAndGlyphs\" textLength=\"26\" x=\"137\" y=\"98.9951\">P2a</text></a><!--MD5=[15ebcb19ae302d9b601edb458606d402]\n",
       "link E5 to E2--><a href=\"psysml:b8da89e1-0406-4ebb-8e6e-940fd82b8a4d\" target=\"_top\" title=\"psysml:b8da89e1-0406-4ebb-8e6e-940fd82b8a4d\" xlink:actuate=\"onRequest\" xlink:href=\"psysml:b8da89e1-0406-4ebb-8e6e-940fd82b8a4d\" xlink:show=\"new\" xlink:title=\"psysml:b8da89e1-0406-4ebb-8e6e-940fd82b8a4d\" xlink:type=\"simple\"><path d=\"M159.28,137.05 C160.735,148.365 162.5469,162.4656 164.4519,177.2955 C165.4044,184.7104 166.3802,192.3076 167.3463,199.8301 C167.5878,201.7107 167.8287,203.5867 168.0685,205.4539 C168.1884,206.3876 168.308,207.319 168.4273,208.2478 C168.4869,208.7122 168.5465,209.1759 168.6059,209.6389 \" fill=\"none\" id=\"E5-&gt;E2\" style=\"stroke: #383838; stroke-width: 1.0; stroke-dasharray: 7.0,7.0;\"/><polygon fill=\"#383838\" points=\"168.6059,209.6389,171.427,200.2027,167.9691,204.6796,163.4922,201.2217,168.6059,209.6389\" style=\"stroke: #383838; stroke-width: 1.0;\"/><text fill=\"#000000\" font-family=\"sans-serif\" font-size=\"13\" lengthAdjust=\"spacingAndGlyphs\" textLength=\"65\" x=\"166\" y=\"182.0669\">«import»*</text></a><!--MD5=[a717450b82c80b9240a525fa862496af]\n",
       "link E6 to E3--><a href=\"psysml:ce27ea1d-5c56-4308-8b0e-4b6ab5ed7604\" target=\"_top\" title=\"psysml:ce27ea1d-5c56-4308-8b0e-4b6ab5ed7604\" xlink:actuate=\"onRequest\" xlink:href=\"psysml:ce27ea1d-5c56-4308-8b0e-4b6ab5ed7604\" xlink:show=\"new\" xlink:title=\"psysml:ce27ea1d-5c56-4308-8b0e-4b6ab5ed7604\" xlink:type=\"simple\"><path d=\"M81.05,133.55 C85.7,158.9 93.44,201.1 99.26,232.83 \" fill=\"none\" id=\"E6-&gt;E3\" style=\"stroke: #383838; stroke-width: 1.0;\"/><polygon fill=\"#FFFFFF\" points=\"102.92,252.78,92.6018,235.3578,106.3713,232.8278,102.92,252.78\" style=\"stroke: #383838; stroke-width: 1.0;\"/><ellipse cx=\"93.5388\" cy=\"229.3902\" fill=\"#383838\" rx=\"2\" ry=\"2\" style=\"stroke: #383838; stroke-width: 1.0;\"/><ellipse cx=\"103.3742\" cy=\"227.5831\" fill=\"#383838\" rx=\"2\" ry=\"2\" style=\"stroke: #383838; stroke-width: 1.0;\"/></a><!--MD5=[d9156091342b2cac4e5e9b0dbf230854]\n",
       "@startuml\r\n",
       " skinparam monochrome true\r\n",
       "skinparam classbackgroundcolor white\r\n",
       "skinparam shadowing false\r\n",
       "skinparam wrapWidth 300\r\n",
       "hide circle\r\n",
       "\r\n",
       "package \"QualifiedNameImportTest\" as E1  [[psysml:091e42f3-dddd-4d90-8666-606f19fb366e ]]  {\r\n",
       "package \"P1\" as E2  [[psysml:63fd19d7-856c-4154-ab3f-5f7beb933c6f ]]  {\r\n",
       "comp def \"A\" as E3  <<(T,blue) part  def>> [[psysml:9081ec29-06f9-459b-bb5e-85f58996f1a9 ]] {\r\n",
       "}\r\n",
       "}\r\n",
       "package \"P2\" as E4  [[psysml:d8f64ef2-651e-4c07-9e19-09c43a642dc3 ]]  {\r\n",
       "package \"P2a\" as E5  [[psysml:7edd138a-1c77-4581-b137-3a8c463dac94 ]]  {\r\n",
       "}\r\n",
       "comp usage \"x: A \" as E6  <<(T,blue) part>> [[psysml:b30d741d-b0a5-4dc2-b144-a7e4c27e5c46 ]] {\r\n",
       "}\r\n",
       "}\r\n",
       "}\r\n",
       "E5 ..> E2 [[psysml:b8da89e1-0406-4ebb-8e6e-940fd82b8a4d ]] : <<import>>*\r\n",
       "E6 - -:|> E3 [[psysml:ce27ea1d-5c56-4308-8b0e-4b6ab5ed7604 ]] \r\n",
       "@enduml\r\n",
       "\n",
       "PlantUML version 1.2020.13(Sat Jun 13 12:26:38 UTC 2020)\n",
       "(EPL source distribution)\n",
       "Java Runtime: OpenJDK Runtime Environment\n",
       "JVM: OpenJDK 64-Bit Server VM\n",
       "Default Encoding: UTF-8\n",
       "Language: en\n",
       "Country: null\n",
       "--></g></svg>"
      ]
     },
     "execution_count": 2,
     "metadata": {},
     "output_type": "execute_result"
    }
   ],
   "source": [
    "%viz --style=\"COMPTREE\" --view=\"Default\" \"QualifiedNameImportTest\""
   ]
  },
  {
   "cell_type": "code",
   "execution_count": 3,
   "id": "76e9629d",
   "metadata": {
    "execution": {
     "iopub.execute_input": "2022-02-18T10:50:00.789780Z",
     "iopub.status.busy": "2022-02-18T10:50:00.789328Z",
     "iopub.status.idle": "2022-02-18T10:50:00.846379Z",
     "shell.execute_reply": "2022-02-18T10:50:00.846705Z"
    }
   },
   "outputs": [
    {
     "data": {
      "image/svg+xml": [
       "<?xml version=\"1.0\" encoding=\"UTF-8\" standalone=\"no\"?><svg xmlns=\"http://www.w3.org/2000/svg\" xmlns:xlink=\"http://www.w3.org/1999/xlink\" contentScriptType=\"application/ecmascript\" contentStyleType=\"text/css\" height=\"367px\" preserveAspectRatio=\"none\" style=\"width:243px;height:367px;\" version=\"1.1\" viewBox=\"0 0 243 367\" width=\"243px\" zoomAndPan=\"magnify\"><defs/><g><!--MD5=[fbc87193dbaf4d95561dea2c320d4a47]\n",
       "cluster E1--><a href=\"psysml:091e42f3-dddd-4d90-8666-606f19fb366e\" target=\"_top\" title=\"psysml:091e42f3-dddd-4d90-8666-606f19fb366e\" xlink:actuate=\"onRequest\" xlink:href=\"psysml:091e42f3-dddd-4d90-8666-606f19fb366e\" xlink:show=\"new\" xlink:title=\"psysml:091e42f3-dddd-4d90-8666-606f19fb366e\" xlink:type=\"simple\"><polygon fill=\"#FFFFFF\" points=\"16,6,196,6,203,28.2969,219,28.2969,219,355,16,355,16,6\" style=\"stroke: #000000; stroke-width: 1.5;\"/><line style=\"stroke: #000000; stroke-width: 1.5;\" x1=\"16\" x2=\"203\" y1=\"28.2969\" y2=\"28.2969\"/><text fill=\"#000000\" font-family=\"sans-serif\" font-size=\"14\" font-weight=\"bold\" lengthAdjust=\"spacingAndGlyphs\" textLength=\"174\" x=\"20\" y=\"20.9951\">QualifiedNameImportTest</text></a><!--MD5=[e4f7fae6ed58524ba242bb0b0d3be6b7]\n",
       "cluster E2--><a href=\"psysml:63fd19d7-856c-4154-ab3f-5f7beb933c6f\" target=\"_top\" title=\"psysml:63fd19d7-856c-4154-ab3f-5f7beb933c6f\" xlink:actuate=\"onRequest\" xlink:href=\"psysml:63fd19d7-856c-4154-ab3f-5f7beb933c6f\" xlink:show=\"new\" xlink:title=\"psysml:63fd19d7-856c-4154-ab3f-5f7beb933c6f\" xlink:type=\"simple\"><polygon fill=\"#FFFFFF\" points=\"48,210,72,210,79,232.2969,185,232.2969,185,323,48,323,48,210\" style=\"stroke: #000000; stroke-width: 1.5;\"/><line style=\"stroke: #000000; stroke-width: 1.5;\" x1=\"48\" x2=\"79\" y1=\"232.2969\" y2=\"232.2969\"/><text fill=\"#000000\" font-family=\"sans-serif\" font-size=\"14\" font-weight=\"bold\" lengthAdjust=\"spacingAndGlyphs\" textLength=\"18\" x=\"52\" y=\"224.9951\">P1</text></a><!--MD5=[f6df4d0ebaf0b5dfb2ced0ae5af7c670]\n",
       "cluster E4--><a href=\"psysml:d8f64ef2-651e-4c07-9e19-09c43a642dc3\" target=\"_top\" title=\"psysml:d8f64ef2-651e-4c07-9e19-09c43a642dc3\" xlink:actuate=\"onRequest\" xlink:href=\"psysml:d8f64ef2-651e-4c07-9e19-09c43a642dc3\" xlink:show=\"new\" xlink:title=\"psysml:d8f64ef2-651e-4c07-9e19-09c43a642dc3\" xlink:type=\"simple\"><polygon fill=\"#FFFFFF\" points=\"40,49,64,49,71,71.2969,195,71.2969,195,153,40,153,40,49\" style=\"stroke: #000000; stroke-width: 1.5;\"/><line style=\"stroke: #000000; stroke-width: 1.5;\" x1=\"40\" x2=\"71\" y1=\"71.2969\" y2=\"71.2969\"/><text fill=\"#000000\" font-family=\"sans-serif\" font-size=\"14\" font-weight=\"bold\" lengthAdjust=\"spacingAndGlyphs\" textLength=\"18\" x=\"44\" y=\"63.9951\">P2</text></a><!--MD5=[09b614a08d8cba4a07c9adeb5e0fee81]\n",
       "class E3--><a href=\"psysml:9081ec29-06f9-459b-bb5e-85f58996f1a9\" target=\"_top\" title=\"psysml:9081ec29-06f9-459b-bb5e-85f58996f1a9\" xlink:actuate=\"onRequest\" xlink:href=\"psysml:9081ec29-06f9-459b-bb5e-85f58996f1a9\" xlink:show=\"new\" xlink:title=\"psysml:9081ec29-06f9-459b-bb5e-85f58996f1a9\" xlink:type=\"simple\"><rect fill=\"#FFFFFF\" height=\"45.9375\" id=\"E3\" style=\"stroke: #383838; stroke-width: 1.5;\" width=\"70\" x=\"72\" y=\"253\"/><text fill=\"#000000\" font-family=\"sans-serif\" font-size=\"12\" font-style=\"italic\" lengthAdjust=\"spacingAndGlyphs\" textLength=\"68\" x=\"73\" y=\"269.1387\">«part  def»</text><text fill=\"#000000\" font-family=\"sans-serif\" font-size=\"12\" lengthAdjust=\"spacingAndGlyphs\" textLength=\"8\" x=\"103\" y=\"283.1074\">A</text><line style=\"stroke: #383838; stroke-width: 1.5;\" x1=\"73\" x2=\"141\" y1=\"290.9375\" y2=\"290.9375\"/></a><!--MD5=[60a26617385b1d2d0262a64233df1f8d]\n",
       "class E6--><a href=\"psysml:b30d741d-b0a5-4dc2-b144-a7e4c27e5c46\" target=\"_top\" title=\"psysml:b30d741d-b0a5-4dc2-b144-a7e4c27e5c46\" xlink:actuate=\"onRequest\" xlink:href=\"psysml:b30d741d-b0a5-4dc2-b144-a7e4c27e5c46\" xlink:show=\"new\" xlink:title=\"psysml:b30d741d-b0a5-4dc2-b144-a7e4c27e5c46\" xlink:type=\"simple\"><rect fill=\"#FFFFFF\" height=\"45.9375\" id=\"E6\" rx=\"10\" ry=\"10\" style=\"stroke: #383838; stroke-width: 1.5;\" width=\"42\" x=\"56\" y=\"87.5\"/><text fill=\"#000000\" font-family=\"sans-serif\" font-size=\"12\" font-style=\"italic\" lengthAdjust=\"spacingAndGlyphs\" textLength=\"40\" x=\"57\" y=\"103.6387\">«part»</text><text fill=\"#000000\" font-family=\"sans-serif\" font-size=\"12\" lengthAdjust=\"spacingAndGlyphs\" textLength=\"22\" x=\"64\" y=\"117.6074\">x: A</text><line style=\"stroke: #383838; stroke-width: 1.5;\" x1=\"57\" x2=\"97\" y1=\"125.4375\" y2=\"125.4375\"/></a><a href=\"psysml:7edd138a-1c77-4581-b137-3a8c463dac94\" target=\"_top\" title=\"psysml:7edd138a-1c77-4581-b137-3a8c463dac94\" xlink:actuate=\"onRequest\" xlink:href=\"psysml:7edd138a-1c77-4581-b137-3a8c463dac94\" xlink:show=\"new\" xlink:title=\"psysml:7edd138a-1c77-4581-b137-3a8c463dac94\" xlink:type=\"simple\"><polygon fill=\"#FFFFFF\" points=\"133,84,165,84,172,106.2969,179,106.2969,179,136.5938,133,136.5938,133,84\" style=\"stroke: #000000; stroke-width: 1.5;\"/><line style=\"stroke: #000000; stroke-width: 1.5;\" x1=\"133\" x2=\"172\" y1=\"106.2969\" y2=\"106.2969\"/><text fill=\"#000000\" font-family=\"sans-serif\" font-size=\"14\" font-weight=\"bold\" lengthAdjust=\"spacingAndGlyphs\" textLength=\"26\" x=\"137\" y=\"98.9951\">P2a</text></a><!--MD5=[15ebcb19ae302d9b601edb458606d402]\n",
       "link E5 to E2--><a href=\"psysml:b8da89e1-0406-4ebb-8e6e-940fd82b8a4d\" target=\"_top\" title=\"psysml:b8da89e1-0406-4ebb-8e6e-940fd82b8a4d\" xlink:actuate=\"onRequest\" xlink:href=\"psysml:b8da89e1-0406-4ebb-8e6e-940fd82b8a4d\" xlink:show=\"new\" xlink:title=\"psysml:b8da89e1-0406-4ebb-8e6e-940fd82b8a4d\" xlink:type=\"simple\"><path d=\"M159.28,137.05 C160.735,148.365 162.5469,162.4656 164.4519,177.2955 C165.4044,184.7104 166.3802,192.3076 167.3463,199.8301 C167.5878,201.7107 167.8287,203.5867 168.0685,205.4539 C168.1884,206.3876 168.308,207.319 168.4273,208.2478 C168.4869,208.7122 168.5465,209.1759 168.6059,209.6389 \" fill=\"none\" id=\"E5-&gt;E2\" style=\"stroke: #383838; stroke-width: 1.0; stroke-dasharray: 7.0,7.0;\"/><polygon fill=\"#383838\" points=\"168.6059,209.6389,171.427,200.2027,167.9691,204.6796,163.4922,201.2217,168.6059,209.6389\" style=\"stroke: #383838; stroke-width: 1.0;\"/><text fill=\"#000000\" font-family=\"sans-serif\" font-size=\"13\" lengthAdjust=\"spacingAndGlyphs\" textLength=\"65\" x=\"166\" y=\"182.0669\">«import»*</text></a><!--MD5=[a717450b82c80b9240a525fa862496af]\n",
       "link E6 to E3--><a href=\"psysml:ce27ea1d-5c56-4308-8b0e-4b6ab5ed7604\" target=\"_top\" title=\"psysml:ce27ea1d-5c56-4308-8b0e-4b6ab5ed7604\" xlink:actuate=\"onRequest\" xlink:href=\"psysml:ce27ea1d-5c56-4308-8b0e-4b6ab5ed7604\" xlink:show=\"new\" xlink:title=\"psysml:ce27ea1d-5c56-4308-8b0e-4b6ab5ed7604\" xlink:type=\"simple\"><path d=\"M81.05,133.55 C85.7,158.9 93.44,201.1 99.26,232.83 \" fill=\"none\" id=\"E6-&gt;E3\" style=\"stroke: #383838; stroke-width: 1.0;\"/><polygon fill=\"#FFFFFF\" points=\"102.92,252.78,92.6018,235.3578,106.3713,232.8278,102.92,252.78\" style=\"stroke: #383838; stroke-width: 1.0;\"/><ellipse cx=\"93.5388\" cy=\"229.3902\" fill=\"#383838\" rx=\"2\" ry=\"2\" style=\"stroke: #383838; stroke-width: 1.0;\"/><ellipse cx=\"103.3742\" cy=\"227.5831\" fill=\"#383838\" rx=\"2\" ry=\"2\" style=\"stroke: #383838; stroke-width: 1.0;\"/></a><!--MD5=[d9156091342b2cac4e5e9b0dbf230854]\n",
       "@startuml\r\n",
       " skinparam monochrome true\r\n",
       "skinparam classbackgroundcolor white\r\n",
       "skinparam shadowing false\r\n",
       "skinparam wrapWidth 300\r\n",
       "hide circle\r\n",
       "\r\n",
       "package \"QualifiedNameImportTest\" as E1  [[psysml:091e42f3-dddd-4d90-8666-606f19fb366e ]]  {\r\n",
       "package \"P1\" as E2  [[psysml:63fd19d7-856c-4154-ab3f-5f7beb933c6f ]]  {\r\n",
       "comp def \"A\" as E3  <<(T,blue) part  def>> [[psysml:9081ec29-06f9-459b-bb5e-85f58996f1a9 ]] {\r\n",
       "}\r\n",
       "}\r\n",
       "package \"P2\" as E4  [[psysml:d8f64ef2-651e-4c07-9e19-09c43a642dc3 ]]  {\r\n",
       "package \"P2a\" as E5  [[psysml:7edd138a-1c77-4581-b137-3a8c463dac94 ]]  {\r\n",
       "}\r\n",
       "comp usage \"x: A \" as E6  <<(T,blue) part>> [[psysml:b30d741d-b0a5-4dc2-b144-a7e4c27e5c46 ]] {\r\n",
       "}\r\n",
       "}\r\n",
       "}\r\n",
       "E5 ..> E2 [[psysml:b8da89e1-0406-4ebb-8e6e-940fd82b8a4d ]] : <<import>>*\r\n",
       "E6 - -:|> E3 [[psysml:ce27ea1d-5c56-4308-8b0e-4b6ab5ed7604 ]] \r\n",
       "@enduml\r\n",
       "\n",
       "PlantUML version 1.2020.13(Sat Jun 13 12:26:38 UTC 2020)\n",
       "(EPL source distribution)\n",
       "Java Runtime: OpenJDK Runtime Environment\n",
       "JVM: OpenJDK 64-Bit Server VM\n",
       "Default Encoding: UTF-8\n",
       "Language: en\n",
       "Country: null\n",
       "--></g></svg>"
      ]
     },
     "execution_count": 3,
     "metadata": {},
     "output_type": "execute_result"
    }
   ],
   "source": [
    "%viz --style=\"COMPTREE\" --view=\"Tree\" \"QualifiedNameImportTest\""
   ]
  },
  {
   "cell_type": "code",
   "execution_count": 4,
   "id": "4f05be87",
   "metadata": {
    "execution": {
     "iopub.execute_input": "2022-02-18T10:50:00.897028Z",
     "iopub.status.busy": "2022-02-18T10:50:00.896771Z",
     "iopub.status.idle": "2022-02-18T10:50:00.905740Z",
     "shell.execute_reply": "2022-02-18T10:50:00.906066Z"
    }
   },
   "outputs": [
    {
     "data": {
      "image/svg+xml": [
       "<?xml version=\"1.0\" encoding=\"UTF-8\" standalone=\"no\"?><svg xmlns=\"http://www.w3.org/2000/svg\" xmlns:xlink=\"http://www.w3.org/1999/xlink\" contentScriptType=\"application/ecmascript\" contentStyleType=\"text/css\" height=\"12px\" preserveAspectRatio=\"none\" style=\"width:12px;height:12px;\" version=\"1.1\" viewBox=\"0 0 12 12\" width=\"12px\" zoomAndPan=\"magnify\"><defs/><g><!--MD5=[f19188ef49e11757b5c46753f95d9edc]\n",
       "@startuml\r\n",
       " skinparam monochrome true\r\n",
       "skinparam classbackgroundcolor white\r\n",
       "skinparam shadowing false\r\n",
       "skinparam wrapWidth 300\r\n",
       "hide circle\r\n",
       "\r\n",
       "@enduml\r\n",
       "\n",
       "PlantUML version 1.2020.13(Sat Jun 13 12:26:38 UTC 2020)\n",
       "(EPL source distribution)\n",
       "Java Runtime: OpenJDK Runtime Environment\n",
       "JVM: OpenJDK 64-Bit Server VM\n",
       "Default Encoding: UTF-8\n",
       "Language: en\n",
       "Country: null\n",
       "--></g></svg>"
      ]
     },
     "execution_count": 4,
     "metadata": {},
     "output_type": "execute_result"
    }
   ],
   "source": [
    "%viz --style=\"COMPTREE\" --view=\"State\" \"QualifiedNameImportTest\""
   ]
  },
  {
   "cell_type": "code",
   "execution_count": 5,
   "id": "1d820aec",
   "metadata": {
    "execution": {
     "iopub.execute_input": "2022-02-18T10:50:00.956709Z",
     "iopub.status.busy": "2022-02-18T10:50:00.956282Z",
     "iopub.status.idle": "2022-02-18T10:50:01.007364Z",
     "shell.execute_reply": "2022-02-18T10:50:01.007686Z"
    }
   },
   "outputs": [
    {
     "data": {
      "image/svg+xml": [
       "<?xml version=\"1.0\" encoding=\"UTF-8\" standalone=\"no\"?><svg xmlns=\"http://www.w3.org/2000/svg\" xmlns:xlink=\"http://www.w3.org/1999/xlink\" contentScriptType=\"application/ecmascript\" contentStyleType=\"text/css\" height=\"364px\" preserveAspectRatio=\"none\" style=\"width:249px;height:364px;\" version=\"1.1\" viewBox=\"0 0 249 364\" width=\"249px\" zoomAndPan=\"magnify\"><defs/><g><!--MD5=[fbc87193dbaf4d95561dea2c320d4a47]\n",
       "cluster E1--><a href=\"psysml:091e42f3-dddd-4d90-8666-606f19fb366e\" target=\"_top\" title=\"psysml:091e42f3-dddd-4d90-8666-606f19fb366e\" xlink:actuate=\"onRequest\" xlink:href=\"psysml:091e42f3-dddd-4d90-8666-606f19fb366e\" xlink:show=\"new\" xlink:title=\"psysml:091e42f3-dddd-4d90-8666-606f19fb366e\" xlink:type=\"simple\"><polygon fill=\"#FFFFFF\" points=\"16,6,196,6,203,28.2969,227,28.2969,227,352,16,352,16,6\" style=\"stroke: #000000; stroke-width: 1.5;\"/><line style=\"stroke: #000000; stroke-width: 1.5;\" x1=\"16\" x2=\"203\" y1=\"28.2969\" y2=\"28.2969\"/><text fill=\"#000000\" font-family=\"sans-serif\" font-size=\"14\" font-weight=\"bold\" lengthAdjust=\"spacingAndGlyphs\" textLength=\"174\" x=\"20\" y=\"20.9951\">QualifiedNameImportTest</text></a><!--MD5=[e4f7fae6ed58524ba242bb0b0d3be6b7]\n",
       "cluster E2--><a href=\"psysml:63fd19d7-856c-4154-ab3f-5f7beb933c6f\" target=\"_top\" title=\"psysml:63fd19d7-856c-4154-ab3f-5f7beb933c6f\" xlink:actuate=\"onRequest\" xlink:href=\"psysml:63fd19d7-856c-4154-ab3f-5f7beb933c6f\" xlink:show=\"new\" xlink:title=\"psysml:63fd19d7-856c-4154-ab3f-5f7beb933c6f\" xlink:type=\"simple\"><polygon fill=\"#FFFFFF\" points=\"53,210,77,210,84,232.2969,195,232.2969,195,320,53,320,53,210\" style=\"stroke: #000000; stroke-width: 1.5;\"/><line style=\"stroke: #000000; stroke-width: 1.5;\" x1=\"53\" x2=\"84\" y1=\"232.2969\" y2=\"232.2969\"/><text fill=\"#000000\" font-family=\"sans-serif\" font-size=\"14\" font-weight=\"bold\" lengthAdjust=\"spacingAndGlyphs\" textLength=\"18\" x=\"57\" y=\"224.9951\">P1</text></a><!--MD5=[f6df4d0ebaf0b5dfb2ced0ae5af7c670]\n",
       "cluster E4--><a href=\"psysml:d8f64ef2-651e-4c07-9e19-09c43a642dc3\" target=\"_top\" title=\"psysml:d8f64ef2-651e-4c07-9e19-09c43a642dc3\" xlink:actuate=\"onRequest\" xlink:href=\"psysml:d8f64ef2-651e-4c07-9e19-09c43a642dc3\" xlink:show=\"new\" xlink:title=\"psysml:d8f64ef2-651e-4c07-9e19-09c43a642dc3\" xlink:type=\"simple\"><polygon fill=\"#FFFFFF\" points=\"40,49,64,49,71,71.2969,203,71.2969,203,153,40,153,40,49\" style=\"stroke: #000000; stroke-width: 1.5;\"/><line style=\"stroke: #000000; stroke-width: 1.5;\" x1=\"40\" x2=\"71\" y1=\"71.2969\" y2=\"71.2969\"/><text fill=\"#000000\" font-family=\"sans-serif\" font-size=\"14\" font-weight=\"bold\" lengthAdjust=\"spacingAndGlyphs\" textLength=\"18\" x=\"44\" y=\"63.9951\">P2</text></a><g id=\"E1.E2.E3\"><a href=\"psysml:9081ec29-06f9-459b-bb5e-85f58996f1a9\" target=\"_top\" title=\"psysml:9081ec29-06f9-459b-bb5e-85f58996f1a9\" xlink:actuate=\"onRequest\" xlink:href=\"psysml:9081ec29-06f9-459b-bb5e-85f58996f1a9\" xlink:show=\"new\" xlink:title=\"psysml:9081ec29-06f9-459b-bb5e-85f58996f1a9\" xlink:type=\"simple\"><rect fill=\"#FFFFFF\" height=\"42.9375\" id=\"E3\" style=\"stroke: #383838; stroke-width: 1.5;\" width=\"75\" x=\"96.5\" y=\"253\"/><rect fill=\"#F8F8F8\" height=\"37.9375\" style=\"stroke: #383838; stroke-width: 1.5;\" width=\"75\" x=\"96.5\" y=\"253\"/><text fill=\"#000000\" font-family=\"sans-serif\" font-size=\"12\" font-style=\"italic\" lengthAdjust=\"spacingAndGlyphs\" textLength=\"68\" x=\"100\" y=\"269.1387\">«part  def»</text><text fill=\"#000000\" font-family=\"sans-serif\" font-size=\"12\" lengthAdjust=\"spacingAndGlyphs\" textLength=\"8\" x=\"130\" y=\"283.1074\">A</text></a></g><a href=\"psysml:7edd138a-1c77-4581-b137-3a8c463dac94\" target=\"_top\" title=\"psysml:7edd138a-1c77-4581-b137-3a8c463dac94\" xlink:actuate=\"onRequest\" xlink:href=\"psysml:7edd138a-1c77-4581-b137-3a8c463dac94\" xlink:show=\"new\" xlink:title=\"psysml:7edd138a-1c77-4581-b137-3a8c463dac94\" xlink:type=\"simple\"><polygon fill=\"#FFFFFF\" points=\"141,84,173,84,180,106.2969,187,106.2969,187,136.5938,141,136.5938,141,84\" style=\"stroke: #000000; stroke-width: 1.5;\"/><line style=\"stroke: #000000; stroke-width: 1.5;\" x1=\"141\" x2=\"180\" y1=\"106.2969\" y2=\"106.2969\"/><text fill=\"#000000\" font-family=\"sans-serif\" font-size=\"14\" font-weight=\"bold\" lengthAdjust=\"spacingAndGlyphs\" textLength=\"26\" x=\"145\" y=\"98.9951\">P2a</text></a><g id=\"E1.E4.E6\"><a href=\"psysml:b30d741d-b0a5-4dc2-b144-a7e4c27e5c46\" target=\"_top\" title=\"psysml:b30d741d-b0a5-4dc2-b144-a7e4c27e5c46\" xlink:actuate=\"onRequest\" xlink:href=\"psysml:b30d741d-b0a5-4dc2-b144-a7e4c27e5c46\" xlink:show=\"new\" xlink:title=\"psysml:b30d741d-b0a5-4dc2-b144-a7e4c27e5c46\" xlink:type=\"simple\"><rect fill=\"#FFFFFF\" height=\"40\" id=\"E6\" rx=\"10\" ry=\"10\" style=\"stroke: #383838; stroke-width: 1.5;\" width=\"50\" x=\"56\" y=\"90.5\"/><rect fill=\"#F8F8F8\" height=\"23.9688\" rx=\"10\" ry=\"10\" style=\"stroke: #F8F8F8; stroke-width: 1.5;\" width=\"50\" x=\"56\" y=\"90.5\"/><rect fill=\"#F8F8F8\" height=\"10\" style=\"stroke: #F8F8F8; stroke-width: 1.5;\" width=\"50\" x=\"56\" y=\"104.4688\"/><rect fill=\"none\" height=\"40\" id=\"E6\" rx=\"10\" ry=\"10\" style=\"stroke: #383838; stroke-width: 1.5;\" width=\"50\" x=\"56\" y=\"90.5\"/><text fill=\"#000000\" font-family=\"sans-serif\" font-size=\"12\" lengthAdjust=\"spacingAndGlyphs\" textLength=\"22\" x=\"70\" y=\"106.6387\">x: A</text></a></g><!--MD5=[15ebcb19ae302d9b601edb458606d402]\n",
       "link E5 to E2--><a href=\"psysml:b8da89e1-0406-4ebb-8e6e-940fd82b8a4d\" target=\"_top\" title=\"psysml:b8da89e1-0406-4ebb-8e6e-940fd82b8a4d\" xlink:actuate=\"onRequest\" xlink:href=\"psysml:b8da89e1-0406-4ebb-8e6e-940fd82b8a4d\" xlink:show=\"new\" xlink:title=\"psysml:b8da89e1-0406-4ebb-8e6e-940fd82b8a4d\" xlink:type=\"simple\"><path d=\"M145.15,137.17 C138.8,145.15 131.44,153.75 124,161 C106.75,177.82 94.23,173.87 81,194 C78.5775,197.6875 76.4484,201.6477 74.5773,205.7604 C74.1095,206.7885 73.6578,207.8263 73.2217,208.8716 C73.1127,209.133 73.0046,209.3948 72.8975,209.6571 \" fill=\"none\" id=\"E5-&gt;E2\" style=\"stroke: #383838; stroke-width: 1.0; stroke-dasharray: 7.0,7.0;\"/><polygon fill=\"#383838\" points=\"72.8975,209.6571,80.0029,202.837,74.7876,205.0281,72.5965,199.8128,72.8975,209.6571\" style=\"stroke: #383838; stroke-width: 1.0;\"/><text fill=\"#000000\" font-family=\"sans-serif\" font-size=\"13\" lengthAdjust=\"spacingAndGlyphs\" textLength=\"65\" x=\"114\" y=\"182.0669\">«import»*</text></a><!--MD5=[a05172c987cdf4200e165b302278f98e]\n",
       "@startuml\r\n",
       "skinparam ranksep 10\r\n",
       "skinparam rectangle {\r\n",
       " backgroundColor<<block>> LightGreen\r\n",
       "}\r\n",
       " skinparam monochrome true\r\n",
       "skinparam classbackgroundcolor white\r\n",
       "skinparam shadowing false\r\n",
       "skinparam wrapWidth 300\r\n",
       "hide circle\r\n",
       "\r\n",
       "package \"QualifiedNameImportTest\" as E1  [[psysml:091e42f3-dddd-4d90-8666-606f19fb366e ]]  {\r\n",
       "package \"P1\" as E2  [[psysml:63fd19d7-856c-4154-ab3f-5f7beb933c6f ]]  {\r\n",
       "rec def \"A\" as E3  <<(T,blue) part  def>> [[psysml:9081ec29-06f9-459b-bb5e-85f58996f1a9 ]] {\r\n",
       "}\r\n",
       "}\r\n",
       "package \"P2\" as E4  [[psysml:d8f64ef2-651e-4c07-9e19-09c43a642dc3 ]]  {\r\n",
       "package \"P2a\" as E5  [[psysml:7edd138a-1c77-4581-b137-3a8c463dac94 ]]  {\r\n",
       "}\r\n",
       "rec usage \"x: A\" as E6  [[psysml:b30d741d-b0a5-4dc2-b144-a7e4c27e5c46 ]] {\r\n",
       "}\r\n",
       "}\r\n",
       "}\r\n",
       "E5 ..> E2 [[psysml:b8da89e1-0406-4ebb-8e6e-940fd82b8a4d ]] : <<import>>*\r\n",
       "@enduml\r\n",
       "\n",
       "PlantUML version 1.2020.13(Sat Jun 13 12:26:38 UTC 2020)\n",
       "(EPL source distribution)\n",
       "Java Runtime: OpenJDK Runtime Environment\n",
       "JVM: OpenJDK 64-Bit Server VM\n",
       "Default Encoding: UTF-8\n",
       "Language: en\n",
       "Country: null\n",
       "--></g></svg>"
      ]
     },
     "execution_count": 5,
     "metadata": {},
     "output_type": "execute_result"
    }
   ],
   "source": [
    "%viz --style=\"COMPTREE\" --view=\"Interconnection\" \"QualifiedNameImportTest\""
   ]
  },
  {
   "cell_type": "code",
   "execution_count": 6,
   "id": "7761e779",
   "metadata": {
    "execution": {
     "iopub.execute_input": "2022-02-18T10:50:01.058294Z",
     "iopub.status.busy": "2022-02-18T10:50:01.057884Z",
     "iopub.status.idle": "2022-02-18T10:50:01.065729Z",
     "shell.execute_reply": "2022-02-18T10:50:01.066048Z"
    }
   },
   "outputs": [
    {
     "data": {
      "image/svg+xml": [
       "<?xml version=\"1.0\" encoding=\"UTF-8\" standalone=\"no\"?><svg xmlns=\"http://www.w3.org/2000/svg\" xmlns:xlink=\"http://www.w3.org/1999/xlink\" contentScriptType=\"application/ecmascript\" contentStyleType=\"text/css\" height=\"12px\" preserveAspectRatio=\"none\" style=\"width:12px;height:12px;\" version=\"1.1\" viewBox=\"0 0 12 12\" width=\"12px\" zoomAndPan=\"magnify\"><defs/><g><!--MD5=[655b888544ca4751ea36af1068543f84]\n",
       "@startuml\r\n",
       "skinparam ranksep 8\r\n",
       " skinparam monochrome true\r\n",
       "skinparam classbackgroundcolor white\r\n",
       "skinparam shadowing false\r\n",
       "skinparam wrapWidth 300\r\n",
       "hide circle\r\n",
       "\r\n",
       "@enduml\r\n",
       "\n",
       "PlantUML version 1.2020.13(Sat Jun 13 12:26:38 UTC 2020)\n",
       "(EPL source distribution)\n",
       "Java Runtime: OpenJDK Runtime Environment\n",
       "JVM: OpenJDK 64-Bit Server VM\n",
       "Default Encoding: UTF-8\n",
       "Language: en\n",
       "Country: null\n",
       "--></g></svg>"
      ]
     },
     "execution_count": 6,
     "metadata": {},
     "output_type": "execute_result"
    }
   ],
   "source": [
    "%viz --style=\"COMPTREE\" --view=\"Action\" \"QualifiedNameImportTest\""
   ]
  },
  {
   "cell_type": "code",
   "execution_count": 7,
   "id": "a3bcdcf4",
   "metadata": {
    "execution": {
     "iopub.execute_input": "2022-02-18T10:50:01.116736Z",
     "iopub.status.busy": "2022-02-18T10:50:01.116326Z",
     "iopub.status.idle": "2022-02-18T10:50:01.129286Z",
     "shell.execute_reply": "2022-02-18T10:50:01.129599Z"
    }
   },
   "outputs": [
    {
     "data": {
      "image/svg+xml": [
       "<?xml version=\"1.0\" encoding=\"UTF-8\" standalone=\"no\"?><svg xmlns=\"http://www.w3.org/2000/svg\" xmlns:xlink=\"http://www.w3.org/1999/xlink\" contentScriptType=\"application/ecmascript\" contentStyleType=\"text/css\" height=\"12px\" preserveAspectRatio=\"none\" style=\"width:12px;height:12px;\" version=\"1.1\" viewBox=\"0 0 12 12\" width=\"12px\" zoomAndPan=\"magnify\"><defs/><g><!--MD5=[803fc46c337be7a5c8a9831e35356779]\n",
       "@startuml\r\n",
       "skinparam roundcorner 20\r\n",
       "skinparam BoxPadding 20\r\n",
       "skinparam SequenceBoxBackgroundColor #white\r\n",
       "skinparam style strictuml\r\n",
       "skinparam maxMessageSize 100\r\n",
       " skinparam monochrome true\r\n",
       "skinparam classbackgroundcolor white\r\n",
       "skinparam shadowing false\r\n",
       "skinparam wrapWidth 300\r\n",
       "hide circle\r\n",
       "\r\n",
       "@enduml\r\n",
       "\n",
       "PlantUML version 1.2020.13(Sat Jun 13 12:26:38 UTC 2020)\n",
       "(EPL source distribution)\n",
       "Java Runtime: OpenJDK Runtime Environment\n",
       "JVM: OpenJDK 64-Bit Server VM\n",
       "Default Encoding: UTF-8\n",
       "Language: en\n",
       "Country: null\n",
       "--></g></svg>"
      ]
     },
     "execution_count": 7,
     "metadata": {},
     "output_type": "execute_result"
    }
   ],
   "source": [
    "%viz --style=\"COMPTREE\" --view=\"Sequence\" \"QualifiedNameImportTest\""
   ]
  },
  {
   "cell_type": "code",
   "execution_count": 8,
   "id": "b75a9611",
   "metadata": {
    "execution": {
     "iopub.execute_input": "2022-02-18T10:50:01.180354Z",
     "iopub.status.busy": "2022-02-18T10:50:01.179831Z",
     "iopub.status.idle": "2022-02-18T10:50:01.226905Z",
     "shell.execute_reply": "2022-02-18T10:50:01.226559Z"
    }
   },
   "outputs": [
    {
     "data": {
      "image/svg+xml": [
       "<?xml version=\"1.0\" encoding=\"UTF-8\" standalone=\"no\"?><svg xmlns=\"http://www.w3.org/2000/svg\" xmlns:xlink=\"http://www.w3.org/1999/xlink\" contentScriptType=\"application/ecmascript\" contentStyleType=\"text/css\" height=\"367px\" preserveAspectRatio=\"none\" style=\"width:243px;height:367px;\" version=\"1.1\" viewBox=\"0 0 243 367\" width=\"243px\" zoomAndPan=\"magnify\"><defs/><g><!--MD5=[fbc87193dbaf4d95561dea2c320d4a47]\n",
       "cluster E1--><a href=\"psysml:091e42f3-dddd-4d90-8666-606f19fb366e\" target=\"_top\" title=\"psysml:091e42f3-dddd-4d90-8666-606f19fb366e\" xlink:actuate=\"onRequest\" xlink:href=\"psysml:091e42f3-dddd-4d90-8666-606f19fb366e\" xlink:show=\"new\" xlink:title=\"psysml:091e42f3-dddd-4d90-8666-606f19fb366e\" xlink:type=\"simple\"><polygon fill=\"#FFFFFF\" points=\"16,6,196,6,203,28.2969,219,28.2969,219,355,16,355,16,6\" style=\"stroke: #000000; stroke-width: 1.5;\"/><line style=\"stroke: #000000; stroke-width: 1.5;\" x1=\"16\" x2=\"203\" y1=\"28.2969\" y2=\"28.2969\"/><text fill=\"#000000\" font-family=\"sans-serif\" font-size=\"14\" font-weight=\"bold\" lengthAdjust=\"spacingAndGlyphs\" textLength=\"174\" x=\"20\" y=\"20.9951\">QualifiedNameImportTest</text></a><!--MD5=[e4f7fae6ed58524ba242bb0b0d3be6b7]\n",
       "cluster E2--><a href=\"psysml:63fd19d7-856c-4154-ab3f-5f7beb933c6f\" target=\"_top\" title=\"psysml:63fd19d7-856c-4154-ab3f-5f7beb933c6f\" xlink:actuate=\"onRequest\" xlink:href=\"psysml:63fd19d7-856c-4154-ab3f-5f7beb933c6f\" xlink:show=\"new\" xlink:title=\"psysml:63fd19d7-856c-4154-ab3f-5f7beb933c6f\" xlink:type=\"simple\"><polygon fill=\"#FFFFFF\" points=\"48,210,72,210,79,232.2969,185,232.2969,185,323,48,323,48,210\" style=\"stroke: #000000; stroke-width: 1.5;\"/><line style=\"stroke: #000000; stroke-width: 1.5;\" x1=\"48\" x2=\"79\" y1=\"232.2969\" y2=\"232.2969\"/><text fill=\"#000000\" font-family=\"sans-serif\" font-size=\"14\" font-weight=\"bold\" lengthAdjust=\"spacingAndGlyphs\" textLength=\"18\" x=\"52\" y=\"224.9951\">P1</text></a><!--MD5=[f6df4d0ebaf0b5dfb2ced0ae5af7c670]\n",
       "cluster E4--><a href=\"psysml:d8f64ef2-651e-4c07-9e19-09c43a642dc3\" target=\"_top\" title=\"psysml:d8f64ef2-651e-4c07-9e19-09c43a642dc3\" xlink:actuate=\"onRequest\" xlink:href=\"psysml:d8f64ef2-651e-4c07-9e19-09c43a642dc3\" xlink:show=\"new\" xlink:title=\"psysml:d8f64ef2-651e-4c07-9e19-09c43a642dc3\" xlink:type=\"simple\"><polygon fill=\"#FFFFFF\" points=\"40,49,64,49,71,71.2969,195,71.2969,195,153,40,153,40,49\" style=\"stroke: #000000; stroke-width: 1.5;\"/><line style=\"stroke: #000000; stroke-width: 1.5;\" x1=\"40\" x2=\"71\" y1=\"71.2969\" y2=\"71.2969\"/><text fill=\"#000000\" font-family=\"sans-serif\" font-size=\"14\" font-weight=\"bold\" lengthAdjust=\"spacingAndGlyphs\" textLength=\"18\" x=\"44\" y=\"63.9951\">P2</text></a><!--MD5=[09b614a08d8cba4a07c9adeb5e0fee81]\n",
       "class E3--><a href=\"psysml:9081ec29-06f9-459b-bb5e-85f58996f1a9\" target=\"_top\" title=\"psysml:9081ec29-06f9-459b-bb5e-85f58996f1a9\" xlink:actuate=\"onRequest\" xlink:href=\"psysml:9081ec29-06f9-459b-bb5e-85f58996f1a9\" xlink:show=\"new\" xlink:title=\"psysml:9081ec29-06f9-459b-bb5e-85f58996f1a9\" xlink:type=\"simple\"><rect fill=\"#FFFFFF\" height=\"45.9375\" id=\"E3\" style=\"stroke: #383838; stroke-width: 1.5;\" width=\"70\" x=\"72\" y=\"253\"/><text fill=\"#000000\" font-family=\"sans-serif\" font-size=\"12\" font-style=\"italic\" lengthAdjust=\"spacingAndGlyphs\" textLength=\"68\" x=\"73\" y=\"269.1387\">«part  def»</text><text fill=\"#000000\" font-family=\"sans-serif\" font-size=\"12\" lengthAdjust=\"spacingAndGlyphs\" textLength=\"8\" x=\"103\" y=\"283.1074\">A</text><line style=\"stroke: #383838; stroke-width: 1.5;\" x1=\"73\" x2=\"141\" y1=\"290.9375\" y2=\"290.9375\"/></a><!--MD5=[60a26617385b1d2d0262a64233df1f8d]\n",
       "class E6--><a href=\"psysml:b30d741d-b0a5-4dc2-b144-a7e4c27e5c46\" target=\"_top\" title=\"psysml:b30d741d-b0a5-4dc2-b144-a7e4c27e5c46\" xlink:actuate=\"onRequest\" xlink:href=\"psysml:b30d741d-b0a5-4dc2-b144-a7e4c27e5c46\" xlink:show=\"new\" xlink:title=\"psysml:b30d741d-b0a5-4dc2-b144-a7e4c27e5c46\" xlink:type=\"simple\"><rect fill=\"#FFFFFF\" height=\"45.9375\" id=\"E6\" rx=\"10\" ry=\"10\" style=\"stroke: #383838; stroke-width: 1.5;\" width=\"42\" x=\"56\" y=\"87.5\"/><text fill=\"#000000\" font-family=\"sans-serif\" font-size=\"12\" font-style=\"italic\" lengthAdjust=\"spacingAndGlyphs\" textLength=\"40\" x=\"57\" y=\"103.6387\">«part»</text><text fill=\"#000000\" font-family=\"sans-serif\" font-size=\"12\" lengthAdjust=\"spacingAndGlyphs\" textLength=\"22\" x=\"64\" y=\"117.6074\">x: A</text><line style=\"stroke: #383838; stroke-width: 1.5;\" x1=\"57\" x2=\"97\" y1=\"125.4375\" y2=\"125.4375\"/></a><a href=\"psysml:7edd138a-1c77-4581-b137-3a8c463dac94\" target=\"_top\" title=\"psysml:7edd138a-1c77-4581-b137-3a8c463dac94\" xlink:actuate=\"onRequest\" xlink:href=\"psysml:7edd138a-1c77-4581-b137-3a8c463dac94\" xlink:show=\"new\" xlink:title=\"psysml:7edd138a-1c77-4581-b137-3a8c463dac94\" xlink:type=\"simple\"><polygon fill=\"#FFFFFF\" points=\"133,84,165,84,172,106.2969,179,106.2969,179,136.5938,133,136.5938,133,84\" style=\"stroke: #000000; stroke-width: 1.5;\"/><line style=\"stroke: #000000; stroke-width: 1.5;\" x1=\"133\" x2=\"172\" y1=\"106.2969\" y2=\"106.2969\"/><text fill=\"#000000\" font-family=\"sans-serif\" font-size=\"14\" font-weight=\"bold\" lengthAdjust=\"spacingAndGlyphs\" textLength=\"26\" x=\"137\" y=\"98.9951\">P2a</text></a><!--MD5=[15ebcb19ae302d9b601edb458606d402]\n",
       "link E5 to E2--><a href=\"psysml:b8da89e1-0406-4ebb-8e6e-940fd82b8a4d\" target=\"_top\" title=\"psysml:b8da89e1-0406-4ebb-8e6e-940fd82b8a4d\" xlink:actuate=\"onRequest\" xlink:href=\"psysml:b8da89e1-0406-4ebb-8e6e-940fd82b8a4d\" xlink:show=\"new\" xlink:title=\"psysml:b8da89e1-0406-4ebb-8e6e-940fd82b8a4d\" xlink:type=\"simple\"><path d=\"M159.28,137.05 C160.735,148.365 162.5469,162.4656 164.4519,177.2955 C165.4044,184.7104 166.3802,192.3076 167.3463,199.8301 C167.5878,201.7107 167.8287,203.5867 168.0685,205.4539 C168.1884,206.3876 168.308,207.319 168.4273,208.2478 C168.4869,208.7122 168.5465,209.1759 168.6059,209.6389 \" fill=\"none\" id=\"E5-&gt;E2\" style=\"stroke: #383838; stroke-width: 1.0; stroke-dasharray: 7.0,7.0;\"/><polygon fill=\"#383838\" points=\"168.6059,209.6389,171.427,200.2027,167.9691,204.6796,163.4922,201.2217,168.6059,209.6389\" style=\"stroke: #383838; stroke-width: 1.0;\"/><text fill=\"#000000\" font-family=\"sans-serif\" font-size=\"13\" lengthAdjust=\"spacingAndGlyphs\" textLength=\"65\" x=\"166\" y=\"182.0669\">«import»*</text></a><!--MD5=[a717450b82c80b9240a525fa862496af]\n",
       "link E6 to E3--><a href=\"psysml:ce27ea1d-5c56-4308-8b0e-4b6ab5ed7604\" target=\"_top\" title=\"psysml:ce27ea1d-5c56-4308-8b0e-4b6ab5ed7604\" xlink:actuate=\"onRequest\" xlink:href=\"psysml:ce27ea1d-5c56-4308-8b0e-4b6ab5ed7604\" xlink:show=\"new\" xlink:title=\"psysml:ce27ea1d-5c56-4308-8b0e-4b6ab5ed7604\" xlink:type=\"simple\"><path d=\"M81.05,133.55 C85.7,158.9 93.44,201.1 99.26,232.83 \" fill=\"none\" id=\"E6-&gt;E3\" style=\"stroke: #383838; stroke-width: 1.0;\"/><polygon fill=\"#FFFFFF\" points=\"102.92,252.78,92.6018,235.3578,106.3713,232.8278,102.92,252.78\" style=\"stroke: #383838; stroke-width: 1.0;\"/><ellipse cx=\"93.5388\" cy=\"229.3902\" fill=\"#383838\" rx=\"2\" ry=\"2\" style=\"stroke: #383838; stroke-width: 1.0;\"/><ellipse cx=\"103.3742\" cy=\"227.5831\" fill=\"#383838\" rx=\"2\" ry=\"2\" style=\"stroke: #383838; stroke-width: 1.0;\"/></a><!--MD5=[d9156091342b2cac4e5e9b0dbf230854]\n",
       "@startuml\r\n",
       " skinparam monochrome true\r\n",
       "skinparam classbackgroundcolor white\r\n",
       "skinparam shadowing false\r\n",
       "skinparam wrapWidth 300\r\n",
       "hide circle\r\n",
       "\r\n",
       "package \"QualifiedNameImportTest\" as E1  [[psysml:091e42f3-dddd-4d90-8666-606f19fb366e ]]  {\r\n",
       "package \"P1\" as E2  [[psysml:63fd19d7-856c-4154-ab3f-5f7beb933c6f ]]  {\r\n",
       "comp def \"A\" as E3  <<(T,blue) part  def>> [[psysml:9081ec29-06f9-459b-bb5e-85f58996f1a9 ]] {\r\n",
       "}\r\n",
       "}\r\n",
       "package \"P2\" as E4  [[psysml:d8f64ef2-651e-4c07-9e19-09c43a642dc3 ]]  {\r\n",
       "package \"P2a\" as E5  [[psysml:7edd138a-1c77-4581-b137-3a8c463dac94 ]]  {\r\n",
       "}\r\n",
       "comp usage \"x: A \" as E6  <<(T,blue) part>> [[psysml:b30d741d-b0a5-4dc2-b144-a7e4c27e5c46 ]] {\r\n",
       "}\r\n",
       "}\r\n",
       "}\r\n",
       "E5 ..> E2 [[psysml:b8da89e1-0406-4ebb-8e6e-940fd82b8a4d ]] : <<import>>*\r\n",
       "E6 - -:|> E3 [[psysml:ce27ea1d-5c56-4308-8b0e-4b6ab5ed7604 ]] \r\n",
       "@enduml\r\n",
       "\n",
       "PlantUML version 1.2020.13(Sat Jun 13 12:26:38 UTC 2020)\n",
       "(EPL source distribution)\n",
       "Java Runtime: OpenJDK Runtime Environment\n",
       "JVM: OpenJDK 64-Bit Server VM\n",
       "Default Encoding: UTF-8\n",
       "Language: en\n",
       "Country: null\n",
       "--></g></svg>"
      ]
     },
     "execution_count": 8,
     "metadata": {},
     "output_type": "execute_result"
    }
   ],
   "source": [
    "%viz --style=\"COMPTREE\" --view=\"MIXED\" \"QualifiedNameImportTest\""
   ]
  },
  {
   "cell_type": "code",
   "execution_count": 9,
   "id": "75968f28",
   "metadata": {
    "execution": {
     "iopub.execute_input": "2022-02-18T10:50:01.276926Z",
     "iopub.status.busy": "2022-02-18T10:50:01.276513Z",
     "iopub.status.idle": "2022-02-18T10:50:01.323487Z",
     "shell.execute_reply": "2022-02-18T10:50:01.322948Z"
    }
   },
   "outputs": [
    {
     "data": {
      "image/svg+xml": [
       "<?xml version=\"1.0\" encoding=\"UTF-8\" standalone=\"no\"?><svg xmlns=\"http://www.w3.org/2000/svg\" xmlns:xlink=\"http://www.w3.org/1999/xlink\" contentScriptType=\"application/ecmascript\" contentStyleType=\"text/css\" height=\"367px\" preserveAspectRatio=\"none\" style=\"width:243px;height:367px;\" version=\"1.1\" viewBox=\"0 0 243 367\" width=\"243px\" zoomAndPan=\"magnify\"><defs/><g><!--MD5=[fbc87193dbaf4d95561dea2c320d4a47]\n",
       "cluster E1--><a href=\"psysml:091e42f3-dddd-4d90-8666-606f19fb366e\" target=\"_top\" title=\"psysml:091e42f3-dddd-4d90-8666-606f19fb366e\" xlink:actuate=\"onRequest\" xlink:href=\"psysml:091e42f3-dddd-4d90-8666-606f19fb366e\" xlink:show=\"new\" xlink:title=\"psysml:091e42f3-dddd-4d90-8666-606f19fb366e\" xlink:type=\"simple\"><polygon fill=\"#FFFFFF\" points=\"16,6,196,6,203,28.2969,219,28.2969,219,355,16,355,16,6\" style=\"stroke: #000000; stroke-width: 1.5;\"/><line style=\"stroke: #000000; stroke-width: 1.5;\" x1=\"16\" x2=\"203\" y1=\"28.2969\" y2=\"28.2969\"/><text fill=\"#000000\" font-family=\"sans-serif\" font-size=\"14\" font-weight=\"bold\" lengthAdjust=\"spacingAndGlyphs\" textLength=\"174\" x=\"20\" y=\"20.9951\">QualifiedNameImportTest</text></a><!--MD5=[e4f7fae6ed58524ba242bb0b0d3be6b7]\n",
       "cluster E2--><a href=\"psysml:63fd19d7-856c-4154-ab3f-5f7beb933c6f\" target=\"_top\" title=\"psysml:63fd19d7-856c-4154-ab3f-5f7beb933c6f\" xlink:actuate=\"onRequest\" xlink:href=\"psysml:63fd19d7-856c-4154-ab3f-5f7beb933c6f\" xlink:show=\"new\" xlink:title=\"psysml:63fd19d7-856c-4154-ab3f-5f7beb933c6f\" xlink:type=\"simple\"><polygon fill=\"#FFFFFF\" points=\"48,210,72,210,79,232.2969,185,232.2969,185,323,48,323,48,210\" style=\"stroke: #000000; stroke-width: 1.5;\"/><line style=\"stroke: #000000; stroke-width: 1.5;\" x1=\"48\" x2=\"79\" y1=\"232.2969\" y2=\"232.2969\"/><text fill=\"#000000\" font-family=\"sans-serif\" font-size=\"14\" font-weight=\"bold\" lengthAdjust=\"spacingAndGlyphs\" textLength=\"18\" x=\"52\" y=\"224.9951\">P1</text></a><!--MD5=[f6df4d0ebaf0b5dfb2ced0ae5af7c670]\n",
       "cluster E4--><a href=\"psysml:d8f64ef2-651e-4c07-9e19-09c43a642dc3\" target=\"_top\" title=\"psysml:d8f64ef2-651e-4c07-9e19-09c43a642dc3\" xlink:actuate=\"onRequest\" xlink:href=\"psysml:d8f64ef2-651e-4c07-9e19-09c43a642dc3\" xlink:show=\"new\" xlink:title=\"psysml:d8f64ef2-651e-4c07-9e19-09c43a642dc3\" xlink:type=\"simple\"><polygon fill=\"#FFFFFF\" points=\"40,49,64,49,71,71.2969,195,71.2969,195,153,40,153,40,49\" style=\"stroke: #000000; stroke-width: 1.5;\"/><line style=\"stroke: #000000; stroke-width: 1.5;\" x1=\"40\" x2=\"71\" y1=\"71.2969\" y2=\"71.2969\"/><text fill=\"#000000\" font-family=\"sans-serif\" font-size=\"14\" font-weight=\"bold\" lengthAdjust=\"spacingAndGlyphs\" textLength=\"18\" x=\"44\" y=\"63.9951\">P2</text></a><!--MD5=[09b614a08d8cba4a07c9adeb5e0fee81]\n",
       "class E3--><a href=\"psysml:9081ec29-06f9-459b-bb5e-85f58996f1a9\" target=\"_top\" title=\"psysml:9081ec29-06f9-459b-bb5e-85f58996f1a9\" xlink:actuate=\"onRequest\" xlink:href=\"psysml:9081ec29-06f9-459b-bb5e-85f58996f1a9\" xlink:show=\"new\" xlink:title=\"psysml:9081ec29-06f9-459b-bb5e-85f58996f1a9\" xlink:type=\"simple\"><rect fill=\"#FFFFFF\" height=\"45.9375\" id=\"E3\" style=\"stroke: #383838; stroke-width: 1.5;\" width=\"70\" x=\"72\" y=\"253\"/><text fill=\"#000000\" font-family=\"sans-serif\" font-size=\"12\" font-style=\"italic\" lengthAdjust=\"spacingAndGlyphs\" textLength=\"68\" x=\"73\" y=\"269.1387\">«part  def»</text><text fill=\"#000000\" font-family=\"sans-serif\" font-size=\"12\" lengthAdjust=\"spacingAndGlyphs\" textLength=\"8\" x=\"103\" y=\"283.1074\">A</text><line style=\"stroke: #383838; stroke-width: 1.5;\" x1=\"73\" x2=\"141\" y1=\"290.9375\" y2=\"290.9375\"/></a><!--MD5=[60a26617385b1d2d0262a64233df1f8d]\n",
       "class E6--><a href=\"psysml:b30d741d-b0a5-4dc2-b144-a7e4c27e5c46\" target=\"_top\" title=\"psysml:b30d741d-b0a5-4dc2-b144-a7e4c27e5c46\" xlink:actuate=\"onRequest\" xlink:href=\"psysml:b30d741d-b0a5-4dc2-b144-a7e4c27e5c46\" xlink:show=\"new\" xlink:title=\"psysml:b30d741d-b0a5-4dc2-b144-a7e4c27e5c46\" xlink:type=\"simple\"><rect fill=\"#FFFFFF\" height=\"45.9375\" id=\"E6\" rx=\"10\" ry=\"10\" style=\"stroke: #383838; stroke-width: 1.5;\" width=\"42\" x=\"56\" y=\"87.5\"/><text fill=\"#000000\" font-family=\"sans-serif\" font-size=\"12\" font-style=\"italic\" lengthAdjust=\"spacingAndGlyphs\" textLength=\"40\" x=\"57\" y=\"103.6387\">«part»</text><text fill=\"#000000\" font-family=\"sans-serif\" font-size=\"12\" lengthAdjust=\"spacingAndGlyphs\" textLength=\"22\" x=\"64\" y=\"117.6074\">x: A</text><line style=\"stroke: #383838; stroke-width: 1.5;\" x1=\"57\" x2=\"97\" y1=\"125.4375\" y2=\"125.4375\"/></a><a href=\"psysml:7edd138a-1c77-4581-b137-3a8c463dac94\" target=\"_top\" title=\"psysml:7edd138a-1c77-4581-b137-3a8c463dac94\" xlink:actuate=\"onRequest\" xlink:href=\"psysml:7edd138a-1c77-4581-b137-3a8c463dac94\" xlink:show=\"new\" xlink:title=\"psysml:7edd138a-1c77-4581-b137-3a8c463dac94\" xlink:type=\"simple\"><polygon fill=\"#FFFFFF\" points=\"133,84,165,84,172,106.2969,179,106.2969,179,136.5938,133,136.5938,133,84\" style=\"stroke: #000000; stroke-width: 1.5;\"/><line style=\"stroke: #000000; stroke-width: 1.5;\" x1=\"133\" x2=\"172\" y1=\"106.2969\" y2=\"106.2969\"/><text fill=\"#000000\" font-family=\"sans-serif\" font-size=\"14\" font-weight=\"bold\" lengthAdjust=\"spacingAndGlyphs\" textLength=\"26\" x=\"137\" y=\"98.9951\">P2a</text></a><!--MD5=[15ebcb19ae302d9b601edb458606d402]\n",
       "link E5 to E2--><a href=\"psysml:b8da89e1-0406-4ebb-8e6e-940fd82b8a4d\" target=\"_top\" title=\"psysml:b8da89e1-0406-4ebb-8e6e-940fd82b8a4d\" xlink:actuate=\"onRequest\" xlink:href=\"psysml:b8da89e1-0406-4ebb-8e6e-940fd82b8a4d\" xlink:show=\"new\" xlink:title=\"psysml:b8da89e1-0406-4ebb-8e6e-940fd82b8a4d\" xlink:type=\"simple\"><path d=\"M159.28,137.05 C160.735,148.365 162.5469,162.4656 164.4519,177.2955 C165.4044,184.7104 166.3802,192.3076 167.3463,199.8301 C167.5878,201.7107 167.8287,203.5867 168.0685,205.4539 C168.1884,206.3876 168.308,207.319 168.4273,208.2478 C168.4869,208.7122 168.5465,209.1759 168.6059,209.6389 \" fill=\"none\" id=\"E5-&gt;E2\" style=\"stroke: #383838; stroke-width: 1.0; stroke-dasharray: 7.0,7.0;\"/><polygon fill=\"#383838\" points=\"168.6059,209.6389,171.427,200.2027,167.9691,204.6796,163.4922,201.2217,168.6059,209.6389\" style=\"stroke: #383838; stroke-width: 1.0;\"/><text fill=\"#000000\" font-family=\"sans-serif\" font-size=\"13\" lengthAdjust=\"spacingAndGlyphs\" textLength=\"65\" x=\"166\" y=\"182.0669\">«import»*</text></a><!--MD5=[a717450b82c80b9240a525fa862496af]\n",
       "link E6 to E3--><a href=\"psysml:ce27ea1d-5c56-4308-8b0e-4b6ab5ed7604\" target=\"_top\" title=\"psysml:ce27ea1d-5c56-4308-8b0e-4b6ab5ed7604\" xlink:actuate=\"onRequest\" xlink:href=\"psysml:ce27ea1d-5c56-4308-8b0e-4b6ab5ed7604\" xlink:show=\"new\" xlink:title=\"psysml:ce27ea1d-5c56-4308-8b0e-4b6ab5ed7604\" xlink:type=\"simple\"><path d=\"M81.05,133.55 C85.7,158.9 93.44,201.1 99.26,232.83 \" fill=\"none\" id=\"E6-&gt;E3\" style=\"stroke: #383838; stroke-width: 1.0;\"/><polygon fill=\"#FFFFFF\" points=\"102.92,252.78,92.6018,235.3578,106.3713,232.8278,102.92,252.78\" style=\"stroke: #383838; stroke-width: 1.0;\"/><ellipse cx=\"93.5388\" cy=\"229.3902\" fill=\"#383838\" rx=\"2\" ry=\"2\" style=\"stroke: #383838; stroke-width: 1.0;\"/><ellipse cx=\"103.3742\" cy=\"227.5831\" fill=\"#383838\" rx=\"2\" ry=\"2\" style=\"stroke: #383838; stroke-width: 1.0;\"/></a><!--MD5=[73f91471383bb76e4508728f111b2358]\n",
       "@startuml\r\n",
       "skinparam linetype polyline\r\n",
       "skinparam monochrome true\r\n",
       "skinparam classbackgroundcolor white\r\n",
       "skinparam shadowing false\r\n",
       "skinparam wrapWidth 300\r\n",
       "hide circle\r\n",
       "\r\n",
       "package \"QualifiedNameImportTest\" as E1  [[psysml:091e42f3-dddd-4d90-8666-606f19fb366e ]]  {\r\n",
       "package \"P1\" as E2  [[psysml:63fd19d7-856c-4154-ab3f-5f7beb933c6f ]]  {\r\n",
       "comp def \"A\" as E3  <<(T,blue) part  def>> [[psysml:9081ec29-06f9-459b-bb5e-85f58996f1a9 ]] {\r\n",
       "}\r\n",
       "}\r\n",
       "package \"P2\" as E4  [[psysml:d8f64ef2-651e-4c07-9e19-09c43a642dc3 ]]  {\r\n",
       "package \"P2a\" as E5  [[psysml:7edd138a-1c77-4581-b137-3a8c463dac94 ]]  {\r\n",
       "}\r\n",
       "comp usage \"x: A \" as E6  <<(T,blue) part>> [[psysml:b30d741d-b0a5-4dc2-b144-a7e4c27e5c46 ]] {\r\n",
       "}\r\n",
       "}\r\n",
       "}\r\n",
       "E5 ..> E2 [[psysml:b8da89e1-0406-4ebb-8e6e-940fd82b8a4d ]] : <<import>>*\r\n",
       "E6 - -:|> E3 [[psysml:ce27ea1d-5c56-4308-8b0e-4b6ab5ed7604 ]] \r\n",
       "@enduml\r\n",
       "\n",
       "PlantUML version 1.2020.13(Sat Jun 13 12:26:38 UTC 2020)\n",
       "(EPL source distribution)\n",
       "Java Runtime: OpenJDK Runtime Environment\n",
       "JVM: OpenJDK 64-Bit Server VM\n",
       "Default Encoding: UTF-8\n",
       "Language: en\n",
       "Country: null\n",
       "--></g></svg>"
      ]
     },
     "execution_count": 9,
     "metadata": {},
     "output_type": "execute_result"
    }
   ],
   "source": [
    "%viz --style=\"POLYLINE\" --view=\"Default\" \"QualifiedNameImportTest\""
   ]
  },
  {
   "cell_type": "code",
   "execution_count": 10,
   "id": "29cbfb95",
   "metadata": {
    "execution": {
     "iopub.execute_input": "2022-02-18T10:50:01.372636Z",
     "iopub.status.busy": "2022-02-18T10:50:01.372218Z",
     "iopub.status.idle": "2022-02-18T10:50:01.425020Z",
     "shell.execute_reply": "2022-02-18T10:50:01.425353Z"
    }
   },
   "outputs": [
    {
     "data": {
      "image/svg+xml": [
       "<?xml version=\"1.0\" encoding=\"UTF-8\" standalone=\"no\"?><svg xmlns=\"http://www.w3.org/2000/svg\" xmlns:xlink=\"http://www.w3.org/1999/xlink\" contentScriptType=\"application/ecmascript\" contentStyleType=\"text/css\" height=\"367px\" preserveAspectRatio=\"none\" style=\"width:243px;height:367px;\" version=\"1.1\" viewBox=\"0 0 243 367\" width=\"243px\" zoomAndPan=\"magnify\"><defs/><g><!--MD5=[fbc87193dbaf4d95561dea2c320d4a47]\n",
       "cluster E1--><a href=\"psysml:091e42f3-dddd-4d90-8666-606f19fb366e\" target=\"_top\" title=\"psysml:091e42f3-dddd-4d90-8666-606f19fb366e\" xlink:actuate=\"onRequest\" xlink:href=\"psysml:091e42f3-dddd-4d90-8666-606f19fb366e\" xlink:show=\"new\" xlink:title=\"psysml:091e42f3-dddd-4d90-8666-606f19fb366e\" xlink:type=\"simple\"><polygon fill=\"#FFFFFF\" points=\"16,6,196,6,203,28.2969,219,28.2969,219,355,16,355,16,6\" style=\"stroke: #000000; stroke-width: 1.5;\"/><line style=\"stroke: #000000; stroke-width: 1.5;\" x1=\"16\" x2=\"203\" y1=\"28.2969\" y2=\"28.2969\"/><text fill=\"#000000\" font-family=\"sans-serif\" font-size=\"14\" font-weight=\"bold\" lengthAdjust=\"spacingAndGlyphs\" textLength=\"174\" x=\"20\" y=\"20.9951\">QualifiedNameImportTest</text></a><!--MD5=[e4f7fae6ed58524ba242bb0b0d3be6b7]\n",
       "cluster E2--><a href=\"psysml:63fd19d7-856c-4154-ab3f-5f7beb933c6f\" target=\"_top\" title=\"psysml:63fd19d7-856c-4154-ab3f-5f7beb933c6f\" xlink:actuate=\"onRequest\" xlink:href=\"psysml:63fd19d7-856c-4154-ab3f-5f7beb933c6f\" xlink:show=\"new\" xlink:title=\"psysml:63fd19d7-856c-4154-ab3f-5f7beb933c6f\" xlink:type=\"simple\"><polygon fill=\"#FFFFFF\" points=\"48,210,72,210,79,232.2969,185,232.2969,185,323,48,323,48,210\" style=\"stroke: #000000; stroke-width: 1.5;\"/><line style=\"stroke: #000000; stroke-width: 1.5;\" x1=\"48\" x2=\"79\" y1=\"232.2969\" y2=\"232.2969\"/><text fill=\"#000000\" font-family=\"sans-serif\" font-size=\"14\" font-weight=\"bold\" lengthAdjust=\"spacingAndGlyphs\" textLength=\"18\" x=\"52\" y=\"224.9951\">P1</text></a><!--MD5=[f6df4d0ebaf0b5dfb2ced0ae5af7c670]\n",
       "cluster E4--><a href=\"psysml:d8f64ef2-651e-4c07-9e19-09c43a642dc3\" target=\"_top\" title=\"psysml:d8f64ef2-651e-4c07-9e19-09c43a642dc3\" xlink:actuate=\"onRequest\" xlink:href=\"psysml:d8f64ef2-651e-4c07-9e19-09c43a642dc3\" xlink:show=\"new\" xlink:title=\"psysml:d8f64ef2-651e-4c07-9e19-09c43a642dc3\" xlink:type=\"simple\"><polygon fill=\"#FFFFFF\" points=\"40,49,64,49,71,71.2969,195,71.2969,195,153,40,153,40,49\" style=\"stroke: #000000; stroke-width: 1.5;\"/><line style=\"stroke: #000000; stroke-width: 1.5;\" x1=\"40\" x2=\"71\" y1=\"71.2969\" y2=\"71.2969\"/><text fill=\"#000000\" font-family=\"sans-serif\" font-size=\"14\" font-weight=\"bold\" lengthAdjust=\"spacingAndGlyphs\" textLength=\"18\" x=\"44\" y=\"63.9951\">P2</text></a><!--MD5=[09b614a08d8cba4a07c9adeb5e0fee81]\n",
       "class E3--><a href=\"psysml:9081ec29-06f9-459b-bb5e-85f58996f1a9\" target=\"_top\" title=\"psysml:9081ec29-06f9-459b-bb5e-85f58996f1a9\" xlink:actuate=\"onRequest\" xlink:href=\"psysml:9081ec29-06f9-459b-bb5e-85f58996f1a9\" xlink:show=\"new\" xlink:title=\"psysml:9081ec29-06f9-459b-bb5e-85f58996f1a9\" xlink:type=\"simple\"><rect fill=\"#FFFFFF\" height=\"45.9375\" id=\"E3\" style=\"stroke: #383838; stroke-width: 1.5;\" width=\"70\" x=\"72\" y=\"253\"/><text fill=\"#000000\" font-family=\"sans-serif\" font-size=\"12\" font-style=\"italic\" lengthAdjust=\"spacingAndGlyphs\" textLength=\"68\" x=\"73\" y=\"269.1387\">«part  def»</text><text fill=\"#000000\" font-family=\"sans-serif\" font-size=\"12\" lengthAdjust=\"spacingAndGlyphs\" textLength=\"8\" x=\"103\" y=\"283.1074\">A</text><line style=\"stroke: #383838; stroke-width: 1.5;\" x1=\"73\" x2=\"141\" y1=\"290.9375\" y2=\"290.9375\"/></a><!--MD5=[60a26617385b1d2d0262a64233df1f8d]\n",
       "class E6--><a href=\"psysml:b30d741d-b0a5-4dc2-b144-a7e4c27e5c46\" target=\"_top\" title=\"psysml:b30d741d-b0a5-4dc2-b144-a7e4c27e5c46\" xlink:actuate=\"onRequest\" xlink:href=\"psysml:b30d741d-b0a5-4dc2-b144-a7e4c27e5c46\" xlink:show=\"new\" xlink:title=\"psysml:b30d741d-b0a5-4dc2-b144-a7e4c27e5c46\" xlink:type=\"simple\"><rect fill=\"#FFFFFF\" height=\"45.9375\" id=\"E6\" rx=\"10\" ry=\"10\" style=\"stroke: #383838; stroke-width: 1.5;\" width=\"42\" x=\"56\" y=\"87.5\"/><text fill=\"#000000\" font-family=\"sans-serif\" font-size=\"12\" font-style=\"italic\" lengthAdjust=\"spacingAndGlyphs\" textLength=\"40\" x=\"57\" y=\"103.6387\">«part»</text><text fill=\"#000000\" font-family=\"sans-serif\" font-size=\"12\" lengthAdjust=\"spacingAndGlyphs\" textLength=\"22\" x=\"64\" y=\"117.6074\">x: A</text><line style=\"stroke: #383838; stroke-width: 1.5;\" x1=\"57\" x2=\"97\" y1=\"125.4375\" y2=\"125.4375\"/></a><a href=\"psysml:7edd138a-1c77-4581-b137-3a8c463dac94\" target=\"_top\" title=\"psysml:7edd138a-1c77-4581-b137-3a8c463dac94\" xlink:actuate=\"onRequest\" xlink:href=\"psysml:7edd138a-1c77-4581-b137-3a8c463dac94\" xlink:show=\"new\" xlink:title=\"psysml:7edd138a-1c77-4581-b137-3a8c463dac94\" xlink:type=\"simple\"><polygon fill=\"#FFFFFF\" points=\"133,84,165,84,172,106.2969,179,106.2969,179,136.5938,133,136.5938,133,84\" style=\"stroke: #000000; stroke-width: 1.5;\"/><line style=\"stroke: #000000; stroke-width: 1.5;\" x1=\"133\" x2=\"172\" y1=\"106.2969\" y2=\"106.2969\"/><text fill=\"#000000\" font-family=\"sans-serif\" font-size=\"14\" font-weight=\"bold\" lengthAdjust=\"spacingAndGlyphs\" textLength=\"26\" x=\"137\" y=\"98.9951\">P2a</text></a><!--MD5=[15ebcb19ae302d9b601edb458606d402]\n",
       "link E5 to E2--><a href=\"psysml:b8da89e1-0406-4ebb-8e6e-940fd82b8a4d\" target=\"_top\" title=\"psysml:b8da89e1-0406-4ebb-8e6e-940fd82b8a4d\" xlink:actuate=\"onRequest\" xlink:href=\"psysml:b8da89e1-0406-4ebb-8e6e-940fd82b8a4d\" xlink:show=\"new\" xlink:title=\"psysml:b8da89e1-0406-4ebb-8e6e-940fd82b8a4d\" xlink:type=\"simple\"><path d=\"M159.28,137.05 C160.735,148.365 162.5469,162.4656 164.4519,177.2955 C165.4044,184.7104 166.3802,192.3076 167.3463,199.8301 C167.5878,201.7107 167.8287,203.5867 168.0685,205.4539 C168.1884,206.3876 168.308,207.319 168.4273,208.2478 C168.4869,208.7122 168.5465,209.1759 168.6059,209.6389 \" fill=\"none\" id=\"E5-&gt;E2\" style=\"stroke: #383838; stroke-width: 1.0; stroke-dasharray: 7.0,7.0;\"/><polygon fill=\"#383838\" points=\"168.6059,209.6389,171.427,200.2027,167.9691,204.6796,163.4922,201.2217,168.6059,209.6389\" style=\"stroke: #383838; stroke-width: 1.0;\"/><text fill=\"#000000\" font-family=\"sans-serif\" font-size=\"13\" lengthAdjust=\"spacingAndGlyphs\" textLength=\"65\" x=\"166\" y=\"182.0669\">«import»*</text></a><!--MD5=[a717450b82c80b9240a525fa862496af]\n",
       "link E6 to E3--><a href=\"psysml:ce27ea1d-5c56-4308-8b0e-4b6ab5ed7604\" target=\"_top\" title=\"psysml:ce27ea1d-5c56-4308-8b0e-4b6ab5ed7604\" xlink:actuate=\"onRequest\" xlink:href=\"psysml:ce27ea1d-5c56-4308-8b0e-4b6ab5ed7604\" xlink:show=\"new\" xlink:title=\"psysml:ce27ea1d-5c56-4308-8b0e-4b6ab5ed7604\" xlink:type=\"simple\"><path d=\"M81.05,133.55 C85.7,158.9 93.44,201.1 99.26,232.83 \" fill=\"none\" id=\"E6-&gt;E3\" style=\"stroke: #383838; stroke-width: 1.0;\"/><polygon fill=\"#FFFFFF\" points=\"102.92,252.78,92.6018,235.3578,106.3713,232.8278,102.92,252.78\" style=\"stroke: #383838; stroke-width: 1.0;\"/><ellipse cx=\"93.5388\" cy=\"229.3902\" fill=\"#383838\" rx=\"2\" ry=\"2\" style=\"stroke: #383838; stroke-width: 1.0;\"/><ellipse cx=\"103.3742\" cy=\"227.5831\" fill=\"#383838\" rx=\"2\" ry=\"2\" style=\"stroke: #383838; stroke-width: 1.0;\"/></a><!--MD5=[73f91471383bb76e4508728f111b2358]\n",
       "@startuml\r\n",
       "skinparam linetype polyline\r\n",
       "skinparam monochrome true\r\n",
       "skinparam classbackgroundcolor white\r\n",
       "skinparam shadowing false\r\n",
       "skinparam wrapWidth 300\r\n",
       "hide circle\r\n",
       "\r\n",
       "package \"QualifiedNameImportTest\" as E1  [[psysml:091e42f3-dddd-4d90-8666-606f19fb366e ]]  {\r\n",
       "package \"P1\" as E2  [[psysml:63fd19d7-856c-4154-ab3f-5f7beb933c6f ]]  {\r\n",
       "comp def \"A\" as E3  <<(T,blue) part  def>> [[psysml:9081ec29-06f9-459b-bb5e-85f58996f1a9 ]] {\r\n",
       "}\r\n",
       "}\r\n",
       "package \"P2\" as E4  [[psysml:d8f64ef2-651e-4c07-9e19-09c43a642dc3 ]]  {\r\n",
       "package \"P2a\" as E5  [[psysml:7edd138a-1c77-4581-b137-3a8c463dac94 ]]  {\r\n",
       "}\r\n",
       "comp usage \"x: A \" as E6  <<(T,blue) part>> [[psysml:b30d741d-b0a5-4dc2-b144-a7e4c27e5c46 ]] {\r\n",
       "}\r\n",
       "}\r\n",
       "}\r\n",
       "E5 ..> E2 [[psysml:b8da89e1-0406-4ebb-8e6e-940fd82b8a4d ]] : <<import>>*\r\n",
       "E6 - -:|> E3 [[psysml:ce27ea1d-5c56-4308-8b0e-4b6ab5ed7604 ]] \r\n",
       "@enduml\r\n",
       "\n",
       "PlantUML version 1.2020.13(Sat Jun 13 12:26:38 UTC 2020)\n",
       "(EPL source distribution)\n",
       "Java Runtime: OpenJDK Runtime Environment\n",
       "JVM: OpenJDK 64-Bit Server VM\n",
       "Default Encoding: UTF-8\n",
       "Language: en\n",
       "Country: null\n",
       "--></g></svg>"
      ]
     },
     "execution_count": 10,
     "metadata": {},
     "output_type": "execute_result"
    }
   ],
   "source": [
    "%viz --style=\"POLYLINE\" --view=\"Tree\" \"QualifiedNameImportTest\""
   ]
  },
  {
   "cell_type": "code",
   "execution_count": 11,
   "id": "10310899",
   "metadata": {
    "execution": {
     "iopub.execute_input": "2022-02-18T10:50:01.475453Z",
     "iopub.status.busy": "2022-02-18T10:50:01.474926Z",
     "iopub.status.idle": "2022-02-18T10:50:01.481448Z",
     "shell.execute_reply": "2022-02-18T10:50:01.481817Z"
    }
   },
   "outputs": [
    {
     "data": {
      "image/svg+xml": [
       "<?xml version=\"1.0\" encoding=\"UTF-8\" standalone=\"no\"?><svg xmlns=\"http://www.w3.org/2000/svg\" xmlns:xlink=\"http://www.w3.org/1999/xlink\" contentScriptType=\"application/ecmascript\" contentStyleType=\"text/css\" height=\"12px\" preserveAspectRatio=\"none\" style=\"width:12px;height:12px;\" version=\"1.1\" viewBox=\"0 0 12 12\" width=\"12px\" zoomAndPan=\"magnify\"><defs/><g><!--MD5=[896ac0e7a515d8dd7765a661cb4ee08b]\n",
       "@startuml\r\n",
       "skinparam linetype polyline\r\n",
       "skinparam monochrome true\r\n",
       "skinparam classbackgroundcolor white\r\n",
       "skinparam shadowing false\r\n",
       "skinparam wrapWidth 300\r\n",
       "hide circle\r\n",
       "\r\n",
       "@enduml\r\n",
       "\n",
       "PlantUML version 1.2020.13(Sat Jun 13 12:26:38 UTC 2020)\n",
       "(EPL source distribution)\n",
       "Java Runtime: OpenJDK Runtime Environment\n",
       "JVM: OpenJDK 64-Bit Server VM\n",
       "Default Encoding: UTF-8\n",
       "Language: en\n",
       "Country: null\n",
       "--></g></svg>"
      ]
     },
     "execution_count": 11,
     "metadata": {},
     "output_type": "execute_result"
    }
   ],
   "source": [
    "%viz --style=\"POLYLINE\" --view=\"State\" \"QualifiedNameImportTest\""
   ]
  },
  {
   "cell_type": "code",
   "execution_count": 12,
   "id": "21b0ff38",
   "metadata": {
    "execution": {
     "iopub.execute_input": "2022-02-18T10:50:01.532223Z",
     "iopub.status.busy": "2022-02-18T10:50:01.531748Z",
     "iopub.status.idle": "2022-02-18T10:50:01.567033Z",
     "shell.execute_reply": "2022-02-18T10:50:01.567352Z"
    }
   },
   "outputs": [
    {
     "data": {
      "image/svg+xml": [
       "<?xml version=\"1.0\" encoding=\"UTF-8\" standalone=\"no\"?><svg xmlns=\"http://www.w3.org/2000/svg\" xmlns:xlink=\"http://www.w3.org/1999/xlink\" contentScriptType=\"application/ecmascript\" contentStyleType=\"text/css\" height=\"364px\" preserveAspectRatio=\"none\" style=\"width:249px;height:364px;\" version=\"1.1\" viewBox=\"0 0 249 364\" width=\"249px\" zoomAndPan=\"magnify\"><defs/><g><!--MD5=[fbc87193dbaf4d95561dea2c320d4a47]\n",
       "cluster E1--><a href=\"psysml:091e42f3-dddd-4d90-8666-606f19fb366e\" target=\"_top\" title=\"psysml:091e42f3-dddd-4d90-8666-606f19fb366e\" xlink:actuate=\"onRequest\" xlink:href=\"psysml:091e42f3-dddd-4d90-8666-606f19fb366e\" xlink:show=\"new\" xlink:title=\"psysml:091e42f3-dddd-4d90-8666-606f19fb366e\" xlink:type=\"simple\"><polygon fill=\"#FFFFFF\" points=\"16,6,196,6,203,28.2969,227,28.2969,227,352,16,352,16,6\" style=\"stroke: #000000; stroke-width: 1.5;\"/><line style=\"stroke: #000000; stroke-width: 1.5;\" x1=\"16\" x2=\"203\" y1=\"28.2969\" y2=\"28.2969\"/><text fill=\"#000000\" font-family=\"sans-serif\" font-size=\"14\" font-weight=\"bold\" lengthAdjust=\"spacingAndGlyphs\" textLength=\"174\" x=\"20\" y=\"20.9951\">QualifiedNameImportTest</text></a><!--MD5=[e4f7fae6ed58524ba242bb0b0d3be6b7]\n",
       "cluster E2--><a href=\"psysml:63fd19d7-856c-4154-ab3f-5f7beb933c6f\" target=\"_top\" title=\"psysml:63fd19d7-856c-4154-ab3f-5f7beb933c6f\" xlink:actuate=\"onRequest\" xlink:href=\"psysml:63fd19d7-856c-4154-ab3f-5f7beb933c6f\" xlink:show=\"new\" xlink:title=\"psysml:63fd19d7-856c-4154-ab3f-5f7beb933c6f\" xlink:type=\"simple\"><polygon fill=\"#FFFFFF\" points=\"53,210,77,210,84,232.2969,195,232.2969,195,320,53,320,53,210\" style=\"stroke: #000000; stroke-width: 1.5;\"/><line style=\"stroke: #000000; stroke-width: 1.5;\" x1=\"53\" x2=\"84\" y1=\"232.2969\" y2=\"232.2969\"/><text fill=\"#000000\" font-family=\"sans-serif\" font-size=\"14\" font-weight=\"bold\" lengthAdjust=\"spacingAndGlyphs\" textLength=\"18\" x=\"57\" y=\"224.9951\">P1</text></a><!--MD5=[f6df4d0ebaf0b5dfb2ced0ae5af7c670]\n",
       "cluster E4--><a href=\"psysml:d8f64ef2-651e-4c07-9e19-09c43a642dc3\" target=\"_top\" title=\"psysml:d8f64ef2-651e-4c07-9e19-09c43a642dc3\" xlink:actuate=\"onRequest\" xlink:href=\"psysml:d8f64ef2-651e-4c07-9e19-09c43a642dc3\" xlink:show=\"new\" xlink:title=\"psysml:d8f64ef2-651e-4c07-9e19-09c43a642dc3\" xlink:type=\"simple\"><polygon fill=\"#FFFFFF\" points=\"40,49,64,49,71,71.2969,203,71.2969,203,153,40,153,40,49\" style=\"stroke: #000000; stroke-width: 1.5;\"/><line style=\"stroke: #000000; stroke-width: 1.5;\" x1=\"40\" x2=\"71\" y1=\"71.2969\" y2=\"71.2969\"/><text fill=\"#000000\" font-family=\"sans-serif\" font-size=\"14\" font-weight=\"bold\" lengthAdjust=\"spacingAndGlyphs\" textLength=\"18\" x=\"44\" y=\"63.9951\">P2</text></a><g id=\"E1.E2.E3\"><a href=\"psysml:9081ec29-06f9-459b-bb5e-85f58996f1a9\" target=\"_top\" title=\"psysml:9081ec29-06f9-459b-bb5e-85f58996f1a9\" xlink:actuate=\"onRequest\" xlink:href=\"psysml:9081ec29-06f9-459b-bb5e-85f58996f1a9\" xlink:show=\"new\" xlink:title=\"psysml:9081ec29-06f9-459b-bb5e-85f58996f1a9\" xlink:type=\"simple\"><rect fill=\"#FFFFFF\" height=\"42.9375\" id=\"E3\" style=\"stroke: #383838; stroke-width: 1.5;\" width=\"75\" x=\"96.5\" y=\"253\"/><rect fill=\"#F8F8F8\" height=\"37.9375\" style=\"stroke: #383838; stroke-width: 1.5;\" width=\"75\" x=\"96.5\" y=\"253\"/><text fill=\"#000000\" font-family=\"sans-serif\" font-size=\"12\" font-style=\"italic\" lengthAdjust=\"spacingAndGlyphs\" textLength=\"68\" x=\"100\" y=\"269.1387\">«part  def»</text><text fill=\"#000000\" font-family=\"sans-serif\" font-size=\"12\" lengthAdjust=\"spacingAndGlyphs\" textLength=\"8\" x=\"130\" y=\"283.1074\">A</text></a></g><a href=\"psysml:7edd138a-1c77-4581-b137-3a8c463dac94\" target=\"_top\" title=\"psysml:7edd138a-1c77-4581-b137-3a8c463dac94\" xlink:actuate=\"onRequest\" xlink:href=\"psysml:7edd138a-1c77-4581-b137-3a8c463dac94\" xlink:show=\"new\" xlink:title=\"psysml:7edd138a-1c77-4581-b137-3a8c463dac94\" xlink:type=\"simple\"><polygon fill=\"#FFFFFF\" points=\"141,84,173,84,180,106.2969,187,106.2969,187,136.5938,141,136.5938,141,84\" style=\"stroke: #000000; stroke-width: 1.5;\"/><line style=\"stroke: #000000; stroke-width: 1.5;\" x1=\"141\" x2=\"180\" y1=\"106.2969\" y2=\"106.2969\"/><text fill=\"#000000\" font-family=\"sans-serif\" font-size=\"14\" font-weight=\"bold\" lengthAdjust=\"spacingAndGlyphs\" textLength=\"26\" x=\"145\" y=\"98.9951\">P2a</text></a><g id=\"E1.E4.E6\"><a href=\"psysml:b30d741d-b0a5-4dc2-b144-a7e4c27e5c46\" target=\"_top\" title=\"psysml:b30d741d-b0a5-4dc2-b144-a7e4c27e5c46\" xlink:actuate=\"onRequest\" xlink:href=\"psysml:b30d741d-b0a5-4dc2-b144-a7e4c27e5c46\" xlink:show=\"new\" xlink:title=\"psysml:b30d741d-b0a5-4dc2-b144-a7e4c27e5c46\" xlink:type=\"simple\"><rect fill=\"#FFFFFF\" height=\"40\" id=\"E6\" rx=\"10\" ry=\"10\" style=\"stroke: #383838; stroke-width: 1.5;\" width=\"50\" x=\"56\" y=\"90.5\"/><rect fill=\"#F8F8F8\" height=\"23.9688\" rx=\"10\" ry=\"10\" style=\"stroke: #F8F8F8; stroke-width: 1.5;\" width=\"50\" x=\"56\" y=\"90.5\"/><rect fill=\"#F8F8F8\" height=\"10\" style=\"stroke: #F8F8F8; stroke-width: 1.5;\" width=\"50\" x=\"56\" y=\"104.4688\"/><rect fill=\"none\" height=\"40\" id=\"E6\" rx=\"10\" ry=\"10\" style=\"stroke: #383838; stroke-width: 1.5;\" width=\"50\" x=\"56\" y=\"90.5\"/><text fill=\"#000000\" font-family=\"sans-serif\" font-size=\"12\" lengthAdjust=\"spacingAndGlyphs\" textLength=\"22\" x=\"70\" y=\"106.6387\">x: A</text></a></g><!--MD5=[15ebcb19ae302d9b601edb458606d402]\n",
       "link E5 to E2--><a href=\"psysml:b8da89e1-0406-4ebb-8e6e-940fd82b8a4d\" target=\"_top\" title=\"psysml:b8da89e1-0406-4ebb-8e6e-940fd82b8a4d\" xlink:actuate=\"onRequest\" xlink:href=\"psysml:b8da89e1-0406-4ebb-8e6e-940fd82b8a4d\" xlink:show=\"new\" xlink:title=\"psysml:b8da89e1-0406-4ebb-8e6e-940fd82b8a4d\" xlink:type=\"simple\"><path d=\"M143.3,137.12 C133.54,149.2 124,161 124,161 C124,161 81,194 81,194 C81,194 79.7888,198.815 77.9623,206.075 C77.734,206.9825 77.4961,207.9282 77.2498,208.9075 C77.1882,209.1523 77.1261,209.3992 77.0634,209.6482 \" fill=\"none\" id=\"E5-&gt;E2\" style=\"stroke: #383838; stroke-width: 1.0; stroke-dasharray: 7.0,7.0;\"/><polygon fill=\"#383838\" points=\"77.0634,209.6482,83.1383,201.896,78.2833,204.7993,75.3801,199.9442,77.0634,209.6482\" style=\"stroke: #383838; stroke-width: 1.0;\"/><text fill=\"#000000\" font-family=\"sans-serif\" font-size=\"13\" lengthAdjust=\"spacingAndGlyphs\" textLength=\"65\" x=\"113\" y=\"182.0669\">«import»*</text></a><!--MD5=[671cfdda6dfd2aa9506d1906691cd2d3]\n",
       "@startuml\r\n",
       "skinparam ranksep 10\r\n",
       "skinparam rectangle {\r\n",
       " backgroundColor<<block>> LightGreen\r\n",
       "}\r\n",
       "skinparam linetype polyline\r\n",
       "skinparam monochrome true\r\n",
       "skinparam classbackgroundcolor white\r\n",
       "skinparam shadowing false\r\n",
       "skinparam wrapWidth 300\r\n",
       "hide circle\r\n",
       "\r\n",
       "package \"QualifiedNameImportTest\" as E1  [[psysml:091e42f3-dddd-4d90-8666-606f19fb366e ]]  {\r\n",
       "package \"P1\" as E2  [[psysml:63fd19d7-856c-4154-ab3f-5f7beb933c6f ]]  {\r\n",
       "rec def \"A\" as E3  <<(T,blue) part  def>> [[psysml:9081ec29-06f9-459b-bb5e-85f58996f1a9 ]] {\r\n",
       "}\r\n",
       "}\r\n",
       "package \"P2\" as E4  [[psysml:d8f64ef2-651e-4c07-9e19-09c43a642dc3 ]]  {\r\n",
       "package \"P2a\" as E5  [[psysml:7edd138a-1c77-4581-b137-3a8c463dac94 ]]  {\r\n",
       "}\r\n",
       "rec usage \"x: A\" as E6  [[psysml:b30d741d-b0a5-4dc2-b144-a7e4c27e5c46 ]] {\r\n",
       "}\r\n",
       "}\r\n",
       "}\r\n",
       "E5 ..> E2 [[psysml:b8da89e1-0406-4ebb-8e6e-940fd82b8a4d ]] : <<import>>*\r\n",
       "@enduml\r\n",
       "\n",
       "PlantUML version 1.2020.13(Sat Jun 13 12:26:38 UTC 2020)\n",
       "(EPL source distribution)\n",
       "Java Runtime: OpenJDK Runtime Environment\n",
       "JVM: OpenJDK 64-Bit Server VM\n",
       "Default Encoding: UTF-8\n",
       "Language: en\n",
       "Country: null\n",
       "--></g></svg>"
      ]
     },
     "execution_count": 12,
     "metadata": {},
     "output_type": "execute_result"
    }
   ],
   "source": [
    "%viz --style=\"POLYLINE\" --view=\"Interconnection\" \"QualifiedNameImportTest\""
   ]
  },
  {
   "cell_type": "code",
   "execution_count": 13,
   "id": "1f644888",
   "metadata": {
    "execution": {
     "iopub.execute_input": "2022-02-18T10:50:01.617633Z",
     "iopub.status.busy": "2022-02-18T10:50:01.617213Z",
     "iopub.status.idle": "2022-02-18T10:50:01.622943Z",
     "shell.execute_reply": "2022-02-18T10:50:01.623266Z"
    }
   },
   "outputs": [
    {
     "data": {
      "image/svg+xml": [
       "<?xml version=\"1.0\" encoding=\"UTF-8\" standalone=\"no\"?><svg xmlns=\"http://www.w3.org/2000/svg\" xmlns:xlink=\"http://www.w3.org/1999/xlink\" contentScriptType=\"application/ecmascript\" contentStyleType=\"text/css\" height=\"12px\" preserveAspectRatio=\"none\" style=\"width:12px;height:12px;\" version=\"1.1\" viewBox=\"0 0 12 12\" width=\"12px\" zoomAndPan=\"magnify\"><defs/><g><!--MD5=[97bbf32f66ccd50cbc40d92ea8f5a65e]\n",
       "@startuml\r\n",
       "skinparam ranksep 8\r\n",
       "skinparam linetype polyline\r\n",
       "skinparam monochrome true\r\n",
       "skinparam classbackgroundcolor white\r\n",
       "skinparam shadowing false\r\n",
       "skinparam wrapWidth 300\r\n",
       "hide circle\r\n",
       "\r\n",
       "@enduml\r\n",
       "\n",
       "PlantUML version 1.2020.13(Sat Jun 13 12:26:38 UTC 2020)\n",
       "(EPL source distribution)\n",
       "Java Runtime: OpenJDK Runtime Environment\n",
       "JVM: OpenJDK 64-Bit Server VM\n",
       "Default Encoding: UTF-8\n",
       "Language: en\n",
       "Country: null\n",
       "--></g></svg>"
      ]
     },
     "execution_count": 13,
     "metadata": {},
     "output_type": "execute_result"
    }
   ],
   "source": [
    "%viz --style=\"POLYLINE\" --view=\"Action\" \"QualifiedNameImportTest\""
   ]
  },
  {
   "cell_type": "code",
   "execution_count": 14,
   "id": "3260158e",
   "metadata": {
    "execution": {
     "iopub.execute_input": "2022-02-18T10:50:01.673594Z",
     "iopub.status.busy": "2022-02-18T10:50:01.673160Z",
     "iopub.status.idle": "2022-02-18T10:50:01.679098Z",
     "shell.execute_reply": "2022-02-18T10:50:01.679433Z"
    }
   },
   "outputs": [
    {
     "data": {
      "image/svg+xml": [
       "<?xml version=\"1.0\" encoding=\"UTF-8\" standalone=\"no\"?><svg xmlns=\"http://www.w3.org/2000/svg\" xmlns:xlink=\"http://www.w3.org/1999/xlink\" contentScriptType=\"application/ecmascript\" contentStyleType=\"text/css\" height=\"12px\" preserveAspectRatio=\"none\" style=\"width:12px;height:12px;\" version=\"1.1\" viewBox=\"0 0 12 12\" width=\"12px\" zoomAndPan=\"magnify\"><defs/><g><!--MD5=[dc938048236c351797870c36b62f92ad]\n",
       "@startuml\r\n",
       "skinparam roundcorner 20\r\n",
       "skinparam BoxPadding 20\r\n",
       "skinparam SequenceBoxBackgroundColor #white\r\n",
       "skinparam style strictuml\r\n",
       "skinparam maxMessageSize 100\r\n",
       "skinparam linetype polyline\r\n",
       "skinparam monochrome true\r\n",
       "skinparam classbackgroundcolor white\r\n",
       "skinparam shadowing false\r\n",
       "skinparam wrapWidth 300\r\n",
       "hide circle\r\n",
       "\r\n",
       "@enduml\r\n",
       "\n",
       "PlantUML version 1.2020.13(Sat Jun 13 12:26:38 UTC 2020)\n",
       "(EPL source distribution)\n",
       "Java Runtime: OpenJDK Runtime Environment\n",
       "JVM: OpenJDK 64-Bit Server VM\n",
       "Default Encoding: UTF-8\n",
       "Language: en\n",
       "Country: null\n",
       "--></g></svg>"
      ]
     },
     "execution_count": 14,
     "metadata": {},
     "output_type": "execute_result"
    }
   ],
   "source": [
    "%viz --style=\"POLYLINE\" --view=\"Sequence\" \"QualifiedNameImportTest\""
   ]
  },
  {
   "cell_type": "code",
   "execution_count": 15,
   "id": "cc963e23",
   "metadata": {
    "execution": {
     "iopub.execute_input": "2022-02-18T10:50:01.729451Z",
     "iopub.status.busy": "2022-02-18T10:50:01.729023Z",
     "iopub.status.idle": "2022-02-18T10:50:01.766247Z",
     "shell.execute_reply": "2022-02-18T10:50:01.765854Z"
    }
   },
   "outputs": [
    {
     "data": {
      "image/svg+xml": [
       "<?xml version=\"1.0\" encoding=\"UTF-8\" standalone=\"no\"?><svg xmlns=\"http://www.w3.org/2000/svg\" xmlns:xlink=\"http://www.w3.org/1999/xlink\" contentScriptType=\"application/ecmascript\" contentStyleType=\"text/css\" height=\"367px\" preserveAspectRatio=\"none\" style=\"width:243px;height:367px;\" version=\"1.1\" viewBox=\"0 0 243 367\" width=\"243px\" zoomAndPan=\"magnify\"><defs/><g><!--MD5=[fbc87193dbaf4d95561dea2c320d4a47]\n",
       "cluster E1--><a href=\"psysml:091e42f3-dddd-4d90-8666-606f19fb366e\" target=\"_top\" title=\"psysml:091e42f3-dddd-4d90-8666-606f19fb366e\" xlink:actuate=\"onRequest\" xlink:href=\"psysml:091e42f3-dddd-4d90-8666-606f19fb366e\" xlink:show=\"new\" xlink:title=\"psysml:091e42f3-dddd-4d90-8666-606f19fb366e\" xlink:type=\"simple\"><polygon fill=\"#FFFFFF\" points=\"16,6,196,6,203,28.2969,219,28.2969,219,355,16,355,16,6\" style=\"stroke: #000000; stroke-width: 1.5;\"/><line style=\"stroke: #000000; stroke-width: 1.5;\" x1=\"16\" x2=\"203\" y1=\"28.2969\" y2=\"28.2969\"/><text fill=\"#000000\" font-family=\"sans-serif\" font-size=\"14\" font-weight=\"bold\" lengthAdjust=\"spacingAndGlyphs\" textLength=\"174\" x=\"20\" y=\"20.9951\">QualifiedNameImportTest</text></a><!--MD5=[e4f7fae6ed58524ba242bb0b0d3be6b7]\n",
       "cluster E2--><a href=\"psysml:63fd19d7-856c-4154-ab3f-5f7beb933c6f\" target=\"_top\" title=\"psysml:63fd19d7-856c-4154-ab3f-5f7beb933c6f\" xlink:actuate=\"onRequest\" xlink:href=\"psysml:63fd19d7-856c-4154-ab3f-5f7beb933c6f\" xlink:show=\"new\" xlink:title=\"psysml:63fd19d7-856c-4154-ab3f-5f7beb933c6f\" xlink:type=\"simple\"><polygon fill=\"#FFFFFF\" points=\"48,210,72,210,79,232.2969,185,232.2969,185,323,48,323,48,210\" style=\"stroke: #000000; stroke-width: 1.5;\"/><line style=\"stroke: #000000; stroke-width: 1.5;\" x1=\"48\" x2=\"79\" y1=\"232.2969\" y2=\"232.2969\"/><text fill=\"#000000\" font-family=\"sans-serif\" font-size=\"14\" font-weight=\"bold\" lengthAdjust=\"spacingAndGlyphs\" textLength=\"18\" x=\"52\" y=\"224.9951\">P1</text></a><!--MD5=[f6df4d0ebaf0b5dfb2ced0ae5af7c670]\n",
       "cluster E4--><a href=\"psysml:d8f64ef2-651e-4c07-9e19-09c43a642dc3\" target=\"_top\" title=\"psysml:d8f64ef2-651e-4c07-9e19-09c43a642dc3\" xlink:actuate=\"onRequest\" xlink:href=\"psysml:d8f64ef2-651e-4c07-9e19-09c43a642dc3\" xlink:show=\"new\" xlink:title=\"psysml:d8f64ef2-651e-4c07-9e19-09c43a642dc3\" xlink:type=\"simple\"><polygon fill=\"#FFFFFF\" points=\"40,49,64,49,71,71.2969,195,71.2969,195,153,40,153,40,49\" style=\"stroke: #000000; stroke-width: 1.5;\"/><line style=\"stroke: #000000; stroke-width: 1.5;\" x1=\"40\" x2=\"71\" y1=\"71.2969\" y2=\"71.2969\"/><text fill=\"#000000\" font-family=\"sans-serif\" font-size=\"14\" font-weight=\"bold\" lengthAdjust=\"spacingAndGlyphs\" textLength=\"18\" x=\"44\" y=\"63.9951\">P2</text></a><!--MD5=[09b614a08d8cba4a07c9adeb5e0fee81]\n",
       "class E3--><a href=\"psysml:9081ec29-06f9-459b-bb5e-85f58996f1a9\" target=\"_top\" title=\"psysml:9081ec29-06f9-459b-bb5e-85f58996f1a9\" xlink:actuate=\"onRequest\" xlink:href=\"psysml:9081ec29-06f9-459b-bb5e-85f58996f1a9\" xlink:show=\"new\" xlink:title=\"psysml:9081ec29-06f9-459b-bb5e-85f58996f1a9\" xlink:type=\"simple\"><rect fill=\"#FFFFFF\" height=\"45.9375\" id=\"E3\" style=\"stroke: #383838; stroke-width: 1.5;\" width=\"70\" x=\"72\" y=\"253\"/><text fill=\"#000000\" font-family=\"sans-serif\" font-size=\"12\" font-style=\"italic\" lengthAdjust=\"spacingAndGlyphs\" textLength=\"68\" x=\"73\" y=\"269.1387\">«part  def»</text><text fill=\"#000000\" font-family=\"sans-serif\" font-size=\"12\" lengthAdjust=\"spacingAndGlyphs\" textLength=\"8\" x=\"103\" y=\"283.1074\">A</text><line style=\"stroke: #383838; stroke-width: 1.5;\" x1=\"73\" x2=\"141\" y1=\"290.9375\" y2=\"290.9375\"/></a><!--MD5=[60a26617385b1d2d0262a64233df1f8d]\n",
       "class E6--><a href=\"psysml:b30d741d-b0a5-4dc2-b144-a7e4c27e5c46\" target=\"_top\" title=\"psysml:b30d741d-b0a5-4dc2-b144-a7e4c27e5c46\" xlink:actuate=\"onRequest\" xlink:href=\"psysml:b30d741d-b0a5-4dc2-b144-a7e4c27e5c46\" xlink:show=\"new\" xlink:title=\"psysml:b30d741d-b0a5-4dc2-b144-a7e4c27e5c46\" xlink:type=\"simple\"><rect fill=\"#FFFFFF\" height=\"45.9375\" id=\"E6\" rx=\"10\" ry=\"10\" style=\"stroke: #383838; stroke-width: 1.5;\" width=\"42\" x=\"56\" y=\"87.5\"/><text fill=\"#000000\" font-family=\"sans-serif\" font-size=\"12\" font-style=\"italic\" lengthAdjust=\"spacingAndGlyphs\" textLength=\"40\" x=\"57\" y=\"103.6387\">«part»</text><text fill=\"#000000\" font-family=\"sans-serif\" font-size=\"12\" lengthAdjust=\"spacingAndGlyphs\" textLength=\"22\" x=\"64\" y=\"117.6074\">x: A</text><line style=\"stroke: #383838; stroke-width: 1.5;\" x1=\"57\" x2=\"97\" y1=\"125.4375\" y2=\"125.4375\"/></a><a href=\"psysml:7edd138a-1c77-4581-b137-3a8c463dac94\" target=\"_top\" title=\"psysml:7edd138a-1c77-4581-b137-3a8c463dac94\" xlink:actuate=\"onRequest\" xlink:href=\"psysml:7edd138a-1c77-4581-b137-3a8c463dac94\" xlink:show=\"new\" xlink:title=\"psysml:7edd138a-1c77-4581-b137-3a8c463dac94\" xlink:type=\"simple\"><polygon fill=\"#FFFFFF\" points=\"133,84,165,84,172,106.2969,179,106.2969,179,136.5938,133,136.5938,133,84\" style=\"stroke: #000000; stroke-width: 1.5;\"/><line style=\"stroke: #000000; stroke-width: 1.5;\" x1=\"133\" x2=\"172\" y1=\"106.2969\" y2=\"106.2969\"/><text fill=\"#000000\" font-family=\"sans-serif\" font-size=\"14\" font-weight=\"bold\" lengthAdjust=\"spacingAndGlyphs\" textLength=\"26\" x=\"137\" y=\"98.9951\">P2a</text></a><!--MD5=[15ebcb19ae302d9b601edb458606d402]\n",
       "link E5 to E2--><a href=\"psysml:b8da89e1-0406-4ebb-8e6e-940fd82b8a4d\" target=\"_top\" title=\"psysml:b8da89e1-0406-4ebb-8e6e-940fd82b8a4d\" xlink:actuate=\"onRequest\" xlink:href=\"psysml:b8da89e1-0406-4ebb-8e6e-940fd82b8a4d\" xlink:show=\"new\" xlink:title=\"psysml:b8da89e1-0406-4ebb-8e6e-940fd82b8a4d\" xlink:type=\"simple\"><path d=\"M159.28,137.05 C160.735,148.365 162.5469,162.4656 164.4519,177.2955 C165.4044,184.7104 166.3802,192.3076 167.3463,199.8301 C167.5878,201.7107 167.8287,203.5867 168.0685,205.4539 C168.1884,206.3876 168.308,207.319 168.4273,208.2478 C168.4869,208.7122 168.5465,209.1759 168.6059,209.6389 \" fill=\"none\" id=\"E5-&gt;E2\" style=\"stroke: #383838; stroke-width: 1.0; stroke-dasharray: 7.0,7.0;\"/><polygon fill=\"#383838\" points=\"168.6059,209.6389,171.427,200.2027,167.9691,204.6796,163.4922,201.2217,168.6059,209.6389\" style=\"stroke: #383838; stroke-width: 1.0;\"/><text fill=\"#000000\" font-family=\"sans-serif\" font-size=\"13\" lengthAdjust=\"spacingAndGlyphs\" textLength=\"65\" x=\"166\" y=\"182.0669\">«import»*</text></a><!--MD5=[a717450b82c80b9240a525fa862496af]\n",
       "link E6 to E3--><a href=\"psysml:ce27ea1d-5c56-4308-8b0e-4b6ab5ed7604\" target=\"_top\" title=\"psysml:ce27ea1d-5c56-4308-8b0e-4b6ab5ed7604\" xlink:actuate=\"onRequest\" xlink:href=\"psysml:ce27ea1d-5c56-4308-8b0e-4b6ab5ed7604\" xlink:show=\"new\" xlink:title=\"psysml:ce27ea1d-5c56-4308-8b0e-4b6ab5ed7604\" xlink:type=\"simple\"><path d=\"M81.05,133.55 C85.7,158.9 93.44,201.1 99.26,232.83 \" fill=\"none\" id=\"E6-&gt;E3\" style=\"stroke: #383838; stroke-width: 1.0;\"/><polygon fill=\"#FFFFFF\" points=\"102.92,252.78,92.6018,235.3578,106.3713,232.8278,102.92,252.78\" style=\"stroke: #383838; stroke-width: 1.0;\"/><ellipse cx=\"93.5388\" cy=\"229.3902\" fill=\"#383838\" rx=\"2\" ry=\"2\" style=\"stroke: #383838; stroke-width: 1.0;\"/><ellipse cx=\"103.3742\" cy=\"227.5831\" fill=\"#383838\" rx=\"2\" ry=\"2\" style=\"stroke: #383838; stroke-width: 1.0;\"/></a><!--MD5=[73f91471383bb76e4508728f111b2358]\n",
       "@startuml\r\n",
       "skinparam linetype polyline\r\n",
       "skinparam monochrome true\r\n",
       "skinparam classbackgroundcolor white\r\n",
       "skinparam shadowing false\r\n",
       "skinparam wrapWidth 300\r\n",
       "hide circle\r\n",
       "\r\n",
       "package \"QualifiedNameImportTest\" as E1  [[psysml:091e42f3-dddd-4d90-8666-606f19fb366e ]]  {\r\n",
       "package \"P1\" as E2  [[psysml:63fd19d7-856c-4154-ab3f-5f7beb933c6f ]]  {\r\n",
       "comp def \"A\" as E3  <<(T,blue) part  def>> [[psysml:9081ec29-06f9-459b-bb5e-85f58996f1a9 ]] {\r\n",
       "}\r\n",
       "}\r\n",
       "package \"P2\" as E4  [[psysml:d8f64ef2-651e-4c07-9e19-09c43a642dc3 ]]  {\r\n",
       "package \"P2a\" as E5  [[psysml:7edd138a-1c77-4581-b137-3a8c463dac94 ]]  {\r\n",
       "}\r\n",
       "comp usage \"x: A \" as E6  <<(T,blue) part>> [[psysml:b30d741d-b0a5-4dc2-b144-a7e4c27e5c46 ]] {\r\n",
       "}\r\n",
       "}\r\n",
       "}\r\n",
       "E5 ..> E2 [[psysml:b8da89e1-0406-4ebb-8e6e-940fd82b8a4d ]] : <<import>>*\r\n",
       "E6 - -:|> E3 [[psysml:ce27ea1d-5c56-4308-8b0e-4b6ab5ed7604 ]] \r\n",
       "@enduml\r\n",
       "\n",
       "PlantUML version 1.2020.13(Sat Jun 13 12:26:38 UTC 2020)\n",
       "(EPL source distribution)\n",
       "Java Runtime: OpenJDK Runtime Environment\n",
       "JVM: OpenJDK 64-Bit Server VM\n",
       "Default Encoding: UTF-8\n",
       "Language: en\n",
       "Country: null\n",
       "--></g></svg>"
      ]
     },
     "execution_count": 15,
     "metadata": {},
     "output_type": "execute_result"
    }
   ],
   "source": [
    "%viz --style=\"POLYLINE\" --view=\"MIXED\" \"QualifiedNameImportTest\""
   ]
  },
  {
   "cell_type": "code",
   "execution_count": 16,
   "id": "ee83b50b",
   "metadata": {
    "execution": {
     "iopub.execute_input": "2022-02-18T10:50:01.816238Z",
     "iopub.status.busy": "2022-02-18T10:50:01.815798Z",
     "iopub.status.idle": "2022-02-18T10:50:01.849832Z",
     "shell.execute_reply": "2022-02-18T10:50:01.849458Z"
    }
   },
   "outputs": [
    {
     "data": {
      "image/svg+xml": [
       "<?xml version=\"1.0\" encoding=\"UTF-8\" standalone=\"no\"?><svg xmlns=\"http://www.w3.org/2000/svg\" xmlns:xlink=\"http://www.w3.org/1999/xlink\" contentScriptType=\"application/ecmascript\" contentStyleType=\"text/css\" height=\"271px\" preserveAspectRatio=\"none\" style=\"width:397px;height:271px;\" version=\"1.1\" viewBox=\"0 0 397 271\" width=\"397px\" zoomAndPan=\"magnify\"><defs/><g><!--MD5=[fbc87193dbaf4d95561dea2c320d4a47]\n",
       "cluster E1--><a href=\"psysml:091e42f3-dddd-4d90-8666-606f19fb366e\" target=\"_top\" title=\"psysml:091e42f3-dddd-4d90-8666-606f19fb366e\" xlink:actuate=\"onRequest\" xlink:href=\"psysml:091e42f3-dddd-4d90-8666-606f19fb366e\" xlink:show=\"new\" xlink:title=\"psysml:091e42f3-dddd-4d90-8666-606f19fb366e\" xlink:type=\"simple\"><polygon fill=\"#FFFFFF\" points=\"16,6,196,6,203,28.2969,375,28.2969,375,259,16,259,16,6\" style=\"stroke: #000000; stroke-width: 1.5;\"/><line style=\"stroke: #000000; stroke-width: 1.5;\" x1=\"16\" x2=\"203\" y1=\"28.2969\" y2=\"28.2969\"/><text fill=\"#000000\" font-family=\"sans-serif\" font-size=\"14\" font-weight=\"bold\" lengthAdjust=\"spacingAndGlyphs\" textLength=\"174\" x=\"20\" y=\"20.9951\">QualifiedNameImportTest</text></a><!--MD5=[e4f7fae6ed58524ba242bb0b0d3be6b7]\n",
       "cluster E2--><a href=\"psysml:63fd19d7-856c-4154-ab3f-5f7beb933c6f\" target=\"_top\" title=\"psysml:63fd19d7-856c-4154-ab3f-5f7beb933c6f\" xlink:actuate=\"onRequest\" xlink:href=\"psysml:63fd19d7-856c-4154-ab3f-5f7beb933c6f\" xlink:show=\"new\" xlink:title=\"psysml:63fd19d7-856c-4154-ab3f-5f7beb933c6f\" xlink:type=\"simple\"><polygon fill=\"#FFFFFF\" points=\"225,90,249,90,256,112.2969,343,112.2969,343,222,225,222,225,90\" style=\"stroke: #000000; stroke-width: 1.5;\"/><line style=\"stroke: #000000; stroke-width: 1.5;\" x1=\"225\" x2=\"256\" y1=\"112.2969\" y2=\"112.2969\"/><text fill=\"#000000\" font-family=\"sans-serif\" font-size=\"14\" font-weight=\"bold\" lengthAdjust=\"spacingAndGlyphs\" textLength=\"18\" x=\"229\" y=\"104.9951\">P1</text></a><!--MD5=[f6df4d0ebaf0b5dfb2ced0ae5af7c670]\n",
       "cluster E4--><a href=\"psysml:d8f64ef2-651e-4c07-9e19-09c43a642dc3\" target=\"_top\" title=\"psysml:d8f64ef2-651e-4c07-9e19-09c43a642dc3\" xlink:actuate=\"onRequest\" xlink:href=\"psysml:d8f64ef2-651e-4c07-9e19-09c43a642dc3\" xlink:show=\"new\" xlink:title=\"psysml:d8f64ef2-651e-4c07-9e19-09c43a642dc3\" xlink:type=\"simple\"><polygon fill=\"#FFFFFF\" points=\"40,49,64,49,71,71.2969,118,71.2969,118,235,40,235,40,49\" style=\"stroke: #000000; stroke-width: 1.5;\"/><line style=\"stroke: #000000; stroke-width: 1.5;\" x1=\"40\" x2=\"71\" y1=\"71.2969\" y2=\"71.2969\"/><text fill=\"#000000\" font-family=\"sans-serif\" font-size=\"14\" font-weight=\"bold\" lengthAdjust=\"spacingAndGlyphs\" textLength=\"18\" x=\"44\" y=\"63.9951\">P2</text></a><!--MD5=[09b614a08d8cba4a07c9adeb5e0fee81]\n",
       "class E3--><a href=\"psysml:9081ec29-06f9-459b-bb5e-85f58996f1a9\" target=\"_top\" title=\"psysml:9081ec29-06f9-459b-bb5e-85f58996f1a9\" xlink:actuate=\"onRequest\" xlink:href=\"psysml:9081ec29-06f9-459b-bb5e-85f58996f1a9\" xlink:show=\"new\" xlink:title=\"psysml:9081ec29-06f9-459b-bb5e-85f58996f1a9\" xlink:type=\"simple\"><rect fill=\"#FFFFFF\" height=\"45.9375\" id=\"E3\" style=\"stroke: #383838; stroke-width: 1.5;\" width=\"70\" x=\"249\" y=\"152\"/><text fill=\"#000000\" font-family=\"sans-serif\" font-size=\"12\" font-style=\"italic\" lengthAdjust=\"spacingAndGlyphs\" textLength=\"68\" x=\"250\" y=\"168.1387\">«part  def»</text><text fill=\"#000000\" font-family=\"sans-serif\" font-size=\"12\" lengthAdjust=\"spacingAndGlyphs\" textLength=\"8\" x=\"280\" y=\"182.1074\">A</text><line style=\"stroke: #383838; stroke-width: 1.5;\" x1=\"250\" x2=\"318\" y1=\"189.9375\" y2=\"189.9375\"/></a><!--MD5=[60a26617385b1d2d0262a64233df1f8d]\n",
       "class E6--><a href=\"psysml:b30d741d-b0a5-4dc2-b144-a7e4c27e5c46\" target=\"_top\" title=\"psysml:b30d741d-b0a5-4dc2-b144-a7e4c27e5c46\" xlink:actuate=\"onRequest\" xlink:href=\"psysml:b30d741d-b0a5-4dc2-b144-a7e4c27e5c46\" xlink:show=\"new\" xlink:title=\"psysml:b30d741d-b0a5-4dc2-b144-a7e4c27e5c46\" xlink:type=\"simple\"><rect fill=\"#FFFFFF\" height=\"45.9375\" id=\"E6\" rx=\"10\" ry=\"10\" style=\"stroke: #383838; stroke-width: 1.5;\" width=\"42\" x=\"58\" y=\"173\"/><text fill=\"#000000\" font-family=\"sans-serif\" font-size=\"12\" font-style=\"italic\" lengthAdjust=\"spacingAndGlyphs\" textLength=\"40\" x=\"59\" y=\"189.1387\">«part»</text><text fill=\"#000000\" font-family=\"sans-serif\" font-size=\"12\" lengthAdjust=\"spacingAndGlyphs\" textLength=\"22\" x=\"66\" y=\"203.1074\">x: A</text><line style=\"stroke: #383838; stroke-width: 1.5;\" x1=\"59\" x2=\"99\" y1=\"210.9375\" y2=\"210.9375\"/></a><a href=\"psysml:7edd138a-1c77-4581-b137-3a8c463dac94\" target=\"_top\" title=\"psysml:7edd138a-1c77-4581-b137-3a8c463dac94\" xlink:actuate=\"onRequest\" xlink:href=\"psysml:7edd138a-1c77-4581-b137-3a8c463dac94\" xlink:show=\"new\" xlink:title=\"psysml:7edd138a-1c77-4581-b137-3a8c463dac94\" xlink:type=\"simple\"><polygon fill=\"#FFFFFF\" points=\"56,84.5,88,84.5,95,106.7969,102,106.7969,102,137.0938,56,137.0938,56,84.5\" style=\"stroke: #000000; stroke-width: 1.5;\"/><line style=\"stroke: #000000; stroke-width: 1.5;\" x1=\"56\" x2=\"95\" y1=\"106.7969\" y2=\"106.7969\"/><text fill=\"#000000\" font-family=\"sans-serif\" font-size=\"14\" font-weight=\"bold\" lengthAdjust=\"spacingAndGlyphs\" textLength=\"26\" x=\"60\" y=\"99.4951\">P2a</text></a><!--MD5=[15ebcb19ae302d9b601edb458606d402]\n",
       "link E5 to E2--><a href=\"psysml:b8da89e1-0406-4ebb-8e6e-940fd82b8a4d\" target=\"_top\" title=\"psysml:b8da89e1-0406-4ebb-8e6e-940fd82b8a4d\" xlink:actuate=\"onRequest\" xlink:href=\"psysml:b8da89e1-0406-4ebb-8e6e-940fd82b8a4d\" xlink:show=\"new\" xlink:title=\"psysml:b8da89e1-0406-4ebb-8e6e-940fd82b8a4d\" xlink:type=\"simple\"><path d=\"M102.11,111.65 C128.005,112.415 172.23,113.7225 210.4688,114.8538 C215.2486,114.9952 219.9349,115.1338 224.4802,115.2683 \" fill=\"none\" id=\"E5-&gt;E2\" style=\"stroke: #383838; stroke-width: 1.0; stroke-dasharray: 7.0,7.0;\"/><polygon fill=\"#383838\" points=\"224.4802,115.2683,215.6024,111.0039,219.4824,115.1204,215.3658,119.0004,224.4802,115.2683\" style=\"stroke: #383838; stroke-width: 1.0;\"/><text fill=\"#000000\" font-family=\"sans-serif\" font-size=\"13\" lengthAdjust=\"spacingAndGlyphs\" textLength=\"65\" x=\"135\" y=\"109.0669\">«import»*</text></a><!--MD5=[a717450b82c80b9240a525fa862496af]\n",
       "link E6 to E3--><a href=\"psysml:ce27ea1d-5c56-4308-8b0e-4b6ab5ed7604\" target=\"_top\" title=\"psysml:ce27ea1d-5c56-4308-8b0e-4b6ab5ed7604\" xlink:actuate=\"onRequest\" xlink:href=\"psysml:ce27ea1d-5c56-4308-8b0e-4b6ab5ed7604\" xlink:show=\"new\" xlink:title=\"psysml:ce27ea1d-5c56-4308-8b0e-4b6ab5ed7604\" xlink:type=\"simple\"><path d=\"M100.21,193.91 C129.89,190.84 186.34,185 228.7,180.62 \" fill=\"none\" id=\"E6-&gt;E3\" style=\"stroke: #383838; stroke-width: 1.0;\"/><polygon fill=\"#FFFFFF\" points=\"248.76,178.54,230.5811,187.4579,229.1406,173.5322,248.76,178.54\" style=\"stroke: #383838; stroke-width: 1.0;\"/><ellipse cx=\"224.7056\" cy=\"186.0551\" fill=\"#383838\" rx=\"2\" ry=\"2\" style=\"stroke: #383838; stroke-width: 1.0;\"/><ellipse cx=\"223.6766\" cy=\"176.1082\" fill=\"#383838\" rx=\"2\" ry=\"2\" style=\"stroke: #383838; stroke-width: 1.0;\"/></a><!--MD5=[047c266192a04bd9e29b026588591b8c]\n",
       "@startuml\r\n",
       "left to right direction\r\n",
       "skinparam monochrome true\r\n",
       "skinparam classbackgroundcolor white\r\n",
       "skinparam shadowing false\r\n",
       "skinparam wrapWidth 300\r\n",
       "hide circle\r\n",
       "\r\n",
       "package \"QualifiedNameImportTest\" as E1  [[psysml:091e42f3-dddd-4d90-8666-606f19fb366e ]]  {\r\n",
       "package \"P1\" as E2  [[psysml:63fd19d7-856c-4154-ab3f-5f7beb933c6f ]]  {\r\n",
       "comp def \"A\" as E3  <<(T,blue) part  def>> [[psysml:9081ec29-06f9-459b-bb5e-85f58996f1a9 ]] {\r\n",
       "}\r\n",
       "}\r\n",
       "package \"P2\" as E4  [[psysml:d8f64ef2-651e-4c07-9e19-09c43a642dc3 ]]  {\r\n",
       "package \"P2a\" as E5  [[psysml:7edd138a-1c77-4581-b137-3a8c463dac94 ]]  {\r\n",
       "}\r\n",
       "comp usage \"x: A \" as E6  <<(T,blue) part>> [[psysml:b30d741d-b0a5-4dc2-b144-a7e4c27e5c46 ]] {\r\n",
       "}\r\n",
       "}\r\n",
       "}\r\n",
       "E5 ..> E2 [[psysml:b8da89e1-0406-4ebb-8e6e-940fd82b8a4d ]] : <<import>>*\r\n",
       "E6 - -:|> E3 [[psysml:ce27ea1d-5c56-4308-8b0e-4b6ab5ed7604 ]] \r\n",
       "@enduml\r\n",
       "\n",
       "PlantUML version 1.2020.13(Sat Jun 13 12:26:38 UTC 2020)\n",
       "(EPL source distribution)\n",
       "Java Runtime: OpenJDK Runtime Environment\n",
       "JVM: OpenJDK 64-Bit Server VM\n",
       "Default Encoding: UTF-8\n",
       "Language: en\n",
       "Country: null\n",
       "--></g></svg>"
      ]
     },
     "execution_count": 16,
     "metadata": {},
     "output_type": "execute_result"
    }
   ],
   "source": [
    "%viz --style=\"LR\" --view=\"Default\" \"QualifiedNameImportTest\""
   ]
  },
  {
   "cell_type": "code",
   "execution_count": 17,
   "id": "6ca7b87f",
   "metadata": {
    "execution": {
     "iopub.execute_input": "2022-02-18T10:50:01.899647Z",
     "iopub.status.busy": "2022-02-18T10:50:01.899244Z",
     "iopub.status.idle": "2022-02-18T10:50:01.937547Z",
     "shell.execute_reply": "2022-02-18T10:50:01.937158Z"
    }
   },
   "outputs": [
    {
     "data": {
      "image/svg+xml": [
       "<?xml version=\"1.0\" encoding=\"UTF-8\" standalone=\"no\"?><svg xmlns=\"http://www.w3.org/2000/svg\" xmlns:xlink=\"http://www.w3.org/1999/xlink\" contentScriptType=\"application/ecmascript\" contentStyleType=\"text/css\" height=\"271px\" preserveAspectRatio=\"none\" style=\"width:397px;height:271px;\" version=\"1.1\" viewBox=\"0 0 397 271\" width=\"397px\" zoomAndPan=\"magnify\"><defs/><g><!--MD5=[fbc87193dbaf4d95561dea2c320d4a47]\n",
       "cluster E1--><a href=\"psysml:091e42f3-dddd-4d90-8666-606f19fb366e\" target=\"_top\" title=\"psysml:091e42f3-dddd-4d90-8666-606f19fb366e\" xlink:actuate=\"onRequest\" xlink:href=\"psysml:091e42f3-dddd-4d90-8666-606f19fb366e\" xlink:show=\"new\" xlink:title=\"psysml:091e42f3-dddd-4d90-8666-606f19fb366e\" xlink:type=\"simple\"><polygon fill=\"#FFFFFF\" points=\"16,6,196,6,203,28.2969,375,28.2969,375,259,16,259,16,6\" style=\"stroke: #000000; stroke-width: 1.5;\"/><line style=\"stroke: #000000; stroke-width: 1.5;\" x1=\"16\" x2=\"203\" y1=\"28.2969\" y2=\"28.2969\"/><text fill=\"#000000\" font-family=\"sans-serif\" font-size=\"14\" font-weight=\"bold\" lengthAdjust=\"spacingAndGlyphs\" textLength=\"174\" x=\"20\" y=\"20.9951\">QualifiedNameImportTest</text></a><!--MD5=[e4f7fae6ed58524ba242bb0b0d3be6b7]\n",
       "cluster E2--><a href=\"psysml:63fd19d7-856c-4154-ab3f-5f7beb933c6f\" target=\"_top\" title=\"psysml:63fd19d7-856c-4154-ab3f-5f7beb933c6f\" xlink:actuate=\"onRequest\" xlink:href=\"psysml:63fd19d7-856c-4154-ab3f-5f7beb933c6f\" xlink:show=\"new\" xlink:title=\"psysml:63fd19d7-856c-4154-ab3f-5f7beb933c6f\" xlink:type=\"simple\"><polygon fill=\"#FFFFFF\" points=\"225,90,249,90,256,112.2969,343,112.2969,343,222,225,222,225,90\" style=\"stroke: #000000; stroke-width: 1.5;\"/><line style=\"stroke: #000000; stroke-width: 1.5;\" x1=\"225\" x2=\"256\" y1=\"112.2969\" y2=\"112.2969\"/><text fill=\"#000000\" font-family=\"sans-serif\" font-size=\"14\" font-weight=\"bold\" lengthAdjust=\"spacingAndGlyphs\" textLength=\"18\" x=\"229\" y=\"104.9951\">P1</text></a><!--MD5=[f6df4d0ebaf0b5dfb2ced0ae5af7c670]\n",
       "cluster E4--><a href=\"psysml:d8f64ef2-651e-4c07-9e19-09c43a642dc3\" target=\"_top\" title=\"psysml:d8f64ef2-651e-4c07-9e19-09c43a642dc3\" xlink:actuate=\"onRequest\" xlink:href=\"psysml:d8f64ef2-651e-4c07-9e19-09c43a642dc3\" xlink:show=\"new\" xlink:title=\"psysml:d8f64ef2-651e-4c07-9e19-09c43a642dc3\" xlink:type=\"simple\"><polygon fill=\"#FFFFFF\" points=\"40,49,64,49,71,71.2969,118,71.2969,118,235,40,235,40,49\" style=\"stroke: #000000; stroke-width: 1.5;\"/><line style=\"stroke: #000000; stroke-width: 1.5;\" x1=\"40\" x2=\"71\" y1=\"71.2969\" y2=\"71.2969\"/><text fill=\"#000000\" font-family=\"sans-serif\" font-size=\"14\" font-weight=\"bold\" lengthAdjust=\"spacingAndGlyphs\" textLength=\"18\" x=\"44\" y=\"63.9951\">P2</text></a><!--MD5=[09b614a08d8cba4a07c9adeb5e0fee81]\n",
       "class E3--><a href=\"psysml:9081ec29-06f9-459b-bb5e-85f58996f1a9\" target=\"_top\" title=\"psysml:9081ec29-06f9-459b-bb5e-85f58996f1a9\" xlink:actuate=\"onRequest\" xlink:href=\"psysml:9081ec29-06f9-459b-bb5e-85f58996f1a9\" xlink:show=\"new\" xlink:title=\"psysml:9081ec29-06f9-459b-bb5e-85f58996f1a9\" xlink:type=\"simple\"><rect fill=\"#FFFFFF\" height=\"45.9375\" id=\"E3\" style=\"stroke: #383838; stroke-width: 1.5;\" width=\"70\" x=\"249\" y=\"152\"/><text fill=\"#000000\" font-family=\"sans-serif\" font-size=\"12\" font-style=\"italic\" lengthAdjust=\"spacingAndGlyphs\" textLength=\"68\" x=\"250\" y=\"168.1387\">«part  def»</text><text fill=\"#000000\" font-family=\"sans-serif\" font-size=\"12\" lengthAdjust=\"spacingAndGlyphs\" textLength=\"8\" x=\"280\" y=\"182.1074\">A</text><line style=\"stroke: #383838; stroke-width: 1.5;\" x1=\"250\" x2=\"318\" y1=\"189.9375\" y2=\"189.9375\"/></a><!--MD5=[60a26617385b1d2d0262a64233df1f8d]\n",
       "class E6--><a href=\"psysml:b30d741d-b0a5-4dc2-b144-a7e4c27e5c46\" target=\"_top\" title=\"psysml:b30d741d-b0a5-4dc2-b144-a7e4c27e5c46\" xlink:actuate=\"onRequest\" xlink:href=\"psysml:b30d741d-b0a5-4dc2-b144-a7e4c27e5c46\" xlink:show=\"new\" xlink:title=\"psysml:b30d741d-b0a5-4dc2-b144-a7e4c27e5c46\" xlink:type=\"simple\"><rect fill=\"#FFFFFF\" height=\"45.9375\" id=\"E6\" rx=\"10\" ry=\"10\" style=\"stroke: #383838; stroke-width: 1.5;\" width=\"42\" x=\"58\" y=\"173\"/><text fill=\"#000000\" font-family=\"sans-serif\" font-size=\"12\" font-style=\"italic\" lengthAdjust=\"spacingAndGlyphs\" textLength=\"40\" x=\"59\" y=\"189.1387\">«part»</text><text fill=\"#000000\" font-family=\"sans-serif\" font-size=\"12\" lengthAdjust=\"spacingAndGlyphs\" textLength=\"22\" x=\"66\" y=\"203.1074\">x: A</text><line style=\"stroke: #383838; stroke-width: 1.5;\" x1=\"59\" x2=\"99\" y1=\"210.9375\" y2=\"210.9375\"/></a><a href=\"psysml:7edd138a-1c77-4581-b137-3a8c463dac94\" target=\"_top\" title=\"psysml:7edd138a-1c77-4581-b137-3a8c463dac94\" xlink:actuate=\"onRequest\" xlink:href=\"psysml:7edd138a-1c77-4581-b137-3a8c463dac94\" xlink:show=\"new\" xlink:title=\"psysml:7edd138a-1c77-4581-b137-3a8c463dac94\" xlink:type=\"simple\"><polygon fill=\"#FFFFFF\" points=\"56,84.5,88,84.5,95,106.7969,102,106.7969,102,137.0938,56,137.0938,56,84.5\" style=\"stroke: #000000; stroke-width: 1.5;\"/><line style=\"stroke: #000000; stroke-width: 1.5;\" x1=\"56\" x2=\"95\" y1=\"106.7969\" y2=\"106.7969\"/><text fill=\"#000000\" font-family=\"sans-serif\" font-size=\"14\" font-weight=\"bold\" lengthAdjust=\"spacingAndGlyphs\" textLength=\"26\" x=\"60\" y=\"99.4951\">P2a</text></a><!--MD5=[15ebcb19ae302d9b601edb458606d402]\n",
       "link E5 to E2--><a href=\"psysml:b8da89e1-0406-4ebb-8e6e-940fd82b8a4d\" target=\"_top\" title=\"psysml:b8da89e1-0406-4ebb-8e6e-940fd82b8a4d\" xlink:actuate=\"onRequest\" xlink:href=\"psysml:b8da89e1-0406-4ebb-8e6e-940fd82b8a4d\" xlink:show=\"new\" xlink:title=\"psysml:b8da89e1-0406-4ebb-8e6e-940fd82b8a4d\" xlink:type=\"simple\"><path d=\"M102.11,111.65 C128.005,112.415 172.23,113.7225 210.4688,114.8538 C215.2486,114.9952 219.9349,115.1338 224.4802,115.2683 \" fill=\"none\" id=\"E5-&gt;E2\" style=\"stroke: #383838; stroke-width: 1.0; stroke-dasharray: 7.0,7.0;\"/><polygon fill=\"#383838\" points=\"224.4802,115.2683,215.6024,111.0039,219.4824,115.1204,215.3658,119.0004,224.4802,115.2683\" style=\"stroke: #383838; stroke-width: 1.0;\"/><text fill=\"#000000\" font-family=\"sans-serif\" font-size=\"13\" lengthAdjust=\"spacingAndGlyphs\" textLength=\"65\" x=\"135\" y=\"109.0669\">«import»*</text></a><!--MD5=[a717450b82c80b9240a525fa862496af]\n",
       "link E6 to E3--><a href=\"psysml:ce27ea1d-5c56-4308-8b0e-4b6ab5ed7604\" target=\"_top\" title=\"psysml:ce27ea1d-5c56-4308-8b0e-4b6ab5ed7604\" xlink:actuate=\"onRequest\" xlink:href=\"psysml:ce27ea1d-5c56-4308-8b0e-4b6ab5ed7604\" xlink:show=\"new\" xlink:title=\"psysml:ce27ea1d-5c56-4308-8b0e-4b6ab5ed7604\" xlink:type=\"simple\"><path d=\"M100.21,193.91 C129.89,190.84 186.34,185 228.7,180.62 \" fill=\"none\" id=\"E6-&gt;E3\" style=\"stroke: #383838; stroke-width: 1.0;\"/><polygon fill=\"#FFFFFF\" points=\"248.76,178.54,230.5811,187.4579,229.1406,173.5322,248.76,178.54\" style=\"stroke: #383838; stroke-width: 1.0;\"/><ellipse cx=\"224.7056\" cy=\"186.0551\" fill=\"#383838\" rx=\"2\" ry=\"2\" style=\"stroke: #383838; stroke-width: 1.0;\"/><ellipse cx=\"223.6766\" cy=\"176.1082\" fill=\"#383838\" rx=\"2\" ry=\"2\" style=\"stroke: #383838; stroke-width: 1.0;\"/></a><!--MD5=[047c266192a04bd9e29b026588591b8c]\n",
       "@startuml\r\n",
       "left to right direction\r\n",
       "skinparam monochrome true\r\n",
       "skinparam classbackgroundcolor white\r\n",
       "skinparam shadowing false\r\n",
       "skinparam wrapWidth 300\r\n",
       "hide circle\r\n",
       "\r\n",
       "package \"QualifiedNameImportTest\" as E1  [[psysml:091e42f3-dddd-4d90-8666-606f19fb366e ]]  {\r\n",
       "package \"P1\" as E2  [[psysml:63fd19d7-856c-4154-ab3f-5f7beb933c6f ]]  {\r\n",
       "comp def \"A\" as E3  <<(T,blue) part  def>> [[psysml:9081ec29-06f9-459b-bb5e-85f58996f1a9 ]] {\r\n",
       "}\r\n",
       "}\r\n",
       "package \"P2\" as E4  [[psysml:d8f64ef2-651e-4c07-9e19-09c43a642dc3 ]]  {\r\n",
       "package \"P2a\" as E5  [[psysml:7edd138a-1c77-4581-b137-3a8c463dac94 ]]  {\r\n",
       "}\r\n",
       "comp usage \"x: A \" as E6  <<(T,blue) part>> [[psysml:b30d741d-b0a5-4dc2-b144-a7e4c27e5c46 ]] {\r\n",
       "}\r\n",
       "}\r\n",
       "}\r\n",
       "E5 ..> E2 [[psysml:b8da89e1-0406-4ebb-8e6e-940fd82b8a4d ]] : <<import>>*\r\n",
       "E6 - -:|> E3 [[psysml:ce27ea1d-5c56-4308-8b0e-4b6ab5ed7604 ]] \r\n",
       "@enduml\r\n",
       "\n",
       "PlantUML version 1.2020.13(Sat Jun 13 12:26:38 UTC 2020)\n",
       "(EPL source distribution)\n",
       "Java Runtime: OpenJDK Runtime Environment\n",
       "JVM: OpenJDK 64-Bit Server VM\n",
       "Default Encoding: UTF-8\n",
       "Language: en\n",
       "Country: null\n",
       "--></g></svg>"
      ]
     },
     "execution_count": 17,
     "metadata": {},
     "output_type": "execute_result"
    }
   ],
   "source": [
    "%viz --style=\"LR\" --view=\"Tree\" \"QualifiedNameImportTest\""
   ]
  },
  {
   "cell_type": "code",
   "execution_count": 18,
   "id": "334b63e2",
   "metadata": {
    "execution": {
     "iopub.execute_input": "2022-02-18T10:50:01.984929Z",
     "iopub.status.busy": "2022-02-18T10:50:01.984523Z",
     "iopub.status.idle": "2022-02-18T10:50:01.989877Z",
     "shell.execute_reply": "2022-02-18T10:50:01.990183Z"
    }
   },
   "outputs": [
    {
     "data": {
      "image/svg+xml": [
       "<?xml version=\"1.0\" encoding=\"UTF-8\" standalone=\"no\"?><svg xmlns=\"http://www.w3.org/2000/svg\" xmlns:xlink=\"http://www.w3.org/1999/xlink\" contentScriptType=\"application/ecmascript\" contentStyleType=\"text/css\" height=\"12px\" preserveAspectRatio=\"none\" style=\"width:12px;height:12px;\" version=\"1.1\" viewBox=\"0 0 12 12\" width=\"12px\" zoomAndPan=\"magnify\"><defs/><g><!--MD5=[19d285c9d72a204eba4e2cd117d745e8]\n",
       "@startuml\r\n",
       "left to right direction\r\n",
       "skinparam monochrome true\r\n",
       "skinparam classbackgroundcolor white\r\n",
       "skinparam shadowing false\r\n",
       "skinparam wrapWidth 300\r\n",
       "hide circle\r\n",
       "\r\n",
       "@enduml\r\n",
       "\n",
       "PlantUML version 1.2020.13(Sat Jun 13 12:26:38 UTC 2020)\n",
       "(EPL source distribution)\n",
       "Java Runtime: OpenJDK Runtime Environment\n",
       "JVM: OpenJDK 64-Bit Server VM\n",
       "Default Encoding: UTF-8\n",
       "Language: en\n",
       "Country: null\n",
       "--></g></svg>"
      ]
     },
     "execution_count": 18,
     "metadata": {},
     "output_type": "execute_result"
    }
   ],
   "source": [
    "%viz --style=\"LR\" --view=\"State\" \"QualifiedNameImportTest\""
   ]
  },
  {
   "cell_type": "code",
   "execution_count": 19,
   "id": "2beb1be9",
   "metadata": {
    "execution": {
     "iopub.execute_input": "2022-02-18T10:50:02.040426Z",
     "iopub.status.busy": "2022-02-18T10:50:02.039998Z",
     "iopub.status.idle": "2022-02-18T10:50:02.071845Z",
     "shell.execute_reply": "2022-02-18T10:50:02.071491Z"
    }
   },
   "outputs": [
    {
     "data": {
      "image/svg+xml": [
       "<?xml version=\"1.0\" encoding=\"UTF-8\" standalone=\"no\"?><svg xmlns=\"http://www.w3.org/2000/svg\" xmlns:xlink=\"http://www.w3.org/1999/xlink\" contentScriptType=\"application/ecmascript\" contentStyleType=\"text/css\" height=\"265px\" preserveAspectRatio=\"none\" style=\"width:406px;height:265px;\" version=\"1.1\" viewBox=\"0 0 406 265\" width=\"406px\" zoomAndPan=\"magnify\"><defs/><g><!--MD5=[fbc87193dbaf4d95561dea2c320d4a47]\n",
       "cluster E1--><a href=\"psysml:091e42f3-dddd-4d90-8666-606f19fb366e\" target=\"_top\" title=\"psysml:091e42f3-dddd-4d90-8666-606f19fb366e\" xlink:actuate=\"onRequest\" xlink:href=\"psysml:091e42f3-dddd-4d90-8666-606f19fb366e\" xlink:show=\"new\" xlink:title=\"psysml:091e42f3-dddd-4d90-8666-606f19fb366e\" xlink:type=\"simple\"><polygon fill=\"#FFFFFF\" points=\"16,6,196,6,203,28.2969,384,28.2969,384,253,16,253,16,6\" style=\"stroke: #000000; stroke-width: 1.5;\"/><line style=\"stroke: #000000; stroke-width: 1.5;\" x1=\"16\" x2=\"203\" y1=\"28.2969\" y2=\"28.2969\"/><text fill=\"#000000\" font-family=\"sans-serif\" font-size=\"14\" font-weight=\"bold\" lengthAdjust=\"spacingAndGlyphs\" textLength=\"174\" x=\"20\" y=\"20.9951\">QualifiedNameImportTest</text></a><!--MD5=[e4f7fae6ed58524ba242bb0b0d3be6b7]\n",
       "cluster E2--><a href=\"psysml:63fd19d7-856c-4154-ab3f-5f7beb933c6f\" target=\"_top\" title=\"psysml:63fd19d7-856c-4154-ab3f-5f7beb933c6f\" xlink:actuate=\"onRequest\" xlink:href=\"psysml:63fd19d7-856c-4154-ab3f-5f7beb933c6f\" xlink:show=\"new\" xlink:title=\"psysml:63fd19d7-856c-4154-ab3f-5f7beb933c6f\" xlink:type=\"simple\"><polygon fill=\"#FFFFFF\" points=\"229,57,253,57,260,79.2969,352,79.2969,352,187,229,187,229,57\" style=\"stroke: #000000; stroke-width: 1.5;\"/><line style=\"stroke: #000000; stroke-width: 1.5;\" x1=\"229\" x2=\"260\" y1=\"79.2969\" y2=\"79.2969\"/><text fill=\"#000000\" font-family=\"sans-serif\" font-size=\"14\" font-weight=\"bold\" lengthAdjust=\"spacingAndGlyphs\" textLength=\"18\" x=\"233\" y=\"71.9951\">P1</text></a><!--MD5=[f6df4d0ebaf0b5dfb2ced0ae5af7c670]\n",
       "cluster E4--><a href=\"psysml:d8f64ef2-651e-4c07-9e19-09c43a642dc3\" target=\"_top\" title=\"psysml:d8f64ef2-651e-4c07-9e19-09c43a642dc3\" xlink:actuate=\"onRequest\" xlink:href=\"psysml:d8f64ef2-651e-4c07-9e19-09c43a642dc3\" xlink:show=\"new\" xlink:title=\"psysml:d8f64ef2-651e-4c07-9e19-09c43a642dc3\" xlink:type=\"simple\"><polygon fill=\"#FFFFFF\" points=\"40,49,64,49,71,71.2969,122,71.2969,122,229,40,229,40,49\" style=\"stroke: #000000; stroke-width: 1.5;\"/><line style=\"stroke: #000000; stroke-width: 1.5;\" x1=\"40\" x2=\"71\" y1=\"71.2969\" y2=\"71.2969\"/><text fill=\"#000000\" font-family=\"sans-serif\" font-size=\"14\" font-weight=\"bold\" lengthAdjust=\"spacingAndGlyphs\" textLength=\"18\" x=\"44\" y=\"63.9951\">P2</text></a><g id=\"E1.E2.E3\"><a href=\"psysml:9081ec29-06f9-459b-bb5e-85f58996f1a9\" target=\"_top\" title=\"psysml:9081ec29-06f9-459b-bb5e-85f58996f1a9\" xlink:actuate=\"onRequest\" xlink:href=\"psysml:9081ec29-06f9-459b-bb5e-85f58996f1a9\" xlink:show=\"new\" xlink:title=\"psysml:9081ec29-06f9-459b-bb5e-85f58996f1a9\" xlink:type=\"simple\"><rect fill=\"#FFFFFF\" height=\"42.9375\" id=\"E3\" style=\"stroke: #383838; stroke-width: 1.5;\" width=\"75\" x=\"253\" y=\"100.5\"/><rect fill=\"#F8F8F8\" height=\"37.9375\" style=\"stroke: #383838; stroke-width: 1.5;\" width=\"75\" x=\"253\" y=\"100.5\"/><text fill=\"#000000\" font-family=\"sans-serif\" font-size=\"12\" font-style=\"italic\" lengthAdjust=\"spacingAndGlyphs\" textLength=\"68\" x=\"256.5\" y=\"116.6387\">«part  def»</text><text fill=\"#000000\" font-family=\"sans-serif\" font-size=\"12\" lengthAdjust=\"spacingAndGlyphs\" textLength=\"8\" x=\"286.5\" y=\"130.6074\">A</text></a></g><a href=\"psysml:7edd138a-1c77-4581-b137-3a8c463dac94\" target=\"_top\" title=\"psysml:7edd138a-1c77-4581-b137-3a8c463dac94\" xlink:actuate=\"onRequest\" xlink:href=\"psysml:7edd138a-1c77-4581-b137-3a8c463dac94\" xlink:show=\"new\" xlink:title=\"psysml:7edd138a-1c77-4581-b137-3a8c463dac94\" xlink:type=\"simple\"><polygon fill=\"#FFFFFF\" points=\"58,84.5,90,84.5,97,106.7969,104,106.7969,104,137.0938,58,137.0938,58,84.5\" style=\"stroke: #000000; stroke-width: 1.5;\"/><line style=\"stroke: #000000; stroke-width: 1.5;\" x1=\"58\" x2=\"97\" y1=\"106.7969\" y2=\"106.7969\"/><text fill=\"#000000\" font-family=\"sans-serif\" font-size=\"14\" font-weight=\"bold\" lengthAdjust=\"spacingAndGlyphs\" textLength=\"26\" x=\"62\" y=\"99.4951\">P2a</text></a><g id=\"E1.E4.E6\"><a href=\"psysml:b30d741d-b0a5-4dc2-b144-a7e4c27e5c46\" target=\"_top\" title=\"psysml:b30d741d-b0a5-4dc2-b144-a7e4c27e5c46\" xlink:actuate=\"onRequest\" xlink:href=\"psysml:b30d741d-b0a5-4dc2-b144-a7e4c27e5c46\" xlink:show=\"new\" xlink:title=\"psysml:b30d741d-b0a5-4dc2-b144-a7e4c27e5c46\" xlink:type=\"simple\"><rect fill=\"#FFFFFF\" height=\"40\" id=\"E6\" rx=\"10\" ry=\"10\" style=\"stroke: #383838; stroke-width: 1.5;\" width=\"50\" x=\"56\" y=\"173\"/><rect fill=\"#F8F8F8\" height=\"23.9688\" rx=\"10\" ry=\"10\" style=\"stroke: #F8F8F8; stroke-width: 1.5;\" width=\"50\" x=\"56\" y=\"173\"/><rect fill=\"#F8F8F8\" height=\"10\" style=\"stroke: #F8F8F8; stroke-width: 1.5;\" width=\"50\" x=\"56\" y=\"186.9688\"/><rect fill=\"none\" height=\"40\" id=\"E6\" rx=\"10\" ry=\"10\" style=\"stroke: #383838; stroke-width: 1.5;\" width=\"50\" x=\"56\" y=\"173\"/><text fill=\"#000000\" font-family=\"sans-serif\" font-size=\"12\" lengthAdjust=\"spacingAndGlyphs\" textLength=\"22\" x=\"70\" y=\"189.1387\">x: A</text></a></g><!--MD5=[15ebcb19ae302d9b601edb458606d402]\n",
       "link E5 to E2--><a href=\"psysml:b8da89e1-0406-4ebb-8e6e-940fd82b8a4d\" target=\"_top\" title=\"psysml:b8da89e1-0406-4ebb-8e6e-940fd82b8a4d\" xlink:actuate=\"onRequest\" xlink:href=\"psysml:b8da89e1-0406-4ebb-8e6e-940fd82b8a4d\" xlink:show=\"new\" xlink:title=\"psysml:b8da89e1-0406-4ebb-8e6e-940fd82b8a4d\" xlink:type=\"simple\"><path d=\"M104.45,120.29 C130.32,130.8 174.27,147.99 213,160 C217.0525,161.2563 221.2453,162.4869 225.485,163.6796 C226.545,163.9778 227.6078,164.2737 228.6722,164.5669 \" fill=\"none\" id=\"E5-&gt;E2\" style=\"stroke: #383838; stroke-width: 1.0; stroke-dasharray: 7.0,7.0;\"/><polygon fill=\"#383838\" points=\"228.6722,164.5669,221.0581,158.3199,223.8518,163.2387,218.933,166.0324,228.6722,164.5669\" style=\"stroke: #383838; stroke-width: 1.0;\"/><text fill=\"#000000\" font-family=\"sans-serif\" font-size=\"13\" lengthAdjust=\"spacingAndGlyphs\" textLength=\"65\" x=\"139\" y=\"131.0669\">«import»*</text></a><!--MD5=[25146b2890e7c46fe0ce7bef74cc9501]\n",
       "@startuml\r\n",
       "skinparam ranksep 10\r\n",
       "skinparam rectangle {\r\n",
       " backgroundColor<<block>> LightGreen\r\n",
       "}\r\n",
       "left to right direction\r\n",
       "skinparam monochrome true\r\n",
       "skinparam classbackgroundcolor white\r\n",
       "skinparam shadowing false\r\n",
       "skinparam wrapWidth 300\r\n",
       "hide circle\r\n",
       "\r\n",
       "package \"QualifiedNameImportTest\" as E1  [[psysml:091e42f3-dddd-4d90-8666-606f19fb366e ]]  {\r\n",
       "package \"P1\" as E2  [[psysml:63fd19d7-856c-4154-ab3f-5f7beb933c6f ]]  {\r\n",
       "rec def \"A\" as E3  <<(T,blue) part  def>> [[psysml:9081ec29-06f9-459b-bb5e-85f58996f1a9 ]] {\r\n",
       "}\r\n",
       "}\r\n",
       "package \"P2\" as E4  [[psysml:d8f64ef2-651e-4c07-9e19-09c43a642dc3 ]]  {\r\n",
       "package \"P2a\" as E5  [[psysml:7edd138a-1c77-4581-b137-3a8c463dac94 ]]  {\r\n",
       "}\r\n",
       "rec usage \"x: A\" as E6  [[psysml:b30d741d-b0a5-4dc2-b144-a7e4c27e5c46 ]] {\r\n",
       "}\r\n",
       "}\r\n",
       "}\r\n",
       "E5 ..> E2 [[psysml:b8da89e1-0406-4ebb-8e6e-940fd82b8a4d ]] : <<import>>*\r\n",
       "@enduml\r\n",
       "\n",
       "PlantUML version 1.2020.13(Sat Jun 13 12:26:38 UTC 2020)\n",
       "(EPL source distribution)\n",
       "Java Runtime: OpenJDK Runtime Environment\n",
       "JVM: OpenJDK 64-Bit Server VM\n",
       "Default Encoding: UTF-8\n",
       "Language: en\n",
       "Country: null\n",
       "--></g></svg>"
      ]
     },
     "execution_count": 19,
     "metadata": {},
     "output_type": "execute_result"
    }
   ],
   "source": [
    "%viz --style=\"LR\" --view=\"Interconnection\" \"QualifiedNameImportTest\""
   ]
  },
  {
   "cell_type": "code",
   "execution_count": 20,
   "id": "14a15e4c",
   "metadata": {
    "execution": {
     "iopub.execute_input": "2022-02-18T10:50:02.121475Z",
     "iopub.status.busy": "2022-02-18T10:50:02.121076Z",
     "iopub.status.idle": "2022-02-18T10:50:02.127050Z",
     "shell.execute_reply": "2022-02-18T10:50:02.127362Z"
    }
   },
   "outputs": [
    {
     "data": {
      "image/svg+xml": [
       "<?xml version=\"1.0\" encoding=\"UTF-8\" standalone=\"no\"?><svg xmlns=\"http://www.w3.org/2000/svg\" xmlns:xlink=\"http://www.w3.org/1999/xlink\" contentScriptType=\"application/ecmascript\" contentStyleType=\"text/css\" height=\"12px\" preserveAspectRatio=\"none\" style=\"width:12px;height:12px;\" version=\"1.1\" viewBox=\"0 0 12 12\" width=\"12px\" zoomAndPan=\"magnify\"><defs/><g><!--MD5=[7aeb398939421629f6affaa4a1a7b125]\n",
       "@startuml\r\n",
       "skinparam ranksep 8\r\n",
       "left to right direction\r\n",
       "skinparam monochrome true\r\n",
       "skinparam classbackgroundcolor white\r\n",
       "skinparam shadowing false\r\n",
       "skinparam wrapWidth 300\r\n",
       "hide circle\r\n",
       "\r\n",
       "@enduml\r\n",
       "\n",
       "PlantUML version 1.2020.13(Sat Jun 13 12:26:38 UTC 2020)\n",
       "(EPL source distribution)\n",
       "Java Runtime: OpenJDK Runtime Environment\n",
       "JVM: OpenJDK 64-Bit Server VM\n",
       "Default Encoding: UTF-8\n",
       "Language: en\n",
       "Country: null\n",
       "--></g></svg>"
      ]
     },
     "execution_count": 20,
     "metadata": {},
     "output_type": "execute_result"
    }
   ],
   "source": [
    "%viz --style=\"LR\" --view=\"Action\" \"QualifiedNameImportTest\""
   ]
  },
  {
   "cell_type": "code",
   "execution_count": 21,
   "id": "cc1ce3e2",
   "metadata": {
    "execution": {
     "iopub.execute_input": "2022-02-18T10:50:02.177326Z",
     "iopub.status.busy": "2022-02-18T10:50:02.176927Z",
     "iopub.status.idle": "2022-02-18T10:50:02.182654Z",
     "shell.execute_reply": "2022-02-18T10:50:02.182277Z"
    }
   },
   "outputs": [
    {
     "data": {
      "image/svg+xml": [
       "<?xml version=\"1.0\" encoding=\"UTF-8\" standalone=\"no\"?><svg xmlns=\"http://www.w3.org/2000/svg\" xmlns:xlink=\"http://www.w3.org/1999/xlink\" contentScriptType=\"application/ecmascript\" contentStyleType=\"text/css\" height=\"12px\" preserveAspectRatio=\"none\" style=\"width:12px;height:12px;\" version=\"1.1\" viewBox=\"0 0 12 12\" width=\"12px\" zoomAndPan=\"magnify\"><defs/><g><!--MD5=[238c11ea2002f03115ad6b49a457d50e]\n",
       "@startuml\r\n",
       "skinparam roundcorner 20\r\n",
       "skinparam BoxPadding 20\r\n",
       "skinparam SequenceBoxBackgroundColor #white\r\n",
       "skinparam style strictuml\r\n",
       "skinparam maxMessageSize 100\r\n",
       "left to right direction\r\n",
       "skinparam monochrome true\r\n",
       "skinparam classbackgroundcolor white\r\n",
       "skinparam shadowing false\r\n",
       "skinparam wrapWidth 300\r\n",
       "hide circle\r\n",
       "\r\n",
       "@enduml\r\n",
       "\n",
       "PlantUML version 1.2020.13(Sat Jun 13 12:26:38 UTC 2020)\n",
       "(EPL source distribution)\n",
       "Java Runtime: OpenJDK Runtime Environment\n",
       "JVM: OpenJDK 64-Bit Server VM\n",
       "Default Encoding: UTF-8\n",
       "Language: en\n",
       "Country: null\n",
       "--></g></svg>"
      ]
     },
     "execution_count": 21,
     "metadata": {},
     "output_type": "execute_result"
    }
   ],
   "source": [
    "%viz --style=\"LR\" --view=\"Sequence\" \"QualifiedNameImportTest\""
   ]
  },
  {
   "cell_type": "code",
   "execution_count": 22,
   "id": "cb6be20b",
   "metadata": {
    "execution": {
     "iopub.execute_input": "2022-02-18T10:50:02.232296Z",
     "iopub.status.busy": "2022-02-18T10:50:02.231844Z",
     "iopub.status.idle": "2022-02-18T10:50:02.262249Z",
     "shell.execute_reply": "2022-02-18T10:50:02.261809Z"
    }
   },
   "outputs": [
    {
     "data": {
      "image/svg+xml": [
       "<?xml version=\"1.0\" encoding=\"UTF-8\" standalone=\"no\"?><svg xmlns=\"http://www.w3.org/2000/svg\" xmlns:xlink=\"http://www.w3.org/1999/xlink\" contentScriptType=\"application/ecmascript\" contentStyleType=\"text/css\" height=\"271px\" preserveAspectRatio=\"none\" style=\"width:397px;height:271px;\" version=\"1.1\" viewBox=\"0 0 397 271\" width=\"397px\" zoomAndPan=\"magnify\"><defs/><g><!--MD5=[fbc87193dbaf4d95561dea2c320d4a47]\n",
       "cluster E1--><a href=\"psysml:091e42f3-dddd-4d90-8666-606f19fb366e\" target=\"_top\" title=\"psysml:091e42f3-dddd-4d90-8666-606f19fb366e\" xlink:actuate=\"onRequest\" xlink:href=\"psysml:091e42f3-dddd-4d90-8666-606f19fb366e\" xlink:show=\"new\" xlink:title=\"psysml:091e42f3-dddd-4d90-8666-606f19fb366e\" xlink:type=\"simple\"><polygon fill=\"#FFFFFF\" points=\"16,6,196,6,203,28.2969,375,28.2969,375,259,16,259,16,6\" style=\"stroke: #000000; stroke-width: 1.5;\"/><line style=\"stroke: #000000; stroke-width: 1.5;\" x1=\"16\" x2=\"203\" y1=\"28.2969\" y2=\"28.2969\"/><text fill=\"#000000\" font-family=\"sans-serif\" font-size=\"14\" font-weight=\"bold\" lengthAdjust=\"spacingAndGlyphs\" textLength=\"174\" x=\"20\" y=\"20.9951\">QualifiedNameImportTest</text></a><!--MD5=[e4f7fae6ed58524ba242bb0b0d3be6b7]\n",
       "cluster E2--><a href=\"psysml:63fd19d7-856c-4154-ab3f-5f7beb933c6f\" target=\"_top\" title=\"psysml:63fd19d7-856c-4154-ab3f-5f7beb933c6f\" xlink:actuate=\"onRequest\" xlink:href=\"psysml:63fd19d7-856c-4154-ab3f-5f7beb933c6f\" xlink:show=\"new\" xlink:title=\"psysml:63fd19d7-856c-4154-ab3f-5f7beb933c6f\" xlink:type=\"simple\"><polygon fill=\"#FFFFFF\" points=\"225,90,249,90,256,112.2969,343,112.2969,343,222,225,222,225,90\" style=\"stroke: #000000; stroke-width: 1.5;\"/><line style=\"stroke: #000000; stroke-width: 1.5;\" x1=\"225\" x2=\"256\" y1=\"112.2969\" y2=\"112.2969\"/><text fill=\"#000000\" font-family=\"sans-serif\" font-size=\"14\" font-weight=\"bold\" lengthAdjust=\"spacingAndGlyphs\" textLength=\"18\" x=\"229\" y=\"104.9951\">P1</text></a><!--MD5=[f6df4d0ebaf0b5dfb2ced0ae5af7c670]\n",
       "cluster E4--><a href=\"psysml:d8f64ef2-651e-4c07-9e19-09c43a642dc3\" target=\"_top\" title=\"psysml:d8f64ef2-651e-4c07-9e19-09c43a642dc3\" xlink:actuate=\"onRequest\" xlink:href=\"psysml:d8f64ef2-651e-4c07-9e19-09c43a642dc3\" xlink:show=\"new\" xlink:title=\"psysml:d8f64ef2-651e-4c07-9e19-09c43a642dc3\" xlink:type=\"simple\"><polygon fill=\"#FFFFFF\" points=\"40,49,64,49,71,71.2969,118,71.2969,118,235,40,235,40,49\" style=\"stroke: #000000; stroke-width: 1.5;\"/><line style=\"stroke: #000000; stroke-width: 1.5;\" x1=\"40\" x2=\"71\" y1=\"71.2969\" y2=\"71.2969\"/><text fill=\"#000000\" font-family=\"sans-serif\" font-size=\"14\" font-weight=\"bold\" lengthAdjust=\"spacingAndGlyphs\" textLength=\"18\" x=\"44\" y=\"63.9951\">P2</text></a><!--MD5=[09b614a08d8cba4a07c9adeb5e0fee81]\n",
       "class E3--><a href=\"psysml:9081ec29-06f9-459b-bb5e-85f58996f1a9\" target=\"_top\" title=\"psysml:9081ec29-06f9-459b-bb5e-85f58996f1a9\" xlink:actuate=\"onRequest\" xlink:href=\"psysml:9081ec29-06f9-459b-bb5e-85f58996f1a9\" xlink:show=\"new\" xlink:title=\"psysml:9081ec29-06f9-459b-bb5e-85f58996f1a9\" xlink:type=\"simple\"><rect fill=\"#FFFFFF\" height=\"45.9375\" id=\"E3\" style=\"stroke: #383838; stroke-width: 1.5;\" width=\"70\" x=\"249\" y=\"152\"/><text fill=\"#000000\" font-family=\"sans-serif\" font-size=\"12\" font-style=\"italic\" lengthAdjust=\"spacingAndGlyphs\" textLength=\"68\" x=\"250\" y=\"168.1387\">«part  def»</text><text fill=\"#000000\" font-family=\"sans-serif\" font-size=\"12\" lengthAdjust=\"spacingAndGlyphs\" textLength=\"8\" x=\"280\" y=\"182.1074\">A</text><line style=\"stroke: #383838; stroke-width: 1.5;\" x1=\"250\" x2=\"318\" y1=\"189.9375\" y2=\"189.9375\"/></a><!--MD5=[60a26617385b1d2d0262a64233df1f8d]\n",
       "class E6--><a href=\"psysml:b30d741d-b0a5-4dc2-b144-a7e4c27e5c46\" target=\"_top\" title=\"psysml:b30d741d-b0a5-4dc2-b144-a7e4c27e5c46\" xlink:actuate=\"onRequest\" xlink:href=\"psysml:b30d741d-b0a5-4dc2-b144-a7e4c27e5c46\" xlink:show=\"new\" xlink:title=\"psysml:b30d741d-b0a5-4dc2-b144-a7e4c27e5c46\" xlink:type=\"simple\"><rect fill=\"#FFFFFF\" height=\"45.9375\" id=\"E6\" rx=\"10\" ry=\"10\" style=\"stroke: #383838; stroke-width: 1.5;\" width=\"42\" x=\"58\" y=\"173\"/><text fill=\"#000000\" font-family=\"sans-serif\" font-size=\"12\" font-style=\"italic\" lengthAdjust=\"spacingAndGlyphs\" textLength=\"40\" x=\"59\" y=\"189.1387\">«part»</text><text fill=\"#000000\" font-family=\"sans-serif\" font-size=\"12\" lengthAdjust=\"spacingAndGlyphs\" textLength=\"22\" x=\"66\" y=\"203.1074\">x: A</text><line style=\"stroke: #383838; stroke-width: 1.5;\" x1=\"59\" x2=\"99\" y1=\"210.9375\" y2=\"210.9375\"/></a><a href=\"psysml:7edd138a-1c77-4581-b137-3a8c463dac94\" target=\"_top\" title=\"psysml:7edd138a-1c77-4581-b137-3a8c463dac94\" xlink:actuate=\"onRequest\" xlink:href=\"psysml:7edd138a-1c77-4581-b137-3a8c463dac94\" xlink:show=\"new\" xlink:title=\"psysml:7edd138a-1c77-4581-b137-3a8c463dac94\" xlink:type=\"simple\"><polygon fill=\"#FFFFFF\" points=\"56,84.5,88,84.5,95,106.7969,102,106.7969,102,137.0938,56,137.0938,56,84.5\" style=\"stroke: #000000; stroke-width: 1.5;\"/><line style=\"stroke: #000000; stroke-width: 1.5;\" x1=\"56\" x2=\"95\" y1=\"106.7969\" y2=\"106.7969\"/><text fill=\"#000000\" font-family=\"sans-serif\" font-size=\"14\" font-weight=\"bold\" lengthAdjust=\"spacingAndGlyphs\" textLength=\"26\" x=\"60\" y=\"99.4951\">P2a</text></a><!--MD5=[15ebcb19ae302d9b601edb458606d402]\n",
       "link E5 to E2--><a href=\"psysml:b8da89e1-0406-4ebb-8e6e-940fd82b8a4d\" target=\"_top\" title=\"psysml:b8da89e1-0406-4ebb-8e6e-940fd82b8a4d\" xlink:actuate=\"onRequest\" xlink:href=\"psysml:b8da89e1-0406-4ebb-8e6e-940fd82b8a4d\" xlink:show=\"new\" xlink:title=\"psysml:b8da89e1-0406-4ebb-8e6e-940fd82b8a4d\" xlink:type=\"simple\"><path d=\"M102.11,111.65 C128.005,112.415 172.23,113.7225 210.4688,114.8538 C215.2486,114.9952 219.9349,115.1338 224.4802,115.2683 \" fill=\"none\" id=\"E5-&gt;E2\" style=\"stroke: #383838; stroke-width: 1.0; stroke-dasharray: 7.0,7.0;\"/><polygon fill=\"#383838\" points=\"224.4802,115.2683,215.6024,111.0039,219.4824,115.1204,215.3658,119.0004,224.4802,115.2683\" style=\"stroke: #383838; stroke-width: 1.0;\"/><text fill=\"#000000\" font-family=\"sans-serif\" font-size=\"13\" lengthAdjust=\"spacingAndGlyphs\" textLength=\"65\" x=\"135\" y=\"109.0669\">«import»*</text></a><!--MD5=[a717450b82c80b9240a525fa862496af]\n",
       "link E6 to E3--><a href=\"psysml:ce27ea1d-5c56-4308-8b0e-4b6ab5ed7604\" target=\"_top\" title=\"psysml:ce27ea1d-5c56-4308-8b0e-4b6ab5ed7604\" xlink:actuate=\"onRequest\" xlink:href=\"psysml:ce27ea1d-5c56-4308-8b0e-4b6ab5ed7604\" xlink:show=\"new\" xlink:title=\"psysml:ce27ea1d-5c56-4308-8b0e-4b6ab5ed7604\" xlink:type=\"simple\"><path d=\"M100.21,193.91 C129.89,190.84 186.34,185 228.7,180.62 \" fill=\"none\" id=\"E6-&gt;E3\" style=\"stroke: #383838; stroke-width: 1.0;\"/><polygon fill=\"#FFFFFF\" points=\"248.76,178.54,230.5811,187.4579,229.1406,173.5322,248.76,178.54\" style=\"stroke: #383838; stroke-width: 1.0;\"/><ellipse cx=\"224.7056\" cy=\"186.0551\" fill=\"#383838\" rx=\"2\" ry=\"2\" style=\"stroke: #383838; stroke-width: 1.0;\"/><ellipse cx=\"223.6766\" cy=\"176.1082\" fill=\"#383838\" rx=\"2\" ry=\"2\" style=\"stroke: #383838; stroke-width: 1.0;\"/></a><!--MD5=[047c266192a04bd9e29b026588591b8c]\n",
       "@startuml\r\n",
       "left to right direction\r\n",
       "skinparam monochrome true\r\n",
       "skinparam classbackgroundcolor white\r\n",
       "skinparam shadowing false\r\n",
       "skinparam wrapWidth 300\r\n",
       "hide circle\r\n",
       "\r\n",
       "package \"QualifiedNameImportTest\" as E1  [[psysml:091e42f3-dddd-4d90-8666-606f19fb366e ]]  {\r\n",
       "package \"P1\" as E2  [[psysml:63fd19d7-856c-4154-ab3f-5f7beb933c6f ]]  {\r\n",
       "comp def \"A\" as E3  <<(T,blue) part  def>> [[psysml:9081ec29-06f9-459b-bb5e-85f58996f1a9 ]] {\r\n",
       "}\r\n",
       "}\r\n",
       "package \"P2\" as E4  [[psysml:d8f64ef2-651e-4c07-9e19-09c43a642dc3 ]]  {\r\n",
       "package \"P2a\" as E5  [[psysml:7edd138a-1c77-4581-b137-3a8c463dac94 ]]  {\r\n",
       "}\r\n",
       "comp usage \"x: A \" as E6  <<(T,blue) part>> [[psysml:b30d741d-b0a5-4dc2-b144-a7e4c27e5c46 ]] {\r\n",
       "}\r\n",
       "}\r\n",
       "}\r\n",
       "E5 ..> E2 [[psysml:b8da89e1-0406-4ebb-8e6e-940fd82b8a4d ]] : <<import>>*\r\n",
       "E6 - -:|> E3 [[psysml:ce27ea1d-5c56-4308-8b0e-4b6ab5ed7604 ]] \r\n",
       "@enduml\r\n",
       "\n",
       "PlantUML version 1.2020.13(Sat Jun 13 12:26:38 UTC 2020)\n",
       "(EPL source distribution)\n",
       "Java Runtime: OpenJDK Runtime Environment\n",
       "JVM: OpenJDK 64-Bit Server VM\n",
       "Default Encoding: UTF-8\n",
       "Language: en\n",
       "Country: null\n",
       "--></g></svg>"
      ]
     },
     "execution_count": 22,
     "metadata": {},
     "output_type": "execute_result"
    }
   ],
   "source": [
    "%viz --style=\"LR\" --view=\"MIXED\" \"QualifiedNameImportTest\""
   ]
  },
  {
   "cell_type": "code",
   "execution_count": 23,
   "id": "d873cf2f",
   "metadata": {
    "execution": {
     "iopub.execute_input": "2022-02-18T10:50:02.311372Z",
     "iopub.status.busy": "2022-02-18T10:50:02.310971Z",
     "iopub.status.idle": "2022-02-18T10:50:02.340798Z",
     "shell.execute_reply": "2022-02-18T10:50:02.340419Z"
    }
   },
   "outputs": [
    {
     "data": {
      "image/svg+xml": [
       "<?xml version=\"1.0\" encoding=\"UTF-8\" standalone=\"no\"?><svg xmlns=\"http://www.w3.org/2000/svg\" xmlns:xlink=\"http://www.w3.org/1999/xlink\" contentScriptType=\"application/ecmascript\" contentStyleType=\"text/css\" height=\"367px\" preserveAspectRatio=\"none\" style=\"width:243px;height:367px;\" version=\"1.1\" viewBox=\"0 0 243 367\" width=\"243px\" zoomAndPan=\"magnify\"><defs><filter height=\"300%\" id=\"f4rf2f36ivsso\" width=\"300%\" x=\"-1\" y=\"-1\"><feGaussianBlur result=\"blurOut\" stdDeviation=\"2.0\"/><feColorMatrix in=\"blurOut\" result=\"blurOut2\" type=\"matrix\" values=\"0 0 0 0 0 0 0 0 0 0 0 0 0 0 0 0 0 0 .4 0\"/><feOffset dx=\"4.0\" dy=\"4.0\" in=\"blurOut2\" result=\"blurOut3\"/><feBlend in=\"SourceGraphic\" in2=\"blurOut3\" mode=\"normal\"/></filter></defs><g><!--MD5=[fbc87193dbaf4d95561dea2c320d4a47]\n",
       "cluster E1--><a href=\"psysml:091e42f3-dddd-4d90-8666-606f19fb366e\" target=\"_top\" title=\"psysml:091e42f3-dddd-4d90-8666-606f19fb366e\" xlink:actuate=\"onRequest\" xlink:href=\"psysml:091e42f3-dddd-4d90-8666-606f19fb366e\" xlink:show=\"new\" xlink:title=\"psysml:091e42f3-dddd-4d90-8666-606f19fb366e\" xlink:type=\"simple\"><polygon fill=\"#FFFFFF\" filter=\"url(#f4rf2f36ivsso)\" points=\"16,6,196,6,203,28.2969,219,28.2969,219,355,16,355,16,6\" style=\"stroke: #000000; stroke-width: 1.5;\"/><line style=\"stroke: #000000; stroke-width: 1.5;\" x1=\"16\" x2=\"203\" y1=\"28.2969\" y2=\"28.2969\"/><text fill=\"#000000\" font-family=\"sans-serif\" font-size=\"14\" font-weight=\"bold\" lengthAdjust=\"spacingAndGlyphs\" textLength=\"174\" x=\"20\" y=\"20.9951\">QualifiedNameImportTest</text></a><!--MD5=[e4f7fae6ed58524ba242bb0b0d3be6b7]\n",
       "cluster E2--><a href=\"psysml:63fd19d7-856c-4154-ab3f-5f7beb933c6f\" target=\"_top\" title=\"psysml:63fd19d7-856c-4154-ab3f-5f7beb933c6f\" xlink:actuate=\"onRequest\" xlink:href=\"psysml:63fd19d7-856c-4154-ab3f-5f7beb933c6f\" xlink:show=\"new\" xlink:title=\"psysml:63fd19d7-856c-4154-ab3f-5f7beb933c6f\" xlink:type=\"simple\"><polygon fill=\"#FFFFFF\" filter=\"url(#f4rf2f36ivsso)\" points=\"48,210,72,210,79,232.2969,185,232.2969,185,323,48,323,48,210\" style=\"stroke: #000000; stroke-width: 1.5;\"/><line style=\"stroke: #000000; stroke-width: 1.5;\" x1=\"48\" x2=\"79\" y1=\"232.2969\" y2=\"232.2969\"/><text fill=\"#000000\" font-family=\"sans-serif\" font-size=\"14\" font-weight=\"bold\" lengthAdjust=\"spacingAndGlyphs\" textLength=\"18\" x=\"52\" y=\"224.9951\">P1</text></a><!--MD5=[f6df4d0ebaf0b5dfb2ced0ae5af7c670]\n",
       "cluster E4--><a href=\"psysml:d8f64ef2-651e-4c07-9e19-09c43a642dc3\" target=\"_top\" title=\"psysml:d8f64ef2-651e-4c07-9e19-09c43a642dc3\" xlink:actuate=\"onRequest\" xlink:href=\"psysml:d8f64ef2-651e-4c07-9e19-09c43a642dc3\" xlink:show=\"new\" xlink:title=\"psysml:d8f64ef2-651e-4c07-9e19-09c43a642dc3\" xlink:type=\"simple\"><polygon fill=\"#FFFFFF\" filter=\"url(#f4rf2f36ivsso)\" points=\"40,49,64,49,71,71.2969,195,71.2969,195,153,40,153,40,49\" style=\"stroke: #000000; stroke-width: 1.5;\"/><line style=\"stroke: #000000; stroke-width: 1.5;\" x1=\"40\" x2=\"71\" y1=\"71.2969\" y2=\"71.2969\"/><text fill=\"#000000\" font-family=\"sans-serif\" font-size=\"14\" font-weight=\"bold\" lengthAdjust=\"spacingAndGlyphs\" textLength=\"18\" x=\"44\" y=\"63.9951\">P2</text></a><!--MD5=[09b614a08d8cba4a07c9adeb5e0fee81]\n",
       "class E3--><a href=\"psysml:9081ec29-06f9-459b-bb5e-85f58996f1a9\" target=\"_top\" title=\"psysml:9081ec29-06f9-459b-bb5e-85f58996f1a9\" xlink:actuate=\"onRequest\" xlink:href=\"psysml:9081ec29-06f9-459b-bb5e-85f58996f1a9\" xlink:show=\"new\" xlink:title=\"psysml:9081ec29-06f9-459b-bb5e-85f58996f1a9\" xlink:type=\"simple\"><rect fill=\"#FEFECE\" filter=\"url(#f4rf2f36ivsso)\" height=\"45.9375\" id=\"E3\" style=\"stroke: #A80036; stroke-width: 1.5;\" width=\"70\" x=\"72\" y=\"253\"/><text fill=\"#000000\" font-family=\"sans-serif\" font-size=\"12\" font-style=\"italic\" lengthAdjust=\"spacingAndGlyphs\" textLength=\"68\" x=\"73\" y=\"269.1387\">«part  def»</text><text fill=\"#000000\" font-family=\"sans-serif\" font-size=\"12\" lengthAdjust=\"spacingAndGlyphs\" textLength=\"8\" x=\"103\" y=\"283.1074\">A</text><line style=\"stroke: #A80036; stroke-width: 1.5;\" x1=\"73\" x2=\"141\" y1=\"290.9375\" y2=\"290.9375\"/></a><!--MD5=[60a26617385b1d2d0262a64233df1f8d]\n",
       "class E6--><a href=\"psysml:b30d741d-b0a5-4dc2-b144-a7e4c27e5c46\" target=\"_top\" title=\"psysml:b30d741d-b0a5-4dc2-b144-a7e4c27e5c46\" xlink:actuate=\"onRequest\" xlink:href=\"psysml:b30d741d-b0a5-4dc2-b144-a7e4c27e5c46\" xlink:show=\"new\" xlink:title=\"psysml:b30d741d-b0a5-4dc2-b144-a7e4c27e5c46\" xlink:type=\"simple\"><rect fill=\"#FEFECE\" filter=\"url(#f4rf2f36ivsso)\" height=\"45.9375\" id=\"E6\" rx=\"10\" ry=\"10\" style=\"stroke: #A80036; stroke-width: 1.5;\" width=\"42\" x=\"56\" y=\"87.5\"/><text fill=\"#000000\" font-family=\"sans-serif\" font-size=\"12\" font-style=\"italic\" lengthAdjust=\"spacingAndGlyphs\" textLength=\"40\" x=\"57\" y=\"103.6387\">«part»</text><text fill=\"#000000\" font-family=\"sans-serif\" font-size=\"12\" lengthAdjust=\"spacingAndGlyphs\" textLength=\"22\" x=\"64\" y=\"117.6074\">x: A</text><line style=\"stroke: #A80036; stroke-width: 1.5;\" x1=\"57\" x2=\"97\" y1=\"125.4375\" y2=\"125.4375\"/></a><a href=\"psysml:7edd138a-1c77-4581-b137-3a8c463dac94\" target=\"_top\" title=\"psysml:7edd138a-1c77-4581-b137-3a8c463dac94\" xlink:actuate=\"onRequest\" xlink:href=\"psysml:7edd138a-1c77-4581-b137-3a8c463dac94\" xlink:show=\"new\" xlink:title=\"psysml:7edd138a-1c77-4581-b137-3a8c463dac94\" xlink:type=\"simple\"><polygon fill=\"#FFFFFF\" filter=\"url(#f4rf2f36ivsso)\" points=\"133,84,165,84,172,106.2969,179,106.2969,179,136.5938,133,136.5938,133,84\" style=\"stroke: #000000; stroke-width: 1.5;\"/><line style=\"stroke: #000000; stroke-width: 1.5;\" x1=\"133\" x2=\"172\" y1=\"106.2969\" y2=\"106.2969\"/><text fill=\"#000000\" font-family=\"sans-serif\" font-size=\"14\" font-weight=\"bold\" lengthAdjust=\"spacingAndGlyphs\" textLength=\"26\" x=\"137\" y=\"98.9951\">P2a</text></a><!--MD5=[15ebcb19ae302d9b601edb458606d402]\n",
       "link E5 to E2--><a href=\"psysml:b8da89e1-0406-4ebb-8e6e-940fd82b8a4d\" target=\"_top\" title=\"psysml:b8da89e1-0406-4ebb-8e6e-940fd82b8a4d\" xlink:actuate=\"onRequest\" xlink:href=\"psysml:b8da89e1-0406-4ebb-8e6e-940fd82b8a4d\" xlink:show=\"new\" xlink:title=\"psysml:b8da89e1-0406-4ebb-8e6e-940fd82b8a4d\" xlink:type=\"simple\"><path d=\"M159.28,137.05 C160.735,148.365 162.5469,162.4656 164.4519,177.2955 C165.4044,184.7104 166.3802,192.3076 167.3463,199.8301 C167.5878,201.7107 167.8287,203.5867 168.0685,205.4539 C168.1884,206.3876 168.308,207.319 168.4273,208.2478 C168.4869,208.7122 168.5465,209.1759 168.6059,209.6389 \" fill=\"none\" id=\"E5-&gt;E2\" style=\"stroke: #A80036; stroke-width: 1.0; stroke-dasharray: 7.0,7.0;\"/><polygon fill=\"#A80036\" points=\"168.6059,209.6389,171.427,200.2027,167.9691,204.6796,163.4922,201.2217,168.6059,209.6389\" style=\"stroke: #A80036; stroke-width: 1.0;\"/><text fill=\"#000000\" font-family=\"sans-serif\" font-size=\"13\" lengthAdjust=\"spacingAndGlyphs\" textLength=\"65\" x=\"166\" y=\"182.0669\">«import»*</text></a><!--MD5=[a717450b82c80b9240a525fa862496af]\n",
       "link E6 to E3--><a href=\"psysml:ce27ea1d-5c56-4308-8b0e-4b6ab5ed7604\" target=\"_top\" title=\"psysml:ce27ea1d-5c56-4308-8b0e-4b6ab5ed7604\" xlink:actuate=\"onRequest\" xlink:href=\"psysml:ce27ea1d-5c56-4308-8b0e-4b6ab5ed7604\" xlink:show=\"new\" xlink:title=\"psysml:ce27ea1d-5c56-4308-8b0e-4b6ab5ed7604\" xlink:type=\"simple\"><path d=\"M81.05,133.55 C85.7,158.9 93.44,201.1 99.26,232.83 \" fill=\"none\" id=\"E6-&gt;E3\" style=\"stroke: #A80036; stroke-width: 1.0;\"/><polygon fill=\"#FFFFFF\" points=\"102.92,252.78,92.6018,235.3578,106.3713,232.8278,102.92,252.78\" style=\"stroke: #A80036; stroke-width: 1.0;\"/><ellipse cx=\"93.5388\" cy=\"229.3902\" fill=\"#A80036\" rx=\"2\" ry=\"2\" style=\"stroke: #A80036; stroke-width: 1.0;\"/><ellipse cx=\"103.3742\" cy=\"227.5831\" fill=\"#A80036\" rx=\"2\" ry=\"2\" style=\"stroke: #A80036; stroke-width: 1.0;\"/></a><!--MD5=[0b258ad738a2477ba93068800fe9223a]\n",
       "@startuml\r\n",
       "skinparam wrapWidth 300\r\n",
       "hide circle\r\n",
       "\r\n",
       "package \"QualifiedNameImportTest\" as E1  [[psysml:091e42f3-dddd-4d90-8666-606f19fb366e ]]  {\r\n",
       "package \"P1\" as E2  [[psysml:63fd19d7-856c-4154-ab3f-5f7beb933c6f ]]  {\r\n",
       "comp def \"A\" as E3  <<(T,blue) part  def>> [[psysml:9081ec29-06f9-459b-bb5e-85f58996f1a9 ]] {\r\n",
       "}\r\n",
       "}\r\n",
       "package \"P2\" as E4  [[psysml:d8f64ef2-651e-4c07-9e19-09c43a642dc3 ]]  {\r\n",
       "package \"P2a\" as E5  [[psysml:7edd138a-1c77-4581-b137-3a8c463dac94 ]]  {\r\n",
       "}\r\n",
       "comp usage \"x: A \" as E6  <<(T,blue) part>> [[psysml:b30d741d-b0a5-4dc2-b144-a7e4c27e5c46 ]] {\r\n",
       "}\r\n",
       "}\r\n",
       "}\r\n",
       "E5 ..> E2 [[psysml:b8da89e1-0406-4ebb-8e6e-940fd82b8a4d ]] : <<import>>*\r\n",
       "E6 - -:|> E3 [[psysml:ce27ea1d-5c56-4308-8b0e-4b6ab5ed7604 ]] \r\n",
       "@enduml\r\n",
       "\n",
       "PlantUML version 1.2020.13(Sat Jun 13 12:26:38 UTC 2020)\n",
       "(EPL source distribution)\n",
       "Java Runtime: OpenJDK Runtime Environment\n",
       "JVM: OpenJDK 64-Bit Server VM\n",
       "Default Encoding: UTF-8\n",
       "Language: en\n",
       "Country: null\n",
       "--></g></svg>"
      ]
     },
     "execution_count": 23,
     "metadata": {},
     "output_type": "execute_result"
    }
   ],
   "source": [
    "%viz --style=\"STDCOLOR\" --view=\"Default\" \"QualifiedNameImportTest\""
   ]
  },
  {
   "cell_type": "code",
   "execution_count": 24,
   "id": "793db47b",
   "metadata": {
    "execution": {
     "iopub.execute_input": "2022-02-18T10:50:02.390588Z",
     "iopub.status.busy": "2022-02-18T10:50:02.390035Z",
     "iopub.status.idle": "2022-02-18T10:50:02.422642Z",
     "shell.execute_reply": "2022-02-18T10:50:02.422264Z"
    }
   },
   "outputs": [
    {
     "data": {
      "image/svg+xml": [
       "<?xml version=\"1.0\" encoding=\"UTF-8\" standalone=\"no\"?><svg xmlns=\"http://www.w3.org/2000/svg\" xmlns:xlink=\"http://www.w3.org/1999/xlink\" contentScriptType=\"application/ecmascript\" contentStyleType=\"text/css\" height=\"367px\" preserveAspectRatio=\"none\" style=\"width:243px;height:367px;\" version=\"1.1\" viewBox=\"0 0 243 367\" width=\"243px\" zoomAndPan=\"magnify\"><defs><filter height=\"300%\" id=\"f4rf2f36ivsso\" width=\"300%\" x=\"-1\" y=\"-1\"><feGaussianBlur result=\"blurOut\" stdDeviation=\"2.0\"/><feColorMatrix in=\"blurOut\" result=\"blurOut2\" type=\"matrix\" values=\"0 0 0 0 0 0 0 0 0 0 0 0 0 0 0 0 0 0 .4 0\"/><feOffset dx=\"4.0\" dy=\"4.0\" in=\"blurOut2\" result=\"blurOut3\"/><feBlend in=\"SourceGraphic\" in2=\"blurOut3\" mode=\"normal\"/></filter></defs><g><!--MD5=[fbc87193dbaf4d95561dea2c320d4a47]\n",
       "cluster E1--><a href=\"psysml:091e42f3-dddd-4d90-8666-606f19fb366e\" target=\"_top\" title=\"psysml:091e42f3-dddd-4d90-8666-606f19fb366e\" xlink:actuate=\"onRequest\" xlink:href=\"psysml:091e42f3-dddd-4d90-8666-606f19fb366e\" xlink:show=\"new\" xlink:title=\"psysml:091e42f3-dddd-4d90-8666-606f19fb366e\" xlink:type=\"simple\"><polygon fill=\"#FFFFFF\" filter=\"url(#f4rf2f36ivsso)\" points=\"16,6,196,6,203,28.2969,219,28.2969,219,355,16,355,16,6\" style=\"stroke: #000000; stroke-width: 1.5;\"/><line style=\"stroke: #000000; stroke-width: 1.5;\" x1=\"16\" x2=\"203\" y1=\"28.2969\" y2=\"28.2969\"/><text fill=\"#000000\" font-family=\"sans-serif\" font-size=\"14\" font-weight=\"bold\" lengthAdjust=\"spacingAndGlyphs\" textLength=\"174\" x=\"20\" y=\"20.9951\">QualifiedNameImportTest</text></a><!--MD5=[e4f7fae6ed58524ba242bb0b0d3be6b7]\n",
       "cluster E2--><a href=\"psysml:63fd19d7-856c-4154-ab3f-5f7beb933c6f\" target=\"_top\" title=\"psysml:63fd19d7-856c-4154-ab3f-5f7beb933c6f\" xlink:actuate=\"onRequest\" xlink:href=\"psysml:63fd19d7-856c-4154-ab3f-5f7beb933c6f\" xlink:show=\"new\" xlink:title=\"psysml:63fd19d7-856c-4154-ab3f-5f7beb933c6f\" xlink:type=\"simple\"><polygon fill=\"#FFFFFF\" filter=\"url(#f4rf2f36ivsso)\" points=\"48,210,72,210,79,232.2969,185,232.2969,185,323,48,323,48,210\" style=\"stroke: #000000; stroke-width: 1.5;\"/><line style=\"stroke: #000000; stroke-width: 1.5;\" x1=\"48\" x2=\"79\" y1=\"232.2969\" y2=\"232.2969\"/><text fill=\"#000000\" font-family=\"sans-serif\" font-size=\"14\" font-weight=\"bold\" lengthAdjust=\"spacingAndGlyphs\" textLength=\"18\" x=\"52\" y=\"224.9951\">P1</text></a><!--MD5=[f6df4d0ebaf0b5dfb2ced0ae5af7c670]\n",
       "cluster E4--><a href=\"psysml:d8f64ef2-651e-4c07-9e19-09c43a642dc3\" target=\"_top\" title=\"psysml:d8f64ef2-651e-4c07-9e19-09c43a642dc3\" xlink:actuate=\"onRequest\" xlink:href=\"psysml:d8f64ef2-651e-4c07-9e19-09c43a642dc3\" xlink:show=\"new\" xlink:title=\"psysml:d8f64ef2-651e-4c07-9e19-09c43a642dc3\" xlink:type=\"simple\"><polygon fill=\"#FFFFFF\" filter=\"url(#f4rf2f36ivsso)\" points=\"40,49,64,49,71,71.2969,195,71.2969,195,153,40,153,40,49\" style=\"stroke: #000000; stroke-width: 1.5;\"/><line style=\"stroke: #000000; stroke-width: 1.5;\" x1=\"40\" x2=\"71\" y1=\"71.2969\" y2=\"71.2969\"/><text fill=\"#000000\" font-family=\"sans-serif\" font-size=\"14\" font-weight=\"bold\" lengthAdjust=\"spacingAndGlyphs\" textLength=\"18\" x=\"44\" y=\"63.9951\">P2</text></a><!--MD5=[09b614a08d8cba4a07c9adeb5e0fee81]\n",
       "class E3--><a href=\"psysml:9081ec29-06f9-459b-bb5e-85f58996f1a9\" target=\"_top\" title=\"psysml:9081ec29-06f9-459b-bb5e-85f58996f1a9\" xlink:actuate=\"onRequest\" xlink:href=\"psysml:9081ec29-06f9-459b-bb5e-85f58996f1a9\" xlink:show=\"new\" xlink:title=\"psysml:9081ec29-06f9-459b-bb5e-85f58996f1a9\" xlink:type=\"simple\"><rect fill=\"#FEFECE\" filter=\"url(#f4rf2f36ivsso)\" height=\"45.9375\" id=\"E3\" style=\"stroke: #A80036; stroke-width: 1.5;\" width=\"70\" x=\"72\" y=\"253\"/><text fill=\"#000000\" font-family=\"sans-serif\" font-size=\"12\" font-style=\"italic\" lengthAdjust=\"spacingAndGlyphs\" textLength=\"68\" x=\"73\" y=\"269.1387\">«part  def»</text><text fill=\"#000000\" font-family=\"sans-serif\" font-size=\"12\" lengthAdjust=\"spacingAndGlyphs\" textLength=\"8\" x=\"103\" y=\"283.1074\">A</text><line style=\"stroke: #A80036; stroke-width: 1.5;\" x1=\"73\" x2=\"141\" y1=\"290.9375\" y2=\"290.9375\"/></a><!--MD5=[60a26617385b1d2d0262a64233df1f8d]\n",
       "class E6--><a href=\"psysml:b30d741d-b0a5-4dc2-b144-a7e4c27e5c46\" target=\"_top\" title=\"psysml:b30d741d-b0a5-4dc2-b144-a7e4c27e5c46\" xlink:actuate=\"onRequest\" xlink:href=\"psysml:b30d741d-b0a5-4dc2-b144-a7e4c27e5c46\" xlink:show=\"new\" xlink:title=\"psysml:b30d741d-b0a5-4dc2-b144-a7e4c27e5c46\" xlink:type=\"simple\"><rect fill=\"#FEFECE\" filter=\"url(#f4rf2f36ivsso)\" height=\"45.9375\" id=\"E6\" rx=\"10\" ry=\"10\" style=\"stroke: #A80036; stroke-width: 1.5;\" width=\"42\" x=\"56\" y=\"87.5\"/><text fill=\"#000000\" font-family=\"sans-serif\" font-size=\"12\" font-style=\"italic\" lengthAdjust=\"spacingAndGlyphs\" textLength=\"40\" x=\"57\" y=\"103.6387\">«part»</text><text fill=\"#000000\" font-family=\"sans-serif\" font-size=\"12\" lengthAdjust=\"spacingAndGlyphs\" textLength=\"22\" x=\"64\" y=\"117.6074\">x: A</text><line style=\"stroke: #A80036; stroke-width: 1.5;\" x1=\"57\" x2=\"97\" y1=\"125.4375\" y2=\"125.4375\"/></a><a href=\"psysml:7edd138a-1c77-4581-b137-3a8c463dac94\" target=\"_top\" title=\"psysml:7edd138a-1c77-4581-b137-3a8c463dac94\" xlink:actuate=\"onRequest\" xlink:href=\"psysml:7edd138a-1c77-4581-b137-3a8c463dac94\" xlink:show=\"new\" xlink:title=\"psysml:7edd138a-1c77-4581-b137-3a8c463dac94\" xlink:type=\"simple\"><polygon fill=\"#FFFFFF\" filter=\"url(#f4rf2f36ivsso)\" points=\"133,84,165,84,172,106.2969,179,106.2969,179,136.5938,133,136.5938,133,84\" style=\"stroke: #000000; stroke-width: 1.5;\"/><line style=\"stroke: #000000; stroke-width: 1.5;\" x1=\"133\" x2=\"172\" y1=\"106.2969\" y2=\"106.2969\"/><text fill=\"#000000\" font-family=\"sans-serif\" font-size=\"14\" font-weight=\"bold\" lengthAdjust=\"spacingAndGlyphs\" textLength=\"26\" x=\"137\" y=\"98.9951\">P2a</text></a><!--MD5=[15ebcb19ae302d9b601edb458606d402]\n",
       "link E5 to E2--><a href=\"psysml:b8da89e1-0406-4ebb-8e6e-940fd82b8a4d\" target=\"_top\" title=\"psysml:b8da89e1-0406-4ebb-8e6e-940fd82b8a4d\" xlink:actuate=\"onRequest\" xlink:href=\"psysml:b8da89e1-0406-4ebb-8e6e-940fd82b8a4d\" xlink:show=\"new\" xlink:title=\"psysml:b8da89e1-0406-4ebb-8e6e-940fd82b8a4d\" xlink:type=\"simple\"><path d=\"M159.28,137.05 C160.735,148.365 162.5469,162.4656 164.4519,177.2955 C165.4044,184.7104 166.3802,192.3076 167.3463,199.8301 C167.5878,201.7107 167.8287,203.5867 168.0685,205.4539 C168.1884,206.3876 168.308,207.319 168.4273,208.2478 C168.4869,208.7122 168.5465,209.1759 168.6059,209.6389 \" fill=\"none\" id=\"E5-&gt;E2\" style=\"stroke: #A80036; stroke-width: 1.0; stroke-dasharray: 7.0,7.0;\"/><polygon fill=\"#A80036\" points=\"168.6059,209.6389,171.427,200.2027,167.9691,204.6796,163.4922,201.2217,168.6059,209.6389\" style=\"stroke: #A80036; stroke-width: 1.0;\"/><text fill=\"#000000\" font-family=\"sans-serif\" font-size=\"13\" lengthAdjust=\"spacingAndGlyphs\" textLength=\"65\" x=\"166\" y=\"182.0669\">«import»*</text></a><!--MD5=[a717450b82c80b9240a525fa862496af]\n",
       "link E6 to E3--><a href=\"psysml:ce27ea1d-5c56-4308-8b0e-4b6ab5ed7604\" target=\"_top\" title=\"psysml:ce27ea1d-5c56-4308-8b0e-4b6ab5ed7604\" xlink:actuate=\"onRequest\" xlink:href=\"psysml:ce27ea1d-5c56-4308-8b0e-4b6ab5ed7604\" xlink:show=\"new\" xlink:title=\"psysml:ce27ea1d-5c56-4308-8b0e-4b6ab5ed7604\" xlink:type=\"simple\"><path d=\"M81.05,133.55 C85.7,158.9 93.44,201.1 99.26,232.83 \" fill=\"none\" id=\"E6-&gt;E3\" style=\"stroke: #A80036; stroke-width: 1.0;\"/><polygon fill=\"#FFFFFF\" points=\"102.92,252.78,92.6018,235.3578,106.3713,232.8278,102.92,252.78\" style=\"stroke: #A80036; stroke-width: 1.0;\"/><ellipse cx=\"93.5388\" cy=\"229.3902\" fill=\"#A80036\" rx=\"2\" ry=\"2\" style=\"stroke: #A80036; stroke-width: 1.0;\"/><ellipse cx=\"103.3742\" cy=\"227.5831\" fill=\"#A80036\" rx=\"2\" ry=\"2\" style=\"stroke: #A80036; stroke-width: 1.0;\"/></a><!--MD5=[0b258ad738a2477ba93068800fe9223a]\n",
       "@startuml\r\n",
       "skinparam wrapWidth 300\r\n",
       "hide circle\r\n",
       "\r\n",
       "package \"QualifiedNameImportTest\" as E1  [[psysml:091e42f3-dddd-4d90-8666-606f19fb366e ]]  {\r\n",
       "package \"P1\" as E2  [[psysml:63fd19d7-856c-4154-ab3f-5f7beb933c6f ]]  {\r\n",
       "comp def \"A\" as E3  <<(T,blue) part  def>> [[psysml:9081ec29-06f9-459b-bb5e-85f58996f1a9 ]] {\r\n",
       "}\r\n",
       "}\r\n",
       "package \"P2\" as E4  [[psysml:d8f64ef2-651e-4c07-9e19-09c43a642dc3 ]]  {\r\n",
       "package \"P2a\" as E5  [[psysml:7edd138a-1c77-4581-b137-3a8c463dac94 ]]  {\r\n",
       "}\r\n",
       "comp usage \"x: A \" as E6  <<(T,blue) part>> [[psysml:b30d741d-b0a5-4dc2-b144-a7e4c27e5c46 ]] {\r\n",
       "}\r\n",
       "}\r\n",
       "}\r\n",
       "E5 ..> E2 [[psysml:b8da89e1-0406-4ebb-8e6e-940fd82b8a4d ]] : <<import>>*\r\n",
       "E6 - -:|> E3 [[psysml:ce27ea1d-5c56-4308-8b0e-4b6ab5ed7604 ]] \r\n",
       "@enduml\r\n",
       "\n",
       "PlantUML version 1.2020.13(Sat Jun 13 12:26:38 UTC 2020)\n",
       "(EPL source distribution)\n",
       "Java Runtime: OpenJDK Runtime Environment\n",
       "JVM: OpenJDK 64-Bit Server VM\n",
       "Default Encoding: UTF-8\n",
       "Language: en\n",
       "Country: null\n",
       "--></g></svg>"
      ]
     },
     "execution_count": 24,
     "metadata": {},
     "output_type": "execute_result"
    }
   ],
   "source": [
    "%viz --style=\"STDCOLOR\" --view=\"Tree\" \"QualifiedNameImportTest\""
   ]
  },
  {
   "cell_type": "code",
   "execution_count": 25,
   "id": "9ecaba78",
   "metadata": {
    "execution": {
     "iopub.execute_input": "2022-02-18T10:50:02.471589Z",
     "iopub.status.busy": "2022-02-18T10:50:02.471326Z",
     "iopub.status.idle": "2022-02-18T10:50:02.477234Z",
     "shell.execute_reply": "2022-02-18T10:50:02.476724Z"
    }
   },
   "outputs": [
    {
     "data": {
      "image/svg+xml": [
       "<?xml version=\"1.0\" encoding=\"UTF-8\" standalone=\"no\"?><svg xmlns=\"http://www.w3.org/2000/svg\" xmlns:xlink=\"http://www.w3.org/1999/xlink\" contentScriptType=\"application/ecmascript\" contentStyleType=\"text/css\" height=\"12px\" preserveAspectRatio=\"none\" style=\"width:12px;height:12px;\" version=\"1.1\" viewBox=\"0 0 12 12\" width=\"12px\" zoomAndPan=\"magnify\"><defs/><g><!--MD5=[aeeef50f102b80d730deb6443d14f702]\n",
       "@startuml\r\n",
       "skinparam wrapWidth 300\r\n",
       "hide circle\r\n",
       "\r\n",
       "@enduml\r\n",
       "\n",
       "PlantUML version 1.2020.13(Sat Jun 13 12:26:38 UTC 2020)\n",
       "(EPL source distribution)\n",
       "Java Runtime: OpenJDK Runtime Environment\n",
       "JVM: OpenJDK 64-Bit Server VM\n",
       "Default Encoding: UTF-8\n",
       "Language: en\n",
       "Country: null\n",
       "--></g></svg>"
      ]
     },
     "execution_count": 25,
     "metadata": {},
     "output_type": "execute_result"
    }
   ],
   "source": [
    "%viz --style=\"STDCOLOR\" --view=\"State\" \"QualifiedNameImportTest\""
   ]
  },
  {
   "cell_type": "code",
   "execution_count": 26,
   "id": "fa848107",
   "metadata": {
    "execution": {
     "iopub.execute_input": "2022-02-18T10:50:02.526363Z",
     "iopub.status.busy": "2022-02-18T10:50:02.526092Z",
     "iopub.status.idle": "2022-02-18T10:50:02.557354Z",
     "shell.execute_reply": "2022-02-18T10:50:02.556935Z"
    }
   },
   "outputs": [
    {
     "data": {
      "image/svg+xml": [
       "<?xml version=\"1.0\" encoding=\"UTF-8\" standalone=\"no\"?><svg xmlns=\"http://www.w3.org/2000/svg\" xmlns:xlink=\"http://www.w3.org/1999/xlink\" contentScriptType=\"application/ecmascript\" contentStyleType=\"text/css\" height=\"364px\" preserveAspectRatio=\"none\" style=\"width:249px;height:364px;\" version=\"1.1\" viewBox=\"0 0 249 364\" width=\"249px\" zoomAndPan=\"magnify\"><defs><filter height=\"300%\" id=\"fxoe2lp1vv2s\" width=\"300%\" x=\"-1\" y=\"-1\"><feGaussianBlur result=\"blurOut\" stdDeviation=\"2.0\"/><feColorMatrix in=\"blurOut\" result=\"blurOut2\" type=\"matrix\" values=\"0 0 0 0 0 0 0 0 0 0 0 0 0 0 0 0 0 0 .4 0\"/><feOffset dx=\"4.0\" dy=\"4.0\" in=\"blurOut2\" result=\"blurOut3\"/><feBlend in=\"SourceGraphic\" in2=\"blurOut3\" mode=\"normal\"/></filter></defs><g><!--MD5=[fbc87193dbaf4d95561dea2c320d4a47]\n",
       "cluster E1--><a href=\"psysml:091e42f3-dddd-4d90-8666-606f19fb366e\" target=\"_top\" title=\"psysml:091e42f3-dddd-4d90-8666-606f19fb366e\" xlink:actuate=\"onRequest\" xlink:href=\"psysml:091e42f3-dddd-4d90-8666-606f19fb366e\" xlink:show=\"new\" xlink:title=\"psysml:091e42f3-dddd-4d90-8666-606f19fb366e\" xlink:type=\"simple\"><polygon fill=\"#FFFFFF\" filter=\"url(#fxoe2lp1vv2s)\" points=\"16,6,196,6,203,28.2969,227,28.2969,227,352,16,352,16,6\" style=\"stroke: #000000; stroke-width: 1.5;\"/><line style=\"stroke: #000000; stroke-width: 1.5;\" x1=\"16\" x2=\"203\" y1=\"28.2969\" y2=\"28.2969\"/><text fill=\"#000000\" font-family=\"sans-serif\" font-size=\"14\" font-weight=\"bold\" lengthAdjust=\"spacingAndGlyphs\" textLength=\"174\" x=\"20\" y=\"20.9951\">QualifiedNameImportTest</text></a><!--MD5=[e4f7fae6ed58524ba242bb0b0d3be6b7]\n",
       "cluster E2--><a href=\"psysml:63fd19d7-856c-4154-ab3f-5f7beb933c6f\" target=\"_top\" title=\"psysml:63fd19d7-856c-4154-ab3f-5f7beb933c6f\" xlink:actuate=\"onRequest\" xlink:href=\"psysml:63fd19d7-856c-4154-ab3f-5f7beb933c6f\" xlink:show=\"new\" xlink:title=\"psysml:63fd19d7-856c-4154-ab3f-5f7beb933c6f\" xlink:type=\"simple\"><polygon fill=\"#FFFFFF\" filter=\"url(#fxoe2lp1vv2s)\" points=\"53,210,77,210,84,232.2969,195,232.2969,195,320,53,320,53,210\" style=\"stroke: #000000; stroke-width: 1.5;\"/><line style=\"stroke: #000000; stroke-width: 1.5;\" x1=\"53\" x2=\"84\" y1=\"232.2969\" y2=\"232.2969\"/><text fill=\"#000000\" font-family=\"sans-serif\" font-size=\"14\" font-weight=\"bold\" lengthAdjust=\"spacingAndGlyphs\" textLength=\"18\" x=\"57\" y=\"224.9951\">P1</text></a><!--MD5=[f6df4d0ebaf0b5dfb2ced0ae5af7c670]\n",
       "cluster E4--><a href=\"psysml:d8f64ef2-651e-4c07-9e19-09c43a642dc3\" target=\"_top\" title=\"psysml:d8f64ef2-651e-4c07-9e19-09c43a642dc3\" xlink:actuate=\"onRequest\" xlink:href=\"psysml:d8f64ef2-651e-4c07-9e19-09c43a642dc3\" xlink:show=\"new\" xlink:title=\"psysml:d8f64ef2-651e-4c07-9e19-09c43a642dc3\" xlink:type=\"simple\"><polygon fill=\"#FFFFFF\" filter=\"url(#fxoe2lp1vv2s)\" points=\"40,49,64,49,71,71.2969,203,71.2969,203,153,40,153,40,49\" style=\"stroke: #000000; stroke-width: 1.5;\"/><line style=\"stroke: #000000; stroke-width: 1.5;\" x1=\"40\" x2=\"71\" y1=\"71.2969\" y2=\"71.2969\"/><text fill=\"#000000\" font-family=\"sans-serif\" font-size=\"14\" font-weight=\"bold\" lengthAdjust=\"spacingAndGlyphs\" textLength=\"18\" x=\"44\" y=\"63.9951\">P2</text></a><g id=\"E1.E2.E3\"><a href=\"psysml:9081ec29-06f9-459b-bb5e-85f58996f1a9\" target=\"_top\" title=\"psysml:9081ec29-06f9-459b-bb5e-85f58996f1a9\" xlink:actuate=\"onRequest\" xlink:href=\"psysml:9081ec29-06f9-459b-bb5e-85f58996f1a9\" xlink:show=\"new\" xlink:title=\"psysml:9081ec29-06f9-459b-bb5e-85f58996f1a9\" xlink:type=\"simple\"><rect fill=\"#FEFECE\" filter=\"url(#fxoe2lp1vv2s)\" height=\"42.9375\" id=\"E3\" style=\"stroke: #A80036; stroke-width: 1.5;\" width=\"75\" x=\"96.5\" y=\"253\"/><text fill=\"#000000\" font-family=\"sans-serif\" font-size=\"12\" font-style=\"italic\" lengthAdjust=\"spacingAndGlyphs\" textLength=\"68\" x=\"100\" y=\"269.1387\">«part  def»</text><text fill=\"#000000\" font-family=\"sans-serif\" font-size=\"12\" lengthAdjust=\"spacingAndGlyphs\" textLength=\"8\" x=\"130\" y=\"283.1074\">A</text></a></g><a href=\"psysml:7edd138a-1c77-4581-b137-3a8c463dac94\" target=\"_top\" title=\"psysml:7edd138a-1c77-4581-b137-3a8c463dac94\" xlink:actuate=\"onRequest\" xlink:href=\"psysml:7edd138a-1c77-4581-b137-3a8c463dac94\" xlink:show=\"new\" xlink:title=\"psysml:7edd138a-1c77-4581-b137-3a8c463dac94\" xlink:type=\"simple\"><polygon fill=\"#FFFFFF\" filter=\"url(#fxoe2lp1vv2s)\" points=\"141,84,173,84,180,106.2969,187,106.2969,187,136.5938,141,136.5938,141,84\" style=\"stroke: #000000; stroke-width: 1.5;\"/><line style=\"stroke: #000000; stroke-width: 1.5;\" x1=\"141\" x2=\"180\" y1=\"106.2969\" y2=\"106.2969\"/><text fill=\"#000000\" font-family=\"sans-serif\" font-size=\"14\" font-weight=\"bold\" lengthAdjust=\"spacingAndGlyphs\" textLength=\"26\" x=\"145\" y=\"98.9951\">P2a</text></a><g id=\"E1.E4.E6\"><a href=\"psysml:b30d741d-b0a5-4dc2-b144-a7e4c27e5c46\" target=\"_top\" title=\"psysml:b30d741d-b0a5-4dc2-b144-a7e4c27e5c46\" xlink:actuate=\"onRequest\" xlink:href=\"psysml:b30d741d-b0a5-4dc2-b144-a7e4c27e5c46\" xlink:show=\"new\" xlink:title=\"psysml:b30d741d-b0a5-4dc2-b144-a7e4c27e5c46\" xlink:type=\"simple\"><rect fill=\"#FEFECE\" filter=\"url(#fxoe2lp1vv2s)\" height=\"40\" id=\"E6\" rx=\"10\" ry=\"10\" style=\"stroke: #A80036; stroke-width: 1.5;\" width=\"50\" x=\"56\" y=\"90.5\"/><text fill=\"#000000\" font-family=\"sans-serif\" font-size=\"12\" lengthAdjust=\"spacingAndGlyphs\" textLength=\"22\" x=\"70\" y=\"106.6387\">x: A</text></a></g><!--MD5=[15ebcb19ae302d9b601edb458606d402]\n",
       "link E5 to E2--><a href=\"psysml:b8da89e1-0406-4ebb-8e6e-940fd82b8a4d\" target=\"_top\" title=\"psysml:b8da89e1-0406-4ebb-8e6e-940fd82b8a4d\" xlink:actuate=\"onRequest\" xlink:href=\"psysml:b8da89e1-0406-4ebb-8e6e-940fd82b8a4d\" xlink:show=\"new\" xlink:title=\"psysml:b8da89e1-0406-4ebb-8e6e-940fd82b8a4d\" xlink:type=\"simple\"><path d=\"M145.15,137.17 C138.8,145.15 131.44,153.75 124,161 C106.75,177.82 94.23,173.87 81,194 C78.5775,197.6875 76.4484,201.6477 74.5773,205.7604 C74.1095,206.7885 73.6578,207.8263 73.2217,208.8716 C73.1127,209.133 73.0046,209.3948 72.8975,209.6571 \" fill=\"none\" id=\"E5-&gt;E2\" style=\"stroke: #A80036; stroke-width: 1.0; stroke-dasharray: 7.0,7.0;\"/><polygon fill=\"#A80036\" points=\"72.8975,209.6571,80.0029,202.837,74.7876,205.0281,72.5965,199.8128,72.8975,209.6571\" style=\"stroke: #A80036; stroke-width: 1.0;\"/><text fill=\"#000000\" font-family=\"sans-serif\" font-size=\"13\" lengthAdjust=\"spacingAndGlyphs\" textLength=\"65\" x=\"114\" y=\"182.0669\">«import»*</text></a><!--MD5=[90a96a46e00dcd96907ff5039ff7b04f]\n",
       "@startuml\r\n",
       "skinparam ranksep 10\r\n",
       "skinparam rectangle {\r\n",
       " backgroundColor<<block>> LightGreen\r\n",
       "}\r\n",
       "skinparam wrapWidth 300\r\n",
       "hide circle\r\n",
       "\r\n",
       "package \"QualifiedNameImportTest\" as E1  [[psysml:091e42f3-dddd-4d90-8666-606f19fb366e ]]  {\r\n",
       "package \"P1\" as E2  [[psysml:63fd19d7-856c-4154-ab3f-5f7beb933c6f ]]  {\r\n",
       "rec def \"A\" as E3  <<(T,blue) part  def>> [[psysml:9081ec29-06f9-459b-bb5e-85f58996f1a9 ]] {\r\n",
       "}\r\n",
       "}\r\n",
       "package \"P2\" as E4  [[psysml:d8f64ef2-651e-4c07-9e19-09c43a642dc3 ]]  {\r\n",
       "package \"P2a\" as E5  [[psysml:7edd138a-1c77-4581-b137-3a8c463dac94 ]]  {\r\n",
       "}\r\n",
       "rec usage \"x: A\" as E6  [[psysml:b30d741d-b0a5-4dc2-b144-a7e4c27e5c46 ]] {\r\n",
       "}\r\n",
       "}\r\n",
       "}\r\n",
       "E5 ..> E2 [[psysml:b8da89e1-0406-4ebb-8e6e-940fd82b8a4d ]] : <<import>>*\r\n",
       "@enduml\r\n",
       "\n",
       "PlantUML version 1.2020.13(Sat Jun 13 12:26:38 UTC 2020)\n",
       "(EPL source distribution)\n",
       "Java Runtime: OpenJDK Runtime Environment\n",
       "JVM: OpenJDK 64-Bit Server VM\n",
       "Default Encoding: UTF-8\n",
       "Language: en\n",
       "Country: null\n",
       "--></g></svg>"
      ]
     },
     "execution_count": 26,
     "metadata": {},
     "output_type": "execute_result"
    }
   ],
   "source": [
    "%viz --style=\"STDCOLOR\" --view=\"Interconnection\" \"QualifiedNameImportTest\""
   ]
  },
  {
   "cell_type": "code",
   "execution_count": 27,
   "id": "cc4b1364",
   "metadata": {
    "execution": {
     "iopub.execute_input": "2022-02-18T10:50:02.607011Z",
     "iopub.status.busy": "2022-02-18T10:50:02.606687Z",
     "iopub.status.idle": "2022-02-18T10:50:02.611138Z",
     "shell.execute_reply": "2022-02-18T10:50:02.610872Z"
    }
   },
   "outputs": [
    {
     "data": {
      "image/svg+xml": [
       "<?xml version=\"1.0\" encoding=\"UTF-8\" standalone=\"no\"?><svg xmlns=\"http://www.w3.org/2000/svg\" xmlns:xlink=\"http://www.w3.org/1999/xlink\" contentScriptType=\"application/ecmascript\" contentStyleType=\"text/css\" height=\"12px\" preserveAspectRatio=\"none\" style=\"width:12px;height:12px;\" version=\"1.1\" viewBox=\"0 0 12 12\" width=\"12px\" zoomAndPan=\"magnify\"><defs/><g><!--MD5=[9863325348a96a77dacc89509d8ee65e]\n",
       "@startuml\r\n",
       "skinparam ranksep 8\r\n",
       "skinparam wrapWidth 300\r\n",
       "hide circle\r\n",
       "\r\n",
       "@enduml\r\n",
       "\n",
       "PlantUML version 1.2020.13(Sat Jun 13 12:26:38 UTC 2020)\n",
       "(EPL source distribution)\n",
       "Java Runtime: OpenJDK Runtime Environment\n",
       "JVM: OpenJDK 64-Bit Server VM\n",
       "Default Encoding: UTF-8\n",
       "Language: en\n",
       "Country: null\n",
       "--></g></svg>"
      ]
     },
     "execution_count": 27,
     "metadata": {},
     "output_type": "execute_result"
    }
   ],
   "source": [
    "%viz --style=\"STDCOLOR\" --view=\"Action\" \"QualifiedNameImportTest\""
   ]
  },
  {
   "cell_type": "code",
   "execution_count": 28,
   "id": "08cf027b",
   "metadata": {
    "execution": {
     "iopub.execute_input": "2022-02-18T10:50:02.661244Z",
     "iopub.status.busy": "2022-02-18T10:50:02.660983Z",
     "iopub.status.idle": "2022-02-18T10:50:02.666247Z",
     "shell.execute_reply": "2022-02-18T10:50:02.666445Z"
    }
   },
   "outputs": [
    {
     "data": {
      "image/svg+xml": [
       "<?xml version=\"1.0\" encoding=\"UTF-8\" standalone=\"no\"?><svg xmlns=\"http://www.w3.org/2000/svg\" xmlns:xlink=\"http://www.w3.org/1999/xlink\" contentScriptType=\"application/ecmascript\" contentStyleType=\"text/css\" height=\"12px\" preserveAspectRatio=\"none\" style=\"width:12px;height:12px;\" version=\"1.1\" viewBox=\"0 0 12 12\" width=\"12px\" zoomAndPan=\"magnify\"><defs/><g><!--MD5=[6c4bca67b4d71758159a5a7f1f1e1fc2]\n",
       "@startuml\r\n",
       "skinparam roundcorner 20\r\n",
       "skinparam BoxPadding 20\r\n",
       "skinparam SequenceBoxBackgroundColor #white\r\n",
       "skinparam style strictuml\r\n",
       "skinparam maxMessageSize 100\r\n",
       "skinparam wrapWidth 300\r\n",
       "hide circle\r\n",
       "\r\n",
       "@enduml\r\n",
       "\n",
       "PlantUML version 1.2020.13(Sat Jun 13 12:26:38 UTC 2020)\n",
       "(EPL source distribution)\n",
       "Java Runtime: OpenJDK Runtime Environment\n",
       "JVM: OpenJDK 64-Bit Server VM\n",
       "Default Encoding: UTF-8\n",
       "Language: en\n",
       "Country: null\n",
       "--></g></svg>"
      ]
     },
     "execution_count": 28,
     "metadata": {},
     "output_type": "execute_result"
    }
   ],
   "source": [
    "%viz --style=\"STDCOLOR\" --view=\"Sequence\" \"QualifiedNameImportTest\""
   ]
  },
  {
   "cell_type": "code",
   "execution_count": 29,
   "id": "553f9c22",
   "metadata": {
    "execution": {
     "iopub.execute_input": "2022-02-18T10:50:02.716513Z",
     "iopub.status.busy": "2022-02-18T10:50:02.716264Z",
     "iopub.status.idle": "2022-02-18T10:50:02.748229Z",
     "shell.execute_reply": "2022-02-18T10:50:02.748034Z"
    }
   },
   "outputs": [
    {
     "data": {
      "image/svg+xml": [
       "<?xml version=\"1.0\" encoding=\"UTF-8\" standalone=\"no\"?><svg xmlns=\"http://www.w3.org/2000/svg\" xmlns:xlink=\"http://www.w3.org/1999/xlink\" contentScriptType=\"application/ecmascript\" contentStyleType=\"text/css\" height=\"367px\" preserveAspectRatio=\"none\" style=\"width:243px;height:367px;\" version=\"1.1\" viewBox=\"0 0 243 367\" width=\"243px\" zoomAndPan=\"magnify\"><defs><filter height=\"300%\" id=\"f4rf2f36ivsso\" width=\"300%\" x=\"-1\" y=\"-1\"><feGaussianBlur result=\"blurOut\" stdDeviation=\"2.0\"/><feColorMatrix in=\"blurOut\" result=\"blurOut2\" type=\"matrix\" values=\"0 0 0 0 0 0 0 0 0 0 0 0 0 0 0 0 0 0 .4 0\"/><feOffset dx=\"4.0\" dy=\"4.0\" in=\"blurOut2\" result=\"blurOut3\"/><feBlend in=\"SourceGraphic\" in2=\"blurOut3\" mode=\"normal\"/></filter></defs><g><!--MD5=[fbc87193dbaf4d95561dea2c320d4a47]\n",
       "cluster E1--><a href=\"psysml:091e42f3-dddd-4d90-8666-606f19fb366e\" target=\"_top\" title=\"psysml:091e42f3-dddd-4d90-8666-606f19fb366e\" xlink:actuate=\"onRequest\" xlink:href=\"psysml:091e42f3-dddd-4d90-8666-606f19fb366e\" xlink:show=\"new\" xlink:title=\"psysml:091e42f3-dddd-4d90-8666-606f19fb366e\" xlink:type=\"simple\"><polygon fill=\"#FFFFFF\" filter=\"url(#f4rf2f36ivsso)\" points=\"16,6,196,6,203,28.2969,219,28.2969,219,355,16,355,16,6\" style=\"stroke: #000000; stroke-width: 1.5;\"/><line style=\"stroke: #000000; stroke-width: 1.5;\" x1=\"16\" x2=\"203\" y1=\"28.2969\" y2=\"28.2969\"/><text fill=\"#000000\" font-family=\"sans-serif\" font-size=\"14\" font-weight=\"bold\" lengthAdjust=\"spacingAndGlyphs\" textLength=\"174\" x=\"20\" y=\"20.9951\">QualifiedNameImportTest</text></a><!--MD5=[e4f7fae6ed58524ba242bb0b0d3be6b7]\n",
       "cluster E2--><a href=\"psysml:63fd19d7-856c-4154-ab3f-5f7beb933c6f\" target=\"_top\" title=\"psysml:63fd19d7-856c-4154-ab3f-5f7beb933c6f\" xlink:actuate=\"onRequest\" xlink:href=\"psysml:63fd19d7-856c-4154-ab3f-5f7beb933c6f\" xlink:show=\"new\" xlink:title=\"psysml:63fd19d7-856c-4154-ab3f-5f7beb933c6f\" xlink:type=\"simple\"><polygon fill=\"#FFFFFF\" filter=\"url(#f4rf2f36ivsso)\" points=\"48,210,72,210,79,232.2969,185,232.2969,185,323,48,323,48,210\" style=\"stroke: #000000; stroke-width: 1.5;\"/><line style=\"stroke: #000000; stroke-width: 1.5;\" x1=\"48\" x2=\"79\" y1=\"232.2969\" y2=\"232.2969\"/><text fill=\"#000000\" font-family=\"sans-serif\" font-size=\"14\" font-weight=\"bold\" lengthAdjust=\"spacingAndGlyphs\" textLength=\"18\" x=\"52\" y=\"224.9951\">P1</text></a><!--MD5=[f6df4d0ebaf0b5dfb2ced0ae5af7c670]\n",
       "cluster E4--><a href=\"psysml:d8f64ef2-651e-4c07-9e19-09c43a642dc3\" target=\"_top\" title=\"psysml:d8f64ef2-651e-4c07-9e19-09c43a642dc3\" xlink:actuate=\"onRequest\" xlink:href=\"psysml:d8f64ef2-651e-4c07-9e19-09c43a642dc3\" xlink:show=\"new\" xlink:title=\"psysml:d8f64ef2-651e-4c07-9e19-09c43a642dc3\" xlink:type=\"simple\"><polygon fill=\"#FFFFFF\" filter=\"url(#f4rf2f36ivsso)\" points=\"40,49,64,49,71,71.2969,195,71.2969,195,153,40,153,40,49\" style=\"stroke: #000000; stroke-width: 1.5;\"/><line style=\"stroke: #000000; stroke-width: 1.5;\" x1=\"40\" x2=\"71\" y1=\"71.2969\" y2=\"71.2969\"/><text fill=\"#000000\" font-family=\"sans-serif\" font-size=\"14\" font-weight=\"bold\" lengthAdjust=\"spacingAndGlyphs\" textLength=\"18\" x=\"44\" y=\"63.9951\">P2</text></a><!--MD5=[09b614a08d8cba4a07c9adeb5e0fee81]\n",
       "class E3--><a href=\"psysml:9081ec29-06f9-459b-bb5e-85f58996f1a9\" target=\"_top\" title=\"psysml:9081ec29-06f9-459b-bb5e-85f58996f1a9\" xlink:actuate=\"onRequest\" xlink:href=\"psysml:9081ec29-06f9-459b-bb5e-85f58996f1a9\" xlink:show=\"new\" xlink:title=\"psysml:9081ec29-06f9-459b-bb5e-85f58996f1a9\" xlink:type=\"simple\"><rect fill=\"#FEFECE\" filter=\"url(#f4rf2f36ivsso)\" height=\"45.9375\" id=\"E3\" style=\"stroke: #A80036; stroke-width: 1.5;\" width=\"70\" x=\"72\" y=\"253\"/><text fill=\"#000000\" font-family=\"sans-serif\" font-size=\"12\" font-style=\"italic\" lengthAdjust=\"spacingAndGlyphs\" textLength=\"68\" x=\"73\" y=\"269.1387\">«part  def»</text><text fill=\"#000000\" font-family=\"sans-serif\" font-size=\"12\" lengthAdjust=\"spacingAndGlyphs\" textLength=\"8\" x=\"103\" y=\"283.1074\">A</text><line style=\"stroke: #A80036; stroke-width: 1.5;\" x1=\"73\" x2=\"141\" y1=\"290.9375\" y2=\"290.9375\"/></a><!--MD5=[60a26617385b1d2d0262a64233df1f8d]\n",
       "class E6--><a href=\"psysml:b30d741d-b0a5-4dc2-b144-a7e4c27e5c46\" target=\"_top\" title=\"psysml:b30d741d-b0a5-4dc2-b144-a7e4c27e5c46\" xlink:actuate=\"onRequest\" xlink:href=\"psysml:b30d741d-b0a5-4dc2-b144-a7e4c27e5c46\" xlink:show=\"new\" xlink:title=\"psysml:b30d741d-b0a5-4dc2-b144-a7e4c27e5c46\" xlink:type=\"simple\"><rect fill=\"#FEFECE\" filter=\"url(#f4rf2f36ivsso)\" height=\"45.9375\" id=\"E6\" rx=\"10\" ry=\"10\" style=\"stroke: #A80036; stroke-width: 1.5;\" width=\"42\" x=\"56\" y=\"87.5\"/><text fill=\"#000000\" font-family=\"sans-serif\" font-size=\"12\" font-style=\"italic\" lengthAdjust=\"spacingAndGlyphs\" textLength=\"40\" x=\"57\" y=\"103.6387\">«part»</text><text fill=\"#000000\" font-family=\"sans-serif\" font-size=\"12\" lengthAdjust=\"spacingAndGlyphs\" textLength=\"22\" x=\"64\" y=\"117.6074\">x: A</text><line style=\"stroke: #A80036; stroke-width: 1.5;\" x1=\"57\" x2=\"97\" y1=\"125.4375\" y2=\"125.4375\"/></a><a href=\"psysml:7edd138a-1c77-4581-b137-3a8c463dac94\" target=\"_top\" title=\"psysml:7edd138a-1c77-4581-b137-3a8c463dac94\" xlink:actuate=\"onRequest\" xlink:href=\"psysml:7edd138a-1c77-4581-b137-3a8c463dac94\" xlink:show=\"new\" xlink:title=\"psysml:7edd138a-1c77-4581-b137-3a8c463dac94\" xlink:type=\"simple\"><polygon fill=\"#FFFFFF\" filter=\"url(#f4rf2f36ivsso)\" points=\"133,84,165,84,172,106.2969,179,106.2969,179,136.5938,133,136.5938,133,84\" style=\"stroke: #000000; stroke-width: 1.5;\"/><line style=\"stroke: #000000; stroke-width: 1.5;\" x1=\"133\" x2=\"172\" y1=\"106.2969\" y2=\"106.2969\"/><text fill=\"#000000\" font-family=\"sans-serif\" font-size=\"14\" font-weight=\"bold\" lengthAdjust=\"spacingAndGlyphs\" textLength=\"26\" x=\"137\" y=\"98.9951\">P2a</text></a><!--MD5=[15ebcb19ae302d9b601edb458606d402]\n",
       "link E5 to E2--><a href=\"psysml:b8da89e1-0406-4ebb-8e6e-940fd82b8a4d\" target=\"_top\" title=\"psysml:b8da89e1-0406-4ebb-8e6e-940fd82b8a4d\" xlink:actuate=\"onRequest\" xlink:href=\"psysml:b8da89e1-0406-4ebb-8e6e-940fd82b8a4d\" xlink:show=\"new\" xlink:title=\"psysml:b8da89e1-0406-4ebb-8e6e-940fd82b8a4d\" xlink:type=\"simple\"><path d=\"M159.28,137.05 C160.735,148.365 162.5469,162.4656 164.4519,177.2955 C165.4044,184.7104 166.3802,192.3076 167.3463,199.8301 C167.5878,201.7107 167.8287,203.5867 168.0685,205.4539 C168.1884,206.3876 168.308,207.319 168.4273,208.2478 C168.4869,208.7122 168.5465,209.1759 168.6059,209.6389 \" fill=\"none\" id=\"E5-&gt;E2\" style=\"stroke: #A80036; stroke-width: 1.0; stroke-dasharray: 7.0,7.0;\"/><polygon fill=\"#A80036\" points=\"168.6059,209.6389,171.427,200.2027,167.9691,204.6796,163.4922,201.2217,168.6059,209.6389\" style=\"stroke: #A80036; stroke-width: 1.0;\"/><text fill=\"#000000\" font-family=\"sans-serif\" font-size=\"13\" lengthAdjust=\"spacingAndGlyphs\" textLength=\"65\" x=\"166\" y=\"182.0669\">«import»*</text></a><!--MD5=[a717450b82c80b9240a525fa862496af]\n",
       "link E6 to E3--><a href=\"psysml:ce27ea1d-5c56-4308-8b0e-4b6ab5ed7604\" target=\"_top\" title=\"psysml:ce27ea1d-5c56-4308-8b0e-4b6ab5ed7604\" xlink:actuate=\"onRequest\" xlink:href=\"psysml:ce27ea1d-5c56-4308-8b0e-4b6ab5ed7604\" xlink:show=\"new\" xlink:title=\"psysml:ce27ea1d-5c56-4308-8b0e-4b6ab5ed7604\" xlink:type=\"simple\"><path d=\"M81.05,133.55 C85.7,158.9 93.44,201.1 99.26,232.83 \" fill=\"none\" id=\"E6-&gt;E3\" style=\"stroke: #A80036; stroke-width: 1.0;\"/><polygon fill=\"#FFFFFF\" points=\"102.92,252.78,92.6018,235.3578,106.3713,232.8278,102.92,252.78\" style=\"stroke: #A80036; stroke-width: 1.0;\"/><ellipse cx=\"93.5388\" cy=\"229.3902\" fill=\"#A80036\" rx=\"2\" ry=\"2\" style=\"stroke: #A80036; stroke-width: 1.0;\"/><ellipse cx=\"103.3742\" cy=\"227.5831\" fill=\"#A80036\" rx=\"2\" ry=\"2\" style=\"stroke: #A80036; stroke-width: 1.0;\"/></a><!--MD5=[0b258ad738a2477ba93068800fe9223a]\n",
       "@startuml\r\n",
       "skinparam wrapWidth 300\r\n",
       "hide circle\r\n",
       "\r\n",
       "package \"QualifiedNameImportTest\" as E1  [[psysml:091e42f3-dddd-4d90-8666-606f19fb366e ]]  {\r\n",
       "package \"P1\" as E2  [[psysml:63fd19d7-856c-4154-ab3f-5f7beb933c6f ]]  {\r\n",
       "comp def \"A\" as E3  <<(T,blue) part  def>> [[psysml:9081ec29-06f9-459b-bb5e-85f58996f1a9 ]] {\r\n",
       "}\r\n",
       "}\r\n",
       "package \"P2\" as E4  [[psysml:d8f64ef2-651e-4c07-9e19-09c43a642dc3 ]]  {\r\n",
       "package \"P2a\" as E5  [[psysml:7edd138a-1c77-4581-b137-3a8c463dac94 ]]  {\r\n",
       "}\r\n",
       "comp usage \"x: A \" as E6  <<(T,blue) part>> [[psysml:b30d741d-b0a5-4dc2-b144-a7e4c27e5c46 ]] {\r\n",
       "}\r\n",
       "}\r\n",
       "}\r\n",
       "E5 ..> E2 [[psysml:b8da89e1-0406-4ebb-8e6e-940fd82b8a4d ]] : <<import>>*\r\n",
       "E6 - -:|> E3 [[psysml:ce27ea1d-5c56-4308-8b0e-4b6ab5ed7604 ]] \r\n",
       "@enduml\r\n",
       "\n",
       "PlantUML version 1.2020.13(Sat Jun 13 12:26:38 UTC 2020)\n",
       "(EPL source distribution)\n",
       "Java Runtime: OpenJDK Runtime Environment\n",
       "JVM: OpenJDK 64-Bit Server VM\n",
       "Default Encoding: UTF-8\n",
       "Language: en\n",
       "Country: null\n",
       "--></g></svg>"
      ]
     },
     "execution_count": 29,
     "metadata": {},
     "output_type": "execute_result"
    }
   ],
   "source": [
    "%viz --style=\"STDCOLOR\" --view=\"MIXED\" \"QualifiedNameImportTest\""
   ]
  },
  {
   "cell_type": "code",
   "execution_count": 30,
   "id": "aebfadc8",
   "metadata": {
    "execution": {
     "iopub.execute_input": "2022-02-18T10:50:02.798203Z",
     "iopub.status.busy": "2022-02-18T10:50:02.797953Z",
     "iopub.status.idle": "2022-02-18T10:50:02.850377Z",
     "shell.execute_reply": "2022-02-18T10:50:02.850085Z"
    }
   },
   "outputs": [
    {
     "data": {
      "image/svg+xml": [
       "<?xml version=\"1.0\" encoding=\"UTF-8\" standalone=\"no\"?><svg xmlns=\"http://www.w3.org/2000/svg\" xmlns:xlink=\"http://www.w3.org/1999/xlink\" contentScriptType=\"application/ecmascript\" contentStyleType=\"text/css\" height=\"361px\" preserveAspectRatio=\"none\" style=\"width:267px;height:361px;\" version=\"1.1\" viewBox=\"0 0 267 361\" width=\"267px\" zoomAndPan=\"magnify\"><defs><filter height=\"300%\" id=\"f1mwu43an255c2\" width=\"300%\" x=\"-1\" y=\"-1\"><feGaussianBlur result=\"blurOut\" stdDeviation=\"2.0\"/><feColorMatrix in=\"blurOut\" result=\"blurOut2\" type=\"matrix\" values=\"0 0 0 0 0 0 0 0 0 0 0 0 0 0 0 0 0 0 .4 0\"/><feOffset dx=\"4.0\" dy=\"4.0\" in=\"blurOut2\" result=\"blurOut3\"/><feBlend in=\"SourceGraphic\" in2=\"blurOut3\" mode=\"normal\"/></filter></defs><g><!--MD5=[fbc87193dbaf4d95561dea2c320d4a47]\n",
       "cluster E1--><a href=\"psysml:091e42f3-dddd-4d90-8666-606f19fb366e\" target=\"_top\" title=\"psysml:091e42f3-dddd-4d90-8666-606f19fb366e\" xlink:actuate=\"onRequest\" xlink:href=\"psysml:091e42f3-dddd-4d90-8666-606f19fb366e\" xlink:show=\"new\" xlink:title=\"psysml:091e42f3-dddd-4d90-8666-606f19fb366e\" xlink:type=\"simple\"><polygon fill=\"#FFFFFF\" filter=\"url(#f1mwu43an255c2)\" points=\"16,6,196,6,203,28.2969,245,28.2969,245,349,16,349,16,6\" style=\"stroke: #000000; stroke-width: 1.5;\"/><line style=\"stroke: #000000; stroke-width: 1.5;\" x1=\"16\" x2=\"203\" y1=\"28.2969\" y2=\"28.2969\"/><text fill=\"#000000\" font-family=\"sans-serif\" font-size=\"14\" font-weight=\"bold\" lengthAdjust=\"spacingAndGlyphs\" textLength=\"174\" x=\"20\" y=\"20.9951\">QualifiedNameImportTest</text></a><!--MD5=[e4f7fae6ed58524ba242bb0b0d3be6b7]\n",
       "cluster E2--><a href=\"psysml:63fd19d7-856c-4154-ab3f-5f7beb933c6f\" target=\"_top\" title=\"psysml:63fd19d7-856c-4154-ab3f-5f7beb933c6f\" xlink:actuate=\"onRequest\" xlink:href=\"psysml:63fd19d7-856c-4154-ab3f-5f7beb933c6f\" xlink:show=\"new\" xlink:title=\"psysml:63fd19d7-856c-4154-ab3f-5f7beb933c6f\" xlink:type=\"simple\"><polygon fill=\"#FFFFFF\" filter=\"url(#f1mwu43an255c2)\" points=\"55,210,79,210,86,232.2969,162,232.2969,162,317,55,317,55,210\" style=\"stroke: #000000; stroke-width: 1.5;\"/><line style=\"stroke: #000000; stroke-width: 1.5;\" x1=\"55\" x2=\"86\" y1=\"232.2969\" y2=\"232.2969\"/><text fill=\"#000000\" font-family=\"sans-serif\" font-size=\"14\" font-weight=\"bold\" lengthAdjust=\"spacingAndGlyphs\" textLength=\"18\" x=\"59\" y=\"224.9951\">P1</text></a><!--MD5=[f6df4d0ebaf0b5dfb2ced0ae5af7c670]\n",
       "cluster E4--><a href=\"psysml:d8f64ef2-651e-4c07-9e19-09c43a642dc3\" target=\"_top\" title=\"psysml:d8f64ef2-651e-4c07-9e19-09c43a642dc3\" xlink:actuate=\"onRequest\" xlink:href=\"psysml:d8f64ef2-651e-4c07-9e19-09c43a642dc3\" xlink:show=\"new\" xlink:title=\"psysml:d8f64ef2-651e-4c07-9e19-09c43a642dc3\" xlink:type=\"simple\"><polygon fill=\"#FFFFFF\" filter=\"url(#f1mwu43an255c2)\" points=\"40,49,64,49,71,71.2969,221,71.2969,221,153,40,153,40,49\" style=\"stroke: #000000; stroke-width: 1.5;\"/><line style=\"stroke: #000000; stroke-width: 1.5;\" x1=\"40\" x2=\"71\" y1=\"71.2969\" y2=\"71.2969\"/><text fill=\"#000000\" font-family=\"sans-serif\" font-size=\"14\" font-weight=\"bold\" lengthAdjust=\"spacingAndGlyphs\" textLength=\"18\" x=\"44\" y=\"63.9951\">P2</text></a><!--MD5=[09b614a08d8cba4a07c9adeb5e0fee81]\n",
       "class E3--><a href=\"psysml:9081ec29-06f9-459b-bb5e-85f58996f1a9\" target=\"_top\" title=\"psysml:9081ec29-06f9-459b-bb5e-85f58996f1a9\" xlink:actuate=\"onRequest\" xlink:href=\"psysml:9081ec29-06f9-459b-bb5e-85f58996f1a9\" xlink:show=\"new\" xlink:title=\"psysml:9081ec29-06f9-459b-bb5e-85f58996f1a9\" xlink:type=\"simple\"><rect fill=\"#FEFECE\" filter=\"url(#f1mwu43an255c2)\" height=\"40\" id=\"E3\" style=\"stroke: #A80036; stroke-width: 1.5;\" width=\"40\" x=\"79\" y=\"253\"/><ellipse cx=\"94\" cy=\"269\" fill=\"#008000\" rx=\"11\" ry=\"11\" style=\"stroke: #A80036; stroke-width: 1.0;\"/><path d=\"M90.875,274 L90.875,263.4063 L94.1094,263.4063 Q96.0156,263.4063 96.9219,264.1563 Q97.8438,264.9063 97.8438,266.0781 Q97.8438,266.7656 97.4531,267.4219 Q97.0781,268.0781 96.3594,268.375 Q97.2188,268.75 97.7344,269.4375 Q98.25,270.125 98.25,270.9375 Q98.25,272.3125 97.2188,273.1563 Q96.2031,274 94.0938,274 L90.875,274 Z M92.7969,267.6406 L93.9531,267.6406 Q95.0781,267.6406 95.4844,267.2656 Q95.9063,266.875 95.9063,266.25 Q95.9063,265.6719 95.4844,265.3125 Q95.0625,264.9531 94.125,264.9531 L92.7969,264.9531 L92.7969,267.6406 Z M92.7969,272.4219 L94.2969,272.4219 Q95.2031,272.4219 95.7344,272.0313 Q96.2656,271.6406 96.2656,270.8906 Q96.2656,270.125 95.7656,269.6563 Q95.2656,269.1719 94,269.1719 L92.7969,269.1719 L92.7969,272.4219 Z \"/><text fill=\"#000000\" font-family=\"sans-serif\" font-size=\"12\" lengthAdjust=\"spacingAndGlyphs\" textLength=\"8\" x=\"108\" y=\"273.1543\">A</text><line style=\"stroke: #A80036; stroke-width: 1.5;\" x1=\"80\" x2=\"118\" y1=\"285\" y2=\"285\"/></a><!--MD5=[60a26617385b1d2d0262a64233df1f8d]\n",
       "class E6--><a href=\"psysml:b30d741d-b0a5-4dc2-b144-a7e4c27e5c46\" target=\"_top\" title=\"psysml:b30d741d-b0a5-4dc2-b144-a7e4c27e5c46\" xlink:actuate=\"onRequest\" xlink:href=\"psysml:b30d741d-b0a5-4dc2-b144-a7e4c27e5c46\" xlink:show=\"new\" xlink:title=\"psysml:b30d741d-b0a5-4dc2-b144-a7e4c27e5c46\" xlink:type=\"simple\"><rect fill=\"#FEFECE\" filter=\"url(#f1mwu43an255c2)\" height=\"45.9375\" id=\"E6\" rx=\"10\" ry=\"10\" style=\"stroke: #A80036; stroke-width: 1.5;\" width=\"68\" x=\"56\" y=\"87.5\"/><ellipse cx=\"71\" cy=\"106.4688\" fill=\"#32CD32\" rx=\"11\" ry=\"11\" style=\"stroke: #A80036; stroke-width: 1.0;\"/><path d=\"M67.8125,111.4688 L67.8125,100.875 L71.4219,100.875 Q72.6406,100.875 73.4375,101.3125 Q74.2344,101.7344 74.6094,102.4375 Q75,103.1406 75,103.9844 Q75,104.8281 74.625,105.5156 Q74.2656,106.2031 73.4688,106.625 Q72.6875,107.0313 71.5,107.0313 L69.7656,107.0313 L69.7656,111.4688 L67.8125,111.4688 Z M69.7656,105.4375 L71.375,105.4375 Q72.1875,105.4375 72.6094,105.0313 Q73.0313,104.625 73.0313,103.9844 Q73.0313,103.3594 72.6094,102.9531 Q72.1875,102.5469 71.3906,102.5469 L69.7656,102.5469 L69.7656,105.4375 Z \"/><text fill=\"#000000\" font-family=\"sans-serif\" font-size=\"12\" font-style=\"italic\" lengthAdjust=\"spacingAndGlyphs\" textLength=\"40\" x=\"83\" y=\"103.6387\">«part»</text><text fill=\"#000000\" font-family=\"sans-serif\" font-size=\"12\" lengthAdjust=\"spacingAndGlyphs\" textLength=\"22\" x=\"90\" y=\"117.6074\">x: A</text><line style=\"stroke: #A80036; stroke-width: 1.5;\" x1=\"57\" x2=\"123\" y1=\"125.4375\" y2=\"125.4375\"/></a><a href=\"psysml:7edd138a-1c77-4581-b137-3a8c463dac94\" target=\"_top\" title=\"psysml:7edd138a-1c77-4581-b137-3a8c463dac94\" xlink:actuate=\"onRequest\" xlink:href=\"psysml:7edd138a-1c77-4581-b137-3a8c463dac94\" xlink:show=\"new\" xlink:title=\"psysml:7edd138a-1c77-4581-b137-3a8c463dac94\" xlink:type=\"simple\"><polygon fill=\"#FFFFFF\" filter=\"url(#f1mwu43an255c2)\" points=\"159,84,191,84,198,106.2969,205,106.2969,205,136.5938,159,136.5938,159,84\" style=\"stroke: #000000; stroke-width: 1.5;\"/><line style=\"stroke: #000000; stroke-width: 1.5;\" x1=\"159\" x2=\"198\" y1=\"106.2969\" y2=\"106.2969\"/><text fill=\"#000000\" font-family=\"sans-serif\" font-size=\"14\" font-weight=\"bold\" lengthAdjust=\"spacingAndGlyphs\" textLength=\"26\" x=\"163\" y=\"98.9951\">P2a</text></a><!--MD5=[15ebcb19ae302d9b601edb458606d402]\n",
       "link E5 to E2--><a href=\"psysml:b8da89e1-0406-4ebb-8e6e-940fd82b8a4d\" target=\"_top\" title=\"psysml:b8da89e1-0406-4ebb-8e6e-940fd82b8a4d\" xlink:actuate=\"onRequest\" xlink:href=\"psysml:b8da89e1-0406-4ebb-8e6e-940fd82b8a4d\" xlink:show=\"new\" xlink:title=\"psysml:b8da89e1-0406-4ebb-8e6e-940fd82b8a4d\" xlink:type=\"simple\"><path d=\"M177.5,137.29 C173.605,159.62 167.8525,192.6025 163.0138,220.3425 C162.7113,222.0763 162.4125,223.7895 162.1179,225.4784 C162.081,225.6895 162.0443,225.9003 162.0076,226.1106 \" fill=\"none\" id=\"E5-&gt;E2\" style=\"stroke: #A80036; stroke-width: 1.0; stroke-dasharray: 7.0,7.0;\"/><polygon fill=\"#A80036\" points=\"162.0076,226.1106,167.4947,217.9319,162.8668,221.185,159.6137,216.5571,162.0076,226.1106\" style=\"stroke: #A80036; stroke-width: 1.0;\"/><text fill=\"#000000\" font-family=\"sans-serif\" font-size=\"13\" lengthAdjust=\"spacingAndGlyphs\" textLength=\"65\" x=\"172\" y=\"182.0669\">«import»*</text></a><!--MD5=[a717450b82c80b9240a525fa862496af]\n",
       "link E6 to E3--><a href=\"psysml:ce27ea1d-5c56-4308-8b0e-4b6ab5ed7604\" target=\"_top\" title=\"psysml:ce27ea1d-5c56-4308-8b0e-4b6ab5ed7604\" xlink:actuate=\"onRequest\" xlink:href=\"psysml:ce27ea1d-5c56-4308-8b0e-4b6ab5ed7604\" xlink:show=\"new\" xlink:title=\"psysml:ce27ea1d-5c56-4308-8b0e-4b6ab5ed7604\" xlink:type=\"simple\"><path d=\"M91.25,133.82 C92.68,159.32 95.05,201.55 96.79,232.62 \" fill=\"none\" id=\"E6-&gt;E3\" style=\"stroke: #A80036; stroke-width: 1.0;\"/><polygon fill=\"#FFFFFF\" points=\"97.93,252.88,89.8824,234.2995,103.8607,233.5196,97.93,252.88\" style=\"stroke: #A80036; stroke-width: 1.0;\"/><ellipse cx=\"91.5618\" cy=\"228.4969\" fill=\"#A80036\" rx=\"2\" ry=\"2\" style=\"stroke: #A80036; stroke-width: 1.0;\"/><ellipse cx=\"101.5463\" cy=\"227.9398\" fill=\"#A80036\" rx=\"2\" ry=\"2\" style=\"stroke: #A80036; stroke-width: 1.0;\"/></a><!--MD5=[f5bbfc3748aed4c20a7d5f5c431d3c56]\n",
       "@startuml\r\n",
       " \r\n",
       "package \"QualifiedNameImportTest\" as E1  [[psysml:091e42f3-dddd-4d90-8666-606f19fb366e ]]  {\r\n",
       "package \"P1\" as E2  [[psysml:63fd19d7-856c-4154-ab3f-5f7beb933c6f ]]  {\r\n",
       "comp def \"A\" as E3 << << (B,green) >> [[psysml:9081ec29-06f9-459b-bb5e-85f58996f1a9 ]] {\r\n",
       "}\r\n",
       "}\r\n",
       "package \"P2\" as E4  [[psysml:d8f64ef2-651e-4c07-9e19-09c43a642dc3 ]]  {\r\n",
       "package \"P2a\" as E5  [[psysml:7edd138a-1c77-4581-b137-3a8c463dac94 ]]  {\r\n",
       "}\r\n",
       "comp usage \"x: A \" as E6 << << (P,limegreen) part>> [[psysml:b30d741d-b0a5-4dc2-b144-a7e4c27e5c46 ]] {\r\n",
       "}\r\n",
       "}\r\n",
       "}\r\n",
       "E5 ..> E2 [[psysml:b8da89e1-0406-4ebb-8e6e-940fd82b8a4d ]] : <<import>>*\r\n",
       "E6 - -:|> E3 [[psysml:ce27ea1d-5c56-4308-8b0e-4b6ab5ed7604 ]] \r\n",
       "@enduml\r\n",
       "\n",
       "PlantUML version 1.2020.13(Sat Jun 13 12:26:38 UTC 2020)\n",
       "(EPL source distribution)\n",
       "Java Runtime: OpenJDK Runtime Environment\n",
       "JVM: OpenJDK 64-Bit Server VM\n",
       "Default Encoding: UTF-8\n",
       "Language: en\n",
       "Country: null\n",
       "--></g></svg>"
      ]
     },
     "execution_count": 30,
     "metadata": {},
     "output_type": "execute_result"
    }
   ],
   "source": [
    "%viz --style=\"PLANTUML\" --view=\"Default\" \"QualifiedNameImportTest\""
   ]
  },
  {
   "cell_type": "code",
   "execution_count": 31,
   "id": "25e1a810",
   "metadata": {
    "execution": {
     "iopub.execute_input": "2022-02-18T10:50:02.900090Z",
     "iopub.status.busy": "2022-02-18T10:50:02.899685Z",
     "iopub.status.idle": "2022-02-18T10:50:02.930209Z",
     "shell.execute_reply": "2022-02-18T10:50:02.929842Z"
    }
   },
   "outputs": [
    {
     "data": {
      "image/svg+xml": [
       "<?xml version=\"1.0\" encoding=\"UTF-8\" standalone=\"no\"?><svg xmlns=\"http://www.w3.org/2000/svg\" xmlns:xlink=\"http://www.w3.org/1999/xlink\" contentScriptType=\"application/ecmascript\" contentStyleType=\"text/css\" height=\"361px\" preserveAspectRatio=\"none\" style=\"width:267px;height:361px;\" version=\"1.1\" viewBox=\"0 0 267 361\" width=\"267px\" zoomAndPan=\"magnify\"><defs><filter height=\"300%\" id=\"f1mwu43an255c2\" width=\"300%\" x=\"-1\" y=\"-1\"><feGaussianBlur result=\"blurOut\" stdDeviation=\"2.0\"/><feColorMatrix in=\"blurOut\" result=\"blurOut2\" type=\"matrix\" values=\"0 0 0 0 0 0 0 0 0 0 0 0 0 0 0 0 0 0 .4 0\"/><feOffset dx=\"4.0\" dy=\"4.0\" in=\"blurOut2\" result=\"blurOut3\"/><feBlend in=\"SourceGraphic\" in2=\"blurOut3\" mode=\"normal\"/></filter></defs><g><!--MD5=[fbc87193dbaf4d95561dea2c320d4a47]\n",
       "cluster E1--><a href=\"psysml:091e42f3-dddd-4d90-8666-606f19fb366e\" target=\"_top\" title=\"psysml:091e42f3-dddd-4d90-8666-606f19fb366e\" xlink:actuate=\"onRequest\" xlink:href=\"psysml:091e42f3-dddd-4d90-8666-606f19fb366e\" xlink:show=\"new\" xlink:title=\"psysml:091e42f3-dddd-4d90-8666-606f19fb366e\" xlink:type=\"simple\"><polygon fill=\"#FFFFFF\" filter=\"url(#f1mwu43an255c2)\" points=\"16,6,196,6,203,28.2969,245,28.2969,245,349,16,349,16,6\" style=\"stroke: #000000; stroke-width: 1.5;\"/><line style=\"stroke: #000000; stroke-width: 1.5;\" x1=\"16\" x2=\"203\" y1=\"28.2969\" y2=\"28.2969\"/><text fill=\"#000000\" font-family=\"sans-serif\" font-size=\"14\" font-weight=\"bold\" lengthAdjust=\"spacingAndGlyphs\" textLength=\"174\" x=\"20\" y=\"20.9951\">QualifiedNameImportTest</text></a><!--MD5=[e4f7fae6ed58524ba242bb0b0d3be6b7]\n",
       "cluster E2--><a href=\"psysml:63fd19d7-856c-4154-ab3f-5f7beb933c6f\" target=\"_top\" title=\"psysml:63fd19d7-856c-4154-ab3f-5f7beb933c6f\" xlink:actuate=\"onRequest\" xlink:href=\"psysml:63fd19d7-856c-4154-ab3f-5f7beb933c6f\" xlink:show=\"new\" xlink:title=\"psysml:63fd19d7-856c-4154-ab3f-5f7beb933c6f\" xlink:type=\"simple\"><polygon fill=\"#FFFFFF\" filter=\"url(#f1mwu43an255c2)\" points=\"55,210,79,210,86,232.2969,162,232.2969,162,317,55,317,55,210\" style=\"stroke: #000000; stroke-width: 1.5;\"/><line style=\"stroke: #000000; stroke-width: 1.5;\" x1=\"55\" x2=\"86\" y1=\"232.2969\" y2=\"232.2969\"/><text fill=\"#000000\" font-family=\"sans-serif\" font-size=\"14\" font-weight=\"bold\" lengthAdjust=\"spacingAndGlyphs\" textLength=\"18\" x=\"59\" y=\"224.9951\">P1</text></a><!--MD5=[f6df4d0ebaf0b5dfb2ced0ae5af7c670]\n",
       "cluster E4--><a href=\"psysml:d8f64ef2-651e-4c07-9e19-09c43a642dc3\" target=\"_top\" title=\"psysml:d8f64ef2-651e-4c07-9e19-09c43a642dc3\" xlink:actuate=\"onRequest\" xlink:href=\"psysml:d8f64ef2-651e-4c07-9e19-09c43a642dc3\" xlink:show=\"new\" xlink:title=\"psysml:d8f64ef2-651e-4c07-9e19-09c43a642dc3\" xlink:type=\"simple\"><polygon fill=\"#FFFFFF\" filter=\"url(#f1mwu43an255c2)\" points=\"40,49,64,49,71,71.2969,221,71.2969,221,153,40,153,40,49\" style=\"stroke: #000000; stroke-width: 1.5;\"/><line style=\"stroke: #000000; stroke-width: 1.5;\" x1=\"40\" x2=\"71\" y1=\"71.2969\" y2=\"71.2969\"/><text fill=\"#000000\" font-family=\"sans-serif\" font-size=\"14\" font-weight=\"bold\" lengthAdjust=\"spacingAndGlyphs\" textLength=\"18\" x=\"44\" y=\"63.9951\">P2</text></a><!--MD5=[09b614a08d8cba4a07c9adeb5e0fee81]\n",
       "class E3--><a href=\"psysml:9081ec29-06f9-459b-bb5e-85f58996f1a9\" target=\"_top\" title=\"psysml:9081ec29-06f9-459b-bb5e-85f58996f1a9\" xlink:actuate=\"onRequest\" xlink:href=\"psysml:9081ec29-06f9-459b-bb5e-85f58996f1a9\" xlink:show=\"new\" xlink:title=\"psysml:9081ec29-06f9-459b-bb5e-85f58996f1a9\" xlink:type=\"simple\"><rect fill=\"#FEFECE\" filter=\"url(#f1mwu43an255c2)\" height=\"40\" id=\"E3\" style=\"stroke: #A80036; stroke-width: 1.5;\" width=\"40\" x=\"79\" y=\"253\"/><ellipse cx=\"94\" cy=\"269\" fill=\"#008000\" rx=\"11\" ry=\"11\" style=\"stroke: #A80036; stroke-width: 1.0;\"/><path d=\"M90.875,274 L90.875,263.4063 L94.1094,263.4063 Q96.0156,263.4063 96.9219,264.1563 Q97.8438,264.9063 97.8438,266.0781 Q97.8438,266.7656 97.4531,267.4219 Q97.0781,268.0781 96.3594,268.375 Q97.2188,268.75 97.7344,269.4375 Q98.25,270.125 98.25,270.9375 Q98.25,272.3125 97.2188,273.1563 Q96.2031,274 94.0938,274 L90.875,274 Z M92.7969,267.6406 L93.9531,267.6406 Q95.0781,267.6406 95.4844,267.2656 Q95.9063,266.875 95.9063,266.25 Q95.9063,265.6719 95.4844,265.3125 Q95.0625,264.9531 94.125,264.9531 L92.7969,264.9531 L92.7969,267.6406 Z M92.7969,272.4219 L94.2969,272.4219 Q95.2031,272.4219 95.7344,272.0313 Q96.2656,271.6406 96.2656,270.8906 Q96.2656,270.125 95.7656,269.6563 Q95.2656,269.1719 94,269.1719 L92.7969,269.1719 L92.7969,272.4219 Z \"/><text fill=\"#000000\" font-family=\"sans-serif\" font-size=\"12\" lengthAdjust=\"spacingAndGlyphs\" textLength=\"8\" x=\"108\" y=\"273.1543\">A</text><line style=\"stroke: #A80036; stroke-width: 1.5;\" x1=\"80\" x2=\"118\" y1=\"285\" y2=\"285\"/></a><!--MD5=[60a26617385b1d2d0262a64233df1f8d]\n",
       "class E6--><a href=\"psysml:b30d741d-b0a5-4dc2-b144-a7e4c27e5c46\" target=\"_top\" title=\"psysml:b30d741d-b0a5-4dc2-b144-a7e4c27e5c46\" xlink:actuate=\"onRequest\" xlink:href=\"psysml:b30d741d-b0a5-4dc2-b144-a7e4c27e5c46\" xlink:show=\"new\" xlink:title=\"psysml:b30d741d-b0a5-4dc2-b144-a7e4c27e5c46\" xlink:type=\"simple\"><rect fill=\"#FEFECE\" filter=\"url(#f1mwu43an255c2)\" height=\"45.9375\" id=\"E6\" rx=\"10\" ry=\"10\" style=\"stroke: #A80036; stroke-width: 1.5;\" width=\"68\" x=\"56\" y=\"87.5\"/><ellipse cx=\"71\" cy=\"106.4688\" fill=\"#32CD32\" rx=\"11\" ry=\"11\" style=\"stroke: #A80036; stroke-width: 1.0;\"/><path d=\"M67.8125,111.4688 L67.8125,100.875 L71.4219,100.875 Q72.6406,100.875 73.4375,101.3125 Q74.2344,101.7344 74.6094,102.4375 Q75,103.1406 75,103.9844 Q75,104.8281 74.625,105.5156 Q74.2656,106.2031 73.4688,106.625 Q72.6875,107.0313 71.5,107.0313 L69.7656,107.0313 L69.7656,111.4688 L67.8125,111.4688 Z M69.7656,105.4375 L71.375,105.4375 Q72.1875,105.4375 72.6094,105.0313 Q73.0313,104.625 73.0313,103.9844 Q73.0313,103.3594 72.6094,102.9531 Q72.1875,102.5469 71.3906,102.5469 L69.7656,102.5469 L69.7656,105.4375 Z \"/><text fill=\"#000000\" font-family=\"sans-serif\" font-size=\"12\" font-style=\"italic\" lengthAdjust=\"spacingAndGlyphs\" textLength=\"40\" x=\"83\" y=\"103.6387\">«part»</text><text fill=\"#000000\" font-family=\"sans-serif\" font-size=\"12\" lengthAdjust=\"spacingAndGlyphs\" textLength=\"22\" x=\"90\" y=\"117.6074\">x: A</text><line style=\"stroke: #A80036; stroke-width: 1.5;\" x1=\"57\" x2=\"123\" y1=\"125.4375\" y2=\"125.4375\"/></a><a href=\"psysml:7edd138a-1c77-4581-b137-3a8c463dac94\" target=\"_top\" title=\"psysml:7edd138a-1c77-4581-b137-3a8c463dac94\" xlink:actuate=\"onRequest\" xlink:href=\"psysml:7edd138a-1c77-4581-b137-3a8c463dac94\" xlink:show=\"new\" xlink:title=\"psysml:7edd138a-1c77-4581-b137-3a8c463dac94\" xlink:type=\"simple\"><polygon fill=\"#FFFFFF\" filter=\"url(#f1mwu43an255c2)\" points=\"159,84,191,84,198,106.2969,205,106.2969,205,136.5938,159,136.5938,159,84\" style=\"stroke: #000000; stroke-width: 1.5;\"/><line style=\"stroke: #000000; stroke-width: 1.5;\" x1=\"159\" x2=\"198\" y1=\"106.2969\" y2=\"106.2969\"/><text fill=\"#000000\" font-family=\"sans-serif\" font-size=\"14\" font-weight=\"bold\" lengthAdjust=\"spacingAndGlyphs\" textLength=\"26\" x=\"163\" y=\"98.9951\">P2a</text></a><!--MD5=[15ebcb19ae302d9b601edb458606d402]\n",
       "link E5 to E2--><a href=\"psysml:b8da89e1-0406-4ebb-8e6e-940fd82b8a4d\" target=\"_top\" title=\"psysml:b8da89e1-0406-4ebb-8e6e-940fd82b8a4d\" xlink:actuate=\"onRequest\" xlink:href=\"psysml:b8da89e1-0406-4ebb-8e6e-940fd82b8a4d\" xlink:show=\"new\" xlink:title=\"psysml:b8da89e1-0406-4ebb-8e6e-940fd82b8a4d\" xlink:type=\"simple\"><path d=\"M177.5,137.29 C173.605,159.62 167.8525,192.6025 163.0138,220.3425 C162.7113,222.0763 162.4125,223.7895 162.1179,225.4784 C162.081,225.6895 162.0443,225.9003 162.0076,226.1106 \" fill=\"none\" id=\"E5-&gt;E2\" style=\"stroke: #A80036; stroke-width: 1.0; stroke-dasharray: 7.0,7.0;\"/><polygon fill=\"#A80036\" points=\"162.0076,226.1106,167.4947,217.9319,162.8668,221.185,159.6137,216.5571,162.0076,226.1106\" style=\"stroke: #A80036; stroke-width: 1.0;\"/><text fill=\"#000000\" font-family=\"sans-serif\" font-size=\"13\" lengthAdjust=\"spacingAndGlyphs\" textLength=\"65\" x=\"172\" y=\"182.0669\">«import»*</text></a><!--MD5=[a717450b82c80b9240a525fa862496af]\n",
       "link E6 to E3--><a href=\"psysml:ce27ea1d-5c56-4308-8b0e-4b6ab5ed7604\" target=\"_top\" title=\"psysml:ce27ea1d-5c56-4308-8b0e-4b6ab5ed7604\" xlink:actuate=\"onRequest\" xlink:href=\"psysml:ce27ea1d-5c56-4308-8b0e-4b6ab5ed7604\" xlink:show=\"new\" xlink:title=\"psysml:ce27ea1d-5c56-4308-8b0e-4b6ab5ed7604\" xlink:type=\"simple\"><path d=\"M91.25,133.82 C92.68,159.32 95.05,201.55 96.79,232.62 \" fill=\"none\" id=\"E6-&gt;E3\" style=\"stroke: #A80036; stroke-width: 1.0;\"/><polygon fill=\"#FFFFFF\" points=\"97.93,252.88,89.8824,234.2995,103.8607,233.5196,97.93,252.88\" style=\"stroke: #A80036; stroke-width: 1.0;\"/><ellipse cx=\"91.5618\" cy=\"228.4969\" fill=\"#A80036\" rx=\"2\" ry=\"2\" style=\"stroke: #A80036; stroke-width: 1.0;\"/><ellipse cx=\"101.5463\" cy=\"227.9398\" fill=\"#A80036\" rx=\"2\" ry=\"2\" style=\"stroke: #A80036; stroke-width: 1.0;\"/></a><!--MD5=[f5bbfc3748aed4c20a7d5f5c431d3c56]\n",
       "@startuml\r\n",
       " \r\n",
       "package \"QualifiedNameImportTest\" as E1  [[psysml:091e42f3-dddd-4d90-8666-606f19fb366e ]]  {\r\n",
       "package \"P1\" as E2  [[psysml:63fd19d7-856c-4154-ab3f-5f7beb933c6f ]]  {\r\n",
       "comp def \"A\" as E3 << << (B,green) >> [[psysml:9081ec29-06f9-459b-bb5e-85f58996f1a9 ]] {\r\n",
       "}\r\n",
       "}\r\n",
       "package \"P2\" as E4  [[psysml:d8f64ef2-651e-4c07-9e19-09c43a642dc3 ]]  {\r\n",
       "package \"P2a\" as E5  [[psysml:7edd138a-1c77-4581-b137-3a8c463dac94 ]]  {\r\n",
       "}\r\n",
       "comp usage \"x: A \" as E6 << << (P,limegreen) part>> [[psysml:b30d741d-b0a5-4dc2-b144-a7e4c27e5c46 ]] {\r\n",
       "}\r\n",
       "}\r\n",
       "}\r\n",
       "E5 ..> E2 [[psysml:b8da89e1-0406-4ebb-8e6e-940fd82b8a4d ]] : <<import>>*\r\n",
       "E6 - -:|> E3 [[psysml:ce27ea1d-5c56-4308-8b0e-4b6ab5ed7604 ]] \r\n",
       "@enduml\r\n",
       "\n",
       "PlantUML version 1.2020.13(Sat Jun 13 12:26:38 UTC 2020)\n",
       "(EPL source distribution)\n",
       "Java Runtime: OpenJDK Runtime Environment\n",
       "JVM: OpenJDK 64-Bit Server VM\n",
       "Default Encoding: UTF-8\n",
       "Language: en\n",
       "Country: null\n",
       "--></g></svg>"
      ]
     },
     "execution_count": 31,
     "metadata": {},
     "output_type": "execute_result"
    }
   ],
   "source": [
    "%viz --style=\"PLANTUML\" --view=\"Tree\" \"QualifiedNameImportTest\""
   ]
  },
  {
   "cell_type": "code",
   "execution_count": 32,
   "id": "60d12853",
   "metadata": {
    "execution": {
     "iopub.execute_input": "2022-02-18T10:50:02.979483Z",
     "iopub.status.busy": "2022-02-18T10:50:02.979166Z",
     "iopub.status.idle": "2022-02-18T10:50:03.085174Z",
     "shell.execute_reply": "2022-02-18T10:50:03.083953Z"
    }
   },
   "outputs": [
    {
     "data": {
      "image/svg+xml": [
       "<?xml version=\"1.0\" encoding=\"UTF-8\" standalone=\"no\"?><svg xmlns=\"http://www.w3.org/2000/svg\" xmlns:xlink=\"http://www.w3.org/1999/xlink\" contentScriptType=\"application/ecmascript\" contentStyleType=\"text/css\" height=\"300px\" preserveAspectRatio=\"none\" style=\"width:603px;height:300px;background:#000000;\" version=\"1.1\" viewBox=\"0 0 603 300\" width=\"603px\" zoomAndPan=\"magnify\"><defs/><g><rect fill=\"#061301\" height=\"1\" style=\"stroke: #061301; stroke-width: 1.0;\" width=\"1\" x=\"0\" y=\"0\"/><rect fill=\"#FFFFFF\" height=\"202.8012\" style=\"stroke: #FFFFFF; stroke-width: 1.0;\" width=\"602\" x=\"0\" y=\"0\"/><text fill=\"#000000\" font-family=\"sans-serif\" font-size=\"12\" font-weight=\"bold\" lengthAdjust=\"spacingAndGlyphs\" textLength=\"139\" x=\"5\" y=\"16.1387\">Welcome to PlantUML!</text><text fill=\"#000000\" font-family=\"sans-serif\" font-size=\"12\" lengthAdjust=\"spacingAndGlyphs\" textLength=\"0\" x=\"9\" y=\"30.1074\"/><text fill=\"#000000\" font-family=\"sans-serif\" font-size=\"12\" lengthAdjust=\"spacingAndGlyphs\" textLength=\"293\" x=\"5\" y=\"44.0762\">If you use this software, you accept its license.</text><text fill=\"#000000\" font-family=\"sans-serif\" font-size=\"12\" lengthAdjust=\"spacingAndGlyphs\" textLength=\"107\" x=\"5\" y=\"58.0449\">(details by typing</text><text fill=\"#000000\" font-family=\"monospace\" font-size=\"12\" lengthAdjust=\"spacingAndGlyphs\" textLength=\"42\" x=\"116\" y=\"58.595\">license</text><text fill=\"#000000\" font-family=\"sans-serif\" font-size=\"12\" lengthAdjust=\"spacingAndGlyphs\" textLength=\"56\" x=\"162\" y=\"58.0449\">keyword)</text><text fill=\"#000000\" font-family=\"sans-serif\" font-size=\"12\" lengthAdjust=\"spacingAndGlyphs\" textLength=\"0\" x=\"9\" y=\"72.0137\"/><text fill=\"#000000\" font-family=\"sans-serif\" font-size=\"12\" lengthAdjust=\"spacingAndGlyphs\" textLength=\"283\" x=\"5\" y=\"85.9824\">You can start with a simple UML Diagram like:</text><text fill=\"#000000\" font-family=\"sans-serif\" font-size=\"12\" lengthAdjust=\"spacingAndGlyphs\" textLength=\"0\" x=\"9\" y=\"99.9512\"/><text fill=\"#000000\" font-family=\"monospace\" font-size=\"12\" lengthAdjust=\"spacingAndGlyphs\" textLength=\"102\" x=\"5\" y=\"113.0893\">Bob-&gt;Alice: Hello</text><text fill=\"#000000\" font-family=\"sans-serif\" font-size=\"12\" lengthAdjust=\"spacingAndGlyphs\" textLength=\"0\" x=\"9\" y=\"126.508\"/><text fill=\"#000000\" font-family=\"sans-serif\" font-size=\"12\" lengthAdjust=\"spacingAndGlyphs\" textLength=\"14\" x=\"5\" y=\"140.4768\">Or</text><text fill=\"#000000\" font-family=\"sans-serif\" font-size=\"12\" lengthAdjust=\"spacingAndGlyphs\" textLength=\"0\" x=\"9\" y=\"154.4455\"/><text fill=\"#000000\" font-family=\"monospace\" font-size=\"12\" lengthAdjust=\"spacingAndGlyphs\" textLength=\"78\" x=\"5\" y=\"167.5837\">class Example</text><text fill=\"#000000\" font-family=\"sans-serif\" font-size=\"12\" lengthAdjust=\"spacingAndGlyphs\" textLength=\"0\" x=\"9\" y=\"181.0023\"/><text fill=\"#000000\" font-family=\"sans-serif\" font-size=\"12\" lengthAdjust=\"spacingAndGlyphs\" textLength=\"349\" x=\"5\" y=\"194.9711\">You will find more information about PlantUML syntax on</text><text fill=\"#000000\" font-family=\"sans-serif\" font-size=\"12\" lengthAdjust=\"spacingAndGlyphs\" text-decoration=\"underline\" textLength=\"129\" x=\"358\" y=\"194.9711\">https://plantuml.com</text><image height=\"71\" width=\"80\" x=\"516\" xlink:href=\"data:image/png;base64,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\" y=\"6\"/><rect fill=\"#000000\" height=\"96.4844\" style=\"stroke: #000000; stroke-width: 1.0;\" width=\"602\" x=\"0\" y=\"202.8012\"/><rect fill=\"#33FF02\" height=\"21.2969\" style=\"stroke: #33FF02; stroke-width: 1.0;\" width=\"145\" x=\"5\" y=\"207.8012\"/><text fill=\"#000000\" font-family=\"sans-serif\" font-size=\"14\" font-weight=\"bold\" lengthAdjust=\"spacingAndGlyphs\" textLength=\"143\" x=\"6\" y=\"222.8012\">[From string (line 2) ]</text><text fill=\"#33FF02\" font-family=\"sans-serif\" font-size=\"14\" font-weight=\"bold\" lengthAdjust=\"spacingAndGlyphs\" textLength=\"0\" x=\"9\" y=\"243.0981\"/><text fill=\"#33FF02\" font-family=\"sans-serif\" font-size=\"14\" font-weight=\"bold\" lengthAdjust=\"spacingAndGlyphs\" textLength=\"70\" x=\"5\" y=\"259.3949\">@startuml</text><text fill=\"#33FF02\" font-family=\"sans-serif\" font-size=\"14\" font-weight=\"bold\" lengthAdjust=\"spacingAndGlyphs\" textLength=\"0\" x=\"9\" y=\"275.6918\"/><text fill=\"#FF0000\" font-family=\"sans-serif\" font-size=\"14\" font-weight=\"bold\" lengthAdjust=\"spacingAndGlyphs\" textLength=\"124\" x=\"9\" y=\"291.9887\">Empty description</text><!--MD5=[f59edd8218d337f74d0c332fc6737304]\n",
       "@startuml\r\n",
       " \r\n",
       "@enduml\r\n",
       "\n",
       "PlantUML version 1.2020.13(Sat Jun 13 12:26:38 UTC 2020)\n",
       "(EPL source distribution)\n",
       "Java Runtime: OpenJDK Runtime Environment\n",
       "JVM: OpenJDK 64-Bit Server VM\n",
       "Default Encoding: UTF-8\n",
       "Language: en\n",
       "Country: null\n",
       "--></g></svg>"
      ]
     },
     "execution_count": 32,
     "metadata": {},
     "output_type": "execute_result"
    }
   ],
   "source": [
    "%viz --style=\"PLANTUML\" --view=\"State\" \"QualifiedNameImportTest\""
   ]
  },
  {
   "cell_type": "code",
   "execution_count": 33,
   "id": "d3d7bd03",
   "metadata": {
    "execution": {
     "iopub.execute_input": "2022-02-18T10:50:03.134199Z",
     "iopub.status.busy": "2022-02-18T10:50:03.133995Z",
     "iopub.status.idle": "2022-02-18T10:50:03.159341Z",
     "shell.execute_reply": "2022-02-18T10:50:03.158979Z"
    }
   },
   "outputs": [
    {
     "data": {
      "image/svg+xml": [
       "<?xml version=\"1.0\" encoding=\"UTF-8\" standalone=\"no\"?><svg xmlns=\"http://www.w3.org/2000/svg\" xmlns:xlink=\"http://www.w3.org/1999/xlink\" contentScriptType=\"application/ecmascript\" contentStyleType=\"text/css\" height=\"361px\" preserveAspectRatio=\"none\" style=\"width:259px;height:361px;\" version=\"1.1\" viewBox=\"0 0 259 361\" width=\"259px\" zoomAndPan=\"magnify\"><defs><filter height=\"300%\" id=\"f1nikr9w4ly9wa\" width=\"300%\" x=\"-1\" y=\"-1\"><feGaussianBlur result=\"blurOut\" stdDeviation=\"2.0\"/><feColorMatrix in=\"blurOut\" result=\"blurOut2\" type=\"matrix\" values=\"0 0 0 0 0 0 0 0 0 0 0 0 0 0 0 0 0 0 .4 0\"/><feOffset dx=\"4.0\" dy=\"4.0\" in=\"blurOut2\" result=\"blurOut3\"/><feBlend in=\"SourceGraphic\" in2=\"blurOut3\" mode=\"normal\"/></filter></defs><g><!--MD5=[fbc87193dbaf4d95561dea2c320d4a47]\n",
       "cluster E1--><a href=\"psysml:091e42f3-dddd-4d90-8666-606f19fb366e\" target=\"_top\" title=\"psysml:091e42f3-dddd-4d90-8666-606f19fb366e\" xlink:actuate=\"onRequest\" xlink:href=\"psysml:091e42f3-dddd-4d90-8666-606f19fb366e\" xlink:show=\"new\" xlink:title=\"psysml:091e42f3-dddd-4d90-8666-606f19fb366e\" xlink:type=\"simple\"><polygon fill=\"#FFFFFF\" filter=\"url(#f1nikr9w4ly9wa)\" points=\"16,6,196,6,203,28.2969,237,28.2969,237,349,16,349,16,6\" style=\"stroke: #000000; stroke-width: 1.5;\"/><line style=\"stroke: #000000; stroke-width: 1.5;\" x1=\"16\" x2=\"203\" y1=\"28.2969\" y2=\"28.2969\"/><text fill=\"#000000\" font-family=\"sans-serif\" font-size=\"14\" font-weight=\"bold\" lengthAdjust=\"spacingAndGlyphs\" textLength=\"174\" x=\"20\" y=\"20.9951\">QualifiedNameImportTest</text></a><!--MD5=[e4f7fae6ed58524ba242bb0b0d3be6b7]\n",
       "cluster E2--><a href=\"psysml:63fd19d7-856c-4154-ab3f-5f7beb933c6f\" target=\"_top\" title=\"psysml:63fd19d7-856c-4154-ab3f-5f7beb933c6f\" xlink:actuate=\"onRequest\" xlink:href=\"psysml:63fd19d7-856c-4154-ab3f-5f7beb933c6f\" xlink:show=\"new\" xlink:title=\"psysml:63fd19d7-856c-4154-ab3f-5f7beb933c6f\" xlink:type=\"simple\"><polygon fill=\"#FFFFFF\" filter=\"url(#f1nikr9w4ly9wa)\" points=\"88,210,112,210,119,232.2969,205,232.2969,205,317,88,317,88,210\" style=\"stroke: #000000; stroke-width: 1.5;\"/><line style=\"stroke: #000000; stroke-width: 1.5;\" x1=\"88\" x2=\"119\" y1=\"232.2969\" y2=\"232.2969\"/><text fill=\"#000000\" font-family=\"sans-serif\" font-size=\"14\" font-weight=\"bold\" lengthAdjust=\"spacingAndGlyphs\" textLength=\"18\" x=\"92\" y=\"224.9951\">P1</text></a><!--MD5=[f6df4d0ebaf0b5dfb2ced0ae5af7c670]\n",
       "cluster E4--><a href=\"psysml:d8f64ef2-651e-4c07-9e19-09c43a642dc3\" target=\"_top\" title=\"psysml:d8f64ef2-651e-4c07-9e19-09c43a642dc3\" xlink:actuate=\"onRequest\" xlink:href=\"psysml:d8f64ef2-651e-4c07-9e19-09c43a642dc3\" xlink:show=\"new\" xlink:title=\"psysml:d8f64ef2-651e-4c07-9e19-09c43a642dc3\" xlink:type=\"simple\"><polygon fill=\"#FFFFFF\" filter=\"url(#f1nikr9w4ly9wa)\" points=\"40,49,64,49,71,71.2969,213,71.2969,213,153,40,153,40,49\" style=\"stroke: #000000; stroke-width: 1.5;\"/><line style=\"stroke: #000000; stroke-width: 1.5;\" x1=\"40\" x2=\"71\" y1=\"71.2969\" y2=\"71.2969\"/><text fill=\"#000000\" font-family=\"sans-serif\" font-size=\"14\" font-weight=\"bold\" lengthAdjust=\"spacingAndGlyphs\" textLength=\"18\" x=\"44\" y=\"63.9951\">P2</text></a><g id=\"E1.E2.E3\"><a href=\"psysml:9081ec29-06f9-459b-bb5e-85f58996f1a9\" target=\"_top\" title=\"psysml:9081ec29-06f9-459b-bb5e-85f58996f1a9\" xlink:actuate=\"onRequest\" xlink:href=\"psysml:9081ec29-06f9-459b-bb5e-85f58996f1a9\" xlink:show=\"new\" xlink:title=\"psysml:9081ec29-06f9-459b-bb5e-85f58996f1a9\" xlink:type=\"simple\"><rect fill=\"#FEFECE\" filter=\"url(#f1nikr9w4ly9wa)\" height=\"40\" id=\"E3\" style=\"stroke: #A80036; stroke-width: 1.5;\" width=\"50\" x=\"131\" y=\"253\"/><ellipse cx=\"150.5\" cy=\"269\" fill=\"#008000\" rx=\"11\" ry=\"11\" style=\"stroke: #A80036; stroke-width: 1.0;\"/><path d=\"M147.375,274 L147.375,263.4063 L150.6094,263.4063 Q152.5156,263.4063 153.4219,264.1563 Q154.3438,264.9063 154.3438,266.0781 Q154.3438,266.7656 153.9531,267.4219 Q153.5781,268.0781 152.8594,268.375 Q153.7188,268.75 154.2344,269.4375 Q154.75,270.125 154.75,270.9375 Q154.75,272.3125 153.7188,273.1563 Q152.7031,274 150.5938,274 L147.375,274 Z M149.2969,267.6406 L150.4531,267.6406 Q151.5781,267.6406 151.9844,267.2656 Q152.4063,266.875 152.4063,266.25 Q152.4063,265.6719 151.9844,265.3125 Q151.5625,264.9531 150.625,264.9531 L149.2969,264.9531 L149.2969,267.6406 Z M149.2969,272.4219 L150.7969,272.4219 Q151.7031,272.4219 152.2344,272.0313 Q152.7656,271.6406 152.7656,270.8906 Q152.7656,270.125 152.2656,269.6563 Q151.7656,269.1719 150.5,269.1719 L149.2969,269.1719 L149.2969,272.4219 Z \"/><text fill=\"#000000\" font-family=\"sans-serif\" font-size=\"12\" lengthAdjust=\"spacingAndGlyphs\" textLength=\"8\" x=\"165.5\" y=\"273.1543\">A</text></a></g><a href=\"psysml:7edd138a-1c77-4581-b137-3a8c463dac94\" target=\"_top\" title=\"psysml:7edd138a-1c77-4581-b137-3a8c463dac94\" xlink:actuate=\"onRequest\" xlink:href=\"psysml:7edd138a-1c77-4581-b137-3a8c463dac94\" xlink:show=\"new\" xlink:title=\"psysml:7edd138a-1c77-4581-b137-3a8c463dac94\" xlink:type=\"simple\"><polygon fill=\"#FFFFFF\" filter=\"url(#f1nikr9w4ly9wa)\" points=\"151,84,183,84,190,106.2969,197,106.2969,197,136.5938,151,136.5938,151,84\" style=\"stroke: #000000; stroke-width: 1.5;\"/><line style=\"stroke: #000000; stroke-width: 1.5;\" x1=\"151\" x2=\"190\" y1=\"106.2969\" y2=\"106.2969\"/><text fill=\"#000000\" font-family=\"sans-serif\" font-size=\"14\" font-weight=\"bold\" lengthAdjust=\"spacingAndGlyphs\" textLength=\"26\" x=\"155\" y=\"98.9951\">P2a</text></a><g id=\"E1.E4.E6\"><a href=\"psysml:b30d741d-b0a5-4dc2-b144-a7e4c27e5c46\" target=\"_top\" title=\"psysml:b30d741d-b0a5-4dc2-b144-a7e4c27e5c46\" xlink:actuate=\"onRequest\" xlink:href=\"psysml:b30d741d-b0a5-4dc2-b144-a7e4c27e5c46\" xlink:show=\"new\" xlink:title=\"psysml:b30d741d-b0a5-4dc2-b144-a7e4c27e5c46\" xlink:type=\"simple\"><rect fill=\"#FEFECE\" filter=\"url(#f1nikr9w4ly9wa)\" height=\"40\" id=\"E6\" rx=\"10\" ry=\"10\" style=\"stroke: #A80036; stroke-width: 1.5;\" width=\"59\" x=\"56.5\" y=\"90.5\"/><ellipse cx=\"73.75\" cy=\"106.5\" fill=\"#B6DBBB\" rx=\"11\" ry=\"11\" style=\"stroke: #A80036; stroke-width: 1.0;\"/><path d=\"M73.5,111.9688 Q71.75,111.9688 70.7969,110.9375 Q69.8594,109.8906 69.8594,108.0469 L69.8594,101.1563 L71.9219,101.1563 L71.9219,101.3125 Q71.8281,101.4063 71.7969,101.5469 Q71.7813,101.6719 71.7813,101.9375 L71.7813,108.0625 Q71.7813,109.1563 72.1563,109.7813 Q72.5313,110.4063 73.5156,110.4063 Q74.5,110.4063 74.8906,109.7813 Q75.2813,109.1563 75.2813,108.0156 L75.2813,101.1563 L77.1563,101.1563 L77.1563,108 Q77.1563,110.0313 76.125,111 Q75.1094,111.9688 73.5,111.9688 Z \"/><text fill=\"#000000\" font-family=\"sans-serif\" font-size=\"12\" lengthAdjust=\"spacingAndGlyphs\" textLength=\"22\" x=\"88.25\" y=\"110.6543\">x: A</text></a></g><!--MD5=[15ebcb19ae302d9b601edb458606d402]\n",
       "link E5 to E2--><a href=\"psysml:b8da89e1-0406-4ebb-8e6e-940fd82b8a4d\" target=\"_top\" title=\"psysml:b8da89e1-0406-4ebb-8e6e-940fd82b8a4d\" xlink:actuate=\"onRequest\" xlink:href=\"psysml:b8da89e1-0406-4ebb-8e6e-940fd82b8a4d\" xlink:show=\"new\" xlink:title=\"psysml:b8da89e1-0406-4ebb-8e6e-940fd82b8a4d\" xlink:type=\"simple\"><path d=\"M151.84,137.02 C139.37,152.56 124.47,173.35 115,194 C113.1988,197.9275 111.5552,202.0475 110.0574,206.2558 C109.683,207.3079 109.3177,208.3655 108.9613,209.427 C108.9168,209.5596 108.8724,209.6924 108.8281,209.8252 \" fill=\"none\" id=\"E5-&gt;E2\" style=\"stroke: #A80036; stroke-width: 1.0; stroke-dasharray: 7.0,7.0;\"/><polygon fill=\"#A80036\" points=\"108.8281,209.8252,115.4689,202.552,110.4093,205.0818,107.8794,200.0221,108.8281,209.8252\" style=\"stroke: #A80036; stroke-width: 1.0;\"/><text fill=\"#000000\" font-family=\"sans-serif\" font-size=\"13\" lengthAdjust=\"spacingAndGlyphs\" textLength=\"65\" x=\"129\" y=\"182.0669\">«import»*</text></a><!--MD5=[8629ca143190496c21c7d546a0ebac5a]\n",
       "@startuml\r\n",
       "skinparam ranksep 10\r\n",
       "skinparam rectangle {\r\n",
       " backgroundColor<<block>> LightGreen\r\n",
       "}\r\n",
       " \r\n",
       "package \"QualifiedNameImportTest\" as E1  [[psysml:091e42f3-dddd-4d90-8666-606f19fb366e ]]  {\r\n",
       "package \"P1\" as E2  [[psysml:63fd19d7-856c-4154-ab3f-5f7beb933c6f ]]  {\r\n",
       "rec def \"A\" as E3 << << (B,green) >> [[psysml:9081ec29-06f9-459b-bb5e-85f58996f1a9 ]] {\r\n",
       "}\r\n",
       "}\r\n",
       "package \"P2\" as E4  [[psysml:d8f64ef2-651e-4c07-9e19-09c43a642dc3 ]]  {\r\n",
       "package \"P2a\" as E5  [[psysml:7edd138a-1c77-4581-b137-3a8c463dac94 ]]  {\r\n",
       "}\r\n",
       "rec usage \"x: A\" as E6  [[psysml:b30d741d-b0a5-4dc2-b144-a7e4c27e5c46 ]] {\r\n",
       "}\r\n",
       "}\r\n",
       "}\r\n",
       "E5 ..> E2 [[psysml:b8da89e1-0406-4ebb-8e6e-940fd82b8a4d ]] : <<import>>*\r\n",
       "@enduml\r\n",
       "\n",
       "PlantUML version 1.2020.13(Sat Jun 13 12:26:38 UTC 2020)\n",
       "(EPL source distribution)\n",
       "Java Runtime: OpenJDK Runtime Environment\n",
       "JVM: OpenJDK 64-Bit Server VM\n",
       "Default Encoding: UTF-8\n",
       "Language: en\n",
       "Country: null\n",
       "--></g></svg>"
      ]
     },
     "execution_count": 33,
     "metadata": {},
     "output_type": "execute_result"
    }
   ],
   "source": [
    "%viz --style=\"PLANTUML\" --view=\"Interconnection\" \"QualifiedNameImportTest\""
   ]
  },
  {
   "cell_type": "code",
   "execution_count": 34,
   "id": "2066cfa0",
   "metadata": {
    "execution": {
     "iopub.execute_input": "2022-02-18T10:50:03.208622Z",
     "iopub.status.busy": "2022-02-18T10:50:03.208378Z",
     "iopub.status.idle": "2022-02-18T10:50:03.212870Z",
     "shell.execute_reply": "2022-02-18T10:50:03.212542Z"
    }
   },
   "outputs": [
    {
     "data": {
      "image/svg+xml": [
       "<?xml version=\"1.0\" encoding=\"UTF-8\" standalone=\"no\"?><svg xmlns=\"http://www.w3.org/2000/svg\" xmlns:xlink=\"http://www.w3.org/1999/xlink\" contentScriptType=\"application/ecmascript\" contentStyleType=\"text/css\" height=\"12px\" preserveAspectRatio=\"none\" style=\"width:12px;height:12px;\" version=\"1.1\" viewBox=\"0 0 12 12\" width=\"12px\" zoomAndPan=\"magnify\"><defs/><g><!--MD5=[6a4cb978cab31700e1ce5529f947a75d]\n",
       "@startuml\r\n",
       "skinparam ranksep 8\r\n",
       " \r\n",
       "@enduml\r\n",
       "\n",
       "PlantUML version 1.2020.13(Sat Jun 13 12:26:38 UTC 2020)\n",
       "(EPL source distribution)\n",
       "Java Runtime: OpenJDK Runtime Environment\n",
       "JVM: OpenJDK 64-Bit Server VM\n",
       "Default Encoding: UTF-8\n",
       "Language: en\n",
       "Country: null\n",
       "--></g></svg>"
      ]
     },
     "execution_count": 34,
     "metadata": {},
     "output_type": "execute_result"
    }
   ],
   "source": [
    "%viz --style=\"PLANTUML\" --view=\"Action\" \"QualifiedNameImportTest\""
   ]
  },
  {
   "cell_type": "code",
   "execution_count": 35,
   "id": "6ce06b03",
   "metadata": {
    "execution": {
     "iopub.execute_input": "2022-02-18T10:50:03.262555Z",
     "iopub.status.busy": "2022-02-18T10:50:03.262310Z",
     "iopub.status.idle": "2022-02-18T10:50:03.267863Z",
     "shell.execute_reply": "2022-02-18T10:50:03.267507Z"
    }
   },
   "outputs": [
    {
     "data": {
      "image/svg+xml": [
       "<?xml version=\"1.0\" encoding=\"UTF-8\" standalone=\"no\"?><svg xmlns=\"http://www.w3.org/2000/svg\" xmlns:xlink=\"http://www.w3.org/1999/xlink\" contentScriptType=\"application/ecmascript\" contentStyleType=\"text/css\" height=\"12px\" preserveAspectRatio=\"none\" style=\"width:12px;height:12px;\" version=\"1.1\" viewBox=\"0 0 12 12\" width=\"12px\" zoomAndPan=\"magnify\"><defs/><g><!--MD5=[ca4faa0b02def275ea33c14ea7a1a98d]\n",
       "@startuml\r\n",
       "skinparam roundcorner 20\r\n",
       "skinparam BoxPadding 20\r\n",
       "skinparam SequenceBoxBackgroundColor #white\r\n",
       "skinparam style strictuml\r\n",
       "skinparam maxMessageSize 100\r\n",
       " \r\n",
       "@enduml\r\n",
       "\n",
       "PlantUML version 1.2020.13(Sat Jun 13 12:26:38 UTC 2020)\n",
       "(EPL source distribution)\n",
       "Java Runtime: OpenJDK Runtime Environment\n",
       "JVM: OpenJDK 64-Bit Server VM\n",
       "Default Encoding: UTF-8\n",
       "Language: en\n",
       "Country: null\n",
       "--></g></svg>"
      ]
     },
     "execution_count": 35,
     "metadata": {},
     "output_type": "execute_result"
    }
   ],
   "source": [
    "%viz --style=\"PLANTUML\" --view=\"Sequence\" \"QualifiedNameImportTest\""
   ]
  },
  {
   "cell_type": "code",
   "execution_count": 36,
   "id": "ff84c7a0",
   "metadata": {
    "execution": {
     "iopub.execute_input": "2022-02-18T10:50:03.316924Z",
     "iopub.status.busy": "2022-02-18T10:50:03.316710Z",
     "iopub.status.idle": "2022-02-18T10:50:03.345276Z",
     "shell.execute_reply": "2022-02-18T10:50:03.344916Z"
    }
   },
   "outputs": [
    {
     "data": {
      "image/svg+xml": [
       "<?xml version=\"1.0\" encoding=\"UTF-8\" standalone=\"no\"?><svg xmlns=\"http://www.w3.org/2000/svg\" xmlns:xlink=\"http://www.w3.org/1999/xlink\" contentScriptType=\"application/ecmascript\" contentStyleType=\"text/css\" height=\"361px\" preserveAspectRatio=\"none\" style=\"width:267px;height:361px;\" version=\"1.1\" viewBox=\"0 0 267 361\" width=\"267px\" zoomAndPan=\"magnify\"><defs><filter height=\"300%\" id=\"f1mwu43an255c2\" width=\"300%\" x=\"-1\" y=\"-1\"><feGaussianBlur result=\"blurOut\" stdDeviation=\"2.0\"/><feColorMatrix in=\"blurOut\" result=\"blurOut2\" type=\"matrix\" values=\"0 0 0 0 0 0 0 0 0 0 0 0 0 0 0 0 0 0 .4 0\"/><feOffset dx=\"4.0\" dy=\"4.0\" in=\"blurOut2\" result=\"blurOut3\"/><feBlend in=\"SourceGraphic\" in2=\"blurOut3\" mode=\"normal\"/></filter></defs><g><!--MD5=[fbc87193dbaf4d95561dea2c320d4a47]\n",
       "cluster E1--><a href=\"psysml:091e42f3-dddd-4d90-8666-606f19fb366e\" target=\"_top\" title=\"psysml:091e42f3-dddd-4d90-8666-606f19fb366e\" xlink:actuate=\"onRequest\" xlink:href=\"psysml:091e42f3-dddd-4d90-8666-606f19fb366e\" xlink:show=\"new\" xlink:title=\"psysml:091e42f3-dddd-4d90-8666-606f19fb366e\" xlink:type=\"simple\"><polygon fill=\"#FFFFFF\" filter=\"url(#f1mwu43an255c2)\" points=\"16,6,196,6,203,28.2969,245,28.2969,245,349,16,349,16,6\" style=\"stroke: #000000; stroke-width: 1.5;\"/><line style=\"stroke: #000000; stroke-width: 1.5;\" x1=\"16\" x2=\"203\" y1=\"28.2969\" y2=\"28.2969\"/><text fill=\"#000000\" font-family=\"sans-serif\" font-size=\"14\" font-weight=\"bold\" lengthAdjust=\"spacingAndGlyphs\" textLength=\"174\" x=\"20\" y=\"20.9951\">QualifiedNameImportTest</text></a><!--MD5=[e4f7fae6ed58524ba242bb0b0d3be6b7]\n",
       "cluster E2--><a href=\"psysml:63fd19d7-856c-4154-ab3f-5f7beb933c6f\" target=\"_top\" title=\"psysml:63fd19d7-856c-4154-ab3f-5f7beb933c6f\" xlink:actuate=\"onRequest\" xlink:href=\"psysml:63fd19d7-856c-4154-ab3f-5f7beb933c6f\" xlink:show=\"new\" xlink:title=\"psysml:63fd19d7-856c-4154-ab3f-5f7beb933c6f\" xlink:type=\"simple\"><polygon fill=\"#FFFFFF\" filter=\"url(#f1mwu43an255c2)\" points=\"55,210,79,210,86,232.2969,162,232.2969,162,317,55,317,55,210\" style=\"stroke: #000000; stroke-width: 1.5;\"/><line style=\"stroke: #000000; stroke-width: 1.5;\" x1=\"55\" x2=\"86\" y1=\"232.2969\" y2=\"232.2969\"/><text fill=\"#000000\" font-family=\"sans-serif\" font-size=\"14\" font-weight=\"bold\" lengthAdjust=\"spacingAndGlyphs\" textLength=\"18\" x=\"59\" y=\"224.9951\">P1</text></a><!--MD5=[f6df4d0ebaf0b5dfb2ced0ae5af7c670]\n",
       "cluster E4--><a href=\"psysml:d8f64ef2-651e-4c07-9e19-09c43a642dc3\" target=\"_top\" title=\"psysml:d8f64ef2-651e-4c07-9e19-09c43a642dc3\" xlink:actuate=\"onRequest\" xlink:href=\"psysml:d8f64ef2-651e-4c07-9e19-09c43a642dc3\" xlink:show=\"new\" xlink:title=\"psysml:d8f64ef2-651e-4c07-9e19-09c43a642dc3\" xlink:type=\"simple\"><polygon fill=\"#FFFFFF\" filter=\"url(#f1mwu43an255c2)\" points=\"40,49,64,49,71,71.2969,221,71.2969,221,153,40,153,40,49\" style=\"stroke: #000000; stroke-width: 1.5;\"/><line style=\"stroke: #000000; stroke-width: 1.5;\" x1=\"40\" x2=\"71\" y1=\"71.2969\" y2=\"71.2969\"/><text fill=\"#000000\" font-family=\"sans-serif\" font-size=\"14\" font-weight=\"bold\" lengthAdjust=\"spacingAndGlyphs\" textLength=\"18\" x=\"44\" y=\"63.9951\">P2</text></a><!--MD5=[09b614a08d8cba4a07c9adeb5e0fee81]\n",
       "class E3--><a href=\"psysml:9081ec29-06f9-459b-bb5e-85f58996f1a9\" target=\"_top\" title=\"psysml:9081ec29-06f9-459b-bb5e-85f58996f1a9\" xlink:actuate=\"onRequest\" xlink:href=\"psysml:9081ec29-06f9-459b-bb5e-85f58996f1a9\" xlink:show=\"new\" xlink:title=\"psysml:9081ec29-06f9-459b-bb5e-85f58996f1a9\" xlink:type=\"simple\"><rect fill=\"#FEFECE\" filter=\"url(#f1mwu43an255c2)\" height=\"40\" id=\"E3\" style=\"stroke: #A80036; stroke-width: 1.5;\" width=\"40\" x=\"79\" y=\"253\"/><ellipse cx=\"94\" cy=\"269\" fill=\"#008000\" rx=\"11\" ry=\"11\" style=\"stroke: #A80036; stroke-width: 1.0;\"/><path d=\"M90.875,274 L90.875,263.4063 L94.1094,263.4063 Q96.0156,263.4063 96.9219,264.1563 Q97.8438,264.9063 97.8438,266.0781 Q97.8438,266.7656 97.4531,267.4219 Q97.0781,268.0781 96.3594,268.375 Q97.2188,268.75 97.7344,269.4375 Q98.25,270.125 98.25,270.9375 Q98.25,272.3125 97.2188,273.1563 Q96.2031,274 94.0938,274 L90.875,274 Z M92.7969,267.6406 L93.9531,267.6406 Q95.0781,267.6406 95.4844,267.2656 Q95.9063,266.875 95.9063,266.25 Q95.9063,265.6719 95.4844,265.3125 Q95.0625,264.9531 94.125,264.9531 L92.7969,264.9531 L92.7969,267.6406 Z M92.7969,272.4219 L94.2969,272.4219 Q95.2031,272.4219 95.7344,272.0313 Q96.2656,271.6406 96.2656,270.8906 Q96.2656,270.125 95.7656,269.6563 Q95.2656,269.1719 94,269.1719 L92.7969,269.1719 L92.7969,272.4219 Z \"/><text fill=\"#000000\" font-family=\"sans-serif\" font-size=\"12\" lengthAdjust=\"spacingAndGlyphs\" textLength=\"8\" x=\"108\" y=\"273.1543\">A</text><line style=\"stroke: #A80036; stroke-width: 1.5;\" x1=\"80\" x2=\"118\" y1=\"285\" y2=\"285\"/></a><!--MD5=[60a26617385b1d2d0262a64233df1f8d]\n",
       "class E6--><a href=\"psysml:b30d741d-b0a5-4dc2-b144-a7e4c27e5c46\" target=\"_top\" title=\"psysml:b30d741d-b0a5-4dc2-b144-a7e4c27e5c46\" xlink:actuate=\"onRequest\" xlink:href=\"psysml:b30d741d-b0a5-4dc2-b144-a7e4c27e5c46\" xlink:show=\"new\" xlink:title=\"psysml:b30d741d-b0a5-4dc2-b144-a7e4c27e5c46\" xlink:type=\"simple\"><rect fill=\"#FEFECE\" filter=\"url(#f1mwu43an255c2)\" height=\"45.9375\" id=\"E6\" rx=\"10\" ry=\"10\" style=\"stroke: #A80036; stroke-width: 1.5;\" width=\"68\" x=\"56\" y=\"87.5\"/><ellipse cx=\"71\" cy=\"106.4688\" fill=\"#32CD32\" rx=\"11\" ry=\"11\" style=\"stroke: #A80036; stroke-width: 1.0;\"/><path d=\"M67.8125,111.4688 L67.8125,100.875 L71.4219,100.875 Q72.6406,100.875 73.4375,101.3125 Q74.2344,101.7344 74.6094,102.4375 Q75,103.1406 75,103.9844 Q75,104.8281 74.625,105.5156 Q74.2656,106.2031 73.4688,106.625 Q72.6875,107.0313 71.5,107.0313 L69.7656,107.0313 L69.7656,111.4688 L67.8125,111.4688 Z M69.7656,105.4375 L71.375,105.4375 Q72.1875,105.4375 72.6094,105.0313 Q73.0313,104.625 73.0313,103.9844 Q73.0313,103.3594 72.6094,102.9531 Q72.1875,102.5469 71.3906,102.5469 L69.7656,102.5469 L69.7656,105.4375 Z \"/><text fill=\"#000000\" font-family=\"sans-serif\" font-size=\"12\" font-style=\"italic\" lengthAdjust=\"spacingAndGlyphs\" textLength=\"40\" x=\"83\" y=\"103.6387\">«part»</text><text fill=\"#000000\" font-family=\"sans-serif\" font-size=\"12\" lengthAdjust=\"spacingAndGlyphs\" textLength=\"22\" x=\"90\" y=\"117.6074\">x: A</text><line style=\"stroke: #A80036; stroke-width: 1.5;\" x1=\"57\" x2=\"123\" y1=\"125.4375\" y2=\"125.4375\"/></a><a href=\"psysml:7edd138a-1c77-4581-b137-3a8c463dac94\" target=\"_top\" title=\"psysml:7edd138a-1c77-4581-b137-3a8c463dac94\" xlink:actuate=\"onRequest\" xlink:href=\"psysml:7edd138a-1c77-4581-b137-3a8c463dac94\" xlink:show=\"new\" xlink:title=\"psysml:7edd138a-1c77-4581-b137-3a8c463dac94\" xlink:type=\"simple\"><polygon fill=\"#FFFFFF\" filter=\"url(#f1mwu43an255c2)\" points=\"159,84,191,84,198,106.2969,205,106.2969,205,136.5938,159,136.5938,159,84\" style=\"stroke: #000000; stroke-width: 1.5;\"/><line style=\"stroke: #000000; stroke-width: 1.5;\" x1=\"159\" x2=\"198\" y1=\"106.2969\" y2=\"106.2969\"/><text fill=\"#000000\" font-family=\"sans-serif\" font-size=\"14\" font-weight=\"bold\" lengthAdjust=\"spacingAndGlyphs\" textLength=\"26\" x=\"163\" y=\"98.9951\">P2a</text></a><!--MD5=[15ebcb19ae302d9b601edb458606d402]\n",
       "link E5 to E2--><a href=\"psysml:b8da89e1-0406-4ebb-8e6e-940fd82b8a4d\" target=\"_top\" title=\"psysml:b8da89e1-0406-4ebb-8e6e-940fd82b8a4d\" xlink:actuate=\"onRequest\" xlink:href=\"psysml:b8da89e1-0406-4ebb-8e6e-940fd82b8a4d\" xlink:show=\"new\" xlink:title=\"psysml:b8da89e1-0406-4ebb-8e6e-940fd82b8a4d\" xlink:type=\"simple\"><path d=\"M177.5,137.29 C173.605,159.62 167.8525,192.6025 163.0138,220.3425 C162.7113,222.0763 162.4125,223.7895 162.1179,225.4784 C162.081,225.6895 162.0443,225.9003 162.0076,226.1106 \" fill=\"none\" id=\"E5-&gt;E2\" style=\"stroke: #A80036; stroke-width: 1.0; stroke-dasharray: 7.0,7.0;\"/><polygon fill=\"#A80036\" points=\"162.0076,226.1106,167.4947,217.9319,162.8668,221.185,159.6137,216.5571,162.0076,226.1106\" style=\"stroke: #A80036; stroke-width: 1.0;\"/><text fill=\"#000000\" font-family=\"sans-serif\" font-size=\"13\" lengthAdjust=\"spacingAndGlyphs\" textLength=\"65\" x=\"172\" y=\"182.0669\">«import»*</text></a><!--MD5=[a717450b82c80b9240a525fa862496af]\n",
       "link E6 to E3--><a href=\"psysml:ce27ea1d-5c56-4308-8b0e-4b6ab5ed7604\" target=\"_top\" title=\"psysml:ce27ea1d-5c56-4308-8b0e-4b6ab5ed7604\" xlink:actuate=\"onRequest\" xlink:href=\"psysml:ce27ea1d-5c56-4308-8b0e-4b6ab5ed7604\" xlink:show=\"new\" xlink:title=\"psysml:ce27ea1d-5c56-4308-8b0e-4b6ab5ed7604\" xlink:type=\"simple\"><path d=\"M91.25,133.82 C92.68,159.32 95.05,201.55 96.79,232.62 \" fill=\"none\" id=\"E6-&gt;E3\" style=\"stroke: #A80036; stroke-width: 1.0;\"/><polygon fill=\"#FFFFFF\" points=\"97.93,252.88,89.8824,234.2995,103.8607,233.5196,97.93,252.88\" style=\"stroke: #A80036; stroke-width: 1.0;\"/><ellipse cx=\"91.5618\" cy=\"228.4969\" fill=\"#A80036\" rx=\"2\" ry=\"2\" style=\"stroke: #A80036; stroke-width: 1.0;\"/><ellipse cx=\"101.5463\" cy=\"227.9398\" fill=\"#A80036\" rx=\"2\" ry=\"2\" style=\"stroke: #A80036; stroke-width: 1.0;\"/></a><!--MD5=[f5bbfc3748aed4c20a7d5f5c431d3c56]\n",
       "@startuml\r\n",
       " \r\n",
       "package \"QualifiedNameImportTest\" as E1  [[psysml:091e42f3-dddd-4d90-8666-606f19fb366e ]]  {\r\n",
       "package \"P1\" as E2  [[psysml:63fd19d7-856c-4154-ab3f-5f7beb933c6f ]]  {\r\n",
       "comp def \"A\" as E3 << << (B,green) >> [[psysml:9081ec29-06f9-459b-bb5e-85f58996f1a9 ]] {\r\n",
       "}\r\n",
       "}\r\n",
       "package \"P2\" as E4  [[psysml:d8f64ef2-651e-4c07-9e19-09c43a642dc3 ]]  {\r\n",
       "package \"P2a\" as E5  [[psysml:7edd138a-1c77-4581-b137-3a8c463dac94 ]]  {\r\n",
       "}\r\n",
       "comp usage \"x: A \" as E6 << << (P,limegreen) part>> [[psysml:b30d741d-b0a5-4dc2-b144-a7e4c27e5c46 ]] {\r\n",
       "}\r\n",
       "}\r\n",
       "}\r\n",
       "E5 ..> E2 [[psysml:b8da89e1-0406-4ebb-8e6e-940fd82b8a4d ]] : <<import>>*\r\n",
       "E6 - -:|> E3 [[psysml:ce27ea1d-5c56-4308-8b0e-4b6ab5ed7604 ]] \r\n",
       "@enduml\r\n",
       "\n",
       "PlantUML version 1.2020.13(Sat Jun 13 12:26:38 UTC 2020)\n",
       "(EPL source distribution)\n",
       "Java Runtime: OpenJDK Runtime Environment\n",
       "JVM: OpenJDK 64-Bit Server VM\n",
       "Default Encoding: UTF-8\n",
       "Language: en\n",
       "Country: null\n",
       "--></g></svg>"
      ]
     },
     "execution_count": 36,
     "metadata": {},
     "output_type": "execute_result"
    }
   ],
   "source": [
    "%viz --style=\"PLANTUML\" --view=\"MIXED\" \"QualifiedNameImportTest\""
   ]
  },
  {
   "cell_type": "code",
   "execution_count": 37,
   "id": "2e48cffd",
   "metadata": {
    "execution": {
     "iopub.execute_input": "2022-02-18T10:50:03.394459Z",
     "iopub.status.busy": "2022-02-18T10:50:03.394215Z",
     "iopub.status.idle": "2022-02-18T10:50:03.423682Z",
     "shell.execute_reply": "2022-02-18T10:50:03.423321Z"
    }
   },
   "outputs": [
    {
     "data": {
      "image/svg+xml": [
       "<?xml version=\"1.0\" encoding=\"UTF-8\" standalone=\"no\"?><svg xmlns=\"http://www.w3.org/2000/svg\" xmlns:xlink=\"http://www.w3.org/1999/xlink\" contentScriptType=\"application/ecmascript\" contentStyleType=\"text/css\" height=\"367px\" preserveAspectRatio=\"none\" style=\"width:243px;height:367px;\" version=\"1.1\" viewBox=\"0 0 243 367\" width=\"243px\" zoomAndPan=\"magnify\"><defs/><g><!--MD5=[fbc87193dbaf4d95561dea2c320d4a47]\n",
       "cluster E1--><a href=\"psysml:091e42f3-dddd-4d90-8666-606f19fb366e\" target=\"_top\" title=\"psysml:091e42f3-dddd-4d90-8666-606f19fb366e\" xlink:actuate=\"onRequest\" xlink:href=\"psysml:091e42f3-dddd-4d90-8666-606f19fb366e\" xlink:show=\"new\" xlink:title=\"psysml:091e42f3-dddd-4d90-8666-606f19fb366e\" xlink:type=\"simple\"><polygon fill=\"#FFFFFF\" points=\"16,6,196,6,203,28.2969,219,28.2969,219,355,16,355,16,6\" style=\"stroke: #000000; stroke-width: 1.5;\"/><line style=\"stroke: #000000; stroke-width: 1.5;\" x1=\"16\" x2=\"203\" y1=\"28.2969\" y2=\"28.2969\"/><text fill=\"#000000\" font-family=\"sans-serif\" font-size=\"14\" font-weight=\"bold\" lengthAdjust=\"spacingAndGlyphs\" textLength=\"174\" x=\"20\" y=\"20.9951\">QualifiedNameImportTest</text></a><!--MD5=[e4f7fae6ed58524ba242bb0b0d3be6b7]\n",
       "cluster E2--><a href=\"psysml:63fd19d7-856c-4154-ab3f-5f7beb933c6f\" target=\"_top\" title=\"psysml:63fd19d7-856c-4154-ab3f-5f7beb933c6f\" xlink:actuate=\"onRequest\" xlink:href=\"psysml:63fd19d7-856c-4154-ab3f-5f7beb933c6f\" xlink:show=\"new\" xlink:title=\"psysml:63fd19d7-856c-4154-ab3f-5f7beb933c6f\" xlink:type=\"simple\"><polygon fill=\"#FFFFFF\" points=\"48,210,72,210,79,232.2969,185,232.2969,185,323,48,323,48,210\" style=\"stroke: #000000; stroke-width: 1.5;\"/><line style=\"stroke: #000000; stroke-width: 1.5;\" x1=\"48\" x2=\"79\" y1=\"232.2969\" y2=\"232.2969\"/><text fill=\"#000000\" font-family=\"sans-serif\" font-size=\"14\" font-weight=\"bold\" lengthAdjust=\"spacingAndGlyphs\" textLength=\"18\" x=\"52\" y=\"224.9951\">P1</text></a><!--MD5=[f6df4d0ebaf0b5dfb2ced0ae5af7c670]\n",
       "cluster E4--><a href=\"psysml:d8f64ef2-651e-4c07-9e19-09c43a642dc3\" target=\"_top\" title=\"psysml:d8f64ef2-651e-4c07-9e19-09c43a642dc3\" xlink:actuate=\"onRequest\" xlink:href=\"psysml:d8f64ef2-651e-4c07-9e19-09c43a642dc3\" xlink:show=\"new\" xlink:title=\"psysml:d8f64ef2-651e-4c07-9e19-09c43a642dc3\" xlink:type=\"simple\"><polygon fill=\"#FFFFFF\" points=\"40,49,64,49,71,71.2969,195,71.2969,195,153,40,153,40,49\" style=\"stroke: #000000; stroke-width: 1.5;\"/><line style=\"stroke: #000000; stroke-width: 1.5;\" x1=\"40\" x2=\"71\" y1=\"71.2969\" y2=\"71.2969\"/><text fill=\"#000000\" font-family=\"sans-serif\" font-size=\"14\" font-weight=\"bold\" lengthAdjust=\"spacingAndGlyphs\" textLength=\"18\" x=\"44\" y=\"63.9951\">P2</text></a><!--MD5=[09b614a08d8cba4a07c9adeb5e0fee81]\n",
       "class E3--><a href=\"psysml:9081ec29-06f9-459b-bb5e-85f58996f1a9\" target=\"_top\" title=\"psysml:9081ec29-06f9-459b-bb5e-85f58996f1a9\" xlink:actuate=\"onRequest\" xlink:href=\"psysml:9081ec29-06f9-459b-bb5e-85f58996f1a9\" xlink:show=\"new\" xlink:title=\"psysml:9081ec29-06f9-459b-bb5e-85f58996f1a9\" xlink:type=\"simple\"><rect fill=\"#FFFFFF\" height=\"45.9375\" id=\"E3\" style=\"stroke: #383838; stroke-width: 1.5;\" width=\"70\" x=\"72\" y=\"253\"/><text fill=\"#000000\" font-family=\"sans-serif\" font-size=\"12\" font-style=\"italic\" lengthAdjust=\"spacingAndGlyphs\" textLength=\"68\" x=\"73\" y=\"269.1387\">«part  def»</text><text fill=\"#000000\" font-family=\"sans-serif\" font-size=\"12\" lengthAdjust=\"spacingAndGlyphs\" textLength=\"8\" x=\"103\" y=\"283.1074\">A</text><line style=\"stroke: #383838; stroke-width: 1.5;\" x1=\"73\" x2=\"141\" y1=\"290.9375\" y2=\"290.9375\"/></a><!--MD5=[60a26617385b1d2d0262a64233df1f8d]\n",
       "class E6--><a href=\"psysml:b30d741d-b0a5-4dc2-b144-a7e4c27e5c46\" target=\"_top\" title=\"psysml:b30d741d-b0a5-4dc2-b144-a7e4c27e5c46\" xlink:actuate=\"onRequest\" xlink:href=\"psysml:b30d741d-b0a5-4dc2-b144-a7e4c27e5c46\" xlink:show=\"new\" xlink:title=\"psysml:b30d741d-b0a5-4dc2-b144-a7e4c27e5c46\" xlink:type=\"simple\"><rect fill=\"#FFFFFF\" height=\"45.9375\" id=\"E6\" rx=\"10\" ry=\"10\" style=\"stroke: #383838; stroke-width: 1.5;\" width=\"42\" x=\"56\" y=\"87.5\"/><text fill=\"#000000\" font-family=\"sans-serif\" font-size=\"12\" font-style=\"italic\" lengthAdjust=\"spacingAndGlyphs\" textLength=\"40\" x=\"57\" y=\"103.6387\">«part»</text><text fill=\"#000000\" font-family=\"sans-serif\" font-size=\"12\" lengthAdjust=\"spacingAndGlyphs\" textLength=\"22\" x=\"64\" y=\"117.6074\">x: A</text><line style=\"stroke: #383838; stroke-width: 1.5;\" x1=\"57\" x2=\"97\" y1=\"125.4375\" y2=\"125.4375\"/></a><a href=\"psysml:7edd138a-1c77-4581-b137-3a8c463dac94\" target=\"_top\" title=\"psysml:7edd138a-1c77-4581-b137-3a8c463dac94\" xlink:actuate=\"onRequest\" xlink:href=\"psysml:7edd138a-1c77-4581-b137-3a8c463dac94\" xlink:show=\"new\" xlink:title=\"psysml:7edd138a-1c77-4581-b137-3a8c463dac94\" xlink:type=\"simple\"><polygon fill=\"#FFFFFF\" points=\"133,84,165,84,172,106.2969,179,106.2969,179,136.5938,133,136.5938,133,84\" style=\"stroke: #000000; stroke-width: 1.5;\"/><line style=\"stroke: #000000; stroke-width: 1.5;\" x1=\"133\" x2=\"172\" y1=\"106.2969\" y2=\"106.2969\"/><text fill=\"#000000\" font-family=\"sans-serif\" font-size=\"14\" font-weight=\"bold\" lengthAdjust=\"spacingAndGlyphs\" textLength=\"26\" x=\"137\" y=\"98.9951\">P2a</text></a><!--MD5=[15ebcb19ae302d9b601edb458606d402]\n",
       "link E5 to E2--><a href=\"psysml:b8da89e1-0406-4ebb-8e6e-940fd82b8a4d\" target=\"_top\" title=\"psysml:b8da89e1-0406-4ebb-8e6e-940fd82b8a4d\" xlink:actuate=\"onRequest\" xlink:href=\"psysml:b8da89e1-0406-4ebb-8e6e-940fd82b8a4d\" xlink:show=\"new\" xlink:title=\"psysml:b8da89e1-0406-4ebb-8e6e-940fd82b8a4d\" xlink:type=\"simple\"><path d=\"M159.28,137.05 C160.735,148.365 162.5469,162.4656 164.4519,177.2955 C165.4044,184.7104 166.3802,192.3076 167.3463,199.8301 C167.5878,201.7107 167.8287,203.5867 168.0685,205.4539 C168.1884,206.3876 168.308,207.319 168.4273,208.2478 C168.4869,208.7122 168.5465,209.1759 168.6059,209.6389 \" fill=\"none\" id=\"E5-&gt;E2\" style=\"stroke: #383838; stroke-width: 1.0; stroke-dasharray: 7.0,7.0;\"/><polygon fill=\"#383838\" points=\"168.6059,209.6389,171.427,200.2027,167.9691,204.6796,163.4922,201.2217,168.6059,209.6389\" style=\"stroke: #383838; stroke-width: 1.0;\"/><text fill=\"#000000\" font-family=\"sans-serif\" font-size=\"13\" lengthAdjust=\"spacingAndGlyphs\" textLength=\"65\" x=\"166\" y=\"182.0669\">«import»*</text></a><!--MD5=[a717450b82c80b9240a525fa862496af]\n",
       "link E6 to E3--><a href=\"psysml:ce27ea1d-5c56-4308-8b0e-4b6ab5ed7604\" target=\"_top\" title=\"psysml:ce27ea1d-5c56-4308-8b0e-4b6ab5ed7604\" xlink:actuate=\"onRequest\" xlink:href=\"psysml:ce27ea1d-5c56-4308-8b0e-4b6ab5ed7604\" xlink:show=\"new\" xlink:title=\"psysml:ce27ea1d-5c56-4308-8b0e-4b6ab5ed7604\" xlink:type=\"simple\"><path d=\"M81.05,133.55 C85.7,158.9 93.44,201.1 99.26,232.83 \" fill=\"none\" id=\"E6-&gt;E3\" style=\"stroke: #383838; stroke-width: 1.0;\"/><polygon fill=\"#FFFFFF\" points=\"102.92,252.78,92.6018,235.3578,106.3713,232.8278,102.92,252.78\" style=\"stroke: #383838; stroke-width: 1.0;\"/><ellipse cx=\"93.5388\" cy=\"229.3902\" fill=\"#383838\" rx=\"2\" ry=\"2\" style=\"stroke: #383838; stroke-width: 1.0;\"/><ellipse cx=\"103.3742\" cy=\"227.5831\" fill=\"#383838\" rx=\"2\" ry=\"2\" style=\"stroke: #383838; stroke-width: 1.0;\"/></a><!--MD5=[a7a9dfc6cbb1c437a74f5c73f0f3e99b]\n",
       "@startuml\r\n",
       "skinparam monochrome true\r\n",
       "skinparam classbackgroundcolor white\r\n",
       "skinparam shadowing false\r\n",
       "skinparam wrapWidth 300\r\n",
       "hide circle\r\n",
       "\r\n",
       "package \"QualifiedNameImportTest\" as E1  [[psysml:091e42f3-dddd-4d90-8666-606f19fb366e ]]  {\r\n",
       "package \"P1\" as E2  [[psysml:63fd19d7-856c-4154-ab3f-5f7beb933c6f ]]  {\r\n",
       "comp def \"A\" as E3  <<(T,blue) part  def>> [[psysml:9081ec29-06f9-459b-bb5e-85f58996f1a9 ]] {\r\n",
       "}\r\n",
       "}\r\n",
       "package \"P2\" as E4  [[psysml:d8f64ef2-651e-4c07-9e19-09c43a642dc3 ]]  {\r\n",
       "package \"P2a\" as E5  [[psysml:7edd138a-1c77-4581-b137-3a8c463dac94 ]]  {\r\n",
       "}\r\n",
       "comp usage \"x: A \" as E6  <<(T,blue) part>> [[psysml:b30d741d-b0a5-4dc2-b144-a7e4c27e5c46 ]] {\r\n",
       "}\r\n",
       "}\r\n",
       "}\r\n",
       "E5 ..> E2 [[psysml:b8da89e1-0406-4ebb-8e6e-940fd82b8a4d ]] : <<import>>*\r\n",
       "E6 - -:|> E3 [[psysml:ce27ea1d-5c56-4308-8b0e-4b6ab5ed7604 ]] \r\n",
       "@enduml\r\n",
       "\n",
       "PlantUML version 1.2020.13(Sat Jun 13 12:26:38 UTC 2020)\n",
       "(EPL source distribution)\n",
       "Java Runtime: OpenJDK Runtime Environment\n",
       "JVM: OpenJDK 64-Bit Server VM\n",
       "Default Encoding: UTF-8\n",
       "Language: en\n",
       "Country: null\n",
       "--></g></svg>"
      ]
     },
     "execution_count": 37,
     "metadata": {},
     "output_type": "execute_result"
    }
   ],
   "source": [
    "%viz --style=\"DEFAULT\" --view=\"Default\" \"QualifiedNameImportTest\""
   ]
  },
  {
   "cell_type": "code",
   "execution_count": 38,
   "id": "7d923341",
   "metadata": {
    "execution": {
     "iopub.execute_input": "2022-02-18T10:50:03.473165Z",
     "iopub.status.busy": "2022-02-18T10:50:03.472762Z",
     "iopub.status.idle": "2022-02-18T10:50:03.501721Z",
     "shell.execute_reply": "2022-02-18T10:50:03.501364Z"
    }
   },
   "outputs": [
    {
     "data": {
      "image/svg+xml": [
       "<?xml version=\"1.0\" encoding=\"UTF-8\" standalone=\"no\"?><svg xmlns=\"http://www.w3.org/2000/svg\" xmlns:xlink=\"http://www.w3.org/1999/xlink\" contentScriptType=\"application/ecmascript\" contentStyleType=\"text/css\" height=\"367px\" preserveAspectRatio=\"none\" style=\"width:243px;height:367px;\" version=\"1.1\" viewBox=\"0 0 243 367\" width=\"243px\" zoomAndPan=\"magnify\"><defs/><g><!--MD5=[fbc87193dbaf4d95561dea2c320d4a47]\n",
       "cluster E1--><a href=\"psysml:091e42f3-dddd-4d90-8666-606f19fb366e\" target=\"_top\" title=\"psysml:091e42f3-dddd-4d90-8666-606f19fb366e\" xlink:actuate=\"onRequest\" xlink:href=\"psysml:091e42f3-dddd-4d90-8666-606f19fb366e\" xlink:show=\"new\" xlink:title=\"psysml:091e42f3-dddd-4d90-8666-606f19fb366e\" xlink:type=\"simple\"><polygon fill=\"#FFFFFF\" points=\"16,6,196,6,203,28.2969,219,28.2969,219,355,16,355,16,6\" style=\"stroke: #000000; stroke-width: 1.5;\"/><line style=\"stroke: #000000; stroke-width: 1.5;\" x1=\"16\" x2=\"203\" y1=\"28.2969\" y2=\"28.2969\"/><text fill=\"#000000\" font-family=\"sans-serif\" font-size=\"14\" font-weight=\"bold\" lengthAdjust=\"spacingAndGlyphs\" textLength=\"174\" x=\"20\" y=\"20.9951\">QualifiedNameImportTest</text></a><!--MD5=[e4f7fae6ed58524ba242bb0b0d3be6b7]\n",
       "cluster E2--><a href=\"psysml:63fd19d7-856c-4154-ab3f-5f7beb933c6f\" target=\"_top\" title=\"psysml:63fd19d7-856c-4154-ab3f-5f7beb933c6f\" xlink:actuate=\"onRequest\" xlink:href=\"psysml:63fd19d7-856c-4154-ab3f-5f7beb933c6f\" xlink:show=\"new\" xlink:title=\"psysml:63fd19d7-856c-4154-ab3f-5f7beb933c6f\" xlink:type=\"simple\"><polygon fill=\"#FFFFFF\" points=\"48,210,72,210,79,232.2969,185,232.2969,185,323,48,323,48,210\" style=\"stroke: #000000; stroke-width: 1.5;\"/><line style=\"stroke: #000000; stroke-width: 1.5;\" x1=\"48\" x2=\"79\" y1=\"232.2969\" y2=\"232.2969\"/><text fill=\"#000000\" font-family=\"sans-serif\" font-size=\"14\" font-weight=\"bold\" lengthAdjust=\"spacingAndGlyphs\" textLength=\"18\" x=\"52\" y=\"224.9951\">P1</text></a><!--MD5=[f6df4d0ebaf0b5dfb2ced0ae5af7c670]\n",
       "cluster E4--><a href=\"psysml:d8f64ef2-651e-4c07-9e19-09c43a642dc3\" target=\"_top\" title=\"psysml:d8f64ef2-651e-4c07-9e19-09c43a642dc3\" xlink:actuate=\"onRequest\" xlink:href=\"psysml:d8f64ef2-651e-4c07-9e19-09c43a642dc3\" xlink:show=\"new\" xlink:title=\"psysml:d8f64ef2-651e-4c07-9e19-09c43a642dc3\" xlink:type=\"simple\"><polygon fill=\"#FFFFFF\" points=\"40,49,64,49,71,71.2969,195,71.2969,195,153,40,153,40,49\" style=\"stroke: #000000; stroke-width: 1.5;\"/><line style=\"stroke: #000000; stroke-width: 1.5;\" x1=\"40\" x2=\"71\" y1=\"71.2969\" y2=\"71.2969\"/><text fill=\"#000000\" font-family=\"sans-serif\" font-size=\"14\" font-weight=\"bold\" lengthAdjust=\"spacingAndGlyphs\" textLength=\"18\" x=\"44\" y=\"63.9951\">P2</text></a><!--MD5=[09b614a08d8cba4a07c9adeb5e0fee81]\n",
       "class E3--><a href=\"psysml:9081ec29-06f9-459b-bb5e-85f58996f1a9\" target=\"_top\" title=\"psysml:9081ec29-06f9-459b-bb5e-85f58996f1a9\" xlink:actuate=\"onRequest\" xlink:href=\"psysml:9081ec29-06f9-459b-bb5e-85f58996f1a9\" xlink:show=\"new\" xlink:title=\"psysml:9081ec29-06f9-459b-bb5e-85f58996f1a9\" xlink:type=\"simple\"><rect fill=\"#FFFFFF\" height=\"45.9375\" id=\"E3\" style=\"stroke: #383838; stroke-width: 1.5;\" width=\"70\" x=\"72\" y=\"253\"/><text fill=\"#000000\" font-family=\"sans-serif\" font-size=\"12\" font-style=\"italic\" lengthAdjust=\"spacingAndGlyphs\" textLength=\"68\" x=\"73\" y=\"269.1387\">«part  def»</text><text fill=\"#000000\" font-family=\"sans-serif\" font-size=\"12\" lengthAdjust=\"spacingAndGlyphs\" textLength=\"8\" x=\"103\" y=\"283.1074\">A</text><line style=\"stroke: #383838; stroke-width: 1.5;\" x1=\"73\" x2=\"141\" y1=\"290.9375\" y2=\"290.9375\"/></a><!--MD5=[60a26617385b1d2d0262a64233df1f8d]\n",
       "class E6--><a href=\"psysml:b30d741d-b0a5-4dc2-b144-a7e4c27e5c46\" target=\"_top\" title=\"psysml:b30d741d-b0a5-4dc2-b144-a7e4c27e5c46\" xlink:actuate=\"onRequest\" xlink:href=\"psysml:b30d741d-b0a5-4dc2-b144-a7e4c27e5c46\" xlink:show=\"new\" xlink:title=\"psysml:b30d741d-b0a5-4dc2-b144-a7e4c27e5c46\" xlink:type=\"simple\"><rect fill=\"#FFFFFF\" height=\"45.9375\" id=\"E6\" rx=\"10\" ry=\"10\" style=\"stroke: #383838; stroke-width: 1.5;\" width=\"42\" x=\"56\" y=\"87.5\"/><text fill=\"#000000\" font-family=\"sans-serif\" font-size=\"12\" font-style=\"italic\" lengthAdjust=\"spacingAndGlyphs\" textLength=\"40\" x=\"57\" y=\"103.6387\">«part»</text><text fill=\"#000000\" font-family=\"sans-serif\" font-size=\"12\" lengthAdjust=\"spacingAndGlyphs\" textLength=\"22\" x=\"64\" y=\"117.6074\">x: A</text><line style=\"stroke: #383838; stroke-width: 1.5;\" x1=\"57\" x2=\"97\" y1=\"125.4375\" y2=\"125.4375\"/></a><a href=\"psysml:7edd138a-1c77-4581-b137-3a8c463dac94\" target=\"_top\" title=\"psysml:7edd138a-1c77-4581-b137-3a8c463dac94\" xlink:actuate=\"onRequest\" xlink:href=\"psysml:7edd138a-1c77-4581-b137-3a8c463dac94\" xlink:show=\"new\" xlink:title=\"psysml:7edd138a-1c77-4581-b137-3a8c463dac94\" xlink:type=\"simple\"><polygon fill=\"#FFFFFF\" points=\"133,84,165,84,172,106.2969,179,106.2969,179,136.5938,133,136.5938,133,84\" style=\"stroke: #000000; stroke-width: 1.5;\"/><line style=\"stroke: #000000; stroke-width: 1.5;\" x1=\"133\" x2=\"172\" y1=\"106.2969\" y2=\"106.2969\"/><text fill=\"#000000\" font-family=\"sans-serif\" font-size=\"14\" font-weight=\"bold\" lengthAdjust=\"spacingAndGlyphs\" textLength=\"26\" x=\"137\" y=\"98.9951\">P2a</text></a><!--MD5=[15ebcb19ae302d9b601edb458606d402]\n",
       "link E5 to E2--><a href=\"psysml:b8da89e1-0406-4ebb-8e6e-940fd82b8a4d\" target=\"_top\" title=\"psysml:b8da89e1-0406-4ebb-8e6e-940fd82b8a4d\" xlink:actuate=\"onRequest\" xlink:href=\"psysml:b8da89e1-0406-4ebb-8e6e-940fd82b8a4d\" xlink:show=\"new\" xlink:title=\"psysml:b8da89e1-0406-4ebb-8e6e-940fd82b8a4d\" xlink:type=\"simple\"><path d=\"M159.28,137.05 C160.735,148.365 162.5469,162.4656 164.4519,177.2955 C165.4044,184.7104 166.3802,192.3076 167.3463,199.8301 C167.5878,201.7107 167.8287,203.5867 168.0685,205.4539 C168.1884,206.3876 168.308,207.319 168.4273,208.2478 C168.4869,208.7122 168.5465,209.1759 168.6059,209.6389 \" fill=\"none\" id=\"E5-&gt;E2\" style=\"stroke: #383838; stroke-width: 1.0; stroke-dasharray: 7.0,7.0;\"/><polygon fill=\"#383838\" points=\"168.6059,209.6389,171.427,200.2027,167.9691,204.6796,163.4922,201.2217,168.6059,209.6389\" style=\"stroke: #383838; stroke-width: 1.0;\"/><text fill=\"#000000\" font-family=\"sans-serif\" font-size=\"13\" lengthAdjust=\"spacingAndGlyphs\" textLength=\"65\" x=\"166\" y=\"182.0669\">«import»*</text></a><!--MD5=[a717450b82c80b9240a525fa862496af]\n",
       "link E6 to E3--><a href=\"psysml:ce27ea1d-5c56-4308-8b0e-4b6ab5ed7604\" target=\"_top\" title=\"psysml:ce27ea1d-5c56-4308-8b0e-4b6ab5ed7604\" xlink:actuate=\"onRequest\" xlink:href=\"psysml:ce27ea1d-5c56-4308-8b0e-4b6ab5ed7604\" xlink:show=\"new\" xlink:title=\"psysml:ce27ea1d-5c56-4308-8b0e-4b6ab5ed7604\" xlink:type=\"simple\"><path d=\"M81.05,133.55 C85.7,158.9 93.44,201.1 99.26,232.83 \" fill=\"none\" id=\"E6-&gt;E3\" style=\"stroke: #383838; stroke-width: 1.0;\"/><polygon fill=\"#FFFFFF\" points=\"102.92,252.78,92.6018,235.3578,106.3713,232.8278,102.92,252.78\" style=\"stroke: #383838; stroke-width: 1.0;\"/><ellipse cx=\"93.5388\" cy=\"229.3902\" fill=\"#383838\" rx=\"2\" ry=\"2\" style=\"stroke: #383838; stroke-width: 1.0;\"/><ellipse cx=\"103.3742\" cy=\"227.5831\" fill=\"#383838\" rx=\"2\" ry=\"2\" style=\"stroke: #383838; stroke-width: 1.0;\"/></a><!--MD5=[a7a9dfc6cbb1c437a74f5c73f0f3e99b]\n",
       "@startuml\r\n",
       "skinparam monochrome true\r\n",
       "skinparam classbackgroundcolor white\r\n",
       "skinparam shadowing false\r\n",
       "skinparam wrapWidth 300\r\n",
       "hide circle\r\n",
       "\r\n",
       "package \"QualifiedNameImportTest\" as E1  [[psysml:091e42f3-dddd-4d90-8666-606f19fb366e ]]  {\r\n",
       "package \"P1\" as E2  [[psysml:63fd19d7-856c-4154-ab3f-5f7beb933c6f ]]  {\r\n",
       "comp def \"A\" as E3  <<(T,blue) part  def>> [[psysml:9081ec29-06f9-459b-bb5e-85f58996f1a9 ]] {\r\n",
       "}\r\n",
       "}\r\n",
       "package \"P2\" as E4  [[psysml:d8f64ef2-651e-4c07-9e19-09c43a642dc3 ]]  {\r\n",
       "package \"P2a\" as E5  [[psysml:7edd138a-1c77-4581-b137-3a8c463dac94 ]]  {\r\n",
       "}\r\n",
       "comp usage \"x: A \" as E6  <<(T,blue) part>> [[psysml:b30d741d-b0a5-4dc2-b144-a7e4c27e5c46 ]] {\r\n",
       "}\r\n",
       "}\r\n",
       "}\r\n",
       "E5 ..> E2 [[psysml:b8da89e1-0406-4ebb-8e6e-940fd82b8a4d ]] : <<import>>*\r\n",
       "E6 - -:|> E3 [[psysml:ce27ea1d-5c56-4308-8b0e-4b6ab5ed7604 ]] \r\n",
       "@enduml\r\n",
       "\n",
       "PlantUML version 1.2020.13(Sat Jun 13 12:26:38 UTC 2020)\n",
       "(EPL source distribution)\n",
       "Java Runtime: OpenJDK Runtime Environment\n",
       "JVM: OpenJDK 64-Bit Server VM\n",
       "Default Encoding: UTF-8\n",
       "Language: en\n",
       "Country: null\n",
       "--></g></svg>"
      ]
     },
     "execution_count": 38,
     "metadata": {},
     "output_type": "execute_result"
    }
   ],
   "source": [
    "%viz --style=\"DEFAULT\" --view=\"Tree\" \"QualifiedNameImportTest\""
   ]
  },
  {
   "cell_type": "code",
   "execution_count": 39,
   "id": "b13f5a34",
   "metadata": {
    "execution": {
     "iopub.execute_input": "2022-02-18T10:50:03.551102Z",
     "iopub.status.busy": "2022-02-18T10:50:03.550901Z",
     "iopub.status.idle": "2022-02-18T10:50:03.554902Z",
     "shell.execute_reply": "2022-02-18T10:50:03.555053Z"
    }
   },
   "outputs": [
    {
     "data": {
      "image/svg+xml": [
       "<?xml version=\"1.0\" encoding=\"UTF-8\" standalone=\"no\"?><svg xmlns=\"http://www.w3.org/2000/svg\" xmlns:xlink=\"http://www.w3.org/1999/xlink\" contentScriptType=\"application/ecmascript\" contentStyleType=\"text/css\" height=\"12px\" preserveAspectRatio=\"none\" style=\"width:12px;height:12px;\" version=\"1.1\" viewBox=\"0 0 12 12\" width=\"12px\" zoomAndPan=\"magnify\"><defs/><g><!--MD5=[c5f280e076d0d61ccf4b0f27871bda1d]\n",
       "@startuml\r\n",
       "skinparam monochrome true\r\n",
       "skinparam classbackgroundcolor white\r\n",
       "skinparam shadowing false\r\n",
       "skinparam wrapWidth 300\r\n",
       "hide circle\r\n",
       "\r\n",
       "@enduml\r\n",
       "\n",
       "PlantUML version 1.2020.13(Sat Jun 13 12:26:38 UTC 2020)\n",
       "(EPL source distribution)\n",
       "Java Runtime: OpenJDK Runtime Environment\n",
       "JVM: OpenJDK 64-Bit Server VM\n",
       "Default Encoding: UTF-8\n",
       "Language: en\n",
       "Country: null\n",
       "--></g></svg>"
      ]
     },
     "execution_count": 39,
     "metadata": {},
     "output_type": "execute_result"
    }
   ],
   "source": [
    "%viz --style=\"DEFAULT\" --view=\"State\" \"QualifiedNameImportTest\""
   ]
  },
  {
   "cell_type": "code",
   "execution_count": 40,
   "id": "66b0be55",
   "metadata": {
    "execution": {
     "iopub.execute_input": "2022-02-18T10:50:03.605360Z",
     "iopub.status.busy": "2022-02-18T10:50:03.605114Z",
     "iopub.status.idle": "2022-02-18T10:50:03.632116Z",
     "shell.execute_reply": "2022-02-18T10:50:03.632357Z"
    }
   },
   "outputs": [
    {
     "data": {
      "image/svg+xml": [
       "<?xml version=\"1.0\" encoding=\"UTF-8\" standalone=\"no\"?><svg xmlns=\"http://www.w3.org/2000/svg\" xmlns:xlink=\"http://www.w3.org/1999/xlink\" contentScriptType=\"application/ecmascript\" contentStyleType=\"text/css\" height=\"364px\" preserveAspectRatio=\"none\" style=\"width:249px;height:364px;\" version=\"1.1\" viewBox=\"0 0 249 364\" width=\"249px\" zoomAndPan=\"magnify\"><defs/><g><!--MD5=[fbc87193dbaf4d95561dea2c320d4a47]\n",
       "cluster E1--><a href=\"psysml:091e42f3-dddd-4d90-8666-606f19fb366e\" target=\"_top\" title=\"psysml:091e42f3-dddd-4d90-8666-606f19fb366e\" xlink:actuate=\"onRequest\" xlink:href=\"psysml:091e42f3-dddd-4d90-8666-606f19fb366e\" xlink:show=\"new\" xlink:title=\"psysml:091e42f3-dddd-4d90-8666-606f19fb366e\" xlink:type=\"simple\"><polygon fill=\"#FFFFFF\" points=\"16,6,196,6,203,28.2969,227,28.2969,227,352,16,352,16,6\" style=\"stroke: #000000; stroke-width: 1.5;\"/><line style=\"stroke: #000000; stroke-width: 1.5;\" x1=\"16\" x2=\"203\" y1=\"28.2969\" y2=\"28.2969\"/><text fill=\"#000000\" font-family=\"sans-serif\" font-size=\"14\" font-weight=\"bold\" lengthAdjust=\"spacingAndGlyphs\" textLength=\"174\" x=\"20\" y=\"20.9951\">QualifiedNameImportTest</text></a><!--MD5=[e4f7fae6ed58524ba242bb0b0d3be6b7]\n",
       "cluster E2--><a href=\"psysml:63fd19d7-856c-4154-ab3f-5f7beb933c6f\" target=\"_top\" title=\"psysml:63fd19d7-856c-4154-ab3f-5f7beb933c6f\" xlink:actuate=\"onRequest\" xlink:href=\"psysml:63fd19d7-856c-4154-ab3f-5f7beb933c6f\" xlink:show=\"new\" xlink:title=\"psysml:63fd19d7-856c-4154-ab3f-5f7beb933c6f\" xlink:type=\"simple\"><polygon fill=\"#FFFFFF\" points=\"53,210,77,210,84,232.2969,195,232.2969,195,320,53,320,53,210\" style=\"stroke: #000000; stroke-width: 1.5;\"/><line style=\"stroke: #000000; stroke-width: 1.5;\" x1=\"53\" x2=\"84\" y1=\"232.2969\" y2=\"232.2969\"/><text fill=\"#000000\" font-family=\"sans-serif\" font-size=\"14\" font-weight=\"bold\" lengthAdjust=\"spacingAndGlyphs\" textLength=\"18\" x=\"57\" y=\"224.9951\">P1</text></a><!--MD5=[f6df4d0ebaf0b5dfb2ced0ae5af7c670]\n",
       "cluster E4--><a href=\"psysml:d8f64ef2-651e-4c07-9e19-09c43a642dc3\" target=\"_top\" title=\"psysml:d8f64ef2-651e-4c07-9e19-09c43a642dc3\" xlink:actuate=\"onRequest\" xlink:href=\"psysml:d8f64ef2-651e-4c07-9e19-09c43a642dc3\" xlink:show=\"new\" xlink:title=\"psysml:d8f64ef2-651e-4c07-9e19-09c43a642dc3\" xlink:type=\"simple\"><polygon fill=\"#FFFFFF\" points=\"40,49,64,49,71,71.2969,203,71.2969,203,153,40,153,40,49\" style=\"stroke: #000000; stroke-width: 1.5;\"/><line style=\"stroke: #000000; stroke-width: 1.5;\" x1=\"40\" x2=\"71\" y1=\"71.2969\" y2=\"71.2969\"/><text fill=\"#000000\" font-family=\"sans-serif\" font-size=\"14\" font-weight=\"bold\" lengthAdjust=\"spacingAndGlyphs\" textLength=\"18\" x=\"44\" y=\"63.9951\">P2</text></a><g id=\"E1.E2.E3\"><a href=\"psysml:9081ec29-06f9-459b-bb5e-85f58996f1a9\" target=\"_top\" title=\"psysml:9081ec29-06f9-459b-bb5e-85f58996f1a9\" xlink:actuate=\"onRequest\" xlink:href=\"psysml:9081ec29-06f9-459b-bb5e-85f58996f1a9\" xlink:show=\"new\" xlink:title=\"psysml:9081ec29-06f9-459b-bb5e-85f58996f1a9\" xlink:type=\"simple\"><rect fill=\"#FFFFFF\" height=\"42.9375\" id=\"E3\" style=\"stroke: #383838; stroke-width: 1.5;\" width=\"75\" x=\"96.5\" y=\"253\"/><rect fill=\"#F8F8F8\" height=\"37.9375\" style=\"stroke: #383838; stroke-width: 1.5;\" width=\"75\" x=\"96.5\" y=\"253\"/><text fill=\"#000000\" font-family=\"sans-serif\" font-size=\"12\" font-style=\"italic\" lengthAdjust=\"spacingAndGlyphs\" textLength=\"68\" x=\"100\" y=\"269.1387\">«part  def»</text><text fill=\"#000000\" font-family=\"sans-serif\" font-size=\"12\" lengthAdjust=\"spacingAndGlyphs\" textLength=\"8\" x=\"130\" y=\"283.1074\">A</text></a></g><a href=\"psysml:7edd138a-1c77-4581-b137-3a8c463dac94\" target=\"_top\" title=\"psysml:7edd138a-1c77-4581-b137-3a8c463dac94\" xlink:actuate=\"onRequest\" xlink:href=\"psysml:7edd138a-1c77-4581-b137-3a8c463dac94\" xlink:show=\"new\" xlink:title=\"psysml:7edd138a-1c77-4581-b137-3a8c463dac94\" xlink:type=\"simple\"><polygon fill=\"#FFFFFF\" points=\"141,84,173,84,180,106.2969,187,106.2969,187,136.5938,141,136.5938,141,84\" style=\"stroke: #000000; stroke-width: 1.5;\"/><line style=\"stroke: #000000; stroke-width: 1.5;\" x1=\"141\" x2=\"180\" y1=\"106.2969\" y2=\"106.2969\"/><text fill=\"#000000\" font-family=\"sans-serif\" font-size=\"14\" font-weight=\"bold\" lengthAdjust=\"spacingAndGlyphs\" textLength=\"26\" x=\"145\" y=\"98.9951\">P2a</text></a><g id=\"E1.E4.E6\"><a href=\"psysml:b30d741d-b0a5-4dc2-b144-a7e4c27e5c46\" target=\"_top\" title=\"psysml:b30d741d-b0a5-4dc2-b144-a7e4c27e5c46\" xlink:actuate=\"onRequest\" xlink:href=\"psysml:b30d741d-b0a5-4dc2-b144-a7e4c27e5c46\" xlink:show=\"new\" xlink:title=\"psysml:b30d741d-b0a5-4dc2-b144-a7e4c27e5c46\" xlink:type=\"simple\"><rect fill=\"#FFFFFF\" height=\"40\" id=\"E6\" rx=\"10\" ry=\"10\" style=\"stroke: #383838; stroke-width: 1.5;\" width=\"50\" x=\"56\" y=\"90.5\"/><rect fill=\"#F8F8F8\" height=\"23.9688\" rx=\"10\" ry=\"10\" style=\"stroke: #F8F8F8; stroke-width: 1.5;\" width=\"50\" x=\"56\" y=\"90.5\"/><rect fill=\"#F8F8F8\" height=\"10\" style=\"stroke: #F8F8F8; stroke-width: 1.5;\" width=\"50\" x=\"56\" y=\"104.4688\"/><rect fill=\"none\" height=\"40\" id=\"E6\" rx=\"10\" ry=\"10\" style=\"stroke: #383838; stroke-width: 1.5;\" width=\"50\" x=\"56\" y=\"90.5\"/><text fill=\"#000000\" font-family=\"sans-serif\" font-size=\"12\" lengthAdjust=\"spacingAndGlyphs\" textLength=\"22\" x=\"70\" y=\"106.6387\">x: A</text></a></g><!--MD5=[15ebcb19ae302d9b601edb458606d402]\n",
       "link E5 to E2--><a href=\"psysml:b8da89e1-0406-4ebb-8e6e-940fd82b8a4d\" target=\"_top\" title=\"psysml:b8da89e1-0406-4ebb-8e6e-940fd82b8a4d\" xlink:actuate=\"onRequest\" xlink:href=\"psysml:b8da89e1-0406-4ebb-8e6e-940fd82b8a4d\" xlink:show=\"new\" xlink:title=\"psysml:b8da89e1-0406-4ebb-8e6e-940fd82b8a4d\" xlink:type=\"simple\"><path d=\"M145.15,137.17 C138.8,145.15 131.44,153.75 124,161 C106.75,177.82 94.23,173.87 81,194 C78.5775,197.6875 76.4484,201.6477 74.5773,205.7604 C74.1095,206.7885 73.6578,207.8263 73.2217,208.8716 C73.1127,209.133 73.0046,209.3948 72.8975,209.6571 \" fill=\"none\" id=\"E5-&gt;E2\" style=\"stroke: #383838; stroke-width: 1.0; stroke-dasharray: 7.0,7.0;\"/><polygon fill=\"#383838\" points=\"72.8975,209.6571,80.0029,202.837,74.7876,205.0281,72.5965,199.8128,72.8975,209.6571\" style=\"stroke: #383838; stroke-width: 1.0;\"/><text fill=\"#000000\" font-family=\"sans-serif\" font-size=\"13\" lengthAdjust=\"spacingAndGlyphs\" textLength=\"65\" x=\"114\" y=\"182.0669\">«import»*</text></a><!--MD5=[59579cf9ce423140cbab71c2c8d4fdf0]\n",
       "@startuml\r\n",
       "skinparam ranksep 10\r\n",
       "skinparam rectangle {\r\n",
       " backgroundColor<<block>> LightGreen\r\n",
       "}\r\n",
       "skinparam monochrome true\r\n",
       "skinparam classbackgroundcolor white\r\n",
       "skinparam shadowing false\r\n",
       "skinparam wrapWidth 300\r\n",
       "hide circle\r\n",
       "\r\n",
       "package \"QualifiedNameImportTest\" as E1  [[psysml:091e42f3-dddd-4d90-8666-606f19fb366e ]]  {\r\n",
       "package \"P1\" as E2  [[psysml:63fd19d7-856c-4154-ab3f-5f7beb933c6f ]]  {\r\n",
       "rec def \"A\" as E3  <<(T,blue) part  def>> [[psysml:9081ec29-06f9-459b-bb5e-85f58996f1a9 ]] {\r\n",
       "}\r\n",
       "}\r\n",
       "package \"P2\" as E4  [[psysml:d8f64ef2-651e-4c07-9e19-09c43a642dc3 ]]  {\r\n",
       "package \"P2a\" as E5  [[psysml:7edd138a-1c77-4581-b137-3a8c463dac94 ]]  {\r\n",
       "}\r\n",
       "rec usage \"x: A\" as E6  [[psysml:b30d741d-b0a5-4dc2-b144-a7e4c27e5c46 ]] {\r\n",
       "}\r\n",
       "}\r\n",
       "}\r\n",
       "E5 ..> E2 [[psysml:b8da89e1-0406-4ebb-8e6e-940fd82b8a4d ]] : <<import>>*\r\n",
       "@enduml\r\n",
       "\n",
       "PlantUML version 1.2020.13(Sat Jun 13 12:26:38 UTC 2020)\n",
       "(EPL source distribution)\n",
       "Java Runtime: OpenJDK Runtime Environment\n",
       "JVM: OpenJDK 64-Bit Server VM\n",
       "Default Encoding: UTF-8\n",
       "Language: en\n",
       "Country: null\n",
       "--></g></svg>"
      ]
     },
     "execution_count": 40,
     "metadata": {},
     "output_type": "execute_result"
    }
   ],
   "source": [
    "%viz --style=\"DEFAULT\" --view=\"Interconnection\" \"QualifiedNameImportTest\""
   ]
  },
  {
   "cell_type": "code",
   "execution_count": 41,
   "id": "07970c0a",
   "metadata": {
    "execution": {
     "iopub.execute_input": "2022-02-18T10:50:03.682016Z",
     "iopub.status.busy": "2022-02-18T10:50:03.681823Z",
     "iopub.status.idle": "2022-02-18T10:50:03.686523Z",
     "shell.execute_reply": "2022-02-18T10:50:03.686831Z"
    }
   },
   "outputs": [
    {
     "data": {
      "image/svg+xml": [
       "<?xml version=\"1.0\" encoding=\"UTF-8\" standalone=\"no\"?><svg xmlns=\"http://www.w3.org/2000/svg\" xmlns:xlink=\"http://www.w3.org/1999/xlink\" contentScriptType=\"application/ecmascript\" contentStyleType=\"text/css\" height=\"12px\" preserveAspectRatio=\"none\" style=\"width:12px;height:12px;\" version=\"1.1\" viewBox=\"0 0 12 12\" width=\"12px\" zoomAndPan=\"magnify\"><defs/><g><!--MD5=[388f21188e31bfdd97050473b19af356]\n",
       "@startuml\r\n",
       "skinparam ranksep 8\r\n",
       "skinparam monochrome true\r\n",
       "skinparam classbackgroundcolor white\r\n",
       "skinparam shadowing false\r\n",
       "skinparam wrapWidth 300\r\n",
       "hide circle\r\n",
       "\r\n",
       "@enduml\r\n",
       "\n",
       "PlantUML version 1.2020.13(Sat Jun 13 12:26:38 UTC 2020)\n",
       "(EPL source distribution)\n",
       "Java Runtime: OpenJDK Runtime Environment\n",
       "JVM: OpenJDK 64-Bit Server VM\n",
       "Default Encoding: UTF-8\n",
       "Language: en\n",
       "Country: null\n",
       "--></g></svg>"
      ]
     },
     "execution_count": 41,
     "metadata": {},
     "output_type": "execute_result"
    }
   ],
   "source": [
    "%viz --style=\"DEFAULT\" --view=\"Action\" \"QualifiedNameImportTest\""
   ]
  },
  {
   "cell_type": "code",
   "execution_count": 42,
   "id": "e0a83b5e",
   "metadata": {
    "execution": {
     "iopub.execute_input": "2022-02-18T10:50:03.736906Z",
     "iopub.status.busy": "2022-02-18T10:50:03.736496Z",
     "iopub.status.idle": "2022-02-18T10:50:03.741616Z",
     "shell.execute_reply": "2022-02-18T10:50:03.741284Z"
    }
   },
   "outputs": [
    {
     "data": {
      "image/svg+xml": [
       "<?xml version=\"1.0\" encoding=\"UTF-8\" standalone=\"no\"?><svg xmlns=\"http://www.w3.org/2000/svg\" xmlns:xlink=\"http://www.w3.org/1999/xlink\" contentScriptType=\"application/ecmascript\" contentStyleType=\"text/css\" height=\"12px\" preserveAspectRatio=\"none\" style=\"width:12px;height:12px;\" version=\"1.1\" viewBox=\"0 0 12 12\" width=\"12px\" zoomAndPan=\"magnify\"><defs/><g><!--MD5=[0b72472770326784bf6c2b53246e1e64]\n",
       "@startuml\r\n",
       "skinparam roundcorner 20\r\n",
       "skinparam BoxPadding 20\r\n",
       "skinparam SequenceBoxBackgroundColor #white\r\n",
       "skinparam style strictuml\r\n",
       "skinparam maxMessageSize 100\r\n",
       "skinparam monochrome true\r\n",
       "skinparam classbackgroundcolor white\r\n",
       "skinparam shadowing false\r\n",
       "skinparam wrapWidth 300\r\n",
       "hide circle\r\n",
       "\r\n",
       "@enduml\r\n",
       "\n",
       "PlantUML version 1.2020.13(Sat Jun 13 12:26:38 UTC 2020)\n",
       "(EPL source distribution)\n",
       "Java Runtime: OpenJDK Runtime Environment\n",
       "JVM: OpenJDK 64-Bit Server VM\n",
       "Default Encoding: UTF-8\n",
       "Language: en\n",
       "Country: null\n",
       "--></g></svg>"
      ]
     },
     "execution_count": 42,
     "metadata": {},
     "output_type": "execute_result"
    }
   ],
   "source": [
    "%viz --style=\"DEFAULT\" --view=\"Sequence\" \"QualifiedNameImportTest\""
   ]
  },
  {
   "cell_type": "code",
   "execution_count": 43,
   "id": "1df9d56a",
   "metadata": {
    "execution": {
     "iopub.execute_input": "2022-02-18T10:50:03.791811Z",
     "iopub.status.busy": "2022-02-18T10:50:03.791266Z",
     "iopub.status.idle": "2022-02-18T10:50:03.819471Z",
     "shell.execute_reply": "2022-02-18T10:50:03.819063Z"
    }
   },
   "outputs": [
    {
     "data": {
      "image/svg+xml": [
       "<?xml version=\"1.0\" encoding=\"UTF-8\" standalone=\"no\"?><svg xmlns=\"http://www.w3.org/2000/svg\" xmlns:xlink=\"http://www.w3.org/1999/xlink\" contentScriptType=\"application/ecmascript\" contentStyleType=\"text/css\" height=\"367px\" preserveAspectRatio=\"none\" style=\"width:243px;height:367px;\" version=\"1.1\" viewBox=\"0 0 243 367\" width=\"243px\" zoomAndPan=\"magnify\"><defs/><g><!--MD5=[fbc87193dbaf4d95561dea2c320d4a47]\n",
       "cluster E1--><a href=\"psysml:091e42f3-dddd-4d90-8666-606f19fb366e\" target=\"_top\" title=\"psysml:091e42f3-dddd-4d90-8666-606f19fb366e\" xlink:actuate=\"onRequest\" xlink:href=\"psysml:091e42f3-dddd-4d90-8666-606f19fb366e\" xlink:show=\"new\" xlink:title=\"psysml:091e42f3-dddd-4d90-8666-606f19fb366e\" xlink:type=\"simple\"><polygon fill=\"#FFFFFF\" points=\"16,6,196,6,203,28.2969,219,28.2969,219,355,16,355,16,6\" style=\"stroke: #000000; stroke-width: 1.5;\"/><line style=\"stroke: #000000; stroke-width: 1.5;\" x1=\"16\" x2=\"203\" y1=\"28.2969\" y2=\"28.2969\"/><text fill=\"#000000\" font-family=\"sans-serif\" font-size=\"14\" font-weight=\"bold\" lengthAdjust=\"spacingAndGlyphs\" textLength=\"174\" x=\"20\" y=\"20.9951\">QualifiedNameImportTest</text></a><!--MD5=[e4f7fae6ed58524ba242bb0b0d3be6b7]\n",
       "cluster E2--><a href=\"psysml:63fd19d7-856c-4154-ab3f-5f7beb933c6f\" target=\"_top\" title=\"psysml:63fd19d7-856c-4154-ab3f-5f7beb933c6f\" xlink:actuate=\"onRequest\" xlink:href=\"psysml:63fd19d7-856c-4154-ab3f-5f7beb933c6f\" xlink:show=\"new\" xlink:title=\"psysml:63fd19d7-856c-4154-ab3f-5f7beb933c6f\" xlink:type=\"simple\"><polygon fill=\"#FFFFFF\" points=\"48,210,72,210,79,232.2969,185,232.2969,185,323,48,323,48,210\" style=\"stroke: #000000; stroke-width: 1.5;\"/><line style=\"stroke: #000000; stroke-width: 1.5;\" x1=\"48\" x2=\"79\" y1=\"232.2969\" y2=\"232.2969\"/><text fill=\"#000000\" font-family=\"sans-serif\" font-size=\"14\" font-weight=\"bold\" lengthAdjust=\"spacingAndGlyphs\" textLength=\"18\" x=\"52\" y=\"224.9951\">P1</text></a><!--MD5=[f6df4d0ebaf0b5dfb2ced0ae5af7c670]\n",
       "cluster E4--><a href=\"psysml:d8f64ef2-651e-4c07-9e19-09c43a642dc3\" target=\"_top\" title=\"psysml:d8f64ef2-651e-4c07-9e19-09c43a642dc3\" xlink:actuate=\"onRequest\" xlink:href=\"psysml:d8f64ef2-651e-4c07-9e19-09c43a642dc3\" xlink:show=\"new\" xlink:title=\"psysml:d8f64ef2-651e-4c07-9e19-09c43a642dc3\" xlink:type=\"simple\"><polygon fill=\"#FFFFFF\" points=\"40,49,64,49,71,71.2969,195,71.2969,195,153,40,153,40,49\" style=\"stroke: #000000; stroke-width: 1.5;\"/><line style=\"stroke: #000000; stroke-width: 1.5;\" x1=\"40\" x2=\"71\" y1=\"71.2969\" y2=\"71.2969\"/><text fill=\"#000000\" font-family=\"sans-serif\" font-size=\"14\" font-weight=\"bold\" lengthAdjust=\"spacingAndGlyphs\" textLength=\"18\" x=\"44\" y=\"63.9951\">P2</text></a><!--MD5=[09b614a08d8cba4a07c9adeb5e0fee81]\n",
       "class E3--><a href=\"psysml:9081ec29-06f9-459b-bb5e-85f58996f1a9\" target=\"_top\" title=\"psysml:9081ec29-06f9-459b-bb5e-85f58996f1a9\" xlink:actuate=\"onRequest\" xlink:href=\"psysml:9081ec29-06f9-459b-bb5e-85f58996f1a9\" xlink:show=\"new\" xlink:title=\"psysml:9081ec29-06f9-459b-bb5e-85f58996f1a9\" xlink:type=\"simple\"><rect fill=\"#FFFFFF\" height=\"45.9375\" id=\"E3\" style=\"stroke: #383838; stroke-width: 1.5;\" width=\"70\" x=\"72\" y=\"253\"/><text fill=\"#000000\" font-family=\"sans-serif\" font-size=\"12\" font-style=\"italic\" lengthAdjust=\"spacingAndGlyphs\" textLength=\"68\" x=\"73\" y=\"269.1387\">«part  def»</text><text fill=\"#000000\" font-family=\"sans-serif\" font-size=\"12\" lengthAdjust=\"spacingAndGlyphs\" textLength=\"8\" x=\"103\" y=\"283.1074\">A</text><line style=\"stroke: #383838; stroke-width: 1.5;\" x1=\"73\" x2=\"141\" y1=\"290.9375\" y2=\"290.9375\"/></a><!--MD5=[60a26617385b1d2d0262a64233df1f8d]\n",
       "class E6--><a href=\"psysml:b30d741d-b0a5-4dc2-b144-a7e4c27e5c46\" target=\"_top\" title=\"psysml:b30d741d-b0a5-4dc2-b144-a7e4c27e5c46\" xlink:actuate=\"onRequest\" xlink:href=\"psysml:b30d741d-b0a5-4dc2-b144-a7e4c27e5c46\" xlink:show=\"new\" xlink:title=\"psysml:b30d741d-b0a5-4dc2-b144-a7e4c27e5c46\" xlink:type=\"simple\"><rect fill=\"#FFFFFF\" height=\"45.9375\" id=\"E6\" rx=\"10\" ry=\"10\" style=\"stroke: #383838; stroke-width: 1.5;\" width=\"42\" x=\"56\" y=\"87.5\"/><text fill=\"#000000\" font-family=\"sans-serif\" font-size=\"12\" font-style=\"italic\" lengthAdjust=\"spacingAndGlyphs\" textLength=\"40\" x=\"57\" y=\"103.6387\">«part»</text><text fill=\"#000000\" font-family=\"sans-serif\" font-size=\"12\" lengthAdjust=\"spacingAndGlyphs\" textLength=\"22\" x=\"64\" y=\"117.6074\">x: A</text><line style=\"stroke: #383838; stroke-width: 1.5;\" x1=\"57\" x2=\"97\" y1=\"125.4375\" y2=\"125.4375\"/></a><a href=\"psysml:7edd138a-1c77-4581-b137-3a8c463dac94\" target=\"_top\" title=\"psysml:7edd138a-1c77-4581-b137-3a8c463dac94\" xlink:actuate=\"onRequest\" xlink:href=\"psysml:7edd138a-1c77-4581-b137-3a8c463dac94\" xlink:show=\"new\" xlink:title=\"psysml:7edd138a-1c77-4581-b137-3a8c463dac94\" xlink:type=\"simple\"><polygon fill=\"#FFFFFF\" points=\"133,84,165,84,172,106.2969,179,106.2969,179,136.5938,133,136.5938,133,84\" style=\"stroke: #000000; stroke-width: 1.5;\"/><line style=\"stroke: #000000; stroke-width: 1.5;\" x1=\"133\" x2=\"172\" y1=\"106.2969\" y2=\"106.2969\"/><text fill=\"#000000\" font-family=\"sans-serif\" font-size=\"14\" font-weight=\"bold\" lengthAdjust=\"spacingAndGlyphs\" textLength=\"26\" x=\"137\" y=\"98.9951\">P2a</text></a><!--MD5=[15ebcb19ae302d9b601edb458606d402]\n",
       "link E5 to E2--><a href=\"psysml:b8da89e1-0406-4ebb-8e6e-940fd82b8a4d\" target=\"_top\" title=\"psysml:b8da89e1-0406-4ebb-8e6e-940fd82b8a4d\" xlink:actuate=\"onRequest\" xlink:href=\"psysml:b8da89e1-0406-4ebb-8e6e-940fd82b8a4d\" xlink:show=\"new\" xlink:title=\"psysml:b8da89e1-0406-4ebb-8e6e-940fd82b8a4d\" xlink:type=\"simple\"><path d=\"M159.28,137.05 C160.735,148.365 162.5469,162.4656 164.4519,177.2955 C165.4044,184.7104 166.3802,192.3076 167.3463,199.8301 C167.5878,201.7107 167.8287,203.5867 168.0685,205.4539 C168.1884,206.3876 168.308,207.319 168.4273,208.2478 C168.4869,208.7122 168.5465,209.1759 168.6059,209.6389 \" fill=\"none\" id=\"E5-&gt;E2\" style=\"stroke: #383838; stroke-width: 1.0; stroke-dasharray: 7.0,7.0;\"/><polygon fill=\"#383838\" points=\"168.6059,209.6389,171.427,200.2027,167.9691,204.6796,163.4922,201.2217,168.6059,209.6389\" style=\"stroke: #383838; stroke-width: 1.0;\"/><text fill=\"#000000\" font-family=\"sans-serif\" font-size=\"13\" lengthAdjust=\"spacingAndGlyphs\" textLength=\"65\" x=\"166\" y=\"182.0669\">«import»*</text></a><!--MD5=[a717450b82c80b9240a525fa862496af]\n",
       "link E6 to E3--><a href=\"psysml:ce27ea1d-5c56-4308-8b0e-4b6ab5ed7604\" target=\"_top\" title=\"psysml:ce27ea1d-5c56-4308-8b0e-4b6ab5ed7604\" xlink:actuate=\"onRequest\" xlink:href=\"psysml:ce27ea1d-5c56-4308-8b0e-4b6ab5ed7604\" xlink:show=\"new\" xlink:title=\"psysml:ce27ea1d-5c56-4308-8b0e-4b6ab5ed7604\" xlink:type=\"simple\"><path d=\"M81.05,133.55 C85.7,158.9 93.44,201.1 99.26,232.83 \" fill=\"none\" id=\"E6-&gt;E3\" style=\"stroke: #383838; stroke-width: 1.0;\"/><polygon fill=\"#FFFFFF\" points=\"102.92,252.78,92.6018,235.3578,106.3713,232.8278,102.92,252.78\" style=\"stroke: #383838; stroke-width: 1.0;\"/><ellipse cx=\"93.5388\" cy=\"229.3902\" fill=\"#383838\" rx=\"2\" ry=\"2\" style=\"stroke: #383838; stroke-width: 1.0;\"/><ellipse cx=\"103.3742\" cy=\"227.5831\" fill=\"#383838\" rx=\"2\" ry=\"2\" style=\"stroke: #383838; stroke-width: 1.0;\"/></a><!--MD5=[a7a9dfc6cbb1c437a74f5c73f0f3e99b]\n",
       "@startuml\r\n",
       "skinparam monochrome true\r\n",
       "skinparam classbackgroundcolor white\r\n",
       "skinparam shadowing false\r\n",
       "skinparam wrapWidth 300\r\n",
       "hide circle\r\n",
       "\r\n",
       "package \"QualifiedNameImportTest\" as E1  [[psysml:091e42f3-dddd-4d90-8666-606f19fb366e ]]  {\r\n",
       "package \"P1\" as E2  [[psysml:63fd19d7-856c-4154-ab3f-5f7beb933c6f ]]  {\r\n",
       "comp def \"A\" as E3  <<(T,blue) part  def>> [[psysml:9081ec29-06f9-459b-bb5e-85f58996f1a9 ]] {\r\n",
       "}\r\n",
       "}\r\n",
       "package \"P2\" as E4  [[psysml:d8f64ef2-651e-4c07-9e19-09c43a642dc3 ]]  {\r\n",
       "package \"P2a\" as E5  [[psysml:7edd138a-1c77-4581-b137-3a8c463dac94 ]]  {\r\n",
       "}\r\n",
       "comp usage \"x: A \" as E6  <<(T,blue) part>> [[psysml:b30d741d-b0a5-4dc2-b144-a7e4c27e5c46 ]] {\r\n",
       "}\r\n",
       "}\r\n",
       "}\r\n",
       "E5 ..> E2 [[psysml:b8da89e1-0406-4ebb-8e6e-940fd82b8a4d ]] : <<import>>*\r\n",
       "E6 - -:|> E3 [[psysml:ce27ea1d-5c56-4308-8b0e-4b6ab5ed7604 ]] \r\n",
       "@enduml\r\n",
       "\n",
       "PlantUML version 1.2020.13(Sat Jun 13 12:26:38 UTC 2020)\n",
       "(EPL source distribution)\n",
       "Java Runtime: OpenJDK Runtime Environment\n",
       "JVM: OpenJDK 64-Bit Server VM\n",
       "Default Encoding: UTF-8\n",
       "Language: en\n",
       "Country: null\n",
       "--></g></svg>"
      ]
     },
     "execution_count": 43,
     "metadata": {},
     "output_type": "execute_result"
    }
   ],
   "source": [
    "%viz --style=\"DEFAULT\" --view=\"MIXED\" \"QualifiedNameImportTest\""
   ]
  },
  {
   "cell_type": "code",
   "execution_count": 44,
   "id": "05b8976b",
   "metadata": {
    "execution": {
     "iopub.execute_input": "2022-02-18T10:50:03.869008Z",
     "iopub.status.busy": "2022-02-18T10:50:03.868577Z",
     "iopub.status.idle": "2022-02-18T10:50:03.896219Z",
     "shell.execute_reply": "2022-02-18T10:50:03.895848Z"
    }
   },
   "outputs": [
    {
     "data": {
      "image/svg+xml": [
       "<?xml version=\"1.0\" encoding=\"UTF-8\" standalone=\"no\"?><svg xmlns=\"http://www.w3.org/2000/svg\" xmlns:xlink=\"http://www.w3.org/1999/xlink\" contentScriptType=\"application/ecmascript\" contentStyleType=\"text/css\" height=\"367px\" preserveAspectRatio=\"none\" style=\"width:243px;height:367px;\" version=\"1.1\" viewBox=\"0 0 243 367\" width=\"243px\" zoomAndPan=\"magnify\"><defs/><g><!--MD5=[fbc87193dbaf4d95561dea2c320d4a47]\n",
       "cluster E1--><a href=\"psysml:091e42f3-dddd-4d90-8666-606f19fb366e\" target=\"_top\" title=\"psysml:091e42f3-dddd-4d90-8666-606f19fb366e\" xlink:actuate=\"onRequest\" xlink:href=\"psysml:091e42f3-dddd-4d90-8666-606f19fb366e\" xlink:show=\"new\" xlink:title=\"psysml:091e42f3-dddd-4d90-8666-606f19fb366e\" xlink:type=\"simple\"><polygon fill=\"#FFFFFF\" points=\"16,6,196,6,203,28.2969,219,28.2969,219,355,16,355,16,6\" style=\"stroke: #000000; stroke-width: 1.5;\"/><line style=\"stroke: #000000; stroke-width: 1.5;\" x1=\"16\" x2=\"203\" y1=\"28.2969\" y2=\"28.2969\"/><text fill=\"#000000\" font-family=\"sans-serif\" font-size=\"14\" font-weight=\"bold\" lengthAdjust=\"spacingAndGlyphs\" textLength=\"174\" x=\"20\" y=\"20.9951\">QualifiedNameImportTest</text></a><!--MD5=[e4f7fae6ed58524ba242bb0b0d3be6b7]\n",
       "cluster E2--><a href=\"psysml:63fd19d7-856c-4154-ab3f-5f7beb933c6f\" target=\"_top\" title=\"psysml:63fd19d7-856c-4154-ab3f-5f7beb933c6f\" xlink:actuate=\"onRequest\" xlink:href=\"psysml:63fd19d7-856c-4154-ab3f-5f7beb933c6f\" xlink:show=\"new\" xlink:title=\"psysml:63fd19d7-856c-4154-ab3f-5f7beb933c6f\" xlink:type=\"simple\"><polygon fill=\"#FFFFFF\" points=\"48,210,72,210,79,232.2969,185,232.2969,185,323,48,323,48,210\" style=\"stroke: #000000; stroke-width: 1.5;\"/><line style=\"stroke: #000000; stroke-width: 1.5;\" x1=\"48\" x2=\"79\" y1=\"232.2969\" y2=\"232.2969\"/><text fill=\"#000000\" font-family=\"sans-serif\" font-size=\"14\" font-weight=\"bold\" lengthAdjust=\"spacingAndGlyphs\" textLength=\"18\" x=\"52\" y=\"224.9951\">P1</text></a><!--MD5=[f6df4d0ebaf0b5dfb2ced0ae5af7c670]\n",
       "cluster E4--><a href=\"psysml:d8f64ef2-651e-4c07-9e19-09c43a642dc3\" target=\"_top\" title=\"psysml:d8f64ef2-651e-4c07-9e19-09c43a642dc3\" xlink:actuate=\"onRequest\" xlink:href=\"psysml:d8f64ef2-651e-4c07-9e19-09c43a642dc3\" xlink:show=\"new\" xlink:title=\"psysml:d8f64ef2-651e-4c07-9e19-09c43a642dc3\" xlink:type=\"simple\"><polygon fill=\"#FFFFFF\" points=\"40,49,64,49,71,71.2969,195,71.2969,195,153,40,153,40,49\" style=\"stroke: #000000; stroke-width: 1.5;\"/><line style=\"stroke: #000000; stroke-width: 1.5;\" x1=\"40\" x2=\"71\" y1=\"71.2969\" y2=\"71.2969\"/><text fill=\"#000000\" font-family=\"sans-serif\" font-size=\"14\" font-weight=\"bold\" lengthAdjust=\"spacingAndGlyphs\" textLength=\"18\" x=\"44\" y=\"63.9951\">P2</text></a><!--MD5=[09b614a08d8cba4a07c9adeb5e0fee81]\n",
       "class E3--><a href=\"psysml:9081ec29-06f9-459b-bb5e-85f58996f1a9\" target=\"_top\" title=\"psysml:9081ec29-06f9-459b-bb5e-85f58996f1a9\" xlink:actuate=\"onRequest\" xlink:href=\"psysml:9081ec29-06f9-459b-bb5e-85f58996f1a9\" xlink:show=\"new\" xlink:title=\"psysml:9081ec29-06f9-459b-bb5e-85f58996f1a9\" xlink:type=\"simple\"><rect fill=\"#FFFFFF\" height=\"45.9375\" id=\"E3\" style=\"stroke: #383838; stroke-width: 1.5;\" width=\"70\" x=\"72\" y=\"253\"/><text fill=\"#000000\" font-family=\"sans-serif\" font-size=\"12\" font-style=\"italic\" lengthAdjust=\"spacingAndGlyphs\" textLength=\"68\" x=\"73\" y=\"269.1387\">«part  def»</text><text fill=\"#000000\" font-family=\"sans-serif\" font-size=\"12\" lengthAdjust=\"spacingAndGlyphs\" textLength=\"8\" x=\"103\" y=\"283.1074\">A</text><line style=\"stroke: #383838; stroke-width: 1.5;\" x1=\"73\" x2=\"141\" y1=\"290.9375\" y2=\"290.9375\"/></a><!--MD5=[60a26617385b1d2d0262a64233df1f8d]\n",
       "class E6--><a href=\"psysml:b30d741d-b0a5-4dc2-b144-a7e4c27e5c46\" target=\"_top\" title=\"psysml:b30d741d-b0a5-4dc2-b144-a7e4c27e5c46\" xlink:actuate=\"onRequest\" xlink:href=\"psysml:b30d741d-b0a5-4dc2-b144-a7e4c27e5c46\" xlink:show=\"new\" xlink:title=\"psysml:b30d741d-b0a5-4dc2-b144-a7e4c27e5c46\" xlink:type=\"simple\"><rect fill=\"#FFFFFF\" height=\"45.9375\" id=\"E6\" rx=\"10\" ry=\"10\" style=\"stroke: #383838; stroke-width: 1.5;\" width=\"42\" x=\"56\" y=\"87.5\"/><text fill=\"#000000\" font-family=\"sans-serif\" font-size=\"12\" font-style=\"italic\" lengthAdjust=\"spacingAndGlyphs\" textLength=\"40\" x=\"57\" y=\"103.6387\">«part»</text><text fill=\"#000000\" font-family=\"sans-serif\" font-size=\"12\" lengthAdjust=\"spacingAndGlyphs\" textLength=\"22\" x=\"64\" y=\"117.6074\">x: A</text><line style=\"stroke: #383838; stroke-width: 1.5;\" x1=\"57\" x2=\"97\" y1=\"125.4375\" y2=\"125.4375\"/></a><a href=\"psysml:7edd138a-1c77-4581-b137-3a8c463dac94\" target=\"_top\" title=\"psysml:7edd138a-1c77-4581-b137-3a8c463dac94\" xlink:actuate=\"onRequest\" xlink:href=\"psysml:7edd138a-1c77-4581-b137-3a8c463dac94\" xlink:show=\"new\" xlink:title=\"psysml:7edd138a-1c77-4581-b137-3a8c463dac94\" xlink:type=\"simple\"><polygon fill=\"#FFFFFF\" points=\"133,84,165,84,172,106.2969,179,106.2969,179,136.5938,133,136.5938,133,84\" style=\"stroke: #000000; stroke-width: 1.5;\"/><line style=\"stroke: #000000; stroke-width: 1.5;\" x1=\"133\" x2=\"172\" y1=\"106.2969\" y2=\"106.2969\"/><text fill=\"#000000\" font-family=\"sans-serif\" font-size=\"14\" font-weight=\"bold\" lengthAdjust=\"spacingAndGlyphs\" textLength=\"26\" x=\"137\" y=\"98.9951\">P2a</text></a><!--MD5=[15ebcb19ae302d9b601edb458606d402]\n",
       "link E5 to E2--><a href=\"psysml:b8da89e1-0406-4ebb-8e6e-940fd82b8a4d\" target=\"_top\" title=\"psysml:b8da89e1-0406-4ebb-8e6e-940fd82b8a4d\" xlink:actuate=\"onRequest\" xlink:href=\"psysml:b8da89e1-0406-4ebb-8e6e-940fd82b8a4d\" xlink:show=\"new\" xlink:title=\"psysml:b8da89e1-0406-4ebb-8e6e-940fd82b8a4d\" xlink:type=\"simple\"><path d=\"M159.28,137.05 C160.735,148.365 162.5469,162.4656 164.4519,177.2955 C165.4044,184.7104 166.3802,192.3076 167.3463,199.8301 C167.5878,201.7107 167.8287,203.5867 168.0685,205.4539 C168.1884,206.3876 168.308,207.319 168.4273,208.2478 C168.4869,208.7122 168.5465,209.1759 168.6059,209.6389 \" fill=\"none\" id=\"E5-&gt;E2\" style=\"stroke: #383838; stroke-width: 1.0; stroke-dasharray: 7.0,7.0;\"/><polygon fill=\"#383838\" points=\"168.6059,209.6389,171.427,200.2027,167.9691,204.6796,163.4922,201.2217,168.6059,209.6389\" style=\"stroke: #383838; stroke-width: 1.0;\"/><text fill=\"#000000\" font-family=\"sans-serif\" font-size=\"13\" lengthAdjust=\"spacingAndGlyphs\" textLength=\"65\" x=\"166\" y=\"182.0669\">«import»*</text></a><!--MD5=[a717450b82c80b9240a525fa862496af]\n",
       "link E6 to E3--><a href=\"psysml:ce27ea1d-5c56-4308-8b0e-4b6ab5ed7604\" target=\"_top\" title=\"psysml:ce27ea1d-5c56-4308-8b0e-4b6ab5ed7604\" xlink:actuate=\"onRequest\" xlink:href=\"psysml:ce27ea1d-5c56-4308-8b0e-4b6ab5ed7604\" xlink:show=\"new\" xlink:title=\"psysml:ce27ea1d-5c56-4308-8b0e-4b6ab5ed7604\" xlink:type=\"simple\"><path d=\"M81.05,133.55 C85.7,158.9 93.44,201.1 99.26,232.83 \" fill=\"none\" id=\"E6-&gt;E3\" style=\"stroke: #383838; stroke-width: 1.0;\"/><polygon fill=\"#FFFFFF\" points=\"102.92,252.78,92.6018,235.3578,106.3713,232.8278,102.92,252.78\" style=\"stroke: #383838; stroke-width: 1.0;\"/><ellipse cx=\"93.5388\" cy=\"229.3902\" fill=\"#383838\" rx=\"2\" ry=\"2\" style=\"stroke: #383838; stroke-width: 1.0;\"/><ellipse cx=\"103.3742\" cy=\"227.5831\" fill=\"#383838\" rx=\"2\" ry=\"2\" style=\"stroke: #383838; stroke-width: 1.0;\"/></a><!--MD5=[537fd41b85dbec243d2337afde876a13]\n",
       "@startuml\r\n",
       "top to bottom direction\r\n",
       "skinparam monochrome true\r\n",
       "skinparam classbackgroundcolor white\r\n",
       "skinparam shadowing false\r\n",
       "skinparam wrapWidth 300\r\n",
       "hide circle\r\n",
       "\r\n",
       "package \"QualifiedNameImportTest\" as E1  [[psysml:091e42f3-dddd-4d90-8666-606f19fb366e ]]  {\r\n",
       "package \"P1\" as E2  [[psysml:63fd19d7-856c-4154-ab3f-5f7beb933c6f ]]  {\r\n",
       "comp def \"A\" as E3  <<(T,blue) part  def>> [[psysml:9081ec29-06f9-459b-bb5e-85f58996f1a9 ]] {\r\n",
       "}\r\n",
       "}\r\n",
       "package \"P2\" as E4  [[psysml:d8f64ef2-651e-4c07-9e19-09c43a642dc3 ]]  {\r\n",
       "package \"P2a\" as E5  [[psysml:7edd138a-1c77-4581-b137-3a8c463dac94 ]]  {\r\n",
       "}\r\n",
       "comp usage \"x: A \" as E6  <<(T,blue) part>> [[psysml:b30d741d-b0a5-4dc2-b144-a7e4c27e5c46 ]] {\r\n",
       "}\r\n",
       "}\r\n",
       "}\r\n",
       "E5 ..> E2 [[psysml:b8da89e1-0406-4ebb-8e6e-940fd82b8a4d ]] : <<import>>*\r\n",
       "E6 - -:|> E3 [[psysml:ce27ea1d-5c56-4308-8b0e-4b6ab5ed7604 ]] \r\n",
       "@enduml\r\n",
       "\n",
       "PlantUML version 1.2020.13(Sat Jun 13 12:26:38 UTC 2020)\n",
       "(EPL source distribution)\n",
       "Java Runtime: OpenJDK Runtime Environment\n",
       "JVM: OpenJDK 64-Bit Server VM\n",
       "Default Encoding: UTF-8\n",
       "Language: en\n",
       "Country: null\n",
       "--></g></svg>"
      ]
     },
     "execution_count": 44,
     "metadata": {},
     "output_type": "execute_result"
    }
   ],
   "source": [
    "%viz --style=\"TB\" --view=\"Default\" \"QualifiedNameImportTest\""
   ]
  },
  {
   "cell_type": "code",
   "execution_count": 45,
   "id": "a3da8c4e",
   "metadata": {
    "execution": {
     "iopub.execute_input": "2022-02-18T10:50:03.945870Z",
     "iopub.status.busy": "2022-02-18T10:50:03.945443Z",
     "iopub.status.idle": "2022-02-18T10:50:03.974934Z",
     "shell.execute_reply": "2022-02-18T10:50:03.973644Z"
    }
   },
   "outputs": [
    {
     "data": {
      "image/svg+xml": [
       "<?xml version=\"1.0\" encoding=\"UTF-8\" standalone=\"no\"?><svg xmlns=\"http://www.w3.org/2000/svg\" xmlns:xlink=\"http://www.w3.org/1999/xlink\" contentScriptType=\"application/ecmascript\" contentStyleType=\"text/css\" height=\"367px\" preserveAspectRatio=\"none\" style=\"width:243px;height:367px;\" version=\"1.1\" viewBox=\"0 0 243 367\" width=\"243px\" zoomAndPan=\"magnify\"><defs/><g><!--MD5=[fbc87193dbaf4d95561dea2c320d4a47]\n",
       "cluster E1--><a href=\"psysml:091e42f3-dddd-4d90-8666-606f19fb366e\" target=\"_top\" title=\"psysml:091e42f3-dddd-4d90-8666-606f19fb366e\" xlink:actuate=\"onRequest\" xlink:href=\"psysml:091e42f3-dddd-4d90-8666-606f19fb366e\" xlink:show=\"new\" xlink:title=\"psysml:091e42f3-dddd-4d90-8666-606f19fb366e\" xlink:type=\"simple\"><polygon fill=\"#FFFFFF\" points=\"16,6,196,6,203,28.2969,219,28.2969,219,355,16,355,16,6\" style=\"stroke: #000000; stroke-width: 1.5;\"/><line style=\"stroke: #000000; stroke-width: 1.5;\" x1=\"16\" x2=\"203\" y1=\"28.2969\" y2=\"28.2969\"/><text fill=\"#000000\" font-family=\"sans-serif\" font-size=\"14\" font-weight=\"bold\" lengthAdjust=\"spacingAndGlyphs\" textLength=\"174\" x=\"20\" y=\"20.9951\">QualifiedNameImportTest</text></a><!--MD5=[e4f7fae6ed58524ba242bb0b0d3be6b7]\n",
       "cluster E2--><a href=\"psysml:63fd19d7-856c-4154-ab3f-5f7beb933c6f\" target=\"_top\" title=\"psysml:63fd19d7-856c-4154-ab3f-5f7beb933c6f\" xlink:actuate=\"onRequest\" xlink:href=\"psysml:63fd19d7-856c-4154-ab3f-5f7beb933c6f\" xlink:show=\"new\" xlink:title=\"psysml:63fd19d7-856c-4154-ab3f-5f7beb933c6f\" xlink:type=\"simple\"><polygon fill=\"#FFFFFF\" points=\"48,210,72,210,79,232.2969,185,232.2969,185,323,48,323,48,210\" style=\"stroke: #000000; stroke-width: 1.5;\"/><line style=\"stroke: #000000; stroke-width: 1.5;\" x1=\"48\" x2=\"79\" y1=\"232.2969\" y2=\"232.2969\"/><text fill=\"#000000\" font-family=\"sans-serif\" font-size=\"14\" font-weight=\"bold\" lengthAdjust=\"spacingAndGlyphs\" textLength=\"18\" x=\"52\" y=\"224.9951\">P1</text></a><!--MD5=[f6df4d0ebaf0b5dfb2ced0ae5af7c670]\n",
       "cluster E4--><a href=\"psysml:d8f64ef2-651e-4c07-9e19-09c43a642dc3\" target=\"_top\" title=\"psysml:d8f64ef2-651e-4c07-9e19-09c43a642dc3\" xlink:actuate=\"onRequest\" xlink:href=\"psysml:d8f64ef2-651e-4c07-9e19-09c43a642dc3\" xlink:show=\"new\" xlink:title=\"psysml:d8f64ef2-651e-4c07-9e19-09c43a642dc3\" xlink:type=\"simple\"><polygon fill=\"#FFFFFF\" points=\"40,49,64,49,71,71.2969,195,71.2969,195,153,40,153,40,49\" style=\"stroke: #000000; stroke-width: 1.5;\"/><line style=\"stroke: #000000; stroke-width: 1.5;\" x1=\"40\" x2=\"71\" y1=\"71.2969\" y2=\"71.2969\"/><text fill=\"#000000\" font-family=\"sans-serif\" font-size=\"14\" font-weight=\"bold\" lengthAdjust=\"spacingAndGlyphs\" textLength=\"18\" x=\"44\" y=\"63.9951\">P2</text></a><!--MD5=[09b614a08d8cba4a07c9adeb5e0fee81]\n",
       "class E3--><a href=\"psysml:9081ec29-06f9-459b-bb5e-85f58996f1a9\" target=\"_top\" title=\"psysml:9081ec29-06f9-459b-bb5e-85f58996f1a9\" xlink:actuate=\"onRequest\" xlink:href=\"psysml:9081ec29-06f9-459b-bb5e-85f58996f1a9\" xlink:show=\"new\" xlink:title=\"psysml:9081ec29-06f9-459b-bb5e-85f58996f1a9\" xlink:type=\"simple\"><rect fill=\"#FFFFFF\" height=\"45.9375\" id=\"E3\" style=\"stroke: #383838; stroke-width: 1.5;\" width=\"70\" x=\"72\" y=\"253\"/><text fill=\"#000000\" font-family=\"sans-serif\" font-size=\"12\" font-style=\"italic\" lengthAdjust=\"spacingAndGlyphs\" textLength=\"68\" x=\"73\" y=\"269.1387\">«part  def»</text><text fill=\"#000000\" font-family=\"sans-serif\" font-size=\"12\" lengthAdjust=\"spacingAndGlyphs\" textLength=\"8\" x=\"103\" y=\"283.1074\">A</text><line style=\"stroke: #383838; stroke-width: 1.5;\" x1=\"73\" x2=\"141\" y1=\"290.9375\" y2=\"290.9375\"/></a><!--MD5=[60a26617385b1d2d0262a64233df1f8d]\n",
       "class E6--><a href=\"psysml:b30d741d-b0a5-4dc2-b144-a7e4c27e5c46\" target=\"_top\" title=\"psysml:b30d741d-b0a5-4dc2-b144-a7e4c27e5c46\" xlink:actuate=\"onRequest\" xlink:href=\"psysml:b30d741d-b0a5-4dc2-b144-a7e4c27e5c46\" xlink:show=\"new\" xlink:title=\"psysml:b30d741d-b0a5-4dc2-b144-a7e4c27e5c46\" xlink:type=\"simple\"><rect fill=\"#FFFFFF\" height=\"45.9375\" id=\"E6\" rx=\"10\" ry=\"10\" style=\"stroke: #383838; stroke-width: 1.5;\" width=\"42\" x=\"56\" y=\"87.5\"/><text fill=\"#000000\" font-family=\"sans-serif\" font-size=\"12\" font-style=\"italic\" lengthAdjust=\"spacingAndGlyphs\" textLength=\"40\" x=\"57\" y=\"103.6387\">«part»</text><text fill=\"#000000\" font-family=\"sans-serif\" font-size=\"12\" lengthAdjust=\"spacingAndGlyphs\" textLength=\"22\" x=\"64\" y=\"117.6074\">x: A</text><line style=\"stroke: #383838; stroke-width: 1.5;\" x1=\"57\" x2=\"97\" y1=\"125.4375\" y2=\"125.4375\"/></a><a href=\"psysml:7edd138a-1c77-4581-b137-3a8c463dac94\" target=\"_top\" title=\"psysml:7edd138a-1c77-4581-b137-3a8c463dac94\" xlink:actuate=\"onRequest\" xlink:href=\"psysml:7edd138a-1c77-4581-b137-3a8c463dac94\" xlink:show=\"new\" xlink:title=\"psysml:7edd138a-1c77-4581-b137-3a8c463dac94\" xlink:type=\"simple\"><polygon fill=\"#FFFFFF\" points=\"133,84,165,84,172,106.2969,179,106.2969,179,136.5938,133,136.5938,133,84\" style=\"stroke: #000000; stroke-width: 1.5;\"/><line style=\"stroke: #000000; stroke-width: 1.5;\" x1=\"133\" x2=\"172\" y1=\"106.2969\" y2=\"106.2969\"/><text fill=\"#000000\" font-family=\"sans-serif\" font-size=\"14\" font-weight=\"bold\" lengthAdjust=\"spacingAndGlyphs\" textLength=\"26\" x=\"137\" y=\"98.9951\">P2a</text></a><!--MD5=[15ebcb19ae302d9b601edb458606d402]\n",
       "link E5 to E2--><a href=\"psysml:b8da89e1-0406-4ebb-8e6e-940fd82b8a4d\" target=\"_top\" title=\"psysml:b8da89e1-0406-4ebb-8e6e-940fd82b8a4d\" xlink:actuate=\"onRequest\" xlink:href=\"psysml:b8da89e1-0406-4ebb-8e6e-940fd82b8a4d\" xlink:show=\"new\" xlink:title=\"psysml:b8da89e1-0406-4ebb-8e6e-940fd82b8a4d\" xlink:type=\"simple\"><path d=\"M159.28,137.05 C160.735,148.365 162.5469,162.4656 164.4519,177.2955 C165.4044,184.7104 166.3802,192.3076 167.3463,199.8301 C167.5878,201.7107 167.8287,203.5867 168.0685,205.4539 C168.1884,206.3876 168.308,207.319 168.4273,208.2478 C168.4869,208.7122 168.5465,209.1759 168.6059,209.6389 \" fill=\"none\" id=\"E5-&gt;E2\" style=\"stroke: #383838; stroke-width: 1.0; stroke-dasharray: 7.0,7.0;\"/><polygon fill=\"#383838\" points=\"168.6059,209.6389,171.427,200.2027,167.9691,204.6796,163.4922,201.2217,168.6059,209.6389\" style=\"stroke: #383838; stroke-width: 1.0;\"/><text fill=\"#000000\" font-family=\"sans-serif\" font-size=\"13\" lengthAdjust=\"spacingAndGlyphs\" textLength=\"65\" x=\"166\" y=\"182.0669\">«import»*</text></a><!--MD5=[a717450b82c80b9240a525fa862496af]\n",
       "link E6 to E3--><a href=\"psysml:ce27ea1d-5c56-4308-8b0e-4b6ab5ed7604\" target=\"_top\" title=\"psysml:ce27ea1d-5c56-4308-8b0e-4b6ab5ed7604\" xlink:actuate=\"onRequest\" xlink:href=\"psysml:ce27ea1d-5c56-4308-8b0e-4b6ab5ed7604\" xlink:show=\"new\" xlink:title=\"psysml:ce27ea1d-5c56-4308-8b0e-4b6ab5ed7604\" xlink:type=\"simple\"><path d=\"M81.05,133.55 C85.7,158.9 93.44,201.1 99.26,232.83 \" fill=\"none\" id=\"E6-&gt;E3\" style=\"stroke: #383838; stroke-width: 1.0;\"/><polygon fill=\"#FFFFFF\" points=\"102.92,252.78,92.6018,235.3578,106.3713,232.8278,102.92,252.78\" style=\"stroke: #383838; stroke-width: 1.0;\"/><ellipse cx=\"93.5388\" cy=\"229.3902\" fill=\"#383838\" rx=\"2\" ry=\"2\" style=\"stroke: #383838; stroke-width: 1.0;\"/><ellipse cx=\"103.3742\" cy=\"227.5831\" fill=\"#383838\" rx=\"2\" ry=\"2\" style=\"stroke: #383838; stroke-width: 1.0;\"/></a><!--MD5=[537fd41b85dbec243d2337afde876a13]\n",
       "@startuml\r\n",
       "top to bottom direction\r\n",
       "skinparam monochrome true\r\n",
       "skinparam classbackgroundcolor white\r\n",
       "skinparam shadowing false\r\n",
       "skinparam wrapWidth 300\r\n",
       "hide circle\r\n",
       "\r\n",
       "package \"QualifiedNameImportTest\" as E1  [[psysml:091e42f3-dddd-4d90-8666-606f19fb366e ]]  {\r\n",
       "package \"P1\" as E2  [[psysml:63fd19d7-856c-4154-ab3f-5f7beb933c6f ]]  {\r\n",
       "comp def \"A\" as E3  <<(T,blue) part  def>> [[psysml:9081ec29-06f9-459b-bb5e-85f58996f1a9 ]] {\r\n",
       "}\r\n",
       "}\r\n",
       "package \"P2\" as E4  [[psysml:d8f64ef2-651e-4c07-9e19-09c43a642dc3 ]]  {\r\n",
       "package \"P2a\" as E5  [[psysml:7edd138a-1c77-4581-b137-3a8c463dac94 ]]  {\r\n",
       "}\r\n",
       "comp usage \"x: A \" as E6  <<(T,blue) part>> [[psysml:b30d741d-b0a5-4dc2-b144-a7e4c27e5c46 ]] {\r\n",
       "}\r\n",
       "}\r\n",
       "}\r\n",
       "E5 ..> E2 [[psysml:b8da89e1-0406-4ebb-8e6e-940fd82b8a4d ]] : <<import>>*\r\n",
       "E6 - -:|> E3 [[psysml:ce27ea1d-5c56-4308-8b0e-4b6ab5ed7604 ]] \r\n",
       "@enduml\r\n",
       "\n",
       "PlantUML version 1.2020.13(Sat Jun 13 12:26:38 UTC 2020)\n",
       "(EPL source distribution)\n",
       "Java Runtime: OpenJDK Runtime Environment\n",
       "JVM: OpenJDK 64-Bit Server VM\n",
       "Default Encoding: UTF-8\n",
       "Language: en\n",
       "Country: null\n",
       "--></g></svg>"
      ]
     },
     "execution_count": 45,
     "metadata": {},
     "output_type": "execute_result"
    }
   ],
   "source": [
    "%viz --style=\"TB\" --view=\"Tree\" \"QualifiedNameImportTest\""
   ]
  },
  {
   "cell_type": "code",
   "execution_count": 46,
   "id": "2f696fe1",
   "metadata": {
    "execution": {
     "iopub.execute_input": "2022-02-18T10:50:04.024341Z",
     "iopub.status.busy": "2022-02-18T10:50:04.023945Z",
     "iopub.status.idle": "2022-02-18T10:50:04.028643Z",
     "shell.execute_reply": "2022-02-18T10:50:04.028297Z"
    }
   },
   "outputs": [
    {
     "data": {
      "image/svg+xml": [
       "<?xml version=\"1.0\" encoding=\"UTF-8\" standalone=\"no\"?><svg xmlns=\"http://www.w3.org/2000/svg\" xmlns:xlink=\"http://www.w3.org/1999/xlink\" contentScriptType=\"application/ecmascript\" contentStyleType=\"text/css\" height=\"12px\" preserveAspectRatio=\"none\" style=\"width:12px;height:12px;\" version=\"1.1\" viewBox=\"0 0 12 12\" width=\"12px\" zoomAndPan=\"magnify\"><defs/><g><!--MD5=[f4ee21bc66e489b5061b7c3e9601fdef]\n",
       "@startuml\r\n",
       "top to bottom direction\r\n",
       "skinparam monochrome true\r\n",
       "skinparam classbackgroundcolor white\r\n",
       "skinparam shadowing false\r\n",
       "skinparam wrapWidth 300\r\n",
       "hide circle\r\n",
       "\r\n",
       "@enduml\r\n",
       "\n",
       "PlantUML version 1.2020.13(Sat Jun 13 12:26:38 UTC 2020)\n",
       "(EPL source distribution)\n",
       "Java Runtime: OpenJDK Runtime Environment\n",
       "JVM: OpenJDK 64-Bit Server VM\n",
       "Default Encoding: UTF-8\n",
       "Language: en\n",
       "Country: null\n",
       "--></g></svg>"
      ]
     },
     "execution_count": 46,
     "metadata": {},
     "output_type": "execute_result"
    }
   ],
   "source": [
    "%viz --style=\"TB\" --view=\"State\" \"QualifiedNameImportTest\""
   ]
  },
  {
   "cell_type": "code",
   "execution_count": 47,
   "id": "98b7fc79",
   "metadata": {
    "execution": {
     "iopub.execute_input": "2022-02-18T10:50:04.078534Z",
     "iopub.status.busy": "2022-02-18T10:50:04.078116Z",
     "iopub.status.idle": "2022-02-18T10:50:04.106264Z",
     "shell.execute_reply": "2022-02-18T10:50:04.105756Z"
    }
   },
   "outputs": [
    {
     "data": {
      "image/svg+xml": [
       "<?xml version=\"1.0\" encoding=\"UTF-8\" standalone=\"no\"?><svg xmlns=\"http://www.w3.org/2000/svg\" xmlns:xlink=\"http://www.w3.org/1999/xlink\" contentScriptType=\"application/ecmascript\" contentStyleType=\"text/css\" height=\"364px\" preserveAspectRatio=\"none\" style=\"width:249px;height:364px;\" version=\"1.1\" viewBox=\"0 0 249 364\" width=\"249px\" zoomAndPan=\"magnify\"><defs/><g><!--MD5=[fbc87193dbaf4d95561dea2c320d4a47]\n",
       "cluster E1--><a href=\"psysml:091e42f3-dddd-4d90-8666-606f19fb366e\" target=\"_top\" title=\"psysml:091e42f3-dddd-4d90-8666-606f19fb366e\" xlink:actuate=\"onRequest\" xlink:href=\"psysml:091e42f3-dddd-4d90-8666-606f19fb366e\" xlink:show=\"new\" xlink:title=\"psysml:091e42f3-dddd-4d90-8666-606f19fb366e\" xlink:type=\"simple\"><polygon fill=\"#FFFFFF\" points=\"16,6,196,6,203,28.2969,227,28.2969,227,352,16,352,16,6\" style=\"stroke: #000000; stroke-width: 1.5;\"/><line style=\"stroke: #000000; stroke-width: 1.5;\" x1=\"16\" x2=\"203\" y1=\"28.2969\" y2=\"28.2969\"/><text fill=\"#000000\" font-family=\"sans-serif\" font-size=\"14\" font-weight=\"bold\" lengthAdjust=\"spacingAndGlyphs\" textLength=\"174\" x=\"20\" y=\"20.9951\">QualifiedNameImportTest</text></a><!--MD5=[e4f7fae6ed58524ba242bb0b0d3be6b7]\n",
       "cluster E2--><a href=\"psysml:63fd19d7-856c-4154-ab3f-5f7beb933c6f\" target=\"_top\" title=\"psysml:63fd19d7-856c-4154-ab3f-5f7beb933c6f\" xlink:actuate=\"onRequest\" xlink:href=\"psysml:63fd19d7-856c-4154-ab3f-5f7beb933c6f\" xlink:show=\"new\" xlink:title=\"psysml:63fd19d7-856c-4154-ab3f-5f7beb933c6f\" xlink:type=\"simple\"><polygon fill=\"#FFFFFF\" points=\"53,210,77,210,84,232.2969,195,232.2969,195,320,53,320,53,210\" style=\"stroke: #000000; stroke-width: 1.5;\"/><line style=\"stroke: #000000; stroke-width: 1.5;\" x1=\"53\" x2=\"84\" y1=\"232.2969\" y2=\"232.2969\"/><text fill=\"#000000\" font-family=\"sans-serif\" font-size=\"14\" font-weight=\"bold\" lengthAdjust=\"spacingAndGlyphs\" textLength=\"18\" x=\"57\" y=\"224.9951\">P1</text></a><!--MD5=[f6df4d0ebaf0b5dfb2ced0ae5af7c670]\n",
       "cluster E4--><a href=\"psysml:d8f64ef2-651e-4c07-9e19-09c43a642dc3\" target=\"_top\" title=\"psysml:d8f64ef2-651e-4c07-9e19-09c43a642dc3\" xlink:actuate=\"onRequest\" xlink:href=\"psysml:d8f64ef2-651e-4c07-9e19-09c43a642dc3\" xlink:show=\"new\" xlink:title=\"psysml:d8f64ef2-651e-4c07-9e19-09c43a642dc3\" xlink:type=\"simple\"><polygon fill=\"#FFFFFF\" points=\"40,49,64,49,71,71.2969,203,71.2969,203,153,40,153,40,49\" style=\"stroke: #000000; stroke-width: 1.5;\"/><line style=\"stroke: #000000; stroke-width: 1.5;\" x1=\"40\" x2=\"71\" y1=\"71.2969\" y2=\"71.2969\"/><text fill=\"#000000\" font-family=\"sans-serif\" font-size=\"14\" font-weight=\"bold\" lengthAdjust=\"spacingAndGlyphs\" textLength=\"18\" x=\"44\" y=\"63.9951\">P2</text></a><g id=\"E1.E2.E3\"><a href=\"psysml:9081ec29-06f9-459b-bb5e-85f58996f1a9\" target=\"_top\" title=\"psysml:9081ec29-06f9-459b-bb5e-85f58996f1a9\" xlink:actuate=\"onRequest\" xlink:href=\"psysml:9081ec29-06f9-459b-bb5e-85f58996f1a9\" xlink:show=\"new\" xlink:title=\"psysml:9081ec29-06f9-459b-bb5e-85f58996f1a9\" xlink:type=\"simple\"><rect fill=\"#FFFFFF\" height=\"42.9375\" id=\"E3\" style=\"stroke: #383838; stroke-width: 1.5;\" width=\"75\" x=\"96.5\" y=\"253\"/><rect fill=\"#F8F8F8\" height=\"37.9375\" style=\"stroke: #383838; stroke-width: 1.5;\" width=\"75\" x=\"96.5\" y=\"253\"/><text fill=\"#000000\" font-family=\"sans-serif\" font-size=\"12\" font-style=\"italic\" lengthAdjust=\"spacingAndGlyphs\" textLength=\"68\" x=\"100\" y=\"269.1387\">«part  def»</text><text fill=\"#000000\" font-family=\"sans-serif\" font-size=\"12\" lengthAdjust=\"spacingAndGlyphs\" textLength=\"8\" x=\"130\" y=\"283.1074\">A</text></a></g><a href=\"psysml:7edd138a-1c77-4581-b137-3a8c463dac94\" target=\"_top\" title=\"psysml:7edd138a-1c77-4581-b137-3a8c463dac94\" xlink:actuate=\"onRequest\" xlink:href=\"psysml:7edd138a-1c77-4581-b137-3a8c463dac94\" xlink:show=\"new\" xlink:title=\"psysml:7edd138a-1c77-4581-b137-3a8c463dac94\" xlink:type=\"simple\"><polygon fill=\"#FFFFFF\" points=\"141,84,173,84,180,106.2969,187,106.2969,187,136.5938,141,136.5938,141,84\" style=\"stroke: #000000; stroke-width: 1.5;\"/><line style=\"stroke: #000000; stroke-width: 1.5;\" x1=\"141\" x2=\"180\" y1=\"106.2969\" y2=\"106.2969\"/><text fill=\"#000000\" font-family=\"sans-serif\" font-size=\"14\" font-weight=\"bold\" lengthAdjust=\"spacingAndGlyphs\" textLength=\"26\" x=\"145\" y=\"98.9951\">P2a</text></a><g id=\"E1.E4.E6\"><a href=\"psysml:b30d741d-b0a5-4dc2-b144-a7e4c27e5c46\" target=\"_top\" title=\"psysml:b30d741d-b0a5-4dc2-b144-a7e4c27e5c46\" xlink:actuate=\"onRequest\" xlink:href=\"psysml:b30d741d-b0a5-4dc2-b144-a7e4c27e5c46\" xlink:show=\"new\" xlink:title=\"psysml:b30d741d-b0a5-4dc2-b144-a7e4c27e5c46\" xlink:type=\"simple\"><rect fill=\"#FFFFFF\" height=\"40\" id=\"E6\" rx=\"10\" ry=\"10\" style=\"stroke: #383838; stroke-width: 1.5;\" width=\"50\" x=\"56\" y=\"90.5\"/><rect fill=\"#F8F8F8\" height=\"23.9688\" rx=\"10\" ry=\"10\" style=\"stroke: #F8F8F8; stroke-width: 1.5;\" width=\"50\" x=\"56\" y=\"90.5\"/><rect fill=\"#F8F8F8\" height=\"10\" style=\"stroke: #F8F8F8; stroke-width: 1.5;\" width=\"50\" x=\"56\" y=\"104.4688\"/><rect fill=\"none\" height=\"40\" id=\"E6\" rx=\"10\" ry=\"10\" style=\"stroke: #383838; stroke-width: 1.5;\" width=\"50\" x=\"56\" y=\"90.5\"/><text fill=\"#000000\" font-family=\"sans-serif\" font-size=\"12\" lengthAdjust=\"spacingAndGlyphs\" textLength=\"22\" x=\"70\" y=\"106.6387\">x: A</text></a></g><!--MD5=[15ebcb19ae302d9b601edb458606d402]\n",
       "link E5 to E2--><a href=\"psysml:b8da89e1-0406-4ebb-8e6e-940fd82b8a4d\" target=\"_top\" title=\"psysml:b8da89e1-0406-4ebb-8e6e-940fd82b8a4d\" xlink:actuate=\"onRequest\" xlink:href=\"psysml:b8da89e1-0406-4ebb-8e6e-940fd82b8a4d\" xlink:show=\"new\" xlink:title=\"psysml:b8da89e1-0406-4ebb-8e6e-940fd82b8a4d\" xlink:type=\"simple\"><path d=\"M145.15,137.17 C138.8,145.15 131.44,153.75 124,161 C106.75,177.82 94.23,173.87 81,194 C78.5775,197.6875 76.4484,201.6477 74.5773,205.7604 C74.1095,206.7885 73.6578,207.8263 73.2217,208.8716 C73.1127,209.133 73.0046,209.3948 72.8975,209.6571 \" fill=\"none\" id=\"E5-&gt;E2\" style=\"stroke: #383838; stroke-width: 1.0; stroke-dasharray: 7.0,7.0;\"/><polygon fill=\"#383838\" points=\"72.8975,209.6571,80.0029,202.837,74.7876,205.0281,72.5965,199.8128,72.8975,209.6571\" style=\"stroke: #383838; stroke-width: 1.0;\"/><text fill=\"#000000\" font-family=\"sans-serif\" font-size=\"13\" lengthAdjust=\"spacingAndGlyphs\" textLength=\"65\" x=\"114\" y=\"182.0669\">«import»*</text></a><!--MD5=[db4112ff5530018edc7f4c9887e4f18c]\n",
       "@startuml\r\n",
       "skinparam ranksep 10\r\n",
       "skinparam rectangle {\r\n",
       " backgroundColor<<block>> LightGreen\r\n",
       "}\r\n",
       "top to bottom direction\r\n",
       "skinparam monochrome true\r\n",
       "skinparam classbackgroundcolor white\r\n",
       "skinparam shadowing false\r\n",
       "skinparam wrapWidth 300\r\n",
       "hide circle\r\n",
       "\r\n",
       "package \"QualifiedNameImportTest\" as E1  [[psysml:091e42f3-dddd-4d90-8666-606f19fb366e ]]  {\r\n",
       "package \"P1\" as E2  [[psysml:63fd19d7-856c-4154-ab3f-5f7beb933c6f ]]  {\r\n",
       "rec def \"A\" as E3  <<(T,blue) part  def>> [[psysml:9081ec29-06f9-459b-bb5e-85f58996f1a9 ]] {\r\n",
       "}\r\n",
       "}\r\n",
       "package \"P2\" as E4  [[psysml:d8f64ef2-651e-4c07-9e19-09c43a642dc3 ]]  {\r\n",
       "package \"P2a\" as E5  [[psysml:7edd138a-1c77-4581-b137-3a8c463dac94 ]]  {\r\n",
       "}\r\n",
       "rec usage \"x: A\" as E6  [[psysml:b30d741d-b0a5-4dc2-b144-a7e4c27e5c46 ]] {\r\n",
       "}\r\n",
       "}\r\n",
       "}\r\n",
       "E5 ..> E2 [[psysml:b8da89e1-0406-4ebb-8e6e-940fd82b8a4d ]] : <<import>>*\r\n",
       "@enduml\r\n",
       "\n",
       "PlantUML version 1.2020.13(Sat Jun 13 12:26:38 UTC 2020)\n",
       "(EPL source distribution)\n",
       "Java Runtime: OpenJDK Runtime Environment\n",
       "JVM: OpenJDK 64-Bit Server VM\n",
       "Default Encoding: UTF-8\n",
       "Language: en\n",
       "Country: null\n",
       "--></g></svg>"
      ]
     },
     "execution_count": 47,
     "metadata": {},
     "output_type": "execute_result"
    }
   ],
   "source": [
    "%viz --style=\"TB\" --view=\"Interconnection\" \"QualifiedNameImportTest\""
   ]
  },
  {
   "cell_type": "code",
   "execution_count": 48,
   "id": "b3300b5a",
   "metadata": {
    "execution": {
     "iopub.execute_input": "2022-02-18T10:50:04.155702Z",
     "iopub.status.busy": "2022-02-18T10:50:04.155194Z",
     "iopub.status.idle": "2022-02-18T10:50:04.160415Z",
     "shell.execute_reply": "2022-02-18T10:50:04.160039Z"
    }
   },
   "outputs": [
    {
     "data": {
      "image/svg+xml": [
       "<?xml version=\"1.0\" encoding=\"UTF-8\" standalone=\"no\"?><svg xmlns=\"http://www.w3.org/2000/svg\" xmlns:xlink=\"http://www.w3.org/1999/xlink\" contentScriptType=\"application/ecmascript\" contentStyleType=\"text/css\" height=\"12px\" preserveAspectRatio=\"none\" style=\"width:12px;height:12px;\" version=\"1.1\" viewBox=\"0 0 12 12\" width=\"12px\" zoomAndPan=\"magnify\"><defs/><g><!--MD5=[06afc254b03ac5e9d9fb7773b07d0800]\n",
       "@startuml\r\n",
       "skinparam ranksep 8\r\n",
       "top to bottom direction\r\n",
       "skinparam monochrome true\r\n",
       "skinparam classbackgroundcolor white\r\n",
       "skinparam shadowing false\r\n",
       "skinparam wrapWidth 300\r\n",
       "hide circle\r\n",
       "\r\n",
       "@enduml\r\n",
       "\n",
       "PlantUML version 1.2020.13(Sat Jun 13 12:26:38 UTC 2020)\n",
       "(EPL source distribution)\n",
       "Java Runtime: OpenJDK Runtime Environment\n",
       "JVM: OpenJDK 64-Bit Server VM\n",
       "Default Encoding: UTF-8\n",
       "Language: en\n",
       "Country: null\n",
       "--></g></svg>"
      ]
     },
     "execution_count": 48,
     "metadata": {},
     "output_type": "execute_result"
    }
   ],
   "source": [
    "%viz --style=\"TB\" --view=\"Action\" \"QualifiedNameImportTest\""
   ]
  },
  {
   "cell_type": "code",
   "execution_count": 49,
   "id": "95c46c84",
   "metadata": {
    "execution": {
     "iopub.execute_input": "2022-02-18T10:50:04.210256Z",
     "iopub.status.busy": "2022-02-18T10:50:04.209814Z",
     "iopub.status.idle": "2022-02-18T10:50:04.215184Z",
     "shell.execute_reply": "2022-02-18T10:50:04.214807Z"
    }
   },
   "outputs": [
    {
     "data": {
      "image/svg+xml": [
       "<?xml version=\"1.0\" encoding=\"UTF-8\" standalone=\"no\"?><svg xmlns=\"http://www.w3.org/2000/svg\" xmlns:xlink=\"http://www.w3.org/1999/xlink\" contentScriptType=\"application/ecmascript\" contentStyleType=\"text/css\" height=\"12px\" preserveAspectRatio=\"none\" style=\"width:12px;height:12px;\" version=\"1.1\" viewBox=\"0 0 12 12\" width=\"12px\" zoomAndPan=\"magnify\"><defs/><g><!--MD5=[e1ab0c84c44d2fef8bf5f140f2689906]\n",
       "@startuml\r\n",
       "skinparam roundcorner 20\r\n",
       "skinparam BoxPadding 20\r\n",
       "skinparam SequenceBoxBackgroundColor #white\r\n",
       "skinparam style strictuml\r\n",
       "skinparam maxMessageSize 100\r\n",
       "top to bottom direction\r\n",
       "skinparam monochrome true\r\n",
       "skinparam classbackgroundcolor white\r\n",
       "skinparam shadowing false\r\n",
       "skinparam wrapWidth 300\r\n",
       "hide circle\r\n",
       "\r\n",
       "@enduml\r\n",
       "\n",
       "PlantUML version 1.2020.13(Sat Jun 13 12:26:38 UTC 2020)\n",
       "(EPL source distribution)\n",
       "Java Runtime: OpenJDK Runtime Environment\n",
       "JVM: OpenJDK 64-Bit Server VM\n",
       "Default Encoding: UTF-8\n",
       "Language: en\n",
       "Country: null\n",
       "--></g></svg>"
      ]
     },
     "execution_count": 49,
     "metadata": {},
     "output_type": "execute_result"
    }
   ],
   "source": [
    "%viz --style=\"TB\" --view=\"Sequence\" \"QualifiedNameImportTest\""
   ]
  },
  {
   "cell_type": "code",
   "execution_count": 50,
   "id": "97c14779",
   "metadata": {
    "execution": {
     "iopub.execute_input": "2022-02-18T10:50:04.265208Z",
     "iopub.status.busy": "2022-02-18T10:50:04.264747Z",
     "iopub.status.idle": "2022-02-18T10:50:04.295707Z",
     "shell.execute_reply": "2022-02-18T10:50:04.293631Z"
    }
   },
   "outputs": [
    {
     "data": {
      "image/svg+xml": [
       "<?xml version=\"1.0\" encoding=\"UTF-8\" standalone=\"no\"?><svg xmlns=\"http://www.w3.org/2000/svg\" xmlns:xlink=\"http://www.w3.org/1999/xlink\" contentScriptType=\"application/ecmascript\" contentStyleType=\"text/css\" height=\"367px\" preserveAspectRatio=\"none\" style=\"width:243px;height:367px;\" version=\"1.1\" viewBox=\"0 0 243 367\" width=\"243px\" zoomAndPan=\"magnify\"><defs/><g><!--MD5=[fbc87193dbaf4d95561dea2c320d4a47]\n",
       "cluster E1--><a href=\"psysml:091e42f3-dddd-4d90-8666-606f19fb366e\" target=\"_top\" title=\"psysml:091e42f3-dddd-4d90-8666-606f19fb366e\" xlink:actuate=\"onRequest\" xlink:href=\"psysml:091e42f3-dddd-4d90-8666-606f19fb366e\" xlink:show=\"new\" xlink:title=\"psysml:091e42f3-dddd-4d90-8666-606f19fb366e\" xlink:type=\"simple\"><polygon fill=\"#FFFFFF\" points=\"16,6,196,6,203,28.2969,219,28.2969,219,355,16,355,16,6\" style=\"stroke: #000000; stroke-width: 1.5;\"/><line style=\"stroke: #000000; stroke-width: 1.5;\" x1=\"16\" x2=\"203\" y1=\"28.2969\" y2=\"28.2969\"/><text fill=\"#000000\" font-family=\"sans-serif\" font-size=\"14\" font-weight=\"bold\" lengthAdjust=\"spacingAndGlyphs\" textLength=\"174\" x=\"20\" y=\"20.9951\">QualifiedNameImportTest</text></a><!--MD5=[e4f7fae6ed58524ba242bb0b0d3be6b7]\n",
       "cluster E2--><a href=\"psysml:63fd19d7-856c-4154-ab3f-5f7beb933c6f\" target=\"_top\" title=\"psysml:63fd19d7-856c-4154-ab3f-5f7beb933c6f\" xlink:actuate=\"onRequest\" xlink:href=\"psysml:63fd19d7-856c-4154-ab3f-5f7beb933c6f\" xlink:show=\"new\" xlink:title=\"psysml:63fd19d7-856c-4154-ab3f-5f7beb933c6f\" xlink:type=\"simple\"><polygon fill=\"#FFFFFF\" points=\"48,210,72,210,79,232.2969,185,232.2969,185,323,48,323,48,210\" style=\"stroke: #000000; stroke-width: 1.5;\"/><line style=\"stroke: #000000; stroke-width: 1.5;\" x1=\"48\" x2=\"79\" y1=\"232.2969\" y2=\"232.2969\"/><text fill=\"#000000\" font-family=\"sans-serif\" font-size=\"14\" font-weight=\"bold\" lengthAdjust=\"spacingAndGlyphs\" textLength=\"18\" x=\"52\" y=\"224.9951\">P1</text></a><!--MD5=[f6df4d0ebaf0b5dfb2ced0ae5af7c670]\n",
       "cluster E4--><a href=\"psysml:d8f64ef2-651e-4c07-9e19-09c43a642dc3\" target=\"_top\" title=\"psysml:d8f64ef2-651e-4c07-9e19-09c43a642dc3\" xlink:actuate=\"onRequest\" xlink:href=\"psysml:d8f64ef2-651e-4c07-9e19-09c43a642dc3\" xlink:show=\"new\" xlink:title=\"psysml:d8f64ef2-651e-4c07-9e19-09c43a642dc3\" xlink:type=\"simple\"><polygon fill=\"#FFFFFF\" points=\"40,49,64,49,71,71.2969,195,71.2969,195,153,40,153,40,49\" style=\"stroke: #000000; stroke-width: 1.5;\"/><line style=\"stroke: #000000; stroke-width: 1.5;\" x1=\"40\" x2=\"71\" y1=\"71.2969\" y2=\"71.2969\"/><text fill=\"#000000\" font-family=\"sans-serif\" font-size=\"14\" font-weight=\"bold\" lengthAdjust=\"spacingAndGlyphs\" textLength=\"18\" x=\"44\" y=\"63.9951\">P2</text></a><!--MD5=[09b614a08d8cba4a07c9adeb5e0fee81]\n",
       "class E3--><a href=\"psysml:9081ec29-06f9-459b-bb5e-85f58996f1a9\" target=\"_top\" title=\"psysml:9081ec29-06f9-459b-bb5e-85f58996f1a9\" xlink:actuate=\"onRequest\" xlink:href=\"psysml:9081ec29-06f9-459b-bb5e-85f58996f1a9\" xlink:show=\"new\" xlink:title=\"psysml:9081ec29-06f9-459b-bb5e-85f58996f1a9\" xlink:type=\"simple\"><rect fill=\"#FFFFFF\" height=\"45.9375\" id=\"E3\" style=\"stroke: #383838; stroke-width: 1.5;\" width=\"70\" x=\"72\" y=\"253\"/><text fill=\"#000000\" font-family=\"sans-serif\" font-size=\"12\" font-style=\"italic\" lengthAdjust=\"spacingAndGlyphs\" textLength=\"68\" x=\"73\" y=\"269.1387\">«part  def»</text><text fill=\"#000000\" font-family=\"sans-serif\" font-size=\"12\" lengthAdjust=\"spacingAndGlyphs\" textLength=\"8\" x=\"103\" y=\"283.1074\">A</text><line style=\"stroke: #383838; stroke-width: 1.5;\" x1=\"73\" x2=\"141\" y1=\"290.9375\" y2=\"290.9375\"/></a><!--MD5=[60a26617385b1d2d0262a64233df1f8d]\n",
       "class E6--><a href=\"psysml:b30d741d-b0a5-4dc2-b144-a7e4c27e5c46\" target=\"_top\" title=\"psysml:b30d741d-b0a5-4dc2-b144-a7e4c27e5c46\" xlink:actuate=\"onRequest\" xlink:href=\"psysml:b30d741d-b0a5-4dc2-b144-a7e4c27e5c46\" xlink:show=\"new\" xlink:title=\"psysml:b30d741d-b0a5-4dc2-b144-a7e4c27e5c46\" xlink:type=\"simple\"><rect fill=\"#FFFFFF\" height=\"45.9375\" id=\"E6\" rx=\"10\" ry=\"10\" style=\"stroke: #383838; stroke-width: 1.5;\" width=\"42\" x=\"56\" y=\"87.5\"/><text fill=\"#000000\" font-family=\"sans-serif\" font-size=\"12\" font-style=\"italic\" lengthAdjust=\"spacingAndGlyphs\" textLength=\"40\" x=\"57\" y=\"103.6387\">«part»</text><text fill=\"#000000\" font-family=\"sans-serif\" font-size=\"12\" lengthAdjust=\"spacingAndGlyphs\" textLength=\"22\" x=\"64\" y=\"117.6074\">x: A</text><line style=\"stroke: #383838; stroke-width: 1.5;\" x1=\"57\" x2=\"97\" y1=\"125.4375\" y2=\"125.4375\"/></a><a href=\"psysml:7edd138a-1c77-4581-b137-3a8c463dac94\" target=\"_top\" title=\"psysml:7edd138a-1c77-4581-b137-3a8c463dac94\" xlink:actuate=\"onRequest\" xlink:href=\"psysml:7edd138a-1c77-4581-b137-3a8c463dac94\" xlink:show=\"new\" xlink:title=\"psysml:7edd138a-1c77-4581-b137-3a8c463dac94\" xlink:type=\"simple\"><polygon fill=\"#FFFFFF\" points=\"133,84,165,84,172,106.2969,179,106.2969,179,136.5938,133,136.5938,133,84\" style=\"stroke: #000000; stroke-width: 1.5;\"/><line style=\"stroke: #000000; stroke-width: 1.5;\" x1=\"133\" x2=\"172\" y1=\"106.2969\" y2=\"106.2969\"/><text fill=\"#000000\" font-family=\"sans-serif\" font-size=\"14\" font-weight=\"bold\" lengthAdjust=\"spacingAndGlyphs\" textLength=\"26\" x=\"137\" y=\"98.9951\">P2a</text></a><!--MD5=[15ebcb19ae302d9b601edb458606d402]\n",
       "link E5 to E2--><a href=\"psysml:b8da89e1-0406-4ebb-8e6e-940fd82b8a4d\" target=\"_top\" title=\"psysml:b8da89e1-0406-4ebb-8e6e-940fd82b8a4d\" xlink:actuate=\"onRequest\" xlink:href=\"psysml:b8da89e1-0406-4ebb-8e6e-940fd82b8a4d\" xlink:show=\"new\" xlink:title=\"psysml:b8da89e1-0406-4ebb-8e6e-940fd82b8a4d\" xlink:type=\"simple\"><path d=\"M159.28,137.05 C160.735,148.365 162.5469,162.4656 164.4519,177.2955 C165.4044,184.7104 166.3802,192.3076 167.3463,199.8301 C167.5878,201.7107 167.8287,203.5867 168.0685,205.4539 C168.1884,206.3876 168.308,207.319 168.4273,208.2478 C168.4869,208.7122 168.5465,209.1759 168.6059,209.6389 \" fill=\"none\" id=\"E5-&gt;E2\" style=\"stroke: #383838; stroke-width: 1.0; stroke-dasharray: 7.0,7.0;\"/><polygon fill=\"#383838\" points=\"168.6059,209.6389,171.427,200.2027,167.9691,204.6796,163.4922,201.2217,168.6059,209.6389\" style=\"stroke: #383838; stroke-width: 1.0;\"/><text fill=\"#000000\" font-family=\"sans-serif\" font-size=\"13\" lengthAdjust=\"spacingAndGlyphs\" textLength=\"65\" x=\"166\" y=\"182.0669\">«import»*</text></a><!--MD5=[a717450b82c80b9240a525fa862496af]\n",
       "link E6 to E3--><a href=\"psysml:ce27ea1d-5c56-4308-8b0e-4b6ab5ed7604\" target=\"_top\" title=\"psysml:ce27ea1d-5c56-4308-8b0e-4b6ab5ed7604\" xlink:actuate=\"onRequest\" xlink:href=\"psysml:ce27ea1d-5c56-4308-8b0e-4b6ab5ed7604\" xlink:show=\"new\" xlink:title=\"psysml:ce27ea1d-5c56-4308-8b0e-4b6ab5ed7604\" xlink:type=\"simple\"><path d=\"M81.05,133.55 C85.7,158.9 93.44,201.1 99.26,232.83 \" fill=\"none\" id=\"E6-&gt;E3\" style=\"stroke: #383838; stroke-width: 1.0;\"/><polygon fill=\"#FFFFFF\" points=\"102.92,252.78,92.6018,235.3578,106.3713,232.8278,102.92,252.78\" style=\"stroke: #383838; stroke-width: 1.0;\"/><ellipse cx=\"93.5388\" cy=\"229.3902\" fill=\"#383838\" rx=\"2\" ry=\"2\" style=\"stroke: #383838; stroke-width: 1.0;\"/><ellipse cx=\"103.3742\" cy=\"227.5831\" fill=\"#383838\" rx=\"2\" ry=\"2\" style=\"stroke: #383838; stroke-width: 1.0;\"/></a><!--MD5=[537fd41b85dbec243d2337afde876a13]\n",
       "@startuml\r\n",
       "top to bottom direction\r\n",
       "skinparam monochrome true\r\n",
       "skinparam classbackgroundcolor white\r\n",
       "skinparam shadowing false\r\n",
       "skinparam wrapWidth 300\r\n",
       "hide circle\r\n",
       "\r\n",
       "package \"QualifiedNameImportTest\" as E1  [[psysml:091e42f3-dddd-4d90-8666-606f19fb366e ]]  {\r\n",
       "package \"P1\" as E2  [[psysml:63fd19d7-856c-4154-ab3f-5f7beb933c6f ]]  {\r\n",
       "comp def \"A\" as E3  <<(T,blue) part  def>> [[psysml:9081ec29-06f9-459b-bb5e-85f58996f1a9 ]] {\r\n",
       "}\r\n",
       "}\r\n",
       "package \"P2\" as E4  [[psysml:d8f64ef2-651e-4c07-9e19-09c43a642dc3 ]]  {\r\n",
       "package \"P2a\" as E5  [[psysml:7edd138a-1c77-4581-b137-3a8c463dac94 ]]  {\r\n",
       "}\r\n",
       "comp usage \"x: A \" as E6  <<(T,blue) part>> [[psysml:b30d741d-b0a5-4dc2-b144-a7e4c27e5c46 ]] {\r\n",
       "}\r\n",
       "}\r\n",
       "}\r\n",
       "E5 ..> E2 [[psysml:b8da89e1-0406-4ebb-8e6e-940fd82b8a4d ]] : <<import>>*\r\n",
       "E6 - -:|> E3 [[psysml:ce27ea1d-5c56-4308-8b0e-4b6ab5ed7604 ]] \r\n",
       "@enduml\r\n",
       "\n",
       "PlantUML version 1.2020.13(Sat Jun 13 12:26:38 UTC 2020)\n",
       "(EPL source distribution)\n",
       "Java Runtime: OpenJDK Runtime Environment\n",
       "JVM: OpenJDK 64-Bit Server VM\n",
       "Default Encoding: UTF-8\n",
       "Language: en\n",
       "Country: null\n",
       "--></g></svg>"
      ]
     },
     "execution_count": 50,
     "metadata": {},
     "output_type": "execute_result"
    }
   ],
   "source": [
    "%viz --style=\"TB\" --view=\"MIXED\" \"QualifiedNameImportTest\""
   ]
  },
  {
   "cell_type": "code",
   "execution_count": 51,
   "id": "a2506fa9",
   "metadata": {
    "execution": {
     "iopub.execute_input": "2022-02-18T10:50:04.344566Z",
     "iopub.status.busy": "2022-02-18T10:50:04.343931Z",
     "iopub.status.idle": "2022-02-18T10:50:04.371768Z",
     "shell.execute_reply": "2022-02-18T10:50:04.370807Z"
    }
   },
   "outputs": [
    {
     "data": {
      "image/svg+xml": [
       "<?xml version=\"1.0\" encoding=\"UTF-8\" standalone=\"no\"?><svg xmlns=\"http://www.w3.org/2000/svg\" xmlns:xlink=\"http://www.w3.org/1999/xlink\" contentScriptType=\"application/ecmascript\" contentStyleType=\"text/css\" height=\"367px\" preserveAspectRatio=\"none\" style=\"width:241px;height:367px;\" version=\"1.1\" viewBox=\"0 0 241 367\" width=\"241px\" zoomAndPan=\"magnify\"><defs/><g><!--MD5=[fbc87193dbaf4d95561dea2c320d4a47]\n",
       "cluster E1--><a href=\"psysml:091e42f3-dddd-4d90-8666-606f19fb366e\" target=\"_top\" title=\"psysml:091e42f3-dddd-4d90-8666-606f19fb366e\" xlink:actuate=\"onRequest\" xlink:href=\"psysml:091e42f3-dddd-4d90-8666-606f19fb366e\" xlink:show=\"new\" xlink:title=\"psysml:091e42f3-dddd-4d90-8666-606f19fb366e\" xlink:type=\"simple\"><polygon fill=\"#FFFFFF\" points=\"16,6,196,6,203,28.2969,219,28.2969,219,355,16,355,16,6\" style=\"stroke: #000000; stroke-width: 1.5;\"/><line style=\"stroke: #000000; stroke-width: 1.5;\" x1=\"16\" x2=\"203\" y1=\"28.2969\" y2=\"28.2969\"/><text fill=\"#000000\" font-family=\"sans-serif\" font-size=\"14\" font-weight=\"bold\" lengthAdjust=\"spacingAndGlyphs\" textLength=\"174\" x=\"20\" y=\"20.9951\">QualifiedNameImportTest</text></a><!--MD5=[e4f7fae6ed58524ba242bb0b0d3be6b7]\n",
       "cluster E2--><a href=\"psysml:63fd19d7-856c-4154-ab3f-5f7beb933c6f\" target=\"_top\" title=\"psysml:63fd19d7-856c-4154-ab3f-5f7beb933c6f\" xlink:actuate=\"onRequest\" xlink:href=\"psysml:63fd19d7-856c-4154-ab3f-5f7beb933c6f\" xlink:show=\"new\" xlink:title=\"psysml:63fd19d7-856c-4154-ab3f-5f7beb933c6f\" xlink:type=\"simple\"><polygon fill=\"#FFFFFF\" points=\"48,210,72,210,79,232.2969,185,232.2969,185,323,48,323,48,210\" style=\"stroke: #000000; stroke-width: 1.5;\"/><line style=\"stroke: #000000; stroke-width: 1.5;\" x1=\"48\" x2=\"79\" y1=\"232.2969\" y2=\"232.2969\"/><text fill=\"#000000\" font-family=\"sans-serif\" font-size=\"14\" font-weight=\"bold\" lengthAdjust=\"spacingAndGlyphs\" textLength=\"18\" x=\"52\" y=\"224.9951\">P1</text></a><!--MD5=[f6df4d0ebaf0b5dfb2ced0ae5af7c670]\n",
       "cluster E4--><a href=\"psysml:d8f64ef2-651e-4c07-9e19-09c43a642dc3\" target=\"_top\" title=\"psysml:d8f64ef2-651e-4c07-9e19-09c43a642dc3\" xlink:actuate=\"onRequest\" xlink:href=\"psysml:d8f64ef2-651e-4c07-9e19-09c43a642dc3\" xlink:show=\"new\" xlink:title=\"psysml:d8f64ef2-651e-4c07-9e19-09c43a642dc3\" xlink:type=\"simple\"><polygon fill=\"#FFFFFF\" points=\"40,49,64,49,71,71.2969,195,71.2969,195,153,40,153,40,49\" style=\"stroke: #000000; stroke-width: 1.5;\"/><line style=\"stroke: #000000; stroke-width: 1.5;\" x1=\"40\" x2=\"71\" y1=\"71.2969\" y2=\"71.2969\"/><text fill=\"#000000\" font-family=\"sans-serif\" font-size=\"14\" font-weight=\"bold\" lengthAdjust=\"spacingAndGlyphs\" textLength=\"18\" x=\"44\" y=\"63.9951\">P2</text></a><!--MD5=[09b614a08d8cba4a07c9adeb5e0fee81]\n",
       "class E3--><a href=\"psysml:9081ec29-06f9-459b-bb5e-85f58996f1a9\" target=\"_top\" title=\"psysml:9081ec29-06f9-459b-bb5e-85f58996f1a9\" xlink:actuate=\"onRequest\" xlink:href=\"psysml:9081ec29-06f9-459b-bb5e-85f58996f1a9\" xlink:show=\"new\" xlink:title=\"psysml:9081ec29-06f9-459b-bb5e-85f58996f1a9\" xlink:type=\"simple\"><rect fill=\"#FFFFFF\" height=\"45.9375\" id=\"E3\" style=\"stroke: #383838; stroke-width: 1.5;\" width=\"70\" x=\"72\" y=\"253\"/><text fill=\"#000000\" font-family=\"sans-serif\" font-size=\"12\" font-style=\"italic\" lengthAdjust=\"spacingAndGlyphs\" textLength=\"68\" x=\"73\" y=\"269.1387\">«part  def»</text><text fill=\"#000000\" font-family=\"sans-serif\" font-size=\"12\" lengthAdjust=\"spacingAndGlyphs\" textLength=\"8\" x=\"103\" y=\"283.1074\">A</text><line style=\"stroke: #383838; stroke-width: 1.5;\" x1=\"73\" x2=\"141\" y1=\"290.9375\" y2=\"290.9375\"/></a><!--MD5=[60a26617385b1d2d0262a64233df1f8d]\n",
       "class E6--><a href=\"psysml:b30d741d-b0a5-4dc2-b144-a7e4c27e5c46\" target=\"_top\" title=\"psysml:b30d741d-b0a5-4dc2-b144-a7e4c27e5c46\" xlink:actuate=\"onRequest\" xlink:href=\"psysml:b30d741d-b0a5-4dc2-b144-a7e4c27e5c46\" xlink:show=\"new\" xlink:title=\"psysml:b30d741d-b0a5-4dc2-b144-a7e4c27e5c46\" xlink:type=\"simple\"><rect fill=\"#FFFFFF\" height=\"45.9375\" id=\"E6\" rx=\"10\" ry=\"10\" style=\"stroke: #383838; stroke-width: 1.5;\" width=\"42\" x=\"56\" y=\"87.5\"/><text fill=\"#000000\" font-family=\"sans-serif\" font-size=\"12\" font-style=\"italic\" lengthAdjust=\"spacingAndGlyphs\" textLength=\"40\" x=\"57\" y=\"103.6387\">«part»</text><text fill=\"#000000\" font-family=\"sans-serif\" font-size=\"12\" lengthAdjust=\"spacingAndGlyphs\" textLength=\"22\" x=\"64\" y=\"117.6074\">x: A</text><line style=\"stroke: #383838; stroke-width: 1.5;\" x1=\"57\" x2=\"97\" y1=\"125.4375\" y2=\"125.4375\"/></a><a href=\"psysml:7edd138a-1c77-4581-b137-3a8c463dac94\" target=\"_top\" title=\"psysml:7edd138a-1c77-4581-b137-3a8c463dac94\" xlink:actuate=\"onRequest\" xlink:href=\"psysml:7edd138a-1c77-4581-b137-3a8c463dac94\" xlink:show=\"new\" xlink:title=\"psysml:7edd138a-1c77-4581-b137-3a8c463dac94\" xlink:type=\"simple\"><polygon fill=\"#FFFFFF\" points=\"133,84,165,84,172,106.2969,179,106.2969,179,136.5938,133,136.5938,133,84\" style=\"stroke: #000000; stroke-width: 1.5;\"/><line style=\"stroke: #000000; stroke-width: 1.5;\" x1=\"133\" x2=\"172\" y1=\"106.2969\" y2=\"106.2969\"/><text fill=\"#000000\" font-family=\"sans-serif\" font-size=\"14\" font-weight=\"bold\" lengthAdjust=\"spacingAndGlyphs\" textLength=\"26\" x=\"137\" y=\"98.9951\">P2a</text></a><!--MD5=[15ebcb19ae302d9b601edb458606d402]\n",
       "link E5 to E2--><a href=\"psysml:b8da89e1-0406-4ebb-8e6e-940fd82b8a4d\" target=\"_top\" title=\"psysml:b8da89e1-0406-4ebb-8e6e-940fd82b8a4d\" xlink:actuate=\"onRequest\" xlink:href=\"psysml:b8da89e1-0406-4ebb-8e6e-940fd82b8a4d\" xlink:show=\"new\" xlink:title=\"psysml:b8da89e1-0406-4ebb-8e6e-940fd82b8a4d\" xlink:type=\"simple\"><path d=\"M177,137.09 C177,148.2375 177,161.9594 177,176.3959 C177,183.6142 177,191.0112 177,198.3543 C177,202.0259 177,205.6841 177,209.2997 C177,209.5257 177,209.7515 177,209.9771 \" fill=\"none\" id=\"E5-&gt;E2\" style=\"stroke: #383838; stroke-width: 1.0; stroke-dasharray: 7.0,7.0;\"/><polygon fill=\"#383838\" points=\"177,209.9771,181,200.9771,177,204.9771,173,200.9771,177,209.9771\" style=\"stroke: #383838; stroke-width: 1.0;\"/><text fill=\"#000000\" font-family=\"sans-serif\" font-size=\"13\" lengthAdjust=\"spacingAndGlyphs\" textLength=\"65\" x=\"137\" y=\"182.0669\">«import»*</text></a><!--MD5=[a717450b82c80b9240a525fa862496af]\n",
       "link E6 to E3--><a href=\"psysml:ce27ea1d-5c56-4308-8b0e-4b6ab5ed7604\" target=\"_top\" title=\"psysml:ce27ea1d-5c56-4308-8b0e-4b6ab5ed7604\" xlink:actuate=\"onRequest\" xlink:href=\"psysml:ce27ea1d-5c56-4308-8b0e-4b6ab5ed7604\" xlink:show=\"new\" xlink:title=\"psysml:ce27ea1d-5c56-4308-8b0e-4b6ab5ed7604\" xlink:type=\"simple\"><path d=\"M85,133.51 C85,133.51 85,232.92 85,232.92 \" fill=\"none\" id=\"E6-&gt;E3\" style=\"stroke: #383838; stroke-width: 1.0;\"/><polygon fill=\"#FFFFFF\" points=\"85,252.92,78,233.92,92,233.92,85,252.92\" style=\"stroke: #383838; stroke-width: 1.0;\"/><ellipse cx=\"80\" cy=\"228.22\" fill=\"#383838\" rx=\"2\" ry=\"2\" style=\"stroke: #383838; stroke-width: 1.0;\"/><ellipse cx=\"90\" cy=\"228.22\" fill=\"#383838\" rx=\"2\" ry=\"2\" style=\"stroke: #383838; stroke-width: 1.0;\"/></a><!--MD5=[10fd2ae5364ed175761fb7bb5b522467]\n",
       "@startuml\r\n",
       "skinparam linetype ortho\r\n",
       "skinparam monochrome true\r\n",
       "skinparam classbackgroundcolor white\r\n",
       "skinparam shadowing false\r\n",
       "skinparam wrapWidth 300\r\n",
       "hide circle\r\n",
       "\r\n",
       "package \"QualifiedNameImportTest\" as E1  [[psysml:091e42f3-dddd-4d90-8666-606f19fb366e ]]  {\r\n",
       "package \"P1\" as E2  [[psysml:63fd19d7-856c-4154-ab3f-5f7beb933c6f ]]  {\r\n",
       "comp def \"A\" as E3  <<(T,blue) part  def>> [[psysml:9081ec29-06f9-459b-bb5e-85f58996f1a9 ]] {\r\n",
       "}\r\n",
       "}\r\n",
       "package \"P2\" as E4  [[psysml:d8f64ef2-651e-4c07-9e19-09c43a642dc3 ]]  {\r\n",
       "package \"P2a\" as E5  [[psysml:7edd138a-1c77-4581-b137-3a8c463dac94 ]]  {\r\n",
       "}\r\n",
       "comp usage \"x: A \" as E6  <<(T,blue) part>> [[psysml:b30d741d-b0a5-4dc2-b144-a7e4c27e5c46 ]] {\r\n",
       "}\r\n",
       "}\r\n",
       "}\r\n",
       "E5 ..> E2 [[psysml:b8da89e1-0406-4ebb-8e6e-940fd82b8a4d ]] : <<import>>*\r\n",
       "E6 - -:|> E3 [[psysml:ce27ea1d-5c56-4308-8b0e-4b6ab5ed7604 ]] \r\n",
       "@enduml\r\n",
       "\n",
       "PlantUML version 1.2020.13(Sat Jun 13 12:26:38 UTC 2020)\n",
       "(EPL source distribution)\n",
       "Java Runtime: OpenJDK Runtime Environment\n",
       "JVM: OpenJDK 64-Bit Server VM\n",
       "Default Encoding: UTF-8\n",
       "Language: en\n",
       "Country: null\n",
       "--></g></svg>"
      ]
     },
     "execution_count": 51,
     "metadata": {},
     "output_type": "execute_result"
    }
   ],
   "source": [
    "%viz --style=\"ORTHOLINE\" --view=\"Default\" \"QualifiedNameImportTest\""
   ]
  },
  {
   "cell_type": "code",
   "execution_count": 52,
   "id": "cb71e393",
   "metadata": {
    "execution": {
     "iopub.execute_input": "2022-02-18T10:50:04.421523Z",
     "iopub.status.busy": "2022-02-18T10:50:04.421216Z",
     "iopub.status.idle": "2022-02-18T10:50:04.449939Z",
     "shell.execute_reply": "2022-02-18T10:50:04.449621Z"
    }
   },
   "outputs": [
    {
     "data": {
      "image/svg+xml": [
       "<?xml version=\"1.0\" encoding=\"UTF-8\" standalone=\"no\"?><svg xmlns=\"http://www.w3.org/2000/svg\" xmlns:xlink=\"http://www.w3.org/1999/xlink\" contentScriptType=\"application/ecmascript\" contentStyleType=\"text/css\" height=\"367px\" preserveAspectRatio=\"none\" style=\"width:241px;height:367px;\" version=\"1.1\" viewBox=\"0 0 241 367\" width=\"241px\" zoomAndPan=\"magnify\"><defs/><g><!--MD5=[fbc87193dbaf4d95561dea2c320d4a47]\n",
       "cluster E1--><a href=\"psysml:091e42f3-dddd-4d90-8666-606f19fb366e\" target=\"_top\" title=\"psysml:091e42f3-dddd-4d90-8666-606f19fb366e\" xlink:actuate=\"onRequest\" xlink:href=\"psysml:091e42f3-dddd-4d90-8666-606f19fb366e\" xlink:show=\"new\" xlink:title=\"psysml:091e42f3-dddd-4d90-8666-606f19fb366e\" xlink:type=\"simple\"><polygon fill=\"#FFFFFF\" points=\"16,6,196,6,203,28.2969,219,28.2969,219,355,16,355,16,6\" style=\"stroke: #000000; stroke-width: 1.5;\"/><line style=\"stroke: #000000; stroke-width: 1.5;\" x1=\"16\" x2=\"203\" y1=\"28.2969\" y2=\"28.2969\"/><text fill=\"#000000\" font-family=\"sans-serif\" font-size=\"14\" font-weight=\"bold\" lengthAdjust=\"spacingAndGlyphs\" textLength=\"174\" x=\"20\" y=\"20.9951\">QualifiedNameImportTest</text></a><!--MD5=[e4f7fae6ed58524ba242bb0b0d3be6b7]\n",
       "cluster E2--><a href=\"psysml:63fd19d7-856c-4154-ab3f-5f7beb933c6f\" target=\"_top\" title=\"psysml:63fd19d7-856c-4154-ab3f-5f7beb933c6f\" xlink:actuate=\"onRequest\" xlink:href=\"psysml:63fd19d7-856c-4154-ab3f-5f7beb933c6f\" xlink:show=\"new\" xlink:title=\"psysml:63fd19d7-856c-4154-ab3f-5f7beb933c6f\" xlink:type=\"simple\"><polygon fill=\"#FFFFFF\" points=\"48,210,72,210,79,232.2969,185,232.2969,185,323,48,323,48,210\" style=\"stroke: #000000; stroke-width: 1.5;\"/><line style=\"stroke: #000000; stroke-width: 1.5;\" x1=\"48\" x2=\"79\" y1=\"232.2969\" y2=\"232.2969\"/><text fill=\"#000000\" font-family=\"sans-serif\" font-size=\"14\" font-weight=\"bold\" lengthAdjust=\"spacingAndGlyphs\" textLength=\"18\" x=\"52\" y=\"224.9951\">P1</text></a><!--MD5=[f6df4d0ebaf0b5dfb2ced0ae5af7c670]\n",
       "cluster E4--><a href=\"psysml:d8f64ef2-651e-4c07-9e19-09c43a642dc3\" target=\"_top\" title=\"psysml:d8f64ef2-651e-4c07-9e19-09c43a642dc3\" xlink:actuate=\"onRequest\" xlink:href=\"psysml:d8f64ef2-651e-4c07-9e19-09c43a642dc3\" xlink:show=\"new\" xlink:title=\"psysml:d8f64ef2-651e-4c07-9e19-09c43a642dc3\" xlink:type=\"simple\"><polygon fill=\"#FFFFFF\" points=\"40,49,64,49,71,71.2969,195,71.2969,195,153,40,153,40,49\" style=\"stroke: #000000; stroke-width: 1.5;\"/><line style=\"stroke: #000000; stroke-width: 1.5;\" x1=\"40\" x2=\"71\" y1=\"71.2969\" y2=\"71.2969\"/><text fill=\"#000000\" font-family=\"sans-serif\" font-size=\"14\" font-weight=\"bold\" lengthAdjust=\"spacingAndGlyphs\" textLength=\"18\" x=\"44\" y=\"63.9951\">P2</text></a><!--MD5=[09b614a08d8cba4a07c9adeb5e0fee81]\n",
       "class E3--><a href=\"psysml:9081ec29-06f9-459b-bb5e-85f58996f1a9\" target=\"_top\" title=\"psysml:9081ec29-06f9-459b-bb5e-85f58996f1a9\" xlink:actuate=\"onRequest\" xlink:href=\"psysml:9081ec29-06f9-459b-bb5e-85f58996f1a9\" xlink:show=\"new\" xlink:title=\"psysml:9081ec29-06f9-459b-bb5e-85f58996f1a9\" xlink:type=\"simple\"><rect fill=\"#FFFFFF\" height=\"45.9375\" id=\"E3\" style=\"stroke: #383838; stroke-width: 1.5;\" width=\"70\" x=\"72\" y=\"253\"/><text fill=\"#000000\" font-family=\"sans-serif\" font-size=\"12\" font-style=\"italic\" lengthAdjust=\"spacingAndGlyphs\" textLength=\"68\" x=\"73\" y=\"269.1387\">«part  def»</text><text fill=\"#000000\" font-family=\"sans-serif\" font-size=\"12\" lengthAdjust=\"spacingAndGlyphs\" textLength=\"8\" x=\"103\" y=\"283.1074\">A</text><line style=\"stroke: #383838; stroke-width: 1.5;\" x1=\"73\" x2=\"141\" y1=\"290.9375\" y2=\"290.9375\"/></a><!--MD5=[60a26617385b1d2d0262a64233df1f8d]\n",
       "class E6--><a href=\"psysml:b30d741d-b0a5-4dc2-b144-a7e4c27e5c46\" target=\"_top\" title=\"psysml:b30d741d-b0a5-4dc2-b144-a7e4c27e5c46\" xlink:actuate=\"onRequest\" xlink:href=\"psysml:b30d741d-b0a5-4dc2-b144-a7e4c27e5c46\" xlink:show=\"new\" xlink:title=\"psysml:b30d741d-b0a5-4dc2-b144-a7e4c27e5c46\" xlink:type=\"simple\"><rect fill=\"#FFFFFF\" height=\"45.9375\" id=\"E6\" rx=\"10\" ry=\"10\" style=\"stroke: #383838; stroke-width: 1.5;\" width=\"42\" x=\"56\" y=\"87.5\"/><text fill=\"#000000\" font-family=\"sans-serif\" font-size=\"12\" font-style=\"italic\" lengthAdjust=\"spacingAndGlyphs\" textLength=\"40\" x=\"57\" y=\"103.6387\">«part»</text><text fill=\"#000000\" font-family=\"sans-serif\" font-size=\"12\" lengthAdjust=\"spacingAndGlyphs\" textLength=\"22\" x=\"64\" y=\"117.6074\">x: A</text><line style=\"stroke: #383838; stroke-width: 1.5;\" x1=\"57\" x2=\"97\" y1=\"125.4375\" y2=\"125.4375\"/></a><a href=\"psysml:7edd138a-1c77-4581-b137-3a8c463dac94\" target=\"_top\" title=\"psysml:7edd138a-1c77-4581-b137-3a8c463dac94\" xlink:actuate=\"onRequest\" xlink:href=\"psysml:7edd138a-1c77-4581-b137-3a8c463dac94\" xlink:show=\"new\" xlink:title=\"psysml:7edd138a-1c77-4581-b137-3a8c463dac94\" xlink:type=\"simple\"><polygon fill=\"#FFFFFF\" points=\"133,84,165,84,172,106.2969,179,106.2969,179,136.5938,133,136.5938,133,84\" style=\"stroke: #000000; stroke-width: 1.5;\"/><line style=\"stroke: #000000; stroke-width: 1.5;\" x1=\"133\" x2=\"172\" y1=\"106.2969\" y2=\"106.2969\"/><text fill=\"#000000\" font-family=\"sans-serif\" font-size=\"14\" font-weight=\"bold\" lengthAdjust=\"spacingAndGlyphs\" textLength=\"26\" x=\"137\" y=\"98.9951\">P2a</text></a><!--MD5=[15ebcb19ae302d9b601edb458606d402]\n",
       "link E5 to E2--><a href=\"psysml:b8da89e1-0406-4ebb-8e6e-940fd82b8a4d\" target=\"_top\" title=\"psysml:b8da89e1-0406-4ebb-8e6e-940fd82b8a4d\" xlink:actuate=\"onRequest\" xlink:href=\"psysml:b8da89e1-0406-4ebb-8e6e-940fd82b8a4d\" xlink:show=\"new\" xlink:title=\"psysml:b8da89e1-0406-4ebb-8e6e-940fd82b8a4d\" xlink:type=\"simple\"><path d=\"M177,137.09 C177,148.2375 177,161.9594 177,176.3959 C177,183.6142 177,191.0112 177,198.3543 C177,202.0259 177,205.6841 177,209.2997 C177,209.5257 177,209.7515 177,209.9771 \" fill=\"none\" id=\"E5-&gt;E2\" style=\"stroke: #383838; stroke-width: 1.0; stroke-dasharray: 7.0,7.0;\"/><polygon fill=\"#383838\" points=\"177,209.9771,181,200.9771,177,204.9771,173,200.9771,177,209.9771\" style=\"stroke: #383838; stroke-width: 1.0;\"/><text fill=\"#000000\" font-family=\"sans-serif\" font-size=\"13\" lengthAdjust=\"spacingAndGlyphs\" textLength=\"65\" x=\"137\" y=\"182.0669\">«import»*</text></a><!--MD5=[a717450b82c80b9240a525fa862496af]\n",
       "link E6 to E3--><a href=\"psysml:ce27ea1d-5c56-4308-8b0e-4b6ab5ed7604\" target=\"_top\" title=\"psysml:ce27ea1d-5c56-4308-8b0e-4b6ab5ed7604\" xlink:actuate=\"onRequest\" xlink:href=\"psysml:ce27ea1d-5c56-4308-8b0e-4b6ab5ed7604\" xlink:show=\"new\" xlink:title=\"psysml:ce27ea1d-5c56-4308-8b0e-4b6ab5ed7604\" xlink:type=\"simple\"><path d=\"M85,133.51 C85,133.51 85,232.92 85,232.92 \" fill=\"none\" id=\"E6-&gt;E3\" style=\"stroke: #383838; stroke-width: 1.0;\"/><polygon fill=\"#FFFFFF\" points=\"85,252.92,78,233.92,92,233.92,85,252.92\" style=\"stroke: #383838; stroke-width: 1.0;\"/><ellipse cx=\"80\" cy=\"228.22\" fill=\"#383838\" rx=\"2\" ry=\"2\" style=\"stroke: #383838; stroke-width: 1.0;\"/><ellipse cx=\"90\" cy=\"228.22\" fill=\"#383838\" rx=\"2\" ry=\"2\" style=\"stroke: #383838; stroke-width: 1.0;\"/></a><!--MD5=[10fd2ae5364ed175761fb7bb5b522467]\n",
       "@startuml\r\n",
       "skinparam linetype ortho\r\n",
       "skinparam monochrome true\r\n",
       "skinparam classbackgroundcolor white\r\n",
       "skinparam shadowing false\r\n",
       "skinparam wrapWidth 300\r\n",
       "hide circle\r\n",
       "\r\n",
       "package \"QualifiedNameImportTest\" as E1  [[psysml:091e42f3-dddd-4d90-8666-606f19fb366e ]]  {\r\n",
       "package \"P1\" as E2  [[psysml:63fd19d7-856c-4154-ab3f-5f7beb933c6f ]]  {\r\n",
       "comp def \"A\" as E3  <<(T,blue) part  def>> [[psysml:9081ec29-06f9-459b-bb5e-85f58996f1a9 ]] {\r\n",
       "}\r\n",
       "}\r\n",
       "package \"P2\" as E4  [[psysml:d8f64ef2-651e-4c07-9e19-09c43a642dc3 ]]  {\r\n",
       "package \"P2a\" as E5  [[psysml:7edd138a-1c77-4581-b137-3a8c463dac94 ]]  {\r\n",
       "}\r\n",
       "comp usage \"x: A \" as E6  <<(T,blue) part>> [[psysml:b30d741d-b0a5-4dc2-b144-a7e4c27e5c46 ]] {\r\n",
       "}\r\n",
       "}\r\n",
       "}\r\n",
       "E5 ..> E2 [[psysml:b8da89e1-0406-4ebb-8e6e-940fd82b8a4d ]] : <<import>>*\r\n",
       "E6 - -:|> E3 [[psysml:ce27ea1d-5c56-4308-8b0e-4b6ab5ed7604 ]] \r\n",
       "@enduml\r\n",
       "\n",
       "PlantUML version 1.2020.13(Sat Jun 13 12:26:38 UTC 2020)\n",
       "(EPL source distribution)\n",
       "Java Runtime: OpenJDK Runtime Environment\n",
       "JVM: OpenJDK 64-Bit Server VM\n",
       "Default Encoding: UTF-8\n",
       "Language: en\n",
       "Country: null\n",
       "--></g></svg>"
      ]
     },
     "execution_count": 52,
     "metadata": {},
     "output_type": "execute_result"
    }
   ],
   "source": [
    "%viz --style=\"ORTHOLINE\" --view=\"Tree\" \"QualifiedNameImportTest\""
   ]
  },
  {
   "cell_type": "code",
   "execution_count": 53,
   "id": "93fc757c",
   "metadata": {
    "execution": {
     "iopub.execute_input": "2022-02-18T10:50:04.499555Z",
     "iopub.status.busy": "2022-02-18T10:50:04.499329Z",
     "iopub.status.idle": "2022-02-18T10:50:04.504873Z",
     "shell.execute_reply": "2022-02-18T10:50:04.504487Z"
    }
   },
   "outputs": [
    {
     "data": {
      "image/svg+xml": [
       "<?xml version=\"1.0\" encoding=\"UTF-8\" standalone=\"no\"?><svg xmlns=\"http://www.w3.org/2000/svg\" xmlns:xlink=\"http://www.w3.org/1999/xlink\" contentScriptType=\"application/ecmascript\" contentStyleType=\"text/css\" height=\"12px\" preserveAspectRatio=\"none\" style=\"width:12px;height:12px;\" version=\"1.1\" viewBox=\"0 0 12 12\" width=\"12px\" zoomAndPan=\"magnify\"><defs/><g><!--MD5=[97d6f38768b311333d388e66b2b27985]\n",
       "@startuml\r\n",
       "skinparam linetype ortho\r\n",
       "skinparam monochrome true\r\n",
       "skinparam classbackgroundcolor white\r\n",
       "skinparam shadowing false\r\n",
       "skinparam wrapWidth 300\r\n",
       "hide circle\r\n",
       "\r\n",
       "@enduml\r\n",
       "\n",
       "PlantUML version 1.2020.13(Sat Jun 13 12:26:38 UTC 2020)\n",
       "(EPL source distribution)\n",
       "Java Runtime: OpenJDK Runtime Environment\n",
       "JVM: OpenJDK 64-Bit Server VM\n",
       "Default Encoding: UTF-8\n",
       "Language: en\n",
       "Country: null\n",
       "--></g></svg>"
      ]
     },
     "execution_count": 53,
     "metadata": {},
     "output_type": "execute_result"
    }
   ],
   "source": [
    "%viz --style=\"ORTHOLINE\" --view=\"State\" \"QualifiedNameImportTest\""
   ]
  },
  {
   "cell_type": "code",
   "execution_count": 54,
   "id": "aa6e85b3",
   "metadata": {
    "execution": {
     "iopub.execute_input": "2022-02-18T10:50:04.553856Z",
     "iopub.status.busy": "2022-02-18T10:50:04.553490Z",
     "iopub.status.idle": "2022-02-18T10:50:04.576900Z",
     "shell.execute_reply": "2022-02-18T10:50:04.575603Z"
    }
   },
   "outputs": [
    {
     "data": {
      "image/svg+xml": [
       "<?xml version=\"1.0\" encoding=\"UTF-8\" standalone=\"no\"?><svg xmlns=\"http://www.w3.org/2000/svg\" xmlns:xlink=\"http://www.w3.org/1999/xlink\" contentScriptType=\"application/ecmascript\" contentStyleType=\"text/css\" height=\"364px\" preserveAspectRatio=\"none\" style=\"width:249px;height:364px;\" version=\"1.1\" viewBox=\"0 0 249 364\" width=\"249px\" zoomAndPan=\"magnify\"><defs/><g><!--MD5=[fbc87193dbaf4d95561dea2c320d4a47]\n",
       "cluster E1--><a href=\"psysml:091e42f3-dddd-4d90-8666-606f19fb366e\" target=\"_top\" title=\"psysml:091e42f3-dddd-4d90-8666-606f19fb366e\" xlink:actuate=\"onRequest\" xlink:href=\"psysml:091e42f3-dddd-4d90-8666-606f19fb366e\" xlink:show=\"new\" xlink:title=\"psysml:091e42f3-dddd-4d90-8666-606f19fb366e\" xlink:type=\"simple\"><polygon fill=\"#FFFFFF\" points=\"16,6,196,6,203,28.2969,227,28.2969,227,352,16,352,16,6\" style=\"stroke: #000000; stroke-width: 1.5;\"/><line style=\"stroke: #000000; stroke-width: 1.5;\" x1=\"16\" x2=\"203\" y1=\"28.2969\" y2=\"28.2969\"/><text fill=\"#000000\" font-family=\"sans-serif\" font-size=\"14\" font-weight=\"bold\" lengthAdjust=\"spacingAndGlyphs\" textLength=\"174\" x=\"20\" y=\"20.9951\">QualifiedNameImportTest</text></a><!--MD5=[e4f7fae6ed58524ba242bb0b0d3be6b7]\n",
       "cluster E2--><a href=\"psysml:63fd19d7-856c-4154-ab3f-5f7beb933c6f\" target=\"_top\" title=\"psysml:63fd19d7-856c-4154-ab3f-5f7beb933c6f\" xlink:actuate=\"onRequest\" xlink:href=\"psysml:63fd19d7-856c-4154-ab3f-5f7beb933c6f\" xlink:show=\"new\" xlink:title=\"psysml:63fd19d7-856c-4154-ab3f-5f7beb933c6f\" xlink:type=\"simple\"><polygon fill=\"#FFFFFF\" points=\"53,210,77,210,84,232.2969,195,232.2969,195,320,53,320,53,210\" style=\"stroke: #000000; stroke-width: 1.5;\"/><line style=\"stroke: #000000; stroke-width: 1.5;\" x1=\"53\" x2=\"84\" y1=\"232.2969\" y2=\"232.2969\"/><text fill=\"#000000\" font-family=\"sans-serif\" font-size=\"14\" font-weight=\"bold\" lengthAdjust=\"spacingAndGlyphs\" textLength=\"18\" x=\"57\" y=\"224.9951\">P1</text></a><!--MD5=[f6df4d0ebaf0b5dfb2ced0ae5af7c670]\n",
       "cluster E4--><a href=\"psysml:d8f64ef2-651e-4c07-9e19-09c43a642dc3\" target=\"_top\" title=\"psysml:d8f64ef2-651e-4c07-9e19-09c43a642dc3\" xlink:actuate=\"onRequest\" xlink:href=\"psysml:d8f64ef2-651e-4c07-9e19-09c43a642dc3\" xlink:show=\"new\" xlink:title=\"psysml:d8f64ef2-651e-4c07-9e19-09c43a642dc3\" xlink:type=\"simple\"><polygon fill=\"#FFFFFF\" points=\"40,49,64,49,71,71.2969,203,71.2969,203,153,40,153,40,49\" style=\"stroke: #000000; stroke-width: 1.5;\"/><line style=\"stroke: #000000; stroke-width: 1.5;\" x1=\"40\" x2=\"71\" y1=\"71.2969\" y2=\"71.2969\"/><text fill=\"#000000\" font-family=\"sans-serif\" font-size=\"14\" font-weight=\"bold\" lengthAdjust=\"spacingAndGlyphs\" textLength=\"18\" x=\"44\" y=\"63.9951\">P2</text></a><g id=\"E1.E2.E3\"><a href=\"psysml:9081ec29-06f9-459b-bb5e-85f58996f1a9\" target=\"_top\" title=\"psysml:9081ec29-06f9-459b-bb5e-85f58996f1a9\" xlink:actuate=\"onRequest\" xlink:href=\"psysml:9081ec29-06f9-459b-bb5e-85f58996f1a9\" xlink:show=\"new\" xlink:title=\"psysml:9081ec29-06f9-459b-bb5e-85f58996f1a9\" xlink:type=\"simple\"><rect fill=\"#FFFFFF\" height=\"42.9375\" id=\"E3\" style=\"stroke: #383838; stroke-width: 1.5;\" width=\"75\" x=\"96.5\" y=\"253\"/><rect fill=\"#F8F8F8\" height=\"37.9375\" style=\"stroke: #383838; stroke-width: 1.5;\" width=\"75\" x=\"96.5\" y=\"253\"/><text fill=\"#000000\" font-family=\"sans-serif\" font-size=\"12\" font-style=\"italic\" lengthAdjust=\"spacingAndGlyphs\" textLength=\"68\" x=\"100\" y=\"269.1387\">«part  def»</text><text fill=\"#000000\" font-family=\"sans-serif\" font-size=\"12\" lengthAdjust=\"spacingAndGlyphs\" textLength=\"8\" x=\"130\" y=\"283.1074\">A</text></a></g><a href=\"psysml:7edd138a-1c77-4581-b137-3a8c463dac94\" target=\"_top\" title=\"psysml:7edd138a-1c77-4581-b137-3a8c463dac94\" xlink:actuate=\"onRequest\" xlink:href=\"psysml:7edd138a-1c77-4581-b137-3a8c463dac94\" xlink:show=\"new\" xlink:title=\"psysml:7edd138a-1c77-4581-b137-3a8c463dac94\" xlink:type=\"simple\"><polygon fill=\"#FFFFFF\" points=\"141,84,173,84,180,106.2969,187,106.2969,187,136.5938,141,136.5938,141,84\" style=\"stroke: #000000; stroke-width: 1.5;\"/><line style=\"stroke: #000000; stroke-width: 1.5;\" x1=\"141\" x2=\"180\" y1=\"106.2969\" y2=\"106.2969\"/><text fill=\"#000000\" font-family=\"sans-serif\" font-size=\"14\" font-weight=\"bold\" lengthAdjust=\"spacingAndGlyphs\" textLength=\"26\" x=\"145\" y=\"98.9951\">P2a</text></a><g id=\"E1.E4.E6\"><a href=\"psysml:b30d741d-b0a5-4dc2-b144-a7e4c27e5c46\" target=\"_top\" title=\"psysml:b30d741d-b0a5-4dc2-b144-a7e4c27e5c46\" xlink:actuate=\"onRequest\" xlink:href=\"psysml:b30d741d-b0a5-4dc2-b144-a7e4c27e5c46\" xlink:show=\"new\" xlink:title=\"psysml:b30d741d-b0a5-4dc2-b144-a7e4c27e5c46\" xlink:type=\"simple\"><rect fill=\"#FFFFFF\" height=\"40\" id=\"E6\" rx=\"10\" ry=\"10\" style=\"stroke: #383838; stroke-width: 1.5;\" width=\"50\" x=\"56\" y=\"90.5\"/><rect fill=\"#F8F8F8\" height=\"23.9688\" rx=\"10\" ry=\"10\" style=\"stroke: #F8F8F8; stroke-width: 1.5;\" width=\"50\" x=\"56\" y=\"90.5\"/><rect fill=\"#F8F8F8\" height=\"10\" style=\"stroke: #F8F8F8; stroke-width: 1.5;\" width=\"50\" x=\"56\" y=\"104.4688\"/><rect fill=\"none\" height=\"40\" id=\"E6\" rx=\"10\" ry=\"10\" style=\"stroke: #383838; stroke-width: 1.5;\" width=\"50\" x=\"56\" y=\"90.5\"/><text fill=\"#000000\" font-family=\"sans-serif\" font-size=\"12\" lengthAdjust=\"spacingAndGlyphs\" textLength=\"22\" x=\"70\" y=\"106.6387\">x: A</text></a></g><!--MD5=[15ebcb19ae302d9b601edb458606d402]\n",
       "link E5 to E2--><a href=\"psysml:b8da89e1-0406-4ebb-8e6e-940fd82b8a4d\" target=\"_top\" title=\"psysml:b8da89e1-0406-4ebb-8e6e-940fd82b8a4d\" xlink:actuate=\"onRequest\" xlink:href=\"psysml:b8da89e1-0406-4ebb-8e6e-940fd82b8a4d\" xlink:show=\"new\" xlink:title=\"psysml:b8da89e1-0406-4ebb-8e6e-940fd82b8a4d\" xlink:type=\"simple\"><path d=\"M156.25,137.24 C156.25,161.99 156.25,195 156.25,195 C156.25,195 61,195 61,195 C61,195 61,199.5138 61,206.3902 C61,207.2497 61,208.1462 61,209.0754 C61,209.3077 61,209.542 61,209.7783 \" fill=\"none\" id=\"E5-&gt;E2\" style=\"stroke: #383838; stroke-width: 1.0; stroke-dasharray: 7.0,7.0;\"/><polygon fill=\"#383838\" points=\"61,209.7783,65,200.7783,61,204.7783,57,200.7783,61,209.7783\" style=\"stroke: #383838; stroke-width: 1.0;\"/><text fill=\"#000000\" font-family=\"sans-serif\" font-size=\"13\" lengthAdjust=\"spacingAndGlyphs\" textLength=\"65\" x=\"106\" y=\"182.0669\">«import»*</text></a><!--MD5=[2e062c6c9b6eb6075262359a788a93f1]\n",
       "@startuml\r\n",
       "skinparam ranksep 10\r\n",
       "skinparam rectangle {\r\n",
       " backgroundColor<<block>> LightGreen\r\n",
       "}\r\n",
       "skinparam linetype ortho\r\n",
       "skinparam monochrome true\r\n",
       "skinparam classbackgroundcolor white\r\n",
       "skinparam shadowing false\r\n",
       "skinparam wrapWidth 300\r\n",
       "hide circle\r\n",
       "\r\n",
       "package \"QualifiedNameImportTest\" as E1  [[psysml:091e42f3-dddd-4d90-8666-606f19fb366e ]]  {\r\n",
       "package \"P1\" as E2  [[psysml:63fd19d7-856c-4154-ab3f-5f7beb933c6f ]]  {\r\n",
       "rec def \"A\" as E3  <<(T,blue) part  def>> [[psysml:9081ec29-06f9-459b-bb5e-85f58996f1a9 ]] {\r\n",
       "}\r\n",
       "}\r\n",
       "package \"P2\" as E4  [[psysml:d8f64ef2-651e-4c07-9e19-09c43a642dc3 ]]  {\r\n",
       "package \"P2a\" as E5  [[psysml:7edd138a-1c77-4581-b137-3a8c463dac94 ]]  {\r\n",
       "}\r\n",
       "rec usage \"x: A\" as E6  [[psysml:b30d741d-b0a5-4dc2-b144-a7e4c27e5c46 ]] {\r\n",
       "}\r\n",
       "}\r\n",
       "}\r\n",
       "E5 ..> E2 [[psysml:b8da89e1-0406-4ebb-8e6e-940fd82b8a4d ]] : <<import>>*\r\n",
       "@enduml\r\n",
       "\n",
       "PlantUML version 1.2020.13(Sat Jun 13 12:26:38 UTC 2020)\n",
       "(EPL source distribution)\n",
       "Java Runtime: OpenJDK Runtime Environment\n",
       "JVM: OpenJDK 64-Bit Server VM\n",
       "Default Encoding: UTF-8\n",
       "Language: en\n",
       "Country: null\n",
       "--></g></svg>"
      ]
     },
     "execution_count": 54,
     "metadata": {},
     "output_type": "execute_result"
    }
   ],
   "source": [
    "%viz --style=\"ORTHOLINE\" --view=\"Interconnection\" \"QualifiedNameImportTest\""
   ]
  },
  {
   "cell_type": "code",
   "execution_count": 55,
   "id": "7ecfe926",
   "metadata": {
    "execution": {
     "iopub.execute_input": "2022-02-18T10:50:04.626314Z",
     "iopub.status.busy": "2022-02-18T10:50:04.625861Z",
     "iopub.status.idle": "2022-02-18T10:50:04.630789Z",
     "shell.execute_reply": "2022-02-18T10:50:04.630442Z"
    }
   },
   "outputs": [
    {
     "data": {
      "image/svg+xml": [
       "<?xml version=\"1.0\" encoding=\"UTF-8\" standalone=\"no\"?><svg xmlns=\"http://www.w3.org/2000/svg\" xmlns:xlink=\"http://www.w3.org/1999/xlink\" contentScriptType=\"application/ecmascript\" contentStyleType=\"text/css\" height=\"12px\" preserveAspectRatio=\"none\" style=\"width:12px;height:12px;\" version=\"1.1\" viewBox=\"0 0 12 12\" width=\"12px\" zoomAndPan=\"magnify\"><defs/><g><!--MD5=[72934c63077099a26744516a776b4749]\n",
       "@startuml\r\n",
       "skinparam ranksep 8\r\n",
       "skinparam linetype ortho\r\n",
       "skinparam monochrome true\r\n",
       "skinparam classbackgroundcolor white\r\n",
       "skinparam shadowing false\r\n",
       "skinparam wrapWidth 300\r\n",
       "hide circle\r\n",
       "\r\n",
       "@enduml\r\n",
       "\n",
       "PlantUML version 1.2020.13(Sat Jun 13 12:26:38 UTC 2020)\n",
       "(EPL source distribution)\n",
       "Java Runtime: OpenJDK Runtime Environment\n",
       "JVM: OpenJDK 64-Bit Server VM\n",
       "Default Encoding: UTF-8\n",
       "Language: en\n",
       "Country: null\n",
       "--></g></svg>"
      ]
     },
     "execution_count": 55,
     "metadata": {},
     "output_type": "execute_result"
    }
   ],
   "source": [
    "%viz --style=\"ORTHOLINE\" --view=\"Action\" \"QualifiedNameImportTest\""
   ]
  },
  {
   "cell_type": "code",
   "execution_count": 56,
   "id": "c7a3f950",
   "metadata": {
    "execution": {
     "iopub.execute_input": "2022-02-18T10:50:04.680533Z",
     "iopub.status.busy": "2022-02-18T10:50:04.680123Z",
     "iopub.status.idle": "2022-02-18T10:50:04.684717Z",
     "shell.execute_reply": "2022-02-18T10:50:04.684316Z"
    }
   },
   "outputs": [
    {
     "data": {
      "image/svg+xml": [
       "<?xml version=\"1.0\" encoding=\"UTF-8\" standalone=\"no\"?><svg xmlns=\"http://www.w3.org/2000/svg\" xmlns:xlink=\"http://www.w3.org/1999/xlink\" contentScriptType=\"application/ecmascript\" contentStyleType=\"text/css\" height=\"12px\" preserveAspectRatio=\"none\" style=\"width:12px;height:12px;\" version=\"1.1\" viewBox=\"0 0 12 12\" width=\"12px\" zoomAndPan=\"magnify\"><defs/><g><!--MD5=[30fc1de5121c5abddedd55b44417fde8]\n",
       "@startuml\r\n",
       "skinparam roundcorner 20\r\n",
       "skinparam BoxPadding 20\r\n",
       "skinparam SequenceBoxBackgroundColor #white\r\n",
       "skinparam style strictuml\r\n",
       "skinparam maxMessageSize 100\r\n",
       "skinparam linetype ortho\r\n",
       "skinparam monochrome true\r\n",
       "skinparam classbackgroundcolor white\r\n",
       "skinparam shadowing false\r\n",
       "skinparam wrapWidth 300\r\n",
       "hide circle\r\n",
       "\r\n",
       "@enduml\r\n",
       "\n",
       "PlantUML version 1.2020.13(Sat Jun 13 12:26:38 UTC 2020)\n",
       "(EPL source distribution)\n",
       "Java Runtime: OpenJDK Runtime Environment\n",
       "JVM: OpenJDK 64-Bit Server VM\n",
       "Default Encoding: UTF-8\n",
       "Language: en\n",
       "Country: null\n",
       "--></g></svg>"
      ]
     },
     "execution_count": 56,
     "metadata": {},
     "output_type": "execute_result"
    }
   ],
   "source": [
    "%viz --style=\"ORTHOLINE\" --view=\"Sequence\" \"QualifiedNameImportTest\""
   ]
  },
  {
   "cell_type": "code",
   "execution_count": 57,
   "id": "c25e4a0c",
   "metadata": {
    "execution": {
     "iopub.execute_input": "2022-02-18T10:50:04.734625Z",
     "iopub.status.busy": "2022-02-18T10:50:04.734097Z",
     "iopub.status.idle": "2022-02-18T10:50:04.760930Z",
     "shell.execute_reply": "2022-02-18T10:50:04.760582Z"
    }
   },
   "outputs": [
    {
     "data": {
      "image/svg+xml": [
       "<?xml version=\"1.0\" encoding=\"UTF-8\" standalone=\"no\"?><svg xmlns=\"http://www.w3.org/2000/svg\" xmlns:xlink=\"http://www.w3.org/1999/xlink\" contentScriptType=\"application/ecmascript\" contentStyleType=\"text/css\" height=\"367px\" preserveAspectRatio=\"none\" style=\"width:241px;height:367px;\" version=\"1.1\" viewBox=\"0 0 241 367\" width=\"241px\" zoomAndPan=\"magnify\"><defs/><g><!--MD5=[fbc87193dbaf4d95561dea2c320d4a47]\n",
       "cluster E1--><a href=\"psysml:091e42f3-dddd-4d90-8666-606f19fb366e\" target=\"_top\" title=\"psysml:091e42f3-dddd-4d90-8666-606f19fb366e\" xlink:actuate=\"onRequest\" xlink:href=\"psysml:091e42f3-dddd-4d90-8666-606f19fb366e\" xlink:show=\"new\" xlink:title=\"psysml:091e42f3-dddd-4d90-8666-606f19fb366e\" xlink:type=\"simple\"><polygon fill=\"#FFFFFF\" points=\"16,6,196,6,203,28.2969,219,28.2969,219,355,16,355,16,6\" style=\"stroke: #000000; stroke-width: 1.5;\"/><line style=\"stroke: #000000; stroke-width: 1.5;\" x1=\"16\" x2=\"203\" y1=\"28.2969\" y2=\"28.2969\"/><text fill=\"#000000\" font-family=\"sans-serif\" font-size=\"14\" font-weight=\"bold\" lengthAdjust=\"spacingAndGlyphs\" textLength=\"174\" x=\"20\" y=\"20.9951\">QualifiedNameImportTest</text></a><!--MD5=[e4f7fae6ed58524ba242bb0b0d3be6b7]\n",
       "cluster E2--><a href=\"psysml:63fd19d7-856c-4154-ab3f-5f7beb933c6f\" target=\"_top\" title=\"psysml:63fd19d7-856c-4154-ab3f-5f7beb933c6f\" xlink:actuate=\"onRequest\" xlink:href=\"psysml:63fd19d7-856c-4154-ab3f-5f7beb933c6f\" xlink:show=\"new\" xlink:title=\"psysml:63fd19d7-856c-4154-ab3f-5f7beb933c6f\" xlink:type=\"simple\"><polygon fill=\"#FFFFFF\" points=\"48,210,72,210,79,232.2969,185,232.2969,185,323,48,323,48,210\" style=\"stroke: #000000; stroke-width: 1.5;\"/><line style=\"stroke: #000000; stroke-width: 1.5;\" x1=\"48\" x2=\"79\" y1=\"232.2969\" y2=\"232.2969\"/><text fill=\"#000000\" font-family=\"sans-serif\" font-size=\"14\" font-weight=\"bold\" lengthAdjust=\"spacingAndGlyphs\" textLength=\"18\" x=\"52\" y=\"224.9951\">P1</text></a><!--MD5=[f6df4d0ebaf0b5dfb2ced0ae5af7c670]\n",
       "cluster E4--><a href=\"psysml:d8f64ef2-651e-4c07-9e19-09c43a642dc3\" target=\"_top\" title=\"psysml:d8f64ef2-651e-4c07-9e19-09c43a642dc3\" xlink:actuate=\"onRequest\" xlink:href=\"psysml:d8f64ef2-651e-4c07-9e19-09c43a642dc3\" xlink:show=\"new\" xlink:title=\"psysml:d8f64ef2-651e-4c07-9e19-09c43a642dc3\" xlink:type=\"simple\"><polygon fill=\"#FFFFFF\" points=\"40,49,64,49,71,71.2969,195,71.2969,195,153,40,153,40,49\" style=\"stroke: #000000; stroke-width: 1.5;\"/><line style=\"stroke: #000000; stroke-width: 1.5;\" x1=\"40\" x2=\"71\" y1=\"71.2969\" y2=\"71.2969\"/><text fill=\"#000000\" font-family=\"sans-serif\" font-size=\"14\" font-weight=\"bold\" lengthAdjust=\"spacingAndGlyphs\" textLength=\"18\" x=\"44\" y=\"63.9951\">P2</text></a><!--MD5=[09b614a08d8cba4a07c9adeb5e0fee81]\n",
       "class E3--><a href=\"psysml:9081ec29-06f9-459b-bb5e-85f58996f1a9\" target=\"_top\" title=\"psysml:9081ec29-06f9-459b-bb5e-85f58996f1a9\" xlink:actuate=\"onRequest\" xlink:href=\"psysml:9081ec29-06f9-459b-bb5e-85f58996f1a9\" xlink:show=\"new\" xlink:title=\"psysml:9081ec29-06f9-459b-bb5e-85f58996f1a9\" xlink:type=\"simple\"><rect fill=\"#FFFFFF\" height=\"45.9375\" id=\"E3\" style=\"stroke: #383838; stroke-width: 1.5;\" width=\"70\" x=\"72\" y=\"253\"/><text fill=\"#000000\" font-family=\"sans-serif\" font-size=\"12\" font-style=\"italic\" lengthAdjust=\"spacingAndGlyphs\" textLength=\"68\" x=\"73\" y=\"269.1387\">«part  def»</text><text fill=\"#000000\" font-family=\"sans-serif\" font-size=\"12\" lengthAdjust=\"spacingAndGlyphs\" textLength=\"8\" x=\"103\" y=\"283.1074\">A</text><line style=\"stroke: #383838; stroke-width: 1.5;\" x1=\"73\" x2=\"141\" y1=\"290.9375\" y2=\"290.9375\"/></a><!--MD5=[60a26617385b1d2d0262a64233df1f8d]\n",
       "class E6--><a href=\"psysml:b30d741d-b0a5-4dc2-b144-a7e4c27e5c46\" target=\"_top\" title=\"psysml:b30d741d-b0a5-4dc2-b144-a7e4c27e5c46\" xlink:actuate=\"onRequest\" xlink:href=\"psysml:b30d741d-b0a5-4dc2-b144-a7e4c27e5c46\" xlink:show=\"new\" xlink:title=\"psysml:b30d741d-b0a5-4dc2-b144-a7e4c27e5c46\" xlink:type=\"simple\"><rect fill=\"#FFFFFF\" height=\"45.9375\" id=\"E6\" rx=\"10\" ry=\"10\" style=\"stroke: #383838; stroke-width: 1.5;\" width=\"42\" x=\"56\" y=\"87.5\"/><text fill=\"#000000\" font-family=\"sans-serif\" font-size=\"12\" font-style=\"italic\" lengthAdjust=\"spacingAndGlyphs\" textLength=\"40\" x=\"57\" y=\"103.6387\">«part»</text><text fill=\"#000000\" font-family=\"sans-serif\" font-size=\"12\" lengthAdjust=\"spacingAndGlyphs\" textLength=\"22\" x=\"64\" y=\"117.6074\">x: A</text><line style=\"stroke: #383838; stroke-width: 1.5;\" x1=\"57\" x2=\"97\" y1=\"125.4375\" y2=\"125.4375\"/></a><a href=\"psysml:7edd138a-1c77-4581-b137-3a8c463dac94\" target=\"_top\" title=\"psysml:7edd138a-1c77-4581-b137-3a8c463dac94\" xlink:actuate=\"onRequest\" xlink:href=\"psysml:7edd138a-1c77-4581-b137-3a8c463dac94\" xlink:show=\"new\" xlink:title=\"psysml:7edd138a-1c77-4581-b137-3a8c463dac94\" xlink:type=\"simple\"><polygon fill=\"#FFFFFF\" points=\"133,84,165,84,172,106.2969,179,106.2969,179,136.5938,133,136.5938,133,84\" style=\"stroke: #000000; stroke-width: 1.5;\"/><line style=\"stroke: #000000; stroke-width: 1.5;\" x1=\"133\" x2=\"172\" y1=\"106.2969\" y2=\"106.2969\"/><text fill=\"#000000\" font-family=\"sans-serif\" font-size=\"14\" font-weight=\"bold\" lengthAdjust=\"spacingAndGlyphs\" textLength=\"26\" x=\"137\" y=\"98.9951\">P2a</text></a><!--MD5=[15ebcb19ae302d9b601edb458606d402]\n",
       "link E5 to E2--><a href=\"psysml:b8da89e1-0406-4ebb-8e6e-940fd82b8a4d\" target=\"_top\" title=\"psysml:b8da89e1-0406-4ebb-8e6e-940fd82b8a4d\" xlink:actuate=\"onRequest\" xlink:href=\"psysml:b8da89e1-0406-4ebb-8e6e-940fd82b8a4d\" xlink:show=\"new\" xlink:title=\"psysml:b8da89e1-0406-4ebb-8e6e-940fd82b8a4d\" xlink:type=\"simple\"><path d=\"M177,137.09 C177,148.2375 177,161.9594 177,176.3959 C177,183.6142 177,191.0112 177,198.3543 C177,202.0259 177,205.6841 177,209.2997 C177,209.5257 177,209.7515 177,209.9771 \" fill=\"none\" id=\"E5-&gt;E2\" style=\"stroke: #383838; stroke-width: 1.0; stroke-dasharray: 7.0,7.0;\"/><polygon fill=\"#383838\" points=\"177,209.9771,181,200.9771,177,204.9771,173,200.9771,177,209.9771\" style=\"stroke: #383838; stroke-width: 1.0;\"/><text fill=\"#000000\" font-family=\"sans-serif\" font-size=\"13\" lengthAdjust=\"spacingAndGlyphs\" textLength=\"65\" x=\"137\" y=\"182.0669\">«import»*</text></a><!--MD5=[a717450b82c80b9240a525fa862496af]\n",
       "link E6 to E3--><a href=\"psysml:ce27ea1d-5c56-4308-8b0e-4b6ab5ed7604\" target=\"_top\" title=\"psysml:ce27ea1d-5c56-4308-8b0e-4b6ab5ed7604\" xlink:actuate=\"onRequest\" xlink:href=\"psysml:ce27ea1d-5c56-4308-8b0e-4b6ab5ed7604\" xlink:show=\"new\" xlink:title=\"psysml:ce27ea1d-5c56-4308-8b0e-4b6ab5ed7604\" xlink:type=\"simple\"><path d=\"M85,133.51 C85,133.51 85,232.92 85,232.92 \" fill=\"none\" id=\"E6-&gt;E3\" style=\"stroke: #383838; stroke-width: 1.0;\"/><polygon fill=\"#FFFFFF\" points=\"85,252.92,78,233.92,92,233.92,85,252.92\" style=\"stroke: #383838; stroke-width: 1.0;\"/><ellipse cx=\"80\" cy=\"228.22\" fill=\"#383838\" rx=\"2\" ry=\"2\" style=\"stroke: #383838; stroke-width: 1.0;\"/><ellipse cx=\"90\" cy=\"228.22\" fill=\"#383838\" rx=\"2\" ry=\"2\" style=\"stroke: #383838; stroke-width: 1.0;\"/></a><!--MD5=[10fd2ae5364ed175761fb7bb5b522467]\n",
       "@startuml\r\n",
       "skinparam linetype ortho\r\n",
       "skinparam monochrome true\r\n",
       "skinparam classbackgroundcolor white\r\n",
       "skinparam shadowing false\r\n",
       "skinparam wrapWidth 300\r\n",
       "hide circle\r\n",
       "\r\n",
       "package \"QualifiedNameImportTest\" as E1  [[psysml:091e42f3-dddd-4d90-8666-606f19fb366e ]]  {\r\n",
       "package \"P1\" as E2  [[psysml:63fd19d7-856c-4154-ab3f-5f7beb933c6f ]]  {\r\n",
       "comp def \"A\" as E3  <<(T,blue) part  def>> [[psysml:9081ec29-06f9-459b-bb5e-85f58996f1a9 ]] {\r\n",
       "}\r\n",
       "}\r\n",
       "package \"P2\" as E4  [[psysml:d8f64ef2-651e-4c07-9e19-09c43a642dc3 ]]  {\r\n",
       "package \"P2a\" as E5  [[psysml:7edd138a-1c77-4581-b137-3a8c463dac94 ]]  {\r\n",
       "}\r\n",
       "comp usage \"x: A \" as E6  <<(T,blue) part>> [[psysml:b30d741d-b0a5-4dc2-b144-a7e4c27e5c46 ]] {\r\n",
       "}\r\n",
       "}\r\n",
       "}\r\n",
       "E5 ..> E2 [[psysml:b8da89e1-0406-4ebb-8e6e-940fd82b8a4d ]] : <<import>>*\r\n",
       "E6 - -:|> E3 [[psysml:ce27ea1d-5c56-4308-8b0e-4b6ab5ed7604 ]] \r\n",
       "@enduml\r\n",
       "\n",
       "PlantUML version 1.2020.13(Sat Jun 13 12:26:38 UTC 2020)\n",
       "(EPL source distribution)\n",
       "Java Runtime: OpenJDK Runtime Environment\n",
       "JVM: OpenJDK 64-Bit Server VM\n",
       "Default Encoding: UTF-8\n",
       "Language: en\n",
       "Country: null\n",
       "--></g></svg>"
      ]
     },
     "execution_count": 57,
     "metadata": {},
     "output_type": "execute_result"
    }
   ],
   "source": [
    "%viz --style=\"ORTHOLINE\" --view=\"MIXED\" \"QualifiedNameImportTest\""
   ]
  }
 ],
 "metadata": {
  "kernelspec": {
   "display_name": "SysML",
   "language": "sysml",
   "name": "sysml"
  },
  "language_info": {
   "codemirror_mode": "sysml",
   "file_extension": ".sysml",
   "mimetype": "text/x-sysml",
   "name": "SysML",
   "pygments_lexer": "java",
   "version": "1.0.0"
  }
 },
 "nbformat": 4,
 "nbformat_minor": 5
}
