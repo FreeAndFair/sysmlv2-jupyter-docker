{
 "cells": [
  {
   "cell_type": "markdown",
   "id": "decreased-creation",
   "metadata": {},
   "source": [
    "# SysML v2 Test Suite\n",
    "\n",
    "This can notebook can be cleared using menu `Edit --> Clear All Outputs` and then all cells can be\n",
    "run using menu `Run --> Run All Cells`.\n",
    "\n",
    "**WARNING**: This file is generated, all modifications here will be ignored.\n"
   ]
  },
  {
   "cell_type": "markdown",
   "id": "tight-middle",
   "metadata": {},
   "source": [
    "## File: ../../sysml/src/examples/Import Tests/QualifiedNameImportTest.sysml"
   ]
  },
  {
   "cell_type": "code",
   "execution_count": 1,
   "id": "fresh-cooperative",
   "metadata": {
    "execution": {
     "iopub.execute_input": "2021-03-25T09:35:22.925105Z",
     "iopub.status.busy": "2021-03-25T09:35:22.924456Z",
     "iopub.status.idle": "2021-03-25T09:35:23.054420Z",
     "shell.execute_reply": "2021-03-25T09:35:23.053666Z"
    }
   },
   "outputs": [
    {
     "data": {
      "text/plain": [
       "Package QualifiedNameImportTest (3197ff76-5999-4122-a966-7780da9f3c61)\n"
      ]
     },
     "execution_count": 1,
     "metadata": {},
     "output_type": "execute_result"
    }
   ],
   "source": [
    "package QualifiedNameImportTest {\n",
    "\tpackage P1 {\n",
    "\t\tpart def A;\n",
    "\t}\n",
    "\tpackage P2 {\n",
    "\t\tpackage P2a {\n",
    "\t\t\timport P1::*;\n",
    "\t\t}\n",
    "\t\t// The following should not fail.\n",
    "\t\t// A is a member of P2a because of the import.\n",
    "\t\tpart x: P2a::A;\n",
    "\t}\n",
    "}"
   ]
  },
  {
   "cell_type": "code",
   "execution_count": 2,
   "id": "gentle-grain",
   "metadata": {
    "execution": {
     "iopub.execute_input": "2021-03-25T09:35:23.105528Z",
     "iopub.status.busy": "2021-03-25T09:35:23.105088Z",
     "iopub.status.idle": "2021-03-25T09:35:23.828904Z",
     "shell.execute_reply": "2021-03-25T09:35:23.828477Z"
    }
   },
   "outputs": [
    {
     "data": {
      "image/svg+xml": [
       "<?xml version=\"1.0\" encoding=\"UTF-8\" standalone=\"no\"?><svg xmlns=\"http://www.w3.org/2000/svg\" xmlns:xlink=\"http://www.w3.org/1999/xlink\" contentScriptType=\"application/ecmascript\" contentStyleType=\"text/css\" height=\"310px\" preserveAspectRatio=\"none\" style=\"width:253px;height:310px;\" version=\"1.1\" viewBox=\"0 0 253 310\" width=\"253px\" zoomAndPan=\"magnify\"><defs/><g><!--MD5=[fbc87193dbaf4d95561dea2c320d4a47]\n",
       "cluster E1--><a href=\"psysml:d16b9356-f04a-4ff8-b2ae-3864bc76abf1\" target=\"_top\" title=\"psysml:d16b9356-f04a-4ff8-b2ae-3864bc76abf1\" xlink:actuate=\"onRequest\" xlink:href=\"psysml:d16b9356-f04a-4ff8-b2ae-3864bc76abf1\" xlink:show=\"new\" xlink:title=\"psysml:d16b9356-f04a-4ff8-b2ae-3864bc76abf1\" xlink:type=\"simple\"><polygon fill=\"#FFFFFF\" points=\"16,6,221,6,228,28.2969,231,28.2969,231,298,16,298,16,6\" style=\"stroke: #000000; stroke-width: 1.5;\"/><line style=\"stroke: #000000; stroke-width: 1.5;\" x1=\"16\" x2=\"228\" y1=\"28.2969\" y2=\"28.2969\"/><text fill=\"#000000\" font-family=\"sans-serif\" font-size=\"14\" font-weight=\"bold\" lengthAdjust=\"spacingAndGlyphs\" textLength=\"199\" x=\"20\" y=\"20.9951\">QualifiedNameImportTest</text></a><!--MD5=[e4f7fae6ed58524ba242bb0b0d3be6b7]\n",
       "cluster E2--><a href=\"psysml:88b3eb59-bf67-426d-b22b-2d4deb7f4fe0\" target=\"_top\" title=\"psysml:88b3eb59-bf67-426d-b22b-2d4deb7f4fe0\" xlink:actuate=\"onRequest\" xlink:href=\"psysml:88b3eb59-bf67-426d-b22b-2d4deb7f4fe0\" xlink:show=\"new\" xlink:title=\"psysml:88b3eb59-bf67-426d-b22b-2d4deb7f4fe0\" xlink:type=\"simple\"><polygon fill=\"#FFFFFF\" points=\"105,177,131,177,138,199.2969,203,199.2969,203,274,105,274,105,177\" style=\"stroke: #000000; stroke-width: 1.5;\"/><line style=\"stroke: #000000; stroke-width: 1.5;\" x1=\"105\" x2=\"138\" y1=\"199.2969\" y2=\"199.2969\"/><text fill=\"#000000\" font-family=\"sans-serif\" font-size=\"14\" font-weight=\"bold\" lengthAdjust=\"spacingAndGlyphs\" textLength=\"20\" x=\"109\" y=\"191.9951\">P1</text></a><!--MD5=[f6df4d0ebaf0b5dfb2ced0ae5af7c670]\n",
       "cluster E4--><a href=\"psysml:4523bb13-7dc6-4a64-a848-9d456c6fa329\" target=\"_top\" title=\"psysml:4523bb13-7dc6-4a64-a848-9d456c6fa329\" xlink:actuate=\"onRequest\" xlink:href=\"psysml:4523bb13-7dc6-4a64-a848-9d456c6fa329\" xlink:show=\"new\" xlink:title=\"psysml:4523bb13-7dc6-4a64-a848-9d456c6fa329\" xlink:type=\"simple\"><polygon fill=\"#FFFFFF\" points=\"44,49,70,49,77,71.2969,203,71.2969,203,153,44,153,44,49\" style=\"stroke: #000000; stroke-width: 1.5;\"/><line style=\"stroke: #000000; stroke-width: 1.5;\" x1=\"44\" x2=\"77\" y1=\"71.2969\" y2=\"71.2969\"/><text fill=\"#000000\" font-family=\"sans-serif\" font-size=\"14\" font-weight=\"bold\" lengthAdjust=\"spacingAndGlyphs\" textLength=\"20\" x=\"48\" y=\"63.9951\">P2</text></a><!--MD5=[09b614a08d8cba4a07c9adeb5e0fee81]\n",
       "class E3--><a href=\"psysml:fd353ea3-6373-455a-afbc-b284741b5a43\" target=\"_top\" title=\"psysml:fd353ea3-6373-455a-afbc-b284741b5a43\" xlink:actuate=\"onRequest\" xlink:href=\"psysml:fd353ea3-6373-455a-afbc-b284741b5a43\" xlink:show=\"new\" xlink:title=\"psysml:fd353ea3-6373-455a-afbc-b284741b5a43\" xlink:type=\"simple\"><rect fill=\"#FFFFFF\" height=\"45.9375\" id=\"E3\" style=\"stroke: #383838; stroke-width: 1.5;\" width=\"66\" x=\"121\" y=\"212\"/><text fill=\"#000000\" font-family=\"sans-serif\" font-size=\"12\" font-style=\"italic\" lengthAdjust=\"spacingAndGlyphs\" textLength=\"64\" x=\"122\" y=\"228.1387\">«part def»</text><text fill=\"#000000\" font-family=\"sans-serif\" font-size=\"12\" lengthAdjust=\"spacingAndGlyphs\" textLength=\"8\" x=\"150\" y=\"242.1074\">A</text><line style=\"stroke: #383838; stroke-width: 1.5;\" x1=\"122\" x2=\"186\" y1=\"249.9375\" y2=\"249.9375\"/></a><!--MD5=[60a26617385b1d2d0262a64233df1f8d]\n",
       "class E6--><a href=\"psysml:7f169e5b-4536-4f95-b3fb-a54a4bad9234\" target=\"_top\" title=\"psysml:7f169e5b-4536-4f95-b3fb-a54a4bad9234\" xlink:actuate=\"onRequest\" xlink:href=\"psysml:7f169e5b-4536-4f95-b3fb-a54a4bad9234\" xlink:show=\"new\" xlink:title=\"psysml:7f169e5b-4536-4f95-b3fb-a54a4bad9234\" xlink:type=\"simple\"><rect fill=\"#FFFFFF\" height=\"45.9375\" id=\"E6\" rx=\"10\" ry=\"10\" style=\"stroke: #383838; stroke-width: 1.5;\" width=\"42\" x=\"145\" y=\"87.5\"/><text fill=\"#000000\" font-family=\"sans-serif\" font-size=\"12\" font-style=\"italic\" lengthAdjust=\"spacingAndGlyphs\" textLength=\"40\" x=\"146\" y=\"103.6387\">«part»</text><text fill=\"#000000\" font-family=\"sans-serif\" font-size=\"12\" lengthAdjust=\"spacingAndGlyphs\" textLength=\"22\" x=\"155\" y=\"117.6074\">x: A</text><line style=\"stroke: #383838; stroke-width: 1.5;\" x1=\"146\" x2=\"186\" y1=\"125.4375\" y2=\"125.4375\"/></a><a href=\"psysml:afe2db1e-b444-45d6-9b6b-b3994e64af2e\" target=\"_top\" title=\"psysml:afe2db1e-b444-45d6-9b6b-b3994e64af2e\" xlink:actuate=\"onRequest\" xlink:href=\"psysml:afe2db1e-b444-45d6-9b6b-b3994e64af2e\" xlink:show=\"new\" xlink:title=\"psysml:afe2db1e-b444-45d6-9b6b-b3994e64af2e\" xlink:type=\"simple\"><polygon fill=\"#FFFFFF\" points=\"60.5,84,95.5,84,102.5,106.2969,109.5,106.2969,109.5,136.5938,60.5,136.5938,60.5,84\" style=\"stroke: #000000; stroke-width: 1.5;\"/><line style=\"stroke: #000000; stroke-width: 1.5;\" x1=\"60.5\" x2=\"102.5\" y1=\"106.2969\" y2=\"106.2969\"/><text fill=\"#000000\" font-family=\"sans-serif\" font-size=\"14\" font-weight=\"bold\" lengthAdjust=\"spacingAndGlyphs\" textLength=\"29\" x=\"64.5\" y=\"98.9951\">P2a</text></a><!--MD5=[a717450b82c80b9240a525fa862496af]\n",
       "link E6 to E3--><a href=\"psysml:4395c2c1-a48a-41da-9561-d3e6647c3ecb\" target=\"_top\" title=\"psysml:4395c2c1-a48a-41da-9561-d3e6647c3ecb\" xlink:actuate=\"onRequest\" xlink:href=\"psysml:4395c2c1-a48a-41da-9561-d3e6647c3ecb\" xlink:show=\"new\" xlink:title=\"psysml:4395c2c1-a48a-41da-9561-d3e6647c3ecb\" xlink:type=\"simple\"><path d=\"M163.83,133.68 C162.24,149.9 160.04,172.39 158.12,191.96 \" fill=\"none\" id=\"E6-&gt;E3\" style=\"stroke: #383838; stroke-width: 1.0;\"/><polygon fill=\"#FFFFFF\" points=\"156.16,211.98,151.0533,192.3861,164.986,193.7564,156.16,211.98\" style=\"stroke: #383838; stroke-width: 1.0;\"/><ellipse cx=\"153.6016\" cy=\"186.9092\" fill=\"#383838\" rx=\"2\" ry=\"2\" style=\"stroke: #383838; stroke-width: 1.0;\"/><ellipse cx=\"163.5535\" cy=\"187.888\" fill=\"#383838\" rx=\"2\" ry=\"2\" style=\"stroke: #383838; stroke-width: 1.0;\"/></a><!--MD5=[7fab7713d304214df42f53a0f5f5d364]\n",
       "@startuml\r\n",
       " skinparam monochrome true\r\n",
       "skinparam classbackgroundcolor white\r\n",
       "skinparam shadowing false\r\n",
       "skinparam wrapWidth 300\r\n",
       "hide circle\r\n",
       "\r\n",
       "package \"QualifiedNameImportTest\" as E1  [[psysml:d16b9356-f04a-4ff8-b2ae-3864bc76abf1 ]]  {\r\n",
       "package \"P1\" as E2  [[psysml:88b3eb59-bf67-426d-b22b-2d4deb7f4fe0 ]]  {\r\n",
       "comp def \"A\" as E3  <<(T,blue)part def>> [[psysml:fd353ea3-6373-455a-afbc-b284741b5a43 ]] {\r\n",
       "}\r\n",
       "}\r\n",
       "package \"P2\" as E4  [[psysml:4523bb13-7dc6-4a64-a848-9d456c6fa329 ]]  {\r\n",
       "package \"P2a\" as E5  [[psysml:afe2db1e-b444-45d6-9b6b-b3994e64af2e ]]  {\r\n",
       "}\r\n",
       "comp usage \"x: A\" as E6  <<(T,blue)part>> [[psysml:7f169e5b-4536-4f95-b3fb-a54a4bad9234 ]] {\r\n",
       "}\r\n",
       "E6 - -:|> E3 [[psysml:4395c2c1-a48a-41da-9561-d3e6647c3ecb ]] \r\n",
       "}\r\n",
       "}\r\n",
       "@enduml\r\n",
       "\n",
       "PlantUML version 1.2020.13(Sat Jun 13 12:26:38 UTC 2020)\n",
       "(EPL source distribution)\n",
       "Java Runtime: OpenJDK Runtime Environment\n",
       "JVM: OpenJDK 64-Bit Server VM\n",
       "Default Encoding: UTF-8\n",
       "Language: en\n",
       "Country: null\n",
       "--></g></svg>"
      ]
     },
     "execution_count": 2,
     "metadata": {},
     "output_type": "execute_result"
    }
   ],
   "source": [
    "%viz --style=\"COMPTREE\" --view=\"Default\" \"QualifiedNameImportTest\""
   ]
  },
  {
   "cell_type": "code",
   "execution_count": 3,
   "id": "extraordinary-gender",
   "metadata": {
    "execution": {
     "iopub.execute_input": "2021-03-25T09:35:23.879815Z",
     "iopub.status.busy": "2021-03-25T09:35:23.879386Z",
     "iopub.status.idle": "2021-03-25T09:35:23.972948Z",
     "shell.execute_reply": "2021-03-25T09:35:23.973359Z"
    }
   },
   "outputs": [
    {
     "data": {
      "image/svg+xml": [
       "<?xml version=\"1.0\" encoding=\"UTF-8\" standalone=\"no\"?><svg xmlns=\"http://www.w3.org/2000/svg\" xmlns:xlink=\"http://www.w3.org/1999/xlink\" contentScriptType=\"application/ecmascript\" contentStyleType=\"text/css\" height=\"310px\" preserveAspectRatio=\"none\" style=\"width:253px;height:310px;\" version=\"1.1\" viewBox=\"0 0 253 310\" width=\"253px\" zoomAndPan=\"magnify\"><defs/><g><!--MD5=[fbc87193dbaf4d95561dea2c320d4a47]\n",
       "cluster E1--><a href=\"psysml:d16b9356-f04a-4ff8-b2ae-3864bc76abf1\" target=\"_top\" title=\"psysml:d16b9356-f04a-4ff8-b2ae-3864bc76abf1\" xlink:actuate=\"onRequest\" xlink:href=\"psysml:d16b9356-f04a-4ff8-b2ae-3864bc76abf1\" xlink:show=\"new\" xlink:title=\"psysml:d16b9356-f04a-4ff8-b2ae-3864bc76abf1\" xlink:type=\"simple\"><polygon fill=\"#FFFFFF\" points=\"16,6,221,6,228,28.2969,231,28.2969,231,298,16,298,16,6\" style=\"stroke: #000000; stroke-width: 1.5;\"/><line style=\"stroke: #000000; stroke-width: 1.5;\" x1=\"16\" x2=\"228\" y1=\"28.2969\" y2=\"28.2969\"/><text fill=\"#000000\" font-family=\"sans-serif\" font-size=\"14\" font-weight=\"bold\" lengthAdjust=\"spacingAndGlyphs\" textLength=\"199\" x=\"20\" y=\"20.9951\">QualifiedNameImportTest</text></a><!--MD5=[e4f7fae6ed58524ba242bb0b0d3be6b7]\n",
       "cluster E2--><a href=\"psysml:88b3eb59-bf67-426d-b22b-2d4deb7f4fe0\" target=\"_top\" title=\"psysml:88b3eb59-bf67-426d-b22b-2d4deb7f4fe0\" xlink:actuate=\"onRequest\" xlink:href=\"psysml:88b3eb59-bf67-426d-b22b-2d4deb7f4fe0\" xlink:show=\"new\" xlink:title=\"psysml:88b3eb59-bf67-426d-b22b-2d4deb7f4fe0\" xlink:type=\"simple\"><polygon fill=\"#FFFFFF\" points=\"105,177,131,177,138,199.2969,203,199.2969,203,274,105,274,105,177\" style=\"stroke: #000000; stroke-width: 1.5;\"/><line style=\"stroke: #000000; stroke-width: 1.5;\" x1=\"105\" x2=\"138\" y1=\"199.2969\" y2=\"199.2969\"/><text fill=\"#000000\" font-family=\"sans-serif\" font-size=\"14\" font-weight=\"bold\" lengthAdjust=\"spacingAndGlyphs\" textLength=\"20\" x=\"109\" y=\"191.9951\">P1</text></a><!--MD5=[f6df4d0ebaf0b5dfb2ced0ae5af7c670]\n",
       "cluster E4--><a href=\"psysml:4523bb13-7dc6-4a64-a848-9d456c6fa329\" target=\"_top\" title=\"psysml:4523bb13-7dc6-4a64-a848-9d456c6fa329\" xlink:actuate=\"onRequest\" xlink:href=\"psysml:4523bb13-7dc6-4a64-a848-9d456c6fa329\" xlink:show=\"new\" xlink:title=\"psysml:4523bb13-7dc6-4a64-a848-9d456c6fa329\" xlink:type=\"simple\"><polygon fill=\"#FFFFFF\" points=\"44,49,70,49,77,71.2969,203,71.2969,203,153,44,153,44,49\" style=\"stroke: #000000; stroke-width: 1.5;\"/><line style=\"stroke: #000000; stroke-width: 1.5;\" x1=\"44\" x2=\"77\" y1=\"71.2969\" y2=\"71.2969\"/><text fill=\"#000000\" font-family=\"sans-serif\" font-size=\"14\" font-weight=\"bold\" lengthAdjust=\"spacingAndGlyphs\" textLength=\"20\" x=\"48\" y=\"63.9951\">P2</text></a><!--MD5=[09b614a08d8cba4a07c9adeb5e0fee81]\n",
       "class E3--><a href=\"psysml:fd353ea3-6373-455a-afbc-b284741b5a43\" target=\"_top\" title=\"psysml:fd353ea3-6373-455a-afbc-b284741b5a43\" xlink:actuate=\"onRequest\" xlink:href=\"psysml:fd353ea3-6373-455a-afbc-b284741b5a43\" xlink:show=\"new\" xlink:title=\"psysml:fd353ea3-6373-455a-afbc-b284741b5a43\" xlink:type=\"simple\"><rect fill=\"#FFFFFF\" height=\"45.9375\" id=\"E3\" style=\"stroke: #383838; stroke-width: 1.5;\" width=\"66\" x=\"121\" y=\"212\"/><text fill=\"#000000\" font-family=\"sans-serif\" font-size=\"12\" font-style=\"italic\" lengthAdjust=\"spacingAndGlyphs\" textLength=\"64\" x=\"122\" y=\"228.1387\">«part def»</text><text fill=\"#000000\" font-family=\"sans-serif\" font-size=\"12\" lengthAdjust=\"spacingAndGlyphs\" textLength=\"8\" x=\"150\" y=\"242.1074\">A</text><line style=\"stroke: #383838; stroke-width: 1.5;\" x1=\"122\" x2=\"186\" y1=\"249.9375\" y2=\"249.9375\"/></a><!--MD5=[60a26617385b1d2d0262a64233df1f8d]\n",
       "class E6--><a href=\"psysml:7f169e5b-4536-4f95-b3fb-a54a4bad9234\" target=\"_top\" title=\"psysml:7f169e5b-4536-4f95-b3fb-a54a4bad9234\" xlink:actuate=\"onRequest\" xlink:href=\"psysml:7f169e5b-4536-4f95-b3fb-a54a4bad9234\" xlink:show=\"new\" xlink:title=\"psysml:7f169e5b-4536-4f95-b3fb-a54a4bad9234\" xlink:type=\"simple\"><rect fill=\"#FFFFFF\" height=\"45.9375\" id=\"E6\" rx=\"10\" ry=\"10\" style=\"stroke: #383838; stroke-width: 1.5;\" width=\"42\" x=\"145\" y=\"87.5\"/><text fill=\"#000000\" font-family=\"sans-serif\" font-size=\"12\" font-style=\"italic\" lengthAdjust=\"spacingAndGlyphs\" textLength=\"40\" x=\"146\" y=\"103.6387\">«part»</text><text fill=\"#000000\" font-family=\"sans-serif\" font-size=\"12\" lengthAdjust=\"spacingAndGlyphs\" textLength=\"22\" x=\"155\" y=\"117.6074\">x: A</text><line style=\"stroke: #383838; stroke-width: 1.5;\" x1=\"146\" x2=\"186\" y1=\"125.4375\" y2=\"125.4375\"/></a><a href=\"psysml:afe2db1e-b444-45d6-9b6b-b3994e64af2e\" target=\"_top\" title=\"psysml:afe2db1e-b444-45d6-9b6b-b3994e64af2e\" xlink:actuate=\"onRequest\" xlink:href=\"psysml:afe2db1e-b444-45d6-9b6b-b3994e64af2e\" xlink:show=\"new\" xlink:title=\"psysml:afe2db1e-b444-45d6-9b6b-b3994e64af2e\" xlink:type=\"simple\"><polygon fill=\"#FFFFFF\" points=\"60.5,84,95.5,84,102.5,106.2969,109.5,106.2969,109.5,136.5938,60.5,136.5938,60.5,84\" style=\"stroke: #000000; stroke-width: 1.5;\"/><line style=\"stroke: #000000; stroke-width: 1.5;\" x1=\"60.5\" x2=\"102.5\" y1=\"106.2969\" y2=\"106.2969\"/><text fill=\"#000000\" font-family=\"sans-serif\" font-size=\"14\" font-weight=\"bold\" lengthAdjust=\"spacingAndGlyphs\" textLength=\"29\" x=\"64.5\" y=\"98.9951\">P2a</text></a><!--MD5=[a717450b82c80b9240a525fa862496af]\n",
       "link E6 to E3--><a href=\"psysml:4395c2c1-a48a-41da-9561-d3e6647c3ecb\" target=\"_top\" title=\"psysml:4395c2c1-a48a-41da-9561-d3e6647c3ecb\" xlink:actuate=\"onRequest\" xlink:href=\"psysml:4395c2c1-a48a-41da-9561-d3e6647c3ecb\" xlink:show=\"new\" xlink:title=\"psysml:4395c2c1-a48a-41da-9561-d3e6647c3ecb\" xlink:type=\"simple\"><path d=\"M163.83,133.68 C162.24,149.9 160.04,172.39 158.12,191.96 \" fill=\"none\" id=\"E6-&gt;E3\" style=\"stroke: #383838; stroke-width: 1.0;\"/><polygon fill=\"#FFFFFF\" points=\"156.16,211.98,151.0533,192.3861,164.986,193.7564,156.16,211.98\" style=\"stroke: #383838; stroke-width: 1.0;\"/><ellipse cx=\"153.6016\" cy=\"186.9092\" fill=\"#383838\" rx=\"2\" ry=\"2\" style=\"stroke: #383838; stroke-width: 1.0;\"/><ellipse cx=\"163.5535\" cy=\"187.888\" fill=\"#383838\" rx=\"2\" ry=\"2\" style=\"stroke: #383838; stroke-width: 1.0;\"/></a><!--MD5=[7fab7713d304214df42f53a0f5f5d364]\n",
       "@startuml\r\n",
       " skinparam monochrome true\r\n",
       "skinparam classbackgroundcolor white\r\n",
       "skinparam shadowing false\r\n",
       "skinparam wrapWidth 300\r\n",
       "hide circle\r\n",
       "\r\n",
       "package \"QualifiedNameImportTest\" as E1  [[psysml:d16b9356-f04a-4ff8-b2ae-3864bc76abf1 ]]  {\r\n",
       "package \"P1\" as E2  [[psysml:88b3eb59-bf67-426d-b22b-2d4deb7f4fe0 ]]  {\r\n",
       "comp def \"A\" as E3  <<(T,blue)part def>> [[psysml:fd353ea3-6373-455a-afbc-b284741b5a43 ]] {\r\n",
       "}\r\n",
       "}\r\n",
       "package \"P2\" as E4  [[psysml:4523bb13-7dc6-4a64-a848-9d456c6fa329 ]]  {\r\n",
       "package \"P2a\" as E5  [[psysml:afe2db1e-b444-45d6-9b6b-b3994e64af2e ]]  {\r\n",
       "}\r\n",
       "comp usage \"x: A\" as E6  <<(T,blue)part>> [[psysml:7f169e5b-4536-4f95-b3fb-a54a4bad9234 ]] {\r\n",
       "}\r\n",
       "E6 - -:|> E3 [[psysml:4395c2c1-a48a-41da-9561-d3e6647c3ecb ]] \r\n",
       "}\r\n",
       "}\r\n",
       "@enduml\r\n",
       "\n",
       "PlantUML version 1.2020.13(Sat Jun 13 12:26:38 UTC 2020)\n",
       "(EPL source distribution)\n",
       "Java Runtime: OpenJDK Runtime Environment\n",
       "JVM: OpenJDK 64-Bit Server VM\n",
       "Default Encoding: UTF-8\n",
       "Language: en\n",
       "Country: null\n",
       "--></g></svg>"
      ]
     },
     "execution_count": 3,
     "metadata": {},
     "output_type": "execute_result"
    }
   ],
   "source": [
    "%viz --style=\"COMPTREE\" --view=\"Tree\" \"QualifiedNameImportTest\""
   ]
  },
  {
   "cell_type": "code",
   "execution_count": 4,
   "id": "selected-services",
   "metadata": {
    "execution": {
     "iopub.execute_input": "2021-03-25T09:35:24.029953Z",
     "iopub.status.busy": "2021-03-25T09:35:24.029245Z",
     "iopub.status.idle": "2021-03-25T09:35:24.036153Z",
     "shell.execute_reply": "2021-03-25T09:35:24.036441Z"
    }
   },
   "outputs": [
    {
     "data": {
      "image/svg+xml": [
       "<?xml version=\"1.0\" encoding=\"UTF-8\" standalone=\"no\"?><svg xmlns=\"http://www.w3.org/2000/svg\" xmlns:xlink=\"http://www.w3.org/1999/xlink\" contentScriptType=\"application/ecmascript\" contentStyleType=\"text/css\" height=\"12px\" preserveAspectRatio=\"none\" style=\"width:12px;height:12px;\" version=\"1.1\" viewBox=\"0 0 12 12\" width=\"12px\" zoomAndPan=\"magnify\"><defs/><g><!--MD5=[f19188ef49e11757b5c46753f95d9edc]\n",
       "@startuml\r\n",
       " skinparam monochrome true\r\n",
       "skinparam classbackgroundcolor white\r\n",
       "skinparam shadowing false\r\n",
       "skinparam wrapWidth 300\r\n",
       "hide circle\r\n",
       "\r\n",
       "@enduml\r\n",
       "\n",
       "PlantUML version 1.2020.13(Sat Jun 13 12:26:38 UTC 2020)\n",
       "(EPL source distribution)\n",
       "Java Runtime: OpenJDK Runtime Environment\n",
       "JVM: OpenJDK 64-Bit Server VM\n",
       "Default Encoding: UTF-8\n",
       "Language: en\n",
       "Country: null\n",
       "--></g></svg>"
      ]
     },
     "execution_count": 4,
     "metadata": {},
     "output_type": "execute_result"
    }
   ],
   "source": [
    "%viz --style=\"COMPTREE\" --view=\"State\" \"QualifiedNameImportTest\""
   ]
  },
  {
   "cell_type": "code",
   "execution_count": 5,
   "id": "weekly-minnesota",
   "metadata": {
    "execution": {
     "iopub.execute_input": "2021-03-25T09:35:24.088749Z",
     "iopub.status.busy": "2021-03-25T09:35:24.088024Z",
     "iopub.status.idle": "2021-03-25T09:35:24.174554Z",
     "shell.execute_reply": "2021-03-25T09:35:24.175002Z"
    }
   },
   "outputs": [
    {
     "data": {
      "image/svg+xml": [
       "<?xml version=\"1.0\" encoding=\"UTF-8\" standalone=\"no\"?><svg xmlns=\"http://www.w3.org/2000/svg\" xmlns:xlink=\"http://www.w3.org/1999/xlink\" contentScriptType=\"application/ecmascript\" contentStyleType=\"text/css\" height=\"189px\" preserveAspectRatio=\"none\" style=\"width:381px;height:189px;\" version=\"1.1\" viewBox=\"0 0 381 189\" width=\"381px\" zoomAndPan=\"magnify\"><defs/><g><!--MD5=[fbc87193dbaf4d95561dea2c320d4a47]\n",
       "cluster E1--><a href=\"psysml:d16b9356-f04a-4ff8-b2ae-3864bc76abf1\" target=\"_top\" title=\"psysml:d16b9356-f04a-4ff8-b2ae-3864bc76abf1\" xlink:actuate=\"onRequest\" xlink:href=\"psysml:d16b9356-f04a-4ff8-b2ae-3864bc76abf1\" xlink:show=\"new\" xlink:title=\"psysml:d16b9356-f04a-4ff8-b2ae-3864bc76abf1\" xlink:type=\"simple\"><polygon fill=\"#FFFFFF\" points=\"16,6,221,6,228,28.2969,359,28.2969,359,177,16,177,16,6\" style=\"stroke: #000000; stroke-width: 1.5;\"/><line style=\"stroke: #000000; stroke-width: 1.5;\" x1=\"16\" x2=\"228\" y1=\"28.2969\" y2=\"28.2969\"/><text fill=\"#000000\" font-family=\"sans-serif\" font-size=\"14\" font-weight=\"bold\" lengthAdjust=\"spacingAndGlyphs\" textLength=\"199\" x=\"20\" y=\"20.9951\">QualifiedNameImportTest</text></a><!--MD5=[e4f7fae6ed58524ba242bb0b0d3be6b7]\n",
       "cluster E2--><a href=\"psysml:88b3eb59-bf67-426d-b22b-2d4deb7f4fe0\" target=\"_top\" title=\"psysml:88b3eb59-bf67-426d-b22b-2d4deb7f4fe0\" xlink:actuate=\"onRequest\" xlink:href=\"psysml:88b3eb59-bf67-426d-b22b-2d4deb7f4fe0\" xlink:show=\"new\" xlink:title=\"psysml:88b3eb59-bf67-426d-b22b-2d4deb7f4fe0\" xlink:type=\"simple\"><polygon fill=\"#FFFFFF\" points=\"231,54,257,54,264,76.2969,335,76.2969,335,148,231,148,231,54\" style=\"stroke: #000000; stroke-width: 1.5;\"/><line style=\"stroke: #000000; stroke-width: 1.5;\" x1=\"231\" x2=\"264\" y1=\"76.2969\" y2=\"76.2969\"/><text fill=\"#000000\" font-family=\"sans-serif\" font-size=\"14\" font-weight=\"bold\" lengthAdjust=\"spacingAndGlyphs\" textLength=\"20\" x=\"235\" y=\"68.9951\">P1</text></a><!--MD5=[f6df4d0ebaf0b5dfb2ced0ae5af7c670]\n",
       "cluster E4--><a href=\"psysml:4523bb13-7dc6-4a64-a848-9d456c6fa329\" target=\"_top\" title=\"psysml:4523bb13-7dc6-4a64-a848-9d456c6fa329\" xlink:actuate=\"onRequest\" xlink:href=\"psysml:4523bb13-7dc6-4a64-a848-9d456c6fa329\" xlink:show=\"new\" xlink:title=\"psysml:4523bb13-7dc6-4a64-a848-9d456c6fa329\" xlink:type=\"simple\"><polygon fill=\"#FFFFFF\" points=\"40,49,66,49,73,71.2969,207,71.2969,207,153,40,153,40,49\" style=\"stroke: #000000; stroke-width: 1.5;\"/><line style=\"stroke: #000000; stroke-width: 1.5;\" x1=\"40\" x2=\"73\" y1=\"71.2969\" y2=\"71.2969\"/><text fill=\"#000000\" font-family=\"sans-serif\" font-size=\"14\" font-weight=\"bold\" lengthAdjust=\"spacingAndGlyphs\" textLength=\"20\" x=\"44\" y=\"63.9951\">P2</text></a><g id=\"E1.E2.E3\"><a href=\"psysml:fd353ea3-6373-455a-afbc-b284741b5a43\" target=\"_top\" title=\"psysml:fd353ea3-6373-455a-afbc-b284741b5a43\" xlink:actuate=\"onRequest\" xlink:href=\"psysml:fd353ea3-6373-455a-afbc-b284741b5a43\" xlink:show=\"new\" xlink:title=\"psysml:fd353ea3-6373-455a-afbc-b284741b5a43\" xlink:type=\"simple\"><rect fill=\"#FFFFFF\" height=\"42.9375\" id=\"E3\" style=\"stroke: #383838; stroke-width: 1.5;\" width=\"71\" x=\"247.5\" y=\"89\"/><rect fill=\"#F8F8F8\" height=\"37.9375\" style=\"stroke: #383838; stroke-width: 1.5;\" width=\"71\" x=\"247.5\" y=\"89\"/><text fill=\"#000000\" font-family=\"sans-serif\" font-size=\"12\" font-style=\"italic\" lengthAdjust=\"spacingAndGlyphs\" textLength=\"64\" x=\"251\" y=\"105.1387\">«part def»</text><text fill=\"#000000\" font-family=\"sans-serif\" font-size=\"12\" lengthAdjust=\"spacingAndGlyphs\" textLength=\"8\" x=\"279\" y=\"119.1074\">A</text></a></g><a href=\"psysml:afe2db1e-b444-45d6-9b6b-b3994e64af2e\" target=\"_top\" title=\"psysml:afe2db1e-b444-45d6-9b6b-b3994e64af2e\" xlink:actuate=\"onRequest\" xlink:href=\"psysml:afe2db1e-b444-45d6-9b6b-b3994e64af2e\" xlink:show=\"new\" xlink:title=\"psysml:afe2db1e-b444-45d6-9b6b-b3994e64af2e\" xlink:type=\"simple\"><polygon fill=\"#FFFFFF\" points=\"141.5,84,176.5,84,183.5,106.2969,190.5,106.2969,190.5,136.5938,141.5,136.5938,141.5,84\" style=\"stroke: #000000; stroke-width: 1.5;\"/><line style=\"stroke: #000000; stroke-width: 1.5;\" x1=\"141.5\" x2=\"183.5\" y1=\"106.2969\" y2=\"106.2969\"/><text fill=\"#000000\" font-family=\"sans-serif\" font-size=\"14\" font-weight=\"bold\" lengthAdjust=\"spacingAndGlyphs\" textLength=\"29\" x=\"145.5\" y=\"98.9951\">P2a</text></a><g id=\"E1.E4.E6\"><a href=\"psysml:7f169e5b-4536-4f95-b3fb-a54a4bad9234\" target=\"_top\" title=\"psysml:7f169e5b-4536-4f95-b3fb-a54a4bad9234\" xlink:actuate=\"onRequest\" xlink:href=\"psysml:7f169e5b-4536-4f95-b3fb-a54a4bad9234\" xlink:show=\"new\" xlink:title=\"psysml:7f169e5b-4536-4f95-b3fb-a54a4bad9234\" xlink:type=\"simple\"><rect fill=\"#FFFFFF\" height=\"40\" id=\"E6\" rx=\"10\" ry=\"10\" style=\"stroke: #383838; stroke-width: 1.5;\" width=\"50\" x=\"56\" y=\"90.5\"/><rect fill=\"#F8F8F8\" height=\"23.9688\" rx=\"10\" ry=\"10\" style=\"stroke: #F8F8F8; stroke-width: 1.5;\" width=\"50\" x=\"56\" y=\"90.5\"/><rect fill=\"#F8F8F8\" height=\"10\" style=\"stroke: #F8F8F8; stroke-width: 1.5;\" width=\"50\" x=\"56\" y=\"104.4688\"/><rect fill=\"none\" height=\"40\" id=\"E6\" rx=\"10\" ry=\"10\" style=\"stroke: #383838; stroke-width: 1.5;\" width=\"50\" x=\"56\" y=\"90.5\"/><text fill=\"#000000\" font-family=\"sans-serif\" font-size=\"12\" lengthAdjust=\"spacingAndGlyphs\" textLength=\"22\" x=\"70\" y=\"106.6387\">x: A</text></a></g><!--MD5=[1ac2095b4376f0cb1d324a7e0aa2f494]\n",
       "@startuml\r\n",
       "skinparam ranksep 8\r\n",
       "skinparam rectangle {\r\n",
       " backgroundColor<<block>> LightGreen\r\n",
       "}\r\n",
       " skinparam monochrome true\r\n",
       "skinparam classbackgroundcolor white\r\n",
       "skinparam shadowing false\r\n",
       "skinparam wrapWidth 300\r\n",
       "hide circle\r\n",
       "\r\n",
       "package \"QualifiedNameImportTest\" as E1  [[psysml:d16b9356-f04a-4ff8-b2ae-3864bc76abf1 ]]  {\r\n",
       "package \"P1\" as E2  [[psysml:88b3eb59-bf67-426d-b22b-2d4deb7f4fe0 ]]  {\r\n",
       "rec def \"A\" as E3  <<(T,blue)part def>> [[psysml:fd353ea3-6373-455a-afbc-b284741b5a43 ]] {\r\n",
       "}\r\n",
       "}\r\n",
       "package \"P2\" as E4  [[psysml:4523bb13-7dc6-4a64-a848-9d456c6fa329 ]]  {\r\n",
       "package \"P2a\" as E5  [[psysml:afe2db1e-b444-45d6-9b6b-b3994e64af2e ]]  {\r\n",
       "}\r\n",
       "rec usage \"x: A\" as E6  [[psysml:7f169e5b-4536-4f95-b3fb-a54a4bad9234 ]] {\r\n",
       "}\r\n",
       "}\r\n",
       "}\r\n",
       "@enduml\r\n",
       "\n",
       "PlantUML version 1.2020.13(Sat Jun 13 12:26:38 UTC 2020)\n",
       "(EPL source distribution)\n",
       "Java Runtime: OpenJDK Runtime Environment\n",
       "JVM: OpenJDK 64-Bit Server VM\n",
       "Default Encoding: UTF-8\n",
       "Language: en\n",
       "Country: null\n",
       "--></g></svg>"
      ]
     },
     "execution_count": 5,
     "metadata": {},
     "output_type": "execute_result"
    }
   ],
   "source": [
    "%viz --style=\"COMPTREE\" --view=\"Interconnection\" \"QualifiedNameImportTest\""
   ]
  },
  {
   "cell_type": "code",
   "execution_count": 6,
   "id": "legitimate-break",
   "metadata": {
    "execution": {
     "iopub.execute_input": "2021-03-25T09:35:24.225321Z",
     "iopub.status.busy": "2021-03-25T09:35:24.224895Z",
     "iopub.status.idle": "2021-03-25T09:35:24.237080Z",
     "shell.execute_reply": "2021-03-25T09:35:24.237983Z"
    }
   },
   "outputs": [
    {
     "data": {
      "image/svg+xml": [
       "<?xml version=\"1.0\" encoding=\"UTF-8\" standalone=\"no\"?><svg xmlns=\"http://www.w3.org/2000/svg\" xmlns:xlink=\"http://www.w3.org/1999/xlink\" contentScriptType=\"application/ecmascript\" contentStyleType=\"text/css\" height=\"12px\" preserveAspectRatio=\"none\" style=\"width:12px;height:12px;\" version=\"1.1\" viewBox=\"0 0 12 12\" width=\"12px\" zoomAndPan=\"magnify\"><defs/><g><!--MD5=[655b888544ca4751ea36af1068543f84]\n",
       "@startuml\r\n",
       "skinparam ranksep 8\r\n",
       " skinparam monochrome true\r\n",
       "skinparam classbackgroundcolor white\r\n",
       "skinparam shadowing false\r\n",
       "skinparam wrapWidth 300\r\n",
       "hide circle\r\n",
       "\r\n",
       "@enduml\r\n",
       "\n",
       "PlantUML version 1.2020.13(Sat Jun 13 12:26:38 UTC 2020)\n",
       "(EPL source distribution)\n",
       "Java Runtime: OpenJDK Runtime Environment\n",
       "JVM: OpenJDK 64-Bit Server VM\n",
       "Default Encoding: UTF-8\n",
       "Language: en\n",
       "Country: null\n",
       "--></g></svg>"
      ]
     },
     "execution_count": 6,
     "metadata": {},
     "output_type": "execute_result"
    }
   ],
   "source": [
    "%viz --style=\"COMPTREE\" --view=\"Action\" \"QualifiedNameImportTest\""
   ]
  },
  {
   "cell_type": "code",
   "execution_count": 7,
   "id": "normal-disclosure",
   "metadata": {
    "execution": {
     "iopub.execute_input": "2021-03-25T09:35:24.288563Z",
     "iopub.status.busy": "2021-03-25T09:35:24.287676Z",
     "iopub.status.idle": "2021-03-25T09:35:24.370113Z",
     "shell.execute_reply": "2021-03-25T09:35:24.370538Z"
    }
   },
   "outputs": [
    {
     "data": {
      "image/svg+xml": [
       "<?xml version=\"1.0\" encoding=\"UTF-8\" standalone=\"no\"?><svg xmlns=\"http://www.w3.org/2000/svg\" xmlns:xlink=\"http://www.w3.org/1999/xlink\" contentScriptType=\"application/ecmascript\" contentStyleType=\"text/css\" height=\"310px\" preserveAspectRatio=\"none\" style=\"width:253px;height:310px;\" version=\"1.1\" viewBox=\"0 0 253 310\" width=\"253px\" zoomAndPan=\"magnify\"><defs/><g><!--MD5=[fbc87193dbaf4d95561dea2c320d4a47]\n",
       "cluster E1--><a href=\"psysml:d16b9356-f04a-4ff8-b2ae-3864bc76abf1\" target=\"_top\" title=\"psysml:d16b9356-f04a-4ff8-b2ae-3864bc76abf1\" xlink:actuate=\"onRequest\" xlink:href=\"psysml:d16b9356-f04a-4ff8-b2ae-3864bc76abf1\" xlink:show=\"new\" xlink:title=\"psysml:d16b9356-f04a-4ff8-b2ae-3864bc76abf1\" xlink:type=\"simple\"><polygon fill=\"#FFFFFF\" points=\"16,6,221,6,228,28.2969,231,28.2969,231,298,16,298,16,6\" style=\"stroke: #000000; stroke-width: 1.5;\"/><line style=\"stroke: #000000; stroke-width: 1.5;\" x1=\"16\" x2=\"228\" y1=\"28.2969\" y2=\"28.2969\"/><text fill=\"#000000\" font-family=\"sans-serif\" font-size=\"14\" font-weight=\"bold\" lengthAdjust=\"spacingAndGlyphs\" textLength=\"199\" x=\"20\" y=\"20.9951\">QualifiedNameImportTest</text></a><!--MD5=[e4f7fae6ed58524ba242bb0b0d3be6b7]\n",
       "cluster E2--><a href=\"psysml:88b3eb59-bf67-426d-b22b-2d4deb7f4fe0\" target=\"_top\" title=\"psysml:88b3eb59-bf67-426d-b22b-2d4deb7f4fe0\" xlink:actuate=\"onRequest\" xlink:href=\"psysml:88b3eb59-bf67-426d-b22b-2d4deb7f4fe0\" xlink:show=\"new\" xlink:title=\"psysml:88b3eb59-bf67-426d-b22b-2d4deb7f4fe0\" xlink:type=\"simple\"><polygon fill=\"#FFFFFF\" points=\"105,177,131,177,138,199.2969,203,199.2969,203,274,105,274,105,177\" style=\"stroke: #000000; stroke-width: 1.5;\"/><line style=\"stroke: #000000; stroke-width: 1.5;\" x1=\"105\" x2=\"138\" y1=\"199.2969\" y2=\"199.2969\"/><text fill=\"#000000\" font-family=\"sans-serif\" font-size=\"14\" font-weight=\"bold\" lengthAdjust=\"spacingAndGlyphs\" textLength=\"20\" x=\"109\" y=\"191.9951\">P1</text></a><!--MD5=[f6df4d0ebaf0b5dfb2ced0ae5af7c670]\n",
       "cluster E4--><a href=\"psysml:4523bb13-7dc6-4a64-a848-9d456c6fa329\" target=\"_top\" title=\"psysml:4523bb13-7dc6-4a64-a848-9d456c6fa329\" xlink:actuate=\"onRequest\" xlink:href=\"psysml:4523bb13-7dc6-4a64-a848-9d456c6fa329\" xlink:show=\"new\" xlink:title=\"psysml:4523bb13-7dc6-4a64-a848-9d456c6fa329\" xlink:type=\"simple\"><polygon fill=\"#FFFFFF\" points=\"44,49,70,49,77,71.2969,203,71.2969,203,153,44,153,44,49\" style=\"stroke: #000000; stroke-width: 1.5;\"/><line style=\"stroke: #000000; stroke-width: 1.5;\" x1=\"44\" x2=\"77\" y1=\"71.2969\" y2=\"71.2969\"/><text fill=\"#000000\" font-family=\"sans-serif\" font-size=\"14\" font-weight=\"bold\" lengthAdjust=\"spacingAndGlyphs\" textLength=\"20\" x=\"48\" y=\"63.9951\">P2</text></a><!--MD5=[09b614a08d8cba4a07c9adeb5e0fee81]\n",
       "class E3--><a href=\"psysml:fd353ea3-6373-455a-afbc-b284741b5a43\" target=\"_top\" title=\"psysml:fd353ea3-6373-455a-afbc-b284741b5a43\" xlink:actuate=\"onRequest\" xlink:href=\"psysml:fd353ea3-6373-455a-afbc-b284741b5a43\" xlink:show=\"new\" xlink:title=\"psysml:fd353ea3-6373-455a-afbc-b284741b5a43\" xlink:type=\"simple\"><rect fill=\"#FFFFFF\" height=\"45.9375\" id=\"E3\" style=\"stroke: #383838; stroke-width: 1.5;\" width=\"66\" x=\"121\" y=\"212\"/><text fill=\"#000000\" font-family=\"sans-serif\" font-size=\"12\" font-style=\"italic\" lengthAdjust=\"spacingAndGlyphs\" textLength=\"64\" x=\"122\" y=\"228.1387\">«part def»</text><text fill=\"#000000\" font-family=\"sans-serif\" font-size=\"12\" lengthAdjust=\"spacingAndGlyphs\" textLength=\"8\" x=\"150\" y=\"242.1074\">A</text><line style=\"stroke: #383838; stroke-width: 1.5;\" x1=\"122\" x2=\"186\" y1=\"249.9375\" y2=\"249.9375\"/></a><!--MD5=[60a26617385b1d2d0262a64233df1f8d]\n",
       "class E6--><a href=\"psysml:7f169e5b-4536-4f95-b3fb-a54a4bad9234\" target=\"_top\" title=\"psysml:7f169e5b-4536-4f95-b3fb-a54a4bad9234\" xlink:actuate=\"onRequest\" xlink:href=\"psysml:7f169e5b-4536-4f95-b3fb-a54a4bad9234\" xlink:show=\"new\" xlink:title=\"psysml:7f169e5b-4536-4f95-b3fb-a54a4bad9234\" xlink:type=\"simple\"><rect fill=\"#FFFFFF\" height=\"45.9375\" id=\"E6\" rx=\"10\" ry=\"10\" style=\"stroke: #383838; stroke-width: 1.5;\" width=\"42\" x=\"145\" y=\"87.5\"/><text fill=\"#000000\" font-family=\"sans-serif\" font-size=\"12\" font-style=\"italic\" lengthAdjust=\"spacingAndGlyphs\" textLength=\"40\" x=\"146\" y=\"103.6387\">«part»</text><text fill=\"#000000\" font-family=\"sans-serif\" font-size=\"12\" lengthAdjust=\"spacingAndGlyphs\" textLength=\"22\" x=\"155\" y=\"117.6074\">x: A</text><line style=\"stroke: #383838; stroke-width: 1.5;\" x1=\"146\" x2=\"186\" y1=\"125.4375\" y2=\"125.4375\"/></a><a href=\"psysml:afe2db1e-b444-45d6-9b6b-b3994e64af2e\" target=\"_top\" title=\"psysml:afe2db1e-b444-45d6-9b6b-b3994e64af2e\" xlink:actuate=\"onRequest\" xlink:href=\"psysml:afe2db1e-b444-45d6-9b6b-b3994e64af2e\" xlink:show=\"new\" xlink:title=\"psysml:afe2db1e-b444-45d6-9b6b-b3994e64af2e\" xlink:type=\"simple\"><polygon fill=\"#FFFFFF\" points=\"60.5,84,95.5,84,102.5,106.2969,109.5,106.2969,109.5,136.5938,60.5,136.5938,60.5,84\" style=\"stroke: #000000; stroke-width: 1.5;\"/><line style=\"stroke: #000000; stroke-width: 1.5;\" x1=\"60.5\" x2=\"102.5\" y1=\"106.2969\" y2=\"106.2969\"/><text fill=\"#000000\" font-family=\"sans-serif\" font-size=\"14\" font-weight=\"bold\" lengthAdjust=\"spacingAndGlyphs\" textLength=\"29\" x=\"64.5\" y=\"98.9951\">P2a</text></a><!--MD5=[a717450b82c80b9240a525fa862496af]\n",
       "link E6 to E3--><a href=\"psysml:4395c2c1-a48a-41da-9561-d3e6647c3ecb\" target=\"_top\" title=\"psysml:4395c2c1-a48a-41da-9561-d3e6647c3ecb\" xlink:actuate=\"onRequest\" xlink:href=\"psysml:4395c2c1-a48a-41da-9561-d3e6647c3ecb\" xlink:show=\"new\" xlink:title=\"psysml:4395c2c1-a48a-41da-9561-d3e6647c3ecb\" xlink:type=\"simple\"><path d=\"M163.83,133.68 C162.24,149.9 160.04,172.39 158.12,191.96 \" fill=\"none\" id=\"E6-&gt;E3\" style=\"stroke: #383838; stroke-width: 1.0;\"/><polygon fill=\"#FFFFFF\" points=\"156.16,211.98,151.0533,192.3861,164.986,193.7564,156.16,211.98\" style=\"stroke: #383838; stroke-width: 1.0;\"/><ellipse cx=\"153.6016\" cy=\"186.9092\" fill=\"#383838\" rx=\"2\" ry=\"2\" style=\"stroke: #383838; stroke-width: 1.0;\"/><ellipse cx=\"163.5535\" cy=\"187.888\" fill=\"#383838\" rx=\"2\" ry=\"2\" style=\"stroke: #383838; stroke-width: 1.0;\"/></a><!--MD5=[7fab7713d304214df42f53a0f5f5d364]\n",
       "@startuml\r\n",
       " skinparam monochrome true\r\n",
       "skinparam classbackgroundcolor white\r\n",
       "skinparam shadowing false\r\n",
       "skinparam wrapWidth 300\r\n",
       "hide circle\r\n",
       "\r\n",
       "package \"QualifiedNameImportTest\" as E1  [[psysml:d16b9356-f04a-4ff8-b2ae-3864bc76abf1 ]]  {\r\n",
       "package \"P1\" as E2  [[psysml:88b3eb59-bf67-426d-b22b-2d4deb7f4fe0 ]]  {\r\n",
       "comp def \"A\" as E3  <<(T,blue)part def>> [[psysml:fd353ea3-6373-455a-afbc-b284741b5a43 ]] {\r\n",
       "}\r\n",
       "}\r\n",
       "package \"P2\" as E4  [[psysml:4523bb13-7dc6-4a64-a848-9d456c6fa329 ]]  {\r\n",
       "package \"P2a\" as E5  [[psysml:afe2db1e-b444-45d6-9b6b-b3994e64af2e ]]  {\r\n",
       "}\r\n",
       "comp usage \"x: A\" as E6  <<(T,blue)part>> [[psysml:7f169e5b-4536-4f95-b3fb-a54a4bad9234 ]] {\r\n",
       "}\r\n",
       "E6 - -:|> E3 [[psysml:4395c2c1-a48a-41da-9561-d3e6647c3ecb ]] \r\n",
       "}\r\n",
       "}\r\n",
       "@enduml\r\n",
       "\n",
       "PlantUML version 1.2020.13(Sat Jun 13 12:26:38 UTC 2020)\n",
       "(EPL source distribution)\n",
       "Java Runtime: OpenJDK Runtime Environment\n",
       "JVM: OpenJDK 64-Bit Server VM\n",
       "Default Encoding: UTF-8\n",
       "Language: en\n",
       "Country: null\n",
       "--></g></svg>"
      ]
     },
     "execution_count": 7,
     "metadata": {},
     "output_type": "execute_result"
    }
   ],
   "source": [
    "%viz --style=\"COMPTREE\" --view=\"Sequence\" \"QualifiedNameImportTest\""
   ]
  },
  {
   "cell_type": "code",
   "execution_count": 8,
   "id": "hungarian-tackle",
   "metadata": {
    "execution": {
     "iopub.execute_input": "2021-03-25T09:35:24.421460Z",
     "iopub.status.busy": "2021-03-25T09:35:24.420729Z",
     "iopub.status.idle": "2021-03-25T09:35:24.504789Z",
     "shell.execute_reply": "2021-03-25T09:35:24.505579Z"
    }
   },
   "outputs": [
    {
     "data": {
      "image/svg+xml": [
       "<?xml version=\"1.0\" encoding=\"UTF-8\" standalone=\"no\"?><svg xmlns=\"http://www.w3.org/2000/svg\" xmlns:xlink=\"http://www.w3.org/1999/xlink\" contentScriptType=\"application/ecmascript\" contentStyleType=\"text/css\" height=\"310px\" preserveAspectRatio=\"none\" style=\"width:253px;height:310px;\" version=\"1.1\" viewBox=\"0 0 253 310\" width=\"253px\" zoomAndPan=\"magnify\"><defs/><g><!--MD5=[fbc87193dbaf4d95561dea2c320d4a47]\n",
       "cluster E1--><a href=\"psysml:d16b9356-f04a-4ff8-b2ae-3864bc76abf1\" target=\"_top\" title=\"psysml:d16b9356-f04a-4ff8-b2ae-3864bc76abf1\" xlink:actuate=\"onRequest\" xlink:href=\"psysml:d16b9356-f04a-4ff8-b2ae-3864bc76abf1\" xlink:show=\"new\" xlink:title=\"psysml:d16b9356-f04a-4ff8-b2ae-3864bc76abf1\" xlink:type=\"simple\"><polygon fill=\"#FFFFFF\" points=\"16,6,221,6,228,28.2969,231,28.2969,231,298,16,298,16,6\" style=\"stroke: #000000; stroke-width: 1.5;\"/><line style=\"stroke: #000000; stroke-width: 1.5;\" x1=\"16\" x2=\"228\" y1=\"28.2969\" y2=\"28.2969\"/><text fill=\"#000000\" font-family=\"sans-serif\" font-size=\"14\" font-weight=\"bold\" lengthAdjust=\"spacingAndGlyphs\" textLength=\"199\" x=\"20\" y=\"20.9951\">QualifiedNameImportTest</text></a><!--MD5=[e4f7fae6ed58524ba242bb0b0d3be6b7]\n",
       "cluster E2--><a href=\"psysml:88b3eb59-bf67-426d-b22b-2d4deb7f4fe0\" target=\"_top\" title=\"psysml:88b3eb59-bf67-426d-b22b-2d4deb7f4fe0\" xlink:actuate=\"onRequest\" xlink:href=\"psysml:88b3eb59-bf67-426d-b22b-2d4deb7f4fe0\" xlink:show=\"new\" xlink:title=\"psysml:88b3eb59-bf67-426d-b22b-2d4deb7f4fe0\" xlink:type=\"simple\"><polygon fill=\"#FFFFFF\" points=\"105,177,131,177,138,199.2969,203,199.2969,203,274,105,274,105,177\" style=\"stroke: #000000; stroke-width: 1.5;\"/><line style=\"stroke: #000000; stroke-width: 1.5;\" x1=\"105\" x2=\"138\" y1=\"199.2969\" y2=\"199.2969\"/><text fill=\"#000000\" font-family=\"sans-serif\" font-size=\"14\" font-weight=\"bold\" lengthAdjust=\"spacingAndGlyphs\" textLength=\"20\" x=\"109\" y=\"191.9951\">P1</text></a><!--MD5=[f6df4d0ebaf0b5dfb2ced0ae5af7c670]\n",
       "cluster E4--><a href=\"psysml:4523bb13-7dc6-4a64-a848-9d456c6fa329\" target=\"_top\" title=\"psysml:4523bb13-7dc6-4a64-a848-9d456c6fa329\" xlink:actuate=\"onRequest\" xlink:href=\"psysml:4523bb13-7dc6-4a64-a848-9d456c6fa329\" xlink:show=\"new\" xlink:title=\"psysml:4523bb13-7dc6-4a64-a848-9d456c6fa329\" xlink:type=\"simple\"><polygon fill=\"#FFFFFF\" points=\"44,49,70,49,77,71.2969,203,71.2969,203,153,44,153,44,49\" style=\"stroke: #000000; stroke-width: 1.5;\"/><line style=\"stroke: #000000; stroke-width: 1.5;\" x1=\"44\" x2=\"77\" y1=\"71.2969\" y2=\"71.2969\"/><text fill=\"#000000\" font-family=\"sans-serif\" font-size=\"14\" font-weight=\"bold\" lengthAdjust=\"spacingAndGlyphs\" textLength=\"20\" x=\"48\" y=\"63.9951\">P2</text></a><!--MD5=[09b614a08d8cba4a07c9adeb5e0fee81]\n",
       "class E3--><a href=\"psysml:fd353ea3-6373-455a-afbc-b284741b5a43\" target=\"_top\" title=\"psysml:fd353ea3-6373-455a-afbc-b284741b5a43\" xlink:actuate=\"onRequest\" xlink:href=\"psysml:fd353ea3-6373-455a-afbc-b284741b5a43\" xlink:show=\"new\" xlink:title=\"psysml:fd353ea3-6373-455a-afbc-b284741b5a43\" xlink:type=\"simple\"><rect fill=\"#FFFFFF\" height=\"45.9375\" id=\"E3\" style=\"stroke: #383838; stroke-width: 1.5;\" width=\"66\" x=\"121\" y=\"212\"/><text fill=\"#000000\" font-family=\"sans-serif\" font-size=\"12\" font-style=\"italic\" lengthAdjust=\"spacingAndGlyphs\" textLength=\"64\" x=\"122\" y=\"228.1387\">«part def»</text><text fill=\"#000000\" font-family=\"sans-serif\" font-size=\"12\" lengthAdjust=\"spacingAndGlyphs\" textLength=\"8\" x=\"150\" y=\"242.1074\">A</text><line style=\"stroke: #383838; stroke-width: 1.5;\" x1=\"122\" x2=\"186\" y1=\"249.9375\" y2=\"249.9375\"/></a><!--MD5=[60a26617385b1d2d0262a64233df1f8d]\n",
       "class E6--><a href=\"psysml:7f169e5b-4536-4f95-b3fb-a54a4bad9234\" target=\"_top\" title=\"psysml:7f169e5b-4536-4f95-b3fb-a54a4bad9234\" xlink:actuate=\"onRequest\" xlink:href=\"psysml:7f169e5b-4536-4f95-b3fb-a54a4bad9234\" xlink:show=\"new\" xlink:title=\"psysml:7f169e5b-4536-4f95-b3fb-a54a4bad9234\" xlink:type=\"simple\"><rect fill=\"#FFFFFF\" height=\"45.9375\" id=\"E6\" rx=\"10\" ry=\"10\" style=\"stroke: #383838; stroke-width: 1.5;\" width=\"42\" x=\"145\" y=\"87.5\"/><text fill=\"#000000\" font-family=\"sans-serif\" font-size=\"12\" font-style=\"italic\" lengthAdjust=\"spacingAndGlyphs\" textLength=\"40\" x=\"146\" y=\"103.6387\">«part»</text><text fill=\"#000000\" font-family=\"sans-serif\" font-size=\"12\" lengthAdjust=\"spacingAndGlyphs\" textLength=\"22\" x=\"155\" y=\"117.6074\">x: A</text><line style=\"stroke: #383838; stroke-width: 1.5;\" x1=\"146\" x2=\"186\" y1=\"125.4375\" y2=\"125.4375\"/></a><a href=\"psysml:afe2db1e-b444-45d6-9b6b-b3994e64af2e\" target=\"_top\" title=\"psysml:afe2db1e-b444-45d6-9b6b-b3994e64af2e\" xlink:actuate=\"onRequest\" xlink:href=\"psysml:afe2db1e-b444-45d6-9b6b-b3994e64af2e\" xlink:show=\"new\" xlink:title=\"psysml:afe2db1e-b444-45d6-9b6b-b3994e64af2e\" xlink:type=\"simple\"><polygon fill=\"#FFFFFF\" points=\"60.5,84,95.5,84,102.5,106.2969,109.5,106.2969,109.5,136.5938,60.5,136.5938,60.5,84\" style=\"stroke: #000000; stroke-width: 1.5;\"/><line style=\"stroke: #000000; stroke-width: 1.5;\" x1=\"60.5\" x2=\"102.5\" y1=\"106.2969\" y2=\"106.2969\"/><text fill=\"#000000\" font-family=\"sans-serif\" font-size=\"14\" font-weight=\"bold\" lengthAdjust=\"spacingAndGlyphs\" textLength=\"29\" x=\"64.5\" y=\"98.9951\">P2a</text></a><!--MD5=[a717450b82c80b9240a525fa862496af]\n",
       "link E6 to E3--><a href=\"psysml:4395c2c1-a48a-41da-9561-d3e6647c3ecb\" target=\"_top\" title=\"psysml:4395c2c1-a48a-41da-9561-d3e6647c3ecb\" xlink:actuate=\"onRequest\" xlink:href=\"psysml:4395c2c1-a48a-41da-9561-d3e6647c3ecb\" xlink:show=\"new\" xlink:title=\"psysml:4395c2c1-a48a-41da-9561-d3e6647c3ecb\" xlink:type=\"simple\"><path d=\"M163.83,133.68 C162.24,149.9 160.04,172.39 158.12,191.96 \" fill=\"none\" id=\"E6-&gt;E3\" style=\"stroke: #383838; stroke-width: 1.0;\"/><polygon fill=\"#FFFFFF\" points=\"156.16,211.98,151.0533,192.3861,164.986,193.7564,156.16,211.98\" style=\"stroke: #383838; stroke-width: 1.0;\"/><ellipse cx=\"153.6016\" cy=\"186.9092\" fill=\"#383838\" rx=\"2\" ry=\"2\" style=\"stroke: #383838; stroke-width: 1.0;\"/><ellipse cx=\"163.5535\" cy=\"187.888\" fill=\"#383838\" rx=\"2\" ry=\"2\" style=\"stroke: #383838; stroke-width: 1.0;\"/></a><!--MD5=[7fab7713d304214df42f53a0f5f5d364]\n",
       "@startuml\r\n",
       " skinparam monochrome true\r\n",
       "skinparam classbackgroundcolor white\r\n",
       "skinparam shadowing false\r\n",
       "skinparam wrapWidth 300\r\n",
       "hide circle\r\n",
       "\r\n",
       "package \"QualifiedNameImportTest\" as E1  [[psysml:d16b9356-f04a-4ff8-b2ae-3864bc76abf1 ]]  {\r\n",
       "package \"P1\" as E2  [[psysml:88b3eb59-bf67-426d-b22b-2d4deb7f4fe0 ]]  {\r\n",
       "comp def \"A\" as E3  <<(T,blue)part def>> [[psysml:fd353ea3-6373-455a-afbc-b284741b5a43 ]] {\r\n",
       "}\r\n",
       "}\r\n",
       "package \"P2\" as E4  [[psysml:4523bb13-7dc6-4a64-a848-9d456c6fa329 ]]  {\r\n",
       "package \"P2a\" as E5  [[psysml:afe2db1e-b444-45d6-9b6b-b3994e64af2e ]]  {\r\n",
       "}\r\n",
       "comp usage \"x: A\" as E6  <<(T,blue)part>> [[psysml:7f169e5b-4536-4f95-b3fb-a54a4bad9234 ]] {\r\n",
       "}\r\n",
       "E6 - -:|> E3 [[psysml:4395c2c1-a48a-41da-9561-d3e6647c3ecb ]] \r\n",
       "}\r\n",
       "}\r\n",
       "@enduml\r\n",
       "\n",
       "PlantUML version 1.2020.13(Sat Jun 13 12:26:38 UTC 2020)\n",
       "(EPL source distribution)\n",
       "Java Runtime: OpenJDK Runtime Environment\n",
       "JVM: OpenJDK 64-Bit Server VM\n",
       "Default Encoding: UTF-8\n",
       "Language: en\n",
       "Country: null\n",
       "--></g></svg>"
      ]
     },
     "execution_count": 8,
     "metadata": {},
     "output_type": "execute_result"
    }
   ],
   "source": [
    "%viz --style=\"COMPTREE\" --view=\"MIXED\" \"QualifiedNameImportTest\""
   ]
  },
  {
   "cell_type": "code",
   "execution_count": 9,
   "id": "instant-belgium",
   "metadata": {
    "execution": {
     "iopub.execute_input": "2021-03-25T09:35:24.557733Z",
     "iopub.status.busy": "2021-03-25T09:35:24.556703Z",
     "iopub.status.idle": "2021-03-25T09:35:24.635691Z",
     "shell.execute_reply": "2021-03-25T09:35:24.636227Z"
    }
   },
   "outputs": [
    {
     "data": {
      "image/svg+xml": [
       "<?xml version=\"1.0\" encoding=\"UTF-8\" standalone=\"no\"?><svg xmlns=\"http://www.w3.org/2000/svg\" xmlns:xlink=\"http://www.w3.org/1999/xlink\" contentScriptType=\"application/ecmascript\" contentStyleType=\"text/css\" height=\"310px\" preserveAspectRatio=\"none\" style=\"width:253px;height:310px;\" version=\"1.1\" viewBox=\"0 0 253 310\" width=\"253px\" zoomAndPan=\"magnify\"><defs/><g><!--MD5=[fbc87193dbaf4d95561dea2c320d4a47]\n",
       "cluster E1--><a href=\"psysml:d16b9356-f04a-4ff8-b2ae-3864bc76abf1\" target=\"_top\" title=\"psysml:d16b9356-f04a-4ff8-b2ae-3864bc76abf1\" xlink:actuate=\"onRequest\" xlink:href=\"psysml:d16b9356-f04a-4ff8-b2ae-3864bc76abf1\" xlink:show=\"new\" xlink:title=\"psysml:d16b9356-f04a-4ff8-b2ae-3864bc76abf1\" xlink:type=\"simple\"><polygon fill=\"#FFFFFF\" points=\"16,6,221,6,228,28.2969,231,28.2969,231,298,16,298,16,6\" style=\"stroke: #000000; stroke-width: 1.5;\"/><line style=\"stroke: #000000; stroke-width: 1.5;\" x1=\"16\" x2=\"228\" y1=\"28.2969\" y2=\"28.2969\"/><text fill=\"#000000\" font-family=\"sans-serif\" font-size=\"14\" font-weight=\"bold\" lengthAdjust=\"spacingAndGlyphs\" textLength=\"199\" x=\"20\" y=\"20.9951\">QualifiedNameImportTest</text></a><!--MD5=[e4f7fae6ed58524ba242bb0b0d3be6b7]\n",
       "cluster E2--><a href=\"psysml:88b3eb59-bf67-426d-b22b-2d4deb7f4fe0\" target=\"_top\" title=\"psysml:88b3eb59-bf67-426d-b22b-2d4deb7f4fe0\" xlink:actuate=\"onRequest\" xlink:href=\"psysml:88b3eb59-bf67-426d-b22b-2d4deb7f4fe0\" xlink:show=\"new\" xlink:title=\"psysml:88b3eb59-bf67-426d-b22b-2d4deb7f4fe0\" xlink:type=\"simple\"><polygon fill=\"#FFFFFF\" points=\"105,177,131,177,138,199.2969,203,199.2969,203,274,105,274,105,177\" style=\"stroke: #000000; stroke-width: 1.5;\"/><line style=\"stroke: #000000; stroke-width: 1.5;\" x1=\"105\" x2=\"138\" y1=\"199.2969\" y2=\"199.2969\"/><text fill=\"#000000\" font-family=\"sans-serif\" font-size=\"14\" font-weight=\"bold\" lengthAdjust=\"spacingAndGlyphs\" textLength=\"20\" x=\"109\" y=\"191.9951\">P1</text></a><!--MD5=[f6df4d0ebaf0b5dfb2ced0ae5af7c670]\n",
       "cluster E4--><a href=\"psysml:4523bb13-7dc6-4a64-a848-9d456c6fa329\" target=\"_top\" title=\"psysml:4523bb13-7dc6-4a64-a848-9d456c6fa329\" xlink:actuate=\"onRequest\" xlink:href=\"psysml:4523bb13-7dc6-4a64-a848-9d456c6fa329\" xlink:show=\"new\" xlink:title=\"psysml:4523bb13-7dc6-4a64-a848-9d456c6fa329\" xlink:type=\"simple\"><polygon fill=\"#FFFFFF\" points=\"44,49,70,49,77,71.2969,203,71.2969,203,153,44,153,44,49\" style=\"stroke: #000000; stroke-width: 1.5;\"/><line style=\"stroke: #000000; stroke-width: 1.5;\" x1=\"44\" x2=\"77\" y1=\"71.2969\" y2=\"71.2969\"/><text fill=\"#000000\" font-family=\"sans-serif\" font-size=\"14\" font-weight=\"bold\" lengthAdjust=\"spacingAndGlyphs\" textLength=\"20\" x=\"48\" y=\"63.9951\">P2</text></a><!--MD5=[09b614a08d8cba4a07c9adeb5e0fee81]\n",
       "class E3--><a href=\"psysml:fd353ea3-6373-455a-afbc-b284741b5a43\" target=\"_top\" title=\"psysml:fd353ea3-6373-455a-afbc-b284741b5a43\" xlink:actuate=\"onRequest\" xlink:href=\"psysml:fd353ea3-6373-455a-afbc-b284741b5a43\" xlink:show=\"new\" xlink:title=\"psysml:fd353ea3-6373-455a-afbc-b284741b5a43\" xlink:type=\"simple\"><rect fill=\"#FFFFFF\" height=\"45.9375\" id=\"E3\" style=\"stroke: #383838; stroke-width: 1.5;\" width=\"66\" x=\"121\" y=\"212\"/><text fill=\"#000000\" font-family=\"sans-serif\" font-size=\"12\" font-style=\"italic\" lengthAdjust=\"spacingAndGlyphs\" textLength=\"64\" x=\"122\" y=\"228.1387\">«part def»</text><text fill=\"#000000\" font-family=\"sans-serif\" font-size=\"12\" lengthAdjust=\"spacingAndGlyphs\" textLength=\"8\" x=\"150\" y=\"242.1074\">A</text><line style=\"stroke: #383838; stroke-width: 1.5;\" x1=\"122\" x2=\"186\" y1=\"249.9375\" y2=\"249.9375\"/></a><!--MD5=[60a26617385b1d2d0262a64233df1f8d]\n",
       "class E6--><a href=\"psysml:7f169e5b-4536-4f95-b3fb-a54a4bad9234\" target=\"_top\" title=\"psysml:7f169e5b-4536-4f95-b3fb-a54a4bad9234\" xlink:actuate=\"onRequest\" xlink:href=\"psysml:7f169e5b-4536-4f95-b3fb-a54a4bad9234\" xlink:show=\"new\" xlink:title=\"psysml:7f169e5b-4536-4f95-b3fb-a54a4bad9234\" xlink:type=\"simple\"><rect fill=\"#FFFFFF\" height=\"45.9375\" id=\"E6\" rx=\"10\" ry=\"10\" style=\"stroke: #383838; stroke-width: 1.5;\" width=\"42\" x=\"145\" y=\"87.5\"/><text fill=\"#000000\" font-family=\"sans-serif\" font-size=\"12\" font-style=\"italic\" lengthAdjust=\"spacingAndGlyphs\" textLength=\"40\" x=\"146\" y=\"103.6387\">«part»</text><text fill=\"#000000\" font-family=\"sans-serif\" font-size=\"12\" lengthAdjust=\"spacingAndGlyphs\" textLength=\"22\" x=\"155\" y=\"117.6074\">x: A</text><line style=\"stroke: #383838; stroke-width: 1.5;\" x1=\"146\" x2=\"186\" y1=\"125.4375\" y2=\"125.4375\"/></a><a href=\"psysml:afe2db1e-b444-45d6-9b6b-b3994e64af2e\" target=\"_top\" title=\"psysml:afe2db1e-b444-45d6-9b6b-b3994e64af2e\" xlink:actuate=\"onRequest\" xlink:href=\"psysml:afe2db1e-b444-45d6-9b6b-b3994e64af2e\" xlink:show=\"new\" xlink:title=\"psysml:afe2db1e-b444-45d6-9b6b-b3994e64af2e\" xlink:type=\"simple\"><polygon fill=\"#FFFFFF\" points=\"60.5,84,95.5,84,102.5,106.2969,109.5,106.2969,109.5,136.5938,60.5,136.5938,60.5,84\" style=\"stroke: #000000; stroke-width: 1.5;\"/><line style=\"stroke: #000000; stroke-width: 1.5;\" x1=\"60.5\" x2=\"102.5\" y1=\"106.2969\" y2=\"106.2969\"/><text fill=\"#000000\" font-family=\"sans-serif\" font-size=\"14\" font-weight=\"bold\" lengthAdjust=\"spacingAndGlyphs\" textLength=\"29\" x=\"64.5\" y=\"98.9951\">P2a</text></a><!--MD5=[a717450b82c80b9240a525fa862496af]\n",
       "link E6 to E3--><a href=\"psysml:4395c2c1-a48a-41da-9561-d3e6647c3ecb\" target=\"_top\" title=\"psysml:4395c2c1-a48a-41da-9561-d3e6647c3ecb\" xlink:actuate=\"onRequest\" xlink:href=\"psysml:4395c2c1-a48a-41da-9561-d3e6647c3ecb\" xlink:show=\"new\" xlink:title=\"psysml:4395c2c1-a48a-41da-9561-d3e6647c3ecb\" xlink:type=\"simple\"><path d=\"M163.83,133.68 C162.24,149.9 160.04,172.39 158.12,191.96 \" fill=\"none\" id=\"E6-&gt;E3\" style=\"stroke: #383838; stroke-width: 1.0;\"/><polygon fill=\"#FFFFFF\" points=\"156.16,211.98,151.0533,192.3861,164.986,193.7564,156.16,211.98\" style=\"stroke: #383838; stroke-width: 1.0;\"/><ellipse cx=\"153.6016\" cy=\"186.9092\" fill=\"#383838\" rx=\"2\" ry=\"2\" style=\"stroke: #383838; stroke-width: 1.0;\"/><ellipse cx=\"163.5535\" cy=\"187.888\" fill=\"#383838\" rx=\"2\" ry=\"2\" style=\"stroke: #383838; stroke-width: 1.0;\"/></a><!--MD5=[88186f7cae6b9c25e93fdce70d0c26fc]\n",
       "@startuml\r\n",
       "skinparam linetype polyline\r\n",
       "skinparam monochrome true\r\n",
       "skinparam classbackgroundcolor white\r\n",
       "skinparam shadowing false\r\n",
       "skinparam wrapWidth 300\r\n",
       "hide circle\r\n",
       "\r\n",
       "package \"QualifiedNameImportTest\" as E1  [[psysml:d16b9356-f04a-4ff8-b2ae-3864bc76abf1 ]]  {\r\n",
       "package \"P1\" as E2  [[psysml:88b3eb59-bf67-426d-b22b-2d4deb7f4fe0 ]]  {\r\n",
       "comp def \"A\" as E3  <<(T,blue)part def>> [[psysml:fd353ea3-6373-455a-afbc-b284741b5a43 ]] {\r\n",
       "}\r\n",
       "}\r\n",
       "package \"P2\" as E4  [[psysml:4523bb13-7dc6-4a64-a848-9d456c6fa329 ]]  {\r\n",
       "package \"P2a\" as E5  [[psysml:afe2db1e-b444-45d6-9b6b-b3994e64af2e ]]  {\r\n",
       "}\r\n",
       "comp usage \"x: A\" as E6  <<(T,blue)part>> [[psysml:7f169e5b-4536-4f95-b3fb-a54a4bad9234 ]] {\r\n",
       "}\r\n",
       "E6 - -:|> E3 [[psysml:4395c2c1-a48a-41da-9561-d3e6647c3ecb ]] \r\n",
       "}\r\n",
       "}\r\n",
       "@enduml\r\n",
       "\n",
       "PlantUML version 1.2020.13(Sat Jun 13 12:26:38 UTC 2020)\n",
       "(EPL source distribution)\n",
       "Java Runtime: OpenJDK Runtime Environment\n",
       "JVM: OpenJDK 64-Bit Server VM\n",
       "Default Encoding: UTF-8\n",
       "Language: en\n",
       "Country: null\n",
       "--></g></svg>"
      ]
     },
     "execution_count": 9,
     "metadata": {},
     "output_type": "execute_result"
    }
   ],
   "source": [
    "%viz --style=\"POLYLINE\" --view=\"Default\" \"QualifiedNameImportTest\""
   ]
  },
  {
   "cell_type": "code",
   "execution_count": 10,
   "id": "constant-figure",
   "metadata": {
    "execution": {
     "iopub.execute_input": "2021-03-25T09:35:24.701675Z",
     "iopub.status.busy": "2021-03-25T09:35:24.689261Z",
     "iopub.status.idle": "2021-03-25T09:35:24.775339Z",
     "shell.execute_reply": "2021-03-25T09:35:24.774988Z"
    }
   },
   "outputs": [
    {
     "data": {
      "image/svg+xml": [
       "<?xml version=\"1.0\" encoding=\"UTF-8\" standalone=\"no\"?><svg xmlns=\"http://www.w3.org/2000/svg\" xmlns:xlink=\"http://www.w3.org/1999/xlink\" contentScriptType=\"application/ecmascript\" contentStyleType=\"text/css\" height=\"310px\" preserveAspectRatio=\"none\" style=\"width:253px;height:310px;\" version=\"1.1\" viewBox=\"0 0 253 310\" width=\"253px\" zoomAndPan=\"magnify\"><defs/><g><!--MD5=[fbc87193dbaf4d95561dea2c320d4a47]\n",
       "cluster E1--><a href=\"psysml:d16b9356-f04a-4ff8-b2ae-3864bc76abf1\" target=\"_top\" title=\"psysml:d16b9356-f04a-4ff8-b2ae-3864bc76abf1\" xlink:actuate=\"onRequest\" xlink:href=\"psysml:d16b9356-f04a-4ff8-b2ae-3864bc76abf1\" xlink:show=\"new\" xlink:title=\"psysml:d16b9356-f04a-4ff8-b2ae-3864bc76abf1\" xlink:type=\"simple\"><polygon fill=\"#FFFFFF\" points=\"16,6,221,6,228,28.2969,231,28.2969,231,298,16,298,16,6\" style=\"stroke: #000000; stroke-width: 1.5;\"/><line style=\"stroke: #000000; stroke-width: 1.5;\" x1=\"16\" x2=\"228\" y1=\"28.2969\" y2=\"28.2969\"/><text fill=\"#000000\" font-family=\"sans-serif\" font-size=\"14\" font-weight=\"bold\" lengthAdjust=\"spacingAndGlyphs\" textLength=\"199\" x=\"20\" y=\"20.9951\">QualifiedNameImportTest</text></a><!--MD5=[e4f7fae6ed58524ba242bb0b0d3be6b7]\n",
       "cluster E2--><a href=\"psysml:88b3eb59-bf67-426d-b22b-2d4deb7f4fe0\" target=\"_top\" title=\"psysml:88b3eb59-bf67-426d-b22b-2d4deb7f4fe0\" xlink:actuate=\"onRequest\" xlink:href=\"psysml:88b3eb59-bf67-426d-b22b-2d4deb7f4fe0\" xlink:show=\"new\" xlink:title=\"psysml:88b3eb59-bf67-426d-b22b-2d4deb7f4fe0\" xlink:type=\"simple\"><polygon fill=\"#FFFFFF\" points=\"105,177,131,177,138,199.2969,203,199.2969,203,274,105,274,105,177\" style=\"stroke: #000000; stroke-width: 1.5;\"/><line style=\"stroke: #000000; stroke-width: 1.5;\" x1=\"105\" x2=\"138\" y1=\"199.2969\" y2=\"199.2969\"/><text fill=\"#000000\" font-family=\"sans-serif\" font-size=\"14\" font-weight=\"bold\" lengthAdjust=\"spacingAndGlyphs\" textLength=\"20\" x=\"109\" y=\"191.9951\">P1</text></a><!--MD5=[f6df4d0ebaf0b5dfb2ced0ae5af7c670]\n",
       "cluster E4--><a href=\"psysml:4523bb13-7dc6-4a64-a848-9d456c6fa329\" target=\"_top\" title=\"psysml:4523bb13-7dc6-4a64-a848-9d456c6fa329\" xlink:actuate=\"onRequest\" xlink:href=\"psysml:4523bb13-7dc6-4a64-a848-9d456c6fa329\" xlink:show=\"new\" xlink:title=\"psysml:4523bb13-7dc6-4a64-a848-9d456c6fa329\" xlink:type=\"simple\"><polygon fill=\"#FFFFFF\" points=\"44,49,70,49,77,71.2969,203,71.2969,203,153,44,153,44,49\" style=\"stroke: #000000; stroke-width: 1.5;\"/><line style=\"stroke: #000000; stroke-width: 1.5;\" x1=\"44\" x2=\"77\" y1=\"71.2969\" y2=\"71.2969\"/><text fill=\"#000000\" font-family=\"sans-serif\" font-size=\"14\" font-weight=\"bold\" lengthAdjust=\"spacingAndGlyphs\" textLength=\"20\" x=\"48\" y=\"63.9951\">P2</text></a><!--MD5=[09b614a08d8cba4a07c9adeb5e0fee81]\n",
       "class E3--><a href=\"psysml:fd353ea3-6373-455a-afbc-b284741b5a43\" target=\"_top\" title=\"psysml:fd353ea3-6373-455a-afbc-b284741b5a43\" xlink:actuate=\"onRequest\" xlink:href=\"psysml:fd353ea3-6373-455a-afbc-b284741b5a43\" xlink:show=\"new\" xlink:title=\"psysml:fd353ea3-6373-455a-afbc-b284741b5a43\" xlink:type=\"simple\"><rect fill=\"#FFFFFF\" height=\"45.9375\" id=\"E3\" style=\"stroke: #383838; stroke-width: 1.5;\" width=\"66\" x=\"121\" y=\"212\"/><text fill=\"#000000\" font-family=\"sans-serif\" font-size=\"12\" font-style=\"italic\" lengthAdjust=\"spacingAndGlyphs\" textLength=\"64\" x=\"122\" y=\"228.1387\">«part def»</text><text fill=\"#000000\" font-family=\"sans-serif\" font-size=\"12\" lengthAdjust=\"spacingAndGlyphs\" textLength=\"8\" x=\"150\" y=\"242.1074\">A</text><line style=\"stroke: #383838; stroke-width: 1.5;\" x1=\"122\" x2=\"186\" y1=\"249.9375\" y2=\"249.9375\"/></a><!--MD5=[60a26617385b1d2d0262a64233df1f8d]\n",
       "class E6--><a href=\"psysml:7f169e5b-4536-4f95-b3fb-a54a4bad9234\" target=\"_top\" title=\"psysml:7f169e5b-4536-4f95-b3fb-a54a4bad9234\" xlink:actuate=\"onRequest\" xlink:href=\"psysml:7f169e5b-4536-4f95-b3fb-a54a4bad9234\" xlink:show=\"new\" xlink:title=\"psysml:7f169e5b-4536-4f95-b3fb-a54a4bad9234\" xlink:type=\"simple\"><rect fill=\"#FFFFFF\" height=\"45.9375\" id=\"E6\" rx=\"10\" ry=\"10\" style=\"stroke: #383838; stroke-width: 1.5;\" width=\"42\" x=\"145\" y=\"87.5\"/><text fill=\"#000000\" font-family=\"sans-serif\" font-size=\"12\" font-style=\"italic\" lengthAdjust=\"spacingAndGlyphs\" textLength=\"40\" x=\"146\" y=\"103.6387\">«part»</text><text fill=\"#000000\" font-family=\"sans-serif\" font-size=\"12\" lengthAdjust=\"spacingAndGlyphs\" textLength=\"22\" x=\"155\" y=\"117.6074\">x: A</text><line style=\"stroke: #383838; stroke-width: 1.5;\" x1=\"146\" x2=\"186\" y1=\"125.4375\" y2=\"125.4375\"/></a><a href=\"psysml:afe2db1e-b444-45d6-9b6b-b3994e64af2e\" target=\"_top\" title=\"psysml:afe2db1e-b444-45d6-9b6b-b3994e64af2e\" xlink:actuate=\"onRequest\" xlink:href=\"psysml:afe2db1e-b444-45d6-9b6b-b3994e64af2e\" xlink:show=\"new\" xlink:title=\"psysml:afe2db1e-b444-45d6-9b6b-b3994e64af2e\" xlink:type=\"simple\"><polygon fill=\"#FFFFFF\" points=\"60.5,84,95.5,84,102.5,106.2969,109.5,106.2969,109.5,136.5938,60.5,136.5938,60.5,84\" style=\"stroke: #000000; stroke-width: 1.5;\"/><line style=\"stroke: #000000; stroke-width: 1.5;\" x1=\"60.5\" x2=\"102.5\" y1=\"106.2969\" y2=\"106.2969\"/><text fill=\"#000000\" font-family=\"sans-serif\" font-size=\"14\" font-weight=\"bold\" lengthAdjust=\"spacingAndGlyphs\" textLength=\"29\" x=\"64.5\" y=\"98.9951\">P2a</text></a><!--MD5=[a717450b82c80b9240a525fa862496af]\n",
       "link E6 to E3--><a href=\"psysml:4395c2c1-a48a-41da-9561-d3e6647c3ecb\" target=\"_top\" title=\"psysml:4395c2c1-a48a-41da-9561-d3e6647c3ecb\" xlink:actuate=\"onRequest\" xlink:href=\"psysml:4395c2c1-a48a-41da-9561-d3e6647c3ecb\" xlink:show=\"new\" xlink:title=\"psysml:4395c2c1-a48a-41da-9561-d3e6647c3ecb\" xlink:type=\"simple\"><path d=\"M163.83,133.68 C162.24,149.9 160.04,172.39 158.12,191.96 \" fill=\"none\" id=\"E6-&gt;E3\" style=\"stroke: #383838; stroke-width: 1.0;\"/><polygon fill=\"#FFFFFF\" points=\"156.16,211.98,151.0533,192.3861,164.986,193.7564,156.16,211.98\" style=\"stroke: #383838; stroke-width: 1.0;\"/><ellipse cx=\"153.6016\" cy=\"186.9092\" fill=\"#383838\" rx=\"2\" ry=\"2\" style=\"stroke: #383838; stroke-width: 1.0;\"/><ellipse cx=\"163.5535\" cy=\"187.888\" fill=\"#383838\" rx=\"2\" ry=\"2\" style=\"stroke: #383838; stroke-width: 1.0;\"/></a><!--MD5=[88186f7cae6b9c25e93fdce70d0c26fc]\n",
       "@startuml\r\n",
       "skinparam linetype polyline\r\n",
       "skinparam monochrome true\r\n",
       "skinparam classbackgroundcolor white\r\n",
       "skinparam shadowing false\r\n",
       "skinparam wrapWidth 300\r\n",
       "hide circle\r\n",
       "\r\n",
       "package \"QualifiedNameImportTest\" as E1  [[psysml:d16b9356-f04a-4ff8-b2ae-3864bc76abf1 ]]  {\r\n",
       "package \"P1\" as E2  [[psysml:88b3eb59-bf67-426d-b22b-2d4deb7f4fe0 ]]  {\r\n",
       "comp def \"A\" as E3  <<(T,blue)part def>> [[psysml:fd353ea3-6373-455a-afbc-b284741b5a43 ]] {\r\n",
       "}\r\n",
       "}\r\n",
       "package \"P2\" as E4  [[psysml:4523bb13-7dc6-4a64-a848-9d456c6fa329 ]]  {\r\n",
       "package \"P2a\" as E5  [[psysml:afe2db1e-b444-45d6-9b6b-b3994e64af2e ]]  {\r\n",
       "}\r\n",
       "comp usage \"x: A\" as E6  <<(T,blue)part>> [[psysml:7f169e5b-4536-4f95-b3fb-a54a4bad9234 ]] {\r\n",
       "}\r\n",
       "E6 - -:|> E3 [[psysml:4395c2c1-a48a-41da-9561-d3e6647c3ecb ]] \r\n",
       "}\r\n",
       "}\r\n",
       "@enduml\r\n",
       "\n",
       "PlantUML version 1.2020.13(Sat Jun 13 12:26:38 UTC 2020)\n",
       "(EPL source distribution)\n",
       "Java Runtime: OpenJDK Runtime Environment\n",
       "JVM: OpenJDK 64-Bit Server VM\n",
       "Default Encoding: UTF-8\n",
       "Language: en\n",
       "Country: null\n",
       "--></g></svg>"
      ]
     },
     "execution_count": 10,
     "metadata": {},
     "output_type": "execute_result"
    }
   ],
   "source": [
    "%viz --style=\"POLYLINE\" --view=\"Tree\" \"QualifiedNameImportTest\""
   ]
  },
  {
   "cell_type": "code",
   "execution_count": 11,
   "id": "exciting-kazakhstan",
   "metadata": {
    "execution": {
     "iopub.execute_input": "2021-03-25T09:35:24.828847Z",
     "iopub.status.busy": "2021-03-25T09:35:24.827571Z",
     "iopub.status.idle": "2021-03-25T09:35:24.841595Z",
     "shell.execute_reply": "2021-03-25T09:35:24.841078Z"
    }
   },
   "outputs": [
    {
     "data": {
      "image/svg+xml": [
       "<?xml version=\"1.0\" encoding=\"UTF-8\" standalone=\"no\"?><svg xmlns=\"http://www.w3.org/2000/svg\" xmlns:xlink=\"http://www.w3.org/1999/xlink\" contentScriptType=\"application/ecmascript\" contentStyleType=\"text/css\" height=\"12px\" preserveAspectRatio=\"none\" style=\"width:12px;height:12px;\" version=\"1.1\" viewBox=\"0 0 12 12\" width=\"12px\" zoomAndPan=\"magnify\"><defs/><g><!--MD5=[896ac0e7a515d8dd7765a661cb4ee08b]\n",
       "@startuml\r\n",
       "skinparam linetype polyline\r\n",
       "skinparam monochrome true\r\n",
       "skinparam classbackgroundcolor white\r\n",
       "skinparam shadowing false\r\n",
       "skinparam wrapWidth 300\r\n",
       "hide circle\r\n",
       "\r\n",
       "@enduml\r\n",
       "\n",
       "PlantUML version 1.2020.13(Sat Jun 13 12:26:38 UTC 2020)\n",
       "(EPL source distribution)\n",
       "Java Runtime: OpenJDK Runtime Environment\n",
       "JVM: OpenJDK 64-Bit Server VM\n",
       "Default Encoding: UTF-8\n",
       "Language: en\n",
       "Country: null\n",
       "--></g></svg>"
      ]
     },
     "execution_count": 11,
     "metadata": {},
     "output_type": "execute_result"
    }
   ],
   "source": [
    "%viz --style=\"POLYLINE\" --view=\"State\" \"QualifiedNameImportTest\""
   ]
  },
  {
   "cell_type": "code",
   "execution_count": 12,
   "id": "monthly-citizen",
   "metadata": {
    "execution": {
     "iopub.execute_input": "2021-03-25T09:35:24.895176Z",
     "iopub.status.busy": "2021-03-25T09:35:24.894545Z",
     "iopub.status.idle": "2021-03-25T09:35:24.959634Z",
     "shell.execute_reply": "2021-03-25T09:35:24.960067Z"
    }
   },
   "outputs": [
    {
     "data": {
      "image/svg+xml": [
       "<?xml version=\"1.0\" encoding=\"UTF-8\" standalone=\"no\"?><svg xmlns=\"http://www.w3.org/2000/svg\" xmlns:xlink=\"http://www.w3.org/1999/xlink\" contentScriptType=\"application/ecmascript\" contentStyleType=\"text/css\" height=\"189px\" preserveAspectRatio=\"none\" style=\"width:381px;height:189px;\" version=\"1.1\" viewBox=\"0 0 381 189\" width=\"381px\" zoomAndPan=\"magnify\"><defs/><g><!--MD5=[fbc87193dbaf4d95561dea2c320d4a47]\n",
       "cluster E1--><a href=\"psysml:d16b9356-f04a-4ff8-b2ae-3864bc76abf1\" target=\"_top\" title=\"psysml:d16b9356-f04a-4ff8-b2ae-3864bc76abf1\" xlink:actuate=\"onRequest\" xlink:href=\"psysml:d16b9356-f04a-4ff8-b2ae-3864bc76abf1\" xlink:show=\"new\" xlink:title=\"psysml:d16b9356-f04a-4ff8-b2ae-3864bc76abf1\" xlink:type=\"simple\"><polygon fill=\"#FFFFFF\" points=\"16,6,221,6,228,28.2969,359,28.2969,359,177,16,177,16,6\" style=\"stroke: #000000; stroke-width: 1.5;\"/><line style=\"stroke: #000000; stroke-width: 1.5;\" x1=\"16\" x2=\"228\" y1=\"28.2969\" y2=\"28.2969\"/><text fill=\"#000000\" font-family=\"sans-serif\" font-size=\"14\" font-weight=\"bold\" lengthAdjust=\"spacingAndGlyphs\" textLength=\"199\" x=\"20\" y=\"20.9951\">QualifiedNameImportTest</text></a><!--MD5=[e4f7fae6ed58524ba242bb0b0d3be6b7]\n",
       "cluster E2--><a href=\"psysml:88b3eb59-bf67-426d-b22b-2d4deb7f4fe0\" target=\"_top\" title=\"psysml:88b3eb59-bf67-426d-b22b-2d4deb7f4fe0\" xlink:actuate=\"onRequest\" xlink:href=\"psysml:88b3eb59-bf67-426d-b22b-2d4deb7f4fe0\" xlink:show=\"new\" xlink:title=\"psysml:88b3eb59-bf67-426d-b22b-2d4deb7f4fe0\" xlink:type=\"simple\"><polygon fill=\"#FFFFFF\" points=\"231,54,257,54,264,76.2969,335,76.2969,335,148,231,148,231,54\" style=\"stroke: #000000; stroke-width: 1.5;\"/><line style=\"stroke: #000000; stroke-width: 1.5;\" x1=\"231\" x2=\"264\" y1=\"76.2969\" y2=\"76.2969\"/><text fill=\"#000000\" font-family=\"sans-serif\" font-size=\"14\" font-weight=\"bold\" lengthAdjust=\"spacingAndGlyphs\" textLength=\"20\" x=\"235\" y=\"68.9951\">P1</text></a><!--MD5=[f6df4d0ebaf0b5dfb2ced0ae5af7c670]\n",
       "cluster E4--><a href=\"psysml:4523bb13-7dc6-4a64-a848-9d456c6fa329\" target=\"_top\" title=\"psysml:4523bb13-7dc6-4a64-a848-9d456c6fa329\" xlink:actuate=\"onRequest\" xlink:href=\"psysml:4523bb13-7dc6-4a64-a848-9d456c6fa329\" xlink:show=\"new\" xlink:title=\"psysml:4523bb13-7dc6-4a64-a848-9d456c6fa329\" xlink:type=\"simple\"><polygon fill=\"#FFFFFF\" points=\"40,49,66,49,73,71.2969,207,71.2969,207,153,40,153,40,49\" style=\"stroke: #000000; stroke-width: 1.5;\"/><line style=\"stroke: #000000; stroke-width: 1.5;\" x1=\"40\" x2=\"73\" y1=\"71.2969\" y2=\"71.2969\"/><text fill=\"#000000\" font-family=\"sans-serif\" font-size=\"14\" font-weight=\"bold\" lengthAdjust=\"spacingAndGlyphs\" textLength=\"20\" x=\"44\" y=\"63.9951\">P2</text></a><g id=\"E1.E2.E3\"><a href=\"psysml:fd353ea3-6373-455a-afbc-b284741b5a43\" target=\"_top\" title=\"psysml:fd353ea3-6373-455a-afbc-b284741b5a43\" xlink:actuate=\"onRequest\" xlink:href=\"psysml:fd353ea3-6373-455a-afbc-b284741b5a43\" xlink:show=\"new\" xlink:title=\"psysml:fd353ea3-6373-455a-afbc-b284741b5a43\" xlink:type=\"simple\"><rect fill=\"#FFFFFF\" height=\"42.9375\" id=\"E3\" style=\"stroke: #383838; stroke-width: 1.5;\" width=\"71\" x=\"247.5\" y=\"89\"/><rect fill=\"#F8F8F8\" height=\"37.9375\" style=\"stroke: #383838; stroke-width: 1.5;\" width=\"71\" x=\"247.5\" y=\"89\"/><text fill=\"#000000\" font-family=\"sans-serif\" font-size=\"12\" font-style=\"italic\" lengthAdjust=\"spacingAndGlyphs\" textLength=\"64\" x=\"251\" y=\"105.1387\">«part def»</text><text fill=\"#000000\" font-family=\"sans-serif\" font-size=\"12\" lengthAdjust=\"spacingAndGlyphs\" textLength=\"8\" x=\"279\" y=\"119.1074\">A</text></a></g><a href=\"psysml:afe2db1e-b444-45d6-9b6b-b3994e64af2e\" target=\"_top\" title=\"psysml:afe2db1e-b444-45d6-9b6b-b3994e64af2e\" xlink:actuate=\"onRequest\" xlink:href=\"psysml:afe2db1e-b444-45d6-9b6b-b3994e64af2e\" xlink:show=\"new\" xlink:title=\"psysml:afe2db1e-b444-45d6-9b6b-b3994e64af2e\" xlink:type=\"simple\"><polygon fill=\"#FFFFFF\" points=\"141.5,84,176.5,84,183.5,106.2969,190.5,106.2969,190.5,136.5938,141.5,136.5938,141.5,84\" style=\"stroke: #000000; stroke-width: 1.5;\"/><line style=\"stroke: #000000; stroke-width: 1.5;\" x1=\"141.5\" x2=\"183.5\" y1=\"106.2969\" y2=\"106.2969\"/><text fill=\"#000000\" font-family=\"sans-serif\" font-size=\"14\" font-weight=\"bold\" lengthAdjust=\"spacingAndGlyphs\" textLength=\"29\" x=\"145.5\" y=\"98.9951\">P2a</text></a><g id=\"E1.E4.E6\"><a href=\"psysml:7f169e5b-4536-4f95-b3fb-a54a4bad9234\" target=\"_top\" title=\"psysml:7f169e5b-4536-4f95-b3fb-a54a4bad9234\" xlink:actuate=\"onRequest\" xlink:href=\"psysml:7f169e5b-4536-4f95-b3fb-a54a4bad9234\" xlink:show=\"new\" xlink:title=\"psysml:7f169e5b-4536-4f95-b3fb-a54a4bad9234\" xlink:type=\"simple\"><rect fill=\"#FFFFFF\" height=\"40\" id=\"E6\" rx=\"10\" ry=\"10\" style=\"stroke: #383838; stroke-width: 1.5;\" width=\"50\" x=\"56\" y=\"90.5\"/><rect fill=\"#F8F8F8\" height=\"23.9688\" rx=\"10\" ry=\"10\" style=\"stroke: #F8F8F8; stroke-width: 1.5;\" width=\"50\" x=\"56\" y=\"90.5\"/><rect fill=\"#F8F8F8\" height=\"10\" style=\"stroke: #F8F8F8; stroke-width: 1.5;\" width=\"50\" x=\"56\" y=\"104.4688\"/><rect fill=\"none\" height=\"40\" id=\"E6\" rx=\"10\" ry=\"10\" style=\"stroke: #383838; stroke-width: 1.5;\" width=\"50\" x=\"56\" y=\"90.5\"/><text fill=\"#000000\" font-family=\"sans-serif\" font-size=\"12\" lengthAdjust=\"spacingAndGlyphs\" textLength=\"22\" x=\"70\" y=\"106.6387\">x: A</text></a></g><!--MD5=[6681930b8af634fc7730a22a5a95ea77]\n",
       "@startuml\r\n",
       "skinparam ranksep 8\r\n",
       "skinparam rectangle {\r\n",
       " backgroundColor<<block>> LightGreen\r\n",
       "}\r\n",
       "skinparam linetype polyline\r\n",
       "skinparam monochrome true\r\n",
       "skinparam classbackgroundcolor white\r\n",
       "skinparam shadowing false\r\n",
       "skinparam wrapWidth 300\r\n",
       "hide circle\r\n",
       "\r\n",
       "package \"QualifiedNameImportTest\" as E1  [[psysml:d16b9356-f04a-4ff8-b2ae-3864bc76abf1 ]]  {\r\n",
       "package \"P1\" as E2  [[psysml:88b3eb59-bf67-426d-b22b-2d4deb7f4fe0 ]]  {\r\n",
       "rec def \"A\" as E3  <<(T,blue)part def>> [[psysml:fd353ea3-6373-455a-afbc-b284741b5a43 ]] {\r\n",
       "}\r\n",
       "}\r\n",
       "package \"P2\" as E4  [[psysml:4523bb13-7dc6-4a64-a848-9d456c6fa329 ]]  {\r\n",
       "package \"P2a\" as E5  [[psysml:afe2db1e-b444-45d6-9b6b-b3994e64af2e ]]  {\r\n",
       "}\r\n",
       "rec usage \"x: A\" as E6  [[psysml:7f169e5b-4536-4f95-b3fb-a54a4bad9234 ]] {\r\n",
       "}\r\n",
       "}\r\n",
       "}\r\n",
       "@enduml\r\n",
       "\n",
       "PlantUML version 1.2020.13(Sat Jun 13 12:26:38 UTC 2020)\n",
       "(EPL source distribution)\n",
       "Java Runtime: OpenJDK Runtime Environment\n",
       "JVM: OpenJDK 64-Bit Server VM\n",
       "Default Encoding: UTF-8\n",
       "Language: en\n",
       "Country: null\n",
       "--></g></svg>"
      ]
     },
     "execution_count": 12,
     "metadata": {},
     "output_type": "execute_result"
    }
   ],
   "source": [
    "%viz --style=\"POLYLINE\" --view=\"Interconnection\" \"QualifiedNameImportTest\""
   ]
  },
  {
   "cell_type": "code",
   "execution_count": 13,
   "id": "automatic-society",
   "metadata": {
    "execution": {
     "iopub.execute_input": "2021-03-25T09:35:25.012493Z",
     "iopub.status.busy": "2021-03-25T09:35:25.012007Z",
     "iopub.status.idle": "2021-03-25T09:35:25.021111Z",
     "shell.execute_reply": "2021-03-25T09:35:25.021552Z"
    }
   },
   "outputs": [
    {
     "data": {
      "image/svg+xml": [
       "<?xml version=\"1.0\" encoding=\"UTF-8\" standalone=\"no\"?><svg xmlns=\"http://www.w3.org/2000/svg\" xmlns:xlink=\"http://www.w3.org/1999/xlink\" contentScriptType=\"application/ecmascript\" contentStyleType=\"text/css\" height=\"12px\" preserveAspectRatio=\"none\" style=\"width:12px;height:12px;\" version=\"1.1\" viewBox=\"0 0 12 12\" width=\"12px\" zoomAndPan=\"magnify\"><defs/><g><!--MD5=[97bbf32f66ccd50cbc40d92ea8f5a65e]\n",
       "@startuml\r\n",
       "skinparam ranksep 8\r\n",
       "skinparam linetype polyline\r\n",
       "skinparam monochrome true\r\n",
       "skinparam classbackgroundcolor white\r\n",
       "skinparam shadowing false\r\n",
       "skinparam wrapWidth 300\r\n",
       "hide circle\r\n",
       "\r\n",
       "@enduml\r\n",
       "\n",
       "PlantUML version 1.2020.13(Sat Jun 13 12:26:38 UTC 2020)\n",
       "(EPL source distribution)\n",
       "Java Runtime: OpenJDK Runtime Environment\n",
       "JVM: OpenJDK 64-Bit Server VM\n",
       "Default Encoding: UTF-8\n",
       "Language: en\n",
       "Country: null\n",
       "--></g></svg>"
      ]
     },
     "execution_count": 13,
     "metadata": {},
     "output_type": "execute_result"
    }
   ],
   "source": [
    "%viz --style=\"POLYLINE\" --view=\"Action\" \"QualifiedNameImportTest\""
   ]
  },
  {
   "cell_type": "code",
   "execution_count": 14,
   "id": "superior-riding",
   "metadata": {
    "execution": {
     "iopub.execute_input": "2021-03-25T09:35:25.074054Z",
     "iopub.status.busy": "2021-03-25T09:35:25.072725Z",
     "iopub.status.idle": "2021-03-25T09:35:25.137798Z",
     "shell.execute_reply": "2021-03-25T09:35:25.136642Z"
    }
   },
   "outputs": [
    {
     "data": {
      "image/svg+xml": [
       "<?xml version=\"1.0\" encoding=\"UTF-8\" standalone=\"no\"?><svg xmlns=\"http://www.w3.org/2000/svg\" xmlns:xlink=\"http://www.w3.org/1999/xlink\" contentScriptType=\"application/ecmascript\" contentStyleType=\"text/css\" height=\"310px\" preserveAspectRatio=\"none\" style=\"width:253px;height:310px;\" version=\"1.1\" viewBox=\"0 0 253 310\" width=\"253px\" zoomAndPan=\"magnify\"><defs/><g><!--MD5=[fbc87193dbaf4d95561dea2c320d4a47]\n",
       "cluster E1--><a href=\"psysml:d16b9356-f04a-4ff8-b2ae-3864bc76abf1\" target=\"_top\" title=\"psysml:d16b9356-f04a-4ff8-b2ae-3864bc76abf1\" xlink:actuate=\"onRequest\" xlink:href=\"psysml:d16b9356-f04a-4ff8-b2ae-3864bc76abf1\" xlink:show=\"new\" xlink:title=\"psysml:d16b9356-f04a-4ff8-b2ae-3864bc76abf1\" xlink:type=\"simple\"><polygon fill=\"#FFFFFF\" points=\"16,6,221,6,228,28.2969,231,28.2969,231,298,16,298,16,6\" style=\"stroke: #000000; stroke-width: 1.5;\"/><line style=\"stroke: #000000; stroke-width: 1.5;\" x1=\"16\" x2=\"228\" y1=\"28.2969\" y2=\"28.2969\"/><text fill=\"#000000\" font-family=\"sans-serif\" font-size=\"14\" font-weight=\"bold\" lengthAdjust=\"spacingAndGlyphs\" textLength=\"199\" x=\"20\" y=\"20.9951\">QualifiedNameImportTest</text></a><!--MD5=[e4f7fae6ed58524ba242bb0b0d3be6b7]\n",
       "cluster E2--><a href=\"psysml:88b3eb59-bf67-426d-b22b-2d4deb7f4fe0\" target=\"_top\" title=\"psysml:88b3eb59-bf67-426d-b22b-2d4deb7f4fe0\" xlink:actuate=\"onRequest\" xlink:href=\"psysml:88b3eb59-bf67-426d-b22b-2d4deb7f4fe0\" xlink:show=\"new\" xlink:title=\"psysml:88b3eb59-bf67-426d-b22b-2d4deb7f4fe0\" xlink:type=\"simple\"><polygon fill=\"#FFFFFF\" points=\"105,177,131,177,138,199.2969,203,199.2969,203,274,105,274,105,177\" style=\"stroke: #000000; stroke-width: 1.5;\"/><line style=\"stroke: #000000; stroke-width: 1.5;\" x1=\"105\" x2=\"138\" y1=\"199.2969\" y2=\"199.2969\"/><text fill=\"#000000\" font-family=\"sans-serif\" font-size=\"14\" font-weight=\"bold\" lengthAdjust=\"spacingAndGlyphs\" textLength=\"20\" x=\"109\" y=\"191.9951\">P1</text></a><!--MD5=[f6df4d0ebaf0b5dfb2ced0ae5af7c670]\n",
       "cluster E4--><a href=\"psysml:4523bb13-7dc6-4a64-a848-9d456c6fa329\" target=\"_top\" title=\"psysml:4523bb13-7dc6-4a64-a848-9d456c6fa329\" xlink:actuate=\"onRequest\" xlink:href=\"psysml:4523bb13-7dc6-4a64-a848-9d456c6fa329\" xlink:show=\"new\" xlink:title=\"psysml:4523bb13-7dc6-4a64-a848-9d456c6fa329\" xlink:type=\"simple\"><polygon fill=\"#FFFFFF\" points=\"44,49,70,49,77,71.2969,203,71.2969,203,153,44,153,44,49\" style=\"stroke: #000000; stroke-width: 1.5;\"/><line style=\"stroke: #000000; stroke-width: 1.5;\" x1=\"44\" x2=\"77\" y1=\"71.2969\" y2=\"71.2969\"/><text fill=\"#000000\" font-family=\"sans-serif\" font-size=\"14\" font-weight=\"bold\" lengthAdjust=\"spacingAndGlyphs\" textLength=\"20\" x=\"48\" y=\"63.9951\">P2</text></a><!--MD5=[09b614a08d8cba4a07c9adeb5e0fee81]\n",
       "class E3--><a href=\"psysml:fd353ea3-6373-455a-afbc-b284741b5a43\" target=\"_top\" title=\"psysml:fd353ea3-6373-455a-afbc-b284741b5a43\" xlink:actuate=\"onRequest\" xlink:href=\"psysml:fd353ea3-6373-455a-afbc-b284741b5a43\" xlink:show=\"new\" xlink:title=\"psysml:fd353ea3-6373-455a-afbc-b284741b5a43\" xlink:type=\"simple\"><rect fill=\"#FFFFFF\" height=\"45.9375\" id=\"E3\" style=\"stroke: #383838; stroke-width: 1.5;\" width=\"66\" x=\"121\" y=\"212\"/><text fill=\"#000000\" font-family=\"sans-serif\" font-size=\"12\" font-style=\"italic\" lengthAdjust=\"spacingAndGlyphs\" textLength=\"64\" x=\"122\" y=\"228.1387\">«part def»</text><text fill=\"#000000\" font-family=\"sans-serif\" font-size=\"12\" lengthAdjust=\"spacingAndGlyphs\" textLength=\"8\" x=\"150\" y=\"242.1074\">A</text><line style=\"stroke: #383838; stroke-width: 1.5;\" x1=\"122\" x2=\"186\" y1=\"249.9375\" y2=\"249.9375\"/></a><!--MD5=[60a26617385b1d2d0262a64233df1f8d]\n",
       "class E6--><a href=\"psysml:7f169e5b-4536-4f95-b3fb-a54a4bad9234\" target=\"_top\" title=\"psysml:7f169e5b-4536-4f95-b3fb-a54a4bad9234\" xlink:actuate=\"onRequest\" xlink:href=\"psysml:7f169e5b-4536-4f95-b3fb-a54a4bad9234\" xlink:show=\"new\" xlink:title=\"psysml:7f169e5b-4536-4f95-b3fb-a54a4bad9234\" xlink:type=\"simple\"><rect fill=\"#FFFFFF\" height=\"45.9375\" id=\"E6\" rx=\"10\" ry=\"10\" style=\"stroke: #383838; stroke-width: 1.5;\" width=\"42\" x=\"145\" y=\"87.5\"/><text fill=\"#000000\" font-family=\"sans-serif\" font-size=\"12\" font-style=\"italic\" lengthAdjust=\"spacingAndGlyphs\" textLength=\"40\" x=\"146\" y=\"103.6387\">«part»</text><text fill=\"#000000\" font-family=\"sans-serif\" font-size=\"12\" lengthAdjust=\"spacingAndGlyphs\" textLength=\"22\" x=\"155\" y=\"117.6074\">x: A</text><line style=\"stroke: #383838; stroke-width: 1.5;\" x1=\"146\" x2=\"186\" y1=\"125.4375\" y2=\"125.4375\"/></a><a href=\"psysml:afe2db1e-b444-45d6-9b6b-b3994e64af2e\" target=\"_top\" title=\"psysml:afe2db1e-b444-45d6-9b6b-b3994e64af2e\" xlink:actuate=\"onRequest\" xlink:href=\"psysml:afe2db1e-b444-45d6-9b6b-b3994e64af2e\" xlink:show=\"new\" xlink:title=\"psysml:afe2db1e-b444-45d6-9b6b-b3994e64af2e\" xlink:type=\"simple\"><polygon fill=\"#FFFFFF\" points=\"60.5,84,95.5,84,102.5,106.2969,109.5,106.2969,109.5,136.5938,60.5,136.5938,60.5,84\" style=\"stroke: #000000; stroke-width: 1.5;\"/><line style=\"stroke: #000000; stroke-width: 1.5;\" x1=\"60.5\" x2=\"102.5\" y1=\"106.2969\" y2=\"106.2969\"/><text fill=\"#000000\" font-family=\"sans-serif\" font-size=\"14\" font-weight=\"bold\" lengthAdjust=\"spacingAndGlyphs\" textLength=\"29\" x=\"64.5\" y=\"98.9951\">P2a</text></a><!--MD5=[a717450b82c80b9240a525fa862496af]\n",
       "link E6 to E3--><a href=\"psysml:4395c2c1-a48a-41da-9561-d3e6647c3ecb\" target=\"_top\" title=\"psysml:4395c2c1-a48a-41da-9561-d3e6647c3ecb\" xlink:actuate=\"onRequest\" xlink:href=\"psysml:4395c2c1-a48a-41da-9561-d3e6647c3ecb\" xlink:show=\"new\" xlink:title=\"psysml:4395c2c1-a48a-41da-9561-d3e6647c3ecb\" xlink:type=\"simple\"><path d=\"M163.83,133.68 C162.24,149.9 160.04,172.39 158.12,191.96 \" fill=\"none\" id=\"E6-&gt;E3\" style=\"stroke: #383838; stroke-width: 1.0;\"/><polygon fill=\"#FFFFFF\" points=\"156.16,211.98,151.0533,192.3861,164.986,193.7564,156.16,211.98\" style=\"stroke: #383838; stroke-width: 1.0;\"/><ellipse cx=\"153.6016\" cy=\"186.9092\" fill=\"#383838\" rx=\"2\" ry=\"2\" style=\"stroke: #383838; stroke-width: 1.0;\"/><ellipse cx=\"163.5535\" cy=\"187.888\" fill=\"#383838\" rx=\"2\" ry=\"2\" style=\"stroke: #383838; stroke-width: 1.0;\"/></a><!--MD5=[88186f7cae6b9c25e93fdce70d0c26fc]\n",
       "@startuml\r\n",
       "skinparam linetype polyline\r\n",
       "skinparam monochrome true\r\n",
       "skinparam classbackgroundcolor white\r\n",
       "skinparam shadowing false\r\n",
       "skinparam wrapWidth 300\r\n",
       "hide circle\r\n",
       "\r\n",
       "package \"QualifiedNameImportTest\" as E1  [[psysml:d16b9356-f04a-4ff8-b2ae-3864bc76abf1 ]]  {\r\n",
       "package \"P1\" as E2  [[psysml:88b3eb59-bf67-426d-b22b-2d4deb7f4fe0 ]]  {\r\n",
       "comp def \"A\" as E3  <<(T,blue)part def>> [[psysml:fd353ea3-6373-455a-afbc-b284741b5a43 ]] {\r\n",
       "}\r\n",
       "}\r\n",
       "package \"P2\" as E4  [[psysml:4523bb13-7dc6-4a64-a848-9d456c6fa329 ]]  {\r\n",
       "package \"P2a\" as E5  [[psysml:afe2db1e-b444-45d6-9b6b-b3994e64af2e ]]  {\r\n",
       "}\r\n",
       "comp usage \"x: A\" as E6  <<(T,blue)part>> [[psysml:7f169e5b-4536-4f95-b3fb-a54a4bad9234 ]] {\r\n",
       "}\r\n",
       "E6 - -:|> E3 [[psysml:4395c2c1-a48a-41da-9561-d3e6647c3ecb ]] \r\n",
       "}\r\n",
       "}\r\n",
       "@enduml\r\n",
       "\n",
       "PlantUML version 1.2020.13(Sat Jun 13 12:26:38 UTC 2020)\n",
       "(EPL source distribution)\n",
       "Java Runtime: OpenJDK Runtime Environment\n",
       "JVM: OpenJDK 64-Bit Server VM\n",
       "Default Encoding: UTF-8\n",
       "Language: en\n",
       "Country: null\n",
       "--></g></svg>"
      ]
     },
     "execution_count": 14,
     "metadata": {},
     "output_type": "execute_result"
    }
   ],
   "source": [
    "%viz --style=\"POLYLINE\" --view=\"Sequence\" \"QualifiedNameImportTest\""
   ]
  },
  {
   "cell_type": "code",
   "execution_count": 15,
   "id": "meaning-shuttle",
   "metadata": {
    "execution": {
     "iopub.execute_input": "2021-03-25T09:35:25.189322Z",
     "iopub.status.busy": "2021-03-25T09:35:25.188407Z",
     "iopub.status.idle": "2021-03-25T09:35:25.274533Z",
     "shell.execute_reply": "2021-03-25T09:35:25.272404Z"
    }
   },
   "outputs": [
    {
     "data": {
      "image/svg+xml": [
       "<?xml version=\"1.0\" encoding=\"UTF-8\" standalone=\"no\"?><svg xmlns=\"http://www.w3.org/2000/svg\" xmlns:xlink=\"http://www.w3.org/1999/xlink\" contentScriptType=\"application/ecmascript\" contentStyleType=\"text/css\" height=\"310px\" preserveAspectRatio=\"none\" style=\"width:253px;height:310px;\" version=\"1.1\" viewBox=\"0 0 253 310\" width=\"253px\" zoomAndPan=\"magnify\"><defs/><g><!--MD5=[fbc87193dbaf4d95561dea2c320d4a47]\n",
       "cluster E1--><a href=\"psysml:d16b9356-f04a-4ff8-b2ae-3864bc76abf1\" target=\"_top\" title=\"psysml:d16b9356-f04a-4ff8-b2ae-3864bc76abf1\" xlink:actuate=\"onRequest\" xlink:href=\"psysml:d16b9356-f04a-4ff8-b2ae-3864bc76abf1\" xlink:show=\"new\" xlink:title=\"psysml:d16b9356-f04a-4ff8-b2ae-3864bc76abf1\" xlink:type=\"simple\"><polygon fill=\"#FFFFFF\" points=\"16,6,221,6,228,28.2969,231,28.2969,231,298,16,298,16,6\" style=\"stroke: #000000; stroke-width: 1.5;\"/><line style=\"stroke: #000000; stroke-width: 1.5;\" x1=\"16\" x2=\"228\" y1=\"28.2969\" y2=\"28.2969\"/><text fill=\"#000000\" font-family=\"sans-serif\" font-size=\"14\" font-weight=\"bold\" lengthAdjust=\"spacingAndGlyphs\" textLength=\"199\" x=\"20\" y=\"20.9951\">QualifiedNameImportTest</text></a><!--MD5=[e4f7fae6ed58524ba242bb0b0d3be6b7]\n",
       "cluster E2--><a href=\"psysml:88b3eb59-bf67-426d-b22b-2d4deb7f4fe0\" target=\"_top\" title=\"psysml:88b3eb59-bf67-426d-b22b-2d4deb7f4fe0\" xlink:actuate=\"onRequest\" xlink:href=\"psysml:88b3eb59-bf67-426d-b22b-2d4deb7f4fe0\" xlink:show=\"new\" xlink:title=\"psysml:88b3eb59-bf67-426d-b22b-2d4deb7f4fe0\" xlink:type=\"simple\"><polygon fill=\"#FFFFFF\" points=\"105,177,131,177,138,199.2969,203,199.2969,203,274,105,274,105,177\" style=\"stroke: #000000; stroke-width: 1.5;\"/><line style=\"stroke: #000000; stroke-width: 1.5;\" x1=\"105\" x2=\"138\" y1=\"199.2969\" y2=\"199.2969\"/><text fill=\"#000000\" font-family=\"sans-serif\" font-size=\"14\" font-weight=\"bold\" lengthAdjust=\"spacingAndGlyphs\" textLength=\"20\" x=\"109\" y=\"191.9951\">P1</text></a><!--MD5=[f6df4d0ebaf0b5dfb2ced0ae5af7c670]\n",
       "cluster E4--><a href=\"psysml:4523bb13-7dc6-4a64-a848-9d456c6fa329\" target=\"_top\" title=\"psysml:4523bb13-7dc6-4a64-a848-9d456c6fa329\" xlink:actuate=\"onRequest\" xlink:href=\"psysml:4523bb13-7dc6-4a64-a848-9d456c6fa329\" xlink:show=\"new\" xlink:title=\"psysml:4523bb13-7dc6-4a64-a848-9d456c6fa329\" xlink:type=\"simple\"><polygon fill=\"#FFFFFF\" points=\"44,49,70,49,77,71.2969,203,71.2969,203,153,44,153,44,49\" style=\"stroke: #000000; stroke-width: 1.5;\"/><line style=\"stroke: #000000; stroke-width: 1.5;\" x1=\"44\" x2=\"77\" y1=\"71.2969\" y2=\"71.2969\"/><text fill=\"#000000\" font-family=\"sans-serif\" font-size=\"14\" font-weight=\"bold\" lengthAdjust=\"spacingAndGlyphs\" textLength=\"20\" x=\"48\" y=\"63.9951\">P2</text></a><!--MD5=[09b614a08d8cba4a07c9adeb5e0fee81]\n",
       "class E3--><a href=\"psysml:fd353ea3-6373-455a-afbc-b284741b5a43\" target=\"_top\" title=\"psysml:fd353ea3-6373-455a-afbc-b284741b5a43\" xlink:actuate=\"onRequest\" xlink:href=\"psysml:fd353ea3-6373-455a-afbc-b284741b5a43\" xlink:show=\"new\" xlink:title=\"psysml:fd353ea3-6373-455a-afbc-b284741b5a43\" xlink:type=\"simple\"><rect fill=\"#FFFFFF\" height=\"45.9375\" id=\"E3\" style=\"stroke: #383838; stroke-width: 1.5;\" width=\"66\" x=\"121\" y=\"212\"/><text fill=\"#000000\" font-family=\"sans-serif\" font-size=\"12\" font-style=\"italic\" lengthAdjust=\"spacingAndGlyphs\" textLength=\"64\" x=\"122\" y=\"228.1387\">«part def»</text><text fill=\"#000000\" font-family=\"sans-serif\" font-size=\"12\" lengthAdjust=\"spacingAndGlyphs\" textLength=\"8\" x=\"150\" y=\"242.1074\">A</text><line style=\"stroke: #383838; stroke-width: 1.5;\" x1=\"122\" x2=\"186\" y1=\"249.9375\" y2=\"249.9375\"/></a><!--MD5=[60a26617385b1d2d0262a64233df1f8d]\n",
       "class E6--><a href=\"psysml:7f169e5b-4536-4f95-b3fb-a54a4bad9234\" target=\"_top\" title=\"psysml:7f169e5b-4536-4f95-b3fb-a54a4bad9234\" xlink:actuate=\"onRequest\" xlink:href=\"psysml:7f169e5b-4536-4f95-b3fb-a54a4bad9234\" xlink:show=\"new\" xlink:title=\"psysml:7f169e5b-4536-4f95-b3fb-a54a4bad9234\" xlink:type=\"simple\"><rect fill=\"#FFFFFF\" height=\"45.9375\" id=\"E6\" rx=\"10\" ry=\"10\" style=\"stroke: #383838; stroke-width: 1.5;\" width=\"42\" x=\"145\" y=\"87.5\"/><text fill=\"#000000\" font-family=\"sans-serif\" font-size=\"12\" font-style=\"italic\" lengthAdjust=\"spacingAndGlyphs\" textLength=\"40\" x=\"146\" y=\"103.6387\">«part»</text><text fill=\"#000000\" font-family=\"sans-serif\" font-size=\"12\" lengthAdjust=\"spacingAndGlyphs\" textLength=\"22\" x=\"155\" y=\"117.6074\">x: A</text><line style=\"stroke: #383838; stroke-width: 1.5;\" x1=\"146\" x2=\"186\" y1=\"125.4375\" y2=\"125.4375\"/></a><a href=\"psysml:afe2db1e-b444-45d6-9b6b-b3994e64af2e\" target=\"_top\" title=\"psysml:afe2db1e-b444-45d6-9b6b-b3994e64af2e\" xlink:actuate=\"onRequest\" xlink:href=\"psysml:afe2db1e-b444-45d6-9b6b-b3994e64af2e\" xlink:show=\"new\" xlink:title=\"psysml:afe2db1e-b444-45d6-9b6b-b3994e64af2e\" xlink:type=\"simple\"><polygon fill=\"#FFFFFF\" points=\"60.5,84,95.5,84,102.5,106.2969,109.5,106.2969,109.5,136.5938,60.5,136.5938,60.5,84\" style=\"stroke: #000000; stroke-width: 1.5;\"/><line style=\"stroke: #000000; stroke-width: 1.5;\" x1=\"60.5\" x2=\"102.5\" y1=\"106.2969\" y2=\"106.2969\"/><text fill=\"#000000\" font-family=\"sans-serif\" font-size=\"14\" font-weight=\"bold\" lengthAdjust=\"spacingAndGlyphs\" textLength=\"29\" x=\"64.5\" y=\"98.9951\">P2a</text></a><!--MD5=[a717450b82c80b9240a525fa862496af]\n",
       "link E6 to E3--><a href=\"psysml:4395c2c1-a48a-41da-9561-d3e6647c3ecb\" target=\"_top\" title=\"psysml:4395c2c1-a48a-41da-9561-d3e6647c3ecb\" xlink:actuate=\"onRequest\" xlink:href=\"psysml:4395c2c1-a48a-41da-9561-d3e6647c3ecb\" xlink:show=\"new\" xlink:title=\"psysml:4395c2c1-a48a-41da-9561-d3e6647c3ecb\" xlink:type=\"simple\"><path d=\"M163.83,133.68 C162.24,149.9 160.04,172.39 158.12,191.96 \" fill=\"none\" id=\"E6-&gt;E3\" style=\"stroke: #383838; stroke-width: 1.0;\"/><polygon fill=\"#FFFFFF\" points=\"156.16,211.98,151.0533,192.3861,164.986,193.7564,156.16,211.98\" style=\"stroke: #383838; stroke-width: 1.0;\"/><ellipse cx=\"153.6016\" cy=\"186.9092\" fill=\"#383838\" rx=\"2\" ry=\"2\" style=\"stroke: #383838; stroke-width: 1.0;\"/><ellipse cx=\"163.5535\" cy=\"187.888\" fill=\"#383838\" rx=\"2\" ry=\"2\" style=\"stroke: #383838; stroke-width: 1.0;\"/></a><!--MD5=[88186f7cae6b9c25e93fdce70d0c26fc]\n",
       "@startuml\r\n",
       "skinparam linetype polyline\r\n",
       "skinparam monochrome true\r\n",
       "skinparam classbackgroundcolor white\r\n",
       "skinparam shadowing false\r\n",
       "skinparam wrapWidth 300\r\n",
       "hide circle\r\n",
       "\r\n",
       "package \"QualifiedNameImportTest\" as E1  [[psysml:d16b9356-f04a-4ff8-b2ae-3864bc76abf1 ]]  {\r\n",
       "package \"P1\" as E2  [[psysml:88b3eb59-bf67-426d-b22b-2d4deb7f4fe0 ]]  {\r\n",
       "comp def \"A\" as E3  <<(T,blue)part def>> [[psysml:fd353ea3-6373-455a-afbc-b284741b5a43 ]] {\r\n",
       "}\r\n",
       "}\r\n",
       "package \"P2\" as E4  [[psysml:4523bb13-7dc6-4a64-a848-9d456c6fa329 ]]  {\r\n",
       "package \"P2a\" as E5  [[psysml:afe2db1e-b444-45d6-9b6b-b3994e64af2e ]]  {\r\n",
       "}\r\n",
       "comp usage \"x: A\" as E6  <<(T,blue)part>> [[psysml:7f169e5b-4536-4f95-b3fb-a54a4bad9234 ]] {\r\n",
       "}\r\n",
       "E6 - -:|> E3 [[psysml:4395c2c1-a48a-41da-9561-d3e6647c3ecb ]] \r\n",
       "}\r\n",
       "}\r\n",
       "@enduml\r\n",
       "\n",
       "PlantUML version 1.2020.13(Sat Jun 13 12:26:38 UTC 2020)\n",
       "(EPL source distribution)\n",
       "Java Runtime: OpenJDK Runtime Environment\n",
       "JVM: OpenJDK 64-Bit Server VM\n",
       "Default Encoding: UTF-8\n",
       "Language: en\n",
       "Country: null\n",
       "--></g></svg>"
      ]
     },
     "execution_count": 15,
     "metadata": {},
     "output_type": "execute_result"
    }
   ],
   "source": [
    "%viz --style=\"POLYLINE\" --view=\"MIXED\" \"QualifiedNameImportTest\""
   ]
  },
  {
   "cell_type": "code",
   "execution_count": 16,
   "id": "cultural-legend",
   "metadata": {
    "execution": {
     "iopub.execute_input": "2021-03-25T09:35:25.329790Z",
     "iopub.status.busy": "2021-03-25T09:35:25.329216Z",
     "iopub.status.idle": "2021-03-25T09:35:25.394232Z",
     "shell.execute_reply": "2021-03-25T09:35:25.392786Z"
    }
   },
   "outputs": [
    {
     "data": {
      "image/svg+xml": [
       "<?xml version=\"1.0\" encoding=\"UTF-8\" standalone=\"no\"?><svg xmlns=\"http://www.w3.org/2000/svg\" xmlns:xlink=\"http://www.w3.org/1999/xlink\" contentScriptType=\"application/ecmascript\" contentStyleType=\"text/css\" height=\"271px\" preserveAspectRatio=\"none\" style=\"width:293px;height:271px;\" version=\"1.1\" viewBox=\"0 0 293 271\" width=\"293px\" zoomAndPan=\"magnify\"><defs/><g><!--MD5=[fbc87193dbaf4d95561dea2c320d4a47]\n",
       "cluster E1--><a href=\"psysml:d16b9356-f04a-4ff8-b2ae-3864bc76abf1\" target=\"_top\" title=\"psysml:d16b9356-f04a-4ff8-b2ae-3864bc76abf1\" xlink:actuate=\"onRequest\" xlink:href=\"psysml:d16b9356-f04a-4ff8-b2ae-3864bc76abf1\" xlink:show=\"new\" xlink:title=\"psysml:d16b9356-f04a-4ff8-b2ae-3864bc76abf1\" xlink:type=\"simple\"><polygon fill=\"#FFFFFF\" points=\"16,6,221,6,228,28.2969,271,28.2969,271,259,16,259,16,6\" style=\"stroke: #000000; stroke-width: 1.5;\"/><line style=\"stroke: #000000; stroke-width: 1.5;\" x1=\"16\" x2=\"228\" y1=\"28.2969\" y2=\"28.2969\"/><text fill=\"#000000\" font-family=\"sans-serif\" font-size=\"14\" font-weight=\"bold\" lengthAdjust=\"spacingAndGlyphs\" textLength=\"199\" x=\"20\" y=\"20.9951\">QualifiedNameImportTest</text></a><!--MD5=[e4f7fae6ed58524ba242bb0b0d3be6b7]\n",
       "cluster E2--><a href=\"psysml:88b3eb59-bf67-426d-b22b-2d4deb7f4fe0\" target=\"_top\" title=\"psysml:88b3eb59-bf67-426d-b22b-2d4deb7f4fe0\" xlink:actuate=\"onRequest\" xlink:href=\"psysml:88b3eb59-bf67-426d-b22b-2d4deb7f4fe0\" xlink:show=\"new\" xlink:title=\"psysml:88b3eb59-bf67-426d-b22b-2d4deb7f4fe0\" xlink:type=\"simple\"><polygon fill=\"#FFFFFF\" points=\"149,49,175,49,182,71.2969,247,71.2969,247,146,149,146,149,49\" style=\"stroke: #000000; stroke-width: 1.5;\"/><line style=\"stroke: #000000; stroke-width: 1.5;\" x1=\"149\" x2=\"182\" y1=\"71.2969\" y2=\"71.2969\"/><text fill=\"#000000\" font-family=\"sans-serif\" font-size=\"14\" font-weight=\"bold\" lengthAdjust=\"spacingAndGlyphs\" textLength=\"20\" x=\"153\" y=\"63.9951\">P1</text></a><!--MD5=[f6df4d0ebaf0b5dfb2ced0ae5af7c670]\n",
       "cluster E4--><a href=\"psysml:4523bb13-7dc6-4a64-a848-9d456c6fa329\" target=\"_top\" title=\"psysml:4523bb13-7dc6-4a64-a848-9d456c6fa329\" xlink:actuate=\"onRequest\" xlink:href=\"psysml:4523bb13-7dc6-4a64-a848-9d456c6fa329\" xlink:show=\"new\" xlink:title=\"psysml:4523bb13-7dc6-4a64-a848-9d456c6fa329\" xlink:type=\"simple\"><polygon fill=\"#FFFFFF\" points=\"40,49,66,49,73,71.2969,121,71.2969,121,235,40,235,40,49\" style=\"stroke: #000000; stroke-width: 1.5;\"/><line style=\"stroke: #000000; stroke-width: 1.5;\" x1=\"40\" x2=\"73\" y1=\"71.2969\" y2=\"71.2969\"/><text fill=\"#000000\" font-family=\"sans-serif\" font-size=\"14\" font-weight=\"bold\" lengthAdjust=\"spacingAndGlyphs\" textLength=\"20\" x=\"44\" y=\"63.9951\">P2</text></a><!--MD5=[09b614a08d8cba4a07c9adeb5e0fee81]\n",
       "class E3--><a href=\"psysml:fd353ea3-6373-455a-afbc-b284741b5a43\" target=\"_top\" title=\"psysml:fd353ea3-6373-455a-afbc-b284741b5a43\" xlink:actuate=\"onRequest\" xlink:href=\"psysml:fd353ea3-6373-455a-afbc-b284741b5a43\" xlink:show=\"new\" xlink:title=\"psysml:fd353ea3-6373-455a-afbc-b284741b5a43\" xlink:type=\"simple\"><rect fill=\"#FFFFFF\" height=\"45.9375\" id=\"E3\" style=\"stroke: #383838; stroke-width: 1.5;\" width=\"66\" x=\"165\" y=\"84\"/><text fill=\"#000000\" font-family=\"sans-serif\" font-size=\"12\" font-style=\"italic\" lengthAdjust=\"spacingAndGlyphs\" textLength=\"64\" x=\"166\" y=\"100.1387\">«part def»</text><text fill=\"#000000\" font-family=\"sans-serif\" font-size=\"12\" lengthAdjust=\"spacingAndGlyphs\" textLength=\"8\" x=\"194\" y=\"114.1074\">A</text><line style=\"stroke: #383838; stroke-width: 1.5;\" x1=\"166\" x2=\"230\" y1=\"121.9375\" y2=\"121.9375\"/></a><!--MD5=[60a26617385b1d2d0262a64233df1f8d]\n",
       "class E6--><a href=\"psysml:7f169e5b-4536-4f95-b3fb-a54a4bad9234\" target=\"_top\" title=\"psysml:7f169e5b-4536-4f95-b3fb-a54a4bad9234\" xlink:actuate=\"onRequest\" xlink:href=\"psysml:7f169e5b-4536-4f95-b3fb-a54a4bad9234\" xlink:show=\"new\" xlink:title=\"psysml:7f169e5b-4536-4f95-b3fb-a54a4bad9234\" xlink:type=\"simple\"><rect fill=\"#FFFFFF\" height=\"45.9375\" id=\"E6\" rx=\"10\" ry=\"10\" style=\"stroke: #383838; stroke-width: 1.5;\" width=\"42\" x=\"59.5\" y=\"84\"/><text fill=\"#000000\" font-family=\"sans-serif\" font-size=\"12\" font-style=\"italic\" lengthAdjust=\"spacingAndGlyphs\" textLength=\"40\" x=\"60.5\" y=\"100.1387\">«part»</text><text fill=\"#000000\" font-family=\"sans-serif\" font-size=\"12\" lengthAdjust=\"spacingAndGlyphs\" textLength=\"22\" x=\"69.5\" y=\"114.1074\">x: A</text><line style=\"stroke: #383838; stroke-width: 1.5;\" x1=\"60.5\" x2=\"100.5\" y1=\"121.9375\" y2=\"121.9375\"/></a><a href=\"psysml:afe2db1e-b444-45d6-9b6b-b3994e64af2e\" target=\"_top\" title=\"psysml:afe2db1e-b444-45d6-9b6b-b3994e64af2e\" xlink:actuate=\"onRequest\" xlink:href=\"psysml:afe2db1e-b444-45d6-9b6b-b3994e64af2e\" xlink:show=\"new\" xlink:title=\"psysml:afe2db1e-b444-45d6-9b6b-b3994e64af2e\" xlink:type=\"simple\"><polygon fill=\"#FFFFFF\" points=\"56,165.5,91,165.5,98,187.7969,105,187.7969,105,218.0938,56,218.0938,56,165.5\" style=\"stroke: #000000; stroke-width: 1.5;\"/><line style=\"stroke: #000000; stroke-width: 1.5;\" x1=\"56\" x2=\"98\" y1=\"187.7969\" y2=\"187.7969\"/><text fill=\"#000000\" font-family=\"sans-serif\" font-size=\"14\" font-weight=\"bold\" lengthAdjust=\"spacingAndGlyphs\" textLength=\"29\" x=\"60\" y=\"180.4951\">P2a</text></a><!--MD5=[a717450b82c80b9240a525fa862496af]\n",
       "link E6 to E3--><a href=\"psysml:4395c2c1-a48a-41da-9561-d3e6647c3ecb\" target=\"_top\" title=\"psysml:4395c2c1-a48a-41da-9561-d3e6647c3ecb\" xlink:actuate=\"onRequest\" xlink:href=\"psysml:4395c2c1-a48a-41da-9561-d3e6647c3ecb\" xlink:show=\"new\" xlink:title=\"psysml:4395c2c1-a48a-41da-9561-d3e6647c3ecb\" xlink:type=\"simple\"><path d=\"M101.62,107 C113.62,107 129.45,107 144.76,107 \" fill=\"none\" id=\"E6-&gt;E3\" style=\"stroke: #383838; stroke-width: 1.0;\"/><polygon fill=\"#FFFFFF\" points=\"164.91,107,145.91,114,145.91,100,164.91,107\" style=\"stroke: #383838; stroke-width: 1.0;\"/><ellipse cx=\"140.21\" cy=\"112\" fill=\"#383838\" rx=\"2\" ry=\"2\" style=\"stroke: #383838; stroke-width: 1.0;\"/><ellipse cx=\"140.21\" cy=\"102\" fill=\"#383838\" rx=\"2\" ry=\"2\" style=\"stroke: #383838; stroke-width: 1.0;\"/></a><!--MD5=[15a952b10220cc2fa5bab9ada2cb987a]\n",
       "@startuml\r\n",
       "left to right direction\r\n",
       "skinparam monochrome true\r\n",
       "skinparam classbackgroundcolor white\r\n",
       "skinparam shadowing false\r\n",
       "skinparam wrapWidth 300\r\n",
       "hide circle\r\n",
       "\r\n",
       "package \"QualifiedNameImportTest\" as E1  [[psysml:d16b9356-f04a-4ff8-b2ae-3864bc76abf1 ]]  {\r\n",
       "package \"P1\" as E2  [[psysml:88b3eb59-bf67-426d-b22b-2d4deb7f4fe0 ]]  {\r\n",
       "comp def \"A\" as E3  <<(T,blue)part def>> [[psysml:fd353ea3-6373-455a-afbc-b284741b5a43 ]] {\r\n",
       "}\r\n",
       "}\r\n",
       "package \"P2\" as E4  [[psysml:4523bb13-7dc6-4a64-a848-9d456c6fa329 ]]  {\r\n",
       "package \"P2a\" as E5  [[psysml:afe2db1e-b444-45d6-9b6b-b3994e64af2e ]]  {\r\n",
       "}\r\n",
       "comp usage \"x: A\" as E6  <<(T,blue)part>> [[psysml:7f169e5b-4536-4f95-b3fb-a54a4bad9234 ]] {\r\n",
       "}\r\n",
       "E6 - -:|> E3 [[psysml:4395c2c1-a48a-41da-9561-d3e6647c3ecb ]] \r\n",
       "}\r\n",
       "}\r\n",
       "@enduml\r\n",
       "\n",
       "PlantUML version 1.2020.13(Sat Jun 13 12:26:38 UTC 2020)\n",
       "(EPL source distribution)\n",
       "Java Runtime: OpenJDK Runtime Environment\n",
       "JVM: OpenJDK 64-Bit Server VM\n",
       "Default Encoding: UTF-8\n",
       "Language: en\n",
       "Country: null\n",
       "--></g></svg>"
      ]
     },
     "execution_count": 16,
     "metadata": {},
     "output_type": "execute_result"
    }
   ],
   "source": [
    "%viz --style=\"LR\" --view=\"Default\" \"QualifiedNameImportTest\""
   ]
  },
  {
   "cell_type": "code",
   "execution_count": 17,
   "id": "artistic-division",
   "metadata": {
    "execution": {
     "iopub.execute_input": "2021-03-25T09:35:25.443482Z",
     "iopub.status.busy": "2021-03-25T09:35:25.443083Z",
     "iopub.status.idle": "2021-03-25T09:35:25.505443Z",
     "shell.execute_reply": "2021-03-25T09:35:25.505843Z"
    }
   },
   "outputs": [
    {
     "data": {
      "image/svg+xml": [
       "<?xml version=\"1.0\" encoding=\"UTF-8\" standalone=\"no\"?><svg xmlns=\"http://www.w3.org/2000/svg\" xmlns:xlink=\"http://www.w3.org/1999/xlink\" contentScriptType=\"application/ecmascript\" contentStyleType=\"text/css\" height=\"271px\" preserveAspectRatio=\"none\" style=\"width:293px;height:271px;\" version=\"1.1\" viewBox=\"0 0 293 271\" width=\"293px\" zoomAndPan=\"magnify\"><defs/><g><!--MD5=[fbc87193dbaf4d95561dea2c320d4a47]\n",
       "cluster E1--><a href=\"psysml:d16b9356-f04a-4ff8-b2ae-3864bc76abf1\" target=\"_top\" title=\"psysml:d16b9356-f04a-4ff8-b2ae-3864bc76abf1\" xlink:actuate=\"onRequest\" xlink:href=\"psysml:d16b9356-f04a-4ff8-b2ae-3864bc76abf1\" xlink:show=\"new\" xlink:title=\"psysml:d16b9356-f04a-4ff8-b2ae-3864bc76abf1\" xlink:type=\"simple\"><polygon fill=\"#FFFFFF\" points=\"16,6,221,6,228,28.2969,271,28.2969,271,259,16,259,16,6\" style=\"stroke: #000000; stroke-width: 1.5;\"/><line style=\"stroke: #000000; stroke-width: 1.5;\" x1=\"16\" x2=\"228\" y1=\"28.2969\" y2=\"28.2969\"/><text fill=\"#000000\" font-family=\"sans-serif\" font-size=\"14\" font-weight=\"bold\" lengthAdjust=\"spacingAndGlyphs\" textLength=\"199\" x=\"20\" y=\"20.9951\">QualifiedNameImportTest</text></a><!--MD5=[e4f7fae6ed58524ba242bb0b0d3be6b7]\n",
       "cluster E2--><a href=\"psysml:88b3eb59-bf67-426d-b22b-2d4deb7f4fe0\" target=\"_top\" title=\"psysml:88b3eb59-bf67-426d-b22b-2d4deb7f4fe0\" xlink:actuate=\"onRequest\" xlink:href=\"psysml:88b3eb59-bf67-426d-b22b-2d4deb7f4fe0\" xlink:show=\"new\" xlink:title=\"psysml:88b3eb59-bf67-426d-b22b-2d4deb7f4fe0\" xlink:type=\"simple\"><polygon fill=\"#FFFFFF\" points=\"149,49,175,49,182,71.2969,247,71.2969,247,146,149,146,149,49\" style=\"stroke: #000000; stroke-width: 1.5;\"/><line style=\"stroke: #000000; stroke-width: 1.5;\" x1=\"149\" x2=\"182\" y1=\"71.2969\" y2=\"71.2969\"/><text fill=\"#000000\" font-family=\"sans-serif\" font-size=\"14\" font-weight=\"bold\" lengthAdjust=\"spacingAndGlyphs\" textLength=\"20\" x=\"153\" y=\"63.9951\">P1</text></a><!--MD5=[f6df4d0ebaf0b5dfb2ced0ae5af7c670]\n",
       "cluster E4--><a href=\"psysml:4523bb13-7dc6-4a64-a848-9d456c6fa329\" target=\"_top\" title=\"psysml:4523bb13-7dc6-4a64-a848-9d456c6fa329\" xlink:actuate=\"onRequest\" xlink:href=\"psysml:4523bb13-7dc6-4a64-a848-9d456c6fa329\" xlink:show=\"new\" xlink:title=\"psysml:4523bb13-7dc6-4a64-a848-9d456c6fa329\" xlink:type=\"simple\"><polygon fill=\"#FFFFFF\" points=\"40,49,66,49,73,71.2969,121,71.2969,121,235,40,235,40,49\" style=\"stroke: #000000; stroke-width: 1.5;\"/><line style=\"stroke: #000000; stroke-width: 1.5;\" x1=\"40\" x2=\"73\" y1=\"71.2969\" y2=\"71.2969\"/><text fill=\"#000000\" font-family=\"sans-serif\" font-size=\"14\" font-weight=\"bold\" lengthAdjust=\"spacingAndGlyphs\" textLength=\"20\" x=\"44\" y=\"63.9951\">P2</text></a><!--MD5=[09b614a08d8cba4a07c9adeb5e0fee81]\n",
       "class E3--><a href=\"psysml:fd353ea3-6373-455a-afbc-b284741b5a43\" target=\"_top\" title=\"psysml:fd353ea3-6373-455a-afbc-b284741b5a43\" xlink:actuate=\"onRequest\" xlink:href=\"psysml:fd353ea3-6373-455a-afbc-b284741b5a43\" xlink:show=\"new\" xlink:title=\"psysml:fd353ea3-6373-455a-afbc-b284741b5a43\" xlink:type=\"simple\"><rect fill=\"#FFFFFF\" height=\"45.9375\" id=\"E3\" style=\"stroke: #383838; stroke-width: 1.5;\" width=\"66\" x=\"165\" y=\"84\"/><text fill=\"#000000\" font-family=\"sans-serif\" font-size=\"12\" font-style=\"italic\" lengthAdjust=\"spacingAndGlyphs\" textLength=\"64\" x=\"166\" y=\"100.1387\">«part def»</text><text fill=\"#000000\" font-family=\"sans-serif\" font-size=\"12\" lengthAdjust=\"spacingAndGlyphs\" textLength=\"8\" x=\"194\" y=\"114.1074\">A</text><line style=\"stroke: #383838; stroke-width: 1.5;\" x1=\"166\" x2=\"230\" y1=\"121.9375\" y2=\"121.9375\"/></a><!--MD5=[60a26617385b1d2d0262a64233df1f8d]\n",
       "class E6--><a href=\"psysml:7f169e5b-4536-4f95-b3fb-a54a4bad9234\" target=\"_top\" title=\"psysml:7f169e5b-4536-4f95-b3fb-a54a4bad9234\" xlink:actuate=\"onRequest\" xlink:href=\"psysml:7f169e5b-4536-4f95-b3fb-a54a4bad9234\" xlink:show=\"new\" xlink:title=\"psysml:7f169e5b-4536-4f95-b3fb-a54a4bad9234\" xlink:type=\"simple\"><rect fill=\"#FFFFFF\" height=\"45.9375\" id=\"E6\" rx=\"10\" ry=\"10\" style=\"stroke: #383838; stroke-width: 1.5;\" width=\"42\" x=\"59.5\" y=\"84\"/><text fill=\"#000000\" font-family=\"sans-serif\" font-size=\"12\" font-style=\"italic\" lengthAdjust=\"spacingAndGlyphs\" textLength=\"40\" x=\"60.5\" y=\"100.1387\">«part»</text><text fill=\"#000000\" font-family=\"sans-serif\" font-size=\"12\" lengthAdjust=\"spacingAndGlyphs\" textLength=\"22\" x=\"69.5\" y=\"114.1074\">x: A</text><line style=\"stroke: #383838; stroke-width: 1.5;\" x1=\"60.5\" x2=\"100.5\" y1=\"121.9375\" y2=\"121.9375\"/></a><a href=\"psysml:afe2db1e-b444-45d6-9b6b-b3994e64af2e\" target=\"_top\" title=\"psysml:afe2db1e-b444-45d6-9b6b-b3994e64af2e\" xlink:actuate=\"onRequest\" xlink:href=\"psysml:afe2db1e-b444-45d6-9b6b-b3994e64af2e\" xlink:show=\"new\" xlink:title=\"psysml:afe2db1e-b444-45d6-9b6b-b3994e64af2e\" xlink:type=\"simple\"><polygon fill=\"#FFFFFF\" points=\"56,165.5,91,165.5,98,187.7969,105,187.7969,105,218.0938,56,218.0938,56,165.5\" style=\"stroke: #000000; stroke-width: 1.5;\"/><line style=\"stroke: #000000; stroke-width: 1.5;\" x1=\"56\" x2=\"98\" y1=\"187.7969\" y2=\"187.7969\"/><text fill=\"#000000\" font-family=\"sans-serif\" font-size=\"14\" font-weight=\"bold\" lengthAdjust=\"spacingAndGlyphs\" textLength=\"29\" x=\"60\" y=\"180.4951\">P2a</text></a><!--MD5=[a717450b82c80b9240a525fa862496af]\n",
       "link E6 to E3--><a href=\"psysml:4395c2c1-a48a-41da-9561-d3e6647c3ecb\" target=\"_top\" title=\"psysml:4395c2c1-a48a-41da-9561-d3e6647c3ecb\" xlink:actuate=\"onRequest\" xlink:href=\"psysml:4395c2c1-a48a-41da-9561-d3e6647c3ecb\" xlink:show=\"new\" xlink:title=\"psysml:4395c2c1-a48a-41da-9561-d3e6647c3ecb\" xlink:type=\"simple\"><path d=\"M101.62,107 C113.62,107 129.45,107 144.76,107 \" fill=\"none\" id=\"E6-&gt;E3\" style=\"stroke: #383838; stroke-width: 1.0;\"/><polygon fill=\"#FFFFFF\" points=\"164.91,107,145.91,114,145.91,100,164.91,107\" style=\"stroke: #383838; stroke-width: 1.0;\"/><ellipse cx=\"140.21\" cy=\"112\" fill=\"#383838\" rx=\"2\" ry=\"2\" style=\"stroke: #383838; stroke-width: 1.0;\"/><ellipse cx=\"140.21\" cy=\"102\" fill=\"#383838\" rx=\"2\" ry=\"2\" style=\"stroke: #383838; stroke-width: 1.0;\"/></a><!--MD5=[15a952b10220cc2fa5bab9ada2cb987a]\n",
       "@startuml\r\n",
       "left to right direction\r\n",
       "skinparam monochrome true\r\n",
       "skinparam classbackgroundcolor white\r\n",
       "skinparam shadowing false\r\n",
       "skinparam wrapWidth 300\r\n",
       "hide circle\r\n",
       "\r\n",
       "package \"QualifiedNameImportTest\" as E1  [[psysml:d16b9356-f04a-4ff8-b2ae-3864bc76abf1 ]]  {\r\n",
       "package \"P1\" as E2  [[psysml:88b3eb59-bf67-426d-b22b-2d4deb7f4fe0 ]]  {\r\n",
       "comp def \"A\" as E3  <<(T,blue)part def>> [[psysml:fd353ea3-6373-455a-afbc-b284741b5a43 ]] {\r\n",
       "}\r\n",
       "}\r\n",
       "package \"P2\" as E4  [[psysml:4523bb13-7dc6-4a64-a848-9d456c6fa329 ]]  {\r\n",
       "package \"P2a\" as E5  [[psysml:afe2db1e-b444-45d6-9b6b-b3994e64af2e ]]  {\r\n",
       "}\r\n",
       "comp usage \"x: A\" as E6  <<(T,blue)part>> [[psysml:7f169e5b-4536-4f95-b3fb-a54a4bad9234 ]] {\r\n",
       "}\r\n",
       "E6 - -:|> E3 [[psysml:4395c2c1-a48a-41da-9561-d3e6647c3ecb ]] \r\n",
       "}\r\n",
       "}\r\n",
       "@enduml\r\n",
       "\n",
       "PlantUML version 1.2020.13(Sat Jun 13 12:26:38 UTC 2020)\n",
       "(EPL source distribution)\n",
       "Java Runtime: OpenJDK Runtime Environment\n",
       "JVM: OpenJDK 64-Bit Server VM\n",
       "Default Encoding: UTF-8\n",
       "Language: en\n",
       "Country: null\n",
       "--></g></svg>"
      ]
     },
     "execution_count": 17,
     "metadata": {},
     "output_type": "execute_result"
    }
   ],
   "source": [
    "%viz --style=\"LR\" --view=\"Tree\" \"QualifiedNameImportTest\""
   ]
  },
  {
   "cell_type": "code",
   "execution_count": 18,
   "id": "earned-shaft",
   "metadata": {
    "execution": {
     "iopub.execute_input": "2021-03-25T09:35:25.556581Z",
     "iopub.status.busy": "2021-03-25T09:35:25.556129Z",
     "iopub.status.idle": "2021-03-25T09:35:25.564281Z",
     "shell.execute_reply": "2021-03-25T09:35:25.564650Z"
    }
   },
   "outputs": [
    {
     "data": {
      "image/svg+xml": [
       "<?xml version=\"1.0\" encoding=\"UTF-8\" standalone=\"no\"?><svg xmlns=\"http://www.w3.org/2000/svg\" xmlns:xlink=\"http://www.w3.org/1999/xlink\" contentScriptType=\"application/ecmascript\" contentStyleType=\"text/css\" height=\"12px\" preserveAspectRatio=\"none\" style=\"width:12px;height:12px;\" version=\"1.1\" viewBox=\"0 0 12 12\" width=\"12px\" zoomAndPan=\"magnify\"><defs/><g><!--MD5=[19d285c9d72a204eba4e2cd117d745e8]\n",
       "@startuml\r\n",
       "left to right direction\r\n",
       "skinparam monochrome true\r\n",
       "skinparam classbackgroundcolor white\r\n",
       "skinparam shadowing false\r\n",
       "skinparam wrapWidth 300\r\n",
       "hide circle\r\n",
       "\r\n",
       "@enduml\r\n",
       "\n",
       "PlantUML version 1.2020.13(Sat Jun 13 12:26:38 UTC 2020)\n",
       "(EPL source distribution)\n",
       "Java Runtime: OpenJDK Runtime Environment\n",
       "JVM: OpenJDK 64-Bit Server VM\n",
       "Default Encoding: UTF-8\n",
       "Language: en\n",
       "Country: null\n",
       "--></g></svg>"
      ]
     },
     "execution_count": 18,
     "metadata": {},
     "output_type": "execute_result"
    }
   ],
   "source": [
    "%viz --style=\"LR\" --view=\"State\" \"QualifiedNameImportTest\""
   ]
  },
  {
   "cell_type": "code",
   "execution_count": 19,
   "id": "collectible-emphasis",
   "metadata": {
    "execution": {
     "iopub.execute_input": "2021-03-25T09:35:25.615457Z",
     "iopub.status.busy": "2021-03-25T09:35:25.615039Z",
     "iopub.status.idle": "2021-03-25T09:35:25.677781Z",
     "shell.execute_reply": "2021-03-25T09:35:25.678276Z"
    }
   },
   "outputs": [
    {
     "data": {
      "image/svg+xml": [
       "<?xml version=\"1.0\" encoding=\"UTF-8\" standalone=\"no\"?><svg xmlns=\"http://www.w3.org/2000/svg\" xmlns:xlink=\"http://www.w3.org/1999/xlink\" contentScriptType=\"application/ecmascript\" contentStyleType=\"text/css\" height=\"384px\" preserveAspectRatio=\"none\" style=\"width:253px;height:384px;\" version=\"1.1\" viewBox=\"0 0 253 384\" width=\"253px\" zoomAndPan=\"magnify\"><defs/><g><!--MD5=[fbc87193dbaf4d95561dea2c320d4a47]\n",
       "cluster E1--><a href=\"psysml:d16b9356-f04a-4ff8-b2ae-3864bc76abf1\" target=\"_top\" title=\"psysml:d16b9356-f04a-4ff8-b2ae-3864bc76abf1\" xlink:actuate=\"onRequest\" xlink:href=\"psysml:d16b9356-f04a-4ff8-b2ae-3864bc76abf1\" xlink:show=\"new\" xlink:title=\"psysml:d16b9356-f04a-4ff8-b2ae-3864bc76abf1\" xlink:type=\"simple\"><polygon fill=\"#FFFFFF\" points=\"16,6,221,6,228,28.2969,231,28.2969,231,372,16,372,16,6\" style=\"stroke: #000000; stroke-width: 1.5;\"/><line style=\"stroke: #000000; stroke-width: 1.5;\" x1=\"16\" x2=\"228\" y1=\"28.2969\" y2=\"28.2969\"/><text fill=\"#000000\" font-family=\"sans-serif\" font-size=\"14\" font-weight=\"bold\" lengthAdjust=\"spacingAndGlyphs\" textLength=\"199\" x=\"20\" y=\"20.9951\">QualifiedNameImportTest</text></a><!--MD5=[e4f7fae6ed58524ba242bb0b0d3be6b7]\n",
       "cluster E2--><a href=\"psysml:88b3eb59-bf67-426d-b22b-2d4deb7f4fe0\" target=\"_top\" title=\"psysml:88b3eb59-bf67-426d-b22b-2d4deb7f4fe0\" xlink:actuate=\"onRequest\" xlink:href=\"psysml:88b3eb59-bf67-426d-b22b-2d4deb7f4fe0\" xlink:show=\"new\" xlink:title=\"psysml:88b3eb59-bf67-426d-b22b-2d4deb7f4fe0\" xlink:type=\"simple\"><polygon fill=\"#FFFFFF\" points=\"72,49,98,49,105,71.2969,175,71.2969,175,144,72,144,72,49\" style=\"stroke: #000000; stroke-width: 1.5;\"/><line style=\"stroke: #000000; stroke-width: 1.5;\" x1=\"72\" x2=\"105\" y1=\"71.2969\" y2=\"71.2969\"/><text fill=\"#000000\" font-family=\"sans-serif\" font-size=\"14\" font-weight=\"bold\" lengthAdjust=\"spacingAndGlyphs\" textLength=\"20\" x=\"76\" y=\"63.9951\">P1</text></a><!--MD5=[f6df4d0ebaf0b5dfb2ced0ae5af7c670]\n",
       "cluster E4--><a href=\"psysml:4523bb13-7dc6-4a64-a848-9d456c6fa329\" target=\"_top\" title=\"psysml:4523bb13-7dc6-4a64-a848-9d456c6fa329\" xlink:actuate=\"onRequest\" xlink:href=\"psysml:4523bb13-7dc6-4a64-a848-9d456c6fa329\" xlink:show=\"new\" xlink:title=\"psysml:4523bb13-7dc6-4a64-a848-9d456c6fa329\" xlink:type=\"simple\"><polygon fill=\"#FFFFFF\" points=\"82.5,168,108.5,168,115.5,190.2969,164.5,190.2969,164.5,348,82.5,348,82.5,168\" style=\"stroke: #000000; stroke-width: 1.5;\"/><line style=\"stroke: #000000; stroke-width: 1.5;\" x1=\"82.5\" x2=\"115.5\" y1=\"190.2969\" y2=\"190.2969\"/><text fill=\"#000000\" font-family=\"sans-serif\" font-size=\"14\" font-weight=\"bold\" lengthAdjust=\"spacingAndGlyphs\" textLength=\"20\" x=\"86.5\" y=\"182.9951\">P2</text></a><g id=\"E1.E2.E3\"><a href=\"psysml:fd353ea3-6373-455a-afbc-b284741b5a43\" target=\"_top\" title=\"psysml:fd353ea3-6373-455a-afbc-b284741b5a43\" xlink:actuate=\"onRequest\" xlink:href=\"psysml:fd353ea3-6373-455a-afbc-b284741b5a43\" xlink:show=\"new\" xlink:title=\"psysml:fd353ea3-6373-455a-afbc-b284741b5a43\" xlink:type=\"simple\"><rect fill=\"#FFFFFF\" height=\"42.9375\" id=\"E3\" style=\"stroke: #383838; stroke-width: 1.5;\" width=\"71\" x=\"88\" y=\"84.5\"/><rect fill=\"#F8F8F8\" height=\"37.9375\" style=\"stroke: #383838; stroke-width: 1.5;\" width=\"71\" x=\"88\" y=\"84.5\"/><text fill=\"#000000\" font-family=\"sans-serif\" font-size=\"12\" font-style=\"italic\" lengthAdjust=\"spacingAndGlyphs\" textLength=\"64\" x=\"91.5\" y=\"100.6387\">«part def»</text><text fill=\"#000000\" font-family=\"sans-serif\" font-size=\"12\" lengthAdjust=\"spacingAndGlyphs\" textLength=\"8\" x=\"119.5\" y=\"114.6074\">A</text></a></g><a href=\"psysml:afe2db1e-b444-45d6-9b6b-b3994e64af2e\" target=\"_top\" title=\"psysml:afe2db1e-b444-45d6-9b6b-b3994e64af2e\" xlink:actuate=\"onRequest\" xlink:href=\"psysml:afe2db1e-b444-45d6-9b6b-b3994e64af2e\" xlink:show=\"new\" xlink:title=\"psysml:afe2db1e-b444-45d6-9b6b-b3994e64af2e\" xlink:type=\"simple\"><polygon fill=\"#FFFFFF\" points=\"99,203.5,134,203.5,141,225.7969,148,225.7969,148,256.0938,99,256.0938,99,203.5\" style=\"stroke: #000000; stroke-width: 1.5;\"/><line style=\"stroke: #000000; stroke-width: 1.5;\" x1=\"99\" x2=\"141\" y1=\"225.7969\" y2=\"225.7969\"/><text fill=\"#000000\" font-family=\"sans-serif\" font-size=\"14\" font-weight=\"bold\" lengthAdjust=\"spacingAndGlyphs\" textLength=\"29\" x=\"103\" y=\"218.4951\">P2a</text></a><g id=\"E1.E4.E6\"><a href=\"psysml:7f169e5b-4536-4f95-b3fb-a54a4bad9234\" target=\"_top\" title=\"psysml:7f169e5b-4536-4f95-b3fb-a54a4bad9234\" xlink:actuate=\"onRequest\" xlink:href=\"psysml:7f169e5b-4536-4f95-b3fb-a54a4bad9234\" xlink:show=\"new\" xlink:title=\"psysml:7f169e5b-4536-4f95-b3fb-a54a4bad9234\" xlink:type=\"simple\"><rect fill=\"#FFFFFF\" height=\"40\" id=\"E6\" rx=\"10\" ry=\"10\" style=\"stroke: #383838; stroke-width: 1.5;\" width=\"50\" x=\"98.5\" y=\"292\"/><rect fill=\"#F8F8F8\" height=\"23.9688\" rx=\"10\" ry=\"10\" style=\"stroke: #F8F8F8; stroke-width: 1.5;\" width=\"50\" x=\"98.5\" y=\"292\"/><rect fill=\"#F8F8F8\" height=\"10\" style=\"stroke: #F8F8F8; stroke-width: 1.5;\" width=\"50\" x=\"98.5\" y=\"305.9688\"/><rect fill=\"none\" height=\"40\" id=\"E6\" rx=\"10\" ry=\"10\" style=\"stroke: #383838; stroke-width: 1.5;\" width=\"50\" x=\"98.5\" y=\"292\"/><text fill=\"#000000\" font-family=\"sans-serif\" font-size=\"12\" lengthAdjust=\"spacingAndGlyphs\" textLength=\"22\" x=\"112.5\" y=\"308.1387\">x: A</text></a></g><!--MD5=[06dceb0948e5b89d444609f746e57125]\n",
       "@startuml\r\n",
       "skinparam ranksep 8\r\n",
       "skinparam rectangle {\r\n",
       " backgroundColor<<block>> LightGreen\r\n",
       "}\r\n",
       "left to right direction\r\n",
       "skinparam monochrome true\r\n",
       "skinparam classbackgroundcolor white\r\n",
       "skinparam shadowing false\r\n",
       "skinparam wrapWidth 300\r\n",
       "hide circle\r\n",
       "\r\n",
       "package \"QualifiedNameImportTest\" as E1  [[psysml:d16b9356-f04a-4ff8-b2ae-3864bc76abf1 ]]  {\r\n",
       "package \"P1\" as E2  [[psysml:88b3eb59-bf67-426d-b22b-2d4deb7f4fe0 ]]  {\r\n",
       "rec def \"A\" as E3  <<(T,blue)part def>> [[psysml:fd353ea3-6373-455a-afbc-b284741b5a43 ]] {\r\n",
       "}\r\n",
       "}\r\n",
       "package \"P2\" as E4  [[psysml:4523bb13-7dc6-4a64-a848-9d456c6fa329 ]]  {\r\n",
       "package \"P2a\" as E5  [[psysml:afe2db1e-b444-45d6-9b6b-b3994e64af2e ]]  {\r\n",
       "}\r\n",
       "rec usage \"x: A\" as E6  [[psysml:7f169e5b-4536-4f95-b3fb-a54a4bad9234 ]] {\r\n",
       "}\r\n",
       "}\r\n",
       "}\r\n",
       "@enduml\r\n",
       "\n",
       "PlantUML version 1.2020.13(Sat Jun 13 12:26:38 UTC 2020)\n",
       "(EPL source distribution)\n",
       "Java Runtime: OpenJDK Runtime Environment\n",
       "JVM: OpenJDK 64-Bit Server VM\n",
       "Default Encoding: UTF-8\n",
       "Language: en\n",
       "Country: null\n",
       "--></g></svg>"
      ]
     },
     "execution_count": 19,
     "metadata": {},
     "output_type": "execute_result"
    }
   ],
   "source": [
    "%viz --style=\"LR\" --view=\"Interconnection\" \"QualifiedNameImportTest\""
   ]
  },
  {
   "cell_type": "code",
   "execution_count": 20,
   "id": "unavailable-panic",
   "metadata": {
    "execution": {
     "iopub.execute_input": "2021-03-25T09:35:25.728717Z",
     "iopub.status.busy": "2021-03-25T09:35:25.728286Z",
     "iopub.status.idle": "2021-03-25T09:35:25.735446Z",
     "shell.execute_reply": "2021-03-25T09:35:25.735847Z"
    }
   },
   "outputs": [
    {
     "data": {
      "image/svg+xml": [
       "<?xml version=\"1.0\" encoding=\"UTF-8\" standalone=\"no\"?><svg xmlns=\"http://www.w3.org/2000/svg\" xmlns:xlink=\"http://www.w3.org/1999/xlink\" contentScriptType=\"application/ecmascript\" contentStyleType=\"text/css\" height=\"12px\" preserveAspectRatio=\"none\" style=\"width:12px;height:12px;\" version=\"1.1\" viewBox=\"0 0 12 12\" width=\"12px\" zoomAndPan=\"magnify\"><defs/><g><!--MD5=[7aeb398939421629f6affaa4a1a7b125]\n",
       "@startuml\r\n",
       "skinparam ranksep 8\r\n",
       "left to right direction\r\n",
       "skinparam monochrome true\r\n",
       "skinparam classbackgroundcolor white\r\n",
       "skinparam shadowing false\r\n",
       "skinparam wrapWidth 300\r\n",
       "hide circle\r\n",
       "\r\n",
       "@enduml\r\n",
       "\n",
       "PlantUML version 1.2020.13(Sat Jun 13 12:26:38 UTC 2020)\n",
       "(EPL source distribution)\n",
       "Java Runtime: OpenJDK Runtime Environment\n",
       "JVM: OpenJDK 64-Bit Server VM\n",
       "Default Encoding: UTF-8\n",
       "Language: en\n",
       "Country: null\n",
       "--></g></svg>"
      ]
     },
     "execution_count": 20,
     "metadata": {},
     "output_type": "execute_result"
    }
   ],
   "source": [
    "%viz --style=\"LR\" --view=\"Action\" \"QualifiedNameImportTest\""
   ]
  },
  {
   "cell_type": "code",
   "execution_count": 21,
   "id": "demanding-farming",
   "metadata": {
    "execution": {
     "iopub.execute_input": "2021-03-25T09:35:25.786800Z",
     "iopub.status.busy": "2021-03-25T09:35:25.786328Z",
     "iopub.status.idle": "2021-03-25T09:35:25.852888Z",
     "shell.execute_reply": "2021-03-25T09:35:25.851899Z"
    }
   },
   "outputs": [
    {
     "data": {
      "image/svg+xml": [
       "<?xml version=\"1.0\" encoding=\"UTF-8\" standalone=\"no\"?><svg xmlns=\"http://www.w3.org/2000/svg\" xmlns:xlink=\"http://www.w3.org/1999/xlink\" contentScriptType=\"application/ecmascript\" contentStyleType=\"text/css\" height=\"271px\" preserveAspectRatio=\"none\" style=\"width:293px;height:271px;\" version=\"1.1\" viewBox=\"0 0 293 271\" width=\"293px\" zoomAndPan=\"magnify\"><defs/><g><!--MD5=[fbc87193dbaf4d95561dea2c320d4a47]\n",
       "cluster E1--><a href=\"psysml:d16b9356-f04a-4ff8-b2ae-3864bc76abf1\" target=\"_top\" title=\"psysml:d16b9356-f04a-4ff8-b2ae-3864bc76abf1\" xlink:actuate=\"onRequest\" xlink:href=\"psysml:d16b9356-f04a-4ff8-b2ae-3864bc76abf1\" xlink:show=\"new\" xlink:title=\"psysml:d16b9356-f04a-4ff8-b2ae-3864bc76abf1\" xlink:type=\"simple\"><polygon fill=\"#FFFFFF\" points=\"16,6,221,6,228,28.2969,271,28.2969,271,259,16,259,16,6\" style=\"stroke: #000000; stroke-width: 1.5;\"/><line style=\"stroke: #000000; stroke-width: 1.5;\" x1=\"16\" x2=\"228\" y1=\"28.2969\" y2=\"28.2969\"/><text fill=\"#000000\" font-family=\"sans-serif\" font-size=\"14\" font-weight=\"bold\" lengthAdjust=\"spacingAndGlyphs\" textLength=\"199\" x=\"20\" y=\"20.9951\">QualifiedNameImportTest</text></a><!--MD5=[e4f7fae6ed58524ba242bb0b0d3be6b7]\n",
       "cluster E2--><a href=\"psysml:88b3eb59-bf67-426d-b22b-2d4deb7f4fe0\" target=\"_top\" title=\"psysml:88b3eb59-bf67-426d-b22b-2d4deb7f4fe0\" xlink:actuate=\"onRequest\" xlink:href=\"psysml:88b3eb59-bf67-426d-b22b-2d4deb7f4fe0\" xlink:show=\"new\" xlink:title=\"psysml:88b3eb59-bf67-426d-b22b-2d4deb7f4fe0\" xlink:type=\"simple\"><polygon fill=\"#FFFFFF\" points=\"149,49,175,49,182,71.2969,247,71.2969,247,146,149,146,149,49\" style=\"stroke: #000000; stroke-width: 1.5;\"/><line style=\"stroke: #000000; stroke-width: 1.5;\" x1=\"149\" x2=\"182\" y1=\"71.2969\" y2=\"71.2969\"/><text fill=\"#000000\" font-family=\"sans-serif\" font-size=\"14\" font-weight=\"bold\" lengthAdjust=\"spacingAndGlyphs\" textLength=\"20\" x=\"153\" y=\"63.9951\">P1</text></a><!--MD5=[f6df4d0ebaf0b5dfb2ced0ae5af7c670]\n",
       "cluster E4--><a href=\"psysml:4523bb13-7dc6-4a64-a848-9d456c6fa329\" target=\"_top\" title=\"psysml:4523bb13-7dc6-4a64-a848-9d456c6fa329\" xlink:actuate=\"onRequest\" xlink:href=\"psysml:4523bb13-7dc6-4a64-a848-9d456c6fa329\" xlink:show=\"new\" xlink:title=\"psysml:4523bb13-7dc6-4a64-a848-9d456c6fa329\" xlink:type=\"simple\"><polygon fill=\"#FFFFFF\" points=\"40,49,66,49,73,71.2969,121,71.2969,121,235,40,235,40,49\" style=\"stroke: #000000; stroke-width: 1.5;\"/><line style=\"stroke: #000000; stroke-width: 1.5;\" x1=\"40\" x2=\"73\" y1=\"71.2969\" y2=\"71.2969\"/><text fill=\"#000000\" font-family=\"sans-serif\" font-size=\"14\" font-weight=\"bold\" lengthAdjust=\"spacingAndGlyphs\" textLength=\"20\" x=\"44\" y=\"63.9951\">P2</text></a><!--MD5=[09b614a08d8cba4a07c9adeb5e0fee81]\n",
       "class E3--><a href=\"psysml:fd353ea3-6373-455a-afbc-b284741b5a43\" target=\"_top\" title=\"psysml:fd353ea3-6373-455a-afbc-b284741b5a43\" xlink:actuate=\"onRequest\" xlink:href=\"psysml:fd353ea3-6373-455a-afbc-b284741b5a43\" xlink:show=\"new\" xlink:title=\"psysml:fd353ea3-6373-455a-afbc-b284741b5a43\" xlink:type=\"simple\"><rect fill=\"#FFFFFF\" height=\"45.9375\" id=\"E3\" style=\"stroke: #383838; stroke-width: 1.5;\" width=\"66\" x=\"165\" y=\"84\"/><text fill=\"#000000\" font-family=\"sans-serif\" font-size=\"12\" font-style=\"italic\" lengthAdjust=\"spacingAndGlyphs\" textLength=\"64\" x=\"166\" y=\"100.1387\">«part def»</text><text fill=\"#000000\" font-family=\"sans-serif\" font-size=\"12\" lengthAdjust=\"spacingAndGlyphs\" textLength=\"8\" x=\"194\" y=\"114.1074\">A</text><line style=\"stroke: #383838; stroke-width: 1.5;\" x1=\"166\" x2=\"230\" y1=\"121.9375\" y2=\"121.9375\"/></a><!--MD5=[60a26617385b1d2d0262a64233df1f8d]\n",
       "class E6--><a href=\"psysml:7f169e5b-4536-4f95-b3fb-a54a4bad9234\" target=\"_top\" title=\"psysml:7f169e5b-4536-4f95-b3fb-a54a4bad9234\" xlink:actuate=\"onRequest\" xlink:href=\"psysml:7f169e5b-4536-4f95-b3fb-a54a4bad9234\" xlink:show=\"new\" xlink:title=\"psysml:7f169e5b-4536-4f95-b3fb-a54a4bad9234\" xlink:type=\"simple\"><rect fill=\"#FFFFFF\" height=\"45.9375\" id=\"E6\" rx=\"10\" ry=\"10\" style=\"stroke: #383838; stroke-width: 1.5;\" width=\"42\" x=\"59.5\" y=\"84\"/><text fill=\"#000000\" font-family=\"sans-serif\" font-size=\"12\" font-style=\"italic\" lengthAdjust=\"spacingAndGlyphs\" textLength=\"40\" x=\"60.5\" y=\"100.1387\">«part»</text><text fill=\"#000000\" font-family=\"sans-serif\" font-size=\"12\" lengthAdjust=\"spacingAndGlyphs\" textLength=\"22\" x=\"69.5\" y=\"114.1074\">x: A</text><line style=\"stroke: #383838; stroke-width: 1.5;\" x1=\"60.5\" x2=\"100.5\" y1=\"121.9375\" y2=\"121.9375\"/></a><a href=\"psysml:afe2db1e-b444-45d6-9b6b-b3994e64af2e\" target=\"_top\" title=\"psysml:afe2db1e-b444-45d6-9b6b-b3994e64af2e\" xlink:actuate=\"onRequest\" xlink:href=\"psysml:afe2db1e-b444-45d6-9b6b-b3994e64af2e\" xlink:show=\"new\" xlink:title=\"psysml:afe2db1e-b444-45d6-9b6b-b3994e64af2e\" xlink:type=\"simple\"><polygon fill=\"#FFFFFF\" points=\"56,165.5,91,165.5,98,187.7969,105,187.7969,105,218.0938,56,218.0938,56,165.5\" style=\"stroke: #000000; stroke-width: 1.5;\"/><line style=\"stroke: #000000; stroke-width: 1.5;\" x1=\"56\" x2=\"98\" y1=\"187.7969\" y2=\"187.7969\"/><text fill=\"#000000\" font-family=\"sans-serif\" font-size=\"14\" font-weight=\"bold\" lengthAdjust=\"spacingAndGlyphs\" textLength=\"29\" x=\"60\" y=\"180.4951\">P2a</text></a><!--MD5=[a717450b82c80b9240a525fa862496af]\n",
       "link E6 to E3--><a href=\"psysml:4395c2c1-a48a-41da-9561-d3e6647c3ecb\" target=\"_top\" title=\"psysml:4395c2c1-a48a-41da-9561-d3e6647c3ecb\" xlink:actuate=\"onRequest\" xlink:href=\"psysml:4395c2c1-a48a-41da-9561-d3e6647c3ecb\" xlink:show=\"new\" xlink:title=\"psysml:4395c2c1-a48a-41da-9561-d3e6647c3ecb\" xlink:type=\"simple\"><path d=\"M101.62,107 C113.62,107 129.45,107 144.76,107 \" fill=\"none\" id=\"E6-&gt;E3\" style=\"stroke: #383838; stroke-width: 1.0;\"/><polygon fill=\"#FFFFFF\" points=\"164.91,107,145.91,114,145.91,100,164.91,107\" style=\"stroke: #383838; stroke-width: 1.0;\"/><ellipse cx=\"140.21\" cy=\"112\" fill=\"#383838\" rx=\"2\" ry=\"2\" style=\"stroke: #383838; stroke-width: 1.0;\"/><ellipse cx=\"140.21\" cy=\"102\" fill=\"#383838\" rx=\"2\" ry=\"2\" style=\"stroke: #383838; stroke-width: 1.0;\"/></a><!--MD5=[15a952b10220cc2fa5bab9ada2cb987a]\n",
       "@startuml\r\n",
       "left to right direction\r\n",
       "skinparam monochrome true\r\n",
       "skinparam classbackgroundcolor white\r\n",
       "skinparam shadowing false\r\n",
       "skinparam wrapWidth 300\r\n",
       "hide circle\r\n",
       "\r\n",
       "package \"QualifiedNameImportTest\" as E1  [[psysml:d16b9356-f04a-4ff8-b2ae-3864bc76abf1 ]]  {\r\n",
       "package \"P1\" as E2  [[psysml:88b3eb59-bf67-426d-b22b-2d4deb7f4fe0 ]]  {\r\n",
       "comp def \"A\" as E3  <<(T,blue)part def>> [[psysml:fd353ea3-6373-455a-afbc-b284741b5a43 ]] {\r\n",
       "}\r\n",
       "}\r\n",
       "package \"P2\" as E4  [[psysml:4523bb13-7dc6-4a64-a848-9d456c6fa329 ]]  {\r\n",
       "package \"P2a\" as E5  [[psysml:afe2db1e-b444-45d6-9b6b-b3994e64af2e ]]  {\r\n",
       "}\r\n",
       "comp usage \"x: A\" as E6  <<(T,blue)part>> [[psysml:7f169e5b-4536-4f95-b3fb-a54a4bad9234 ]] {\r\n",
       "}\r\n",
       "E6 - -:|> E3 [[psysml:4395c2c1-a48a-41da-9561-d3e6647c3ecb ]] \r\n",
       "}\r\n",
       "}\r\n",
       "@enduml\r\n",
       "\n",
       "PlantUML version 1.2020.13(Sat Jun 13 12:26:38 UTC 2020)\n",
       "(EPL source distribution)\n",
       "Java Runtime: OpenJDK Runtime Environment\n",
       "JVM: OpenJDK 64-Bit Server VM\n",
       "Default Encoding: UTF-8\n",
       "Language: en\n",
       "Country: null\n",
       "--></g></svg>"
      ]
     },
     "execution_count": 21,
     "metadata": {},
     "output_type": "execute_result"
    }
   ],
   "source": [
    "%viz --style=\"LR\" --view=\"Sequence\" \"QualifiedNameImportTest\""
   ]
  },
  {
   "cell_type": "code",
   "execution_count": 22,
   "id": "flush-wayne",
   "metadata": {
    "execution": {
     "iopub.execute_input": "2021-03-25T09:35:25.906185Z",
     "iopub.status.busy": "2021-03-25T09:35:25.905604Z",
     "iopub.status.idle": "2021-03-25T09:35:25.971386Z",
     "shell.execute_reply": "2021-03-25T09:35:25.969944Z"
    }
   },
   "outputs": [
    {
     "data": {
      "image/svg+xml": [
       "<?xml version=\"1.0\" encoding=\"UTF-8\" standalone=\"no\"?><svg xmlns=\"http://www.w3.org/2000/svg\" xmlns:xlink=\"http://www.w3.org/1999/xlink\" contentScriptType=\"application/ecmascript\" contentStyleType=\"text/css\" height=\"271px\" preserveAspectRatio=\"none\" style=\"width:293px;height:271px;\" version=\"1.1\" viewBox=\"0 0 293 271\" width=\"293px\" zoomAndPan=\"magnify\"><defs/><g><!--MD5=[fbc87193dbaf4d95561dea2c320d4a47]\n",
       "cluster E1--><a href=\"psysml:d16b9356-f04a-4ff8-b2ae-3864bc76abf1\" target=\"_top\" title=\"psysml:d16b9356-f04a-4ff8-b2ae-3864bc76abf1\" xlink:actuate=\"onRequest\" xlink:href=\"psysml:d16b9356-f04a-4ff8-b2ae-3864bc76abf1\" xlink:show=\"new\" xlink:title=\"psysml:d16b9356-f04a-4ff8-b2ae-3864bc76abf1\" xlink:type=\"simple\"><polygon fill=\"#FFFFFF\" points=\"16,6,221,6,228,28.2969,271,28.2969,271,259,16,259,16,6\" style=\"stroke: #000000; stroke-width: 1.5;\"/><line style=\"stroke: #000000; stroke-width: 1.5;\" x1=\"16\" x2=\"228\" y1=\"28.2969\" y2=\"28.2969\"/><text fill=\"#000000\" font-family=\"sans-serif\" font-size=\"14\" font-weight=\"bold\" lengthAdjust=\"spacingAndGlyphs\" textLength=\"199\" x=\"20\" y=\"20.9951\">QualifiedNameImportTest</text></a><!--MD5=[e4f7fae6ed58524ba242bb0b0d3be6b7]\n",
       "cluster E2--><a href=\"psysml:88b3eb59-bf67-426d-b22b-2d4deb7f4fe0\" target=\"_top\" title=\"psysml:88b3eb59-bf67-426d-b22b-2d4deb7f4fe0\" xlink:actuate=\"onRequest\" xlink:href=\"psysml:88b3eb59-bf67-426d-b22b-2d4deb7f4fe0\" xlink:show=\"new\" xlink:title=\"psysml:88b3eb59-bf67-426d-b22b-2d4deb7f4fe0\" xlink:type=\"simple\"><polygon fill=\"#FFFFFF\" points=\"149,49,175,49,182,71.2969,247,71.2969,247,146,149,146,149,49\" style=\"stroke: #000000; stroke-width: 1.5;\"/><line style=\"stroke: #000000; stroke-width: 1.5;\" x1=\"149\" x2=\"182\" y1=\"71.2969\" y2=\"71.2969\"/><text fill=\"#000000\" font-family=\"sans-serif\" font-size=\"14\" font-weight=\"bold\" lengthAdjust=\"spacingAndGlyphs\" textLength=\"20\" x=\"153\" y=\"63.9951\">P1</text></a><!--MD5=[f6df4d0ebaf0b5dfb2ced0ae5af7c670]\n",
       "cluster E4--><a href=\"psysml:4523bb13-7dc6-4a64-a848-9d456c6fa329\" target=\"_top\" title=\"psysml:4523bb13-7dc6-4a64-a848-9d456c6fa329\" xlink:actuate=\"onRequest\" xlink:href=\"psysml:4523bb13-7dc6-4a64-a848-9d456c6fa329\" xlink:show=\"new\" xlink:title=\"psysml:4523bb13-7dc6-4a64-a848-9d456c6fa329\" xlink:type=\"simple\"><polygon fill=\"#FFFFFF\" points=\"40,49,66,49,73,71.2969,121,71.2969,121,235,40,235,40,49\" style=\"stroke: #000000; stroke-width: 1.5;\"/><line style=\"stroke: #000000; stroke-width: 1.5;\" x1=\"40\" x2=\"73\" y1=\"71.2969\" y2=\"71.2969\"/><text fill=\"#000000\" font-family=\"sans-serif\" font-size=\"14\" font-weight=\"bold\" lengthAdjust=\"spacingAndGlyphs\" textLength=\"20\" x=\"44\" y=\"63.9951\">P2</text></a><!--MD5=[09b614a08d8cba4a07c9adeb5e0fee81]\n",
       "class E3--><a href=\"psysml:fd353ea3-6373-455a-afbc-b284741b5a43\" target=\"_top\" title=\"psysml:fd353ea3-6373-455a-afbc-b284741b5a43\" xlink:actuate=\"onRequest\" xlink:href=\"psysml:fd353ea3-6373-455a-afbc-b284741b5a43\" xlink:show=\"new\" xlink:title=\"psysml:fd353ea3-6373-455a-afbc-b284741b5a43\" xlink:type=\"simple\"><rect fill=\"#FFFFFF\" height=\"45.9375\" id=\"E3\" style=\"stroke: #383838; stroke-width: 1.5;\" width=\"66\" x=\"165\" y=\"84\"/><text fill=\"#000000\" font-family=\"sans-serif\" font-size=\"12\" font-style=\"italic\" lengthAdjust=\"spacingAndGlyphs\" textLength=\"64\" x=\"166\" y=\"100.1387\">«part def»</text><text fill=\"#000000\" font-family=\"sans-serif\" font-size=\"12\" lengthAdjust=\"spacingAndGlyphs\" textLength=\"8\" x=\"194\" y=\"114.1074\">A</text><line style=\"stroke: #383838; stroke-width: 1.5;\" x1=\"166\" x2=\"230\" y1=\"121.9375\" y2=\"121.9375\"/></a><!--MD5=[60a26617385b1d2d0262a64233df1f8d]\n",
       "class E6--><a href=\"psysml:7f169e5b-4536-4f95-b3fb-a54a4bad9234\" target=\"_top\" title=\"psysml:7f169e5b-4536-4f95-b3fb-a54a4bad9234\" xlink:actuate=\"onRequest\" xlink:href=\"psysml:7f169e5b-4536-4f95-b3fb-a54a4bad9234\" xlink:show=\"new\" xlink:title=\"psysml:7f169e5b-4536-4f95-b3fb-a54a4bad9234\" xlink:type=\"simple\"><rect fill=\"#FFFFFF\" height=\"45.9375\" id=\"E6\" rx=\"10\" ry=\"10\" style=\"stroke: #383838; stroke-width: 1.5;\" width=\"42\" x=\"59.5\" y=\"84\"/><text fill=\"#000000\" font-family=\"sans-serif\" font-size=\"12\" font-style=\"italic\" lengthAdjust=\"spacingAndGlyphs\" textLength=\"40\" x=\"60.5\" y=\"100.1387\">«part»</text><text fill=\"#000000\" font-family=\"sans-serif\" font-size=\"12\" lengthAdjust=\"spacingAndGlyphs\" textLength=\"22\" x=\"69.5\" y=\"114.1074\">x: A</text><line style=\"stroke: #383838; stroke-width: 1.5;\" x1=\"60.5\" x2=\"100.5\" y1=\"121.9375\" y2=\"121.9375\"/></a><a href=\"psysml:afe2db1e-b444-45d6-9b6b-b3994e64af2e\" target=\"_top\" title=\"psysml:afe2db1e-b444-45d6-9b6b-b3994e64af2e\" xlink:actuate=\"onRequest\" xlink:href=\"psysml:afe2db1e-b444-45d6-9b6b-b3994e64af2e\" xlink:show=\"new\" xlink:title=\"psysml:afe2db1e-b444-45d6-9b6b-b3994e64af2e\" xlink:type=\"simple\"><polygon fill=\"#FFFFFF\" points=\"56,165.5,91,165.5,98,187.7969,105,187.7969,105,218.0938,56,218.0938,56,165.5\" style=\"stroke: #000000; stroke-width: 1.5;\"/><line style=\"stroke: #000000; stroke-width: 1.5;\" x1=\"56\" x2=\"98\" y1=\"187.7969\" y2=\"187.7969\"/><text fill=\"#000000\" font-family=\"sans-serif\" font-size=\"14\" font-weight=\"bold\" lengthAdjust=\"spacingAndGlyphs\" textLength=\"29\" x=\"60\" y=\"180.4951\">P2a</text></a><!--MD5=[a717450b82c80b9240a525fa862496af]\n",
       "link E6 to E3--><a href=\"psysml:4395c2c1-a48a-41da-9561-d3e6647c3ecb\" target=\"_top\" title=\"psysml:4395c2c1-a48a-41da-9561-d3e6647c3ecb\" xlink:actuate=\"onRequest\" xlink:href=\"psysml:4395c2c1-a48a-41da-9561-d3e6647c3ecb\" xlink:show=\"new\" xlink:title=\"psysml:4395c2c1-a48a-41da-9561-d3e6647c3ecb\" xlink:type=\"simple\"><path d=\"M101.62,107 C113.62,107 129.45,107 144.76,107 \" fill=\"none\" id=\"E6-&gt;E3\" style=\"stroke: #383838; stroke-width: 1.0;\"/><polygon fill=\"#FFFFFF\" points=\"164.91,107,145.91,114,145.91,100,164.91,107\" style=\"stroke: #383838; stroke-width: 1.0;\"/><ellipse cx=\"140.21\" cy=\"112\" fill=\"#383838\" rx=\"2\" ry=\"2\" style=\"stroke: #383838; stroke-width: 1.0;\"/><ellipse cx=\"140.21\" cy=\"102\" fill=\"#383838\" rx=\"2\" ry=\"2\" style=\"stroke: #383838; stroke-width: 1.0;\"/></a><!--MD5=[15a952b10220cc2fa5bab9ada2cb987a]\n",
       "@startuml\r\n",
       "left to right direction\r\n",
       "skinparam monochrome true\r\n",
       "skinparam classbackgroundcolor white\r\n",
       "skinparam shadowing false\r\n",
       "skinparam wrapWidth 300\r\n",
       "hide circle\r\n",
       "\r\n",
       "package \"QualifiedNameImportTest\" as E1  [[psysml:d16b9356-f04a-4ff8-b2ae-3864bc76abf1 ]]  {\r\n",
       "package \"P1\" as E2  [[psysml:88b3eb59-bf67-426d-b22b-2d4deb7f4fe0 ]]  {\r\n",
       "comp def \"A\" as E3  <<(T,blue)part def>> [[psysml:fd353ea3-6373-455a-afbc-b284741b5a43 ]] {\r\n",
       "}\r\n",
       "}\r\n",
       "package \"P2\" as E4  [[psysml:4523bb13-7dc6-4a64-a848-9d456c6fa329 ]]  {\r\n",
       "package \"P2a\" as E5  [[psysml:afe2db1e-b444-45d6-9b6b-b3994e64af2e ]]  {\r\n",
       "}\r\n",
       "comp usage \"x: A\" as E6  <<(T,blue)part>> [[psysml:7f169e5b-4536-4f95-b3fb-a54a4bad9234 ]] {\r\n",
       "}\r\n",
       "E6 - -:|> E3 [[psysml:4395c2c1-a48a-41da-9561-d3e6647c3ecb ]] \r\n",
       "}\r\n",
       "}\r\n",
       "@enduml\r\n",
       "\n",
       "PlantUML version 1.2020.13(Sat Jun 13 12:26:38 UTC 2020)\n",
       "(EPL source distribution)\n",
       "Java Runtime: OpenJDK Runtime Environment\n",
       "JVM: OpenJDK 64-Bit Server VM\n",
       "Default Encoding: UTF-8\n",
       "Language: en\n",
       "Country: null\n",
       "--></g></svg>"
      ]
     },
     "execution_count": 22,
     "metadata": {},
     "output_type": "execute_result"
    }
   ],
   "source": [
    "%viz --style=\"LR\" --view=\"MIXED\" \"QualifiedNameImportTest\""
   ]
  },
  {
   "cell_type": "code",
   "execution_count": 23,
   "id": "defensive-rescue",
   "metadata": {
    "execution": {
     "iopub.execute_input": "2021-03-25T09:35:26.029674Z",
     "iopub.status.busy": "2021-03-25T09:35:26.028552Z",
     "iopub.status.idle": "2021-03-25T09:35:26.089393Z",
     "shell.execute_reply": "2021-03-25T09:35:26.088405Z"
    }
   },
   "outputs": [
    {
     "data": {
      "image/svg+xml": [
       "<?xml version=\"1.0\" encoding=\"UTF-8\" standalone=\"no\"?><svg xmlns=\"http://www.w3.org/2000/svg\" xmlns:xlink=\"http://www.w3.org/1999/xlink\" contentScriptType=\"application/ecmascript\" contentStyleType=\"text/css\" height=\"310px\" preserveAspectRatio=\"none\" style=\"width:253px;height:310px;\" version=\"1.1\" viewBox=\"0 0 253 310\" width=\"253px\" zoomAndPan=\"magnify\"><defs><filter height=\"300%\" id=\"f12it43i7z36kv\" width=\"300%\" x=\"-1\" y=\"-1\"><feGaussianBlur result=\"blurOut\" stdDeviation=\"2.0\"/><feColorMatrix in=\"blurOut\" result=\"blurOut2\" type=\"matrix\" values=\"0 0 0 0 0 0 0 0 0 0 0 0 0 0 0 0 0 0 .4 0\"/><feOffset dx=\"4.0\" dy=\"4.0\" in=\"blurOut2\" result=\"blurOut3\"/><feBlend in=\"SourceGraphic\" in2=\"blurOut3\" mode=\"normal\"/></filter></defs><g><!--MD5=[fbc87193dbaf4d95561dea2c320d4a47]\n",
       "cluster E1--><a href=\"psysml:d16b9356-f04a-4ff8-b2ae-3864bc76abf1\" target=\"_top\" title=\"psysml:d16b9356-f04a-4ff8-b2ae-3864bc76abf1\" xlink:actuate=\"onRequest\" xlink:href=\"psysml:d16b9356-f04a-4ff8-b2ae-3864bc76abf1\" xlink:show=\"new\" xlink:title=\"psysml:d16b9356-f04a-4ff8-b2ae-3864bc76abf1\" xlink:type=\"simple\"><polygon fill=\"#FFFFFF\" filter=\"url(#f12it43i7z36kv)\" points=\"16,6,221,6,228,28.2969,231,28.2969,231,298,16,298,16,6\" style=\"stroke: #000000; stroke-width: 1.5;\"/><line style=\"stroke: #000000; stroke-width: 1.5;\" x1=\"16\" x2=\"228\" y1=\"28.2969\" y2=\"28.2969\"/><text fill=\"#000000\" font-family=\"sans-serif\" font-size=\"14\" font-weight=\"bold\" lengthAdjust=\"spacingAndGlyphs\" textLength=\"199\" x=\"20\" y=\"20.9951\">QualifiedNameImportTest</text></a><!--MD5=[e4f7fae6ed58524ba242bb0b0d3be6b7]\n",
       "cluster E2--><a href=\"psysml:88b3eb59-bf67-426d-b22b-2d4deb7f4fe0\" target=\"_top\" title=\"psysml:88b3eb59-bf67-426d-b22b-2d4deb7f4fe0\" xlink:actuate=\"onRequest\" xlink:href=\"psysml:88b3eb59-bf67-426d-b22b-2d4deb7f4fe0\" xlink:show=\"new\" xlink:title=\"psysml:88b3eb59-bf67-426d-b22b-2d4deb7f4fe0\" xlink:type=\"simple\"><polygon fill=\"#FFFFFF\" filter=\"url(#f12it43i7z36kv)\" points=\"105,177,131,177,138,199.2969,203,199.2969,203,274,105,274,105,177\" style=\"stroke: #000000; stroke-width: 1.5;\"/><line style=\"stroke: #000000; stroke-width: 1.5;\" x1=\"105\" x2=\"138\" y1=\"199.2969\" y2=\"199.2969\"/><text fill=\"#000000\" font-family=\"sans-serif\" font-size=\"14\" font-weight=\"bold\" lengthAdjust=\"spacingAndGlyphs\" textLength=\"20\" x=\"109\" y=\"191.9951\">P1</text></a><!--MD5=[f6df4d0ebaf0b5dfb2ced0ae5af7c670]\n",
       "cluster E4--><a href=\"psysml:4523bb13-7dc6-4a64-a848-9d456c6fa329\" target=\"_top\" title=\"psysml:4523bb13-7dc6-4a64-a848-9d456c6fa329\" xlink:actuate=\"onRequest\" xlink:href=\"psysml:4523bb13-7dc6-4a64-a848-9d456c6fa329\" xlink:show=\"new\" xlink:title=\"psysml:4523bb13-7dc6-4a64-a848-9d456c6fa329\" xlink:type=\"simple\"><polygon fill=\"#FFFFFF\" filter=\"url(#f12it43i7z36kv)\" points=\"44,49,70,49,77,71.2969,203,71.2969,203,153,44,153,44,49\" style=\"stroke: #000000; stroke-width: 1.5;\"/><line style=\"stroke: #000000; stroke-width: 1.5;\" x1=\"44\" x2=\"77\" y1=\"71.2969\" y2=\"71.2969\"/><text fill=\"#000000\" font-family=\"sans-serif\" font-size=\"14\" font-weight=\"bold\" lengthAdjust=\"spacingAndGlyphs\" textLength=\"20\" x=\"48\" y=\"63.9951\">P2</text></a><!--MD5=[09b614a08d8cba4a07c9adeb5e0fee81]\n",
       "class E3--><a href=\"psysml:fd353ea3-6373-455a-afbc-b284741b5a43\" target=\"_top\" title=\"psysml:fd353ea3-6373-455a-afbc-b284741b5a43\" xlink:actuate=\"onRequest\" xlink:href=\"psysml:fd353ea3-6373-455a-afbc-b284741b5a43\" xlink:show=\"new\" xlink:title=\"psysml:fd353ea3-6373-455a-afbc-b284741b5a43\" xlink:type=\"simple\"><rect fill=\"#FEFECE\" filter=\"url(#f12it43i7z36kv)\" height=\"45.9375\" id=\"E3\" style=\"stroke: #A80036; stroke-width: 1.5;\" width=\"66\" x=\"121\" y=\"212\"/><text fill=\"#000000\" font-family=\"sans-serif\" font-size=\"12\" font-style=\"italic\" lengthAdjust=\"spacingAndGlyphs\" textLength=\"64\" x=\"122\" y=\"228.1387\">«part def»</text><text fill=\"#000000\" font-family=\"sans-serif\" font-size=\"12\" lengthAdjust=\"spacingAndGlyphs\" textLength=\"8\" x=\"150\" y=\"242.1074\">A</text><line style=\"stroke: #A80036; stroke-width: 1.5;\" x1=\"122\" x2=\"186\" y1=\"249.9375\" y2=\"249.9375\"/></a><!--MD5=[60a26617385b1d2d0262a64233df1f8d]\n",
       "class E6--><a href=\"psysml:7f169e5b-4536-4f95-b3fb-a54a4bad9234\" target=\"_top\" title=\"psysml:7f169e5b-4536-4f95-b3fb-a54a4bad9234\" xlink:actuate=\"onRequest\" xlink:href=\"psysml:7f169e5b-4536-4f95-b3fb-a54a4bad9234\" xlink:show=\"new\" xlink:title=\"psysml:7f169e5b-4536-4f95-b3fb-a54a4bad9234\" xlink:type=\"simple\"><rect fill=\"#FEFECE\" filter=\"url(#f12it43i7z36kv)\" height=\"45.9375\" id=\"E6\" rx=\"10\" ry=\"10\" style=\"stroke: #A80036; stroke-width: 1.5;\" width=\"42\" x=\"145\" y=\"87.5\"/><text fill=\"#000000\" font-family=\"sans-serif\" font-size=\"12\" font-style=\"italic\" lengthAdjust=\"spacingAndGlyphs\" textLength=\"40\" x=\"146\" y=\"103.6387\">«part»</text><text fill=\"#000000\" font-family=\"sans-serif\" font-size=\"12\" lengthAdjust=\"spacingAndGlyphs\" textLength=\"22\" x=\"155\" y=\"117.6074\">x: A</text><line style=\"stroke: #A80036; stroke-width: 1.5;\" x1=\"146\" x2=\"186\" y1=\"125.4375\" y2=\"125.4375\"/></a><a href=\"psysml:afe2db1e-b444-45d6-9b6b-b3994e64af2e\" target=\"_top\" title=\"psysml:afe2db1e-b444-45d6-9b6b-b3994e64af2e\" xlink:actuate=\"onRequest\" xlink:href=\"psysml:afe2db1e-b444-45d6-9b6b-b3994e64af2e\" xlink:show=\"new\" xlink:title=\"psysml:afe2db1e-b444-45d6-9b6b-b3994e64af2e\" xlink:type=\"simple\"><polygon fill=\"#FFFFFF\" filter=\"url(#f12it43i7z36kv)\" points=\"60.5,84,95.5,84,102.5,106.2969,109.5,106.2969,109.5,136.5938,60.5,136.5938,60.5,84\" style=\"stroke: #000000; stroke-width: 1.5;\"/><line style=\"stroke: #000000; stroke-width: 1.5;\" x1=\"60.5\" x2=\"102.5\" y1=\"106.2969\" y2=\"106.2969\"/><text fill=\"#000000\" font-family=\"sans-serif\" font-size=\"14\" font-weight=\"bold\" lengthAdjust=\"spacingAndGlyphs\" textLength=\"29\" x=\"64.5\" y=\"98.9951\">P2a</text></a><!--MD5=[a717450b82c80b9240a525fa862496af]\n",
       "link E6 to E3--><a href=\"psysml:4395c2c1-a48a-41da-9561-d3e6647c3ecb\" target=\"_top\" title=\"psysml:4395c2c1-a48a-41da-9561-d3e6647c3ecb\" xlink:actuate=\"onRequest\" xlink:href=\"psysml:4395c2c1-a48a-41da-9561-d3e6647c3ecb\" xlink:show=\"new\" xlink:title=\"psysml:4395c2c1-a48a-41da-9561-d3e6647c3ecb\" xlink:type=\"simple\"><path d=\"M163.83,133.68 C162.24,149.9 160.04,172.39 158.12,191.96 \" fill=\"none\" id=\"E6-&gt;E3\" style=\"stroke: #A80036; stroke-width: 1.0;\"/><polygon fill=\"#FFFFFF\" points=\"156.16,211.98,151.0533,192.3861,164.986,193.7564,156.16,211.98\" style=\"stroke: #A80036; stroke-width: 1.0;\"/><ellipse cx=\"153.6016\" cy=\"186.9092\" fill=\"#A80036\" rx=\"2\" ry=\"2\" style=\"stroke: #A80036; stroke-width: 1.0;\"/><ellipse cx=\"163.5535\" cy=\"187.888\" fill=\"#A80036\" rx=\"2\" ry=\"2\" style=\"stroke: #A80036; stroke-width: 1.0;\"/></a><!--MD5=[6416303c48d1f8f0e279f96cd95c1090]\n",
       "@startuml\r\n",
       "skinparam wrapWidth 300\r\n",
       "hide circle\r\n",
       "\r\n",
       "package \"QualifiedNameImportTest\" as E1  [[psysml:d16b9356-f04a-4ff8-b2ae-3864bc76abf1 ]]  {\r\n",
       "package \"P1\" as E2  [[psysml:88b3eb59-bf67-426d-b22b-2d4deb7f4fe0 ]]  {\r\n",
       "comp def \"A\" as E3  <<(T,blue)part def>> [[psysml:fd353ea3-6373-455a-afbc-b284741b5a43 ]] {\r\n",
       "}\r\n",
       "}\r\n",
       "package \"P2\" as E4  [[psysml:4523bb13-7dc6-4a64-a848-9d456c6fa329 ]]  {\r\n",
       "package \"P2a\" as E5  [[psysml:afe2db1e-b444-45d6-9b6b-b3994e64af2e ]]  {\r\n",
       "}\r\n",
       "comp usage \"x: A\" as E6  <<(T,blue)part>> [[psysml:7f169e5b-4536-4f95-b3fb-a54a4bad9234 ]] {\r\n",
       "}\r\n",
       "E6 - -:|> E3 [[psysml:4395c2c1-a48a-41da-9561-d3e6647c3ecb ]] \r\n",
       "}\r\n",
       "}\r\n",
       "@enduml\r\n",
       "\n",
       "PlantUML version 1.2020.13(Sat Jun 13 12:26:38 UTC 2020)\n",
       "(EPL source distribution)\n",
       "Java Runtime: OpenJDK Runtime Environment\n",
       "JVM: OpenJDK 64-Bit Server VM\n",
       "Default Encoding: UTF-8\n",
       "Language: en\n",
       "Country: null\n",
       "--></g></svg>"
      ]
     },
     "execution_count": 23,
     "metadata": {},
     "output_type": "execute_result"
    }
   ],
   "source": [
    "%viz --style=\"STDCOLOR\" --view=\"Default\" \"QualifiedNameImportTest\""
   ]
  },
  {
   "cell_type": "code",
   "execution_count": 24,
   "id": "alpha-weight",
   "metadata": {
    "execution": {
     "iopub.execute_input": "2021-03-25T09:35:26.143210Z",
     "iopub.status.busy": "2021-03-25T09:35:26.142394Z",
     "iopub.status.idle": "2021-03-25T09:35:26.203287Z",
     "shell.execute_reply": "2021-03-25T09:35:26.201599Z"
    }
   },
   "outputs": [
    {
     "data": {
      "image/svg+xml": [
       "<?xml version=\"1.0\" encoding=\"UTF-8\" standalone=\"no\"?><svg xmlns=\"http://www.w3.org/2000/svg\" xmlns:xlink=\"http://www.w3.org/1999/xlink\" contentScriptType=\"application/ecmascript\" contentStyleType=\"text/css\" height=\"310px\" preserveAspectRatio=\"none\" style=\"width:253px;height:310px;\" version=\"1.1\" viewBox=\"0 0 253 310\" width=\"253px\" zoomAndPan=\"magnify\"><defs><filter height=\"300%\" id=\"f12it43i7z36kv\" width=\"300%\" x=\"-1\" y=\"-1\"><feGaussianBlur result=\"blurOut\" stdDeviation=\"2.0\"/><feColorMatrix in=\"blurOut\" result=\"blurOut2\" type=\"matrix\" values=\"0 0 0 0 0 0 0 0 0 0 0 0 0 0 0 0 0 0 .4 0\"/><feOffset dx=\"4.0\" dy=\"4.0\" in=\"blurOut2\" result=\"blurOut3\"/><feBlend in=\"SourceGraphic\" in2=\"blurOut3\" mode=\"normal\"/></filter></defs><g><!--MD5=[fbc87193dbaf4d95561dea2c320d4a47]\n",
       "cluster E1--><a href=\"psysml:d16b9356-f04a-4ff8-b2ae-3864bc76abf1\" target=\"_top\" title=\"psysml:d16b9356-f04a-4ff8-b2ae-3864bc76abf1\" xlink:actuate=\"onRequest\" xlink:href=\"psysml:d16b9356-f04a-4ff8-b2ae-3864bc76abf1\" xlink:show=\"new\" xlink:title=\"psysml:d16b9356-f04a-4ff8-b2ae-3864bc76abf1\" xlink:type=\"simple\"><polygon fill=\"#FFFFFF\" filter=\"url(#f12it43i7z36kv)\" points=\"16,6,221,6,228,28.2969,231,28.2969,231,298,16,298,16,6\" style=\"stroke: #000000; stroke-width: 1.5;\"/><line style=\"stroke: #000000; stroke-width: 1.5;\" x1=\"16\" x2=\"228\" y1=\"28.2969\" y2=\"28.2969\"/><text fill=\"#000000\" font-family=\"sans-serif\" font-size=\"14\" font-weight=\"bold\" lengthAdjust=\"spacingAndGlyphs\" textLength=\"199\" x=\"20\" y=\"20.9951\">QualifiedNameImportTest</text></a><!--MD5=[e4f7fae6ed58524ba242bb0b0d3be6b7]\n",
       "cluster E2--><a href=\"psysml:88b3eb59-bf67-426d-b22b-2d4deb7f4fe0\" target=\"_top\" title=\"psysml:88b3eb59-bf67-426d-b22b-2d4deb7f4fe0\" xlink:actuate=\"onRequest\" xlink:href=\"psysml:88b3eb59-bf67-426d-b22b-2d4deb7f4fe0\" xlink:show=\"new\" xlink:title=\"psysml:88b3eb59-bf67-426d-b22b-2d4deb7f4fe0\" xlink:type=\"simple\"><polygon fill=\"#FFFFFF\" filter=\"url(#f12it43i7z36kv)\" points=\"105,177,131,177,138,199.2969,203,199.2969,203,274,105,274,105,177\" style=\"stroke: #000000; stroke-width: 1.5;\"/><line style=\"stroke: #000000; stroke-width: 1.5;\" x1=\"105\" x2=\"138\" y1=\"199.2969\" y2=\"199.2969\"/><text fill=\"#000000\" font-family=\"sans-serif\" font-size=\"14\" font-weight=\"bold\" lengthAdjust=\"spacingAndGlyphs\" textLength=\"20\" x=\"109\" y=\"191.9951\">P1</text></a><!--MD5=[f6df4d0ebaf0b5dfb2ced0ae5af7c670]\n",
       "cluster E4--><a href=\"psysml:4523bb13-7dc6-4a64-a848-9d456c6fa329\" target=\"_top\" title=\"psysml:4523bb13-7dc6-4a64-a848-9d456c6fa329\" xlink:actuate=\"onRequest\" xlink:href=\"psysml:4523bb13-7dc6-4a64-a848-9d456c6fa329\" xlink:show=\"new\" xlink:title=\"psysml:4523bb13-7dc6-4a64-a848-9d456c6fa329\" xlink:type=\"simple\"><polygon fill=\"#FFFFFF\" filter=\"url(#f12it43i7z36kv)\" points=\"44,49,70,49,77,71.2969,203,71.2969,203,153,44,153,44,49\" style=\"stroke: #000000; stroke-width: 1.5;\"/><line style=\"stroke: #000000; stroke-width: 1.5;\" x1=\"44\" x2=\"77\" y1=\"71.2969\" y2=\"71.2969\"/><text fill=\"#000000\" font-family=\"sans-serif\" font-size=\"14\" font-weight=\"bold\" lengthAdjust=\"spacingAndGlyphs\" textLength=\"20\" x=\"48\" y=\"63.9951\">P2</text></a><!--MD5=[09b614a08d8cba4a07c9adeb5e0fee81]\n",
       "class E3--><a href=\"psysml:fd353ea3-6373-455a-afbc-b284741b5a43\" target=\"_top\" title=\"psysml:fd353ea3-6373-455a-afbc-b284741b5a43\" xlink:actuate=\"onRequest\" xlink:href=\"psysml:fd353ea3-6373-455a-afbc-b284741b5a43\" xlink:show=\"new\" xlink:title=\"psysml:fd353ea3-6373-455a-afbc-b284741b5a43\" xlink:type=\"simple\"><rect fill=\"#FEFECE\" filter=\"url(#f12it43i7z36kv)\" height=\"45.9375\" id=\"E3\" style=\"stroke: #A80036; stroke-width: 1.5;\" width=\"66\" x=\"121\" y=\"212\"/><text fill=\"#000000\" font-family=\"sans-serif\" font-size=\"12\" font-style=\"italic\" lengthAdjust=\"spacingAndGlyphs\" textLength=\"64\" x=\"122\" y=\"228.1387\">«part def»</text><text fill=\"#000000\" font-family=\"sans-serif\" font-size=\"12\" lengthAdjust=\"spacingAndGlyphs\" textLength=\"8\" x=\"150\" y=\"242.1074\">A</text><line style=\"stroke: #A80036; stroke-width: 1.5;\" x1=\"122\" x2=\"186\" y1=\"249.9375\" y2=\"249.9375\"/></a><!--MD5=[60a26617385b1d2d0262a64233df1f8d]\n",
       "class E6--><a href=\"psysml:7f169e5b-4536-4f95-b3fb-a54a4bad9234\" target=\"_top\" title=\"psysml:7f169e5b-4536-4f95-b3fb-a54a4bad9234\" xlink:actuate=\"onRequest\" xlink:href=\"psysml:7f169e5b-4536-4f95-b3fb-a54a4bad9234\" xlink:show=\"new\" xlink:title=\"psysml:7f169e5b-4536-4f95-b3fb-a54a4bad9234\" xlink:type=\"simple\"><rect fill=\"#FEFECE\" filter=\"url(#f12it43i7z36kv)\" height=\"45.9375\" id=\"E6\" rx=\"10\" ry=\"10\" style=\"stroke: #A80036; stroke-width: 1.5;\" width=\"42\" x=\"145\" y=\"87.5\"/><text fill=\"#000000\" font-family=\"sans-serif\" font-size=\"12\" font-style=\"italic\" lengthAdjust=\"spacingAndGlyphs\" textLength=\"40\" x=\"146\" y=\"103.6387\">«part»</text><text fill=\"#000000\" font-family=\"sans-serif\" font-size=\"12\" lengthAdjust=\"spacingAndGlyphs\" textLength=\"22\" x=\"155\" y=\"117.6074\">x: A</text><line style=\"stroke: #A80036; stroke-width: 1.5;\" x1=\"146\" x2=\"186\" y1=\"125.4375\" y2=\"125.4375\"/></a><a href=\"psysml:afe2db1e-b444-45d6-9b6b-b3994e64af2e\" target=\"_top\" title=\"psysml:afe2db1e-b444-45d6-9b6b-b3994e64af2e\" xlink:actuate=\"onRequest\" xlink:href=\"psysml:afe2db1e-b444-45d6-9b6b-b3994e64af2e\" xlink:show=\"new\" xlink:title=\"psysml:afe2db1e-b444-45d6-9b6b-b3994e64af2e\" xlink:type=\"simple\"><polygon fill=\"#FFFFFF\" filter=\"url(#f12it43i7z36kv)\" points=\"60.5,84,95.5,84,102.5,106.2969,109.5,106.2969,109.5,136.5938,60.5,136.5938,60.5,84\" style=\"stroke: #000000; stroke-width: 1.5;\"/><line style=\"stroke: #000000; stroke-width: 1.5;\" x1=\"60.5\" x2=\"102.5\" y1=\"106.2969\" y2=\"106.2969\"/><text fill=\"#000000\" font-family=\"sans-serif\" font-size=\"14\" font-weight=\"bold\" lengthAdjust=\"spacingAndGlyphs\" textLength=\"29\" x=\"64.5\" y=\"98.9951\">P2a</text></a><!--MD5=[a717450b82c80b9240a525fa862496af]\n",
       "link E6 to E3--><a href=\"psysml:4395c2c1-a48a-41da-9561-d3e6647c3ecb\" target=\"_top\" title=\"psysml:4395c2c1-a48a-41da-9561-d3e6647c3ecb\" xlink:actuate=\"onRequest\" xlink:href=\"psysml:4395c2c1-a48a-41da-9561-d3e6647c3ecb\" xlink:show=\"new\" xlink:title=\"psysml:4395c2c1-a48a-41da-9561-d3e6647c3ecb\" xlink:type=\"simple\"><path d=\"M163.83,133.68 C162.24,149.9 160.04,172.39 158.12,191.96 \" fill=\"none\" id=\"E6-&gt;E3\" style=\"stroke: #A80036; stroke-width: 1.0;\"/><polygon fill=\"#FFFFFF\" points=\"156.16,211.98,151.0533,192.3861,164.986,193.7564,156.16,211.98\" style=\"stroke: #A80036; stroke-width: 1.0;\"/><ellipse cx=\"153.6016\" cy=\"186.9092\" fill=\"#A80036\" rx=\"2\" ry=\"2\" style=\"stroke: #A80036; stroke-width: 1.0;\"/><ellipse cx=\"163.5535\" cy=\"187.888\" fill=\"#A80036\" rx=\"2\" ry=\"2\" style=\"stroke: #A80036; stroke-width: 1.0;\"/></a><!--MD5=[6416303c48d1f8f0e279f96cd95c1090]\n",
       "@startuml\r\n",
       "skinparam wrapWidth 300\r\n",
       "hide circle\r\n",
       "\r\n",
       "package \"QualifiedNameImportTest\" as E1  [[psysml:d16b9356-f04a-4ff8-b2ae-3864bc76abf1 ]]  {\r\n",
       "package \"P1\" as E2  [[psysml:88b3eb59-bf67-426d-b22b-2d4deb7f4fe0 ]]  {\r\n",
       "comp def \"A\" as E3  <<(T,blue)part def>> [[psysml:fd353ea3-6373-455a-afbc-b284741b5a43 ]] {\r\n",
       "}\r\n",
       "}\r\n",
       "package \"P2\" as E4  [[psysml:4523bb13-7dc6-4a64-a848-9d456c6fa329 ]]  {\r\n",
       "package \"P2a\" as E5  [[psysml:afe2db1e-b444-45d6-9b6b-b3994e64af2e ]]  {\r\n",
       "}\r\n",
       "comp usage \"x: A\" as E6  <<(T,blue)part>> [[psysml:7f169e5b-4536-4f95-b3fb-a54a4bad9234 ]] {\r\n",
       "}\r\n",
       "E6 - -:|> E3 [[psysml:4395c2c1-a48a-41da-9561-d3e6647c3ecb ]] \r\n",
       "}\r\n",
       "}\r\n",
       "@enduml\r\n",
       "\n",
       "PlantUML version 1.2020.13(Sat Jun 13 12:26:38 UTC 2020)\n",
       "(EPL source distribution)\n",
       "Java Runtime: OpenJDK Runtime Environment\n",
       "JVM: OpenJDK 64-Bit Server VM\n",
       "Default Encoding: UTF-8\n",
       "Language: en\n",
       "Country: null\n",
       "--></g></svg>"
      ]
     },
     "execution_count": 24,
     "metadata": {},
     "output_type": "execute_result"
    }
   ],
   "source": [
    "%viz --style=\"STDCOLOR\" --view=\"Tree\" \"QualifiedNameImportTest\""
   ]
  },
  {
   "cell_type": "code",
   "execution_count": 25,
   "id": "professional-moldova",
   "metadata": {
    "execution": {
     "iopub.execute_input": "2021-03-25T09:35:26.256280Z",
     "iopub.status.busy": "2021-03-25T09:35:26.255210Z",
     "iopub.status.idle": "2021-03-25T09:35:26.264390Z",
     "shell.execute_reply": "2021-03-25T09:35:26.264043Z"
    }
   },
   "outputs": [
    {
     "data": {
      "image/svg+xml": [
       "<?xml version=\"1.0\" encoding=\"UTF-8\" standalone=\"no\"?><svg xmlns=\"http://www.w3.org/2000/svg\" xmlns:xlink=\"http://www.w3.org/1999/xlink\" contentScriptType=\"application/ecmascript\" contentStyleType=\"text/css\" height=\"12px\" preserveAspectRatio=\"none\" style=\"width:12px;height:12px;\" version=\"1.1\" viewBox=\"0 0 12 12\" width=\"12px\" zoomAndPan=\"magnify\"><defs/><g><!--MD5=[aeeef50f102b80d730deb6443d14f702]\n",
       "@startuml\r\n",
       "skinparam wrapWidth 300\r\n",
       "hide circle\r\n",
       "\r\n",
       "@enduml\r\n",
       "\n",
       "PlantUML version 1.2020.13(Sat Jun 13 12:26:38 UTC 2020)\n",
       "(EPL source distribution)\n",
       "Java Runtime: OpenJDK Runtime Environment\n",
       "JVM: OpenJDK 64-Bit Server VM\n",
       "Default Encoding: UTF-8\n",
       "Language: en\n",
       "Country: null\n",
       "--></g></svg>"
      ]
     },
     "execution_count": 25,
     "metadata": {},
     "output_type": "execute_result"
    }
   ],
   "source": [
    "%viz --style=\"STDCOLOR\" --view=\"State\" \"QualifiedNameImportTest\""
   ]
  },
  {
   "cell_type": "code",
   "execution_count": 26,
   "id": "killing-castle",
   "metadata": {
    "execution": {
     "iopub.execute_input": "2021-03-25T09:35:26.315305Z",
     "iopub.status.busy": "2021-03-25T09:35:26.314708Z",
     "iopub.status.idle": "2021-03-25T09:35:26.368788Z",
     "shell.execute_reply": "2021-03-25T09:35:26.367367Z"
    }
   },
   "outputs": [
    {
     "data": {
      "image/svg+xml": [
       "<?xml version=\"1.0\" encoding=\"UTF-8\" standalone=\"no\"?><svg xmlns=\"http://www.w3.org/2000/svg\" xmlns:xlink=\"http://www.w3.org/1999/xlink\" contentScriptType=\"application/ecmascript\" contentStyleType=\"text/css\" height=\"189px\" preserveAspectRatio=\"none\" style=\"width:381px;height:189px;\" version=\"1.1\" viewBox=\"0 0 381 189\" width=\"381px\" zoomAndPan=\"magnify\"><defs><filter height=\"300%\" id=\"f1nd8920ytpq4x\" width=\"300%\" x=\"-1\" y=\"-1\"><feGaussianBlur result=\"blurOut\" stdDeviation=\"2.0\"/><feColorMatrix in=\"blurOut\" result=\"blurOut2\" type=\"matrix\" values=\"0 0 0 0 0 0 0 0 0 0 0 0 0 0 0 0 0 0 .4 0\"/><feOffset dx=\"4.0\" dy=\"4.0\" in=\"blurOut2\" result=\"blurOut3\"/><feBlend in=\"SourceGraphic\" in2=\"blurOut3\" mode=\"normal\"/></filter></defs><g><!--MD5=[fbc87193dbaf4d95561dea2c320d4a47]\n",
       "cluster E1--><a href=\"psysml:d16b9356-f04a-4ff8-b2ae-3864bc76abf1\" target=\"_top\" title=\"psysml:d16b9356-f04a-4ff8-b2ae-3864bc76abf1\" xlink:actuate=\"onRequest\" xlink:href=\"psysml:d16b9356-f04a-4ff8-b2ae-3864bc76abf1\" xlink:show=\"new\" xlink:title=\"psysml:d16b9356-f04a-4ff8-b2ae-3864bc76abf1\" xlink:type=\"simple\"><polygon fill=\"#FFFFFF\" filter=\"url(#f1nd8920ytpq4x)\" points=\"16,6,221,6,228,28.2969,359,28.2969,359,177,16,177,16,6\" style=\"stroke: #000000; stroke-width: 1.5;\"/><line style=\"stroke: #000000; stroke-width: 1.5;\" x1=\"16\" x2=\"228\" y1=\"28.2969\" y2=\"28.2969\"/><text fill=\"#000000\" font-family=\"sans-serif\" font-size=\"14\" font-weight=\"bold\" lengthAdjust=\"spacingAndGlyphs\" textLength=\"199\" x=\"20\" y=\"20.9951\">QualifiedNameImportTest</text></a><!--MD5=[e4f7fae6ed58524ba242bb0b0d3be6b7]\n",
       "cluster E2--><a href=\"psysml:88b3eb59-bf67-426d-b22b-2d4deb7f4fe0\" target=\"_top\" title=\"psysml:88b3eb59-bf67-426d-b22b-2d4deb7f4fe0\" xlink:actuate=\"onRequest\" xlink:href=\"psysml:88b3eb59-bf67-426d-b22b-2d4deb7f4fe0\" xlink:show=\"new\" xlink:title=\"psysml:88b3eb59-bf67-426d-b22b-2d4deb7f4fe0\" xlink:type=\"simple\"><polygon fill=\"#FFFFFF\" filter=\"url(#f1nd8920ytpq4x)\" points=\"231,54,257,54,264,76.2969,335,76.2969,335,148,231,148,231,54\" style=\"stroke: #000000; stroke-width: 1.5;\"/><line style=\"stroke: #000000; stroke-width: 1.5;\" x1=\"231\" x2=\"264\" y1=\"76.2969\" y2=\"76.2969\"/><text fill=\"#000000\" font-family=\"sans-serif\" font-size=\"14\" font-weight=\"bold\" lengthAdjust=\"spacingAndGlyphs\" textLength=\"20\" x=\"235\" y=\"68.9951\">P1</text></a><!--MD5=[f6df4d0ebaf0b5dfb2ced0ae5af7c670]\n",
       "cluster E4--><a href=\"psysml:4523bb13-7dc6-4a64-a848-9d456c6fa329\" target=\"_top\" title=\"psysml:4523bb13-7dc6-4a64-a848-9d456c6fa329\" xlink:actuate=\"onRequest\" xlink:href=\"psysml:4523bb13-7dc6-4a64-a848-9d456c6fa329\" xlink:show=\"new\" xlink:title=\"psysml:4523bb13-7dc6-4a64-a848-9d456c6fa329\" xlink:type=\"simple\"><polygon fill=\"#FFFFFF\" filter=\"url(#f1nd8920ytpq4x)\" points=\"40,49,66,49,73,71.2969,207,71.2969,207,153,40,153,40,49\" style=\"stroke: #000000; stroke-width: 1.5;\"/><line style=\"stroke: #000000; stroke-width: 1.5;\" x1=\"40\" x2=\"73\" y1=\"71.2969\" y2=\"71.2969\"/><text fill=\"#000000\" font-family=\"sans-serif\" font-size=\"14\" font-weight=\"bold\" lengthAdjust=\"spacingAndGlyphs\" textLength=\"20\" x=\"44\" y=\"63.9951\">P2</text></a><g id=\"E1.E2.E3\"><a href=\"psysml:fd353ea3-6373-455a-afbc-b284741b5a43\" target=\"_top\" title=\"psysml:fd353ea3-6373-455a-afbc-b284741b5a43\" xlink:actuate=\"onRequest\" xlink:href=\"psysml:fd353ea3-6373-455a-afbc-b284741b5a43\" xlink:show=\"new\" xlink:title=\"psysml:fd353ea3-6373-455a-afbc-b284741b5a43\" xlink:type=\"simple\"><rect fill=\"#FEFECE\" filter=\"url(#f1nd8920ytpq4x)\" height=\"42.9375\" id=\"E3\" style=\"stroke: #A80036; stroke-width: 1.5;\" width=\"71\" x=\"247.5\" y=\"89\"/><text fill=\"#000000\" font-family=\"sans-serif\" font-size=\"12\" font-style=\"italic\" lengthAdjust=\"spacingAndGlyphs\" textLength=\"64\" x=\"251\" y=\"105.1387\">«part def»</text><text fill=\"#000000\" font-family=\"sans-serif\" font-size=\"12\" lengthAdjust=\"spacingAndGlyphs\" textLength=\"8\" x=\"279\" y=\"119.1074\">A</text></a></g><a href=\"psysml:afe2db1e-b444-45d6-9b6b-b3994e64af2e\" target=\"_top\" title=\"psysml:afe2db1e-b444-45d6-9b6b-b3994e64af2e\" xlink:actuate=\"onRequest\" xlink:href=\"psysml:afe2db1e-b444-45d6-9b6b-b3994e64af2e\" xlink:show=\"new\" xlink:title=\"psysml:afe2db1e-b444-45d6-9b6b-b3994e64af2e\" xlink:type=\"simple\"><polygon fill=\"#FFFFFF\" filter=\"url(#f1nd8920ytpq4x)\" points=\"141.5,84,176.5,84,183.5,106.2969,190.5,106.2969,190.5,136.5938,141.5,136.5938,141.5,84\" style=\"stroke: #000000; stroke-width: 1.5;\"/><line style=\"stroke: #000000; stroke-width: 1.5;\" x1=\"141.5\" x2=\"183.5\" y1=\"106.2969\" y2=\"106.2969\"/><text fill=\"#000000\" font-family=\"sans-serif\" font-size=\"14\" font-weight=\"bold\" lengthAdjust=\"spacingAndGlyphs\" textLength=\"29\" x=\"145.5\" y=\"98.9951\">P2a</text></a><g id=\"E1.E4.E6\"><a href=\"psysml:7f169e5b-4536-4f95-b3fb-a54a4bad9234\" target=\"_top\" title=\"psysml:7f169e5b-4536-4f95-b3fb-a54a4bad9234\" xlink:actuate=\"onRequest\" xlink:href=\"psysml:7f169e5b-4536-4f95-b3fb-a54a4bad9234\" xlink:show=\"new\" xlink:title=\"psysml:7f169e5b-4536-4f95-b3fb-a54a4bad9234\" xlink:type=\"simple\"><rect fill=\"#FEFECE\" filter=\"url(#f1nd8920ytpq4x)\" height=\"40\" id=\"E6\" rx=\"10\" ry=\"10\" style=\"stroke: #A80036; stroke-width: 1.5;\" width=\"50\" x=\"56\" y=\"90.5\"/><text fill=\"#000000\" font-family=\"sans-serif\" font-size=\"12\" lengthAdjust=\"spacingAndGlyphs\" textLength=\"22\" x=\"70\" y=\"106.6387\">x: A</text></a></g><!--MD5=[210a07f20e5319c78284eac117a2db02]\n",
       "@startuml\r\n",
       "skinparam ranksep 8\r\n",
       "skinparam rectangle {\r\n",
       " backgroundColor<<block>> LightGreen\r\n",
       "}\r\n",
       "skinparam wrapWidth 300\r\n",
       "hide circle\r\n",
       "\r\n",
       "package \"QualifiedNameImportTest\" as E1  [[psysml:d16b9356-f04a-4ff8-b2ae-3864bc76abf1 ]]  {\r\n",
       "package \"P1\" as E2  [[psysml:88b3eb59-bf67-426d-b22b-2d4deb7f4fe0 ]]  {\r\n",
       "rec def \"A\" as E3  <<(T,blue)part def>> [[psysml:fd353ea3-6373-455a-afbc-b284741b5a43 ]] {\r\n",
       "}\r\n",
       "}\r\n",
       "package \"P2\" as E4  [[psysml:4523bb13-7dc6-4a64-a848-9d456c6fa329 ]]  {\r\n",
       "package \"P2a\" as E5  [[psysml:afe2db1e-b444-45d6-9b6b-b3994e64af2e ]]  {\r\n",
       "}\r\n",
       "rec usage \"x: A\" as E6  [[psysml:7f169e5b-4536-4f95-b3fb-a54a4bad9234 ]] {\r\n",
       "}\r\n",
       "}\r\n",
       "}\r\n",
       "@enduml\r\n",
       "\n",
       "PlantUML version 1.2020.13(Sat Jun 13 12:26:38 UTC 2020)\n",
       "(EPL source distribution)\n",
       "Java Runtime: OpenJDK Runtime Environment\n",
       "JVM: OpenJDK 64-Bit Server VM\n",
       "Default Encoding: UTF-8\n",
       "Language: en\n",
       "Country: null\n",
       "--></g></svg>"
      ]
     },
     "execution_count": 26,
     "metadata": {},
     "output_type": "execute_result"
    }
   ],
   "source": [
    "%viz --style=\"STDCOLOR\" --view=\"Interconnection\" \"QualifiedNameImportTest\""
   ]
  },
  {
   "cell_type": "code",
   "execution_count": 27,
   "id": "recognized-palestinian",
   "metadata": {
    "execution": {
     "iopub.execute_input": "2021-03-25T09:35:26.422022Z",
     "iopub.status.busy": "2021-03-25T09:35:26.421295Z",
     "iopub.status.idle": "2021-03-25T09:35:26.429839Z",
     "shell.execute_reply": "2021-03-25T09:35:26.429444Z"
    }
   },
   "outputs": [
    {
     "data": {
      "image/svg+xml": [
       "<?xml version=\"1.0\" encoding=\"UTF-8\" standalone=\"no\"?><svg xmlns=\"http://www.w3.org/2000/svg\" xmlns:xlink=\"http://www.w3.org/1999/xlink\" contentScriptType=\"application/ecmascript\" contentStyleType=\"text/css\" height=\"12px\" preserveAspectRatio=\"none\" style=\"width:12px;height:12px;\" version=\"1.1\" viewBox=\"0 0 12 12\" width=\"12px\" zoomAndPan=\"magnify\"><defs/><g><!--MD5=[9863325348a96a77dacc89509d8ee65e]\n",
       "@startuml\r\n",
       "skinparam ranksep 8\r\n",
       "skinparam wrapWidth 300\r\n",
       "hide circle\r\n",
       "\r\n",
       "@enduml\r\n",
       "\n",
       "PlantUML version 1.2020.13(Sat Jun 13 12:26:38 UTC 2020)\n",
       "(EPL source distribution)\n",
       "Java Runtime: OpenJDK Runtime Environment\n",
       "JVM: OpenJDK 64-Bit Server VM\n",
       "Default Encoding: UTF-8\n",
       "Language: en\n",
       "Country: null\n",
       "--></g></svg>"
      ]
     },
     "execution_count": 27,
     "metadata": {},
     "output_type": "execute_result"
    }
   ],
   "source": [
    "%viz --style=\"STDCOLOR\" --view=\"Action\" \"QualifiedNameImportTest\""
   ]
  },
  {
   "cell_type": "code",
   "execution_count": 28,
   "id": "identical-orchestra",
   "metadata": {
    "execution": {
     "iopub.execute_input": "2021-03-25T09:35:26.481274Z",
     "iopub.status.busy": "2021-03-25T09:35:26.480620Z",
     "iopub.status.idle": "2021-03-25T09:35:26.542068Z",
     "shell.execute_reply": "2021-03-25T09:35:26.542431Z"
    }
   },
   "outputs": [
    {
     "data": {
      "image/svg+xml": [
       "<?xml version=\"1.0\" encoding=\"UTF-8\" standalone=\"no\"?><svg xmlns=\"http://www.w3.org/2000/svg\" xmlns:xlink=\"http://www.w3.org/1999/xlink\" contentScriptType=\"application/ecmascript\" contentStyleType=\"text/css\" height=\"310px\" preserveAspectRatio=\"none\" style=\"width:253px;height:310px;\" version=\"1.1\" viewBox=\"0 0 253 310\" width=\"253px\" zoomAndPan=\"magnify\"><defs><filter height=\"300%\" id=\"f12it43i7z36kv\" width=\"300%\" x=\"-1\" y=\"-1\"><feGaussianBlur result=\"blurOut\" stdDeviation=\"2.0\"/><feColorMatrix in=\"blurOut\" result=\"blurOut2\" type=\"matrix\" values=\"0 0 0 0 0 0 0 0 0 0 0 0 0 0 0 0 0 0 .4 0\"/><feOffset dx=\"4.0\" dy=\"4.0\" in=\"blurOut2\" result=\"blurOut3\"/><feBlend in=\"SourceGraphic\" in2=\"blurOut3\" mode=\"normal\"/></filter></defs><g><!--MD5=[fbc87193dbaf4d95561dea2c320d4a47]\n",
       "cluster E1--><a href=\"psysml:d16b9356-f04a-4ff8-b2ae-3864bc76abf1\" target=\"_top\" title=\"psysml:d16b9356-f04a-4ff8-b2ae-3864bc76abf1\" xlink:actuate=\"onRequest\" xlink:href=\"psysml:d16b9356-f04a-4ff8-b2ae-3864bc76abf1\" xlink:show=\"new\" xlink:title=\"psysml:d16b9356-f04a-4ff8-b2ae-3864bc76abf1\" xlink:type=\"simple\"><polygon fill=\"#FFFFFF\" filter=\"url(#f12it43i7z36kv)\" points=\"16,6,221,6,228,28.2969,231,28.2969,231,298,16,298,16,6\" style=\"stroke: #000000; stroke-width: 1.5;\"/><line style=\"stroke: #000000; stroke-width: 1.5;\" x1=\"16\" x2=\"228\" y1=\"28.2969\" y2=\"28.2969\"/><text fill=\"#000000\" font-family=\"sans-serif\" font-size=\"14\" font-weight=\"bold\" lengthAdjust=\"spacingAndGlyphs\" textLength=\"199\" x=\"20\" y=\"20.9951\">QualifiedNameImportTest</text></a><!--MD5=[e4f7fae6ed58524ba242bb0b0d3be6b7]\n",
       "cluster E2--><a href=\"psysml:88b3eb59-bf67-426d-b22b-2d4deb7f4fe0\" target=\"_top\" title=\"psysml:88b3eb59-bf67-426d-b22b-2d4deb7f4fe0\" xlink:actuate=\"onRequest\" xlink:href=\"psysml:88b3eb59-bf67-426d-b22b-2d4deb7f4fe0\" xlink:show=\"new\" xlink:title=\"psysml:88b3eb59-bf67-426d-b22b-2d4deb7f4fe0\" xlink:type=\"simple\"><polygon fill=\"#FFFFFF\" filter=\"url(#f12it43i7z36kv)\" points=\"105,177,131,177,138,199.2969,203,199.2969,203,274,105,274,105,177\" style=\"stroke: #000000; stroke-width: 1.5;\"/><line style=\"stroke: #000000; stroke-width: 1.5;\" x1=\"105\" x2=\"138\" y1=\"199.2969\" y2=\"199.2969\"/><text fill=\"#000000\" font-family=\"sans-serif\" font-size=\"14\" font-weight=\"bold\" lengthAdjust=\"spacingAndGlyphs\" textLength=\"20\" x=\"109\" y=\"191.9951\">P1</text></a><!--MD5=[f6df4d0ebaf0b5dfb2ced0ae5af7c670]\n",
       "cluster E4--><a href=\"psysml:4523bb13-7dc6-4a64-a848-9d456c6fa329\" target=\"_top\" title=\"psysml:4523bb13-7dc6-4a64-a848-9d456c6fa329\" xlink:actuate=\"onRequest\" xlink:href=\"psysml:4523bb13-7dc6-4a64-a848-9d456c6fa329\" xlink:show=\"new\" xlink:title=\"psysml:4523bb13-7dc6-4a64-a848-9d456c6fa329\" xlink:type=\"simple\"><polygon fill=\"#FFFFFF\" filter=\"url(#f12it43i7z36kv)\" points=\"44,49,70,49,77,71.2969,203,71.2969,203,153,44,153,44,49\" style=\"stroke: #000000; stroke-width: 1.5;\"/><line style=\"stroke: #000000; stroke-width: 1.5;\" x1=\"44\" x2=\"77\" y1=\"71.2969\" y2=\"71.2969\"/><text fill=\"#000000\" font-family=\"sans-serif\" font-size=\"14\" font-weight=\"bold\" lengthAdjust=\"spacingAndGlyphs\" textLength=\"20\" x=\"48\" y=\"63.9951\">P2</text></a><!--MD5=[09b614a08d8cba4a07c9adeb5e0fee81]\n",
       "class E3--><a href=\"psysml:fd353ea3-6373-455a-afbc-b284741b5a43\" target=\"_top\" title=\"psysml:fd353ea3-6373-455a-afbc-b284741b5a43\" xlink:actuate=\"onRequest\" xlink:href=\"psysml:fd353ea3-6373-455a-afbc-b284741b5a43\" xlink:show=\"new\" xlink:title=\"psysml:fd353ea3-6373-455a-afbc-b284741b5a43\" xlink:type=\"simple\"><rect fill=\"#FEFECE\" filter=\"url(#f12it43i7z36kv)\" height=\"45.9375\" id=\"E3\" style=\"stroke: #A80036; stroke-width: 1.5;\" width=\"66\" x=\"121\" y=\"212\"/><text fill=\"#000000\" font-family=\"sans-serif\" font-size=\"12\" font-style=\"italic\" lengthAdjust=\"spacingAndGlyphs\" textLength=\"64\" x=\"122\" y=\"228.1387\">«part def»</text><text fill=\"#000000\" font-family=\"sans-serif\" font-size=\"12\" lengthAdjust=\"spacingAndGlyphs\" textLength=\"8\" x=\"150\" y=\"242.1074\">A</text><line style=\"stroke: #A80036; stroke-width: 1.5;\" x1=\"122\" x2=\"186\" y1=\"249.9375\" y2=\"249.9375\"/></a><!--MD5=[60a26617385b1d2d0262a64233df1f8d]\n",
       "class E6--><a href=\"psysml:7f169e5b-4536-4f95-b3fb-a54a4bad9234\" target=\"_top\" title=\"psysml:7f169e5b-4536-4f95-b3fb-a54a4bad9234\" xlink:actuate=\"onRequest\" xlink:href=\"psysml:7f169e5b-4536-4f95-b3fb-a54a4bad9234\" xlink:show=\"new\" xlink:title=\"psysml:7f169e5b-4536-4f95-b3fb-a54a4bad9234\" xlink:type=\"simple\"><rect fill=\"#FEFECE\" filter=\"url(#f12it43i7z36kv)\" height=\"45.9375\" id=\"E6\" rx=\"10\" ry=\"10\" style=\"stroke: #A80036; stroke-width: 1.5;\" width=\"42\" x=\"145\" y=\"87.5\"/><text fill=\"#000000\" font-family=\"sans-serif\" font-size=\"12\" font-style=\"italic\" lengthAdjust=\"spacingAndGlyphs\" textLength=\"40\" x=\"146\" y=\"103.6387\">«part»</text><text fill=\"#000000\" font-family=\"sans-serif\" font-size=\"12\" lengthAdjust=\"spacingAndGlyphs\" textLength=\"22\" x=\"155\" y=\"117.6074\">x: A</text><line style=\"stroke: #A80036; stroke-width: 1.5;\" x1=\"146\" x2=\"186\" y1=\"125.4375\" y2=\"125.4375\"/></a><a href=\"psysml:afe2db1e-b444-45d6-9b6b-b3994e64af2e\" target=\"_top\" title=\"psysml:afe2db1e-b444-45d6-9b6b-b3994e64af2e\" xlink:actuate=\"onRequest\" xlink:href=\"psysml:afe2db1e-b444-45d6-9b6b-b3994e64af2e\" xlink:show=\"new\" xlink:title=\"psysml:afe2db1e-b444-45d6-9b6b-b3994e64af2e\" xlink:type=\"simple\"><polygon fill=\"#FFFFFF\" filter=\"url(#f12it43i7z36kv)\" points=\"60.5,84,95.5,84,102.5,106.2969,109.5,106.2969,109.5,136.5938,60.5,136.5938,60.5,84\" style=\"stroke: #000000; stroke-width: 1.5;\"/><line style=\"stroke: #000000; stroke-width: 1.5;\" x1=\"60.5\" x2=\"102.5\" y1=\"106.2969\" y2=\"106.2969\"/><text fill=\"#000000\" font-family=\"sans-serif\" font-size=\"14\" font-weight=\"bold\" lengthAdjust=\"spacingAndGlyphs\" textLength=\"29\" x=\"64.5\" y=\"98.9951\">P2a</text></a><!--MD5=[a717450b82c80b9240a525fa862496af]\n",
       "link E6 to E3--><a href=\"psysml:4395c2c1-a48a-41da-9561-d3e6647c3ecb\" target=\"_top\" title=\"psysml:4395c2c1-a48a-41da-9561-d3e6647c3ecb\" xlink:actuate=\"onRequest\" xlink:href=\"psysml:4395c2c1-a48a-41da-9561-d3e6647c3ecb\" xlink:show=\"new\" xlink:title=\"psysml:4395c2c1-a48a-41da-9561-d3e6647c3ecb\" xlink:type=\"simple\"><path d=\"M163.83,133.68 C162.24,149.9 160.04,172.39 158.12,191.96 \" fill=\"none\" id=\"E6-&gt;E3\" style=\"stroke: #A80036; stroke-width: 1.0;\"/><polygon fill=\"#FFFFFF\" points=\"156.16,211.98,151.0533,192.3861,164.986,193.7564,156.16,211.98\" style=\"stroke: #A80036; stroke-width: 1.0;\"/><ellipse cx=\"153.6016\" cy=\"186.9092\" fill=\"#A80036\" rx=\"2\" ry=\"2\" style=\"stroke: #A80036; stroke-width: 1.0;\"/><ellipse cx=\"163.5535\" cy=\"187.888\" fill=\"#A80036\" rx=\"2\" ry=\"2\" style=\"stroke: #A80036; stroke-width: 1.0;\"/></a><!--MD5=[6416303c48d1f8f0e279f96cd95c1090]\n",
       "@startuml\r\n",
       "skinparam wrapWidth 300\r\n",
       "hide circle\r\n",
       "\r\n",
       "package \"QualifiedNameImportTest\" as E1  [[psysml:d16b9356-f04a-4ff8-b2ae-3864bc76abf1 ]]  {\r\n",
       "package \"P1\" as E2  [[psysml:88b3eb59-bf67-426d-b22b-2d4deb7f4fe0 ]]  {\r\n",
       "comp def \"A\" as E3  <<(T,blue)part def>> [[psysml:fd353ea3-6373-455a-afbc-b284741b5a43 ]] {\r\n",
       "}\r\n",
       "}\r\n",
       "package \"P2\" as E4  [[psysml:4523bb13-7dc6-4a64-a848-9d456c6fa329 ]]  {\r\n",
       "package \"P2a\" as E5  [[psysml:afe2db1e-b444-45d6-9b6b-b3994e64af2e ]]  {\r\n",
       "}\r\n",
       "comp usage \"x: A\" as E6  <<(T,blue)part>> [[psysml:7f169e5b-4536-4f95-b3fb-a54a4bad9234 ]] {\r\n",
       "}\r\n",
       "E6 - -:|> E3 [[psysml:4395c2c1-a48a-41da-9561-d3e6647c3ecb ]] \r\n",
       "}\r\n",
       "}\r\n",
       "@enduml\r\n",
       "\n",
       "PlantUML version 1.2020.13(Sat Jun 13 12:26:38 UTC 2020)\n",
       "(EPL source distribution)\n",
       "Java Runtime: OpenJDK Runtime Environment\n",
       "JVM: OpenJDK 64-Bit Server VM\n",
       "Default Encoding: UTF-8\n",
       "Language: en\n",
       "Country: null\n",
       "--></g></svg>"
      ]
     },
     "execution_count": 28,
     "metadata": {},
     "output_type": "execute_result"
    }
   ],
   "source": [
    "%viz --style=\"STDCOLOR\" --view=\"Sequence\" \"QualifiedNameImportTest\""
   ]
  },
  {
   "cell_type": "code",
   "execution_count": 29,
   "id": "realistic-grocery",
   "metadata": {
    "execution": {
     "iopub.execute_input": "2021-03-25T09:35:26.594426Z",
     "iopub.status.busy": "2021-03-25T09:35:26.593740Z",
     "iopub.status.idle": "2021-03-25T09:35:26.650711Z",
     "shell.execute_reply": "2021-03-25T09:35:26.649241Z"
    }
   },
   "outputs": [
    {
     "data": {
      "image/svg+xml": [
       "<?xml version=\"1.0\" encoding=\"UTF-8\" standalone=\"no\"?><svg xmlns=\"http://www.w3.org/2000/svg\" xmlns:xlink=\"http://www.w3.org/1999/xlink\" contentScriptType=\"application/ecmascript\" contentStyleType=\"text/css\" height=\"310px\" preserveAspectRatio=\"none\" style=\"width:253px;height:310px;\" version=\"1.1\" viewBox=\"0 0 253 310\" width=\"253px\" zoomAndPan=\"magnify\"><defs><filter height=\"300%\" id=\"f12it43i7z36kv\" width=\"300%\" x=\"-1\" y=\"-1\"><feGaussianBlur result=\"blurOut\" stdDeviation=\"2.0\"/><feColorMatrix in=\"blurOut\" result=\"blurOut2\" type=\"matrix\" values=\"0 0 0 0 0 0 0 0 0 0 0 0 0 0 0 0 0 0 .4 0\"/><feOffset dx=\"4.0\" dy=\"4.0\" in=\"blurOut2\" result=\"blurOut3\"/><feBlend in=\"SourceGraphic\" in2=\"blurOut3\" mode=\"normal\"/></filter></defs><g><!--MD5=[fbc87193dbaf4d95561dea2c320d4a47]\n",
       "cluster E1--><a href=\"psysml:d16b9356-f04a-4ff8-b2ae-3864bc76abf1\" target=\"_top\" title=\"psysml:d16b9356-f04a-4ff8-b2ae-3864bc76abf1\" xlink:actuate=\"onRequest\" xlink:href=\"psysml:d16b9356-f04a-4ff8-b2ae-3864bc76abf1\" xlink:show=\"new\" xlink:title=\"psysml:d16b9356-f04a-4ff8-b2ae-3864bc76abf1\" xlink:type=\"simple\"><polygon fill=\"#FFFFFF\" filter=\"url(#f12it43i7z36kv)\" points=\"16,6,221,6,228,28.2969,231,28.2969,231,298,16,298,16,6\" style=\"stroke: #000000; stroke-width: 1.5;\"/><line style=\"stroke: #000000; stroke-width: 1.5;\" x1=\"16\" x2=\"228\" y1=\"28.2969\" y2=\"28.2969\"/><text fill=\"#000000\" font-family=\"sans-serif\" font-size=\"14\" font-weight=\"bold\" lengthAdjust=\"spacingAndGlyphs\" textLength=\"199\" x=\"20\" y=\"20.9951\">QualifiedNameImportTest</text></a><!--MD5=[e4f7fae6ed58524ba242bb0b0d3be6b7]\n",
       "cluster E2--><a href=\"psysml:88b3eb59-bf67-426d-b22b-2d4deb7f4fe0\" target=\"_top\" title=\"psysml:88b3eb59-bf67-426d-b22b-2d4deb7f4fe0\" xlink:actuate=\"onRequest\" xlink:href=\"psysml:88b3eb59-bf67-426d-b22b-2d4deb7f4fe0\" xlink:show=\"new\" xlink:title=\"psysml:88b3eb59-bf67-426d-b22b-2d4deb7f4fe0\" xlink:type=\"simple\"><polygon fill=\"#FFFFFF\" filter=\"url(#f12it43i7z36kv)\" points=\"105,177,131,177,138,199.2969,203,199.2969,203,274,105,274,105,177\" style=\"stroke: #000000; stroke-width: 1.5;\"/><line style=\"stroke: #000000; stroke-width: 1.5;\" x1=\"105\" x2=\"138\" y1=\"199.2969\" y2=\"199.2969\"/><text fill=\"#000000\" font-family=\"sans-serif\" font-size=\"14\" font-weight=\"bold\" lengthAdjust=\"spacingAndGlyphs\" textLength=\"20\" x=\"109\" y=\"191.9951\">P1</text></a><!--MD5=[f6df4d0ebaf0b5dfb2ced0ae5af7c670]\n",
       "cluster E4--><a href=\"psysml:4523bb13-7dc6-4a64-a848-9d456c6fa329\" target=\"_top\" title=\"psysml:4523bb13-7dc6-4a64-a848-9d456c6fa329\" xlink:actuate=\"onRequest\" xlink:href=\"psysml:4523bb13-7dc6-4a64-a848-9d456c6fa329\" xlink:show=\"new\" xlink:title=\"psysml:4523bb13-7dc6-4a64-a848-9d456c6fa329\" xlink:type=\"simple\"><polygon fill=\"#FFFFFF\" filter=\"url(#f12it43i7z36kv)\" points=\"44,49,70,49,77,71.2969,203,71.2969,203,153,44,153,44,49\" style=\"stroke: #000000; stroke-width: 1.5;\"/><line style=\"stroke: #000000; stroke-width: 1.5;\" x1=\"44\" x2=\"77\" y1=\"71.2969\" y2=\"71.2969\"/><text fill=\"#000000\" font-family=\"sans-serif\" font-size=\"14\" font-weight=\"bold\" lengthAdjust=\"spacingAndGlyphs\" textLength=\"20\" x=\"48\" y=\"63.9951\">P2</text></a><!--MD5=[09b614a08d8cba4a07c9adeb5e0fee81]\n",
       "class E3--><a href=\"psysml:fd353ea3-6373-455a-afbc-b284741b5a43\" target=\"_top\" title=\"psysml:fd353ea3-6373-455a-afbc-b284741b5a43\" xlink:actuate=\"onRequest\" xlink:href=\"psysml:fd353ea3-6373-455a-afbc-b284741b5a43\" xlink:show=\"new\" xlink:title=\"psysml:fd353ea3-6373-455a-afbc-b284741b5a43\" xlink:type=\"simple\"><rect fill=\"#FEFECE\" filter=\"url(#f12it43i7z36kv)\" height=\"45.9375\" id=\"E3\" style=\"stroke: #A80036; stroke-width: 1.5;\" width=\"66\" x=\"121\" y=\"212\"/><text fill=\"#000000\" font-family=\"sans-serif\" font-size=\"12\" font-style=\"italic\" lengthAdjust=\"spacingAndGlyphs\" textLength=\"64\" x=\"122\" y=\"228.1387\">«part def»</text><text fill=\"#000000\" font-family=\"sans-serif\" font-size=\"12\" lengthAdjust=\"spacingAndGlyphs\" textLength=\"8\" x=\"150\" y=\"242.1074\">A</text><line style=\"stroke: #A80036; stroke-width: 1.5;\" x1=\"122\" x2=\"186\" y1=\"249.9375\" y2=\"249.9375\"/></a><!--MD5=[60a26617385b1d2d0262a64233df1f8d]\n",
       "class E6--><a href=\"psysml:7f169e5b-4536-4f95-b3fb-a54a4bad9234\" target=\"_top\" title=\"psysml:7f169e5b-4536-4f95-b3fb-a54a4bad9234\" xlink:actuate=\"onRequest\" xlink:href=\"psysml:7f169e5b-4536-4f95-b3fb-a54a4bad9234\" xlink:show=\"new\" xlink:title=\"psysml:7f169e5b-4536-4f95-b3fb-a54a4bad9234\" xlink:type=\"simple\"><rect fill=\"#FEFECE\" filter=\"url(#f12it43i7z36kv)\" height=\"45.9375\" id=\"E6\" rx=\"10\" ry=\"10\" style=\"stroke: #A80036; stroke-width: 1.5;\" width=\"42\" x=\"145\" y=\"87.5\"/><text fill=\"#000000\" font-family=\"sans-serif\" font-size=\"12\" font-style=\"italic\" lengthAdjust=\"spacingAndGlyphs\" textLength=\"40\" x=\"146\" y=\"103.6387\">«part»</text><text fill=\"#000000\" font-family=\"sans-serif\" font-size=\"12\" lengthAdjust=\"spacingAndGlyphs\" textLength=\"22\" x=\"155\" y=\"117.6074\">x: A</text><line style=\"stroke: #A80036; stroke-width: 1.5;\" x1=\"146\" x2=\"186\" y1=\"125.4375\" y2=\"125.4375\"/></a><a href=\"psysml:afe2db1e-b444-45d6-9b6b-b3994e64af2e\" target=\"_top\" title=\"psysml:afe2db1e-b444-45d6-9b6b-b3994e64af2e\" xlink:actuate=\"onRequest\" xlink:href=\"psysml:afe2db1e-b444-45d6-9b6b-b3994e64af2e\" xlink:show=\"new\" xlink:title=\"psysml:afe2db1e-b444-45d6-9b6b-b3994e64af2e\" xlink:type=\"simple\"><polygon fill=\"#FFFFFF\" filter=\"url(#f12it43i7z36kv)\" points=\"60.5,84,95.5,84,102.5,106.2969,109.5,106.2969,109.5,136.5938,60.5,136.5938,60.5,84\" style=\"stroke: #000000; stroke-width: 1.5;\"/><line style=\"stroke: #000000; stroke-width: 1.5;\" x1=\"60.5\" x2=\"102.5\" y1=\"106.2969\" y2=\"106.2969\"/><text fill=\"#000000\" font-family=\"sans-serif\" font-size=\"14\" font-weight=\"bold\" lengthAdjust=\"spacingAndGlyphs\" textLength=\"29\" x=\"64.5\" y=\"98.9951\">P2a</text></a><!--MD5=[a717450b82c80b9240a525fa862496af]\n",
       "link E6 to E3--><a href=\"psysml:4395c2c1-a48a-41da-9561-d3e6647c3ecb\" target=\"_top\" title=\"psysml:4395c2c1-a48a-41da-9561-d3e6647c3ecb\" xlink:actuate=\"onRequest\" xlink:href=\"psysml:4395c2c1-a48a-41da-9561-d3e6647c3ecb\" xlink:show=\"new\" xlink:title=\"psysml:4395c2c1-a48a-41da-9561-d3e6647c3ecb\" xlink:type=\"simple\"><path d=\"M163.83,133.68 C162.24,149.9 160.04,172.39 158.12,191.96 \" fill=\"none\" id=\"E6-&gt;E3\" style=\"stroke: #A80036; stroke-width: 1.0;\"/><polygon fill=\"#FFFFFF\" points=\"156.16,211.98,151.0533,192.3861,164.986,193.7564,156.16,211.98\" style=\"stroke: #A80036; stroke-width: 1.0;\"/><ellipse cx=\"153.6016\" cy=\"186.9092\" fill=\"#A80036\" rx=\"2\" ry=\"2\" style=\"stroke: #A80036; stroke-width: 1.0;\"/><ellipse cx=\"163.5535\" cy=\"187.888\" fill=\"#A80036\" rx=\"2\" ry=\"2\" style=\"stroke: #A80036; stroke-width: 1.0;\"/></a><!--MD5=[6416303c48d1f8f0e279f96cd95c1090]\n",
       "@startuml\r\n",
       "skinparam wrapWidth 300\r\n",
       "hide circle\r\n",
       "\r\n",
       "package \"QualifiedNameImportTest\" as E1  [[psysml:d16b9356-f04a-4ff8-b2ae-3864bc76abf1 ]]  {\r\n",
       "package \"P1\" as E2  [[psysml:88b3eb59-bf67-426d-b22b-2d4deb7f4fe0 ]]  {\r\n",
       "comp def \"A\" as E3  <<(T,blue)part def>> [[psysml:fd353ea3-6373-455a-afbc-b284741b5a43 ]] {\r\n",
       "}\r\n",
       "}\r\n",
       "package \"P2\" as E4  [[psysml:4523bb13-7dc6-4a64-a848-9d456c6fa329 ]]  {\r\n",
       "package \"P2a\" as E5  [[psysml:afe2db1e-b444-45d6-9b6b-b3994e64af2e ]]  {\r\n",
       "}\r\n",
       "comp usage \"x: A\" as E6  <<(T,blue)part>> [[psysml:7f169e5b-4536-4f95-b3fb-a54a4bad9234 ]] {\r\n",
       "}\r\n",
       "E6 - -:|> E3 [[psysml:4395c2c1-a48a-41da-9561-d3e6647c3ecb ]] \r\n",
       "}\r\n",
       "}\r\n",
       "@enduml\r\n",
       "\n",
       "PlantUML version 1.2020.13(Sat Jun 13 12:26:38 UTC 2020)\n",
       "(EPL source distribution)\n",
       "Java Runtime: OpenJDK Runtime Environment\n",
       "JVM: OpenJDK 64-Bit Server VM\n",
       "Default Encoding: UTF-8\n",
       "Language: en\n",
       "Country: null\n",
       "--></g></svg>"
      ]
     },
     "execution_count": 29,
     "metadata": {},
     "output_type": "execute_result"
    }
   ],
   "source": [
    "%viz --style=\"STDCOLOR\" --view=\"MIXED\" \"QualifiedNameImportTest\""
   ]
  },
  {
   "cell_type": "code",
   "execution_count": 30,
   "id": "initial-necessity",
   "metadata": {
    "execution": {
     "iopub.execute_input": "2021-03-25T09:35:26.704240Z",
     "iopub.status.busy": "2021-03-25T09:35:26.703505Z",
     "iopub.status.idle": "2021-03-25T09:35:26.779481Z",
     "shell.execute_reply": "2021-03-25T09:35:26.779917Z"
    }
   },
   "outputs": [
    {
     "data": {
      "image/svg+xml": [
       "<?xml version=\"1.0\" encoding=\"UTF-8\" standalone=\"no\"?><svg xmlns=\"http://www.w3.org/2000/svg\" xmlns:xlink=\"http://www.w3.org/1999/xlink\" contentScriptType=\"application/ecmascript\" contentStyleType=\"text/css\" height=\"304px\" preserveAspectRatio=\"none\" style=\"width:271px;height:304px;\" version=\"1.1\" viewBox=\"0 0 271 304\" width=\"271px\" zoomAndPan=\"magnify\"><defs><filter height=\"300%\" id=\"fvlxsz2ijvc3l\" width=\"300%\" x=\"-1\" y=\"-1\"><feGaussianBlur result=\"blurOut\" stdDeviation=\"2.0\"/><feColorMatrix in=\"blurOut\" result=\"blurOut2\" type=\"matrix\" values=\"0 0 0 0 0 0 0 0 0 0 0 0 0 0 0 0 0 0 .4 0\"/><feOffset dx=\"4.0\" dy=\"4.0\" in=\"blurOut2\" result=\"blurOut3\"/><feBlend in=\"SourceGraphic\" in2=\"blurOut3\" mode=\"normal\"/></filter></defs><g><!--MD5=[fbc87193dbaf4d95561dea2c320d4a47]\n",
       "cluster E1--><a href=\"psysml:d16b9356-f04a-4ff8-b2ae-3864bc76abf1\" target=\"_top\" title=\"psysml:d16b9356-f04a-4ff8-b2ae-3864bc76abf1\" xlink:actuate=\"onRequest\" xlink:href=\"psysml:d16b9356-f04a-4ff8-b2ae-3864bc76abf1\" xlink:show=\"new\" xlink:title=\"psysml:d16b9356-f04a-4ff8-b2ae-3864bc76abf1\" xlink:type=\"simple\"><polygon fill=\"#FFFFFF\" filter=\"url(#fvlxsz2ijvc3l)\" points=\"16,6,221,6,228,28.2969,249,28.2969,249,292,16,292,16,6\" style=\"stroke: #000000; stroke-width: 1.5;\"/><line style=\"stroke: #000000; stroke-width: 1.5;\" x1=\"16\" x2=\"228\" y1=\"28.2969\" y2=\"28.2969\"/><text fill=\"#000000\" font-family=\"sans-serif\" font-size=\"14\" font-weight=\"bold\" lengthAdjust=\"spacingAndGlyphs\" textLength=\"199\" x=\"20\" y=\"20.9951\">QualifiedNameImportTest</text></a><!--MD5=[e4f7fae6ed58524ba242bb0b0d3be6b7]\n",
       "cluster E2--><a href=\"psysml:88b3eb59-bf67-426d-b22b-2d4deb7f4fe0\" target=\"_top\" title=\"psysml:88b3eb59-bf67-426d-b22b-2d4deb7f4fe0\" xlink:actuate=\"onRequest\" xlink:href=\"psysml:88b3eb59-bf67-426d-b22b-2d4deb7f4fe0\" xlink:show=\"new\" xlink:title=\"psysml:88b3eb59-bf67-426d-b22b-2d4deb7f4fe0\" xlink:type=\"simple\"><polygon fill=\"#FFFFFF\" filter=\"url(#fvlxsz2ijvc3l)\" points=\"139,177,165,177,172,199.2969,211,199.2969,211,268,139,268,139,177\" style=\"stroke: #000000; stroke-width: 1.5;\"/><line style=\"stroke: #000000; stroke-width: 1.5;\" x1=\"139\" x2=\"172\" y1=\"199.2969\" y2=\"199.2969\"/><text fill=\"#000000\" font-family=\"sans-serif\" font-size=\"14\" font-weight=\"bold\" lengthAdjust=\"spacingAndGlyphs\" textLength=\"20\" x=\"143\" y=\"191.9951\">P1</text></a><!--MD5=[f6df4d0ebaf0b5dfb2ced0ae5af7c670]\n",
       "cluster E4--><a href=\"psysml:4523bb13-7dc6-4a64-a848-9d456c6fa329\" target=\"_top\" title=\"psysml:4523bb13-7dc6-4a64-a848-9d456c6fa329\" xlink:actuate=\"onRequest\" xlink:href=\"psysml:4523bb13-7dc6-4a64-a848-9d456c6fa329\" xlink:show=\"new\" xlink:title=\"psysml:4523bb13-7dc6-4a64-a848-9d456c6fa329\" xlink:type=\"simple\"><polygon fill=\"#FFFFFF\" filter=\"url(#fvlxsz2ijvc3l)\" points=\"40,49,66,49,73,71.2969,225,71.2969,225,153,40,153,40,49\" style=\"stroke: #000000; stroke-width: 1.5;\"/><line style=\"stroke: #000000; stroke-width: 1.5;\" x1=\"40\" x2=\"73\" y1=\"71.2969\" y2=\"71.2969\"/><text fill=\"#000000\" font-family=\"sans-serif\" font-size=\"14\" font-weight=\"bold\" lengthAdjust=\"spacingAndGlyphs\" textLength=\"20\" x=\"44\" y=\"63.9951\">P2</text></a><!--MD5=[09b614a08d8cba4a07c9adeb5e0fee81]\n",
       "class E3--><a href=\"psysml:fd353ea3-6373-455a-afbc-b284741b5a43\" target=\"_top\" title=\"psysml:fd353ea3-6373-455a-afbc-b284741b5a43\" xlink:actuate=\"onRequest\" xlink:href=\"psysml:fd353ea3-6373-455a-afbc-b284741b5a43\" xlink:show=\"new\" xlink:title=\"psysml:fd353ea3-6373-455a-afbc-b284741b5a43\" xlink:type=\"simple\"><rect fill=\"#FEFECE\" filter=\"url(#fvlxsz2ijvc3l)\" height=\"40\" id=\"E3\" style=\"stroke: #A80036; stroke-width: 1.5;\" width=\"40\" x=\"155\" y=\"212\"/><ellipse cx=\"170\" cy=\"228\" fill=\"#008000\" rx=\"11\" ry=\"11\" style=\"stroke: #A80036; stroke-width: 1.0;\"/><path d=\"M168.9063,228.375 L168.9063,232.0469 L170.5313,232.0469 Q171.7031,232.0469 172.1719,231.6563 Q172.6406,231.25 172.6406,230.25 Q172.6406,229.25 172.1406,228.8125 Q171.6563,228.375 170.5313,228.375 L168.9063,228.375 Z M168.9063,223.5469 L168.9063,226.4219 L170.5313,226.4219 Q171.4531,226.4219 171.8438,226.0938 Q172.25,225.75 172.25,225 Q172.25,224.2344 171.8438,223.8906 Q171.4375,223.5469 170.5313,223.5469 L168.9063,223.5469 Z M166.5313,221.5938 L170.5313,221.5938 Q172.5938,221.5938 173.6406,222.375 Q174.6875,223.1563 174.6875,224.7188 Q174.6875,225.9219 174.0625,226.5938 Q173.4531,227.2656 172.2656,227.375 Q173.6875,227.5156 174.4063,228.3281 Q175.125,229.1406 175.125,230.5938 Q175.125,232.3906 174.0469,233.2031 Q172.9688,234 170.5313,234 L166.5313,234 L166.5313,221.5938 Z \"/><text fill=\"#000000\" font-family=\"sans-serif\" font-size=\"12\" lengthAdjust=\"spacingAndGlyphs\" textLength=\"8\" x=\"184\" y=\"232.1543\">A</text><line style=\"stroke: #A80036; stroke-width: 1.5;\" x1=\"156\" x2=\"194\" y1=\"244\" y2=\"244\"/></a><!--MD5=[60a26617385b1d2d0262a64233df1f8d]\n",
       "class E6--><a href=\"psysml:7f169e5b-4536-4f95-b3fb-a54a4bad9234\" target=\"_top\" title=\"psysml:7f169e5b-4536-4f95-b3fb-a54a4bad9234\" xlink:actuate=\"onRequest\" xlink:href=\"psysml:7f169e5b-4536-4f95-b3fb-a54a4bad9234\" xlink:show=\"new\" xlink:title=\"psysml:7f169e5b-4536-4f95-b3fb-a54a4bad9234\" xlink:type=\"simple\"><rect fill=\"#FEFECE\" filter=\"url(#fvlxsz2ijvc3l)\" height=\"45.9375\" id=\"E6\" rx=\"10\" ry=\"10\" style=\"stroke: #A80036; stroke-width: 1.5;\" width=\"68\" x=\"141\" y=\"87.5\"/><ellipse cx=\"156\" cy=\"106.4688\" fill=\"#32CD32\" rx=\"11\" ry=\"11\" style=\"stroke: #A80036; stroke-width: 1.0;\"/><path d=\"M155.7969,102.1406 L155.7969,105.7656 L156.7969,105.7656 Q158,105.7656 158.4844,105.3594 Q158.9688,104.9531 158.9688,103.9531 Q158.9688,102.9531 158.4844,102.5469 Q158,102.1406 156.7969,102.1406 L155.7969,102.1406 Z M153.3438,100.0781 L156.7031,100.0781 Q159.2656,100.0781 160.3906,101 Q161.5156,101.9063 161.5156,103.9531 Q161.5156,106 160.3906,106.9219 Q159.2656,107.8281 156.7031,107.8281 L155.7969,107.8281 L155.7969,112.4688 L153.3438,112.4688 L153.3438,100.0781 Z \"/><text fill=\"#000000\" font-family=\"sans-serif\" font-size=\"12\" font-style=\"italic\" lengthAdjust=\"spacingAndGlyphs\" textLength=\"40\" x=\"168\" y=\"103.6387\">«part»</text><text fill=\"#000000\" font-family=\"sans-serif\" font-size=\"12\" lengthAdjust=\"spacingAndGlyphs\" textLength=\"22\" x=\"177\" y=\"117.6074\">x: A</text><line style=\"stroke: #A80036; stroke-width: 1.5;\" x1=\"142\" x2=\"208\" y1=\"125.4375\" y2=\"125.4375\"/></a><a href=\"psysml:afe2db1e-b444-45d6-9b6b-b3994e64af2e\" target=\"_top\" title=\"psysml:afe2db1e-b444-45d6-9b6b-b3994e64af2e\" xlink:actuate=\"onRequest\" xlink:href=\"psysml:afe2db1e-b444-45d6-9b6b-b3994e64af2e\" xlink:show=\"new\" xlink:title=\"psysml:afe2db1e-b444-45d6-9b6b-b3994e64af2e\" xlink:type=\"simple\"><polygon fill=\"#FFFFFF\" filter=\"url(#fvlxsz2ijvc3l)\" points=\"56.5,84,91.5,84,98.5,106.2969,105.5,106.2969,105.5,136.5938,56.5,136.5938,56.5,84\" style=\"stroke: #000000; stroke-width: 1.5;\"/><line style=\"stroke: #000000; stroke-width: 1.5;\" x1=\"56.5\" x2=\"98.5\" y1=\"106.2969\" y2=\"106.2969\"/><text fill=\"#000000\" font-family=\"sans-serif\" font-size=\"14\" font-weight=\"bold\" lengthAdjust=\"spacingAndGlyphs\" textLength=\"29\" x=\"60.5\" y=\"98.9951\">P2a</text></a><!--MD5=[a717450b82c80b9240a525fa862496af]\n",
       "link E6 to E3--><a href=\"psysml:4395c2c1-a48a-41da-9561-d3e6647c3ecb\" target=\"_top\" title=\"psysml:4395c2c1-a48a-41da-9561-d3e6647c3ecb\" xlink:actuate=\"onRequest\" xlink:href=\"psysml:4395c2c1-a48a-41da-9561-d3e6647c3ecb\" xlink:show=\"new\" xlink:title=\"psysml:4395c2c1-a48a-41da-9561-d3e6647c3ecb\" xlink:type=\"simple\"><path d=\"M175,133.7 C175,149.89 175,172.27 175,191.49 \" fill=\"none\" id=\"E6-&gt;E3\" style=\"stroke: #A80036; stroke-width: 1.0;\"/><polygon fill=\"#FFFFFF\" points=\"175,211.69,168,192.69,182,192.69,175,211.69\" style=\"stroke: #A80036; stroke-width: 1.0;\"/><ellipse cx=\"170\" cy=\"186.99\" fill=\"#A80036\" rx=\"2\" ry=\"2\" style=\"stroke: #A80036; stroke-width: 1.0;\"/><ellipse cx=\"180\" cy=\"186.99\" fill=\"#A80036\" rx=\"2\" ry=\"2\" style=\"stroke: #A80036; stroke-width: 1.0;\"/></a><!--MD5=[43a26c84e9ecbb2ecba7eb61d83334cd]\n",
       "@startuml\r\n",
       " \r\n",
       "package \"QualifiedNameImportTest\" as E1  [[psysml:d16b9356-f04a-4ff8-b2ae-3864bc76abf1 ]]  {\r\n",
       "package \"P1\" as E2  [[psysml:88b3eb59-bf67-426d-b22b-2d4deb7f4fe0 ]]  {\r\n",
       "comp def \"A\" as E3  << (B,green) >> [[psysml:fd353ea3-6373-455a-afbc-b284741b5a43 ]] {\r\n",
       "}\r\n",
       "}\r\n",
       "package \"P2\" as E4  [[psysml:4523bb13-7dc6-4a64-a848-9d456c6fa329 ]]  {\r\n",
       "package \"P2a\" as E5  [[psysml:afe2db1e-b444-45d6-9b6b-b3994e64af2e ]]  {\r\n",
       "}\r\n",
       "comp usage \"x: A\" as E6  << (P,limegreen) part>> [[psysml:7f169e5b-4536-4f95-b3fb-a54a4bad9234 ]] {\r\n",
       "}\r\n",
       "E6 - -:|> E3 [[psysml:4395c2c1-a48a-41da-9561-d3e6647c3ecb ]] \r\n",
       "}\r\n",
       "}\r\n",
       "@enduml\r\n",
       "\n",
       "PlantUML version 1.2020.13(Sat Jun 13 12:26:38 UTC 2020)\n",
       "(EPL source distribution)\n",
       "Java Runtime: OpenJDK Runtime Environment\n",
       "JVM: OpenJDK 64-Bit Server VM\n",
       "Default Encoding: UTF-8\n",
       "Language: en\n",
       "Country: null\n",
       "--></g></svg>"
      ]
     },
     "execution_count": 30,
     "metadata": {},
     "output_type": "execute_result"
    }
   ],
   "source": [
    "%viz --style=\"PLANTUML\" --view=\"Default\" \"QualifiedNameImportTest\""
   ]
  },
  {
   "cell_type": "code",
   "execution_count": 31,
   "id": "consolidated-category",
   "metadata": {
    "execution": {
     "iopub.execute_input": "2021-03-25T09:35:26.831590Z",
     "iopub.status.busy": "2021-03-25T09:35:26.830973Z",
     "iopub.status.idle": "2021-03-25T09:35:26.882711Z",
     "shell.execute_reply": "2021-03-25T09:35:26.883155Z"
    }
   },
   "outputs": [
    {
     "data": {
      "image/svg+xml": [
       "<?xml version=\"1.0\" encoding=\"UTF-8\" standalone=\"no\"?><svg xmlns=\"http://www.w3.org/2000/svg\" xmlns:xlink=\"http://www.w3.org/1999/xlink\" contentScriptType=\"application/ecmascript\" contentStyleType=\"text/css\" height=\"304px\" preserveAspectRatio=\"none\" style=\"width:271px;height:304px;\" version=\"1.1\" viewBox=\"0 0 271 304\" width=\"271px\" zoomAndPan=\"magnify\"><defs><filter height=\"300%\" id=\"fvlxsz2ijvc3l\" width=\"300%\" x=\"-1\" y=\"-1\"><feGaussianBlur result=\"blurOut\" stdDeviation=\"2.0\"/><feColorMatrix in=\"blurOut\" result=\"blurOut2\" type=\"matrix\" values=\"0 0 0 0 0 0 0 0 0 0 0 0 0 0 0 0 0 0 .4 0\"/><feOffset dx=\"4.0\" dy=\"4.0\" in=\"blurOut2\" result=\"blurOut3\"/><feBlend in=\"SourceGraphic\" in2=\"blurOut3\" mode=\"normal\"/></filter></defs><g><!--MD5=[fbc87193dbaf4d95561dea2c320d4a47]\n",
       "cluster E1--><a href=\"psysml:d16b9356-f04a-4ff8-b2ae-3864bc76abf1\" target=\"_top\" title=\"psysml:d16b9356-f04a-4ff8-b2ae-3864bc76abf1\" xlink:actuate=\"onRequest\" xlink:href=\"psysml:d16b9356-f04a-4ff8-b2ae-3864bc76abf1\" xlink:show=\"new\" xlink:title=\"psysml:d16b9356-f04a-4ff8-b2ae-3864bc76abf1\" xlink:type=\"simple\"><polygon fill=\"#FFFFFF\" filter=\"url(#fvlxsz2ijvc3l)\" points=\"16,6,221,6,228,28.2969,249,28.2969,249,292,16,292,16,6\" style=\"stroke: #000000; stroke-width: 1.5;\"/><line style=\"stroke: #000000; stroke-width: 1.5;\" x1=\"16\" x2=\"228\" y1=\"28.2969\" y2=\"28.2969\"/><text fill=\"#000000\" font-family=\"sans-serif\" font-size=\"14\" font-weight=\"bold\" lengthAdjust=\"spacingAndGlyphs\" textLength=\"199\" x=\"20\" y=\"20.9951\">QualifiedNameImportTest</text></a><!--MD5=[e4f7fae6ed58524ba242bb0b0d3be6b7]\n",
       "cluster E2--><a href=\"psysml:88b3eb59-bf67-426d-b22b-2d4deb7f4fe0\" target=\"_top\" title=\"psysml:88b3eb59-bf67-426d-b22b-2d4deb7f4fe0\" xlink:actuate=\"onRequest\" xlink:href=\"psysml:88b3eb59-bf67-426d-b22b-2d4deb7f4fe0\" xlink:show=\"new\" xlink:title=\"psysml:88b3eb59-bf67-426d-b22b-2d4deb7f4fe0\" xlink:type=\"simple\"><polygon fill=\"#FFFFFF\" filter=\"url(#fvlxsz2ijvc3l)\" points=\"139,177,165,177,172,199.2969,211,199.2969,211,268,139,268,139,177\" style=\"stroke: #000000; stroke-width: 1.5;\"/><line style=\"stroke: #000000; stroke-width: 1.5;\" x1=\"139\" x2=\"172\" y1=\"199.2969\" y2=\"199.2969\"/><text fill=\"#000000\" font-family=\"sans-serif\" font-size=\"14\" font-weight=\"bold\" lengthAdjust=\"spacingAndGlyphs\" textLength=\"20\" x=\"143\" y=\"191.9951\">P1</text></a><!--MD5=[f6df4d0ebaf0b5dfb2ced0ae5af7c670]\n",
       "cluster E4--><a href=\"psysml:4523bb13-7dc6-4a64-a848-9d456c6fa329\" target=\"_top\" title=\"psysml:4523bb13-7dc6-4a64-a848-9d456c6fa329\" xlink:actuate=\"onRequest\" xlink:href=\"psysml:4523bb13-7dc6-4a64-a848-9d456c6fa329\" xlink:show=\"new\" xlink:title=\"psysml:4523bb13-7dc6-4a64-a848-9d456c6fa329\" xlink:type=\"simple\"><polygon fill=\"#FFFFFF\" filter=\"url(#fvlxsz2ijvc3l)\" points=\"40,49,66,49,73,71.2969,225,71.2969,225,153,40,153,40,49\" style=\"stroke: #000000; stroke-width: 1.5;\"/><line style=\"stroke: #000000; stroke-width: 1.5;\" x1=\"40\" x2=\"73\" y1=\"71.2969\" y2=\"71.2969\"/><text fill=\"#000000\" font-family=\"sans-serif\" font-size=\"14\" font-weight=\"bold\" lengthAdjust=\"spacingAndGlyphs\" textLength=\"20\" x=\"44\" y=\"63.9951\">P2</text></a><!--MD5=[09b614a08d8cba4a07c9adeb5e0fee81]\n",
       "class E3--><a href=\"psysml:fd353ea3-6373-455a-afbc-b284741b5a43\" target=\"_top\" title=\"psysml:fd353ea3-6373-455a-afbc-b284741b5a43\" xlink:actuate=\"onRequest\" xlink:href=\"psysml:fd353ea3-6373-455a-afbc-b284741b5a43\" xlink:show=\"new\" xlink:title=\"psysml:fd353ea3-6373-455a-afbc-b284741b5a43\" xlink:type=\"simple\"><rect fill=\"#FEFECE\" filter=\"url(#fvlxsz2ijvc3l)\" height=\"40\" id=\"E3\" style=\"stroke: #A80036; stroke-width: 1.5;\" width=\"40\" x=\"155\" y=\"212\"/><ellipse cx=\"170\" cy=\"228\" fill=\"#008000\" rx=\"11\" ry=\"11\" style=\"stroke: #A80036; stroke-width: 1.0;\"/><path d=\"M168.9063,228.375 L168.9063,232.0469 L170.5313,232.0469 Q171.7031,232.0469 172.1719,231.6563 Q172.6406,231.25 172.6406,230.25 Q172.6406,229.25 172.1406,228.8125 Q171.6563,228.375 170.5313,228.375 L168.9063,228.375 Z M168.9063,223.5469 L168.9063,226.4219 L170.5313,226.4219 Q171.4531,226.4219 171.8438,226.0938 Q172.25,225.75 172.25,225 Q172.25,224.2344 171.8438,223.8906 Q171.4375,223.5469 170.5313,223.5469 L168.9063,223.5469 Z M166.5313,221.5938 L170.5313,221.5938 Q172.5938,221.5938 173.6406,222.375 Q174.6875,223.1563 174.6875,224.7188 Q174.6875,225.9219 174.0625,226.5938 Q173.4531,227.2656 172.2656,227.375 Q173.6875,227.5156 174.4063,228.3281 Q175.125,229.1406 175.125,230.5938 Q175.125,232.3906 174.0469,233.2031 Q172.9688,234 170.5313,234 L166.5313,234 L166.5313,221.5938 Z \"/><text fill=\"#000000\" font-family=\"sans-serif\" font-size=\"12\" lengthAdjust=\"spacingAndGlyphs\" textLength=\"8\" x=\"184\" y=\"232.1543\">A</text><line style=\"stroke: #A80036; stroke-width: 1.5;\" x1=\"156\" x2=\"194\" y1=\"244\" y2=\"244\"/></a><!--MD5=[60a26617385b1d2d0262a64233df1f8d]\n",
       "class E6--><a href=\"psysml:7f169e5b-4536-4f95-b3fb-a54a4bad9234\" target=\"_top\" title=\"psysml:7f169e5b-4536-4f95-b3fb-a54a4bad9234\" xlink:actuate=\"onRequest\" xlink:href=\"psysml:7f169e5b-4536-4f95-b3fb-a54a4bad9234\" xlink:show=\"new\" xlink:title=\"psysml:7f169e5b-4536-4f95-b3fb-a54a4bad9234\" xlink:type=\"simple\"><rect fill=\"#FEFECE\" filter=\"url(#fvlxsz2ijvc3l)\" height=\"45.9375\" id=\"E6\" rx=\"10\" ry=\"10\" style=\"stroke: #A80036; stroke-width: 1.5;\" width=\"68\" x=\"141\" y=\"87.5\"/><ellipse cx=\"156\" cy=\"106.4688\" fill=\"#32CD32\" rx=\"11\" ry=\"11\" style=\"stroke: #A80036; stroke-width: 1.0;\"/><path d=\"M155.7969,102.1406 L155.7969,105.7656 L156.7969,105.7656 Q158,105.7656 158.4844,105.3594 Q158.9688,104.9531 158.9688,103.9531 Q158.9688,102.9531 158.4844,102.5469 Q158,102.1406 156.7969,102.1406 L155.7969,102.1406 Z M153.3438,100.0781 L156.7031,100.0781 Q159.2656,100.0781 160.3906,101 Q161.5156,101.9063 161.5156,103.9531 Q161.5156,106 160.3906,106.9219 Q159.2656,107.8281 156.7031,107.8281 L155.7969,107.8281 L155.7969,112.4688 L153.3438,112.4688 L153.3438,100.0781 Z \"/><text fill=\"#000000\" font-family=\"sans-serif\" font-size=\"12\" font-style=\"italic\" lengthAdjust=\"spacingAndGlyphs\" textLength=\"40\" x=\"168\" y=\"103.6387\">«part»</text><text fill=\"#000000\" font-family=\"sans-serif\" font-size=\"12\" lengthAdjust=\"spacingAndGlyphs\" textLength=\"22\" x=\"177\" y=\"117.6074\">x: A</text><line style=\"stroke: #A80036; stroke-width: 1.5;\" x1=\"142\" x2=\"208\" y1=\"125.4375\" y2=\"125.4375\"/></a><a href=\"psysml:afe2db1e-b444-45d6-9b6b-b3994e64af2e\" target=\"_top\" title=\"psysml:afe2db1e-b444-45d6-9b6b-b3994e64af2e\" xlink:actuate=\"onRequest\" xlink:href=\"psysml:afe2db1e-b444-45d6-9b6b-b3994e64af2e\" xlink:show=\"new\" xlink:title=\"psysml:afe2db1e-b444-45d6-9b6b-b3994e64af2e\" xlink:type=\"simple\"><polygon fill=\"#FFFFFF\" filter=\"url(#fvlxsz2ijvc3l)\" points=\"56.5,84,91.5,84,98.5,106.2969,105.5,106.2969,105.5,136.5938,56.5,136.5938,56.5,84\" style=\"stroke: #000000; stroke-width: 1.5;\"/><line style=\"stroke: #000000; stroke-width: 1.5;\" x1=\"56.5\" x2=\"98.5\" y1=\"106.2969\" y2=\"106.2969\"/><text fill=\"#000000\" font-family=\"sans-serif\" font-size=\"14\" font-weight=\"bold\" lengthAdjust=\"spacingAndGlyphs\" textLength=\"29\" x=\"60.5\" y=\"98.9951\">P2a</text></a><!--MD5=[a717450b82c80b9240a525fa862496af]\n",
       "link E6 to E3--><a href=\"psysml:4395c2c1-a48a-41da-9561-d3e6647c3ecb\" target=\"_top\" title=\"psysml:4395c2c1-a48a-41da-9561-d3e6647c3ecb\" xlink:actuate=\"onRequest\" xlink:href=\"psysml:4395c2c1-a48a-41da-9561-d3e6647c3ecb\" xlink:show=\"new\" xlink:title=\"psysml:4395c2c1-a48a-41da-9561-d3e6647c3ecb\" xlink:type=\"simple\"><path d=\"M175,133.7 C175,149.89 175,172.27 175,191.49 \" fill=\"none\" id=\"E6-&gt;E3\" style=\"stroke: #A80036; stroke-width: 1.0;\"/><polygon fill=\"#FFFFFF\" points=\"175,211.69,168,192.69,182,192.69,175,211.69\" style=\"stroke: #A80036; stroke-width: 1.0;\"/><ellipse cx=\"170\" cy=\"186.99\" fill=\"#A80036\" rx=\"2\" ry=\"2\" style=\"stroke: #A80036; stroke-width: 1.0;\"/><ellipse cx=\"180\" cy=\"186.99\" fill=\"#A80036\" rx=\"2\" ry=\"2\" style=\"stroke: #A80036; stroke-width: 1.0;\"/></a><!--MD5=[43a26c84e9ecbb2ecba7eb61d83334cd]\n",
       "@startuml\r\n",
       " \r\n",
       "package \"QualifiedNameImportTest\" as E1  [[psysml:d16b9356-f04a-4ff8-b2ae-3864bc76abf1 ]]  {\r\n",
       "package \"P1\" as E2  [[psysml:88b3eb59-bf67-426d-b22b-2d4deb7f4fe0 ]]  {\r\n",
       "comp def \"A\" as E3  << (B,green) >> [[psysml:fd353ea3-6373-455a-afbc-b284741b5a43 ]] {\r\n",
       "}\r\n",
       "}\r\n",
       "package \"P2\" as E4  [[psysml:4523bb13-7dc6-4a64-a848-9d456c6fa329 ]]  {\r\n",
       "package \"P2a\" as E5  [[psysml:afe2db1e-b444-45d6-9b6b-b3994e64af2e ]]  {\r\n",
       "}\r\n",
       "comp usage \"x: A\" as E6  << (P,limegreen) part>> [[psysml:7f169e5b-4536-4f95-b3fb-a54a4bad9234 ]] {\r\n",
       "}\r\n",
       "E6 - -:|> E3 [[psysml:4395c2c1-a48a-41da-9561-d3e6647c3ecb ]] \r\n",
       "}\r\n",
       "}\r\n",
       "@enduml\r\n",
       "\n",
       "PlantUML version 1.2020.13(Sat Jun 13 12:26:38 UTC 2020)\n",
       "(EPL source distribution)\n",
       "Java Runtime: OpenJDK Runtime Environment\n",
       "JVM: OpenJDK 64-Bit Server VM\n",
       "Default Encoding: UTF-8\n",
       "Language: en\n",
       "Country: null\n",
       "--></g></svg>"
      ]
     },
     "execution_count": 31,
     "metadata": {},
     "output_type": "execute_result"
    }
   ],
   "source": [
    "%viz --style=\"PLANTUML\" --view=\"Tree\" \"QualifiedNameImportTest\""
   ]
  },
  {
   "cell_type": "code",
   "execution_count": 32,
   "id": "entertaining-large",
   "metadata": {
    "execution": {
     "iopub.execute_input": "2021-03-25T09:35:26.933416Z",
     "iopub.status.busy": "2021-03-25T09:35:26.932838Z",
     "iopub.status.idle": "2021-03-25T09:35:27.837714Z",
     "shell.execute_reply": "2021-03-25T09:35:27.837304Z"
    }
   },
   "outputs": [
    {
     "data": {
      "image/svg+xml": [
       "<?xml version=\"1.0\" encoding=\"UTF-8\" standalone=\"no\"?><svg xmlns=\"http://www.w3.org/2000/svg\" xmlns:xlink=\"http://www.w3.org/1999/xlink\" contentScriptType=\"application/ecmascript\" contentStyleType=\"text/css\" height=\"303px\" preserveAspectRatio=\"none\" style=\"width:603px;height:303px;background:#000000;\" version=\"1.1\" viewBox=\"0 0 603 303\" width=\"603px\" zoomAndPan=\"magnify\"><defs/><g><rect fill=\"#0D2415\" height=\"1\" style=\"stroke: #0D2415; stroke-width: 1.0;\" width=\"1\" x=\"0\" y=\"0\"/><rect fill=\"#FFFFFF\" height=\"205.5625\" style=\"stroke: #FFFFFF; stroke-width: 1.0;\" width=\"602\" x=\"0\" y=\"0\"/><text fill=\"#000000\" font-family=\"sans-serif\" font-size=\"12\" font-weight=\"bold\" lengthAdjust=\"spacingAndGlyphs\" textLength=\"159\" x=\"5\" y=\"16.1387\">Welcome to PlantUML!</text><text fill=\"#000000\" font-family=\"sans-serif\" font-size=\"12\" lengthAdjust=\"spacingAndGlyphs\" textLength=\"0\" x=\"9\" y=\"30.1074\"/><text fill=\"#000000\" font-family=\"sans-serif\" font-size=\"12\" lengthAdjust=\"spacingAndGlyphs\" textLength=\"293\" x=\"5\" y=\"44.0762\">If you use this software, you accept its license.</text><text fill=\"#000000\" font-family=\"sans-serif\" font-size=\"12\" lengthAdjust=\"spacingAndGlyphs\" textLength=\"107\" x=\"5\" y=\"58.0449\">(details by typing</text><text fill=\"#000000\" font-family=\"monospace\" font-size=\"12\" lengthAdjust=\"spacingAndGlyphs\" textLength=\"49\" x=\"116\" y=\"58.0449\">license</text><text fill=\"#000000\" font-family=\"sans-serif\" font-size=\"12\" lengthAdjust=\"spacingAndGlyphs\" textLength=\"56\" x=\"169\" y=\"58.0449\">keyword)</text><text fill=\"#000000\" font-family=\"sans-serif\" font-size=\"12\" lengthAdjust=\"spacingAndGlyphs\" textLength=\"0\" x=\"9\" y=\"72.0137\"/><text fill=\"#000000\" font-family=\"sans-serif\" font-size=\"12\" lengthAdjust=\"spacingAndGlyphs\" textLength=\"283\" x=\"5\" y=\"85.9824\">You can start with a simple UML Diagram like:</text><text fill=\"#000000\" font-family=\"sans-serif\" font-size=\"12\" lengthAdjust=\"spacingAndGlyphs\" textLength=\"0\" x=\"9\" y=\"99.9512\"/><text fill=\"#000000\" font-family=\"monospace\" font-size=\"12\" lengthAdjust=\"spacingAndGlyphs\" textLength=\"119\" x=\"5\" y=\"113.9199\">Bob-&gt;Alice: Hello</text><text fill=\"#000000\" font-family=\"sans-serif\" font-size=\"12\" lengthAdjust=\"spacingAndGlyphs\" textLength=\"0\" x=\"9\" y=\"127.8887\"/><text fill=\"#000000\" font-family=\"sans-serif\" font-size=\"12\" lengthAdjust=\"spacingAndGlyphs\" textLength=\"14\" x=\"5\" y=\"141.8574\">Or</text><text fill=\"#000000\" font-family=\"sans-serif\" font-size=\"12\" lengthAdjust=\"spacingAndGlyphs\" textLength=\"0\" x=\"9\" y=\"155.8262\"/><text fill=\"#000000\" font-family=\"monospace\" font-size=\"12\" lengthAdjust=\"spacingAndGlyphs\" textLength=\"91\" x=\"5\" y=\"169.7949\">class Example</text><text fill=\"#000000\" font-family=\"sans-serif\" font-size=\"12\" lengthAdjust=\"spacingAndGlyphs\" textLength=\"0\" x=\"9\" y=\"183.7637\"/><text fill=\"#000000\" font-family=\"sans-serif\" font-size=\"12\" lengthAdjust=\"spacingAndGlyphs\" textLength=\"349\" x=\"5\" y=\"197.7324\">You will find more information about PlantUML syntax on</text><text fill=\"#000000\" font-family=\"sans-serif\" font-size=\"12\" lengthAdjust=\"spacingAndGlyphs\" text-decoration=\"underline\" textLength=\"129\" x=\"358\" y=\"197.7324\">https://plantuml.com</text><image height=\"71\" width=\"80\" x=\"516\" xlink:href=\"data:image/png;base64,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\" y=\"6\"/><rect fill=\"#000000\" height=\"96.4844\" style=\"stroke: #000000; stroke-width: 1.0;\" width=\"602\" x=\"0\" y=\"205.5625\"/><rect fill=\"#33FF02\" height=\"21.2969\" style=\"stroke: #33FF02; stroke-width: 1.0;\" width=\"170\" x=\"5\" y=\"210.5625\"/><text fill=\"#000000\" font-family=\"sans-serif\" font-size=\"14\" font-weight=\"bold\" lengthAdjust=\"spacingAndGlyphs\" textLength=\"168\" x=\"6\" y=\"225.5625\">[From string (line 2) ]</text><text fill=\"#33FF02\" font-family=\"sans-serif\" font-size=\"14\" font-weight=\"bold\" lengthAdjust=\"spacingAndGlyphs\" textLength=\"0\" x=\"10\" y=\"245.8594\"/><text fill=\"#33FF02\" font-family=\"sans-serif\" font-size=\"14\" font-weight=\"bold\" lengthAdjust=\"spacingAndGlyphs\" textLength=\"79\" x=\"5\" y=\"262.1563\">@startuml</text><text fill=\"#33FF02\" font-family=\"sans-serif\" font-size=\"14\" font-weight=\"bold\" lengthAdjust=\"spacingAndGlyphs\" textLength=\"0\" x=\"10\" y=\"278.4531\"/><text fill=\"#FF0000\" font-family=\"sans-serif\" font-size=\"14\" font-weight=\"bold\" lengthAdjust=\"spacingAndGlyphs\" textLength=\"142\" x=\"10\" y=\"294.75\">Empty description</text><!--MD5=[f59edd8218d337f74d0c332fc6737304]\n",
       "@startuml\r\n",
       " \r\n",
       "@enduml\r\n",
       "\n",
       "PlantUML version 1.2020.13(Sat Jun 13 12:26:38 UTC 2020)\n",
       "(EPL source distribution)\n",
       "Java Runtime: OpenJDK Runtime Environment\n",
       "JVM: OpenJDK 64-Bit Server VM\n",
       "Default Encoding: UTF-8\n",
       "Language: en\n",
       "Country: null\n",
       "--></g></svg>"
      ]
     },
     "execution_count": 32,
     "metadata": {},
     "output_type": "execute_result"
    }
   ],
   "source": [
    "%viz --style=\"PLANTUML\" --view=\"State\" \"QualifiedNameImportTest\""
   ]
  },
  {
   "cell_type": "code",
   "execution_count": 33,
   "id": "accepting-toolbox",
   "metadata": {
    "execution": {
     "iopub.execute_input": "2021-03-25T09:35:27.889472Z",
     "iopub.status.busy": "2021-03-25T09:35:27.888815Z",
     "iopub.status.idle": "2021-03-25T09:35:27.938083Z",
     "shell.execute_reply": "2021-03-25T09:35:27.936625Z"
    }
   },
   "outputs": [
    {
     "data": {
      "image/svg+xml": [
       "<?xml version=\"1.0\" encoding=\"UTF-8\" standalone=\"no\"?><svg xmlns=\"http://www.w3.org/2000/svg\" xmlns:xlink=\"http://www.w3.org/1999/xlink\" contentScriptType=\"application/ecmascript\" contentStyleType=\"text/css\" height=\"189px\" preserveAspectRatio=\"none\" style=\"width:368px;height:189px;\" version=\"1.1\" viewBox=\"0 0 368 189\" width=\"368px\" zoomAndPan=\"magnify\"><defs><filter height=\"300%\" id=\"f1ps6yv03co17x\" width=\"300%\" x=\"-1\" y=\"-1\"><feGaussianBlur result=\"blurOut\" stdDeviation=\"2.0\"/><feColorMatrix in=\"blurOut\" result=\"blurOut2\" type=\"matrix\" values=\"0 0 0 0 0 0 0 0 0 0 0 0 0 0 0 0 0 0 .4 0\"/><feOffset dx=\"4.0\" dy=\"4.0\" in=\"blurOut2\" result=\"blurOut3\"/><feBlend in=\"SourceGraphic\" in2=\"blurOut3\" mode=\"normal\"/></filter></defs><g><!--MD5=[fbc87193dbaf4d95561dea2c320d4a47]\n",
       "cluster E1--><a href=\"psysml:d16b9356-f04a-4ff8-b2ae-3864bc76abf1\" target=\"_top\" title=\"psysml:d16b9356-f04a-4ff8-b2ae-3864bc76abf1\" xlink:actuate=\"onRequest\" xlink:href=\"psysml:d16b9356-f04a-4ff8-b2ae-3864bc76abf1\" xlink:show=\"new\" xlink:title=\"psysml:d16b9356-f04a-4ff8-b2ae-3864bc76abf1\" xlink:type=\"simple\"><polygon fill=\"#FFFFFF\" filter=\"url(#f1ps6yv03co17x)\" points=\"16,6,221,6,228,28.2969,346,28.2969,346,177,16,177,16,6\" style=\"stroke: #000000; stroke-width: 1.5;\"/><line style=\"stroke: #000000; stroke-width: 1.5;\" x1=\"16\" x2=\"228\" y1=\"28.2969\" y2=\"28.2969\"/><text fill=\"#000000\" font-family=\"sans-serif\" font-size=\"14\" font-weight=\"bold\" lengthAdjust=\"spacingAndGlyphs\" textLength=\"199\" x=\"20\" y=\"20.9951\">QualifiedNameImportTest</text></a><!--MD5=[e4f7fae6ed58524ba242bb0b0d3be6b7]\n",
       "cluster E2--><a href=\"psysml:88b3eb59-bf67-426d-b22b-2d4deb7f4fe0\" target=\"_top\" title=\"psysml:88b3eb59-bf67-426d-b22b-2d4deb7f4fe0\" xlink:actuate=\"onRequest\" xlink:href=\"psysml:88b3eb59-bf67-426d-b22b-2d4deb7f4fe0\" xlink:show=\"new\" xlink:title=\"psysml:88b3eb59-bf67-426d-b22b-2d4deb7f4fe0\" xlink:type=\"simple\"><polygon fill=\"#FFFFFF\" filter=\"url(#f1ps6yv03co17x)\" points=\"240,55.5,266,55.5,273,77.7969,322,77.7969,322,146.5,240,146.5,240,55.5\" style=\"stroke: #000000; stroke-width: 1.5;\"/><line style=\"stroke: #000000; stroke-width: 1.5;\" x1=\"240\" x2=\"273\" y1=\"77.7969\" y2=\"77.7969\"/><text fill=\"#000000\" font-family=\"sans-serif\" font-size=\"14\" font-weight=\"bold\" lengthAdjust=\"spacingAndGlyphs\" textLength=\"20\" x=\"244\" y=\"70.4951\">P1</text></a><!--MD5=[f6df4d0ebaf0b5dfb2ced0ae5af7c670]\n",
       "cluster E4--><a href=\"psysml:4523bb13-7dc6-4a64-a848-9d456c6fa329\" target=\"_top\" title=\"psysml:4523bb13-7dc6-4a64-a848-9d456c6fa329\" xlink:actuate=\"onRequest\" xlink:href=\"psysml:4523bb13-7dc6-4a64-a848-9d456c6fa329\" xlink:show=\"new\" xlink:title=\"psysml:4523bb13-7dc6-4a64-a848-9d456c6fa329\" xlink:type=\"simple\"><polygon fill=\"#FFFFFF\" filter=\"url(#f1ps6yv03co17x)\" points=\"40,49,66,49,73,71.2969,216,71.2969,216,153,40,153,40,49\" style=\"stroke: #000000; stroke-width: 1.5;\"/><line style=\"stroke: #000000; stroke-width: 1.5;\" x1=\"40\" x2=\"73\" y1=\"71.2969\" y2=\"71.2969\"/><text fill=\"#000000\" font-family=\"sans-serif\" font-size=\"14\" font-weight=\"bold\" lengthAdjust=\"spacingAndGlyphs\" textLength=\"20\" x=\"44\" y=\"63.9951\">P2</text></a><g id=\"E1.E2.E3\"><a href=\"psysml:fd353ea3-6373-455a-afbc-b284741b5a43\" target=\"_top\" title=\"psysml:fd353ea3-6373-455a-afbc-b284741b5a43\" xlink:actuate=\"onRequest\" xlink:href=\"psysml:fd353ea3-6373-455a-afbc-b284741b5a43\" xlink:show=\"new\" xlink:title=\"psysml:fd353ea3-6373-455a-afbc-b284741b5a43\" xlink:type=\"simple\"><rect fill=\"#FEFECE\" filter=\"url(#f1ps6yv03co17x)\" height=\"40\" id=\"E3\" style=\"stroke: #A80036; stroke-width: 1.5;\" width=\"50\" x=\"256\" y=\"90.5\"/><ellipse cx=\"275.5\" cy=\"106.5\" fill=\"#008000\" rx=\"11\" ry=\"11\" style=\"stroke: #A80036; stroke-width: 1.0;\"/><path d=\"M274.4063,106.875 L274.4063,110.5469 L276.0313,110.5469 Q277.2031,110.5469 277.6719,110.1563 Q278.1406,109.75 278.1406,108.75 Q278.1406,107.75 277.6406,107.3125 Q277.1563,106.875 276.0313,106.875 L274.4063,106.875 Z M274.4063,102.0469 L274.4063,104.9219 L276.0313,104.9219 Q276.9531,104.9219 277.3438,104.5938 Q277.75,104.25 277.75,103.5 Q277.75,102.7344 277.3438,102.3906 Q276.9375,102.0469 276.0313,102.0469 L274.4063,102.0469 Z M272.0313,100.0938 L276.0313,100.0938 Q278.0938,100.0938 279.1406,100.875 Q280.1875,101.6563 280.1875,103.2188 Q280.1875,104.4219 279.5625,105.0938 Q278.9531,105.7656 277.7656,105.875 Q279.1875,106.0156 279.9063,106.8281 Q280.625,107.6406 280.625,109.0938 Q280.625,110.8906 279.5469,111.7031 Q278.4688,112.5 276.0313,112.5 L272.0313,112.5 L272.0313,100.0938 Z \"/><text fill=\"#000000\" font-family=\"sans-serif\" font-size=\"12\" lengthAdjust=\"spacingAndGlyphs\" textLength=\"8\" x=\"290.5\" y=\"110.6543\">A</text></a></g><a href=\"psysml:afe2db1e-b444-45d6-9b6b-b3994e64af2e\" target=\"_top\" title=\"psysml:afe2db1e-b444-45d6-9b6b-b3994e64af2e\" xlink:actuate=\"onRequest\" xlink:href=\"psysml:afe2db1e-b444-45d6-9b6b-b3994e64af2e\" xlink:show=\"new\" xlink:title=\"psysml:afe2db1e-b444-45d6-9b6b-b3994e64af2e\" xlink:type=\"simple\"><polygon fill=\"#FFFFFF\" filter=\"url(#f1ps6yv03co17x)\" points=\"150.5,84,185.5,84,192.5,106.2969,199.5,106.2969,199.5,136.5938,150.5,136.5938,150.5,84\" style=\"stroke: #000000; stroke-width: 1.5;\"/><line style=\"stroke: #000000; stroke-width: 1.5;\" x1=\"150.5\" x2=\"192.5\" y1=\"106.2969\" y2=\"106.2969\"/><text fill=\"#000000\" font-family=\"sans-serif\" font-size=\"14\" font-weight=\"bold\" lengthAdjust=\"spacingAndGlyphs\" textLength=\"29\" x=\"154.5\" y=\"98.9951\">P2a</text></a><g id=\"E1.E4.E6\"><a href=\"psysml:7f169e5b-4536-4f95-b3fb-a54a4bad9234\" target=\"_top\" title=\"psysml:7f169e5b-4536-4f95-b3fb-a54a4bad9234\" xlink:actuate=\"onRequest\" xlink:href=\"psysml:7f169e5b-4536-4f95-b3fb-a54a4bad9234\" xlink:show=\"new\" xlink:title=\"psysml:7f169e5b-4536-4f95-b3fb-a54a4bad9234\" xlink:type=\"simple\"><rect fill=\"#FEFECE\" filter=\"url(#f1ps6yv03co17x)\" height=\"40\" id=\"E6\" rx=\"10\" ry=\"10\" style=\"stroke: #A80036; stroke-width: 1.5;\" width=\"59\" x=\"56.5\" y=\"90.5\"/><ellipse cx=\"73.75\" cy=\"106.5\" fill=\"#B6DBBB\" rx=\"11\" ry=\"11\" style=\"stroke: #A80036; stroke-width: 1.0;\"/><path d=\"M69.625,108.4219 L69.625,100.6094 L72.0781,100.6094 L72.0781,109.0469 Q72.0781,109.9688 72.5469,110.5 Q73.0313,111.0313 73.8594,111.0313 Q74.7031,111.0313 75.1719,110.5 Q75.6406,109.9688 75.6406,109.0469 L75.6406,100.6094 L78.0938,100.6094 L78.0938,108.4219 Q78.0938,110.9531 77.0938,112.0938 Q76.0938,113.2344 73.8594,113.2344 Q71.6406,113.2344 70.625,112.0938 Q69.625,110.9531 69.625,108.4219 Z \"/><text fill=\"#000000\" font-family=\"sans-serif\" font-size=\"12\" lengthAdjust=\"spacingAndGlyphs\" textLength=\"22\" x=\"88.25\" y=\"110.6543\">x: A</text></a></g><!--MD5=[cf24035a9b84b289e7aee6b9c0f805cb]\n",
       "@startuml\r\n",
       "skinparam ranksep 8\r\n",
       "skinparam rectangle {\r\n",
       " backgroundColor<<block>> LightGreen\r\n",
       "}\r\n",
       " \r\n",
       "package \"QualifiedNameImportTest\" as E1  [[psysml:d16b9356-f04a-4ff8-b2ae-3864bc76abf1 ]]  {\r\n",
       "package \"P1\" as E2  [[psysml:88b3eb59-bf67-426d-b22b-2d4deb7f4fe0 ]]  {\r\n",
       "rec def \"A\" as E3  << (B,green) >> [[psysml:fd353ea3-6373-455a-afbc-b284741b5a43 ]] {\r\n",
       "}\r\n",
       "}\r\n",
       "package \"P2\" as E4  [[psysml:4523bb13-7dc6-4a64-a848-9d456c6fa329 ]]  {\r\n",
       "package \"P2a\" as E5  [[psysml:afe2db1e-b444-45d6-9b6b-b3994e64af2e ]]  {\r\n",
       "}\r\n",
       "rec usage \"x: A\" as E6  [[psysml:7f169e5b-4536-4f95-b3fb-a54a4bad9234 ]] {\r\n",
       "}\r\n",
       "}\r\n",
       "}\r\n",
       "@enduml\r\n",
       "\n",
       "PlantUML version 1.2020.13(Sat Jun 13 12:26:38 UTC 2020)\n",
       "(EPL source distribution)\n",
       "Java Runtime: OpenJDK Runtime Environment\n",
       "JVM: OpenJDK 64-Bit Server VM\n",
       "Default Encoding: UTF-8\n",
       "Language: en\n",
       "Country: null\n",
       "--></g></svg>"
      ]
     },
     "execution_count": 33,
     "metadata": {},
     "output_type": "execute_result"
    }
   ],
   "source": [
    "%viz --style=\"PLANTUML\" --view=\"Interconnection\" \"QualifiedNameImportTest\""
   ]
  },
  {
   "cell_type": "code",
   "execution_count": 34,
   "id": "weekly-notice",
   "metadata": {
    "execution": {
     "iopub.execute_input": "2021-03-25T09:35:27.988807Z",
     "iopub.status.busy": "2021-03-25T09:35:27.988302Z",
     "iopub.status.idle": "2021-03-25T09:35:27.994317Z",
     "shell.execute_reply": "2021-03-25T09:35:27.993875Z"
    }
   },
   "outputs": [
    {
     "data": {
      "image/svg+xml": [
       "<?xml version=\"1.0\" encoding=\"UTF-8\" standalone=\"no\"?><svg xmlns=\"http://www.w3.org/2000/svg\" xmlns:xlink=\"http://www.w3.org/1999/xlink\" contentScriptType=\"application/ecmascript\" contentStyleType=\"text/css\" height=\"12px\" preserveAspectRatio=\"none\" style=\"width:12px;height:12px;\" version=\"1.1\" viewBox=\"0 0 12 12\" width=\"12px\" zoomAndPan=\"magnify\"><defs/><g><!--MD5=[6a4cb978cab31700e1ce5529f947a75d]\n",
       "@startuml\r\n",
       "skinparam ranksep 8\r\n",
       " \r\n",
       "@enduml\r\n",
       "\n",
       "PlantUML version 1.2020.13(Sat Jun 13 12:26:38 UTC 2020)\n",
       "(EPL source distribution)\n",
       "Java Runtime: OpenJDK Runtime Environment\n",
       "JVM: OpenJDK 64-Bit Server VM\n",
       "Default Encoding: UTF-8\n",
       "Language: en\n",
       "Country: null\n",
       "--></g></svg>"
      ]
     },
     "execution_count": 34,
     "metadata": {},
     "output_type": "execute_result"
    }
   ],
   "source": [
    "%viz --style=\"PLANTUML\" --view=\"Action\" \"QualifiedNameImportTest\""
   ]
  },
  {
   "cell_type": "code",
   "execution_count": 35,
   "id": "given-schema",
   "metadata": {
    "execution": {
     "iopub.execute_input": "2021-03-25T09:35:28.045777Z",
     "iopub.status.busy": "2021-03-25T09:35:28.045006Z",
     "iopub.status.idle": "2021-03-25T09:35:28.099771Z",
     "shell.execute_reply": "2021-03-25T09:35:28.098393Z"
    }
   },
   "outputs": [
    {
     "data": {
      "image/svg+xml": [
       "<?xml version=\"1.0\" encoding=\"UTF-8\" standalone=\"no\"?><svg xmlns=\"http://www.w3.org/2000/svg\" xmlns:xlink=\"http://www.w3.org/1999/xlink\" contentScriptType=\"application/ecmascript\" contentStyleType=\"text/css\" height=\"304px\" preserveAspectRatio=\"none\" style=\"width:271px;height:304px;\" version=\"1.1\" viewBox=\"0 0 271 304\" width=\"271px\" zoomAndPan=\"magnify\"><defs><filter height=\"300%\" id=\"fvlxsz2ijvc3l\" width=\"300%\" x=\"-1\" y=\"-1\"><feGaussianBlur result=\"blurOut\" stdDeviation=\"2.0\"/><feColorMatrix in=\"blurOut\" result=\"blurOut2\" type=\"matrix\" values=\"0 0 0 0 0 0 0 0 0 0 0 0 0 0 0 0 0 0 .4 0\"/><feOffset dx=\"4.0\" dy=\"4.0\" in=\"blurOut2\" result=\"blurOut3\"/><feBlend in=\"SourceGraphic\" in2=\"blurOut3\" mode=\"normal\"/></filter></defs><g><!--MD5=[fbc87193dbaf4d95561dea2c320d4a47]\n",
       "cluster E1--><a href=\"psysml:d16b9356-f04a-4ff8-b2ae-3864bc76abf1\" target=\"_top\" title=\"psysml:d16b9356-f04a-4ff8-b2ae-3864bc76abf1\" xlink:actuate=\"onRequest\" xlink:href=\"psysml:d16b9356-f04a-4ff8-b2ae-3864bc76abf1\" xlink:show=\"new\" xlink:title=\"psysml:d16b9356-f04a-4ff8-b2ae-3864bc76abf1\" xlink:type=\"simple\"><polygon fill=\"#FFFFFF\" filter=\"url(#fvlxsz2ijvc3l)\" points=\"16,6,221,6,228,28.2969,249,28.2969,249,292,16,292,16,6\" style=\"stroke: #000000; stroke-width: 1.5;\"/><line style=\"stroke: #000000; stroke-width: 1.5;\" x1=\"16\" x2=\"228\" y1=\"28.2969\" y2=\"28.2969\"/><text fill=\"#000000\" font-family=\"sans-serif\" font-size=\"14\" font-weight=\"bold\" lengthAdjust=\"spacingAndGlyphs\" textLength=\"199\" x=\"20\" y=\"20.9951\">QualifiedNameImportTest</text></a><!--MD5=[e4f7fae6ed58524ba242bb0b0d3be6b7]\n",
       "cluster E2--><a href=\"psysml:88b3eb59-bf67-426d-b22b-2d4deb7f4fe0\" target=\"_top\" title=\"psysml:88b3eb59-bf67-426d-b22b-2d4deb7f4fe0\" xlink:actuate=\"onRequest\" xlink:href=\"psysml:88b3eb59-bf67-426d-b22b-2d4deb7f4fe0\" xlink:show=\"new\" xlink:title=\"psysml:88b3eb59-bf67-426d-b22b-2d4deb7f4fe0\" xlink:type=\"simple\"><polygon fill=\"#FFFFFF\" filter=\"url(#fvlxsz2ijvc3l)\" points=\"139,177,165,177,172,199.2969,211,199.2969,211,268,139,268,139,177\" style=\"stroke: #000000; stroke-width: 1.5;\"/><line style=\"stroke: #000000; stroke-width: 1.5;\" x1=\"139\" x2=\"172\" y1=\"199.2969\" y2=\"199.2969\"/><text fill=\"#000000\" font-family=\"sans-serif\" font-size=\"14\" font-weight=\"bold\" lengthAdjust=\"spacingAndGlyphs\" textLength=\"20\" x=\"143\" y=\"191.9951\">P1</text></a><!--MD5=[f6df4d0ebaf0b5dfb2ced0ae5af7c670]\n",
       "cluster E4--><a href=\"psysml:4523bb13-7dc6-4a64-a848-9d456c6fa329\" target=\"_top\" title=\"psysml:4523bb13-7dc6-4a64-a848-9d456c6fa329\" xlink:actuate=\"onRequest\" xlink:href=\"psysml:4523bb13-7dc6-4a64-a848-9d456c6fa329\" xlink:show=\"new\" xlink:title=\"psysml:4523bb13-7dc6-4a64-a848-9d456c6fa329\" xlink:type=\"simple\"><polygon fill=\"#FFFFFF\" filter=\"url(#fvlxsz2ijvc3l)\" points=\"40,49,66,49,73,71.2969,225,71.2969,225,153,40,153,40,49\" style=\"stroke: #000000; stroke-width: 1.5;\"/><line style=\"stroke: #000000; stroke-width: 1.5;\" x1=\"40\" x2=\"73\" y1=\"71.2969\" y2=\"71.2969\"/><text fill=\"#000000\" font-family=\"sans-serif\" font-size=\"14\" font-weight=\"bold\" lengthAdjust=\"spacingAndGlyphs\" textLength=\"20\" x=\"44\" y=\"63.9951\">P2</text></a><!--MD5=[09b614a08d8cba4a07c9adeb5e0fee81]\n",
       "class E3--><a href=\"psysml:fd353ea3-6373-455a-afbc-b284741b5a43\" target=\"_top\" title=\"psysml:fd353ea3-6373-455a-afbc-b284741b5a43\" xlink:actuate=\"onRequest\" xlink:href=\"psysml:fd353ea3-6373-455a-afbc-b284741b5a43\" xlink:show=\"new\" xlink:title=\"psysml:fd353ea3-6373-455a-afbc-b284741b5a43\" xlink:type=\"simple\"><rect fill=\"#FEFECE\" filter=\"url(#fvlxsz2ijvc3l)\" height=\"40\" id=\"E3\" style=\"stroke: #A80036; stroke-width: 1.5;\" width=\"40\" x=\"155\" y=\"212\"/><ellipse cx=\"170\" cy=\"228\" fill=\"#008000\" rx=\"11\" ry=\"11\" style=\"stroke: #A80036; stroke-width: 1.0;\"/><path d=\"M168.9063,228.375 L168.9063,232.0469 L170.5313,232.0469 Q171.7031,232.0469 172.1719,231.6563 Q172.6406,231.25 172.6406,230.25 Q172.6406,229.25 172.1406,228.8125 Q171.6563,228.375 170.5313,228.375 L168.9063,228.375 Z M168.9063,223.5469 L168.9063,226.4219 L170.5313,226.4219 Q171.4531,226.4219 171.8438,226.0938 Q172.25,225.75 172.25,225 Q172.25,224.2344 171.8438,223.8906 Q171.4375,223.5469 170.5313,223.5469 L168.9063,223.5469 Z M166.5313,221.5938 L170.5313,221.5938 Q172.5938,221.5938 173.6406,222.375 Q174.6875,223.1563 174.6875,224.7188 Q174.6875,225.9219 174.0625,226.5938 Q173.4531,227.2656 172.2656,227.375 Q173.6875,227.5156 174.4063,228.3281 Q175.125,229.1406 175.125,230.5938 Q175.125,232.3906 174.0469,233.2031 Q172.9688,234 170.5313,234 L166.5313,234 L166.5313,221.5938 Z \"/><text fill=\"#000000\" font-family=\"sans-serif\" font-size=\"12\" lengthAdjust=\"spacingAndGlyphs\" textLength=\"8\" x=\"184\" y=\"232.1543\">A</text><line style=\"stroke: #A80036; stroke-width: 1.5;\" x1=\"156\" x2=\"194\" y1=\"244\" y2=\"244\"/></a><!--MD5=[60a26617385b1d2d0262a64233df1f8d]\n",
       "class E6--><a href=\"psysml:7f169e5b-4536-4f95-b3fb-a54a4bad9234\" target=\"_top\" title=\"psysml:7f169e5b-4536-4f95-b3fb-a54a4bad9234\" xlink:actuate=\"onRequest\" xlink:href=\"psysml:7f169e5b-4536-4f95-b3fb-a54a4bad9234\" xlink:show=\"new\" xlink:title=\"psysml:7f169e5b-4536-4f95-b3fb-a54a4bad9234\" xlink:type=\"simple\"><rect fill=\"#FEFECE\" filter=\"url(#fvlxsz2ijvc3l)\" height=\"45.9375\" id=\"E6\" rx=\"10\" ry=\"10\" style=\"stroke: #A80036; stroke-width: 1.5;\" width=\"68\" x=\"141\" y=\"87.5\"/><ellipse cx=\"156\" cy=\"106.4688\" fill=\"#32CD32\" rx=\"11\" ry=\"11\" style=\"stroke: #A80036; stroke-width: 1.0;\"/><path d=\"M155.7969,102.1406 L155.7969,105.7656 L156.7969,105.7656 Q158,105.7656 158.4844,105.3594 Q158.9688,104.9531 158.9688,103.9531 Q158.9688,102.9531 158.4844,102.5469 Q158,102.1406 156.7969,102.1406 L155.7969,102.1406 Z M153.3438,100.0781 L156.7031,100.0781 Q159.2656,100.0781 160.3906,101 Q161.5156,101.9063 161.5156,103.9531 Q161.5156,106 160.3906,106.9219 Q159.2656,107.8281 156.7031,107.8281 L155.7969,107.8281 L155.7969,112.4688 L153.3438,112.4688 L153.3438,100.0781 Z \"/><text fill=\"#000000\" font-family=\"sans-serif\" font-size=\"12\" font-style=\"italic\" lengthAdjust=\"spacingAndGlyphs\" textLength=\"40\" x=\"168\" y=\"103.6387\">«part»</text><text fill=\"#000000\" font-family=\"sans-serif\" font-size=\"12\" lengthAdjust=\"spacingAndGlyphs\" textLength=\"22\" x=\"177\" y=\"117.6074\">x: A</text><line style=\"stroke: #A80036; stroke-width: 1.5;\" x1=\"142\" x2=\"208\" y1=\"125.4375\" y2=\"125.4375\"/></a><a href=\"psysml:afe2db1e-b444-45d6-9b6b-b3994e64af2e\" target=\"_top\" title=\"psysml:afe2db1e-b444-45d6-9b6b-b3994e64af2e\" xlink:actuate=\"onRequest\" xlink:href=\"psysml:afe2db1e-b444-45d6-9b6b-b3994e64af2e\" xlink:show=\"new\" xlink:title=\"psysml:afe2db1e-b444-45d6-9b6b-b3994e64af2e\" xlink:type=\"simple\"><polygon fill=\"#FFFFFF\" filter=\"url(#fvlxsz2ijvc3l)\" points=\"56.5,84,91.5,84,98.5,106.2969,105.5,106.2969,105.5,136.5938,56.5,136.5938,56.5,84\" style=\"stroke: #000000; stroke-width: 1.5;\"/><line style=\"stroke: #000000; stroke-width: 1.5;\" x1=\"56.5\" x2=\"98.5\" y1=\"106.2969\" y2=\"106.2969\"/><text fill=\"#000000\" font-family=\"sans-serif\" font-size=\"14\" font-weight=\"bold\" lengthAdjust=\"spacingAndGlyphs\" textLength=\"29\" x=\"60.5\" y=\"98.9951\">P2a</text></a><!--MD5=[a717450b82c80b9240a525fa862496af]\n",
       "link E6 to E3--><a href=\"psysml:4395c2c1-a48a-41da-9561-d3e6647c3ecb\" target=\"_top\" title=\"psysml:4395c2c1-a48a-41da-9561-d3e6647c3ecb\" xlink:actuate=\"onRequest\" xlink:href=\"psysml:4395c2c1-a48a-41da-9561-d3e6647c3ecb\" xlink:show=\"new\" xlink:title=\"psysml:4395c2c1-a48a-41da-9561-d3e6647c3ecb\" xlink:type=\"simple\"><path d=\"M175,133.7 C175,149.89 175,172.27 175,191.49 \" fill=\"none\" id=\"E6-&gt;E3\" style=\"stroke: #A80036; stroke-width: 1.0;\"/><polygon fill=\"#FFFFFF\" points=\"175,211.69,168,192.69,182,192.69,175,211.69\" style=\"stroke: #A80036; stroke-width: 1.0;\"/><ellipse cx=\"170\" cy=\"186.99\" fill=\"#A80036\" rx=\"2\" ry=\"2\" style=\"stroke: #A80036; stroke-width: 1.0;\"/><ellipse cx=\"180\" cy=\"186.99\" fill=\"#A80036\" rx=\"2\" ry=\"2\" style=\"stroke: #A80036; stroke-width: 1.0;\"/></a><!--MD5=[43a26c84e9ecbb2ecba7eb61d83334cd]\n",
       "@startuml\r\n",
       " \r\n",
       "package \"QualifiedNameImportTest\" as E1  [[psysml:d16b9356-f04a-4ff8-b2ae-3864bc76abf1 ]]  {\r\n",
       "package \"P1\" as E2  [[psysml:88b3eb59-bf67-426d-b22b-2d4deb7f4fe0 ]]  {\r\n",
       "comp def \"A\" as E3  << (B,green) >> [[psysml:fd353ea3-6373-455a-afbc-b284741b5a43 ]] {\r\n",
       "}\r\n",
       "}\r\n",
       "package \"P2\" as E4  [[psysml:4523bb13-7dc6-4a64-a848-9d456c6fa329 ]]  {\r\n",
       "package \"P2a\" as E5  [[psysml:afe2db1e-b444-45d6-9b6b-b3994e64af2e ]]  {\r\n",
       "}\r\n",
       "comp usage \"x: A\" as E6  << (P,limegreen) part>> [[psysml:7f169e5b-4536-4f95-b3fb-a54a4bad9234 ]] {\r\n",
       "}\r\n",
       "E6 - -:|> E3 [[psysml:4395c2c1-a48a-41da-9561-d3e6647c3ecb ]] \r\n",
       "}\r\n",
       "}\r\n",
       "@enduml\r\n",
       "\n",
       "PlantUML version 1.2020.13(Sat Jun 13 12:26:38 UTC 2020)\n",
       "(EPL source distribution)\n",
       "Java Runtime: OpenJDK Runtime Environment\n",
       "JVM: OpenJDK 64-Bit Server VM\n",
       "Default Encoding: UTF-8\n",
       "Language: en\n",
       "Country: null\n",
       "--></g></svg>"
      ]
     },
     "execution_count": 35,
     "metadata": {},
     "output_type": "execute_result"
    }
   ],
   "source": [
    "%viz --style=\"PLANTUML\" --view=\"Sequence\" \"QualifiedNameImportTest\""
   ]
  },
  {
   "cell_type": "code",
   "execution_count": 36,
   "id": "broad-domestic",
   "metadata": {
    "execution": {
     "iopub.execute_input": "2021-03-25T09:35:28.151928Z",
     "iopub.status.busy": "2021-03-25T09:35:28.151340Z",
     "iopub.status.idle": "2021-03-25T09:35:28.202214Z",
     "shell.execute_reply": "2021-03-25T09:35:28.200878Z"
    }
   },
   "outputs": [
    {
     "data": {
      "image/svg+xml": [
       "<?xml version=\"1.0\" encoding=\"UTF-8\" standalone=\"no\"?><svg xmlns=\"http://www.w3.org/2000/svg\" xmlns:xlink=\"http://www.w3.org/1999/xlink\" contentScriptType=\"application/ecmascript\" contentStyleType=\"text/css\" height=\"304px\" preserveAspectRatio=\"none\" style=\"width:271px;height:304px;\" version=\"1.1\" viewBox=\"0 0 271 304\" width=\"271px\" zoomAndPan=\"magnify\"><defs><filter height=\"300%\" id=\"fvlxsz2ijvc3l\" width=\"300%\" x=\"-1\" y=\"-1\"><feGaussianBlur result=\"blurOut\" stdDeviation=\"2.0\"/><feColorMatrix in=\"blurOut\" result=\"blurOut2\" type=\"matrix\" values=\"0 0 0 0 0 0 0 0 0 0 0 0 0 0 0 0 0 0 .4 0\"/><feOffset dx=\"4.0\" dy=\"4.0\" in=\"blurOut2\" result=\"blurOut3\"/><feBlend in=\"SourceGraphic\" in2=\"blurOut3\" mode=\"normal\"/></filter></defs><g><!--MD5=[fbc87193dbaf4d95561dea2c320d4a47]\n",
       "cluster E1--><a href=\"psysml:d16b9356-f04a-4ff8-b2ae-3864bc76abf1\" target=\"_top\" title=\"psysml:d16b9356-f04a-4ff8-b2ae-3864bc76abf1\" xlink:actuate=\"onRequest\" xlink:href=\"psysml:d16b9356-f04a-4ff8-b2ae-3864bc76abf1\" xlink:show=\"new\" xlink:title=\"psysml:d16b9356-f04a-4ff8-b2ae-3864bc76abf1\" xlink:type=\"simple\"><polygon fill=\"#FFFFFF\" filter=\"url(#fvlxsz2ijvc3l)\" points=\"16,6,221,6,228,28.2969,249,28.2969,249,292,16,292,16,6\" style=\"stroke: #000000; stroke-width: 1.5;\"/><line style=\"stroke: #000000; stroke-width: 1.5;\" x1=\"16\" x2=\"228\" y1=\"28.2969\" y2=\"28.2969\"/><text fill=\"#000000\" font-family=\"sans-serif\" font-size=\"14\" font-weight=\"bold\" lengthAdjust=\"spacingAndGlyphs\" textLength=\"199\" x=\"20\" y=\"20.9951\">QualifiedNameImportTest</text></a><!--MD5=[e4f7fae6ed58524ba242bb0b0d3be6b7]\n",
       "cluster E2--><a href=\"psysml:88b3eb59-bf67-426d-b22b-2d4deb7f4fe0\" target=\"_top\" title=\"psysml:88b3eb59-bf67-426d-b22b-2d4deb7f4fe0\" xlink:actuate=\"onRequest\" xlink:href=\"psysml:88b3eb59-bf67-426d-b22b-2d4deb7f4fe0\" xlink:show=\"new\" xlink:title=\"psysml:88b3eb59-bf67-426d-b22b-2d4deb7f4fe0\" xlink:type=\"simple\"><polygon fill=\"#FFFFFF\" filter=\"url(#fvlxsz2ijvc3l)\" points=\"139,177,165,177,172,199.2969,211,199.2969,211,268,139,268,139,177\" style=\"stroke: #000000; stroke-width: 1.5;\"/><line style=\"stroke: #000000; stroke-width: 1.5;\" x1=\"139\" x2=\"172\" y1=\"199.2969\" y2=\"199.2969\"/><text fill=\"#000000\" font-family=\"sans-serif\" font-size=\"14\" font-weight=\"bold\" lengthAdjust=\"spacingAndGlyphs\" textLength=\"20\" x=\"143\" y=\"191.9951\">P1</text></a><!--MD5=[f6df4d0ebaf0b5dfb2ced0ae5af7c670]\n",
       "cluster E4--><a href=\"psysml:4523bb13-7dc6-4a64-a848-9d456c6fa329\" target=\"_top\" title=\"psysml:4523bb13-7dc6-4a64-a848-9d456c6fa329\" xlink:actuate=\"onRequest\" xlink:href=\"psysml:4523bb13-7dc6-4a64-a848-9d456c6fa329\" xlink:show=\"new\" xlink:title=\"psysml:4523bb13-7dc6-4a64-a848-9d456c6fa329\" xlink:type=\"simple\"><polygon fill=\"#FFFFFF\" filter=\"url(#fvlxsz2ijvc3l)\" points=\"40,49,66,49,73,71.2969,225,71.2969,225,153,40,153,40,49\" style=\"stroke: #000000; stroke-width: 1.5;\"/><line style=\"stroke: #000000; stroke-width: 1.5;\" x1=\"40\" x2=\"73\" y1=\"71.2969\" y2=\"71.2969\"/><text fill=\"#000000\" font-family=\"sans-serif\" font-size=\"14\" font-weight=\"bold\" lengthAdjust=\"spacingAndGlyphs\" textLength=\"20\" x=\"44\" y=\"63.9951\">P2</text></a><!--MD5=[09b614a08d8cba4a07c9adeb5e0fee81]\n",
       "class E3--><a href=\"psysml:fd353ea3-6373-455a-afbc-b284741b5a43\" target=\"_top\" title=\"psysml:fd353ea3-6373-455a-afbc-b284741b5a43\" xlink:actuate=\"onRequest\" xlink:href=\"psysml:fd353ea3-6373-455a-afbc-b284741b5a43\" xlink:show=\"new\" xlink:title=\"psysml:fd353ea3-6373-455a-afbc-b284741b5a43\" xlink:type=\"simple\"><rect fill=\"#FEFECE\" filter=\"url(#fvlxsz2ijvc3l)\" height=\"40\" id=\"E3\" style=\"stroke: #A80036; stroke-width: 1.5;\" width=\"40\" x=\"155\" y=\"212\"/><ellipse cx=\"170\" cy=\"228\" fill=\"#008000\" rx=\"11\" ry=\"11\" style=\"stroke: #A80036; stroke-width: 1.0;\"/><path d=\"M168.9063,228.375 L168.9063,232.0469 L170.5313,232.0469 Q171.7031,232.0469 172.1719,231.6563 Q172.6406,231.25 172.6406,230.25 Q172.6406,229.25 172.1406,228.8125 Q171.6563,228.375 170.5313,228.375 L168.9063,228.375 Z M168.9063,223.5469 L168.9063,226.4219 L170.5313,226.4219 Q171.4531,226.4219 171.8438,226.0938 Q172.25,225.75 172.25,225 Q172.25,224.2344 171.8438,223.8906 Q171.4375,223.5469 170.5313,223.5469 L168.9063,223.5469 Z M166.5313,221.5938 L170.5313,221.5938 Q172.5938,221.5938 173.6406,222.375 Q174.6875,223.1563 174.6875,224.7188 Q174.6875,225.9219 174.0625,226.5938 Q173.4531,227.2656 172.2656,227.375 Q173.6875,227.5156 174.4063,228.3281 Q175.125,229.1406 175.125,230.5938 Q175.125,232.3906 174.0469,233.2031 Q172.9688,234 170.5313,234 L166.5313,234 L166.5313,221.5938 Z \"/><text fill=\"#000000\" font-family=\"sans-serif\" font-size=\"12\" lengthAdjust=\"spacingAndGlyphs\" textLength=\"8\" x=\"184\" y=\"232.1543\">A</text><line style=\"stroke: #A80036; stroke-width: 1.5;\" x1=\"156\" x2=\"194\" y1=\"244\" y2=\"244\"/></a><!--MD5=[60a26617385b1d2d0262a64233df1f8d]\n",
       "class E6--><a href=\"psysml:7f169e5b-4536-4f95-b3fb-a54a4bad9234\" target=\"_top\" title=\"psysml:7f169e5b-4536-4f95-b3fb-a54a4bad9234\" xlink:actuate=\"onRequest\" xlink:href=\"psysml:7f169e5b-4536-4f95-b3fb-a54a4bad9234\" xlink:show=\"new\" xlink:title=\"psysml:7f169e5b-4536-4f95-b3fb-a54a4bad9234\" xlink:type=\"simple\"><rect fill=\"#FEFECE\" filter=\"url(#fvlxsz2ijvc3l)\" height=\"45.9375\" id=\"E6\" rx=\"10\" ry=\"10\" style=\"stroke: #A80036; stroke-width: 1.5;\" width=\"68\" x=\"141\" y=\"87.5\"/><ellipse cx=\"156\" cy=\"106.4688\" fill=\"#32CD32\" rx=\"11\" ry=\"11\" style=\"stroke: #A80036; stroke-width: 1.0;\"/><path d=\"M155.7969,102.1406 L155.7969,105.7656 L156.7969,105.7656 Q158,105.7656 158.4844,105.3594 Q158.9688,104.9531 158.9688,103.9531 Q158.9688,102.9531 158.4844,102.5469 Q158,102.1406 156.7969,102.1406 L155.7969,102.1406 Z M153.3438,100.0781 L156.7031,100.0781 Q159.2656,100.0781 160.3906,101 Q161.5156,101.9063 161.5156,103.9531 Q161.5156,106 160.3906,106.9219 Q159.2656,107.8281 156.7031,107.8281 L155.7969,107.8281 L155.7969,112.4688 L153.3438,112.4688 L153.3438,100.0781 Z \"/><text fill=\"#000000\" font-family=\"sans-serif\" font-size=\"12\" font-style=\"italic\" lengthAdjust=\"spacingAndGlyphs\" textLength=\"40\" x=\"168\" y=\"103.6387\">«part»</text><text fill=\"#000000\" font-family=\"sans-serif\" font-size=\"12\" lengthAdjust=\"spacingAndGlyphs\" textLength=\"22\" x=\"177\" y=\"117.6074\">x: A</text><line style=\"stroke: #A80036; stroke-width: 1.5;\" x1=\"142\" x2=\"208\" y1=\"125.4375\" y2=\"125.4375\"/></a><a href=\"psysml:afe2db1e-b444-45d6-9b6b-b3994e64af2e\" target=\"_top\" title=\"psysml:afe2db1e-b444-45d6-9b6b-b3994e64af2e\" xlink:actuate=\"onRequest\" xlink:href=\"psysml:afe2db1e-b444-45d6-9b6b-b3994e64af2e\" xlink:show=\"new\" xlink:title=\"psysml:afe2db1e-b444-45d6-9b6b-b3994e64af2e\" xlink:type=\"simple\"><polygon fill=\"#FFFFFF\" filter=\"url(#fvlxsz2ijvc3l)\" points=\"56.5,84,91.5,84,98.5,106.2969,105.5,106.2969,105.5,136.5938,56.5,136.5938,56.5,84\" style=\"stroke: #000000; stroke-width: 1.5;\"/><line style=\"stroke: #000000; stroke-width: 1.5;\" x1=\"56.5\" x2=\"98.5\" y1=\"106.2969\" y2=\"106.2969\"/><text fill=\"#000000\" font-family=\"sans-serif\" font-size=\"14\" font-weight=\"bold\" lengthAdjust=\"spacingAndGlyphs\" textLength=\"29\" x=\"60.5\" y=\"98.9951\">P2a</text></a><!--MD5=[a717450b82c80b9240a525fa862496af]\n",
       "link E6 to E3--><a href=\"psysml:4395c2c1-a48a-41da-9561-d3e6647c3ecb\" target=\"_top\" title=\"psysml:4395c2c1-a48a-41da-9561-d3e6647c3ecb\" xlink:actuate=\"onRequest\" xlink:href=\"psysml:4395c2c1-a48a-41da-9561-d3e6647c3ecb\" xlink:show=\"new\" xlink:title=\"psysml:4395c2c1-a48a-41da-9561-d3e6647c3ecb\" xlink:type=\"simple\"><path d=\"M175,133.7 C175,149.89 175,172.27 175,191.49 \" fill=\"none\" id=\"E6-&gt;E3\" style=\"stroke: #A80036; stroke-width: 1.0;\"/><polygon fill=\"#FFFFFF\" points=\"175,211.69,168,192.69,182,192.69,175,211.69\" style=\"stroke: #A80036; stroke-width: 1.0;\"/><ellipse cx=\"170\" cy=\"186.99\" fill=\"#A80036\" rx=\"2\" ry=\"2\" style=\"stroke: #A80036; stroke-width: 1.0;\"/><ellipse cx=\"180\" cy=\"186.99\" fill=\"#A80036\" rx=\"2\" ry=\"2\" style=\"stroke: #A80036; stroke-width: 1.0;\"/></a><!--MD5=[43a26c84e9ecbb2ecba7eb61d83334cd]\n",
       "@startuml\r\n",
       " \r\n",
       "package \"QualifiedNameImportTest\" as E1  [[psysml:d16b9356-f04a-4ff8-b2ae-3864bc76abf1 ]]  {\r\n",
       "package \"P1\" as E2  [[psysml:88b3eb59-bf67-426d-b22b-2d4deb7f4fe0 ]]  {\r\n",
       "comp def \"A\" as E3  << (B,green) >> [[psysml:fd353ea3-6373-455a-afbc-b284741b5a43 ]] {\r\n",
       "}\r\n",
       "}\r\n",
       "package \"P2\" as E4  [[psysml:4523bb13-7dc6-4a64-a848-9d456c6fa329 ]]  {\r\n",
       "package \"P2a\" as E5  [[psysml:afe2db1e-b444-45d6-9b6b-b3994e64af2e ]]  {\r\n",
       "}\r\n",
       "comp usage \"x: A\" as E6  << (P,limegreen) part>> [[psysml:7f169e5b-4536-4f95-b3fb-a54a4bad9234 ]] {\r\n",
       "}\r\n",
       "E6 - -:|> E3 [[psysml:4395c2c1-a48a-41da-9561-d3e6647c3ecb ]] \r\n",
       "}\r\n",
       "}\r\n",
       "@enduml\r\n",
       "\n",
       "PlantUML version 1.2020.13(Sat Jun 13 12:26:38 UTC 2020)\n",
       "(EPL source distribution)\n",
       "Java Runtime: OpenJDK Runtime Environment\n",
       "JVM: OpenJDK 64-Bit Server VM\n",
       "Default Encoding: UTF-8\n",
       "Language: en\n",
       "Country: null\n",
       "--></g></svg>"
      ]
     },
     "execution_count": 36,
     "metadata": {},
     "output_type": "execute_result"
    }
   ],
   "source": [
    "%viz --style=\"PLANTUML\" --view=\"MIXED\" \"QualifiedNameImportTest\""
   ]
  },
  {
   "cell_type": "code",
   "execution_count": 37,
   "id": "biological-liechtenstein",
   "metadata": {
    "execution": {
     "iopub.execute_input": "2021-03-25T09:35:28.253677Z",
     "iopub.status.busy": "2021-03-25T09:35:28.253065Z",
     "iopub.status.idle": "2021-03-25T09:35:28.312009Z",
     "shell.execute_reply": "2021-03-25T09:35:28.310662Z"
    }
   },
   "outputs": [
    {
     "data": {
      "image/svg+xml": [
       "<?xml version=\"1.0\" encoding=\"UTF-8\" standalone=\"no\"?><svg xmlns=\"http://www.w3.org/2000/svg\" xmlns:xlink=\"http://www.w3.org/1999/xlink\" contentScriptType=\"application/ecmascript\" contentStyleType=\"text/css\" height=\"310px\" preserveAspectRatio=\"none\" style=\"width:253px;height:310px;\" version=\"1.1\" viewBox=\"0 0 253 310\" width=\"253px\" zoomAndPan=\"magnify\"><defs/><g><!--MD5=[fbc87193dbaf4d95561dea2c320d4a47]\n",
       "cluster E1--><a href=\"psysml:d16b9356-f04a-4ff8-b2ae-3864bc76abf1\" target=\"_top\" title=\"psysml:d16b9356-f04a-4ff8-b2ae-3864bc76abf1\" xlink:actuate=\"onRequest\" xlink:href=\"psysml:d16b9356-f04a-4ff8-b2ae-3864bc76abf1\" xlink:show=\"new\" xlink:title=\"psysml:d16b9356-f04a-4ff8-b2ae-3864bc76abf1\" xlink:type=\"simple\"><polygon fill=\"#FFFFFF\" points=\"16,6,221,6,228,28.2969,231,28.2969,231,298,16,298,16,6\" style=\"stroke: #000000; stroke-width: 1.5;\"/><line style=\"stroke: #000000; stroke-width: 1.5;\" x1=\"16\" x2=\"228\" y1=\"28.2969\" y2=\"28.2969\"/><text fill=\"#000000\" font-family=\"sans-serif\" font-size=\"14\" font-weight=\"bold\" lengthAdjust=\"spacingAndGlyphs\" textLength=\"199\" x=\"20\" y=\"20.9951\">QualifiedNameImportTest</text></a><!--MD5=[e4f7fae6ed58524ba242bb0b0d3be6b7]\n",
       "cluster E2--><a href=\"psysml:88b3eb59-bf67-426d-b22b-2d4deb7f4fe0\" target=\"_top\" title=\"psysml:88b3eb59-bf67-426d-b22b-2d4deb7f4fe0\" xlink:actuate=\"onRequest\" xlink:href=\"psysml:88b3eb59-bf67-426d-b22b-2d4deb7f4fe0\" xlink:show=\"new\" xlink:title=\"psysml:88b3eb59-bf67-426d-b22b-2d4deb7f4fe0\" xlink:type=\"simple\"><polygon fill=\"#FFFFFF\" points=\"105,177,131,177,138,199.2969,203,199.2969,203,274,105,274,105,177\" style=\"stroke: #000000; stroke-width: 1.5;\"/><line style=\"stroke: #000000; stroke-width: 1.5;\" x1=\"105\" x2=\"138\" y1=\"199.2969\" y2=\"199.2969\"/><text fill=\"#000000\" font-family=\"sans-serif\" font-size=\"14\" font-weight=\"bold\" lengthAdjust=\"spacingAndGlyphs\" textLength=\"20\" x=\"109\" y=\"191.9951\">P1</text></a><!--MD5=[f6df4d0ebaf0b5dfb2ced0ae5af7c670]\n",
       "cluster E4--><a href=\"psysml:4523bb13-7dc6-4a64-a848-9d456c6fa329\" target=\"_top\" title=\"psysml:4523bb13-7dc6-4a64-a848-9d456c6fa329\" xlink:actuate=\"onRequest\" xlink:href=\"psysml:4523bb13-7dc6-4a64-a848-9d456c6fa329\" xlink:show=\"new\" xlink:title=\"psysml:4523bb13-7dc6-4a64-a848-9d456c6fa329\" xlink:type=\"simple\"><polygon fill=\"#FFFFFF\" points=\"44,49,70,49,77,71.2969,203,71.2969,203,153,44,153,44,49\" style=\"stroke: #000000; stroke-width: 1.5;\"/><line style=\"stroke: #000000; stroke-width: 1.5;\" x1=\"44\" x2=\"77\" y1=\"71.2969\" y2=\"71.2969\"/><text fill=\"#000000\" font-family=\"sans-serif\" font-size=\"14\" font-weight=\"bold\" lengthAdjust=\"spacingAndGlyphs\" textLength=\"20\" x=\"48\" y=\"63.9951\">P2</text></a><!--MD5=[09b614a08d8cba4a07c9adeb5e0fee81]\n",
       "class E3--><a href=\"psysml:fd353ea3-6373-455a-afbc-b284741b5a43\" target=\"_top\" title=\"psysml:fd353ea3-6373-455a-afbc-b284741b5a43\" xlink:actuate=\"onRequest\" xlink:href=\"psysml:fd353ea3-6373-455a-afbc-b284741b5a43\" xlink:show=\"new\" xlink:title=\"psysml:fd353ea3-6373-455a-afbc-b284741b5a43\" xlink:type=\"simple\"><rect fill=\"#FFFFFF\" height=\"45.9375\" id=\"E3\" style=\"stroke: #383838; stroke-width: 1.5;\" width=\"66\" x=\"121\" y=\"212\"/><text fill=\"#000000\" font-family=\"sans-serif\" font-size=\"12\" font-style=\"italic\" lengthAdjust=\"spacingAndGlyphs\" textLength=\"64\" x=\"122\" y=\"228.1387\">«part def»</text><text fill=\"#000000\" font-family=\"sans-serif\" font-size=\"12\" lengthAdjust=\"spacingAndGlyphs\" textLength=\"8\" x=\"150\" y=\"242.1074\">A</text><line style=\"stroke: #383838; stroke-width: 1.5;\" x1=\"122\" x2=\"186\" y1=\"249.9375\" y2=\"249.9375\"/></a><!--MD5=[60a26617385b1d2d0262a64233df1f8d]\n",
       "class E6--><a href=\"psysml:7f169e5b-4536-4f95-b3fb-a54a4bad9234\" target=\"_top\" title=\"psysml:7f169e5b-4536-4f95-b3fb-a54a4bad9234\" xlink:actuate=\"onRequest\" xlink:href=\"psysml:7f169e5b-4536-4f95-b3fb-a54a4bad9234\" xlink:show=\"new\" xlink:title=\"psysml:7f169e5b-4536-4f95-b3fb-a54a4bad9234\" xlink:type=\"simple\"><rect fill=\"#FFFFFF\" height=\"45.9375\" id=\"E6\" rx=\"10\" ry=\"10\" style=\"stroke: #383838; stroke-width: 1.5;\" width=\"42\" x=\"145\" y=\"87.5\"/><text fill=\"#000000\" font-family=\"sans-serif\" font-size=\"12\" font-style=\"italic\" lengthAdjust=\"spacingAndGlyphs\" textLength=\"40\" x=\"146\" y=\"103.6387\">«part»</text><text fill=\"#000000\" font-family=\"sans-serif\" font-size=\"12\" lengthAdjust=\"spacingAndGlyphs\" textLength=\"22\" x=\"155\" y=\"117.6074\">x: A</text><line style=\"stroke: #383838; stroke-width: 1.5;\" x1=\"146\" x2=\"186\" y1=\"125.4375\" y2=\"125.4375\"/></a><a href=\"psysml:afe2db1e-b444-45d6-9b6b-b3994e64af2e\" target=\"_top\" title=\"psysml:afe2db1e-b444-45d6-9b6b-b3994e64af2e\" xlink:actuate=\"onRequest\" xlink:href=\"psysml:afe2db1e-b444-45d6-9b6b-b3994e64af2e\" xlink:show=\"new\" xlink:title=\"psysml:afe2db1e-b444-45d6-9b6b-b3994e64af2e\" xlink:type=\"simple\"><polygon fill=\"#FFFFFF\" points=\"60.5,84,95.5,84,102.5,106.2969,109.5,106.2969,109.5,136.5938,60.5,136.5938,60.5,84\" style=\"stroke: #000000; stroke-width: 1.5;\"/><line style=\"stroke: #000000; stroke-width: 1.5;\" x1=\"60.5\" x2=\"102.5\" y1=\"106.2969\" y2=\"106.2969\"/><text fill=\"#000000\" font-family=\"sans-serif\" font-size=\"14\" font-weight=\"bold\" lengthAdjust=\"spacingAndGlyphs\" textLength=\"29\" x=\"64.5\" y=\"98.9951\">P2a</text></a><!--MD5=[a717450b82c80b9240a525fa862496af]\n",
       "link E6 to E3--><a href=\"psysml:4395c2c1-a48a-41da-9561-d3e6647c3ecb\" target=\"_top\" title=\"psysml:4395c2c1-a48a-41da-9561-d3e6647c3ecb\" xlink:actuate=\"onRequest\" xlink:href=\"psysml:4395c2c1-a48a-41da-9561-d3e6647c3ecb\" xlink:show=\"new\" xlink:title=\"psysml:4395c2c1-a48a-41da-9561-d3e6647c3ecb\" xlink:type=\"simple\"><path d=\"M163.83,133.68 C162.24,149.9 160.04,172.39 158.12,191.96 \" fill=\"none\" id=\"E6-&gt;E3\" style=\"stroke: #383838; stroke-width: 1.0;\"/><polygon fill=\"#FFFFFF\" points=\"156.16,211.98,151.0533,192.3861,164.986,193.7564,156.16,211.98\" style=\"stroke: #383838; stroke-width: 1.0;\"/><ellipse cx=\"153.6016\" cy=\"186.9092\" fill=\"#383838\" rx=\"2\" ry=\"2\" style=\"stroke: #383838; stroke-width: 1.0;\"/><ellipse cx=\"163.5535\" cy=\"187.888\" fill=\"#383838\" rx=\"2\" ry=\"2\" style=\"stroke: #383838; stroke-width: 1.0;\"/></a><!--MD5=[c0e8a79f5ef02fd9798678dc880795b8]\n",
       "@startuml\r\n",
       "skinparam monochrome true\r\n",
       "skinparam classbackgroundcolor white\r\n",
       "skinparam shadowing false\r\n",
       "skinparam wrapWidth 300\r\n",
       "hide circle\r\n",
       "\r\n",
       "package \"QualifiedNameImportTest\" as E1  [[psysml:d16b9356-f04a-4ff8-b2ae-3864bc76abf1 ]]  {\r\n",
       "package \"P1\" as E2  [[psysml:88b3eb59-bf67-426d-b22b-2d4deb7f4fe0 ]]  {\r\n",
       "comp def \"A\" as E3  <<(T,blue)part def>> [[psysml:fd353ea3-6373-455a-afbc-b284741b5a43 ]] {\r\n",
       "}\r\n",
       "}\r\n",
       "package \"P2\" as E4  [[psysml:4523bb13-7dc6-4a64-a848-9d456c6fa329 ]]  {\r\n",
       "package \"P2a\" as E5  [[psysml:afe2db1e-b444-45d6-9b6b-b3994e64af2e ]]  {\r\n",
       "}\r\n",
       "comp usage \"x: A\" as E6  <<(T,blue)part>> [[psysml:7f169e5b-4536-4f95-b3fb-a54a4bad9234 ]] {\r\n",
       "}\r\n",
       "E6 - -:|> E3 [[psysml:4395c2c1-a48a-41da-9561-d3e6647c3ecb ]] \r\n",
       "}\r\n",
       "}\r\n",
       "@enduml\r\n",
       "\n",
       "PlantUML version 1.2020.13(Sat Jun 13 12:26:38 UTC 2020)\n",
       "(EPL source distribution)\n",
       "Java Runtime: OpenJDK Runtime Environment\n",
       "JVM: OpenJDK 64-Bit Server VM\n",
       "Default Encoding: UTF-8\n",
       "Language: en\n",
       "Country: null\n",
       "--></g></svg>"
      ]
     },
     "execution_count": 37,
     "metadata": {},
     "output_type": "execute_result"
    }
   ],
   "source": [
    "%viz --style=\"DEFAULT\" --view=\"Default\" \"QualifiedNameImportTest\""
   ]
  },
  {
   "cell_type": "code",
   "execution_count": 38,
   "id": "australian-saver",
   "metadata": {
    "execution": {
     "iopub.execute_input": "2021-03-25T09:35:28.366415Z",
     "iopub.status.busy": "2021-03-25T09:35:28.365381Z",
     "iopub.status.idle": "2021-03-25T09:35:28.424949Z",
     "shell.execute_reply": "2021-03-25T09:35:28.423509Z"
    }
   },
   "outputs": [
    {
     "data": {
      "image/svg+xml": [
       "<?xml version=\"1.0\" encoding=\"UTF-8\" standalone=\"no\"?><svg xmlns=\"http://www.w3.org/2000/svg\" xmlns:xlink=\"http://www.w3.org/1999/xlink\" contentScriptType=\"application/ecmascript\" contentStyleType=\"text/css\" height=\"310px\" preserveAspectRatio=\"none\" style=\"width:253px;height:310px;\" version=\"1.1\" viewBox=\"0 0 253 310\" width=\"253px\" zoomAndPan=\"magnify\"><defs/><g><!--MD5=[fbc87193dbaf4d95561dea2c320d4a47]\n",
       "cluster E1--><a href=\"psysml:d16b9356-f04a-4ff8-b2ae-3864bc76abf1\" target=\"_top\" title=\"psysml:d16b9356-f04a-4ff8-b2ae-3864bc76abf1\" xlink:actuate=\"onRequest\" xlink:href=\"psysml:d16b9356-f04a-4ff8-b2ae-3864bc76abf1\" xlink:show=\"new\" xlink:title=\"psysml:d16b9356-f04a-4ff8-b2ae-3864bc76abf1\" xlink:type=\"simple\"><polygon fill=\"#FFFFFF\" points=\"16,6,221,6,228,28.2969,231,28.2969,231,298,16,298,16,6\" style=\"stroke: #000000; stroke-width: 1.5;\"/><line style=\"stroke: #000000; stroke-width: 1.5;\" x1=\"16\" x2=\"228\" y1=\"28.2969\" y2=\"28.2969\"/><text fill=\"#000000\" font-family=\"sans-serif\" font-size=\"14\" font-weight=\"bold\" lengthAdjust=\"spacingAndGlyphs\" textLength=\"199\" x=\"20\" y=\"20.9951\">QualifiedNameImportTest</text></a><!--MD5=[e4f7fae6ed58524ba242bb0b0d3be6b7]\n",
       "cluster E2--><a href=\"psysml:88b3eb59-bf67-426d-b22b-2d4deb7f4fe0\" target=\"_top\" title=\"psysml:88b3eb59-bf67-426d-b22b-2d4deb7f4fe0\" xlink:actuate=\"onRequest\" xlink:href=\"psysml:88b3eb59-bf67-426d-b22b-2d4deb7f4fe0\" xlink:show=\"new\" xlink:title=\"psysml:88b3eb59-bf67-426d-b22b-2d4deb7f4fe0\" xlink:type=\"simple\"><polygon fill=\"#FFFFFF\" points=\"105,177,131,177,138,199.2969,203,199.2969,203,274,105,274,105,177\" style=\"stroke: #000000; stroke-width: 1.5;\"/><line style=\"stroke: #000000; stroke-width: 1.5;\" x1=\"105\" x2=\"138\" y1=\"199.2969\" y2=\"199.2969\"/><text fill=\"#000000\" font-family=\"sans-serif\" font-size=\"14\" font-weight=\"bold\" lengthAdjust=\"spacingAndGlyphs\" textLength=\"20\" x=\"109\" y=\"191.9951\">P1</text></a><!--MD5=[f6df4d0ebaf0b5dfb2ced0ae5af7c670]\n",
       "cluster E4--><a href=\"psysml:4523bb13-7dc6-4a64-a848-9d456c6fa329\" target=\"_top\" title=\"psysml:4523bb13-7dc6-4a64-a848-9d456c6fa329\" xlink:actuate=\"onRequest\" xlink:href=\"psysml:4523bb13-7dc6-4a64-a848-9d456c6fa329\" xlink:show=\"new\" xlink:title=\"psysml:4523bb13-7dc6-4a64-a848-9d456c6fa329\" xlink:type=\"simple\"><polygon fill=\"#FFFFFF\" points=\"44,49,70,49,77,71.2969,203,71.2969,203,153,44,153,44,49\" style=\"stroke: #000000; stroke-width: 1.5;\"/><line style=\"stroke: #000000; stroke-width: 1.5;\" x1=\"44\" x2=\"77\" y1=\"71.2969\" y2=\"71.2969\"/><text fill=\"#000000\" font-family=\"sans-serif\" font-size=\"14\" font-weight=\"bold\" lengthAdjust=\"spacingAndGlyphs\" textLength=\"20\" x=\"48\" y=\"63.9951\">P2</text></a><!--MD5=[09b614a08d8cba4a07c9adeb5e0fee81]\n",
       "class E3--><a href=\"psysml:fd353ea3-6373-455a-afbc-b284741b5a43\" target=\"_top\" title=\"psysml:fd353ea3-6373-455a-afbc-b284741b5a43\" xlink:actuate=\"onRequest\" xlink:href=\"psysml:fd353ea3-6373-455a-afbc-b284741b5a43\" xlink:show=\"new\" xlink:title=\"psysml:fd353ea3-6373-455a-afbc-b284741b5a43\" xlink:type=\"simple\"><rect fill=\"#FFFFFF\" height=\"45.9375\" id=\"E3\" style=\"stroke: #383838; stroke-width: 1.5;\" width=\"66\" x=\"121\" y=\"212\"/><text fill=\"#000000\" font-family=\"sans-serif\" font-size=\"12\" font-style=\"italic\" lengthAdjust=\"spacingAndGlyphs\" textLength=\"64\" x=\"122\" y=\"228.1387\">«part def»</text><text fill=\"#000000\" font-family=\"sans-serif\" font-size=\"12\" lengthAdjust=\"spacingAndGlyphs\" textLength=\"8\" x=\"150\" y=\"242.1074\">A</text><line style=\"stroke: #383838; stroke-width: 1.5;\" x1=\"122\" x2=\"186\" y1=\"249.9375\" y2=\"249.9375\"/></a><!--MD5=[60a26617385b1d2d0262a64233df1f8d]\n",
       "class E6--><a href=\"psysml:7f169e5b-4536-4f95-b3fb-a54a4bad9234\" target=\"_top\" title=\"psysml:7f169e5b-4536-4f95-b3fb-a54a4bad9234\" xlink:actuate=\"onRequest\" xlink:href=\"psysml:7f169e5b-4536-4f95-b3fb-a54a4bad9234\" xlink:show=\"new\" xlink:title=\"psysml:7f169e5b-4536-4f95-b3fb-a54a4bad9234\" xlink:type=\"simple\"><rect fill=\"#FFFFFF\" height=\"45.9375\" id=\"E6\" rx=\"10\" ry=\"10\" style=\"stroke: #383838; stroke-width: 1.5;\" width=\"42\" x=\"145\" y=\"87.5\"/><text fill=\"#000000\" font-family=\"sans-serif\" font-size=\"12\" font-style=\"italic\" lengthAdjust=\"spacingAndGlyphs\" textLength=\"40\" x=\"146\" y=\"103.6387\">«part»</text><text fill=\"#000000\" font-family=\"sans-serif\" font-size=\"12\" lengthAdjust=\"spacingAndGlyphs\" textLength=\"22\" x=\"155\" y=\"117.6074\">x: A</text><line style=\"stroke: #383838; stroke-width: 1.5;\" x1=\"146\" x2=\"186\" y1=\"125.4375\" y2=\"125.4375\"/></a><a href=\"psysml:afe2db1e-b444-45d6-9b6b-b3994e64af2e\" target=\"_top\" title=\"psysml:afe2db1e-b444-45d6-9b6b-b3994e64af2e\" xlink:actuate=\"onRequest\" xlink:href=\"psysml:afe2db1e-b444-45d6-9b6b-b3994e64af2e\" xlink:show=\"new\" xlink:title=\"psysml:afe2db1e-b444-45d6-9b6b-b3994e64af2e\" xlink:type=\"simple\"><polygon fill=\"#FFFFFF\" points=\"60.5,84,95.5,84,102.5,106.2969,109.5,106.2969,109.5,136.5938,60.5,136.5938,60.5,84\" style=\"stroke: #000000; stroke-width: 1.5;\"/><line style=\"stroke: #000000; stroke-width: 1.5;\" x1=\"60.5\" x2=\"102.5\" y1=\"106.2969\" y2=\"106.2969\"/><text fill=\"#000000\" font-family=\"sans-serif\" font-size=\"14\" font-weight=\"bold\" lengthAdjust=\"spacingAndGlyphs\" textLength=\"29\" x=\"64.5\" y=\"98.9951\">P2a</text></a><!--MD5=[a717450b82c80b9240a525fa862496af]\n",
       "link E6 to E3--><a href=\"psysml:4395c2c1-a48a-41da-9561-d3e6647c3ecb\" target=\"_top\" title=\"psysml:4395c2c1-a48a-41da-9561-d3e6647c3ecb\" xlink:actuate=\"onRequest\" xlink:href=\"psysml:4395c2c1-a48a-41da-9561-d3e6647c3ecb\" xlink:show=\"new\" xlink:title=\"psysml:4395c2c1-a48a-41da-9561-d3e6647c3ecb\" xlink:type=\"simple\"><path d=\"M163.83,133.68 C162.24,149.9 160.04,172.39 158.12,191.96 \" fill=\"none\" id=\"E6-&gt;E3\" style=\"stroke: #383838; stroke-width: 1.0;\"/><polygon fill=\"#FFFFFF\" points=\"156.16,211.98,151.0533,192.3861,164.986,193.7564,156.16,211.98\" style=\"stroke: #383838; stroke-width: 1.0;\"/><ellipse cx=\"153.6016\" cy=\"186.9092\" fill=\"#383838\" rx=\"2\" ry=\"2\" style=\"stroke: #383838; stroke-width: 1.0;\"/><ellipse cx=\"163.5535\" cy=\"187.888\" fill=\"#383838\" rx=\"2\" ry=\"2\" style=\"stroke: #383838; stroke-width: 1.0;\"/></a><!--MD5=[c0e8a79f5ef02fd9798678dc880795b8]\n",
       "@startuml\r\n",
       "skinparam monochrome true\r\n",
       "skinparam classbackgroundcolor white\r\n",
       "skinparam shadowing false\r\n",
       "skinparam wrapWidth 300\r\n",
       "hide circle\r\n",
       "\r\n",
       "package \"QualifiedNameImportTest\" as E1  [[psysml:d16b9356-f04a-4ff8-b2ae-3864bc76abf1 ]]  {\r\n",
       "package \"P1\" as E2  [[psysml:88b3eb59-bf67-426d-b22b-2d4deb7f4fe0 ]]  {\r\n",
       "comp def \"A\" as E3  <<(T,blue)part def>> [[psysml:fd353ea3-6373-455a-afbc-b284741b5a43 ]] {\r\n",
       "}\r\n",
       "}\r\n",
       "package \"P2\" as E4  [[psysml:4523bb13-7dc6-4a64-a848-9d456c6fa329 ]]  {\r\n",
       "package \"P2a\" as E5  [[psysml:afe2db1e-b444-45d6-9b6b-b3994e64af2e ]]  {\r\n",
       "}\r\n",
       "comp usage \"x: A\" as E6  <<(T,blue)part>> [[psysml:7f169e5b-4536-4f95-b3fb-a54a4bad9234 ]] {\r\n",
       "}\r\n",
       "E6 - -:|> E3 [[psysml:4395c2c1-a48a-41da-9561-d3e6647c3ecb ]] \r\n",
       "}\r\n",
       "}\r\n",
       "@enduml\r\n",
       "\n",
       "PlantUML version 1.2020.13(Sat Jun 13 12:26:38 UTC 2020)\n",
       "(EPL source distribution)\n",
       "Java Runtime: OpenJDK Runtime Environment\n",
       "JVM: OpenJDK 64-Bit Server VM\n",
       "Default Encoding: UTF-8\n",
       "Language: en\n",
       "Country: null\n",
       "--></g></svg>"
      ]
     },
     "execution_count": 38,
     "metadata": {},
     "output_type": "execute_result"
    }
   ],
   "source": [
    "%viz --style=\"DEFAULT\" --view=\"Tree\" \"QualifiedNameImportTest\""
   ]
  },
  {
   "cell_type": "code",
   "execution_count": 39,
   "id": "mounted-probability",
   "metadata": {
    "execution": {
     "iopub.execute_input": "2021-03-25T09:35:28.476962Z",
     "iopub.status.busy": "2021-03-25T09:35:28.476369Z",
     "iopub.status.idle": "2021-03-25T09:35:28.484970Z",
     "shell.execute_reply": "2021-03-25T09:35:28.484535Z"
    }
   },
   "outputs": [
    {
     "data": {
      "image/svg+xml": [
       "<?xml version=\"1.0\" encoding=\"UTF-8\" standalone=\"no\"?><svg xmlns=\"http://www.w3.org/2000/svg\" xmlns:xlink=\"http://www.w3.org/1999/xlink\" contentScriptType=\"application/ecmascript\" contentStyleType=\"text/css\" height=\"12px\" preserveAspectRatio=\"none\" style=\"width:12px;height:12px;\" version=\"1.1\" viewBox=\"0 0 12 12\" width=\"12px\" zoomAndPan=\"magnify\"><defs/><g><!--MD5=[c5f280e076d0d61ccf4b0f27871bda1d]\n",
       "@startuml\r\n",
       "skinparam monochrome true\r\n",
       "skinparam classbackgroundcolor white\r\n",
       "skinparam shadowing false\r\n",
       "skinparam wrapWidth 300\r\n",
       "hide circle\r\n",
       "\r\n",
       "@enduml\r\n",
       "\n",
       "PlantUML version 1.2020.13(Sat Jun 13 12:26:38 UTC 2020)\n",
       "(EPL source distribution)\n",
       "Java Runtime: OpenJDK Runtime Environment\n",
       "JVM: OpenJDK 64-Bit Server VM\n",
       "Default Encoding: UTF-8\n",
       "Language: en\n",
       "Country: null\n",
       "--></g></svg>"
      ]
     },
     "execution_count": 39,
     "metadata": {},
     "output_type": "execute_result"
    }
   ],
   "source": [
    "%viz --style=\"DEFAULT\" --view=\"State\" \"QualifiedNameImportTest\""
   ]
  },
  {
   "cell_type": "code",
   "execution_count": 40,
   "id": "beneficial-business",
   "metadata": {
    "execution": {
     "iopub.execute_input": "2021-03-25T09:35:28.536277Z",
     "iopub.status.busy": "2021-03-25T09:35:28.535591Z",
     "iopub.status.idle": "2021-03-25T09:35:28.589459Z",
     "shell.execute_reply": "2021-03-25T09:35:28.588190Z"
    }
   },
   "outputs": [
    {
     "data": {
      "image/svg+xml": [
       "<?xml version=\"1.0\" encoding=\"UTF-8\" standalone=\"no\"?><svg xmlns=\"http://www.w3.org/2000/svg\" xmlns:xlink=\"http://www.w3.org/1999/xlink\" contentScriptType=\"application/ecmascript\" contentStyleType=\"text/css\" height=\"189px\" preserveAspectRatio=\"none\" style=\"width:381px;height:189px;\" version=\"1.1\" viewBox=\"0 0 381 189\" width=\"381px\" zoomAndPan=\"magnify\"><defs/><g><!--MD5=[fbc87193dbaf4d95561dea2c320d4a47]\n",
       "cluster E1--><a href=\"psysml:d16b9356-f04a-4ff8-b2ae-3864bc76abf1\" target=\"_top\" title=\"psysml:d16b9356-f04a-4ff8-b2ae-3864bc76abf1\" xlink:actuate=\"onRequest\" xlink:href=\"psysml:d16b9356-f04a-4ff8-b2ae-3864bc76abf1\" xlink:show=\"new\" xlink:title=\"psysml:d16b9356-f04a-4ff8-b2ae-3864bc76abf1\" xlink:type=\"simple\"><polygon fill=\"#FFFFFF\" points=\"16,6,221,6,228,28.2969,359,28.2969,359,177,16,177,16,6\" style=\"stroke: #000000; stroke-width: 1.5;\"/><line style=\"stroke: #000000; stroke-width: 1.5;\" x1=\"16\" x2=\"228\" y1=\"28.2969\" y2=\"28.2969\"/><text fill=\"#000000\" font-family=\"sans-serif\" font-size=\"14\" font-weight=\"bold\" lengthAdjust=\"spacingAndGlyphs\" textLength=\"199\" x=\"20\" y=\"20.9951\">QualifiedNameImportTest</text></a><!--MD5=[e4f7fae6ed58524ba242bb0b0d3be6b7]\n",
       "cluster E2--><a href=\"psysml:88b3eb59-bf67-426d-b22b-2d4deb7f4fe0\" target=\"_top\" title=\"psysml:88b3eb59-bf67-426d-b22b-2d4deb7f4fe0\" xlink:actuate=\"onRequest\" xlink:href=\"psysml:88b3eb59-bf67-426d-b22b-2d4deb7f4fe0\" xlink:show=\"new\" xlink:title=\"psysml:88b3eb59-bf67-426d-b22b-2d4deb7f4fe0\" xlink:type=\"simple\"><polygon fill=\"#FFFFFF\" points=\"231,54,257,54,264,76.2969,335,76.2969,335,148,231,148,231,54\" style=\"stroke: #000000; stroke-width: 1.5;\"/><line style=\"stroke: #000000; stroke-width: 1.5;\" x1=\"231\" x2=\"264\" y1=\"76.2969\" y2=\"76.2969\"/><text fill=\"#000000\" font-family=\"sans-serif\" font-size=\"14\" font-weight=\"bold\" lengthAdjust=\"spacingAndGlyphs\" textLength=\"20\" x=\"235\" y=\"68.9951\">P1</text></a><!--MD5=[f6df4d0ebaf0b5dfb2ced0ae5af7c670]\n",
       "cluster E4--><a href=\"psysml:4523bb13-7dc6-4a64-a848-9d456c6fa329\" target=\"_top\" title=\"psysml:4523bb13-7dc6-4a64-a848-9d456c6fa329\" xlink:actuate=\"onRequest\" xlink:href=\"psysml:4523bb13-7dc6-4a64-a848-9d456c6fa329\" xlink:show=\"new\" xlink:title=\"psysml:4523bb13-7dc6-4a64-a848-9d456c6fa329\" xlink:type=\"simple\"><polygon fill=\"#FFFFFF\" points=\"40,49,66,49,73,71.2969,207,71.2969,207,153,40,153,40,49\" style=\"stroke: #000000; stroke-width: 1.5;\"/><line style=\"stroke: #000000; stroke-width: 1.5;\" x1=\"40\" x2=\"73\" y1=\"71.2969\" y2=\"71.2969\"/><text fill=\"#000000\" font-family=\"sans-serif\" font-size=\"14\" font-weight=\"bold\" lengthAdjust=\"spacingAndGlyphs\" textLength=\"20\" x=\"44\" y=\"63.9951\">P2</text></a><g id=\"E1.E2.E3\"><a href=\"psysml:fd353ea3-6373-455a-afbc-b284741b5a43\" target=\"_top\" title=\"psysml:fd353ea3-6373-455a-afbc-b284741b5a43\" xlink:actuate=\"onRequest\" xlink:href=\"psysml:fd353ea3-6373-455a-afbc-b284741b5a43\" xlink:show=\"new\" xlink:title=\"psysml:fd353ea3-6373-455a-afbc-b284741b5a43\" xlink:type=\"simple\"><rect fill=\"#FFFFFF\" height=\"42.9375\" id=\"E3\" style=\"stroke: #383838; stroke-width: 1.5;\" width=\"71\" x=\"247.5\" y=\"89\"/><rect fill=\"#F8F8F8\" height=\"37.9375\" style=\"stroke: #383838; stroke-width: 1.5;\" width=\"71\" x=\"247.5\" y=\"89\"/><text fill=\"#000000\" font-family=\"sans-serif\" font-size=\"12\" font-style=\"italic\" lengthAdjust=\"spacingAndGlyphs\" textLength=\"64\" x=\"251\" y=\"105.1387\">«part def»</text><text fill=\"#000000\" font-family=\"sans-serif\" font-size=\"12\" lengthAdjust=\"spacingAndGlyphs\" textLength=\"8\" x=\"279\" y=\"119.1074\">A</text></a></g><a href=\"psysml:afe2db1e-b444-45d6-9b6b-b3994e64af2e\" target=\"_top\" title=\"psysml:afe2db1e-b444-45d6-9b6b-b3994e64af2e\" xlink:actuate=\"onRequest\" xlink:href=\"psysml:afe2db1e-b444-45d6-9b6b-b3994e64af2e\" xlink:show=\"new\" xlink:title=\"psysml:afe2db1e-b444-45d6-9b6b-b3994e64af2e\" xlink:type=\"simple\"><polygon fill=\"#FFFFFF\" points=\"141.5,84,176.5,84,183.5,106.2969,190.5,106.2969,190.5,136.5938,141.5,136.5938,141.5,84\" style=\"stroke: #000000; stroke-width: 1.5;\"/><line style=\"stroke: #000000; stroke-width: 1.5;\" x1=\"141.5\" x2=\"183.5\" y1=\"106.2969\" y2=\"106.2969\"/><text fill=\"#000000\" font-family=\"sans-serif\" font-size=\"14\" font-weight=\"bold\" lengthAdjust=\"spacingAndGlyphs\" textLength=\"29\" x=\"145.5\" y=\"98.9951\">P2a</text></a><g id=\"E1.E4.E6\"><a href=\"psysml:7f169e5b-4536-4f95-b3fb-a54a4bad9234\" target=\"_top\" title=\"psysml:7f169e5b-4536-4f95-b3fb-a54a4bad9234\" xlink:actuate=\"onRequest\" xlink:href=\"psysml:7f169e5b-4536-4f95-b3fb-a54a4bad9234\" xlink:show=\"new\" xlink:title=\"psysml:7f169e5b-4536-4f95-b3fb-a54a4bad9234\" xlink:type=\"simple\"><rect fill=\"#FFFFFF\" height=\"40\" id=\"E6\" rx=\"10\" ry=\"10\" style=\"stroke: #383838; stroke-width: 1.5;\" width=\"50\" x=\"56\" y=\"90.5\"/><rect fill=\"#F8F8F8\" height=\"23.9688\" rx=\"10\" ry=\"10\" style=\"stroke: #F8F8F8; stroke-width: 1.5;\" width=\"50\" x=\"56\" y=\"90.5\"/><rect fill=\"#F8F8F8\" height=\"10\" style=\"stroke: #F8F8F8; stroke-width: 1.5;\" width=\"50\" x=\"56\" y=\"104.4688\"/><rect fill=\"none\" height=\"40\" id=\"E6\" rx=\"10\" ry=\"10\" style=\"stroke: #383838; stroke-width: 1.5;\" width=\"50\" x=\"56\" y=\"90.5\"/><text fill=\"#000000\" font-family=\"sans-serif\" font-size=\"12\" lengthAdjust=\"spacingAndGlyphs\" textLength=\"22\" x=\"70\" y=\"106.6387\">x: A</text></a></g><!--MD5=[b655962d0bf3d402753b92813f21ff4c]\n",
       "@startuml\r\n",
       "skinparam ranksep 8\r\n",
       "skinparam rectangle {\r\n",
       " backgroundColor<<block>> LightGreen\r\n",
       "}\r\n",
       "skinparam monochrome true\r\n",
       "skinparam classbackgroundcolor white\r\n",
       "skinparam shadowing false\r\n",
       "skinparam wrapWidth 300\r\n",
       "hide circle\r\n",
       "\r\n",
       "package \"QualifiedNameImportTest\" as E1  [[psysml:d16b9356-f04a-4ff8-b2ae-3864bc76abf1 ]]  {\r\n",
       "package \"P1\" as E2  [[psysml:88b3eb59-bf67-426d-b22b-2d4deb7f4fe0 ]]  {\r\n",
       "rec def \"A\" as E3  <<(T,blue)part def>> [[psysml:fd353ea3-6373-455a-afbc-b284741b5a43 ]] {\r\n",
       "}\r\n",
       "}\r\n",
       "package \"P2\" as E4  [[psysml:4523bb13-7dc6-4a64-a848-9d456c6fa329 ]]  {\r\n",
       "package \"P2a\" as E5  [[psysml:afe2db1e-b444-45d6-9b6b-b3994e64af2e ]]  {\r\n",
       "}\r\n",
       "rec usage \"x: A\" as E6  [[psysml:7f169e5b-4536-4f95-b3fb-a54a4bad9234 ]] {\r\n",
       "}\r\n",
       "}\r\n",
       "}\r\n",
       "@enduml\r\n",
       "\n",
       "PlantUML version 1.2020.13(Sat Jun 13 12:26:38 UTC 2020)\n",
       "(EPL source distribution)\n",
       "Java Runtime: OpenJDK Runtime Environment\n",
       "JVM: OpenJDK 64-Bit Server VM\n",
       "Default Encoding: UTF-8\n",
       "Language: en\n",
       "Country: null\n",
       "--></g></svg>"
      ]
     },
     "execution_count": 40,
     "metadata": {},
     "output_type": "execute_result"
    }
   ],
   "source": [
    "%viz --style=\"DEFAULT\" --view=\"Interconnection\" \"QualifiedNameImportTest\""
   ]
  },
  {
   "cell_type": "code",
   "execution_count": 41,
   "id": "executive-reunion",
   "metadata": {
    "execution": {
     "iopub.execute_input": "2021-03-25T09:35:28.639350Z",
     "iopub.status.busy": "2021-03-25T09:35:28.638912Z",
     "iopub.status.idle": "2021-03-25T09:35:28.646162Z",
     "shell.execute_reply": "2021-03-25T09:35:28.645770Z"
    }
   },
   "outputs": [
    {
     "data": {
      "image/svg+xml": [
       "<?xml version=\"1.0\" encoding=\"UTF-8\" standalone=\"no\"?><svg xmlns=\"http://www.w3.org/2000/svg\" xmlns:xlink=\"http://www.w3.org/1999/xlink\" contentScriptType=\"application/ecmascript\" contentStyleType=\"text/css\" height=\"12px\" preserveAspectRatio=\"none\" style=\"width:12px;height:12px;\" version=\"1.1\" viewBox=\"0 0 12 12\" width=\"12px\" zoomAndPan=\"magnify\"><defs/><g><!--MD5=[388f21188e31bfdd97050473b19af356]\n",
       "@startuml\r\n",
       "skinparam ranksep 8\r\n",
       "skinparam monochrome true\r\n",
       "skinparam classbackgroundcolor white\r\n",
       "skinparam shadowing false\r\n",
       "skinparam wrapWidth 300\r\n",
       "hide circle\r\n",
       "\r\n",
       "@enduml\r\n",
       "\n",
       "PlantUML version 1.2020.13(Sat Jun 13 12:26:38 UTC 2020)\n",
       "(EPL source distribution)\n",
       "Java Runtime: OpenJDK Runtime Environment\n",
       "JVM: OpenJDK 64-Bit Server VM\n",
       "Default Encoding: UTF-8\n",
       "Language: en\n",
       "Country: null\n",
       "--></g></svg>"
      ]
     },
     "execution_count": 41,
     "metadata": {},
     "output_type": "execute_result"
    }
   ],
   "source": [
    "%viz --style=\"DEFAULT\" --view=\"Action\" \"QualifiedNameImportTest\""
   ]
  },
  {
   "cell_type": "code",
   "execution_count": 42,
   "id": "viral-while",
   "metadata": {
    "execution": {
     "iopub.execute_input": "2021-03-25T09:35:28.699391Z",
     "iopub.status.busy": "2021-03-25T09:35:28.698155Z",
     "iopub.status.idle": "2021-03-25T09:35:28.756620Z",
     "shell.execute_reply": "2021-03-25T09:35:28.754812Z"
    }
   },
   "outputs": [
    {
     "data": {
      "image/svg+xml": [
       "<?xml version=\"1.0\" encoding=\"UTF-8\" standalone=\"no\"?><svg xmlns=\"http://www.w3.org/2000/svg\" xmlns:xlink=\"http://www.w3.org/1999/xlink\" contentScriptType=\"application/ecmascript\" contentStyleType=\"text/css\" height=\"310px\" preserveAspectRatio=\"none\" style=\"width:253px;height:310px;\" version=\"1.1\" viewBox=\"0 0 253 310\" width=\"253px\" zoomAndPan=\"magnify\"><defs/><g><!--MD5=[fbc87193dbaf4d95561dea2c320d4a47]\n",
       "cluster E1--><a href=\"psysml:d16b9356-f04a-4ff8-b2ae-3864bc76abf1\" target=\"_top\" title=\"psysml:d16b9356-f04a-4ff8-b2ae-3864bc76abf1\" xlink:actuate=\"onRequest\" xlink:href=\"psysml:d16b9356-f04a-4ff8-b2ae-3864bc76abf1\" xlink:show=\"new\" xlink:title=\"psysml:d16b9356-f04a-4ff8-b2ae-3864bc76abf1\" xlink:type=\"simple\"><polygon fill=\"#FFFFFF\" points=\"16,6,221,6,228,28.2969,231,28.2969,231,298,16,298,16,6\" style=\"stroke: #000000; stroke-width: 1.5;\"/><line style=\"stroke: #000000; stroke-width: 1.5;\" x1=\"16\" x2=\"228\" y1=\"28.2969\" y2=\"28.2969\"/><text fill=\"#000000\" font-family=\"sans-serif\" font-size=\"14\" font-weight=\"bold\" lengthAdjust=\"spacingAndGlyphs\" textLength=\"199\" x=\"20\" y=\"20.9951\">QualifiedNameImportTest</text></a><!--MD5=[e4f7fae6ed58524ba242bb0b0d3be6b7]\n",
       "cluster E2--><a href=\"psysml:88b3eb59-bf67-426d-b22b-2d4deb7f4fe0\" target=\"_top\" title=\"psysml:88b3eb59-bf67-426d-b22b-2d4deb7f4fe0\" xlink:actuate=\"onRequest\" xlink:href=\"psysml:88b3eb59-bf67-426d-b22b-2d4deb7f4fe0\" xlink:show=\"new\" xlink:title=\"psysml:88b3eb59-bf67-426d-b22b-2d4deb7f4fe0\" xlink:type=\"simple\"><polygon fill=\"#FFFFFF\" points=\"105,177,131,177,138,199.2969,203,199.2969,203,274,105,274,105,177\" style=\"stroke: #000000; stroke-width: 1.5;\"/><line style=\"stroke: #000000; stroke-width: 1.5;\" x1=\"105\" x2=\"138\" y1=\"199.2969\" y2=\"199.2969\"/><text fill=\"#000000\" font-family=\"sans-serif\" font-size=\"14\" font-weight=\"bold\" lengthAdjust=\"spacingAndGlyphs\" textLength=\"20\" x=\"109\" y=\"191.9951\">P1</text></a><!--MD5=[f6df4d0ebaf0b5dfb2ced0ae5af7c670]\n",
       "cluster E4--><a href=\"psysml:4523bb13-7dc6-4a64-a848-9d456c6fa329\" target=\"_top\" title=\"psysml:4523bb13-7dc6-4a64-a848-9d456c6fa329\" xlink:actuate=\"onRequest\" xlink:href=\"psysml:4523bb13-7dc6-4a64-a848-9d456c6fa329\" xlink:show=\"new\" xlink:title=\"psysml:4523bb13-7dc6-4a64-a848-9d456c6fa329\" xlink:type=\"simple\"><polygon fill=\"#FFFFFF\" points=\"44,49,70,49,77,71.2969,203,71.2969,203,153,44,153,44,49\" style=\"stroke: #000000; stroke-width: 1.5;\"/><line style=\"stroke: #000000; stroke-width: 1.5;\" x1=\"44\" x2=\"77\" y1=\"71.2969\" y2=\"71.2969\"/><text fill=\"#000000\" font-family=\"sans-serif\" font-size=\"14\" font-weight=\"bold\" lengthAdjust=\"spacingAndGlyphs\" textLength=\"20\" x=\"48\" y=\"63.9951\">P2</text></a><!--MD5=[09b614a08d8cba4a07c9adeb5e0fee81]\n",
       "class E3--><a href=\"psysml:fd353ea3-6373-455a-afbc-b284741b5a43\" target=\"_top\" title=\"psysml:fd353ea3-6373-455a-afbc-b284741b5a43\" xlink:actuate=\"onRequest\" xlink:href=\"psysml:fd353ea3-6373-455a-afbc-b284741b5a43\" xlink:show=\"new\" xlink:title=\"psysml:fd353ea3-6373-455a-afbc-b284741b5a43\" xlink:type=\"simple\"><rect fill=\"#FFFFFF\" height=\"45.9375\" id=\"E3\" style=\"stroke: #383838; stroke-width: 1.5;\" width=\"66\" x=\"121\" y=\"212\"/><text fill=\"#000000\" font-family=\"sans-serif\" font-size=\"12\" font-style=\"italic\" lengthAdjust=\"spacingAndGlyphs\" textLength=\"64\" x=\"122\" y=\"228.1387\">«part def»</text><text fill=\"#000000\" font-family=\"sans-serif\" font-size=\"12\" lengthAdjust=\"spacingAndGlyphs\" textLength=\"8\" x=\"150\" y=\"242.1074\">A</text><line style=\"stroke: #383838; stroke-width: 1.5;\" x1=\"122\" x2=\"186\" y1=\"249.9375\" y2=\"249.9375\"/></a><!--MD5=[60a26617385b1d2d0262a64233df1f8d]\n",
       "class E6--><a href=\"psysml:7f169e5b-4536-4f95-b3fb-a54a4bad9234\" target=\"_top\" title=\"psysml:7f169e5b-4536-4f95-b3fb-a54a4bad9234\" xlink:actuate=\"onRequest\" xlink:href=\"psysml:7f169e5b-4536-4f95-b3fb-a54a4bad9234\" xlink:show=\"new\" xlink:title=\"psysml:7f169e5b-4536-4f95-b3fb-a54a4bad9234\" xlink:type=\"simple\"><rect fill=\"#FFFFFF\" height=\"45.9375\" id=\"E6\" rx=\"10\" ry=\"10\" style=\"stroke: #383838; stroke-width: 1.5;\" width=\"42\" x=\"145\" y=\"87.5\"/><text fill=\"#000000\" font-family=\"sans-serif\" font-size=\"12\" font-style=\"italic\" lengthAdjust=\"spacingAndGlyphs\" textLength=\"40\" x=\"146\" y=\"103.6387\">«part»</text><text fill=\"#000000\" font-family=\"sans-serif\" font-size=\"12\" lengthAdjust=\"spacingAndGlyphs\" textLength=\"22\" x=\"155\" y=\"117.6074\">x: A</text><line style=\"stroke: #383838; stroke-width: 1.5;\" x1=\"146\" x2=\"186\" y1=\"125.4375\" y2=\"125.4375\"/></a><a href=\"psysml:afe2db1e-b444-45d6-9b6b-b3994e64af2e\" target=\"_top\" title=\"psysml:afe2db1e-b444-45d6-9b6b-b3994e64af2e\" xlink:actuate=\"onRequest\" xlink:href=\"psysml:afe2db1e-b444-45d6-9b6b-b3994e64af2e\" xlink:show=\"new\" xlink:title=\"psysml:afe2db1e-b444-45d6-9b6b-b3994e64af2e\" xlink:type=\"simple\"><polygon fill=\"#FFFFFF\" points=\"60.5,84,95.5,84,102.5,106.2969,109.5,106.2969,109.5,136.5938,60.5,136.5938,60.5,84\" style=\"stroke: #000000; stroke-width: 1.5;\"/><line style=\"stroke: #000000; stroke-width: 1.5;\" x1=\"60.5\" x2=\"102.5\" y1=\"106.2969\" y2=\"106.2969\"/><text fill=\"#000000\" font-family=\"sans-serif\" font-size=\"14\" font-weight=\"bold\" lengthAdjust=\"spacingAndGlyphs\" textLength=\"29\" x=\"64.5\" y=\"98.9951\">P2a</text></a><!--MD5=[a717450b82c80b9240a525fa862496af]\n",
       "link E6 to E3--><a href=\"psysml:4395c2c1-a48a-41da-9561-d3e6647c3ecb\" target=\"_top\" title=\"psysml:4395c2c1-a48a-41da-9561-d3e6647c3ecb\" xlink:actuate=\"onRequest\" xlink:href=\"psysml:4395c2c1-a48a-41da-9561-d3e6647c3ecb\" xlink:show=\"new\" xlink:title=\"psysml:4395c2c1-a48a-41da-9561-d3e6647c3ecb\" xlink:type=\"simple\"><path d=\"M163.83,133.68 C162.24,149.9 160.04,172.39 158.12,191.96 \" fill=\"none\" id=\"E6-&gt;E3\" style=\"stroke: #383838; stroke-width: 1.0;\"/><polygon fill=\"#FFFFFF\" points=\"156.16,211.98,151.0533,192.3861,164.986,193.7564,156.16,211.98\" style=\"stroke: #383838; stroke-width: 1.0;\"/><ellipse cx=\"153.6016\" cy=\"186.9092\" fill=\"#383838\" rx=\"2\" ry=\"2\" style=\"stroke: #383838; stroke-width: 1.0;\"/><ellipse cx=\"163.5535\" cy=\"187.888\" fill=\"#383838\" rx=\"2\" ry=\"2\" style=\"stroke: #383838; stroke-width: 1.0;\"/></a><!--MD5=[c0e8a79f5ef02fd9798678dc880795b8]\n",
       "@startuml\r\n",
       "skinparam monochrome true\r\n",
       "skinparam classbackgroundcolor white\r\n",
       "skinparam shadowing false\r\n",
       "skinparam wrapWidth 300\r\n",
       "hide circle\r\n",
       "\r\n",
       "package \"QualifiedNameImportTest\" as E1  [[psysml:d16b9356-f04a-4ff8-b2ae-3864bc76abf1 ]]  {\r\n",
       "package \"P1\" as E2  [[psysml:88b3eb59-bf67-426d-b22b-2d4deb7f4fe0 ]]  {\r\n",
       "comp def \"A\" as E3  <<(T,blue)part def>> [[psysml:fd353ea3-6373-455a-afbc-b284741b5a43 ]] {\r\n",
       "}\r\n",
       "}\r\n",
       "package \"P2\" as E4  [[psysml:4523bb13-7dc6-4a64-a848-9d456c6fa329 ]]  {\r\n",
       "package \"P2a\" as E5  [[psysml:afe2db1e-b444-45d6-9b6b-b3994e64af2e ]]  {\r\n",
       "}\r\n",
       "comp usage \"x: A\" as E6  <<(T,blue)part>> [[psysml:7f169e5b-4536-4f95-b3fb-a54a4bad9234 ]] {\r\n",
       "}\r\n",
       "E6 - -:|> E3 [[psysml:4395c2c1-a48a-41da-9561-d3e6647c3ecb ]] \r\n",
       "}\r\n",
       "}\r\n",
       "@enduml\r\n",
       "\n",
       "PlantUML version 1.2020.13(Sat Jun 13 12:26:38 UTC 2020)\n",
       "(EPL source distribution)\n",
       "Java Runtime: OpenJDK Runtime Environment\n",
       "JVM: OpenJDK 64-Bit Server VM\n",
       "Default Encoding: UTF-8\n",
       "Language: en\n",
       "Country: null\n",
       "--></g></svg>"
      ]
     },
     "execution_count": 42,
     "metadata": {},
     "output_type": "execute_result"
    }
   ],
   "source": [
    "%viz --style=\"DEFAULT\" --view=\"Sequence\" \"QualifiedNameImportTest\""
   ]
  },
  {
   "cell_type": "code",
   "execution_count": 43,
   "id": "neutral-offer",
   "metadata": {
    "execution": {
     "iopub.execute_input": "2021-03-25T09:35:28.806587Z",
     "iopub.status.busy": "2021-03-25T09:35:28.806171Z",
     "iopub.status.idle": "2021-03-25T09:35:28.860590Z",
     "shell.execute_reply": "2021-03-25T09:35:28.859269Z"
    }
   },
   "outputs": [
    {
     "data": {
      "image/svg+xml": [
       "<?xml version=\"1.0\" encoding=\"UTF-8\" standalone=\"no\"?><svg xmlns=\"http://www.w3.org/2000/svg\" xmlns:xlink=\"http://www.w3.org/1999/xlink\" contentScriptType=\"application/ecmascript\" contentStyleType=\"text/css\" height=\"310px\" preserveAspectRatio=\"none\" style=\"width:253px;height:310px;\" version=\"1.1\" viewBox=\"0 0 253 310\" width=\"253px\" zoomAndPan=\"magnify\"><defs/><g><!--MD5=[fbc87193dbaf4d95561dea2c320d4a47]\n",
       "cluster E1--><a href=\"psysml:d16b9356-f04a-4ff8-b2ae-3864bc76abf1\" target=\"_top\" title=\"psysml:d16b9356-f04a-4ff8-b2ae-3864bc76abf1\" xlink:actuate=\"onRequest\" xlink:href=\"psysml:d16b9356-f04a-4ff8-b2ae-3864bc76abf1\" xlink:show=\"new\" xlink:title=\"psysml:d16b9356-f04a-4ff8-b2ae-3864bc76abf1\" xlink:type=\"simple\"><polygon fill=\"#FFFFFF\" points=\"16,6,221,6,228,28.2969,231,28.2969,231,298,16,298,16,6\" style=\"stroke: #000000; stroke-width: 1.5;\"/><line style=\"stroke: #000000; stroke-width: 1.5;\" x1=\"16\" x2=\"228\" y1=\"28.2969\" y2=\"28.2969\"/><text fill=\"#000000\" font-family=\"sans-serif\" font-size=\"14\" font-weight=\"bold\" lengthAdjust=\"spacingAndGlyphs\" textLength=\"199\" x=\"20\" y=\"20.9951\">QualifiedNameImportTest</text></a><!--MD5=[e4f7fae6ed58524ba242bb0b0d3be6b7]\n",
       "cluster E2--><a href=\"psysml:88b3eb59-bf67-426d-b22b-2d4deb7f4fe0\" target=\"_top\" title=\"psysml:88b3eb59-bf67-426d-b22b-2d4deb7f4fe0\" xlink:actuate=\"onRequest\" xlink:href=\"psysml:88b3eb59-bf67-426d-b22b-2d4deb7f4fe0\" xlink:show=\"new\" xlink:title=\"psysml:88b3eb59-bf67-426d-b22b-2d4deb7f4fe0\" xlink:type=\"simple\"><polygon fill=\"#FFFFFF\" points=\"105,177,131,177,138,199.2969,203,199.2969,203,274,105,274,105,177\" style=\"stroke: #000000; stroke-width: 1.5;\"/><line style=\"stroke: #000000; stroke-width: 1.5;\" x1=\"105\" x2=\"138\" y1=\"199.2969\" y2=\"199.2969\"/><text fill=\"#000000\" font-family=\"sans-serif\" font-size=\"14\" font-weight=\"bold\" lengthAdjust=\"spacingAndGlyphs\" textLength=\"20\" x=\"109\" y=\"191.9951\">P1</text></a><!--MD5=[f6df4d0ebaf0b5dfb2ced0ae5af7c670]\n",
       "cluster E4--><a href=\"psysml:4523bb13-7dc6-4a64-a848-9d456c6fa329\" target=\"_top\" title=\"psysml:4523bb13-7dc6-4a64-a848-9d456c6fa329\" xlink:actuate=\"onRequest\" xlink:href=\"psysml:4523bb13-7dc6-4a64-a848-9d456c6fa329\" xlink:show=\"new\" xlink:title=\"psysml:4523bb13-7dc6-4a64-a848-9d456c6fa329\" xlink:type=\"simple\"><polygon fill=\"#FFFFFF\" points=\"44,49,70,49,77,71.2969,203,71.2969,203,153,44,153,44,49\" style=\"stroke: #000000; stroke-width: 1.5;\"/><line style=\"stroke: #000000; stroke-width: 1.5;\" x1=\"44\" x2=\"77\" y1=\"71.2969\" y2=\"71.2969\"/><text fill=\"#000000\" font-family=\"sans-serif\" font-size=\"14\" font-weight=\"bold\" lengthAdjust=\"spacingAndGlyphs\" textLength=\"20\" x=\"48\" y=\"63.9951\">P2</text></a><!--MD5=[09b614a08d8cba4a07c9adeb5e0fee81]\n",
       "class E3--><a href=\"psysml:fd353ea3-6373-455a-afbc-b284741b5a43\" target=\"_top\" title=\"psysml:fd353ea3-6373-455a-afbc-b284741b5a43\" xlink:actuate=\"onRequest\" xlink:href=\"psysml:fd353ea3-6373-455a-afbc-b284741b5a43\" xlink:show=\"new\" xlink:title=\"psysml:fd353ea3-6373-455a-afbc-b284741b5a43\" xlink:type=\"simple\"><rect fill=\"#FFFFFF\" height=\"45.9375\" id=\"E3\" style=\"stroke: #383838; stroke-width: 1.5;\" width=\"66\" x=\"121\" y=\"212\"/><text fill=\"#000000\" font-family=\"sans-serif\" font-size=\"12\" font-style=\"italic\" lengthAdjust=\"spacingAndGlyphs\" textLength=\"64\" x=\"122\" y=\"228.1387\">«part def»</text><text fill=\"#000000\" font-family=\"sans-serif\" font-size=\"12\" lengthAdjust=\"spacingAndGlyphs\" textLength=\"8\" x=\"150\" y=\"242.1074\">A</text><line style=\"stroke: #383838; stroke-width: 1.5;\" x1=\"122\" x2=\"186\" y1=\"249.9375\" y2=\"249.9375\"/></a><!--MD5=[60a26617385b1d2d0262a64233df1f8d]\n",
       "class E6--><a href=\"psysml:7f169e5b-4536-4f95-b3fb-a54a4bad9234\" target=\"_top\" title=\"psysml:7f169e5b-4536-4f95-b3fb-a54a4bad9234\" xlink:actuate=\"onRequest\" xlink:href=\"psysml:7f169e5b-4536-4f95-b3fb-a54a4bad9234\" xlink:show=\"new\" xlink:title=\"psysml:7f169e5b-4536-4f95-b3fb-a54a4bad9234\" xlink:type=\"simple\"><rect fill=\"#FFFFFF\" height=\"45.9375\" id=\"E6\" rx=\"10\" ry=\"10\" style=\"stroke: #383838; stroke-width: 1.5;\" width=\"42\" x=\"145\" y=\"87.5\"/><text fill=\"#000000\" font-family=\"sans-serif\" font-size=\"12\" font-style=\"italic\" lengthAdjust=\"spacingAndGlyphs\" textLength=\"40\" x=\"146\" y=\"103.6387\">«part»</text><text fill=\"#000000\" font-family=\"sans-serif\" font-size=\"12\" lengthAdjust=\"spacingAndGlyphs\" textLength=\"22\" x=\"155\" y=\"117.6074\">x: A</text><line style=\"stroke: #383838; stroke-width: 1.5;\" x1=\"146\" x2=\"186\" y1=\"125.4375\" y2=\"125.4375\"/></a><a href=\"psysml:afe2db1e-b444-45d6-9b6b-b3994e64af2e\" target=\"_top\" title=\"psysml:afe2db1e-b444-45d6-9b6b-b3994e64af2e\" xlink:actuate=\"onRequest\" xlink:href=\"psysml:afe2db1e-b444-45d6-9b6b-b3994e64af2e\" xlink:show=\"new\" xlink:title=\"psysml:afe2db1e-b444-45d6-9b6b-b3994e64af2e\" xlink:type=\"simple\"><polygon fill=\"#FFFFFF\" points=\"60.5,84,95.5,84,102.5,106.2969,109.5,106.2969,109.5,136.5938,60.5,136.5938,60.5,84\" style=\"stroke: #000000; stroke-width: 1.5;\"/><line style=\"stroke: #000000; stroke-width: 1.5;\" x1=\"60.5\" x2=\"102.5\" y1=\"106.2969\" y2=\"106.2969\"/><text fill=\"#000000\" font-family=\"sans-serif\" font-size=\"14\" font-weight=\"bold\" lengthAdjust=\"spacingAndGlyphs\" textLength=\"29\" x=\"64.5\" y=\"98.9951\">P2a</text></a><!--MD5=[a717450b82c80b9240a525fa862496af]\n",
       "link E6 to E3--><a href=\"psysml:4395c2c1-a48a-41da-9561-d3e6647c3ecb\" target=\"_top\" title=\"psysml:4395c2c1-a48a-41da-9561-d3e6647c3ecb\" xlink:actuate=\"onRequest\" xlink:href=\"psysml:4395c2c1-a48a-41da-9561-d3e6647c3ecb\" xlink:show=\"new\" xlink:title=\"psysml:4395c2c1-a48a-41da-9561-d3e6647c3ecb\" xlink:type=\"simple\"><path d=\"M163.83,133.68 C162.24,149.9 160.04,172.39 158.12,191.96 \" fill=\"none\" id=\"E6-&gt;E3\" style=\"stroke: #383838; stroke-width: 1.0;\"/><polygon fill=\"#FFFFFF\" points=\"156.16,211.98,151.0533,192.3861,164.986,193.7564,156.16,211.98\" style=\"stroke: #383838; stroke-width: 1.0;\"/><ellipse cx=\"153.6016\" cy=\"186.9092\" fill=\"#383838\" rx=\"2\" ry=\"2\" style=\"stroke: #383838; stroke-width: 1.0;\"/><ellipse cx=\"163.5535\" cy=\"187.888\" fill=\"#383838\" rx=\"2\" ry=\"2\" style=\"stroke: #383838; stroke-width: 1.0;\"/></a><!--MD5=[c0e8a79f5ef02fd9798678dc880795b8]\n",
       "@startuml\r\n",
       "skinparam monochrome true\r\n",
       "skinparam classbackgroundcolor white\r\n",
       "skinparam shadowing false\r\n",
       "skinparam wrapWidth 300\r\n",
       "hide circle\r\n",
       "\r\n",
       "package \"QualifiedNameImportTest\" as E1  [[psysml:d16b9356-f04a-4ff8-b2ae-3864bc76abf1 ]]  {\r\n",
       "package \"P1\" as E2  [[psysml:88b3eb59-bf67-426d-b22b-2d4deb7f4fe0 ]]  {\r\n",
       "comp def \"A\" as E3  <<(T,blue)part def>> [[psysml:fd353ea3-6373-455a-afbc-b284741b5a43 ]] {\r\n",
       "}\r\n",
       "}\r\n",
       "package \"P2\" as E4  [[psysml:4523bb13-7dc6-4a64-a848-9d456c6fa329 ]]  {\r\n",
       "package \"P2a\" as E5  [[psysml:afe2db1e-b444-45d6-9b6b-b3994e64af2e ]]  {\r\n",
       "}\r\n",
       "comp usage \"x: A\" as E6  <<(T,blue)part>> [[psysml:7f169e5b-4536-4f95-b3fb-a54a4bad9234 ]] {\r\n",
       "}\r\n",
       "E6 - -:|> E3 [[psysml:4395c2c1-a48a-41da-9561-d3e6647c3ecb ]] \r\n",
       "}\r\n",
       "}\r\n",
       "@enduml\r\n",
       "\n",
       "PlantUML version 1.2020.13(Sat Jun 13 12:26:38 UTC 2020)\n",
       "(EPL source distribution)\n",
       "Java Runtime: OpenJDK Runtime Environment\n",
       "JVM: OpenJDK 64-Bit Server VM\n",
       "Default Encoding: UTF-8\n",
       "Language: en\n",
       "Country: null\n",
       "--></g></svg>"
      ]
     },
     "execution_count": 43,
     "metadata": {},
     "output_type": "execute_result"
    }
   ],
   "source": [
    "%viz --style=\"DEFAULT\" --view=\"MIXED\" \"QualifiedNameImportTest\""
   ]
  },
  {
   "cell_type": "code",
   "execution_count": 44,
   "id": "falling-texas",
   "metadata": {
    "execution": {
     "iopub.execute_input": "2021-03-25T09:35:28.912133Z",
     "iopub.status.busy": "2021-03-25T09:35:28.911498Z",
     "iopub.status.idle": "2021-03-25T09:35:28.973832Z",
     "shell.execute_reply": "2021-03-25T09:35:28.974272Z"
    }
   },
   "outputs": [
    {
     "data": {
      "image/svg+xml": [
       "<?xml version=\"1.0\" encoding=\"UTF-8\" standalone=\"no\"?><svg xmlns=\"http://www.w3.org/2000/svg\" xmlns:xlink=\"http://www.w3.org/1999/xlink\" contentScriptType=\"application/ecmascript\" contentStyleType=\"text/css\" height=\"310px\" preserveAspectRatio=\"none\" style=\"width:253px;height:310px;\" version=\"1.1\" viewBox=\"0 0 253 310\" width=\"253px\" zoomAndPan=\"magnify\"><defs/><g><!--MD5=[fbc87193dbaf4d95561dea2c320d4a47]\n",
       "cluster E1--><a href=\"psysml:d16b9356-f04a-4ff8-b2ae-3864bc76abf1\" target=\"_top\" title=\"psysml:d16b9356-f04a-4ff8-b2ae-3864bc76abf1\" xlink:actuate=\"onRequest\" xlink:href=\"psysml:d16b9356-f04a-4ff8-b2ae-3864bc76abf1\" xlink:show=\"new\" xlink:title=\"psysml:d16b9356-f04a-4ff8-b2ae-3864bc76abf1\" xlink:type=\"simple\"><polygon fill=\"#FFFFFF\" points=\"16,6,221,6,228,28.2969,231,28.2969,231,298,16,298,16,6\" style=\"stroke: #000000; stroke-width: 1.5;\"/><line style=\"stroke: #000000; stroke-width: 1.5;\" x1=\"16\" x2=\"228\" y1=\"28.2969\" y2=\"28.2969\"/><text fill=\"#000000\" font-family=\"sans-serif\" font-size=\"14\" font-weight=\"bold\" lengthAdjust=\"spacingAndGlyphs\" textLength=\"199\" x=\"20\" y=\"20.9951\">QualifiedNameImportTest</text></a><!--MD5=[e4f7fae6ed58524ba242bb0b0d3be6b7]\n",
       "cluster E2--><a href=\"psysml:88b3eb59-bf67-426d-b22b-2d4deb7f4fe0\" target=\"_top\" title=\"psysml:88b3eb59-bf67-426d-b22b-2d4deb7f4fe0\" xlink:actuate=\"onRequest\" xlink:href=\"psysml:88b3eb59-bf67-426d-b22b-2d4deb7f4fe0\" xlink:show=\"new\" xlink:title=\"psysml:88b3eb59-bf67-426d-b22b-2d4deb7f4fe0\" xlink:type=\"simple\"><polygon fill=\"#FFFFFF\" points=\"105,177,131,177,138,199.2969,203,199.2969,203,274,105,274,105,177\" style=\"stroke: #000000; stroke-width: 1.5;\"/><line style=\"stroke: #000000; stroke-width: 1.5;\" x1=\"105\" x2=\"138\" y1=\"199.2969\" y2=\"199.2969\"/><text fill=\"#000000\" font-family=\"sans-serif\" font-size=\"14\" font-weight=\"bold\" lengthAdjust=\"spacingAndGlyphs\" textLength=\"20\" x=\"109\" y=\"191.9951\">P1</text></a><!--MD5=[f6df4d0ebaf0b5dfb2ced0ae5af7c670]\n",
       "cluster E4--><a href=\"psysml:4523bb13-7dc6-4a64-a848-9d456c6fa329\" target=\"_top\" title=\"psysml:4523bb13-7dc6-4a64-a848-9d456c6fa329\" xlink:actuate=\"onRequest\" xlink:href=\"psysml:4523bb13-7dc6-4a64-a848-9d456c6fa329\" xlink:show=\"new\" xlink:title=\"psysml:4523bb13-7dc6-4a64-a848-9d456c6fa329\" xlink:type=\"simple\"><polygon fill=\"#FFFFFF\" points=\"44,49,70,49,77,71.2969,203,71.2969,203,153,44,153,44,49\" style=\"stroke: #000000; stroke-width: 1.5;\"/><line style=\"stroke: #000000; stroke-width: 1.5;\" x1=\"44\" x2=\"77\" y1=\"71.2969\" y2=\"71.2969\"/><text fill=\"#000000\" font-family=\"sans-serif\" font-size=\"14\" font-weight=\"bold\" lengthAdjust=\"spacingAndGlyphs\" textLength=\"20\" x=\"48\" y=\"63.9951\">P2</text></a><!--MD5=[09b614a08d8cba4a07c9adeb5e0fee81]\n",
       "class E3--><a href=\"psysml:fd353ea3-6373-455a-afbc-b284741b5a43\" target=\"_top\" title=\"psysml:fd353ea3-6373-455a-afbc-b284741b5a43\" xlink:actuate=\"onRequest\" xlink:href=\"psysml:fd353ea3-6373-455a-afbc-b284741b5a43\" xlink:show=\"new\" xlink:title=\"psysml:fd353ea3-6373-455a-afbc-b284741b5a43\" xlink:type=\"simple\"><rect fill=\"#FFFFFF\" height=\"45.9375\" id=\"E3\" style=\"stroke: #383838; stroke-width: 1.5;\" width=\"66\" x=\"121\" y=\"212\"/><text fill=\"#000000\" font-family=\"sans-serif\" font-size=\"12\" font-style=\"italic\" lengthAdjust=\"spacingAndGlyphs\" textLength=\"64\" x=\"122\" y=\"228.1387\">«part def»</text><text fill=\"#000000\" font-family=\"sans-serif\" font-size=\"12\" lengthAdjust=\"spacingAndGlyphs\" textLength=\"8\" x=\"150\" y=\"242.1074\">A</text><line style=\"stroke: #383838; stroke-width: 1.5;\" x1=\"122\" x2=\"186\" y1=\"249.9375\" y2=\"249.9375\"/></a><!--MD5=[60a26617385b1d2d0262a64233df1f8d]\n",
       "class E6--><a href=\"psysml:7f169e5b-4536-4f95-b3fb-a54a4bad9234\" target=\"_top\" title=\"psysml:7f169e5b-4536-4f95-b3fb-a54a4bad9234\" xlink:actuate=\"onRequest\" xlink:href=\"psysml:7f169e5b-4536-4f95-b3fb-a54a4bad9234\" xlink:show=\"new\" xlink:title=\"psysml:7f169e5b-4536-4f95-b3fb-a54a4bad9234\" xlink:type=\"simple\"><rect fill=\"#FFFFFF\" height=\"45.9375\" id=\"E6\" rx=\"10\" ry=\"10\" style=\"stroke: #383838; stroke-width: 1.5;\" width=\"42\" x=\"145\" y=\"87.5\"/><text fill=\"#000000\" font-family=\"sans-serif\" font-size=\"12\" font-style=\"italic\" lengthAdjust=\"spacingAndGlyphs\" textLength=\"40\" x=\"146\" y=\"103.6387\">«part»</text><text fill=\"#000000\" font-family=\"sans-serif\" font-size=\"12\" lengthAdjust=\"spacingAndGlyphs\" textLength=\"22\" x=\"155\" y=\"117.6074\">x: A</text><line style=\"stroke: #383838; stroke-width: 1.5;\" x1=\"146\" x2=\"186\" y1=\"125.4375\" y2=\"125.4375\"/></a><a href=\"psysml:afe2db1e-b444-45d6-9b6b-b3994e64af2e\" target=\"_top\" title=\"psysml:afe2db1e-b444-45d6-9b6b-b3994e64af2e\" xlink:actuate=\"onRequest\" xlink:href=\"psysml:afe2db1e-b444-45d6-9b6b-b3994e64af2e\" xlink:show=\"new\" xlink:title=\"psysml:afe2db1e-b444-45d6-9b6b-b3994e64af2e\" xlink:type=\"simple\"><polygon fill=\"#FFFFFF\" points=\"60.5,84,95.5,84,102.5,106.2969,109.5,106.2969,109.5,136.5938,60.5,136.5938,60.5,84\" style=\"stroke: #000000; stroke-width: 1.5;\"/><line style=\"stroke: #000000; stroke-width: 1.5;\" x1=\"60.5\" x2=\"102.5\" y1=\"106.2969\" y2=\"106.2969\"/><text fill=\"#000000\" font-family=\"sans-serif\" font-size=\"14\" font-weight=\"bold\" lengthAdjust=\"spacingAndGlyphs\" textLength=\"29\" x=\"64.5\" y=\"98.9951\">P2a</text></a><!--MD5=[a717450b82c80b9240a525fa862496af]\n",
       "link E6 to E3--><a href=\"psysml:4395c2c1-a48a-41da-9561-d3e6647c3ecb\" target=\"_top\" title=\"psysml:4395c2c1-a48a-41da-9561-d3e6647c3ecb\" xlink:actuate=\"onRequest\" xlink:href=\"psysml:4395c2c1-a48a-41da-9561-d3e6647c3ecb\" xlink:show=\"new\" xlink:title=\"psysml:4395c2c1-a48a-41da-9561-d3e6647c3ecb\" xlink:type=\"simple\"><path d=\"M163.83,133.68 C162.24,149.9 160.04,172.39 158.12,191.96 \" fill=\"none\" id=\"E6-&gt;E3\" style=\"stroke: #383838; stroke-width: 1.0;\"/><polygon fill=\"#FFFFFF\" points=\"156.16,211.98,151.0533,192.3861,164.986,193.7564,156.16,211.98\" style=\"stroke: #383838; stroke-width: 1.0;\"/><ellipse cx=\"153.6016\" cy=\"186.9092\" fill=\"#383838\" rx=\"2\" ry=\"2\" style=\"stroke: #383838; stroke-width: 1.0;\"/><ellipse cx=\"163.5535\" cy=\"187.888\" fill=\"#383838\" rx=\"2\" ry=\"2\" style=\"stroke: #383838; stroke-width: 1.0;\"/></a><!--MD5=[ea3211bd817ca46e14a13a4ef29a2d82]\n",
       "@startuml\r\n",
       "top to bottom direction\r\n",
       "skinparam monochrome true\r\n",
       "skinparam classbackgroundcolor white\r\n",
       "skinparam shadowing false\r\n",
       "skinparam wrapWidth 300\r\n",
       "hide circle\r\n",
       "\r\n",
       "package \"QualifiedNameImportTest\" as E1  [[psysml:d16b9356-f04a-4ff8-b2ae-3864bc76abf1 ]]  {\r\n",
       "package \"P1\" as E2  [[psysml:88b3eb59-bf67-426d-b22b-2d4deb7f4fe0 ]]  {\r\n",
       "comp def \"A\" as E3  <<(T,blue)part def>> [[psysml:fd353ea3-6373-455a-afbc-b284741b5a43 ]] {\r\n",
       "}\r\n",
       "}\r\n",
       "package \"P2\" as E4  [[psysml:4523bb13-7dc6-4a64-a848-9d456c6fa329 ]]  {\r\n",
       "package \"P2a\" as E5  [[psysml:afe2db1e-b444-45d6-9b6b-b3994e64af2e ]]  {\r\n",
       "}\r\n",
       "comp usage \"x: A\" as E6  <<(T,blue)part>> [[psysml:7f169e5b-4536-4f95-b3fb-a54a4bad9234 ]] {\r\n",
       "}\r\n",
       "E6 - -:|> E3 [[psysml:4395c2c1-a48a-41da-9561-d3e6647c3ecb ]] \r\n",
       "}\r\n",
       "}\r\n",
       "@enduml\r\n",
       "\n",
       "PlantUML version 1.2020.13(Sat Jun 13 12:26:38 UTC 2020)\n",
       "(EPL source distribution)\n",
       "Java Runtime: OpenJDK Runtime Environment\n",
       "JVM: OpenJDK 64-Bit Server VM\n",
       "Default Encoding: UTF-8\n",
       "Language: en\n",
       "Country: null\n",
       "--></g></svg>"
      ]
     },
     "execution_count": 44,
     "metadata": {},
     "output_type": "execute_result"
    }
   ],
   "source": [
    "%viz --style=\"TB\" --view=\"Default\" \"QualifiedNameImportTest\""
   ]
  },
  {
   "cell_type": "code",
   "execution_count": 45,
   "id": "expected-reservation",
   "metadata": {
    "execution": {
     "iopub.execute_input": "2021-03-25T09:35:29.024204Z",
     "iopub.status.busy": "2021-03-25T09:35:29.023631Z",
     "iopub.status.idle": "2021-03-25T09:35:29.081065Z",
     "shell.execute_reply": "2021-03-25T09:35:29.079339Z"
    }
   },
   "outputs": [
    {
     "data": {
      "image/svg+xml": [
       "<?xml version=\"1.0\" encoding=\"UTF-8\" standalone=\"no\"?><svg xmlns=\"http://www.w3.org/2000/svg\" xmlns:xlink=\"http://www.w3.org/1999/xlink\" contentScriptType=\"application/ecmascript\" contentStyleType=\"text/css\" height=\"310px\" preserveAspectRatio=\"none\" style=\"width:253px;height:310px;\" version=\"1.1\" viewBox=\"0 0 253 310\" width=\"253px\" zoomAndPan=\"magnify\"><defs/><g><!--MD5=[fbc87193dbaf4d95561dea2c320d4a47]\n",
       "cluster E1--><a href=\"psysml:d16b9356-f04a-4ff8-b2ae-3864bc76abf1\" target=\"_top\" title=\"psysml:d16b9356-f04a-4ff8-b2ae-3864bc76abf1\" xlink:actuate=\"onRequest\" xlink:href=\"psysml:d16b9356-f04a-4ff8-b2ae-3864bc76abf1\" xlink:show=\"new\" xlink:title=\"psysml:d16b9356-f04a-4ff8-b2ae-3864bc76abf1\" xlink:type=\"simple\"><polygon fill=\"#FFFFFF\" points=\"16,6,221,6,228,28.2969,231,28.2969,231,298,16,298,16,6\" style=\"stroke: #000000; stroke-width: 1.5;\"/><line style=\"stroke: #000000; stroke-width: 1.5;\" x1=\"16\" x2=\"228\" y1=\"28.2969\" y2=\"28.2969\"/><text fill=\"#000000\" font-family=\"sans-serif\" font-size=\"14\" font-weight=\"bold\" lengthAdjust=\"spacingAndGlyphs\" textLength=\"199\" x=\"20\" y=\"20.9951\">QualifiedNameImportTest</text></a><!--MD5=[e4f7fae6ed58524ba242bb0b0d3be6b7]\n",
       "cluster E2--><a href=\"psysml:88b3eb59-bf67-426d-b22b-2d4deb7f4fe0\" target=\"_top\" title=\"psysml:88b3eb59-bf67-426d-b22b-2d4deb7f4fe0\" xlink:actuate=\"onRequest\" xlink:href=\"psysml:88b3eb59-bf67-426d-b22b-2d4deb7f4fe0\" xlink:show=\"new\" xlink:title=\"psysml:88b3eb59-bf67-426d-b22b-2d4deb7f4fe0\" xlink:type=\"simple\"><polygon fill=\"#FFFFFF\" points=\"105,177,131,177,138,199.2969,203,199.2969,203,274,105,274,105,177\" style=\"stroke: #000000; stroke-width: 1.5;\"/><line style=\"stroke: #000000; stroke-width: 1.5;\" x1=\"105\" x2=\"138\" y1=\"199.2969\" y2=\"199.2969\"/><text fill=\"#000000\" font-family=\"sans-serif\" font-size=\"14\" font-weight=\"bold\" lengthAdjust=\"spacingAndGlyphs\" textLength=\"20\" x=\"109\" y=\"191.9951\">P1</text></a><!--MD5=[f6df4d0ebaf0b5dfb2ced0ae5af7c670]\n",
       "cluster E4--><a href=\"psysml:4523bb13-7dc6-4a64-a848-9d456c6fa329\" target=\"_top\" title=\"psysml:4523bb13-7dc6-4a64-a848-9d456c6fa329\" xlink:actuate=\"onRequest\" xlink:href=\"psysml:4523bb13-7dc6-4a64-a848-9d456c6fa329\" xlink:show=\"new\" xlink:title=\"psysml:4523bb13-7dc6-4a64-a848-9d456c6fa329\" xlink:type=\"simple\"><polygon fill=\"#FFFFFF\" points=\"44,49,70,49,77,71.2969,203,71.2969,203,153,44,153,44,49\" style=\"stroke: #000000; stroke-width: 1.5;\"/><line style=\"stroke: #000000; stroke-width: 1.5;\" x1=\"44\" x2=\"77\" y1=\"71.2969\" y2=\"71.2969\"/><text fill=\"#000000\" font-family=\"sans-serif\" font-size=\"14\" font-weight=\"bold\" lengthAdjust=\"spacingAndGlyphs\" textLength=\"20\" x=\"48\" y=\"63.9951\">P2</text></a><!--MD5=[09b614a08d8cba4a07c9adeb5e0fee81]\n",
       "class E3--><a href=\"psysml:fd353ea3-6373-455a-afbc-b284741b5a43\" target=\"_top\" title=\"psysml:fd353ea3-6373-455a-afbc-b284741b5a43\" xlink:actuate=\"onRequest\" xlink:href=\"psysml:fd353ea3-6373-455a-afbc-b284741b5a43\" xlink:show=\"new\" xlink:title=\"psysml:fd353ea3-6373-455a-afbc-b284741b5a43\" xlink:type=\"simple\"><rect fill=\"#FFFFFF\" height=\"45.9375\" id=\"E3\" style=\"stroke: #383838; stroke-width: 1.5;\" width=\"66\" x=\"121\" y=\"212\"/><text fill=\"#000000\" font-family=\"sans-serif\" font-size=\"12\" font-style=\"italic\" lengthAdjust=\"spacingAndGlyphs\" textLength=\"64\" x=\"122\" y=\"228.1387\">«part def»</text><text fill=\"#000000\" font-family=\"sans-serif\" font-size=\"12\" lengthAdjust=\"spacingAndGlyphs\" textLength=\"8\" x=\"150\" y=\"242.1074\">A</text><line style=\"stroke: #383838; stroke-width: 1.5;\" x1=\"122\" x2=\"186\" y1=\"249.9375\" y2=\"249.9375\"/></a><!--MD5=[60a26617385b1d2d0262a64233df1f8d]\n",
       "class E6--><a href=\"psysml:7f169e5b-4536-4f95-b3fb-a54a4bad9234\" target=\"_top\" title=\"psysml:7f169e5b-4536-4f95-b3fb-a54a4bad9234\" xlink:actuate=\"onRequest\" xlink:href=\"psysml:7f169e5b-4536-4f95-b3fb-a54a4bad9234\" xlink:show=\"new\" xlink:title=\"psysml:7f169e5b-4536-4f95-b3fb-a54a4bad9234\" xlink:type=\"simple\"><rect fill=\"#FFFFFF\" height=\"45.9375\" id=\"E6\" rx=\"10\" ry=\"10\" style=\"stroke: #383838; stroke-width: 1.5;\" width=\"42\" x=\"145\" y=\"87.5\"/><text fill=\"#000000\" font-family=\"sans-serif\" font-size=\"12\" font-style=\"italic\" lengthAdjust=\"spacingAndGlyphs\" textLength=\"40\" x=\"146\" y=\"103.6387\">«part»</text><text fill=\"#000000\" font-family=\"sans-serif\" font-size=\"12\" lengthAdjust=\"spacingAndGlyphs\" textLength=\"22\" x=\"155\" y=\"117.6074\">x: A</text><line style=\"stroke: #383838; stroke-width: 1.5;\" x1=\"146\" x2=\"186\" y1=\"125.4375\" y2=\"125.4375\"/></a><a href=\"psysml:afe2db1e-b444-45d6-9b6b-b3994e64af2e\" target=\"_top\" title=\"psysml:afe2db1e-b444-45d6-9b6b-b3994e64af2e\" xlink:actuate=\"onRequest\" xlink:href=\"psysml:afe2db1e-b444-45d6-9b6b-b3994e64af2e\" xlink:show=\"new\" xlink:title=\"psysml:afe2db1e-b444-45d6-9b6b-b3994e64af2e\" xlink:type=\"simple\"><polygon fill=\"#FFFFFF\" points=\"60.5,84,95.5,84,102.5,106.2969,109.5,106.2969,109.5,136.5938,60.5,136.5938,60.5,84\" style=\"stroke: #000000; stroke-width: 1.5;\"/><line style=\"stroke: #000000; stroke-width: 1.5;\" x1=\"60.5\" x2=\"102.5\" y1=\"106.2969\" y2=\"106.2969\"/><text fill=\"#000000\" font-family=\"sans-serif\" font-size=\"14\" font-weight=\"bold\" lengthAdjust=\"spacingAndGlyphs\" textLength=\"29\" x=\"64.5\" y=\"98.9951\">P2a</text></a><!--MD5=[a717450b82c80b9240a525fa862496af]\n",
       "link E6 to E3--><a href=\"psysml:4395c2c1-a48a-41da-9561-d3e6647c3ecb\" target=\"_top\" title=\"psysml:4395c2c1-a48a-41da-9561-d3e6647c3ecb\" xlink:actuate=\"onRequest\" xlink:href=\"psysml:4395c2c1-a48a-41da-9561-d3e6647c3ecb\" xlink:show=\"new\" xlink:title=\"psysml:4395c2c1-a48a-41da-9561-d3e6647c3ecb\" xlink:type=\"simple\"><path d=\"M163.83,133.68 C162.24,149.9 160.04,172.39 158.12,191.96 \" fill=\"none\" id=\"E6-&gt;E3\" style=\"stroke: #383838; stroke-width: 1.0;\"/><polygon fill=\"#FFFFFF\" points=\"156.16,211.98,151.0533,192.3861,164.986,193.7564,156.16,211.98\" style=\"stroke: #383838; stroke-width: 1.0;\"/><ellipse cx=\"153.6016\" cy=\"186.9092\" fill=\"#383838\" rx=\"2\" ry=\"2\" style=\"stroke: #383838; stroke-width: 1.0;\"/><ellipse cx=\"163.5535\" cy=\"187.888\" fill=\"#383838\" rx=\"2\" ry=\"2\" style=\"stroke: #383838; stroke-width: 1.0;\"/></a><!--MD5=[ea3211bd817ca46e14a13a4ef29a2d82]\n",
       "@startuml\r\n",
       "top to bottom direction\r\n",
       "skinparam monochrome true\r\n",
       "skinparam classbackgroundcolor white\r\n",
       "skinparam shadowing false\r\n",
       "skinparam wrapWidth 300\r\n",
       "hide circle\r\n",
       "\r\n",
       "package \"QualifiedNameImportTest\" as E1  [[psysml:d16b9356-f04a-4ff8-b2ae-3864bc76abf1 ]]  {\r\n",
       "package \"P1\" as E2  [[psysml:88b3eb59-bf67-426d-b22b-2d4deb7f4fe0 ]]  {\r\n",
       "comp def \"A\" as E3  <<(T,blue)part def>> [[psysml:fd353ea3-6373-455a-afbc-b284741b5a43 ]] {\r\n",
       "}\r\n",
       "}\r\n",
       "package \"P2\" as E4  [[psysml:4523bb13-7dc6-4a64-a848-9d456c6fa329 ]]  {\r\n",
       "package \"P2a\" as E5  [[psysml:afe2db1e-b444-45d6-9b6b-b3994e64af2e ]]  {\r\n",
       "}\r\n",
       "comp usage \"x: A\" as E6  <<(T,blue)part>> [[psysml:7f169e5b-4536-4f95-b3fb-a54a4bad9234 ]] {\r\n",
       "}\r\n",
       "E6 - -:|> E3 [[psysml:4395c2c1-a48a-41da-9561-d3e6647c3ecb ]] \r\n",
       "}\r\n",
       "}\r\n",
       "@enduml\r\n",
       "\n",
       "PlantUML version 1.2020.13(Sat Jun 13 12:26:38 UTC 2020)\n",
       "(EPL source distribution)\n",
       "Java Runtime: OpenJDK Runtime Environment\n",
       "JVM: OpenJDK 64-Bit Server VM\n",
       "Default Encoding: UTF-8\n",
       "Language: en\n",
       "Country: null\n",
       "--></g></svg>"
      ]
     },
     "execution_count": 45,
     "metadata": {},
     "output_type": "execute_result"
    }
   ],
   "source": [
    "%viz --style=\"TB\" --view=\"Tree\" \"QualifiedNameImportTest\""
   ]
  },
  {
   "cell_type": "code",
   "execution_count": 46,
   "id": "pharmaceutical-analysis",
   "metadata": {
    "execution": {
     "iopub.execute_input": "2021-03-25T09:35:29.134257Z",
     "iopub.status.busy": "2021-03-25T09:35:29.133535Z",
     "iopub.status.idle": "2021-03-25T09:35:29.140754Z",
     "shell.execute_reply": "2021-03-25T09:35:29.141168Z"
    }
   },
   "outputs": [
    {
     "data": {
      "image/svg+xml": [
       "<?xml version=\"1.0\" encoding=\"UTF-8\" standalone=\"no\"?><svg xmlns=\"http://www.w3.org/2000/svg\" xmlns:xlink=\"http://www.w3.org/1999/xlink\" contentScriptType=\"application/ecmascript\" contentStyleType=\"text/css\" height=\"12px\" preserveAspectRatio=\"none\" style=\"width:12px;height:12px;\" version=\"1.1\" viewBox=\"0 0 12 12\" width=\"12px\" zoomAndPan=\"magnify\"><defs/><g><!--MD5=[f4ee21bc66e489b5061b7c3e9601fdef]\n",
       "@startuml\r\n",
       "top to bottom direction\r\n",
       "skinparam monochrome true\r\n",
       "skinparam classbackgroundcolor white\r\n",
       "skinparam shadowing false\r\n",
       "skinparam wrapWidth 300\r\n",
       "hide circle\r\n",
       "\r\n",
       "@enduml\r\n",
       "\n",
       "PlantUML version 1.2020.13(Sat Jun 13 12:26:38 UTC 2020)\n",
       "(EPL source distribution)\n",
       "Java Runtime: OpenJDK Runtime Environment\n",
       "JVM: OpenJDK 64-Bit Server VM\n",
       "Default Encoding: UTF-8\n",
       "Language: en\n",
       "Country: null\n",
       "--></g></svg>"
      ]
     },
     "execution_count": 46,
     "metadata": {},
     "output_type": "execute_result"
    }
   ],
   "source": [
    "%viz --style=\"TB\" --view=\"State\" \"QualifiedNameImportTest\""
   ]
  },
  {
   "cell_type": "code",
   "execution_count": 47,
   "id": "invalid-toner",
   "metadata": {
    "execution": {
     "iopub.execute_input": "2021-03-25T09:35:29.194542Z",
     "iopub.status.busy": "2021-03-25T09:35:29.193777Z",
     "iopub.status.idle": "2021-03-25T09:35:29.250643Z",
     "shell.execute_reply": "2021-03-25T09:35:29.249287Z"
    }
   },
   "outputs": [
    {
     "data": {
      "image/svg+xml": [
       "<?xml version=\"1.0\" encoding=\"UTF-8\" standalone=\"no\"?><svg xmlns=\"http://www.w3.org/2000/svg\" xmlns:xlink=\"http://www.w3.org/1999/xlink\" contentScriptType=\"application/ecmascript\" contentStyleType=\"text/css\" height=\"189px\" preserveAspectRatio=\"none\" style=\"width:381px;height:189px;\" version=\"1.1\" viewBox=\"0 0 381 189\" width=\"381px\" zoomAndPan=\"magnify\"><defs/><g><!--MD5=[fbc87193dbaf4d95561dea2c320d4a47]\n",
       "cluster E1--><a href=\"psysml:d16b9356-f04a-4ff8-b2ae-3864bc76abf1\" target=\"_top\" title=\"psysml:d16b9356-f04a-4ff8-b2ae-3864bc76abf1\" xlink:actuate=\"onRequest\" xlink:href=\"psysml:d16b9356-f04a-4ff8-b2ae-3864bc76abf1\" xlink:show=\"new\" xlink:title=\"psysml:d16b9356-f04a-4ff8-b2ae-3864bc76abf1\" xlink:type=\"simple\"><polygon fill=\"#FFFFFF\" points=\"16,6,221,6,228,28.2969,359,28.2969,359,177,16,177,16,6\" style=\"stroke: #000000; stroke-width: 1.5;\"/><line style=\"stroke: #000000; stroke-width: 1.5;\" x1=\"16\" x2=\"228\" y1=\"28.2969\" y2=\"28.2969\"/><text fill=\"#000000\" font-family=\"sans-serif\" font-size=\"14\" font-weight=\"bold\" lengthAdjust=\"spacingAndGlyphs\" textLength=\"199\" x=\"20\" y=\"20.9951\">QualifiedNameImportTest</text></a><!--MD5=[e4f7fae6ed58524ba242bb0b0d3be6b7]\n",
       "cluster E2--><a href=\"psysml:88b3eb59-bf67-426d-b22b-2d4deb7f4fe0\" target=\"_top\" title=\"psysml:88b3eb59-bf67-426d-b22b-2d4deb7f4fe0\" xlink:actuate=\"onRequest\" xlink:href=\"psysml:88b3eb59-bf67-426d-b22b-2d4deb7f4fe0\" xlink:show=\"new\" xlink:title=\"psysml:88b3eb59-bf67-426d-b22b-2d4deb7f4fe0\" xlink:type=\"simple\"><polygon fill=\"#FFFFFF\" points=\"231,54,257,54,264,76.2969,335,76.2969,335,148,231,148,231,54\" style=\"stroke: #000000; stroke-width: 1.5;\"/><line style=\"stroke: #000000; stroke-width: 1.5;\" x1=\"231\" x2=\"264\" y1=\"76.2969\" y2=\"76.2969\"/><text fill=\"#000000\" font-family=\"sans-serif\" font-size=\"14\" font-weight=\"bold\" lengthAdjust=\"spacingAndGlyphs\" textLength=\"20\" x=\"235\" y=\"68.9951\">P1</text></a><!--MD5=[f6df4d0ebaf0b5dfb2ced0ae5af7c670]\n",
       "cluster E4--><a href=\"psysml:4523bb13-7dc6-4a64-a848-9d456c6fa329\" target=\"_top\" title=\"psysml:4523bb13-7dc6-4a64-a848-9d456c6fa329\" xlink:actuate=\"onRequest\" xlink:href=\"psysml:4523bb13-7dc6-4a64-a848-9d456c6fa329\" xlink:show=\"new\" xlink:title=\"psysml:4523bb13-7dc6-4a64-a848-9d456c6fa329\" xlink:type=\"simple\"><polygon fill=\"#FFFFFF\" points=\"40,49,66,49,73,71.2969,207,71.2969,207,153,40,153,40,49\" style=\"stroke: #000000; stroke-width: 1.5;\"/><line style=\"stroke: #000000; stroke-width: 1.5;\" x1=\"40\" x2=\"73\" y1=\"71.2969\" y2=\"71.2969\"/><text fill=\"#000000\" font-family=\"sans-serif\" font-size=\"14\" font-weight=\"bold\" lengthAdjust=\"spacingAndGlyphs\" textLength=\"20\" x=\"44\" y=\"63.9951\">P2</text></a><g id=\"E1.E2.E3\"><a href=\"psysml:fd353ea3-6373-455a-afbc-b284741b5a43\" target=\"_top\" title=\"psysml:fd353ea3-6373-455a-afbc-b284741b5a43\" xlink:actuate=\"onRequest\" xlink:href=\"psysml:fd353ea3-6373-455a-afbc-b284741b5a43\" xlink:show=\"new\" xlink:title=\"psysml:fd353ea3-6373-455a-afbc-b284741b5a43\" xlink:type=\"simple\"><rect fill=\"#FFFFFF\" height=\"42.9375\" id=\"E3\" style=\"stroke: #383838; stroke-width: 1.5;\" width=\"71\" x=\"247.5\" y=\"89\"/><rect fill=\"#F8F8F8\" height=\"37.9375\" style=\"stroke: #383838; stroke-width: 1.5;\" width=\"71\" x=\"247.5\" y=\"89\"/><text fill=\"#000000\" font-family=\"sans-serif\" font-size=\"12\" font-style=\"italic\" lengthAdjust=\"spacingAndGlyphs\" textLength=\"64\" x=\"251\" y=\"105.1387\">«part def»</text><text fill=\"#000000\" font-family=\"sans-serif\" font-size=\"12\" lengthAdjust=\"spacingAndGlyphs\" textLength=\"8\" x=\"279\" y=\"119.1074\">A</text></a></g><a href=\"psysml:afe2db1e-b444-45d6-9b6b-b3994e64af2e\" target=\"_top\" title=\"psysml:afe2db1e-b444-45d6-9b6b-b3994e64af2e\" xlink:actuate=\"onRequest\" xlink:href=\"psysml:afe2db1e-b444-45d6-9b6b-b3994e64af2e\" xlink:show=\"new\" xlink:title=\"psysml:afe2db1e-b444-45d6-9b6b-b3994e64af2e\" xlink:type=\"simple\"><polygon fill=\"#FFFFFF\" points=\"141.5,84,176.5,84,183.5,106.2969,190.5,106.2969,190.5,136.5938,141.5,136.5938,141.5,84\" style=\"stroke: #000000; stroke-width: 1.5;\"/><line style=\"stroke: #000000; stroke-width: 1.5;\" x1=\"141.5\" x2=\"183.5\" y1=\"106.2969\" y2=\"106.2969\"/><text fill=\"#000000\" font-family=\"sans-serif\" font-size=\"14\" font-weight=\"bold\" lengthAdjust=\"spacingAndGlyphs\" textLength=\"29\" x=\"145.5\" y=\"98.9951\">P2a</text></a><g id=\"E1.E4.E6\"><a href=\"psysml:7f169e5b-4536-4f95-b3fb-a54a4bad9234\" target=\"_top\" title=\"psysml:7f169e5b-4536-4f95-b3fb-a54a4bad9234\" xlink:actuate=\"onRequest\" xlink:href=\"psysml:7f169e5b-4536-4f95-b3fb-a54a4bad9234\" xlink:show=\"new\" xlink:title=\"psysml:7f169e5b-4536-4f95-b3fb-a54a4bad9234\" xlink:type=\"simple\"><rect fill=\"#FFFFFF\" height=\"40\" id=\"E6\" rx=\"10\" ry=\"10\" style=\"stroke: #383838; stroke-width: 1.5;\" width=\"50\" x=\"56\" y=\"90.5\"/><rect fill=\"#F8F8F8\" height=\"23.9688\" rx=\"10\" ry=\"10\" style=\"stroke: #F8F8F8; stroke-width: 1.5;\" width=\"50\" x=\"56\" y=\"90.5\"/><rect fill=\"#F8F8F8\" height=\"10\" style=\"stroke: #F8F8F8; stroke-width: 1.5;\" width=\"50\" x=\"56\" y=\"104.4688\"/><rect fill=\"none\" height=\"40\" id=\"E6\" rx=\"10\" ry=\"10\" style=\"stroke: #383838; stroke-width: 1.5;\" width=\"50\" x=\"56\" y=\"90.5\"/><text fill=\"#000000\" font-family=\"sans-serif\" font-size=\"12\" lengthAdjust=\"spacingAndGlyphs\" textLength=\"22\" x=\"70\" y=\"106.6387\">x: A</text></a></g><!--MD5=[fbc62650c21726a17245a9a120eb4419]\n",
       "@startuml\r\n",
       "skinparam ranksep 8\r\n",
       "skinparam rectangle {\r\n",
       " backgroundColor<<block>> LightGreen\r\n",
       "}\r\n",
       "top to bottom direction\r\n",
       "skinparam monochrome true\r\n",
       "skinparam classbackgroundcolor white\r\n",
       "skinparam shadowing false\r\n",
       "skinparam wrapWidth 300\r\n",
       "hide circle\r\n",
       "\r\n",
       "package \"QualifiedNameImportTest\" as E1  [[psysml:d16b9356-f04a-4ff8-b2ae-3864bc76abf1 ]]  {\r\n",
       "package \"P1\" as E2  [[psysml:88b3eb59-bf67-426d-b22b-2d4deb7f4fe0 ]]  {\r\n",
       "rec def \"A\" as E3  <<(T,blue)part def>> [[psysml:fd353ea3-6373-455a-afbc-b284741b5a43 ]] {\r\n",
       "}\r\n",
       "}\r\n",
       "package \"P2\" as E4  [[psysml:4523bb13-7dc6-4a64-a848-9d456c6fa329 ]]  {\r\n",
       "package \"P2a\" as E5  [[psysml:afe2db1e-b444-45d6-9b6b-b3994e64af2e ]]  {\r\n",
       "}\r\n",
       "rec usage \"x: A\" as E6  [[psysml:7f169e5b-4536-4f95-b3fb-a54a4bad9234 ]] {\r\n",
       "}\r\n",
       "}\r\n",
       "}\r\n",
       "@enduml\r\n",
       "\n",
       "PlantUML version 1.2020.13(Sat Jun 13 12:26:38 UTC 2020)\n",
       "(EPL source distribution)\n",
       "Java Runtime: OpenJDK Runtime Environment\n",
       "JVM: OpenJDK 64-Bit Server VM\n",
       "Default Encoding: UTF-8\n",
       "Language: en\n",
       "Country: null\n",
       "--></g></svg>"
      ]
     },
     "execution_count": 47,
     "metadata": {},
     "output_type": "execute_result"
    }
   ],
   "source": [
    "%viz --style=\"TB\" --view=\"Interconnection\" \"QualifiedNameImportTest\""
   ]
  },
  {
   "cell_type": "code",
   "execution_count": 48,
   "id": "opponent-fisher",
   "metadata": {
    "execution": {
     "iopub.execute_input": "2021-03-25T09:35:29.301753Z",
     "iopub.status.busy": "2021-03-25T09:35:29.301240Z",
     "iopub.status.idle": "2021-03-25T09:35:29.309235Z",
     "shell.execute_reply": "2021-03-25T09:35:29.308805Z"
    }
   },
   "outputs": [
    {
     "data": {
      "image/svg+xml": [
       "<?xml version=\"1.0\" encoding=\"UTF-8\" standalone=\"no\"?><svg xmlns=\"http://www.w3.org/2000/svg\" xmlns:xlink=\"http://www.w3.org/1999/xlink\" contentScriptType=\"application/ecmascript\" contentStyleType=\"text/css\" height=\"12px\" preserveAspectRatio=\"none\" style=\"width:12px;height:12px;\" version=\"1.1\" viewBox=\"0 0 12 12\" width=\"12px\" zoomAndPan=\"magnify\"><defs/><g><!--MD5=[06afc254b03ac5e9d9fb7773b07d0800]\n",
       "@startuml\r\n",
       "skinparam ranksep 8\r\n",
       "top to bottom direction\r\n",
       "skinparam monochrome true\r\n",
       "skinparam classbackgroundcolor white\r\n",
       "skinparam shadowing false\r\n",
       "skinparam wrapWidth 300\r\n",
       "hide circle\r\n",
       "\r\n",
       "@enduml\r\n",
       "\n",
       "PlantUML version 1.2020.13(Sat Jun 13 12:26:38 UTC 2020)\n",
       "(EPL source distribution)\n",
       "Java Runtime: OpenJDK Runtime Environment\n",
       "JVM: OpenJDK 64-Bit Server VM\n",
       "Default Encoding: UTF-8\n",
       "Language: en\n",
       "Country: null\n",
       "--></g></svg>"
      ]
     },
     "execution_count": 48,
     "metadata": {},
     "output_type": "execute_result"
    }
   ],
   "source": [
    "%viz --style=\"TB\" --view=\"Action\" \"QualifiedNameImportTest\""
   ]
  },
  {
   "cell_type": "code",
   "execution_count": 49,
   "id": "young-blogger",
   "metadata": {
    "execution": {
     "iopub.execute_input": "2021-03-25T09:35:29.362793Z",
     "iopub.status.busy": "2021-03-25T09:35:29.362117Z",
     "iopub.status.idle": "2021-03-25T09:35:29.420039Z",
     "shell.execute_reply": "2021-03-25T09:35:29.418622Z"
    }
   },
   "outputs": [
    {
     "data": {
      "image/svg+xml": [
       "<?xml version=\"1.0\" encoding=\"UTF-8\" standalone=\"no\"?><svg xmlns=\"http://www.w3.org/2000/svg\" xmlns:xlink=\"http://www.w3.org/1999/xlink\" contentScriptType=\"application/ecmascript\" contentStyleType=\"text/css\" height=\"310px\" preserveAspectRatio=\"none\" style=\"width:253px;height:310px;\" version=\"1.1\" viewBox=\"0 0 253 310\" width=\"253px\" zoomAndPan=\"magnify\"><defs/><g><!--MD5=[fbc87193dbaf4d95561dea2c320d4a47]\n",
       "cluster E1--><a href=\"psysml:d16b9356-f04a-4ff8-b2ae-3864bc76abf1\" target=\"_top\" title=\"psysml:d16b9356-f04a-4ff8-b2ae-3864bc76abf1\" xlink:actuate=\"onRequest\" xlink:href=\"psysml:d16b9356-f04a-4ff8-b2ae-3864bc76abf1\" xlink:show=\"new\" xlink:title=\"psysml:d16b9356-f04a-4ff8-b2ae-3864bc76abf1\" xlink:type=\"simple\"><polygon fill=\"#FFFFFF\" points=\"16,6,221,6,228,28.2969,231,28.2969,231,298,16,298,16,6\" style=\"stroke: #000000; stroke-width: 1.5;\"/><line style=\"stroke: #000000; stroke-width: 1.5;\" x1=\"16\" x2=\"228\" y1=\"28.2969\" y2=\"28.2969\"/><text fill=\"#000000\" font-family=\"sans-serif\" font-size=\"14\" font-weight=\"bold\" lengthAdjust=\"spacingAndGlyphs\" textLength=\"199\" x=\"20\" y=\"20.9951\">QualifiedNameImportTest</text></a><!--MD5=[e4f7fae6ed58524ba242bb0b0d3be6b7]\n",
       "cluster E2--><a href=\"psysml:88b3eb59-bf67-426d-b22b-2d4deb7f4fe0\" target=\"_top\" title=\"psysml:88b3eb59-bf67-426d-b22b-2d4deb7f4fe0\" xlink:actuate=\"onRequest\" xlink:href=\"psysml:88b3eb59-bf67-426d-b22b-2d4deb7f4fe0\" xlink:show=\"new\" xlink:title=\"psysml:88b3eb59-bf67-426d-b22b-2d4deb7f4fe0\" xlink:type=\"simple\"><polygon fill=\"#FFFFFF\" points=\"105,177,131,177,138,199.2969,203,199.2969,203,274,105,274,105,177\" style=\"stroke: #000000; stroke-width: 1.5;\"/><line style=\"stroke: #000000; stroke-width: 1.5;\" x1=\"105\" x2=\"138\" y1=\"199.2969\" y2=\"199.2969\"/><text fill=\"#000000\" font-family=\"sans-serif\" font-size=\"14\" font-weight=\"bold\" lengthAdjust=\"spacingAndGlyphs\" textLength=\"20\" x=\"109\" y=\"191.9951\">P1</text></a><!--MD5=[f6df4d0ebaf0b5dfb2ced0ae5af7c670]\n",
       "cluster E4--><a href=\"psysml:4523bb13-7dc6-4a64-a848-9d456c6fa329\" target=\"_top\" title=\"psysml:4523bb13-7dc6-4a64-a848-9d456c6fa329\" xlink:actuate=\"onRequest\" xlink:href=\"psysml:4523bb13-7dc6-4a64-a848-9d456c6fa329\" xlink:show=\"new\" xlink:title=\"psysml:4523bb13-7dc6-4a64-a848-9d456c6fa329\" xlink:type=\"simple\"><polygon fill=\"#FFFFFF\" points=\"44,49,70,49,77,71.2969,203,71.2969,203,153,44,153,44,49\" style=\"stroke: #000000; stroke-width: 1.5;\"/><line style=\"stroke: #000000; stroke-width: 1.5;\" x1=\"44\" x2=\"77\" y1=\"71.2969\" y2=\"71.2969\"/><text fill=\"#000000\" font-family=\"sans-serif\" font-size=\"14\" font-weight=\"bold\" lengthAdjust=\"spacingAndGlyphs\" textLength=\"20\" x=\"48\" y=\"63.9951\">P2</text></a><!--MD5=[09b614a08d8cba4a07c9adeb5e0fee81]\n",
       "class E3--><a href=\"psysml:fd353ea3-6373-455a-afbc-b284741b5a43\" target=\"_top\" title=\"psysml:fd353ea3-6373-455a-afbc-b284741b5a43\" xlink:actuate=\"onRequest\" xlink:href=\"psysml:fd353ea3-6373-455a-afbc-b284741b5a43\" xlink:show=\"new\" xlink:title=\"psysml:fd353ea3-6373-455a-afbc-b284741b5a43\" xlink:type=\"simple\"><rect fill=\"#FFFFFF\" height=\"45.9375\" id=\"E3\" style=\"stroke: #383838; stroke-width: 1.5;\" width=\"66\" x=\"121\" y=\"212\"/><text fill=\"#000000\" font-family=\"sans-serif\" font-size=\"12\" font-style=\"italic\" lengthAdjust=\"spacingAndGlyphs\" textLength=\"64\" x=\"122\" y=\"228.1387\">«part def»</text><text fill=\"#000000\" font-family=\"sans-serif\" font-size=\"12\" lengthAdjust=\"spacingAndGlyphs\" textLength=\"8\" x=\"150\" y=\"242.1074\">A</text><line style=\"stroke: #383838; stroke-width: 1.5;\" x1=\"122\" x2=\"186\" y1=\"249.9375\" y2=\"249.9375\"/></a><!--MD5=[60a26617385b1d2d0262a64233df1f8d]\n",
       "class E6--><a href=\"psysml:7f169e5b-4536-4f95-b3fb-a54a4bad9234\" target=\"_top\" title=\"psysml:7f169e5b-4536-4f95-b3fb-a54a4bad9234\" xlink:actuate=\"onRequest\" xlink:href=\"psysml:7f169e5b-4536-4f95-b3fb-a54a4bad9234\" xlink:show=\"new\" xlink:title=\"psysml:7f169e5b-4536-4f95-b3fb-a54a4bad9234\" xlink:type=\"simple\"><rect fill=\"#FFFFFF\" height=\"45.9375\" id=\"E6\" rx=\"10\" ry=\"10\" style=\"stroke: #383838; stroke-width: 1.5;\" width=\"42\" x=\"145\" y=\"87.5\"/><text fill=\"#000000\" font-family=\"sans-serif\" font-size=\"12\" font-style=\"italic\" lengthAdjust=\"spacingAndGlyphs\" textLength=\"40\" x=\"146\" y=\"103.6387\">«part»</text><text fill=\"#000000\" font-family=\"sans-serif\" font-size=\"12\" lengthAdjust=\"spacingAndGlyphs\" textLength=\"22\" x=\"155\" y=\"117.6074\">x: A</text><line style=\"stroke: #383838; stroke-width: 1.5;\" x1=\"146\" x2=\"186\" y1=\"125.4375\" y2=\"125.4375\"/></a><a href=\"psysml:afe2db1e-b444-45d6-9b6b-b3994e64af2e\" target=\"_top\" title=\"psysml:afe2db1e-b444-45d6-9b6b-b3994e64af2e\" xlink:actuate=\"onRequest\" xlink:href=\"psysml:afe2db1e-b444-45d6-9b6b-b3994e64af2e\" xlink:show=\"new\" xlink:title=\"psysml:afe2db1e-b444-45d6-9b6b-b3994e64af2e\" xlink:type=\"simple\"><polygon fill=\"#FFFFFF\" points=\"60.5,84,95.5,84,102.5,106.2969,109.5,106.2969,109.5,136.5938,60.5,136.5938,60.5,84\" style=\"stroke: #000000; stroke-width: 1.5;\"/><line style=\"stroke: #000000; stroke-width: 1.5;\" x1=\"60.5\" x2=\"102.5\" y1=\"106.2969\" y2=\"106.2969\"/><text fill=\"#000000\" font-family=\"sans-serif\" font-size=\"14\" font-weight=\"bold\" lengthAdjust=\"spacingAndGlyphs\" textLength=\"29\" x=\"64.5\" y=\"98.9951\">P2a</text></a><!--MD5=[a717450b82c80b9240a525fa862496af]\n",
       "link E6 to E3--><a href=\"psysml:4395c2c1-a48a-41da-9561-d3e6647c3ecb\" target=\"_top\" title=\"psysml:4395c2c1-a48a-41da-9561-d3e6647c3ecb\" xlink:actuate=\"onRequest\" xlink:href=\"psysml:4395c2c1-a48a-41da-9561-d3e6647c3ecb\" xlink:show=\"new\" xlink:title=\"psysml:4395c2c1-a48a-41da-9561-d3e6647c3ecb\" xlink:type=\"simple\"><path d=\"M163.83,133.68 C162.24,149.9 160.04,172.39 158.12,191.96 \" fill=\"none\" id=\"E6-&gt;E3\" style=\"stroke: #383838; stroke-width: 1.0;\"/><polygon fill=\"#FFFFFF\" points=\"156.16,211.98,151.0533,192.3861,164.986,193.7564,156.16,211.98\" style=\"stroke: #383838; stroke-width: 1.0;\"/><ellipse cx=\"153.6016\" cy=\"186.9092\" fill=\"#383838\" rx=\"2\" ry=\"2\" style=\"stroke: #383838; stroke-width: 1.0;\"/><ellipse cx=\"163.5535\" cy=\"187.888\" fill=\"#383838\" rx=\"2\" ry=\"2\" style=\"stroke: #383838; stroke-width: 1.0;\"/></a><!--MD5=[ea3211bd817ca46e14a13a4ef29a2d82]\n",
       "@startuml\r\n",
       "top to bottom direction\r\n",
       "skinparam monochrome true\r\n",
       "skinparam classbackgroundcolor white\r\n",
       "skinparam shadowing false\r\n",
       "skinparam wrapWidth 300\r\n",
       "hide circle\r\n",
       "\r\n",
       "package \"QualifiedNameImportTest\" as E1  [[psysml:d16b9356-f04a-4ff8-b2ae-3864bc76abf1 ]]  {\r\n",
       "package \"P1\" as E2  [[psysml:88b3eb59-bf67-426d-b22b-2d4deb7f4fe0 ]]  {\r\n",
       "comp def \"A\" as E3  <<(T,blue)part def>> [[psysml:fd353ea3-6373-455a-afbc-b284741b5a43 ]] {\r\n",
       "}\r\n",
       "}\r\n",
       "package \"P2\" as E4  [[psysml:4523bb13-7dc6-4a64-a848-9d456c6fa329 ]]  {\r\n",
       "package \"P2a\" as E5  [[psysml:afe2db1e-b444-45d6-9b6b-b3994e64af2e ]]  {\r\n",
       "}\r\n",
       "comp usage \"x: A\" as E6  <<(T,blue)part>> [[psysml:7f169e5b-4536-4f95-b3fb-a54a4bad9234 ]] {\r\n",
       "}\r\n",
       "E6 - -:|> E3 [[psysml:4395c2c1-a48a-41da-9561-d3e6647c3ecb ]] \r\n",
       "}\r\n",
       "}\r\n",
       "@enduml\r\n",
       "\n",
       "PlantUML version 1.2020.13(Sat Jun 13 12:26:38 UTC 2020)\n",
       "(EPL source distribution)\n",
       "Java Runtime: OpenJDK Runtime Environment\n",
       "JVM: OpenJDK 64-Bit Server VM\n",
       "Default Encoding: UTF-8\n",
       "Language: en\n",
       "Country: null\n",
       "--></g></svg>"
      ]
     },
     "execution_count": 49,
     "metadata": {},
     "output_type": "execute_result"
    }
   ],
   "source": [
    "%viz --style=\"TB\" --view=\"Sequence\" \"QualifiedNameImportTest\""
   ]
  },
  {
   "cell_type": "code",
   "execution_count": 50,
   "id": "legislative-instrumentation",
   "metadata": {
    "execution": {
     "iopub.execute_input": "2021-03-25T09:35:29.470298Z",
     "iopub.status.busy": "2021-03-25T09:35:29.469759Z",
     "iopub.status.idle": "2021-03-25T09:35:29.529249Z",
     "shell.execute_reply": "2021-03-25T09:35:29.527896Z"
    }
   },
   "outputs": [
    {
     "data": {
      "image/svg+xml": [
       "<?xml version=\"1.0\" encoding=\"UTF-8\" standalone=\"no\"?><svg xmlns=\"http://www.w3.org/2000/svg\" xmlns:xlink=\"http://www.w3.org/1999/xlink\" contentScriptType=\"application/ecmascript\" contentStyleType=\"text/css\" height=\"310px\" preserveAspectRatio=\"none\" style=\"width:253px;height:310px;\" version=\"1.1\" viewBox=\"0 0 253 310\" width=\"253px\" zoomAndPan=\"magnify\"><defs/><g><!--MD5=[fbc87193dbaf4d95561dea2c320d4a47]\n",
       "cluster E1--><a href=\"psysml:d16b9356-f04a-4ff8-b2ae-3864bc76abf1\" target=\"_top\" title=\"psysml:d16b9356-f04a-4ff8-b2ae-3864bc76abf1\" xlink:actuate=\"onRequest\" xlink:href=\"psysml:d16b9356-f04a-4ff8-b2ae-3864bc76abf1\" xlink:show=\"new\" xlink:title=\"psysml:d16b9356-f04a-4ff8-b2ae-3864bc76abf1\" xlink:type=\"simple\"><polygon fill=\"#FFFFFF\" points=\"16,6,221,6,228,28.2969,231,28.2969,231,298,16,298,16,6\" style=\"stroke: #000000; stroke-width: 1.5;\"/><line style=\"stroke: #000000; stroke-width: 1.5;\" x1=\"16\" x2=\"228\" y1=\"28.2969\" y2=\"28.2969\"/><text fill=\"#000000\" font-family=\"sans-serif\" font-size=\"14\" font-weight=\"bold\" lengthAdjust=\"spacingAndGlyphs\" textLength=\"199\" x=\"20\" y=\"20.9951\">QualifiedNameImportTest</text></a><!--MD5=[e4f7fae6ed58524ba242bb0b0d3be6b7]\n",
       "cluster E2--><a href=\"psysml:88b3eb59-bf67-426d-b22b-2d4deb7f4fe0\" target=\"_top\" title=\"psysml:88b3eb59-bf67-426d-b22b-2d4deb7f4fe0\" xlink:actuate=\"onRequest\" xlink:href=\"psysml:88b3eb59-bf67-426d-b22b-2d4deb7f4fe0\" xlink:show=\"new\" xlink:title=\"psysml:88b3eb59-bf67-426d-b22b-2d4deb7f4fe0\" xlink:type=\"simple\"><polygon fill=\"#FFFFFF\" points=\"105,177,131,177,138,199.2969,203,199.2969,203,274,105,274,105,177\" style=\"stroke: #000000; stroke-width: 1.5;\"/><line style=\"stroke: #000000; stroke-width: 1.5;\" x1=\"105\" x2=\"138\" y1=\"199.2969\" y2=\"199.2969\"/><text fill=\"#000000\" font-family=\"sans-serif\" font-size=\"14\" font-weight=\"bold\" lengthAdjust=\"spacingAndGlyphs\" textLength=\"20\" x=\"109\" y=\"191.9951\">P1</text></a><!--MD5=[f6df4d0ebaf0b5dfb2ced0ae5af7c670]\n",
       "cluster E4--><a href=\"psysml:4523bb13-7dc6-4a64-a848-9d456c6fa329\" target=\"_top\" title=\"psysml:4523bb13-7dc6-4a64-a848-9d456c6fa329\" xlink:actuate=\"onRequest\" xlink:href=\"psysml:4523bb13-7dc6-4a64-a848-9d456c6fa329\" xlink:show=\"new\" xlink:title=\"psysml:4523bb13-7dc6-4a64-a848-9d456c6fa329\" xlink:type=\"simple\"><polygon fill=\"#FFFFFF\" points=\"44,49,70,49,77,71.2969,203,71.2969,203,153,44,153,44,49\" style=\"stroke: #000000; stroke-width: 1.5;\"/><line style=\"stroke: #000000; stroke-width: 1.5;\" x1=\"44\" x2=\"77\" y1=\"71.2969\" y2=\"71.2969\"/><text fill=\"#000000\" font-family=\"sans-serif\" font-size=\"14\" font-weight=\"bold\" lengthAdjust=\"spacingAndGlyphs\" textLength=\"20\" x=\"48\" y=\"63.9951\">P2</text></a><!--MD5=[09b614a08d8cba4a07c9adeb5e0fee81]\n",
       "class E3--><a href=\"psysml:fd353ea3-6373-455a-afbc-b284741b5a43\" target=\"_top\" title=\"psysml:fd353ea3-6373-455a-afbc-b284741b5a43\" xlink:actuate=\"onRequest\" xlink:href=\"psysml:fd353ea3-6373-455a-afbc-b284741b5a43\" xlink:show=\"new\" xlink:title=\"psysml:fd353ea3-6373-455a-afbc-b284741b5a43\" xlink:type=\"simple\"><rect fill=\"#FFFFFF\" height=\"45.9375\" id=\"E3\" style=\"stroke: #383838; stroke-width: 1.5;\" width=\"66\" x=\"121\" y=\"212\"/><text fill=\"#000000\" font-family=\"sans-serif\" font-size=\"12\" font-style=\"italic\" lengthAdjust=\"spacingAndGlyphs\" textLength=\"64\" x=\"122\" y=\"228.1387\">«part def»</text><text fill=\"#000000\" font-family=\"sans-serif\" font-size=\"12\" lengthAdjust=\"spacingAndGlyphs\" textLength=\"8\" x=\"150\" y=\"242.1074\">A</text><line style=\"stroke: #383838; stroke-width: 1.5;\" x1=\"122\" x2=\"186\" y1=\"249.9375\" y2=\"249.9375\"/></a><!--MD5=[60a26617385b1d2d0262a64233df1f8d]\n",
       "class E6--><a href=\"psysml:7f169e5b-4536-4f95-b3fb-a54a4bad9234\" target=\"_top\" title=\"psysml:7f169e5b-4536-4f95-b3fb-a54a4bad9234\" xlink:actuate=\"onRequest\" xlink:href=\"psysml:7f169e5b-4536-4f95-b3fb-a54a4bad9234\" xlink:show=\"new\" xlink:title=\"psysml:7f169e5b-4536-4f95-b3fb-a54a4bad9234\" xlink:type=\"simple\"><rect fill=\"#FFFFFF\" height=\"45.9375\" id=\"E6\" rx=\"10\" ry=\"10\" style=\"stroke: #383838; stroke-width: 1.5;\" width=\"42\" x=\"145\" y=\"87.5\"/><text fill=\"#000000\" font-family=\"sans-serif\" font-size=\"12\" font-style=\"italic\" lengthAdjust=\"spacingAndGlyphs\" textLength=\"40\" x=\"146\" y=\"103.6387\">«part»</text><text fill=\"#000000\" font-family=\"sans-serif\" font-size=\"12\" lengthAdjust=\"spacingAndGlyphs\" textLength=\"22\" x=\"155\" y=\"117.6074\">x: A</text><line style=\"stroke: #383838; stroke-width: 1.5;\" x1=\"146\" x2=\"186\" y1=\"125.4375\" y2=\"125.4375\"/></a><a href=\"psysml:afe2db1e-b444-45d6-9b6b-b3994e64af2e\" target=\"_top\" title=\"psysml:afe2db1e-b444-45d6-9b6b-b3994e64af2e\" xlink:actuate=\"onRequest\" xlink:href=\"psysml:afe2db1e-b444-45d6-9b6b-b3994e64af2e\" xlink:show=\"new\" xlink:title=\"psysml:afe2db1e-b444-45d6-9b6b-b3994e64af2e\" xlink:type=\"simple\"><polygon fill=\"#FFFFFF\" points=\"60.5,84,95.5,84,102.5,106.2969,109.5,106.2969,109.5,136.5938,60.5,136.5938,60.5,84\" style=\"stroke: #000000; stroke-width: 1.5;\"/><line style=\"stroke: #000000; stroke-width: 1.5;\" x1=\"60.5\" x2=\"102.5\" y1=\"106.2969\" y2=\"106.2969\"/><text fill=\"#000000\" font-family=\"sans-serif\" font-size=\"14\" font-weight=\"bold\" lengthAdjust=\"spacingAndGlyphs\" textLength=\"29\" x=\"64.5\" y=\"98.9951\">P2a</text></a><!--MD5=[a717450b82c80b9240a525fa862496af]\n",
       "link E6 to E3--><a href=\"psysml:4395c2c1-a48a-41da-9561-d3e6647c3ecb\" target=\"_top\" title=\"psysml:4395c2c1-a48a-41da-9561-d3e6647c3ecb\" xlink:actuate=\"onRequest\" xlink:href=\"psysml:4395c2c1-a48a-41da-9561-d3e6647c3ecb\" xlink:show=\"new\" xlink:title=\"psysml:4395c2c1-a48a-41da-9561-d3e6647c3ecb\" xlink:type=\"simple\"><path d=\"M163.83,133.68 C162.24,149.9 160.04,172.39 158.12,191.96 \" fill=\"none\" id=\"E6-&gt;E3\" style=\"stroke: #383838; stroke-width: 1.0;\"/><polygon fill=\"#FFFFFF\" points=\"156.16,211.98,151.0533,192.3861,164.986,193.7564,156.16,211.98\" style=\"stroke: #383838; stroke-width: 1.0;\"/><ellipse cx=\"153.6016\" cy=\"186.9092\" fill=\"#383838\" rx=\"2\" ry=\"2\" style=\"stroke: #383838; stroke-width: 1.0;\"/><ellipse cx=\"163.5535\" cy=\"187.888\" fill=\"#383838\" rx=\"2\" ry=\"2\" style=\"stroke: #383838; stroke-width: 1.0;\"/></a><!--MD5=[ea3211bd817ca46e14a13a4ef29a2d82]\n",
       "@startuml\r\n",
       "top to bottom direction\r\n",
       "skinparam monochrome true\r\n",
       "skinparam classbackgroundcolor white\r\n",
       "skinparam shadowing false\r\n",
       "skinparam wrapWidth 300\r\n",
       "hide circle\r\n",
       "\r\n",
       "package \"QualifiedNameImportTest\" as E1  [[psysml:d16b9356-f04a-4ff8-b2ae-3864bc76abf1 ]]  {\r\n",
       "package \"P1\" as E2  [[psysml:88b3eb59-bf67-426d-b22b-2d4deb7f4fe0 ]]  {\r\n",
       "comp def \"A\" as E3  <<(T,blue)part def>> [[psysml:fd353ea3-6373-455a-afbc-b284741b5a43 ]] {\r\n",
       "}\r\n",
       "}\r\n",
       "package \"P2\" as E4  [[psysml:4523bb13-7dc6-4a64-a848-9d456c6fa329 ]]  {\r\n",
       "package \"P2a\" as E5  [[psysml:afe2db1e-b444-45d6-9b6b-b3994e64af2e ]]  {\r\n",
       "}\r\n",
       "comp usage \"x: A\" as E6  <<(T,blue)part>> [[psysml:7f169e5b-4536-4f95-b3fb-a54a4bad9234 ]] {\r\n",
       "}\r\n",
       "E6 - -:|> E3 [[psysml:4395c2c1-a48a-41da-9561-d3e6647c3ecb ]] \r\n",
       "}\r\n",
       "}\r\n",
       "@enduml\r\n",
       "\n",
       "PlantUML version 1.2020.13(Sat Jun 13 12:26:38 UTC 2020)\n",
       "(EPL source distribution)\n",
       "Java Runtime: OpenJDK Runtime Environment\n",
       "JVM: OpenJDK 64-Bit Server VM\n",
       "Default Encoding: UTF-8\n",
       "Language: en\n",
       "Country: null\n",
       "--></g></svg>"
      ]
     },
     "execution_count": 50,
     "metadata": {},
     "output_type": "execute_result"
    }
   ],
   "source": [
    "%viz --style=\"TB\" --view=\"MIXED\" \"QualifiedNameImportTest\""
   ]
  },
  {
   "cell_type": "code",
   "execution_count": 51,
   "id": "available-snake",
   "metadata": {
    "execution": {
     "iopub.execute_input": "2021-03-25T09:35:29.580290Z",
     "iopub.status.busy": "2021-03-25T09:35:29.579649Z",
     "iopub.status.idle": "2021-03-25T09:35:29.641437Z",
     "shell.execute_reply": "2021-03-25T09:35:29.639433Z"
    }
   },
   "outputs": [
    {
     "data": {
      "image/svg+xml": [
       "<?xml version=\"1.0\" encoding=\"UTF-8\" standalone=\"no\"?><svg xmlns=\"http://www.w3.org/2000/svg\" xmlns:xlink=\"http://www.w3.org/1999/xlink\" contentScriptType=\"application/ecmascript\" contentStyleType=\"text/css\" height=\"310px\" preserveAspectRatio=\"none\" style=\"width:253px;height:310px;\" version=\"1.1\" viewBox=\"0 0 253 310\" width=\"253px\" zoomAndPan=\"magnify\"><defs/><g><!--MD5=[fbc87193dbaf4d95561dea2c320d4a47]\n",
       "cluster E1--><a href=\"psysml:d16b9356-f04a-4ff8-b2ae-3864bc76abf1\" target=\"_top\" title=\"psysml:d16b9356-f04a-4ff8-b2ae-3864bc76abf1\" xlink:actuate=\"onRequest\" xlink:href=\"psysml:d16b9356-f04a-4ff8-b2ae-3864bc76abf1\" xlink:show=\"new\" xlink:title=\"psysml:d16b9356-f04a-4ff8-b2ae-3864bc76abf1\" xlink:type=\"simple\"><polygon fill=\"#FFFFFF\" points=\"16,6,221,6,228,28.2969,231,28.2969,231,298,16,298,16,6\" style=\"stroke: #000000; stroke-width: 1.5;\"/><line style=\"stroke: #000000; stroke-width: 1.5;\" x1=\"16\" x2=\"228\" y1=\"28.2969\" y2=\"28.2969\"/><text fill=\"#000000\" font-family=\"sans-serif\" font-size=\"14\" font-weight=\"bold\" lengthAdjust=\"spacingAndGlyphs\" textLength=\"199\" x=\"20\" y=\"20.9951\">QualifiedNameImportTest</text></a><!--MD5=[e4f7fae6ed58524ba242bb0b0d3be6b7]\n",
       "cluster E2--><a href=\"psysml:88b3eb59-bf67-426d-b22b-2d4deb7f4fe0\" target=\"_top\" title=\"psysml:88b3eb59-bf67-426d-b22b-2d4deb7f4fe0\" xlink:actuate=\"onRequest\" xlink:href=\"psysml:88b3eb59-bf67-426d-b22b-2d4deb7f4fe0\" xlink:show=\"new\" xlink:title=\"psysml:88b3eb59-bf67-426d-b22b-2d4deb7f4fe0\" xlink:type=\"simple\"><polygon fill=\"#FFFFFF\" points=\"105,177,131,177,138,199.2969,203,199.2969,203,274,105,274,105,177\" style=\"stroke: #000000; stroke-width: 1.5;\"/><line style=\"stroke: #000000; stroke-width: 1.5;\" x1=\"105\" x2=\"138\" y1=\"199.2969\" y2=\"199.2969\"/><text fill=\"#000000\" font-family=\"sans-serif\" font-size=\"14\" font-weight=\"bold\" lengthAdjust=\"spacingAndGlyphs\" textLength=\"20\" x=\"109\" y=\"191.9951\">P1</text></a><!--MD5=[f6df4d0ebaf0b5dfb2ced0ae5af7c670]\n",
       "cluster E4--><a href=\"psysml:4523bb13-7dc6-4a64-a848-9d456c6fa329\" target=\"_top\" title=\"psysml:4523bb13-7dc6-4a64-a848-9d456c6fa329\" xlink:actuate=\"onRequest\" xlink:href=\"psysml:4523bb13-7dc6-4a64-a848-9d456c6fa329\" xlink:show=\"new\" xlink:title=\"psysml:4523bb13-7dc6-4a64-a848-9d456c6fa329\" xlink:type=\"simple\"><polygon fill=\"#FFFFFF\" points=\"44,49,70,49,77,71.2969,203,71.2969,203,153,44,153,44,49\" style=\"stroke: #000000; stroke-width: 1.5;\"/><line style=\"stroke: #000000; stroke-width: 1.5;\" x1=\"44\" x2=\"77\" y1=\"71.2969\" y2=\"71.2969\"/><text fill=\"#000000\" font-family=\"sans-serif\" font-size=\"14\" font-weight=\"bold\" lengthAdjust=\"spacingAndGlyphs\" textLength=\"20\" x=\"48\" y=\"63.9951\">P2</text></a><!--MD5=[09b614a08d8cba4a07c9adeb5e0fee81]\n",
       "class E3--><a href=\"psysml:fd353ea3-6373-455a-afbc-b284741b5a43\" target=\"_top\" title=\"psysml:fd353ea3-6373-455a-afbc-b284741b5a43\" xlink:actuate=\"onRequest\" xlink:href=\"psysml:fd353ea3-6373-455a-afbc-b284741b5a43\" xlink:show=\"new\" xlink:title=\"psysml:fd353ea3-6373-455a-afbc-b284741b5a43\" xlink:type=\"simple\"><rect fill=\"#FFFFFF\" height=\"45.9375\" id=\"E3\" style=\"stroke: #383838; stroke-width: 1.5;\" width=\"66\" x=\"121\" y=\"212\"/><text fill=\"#000000\" font-family=\"sans-serif\" font-size=\"12\" font-style=\"italic\" lengthAdjust=\"spacingAndGlyphs\" textLength=\"64\" x=\"122\" y=\"228.1387\">«part def»</text><text fill=\"#000000\" font-family=\"sans-serif\" font-size=\"12\" lengthAdjust=\"spacingAndGlyphs\" textLength=\"8\" x=\"150\" y=\"242.1074\">A</text><line style=\"stroke: #383838; stroke-width: 1.5;\" x1=\"122\" x2=\"186\" y1=\"249.9375\" y2=\"249.9375\"/></a><!--MD5=[60a26617385b1d2d0262a64233df1f8d]\n",
       "class E6--><a href=\"psysml:7f169e5b-4536-4f95-b3fb-a54a4bad9234\" target=\"_top\" title=\"psysml:7f169e5b-4536-4f95-b3fb-a54a4bad9234\" xlink:actuate=\"onRequest\" xlink:href=\"psysml:7f169e5b-4536-4f95-b3fb-a54a4bad9234\" xlink:show=\"new\" xlink:title=\"psysml:7f169e5b-4536-4f95-b3fb-a54a4bad9234\" xlink:type=\"simple\"><rect fill=\"#FFFFFF\" height=\"45.9375\" id=\"E6\" rx=\"10\" ry=\"10\" style=\"stroke: #383838; stroke-width: 1.5;\" width=\"42\" x=\"145\" y=\"87.5\"/><text fill=\"#000000\" font-family=\"sans-serif\" font-size=\"12\" font-style=\"italic\" lengthAdjust=\"spacingAndGlyphs\" textLength=\"40\" x=\"146\" y=\"103.6387\">«part»</text><text fill=\"#000000\" font-family=\"sans-serif\" font-size=\"12\" lengthAdjust=\"spacingAndGlyphs\" textLength=\"22\" x=\"155\" y=\"117.6074\">x: A</text><line style=\"stroke: #383838; stroke-width: 1.5;\" x1=\"146\" x2=\"186\" y1=\"125.4375\" y2=\"125.4375\"/></a><a href=\"psysml:afe2db1e-b444-45d6-9b6b-b3994e64af2e\" target=\"_top\" title=\"psysml:afe2db1e-b444-45d6-9b6b-b3994e64af2e\" xlink:actuate=\"onRequest\" xlink:href=\"psysml:afe2db1e-b444-45d6-9b6b-b3994e64af2e\" xlink:show=\"new\" xlink:title=\"psysml:afe2db1e-b444-45d6-9b6b-b3994e64af2e\" xlink:type=\"simple\"><polygon fill=\"#FFFFFF\" points=\"60.5,84,95.5,84,102.5,106.2969,109.5,106.2969,109.5,136.5938,60.5,136.5938,60.5,84\" style=\"stroke: #000000; stroke-width: 1.5;\"/><line style=\"stroke: #000000; stroke-width: 1.5;\" x1=\"60.5\" x2=\"102.5\" y1=\"106.2969\" y2=\"106.2969\"/><text fill=\"#000000\" font-family=\"sans-serif\" font-size=\"14\" font-weight=\"bold\" lengthAdjust=\"spacingAndGlyphs\" textLength=\"29\" x=\"64.5\" y=\"98.9951\">P2a</text></a><!--MD5=[a717450b82c80b9240a525fa862496af]\n",
       "link E6 to E3--><a href=\"psysml:4395c2c1-a48a-41da-9561-d3e6647c3ecb\" target=\"_top\" title=\"psysml:4395c2c1-a48a-41da-9561-d3e6647c3ecb\" xlink:actuate=\"onRequest\" xlink:href=\"psysml:4395c2c1-a48a-41da-9561-d3e6647c3ecb\" xlink:show=\"new\" xlink:title=\"psysml:4395c2c1-a48a-41da-9561-d3e6647c3ecb\" xlink:type=\"simple\"><path d=\"M166,133.63 C166,133.63 166,192 166,192 \" fill=\"none\" id=\"E6-&gt;E3\" style=\"stroke: #383838; stroke-width: 1.0;\"/><polygon fill=\"#FFFFFF\" points=\"166,212,159,193,173,193,166,212\" style=\"stroke: #383838; stroke-width: 1.0;\"/><ellipse cx=\"161\" cy=\"187.3\" fill=\"#383838\" rx=\"2\" ry=\"2\" style=\"stroke: #383838; stroke-width: 1.0;\"/><ellipse cx=\"171\" cy=\"187.3\" fill=\"#383838\" rx=\"2\" ry=\"2\" style=\"stroke: #383838; stroke-width: 1.0;\"/></a><!--MD5=[626c794f50db4f36c26e233d75b3274d]\n",
       "@startuml\r\n",
       "skinparam linetype ortho\r\n",
       "skinparam monochrome true\r\n",
       "skinparam classbackgroundcolor white\r\n",
       "skinparam shadowing false\r\n",
       "skinparam wrapWidth 300\r\n",
       "hide circle\r\n",
       "\r\n",
       "package \"QualifiedNameImportTest\" as E1  [[psysml:d16b9356-f04a-4ff8-b2ae-3864bc76abf1 ]]  {\r\n",
       "package \"P1\" as E2  [[psysml:88b3eb59-bf67-426d-b22b-2d4deb7f4fe0 ]]  {\r\n",
       "comp def \"A\" as E3  <<(T,blue)part def>> [[psysml:fd353ea3-6373-455a-afbc-b284741b5a43 ]] {\r\n",
       "}\r\n",
       "}\r\n",
       "package \"P2\" as E4  [[psysml:4523bb13-7dc6-4a64-a848-9d456c6fa329 ]]  {\r\n",
       "package \"P2a\" as E5  [[psysml:afe2db1e-b444-45d6-9b6b-b3994e64af2e ]]  {\r\n",
       "}\r\n",
       "comp usage \"x: A\" as E6  <<(T,blue)part>> [[psysml:7f169e5b-4536-4f95-b3fb-a54a4bad9234 ]] {\r\n",
       "}\r\n",
       "E6 - -:|> E3 [[psysml:4395c2c1-a48a-41da-9561-d3e6647c3ecb ]] \r\n",
       "}\r\n",
       "}\r\n",
       "@enduml\r\n",
       "\n",
       "PlantUML version 1.2020.13(Sat Jun 13 12:26:38 UTC 2020)\n",
       "(EPL source distribution)\n",
       "Java Runtime: OpenJDK Runtime Environment\n",
       "JVM: OpenJDK 64-Bit Server VM\n",
       "Default Encoding: UTF-8\n",
       "Language: en\n",
       "Country: null\n",
       "--></g></svg>"
      ]
     },
     "execution_count": 51,
     "metadata": {},
     "output_type": "execute_result"
    }
   ],
   "source": [
    "%viz --style=\"ORTHOLINE\" --view=\"Default\" \"QualifiedNameImportTest\""
   ]
  },
  {
   "cell_type": "code",
   "execution_count": 52,
   "id": "determined-florence",
   "metadata": {
    "execution": {
     "iopub.execute_input": "2021-03-25T09:35:29.690851Z",
     "iopub.status.busy": "2021-03-25T09:35:29.690435Z",
     "iopub.status.idle": "2021-03-25T09:35:29.748426Z",
     "shell.execute_reply": "2021-03-25T09:35:29.746842Z"
    }
   },
   "outputs": [
    {
     "data": {
      "image/svg+xml": [
       "<?xml version=\"1.0\" encoding=\"UTF-8\" standalone=\"no\"?><svg xmlns=\"http://www.w3.org/2000/svg\" xmlns:xlink=\"http://www.w3.org/1999/xlink\" contentScriptType=\"application/ecmascript\" contentStyleType=\"text/css\" height=\"310px\" preserveAspectRatio=\"none\" style=\"width:253px;height:310px;\" version=\"1.1\" viewBox=\"0 0 253 310\" width=\"253px\" zoomAndPan=\"magnify\"><defs/><g><!--MD5=[fbc87193dbaf4d95561dea2c320d4a47]\n",
       "cluster E1--><a href=\"psysml:d16b9356-f04a-4ff8-b2ae-3864bc76abf1\" target=\"_top\" title=\"psysml:d16b9356-f04a-4ff8-b2ae-3864bc76abf1\" xlink:actuate=\"onRequest\" xlink:href=\"psysml:d16b9356-f04a-4ff8-b2ae-3864bc76abf1\" xlink:show=\"new\" xlink:title=\"psysml:d16b9356-f04a-4ff8-b2ae-3864bc76abf1\" xlink:type=\"simple\"><polygon fill=\"#FFFFFF\" points=\"16,6,221,6,228,28.2969,231,28.2969,231,298,16,298,16,6\" style=\"stroke: #000000; stroke-width: 1.5;\"/><line style=\"stroke: #000000; stroke-width: 1.5;\" x1=\"16\" x2=\"228\" y1=\"28.2969\" y2=\"28.2969\"/><text fill=\"#000000\" font-family=\"sans-serif\" font-size=\"14\" font-weight=\"bold\" lengthAdjust=\"spacingAndGlyphs\" textLength=\"199\" x=\"20\" y=\"20.9951\">QualifiedNameImportTest</text></a><!--MD5=[e4f7fae6ed58524ba242bb0b0d3be6b7]\n",
       "cluster E2--><a href=\"psysml:88b3eb59-bf67-426d-b22b-2d4deb7f4fe0\" target=\"_top\" title=\"psysml:88b3eb59-bf67-426d-b22b-2d4deb7f4fe0\" xlink:actuate=\"onRequest\" xlink:href=\"psysml:88b3eb59-bf67-426d-b22b-2d4deb7f4fe0\" xlink:show=\"new\" xlink:title=\"psysml:88b3eb59-bf67-426d-b22b-2d4deb7f4fe0\" xlink:type=\"simple\"><polygon fill=\"#FFFFFF\" points=\"105,177,131,177,138,199.2969,203,199.2969,203,274,105,274,105,177\" style=\"stroke: #000000; stroke-width: 1.5;\"/><line style=\"stroke: #000000; stroke-width: 1.5;\" x1=\"105\" x2=\"138\" y1=\"199.2969\" y2=\"199.2969\"/><text fill=\"#000000\" font-family=\"sans-serif\" font-size=\"14\" font-weight=\"bold\" lengthAdjust=\"spacingAndGlyphs\" textLength=\"20\" x=\"109\" y=\"191.9951\">P1</text></a><!--MD5=[f6df4d0ebaf0b5dfb2ced0ae5af7c670]\n",
       "cluster E4--><a href=\"psysml:4523bb13-7dc6-4a64-a848-9d456c6fa329\" target=\"_top\" title=\"psysml:4523bb13-7dc6-4a64-a848-9d456c6fa329\" xlink:actuate=\"onRequest\" xlink:href=\"psysml:4523bb13-7dc6-4a64-a848-9d456c6fa329\" xlink:show=\"new\" xlink:title=\"psysml:4523bb13-7dc6-4a64-a848-9d456c6fa329\" xlink:type=\"simple\"><polygon fill=\"#FFFFFF\" points=\"44,49,70,49,77,71.2969,203,71.2969,203,153,44,153,44,49\" style=\"stroke: #000000; stroke-width: 1.5;\"/><line style=\"stroke: #000000; stroke-width: 1.5;\" x1=\"44\" x2=\"77\" y1=\"71.2969\" y2=\"71.2969\"/><text fill=\"#000000\" font-family=\"sans-serif\" font-size=\"14\" font-weight=\"bold\" lengthAdjust=\"spacingAndGlyphs\" textLength=\"20\" x=\"48\" y=\"63.9951\">P2</text></a><!--MD5=[09b614a08d8cba4a07c9adeb5e0fee81]\n",
       "class E3--><a href=\"psysml:fd353ea3-6373-455a-afbc-b284741b5a43\" target=\"_top\" title=\"psysml:fd353ea3-6373-455a-afbc-b284741b5a43\" xlink:actuate=\"onRequest\" xlink:href=\"psysml:fd353ea3-6373-455a-afbc-b284741b5a43\" xlink:show=\"new\" xlink:title=\"psysml:fd353ea3-6373-455a-afbc-b284741b5a43\" xlink:type=\"simple\"><rect fill=\"#FFFFFF\" height=\"45.9375\" id=\"E3\" style=\"stroke: #383838; stroke-width: 1.5;\" width=\"66\" x=\"121\" y=\"212\"/><text fill=\"#000000\" font-family=\"sans-serif\" font-size=\"12\" font-style=\"italic\" lengthAdjust=\"spacingAndGlyphs\" textLength=\"64\" x=\"122\" y=\"228.1387\">«part def»</text><text fill=\"#000000\" font-family=\"sans-serif\" font-size=\"12\" lengthAdjust=\"spacingAndGlyphs\" textLength=\"8\" x=\"150\" y=\"242.1074\">A</text><line style=\"stroke: #383838; stroke-width: 1.5;\" x1=\"122\" x2=\"186\" y1=\"249.9375\" y2=\"249.9375\"/></a><!--MD5=[60a26617385b1d2d0262a64233df1f8d]\n",
       "class E6--><a href=\"psysml:7f169e5b-4536-4f95-b3fb-a54a4bad9234\" target=\"_top\" title=\"psysml:7f169e5b-4536-4f95-b3fb-a54a4bad9234\" xlink:actuate=\"onRequest\" xlink:href=\"psysml:7f169e5b-4536-4f95-b3fb-a54a4bad9234\" xlink:show=\"new\" xlink:title=\"psysml:7f169e5b-4536-4f95-b3fb-a54a4bad9234\" xlink:type=\"simple\"><rect fill=\"#FFFFFF\" height=\"45.9375\" id=\"E6\" rx=\"10\" ry=\"10\" style=\"stroke: #383838; stroke-width: 1.5;\" width=\"42\" x=\"145\" y=\"87.5\"/><text fill=\"#000000\" font-family=\"sans-serif\" font-size=\"12\" font-style=\"italic\" lengthAdjust=\"spacingAndGlyphs\" textLength=\"40\" x=\"146\" y=\"103.6387\">«part»</text><text fill=\"#000000\" font-family=\"sans-serif\" font-size=\"12\" lengthAdjust=\"spacingAndGlyphs\" textLength=\"22\" x=\"155\" y=\"117.6074\">x: A</text><line style=\"stroke: #383838; stroke-width: 1.5;\" x1=\"146\" x2=\"186\" y1=\"125.4375\" y2=\"125.4375\"/></a><a href=\"psysml:afe2db1e-b444-45d6-9b6b-b3994e64af2e\" target=\"_top\" title=\"psysml:afe2db1e-b444-45d6-9b6b-b3994e64af2e\" xlink:actuate=\"onRequest\" xlink:href=\"psysml:afe2db1e-b444-45d6-9b6b-b3994e64af2e\" xlink:show=\"new\" xlink:title=\"psysml:afe2db1e-b444-45d6-9b6b-b3994e64af2e\" xlink:type=\"simple\"><polygon fill=\"#FFFFFF\" points=\"60.5,84,95.5,84,102.5,106.2969,109.5,106.2969,109.5,136.5938,60.5,136.5938,60.5,84\" style=\"stroke: #000000; stroke-width: 1.5;\"/><line style=\"stroke: #000000; stroke-width: 1.5;\" x1=\"60.5\" x2=\"102.5\" y1=\"106.2969\" y2=\"106.2969\"/><text fill=\"#000000\" font-family=\"sans-serif\" font-size=\"14\" font-weight=\"bold\" lengthAdjust=\"spacingAndGlyphs\" textLength=\"29\" x=\"64.5\" y=\"98.9951\">P2a</text></a><!--MD5=[a717450b82c80b9240a525fa862496af]\n",
       "link E6 to E3--><a href=\"psysml:4395c2c1-a48a-41da-9561-d3e6647c3ecb\" target=\"_top\" title=\"psysml:4395c2c1-a48a-41da-9561-d3e6647c3ecb\" xlink:actuate=\"onRequest\" xlink:href=\"psysml:4395c2c1-a48a-41da-9561-d3e6647c3ecb\" xlink:show=\"new\" xlink:title=\"psysml:4395c2c1-a48a-41da-9561-d3e6647c3ecb\" xlink:type=\"simple\"><path d=\"M166,133.63 C166,133.63 166,192 166,192 \" fill=\"none\" id=\"E6-&gt;E3\" style=\"stroke: #383838; stroke-width: 1.0;\"/><polygon fill=\"#FFFFFF\" points=\"166,212,159,193,173,193,166,212\" style=\"stroke: #383838; stroke-width: 1.0;\"/><ellipse cx=\"161\" cy=\"187.3\" fill=\"#383838\" rx=\"2\" ry=\"2\" style=\"stroke: #383838; stroke-width: 1.0;\"/><ellipse cx=\"171\" cy=\"187.3\" fill=\"#383838\" rx=\"2\" ry=\"2\" style=\"stroke: #383838; stroke-width: 1.0;\"/></a><!--MD5=[626c794f50db4f36c26e233d75b3274d]\n",
       "@startuml\r\n",
       "skinparam linetype ortho\r\n",
       "skinparam monochrome true\r\n",
       "skinparam classbackgroundcolor white\r\n",
       "skinparam shadowing false\r\n",
       "skinparam wrapWidth 300\r\n",
       "hide circle\r\n",
       "\r\n",
       "package \"QualifiedNameImportTest\" as E1  [[psysml:d16b9356-f04a-4ff8-b2ae-3864bc76abf1 ]]  {\r\n",
       "package \"P1\" as E2  [[psysml:88b3eb59-bf67-426d-b22b-2d4deb7f4fe0 ]]  {\r\n",
       "comp def \"A\" as E3  <<(T,blue)part def>> [[psysml:fd353ea3-6373-455a-afbc-b284741b5a43 ]] {\r\n",
       "}\r\n",
       "}\r\n",
       "package \"P2\" as E4  [[psysml:4523bb13-7dc6-4a64-a848-9d456c6fa329 ]]  {\r\n",
       "package \"P2a\" as E5  [[psysml:afe2db1e-b444-45d6-9b6b-b3994e64af2e ]]  {\r\n",
       "}\r\n",
       "comp usage \"x: A\" as E6  <<(T,blue)part>> [[psysml:7f169e5b-4536-4f95-b3fb-a54a4bad9234 ]] {\r\n",
       "}\r\n",
       "E6 - -:|> E3 [[psysml:4395c2c1-a48a-41da-9561-d3e6647c3ecb ]] \r\n",
       "}\r\n",
       "}\r\n",
       "@enduml\r\n",
       "\n",
       "PlantUML version 1.2020.13(Sat Jun 13 12:26:38 UTC 2020)\n",
       "(EPL source distribution)\n",
       "Java Runtime: OpenJDK Runtime Environment\n",
       "JVM: OpenJDK 64-Bit Server VM\n",
       "Default Encoding: UTF-8\n",
       "Language: en\n",
       "Country: null\n",
       "--></g></svg>"
      ]
     },
     "execution_count": 52,
     "metadata": {},
     "output_type": "execute_result"
    }
   ],
   "source": [
    "%viz --style=\"ORTHOLINE\" --view=\"Tree\" \"QualifiedNameImportTest\""
   ]
  },
  {
   "cell_type": "code",
   "execution_count": 53,
   "id": "referenced-knock",
   "metadata": {
    "execution": {
     "iopub.execute_input": "2021-03-25T09:35:29.801281Z",
     "iopub.status.busy": "2021-03-25T09:35:29.800536Z",
     "iopub.status.idle": "2021-03-25T09:35:29.809230Z",
     "shell.execute_reply": "2021-03-25T09:35:29.808845Z"
    }
   },
   "outputs": [
    {
     "data": {
      "image/svg+xml": [
       "<?xml version=\"1.0\" encoding=\"UTF-8\" standalone=\"no\"?><svg xmlns=\"http://www.w3.org/2000/svg\" xmlns:xlink=\"http://www.w3.org/1999/xlink\" contentScriptType=\"application/ecmascript\" contentStyleType=\"text/css\" height=\"12px\" preserveAspectRatio=\"none\" style=\"width:12px;height:12px;\" version=\"1.1\" viewBox=\"0 0 12 12\" width=\"12px\" zoomAndPan=\"magnify\"><defs/><g><!--MD5=[97d6f38768b311333d388e66b2b27985]\n",
       "@startuml\r\n",
       "skinparam linetype ortho\r\n",
       "skinparam monochrome true\r\n",
       "skinparam classbackgroundcolor white\r\n",
       "skinparam shadowing false\r\n",
       "skinparam wrapWidth 300\r\n",
       "hide circle\r\n",
       "\r\n",
       "@enduml\r\n",
       "\n",
       "PlantUML version 1.2020.13(Sat Jun 13 12:26:38 UTC 2020)\n",
       "(EPL source distribution)\n",
       "Java Runtime: OpenJDK Runtime Environment\n",
       "JVM: OpenJDK 64-Bit Server VM\n",
       "Default Encoding: UTF-8\n",
       "Language: en\n",
       "Country: null\n",
       "--></g></svg>"
      ]
     },
     "execution_count": 53,
     "metadata": {},
     "output_type": "execute_result"
    }
   ],
   "source": [
    "%viz --style=\"ORTHOLINE\" --view=\"State\" \"QualifiedNameImportTest\""
   ]
  },
  {
   "cell_type": "code",
   "execution_count": 54,
   "id": "comparable-possession",
   "metadata": {
    "execution": {
     "iopub.execute_input": "2021-03-25T09:35:29.860574Z",
     "iopub.status.busy": "2021-03-25T09:35:29.860075Z",
     "iopub.status.idle": "2021-03-25T09:35:29.915915Z",
     "shell.execute_reply": "2021-03-25T09:35:29.914575Z"
    }
   },
   "outputs": [
    {
     "data": {
      "image/svg+xml": [
       "<?xml version=\"1.0\" encoding=\"UTF-8\" standalone=\"no\"?><svg xmlns=\"http://www.w3.org/2000/svg\" xmlns:xlink=\"http://www.w3.org/1999/xlink\" contentScriptType=\"application/ecmascript\" contentStyleType=\"text/css\" height=\"189px\" preserveAspectRatio=\"none\" style=\"width:381px;height:189px;\" version=\"1.1\" viewBox=\"0 0 381 189\" width=\"381px\" zoomAndPan=\"magnify\"><defs/><g><!--MD5=[fbc87193dbaf4d95561dea2c320d4a47]\n",
       "cluster E1--><a href=\"psysml:d16b9356-f04a-4ff8-b2ae-3864bc76abf1\" target=\"_top\" title=\"psysml:d16b9356-f04a-4ff8-b2ae-3864bc76abf1\" xlink:actuate=\"onRequest\" xlink:href=\"psysml:d16b9356-f04a-4ff8-b2ae-3864bc76abf1\" xlink:show=\"new\" xlink:title=\"psysml:d16b9356-f04a-4ff8-b2ae-3864bc76abf1\" xlink:type=\"simple\"><polygon fill=\"#FFFFFF\" points=\"16,6,221,6,228,28.2969,359,28.2969,359,177,16,177,16,6\" style=\"stroke: #000000; stroke-width: 1.5;\"/><line style=\"stroke: #000000; stroke-width: 1.5;\" x1=\"16\" x2=\"228\" y1=\"28.2969\" y2=\"28.2969\"/><text fill=\"#000000\" font-family=\"sans-serif\" font-size=\"14\" font-weight=\"bold\" lengthAdjust=\"spacingAndGlyphs\" textLength=\"199\" x=\"20\" y=\"20.9951\">QualifiedNameImportTest</text></a><!--MD5=[e4f7fae6ed58524ba242bb0b0d3be6b7]\n",
       "cluster E2--><a href=\"psysml:88b3eb59-bf67-426d-b22b-2d4deb7f4fe0\" target=\"_top\" title=\"psysml:88b3eb59-bf67-426d-b22b-2d4deb7f4fe0\" xlink:actuate=\"onRequest\" xlink:href=\"psysml:88b3eb59-bf67-426d-b22b-2d4deb7f4fe0\" xlink:show=\"new\" xlink:title=\"psysml:88b3eb59-bf67-426d-b22b-2d4deb7f4fe0\" xlink:type=\"simple\"><polygon fill=\"#FFFFFF\" points=\"231,54,257,54,264,76.2969,335,76.2969,335,148,231,148,231,54\" style=\"stroke: #000000; stroke-width: 1.5;\"/><line style=\"stroke: #000000; stroke-width: 1.5;\" x1=\"231\" x2=\"264\" y1=\"76.2969\" y2=\"76.2969\"/><text fill=\"#000000\" font-family=\"sans-serif\" font-size=\"14\" font-weight=\"bold\" lengthAdjust=\"spacingAndGlyphs\" textLength=\"20\" x=\"235\" y=\"68.9951\">P1</text></a><!--MD5=[f6df4d0ebaf0b5dfb2ced0ae5af7c670]\n",
       "cluster E4--><a href=\"psysml:4523bb13-7dc6-4a64-a848-9d456c6fa329\" target=\"_top\" title=\"psysml:4523bb13-7dc6-4a64-a848-9d456c6fa329\" xlink:actuate=\"onRequest\" xlink:href=\"psysml:4523bb13-7dc6-4a64-a848-9d456c6fa329\" xlink:show=\"new\" xlink:title=\"psysml:4523bb13-7dc6-4a64-a848-9d456c6fa329\" xlink:type=\"simple\"><polygon fill=\"#FFFFFF\" points=\"40,49,66,49,73,71.2969,207,71.2969,207,153,40,153,40,49\" style=\"stroke: #000000; stroke-width: 1.5;\"/><line style=\"stroke: #000000; stroke-width: 1.5;\" x1=\"40\" x2=\"73\" y1=\"71.2969\" y2=\"71.2969\"/><text fill=\"#000000\" font-family=\"sans-serif\" font-size=\"14\" font-weight=\"bold\" lengthAdjust=\"spacingAndGlyphs\" textLength=\"20\" x=\"44\" y=\"63.9951\">P2</text></a><g id=\"E1.E2.E3\"><a href=\"psysml:fd353ea3-6373-455a-afbc-b284741b5a43\" target=\"_top\" title=\"psysml:fd353ea3-6373-455a-afbc-b284741b5a43\" xlink:actuate=\"onRequest\" xlink:href=\"psysml:fd353ea3-6373-455a-afbc-b284741b5a43\" xlink:show=\"new\" xlink:title=\"psysml:fd353ea3-6373-455a-afbc-b284741b5a43\" xlink:type=\"simple\"><rect fill=\"#FFFFFF\" height=\"42.9375\" id=\"E3\" style=\"stroke: #383838; stroke-width: 1.5;\" width=\"71\" x=\"247.5\" y=\"89\"/><rect fill=\"#F8F8F8\" height=\"37.9375\" style=\"stroke: #383838; stroke-width: 1.5;\" width=\"71\" x=\"247.5\" y=\"89\"/><text fill=\"#000000\" font-family=\"sans-serif\" font-size=\"12\" font-style=\"italic\" lengthAdjust=\"spacingAndGlyphs\" textLength=\"64\" x=\"251\" y=\"105.1387\">«part def»</text><text fill=\"#000000\" font-family=\"sans-serif\" font-size=\"12\" lengthAdjust=\"spacingAndGlyphs\" textLength=\"8\" x=\"279\" y=\"119.1074\">A</text></a></g><a href=\"psysml:afe2db1e-b444-45d6-9b6b-b3994e64af2e\" target=\"_top\" title=\"psysml:afe2db1e-b444-45d6-9b6b-b3994e64af2e\" xlink:actuate=\"onRequest\" xlink:href=\"psysml:afe2db1e-b444-45d6-9b6b-b3994e64af2e\" xlink:show=\"new\" xlink:title=\"psysml:afe2db1e-b444-45d6-9b6b-b3994e64af2e\" xlink:type=\"simple\"><polygon fill=\"#FFFFFF\" points=\"141.5,84,176.5,84,183.5,106.2969,190.5,106.2969,190.5,136.5938,141.5,136.5938,141.5,84\" style=\"stroke: #000000; stroke-width: 1.5;\"/><line style=\"stroke: #000000; stroke-width: 1.5;\" x1=\"141.5\" x2=\"183.5\" y1=\"106.2969\" y2=\"106.2969\"/><text fill=\"#000000\" font-family=\"sans-serif\" font-size=\"14\" font-weight=\"bold\" lengthAdjust=\"spacingAndGlyphs\" textLength=\"29\" x=\"145.5\" y=\"98.9951\">P2a</text></a><g id=\"E1.E4.E6\"><a href=\"psysml:7f169e5b-4536-4f95-b3fb-a54a4bad9234\" target=\"_top\" title=\"psysml:7f169e5b-4536-4f95-b3fb-a54a4bad9234\" xlink:actuate=\"onRequest\" xlink:href=\"psysml:7f169e5b-4536-4f95-b3fb-a54a4bad9234\" xlink:show=\"new\" xlink:title=\"psysml:7f169e5b-4536-4f95-b3fb-a54a4bad9234\" xlink:type=\"simple\"><rect fill=\"#FFFFFF\" height=\"40\" id=\"E6\" rx=\"10\" ry=\"10\" style=\"stroke: #383838; stroke-width: 1.5;\" width=\"50\" x=\"56\" y=\"90.5\"/><rect fill=\"#F8F8F8\" height=\"23.9688\" rx=\"10\" ry=\"10\" style=\"stroke: #F8F8F8; stroke-width: 1.5;\" width=\"50\" x=\"56\" y=\"90.5\"/><rect fill=\"#F8F8F8\" height=\"10\" style=\"stroke: #F8F8F8; stroke-width: 1.5;\" width=\"50\" x=\"56\" y=\"104.4688\"/><rect fill=\"none\" height=\"40\" id=\"E6\" rx=\"10\" ry=\"10\" style=\"stroke: #383838; stroke-width: 1.5;\" width=\"50\" x=\"56\" y=\"90.5\"/><text fill=\"#000000\" font-family=\"sans-serif\" font-size=\"12\" lengthAdjust=\"spacingAndGlyphs\" textLength=\"22\" x=\"70\" y=\"106.6387\">x: A</text></a></g><!--MD5=[f01d454741fa75757b22b5a4fab54fd1]\n",
       "@startuml\r\n",
       "skinparam ranksep 8\r\n",
       "skinparam rectangle {\r\n",
       " backgroundColor<<block>> LightGreen\r\n",
       "}\r\n",
       "skinparam linetype ortho\r\n",
       "skinparam monochrome true\r\n",
       "skinparam classbackgroundcolor white\r\n",
       "skinparam shadowing false\r\n",
       "skinparam wrapWidth 300\r\n",
       "hide circle\r\n",
       "\r\n",
       "package \"QualifiedNameImportTest\" as E1  [[psysml:d16b9356-f04a-4ff8-b2ae-3864bc76abf1 ]]  {\r\n",
       "package \"P1\" as E2  [[psysml:88b3eb59-bf67-426d-b22b-2d4deb7f4fe0 ]]  {\r\n",
       "rec def \"A\" as E3  <<(T,blue)part def>> [[psysml:fd353ea3-6373-455a-afbc-b284741b5a43 ]] {\r\n",
       "}\r\n",
       "}\r\n",
       "package \"P2\" as E4  [[psysml:4523bb13-7dc6-4a64-a848-9d456c6fa329 ]]  {\r\n",
       "package \"P2a\" as E5  [[psysml:afe2db1e-b444-45d6-9b6b-b3994e64af2e ]]  {\r\n",
       "}\r\n",
       "rec usage \"x: A\" as E6  [[psysml:7f169e5b-4536-4f95-b3fb-a54a4bad9234 ]] {\r\n",
       "}\r\n",
       "}\r\n",
       "}\r\n",
       "@enduml\r\n",
       "\n",
       "PlantUML version 1.2020.13(Sat Jun 13 12:26:38 UTC 2020)\n",
       "(EPL source distribution)\n",
       "Java Runtime: OpenJDK Runtime Environment\n",
       "JVM: OpenJDK 64-Bit Server VM\n",
       "Default Encoding: UTF-8\n",
       "Language: en\n",
       "Country: null\n",
       "--></g></svg>"
      ]
     },
     "execution_count": 54,
     "metadata": {},
     "output_type": "execute_result"
    }
   ],
   "source": [
    "%viz --style=\"ORTHOLINE\" --view=\"Interconnection\" \"QualifiedNameImportTest\""
   ]
  },
  {
   "cell_type": "code",
   "execution_count": 55,
   "id": "hydraulic-turkey",
   "metadata": {
    "execution": {
     "iopub.execute_input": "2021-03-25T09:35:29.968263Z",
     "iopub.status.busy": "2021-03-25T09:35:29.967587Z",
     "iopub.status.idle": "2021-03-25T09:35:29.975435Z",
     "shell.execute_reply": "2021-03-25T09:35:29.975852Z"
    }
   },
   "outputs": [
    {
     "data": {
      "image/svg+xml": [
       "<?xml version=\"1.0\" encoding=\"UTF-8\" standalone=\"no\"?><svg xmlns=\"http://www.w3.org/2000/svg\" xmlns:xlink=\"http://www.w3.org/1999/xlink\" contentScriptType=\"application/ecmascript\" contentStyleType=\"text/css\" height=\"12px\" preserveAspectRatio=\"none\" style=\"width:12px;height:12px;\" version=\"1.1\" viewBox=\"0 0 12 12\" width=\"12px\" zoomAndPan=\"magnify\"><defs/><g><!--MD5=[72934c63077099a26744516a776b4749]\n",
       "@startuml\r\n",
       "skinparam ranksep 8\r\n",
       "skinparam linetype ortho\r\n",
       "skinparam monochrome true\r\n",
       "skinparam classbackgroundcolor white\r\n",
       "skinparam shadowing false\r\n",
       "skinparam wrapWidth 300\r\n",
       "hide circle\r\n",
       "\r\n",
       "@enduml\r\n",
       "\n",
       "PlantUML version 1.2020.13(Sat Jun 13 12:26:38 UTC 2020)\n",
       "(EPL source distribution)\n",
       "Java Runtime: OpenJDK Runtime Environment\n",
       "JVM: OpenJDK 64-Bit Server VM\n",
       "Default Encoding: UTF-8\n",
       "Language: en\n",
       "Country: null\n",
       "--></g></svg>"
      ]
     },
     "execution_count": 55,
     "metadata": {},
     "output_type": "execute_result"
    }
   ],
   "source": [
    "%viz --style=\"ORTHOLINE\" --view=\"Action\" \"QualifiedNameImportTest\""
   ]
  },
  {
   "cell_type": "code",
   "execution_count": 56,
   "id": "worth-guarantee",
   "metadata": {
    "execution": {
     "iopub.execute_input": "2021-03-25T09:35:30.027037Z",
     "iopub.status.busy": "2021-03-25T09:35:30.026417Z",
     "iopub.status.idle": "2021-03-25T09:35:30.083992Z",
     "shell.execute_reply": "2021-03-25T09:35:30.082651Z"
    }
   },
   "outputs": [
    {
     "data": {
      "image/svg+xml": [
       "<?xml version=\"1.0\" encoding=\"UTF-8\" standalone=\"no\"?><svg xmlns=\"http://www.w3.org/2000/svg\" xmlns:xlink=\"http://www.w3.org/1999/xlink\" contentScriptType=\"application/ecmascript\" contentStyleType=\"text/css\" height=\"310px\" preserveAspectRatio=\"none\" style=\"width:253px;height:310px;\" version=\"1.1\" viewBox=\"0 0 253 310\" width=\"253px\" zoomAndPan=\"magnify\"><defs/><g><!--MD5=[fbc87193dbaf4d95561dea2c320d4a47]\n",
       "cluster E1--><a href=\"psysml:d16b9356-f04a-4ff8-b2ae-3864bc76abf1\" target=\"_top\" title=\"psysml:d16b9356-f04a-4ff8-b2ae-3864bc76abf1\" xlink:actuate=\"onRequest\" xlink:href=\"psysml:d16b9356-f04a-4ff8-b2ae-3864bc76abf1\" xlink:show=\"new\" xlink:title=\"psysml:d16b9356-f04a-4ff8-b2ae-3864bc76abf1\" xlink:type=\"simple\"><polygon fill=\"#FFFFFF\" points=\"16,6,221,6,228,28.2969,231,28.2969,231,298,16,298,16,6\" style=\"stroke: #000000; stroke-width: 1.5;\"/><line style=\"stroke: #000000; stroke-width: 1.5;\" x1=\"16\" x2=\"228\" y1=\"28.2969\" y2=\"28.2969\"/><text fill=\"#000000\" font-family=\"sans-serif\" font-size=\"14\" font-weight=\"bold\" lengthAdjust=\"spacingAndGlyphs\" textLength=\"199\" x=\"20\" y=\"20.9951\">QualifiedNameImportTest</text></a><!--MD5=[e4f7fae6ed58524ba242bb0b0d3be6b7]\n",
       "cluster E2--><a href=\"psysml:88b3eb59-bf67-426d-b22b-2d4deb7f4fe0\" target=\"_top\" title=\"psysml:88b3eb59-bf67-426d-b22b-2d4deb7f4fe0\" xlink:actuate=\"onRequest\" xlink:href=\"psysml:88b3eb59-bf67-426d-b22b-2d4deb7f4fe0\" xlink:show=\"new\" xlink:title=\"psysml:88b3eb59-bf67-426d-b22b-2d4deb7f4fe0\" xlink:type=\"simple\"><polygon fill=\"#FFFFFF\" points=\"105,177,131,177,138,199.2969,203,199.2969,203,274,105,274,105,177\" style=\"stroke: #000000; stroke-width: 1.5;\"/><line style=\"stroke: #000000; stroke-width: 1.5;\" x1=\"105\" x2=\"138\" y1=\"199.2969\" y2=\"199.2969\"/><text fill=\"#000000\" font-family=\"sans-serif\" font-size=\"14\" font-weight=\"bold\" lengthAdjust=\"spacingAndGlyphs\" textLength=\"20\" x=\"109\" y=\"191.9951\">P1</text></a><!--MD5=[f6df4d0ebaf0b5dfb2ced0ae5af7c670]\n",
       "cluster E4--><a href=\"psysml:4523bb13-7dc6-4a64-a848-9d456c6fa329\" target=\"_top\" title=\"psysml:4523bb13-7dc6-4a64-a848-9d456c6fa329\" xlink:actuate=\"onRequest\" xlink:href=\"psysml:4523bb13-7dc6-4a64-a848-9d456c6fa329\" xlink:show=\"new\" xlink:title=\"psysml:4523bb13-7dc6-4a64-a848-9d456c6fa329\" xlink:type=\"simple\"><polygon fill=\"#FFFFFF\" points=\"44,49,70,49,77,71.2969,203,71.2969,203,153,44,153,44,49\" style=\"stroke: #000000; stroke-width: 1.5;\"/><line style=\"stroke: #000000; stroke-width: 1.5;\" x1=\"44\" x2=\"77\" y1=\"71.2969\" y2=\"71.2969\"/><text fill=\"#000000\" font-family=\"sans-serif\" font-size=\"14\" font-weight=\"bold\" lengthAdjust=\"spacingAndGlyphs\" textLength=\"20\" x=\"48\" y=\"63.9951\">P2</text></a><!--MD5=[09b614a08d8cba4a07c9adeb5e0fee81]\n",
       "class E3--><a href=\"psysml:fd353ea3-6373-455a-afbc-b284741b5a43\" target=\"_top\" title=\"psysml:fd353ea3-6373-455a-afbc-b284741b5a43\" xlink:actuate=\"onRequest\" xlink:href=\"psysml:fd353ea3-6373-455a-afbc-b284741b5a43\" xlink:show=\"new\" xlink:title=\"psysml:fd353ea3-6373-455a-afbc-b284741b5a43\" xlink:type=\"simple\"><rect fill=\"#FFFFFF\" height=\"45.9375\" id=\"E3\" style=\"stroke: #383838; stroke-width: 1.5;\" width=\"66\" x=\"121\" y=\"212\"/><text fill=\"#000000\" font-family=\"sans-serif\" font-size=\"12\" font-style=\"italic\" lengthAdjust=\"spacingAndGlyphs\" textLength=\"64\" x=\"122\" y=\"228.1387\">«part def»</text><text fill=\"#000000\" font-family=\"sans-serif\" font-size=\"12\" lengthAdjust=\"spacingAndGlyphs\" textLength=\"8\" x=\"150\" y=\"242.1074\">A</text><line style=\"stroke: #383838; stroke-width: 1.5;\" x1=\"122\" x2=\"186\" y1=\"249.9375\" y2=\"249.9375\"/></a><!--MD5=[60a26617385b1d2d0262a64233df1f8d]\n",
       "class E6--><a href=\"psysml:7f169e5b-4536-4f95-b3fb-a54a4bad9234\" target=\"_top\" title=\"psysml:7f169e5b-4536-4f95-b3fb-a54a4bad9234\" xlink:actuate=\"onRequest\" xlink:href=\"psysml:7f169e5b-4536-4f95-b3fb-a54a4bad9234\" xlink:show=\"new\" xlink:title=\"psysml:7f169e5b-4536-4f95-b3fb-a54a4bad9234\" xlink:type=\"simple\"><rect fill=\"#FFFFFF\" height=\"45.9375\" id=\"E6\" rx=\"10\" ry=\"10\" style=\"stroke: #383838; stroke-width: 1.5;\" width=\"42\" x=\"145\" y=\"87.5\"/><text fill=\"#000000\" font-family=\"sans-serif\" font-size=\"12\" font-style=\"italic\" lengthAdjust=\"spacingAndGlyphs\" textLength=\"40\" x=\"146\" y=\"103.6387\">«part»</text><text fill=\"#000000\" font-family=\"sans-serif\" font-size=\"12\" lengthAdjust=\"spacingAndGlyphs\" textLength=\"22\" x=\"155\" y=\"117.6074\">x: A</text><line style=\"stroke: #383838; stroke-width: 1.5;\" x1=\"146\" x2=\"186\" y1=\"125.4375\" y2=\"125.4375\"/></a><a href=\"psysml:afe2db1e-b444-45d6-9b6b-b3994e64af2e\" target=\"_top\" title=\"psysml:afe2db1e-b444-45d6-9b6b-b3994e64af2e\" xlink:actuate=\"onRequest\" xlink:href=\"psysml:afe2db1e-b444-45d6-9b6b-b3994e64af2e\" xlink:show=\"new\" xlink:title=\"psysml:afe2db1e-b444-45d6-9b6b-b3994e64af2e\" xlink:type=\"simple\"><polygon fill=\"#FFFFFF\" points=\"60.5,84,95.5,84,102.5,106.2969,109.5,106.2969,109.5,136.5938,60.5,136.5938,60.5,84\" style=\"stroke: #000000; stroke-width: 1.5;\"/><line style=\"stroke: #000000; stroke-width: 1.5;\" x1=\"60.5\" x2=\"102.5\" y1=\"106.2969\" y2=\"106.2969\"/><text fill=\"#000000\" font-family=\"sans-serif\" font-size=\"14\" font-weight=\"bold\" lengthAdjust=\"spacingAndGlyphs\" textLength=\"29\" x=\"64.5\" y=\"98.9951\">P2a</text></a><!--MD5=[a717450b82c80b9240a525fa862496af]\n",
       "link E6 to E3--><a href=\"psysml:4395c2c1-a48a-41da-9561-d3e6647c3ecb\" target=\"_top\" title=\"psysml:4395c2c1-a48a-41da-9561-d3e6647c3ecb\" xlink:actuate=\"onRequest\" xlink:href=\"psysml:4395c2c1-a48a-41da-9561-d3e6647c3ecb\" xlink:show=\"new\" xlink:title=\"psysml:4395c2c1-a48a-41da-9561-d3e6647c3ecb\" xlink:type=\"simple\"><path d=\"M166,133.63 C166,133.63 166,192 166,192 \" fill=\"none\" id=\"E6-&gt;E3\" style=\"stroke: #383838; stroke-width: 1.0;\"/><polygon fill=\"#FFFFFF\" points=\"166,212,159,193,173,193,166,212\" style=\"stroke: #383838; stroke-width: 1.0;\"/><ellipse cx=\"161\" cy=\"187.3\" fill=\"#383838\" rx=\"2\" ry=\"2\" style=\"stroke: #383838; stroke-width: 1.0;\"/><ellipse cx=\"171\" cy=\"187.3\" fill=\"#383838\" rx=\"2\" ry=\"2\" style=\"stroke: #383838; stroke-width: 1.0;\"/></a><!--MD5=[626c794f50db4f36c26e233d75b3274d]\n",
       "@startuml\r\n",
       "skinparam linetype ortho\r\n",
       "skinparam monochrome true\r\n",
       "skinparam classbackgroundcolor white\r\n",
       "skinparam shadowing false\r\n",
       "skinparam wrapWidth 300\r\n",
       "hide circle\r\n",
       "\r\n",
       "package \"QualifiedNameImportTest\" as E1  [[psysml:d16b9356-f04a-4ff8-b2ae-3864bc76abf1 ]]  {\r\n",
       "package \"P1\" as E2  [[psysml:88b3eb59-bf67-426d-b22b-2d4deb7f4fe0 ]]  {\r\n",
       "comp def \"A\" as E3  <<(T,blue)part def>> [[psysml:fd353ea3-6373-455a-afbc-b284741b5a43 ]] {\r\n",
       "}\r\n",
       "}\r\n",
       "package \"P2\" as E4  [[psysml:4523bb13-7dc6-4a64-a848-9d456c6fa329 ]]  {\r\n",
       "package \"P2a\" as E5  [[psysml:afe2db1e-b444-45d6-9b6b-b3994e64af2e ]]  {\r\n",
       "}\r\n",
       "comp usage \"x: A\" as E6  <<(T,blue)part>> [[psysml:7f169e5b-4536-4f95-b3fb-a54a4bad9234 ]] {\r\n",
       "}\r\n",
       "E6 - -:|> E3 [[psysml:4395c2c1-a48a-41da-9561-d3e6647c3ecb ]] \r\n",
       "}\r\n",
       "}\r\n",
       "@enduml\r\n",
       "\n",
       "PlantUML version 1.2020.13(Sat Jun 13 12:26:38 UTC 2020)\n",
       "(EPL source distribution)\n",
       "Java Runtime: OpenJDK Runtime Environment\n",
       "JVM: OpenJDK 64-Bit Server VM\n",
       "Default Encoding: UTF-8\n",
       "Language: en\n",
       "Country: null\n",
       "--></g></svg>"
      ]
     },
     "execution_count": 56,
     "metadata": {},
     "output_type": "execute_result"
    }
   ],
   "source": [
    "%viz --style=\"ORTHOLINE\" --view=\"Sequence\" \"QualifiedNameImportTest\""
   ]
  },
  {
   "cell_type": "code",
   "execution_count": 57,
   "id": "north-python",
   "metadata": {
    "execution": {
     "iopub.execute_input": "2021-03-25T09:35:30.134992Z",
     "iopub.status.busy": "2021-03-25T09:35:30.134391Z",
     "iopub.status.idle": "2021-03-25T09:35:30.193348Z",
     "shell.execute_reply": "2021-03-25T09:35:30.191996Z"
    }
   },
   "outputs": [
    {
     "data": {
      "image/svg+xml": [
       "<?xml version=\"1.0\" encoding=\"UTF-8\" standalone=\"no\"?><svg xmlns=\"http://www.w3.org/2000/svg\" xmlns:xlink=\"http://www.w3.org/1999/xlink\" contentScriptType=\"application/ecmascript\" contentStyleType=\"text/css\" height=\"310px\" preserveAspectRatio=\"none\" style=\"width:253px;height:310px;\" version=\"1.1\" viewBox=\"0 0 253 310\" width=\"253px\" zoomAndPan=\"magnify\"><defs/><g><!--MD5=[fbc87193dbaf4d95561dea2c320d4a47]\n",
       "cluster E1--><a href=\"psysml:d16b9356-f04a-4ff8-b2ae-3864bc76abf1\" target=\"_top\" title=\"psysml:d16b9356-f04a-4ff8-b2ae-3864bc76abf1\" xlink:actuate=\"onRequest\" xlink:href=\"psysml:d16b9356-f04a-4ff8-b2ae-3864bc76abf1\" xlink:show=\"new\" xlink:title=\"psysml:d16b9356-f04a-4ff8-b2ae-3864bc76abf1\" xlink:type=\"simple\"><polygon fill=\"#FFFFFF\" points=\"16,6,221,6,228,28.2969,231,28.2969,231,298,16,298,16,6\" style=\"stroke: #000000; stroke-width: 1.5;\"/><line style=\"stroke: #000000; stroke-width: 1.5;\" x1=\"16\" x2=\"228\" y1=\"28.2969\" y2=\"28.2969\"/><text fill=\"#000000\" font-family=\"sans-serif\" font-size=\"14\" font-weight=\"bold\" lengthAdjust=\"spacingAndGlyphs\" textLength=\"199\" x=\"20\" y=\"20.9951\">QualifiedNameImportTest</text></a><!--MD5=[e4f7fae6ed58524ba242bb0b0d3be6b7]\n",
       "cluster E2--><a href=\"psysml:88b3eb59-bf67-426d-b22b-2d4deb7f4fe0\" target=\"_top\" title=\"psysml:88b3eb59-bf67-426d-b22b-2d4deb7f4fe0\" xlink:actuate=\"onRequest\" xlink:href=\"psysml:88b3eb59-bf67-426d-b22b-2d4deb7f4fe0\" xlink:show=\"new\" xlink:title=\"psysml:88b3eb59-bf67-426d-b22b-2d4deb7f4fe0\" xlink:type=\"simple\"><polygon fill=\"#FFFFFF\" points=\"105,177,131,177,138,199.2969,203,199.2969,203,274,105,274,105,177\" style=\"stroke: #000000; stroke-width: 1.5;\"/><line style=\"stroke: #000000; stroke-width: 1.5;\" x1=\"105\" x2=\"138\" y1=\"199.2969\" y2=\"199.2969\"/><text fill=\"#000000\" font-family=\"sans-serif\" font-size=\"14\" font-weight=\"bold\" lengthAdjust=\"spacingAndGlyphs\" textLength=\"20\" x=\"109\" y=\"191.9951\">P1</text></a><!--MD5=[f6df4d0ebaf0b5dfb2ced0ae5af7c670]\n",
       "cluster E4--><a href=\"psysml:4523bb13-7dc6-4a64-a848-9d456c6fa329\" target=\"_top\" title=\"psysml:4523bb13-7dc6-4a64-a848-9d456c6fa329\" xlink:actuate=\"onRequest\" xlink:href=\"psysml:4523bb13-7dc6-4a64-a848-9d456c6fa329\" xlink:show=\"new\" xlink:title=\"psysml:4523bb13-7dc6-4a64-a848-9d456c6fa329\" xlink:type=\"simple\"><polygon fill=\"#FFFFFF\" points=\"44,49,70,49,77,71.2969,203,71.2969,203,153,44,153,44,49\" style=\"stroke: #000000; stroke-width: 1.5;\"/><line style=\"stroke: #000000; stroke-width: 1.5;\" x1=\"44\" x2=\"77\" y1=\"71.2969\" y2=\"71.2969\"/><text fill=\"#000000\" font-family=\"sans-serif\" font-size=\"14\" font-weight=\"bold\" lengthAdjust=\"spacingAndGlyphs\" textLength=\"20\" x=\"48\" y=\"63.9951\">P2</text></a><!--MD5=[09b614a08d8cba4a07c9adeb5e0fee81]\n",
       "class E3--><a href=\"psysml:fd353ea3-6373-455a-afbc-b284741b5a43\" target=\"_top\" title=\"psysml:fd353ea3-6373-455a-afbc-b284741b5a43\" xlink:actuate=\"onRequest\" xlink:href=\"psysml:fd353ea3-6373-455a-afbc-b284741b5a43\" xlink:show=\"new\" xlink:title=\"psysml:fd353ea3-6373-455a-afbc-b284741b5a43\" xlink:type=\"simple\"><rect fill=\"#FFFFFF\" height=\"45.9375\" id=\"E3\" style=\"stroke: #383838; stroke-width: 1.5;\" width=\"66\" x=\"121\" y=\"212\"/><text fill=\"#000000\" font-family=\"sans-serif\" font-size=\"12\" font-style=\"italic\" lengthAdjust=\"spacingAndGlyphs\" textLength=\"64\" x=\"122\" y=\"228.1387\">«part def»</text><text fill=\"#000000\" font-family=\"sans-serif\" font-size=\"12\" lengthAdjust=\"spacingAndGlyphs\" textLength=\"8\" x=\"150\" y=\"242.1074\">A</text><line style=\"stroke: #383838; stroke-width: 1.5;\" x1=\"122\" x2=\"186\" y1=\"249.9375\" y2=\"249.9375\"/></a><!--MD5=[60a26617385b1d2d0262a64233df1f8d]\n",
       "class E6--><a href=\"psysml:7f169e5b-4536-4f95-b3fb-a54a4bad9234\" target=\"_top\" title=\"psysml:7f169e5b-4536-4f95-b3fb-a54a4bad9234\" xlink:actuate=\"onRequest\" xlink:href=\"psysml:7f169e5b-4536-4f95-b3fb-a54a4bad9234\" xlink:show=\"new\" xlink:title=\"psysml:7f169e5b-4536-4f95-b3fb-a54a4bad9234\" xlink:type=\"simple\"><rect fill=\"#FFFFFF\" height=\"45.9375\" id=\"E6\" rx=\"10\" ry=\"10\" style=\"stroke: #383838; stroke-width: 1.5;\" width=\"42\" x=\"145\" y=\"87.5\"/><text fill=\"#000000\" font-family=\"sans-serif\" font-size=\"12\" font-style=\"italic\" lengthAdjust=\"spacingAndGlyphs\" textLength=\"40\" x=\"146\" y=\"103.6387\">«part»</text><text fill=\"#000000\" font-family=\"sans-serif\" font-size=\"12\" lengthAdjust=\"spacingAndGlyphs\" textLength=\"22\" x=\"155\" y=\"117.6074\">x: A</text><line style=\"stroke: #383838; stroke-width: 1.5;\" x1=\"146\" x2=\"186\" y1=\"125.4375\" y2=\"125.4375\"/></a><a href=\"psysml:afe2db1e-b444-45d6-9b6b-b3994e64af2e\" target=\"_top\" title=\"psysml:afe2db1e-b444-45d6-9b6b-b3994e64af2e\" xlink:actuate=\"onRequest\" xlink:href=\"psysml:afe2db1e-b444-45d6-9b6b-b3994e64af2e\" xlink:show=\"new\" xlink:title=\"psysml:afe2db1e-b444-45d6-9b6b-b3994e64af2e\" xlink:type=\"simple\"><polygon fill=\"#FFFFFF\" points=\"60.5,84,95.5,84,102.5,106.2969,109.5,106.2969,109.5,136.5938,60.5,136.5938,60.5,84\" style=\"stroke: #000000; stroke-width: 1.5;\"/><line style=\"stroke: #000000; stroke-width: 1.5;\" x1=\"60.5\" x2=\"102.5\" y1=\"106.2969\" y2=\"106.2969\"/><text fill=\"#000000\" font-family=\"sans-serif\" font-size=\"14\" font-weight=\"bold\" lengthAdjust=\"spacingAndGlyphs\" textLength=\"29\" x=\"64.5\" y=\"98.9951\">P2a</text></a><!--MD5=[a717450b82c80b9240a525fa862496af]\n",
       "link E6 to E3--><a href=\"psysml:4395c2c1-a48a-41da-9561-d3e6647c3ecb\" target=\"_top\" title=\"psysml:4395c2c1-a48a-41da-9561-d3e6647c3ecb\" xlink:actuate=\"onRequest\" xlink:href=\"psysml:4395c2c1-a48a-41da-9561-d3e6647c3ecb\" xlink:show=\"new\" xlink:title=\"psysml:4395c2c1-a48a-41da-9561-d3e6647c3ecb\" xlink:type=\"simple\"><path d=\"M166,133.63 C166,133.63 166,192 166,192 \" fill=\"none\" id=\"E6-&gt;E3\" style=\"stroke: #383838; stroke-width: 1.0;\"/><polygon fill=\"#FFFFFF\" points=\"166,212,159,193,173,193,166,212\" style=\"stroke: #383838; stroke-width: 1.0;\"/><ellipse cx=\"161\" cy=\"187.3\" fill=\"#383838\" rx=\"2\" ry=\"2\" style=\"stroke: #383838; stroke-width: 1.0;\"/><ellipse cx=\"171\" cy=\"187.3\" fill=\"#383838\" rx=\"2\" ry=\"2\" style=\"stroke: #383838; stroke-width: 1.0;\"/></a><!--MD5=[626c794f50db4f36c26e233d75b3274d]\n",
       "@startuml\r\n",
       "skinparam linetype ortho\r\n",
       "skinparam monochrome true\r\n",
       "skinparam classbackgroundcolor white\r\n",
       "skinparam shadowing false\r\n",
       "skinparam wrapWidth 300\r\n",
       "hide circle\r\n",
       "\r\n",
       "package \"QualifiedNameImportTest\" as E1  [[psysml:d16b9356-f04a-4ff8-b2ae-3864bc76abf1 ]]  {\r\n",
       "package \"P1\" as E2  [[psysml:88b3eb59-bf67-426d-b22b-2d4deb7f4fe0 ]]  {\r\n",
       "comp def \"A\" as E3  <<(T,blue)part def>> [[psysml:fd353ea3-6373-455a-afbc-b284741b5a43 ]] {\r\n",
       "}\r\n",
       "}\r\n",
       "package \"P2\" as E4  [[psysml:4523bb13-7dc6-4a64-a848-9d456c6fa329 ]]  {\r\n",
       "package \"P2a\" as E5  [[psysml:afe2db1e-b444-45d6-9b6b-b3994e64af2e ]]  {\r\n",
       "}\r\n",
       "comp usage \"x: A\" as E6  <<(T,blue)part>> [[psysml:7f169e5b-4536-4f95-b3fb-a54a4bad9234 ]] {\r\n",
       "}\r\n",
       "E6 - -:|> E3 [[psysml:4395c2c1-a48a-41da-9561-d3e6647c3ecb ]] \r\n",
       "}\r\n",
       "}\r\n",
       "@enduml\r\n",
       "\n",
       "PlantUML version 1.2020.13(Sat Jun 13 12:26:38 UTC 2020)\n",
       "(EPL source distribution)\n",
       "Java Runtime: OpenJDK Runtime Environment\n",
       "JVM: OpenJDK 64-Bit Server VM\n",
       "Default Encoding: UTF-8\n",
       "Language: en\n",
       "Country: null\n",
       "--></g></svg>"
      ]
     },
     "execution_count": 57,
     "metadata": {},
     "output_type": "execute_result"
    }
   ],
   "source": [
    "%viz --style=\"ORTHOLINE\" --view=\"MIXED\" \"QualifiedNameImportTest\""
   ]
  }
 ],
 "metadata": {
  "kernelspec": {
   "display_name": "SysML",
   "language": "sysml",
   "name": "sysml"
  },
  "language_info": {
   "codemirror_mode": "sysml",
   "file_extension": ".sysml",
   "mimetype": "text/x-sysml",
   "name": "SysML",
   "pygments_lexer": "java",
   "version": "1.0.0"
  }
 },
 "nbformat": 4,
 "nbformat_minor": 5
}
