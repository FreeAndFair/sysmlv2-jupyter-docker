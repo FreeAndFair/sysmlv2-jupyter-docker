{
 "cells": [
  {
   "cell_type": "markdown",
   "id": "regulated-albany",
   "metadata": {},
   "source": [
    "# SysML v2 Test Suite\n",
    "\n",
    "This can notebook can be cleared using menu `Edit --> Clear All Outputs` and then all cells can be\n",
    "run using menu `Run --> Run All Cells`.\n",
    "\n",
    "**WARNING**: This file is generated, all modifications here will be ignored.\n"
   ]
  },
  {
   "cell_type": "markdown",
   "id": "committed-questionnaire",
   "metadata": {},
   "source": [
    "## File: ../../sysml/src/examples/Simple Tests/AnalysisTest.sysml"
   ]
  },
  {
   "cell_type": "code",
   "execution_count": 1,
   "id": "sexual-worse",
   "metadata": {
    "execution": {
     "iopub.execute_input": "2021-03-26T09:41:42.563768Z",
     "iopub.status.busy": "2021-03-26T09:41:42.562826Z",
     "iopub.status.idle": "2021-03-26T09:41:43.196567Z",
     "shell.execute_reply": "2021-03-26T09:41:43.195920Z"
    }
   },
   "outputs": [
    {
     "data": {
      "text/plain": [
       "Package AnalysisTest (26506047-d36c-486a-859c-d63d0a00c64a)\n"
      ]
     },
     "execution_count": 1,
     "metadata": {},
     "output_type": "execute_result"
    }
   ],
   "source": [
    "package AnalysisTest {\n",
    "\n",
    "\tpart def V {\n",
    "\t\tm;\n",
    "\t}\n",
    "\t\n",
    "\tpart vv : V;\n",
    "\t\n",
    "\trequirement def AnalysisObjective {\n",
    "\t\tdoc /* ... */\n",
    "\t}\n",
    "\n",
    "\tanalysis def AnalysisCase {\n",
    "\t\tsubject v : V;\n",
    "\t\t\n",
    "\t\tobjective obj : AnalysisObjective { \n",
    "\t\t\tsubject = result;\n",
    "\t\t}\n",
    "\t\t\n",
    "\t\tv::m\n",
    "\t}\n",
    "\t\n",
    "\tanalysis def AnalysisPlan {\n",
    "\t\tsubject v : V;\n",
    "\t\t\n",
    "\t\tobjective {\n",
    "\t\t\tdoc /* ... */\n",
    "\t\t}\n",
    "\t\t\n",
    "\t\tanalysis analysisCase : AnalysisCase () return mass;\n",
    "\t}\n",
    "\t\n",
    "\tpart analysisContext {\n",
    "\t\tanalysis analysisPlan : AnalysisPlan {\n",
    "\t\t\tsubject v = vv;\n",
    "\t\t}\n",
    "\t}\n",
    "}"
   ]
  },
  {
   "cell_type": "code",
   "execution_count": 2,
   "id": "structural-history",
   "metadata": {
    "execution": {
     "iopub.execute_input": "2021-03-26T09:41:43.248032Z",
     "iopub.status.busy": "2021-03-26T09:41:43.247271Z",
     "iopub.status.idle": "2021-03-26T09:41:43.257049Z",
     "shell.execute_reply": "2021-03-26T09:41:43.256665Z"
    }
   },
   "outputs": [
    {
     "data": {
      "text/plain": [
       "java.lang.IllegalArgumentException: Invalid Style: COMPTREE Possible styles: POLYLINE, LR, STDCOLOR, PLANTUML, DEFAULT, TB, ORTHOLINE\n",
       "\tat org.omg.sysml.plantuml.SysML2PlantUMLStyle.get(SysML2PlantUMLStyle.java:258)\n",
       "\tat org.omg.sysml.plantuml.SysML2PlantUMLSvc.applyStyle(SysML2PlantUMLSvc.java:73)\n",
       "\tat org.omg.sysml.plantuml.SysML2PlantUMLSvc.getPlantUMLCode(SysML2PlantUMLSvc.java:88)\n",
       "\tat org.omg.sysml.plantuml.SysML2PlantUMLSvc.getSVG(SysML2PlantUMLSvc.java:99)\n",
       "\tat org.omg.sysml.interactive.SysMLInteractive.viz(SysMLInteractive.java:294)\n",
       "\tat org.omg.sysml.jupyter.kernel.magic.Viz.viz(Viz.java:47)\n",
       "\tat java.base/jdk.internal.reflect.NativeMethodAccessorImpl.invoke0(Native Method)\n",
       "\tat java.base/jdk.internal.reflect.NativeMethodAccessorImpl.invoke(NativeMethodAccessorImpl.java:78)\n",
       "\tat java.base/jdk.internal.reflect.DelegatingMethodAccessorImpl.invoke(DelegatingMethodAccessorImpl.java:43)\n",
       "\tat java.base/java.lang.reflect.Method.invoke(Method.java:568)\n",
       "\tat io.github.spencerpark.jupyter.kernel.magic.registry.Magics.invoke(Magics.java:89)\n",
       "\tat io.github.spencerpark.jupyter.kernel.magic.registry.Magics.access$000(Magics.java:8)\n",
       "\tat io.github.spencerpark.jupyter.kernel.magic.registry.Magics$LineReflectionMagicFunction.execute(Magics.java:149)\n",
       "\tat io.github.spencerpark.jupyter.kernel.magic.registry.Magics.applyLineMagic(Magics.java:26)\n",
       "\tat org.omg.sysml.jupyter.kernel.SysMLKernel.eval(SysMLKernel.java:76)\n",
       "\tat io.github.spencerpark.jupyter.kernel.BaseKernel.handleExecuteRequest(BaseKernel.java:334)\n",
       "\tat io.github.spencerpark.jupyter.channels.ShellChannel.lambda$bind$0(ShellChannel.java:64)\n",
       "\tat io.github.spencerpark.jupyter.channels.Loop.lambda$new$0(Loop.java:21)\n",
       "\tat io.github.spencerpark.jupyter.channels.Loop.run(Loop.java:78)\n"
      ]
     },
     "execution_count": 2,
     "metadata": {},
     "output_type": "execute_result"
    }
   ],
   "source": [
    "%viz --style=\"COMPTREE\" --view=\"Default\" \"AnalysisTest\""
   ]
  },
  {
   "cell_type": "code",
   "execution_count": 3,
   "id": "together-pride",
   "metadata": {
    "execution": {
     "iopub.execute_input": "2021-03-26T09:41:43.307942Z",
     "iopub.status.busy": "2021-03-26T09:41:43.307199Z",
     "iopub.status.idle": "2021-03-26T09:41:43.310414Z",
     "shell.execute_reply": "2021-03-26T09:41:43.310149Z"
    }
   },
   "outputs": [
    {
     "data": {
      "text/plain": [
       "java.lang.IllegalArgumentException: Invalid Style: COMPTREE Possible styles: POLYLINE, LR, STDCOLOR, PLANTUML, DEFAULT, TB, ORTHOLINE\n",
       "\tat org.omg.sysml.plantuml.SysML2PlantUMLStyle.get(SysML2PlantUMLStyle.java:258)\n",
       "\tat org.omg.sysml.plantuml.SysML2PlantUMLSvc.applyStyle(SysML2PlantUMLSvc.java:73)\n",
       "\tat org.omg.sysml.plantuml.SysML2PlantUMLSvc.getPlantUMLCode(SysML2PlantUMLSvc.java:88)\n",
       "\tat org.omg.sysml.plantuml.SysML2PlantUMLSvc.getSVG(SysML2PlantUMLSvc.java:99)\n",
       "\tat org.omg.sysml.interactive.SysMLInteractive.viz(SysMLInteractive.java:294)\n",
       "\tat org.omg.sysml.jupyter.kernel.magic.Viz.viz(Viz.java:47)\n",
       "\tat java.base/jdk.internal.reflect.NativeMethodAccessorImpl.invoke0(Native Method)\n",
       "\tat java.base/jdk.internal.reflect.NativeMethodAccessorImpl.invoke(NativeMethodAccessorImpl.java:78)\n",
       "\tat java.base/jdk.internal.reflect.DelegatingMethodAccessorImpl.invoke(DelegatingMethodAccessorImpl.java:43)\n",
       "\tat java.base/java.lang.reflect.Method.invoke(Method.java:568)\n",
       "\tat io.github.spencerpark.jupyter.kernel.magic.registry.Magics.invoke(Magics.java:89)\n",
       "\tat io.github.spencerpark.jupyter.kernel.magic.registry.Magics.access$000(Magics.java:8)\n",
       "\tat io.github.spencerpark.jupyter.kernel.magic.registry.Magics$LineReflectionMagicFunction.execute(Magics.java:149)\n",
       "\tat io.github.spencerpark.jupyter.kernel.magic.registry.Magics.applyLineMagic(Magics.java:26)\n",
       "\tat org.omg.sysml.jupyter.kernel.SysMLKernel.eval(SysMLKernel.java:76)\n",
       "\tat io.github.spencerpark.jupyter.kernel.BaseKernel.handleExecuteRequest(BaseKernel.java:334)\n",
       "\tat io.github.spencerpark.jupyter.channels.ShellChannel.lambda$bind$0(ShellChannel.java:64)\n",
       "\tat io.github.spencerpark.jupyter.channels.Loop.lambda$new$0(Loop.java:21)\n",
       "\tat io.github.spencerpark.jupyter.channels.Loop.run(Loop.java:78)\n"
      ]
     },
     "execution_count": 3,
     "metadata": {},
     "output_type": "execute_result"
    }
   ],
   "source": [
    "%viz --style=\"COMPTREE\" --view=\"Tree\" \"AnalysisTest\""
   ]
  },
  {
   "cell_type": "code",
   "execution_count": 4,
   "id": "careful-peninsula",
   "metadata": {
    "execution": {
     "iopub.execute_input": "2021-03-26T09:41:43.361419Z",
     "iopub.status.busy": "2021-03-26T09:41:43.360893Z",
     "iopub.status.idle": "2021-03-26T09:41:43.363396Z",
     "shell.execute_reply": "2021-03-26T09:41:43.363121Z"
    }
   },
   "outputs": [
    {
     "data": {
      "text/plain": [
       "java.lang.IllegalArgumentException: Invalid View: State View candidates are: Default Tree StateMachine Interconnection Activity Sequence MIXED \n",
       "\tat org.omg.sysml.plantuml.SysML2PlantUMLSvc.setView(SysML2PlantUMLSvc.java:63)\n",
       "\tat org.omg.sysml.interactive.SysMLInteractive.viz(SysMLInteractive.java:286)\n",
       "\tat org.omg.sysml.jupyter.kernel.magic.Viz.viz(Viz.java:47)\n",
       "\tat java.base/jdk.internal.reflect.NativeMethodAccessorImpl.invoke0(Native Method)\n",
       "\tat java.base/jdk.internal.reflect.NativeMethodAccessorImpl.invoke(NativeMethodAccessorImpl.java:78)\n",
       "\tat java.base/jdk.internal.reflect.DelegatingMethodAccessorImpl.invoke(DelegatingMethodAccessorImpl.java:43)\n",
       "\tat java.base/java.lang.reflect.Method.invoke(Method.java:568)\n",
       "\tat io.github.spencerpark.jupyter.kernel.magic.registry.Magics.invoke(Magics.java:89)\n",
       "\tat io.github.spencerpark.jupyter.kernel.magic.registry.Magics.access$000(Magics.java:8)\n",
       "\tat io.github.spencerpark.jupyter.kernel.magic.registry.Magics$LineReflectionMagicFunction.execute(Magics.java:149)\n",
       "\tat io.github.spencerpark.jupyter.kernel.magic.registry.Magics.applyLineMagic(Magics.java:26)\n",
       "\tat org.omg.sysml.jupyter.kernel.SysMLKernel.eval(SysMLKernel.java:76)\n",
       "\tat io.github.spencerpark.jupyter.kernel.BaseKernel.handleExecuteRequest(BaseKernel.java:334)\n",
       "\tat io.github.spencerpark.jupyter.channels.ShellChannel.lambda$bind$0(ShellChannel.java:64)\n",
       "\tat io.github.spencerpark.jupyter.channels.Loop.lambda$new$0(Loop.java:21)\n",
       "\tat io.github.spencerpark.jupyter.channels.Loop.run(Loop.java:78)\n"
      ]
     },
     "execution_count": 4,
     "metadata": {},
     "output_type": "execute_result"
    }
   ],
   "source": [
    "%viz --style=\"COMPTREE\" --view=\"State\" \"AnalysisTest\""
   ]
  },
  {
   "cell_type": "code",
   "execution_count": 5,
   "id": "treated-surfing",
   "metadata": {
    "execution": {
     "iopub.execute_input": "2021-03-26T09:41:43.418513Z",
     "iopub.status.busy": "2021-03-26T09:41:43.417850Z",
     "iopub.status.idle": "2021-03-26T09:41:43.421193Z",
     "shell.execute_reply": "2021-03-26T09:41:43.420477Z"
    }
   },
   "outputs": [
    {
     "data": {
      "text/plain": [
       "java.lang.IllegalArgumentException: Invalid Style: COMPTREE Possible styles: POLYLINE, LR, STDCOLOR, PLANTUML, DEFAULT, TB, ORTHOLINE\n",
       "\tat org.omg.sysml.plantuml.SysML2PlantUMLStyle.get(SysML2PlantUMLStyle.java:258)\n",
       "\tat org.omg.sysml.plantuml.SysML2PlantUMLSvc.applyStyle(SysML2PlantUMLSvc.java:73)\n",
       "\tat org.omg.sysml.plantuml.SysML2PlantUMLSvc.getPlantUMLCode(SysML2PlantUMLSvc.java:88)\n",
       "\tat org.omg.sysml.plantuml.SysML2PlantUMLSvc.getSVG(SysML2PlantUMLSvc.java:99)\n",
       "\tat org.omg.sysml.interactive.SysMLInteractive.viz(SysMLInteractive.java:294)\n",
       "\tat org.omg.sysml.jupyter.kernel.magic.Viz.viz(Viz.java:47)\n",
       "\tat java.base/jdk.internal.reflect.NativeMethodAccessorImpl.invoke0(Native Method)\n",
       "\tat java.base/jdk.internal.reflect.NativeMethodAccessorImpl.invoke(NativeMethodAccessorImpl.java:78)\n",
       "\tat java.base/jdk.internal.reflect.DelegatingMethodAccessorImpl.invoke(DelegatingMethodAccessorImpl.java:43)\n",
       "\tat java.base/java.lang.reflect.Method.invoke(Method.java:568)\n",
       "\tat io.github.spencerpark.jupyter.kernel.magic.registry.Magics.invoke(Magics.java:89)\n",
       "\tat io.github.spencerpark.jupyter.kernel.magic.registry.Magics.access$000(Magics.java:8)\n",
       "\tat io.github.spencerpark.jupyter.kernel.magic.registry.Magics$LineReflectionMagicFunction.execute(Magics.java:149)\n",
       "\tat io.github.spencerpark.jupyter.kernel.magic.registry.Magics.applyLineMagic(Magics.java:26)\n",
       "\tat org.omg.sysml.jupyter.kernel.SysMLKernel.eval(SysMLKernel.java:76)\n",
       "\tat io.github.spencerpark.jupyter.kernel.BaseKernel.handleExecuteRequest(BaseKernel.java:334)\n",
       "\tat io.github.spencerpark.jupyter.channels.ShellChannel.lambda$bind$0(ShellChannel.java:64)\n",
       "\tat io.github.spencerpark.jupyter.channels.Loop.lambda$new$0(Loop.java:21)\n",
       "\tat io.github.spencerpark.jupyter.channels.Loop.run(Loop.java:78)\n"
      ]
     },
     "execution_count": 5,
     "metadata": {},
     "output_type": "execute_result"
    }
   ],
   "source": [
    "%viz --style=\"COMPTREE\" --view=\"Interconnection\" \"AnalysisTest\""
   ]
  },
  {
   "cell_type": "code",
   "execution_count": 6,
   "id": "driven-gathering",
   "metadata": {
    "execution": {
     "iopub.execute_input": "2021-03-26T09:41:43.474865Z",
     "iopub.status.busy": "2021-03-26T09:41:43.473507Z",
     "iopub.status.idle": "2021-03-26T09:41:43.478061Z",
     "shell.execute_reply": "2021-03-26T09:41:43.477723Z"
    }
   },
   "outputs": [
    {
     "data": {
      "text/plain": [
       "java.lang.IllegalArgumentException: Invalid View: Action View candidates are: Default Tree StateMachine Interconnection Activity Sequence MIXED \n",
       "\tat org.omg.sysml.plantuml.SysML2PlantUMLSvc.setView(SysML2PlantUMLSvc.java:63)\n",
       "\tat org.omg.sysml.interactive.SysMLInteractive.viz(SysMLInteractive.java:286)\n",
       "\tat org.omg.sysml.jupyter.kernel.magic.Viz.viz(Viz.java:47)\n",
       "\tat java.base/jdk.internal.reflect.NativeMethodAccessorImpl.invoke0(Native Method)\n",
       "\tat java.base/jdk.internal.reflect.NativeMethodAccessorImpl.invoke(NativeMethodAccessorImpl.java:78)\n",
       "\tat java.base/jdk.internal.reflect.DelegatingMethodAccessorImpl.invoke(DelegatingMethodAccessorImpl.java:43)\n",
       "\tat java.base/java.lang.reflect.Method.invoke(Method.java:568)\n",
       "\tat io.github.spencerpark.jupyter.kernel.magic.registry.Magics.invoke(Magics.java:89)\n",
       "\tat io.github.spencerpark.jupyter.kernel.magic.registry.Magics.access$000(Magics.java:8)\n",
       "\tat io.github.spencerpark.jupyter.kernel.magic.registry.Magics$LineReflectionMagicFunction.execute(Magics.java:149)\n",
       "\tat io.github.spencerpark.jupyter.kernel.magic.registry.Magics.applyLineMagic(Magics.java:26)\n",
       "\tat org.omg.sysml.jupyter.kernel.SysMLKernel.eval(SysMLKernel.java:76)\n",
       "\tat io.github.spencerpark.jupyter.kernel.BaseKernel.handleExecuteRequest(BaseKernel.java:334)\n",
       "\tat io.github.spencerpark.jupyter.channels.ShellChannel.lambda$bind$0(ShellChannel.java:64)\n",
       "\tat io.github.spencerpark.jupyter.channels.Loop.lambda$new$0(Loop.java:21)\n",
       "\tat io.github.spencerpark.jupyter.channels.Loop.run(Loop.java:78)\n"
      ]
     },
     "execution_count": 6,
     "metadata": {},
     "output_type": "execute_result"
    }
   ],
   "source": [
    "%viz --style=\"COMPTREE\" --view=\"Action\" \"AnalysisTest\""
   ]
  },
  {
   "cell_type": "code",
   "execution_count": 7,
   "id": "southern-retailer",
   "metadata": {
    "execution": {
     "iopub.execute_input": "2021-03-26T09:41:43.530555Z",
     "iopub.status.busy": "2021-03-26T09:41:43.529763Z",
     "iopub.status.idle": "2021-03-26T09:41:43.533016Z",
     "shell.execute_reply": "2021-03-26T09:41:43.532643Z"
    }
   },
   "outputs": [
    {
     "data": {
      "text/plain": [
       "java.lang.IllegalArgumentException: Invalid Style: COMPTREE Possible styles: POLYLINE, LR, STDCOLOR, PLANTUML, DEFAULT, TB, ORTHOLINE\n",
       "\tat org.omg.sysml.plantuml.SysML2PlantUMLStyle.get(SysML2PlantUMLStyle.java:258)\n",
       "\tat org.omg.sysml.plantuml.SysML2PlantUMLSvc.applyStyle(SysML2PlantUMLSvc.java:73)\n",
       "\tat org.omg.sysml.plantuml.SysML2PlantUMLSvc.getPlantUMLCode(SysML2PlantUMLSvc.java:88)\n",
       "\tat org.omg.sysml.plantuml.SysML2PlantUMLSvc.getSVG(SysML2PlantUMLSvc.java:99)\n",
       "\tat org.omg.sysml.interactive.SysMLInteractive.viz(SysMLInteractive.java:294)\n",
       "\tat org.omg.sysml.jupyter.kernel.magic.Viz.viz(Viz.java:47)\n",
       "\tat java.base/jdk.internal.reflect.NativeMethodAccessorImpl.invoke0(Native Method)\n",
       "\tat java.base/jdk.internal.reflect.NativeMethodAccessorImpl.invoke(NativeMethodAccessorImpl.java:78)\n",
       "\tat java.base/jdk.internal.reflect.DelegatingMethodAccessorImpl.invoke(DelegatingMethodAccessorImpl.java:43)\n",
       "\tat java.base/java.lang.reflect.Method.invoke(Method.java:568)\n",
       "\tat io.github.spencerpark.jupyter.kernel.magic.registry.Magics.invoke(Magics.java:89)\n",
       "\tat io.github.spencerpark.jupyter.kernel.magic.registry.Magics.access$000(Magics.java:8)\n",
       "\tat io.github.spencerpark.jupyter.kernel.magic.registry.Magics$LineReflectionMagicFunction.execute(Magics.java:149)\n",
       "\tat io.github.spencerpark.jupyter.kernel.magic.registry.Magics.applyLineMagic(Magics.java:26)\n",
       "\tat org.omg.sysml.jupyter.kernel.SysMLKernel.eval(SysMLKernel.java:76)\n",
       "\tat io.github.spencerpark.jupyter.kernel.BaseKernel.handleExecuteRequest(BaseKernel.java:334)\n",
       "\tat io.github.spencerpark.jupyter.channels.ShellChannel.lambda$bind$0(ShellChannel.java:64)\n",
       "\tat io.github.spencerpark.jupyter.channels.Loop.lambda$new$0(Loop.java:21)\n",
       "\tat io.github.spencerpark.jupyter.channels.Loop.run(Loop.java:78)\n"
      ]
     },
     "execution_count": 7,
     "metadata": {},
     "output_type": "execute_result"
    }
   ],
   "source": [
    "%viz --style=\"COMPTREE\" --view=\"Sequence\" \"AnalysisTest\""
   ]
  },
  {
   "cell_type": "code",
   "execution_count": 8,
   "id": "known-sphere",
   "metadata": {
    "execution": {
     "iopub.execute_input": "2021-03-26T09:41:43.584476Z",
     "iopub.status.busy": "2021-03-26T09:41:43.583936Z",
     "iopub.status.idle": "2021-03-26T09:41:43.587228Z",
     "shell.execute_reply": "2021-03-26T09:41:43.586864Z"
    }
   },
   "outputs": [
    {
     "data": {
      "text/plain": [
       "java.lang.IllegalArgumentException: Invalid Style: COMPTREE Possible styles: POLYLINE, LR, STDCOLOR, PLANTUML, DEFAULT, TB, ORTHOLINE\n",
       "\tat org.omg.sysml.plantuml.SysML2PlantUMLStyle.get(SysML2PlantUMLStyle.java:258)\n",
       "\tat org.omg.sysml.plantuml.SysML2PlantUMLSvc.applyStyle(SysML2PlantUMLSvc.java:73)\n",
       "\tat org.omg.sysml.plantuml.SysML2PlantUMLSvc.getPlantUMLCode(SysML2PlantUMLSvc.java:88)\n",
       "\tat org.omg.sysml.plantuml.SysML2PlantUMLSvc.getSVG(SysML2PlantUMLSvc.java:99)\n",
       "\tat org.omg.sysml.interactive.SysMLInteractive.viz(SysMLInteractive.java:294)\n",
       "\tat org.omg.sysml.jupyter.kernel.magic.Viz.viz(Viz.java:47)\n",
       "\tat java.base/jdk.internal.reflect.NativeMethodAccessorImpl.invoke0(Native Method)\n",
       "\tat java.base/jdk.internal.reflect.NativeMethodAccessorImpl.invoke(NativeMethodAccessorImpl.java:78)\n",
       "\tat java.base/jdk.internal.reflect.DelegatingMethodAccessorImpl.invoke(DelegatingMethodAccessorImpl.java:43)\n",
       "\tat java.base/java.lang.reflect.Method.invoke(Method.java:568)\n",
       "\tat io.github.spencerpark.jupyter.kernel.magic.registry.Magics.invoke(Magics.java:89)\n",
       "\tat io.github.spencerpark.jupyter.kernel.magic.registry.Magics.access$000(Magics.java:8)\n",
       "\tat io.github.spencerpark.jupyter.kernel.magic.registry.Magics$LineReflectionMagicFunction.execute(Magics.java:149)\n",
       "\tat io.github.spencerpark.jupyter.kernel.magic.registry.Magics.applyLineMagic(Magics.java:26)\n",
       "\tat org.omg.sysml.jupyter.kernel.SysMLKernel.eval(SysMLKernel.java:76)\n",
       "\tat io.github.spencerpark.jupyter.kernel.BaseKernel.handleExecuteRequest(BaseKernel.java:334)\n",
       "\tat io.github.spencerpark.jupyter.channels.ShellChannel.lambda$bind$0(ShellChannel.java:64)\n",
       "\tat io.github.spencerpark.jupyter.channels.Loop.lambda$new$0(Loop.java:21)\n",
       "\tat io.github.spencerpark.jupyter.channels.Loop.run(Loop.java:78)\n"
      ]
     },
     "execution_count": 8,
     "metadata": {},
     "output_type": "execute_result"
    }
   ],
   "source": [
    "%viz --style=\"COMPTREE\" --view=\"MIXED\" \"AnalysisTest\""
   ]
  },
  {
   "cell_type": "code",
   "execution_count": 9,
   "id": "unauthorized-fashion",
   "metadata": {
    "execution": {
     "iopub.execute_input": "2021-03-26T09:41:43.639608Z",
     "iopub.status.busy": "2021-03-26T09:41:43.638935Z",
     "iopub.status.idle": "2021-03-26T09:41:44.243252Z",
     "shell.execute_reply": "2021-03-26T09:41:44.241156Z"
    }
   },
   "outputs": [
    {
     "data": {
      "image/svg+xml": [
       "<?xml version=\"1.0\" encoding=\"UTF-8\" standalone=\"no\"?><svg xmlns=\"http://www.w3.org/2000/svg\" xmlns:xlink=\"http://www.w3.org/1999/xlink\" contentScriptType=\"application/ecmascript\" contentStyleType=\"text/css\" height=\"551px\" preserveAspectRatio=\"none\" style=\"width:848px;height:551px;\" version=\"1.1\" viewBox=\"0 0 848 551\" width=\"848px\" zoomAndPan=\"magnify\"><defs/><g><!--MD5=[fbc87193dbaf4d95561dea2c320d4a47]\n",
       "cluster E1--><polygon fill=\"#FFFFFF\" points=\"16,6,122,6,129,28.2969,826,28.2969,826,539.72,16,539.72,16,6\" style=\"stroke: #000000; stroke-width: 1.5;\"/><line style=\"stroke: #000000; stroke-width: 1.5;\" x1=\"16\" x2=\"129\" y1=\"28.2969\" y2=\"28.2969\"/><text fill=\"#000000\" font-family=\"sans-serif\" font-size=\"14\" font-weight=\"bold\" lengthAdjust=\"spacingAndGlyphs\" textLength=\"100\" x=\"20\" y=\"20.9951\">AnalysisTest</text><!--MD5=[de5ec2e2e8f62f467e546659f5068c88]\n",
       "cluster E5--><rect fill=\"#FFFFFF\" height=\"164\" style=\"stroke: #000000; stroke-width: 1.5;\" width=\"152\" x=\"658\" y=\"74.5\"/><text fill=\"#000000\" font-family=\"sans-serif\" font-size=\"14\" font-weight=\"bold\" lengthAdjust=\"spacingAndGlyphs\" textLength=\"104\" x=\"682\" y=\"89.4951\">AnalysisCase</text><!--MD5=[168fadf3d0c3fd93dd5d6da1b1d7ab76]\n",
       "cluster E7--><rect fill=\"#FFFFFF\" height=\"302.72\" style=\"stroke: #000000; stroke-width: 1.5;\" width=\"256\" x=\"279\" y=\"213\"/><text fill=\"#000000\" font-family=\"sans-serif\" font-size=\"14\" font-weight=\"bold\" lengthAdjust=\"spacingAndGlyphs\" textLength=\"98\" x=\"358\" y=\"227.9951\">AnalysisPlan</text><!--MD5=[7f149f147074ac12df2cb0a7728a5fb0]\n",
       "cluster E9--><rect fill=\"#F8F8F8\" height=\"146.22\" rx=\"12.5\" ry=\"12.5\" style=\"stroke: #000000; stroke-width: 1.5;\" width=\"138\" x=\"373\" y=\"331.5\"/><rect fill=\"#FFFFFF\" height=\"113.9231\" rx=\"12.5\" ry=\"12.5\" style=\"stroke: #FFFFFF; stroke-width: 1.0;\" width=\"132\" x=\"376\" y=\"360.7969\"/><line style=\"stroke: #000000; stroke-width: 1.5;\" x1=\"373\" x2=\"511\" y1=\"357.7969\" y2=\"357.7969\"/><text fill=\"#000000\" font-family=\"sans-serif\" font-size=\"14\" lengthAdjust=\"spacingAndGlyphs\" textLength=\"89\" x=\"397.5\" y=\"349.4951\">analysisCase</text><!--MD5=[b4997ac47864f28c2f74865a473b2911]\n",
       "class E2--><rect fill=\"#FFFFFF\" height=\"58.7422\" id=\"E2\" style=\"stroke: #383838; stroke-width: 1.5;\" width=\"88\" x=\"551\" y=\"183.5\"/><text fill=\"#000000\" font-family=\"sans-serif\" font-size=\"12\" font-style=\"italic\" lengthAdjust=\"spacingAndGlyphs\" textLength=\"64\" x=\"563\" y=\"199.6387\">«part def»</text><text fill=\"#000000\" font-family=\"sans-serif\" font-size=\"12\" lengthAdjust=\"spacingAndGlyphs\" textLength=\"8\" x=\"591\" y=\"213.6074\">V</text><line style=\"stroke: #383838; stroke-width: 1.5;\" x1=\"552\" x2=\"638\" y1=\"221.4375\" y2=\"221.4375\"/><text fill=\"#000000\" font-family=\"sans-serif\" font-size=\"11\" lengthAdjust=\"spacingAndGlyphs\" textLength=\"76\" x=\"557\" y=\"235.6479\">m: DataValue</text><!--MD5=[09b614a08d8cba4a07c9adeb5e0fee81]\n",
       "class E3--><rect fill=\"#FFFFFF\" height=\"45.9375\" id=\"E3\" rx=\"10\" ry=\"10\" style=\"stroke: #383838; stroke-width: 1.5;\" width=\"42\" x=\"574\" y=\"51.5\"/><text fill=\"#000000\" font-family=\"sans-serif\" font-size=\"12\" font-style=\"italic\" lengthAdjust=\"spacingAndGlyphs\" textLength=\"40\" x=\"575\" y=\"67.6387\">«part»</text><text fill=\"#000000\" font-family=\"sans-serif\" font-size=\"12\" lengthAdjust=\"spacingAndGlyphs\" textLength=\"28\" x=\"581\" y=\"81.6074\">vv: V</text><line style=\"stroke: #383838; stroke-width: 1.5;\" x1=\"575\" x2=\"615\" y1=\"89.4375\" y2=\"89.4375\"/><!--MD5=[ebbe1d658d1005bcc118a6aa81145e00]\n",
       "class E4--><rect fill=\"#FFFFFF\" height=\"66.7422\" id=\"E4\" style=\"stroke: #383838; stroke-width: 1.5;\" width=\"117\" x=\"321.5\" y=\"41\"/><text fill=\"#000000\" font-family=\"sans-serif\" font-size=\"12\" font-style=\"italic\" lengthAdjust=\"spacingAndGlyphs\" textLength=\"115\" x=\"322.5\" y=\"57.1387\">«requirement def»</text><text fill=\"#000000\" font-family=\"sans-serif\" font-size=\"12\" lengthAdjust=\"spacingAndGlyphs\" textLength=\"107\" x=\"326.5\" y=\"71.1074\">AnalysisObjective</text><line style=\"stroke: #383838; stroke-width: 1.5;\" x1=\"322.5\" x2=\"437.5\" y1=\"78.9375\" y2=\"78.9375\"/><text fill=\"#000000\" font-family=\"sans-serif\" font-size=\"11\" lengthAdjust=\"spacingAndGlyphs\" textLength=\"12\" x=\"327.5\" y=\"93.1479\">...</text><line style=\"stroke: #383838; stroke-width: 1.0;\" x1=\"322.5\" x2=\"437.5\" y1=\"99.7422\" y2=\"99.7422\"/><!--MD5=[1dd1bfd58a279cf63c5f349dbc8fc6a1]\n",
       "class E11--><rect fill=\"#FFFFFF\" height=\"45.9375\" id=\"E11\" rx=\"10\" ry=\"10\" style=\"stroke: #383838; stroke-width: 1.5;\" width=\"138\" x=\"47\" y=\"51.5\"/><text fill=\"#000000\" font-family=\"sans-serif\" font-size=\"12\" font-style=\"italic\" lengthAdjust=\"spacingAndGlyphs\" textLength=\"40\" x=\"96\" y=\"67.6387\">«part»</text><text fill=\"#000000\" font-family=\"sans-serif\" font-size=\"12\" lengthAdjust=\"spacingAndGlyphs\" textLength=\"132\" x=\"50\" y=\"81.6074\">analysisContext: Part</text><line style=\"stroke: #383838; stroke-width: 1.5;\" x1=\"48\" x2=\"184\" y1=\"89.4375\" y2=\"89.4375\"/><!--MD5=[49a0ec8f00dab7302a31f22d0f0fe584]\n",
       "class E12--><rect fill=\"#FFFFFF\" height=\"88.3516\" id=\"E12\" rx=\"10\" ry=\"10\" style=\"stroke: #383838; stroke-width: 1.5;\" width=\"168\" x=\"32\" y=\"169\"/><text fill=\"#000000\" font-family=\"sans-serif\" font-size=\"12\" font-style=\"italic\" lengthAdjust=\"spacingAndGlyphs\" textLength=\"64\" x=\"84\" y=\"185.1387\">«analysis»</text><text fill=\"#000000\" font-family=\"sans-serif\" font-size=\"12\" lengthAdjust=\"spacingAndGlyphs\" textLength=\"162\" x=\"35\" y=\"199.1074\">analysisPlan: AnalysisPlan</text><line style=\"stroke: #383838; stroke-width: 1.5;\" x1=\"33\" x2=\"199\" y1=\"206.9375\" y2=\"206.9375\"/><text fill=\"#000000\" font-family=\"sans-serif\" font-size=\"11\" lengthAdjust=\"spacingAndGlyphs\" textLength=\"50\" x=\"38\" y=\"237.9526\">v: V= vv;</text><text fill=\"#000000\" font-family=\"sans-serif\" font-size=\"11\" font-style=\"italic\" lengthAdjust=\"spacingAndGlyphs\" textLength=\"107\" x=\"38\" y=\"250.7573\">:&gt;&gt;AnalysisPlan::v</text><line style=\"stroke: #383838; stroke-width: 1.0;\" x1=\"33\" x2=\"85\" y1=\"221.3398\" y2=\"221.3398\"/><text fill=\"#000000\" font-family=\"sans-serif\" font-size=\"11\" lengthAdjust=\"spacingAndGlyphs\" textLength=\"62\" x=\"85\" y=\"224.6479\">references</text><line style=\"stroke: #383838; stroke-width: 1.0;\" x1=\"147\" x2=\"199\" y1=\"221.3398\" y2=\"221.3398\"/><!--MD5=[ee3c913d1a06f366521f9ef512b67efe]\n",
       "class E13--><rect fill=\"#FFFFFF\" height=\"45.9375\" id=\"E13\" rx=\"10\" ry=\"10\" style=\"stroke: #383838; stroke-width: 1.5;\" width=\"151\" x=\"40.5\" y=\"334\"/><text fill=\"#000000\" font-family=\"sans-serif\" font-size=\"12\" font-style=\"italic\" lengthAdjust=\"spacingAndGlyphs\" textLength=\"91\" x=\"70.5\" y=\"350.1387\">«requirement»</text><text fill=\"#000000\" font-family=\"sans-serif\" font-size=\"12\" lengthAdjust=\"spacingAndGlyphs\" textLength=\"145\" x=\"43.5\" y=\"364.1074\">obj: RequirementCheck</text><line style=\"stroke: #383838; stroke-width: 1.5;\" x1=\"41.5\" x2=\"190.5\" y1=\"371.9375\" y2=\"371.9375\"/><text fill=\"#000000\" font-family=\"sans-serif\" font-size=\"14\" lengthAdjust=\"spacingAndGlyphs\" textLength=\"7\" x=\"730.5\" y=\"53.1982\">v</text><rect fill=\"#383838\" height=\"12\" style=\"stroke: #F8F8F8; stroke-width: 1.5;\" width=\"12\" x=\"728\" y=\"68.5\"/><text fill=\"#000000\" font-family=\"sans-serif\" font-size=\"14\" lengthAdjust=\"spacingAndGlyphs\" textLength=\"7\" x=\"293.5\" y=\"191.6982\">v</text><rect fill=\"#383838\" height=\"12\" style=\"stroke: #F8F8F8; stroke-width: 1.5;\" width=\"12\" x=\"291\" y=\"207\"/><text fill=\"#000000\" font-family=\"sans-serif\" font-size=\"14\" lengthAdjust=\"spacingAndGlyphs\" textLength=\"37\" x=\"423.5\" y=\"496.7151\">mass</text><rect fill=\"#383838\" height=\"12\" style=\"stroke: #F8F8F8; stroke-width: 1.5;\" width=\"12\" x=\"436\" y=\"471.72\"/><!--MD5=[05d275557350bfb9b23a4ef7222b4c39]\n",
       "link E3 to E2--><path d=\"M595,97.73 C595,115.37 595,140.67 595,162.99 \" fill=\"none\" id=\"E3-&gt;E2\" style=\"stroke: #383838; stroke-width: 1.0;\"/><polygon fill=\"#FFFFFF\" points=\"595,183.12,588,164.12,602,164.12,595,183.12\" style=\"stroke: #383838; stroke-width: 1.0;\"/><ellipse cx=\"590\" cy=\"158.42\" fill=\"#383838\" rx=\"2\" ry=\"2\" style=\"stroke: #383838; stroke-width: 1.0;\"/><ellipse cx=\"600\" cy=\"158.42\" fill=\"#383838\" rx=\"2\" ry=\"2\" style=\"stroke: #383838; stroke-width: 1.0;\"/><!--MD5=[ae660f5ecd7ddb04a8913625960940af]\n",
       "link E12 to E7--><path d=\"M171.29,257.38 C191.56,273.285 214.625,291.38 235.415,307.69 C245.81,315.845 255.6363,323.5538 264.26,330.3194 C268.5719,333.7022 272.5831,336.8492 276.2145,339.6984 C277.1224,340.4106 278.0065,341.1043 278.8656,341.7784 \" fill=\"none\" id=\"E12-&gt;E7\" style=\"stroke: #383838; stroke-width: 1.0;\"/><polygon fill=\"#FFFFFF\" points=\"278.8656,341.7784,259.5965,335.5573,268.2385,324.5429,278.8656,341.7784\" style=\"stroke: #383838; stroke-width: 1.0;\"/><ellipse cx=\"256.3467\" cy=\"330.4653\" fill=\"#383838\" rx=\"2\" ry=\"2\" style=\"stroke: #383838; stroke-width: 1.0;\"/><ellipse cx=\"262.5195\" cy=\"322.5978\" fill=\"#383838\" rx=\"2\" ry=\"2\" style=\"stroke: #383838; stroke-width: 1.0;\"/><!--MD5=[94adabc162ce7e41b39f13be14fbaeb3]\n",
       "reverse link E11 to E12--><path d=\"M116,110.96 C116,128.64 116,150.18 116,168.81 \" fill=\"none\" id=\"E11&lt;-E12\" style=\"stroke: #383838; stroke-width: 1.0;\"/><polygon fill=\"#383838\" points=\"116,97.73,112,103.73,116,109.73,120,103.73,116,97.73\" style=\"stroke: #383838; stroke-width: 1.0;\"/><!--MD5=[e2a9ac97dcd3257bb5342dae06547bad]\n",
       "link E12 to E13--><path d=\"M116,257.38 C116,279.5 116,305.86 116,325.76 \" fill=\"none\" id=\"E12-&gt;E13\" style=\"stroke: #383838; stroke-width: 1.0;\"/><polygon fill=\"#383838\" points=\"116,333.87,119,325.87,113,325.87,116,333.87\" style=\"stroke: #383838; stroke-width: 1.0;\"/><text fill=\"#000000\" font-family=\"sans-serif\" font-size=\"13\" lengthAdjust=\"spacingAndGlyphs\" textLength=\"73\" x=\"117\" y=\"300.0669\">«objective»</text><!--MD5=[b5d2ede7e35efe8cb700781174bdc7bd]\n",
       "@startuml\r\n",
       "skinparam linetype polyline\r\n",
       "skinparam monochrome true\r\n",
       "skinparam classbackgroundcolor white\r\n",
       "skinparam shadowing false\r\n",
       "skinparam wrapWidth 300\r\n",
       "hide circle\r\n",
       "\r\n",
       "package \"AnalysisTest\" as E1   {\r\n",
       "comp def \"V\" as E2  <<(T,blue)part def>> {\r\n",
       "m: DataValue\r\n",
       "}\r\n",
       "comp usage \"vv: V\" as E3  <<(T,blue)part>> {\r\n",
       "}\r\n",
       "comp def \"AnalysisObjective\" as E4  <<(T,blue)requirement def>> {\r\n",
       "...\r\n",
       "- -\r\n",
       "}\r\n",
       "rec def \"AnalysisCase\" as E5 {\r\n",
       "portin \"v\" as E6  \r\n",
       "}\r\n",
       "\r\n",
       "rec def \"AnalysisPlan\" as E7 {\r\n",
       "portin \"v\" as E8  \r\n",
       "rec usage \"analysisCase\" as E9 {\r\n",
       "portout \"mass\" as E10  \r\n",
       "}\r\n",
       "\r\n",
       "}\r\n",
       "\r\n",
       "comp usage \"analysisContext: Part\" as E11  <<(T,blue)part>> {\r\n",
       "}\r\n",
       "comp usage \"analysisPlan: AnalysisPlan\" as E12 <<analysis>> {\r\n",
       "- -references- -\r\n",
       "v: V= vv; \\n//:>>AnalysisPlan::v// \r\n",
       "}\r\n",
       "comp usage \"obj: RequirementCheck\" as E13  <<(T,blue)requirement>> {\r\n",
       "}\r\n",
       "E3 - -:|> E2\r\n",
       "E12 - -:|> E7\r\n",
       "E11 *- - E12\r\n",
       "E12 - ->> E13 : <<objective>>\r\n",
       "}\r\n",
       "@enduml\r\n",
       "\n",
       "PlantUML version 1.2020.13(Sat Jun 13 12:26:38 UTC 2020)\n",
       "(EPL source distribution)\n",
       "Java Runtime: OpenJDK Runtime Environment\n",
       "JVM: OpenJDK 64-Bit Server VM\n",
       "Default Encoding: UTF-8\n",
       "Language: en\n",
       "Country: null\n",
       "--></g></svg>"
      ]
     },
     "execution_count": 9,
     "metadata": {},
     "output_type": "execute_result"
    }
   ],
   "source": [
    "%viz --style=\"POLYLINE\" --view=\"Default\" \"AnalysisTest\""
   ]
  },
  {
   "cell_type": "code",
   "execution_count": 10,
   "id": "laughing-sunrise",
   "metadata": {
    "execution": {
     "iopub.execute_input": "2021-03-26T09:41:44.292781Z",
     "iopub.status.busy": "2021-03-26T09:41:44.292121Z",
     "iopub.status.idle": "2021-03-26T09:41:44.448605Z",
     "shell.execute_reply": "2021-03-26T09:41:44.448302Z"
    }
   },
   "outputs": [
    {
     "data": {
      "image/svg+xml": [
       "<?xml version=\"1.0\" encoding=\"UTF-8\" standalone=\"no\"?><svg xmlns=\"http://www.w3.org/2000/svg\" xmlns:xlink=\"http://www.w3.org/1999/xlink\" contentScriptType=\"application/ecmascript\" contentStyleType=\"text/css\" height=\"947px\" preserveAspectRatio=\"none\" style=\"width:482px;height:947px;\" version=\"1.1\" viewBox=\"0 0 482 947\" width=\"482px\" zoomAndPan=\"magnify\"><defs/><g><!--MD5=[fbc87193dbaf4d95561dea2c320d4a47]\n",
       "cluster E1--><polygon fill=\"#FFFFFF\" points=\"16,6,122,6,129,28.2969,448,28.2969,448,935,16,935,16,6\" style=\"stroke: #000000; stroke-width: 1.5;\"/><line style=\"stroke: #000000; stroke-width: 1.5;\" x1=\"16\" x2=\"129\" y1=\"28.2969\" y2=\"28.2969\"/><text fill=\"#000000\" font-family=\"sans-serif\" font-size=\"14\" font-weight=\"bold\" lengthAdjust=\"spacingAndGlyphs\" textLength=\"100\" x=\"20\" y=\"20.9951\">AnalysisTest</text><!--MD5=[b4997ac47864f28c2f74865a473b2911]\n",
       "class E2--><rect fill=\"#FFFFFF\" height=\"58.7422\" id=\"E2\" style=\"stroke: #383838; stroke-width: 1.5;\" width=\"88\" x=\"309\" y=\"717.5\"/><text fill=\"#000000\" font-family=\"sans-serif\" font-size=\"12\" font-style=\"italic\" lengthAdjust=\"spacingAndGlyphs\" textLength=\"64\" x=\"321\" y=\"733.6387\">«part def»</text><text fill=\"#000000\" font-family=\"sans-serif\" font-size=\"12\" lengthAdjust=\"spacingAndGlyphs\" textLength=\"8\" x=\"349\" y=\"747.6074\">V</text><line style=\"stroke: #383838; stroke-width: 1.5;\" x1=\"310\" x2=\"396\" y1=\"755.4375\" y2=\"755.4375\"/><text fill=\"#000000\" font-family=\"sans-serif\" font-size=\"11\" lengthAdjust=\"spacingAndGlyphs\" textLength=\"76\" x=\"315\" y=\"769.6479\">m: DataValue</text><!--MD5=[09b614a08d8cba4a07c9adeb5e0fee81]\n",
       "class E3--><rect fill=\"#FFFFFF\" height=\"45.9375\" id=\"E3\" rx=\"10\" ry=\"10\" style=\"stroke: #383838; stroke-width: 1.5;\" width=\"42\" x=\"332\" y=\"580\"/><text fill=\"#000000\" font-family=\"sans-serif\" font-size=\"12\" font-style=\"italic\" lengthAdjust=\"spacingAndGlyphs\" textLength=\"40\" x=\"333\" y=\"596.1387\">«part»</text><text fill=\"#000000\" font-family=\"sans-serif\" font-size=\"12\" lengthAdjust=\"spacingAndGlyphs\" textLength=\"28\" x=\"339\" y=\"610.1074\">vv: V</text><line style=\"stroke: #383838; stroke-width: 1.5;\" x1=\"333\" x2=\"373\" y1=\"617.9375\" y2=\"617.9375\"/><!--MD5=[ebbe1d658d1005bcc118a6aa81145e00]\n",
       "class E4--><rect fill=\"#FFFFFF\" height=\"66.7422\" id=\"E4\" style=\"stroke: #383838; stroke-width: 1.5;\" width=\"117\" x=\"73.5\" y=\"852\"/><text fill=\"#000000\" font-family=\"sans-serif\" font-size=\"12\" font-style=\"italic\" lengthAdjust=\"spacingAndGlyphs\" textLength=\"115\" x=\"74.5\" y=\"868.1387\">«requirement def»</text><text fill=\"#000000\" font-family=\"sans-serif\" font-size=\"12\" lengthAdjust=\"spacingAndGlyphs\" textLength=\"107\" x=\"78.5\" y=\"882.1074\">AnalysisObjective</text><line style=\"stroke: #383838; stroke-width: 1.5;\" x1=\"74.5\" x2=\"189.5\" y1=\"889.9375\" y2=\"889.9375\"/><text fill=\"#000000\" font-family=\"sans-serif\" font-size=\"11\" lengthAdjust=\"spacingAndGlyphs\" textLength=\"12\" x=\"79.5\" y=\"904.1479\">...</text><line style=\"stroke: #383838; stroke-width: 1.0;\" x1=\"74.5\" x2=\"189.5\" y1=\"910.7422\" y2=\"910.7422\"/><!--MD5=[270fce915f116d4de14055a7c1d9a0f3]\n",
       "class E5--><rect fill=\"#FFFFFF\" height=\"45.9375\" id=\"E5\" style=\"stroke: #383838; stroke-width: 1.5;\" width=\"90\" x=\"207\" y=\"580\"/><text fill=\"#000000\" font-family=\"sans-serif\" font-size=\"12\" font-style=\"italic\" lengthAdjust=\"spacingAndGlyphs\" textLength=\"88\" x=\"208\" y=\"596.1387\">«analysis def»</text><text fill=\"#000000\" font-family=\"sans-serif\" font-size=\"12\" lengthAdjust=\"spacingAndGlyphs\" textLength=\"81\" x=\"211.5\" y=\"610.1074\">AnalysisCase</text><line style=\"stroke: #383838; stroke-width: 1.5;\" x1=\"208\" x2=\"296\" y1=\"617.9375\" y2=\"617.9375\"/><!--MD5=[60a26617385b1d2d0262a64233df1f8d]\n",
       "class E6--><rect fill=\"#FFFFFF\" height=\"88.3516\" id=\"E6\" rx=\"10\" ry=\"10\" style=\"stroke: #383838; stroke-width: 1.5;\" width=\"165\" x=\"49.5\" y=\"703\"/><text fill=\"#000000\" font-family=\"sans-serif\" font-size=\"12\" font-style=\"italic\" lengthAdjust=\"spacingAndGlyphs\" textLength=\"91\" x=\"86.5\" y=\"719.1387\">«requirement»</text><text fill=\"#000000\" font-family=\"sans-serif\" font-size=\"12\" lengthAdjust=\"spacingAndGlyphs\" textLength=\"134\" x=\"65\" y=\"733.1074\">obj: AnalysisObjective</text><line style=\"stroke: #383838; stroke-width: 1.5;\" x1=\"50.5\" x2=\"213.5\" y1=\"740.9375\" y2=\"740.9375\"/><text fill=\"#000000\" font-family=\"sans-serif\" font-size=\"11\" lengthAdjust=\"spacingAndGlyphs\" textLength=\"130\" x=\"55.5\" y=\"771.9526\">subj: Anything= result;</text><text fill=\"#000000\" font-family=\"sans-serif\" font-size=\"11\" font-style=\"italic\" lengthAdjust=\"spacingAndGlyphs\" textLength=\"153\" x=\"55.5\" y=\"784.7573\">:&gt;&gt;AnalysisObjective::subj</text><line style=\"stroke: #383838; stroke-width: 1.0;\" x1=\"50.5\" x2=\"101\" y1=\"755.3398\" y2=\"755.3398\"/><text fill=\"#000000\" font-family=\"sans-serif\" font-size=\"11\" lengthAdjust=\"spacingAndGlyphs\" textLength=\"62\" x=\"101\" y=\"758.6479\">references</text><line style=\"stroke: #383838; stroke-width: 1.0;\" x1=\"163\" x2=\"213.5\" y1=\"755.3398\" y2=\"755.3398\"/><!--MD5=[2156ba9850f5573cc1fc38a6a4b2f02b]\n",
       "class E7--><rect fill=\"#FFFFFF\" height=\"45.9375\" id=\"E7\" style=\"stroke: #383838; stroke-width: 1.5;\" width=\"90\" x=\"155\" y=\"313\"/><text fill=\"#000000\" font-family=\"sans-serif\" font-size=\"12\" font-style=\"italic\" lengthAdjust=\"spacingAndGlyphs\" textLength=\"88\" x=\"156\" y=\"329.1387\">«analysis def»</text><text fill=\"#000000\" font-family=\"sans-serif\" font-size=\"12\" lengthAdjust=\"spacingAndGlyphs\" textLength=\"77\" x=\"161.5\" y=\"343.1074\">AnalysisPlan</text><line style=\"stroke: #383838; stroke-width: 1.5;\" x1=\"156\" x2=\"244\" y1=\"350.9375\" y2=\"350.9375\"/><!--MD5=[b9389687b975829384b498ac4b7476b2]\n",
       "class E8--><rect fill=\"#FFFFFF\" height=\"66.7422\" id=\"E8\" rx=\"10\" ry=\"10\" style=\"stroke: #383838; stroke-width: 1.5;\" width=\"151\" x=\"243.5\" y=\"436\"/><text fill=\"#000000\" font-family=\"sans-serif\" font-size=\"12\" font-style=\"italic\" lengthAdjust=\"spacingAndGlyphs\" textLength=\"91\" x=\"273.5\" y=\"452.1387\">«requirement»</text><text fill=\"#000000\" font-family=\"sans-serif\" font-size=\"12\" lengthAdjust=\"spacingAndGlyphs\" textLength=\"145\" x=\"246.5\" y=\"466.1074\">obj: RequirementCheck</text><line style=\"stroke: #383838; stroke-width: 1.5;\" x1=\"244.5\" x2=\"393.5\" y1=\"473.9375\" y2=\"473.9375\"/><text fill=\"#000000\" font-family=\"sans-serif\" font-size=\"11\" lengthAdjust=\"spacingAndGlyphs\" textLength=\"12\" x=\"249.5\" y=\"488.1479\">...</text><line style=\"stroke: #383838; stroke-width: 1.0;\" x1=\"244.5\" x2=\"393.5\" y1=\"494.7422\" y2=\"494.7422\"/><!--MD5=[fd4143e9d270a159db93a4ea2a975926]\n",
       "class E9--><rect fill=\"#FFFFFF\" height=\"45.9375\" id=\"E9\" rx=\"10\" ry=\"10\" style=\"stroke: #383838; stroke-width: 1.5;\" width=\"176\" x=\"32\" y=\"446.5\"/><text fill=\"#000000\" font-family=\"sans-serif\" font-size=\"12\" font-style=\"italic\" lengthAdjust=\"spacingAndGlyphs\" textLength=\"64\" x=\"88\" y=\"462.6387\">«analysis»</text><text fill=\"#000000\" font-family=\"sans-serif\" font-size=\"12\" lengthAdjust=\"spacingAndGlyphs\" textLength=\"170\" x=\"35\" y=\"476.6074\">analysisCase: AnalysisCase</text><line style=\"stroke: #383838; stroke-width: 1.5;\" x1=\"33\" x2=\"207\" y1=\"484.4375\" y2=\"484.4375\"/><!--MD5=[96f4274e9e20536e775497830990834d]\n",
       "class E10--><rect fill=\"#FFFFFF\" height=\"45.9375\" id=\"E10\" rx=\"10\" ry=\"10\" style=\"stroke: #383838; stroke-width: 1.5;\" width=\"140\" x=\"32\" y=\"580\"/><text fill=\"#000000\" font-family=\"sans-serif\" font-size=\"12\" font-style=\"italic\" lengthAdjust=\"spacingAndGlyphs\" textLength=\"91\" x=\"56.5\" y=\"596.1387\">«requirement»</text><text fill=\"#000000\" font-family=\"sans-serif\" font-size=\"12\" lengthAdjust=\"spacingAndGlyphs\" textLength=\"134\" x=\"35\" y=\"610.1074\">obj: AnalysisObjective</text><line style=\"stroke: #383838; stroke-width: 1.5;\" x1=\"33\" x2=\"171\" y1=\"617.9375\" y2=\"617.9375\"/><!--MD5=[1dd1bfd58a279cf63c5f349dbc8fc6a1]\n",
       "class E11--><rect fill=\"#FFFFFF\" height=\"45.9375\" id=\"E11\" rx=\"10\" ry=\"10\" style=\"stroke: #383838; stroke-width: 1.5;\" width=\"138\" x=\"209\" y=\"41\"/><text fill=\"#000000\" font-family=\"sans-serif\" font-size=\"12\" font-style=\"italic\" lengthAdjust=\"spacingAndGlyphs\" textLength=\"40\" x=\"258\" y=\"57.1387\">«part»</text><text fill=\"#000000\" font-family=\"sans-serif\" font-size=\"12\" lengthAdjust=\"spacingAndGlyphs\" textLength=\"132\" x=\"212\" y=\"71.1074\">analysisContext: Part</text><line style=\"stroke: #383838; stroke-width: 1.5;\" x1=\"210\" x2=\"346\" y1=\"78.9375\" y2=\"78.9375\"/><!--MD5=[49a0ec8f00dab7302a31f22d0f0fe584]\n",
       "class E12--><rect fill=\"#FFFFFF\" height=\"88.3516\" id=\"E12\" rx=\"10\" ry=\"10\" style=\"stroke: #383838; stroke-width: 1.5;\" width=\"168\" x=\"194\" y=\"148\"/><text fill=\"#000000\" font-family=\"sans-serif\" font-size=\"12\" font-style=\"italic\" lengthAdjust=\"spacingAndGlyphs\" textLength=\"64\" x=\"246\" y=\"164.1387\">«analysis»</text><text fill=\"#000000\" font-family=\"sans-serif\" font-size=\"12\" lengthAdjust=\"spacingAndGlyphs\" textLength=\"162\" x=\"197\" y=\"178.1074\">analysisPlan: AnalysisPlan</text><line style=\"stroke: #383838; stroke-width: 1.5;\" x1=\"195\" x2=\"361\" y1=\"185.9375\" y2=\"185.9375\"/><text fill=\"#000000\" font-family=\"sans-serif\" font-size=\"11\" lengthAdjust=\"spacingAndGlyphs\" textLength=\"50\" x=\"200\" y=\"216.9526\">v: V= vv;</text><text fill=\"#000000\" font-family=\"sans-serif\" font-size=\"11\" font-style=\"italic\" lengthAdjust=\"spacingAndGlyphs\" textLength=\"107\" x=\"200\" y=\"229.7573\">:&gt;&gt;AnalysisPlan::v</text><line style=\"stroke: #383838; stroke-width: 1.0;\" x1=\"195\" x2=\"247\" y1=\"200.3398\" y2=\"200.3398\"/><text fill=\"#000000\" font-family=\"sans-serif\" font-size=\"11\" lengthAdjust=\"spacingAndGlyphs\" textLength=\"62\" x=\"247\" y=\"203.6479\">references</text><line style=\"stroke: #383838; stroke-width: 1.0;\" x1=\"309\" x2=\"361\" y1=\"200.3398\" y2=\"200.3398\"/><!--MD5=[ee3c913d1a06f366521f9ef512b67efe]\n",
       "class E13--><rect fill=\"#FFFFFF\" height=\"45.9375\" id=\"E13\" rx=\"10\" ry=\"10\" style=\"stroke: #383838; stroke-width: 1.5;\" width=\"151\" x=\"280.5\" y=\"313\"/><text fill=\"#000000\" font-family=\"sans-serif\" font-size=\"12\" font-style=\"italic\" lengthAdjust=\"spacingAndGlyphs\" textLength=\"91\" x=\"310.5\" y=\"329.1387\">«requirement»</text><text fill=\"#000000\" font-family=\"sans-serif\" font-size=\"12\" lengthAdjust=\"spacingAndGlyphs\" textLength=\"145\" x=\"283.5\" y=\"343.1074\">obj: RequirementCheck</text><line style=\"stroke: #383838; stroke-width: 1.5;\" x1=\"281.5\" x2=\"430.5\" y1=\"350.9375\" y2=\"350.9375\"/><!--MD5=[05d275557350bfb9b23a4ef7222b4c39]\n",
       "link E3 to E2--><path d=\"M353,626.19 C353,645.1 353,672.96 353,697.05 \" fill=\"none\" id=\"E3-&gt;E2\" style=\"stroke: #383838; stroke-width: 1.0;\"/><polygon fill=\"#FFFFFF\" points=\"353,717.35,346,698.35,360,698.35,353,717.35\" style=\"stroke: #383838; stroke-width: 1.0;\"/><ellipse cx=\"348\" cy=\"692.65\" fill=\"#383838\" rx=\"2\" ry=\"2\" style=\"stroke: #383838; stroke-width: 1.0;\"/><ellipse cx=\"358\" cy=\"692.65\" fill=\"#383838\" rx=\"2\" ry=\"2\" style=\"stroke: #383838; stroke-width: 1.0;\"/><!--MD5=[15ebcb19ae302d9b601edb458606d402]\n",
       "link E5 to E2--><path d=\"M261.34,626.21 C269.81,646.38 281,673 281,673 C281,673 301.58,693.87 320.74,713.29 \" fill=\"none\" id=\"E5-&gt;E2\" style=\"stroke: #383838; stroke-width: 1.0; stroke-dasharray: 7.0,7.0;\"/><polygon fill=\"#383838\" points=\"324.54,717.15,321.0602,707.9364,321.026,713.5931,315.3692,713.5588,324.54,717.15\" style=\"stroke: #383838; stroke-width: 1.0;\"/><text fill=\"#000000\" font-family=\"sans-serif\" font-size=\"13\" lengthAdjust=\"spacingAndGlyphs\" textLength=\"62\" x=\"282\" y=\"669.0669\">«subject»</text><!--MD5=[9120cf2e5df3bff93db8f754bbbc09b4]\n",
       "link E5 to E6--><path d=\"M225.71,626.05 C208.81,640.23 190,656 190,656 C190,656 177.54,675.34 164.17,696.08 \" fill=\"none\" id=\"E5-&gt;E6\" style=\"stroke: #383838; stroke-width: 1.0;\"/><polygon fill=\"#383838\" points=\"159.81,702.85,166.6689,697.7553,161.6277,694.5016,159.81,702.85\" style=\"stroke: #383838; stroke-width: 1.0;\"/><text fill=\"#000000\" font-family=\"sans-serif\" font-size=\"13\" lengthAdjust=\"spacingAndGlyphs\" textLength=\"73\" x=\"191\" y=\"669.0669\">«objective»</text><!--MD5=[f667431f98296947986a1a7595a31603]\n",
       "link E6 to E4--><path d=\"M132,791.19 C132,804.11 132,818.41 132,831.87 \" fill=\"none\" id=\"E6-&gt;E4\" style=\"stroke: #383838; stroke-width: 1.0;\"/><polygon fill=\"#FFFFFF\" points=\"132,851.98,125,832.98,139,832.98,132,851.98\" style=\"stroke: #383838; stroke-width: 1.0;\"/><ellipse cx=\"127\" cy=\"827.28\" fill=\"#383838\" rx=\"2\" ry=\"2\" style=\"stroke: #383838; stroke-width: 1.0;\"/><ellipse cx=\"137\" cy=\"827.28\" fill=\"#383838\" rx=\"2\" ry=\"2\" style=\"stroke: #383838; stroke-width: 1.0;\"/><!--MD5=[583832df87f4419a098336a29a52fa00]\n",
       "link E7 to E2--><path d=\"M245.32,353.6 C286.88,368.81 342,389 342,389 C342,389 412,436 412,436 C412,436 412,503 412,503 C412,503 392,626 392,626 C392,626 375.54,676.65 364,712.14 \" fill=\"none\" id=\"E7-&gt;E2\" style=\"stroke: #383838; stroke-width: 1.0; stroke-dasharray: 7.0,7.0;\"/><polygon fill=\"#383838\" points=\"362.34,717.26,368.9214,709.933,363.8825,712.5039,361.3117,707.465,362.34,717.26\" style=\"stroke: #383838; stroke-width: 1.0;\"/><text fill=\"#000000\" font-family=\"sans-serif\" font-size=\"13\" lengthAdjust=\"spacingAndGlyphs\" textLength=\"62\" x=\"408\" y=\"546.0669\">«subject»</text><!--MD5=[79bc8f324ef4d02c541433f2e6e513c3]\n",
       "link E7 to E8--><path d=\"M219.92,359.01 C237.35,378.27 263.08,406.7 283.95,429.76 \" fill=\"none\" id=\"E7-&gt;E8\" style=\"stroke: #383838; stroke-width: 1.0;\"/><polygon fill=\"#383838\" points=\"289.42,435.81,286.2823,427.863,281.8306,431.8857,289.42,435.81\" style=\"stroke: #383838; stroke-width: 1.0;\"/><text fill=\"#000000\" font-family=\"sans-serif\" font-size=\"13\" lengthAdjust=\"spacingAndGlyphs\" textLength=\"73\" x=\"260\" y=\"402.0669\">«objective»</text><!--MD5=[bfc3ddf2e613be37104f658f09af896c]\n",
       "link E9 to E5--><path d=\"M146.3,492.71 C167.57,510.68 194,533 194,533 C194,533 206.85,548.29 220.45,564.47 \" fill=\"none\" id=\"E9-&gt;E5\" style=\"stroke: #383838; stroke-width: 1.0;\"/><polygon fill=\"#FFFFFF\" points=\"233.33,579.79,215.7466,569.749,226.4639,560.7412,233.33,579.79\" style=\"stroke: #383838; stroke-width: 1.0;\"/><ellipse cx=\"213.6102\" cy=\"564.0987\" fill=\"#383838\" rx=\"2\" ry=\"2\" style=\"stroke: #383838; stroke-width: 1.0;\"/><ellipse cx=\"221.2654\" cy=\"557.6646\" fill=\"#383838\" rx=\"2\" ry=\"2\" style=\"stroke: #383838; stroke-width: 1.0;\"/><!--MD5=[e4a10ef82d0e328e31cac39a31e58dda]\n",
       "reverse link E7 to E9--><path d=\"M179.71,370.36 C165.2,394.21 146.08,425.63 133.43,446.42 \" fill=\"none\" id=\"E7&lt;-E9\" style=\"stroke: #383838; stroke-width: 1.0;\"/><polygon fill=\"#383838\" points=\"186.61,359.01,180.0734,362.0551,180.3702,369.2601,186.9068,366.215,186.61,359.01\" style=\"stroke: #383838; stroke-width: 1.0;\"/><!--MD5=[35e5f1cbde42fa304a029880aa2bc7f2]\n",
       "link E9 to E10--><path d=\"M116.99,492.51 C114.01,514.22 109.45,547.59 106.14,571.78 \" fill=\"none\" id=\"E9-&gt;E10\" style=\"stroke: #383838; stroke-width: 1.0;\"/><polygon fill=\"#383838\" points=\"105.02,579.92,109.0776,572.401,103.1331,571.587,105.02,579.92\" style=\"stroke: #383838; stroke-width: 1.0;\"/><text fill=\"#000000\" font-family=\"sans-serif\" font-size=\"13\" lengthAdjust=\"spacingAndGlyphs\" textLength=\"73\" x=\"112\" y=\"546.0669\">«objective»</text><!--MD5=[198716bf12f04006f5c20d61bde6d80d]\n",
       "link E10 to E6--><path d=\"M104.58,626.21 C106.91,646.38 110,673 110,673 C110,673 111.26,677.18 113.18,683.54 \" fill=\"none\" id=\"E10-&gt;E6\" style=\"stroke: #383838; stroke-width: 1.0;\"/><polygon fill=\"#FFFFFF\" points=\"118.95,702.69,106.7668,686.5169,120.1717,682.4784,118.95,702.69\" style=\"stroke: #383838; stroke-width: 1.0;\"/><line style=\"stroke: #383838; stroke-width: 2.0;\" x1=\"105.6706\" x2=\"119.0755\" y1=\"682.8784\" y2=\"678.84\"/><!--MD5=[ae660f5ecd7ddb04a8913625960940af]\n",
       "link E12 to E7--><path d=\"M254.17,236.38 C243.87,255.14 231.88,276.96 221.81,295.29 \" fill=\"none\" id=\"E12-&gt;E7\" style=\"stroke: #383838; stroke-width: 1.0;\"/><polygon fill=\"#FFFFFF\" points=\"212.16,312.87,215.1723,292.8469,227.4429,299.5872,212.16,312.87\" style=\"stroke: #383838; stroke-width: 1.0;\"/><ellipse cx=\"219.6695\" cy=\"288.8139\" fill=\"#383838\" rx=\"2\" ry=\"2\" style=\"stroke: #383838; stroke-width: 1.0;\"/><ellipse cx=\"228.4342\" cy=\"293.6284\" fill=\"#383838\" rx=\"2\" ry=\"2\" style=\"stroke: #383838; stroke-width: 1.0;\"/><!--MD5=[94adabc162ce7e41b39f13be14fbaeb3]\n",
       "reverse link E11 to E12--><path d=\"M278,100.45 C278,115.17 278,132.39 278,147.84 \" fill=\"none\" id=\"E11&lt;-E12\" style=\"stroke: #383838; stroke-width: 1.0;\"/><polygon fill=\"#383838\" points=\"278,87.24,274,93.24,278,99.24,282,93.24,278,87.24\" style=\"stroke: #383838; stroke-width: 1.0;\"/><!--MD5=[e2a9ac97dcd3257bb5342dae06547bad]\n",
       "link E12 to E13--><path d=\"M301.83,236.38 C314.2,258.89 328.98,285.81 339.97,305.82 \" fill=\"none\" id=\"E12-&gt;E13\" style=\"stroke: #383838; stroke-width: 1.0;\"/><polygon fill=\"#383838\" points=\"343.84,312.87,342.6199,304.4136,337.3604,307.3009,343.84,312.87\" style=\"stroke: #383838; stroke-width: 1.0;\"/><text fill=\"#000000\" font-family=\"sans-serif\" font-size=\"13\" lengthAdjust=\"spacingAndGlyphs\" textLength=\"73\" x=\"327\" y=\"279.0669\">«objective»</text><!--MD5=[9ab96ab4abb2650be1e5d4106a2960f9]\n",
       "@startuml\r\n",
       "skinparam linetype polyline\r\n",
       "skinparam monochrome true\r\n",
       "skinparam classbackgroundcolor white\r\n",
       "skinparam shadowing false\r\n",
       "skinparam wrapWidth 300\r\n",
       "hide circle\r\n",
       "\r\n",
       "package \"AnalysisTest\" as E1   {\r\n",
       "comp def \"V\" as E2  <<(T,blue)part def>> {\r\n",
       "m: DataValue\r\n",
       "}\r\n",
       "comp usage \"vv: V\" as E3  <<(T,blue)part>> {\r\n",
       "}\r\n",
       "comp def \"AnalysisObjective\" as E4  <<(T,blue)requirement def>> {\r\n",
       "...\r\n",
       "- -\r\n",
       "}\r\n",
       "comp def \"AnalysisCase\" as E5 <<analysis def>> {\r\n",
       "}\r\n",
       "comp usage \"obj: AnalysisObjective\" as E6  <<(T,blue)requirement>> {\r\n",
       "- -references- -\r\n",
       "subj: Anything= result; \\n//:>>AnalysisObjective::subj// \r\n",
       "}\r\n",
       "comp def \"AnalysisPlan\" as E7 <<analysis def>> {\r\n",
       "}\r\n",
       "comp usage \"obj: RequirementCheck\" as E8  <<(T,blue)requirement>> {\r\n",
       "...\r\n",
       "- -\r\n",
       "}\r\n",
       "comp usage \"analysisCase: AnalysisCase\" as E9 <<analysis>> {\r\n",
       "}\r\n",
       "comp usage \"obj: AnalysisObjective\" as E10  <<(T,blue)requirement>> {\r\n",
       "}\r\n",
       "comp usage \"analysisContext: Part\" as E11  <<(T,blue)part>> {\r\n",
       "}\r\n",
       "comp usage \"analysisPlan: AnalysisPlan\" as E12 <<analysis>> {\r\n",
       "- -references- -\r\n",
       "v: V= vv; \\n//:>>AnalysisPlan::v// \r\n",
       "}\r\n",
       "comp usage \"obj: RequirementCheck\" as E13  <<(T,blue)requirement>> {\r\n",
       "}\r\n",
       "E3 - -:|> E2\r\n",
       "E5 ..> E2 : <<subject>>\r\n",
       "E5 - ->> E6 : <<objective>>\r\n",
       "E6 - -:|> E4\r\n",
       "E7 ..> E2 : <<subject>>\r\n",
       "E7 - ->> E8 : <<objective>>\r\n",
       "E9 - -:|> E5\r\n",
       "E7 *- - E9\r\n",
       "E9 - ->> E10 : <<objective>>\r\n",
       "E10 - -||> E6\r\n",
       "E12 - -:|> E7\r\n",
       "E11 *- - E12\r\n",
       "E12 - ->> E13 : <<objective>>\r\n",
       "}\r\n",
       "@enduml\r\n",
       "\n",
       "PlantUML version 1.2020.13(Sat Jun 13 12:26:38 UTC 2020)\n",
       "(EPL source distribution)\n",
       "Java Runtime: OpenJDK Runtime Environment\n",
       "JVM: OpenJDK 64-Bit Server VM\n",
       "Default Encoding: UTF-8\n",
       "Language: en\n",
       "Country: null\n",
       "--></g></svg>"
      ]
     },
     "execution_count": 10,
     "metadata": {},
     "output_type": "execute_result"
    }
   ],
   "source": [
    "%viz --style=\"POLYLINE\" --view=\"Tree\" \"AnalysisTest\""
   ]
  },
  {
   "cell_type": "code",
   "execution_count": 11,
   "id": "worse-wealth",
   "metadata": {
    "execution": {
     "iopub.execute_input": "2021-03-26T09:41:44.501305Z",
     "iopub.status.busy": "2021-03-26T09:41:44.500248Z",
     "iopub.status.idle": "2021-03-26T09:41:44.503772Z",
     "shell.execute_reply": "2021-03-26T09:41:44.503284Z"
    }
   },
   "outputs": [
    {
     "data": {
      "text/plain": [
       "java.lang.IllegalArgumentException: Invalid View: State View candidates are: Default Tree StateMachine Interconnection Activity Sequence MIXED \n",
       "\tat org.omg.sysml.plantuml.SysML2PlantUMLSvc.setView(SysML2PlantUMLSvc.java:63)\n",
       "\tat org.omg.sysml.interactive.SysMLInteractive.viz(SysMLInteractive.java:286)\n",
       "\tat org.omg.sysml.jupyter.kernel.magic.Viz.viz(Viz.java:47)\n",
       "\tat java.base/jdk.internal.reflect.NativeMethodAccessorImpl.invoke0(Native Method)\n",
       "\tat java.base/jdk.internal.reflect.NativeMethodAccessorImpl.invoke(NativeMethodAccessorImpl.java:78)\n",
       "\tat java.base/jdk.internal.reflect.DelegatingMethodAccessorImpl.invoke(DelegatingMethodAccessorImpl.java:43)\n",
       "\tat java.base/java.lang.reflect.Method.invoke(Method.java:568)\n",
       "\tat io.github.spencerpark.jupyter.kernel.magic.registry.Magics.invoke(Magics.java:89)\n",
       "\tat io.github.spencerpark.jupyter.kernel.magic.registry.Magics.access$000(Magics.java:8)\n",
       "\tat io.github.spencerpark.jupyter.kernel.magic.registry.Magics$LineReflectionMagicFunction.execute(Magics.java:149)\n",
       "\tat io.github.spencerpark.jupyter.kernel.magic.registry.Magics.applyLineMagic(Magics.java:26)\n",
       "\tat org.omg.sysml.jupyter.kernel.SysMLKernel.eval(SysMLKernel.java:76)\n",
       "\tat io.github.spencerpark.jupyter.kernel.BaseKernel.handleExecuteRequest(BaseKernel.java:334)\n",
       "\tat io.github.spencerpark.jupyter.channels.ShellChannel.lambda$bind$0(ShellChannel.java:64)\n",
       "\tat io.github.spencerpark.jupyter.channels.Loop.lambda$new$0(Loop.java:21)\n",
       "\tat io.github.spencerpark.jupyter.channels.Loop.run(Loop.java:78)\n"
      ]
     },
     "execution_count": 11,
     "metadata": {},
     "output_type": "execute_result"
    }
   ],
   "source": [
    "%viz --style=\"POLYLINE\" --view=\"State\" \"AnalysisTest\""
   ]
  },
  {
   "cell_type": "code",
   "execution_count": 12,
   "id": "radio-meeting",
   "metadata": {
    "execution": {
     "iopub.execute_input": "2021-03-26T09:41:44.554686Z",
     "iopub.status.busy": "2021-03-26T09:41:44.553996Z",
     "iopub.status.idle": "2021-03-26T09:41:44.607959Z",
     "shell.execute_reply": "2021-03-26T09:41:44.606834Z"
    }
   },
   "outputs": [
    {
     "data": {
      "image/svg+xml": [
       "<?xml version=\"1.0\" encoding=\"UTF-8\" standalone=\"no\"?><svg xmlns=\"http://www.w3.org/2000/svg\" xmlns:xlink=\"http://www.w3.org/1999/xlink\" contentScriptType=\"application/ecmascript\" contentStyleType=\"text/css\" height=\"202px\" preserveAspectRatio=\"none\" style=\"width:957px;height:202px;\" version=\"1.1\" viewBox=\"0 0 957 202\" width=\"957px\" zoomAndPan=\"magnify\"><defs/><g><!--MD5=[fbc87193dbaf4d95561dea2c320d4a47]\n",
       "cluster E1--><polygon fill=\"#FFFFFF\" points=\"16,6,122,6,129,28.2969,935,28.2969,935,190,16,190,16,6\" style=\"stroke: #000000; stroke-width: 1.5;\"/><line style=\"stroke: #000000; stroke-width: 1.5;\" x1=\"16\" x2=\"129\" y1=\"28.2969\" y2=\"28.2969\"/><text fill=\"#000000\" font-family=\"sans-serif\" font-size=\"14\" font-weight=\"bold\" lengthAdjust=\"spacingAndGlyphs\" textLength=\"100\" x=\"20\" y=\"20.9951\">AnalysisTest</text><!--MD5=[e4f7fae6ed58524ba242bb0b0d3be6b7]\n",
       "cluster E2--><rect fill=\"#FFFFFF\" height=\"117\" style=\"stroke: #000000; stroke-width: 1.5;\" width=\"144\" x=\"767\" y=\"49\"/><text fill=\"#000000\" font-family=\"sans-serif\" font-size=\"14\" font-style=\"italic\" lengthAdjust=\"spacingAndGlyphs\" textLength=\"71\" x=\"803.5\" y=\"63.9951\">«part def»</text><text fill=\"#000000\" font-family=\"sans-serif\" font-size=\"14\" font-weight=\"bold\" lengthAdjust=\"spacingAndGlyphs\" textLength=\"11\" x=\"833.5\" y=\"80.292\">V</text><!--MD5=[270fce915f116d4de14055a7c1d9a0f3]\n",
       "class E5--><rect fill=\"#FFFFFF\" height=\"53.9375\" id=\"E5\" style=\"stroke: #383838; stroke-width: 1.5;\" width=\"117\" x=\"630.5\" y=\"98\"/><text fill=\"#000000\" font-family=\"sans-serif\" font-size=\"12\" font-style=\"italic\" lengthAdjust=\"spacingAndGlyphs\" textLength=\"115\" x=\"631.5\" y=\"114.1387\">«requirement def»</text><text fill=\"#000000\" font-family=\"sans-serif\" font-size=\"12\" lengthAdjust=\"spacingAndGlyphs\" textLength=\"107\" x=\"635.5\" y=\"128.1074\">AnalysisObjective</text><line style=\"stroke: #383838; stroke-width: 1.5;\" x1=\"631.5\" x2=\"746.5\" y1=\"135.9375\" y2=\"135.9375\"/><line style=\"stroke: #383838; stroke-width: 1.5;\" x1=\"631.5\" x2=\"746.5\" y1=\"143.9375\" y2=\"143.9375\"/><!--MD5=[60a26617385b1d2d0262a64233df1f8d]\n",
       "class E6--><rect fill=\"#FFFFFF\" height=\"53.9375\" id=\"E6\" style=\"stroke: #383838; stroke-width: 1.5;\" width=\"121\" x=\"474.5\" y=\"98\"/><text fill=\"#000000\" font-family=\"sans-serif\" font-size=\"12\" font-style=\"italic\" lengthAdjust=\"spacingAndGlyphs\" textLength=\"119\" x=\"475.5\" y=\"114.1387\">«analysisCase def»</text><text fill=\"#000000\" font-family=\"sans-serif\" font-size=\"12\" lengthAdjust=\"spacingAndGlyphs\" textLength=\"81\" x=\"494.5\" y=\"128.1074\">AnalysisCase</text><line style=\"stroke: #383838; stroke-width: 1.5;\" x1=\"475.5\" x2=\"594.5\" y1=\"135.9375\" y2=\"135.9375\"/><line style=\"stroke: #383838; stroke-width: 1.5;\" x1=\"475.5\" x2=\"594.5\" y1=\"143.9375\" y2=\"143.9375\"/><!--MD5=[2156ba9850f5573cc1fc38a6a4b2f02b]\n",
       "class E7--><rect fill=\"#FFFFFF\" height=\"53.9375\" id=\"E7\" style=\"stroke: #383838; stroke-width: 1.5;\" width=\"121\" x=\"318.5\" y=\"98\"/><text fill=\"#000000\" font-family=\"sans-serif\" font-size=\"12\" font-style=\"italic\" lengthAdjust=\"spacingAndGlyphs\" textLength=\"119\" x=\"319.5\" y=\"114.1387\">«analysisCase def»</text><text fill=\"#000000\" font-family=\"sans-serif\" font-size=\"12\" lengthAdjust=\"spacingAndGlyphs\" textLength=\"77\" x=\"340.5\" y=\"128.1074\">AnalysisPlan</text><line style=\"stroke: #383838; stroke-width: 1.5;\" x1=\"319.5\" x2=\"438.5\" y1=\"135.9375\" y2=\"135.9375\"/><line style=\"stroke: #383838; stroke-width: 1.5;\" x1=\"319.5\" x2=\"438.5\" y1=\"143.9375\" y2=\"143.9375\"/><g id=\"E1.E2.E3\"><rect fill=\"#FFFFFF\" height=\"50\" rx=\"12.5\" ry=\"12.5\" style=\"stroke: #383838; stroke-width: 1.5;\" width=\"112\" x=\"783\" y=\"100\"/><line style=\"stroke: #383838; stroke-width: 1.5;\" x1=\"783\" x2=\"895\" y1=\"126.2969\" y2=\"126.2969\"/><text fill=\"#000000\" font-family=\"sans-serif\" font-size=\"14\" lengthAdjust=\"spacingAndGlyphs\" textLength=\"92\" x=\"793\" y=\"117.9951\">m: DataValue</text></g><g id=\"E1.E4\"><rect fill=\"#FFFFFF\" height=\"50\" rx=\"12.5\" ry=\"12.5\" style=\"stroke: #383838; stroke-width: 1.5;\" width=\"52\" x=\"231\" y=\"100\"/><line style=\"stroke: #383838; stroke-width: 1.5;\" x1=\"231\" x2=\"283\" y1=\"126.2969\" y2=\"126.2969\"/><text fill=\"#000000\" font-family=\"sans-serif\" font-size=\"14\" lengthAdjust=\"spacingAndGlyphs\" textLength=\"32\" x=\"241\" y=\"117.9951\">vv: V</text></g><g id=\"E1.E8\"><rect fill=\"#FFFFFF\" height=\"50\" rx=\"12.5\" ry=\"12.5\" style=\"stroke: #383838; stroke-width: 1.5;\" width=\"164\" x=\"32\" y=\"100\"/><line style=\"stroke: #383838; stroke-width: 1.5;\" x1=\"32\" x2=\"196\" y1=\"126.2969\" y2=\"126.2969\"/><text fill=\"#000000\" font-family=\"sans-serif\" font-size=\"14\" lengthAdjust=\"spacingAndGlyphs\" textLength=\"144\" x=\"42\" y=\"117.9951\">analysisContext: Part</text></g><!--MD5=[8938231ff40de9e1579346d693f6e961]\n",
       "@startuml\r\n",
       "skinparam ranksep 8\r\n",
       "skinparam rectangle {\r\n",
       " backgroundColor<<block>> LightGreen\r\n",
       "}\r\n",
       "skinparam linetype polyline\r\n",
       "skinparam monochrome true\r\n",
       "skinparam classbackgroundcolor white\r\n",
       "skinparam shadowing false\r\n",
       "skinparam wrapWidth 300\r\n",
       "hide circle\r\n",
       "\r\n",
       "package \"AnalysisTest\" as E1   {\r\n",
       "rec def \"V\" as E2  <<part def>> {\r\n",
       "rec usage \"m: DataValue\" as E3  <<attribute>> {\r\n",
       "}\r\n",
       "}\r\n",
       "rec usage \"vv: V\" as E4  {\r\n",
       "}\r\n",
       "def \"AnalysisObjective\" as E5  <<requirement def>> \r\n",
       "def \"AnalysisCase\" as E6  <<analysisCase def>> \r\n",
       "def \"AnalysisPlan\" as E7  <<analysisCase def>> \r\n",
       "rec usage \"analysisContext: Part\" as E8  {\r\n",
       "}\r\n",
       "}\r\n",
       "@enduml\r\n",
       "\n",
       "PlantUML version 1.2020.13(Sat Jun 13 12:26:38 UTC 2020)\n",
       "(EPL source distribution)\n",
       "Java Runtime: OpenJDK Runtime Environment\n",
       "JVM: OpenJDK 64-Bit Server VM\n",
       "Default Encoding: UTF-8\n",
       "Language: en\n",
       "Country: null\n",
       "--></g></svg>"
      ]
     },
     "execution_count": 12,
     "metadata": {},
     "output_type": "execute_result"
    }
   ],
   "source": [
    "%viz --style=\"POLYLINE\" --view=\"Interconnection\" \"AnalysisTest\""
   ]
  },
  {
   "cell_type": "code",
   "execution_count": 13,
   "id": "suspended-duration",
   "metadata": {
    "execution": {
     "iopub.execute_input": "2021-03-26T09:41:44.660846Z",
     "iopub.status.busy": "2021-03-26T09:41:44.660416Z",
     "iopub.status.idle": "2021-03-26T09:41:44.664238Z",
     "shell.execute_reply": "2021-03-26T09:41:44.663700Z"
    }
   },
   "outputs": [
    {
     "data": {
      "text/plain": [
       "java.lang.IllegalArgumentException: Invalid View: Action View candidates are: Default Tree StateMachine Interconnection Activity Sequence MIXED \n",
       "\tat org.omg.sysml.plantuml.SysML2PlantUMLSvc.setView(SysML2PlantUMLSvc.java:63)\n",
       "\tat org.omg.sysml.interactive.SysMLInteractive.viz(SysMLInteractive.java:286)\n",
       "\tat org.omg.sysml.jupyter.kernel.magic.Viz.viz(Viz.java:47)\n",
       "\tat java.base/jdk.internal.reflect.NativeMethodAccessorImpl.invoke0(Native Method)\n",
       "\tat java.base/jdk.internal.reflect.NativeMethodAccessorImpl.invoke(NativeMethodAccessorImpl.java:78)\n",
       "\tat java.base/jdk.internal.reflect.DelegatingMethodAccessorImpl.invoke(DelegatingMethodAccessorImpl.java:43)\n",
       "\tat java.base/java.lang.reflect.Method.invoke(Method.java:568)\n",
       "\tat io.github.spencerpark.jupyter.kernel.magic.registry.Magics.invoke(Magics.java:89)\n",
       "\tat io.github.spencerpark.jupyter.kernel.magic.registry.Magics.access$000(Magics.java:8)\n",
       "\tat io.github.spencerpark.jupyter.kernel.magic.registry.Magics$LineReflectionMagicFunction.execute(Magics.java:149)\n",
       "\tat io.github.spencerpark.jupyter.kernel.magic.registry.Magics.applyLineMagic(Magics.java:26)\n",
       "\tat org.omg.sysml.jupyter.kernel.SysMLKernel.eval(SysMLKernel.java:76)\n",
       "\tat io.github.spencerpark.jupyter.kernel.BaseKernel.handleExecuteRequest(BaseKernel.java:334)\n",
       "\tat io.github.spencerpark.jupyter.channels.ShellChannel.lambda$bind$0(ShellChannel.java:64)\n",
       "\tat io.github.spencerpark.jupyter.channels.Loop.lambda$new$0(Loop.java:21)\n",
       "\tat io.github.spencerpark.jupyter.channels.Loop.run(Loop.java:78)\n"
      ]
     },
     "execution_count": 13,
     "metadata": {},
     "output_type": "execute_result"
    }
   ],
   "source": [
    "%viz --style=\"POLYLINE\" --view=\"Action\" \"AnalysisTest\""
   ]
  },
  {
   "cell_type": "code",
   "execution_count": 14,
   "id": "accepted-morocco",
   "metadata": {
    "execution": {
     "iopub.execute_input": "2021-03-26T09:41:44.715903Z",
     "iopub.status.busy": "2021-03-26T09:41:44.715265Z",
     "iopub.status.idle": "2021-03-26T09:41:44.861187Z",
     "shell.execute_reply": "2021-03-26T09:41:44.861516Z"
    }
   },
   "outputs": [
    {
     "data": {
      "image/svg+xml": [
       "<?xml version=\"1.0\" encoding=\"UTF-8\" standalone=\"no\"?><svg xmlns=\"http://www.w3.org/2000/svg\" xmlns:xlink=\"http://www.w3.org/1999/xlink\" contentScriptType=\"application/ecmascript\" contentStyleType=\"text/css\" height=\"947px\" preserveAspectRatio=\"none\" style=\"width:482px;height:947px;\" version=\"1.1\" viewBox=\"0 0 482 947\" width=\"482px\" zoomAndPan=\"magnify\"><defs/><g><!--MD5=[fbc87193dbaf4d95561dea2c320d4a47]\n",
       "cluster E1--><polygon fill=\"#FFFFFF\" points=\"16,6,122,6,129,28.2969,448,28.2969,448,935,16,935,16,6\" style=\"stroke: #000000; stroke-width: 1.5;\"/><line style=\"stroke: #000000; stroke-width: 1.5;\" x1=\"16\" x2=\"129\" y1=\"28.2969\" y2=\"28.2969\"/><text fill=\"#000000\" font-family=\"sans-serif\" font-size=\"14\" font-weight=\"bold\" lengthAdjust=\"spacingAndGlyphs\" textLength=\"100\" x=\"20\" y=\"20.9951\">AnalysisTest</text><!--MD5=[b4997ac47864f28c2f74865a473b2911]\n",
       "class E2--><rect fill=\"#FFFFFF\" height=\"58.7422\" id=\"E2\" style=\"stroke: #383838; stroke-width: 1.5;\" width=\"88\" x=\"309\" y=\"717.5\"/><text fill=\"#000000\" font-family=\"sans-serif\" font-size=\"12\" font-style=\"italic\" lengthAdjust=\"spacingAndGlyphs\" textLength=\"64\" x=\"321\" y=\"733.6387\">«part def»</text><text fill=\"#000000\" font-family=\"sans-serif\" font-size=\"12\" lengthAdjust=\"spacingAndGlyphs\" textLength=\"8\" x=\"349\" y=\"747.6074\">V</text><line style=\"stroke: #383838; stroke-width: 1.5;\" x1=\"310\" x2=\"396\" y1=\"755.4375\" y2=\"755.4375\"/><text fill=\"#000000\" font-family=\"sans-serif\" font-size=\"11\" lengthAdjust=\"spacingAndGlyphs\" textLength=\"76\" x=\"315\" y=\"769.6479\">m: DataValue</text><!--MD5=[09b614a08d8cba4a07c9adeb5e0fee81]\n",
       "class E3--><rect fill=\"#FFFFFF\" height=\"45.9375\" id=\"E3\" rx=\"10\" ry=\"10\" style=\"stroke: #383838; stroke-width: 1.5;\" width=\"42\" x=\"332\" y=\"580\"/><text fill=\"#000000\" font-family=\"sans-serif\" font-size=\"12\" font-style=\"italic\" lengthAdjust=\"spacingAndGlyphs\" textLength=\"40\" x=\"333\" y=\"596.1387\">«part»</text><text fill=\"#000000\" font-family=\"sans-serif\" font-size=\"12\" lengthAdjust=\"spacingAndGlyphs\" textLength=\"28\" x=\"339\" y=\"610.1074\">vv: V</text><line style=\"stroke: #383838; stroke-width: 1.5;\" x1=\"333\" x2=\"373\" y1=\"617.9375\" y2=\"617.9375\"/><!--MD5=[ebbe1d658d1005bcc118a6aa81145e00]\n",
       "class E4--><rect fill=\"#FFFFFF\" height=\"66.7422\" id=\"E4\" style=\"stroke: #383838; stroke-width: 1.5;\" width=\"117\" x=\"73.5\" y=\"852\"/><text fill=\"#000000\" font-family=\"sans-serif\" font-size=\"12\" font-style=\"italic\" lengthAdjust=\"spacingAndGlyphs\" textLength=\"115\" x=\"74.5\" y=\"868.1387\">«requirement def»</text><text fill=\"#000000\" font-family=\"sans-serif\" font-size=\"12\" lengthAdjust=\"spacingAndGlyphs\" textLength=\"107\" x=\"78.5\" y=\"882.1074\">AnalysisObjective</text><line style=\"stroke: #383838; stroke-width: 1.5;\" x1=\"74.5\" x2=\"189.5\" y1=\"889.9375\" y2=\"889.9375\"/><text fill=\"#000000\" font-family=\"sans-serif\" font-size=\"11\" lengthAdjust=\"spacingAndGlyphs\" textLength=\"12\" x=\"79.5\" y=\"904.1479\">...</text><line style=\"stroke: #383838; stroke-width: 1.0;\" x1=\"74.5\" x2=\"189.5\" y1=\"910.7422\" y2=\"910.7422\"/><!--MD5=[270fce915f116d4de14055a7c1d9a0f3]\n",
       "class E5--><rect fill=\"#FFFFFF\" height=\"45.9375\" id=\"E5\" style=\"stroke: #383838; stroke-width: 1.5;\" width=\"90\" x=\"207\" y=\"580\"/><text fill=\"#000000\" font-family=\"sans-serif\" font-size=\"12\" font-style=\"italic\" lengthAdjust=\"spacingAndGlyphs\" textLength=\"88\" x=\"208\" y=\"596.1387\">«analysis def»</text><text fill=\"#000000\" font-family=\"sans-serif\" font-size=\"12\" lengthAdjust=\"spacingAndGlyphs\" textLength=\"81\" x=\"211.5\" y=\"610.1074\">AnalysisCase</text><line style=\"stroke: #383838; stroke-width: 1.5;\" x1=\"208\" x2=\"296\" y1=\"617.9375\" y2=\"617.9375\"/><!--MD5=[60a26617385b1d2d0262a64233df1f8d]\n",
       "class E6--><rect fill=\"#FFFFFF\" height=\"88.3516\" id=\"E6\" rx=\"10\" ry=\"10\" style=\"stroke: #383838; stroke-width: 1.5;\" width=\"165\" x=\"49.5\" y=\"703\"/><text fill=\"#000000\" font-family=\"sans-serif\" font-size=\"12\" font-style=\"italic\" lengthAdjust=\"spacingAndGlyphs\" textLength=\"91\" x=\"86.5\" y=\"719.1387\">«requirement»</text><text fill=\"#000000\" font-family=\"sans-serif\" font-size=\"12\" lengthAdjust=\"spacingAndGlyphs\" textLength=\"134\" x=\"65\" y=\"733.1074\">obj: AnalysisObjective</text><line style=\"stroke: #383838; stroke-width: 1.5;\" x1=\"50.5\" x2=\"213.5\" y1=\"740.9375\" y2=\"740.9375\"/><text fill=\"#000000\" font-family=\"sans-serif\" font-size=\"11\" lengthAdjust=\"spacingAndGlyphs\" textLength=\"130\" x=\"55.5\" y=\"771.9526\">subj: Anything= result;</text><text fill=\"#000000\" font-family=\"sans-serif\" font-size=\"11\" font-style=\"italic\" lengthAdjust=\"spacingAndGlyphs\" textLength=\"153\" x=\"55.5\" y=\"784.7573\">:&gt;&gt;AnalysisObjective::subj</text><line style=\"stroke: #383838; stroke-width: 1.0;\" x1=\"50.5\" x2=\"101\" y1=\"755.3398\" y2=\"755.3398\"/><text fill=\"#000000\" font-family=\"sans-serif\" font-size=\"11\" lengthAdjust=\"spacingAndGlyphs\" textLength=\"62\" x=\"101\" y=\"758.6479\">references</text><line style=\"stroke: #383838; stroke-width: 1.0;\" x1=\"163\" x2=\"213.5\" y1=\"755.3398\" y2=\"755.3398\"/><!--MD5=[2156ba9850f5573cc1fc38a6a4b2f02b]\n",
       "class E7--><rect fill=\"#FFFFFF\" height=\"45.9375\" id=\"E7\" style=\"stroke: #383838; stroke-width: 1.5;\" width=\"90\" x=\"155\" y=\"313\"/><text fill=\"#000000\" font-family=\"sans-serif\" font-size=\"12\" font-style=\"italic\" lengthAdjust=\"spacingAndGlyphs\" textLength=\"88\" x=\"156\" y=\"329.1387\">«analysis def»</text><text fill=\"#000000\" font-family=\"sans-serif\" font-size=\"12\" lengthAdjust=\"spacingAndGlyphs\" textLength=\"77\" x=\"161.5\" y=\"343.1074\">AnalysisPlan</text><line style=\"stroke: #383838; stroke-width: 1.5;\" x1=\"156\" x2=\"244\" y1=\"350.9375\" y2=\"350.9375\"/><!--MD5=[b9389687b975829384b498ac4b7476b2]\n",
       "class E8--><rect fill=\"#FFFFFF\" height=\"66.7422\" id=\"E8\" rx=\"10\" ry=\"10\" style=\"stroke: #383838; stroke-width: 1.5;\" width=\"151\" x=\"243.5\" y=\"436\"/><text fill=\"#000000\" font-family=\"sans-serif\" font-size=\"12\" font-style=\"italic\" lengthAdjust=\"spacingAndGlyphs\" textLength=\"91\" x=\"273.5\" y=\"452.1387\">«requirement»</text><text fill=\"#000000\" font-family=\"sans-serif\" font-size=\"12\" lengthAdjust=\"spacingAndGlyphs\" textLength=\"145\" x=\"246.5\" y=\"466.1074\">obj: RequirementCheck</text><line style=\"stroke: #383838; stroke-width: 1.5;\" x1=\"244.5\" x2=\"393.5\" y1=\"473.9375\" y2=\"473.9375\"/><text fill=\"#000000\" font-family=\"sans-serif\" font-size=\"11\" lengthAdjust=\"spacingAndGlyphs\" textLength=\"12\" x=\"249.5\" y=\"488.1479\">...</text><line style=\"stroke: #383838; stroke-width: 1.0;\" x1=\"244.5\" x2=\"393.5\" y1=\"494.7422\" y2=\"494.7422\"/><!--MD5=[fd4143e9d270a159db93a4ea2a975926]\n",
       "class E9--><rect fill=\"#FFFFFF\" height=\"45.9375\" id=\"E9\" rx=\"10\" ry=\"10\" style=\"stroke: #383838; stroke-width: 1.5;\" width=\"176\" x=\"32\" y=\"446.5\"/><text fill=\"#000000\" font-family=\"sans-serif\" font-size=\"12\" font-style=\"italic\" lengthAdjust=\"spacingAndGlyphs\" textLength=\"64\" x=\"88\" y=\"462.6387\">«analysis»</text><text fill=\"#000000\" font-family=\"sans-serif\" font-size=\"12\" lengthAdjust=\"spacingAndGlyphs\" textLength=\"170\" x=\"35\" y=\"476.6074\">analysisCase: AnalysisCase</text><line style=\"stroke: #383838; stroke-width: 1.5;\" x1=\"33\" x2=\"207\" y1=\"484.4375\" y2=\"484.4375\"/><!--MD5=[96f4274e9e20536e775497830990834d]\n",
       "class E10--><rect fill=\"#FFFFFF\" height=\"45.9375\" id=\"E10\" rx=\"10\" ry=\"10\" style=\"stroke: #383838; stroke-width: 1.5;\" width=\"140\" x=\"32\" y=\"580\"/><text fill=\"#000000\" font-family=\"sans-serif\" font-size=\"12\" font-style=\"italic\" lengthAdjust=\"spacingAndGlyphs\" textLength=\"91\" x=\"56.5\" y=\"596.1387\">«requirement»</text><text fill=\"#000000\" font-family=\"sans-serif\" font-size=\"12\" lengthAdjust=\"spacingAndGlyphs\" textLength=\"134\" x=\"35\" y=\"610.1074\">obj: AnalysisObjective</text><line style=\"stroke: #383838; stroke-width: 1.5;\" x1=\"33\" x2=\"171\" y1=\"617.9375\" y2=\"617.9375\"/><!--MD5=[1dd1bfd58a279cf63c5f349dbc8fc6a1]\n",
       "class E11--><rect fill=\"#FFFFFF\" height=\"45.9375\" id=\"E11\" rx=\"10\" ry=\"10\" style=\"stroke: #383838; stroke-width: 1.5;\" width=\"138\" x=\"209\" y=\"41\"/><text fill=\"#000000\" font-family=\"sans-serif\" font-size=\"12\" font-style=\"italic\" lengthAdjust=\"spacingAndGlyphs\" textLength=\"40\" x=\"258\" y=\"57.1387\">«part»</text><text fill=\"#000000\" font-family=\"sans-serif\" font-size=\"12\" lengthAdjust=\"spacingAndGlyphs\" textLength=\"132\" x=\"212\" y=\"71.1074\">analysisContext: Part</text><line style=\"stroke: #383838; stroke-width: 1.5;\" x1=\"210\" x2=\"346\" y1=\"78.9375\" y2=\"78.9375\"/><!--MD5=[49a0ec8f00dab7302a31f22d0f0fe584]\n",
       "class E12--><rect fill=\"#FFFFFF\" height=\"88.3516\" id=\"E12\" rx=\"10\" ry=\"10\" style=\"stroke: #383838; stroke-width: 1.5;\" width=\"168\" x=\"194\" y=\"148\"/><text fill=\"#000000\" font-family=\"sans-serif\" font-size=\"12\" font-style=\"italic\" lengthAdjust=\"spacingAndGlyphs\" textLength=\"64\" x=\"246\" y=\"164.1387\">«analysis»</text><text fill=\"#000000\" font-family=\"sans-serif\" font-size=\"12\" lengthAdjust=\"spacingAndGlyphs\" textLength=\"162\" x=\"197\" y=\"178.1074\">analysisPlan: AnalysisPlan</text><line style=\"stroke: #383838; stroke-width: 1.5;\" x1=\"195\" x2=\"361\" y1=\"185.9375\" y2=\"185.9375\"/><text fill=\"#000000\" font-family=\"sans-serif\" font-size=\"11\" lengthAdjust=\"spacingAndGlyphs\" textLength=\"50\" x=\"200\" y=\"216.9526\">v: V= vv;</text><text fill=\"#000000\" font-family=\"sans-serif\" font-size=\"11\" font-style=\"italic\" lengthAdjust=\"spacingAndGlyphs\" textLength=\"107\" x=\"200\" y=\"229.7573\">:&gt;&gt;AnalysisPlan::v</text><line style=\"stroke: #383838; stroke-width: 1.0;\" x1=\"195\" x2=\"247\" y1=\"200.3398\" y2=\"200.3398\"/><text fill=\"#000000\" font-family=\"sans-serif\" font-size=\"11\" lengthAdjust=\"spacingAndGlyphs\" textLength=\"62\" x=\"247\" y=\"203.6479\">references</text><line style=\"stroke: #383838; stroke-width: 1.0;\" x1=\"309\" x2=\"361\" y1=\"200.3398\" y2=\"200.3398\"/><!--MD5=[ee3c913d1a06f366521f9ef512b67efe]\n",
       "class E13--><rect fill=\"#FFFFFF\" height=\"45.9375\" id=\"E13\" rx=\"10\" ry=\"10\" style=\"stroke: #383838; stroke-width: 1.5;\" width=\"151\" x=\"280.5\" y=\"313\"/><text fill=\"#000000\" font-family=\"sans-serif\" font-size=\"12\" font-style=\"italic\" lengthAdjust=\"spacingAndGlyphs\" textLength=\"91\" x=\"310.5\" y=\"329.1387\">«requirement»</text><text fill=\"#000000\" font-family=\"sans-serif\" font-size=\"12\" lengthAdjust=\"spacingAndGlyphs\" textLength=\"145\" x=\"283.5\" y=\"343.1074\">obj: RequirementCheck</text><line style=\"stroke: #383838; stroke-width: 1.5;\" x1=\"281.5\" x2=\"430.5\" y1=\"350.9375\" y2=\"350.9375\"/><!--MD5=[05d275557350bfb9b23a4ef7222b4c39]\n",
       "link E3 to E2--><path d=\"M353,626.19 C353,645.1 353,672.96 353,697.05 \" fill=\"none\" id=\"E3-&gt;E2\" style=\"stroke: #383838; stroke-width: 1.0;\"/><polygon fill=\"#FFFFFF\" points=\"353,717.35,346,698.35,360,698.35,353,717.35\" style=\"stroke: #383838; stroke-width: 1.0;\"/><ellipse cx=\"348\" cy=\"692.65\" fill=\"#383838\" rx=\"2\" ry=\"2\" style=\"stroke: #383838; stroke-width: 1.0;\"/><ellipse cx=\"358\" cy=\"692.65\" fill=\"#383838\" rx=\"2\" ry=\"2\" style=\"stroke: #383838; stroke-width: 1.0;\"/><!--MD5=[15ebcb19ae302d9b601edb458606d402]\n",
       "link E5 to E2--><path d=\"M261.34,626.21 C269.81,646.38 281,673 281,673 C281,673 301.58,693.87 320.74,713.29 \" fill=\"none\" id=\"E5-&gt;E2\" style=\"stroke: #383838; stroke-width: 1.0; stroke-dasharray: 7.0,7.0;\"/><polygon fill=\"#383838\" points=\"324.54,717.15,321.0602,707.9364,321.026,713.5931,315.3692,713.5588,324.54,717.15\" style=\"stroke: #383838; stroke-width: 1.0;\"/><text fill=\"#000000\" font-family=\"sans-serif\" font-size=\"13\" lengthAdjust=\"spacingAndGlyphs\" textLength=\"62\" x=\"282\" y=\"669.0669\">«subject»</text><!--MD5=[9120cf2e5df3bff93db8f754bbbc09b4]\n",
       "link E5 to E6--><path d=\"M225.71,626.05 C208.81,640.23 190,656 190,656 C190,656 177.54,675.34 164.17,696.08 \" fill=\"none\" id=\"E5-&gt;E6\" style=\"stroke: #383838; stroke-width: 1.0;\"/><polygon fill=\"#383838\" points=\"159.81,702.85,166.6689,697.7553,161.6277,694.5016,159.81,702.85\" style=\"stroke: #383838; stroke-width: 1.0;\"/><text fill=\"#000000\" font-family=\"sans-serif\" font-size=\"13\" lengthAdjust=\"spacingAndGlyphs\" textLength=\"73\" x=\"191\" y=\"669.0669\">«objective»</text><!--MD5=[f667431f98296947986a1a7595a31603]\n",
       "link E6 to E4--><path d=\"M132,791.19 C132,804.11 132,818.41 132,831.87 \" fill=\"none\" id=\"E6-&gt;E4\" style=\"stroke: #383838; stroke-width: 1.0;\"/><polygon fill=\"#FFFFFF\" points=\"132,851.98,125,832.98,139,832.98,132,851.98\" style=\"stroke: #383838; stroke-width: 1.0;\"/><ellipse cx=\"127\" cy=\"827.28\" fill=\"#383838\" rx=\"2\" ry=\"2\" style=\"stroke: #383838; stroke-width: 1.0;\"/><ellipse cx=\"137\" cy=\"827.28\" fill=\"#383838\" rx=\"2\" ry=\"2\" style=\"stroke: #383838; stroke-width: 1.0;\"/><!--MD5=[583832df87f4419a098336a29a52fa00]\n",
       "link E7 to E2--><path d=\"M245.32,353.6 C286.88,368.81 342,389 342,389 C342,389 412,436 412,436 C412,436 412,503 412,503 C412,503 392,626 392,626 C392,626 375.54,676.65 364,712.14 \" fill=\"none\" id=\"E7-&gt;E2\" style=\"stroke: #383838; stroke-width: 1.0; stroke-dasharray: 7.0,7.0;\"/><polygon fill=\"#383838\" points=\"362.34,717.26,368.9214,709.933,363.8825,712.5039,361.3117,707.465,362.34,717.26\" style=\"stroke: #383838; stroke-width: 1.0;\"/><text fill=\"#000000\" font-family=\"sans-serif\" font-size=\"13\" lengthAdjust=\"spacingAndGlyphs\" textLength=\"62\" x=\"408\" y=\"546.0669\">«subject»</text><!--MD5=[79bc8f324ef4d02c541433f2e6e513c3]\n",
       "link E7 to E8--><path d=\"M219.92,359.01 C237.35,378.27 263.08,406.7 283.95,429.76 \" fill=\"none\" id=\"E7-&gt;E8\" style=\"stroke: #383838; stroke-width: 1.0;\"/><polygon fill=\"#383838\" points=\"289.42,435.81,286.2823,427.863,281.8306,431.8857,289.42,435.81\" style=\"stroke: #383838; stroke-width: 1.0;\"/><text fill=\"#000000\" font-family=\"sans-serif\" font-size=\"13\" lengthAdjust=\"spacingAndGlyphs\" textLength=\"73\" x=\"260\" y=\"402.0669\">«objective»</text><!--MD5=[bfc3ddf2e613be37104f658f09af896c]\n",
       "link E9 to E5--><path d=\"M146.3,492.71 C167.57,510.68 194,533 194,533 C194,533 206.85,548.29 220.45,564.47 \" fill=\"none\" id=\"E9-&gt;E5\" style=\"stroke: #383838; stroke-width: 1.0;\"/><polygon fill=\"#FFFFFF\" points=\"233.33,579.79,215.7466,569.749,226.4639,560.7412,233.33,579.79\" style=\"stroke: #383838; stroke-width: 1.0;\"/><ellipse cx=\"213.6102\" cy=\"564.0987\" fill=\"#383838\" rx=\"2\" ry=\"2\" style=\"stroke: #383838; stroke-width: 1.0;\"/><ellipse cx=\"221.2654\" cy=\"557.6646\" fill=\"#383838\" rx=\"2\" ry=\"2\" style=\"stroke: #383838; stroke-width: 1.0;\"/><!--MD5=[e4a10ef82d0e328e31cac39a31e58dda]\n",
       "reverse link E7 to E9--><path d=\"M179.71,370.36 C165.2,394.21 146.08,425.63 133.43,446.42 \" fill=\"none\" id=\"E7&lt;-E9\" style=\"stroke: #383838; stroke-width: 1.0;\"/><polygon fill=\"#383838\" points=\"186.61,359.01,180.0734,362.0551,180.3702,369.2601,186.9068,366.215,186.61,359.01\" style=\"stroke: #383838; stroke-width: 1.0;\"/><!--MD5=[35e5f1cbde42fa304a029880aa2bc7f2]\n",
       "link E9 to E10--><path d=\"M116.99,492.51 C114.01,514.22 109.45,547.59 106.14,571.78 \" fill=\"none\" id=\"E9-&gt;E10\" style=\"stroke: #383838; stroke-width: 1.0;\"/><polygon fill=\"#383838\" points=\"105.02,579.92,109.0776,572.401,103.1331,571.587,105.02,579.92\" style=\"stroke: #383838; stroke-width: 1.0;\"/><text fill=\"#000000\" font-family=\"sans-serif\" font-size=\"13\" lengthAdjust=\"spacingAndGlyphs\" textLength=\"73\" x=\"112\" y=\"546.0669\">«objective»</text><!--MD5=[198716bf12f04006f5c20d61bde6d80d]\n",
       "link E10 to E6--><path d=\"M104.58,626.21 C106.91,646.38 110,673 110,673 C110,673 111.26,677.18 113.18,683.54 \" fill=\"none\" id=\"E10-&gt;E6\" style=\"stroke: #383838; stroke-width: 1.0;\"/><polygon fill=\"#FFFFFF\" points=\"118.95,702.69,106.7668,686.5169,120.1717,682.4784,118.95,702.69\" style=\"stroke: #383838; stroke-width: 1.0;\"/><line style=\"stroke: #383838; stroke-width: 2.0;\" x1=\"105.6706\" x2=\"119.0755\" y1=\"682.8784\" y2=\"678.84\"/><!--MD5=[ae660f5ecd7ddb04a8913625960940af]\n",
       "link E12 to E7--><path d=\"M254.17,236.38 C243.87,255.14 231.88,276.96 221.81,295.29 \" fill=\"none\" id=\"E12-&gt;E7\" style=\"stroke: #383838; stroke-width: 1.0;\"/><polygon fill=\"#FFFFFF\" points=\"212.16,312.87,215.1723,292.8469,227.4429,299.5872,212.16,312.87\" style=\"stroke: #383838; stroke-width: 1.0;\"/><ellipse cx=\"219.6695\" cy=\"288.8139\" fill=\"#383838\" rx=\"2\" ry=\"2\" style=\"stroke: #383838; stroke-width: 1.0;\"/><ellipse cx=\"228.4342\" cy=\"293.6284\" fill=\"#383838\" rx=\"2\" ry=\"2\" style=\"stroke: #383838; stroke-width: 1.0;\"/><!--MD5=[94adabc162ce7e41b39f13be14fbaeb3]\n",
       "reverse link E11 to E12--><path d=\"M278,100.45 C278,115.17 278,132.39 278,147.84 \" fill=\"none\" id=\"E11&lt;-E12\" style=\"stroke: #383838; stroke-width: 1.0;\"/><polygon fill=\"#383838\" points=\"278,87.24,274,93.24,278,99.24,282,93.24,278,87.24\" style=\"stroke: #383838; stroke-width: 1.0;\"/><!--MD5=[e2a9ac97dcd3257bb5342dae06547bad]\n",
       "link E12 to E13--><path d=\"M301.83,236.38 C314.2,258.89 328.98,285.81 339.97,305.82 \" fill=\"none\" id=\"E12-&gt;E13\" style=\"stroke: #383838; stroke-width: 1.0;\"/><polygon fill=\"#383838\" points=\"343.84,312.87,342.6199,304.4136,337.3604,307.3009,343.84,312.87\" style=\"stroke: #383838; stroke-width: 1.0;\"/><text fill=\"#000000\" font-family=\"sans-serif\" font-size=\"13\" lengthAdjust=\"spacingAndGlyphs\" textLength=\"73\" x=\"327\" y=\"279.0669\">«objective»</text><!--MD5=[9ab96ab4abb2650be1e5d4106a2960f9]\n",
       "@startuml\r\n",
       "skinparam linetype polyline\r\n",
       "skinparam monochrome true\r\n",
       "skinparam classbackgroundcolor white\r\n",
       "skinparam shadowing false\r\n",
       "skinparam wrapWidth 300\r\n",
       "hide circle\r\n",
       "\r\n",
       "package \"AnalysisTest\" as E1   {\r\n",
       "comp def \"V\" as E2  <<(T,blue)part def>> {\r\n",
       "m: DataValue\r\n",
       "}\r\n",
       "comp usage \"vv: V\" as E3  <<(T,blue)part>> {\r\n",
       "}\r\n",
       "comp def \"AnalysisObjective\" as E4  <<(T,blue)requirement def>> {\r\n",
       "...\r\n",
       "- -\r\n",
       "}\r\n",
       "comp def \"AnalysisCase\" as E5 <<analysis def>> {\r\n",
       "}\r\n",
       "comp usage \"obj: AnalysisObjective\" as E6  <<(T,blue)requirement>> {\r\n",
       "- -references- -\r\n",
       "subj: Anything= result; \\n//:>>AnalysisObjective::subj// \r\n",
       "}\r\n",
       "comp def \"AnalysisPlan\" as E7 <<analysis def>> {\r\n",
       "}\r\n",
       "comp usage \"obj: RequirementCheck\" as E8  <<(T,blue)requirement>> {\r\n",
       "...\r\n",
       "- -\r\n",
       "}\r\n",
       "comp usage \"analysisCase: AnalysisCase\" as E9 <<analysis>> {\r\n",
       "}\r\n",
       "comp usage \"obj: AnalysisObjective\" as E10  <<(T,blue)requirement>> {\r\n",
       "}\r\n",
       "comp usage \"analysisContext: Part\" as E11  <<(T,blue)part>> {\r\n",
       "}\r\n",
       "comp usage \"analysisPlan: AnalysisPlan\" as E12 <<analysis>> {\r\n",
       "- -references- -\r\n",
       "v: V= vv; \\n//:>>AnalysisPlan::v// \r\n",
       "}\r\n",
       "comp usage \"obj: RequirementCheck\" as E13  <<(T,blue)requirement>> {\r\n",
       "}\r\n",
       "E3 - -:|> E2\r\n",
       "E5 ..> E2 : <<subject>>\r\n",
       "E5 - ->> E6 : <<objective>>\r\n",
       "E6 - -:|> E4\r\n",
       "E7 ..> E2 : <<subject>>\r\n",
       "E7 - ->> E8 : <<objective>>\r\n",
       "E9 - -:|> E5\r\n",
       "E7 *- - E9\r\n",
       "E9 - ->> E10 : <<objective>>\r\n",
       "E10 - -||> E6\r\n",
       "E12 - -:|> E7\r\n",
       "E11 *- - E12\r\n",
       "E12 - ->> E13 : <<objective>>\r\n",
       "}\r\n",
       "@enduml\r\n",
       "\n",
       "PlantUML version 1.2020.13(Sat Jun 13 12:26:38 UTC 2020)\n",
       "(EPL source distribution)\n",
       "Java Runtime: OpenJDK Runtime Environment\n",
       "JVM: OpenJDK 64-Bit Server VM\n",
       "Default Encoding: UTF-8\n",
       "Language: en\n",
       "Country: null\n",
       "--></g></svg>"
      ]
     },
     "execution_count": 14,
     "metadata": {},
     "output_type": "execute_result"
    }
   ],
   "source": [
    "%viz --style=\"POLYLINE\" --view=\"Sequence\" \"AnalysisTest\""
   ]
  },
  {
   "cell_type": "code",
   "execution_count": 15,
   "id": "russian-nursery",
   "metadata": {
    "execution": {
     "iopub.execute_input": "2021-03-26T09:41:44.911390Z",
     "iopub.status.busy": "2021-03-26T09:41:44.911054Z",
     "iopub.status.idle": "2021-03-26T09:41:44.995271Z",
     "shell.execute_reply": "2021-03-26T09:41:44.995586Z"
    }
   },
   "outputs": [
    {
     "data": {
      "image/svg+xml": [
       "<?xml version=\"1.0\" encoding=\"UTF-8\" standalone=\"no\"?><svg xmlns=\"http://www.w3.org/2000/svg\" xmlns:xlink=\"http://www.w3.org/1999/xlink\" contentScriptType=\"application/ecmascript\" contentStyleType=\"text/css\" height=\"551px\" preserveAspectRatio=\"none\" style=\"width:848px;height:551px;\" version=\"1.1\" viewBox=\"0 0 848 551\" width=\"848px\" zoomAndPan=\"magnify\"><defs/><g><!--MD5=[fbc87193dbaf4d95561dea2c320d4a47]\n",
       "cluster E1--><polygon fill=\"#FFFFFF\" points=\"16,6,122,6,129,28.2969,826,28.2969,826,539.72,16,539.72,16,6\" style=\"stroke: #000000; stroke-width: 1.5;\"/><line style=\"stroke: #000000; stroke-width: 1.5;\" x1=\"16\" x2=\"129\" y1=\"28.2969\" y2=\"28.2969\"/><text fill=\"#000000\" font-family=\"sans-serif\" font-size=\"14\" font-weight=\"bold\" lengthAdjust=\"spacingAndGlyphs\" textLength=\"100\" x=\"20\" y=\"20.9951\">AnalysisTest</text><!--MD5=[de5ec2e2e8f62f467e546659f5068c88]\n",
       "cluster E5--><rect fill=\"#FFFFFF\" height=\"164\" style=\"stroke: #000000; stroke-width: 1.5;\" width=\"152\" x=\"658\" y=\"74.5\"/><text fill=\"#000000\" font-family=\"sans-serif\" font-size=\"14\" font-weight=\"bold\" lengthAdjust=\"spacingAndGlyphs\" textLength=\"104\" x=\"682\" y=\"89.4951\">AnalysisCase</text><!--MD5=[168fadf3d0c3fd93dd5d6da1b1d7ab76]\n",
       "cluster E7--><rect fill=\"#FFFFFF\" height=\"302.72\" style=\"stroke: #000000; stroke-width: 1.5;\" width=\"256\" x=\"279\" y=\"213\"/><text fill=\"#000000\" font-family=\"sans-serif\" font-size=\"14\" font-weight=\"bold\" lengthAdjust=\"spacingAndGlyphs\" textLength=\"98\" x=\"358\" y=\"227.9951\">AnalysisPlan</text><!--MD5=[7f149f147074ac12df2cb0a7728a5fb0]\n",
       "cluster E9--><rect fill=\"#F8F8F8\" height=\"146.22\" rx=\"12.5\" ry=\"12.5\" style=\"stroke: #000000; stroke-width: 1.5;\" width=\"138\" x=\"373\" y=\"331.5\"/><rect fill=\"#FFFFFF\" height=\"113.9231\" rx=\"12.5\" ry=\"12.5\" style=\"stroke: #FFFFFF; stroke-width: 1.0;\" width=\"132\" x=\"376\" y=\"360.7969\"/><line style=\"stroke: #000000; stroke-width: 1.5;\" x1=\"373\" x2=\"511\" y1=\"357.7969\" y2=\"357.7969\"/><text fill=\"#000000\" font-family=\"sans-serif\" font-size=\"14\" lengthAdjust=\"spacingAndGlyphs\" textLength=\"89\" x=\"397.5\" y=\"349.4951\">analysisCase</text><!--MD5=[b4997ac47864f28c2f74865a473b2911]\n",
       "class E2--><rect fill=\"#FFFFFF\" height=\"58.7422\" id=\"E2\" style=\"stroke: #383838; stroke-width: 1.5;\" width=\"88\" x=\"551\" y=\"183.5\"/><text fill=\"#000000\" font-family=\"sans-serif\" font-size=\"12\" font-style=\"italic\" lengthAdjust=\"spacingAndGlyphs\" textLength=\"64\" x=\"563\" y=\"199.6387\">«part def»</text><text fill=\"#000000\" font-family=\"sans-serif\" font-size=\"12\" lengthAdjust=\"spacingAndGlyphs\" textLength=\"8\" x=\"591\" y=\"213.6074\">V</text><line style=\"stroke: #383838; stroke-width: 1.5;\" x1=\"552\" x2=\"638\" y1=\"221.4375\" y2=\"221.4375\"/><text fill=\"#000000\" font-family=\"sans-serif\" font-size=\"11\" lengthAdjust=\"spacingAndGlyphs\" textLength=\"76\" x=\"557\" y=\"235.6479\">m: DataValue</text><!--MD5=[09b614a08d8cba4a07c9adeb5e0fee81]\n",
       "class E3--><rect fill=\"#FFFFFF\" height=\"45.9375\" id=\"E3\" rx=\"10\" ry=\"10\" style=\"stroke: #383838; stroke-width: 1.5;\" width=\"42\" x=\"574\" y=\"51.5\"/><text fill=\"#000000\" font-family=\"sans-serif\" font-size=\"12\" font-style=\"italic\" lengthAdjust=\"spacingAndGlyphs\" textLength=\"40\" x=\"575\" y=\"67.6387\">«part»</text><text fill=\"#000000\" font-family=\"sans-serif\" font-size=\"12\" lengthAdjust=\"spacingAndGlyphs\" textLength=\"28\" x=\"581\" y=\"81.6074\">vv: V</text><line style=\"stroke: #383838; stroke-width: 1.5;\" x1=\"575\" x2=\"615\" y1=\"89.4375\" y2=\"89.4375\"/><!--MD5=[ebbe1d658d1005bcc118a6aa81145e00]\n",
       "class E4--><rect fill=\"#FFFFFF\" height=\"66.7422\" id=\"E4\" style=\"stroke: #383838; stroke-width: 1.5;\" width=\"117\" x=\"321.5\" y=\"41\"/><text fill=\"#000000\" font-family=\"sans-serif\" font-size=\"12\" font-style=\"italic\" lengthAdjust=\"spacingAndGlyphs\" textLength=\"115\" x=\"322.5\" y=\"57.1387\">«requirement def»</text><text fill=\"#000000\" font-family=\"sans-serif\" font-size=\"12\" lengthAdjust=\"spacingAndGlyphs\" textLength=\"107\" x=\"326.5\" y=\"71.1074\">AnalysisObjective</text><line style=\"stroke: #383838; stroke-width: 1.5;\" x1=\"322.5\" x2=\"437.5\" y1=\"78.9375\" y2=\"78.9375\"/><text fill=\"#000000\" font-family=\"sans-serif\" font-size=\"11\" lengthAdjust=\"spacingAndGlyphs\" textLength=\"12\" x=\"327.5\" y=\"93.1479\">...</text><line style=\"stroke: #383838; stroke-width: 1.0;\" x1=\"322.5\" x2=\"437.5\" y1=\"99.7422\" y2=\"99.7422\"/><!--MD5=[1dd1bfd58a279cf63c5f349dbc8fc6a1]\n",
       "class E11--><rect fill=\"#FFFFFF\" height=\"45.9375\" id=\"E11\" rx=\"10\" ry=\"10\" style=\"stroke: #383838; stroke-width: 1.5;\" width=\"138\" x=\"47\" y=\"51.5\"/><text fill=\"#000000\" font-family=\"sans-serif\" font-size=\"12\" font-style=\"italic\" lengthAdjust=\"spacingAndGlyphs\" textLength=\"40\" x=\"96\" y=\"67.6387\">«part»</text><text fill=\"#000000\" font-family=\"sans-serif\" font-size=\"12\" lengthAdjust=\"spacingAndGlyphs\" textLength=\"132\" x=\"50\" y=\"81.6074\">analysisContext: Part</text><line style=\"stroke: #383838; stroke-width: 1.5;\" x1=\"48\" x2=\"184\" y1=\"89.4375\" y2=\"89.4375\"/><!--MD5=[49a0ec8f00dab7302a31f22d0f0fe584]\n",
       "class E12--><rect fill=\"#FFFFFF\" height=\"88.3516\" id=\"E12\" rx=\"10\" ry=\"10\" style=\"stroke: #383838; stroke-width: 1.5;\" width=\"168\" x=\"32\" y=\"169\"/><text fill=\"#000000\" font-family=\"sans-serif\" font-size=\"12\" font-style=\"italic\" lengthAdjust=\"spacingAndGlyphs\" textLength=\"64\" x=\"84\" y=\"185.1387\">«analysis»</text><text fill=\"#000000\" font-family=\"sans-serif\" font-size=\"12\" lengthAdjust=\"spacingAndGlyphs\" textLength=\"162\" x=\"35\" y=\"199.1074\">analysisPlan: AnalysisPlan</text><line style=\"stroke: #383838; stroke-width: 1.5;\" x1=\"33\" x2=\"199\" y1=\"206.9375\" y2=\"206.9375\"/><text fill=\"#000000\" font-family=\"sans-serif\" font-size=\"11\" lengthAdjust=\"spacingAndGlyphs\" textLength=\"50\" x=\"38\" y=\"237.9526\">v: V= vv;</text><text fill=\"#000000\" font-family=\"sans-serif\" font-size=\"11\" font-style=\"italic\" lengthAdjust=\"spacingAndGlyphs\" textLength=\"107\" x=\"38\" y=\"250.7573\">:&gt;&gt;AnalysisPlan::v</text><line style=\"stroke: #383838; stroke-width: 1.0;\" x1=\"33\" x2=\"85\" y1=\"221.3398\" y2=\"221.3398\"/><text fill=\"#000000\" font-family=\"sans-serif\" font-size=\"11\" lengthAdjust=\"spacingAndGlyphs\" textLength=\"62\" x=\"85\" y=\"224.6479\">references</text><line style=\"stroke: #383838; stroke-width: 1.0;\" x1=\"147\" x2=\"199\" y1=\"221.3398\" y2=\"221.3398\"/><!--MD5=[ee3c913d1a06f366521f9ef512b67efe]\n",
       "class E13--><rect fill=\"#FFFFFF\" height=\"45.9375\" id=\"E13\" rx=\"10\" ry=\"10\" style=\"stroke: #383838; stroke-width: 1.5;\" width=\"151\" x=\"40.5\" y=\"334\"/><text fill=\"#000000\" font-family=\"sans-serif\" font-size=\"12\" font-style=\"italic\" lengthAdjust=\"spacingAndGlyphs\" textLength=\"91\" x=\"70.5\" y=\"350.1387\">«requirement»</text><text fill=\"#000000\" font-family=\"sans-serif\" font-size=\"12\" lengthAdjust=\"spacingAndGlyphs\" textLength=\"145\" x=\"43.5\" y=\"364.1074\">obj: RequirementCheck</text><line style=\"stroke: #383838; stroke-width: 1.5;\" x1=\"41.5\" x2=\"190.5\" y1=\"371.9375\" y2=\"371.9375\"/><text fill=\"#000000\" font-family=\"sans-serif\" font-size=\"14\" lengthAdjust=\"spacingAndGlyphs\" textLength=\"7\" x=\"730.5\" y=\"53.1982\">v</text><rect fill=\"#383838\" height=\"12\" style=\"stroke: #F8F8F8; stroke-width: 1.5;\" width=\"12\" x=\"728\" y=\"68.5\"/><text fill=\"#000000\" font-family=\"sans-serif\" font-size=\"14\" lengthAdjust=\"spacingAndGlyphs\" textLength=\"7\" x=\"293.5\" y=\"191.6982\">v</text><rect fill=\"#383838\" height=\"12\" style=\"stroke: #F8F8F8; stroke-width: 1.5;\" width=\"12\" x=\"291\" y=\"207\"/><text fill=\"#000000\" font-family=\"sans-serif\" font-size=\"14\" lengthAdjust=\"spacingAndGlyphs\" textLength=\"37\" x=\"423.5\" y=\"496.7151\">mass</text><rect fill=\"#383838\" height=\"12\" style=\"stroke: #F8F8F8; stroke-width: 1.5;\" width=\"12\" x=\"436\" y=\"471.72\"/><!--MD5=[05d275557350bfb9b23a4ef7222b4c39]\n",
       "link E3 to E2--><path d=\"M595,97.73 C595,115.37 595,140.67 595,162.99 \" fill=\"none\" id=\"E3-&gt;E2\" style=\"stroke: #383838; stroke-width: 1.0;\"/><polygon fill=\"#FFFFFF\" points=\"595,183.12,588,164.12,602,164.12,595,183.12\" style=\"stroke: #383838; stroke-width: 1.0;\"/><ellipse cx=\"590\" cy=\"158.42\" fill=\"#383838\" rx=\"2\" ry=\"2\" style=\"stroke: #383838; stroke-width: 1.0;\"/><ellipse cx=\"600\" cy=\"158.42\" fill=\"#383838\" rx=\"2\" ry=\"2\" style=\"stroke: #383838; stroke-width: 1.0;\"/><!--MD5=[ae660f5ecd7ddb04a8913625960940af]\n",
       "link E12 to E7--><path d=\"M171.29,257.38 C191.56,273.285 214.625,291.38 235.415,307.69 C245.81,315.845 255.6363,323.5538 264.26,330.3194 C268.5719,333.7022 272.5831,336.8492 276.2145,339.6984 C277.1224,340.4106 278.0065,341.1043 278.8656,341.7784 \" fill=\"none\" id=\"E12-&gt;E7\" style=\"stroke: #383838; stroke-width: 1.0;\"/><polygon fill=\"#FFFFFF\" points=\"278.8656,341.7784,259.5965,335.5573,268.2385,324.5429,278.8656,341.7784\" style=\"stroke: #383838; stroke-width: 1.0;\"/><ellipse cx=\"256.3467\" cy=\"330.4653\" fill=\"#383838\" rx=\"2\" ry=\"2\" style=\"stroke: #383838; stroke-width: 1.0;\"/><ellipse cx=\"262.5195\" cy=\"322.5978\" fill=\"#383838\" rx=\"2\" ry=\"2\" style=\"stroke: #383838; stroke-width: 1.0;\"/><!--MD5=[94adabc162ce7e41b39f13be14fbaeb3]\n",
       "reverse link E11 to E12--><path d=\"M116,110.96 C116,128.64 116,150.18 116,168.81 \" fill=\"none\" id=\"E11&lt;-E12\" style=\"stroke: #383838; stroke-width: 1.0;\"/><polygon fill=\"#383838\" points=\"116,97.73,112,103.73,116,109.73,120,103.73,116,97.73\" style=\"stroke: #383838; stroke-width: 1.0;\"/><!--MD5=[e2a9ac97dcd3257bb5342dae06547bad]\n",
       "link E12 to E13--><path d=\"M116,257.38 C116,279.5 116,305.86 116,325.76 \" fill=\"none\" id=\"E12-&gt;E13\" style=\"stroke: #383838; stroke-width: 1.0;\"/><polygon fill=\"#383838\" points=\"116,333.87,119,325.87,113,325.87,116,333.87\" style=\"stroke: #383838; stroke-width: 1.0;\"/><text fill=\"#000000\" font-family=\"sans-serif\" font-size=\"13\" lengthAdjust=\"spacingAndGlyphs\" textLength=\"73\" x=\"117\" y=\"300.0669\">«objective»</text><!--MD5=[b5d2ede7e35efe8cb700781174bdc7bd]\n",
       "@startuml\r\n",
       "skinparam linetype polyline\r\n",
       "skinparam monochrome true\r\n",
       "skinparam classbackgroundcolor white\r\n",
       "skinparam shadowing false\r\n",
       "skinparam wrapWidth 300\r\n",
       "hide circle\r\n",
       "\r\n",
       "package \"AnalysisTest\" as E1   {\r\n",
       "comp def \"V\" as E2  <<(T,blue)part def>> {\r\n",
       "m: DataValue\r\n",
       "}\r\n",
       "comp usage \"vv: V\" as E3  <<(T,blue)part>> {\r\n",
       "}\r\n",
       "comp def \"AnalysisObjective\" as E4  <<(T,blue)requirement def>> {\r\n",
       "...\r\n",
       "- -\r\n",
       "}\r\n",
       "rec def \"AnalysisCase\" as E5 {\r\n",
       "portin \"v\" as E6  \r\n",
       "}\r\n",
       "\r\n",
       "rec def \"AnalysisPlan\" as E7 {\r\n",
       "portin \"v\" as E8  \r\n",
       "rec usage \"analysisCase\" as E9 {\r\n",
       "portout \"mass\" as E10  \r\n",
       "}\r\n",
       "\r\n",
       "}\r\n",
       "\r\n",
       "comp usage \"analysisContext: Part\" as E11  <<(T,blue)part>> {\r\n",
       "}\r\n",
       "comp usage \"analysisPlan: AnalysisPlan\" as E12 <<analysis>> {\r\n",
       "- -references- -\r\n",
       "v: V= vv; \\n//:>>AnalysisPlan::v// \r\n",
       "}\r\n",
       "comp usage \"obj: RequirementCheck\" as E13  <<(T,blue)requirement>> {\r\n",
       "}\r\n",
       "E3 - -:|> E2\r\n",
       "E12 - -:|> E7\r\n",
       "E11 *- - E12\r\n",
       "E12 - ->> E13 : <<objective>>\r\n",
       "}\r\n",
       "@enduml\r\n",
       "\n",
       "PlantUML version 1.2020.13(Sat Jun 13 12:26:38 UTC 2020)\n",
       "(EPL source distribution)\n",
       "Java Runtime: OpenJDK Runtime Environment\n",
       "JVM: OpenJDK 64-Bit Server VM\n",
       "Default Encoding: UTF-8\n",
       "Language: en\n",
       "Country: null\n",
       "--></g></svg>"
      ]
     },
     "execution_count": 15,
     "metadata": {},
     "output_type": "execute_result"
    }
   ],
   "source": [
    "%viz --style=\"POLYLINE\" --view=\"MIXED\" \"AnalysisTest\""
   ]
  },
  {
   "cell_type": "code",
   "execution_count": 16,
   "id": "premium-stylus",
   "metadata": {
    "execution": {
     "iopub.execute_input": "2021-03-26T09:41:45.046632Z",
     "iopub.status.busy": "2021-03-26T09:41:45.046147Z",
     "iopub.status.idle": "2021-03-26T09:41:45.123500Z",
     "shell.execute_reply": "2021-03-26T09:41:45.123890Z"
    }
   },
   "outputs": [
    {
     "data": {
      "image/svg+xml": [
       "<?xml version=\"1.0\" encoding=\"UTF-8\" standalone=\"no\"?><svg xmlns=\"http://www.w3.org/2000/svg\" xmlns:xlink=\"http://www.w3.org/1999/xlink\" contentScriptType=\"application/ecmascript\" contentStyleType=\"text/css\" height=\"457px\" preserveAspectRatio=\"none\" style=\"width:866px;height:457px;\" version=\"1.1\" viewBox=\"0 0 866 457\" width=\"866px\" zoomAndPan=\"magnify\"><defs/><g><!--MD5=[fbc87193dbaf4d95561dea2c320d4a47]\n",
       "cluster E1--><polygon fill=\"#FFFFFF\" points=\"16,6,122,6,129,28.2969,844.72,28.2969,844.72,445,16,445,16,6\" style=\"stroke: #000000; stroke-width: 1.5;\"/><line style=\"stroke: #000000; stroke-width: 1.5;\" x1=\"16\" x2=\"129\" y1=\"28.2969\" y2=\"28.2969\"/><text fill=\"#000000\" font-family=\"sans-serif\" font-size=\"14\" font-weight=\"bold\" lengthAdjust=\"spacingAndGlyphs\" textLength=\"100\" x=\"20\" y=\"20.9951\">AnalysisTest</text><!--MD5=[de5ec2e2e8f62f467e546659f5068c88]\n",
       "cluster E5--><rect fill=\"#FFFFFF\" height=\"52\" style=\"stroke: #000000; stroke-width: 1.5;\" width=\"290\" x=\"101\" y=\"41\"/><text fill=\"#000000\" font-family=\"sans-serif\" font-size=\"14\" font-weight=\"bold\" lengthAdjust=\"spacingAndGlyphs\" textLength=\"104\" x=\"194\" y=\"55.9951\">AnalysisCase</text><!--MD5=[168fadf3d0c3fd93dd5d6da1b1d7ab76]\n",
       "cluster E7--><rect fill=\"#FFFFFF\" height=\"104\" style=\"stroke: #000000; stroke-width: 1.5;\" width=\"523.72\" x=\"297\" y=\"187\"/><text fill=\"#000000\" font-family=\"sans-serif\" font-size=\"14\" font-weight=\"bold\" lengthAdjust=\"spacingAndGlyphs\" textLength=\"98\" x=\"509.86\" y=\"201.9951\">AnalysisPlan</text><!--MD5=[7f149f147074ac12df2cb0a7728a5fb0]\n",
       "cluster E9--><rect fill=\"#F8F8F8\" height=\"52\" rx=\"12.5\" ry=\"12.5\" style=\"stroke: #000000; stroke-width: 1.5;\" width=\"241.72\" x=\"541\" y=\"211\"/><rect fill=\"#FFFFFF\" height=\"19.7031\" rx=\"12.5\" ry=\"12.5\" style=\"stroke: #FFFFFF; stroke-width: 1.0;\" width=\"235.72\" x=\"544\" y=\"240.2969\"/><line style=\"stroke: #000000; stroke-width: 1.5;\" x1=\"541\" x2=\"782.72\" y1=\"237.2969\" y2=\"237.2969\"/><text fill=\"#000000\" font-family=\"sans-serif\" font-size=\"14\" lengthAdjust=\"spacingAndGlyphs\" textLength=\"89\" x=\"617.36\" y=\"228.9951\">analysisCase</text><!--MD5=[b4997ac47864f28c2f74865a473b2911]\n",
       "class E2--><rect fill=\"#FFFFFF\" height=\"58.7422\" id=\"E2\" style=\"stroke: #383838; stroke-width: 1.5;\" width=\"88\" x=\"271\" y=\"111.5\"/><text fill=\"#000000\" font-family=\"sans-serif\" font-size=\"12\" font-style=\"italic\" lengthAdjust=\"spacingAndGlyphs\" textLength=\"64\" x=\"283\" y=\"127.6387\">«part def»</text><text fill=\"#000000\" font-family=\"sans-serif\" font-size=\"12\" lengthAdjust=\"spacingAndGlyphs\" textLength=\"8\" x=\"311\" y=\"141.6074\">V</text><line style=\"stroke: #383838; stroke-width: 1.5;\" x1=\"272\" x2=\"358\" y1=\"149.4375\" y2=\"149.4375\"/><text fill=\"#000000\" font-family=\"sans-serif\" font-size=\"11\" lengthAdjust=\"spacingAndGlyphs\" textLength=\"76\" x=\"277\" y=\"163.6479\">m: DataValue</text><!--MD5=[09b614a08d8cba4a07c9adeb5e0fee81]\n",
       "class E3--><rect fill=\"#FFFFFF\" height=\"45.9375\" id=\"E3\" rx=\"10\" ry=\"10\" style=\"stroke: #383838; stroke-width: 1.5;\" width=\"42\" x=\"80\" y=\"118\"/><text fill=\"#000000\" font-family=\"sans-serif\" font-size=\"12\" font-style=\"italic\" lengthAdjust=\"spacingAndGlyphs\" textLength=\"40\" x=\"81\" y=\"134.1387\">«part»</text><text fill=\"#000000\" font-family=\"sans-serif\" font-size=\"12\" lengthAdjust=\"spacingAndGlyphs\" textLength=\"28\" x=\"87\" y=\"148.1074\">vv: V</text><line style=\"stroke: #383838; stroke-width: 1.5;\" x1=\"81\" x2=\"121\" y1=\"155.9375\" y2=\"155.9375\"/><!--MD5=[ebbe1d658d1005bcc118a6aa81145e00]\n",
       "class E4--><rect fill=\"#FFFFFF\" height=\"66.7422\" id=\"E4\" style=\"stroke: #383838; stroke-width: 1.5;\" width=\"117\" x=\"42.5\" y=\"229.5\"/><text fill=\"#000000\" font-family=\"sans-serif\" font-size=\"12\" font-style=\"italic\" lengthAdjust=\"spacingAndGlyphs\" textLength=\"115\" x=\"43.5\" y=\"245.6387\">«requirement def»</text><text fill=\"#000000\" font-family=\"sans-serif\" font-size=\"12\" lengthAdjust=\"spacingAndGlyphs\" textLength=\"107\" x=\"47.5\" y=\"259.6074\">AnalysisObjective</text><line style=\"stroke: #383838; stroke-width: 1.5;\" x1=\"43.5\" x2=\"158.5\" y1=\"267.4375\" y2=\"267.4375\"/><text fill=\"#000000\" font-family=\"sans-serif\" font-size=\"11\" lengthAdjust=\"spacingAndGlyphs\" textLength=\"12\" x=\"48.5\" y=\"281.6479\">...</text><line style=\"stroke: #383838; stroke-width: 1.0;\" x1=\"43.5\" x2=\"158.5\" y1=\"288.2422\" y2=\"288.2422\"/><!--MD5=[1dd1bfd58a279cf63c5f349dbc8fc6a1]\n",
       "class E11--><rect fill=\"#FFFFFF\" height=\"45.9375\" id=\"E11\" rx=\"10\" ry=\"10\" style=\"stroke: #383838; stroke-width: 1.5;\" width=\"138\" x=\"32\" y=\"362\"/><text fill=\"#000000\" font-family=\"sans-serif\" font-size=\"12\" font-style=\"italic\" lengthAdjust=\"spacingAndGlyphs\" textLength=\"40\" x=\"81\" y=\"378.1387\">«part»</text><text fill=\"#000000\" font-family=\"sans-serif\" font-size=\"12\" lengthAdjust=\"spacingAndGlyphs\" textLength=\"132\" x=\"35\" y=\"392.1074\">analysisContext: Part</text><line style=\"stroke: #383838; stroke-width: 1.5;\" x1=\"33\" x2=\"169\" y1=\"399.9375\" y2=\"399.9375\"/><!--MD5=[49a0ec8f00dab7302a31f22d0f0fe584]\n",
       "class E12--><rect fill=\"#FFFFFF\" height=\"88.3516\" id=\"E12\" rx=\"10\" ry=\"10\" style=\"stroke: #383838; stroke-width: 1.5;\" width=\"168\" x=\"231\" y=\"341\"/><text fill=\"#000000\" font-family=\"sans-serif\" font-size=\"12\" font-style=\"italic\" lengthAdjust=\"spacingAndGlyphs\" textLength=\"64\" x=\"283\" y=\"357.1387\">«analysis»</text><text fill=\"#000000\" font-family=\"sans-serif\" font-size=\"12\" lengthAdjust=\"spacingAndGlyphs\" textLength=\"162\" x=\"234\" y=\"371.1074\">analysisPlan: AnalysisPlan</text><line style=\"stroke: #383838; stroke-width: 1.5;\" x1=\"232\" x2=\"398\" y1=\"378.9375\" y2=\"378.9375\"/><text fill=\"#000000\" font-family=\"sans-serif\" font-size=\"11\" lengthAdjust=\"spacingAndGlyphs\" textLength=\"50\" x=\"237\" y=\"409.9526\">v: V= vv;</text><text fill=\"#000000\" font-family=\"sans-serif\" font-size=\"11\" font-style=\"italic\" lengthAdjust=\"spacingAndGlyphs\" textLength=\"107\" x=\"237\" y=\"422.7573\">:&gt;&gt;AnalysisPlan::v</text><line style=\"stroke: #383838; stroke-width: 1.0;\" x1=\"232\" x2=\"284\" y1=\"393.3398\" y2=\"393.3398\"/><text fill=\"#000000\" font-family=\"sans-serif\" font-size=\"11\" lengthAdjust=\"spacingAndGlyphs\" textLength=\"62\" x=\"284\" y=\"396.6479\">references</text><line style=\"stroke: #383838; stroke-width: 1.0;\" x1=\"346\" x2=\"398\" y1=\"393.3398\" y2=\"393.3398\"/><!--MD5=[ee3c913d1a06f366521f9ef512b67efe]\n",
       "class E13--><rect fill=\"#FFFFFF\" height=\"45.9375\" id=\"E13\" rx=\"10\" ry=\"10\" style=\"stroke: #383838; stroke-width: 1.5;\" width=\"151\" x=\"534\" y=\"362\"/><text fill=\"#000000\" font-family=\"sans-serif\" font-size=\"12\" font-style=\"italic\" lengthAdjust=\"spacingAndGlyphs\" textLength=\"91\" x=\"564\" y=\"378.1387\">«requirement»</text><text fill=\"#000000\" font-family=\"sans-serif\" font-size=\"12\" lengthAdjust=\"spacingAndGlyphs\" textLength=\"145\" x=\"537\" y=\"392.1074\">obj: RequirementCheck</text><line style=\"stroke: #383838; stroke-width: 1.5;\" x1=\"535\" x2=\"684\" y1=\"399.9375\" y2=\"399.9375\"/><text fill=\"#000000\" font-family=\"sans-serif\" font-size=\"14\" lengthAdjust=\"spacingAndGlyphs\" textLength=\"7\" x=\"97.5\" y=\"45.6982\">v</text><rect fill=\"#383838\" height=\"12\" style=\"stroke: #F8F8F8; stroke-width: 1.5;\" width=\"12\" x=\"95\" y=\"61\"/><text fill=\"#000000\" font-family=\"sans-serif\" font-size=\"14\" lengthAdjust=\"spacingAndGlyphs\" textLength=\"7\" x=\"311.5\" y=\"309.9951\">v</text><rect fill=\"#383838\" height=\"12\" style=\"stroke: #F8F8F8; stroke-width: 1.5;\" width=\"12\" x=\"309\" y=\"285\"/><text fill=\"#000000\" font-family=\"sans-serif\" font-size=\"14\" lengthAdjust=\"spacingAndGlyphs\" textLength=\"37\" x=\"764.22\" y=\"215.6982\">mass</text><rect fill=\"#383838\" height=\"12\" style=\"stroke: #F8F8F8; stroke-width: 1.5;\" width=\"12\" x=\"776.72\" y=\"231\"/><!--MD5=[05d275557350bfb9b23a4ef7222b4c39]\n",
       "link E3 to E2--><path d=\"M122.33,141 C151.61,141 206.93,141 250.65,141 \" fill=\"none\" id=\"E3-&gt;E2\" style=\"stroke: #383838; stroke-width: 1.0;\"/><polygon fill=\"#FFFFFF\" points=\"270.7,141,251.7,148,251.7,134,270.7,141\" style=\"stroke: #383838; stroke-width: 1.0;\"/><ellipse cx=\"246\" cy=\"146\" fill=\"#383838\" rx=\"2\" ry=\"2\" style=\"stroke: #383838; stroke-width: 1.0;\"/><ellipse cx=\"246\" cy=\"136\" fill=\"#383838\" rx=\"2\" ry=\"2\" style=\"stroke: #383838; stroke-width: 1.0;\"/><!--MD5=[ae660f5ecd7ddb04a8913625960940af]\n",
       "link E12 to E7--><path d=\"M399.23,367.59 C433.29,358.19 472.11,344.43 504,325 C515.27,318.13 513.23,309.98 525,304 C533.37,299.75 542.78,296.81 552.17,294.79 \" fill=\"none\" id=\"E12-&gt;E7\" style=\"stroke: #383838; stroke-width: 1.0;\"/><polygon fill=\"#FFFFFF\" points=\"552.17,294.79,535.0671,305.6294,532.1228,291.9425,552.17,294.79\" style=\"stroke: #383838; stroke-width: 1.0;\"/><ellipse cx=\"529.074\" cy=\"304.8729\" fill=\"#383838\" rx=\"2\" ry=\"2\" style=\"stroke: #383838; stroke-width: 1.0;\"/><ellipse cx=\"526.9709\" cy=\"295.0965\" fill=\"#383838\" rx=\"2\" ry=\"2\" style=\"stroke: #383838; stroke-width: 1.0;\"/><!--MD5=[94adabc162ce7e41b39f13be14fbaeb3]\n",
       "reverse link E11 to E12--><path d=\"M183.59,385 C199.02,385 215.18,385 230.67,385 \" fill=\"none\" id=\"E11&lt;-E12\" style=\"stroke: #383838; stroke-width: 1.0;\"/><polygon fill=\"#383838\" points=\"170.25,385,176.25,389,182.25,385,176.25,381,170.25,385\" style=\"stroke: #383838; stroke-width: 1.0;\"/><!--MD5=[e2a9ac97dcd3257bb5342dae06547bad]\n",
       "link E12 to E13--><path d=\"M399.04,385 C438.61,385 485.84,385 525.42,385 \" fill=\"none\" id=\"E12-&gt;E13\" style=\"stroke: #383838; stroke-width: 1.0;\"/><polygon fill=\"#383838\" points=\"533.75,385,525.75,382,525.75,388,533.75,385\" style=\"stroke: #383838; stroke-width: 1.0;\"/><text fill=\"#000000\" font-family=\"sans-serif\" font-size=\"13\" lengthAdjust=\"spacingAndGlyphs\" textLength=\"73\" x=\"430\" y=\"381.0669\">«objective»</text><!--MD5=[fbedd4865643f6c81c93d5ba344cd01a]\n",
       "@startuml\r\n",
       "left to right direction\r\n",
       "skinparam monochrome true\r\n",
       "skinparam classbackgroundcolor white\r\n",
       "skinparam shadowing false\r\n",
       "skinparam wrapWidth 300\r\n",
       "hide circle\r\n",
       "\r\n",
       "package \"AnalysisTest\" as E1   {\r\n",
       "comp def \"V\" as E2  <<(T,blue)part def>> {\r\n",
       "m: DataValue\r\n",
       "}\r\n",
       "comp usage \"vv: V\" as E3  <<(T,blue)part>> {\r\n",
       "}\r\n",
       "comp def \"AnalysisObjective\" as E4  <<(T,blue)requirement def>> {\r\n",
       "...\r\n",
       "- -\r\n",
       "}\r\n",
       "rec def \"AnalysisCase\" as E5 {\r\n",
       "portin \"v\" as E6  \r\n",
       "}\r\n",
       "\r\n",
       "rec def \"AnalysisPlan\" as E7 {\r\n",
       "portin \"v\" as E8  \r\n",
       "rec usage \"analysisCase\" as E9 {\r\n",
       "portout \"mass\" as E10  \r\n",
       "}\r\n",
       "\r\n",
       "}\r\n",
       "\r\n",
       "comp usage \"analysisContext: Part\" as E11  <<(T,blue)part>> {\r\n",
       "}\r\n",
       "comp usage \"analysisPlan: AnalysisPlan\" as E12 <<analysis>> {\r\n",
       "- -references- -\r\n",
       "v: V= vv; \\n//:>>AnalysisPlan::v// \r\n",
       "}\r\n",
       "comp usage \"obj: RequirementCheck\" as E13  <<(T,blue)requirement>> {\r\n",
       "}\r\n",
       "E3 - -:|> E2\r\n",
       "E12 - -:|> E7\r\n",
       "E11 *- - E12\r\n",
       "E12 - ->> E13 : <<objective>>\r\n",
       "}\r\n",
       "@enduml\r\n",
       "\n",
       "PlantUML version 1.2020.13(Sat Jun 13 12:26:38 UTC 2020)\n",
       "(EPL source distribution)\n",
       "Java Runtime: OpenJDK Runtime Environment\n",
       "JVM: OpenJDK 64-Bit Server VM\n",
       "Default Encoding: UTF-8\n",
       "Language: en\n",
       "Country: null\n",
       "--></g></svg>"
      ]
     },
     "execution_count": 16,
     "metadata": {},
     "output_type": "execute_result"
    }
   ],
   "source": [
    "%viz --style=\"LR\" --view=\"Default\" \"AnalysisTest\""
   ]
  },
  {
   "cell_type": "code",
   "execution_count": 17,
   "id": "dominican-easter",
   "metadata": {
    "execution": {
     "iopub.execute_input": "2021-03-26T09:41:45.174149Z",
     "iopub.status.busy": "2021-03-26T09:41:45.173759Z",
     "iopub.status.idle": "2021-03-26T09:41:45.292666Z",
     "shell.execute_reply": "2021-03-26T09:41:45.292241Z"
    }
   },
   "outputs": [
    {
     "data": {
      "image/svg+xml": [
       "<?xml version=\"1.0\" encoding=\"UTF-8\" standalone=\"no\"?><svg xmlns=\"http://www.w3.org/2000/svg\" xmlns:xlink=\"http://www.w3.org/1999/xlink\" contentScriptType=\"application/ecmascript\" contentStyleType=\"text/css\" height=\"314px\" preserveAspectRatio=\"none\" style=\"width:1787px;height:314px;\" version=\"1.1\" viewBox=\"0 0 1787 314\" width=\"1787px\" zoomAndPan=\"magnify\"><defs/><g><!--MD5=[fbc87193dbaf4d95561dea2c320d4a47]\n",
       "cluster E1--><polygon fill=\"#FFFFFF\" points=\"16,6,122,6,129,28.2969,1765,28.2969,1765,302,16,302,16,6\" style=\"stroke: #000000; stroke-width: 1.5;\"/><line style=\"stroke: #000000; stroke-width: 1.5;\" x1=\"16\" x2=\"129\" y1=\"28.2969\" y2=\"28.2969\"/><text fill=\"#000000\" font-family=\"sans-serif\" font-size=\"14\" font-weight=\"bold\" lengthAdjust=\"spacingAndGlyphs\" textLength=\"100\" x=\"20\" y=\"20.9951\">AnalysisTest</text><!--MD5=[b4997ac47864f28c2f74865a473b2911]\n",
       "class E2--><rect fill=\"#FFFFFF\" height=\"58.7422\" id=\"E2\" style=\"stroke: #383838; stroke-width: 1.5;\" width=\"88\" x=\"1444.5\" y=\"71.5\"/><text fill=\"#000000\" font-family=\"sans-serif\" font-size=\"12\" font-style=\"italic\" lengthAdjust=\"spacingAndGlyphs\" textLength=\"64\" x=\"1456.5\" y=\"87.6387\">«part def»</text><text fill=\"#000000\" font-family=\"sans-serif\" font-size=\"12\" lengthAdjust=\"spacingAndGlyphs\" textLength=\"8\" x=\"1484.5\" y=\"101.6074\">V</text><line style=\"stroke: #383838; stroke-width: 1.5;\" x1=\"1445.5\" x2=\"1531.5\" y1=\"109.4375\" y2=\"109.4375\"/><text fill=\"#000000\" font-family=\"sans-serif\" font-size=\"11\" lengthAdjust=\"spacingAndGlyphs\" textLength=\"76\" x=\"1450.5\" y=\"123.6479\">m: DataValue</text><!--MD5=[09b614a08d8cba4a07c9adeb5e0fee81]\n",
       "class E3--><rect fill=\"#FFFFFF\" height=\"45.9375\" id=\"E3\" rx=\"10\" ry=\"10\" style=\"stroke: #383838; stroke-width: 1.5;\" width=\"42\" x=\"1180\" y=\"78\"/><text fill=\"#000000\" font-family=\"sans-serif\" font-size=\"12\" font-style=\"italic\" lengthAdjust=\"spacingAndGlyphs\" textLength=\"40\" x=\"1181\" y=\"94.1387\">«part»</text><text fill=\"#000000\" font-family=\"sans-serif\" font-size=\"12\" lengthAdjust=\"spacingAndGlyphs\" textLength=\"28\" x=\"1187\" y=\"108.1074\">vv: V</text><line style=\"stroke: #383838; stroke-width: 1.5;\" x1=\"1181\" x2=\"1221\" y1=\"115.9375\" y2=\"115.9375\"/><!--MD5=[ebbe1d658d1005bcc118a6aa81145e00]\n",
       "class E4--><rect fill=\"#FFFFFF\" height=\"66.7422\" id=\"E4\" style=\"stroke: #383838; stroke-width: 1.5;\" width=\"117\" x=\"1632\" y=\"192.5\"/><text fill=\"#000000\" font-family=\"sans-serif\" font-size=\"12\" font-style=\"italic\" lengthAdjust=\"spacingAndGlyphs\" textLength=\"115\" x=\"1633\" y=\"208.6387\">«requirement def»</text><text fill=\"#000000\" font-family=\"sans-serif\" font-size=\"12\" lengthAdjust=\"spacingAndGlyphs\" textLength=\"107\" x=\"1637\" y=\"222.6074\">AnalysisObjective</text><line style=\"stroke: #383838; stroke-width: 1.5;\" x1=\"1633\" x2=\"1748\" y1=\"230.4375\" y2=\"230.4375\"/><text fill=\"#000000\" font-family=\"sans-serif\" font-size=\"11\" lengthAdjust=\"spacingAndGlyphs\" textLength=\"12\" x=\"1638\" y=\"244.6479\">...</text><line style=\"stroke: #383838; stroke-width: 1.0;\" x1=\"1633\" x2=\"1748\" y1=\"251.2422\" y2=\"251.2422\"/><!--MD5=[270fce915f116d4de14055a7c1d9a0f3]\n",
       "class E5--><rect fill=\"#FFFFFF\" height=\"45.9375\" id=\"E5\" style=\"stroke: #383838; stroke-width: 1.5;\" width=\"90\" x=\"1156\" y=\"159\"/><text fill=\"#000000\" font-family=\"sans-serif\" font-size=\"12\" font-style=\"italic\" lengthAdjust=\"spacingAndGlyphs\" textLength=\"88\" x=\"1157\" y=\"175.1387\">«analysis def»</text><text fill=\"#000000\" font-family=\"sans-serif\" font-size=\"12\" lengthAdjust=\"spacingAndGlyphs\" textLength=\"81\" x=\"1160.5\" y=\"189.1074\">AnalysisCase</text><line style=\"stroke: #383838; stroke-width: 1.5;\" x1=\"1157\" x2=\"1245\" y1=\"196.9375\" y2=\"196.9375\"/><!--MD5=[60a26617385b1d2d0262a64233df1f8d]\n",
       "class E6--><rect fill=\"#FFFFFF\" height=\"88.3516\" id=\"E6\" rx=\"10\" ry=\"10\" style=\"stroke: #383838; stroke-width: 1.5;\" width=\"165\" x=\"1406\" y=\"182\"/><text fill=\"#000000\" font-family=\"sans-serif\" font-size=\"12\" font-style=\"italic\" lengthAdjust=\"spacingAndGlyphs\" textLength=\"91\" x=\"1443\" y=\"198.1387\">«requirement»</text><text fill=\"#000000\" font-family=\"sans-serif\" font-size=\"12\" lengthAdjust=\"spacingAndGlyphs\" textLength=\"134\" x=\"1421.5\" y=\"212.1074\">obj: AnalysisObjective</text><line style=\"stroke: #383838; stroke-width: 1.5;\" x1=\"1407\" x2=\"1570\" y1=\"219.9375\" y2=\"219.9375\"/><text fill=\"#000000\" font-family=\"sans-serif\" font-size=\"11\" lengthAdjust=\"spacingAndGlyphs\" textLength=\"130\" x=\"1412\" y=\"250.9526\">subj: Anything= result;</text><text fill=\"#000000\" font-family=\"sans-serif\" font-size=\"11\" font-style=\"italic\" lengthAdjust=\"spacingAndGlyphs\" textLength=\"153\" x=\"1412\" y=\"263.7573\">:&gt;&gt;AnalysisObjective::subj</text><line style=\"stroke: #383838; stroke-width: 1.0;\" x1=\"1407\" x2=\"1457.5\" y1=\"234.3398\" y2=\"234.3398\"/><text fill=\"#000000\" font-family=\"sans-serif\" font-size=\"11\" lengthAdjust=\"spacingAndGlyphs\" textLength=\"62\" x=\"1457.5\" y=\"237.6479\">references</text><line style=\"stroke: #383838; stroke-width: 1.0;\" x1=\"1519.5\" x2=\"1570\" y1=\"234.3398\" y2=\"234.3398\"/><!--MD5=[2156ba9850f5573cc1fc38a6a4b2f02b]\n",
       "class E7--><rect fill=\"#FFFFFF\" height=\"45.9375\" id=\"E7\" style=\"stroke: #383838; stroke-width: 1.5;\" width=\"90\" x=\"564.5\" y=\"122\"/><text fill=\"#000000\" font-family=\"sans-serif\" font-size=\"12\" font-style=\"italic\" lengthAdjust=\"spacingAndGlyphs\" textLength=\"88\" x=\"565.5\" y=\"138.1387\">«analysis def»</text><text fill=\"#000000\" font-family=\"sans-serif\" font-size=\"12\" lengthAdjust=\"spacingAndGlyphs\" textLength=\"77\" x=\"571\" y=\"152.1074\">AnalysisPlan</text><line style=\"stroke: #383838; stroke-width: 1.5;\" x1=\"565.5\" x2=\"653.5\" y1=\"159.9375\" y2=\"159.9375\"/><!--MD5=[b9389687b975829384b498ac4b7476b2]\n",
       "class E8--><rect fill=\"#FFFFFF\" height=\"66.7422\" id=\"E8\" rx=\"10\" ry=\"10\" style=\"stroke: #383838; stroke-width: 1.5;\" width=\"151\" x=\"832.5\" y=\"99.5\"/><text fill=\"#000000\" font-family=\"sans-serif\" font-size=\"12\" font-style=\"italic\" lengthAdjust=\"spacingAndGlyphs\" textLength=\"91\" x=\"862.5\" y=\"115.6387\">«requirement»</text><text fill=\"#000000\" font-family=\"sans-serif\" font-size=\"12\" lengthAdjust=\"spacingAndGlyphs\" textLength=\"145\" x=\"835.5\" y=\"129.6074\">obj: RequirementCheck</text><line style=\"stroke: #383838; stroke-width: 1.5;\" x1=\"833.5\" x2=\"982.5\" y1=\"137.4375\" y2=\"137.4375\"/><text fill=\"#000000\" font-family=\"sans-serif\" font-size=\"11\" lengthAdjust=\"spacingAndGlyphs\" textLength=\"12\" x=\"838.5\" y=\"151.6479\">...</text><line style=\"stroke: #383838; stroke-width: 1.0;\" x1=\"833.5\" x2=\"982.5\" y1=\"158.2422\" y2=\"158.2422\"/><!--MD5=[fd4143e9d270a159db93a4ea2a975926]\n",
       "class E9--><rect fill=\"#FFFFFF\" height=\"45.9375\" id=\"E9\" rx=\"10\" ry=\"10\" style=\"stroke: #383838; stroke-width: 1.5;\" width=\"176\" x=\"820\" y=\"202\"/><text fill=\"#000000\" font-family=\"sans-serif\" font-size=\"12\" font-style=\"italic\" lengthAdjust=\"spacingAndGlyphs\" textLength=\"64\" x=\"876\" y=\"218.1387\">«analysis»</text><text fill=\"#000000\" font-family=\"sans-serif\" font-size=\"12\" lengthAdjust=\"spacingAndGlyphs\" textLength=\"170\" x=\"823\" y=\"232.1074\">analysisCase: AnalysisCase</text><line style=\"stroke: #383838; stroke-width: 1.5;\" x1=\"821\" x2=\"995\" y1=\"239.9375\" y2=\"239.9375\"/><!--MD5=[96f4274e9e20536e775497830990834d]\n",
       "class E10--><rect fill=\"#FFFFFF\" height=\"45.9375\" id=\"E10\" rx=\"10\" ry=\"10\" style=\"stroke: #383838; stroke-width: 1.5;\" width=\"140\" x=\"1131\" y=\"240\"/><text fill=\"#000000\" font-family=\"sans-serif\" font-size=\"12\" font-style=\"italic\" lengthAdjust=\"spacingAndGlyphs\" textLength=\"91\" x=\"1155.5\" y=\"256.1387\">«requirement»</text><text fill=\"#000000\" font-family=\"sans-serif\" font-size=\"12\" lengthAdjust=\"spacingAndGlyphs\" textLength=\"134\" x=\"1134\" y=\"270.1074\">obj: AnalysisObjective</text><line style=\"stroke: #383838; stroke-width: 1.5;\" x1=\"1132\" x2=\"1270\" y1=\"277.9375\" y2=\"277.9375\"/><!--MD5=[1dd1bfd58a279cf63c5f349dbc8fc6a1]\n",
       "class E11--><rect fill=\"#FFFFFF\" height=\"45.9375\" id=\"E11\" rx=\"10\" ry=\"10\" style=\"stroke: #383838; stroke-width: 1.5;\" width=\"138\" x=\"32\" y=\"82\"/><text fill=\"#000000\" font-family=\"sans-serif\" font-size=\"12\" font-style=\"italic\" lengthAdjust=\"spacingAndGlyphs\" textLength=\"40\" x=\"81\" y=\"98.1387\">«part»</text><text fill=\"#000000\" font-family=\"sans-serif\" font-size=\"12\" lengthAdjust=\"spacingAndGlyphs\" textLength=\"132\" x=\"35\" y=\"112.1074\">analysisContext: Part</text><line style=\"stroke: #383838; stroke-width: 1.5;\" x1=\"33\" x2=\"169\" y1=\"119.9375\" y2=\"119.9375\"/><!--MD5=[49a0ec8f00dab7302a31f22d0f0fe584]\n",
       "class E12--><rect fill=\"#FFFFFF\" height=\"88.3516\" id=\"E12\" rx=\"10\" ry=\"10\" style=\"stroke: #383838; stroke-width: 1.5;\" width=\"168\" x=\"231\" y=\"61\"/><text fill=\"#000000\" font-family=\"sans-serif\" font-size=\"12\" font-style=\"italic\" lengthAdjust=\"spacingAndGlyphs\" textLength=\"64\" x=\"283\" y=\"77.1387\">«analysis»</text><text fill=\"#000000\" font-family=\"sans-serif\" font-size=\"12\" lengthAdjust=\"spacingAndGlyphs\" textLength=\"162\" x=\"234\" y=\"91.1074\">analysisPlan: AnalysisPlan</text><line style=\"stroke: #383838; stroke-width: 1.5;\" x1=\"232\" x2=\"398\" y1=\"98.9375\" y2=\"98.9375\"/><text fill=\"#000000\" font-family=\"sans-serif\" font-size=\"11\" lengthAdjust=\"spacingAndGlyphs\" textLength=\"50\" x=\"237\" y=\"129.9526\">v: V= vv;</text><text fill=\"#000000\" font-family=\"sans-serif\" font-size=\"11\" font-style=\"italic\" lengthAdjust=\"spacingAndGlyphs\" textLength=\"107\" x=\"237\" y=\"142.7573\">:&gt;&gt;AnalysisPlan::v</text><line style=\"stroke: #383838; stroke-width: 1.0;\" x1=\"232\" x2=\"284\" y1=\"113.3398\" y2=\"113.3398\"/><text fill=\"#000000\" font-family=\"sans-serif\" font-size=\"11\" lengthAdjust=\"spacingAndGlyphs\" textLength=\"62\" x=\"284\" y=\"116.6479\">references</text><line style=\"stroke: #383838; stroke-width: 1.0;\" x1=\"346\" x2=\"398\" y1=\"113.3398\" y2=\"113.3398\"/><!--MD5=[ee3c913d1a06f366521f9ef512b67efe]\n",
       "class E13--><rect fill=\"#FFFFFF\" height=\"45.9375\" id=\"E13\" rx=\"10\" ry=\"10\" style=\"stroke: #383838; stroke-width: 1.5;\" width=\"151\" x=\"534\" y=\"41\"/><text fill=\"#000000\" font-family=\"sans-serif\" font-size=\"12\" font-style=\"italic\" lengthAdjust=\"spacingAndGlyphs\" textLength=\"91\" x=\"564\" y=\"57.1387\">«requirement»</text><text fill=\"#000000\" font-family=\"sans-serif\" font-size=\"12\" lengthAdjust=\"spacingAndGlyphs\" textLength=\"145\" x=\"537\" y=\"71.1074\">obj: RequirementCheck</text><line style=\"stroke: #383838; stroke-width: 1.5;\" x1=\"535\" x2=\"684\" y1=\"78.9375\" y2=\"78.9375\"/><!--MD5=[05d275557350bfb9b23a4ef7222b4c39]\n",
       "link E3 to E2--><path d=\"M1222.08,101 C1263.45,101 1359.71,101 1424.21,101 \" fill=\"none\" id=\"E3-&gt;E2\" style=\"stroke: #383838; stroke-width: 1.0;\"/><polygon fill=\"#FFFFFF\" points=\"1444.33,101,1425.33,108,1425.33,94,1444.33,101\" style=\"stroke: #383838; stroke-width: 1.0;\"/><ellipse cx=\"1419.63\" cy=\"106\" fill=\"#383838\" rx=\"2\" ry=\"2\" style=\"stroke: #383838; stroke-width: 1.0;\"/><ellipse cx=\"1419.63\" cy=\"96\" fill=\"#383838\" rx=\"2\" ry=\"2\" style=\"stroke: #383838; stroke-width: 1.0;\"/><!--MD5=[15ebcb19ae302d9b601edb458606d402]\n",
       "link E5 to E2--><path d=\"M1246.3,169.43 C1298.49,154.62 1384.93,130.1 1438.92,114.78 \" fill=\"none\" id=\"E5-&gt;E2\" style=\"stroke: #383838; stroke-width: 1.0; stroke-dasharray: 7.0,7.0;\"/><polygon fill=\"#383838\" points=\"1444.04,113.33,1434.2923,111.922,1439.2276,114.6866,1436.4629,119.6219,1444.04,113.33\" style=\"stroke: #383838; stroke-width: 1.0;\"/><text fill=\"#000000\" font-family=\"sans-serif\" font-size=\"13\" lengthAdjust=\"spacingAndGlyphs\" textLength=\"62\" x=\"1307.5\" y=\"131.0669\">«subject»</text><!--MD5=[9120cf2e5df3bff93db8f754bbbc09b4]\n",
       "link E5 to E6--><path d=\"M1246.3,188.83 C1286.66,195.05 1347.5,204.42 1397.98,212.2 \" fill=\"none\" id=\"E5-&gt;E6\" style=\"stroke: #383838; stroke-width: 1.0;\"/><polygon fill=\"#383838\" points=\"1405.99,213.44,1398.5449,209.2483,1397.6245,215.1773,1405.99,213.44\" style=\"stroke: #383838; stroke-width: 1.0;\"/><text fill=\"#000000\" font-family=\"sans-serif\" font-size=\"13\" lengthAdjust=\"spacingAndGlyphs\" textLength=\"73\" x=\"1302\" y=\"194.0669\">«objective»</text><!--MD5=[f667431f98296947986a1a7595a31603]\n",
       "link E6 to E4--><path d=\"M1571.14,226 C1584.53,226 1598.39,226 1611.69,226 \" fill=\"none\" id=\"E6-&gt;E4\" style=\"stroke: #383838; stroke-width: 1.0;\"/><polygon fill=\"#FFFFFF\" points=\"1631.99,226,1612.99,233,1612.99,219,1631.99,226\" style=\"stroke: #383838; stroke-width: 1.0;\"/><ellipse cx=\"1607.29\" cy=\"231\" fill=\"#383838\" rx=\"2\" ry=\"2\" style=\"stroke: #383838; stroke-width: 1.0;\"/><ellipse cx=\"1607.29\" cy=\"221\" fill=\"#383838\" rx=\"2\" ry=\"2\" style=\"stroke: #383838; stroke-width: 1.0;\"/><!--MD5=[583832df87f4419a098336a29a52fa00]\n",
       "link E7 to E2--><path d=\"M654.74,128.5 C696.65,113.63 761.7,92.54 820,82 C1017.48,46.3 1071.2,41.25 1271,60 C1329.5,65.49 1395.73,79.15 1439.36,89.2 \" fill=\"none\" id=\"E7-&gt;E2\" style=\"stroke: #383838; stroke-width: 1.0; stroke-dasharray: 7.0,7.0;\"/><polygon fill=\"#383838\" points=\"1444.3,90.35,1436.435,84.422,1439.429,89.2215,1434.6294,92.2155,1444.3,90.35\" style=\"stroke: #383838; stroke-width: 1.0;\"/><text fill=\"#000000\" font-family=\"sans-serif\" font-size=\"13\" lengthAdjust=\"spacingAndGlyphs\" textLength=\"62\" x=\"1032.5\" y=\"46.0669\">«subject»</text><!--MD5=[79bc8f324ef4d02c541433f2e6e513c3]\n",
       "link E7 to E8--><path d=\"M654.57,143.22 C699.24,141.41 769.42,138.57 824.45,136.34 \" fill=\"none\" id=\"E7-&gt;E8\" style=\"stroke: #383838; stroke-width: 1.0;\"/><polygon fill=\"#383838\" points=\"832.46,136.02,824.3436,133.3508,824.5898,139.3458,832.46,136.02\" style=\"stroke: #383838; stroke-width: 1.0;\"/><text fill=\"#000000\" font-family=\"sans-serif\" font-size=\"13\" lengthAdjust=\"spacingAndGlyphs\" textLength=\"73\" x=\"716\" y=\"134.0669\">«objective»</text><!--MD5=[bfc3ddf2e613be37104f658f09af896c]\n",
       "link E9 to E5--><path d=\"M996.31,212.1 C1041.18,205.47 1094.88,197.53 1135.88,191.47 \" fill=\"none\" id=\"E9-&gt;E5\" style=\"stroke: #383838; stroke-width: 1.0;\"/><polygon fill=\"#FFFFFF\" points=\"1155.76,188.54,1137.9897,198.2465,1135.9398,184.3974,1155.76,188.54\" style=\"stroke: #383838; stroke-width: 1.0;\"/><ellipse cx=\"1132.0583\" cy=\"197.1027\" fill=\"#383838\" rx=\"2\" ry=\"2\" style=\"stroke: #383838; stroke-width: 1.0;\"/><ellipse cx=\"1130.5941\" cy=\"187.2104\" fill=\"#383838\" rx=\"2\" ry=\"2\" style=\"stroke: #383838; stroke-width: 1.0;\"/><!--MD5=[e4a10ef82d0e328e31cac39a31e58dda]\n",
       "reverse link E7 to E9--><path d=\"M667.25,160.31 C710.91,172.09 771.96,188.56 821.53,201.94 \" fill=\"none\" id=\"E7&lt;-E9\" style=\"stroke: #383838; stroke-width: 1.0;\"/><polygon fill=\"#383838\" points=\"654.57,156.89,659.3161,162.3191,666.1529,160.0262,661.4069,154.5971,654.57,156.89\" style=\"stroke: #383838; stroke-width: 1.0;\"/><!--MD5=[35e5f1cbde42fa304a029880aa2bc7f2]\n",
       "link E9 to E10--><path d=\"M996.31,236.4 C1036.48,241.65 1083.73,247.82 1122.61,252.89 \" fill=\"none\" id=\"E9-&gt;E10\" style=\"stroke: #383838; stroke-width: 1.0;\"/><polygon fill=\"#383838\" points=\"1130.77,253.96,1123.2295,249.9424,1122.4471,255.8911,1130.77,253.96\" style=\"stroke: #383838; stroke-width: 1.0;\"/><text fill=\"#000000\" font-family=\"sans-serif\" font-size=\"13\" lengthAdjust=\"spacingAndGlyphs\" textLength=\"73\" x=\"1027\" y=\"237.0669\">«objective»</text><!--MD5=[198716bf12f04006f5c20d61bde6d80d]\n",
       "link E10 to E6--><path d=\"M1271.14,256.9 C1303.11,253.81 1341.55,249.71 1376,245 C1379.34,244.54 1382.74,244.06 1386.17,243.56 \" fill=\"none\" id=\"E10-&gt;E6\" style=\"stroke: #383838; stroke-width: 1.0;\"/><polygon fill=\"#FFFFFF\" points=\"1406,240.52,1388.279,250.3161,1386.1592,236.4776,1406,240.52\" style=\"stroke: #383838; stroke-width: 1.0;\"/><line style=\"stroke: #383838; stroke-width: 2.0;\" x1=\"1384.5228\" x2=\"1382.403\" y1=\"250.8915\" y2=\"237.0529\"/><!--MD5=[ae660f5ecd7ddb04a8913625960940af]\n",
       "link E12 to E7--><path d=\"M399.04,116.36 C445.09,122.65 501.49,130.37 544.17,136.2 \" fill=\"none\" id=\"E12-&gt;E7\" style=\"stroke: #383838; stroke-width: 1.0;\"/><polygon fill=\"#FFFFFF\" points=\"564.2,138.94,544.4258,143.2966,546.3258,129.4261,564.2,138.94\" style=\"stroke: #383838; stroke-width: 1.0;\"/><ellipse cx=\"539.0499\" cy=\"140.5415\" fill=\"#383838\" rx=\"2\" ry=\"2\" style=\"stroke: #383838; stroke-width: 1.0;\"/><ellipse cx=\"540.4071\" cy=\"130.634\" fill=\"#383838\" rx=\"2\" ry=\"2\" style=\"stroke: #383838; stroke-width: 1.0;\"/><!--MD5=[94adabc162ce7e41b39f13be14fbaeb3]\n",
       "reverse link E11 to E12--><path d=\"M183.59,105 C199.02,105 215.18,105 230.67,105 \" fill=\"none\" id=\"E11&lt;-E12\" style=\"stroke: #383838; stroke-width: 1.0;\"/><polygon fill=\"#383838\" points=\"170.25,105,176.25,109,182.25,105,176.25,101,170.25,105\" style=\"stroke: #383838; stroke-width: 1.0;\"/><!--MD5=[e2a9ac97dcd3257bb5342dae06547bad]\n",
       "link E12 to E13--><path d=\"M399.04,93.36 C438.61,87.81 485.84,81.19 525.42,75.64 \" fill=\"none\" id=\"E12-&gt;E13\" style=\"stroke: #383838; stroke-width: 1.0;\"/><polygon fill=\"#383838\" points=\"533.75,74.48,525.4099,72.6247,526.2464,78.5661,533.75,74.48\" style=\"stroke: #383838; stroke-width: 1.0;\"/><text fill=\"#000000\" font-family=\"sans-serif\" font-size=\"13\" lengthAdjust=\"spacingAndGlyphs\" textLength=\"73\" x=\"430\" y=\"76.0669\">«objective»</text><!--MD5=[e82a5b7d2954b0c4dc42c3286eb876ec]\n",
       "@startuml\r\n",
       "left to right direction\r\n",
       "skinparam monochrome true\r\n",
       "skinparam classbackgroundcolor white\r\n",
       "skinparam shadowing false\r\n",
       "skinparam wrapWidth 300\r\n",
       "hide circle\r\n",
       "\r\n",
       "package \"AnalysisTest\" as E1   {\r\n",
       "comp def \"V\" as E2  <<(T,blue)part def>> {\r\n",
       "m: DataValue\r\n",
       "}\r\n",
       "comp usage \"vv: V\" as E3  <<(T,blue)part>> {\r\n",
       "}\r\n",
       "comp def \"AnalysisObjective\" as E4  <<(T,blue)requirement def>> {\r\n",
       "...\r\n",
       "- -\r\n",
       "}\r\n",
       "comp def \"AnalysisCase\" as E5 <<analysis def>> {\r\n",
       "}\r\n",
       "comp usage \"obj: AnalysisObjective\" as E6  <<(T,blue)requirement>> {\r\n",
       "- -references- -\r\n",
       "subj: Anything= result; \\n//:>>AnalysisObjective::subj// \r\n",
       "}\r\n",
       "comp def \"AnalysisPlan\" as E7 <<analysis def>> {\r\n",
       "}\r\n",
       "comp usage \"obj: RequirementCheck\" as E8  <<(T,blue)requirement>> {\r\n",
       "...\r\n",
       "- -\r\n",
       "}\r\n",
       "comp usage \"analysisCase: AnalysisCase\" as E9 <<analysis>> {\r\n",
       "}\r\n",
       "comp usage \"obj: AnalysisObjective\" as E10  <<(T,blue)requirement>> {\r\n",
       "}\r\n",
       "comp usage \"analysisContext: Part\" as E11  <<(T,blue)part>> {\r\n",
       "}\r\n",
       "comp usage \"analysisPlan: AnalysisPlan\" as E12 <<analysis>> {\r\n",
       "- -references- -\r\n",
       "v: V= vv; \\n//:>>AnalysisPlan::v// \r\n",
       "}\r\n",
       "comp usage \"obj: RequirementCheck\" as E13  <<(T,blue)requirement>> {\r\n",
       "}\r\n",
       "E3 - -:|> E2\r\n",
       "E5 ..> E2 : <<subject>>\r\n",
       "E5 - ->> E6 : <<objective>>\r\n",
       "E6 - -:|> E4\r\n",
       "E7 ..> E2 : <<subject>>\r\n",
       "E7 - ->> E8 : <<objective>>\r\n",
       "E9 - -:|> E5\r\n",
       "E7 *- - E9\r\n",
       "E9 - ->> E10 : <<objective>>\r\n",
       "E10 - -||> E6\r\n",
       "E12 - -:|> E7\r\n",
       "E11 *- - E12\r\n",
       "E12 - ->> E13 : <<objective>>\r\n",
       "}\r\n",
       "@enduml\r\n",
       "\n",
       "PlantUML version 1.2020.13(Sat Jun 13 12:26:38 UTC 2020)\n",
       "(EPL source distribution)\n",
       "Java Runtime: OpenJDK Runtime Environment\n",
       "JVM: OpenJDK 64-Bit Server VM\n",
       "Default Encoding: UTF-8\n",
       "Language: en\n",
       "Country: null\n",
       "--></g></svg>"
      ]
     },
     "execution_count": 17,
     "metadata": {},
     "output_type": "execute_result"
    }
   ],
   "source": [
    "%viz --style=\"LR\" --view=\"Tree\" \"AnalysisTest\""
   ]
  },
  {
   "cell_type": "code",
   "execution_count": 18,
   "id": "governing-salmon",
   "metadata": {
    "execution": {
     "iopub.execute_input": "2021-03-26T09:41:45.344443Z",
     "iopub.status.busy": "2021-03-26T09:41:45.343707Z",
     "iopub.status.idle": "2021-03-26T09:41:45.346612Z",
     "shell.execute_reply": "2021-03-26T09:41:45.346296Z"
    }
   },
   "outputs": [
    {
     "data": {
      "text/plain": [
       "java.lang.IllegalArgumentException: Invalid View: State View candidates are: Default Tree StateMachine Interconnection Activity Sequence MIXED \n",
       "\tat org.omg.sysml.plantuml.SysML2PlantUMLSvc.setView(SysML2PlantUMLSvc.java:63)\n",
       "\tat org.omg.sysml.interactive.SysMLInteractive.viz(SysMLInteractive.java:286)\n",
       "\tat org.omg.sysml.jupyter.kernel.magic.Viz.viz(Viz.java:47)\n",
       "\tat jdk.internal.reflect.GeneratedMethodAccessor13.invoke(Unknown Source)\n",
       "\tat java.base/jdk.internal.reflect.DelegatingMethodAccessorImpl.invoke(DelegatingMethodAccessorImpl.java:43)\n",
       "\tat java.base/java.lang.reflect.Method.invoke(Method.java:568)\n",
       "\tat io.github.spencerpark.jupyter.kernel.magic.registry.Magics.invoke(Magics.java:89)\n",
       "\tat io.github.spencerpark.jupyter.kernel.magic.registry.Magics.access$000(Magics.java:8)\n",
       "\tat io.github.spencerpark.jupyter.kernel.magic.registry.Magics$LineReflectionMagicFunction.execute(Magics.java:149)\n",
       "\tat io.github.spencerpark.jupyter.kernel.magic.registry.Magics.applyLineMagic(Magics.java:26)\n",
       "\tat org.omg.sysml.jupyter.kernel.SysMLKernel.eval(SysMLKernel.java:76)\n",
       "\tat io.github.spencerpark.jupyter.kernel.BaseKernel.handleExecuteRequest(BaseKernel.java:334)\n",
       "\tat io.github.spencerpark.jupyter.channels.ShellChannel.lambda$bind$0(ShellChannel.java:64)\n",
       "\tat io.github.spencerpark.jupyter.channels.Loop.lambda$new$0(Loop.java:21)\n",
       "\tat io.github.spencerpark.jupyter.channels.Loop.run(Loop.java:78)\n"
      ]
     },
     "execution_count": 18,
     "metadata": {},
     "output_type": "execute_result"
    }
   ],
   "source": [
    "%viz --style=\"LR\" --view=\"State\" \"AnalysisTest\""
   ]
  },
  {
   "cell_type": "code",
   "execution_count": 19,
   "id": "speaking-equilibrium",
   "metadata": {
    "execution": {
     "iopub.execute_input": "2021-03-26T09:41:45.397489Z",
     "iopub.status.busy": "2021-03-26T09:41:45.397169Z",
     "iopub.status.idle": "2021-03-26T09:41:45.436788Z",
     "shell.execute_reply": "2021-03-26T09:41:45.435562Z"
    }
   },
   "outputs": [
    {
     "data": {
      "image/svg+xml": [
       "<?xml version=\"1.0\" encoding=\"UTF-8\" standalone=\"no\"?><svg xmlns=\"http://www.w3.org/2000/svg\" xmlns:xlink=\"http://www.w3.org/1999/xlink\" contentScriptType=\"application/ecmascript\" contentStyleType=\"text/css\" height=\"615px\" preserveAspectRatio=\"none\" style=\"width:234px;height:615px;\" version=\"1.1\" viewBox=\"0 0 234 615\" width=\"234px\" zoomAndPan=\"magnify\"><defs/><g><!--MD5=[fbc87193dbaf4d95561dea2c320d4a47]\n",
       "cluster E1--><polygon fill=\"#FFFFFF\" points=\"16,6,122,6,129,28.2969,212,28.2969,212,603,16,603,16,6\" style=\"stroke: #000000; stroke-width: 1.5;\"/><line style=\"stroke: #000000; stroke-width: 1.5;\" x1=\"16\" x2=\"129\" y1=\"28.2969\" y2=\"28.2969\"/><text fill=\"#000000\" font-family=\"sans-serif\" font-size=\"14\" font-weight=\"bold\" lengthAdjust=\"spacingAndGlyphs\" textLength=\"100\" x=\"20\" y=\"20.9951\">AnalysisTest</text><!--MD5=[e4f7fae6ed58524ba242bb0b0d3be6b7]\n",
       "cluster E2--><rect fill=\"#FFFFFF\" height=\"117\" style=\"stroke: #000000; stroke-width: 1.5;\" width=\"144\" x=\"42\" y=\"49\"/><text fill=\"#000000\" font-family=\"sans-serif\" font-size=\"14\" font-style=\"italic\" lengthAdjust=\"spacingAndGlyphs\" textLength=\"71\" x=\"78.5\" y=\"63.9951\">«part def»</text><text fill=\"#000000\" font-family=\"sans-serif\" font-size=\"14\" font-weight=\"bold\" lengthAdjust=\"spacingAndGlyphs\" textLength=\"11\" x=\"108.5\" y=\"80.292\">V</text><!--MD5=[270fce915f116d4de14055a7c1d9a0f3]\n",
       "class E5--><rect fill=\"#FFFFFF\" height=\"53.9375\" id=\"E5\" style=\"stroke: #383838; stroke-width: 1.5;\" width=\"117\" x=\"55.5\" y=\"185\"/><text fill=\"#000000\" font-family=\"sans-serif\" font-size=\"12\" font-style=\"italic\" lengthAdjust=\"spacingAndGlyphs\" textLength=\"115\" x=\"56.5\" y=\"201.1387\">«requirement def»</text><text fill=\"#000000\" font-family=\"sans-serif\" font-size=\"12\" lengthAdjust=\"spacingAndGlyphs\" textLength=\"107\" x=\"60.5\" y=\"215.1074\">AnalysisObjective</text><line style=\"stroke: #383838; stroke-width: 1.5;\" x1=\"56.5\" x2=\"171.5\" y1=\"222.9375\" y2=\"222.9375\"/><line style=\"stroke: #383838; stroke-width: 1.5;\" x1=\"56.5\" x2=\"171.5\" y1=\"230.9375\" y2=\"230.9375\"/><!--MD5=[60a26617385b1d2d0262a64233df1f8d]\n",
       "class E6--><rect fill=\"#FFFFFF\" height=\"53.9375\" id=\"E6\" style=\"stroke: #383838; stroke-width: 1.5;\" width=\"121\" x=\"53.5\" y=\"274\"/><text fill=\"#000000\" font-family=\"sans-serif\" font-size=\"12\" font-style=\"italic\" lengthAdjust=\"spacingAndGlyphs\" textLength=\"119\" x=\"54.5\" y=\"290.1387\">«analysisCase def»</text><text fill=\"#000000\" font-family=\"sans-serif\" font-size=\"12\" lengthAdjust=\"spacingAndGlyphs\" textLength=\"81\" x=\"73.5\" y=\"304.1074\">AnalysisCase</text><line style=\"stroke: #383838; stroke-width: 1.5;\" x1=\"54.5\" x2=\"173.5\" y1=\"311.9375\" y2=\"311.9375\"/><line style=\"stroke: #383838; stroke-width: 1.5;\" x1=\"54.5\" x2=\"173.5\" y1=\"319.9375\" y2=\"319.9375\"/><!--MD5=[2156ba9850f5573cc1fc38a6a4b2f02b]\n",
       "class E7--><rect fill=\"#FFFFFF\" height=\"53.9375\" id=\"E7\" style=\"stroke: #383838; stroke-width: 1.5;\" width=\"121\" x=\"53.5\" y=\"363\"/><text fill=\"#000000\" font-family=\"sans-serif\" font-size=\"12\" font-style=\"italic\" lengthAdjust=\"spacingAndGlyphs\" textLength=\"119\" x=\"54.5\" y=\"379.1387\">«analysisCase def»</text><text fill=\"#000000\" font-family=\"sans-serif\" font-size=\"12\" lengthAdjust=\"spacingAndGlyphs\" textLength=\"77\" x=\"75.5\" y=\"393.1074\">AnalysisPlan</text><line style=\"stroke: #383838; stroke-width: 1.5;\" x1=\"54.5\" x2=\"173.5\" y1=\"400.9375\" y2=\"400.9375\"/><line style=\"stroke: #383838; stroke-width: 1.5;\" x1=\"54.5\" x2=\"173.5\" y1=\"408.9375\" y2=\"408.9375\"/><g id=\"E1.E2.E3\"><rect fill=\"#FFFFFF\" height=\"50\" rx=\"12.5\" ry=\"12.5\" style=\"stroke: #383838; stroke-width: 1.5;\" width=\"112\" x=\"58\" y=\"100\"/><line style=\"stroke: #383838; stroke-width: 1.5;\" x1=\"58\" x2=\"170\" y1=\"126.2969\" y2=\"126.2969\"/><text fill=\"#000000\" font-family=\"sans-serif\" font-size=\"14\" lengthAdjust=\"spacingAndGlyphs\" textLength=\"92\" x=\"68\" y=\"117.9951\">m: DataValue</text></g><g id=\"E1.E4\"><rect fill=\"#FFFFFF\" height=\"50\" rx=\"12.5\" ry=\"12.5\" style=\"stroke: #383838; stroke-width: 1.5;\" width=\"52\" x=\"88\" y=\"452\"/><line style=\"stroke: #383838; stroke-width: 1.5;\" x1=\"88\" x2=\"140\" y1=\"478.2969\" y2=\"478.2969\"/><text fill=\"#000000\" font-family=\"sans-serif\" font-size=\"14\" lengthAdjust=\"spacingAndGlyphs\" textLength=\"32\" x=\"98\" y=\"469.9951\">vv: V</text></g><g id=\"E1.E8\"><rect fill=\"#FFFFFF\" height=\"50\" rx=\"12.5\" ry=\"12.5\" style=\"stroke: #383838; stroke-width: 1.5;\" width=\"164\" x=\"32\" y=\"537\"/><line style=\"stroke: #383838; stroke-width: 1.5;\" x1=\"32\" x2=\"196\" y1=\"563.2969\" y2=\"563.2969\"/><text fill=\"#000000\" font-family=\"sans-serif\" font-size=\"14\" lengthAdjust=\"spacingAndGlyphs\" textLength=\"144\" x=\"42\" y=\"554.9951\">analysisContext: Part</text></g><!--MD5=[9bb939966c15ff954a38f37f829fc532]\n",
       "@startuml\r\n",
       "skinparam ranksep 8\r\n",
       "skinparam rectangle {\r\n",
       " backgroundColor<<block>> LightGreen\r\n",
       "}\r\n",
       "left to right direction\r\n",
       "skinparam monochrome true\r\n",
       "skinparam classbackgroundcolor white\r\n",
       "skinparam shadowing false\r\n",
       "skinparam wrapWidth 300\r\n",
       "hide circle\r\n",
       "\r\n",
       "package \"AnalysisTest\" as E1   {\r\n",
       "rec def \"V\" as E2  <<part def>> {\r\n",
       "rec usage \"m: DataValue\" as E3  <<attribute>> {\r\n",
       "}\r\n",
       "}\r\n",
       "rec usage \"vv: V\" as E4  {\r\n",
       "}\r\n",
       "def \"AnalysisObjective\" as E5  <<requirement def>> \r\n",
       "def \"AnalysisCase\" as E6  <<analysisCase def>> \r\n",
       "def \"AnalysisPlan\" as E7  <<analysisCase def>> \r\n",
       "rec usage \"analysisContext: Part\" as E8  {\r\n",
       "}\r\n",
       "}\r\n",
       "@enduml\r\n",
       "\n",
       "PlantUML version 1.2020.13(Sat Jun 13 12:26:38 UTC 2020)\n",
       "(EPL source distribution)\n",
       "Java Runtime: OpenJDK Runtime Environment\n",
       "JVM: OpenJDK 64-Bit Server VM\n",
       "Default Encoding: UTF-8\n",
       "Language: en\n",
       "Country: null\n",
       "--></g></svg>"
      ]
     },
     "execution_count": 19,
     "metadata": {},
     "output_type": "execute_result"
    }
   ],
   "source": [
    "%viz --style=\"LR\" --view=\"Interconnection\" \"AnalysisTest\""
   ]
  },
  {
   "cell_type": "code",
   "execution_count": 20,
   "id": "obvious-response",
   "metadata": {
    "execution": {
     "iopub.execute_input": "2021-03-26T09:41:45.485756Z",
     "iopub.status.busy": "2021-03-26T09:41:45.485052Z",
     "iopub.status.idle": "2021-03-26T09:41:45.487252Z",
     "shell.execute_reply": "2021-03-26T09:41:45.487576Z"
    }
   },
   "outputs": [
    {
     "data": {
      "text/plain": [
       "java.lang.IllegalArgumentException: Invalid View: Action View candidates are: Default Tree StateMachine Interconnection Activity Sequence MIXED \n",
       "\tat org.omg.sysml.plantuml.SysML2PlantUMLSvc.setView(SysML2PlantUMLSvc.java:63)\n",
       "\tat org.omg.sysml.interactive.SysMLInteractive.viz(SysMLInteractive.java:286)\n",
       "\tat org.omg.sysml.jupyter.kernel.magic.Viz.viz(Viz.java:47)\n",
       "\tat jdk.internal.reflect.GeneratedMethodAccessor13.invoke(Unknown Source)\n",
       "\tat java.base/jdk.internal.reflect.DelegatingMethodAccessorImpl.invoke(DelegatingMethodAccessorImpl.java:43)\n",
       "\tat java.base/java.lang.reflect.Method.invoke(Method.java:568)\n",
       "\tat io.github.spencerpark.jupyter.kernel.magic.registry.Magics.invoke(Magics.java:89)\n",
       "\tat io.github.spencerpark.jupyter.kernel.magic.registry.Magics.access$000(Magics.java:8)\n",
       "\tat io.github.spencerpark.jupyter.kernel.magic.registry.Magics$LineReflectionMagicFunction.execute(Magics.java:149)\n",
       "\tat io.github.spencerpark.jupyter.kernel.magic.registry.Magics.applyLineMagic(Magics.java:26)\n",
       "\tat org.omg.sysml.jupyter.kernel.SysMLKernel.eval(SysMLKernel.java:76)\n",
       "\tat io.github.spencerpark.jupyter.kernel.BaseKernel.handleExecuteRequest(BaseKernel.java:334)\n",
       "\tat io.github.spencerpark.jupyter.channels.ShellChannel.lambda$bind$0(ShellChannel.java:64)\n",
       "\tat io.github.spencerpark.jupyter.channels.Loop.lambda$new$0(Loop.java:21)\n",
       "\tat io.github.spencerpark.jupyter.channels.Loop.run(Loop.java:78)\n"
      ]
     },
     "execution_count": 20,
     "metadata": {},
     "output_type": "execute_result"
    }
   ],
   "source": [
    "%viz --style=\"LR\" --view=\"Action\" \"AnalysisTest\""
   ]
  },
  {
   "cell_type": "code",
   "execution_count": 21,
   "id": "desperate-intent",
   "metadata": {
    "execution": {
     "iopub.execute_input": "2021-03-26T09:41:45.540424Z",
     "iopub.status.busy": "2021-03-26T09:41:45.539944Z",
     "iopub.status.idle": "2021-03-26T09:41:45.672464Z",
     "shell.execute_reply": "2021-03-26T09:41:45.672827Z"
    }
   },
   "outputs": [
    {
     "data": {
      "image/svg+xml": [
       "<?xml version=\"1.0\" encoding=\"UTF-8\" standalone=\"no\"?><svg xmlns=\"http://www.w3.org/2000/svg\" xmlns:xlink=\"http://www.w3.org/1999/xlink\" contentScriptType=\"application/ecmascript\" contentStyleType=\"text/css\" height=\"314px\" preserveAspectRatio=\"none\" style=\"width:1787px;height:314px;\" version=\"1.1\" viewBox=\"0 0 1787 314\" width=\"1787px\" zoomAndPan=\"magnify\"><defs/><g><!--MD5=[fbc87193dbaf4d95561dea2c320d4a47]\n",
       "cluster E1--><polygon fill=\"#FFFFFF\" points=\"16,6,122,6,129,28.2969,1765,28.2969,1765,302,16,302,16,6\" style=\"stroke: #000000; stroke-width: 1.5;\"/><line style=\"stroke: #000000; stroke-width: 1.5;\" x1=\"16\" x2=\"129\" y1=\"28.2969\" y2=\"28.2969\"/><text fill=\"#000000\" font-family=\"sans-serif\" font-size=\"14\" font-weight=\"bold\" lengthAdjust=\"spacingAndGlyphs\" textLength=\"100\" x=\"20\" y=\"20.9951\">AnalysisTest</text><!--MD5=[b4997ac47864f28c2f74865a473b2911]\n",
       "class E2--><rect fill=\"#FFFFFF\" height=\"58.7422\" id=\"E2\" style=\"stroke: #383838; stroke-width: 1.5;\" width=\"88\" x=\"1444.5\" y=\"71.5\"/><text fill=\"#000000\" font-family=\"sans-serif\" font-size=\"12\" font-style=\"italic\" lengthAdjust=\"spacingAndGlyphs\" textLength=\"64\" x=\"1456.5\" y=\"87.6387\">«part def»</text><text fill=\"#000000\" font-family=\"sans-serif\" font-size=\"12\" lengthAdjust=\"spacingAndGlyphs\" textLength=\"8\" x=\"1484.5\" y=\"101.6074\">V</text><line style=\"stroke: #383838; stroke-width: 1.5;\" x1=\"1445.5\" x2=\"1531.5\" y1=\"109.4375\" y2=\"109.4375\"/><text fill=\"#000000\" font-family=\"sans-serif\" font-size=\"11\" lengthAdjust=\"spacingAndGlyphs\" textLength=\"76\" x=\"1450.5\" y=\"123.6479\">m: DataValue</text><!--MD5=[09b614a08d8cba4a07c9adeb5e0fee81]\n",
       "class E3--><rect fill=\"#FFFFFF\" height=\"45.9375\" id=\"E3\" rx=\"10\" ry=\"10\" style=\"stroke: #383838; stroke-width: 1.5;\" width=\"42\" x=\"1180\" y=\"78\"/><text fill=\"#000000\" font-family=\"sans-serif\" font-size=\"12\" font-style=\"italic\" lengthAdjust=\"spacingAndGlyphs\" textLength=\"40\" x=\"1181\" y=\"94.1387\">«part»</text><text fill=\"#000000\" font-family=\"sans-serif\" font-size=\"12\" lengthAdjust=\"spacingAndGlyphs\" textLength=\"28\" x=\"1187\" y=\"108.1074\">vv: V</text><line style=\"stroke: #383838; stroke-width: 1.5;\" x1=\"1181\" x2=\"1221\" y1=\"115.9375\" y2=\"115.9375\"/><!--MD5=[ebbe1d658d1005bcc118a6aa81145e00]\n",
       "class E4--><rect fill=\"#FFFFFF\" height=\"66.7422\" id=\"E4\" style=\"stroke: #383838; stroke-width: 1.5;\" width=\"117\" x=\"1632\" y=\"192.5\"/><text fill=\"#000000\" font-family=\"sans-serif\" font-size=\"12\" font-style=\"italic\" lengthAdjust=\"spacingAndGlyphs\" textLength=\"115\" x=\"1633\" y=\"208.6387\">«requirement def»</text><text fill=\"#000000\" font-family=\"sans-serif\" font-size=\"12\" lengthAdjust=\"spacingAndGlyphs\" textLength=\"107\" x=\"1637\" y=\"222.6074\">AnalysisObjective</text><line style=\"stroke: #383838; stroke-width: 1.5;\" x1=\"1633\" x2=\"1748\" y1=\"230.4375\" y2=\"230.4375\"/><text fill=\"#000000\" font-family=\"sans-serif\" font-size=\"11\" lengthAdjust=\"spacingAndGlyphs\" textLength=\"12\" x=\"1638\" y=\"244.6479\">...</text><line style=\"stroke: #383838; stroke-width: 1.0;\" x1=\"1633\" x2=\"1748\" y1=\"251.2422\" y2=\"251.2422\"/><!--MD5=[270fce915f116d4de14055a7c1d9a0f3]\n",
       "class E5--><rect fill=\"#FFFFFF\" height=\"45.9375\" id=\"E5\" style=\"stroke: #383838; stroke-width: 1.5;\" width=\"90\" x=\"1156\" y=\"159\"/><text fill=\"#000000\" font-family=\"sans-serif\" font-size=\"12\" font-style=\"italic\" lengthAdjust=\"spacingAndGlyphs\" textLength=\"88\" x=\"1157\" y=\"175.1387\">«analysis def»</text><text fill=\"#000000\" font-family=\"sans-serif\" font-size=\"12\" lengthAdjust=\"spacingAndGlyphs\" textLength=\"81\" x=\"1160.5\" y=\"189.1074\">AnalysisCase</text><line style=\"stroke: #383838; stroke-width: 1.5;\" x1=\"1157\" x2=\"1245\" y1=\"196.9375\" y2=\"196.9375\"/><!--MD5=[60a26617385b1d2d0262a64233df1f8d]\n",
       "class E6--><rect fill=\"#FFFFFF\" height=\"88.3516\" id=\"E6\" rx=\"10\" ry=\"10\" style=\"stroke: #383838; stroke-width: 1.5;\" width=\"165\" x=\"1406\" y=\"182\"/><text fill=\"#000000\" font-family=\"sans-serif\" font-size=\"12\" font-style=\"italic\" lengthAdjust=\"spacingAndGlyphs\" textLength=\"91\" x=\"1443\" y=\"198.1387\">«requirement»</text><text fill=\"#000000\" font-family=\"sans-serif\" font-size=\"12\" lengthAdjust=\"spacingAndGlyphs\" textLength=\"134\" x=\"1421.5\" y=\"212.1074\">obj: AnalysisObjective</text><line style=\"stroke: #383838; stroke-width: 1.5;\" x1=\"1407\" x2=\"1570\" y1=\"219.9375\" y2=\"219.9375\"/><text fill=\"#000000\" font-family=\"sans-serif\" font-size=\"11\" lengthAdjust=\"spacingAndGlyphs\" textLength=\"130\" x=\"1412\" y=\"250.9526\">subj: Anything= result;</text><text fill=\"#000000\" font-family=\"sans-serif\" font-size=\"11\" font-style=\"italic\" lengthAdjust=\"spacingAndGlyphs\" textLength=\"153\" x=\"1412\" y=\"263.7573\">:&gt;&gt;AnalysisObjective::subj</text><line style=\"stroke: #383838; stroke-width: 1.0;\" x1=\"1407\" x2=\"1457.5\" y1=\"234.3398\" y2=\"234.3398\"/><text fill=\"#000000\" font-family=\"sans-serif\" font-size=\"11\" lengthAdjust=\"spacingAndGlyphs\" textLength=\"62\" x=\"1457.5\" y=\"237.6479\">references</text><line style=\"stroke: #383838; stroke-width: 1.0;\" x1=\"1519.5\" x2=\"1570\" y1=\"234.3398\" y2=\"234.3398\"/><!--MD5=[2156ba9850f5573cc1fc38a6a4b2f02b]\n",
       "class E7--><rect fill=\"#FFFFFF\" height=\"45.9375\" id=\"E7\" style=\"stroke: #383838; stroke-width: 1.5;\" width=\"90\" x=\"564.5\" y=\"122\"/><text fill=\"#000000\" font-family=\"sans-serif\" font-size=\"12\" font-style=\"italic\" lengthAdjust=\"spacingAndGlyphs\" textLength=\"88\" x=\"565.5\" y=\"138.1387\">«analysis def»</text><text fill=\"#000000\" font-family=\"sans-serif\" font-size=\"12\" lengthAdjust=\"spacingAndGlyphs\" textLength=\"77\" x=\"571\" y=\"152.1074\">AnalysisPlan</text><line style=\"stroke: #383838; stroke-width: 1.5;\" x1=\"565.5\" x2=\"653.5\" y1=\"159.9375\" y2=\"159.9375\"/><!--MD5=[b9389687b975829384b498ac4b7476b2]\n",
       "class E8--><rect fill=\"#FFFFFF\" height=\"66.7422\" id=\"E8\" rx=\"10\" ry=\"10\" style=\"stroke: #383838; stroke-width: 1.5;\" width=\"151\" x=\"832.5\" y=\"99.5\"/><text fill=\"#000000\" font-family=\"sans-serif\" font-size=\"12\" font-style=\"italic\" lengthAdjust=\"spacingAndGlyphs\" textLength=\"91\" x=\"862.5\" y=\"115.6387\">«requirement»</text><text fill=\"#000000\" font-family=\"sans-serif\" font-size=\"12\" lengthAdjust=\"spacingAndGlyphs\" textLength=\"145\" x=\"835.5\" y=\"129.6074\">obj: RequirementCheck</text><line style=\"stroke: #383838; stroke-width: 1.5;\" x1=\"833.5\" x2=\"982.5\" y1=\"137.4375\" y2=\"137.4375\"/><text fill=\"#000000\" font-family=\"sans-serif\" font-size=\"11\" lengthAdjust=\"spacingAndGlyphs\" textLength=\"12\" x=\"838.5\" y=\"151.6479\">...</text><line style=\"stroke: #383838; stroke-width: 1.0;\" x1=\"833.5\" x2=\"982.5\" y1=\"158.2422\" y2=\"158.2422\"/><!--MD5=[fd4143e9d270a159db93a4ea2a975926]\n",
       "class E9--><rect fill=\"#FFFFFF\" height=\"45.9375\" id=\"E9\" rx=\"10\" ry=\"10\" style=\"stroke: #383838; stroke-width: 1.5;\" width=\"176\" x=\"820\" y=\"202\"/><text fill=\"#000000\" font-family=\"sans-serif\" font-size=\"12\" font-style=\"italic\" lengthAdjust=\"spacingAndGlyphs\" textLength=\"64\" x=\"876\" y=\"218.1387\">«analysis»</text><text fill=\"#000000\" font-family=\"sans-serif\" font-size=\"12\" lengthAdjust=\"spacingAndGlyphs\" textLength=\"170\" x=\"823\" y=\"232.1074\">analysisCase: AnalysisCase</text><line style=\"stroke: #383838; stroke-width: 1.5;\" x1=\"821\" x2=\"995\" y1=\"239.9375\" y2=\"239.9375\"/><!--MD5=[96f4274e9e20536e775497830990834d]\n",
       "class E10--><rect fill=\"#FFFFFF\" height=\"45.9375\" id=\"E10\" rx=\"10\" ry=\"10\" style=\"stroke: #383838; stroke-width: 1.5;\" width=\"140\" x=\"1131\" y=\"240\"/><text fill=\"#000000\" font-family=\"sans-serif\" font-size=\"12\" font-style=\"italic\" lengthAdjust=\"spacingAndGlyphs\" textLength=\"91\" x=\"1155.5\" y=\"256.1387\">«requirement»</text><text fill=\"#000000\" font-family=\"sans-serif\" font-size=\"12\" lengthAdjust=\"spacingAndGlyphs\" textLength=\"134\" x=\"1134\" y=\"270.1074\">obj: AnalysisObjective</text><line style=\"stroke: #383838; stroke-width: 1.5;\" x1=\"1132\" x2=\"1270\" y1=\"277.9375\" y2=\"277.9375\"/><!--MD5=[1dd1bfd58a279cf63c5f349dbc8fc6a1]\n",
       "class E11--><rect fill=\"#FFFFFF\" height=\"45.9375\" id=\"E11\" rx=\"10\" ry=\"10\" style=\"stroke: #383838; stroke-width: 1.5;\" width=\"138\" x=\"32\" y=\"82\"/><text fill=\"#000000\" font-family=\"sans-serif\" font-size=\"12\" font-style=\"italic\" lengthAdjust=\"spacingAndGlyphs\" textLength=\"40\" x=\"81\" y=\"98.1387\">«part»</text><text fill=\"#000000\" font-family=\"sans-serif\" font-size=\"12\" lengthAdjust=\"spacingAndGlyphs\" textLength=\"132\" x=\"35\" y=\"112.1074\">analysisContext: Part</text><line style=\"stroke: #383838; stroke-width: 1.5;\" x1=\"33\" x2=\"169\" y1=\"119.9375\" y2=\"119.9375\"/><!--MD5=[49a0ec8f00dab7302a31f22d0f0fe584]\n",
       "class E12--><rect fill=\"#FFFFFF\" height=\"88.3516\" id=\"E12\" rx=\"10\" ry=\"10\" style=\"stroke: #383838; stroke-width: 1.5;\" width=\"168\" x=\"231\" y=\"61\"/><text fill=\"#000000\" font-family=\"sans-serif\" font-size=\"12\" font-style=\"italic\" lengthAdjust=\"spacingAndGlyphs\" textLength=\"64\" x=\"283\" y=\"77.1387\">«analysis»</text><text fill=\"#000000\" font-family=\"sans-serif\" font-size=\"12\" lengthAdjust=\"spacingAndGlyphs\" textLength=\"162\" x=\"234\" y=\"91.1074\">analysisPlan: AnalysisPlan</text><line style=\"stroke: #383838; stroke-width: 1.5;\" x1=\"232\" x2=\"398\" y1=\"98.9375\" y2=\"98.9375\"/><text fill=\"#000000\" font-family=\"sans-serif\" font-size=\"11\" lengthAdjust=\"spacingAndGlyphs\" textLength=\"50\" x=\"237\" y=\"129.9526\">v: V= vv;</text><text fill=\"#000000\" font-family=\"sans-serif\" font-size=\"11\" font-style=\"italic\" lengthAdjust=\"spacingAndGlyphs\" textLength=\"107\" x=\"237\" y=\"142.7573\">:&gt;&gt;AnalysisPlan::v</text><line style=\"stroke: #383838; stroke-width: 1.0;\" x1=\"232\" x2=\"284\" y1=\"113.3398\" y2=\"113.3398\"/><text fill=\"#000000\" font-family=\"sans-serif\" font-size=\"11\" lengthAdjust=\"spacingAndGlyphs\" textLength=\"62\" x=\"284\" y=\"116.6479\">references</text><line style=\"stroke: #383838; stroke-width: 1.0;\" x1=\"346\" x2=\"398\" y1=\"113.3398\" y2=\"113.3398\"/><!--MD5=[ee3c913d1a06f366521f9ef512b67efe]\n",
       "class E13--><rect fill=\"#FFFFFF\" height=\"45.9375\" id=\"E13\" rx=\"10\" ry=\"10\" style=\"stroke: #383838; stroke-width: 1.5;\" width=\"151\" x=\"534\" y=\"41\"/><text fill=\"#000000\" font-family=\"sans-serif\" font-size=\"12\" font-style=\"italic\" lengthAdjust=\"spacingAndGlyphs\" textLength=\"91\" x=\"564\" y=\"57.1387\">«requirement»</text><text fill=\"#000000\" font-family=\"sans-serif\" font-size=\"12\" lengthAdjust=\"spacingAndGlyphs\" textLength=\"145\" x=\"537\" y=\"71.1074\">obj: RequirementCheck</text><line style=\"stroke: #383838; stroke-width: 1.5;\" x1=\"535\" x2=\"684\" y1=\"78.9375\" y2=\"78.9375\"/><!--MD5=[05d275557350bfb9b23a4ef7222b4c39]\n",
       "link E3 to E2--><path d=\"M1222.08,101 C1263.45,101 1359.71,101 1424.21,101 \" fill=\"none\" id=\"E3-&gt;E2\" style=\"stroke: #383838; stroke-width: 1.0;\"/><polygon fill=\"#FFFFFF\" points=\"1444.33,101,1425.33,108,1425.33,94,1444.33,101\" style=\"stroke: #383838; stroke-width: 1.0;\"/><ellipse cx=\"1419.63\" cy=\"106\" fill=\"#383838\" rx=\"2\" ry=\"2\" style=\"stroke: #383838; stroke-width: 1.0;\"/><ellipse cx=\"1419.63\" cy=\"96\" fill=\"#383838\" rx=\"2\" ry=\"2\" style=\"stroke: #383838; stroke-width: 1.0;\"/><!--MD5=[15ebcb19ae302d9b601edb458606d402]\n",
       "link E5 to E2--><path d=\"M1246.3,169.43 C1298.49,154.62 1384.93,130.1 1438.92,114.78 \" fill=\"none\" id=\"E5-&gt;E2\" style=\"stroke: #383838; stroke-width: 1.0; stroke-dasharray: 7.0,7.0;\"/><polygon fill=\"#383838\" points=\"1444.04,113.33,1434.2923,111.922,1439.2276,114.6866,1436.4629,119.6219,1444.04,113.33\" style=\"stroke: #383838; stroke-width: 1.0;\"/><text fill=\"#000000\" font-family=\"sans-serif\" font-size=\"13\" lengthAdjust=\"spacingAndGlyphs\" textLength=\"62\" x=\"1307.5\" y=\"131.0669\">«subject»</text><!--MD5=[9120cf2e5df3bff93db8f754bbbc09b4]\n",
       "link E5 to E6--><path d=\"M1246.3,188.83 C1286.66,195.05 1347.5,204.42 1397.98,212.2 \" fill=\"none\" id=\"E5-&gt;E6\" style=\"stroke: #383838; stroke-width: 1.0;\"/><polygon fill=\"#383838\" points=\"1405.99,213.44,1398.5449,209.2483,1397.6245,215.1773,1405.99,213.44\" style=\"stroke: #383838; stroke-width: 1.0;\"/><text fill=\"#000000\" font-family=\"sans-serif\" font-size=\"13\" lengthAdjust=\"spacingAndGlyphs\" textLength=\"73\" x=\"1302\" y=\"194.0669\">«objective»</text><!--MD5=[f667431f98296947986a1a7595a31603]\n",
       "link E6 to E4--><path d=\"M1571.14,226 C1584.53,226 1598.39,226 1611.69,226 \" fill=\"none\" id=\"E6-&gt;E4\" style=\"stroke: #383838; stroke-width: 1.0;\"/><polygon fill=\"#FFFFFF\" points=\"1631.99,226,1612.99,233,1612.99,219,1631.99,226\" style=\"stroke: #383838; stroke-width: 1.0;\"/><ellipse cx=\"1607.29\" cy=\"231\" fill=\"#383838\" rx=\"2\" ry=\"2\" style=\"stroke: #383838; stroke-width: 1.0;\"/><ellipse cx=\"1607.29\" cy=\"221\" fill=\"#383838\" rx=\"2\" ry=\"2\" style=\"stroke: #383838; stroke-width: 1.0;\"/><!--MD5=[583832df87f4419a098336a29a52fa00]\n",
       "link E7 to E2--><path d=\"M654.74,128.5 C696.65,113.63 761.7,92.54 820,82 C1017.48,46.3 1071.2,41.25 1271,60 C1329.5,65.49 1395.73,79.15 1439.36,89.2 \" fill=\"none\" id=\"E7-&gt;E2\" style=\"stroke: #383838; stroke-width: 1.0; stroke-dasharray: 7.0,7.0;\"/><polygon fill=\"#383838\" points=\"1444.3,90.35,1436.435,84.422,1439.429,89.2215,1434.6294,92.2155,1444.3,90.35\" style=\"stroke: #383838; stroke-width: 1.0;\"/><text fill=\"#000000\" font-family=\"sans-serif\" font-size=\"13\" lengthAdjust=\"spacingAndGlyphs\" textLength=\"62\" x=\"1032.5\" y=\"46.0669\">«subject»</text><!--MD5=[79bc8f324ef4d02c541433f2e6e513c3]\n",
       "link E7 to E8--><path d=\"M654.57,143.22 C699.24,141.41 769.42,138.57 824.45,136.34 \" fill=\"none\" id=\"E7-&gt;E8\" style=\"stroke: #383838; stroke-width: 1.0;\"/><polygon fill=\"#383838\" points=\"832.46,136.02,824.3436,133.3508,824.5898,139.3458,832.46,136.02\" style=\"stroke: #383838; stroke-width: 1.0;\"/><text fill=\"#000000\" font-family=\"sans-serif\" font-size=\"13\" lengthAdjust=\"spacingAndGlyphs\" textLength=\"73\" x=\"716\" y=\"134.0669\">«objective»</text><!--MD5=[bfc3ddf2e613be37104f658f09af896c]\n",
       "link E9 to E5--><path d=\"M996.31,212.1 C1041.18,205.47 1094.88,197.53 1135.88,191.47 \" fill=\"none\" id=\"E9-&gt;E5\" style=\"stroke: #383838; stroke-width: 1.0;\"/><polygon fill=\"#FFFFFF\" points=\"1155.76,188.54,1137.9897,198.2465,1135.9398,184.3974,1155.76,188.54\" style=\"stroke: #383838; stroke-width: 1.0;\"/><ellipse cx=\"1132.0583\" cy=\"197.1027\" fill=\"#383838\" rx=\"2\" ry=\"2\" style=\"stroke: #383838; stroke-width: 1.0;\"/><ellipse cx=\"1130.5941\" cy=\"187.2104\" fill=\"#383838\" rx=\"2\" ry=\"2\" style=\"stroke: #383838; stroke-width: 1.0;\"/><!--MD5=[e4a10ef82d0e328e31cac39a31e58dda]\n",
       "reverse link E7 to E9--><path d=\"M667.25,160.31 C710.91,172.09 771.96,188.56 821.53,201.94 \" fill=\"none\" id=\"E7&lt;-E9\" style=\"stroke: #383838; stroke-width: 1.0;\"/><polygon fill=\"#383838\" points=\"654.57,156.89,659.3161,162.3191,666.1529,160.0262,661.4069,154.5971,654.57,156.89\" style=\"stroke: #383838; stroke-width: 1.0;\"/><!--MD5=[35e5f1cbde42fa304a029880aa2bc7f2]\n",
       "link E9 to E10--><path d=\"M996.31,236.4 C1036.48,241.65 1083.73,247.82 1122.61,252.89 \" fill=\"none\" id=\"E9-&gt;E10\" style=\"stroke: #383838; stroke-width: 1.0;\"/><polygon fill=\"#383838\" points=\"1130.77,253.96,1123.2295,249.9424,1122.4471,255.8911,1130.77,253.96\" style=\"stroke: #383838; stroke-width: 1.0;\"/><text fill=\"#000000\" font-family=\"sans-serif\" font-size=\"13\" lengthAdjust=\"spacingAndGlyphs\" textLength=\"73\" x=\"1027\" y=\"237.0669\">«objective»</text><!--MD5=[198716bf12f04006f5c20d61bde6d80d]\n",
       "link E10 to E6--><path d=\"M1271.14,256.9 C1303.11,253.81 1341.55,249.71 1376,245 C1379.34,244.54 1382.74,244.06 1386.17,243.56 \" fill=\"none\" id=\"E10-&gt;E6\" style=\"stroke: #383838; stroke-width: 1.0;\"/><polygon fill=\"#FFFFFF\" points=\"1406,240.52,1388.279,250.3161,1386.1592,236.4776,1406,240.52\" style=\"stroke: #383838; stroke-width: 1.0;\"/><line style=\"stroke: #383838; stroke-width: 2.0;\" x1=\"1384.5228\" x2=\"1382.403\" y1=\"250.8915\" y2=\"237.0529\"/><!--MD5=[ae660f5ecd7ddb04a8913625960940af]\n",
       "link E12 to E7--><path d=\"M399.04,116.36 C445.09,122.65 501.49,130.37 544.17,136.2 \" fill=\"none\" id=\"E12-&gt;E7\" style=\"stroke: #383838; stroke-width: 1.0;\"/><polygon fill=\"#FFFFFF\" points=\"564.2,138.94,544.4258,143.2966,546.3258,129.4261,564.2,138.94\" style=\"stroke: #383838; stroke-width: 1.0;\"/><ellipse cx=\"539.0499\" cy=\"140.5415\" fill=\"#383838\" rx=\"2\" ry=\"2\" style=\"stroke: #383838; stroke-width: 1.0;\"/><ellipse cx=\"540.4071\" cy=\"130.634\" fill=\"#383838\" rx=\"2\" ry=\"2\" style=\"stroke: #383838; stroke-width: 1.0;\"/><!--MD5=[94adabc162ce7e41b39f13be14fbaeb3]\n",
       "reverse link E11 to E12--><path d=\"M183.59,105 C199.02,105 215.18,105 230.67,105 \" fill=\"none\" id=\"E11&lt;-E12\" style=\"stroke: #383838; stroke-width: 1.0;\"/><polygon fill=\"#383838\" points=\"170.25,105,176.25,109,182.25,105,176.25,101,170.25,105\" style=\"stroke: #383838; stroke-width: 1.0;\"/><!--MD5=[e2a9ac97dcd3257bb5342dae06547bad]\n",
       "link E12 to E13--><path d=\"M399.04,93.36 C438.61,87.81 485.84,81.19 525.42,75.64 \" fill=\"none\" id=\"E12-&gt;E13\" style=\"stroke: #383838; stroke-width: 1.0;\"/><polygon fill=\"#383838\" points=\"533.75,74.48,525.4099,72.6247,526.2464,78.5661,533.75,74.48\" style=\"stroke: #383838; stroke-width: 1.0;\"/><text fill=\"#000000\" font-family=\"sans-serif\" font-size=\"13\" lengthAdjust=\"spacingAndGlyphs\" textLength=\"73\" x=\"430\" y=\"76.0669\">«objective»</text><!--MD5=[e82a5b7d2954b0c4dc42c3286eb876ec]\n",
       "@startuml\r\n",
       "left to right direction\r\n",
       "skinparam monochrome true\r\n",
       "skinparam classbackgroundcolor white\r\n",
       "skinparam shadowing false\r\n",
       "skinparam wrapWidth 300\r\n",
       "hide circle\r\n",
       "\r\n",
       "package \"AnalysisTest\" as E1   {\r\n",
       "comp def \"V\" as E2  <<(T,blue)part def>> {\r\n",
       "m: DataValue\r\n",
       "}\r\n",
       "comp usage \"vv: V\" as E3  <<(T,blue)part>> {\r\n",
       "}\r\n",
       "comp def \"AnalysisObjective\" as E4  <<(T,blue)requirement def>> {\r\n",
       "...\r\n",
       "- -\r\n",
       "}\r\n",
       "comp def \"AnalysisCase\" as E5 <<analysis def>> {\r\n",
       "}\r\n",
       "comp usage \"obj: AnalysisObjective\" as E6  <<(T,blue)requirement>> {\r\n",
       "- -references- -\r\n",
       "subj: Anything= result; \\n//:>>AnalysisObjective::subj// \r\n",
       "}\r\n",
       "comp def \"AnalysisPlan\" as E7 <<analysis def>> {\r\n",
       "}\r\n",
       "comp usage \"obj: RequirementCheck\" as E8  <<(T,blue)requirement>> {\r\n",
       "...\r\n",
       "- -\r\n",
       "}\r\n",
       "comp usage \"analysisCase: AnalysisCase\" as E9 <<analysis>> {\r\n",
       "}\r\n",
       "comp usage \"obj: AnalysisObjective\" as E10  <<(T,blue)requirement>> {\r\n",
       "}\r\n",
       "comp usage \"analysisContext: Part\" as E11  <<(T,blue)part>> {\r\n",
       "}\r\n",
       "comp usage \"analysisPlan: AnalysisPlan\" as E12 <<analysis>> {\r\n",
       "- -references- -\r\n",
       "v: V= vv; \\n//:>>AnalysisPlan::v// \r\n",
       "}\r\n",
       "comp usage \"obj: RequirementCheck\" as E13  <<(T,blue)requirement>> {\r\n",
       "}\r\n",
       "E3 - -:|> E2\r\n",
       "E5 ..> E2 : <<subject>>\r\n",
       "E5 - ->> E6 : <<objective>>\r\n",
       "E6 - -:|> E4\r\n",
       "E7 ..> E2 : <<subject>>\r\n",
       "E7 - ->> E8 : <<objective>>\r\n",
       "E9 - -:|> E5\r\n",
       "E7 *- - E9\r\n",
       "E9 - ->> E10 : <<objective>>\r\n",
       "E10 - -||> E6\r\n",
       "E12 - -:|> E7\r\n",
       "E11 *- - E12\r\n",
       "E12 - ->> E13 : <<objective>>\r\n",
       "}\r\n",
       "@enduml\r\n",
       "\n",
       "PlantUML version 1.2020.13(Sat Jun 13 12:26:38 UTC 2020)\n",
       "(EPL source distribution)\n",
       "Java Runtime: OpenJDK Runtime Environment\n",
       "JVM: OpenJDK 64-Bit Server VM\n",
       "Default Encoding: UTF-8\n",
       "Language: en\n",
       "Country: null\n",
       "--></g></svg>"
      ]
     },
     "execution_count": 21,
     "metadata": {},
     "output_type": "execute_result"
    }
   ],
   "source": [
    "%viz --style=\"LR\" --view=\"Sequence\" \"AnalysisTest\""
   ]
  },
  {
   "cell_type": "code",
   "execution_count": 22,
   "id": "every-crisis",
   "metadata": {
    "execution": {
     "iopub.execute_input": "2021-03-26T09:41:45.722572Z",
     "iopub.status.busy": "2021-03-26T09:41:45.722252Z",
     "iopub.status.idle": "2021-03-26T09:41:45.793663Z",
     "shell.execute_reply": "2021-03-26T09:41:45.792317Z"
    }
   },
   "outputs": [
    {
     "data": {
      "image/svg+xml": [
       "<?xml version=\"1.0\" encoding=\"UTF-8\" standalone=\"no\"?><svg xmlns=\"http://www.w3.org/2000/svg\" xmlns:xlink=\"http://www.w3.org/1999/xlink\" contentScriptType=\"application/ecmascript\" contentStyleType=\"text/css\" height=\"457px\" preserveAspectRatio=\"none\" style=\"width:866px;height:457px;\" version=\"1.1\" viewBox=\"0 0 866 457\" width=\"866px\" zoomAndPan=\"magnify\"><defs/><g><!--MD5=[fbc87193dbaf4d95561dea2c320d4a47]\n",
       "cluster E1--><polygon fill=\"#FFFFFF\" points=\"16,6,122,6,129,28.2969,844.72,28.2969,844.72,445,16,445,16,6\" style=\"stroke: #000000; stroke-width: 1.5;\"/><line style=\"stroke: #000000; stroke-width: 1.5;\" x1=\"16\" x2=\"129\" y1=\"28.2969\" y2=\"28.2969\"/><text fill=\"#000000\" font-family=\"sans-serif\" font-size=\"14\" font-weight=\"bold\" lengthAdjust=\"spacingAndGlyphs\" textLength=\"100\" x=\"20\" y=\"20.9951\">AnalysisTest</text><!--MD5=[de5ec2e2e8f62f467e546659f5068c88]\n",
       "cluster E5--><rect fill=\"#FFFFFF\" height=\"52\" style=\"stroke: #000000; stroke-width: 1.5;\" width=\"290\" x=\"101\" y=\"41\"/><text fill=\"#000000\" font-family=\"sans-serif\" font-size=\"14\" font-weight=\"bold\" lengthAdjust=\"spacingAndGlyphs\" textLength=\"104\" x=\"194\" y=\"55.9951\">AnalysisCase</text><!--MD5=[168fadf3d0c3fd93dd5d6da1b1d7ab76]\n",
       "cluster E7--><rect fill=\"#FFFFFF\" height=\"104\" style=\"stroke: #000000; stroke-width: 1.5;\" width=\"523.72\" x=\"297\" y=\"187\"/><text fill=\"#000000\" font-family=\"sans-serif\" font-size=\"14\" font-weight=\"bold\" lengthAdjust=\"spacingAndGlyphs\" textLength=\"98\" x=\"509.86\" y=\"201.9951\">AnalysisPlan</text><!--MD5=[7f149f147074ac12df2cb0a7728a5fb0]\n",
       "cluster E9--><rect fill=\"#F8F8F8\" height=\"52\" rx=\"12.5\" ry=\"12.5\" style=\"stroke: #000000; stroke-width: 1.5;\" width=\"241.72\" x=\"541\" y=\"211\"/><rect fill=\"#FFFFFF\" height=\"19.7031\" rx=\"12.5\" ry=\"12.5\" style=\"stroke: #FFFFFF; stroke-width: 1.0;\" width=\"235.72\" x=\"544\" y=\"240.2969\"/><line style=\"stroke: #000000; stroke-width: 1.5;\" x1=\"541\" x2=\"782.72\" y1=\"237.2969\" y2=\"237.2969\"/><text fill=\"#000000\" font-family=\"sans-serif\" font-size=\"14\" lengthAdjust=\"spacingAndGlyphs\" textLength=\"89\" x=\"617.36\" y=\"228.9951\">analysisCase</text><!--MD5=[b4997ac47864f28c2f74865a473b2911]\n",
       "class E2--><rect fill=\"#FFFFFF\" height=\"58.7422\" id=\"E2\" style=\"stroke: #383838; stroke-width: 1.5;\" width=\"88\" x=\"271\" y=\"111.5\"/><text fill=\"#000000\" font-family=\"sans-serif\" font-size=\"12\" font-style=\"italic\" lengthAdjust=\"spacingAndGlyphs\" textLength=\"64\" x=\"283\" y=\"127.6387\">«part def»</text><text fill=\"#000000\" font-family=\"sans-serif\" font-size=\"12\" lengthAdjust=\"spacingAndGlyphs\" textLength=\"8\" x=\"311\" y=\"141.6074\">V</text><line style=\"stroke: #383838; stroke-width: 1.5;\" x1=\"272\" x2=\"358\" y1=\"149.4375\" y2=\"149.4375\"/><text fill=\"#000000\" font-family=\"sans-serif\" font-size=\"11\" lengthAdjust=\"spacingAndGlyphs\" textLength=\"76\" x=\"277\" y=\"163.6479\">m: DataValue</text><!--MD5=[09b614a08d8cba4a07c9adeb5e0fee81]\n",
       "class E3--><rect fill=\"#FFFFFF\" height=\"45.9375\" id=\"E3\" rx=\"10\" ry=\"10\" style=\"stroke: #383838; stroke-width: 1.5;\" width=\"42\" x=\"80\" y=\"118\"/><text fill=\"#000000\" font-family=\"sans-serif\" font-size=\"12\" font-style=\"italic\" lengthAdjust=\"spacingAndGlyphs\" textLength=\"40\" x=\"81\" y=\"134.1387\">«part»</text><text fill=\"#000000\" font-family=\"sans-serif\" font-size=\"12\" lengthAdjust=\"spacingAndGlyphs\" textLength=\"28\" x=\"87\" y=\"148.1074\">vv: V</text><line style=\"stroke: #383838; stroke-width: 1.5;\" x1=\"81\" x2=\"121\" y1=\"155.9375\" y2=\"155.9375\"/><!--MD5=[ebbe1d658d1005bcc118a6aa81145e00]\n",
       "class E4--><rect fill=\"#FFFFFF\" height=\"66.7422\" id=\"E4\" style=\"stroke: #383838; stroke-width: 1.5;\" width=\"117\" x=\"42.5\" y=\"229.5\"/><text fill=\"#000000\" font-family=\"sans-serif\" font-size=\"12\" font-style=\"italic\" lengthAdjust=\"spacingAndGlyphs\" textLength=\"115\" x=\"43.5\" y=\"245.6387\">«requirement def»</text><text fill=\"#000000\" font-family=\"sans-serif\" font-size=\"12\" lengthAdjust=\"spacingAndGlyphs\" textLength=\"107\" x=\"47.5\" y=\"259.6074\">AnalysisObjective</text><line style=\"stroke: #383838; stroke-width: 1.5;\" x1=\"43.5\" x2=\"158.5\" y1=\"267.4375\" y2=\"267.4375\"/><text fill=\"#000000\" font-family=\"sans-serif\" font-size=\"11\" lengthAdjust=\"spacingAndGlyphs\" textLength=\"12\" x=\"48.5\" y=\"281.6479\">...</text><line style=\"stroke: #383838; stroke-width: 1.0;\" x1=\"43.5\" x2=\"158.5\" y1=\"288.2422\" y2=\"288.2422\"/><!--MD5=[1dd1bfd58a279cf63c5f349dbc8fc6a1]\n",
       "class E11--><rect fill=\"#FFFFFF\" height=\"45.9375\" id=\"E11\" rx=\"10\" ry=\"10\" style=\"stroke: #383838; stroke-width: 1.5;\" width=\"138\" x=\"32\" y=\"362\"/><text fill=\"#000000\" font-family=\"sans-serif\" font-size=\"12\" font-style=\"italic\" lengthAdjust=\"spacingAndGlyphs\" textLength=\"40\" x=\"81\" y=\"378.1387\">«part»</text><text fill=\"#000000\" font-family=\"sans-serif\" font-size=\"12\" lengthAdjust=\"spacingAndGlyphs\" textLength=\"132\" x=\"35\" y=\"392.1074\">analysisContext: Part</text><line style=\"stroke: #383838; stroke-width: 1.5;\" x1=\"33\" x2=\"169\" y1=\"399.9375\" y2=\"399.9375\"/><!--MD5=[49a0ec8f00dab7302a31f22d0f0fe584]\n",
       "class E12--><rect fill=\"#FFFFFF\" height=\"88.3516\" id=\"E12\" rx=\"10\" ry=\"10\" style=\"stroke: #383838; stroke-width: 1.5;\" width=\"168\" x=\"231\" y=\"341\"/><text fill=\"#000000\" font-family=\"sans-serif\" font-size=\"12\" font-style=\"italic\" lengthAdjust=\"spacingAndGlyphs\" textLength=\"64\" x=\"283\" y=\"357.1387\">«analysis»</text><text fill=\"#000000\" font-family=\"sans-serif\" font-size=\"12\" lengthAdjust=\"spacingAndGlyphs\" textLength=\"162\" x=\"234\" y=\"371.1074\">analysisPlan: AnalysisPlan</text><line style=\"stroke: #383838; stroke-width: 1.5;\" x1=\"232\" x2=\"398\" y1=\"378.9375\" y2=\"378.9375\"/><text fill=\"#000000\" font-family=\"sans-serif\" font-size=\"11\" lengthAdjust=\"spacingAndGlyphs\" textLength=\"50\" x=\"237\" y=\"409.9526\">v: V= vv;</text><text fill=\"#000000\" font-family=\"sans-serif\" font-size=\"11\" font-style=\"italic\" lengthAdjust=\"spacingAndGlyphs\" textLength=\"107\" x=\"237\" y=\"422.7573\">:&gt;&gt;AnalysisPlan::v</text><line style=\"stroke: #383838; stroke-width: 1.0;\" x1=\"232\" x2=\"284\" y1=\"393.3398\" y2=\"393.3398\"/><text fill=\"#000000\" font-family=\"sans-serif\" font-size=\"11\" lengthAdjust=\"spacingAndGlyphs\" textLength=\"62\" x=\"284\" y=\"396.6479\">references</text><line style=\"stroke: #383838; stroke-width: 1.0;\" x1=\"346\" x2=\"398\" y1=\"393.3398\" y2=\"393.3398\"/><!--MD5=[ee3c913d1a06f366521f9ef512b67efe]\n",
       "class E13--><rect fill=\"#FFFFFF\" height=\"45.9375\" id=\"E13\" rx=\"10\" ry=\"10\" style=\"stroke: #383838; stroke-width: 1.5;\" width=\"151\" x=\"534\" y=\"362\"/><text fill=\"#000000\" font-family=\"sans-serif\" font-size=\"12\" font-style=\"italic\" lengthAdjust=\"spacingAndGlyphs\" textLength=\"91\" x=\"564\" y=\"378.1387\">«requirement»</text><text fill=\"#000000\" font-family=\"sans-serif\" font-size=\"12\" lengthAdjust=\"spacingAndGlyphs\" textLength=\"145\" x=\"537\" y=\"392.1074\">obj: RequirementCheck</text><line style=\"stroke: #383838; stroke-width: 1.5;\" x1=\"535\" x2=\"684\" y1=\"399.9375\" y2=\"399.9375\"/><text fill=\"#000000\" font-family=\"sans-serif\" font-size=\"14\" lengthAdjust=\"spacingAndGlyphs\" textLength=\"7\" x=\"97.5\" y=\"45.6982\">v</text><rect fill=\"#383838\" height=\"12\" style=\"stroke: #F8F8F8; stroke-width: 1.5;\" width=\"12\" x=\"95\" y=\"61\"/><text fill=\"#000000\" font-family=\"sans-serif\" font-size=\"14\" lengthAdjust=\"spacingAndGlyphs\" textLength=\"7\" x=\"311.5\" y=\"309.9951\">v</text><rect fill=\"#383838\" height=\"12\" style=\"stroke: #F8F8F8; stroke-width: 1.5;\" width=\"12\" x=\"309\" y=\"285\"/><text fill=\"#000000\" font-family=\"sans-serif\" font-size=\"14\" lengthAdjust=\"spacingAndGlyphs\" textLength=\"37\" x=\"764.22\" y=\"215.6982\">mass</text><rect fill=\"#383838\" height=\"12\" style=\"stroke: #F8F8F8; stroke-width: 1.5;\" width=\"12\" x=\"776.72\" y=\"231\"/><!--MD5=[05d275557350bfb9b23a4ef7222b4c39]\n",
       "link E3 to E2--><path d=\"M122.33,141 C151.61,141 206.93,141 250.65,141 \" fill=\"none\" id=\"E3-&gt;E2\" style=\"stroke: #383838; stroke-width: 1.0;\"/><polygon fill=\"#FFFFFF\" points=\"270.7,141,251.7,148,251.7,134,270.7,141\" style=\"stroke: #383838; stroke-width: 1.0;\"/><ellipse cx=\"246\" cy=\"146\" fill=\"#383838\" rx=\"2\" ry=\"2\" style=\"stroke: #383838; stroke-width: 1.0;\"/><ellipse cx=\"246\" cy=\"136\" fill=\"#383838\" rx=\"2\" ry=\"2\" style=\"stroke: #383838; stroke-width: 1.0;\"/><!--MD5=[ae660f5ecd7ddb04a8913625960940af]\n",
       "link E12 to E7--><path d=\"M399.23,367.59 C433.29,358.19 472.11,344.43 504,325 C515.27,318.13 513.23,309.98 525,304 C533.37,299.75 542.78,296.81 552.17,294.79 \" fill=\"none\" id=\"E12-&gt;E7\" style=\"stroke: #383838; stroke-width: 1.0;\"/><polygon fill=\"#FFFFFF\" points=\"552.17,294.79,535.0671,305.6294,532.1228,291.9425,552.17,294.79\" style=\"stroke: #383838; stroke-width: 1.0;\"/><ellipse cx=\"529.074\" cy=\"304.8729\" fill=\"#383838\" rx=\"2\" ry=\"2\" style=\"stroke: #383838; stroke-width: 1.0;\"/><ellipse cx=\"526.9709\" cy=\"295.0965\" fill=\"#383838\" rx=\"2\" ry=\"2\" style=\"stroke: #383838; stroke-width: 1.0;\"/><!--MD5=[94adabc162ce7e41b39f13be14fbaeb3]\n",
       "reverse link E11 to E12--><path d=\"M183.59,385 C199.02,385 215.18,385 230.67,385 \" fill=\"none\" id=\"E11&lt;-E12\" style=\"stroke: #383838; stroke-width: 1.0;\"/><polygon fill=\"#383838\" points=\"170.25,385,176.25,389,182.25,385,176.25,381,170.25,385\" style=\"stroke: #383838; stroke-width: 1.0;\"/><!--MD5=[e2a9ac97dcd3257bb5342dae06547bad]\n",
       "link E12 to E13--><path d=\"M399.04,385 C438.61,385 485.84,385 525.42,385 \" fill=\"none\" id=\"E12-&gt;E13\" style=\"stroke: #383838; stroke-width: 1.0;\"/><polygon fill=\"#383838\" points=\"533.75,385,525.75,382,525.75,388,533.75,385\" style=\"stroke: #383838; stroke-width: 1.0;\"/><text fill=\"#000000\" font-family=\"sans-serif\" font-size=\"13\" lengthAdjust=\"spacingAndGlyphs\" textLength=\"73\" x=\"430\" y=\"381.0669\">«objective»</text><!--MD5=[fbedd4865643f6c81c93d5ba344cd01a]\n",
       "@startuml\r\n",
       "left to right direction\r\n",
       "skinparam monochrome true\r\n",
       "skinparam classbackgroundcolor white\r\n",
       "skinparam shadowing false\r\n",
       "skinparam wrapWidth 300\r\n",
       "hide circle\r\n",
       "\r\n",
       "package \"AnalysisTest\" as E1   {\r\n",
       "comp def \"V\" as E2  <<(T,blue)part def>> {\r\n",
       "m: DataValue\r\n",
       "}\r\n",
       "comp usage \"vv: V\" as E3  <<(T,blue)part>> {\r\n",
       "}\r\n",
       "comp def \"AnalysisObjective\" as E4  <<(T,blue)requirement def>> {\r\n",
       "...\r\n",
       "- -\r\n",
       "}\r\n",
       "rec def \"AnalysisCase\" as E5 {\r\n",
       "portin \"v\" as E6  \r\n",
       "}\r\n",
       "\r\n",
       "rec def \"AnalysisPlan\" as E7 {\r\n",
       "portin \"v\" as E8  \r\n",
       "rec usage \"analysisCase\" as E9 {\r\n",
       "portout \"mass\" as E10  \r\n",
       "}\r\n",
       "\r\n",
       "}\r\n",
       "\r\n",
       "comp usage \"analysisContext: Part\" as E11  <<(T,blue)part>> {\r\n",
       "}\r\n",
       "comp usage \"analysisPlan: AnalysisPlan\" as E12 <<analysis>> {\r\n",
       "- -references- -\r\n",
       "v: V= vv; \\n//:>>AnalysisPlan::v// \r\n",
       "}\r\n",
       "comp usage \"obj: RequirementCheck\" as E13  <<(T,blue)requirement>> {\r\n",
       "}\r\n",
       "E3 - -:|> E2\r\n",
       "E12 - -:|> E7\r\n",
       "E11 *- - E12\r\n",
       "E12 - ->> E13 : <<objective>>\r\n",
       "}\r\n",
       "@enduml\r\n",
       "\n",
       "PlantUML version 1.2020.13(Sat Jun 13 12:26:38 UTC 2020)\n",
       "(EPL source distribution)\n",
       "Java Runtime: OpenJDK Runtime Environment\n",
       "JVM: OpenJDK 64-Bit Server VM\n",
       "Default Encoding: UTF-8\n",
       "Language: en\n",
       "Country: null\n",
       "--></g></svg>"
      ]
     },
     "execution_count": 22,
     "metadata": {},
     "output_type": "execute_result"
    }
   ],
   "source": [
    "%viz --style=\"LR\" --view=\"MIXED\" \"AnalysisTest\""
   ]
  },
  {
   "cell_type": "code",
   "execution_count": 23,
   "id": "narrative-delicious",
   "metadata": {
    "execution": {
     "iopub.execute_input": "2021-03-26T09:41:45.843671Z",
     "iopub.status.busy": "2021-03-26T09:41:45.843265Z",
     "iopub.status.idle": "2021-03-26T09:41:45.900935Z",
     "shell.execute_reply": "2021-03-26T09:41:45.899544Z"
    }
   },
   "outputs": [
    {
     "data": {
      "image/svg+xml": [
       "<?xml version=\"1.0\" encoding=\"UTF-8\" standalone=\"no\"?><svg xmlns=\"http://www.w3.org/2000/svg\" xmlns:xlink=\"http://www.w3.org/1999/xlink\" contentScriptType=\"application/ecmascript\" contentStyleType=\"text/css\" height=\"539px\" preserveAspectRatio=\"none\" style=\"width:848px;height:539px;\" version=\"1.1\" viewBox=\"0 0 848 539\" width=\"848px\" zoomAndPan=\"magnify\"><defs><filter height=\"300%\" id=\"fgr3ybsagmyjt\" width=\"300%\" x=\"-1\" y=\"-1\"><feGaussianBlur result=\"blurOut\" stdDeviation=\"2.0\"/><feColorMatrix in=\"blurOut\" result=\"blurOut2\" type=\"matrix\" values=\"0 0 0 0 0 0 0 0 0 0 0 0 0 0 0 0 0 0 .4 0\"/><feOffset dx=\"4.0\" dy=\"4.0\" in=\"blurOut2\" result=\"blurOut3\"/><feBlend in=\"SourceGraphic\" in2=\"blurOut3\" mode=\"normal\"/></filter></defs><g><!--MD5=[fbc87193dbaf4d95561dea2c320d4a47]\n",
       "cluster E1--><polygon fill=\"#FFFFFF\" filter=\"url(#fgr3ybsagmyjt)\" points=\"16,6,122,6,129,28.2969,826,28.2969,826,527.72,16,527.72,16,6\" style=\"stroke: #000000; stroke-width: 1.5;\"/><line style=\"stroke: #000000; stroke-width: 1.5;\" x1=\"16\" x2=\"129\" y1=\"28.2969\" y2=\"28.2969\"/><text fill=\"#000000\" font-family=\"sans-serif\" font-size=\"14\" font-weight=\"bold\" lengthAdjust=\"spacingAndGlyphs\" textLength=\"100\" x=\"20\" y=\"20.9951\">AnalysisTest</text><!--MD5=[de5ec2e2e8f62f467e546659f5068c88]\n",
       "cluster E5--><rect fill=\"#FFFFFF\" filter=\"url(#fgr3ybsagmyjt)\" height=\"158\" style=\"stroke: #000000; stroke-width: 1.5;\" width=\"152\" x=\"658\" y=\"74.5\"/><text fill=\"#000000\" font-family=\"sans-serif\" font-size=\"14\" font-weight=\"bold\" lengthAdjust=\"spacingAndGlyphs\" textLength=\"104\" x=\"682\" y=\"89.4951\">AnalysisCase</text><!--MD5=[168fadf3d0c3fd93dd5d6da1b1d7ab76]\n",
       "cluster E7--><rect fill=\"#FFFFFF\" filter=\"url(#fgr3ybsagmyjt)\" height=\"296.72\" style=\"stroke: #000000; stroke-width: 1.5;\" width=\"256\" x=\"279\" y=\"207\"/><text fill=\"#000000\" font-family=\"sans-serif\" font-size=\"14\" font-weight=\"bold\" lengthAdjust=\"spacingAndGlyphs\" textLength=\"98\" x=\"358\" y=\"221.9951\">AnalysisPlan</text><!--MD5=[7f149f147074ac12df2cb0a7728a5fb0]\n",
       "cluster E9--><rect fill=\"#FEFECE\" filter=\"url(#fgr3ybsagmyjt)\" height=\"146.22\" rx=\"12.5\" ry=\"12.5\" style=\"stroke: #000000; stroke-width: 1.5;\" width=\"138\" x=\"373\" y=\"319.5\"/><rect fill=\"#FFFFFF\" height=\"113.9231\" rx=\"12.5\" ry=\"12.5\" style=\"stroke: #FFFFFF; stroke-width: 1.0;\" width=\"132\" x=\"376\" y=\"348.7969\"/><line style=\"stroke: #000000; stroke-width: 1.5;\" x1=\"373\" x2=\"511\" y1=\"345.7969\" y2=\"345.7969\"/><text fill=\"#000000\" font-family=\"sans-serif\" font-size=\"14\" lengthAdjust=\"spacingAndGlyphs\" textLength=\"89\" x=\"397.5\" y=\"337.4951\">analysisCase</text><!--MD5=[b4997ac47864f28c2f74865a473b2911]\n",
       "class E2--><rect fill=\"#FEFECE\" filter=\"url(#fgr3ybsagmyjt)\" height=\"58.7422\" id=\"E2\" style=\"stroke: #A80036; stroke-width: 1.5;\" width=\"88\" x=\"551\" y=\"177.5\"/><text fill=\"#000000\" font-family=\"sans-serif\" font-size=\"12\" font-style=\"italic\" lengthAdjust=\"spacingAndGlyphs\" textLength=\"64\" x=\"563\" y=\"193.6387\">«part def»</text><text fill=\"#000000\" font-family=\"sans-serif\" font-size=\"12\" lengthAdjust=\"spacingAndGlyphs\" textLength=\"8\" x=\"591\" y=\"207.6074\">V</text><line style=\"stroke: #A80036; stroke-width: 1.5;\" x1=\"552\" x2=\"638\" y1=\"215.4375\" y2=\"215.4375\"/><text fill=\"#000000\" font-family=\"sans-serif\" font-size=\"11\" lengthAdjust=\"spacingAndGlyphs\" textLength=\"76\" x=\"557\" y=\"229.6479\">m: DataValue</text><!--MD5=[09b614a08d8cba4a07c9adeb5e0fee81]\n",
       "class E3--><rect fill=\"#FEFECE\" filter=\"url(#fgr3ybsagmyjt)\" height=\"45.9375\" id=\"E3\" rx=\"10\" ry=\"10\" style=\"stroke: #A80036; stroke-width: 1.5;\" width=\"42\" x=\"574\" y=\"51.5\"/><text fill=\"#000000\" font-family=\"sans-serif\" font-size=\"12\" font-style=\"italic\" lengthAdjust=\"spacingAndGlyphs\" textLength=\"40\" x=\"575\" y=\"67.6387\">«part»</text><text fill=\"#000000\" font-family=\"sans-serif\" font-size=\"12\" lengthAdjust=\"spacingAndGlyphs\" textLength=\"28\" x=\"581\" y=\"81.6074\">vv: V</text><line style=\"stroke: #A80036; stroke-width: 1.5;\" x1=\"575\" x2=\"615\" y1=\"89.4375\" y2=\"89.4375\"/><!--MD5=[ebbe1d658d1005bcc118a6aa81145e00]\n",
       "class E4--><rect fill=\"#FEFECE\" filter=\"url(#fgr3ybsagmyjt)\" height=\"66.7422\" id=\"E4\" style=\"stroke: #A80036; stroke-width: 1.5;\" width=\"117\" x=\"321.5\" y=\"41\"/><text fill=\"#000000\" font-family=\"sans-serif\" font-size=\"12\" font-style=\"italic\" lengthAdjust=\"spacingAndGlyphs\" textLength=\"115\" x=\"322.5\" y=\"57.1387\">«requirement def»</text><text fill=\"#000000\" font-family=\"sans-serif\" font-size=\"12\" lengthAdjust=\"spacingAndGlyphs\" textLength=\"107\" x=\"326.5\" y=\"71.1074\">AnalysisObjective</text><line style=\"stroke: #A80036; stroke-width: 1.5;\" x1=\"322.5\" x2=\"437.5\" y1=\"78.9375\" y2=\"78.9375\"/><text fill=\"#000000\" font-family=\"sans-serif\" font-size=\"11\" lengthAdjust=\"spacingAndGlyphs\" textLength=\"12\" x=\"327.5\" y=\"93.1479\">...</text><line style=\"stroke: #A80036; stroke-width: 1.0;\" x1=\"322.5\" x2=\"437.5\" y1=\"99.7422\" y2=\"99.7422\"/><!--MD5=[1dd1bfd58a279cf63c5f349dbc8fc6a1]\n",
       "class E11--><rect fill=\"#FEFECE\" filter=\"url(#fgr3ybsagmyjt)\" height=\"45.9375\" id=\"E11\" rx=\"10\" ry=\"10\" style=\"stroke: #A80036; stroke-width: 1.5;\" width=\"138\" x=\"47\" y=\"51.5\"/><text fill=\"#000000\" font-family=\"sans-serif\" font-size=\"12\" font-style=\"italic\" lengthAdjust=\"spacingAndGlyphs\" textLength=\"40\" x=\"96\" y=\"67.6387\">«part»</text><text fill=\"#000000\" font-family=\"sans-serif\" font-size=\"12\" lengthAdjust=\"spacingAndGlyphs\" textLength=\"132\" x=\"50\" y=\"81.6074\">analysisContext: Part</text><line style=\"stroke: #A80036; stroke-width: 1.5;\" x1=\"48\" x2=\"184\" y1=\"89.4375\" y2=\"89.4375\"/><!--MD5=[49a0ec8f00dab7302a31f22d0f0fe584]\n",
       "class E12--><rect fill=\"#FEFECE\" filter=\"url(#fgr3ybsagmyjt)\" height=\"75.5469\" id=\"E12\" rx=\"10\" ry=\"10\" style=\"stroke: #A80036; stroke-width: 1.5;\" width=\"169\" x=\"31.5\" y=\"169\"/><text fill=\"#000000\" font-family=\"sans-serif\" font-size=\"12\" font-style=\"italic\" lengthAdjust=\"spacingAndGlyphs\" textLength=\"64\" x=\"84\" y=\"185.1387\">«analysis»</text><text fill=\"#000000\" font-family=\"sans-serif\" font-size=\"12\" lengthAdjust=\"spacingAndGlyphs\" textLength=\"162\" x=\"35\" y=\"199.1074\">analysisPlan: AnalysisPlan</text><line style=\"stroke: #A80036; stroke-width: 1.5;\" x1=\"32.5\" x2=\"199.5\" y1=\"206.9375\" y2=\"206.9375\"/><line style=\"stroke: #000000; stroke-width: 1.0;\" x1=\"37.5\" x2=\"37.5\" y1=\"229.7422\" y2=\"238.7422\"/><polygon fill=\"#FFFF44\" points=\"40.5,230.7422,47.5,234.7422,40.5,238.7422\" style=\"stroke: #000000; stroke-width: 1.0;\"/><text fill=\"#000000\" font-family=\"sans-serif\" font-size=\"11\" lengthAdjust=\"spacingAndGlyphs\" textLength=\"50\" x=\"51.5\" y=\"237.9526\">v: V= vv;</text><text fill=\"#000000\" font-family=\"sans-serif\" font-size=\"11\" lengthAdjust=\"spacingAndGlyphs\" text-decoration=\"line-through\" textLength=\"85\" x=\"109.5\" y=\"237.9526\">AnalysisPlan::v</text><line style=\"stroke: #A80036; stroke-width: 1.0;\" x1=\"32.5\" x2=\"85\" y1=\"221.3398\" y2=\"221.3398\"/><text fill=\"#000000\" font-family=\"sans-serif\" font-size=\"11\" lengthAdjust=\"spacingAndGlyphs\" textLength=\"62\" x=\"85\" y=\"224.6479\">references</text><line style=\"stroke: #A80036; stroke-width: 1.0;\" x1=\"147\" x2=\"199.5\" y1=\"221.3398\" y2=\"221.3398\"/><!--MD5=[ee3c913d1a06f366521f9ef512b67efe]\n",
       "class E13--><rect fill=\"#FEFECE\" filter=\"url(#fgr3ybsagmyjt)\" height=\"45.9375\" id=\"E13\" rx=\"10\" ry=\"10\" style=\"stroke: #A80036; stroke-width: 1.5;\" width=\"151\" x=\"40.5\" y=\"322\"/><text fill=\"#000000\" font-family=\"sans-serif\" font-size=\"12\" font-style=\"italic\" lengthAdjust=\"spacingAndGlyphs\" textLength=\"91\" x=\"70.5\" y=\"338.1387\">«requirement»</text><text fill=\"#000000\" font-family=\"sans-serif\" font-size=\"12\" lengthAdjust=\"spacingAndGlyphs\" textLength=\"145\" x=\"43.5\" y=\"352.1074\">obj: RequirementCheck</text><line style=\"stroke: #A80036; stroke-width: 1.5;\" x1=\"41.5\" x2=\"190.5\" y1=\"359.9375\" y2=\"359.9375\"/><text fill=\"#000000\" font-family=\"sans-serif\" font-size=\"14\" lengthAdjust=\"spacingAndGlyphs\" textLength=\"7\" x=\"730.5\" y=\"53.1982\">v</text><rect fill=\"#A80036\" height=\"12\" style=\"stroke: #FEFECE; stroke-width: 1.5;\" width=\"12\" x=\"728\" y=\"68.5\"/><text fill=\"#000000\" font-family=\"sans-serif\" font-size=\"14\" lengthAdjust=\"spacingAndGlyphs\" textLength=\"7\" x=\"293.5\" y=\"185.6982\">v</text><rect fill=\"#A80036\" height=\"12\" style=\"stroke: #FEFECE; stroke-width: 1.5;\" width=\"12\" x=\"291\" y=\"201\"/><text fill=\"#000000\" font-family=\"sans-serif\" font-size=\"14\" lengthAdjust=\"spacingAndGlyphs\" textLength=\"37\" x=\"423.5\" y=\"484.7151\">mass</text><rect fill=\"#A80036\" height=\"12\" style=\"stroke: #FEFECE; stroke-width: 1.5;\" width=\"12\" x=\"436\" y=\"459.72\"/><!--MD5=[05d275557350bfb9b23a4ef7222b4c39]\n",
       "link E3 to E2--><path d=\"M595,97.64 C595,113.94 595,136.73 595,157.21 \" fill=\"none\" id=\"E3-&gt;E2\" style=\"stroke: #A80036; stroke-width: 1.0;\"/><polygon fill=\"#FFFFFF\" points=\"595,177.35,588,158.35,602,158.35,595,177.35\" style=\"stroke: #A80036; stroke-width: 1.0;\"/><ellipse cx=\"590\" cy=\"152.65\" fill=\"#A80036\" rx=\"2\" ry=\"2\" style=\"stroke: #A80036; stroke-width: 1.0;\"/><ellipse cx=\"600\" cy=\"152.65\" fill=\"#A80036\" rx=\"2\" ry=\"2\" style=\"stroke: #A80036; stroke-width: 1.0;\"/><!--MD5=[ae660f5ecd7ddb04a8913625960940af]\n",
       "link E12 to E7--><path d=\"M165.46,245.16 C185.975,260.575 210.06,278.6725 231.975,295.14 C242.9325,303.3738 253.3475,311.2 262.5025,318.0797 C267.08,321.5195 271.3425,324.7227 275.2003,327.6219 C276.1648,328.3467 277.1039,329.0525 278.0164,329.7382 C278.2445,329.9097 278.471,330.0799 278.6957,330.2488 \" fill=\"none\" id=\"E12-&gt;E7\" style=\"stroke: #A80036; stroke-width: 1.0;\"/><polygon fill=\"#FFFFFF\" points=\"278.6957,330.2488,259.3014,324.4298,267.7123,313.238,278.6957,330.2488\" style=\"stroke: #A80036; stroke-width: 1.0;\"/><ellipse cx=\"255.9463\" cy=\"319.4065\" fill=\"#A80036\" rx=\"2\" ry=\"2\" style=\"stroke: #A80036; stroke-width: 1.0;\"/><ellipse cx=\"261.9541\" cy=\"311.4124\" fill=\"#A80036\" rx=\"2\" ry=\"2\" style=\"stroke: #A80036; stroke-width: 1.0;\"/><!--MD5=[94adabc162ce7e41b39f13be14fbaeb3]\n",
       "reverse link E11 to E12--><path d=\"M116,110.8 C116,128.79 116,150.66 116,168.9 \" fill=\"none\" id=\"E11&lt;-E12\" style=\"stroke: #A80036; stroke-width: 1.0;\"/><polygon fill=\"#A80036\" points=\"116,97.64,112,103.64,116,109.64,120,103.64,116,97.64\" style=\"stroke: #A80036; stroke-width: 1.0;\"/><!--MD5=[e2a9ac97dcd3257bb5342dae06547bad]\n",
       "link E12 to E13--><path d=\"M116,245.16 C116,266.63 116,293.31 116,313.53 \" fill=\"none\" id=\"E12-&gt;E13\" style=\"stroke: #A80036; stroke-width: 1.0;\"/><polygon fill=\"#A80036\" points=\"116,321.77,119,313.77,113,313.77,116,321.77\" style=\"stroke: #A80036; stroke-width: 1.0;\"/><text fill=\"#000000\" font-family=\"sans-serif\" font-size=\"13\" lengthAdjust=\"spacingAndGlyphs\" textLength=\"73\" x=\"117\" y=\"288.0669\">«objective»</text><!--MD5=[3da2d2bcb813935c32a74cf20878d1ec]\n",
       "@startuml\r\n",
       "skinparam wrapWidth 300\r\n",
       "hide circle\r\n",
       "\r\n",
       "package \"AnalysisTest\" as E1   {\r\n",
       "comp def \"V\" as E2  <<(T,blue)part def>> {\r\n",
       "m: DataValue\r\n",
       "}\r\n",
       "comp usage \"vv: V\" as E3  <<(T,blue)part>> {\r\n",
       "}\r\n",
       "comp def \"AnalysisObjective\" as E4  <<(T,blue)requirement def>> {\r\n",
       "...\r\n",
       "- -\r\n",
       "}\r\n",
       "rec def \"AnalysisCase\" as E5 {\r\n",
       "portin \"v\" as E6  \r\n",
       "}\r\n",
       "\r\n",
       "rec def \"AnalysisPlan\" as E7 {\r\n",
       "portin \"v\" as E8  \r\n",
       "rec usage \"analysisCase\" as E9 {\r\n",
       "portout \"mass\" as E10  \r\n",
       "}\r\n",
       "\r\n",
       "}\r\n",
       "\r\n",
       "comp usage \"analysisContext: Part\" as E11  <<(T,blue)part>> {\r\n",
       "}\r\n",
       "comp usage \"analysisPlan: AnalysisPlan\" as E12 <<analysis>> {\r\n",
       "- -references- -\r\n",
       ">v: V= vv;  <s>AnalysisPlan::v</s>\r\n",
       "}\r\n",
       "comp usage \"obj: RequirementCheck\" as E13  <<(T,blue)requirement>> {\r\n",
       "}\r\n",
       "E3 - -:|> E2\r\n",
       "E12 - -:|> E7\r\n",
       "E11 *- - E12\r\n",
       "E12 - ->> E13 : <<objective>>\r\n",
       "}\r\n",
       "@enduml\r\n",
       "\n",
       "PlantUML version 1.2020.13(Sat Jun 13 12:26:38 UTC 2020)\n",
       "(EPL source distribution)\n",
       "Java Runtime: OpenJDK Runtime Environment\n",
       "JVM: OpenJDK 64-Bit Server VM\n",
       "Default Encoding: UTF-8\n",
       "Language: en\n",
       "Country: null\n",
       "--></g></svg>"
      ]
     },
     "execution_count": 23,
     "metadata": {},
     "output_type": "execute_result"
    }
   ],
   "source": [
    "%viz --style=\"STDCOLOR\" --view=\"Default\" \"AnalysisTest\""
   ]
  },
  {
   "cell_type": "code",
   "execution_count": 24,
   "id": "hispanic-adult",
   "metadata": {
    "execution": {
     "iopub.execute_input": "2021-03-26T09:41:45.953230Z",
     "iopub.status.busy": "2021-03-26T09:41:45.952473Z",
     "iopub.status.idle": "2021-03-26T09:41:46.057990Z",
     "shell.execute_reply": "2021-03-26T09:41:46.056490Z"
    }
   },
   "outputs": [
    {
     "data": {
      "image/svg+xml": [
       "<?xml version=\"1.0\" encoding=\"UTF-8\" standalone=\"no\"?><svg xmlns=\"http://www.w3.org/2000/svg\" xmlns:xlink=\"http://www.w3.org/1999/xlink\" contentScriptType=\"application/ecmascript\" contentStyleType=\"text/css\" height=\"923px\" preserveAspectRatio=\"none\" style=\"width:511px;height:923px;\" version=\"1.1\" viewBox=\"0 0 511 923\" width=\"511px\" zoomAndPan=\"magnify\"><defs><filter height=\"300%\" id=\"f160qkro8hpydf\" width=\"300%\" x=\"-1\" y=\"-1\"><feGaussianBlur result=\"blurOut\" stdDeviation=\"2.0\"/><feColorMatrix in=\"blurOut\" result=\"blurOut2\" type=\"matrix\" values=\"0 0 0 0 0 0 0 0 0 0 0 0 0 0 0 0 0 0 .4 0\"/><feOffset dx=\"4.0\" dy=\"4.0\" in=\"blurOut2\" result=\"blurOut3\"/><feBlend in=\"SourceGraphic\" in2=\"blurOut3\" mode=\"normal\"/></filter></defs><g><!--MD5=[fbc87193dbaf4d95561dea2c320d4a47]\n",
       "cluster E1--><polygon fill=\"#FFFFFF\" filter=\"url(#f160qkro8hpydf)\" points=\"16,6,122,6,129,28.2969,467,28.2969,467,911,16,911,16,6\" style=\"stroke: #000000; stroke-width: 1.5;\"/><line style=\"stroke: #000000; stroke-width: 1.5;\" x1=\"16\" x2=\"129\" y1=\"28.2969\" y2=\"28.2969\"/><text fill=\"#000000\" font-family=\"sans-serif\" font-size=\"14\" font-weight=\"bold\" lengthAdjust=\"spacingAndGlyphs\" textLength=\"100\" x=\"20\" y=\"20.9951\">AnalysisTest</text><!--MD5=[b4997ac47864f28c2f74865a473b2911]\n",
       "class E2--><rect fill=\"#FEFECE\" filter=\"url(#f160qkro8hpydf)\" height=\"58.7422\" id=\"E2\" style=\"stroke: #A80036; stroke-width: 1.5;\" width=\"88\" x=\"363\" y=\"699.5\"/><text fill=\"#000000\" font-family=\"sans-serif\" font-size=\"12\" font-style=\"italic\" lengthAdjust=\"spacingAndGlyphs\" textLength=\"64\" x=\"375\" y=\"715.6387\">«part def»</text><text fill=\"#000000\" font-family=\"sans-serif\" font-size=\"12\" lengthAdjust=\"spacingAndGlyphs\" textLength=\"8\" x=\"403\" y=\"729.6074\">V</text><line style=\"stroke: #A80036; stroke-width: 1.5;\" x1=\"364\" x2=\"450\" y1=\"737.4375\" y2=\"737.4375\"/><text fill=\"#000000\" font-family=\"sans-serif\" font-size=\"11\" lengthAdjust=\"spacingAndGlyphs\" textLength=\"76\" x=\"369\" y=\"751.6479\">m: DataValue</text><!--MD5=[09b614a08d8cba4a07c9adeb5e0fee81]\n",
       "class E3--><rect fill=\"#FEFECE\" filter=\"url(#f160qkro8hpydf)\" height=\"45.9375\" id=\"E3\" rx=\"10\" ry=\"10\" style=\"stroke: #A80036; stroke-width: 1.5;\" width=\"42\" x=\"332\" y=\"568\"/><text fill=\"#000000\" font-family=\"sans-serif\" font-size=\"12\" font-style=\"italic\" lengthAdjust=\"spacingAndGlyphs\" textLength=\"40\" x=\"333\" y=\"584.1387\">«part»</text><text fill=\"#000000\" font-family=\"sans-serif\" font-size=\"12\" lengthAdjust=\"spacingAndGlyphs\" textLength=\"28\" x=\"339\" y=\"598.1074\">vv: V</text><line style=\"stroke: #A80036; stroke-width: 1.5;\" x1=\"333\" x2=\"373\" y1=\"605.9375\" y2=\"605.9375\"/><!--MD5=[ebbe1d658d1005bcc118a6aa81145e00]\n",
       "class E4--><rect fill=\"#FEFECE\" filter=\"url(#f160qkro8hpydf)\" height=\"66.7422\" id=\"E4\" style=\"stroke: #A80036; stroke-width: 1.5;\" width=\"117\" x=\"121.5\" y=\"828\"/><text fill=\"#000000\" font-family=\"sans-serif\" font-size=\"12\" font-style=\"italic\" lengthAdjust=\"spacingAndGlyphs\" textLength=\"115\" x=\"122.5\" y=\"844.1387\">«requirement def»</text><text fill=\"#000000\" font-family=\"sans-serif\" font-size=\"12\" lengthAdjust=\"spacingAndGlyphs\" textLength=\"107\" x=\"126.5\" y=\"858.1074\">AnalysisObjective</text><line style=\"stroke: #A80036; stroke-width: 1.5;\" x1=\"122.5\" x2=\"237.5\" y1=\"865.9375\" y2=\"865.9375\"/><text fill=\"#000000\" font-family=\"sans-serif\" font-size=\"11\" lengthAdjust=\"spacingAndGlyphs\" textLength=\"12\" x=\"127.5\" y=\"880.1479\">...</text><line style=\"stroke: #A80036; stroke-width: 1.0;\" x1=\"122.5\" x2=\"237.5\" y1=\"886.7422\" y2=\"886.7422\"/><!--MD5=[270fce915f116d4de14055a7c1d9a0f3]\n",
       "class E5--><rect fill=\"#FEFECE\" filter=\"url(#f160qkro8hpydf)\" height=\"45.9375\" id=\"E5\" style=\"stroke: #A80036; stroke-width: 1.5;\" width=\"90\" x=\"207\" y=\"568\"/><text fill=\"#000000\" font-family=\"sans-serif\" font-size=\"12\" font-style=\"italic\" lengthAdjust=\"spacingAndGlyphs\" textLength=\"88\" x=\"208\" y=\"584.1387\">«analysis def»</text><text fill=\"#000000\" font-family=\"sans-serif\" font-size=\"12\" lengthAdjust=\"spacingAndGlyphs\" textLength=\"81\" x=\"211.5\" y=\"598.1074\">AnalysisCase</text><line style=\"stroke: #A80036; stroke-width: 1.5;\" x1=\"208\" x2=\"296\" y1=\"605.9375\" y2=\"605.9375\"/><!--MD5=[60a26617385b1d2d0262a64233df1f8d]\n",
       "class E6--><rect fill=\"#FEFECE\" filter=\"url(#f160qkro8hpydf)\" height=\"75.5469\" id=\"E6\" rx=\"10\" ry=\"10\" style=\"stroke: #A80036; stroke-width: 1.5;\" width=\"295\" x=\"32.5\" y=\"691\"/><text fill=\"#000000\" font-family=\"sans-serif\" font-size=\"12\" font-style=\"italic\" lengthAdjust=\"spacingAndGlyphs\" textLength=\"91\" x=\"134.5\" y=\"707.1387\">«requirement»</text><text fill=\"#000000\" font-family=\"sans-serif\" font-size=\"12\" lengthAdjust=\"spacingAndGlyphs\" textLength=\"134\" x=\"113\" y=\"721.1074\">obj: AnalysisObjective</text><line style=\"stroke: #A80036; stroke-width: 1.5;\" x1=\"33.5\" x2=\"326.5\" y1=\"728.9375\" y2=\"728.9375\"/><line style=\"stroke: #000000; stroke-width: 1.0;\" x1=\"38.5\" x2=\"38.5\" y1=\"751.7422\" y2=\"760.7422\"/><polygon fill=\"#FFFF44\" points=\"41.5,752.7422,48.5,756.7422,41.5,760.7422\" style=\"stroke: #000000; stroke-width: 1.0;\"/><text fill=\"#000000\" font-family=\"sans-serif\" font-size=\"11\" lengthAdjust=\"spacingAndGlyphs\" textLength=\"130\" x=\"52.5\" y=\"759.9526\">subj: Anything= result;</text><text fill=\"#000000\" font-family=\"sans-serif\" font-size=\"11\" lengthAdjust=\"spacingAndGlyphs\" text-decoration=\"line-through\" textLength=\"131\" x=\"190.5\" y=\"759.9526\">AnalysisObjective::subj</text><line style=\"stroke: #A80036; stroke-width: 1.0;\" x1=\"33.5\" x2=\"149\" y1=\"743.3398\" y2=\"743.3398\"/><text fill=\"#000000\" font-family=\"sans-serif\" font-size=\"11\" lengthAdjust=\"spacingAndGlyphs\" textLength=\"62\" x=\"149\" y=\"746.6479\">references</text><line style=\"stroke: #A80036; stroke-width: 1.0;\" x1=\"211\" x2=\"326.5\" y1=\"743.3398\" y2=\"743.3398\"/><!--MD5=[2156ba9850f5573cc1fc38a6a4b2f02b]\n",
       "class E7--><rect fill=\"#FEFECE\" filter=\"url(#f160qkro8hpydf)\" height=\"45.9375\" id=\"E7\" style=\"stroke: #A80036; stroke-width: 1.5;\" width=\"90\" x=\"174\" y=\"301\"/><text fill=\"#000000\" font-family=\"sans-serif\" font-size=\"12\" font-style=\"italic\" lengthAdjust=\"spacingAndGlyphs\" textLength=\"88\" x=\"175\" y=\"317.1387\">«analysis def»</text><text fill=\"#000000\" font-family=\"sans-serif\" font-size=\"12\" lengthAdjust=\"spacingAndGlyphs\" textLength=\"77\" x=\"180.5\" y=\"331.1074\">AnalysisPlan</text><line style=\"stroke: #A80036; stroke-width: 1.5;\" x1=\"175\" x2=\"263\" y1=\"338.9375\" y2=\"338.9375\"/><!--MD5=[b9389687b975829384b498ac4b7476b2]\n",
       "class E8--><rect fill=\"#FEFECE\" filter=\"url(#f160qkro8hpydf)\" height=\"66.7422\" id=\"E8\" rx=\"10\" ry=\"10\" style=\"stroke: #A80036; stroke-width: 1.5;\" width=\"151\" x=\"243.5\" y=\"424\"/><text fill=\"#000000\" font-family=\"sans-serif\" font-size=\"12\" font-style=\"italic\" lengthAdjust=\"spacingAndGlyphs\" textLength=\"91\" x=\"273.5\" y=\"440.1387\">«requirement»</text><text fill=\"#000000\" font-family=\"sans-serif\" font-size=\"12\" lengthAdjust=\"spacingAndGlyphs\" textLength=\"145\" x=\"246.5\" y=\"454.1074\">obj: RequirementCheck</text><line style=\"stroke: #A80036; stroke-width: 1.5;\" x1=\"244.5\" x2=\"393.5\" y1=\"461.9375\" y2=\"461.9375\"/><text fill=\"#000000\" font-family=\"sans-serif\" font-size=\"11\" lengthAdjust=\"spacingAndGlyphs\" textLength=\"12\" x=\"249.5\" y=\"476.1479\">...</text><line style=\"stroke: #A80036; stroke-width: 1.0;\" x1=\"244.5\" x2=\"393.5\" y1=\"482.7422\" y2=\"482.7422\"/><!--MD5=[fd4143e9d270a159db93a4ea2a975926]\n",
       "class E9--><rect fill=\"#FEFECE\" filter=\"url(#f160qkro8hpydf)\" height=\"45.9375\" id=\"E9\" rx=\"10\" ry=\"10\" style=\"stroke: #A80036; stroke-width: 1.5;\" width=\"176\" x=\"32\" y=\"434.5\"/><text fill=\"#000000\" font-family=\"sans-serif\" font-size=\"12\" font-style=\"italic\" lengthAdjust=\"spacingAndGlyphs\" textLength=\"64\" x=\"88\" y=\"450.6387\">«analysis»</text><text fill=\"#000000\" font-family=\"sans-serif\" font-size=\"12\" lengthAdjust=\"spacingAndGlyphs\" textLength=\"170\" x=\"35\" y=\"464.6074\">analysisCase: AnalysisCase</text><line style=\"stroke: #A80036; stroke-width: 1.5;\" x1=\"33\" x2=\"207\" y1=\"472.4375\" y2=\"472.4375\"/><!--MD5=[96f4274e9e20536e775497830990834d]\n",
       "class E10--><rect fill=\"#FEFECE\" filter=\"url(#f160qkro8hpydf)\" height=\"45.9375\" id=\"E10\" rx=\"10\" ry=\"10\" style=\"stroke: #A80036; stroke-width: 1.5;\" width=\"140\" x=\"32\" y=\"568\"/><text fill=\"#000000\" font-family=\"sans-serif\" font-size=\"12\" font-style=\"italic\" lengthAdjust=\"spacingAndGlyphs\" textLength=\"91\" x=\"56.5\" y=\"584.1387\">«requirement»</text><text fill=\"#000000\" font-family=\"sans-serif\" font-size=\"12\" lengthAdjust=\"spacingAndGlyphs\" textLength=\"134\" x=\"35\" y=\"598.1074\">obj: AnalysisObjective</text><line style=\"stroke: #A80036; stroke-width: 1.5;\" x1=\"33\" x2=\"171\" y1=\"605.9375\" y2=\"605.9375\"/><!--MD5=[1dd1bfd58a279cf63c5f349dbc8fc6a1]\n",
       "class E11--><rect fill=\"#FEFECE\" filter=\"url(#f160qkro8hpydf)\" height=\"45.9375\" id=\"E11\" rx=\"10\" ry=\"10\" style=\"stroke: #A80036; stroke-width: 1.5;\" width=\"138\" x=\"228\" y=\"41\"/><text fill=\"#000000\" font-family=\"sans-serif\" font-size=\"12\" font-style=\"italic\" lengthAdjust=\"spacingAndGlyphs\" textLength=\"40\" x=\"277\" y=\"57.1387\">«part»</text><text fill=\"#000000\" font-family=\"sans-serif\" font-size=\"12\" lengthAdjust=\"spacingAndGlyphs\" textLength=\"132\" x=\"231\" y=\"71.1074\">analysisContext: Part</text><line style=\"stroke: #A80036; stroke-width: 1.5;\" x1=\"229\" x2=\"365\" y1=\"78.9375\" y2=\"78.9375\"/><!--MD5=[49a0ec8f00dab7302a31f22d0f0fe584]\n",
       "class E12--><rect fill=\"#FEFECE\" filter=\"url(#f160qkro8hpydf)\" height=\"75.5469\" id=\"E12\" rx=\"10\" ry=\"10\" style=\"stroke: #A80036; stroke-width: 1.5;\" width=\"169\" x=\"212.5\" y=\"148\"/><text fill=\"#000000\" font-family=\"sans-serif\" font-size=\"12\" font-style=\"italic\" lengthAdjust=\"spacingAndGlyphs\" textLength=\"64\" x=\"265\" y=\"164.1387\">«analysis»</text><text fill=\"#000000\" font-family=\"sans-serif\" font-size=\"12\" lengthAdjust=\"spacingAndGlyphs\" textLength=\"162\" x=\"216\" y=\"178.1074\">analysisPlan: AnalysisPlan</text><line style=\"stroke: #A80036; stroke-width: 1.5;\" x1=\"213.5\" x2=\"380.5\" y1=\"185.9375\" y2=\"185.9375\"/><line style=\"stroke: #000000; stroke-width: 1.0;\" x1=\"218.5\" x2=\"218.5\" y1=\"208.7422\" y2=\"217.7422\"/><polygon fill=\"#FFFF44\" points=\"221.5,209.7422,228.5,213.7422,221.5,217.7422\" style=\"stroke: #000000; stroke-width: 1.0;\"/><text fill=\"#000000\" font-family=\"sans-serif\" font-size=\"11\" lengthAdjust=\"spacingAndGlyphs\" textLength=\"50\" x=\"232.5\" y=\"216.9526\">v: V= vv;</text><text fill=\"#000000\" font-family=\"sans-serif\" font-size=\"11\" lengthAdjust=\"spacingAndGlyphs\" text-decoration=\"line-through\" textLength=\"85\" x=\"290.5\" y=\"216.9526\">AnalysisPlan::v</text><line style=\"stroke: #A80036; stroke-width: 1.0;\" x1=\"213.5\" x2=\"266\" y1=\"200.3398\" y2=\"200.3398\"/><text fill=\"#000000\" font-family=\"sans-serif\" font-size=\"11\" lengthAdjust=\"spacingAndGlyphs\" textLength=\"62\" x=\"266\" y=\"203.6479\">references</text><line style=\"stroke: #A80036; stroke-width: 1.0;\" x1=\"328\" x2=\"380.5\" y1=\"200.3398\" y2=\"200.3398\"/><!--MD5=[ee3c913d1a06f366521f9ef512b67efe]\n",
       "class E13--><rect fill=\"#FEFECE\" filter=\"url(#f160qkro8hpydf)\" height=\"45.9375\" id=\"E13\" rx=\"10\" ry=\"10\" style=\"stroke: #A80036; stroke-width: 1.5;\" width=\"151\" x=\"299.5\" y=\"301\"/><text fill=\"#000000\" font-family=\"sans-serif\" font-size=\"12\" font-style=\"italic\" lengthAdjust=\"spacingAndGlyphs\" textLength=\"91\" x=\"329.5\" y=\"317.1387\">«requirement»</text><text fill=\"#000000\" font-family=\"sans-serif\" font-size=\"12\" lengthAdjust=\"spacingAndGlyphs\" textLength=\"145\" x=\"302.5\" y=\"331.1074\">obj: RequirementCheck</text><line style=\"stroke: #A80036; stroke-width: 1.5;\" x1=\"300.5\" x2=\"449.5\" y1=\"338.9375\" y2=\"338.9375\"/><!--MD5=[05d275557350bfb9b23a4ef7222b4c39]\n",
       "link E3 to E2--><path d=\"M363.72,614.08 C368.03,623.25 372.94,634.06 377,644 C381.76,655.66 386.53,668.4 390.81,680.34 \" fill=\"none\" id=\"E3-&gt;E2\" style=\"stroke: #A80036; stroke-width: 1.0;\"/><polygon fill=\"#FFFFFF\" points=\"397.49,699.38,384.6032,683.7617,397.8163,679.1342,397.49,699.38\" style=\"stroke: #A80036; stroke-width: 1.0;\"/><ellipse cx=\"384.6067\" cy=\"677.7211\" fill=\"#A80036\" rx=\"2\" ry=\"2\" style=\"stroke: #A80036; stroke-width: 1.0;\"/><ellipse cx=\"394.0446\" cy=\"674.4156\" fill=\"#A80036\" rx=\"2\" ry=\"2\" style=\"stroke: #A80036; stroke-width: 1.0;\"/><!--MD5=[15ebcb19ae302d9b601edb458606d402]\n",
       "link E5 to E2--><path d=\"M266.1,614.05 C275.93,628.42 289.95,647.02 305,661 C314.24,669.58 336.95,684.68 358.6,698.37 \" fill=\"none\" id=\"E5-&gt;E2\" style=\"stroke: #A80036; stroke-width: 1.0; stroke-dasharray: 7.0,7.0;\"/><polygon fill=\"#A80036\" points=\"362.91,701.08,357.4178,692.9047,358.6764,698.4197,353.1614,699.6784,362.91,701.08\" style=\"stroke: #A80036; stroke-width: 1.0;\"/><text fill=\"#000000\" font-family=\"sans-serif\" font-size=\"13\" lengthAdjust=\"spacingAndGlyphs\" textLength=\"62\" x=\"306\" y=\"657.0669\">«subject»</text><!--MD5=[9120cf2e5df3bff93db8f754bbbc09b4]\n",
       "link E5 to E6--><path d=\"M213.85,614.23 C203.41,622.25 193.25,632.27 187,644 C180.79,655.66 178.09,669.54 177.19,682.62 \" fill=\"none\" id=\"E5-&gt;E6\" style=\"stroke: #A80036; stroke-width: 1.0;\"/><polygon fill=\"#A80036\" points=\"176.85,690.64,180.1898,682.7758,174.1953,682.5189,176.85,690.64\" style=\"stroke: #A80036; stroke-width: 1.0;\"/><text fill=\"#000000\" font-family=\"sans-serif\" font-size=\"13\" lengthAdjust=\"spacingAndGlyphs\" textLength=\"73\" x=\"188\" y=\"657.0669\">«objective»</text><!--MD5=[f667431f98296947986a1a7595a31603]\n",
       "link E6 to E4--><path d=\"M180,767.05 C180,779.61 180,793.89 180,807.45 \" fill=\"none\" id=\"E6-&gt;E4\" style=\"stroke: #A80036; stroke-width: 1.0;\"/><polygon fill=\"#FFFFFF\" points=\"180,827.81,173,808.81,187,808.81,180,827.81\" style=\"stroke: #A80036; stroke-width: 1.0;\"/><ellipse cx=\"175\" cy=\"803.11\" fill=\"#A80036\" rx=\"2\" ry=\"2\" style=\"stroke: #A80036; stroke-width: 1.0;\"/><ellipse cx=\"185\" cy=\"803.11\" fill=\"#A80036\" rx=\"2\" ry=\"2\" style=\"stroke: #A80036; stroke-width: 1.0;\"/><!--MD5=[583832df87f4419a098336a29a52fa00]\n",
       "link E7 to E2--><path d=\"M264.19,341.07 C296.35,352.8 336.5,368.15 352,377 C381.42,393.79 397.17,393.54 412,424 C455.52,513.37 432.31,635.76 416.99,694.23 \" fill=\"none\" id=\"E7-&gt;E2\" style=\"stroke: #A80036; stroke-width: 1.0; stroke-dasharray: 7.0,7.0;\"/><polygon fill=\"#A80036\" points=\"415.63,699.34,421.8111,691.6723,416.9165,694.5084,414.0804,689.6138,415.63,699.34\" style=\"stroke: #A80036; stroke-width: 1.0;\"/><text fill=\"#000000\" font-family=\"sans-serif\" font-size=\"13\" lengthAdjust=\"spacingAndGlyphs\" textLength=\"62\" x=\"437\" y=\"534.0669\">«subject»</text><!--MD5=[79bc8f324ef4d02c541433f2e6e513c3]\n",
       "link E7 to E8--><path d=\"M235.74,347.01 C250.26,366.11 271.64,394.22 289.09,417.17 \" fill=\"none\" id=\"E7-&gt;E8\" style=\"stroke: #A80036; stroke-width: 1.0;\"/><polygon fill=\"#A80036\" points=\"294.14,423.81,291.6874,415.6256,286.9106,419.2564,294.14,423.81\" style=\"stroke: #A80036; stroke-width: 1.0;\"/><text fill=\"#000000\" font-family=\"sans-serif\" font-size=\"13\" lengthAdjust=\"spacingAndGlyphs\" textLength=\"73\" x=\"270\" y=\"390.0669\">«objective»</text><!--MD5=[bfc3ddf2e613be37104f658f09af896c]\n",
       "link E9 to E5--><path d=\"M148.4,480.58 C162.6,492.09 179.75,506.71 194,521 C203.65,530.67 213.46,541.77 222.2,552.19 \" fill=\"none\" id=\"E9-&gt;E5\" style=\"stroke: #A80036; stroke-width: 1.0;\"/><polygon fill=\"#FFFFFF\" points=\"234.88,567.72,217.4416,557.4291,228.2864,548.5752,234.88,567.72\" style=\"stroke: #A80036; stroke-width: 1.0;\"/><ellipse cx=\"215.3861\" cy=\"551.7489\" fill=\"#A80036\" rx=\"2\" ry=\"2\" style=\"stroke: #A80036; stroke-width: 1.0;\"/><ellipse cx=\"223.1323\" cy=\"545.4246\" fill=\"#A80036\" rx=\"2\" ry=\"2\" style=\"stroke: #A80036; stroke-width: 1.0;\"/><!--MD5=[e4a10ef82d0e328e31cac39a31e58dda]\n",
       "reverse link E7 to E9--><path d=\"M194.38,357.71 C176.37,381.63 152.42,413.44 136.62,434.42 \" fill=\"none\" id=\"E7&lt;-E9\" style=\"stroke: #A80036; stroke-width: 1.0;\"/><polygon fill=\"#A80036\" points=\"202.43,347.01,195.6263,349.3995,195.2152,356.5989,202.0189,354.2094,202.43,347.01\" style=\"stroke: #A80036; stroke-width: 1.0;\"/><!--MD5=[35e5f1cbde42fa304a029880aa2bc7f2]\n",
       "link E9 to E10--><path d=\"M116.99,480.51 C114.01,502.22 109.45,535.59 106.14,559.78 \" fill=\"none\" id=\"E9-&gt;E10\" style=\"stroke: #A80036; stroke-width: 1.0;\"/><polygon fill=\"#A80036\" points=\"105.02,567.92,109.0776,560.401,103.1331,559.587,105.02,567.92\" style=\"stroke: #A80036; stroke-width: 1.0;\"/><text fill=\"#000000\" font-family=\"sans-serif\" font-size=\"13\" lengthAdjust=\"spacingAndGlyphs\" textLength=\"73\" x=\"112\" y=\"534.0669\">«objective»</text><!--MD5=[198716bf12f04006f5c20d61bde6d80d]\n",
       "link E10 to E6--><path d=\"M114.71,614.15 C123.92,630.22 136.8,652.68 148.69,673.41 \" fill=\"none\" id=\"E10-&gt;E6\" style=\"stroke: #A80036; stroke-width: 1.0;\"/><polygon fill=\"#FFFFFF\" points=\"158.77,690.97,143.2438,677.9725,155.3875,671.0061,158.77,690.97\" style=\"stroke: #A80036; stroke-width: 1.0;\"/><line style=\"stroke: #A80036; stroke-width: 2.0;\" x1=\"141.3529\" x2=\"153.4966\" y1=\"674.6763\" y2=\"667.7099\"/><!--MD5=[ae660f5ecd7ddb04a8913625960940af]\n",
       "link E12 to E7--><path d=\"M275.69,224.16 C265.19,242.47 252.52,264.56 241.82,283.21 \" fill=\"none\" id=\"E12-&gt;E7\" style=\"stroke: #A80036; stroke-width: 1.0;\"/><polygon fill=\"#FFFFFF\" points=\"231.75,300.77,235.1273,280.8052,247.2728,287.7684,231.75,300.77\" style=\"stroke: #A80036; stroke-width: 1.0;\"/><ellipse cx=\"239.6973\" cy=\"276.8549\" fill=\"#A80036\" rx=\"2\" ry=\"2\" style=\"stroke: #A80036; stroke-width: 1.0;\"/><ellipse cx=\"248.3727\" cy=\"281.8286\" fill=\"#A80036\" rx=\"2\" ry=\"2\" style=\"stroke: #A80036; stroke-width: 1.0;\"/><!--MD5=[94adabc162ce7e41b39f13be14fbaeb3]\n",
       "reverse link E11 to E12--><path d=\"M297,100.35 C297,115.21 297,132.5 297,147.57 \" fill=\"none\" id=\"E11&lt;-E12\" style=\"stroke: #A80036; stroke-width: 1.0;\"/><polygon fill=\"#A80036\" points=\"297,87.01,293,93.01,297,99.01,301,93.01,297,87.01\" style=\"stroke: #A80036; stroke-width: 1.0;\"/><!--MD5=[e2a9ac97dcd3257bb5342dae06547bad]\n",
       "link E12 to E13--><path d=\"M318.31,224.16 C330.85,246.02 346.47,273.26 358.14,293.61 \" fill=\"none\" id=\"E12-&gt;E13\" style=\"stroke: #A80036; stroke-width: 1.0;\"/><polygon fill=\"#A80036\" points=\"362.25,300.77,360.8819,292.3362,355.6737,295.3154,362.25,300.77\" style=\"stroke: #A80036; stroke-width: 1.0;\"/><text fill=\"#000000\" font-family=\"sans-serif\" font-size=\"13\" lengthAdjust=\"spacingAndGlyphs\" textLength=\"73\" x=\"343\" y=\"267.0669\">«objective»</text><!--MD5=[3bae6688dc702e66050e7a5eecba9254]\n",
       "@startuml\r\n",
       "skinparam wrapWidth 300\r\n",
       "hide circle\r\n",
       "\r\n",
       "package \"AnalysisTest\" as E1   {\r\n",
       "comp def \"V\" as E2  <<(T,blue)part def>> {\r\n",
       "m: DataValue\r\n",
       "}\r\n",
       "comp usage \"vv: V\" as E3  <<(T,blue)part>> {\r\n",
       "}\r\n",
       "comp def \"AnalysisObjective\" as E4  <<(T,blue)requirement def>> {\r\n",
       "...\r\n",
       "- -\r\n",
       "}\r\n",
       "comp def \"AnalysisCase\" as E5 <<analysis def>> {\r\n",
       "}\r\n",
       "comp usage \"obj: AnalysisObjective\" as E6  <<(T,blue)requirement>> {\r\n",
       "- -references- -\r\n",
       ">subj: Anything= result;  <s>AnalysisObjective::subj</s>\r\n",
       "}\r\n",
       "comp def \"AnalysisPlan\" as E7 <<analysis def>> {\r\n",
       "}\r\n",
       "comp usage \"obj: RequirementCheck\" as E8  <<(T,blue)requirement>> {\r\n",
       "...\r\n",
       "- -\r\n",
       "}\r\n",
       "comp usage \"analysisCase: AnalysisCase\" as E9 <<analysis>> {\r\n",
       "}\r\n",
       "comp usage \"obj: AnalysisObjective\" as E10  <<(T,blue)requirement>> {\r\n",
       "}\r\n",
       "comp usage \"analysisContext: Part\" as E11  <<(T,blue)part>> {\r\n",
       "}\r\n",
       "comp usage \"analysisPlan: AnalysisPlan\" as E12 <<analysis>> {\r\n",
       "- -references- -\r\n",
       ">v: V= vv;  <s>AnalysisPlan::v</s>\r\n",
       "}\r\n",
       "comp usage \"obj: RequirementCheck\" as E13  <<(T,blue)requirement>> {\r\n",
       "}\r\n",
       "E3 - -:|> E2\r\n",
       "E5 ..> E2 : <<subject>>\r\n",
       "E5 - ->> E6 : <<objective>>\r\n",
       "E6 - -:|> E4\r\n",
       "E7 ..> E2 : <<subject>>\r\n",
       "E7 - ->> E8 : <<objective>>\r\n",
       "E9 - -:|> E5\r\n",
       "E7 *- - E9\r\n",
       "E9 - ->> E10 : <<objective>>\r\n",
       "E10 - -||> E6\r\n",
       "E12 - -:|> E7\r\n",
       "E11 *- - E12\r\n",
       "E12 - ->> E13 : <<objective>>\r\n",
       "}\r\n",
       "@enduml\r\n",
       "\n",
       "PlantUML version 1.2020.13(Sat Jun 13 12:26:38 UTC 2020)\n",
       "(EPL source distribution)\n",
       "Java Runtime: OpenJDK Runtime Environment\n",
       "JVM: OpenJDK 64-Bit Server VM\n",
       "Default Encoding: UTF-8\n",
       "Language: en\n",
       "Country: null\n",
       "--></g></svg>"
      ]
     },
     "execution_count": 24,
     "metadata": {},
     "output_type": "execute_result"
    }
   ],
   "source": [
    "%viz --style=\"STDCOLOR\" --view=\"Tree\" \"AnalysisTest\""
   ]
  },
  {
   "cell_type": "code",
   "execution_count": 25,
   "id": "least-calendar",
   "metadata": {
    "execution": {
     "iopub.execute_input": "2021-03-26T09:41:46.108318Z",
     "iopub.status.busy": "2021-03-26T09:41:46.107909Z",
     "iopub.status.idle": "2021-03-26T09:41:46.110365Z",
     "shell.execute_reply": "2021-03-26T09:41:46.110878Z"
    }
   },
   "outputs": [
    {
     "data": {
      "text/plain": [
       "java.lang.IllegalArgumentException: Invalid View: State View candidates are: Default Tree StateMachine Interconnection Activity Sequence MIXED \n",
       "\tat org.omg.sysml.plantuml.SysML2PlantUMLSvc.setView(SysML2PlantUMLSvc.java:63)\n",
       "\tat org.omg.sysml.interactive.SysMLInteractive.viz(SysMLInteractive.java:286)\n",
       "\tat org.omg.sysml.jupyter.kernel.magic.Viz.viz(Viz.java:47)\n",
       "\tat jdk.internal.reflect.GeneratedMethodAccessor13.invoke(Unknown Source)\n",
       "\tat java.base/jdk.internal.reflect.DelegatingMethodAccessorImpl.invoke(DelegatingMethodAccessorImpl.java:43)\n",
       "\tat java.base/java.lang.reflect.Method.invoke(Method.java:568)\n",
       "\tat io.github.spencerpark.jupyter.kernel.magic.registry.Magics.invoke(Magics.java:89)\n",
       "\tat io.github.spencerpark.jupyter.kernel.magic.registry.Magics.access$000(Magics.java:8)\n",
       "\tat io.github.spencerpark.jupyter.kernel.magic.registry.Magics$LineReflectionMagicFunction.execute(Magics.java:149)\n",
       "\tat io.github.spencerpark.jupyter.kernel.magic.registry.Magics.applyLineMagic(Magics.java:26)\n",
       "\tat org.omg.sysml.jupyter.kernel.SysMLKernel.eval(SysMLKernel.java:76)\n",
       "\tat io.github.spencerpark.jupyter.kernel.BaseKernel.handleExecuteRequest(BaseKernel.java:334)\n",
       "\tat io.github.spencerpark.jupyter.channels.ShellChannel.lambda$bind$0(ShellChannel.java:64)\n",
       "\tat io.github.spencerpark.jupyter.channels.Loop.lambda$new$0(Loop.java:21)\n",
       "\tat io.github.spencerpark.jupyter.channels.Loop.run(Loop.java:78)\n"
      ]
     },
     "execution_count": 25,
     "metadata": {},
     "output_type": "execute_result"
    }
   ],
   "source": [
    "%viz --style=\"STDCOLOR\" --view=\"State\" \"AnalysisTest\""
   ]
  },
  {
   "cell_type": "code",
   "execution_count": 26,
   "id": "supported-anaheim",
   "metadata": {
    "execution": {
     "iopub.execute_input": "2021-03-26T09:41:46.163850Z",
     "iopub.status.busy": "2021-03-26T09:41:46.163002Z",
     "iopub.status.idle": "2021-03-26T09:41:46.198612Z",
     "shell.execute_reply": "2021-03-26T09:41:46.196734Z"
    }
   },
   "outputs": [
    {
     "data": {
      "image/svg+xml": [
       "<?xml version=\"1.0\" encoding=\"UTF-8\" standalone=\"no\"?><svg xmlns=\"http://www.w3.org/2000/svg\" xmlns:xlink=\"http://www.w3.org/1999/xlink\" contentScriptType=\"application/ecmascript\" contentStyleType=\"text/css\" height=\"202px\" preserveAspectRatio=\"none\" style=\"width:957px;height:202px;\" version=\"1.1\" viewBox=\"0 0 957 202\" width=\"957px\" zoomAndPan=\"magnify\"><defs><filter height=\"300%\" id=\"f10bac7mbsf4yq\" width=\"300%\" x=\"-1\" y=\"-1\"><feGaussianBlur result=\"blurOut\" stdDeviation=\"2.0\"/><feColorMatrix in=\"blurOut\" result=\"blurOut2\" type=\"matrix\" values=\"0 0 0 0 0 0 0 0 0 0 0 0 0 0 0 0 0 0 .4 0\"/><feOffset dx=\"4.0\" dy=\"4.0\" in=\"blurOut2\" result=\"blurOut3\"/><feBlend in=\"SourceGraphic\" in2=\"blurOut3\" mode=\"normal\"/></filter></defs><g><!--MD5=[fbc87193dbaf4d95561dea2c320d4a47]\n",
       "cluster E1--><polygon fill=\"#FFFFFF\" filter=\"url(#f10bac7mbsf4yq)\" points=\"16,6,122,6,129,28.2969,935,28.2969,935,190,16,190,16,6\" style=\"stroke: #000000; stroke-width: 1.5;\"/><line style=\"stroke: #000000; stroke-width: 1.5;\" x1=\"16\" x2=\"129\" y1=\"28.2969\" y2=\"28.2969\"/><text fill=\"#000000\" font-family=\"sans-serif\" font-size=\"14\" font-weight=\"bold\" lengthAdjust=\"spacingAndGlyphs\" textLength=\"100\" x=\"20\" y=\"20.9951\">AnalysisTest</text><!--MD5=[e4f7fae6ed58524ba242bb0b0d3be6b7]\n",
       "cluster E2--><rect fill=\"#FFFFFF\" filter=\"url(#f10bac7mbsf4yq)\" height=\"117\" style=\"stroke: #000000; stroke-width: 1.5;\" width=\"144\" x=\"767\" y=\"49\"/><text fill=\"#000000\" font-family=\"sans-serif\" font-size=\"14\" font-style=\"italic\" lengthAdjust=\"spacingAndGlyphs\" textLength=\"71\" x=\"803.5\" y=\"63.9951\">«part def»</text><text fill=\"#000000\" font-family=\"sans-serif\" font-size=\"14\" font-weight=\"bold\" lengthAdjust=\"spacingAndGlyphs\" textLength=\"11\" x=\"833.5\" y=\"80.292\">V</text><!--MD5=[270fce915f116d4de14055a7c1d9a0f3]\n",
       "class E5--><rect fill=\"#FEFECE\" filter=\"url(#f10bac7mbsf4yq)\" height=\"53.9375\" id=\"E5\" style=\"stroke: #A80036; stroke-width: 1.5;\" width=\"117\" x=\"630.5\" y=\"98\"/><text fill=\"#000000\" font-family=\"sans-serif\" font-size=\"12\" font-style=\"italic\" lengthAdjust=\"spacingAndGlyphs\" textLength=\"115\" x=\"631.5\" y=\"114.1387\">«requirement def»</text><text fill=\"#000000\" font-family=\"sans-serif\" font-size=\"12\" lengthAdjust=\"spacingAndGlyphs\" textLength=\"107\" x=\"635.5\" y=\"128.1074\">AnalysisObjective</text><line style=\"stroke: #A80036; stroke-width: 1.5;\" x1=\"631.5\" x2=\"746.5\" y1=\"135.9375\" y2=\"135.9375\"/><line style=\"stroke: #A80036; stroke-width: 1.5;\" x1=\"631.5\" x2=\"746.5\" y1=\"143.9375\" y2=\"143.9375\"/><!--MD5=[60a26617385b1d2d0262a64233df1f8d]\n",
       "class E6--><rect fill=\"#FEFECE\" filter=\"url(#f10bac7mbsf4yq)\" height=\"53.9375\" id=\"E6\" style=\"stroke: #A80036; stroke-width: 1.5;\" width=\"121\" x=\"474.5\" y=\"98\"/><text fill=\"#000000\" font-family=\"sans-serif\" font-size=\"12\" font-style=\"italic\" lengthAdjust=\"spacingAndGlyphs\" textLength=\"119\" x=\"475.5\" y=\"114.1387\">«analysisCase def»</text><text fill=\"#000000\" font-family=\"sans-serif\" font-size=\"12\" lengthAdjust=\"spacingAndGlyphs\" textLength=\"81\" x=\"494.5\" y=\"128.1074\">AnalysisCase</text><line style=\"stroke: #A80036; stroke-width: 1.5;\" x1=\"475.5\" x2=\"594.5\" y1=\"135.9375\" y2=\"135.9375\"/><line style=\"stroke: #A80036; stroke-width: 1.5;\" x1=\"475.5\" x2=\"594.5\" y1=\"143.9375\" y2=\"143.9375\"/><!--MD5=[2156ba9850f5573cc1fc38a6a4b2f02b]\n",
       "class E7--><rect fill=\"#FEFECE\" filter=\"url(#f10bac7mbsf4yq)\" height=\"53.9375\" id=\"E7\" style=\"stroke: #A80036; stroke-width: 1.5;\" width=\"121\" x=\"318.5\" y=\"98\"/><text fill=\"#000000\" font-family=\"sans-serif\" font-size=\"12\" font-style=\"italic\" lengthAdjust=\"spacingAndGlyphs\" textLength=\"119\" x=\"319.5\" y=\"114.1387\">«analysisCase def»</text><text fill=\"#000000\" font-family=\"sans-serif\" font-size=\"12\" lengthAdjust=\"spacingAndGlyphs\" textLength=\"77\" x=\"340.5\" y=\"128.1074\">AnalysisPlan</text><line style=\"stroke: #A80036; stroke-width: 1.5;\" x1=\"319.5\" x2=\"438.5\" y1=\"135.9375\" y2=\"135.9375\"/><line style=\"stroke: #A80036; stroke-width: 1.5;\" x1=\"319.5\" x2=\"438.5\" y1=\"143.9375\" y2=\"143.9375\"/><g id=\"E1.E2.E3\"><rect fill=\"#FFFFFF\" filter=\"url(#f10bac7mbsf4yq)\" height=\"50\" rx=\"12.5\" ry=\"12.5\" style=\"stroke: #A80036; stroke-width: 1.5;\" width=\"112\" x=\"783\" y=\"100\"/><line style=\"stroke: #A80036; stroke-width: 1.5;\" x1=\"783\" x2=\"895\" y1=\"126.2969\" y2=\"126.2969\"/><text fill=\"#000000\" font-family=\"sans-serif\" font-size=\"14\" lengthAdjust=\"spacingAndGlyphs\" textLength=\"92\" x=\"793\" y=\"117.9951\">m: DataValue</text></g><g id=\"E1.E4\"><rect fill=\"#FFFFFF\" filter=\"url(#f10bac7mbsf4yq)\" height=\"50\" rx=\"12.5\" ry=\"12.5\" style=\"stroke: #A80036; stroke-width: 1.5;\" width=\"52\" x=\"231\" y=\"100\"/><line style=\"stroke: #A80036; stroke-width: 1.5;\" x1=\"231\" x2=\"283\" y1=\"126.2969\" y2=\"126.2969\"/><text fill=\"#000000\" font-family=\"sans-serif\" font-size=\"14\" lengthAdjust=\"spacingAndGlyphs\" textLength=\"32\" x=\"241\" y=\"117.9951\">vv: V</text></g><g id=\"E1.E8\"><rect fill=\"#FFFFFF\" filter=\"url(#f10bac7mbsf4yq)\" height=\"50\" rx=\"12.5\" ry=\"12.5\" style=\"stroke: #A80036; stroke-width: 1.5;\" width=\"164\" x=\"32\" y=\"100\"/><line style=\"stroke: #A80036; stroke-width: 1.5;\" x1=\"32\" x2=\"196\" y1=\"126.2969\" y2=\"126.2969\"/><text fill=\"#000000\" font-family=\"sans-serif\" font-size=\"14\" lengthAdjust=\"spacingAndGlyphs\" textLength=\"144\" x=\"42\" y=\"117.9951\">analysisContext: Part</text></g><!--MD5=[9a5d261a428daaf02a0fadac4c016537]\n",
       "@startuml\r\n",
       "skinparam ranksep 8\r\n",
       "skinparam rectangle {\r\n",
       " backgroundColor<<block>> LightGreen\r\n",
       "}\r\n",
       "skinparam wrapWidth 300\r\n",
       "hide circle\r\n",
       "\r\n",
       "package \"AnalysisTest\" as E1   {\r\n",
       "rec def \"V\" as E2  <<part def>> {\r\n",
       "rec usage \"m: DataValue\" as E3  <<attribute>> {\r\n",
       "}\r\n",
       "}\r\n",
       "rec usage \"vv: V\" as E4  {\r\n",
       "}\r\n",
       "def \"AnalysisObjective\" as E5  <<requirement def>> \r\n",
       "def \"AnalysisCase\" as E6  <<analysisCase def>> \r\n",
       "def \"AnalysisPlan\" as E7  <<analysisCase def>> \r\n",
       "rec usage \"analysisContext: Part\" as E8  {\r\n",
       "}\r\n",
       "}\r\n",
       "@enduml\r\n",
       "\n",
       "PlantUML version 1.2020.13(Sat Jun 13 12:26:38 UTC 2020)\n",
       "(EPL source distribution)\n",
       "Java Runtime: OpenJDK Runtime Environment\n",
       "JVM: OpenJDK 64-Bit Server VM\n",
       "Default Encoding: UTF-8\n",
       "Language: en\n",
       "Country: null\n",
       "--></g></svg>"
      ]
     },
     "execution_count": 26,
     "metadata": {},
     "output_type": "execute_result"
    }
   ],
   "source": [
    "%viz --style=\"STDCOLOR\" --view=\"Interconnection\" \"AnalysisTest\""
   ]
  },
  {
   "cell_type": "code",
   "execution_count": 27,
   "id": "heard-wright",
   "metadata": {
    "execution": {
     "iopub.execute_input": "2021-03-26T09:41:46.248941Z",
     "iopub.status.busy": "2021-03-26T09:41:46.248431Z",
     "iopub.status.idle": "2021-03-26T09:41:46.251425Z",
     "shell.execute_reply": "2021-03-26T09:41:46.251047Z"
    }
   },
   "outputs": [
    {
     "data": {
      "text/plain": [
       "java.lang.IllegalArgumentException: Invalid View: Action View candidates are: Default Tree StateMachine Interconnection Activity Sequence MIXED \n",
       "\tat org.omg.sysml.plantuml.SysML2PlantUMLSvc.setView(SysML2PlantUMLSvc.java:63)\n",
       "\tat org.omg.sysml.interactive.SysMLInteractive.viz(SysMLInteractive.java:286)\n",
       "\tat org.omg.sysml.jupyter.kernel.magic.Viz.viz(Viz.java:47)\n",
       "\tat jdk.internal.reflect.GeneratedMethodAccessor13.invoke(Unknown Source)\n",
       "\tat java.base/jdk.internal.reflect.DelegatingMethodAccessorImpl.invoke(DelegatingMethodAccessorImpl.java:43)\n",
       "\tat java.base/java.lang.reflect.Method.invoke(Method.java:568)\n",
       "\tat io.github.spencerpark.jupyter.kernel.magic.registry.Magics.invoke(Magics.java:89)\n",
       "\tat io.github.spencerpark.jupyter.kernel.magic.registry.Magics.access$000(Magics.java:8)\n",
       "\tat io.github.spencerpark.jupyter.kernel.magic.registry.Magics$LineReflectionMagicFunction.execute(Magics.java:149)\n",
       "\tat io.github.spencerpark.jupyter.kernel.magic.registry.Magics.applyLineMagic(Magics.java:26)\n",
       "\tat org.omg.sysml.jupyter.kernel.SysMLKernel.eval(SysMLKernel.java:76)\n",
       "\tat io.github.spencerpark.jupyter.kernel.BaseKernel.handleExecuteRequest(BaseKernel.java:334)\n",
       "\tat io.github.spencerpark.jupyter.channels.ShellChannel.lambda$bind$0(ShellChannel.java:64)\n",
       "\tat io.github.spencerpark.jupyter.channels.Loop.lambda$new$0(Loop.java:21)\n",
       "\tat io.github.spencerpark.jupyter.channels.Loop.run(Loop.java:78)\n"
      ]
     },
     "execution_count": 27,
     "metadata": {},
     "output_type": "execute_result"
    }
   ],
   "source": [
    "%viz --style=\"STDCOLOR\" --view=\"Action\" \"AnalysisTest\""
   ]
  },
  {
   "cell_type": "code",
   "execution_count": 28,
   "id": "chubby-dealing",
   "metadata": {
    "execution": {
     "iopub.execute_input": "2021-03-26T09:41:46.304691Z",
     "iopub.status.busy": "2021-03-26T09:41:46.303752Z",
     "iopub.status.idle": "2021-03-26T09:41:46.404136Z",
     "shell.execute_reply": "2021-03-26T09:41:46.404473Z"
    }
   },
   "outputs": [
    {
     "data": {
      "image/svg+xml": [
       "<?xml version=\"1.0\" encoding=\"UTF-8\" standalone=\"no\"?><svg xmlns=\"http://www.w3.org/2000/svg\" xmlns:xlink=\"http://www.w3.org/1999/xlink\" contentScriptType=\"application/ecmascript\" contentStyleType=\"text/css\" height=\"923px\" preserveAspectRatio=\"none\" style=\"width:511px;height:923px;\" version=\"1.1\" viewBox=\"0 0 511 923\" width=\"511px\" zoomAndPan=\"magnify\"><defs><filter height=\"300%\" id=\"f160qkro8hpydf\" width=\"300%\" x=\"-1\" y=\"-1\"><feGaussianBlur result=\"blurOut\" stdDeviation=\"2.0\"/><feColorMatrix in=\"blurOut\" result=\"blurOut2\" type=\"matrix\" values=\"0 0 0 0 0 0 0 0 0 0 0 0 0 0 0 0 0 0 .4 0\"/><feOffset dx=\"4.0\" dy=\"4.0\" in=\"blurOut2\" result=\"blurOut3\"/><feBlend in=\"SourceGraphic\" in2=\"blurOut3\" mode=\"normal\"/></filter></defs><g><!--MD5=[fbc87193dbaf4d95561dea2c320d4a47]\n",
       "cluster E1--><polygon fill=\"#FFFFFF\" filter=\"url(#f160qkro8hpydf)\" points=\"16,6,122,6,129,28.2969,467,28.2969,467,911,16,911,16,6\" style=\"stroke: #000000; stroke-width: 1.5;\"/><line style=\"stroke: #000000; stroke-width: 1.5;\" x1=\"16\" x2=\"129\" y1=\"28.2969\" y2=\"28.2969\"/><text fill=\"#000000\" font-family=\"sans-serif\" font-size=\"14\" font-weight=\"bold\" lengthAdjust=\"spacingAndGlyphs\" textLength=\"100\" x=\"20\" y=\"20.9951\">AnalysisTest</text><!--MD5=[b4997ac47864f28c2f74865a473b2911]\n",
       "class E2--><rect fill=\"#FEFECE\" filter=\"url(#f160qkro8hpydf)\" height=\"58.7422\" id=\"E2\" style=\"stroke: #A80036; stroke-width: 1.5;\" width=\"88\" x=\"363\" y=\"699.5\"/><text fill=\"#000000\" font-family=\"sans-serif\" font-size=\"12\" font-style=\"italic\" lengthAdjust=\"spacingAndGlyphs\" textLength=\"64\" x=\"375\" y=\"715.6387\">«part def»</text><text fill=\"#000000\" font-family=\"sans-serif\" font-size=\"12\" lengthAdjust=\"spacingAndGlyphs\" textLength=\"8\" x=\"403\" y=\"729.6074\">V</text><line style=\"stroke: #A80036; stroke-width: 1.5;\" x1=\"364\" x2=\"450\" y1=\"737.4375\" y2=\"737.4375\"/><text fill=\"#000000\" font-family=\"sans-serif\" font-size=\"11\" lengthAdjust=\"spacingAndGlyphs\" textLength=\"76\" x=\"369\" y=\"751.6479\">m: DataValue</text><!--MD5=[09b614a08d8cba4a07c9adeb5e0fee81]\n",
       "class E3--><rect fill=\"#FEFECE\" filter=\"url(#f160qkro8hpydf)\" height=\"45.9375\" id=\"E3\" rx=\"10\" ry=\"10\" style=\"stroke: #A80036; stroke-width: 1.5;\" width=\"42\" x=\"332\" y=\"568\"/><text fill=\"#000000\" font-family=\"sans-serif\" font-size=\"12\" font-style=\"italic\" lengthAdjust=\"spacingAndGlyphs\" textLength=\"40\" x=\"333\" y=\"584.1387\">«part»</text><text fill=\"#000000\" font-family=\"sans-serif\" font-size=\"12\" lengthAdjust=\"spacingAndGlyphs\" textLength=\"28\" x=\"339\" y=\"598.1074\">vv: V</text><line style=\"stroke: #A80036; stroke-width: 1.5;\" x1=\"333\" x2=\"373\" y1=\"605.9375\" y2=\"605.9375\"/><!--MD5=[ebbe1d658d1005bcc118a6aa81145e00]\n",
       "class E4--><rect fill=\"#FEFECE\" filter=\"url(#f160qkro8hpydf)\" height=\"66.7422\" id=\"E4\" style=\"stroke: #A80036; stroke-width: 1.5;\" width=\"117\" x=\"121.5\" y=\"828\"/><text fill=\"#000000\" font-family=\"sans-serif\" font-size=\"12\" font-style=\"italic\" lengthAdjust=\"spacingAndGlyphs\" textLength=\"115\" x=\"122.5\" y=\"844.1387\">«requirement def»</text><text fill=\"#000000\" font-family=\"sans-serif\" font-size=\"12\" lengthAdjust=\"spacingAndGlyphs\" textLength=\"107\" x=\"126.5\" y=\"858.1074\">AnalysisObjective</text><line style=\"stroke: #A80036; stroke-width: 1.5;\" x1=\"122.5\" x2=\"237.5\" y1=\"865.9375\" y2=\"865.9375\"/><text fill=\"#000000\" font-family=\"sans-serif\" font-size=\"11\" lengthAdjust=\"spacingAndGlyphs\" textLength=\"12\" x=\"127.5\" y=\"880.1479\">...</text><line style=\"stroke: #A80036; stroke-width: 1.0;\" x1=\"122.5\" x2=\"237.5\" y1=\"886.7422\" y2=\"886.7422\"/><!--MD5=[270fce915f116d4de14055a7c1d9a0f3]\n",
       "class E5--><rect fill=\"#FEFECE\" filter=\"url(#f160qkro8hpydf)\" height=\"45.9375\" id=\"E5\" style=\"stroke: #A80036; stroke-width: 1.5;\" width=\"90\" x=\"207\" y=\"568\"/><text fill=\"#000000\" font-family=\"sans-serif\" font-size=\"12\" font-style=\"italic\" lengthAdjust=\"spacingAndGlyphs\" textLength=\"88\" x=\"208\" y=\"584.1387\">«analysis def»</text><text fill=\"#000000\" font-family=\"sans-serif\" font-size=\"12\" lengthAdjust=\"spacingAndGlyphs\" textLength=\"81\" x=\"211.5\" y=\"598.1074\">AnalysisCase</text><line style=\"stroke: #A80036; stroke-width: 1.5;\" x1=\"208\" x2=\"296\" y1=\"605.9375\" y2=\"605.9375\"/><!--MD5=[60a26617385b1d2d0262a64233df1f8d]\n",
       "class E6--><rect fill=\"#FEFECE\" filter=\"url(#f160qkro8hpydf)\" height=\"75.5469\" id=\"E6\" rx=\"10\" ry=\"10\" style=\"stroke: #A80036; stroke-width: 1.5;\" width=\"295\" x=\"32.5\" y=\"691\"/><text fill=\"#000000\" font-family=\"sans-serif\" font-size=\"12\" font-style=\"italic\" lengthAdjust=\"spacingAndGlyphs\" textLength=\"91\" x=\"134.5\" y=\"707.1387\">«requirement»</text><text fill=\"#000000\" font-family=\"sans-serif\" font-size=\"12\" lengthAdjust=\"spacingAndGlyphs\" textLength=\"134\" x=\"113\" y=\"721.1074\">obj: AnalysisObjective</text><line style=\"stroke: #A80036; stroke-width: 1.5;\" x1=\"33.5\" x2=\"326.5\" y1=\"728.9375\" y2=\"728.9375\"/><line style=\"stroke: #000000; stroke-width: 1.0;\" x1=\"38.5\" x2=\"38.5\" y1=\"751.7422\" y2=\"760.7422\"/><polygon fill=\"#FFFF44\" points=\"41.5,752.7422,48.5,756.7422,41.5,760.7422\" style=\"stroke: #000000; stroke-width: 1.0;\"/><text fill=\"#000000\" font-family=\"sans-serif\" font-size=\"11\" lengthAdjust=\"spacingAndGlyphs\" textLength=\"130\" x=\"52.5\" y=\"759.9526\">subj: Anything= result;</text><text fill=\"#000000\" font-family=\"sans-serif\" font-size=\"11\" lengthAdjust=\"spacingAndGlyphs\" text-decoration=\"line-through\" textLength=\"131\" x=\"190.5\" y=\"759.9526\">AnalysisObjective::subj</text><line style=\"stroke: #A80036; stroke-width: 1.0;\" x1=\"33.5\" x2=\"149\" y1=\"743.3398\" y2=\"743.3398\"/><text fill=\"#000000\" font-family=\"sans-serif\" font-size=\"11\" lengthAdjust=\"spacingAndGlyphs\" textLength=\"62\" x=\"149\" y=\"746.6479\">references</text><line style=\"stroke: #A80036; stroke-width: 1.0;\" x1=\"211\" x2=\"326.5\" y1=\"743.3398\" y2=\"743.3398\"/><!--MD5=[2156ba9850f5573cc1fc38a6a4b2f02b]\n",
       "class E7--><rect fill=\"#FEFECE\" filter=\"url(#f160qkro8hpydf)\" height=\"45.9375\" id=\"E7\" style=\"stroke: #A80036; stroke-width: 1.5;\" width=\"90\" x=\"174\" y=\"301\"/><text fill=\"#000000\" font-family=\"sans-serif\" font-size=\"12\" font-style=\"italic\" lengthAdjust=\"spacingAndGlyphs\" textLength=\"88\" x=\"175\" y=\"317.1387\">«analysis def»</text><text fill=\"#000000\" font-family=\"sans-serif\" font-size=\"12\" lengthAdjust=\"spacingAndGlyphs\" textLength=\"77\" x=\"180.5\" y=\"331.1074\">AnalysisPlan</text><line style=\"stroke: #A80036; stroke-width: 1.5;\" x1=\"175\" x2=\"263\" y1=\"338.9375\" y2=\"338.9375\"/><!--MD5=[b9389687b975829384b498ac4b7476b2]\n",
       "class E8--><rect fill=\"#FEFECE\" filter=\"url(#f160qkro8hpydf)\" height=\"66.7422\" id=\"E8\" rx=\"10\" ry=\"10\" style=\"stroke: #A80036; stroke-width: 1.5;\" width=\"151\" x=\"243.5\" y=\"424\"/><text fill=\"#000000\" font-family=\"sans-serif\" font-size=\"12\" font-style=\"italic\" lengthAdjust=\"spacingAndGlyphs\" textLength=\"91\" x=\"273.5\" y=\"440.1387\">«requirement»</text><text fill=\"#000000\" font-family=\"sans-serif\" font-size=\"12\" lengthAdjust=\"spacingAndGlyphs\" textLength=\"145\" x=\"246.5\" y=\"454.1074\">obj: RequirementCheck</text><line style=\"stroke: #A80036; stroke-width: 1.5;\" x1=\"244.5\" x2=\"393.5\" y1=\"461.9375\" y2=\"461.9375\"/><text fill=\"#000000\" font-family=\"sans-serif\" font-size=\"11\" lengthAdjust=\"spacingAndGlyphs\" textLength=\"12\" x=\"249.5\" y=\"476.1479\">...</text><line style=\"stroke: #A80036; stroke-width: 1.0;\" x1=\"244.5\" x2=\"393.5\" y1=\"482.7422\" y2=\"482.7422\"/><!--MD5=[fd4143e9d270a159db93a4ea2a975926]\n",
       "class E9--><rect fill=\"#FEFECE\" filter=\"url(#f160qkro8hpydf)\" height=\"45.9375\" id=\"E9\" rx=\"10\" ry=\"10\" style=\"stroke: #A80036; stroke-width: 1.5;\" width=\"176\" x=\"32\" y=\"434.5\"/><text fill=\"#000000\" font-family=\"sans-serif\" font-size=\"12\" font-style=\"italic\" lengthAdjust=\"spacingAndGlyphs\" textLength=\"64\" x=\"88\" y=\"450.6387\">«analysis»</text><text fill=\"#000000\" font-family=\"sans-serif\" font-size=\"12\" lengthAdjust=\"spacingAndGlyphs\" textLength=\"170\" x=\"35\" y=\"464.6074\">analysisCase: AnalysisCase</text><line style=\"stroke: #A80036; stroke-width: 1.5;\" x1=\"33\" x2=\"207\" y1=\"472.4375\" y2=\"472.4375\"/><!--MD5=[96f4274e9e20536e775497830990834d]\n",
       "class E10--><rect fill=\"#FEFECE\" filter=\"url(#f160qkro8hpydf)\" height=\"45.9375\" id=\"E10\" rx=\"10\" ry=\"10\" style=\"stroke: #A80036; stroke-width: 1.5;\" width=\"140\" x=\"32\" y=\"568\"/><text fill=\"#000000\" font-family=\"sans-serif\" font-size=\"12\" font-style=\"italic\" lengthAdjust=\"spacingAndGlyphs\" textLength=\"91\" x=\"56.5\" y=\"584.1387\">«requirement»</text><text fill=\"#000000\" font-family=\"sans-serif\" font-size=\"12\" lengthAdjust=\"spacingAndGlyphs\" textLength=\"134\" x=\"35\" y=\"598.1074\">obj: AnalysisObjective</text><line style=\"stroke: #A80036; stroke-width: 1.5;\" x1=\"33\" x2=\"171\" y1=\"605.9375\" y2=\"605.9375\"/><!--MD5=[1dd1bfd58a279cf63c5f349dbc8fc6a1]\n",
       "class E11--><rect fill=\"#FEFECE\" filter=\"url(#f160qkro8hpydf)\" height=\"45.9375\" id=\"E11\" rx=\"10\" ry=\"10\" style=\"stroke: #A80036; stroke-width: 1.5;\" width=\"138\" x=\"228\" y=\"41\"/><text fill=\"#000000\" font-family=\"sans-serif\" font-size=\"12\" font-style=\"italic\" lengthAdjust=\"spacingAndGlyphs\" textLength=\"40\" x=\"277\" y=\"57.1387\">«part»</text><text fill=\"#000000\" font-family=\"sans-serif\" font-size=\"12\" lengthAdjust=\"spacingAndGlyphs\" textLength=\"132\" x=\"231\" y=\"71.1074\">analysisContext: Part</text><line style=\"stroke: #A80036; stroke-width: 1.5;\" x1=\"229\" x2=\"365\" y1=\"78.9375\" y2=\"78.9375\"/><!--MD5=[49a0ec8f00dab7302a31f22d0f0fe584]\n",
       "class E12--><rect fill=\"#FEFECE\" filter=\"url(#f160qkro8hpydf)\" height=\"75.5469\" id=\"E12\" rx=\"10\" ry=\"10\" style=\"stroke: #A80036; stroke-width: 1.5;\" width=\"169\" x=\"212.5\" y=\"148\"/><text fill=\"#000000\" font-family=\"sans-serif\" font-size=\"12\" font-style=\"italic\" lengthAdjust=\"spacingAndGlyphs\" textLength=\"64\" x=\"265\" y=\"164.1387\">«analysis»</text><text fill=\"#000000\" font-family=\"sans-serif\" font-size=\"12\" lengthAdjust=\"spacingAndGlyphs\" textLength=\"162\" x=\"216\" y=\"178.1074\">analysisPlan: AnalysisPlan</text><line style=\"stroke: #A80036; stroke-width: 1.5;\" x1=\"213.5\" x2=\"380.5\" y1=\"185.9375\" y2=\"185.9375\"/><line style=\"stroke: #000000; stroke-width: 1.0;\" x1=\"218.5\" x2=\"218.5\" y1=\"208.7422\" y2=\"217.7422\"/><polygon fill=\"#FFFF44\" points=\"221.5,209.7422,228.5,213.7422,221.5,217.7422\" style=\"stroke: #000000; stroke-width: 1.0;\"/><text fill=\"#000000\" font-family=\"sans-serif\" font-size=\"11\" lengthAdjust=\"spacingAndGlyphs\" textLength=\"50\" x=\"232.5\" y=\"216.9526\">v: V= vv;</text><text fill=\"#000000\" font-family=\"sans-serif\" font-size=\"11\" lengthAdjust=\"spacingAndGlyphs\" text-decoration=\"line-through\" textLength=\"85\" x=\"290.5\" y=\"216.9526\">AnalysisPlan::v</text><line style=\"stroke: #A80036; stroke-width: 1.0;\" x1=\"213.5\" x2=\"266\" y1=\"200.3398\" y2=\"200.3398\"/><text fill=\"#000000\" font-family=\"sans-serif\" font-size=\"11\" lengthAdjust=\"spacingAndGlyphs\" textLength=\"62\" x=\"266\" y=\"203.6479\">references</text><line style=\"stroke: #A80036; stroke-width: 1.0;\" x1=\"328\" x2=\"380.5\" y1=\"200.3398\" y2=\"200.3398\"/><!--MD5=[ee3c913d1a06f366521f9ef512b67efe]\n",
       "class E13--><rect fill=\"#FEFECE\" filter=\"url(#f160qkro8hpydf)\" height=\"45.9375\" id=\"E13\" rx=\"10\" ry=\"10\" style=\"stroke: #A80036; stroke-width: 1.5;\" width=\"151\" x=\"299.5\" y=\"301\"/><text fill=\"#000000\" font-family=\"sans-serif\" font-size=\"12\" font-style=\"italic\" lengthAdjust=\"spacingAndGlyphs\" textLength=\"91\" x=\"329.5\" y=\"317.1387\">«requirement»</text><text fill=\"#000000\" font-family=\"sans-serif\" font-size=\"12\" lengthAdjust=\"spacingAndGlyphs\" textLength=\"145\" x=\"302.5\" y=\"331.1074\">obj: RequirementCheck</text><line style=\"stroke: #A80036; stroke-width: 1.5;\" x1=\"300.5\" x2=\"449.5\" y1=\"338.9375\" y2=\"338.9375\"/><!--MD5=[05d275557350bfb9b23a4ef7222b4c39]\n",
       "link E3 to E2--><path d=\"M363.72,614.08 C368.03,623.25 372.94,634.06 377,644 C381.76,655.66 386.53,668.4 390.81,680.34 \" fill=\"none\" id=\"E3-&gt;E2\" style=\"stroke: #A80036; stroke-width: 1.0;\"/><polygon fill=\"#FFFFFF\" points=\"397.49,699.38,384.6032,683.7617,397.8163,679.1342,397.49,699.38\" style=\"stroke: #A80036; stroke-width: 1.0;\"/><ellipse cx=\"384.6067\" cy=\"677.7211\" fill=\"#A80036\" rx=\"2\" ry=\"2\" style=\"stroke: #A80036; stroke-width: 1.0;\"/><ellipse cx=\"394.0446\" cy=\"674.4156\" fill=\"#A80036\" rx=\"2\" ry=\"2\" style=\"stroke: #A80036; stroke-width: 1.0;\"/><!--MD5=[15ebcb19ae302d9b601edb458606d402]\n",
       "link E5 to E2--><path d=\"M266.1,614.05 C275.93,628.42 289.95,647.02 305,661 C314.24,669.58 336.95,684.68 358.6,698.37 \" fill=\"none\" id=\"E5-&gt;E2\" style=\"stroke: #A80036; stroke-width: 1.0; stroke-dasharray: 7.0,7.0;\"/><polygon fill=\"#A80036\" points=\"362.91,701.08,357.4178,692.9047,358.6764,698.4197,353.1614,699.6784,362.91,701.08\" style=\"stroke: #A80036; stroke-width: 1.0;\"/><text fill=\"#000000\" font-family=\"sans-serif\" font-size=\"13\" lengthAdjust=\"spacingAndGlyphs\" textLength=\"62\" x=\"306\" y=\"657.0669\">«subject»</text><!--MD5=[9120cf2e5df3bff93db8f754bbbc09b4]\n",
       "link E5 to E6--><path d=\"M213.85,614.23 C203.41,622.25 193.25,632.27 187,644 C180.79,655.66 178.09,669.54 177.19,682.62 \" fill=\"none\" id=\"E5-&gt;E6\" style=\"stroke: #A80036; stroke-width: 1.0;\"/><polygon fill=\"#A80036\" points=\"176.85,690.64,180.1898,682.7758,174.1953,682.5189,176.85,690.64\" style=\"stroke: #A80036; stroke-width: 1.0;\"/><text fill=\"#000000\" font-family=\"sans-serif\" font-size=\"13\" lengthAdjust=\"spacingAndGlyphs\" textLength=\"73\" x=\"188\" y=\"657.0669\">«objective»</text><!--MD5=[f667431f98296947986a1a7595a31603]\n",
       "link E6 to E4--><path d=\"M180,767.05 C180,779.61 180,793.89 180,807.45 \" fill=\"none\" id=\"E6-&gt;E4\" style=\"stroke: #A80036; stroke-width: 1.0;\"/><polygon fill=\"#FFFFFF\" points=\"180,827.81,173,808.81,187,808.81,180,827.81\" style=\"stroke: #A80036; stroke-width: 1.0;\"/><ellipse cx=\"175\" cy=\"803.11\" fill=\"#A80036\" rx=\"2\" ry=\"2\" style=\"stroke: #A80036; stroke-width: 1.0;\"/><ellipse cx=\"185\" cy=\"803.11\" fill=\"#A80036\" rx=\"2\" ry=\"2\" style=\"stroke: #A80036; stroke-width: 1.0;\"/><!--MD5=[583832df87f4419a098336a29a52fa00]\n",
       "link E7 to E2--><path d=\"M264.19,341.07 C296.35,352.8 336.5,368.15 352,377 C381.42,393.79 397.17,393.54 412,424 C455.52,513.37 432.31,635.76 416.99,694.23 \" fill=\"none\" id=\"E7-&gt;E2\" style=\"stroke: #A80036; stroke-width: 1.0; stroke-dasharray: 7.0,7.0;\"/><polygon fill=\"#A80036\" points=\"415.63,699.34,421.8111,691.6723,416.9165,694.5084,414.0804,689.6138,415.63,699.34\" style=\"stroke: #A80036; stroke-width: 1.0;\"/><text fill=\"#000000\" font-family=\"sans-serif\" font-size=\"13\" lengthAdjust=\"spacingAndGlyphs\" textLength=\"62\" x=\"437\" y=\"534.0669\">«subject»</text><!--MD5=[79bc8f324ef4d02c541433f2e6e513c3]\n",
       "link E7 to E8--><path d=\"M235.74,347.01 C250.26,366.11 271.64,394.22 289.09,417.17 \" fill=\"none\" id=\"E7-&gt;E8\" style=\"stroke: #A80036; stroke-width: 1.0;\"/><polygon fill=\"#A80036\" points=\"294.14,423.81,291.6874,415.6256,286.9106,419.2564,294.14,423.81\" style=\"stroke: #A80036; stroke-width: 1.0;\"/><text fill=\"#000000\" font-family=\"sans-serif\" font-size=\"13\" lengthAdjust=\"spacingAndGlyphs\" textLength=\"73\" x=\"270\" y=\"390.0669\">«objective»</text><!--MD5=[bfc3ddf2e613be37104f658f09af896c]\n",
       "link E9 to E5--><path d=\"M148.4,480.58 C162.6,492.09 179.75,506.71 194,521 C203.65,530.67 213.46,541.77 222.2,552.19 \" fill=\"none\" id=\"E9-&gt;E5\" style=\"stroke: #A80036; stroke-width: 1.0;\"/><polygon fill=\"#FFFFFF\" points=\"234.88,567.72,217.4416,557.4291,228.2864,548.5752,234.88,567.72\" style=\"stroke: #A80036; stroke-width: 1.0;\"/><ellipse cx=\"215.3861\" cy=\"551.7489\" fill=\"#A80036\" rx=\"2\" ry=\"2\" style=\"stroke: #A80036; stroke-width: 1.0;\"/><ellipse cx=\"223.1323\" cy=\"545.4246\" fill=\"#A80036\" rx=\"2\" ry=\"2\" style=\"stroke: #A80036; stroke-width: 1.0;\"/><!--MD5=[e4a10ef82d0e328e31cac39a31e58dda]\n",
       "reverse link E7 to E9--><path d=\"M194.38,357.71 C176.37,381.63 152.42,413.44 136.62,434.42 \" fill=\"none\" id=\"E7&lt;-E9\" style=\"stroke: #A80036; stroke-width: 1.0;\"/><polygon fill=\"#A80036\" points=\"202.43,347.01,195.6263,349.3995,195.2152,356.5989,202.0189,354.2094,202.43,347.01\" style=\"stroke: #A80036; stroke-width: 1.0;\"/><!--MD5=[35e5f1cbde42fa304a029880aa2bc7f2]\n",
       "link E9 to E10--><path d=\"M116.99,480.51 C114.01,502.22 109.45,535.59 106.14,559.78 \" fill=\"none\" id=\"E9-&gt;E10\" style=\"stroke: #A80036; stroke-width: 1.0;\"/><polygon fill=\"#A80036\" points=\"105.02,567.92,109.0776,560.401,103.1331,559.587,105.02,567.92\" style=\"stroke: #A80036; stroke-width: 1.0;\"/><text fill=\"#000000\" font-family=\"sans-serif\" font-size=\"13\" lengthAdjust=\"spacingAndGlyphs\" textLength=\"73\" x=\"112\" y=\"534.0669\">«objective»</text><!--MD5=[198716bf12f04006f5c20d61bde6d80d]\n",
       "link E10 to E6--><path d=\"M114.71,614.15 C123.92,630.22 136.8,652.68 148.69,673.41 \" fill=\"none\" id=\"E10-&gt;E6\" style=\"stroke: #A80036; stroke-width: 1.0;\"/><polygon fill=\"#FFFFFF\" points=\"158.77,690.97,143.2438,677.9725,155.3875,671.0061,158.77,690.97\" style=\"stroke: #A80036; stroke-width: 1.0;\"/><line style=\"stroke: #A80036; stroke-width: 2.0;\" x1=\"141.3529\" x2=\"153.4966\" y1=\"674.6763\" y2=\"667.7099\"/><!--MD5=[ae660f5ecd7ddb04a8913625960940af]\n",
       "link E12 to E7--><path d=\"M275.69,224.16 C265.19,242.47 252.52,264.56 241.82,283.21 \" fill=\"none\" id=\"E12-&gt;E7\" style=\"stroke: #A80036; stroke-width: 1.0;\"/><polygon fill=\"#FFFFFF\" points=\"231.75,300.77,235.1273,280.8052,247.2728,287.7684,231.75,300.77\" style=\"stroke: #A80036; stroke-width: 1.0;\"/><ellipse cx=\"239.6973\" cy=\"276.8549\" fill=\"#A80036\" rx=\"2\" ry=\"2\" style=\"stroke: #A80036; stroke-width: 1.0;\"/><ellipse cx=\"248.3727\" cy=\"281.8286\" fill=\"#A80036\" rx=\"2\" ry=\"2\" style=\"stroke: #A80036; stroke-width: 1.0;\"/><!--MD5=[94adabc162ce7e41b39f13be14fbaeb3]\n",
       "reverse link E11 to E12--><path d=\"M297,100.35 C297,115.21 297,132.5 297,147.57 \" fill=\"none\" id=\"E11&lt;-E12\" style=\"stroke: #A80036; stroke-width: 1.0;\"/><polygon fill=\"#A80036\" points=\"297,87.01,293,93.01,297,99.01,301,93.01,297,87.01\" style=\"stroke: #A80036; stroke-width: 1.0;\"/><!--MD5=[e2a9ac97dcd3257bb5342dae06547bad]\n",
       "link E12 to E13--><path d=\"M318.31,224.16 C330.85,246.02 346.47,273.26 358.14,293.61 \" fill=\"none\" id=\"E12-&gt;E13\" style=\"stroke: #A80036; stroke-width: 1.0;\"/><polygon fill=\"#A80036\" points=\"362.25,300.77,360.8819,292.3362,355.6737,295.3154,362.25,300.77\" style=\"stroke: #A80036; stroke-width: 1.0;\"/><text fill=\"#000000\" font-family=\"sans-serif\" font-size=\"13\" lengthAdjust=\"spacingAndGlyphs\" textLength=\"73\" x=\"343\" y=\"267.0669\">«objective»</text><!--MD5=[3bae6688dc702e66050e7a5eecba9254]\n",
       "@startuml\r\n",
       "skinparam wrapWidth 300\r\n",
       "hide circle\r\n",
       "\r\n",
       "package \"AnalysisTest\" as E1   {\r\n",
       "comp def \"V\" as E2  <<(T,blue)part def>> {\r\n",
       "m: DataValue\r\n",
       "}\r\n",
       "comp usage \"vv: V\" as E3  <<(T,blue)part>> {\r\n",
       "}\r\n",
       "comp def \"AnalysisObjective\" as E4  <<(T,blue)requirement def>> {\r\n",
       "...\r\n",
       "- -\r\n",
       "}\r\n",
       "comp def \"AnalysisCase\" as E5 <<analysis def>> {\r\n",
       "}\r\n",
       "comp usage \"obj: AnalysisObjective\" as E6  <<(T,blue)requirement>> {\r\n",
       "- -references- -\r\n",
       ">subj: Anything= result;  <s>AnalysisObjective::subj</s>\r\n",
       "}\r\n",
       "comp def \"AnalysisPlan\" as E7 <<analysis def>> {\r\n",
       "}\r\n",
       "comp usage \"obj: RequirementCheck\" as E8  <<(T,blue)requirement>> {\r\n",
       "...\r\n",
       "- -\r\n",
       "}\r\n",
       "comp usage \"analysisCase: AnalysisCase\" as E9 <<analysis>> {\r\n",
       "}\r\n",
       "comp usage \"obj: AnalysisObjective\" as E10  <<(T,blue)requirement>> {\r\n",
       "}\r\n",
       "comp usage \"analysisContext: Part\" as E11  <<(T,blue)part>> {\r\n",
       "}\r\n",
       "comp usage \"analysisPlan: AnalysisPlan\" as E12 <<analysis>> {\r\n",
       "- -references- -\r\n",
       ">v: V= vv;  <s>AnalysisPlan::v</s>\r\n",
       "}\r\n",
       "comp usage \"obj: RequirementCheck\" as E13  <<(T,blue)requirement>> {\r\n",
       "}\r\n",
       "E3 - -:|> E2\r\n",
       "E5 ..> E2 : <<subject>>\r\n",
       "E5 - ->> E6 : <<objective>>\r\n",
       "E6 - -:|> E4\r\n",
       "E7 ..> E2 : <<subject>>\r\n",
       "E7 - ->> E8 : <<objective>>\r\n",
       "E9 - -:|> E5\r\n",
       "E7 *- - E9\r\n",
       "E9 - ->> E10 : <<objective>>\r\n",
       "E10 - -||> E6\r\n",
       "E12 - -:|> E7\r\n",
       "E11 *- - E12\r\n",
       "E12 - ->> E13 : <<objective>>\r\n",
       "}\r\n",
       "@enduml\r\n",
       "\n",
       "PlantUML version 1.2020.13(Sat Jun 13 12:26:38 UTC 2020)\n",
       "(EPL source distribution)\n",
       "Java Runtime: OpenJDK Runtime Environment\n",
       "JVM: OpenJDK 64-Bit Server VM\n",
       "Default Encoding: UTF-8\n",
       "Language: en\n",
       "Country: null\n",
       "--></g></svg>"
      ]
     },
     "execution_count": 28,
     "metadata": {},
     "output_type": "execute_result"
    }
   ],
   "source": [
    "%viz --style=\"STDCOLOR\" --view=\"Sequence\" \"AnalysisTest\""
   ]
  },
  {
   "cell_type": "code",
   "execution_count": 29,
   "id": "round-benefit",
   "metadata": {
    "execution": {
     "iopub.execute_input": "2021-03-26T09:41:46.456718Z",
     "iopub.status.busy": "2021-03-26T09:41:46.455730Z",
     "iopub.status.idle": "2021-03-26T09:41:46.516889Z",
     "shell.execute_reply": "2021-03-26T09:41:46.517213Z"
    }
   },
   "outputs": [
    {
     "data": {
      "image/svg+xml": [
       "<?xml version=\"1.0\" encoding=\"UTF-8\" standalone=\"no\"?><svg xmlns=\"http://www.w3.org/2000/svg\" xmlns:xlink=\"http://www.w3.org/1999/xlink\" contentScriptType=\"application/ecmascript\" contentStyleType=\"text/css\" height=\"539px\" preserveAspectRatio=\"none\" style=\"width:848px;height:539px;\" version=\"1.1\" viewBox=\"0 0 848 539\" width=\"848px\" zoomAndPan=\"magnify\"><defs><filter height=\"300%\" id=\"fgr3ybsagmyjt\" width=\"300%\" x=\"-1\" y=\"-1\"><feGaussianBlur result=\"blurOut\" stdDeviation=\"2.0\"/><feColorMatrix in=\"blurOut\" result=\"blurOut2\" type=\"matrix\" values=\"0 0 0 0 0 0 0 0 0 0 0 0 0 0 0 0 0 0 .4 0\"/><feOffset dx=\"4.0\" dy=\"4.0\" in=\"blurOut2\" result=\"blurOut3\"/><feBlend in=\"SourceGraphic\" in2=\"blurOut3\" mode=\"normal\"/></filter></defs><g><!--MD5=[fbc87193dbaf4d95561dea2c320d4a47]\n",
       "cluster E1--><polygon fill=\"#FFFFFF\" filter=\"url(#fgr3ybsagmyjt)\" points=\"16,6,122,6,129,28.2969,826,28.2969,826,527.72,16,527.72,16,6\" style=\"stroke: #000000; stroke-width: 1.5;\"/><line style=\"stroke: #000000; stroke-width: 1.5;\" x1=\"16\" x2=\"129\" y1=\"28.2969\" y2=\"28.2969\"/><text fill=\"#000000\" font-family=\"sans-serif\" font-size=\"14\" font-weight=\"bold\" lengthAdjust=\"spacingAndGlyphs\" textLength=\"100\" x=\"20\" y=\"20.9951\">AnalysisTest</text><!--MD5=[de5ec2e2e8f62f467e546659f5068c88]\n",
       "cluster E5--><rect fill=\"#FFFFFF\" filter=\"url(#fgr3ybsagmyjt)\" height=\"158\" style=\"stroke: #000000; stroke-width: 1.5;\" width=\"152\" x=\"658\" y=\"74.5\"/><text fill=\"#000000\" font-family=\"sans-serif\" font-size=\"14\" font-weight=\"bold\" lengthAdjust=\"spacingAndGlyphs\" textLength=\"104\" x=\"682\" y=\"89.4951\">AnalysisCase</text><!--MD5=[168fadf3d0c3fd93dd5d6da1b1d7ab76]\n",
       "cluster E7--><rect fill=\"#FFFFFF\" filter=\"url(#fgr3ybsagmyjt)\" height=\"296.72\" style=\"stroke: #000000; stroke-width: 1.5;\" width=\"256\" x=\"279\" y=\"207\"/><text fill=\"#000000\" font-family=\"sans-serif\" font-size=\"14\" font-weight=\"bold\" lengthAdjust=\"spacingAndGlyphs\" textLength=\"98\" x=\"358\" y=\"221.9951\">AnalysisPlan</text><!--MD5=[7f149f147074ac12df2cb0a7728a5fb0]\n",
       "cluster E9--><rect fill=\"#FEFECE\" filter=\"url(#fgr3ybsagmyjt)\" height=\"146.22\" rx=\"12.5\" ry=\"12.5\" style=\"stroke: #000000; stroke-width: 1.5;\" width=\"138\" x=\"373\" y=\"319.5\"/><rect fill=\"#FFFFFF\" height=\"113.9231\" rx=\"12.5\" ry=\"12.5\" style=\"stroke: #FFFFFF; stroke-width: 1.0;\" width=\"132\" x=\"376\" y=\"348.7969\"/><line style=\"stroke: #000000; stroke-width: 1.5;\" x1=\"373\" x2=\"511\" y1=\"345.7969\" y2=\"345.7969\"/><text fill=\"#000000\" font-family=\"sans-serif\" font-size=\"14\" lengthAdjust=\"spacingAndGlyphs\" textLength=\"89\" x=\"397.5\" y=\"337.4951\">analysisCase</text><!--MD5=[b4997ac47864f28c2f74865a473b2911]\n",
       "class E2--><rect fill=\"#FEFECE\" filter=\"url(#fgr3ybsagmyjt)\" height=\"58.7422\" id=\"E2\" style=\"stroke: #A80036; stroke-width: 1.5;\" width=\"88\" x=\"551\" y=\"177.5\"/><text fill=\"#000000\" font-family=\"sans-serif\" font-size=\"12\" font-style=\"italic\" lengthAdjust=\"spacingAndGlyphs\" textLength=\"64\" x=\"563\" y=\"193.6387\">«part def»</text><text fill=\"#000000\" font-family=\"sans-serif\" font-size=\"12\" lengthAdjust=\"spacingAndGlyphs\" textLength=\"8\" x=\"591\" y=\"207.6074\">V</text><line style=\"stroke: #A80036; stroke-width: 1.5;\" x1=\"552\" x2=\"638\" y1=\"215.4375\" y2=\"215.4375\"/><text fill=\"#000000\" font-family=\"sans-serif\" font-size=\"11\" lengthAdjust=\"spacingAndGlyphs\" textLength=\"76\" x=\"557\" y=\"229.6479\">m: DataValue</text><!--MD5=[09b614a08d8cba4a07c9adeb5e0fee81]\n",
       "class E3--><rect fill=\"#FEFECE\" filter=\"url(#fgr3ybsagmyjt)\" height=\"45.9375\" id=\"E3\" rx=\"10\" ry=\"10\" style=\"stroke: #A80036; stroke-width: 1.5;\" width=\"42\" x=\"574\" y=\"51.5\"/><text fill=\"#000000\" font-family=\"sans-serif\" font-size=\"12\" font-style=\"italic\" lengthAdjust=\"spacingAndGlyphs\" textLength=\"40\" x=\"575\" y=\"67.6387\">«part»</text><text fill=\"#000000\" font-family=\"sans-serif\" font-size=\"12\" lengthAdjust=\"spacingAndGlyphs\" textLength=\"28\" x=\"581\" y=\"81.6074\">vv: V</text><line style=\"stroke: #A80036; stroke-width: 1.5;\" x1=\"575\" x2=\"615\" y1=\"89.4375\" y2=\"89.4375\"/><!--MD5=[ebbe1d658d1005bcc118a6aa81145e00]\n",
       "class E4--><rect fill=\"#FEFECE\" filter=\"url(#fgr3ybsagmyjt)\" height=\"66.7422\" id=\"E4\" style=\"stroke: #A80036; stroke-width: 1.5;\" width=\"117\" x=\"321.5\" y=\"41\"/><text fill=\"#000000\" font-family=\"sans-serif\" font-size=\"12\" font-style=\"italic\" lengthAdjust=\"spacingAndGlyphs\" textLength=\"115\" x=\"322.5\" y=\"57.1387\">«requirement def»</text><text fill=\"#000000\" font-family=\"sans-serif\" font-size=\"12\" lengthAdjust=\"spacingAndGlyphs\" textLength=\"107\" x=\"326.5\" y=\"71.1074\">AnalysisObjective</text><line style=\"stroke: #A80036; stroke-width: 1.5;\" x1=\"322.5\" x2=\"437.5\" y1=\"78.9375\" y2=\"78.9375\"/><text fill=\"#000000\" font-family=\"sans-serif\" font-size=\"11\" lengthAdjust=\"spacingAndGlyphs\" textLength=\"12\" x=\"327.5\" y=\"93.1479\">...</text><line style=\"stroke: #A80036; stroke-width: 1.0;\" x1=\"322.5\" x2=\"437.5\" y1=\"99.7422\" y2=\"99.7422\"/><!--MD5=[1dd1bfd58a279cf63c5f349dbc8fc6a1]\n",
       "class E11--><rect fill=\"#FEFECE\" filter=\"url(#fgr3ybsagmyjt)\" height=\"45.9375\" id=\"E11\" rx=\"10\" ry=\"10\" style=\"stroke: #A80036; stroke-width: 1.5;\" width=\"138\" x=\"47\" y=\"51.5\"/><text fill=\"#000000\" font-family=\"sans-serif\" font-size=\"12\" font-style=\"italic\" lengthAdjust=\"spacingAndGlyphs\" textLength=\"40\" x=\"96\" y=\"67.6387\">«part»</text><text fill=\"#000000\" font-family=\"sans-serif\" font-size=\"12\" lengthAdjust=\"spacingAndGlyphs\" textLength=\"132\" x=\"50\" y=\"81.6074\">analysisContext: Part</text><line style=\"stroke: #A80036; stroke-width: 1.5;\" x1=\"48\" x2=\"184\" y1=\"89.4375\" y2=\"89.4375\"/><!--MD5=[49a0ec8f00dab7302a31f22d0f0fe584]\n",
       "class E12--><rect fill=\"#FEFECE\" filter=\"url(#fgr3ybsagmyjt)\" height=\"75.5469\" id=\"E12\" rx=\"10\" ry=\"10\" style=\"stroke: #A80036; stroke-width: 1.5;\" width=\"169\" x=\"31.5\" y=\"169\"/><text fill=\"#000000\" font-family=\"sans-serif\" font-size=\"12\" font-style=\"italic\" lengthAdjust=\"spacingAndGlyphs\" textLength=\"64\" x=\"84\" y=\"185.1387\">«analysis»</text><text fill=\"#000000\" font-family=\"sans-serif\" font-size=\"12\" lengthAdjust=\"spacingAndGlyphs\" textLength=\"162\" x=\"35\" y=\"199.1074\">analysisPlan: AnalysisPlan</text><line style=\"stroke: #A80036; stroke-width: 1.5;\" x1=\"32.5\" x2=\"199.5\" y1=\"206.9375\" y2=\"206.9375\"/><line style=\"stroke: #000000; stroke-width: 1.0;\" x1=\"37.5\" x2=\"37.5\" y1=\"229.7422\" y2=\"238.7422\"/><polygon fill=\"#FFFF44\" points=\"40.5,230.7422,47.5,234.7422,40.5,238.7422\" style=\"stroke: #000000; stroke-width: 1.0;\"/><text fill=\"#000000\" font-family=\"sans-serif\" font-size=\"11\" lengthAdjust=\"spacingAndGlyphs\" textLength=\"50\" x=\"51.5\" y=\"237.9526\">v: V= vv;</text><text fill=\"#000000\" font-family=\"sans-serif\" font-size=\"11\" lengthAdjust=\"spacingAndGlyphs\" text-decoration=\"line-through\" textLength=\"85\" x=\"109.5\" y=\"237.9526\">AnalysisPlan::v</text><line style=\"stroke: #A80036; stroke-width: 1.0;\" x1=\"32.5\" x2=\"85\" y1=\"221.3398\" y2=\"221.3398\"/><text fill=\"#000000\" font-family=\"sans-serif\" font-size=\"11\" lengthAdjust=\"spacingAndGlyphs\" textLength=\"62\" x=\"85\" y=\"224.6479\">references</text><line style=\"stroke: #A80036; stroke-width: 1.0;\" x1=\"147\" x2=\"199.5\" y1=\"221.3398\" y2=\"221.3398\"/><!--MD5=[ee3c913d1a06f366521f9ef512b67efe]\n",
       "class E13--><rect fill=\"#FEFECE\" filter=\"url(#fgr3ybsagmyjt)\" height=\"45.9375\" id=\"E13\" rx=\"10\" ry=\"10\" style=\"stroke: #A80036; stroke-width: 1.5;\" width=\"151\" x=\"40.5\" y=\"322\"/><text fill=\"#000000\" font-family=\"sans-serif\" font-size=\"12\" font-style=\"italic\" lengthAdjust=\"spacingAndGlyphs\" textLength=\"91\" x=\"70.5\" y=\"338.1387\">«requirement»</text><text fill=\"#000000\" font-family=\"sans-serif\" font-size=\"12\" lengthAdjust=\"spacingAndGlyphs\" textLength=\"145\" x=\"43.5\" y=\"352.1074\">obj: RequirementCheck</text><line style=\"stroke: #A80036; stroke-width: 1.5;\" x1=\"41.5\" x2=\"190.5\" y1=\"359.9375\" y2=\"359.9375\"/><text fill=\"#000000\" font-family=\"sans-serif\" font-size=\"14\" lengthAdjust=\"spacingAndGlyphs\" textLength=\"7\" x=\"730.5\" y=\"53.1982\">v</text><rect fill=\"#A80036\" height=\"12\" style=\"stroke: #FEFECE; stroke-width: 1.5;\" width=\"12\" x=\"728\" y=\"68.5\"/><text fill=\"#000000\" font-family=\"sans-serif\" font-size=\"14\" lengthAdjust=\"spacingAndGlyphs\" textLength=\"7\" x=\"293.5\" y=\"185.6982\">v</text><rect fill=\"#A80036\" height=\"12\" style=\"stroke: #FEFECE; stroke-width: 1.5;\" width=\"12\" x=\"291\" y=\"201\"/><text fill=\"#000000\" font-family=\"sans-serif\" font-size=\"14\" lengthAdjust=\"spacingAndGlyphs\" textLength=\"37\" x=\"423.5\" y=\"484.7151\">mass</text><rect fill=\"#A80036\" height=\"12\" style=\"stroke: #FEFECE; stroke-width: 1.5;\" width=\"12\" x=\"436\" y=\"459.72\"/><!--MD5=[05d275557350bfb9b23a4ef7222b4c39]\n",
       "link E3 to E2--><path d=\"M595,97.64 C595,113.94 595,136.73 595,157.21 \" fill=\"none\" id=\"E3-&gt;E2\" style=\"stroke: #A80036; stroke-width: 1.0;\"/><polygon fill=\"#FFFFFF\" points=\"595,177.35,588,158.35,602,158.35,595,177.35\" style=\"stroke: #A80036; stroke-width: 1.0;\"/><ellipse cx=\"590\" cy=\"152.65\" fill=\"#A80036\" rx=\"2\" ry=\"2\" style=\"stroke: #A80036; stroke-width: 1.0;\"/><ellipse cx=\"600\" cy=\"152.65\" fill=\"#A80036\" rx=\"2\" ry=\"2\" style=\"stroke: #A80036; stroke-width: 1.0;\"/><!--MD5=[ae660f5ecd7ddb04a8913625960940af]\n",
       "link E12 to E7--><path d=\"M165.46,245.16 C185.975,260.575 210.06,278.6725 231.975,295.14 C242.9325,303.3738 253.3475,311.2 262.5025,318.0797 C267.08,321.5195 271.3425,324.7227 275.2003,327.6219 C276.1648,328.3467 277.1039,329.0525 278.0164,329.7382 C278.2445,329.9097 278.471,330.0799 278.6957,330.2488 \" fill=\"none\" id=\"E12-&gt;E7\" style=\"stroke: #A80036; stroke-width: 1.0;\"/><polygon fill=\"#FFFFFF\" points=\"278.6957,330.2488,259.3014,324.4298,267.7123,313.238,278.6957,330.2488\" style=\"stroke: #A80036; stroke-width: 1.0;\"/><ellipse cx=\"255.9463\" cy=\"319.4065\" fill=\"#A80036\" rx=\"2\" ry=\"2\" style=\"stroke: #A80036; stroke-width: 1.0;\"/><ellipse cx=\"261.9541\" cy=\"311.4124\" fill=\"#A80036\" rx=\"2\" ry=\"2\" style=\"stroke: #A80036; stroke-width: 1.0;\"/><!--MD5=[94adabc162ce7e41b39f13be14fbaeb3]\n",
       "reverse link E11 to E12--><path d=\"M116,110.8 C116,128.79 116,150.66 116,168.9 \" fill=\"none\" id=\"E11&lt;-E12\" style=\"stroke: #A80036; stroke-width: 1.0;\"/><polygon fill=\"#A80036\" points=\"116,97.64,112,103.64,116,109.64,120,103.64,116,97.64\" style=\"stroke: #A80036; stroke-width: 1.0;\"/><!--MD5=[e2a9ac97dcd3257bb5342dae06547bad]\n",
       "link E12 to E13--><path d=\"M116,245.16 C116,266.63 116,293.31 116,313.53 \" fill=\"none\" id=\"E12-&gt;E13\" style=\"stroke: #A80036; stroke-width: 1.0;\"/><polygon fill=\"#A80036\" points=\"116,321.77,119,313.77,113,313.77,116,321.77\" style=\"stroke: #A80036; stroke-width: 1.0;\"/><text fill=\"#000000\" font-family=\"sans-serif\" font-size=\"13\" lengthAdjust=\"spacingAndGlyphs\" textLength=\"73\" x=\"117\" y=\"288.0669\">«objective»</text><!--MD5=[3da2d2bcb813935c32a74cf20878d1ec]\n",
       "@startuml\r\n",
       "skinparam wrapWidth 300\r\n",
       "hide circle\r\n",
       "\r\n",
       "package \"AnalysisTest\" as E1   {\r\n",
       "comp def \"V\" as E2  <<(T,blue)part def>> {\r\n",
       "m: DataValue\r\n",
       "}\r\n",
       "comp usage \"vv: V\" as E3  <<(T,blue)part>> {\r\n",
       "}\r\n",
       "comp def \"AnalysisObjective\" as E4  <<(T,blue)requirement def>> {\r\n",
       "...\r\n",
       "- -\r\n",
       "}\r\n",
       "rec def \"AnalysisCase\" as E5 {\r\n",
       "portin \"v\" as E6  \r\n",
       "}\r\n",
       "\r\n",
       "rec def \"AnalysisPlan\" as E7 {\r\n",
       "portin \"v\" as E8  \r\n",
       "rec usage \"analysisCase\" as E9 {\r\n",
       "portout \"mass\" as E10  \r\n",
       "}\r\n",
       "\r\n",
       "}\r\n",
       "\r\n",
       "comp usage \"analysisContext: Part\" as E11  <<(T,blue)part>> {\r\n",
       "}\r\n",
       "comp usage \"analysisPlan: AnalysisPlan\" as E12 <<analysis>> {\r\n",
       "- -references- -\r\n",
       ">v: V= vv;  <s>AnalysisPlan::v</s>\r\n",
       "}\r\n",
       "comp usage \"obj: RequirementCheck\" as E13  <<(T,blue)requirement>> {\r\n",
       "}\r\n",
       "E3 - -:|> E2\r\n",
       "E12 - -:|> E7\r\n",
       "E11 *- - E12\r\n",
       "E12 - ->> E13 : <<objective>>\r\n",
       "}\r\n",
       "@enduml\r\n",
       "\n",
       "PlantUML version 1.2020.13(Sat Jun 13 12:26:38 UTC 2020)\n",
       "(EPL source distribution)\n",
       "Java Runtime: OpenJDK Runtime Environment\n",
       "JVM: OpenJDK 64-Bit Server VM\n",
       "Default Encoding: UTF-8\n",
       "Language: en\n",
       "Country: null\n",
       "--></g></svg>"
      ]
     },
     "execution_count": 29,
     "metadata": {},
     "output_type": "execute_result"
    }
   ],
   "source": [
    "%viz --style=\"STDCOLOR\" --view=\"MIXED\" \"AnalysisTest\""
   ]
  },
  {
   "cell_type": "code",
   "execution_count": 30,
   "id": "welcome-lightweight",
   "metadata": {
    "execution": {
     "iopub.execute_input": "2021-03-26T09:41:46.569655Z",
     "iopub.status.busy": "2021-03-26T09:41:46.569134Z",
     "iopub.status.idle": "2021-03-26T09:41:46.668811Z",
     "shell.execute_reply": "2021-03-26T09:41:46.667959Z"
    }
   },
   "outputs": [
    {
     "data": {
      "image/svg+xml": [
       "<?xml version=\"1.0\" encoding=\"UTF-8\" standalone=\"no\"?><svg xmlns=\"http://www.w3.org/2000/svg\" xmlns:xlink=\"http://www.w3.org/1999/xlink\" contentScriptType=\"application/ecmascript\" contentStyleType=\"text/css\" height=\"551px\" preserveAspectRatio=\"none\" style=\"width:874px;height:551px;\" version=\"1.1\" viewBox=\"0 0 874 551\" width=\"874px\" zoomAndPan=\"magnify\"><defs><filter height=\"300%\" id=\"f8kqdxpo0o1h5\" width=\"300%\" x=\"-1\" y=\"-1\"><feGaussianBlur result=\"blurOut\" stdDeviation=\"2.0\"/><feColorMatrix in=\"blurOut\" result=\"blurOut2\" type=\"matrix\" values=\"0 0 0 0 0 0 0 0 0 0 0 0 0 0 0 0 0 0 .4 0\"/><feOffset dx=\"4.0\" dy=\"4.0\" in=\"blurOut2\" result=\"blurOut3\"/><feBlend in=\"SourceGraphic\" in2=\"blurOut3\" mode=\"normal\"/></filter></defs><g><!--MD5=[fbc87193dbaf4d95561dea2c320d4a47]\n",
       "cluster E1--><polygon fill=\"#FFFFFF\" filter=\"url(#f8kqdxpo0o1h5)\" points=\"16,6,122,6,129,28.2969,852,28.2969,852,539.72,16,539.72,16,6\" style=\"stroke: #000000; stroke-width: 1.5;\"/><line style=\"stroke: #000000; stroke-width: 1.5;\" x1=\"16\" x2=\"129\" y1=\"28.2969\" y2=\"28.2969\"/><text fill=\"#000000\" font-family=\"sans-serif\" font-size=\"14\" font-weight=\"bold\" lengthAdjust=\"spacingAndGlyphs\" textLength=\"100\" x=\"20\" y=\"20.9951\">AnalysisTest</text><!--MD5=[de5ec2e2e8f62f467e546659f5068c88]\n",
       "cluster E5--><rect fill=\"#FFFFFF\" filter=\"url(#f8kqdxpo0o1h5)\" height=\"164\" style=\"stroke: #000000; stroke-width: 1.5;\" width=\"152\" x=\"684\" y=\"74.5\"/><text fill=\"#000000\" font-family=\"sans-serif\" font-size=\"14\" font-weight=\"bold\" lengthAdjust=\"spacingAndGlyphs\" textLength=\"104\" x=\"708\" y=\"89.4951\">AnalysisCase</text><!--MD5=[168fadf3d0c3fd93dd5d6da1b1d7ab76]\n",
       "cluster E7--><rect fill=\"#FFFFFF\" filter=\"url(#f8kqdxpo0o1h5)\" height=\"302.72\" style=\"stroke: #000000; stroke-width: 1.5;\" width=\"256\" x=\"305\" y=\"213\"/><text fill=\"#000000\" font-family=\"sans-serif\" font-size=\"14\" font-weight=\"bold\" lengthAdjust=\"spacingAndGlyphs\" textLength=\"98\" x=\"384\" y=\"227.9951\">AnalysisPlan</text><!--MD5=[7f149f147074ac12df2cb0a7728a5fb0]\n",
       "cluster E9--><rect fill=\"#FEFECE\" filter=\"url(#f8kqdxpo0o1h5)\" height=\"146.22\" rx=\"12.5\" ry=\"12.5\" style=\"stroke: #000000; stroke-width: 1.5;\" width=\"138\" x=\"399\" y=\"331.5\"/><rect fill=\"#FFFFFF\" height=\"113.9231\" rx=\"12.5\" ry=\"12.5\" style=\"stroke: #FFFFFF; stroke-width: 1.0;\" width=\"132\" x=\"402\" y=\"360.7969\"/><line style=\"stroke: #000000; stroke-width: 1.5;\" x1=\"399\" x2=\"537\" y1=\"357.7969\" y2=\"357.7969\"/><text fill=\"#000000\" font-family=\"sans-serif\" font-size=\"14\" lengthAdjust=\"spacingAndGlyphs\" textLength=\"89\" x=\"423.5\" y=\"349.4951\">analysisCase</text><!--MD5=[b4997ac47864f28c2f74865a473b2911]\n",
       "class E2--><rect fill=\"#FEFECE\" filter=\"url(#f8kqdxpo0o1h5)\" height=\"52.8047\" id=\"E2\" style=\"stroke: #A80036; stroke-width: 1.5;\" width=\"88\" x=\"577\" y=\"186.5\"/><ellipse cx=\"613.6\" cy=\"202.5\" fill=\"#008000\" rx=\"11\" ry=\"11\" style=\"stroke: #A80036; stroke-width: 1.0;\"/><path d=\"M612.5063,202.875 L612.5063,206.5469 L614.1313,206.5469 Q615.3031,206.5469 615.7719,206.1563 Q616.2406,205.75 616.2406,204.75 Q616.2406,203.75 615.7406,203.3125 Q615.2563,202.875 614.1313,202.875 L612.5063,202.875 Z M612.5063,198.0469 L612.5063,200.9219 L614.1313,200.9219 Q615.0531,200.9219 615.4438,200.5938 Q615.85,200.25 615.85,199.5 Q615.85,198.7344 615.4438,198.3906 Q615.0375,198.0469 614.1313,198.0469 L612.5063,198.0469 Z M610.1313,196.0938 L614.1313,196.0938 Q616.1938,196.0938 617.2406,196.875 Q618.2875,197.6563 618.2875,199.2188 Q618.2875,200.4219 617.6625,201.0938 Q617.0531,201.7656 615.8656,201.875 Q617.2875,202.0156 618.0063,202.8281 Q618.725,203.6406 618.725,205.0938 Q618.725,206.8906 617.6469,207.7031 Q616.5688,208.5 614.1313,208.5 L610.1313,208.5 L610.1313,196.0938 Z \"/><text fill=\"#000000\" font-family=\"sans-serif\" font-size=\"12\" lengthAdjust=\"spacingAndGlyphs\" textLength=\"8\" x=\"632.4\" y=\"206.6543\">V</text><line style=\"stroke: #A80036; stroke-width: 1.5;\" x1=\"578\" x2=\"664\" y1=\"218.5\" y2=\"218.5\"/><text fill=\"#000000\" font-family=\"sans-serif\" font-size=\"11\" lengthAdjust=\"spacingAndGlyphs\" textLength=\"76\" x=\"583\" y=\"232.7104\">m: DataValue</text><!--MD5=[09b614a08d8cba4a07c9adeb5e0fee81]\n",
       "class E3--><rect fill=\"#FEFECE\" filter=\"url(#f8kqdxpo0o1h5)\" height=\"45.9375\" id=\"E3\" rx=\"10\" ry=\"10\" style=\"stroke: #A80036; stroke-width: 1.5;\" width=\"68\" x=\"587\" y=\"51.5\"/><ellipse cx=\"602\" cy=\"70.4688\" fill=\"#32CD32\" rx=\"11\" ry=\"11\" style=\"stroke: #A80036; stroke-width: 1.0;\"/><path d=\"M601.7969,66.1406 L601.7969,69.7656 L602.7969,69.7656 Q604,69.7656 604.4844,69.3594 Q604.9688,68.9531 604.9688,67.9531 Q604.9688,66.9531 604.4844,66.5469 Q604,66.1406 602.7969,66.1406 L601.7969,66.1406 Z M599.3438,64.0781 L602.7031,64.0781 Q605.2656,64.0781 606.3906,65 Q607.5156,65.9063 607.5156,67.9531 Q607.5156,70 606.3906,70.9219 Q605.2656,71.8281 602.7031,71.8281 L601.7969,71.8281 L601.7969,76.4688 L599.3438,76.4688 L599.3438,64.0781 Z \"/><text fill=\"#000000\" font-family=\"sans-serif\" font-size=\"12\" font-style=\"italic\" lengthAdjust=\"spacingAndGlyphs\" textLength=\"40\" x=\"614\" y=\"67.6387\">«part»</text><text fill=\"#000000\" font-family=\"sans-serif\" font-size=\"12\" lengthAdjust=\"spacingAndGlyphs\" textLength=\"28\" x=\"620\" y=\"81.6074\">vv: V</text><line style=\"stroke: #A80036; stroke-width: 1.5;\" x1=\"588\" x2=\"654\" y1=\"89.4375\" y2=\"89.4375\"/><!--MD5=[ebbe1d658d1005bcc118a6aa81145e00]\n",
       "class E4--><rect fill=\"#FEFECE\" filter=\"url(#f8kqdxpo0o1h5)\" height=\"66.7422\" id=\"E4\" style=\"stroke: #A80036; stroke-width: 1.5;\" width=\"143\" x=\"327.5\" y=\"41\"/><ellipse cx=\"342.5\" cy=\"59.9688\" fill=\"#A52A2A\" rx=\"11\" ry=\"11\" style=\"stroke: #A80036; stroke-width: 1.0;\"/><path d=\"M342.0938,55.7813 L342.0938,63.7656 L342.75,63.7656 Q344.1875,63.7656 344.7969,62.8594 Q345.4219,61.9375 345.4219,59.7656 Q345.4219,57.5938 344.7969,56.6875 Q344.1875,55.7813 342.75,55.7813 L342.0938,55.7813 Z M339.6406,53.5781 L342.2656,53.5781 Q345.2969,53.5781 346.625,55.0313 Q347.9688,56.4688 347.9688,59.7656 Q347.9688,63.0625 346.625,64.5156 Q345.2969,65.9688 342.2656,65.9688 L339.6406,65.9688 L339.6406,53.5781 Z \"/><text fill=\"#000000\" font-family=\"sans-serif\" font-size=\"12\" font-style=\"italic\" lengthAdjust=\"spacingAndGlyphs\" textLength=\"115\" x=\"354.5\" y=\"57.1387\">«requirement def»</text><text fill=\"#000000\" font-family=\"sans-serif\" font-size=\"12\" lengthAdjust=\"spacingAndGlyphs\" textLength=\"107\" x=\"358.5\" y=\"71.1074\">AnalysisObjective</text><line style=\"stroke: #A80036; stroke-width: 1.5;\" x1=\"328.5\" x2=\"469.5\" y1=\"78.9375\" y2=\"78.9375\"/><text fill=\"#000000\" font-family=\"sans-serif\" font-size=\"11\" lengthAdjust=\"spacingAndGlyphs\" textLength=\"12\" x=\"333.5\" y=\"93.1479\">...</text><line style=\"stroke: #A80036; stroke-width: 1.0;\" x1=\"328.5\" x2=\"469.5\" y1=\"99.7422\" y2=\"99.7422\"/><!--MD5=[1dd1bfd58a279cf63c5f349dbc8fc6a1]\n",
       "class E11--><rect fill=\"#FEFECE\" filter=\"url(#f8kqdxpo0o1h5)\" height=\"45.9375\" id=\"E11\" rx=\"10\" ry=\"10\" style=\"stroke: #A80036; stroke-width: 1.5;\" width=\"164\" x=\"47\" y=\"51.5\"/><ellipse cx=\"62\" cy=\"70.4688\" fill=\"#32CD32\" rx=\"11\" ry=\"11\" style=\"stroke: #A80036; stroke-width: 1.0;\"/><path d=\"M61.7969,66.1406 L61.7969,69.7656 L62.7969,69.7656 Q64,69.7656 64.4844,69.3594 Q64.9688,68.9531 64.9688,67.9531 Q64.9688,66.9531 64.4844,66.5469 Q64,66.1406 62.7969,66.1406 L61.7969,66.1406 Z M59.3438,64.0781 L62.7031,64.0781 Q65.2656,64.0781 66.3906,65 Q67.5156,65.9063 67.5156,67.9531 Q67.5156,70 66.3906,70.9219 Q65.2656,71.8281 62.7031,71.8281 L61.7969,71.8281 L61.7969,76.4688 L59.3438,76.4688 L59.3438,64.0781 Z \"/><text fill=\"#000000\" font-family=\"sans-serif\" font-size=\"12\" font-style=\"italic\" lengthAdjust=\"spacingAndGlyphs\" textLength=\"40\" x=\"122\" y=\"67.6387\">«part»</text><text fill=\"#000000\" font-family=\"sans-serif\" font-size=\"12\" lengthAdjust=\"spacingAndGlyphs\" textLength=\"132\" x=\"76\" y=\"81.6074\">analysisContext: Part</text><line style=\"stroke: #A80036; stroke-width: 1.5;\" x1=\"48\" x2=\"210\" y1=\"89.4375\" y2=\"89.4375\"/><!--MD5=[49a0ec8f00dab7302a31f22d0f0fe584]\n",
       "class E12--><rect fill=\"#FEFECE\" filter=\"url(#f8kqdxpo0o1h5)\" height=\"88.3516\" id=\"E12\" rx=\"10\" ry=\"10\" style=\"stroke: #A80036; stroke-width: 1.5;\" width=\"194\" x=\"32\" y=\"169\"/><ellipse cx=\"47\" cy=\"187.9688\" fill=\"#B6DBBB\" rx=\"11\" ry=\"11\" style=\"stroke: #A80036; stroke-width: 1.0;\"/><path d=\"M42.875,189.8906 L42.875,182.0781 L45.3281,182.0781 L45.3281,190.5156 Q45.3281,191.4375 45.7969,191.9688 Q46.2813,192.5 47.1094,192.5 Q47.9531,192.5 48.4219,191.9688 Q48.8906,191.4375 48.8906,190.5156 L48.8906,182.0781 L51.3438,182.0781 L51.3438,189.8906 Q51.3438,192.4219 50.3438,193.5625 Q49.3438,194.7031 47.1094,194.7031 Q44.8906,194.7031 43.875,193.5625 Q42.875,192.4219 42.875,189.8906 Z \"/><text fill=\"#000000\" font-family=\"sans-serif\" font-size=\"12\" font-style=\"italic\" lengthAdjust=\"spacingAndGlyphs\" textLength=\"64\" x=\"110\" y=\"185.1387\">«analysis»</text><text fill=\"#000000\" font-family=\"sans-serif\" font-size=\"12\" lengthAdjust=\"spacingAndGlyphs\" textLength=\"162\" x=\"61\" y=\"199.1074\">analysisPlan: AnalysisPlan</text><line style=\"stroke: #A80036; stroke-width: 1.5;\" x1=\"33\" x2=\"225\" y1=\"206.9375\" y2=\"206.9375\"/><text fill=\"#000000\" font-family=\"sans-serif\" font-size=\"11\" lengthAdjust=\"spacingAndGlyphs\" textLength=\"50\" x=\"38\" y=\"237.9526\">v: V= vv;</text><text fill=\"#000000\" font-family=\"sans-serif\" font-size=\"11\" font-style=\"italic\" lengthAdjust=\"spacingAndGlyphs\" textLength=\"107\" x=\"38\" y=\"250.7573\">:&gt;&gt;AnalysisPlan::v</text><line style=\"stroke: #A80036; stroke-width: 1.0;\" x1=\"33\" x2=\"98\" y1=\"221.3398\" y2=\"221.3398\"/><text fill=\"#000000\" font-family=\"sans-serif\" font-size=\"11\" lengthAdjust=\"spacingAndGlyphs\" textLength=\"62\" x=\"98\" y=\"224.6479\">references</text><line style=\"stroke: #A80036; stroke-width: 1.0;\" x1=\"160\" x2=\"225\" y1=\"221.3398\" y2=\"221.3398\"/><!--MD5=[ee3c913d1a06f366521f9ef512b67efe]\n",
       "class E13--><rect fill=\"#FEFECE\" filter=\"url(#f8kqdxpo0o1h5)\" height=\"45.9375\" id=\"E13\" rx=\"10\" ry=\"10\" style=\"stroke: #A80036; stroke-width: 1.5;\" width=\"177\" x=\"40.5\" y=\"334\"/><ellipse cx=\"55.5\" cy=\"352.9688\" fill=\"#FFA500\" rx=\"11\" ry=\"11\" style=\"stroke: #A80036; stroke-width: 1.0;\"/><path d=\"M51.375,354.8906 L51.375,347.0781 L53.8281,347.0781 L53.8281,355.5156 Q53.8281,356.4375 54.2969,356.9688 Q54.7813,357.5 55.6094,357.5 Q56.4531,357.5 56.9219,356.9688 Q57.3906,356.4375 57.3906,355.5156 L57.3906,347.0781 L59.8438,347.0781 L59.8438,354.8906 Q59.8438,357.4219 58.8438,358.5625 Q57.8438,359.7031 55.6094,359.7031 Q53.3906,359.7031 52.375,358.5625 Q51.375,357.4219 51.375,354.8906 Z \"/><text fill=\"#000000\" font-family=\"sans-serif\" font-size=\"12\" font-style=\"italic\" lengthAdjust=\"spacingAndGlyphs\" textLength=\"91\" x=\"96.5\" y=\"350.1387\">«requirement»</text><text fill=\"#000000\" font-family=\"sans-serif\" font-size=\"12\" lengthAdjust=\"spacingAndGlyphs\" textLength=\"145\" x=\"69.5\" y=\"364.1074\">obj: RequirementCheck</text><line style=\"stroke: #A80036; stroke-width: 1.5;\" x1=\"41.5\" x2=\"216.5\" y1=\"371.9375\" y2=\"371.9375\"/><text fill=\"#000000\" font-family=\"sans-serif\" font-size=\"14\" lengthAdjust=\"spacingAndGlyphs\" textLength=\"7\" x=\"756.5\" y=\"53.1982\">v</text><rect fill=\"#A80036\" height=\"12\" style=\"stroke: #FEFECE; stroke-width: 1.5;\" width=\"12\" x=\"754\" y=\"68.5\"/><text fill=\"#000000\" font-family=\"sans-serif\" font-size=\"14\" lengthAdjust=\"spacingAndGlyphs\" textLength=\"7\" x=\"319.5\" y=\"191.6982\">v</text><rect fill=\"#A80036\" height=\"12\" style=\"stroke: #FEFECE; stroke-width: 1.5;\" width=\"12\" x=\"317\" y=\"207\"/><text fill=\"#000000\" font-family=\"sans-serif\" font-size=\"14\" lengthAdjust=\"spacingAndGlyphs\" textLength=\"37\" x=\"449.5\" y=\"496.7151\">mass</text><rect fill=\"#A80036\" height=\"12\" style=\"stroke: #FEFECE; stroke-width: 1.5;\" width=\"12\" x=\"462\" y=\"471.72\"/><!--MD5=[05d275557350bfb9b23a4ef7222b4c39]\n",
       "link E3 to E2--><path d=\"M621,97.73 C621,116.15 621,142.93 621,165.93 \" fill=\"none\" id=\"E3-&gt;E2\" style=\"stroke: #A80036; stroke-width: 1.0;\"/><polygon fill=\"#FFFFFF\" points=\"621,186.04,614,167.04,628,167.04,621,186.04\" style=\"stroke: #A80036; stroke-width: 1.0;\"/><ellipse cx=\"616\" cy=\"161.34\" fill=\"#A80036\" rx=\"2\" ry=\"2\" style=\"stroke: #A80036; stroke-width: 1.0;\"/><ellipse cx=\"626\" cy=\"161.34\" fill=\"#A80036\" rx=\"2\" ry=\"2\" style=\"stroke: #A80036; stroke-width: 1.0;\"/><!--MD5=[ae660f5ecd7ddb04a8913625960940af]\n",
       "link E12 to E7--><path d=\"M188,257.18 C209.735,273.095 234.4975,291.22 256.8275,307.5638 C267.9925,315.7356 278.5494,323.4622 287.8156,330.2445 C292.4488,333.6357 296.7592,336.7908 300.6617,339.6475 C301.6373,340.3617 302.5875,341.0572 303.5108,341.7331 C303.9724,342.0711 304.4274,342.4041 304.8754,342.7321 \" fill=\"none\" id=\"E12-&gt;E7\" style=\"stroke: #A80036; stroke-width: 1.0;\"/><polygon fill=\"#FFFFFF\" points=\"304.8754,342.7321,285.4096,337.1571,293.6794,325.8606,304.8754,342.7321\" style=\"stroke: #A80036; stroke-width: 1.0;\"/><ellipse cx=\"281.9917\" cy=\"332.1763\" fill=\"#A80036\" rx=\"2\" ry=\"2\" style=\"stroke: #A80036; stroke-width: 1.0;\"/><ellipse cx=\"287.8987\" cy=\"324.1074\" fill=\"#A80036\" rx=\"2\" ry=\"2\" style=\"stroke: #A80036; stroke-width: 1.0;\"/><!--MD5=[94adabc162ce7e41b39f13be14fbaeb3]\n",
       "reverse link E11 to E12--><path d=\"M129,110.96 C129,128.64 129,150.18 129,168.81 \" fill=\"none\" id=\"E11&lt;-E12\" style=\"stroke: #A80036; stroke-width: 1.0;\"/><polygon fill=\"#A80036\" points=\"129,97.73,125,103.73,129,109.73,133,103.73,129,97.73\" style=\"stroke: #A80036; stroke-width: 1.0;\"/><!--MD5=[e2a9ac97dcd3257bb5342dae06547bad]\n",
       "link E12 to E13--><path d=\"M129,257.38 C129,279.5 129,305.86 129,325.76 \" fill=\"none\" id=\"E12-&gt;E13\" style=\"stroke: #A80036; stroke-width: 1.0;\"/><polygon fill=\"#A80036\" points=\"129,333.87,132,325.87,126,325.87,129,333.87\" style=\"stroke: #A80036; stroke-width: 1.0;\"/><text fill=\"#000000\" font-family=\"sans-serif\" font-size=\"13\" lengthAdjust=\"spacingAndGlyphs\" textLength=\"73\" x=\"130\" y=\"300.0669\">«objective»</text><!--MD5=[ac40eae2d623d9febe2120d6d7736469]\n",
       "@startuml\r\n",
       " \r\n",
       "package \"AnalysisTest\" as E1   {\r\n",
       "comp def \"V\" as E2  << (B,green) >> {\r\n",
       "m: DataValue\r\n",
       "}\r\n",
       "comp usage \"vv: V\" as E3  << (P,limegreen) part>> {\r\n",
       "}\r\n",
       "comp def \"AnalysisObjective\" as E4  <<(D,brown)requirement def>> {\r\n",
       "...\r\n",
       "- -\r\n",
       "}\r\n",
       "rec def \"AnalysisCase\" as E5 {\r\n",
       "portin \"v\" as E6  \r\n",
       "}\r\n",
       "\r\n",
       "rec def \"AnalysisPlan\" as E7 {\r\n",
       "portin \"v\" as E8  \r\n",
       "rec usage \"analysisCase\" as E9 {\r\n",
       "portout \"mass\" as E10  \r\n",
       "}\r\n",
       "\r\n",
       "}\r\n",
       "\r\n",
       "comp usage \"analysisContext: Part\" as E11  << (P,limegreen) part>> {\r\n",
       "}\r\n",
       "comp usage \"analysisPlan: AnalysisPlan\" as E12 <<analysis>> {\r\n",
       "- -references- -\r\n",
       "v: V= vv; \\n//:>>AnalysisPlan::v// \r\n",
       "}\r\n",
       "comp usage \"obj: RequirementCheck\" as E13  <<(U,orange)requirement>> {\r\n",
       "}\r\n",
       "E3 - -:|> E2\r\n",
       "E12 - -:|> E7\r\n",
       "E11 *- - E12\r\n",
       "E12 - ->> E13 : <<objective>>\r\n",
       "}\r\n",
       "@enduml\r\n",
       "\n",
       "PlantUML version 1.2020.13(Sat Jun 13 12:26:38 UTC 2020)\n",
       "(EPL source distribution)\n",
       "Java Runtime: OpenJDK Runtime Environment\n",
       "JVM: OpenJDK 64-Bit Server VM\n",
       "Default Encoding: UTF-8\n",
       "Language: en\n",
       "Country: null\n",
       "--></g></svg>"
      ]
     },
     "execution_count": 30,
     "metadata": {},
     "output_type": "execute_result"
    }
   ],
   "source": [
    "%viz --style=\"PLANTUML\" --view=\"Default\" \"AnalysisTest\""
   ]
  },
  {
   "cell_type": "code",
   "execution_count": 31,
   "id": "satisfied-suffering",
   "metadata": {
    "execution": {
     "iopub.execute_input": "2021-03-26T09:41:46.720373Z",
     "iopub.status.busy": "2021-03-26T09:41:46.720008Z",
     "iopub.status.idle": "2021-03-26T09:41:46.829211Z",
     "shell.execute_reply": "2021-03-26T09:41:46.827703Z"
    }
   },
   "outputs": [
    {
     "data": {
      "image/svg+xml": [
       "<?xml version=\"1.0\" encoding=\"UTF-8\" standalone=\"no\"?><svg xmlns=\"http://www.w3.org/2000/svg\" xmlns:xlink=\"http://www.w3.org/1999/xlink\" contentScriptType=\"application/ecmascript\" contentStyleType=\"text/css\" height=\"947px\" preserveAspectRatio=\"none\" style=\"width:563px;height:947px;\" version=\"1.1\" viewBox=\"0 0 563 947\" width=\"563px\" zoomAndPan=\"magnify\"><defs><filter height=\"300%\" id=\"feuphjj2lgnkj\" width=\"300%\" x=\"-1\" y=\"-1\"><feGaussianBlur result=\"blurOut\" stdDeviation=\"2.0\"/><feColorMatrix in=\"blurOut\" result=\"blurOut2\" type=\"matrix\" values=\"0 0 0 0 0 0 0 0 0 0 0 0 0 0 0 0 0 0 .4 0\"/><feOffset dx=\"4.0\" dy=\"4.0\" in=\"blurOut2\" result=\"blurOut3\"/><feBlend in=\"SourceGraphic\" in2=\"blurOut3\" mode=\"normal\"/></filter></defs><g><!--MD5=[fbc87193dbaf4d95561dea2c320d4a47]\n",
       "cluster E1--><polygon fill=\"#FFFFFF\" filter=\"url(#feuphjj2lgnkj)\" points=\"16,6,122,6,129,28.2969,505,28.2969,505,935,16,935,16,6\" style=\"stroke: #000000; stroke-width: 1.5;\"/><line style=\"stroke: #000000; stroke-width: 1.5;\" x1=\"16\" x2=\"129\" y1=\"28.2969\" y2=\"28.2969\"/><text fill=\"#000000\" font-family=\"sans-serif\" font-size=\"14\" font-weight=\"bold\" lengthAdjust=\"spacingAndGlyphs\" textLength=\"100\" x=\"20\" y=\"20.9951\">AnalysisTest</text><!--MD5=[b4997ac47864f28c2f74865a473b2911]\n",
       "class E2--><rect fill=\"#FEFECE\" filter=\"url(#feuphjj2lgnkj)\" height=\"52.8047\" id=\"E2\" style=\"stroke: #A80036; stroke-width: 1.5;\" width=\"88\" x=\"374\" y=\"720.5\"/><ellipse cx=\"410.6\" cy=\"736.5\" fill=\"#008000\" rx=\"11\" ry=\"11\" style=\"stroke: #A80036; stroke-width: 1.0;\"/><path d=\"M409.5063,736.875 L409.5063,740.5469 L411.1313,740.5469 Q412.3031,740.5469 412.7719,740.1563 Q413.2406,739.75 413.2406,738.75 Q413.2406,737.75 412.7406,737.3125 Q412.2563,736.875 411.1313,736.875 L409.5063,736.875 Z M409.5063,732.0469 L409.5063,734.9219 L411.1313,734.9219 Q412.0531,734.9219 412.4438,734.5938 Q412.85,734.25 412.85,733.5 Q412.85,732.7344 412.4438,732.3906 Q412.0375,732.0469 411.1313,732.0469 L409.5063,732.0469 Z M407.1313,730.0938 L411.1313,730.0938 Q413.1938,730.0938 414.2406,730.875 Q415.2875,731.6563 415.2875,733.2188 Q415.2875,734.4219 414.6625,735.0938 Q414.0531,735.7656 412.8656,735.875 Q414.2875,736.0156 415.0063,736.8281 Q415.725,737.6406 415.725,739.0938 Q415.725,740.8906 414.6469,741.7031 Q413.5688,742.5 411.1313,742.5 L407.1313,742.5 L407.1313,730.0938 Z \"/><text fill=\"#000000\" font-family=\"sans-serif\" font-size=\"12\" lengthAdjust=\"spacingAndGlyphs\" textLength=\"8\" x=\"429.4\" y=\"740.6543\">V</text><line style=\"stroke: #A80036; stroke-width: 1.5;\" x1=\"375\" x2=\"461\" y1=\"752.5\" y2=\"752.5\"/><text fill=\"#000000\" font-family=\"sans-serif\" font-size=\"11\" lengthAdjust=\"spacingAndGlyphs\" textLength=\"76\" x=\"380\" y=\"766.7104\">m: DataValue</text><!--MD5=[09b614a08d8cba4a07c9adeb5e0fee81]\n",
       "class E3--><rect fill=\"#FEFECE\" filter=\"url(#feuphjj2lgnkj)\" height=\"45.9375\" id=\"E3\" rx=\"10\" ry=\"10\" style=\"stroke: #A80036; stroke-width: 1.5;\" width=\"68\" x=\"384\" y=\"580\"/><ellipse cx=\"399\" cy=\"598.9688\" fill=\"#32CD32\" rx=\"11\" ry=\"11\" style=\"stroke: #A80036; stroke-width: 1.0;\"/><path d=\"M398.7969,594.6406 L398.7969,598.2656 L399.7969,598.2656 Q401,598.2656 401.4844,597.8594 Q401.9688,597.4531 401.9688,596.4531 Q401.9688,595.4531 401.4844,595.0469 Q401,594.6406 399.7969,594.6406 L398.7969,594.6406 Z M396.3438,592.5781 L399.7031,592.5781 Q402.2656,592.5781 403.3906,593.5 Q404.5156,594.4063 404.5156,596.4531 Q404.5156,598.5 403.3906,599.4219 Q402.2656,600.3281 399.7031,600.3281 L398.7969,600.3281 L398.7969,604.9688 L396.3438,604.9688 L396.3438,592.5781 Z \"/><text fill=\"#000000\" font-family=\"sans-serif\" font-size=\"12\" font-style=\"italic\" lengthAdjust=\"spacingAndGlyphs\" textLength=\"40\" x=\"411\" y=\"596.1387\">«part»</text><text fill=\"#000000\" font-family=\"sans-serif\" font-size=\"12\" lengthAdjust=\"spacingAndGlyphs\" textLength=\"28\" x=\"417\" y=\"610.1074\">vv: V</text><line style=\"stroke: #A80036; stroke-width: 1.5;\" x1=\"385\" x2=\"451\" y1=\"617.9375\" y2=\"617.9375\"/><!--MD5=[ebbe1d658d1005bcc118a6aa81145e00]\n",
       "class E4--><rect fill=\"#FEFECE\" filter=\"url(#feuphjj2lgnkj)\" height=\"66.7422\" id=\"E4\" style=\"stroke: #A80036; stroke-width: 1.5;\" width=\"143\" x=\"68.5\" y=\"852\"/><ellipse cx=\"83.5\" cy=\"870.9688\" fill=\"#A52A2A\" rx=\"11\" ry=\"11\" style=\"stroke: #A80036; stroke-width: 1.0;\"/><path d=\"M83.0938,866.7813 L83.0938,874.7656 L83.75,874.7656 Q85.1875,874.7656 85.7969,873.8594 Q86.4219,872.9375 86.4219,870.7656 Q86.4219,868.5938 85.7969,867.6875 Q85.1875,866.7813 83.75,866.7813 L83.0938,866.7813 Z M80.6406,864.5781 L83.2656,864.5781 Q86.2969,864.5781 87.625,866.0313 Q88.9688,867.4688 88.9688,870.7656 Q88.9688,874.0625 87.625,875.5156 Q86.2969,876.9688 83.2656,876.9688 L80.6406,876.9688 L80.6406,864.5781 Z \"/><text fill=\"#000000\" font-family=\"sans-serif\" font-size=\"12\" font-style=\"italic\" lengthAdjust=\"spacingAndGlyphs\" textLength=\"115\" x=\"95.5\" y=\"868.1387\">«requirement def»</text><text fill=\"#000000\" font-family=\"sans-serif\" font-size=\"12\" lengthAdjust=\"spacingAndGlyphs\" textLength=\"107\" x=\"99.5\" y=\"882.1074\">AnalysisObjective</text><line style=\"stroke: #A80036; stroke-width: 1.5;\" x1=\"69.5\" x2=\"210.5\" y1=\"889.9375\" y2=\"889.9375\"/><text fill=\"#000000\" font-family=\"sans-serif\" font-size=\"11\" lengthAdjust=\"spacingAndGlyphs\" textLength=\"12\" x=\"74.5\" y=\"904.1479\">...</text><line style=\"stroke: #A80036; stroke-width: 1.0;\" x1=\"69.5\" x2=\"210.5\" y1=\"910.7422\" y2=\"910.7422\"/><!--MD5=[270fce915f116d4de14055a7c1d9a0f3]\n",
       "class E5--><rect fill=\"#FEFECE\" filter=\"url(#feuphjj2lgnkj)\" height=\"45.9375\" id=\"E5\" style=\"stroke: #A80036; stroke-width: 1.5;\" width=\"116\" x=\"233\" y=\"580\"/><ellipse cx=\"248\" cy=\"598.9688\" fill=\"#ADD1B2\" rx=\"11\" ry=\"11\" style=\"stroke: #A80036; stroke-width: 1.0;\"/><path d=\"M250.9688,604.6094 Q250.3906,604.9063 249.75,605.0469 Q249.1094,605.2031 248.4063,605.2031 Q245.9063,605.2031 244.5781,603.5625 Q243.2656,601.9063 243.2656,598.7813 Q243.2656,595.6563 244.5781,594 Q245.9063,592.3438 248.4063,592.3438 Q249.1094,592.3438 249.75,592.5 Q250.4063,592.6563 250.9688,592.9531 L250.9688,595.6719 Q250.3438,595.0938 249.75,594.8281 Q249.1563,594.5469 248.5313,594.5469 Q247.1875,594.5469 246.5,595.625 Q245.8125,596.6875 245.8125,598.7813 Q245.8125,600.875 246.5,601.9531 Q247.1875,603.0156 248.5313,603.0156 Q249.1563,603.0156 249.75,602.75 Q250.3438,602.4688 250.9688,601.8906 L250.9688,604.6094 Z \"/><text fill=\"#000000\" font-family=\"sans-serif\" font-size=\"12\" font-style=\"italic\" lengthAdjust=\"spacingAndGlyphs\" textLength=\"88\" x=\"260\" y=\"596.1387\">«analysis def»</text><text fill=\"#000000\" font-family=\"sans-serif\" font-size=\"12\" lengthAdjust=\"spacingAndGlyphs\" textLength=\"81\" x=\"263.5\" y=\"610.1074\">AnalysisCase</text><line style=\"stroke: #A80036; stroke-width: 1.5;\" x1=\"234\" x2=\"348\" y1=\"617.9375\" y2=\"617.9375\"/><!--MD5=[60a26617385b1d2d0262a64233df1f8d]\n",
       "class E6--><rect fill=\"#FEFECE\" filter=\"url(#feuphjj2lgnkj)\" height=\"88.3516\" id=\"E6\" rx=\"10\" ry=\"10\" style=\"stroke: #A80036; stroke-width: 1.5;\" width=\"166\" x=\"57\" y=\"703\"/><ellipse cx=\"72\" cy=\"721.9688\" fill=\"#FFA500\" rx=\"11\" ry=\"11\" style=\"stroke: #A80036; stroke-width: 1.0;\"/><path d=\"M67.875,723.8906 L67.875,716.0781 L70.3281,716.0781 L70.3281,724.5156 Q70.3281,725.4375 70.7969,725.9688 Q71.2813,726.5 72.1094,726.5 Q72.9531,726.5 73.4219,725.9688 Q73.8906,725.4375 73.8906,724.5156 L73.8906,716.0781 L76.3438,716.0781 L76.3438,723.8906 Q76.3438,726.4219 75.3438,727.5625 Q74.3438,728.7031 72.1094,728.7031 Q69.8906,728.7031 68.875,727.5625 Q67.875,726.4219 67.875,723.8906 Z \"/><text fill=\"#000000\" font-family=\"sans-serif\" font-size=\"12\" font-style=\"italic\" lengthAdjust=\"spacingAndGlyphs\" textLength=\"91\" x=\"107.5\" y=\"719.1387\">«requirement»</text><text fill=\"#000000\" font-family=\"sans-serif\" font-size=\"12\" lengthAdjust=\"spacingAndGlyphs\" textLength=\"134\" x=\"86\" y=\"733.1074\">obj: AnalysisObjective</text><line style=\"stroke: #A80036; stroke-width: 1.5;\" x1=\"58\" x2=\"222\" y1=\"740.9375\" y2=\"740.9375\"/><text fill=\"#000000\" font-family=\"sans-serif\" font-size=\"11\" lengthAdjust=\"spacingAndGlyphs\" textLength=\"130\" x=\"63\" y=\"771.9526\">subj: Anything= result;</text><text fill=\"#000000\" font-family=\"sans-serif\" font-size=\"11\" font-style=\"italic\" lengthAdjust=\"spacingAndGlyphs\" textLength=\"153\" x=\"63\" y=\"784.7573\">:&gt;&gt;AnalysisObjective::subj</text><line style=\"stroke: #A80036; stroke-width: 1.0;\" x1=\"58\" x2=\"109\" y1=\"755.3398\" y2=\"755.3398\"/><text fill=\"#000000\" font-family=\"sans-serif\" font-size=\"11\" lengthAdjust=\"spacingAndGlyphs\" textLength=\"62\" x=\"109\" y=\"758.6479\">references</text><line style=\"stroke: #A80036; stroke-width: 1.0;\" x1=\"171\" x2=\"222\" y1=\"755.3398\" y2=\"755.3398\"/><!--MD5=[2156ba9850f5573cc1fc38a6a4b2f02b]\n",
       "class E7--><rect fill=\"#FEFECE\" filter=\"url(#feuphjj2lgnkj)\" height=\"45.9375\" id=\"E7\" style=\"stroke: #A80036; stroke-width: 1.5;\" width=\"116\" x=\"161\" y=\"313\"/><ellipse cx=\"176\" cy=\"331.9688\" fill=\"#ADD1B2\" rx=\"11\" ry=\"11\" style=\"stroke: #A80036; stroke-width: 1.0;\"/><path d=\"M178.9688,337.6094 Q178.3906,337.9063 177.75,338.0469 Q177.1094,338.2031 176.4063,338.2031 Q173.9063,338.2031 172.5781,336.5625 Q171.2656,334.9063 171.2656,331.7813 Q171.2656,328.6563 172.5781,327 Q173.9063,325.3438 176.4063,325.3438 Q177.1094,325.3438 177.75,325.5 Q178.4063,325.6563 178.9688,325.9531 L178.9688,328.6719 Q178.3438,328.0938 177.75,327.8281 Q177.1563,327.5469 176.5313,327.5469 Q175.1875,327.5469 174.5,328.625 Q173.8125,329.6875 173.8125,331.7813 Q173.8125,333.875 174.5,334.9531 Q175.1875,336.0156 176.5313,336.0156 Q177.1563,336.0156 177.75,335.75 Q178.3438,335.4688 178.9688,334.8906 L178.9688,337.6094 Z \"/><text fill=\"#000000\" font-family=\"sans-serif\" font-size=\"12\" font-style=\"italic\" lengthAdjust=\"spacingAndGlyphs\" textLength=\"88\" x=\"188\" y=\"329.1387\">«analysis def»</text><text fill=\"#000000\" font-family=\"sans-serif\" font-size=\"12\" lengthAdjust=\"spacingAndGlyphs\" textLength=\"77\" x=\"193.5\" y=\"343.1074\">AnalysisPlan</text><line style=\"stroke: #A80036; stroke-width: 1.5;\" x1=\"162\" x2=\"276\" y1=\"350.9375\" y2=\"350.9375\"/><!--MD5=[b9389687b975829384b498ac4b7476b2]\n",
       "class E8--><rect fill=\"#FEFECE\" filter=\"url(#feuphjj2lgnkj)\" height=\"66.7422\" id=\"E8\" rx=\"10\" ry=\"10\" style=\"stroke: #A80036; stroke-width: 1.5;\" width=\"177\" x=\"269.5\" y=\"436\"/><ellipse cx=\"284.5\" cy=\"454.9688\" fill=\"#FFA500\" rx=\"11\" ry=\"11\" style=\"stroke: #A80036; stroke-width: 1.0;\"/><path d=\"M280.375,456.8906 L280.375,449.0781 L282.8281,449.0781 L282.8281,457.5156 Q282.8281,458.4375 283.2969,458.9688 Q283.7813,459.5 284.6094,459.5 Q285.4531,459.5 285.9219,458.9688 Q286.3906,458.4375 286.3906,457.5156 L286.3906,449.0781 L288.8438,449.0781 L288.8438,456.8906 Q288.8438,459.4219 287.8438,460.5625 Q286.8438,461.7031 284.6094,461.7031 Q282.3906,461.7031 281.375,460.5625 Q280.375,459.4219 280.375,456.8906 Z \"/><text fill=\"#000000\" font-family=\"sans-serif\" font-size=\"12\" font-style=\"italic\" lengthAdjust=\"spacingAndGlyphs\" textLength=\"91\" x=\"325.5\" y=\"452.1387\">«requirement»</text><text fill=\"#000000\" font-family=\"sans-serif\" font-size=\"12\" lengthAdjust=\"spacingAndGlyphs\" textLength=\"145\" x=\"298.5\" y=\"466.1074\">obj: RequirementCheck</text><line style=\"stroke: #A80036; stroke-width: 1.5;\" x1=\"270.5\" x2=\"445.5\" y1=\"473.9375\" y2=\"473.9375\"/><text fill=\"#000000\" font-family=\"sans-serif\" font-size=\"11\" lengthAdjust=\"spacingAndGlyphs\" textLength=\"12\" x=\"275.5\" y=\"488.1479\">...</text><line style=\"stroke: #A80036; stroke-width: 1.0;\" x1=\"270.5\" x2=\"445.5\" y1=\"494.7422\" y2=\"494.7422\"/><!--MD5=[fd4143e9d270a159db93a4ea2a975926]\n",
       "class E9--><rect fill=\"#FEFECE\" filter=\"url(#feuphjj2lgnkj)\" height=\"45.9375\" id=\"E9\" rx=\"10\" ry=\"10\" style=\"stroke: #A80036; stroke-width: 1.5;\" width=\"202\" x=\"32\" y=\"446.5\"/><ellipse cx=\"47\" cy=\"465.4688\" fill=\"#B6DBBB\" rx=\"11\" ry=\"11\" style=\"stroke: #A80036; stroke-width: 1.0;\"/><path d=\"M42.875,467.3906 L42.875,459.5781 L45.3281,459.5781 L45.3281,468.0156 Q45.3281,468.9375 45.7969,469.4688 Q46.2813,470 47.1094,470 Q47.9531,470 48.4219,469.4688 Q48.8906,468.9375 48.8906,468.0156 L48.8906,459.5781 L51.3438,459.5781 L51.3438,467.3906 Q51.3438,469.9219 50.3438,471.0625 Q49.3438,472.2031 47.1094,472.2031 Q44.8906,472.2031 43.875,471.0625 Q42.875,469.9219 42.875,467.3906 Z \"/><text fill=\"#000000\" font-family=\"sans-serif\" font-size=\"12\" font-style=\"italic\" lengthAdjust=\"spacingAndGlyphs\" textLength=\"64\" x=\"114\" y=\"462.6387\">«analysis»</text><text fill=\"#000000\" font-family=\"sans-serif\" font-size=\"12\" lengthAdjust=\"spacingAndGlyphs\" textLength=\"170\" x=\"61\" y=\"476.6074\">analysisCase: AnalysisCase</text><line style=\"stroke: #A80036; stroke-width: 1.5;\" x1=\"33\" x2=\"233\" y1=\"484.4375\" y2=\"484.4375\"/><!--MD5=[96f4274e9e20536e775497830990834d]\n",
       "class E10--><rect fill=\"#FEFECE\" filter=\"url(#feuphjj2lgnkj)\" height=\"45.9375\" id=\"E10\" rx=\"10\" ry=\"10\" style=\"stroke: #A80036; stroke-width: 1.5;\" width=\"166\" x=\"32\" y=\"580\"/><ellipse cx=\"47\" cy=\"598.9688\" fill=\"#FFA500\" rx=\"11\" ry=\"11\" style=\"stroke: #A80036; stroke-width: 1.0;\"/><path d=\"M42.875,600.8906 L42.875,593.0781 L45.3281,593.0781 L45.3281,601.5156 Q45.3281,602.4375 45.7969,602.9688 Q46.2813,603.5 47.1094,603.5 Q47.9531,603.5 48.4219,602.9688 Q48.8906,602.4375 48.8906,601.5156 L48.8906,593.0781 L51.3438,593.0781 L51.3438,600.8906 Q51.3438,603.4219 50.3438,604.5625 Q49.3438,605.7031 47.1094,605.7031 Q44.8906,605.7031 43.875,604.5625 Q42.875,603.4219 42.875,600.8906 Z \"/><text fill=\"#000000\" font-family=\"sans-serif\" font-size=\"12\" font-style=\"italic\" lengthAdjust=\"spacingAndGlyphs\" textLength=\"91\" x=\"82.5\" y=\"596.1387\">«requirement»</text><text fill=\"#000000\" font-family=\"sans-serif\" font-size=\"12\" lengthAdjust=\"spacingAndGlyphs\" textLength=\"134\" x=\"61\" y=\"610.1074\">obj: AnalysisObjective</text><line style=\"stroke: #A80036; stroke-width: 1.5;\" x1=\"33\" x2=\"197\" y1=\"617.9375\" y2=\"617.9375\"/><!--MD5=[1dd1bfd58a279cf63c5f349dbc8fc6a1]\n",
       "class E11--><rect fill=\"#FEFECE\" filter=\"url(#feuphjj2lgnkj)\" height=\"45.9375\" id=\"E11\" rx=\"10\" ry=\"10\" style=\"stroke: #A80036; stroke-width: 1.5;\" width=\"164\" x=\"227\" y=\"41\"/><ellipse cx=\"242\" cy=\"59.9688\" fill=\"#32CD32\" rx=\"11\" ry=\"11\" style=\"stroke: #A80036; stroke-width: 1.0;\"/><path d=\"M241.7969,55.6406 L241.7969,59.2656 L242.7969,59.2656 Q244,59.2656 244.4844,58.8594 Q244.9688,58.4531 244.9688,57.4531 Q244.9688,56.4531 244.4844,56.0469 Q244,55.6406 242.7969,55.6406 L241.7969,55.6406 Z M239.3438,53.5781 L242.7031,53.5781 Q245.2656,53.5781 246.3906,54.5 Q247.5156,55.4063 247.5156,57.4531 Q247.5156,59.5 246.3906,60.4219 Q245.2656,61.3281 242.7031,61.3281 L241.7969,61.3281 L241.7969,65.9688 L239.3438,65.9688 L239.3438,53.5781 Z \"/><text fill=\"#000000\" font-family=\"sans-serif\" font-size=\"12\" font-style=\"italic\" lengthAdjust=\"spacingAndGlyphs\" textLength=\"40\" x=\"302\" y=\"57.1387\">«part»</text><text fill=\"#000000\" font-family=\"sans-serif\" font-size=\"12\" lengthAdjust=\"spacingAndGlyphs\" textLength=\"132\" x=\"256\" y=\"71.1074\">analysisContext: Part</text><line style=\"stroke: #A80036; stroke-width: 1.5;\" x1=\"228\" x2=\"390\" y1=\"78.9375\" y2=\"78.9375\"/><!--MD5=[49a0ec8f00dab7302a31f22d0f0fe584]\n",
       "class E12--><rect fill=\"#FEFECE\" filter=\"url(#feuphjj2lgnkj)\" height=\"88.3516\" id=\"E12\" rx=\"10\" ry=\"10\" style=\"stroke: #A80036; stroke-width: 1.5;\" width=\"194\" x=\"212\" y=\"148\"/><ellipse cx=\"227\" cy=\"166.9688\" fill=\"#B6DBBB\" rx=\"11\" ry=\"11\" style=\"stroke: #A80036; stroke-width: 1.0;\"/><path d=\"M222.875,168.8906 L222.875,161.0781 L225.3281,161.0781 L225.3281,169.5156 Q225.3281,170.4375 225.7969,170.9688 Q226.2813,171.5 227.1094,171.5 Q227.9531,171.5 228.4219,170.9688 Q228.8906,170.4375 228.8906,169.5156 L228.8906,161.0781 L231.3438,161.0781 L231.3438,168.8906 Q231.3438,171.4219 230.3438,172.5625 Q229.3438,173.7031 227.1094,173.7031 Q224.8906,173.7031 223.875,172.5625 Q222.875,171.4219 222.875,168.8906 Z \"/><text fill=\"#000000\" font-family=\"sans-serif\" font-size=\"12\" font-style=\"italic\" lengthAdjust=\"spacingAndGlyphs\" textLength=\"64\" x=\"290\" y=\"164.1387\">«analysis»</text><text fill=\"#000000\" font-family=\"sans-serif\" font-size=\"12\" lengthAdjust=\"spacingAndGlyphs\" textLength=\"162\" x=\"241\" y=\"178.1074\">analysisPlan: AnalysisPlan</text><line style=\"stroke: #A80036; stroke-width: 1.5;\" x1=\"213\" x2=\"405\" y1=\"185.9375\" y2=\"185.9375\"/><text fill=\"#000000\" font-family=\"sans-serif\" font-size=\"11\" lengthAdjust=\"spacingAndGlyphs\" textLength=\"50\" x=\"218\" y=\"216.9526\">v: V= vv;</text><text fill=\"#000000\" font-family=\"sans-serif\" font-size=\"11\" font-style=\"italic\" lengthAdjust=\"spacingAndGlyphs\" textLength=\"107\" x=\"218\" y=\"229.7573\">:&gt;&gt;AnalysisPlan::v</text><line style=\"stroke: #A80036; stroke-width: 1.0;\" x1=\"213\" x2=\"278\" y1=\"200.3398\" y2=\"200.3398\"/><text fill=\"#000000\" font-family=\"sans-serif\" font-size=\"11\" lengthAdjust=\"spacingAndGlyphs\" textLength=\"62\" x=\"278\" y=\"203.6479\">references</text><line style=\"stroke: #A80036; stroke-width: 1.0;\" x1=\"340\" x2=\"405\" y1=\"200.3398\" y2=\"200.3398\"/><!--MD5=[ee3c913d1a06f366521f9ef512b67efe]\n",
       "class E13--><rect fill=\"#FEFECE\" filter=\"url(#feuphjj2lgnkj)\" height=\"45.9375\" id=\"E13\" rx=\"10\" ry=\"10\" style=\"stroke: #A80036; stroke-width: 1.5;\" width=\"177\" x=\"312.5\" y=\"313\"/><ellipse cx=\"327.5\" cy=\"331.9688\" fill=\"#FFA500\" rx=\"11\" ry=\"11\" style=\"stroke: #A80036; stroke-width: 1.0;\"/><path d=\"M323.375,333.8906 L323.375,326.0781 L325.8281,326.0781 L325.8281,334.5156 Q325.8281,335.4375 326.2969,335.9688 Q326.7813,336.5 327.6094,336.5 Q328.4531,336.5 328.9219,335.9688 Q329.3906,335.4375 329.3906,334.5156 L329.3906,326.0781 L331.8438,326.0781 L331.8438,333.8906 Q331.8438,336.4219 330.8438,337.5625 Q329.8438,338.7031 327.6094,338.7031 Q325.3906,338.7031 324.375,337.5625 Q323.375,336.4219 323.375,333.8906 Z \"/><text fill=\"#000000\" font-family=\"sans-serif\" font-size=\"12\" font-style=\"italic\" lengthAdjust=\"spacingAndGlyphs\" textLength=\"91\" x=\"368.5\" y=\"329.1387\">«requirement»</text><text fill=\"#000000\" font-family=\"sans-serif\" font-size=\"12\" lengthAdjust=\"spacingAndGlyphs\" textLength=\"145\" x=\"341.5\" y=\"343.1074\">obj: RequirementCheck</text><line style=\"stroke: #A80036; stroke-width: 1.5;\" x1=\"313.5\" x2=\"488.5\" y1=\"350.9375\" y2=\"350.9375\"/><!--MD5=[05d275557350bfb9b23a4ef7222b4c39]\n",
       "link E3 to E2--><path d=\"M418,626.19 C418,645.86 418,675.21 418,699.94 \" fill=\"none\" id=\"E3-&gt;E2\" style=\"stroke: #A80036; stroke-width: 1.0;\"/><polygon fill=\"#FFFFFF\" points=\"418,720.12,411,701.12,425,701.12,418,720.12\" style=\"stroke: #A80036; stroke-width: 1.0;\"/><ellipse cx=\"413\" cy=\"695.42\" fill=\"#A80036\" rx=\"2\" ry=\"2\" style=\"stroke: #A80036; stroke-width: 1.0;\"/><ellipse cx=\"423\" cy=\"695.42\" fill=\"#A80036\" rx=\"2\" ry=\"2\" style=\"stroke: #A80036; stroke-width: 1.0;\"/><!--MD5=[15ebcb19ae302d9b601edb458606d402]\n",
       "link E5 to E2--><path d=\"M307.77,626.24 C318.38,640 332.58,657.87 346,673 C359.17,687.85 374.53,703.61 387.67,716.68 \" fill=\"none\" id=\"E5-&gt;E2\" style=\"stroke: #A80036; stroke-width: 1.0; stroke-dasharray: 7.0,7.0;\"/><polygon fill=\"#A80036\" points=\"391.32,720.29,387.7659,711.1048,387.7773,716.7616,382.1205,716.773,391.32,720.29\" style=\"stroke: #A80036; stroke-width: 1.0;\"/><text fill=\"#000000\" font-family=\"sans-serif\" font-size=\"13\" lengthAdjust=\"spacingAndGlyphs\" textLength=\"62\" x=\"347\" y=\"669.0669\">«subject»</text><!--MD5=[9120cf2e5df3bff93db8f754bbbc09b4]\n",
       "link E5 to E6--><path d=\"M267.41,626.19 C247.29,645.11 217.64,672.99 192,697.1 \" fill=\"none\" id=\"E5-&gt;E6\" style=\"stroke: #A80036; stroke-width: 1.0;\"/><polygon fill=\"#A80036\" points=\"185.92,702.82,193.8017,699.5217,189.6895,695.1525,185.92,702.82\" style=\"stroke: #A80036; stroke-width: 1.0;\"/><text fill=\"#000000\" font-family=\"sans-serif\" font-size=\"13\" lengthAdjust=\"spacingAndGlyphs\" textLength=\"73\" x=\"234\" y=\"669.0669\">«objective»</text><!--MD5=[f667431f98296947986a1a7595a31603]\n",
       "link E6 to E4--><path d=\"M140,791.19 C140,804.11 140,818.41 140,831.87 \" fill=\"none\" id=\"E6-&gt;E4\" style=\"stroke: #A80036; stroke-width: 1.0;\"/><polygon fill=\"#FFFFFF\" points=\"140,851.98,133,832.98,147,832.98,140,851.98\" style=\"stroke: #A80036; stroke-width: 1.0;\"/><ellipse cx=\"135\" cy=\"827.28\" fill=\"#A80036\" rx=\"2\" ry=\"2\" style=\"stroke: #A80036; stroke-width: 1.0;\"/><ellipse cx=\"145\" cy=\"827.28\" fill=\"#A80036\" rx=\"2\" ry=\"2\" style=\"stroke: #A80036; stroke-width: 1.0;\"/><!--MD5=[583832df87f4419a098336a29a52fa00]\n",
       "link E7 to E2--><path d=\"M277.09,354.78 C305.71,364.07 340.54,376.17 371,389 C413.68,406.98 438.92,397.07 464,436 C521.14,524.71 465.3,656.94 434.87,715.82 \" fill=\"none\" id=\"E7-&gt;E2\" style=\"stroke: #A80036; stroke-width: 1.0; stroke-dasharray: 7.0,7.0;\"/><polygon fill=\"#A80036\" points=\"432.55,720.28,440.2635,714.1561,434.8658,715.8486,433.1733,710.4509,432.55,720.28\" style=\"stroke: #A80036; stroke-width: 1.0;\"/><text fill=\"#000000\" font-family=\"sans-serif\" font-size=\"13\" lengthAdjust=\"spacingAndGlyphs\" textLength=\"62\" x=\"489\" y=\"546.0669\">«subject»</text><!--MD5=[79bc8f324ef4d02c541433f2e6e513c3]\n",
       "link E7 to E8--><path d=\"M242.27,359.01 C262.71,378.35 292.93,406.94 317.37,430.06 \" fill=\"none\" id=\"E7-&gt;E8\" style=\"stroke: #A80036; stroke-width: 1.0;\"/><polygon fill=\"#A80036\" points=\"323.44,435.81,319.6993,428.1284,315.5707,432.4821,323.44,435.81\" style=\"stroke: #A80036; stroke-width: 1.0;\"/><text fill=\"#000000\" font-family=\"sans-serif\" font-size=\"13\" lengthAdjust=\"spacingAndGlyphs\" textLength=\"73\" x=\"289\" y=\"402.0669\">«objective»</text><!--MD5=[bfc3ddf2e613be37104f658f09af896c]\n",
       "link E9 to E5--><path d=\"M159.45,492.51 C183.83,512.8 220.43,543.27 248.84,566.91 \" fill=\"none\" id=\"E9-&gt;E5\" style=\"stroke: #A80036; stroke-width: 1.0;\"/><polygon fill=\"#FFFFFF\" points=\"264.47,579.92,245.3863,573.1515,254.339,562.3882,264.47,579.92\" style=\"stroke: #A80036; stroke-width: 1.0;\"/><ellipse cx=\"242.2831\" cy=\"567.9688\" fill=\"#A80036\" rx=\"2\" ry=\"2\" style=\"stroke: #A80036; stroke-width: 1.0;\"/><ellipse cx=\"248.6779\" cy=\"560.2808\" fill=\"#A80036\" rx=\"2\" ry=\"2\" style=\"stroke: #A80036; stroke-width: 1.0;\"/><!--MD5=[e4a10ef82d0e328e31cac39a31e58dda]\n",
       "reverse link E7 to E9--><path d=\"M197.4,370.03 C181.78,393.92 161.1,425.53 147.44,446.42 \" fill=\"none\" id=\"E7&lt;-E9\" style=\"stroke: #A80036; stroke-width: 1.0;\"/><polygon fill=\"#A80036\" points=\"204.61,359.01,197.9792,361.8442,198.0451,369.055,204.6759,366.2208,204.61,359.01\" style=\"stroke: #A80036; stroke-width: 1.0;\"/><!--MD5=[35e5f1cbde42fa304a029880aa2bc7f2]\n",
       "link E9 to E10--><path d=\"M129.99,492.51 C127.01,514.22 122.45,547.59 119.14,571.78 \" fill=\"none\" id=\"E9-&gt;E10\" style=\"stroke: #A80036; stroke-width: 1.0;\"/><polygon fill=\"#A80036\" points=\"118.02,579.92,122.0776,572.401,116.1331,571.587,118.02,579.92\" style=\"stroke: #A80036; stroke-width: 1.0;\"/><text fill=\"#000000\" font-family=\"sans-serif\" font-size=\"13\" lengthAdjust=\"spacingAndGlyphs\" textLength=\"73\" x=\"125\" y=\"546.0669\">«objective»</text><!--MD5=[198716bf12f04006f5c20d61bde6d80d]\n",
       "link E10 to E6--><path d=\"M118.91,626.19 C121.6,641.52 125.34,662.73 128.92,683.04 \" fill=\"none\" id=\"E10-&gt;E6\" style=\"stroke: #A80036; stroke-width: 1.0;\"/><polygon fill=\"#FFFFFF\" points=\"132.4,702.82,122.2191,685.3172,136.0081,682.8956,132.4,702.82\" style=\"stroke: #A80036; stroke-width: 1.0;\"/><line style=\"stroke: #A80036; stroke-width: 2.0;\" x1=\"121.5618\" x2=\"135.3508\" y1=\"681.5744\" y2=\"679.1529\"/><!--MD5=[ae660f5ecd7ddb04a8913625960940af]\n",
       "link E12 to E7--><path d=\"M281.51,236.38 C269.49,255.34 255.5,277.42 243.8,295.87 \" fill=\"none\" id=\"E12-&gt;E7\" style=\"stroke: #A80036; stroke-width: 1.0;\"/><polygon fill=\"#FFFFFF\" points=\"233.03,312.87,237.2795,293.0725,249.108,300.5615,233.03,312.87\" style=\"stroke: #A80036; stroke-width: 1.0;\"/><ellipse cx=\"242.0184\" cy=\"289.3264\" fill=\"#A80036\" rx=\"2\" ry=\"2\" style=\"stroke: #A80036; stroke-width: 1.0;\"/><ellipse cx=\"250.4673\" cy=\"294.6758\" fill=\"#A80036\" rx=\"2\" ry=\"2\" style=\"stroke: #A80036; stroke-width: 1.0;\"/><!--MD5=[94adabc162ce7e41b39f13be14fbaeb3]\n",
       "reverse link E11 to E12--><path d=\"M309,100.45 C309,115.17 309,132.39 309,147.84 \" fill=\"none\" id=\"E11&lt;-E12\" style=\"stroke: #A80036; stroke-width: 1.0;\"/><polygon fill=\"#A80036\" points=\"309,87.24,305,93.24,309,99.24,313,93.24,309,87.24\" style=\"stroke: #A80036; stroke-width: 1.0;\"/><!--MD5=[e2a9ac97dcd3257bb5342dae06547bad]\n",
       "link E12 to E13--><path d=\"M337.1,236.38 C351.76,258.99 369.28,286.04 382.27,306.09 \" fill=\"none\" id=\"E12-&gt;E13\" style=\"stroke: #A80036; stroke-width: 1.0;\"/><polygon fill=\"#A80036\" points=\"386.66,312.87,384.8342,304.5234,379.7962,307.782,386.66,312.87\" style=\"stroke: #A80036; stroke-width: 1.0;\"/><text fill=\"#000000\" font-family=\"sans-serif\" font-size=\"13\" lengthAdjust=\"spacingAndGlyphs\" textLength=\"73\" x=\"366\" y=\"279.0669\">«objective»</text><!--MD5=[51d1022fa65407261fe1e8c6668be443]\n",
       "@startuml\r\n",
       " \r\n",
       "package \"AnalysisTest\" as E1   {\r\n",
       "comp def \"V\" as E2  << (B,green) >> {\r\n",
       "m: DataValue\r\n",
       "}\r\n",
       "comp usage \"vv: V\" as E3  << (P,limegreen) part>> {\r\n",
       "}\r\n",
       "comp def \"AnalysisObjective\" as E4  <<(D,brown)requirement def>> {\r\n",
       "...\r\n",
       "- -\r\n",
       "}\r\n",
       "comp def \"AnalysisCase\" as E5 <<analysis def>> {\r\n",
       "}\r\n",
       "comp usage \"obj: AnalysisObjective\" as E6  <<(U,orange)requirement>> {\r\n",
       "- -references- -\r\n",
       "subj: Anything= result; \\n//:>>AnalysisObjective::subj// \r\n",
       "}\r\n",
       "comp def \"AnalysisPlan\" as E7 <<analysis def>> {\r\n",
       "}\r\n",
       "comp usage \"obj: RequirementCheck\" as E8  <<(U,orange)requirement>> {\r\n",
       "...\r\n",
       "- -\r\n",
       "}\r\n",
       "comp usage \"analysisCase: AnalysisCase\" as E9 <<analysis>> {\r\n",
       "}\r\n",
       "comp usage \"obj: AnalysisObjective\" as E10  <<(U,orange)requirement>> {\r\n",
       "}\r\n",
       "comp usage \"analysisContext: Part\" as E11  << (P,limegreen) part>> {\r\n",
       "}\r\n",
       "comp usage \"analysisPlan: AnalysisPlan\" as E12 <<analysis>> {\r\n",
       "- -references- -\r\n",
       "v: V= vv; \\n//:>>AnalysisPlan::v// \r\n",
       "}\r\n",
       "comp usage \"obj: RequirementCheck\" as E13  <<(U,orange)requirement>> {\r\n",
       "}\r\n",
       "E3 - -:|> E2\r\n",
       "E5 ..> E2 : <<subject>>\r\n",
       "E5 - ->> E6 : <<objective>>\r\n",
       "E6 - -:|> E4\r\n",
       "E7 ..> E2 : <<subject>>\r\n",
       "E7 - ->> E8 : <<objective>>\r\n",
       "E9 - -:|> E5\r\n",
       "E7 *- - E9\r\n",
       "E9 - ->> E10 : <<objective>>\r\n",
       "E10 - -||> E6\r\n",
       "E12 - -:|> E7\r\n",
       "E11 *- - E12\r\n",
       "E12 - ->> E13 : <<objective>>\r\n",
       "}\r\n",
       "@enduml\r\n",
       "\n",
       "PlantUML version 1.2020.13(Sat Jun 13 12:26:38 UTC 2020)\n",
       "(EPL source distribution)\n",
       "Java Runtime: OpenJDK Runtime Environment\n",
       "JVM: OpenJDK 64-Bit Server VM\n",
       "Default Encoding: UTF-8\n",
       "Language: en\n",
       "Country: null\n",
       "--></g></svg>"
      ]
     },
     "execution_count": 31,
     "metadata": {},
     "output_type": "execute_result"
    }
   ],
   "source": [
    "%viz --style=\"PLANTUML\" --view=\"Tree\" \"AnalysisTest\""
   ]
  },
  {
   "cell_type": "code",
   "execution_count": 32,
   "id": "thorough-patrol",
   "metadata": {
    "execution": {
     "iopub.execute_input": "2021-03-26T09:41:46.878765Z",
     "iopub.status.busy": "2021-03-26T09:41:46.878400Z",
     "iopub.status.idle": "2021-03-26T09:41:46.880053Z",
     "shell.execute_reply": "2021-03-26T09:41:46.880442Z"
    }
   },
   "outputs": [
    {
     "data": {
      "text/plain": [
       "java.lang.IllegalArgumentException: Invalid View: State View candidates are: Default Tree StateMachine Interconnection Activity Sequence MIXED \n",
       "\tat org.omg.sysml.plantuml.SysML2PlantUMLSvc.setView(SysML2PlantUMLSvc.java:63)\n",
       "\tat org.omg.sysml.interactive.SysMLInteractive.viz(SysMLInteractive.java:286)\n",
       "\tat org.omg.sysml.jupyter.kernel.magic.Viz.viz(Viz.java:47)\n",
       "\tat jdk.internal.reflect.GeneratedMethodAccessor13.invoke(Unknown Source)\n",
       "\tat java.base/jdk.internal.reflect.DelegatingMethodAccessorImpl.invoke(DelegatingMethodAccessorImpl.java:43)\n",
       "\tat java.base/java.lang.reflect.Method.invoke(Method.java:568)\n",
       "\tat io.github.spencerpark.jupyter.kernel.magic.registry.Magics.invoke(Magics.java:89)\n",
       "\tat io.github.spencerpark.jupyter.kernel.magic.registry.Magics.access$000(Magics.java:8)\n",
       "\tat io.github.spencerpark.jupyter.kernel.magic.registry.Magics$LineReflectionMagicFunction.execute(Magics.java:149)\n",
       "\tat io.github.spencerpark.jupyter.kernel.magic.registry.Magics.applyLineMagic(Magics.java:26)\n",
       "\tat org.omg.sysml.jupyter.kernel.SysMLKernel.eval(SysMLKernel.java:76)\n",
       "\tat io.github.spencerpark.jupyter.kernel.BaseKernel.handleExecuteRequest(BaseKernel.java:334)\n",
       "\tat io.github.spencerpark.jupyter.channels.ShellChannel.lambda$bind$0(ShellChannel.java:64)\n",
       "\tat io.github.spencerpark.jupyter.channels.Loop.lambda$new$0(Loop.java:21)\n",
       "\tat io.github.spencerpark.jupyter.channels.Loop.run(Loop.java:78)\n"
      ]
     },
     "execution_count": 32,
     "metadata": {},
     "output_type": "execute_result"
    }
   ],
   "source": [
    "%viz --style=\"PLANTUML\" --view=\"State\" \"AnalysisTest\""
   ]
  },
  {
   "cell_type": "code",
   "execution_count": 33,
   "id": "caroline-costs",
   "metadata": {
    "execution": {
     "iopub.execute_input": "2021-03-26T09:41:46.931601Z",
     "iopub.status.busy": "2021-03-26T09:41:46.931212Z",
     "iopub.status.idle": "2021-03-26T09:41:46.962879Z",
     "shell.execute_reply": "2021-03-26T09:41:46.963222Z"
    }
   },
   "outputs": [
    {
     "data": {
      "image/svg+xml": [
       "<?xml version=\"1.0\" encoding=\"UTF-8\" standalone=\"no\"?><svg xmlns=\"http://www.w3.org/2000/svg\" xmlns:xlink=\"http://www.w3.org/1999/xlink\" contentScriptType=\"application/ecmascript\" contentStyleType=\"text/css\" height=\"202px\" preserveAspectRatio=\"none\" style=\"width:1035px;height:202px;\" version=\"1.1\" viewBox=\"0 0 1035 202\" width=\"1035px\" zoomAndPan=\"magnify\"><defs><filter height=\"300%\" id=\"fbtabu84txr61\" width=\"300%\" x=\"-1\" y=\"-1\"><feGaussianBlur result=\"blurOut\" stdDeviation=\"2.0\"/><feColorMatrix in=\"blurOut\" result=\"blurOut2\" type=\"matrix\" values=\"0 0 0 0 0 0 0 0 0 0 0 0 0 0 0 0 0 0 .4 0\"/><feOffset dx=\"4.0\" dy=\"4.0\" in=\"blurOut2\" result=\"blurOut3\"/><feBlend in=\"SourceGraphic\" in2=\"blurOut3\" mode=\"normal\"/></filter></defs><g><!--MD5=[fbc87193dbaf4d95561dea2c320d4a47]\n",
       "cluster E1--><polygon fill=\"#FFFFFF\" filter=\"url(#fbtabu84txr61)\" points=\"16,6,122,6,129,28.2969,1013,28.2969,1013,190,16,190,16,6\" style=\"stroke: #000000; stroke-width: 1.5;\"/><line style=\"stroke: #000000; stroke-width: 1.5;\" x1=\"16\" x2=\"129\" y1=\"28.2969\" y2=\"28.2969\"/><text fill=\"#000000\" font-family=\"sans-serif\" font-size=\"14\" font-weight=\"bold\" lengthAdjust=\"spacingAndGlyphs\" textLength=\"100\" x=\"20\" y=\"20.9951\">AnalysisTest</text><!--MD5=[e4f7fae6ed58524ba242bb0b0d3be6b7]\n",
       "cluster E2--><rect fill=\"#FFFFFF\" filter=\"url(#fbtabu84txr61)\" height=\"117\" style=\"stroke: #000000; stroke-width: 1.5;\" width=\"144\" x=\"845\" y=\"49\"/><text fill=\"#000000\" font-family=\"sans-serif\" font-size=\"14\" font-style=\"italic\" lengthAdjust=\"spacingAndGlyphs\" textLength=\"71\" x=\"881.5\" y=\"63.9951\">«part def»</text><text fill=\"#000000\" font-family=\"sans-serif\" font-size=\"14\" font-weight=\"bold\" lengthAdjust=\"spacingAndGlyphs\" textLength=\"11\" x=\"911.5\" y=\"80.292\">V</text><!--MD5=[270fce915f116d4de14055a7c1d9a0f3]\n",
       "class E5--><rect fill=\"#FEFECE\" filter=\"url(#fbtabu84txr61)\" height=\"53.9375\" id=\"E5\" style=\"stroke: #A80036; stroke-width: 1.5;\" width=\"143\" x=\"682.5\" y=\"98\"/><ellipse cx=\"697.5\" cy=\"116.9688\" fill=\"#ADD1B2\" rx=\"11\" ry=\"11\" style=\"stroke: #A80036; stroke-width: 1.0;\"/><path d=\"M700.4688,122.6094 Q699.8906,122.9063 699.25,123.0469 Q698.6094,123.2031 697.9063,123.2031 Q695.4063,123.2031 694.0781,121.5625 Q692.7656,119.9063 692.7656,116.7813 Q692.7656,113.6563 694.0781,112 Q695.4063,110.3438 697.9063,110.3438 Q698.6094,110.3438 699.25,110.5 Q699.9063,110.6563 700.4688,110.9531 L700.4688,113.6719 Q699.8438,113.0938 699.25,112.8281 Q698.6563,112.5469 698.0313,112.5469 Q696.6875,112.5469 696,113.625 Q695.3125,114.6875 695.3125,116.7813 Q695.3125,118.875 696,119.9531 Q696.6875,121.0156 698.0313,121.0156 Q698.6563,121.0156 699.25,120.75 Q699.8438,120.4688 700.4688,119.8906 L700.4688,122.6094 Z \"/><text fill=\"#000000\" font-family=\"sans-serif\" font-size=\"12\" font-style=\"italic\" lengthAdjust=\"spacingAndGlyphs\" textLength=\"115\" x=\"709.5\" y=\"114.1387\">«requirement def»</text><text fill=\"#000000\" font-family=\"sans-serif\" font-size=\"12\" lengthAdjust=\"spacingAndGlyphs\" textLength=\"107\" x=\"713.5\" y=\"128.1074\">AnalysisObjective</text><line style=\"stroke: #A80036; stroke-width: 1.5;\" x1=\"683.5\" x2=\"824.5\" y1=\"135.9375\" y2=\"135.9375\"/><line style=\"stroke: #A80036; stroke-width: 1.5;\" x1=\"683.5\" x2=\"824.5\" y1=\"143.9375\" y2=\"143.9375\"/><!--MD5=[60a26617385b1d2d0262a64233df1f8d]\n",
       "class E6--><rect fill=\"#FEFECE\" filter=\"url(#fbtabu84txr61)\" height=\"53.9375\" id=\"E6\" style=\"stroke: #A80036; stroke-width: 1.5;\" width=\"147\" x=\"500.5\" y=\"98\"/><ellipse cx=\"515.5\" cy=\"116.9688\" fill=\"#ADD1B2\" rx=\"11\" ry=\"11\" style=\"stroke: #A80036; stroke-width: 1.0;\"/><path d=\"M518.4688,122.6094 Q517.8906,122.9063 517.25,123.0469 Q516.6094,123.2031 515.9063,123.2031 Q513.4063,123.2031 512.0781,121.5625 Q510.7656,119.9063 510.7656,116.7813 Q510.7656,113.6563 512.0781,112 Q513.4063,110.3438 515.9063,110.3438 Q516.6094,110.3438 517.25,110.5 Q517.9063,110.6563 518.4688,110.9531 L518.4688,113.6719 Q517.8438,113.0938 517.25,112.8281 Q516.6563,112.5469 516.0313,112.5469 Q514.6875,112.5469 514,113.625 Q513.3125,114.6875 513.3125,116.7813 Q513.3125,118.875 514,119.9531 Q514.6875,121.0156 516.0313,121.0156 Q516.6563,121.0156 517.25,120.75 Q517.8438,120.4688 518.4688,119.8906 L518.4688,122.6094 Z \"/><text fill=\"#000000\" font-family=\"sans-serif\" font-size=\"12\" font-style=\"italic\" lengthAdjust=\"spacingAndGlyphs\" textLength=\"119\" x=\"527.5\" y=\"114.1387\">«analysisCase def»</text><text fill=\"#000000\" font-family=\"sans-serif\" font-size=\"12\" lengthAdjust=\"spacingAndGlyphs\" textLength=\"81\" x=\"546.5\" y=\"128.1074\">AnalysisCase</text><line style=\"stroke: #A80036; stroke-width: 1.5;\" x1=\"501.5\" x2=\"646.5\" y1=\"135.9375\" y2=\"135.9375\"/><line style=\"stroke: #A80036; stroke-width: 1.5;\" x1=\"501.5\" x2=\"646.5\" y1=\"143.9375\" y2=\"143.9375\"/><!--MD5=[2156ba9850f5573cc1fc38a6a4b2f02b]\n",
       "class E7--><rect fill=\"#FEFECE\" filter=\"url(#fbtabu84txr61)\" height=\"53.9375\" id=\"E7\" style=\"stroke: #A80036; stroke-width: 1.5;\" width=\"147\" x=\"318.5\" y=\"98\"/><ellipse cx=\"333.5\" cy=\"116.9688\" fill=\"#ADD1B2\" rx=\"11\" ry=\"11\" style=\"stroke: #A80036; stroke-width: 1.0;\"/><path d=\"M336.4688,122.6094 Q335.8906,122.9063 335.25,123.0469 Q334.6094,123.2031 333.9063,123.2031 Q331.4063,123.2031 330.0781,121.5625 Q328.7656,119.9063 328.7656,116.7813 Q328.7656,113.6563 330.0781,112 Q331.4063,110.3438 333.9063,110.3438 Q334.6094,110.3438 335.25,110.5 Q335.9063,110.6563 336.4688,110.9531 L336.4688,113.6719 Q335.8438,113.0938 335.25,112.8281 Q334.6563,112.5469 334.0313,112.5469 Q332.6875,112.5469 332,113.625 Q331.3125,114.6875 331.3125,116.7813 Q331.3125,118.875 332,119.9531 Q332.6875,121.0156 334.0313,121.0156 Q334.6563,121.0156 335.25,120.75 Q335.8438,120.4688 336.4688,119.8906 L336.4688,122.6094 Z \"/><text fill=\"#000000\" font-family=\"sans-serif\" font-size=\"12\" font-style=\"italic\" lengthAdjust=\"spacingAndGlyphs\" textLength=\"119\" x=\"345.5\" y=\"114.1387\">«analysisCase def»</text><text fill=\"#000000\" font-family=\"sans-serif\" font-size=\"12\" lengthAdjust=\"spacingAndGlyphs\" textLength=\"77\" x=\"366.5\" y=\"128.1074\">AnalysisPlan</text><line style=\"stroke: #A80036; stroke-width: 1.5;\" x1=\"319.5\" x2=\"464.5\" y1=\"135.9375\" y2=\"135.9375\"/><line style=\"stroke: #A80036; stroke-width: 1.5;\" x1=\"319.5\" x2=\"464.5\" y1=\"143.9375\" y2=\"143.9375\"/><g id=\"E1.E2.E3\"><rect fill=\"#FFFFFF\" filter=\"url(#fbtabu84txr61)\" height=\"50\" rx=\"12.5\" ry=\"12.5\" style=\"stroke: #A80036; stroke-width: 1.5;\" width=\"112\" x=\"861\" y=\"100\"/><line style=\"stroke: #A80036; stroke-width: 1.5;\" x1=\"861\" x2=\"973\" y1=\"126.2969\" y2=\"126.2969\"/><text fill=\"#000000\" font-family=\"sans-serif\" font-size=\"14\" lengthAdjust=\"spacingAndGlyphs\" textLength=\"92\" x=\"871\" y=\"117.9951\">m: DataValue</text></g><g id=\"E1.E4\"><rect fill=\"#FFFFFF\" filter=\"url(#fbtabu84txr61)\" height=\"50\" rx=\"12.5\" ry=\"12.5\" style=\"stroke: #A80036; stroke-width: 1.5;\" width=\"52\" x=\"231\" y=\"100\"/><line style=\"stroke: #A80036; stroke-width: 1.5;\" x1=\"231\" x2=\"283\" y1=\"126.2969\" y2=\"126.2969\"/><text fill=\"#000000\" font-family=\"sans-serif\" font-size=\"14\" lengthAdjust=\"spacingAndGlyphs\" textLength=\"32\" x=\"241\" y=\"117.9951\">vv: V</text></g><g id=\"E1.E8\"><rect fill=\"#FFFFFF\" filter=\"url(#fbtabu84txr61)\" height=\"50\" rx=\"12.5\" ry=\"12.5\" style=\"stroke: #A80036; stroke-width: 1.5;\" width=\"164\" x=\"32\" y=\"100\"/><line style=\"stroke: #A80036; stroke-width: 1.5;\" x1=\"32\" x2=\"196\" y1=\"126.2969\" y2=\"126.2969\"/><text fill=\"#000000\" font-family=\"sans-serif\" font-size=\"14\" lengthAdjust=\"spacingAndGlyphs\" textLength=\"144\" x=\"42\" y=\"117.9951\">analysisContext: Part</text></g><!--MD5=[cc4dbb815cdcf98ab4fe00ac6beaf30f]\n",
       "@startuml\r\n",
       "skinparam ranksep 8\r\n",
       "skinparam rectangle {\r\n",
       " backgroundColor<<block>> LightGreen\r\n",
       "}\r\n",
       " \r\n",
       "package \"AnalysisTest\" as E1   {\r\n",
       "rec def \"V\" as E2  <<part def>> {\r\n",
       "rec usage \"m: DataValue\" as E3  <<attribute>> {\r\n",
       "}\r\n",
       "}\r\n",
       "rec usage \"vv: V\" as E4  {\r\n",
       "}\r\n",
       "def \"AnalysisObjective\" as E5  <<requirement def>> \r\n",
       "def \"AnalysisCase\" as E6  <<analysisCase def>> \r\n",
       "def \"AnalysisPlan\" as E7  <<analysisCase def>> \r\n",
       "rec usage \"analysisContext: Part\" as E8  {\r\n",
       "}\r\n",
       "}\r\n",
       "@enduml\r\n",
       "\n",
       "PlantUML version 1.2020.13(Sat Jun 13 12:26:38 UTC 2020)\n",
       "(EPL source distribution)\n",
       "Java Runtime: OpenJDK Runtime Environment\n",
       "JVM: OpenJDK 64-Bit Server VM\n",
       "Default Encoding: UTF-8\n",
       "Language: en\n",
       "Country: null\n",
       "--></g></svg>"
      ]
     },
     "execution_count": 33,
     "metadata": {},
     "output_type": "execute_result"
    }
   ],
   "source": [
    "%viz --style=\"PLANTUML\" --view=\"Interconnection\" \"AnalysisTest\""
   ]
  },
  {
   "cell_type": "code",
   "execution_count": 34,
   "id": "periodic-rings",
   "metadata": {
    "execution": {
     "iopub.execute_input": "2021-03-26T09:41:47.026824Z",
     "iopub.status.busy": "2021-03-26T09:41:47.026431Z",
     "iopub.status.idle": "2021-03-26T09:41:47.027835Z",
     "shell.execute_reply": "2021-03-26T09:41:47.028377Z"
    }
   },
   "outputs": [
    {
     "data": {
      "text/plain": [
       "java.lang.IllegalArgumentException: Invalid View: Action View candidates are: Default Tree StateMachine Interconnection Activity Sequence MIXED \n",
       "\tat org.omg.sysml.plantuml.SysML2PlantUMLSvc.setView(SysML2PlantUMLSvc.java:63)\n",
       "\tat org.omg.sysml.interactive.SysMLInteractive.viz(SysMLInteractive.java:286)\n",
       "\tat org.omg.sysml.jupyter.kernel.magic.Viz.viz(Viz.java:47)\n",
       "\tat jdk.internal.reflect.GeneratedMethodAccessor13.invoke(Unknown Source)\n",
       "\tat java.base/jdk.internal.reflect.DelegatingMethodAccessorImpl.invoke(DelegatingMethodAccessorImpl.java:43)\n",
       "\tat java.base/java.lang.reflect.Method.invoke(Method.java:568)\n",
       "\tat io.github.spencerpark.jupyter.kernel.magic.registry.Magics.invoke(Magics.java:89)\n",
       "\tat io.github.spencerpark.jupyter.kernel.magic.registry.Magics.access$000(Magics.java:8)\n",
       "\tat io.github.spencerpark.jupyter.kernel.magic.registry.Magics$LineReflectionMagicFunction.execute(Magics.java:149)\n",
       "\tat io.github.spencerpark.jupyter.kernel.magic.registry.Magics.applyLineMagic(Magics.java:26)\n",
       "\tat org.omg.sysml.jupyter.kernel.SysMLKernel.eval(SysMLKernel.java:76)\n",
       "\tat io.github.spencerpark.jupyter.kernel.BaseKernel.handleExecuteRequest(BaseKernel.java:334)\n",
       "\tat io.github.spencerpark.jupyter.channels.ShellChannel.lambda$bind$0(ShellChannel.java:64)\n",
       "\tat io.github.spencerpark.jupyter.channels.Loop.lambda$new$0(Loop.java:21)\n",
       "\tat io.github.spencerpark.jupyter.channels.Loop.run(Loop.java:78)\n"
      ]
     },
     "execution_count": 34,
     "metadata": {},
     "output_type": "execute_result"
    }
   ],
   "source": [
    "%viz --style=\"PLANTUML\" --view=\"Action\" \"AnalysisTest\""
   ]
  },
  {
   "cell_type": "code",
   "execution_count": 35,
   "id": "driving-theme",
   "metadata": {
    "execution": {
     "iopub.execute_input": "2021-03-26T09:41:47.081006Z",
     "iopub.status.busy": "2021-03-26T09:41:47.080526Z",
     "iopub.status.idle": "2021-03-26T09:41:47.181584Z",
     "shell.execute_reply": "2021-03-26T09:41:47.181268Z"
    }
   },
   "outputs": [
    {
     "data": {
      "image/svg+xml": [
       "<?xml version=\"1.0\" encoding=\"UTF-8\" standalone=\"no\"?><svg xmlns=\"http://www.w3.org/2000/svg\" xmlns:xlink=\"http://www.w3.org/1999/xlink\" contentScriptType=\"application/ecmascript\" contentStyleType=\"text/css\" height=\"947px\" preserveAspectRatio=\"none\" style=\"width:563px;height:947px;\" version=\"1.1\" viewBox=\"0 0 563 947\" width=\"563px\" zoomAndPan=\"magnify\"><defs><filter height=\"300%\" id=\"feuphjj2lgnkj\" width=\"300%\" x=\"-1\" y=\"-1\"><feGaussianBlur result=\"blurOut\" stdDeviation=\"2.0\"/><feColorMatrix in=\"blurOut\" result=\"blurOut2\" type=\"matrix\" values=\"0 0 0 0 0 0 0 0 0 0 0 0 0 0 0 0 0 0 .4 0\"/><feOffset dx=\"4.0\" dy=\"4.0\" in=\"blurOut2\" result=\"blurOut3\"/><feBlend in=\"SourceGraphic\" in2=\"blurOut3\" mode=\"normal\"/></filter></defs><g><!--MD5=[fbc87193dbaf4d95561dea2c320d4a47]\n",
       "cluster E1--><polygon fill=\"#FFFFFF\" filter=\"url(#feuphjj2lgnkj)\" points=\"16,6,122,6,129,28.2969,505,28.2969,505,935,16,935,16,6\" style=\"stroke: #000000; stroke-width: 1.5;\"/><line style=\"stroke: #000000; stroke-width: 1.5;\" x1=\"16\" x2=\"129\" y1=\"28.2969\" y2=\"28.2969\"/><text fill=\"#000000\" font-family=\"sans-serif\" font-size=\"14\" font-weight=\"bold\" lengthAdjust=\"spacingAndGlyphs\" textLength=\"100\" x=\"20\" y=\"20.9951\">AnalysisTest</text><!--MD5=[b4997ac47864f28c2f74865a473b2911]\n",
       "class E2--><rect fill=\"#FEFECE\" filter=\"url(#feuphjj2lgnkj)\" height=\"52.8047\" id=\"E2\" style=\"stroke: #A80036; stroke-width: 1.5;\" width=\"88\" x=\"374\" y=\"720.5\"/><ellipse cx=\"410.6\" cy=\"736.5\" fill=\"#008000\" rx=\"11\" ry=\"11\" style=\"stroke: #A80036; stroke-width: 1.0;\"/><path d=\"M409.5063,736.875 L409.5063,740.5469 L411.1313,740.5469 Q412.3031,740.5469 412.7719,740.1563 Q413.2406,739.75 413.2406,738.75 Q413.2406,737.75 412.7406,737.3125 Q412.2563,736.875 411.1313,736.875 L409.5063,736.875 Z M409.5063,732.0469 L409.5063,734.9219 L411.1313,734.9219 Q412.0531,734.9219 412.4438,734.5938 Q412.85,734.25 412.85,733.5 Q412.85,732.7344 412.4438,732.3906 Q412.0375,732.0469 411.1313,732.0469 L409.5063,732.0469 Z M407.1313,730.0938 L411.1313,730.0938 Q413.1938,730.0938 414.2406,730.875 Q415.2875,731.6563 415.2875,733.2188 Q415.2875,734.4219 414.6625,735.0938 Q414.0531,735.7656 412.8656,735.875 Q414.2875,736.0156 415.0063,736.8281 Q415.725,737.6406 415.725,739.0938 Q415.725,740.8906 414.6469,741.7031 Q413.5688,742.5 411.1313,742.5 L407.1313,742.5 L407.1313,730.0938 Z \"/><text fill=\"#000000\" font-family=\"sans-serif\" font-size=\"12\" lengthAdjust=\"spacingAndGlyphs\" textLength=\"8\" x=\"429.4\" y=\"740.6543\">V</text><line style=\"stroke: #A80036; stroke-width: 1.5;\" x1=\"375\" x2=\"461\" y1=\"752.5\" y2=\"752.5\"/><text fill=\"#000000\" font-family=\"sans-serif\" font-size=\"11\" lengthAdjust=\"spacingAndGlyphs\" textLength=\"76\" x=\"380\" y=\"766.7104\">m: DataValue</text><!--MD5=[09b614a08d8cba4a07c9adeb5e0fee81]\n",
       "class E3--><rect fill=\"#FEFECE\" filter=\"url(#feuphjj2lgnkj)\" height=\"45.9375\" id=\"E3\" rx=\"10\" ry=\"10\" style=\"stroke: #A80036; stroke-width: 1.5;\" width=\"68\" x=\"384\" y=\"580\"/><ellipse cx=\"399\" cy=\"598.9688\" fill=\"#32CD32\" rx=\"11\" ry=\"11\" style=\"stroke: #A80036; stroke-width: 1.0;\"/><path d=\"M398.7969,594.6406 L398.7969,598.2656 L399.7969,598.2656 Q401,598.2656 401.4844,597.8594 Q401.9688,597.4531 401.9688,596.4531 Q401.9688,595.4531 401.4844,595.0469 Q401,594.6406 399.7969,594.6406 L398.7969,594.6406 Z M396.3438,592.5781 L399.7031,592.5781 Q402.2656,592.5781 403.3906,593.5 Q404.5156,594.4063 404.5156,596.4531 Q404.5156,598.5 403.3906,599.4219 Q402.2656,600.3281 399.7031,600.3281 L398.7969,600.3281 L398.7969,604.9688 L396.3438,604.9688 L396.3438,592.5781 Z \"/><text fill=\"#000000\" font-family=\"sans-serif\" font-size=\"12\" font-style=\"italic\" lengthAdjust=\"spacingAndGlyphs\" textLength=\"40\" x=\"411\" y=\"596.1387\">«part»</text><text fill=\"#000000\" font-family=\"sans-serif\" font-size=\"12\" lengthAdjust=\"spacingAndGlyphs\" textLength=\"28\" x=\"417\" y=\"610.1074\">vv: V</text><line style=\"stroke: #A80036; stroke-width: 1.5;\" x1=\"385\" x2=\"451\" y1=\"617.9375\" y2=\"617.9375\"/><!--MD5=[ebbe1d658d1005bcc118a6aa81145e00]\n",
       "class E4--><rect fill=\"#FEFECE\" filter=\"url(#feuphjj2lgnkj)\" height=\"66.7422\" id=\"E4\" style=\"stroke: #A80036; stroke-width: 1.5;\" width=\"143\" x=\"68.5\" y=\"852\"/><ellipse cx=\"83.5\" cy=\"870.9688\" fill=\"#A52A2A\" rx=\"11\" ry=\"11\" style=\"stroke: #A80036; stroke-width: 1.0;\"/><path d=\"M83.0938,866.7813 L83.0938,874.7656 L83.75,874.7656 Q85.1875,874.7656 85.7969,873.8594 Q86.4219,872.9375 86.4219,870.7656 Q86.4219,868.5938 85.7969,867.6875 Q85.1875,866.7813 83.75,866.7813 L83.0938,866.7813 Z M80.6406,864.5781 L83.2656,864.5781 Q86.2969,864.5781 87.625,866.0313 Q88.9688,867.4688 88.9688,870.7656 Q88.9688,874.0625 87.625,875.5156 Q86.2969,876.9688 83.2656,876.9688 L80.6406,876.9688 L80.6406,864.5781 Z \"/><text fill=\"#000000\" font-family=\"sans-serif\" font-size=\"12\" font-style=\"italic\" lengthAdjust=\"spacingAndGlyphs\" textLength=\"115\" x=\"95.5\" y=\"868.1387\">«requirement def»</text><text fill=\"#000000\" font-family=\"sans-serif\" font-size=\"12\" lengthAdjust=\"spacingAndGlyphs\" textLength=\"107\" x=\"99.5\" y=\"882.1074\">AnalysisObjective</text><line style=\"stroke: #A80036; stroke-width: 1.5;\" x1=\"69.5\" x2=\"210.5\" y1=\"889.9375\" y2=\"889.9375\"/><text fill=\"#000000\" font-family=\"sans-serif\" font-size=\"11\" lengthAdjust=\"spacingAndGlyphs\" textLength=\"12\" x=\"74.5\" y=\"904.1479\">...</text><line style=\"stroke: #A80036; stroke-width: 1.0;\" x1=\"69.5\" x2=\"210.5\" y1=\"910.7422\" y2=\"910.7422\"/><!--MD5=[270fce915f116d4de14055a7c1d9a0f3]\n",
       "class E5--><rect fill=\"#FEFECE\" filter=\"url(#feuphjj2lgnkj)\" height=\"45.9375\" id=\"E5\" style=\"stroke: #A80036; stroke-width: 1.5;\" width=\"116\" x=\"233\" y=\"580\"/><ellipse cx=\"248\" cy=\"598.9688\" fill=\"#ADD1B2\" rx=\"11\" ry=\"11\" style=\"stroke: #A80036; stroke-width: 1.0;\"/><path d=\"M250.9688,604.6094 Q250.3906,604.9063 249.75,605.0469 Q249.1094,605.2031 248.4063,605.2031 Q245.9063,605.2031 244.5781,603.5625 Q243.2656,601.9063 243.2656,598.7813 Q243.2656,595.6563 244.5781,594 Q245.9063,592.3438 248.4063,592.3438 Q249.1094,592.3438 249.75,592.5 Q250.4063,592.6563 250.9688,592.9531 L250.9688,595.6719 Q250.3438,595.0938 249.75,594.8281 Q249.1563,594.5469 248.5313,594.5469 Q247.1875,594.5469 246.5,595.625 Q245.8125,596.6875 245.8125,598.7813 Q245.8125,600.875 246.5,601.9531 Q247.1875,603.0156 248.5313,603.0156 Q249.1563,603.0156 249.75,602.75 Q250.3438,602.4688 250.9688,601.8906 L250.9688,604.6094 Z \"/><text fill=\"#000000\" font-family=\"sans-serif\" font-size=\"12\" font-style=\"italic\" lengthAdjust=\"spacingAndGlyphs\" textLength=\"88\" x=\"260\" y=\"596.1387\">«analysis def»</text><text fill=\"#000000\" font-family=\"sans-serif\" font-size=\"12\" lengthAdjust=\"spacingAndGlyphs\" textLength=\"81\" x=\"263.5\" y=\"610.1074\">AnalysisCase</text><line style=\"stroke: #A80036; stroke-width: 1.5;\" x1=\"234\" x2=\"348\" y1=\"617.9375\" y2=\"617.9375\"/><!--MD5=[60a26617385b1d2d0262a64233df1f8d]\n",
       "class E6--><rect fill=\"#FEFECE\" filter=\"url(#feuphjj2lgnkj)\" height=\"88.3516\" id=\"E6\" rx=\"10\" ry=\"10\" style=\"stroke: #A80036; stroke-width: 1.5;\" width=\"166\" x=\"57\" y=\"703\"/><ellipse cx=\"72\" cy=\"721.9688\" fill=\"#FFA500\" rx=\"11\" ry=\"11\" style=\"stroke: #A80036; stroke-width: 1.0;\"/><path d=\"M67.875,723.8906 L67.875,716.0781 L70.3281,716.0781 L70.3281,724.5156 Q70.3281,725.4375 70.7969,725.9688 Q71.2813,726.5 72.1094,726.5 Q72.9531,726.5 73.4219,725.9688 Q73.8906,725.4375 73.8906,724.5156 L73.8906,716.0781 L76.3438,716.0781 L76.3438,723.8906 Q76.3438,726.4219 75.3438,727.5625 Q74.3438,728.7031 72.1094,728.7031 Q69.8906,728.7031 68.875,727.5625 Q67.875,726.4219 67.875,723.8906 Z \"/><text fill=\"#000000\" font-family=\"sans-serif\" font-size=\"12\" font-style=\"italic\" lengthAdjust=\"spacingAndGlyphs\" textLength=\"91\" x=\"107.5\" y=\"719.1387\">«requirement»</text><text fill=\"#000000\" font-family=\"sans-serif\" font-size=\"12\" lengthAdjust=\"spacingAndGlyphs\" textLength=\"134\" x=\"86\" y=\"733.1074\">obj: AnalysisObjective</text><line style=\"stroke: #A80036; stroke-width: 1.5;\" x1=\"58\" x2=\"222\" y1=\"740.9375\" y2=\"740.9375\"/><text fill=\"#000000\" font-family=\"sans-serif\" font-size=\"11\" lengthAdjust=\"spacingAndGlyphs\" textLength=\"130\" x=\"63\" y=\"771.9526\">subj: Anything= result;</text><text fill=\"#000000\" font-family=\"sans-serif\" font-size=\"11\" font-style=\"italic\" lengthAdjust=\"spacingAndGlyphs\" textLength=\"153\" x=\"63\" y=\"784.7573\">:&gt;&gt;AnalysisObjective::subj</text><line style=\"stroke: #A80036; stroke-width: 1.0;\" x1=\"58\" x2=\"109\" y1=\"755.3398\" y2=\"755.3398\"/><text fill=\"#000000\" font-family=\"sans-serif\" font-size=\"11\" lengthAdjust=\"spacingAndGlyphs\" textLength=\"62\" x=\"109\" y=\"758.6479\">references</text><line style=\"stroke: #A80036; stroke-width: 1.0;\" x1=\"171\" x2=\"222\" y1=\"755.3398\" y2=\"755.3398\"/><!--MD5=[2156ba9850f5573cc1fc38a6a4b2f02b]\n",
       "class E7--><rect fill=\"#FEFECE\" filter=\"url(#feuphjj2lgnkj)\" height=\"45.9375\" id=\"E7\" style=\"stroke: #A80036; stroke-width: 1.5;\" width=\"116\" x=\"161\" y=\"313\"/><ellipse cx=\"176\" cy=\"331.9688\" fill=\"#ADD1B2\" rx=\"11\" ry=\"11\" style=\"stroke: #A80036; stroke-width: 1.0;\"/><path d=\"M178.9688,337.6094 Q178.3906,337.9063 177.75,338.0469 Q177.1094,338.2031 176.4063,338.2031 Q173.9063,338.2031 172.5781,336.5625 Q171.2656,334.9063 171.2656,331.7813 Q171.2656,328.6563 172.5781,327 Q173.9063,325.3438 176.4063,325.3438 Q177.1094,325.3438 177.75,325.5 Q178.4063,325.6563 178.9688,325.9531 L178.9688,328.6719 Q178.3438,328.0938 177.75,327.8281 Q177.1563,327.5469 176.5313,327.5469 Q175.1875,327.5469 174.5,328.625 Q173.8125,329.6875 173.8125,331.7813 Q173.8125,333.875 174.5,334.9531 Q175.1875,336.0156 176.5313,336.0156 Q177.1563,336.0156 177.75,335.75 Q178.3438,335.4688 178.9688,334.8906 L178.9688,337.6094 Z \"/><text fill=\"#000000\" font-family=\"sans-serif\" font-size=\"12\" font-style=\"italic\" lengthAdjust=\"spacingAndGlyphs\" textLength=\"88\" x=\"188\" y=\"329.1387\">«analysis def»</text><text fill=\"#000000\" font-family=\"sans-serif\" font-size=\"12\" lengthAdjust=\"spacingAndGlyphs\" textLength=\"77\" x=\"193.5\" y=\"343.1074\">AnalysisPlan</text><line style=\"stroke: #A80036; stroke-width: 1.5;\" x1=\"162\" x2=\"276\" y1=\"350.9375\" y2=\"350.9375\"/><!--MD5=[b9389687b975829384b498ac4b7476b2]\n",
       "class E8--><rect fill=\"#FEFECE\" filter=\"url(#feuphjj2lgnkj)\" height=\"66.7422\" id=\"E8\" rx=\"10\" ry=\"10\" style=\"stroke: #A80036; stroke-width: 1.5;\" width=\"177\" x=\"269.5\" y=\"436\"/><ellipse cx=\"284.5\" cy=\"454.9688\" fill=\"#FFA500\" rx=\"11\" ry=\"11\" style=\"stroke: #A80036; stroke-width: 1.0;\"/><path d=\"M280.375,456.8906 L280.375,449.0781 L282.8281,449.0781 L282.8281,457.5156 Q282.8281,458.4375 283.2969,458.9688 Q283.7813,459.5 284.6094,459.5 Q285.4531,459.5 285.9219,458.9688 Q286.3906,458.4375 286.3906,457.5156 L286.3906,449.0781 L288.8438,449.0781 L288.8438,456.8906 Q288.8438,459.4219 287.8438,460.5625 Q286.8438,461.7031 284.6094,461.7031 Q282.3906,461.7031 281.375,460.5625 Q280.375,459.4219 280.375,456.8906 Z \"/><text fill=\"#000000\" font-family=\"sans-serif\" font-size=\"12\" font-style=\"italic\" lengthAdjust=\"spacingAndGlyphs\" textLength=\"91\" x=\"325.5\" y=\"452.1387\">«requirement»</text><text fill=\"#000000\" font-family=\"sans-serif\" font-size=\"12\" lengthAdjust=\"spacingAndGlyphs\" textLength=\"145\" x=\"298.5\" y=\"466.1074\">obj: RequirementCheck</text><line style=\"stroke: #A80036; stroke-width: 1.5;\" x1=\"270.5\" x2=\"445.5\" y1=\"473.9375\" y2=\"473.9375\"/><text fill=\"#000000\" font-family=\"sans-serif\" font-size=\"11\" lengthAdjust=\"spacingAndGlyphs\" textLength=\"12\" x=\"275.5\" y=\"488.1479\">...</text><line style=\"stroke: #A80036; stroke-width: 1.0;\" x1=\"270.5\" x2=\"445.5\" y1=\"494.7422\" y2=\"494.7422\"/><!--MD5=[fd4143e9d270a159db93a4ea2a975926]\n",
       "class E9--><rect fill=\"#FEFECE\" filter=\"url(#feuphjj2lgnkj)\" height=\"45.9375\" id=\"E9\" rx=\"10\" ry=\"10\" style=\"stroke: #A80036; stroke-width: 1.5;\" width=\"202\" x=\"32\" y=\"446.5\"/><ellipse cx=\"47\" cy=\"465.4688\" fill=\"#B6DBBB\" rx=\"11\" ry=\"11\" style=\"stroke: #A80036; stroke-width: 1.0;\"/><path d=\"M42.875,467.3906 L42.875,459.5781 L45.3281,459.5781 L45.3281,468.0156 Q45.3281,468.9375 45.7969,469.4688 Q46.2813,470 47.1094,470 Q47.9531,470 48.4219,469.4688 Q48.8906,468.9375 48.8906,468.0156 L48.8906,459.5781 L51.3438,459.5781 L51.3438,467.3906 Q51.3438,469.9219 50.3438,471.0625 Q49.3438,472.2031 47.1094,472.2031 Q44.8906,472.2031 43.875,471.0625 Q42.875,469.9219 42.875,467.3906 Z \"/><text fill=\"#000000\" font-family=\"sans-serif\" font-size=\"12\" font-style=\"italic\" lengthAdjust=\"spacingAndGlyphs\" textLength=\"64\" x=\"114\" y=\"462.6387\">«analysis»</text><text fill=\"#000000\" font-family=\"sans-serif\" font-size=\"12\" lengthAdjust=\"spacingAndGlyphs\" textLength=\"170\" x=\"61\" y=\"476.6074\">analysisCase: AnalysisCase</text><line style=\"stroke: #A80036; stroke-width: 1.5;\" x1=\"33\" x2=\"233\" y1=\"484.4375\" y2=\"484.4375\"/><!--MD5=[96f4274e9e20536e775497830990834d]\n",
       "class E10--><rect fill=\"#FEFECE\" filter=\"url(#feuphjj2lgnkj)\" height=\"45.9375\" id=\"E10\" rx=\"10\" ry=\"10\" style=\"stroke: #A80036; stroke-width: 1.5;\" width=\"166\" x=\"32\" y=\"580\"/><ellipse cx=\"47\" cy=\"598.9688\" fill=\"#FFA500\" rx=\"11\" ry=\"11\" style=\"stroke: #A80036; stroke-width: 1.0;\"/><path d=\"M42.875,600.8906 L42.875,593.0781 L45.3281,593.0781 L45.3281,601.5156 Q45.3281,602.4375 45.7969,602.9688 Q46.2813,603.5 47.1094,603.5 Q47.9531,603.5 48.4219,602.9688 Q48.8906,602.4375 48.8906,601.5156 L48.8906,593.0781 L51.3438,593.0781 L51.3438,600.8906 Q51.3438,603.4219 50.3438,604.5625 Q49.3438,605.7031 47.1094,605.7031 Q44.8906,605.7031 43.875,604.5625 Q42.875,603.4219 42.875,600.8906 Z \"/><text fill=\"#000000\" font-family=\"sans-serif\" font-size=\"12\" font-style=\"italic\" lengthAdjust=\"spacingAndGlyphs\" textLength=\"91\" x=\"82.5\" y=\"596.1387\">«requirement»</text><text fill=\"#000000\" font-family=\"sans-serif\" font-size=\"12\" lengthAdjust=\"spacingAndGlyphs\" textLength=\"134\" x=\"61\" y=\"610.1074\">obj: AnalysisObjective</text><line style=\"stroke: #A80036; stroke-width: 1.5;\" x1=\"33\" x2=\"197\" y1=\"617.9375\" y2=\"617.9375\"/><!--MD5=[1dd1bfd58a279cf63c5f349dbc8fc6a1]\n",
       "class E11--><rect fill=\"#FEFECE\" filter=\"url(#feuphjj2lgnkj)\" height=\"45.9375\" id=\"E11\" rx=\"10\" ry=\"10\" style=\"stroke: #A80036; stroke-width: 1.5;\" width=\"164\" x=\"227\" y=\"41\"/><ellipse cx=\"242\" cy=\"59.9688\" fill=\"#32CD32\" rx=\"11\" ry=\"11\" style=\"stroke: #A80036; stroke-width: 1.0;\"/><path d=\"M241.7969,55.6406 L241.7969,59.2656 L242.7969,59.2656 Q244,59.2656 244.4844,58.8594 Q244.9688,58.4531 244.9688,57.4531 Q244.9688,56.4531 244.4844,56.0469 Q244,55.6406 242.7969,55.6406 L241.7969,55.6406 Z M239.3438,53.5781 L242.7031,53.5781 Q245.2656,53.5781 246.3906,54.5 Q247.5156,55.4063 247.5156,57.4531 Q247.5156,59.5 246.3906,60.4219 Q245.2656,61.3281 242.7031,61.3281 L241.7969,61.3281 L241.7969,65.9688 L239.3438,65.9688 L239.3438,53.5781 Z \"/><text fill=\"#000000\" font-family=\"sans-serif\" font-size=\"12\" font-style=\"italic\" lengthAdjust=\"spacingAndGlyphs\" textLength=\"40\" x=\"302\" y=\"57.1387\">«part»</text><text fill=\"#000000\" font-family=\"sans-serif\" font-size=\"12\" lengthAdjust=\"spacingAndGlyphs\" textLength=\"132\" x=\"256\" y=\"71.1074\">analysisContext: Part</text><line style=\"stroke: #A80036; stroke-width: 1.5;\" x1=\"228\" x2=\"390\" y1=\"78.9375\" y2=\"78.9375\"/><!--MD5=[49a0ec8f00dab7302a31f22d0f0fe584]\n",
       "class E12--><rect fill=\"#FEFECE\" filter=\"url(#feuphjj2lgnkj)\" height=\"88.3516\" id=\"E12\" rx=\"10\" ry=\"10\" style=\"stroke: #A80036; stroke-width: 1.5;\" width=\"194\" x=\"212\" y=\"148\"/><ellipse cx=\"227\" cy=\"166.9688\" fill=\"#B6DBBB\" rx=\"11\" ry=\"11\" style=\"stroke: #A80036; stroke-width: 1.0;\"/><path d=\"M222.875,168.8906 L222.875,161.0781 L225.3281,161.0781 L225.3281,169.5156 Q225.3281,170.4375 225.7969,170.9688 Q226.2813,171.5 227.1094,171.5 Q227.9531,171.5 228.4219,170.9688 Q228.8906,170.4375 228.8906,169.5156 L228.8906,161.0781 L231.3438,161.0781 L231.3438,168.8906 Q231.3438,171.4219 230.3438,172.5625 Q229.3438,173.7031 227.1094,173.7031 Q224.8906,173.7031 223.875,172.5625 Q222.875,171.4219 222.875,168.8906 Z \"/><text fill=\"#000000\" font-family=\"sans-serif\" font-size=\"12\" font-style=\"italic\" lengthAdjust=\"spacingAndGlyphs\" textLength=\"64\" x=\"290\" y=\"164.1387\">«analysis»</text><text fill=\"#000000\" font-family=\"sans-serif\" font-size=\"12\" lengthAdjust=\"spacingAndGlyphs\" textLength=\"162\" x=\"241\" y=\"178.1074\">analysisPlan: AnalysisPlan</text><line style=\"stroke: #A80036; stroke-width: 1.5;\" x1=\"213\" x2=\"405\" y1=\"185.9375\" y2=\"185.9375\"/><text fill=\"#000000\" font-family=\"sans-serif\" font-size=\"11\" lengthAdjust=\"spacingAndGlyphs\" textLength=\"50\" x=\"218\" y=\"216.9526\">v: V= vv;</text><text fill=\"#000000\" font-family=\"sans-serif\" font-size=\"11\" font-style=\"italic\" lengthAdjust=\"spacingAndGlyphs\" textLength=\"107\" x=\"218\" y=\"229.7573\">:&gt;&gt;AnalysisPlan::v</text><line style=\"stroke: #A80036; stroke-width: 1.0;\" x1=\"213\" x2=\"278\" y1=\"200.3398\" y2=\"200.3398\"/><text fill=\"#000000\" font-family=\"sans-serif\" font-size=\"11\" lengthAdjust=\"spacingAndGlyphs\" textLength=\"62\" x=\"278\" y=\"203.6479\">references</text><line style=\"stroke: #A80036; stroke-width: 1.0;\" x1=\"340\" x2=\"405\" y1=\"200.3398\" y2=\"200.3398\"/><!--MD5=[ee3c913d1a06f366521f9ef512b67efe]\n",
       "class E13--><rect fill=\"#FEFECE\" filter=\"url(#feuphjj2lgnkj)\" height=\"45.9375\" id=\"E13\" rx=\"10\" ry=\"10\" style=\"stroke: #A80036; stroke-width: 1.5;\" width=\"177\" x=\"312.5\" y=\"313\"/><ellipse cx=\"327.5\" cy=\"331.9688\" fill=\"#FFA500\" rx=\"11\" ry=\"11\" style=\"stroke: #A80036; stroke-width: 1.0;\"/><path d=\"M323.375,333.8906 L323.375,326.0781 L325.8281,326.0781 L325.8281,334.5156 Q325.8281,335.4375 326.2969,335.9688 Q326.7813,336.5 327.6094,336.5 Q328.4531,336.5 328.9219,335.9688 Q329.3906,335.4375 329.3906,334.5156 L329.3906,326.0781 L331.8438,326.0781 L331.8438,333.8906 Q331.8438,336.4219 330.8438,337.5625 Q329.8438,338.7031 327.6094,338.7031 Q325.3906,338.7031 324.375,337.5625 Q323.375,336.4219 323.375,333.8906 Z \"/><text fill=\"#000000\" font-family=\"sans-serif\" font-size=\"12\" font-style=\"italic\" lengthAdjust=\"spacingAndGlyphs\" textLength=\"91\" x=\"368.5\" y=\"329.1387\">«requirement»</text><text fill=\"#000000\" font-family=\"sans-serif\" font-size=\"12\" lengthAdjust=\"spacingAndGlyphs\" textLength=\"145\" x=\"341.5\" y=\"343.1074\">obj: RequirementCheck</text><line style=\"stroke: #A80036; stroke-width: 1.5;\" x1=\"313.5\" x2=\"488.5\" y1=\"350.9375\" y2=\"350.9375\"/><!--MD5=[05d275557350bfb9b23a4ef7222b4c39]\n",
       "link E3 to E2--><path d=\"M418,626.19 C418,645.86 418,675.21 418,699.94 \" fill=\"none\" id=\"E3-&gt;E2\" style=\"stroke: #A80036; stroke-width: 1.0;\"/><polygon fill=\"#FFFFFF\" points=\"418,720.12,411,701.12,425,701.12,418,720.12\" style=\"stroke: #A80036; stroke-width: 1.0;\"/><ellipse cx=\"413\" cy=\"695.42\" fill=\"#A80036\" rx=\"2\" ry=\"2\" style=\"stroke: #A80036; stroke-width: 1.0;\"/><ellipse cx=\"423\" cy=\"695.42\" fill=\"#A80036\" rx=\"2\" ry=\"2\" style=\"stroke: #A80036; stroke-width: 1.0;\"/><!--MD5=[15ebcb19ae302d9b601edb458606d402]\n",
       "link E5 to E2--><path d=\"M307.77,626.24 C318.38,640 332.58,657.87 346,673 C359.17,687.85 374.53,703.61 387.67,716.68 \" fill=\"none\" id=\"E5-&gt;E2\" style=\"stroke: #A80036; stroke-width: 1.0; stroke-dasharray: 7.0,7.0;\"/><polygon fill=\"#A80036\" points=\"391.32,720.29,387.7659,711.1048,387.7773,716.7616,382.1205,716.773,391.32,720.29\" style=\"stroke: #A80036; stroke-width: 1.0;\"/><text fill=\"#000000\" font-family=\"sans-serif\" font-size=\"13\" lengthAdjust=\"spacingAndGlyphs\" textLength=\"62\" x=\"347\" y=\"669.0669\">«subject»</text><!--MD5=[9120cf2e5df3bff93db8f754bbbc09b4]\n",
       "link E5 to E6--><path d=\"M267.41,626.19 C247.29,645.11 217.64,672.99 192,697.1 \" fill=\"none\" id=\"E5-&gt;E6\" style=\"stroke: #A80036; stroke-width: 1.0;\"/><polygon fill=\"#A80036\" points=\"185.92,702.82,193.8017,699.5217,189.6895,695.1525,185.92,702.82\" style=\"stroke: #A80036; stroke-width: 1.0;\"/><text fill=\"#000000\" font-family=\"sans-serif\" font-size=\"13\" lengthAdjust=\"spacingAndGlyphs\" textLength=\"73\" x=\"234\" y=\"669.0669\">«objective»</text><!--MD5=[f667431f98296947986a1a7595a31603]\n",
       "link E6 to E4--><path d=\"M140,791.19 C140,804.11 140,818.41 140,831.87 \" fill=\"none\" id=\"E6-&gt;E4\" style=\"stroke: #A80036; stroke-width: 1.0;\"/><polygon fill=\"#FFFFFF\" points=\"140,851.98,133,832.98,147,832.98,140,851.98\" style=\"stroke: #A80036; stroke-width: 1.0;\"/><ellipse cx=\"135\" cy=\"827.28\" fill=\"#A80036\" rx=\"2\" ry=\"2\" style=\"stroke: #A80036; stroke-width: 1.0;\"/><ellipse cx=\"145\" cy=\"827.28\" fill=\"#A80036\" rx=\"2\" ry=\"2\" style=\"stroke: #A80036; stroke-width: 1.0;\"/><!--MD5=[583832df87f4419a098336a29a52fa00]\n",
       "link E7 to E2--><path d=\"M277.09,354.78 C305.71,364.07 340.54,376.17 371,389 C413.68,406.98 438.92,397.07 464,436 C521.14,524.71 465.3,656.94 434.87,715.82 \" fill=\"none\" id=\"E7-&gt;E2\" style=\"stroke: #A80036; stroke-width: 1.0; stroke-dasharray: 7.0,7.0;\"/><polygon fill=\"#A80036\" points=\"432.55,720.28,440.2635,714.1561,434.8658,715.8486,433.1733,710.4509,432.55,720.28\" style=\"stroke: #A80036; stroke-width: 1.0;\"/><text fill=\"#000000\" font-family=\"sans-serif\" font-size=\"13\" lengthAdjust=\"spacingAndGlyphs\" textLength=\"62\" x=\"489\" y=\"546.0669\">«subject»</text><!--MD5=[79bc8f324ef4d02c541433f2e6e513c3]\n",
       "link E7 to E8--><path d=\"M242.27,359.01 C262.71,378.35 292.93,406.94 317.37,430.06 \" fill=\"none\" id=\"E7-&gt;E8\" style=\"stroke: #A80036; stroke-width: 1.0;\"/><polygon fill=\"#A80036\" points=\"323.44,435.81,319.6993,428.1284,315.5707,432.4821,323.44,435.81\" style=\"stroke: #A80036; stroke-width: 1.0;\"/><text fill=\"#000000\" font-family=\"sans-serif\" font-size=\"13\" lengthAdjust=\"spacingAndGlyphs\" textLength=\"73\" x=\"289\" y=\"402.0669\">«objective»</text><!--MD5=[bfc3ddf2e613be37104f658f09af896c]\n",
       "link E9 to E5--><path d=\"M159.45,492.51 C183.83,512.8 220.43,543.27 248.84,566.91 \" fill=\"none\" id=\"E9-&gt;E5\" style=\"stroke: #A80036; stroke-width: 1.0;\"/><polygon fill=\"#FFFFFF\" points=\"264.47,579.92,245.3863,573.1515,254.339,562.3882,264.47,579.92\" style=\"stroke: #A80036; stroke-width: 1.0;\"/><ellipse cx=\"242.2831\" cy=\"567.9688\" fill=\"#A80036\" rx=\"2\" ry=\"2\" style=\"stroke: #A80036; stroke-width: 1.0;\"/><ellipse cx=\"248.6779\" cy=\"560.2808\" fill=\"#A80036\" rx=\"2\" ry=\"2\" style=\"stroke: #A80036; stroke-width: 1.0;\"/><!--MD5=[e4a10ef82d0e328e31cac39a31e58dda]\n",
       "reverse link E7 to E9--><path d=\"M197.4,370.03 C181.78,393.92 161.1,425.53 147.44,446.42 \" fill=\"none\" id=\"E7&lt;-E9\" style=\"stroke: #A80036; stroke-width: 1.0;\"/><polygon fill=\"#A80036\" points=\"204.61,359.01,197.9792,361.8442,198.0451,369.055,204.6759,366.2208,204.61,359.01\" style=\"stroke: #A80036; stroke-width: 1.0;\"/><!--MD5=[35e5f1cbde42fa304a029880aa2bc7f2]\n",
       "link E9 to E10--><path d=\"M129.99,492.51 C127.01,514.22 122.45,547.59 119.14,571.78 \" fill=\"none\" id=\"E9-&gt;E10\" style=\"stroke: #A80036; stroke-width: 1.0;\"/><polygon fill=\"#A80036\" points=\"118.02,579.92,122.0776,572.401,116.1331,571.587,118.02,579.92\" style=\"stroke: #A80036; stroke-width: 1.0;\"/><text fill=\"#000000\" font-family=\"sans-serif\" font-size=\"13\" lengthAdjust=\"spacingAndGlyphs\" textLength=\"73\" x=\"125\" y=\"546.0669\">«objective»</text><!--MD5=[198716bf12f04006f5c20d61bde6d80d]\n",
       "link E10 to E6--><path d=\"M118.91,626.19 C121.6,641.52 125.34,662.73 128.92,683.04 \" fill=\"none\" id=\"E10-&gt;E6\" style=\"stroke: #A80036; stroke-width: 1.0;\"/><polygon fill=\"#FFFFFF\" points=\"132.4,702.82,122.2191,685.3172,136.0081,682.8956,132.4,702.82\" style=\"stroke: #A80036; stroke-width: 1.0;\"/><line style=\"stroke: #A80036; stroke-width: 2.0;\" x1=\"121.5618\" x2=\"135.3508\" y1=\"681.5744\" y2=\"679.1529\"/><!--MD5=[ae660f5ecd7ddb04a8913625960940af]\n",
       "link E12 to E7--><path d=\"M281.51,236.38 C269.49,255.34 255.5,277.42 243.8,295.87 \" fill=\"none\" id=\"E12-&gt;E7\" style=\"stroke: #A80036; stroke-width: 1.0;\"/><polygon fill=\"#FFFFFF\" points=\"233.03,312.87,237.2795,293.0725,249.108,300.5615,233.03,312.87\" style=\"stroke: #A80036; stroke-width: 1.0;\"/><ellipse cx=\"242.0184\" cy=\"289.3264\" fill=\"#A80036\" rx=\"2\" ry=\"2\" style=\"stroke: #A80036; stroke-width: 1.0;\"/><ellipse cx=\"250.4673\" cy=\"294.6758\" fill=\"#A80036\" rx=\"2\" ry=\"2\" style=\"stroke: #A80036; stroke-width: 1.0;\"/><!--MD5=[94adabc162ce7e41b39f13be14fbaeb3]\n",
       "reverse link E11 to E12--><path d=\"M309,100.45 C309,115.17 309,132.39 309,147.84 \" fill=\"none\" id=\"E11&lt;-E12\" style=\"stroke: #A80036; stroke-width: 1.0;\"/><polygon fill=\"#A80036\" points=\"309,87.24,305,93.24,309,99.24,313,93.24,309,87.24\" style=\"stroke: #A80036; stroke-width: 1.0;\"/><!--MD5=[e2a9ac97dcd3257bb5342dae06547bad]\n",
       "link E12 to E13--><path d=\"M337.1,236.38 C351.76,258.99 369.28,286.04 382.27,306.09 \" fill=\"none\" id=\"E12-&gt;E13\" style=\"stroke: #A80036; stroke-width: 1.0;\"/><polygon fill=\"#A80036\" points=\"386.66,312.87,384.8342,304.5234,379.7962,307.782,386.66,312.87\" style=\"stroke: #A80036; stroke-width: 1.0;\"/><text fill=\"#000000\" font-family=\"sans-serif\" font-size=\"13\" lengthAdjust=\"spacingAndGlyphs\" textLength=\"73\" x=\"366\" y=\"279.0669\">«objective»</text><!--MD5=[51d1022fa65407261fe1e8c6668be443]\n",
       "@startuml\r\n",
       " \r\n",
       "package \"AnalysisTest\" as E1   {\r\n",
       "comp def \"V\" as E2  << (B,green) >> {\r\n",
       "m: DataValue\r\n",
       "}\r\n",
       "comp usage \"vv: V\" as E3  << (P,limegreen) part>> {\r\n",
       "}\r\n",
       "comp def \"AnalysisObjective\" as E4  <<(D,brown)requirement def>> {\r\n",
       "...\r\n",
       "- -\r\n",
       "}\r\n",
       "comp def \"AnalysisCase\" as E5 <<analysis def>> {\r\n",
       "}\r\n",
       "comp usage \"obj: AnalysisObjective\" as E6  <<(U,orange)requirement>> {\r\n",
       "- -references- -\r\n",
       "subj: Anything= result; \\n//:>>AnalysisObjective::subj// \r\n",
       "}\r\n",
       "comp def \"AnalysisPlan\" as E7 <<analysis def>> {\r\n",
       "}\r\n",
       "comp usage \"obj: RequirementCheck\" as E8  <<(U,orange)requirement>> {\r\n",
       "...\r\n",
       "- -\r\n",
       "}\r\n",
       "comp usage \"analysisCase: AnalysisCase\" as E9 <<analysis>> {\r\n",
       "}\r\n",
       "comp usage \"obj: AnalysisObjective\" as E10  <<(U,orange)requirement>> {\r\n",
       "}\r\n",
       "comp usage \"analysisContext: Part\" as E11  << (P,limegreen) part>> {\r\n",
       "}\r\n",
       "comp usage \"analysisPlan: AnalysisPlan\" as E12 <<analysis>> {\r\n",
       "- -references- -\r\n",
       "v: V= vv; \\n//:>>AnalysisPlan::v// \r\n",
       "}\r\n",
       "comp usage \"obj: RequirementCheck\" as E13  <<(U,orange)requirement>> {\r\n",
       "}\r\n",
       "E3 - -:|> E2\r\n",
       "E5 ..> E2 : <<subject>>\r\n",
       "E5 - ->> E6 : <<objective>>\r\n",
       "E6 - -:|> E4\r\n",
       "E7 ..> E2 : <<subject>>\r\n",
       "E7 - ->> E8 : <<objective>>\r\n",
       "E9 - -:|> E5\r\n",
       "E7 *- - E9\r\n",
       "E9 - ->> E10 : <<objective>>\r\n",
       "E10 - -||> E6\r\n",
       "E12 - -:|> E7\r\n",
       "E11 *- - E12\r\n",
       "E12 - ->> E13 : <<objective>>\r\n",
       "}\r\n",
       "@enduml\r\n",
       "\n",
       "PlantUML version 1.2020.13(Sat Jun 13 12:26:38 UTC 2020)\n",
       "(EPL source distribution)\n",
       "Java Runtime: OpenJDK Runtime Environment\n",
       "JVM: OpenJDK 64-Bit Server VM\n",
       "Default Encoding: UTF-8\n",
       "Language: en\n",
       "Country: null\n",
       "--></g></svg>"
      ]
     },
     "execution_count": 35,
     "metadata": {},
     "output_type": "execute_result"
    }
   ],
   "source": [
    "%viz --style=\"PLANTUML\" --view=\"Sequence\" \"AnalysisTest\""
   ]
  },
  {
   "cell_type": "code",
   "execution_count": 36,
   "id": "informed-concord",
   "metadata": {
    "execution": {
     "iopub.execute_input": "2021-03-26T09:41:47.232553Z",
     "iopub.status.busy": "2021-03-26T09:41:47.231515Z",
     "iopub.status.idle": "2021-03-26T09:41:47.299093Z",
     "shell.execute_reply": "2021-03-26T09:41:47.297519Z"
    }
   },
   "outputs": [
    {
     "data": {
      "image/svg+xml": [
       "<?xml version=\"1.0\" encoding=\"UTF-8\" standalone=\"no\"?><svg xmlns=\"http://www.w3.org/2000/svg\" xmlns:xlink=\"http://www.w3.org/1999/xlink\" contentScriptType=\"application/ecmascript\" contentStyleType=\"text/css\" height=\"551px\" preserveAspectRatio=\"none\" style=\"width:874px;height:551px;\" version=\"1.1\" viewBox=\"0 0 874 551\" width=\"874px\" zoomAndPan=\"magnify\"><defs><filter height=\"300%\" id=\"f8kqdxpo0o1h5\" width=\"300%\" x=\"-1\" y=\"-1\"><feGaussianBlur result=\"blurOut\" stdDeviation=\"2.0\"/><feColorMatrix in=\"blurOut\" result=\"blurOut2\" type=\"matrix\" values=\"0 0 0 0 0 0 0 0 0 0 0 0 0 0 0 0 0 0 .4 0\"/><feOffset dx=\"4.0\" dy=\"4.0\" in=\"blurOut2\" result=\"blurOut3\"/><feBlend in=\"SourceGraphic\" in2=\"blurOut3\" mode=\"normal\"/></filter></defs><g><!--MD5=[fbc87193dbaf4d95561dea2c320d4a47]\n",
       "cluster E1--><polygon fill=\"#FFFFFF\" filter=\"url(#f8kqdxpo0o1h5)\" points=\"16,6,122,6,129,28.2969,852,28.2969,852,539.72,16,539.72,16,6\" style=\"stroke: #000000; stroke-width: 1.5;\"/><line style=\"stroke: #000000; stroke-width: 1.5;\" x1=\"16\" x2=\"129\" y1=\"28.2969\" y2=\"28.2969\"/><text fill=\"#000000\" font-family=\"sans-serif\" font-size=\"14\" font-weight=\"bold\" lengthAdjust=\"spacingAndGlyphs\" textLength=\"100\" x=\"20\" y=\"20.9951\">AnalysisTest</text><!--MD5=[de5ec2e2e8f62f467e546659f5068c88]\n",
       "cluster E5--><rect fill=\"#FFFFFF\" filter=\"url(#f8kqdxpo0o1h5)\" height=\"164\" style=\"stroke: #000000; stroke-width: 1.5;\" width=\"152\" x=\"684\" y=\"74.5\"/><text fill=\"#000000\" font-family=\"sans-serif\" font-size=\"14\" font-weight=\"bold\" lengthAdjust=\"spacingAndGlyphs\" textLength=\"104\" x=\"708\" y=\"89.4951\">AnalysisCase</text><!--MD5=[168fadf3d0c3fd93dd5d6da1b1d7ab76]\n",
       "cluster E7--><rect fill=\"#FFFFFF\" filter=\"url(#f8kqdxpo0o1h5)\" height=\"302.72\" style=\"stroke: #000000; stroke-width: 1.5;\" width=\"256\" x=\"305\" y=\"213\"/><text fill=\"#000000\" font-family=\"sans-serif\" font-size=\"14\" font-weight=\"bold\" lengthAdjust=\"spacingAndGlyphs\" textLength=\"98\" x=\"384\" y=\"227.9951\">AnalysisPlan</text><!--MD5=[7f149f147074ac12df2cb0a7728a5fb0]\n",
       "cluster E9--><rect fill=\"#FEFECE\" filter=\"url(#f8kqdxpo0o1h5)\" height=\"146.22\" rx=\"12.5\" ry=\"12.5\" style=\"stroke: #000000; stroke-width: 1.5;\" width=\"138\" x=\"399\" y=\"331.5\"/><rect fill=\"#FFFFFF\" height=\"113.9231\" rx=\"12.5\" ry=\"12.5\" style=\"stroke: #FFFFFF; stroke-width: 1.0;\" width=\"132\" x=\"402\" y=\"360.7969\"/><line style=\"stroke: #000000; stroke-width: 1.5;\" x1=\"399\" x2=\"537\" y1=\"357.7969\" y2=\"357.7969\"/><text fill=\"#000000\" font-family=\"sans-serif\" font-size=\"14\" lengthAdjust=\"spacingAndGlyphs\" textLength=\"89\" x=\"423.5\" y=\"349.4951\">analysisCase</text><!--MD5=[b4997ac47864f28c2f74865a473b2911]\n",
       "class E2--><rect fill=\"#FEFECE\" filter=\"url(#f8kqdxpo0o1h5)\" height=\"52.8047\" id=\"E2\" style=\"stroke: #A80036; stroke-width: 1.5;\" width=\"88\" x=\"577\" y=\"186.5\"/><ellipse cx=\"613.6\" cy=\"202.5\" fill=\"#008000\" rx=\"11\" ry=\"11\" style=\"stroke: #A80036; stroke-width: 1.0;\"/><path d=\"M612.5063,202.875 L612.5063,206.5469 L614.1313,206.5469 Q615.3031,206.5469 615.7719,206.1563 Q616.2406,205.75 616.2406,204.75 Q616.2406,203.75 615.7406,203.3125 Q615.2563,202.875 614.1313,202.875 L612.5063,202.875 Z M612.5063,198.0469 L612.5063,200.9219 L614.1313,200.9219 Q615.0531,200.9219 615.4438,200.5938 Q615.85,200.25 615.85,199.5 Q615.85,198.7344 615.4438,198.3906 Q615.0375,198.0469 614.1313,198.0469 L612.5063,198.0469 Z M610.1313,196.0938 L614.1313,196.0938 Q616.1938,196.0938 617.2406,196.875 Q618.2875,197.6563 618.2875,199.2188 Q618.2875,200.4219 617.6625,201.0938 Q617.0531,201.7656 615.8656,201.875 Q617.2875,202.0156 618.0063,202.8281 Q618.725,203.6406 618.725,205.0938 Q618.725,206.8906 617.6469,207.7031 Q616.5688,208.5 614.1313,208.5 L610.1313,208.5 L610.1313,196.0938 Z \"/><text fill=\"#000000\" font-family=\"sans-serif\" font-size=\"12\" lengthAdjust=\"spacingAndGlyphs\" textLength=\"8\" x=\"632.4\" y=\"206.6543\">V</text><line style=\"stroke: #A80036; stroke-width: 1.5;\" x1=\"578\" x2=\"664\" y1=\"218.5\" y2=\"218.5\"/><text fill=\"#000000\" font-family=\"sans-serif\" font-size=\"11\" lengthAdjust=\"spacingAndGlyphs\" textLength=\"76\" x=\"583\" y=\"232.7104\">m: DataValue</text><!--MD5=[09b614a08d8cba4a07c9adeb5e0fee81]\n",
       "class E3--><rect fill=\"#FEFECE\" filter=\"url(#f8kqdxpo0o1h5)\" height=\"45.9375\" id=\"E3\" rx=\"10\" ry=\"10\" style=\"stroke: #A80036; stroke-width: 1.5;\" width=\"68\" x=\"587\" y=\"51.5\"/><ellipse cx=\"602\" cy=\"70.4688\" fill=\"#32CD32\" rx=\"11\" ry=\"11\" style=\"stroke: #A80036; stroke-width: 1.0;\"/><path d=\"M601.7969,66.1406 L601.7969,69.7656 L602.7969,69.7656 Q604,69.7656 604.4844,69.3594 Q604.9688,68.9531 604.9688,67.9531 Q604.9688,66.9531 604.4844,66.5469 Q604,66.1406 602.7969,66.1406 L601.7969,66.1406 Z M599.3438,64.0781 L602.7031,64.0781 Q605.2656,64.0781 606.3906,65 Q607.5156,65.9063 607.5156,67.9531 Q607.5156,70 606.3906,70.9219 Q605.2656,71.8281 602.7031,71.8281 L601.7969,71.8281 L601.7969,76.4688 L599.3438,76.4688 L599.3438,64.0781 Z \"/><text fill=\"#000000\" font-family=\"sans-serif\" font-size=\"12\" font-style=\"italic\" lengthAdjust=\"spacingAndGlyphs\" textLength=\"40\" x=\"614\" y=\"67.6387\">«part»</text><text fill=\"#000000\" font-family=\"sans-serif\" font-size=\"12\" lengthAdjust=\"spacingAndGlyphs\" textLength=\"28\" x=\"620\" y=\"81.6074\">vv: V</text><line style=\"stroke: #A80036; stroke-width: 1.5;\" x1=\"588\" x2=\"654\" y1=\"89.4375\" y2=\"89.4375\"/><!--MD5=[ebbe1d658d1005bcc118a6aa81145e00]\n",
       "class E4--><rect fill=\"#FEFECE\" filter=\"url(#f8kqdxpo0o1h5)\" height=\"66.7422\" id=\"E4\" style=\"stroke: #A80036; stroke-width: 1.5;\" width=\"143\" x=\"327.5\" y=\"41\"/><ellipse cx=\"342.5\" cy=\"59.9688\" fill=\"#A52A2A\" rx=\"11\" ry=\"11\" style=\"stroke: #A80036; stroke-width: 1.0;\"/><path d=\"M342.0938,55.7813 L342.0938,63.7656 L342.75,63.7656 Q344.1875,63.7656 344.7969,62.8594 Q345.4219,61.9375 345.4219,59.7656 Q345.4219,57.5938 344.7969,56.6875 Q344.1875,55.7813 342.75,55.7813 L342.0938,55.7813 Z M339.6406,53.5781 L342.2656,53.5781 Q345.2969,53.5781 346.625,55.0313 Q347.9688,56.4688 347.9688,59.7656 Q347.9688,63.0625 346.625,64.5156 Q345.2969,65.9688 342.2656,65.9688 L339.6406,65.9688 L339.6406,53.5781 Z \"/><text fill=\"#000000\" font-family=\"sans-serif\" font-size=\"12\" font-style=\"italic\" lengthAdjust=\"spacingAndGlyphs\" textLength=\"115\" x=\"354.5\" y=\"57.1387\">«requirement def»</text><text fill=\"#000000\" font-family=\"sans-serif\" font-size=\"12\" lengthAdjust=\"spacingAndGlyphs\" textLength=\"107\" x=\"358.5\" y=\"71.1074\">AnalysisObjective</text><line style=\"stroke: #A80036; stroke-width: 1.5;\" x1=\"328.5\" x2=\"469.5\" y1=\"78.9375\" y2=\"78.9375\"/><text fill=\"#000000\" font-family=\"sans-serif\" font-size=\"11\" lengthAdjust=\"spacingAndGlyphs\" textLength=\"12\" x=\"333.5\" y=\"93.1479\">...</text><line style=\"stroke: #A80036; stroke-width: 1.0;\" x1=\"328.5\" x2=\"469.5\" y1=\"99.7422\" y2=\"99.7422\"/><!--MD5=[1dd1bfd58a279cf63c5f349dbc8fc6a1]\n",
       "class E11--><rect fill=\"#FEFECE\" filter=\"url(#f8kqdxpo0o1h5)\" height=\"45.9375\" id=\"E11\" rx=\"10\" ry=\"10\" style=\"stroke: #A80036; stroke-width: 1.5;\" width=\"164\" x=\"47\" y=\"51.5\"/><ellipse cx=\"62\" cy=\"70.4688\" fill=\"#32CD32\" rx=\"11\" ry=\"11\" style=\"stroke: #A80036; stroke-width: 1.0;\"/><path d=\"M61.7969,66.1406 L61.7969,69.7656 L62.7969,69.7656 Q64,69.7656 64.4844,69.3594 Q64.9688,68.9531 64.9688,67.9531 Q64.9688,66.9531 64.4844,66.5469 Q64,66.1406 62.7969,66.1406 L61.7969,66.1406 Z M59.3438,64.0781 L62.7031,64.0781 Q65.2656,64.0781 66.3906,65 Q67.5156,65.9063 67.5156,67.9531 Q67.5156,70 66.3906,70.9219 Q65.2656,71.8281 62.7031,71.8281 L61.7969,71.8281 L61.7969,76.4688 L59.3438,76.4688 L59.3438,64.0781 Z \"/><text fill=\"#000000\" font-family=\"sans-serif\" font-size=\"12\" font-style=\"italic\" lengthAdjust=\"spacingAndGlyphs\" textLength=\"40\" x=\"122\" y=\"67.6387\">«part»</text><text fill=\"#000000\" font-family=\"sans-serif\" font-size=\"12\" lengthAdjust=\"spacingAndGlyphs\" textLength=\"132\" x=\"76\" y=\"81.6074\">analysisContext: Part</text><line style=\"stroke: #A80036; stroke-width: 1.5;\" x1=\"48\" x2=\"210\" y1=\"89.4375\" y2=\"89.4375\"/><!--MD5=[49a0ec8f00dab7302a31f22d0f0fe584]\n",
       "class E12--><rect fill=\"#FEFECE\" filter=\"url(#f8kqdxpo0o1h5)\" height=\"88.3516\" id=\"E12\" rx=\"10\" ry=\"10\" style=\"stroke: #A80036; stroke-width: 1.5;\" width=\"194\" x=\"32\" y=\"169\"/><ellipse cx=\"47\" cy=\"187.9688\" fill=\"#B6DBBB\" rx=\"11\" ry=\"11\" style=\"stroke: #A80036; stroke-width: 1.0;\"/><path d=\"M42.875,189.8906 L42.875,182.0781 L45.3281,182.0781 L45.3281,190.5156 Q45.3281,191.4375 45.7969,191.9688 Q46.2813,192.5 47.1094,192.5 Q47.9531,192.5 48.4219,191.9688 Q48.8906,191.4375 48.8906,190.5156 L48.8906,182.0781 L51.3438,182.0781 L51.3438,189.8906 Q51.3438,192.4219 50.3438,193.5625 Q49.3438,194.7031 47.1094,194.7031 Q44.8906,194.7031 43.875,193.5625 Q42.875,192.4219 42.875,189.8906 Z \"/><text fill=\"#000000\" font-family=\"sans-serif\" font-size=\"12\" font-style=\"italic\" lengthAdjust=\"spacingAndGlyphs\" textLength=\"64\" x=\"110\" y=\"185.1387\">«analysis»</text><text fill=\"#000000\" font-family=\"sans-serif\" font-size=\"12\" lengthAdjust=\"spacingAndGlyphs\" textLength=\"162\" x=\"61\" y=\"199.1074\">analysisPlan: AnalysisPlan</text><line style=\"stroke: #A80036; stroke-width: 1.5;\" x1=\"33\" x2=\"225\" y1=\"206.9375\" y2=\"206.9375\"/><text fill=\"#000000\" font-family=\"sans-serif\" font-size=\"11\" lengthAdjust=\"spacingAndGlyphs\" textLength=\"50\" x=\"38\" y=\"237.9526\">v: V= vv;</text><text fill=\"#000000\" font-family=\"sans-serif\" font-size=\"11\" font-style=\"italic\" lengthAdjust=\"spacingAndGlyphs\" textLength=\"107\" x=\"38\" y=\"250.7573\">:&gt;&gt;AnalysisPlan::v</text><line style=\"stroke: #A80036; stroke-width: 1.0;\" x1=\"33\" x2=\"98\" y1=\"221.3398\" y2=\"221.3398\"/><text fill=\"#000000\" font-family=\"sans-serif\" font-size=\"11\" lengthAdjust=\"spacingAndGlyphs\" textLength=\"62\" x=\"98\" y=\"224.6479\">references</text><line style=\"stroke: #A80036; stroke-width: 1.0;\" x1=\"160\" x2=\"225\" y1=\"221.3398\" y2=\"221.3398\"/><!--MD5=[ee3c913d1a06f366521f9ef512b67efe]\n",
       "class E13--><rect fill=\"#FEFECE\" filter=\"url(#f8kqdxpo0o1h5)\" height=\"45.9375\" id=\"E13\" rx=\"10\" ry=\"10\" style=\"stroke: #A80036; stroke-width: 1.5;\" width=\"177\" x=\"40.5\" y=\"334\"/><ellipse cx=\"55.5\" cy=\"352.9688\" fill=\"#FFA500\" rx=\"11\" ry=\"11\" style=\"stroke: #A80036; stroke-width: 1.0;\"/><path d=\"M51.375,354.8906 L51.375,347.0781 L53.8281,347.0781 L53.8281,355.5156 Q53.8281,356.4375 54.2969,356.9688 Q54.7813,357.5 55.6094,357.5 Q56.4531,357.5 56.9219,356.9688 Q57.3906,356.4375 57.3906,355.5156 L57.3906,347.0781 L59.8438,347.0781 L59.8438,354.8906 Q59.8438,357.4219 58.8438,358.5625 Q57.8438,359.7031 55.6094,359.7031 Q53.3906,359.7031 52.375,358.5625 Q51.375,357.4219 51.375,354.8906 Z \"/><text fill=\"#000000\" font-family=\"sans-serif\" font-size=\"12\" font-style=\"italic\" lengthAdjust=\"spacingAndGlyphs\" textLength=\"91\" x=\"96.5\" y=\"350.1387\">«requirement»</text><text fill=\"#000000\" font-family=\"sans-serif\" font-size=\"12\" lengthAdjust=\"spacingAndGlyphs\" textLength=\"145\" x=\"69.5\" y=\"364.1074\">obj: RequirementCheck</text><line style=\"stroke: #A80036; stroke-width: 1.5;\" x1=\"41.5\" x2=\"216.5\" y1=\"371.9375\" y2=\"371.9375\"/><text fill=\"#000000\" font-family=\"sans-serif\" font-size=\"14\" lengthAdjust=\"spacingAndGlyphs\" textLength=\"7\" x=\"756.5\" y=\"53.1982\">v</text><rect fill=\"#A80036\" height=\"12\" style=\"stroke: #FEFECE; stroke-width: 1.5;\" width=\"12\" x=\"754\" y=\"68.5\"/><text fill=\"#000000\" font-family=\"sans-serif\" font-size=\"14\" lengthAdjust=\"spacingAndGlyphs\" textLength=\"7\" x=\"319.5\" y=\"191.6982\">v</text><rect fill=\"#A80036\" height=\"12\" style=\"stroke: #FEFECE; stroke-width: 1.5;\" width=\"12\" x=\"317\" y=\"207\"/><text fill=\"#000000\" font-family=\"sans-serif\" font-size=\"14\" lengthAdjust=\"spacingAndGlyphs\" textLength=\"37\" x=\"449.5\" y=\"496.7151\">mass</text><rect fill=\"#A80036\" height=\"12\" style=\"stroke: #FEFECE; stroke-width: 1.5;\" width=\"12\" x=\"462\" y=\"471.72\"/><!--MD5=[05d275557350bfb9b23a4ef7222b4c39]\n",
       "link E3 to E2--><path d=\"M621,97.73 C621,116.15 621,142.93 621,165.93 \" fill=\"none\" id=\"E3-&gt;E2\" style=\"stroke: #A80036; stroke-width: 1.0;\"/><polygon fill=\"#FFFFFF\" points=\"621,186.04,614,167.04,628,167.04,621,186.04\" style=\"stroke: #A80036; stroke-width: 1.0;\"/><ellipse cx=\"616\" cy=\"161.34\" fill=\"#A80036\" rx=\"2\" ry=\"2\" style=\"stroke: #A80036; stroke-width: 1.0;\"/><ellipse cx=\"626\" cy=\"161.34\" fill=\"#A80036\" rx=\"2\" ry=\"2\" style=\"stroke: #A80036; stroke-width: 1.0;\"/><!--MD5=[ae660f5ecd7ddb04a8913625960940af]\n",
       "link E12 to E7--><path d=\"M188,257.18 C209.735,273.095 234.4975,291.22 256.8275,307.5638 C267.9925,315.7356 278.5494,323.4622 287.8156,330.2445 C292.4488,333.6357 296.7592,336.7908 300.6617,339.6475 C301.6373,340.3617 302.5875,341.0572 303.5108,341.7331 C303.9724,342.0711 304.4274,342.4041 304.8754,342.7321 \" fill=\"none\" id=\"E12-&gt;E7\" style=\"stroke: #A80036; stroke-width: 1.0;\"/><polygon fill=\"#FFFFFF\" points=\"304.8754,342.7321,285.4096,337.1571,293.6794,325.8606,304.8754,342.7321\" style=\"stroke: #A80036; stroke-width: 1.0;\"/><ellipse cx=\"281.9917\" cy=\"332.1763\" fill=\"#A80036\" rx=\"2\" ry=\"2\" style=\"stroke: #A80036; stroke-width: 1.0;\"/><ellipse cx=\"287.8987\" cy=\"324.1074\" fill=\"#A80036\" rx=\"2\" ry=\"2\" style=\"stroke: #A80036; stroke-width: 1.0;\"/><!--MD5=[94adabc162ce7e41b39f13be14fbaeb3]\n",
       "reverse link E11 to E12--><path d=\"M129,110.96 C129,128.64 129,150.18 129,168.81 \" fill=\"none\" id=\"E11&lt;-E12\" style=\"stroke: #A80036; stroke-width: 1.0;\"/><polygon fill=\"#A80036\" points=\"129,97.73,125,103.73,129,109.73,133,103.73,129,97.73\" style=\"stroke: #A80036; stroke-width: 1.0;\"/><!--MD5=[e2a9ac97dcd3257bb5342dae06547bad]\n",
       "link E12 to E13--><path d=\"M129,257.38 C129,279.5 129,305.86 129,325.76 \" fill=\"none\" id=\"E12-&gt;E13\" style=\"stroke: #A80036; stroke-width: 1.0;\"/><polygon fill=\"#A80036\" points=\"129,333.87,132,325.87,126,325.87,129,333.87\" style=\"stroke: #A80036; stroke-width: 1.0;\"/><text fill=\"#000000\" font-family=\"sans-serif\" font-size=\"13\" lengthAdjust=\"spacingAndGlyphs\" textLength=\"73\" x=\"130\" y=\"300.0669\">«objective»</text><!--MD5=[ac40eae2d623d9febe2120d6d7736469]\n",
       "@startuml\r\n",
       " \r\n",
       "package \"AnalysisTest\" as E1   {\r\n",
       "comp def \"V\" as E2  << (B,green) >> {\r\n",
       "m: DataValue\r\n",
       "}\r\n",
       "comp usage \"vv: V\" as E3  << (P,limegreen) part>> {\r\n",
       "}\r\n",
       "comp def \"AnalysisObjective\" as E4  <<(D,brown)requirement def>> {\r\n",
       "...\r\n",
       "- -\r\n",
       "}\r\n",
       "rec def \"AnalysisCase\" as E5 {\r\n",
       "portin \"v\" as E6  \r\n",
       "}\r\n",
       "\r\n",
       "rec def \"AnalysisPlan\" as E7 {\r\n",
       "portin \"v\" as E8  \r\n",
       "rec usage \"analysisCase\" as E9 {\r\n",
       "portout \"mass\" as E10  \r\n",
       "}\r\n",
       "\r\n",
       "}\r\n",
       "\r\n",
       "comp usage \"analysisContext: Part\" as E11  << (P,limegreen) part>> {\r\n",
       "}\r\n",
       "comp usage \"analysisPlan: AnalysisPlan\" as E12 <<analysis>> {\r\n",
       "- -references- -\r\n",
       "v: V= vv; \\n//:>>AnalysisPlan::v// \r\n",
       "}\r\n",
       "comp usage \"obj: RequirementCheck\" as E13  <<(U,orange)requirement>> {\r\n",
       "}\r\n",
       "E3 - -:|> E2\r\n",
       "E12 - -:|> E7\r\n",
       "E11 *- - E12\r\n",
       "E12 - ->> E13 : <<objective>>\r\n",
       "}\r\n",
       "@enduml\r\n",
       "\n",
       "PlantUML version 1.2020.13(Sat Jun 13 12:26:38 UTC 2020)\n",
       "(EPL source distribution)\n",
       "Java Runtime: OpenJDK Runtime Environment\n",
       "JVM: OpenJDK 64-Bit Server VM\n",
       "Default Encoding: UTF-8\n",
       "Language: en\n",
       "Country: null\n",
       "--></g></svg>"
      ]
     },
     "execution_count": 36,
     "metadata": {},
     "output_type": "execute_result"
    }
   ],
   "source": [
    "%viz --style=\"PLANTUML\" --view=\"MIXED\" \"AnalysisTest\""
   ]
  },
  {
   "cell_type": "code",
   "execution_count": 37,
   "id": "behavioral-realtor",
   "metadata": {
    "execution": {
     "iopub.execute_input": "2021-03-26T09:41:47.349547Z",
     "iopub.status.busy": "2021-03-26T09:41:47.349095Z",
     "iopub.status.idle": "2021-03-26T09:41:47.407562Z",
     "shell.execute_reply": "2021-03-26T09:41:47.407926Z"
    }
   },
   "outputs": [
    {
     "data": {
      "image/svg+xml": [
       "<?xml version=\"1.0\" encoding=\"UTF-8\" standalone=\"no\"?><svg xmlns=\"http://www.w3.org/2000/svg\" xmlns:xlink=\"http://www.w3.org/1999/xlink\" contentScriptType=\"application/ecmascript\" contentStyleType=\"text/css\" height=\"551px\" preserveAspectRatio=\"none\" style=\"width:848px;height:551px;\" version=\"1.1\" viewBox=\"0 0 848 551\" width=\"848px\" zoomAndPan=\"magnify\"><defs/><g><!--MD5=[fbc87193dbaf4d95561dea2c320d4a47]\n",
       "cluster E1--><polygon fill=\"#FFFFFF\" points=\"16,6,122,6,129,28.2969,826,28.2969,826,539.72,16,539.72,16,6\" style=\"stroke: #000000; stroke-width: 1.5;\"/><line style=\"stroke: #000000; stroke-width: 1.5;\" x1=\"16\" x2=\"129\" y1=\"28.2969\" y2=\"28.2969\"/><text fill=\"#000000\" font-family=\"sans-serif\" font-size=\"14\" font-weight=\"bold\" lengthAdjust=\"spacingAndGlyphs\" textLength=\"100\" x=\"20\" y=\"20.9951\">AnalysisTest</text><!--MD5=[de5ec2e2e8f62f467e546659f5068c88]\n",
       "cluster E5--><rect fill=\"#FFFFFF\" height=\"164\" style=\"stroke: #000000; stroke-width: 1.5;\" width=\"152\" x=\"658\" y=\"74.5\"/><text fill=\"#000000\" font-family=\"sans-serif\" font-size=\"14\" font-weight=\"bold\" lengthAdjust=\"spacingAndGlyphs\" textLength=\"104\" x=\"682\" y=\"89.4951\">AnalysisCase</text><!--MD5=[168fadf3d0c3fd93dd5d6da1b1d7ab76]\n",
       "cluster E7--><rect fill=\"#FFFFFF\" height=\"302.72\" style=\"stroke: #000000; stroke-width: 1.5;\" width=\"256\" x=\"279\" y=\"213\"/><text fill=\"#000000\" font-family=\"sans-serif\" font-size=\"14\" font-weight=\"bold\" lengthAdjust=\"spacingAndGlyphs\" textLength=\"98\" x=\"358\" y=\"227.9951\">AnalysisPlan</text><!--MD5=[7f149f147074ac12df2cb0a7728a5fb0]\n",
       "cluster E9--><rect fill=\"#F8F8F8\" height=\"146.22\" rx=\"12.5\" ry=\"12.5\" style=\"stroke: #000000; stroke-width: 1.5;\" width=\"138\" x=\"373\" y=\"331.5\"/><rect fill=\"#FFFFFF\" height=\"113.9231\" rx=\"12.5\" ry=\"12.5\" style=\"stroke: #FFFFFF; stroke-width: 1.0;\" width=\"132\" x=\"376\" y=\"360.7969\"/><line style=\"stroke: #000000; stroke-width: 1.5;\" x1=\"373\" x2=\"511\" y1=\"357.7969\" y2=\"357.7969\"/><text fill=\"#000000\" font-family=\"sans-serif\" font-size=\"14\" lengthAdjust=\"spacingAndGlyphs\" textLength=\"89\" x=\"397.5\" y=\"349.4951\">analysisCase</text><!--MD5=[b4997ac47864f28c2f74865a473b2911]\n",
       "class E2--><rect fill=\"#FFFFFF\" height=\"58.7422\" id=\"E2\" style=\"stroke: #383838; stroke-width: 1.5;\" width=\"88\" x=\"551\" y=\"183.5\"/><text fill=\"#000000\" font-family=\"sans-serif\" font-size=\"12\" font-style=\"italic\" lengthAdjust=\"spacingAndGlyphs\" textLength=\"64\" x=\"563\" y=\"199.6387\">«part def»</text><text fill=\"#000000\" font-family=\"sans-serif\" font-size=\"12\" lengthAdjust=\"spacingAndGlyphs\" textLength=\"8\" x=\"591\" y=\"213.6074\">V</text><line style=\"stroke: #383838; stroke-width: 1.5;\" x1=\"552\" x2=\"638\" y1=\"221.4375\" y2=\"221.4375\"/><text fill=\"#000000\" font-family=\"sans-serif\" font-size=\"11\" lengthAdjust=\"spacingAndGlyphs\" textLength=\"76\" x=\"557\" y=\"235.6479\">m: DataValue</text><!--MD5=[09b614a08d8cba4a07c9adeb5e0fee81]\n",
       "class E3--><rect fill=\"#FFFFFF\" height=\"45.9375\" id=\"E3\" rx=\"10\" ry=\"10\" style=\"stroke: #383838; stroke-width: 1.5;\" width=\"42\" x=\"574\" y=\"51.5\"/><text fill=\"#000000\" font-family=\"sans-serif\" font-size=\"12\" font-style=\"italic\" lengthAdjust=\"spacingAndGlyphs\" textLength=\"40\" x=\"575\" y=\"67.6387\">«part»</text><text fill=\"#000000\" font-family=\"sans-serif\" font-size=\"12\" lengthAdjust=\"spacingAndGlyphs\" textLength=\"28\" x=\"581\" y=\"81.6074\">vv: V</text><line style=\"stroke: #383838; stroke-width: 1.5;\" x1=\"575\" x2=\"615\" y1=\"89.4375\" y2=\"89.4375\"/><!--MD5=[ebbe1d658d1005bcc118a6aa81145e00]\n",
       "class E4--><rect fill=\"#FFFFFF\" height=\"66.7422\" id=\"E4\" style=\"stroke: #383838; stroke-width: 1.5;\" width=\"117\" x=\"321.5\" y=\"41\"/><text fill=\"#000000\" font-family=\"sans-serif\" font-size=\"12\" font-style=\"italic\" lengthAdjust=\"spacingAndGlyphs\" textLength=\"115\" x=\"322.5\" y=\"57.1387\">«requirement def»</text><text fill=\"#000000\" font-family=\"sans-serif\" font-size=\"12\" lengthAdjust=\"spacingAndGlyphs\" textLength=\"107\" x=\"326.5\" y=\"71.1074\">AnalysisObjective</text><line style=\"stroke: #383838; stroke-width: 1.5;\" x1=\"322.5\" x2=\"437.5\" y1=\"78.9375\" y2=\"78.9375\"/><text fill=\"#000000\" font-family=\"sans-serif\" font-size=\"11\" lengthAdjust=\"spacingAndGlyphs\" textLength=\"12\" x=\"327.5\" y=\"93.1479\">...</text><line style=\"stroke: #383838; stroke-width: 1.0;\" x1=\"322.5\" x2=\"437.5\" y1=\"99.7422\" y2=\"99.7422\"/><!--MD5=[1dd1bfd58a279cf63c5f349dbc8fc6a1]\n",
       "class E11--><rect fill=\"#FFFFFF\" height=\"45.9375\" id=\"E11\" rx=\"10\" ry=\"10\" style=\"stroke: #383838; stroke-width: 1.5;\" width=\"138\" x=\"47\" y=\"51.5\"/><text fill=\"#000000\" font-family=\"sans-serif\" font-size=\"12\" font-style=\"italic\" lengthAdjust=\"spacingAndGlyphs\" textLength=\"40\" x=\"96\" y=\"67.6387\">«part»</text><text fill=\"#000000\" font-family=\"sans-serif\" font-size=\"12\" lengthAdjust=\"spacingAndGlyphs\" textLength=\"132\" x=\"50\" y=\"81.6074\">analysisContext: Part</text><line style=\"stroke: #383838; stroke-width: 1.5;\" x1=\"48\" x2=\"184\" y1=\"89.4375\" y2=\"89.4375\"/><!--MD5=[49a0ec8f00dab7302a31f22d0f0fe584]\n",
       "class E12--><rect fill=\"#FFFFFF\" height=\"88.3516\" id=\"E12\" rx=\"10\" ry=\"10\" style=\"stroke: #383838; stroke-width: 1.5;\" width=\"168\" x=\"32\" y=\"169\"/><text fill=\"#000000\" font-family=\"sans-serif\" font-size=\"12\" font-style=\"italic\" lengthAdjust=\"spacingAndGlyphs\" textLength=\"64\" x=\"84\" y=\"185.1387\">«analysis»</text><text fill=\"#000000\" font-family=\"sans-serif\" font-size=\"12\" lengthAdjust=\"spacingAndGlyphs\" textLength=\"162\" x=\"35\" y=\"199.1074\">analysisPlan: AnalysisPlan</text><line style=\"stroke: #383838; stroke-width: 1.5;\" x1=\"33\" x2=\"199\" y1=\"206.9375\" y2=\"206.9375\"/><text fill=\"#000000\" font-family=\"sans-serif\" font-size=\"11\" lengthAdjust=\"spacingAndGlyphs\" textLength=\"50\" x=\"38\" y=\"237.9526\">v: V= vv;</text><text fill=\"#000000\" font-family=\"sans-serif\" font-size=\"11\" font-style=\"italic\" lengthAdjust=\"spacingAndGlyphs\" textLength=\"107\" x=\"38\" y=\"250.7573\">:&gt;&gt;AnalysisPlan::v</text><line style=\"stroke: #383838; stroke-width: 1.0;\" x1=\"33\" x2=\"85\" y1=\"221.3398\" y2=\"221.3398\"/><text fill=\"#000000\" font-family=\"sans-serif\" font-size=\"11\" lengthAdjust=\"spacingAndGlyphs\" textLength=\"62\" x=\"85\" y=\"224.6479\">references</text><line style=\"stroke: #383838; stroke-width: 1.0;\" x1=\"147\" x2=\"199\" y1=\"221.3398\" y2=\"221.3398\"/><!--MD5=[ee3c913d1a06f366521f9ef512b67efe]\n",
       "class E13--><rect fill=\"#FFFFFF\" height=\"45.9375\" id=\"E13\" rx=\"10\" ry=\"10\" style=\"stroke: #383838; stroke-width: 1.5;\" width=\"151\" x=\"40.5\" y=\"334\"/><text fill=\"#000000\" font-family=\"sans-serif\" font-size=\"12\" font-style=\"italic\" lengthAdjust=\"spacingAndGlyphs\" textLength=\"91\" x=\"70.5\" y=\"350.1387\">«requirement»</text><text fill=\"#000000\" font-family=\"sans-serif\" font-size=\"12\" lengthAdjust=\"spacingAndGlyphs\" textLength=\"145\" x=\"43.5\" y=\"364.1074\">obj: RequirementCheck</text><line style=\"stroke: #383838; stroke-width: 1.5;\" x1=\"41.5\" x2=\"190.5\" y1=\"371.9375\" y2=\"371.9375\"/><text fill=\"#000000\" font-family=\"sans-serif\" font-size=\"14\" lengthAdjust=\"spacingAndGlyphs\" textLength=\"7\" x=\"730.5\" y=\"53.1982\">v</text><rect fill=\"#383838\" height=\"12\" style=\"stroke: #F8F8F8; stroke-width: 1.5;\" width=\"12\" x=\"728\" y=\"68.5\"/><text fill=\"#000000\" font-family=\"sans-serif\" font-size=\"14\" lengthAdjust=\"spacingAndGlyphs\" textLength=\"7\" x=\"293.5\" y=\"191.6982\">v</text><rect fill=\"#383838\" height=\"12\" style=\"stroke: #F8F8F8; stroke-width: 1.5;\" width=\"12\" x=\"291\" y=\"207\"/><text fill=\"#000000\" font-family=\"sans-serif\" font-size=\"14\" lengthAdjust=\"spacingAndGlyphs\" textLength=\"37\" x=\"423.5\" y=\"496.7151\">mass</text><rect fill=\"#383838\" height=\"12\" style=\"stroke: #F8F8F8; stroke-width: 1.5;\" width=\"12\" x=\"436\" y=\"471.72\"/><!--MD5=[05d275557350bfb9b23a4ef7222b4c39]\n",
       "link E3 to E2--><path d=\"M595,97.73 C595,115.37 595,140.67 595,162.99 \" fill=\"none\" id=\"E3-&gt;E2\" style=\"stroke: #383838; stroke-width: 1.0;\"/><polygon fill=\"#FFFFFF\" points=\"595,183.12,588,164.12,602,164.12,595,183.12\" style=\"stroke: #383838; stroke-width: 1.0;\"/><ellipse cx=\"590\" cy=\"158.42\" fill=\"#383838\" rx=\"2\" ry=\"2\" style=\"stroke: #383838; stroke-width: 1.0;\"/><ellipse cx=\"600\" cy=\"158.42\" fill=\"#383838\" rx=\"2\" ry=\"2\" style=\"stroke: #383838; stroke-width: 1.0;\"/><!--MD5=[ae660f5ecd7ddb04a8913625960940af]\n",
       "link E12 to E7--><path d=\"M171.29,257.38 C191.56,273.285 214.625,291.38 235.415,307.69 C245.81,315.845 255.6363,323.5538 264.26,330.3194 C268.5719,333.7022 272.5831,336.8492 276.2145,339.6984 C277.1224,340.4106 278.0065,341.1043 278.8656,341.7784 \" fill=\"none\" id=\"E12-&gt;E7\" style=\"stroke: #383838; stroke-width: 1.0;\"/><polygon fill=\"#FFFFFF\" points=\"278.8656,341.7784,259.5965,335.5573,268.2385,324.5429,278.8656,341.7784\" style=\"stroke: #383838; stroke-width: 1.0;\"/><ellipse cx=\"256.3467\" cy=\"330.4653\" fill=\"#383838\" rx=\"2\" ry=\"2\" style=\"stroke: #383838; stroke-width: 1.0;\"/><ellipse cx=\"262.5195\" cy=\"322.5978\" fill=\"#383838\" rx=\"2\" ry=\"2\" style=\"stroke: #383838; stroke-width: 1.0;\"/><!--MD5=[94adabc162ce7e41b39f13be14fbaeb3]\n",
       "reverse link E11 to E12--><path d=\"M116,110.96 C116,128.64 116,150.18 116,168.81 \" fill=\"none\" id=\"E11&lt;-E12\" style=\"stroke: #383838; stroke-width: 1.0;\"/><polygon fill=\"#383838\" points=\"116,97.73,112,103.73,116,109.73,120,103.73,116,97.73\" style=\"stroke: #383838; stroke-width: 1.0;\"/><!--MD5=[e2a9ac97dcd3257bb5342dae06547bad]\n",
       "link E12 to E13--><path d=\"M116,257.38 C116,279.5 116,305.86 116,325.76 \" fill=\"none\" id=\"E12-&gt;E13\" style=\"stroke: #383838; stroke-width: 1.0;\"/><polygon fill=\"#383838\" points=\"116,333.87,119,325.87,113,325.87,116,333.87\" style=\"stroke: #383838; stroke-width: 1.0;\"/><text fill=\"#000000\" font-family=\"sans-serif\" font-size=\"13\" lengthAdjust=\"spacingAndGlyphs\" textLength=\"73\" x=\"117\" y=\"300.0669\">«objective»</text><!--MD5=[a9876548bc00ffdf90dd881efd7da73e]\n",
       "@startuml\r\n",
       "skinparam monochrome true\r\n",
       "skinparam classbackgroundcolor white\r\n",
       "skinparam shadowing false\r\n",
       "skinparam wrapWidth 300\r\n",
       "hide circle\r\n",
       "\r\n",
       "package \"AnalysisTest\" as E1   {\r\n",
       "comp def \"V\" as E2  <<(T,blue)part def>> {\r\n",
       "m: DataValue\r\n",
       "}\r\n",
       "comp usage \"vv: V\" as E3  <<(T,blue)part>> {\r\n",
       "}\r\n",
       "comp def \"AnalysisObjective\" as E4  <<(T,blue)requirement def>> {\r\n",
       "...\r\n",
       "- -\r\n",
       "}\r\n",
       "rec def \"AnalysisCase\" as E5 {\r\n",
       "portin \"v\" as E6  \r\n",
       "}\r\n",
       "\r\n",
       "rec def \"AnalysisPlan\" as E7 {\r\n",
       "portin \"v\" as E8  \r\n",
       "rec usage \"analysisCase\" as E9 {\r\n",
       "portout \"mass\" as E10  \r\n",
       "}\r\n",
       "\r\n",
       "}\r\n",
       "\r\n",
       "comp usage \"analysisContext: Part\" as E11  <<(T,blue)part>> {\r\n",
       "}\r\n",
       "comp usage \"analysisPlan: AnalysisPlan\" as E12 <<analysis>> {\r\n",
       "- -references- -\r\n",
       "v: V= vv; \\n//:>>AnalysisPlan::v// \r\n",
       "}\r\n",
       "comp usage \"obj: RequirementCheck\" as E13  <<(T,blue)requirement>> {\r\n",
       "}\r\n",
       "E3 - -:|> E2\r\n",
       "E12 - -:|> E7\r\n",
       "E11 *- - E12\r\n",
       "E12 - ->> E13 : <<objective>>\r\n",
       "}\r\n",
       "@enduml\r\n",
       "\n",
       "PlantUML version 1.2020.13(Sat Jun 13 12:26:38 UTC 2020)\n",
       "(EPL source distribution)\n",
       "Java Runtime: OpenJDK Runtime Environment\n",
       "JVM: OpenJDK 64-Bit Server VM\n",
       "Default Encoding: UTF-8\n",
       "Language: en\n",
       "Country: null\n",
       "--></g></svg>"
      ]
     },
     "execution_count": 37,
     "metadata": {},
     "output_type": "execute_result"
    }
   ],
   "source": [
    "%viz --style=\"DEFAULT\" --view=\"Default\" \"AnalysisTest\""
   ]
  },
  {
   "cell_type": "code",
   "execution_count": 38,
   "id": "indirect-adrian",
   "metadata": {
    "execution": {
     "iopub.execute_input": "2021-03-26T09:41:47.463079Z",
     "iopub.status.busy": "2021-03-26T09:41:47.462412Z",
     "iopub.status.idle": "2021-03-26T09:41:47.567564Z",
     "shell.execute_reply": "2021-03-26T09:41:47.566048Z"
    }
   },
   "outputs": [
    {
     "data": {
      "image/svg+xml": [
       "<?xml version=\"1.0\" encoding=\"UTF-8\" standalone=\"no\"?><svg xmlns=\"http://www.w3.org/2000/svg\" xmlns:xlink=\"http://www.w3.org/1999/xlink\" contentScriptType=\"application/ecmascript\" contentStyleType=\"text/css\" height=\"947px\" preserveAspectRatio=\"none\" style=\"width:505px;height:947px;\" version=\"1.1\" viewBox=\"0 0 505 947\" width=\"505px\" zoomAndPan=\"magnify\"><defs/><g><!--MD5=[fbc87193dbaf4d95561dea2c320d4a47]\n",
       "cluster E1--><polygon fill=\"#FFFFFF\" points=\"16,6,122,6,129,28.2969,448,28.2969,448,935,16,935,16,6\" style=\"stroke: #000000; stroke-width: 1.5;\"/><line style=\"stroke: #000000; stroke-width: 1.5;\" x1=\"16\" x2=\"129\" y1=\"28.2969\" y2=\"28.2969\"/><text fill=\"#000000\" font-family=\"sans-serif\" font-size=\"14\" font-weight=\"bold\" lengthAdjust=\"spacingAndGlyphs\" textLength=\"100\" x=\"20\" y=\"20.9951\">AnalysisTest</text><!--MD5=[b4997ac47864f28c2f74865a473b2911]\n",
       "class E2--><rect fill=\"#FFFFFF\" height=\"58.7422\" id=\"E2\" style=\"stroke: #383838; stroke-width: 1.5;\" width=\"88\" x=\"309\" y=\"717.5\"/><text fill=\"#000000\" font-family=\"sans-serif\" font-size=\"12\" font-style=\"italic\" lengthAdjust=\"spacingAndGlyphs\" textLength=\"64\" x=\"321\" y=\"733.6387\">«part def»</text><text fill=\"#000000\" font-family=\"sans-serif\" font-size=\"12\" lengthAdjust=\"spacingAndGlyphs\" textLength=\"8\" x=\"349\" y=\"747.6074\">V</text><line style=\"stroke: #383838; stroke-width: 1.5;\" x1=\"310\" x2=\"396\" y1=\"755.4375\" y2=\"755.4375\"/><text fill=\"#000000\" font-family=\"sans-serif\" font-size=\"11\" lengthAdjust=\"spacingAndGlyphs\" textLength=\"76\" x=\"315\" y=\"769.6479\">m: DataValue</text><!--MD5=[09b614a08d8cba4a07c9adeb5e0fee81]\n",
       "class E3--><rect fill=\"#FFFFFF\" height=\"45.9375\" id=\"E3\" rx=\"10\" ry=\"10\" style=\"stroke: #383838; stroke-width: 1.5;\" width=\"42\" x=\"332\" y=\"580\"/><text fill=\"#000000\" font-family=\"sans-serif\" font-size=\"12\" font-style=\"italic\" lengthAdjust=\"spacingAndGlyphs\" textLength=\"40\" x=\"333\" y=\"596.1387\">«part»</text><text fill=\"#000000\" font-family=\"sans-serif\" font-size=\"12\" lengthAdjust=\"spacingAndGlyphs\" textLength=\"28\" x=\"339\" y=\"610.1074\">vv: V</text><line style=\"stroke: #383838; stroke-width: 1.5;\" x1=\"333\" x2=\"373\" y1=\"617.9375\" y2=\"617.9375\"/><!--MD5=[ebbe1d658d1005bcc118a6aa81145e00]\n",
       "class E4--><rect fill=\"#FFFFFF\" height=\"66.7422\" id=\"E4\" style=\"stroke: #383838; stroke-width: 1.5;\" width=\"117\" x=\"73.5\" y=\"852\"/><text fill=\"#000000\" font-family=\"sans-serif\" font-size=\"12\" font-style=\"italic\" lengthAdjust=\"spacingAndGlyphs\" textLength=\"115\" x=\"74.5\" y=\"868.1387\">«requirement def»</text><text fill=\"#000000\" font-family=\"sans-serif\" font-size=\"12\" lengthAdjust=\"spacingAndGlyphs\" textLength=\"107\" x=\"78.5\" y=\"882.1074\">AnalysisObjective</text><line style=\"stroke: #383838; stroke-width: 1.5;\" x1=\"74.5\" x2=\"189.5\" y1=\"889.9375\" y2=\"889.9375\"/><text fill=\"#000000\" font-family=\"sans-serif\" font-size=\"11\" lengthAdjust=\"spacingAndGlyphs\" textLength=\"12\" x=\"79.5\" y=\"904.1479\">...</text><line style=\"stroke: #383838; stroke-width: 1.0;\" x1=\"74.5\" x2=\"189.5\" y1=\"910.7422\" y2=\"910.7422\"/><!--MD5=[270fce915f116d4de14055a7c1d9a0f3]\n",
       "class E5--><rect fill=\"#FFFFFF\" height=\"45.9375\" id=\"E5\" style=\"stroke: #383838; stroke-width: 1.5;\" width=\"90\" x=\"207\" y=\"580\"/><text fill=\"#000000\" font-family=\"sans-serif\" font-size=\"12\" font-style=\"italic\" lengthAdjust=\"spacingAndGlyphs\" textLength=\"88\" x=\"208\" y=\"596.1387\">«analysis def»</text><text fill=\"#000000\" font-family=\"sans-serif\" font-size=\"12\" lengthAdjust=\"spacingAndGlyphs\" textLength=\"81\" x=\"211.5\" y=\"610.1074\">AnalysisCase</text><line style=\"stroke: #383838; stroke-width: 1.5;\" x1=\"208\" x2=\"296\" y1=\"617.9375\" y2=\"617.9375\"/><!--MD5=[60a26617385b1d2d0262a64233df1f8d]\n",
       "class E6--><rect fill=\"#FFFFFF\" height=\"88.3516\" id=\"E6\" rx=\"10\" ry=\"10\" style=\"stroke: #383838; stroke-width: 1.5;\" width=\"165\" x=\"49.5\" y=\"703\"/><text fill=\"#000000\" font-family=\"sans-serif\" font-size=\"12\" font-style=\"italic\" lengthAdjust=\"spacingAndGlyphs\" textLength=\"91\" x=\"86.5\" y=\"719.1387\">«requirement»</text><text fill=\"#000000\" font-family=\"sans-serif\" font-size=\"12\" lengthAdjust=\"spacingAndGlyphs\" textLength=\"134\" x=\"65\" y=\"733.1074\">obj: AnalysisObjective</text><line style=\"stroke: #383838; stroke-width: 1.5;\" x1=\"50.5\" x2=\"213.5\" y1=\"740.9375\" y2=\"740.9375\"/><text fill=\"#000000\" font-family=\"sans-serif\" font-size=\"11\" lengthAdjust=\"spacingAndGlyphs\" textLength=\"130\" x=\"55.5\" y=\"771.9526\">subj: Anything= result;</text><text fill=\"#000000\" font-family=\"sans-serif\" font-size=\"11\" font-style=\"italic\" lengthAdjust=\"spacingAndGlyphs\" textLength=\"153\" x=\"55.5\" y=\"784.7573\">:&gt;&gt;AnalysisObjective::subj</text><line style=\"stroke: #383838; stroke-width: 1.0;\" x1=\"50.5\" x2=\"101\" y1=\"755.3398\" y2=\"755.3398\"/><text fill=\"#000000\" font-family=\"sans-serif\" font-size=\"11\" lengthAdjust=\"spacingAndGlyphs\" textLength=\"62\" x=\"101\" y=\"758.6479\">references</text><line style=\"stroke: #383838; stroke-width: 1.0;\" x1=\"163\" x2=\"213.5\" y1=\"755.3398\" y2=\"755.3398\"/><!--MD5=[2156ba9850f5573cc1fc38a6a4b2f02b]\n",
       "class E7--><rect fill=\"#FFFFFF\" height=\"45.9375\" id=\"E7\" style=\"stroke: #383838; stroke-width: 1.5;\" width=\"90\" x=\"155\" y=\"313\"/><text fill=\"#000000\" font-family=\"sans-serif\" font-size=\"12\" font-style=\"italic\" lengthAdjust=\"spacingAndGlyphs\" textLength=\"88\" x=\"156\" y=\"329.1387\">«analysis def»</text><text fill=\"#000000\" font-family=\"sans-serif\" font-size=\"12\" lengthAdjust=\"spacingAndGlyphs\" textLength=\"77\" x=\"161.5\" y=\"343.1074\">AnalysisPlan</text><line style=\"stroke: #383838; stroke-width: 1.5;\" x1=\"156\" x2=\"244\" y1=\"350.9375\" y2=\"350.9375\"/><!--MD5=[b9389687b975829384b498ac4b7476b2]\n",
       "class E8--><rect fill=\"#FFFFFF\" height=\"66.7422\" id=\"E8\" rx=\"10\" ry=\"10\" style=\"stroke: #383838; stroke-width: 1.5;\" width=\"151\" x=\"243.5\" y=\"436\"/><text fill=\"#000000\" font-family=\"sans-serif\" font-size=\"12\" font-style=\"italic\" lengthAdjust=\"spacingAndGlyphs\" textLength=\"91\" x=\"273.5\" y=\"452.1387\">«requirement»</text><text fill=\"#000000\" font-family=\"sans-serif\" font-size=\"12\" lengthAdjust=\"spacingAndGlyphs\" textLength=\"145\" x=\"246.5\" y=\"466.1074\">obj: RequirementCheck</text><line style=\"stroke: #383838; stroke-width: 1.5;\" x1=\"244.5\" x2=\"393.5\" y1=\"473.9375\" y2=\"473.9375\"/><text fill=\"#000000\" font-family=\"sans-serif\" font-size=\"11\" lengthAdjust=\"spacingAndGlyphs\" textLength=\"12\" x=\"249.5\" y=\"488.1479\">...</text><line style=\"stroke: #383838; stroke-width: 1.0;\" x1=\"244.5\" x2=\"393.5\" y1=\"494.7422\" y2=\"494.7422\"/><!--MD5=[fd4143e9d270a159db93a4ea2a975926]\n",
       "class E9--><rect fill=\"#FFFFFF\" height=\"45.9375\" id=\"E9\" rx=\"10\" ry=\"10\" style=\"stroke: #383838; stroke-width: 1.5;\" width=\"176\" x=\"32\" y=\"446.5\"/><text fill=\"#000000\" font-family=\"sans-serif\" font-size=\"12\" font-style=\"italic\" lengthAdjust=\"spacingAndGlyphs\" textLength=\"64\" x=\"88\" y=\"462.6387\">«analysis»</text><text fill=\"#000000\" font-family=\"sans-serif\" font-size=\"12\" lengthAdjust=\"spacingAndGlyphs\" textLength=\"170\" x=\"35\" y=\"476.6074\">analysisCase: AnalysisCase</text><line style=\"stroke: #383838; stroke-width: 1.5;\" x1=\"33\" x2=\"207\" y1=\"484.4375\" y2=\"484.4375\"/><!--MD5=[96f4274e9e20536e775497830990834d]\n",
       "class E10--><rect fill=\"#FFFFFF\" height=\"45.9375\" id=\"E10\" rx=\"10\" ry=\"10\" style=\"stroke: #383838; stroke-width: 1.5;\" width=\"140\" x=\"32\" y=\"580\"/><text fill=\"#000000\" font-family=\"sans-serif\" font-size=\"12\" font-style=\"italic\" lengthAdjust=\"spacingAndGlyphs\" textLength=\"91\" x=\"56.5\" y=\"596.1387\">«requirement»</text><text fill=\"#000000\" font-family=\"sans-serif\" font-size=\"12\" lengthAdjust=\"spacingAndGlyphs\" textLength=\"134\" x=\"35\" y=\"610.1074\">obj: AnalysisObjective</text><line style=\"stroke: #383838; stroke-width: 1.5;\" x1=\"33\" x2=\"171\" y1=\"617.9375\" y2=\"617.9375\"/><!--MD5=[1dd1bfd58a279cf63c5f349dbc8fc6a1]\n",
       "class E11--><rect fill=\"#FFFFFF\" height=\"45.9375\" id=\"E11\" rx=\"10\" ry=\"10\" style=\"stroke: #383838; stroke-width: 1.5;\" width=\"138\" x=\"209\" y=\"41\"/><text fill=\"#000000\" font-family=\"sans-serif\" font-size=\"12\" font-style=\"italic\" lengthAdjust=\"spacingAndGlyphs\" textLength=\"40\" x=\"258\" y=\"57.1387\">«part»</text><text fill=\"#000000\" font-family=\"sans-serif\" font-size=\"12\" lengthAdjust=\"spacingAndGlyphs\" textLength=\"132\" x=\"212\" y=\"71.1074\">analysisContext: Part</text><line style=\"stroke: #383838; stroke-width: 1.5;\" x1=\"210\" x2=\"346\" y1=\"78.9375\" y2=\"78.9375\"/><!--MD5=[49a0ec8f00dab7302a31f22d0f0fe584]\n",
       "class E12--><rect fill=\"#FFFFFF\" height=\"88.3516\" id=\"E12\" rx=\"10\" ry=\"10\" style=\"stroke: #383838; stroke-width: 1.5;\" width=\"168\" x=\"194\" y=\"148\"/><text fill=\"#000000\" font-family=\"sans-serif\" font-size=\"12\" font-style=\"italic\" lengthAdjust=\"spacingAndGlyphs\" textLength=\"64\" x=\"246\" y=\"164.1387\">«analysis»</text><text fill=\"#000000\" font-family=\"sans-serif\" font-size=\"12\" lengthAdjust=\"spacingAndGlyphs\" textLength=\"162\" x=\"197\" y=\"178.1074\">analysisPlan: AnalysisPlan</text><line style=\"stroke: #383838; stroke-width: 1.5;\" x1=\"195\" x2=\"361\" y1=\"185.9375\" y2=\"185.9375\"/><text fill=\"#000000\" font-family=\"sans-serif\" font-size=\"11\" lengthAdjust=\"spacingAndGlyphs\" textLength=\"50\" x=\"200\" y=\"216.9526\">v: V= vv;</text><text fill=\"#000000\" font-family=\"sans-serif\" font-size=\"11\" font-style=\"italic\" lengthAdjust=\"spacingAndGlyphs\" textLength=\"107\" x=\"200\" y=\"229.7573\">:&gt;&gt;AnalysisPlan::v</text><line style=\"stroke: #383838; stroke-width: 1.0;\" x1=\"195\" x2=\"247\" y1=\"200.3398\" y2=\"200.3398\"/><text fill=\"#000000\" font-family=\"sans-serif\" font-size=\"11\" lengthAdjust=\"spacingAndGlyphs\" textLength=\"62\" x=\"247\" y=\"203.6479\">references</text><line style=\"stroke: #383838; stroke-width: 1.0;\" x1=\"309\" x2=\"361\" y1=\"200.3398\" y2=\"200.3398\"/><!--MD5=[ee3c913d1a06f366521f9ef512b67efe]\n",
       "class E13--><rect fill=\"#FFFFFF\" height=\"45.9375\" id=\"E13\" rx=\"10\" ry=\"10\" style=\"stroke: #383838; stroke-width: 1.5;\" width=\"151\" x=\"280.5\" y=\"313\"/><text fill=\"#000000\" font-family=\"sans-serif\" font-size=\"12\" font-style=\"italic\" lengthAdjust=\"spacingAndGlyphs\" textLength=\"91\" x=\"310.5\" y=\"329.1387\">«requirement»</text><text fill=\"#000000\" font-family=\"sans-serif\" font-size=\"12\" lengthAdjust=\"spacingAndGlyphs\" textLength=\"145\" x=\"283.5\" y=\"343.1074\">obj: RequirementCheck</text><line style=\"stroke: #383838; stroke-width: 1.5;\" x1=\"281.5\" x2=\"430.5\" y1=\"350.9375\" y2=\"350.9375\"/><!--MD5=[05d275557350bfb9b23a4ef7222b4c39]\n",
       "link E3 to E2--><path d=\"M353,626.19 C353,645.1 353,672.96 353,697.05 \" fill=\"none\" id=\"E3-&gt;E2\" style=\"stroke: #383838; stroke-width: 1.0;\"/><polygon fill=\"#FFFFFF\" points=\"353,717.35,346,698.35,360,698.35,353,717.35\" style=\"stroke: #383838; stroke-width: 1.0;\"/><ellipse cx=\"348\" cy=\"692.65\" fill=\"#383838\" rx=\"2\" ry=\"2\" style=\"stroke: #383838; stroke-width: 1.0;\"/><ellipse cx=\"358\" cy=\"692.65\" fill=\"#383838\" rx=\"2\" ry=\"2\" style=\"stroke: #383838; stroke-width: 1.0;\"/><!--MD5=[15ebcb19ae302d9b601edb458606d402]\n",
       "link E5 to E2--><path d=\"M258.9,626.21 C263.85,640.29 271.34,658.51 281,673 C290.76,687.63 303.7,701.84 315.93,713.77 \" fill=\"none\" id=\"E5-&gt;E2\" style=\"stroke: #383838; stroke-width: 1.0; stroke-dasharray: 7.0,7.0;\"/><polygon fill=\"#383838\" points=\"319.69,717.4,315.9879,708.2734,316.0908,713.9293,310.4349,714.0322,319.69,717.4\" style=\"stroke: #383838; stroke-width: 1.0;\"/><text fill=\"#000000\" font-family=\"sans-serif\" font-size=\"13\" lengthAdjust=\"spacingAndGlyphs\" textLength=\"62\" x=\"282\" y=\"669.0669\">«subject»</text><!--MD5=[9120cf2e5df3bff93db8f754bbbc09b4]\n",
       "link E5 to E6--><path d=\"M220.54,626.18 C209.54,634.77 197.56,645.15 188,656 C177.43,667.99 167.59,682.21 159.19,695.75 \" fill=\"none\" id=\"E5-&gt;E6\" style=\"stroke: #383838; stroke-width: 1.0;\"/><polygon fill=\"#383838\" points=\"154.94,702.76,161.6576,697.4805,156.5297,694.3652,154.94,702.76\" style=\"stroke: #383838; stroke-width: 1.0;\"/><text fill=\"#000000\" font-family=\"sans-serif\" font-size=\"13\" lengthAdjust=\"spacingAndGlyphs\" textLength=\"73\" x=\"189\" y=\"669.0669\">«objective»</text><!--MD5=[f667431f98296947986a1a7595a31603]\n",
       "link E6 to E4--><path d=\"M132,791.19 C132,804.11 132,818.41 132,831.87 \" fill=\"none\" id=\"E6-&gt;E4\" style=\"stroke: #383838; stroke-width: 1.0;\"/><polygon fill=\"#FFFFFF\" points=\"132,851.98,125,832.98,139,832.98,132,851.98\" style=\"stroke: #383838; stroke-width: 1.0;\"/><ellipse cx=\"127\" cy=\"827.28\" fill=\"#383838\" rx=\"2\" ry=\"2\" style=\"stroke: #383838; stroke-width: 1.0;\"/><ellipse cx=\"137\" cy=\"827.28\" fill=\"#383838\" rx=\"2\" ry=\"2\" style=\"stroke: #383838; stroke-width: 1.0;\"/><!--MD5=[583832df87f4419a098336a29a52fa00]\n",
       "link E7 to E2--><path d=\"M245,352.87 C283.11,366.41 332.96,384.4 342,389 C375.39,406.01 394.37,402.93 412,436 C460.85,527.64 405.01,653.54 372.73,712.72 \" fill=\"none\" id=\"E7-&gt;E2\" style=\"stroke: #383838; stroke-width: 1.0; stroke-dasharray: 7.0,7.0;\"/><polygon fill=\"#383838\" points=\"370.26,717.2,378.1126,711.2555,372.6773,712.8232,371.1096,707.3879,370.26,717.2\" style=\"stroke: #383838; stroke-width: 1.0;\"/><text fill=\"#000000\" font-family=\"sans-serif\" font-size=\"13\" lengthAdjust=\"spacingAndGlyphs\" textLength=\"62\" x=\"431\" y=\"546.0669\">«subject»</text><!--MD5=[79bc8f324ef4d02c541433f2e6e513c3]\n",
       "link E7 to E8--><path d=\"M219.92,359.01 C237.35,378.27 263.08,406.7 283.95,429.76 \" fill=\"none\" id=\"E7-&gt;E8\" style=\"stroke: #383838; stroke-width: 1.0;\"/><polygon fill=\"#383838\" points=\"289.42,435.81,286.2823,427.863,281.8306,431.8857,289.42,435.81\" style=\"stroke: #383838; stroke-width: 1.0;\"/><text fill=\"#000000\" font-family=\"sans-serif\" font-size=\"13\" lengthAdjust=\"spacingAndGlyphs\" textLength=\"73\" x=\"260\" y=\"402.0669\">«objective»</text><!--MD5=[bfc3ddf2e613be37104f658f09af896c]\n",
       "link E9 to E5--><path d=\"M148.4,492.58 C162.6,504.09 179.75,518.71 194,533 C203.65,542.67 213.46,553.77 222.2,564.19 \" fill=\"none\" id=\"E9-&gt;E5\" style=\"stroke: #383838; stroke-width: 1.0;\"/><polygon fill=\"#FFFFFF\" points=\"234.88,579.72,217.4416,569.4291,228.2864,560.5752,234.88,579.72\" style=\"stroke: #383838; stroke-width: 1.0;\"/><ellipse cx=\"215.3861\" cy=\"563.7489\" fill=\"#383838\" rx=\"2\" ry=\"2\" style=\"stroke: #383838; stroke-width: 1.0;\"/><ellipse cx=\"223.1323\" cy=\"557.4246\" fill=\"#383838\" rx=\"2\" ry=\"2\" style=\"stroke: #383838; stroke-width: 1.0;\"/><!--MD5=[e4a10ef82d0e328e31cac39a31e58dda]\n",
       "reverse link E7 to E9--><path d=\"M179.71,370.36 C165.2,394.21 146.08,425.63 133.43,446.42 \" fill=\"none\" id=\"E7&lt;-E9\" style=\"stroke: #383838; stroke-width: 1.0;\"/><polygon fill=\"#383838\" points=\"186.61,359.01,180.0734,362.0551,180.3702,369.2601,186.9068,366.215,186.61,359.01\" style=\"stroke: #383838; stroke-width: 1.0;\"/><!--MD5=[35e5f1cbde42fa304a029880aa2bc7f2]\n",
       "link E9 to E10--><path d=\"M116.99,492.51 C114.01,514.22 109.45,547.59 106.14,571.78 \" fill=\"none\" id=\"E9-&gt;E10\" style=\"stroke: #383838; stroke-width: 1.0;\"/><polygon fill=\"#383838\" points=\"105.02,579.92,109.0776,572.401,103.1331,571.587,105.02,579.92\" style=\"stroke: #383838; stroke-width: 1.0;\"/><text fill=\"#000000\" font-family=\"sans-serif\" font-size=\"13\" lengthAdjust=\"spacingAndGlyphs\" textLength=\"73\" x=\"112\" y=\"546.0669\">«objective»</text><!--MD5=[198716bf12f04006f5c20d61bde6d80d]\n",
       "link E10 to E6--><path d=\"M103.57,626.22 C104.78,639.82 106.8,657.53 110,673 C110.69,676.34 111.47,679.75 112.3,683.18 \" fill=\"none\" id=\"E10-&gt;E6\" style=\"stroke: #383838; stroke-width: 1.0;\"/><polygon fill=\"#FFFFFF\" points=\"117.58,702.7,105.8698,686.1812,119.3859,682.5322,117.58,702.7\" style=\"stroke: #383838; stroke-width: 1.0;\"/><line style=\"stroke: #383838; stroke-width: 2.0;\" x1=\"104.8794\" x2=\"118.3955\" y1=\"682.5125\" y2=\"678.8636\"/><!--MD5=[ae660f5ecd7ddb04a8913625960940af]\n",
       "link E12 to E7--><path d=\"M254.17,236.38 C243.87,255.14 231.88,276.96 221.81,295.29 \" fill=\"none\" id=\"E12-&gt;E7\" style=\"stroke: #383838; stroke-width: 1.0;\"/><polygon fill=\"#FFFFFF\" points=\"212.16,312.87,215.1723,292.8469,227.4429,299.5872,212.16,312.87\" style=\"stroke: #383838; stroke-width: 1.0;\"/><ellipse cx=\"219.6695\" cy=\"288.8139\" fill=\"#383838\" rx=\"2\" ry=\"2\" style=\"stroke: #383838; stroke-width: 1.0;\"/><ellipse cx=\"228.4342\" cy=\"293.6284\" fill=\"#383838\" rx=\"2\" ry=\"2\" style=\"stroke: #383838; stroke-width: 1.0;\"/><!--MD5=[94adabc162ce7e41b39f13be14fbaeb3]\n",
       "reverse link E11 to E12--><path d=\"M278,100.45 C278,115.17 278,132.39 278,147.84 \" fill=\"none\" id=\"E11&lt;-E12\" style=\"stroke: #383838; stroke-width: 1.0;\"/><polygon fill=\"#383838\" points=\"278,87.24,274,93.24,278,99.24,282,93.24,278,87.24\" style=\"stroke: #383838; stroke-width: 1.0;\"/><!--MD5=[e2a9ac97dcd3257bb5342dae06547bad]\n",
       "link E12 to E13--><path d=\"M301.83,236.38 C314.2,258.89 328.98,285.81 339.97,305.82 \" fill=\"none\" id=\"E12-&gt;E13\" style=\"stroke: #383838; stroke-width: 1.0;\"/><polygon fill=\"#383838\" points=\"343.84,312.87,342.6199,304.4136,337.3604,307.3009,343.84,312.87\" style=\"stroke: #383838; stroke-width: 1.0;\"/><text fill=\"#000000\" font-family=\"sans-serif\" font-size=\"13\" lengthAdjust=\"spacingAndGlyphs\" textLength=\"73\" x=\"327\" y=\"279.0669\">«objective»</text><!--MD5=[14b0c5c43fe635c2ebcdd2e0a497476a]\n",
       "@startuml\r\n",
       "skinparam monochrome true\r\n",
       "skinparam classbackgroundcolor white\r\n",
       "skinparam shadowing false\r\n",
       "skinparam wrapWidth 300\r\n",
       "hide circle\r\n",
       "\r\n",
       "package \"AnalysisTest\" as E1   {\r\n",
       "comp def \"V\" as E2  <<(T,blue)part def>> {\r\n",
       "m: DataValue\r\n",
       "}\r\n",
       "comp usage \"vv: V\" as E3  <<(T,blue)part>> {\r\n",
       "}\r\n",
       "comp def \"AnalysisObjective\" as E4  <<(T,blue)requirement def>> {\r\n",
       "...\r\n",
       "- -\r\n",
       "}\r\n",
       "comp def \"AnalysisCase\" as E5 <<analysis def>> {\r\n",
       "}\r\n",
       "comp usage \"obj: AnalysisObjective\" as E6  <<(T,blue)requirement>> {\r\n",
       "- -references- -\r\n",
       "subj: Anything= result; \\n//:>>AnalysisObjective::subj// \r\n",
       "}\r\n",
       "comp def \"AnalysisPlan\" as E7 <<analysis def>> {\r\n",
       "}\r\n",
       "comp usage \"obj: RequirementCheck\" as E8  <<(T,blue)requirement>> {\r\n",
       "...\r\n",
       "- -\r\n",
       "}\r\n",
       "comp usage \"analysisCase: AnalysisCase\" as E9 <<analysis>> {\r\n",
       "}\r\n",
       "comp usage \"obj: AnalysisObjective\" as E10  <<(T,blue)requirement>> {\r\n",
       "}\r\n",
       "comp usage \"analysisContext: Part\" as E11  <<(T,blue)part>> {\r\n",
       "}\r\n",
       "comp usage \"analysisPlan: AnalysisPlan\" as E12 <<analysis>> {\r\n",
       "- -references- -\r\n",
       "v: V= vv; \\n//:>>AnalysisPlan::v// \r\n",
       "}\r\n",
       "comp usage \"obj: RequirementCheck\" as E13  <<(T,blue)requirement>> {\r\n",
       "}\r\n",
       "E3 - -:|> E2\r\n",
       "E5 ..> E2 : <<subject>>\r\n",
       "E5 - ->> E6 : <<objective>>\r\n",
       "E6 - -:|> E4\r\n",
       "E7 ..> E2 : <<subject>>\r\n",
       "E7 - ->> E8 : <<objective>>\r\n",
       "E9 - -:|> E5\r\n",
       "E7 *- - E9\r\n",
       "E9 - ->> E10 : <<objective>>\r\n",
       "E10 - -||> E6\r\n",
       "E12 - -:|> E7\r\n",
       "E11 *- - E12\r\n",
       "E12 - ->> E13 : <<objective>>\r\n",
       "}\r\n",
       "@enduml\r\n",
       "\n",
       "PlantUML version 1.2020.13(Sat Jun 13 12:26:38 UTC 2020)\n",
       "(EPL source distribution)\n",
       "Java Runtime: OpenJDK Runtime Environment\n",
       "JVM: OpenJDK 64-Bit Server VM\n",
       "Default Encoding: UTF-8\n",
       "Language: en\n",
       "Country: null\n",
       "--></g></svg>"
      ]
     },
     "execution_count": 38,
     "metadata": {},
     "output_type": "execute_result"
    }
   ],
   "source": [
    "%viz --style=\"DEFAULT\" --view=\"Tree\" \"AnalysisTest\""
   ]
  },
  {
   "cell_type": "code",
   "execution_count": 39,
   "id": "searching-freedom",
   "metadata": {
    "execution": {
     "iopub.execute_input": "2021-03-26T09:41:47.617247Z",
     "iopub.status.busy": "2021-03-26T09:41:47.616847Z",
     "iopub.status.idle": "2021-03-26T09:41:47.618679Z",
     "shell.execute_reply": "2021-03-26T09:41:47.619038Z"
    }
   },
   "outputs": [
    {
     "data": {
      "text/plain": [
       "java.lang.IllegalArgumentException: Invalid View: State View candidates are: Default Tree StateMachine Interconnection Activity Sequence MIXED \n",
       "\tat org.omg.sysml.plantuml.SysML2PlantUMLSvc.setView(SysML2PlantUMLSvc.java:63)\n",
       "\tat org.omg.sysml.interactive.SysMLInteractive.viz(SysMLInteractive.java:286)\n",
       "\tat org.omg.sysml.jupyter.kernel.magic.Viz.viz(Viz.java:47)\n",
       "\tat jdk.internal.reflect.GeneratedMethodAccessor13.invoke(Unknown Source)\n",
       "\tat java.base/jdk.internal.reflect.DelegatingMethodAccessorImpl.invoke(DelegatingMethodAccessorImpl.java:43)\n",
       "\tat java.base/java.lang.reflect.Method.invoke(Method.java:568)\n",
       "\tat io.github.spencerpark.jupyter.kernel.magic.registry.Magics.invoke(Magics.java:89)\n",
       "\tat io.github.spencerpark.jupyter.kernel.magic.registry.Magics.access$000(Magics.java:8)\n",
       "\tat io.github.spencerpark.jupyter.kernel.magic.registry.Magics$LineReflectionMagicFunction.execute(Magics.java:149)\n",
       "\tat io.github.spencerpark.jupyter.kernel.magic.registry.Magics.applyLineMagic(Magics.java:26)\n",
       "\tat org.omg.sysml.jupyter.kernel.SysMLKernel.eval(SysMLKernel.java:76)\n",
       "\tat io.github.spencerpark.jupyter.kernel.BaseKernel.handleExecuteRequest(BaseKernel.java:334)\n",
       "\tat io.github.spencerpark.jupyter.channels.ShellChannel.lambda$bind$0(ShellChannel.java:64)\n",
       "\tat io.github.spencerpark.jupyter.channels.Loop.lambda$new$0(Loop.java:21)\n",
       "\tat io.github.spencerpark.jupyter.channels.Loop.run(Loop.java:78)\n"
      ]
     },
     "execution_count": 39,
     "metadata": {},
     "output_type": "execute_result"
    }
   ],
   "source": [
    "%viz --style=\"DEFAULT\" --view=\"State\" \"AnalysisTest\""
   ]
  },
  {
   "cell_type": "code",
   "execution_count": 40,
   "id": "indoor-detective",
   "metadata": {
    "execution": {
     "iopub.execute_input": "2021-03-26T09:41:47.669537Z",
     "iopub.status.busy": "2021-03-26T09:41:47.669206Z",
     "iopub.status.idle": "2021-03-26T09:41:47.696355Z",
     "shell.execute_reply": "2021-03-26T09:41:47.692611Z"
    }
   },
   "outputs": [
    {
     "data": {
      "image/svg+xml": [
       "<?xml version=\"1.0\" encoding=\"UTF-8\" standalone=\"no\"?><svg xmlns=\"http://www.w3.org/2000/svg\" xmlns:xlink=\"http://www.w3.org/1999/xlink\" contentScriptType=\"application/ecmascript\" contentStyleType=\"text/css\" height=\"202px\" preserveAspectRatio=\"none\" style=\"width:957px;height:202px;\" version=\"1.1\" viewBox=\"0 0 957 202\" width=\"957px\" zoomAndPan=\"magnify\"><defs/><g><!--MD5=[fbc87193dbaf4d95561dea2c320d4a47]\n",
       "cluster E1--><polygon fill=\"#FFFFFF\" points=\"16,6,122,6,129,28.2969,935,28.2969,935,190,16,190,16,6\" style=\"stroke: #000000; stroke-width: 1.5;\"/><line style=\"stroke: #000000; stroke-width: 1.5;\" x1=\"16\" x2=\"129\" y1=\"28.2969\" y2=\"28.2969\"/><text fill=\"#000000\" font-family=\"sans-serif\" font-size=\"14\" font-weight=\"bold\" lengthAdjust=\"spacingAndGlyphs\" textLength=\"100\" x=\"20\" y=\"20.9951\">AnalysisTest</text><!--MD5=[e4f7fae6ed58524ba242bb0b0d3be6b7]\n",
       "cluster E2--><rect fill=\"#FFFFFF\" height=\"117\" style=\"stroke: #000000; stroke-width: 1.5;\" width=\"144\" x=\"767\" y=\"49\"/><text fill=\"#000000\" font-family=\"sans-serif\" font-size=\"14\" font-style=\"italic\" lengthAdjust=\"spacingAndGlyphs\" textLength=\"71\" x=\"803.5\" y=\"63.9951\">«part def»</text><text fill=\"#000000\" font-family=\"sans-serif\" font-size=\"14\" font-weight=\"bold\" lengthAdjust=\"spacingAndGlyphs\" textLength=\"11\" x=\"833.5\" y=\"80.292\">V</text><!--MD5=[270fce915f116d4de14055a7c1d9a0f3]\n",
       "class E5--><rect fill=\"#FFFFFF\" height=\"53.9375\" id=\"E5\" style=\"stroke: #383838; stroke-width: 1.5;\" width=\"117\" x=\"630.5\" y=\"98\"/><text fill=\"#000000\" font-family=\"sans-serif\" font-size=\"12\" font-style=\"italic\" lengthAdjust=\"spacingAndGlyphs\" textLength=\"115\" x=\"631.5\" y=\"114.1387\">«requirement def»</text><text fill=\"#000000\" font-family=\"sans-serif\" font-size=\"12\" lengthAdjust=\"spacingAndGlyphs\" textLength=\"107\" x=\"635.5\" y=\"128.1074\">AnalysisObjective</text><line style=\"stroke: #383838; stroke-width: 1.5;\" x1=\"631.5\" x2=\"746.5\" y1=\"135.9375\" y2=\"135.9375\"/><line style=\"stroke: #383838; stroke-width: 1.5;\" x1=\"631.5\" x2=\"746.5\" y1=\"143.9375\" y2=\"143.9375\"/><!--MD5=[60a26617385b1d2d0262a64233df1f8d]\n",
       "class E6--><rect fill=\"#FFFFFF\" height=\"53.9375\" id=\"E6\" style=\"stroke: #383838; stroke-width: 1.5;\" width=\"121\" x=\"474.5\" y=\"98\"/><text fill=\"#000000\" font-family=\"sans-serif\" font-size=\"12\" font-style=\"italic\" lengthAdjust=\"spacingAndGlyphs\" textLength=\"119\" x=\"475.5\" y=\"114.1387\">«analysisCase def»</text><text fill=\"#000000\" font-family=\"sans-serif\" font-size=\"12\" lengthAdjust=\"spacingAndGlyphs\" textLength=\"81\" x=\"494.5\" y=\"128.1074\">AnalysisCase</text><line style=\"stroke: #383838; stroke-width: 1.5;\" x1=\"475.5\" x2=\"594.5\" y1=\"135.9375\" y2=\"135.9375\"/><line style=\"stroke: #383838; stroke-width: 1.5;\" x1=\"475.5\" x2=\"594.5\" y1=\"143.9375\" y2=\"143.9375\"/><!--MD5=[2156ba9850f5573cc1fc38a6a4b2f02b]\n",
       "class E7--><rect fill=\"#FFFFFF\" height=\"53.9375\" id=\"E7\" style=\"stroke: #383838; stroke-width: 1.5;\" width=\"121\" x=\"318.5\" y=\"98\"/><text fill=\"#000000\" font-family=\"sans-serif\" font-size=\"12\" font-style=\"italic\" lengthAdjust=\"spacingAndGlyphs\" textLength=\"119\" x=\"319.5\" y=\"114.1387\">«analysisCase def»</text><text fill=\"#000000\" font-family=\"sans-serif\" font-size=\"12\" lengthAdjust=\"spacingAndGlyphs\" textLength=\"77\" x=\"340.5\" y=\"128.1074\">AnalysisPlan</text><line style=\"stroke: #383838; stroke-width: 1.5;\" x1=\"319.5\" x2=\"438.5\" y1=\"135.9375\" y2=\"135.9375\"/><line style=\"stroke: #383838; stroke-width: 1.5;\" x1=\"319.5\" x2=\"438.5\" y1=\"143.9375\" y2=\"143.9375\"/><g id=\"E1.E2.E3\"><rect fill=\"#FFFFFF\" height=\"50\" rx=\"12.5\" ry=\"12.5\" style=\"stroke: #383838; stroke-width: 1.5;\" width=\"112\" x=\"783\" y=\"100\"/><line style=\"stroke: #383838; stroke-width: 1.5;\" x1=\"783\" x2=\"895\" y1=\"126.2969\" y2=\"126.2969\"/><text fill=\"#000000\" font-family=\"sans-serif\" font-size=\"14\" lengthAdjust=\"spacingAndGlyphs\" textLength=\"92\" x=\"793\" y=\"117.9951\">m: DataValue</text></g><g id=\"E1.E4\"><rect fill=\"#FFFFFF\" height=\"50\" rx=\"12.5\" ry=\"12.5\" style=\"stroke: #383838; stroke-width: 1.5;\" width=\"52\" x=\"231\" y=\"100\"/><line style=\"stroke: #383838; stroke-width: 1.5;\" x1=\"231\" x2=\"283\" y1=\"126.2969\" y2=\"126.2969\"/><text fill=\"#000000\" font-family=\"sans-serif\" font-size=\"14\" lengthAdjust=\"spacingAndGlyphs\" textLength=\"32\" x=\"241\" y=\"117.9951\">vv: V</text></g><g id=\"E1.E8\"><rect fill=\"#FFFFFF\" height=\"50\" rx=\"12.5\" ry=\"12.5\" style=\"stroke: #383838; stroke-width: 1.5;\" width=\"164\" x=\"32\" y=\"100\"/><line style=\"stroke: #383838; stroke-width: 1.5;\" x1=\"32\" x2=\"196\" y1=\"126.2969\" y2=\"126.2969\"/><text fill=\"#000000\" font-family=\"sans-serif\" font-size=\"14\" lengthAdjust=\"spacingAndGlyphs\" textLength=\"144\" x=\"42\" y=\"117.9951\">analysisContext: Part</text></g><!--MD5=[2ad47143104129fd75808588ca271f41]\n",
       "@startuml\r\n",
       "skinparam ranksep 8\r\n",
       "skinparam rectangle {\r\n",
       " backgroundColor<<block>> LightGreen\r\n",
       "}\r\n",
       "skinparam monochrome true\r\n",
       "skinparam classbackgroundcolor white\r\n",
       "skinparam shadowing false\r\n",
       "skinparam wrapWidth 300\r\n",
       "hide circle\r\n",
       "\r\n",
       "package \"AnalysisTest\" as E1   {\r\n",
       "rec def \"V\" as E2  <<part def>> {\r\n",
       "rec usage \"m: DataValue\" as E3  <<attribute>> {\r\n",
       "}\r\n",
       "}\r\n",
       "rec usage \"vv: V\" as E4  {\r\n",
       "}\r\n",
       "def \"AnalysisObjective\" as E5  <<requirement def>> \r\n",
       "def \"AnalysisCase\" as E6  <<analysisCase def>> \r\n",
       "def \"AnalysisPlan\" as E7  <<analysisCase def>> \r\n",
       "rec usage \"analysisContext: Part\" as E8  {\r\n",
       "}\r\n",
       "}\r\n",
       "@enduml\r\n",
       "\n",
       "PlantUML version 1.2020.13(Sat Jun 13 12:26:38 UTC 2020)\n",
       "(EPL source distribution)\n",
       "Java Runtime: OpenJDK Runtime Environment\n",
       "JVM: OpenJDK 64-Bit Server VM\n",
       "Default Encoding: UTF-8\n",
       "Language: en\n",
       "Country: null\n",
       "--></g></svg>"
      ]
     },
     "execution_count": 40,
     "metadata": {},
     "output_type": "execute_result"
    }
   ],
   "source": [
    "%viz --style=\"DEFAULT\" --view=\"Interconnection\" \"AnalysisTest\""
   ]
  },
  {
   "cell_type": "code",
   "execution_count": 41,
   "id": "reported-finland",
   "metadata": {
    "execution": {
     "iopub.execute_input": "2021-03-26T09:41:47.746110Z",
     "iopub.status.busy": "2021-03-26T09:41:47.745749Z",
     "iopub.status.idle": "2021-03-26T09:41:47.747672Z",
     "shell.execute_reply": "2021-03-26T09:41:47.747346Z"
    }
   },
   "outputs": [
    {
     "data": {
      "text/plain": [
       "java.lang.IllegalArgumentException: Invalid View: Action View candidates are: Default Tree StateMachine Interconnection Activity Sequence MIXED \n",
       "\tat org.omg.sysml.plantuml.SysML2PlantUMLSvc.setView(SysML2PlantUMLSvc.java:63)\n",
       "\tat org.omg.sysml.interactive.SysMLInteractive.viz(SysMLInteractive.java:286)\n",
       "\tat org.omg.sysml.jupyter.kernel.magic.Viz.viz(Viz.java:47)\n",
       "\tat jdk.internal.reflect.GeneratedMethodAccessor13.invoke(Unknown Source)\n",
       "\tat java.base/jdk.internal.reflect.DelegatingMethodAccessorImpl.invoke(DelegatingMethodAccessorImpl.java:43)\n",
       "\tat java.base/java.lang.reflect.Method.invoke(Method.java:568)\n",
       "\tat io.github.spencerpark.jupyter.kernel.magic.registry.Magics.invoke(Magics.java:89)\n",
       "\tat io.github.spencerpark.jupyter.kernel.magic.registry.Magics.access$000(Magics.java:8)\n",
       "\tat io.github.spencerpark.jupyter.kernel.magic.registry.Magics$LineReflectionMagicFunction.execute(Magics.java:149)\n",
       "\tat io.github.spencerpark.jupyter.kernel.magic.registry.Magics.applyLineMagic(Magics.java:26)\n",
       "\tat org.omg.sysml.jupyter.kernel.SysMLKernel.eval(SysMLKernel.java:76)\n",
       "\tat io.github.spencerpark.jupyter.kernel.BaseKernel.handleExecuteRequest(BaseKernel.java:334)\n",
       "\tat io.github.spencerpark.jupyter.channels.ShellChannel.lambda$bind$0(ShellChannel.java:64)\n",
       "\tat io.github.spencerpark.jupyter.channels.Loop.lambda$new$0(Loop.java:21)\n",
       "\tat io.github.spencerpark.jupyter.channels.Loop.run(Loop.java:78)\n"
      ]
     },
     "execution_count": 41,
     "metadata": {},
     "output_type": "execute_result"
    }
   ],
   "source": [
    "%viz --style=\"DEFAULT\" --view=\"Action\" \"AnalysisTest\""
   ]
  },
  {
   "cell_type": "code",
   "execution_count": 42,
   "id": "demanding-dictionary",
   "metadata": {
    "execution": {
     "iopub.execute_input": "2021-03-26T09:41:47.800577Z",
     "iopub.status.busy": "2021-03-26T09:41:47.800014Z",
     "iopub.status.idle": "2021-03-26T09:41:47.899037Z",
     "shell.execute_reply": "2021-03-26T09:41:47.897638Z"
    }
   },
   "outputs": [
    {
     "data": {
      "image/svg+xml": [
       "<?xml version=\"1.0\" encoding=\"UTF-8\" standalone=\"no\"?><svg xmlns=\"http://www.w3.org/2000/svg\" xmlns:xlink=\"http://www.w3.org/1999/xlink\" contentScriptType=\"application/ecmascript\" contentStyleType=\"text/css\" height=\"947px\" preserveAspectRatio=\"none\" style=\"width:505px;height:947px;\" version=\"1.1\" viewBox=\"0 0 505 947\" width=\"505px\" zoomAndPan=\"magnify\"><defs/><g><!--MD5=[fbc87193dbaf4d95561dea2c320d4a47]\n",
       "cluster E1--><polygon fill=\"#FFFFFF\" points=\"16,6,122,6,129,28.2969,448,28.2969,448,935,16,935,16,6\" style=\"stroke: #000000; stroke-width: 1.5;\"/><line style=\"stroke: #000000; stroke-width: 1.5;\" x1=\"16\" x2=\"129\" y1=\"28.2969\" y2=\"28.2969\"/><text fill=\"#000000\" font-family=\"sans-serif\" font-size=\"14\" font-weight=\"bold\" lengthAdjust=\"spacingAndGlyphs\" textLength=\"100\" x=\"20\" y=\"20.9951\">AnalysisTest</text><!--MD5=[b4997ac47864f28c2f74865a473b2911]\n",
       "class E2--><rect fill=\"#FFFFFF\" height=\"58.7422\" id=\"E2\" style=\"stroke: #383838; stroke-width: 1.5;\" width=\"88\" x=\"309\" y=\"717.5\"/><text fill=\"#000000\" font-family=\"sans-serif\" font-size=\"12\" font-style=\"italic\" lengthAdjust=\"spacingAndGlyphs\" textLength=\"64\" x=\"321\" y=\"733.6387\">«part def»</text><text fill=\"#000000\" font-family=\"sans-serif\" font-size=\"12\" lengthAdjust=\"spacingAndGlyphs\" textLength=\"8\" x=\"349\" y=\"747.6074\">V</text><line style=\"stroke: #383838; stroke-width: 1.5;\" x1=\"310\" x2=\"396\" y1=\"755.4375\" y2=\"755.4375\"/><text fill=\"#000000\" font-family=\"sans-serif\" font-size=\"11\" lengthAdjust=\"spacingAndGlyphs\" textLength=\"76\" x=\"315\" y=\"769.6479\">m: DataValue</text><!--MD5=[09b614a08d8cba4a07c9adeb5e0fee81]\n",
       "class E3--><rect fill=\"#FFFFFF\" height=\"45.9375\" id=\"E3\" rx=\"10\" ry=\"10\" style=\"stroke: #383838; stroke-width: 1.5;\" width=\"42\" x=\"332\" y=\"580\"/><text fill=\"#000000\" font-family=\"sans-serif\" font-size=\"12\" font-style=\"italic\" lengthAdjust=\"spacingAndGlyphs\" textLength=\"40\" x=\"333\" y=\"596.1387\">«part»</text><text fill=\"#000000\" font-family=\"sans-serif\" font-size=\"12\" lengthAdjust=\"spacingAndGlyphs\" textLength=\"28\" x=\"339\" y=\"610.1074\">vv: V</text><line style=\"stroke: #383838; stroke-width: 1.5;\" x1=\"333\" x2=\"373\" y1=\"617.9375\" y2=\"617.9375\"/><!--MD5=[ebbe1d658d1005bcc118a6aa81145e00]\n",
       "class E4--><rect fill=\"#FFFFFF\" height=\"66.7422\" id=\"E4\" style=\"stroke: #383838; stroke-width: 1.5;\" width=\"117\" x=\"73.5\" y=\"852\"/><text fill=\"#000000\" font-family=\"sans-serif\" font-size=\"12\" font-style=\"italic\" lengthAdjust=\"spacingAndGlyphs\" textLength=\"115\" x=\"74.5\" y=\"868.1387\">«requirement def»</text><text fill=\"#000000\" font-family=\"sans-serif\" font-size=\"12\" lengthAdjust=\"spacingAndGlyphs\" textLength=\"107\" x=\"78.5\" y=\"882.1074\">AnalysisObjective</text><line style=\"stroke: #383838; stroke-width: 1.5;\" x1=\"74.5\" x2=\"189.5\" y1=\"889.9375\" y2=\"889.9375\"/><text fill=\"#000000\" font-family=\"sans-serif\" font-size=\"11\" lengthAdjust=\"spacingAndGlyphs\" textLength=\"12\" x=\"79.5\" y=\"904.1479\">...</text><line style=\"stroke: #383838; stroke-width: 1.0;\" x1=\"74.5\" x2=\"189.5\" y1=\"910.7422\" y2=\"910.7422\"/><!--MD5=[270fce915f116d4de14055a7c1d9a0f3]\n",
       "class E5--><rect fill=\"#FFFFFF\" height=\"45.9375\" id=\"E5\" style=\"stroke: #383838; stroke-width: 1.5;\" width=\"90\" x=\"207\" y=\"580\"/><text fill=\"#000000\" font-family=\"sans-serif\" font-size=\"12\" font-style=\"italic\" lengthAdjust=\"spacingAndGlyphs\" textLength=\"88\" x=\"208\" y=\"596.1387\">«analysis def»</text><text fill=\"#000000\" font-family=\"sans-serif\" font-size=\"12\" lengthAdjust=\"spacingAndGlyphs\" textLength=\"81\" x=\"211.5\" y=\"610.1074\">AnalysisCase</text><line style=\"stroke: #383838; stroke-width: 1.5;\" x1=\"208\" x2=\"296\" y1=\"617.9375\" y2=\"617.9375\"/><!--MD5=[60a26617385b1d2d0262a64233df1f8d]\n",
       "class E6--><rect fill=\"#FFFFFF\" height=\"88.3516\" id=\"E6\" rx=\"10\" ry=\"10\" style=\"stroke: #383838; stroke-width: 1.5;\" width=\"165\" x=\"49.5\" y=\"703\"/><text fill=\"#000000\" font-family=\"sans-serif\" font-size=\"12\" font-style=\"italic\" lengthAdjust=\"spacingAndGlyphs\" textLength=\"91\" x=\"86.5\" y=\"719.1387\">«requirement»</text><text fill=\"#000000\" font-family=\"sans-serif\" font-size=\"12\" lengthAdjust=\"spacingAndGlyphs\" textLength=\"134\" x=\"65\" y=\"733.1074\">obj: AnalysisObjective</text><line style=\"stroke: #383838; stroke-width: 1.5;\" x1=\"50.5\" x2=\"213.5\" y1=\"740.9375\" y2=\"740.9375\"/><text fill=\"#000000\" font-family=\"sans-serif\" font-size=\"11\" lengthAdjust=\"spacingAndGlyphs\" textLength=\"130\" x=\"55.5\" y=\"771.9526\">subj: Anything= result;</text><text fill=\"#000000\" font-family=\"sans-serif\" font-size=\"11\" font-style=\"italic\" lengthAdjust=\"spacingAndGlyphs\" textLength=\"153\" x=\"55.5\" y=\"784.7573\">:&gt;&gt;AnalysisObjective::subj</text><line style=\"stroke: #383838; stroke-width: 1.0;\" x1=\"50.5\" x2=\"101\" y1=\"755.3398\" y2=\"755.3398\"/><text fill=\"#000000\" font-family=\"sans-serif\" font-size=\"11\" lengthAdjust=\"spacingAndGlyphs\" textLength=\"62\" x=\"101\" y=\"758.6479\">references</text><line style=\"stroke: #383838; stroke-width: 1.0;\" x1=\"163\" x2=\"213.5\" y1=\"755.3398\" y2=\"755.3398\"/><!--MD5=[2156ba9850f5573cc1fc38a6a4b2f02b]\n",
       "class E7--><rect fill=\"#FFFFFF\" height=\"45.9375\" id=\"E7\" style=\"stroke: #383838; stroke-width: 1.5;\" width=\"90\" x=\"155\" y=\"313\"/><text fill=\"#000000\" font-family=\"sans-serif\" font-size=\"12\" font-style=\"italic\" lengthAdjust=\"spacingAndGlyphs\" textLength=\"88\" x=\"156\" y=\"329.1387\">«analysis def»</text><text fill=\"#000000\" font-family=\"sans-serif\" font-size=\"12\" lengthAdjust=\"spacingAndGlyphs\" textLength=\"77\" x=\"161.5\" y=\"343.1074\">AnalysisPlan</text><line style=\"stroke: #383838; stroke-width: 1.5;\" x1=\"156\" x2=\"244\" y1=\"350.9375\" y2=\"350.9375\"/><!--MD5=[b9389687b975829384b498ac4b7476b2]\n",
       "class E8--><rect fill=\"#FFFFFF\" height=\"66.7422\" id=\"E8\" rx=\"10\" ry=\"10\" style=\"stroke: #383838; stroke-width: 1.5;\" width=\"151\" x=\"243.5\" y=\"436\"/><text fill=\"#000000\" font-family=\"sans-serif\" font-size=\"12\" font-style=\"italic\" lengthAdjust=\"spacingAndGlyphs\" textLength=\"91\" x=\"273.5\" y=\"452.1387\">«requirement»</text><text fill=\"#000000\" font-family=\"sans-serif\" font-size=\"12\" lengthAdjust=\"spacingAndGlyphs\" textLength=\"145\" x=\"246.5\" y=\"466.1074\">obj: RequirementCheck</text><line style=\"stroke: #383838; stroke-width: 1.5;\" x1=\"244.5\" x2=\"393.5\" y1=\"473.9375\" y2=\"473.9375\"/><text fill=\"#000000\" font-family=\"sans-serif\" font-size=\"11\" lengthAdjust=\"spacingAndGlyphs\" textLength=\"12\" x=\"249.5\" y=\"488.1479\">...</text><line style=\"stroke: #383838; stroke-width: 1.0;\" x1=\"244.5\" x2=\"393.5\" y1=\"494.7422\" y2=\"494.7422\"/><!--MD5=[fd4143e9d270a159db93a4ea2a975926]\n",
       "class E9--><rect fill=\"#FFFFFF\" height=\"45.9375\" id=\"E9\" rx=\"10\" ry=\"10\" style=\"stroke: #383838; stroke-width: 1.5;\" width=\"176\" x=\"32\" y=\"446.5\"/><text fill=\"#000000\" font-family=\"sans-serif\" font-size=\"12\" font-style=\"italic\" lengthAdjust=\"spacingAndGlyphs\" textLength=\"64\" x=\"88\" y=\"462.6387\">«analysis»</text><text fill=\"#000000\" font-family=\"sans-serif\" font-size=\"12\" lengthAdjust=\"spacingAndGlyphs\" textLength=\"170\" x=\"35\" y=\"476.6074\">analysisCase: AnalysisCase</text><line style=\"stroke: #383838; stroke-width: 1.5;\" x1=\"33\" x2=\"207\" y1=\"484.4375\" y2=\"484.4375\"/><!--MD5=[96f4274e9e20536e775497830990834d]\n",
       "class E10--><rect fill=\"#FFFFFF\" height=\"45.9375\" id=\"E10\" rx=\"10\" ry=\"10\" style=\"stroke: #383838; stroke-width: 1.5;\" width=\"140\" x=\"32\" y=\"580\"/><text fill=\"#000000\" font-family=\"sans-serif\" font-size=\"12\" font-style=\"italic\" lengthAdjust=\"spacingAndGlyphs\" textLength=\"91\" x=\"56.5\" y=\"596.1387\">«requirement»</text><text fill=\"#000000\" font-family=\"sans-serif\" font-size=\"12\" lengthAdjust=\"spacingAndGlyphs\" textLength=\"134\" x=\"35\" y=\"610.1074\">obj: AnalysisObjective</text><line style=\"stroke: #383838; stroke-width: 1.5;\" x1=\"33\" x2=\"171\" y1=\"617.9375\" y2=\"617.9375\"/><!--MD5=[1dd1bfd58a279cf63c5f349dbc8fc6a1]\n",
       "class E11--><rect fill=\"#FFFFFF\" height=\"45.9375\" id=\"E11\" rx=\"10\" ry=\"10\" style=\"stroke: #383838; stroke-width: 1.5;\" width=\"138\" x=\"209\" y=\"41\"/><text fill=\"#000000\" font-family=\"sans-serif\" font-size=\"12\" font-style=\"italic\" lengthAdjust=\"spacingAndGlyphs\" textLength=\"40\" x=\"258\" y=\"57.1387\">«part»</text><text fill=\"#000000\" font-family=\"sans-serif\" font-size=\"12\" lengthAdjust=\"spacingAndGlyphs\" textLength=\"132\" x=\"212\" y=\"71.1074\">analysisContext: Part</text><line style=\"stroke: #383838; stroke-width: 1.5;\" x1=\"210\" x2=\"346\" y1=\"78.9375\" y2=\"78.9375\"/><!--MD5=[49a0ec8f00dab7302a31f22d0f0fe584]\n",
       "class E12--><rect fill=\"#FFFFFF\" height=\"88.3516\" id=\"E12\" rx=\"10\" ry=\"10\" style=\"stroke: #383838; stroke-width: 1.5;\" width=\"168\" x=\"194\" y=\"148\"/><text fill=\"#000000\" font-family=\"sans-serif\" font-size=\"12\" font-style=\"italic\" lengthAdjust=\"spacingAndGlyphs\" textLength=\"64\" x=\"246\" y=\"164.1387\">«analysis»</text><text fill=\"#000000\" font-family=\"sans-serif\" font-size=\"12\" lengthAdjust=\"spacingAndGlyphs\" textLength=\"162\" x=\"197\" y=\"178.1074\">analysisPlan: AnalysisPlan</text><line style=\"stroke: #383838; stroke-width: 1.5;\" x1=\"195\" x2=\"361\" y1=\"185.9375\" y2=\"185.9375\"/><text fill=\"#000000\" font-family=\"sans-serif\" font-size=\"11\" lengthAdjust=\"spacingAndGlyphs\" textLength=\"50\" x=\"200\" y=\"216.9526\">v: V= vv;</text><text fill=\"#000000\" font-family=\"sans-serif\" font-size=\"11\" font-style=\"italic\" lengthAdjust=\"spacingAndGlyphs\" textLength=\"107\" x=\"200\" y=\"229.7573\">:&gt;&gt;AnalysisPlan::v</text><line style=\"stroke: #383838; stroke-width: 1.0;\" x1=\"195\" x2=\"247\" y1=\"200.3398\" y2=\"200.3398\"/><text fill=\"#000000\" font-family=\"sans-serif\" font-size=\"11\" lengthAdjust=\"spacingAndGlyphs\" textLength=\"62\" x=\"247\" y=\"203.6479\">references</text><line style=\"stroke: #383838; stroke-width: 1.0;\" x1=\"309\" x2=\"361\" y1=\"200.3398\" y2=\"200.3398\"/><!--MD5=[ee3c913d1a06f366521f9ef512b67efe]\n",
       "class E13--><rect fill=\"#FFFFFF\" height=\"45.9375\" id=\"E13\" rx=\"10\" ry=\"10\" style=\"stroke: #383838; stroke-width: 1.5;\" width=\"151\" x=\"280.5\" y=\"313\"/><text fill=\"#000000\" font-family=\"sans-serif\" font-size=\"12\" font-style=\"italic\" lengthAdjust=\"spacingAndGlyphs\" textLength=\"91\" x=\"310.5\" y=\"329.1387\">«requirement»</text><text fill=\"#000000\" font-family=\"sans-serif\" font-size=\"12\" lengthAdjust=\"spacingAndGlyphs\" textLength=\"145\" x=\"283.5\" y=\"343.1074\">obj: RequirementCheck</text><line style=\"stroke: #383838; stroke-width: 1.5;\" x1=\"281.5\" x2=\"430.5\" y1=\"350.9375\" y2=\"350.9375\"/><!--MD5=[05d275557350bfb9b23a4ef7222b4c39]\n",
       "link E3 to E2--><path d=\"M353,626.19 C353,645.1 353,672.96 353,697.05 \" fill=\"none\" id=\"E3-&gt;E2\" style=\"stroke: #383838; stroke-width: 1.0;\"/><polygon fill=\"#FFFFFF\" points=\"353,717.35,346,698.35,360,698.35,353,717.35\" style=\"stroke: #383838; stroke-width: 1.0;\"/><ellipse cx=\"348\" cy=\"692.65\" fill=\"#383838\" rx=\"2\" ry=\"2\" style=\"stroke: #383838; stroke-width: 1.0;\"/><ellipse cx=\"358\" cy=\"692.65\" fill=\"#383838\" rx=\"2\" ry=\"2\" style=\"stroke: #383838; stroke-width: 1.0;\"/><!--MD5=[15ebcb19ae302d9b601edb458606d402]\n",
       "link E5 to E2--><path d=\"M258.9,626.21 C263.85,640.29 271.34,658.51 281,673 C290.76,687.63 303.7,701.84 315.93,713.77 \" fill=\"none\" id=\"E5-&gt;E2\" style=\"stroke: #383838; stroke-width: 1.0; stroke-dasharray: 7.0,7.0;\"/><polygon fill=\"#383838\" points=\"319.69,717.4,315.9879,708.2734,316.0908,713.9293,310.4349,714.0322,319.69,717.4\" style=\"stroke: #383838; stroke-width: 1.0;\"/><text fill=\"#000000\" font-family=\"sans-serif\" font-size=\"13\" lengthAdjust=\"spacingAndGlyphs\" textLength=\"62\" x=\"282\" y=\"669.0669\">«subject»</text><!--MD5=[9120cf2e5df3bff93db8f754bbbc09b4]\n",
       "link E5 to E6--><path d=\"M220.54,626.18 C209.54,634.77 197.56,645.15 188,656 C177.43,667.99 167.59,682.21 159.19,695.75 \" fill=\"none\" id=\"E5-&gt;E6\" style=\"stroke: #383838; stroke-width: 1.0;\"/><polygon fill=\"#383838\" points=\"154.94,702.76,161.6576,697.4805,156.5297,694.3652,154.94,702.76\" style=\"stroke: #383838; stroke-width: 1.0;\"/><text fill=\"#000000\" font-family=\"sans-serif\" font-size=\"13\" lengthAdjust=\"spacingAndGlyphs\" textLength=\"73\" x=\"189\" y=\"669.0669\">«objective»</text><!--MD5=[f667431f98296947986a1a7595a31603]\n",
       "link E6 to E4--><path d=\"M132,791.19 C132,804.11 132,818.41 132,831.87 \" fill=\"none\" id=\"E6-&gt;E4\" style=\"stroke: #383838; stroke-width: 1.0;\"/><polygon fill=\"#FFFFFF\" points=\"132,851.98,125,832.98,139,832.98,132,851.98\" style=\"stroke: #383838; stroke-width: 1.0;\"/><ellipse cx=\"127\" cy=\"827.28\" fill=\"#383838\" rx=\"2\" ry=\"2\" style=\"stroke: #383838; stroke-width: 1.0;\"/><ellipse cx=\"137\" cy=\"827.28\" fill=\"#383838\" rx=\"2\" ry=\"2\" style=\"stroke: #383838; stroke-width: 1.0;\"/><!--MD5=[583832df87f4419a098336a29a52fa00]\n",
       "link E7 to E2--><path d=\"M245,352.87 C283.11,366.41 332.96,384.4 342,389 C375.39,406.01 394.37,402.93 412,436 C460.85,527.64 405.01,653.54 372.73,712.72 \" fill=\"none\" id=\"E7-&gt;E2\" style=\"stroke: #383838; stroke-width: 1.0; stroke-dasharray: 7.0,7.0;\"/><polygon fill=\"#383838\" points=\"370.26,717.2,378.1126,711.2555,372.6773,712.8232,371.1096,707.3879,370.26,717.2\" style=\"stroke: #383838; stroke-width: 1.0;\"/><text fill=\"#000000\" font-family=\"sans-serif\" font-size=\"13\" lengthAdjust=\"spacingAndGlyphs\" textLength=\"62\" x=\"431\" y=\"546.0669\">«subject»</text><!--MD5=[79bc8f324ef4d02c541433f2e6e513c3]\n",
       "link E7 to E8--><path d=\"M219.92,359.01 C237.35,378.27 263.08,406.7 283.95,429.76 \" fill=\"none\" id=\"E7-&gt;E8\" style=\"stroke: #383838; stroke-width: 1.0;\"/><polygon fill=\"#383838\" points=\"289.42,435.81,286.2823,427.863,281.8306,431.8857,289.42,435.81\" style=\"stroke: #383838; stroke-width: 1.0;\"/><text fill=\"#000000\" font-family=\"sans-serif\" font-size=\"13\" lengthAdjust=\"spacingAndGlyphs\" textLength=\"73\" x=\"260\" y=\"402.0669\">«objective»</text><!--MD5=[bfc3ddf2e613be37104f658f09af896c]\n",
       "link E9 to E5--><path d=\"M148.4,492.58 C162.6,504.09 179.75,518.71 194,533 C203.65,542.67 213.46,553.77 222.2,564.19 \" fill=\"none\" id=\"E9-&gt;E5\" style=\"stroke: #383838; stroke-width: 1.0;\"/><polygon fill=\"#FFFFFF\" points=\"234.88,579.72,217.4416,569.4291,228.2864,560.5752,234.88,579.72\" style=\"stroke: #383838; stroke-width: 1.0;\"/><ellipse cx=\"215.3861\" cy=\"563.7489\" fill=\"#383838\" rx=\"2\" ry=\"2\" style=\"stroke: #383838; stroke-width: 1.0;\"/><ellipse cx=\"223.1323\" cy=\"557.4246\" fill=\"#383838\" rx=\"2\" ry=\"2\" style=\"stroke: #383838; stroke-width: 1.0;\"/><!--MD5=[e4a10ef82d0e328e31cac39a31e58dda]\n",
       "reverse link E7 to E9--><path d=\"M179.71,370.36 C165.2,394.21 146.08,425.63 133.43,446.42 \" fill=\"none\" id=\"E7&lt;-E9\" style=\"stroke: #383838; stroke-width: 1.0;\"/><polygon fill=\"#383838\" points=\"186.61,359.01,180.0734,362.0551,180.3702,369.2601,186.9068,366.215,186.61,359.01\" style=\"stroke: #383838; stroke-width: 1.0;\"/><!--MD5=[35e5f1cbde42fa304a029880aa2bc7f2]\n",
       "link E9 to E10--><path d=\"M116.99,492.51 C114.01,514.22 109.45,547.59 106.14,571.78 \" fill=\"none\" id=\"E9-&gt;E10\" style=\"stroke: #383838; stroke-width: 1.0;\"/><polygon fill=\"#383838\" points=\"105.02,579.92,109.0776,572.401,103.1331,571.587,105.02,579.92\" style=\"stroke: #383838; stroke-width: 1.0;\"/><text fill=\"#000000\" font-family=\"sans-serif\" font-size=\"13\" lengthAdjust=\"spacingAndGlyphs\" textLength=\"73\" x=\"112\" y=\"546.0669\">«objective»</text><!--MD5=[198716bf12f04006f5c20d61bde6d80d]\n",
       "link E10 to E6--><path d=\"M103.57,626.22 C104.78,639.82 106.8,657.53 110,673 C110.69,676.34 111.47,679.75 112.3,683.18 \" fill=\"none\" id=\"E10-&gt;E6\" style=\"stroke: #383838; stroke-width: 1.0;\"/><polygon fill=\"#FFFFFF\" points=\"117.58,702.7,105.8698,686.1812,119.3859,682.5322,117.58,702.7\" style=\"stroke: #383838; stroke-width: 1.0;\"/><line style=\"stroke: #383838; stroke-width: 2.0;\" x1=\"104.8794\" x2=\"118.3955\" y1=\"682.5125\" y2=\"678.8636\"/><!--MD5=[ae660f5ecd7ddb04a8913625960940af]\n",
       "link E12 to E7--><path d=\"M254.17,236.38 C243.87,255.14 231.88,276.96 221.81,295.29 \" fill=\"none\" id=\"E12-&gt;E7\" style=\"stroke: #383838; stroke-width: 1.0;\"/><polygon fill=\"#FFFFFF\" points=\"212.16,312.87,215.1723,292.8469,227.4429,299.5872,212.16,312.87\" style=\"stroke: #383838; stroke-width: 1.0;\"/><ellipse cx=\"219.6695\" cy=\"288.8139\" fill=\"#383838\" rx=\"2\" ry=\"2\" style=\"stroke: #383838; stroke-width: 1.0;\"/><ellipse cx=\"228.4342\" cy=\"293.6284\" fill=\"#383838\" rx=\"2\" ry=\"2\" style=\"stroke: #383838; stroke-width: 1.0;\"/><!--MD5=[94adabc162ce7e41b39f13be14fbaeb3]\n",
       "reverse link E11 to E12--><path d=\"M278,100.45 C278,115.17 278,132.39 278,147.84 \" fill=\"none\" id=\"E11&lt;-E12\" style=\"stroke: #383838; stroke-width: 1.0;\"/><polygon fill=\"#383838\" points=\"278,87.24,274,93.24,278,99.24,282,93.24,278,87.24\" style=\"stroke: #383838; stroke-width: 1.0;\"/><!--MD5=[e2a9ac97dcd3257bb5342dae06547bad]\n",
       "link E12 to E13--><path d=\"M301.83,236.38 C314.2,258.89 328.98,285.81 339.97,305.82 \" fill=\"none\" id=\"E12-&gt;E13\" style=\"stroke: #383838; stroke-width: 1.0;\"/><polygon fill=\"#383838\" points=\"343.84,312.87,342.6199,304.4136,337.3604,307.3009,343.84,312.87\" style=\"stroke: #383838; stroke-width: 1.0;\"/><text fill=\"#000000\" font-family=\"sans-serif\" font-size=\"13\" lengthAdjust=\"spacingAndGlyphs\" textLength=\"73\" x=\"327\" y=\"279.0669\">«objective»</text><!--MD5=[14b0c5c43fe635c2ebcdd2e0a497476a]\n",
       "@startuml\r\n",
       "skinparam monochrome true\r\n",
       "skinparam classbackgroundcolor white\r\n",
       "skinparam shadowing false\r\n",
       "skinparam wrapWidth 300\r\n",
       "hide circle\r\n",
       "\r\n",
       "package \"AnalysisTest\" as E1   {\r\n",
       "comp def \"V\" as E2  <<(T,blue)part def>> {\r\n",
       "m: DataValue\r\n",
       "}\r\n",
       "comp usage \"vv: V\" as E3  <<(T,blue)part>> {\r\n",
       "}\r\n",
       "comp def \"AnalysisObjective\" as E4  <<(T,blue)requirement def>> {\r\n",
       "...\r\n",
       "- -\r\n",
       "}\r\n",
       "comp def \"AnalysisCase\" as E5 <<analysis def>> {\r\n",
       "}\r\n",
       "comp usage \"obj: AnalysisObjective\" as E6  <<(T,blue)requirement>> {\r\n",
       "- -references- -\r\n",
       "subj: Anything= result; \\n//:>>AnalysisObjective::subj// \r\n",
       "}\r\n",
       "comp def \"AnalysisPlan\" as E7 <<analysis def>> {\r\n",
       "}\r\n",
       "comp usage \"obj: RequirementCheck\" as E8  <<(T,blue)requirement>> {\r\n",
       "...\r\n",
       "- -\r\n",
       "}\r\n",
       "comp usage \"analysisCase: AnalysisCase\" as E9 <<analysis>> {\r\n",
       "}\r\n",
       "comp usage \"obj: AnalysisObjective\" as E10  <<(T,blue)requirement>> {\r\n",
       "}\r\n",
       "comp usage \"analysisContext: Part\" as E11  <<(T,blue)part>> {\r\n",
       "}\r\n",
       "comp usage \"analysisPlan: AnalysisPlan\" as E12 <<analysis>> {\r\n",
       "- -references- -\r\n",
       "v: V= vv; \\n//:>>AnalysisPlan::v// \r\n",
       "}\r\n",
       "comp usage \"obj: RequirementCheck\" as E13  <<(T,blue)requirement>> {\r\n",
       "}\r\n",
       "E3 - -:|> E2\r\n",
       "E5 ..> E2 : <<subject>>\r\n",
       "E5 - ->> E6 : <<objective>>\r\n",
       "E6 - -:|> E4\r\n",
       "E7 ..> E2 : <<subject>>\r\n",
       "E7 - ->> E8 : <<objective>>\r\n",
       "E9 - -:|> E5\r\n",
       "E7 *- - E9\r\n",
       "E9 - ->> E10 : <<objective>>\r\n",
       "E10 - -||> E6\r\n",
       "E12 - -:|> E7\r\n",
       "E11 *- - E12\r\n",
       "E12 - ->> E13 : <<objective>>\r\n",
       "}\r\n",
       "@enduml\r\n",
       "\n",
       "PlantUML version 1.2020.13(Sat Jun 13 12:26:38 UTC 2020)\n",
       "(EPL source distribution)\n",
       "Java Runtime: OpenJDK Runtime Environment\n",
       "JVM: OpenJDK 64-Bit Server VM\n",
       "Default Encoding: UTF-8\n",
       "Language: en\n",
       "Country: null\n",
       "--></g></svg>"
      ]
     },
     "execution_count": 42,
     "metadata": {},
     "output_type": "execute_result"
    }
   ],
   "source": [
    "%viz --style=\"DEFAULT\" --view=\"Sequence\" \"AnalysisTest\""
   ]
  },
  {
   "cell_type": "code",
   "execution_count": 43,
   "id": "express-injury",
   "metadata": {
    "execution": {
     "iopub.execute_input": "2021-03-26T09:41:47.949131Z",
     "iopub.status.busy": "2021-03-26T09:41:47.948590Z",
     "iopub.status.idle": "2021-03-26T09:41:48.021363Z",
     "shell.execute_reply": "2021-03-26T09:41:48.019664Z"
    }
   },
   "outputs": [
    {
     "data": {
      "image/svg+xml": [
       "<?xml version=\"1.0\" encoding=\"UTF-8\" standalone=\"no\"?><svg xmlns=\"http://www.w3.org/2000/svg\" xmlns:xlink=\"http://www.w3.org/1999/xlink\" contentScriptType=\"application/ecmascript\" contentStyleType=\"text/css\" height=\"551px\" preserveAspectRatio=\"none\" style=\"width:848px;height:551px;\" version=\"1.1\" viewBox=\"0 0 848 551\" width=\"848px\" zoomAndPan=\"magnify\"><defs/><g><!--MD5=[fbc87193dbaf4d95561dea2c320d4a47]\n",
       "cluster E1--><polygon fill=\"#FFFFFF\" points=\"16,6,122,6,129,28.2969,826,28.2969,826,539.72,16,539.72,16,6\" style=\"stroke: #000000; stroke-width: 1.5;\"/><line style=\"stroke: #000000; stroke-width: 1.5;\" x1=\"16\" x2=\"129\" y1=\"28.2969\" y2=\"28.2969\"/><text fill=\"#000000\" font-family=\"sans-serif\" font-size=\"14\" font-weight=\"bold\" lengthAdjust=\"spacingAndGlyphs\" textLength=\"100\" x=\"20\" y=\"20.9951\">AnalysisTest</text><!--MD5=[de5ec2e2e8f62f467e546659f5068c88]\n",
       "cluster E5--><rect fill=\"#FFFFFF\" height=\"164\" style=\"stroke: #000000; stroke-width: 1.5;\" width=\"152\" x=\"658\" y=\"74.5\"/><text fill=\"#000000\" font-family=\"sans-serif\" font-size=\"14\" font-weight=\"bold\" lengthAdjust=\"spacingAndGlyphs\" textLength=\"104\" x=\"682\" y=\"89.4951\">AnalysisCase</text><!--MD5=[168fadf3d0c3fd93dd5d6da1b1d7ab76]\n",
       "cluster E7--><rect fill=\"#FFFFFF\" height=\"302.72\" style=\"stroke: #000000; stroke-width: 1.5;\" width=\"256\" x=\"279\" y=\"213\"/><text fill=\"#000000\" font-family=\"sans-serif\" font-size=\"14\" font-weight=\"bold\" lengthAdjust=\"spacingAndGlyphs\" textLength=\"98\" x=\"358\" y=\"227.9951\">AnalysisPlan</text><!--MD5=[7f149f147074ac12df2cb0a7728a5fb0]\n",
       "cluster E9--><rect fill=\"#F8F8F8\" height=\"146.22\" rx=\"12.5\" ry=\"12.5\" style=\"stroke: #000000; stroke-width: 1.5;\" width=\"138\" x=\"373\" y=\"331.5\"/><rect fill=\"#FFFFFF\" height=\"113.9231\" rx=\"12.5\" ry=\"12.5\" style=\"stroke: #FFFFFF; stroke-width: 1.0;\" width=\"132\" x=\"376\" y=\"360.7969\"/><line style=\"stroke: #000000; stroke-width: 1.5;\" x1=\"373\" x2=\"511\" y1=\"357.7969\" y2=\"357.7969\"/><text fill=\"#000000\" font-family=\"sans-serif\" font-size=\"14\" lengthAdjust=\"spacingAndGlyphs\" textLength=\"89\" x=\"397.5\" y=\"349.4951\">analysisCase</text><!--MD5=[b4997ac47864f28c2f74865a473b2911]\n",
       "class E2--><rect fill=\"#FFFFFF\" height=\"58.7422\" id=\"E2\" style=\"stroke: #383838; stroke-width: 1.5;\" width=\"88\" x=\"551\" y=\"183.5\"/><text fill=\"#000000\" font-family=\"sans-serif\" font-size=\"12\" font-style=\"italic\" lengthAdjust=\"spacingAndGlyphs\" textLength=\"64\" x=\"563\" y=\"199.6387\">«part def»</text><text fill=\"#000000\" font-family=\"sans-serif\" font-size=\"12\" lengthAdjust=\"spacingAndGlyphs\" textLength=\"8\" x=\"591\" y=\"213.6074\">V</text><line style=\"stroke: #383838; stroke-width: 1.5;\" x1=\"552\" x2=\"638\" y1=\"221.4375\" y2=\"221.4375\"/><text fill=\"#000000\" font-family=\"sans-serif\" font-size=\"11\" lengthAdjust=\"spacingAndGlyphs\" textLength=\"76\" x=\"557\" y=\"235.6479\">m: DataValue</text><!--MD5=[09b614a08d8cba4a07c9adeb5e0fee81]\n",
       "class E3--><rect fill=\"#FFFFFF\" height=\"45.9375\" id=\"E3\" rx=\"10\" ry=\"10\" style=\"stroke: #383838; stroke-width: 1.5;\" width=\"42\" x=\"574\" y=\"51.5\"/><text fill=\"#000000\" font-family=\"sans-serif\" font-size=\"12\" font-style=\"italic\" lengthAdjust=\"spacingAndGlyphs\" textLength=\"40\" x=\"575\" y=\"67.6387\">«part»</text><text fill=\"#000000\" font-family=\"sans-serif\" font-size=\"12\" lengthAdjust=\"spacingAndGlyphs\" textLength=\"28\" x=\"581\" y=\"81.6074\">vv: V</text><line style=\"stroke: #383838; stroke-width: 1.5;\" x1=\"575\" x2=\"615\" y1=\"89.4375\" y2=\"89.4375\"/><!--MD5=[ebbe1d658d1005bcc118a6aa81145e00]\n",
       "class E4--><rect fill=\"#FFFFFF\" height=\"66.7422\" id=\"E4\" style=\"stroke: #383838; stroke-width: 1.5;\" width=\"117\" x=\"321.5\" y=\"41\"/><text fill=\"#000000\" font-family=\"sans-serif\" font-size=\"12\" font-style=\"italic\" lengthAdjust=\"spacingAndGlyphs\" textLength=\"115\" x=\"322.5\" y=\"57.1387\">«requirement def»</text><text fill=\"#000000\" font-family=\"sans-serif\" font-size=\"12\" lengthAdjust=\"spacingAndGlyphs\" textLength=\"107\" x=\"326.5\" y=\"71.1074\">AnalysisObjective</text><line style=\"stroke: #383838; stroke-width: 1.5;\" x1=\"322.5\" x2=\"437.5\" y1=\"78.9375\" y2=\"78.9375\"/><text fill=\"#000000\" font-family=\"sans-serif\" font-size=\"11\" lengthAdjust=\"spacingAndGlyphs\" textLength=\"12\" x=\"327.5\" y=\"93.1479\">...</text><line style=\"stroke: #383838; stroke-width: 1.0;\" x1=\"322.5\" x2=\"437.5\" y1=\"99.7422\" y2=\"99.7422\"/><!--MD5=[1dd1bfd58a279cf63c5f349dbc8fc6a1]\n",
       "class E11--><rect fill=\"#FFFFFF\" height=\"45.9375\" id=\"E11\" rx=\"10\" ry=\"10\" style=\"stroke: #383838; stroke-width: 1.5;\" width=\"138\" x=\"47\" y=\"51.5\"/><text fill=\"#000000\" font-family=\"sans-serif\" font-size=\"12\" font-style=\"italic\" lengthAdjust=\"spacingAndGlyphs\" textLength=\"40\" x=\"96\" y=\"67.6387\">«part»</text><text fill=\"#000000\" font-family=\"sans-serif\" font-size=\"12\" lengthAdjust=\"spacingAndGlyphs\" textLength=\"132\" x=\"50\" y=\"81.6074\">analysisContext: Part</text><line style=\"stroke: #383838; stroke-width: 1.5;\" x1=\"48\" x2=\"184\" y1=\"89.4375\" y2=\"89.4375\"/><!--MD5=[49a0ec8f00dab7302a31f22d0f0fe584]\n",
       "class E12--><rect fill=\"#FFFFFF\" height=\"88.3516\" id=\"E12\" rx=\"10\" ry=\"10\" style=\"stroke: #383838; stroke-width: 1.5;\" width=\"168\" x=\"32\" y=\"169\"/><text fill=\"#000000\" font-family=\"sans-serif\" font-size=\"12\" font-style=\"italic\" lengthAdjust=\"spacingAndGlyphs\" textLength=\"64\" x=\"84\" y=\"185.1387\">«analysis»</text><text fill=\"#000000\" font-family=\"sans-serif\" font-size=\"12\" lengthAdjust=\"spacingAndGlyphs\" textLength=\"162\" x=\"35\" y=\"199.1074\">analysisPlan: AnalysisPlan</text><line style=\"stroke: #383838; stroke-width: 1.5;\" x1=\"33\" x2=\"199\" y1=\"206.9375\" y2=\"206.9375\"/><text fill=\"#000000\" font-family=\"sans-serif\" font-size=\"11\" lengthAdjust=\"spacingAndGlyphs\" textLength=\"50\" x=\"38\" y=\"237.9526\">v: V= vv;</text><text fill=\"#000000\" font-family=\"sans-serif\" font-size=\"11\" font-style=\"italic\" lengthAdjust=\"spacingAndGlyphs\" textLength=\"107\" x=\"38\" y=\"250.7573\">:&gt;&gt;AnalysisPlan::v</text><line style=\"stroke: #383838; stroke-width: 1.0;\" x1=\"33\" x2=\"85\" y1=\"221.3398\" y2=\"221.3398\"/><text fill=\"#000000\" font-family=\"sans-serif\" font-size=\"11\" lengthAdjust=\"spacingAndGlyphs\" textLength=\"62\" x=\"85\" y=\"224.6479\">references</text><line style=\"stroke: #383838; stroke-width: 1.0;\" x1=\"147\" x2=\"199\" y1=\"221.3398\" y2=\"221.3398\"/><!--MD5=[ee3c913d1a06f366521f9ef512b67efe]\n",
       "class E13--><rect fill=\"#FFFFFF\" height=\"45.9375\" id=\"E13\" rx=\"10\" ry=\"10\" style=\"stroke: #383838; stroke-width: 1.5;\" width=\"151\" x=\"40.5\" y=\"334\"/><text fill=\"#000000\" font-family=\"sans-serif\" font-size=\"12\" font-style=\"italic\" lengthAdjust=\"spacingAndGlyphs\" textLength=\"91\" x=\"70.5\" y=\"350.1387\">«requirement»</text><text fill=\"#000000\" font-family=\"sans-serif\" font-size=\"12\" lengthAdjust=\"spacingAndGlyphs\" textLength=\"145\" x=\"43.5\" y=\"364.1074\">obj: RequirementCheck</text><line style=\"stroke: #383838; stroke-width: 1.5;\" x1=\"41.5\" x2=\"190.5\" y1=\"371.9375\" y2=\"371.9375\"/><text fill=\"#000000\" font-family=\"sans-serif\" font-size=\"14\" lengthAdjust=\"spacingAndGlyphs\" textLength=\"7\" x=\"730.5\" y=\"53.1982\">v</text><rect fill=\"#383838\" height=\"12\" style=\"stroke: #F8F8F8; stroke-width: 1.5;\" width=\"12\" x=\"728\" y=\"68.5\"/><text fill=\"#000000\" font-family=\"sans-serif\" font-size=\"14\" lengthAdjust=\"spacingAndGlyphs\" textLength=\"7\" x=\"293.5\" y=\"191.6982\">v</text><rect fill=\"#383838\" height=\"12\" style=\"stroke: #F8F8F8; stroke-width: 1.5;\" width=\"12\" x=\"291\" y=\"207\"/><text fill=\"#000000\" font-family=\"sans-serif\" font-size=\"14\" lengthAdjust=\"spacingAndGlyphs\" textLength=\"37\" x=\"423.5\" y=\"496.7151\">mass</text><rect fill=\"#383838\" height=\"12\" style=\"stroke: #F8F8F8; stroke-width: 1.5;\" width=\"12\" x=\"436\" y=\"471.72\"/><!--MD5=[05d275557350bfb9b23a4ef7222b4c39]\n",
       "link E3 to E2--><path d=\"M595,97.73 C595,115.37 595,140.67 595,162.99 \" fill=\"none\" id=\"E3-&gt;E2\" style=\"stroke: #383838; stroke-width: 1.0;\"/><polygon fill=\"#FFFFFF\" points=\"595,183.12,588,164.12,602,164.12,595,183.12\" style=\"stroke: #383838; stroke-width: 1.0;\"/><ellipse cx=\"590\" cy=\"158.42\" fill=\"#383838\" rx=\"2\" ry=\"2\" style=\"stroke: #383838; stroke-width: 1.0;\"/><ellipse cx=\"600\" cy=\"158.42\" fill=\"#383838\" rx=\"2\" ry=\"2\" style=\"stroke: #383838; stroke-width: 1.0;\"/><!--MD5=[ae660f5ecd7ddb04a8913625960940af]\n",
       "link E12 to E7--><path d=\"M171.29,257.38 C191.56,273.285 214.625,291.38 235.415,307.69 C245.81,315.845 255.6363,323.5538 264.26,330.3194 C268.5719,333.7022 272.5831,336.8492 276.2145,339.6984 C277.1224,340.4106 278.0065,341.1043 278.8656,341.7784 \" fill=\"none\" id=\"E12-&gt;E7\" style=\"stroke: #383838; stroke-width: 1.0;\"/><polygon fill=\"#FFFFFF\" points=\"278.8656,341.7784,259.5965,335.5573,268.2385,324.5429,278.8656,341.7784\" style=\"stroke: #383838; stroke-width: 1.0;\"/><ellipse cx=\"256.3467\" cy=\"330.4653\" fill=\"#383838\" rx=\"2\" ry=\"2\" style=\"stroke: #383838; stroke-width: 1.0;\"/><ellipse cx=\"262.5195\" cy=\"322.5978\" fill=\"#383838\" rx=\"2\" ry=\"2\" style=\"stroke: #383838; stroke-width: 1.0;\"/><!--MD5=[94adabc162ce7e41b39f13be14fbaeb3]\n",
       "reverse link E11 to E12--><path d=\"M116,110.96 C116,128.64 116,150.18 116,168.81 \" fill=\"none\" id=\"E11&lt;-E12\" style=\"stroke: #383838; stroke-width: 1.0;\"/><polygon fill=\"#383838\" points=\"116,97.73,112,103.73,116,109.73,120,103.73,116,97.73\" style=\"stroke: #383838; stroke-width: 1.0;\"/><!--MD5=[e2a9ac97dcd3257bb5342dae06547bad]\n",
       "link E12 to E13--><path d=\"M116,257.38 C116,279.5 116,305.86 116,325.76 \" fill=\"none\" id=\"E12-&gt;E13\" style=\"stroke: #383838; stroke-width: 1.0;\"/><polygon fill=\"#383838\" points=\"116,333.87,119,325.87,113,325.87,116,333.87\" style=\"stroke: #383838; stroke-width: 1.0;\"/><text fill=\"#000000\" font-family=\"sans-serif\" font-size=\"13\" lengthAdjust=\"spacingAndGlyphs\" textLength=\"73\" x=\"117\" y=\"300.0669\">«objective»</text><!--MD5=[a9876548bc00ffdf90dd881efd7da73e]\n",
       "@startuml\r\n",
       "skinparam monochrome true\r\n",
       "skinparam classbackgroundcolor white\r\n",
       "skinparam shadowing false\r\n",
       "skinparam wrapWidth 300\r\n",
       "hide circle\r\n",
       "\r\n",
       "package \"AnalysisTest\" as E1   {\r\n",
       "comp def \"V\" as E2  <<(T,blue)part def>> {\r\n",
       "m: DataValue\r\n",
       "}\r\n",
       "comp usage \"vv: V\" as E3  <<(T,blue)part>> {\r\n",
       "}\r\n",
       "comp def \"AnalysisObjective\" as E4  <<(T,blue)requirement def>> {\r\n",
       "...\r\n",
       "- -\r\n",
       "}\r\n",
       "rec def \"AnalysisCase\" as E5 {\r\n",
       "portin \"v\" as E6  \r\n",
       "}\r\n",
       "\r\n",
       "rec def \"AnalysisPlan\" as E7 {\r\n",
       "portin \"v\" as E8  \r\n",
       "rec usage \"analysisCase\" as E9 {\r\n",
       "portout \"mass\" as E10  \r\n",
       "}\r\n",
       "\r\n",
       "}\r\n",
       "\r\n",
       "comp usage \"analysisContext: Part\" as E11  <<(T,blue)part>> {\r\n",
       "}\r\n",
       "comp usage \"analysisPlan: AnalysisPlan\" as E12 <<analysis>> {\r\n",
       "- -references- -\r\n",
       "v: V= vv; \\n//:>>AnalysisPlan::v// \r\n",
       "}\r\n",
       "comp usage \"obj: RequirementCheck\" as E13  <<(T,blue)requirement>> {\r\n",
       "}\r\n",
       "E3 - -:|> E2\r\n",
       "E12 - -:|> E7\r\n",
       "E11 *- - E12\r\n",
       "E12 - ->> E13 : <<objective>>\r\n",
       "}\r\n",
       "@enduml\r\n",
       "\n",
       "PlantUML version 1.2020.13(Sat Jun 13 12:26:38 UTC 2020)\n",
       "(EPL source distribution)\n",
       "Java Runtime: OpenJDK Runtime Environment\n",
       "JVM: OpenJDK 64-Bit Server VM\n",
       "Default Encoding: UTF-8\n",
       "Language: en\n",
       "Country: null\n",
       "--></g></svg>"
      ]
     },
     "execution_count": 43,
     "metadata": {},
     "output_type": "execute_result"
    }
   ],
   "source": [
    "%viz --style=\"DEFAULT\" --view=\"MIXED\" \"AnalysisTest\""
   ]
  },
  {
   "cell_type": "code",
   "execution_count": 44,
   "id": "virgin-university",
   "metadata": {
    "execution": {
     "iopub.execute_input": "2021-03-26T09:41:48.072742Z",
     "iopub.status.busy": "2021-03-26T09:41:48.072163Z",
     "iopub.status.idle": "2021-03-26T09:41:48.133325Z",
     "shell.execute_reply": "2021-03-26T09:41:48.132037Z"
    }
   },
   "outputs": [
    {
     "data": {
      "image/svg+xml": [
       "<?xml version=\"1.0\" encoding=\"UTF-8\" standalone=\"no\"?><svg xmlns=\"http://www.w3.org/2000/svg\" xmlns:xlink=\"http://www.w3.org/1999/xlink\" contentScriptType=\"application/ecmascript\" contentStyleType=\"text/css\" height=\"551px\" preserveAspectRatio=\"none\" style=\"width:848px;height:551px;\" version=\"1.1\" viewBox=\"0 0 848 551\" width=\"848px\" zoomAndPan=\"magnify\"><defs/><g><!--MD5=[fbc87193dbaf4d95561dea2c320d4a47]\n",
       "cluster E1--><polygon fill=\"#FFFFFF\" points=\"16,6,122,6,129,28.2969,826,28.2969,826,539.72,16,539.72,16,6\" style=\"stroke: #000000; stroke-width: 1.5;\"/><line style=\"stroke: #000000; stroke-width: 1.5;\" x1=\"16\" x2=\"129\" y1=\"28.2969\" y2=\"28.2969\"/><text fill=\"#000000\" font-family=\"sans-serif\" font-size=\"14\" font-weight=\"bold\" lengthAdjust=\"spacingAndGlyphs\" textLength=\"100\" x=\"20\" y=\"20.9951\">AnalysisTest</text><!--MD5=[de5ec2e2e8f62f467e546659f5068c88]\n",
       "cluster E5--><rect fill=\"#FFFFFF\" height=\"164\" style=\"stroke: #000000; stroke-width: 1.5;\" width=\"152\" x=\"658\" y=\"74.5\"/><text fill=\"#000000\" font-family=\"sans-serif\" font-size=\"14\" font-weight=\"bold\" lengthAdjust=\"spacingAndGlyphs\" textLength=\"104\" x=\"682\" y=\"89.4951\">AnalysisCase</text><!--MD5=[168fadf3d0c3fd93dd5d6da1b1d7ab76]\n",
       "cluster E7--><rect fill=\"#FFFFFF\" height=\"302.72\" style=\"stroke: #000000; stroke-width: 1.5;\" width=\"256\" x=\"279\" y=\"213\"/><text fill=\"#000000\" font-family=\"sans-serif\" font-size=\"14\" font-weight=\"bold\" lengthAdjust=\"spacingAndGlyphs\" textLength=\"98\" x=\"358\" y=\"227.9951\">AnalysisPlan</text><!--MD5=[7f149f147074ac12df2cb0a7728a5fb0]\n",
       "cluster E9--><rect fill=\"#F8F8F8\" height=\"146.22\" rx=\"12.5\" ry=\"12.5\" style=\"stroke: #000000; stroke-width: 1.5;\" width=\"138\" x=\"373\" y=\"331.5\"/><rect fill=\"#FFFFFF\" height=\"113.9231\" rx=\"12.5\" ry=\"12.5\" style=\"stroke: #FFFFFF; stroke-width: 1.0;\" width=\"132\" x=\"376\" y=\"360.7969\"/><line style=\"stroke: #000000; stroke-width: 1.5;\" x1=\"373\" x2=\"511\" y1=\"357.7969\" y2=\"357.7969\"/><text fill=\"#000000\" font-family=\"sans-serif\" font-size=\"14\" lengthAdjust=\"spacingAndGlyphs\" textLength=\"89\" x=\"397.5\" y=\"349.4951\">analysisCase</text><!--MD5=[b4997ac47864f28c2f74865a473b2911]\n",
       "class E2--><rect fill=\"#FFFFFF\" height=\"58.7422\" id=\"E2\" style=\"stroke: #383838; stroke-width: 1.5;\" width=\"88\" x=\"551\" y=\"183.5\"/><text fill=\"#000000\" font-family=\"sans-serif\" font-size=\"12\" font-style=\"italic\" lengthAdjust=\"spacingAndGlyphs\" textLength=\"64\" x=\"563\" y=\"199.6387\">«part def»</text><text fill=\"#000000\" font-family=\"sans-serif\" font-size=\"12\" lengthAdjust=\"spacingAndGlyphs\" textLength=\"8\" x=\"591\" y=\"213.6074\">V</text><line style=\"stroke: #383838; stroke-width: 1.5;\" x1=\"552\" x2=\"638\" y1=\"221.4375\" y2=\"221.4375\"/><text fill=\"#000000\" font-family=\"sans-serif\" font-size=\"11\" lengthAdjust=\"spacingAndGlyphs\" textLength=\"76\" x=\"557\" y=\"235.6479\">m: DataValue</text><!--MD5=[09b614a08d8cba4a07c9adeb5e0fee81]\n",
       "class E3--><rect fill=\"#FFFFFF\" height=\"45.9375\" id=\"E3\" rx=\"10\" ry=\"10\" style=\"stroke: #383838; stroke-width: 1.5;\" width=\"42\" x=\"574\" y=\"51.5\"/><text fill=\"#000000\" font-family=\"sans-serif\" font-size=\"12\" font-style=\"italic\" lengthAdjust=\"spacingAndGlyphs\" textLength=\"40\" x=\"575\" y=\"67.6387\">«part»</text><text fill=\"#000000\" font-family=\"sans-serif\" font-size=\"12\" lengthAdjust=\"spacingAndGlyphs\" textLength=\"28\" x=\"581\" y=\"81.6074\">vv: V</text><line style=\"stroke: #383838; stroke-width: 1.5;\" x1=\"575\" x2=\"615\" y1=\"89.4375\" y2=\"89.4375\"/><!--MD5=[ebbe1d658d1005bcc118a6aa81145e00]\n",
       "class E4--><rect fill=\"#FFFFFF\" height=\"66.7422\" id=\"E4\" style=\"stroke: #383838; stroke-width: 1.5;\" width=\"117\" x=\"321.5\" y=\"41\"/><text fill=\"#000000\" font-family=\"sans-serif\" font-size=\"12\" font-style=\"italic\" lengthAdjust=\"spacingAndGlyphs\" textLength=\"115\" x=\"322.5\" y=\"57.1387\">«requirement def»</text><text fill=\"#000000\" font-family=\"sans-serif\" font-size=\"12\" lengthAdjust=\"spacingAndGlyphs\" textLength=\"107\" x=\"326.5\" y=\"71.1074\">AnalysisObjective</text><line style=\"stroke: #383838; stroke-width: 1.5;\" x1=\"322.5\" x2=\"437.5\" y1=\"78.9375\" y2=\"78.9375\"/><text fill=\"#000000\" font-family=\"sans-serif\" font-size=\"11\" lengthAdjust=\"spacingAndGlyphs\" textLength=\"12\" x=\"327.5\" y=\"93.1479\">...</text><line style=\"stroke: #383838; stroke-width: 1.0;\" x1=\"322.5\" x2=\"437.5\" y1=\"99.7422\" y2=\"99.7422\"/><!--MD5=[1dd1bfd58a279cf63c5f349dbc8fc6a1]\n",
       "class E11--><rect fill=\"#FFFFFF\" height=\"45.9375\" id=\"E11\" rx=\"10\" ry=\"10\" style=\"stroke: #383838; stroke-width: 1.5;\" width=\"138\" x=\"47\" y=\"51.5\"/><text fill=\"#000000\" font-family=\"sans-serif\" font-size=\"12\" font-style=\"italic\" lengthAdjust=\"spacingAndGlyphs\" textLength=\"40\" x=\"96\" y=\"67.6387\">«part»</text><text fill=\"#000000\" font-family=\"sans-serif\" font-size=\"12\" lengthAdjust=\"spacingAndGlyphs\" textLength=\"132\" x=\"50\" y=\"81.6074\">analysisContext: Part</text><line style=\"stroke: #383838; stroke-width: 1.5;\" x1=\"48\" x2=\"184\" y1=\"89.4375\" y2=\"89.4375\"/><!--MD5=[49a0ec8f00dab7302a31f22d0f0fe584]\n",
       "class E12--><rect fill=\"#FFFFFF\" height=\"88.3516\" id=\"E12\" rx=\"10\" ry=\"10\" style=\"stroke: #383838; stroke-width: 1.5;\" width=\"168\" x=\"32\" y=\"169\"/><text fill=\"#000000\" font-family=\"sans-serif\" font-size=\"12\" font-style=\"italic\" lengthAdjust=\"spacingAndGlyphs\" textLength=\"64\" x=\"84\" y=\"185.1387\">«analysis»</text><text fill=\"#000000\" font-family=\"sans-serif\" font-size=\"12\" lengthAdjust=\"spacingAndGlyphs\" textLength=\"162\" x=\"35\" y=\"199.1074\">analysisPlan: AnalysisPlan</text><line style=\"stroke: #383838; stroke-width: 1.5;\" x1=\"33\" x2=\"199\" y1=\"206.9375\" y2=\"206.9375\"/><text fill=\"#000000\" font-family=\"sans-serif\" font-size=\"11\" lengthAdjust=\"spacingAndGlyphs\" textLength=\"50\" x=\"38\" y=\"237.9526\">v: V= vv;</text><text fill=\"#000000\" font-family=\"sans-serif\" font-size=\"11\" font-style=\"italic\" lengthAdjust=\"spacingAndGlyphs\" textLength=\"107\" x=\"38\" y=\"250.7573\">:&gt;&gt;AnalysisPlan::v</text><line style=\"stroke: #383838; stroke-width: 1.0;\" x1=\"33\" x2=\"85\" y1=\"221.3398\" y2=\"221.3398\"/><text fill=\"#000000\" font-family=\"sans-serif\" font-size=\"11\" lengthAdjust=\"spacingAndGlyphs\" textLength=\"62\" x=\"85\" y=\"224.6479\">references</text><line style=\"stroke: #383838; stroke-width: 1.0;\" x1=\"147\" x2=\"199\" y1=\"221.3398\" y2=\"221.3398\"/><!--MD5=[ee3c913d1a06f366521f9ef512b67efe]\n",
       "class E13--><rect fill=\"#FFFFFF\" height=\"45.9375\" id=\"E13\" rx=\"10\" ry=\"10\" style=\"stroke: #383838; stroke-width: 1.5;\" width=\"151\" x=\"40.5\" y=\"334\"/><text fill=\"#000000\" font-family=\"sans-serif\" font-size=\"12\" font-style=\"italic\" lengthAdjust=\"spacingAndGlyphs\" textLength=\"91\" x=\"70.5\" y=\"350.1387\">«requirement»</text><text fill=\"#000000\" font-family=\"sans-serif\" font-size=\"12\" lengthAdjust=\"spacingAndGlyphs\" textLength=\"145\" x=\"43.5\" y=\"364.1074\">obj: RequirementCheck</text><line style=\"stroke: #383838; stroke-width: 1.5;\" x1=\"41.5\" x2=\"190.5\" y1=\"371.9375\" y2=\"371.9375\"/><text fill=\"#000000\" font-family=\"sans-serif\" font-size=\"14\" lengthAdjust=\"spacingAndGlyphs\" textLength=\"7\" x=\"730.5\" y=\"53.1982\">v</text><rect fill=\"#383838\" height=\"12\" style=\"stroke: #F8F8F8; stroke-width: 1.5;\" width=\"12\" x=\"728\" y=\"68.5\"/><text fill=\"#000000\" font-family=\"sans-serif\" font-size=\"14\" lengthAdjust=\"spacingAndGlyphs\" textLength=\"7\" x=\"293.5\" y=\"191.6982\">v</text><rect fill=\"#383838\" height=\"12\" style=\"stroke: #F8F8F8; stroke-width: 1.5;\" width=\"12\" x=\"291\" y=\"207\"/><text fill=\"#000000\" font-family=\"sans-serif\" font-size=\"14\" lengthAdjust=\"spacingAndGlyphs\" textLength=\"37\" x=\"423.5\" y=\"496.7151\">mass</text><rect fill=\"#383838\" height=\"12\" style=\"stroke: #F8F8F8; stroke-width: 1.5;\" width=\"12\" x=\"436\" y=\"471.72\"/><!--MD5=[05d275557350bfb9b23a4ef7222b4c39]\n",
       "link E3 to E2--><path d=\"M595,97.73 C595,115.37 595,140.67 595,162.99 \" fill=\"none\" id=\"E3-&gt;E2\" style=\"stroke: #383838; stroke-width: 1.0;\"/><polygon fill=\"#FFFFFF\" points=\"595,183.12,588,164.12,602,164.12,595,183.12\" style=\"stroke: #383838; stroke-width: 1.0;\"/><ellipse cx=\"590\" cy=\"158.42\" fill=\"#383838\" rx=\"2\" ry=\"2\" style=\"stroke: #383838; stroke-width: 1.0;\"/><ellipse cx=\"600\" cy=\"158.42\" fill=\"#383838\" rx=\"2\" ry=\"2\" style=\"stroke: #383838; stroke-width: 1.0;\"/><!--MD5=[ae660f5ecd7ddb04a8913625960940af]\n",
       "link E12 to E7--><path d=\"M171.29,257.38 C191.56,273.285 214.625,291.38 235.415,307.69 C245.81,315.845 255.6363,323.5538 264.26,330.3194 C268.5719,333.7022 272.5831,336.8492 276.2145,339.6984 C277.1224,340.4106 278.0065,341.1043 278.8656,341.7784 \" fill=\"none\" id=\"E12-&gt;E7\" style=\"stroke: #383838; stroke-width: 1.0;\"/><polygon fill=\"#FFFFFF\" points=\"278.8656,341.7784,259.5965,335.5573,268.2385,324.5429,278.8656,341.7784\" style=\"stroke: #383838; stroke-width: 1.0;\"/><ellipse cx=\"256.3467\" cy=\"330.4653\" fill=\"#383838\" rx=\"2\" ry=\"2\" style=\"stroke: #383838; stroke-width: 1.0;\"/><ellipse cx=\"262.5195\" cy=\"322.5978\" fill=\"#383838\" rx=\"2\" ry=\"2\" style=\"stroke: #383838; stroke-width: 1.0;\"/><!--MD5=[94adabc162ce7e41b39f13be14fbaeb3]\n",
       "reverse link E11 to E12--><path d=\"M116,110.96 C116,128.64 116,150.18 116,168.81 \" fill=\"none\" id=\"E11&lt;-E12\" style=\"stroke: #383838; stroke-width: 1.0;\"/><polygon fill=\"#383838\" points=\"116,97.73,112,103.73,116,109.73,120,103.73,116,97.73\" style=\"stroke: #383838; stroke-width: 1.0;\"/><!--MD5=[e2a9ac97dcd3257bb5342dae06547bad]\n",
       "link E12 to E13--><path d=\"M116,257.38 C116,279.5 116,305.86 116,325.76 \" fill=\"none\" id=\"E12-&gt;E13\" style=\"stroke: #383838; stroke-width: 1.0;\"/><polygon fill=\"#383838\" points=\"116,333.87,119,325.87,113,325.87,116,333.87\" style=\"stroke: #383838; stroke-width: 1.0;\"/><text fill=\"#000000\" font-family=\"sans-serif\" font-size=\"13\" lengthAdjust=\"spacingAndGlyphs\" textLength=\"73\" x=\"117\" y=\"300.0669\">«objective»</text><!--MD5=[b170d77d78340823579c19e3e8e639f2]\n",
       "@startuml\r\n",
       "top to bottom direction\r\n",
       "skinparam monochrome true\r\n",
       "skinparam classbackgroundcolor white\r\n",
       "skinparam shadowing false\r\n",
       "skinparam wrapWidth 300\r\n",
       "hide circle\r\n",
       "\r\n",
       "package \"AnalysisTest\" as E1   {\r\n",
       "comp def \"V\" as E2  <<(T,blue)part def>> {\r\n",
       "m: DataValue\r\n",
       "}\r\n",
       "comp usage \"vv: V\" as E3  <<(T,blue)part>> {\r\n",
       "}\r\n",
       "comp def \"AnalysisObjective\" as E4  <<(T,blue)requirement def>> {\r\n",
       "...\r\n",
       "- -\r\n",
       "}\r\n",
       "rec def \"AnalysisCase\" as E5 {\r\n",
       "portin \"v\" as E6  \r\n",
       "}\r\n",
       "\r\n",
       "rec def \"AnalysisPlan\" as E7 {\r\n",
       "portin \"v\" as E8  \r\n",
       "rec usage \"analysisCase\" as E9 {\r\n",
       "portout \"mass\" as E10  \r\n",
       "}\r\n",
       "\r\n",
       "}\r\n",
       "\r\n",
       "comp usage \"analysisContext: Part\" as E11  <<(T,blue)part>> {\r\n",
       "}\r\n",
       "comp usage \"analysisPlan: AnalysisPlan\" as E12 <<analysis>> {\r\n",
       "- -references- -\r\n",
       "v: V= vv; \\n//:>>AnalysisPlan::v// \r\n",
       "}\r\n",
       "comp usage \"obj: RequirementCheck\" as E13  <<(T,blue)requirement>> {\r\n",
       "}\r\n",
       "E3 - -:|> E2\r\n",
       "E12 - -:|> E7\r\n",
       "E11 *- - E12\r\n",
       "E12 - ->> E13 : <<objective>>\r\n",
       "}\r\n",
       "@enduml\r\n",
       "\n",
       "PlantUML version 1.2020.13(Sat Jun 13 12:26:38 UTC 2020)\n",
       "(EPL source distribution)\n",
       "Java Runtime: OpenJDK Runtime Environment\n",
       "JVM: OpenJDK 64-Bit Server VM\n",
       "Default Encoding: UTF-8\n",
       "Language: en\n",
       "Country: null\n",
       "--></g></svg>"
      ]
     },
     "execution_count": 44,
     "metadata": {},
     "output_type": "execute_result"
    }
   ],
   "source": [
    "%viz --style=\"TB\" --view=\"Default\" \"AnalysisTest\""
   ]
  },
  {
   "cell_type": "code",
   "execution_count": 45,
   "id": "urban-barrier",
   "metadata": {
    "execution": {
     "iopub.execute_input": "2021-03-26T09:41:48.184518Z",
     "iopub.status.busy": "2021-03-26T09:41:48.184177Z",
     "iopub.status.idle": "2021-03-26T09:41:48.278815Z",
     "shell.execute_reply": "2021-03-26T09:41:48.277227Z"
    }
   },
   "outputs": [
    {
     "data": {
      "image/svg+xml": [
       "<?xml version=\"1.0\" encoding=\"UTF-8\" standalone=\"no\"?><svg xmlns=\"http://www.w3.org/2000/svg\" xmlns:xlink=\"http://www.w3.org/1999/xlink\" contentScriptType=\"application/ecmascript\" contentStyleType=\"text/css\" height=\"947px\" preserveAspectRatio=\"none\" style=\"width:505px;height:947px;\" version=\"1.1\" viewBox=\"0 0 505 947\" width=\"505px\" zoomAndPan=\"magnify\"><defs/><g><!--MD5=[fbc87193dbaf4d95561dea2c320d4a47]\n",
       "cluster E1--><polygon fill=\"#FFFFFF\" points=\"16,6,122,6,129,28.2969,448,28.2969,448,935,16,935,16,6\" style=\"stroke: #000000; stroke-width: 1.5;\"/><line style=\"stroke: #000000; stroke-width: 1.5;\" x1=\"16\" x2=\"129\" y1=\"28.2969\" y2=\"28.2969\"/><text fill=\"#000000\" font-family=\"sans-serif\" font-size=\"14\" font-weight=\"bold\" lengthAdjust=\"spacingAndGlyphs\" textLength=\"100\" x=\"20\" y=\"20.9951\">AnalysisTest</text><!--MD5=[b4997ac47864f28c2f74865a473b2911]\n",
       "class E2--><rect fill=\"#FFFFFF\" height=\"58.7422\" id=\"E2\" style=\"stroke: #383838; stroke-width: 1.5;\" width=\"88\" x=\"309\" y=\"717.5\"/><text fill=\"#000000\" font-family=\"sans-serif\" font-size=\"12\" font-style=\"italic\" lengthAdjust=\"spacingAndGlyphs\" textLength=\"64\" x=\"321\" y=\"733.6387\">«part def»</text><text fill=\"#000000\" font-family=\"sans-serif\" font-size=\"12\" lengthAdjust=\"spacingAndGlyphs\" textLength=\"8\" x=\"349\" y=\"747.6074\">V</text><line style=\"stroke: #383838; stroke-width: 1.5;\" x1=\"310\" x2=\"396\" y1=\"755.4375\" y2=\"755.4375\"/><text fill=\"#000000\" font-family=\"sans-serif\" font-size=\"11\" lengthAdjust=\"spacingAndGlyphs\" textLength=\"76\" x=\"315\" y=\"769.6479\">m: DataValue</text><!--MD5=[09b614a08d8cba4a07c9adeb5e0fee81]\n",
       "class E3--><rect fill=\"#FFFFFF\" height=\"45.9375\" id=\"E3\" rx=\"10\" ry=\"10\" style=\"stroke: #383838; stroke-width: 1.5;\" width=\"42\" x=\"332\" y=\"580\"/><text fill=\"#000000\" font-family=\"sans-serif\" font-size=\"12\" font-style=\"italic\" lengthAdjust=\"spacingAndGlyphs\" textLength=\"40\" x=\"333\" y=\"596.1387\">«part»</text><text fill=\"#000000\" font-family=\"sans-serif\" font-size=\"12\" lengthAdjust=\"spacingAndGlyphs\" textLength=\"28\" x=\"339\" y=\"610.1074\">vv: V</text><line style=\"stroke: #383838; stroke-width: 1.5;\" x1=\"333\" x2=\"373\" y1=\"617.9375\" y2=\"617.9375\"/><!--MD5=[ebbe1d658d1005bcc118a6aa81145e00]\n",
       "class E4--><rect fill=\"#FFFFFF\" height=\"66.7422\" id=\"E4\" style=\"stroke: #383838; stroke-width: 1.5;\" width=\"117\" x=\"73.5\" y=\"852\"/><text fill=\"#000000\" font-family=\"sans-serif\" font-size=\"12\" font-style=\"italic\" lengthAdjust=\"spacingAndGlyphs\" textLength=\"115\" x=\"74.5\" y=\"868.1387\">«requirement def»</text><text fill=\"#000000\" font-family=\"sans-serif\" font-size=\"12\" lengthAdjust=\"spacingAndGlyphs\" textLength=\"107\" x=\"78.5\" y=\"882.1074\">AnalysisObjective</text><line style=\"stroke: #383838; stroke-width: 1.5;\" x1=\"74.5\" x2=\"189.5\" y1=\"889.9375\" y2=\"889.9375\"/><text fill=\"#000000\" font-family=\"sans-serif\" font-size=\"11\" lengthAdjust=\"spacingAndGlyphs\" textLength=\"12\" x=\"79.5\" y=\"904.1479\">...</text><line style=\"stroke: #383838; stroke-width: 1.0;\" x1=\"74.5\" x2=\"189.5\" y1=\"910.7422\" y2=\"910.7422\"/><!--MD5=[270fce915f116d4de14055a7c1d9a0f3]\n",
       "class E5--><rect fill=\"#FFFFFF\" height=\"45.9375\" id=\"E5\" style=\"stroke: #383838; stroke-width: 1.5;\" width=\"90\" x=\"207\" y=\"580\"/><text fill=\"#000000\" font-family=\"sans-serif\" font-size=\"12\" font-style=\"italic\" lengthAdjust=\"spacingAndGlyphs\" textLength=\"88\" x=\"208\" y=\"596.1387\">«analysis def»</text><text fill=\"#000000\" font-family=\"sans-serif\" font-size=\"12\" lengthAdjust=\"spacingAndGlyphs\" textLength=\"81\" x=\"211.5\" y=\"610.1074\">AnalysisCase</text><line style=\"stroke: #383838; stroke-width: 1.5;\" x1=\"208\" x2=\"296\" y1=\"617.9375\" y2=\"617.9375\"/><!--MD5=[60a26617385b1d2d0262a64233df1f8d]\n",
       "class E6--><rect fill=\"#FFFFFF\" height=\"88.3516\" id=\"E6\" rx=\"10\" ry=\"10\" style=\"stroke: #383838; stroke-width: 1.5;\" width=\"165\" x=\"49.5\" y=\"703\"/><text fill=\"#000000\" font-family=\"sans-serif\" font-size=\"12\" font-style=\"italic\" lengthAdjust=\"spacingAndGlyphs\" textLength=\"91\" x=\"86.5\" y=\"719.1387\">«requirement»</text><text fill=\"#000000\" font-family=\"sans-serif\" font-size=\"12\" lengthAdjust=\"spacingAndGlyphs\" textLength=\"134\" x=\"65\" y=\"733.1074\">obj: AnalysisObjective</text><line style=\"stroke: #383838; stroke-width: 1.5;\" x1=\"50.5\" x2=\"213.5\" y1=\"740.9375\" y2=\"740.9375\"/><text fill=\"#000000\" font-family=\"sans-serif\" font-size=\"11\" lengthAdjust=\"spacingAndGlyphs\" textLength=\"130\" x=\"55.5\" y=\"771.9526\">subj: Anything= result;</text><text fill=\"#000000\" font-family=\"sans-serif\" font-size=\"11\" font-style=\"italic\" lengthAdjust=\"spacingAndGlyphs\" textLength=\"153\" x=\"55.5\" y=\"784.7573\">:&gt;&gt;AnalysisObjective::subj</text><line style=\"stroke: #383838; stroke-width: 1.0;\" x1=\"50.5\" x2=\"101\" y1=\"755.3398\" y2=\"755.3398\"/><text fill=\"#000000\" font-family=\"sans-serif\" font-size=\"11\" lengthAdjust=\"spacingAndGlyphs\" textLength=\"62\" x=\"101\" y=\"758.6479\">references</text><line style=\"stroke: #383838; stroke-width: 1.0;\" x1=\"163\" x2=\"213.5\" y1=\"755.3398\" y2=\"755.3398\"/><!--MD5=[2156ba9850f5573cc1fc38a6a4b2f02b]\n",
       "class E7--><rect fill=\"#FFFFFF\" height=\"45.9375\" id=\"E7\" style=\"stroke: #383838; stroke-width: 1.5;\" width=\"90\" x=\"155\" y=\"313\"/><text fill=\"#000000\" font-family=\"sans-serif\" font-size=\"12\" font-style=\"italic\" lengthAdjust=\"spacingAndGlyphs\" textLength=\"88\" x=\"156\" y=\"329.1387\">«analysis def»</text><text fill=\"#000000\" font-family=\"sans-serif\" font-size=\"12\" lengthAdjust=\"spacingAndGlyphs\" textLength=\"77\" x=\"161.5\" y=\"343.1074\">AnalysisPlan</text><line style=\"stroke: #383838; stroke-width: 1.5;\" x1=\"156\" x2=\"244\" y1=\"350.9375\" y2=\"350.9375\"/><!--MD5=[b9389687b975829384b498ac4b7476b2]\n",
       "class E8--><rect fill=\"#FFFFFF\" height=\"66.7422\" id=\"E8\" rx=\"10\" ry=\"10\" style=\"stroke: #383838; stroke-width: 1.5;\" width=\"151\" x=\"243.5\" y=\"436\"/><text fill=\"#000000\" font-family=\"sans-serif\" font-size=\"12\" font-style=\"italic\" lengthAdjust=\"spacingAndGlyphs\" textLength=\"91\" x=\"273.5\" y=\"452.1387\">«requirement»</text><text fill=\"#000000\" font-family=\"sans-serif\" font-size=\"12\" lengthAdjust=\"spacingAndGlyphs\" textLength=\"145\" x=\"246.5\" y=\"466.1074\">obj: RequirementCheck</text><line style=\"stroke: #383838; stroke-width: 1.5;\" x1=\"244.5\" x2=\"393.5\" y1=\"473.9375\" y2=\"473.9375\"/><text fill=\"#000000\" font-family=\"sans-serif\" font-size=\"11\" lengthAdjust=\"spacingAndGlyphs\" textLength=\"12\" x=\"249.5\" y=\"488.1479\">...</text><line style=\"stroke: #383838; stroke-width: 1.0;\" x1=\"244.5\" x2=\"393.5\" y1=\"494.7422\" y2=\"494.7422\"/><!--MD5=[fd4143e9d270a159db93a4ea2a975926]\n",
       "class E9--><rect fill=\"#FFFFFF\" height=\"45.9375\" id=\"E9\" rx=\"10\" ry=\"10\" style=\"stroke: #383838; stroke-width: 1.5;\" width=\"176\" x=\"32\" y=\"446.5\"/><text fill=\"#000000\" font-family=\"sans-serif\" font-size=\"12\" font-style=\"italic\" lengthAdjust=\"spacingAndGlyphs\" textLength=\"64\" x=\"88\" y=\"462.6387\">«analysis»</text><text fill=\"#000000\" font-family=\"sans-serif\" font-size=\"12\" lengthAdjust=\"spacingAndGlyphs\" textLength=\"170\" x=\"35\" y=\"476.6074\">analysisCase: AnalysisCase</text><line style=\"stroke: #383838; stroke-width: 1.5;\" x1=\"33\" x2=\"207\" y1=\"484.4375\" y2=\"484.4375\"/><!--MD5=[96f4274e9e20536e775497830990834d]\n",
       "class E10--><rect fill=\"#FFFFFF\" height=\"45.9375\" id=\"E10\" rx=\"10\" ry=\"10\" style=\"stroke: #383838; stroke-width: 1.5;\" width=\"140\" x=\"32\" y=\"580\"/><text fill=\"#000000\" font-family=\"sans-serif\" font-size=\"12\" font-style=\"italic\" lengthAdjust=\"spacingAndGlyphs\" textLength=\"91\" x=\"56.5\" y=\"596.1387\">«requirement»</text><text fill=\"#000000\" font-family=\"sans-serif\" font-size=\"12\" lengthAdjust=\"spacingAndGlyphs\" textLength=\"134\" x=\"35\" y=\"610.1074\">obj: AnalysisObjective</text><line style=\"stroke: #383838; stroke-width: 1.5;\" x1=\"33\" x2=\"171\" y1=\"617.9375\" y2=\"617.9375\"/><!--MD5=[1dd1bfd58a279cf63c5f349dbc8fc6a1]\n",
       "class E11--><rect fill=\"#FFFFFF\" height=\"45.9375\" id=\"E11\" rx=\"10\" ry=\"10\" style=\"stroke: #383838; stroke-width: 1.5;\" width=\"138\" x=\"209\" y=\"41\"/><text fill=\"#000000\" font-family=\"sans-serif\" font-size=\"12\" font-style=\"italic\" lengthAdjust=\"spacingAndGlyphs\" textLength=\"40\" x=\"258\" y=\"57.1387\">«part»</text><text fill=\"#000000\" font-family=\"sans-serif\" font-size=\"12\" lengthAdjust=\"spacingAndGlyphs\" textLength=\"132\" x=\"212\" y=\"71.1074\">analysisContext: Part</text><line style=\"stroke: #383838; stroke-width: 1.5;\" x1=\"210\" x2=\"346\" y1=\"78.9375\" y2=\"78.9375\"/><!--MD5=[49a0ec8f00dab7302a31f22d0f0fe584]\n",
       "class E12--><rect fill=\"#FFFFFF\" height=\"88.3516\" id=\"E12\" rx=\"10\" ry=\"10\" style=\"stroke: #383838; stroke-width: 1.5;\" width=\"168\" x=\"194\" y=\"148\"/><text fill=\"#000000\" font-family=\"sans-serif\" font-size=\"12\" font-style=\"italic\" lengthAdjust=\"spacingAndGlyphs\" textLength=\"64\" x=\"246\" y=\"164.1387\">«analysis»</text><text fill=\"#000000\" font-family=\"sans-serif\" font-size=\"12\" lengthAdjust=\"spacingAndGlyphs\" textLength=\"162\" x=\"197\" y=\"178.1074\">analysisPlan: AnalysisPlan</text><line style=\"stroke: #383838; stroke-width: 1.5;\" x1=\"195\" x2=\"361\" y1=\"185.9375\" y2=\"185.9375\"/><text fill=\"#000000\" font-family=\"sans-serif\" font-size=\"11\" lengthAdjust=\"spacingAndGlyphs\" textLength=\"50\" x=\"200\" y=\"216.9526\">v: V= vv;</text><text fill=\"#000000\" font-family=\"sans-serif\" font-size=\"11\" font-style=\"italic\" lengthAdjust=\"spacingAndGlyphs\" textLength=\"107\" x=\"200\" y=\"229.7573\">:&gt;&gt;AnalysisPlan::v</text><line style=\"stroke: #383838; stroke-width: 1.0;\" x1=\"195\" x2=\"247\" y1=\"200.3398\" y2=\"200.3398\"/><text fill=\"#000000\" font-family=\"sans-serif\" font-size=\"11\" lengthAdjust=\"spacingAndGlyphs\" textLength=\"62\" x=\"247\" y=\"203.6479\">references</text><line style=\"stroke: #383838; stroke-width: 1.0;\" x1=\"309\" x2=\"361\" y1=\"200.3398\" y2=\"200.3398\"/><!--MD5=[ee3c913d1a06f366521f9ef512b67efe]\n",
       "class E13--><rect fill=\"#FFFFFF\" height=\"45.9375\" id=\"E13\" rx=\"10\" ry=\"10\" style=\"stroke: #383838; stroke-width: 1.5;\" width=\"151\" x=\"280.5\" y=\"313\"/><text fill=\"#000000\" font-family=\"sans-serif\" font-size=\"12\" font-style=\"italic\" lengthAdjust=\"spacingAndGlyphs\" textLength=\"91\" x=\"310.5\" y=\"329.1387\">«requirement»</text><text fill=\"#000000\" font-family=\"sans-serif\" font-size=\"12\" lengthAdjust=\"spacingAndGlyphs\" textLength=\"145\" x=\"283.5\" y=\"343.1074\">obj: RequirementCheck</text><line style=\"stroke: #383838; stroke-width: 1.5;\" x1=\"281.5\" x2=\"430.5\" y1=\"350.9375\" y2=\"350.9375\"/><!--MD5=[05d275557350bfb9b23a4ef7222b4c39]\n",
       "link E3 to E2--><path d=\"M353,626.19 C353,645.1 353,672.96 353,697.05 \" fill=\"none\" id=\"E3-&gt;E2\" style=\"stroke: #383838; stroke-width: 1.0;\"/><polygon fill=\"#FFFFFF\" points=\"353,717.35,346,698.35,360,698.35,353,717.35\" style=\"stroke: #383838; stroke-width: 1.0;\"/><ellipse cx=\"348\" cy=\"692.65\" fill=\"#383838\" rx=\"2\" ry=\"2\" style=\"stroke: #383838; stroke-width: 1.0;\"/><ellipse cx=\"358\" cy=\"692.65\" fill=\"#383838\" rx=\"2\" ry=\"2\" style=\"stroke: #383838; stroke-width: 1.0;\"/><!--MD5=[15ebcb19ae302d9b601edb458606d402]\n",
       "link E5 to E2--><path d=\"M258.9,626.21 C263.85,640.29 271.34,658.51 281,673 C290.76,687.63 303.7,701.84 315.93,713.77 \" fill=\"none\" id=\"E5-&gt;E2\" style=\"stroke: #383838; stroke-width: 1.0; stroke-dasharray: 7.0,7.0;\"/><polygon fill=\"#383838\" points=\"319.69,717.4,315.9879,708.2734,316.0908,713.9293,310.4349,714.0322,319.69,717.4\" style=\"stroke: #383838; stroke-width: 1.0;\"/><text fill=\"#000000\" font-family=\"sans-serif\" font-size=\"13\" lengthAdjust=\"spacingAndGlyphs\" textLength=\"62\" x=\"282\" y=\"669.0669\">«subject»</text><!--MD5=[9120cf2e5df3bff93db8f754bbbc09b4]\n",
       "link E5 to E6--><path d=\"M220.54,626.18 C209.54,634.77 197.56,645.15 188,656 C177.43,667.99 167.59,682.21 159.19,695.75 \" fill=\"none\" id=\"E5-&gt;E6\" style=\"stroke: #383838; stroke-width: 1.0;\"/><polygon fill=\"#383838\" points=\"154.94,702.76,161.6576,697.4805,156.5297,694.3652,154.94,702.76\" style=\"stroke: #383838; stroke-width: 1.0;\"/><text fill=\"#000000\" font-family=\"sans-serif\" font-size=\"13\" lengthAdjust=\"spacingAndGlyphs\" textLength=\"73\" x=\"189\" y=\"669.0669\">«objective»</text><!--MD5=[f667431f98296947986a1a7595a31603]\n",
       "link E6 to E4--><path d=\"M132,791.19 C132,804.11 132,818.41 132,831.87 \" fill=\"none\" id=\"E6-&gt;E4\" style=\"stroke: #383838; stroke-width: 1.0;\"/><polygon fill=\"#FFFFFF\" points=\"132,851.98,125,832.98,139,832.98,132,851.98\" style=\"stroke: #383838; stroke-width: 1.0;\"/><ellipse cx=\"127\" cy=\"827.28\" fill=\"#383838\" rx=\"2\" ry=\"2\" style=\"stroke: #383838; stroke-width: 1.0;\"/><ellipse cx=\"137\" cy=\"827.28\" fill=\"#383838\" rx=\"2\" ry=\"2\" style=\"stroke: #383838; stroke-width: 1.0;\"/><!--MD5=[583832df87f4419a098336a29a52fa00]\n",
       "link E7 to E2--><path d=\"M245,352.87 C283.11,366.41 332.96,384.4 342,389 C375.39,406.01 394.37,402.93 412,436 C460.85,527.64 405.01,653.54 372.73,712.72 \" fill=\"none\" id=\"E7-&gt;E2\" style=\"stroke: #383838; stroke-width: 1.0; stroke-dasharray: 7.0,7.0;\"/><polygon fill=\"#383838\" points=\"370.26,717.2,378.1126,711.2555,372.6773,712.8232,371.1096,707.3879,370.26,717.2\" style=\"stroke: #383838; stroke-width: 1.0;\"/><text fill=\"#000000\" font-family=\"sans-serif\" font-size=\"13\" lengthAdjust=\"spacingAndGlyphs\" textLength=\"62\" x=\"431\" y=\"546.0669\">«subject»</text><!--MD5=[79bc8f324ef4d02c541433f2e6e513c3]\n",
       "link E7 to E8--><path d=\"M219.92,359.01 C237.35,378.27 263.08,406.7 283.95,429.76 \" fill=\"none\" id=\"E7-&gt;E8\" style=\"stroke: #383838; stroke-width: 1.0;\"/><polygon fill=\"#383838\" points=\"289.42,435.81,286.2823,427.863,281.8306,431.8857,289.42,435.81\" style=\"stroke: #383838; stroke-width: 1.0;\"/><text fill=\"#000000\" font-family=\"sans-serif\" font-size=\"13\" lengthAdjust=\"spacingAndGlyphs\" textLength=\"73\" x=\"260\" y=\"402.0669\">«objective»</text><!--MD5=[bfc3ddf2e613be37104f658f09af896c]\n",
       "link E9 to E5--><path d=\"M148.4,492.58 C162.6,504.09 179.75,518.71 194,533 C203.65,542.67 213.46,553.77 222.2,564.19 \" fill=\"none\" id=\"E9-&gt;E5\" style=\"stroke: #383838; stroke-width: 1.0;\"/><polygon fill=\"#FFFFFF\" points=\"234.88,579.72,217.4416,569.4291,228.2864,560.5752,234.88,579.72\" style=\"stroke: #383838; stroke-width: 1.0;\"/><ellipse cx=\"215.3861\" cy=\"563.7489\" fill=\"#383838\" rx=\"2\" ry=\"2\" style=\"stroke: #383838; stroke-width: 1.0;\"/><ellipse cx=\"223.1323\" cy=\"557.4246\" fill=\"#383838\" rx=\"2\" ry=\"2\" style=\"stroke: #383838; stroke-width: 1.0;\"/><!--MD5=[e4a10ef82d0e328e31cac39a31e58dda]\n",
       "reverse link E7 to E9--><path d=\"M179.71,370.36 C165.2,394.21 146.08,425.63 133.43,446.42 \" fill=\"none\" id=\"E7&lt;-E9\" style=\"stroke: #383838; stroke-width: 1.0;\"/><polygon fill=\"#383838\" points=\"186.61,359.01,180.0734,362.0551,180.3702,369.2601,186.9068,366.215,186.61,359.01\" style=\"stroke: #383838; stroke-width: 1.0;\"/><!--MD5=[35e5f1cbde42fa304a029880aa2bc7f2]\n",
       "link E9 to E10--><path d=\"M116.99,492.51 C114.01,514.22 109.45,547.59 106.14,571.78 \" fill=\"none\" id=\"E9-&gt;E10\" style=\"stroke: #383838; stroke-width: 1.0;\"/><polygon fill=\"#383838\" points=\"105.02,579.92,109.0776,572.401,103.1331,571.587,105.02,579.92\" style=\"stroke: #383838; stroke-width: 1.0;\"/><text fill=\"#000000\" font-family=\"sans-serif\" font-size=\"13\" lengthAdjust=\"spacingAndGlyphs\" textLength=\"73\" x=\"112\" y=\"546.0669\">«objective»</text><!--MD5=[198716bf12f04006f5c20d61bde6d80d]\n",
       "link E10 to E6--><path d=\"M103.57,626.22 C104.78,639.82 106.8,657.53 110,673 C110.69,676.34 111.47,679.75 112.3,683.18 \" fill=\"none\" id=\"E10-&gt;E6\" style=\"stroke: #383838; stroke-width: 1.0;\"/><polygon fill=\"#FFFFFF\" points=\"117.58,702.7,105.8698,686.1812,119.3859,682.5322,117.58,702.7\" style=\"stroke: #383838; stroke-width: 1.0;\"/><line style=\"stroke: #383838; stroke-width: 2.0;\" x1=\"104.8794\" x2=\"118.3955\" y1=\"682.5125\" y2=\"678.8636\"/><!--MD5=[ae660f5ecd7ddb04a8913625960940af]\n",
       "link E12 to E7--><path d=\"M254.17,236.38 C243.87,255.14 231.88,276.96 221.81,295.29 \" fill=\"none\" id=\"E12-&gt;E7\" style=\"stroke: #383838; stroke-width: 1.0;\"/><polygon fill=\"#FFFFFF\" points=\"212.16,312.87,215.1723,292.8469,227.4429,299.5872,212.16,312.87\" style=\"stroke: #383838; stroke-width: 1.0;\"/><ellipse cx=\"219.6695\" cy=\"288.8139\" fill=\"#383838\" rx=\"2\" ry=\"2\" style=\"stroke: #383838; stroke-width: 1.0;\"/><ellipse cx=\"228.4342\" cy=\"293.6284\" fill=\"#383838\" rx=\"2\" ry=\"2\" style=\"stroke: #383838; stroke-width: 1.0;\"/><!--MD5=[94adabc162ce7e41b39f13be14fbaeb3]\n",
       "reverse link E11 to E12--><path d=\"M278,100.45 C278,115.17 278,132.39 278,147.84 \" fill=\"none\" id=\"E11&lt;-E12\" style=\"stroke: #383838; stroke-width: 1.0;\"/><polygon fill=\"#383838\" points=\"278,87.24,274,93.24,278,99.24,282,93.24,278,87.24\" style=\"stroke: #383838; stroke-width: 1.0;\"/><!--MD5=[e2a9ac97dcd3257bb5342dae06547bad]\n",
       "link E12 to E13--><path d=\"M301.83,236.38 C314.2,258.89 328.98,285.81 339.97,305.82 \" fill=\"none\" id=\"E12-&gt;E13\" style=\"stroke: #383838; stroke-width: 1.0;\"/><polygon fill=\"#383838\" points=\"343.84,312.87,342.6199,304.4136,337.3604,307.3009,343.84,312.87\" style=\"stroke: #383838; stroke-width: 1.0;\"/><text fill=\"#000000\" font-family=\"sans-serif\" font-size=\"13\" lengthAdjust=\"spacingAndGlyphs\" textLength=\"73\" x=\"327\" y=\"279.0669\">«objective»</text><!--MD5=[76430db4f08261a687c1b1d6fc29a404]\n",
       "@startuml\r\n",
       "top to bottom direction\r\n",
       "skinparam monochrome true\r\n",
       "skinparam classbackgroundcolor white\r\n",
       "skinparam shadowing false\r\n",
       "skinparam wrapWidth 300\r\n",
       "hide circle\r\n",
       "\r\n",
       "package \"AnalysisTest\" as E1   {\r\n",
       "comp def \"V\" as E2  <<(T,blue)part def>> {\r\n",
       "m: DataValue\r\n",
       "}\r\n",
       "comp usage \"vv: V\" as E3  <<(T,blue)part>> {\r\n",
       "}\r\n",
       "comp def \"AnalysisObjective\" as E4  <<(T,blue)requirement def>> {\r\n",
       "...\r\n",
       "- -\r\n",
       "}\r\n",
       "comp def \"AnalysisCase\" as E5 <<analysis def>> {\r\n",
       "}\r\n",
       "comp usage \"obj: AnalysisObjective\" as E6  <<(T,blue)requirement>> {\r\n",
       "- -references- -\r\n",
       "subj: Anything= result; \\n//:>>AnalysisObjective::subj// \r\n",
       "}\r\n",
       "comp def \"AnalysisPlan\" as E7 <<analysis def>> {\r\n",
       "}\r\n",
       "comp usage \"obj: RequirementCheck\" as E8  <<(T,blue)requirement>> {\r\n",
       "...\r\n",
       "- -\r\n",
       "}\r\n",
       "comp usage \"analysisCase: AnalysisCase\" as E9 <<analysis>> {\r\n",
       "}\r\n",
       "comp usage \"obj: AnalysisObjective\" as E10  <<(T,blue)requirement>> {\r\n",
       "}\r\n",
       "comp usage \"analysisContext: Part\" as E11  <<(T,blue)part>> {\r\n",
       "}\r\n",
       "comp usage \"analysisPlan: AnalysisPlan\" as E12 <<analysis>> {\r\n",
       "- -references- -\r\n",
       "v: V= vv; \\n//:>>AnalysisPlan::v// \r\n",
       "}\r\n",
       "comp usage \"obj: RequirementCheck\" as E13  <<(T,blue)requirement>> {\r\n",
       "}\r\n",
       "E3 - -:|> E2\r\n",
       "E5 ..> E2 : <<subject>>\r\n",
       "E5 - ->> E6 : <<objective>>\r\n",
       "E6 - -:|> E4\r\n",
       "E7 ..> E2 : <<subject>>\r\n",
       "E7 - ->> E8 : <<objective>>\r\n",
       "E9 - -:|> E5\r\n",
       "E7 *- - E9\r\n",
       "E9 - ->> E10 : <<objective>>\r\n",
       "E10 - -||> E6\r\n",
       "E12 - -:|> E7\r\n",
       "E11 *- - E12\r\n",
       "E12 - ->> E13 : <<objective>>\r\n",
       "}\r\n",
       "@enduml\r\n",
       "\n",
       "PlantUML version 1.2020.13(Sat Jun 13 12:26:38 UTC 2020)\n",
       "(EPL source distribution)\n",
       "Java Runtime: OpenJDK Runtime Environment\n",
       "JVM: OpenJDK 64-Bit Server VM\n",
       "Default Encoding: UTF-8\n",
       "Language: en\n",
       "Country: null\n",
       "--></g></svg>"
      ]
     },
     "execution_count": 45,
     "metadata": {},
     "output_type": "execute_result"
    }
   ],
   "source": [
    "%viz --style=\"TB\" --view=\"Tree\" \"AnalysisTest\""
   ]
  },
  {
   "cell_type": "code",
   "execution_count": 46,
   "id": "retained-castle",
   "metadata": {
    "execution": {
     "iopub.execute_input": "2021-03-26T09:41:48.329392Z",
     "iopub.status.busy": "2021-03-26T09:41:48.328703Z",
     "iopub.status.idle": "2021-03-26T09:41:48.330382Z",
     "shell.execute_reply": "2021-03-26T09:41:48.330706Z"
    }
   },
   "outputs": [
    {
     "data": {
      "text/plain": [
       "java.lang.IllegalArgumentException: Invalid View: State View candidates are: Default Tree StateMachine Interconnection Activity Sequence MIXED \n",
       "\tat org.omg.sysml.plantuml.SysML2PlantUMLSvc.setView(SysML2PlantUMLSvc.java:63)\n",
       "\tat org.omg.sysml.interactive.SysMLInteractive.viz(SysMLInteractive.java:286)\n",
       "\tat org.omg.sysml.jupyter.kernel.magic.Viz.viz(Viz.java:47)\n",
       "\tat jdk.internal.reflect.GeneratedMethodAccessor13.invoke(Unknown Source)\n",
       "\tat java.base/jdk.internal.reflect.DelegatingMethodAccessorImpl.invoke(DelegatingMethodAccessorImpl.java:43)\n",
       "\tat java.base/java.lang.reflect.Method.invoke(Method.java:568)\n",
       "\tat io.github.spencerpark.jupyter.kernel.magic.registry.Magics.invoke(Magics.java:89)\n",
       "\tat io.github.spencerpark.jupyter.kernel.magic.registry.Magics.access$000(Magics.java:8)\n",
       "\tat io.github.spencerpark.jupyter.kernel.magic.registry.Magics$LineReflectionMagicFunction.execute(Magics.java:149)\n",
       "\tat io.github.spencerpark.jupyter.kernel.magic.registry.Magics.applyLineMagic(Magics.java:26)\n",
       "\tat org.omg.sysml.jupyter.kernel.SysMLKernel.eval(SysMLKernel.java:76)\n",
       "\tat io.github.spencerpark.jupyter.kernel.BaseKernel.handleExecuteRequest(BaseKernel.java:334)\n",
       "\tat io.github.spencerpark.jupyter.channels.ShellChannel.lambda$bind$0(ShellChannel.java:64)\n",
       "\tat io.github.spencerpark.jupyter.channels.Loop.lambda$new$0(Loop.java:21)\n",
       "\tat io.github.spencerpark.jupyter.channels.Loop.run(Loop.java:78)\n"
      ]
     },
     "execution_count": 46,
     "metadata": {},
     "output_type": "execute_result"
    }
   ],
   "source": [
    "%viz --style=\"TB\" --view=\"State\" \"AnalysisTest\""
   ]
  },
  {
   "cell_type": "code",
   "execution_count": 47,
   "id": "serious-student",
   "metadata": {
    "execution": {
     "iopub.execute_input": "2021-03-26T09:41:48.382045Z",
     "iopub.status.busy": "2021-03-26T09:41:48.381432Z",
     "iopub.status.idle": "2021-03-26T09:41:48.404255Z",
     "shell.execute_reply": "2021-03-26T09:41:48.402938Z"
    }
   },
   "outputs": [
    {
     "data": {
      "image/svg+xml": [
       "<?xml version=\"1.0\" encoding=\"UTF-8\" standalone=\"no\"?><svg xmlns=\"http://www.w3.org/2000/svg\" xmlns:xlink=\"http://www.w3.org/1999/xlink\" contentScriptType=\"application/ecmascript\" contentStyleType=\"text/css\" height=\"202px\" preserveAspectRatio=\"none\" style=\"width:957px;height:202px;\" version=\"1.1\" viewBox=\"0 0 957 202\" width=\"957px\" zoomAndPan=\"magnify\"><defs/><g><!--MD5=[fbc87193dbaf4d95561dea2c320d4a47]\n",
       "cluster E1--><polygon fill=\"#FFFFFF\" points=\"16,6,122,6,129,28.2969,935,28.2969,935,190,16,190,16,6\" style=\"stroke: #000000; stroke-width: 1.5;\"/><line style=\"stroke: #000000; stroke-width: 1.5;\" x1=\"16\" x2=\"129\" y1=\"28.2969\" y2=\"28.2969\"/><text fill=\"#000000\" font-family=\"sans-serif\" font-size=\"14\" font-weight=\"bold\" lengthAdjust=\"spacingAndGlyphs\" textLength=\"100\" x=\"20\" y=\"20.9951\">AnalysisTest</text><!--MD5=[e4f7fae6ed58524ba242bb0b0d3be6b7]\n",
       "cluster E2--><rect fill=\"#FFFFFF\" height=\"117\" style=\"stroke: #000000; stroke-width: 1.5;\" width=\"144\" x=\"767\" y=\"49\"/><text fill=\"#000000\" font-family=\"sans-serif\" font-size=\"14\" font-style=\"italic\" lengthAdjust=\"spacingAndGlyphs\" textLength=\"71\" x=\"803.5\" y=\"63.9951\">«part def»</text><text fill=\"#000000\" font-family=\"sans-serif\" font-size=\"14\" font-weight=\"bold\" lengthAdjust=\"spacingAndGlyphs\" textLength=\"11\" x=\"833.5\" y=\"80.292\">V</text><!--MD5=[270fce915f116d4de14055a7c1d9a0f3]\n",
       "class E5--><rect fill=\"#FFFFFF\" height=\"53.9375\" id=\"E5\" style=\"stroke: #383838; stroke-width: 1.5;\" width=\"117\" x=\"630.5\" y=\"98\"/><text fill=\"#000000\" font-family=\"sans-serif\" font-size=\"12\" font-style=\"italic\" lengthAdjust=\"spacingAndGlyphs\" textLength=\"115\" x=\"631.5\" y=\"114.1387\">«requirement def»</text><text fill=\"#000000\" font-family=\"sans-serif\" font-size=\"12\" lengthAdjust=\"spacingAndGlyphs\" textLength=\"107\" x=\"635.5\" y=\"128.1074\">AnalysisObjective</text><line style=\"stroke: #383838; stroke-width: 1.5;\" x1=\"631.5\" x2=\"746.5\" y1=\"135.9375\" y2=\"135.9375\"/><line style=\"stroke: #383838; stroke-width: 1.5;\" x1=\"631.5\" x2=\"746.5\" y1=\"143.9375\" y2=\"143.9375\"/><!--MD5=[60a26617385b1d2d0262a64233df1f8d]\n",
       "class E6--><rect fill=\"#FFFFFF\" height=\"53.9375\" id=\"E6\" style=\"stroke: #383838; stroke-width: 1.5;\" width=\"121\" x=\"474.5\" y=\"98\"/><text fill=\"#000000\" font-family=\"sans-serif\" font-size=\"12\" font-style=\"italic\" lengthAdjust=\"spacingAndGlyphs\" textLength=\"119\" x=\"475.5\" y=\"114.1387\">«analysisCase def»</text><text fill=\"#000000\" font-family=\"sans-serif\" font-size=\"12\" lengthAdjust=\"spacingAndGlyphs\" textLength=\"81\" x=\"494.5\" y=\"128.1074\">AnalysisCase</text><line style=\"stroke: #383838; stroke-width: 1.5;\" x1=\"475.5\" x2=\"594.5\" y1=\"135.9375\" y2=\"135.9375\"/><line style=\"stroke: #383838; stroke-width: 1.5;\" x1=\"475.5\" x2=\"594.5\" y1=\"143.9375\" y2=\"143.9375\"/><!--MD5=[2156ba9850f5573cc1fc38a6a4b2f02b]\n",
       "class E7--><rect fill=\"#FFFFFF\" height=\"53.9375\" id=\"E7\" style=\"stroke: #383838; stroke-width: 1.5;\" width=\"121\" x=\"318.5\" y=\"98\"/><text fill=\"#000000\" font-family=\"sans-serif\" font-size=\"12\" font-style=\"italic\" lengthAdjust=\"spacingAndGlyphs\" textLength=\"119\" x=\"319.5\" y=\"114.1387\">«analysisCase def»</text><text fill=\"#000000\" font-family=\"sans-serif\" font-size=\"12\" lengthAdjust=\"spacingAndGlyphs\" textLength=\"77\" x=\"340.5\" y=\"128.1074\">AnalysisPlan</text><line style=\"stroke: #383838; stroke-width: 1.5;\" x1=\"319.5\" x2=\"438.5\" y1=\"135.9375\" y2=\"135.9375\"/><line style=\"stroke: #383838; stroke-width: 1.5;\" x1=\"319.5\" x2=\"438.5\" y1=\"143.9375\" y2=\"143.9375\"/><g id=\"E1.E2.E3\"><rect fill=\"#FFFFFF\" height=\"50\" rx=\"12.5\" ry=\"12.5\" style=\"stroke: #383838; stroke-width: 1.5;\" width=\"112\" x=\"783\" y=\"100\"/><line style=\"stroke: #383838; stroke-width: 1.5;\" x1=\"783\" x2=\"895\" y1=\"126.2969\" y2=\"126.2969\"/><text fill=\"#000000\" font-family=\"sans-serif\" font-size=\"14\" lengthAdjust=\"spacingAndGlyphs\" textLength=\"92\" x=\"793\" y=\"117.9951\">m: DataValue</text></g><g id=\"E1.E4\"><rect fill=\"#FFFFFF\" height=\"50\" rx=\"12.5\" ry=\"12.5\" style=\"stroke: #383838; stroke-width: 1.5;\" width=\"52\" x=\"231\" y=\"100\"/><line style=\"stroke: #383838; stroke-width: 1.5;\" x1=\"231\" x2=\"283\" y1=\"126.2969\" y2=\"126.2969\"/><text fill=\"#000000\" font-family=\"sans-serif\" font-size=\"14\" lengthAdjust=\"spacingAndGlyphs\" textLength=\"32\" x=\"241\" y=\"117.9951\">vv: V</text></g><g id=\"E1.E8\"><rect fill=\"#FFFFFF\" height=\"50\" rx=\"12.5\" ry=\"12.5\" style=\"stroke: #383838; stroke-width: 1.5;\" width=\"164\" x=\"32\" y=\"100\"/><line style=\"stroke: #383838; stroke-width: 1.5;\" x1=\"32\" x2=\"196\" y1=\"126.2969\" y2=\"126.2969\"/><text fill=\"#000000\" font-family=\"sans-serif\" font-size=\"14\" lengthAdjust=\"spacingAndGlyphs\" textLength=\"144\" x=\"42\" y=\"117.9951\">analysisContext: Part</text></g><!--MD5=[86bc997677e9db8288b6a75ae97ef7d8]\n",
       "@startuml\r\n",
       "skinparam ranksep 8\r\n",
       "skinparam rectangle {\r\n",
       " backgroundColor<<block>> LightGreen\r\n",
       "}\r\n",
       "top to bottom direction\r\n",
       "skinparam monochrome true\r\n",
       "skinparam classbackgroundcolor white\r\n",
       "skinparam shadowing false\r\n",
       "skinparam wrapWidth 300\r\n",
       "hide circle\r\n",
       "\r\n",
       "package \"AnalysisTest\" as E1   {\r\n",
       "rec def \"V\" as E2  <<part def>> {\r\n",
       "rec usage \"m: DataValue\" as E3  <<attribute>> {\r\n",
       "}\r\n",
       "}\r\n",
       "rec usage \"vv: V\" as E4  {\r\n",
       "}\r\n",
       "def \"AnalysisObjective\" as E5  <<requirement def>> \r\n",
       "def \"AnalysisCase\" as E6  <<analysisCase def>> \r\n",
       "def \"AnalysisPlan\" as E7  <<analysisCase def>> \r\n",
       "rec usage \"analysisContext: Part\" as E8  {\r\n",
       "}\r\n",
       "}\r\n",
       "@enduml\r\n",
       "\n",
       "PlantUML version 1.2020.13(Sat Jun 13 12:26:38 UTC 2020)\n",
       "(EPL source distribution)\n",
       "Java Runtime: OpenJDK Runtime Environment\n",
       "JVM: OpenJDK 64-Bit Server VM\n",
       "Default Encoding: UTF-8\n",
       "Language: en\n",
       "Country: null\n",
       "--></g></svg>"
      ]
     },
     "execution_count": 47,
     "metadata": {},
     "output_type": "execute_result"
    }
   ],
   "source": [
    "%viz --style=\"TB\" --view=\"Interconnection\" \"AnalysisTest\""
   ]
  },
  {
   "cell_type": "code",
   "execution_count": 48,
   "id": "juvenile-conditioning",
   "metadata": {
    "execution": {
     "iopub.execute_input": "2021-03-26T09:41:48.454705Z",
     "iopub.status.busy": "2021-03-26T09:41:48.454321Z",
     "iopub.status.idle": "2021-03-26T09:41:48.455733Z",
     "shell.execute_reply": "2021-03-26T09:41:48.456123Z"
    }
   },
   "outputs": [
    {
     "data": {
      "text/plain": [
       "java.lang.IllegalArgumentException: Invalid View: Action View candidates are: Default Tree StateMachine Interconnection Activity Sequence MIXED \n",
       "\tat org.omg.sysml.plantuml.SysML2PlantUMLSvc.setView(SysML2PlantUMLSvc.java:63)\n",
       "\tat org.omg.sysml.interactive.SysMLInteractive.viz(SysMLInteractive.java:286)\n",
       "\tat org.omg.sysml.jupyter.kernel.magic.Viz.viz(Viz.java:47)\n",
       "\tat jdk.internal.reflect.GeneratedMethodAccessor13.invoke(Unknown Source)\n",
       "\tat java.base/jdk.internal.reflect.DelegatingMethodAccessorImpl.invoke(DelegatingMethodAccessorImpl.java:43)\n",
       "\tat java.base/java.lang.reflect.Method.invoke(Method.java:568)\n",
       "\tat io.github.spencerpark.jupyter.kernel.magic.registry.Magics.invoke(Magics.java:89)\n",
       "\tat io.github.spencerpark.jupyter.kernel.magic.registry.Magics.access$000(Magics.java:8)\n",
       "\tat io.github.spencerpark.jupyter.kernel.magic.registry.Magics$LineReflectionMagicFunction.execute(Magics.java:149)\n",
       "\tat io.github.spencerpark.jupyter.kernel.magic.registry.Magics.applyLineMagic(Magics.java:26)\n",
       "\tat org.omg.sysml.jupyter.kernel.SysMLKernel.eval(SysMLKernel.java:76)\n",
       "\tat io.github.spencerpark.jupyter.kernel.BaseKernel.handleExecuteRequest(BaseKernel.java:334)\n",
       "\tat io.github.spencerpark.jupyter.channels.ShellChannel.lambda$bind$0(ShellChannel.java:64)\n",
       "\tat io.github.spencerpark.jupyter.channels.Loop.lambda$new$0(Loop.java:21)\n",
       "\tat io.github.spencerpark.jupyter.channels.Loop.run(Loop.java:78)\n"
      ]
     },
     "execution_count": 48,
     "metadata": {},
     "output_type": "execute_result"
    }
   ],
   "source": [
    "%viz --style=\"TB\" --view=\"Action\" \"AnalysisTest\""
   ]
  },
  {
   "cell_type": "code",
   "execution_count": 49,
   "id": "variable-sailing",
   "metadata": {
    "execution": {
     "iopub.execute_input": "2021-03-26T09:41:48.506663Z",
     "iopub.status.busy": "2021-03-26T09:41:48.506333Z",
     "iopub.status.idle": "2021-03-26T09:41:48.597669Z",
     "shell.execute_reply": "2021-03-26T09:41:48.597271Z"
    }
   },
   "outputs": [
    {
     "data": {
      "image/svg+xml": [
       "<?xml version=\"1.0\" encoding=\"UTF-8\" standalone=\"no\"?><svg xmlns=\"http://www.w3.org/2000/svg\" xmlns:xlink=\"http://www.w3.org/1999/xlink\" contentScriptType=\"application/ecmascript\" contentStyleType=\"text/css\" height=\"947px\" preserveAspectRatio=\"none\" style=\"width:505px;height:947px;\" version=\"1.1\" viewBox=\"0 0 505 947\" width=\"505px\" zoomAndPan=\"magnify\"><defs/><g><!--MD5=[fbc87193dbaf4d95561dea2c320d4a47]\n",
       "cluster E1--><polygon fill=\"#FFFFFF\" points=\"16,6,122,6,129,28.2969,448,28.2969,448,935,16,935,16,6\" style=\"stroke: #000000; stroke-width: 1.5;\"/><line style=\"stroke: #000000; stroke-width: 1.5;\" x1=\"16\" x2=\"129\" y1=\"28.2969\" y2=\"28.2969\"/><text fill=\"#000000\" font-family=\"sans-serif\" font-size=\"14\" font-weight=\"bold\" lengthAdjust=\"spacingAndGlyphs\" textLength=\"100\" x=\"20\" y=\"20.9951\">AnalysisTest</text><!--MD5=[b4997ac47864f28c2f74865a473b2911]\n",
       "class E2--><rect fill=\"#FFFFFF\" height=\"58.7422\" id=\"E2\" style=\"stroke: #383838; stroke-width: 1.5;\" width=\"88\" x=\"309\" y=\"717.5\"/><text fill=\"#000000\" font-family=\"sans-serif\" font-size=\"12\" font-style=\"italic\" lengthAdjust=\"spacingAndGlyphs\" textLength=\"64\" x=\"321\" y=\"733.6387\">«part def»</text><text fill=\"#000000\" font-family=\"sans-serif\" font-size=\"12\" lengthAdjust=\"spacingAndGlyphs\" textLength=\"8\" x=\"349\" y=\"747.6074\">V</text><line style=\"stroke: #383838; stroke-width: 1.5;\" x1=\"310\" x2=\"396\" y1=\"755.4375\" y2=\"755.4375\"/><text fill=\"#000000\" font-family=\"sans-serif\" font-size=\"11\" lengthAdjust=\"spacingAndGlyphs\" textLength=\"76\" x=\"315\" y=\"769.6479\">m: DataValue</text><!--MD5=[09b614a08d8cba4a07c9adeb5e0fee81]\n",
       "class E3--><rect fill=\"#FFFFFF\" height=\"45.9375\" id=\"E3\" rx=\"10\" ry=\"10\" style=\"stroke: #383838; stroke-width: 1.5;\" width=\"42\" x=\"332\" y=\"580\"/><text fill=\"#000000\" font-family=\"sans-serif\" font-size=\"12\" font-style=\"italic\" lengthAdjust=\"spacingAndGlyphs\" textLength=\"40\" x=\"333\" y=\"596.1387\">«part»</text><text fill=\"#000000\" font-family=\"sans-serif\" font-size=\"12\" lengthAdjust=\"spacingAndGlyphs\" textLength=\"28\" x=\"339\" y=\"610.1074\">vv: V</text><line style=\"stroke: #383838; stroke-width: 1.5;\" x1=\"333\" x2=\"373\" y1=\"617.9375\" y2=\"617.9375\"/><!--MD5=[ebbe1d658d1005bcc118a6aa81145e00]\n",
       "class E4--><rect fill=\"#FFFFFF\" height=\"66.7422\" id=\"E4\" style=\"stroke: #383838; stroke-width: 1.5;\" width=\"117\" x=\"73.5\" y=\"852\"/><text fill=\"#000000\" font-family=\"sans-serif\" font-size=\"12\" font-style=\"italic\" lengthAdjust=\"spacingAndGlyphs\" textLength=\"115\" x=\"74.5\" y=\"868.1387\">«requirement def»</text><text fill=\"#000000\" font-family=\"sans-serif\" font-size=\"12\" lengthAdjust=\"spacingAndGlyphs\" textLength=\"107\" x=\"78.5\" y=\"882.1074\">AnalysisObjective</text><line style=\"stroke: #383838; stroke-width: 1.5;\" x1=\"74.5\" x2=\"189.5\" y1=\"889.9375\" y2=\"889.9375\"/><text fill=\"#000000\" font-family=\"sans-serif\" font-size=\"11\" lengthAdjust=\"spacingAndGlyphs\" textLength=\"12\" x=\"79.5\" y=\"904.1479\">...</text><line style=\"stroke: #383838; stroke-width: 1.0;\" x1=\"74.5\" x2=\"189.5\" y1=\"910.7422\" y2=\"910.7422\"/><!--MD5=[270fce915f116d4de14055a7c1d9a0f3]\n",
       "class E5--><rect fill=\"#FFFFFF\" height=\"45.9375\" id=\"E5\" style=\"stroke: #383838; stroke-width: 1.5;\" width=\"90\" x=\"207\" y=\"580\"/><text fill=\"#000000\" font-family=\"sans-serif\" font-size=\"12\" font-style=\"italic\" lengthAdjust=\"spacingAndGlyphs\" textLength=\"88\" x=\"208\" y=\"596.1387\">«analysis def»</text><text fill=\"#000000\" font-family=\"sans-serif\" font-size=\"12\" lengthAdjust=\"spacingAndGlyphs\" textLength=\"81\" x=\"211.5\" y=\"610.1074\">AnalysisCase</text><line style=\"stroke: #383838; stroke-width: 1.5;\" x1=\"208\" x2=\"296\" y1=\"617.9375\" y2=\"617.9375\"/><!--MD5=[60a26617385b1d2d0262a64233df1f8d]\n",
       "class E6--><rect fill=\"#FFFFFF\" height=\"88.3516\" id=\"E6\" rx=\"10\" ry=\"10\" style=\"stroke: #383838; stroke-width: 1.5;\" width=\"165\" x=\"49.5\" y=\"703\"/><text fill=\"#000000\" font-family=\"sans-serif\" font-size=\"12\" font-style=\"italic\" lengthAdjust=\"spacingAndGlyphs\" textLength=\"91\" x=\"86.5\" y=\"719.1387\">«requirement»</text><text fill=\"#000000\" font-family=\"sans-serif\" font-size=\"12\" lengthAdjust=\"spacingAndGlyphs\" textLength=\"134\" x=\"65\" y=\"733.1074\">obj: AnalysisObjective</text><line style=\"stroke: #383838; stroke-width: 1.5;\" x1=\"50.5\" x2=\"213.5\" y1=\"740.9375\" y2=\"740.9375\"/><text fill=\"#000000\" font-family=\"sans-serif\" font-size=\"11\" lengthAdjust=\"spacingAndGlyphs\" textLength=\"130\" x=\"55.5\" y=\"771.9526\">subj: Anything= result;</text><text fill=\"#000000\" font-family=\"sans-serif\" font-size=\"11\" font-style=\"italic\" lengthAdjust=\"spacingAndGlyphs\" textLength=\"153\" x=\"55.5\" y=\"784.7573\">:&gt;&gt;AnalysisObjective::subj</text><line style=\"stroke: #383838; stroke-width: 1.0;\" x1=\"50.5\" x2=\"101\" y1=\"755.3398\" y2=\"755.3398\"/><text fill=\"#000000\" font-family=\"sans-serif\" font-size=\"11\" lengthAdjust=\"spacingAndGlyphs\" textLength=\"62\" x=\"101\" y=\"758.6479\">references</text><line style=\"stroke: #383838; stroke-width: 1.0;\" x1=\"163\" x2=\"213.5\" y1=\"755.3398\" y2=\"755.3398\"/><!--MD5=[2156ba9850f5573cc1fc38a6a4b2f02b]\n",
       "class E7--><rect fill=\"#FFFFFF\" height=\"45.9375\" id=\"E7\" style=\"stroke: #383838; stroke-width: 1.5;\" width=\"90\" x=\"155\" y=\"313\"/><text fill=\"#000000\" font-family=\"sans-serif\" font-size=\"12\" font-style=\"italic\" lengthAdjust=\"spacingAndGlyphs\" textLength=\"88\" x=\"156\" y=\"329.1387\">«analysis def»</text><text fill=\"#000000\" font-family=\"sans-serif\" font-size=\"12\" lengthAdjust=\"spacingAndGlyphs\" textLength=\"77\" x=\"161.5\" y=\"343.1074\">AnalysisPlan</text><line style=\"stroke: #383838; stroke-width: 1.5;\" x1=\"156\" x2=\"244\" y1=\"350.9375\" y2=\"350.9375\"/><!--MD5=[b9389687b975829384b498ac4b7476b2]\n",
       "class E8--><rect fill=\"#FFFFFF\" height=\"66.7422\" id=\"E8\" rx=\"10\" ry=\"10\" style=\"stroke: #383838; stroke-width: 1.5;\" width=\"151\" x=\"243.5\" y=\"436\"/><text fill=\"#000000\" font-family=\"sans-serif\" font-size=\"12\" font-style=\"italic\" lengthAdjust=\"spacingAndGlyphs\" textLength=\"91\" x=\"273.5\" y=\"452.1387\">«requirement»</text><text fill=\"#000000\" font-family=\"sans-serif\" font-size=\"12\" lengthAdjust=\"spacingAndGlyphs\" textLength=\"145\" x=\"246.5\" y=\"466.1074\">obj: RequirementCheck</text><line style=\"stroke: #383838; stroke-width: 1.5;\" x1=\"244.5\" x2=\"393.5\" y1=\"473.9375\" y2=\"473.9375\"/><text fill=\"#000000\" font-family=\"sans-serif\" font-size=\"11\" lengthAdjust=\"spacingAndGlyphs\" textLength=\"12\" x=\"249.5\" y=\"488.1479\">...</text><line style=\"stroke: #383838; stroke-width: 1.0;\" x1=\"244.5\" x2=\"393.5\" y1=\"494.7422\" y2=\"494.7422\"/><!--MD5=[fd4143e9d270a159db93a4ea2a975926]\n",
       "class E9--><rect fill=\"#FFFFFF\" height=\"45.9375\" id=\"E9\" rx=\"10\" ry=\"10\" style=\"stroke: #383838; stroke-width: 1.5;\" width=\"176\" x=\"32\" y=\"446.5\"/><text fill=\"#000000\" font-family=\"sans-serif\" font-size=\"12\" font-style=\"italic\" lengthAdjust=\"spacingAndGlyphs\" textLength=\"64\" x=\"88\" y=\"462.6387\">«analysis»</text><text fill=\"#000000\" font-family=\"sans-serif\" font-size=\"12\" lengthAdjust=\"spacingAndGlyphs\" textLength=\"170\" x=\"35\" y=\"476.6074\">analysisCase: AnalysisCase</text><line style=\"stroke: #383838; stroke-width: 1.5;\" x1=\"33\" x2=\"207\" y1=\"484.4375\" y2=\"484.4375\"/><!--MD5=[96f4274e9e20536e775497830990834d]\n",
       "class E10--><rect fill=\"#FFFFFF\" height=\"45.9375\" id=\"E10\" rx=\"10\" ry=\"10\" style=\"stroke: #383838; stroke-width: 1.5;\" width=\"140\" x=\"32\" y=\"580\"/><text fill=\"#000000\" font-family=\"sans-serif\" font-size=\"12\" font-style=\"italic\" lengthAdjust=\"spacingAndGlyphs\" textLength=\"91\" x=\"56.5\" y=\"596.1387\">«requirement»</text><text fill=\"#000000\" font-family=\"sans-serif\" font-size=\"12\" lengthAdjust=\"spacingAndGlyphs\" textLength=\"134\" x=\"35\" y=\"610.1074\">obj: AnalysisObjective</text><line style=\"stroke: #383838; stroke-width: 1.5;\" x1=\"33\" x2=\"171\" y1=\"617.9375\" y2=\"617.9375\"/><!--MD5=[1dd1bfd58a279cf63c5f349dbc8fc6a1]\n",
       "class E11--><rect fill=\"#FFFFFF\" height=\"45.9375\" id=\"E11\" rx=\"10\" ry=\"10\" style=\"stroke: #383838; stroke-width: 1.5;\" width=\"138\" x=\"209\" y=\"41\"/><text fill=\"#000000\" font-family=\"sans-serif\" font-size=\"12\" font-style=\"italic\" lengthAdjust=\"spacingAndGlyphs\" textLength=\"40\" x=\"258\" y=\"57.1387\">«part»</text><text fill=\"#000000\" font-family=\"sans-serif\" font-size=\"12\" lengthAdjust=\"spacingAndGlyphs\" textLength=\"132\" x=\"212\" y=\"71.1074\">analysisContext: Part</text><line style=\"stroke: #383838; stroke-width: 1.5;\" x1=\"210\" x2=\"346\" y1=\"78.9375\" y2=\"78.9375\"/><!--MD5=[49a0ec8f00dab7302a31f22d0f0fe584]\n",
       "class E12--><rect fill=\"#FFFFFF\" height=\"88.3516\" id=\"E12\" rx=\"10\" ry=\"10\" style=\"stroke: #383838; stroke-width: 1.5;\" width=\"168\" x=\"194\" y=\"148\"/><text fill=\"#000000\" font-family=\"sans-serif\" font-size=\"12\" font-style=\"italic\" lengthAdjust=\"spacingAndGlyphs\" textLength=\"64\" x=\"246\" y=\"164.1387\">«analysis»</text><text fill=\"#000000\" font-family=\"sans-serif\" font-size=\"12\" lengthAdjust=\"spacingAndGlyphs\" textLength=\"162\" x=\"197\" y=\"178.1074\">analysisPlan: AnalysisPlan</text><line style=\"stroke: #383838; stroke-width: 1.5;\" x1=\"195\" x2=\"361\" y1=\"185.9375\" y2=\"185.9375\"/><text fill=\"#000000\" font-family=\"sans-serif\" font-size=\"11\" lengthAdjust=\"spacingAndGlyphs\" textLength=\"50\" x=\"200\" y=\"216.9526\">v: V= vv;</text><text fill=\"#000000\" font-family=\"sans-serif\" font-size=\"11\" font-style=\"italic\" lengthAdjust=\"spacingAndGlyphs\" textLength=\"107\" x=\"200\" y=\"229.7573\">:&gt;&gt;AnalysisPlan::v</text><line style=\"stroke: #383838; stroke-width: 1.0;\" x1=\"195\" x2=\"247\" y1=\"200.3398\" y2=\"200.3398\"/><text fill=\"#000000\" font-family=\"sans-serif\" font-size=\"11\" lengthAdjust=\"spacingAndGlyphs\" textLength=\"62\" x=\"247\" y=\"203.6479\">references</text><line style=\"stroke: #383838; stroke-width: 1.0;\" x1=\"309\" x2=\"361\" y1=\"200.3398\" y2=\"200.3398\"/><!--MD5=[ee3c913d1a06f366521f9ef512b67efe]\n",
       "class E13--><rect fill=\"#FFFFFF\" height=\"45.9375\" id=\"E13\" rx=\"10\" ry=\"10\" style=\"stroke: #383838; stroke-width: 1.5;\" width=\"151\" x=\"280.5\" y=\"313\"/><text fill=\"#000000\" font-family=\"sans-serif\" font-size=\"12\" font-style=\"italic\" lengthAdjust=\"spacingAndGlyphs\" textLength=\"91\" x=\"310.5\" y=\"329.1387\">«requirement»</text><text fill=\"#000000\" font-family=\"sans-serif\" font-size=\"12\" lengthAdjust=\"spacingAndGlyphs\" textLength=\"145\" x=\"283.5\" y=\"343.1074\">obj: RequirementCheck</text><line style=\"stroke: #383838; stroke-width: 1.5;\" x1=\"281.5\" x2=\"430.5\" y1=\"350.9375\" y2=\"350.9375\"/><!--MD5=[05d275557350bfb9b23a4ef7222b4c39]\n",
       "link E3 to E2--><path d=\"M353,626.19 C353,645.1 353,672.96 353,697.05 \" fill=\"none\" id=\"E3-&gt;E2\" style=\"stroke: #383838; stroke-width: 1.0;\"/><polygon fill=\"#FFFFFF\" points=\"353,717.35,346,698.35,360,698.35,353,717.35\" style=\"stroke: #383838; stroke-width: 1.0;\"/><ellipse cx=\"348\" cy=\"692.65\" fill=\"#383838\" rx=\"2\" ry=\"2\" style=\"stroke: #383838; stroke-width: 1.0;\"/><ellipse cx=\"358\" cy=\"692.65\" fill=\"#383838\" rx=\"2\" ry=\"2\" style=\"stroke: #383838; stroke-width: 1.0;\"/><!--MD5=[15ebcb19ae302d9b601edb458606d402]\n",
       "link E5 to E2--><path d=\"M258.9,626.21 C263.85,640.29 271.34,658.51 281,673 C290.76,687.63 303.7,701.84 315.93,713.77 \" fill=\"none\" id=\"E5-&gt;E2\" style=\"stroke: #383838; stroke-width: 1.0; stroke-dasharray: 7.0,7.0;\"/><polygon fill=\"#383838\" points=\"319.69,717.4,315.9879,708.2734,316.0908,713.9293,310.4349,714.0322,319.69,717.4\" style=\"stroke: #383838; stroke-width: 1.0;\"/><text fill=\"#000000\" font-family=\"sans-serif\" font-size=\"13\" lengthAdjust=\"spacingAndGlyphs\" textLength=\"62\" x=\"282\" y=\"669.0669\">«subject»</text><!--MD5=[9120cf2e5df3bff93db8f754bbbc09b4]\n",
       "link E5 to E6--><path d=\"M220.54,626.18 C209.54,634.77 197.56,645.15 188,656 C177.43,667.99 167.59,682.21 159.19,695.75 \" fill=\"none\" id=\"E5-&gt;E6\" style=\"stroke: #383838; stroke-width: 1.0;\"/><polygon fill=\"#383838\" points=\"154.94,702.76,161.6576,697.4805,156.5297,694.3652,154.94,702.76\" style=\"stroke: #383838; stroke-width: 1.0;\"/><text fill=\"#000000\" font-family=\"sans-serif\" font-size=\"13\" lengthAdjust=\"spacingAndGlyphs\" textLength=\"73\" x=\"189\" y=\"669.0669\">«objective»</text><!--MD5=[f667431f98296947986a1a7595a31603]\n",
       "link E6 to E4--><path d=\"M132,791.19 C132,804.11 132,818.41 132,831.87 \" fill=\"none\" id=\"E6-&gt;E4\" style=\"stroke: #383838; stroke-width: 1.0;\"/><polygon fill=\"#FFFFFF\" points=\"132,851.98,125,832.98,139,832.98,132,851.98\" style=\"stroke: #383838; stroke-width: 1.0;\"/><ellipse cx=\"127\" cy=\"827.28\" fill=\"#383838\" rx=\"2\" ry=\"2\" style=\"stroke: #383838; stroke-width: 1.0;\"/><ellipse cx=\"137\" cy=\"827.28\" fill=\"#383838\" rx=\"2\" ry=\"2\" style=\"stroke: #383838; stroke-width: 1.0;\"/><!--MD5=[583832df87f4419a098336a29a52fa00]\n",
       "link E7 to E2--><path d=\"M245,352.87 C283.11,366.41 332.96,384.4 342,389 C375.39,406.01 394.37,402.93 412,436 C460.85,527.64 405.01,653.54 372.73,712.72 \" fill=\"none\" id=\"E7-&gt;E2\" style=\"stroke: #383838; stroke-width: 1.0; stroke-dasharray: 7.0,7.0;\"/><polygon fill=\"#383838\" points=\"370.26,717.2,378.1126,711.2555,372.6773,712.8232,371.1096,707.3879,370.26,717.2\" style=\"stroke: #383838; stroke-width: 1.0;\"/><text fill=\"#000000\" font-family=\"sans-serif\" font-size=\"13\" lengthAdjust=\"spacingAndGlyphs\" textLength=\"62\" x=\"431\" y=\"546.0669\">«subject»</text><!--MD5=[79bc8f324ef4d02c541433f2e6e513c3]\n",
       "link E7 to E8--><path d=\"M219.92,359.01 C237.35,378.27 263.08,406.7 283.95,429.76 \" fill=\"none\" id=\"E7-&gt;E8\" style=\"stroke: #383838; stroke-width: 1.0;\"/><polygon fill=\"#383838\" points=\"289.42,435.81,286.2823,427.863,281.8306,431.8857,289.42,435.81\" style=\"stroke: #383838; stroke-width: 1.0;\"/><text fill=\"#000000\" font-family=\"sans-serif\" font-size=\"13\" lengthAdjust=\"spacingAndGlyphs\" textLength=\"73\" x=\"260\" y=\"402.0669\">«objective»</text><!--MD5=[bfc3ddf2e613be37104f658f09af896c]\n",
       "link E9 to E5--><path d=\"M148.4,492.58 C162.6,504.09 179.75,518.71 194,533 C203.65,542.67 213.46,553.77 222.2,564.19 \" fill=\"none\" id=\"E9-&gt;E5\" style=\"stroke: #383838; stroke-width: 1.0;\"/><polygon fill=\"#FFFFFF\" points=\"234.88,579.72,217.4416,569.4291,228.2864,560.5752,234.88,579.72\" style=\"stroke: #383838; stroke-width: 1.0;\"/><ellipse cx=\"215.3861\" cy=\"563.7489\" fill=\"#383838\" rx=\"2\" ry=\"2\" style=\"stroke: #383838; stroke-width: 1.0;\"/><ellipse cx=\"223.1323\" cy=\"557.4246\" fill=\"#383838\" rx=\"2\" ry=\"2\" style=\"stroke: #383838; stroke-width: 1.0;\"/><!--MD5=[e4a10ef82d0e328e31cac39a31e58dda]\n",
       "reverse link E7 to E9--><path d=\"M179.71,370.36 C165.2,394.21 146.08,425.63 133.43,446.42 \" fill=\"none\" id=\"E7&lt;-E9\" style=\"stroke: #383838; stroke-width: 1.0;\"/><polygon fill=\"#383838\" points=\"186.61,359.01,180.0734,362.0551,180.3702,369.2601,186.9068,366.215,186.61,359.01\" style=\"stroke: #383838; stroke-width: 1.0;\"/><!--MD5=[35e5f1cbde42fa304a029880aa2bc7f2]\n",
       "link E9 to E10--><path d=\"M116.99,492.51 C114.01,514.22 109.45,547.59 106.14,571.78 \" fill=\"none\" id=\"E9-&gt;E10\" style=\"stroke: #383838; stroke-width: 1.0;\"/><polygon fill=\"#383838\" points=\"105.02,579.92,109.0776,572.401,103.1331,571.587,105.02,579.92\" style=\"stroke: #383838; stroke-width: 1.0;\"/><text fill=\"#000000\" font-family=\"sans-serif\" font-size=\"13\" lengthAdjust=\"spacingAndGlyphs\" textLength=\"73\" x=\"112\" y=\"546.0669\">«objective»</text><!--MD5=[198716bf12f04006f5c20d61bde6d80d]\n",
       "link E10 to E6--><path d=\"M103.57,626.22 C104.78,639.82 106.8,657.53 110,673 C110.69,676.34 111.47,679.75 112.3,683.18 \" fill=\"none\" id=\"E10-&gt;E6\" style=\"stroke: #383838; stroke-width: 1.0;\"/><polygon fill=\"#FFFFFF\" points=\"117.58,702.7,105.8698,686.1812,119.3859,682.5322,117.58,702.7\" style=\"stroke: #383838; stroke-width: 1.0;\"/><line style=\"stroke: #383838; stroke-width: 2.0;\" x1=\"104.8794\" x2=\"118.3955\" y1=\"682.5125\" y2=\"678.8636\"/><!--MD5=[ae660f5ecd7ddb04a8913625960940af]\n",
       "link E12 to E7--><path d=\"M254.17,236.38 C243.87,255.14 231.88,276.96 221.81,295.29 \" fill=\"none\" id=\"E12-&gt;E7\" style=\"stroke: #383838; stroke-width: 1.0;\"/><polygon fill=\"#FFFFFF\" points=\"212.16,312.87,215.1723,292.8469,227.4429,299.5872,212.16,312.87\" style=\"stroke: #383838; stroke-width: 1.0;\"/><ellipse cx=\"219.6695\" cy=\"288.8139\" fill=\"#383838\" rx=\"2\" ry=\"2\" style=\"stroke: #383838; stroke-width: 1.0;\"/><ellipse cx=\"228.4342\" cy=\"293.6284\" fill=\"#383838\" rx=\"2\" ry=\"2\" style=\"stroke: #383838; stroke-width: 1.0;\"/><!--MD5=[94adabc162ce7e41b39f13be14fbaeb3]\n",
       "reverse link E11 to E12--><path d=\"M278,100.45 C278,115.17 278,132.39 278,147.84 \" fill=\"none\" id=\"E11&lt;-E12\" style=\"stroke: #383838; stroke-width: 1.0;\"/><polygon fill=\"#383838\" points=\"278,87.24,274,93.24,278,99.24,282,93.24,278,87.24\" style=\"stroke: #383838; stroke-width: 1.0;\"/><!--MD5=[e2a9ac97dcd3257bb5342dae06547bad]\n",
       "link E12 to E13--><path d=\"M301.83,236.38 C314.2,258.89 328.98,285.81 339.97,305.82 \" fill=\"none\" id=\"E12-&gt;E13\" style=\"stroke: #383838; stroke-width: 1.0;\"/><polygon fill=\"#383838\" points=\"343.84,312.87,342.6199,304.4136,337.3604,307.3009,343.84,312.87\" style=\"stroke: #383838; stroke-width: 1.0;\"/><text fill=\"#000000\" font-family=\"sans-serif\" font-size=\"13\" lengthAdjust=\"spacingAndGlyphs\" textLength=\"73\" x=\"327\" y=\"279.0669\">«objective»</text><!--MD5=[76430db4f08261a687c1b1d6fc29a404]\n",
       "@startuml\r\n",
       "top to bottom direction\r\n",
       "skinparam monochrome true\r\n",
       "skinparam classbackgroundcolor white\r\n",
       "skinparam shadowing false\r\n",
       "skinparam wrapWidth 300\r\n",
       "hide circle\r\n",
       "\r\n",
       "package \"AnalysisTest\" as E1   {\r\n",
       "comp def \"V\" as E2  <<(T,blue)part def>> {\r\n",
       "m: DataValue\r\n",
       "}\r\n",
       "comp usage \"vv: V\" as E3  <<(T,blue)part>> {\r\n",
       "}\r\n",
       "comp def \"AnalysisObjective\" as E4  <<(T,blue)requirement def>> {\r\n",
       "...\r\n",
       "- -\r\n",
       "}\r\n",
       "comp def \"AnalysisCase\" as E5 <<analysis def>> {\r\n",
       "}\r\n",
       "comp usage \"obj: AnalysisObjective\" as E6  <<(T,blue)requirement>> {\r\n",
       "- -references- -\r\n",
       "subj: Anything= result; \\n//:>>AnalysisObjective::subj// \r\n",
       "}\r\n",
       "comp def \"AnalysisPlan\" as E7 <<analysis def>> {\r\n",
       "}\r\n",
       "comp usage \"obj: RequirementCheck\" as E8  <<(T,blue)requirement>> {\r\n",
       "...\r\n",
       "- -\r\n",
       "}\r\n",
       "comp usage \"analysisCase: AnalysisCase\" as E9 <<analysis>> {\r\n",
       "}\r\n",
       "comp usage \"obj: AnalysisObjective\" as E10  <<(T,blue)requirement>> {\r\n",
       "}\r\n",
       "comp usage \"analysisContext: Part\" as E11  <<(T,blue)part>> {\r\n",
       "}\r\n",
       "comp usage \"analysisPlan: AnalysisPlan\" as E12 <<analysis>> {\r\n",
       "- -references- -\r\n",
       "v: V= vv; \\n//:>>AnalysisPlan::v// \r\n",
       "}\r\n",
       "comp usage \"obj: RequirementCheck\" as E13  <<(T,blue)requirement>> {\r\n",
       "}\r\n",
       "E3 - -:|> E2\r\n",
       "E5 ..> E2 : <<subject>>\r\n",
       "E5 - ->> E6 : <<objective>>\r\n",
       "E6 - -:|> E4\r\n",
       "E7 ..> E2 : <<subject>>\r\n",
       "E7 - ->> E8 : <<objective>>\r\n",
       "E9 - -:|> E5\r\n",
       "E7 *- - E9\r\n",
       "E9 - ->> E10 : <<objective>>\r\n",
       "E10 - -||> E6\r\n",
       "E12 - -:|> E7\r\n",
       "E11 *- - E12\r\n",
       "E12 - ->> E13 : <<objective>>\r\n",
       "}\r\n",
       "@enduml\r\n",
       "\n",
       "PlantUML version 1.2020.13(Sat Jun 13 12:26:38 UTC 2020)\n",
       "(EPL source distribution)\n",
       "Java Runtime: OpenJDK Runtime Environment\n",
       "JVM: OpenJDK 64-Bit Server VM\n",
       "Default Encoding: UTF-8\n",
       "Language: en\n",
       "Country: null\n",
       "--></g></svg>"
      ]
     },
     "execution_count": 49,
     "metadata": {},
     "output_type": "execute_result"
    }
   ],
   "source": [
    "%viz --style=\"TB\" --view=\"Sequence\" \"AnalysisTest\""
   ]
  },
  {
   "cell_type": "code",
   "execution_count": 50,
   "id": "amended-genius",
   "metadata": {
    "execution": {
     "iopub.execute_input": "2021-03-26T09:41:48.647865Z",
     "iopub.status.busy": "2021-03-26T09:41:48.647427Z",
     "iopub.status.idle": "2021-03-26T09:41:48.711459Z",
     "shell.execute_reply": "2021-03-26T09:41:48.709664Z"
    }
   },
   "outputs": [
    {
     "data": {
      "image/svg+xml": [
       "<?xml version=\"1.0\" encoding=\"UTF-8\" standalone=\"no\"?><svg xmlns=\"http://www.w3.org/2000/svg\" xmlns:xlink=\"http://www.w3.org/1999/xlink\" contentScriptType=\"application/ecmascript\" contentStyleType=\"text/css\" height=\"551px\" preserveAspectRatio=\"none\" style=\"width:848px;height:551px;\" version=\"1.1\" viewBox=\"0 0 848 551\" width=\"848px\" zoomAndPan=\"magnify\"><defs/><g><!--MD5=[fbc87193dbaf4d95561dea2c320d4a47]\n",
       "cluster E1--><polygon fill=\"#FFFFFF\" points=\"16,6,122,6,129,28.2969,826,28.2969,826,539.72,16,539.72,16,6\" style=\"stroke: #000000; stroke-width: 1.5;\"/><line style=\"stroke: #000000; stroke-width: 1.5;\" x1=\"16\" x2=\"129\" y1=\"28.2969\" y2=\"28.2969\"/><text fill=\"#000000\" font-family=\"sans-serif\" font-size=\"14\" font-weight=\"bold\" lengthAdjust=\"spacingAndGlyphs\" textLength=\"100\" x=\"20\" y=\"20.9951\">AnalysisTest</text><!--MD5=[de5ec2e2e8f62f467e546659f5068c88]\n",
       "cluster E5--><rect fill=\"#FFFFFF\" height=\"164\" style=\"stroke: #000000; stroke-width: 1.5;\" width=\"152\" x=\"658\" y=\"74.5\"/><text fill=\"#000000\" font-family=\"sans-serif\" font-size=\"14\" font-weight=\"bold\" lengthAdjust=\"spacingAndGlyphs\" textLength=\"104\" x=\"682\" y=\"89.4951\">AnalysisCase</text><!--MD5=[168fadf3d0c3fd93dd5d6da1b1d7ab76]\n",
       "cluster E7--><rect fill=\"#FFFFFF\" height=\"302.72\" style=\"stroke: #000000; stroke-width: 1.5;\" width=\"256\" x=\"279\" y=\"213\"/><text fill=\"#000000\" font-family=\"sans-serif\" font-size=\"14\" font-weight=\"bold\" lengthAdjust=\"spacingAndGlyphs\" textLength=\"98\" x=\"358\" y=\"227.9951\">AnalysisPlan</text><!--MD5=[7f149f147074ac12df2cb0a7728a5fb0]\n",
       "cluster E9--><rect fill=\"#F8F8F8\" height=\"146.22\" rx=\"12.5\" ry=\"12.5\" style=\"stroke: #000000; stroke-width: 1.5;\" width=\"138\" x=\"373\" y=\"331.5\"/><rect fill=\"#FFFFFF\" height=\"113.9231\" rx=\"12.5\" ry=\"12.5\" style=\"stroke: #FFFFFF; stroke-width: 1.0;\" width=\"132\" x=\"376\" y=\"360.7969\"/><line style=\"stroke: #000000; stroke-width: 1.5;\" x1=\"373\" x2=\"511\" y1=\"357.7969\" y2=\"357.7969\"/><text fill=\"#000000\" font-family=\"sans-serif\" font-size=\"14\" lengthAdjust=\"spacingAndGlyphs\" textLength=\"89\" x=\"397.5\" y=\"349.4951\">analysisCase</text><!--MD5=[b4997ac47864f28c2f74865a473b2911]\n",
       "class E2--><rect fill=\"#FFFFFF\" height=\"58.7422\" id=\"E2\" style=\"stroke: #383838; stroke-width: 1.5;\" width=\"88\" x=\"551\" y=\"183.5\"/><text fill=\"#000000\" font-family=\"sans-serif\" font-size=\"12\" font-style=\"italic\" lengthAdjust=\"spacingAndGlyphs\" textLength=\"64\" x=\"563\" y=\"199.6387\">«part def»</text><text fill=\"#000000\" font-family=\"sans-serif\" font-size=\"12\" lengthAdjust=\"spacingAndGlyphs\" textLength=\"8\" x=\"591\" y=\"213.6074\">V</text><line style=\"stroke: #383838; stroke-width: 1.5;\" x1=\"552\" x2=\"638\" y1=\"221.4375\" y2=\"221.4375\"/><text fill=\"#000000\" font-family=\"sans-serif\" font-size=\"11\" lengthAdjust=\"spacingAndGlyphs\" textLength=\"76\" x=\"557\" y=\"235.6479\">m: DataValue</text><!--MD5=[09b614a08d8cba4a07c9adeb5e0fee81]\n",
       "class E3--><rect fill=\"#FFFFFF\" height=\"45.9375\" id=\"E3\" rx=\"10\" ry=\"10\" style=\"stroke: #383838; stroke-width: 1.5;\" width=\"42\" x=\"574\" y=\"51.5\"/><text fill=\"#000000\" font-family=\"sans-serif\" font-size=\"12\" font-style=\"italic\" lengthAdjust=\"spacingAndGlyphs\" textLength=\"40\" x=\"575\" y=\"67.6387\">«part»</text><text fill=\"#000000\" font-family=\"sans-serif\" font-size=\"12\" lengthAdjust=\"spacingAndGlyphs\" textLength=\"28\" x=\"581\" y=\"81.6074\">vv: V</text><line style=\"stroke: #383838; stroke-width: 1.5;\" x1=\"575\" x2=\"615\" y1=\"89.4375\" y2=\"89.4375\"/><!--MD5=[ebbe1d658d1005bcc118a6aa81145e00]\n",
       "class E4--><rect fill=\"#FFFFFF\" height=\"66.7422\" id=\"E4\" style=\"stroke: #383838; stroke-width: 1.5;\" width=\"117\" x=\"321.5\" y=\"41\"/><text fill=\"#000000\" font-family=\"sans-serif\" font-size=\"12\" font-style=\"italic\" lengthAdjust=\"spacingAndGlyphs\" textLength=\"115\" x=\"322.5\" y=\"57.1387\">«requirement def»</text><text fill=\"#000000\" font-family=\"sans-serif\" font-size=\"12\" lengthAdjust=\"spacingAndGlyphs\" textLength=\"107\" x=\"326.5\" y=\"71.1074\">AnalysisObjective</text><line style=\"stroke: #383838; stroke-width: 1.5;\" x1=\"322.5\" x2=\"437.5\" y1=\"78.9375\" y2=\"78.9375\"/><text fill=\"#000000\" font-family=\"sans-serif\" font-size=\"11\" lengthAdjust=\"spacingAndGlyphs\" textLength=\"12\" x=\"327.5\" y=\"93.1479\">...</text><line style=\"stroke: #383838; stroke-width: 1.0;\" x1=\"322.5\" x2=\"437.5\" y1=\"99.7422\" y2=\"99.7422\"/><!--MD5=[1dd1bfd58a279cf63c5f349dbc8fc6a1]\n",
       "class E11--><rect fill=\"#FFFFFF\" height=\"45.9375\" id=\"E11\" rx=\"10\" ry=\"10\" style=\"stroke: #383838; stroke-width: 1.5;\" width=\"138\" x=\"47\" y=\"51.5\"/><text fill=\"#000000\" font-family=\"sans-serif\" font-size=\"12\" font-style=\"italic\" lengthAdjust=\"spacingAndGlyphs\" textLength=\"40\" x=\"96\" y=\"67.6387\">«part»</text><text fill=\"#000000\" font-family=\"sans-serif\" font-size=\"12\" lengthAdjust=\"spacingAndGlyphs\" textLength=\"132\" x=\"50\" y=\"81.6074\">analysisContext: Part</text><line style=\"stroke: #383838; stroke-width: 1.5;\" x1=\"48\" x2=\"184\" y1=\"89.4375\" y2=\"89.4375\"/><!--MD5=[49a0ec8f00dab7302a31f22d0f0fe584]\n",
       "class E12--><rect fill=\"#FFFFFF\" height=\"88.3516\" id=\"E12\" rx=\"10\" ry=\"10\" style=\"stroke: #383838; stroke-width: 1.5;\" width=\"168\" x=\"32\" y=\"169\"/><text fill=\"#000000\" font-family=\"sans-serif\" font-size=\"12\" font-style=\"italic\" lengthAdjust=\"spacingAndGlyphs\" textLength=\"64\" x=\"84\" y=\"185.1387\">«analysis»</text><text fill=\"#000000\" font-family=\"sans-serif\" font-size=\"12\" lengthAdjust=\"spacingAndGlyphs\" textLength=\"162\" x=\"35\" y=\"199.1074\">analysisPlan: AnalysisPlan</text><line style=\"stroke: #383838; stroke-width: 1.5;\" x1=\"33\" x2=\"199\" y1=\"206.9375\" y2=\"206.9375\"/><text fill=\"#000000\" font-family=\"sans-serif\" font-size=\"11\" lengthAdjust=\"spacingAndGlyphs\" textLength=\"50\" x=\"38\" y=\"237.9526\">v: V= vv;</text><text fill=\"#000000\" font-family=\"sans-serif\" font-size=\"11\" font-style=\"italic\" lengthAdjust=\"spacingAndGlyphs\" textLength=\"107\" x=\"38\" y=\"250.7573\">:&gt;&gt;AnalysisPlan::v</text><line style=\"stroke: #383838; stroke-width: 1.0;\" x1=\"33\" x2=\"85\" y1=\"221.3398\" y2=\"221.3398\"/><text fill=\"#000000\" font-family=\"sans-serif\" font-size=\"11\" lengthAdjust=\"spacingAndGlyphs\" textLength=\"62\" x=\"85\" y=\"224.6479\">references</text><line style=\"stroke: #383838; stroke-width: 1.0;\" x1=\"147\" x2=\"199\" y1=\"221.3398\" y2=\"221.3398\"/><!--MD5=[ee3c913d1a06f366521f9ef512b67efe]\n",
       "class E13--><rect fill=\"#FFFFFF\" height=\"45.9375\" id=\"E13\" rx=\"10\" ry=\"10\" style=\"stroke: #383838; stroke-width: 1.5;\" width=\"151\" x=\"40.5\" y=\"334\"/><text fill=\"#000000\" font-family=\"sans-serif\" font-size=\"12\" font-style=\"italic\" lengthAdjust=\"spacingAndGlyphs\" textLength=\"91\" x=\"70.5\" y=\"350.1387\">«requirement»</text><text fill=\"#000000\" font-family=\"sans-serif\" font-size=\"12\" lengthAdjust=\"spacingAndGlyphs\" textLength=\"145\" x=\"43.5\" y=\"364.1074\">obj: RequirementCheck</text><line style=\"stroke: #383838; stroke-width: 1.5;\" x1=\"41.5\" x2=\"190.5\" y1=\"371.9375\" y2=\"371.9375\"/><text fill=\"#000000\" font-family=\"sans-serif\" font-size=\"14\" lengthAdjust=\"spacingAndGlyphs\" textLength=\"7\" x=\"730.5\" y=\"53.1982\">v</text><rect fill=\"#383838\" height=\"12\" style=\"stroke: #F8F8F8; stroke-width: 1.5;\" width=\"12\" x=\"728\" y=\"68.5\"/><text fill=\"#000000\" font-family=\"sans-serif\" font-size=\"14\" lengthAdjust=\"spacingAndGlyphs\" textLength=\"7\" x=\"293.5\" y=\"191.6982\">v</text><rect fill=\"#383838\" height=\"12\" style=\"stroke: #F8F8F8; stroke-width: 1.5;\" width=\"12\" x=\"291\" y=\"207\"/><text fill=\"#000000\" font-family=\"sans-serif\" font-size=\"14\" lengthAdjust=\"spacingAndGlyphs\" textLength=\"37\" x=\"423.5\" y=\"496.7151\">mass</text><rect fill=\"#383838\" height=\"12\" style=\"stroke: #F8F8F8; stroke-width: 1.5;\" width=\"12\" x=\"436\" y=\"471.72\"/><!--MD5=[05d275557350bfb9b23a4ef7222b4c39]\n",
       "link E3 to E2--><path d=\"M595,97.73 C595,115.37 595,140.67 595,162.99 \" fill=\"none\" id=\"E3-&gt;E2\" style=\"stroke: #383838; stroke-width: 1.0;\"/><polygon fill=\"#FFFFFF\" points=\"595,183.12,588,164.12,602,164.12,595,183.12\" style=\"stroke: #383838; stroke-width: 1.0;\"/><ellipse cx=\"590\" cy=\"158.42\" fill=\"#383838\" rx=\"2\" ry=\"2\" style=\"stroke: #383838; stroke-width: 1.0;\"/><ellipse cx=\"600\" cy=\"158.42\" fill=\"#383838\" rx=\"2\" ry=\"2\" style=\"stroke: #383838; stroke-width: 1.0;\"/><!--MD5=[ae660f5ecd7ddb04a8913625960940af]\n",
       "link E12 to E7--><path d=\"M171.29,257.38 C191.56,273.285 214.625,291.38 235.415,307.69 C245.81,315.845 255.6363,323.5538 264.26,330.3194 C268.5719,333.7022 272.5831,336.8492 276.2145,339.6984 C277.1224,340.4106 278.0065,341.1043 278.8656,341.7784 \" fill=\"none\" id=\"E12-&gt;E7\" style=\"stroke: #383838; stroke-width: 1.0;\"/><polygon fill=\"#FFFFFF\" points=\"278.8656,341.7784,259.5965,335.5573,268.2385,324.5429,278.8656,341.7784\" style=\"stroke: #383838; stroke-width: 1.0;\"/><ellipse cx=\"256.3467\" cy=\"330.4653\" fill=\"#383838\" rx=\"2\" ry=\"2\" style=\"stroke: #383838; stroke-width: 1.0;\"/><ellipse cx=\"262.5195\" cy=\"322.5978\" fill=\"#383838\" rx=\"2\" ry=\"2\" style=\"stroke: #383838; stroke-width: 1.0;\"/><!--MD5=[94adabc162ce7e41b39f13be14fbaeb3]\n",
       "reverse link E11 to E12--><path d=\"M116,110.96 C116,128.64 116,150.18 116,168.81 \" fill=\"none\" id=\"E11&lt;-E12\" style=\"stroke: #383838; stroke-width: 1.0;\"/><polygon fill=\"#383838\" points=\"116,97.73,112,103.73,116,109.73,120,103.73,116,97.73\" style=\"stroke: #383838; stroke-width: 1.0;\"/><!--MD5=[e2a9ac97dcd3257bb5342dae06547bad]\n",
       "link E12 to E13--><path d=\"M116,257.38 C116,279.5 116,305.86 116,325.76 \" fill=\"none\" id=\"E12-&gt;E13\" style=\"stroke: #383838; stroke-width: 1.0;\"/><polygon fill=\"#383838\" points=\"116,333.87,119,325.87,113,325.87,116,333.87\" style=\"stroke: #383838; stroke-width: 1.0;\"/><text fill=\"#000000\" font-family=\"sans-serif\" font-size=\"13\" lengthAdjust=\"spacingAndGlyphs\" textLength=\"73\" x=\"117\" y=\"300.0669\">«objective»</text><!--MD5=[b170d77d78340823579c19e3e8e639f2]\n",
       "@startuml\r\n",
       "top to bottom direction\r\n",
       "skinparam monochrome true\r\n",
       "skinparam classbackgroundcolor white\r\n",
       "skinparam shadowing false\r\n",
       "skinparam wrapWidth 300\r\n",
       "hide circle\r\n",
       "\r\n",
       "package \"AnalysisTest\" as E1   {\r\n",
       "comp def \"V\" as E2  <<(T,blue)part def>> {\r\n",
       "m: DataValue\r\n",
       "}\r\n",
       "comp usage \"vv: V\" as E3  <<(T,blue)part>> {\r\n",
       "}\r\n",
       "comp def \"AnalysisObjective\" as E4  <<(T,blue)requirement def>> {\r\n",
       "...\r\n",
       "- -\r\n",
       "}\r\n",
       "rec def \"AnalysisCase\" as E5 {\r\n",
       "portin \"v\" as E6  \r\n",
       "}\r\n",
       "\r\n",
       "rec def \"AnalysisPlan\" as E7 {\r\n",
       "portin \"v\" as E8  \r\n",
       "rec usage \"analysisCase\" as E9 {\r\n",
       "portout \"mass\" as E10  \r\n",
       "}\r\n",
       "\r\n",
       "}\r\n",
       "\r\n",
       "comp usage \"analysisContext: Part\" as E11  <<(T,blue)part>> {\r\n",
       "}\r\n",
       "comp usage \"analysisPlan: AnalysisPlan\" as E12 <<analysis>> {\r\n",
       "- -references- -\r\n",
       "v: V= vv; \\n//:>>AnalysisPlan::v// \r\n",
       "}\r\n",
       "comp usage \"obj: RequirementCheck\" as E13  <<(T,blue)requirement>> {\r\n",
       "}\r\n",
       "E3 - -:|> E2\r\n",
       "E12 - -:|> E7\r\n",
       "E11 *- - E12\r\n",
       "E12 - ->> E13 : <<objective>>\r\n",
       "}\r\n",
       "@enduml\r\n",
       "\n",
       "PlantUML version 1.2020.13(Sat Jun 13 12:26:38 UTC 2020)\n",
       "(EPL source distribution)\n",
       "Java Runtime: OpenJDK Runtime Environment\n",
       "JVM: OpenJDK 64-Bit Server VM\n",
       "Default Encoding: UTF-8\n",
       "Language: en\n",
       "Country: null\n",
       "--></g></svg>"
      ]
     },
     "execution_count": 50,
     "metadata": {},
     "output_type": "execute_result"
    }
   ],
   "source": [
    "%viz --style=\"TB\" --view=\"MIXED\" \"AnalysisTest\""
   ]
  },
  {
   "cell_type": "code",
   "execution_count": 51,
   "id": "dutch-wallace",
   "metadata": {
    "execution": {
     "iopub.execute_input": "2021-03-26T09:41:48.742044Z",
     "iopub.status.busy": "2021-03-26T09:41:48.741713Z",
     "iopub.status.idle": "2021-03-26T09:41:48.802518Z",
     "shell.execute_reply": "2021-03-26T09:41:48.800602Z"
    }
   },
   "outputs": [
    {
     "data": {
      "image/svg+xml": [
       "<?xml version=\"1.0\" encoding=\"UTF-8\" standalone=\"no\"?><svg xmlns=\"http://www.w3.org/2000/svg\" xmlns:xlink=\"http://www.w3.org/1999/xlink\" contentScriptType=\"application/ecmascript\" contentStyleType=\"text/css\" height=\"551px\" preserveAspectRatio=\"none\" style=\"width:848px;height:551px;\" version=\"1.1\" viewBox=\"0 0 848 551\" width=\"848px\" zoomAndPan=\"magnify\"><defs/><g><!--MD5=[fbc87193dbaf4d95561dea2c320d4a47]\n",
       "cluster E1--><polygon fill=\"#FFFFFF\" points=\"16,6,122,6,129,28.2969,826,28.2969,826,539.72,16,539.72,16,6\" style=\"stroke: #000000; stroke-width: 1.5;\"/><line style=\"stroke: #000000; stroke-width: 1.5;\" x1=\"16\" x2=\"129\" y1=\"28.2969\" y2=\"28.2969\"/><text fill=\"#000000\" font-family=\"sans-serif\" font-size=\"14\" font-weight=\"bold\" lengthAdjust=\"spacingAndGlyphs\" textLength=\"100\" x=\"20\" y=\"20.9951\">AnalysisTest</text><!--MD5=[de5ec2e2e8f62f467e546659f5068c88]\n",
       "cluster E5--><rect fill=\"#FFFFFF\" height=\"164\" style=\"stroke: #000000; stroke-width: 1.5;\" width=\"152\" x=\"658\" y=\"74.5\"/><text fill=\"#000000\" font-family=\"sans-serif\" font-size=\"14\" font-weight=\"bold\" lengthAdjust=\"spacingAndGlyphs\" textLength=\"104\" x=\"682\" y=\"89.4951\">AnalysisCase</text><!--MD5=[168fadf3d0c3fd93dd5d6da1b1d7ab76]\n",
       "cluster E7--><rect fill=\"#FFFFFF\" height=\"302.72\" style=\"stroke: #000000; stroke-width: 1.5;\" width=\"256\" x=\"279\" y=\"213\"/><text fill=\"#000000\" font-family=\"sans-serif\" font-size=\"14\" font-weight=\"bold\" lengthAdjust=\"spacingAndGlyphs\" textLength=\"98\" x=\"358\" y=\"227.9951\">AnalysisPlan</text><!--MD5=[7f149f147074ac12df2cb0a7728a5fb0]\n",
       "cluster E9--><rect fill=\"#F8F8F8\" height=\"146.22\" rx=\"12.5\" ry=\"12.5\" style=\"stroke: #000000; stroke-width: 1.5;\" width=\"138\" x=\"373\" y=\"331.5\"/><rect fill=\"#FFFFFF\" height=\"113.9231\" rx=\"12.5\" ry=\"12.5\" style=\"stroke: #FFFFFF; stroke-width: 1.0;\" width=\"132\" x=\"376\" y=\"360.7969\"/><line style=\"stroke: #000000; stroke-width: 1.5;\" x1=\"373\" x2=\"511\" y1=\"357.7969\" y2=\"357.7969\"/><text fill=\"#000000\" font-family=\"sans-serif\" font-size=\"14\" lengthAdjust=\"spacingAndGlyphs\" textLength=\"89\" x=\"397.5\" y=\"349.4951\">analysisCase</text><!--MD5=[b4997ac47864f28c2f74865a473b2911]\n",
       "class E2--><rect fill=\"#FFFFFF\" height=\"58.7422\" id=\"E2\" style=\"stroke: #383838; stroke-width: 1.5;\" width=\"88\" x=\"551\" y=\"183.5\"/><text fill=\"#000000\" font-family=\"sans-serif\" font-size=\"12\" font-style=\"italic\" lengthAdjust=\"spacingAndGlyphs\" textLength=\"64\" x=\"563\" y=\"199.6387\">«part def»</text><text fill=\"#000000\" font-family=\"sans-serif\" font-size=\"12\" lengthAdjust=\"spacingAndGlyphs\" textLength=\"8\" x=\"591\" y=\"213.6074\">V</text><line style=\"stroke: #383838; stroke-width: 1.5;\" x1=\"552\" x2=\"638\" y1=\"221.4375\" y2=\"221.4375\"/><text fill=\"#000000\" font-family=\"sans-serif\" font-size=\"11\" lengthAdjust=\"spacingAndGlyphs\" textLength=\"76\" x=\"557\" y=\"235.6479\">m: DataValue</text><!--MD5=[09b614a08d8cba4a07c9adeb5e0fee81]\n",
       "class E3--><rect fill=\"#FFFFFF\" height=\"45.9375\" id=\"E3\" rx=\"10\" ry=\"10\" style=\"stroke: #383838; stroke-width: 1.5;\" width=\"42\" x=\"574\" y=\"51.5\"/><text fill=\"#000000\" font-family=\"sans-serif\" font-size=\"12\" font-style=\"italic\" lengthAdjust=\"spacingAndGlyphs\" textLength=\"40\" x=\"575\" y=\"67.6387\">«part»</text><text fill=\"#000000\" font-family=\"sans-serif\" font-size=\"12\" lengthAdjust=\"spacingAndGlyphs\" textLength=\"28\" x=\"581\" y=\"81.6074\">vv: V</text><line style=\"stroke: #383838; stroke-width: 1.5;\" x1=\"575\" x2=\"615\" y1=\"89.4375\" y2=\"89.4375\"/><!--MD5=[ebbe1d658d1005bcc118a6aa81145e00]\n",
       "class E4--><rect fill=\"#FFFFFF\" height=\"66.7422\" id=\"E4\" style=\"stroke: #383838; stroke-width: 1.5;\" width=\"117\" x=\"321.5\" y=\"41\"/><text fill=\"#000000\" font-family=\"sans-serif\" font-size=\"12\" font-style=\"italic\" lengthAdjust=\"spacingAndGlyphs\" textLength=\"115\" x=\"322.5\" y=\"57.1387\">«requirement def»</text><text fill=\"#000000\" font-family=\"sans-serif\" font-size=\"12\" lengthAdjust=\"spacingAndGlyphs\" textLength=\"107\" x=\"326.5\" y=\"71.1074\">AnalysisObjective</text><line style=\"stroke: #383838; stroke-width: 1.5;\" x1=\"322.5\" x2=\"437.5\" y1=\"78.9375\" y2=\"78.9375\"/><text fill=\"#000000\" font-family=\"sans-serif\" font-size=\"11\" lengthAdjust=\"spacingAndGlyphs\" textLength=\"12\" x=\"327.5\" y=\"93.1479\">...</text><line style=\"stroke: #383838; stroke-width: 1.0;\" x1=\"322.5\" x2=\"437.5\" y1=\"99.7422\" y2=\"99.7422\"/><!--MD5=[1dd1bfd58a279cf63c5f349dbc8fc6a1]\n",
       "class E11--><rect fill=\"#FFFFFF\" height=\"45.9375\" id=\"E11\" rx=\"10\" ry=\"10\" style=\"stroke: #383838; stroke-width: 1.5;\" width=\"138\" x=\"47\" y=\"51.5\"/><text fill=\"#000000\" font-family=\"sans-serif\" font-size=\"12\" font-style=\"italic\" lengthAdjust=\"spacingAndGlyphs\" textLength=\"40\" x=\"96\" y=\"67.6387\">«part»</text><text fill=\"#000000\" font-family=\"sans-serif\" font-size=\"12\" lengthAdjust=\"spacingAndGlyphs\" textLength=\"132\" x=\"50\" y=\"81.6074\">analysisContext: Part</text><line style=\"stroke: #383838; stroke-width: 1.5;\" x1=\"48\" x2=\"184\" y1=\"89.4375\" y2=\"89.4375\"/><!--MD5=[49a0ec8f00dab7302a31f22d0f0fe584]\n",
       "class E12--><rect fill=\"#FFFFFF\" height=\"88.3516\" id=\"E12\" rx=\"10\" ry=\"10\" style=\"stroke: #383838; stroke-width: 1.5;\" width=\"168\" x=\"32\" y=\"169\"/><text fill=\"#000000\" font-family=\"sans-serif\" font-size=\"12\" font-style=\"italic\" lengthAdjust=\"spacingAndGlyphs\" textLength=\"64\" x=\"84\" y=\"185.1387\">«analysis»</text><text fill=\"#000000\" font-family=\"sans-serif\" font-size=\"12\" lengthAdjust=\"spacingAndGlyphs\" textLength=\"162\" x=\"35\" y=\"199.1074\">analysisPlan: AnalysisPlan</text><line style=\"stroke: #383838; stroke-width: 1.5;\" x1=\"33\" x2=\"199\" y1=\"206.9375\" y2=\"206.9375\"/><text fill=\"#000000\" font-family=\"sans-serif\" font-size=\"11\" lengthAdjust=\"spacingAndGlyphs\" textLength=\"50\" x=\"38\" y=\"237.9526\">v: V= vv;</text><text fill=\"#000000\" font-family=\"sans-serif\" font-size=\"11\" font-style=\"italic\" lengthAdjust=\"spacingAndGlyphs\" textLength=\"107\" x=\"38\" y=\"250.7573\">:&gt;&gt;AnalysisPlan::v</text><line style=\"stroke: #383838; stroke-width: 1.0;\" x1=\"33\" x2=\"85\" y1=\"221.3398\" y2=\"221.3398\"/><text fill=\"#000000\" font-family=\"sans-serif\" font-size=\"11\" lengthAdjust=\"spacingAndGlyphs\" textLength=\"62\" x=\"85\" y=\"224.6479\">references</text><line style=\"stroke: #383838; stroke-width: 1.0;\" x1=\"147\" x2=\"199\" y1=\"221.3398\" y2=\"221.3398\"/><!--MD5=[ee3c913d1a06f366521f9ef512b67efe]\n",
       "class E13--><rect fill=\"#FFFFFF\" height=\"45.9375\" id=\"E13\" rx=\"10\" ry=\"10\" style=\"stroke: #383838; stroke-width: 1.5;\" width=\"151\" x=\"40.5\" y=\"334\"/><text fill=\"#000000\" font-family=\"sans-serif\" font-size=\"12\" font-style=\"italic\" lengthAdjust=\"spacingAndGlyphs\" textLength=\"91\" x=\"70.5\" y=\"350.1387\">«requirement»</text><text fill=\"#000000\" font-family=\"sans-serif\" font-size=\"12\" lengthAdjust=\"spacingAndGlyphs\" textLength=\"145\" x=\"43.5\" y=\"364.1074\">obj: RequirementCheck</text><line style=\"stroke: #383838; stroke-width: 1.5;\" x1=\"41.5\" x2=\"190.5\" y1=\"371.9375\" y2=\"371.9375\"/><text fill=\"#000000\" font-family=\"sans-serif\" font-size=\"14\" lengthAdjust=\"spacingAndGlyphs\" textLength=\"7\" x=\"730.5\" y=\"53.1982\">v</text><rect fill=\"#383838\" height=\"12\" style=\"stroke: #F8F8F8; stroke-width: 1.5;\" width=\"12\" x=\"728\" y=\"68.5\"/><text fill=\"#000000\" font-family=\"sans-serif\" font-size=\"14\" lengthAdjust=\"spacingAndGlyphs\" textLength=\"7\" x=\"293.5\" y=\"191.6982\">v</text><rect fill=\"#383838\" height=\"12\" style=\"stroke: #F8F8F8; stroke-width: 1.5;\" width=\"12\" x=\"291\" y=\"207\"/><text fill=\"#000000\" font-family=\"sans-serif\" font-size=\"14\" lengthAdjust=\"spacingAndGlyphs\" textLength=\"37\" x=\"423.5\" y=\"496.7151\">mass</text><rect fill=\"#383838\" height=\"12\" style=\"stroke: #F8F8F8; stroke-width: 1.5;\" width=\"12\" x=\"436\" y=\"471.72\"/><!--MD5=[05d275557350bfb9b23a4ef7222b4c39]\n",
       "link E3 to E2--><path d=\"M595,97.68 C595,97.68 595,163.46 595,163.46 \" fill=\"none\" id=\"E3-&gt;E2\" style=\"stroke: #383838; stroke-width: 1.0;\"/><polygon fill=\"#FFFFFF\" points=\"595,183.46,588,164.46,602,164.46,595,183.46\" style=\"stroke: #383838; stroke-width: 1.0;\"/><ellipse cx=\"590\" cy=\"158.76\" fill=\"#383838\" rx=\"2\" ry=\"2\" style=\"stroke: #383838; stroke-width: 1.0;\"/><ellipse cx=\"600\" cy=\"158.76\" fill=\"#383838\" rx=\"2\" ry=\"2\" style=\"stroke: #383838; stroke-width: 1.0;\"/><!--MD5=[ae660f5ecd7ddb04a8913625960940af]\n",
       "link E12 to E7--><path d=\"M195.75,257.21 C195.75,299.77 195.75,357.72 195.75,357.72 C195.75,357.72 216.9,357.72 239.87,357.72 \" fill=\"none\" id=\"E12-&gt;E7\" style=\"stroke: #383838; stroke-width: 1.0;\"/><polygon fill=\"#FFFFFF\" points=\"239.87,357.72,220.87,364.72,220.87,350.72,239.87,357.72\" style=\"stroke: #383838; stroke-width: 1.0;\"/><ellipse cx=\"215.17\" cy=\"362.72\" fill=\"#383838\" rx=\"2\" ry=\"2\" style=\"stroke: #383838; stroke-width: 1.0;\"/><ellipse cx=\"215.17\" cy=\"352.72\" fill=\"#383838\" rx=\"2\" ry=\"2\" style=\"stroke: #383838; stroke-width: 1.0;\"/><!--MD5=[94adabc162ce7e41b39f13be14fbaeb3]\n",
       "reverse link E11 to E12--><path d=\"M116,110.68 C116,110.68 116,168.72 116,168.72 \" fill=\"none\" id=\"E11&lt;-E12\" style=\"stroke: #383838; stroke-width: 1.0;\"/><polygon fill=\"#383838\" points=\"116,97.68,112,103.68,116,109.68,120,103.68,116,97.68\" style=\"stroke: #383838; stroke-width: 1.0;\"/><!--MD5=[e2a9ac97dcd3257bb5342dae06547bad]\n",
       "link E12 to E13--><path d=\"M116,257.38 C116,257.38 116,325.88 116,325.88 \" fill=\"none\" id=\"E12-&gt;E13\" style=\"stroke: #383838; stroke-width: 1.0;\"/><polygon fill=\"#383838\" points=\"116,333.88,119,325.88,113,325.88,116,333.88\" style=\"stroke: #383838; stroke-width: 1.0;\"/><text fill=\"#000000\" font-family=\"sans-serif\" font-size=\"13\" lengthAdjust=\"spacingAndGlyphs\" textLength=\"73\" x=\"117\" y=\"300.0669\">«objective»</text><!--MD5=[ea3d7ceee67483c78ee5547957f2a5db]\n",
       "@startuml\r\n",
       "skinparam linetype ortho\r\n",
       "skinparam monochrome true\r\n",
       "skinparam classbackgroundcolor white\r\n",
       "skinparam shadowing false\r\n",
       "skinparam wrapWidth 300\r\n",
       "hide circle\r\n",
       "\r\n",
       "package \"AnalysisTest\" as E1   {\r\n",
       "comp def \"V\" as E2  <<(T,blue)part def>> {\r\n",
       "m: DataValue\r\n",
       "}\r\n",
       "comp usage \"vv: V\" as E3  <<(T,blue)part>> {\r\n",
       "}\r\n",
       "comp def \"AnalysisObjective\" as E4  <<(T,blue)requirement def>> {\r\n",
       "...\r\n",
       "- -\r\n",
       "}\r\n",
       "rec def \"AnalysisCase\" as E5 {\r\n",
       "portin \"v\" as E6  \r\n",
       "}\r\n",
       "\r\n",
       "rec def \"AnalysisPlan\" as E7 {\r\n",
       "portin \"v\" as E8  \r\n",
       "rec usage \"analysisCase\" as E9 {\r\n",
       "portout \"mass\" as E10  \r\n",
       "}\r\n",
       "\r\n",
       "}\r\n",
       "\r\n",
       "comp usage \"analysisContext: Part\" as E11  <<(T,blue)part>> {\r\n",
       "}\r\n",
       "comp usage \"analysisPlan: AnalysisPlan\" as E12 <<analysis>> {\r\n",
       "- -references- -\r\n",
       "v: V= vv; \\n//:>>AnalysisPlan::v// \r\n",
       "}\r\n",
       "comp usage \"obj: RequirementCheck\" as E13  <<(T,blue)requirement>> {\r\n",
       "}\r\n",
       "E3 - -:|> E2\r\n",
       "E12 - -:|> E7\r\n",
       "E11 *- - E12\r\n",
       "E12 - ->> E13 : <<objective>>\r\n",
       "}\r\n",
       "@enduml\r\n",
       "\n",
       "PlantUML version 1.2020.13(Sat Jun 13 12:26:38 UTC 2020)\n",
       "(EPL source distribution)\n",
       "Java Runtime: OpenJDK Runtime Environment\n",
       "JVM: OpenJDK 64-Bit Server VM\n",
       "Default Encoding: UTF-8\n",
       "Language: en\n",
       "Country: null\n",
       "--></g></svg>"
      ]
     },
     "execution_count": 51,
     "metadata": {},
     "output_type": "execute_result"
    }
   ],
   "source": [
    "%viz --style=\"ORTHOLINE\" --view=\"Default\" \"AnalysisTest\""
   ]
  },
  {
   "cell_type": "code",
   "execution_count": 52,
   "id": "secondary-right",
   "metadata": {
    "execution": {
     "iopub.execute_input": "2021-03-26T09:41:48.854113Z",
     "iopub.status.busy": "2021-03-26T09:41:48.853382Z",
     "iopub.status.idle": "2021-03-26T09:41:48.957923Z",
     "shell.execute_reply": "2021-03-26T09:41:48.957531Z"
    }
   },
   "outputs": [
    {
     "data": {
      "image/svg+xml": [
       "<?xml version=\"1.0\" encoding=\"UTF-8\" standalone=\"no\"?><svg xmlns=\"http://www.w3.org/2000/svg\" xmlns:xlink=\"http://www.w3.org/1999/xlink\" contentScriptType=\"application/ecmascript\" contentStyleType=\"text/css\" height=\"947px\" preserveAspectRatio=\"none\" style=\"width:470px;height:947px;\" version=\"1.1\" viewBox=\"0 0 470 947\" width=\"470px\" zoomAndPan=\"magnify\"><defs/><g><!--MD5=[fbc87193dbaf4d95561dea2c320d4a47]\n",
       "cluster E1--><polygon fill=\"#FFFFFF\" points=\"16,6,122,6,129,28.2969,448,28.2969,448,935,16,935,16,6\" style=\"stroke: #000000; stroke-width: 1.5;\"/><line style=\"stroke: #000000; stroke-width: 1.5;\" x1=\"16\" x2=\"129\" y1=\"28.2969\" y2=\"28.2969\"/><text fill=\"#000000\" font-family=\"sans-serif\" font-size=\"14\" font-weight=\"bold\" lengthAdjust=\"spacingAndGlyphs\" textLength=\"100\" x=\"20\" y=\"20.9951\">AnalysisTest</text><!--MD5=[b4997ac47864f28c2f74865a473b2911]\n",
       "class E2--><rect fill=\"#FFFFFF\" height=\"58.7422\" id=\"E2\" style=\"stroke: #383838; stroke-width: 1.5;\" width=\"88\" x=\"309\" y=\"717.5\"/><text fill=\"#000000\" font-family=\"sans-serif\" font-size=\"12\" font-style=\"italic\" lengthAdjust=\"spacingAndGlyphs\" textLength=\"64\" x=\"321\" y=\"733.6387\">«part def»</text><text fill=\"#000000\" font-family=\"sans-serif\" font-size=\"12\" lengthAdjust=\"spacingAndGlyphs\" textLength=\"8\" x=\"349\" y=\"747.6074\">V</text><line style=\"stroke: #383838; stroke-width: 1.5;\" x1=\"310\" x2=\"396\" y1=\"755.4375\" y2=\"755.4375\"/><text fill=\"#000000\" font-family=\"sans-serif\" font-size=\"11\" lengthAdjust=\"spacingAndGlyphs\" textLength=\"76\" x=\"315\" y=\"769.6479\">m: DataValue</text><!--MD5=[09b614a08d8cba4a07c9adeb5e0fee81]\n",
       "class E3--><rect fill=\"#FFFFFF\" height=\"45.9375\" id=\"E3\" rx=\"10\" ry=\"10\" style=\"stroke: #383838; stroke-width: 1.5;\" width=\"42\" x=\"332\" y=\"580\"/><text fill=\"#000000\" font-family=\"sans-serif\" font-size=\"12\" font-style=\"italic\" lengthAdjust=\"spacingAndGlyphs\" textLength=\"40\" x=\"333\" y=\"596.1387\">«part»</text><text fill=\"#000000\" font-family=\"sans-serif\" font-size=\"12\" lengthAdjust=\"spacingAndGlyphs\" textLength=\"28\" x=\"339\" y=\"610.1074\">vv: V</text><line style=\"stroke: #383838; stroke-width: 1.5;\" x1=\"333\" x2=\"373\" y1=\"617.9375\" y2=\"617.9375\"/><!--MD5=[ebbe1d658d1005bcc118a6aa81145e00]\n",
       "class E4--><rect fill=\"#FFFFFF\" height=\"66.7422\" id=\"E4\" style=\"stroke: #383838; stroke-width: 1.5;\" width=\"117\" x=\"73.5\" y=\"852\"/><text fill=\"#000000\" font-family=\"sans-serif\" font-size=\"12\" font-style=\"italic\" lengthAdjust=\"spacingAndGlyphs\" textLength=\"115\" x=\"74.5\" y=\"868.1387\">«requirement def»</text><text fill=\"#000000\" font-family=\"sans-serif\" font-size=\"12\" lengthAdjust=\"spacingAndGlyphs\" textLength=\"107\" x=\"78.5\" y=\"882.1074\">AnalysisObjective</text><line style=\"stroke: #383838; stroke-width: 1.5;\" x1=\"74.5\" x2=\"189.5\" y1=\"889.9375\" y2=\"889.9375\"/><text fill=\"#000000\" font-family=\"sans-serif\" font-size=\"11\" lengthAdjust=\"spacingAndGlyphs\" textLength=\"12\" x=\"79.5\" y=\"904.1479\">...</text><line style=\"stroke: #383838; stroke-width: 1.0;\" x1=\"74.5\" x2=\"189.5\" y1=\"910.7422\" y2=\"910.7422\"/><!--MD5=[270fce915f116d4de14055a7c1d9a0f3]\n",
       "class E5--><rect fill=\"#FFFFFF\" height=\"45.9375\" id=\"E5\" style=\"stroke: #383838; stroke-width: 1.5;\" width=\"90\" x=\"207\" y=\"580\"/><text fill=\"#000000\" font-family=\"sans-serif\" font-size=\"12\" font-style=\"italic\" lengthAdjust=\"spacingAndGlyphs\" textLength=\"88\" x=\"208\" y=\"596.1387\">«analysis def»</text><text fill=\"#000000\" font-family=\"sans-serif\" font-size=\"12\" lengthAdjust=\"spacingAndGlyphs\" textLength=\"81\" x=\"211.5\" y=\"610.1074\">AnalysisCase</text><line style=\"stroke: #383838; stroke-width: 1.5;\" x1=\"208\" x2=\"296\" y1=\"617.9375\" y2=\"617.9375\"/><!--MD5=[60a26617385b1d2d0262a64233df1f8d]\n",
       "class E6--><rect fill=\"#FFFFFF\" height=\"88.3516\" id=\"E6\" rx=\"10\" ry=\"10\" style=\"stroke: #383838; stroke-width: 1.5;\" width=\"165\" x=\"49.5\" y=\"703\"/><text fill=\"#000000\" font-family=\"sans-serif\" font-size=\"12\" font-style=\"italic\" lengthAdjust=\"spacingAndGlyphs\" textLength=\"91\" x=\"86.5\" y=\"719.1387\">«requirement»</text><text fill=\"#000000\" font-family=\"sans-serif\" font-size=\"12\" lengthAdjust=\"spacingAndGlyphs\" textLength=\"134\" x=\"65\" y=\"733.1074\">obj: AnalysisObjective</text><line style=\"stroke: #383838; stroke-width: 1.5;\" x1=\"50.5\" x2=\"213.5\" y1=\"740.9375\" y2=\"740.9375\"/><text fill=\"#000000\" font-family=\"sans-serif\" font-size=\"11\" lengthAdjust=\"spacingAndGlyphs\" textLength=\"130\" x=\"55.5\" y=\"771.9526\">subj: Anything= result;</text><text fill=\"#000000\" font-family=\"sans-serif\" font-size=\"11\" font-style=\"italic\" lengthAdjust=\"spacingAndGlyphs\" textLength=\"153\" x=\"55.5\" y=\"784.7573\">:&gt;&gt;AnalysisObjective::subj</text><line style=\"stroke: #383838; stroke-width: 1.0;\" x1=\"50.5\" x2=\"101\" y1=\"755.3398\" y2=\"755.3398\"/><text fill=\"#000000\" font-family=\"sans-serif\" font-size=\"11\" lengthAdjust=\"spacingAndGlyphs\" textLength=\"62\" x=\"101\" y=\"758.6479\">references</text><line style=\"stroke: #383838; stroke-width: 1.0;\" x1=\"163\" x2=\"213.5\" y1=\"755.3398\" y2=\"755.3398\"/><!--MD5=[2156ba9850f5573cc1fc38a6a4b2f02b]\n",
       "class E7--><rect fill=\"#FFFFFF\" height=\"45.9375\" id=\"E7\" style=\"stroke: #383838; stroke-width: 1.5;\" width=\"90\" x=\"155\" y=\"313\"/><text fill=\"#000000\" font-family=\"sans-serif\" font-size=\"12\" font-style=\"italic\" lengthAdjust=\"spacingAndGlyphs\" textLength=\"88\" x=\"156\" y=\"329.1387\">«analysis def»</text><text fill=\"#000000\" font-family=\"sans-serif\" font-size=\"12\" lengthAdjust=\"spacingAndGlyphs\" textLength=\"77\" x=\"161.5\" y=\"343.1074\">AnalysisPlan</text><line style=\"stroke: #383838; stroke-width: 1.5;\" x1=\"156\" x2=\"244\" y1=\"350.9375\" y2=\"350.9375\"/><!--MD5=[b9389687b975829384b498ac4b7476b2]\n",
       "class E8--><rect fill=\"#FFFFFF\" height=\"66.7422\" id=\"E8\" rx=\"10\" ry=\"10\" style=\"stroke: #383838; stroke-width: 1.5;\" width=\"151\" x=\"243.5\" y=\"436\"/><text fill=\"#000000\" font-family=\"sans-serif\" font-size=\"12\" font-style=\"italic\" lengthAdjust=\"spacingAndGlyphs\" textLength=\"91\" x=\"273.5\" y=\"452.1387\">«requirement»</text><text fill=\"#000000\" font-family=\"sans-serif\" font-size=\"12\" lengthAdjust=\"spacingAndGlyphs\" textLength=\"145\" x=\"246.5\" y=\"466.1074\">obj: RequirementCheck</text><line style=\"stroke: #383838; stroke-width: 1.5;\" x1=\"244.5\" x2=\"393.5\" y1=\"473.9375\" y2=\"473.9375\"/><text fill=\"#000000\" font-family=\"sans-serif\" font-size=\"11\" lengthAdjust=\"spacingAndGlyphs\" textLength=\"12\" x=\"249.5\" y=\"488.1479\">...</text><line style=\"stroke: #383838; stroke-width: 1.0;\" x1=\"244.5\" x2=\"393.5\" y1=\"494.7422\" y2=\"494.7422\"/><!--MD5=[fd4143e9d270a159db93a4ea2a975926]\n",
       "class E9--><rect fill=\"#FFFFFF\" height=\"45.9375\" id=\"E9\" rx=\"10\" ry=\"10\" style=\"stroke: #383838; stroke-width: 1.5;\" width=\"176\" x=\"32\" y=\"446.5\"/><text fill=\"#000000\" font-family=\"sans-serif\" font-size=\"12\" font-style=\"italic\" lengthAdjust=\"spacingAndGlyphs\" textLength=\"64\" x=\"88\" y=\"462.6387\">«analysis»</text><text fill=\"#000000\" font-family=\"sans-serif\" font-size=\"12\" lengthAdjust=\"spacingAndGlyphs\" textLength=\"170\" x=\"35\" y=\"476.6074\">analysisCase: AnalysisCase</text><line style=\"stroke: #383838; stroke-width: 1.5;\" x1=\"33\" x2=\"207\" y1=\"484.4375\" y2=\"484.4375\"/><!--MD5=[96f4274e9e20536e775497830990834d]\n",
       "class E10--><rect fill=\"#FFFFFF\" height=\"45.9375\" id=\"E10\" rx=\"10\" ry=\"10\" style=\"stroke: #383838; stroke-width: 1.5;\" width=\"140\" x=\"32\" y=\"580\"/><text fill=\"#000000\" font-family=\"sans-serif\" font-size=\"12\" font-style=\"italic\" lengthAdjust=\"spacingAndGlyphs\" textLength=\"91\" x=\"56.5\" y=\"596.1387\">«requirement»</text><text fill=\"#000000\" font-family=\"sans-serif\" font-size=\"12\" lengthAdjust=\"spacingAndGlyphs\" textLength=\"134\" x=\"35\" y=\"610.1074\">obj: AnalysisObjective</text><line style=\"stroke: #383838; stroke-width: 1.5;\" x1=\"33\" x2=\"171\" y1=\"617.9375\" y2=\"617.9375\"/><!--MD5=[1dd1bfd58a279cf63c5f349dbc8fc6a1]\n",
       "class E11--><rect fill=\"#FFFFFF\" height=\"45.9375\" id=\"E11\" rx=\"10\" ry=\"10\" style=\"stroke: #383838; stroke-width: 1.5;\" width=\"138\" x=\"209\" y=\"41\"/><text fill=\"#000000\" font-family=\"sans-serif\" font-size=\"12\" font-style=\"italic\" lengthAdjust=\"spacingAndGlyphs\" textLength=\"40\" x=\"258\" y=\"57.1387\">«part»</text><text fill=\"#000000\" font-family=\"sans-serif\" font-size=\"12\" lengthAdjust=\"spacingAndGlyphs\" textLength=\"132\" x=\"212\" y=\"71.1074\">analysisContext: Part</text><line style=\"stroke: #383838; stroke-width: 1.5;\" x1=\"210\" x2=\"346\" y1=\"78.9375\" y2=\"78.9375\"/><!--MD5=[49a0ec8f00dab7302a31f22d0f0fe584]\n",
       "class E12--><rect fill=\"#FFFFFF\" height=\"88.3516\" id=\"E12\" rx=\"10\" ry=\"10\" style=\"stroke: #383838; stroke-width: 1.5;\" width=\"168\" x=\"194\" y=\"148\"/><text fill=\"#000000\" font-family=\"sans-serif\" font-size=\"12\" font-style=\"italic\" lengthAdjust=\"spacingAndGlyphs\" textLength=\"64\" x=\"246\" y=\"164.1387\">«analysis»</text><text fill=\"#000000\" font-family=\"sans-serif\" font-size=\"12\" lengthAdjust=\"spacingAndGlyphs\" textLength=\"162\" x=\"197\" y=\"178.1074\">analysisPlan: AnalysisPlan</text><line style=\"stroke: #383838; stroke-width: 1.5;\" x1=\"195\" x2=\"361\" y1=\"185.9375\" y2=\"185.9375\"/><text fill=\"#000000\" font-family=\"sans-serif\" font-size=\"11\" lengthAdjust=\"spacingAndGlyphs\" textLength=\"50\" x=\"200\" y=\"216.9526\">v: V= vv;</text><text fill=\"#000000\" font-family=\"sans-serif\" font-size=\"11\" font-style=\"italic\" lengthAdjust=\"spacingAndGlyphs\" textLength=\"107\" x=\"200\" y=\"229.7573\">:&gt;&gt;AnalysisPlan::v</text><line style=\"stroke: #383838; stroke-width: 1.0;\" x1=\"195\" x2=\"247\" y1=\"200.3398\" y2=\"200.3398\"/><text fill=\"#000000\" font-family=\"sans-serif\" font-size=\"11\" lengthAdjust=\"spacingAndGlyphs\" textLength=\"62\" x=\"247\" y=\"203.6479\">references</text><line style=\"stroke: #383838; stroke-width: 1.0;\" x1=\"309\" x2=\"361\" y1=\"200.3398\" y2=\"200.3398\"/><!--MD5=[ee3c913d1a06f366521f9ef512b67efe]\n",
       "class E13--><rect fill=\"#FFFFFF\" height=\"45.9375\" id=\"E13\" rx=\"10\" ry=\"10\" style=\"stroke: #383838; stroke-width: 1.5;\" width=\"151\" x=\"280.5\" y=\"313\"/><text fill=\"#000000\" font-family=\"sans-serif\" font-size=\"12\" font-style=\"italic\" lengthAdjust=\"spacingAndGlyphs\" textLength=\"91\" x=\"310.5\" y=\"329.1387\">«requirement»</text><text fill=\"#000000\" font-family=\"sans-serif\" font-size=\"12\" lengthAdjust=\"spacingAndGlyphs\" textLength=\"145\" x=\"283.5\" y=\"343.1074\">obj: RequirementCheck</text><line style=\"stroke: #383838; stroke-width: 1.5;\" x1=\"281.5\" x2=\"430.5\" y1=\"350.9375\" y2=\"350.9375\"/><!--MD5=[05d275557350bfb9b23a4ef7222b4c39]\n",
       "link E3 to E2--><path d=\"M353,626.14 C353,626.14 353,697.44 353,697.44 \" fill=\"none\" id=\"E3-&gt;E2\" style=\"stroke: #383838; stroke-width: 1.0;\"/><polygon fill=\"#FFFFFF\" points=\"353,717.44,346,698.44,360,698.44,353,717.44\" style=\"stroke: #383838; stroke-width: 1.0;\"/><ellipse cx=\"348\" cy=\"692.74\" fill=\"#383838\" rx=\"2\" ry=\"2\" style=\"stroke: #383838; stroke-width: 1.0;\"/><ellipse cx=\"358\" cy=\"692.74\" fill=\"#383838\" rx=\"2\" ry=\"2\" style=\"stroke: #383838; stroke-width: 1.0;\"/><!--MD5=[15ebcb19ae302d9b601edb458606d402]\n",
       "link E5 to E2--><path d=\"M297.26,603 C308.13,603 316.67,603 316.67,603 C316.67,603 316.67,712.16 316.67,712.16 \" fill=\"none\" id=\"E5-&gt;E2\" style=\"stroke: #383838; stroke-width: 1.0; stroke-dasharray: 7.0,7.0;\"/><polygon fill=\"#383838\" points=\"316.67,717.16,320.67,708.16,316.67,712.16,312.67,708.16,316.67,717.16\" style=\"stroke: #383838; stroke-width: 1.0;\"/><text fill=\"#000000\" font-family=\"sans-serif\" font-size=\"13\" lengthAdjust=\"spacingAndGlyphs\" textLength=\"62\" x=\"278\" y=\"669.0669\">«subject»</text><!--MD5=[9120cf2e5df3bff93db8f754bbbc09b4]\n",
       "link E5 to E6--><path d=\"M210.75,626.14 C210.75,626.14 210.75,694.71 210.75,694.71 \" fill=\"none\" id=\"E5-&gt;E6\" style=\"stroke: #383838; stroke-width: 1.0;\"/><polygon fill=\"#383838\" points=\"210.75,702.71,213.75,694.71,207.75,694.71,210.75,702.71\" style=\"stroke: #383838; stroke-width: 1.0;\"/><text fill=\"#000000\" font-family=\"sans-serif\" font-size=\"13\" lengthAdjust=\"spacingAndGlyphs\" textLength=\"73\" x=\"151\" y=\"669.0669\">«objective»</text><!--MD5=[f667431f98296947986a1a7595a31603]\n",
       "link E6 to E4--><path d=\"M132,791.2 C132,791.2 132,831.8 132,831.8 \" fill=\"none\" id=\"E6-&gt;E4\" style=\"stroke: #383838; stroke-width: 1.0;\"/><polygon fill=\"#FFFFFF\" points=\"132,851.8,125,832.8,139,832.8,132,851.8\" style=\"stroke: #383838; stroke-width: 1.0;\"/><ellipse cx=\"127\" cy=\"827.1\" fill=\"#383838\" rx=\"2\" ry=\"2\" style=\"stroke: #383838; stroke-width: 1.0;\"/><ellipse cx=\"137\" cy=\"827.1\" fill=\"#383838\" rx=\"2\" ry=\"2\" style=\"stroke: #383838; stroke-width: 1.0;\"/><!--MD5=[583832df87f4419a098336a29a52fa00]\n",
       "link E7 to E2--><path d=\"M225.75,359.23 C225.75,413.1 225.75,542 225.75,542 C225.75,542 324.33,542 324.33,542 C324.33,542 324.33,712.19 324.33,712.19 \" fill=\"none\" id=\"E7-&gt;E2\" style=\"stroke: #383838; stroke-width: 1.0; stroke-dasharray: 7.0,7.0;\"/><polygon fill=\"#383838\" points=\"324.33,717.19,328.33,708.19,324.33,712.19,320.33,708.19,324.33,717.19\" style=\"stroke: #383838; stroke-width: 1.0;\"/><text fill=\"#000000\" font-family=\"sans-serif\" font-size=\"13\" lengthAdjust=\"spacingAndGlyphs\" textLength=\"62\" x=\"369\" y=\"546.0669\">«subject»</text><!--MD5=[79bc8f324ef4d02c541433f2e6e513c3]\n",
       "link E7 to E8--><path d=\"M234.62,359 C234.62,390.18 234.62,442 234.62,442 C234.62,442 235.5,442 235.5,442 \" fill=\"none\" id=\"E7-&gt;E8\" style=\"stroke: #383838; stroke-width: 1.0;\"/><polygon fill=\"#383838\" points=\"243.34,442,235.34,439,235.34,445,243.34,442\" style=\"stroke: #383838; stroke-width: 1.0;\"/><text fill=\"#000000\" font-family=\"sans-serif\" font-size=\"13\" lengthAdjust=\"spacingAndGlyphs\" textLength=\"73\" x=\"281\" y=\"402.0669\">«objective»</text><!--MD5=[bfc3ddf2e613be37104f658f09af896c]\n",
       "link E9 to E5--><path d=\"M208.28,470 C213.61,470 216.88,470 216.88,470 C216.88,470 216.88,559.83 216.88,559.83 \" fill=\"none\" id=\"E9-&gt;E5\" style=\"stroke: #383838; stroke-width: 1.0;\"/><polygon fill=\"#FFFFFF\" points=\"216.88,579.83,209.88,560.83,223.88,560.83,216.88,579.83\" style=\"stroke: #383838; stroke-width: 1.0;\"/><ellipse cx=\"211.88\" cy=\"555.13\" fill=\"#383838\" rx=\"2\" ry=\"2\" style=\"stroke: #383838; stroke-width: 1.0;\"/><ellipse cx=\"221.88\" cy=\"555.13\" fill=\"#383838\" rx=\"2\" ry=\"2\" style=\"stroke: #383838; stroke-width: 1.0;\"/><!--MD5=[e4a10ef82d0e328e31cac39a31e58dda]\n",
       "reverse link E7 to E9--><path d=\"M181.5,372.25 C181.5,372.25 181.5,446.06 181.5,446.06 \" fill=\"none\" id=\"E7&lt;-E9\" style=\"stroke: #383838; stroke-width: 1.0;\"/><polygon fill=\"#383838\" points=\"181.5,359.25,177.5,365.25,181.5,371.25,185.5,365.25,181.5,359.25\" style=\"stroke: #383838; stroke-width: 1.0;\"/><!--MD5=[35e5f1cbde42fa304a029880aa2bc7f2]\n",
       "link E9 to E10--><path d=\"M31.98,470 C21.26,470 14,470 14,470 C14,470 14,603 14,603 C14,603 23.81,603 23.81,603 \" fill=\"none\" id=\"E9-&gt;E10\" style=\"stroke: #383838; stroke-width: 1.0;\"/><polygon fill=\"#383838\" points=\"31.81,603,23.81,600,23.81,606,31.81,603\" style=\"stroke: #383838; stroke-width: 1.0;\"/><text fill=\"#000000\" font-family=\"sans-serif\" font-size=\"13\" lengthAdjust=\"spacingAndGlyphs\" textLength=\"73\" x=\"112\" y=\"546.0669\">«objective»</text><!--MD5=[198716bf12f04006f5c20d61bde6d80d]\n",
       "link E10 to E6--><path d=\"M110.75,626.14 C110.75,626.14 110.75,682.71 110.75,682.71 \" fill=\"none\" id=\"E10-&gt;E6\" style=\"stroke: #383838; stroke-width: 1.0;\"/><polygon fill=\"#FFFFFF\" points=\"110.75,702.71,103.75,683.71,117.75,683.71,110.75,702.71\" style=\"stroke: #383838; stroke-width: 1.0;\"/><line style=\"stroke: #383838; stroke-width: 2.0;\" x1=\"103.75\" x2=\"117.75\" y1=\"679.91\" y2=\"679.91\"/><!--MD5=[ae660f5ecd7ddb04a8913625960940af]\n",
       "link E12 to E7--><path d=\"M219.5,236.38 C219.5,236.38 219.5,292.88 219.5,292.88 \" fill=\"none\" id=\"E12-&gt;E7\" style=\"stroke: #383838; stroke-width: 1.0;\"/><polygon fill=\"#FFFFFF\" points=\"219.5,312.88,212.5,293.88,226.5,293.88,219.5,312.88\" style=\"stroke: #383838; stroke-width: 1.0;\"/><ellipse cx=\"214.5\" cy=\"288.18\" fill=\"#383838\" rx=\"2\" ry=\"2\" style=\"stroke: #383838; stroke-width: 1.0;\"/><ellipse cx=\"224.5\" cy=\"288.18\" fill=\"#383838\" rx=\"2\" ry=\"2\" style=\"stroke: #383838; stroke-width: 1.0;\"/><!--MD5=[94adabc162ce7e41b39f13be14fbaeb3]\n",
       "reverse link E11 to E12--><path d=\"M278,100.18 C278,100.18 278,147.76 278,147.76 \" fill=\"none\" id=\"E11&lt;-E12\" style=\"stroke: #383838; stroke-width: 1.0;\"/><polygon fill=\"#383838\" points=\"278,87.18,274,93.18,278,99.18,282,93.18,278,87.18\" style=\"stroke: #383838; stroke-width: 1.0;\"/><!--MD5=[e2a9ac97dcd3257bb5342dae06547bad]\n",
       "link E12 to E13--><path d=\"M321.25,236.38 C321.25,236.38 321.25,304.88 321.25,304.88 \" fill=\"none\" id=\"E12-&gt;E13\" style=\"stroke: #383838; stroke-width: 1.0;\"/><polygon fill=\"#383838\" points=\"321.25,312.88,324.25,304.88,318.25,304.88,321.25,312.88\" style=\"stroke: #383838; stroke-width: 1.0;\"/><text fill=\"#000000\" font-family=\"sans-serif\" font-size=\"13\" lengthAdjust=\"spacingAndGlyphs\" textLength=\"73\" x=\"328\" y=\"279.0669\">«objective»</text><!--MD5=[45fff2151472f8b97fef8963155916b3]\n",
       "@startuml\r\n",
       "skinparam linetype ortho\r\n",
       "skinparam monochrome true\r\n",
       "skinparam classbackgroundcolor white\r\n",
       "skinparam shadowing false\r\n",
       "skinparam wrapWidth 300\r\n",
       "hide circle\r\n",
       "\r\n",
       "package \"AnalysisTest\" as E1   {\r\n",
       "comp def \"V\" as E2  <<(T,blue)part def>> {\r\n",
       "m: DataValue\r\n",
       "}\r\n",
       "comp usage \"vv: V\" as E3  <<(T,blue)part>> {\r\n",
       "}\r\n",
       "comp def \"AnalysisObjective\" as E4  <<(T,blue)requirement def>> {\r\n",
       "...\r\n",
       "- -\r\n",
       "}\r\n",
       "comp def \"AnalysisCase\" as E5 <<analysis def>> {\r\n",
       "}\r\n",
       "comp usage \"obj: AnalysisObjective\" as E6  <<(T,blue)requirement>> {\r\n",
       "- -references- -\r\n",
       "subj: Anything= result; \\n//:>>AnalysisObjective::subj// \r\n",
       "}\r\n",
       "comp def \"AnalysisPlan\" as E7 <<analysis def>> {\r\n",
       "}\r\n",
       "comp usage \"obj: RequirementCheck\" as E8  <<(T,blue)requirement>> {\r\n",
       "...\r\n",
       "- -\r\n",
       "}\r\n",
       "comp usage \"analysisCase: AnalysisCase\" as E9 <<analysis>> {\r\n",
       "}\r\n",
       "comp usage \"obj: AnalysisObjective\" as E10  <<(T,blue)requirement>> {\r\n",
       "}\r\n",
       "comp usage \"analysisContext: Part\" as E11  <<(T,blue)part>> {\r\n",
       "}\r\n",
       "comp usage \"analysisPlan: AnalysisPlan\" as E12 <<analysis>> {\r\n",
       "- -references- -\r\n",
       "v: V= vv; \\n//:>>AnalysisPlan::v// \r\n",
       "}\r\n",
       "comp usage \"obj: RequirementCheck\" as E13  <<(T,blue)requirement>> {\r\n",
       "}\r\n",
       "E3 - -:|> E2\r\n",
       "E5 ..> E2 : <<subject>>\r\n",
       "E5 - ->> E6 : <<objective>>\r\n",
       "E6 - -:|> E4\r\n",
       "E7 ..> E2 : <<subject>>\r\n",
       "E7 - ->> E8 : <<objective>>\r\n",
       "E9 - -:|> E5\r\n",
       "E7 *- - E9\r\n",
       "E9 - ->> E10 : <<objective>>\r\n",
       "E10 - -||> E6\r\n",
       "E12 - -:|> E7\r\n",
       "E11 *- - E12\r\n",
       "E12 - ->> E13 : <<objective>>\r\n",
       "}\r\n",
       "@enduml\r\n",
       "\n",
       "PlantUML version 1.2020.13(Sat Jun 13 12:26:38 UTC 2020)\n",
       "(EPL source distribution)\n",
       "Java Runtime: OpenJDK Runtime Environment\n",
       "JVM: OpenJDK 64-Bit Server VM\n",
       "Default Encoding: UTF-8\n",
       "Language: en\n",
       "Country: null\n",
       "--></g></svg>"
      ]
     },
     "execution_count": 52,
     "metadata": {},
     "output_type": "execute_result"
    }
   ],
   "source": [
    "%viz --style=\"ORTHOLINE\" --view=\"Tree\" \"AnalysisTest\""
   ]
  },
  {
   "cell_type": "code",
   "execution_count": 53,
   "id": "recovered-graham",
   "metadata": {
    "execution": {
     "iopub.execute_input": "2021-03-26T09:41:49.009029Z",
     "iopub.status.busy": "2021-03-26T09:41:49.008630Z",
     "iopub.status.idle": "2021-03-26T09:41:49.011197Z",
     "shell.execute_reply": "2021-03-26T09:41:49.010883Z"
    }
   },
   "outputs": [
    {
     "data": {
      "text/plain": [
       "java.lang.IllegalArgumentException: Invalid View: State View candidates are: Default Tree StateMachine Interconnection Activity Sequence MIXED \n",
       "\tat org.omg.sysml.plantuml.SysML2PlantUMLSvc.setView(SysML2PlantUMLSvc.java:63)\n",
       "\tat org.omg.sysml.interactive.SysMLInteractive.viz(SysMLInteractive.java:286)\n",
       "\tat org.omg.sysml.jupyter.kernel.magic.Viz.viz(Viz.java:47)\n",
       "\tat jdk.internal.reflect.GeneratedMethodAccessor13.invoke(Unknown Source)\n",
       "\tat java.base/jdk.internal.reflect.DelegatingMethodAccessorImpl.invoke(DelegatingMethodAccessorImpl.java:43)\n",
       "\tat java.base/java.lang.reflect.Method.invoke(Method.java:568)\n",
       "\tat io.github.spencerpark.jupyter.kernel.magic.registry.Magics.invoke(Magics.java:89)\n",
       "\tat io.github.spencerpark.jupyter.kernel.magic.registry.Magics.access$000(Magics.java:8)\n",
       "\tat io.github.spencerpark.jupyter.kernel.magic.registry.Magics$LineReflectionMagicFunction.execute(Magics.java:149)\n",
       "\tat io.github.spencerpark.jupyter.kernel.magic.registry.Magics.applyLineMagic(Magics.java:26)\n",
       "\tat org.omg.sysml.jupyter.kernel.SysMLKernel.eval(SysMLKernel.java:76)\n",
       "\tat io.github.spencerpark.jupyter.kernel.BaseKernel.handleExecuteRequest(BaseKernel.java:334)\n",
       "\tat io.github.spencerpark.jupyter.channels.ShellChannel.lambda$bind$0(ShellChannel.java:64)\n",
       "\tat io.github.spencerpark.jupyter.channels.Loop.lambda$new$0(Loop.java:21)\n",
       "\tat io.github.spencerpark.jupyter.channels.Loop.run(Loop.java:78)\n"
      ]
     },
     "execution_count": 53,
     "metadata": {},
     "output_type": "execute_result"
    }
   ],
   "source": [
    "%viz --style=\"ORTHOLINE\" --view=\"State\" \"AnalysisTest\""
   ]
  },
  {
   "cell_type": "code",
   "execution_count": 54,
   "id": "going-reach",
   "metadata": {
    "execution": {
     "iopub.execute_input": "2021-03-26T09:41:49.063749Z",
     "iopub.status.busy": "2021-03-26T09:41:49.063152Z",
     "iopub.status.idle": "2021-03-26T09:41:49.090671Z",
     "shell.execute_reply": "2021-03-26T09:41:49.089441Z"
    }
   },
   "outputs": [
    {
     "data": {
      "image/svg+xml": [
       "<?xml version=\"1.0\" encoding=\"UTF-8\" standalone=\"no\"?><svg xmlns=\"http://www.w3.org/2000/svg\" xmlns:xlink=\"http://www.w3.org/1999/xlink\" contentScriptType=\"application/ecmascript\" contentStyleType=\"text/css\" height=\"202px\" preserveAspectRatio=\"none\" style=\"width:957px;height:202px;\" version=\"1.1\" viewBox=\"0 0 957 202\" width=\"957px\" zoomAndPan=\"magnify\"><defs/><g><!--MD5=[fbc87193dbaf4d95561dea2c320d4a47]\n",
       "cluster E1--><polygon fill=\"#FFFFFF\" points=\"16,6,122,6,129,28.2969,935,28.2969,935,190,16,190,16,6\" style=\"stroke: #000000; stroke-width: 1.5;\"/><line style=\"stroke: #000000; stroke-width: 1.5;\" x1=\"16\" x2=\"129\" y1=\"28.2969\" y2=\"28.2969\"/><text fill=\"#000000\" font-family=\"sans-serif\" font-size=\"14\" font-weight=\"bold\" lengthAdjust=\"spacingAndGlyphs\" textLength=\"100\" x=\"20\" y=\"20.9951\">AnalysisTest</text><!--MD5=[e4f7fae6ed58524ba242bb0b0d3be6b7]\n",
       "cluster E2--><rect fill=\"#FFFFFF\" height=\"117\" style=\"stroke: #000000; stroke-width: 1.5;\" width=\"144\" x=\"767\" y=\"49\"/><text fill=\"#000000\" font-family=\"sans-serif\" font-size=\"14\" font-style=\"italic\" lengthAdjust=\"spacingAndGlyphs\" textLength=\"71\" x=\"803.5\" y=\"63.9951\">«part def»</text><text fill=\"#000000\" font-family=\"sans-serif\" font-size=\"14\" font-weight=\"bold\" lengthAdjust=\"spacingAndGlyphs\" textLength=\"11\" x=\"833.5\" y=\"80.292\">V</text><!--MD5=[270fce915f116d4de14055a7c1d9a0f3]\n",
       "class E5--><rect fill=\"#FFFFFF\" height=\"53.9375\" id=\"E5\" style=\"stroke: #383838; stroke-width: 1.5;\" width=\"117\" x=\"630.5\" y=\"98\"/><text fill=\"#000000\" font-family=\"sans-serif\" font-size=\"12\" font-style=\"italic\" lengthAdjust=\"spacingAndGlyphs\" textLength=\"115\" x=\"631.5\" y=\"114.1387\">«requirement def»</text><text fill=\"#000000\" font-family=\"sans-serif\" font-size=\"12\" lengthAdjust=\"spacingAndGlyphs\" textLength=\"107\" x=\"635.5\" y=\"128.1074\">AnalysisObjective</text><line style=\"stroke: #383838; stroke-width: 1.5;\" x1=\"631.5\" x2=\"746.5\" y1=\"135.9375\" y2=\"135.9375\"/><line style=\"stroke: #383838; stroke-width: 1.5;\" x1=\"631.5\" x2=\"746.5\" y1=\"143.9375\" y2=\"143.9375\"/><!--MD5=[60a26617385b1d2d0262a64233df1f8d]\n",
       "class E6--><rect fill=\"#FFFFFF\" height=\"53.9375\" id=\"E6\" style=\"stroke: #383838; stroke-width: 1.5;\" width=\"121\" x=\"474.5\" y=\"98\"/><text fill=\"#000000\" font-family=\"sans-serif\" font-size=\"12\" font-style=\"italic\" lengthAdjust=\"spacingAndGlyphs\" textLength=\"119\" x=\"475.5\" y=\"114.1387\">«analysisCase def»</text><text fill=\"#000000\" font-family=\"sans-serif\" font-size=\"12\" lengthAdjust=\"spacingAndGlyphs\" textLength=\"81\" x=\"494.5\" y=\"128.1074\">AnalysisCase</text><line style=\"stroke: #383838; stroke-width: 1.5;\" x1=\"475.5\" x2=\"594.5\" y1=\"135.9375\" y2=\"135.9375\"/><line style=\"stroke: #383838; stroke-width: 1.5;\" x1=\"475.5\" x2=\"594.5\" y1=\"143.9375\" y2=\"143.9375\"/><!--MD5=[2156ba9850f5573cc1fc38a6a4b2f02b]\n",
       "class E7--><rect fill=\"#FFFFFF\" height=\"53.9375\" id=\"E7\" style=\"stroke: #383838; stroke-width: 1.5;\" width=\"121\" x=\"318.5\" y=\"98\"/><text fill=\"#000000\" font-family=\"sans-serif\" font-size=\"12\" font-style=\"italic\" lengthAdjust=\"spacingAndGlyphs\" textLength=\"119\" x=\"319.5\" y=\"114.1387\">«analysisCase def»</text><text fill=\"#000000\" font-family=\"sans-serif\" font-size=\"12\" lengthAdjust=\"spacingAndGlyphs\" textLength=\"77\" x=\"340.5\" y=\"128.1074\">AnalysisPlan</text><line style=\"stroke: #383838; stroke-width: 1.5;\" x1=\"319.5\" x2=\"438.5\" y1=\"135.9375\" y2=\"135.9375\"/><line style=\"stroke: #383838; stroke-width: 1.5;\" x1=\"319.5\" x2=\"438.5\" y1=\"143.9375\" y2=\"143.9375\"/><g id=\"E1.E2.E3\"><rect fill=\"#FFFFFF\" height=\"50\" rx=\"12.5\" ry=\"12.5\" style=\"stroke: #383838; stroke-width: 1.5;\" width=\"112\" x=\"783\" y=\"100\"/><line style=\"stroke: #383838; stroke-width: 1.5;\" x1=\"783\" x2=\"895\" y1=\"126.2969\" y2=\"126.2969\"/><text fill=\"#000000\" font-family=\"sans-serif\" font-size=\"14\" lengthAdjust=\"spacingAndGlyphs\" textLength=\"92\" x=\"793\" y=\"117.9951\">m: DataValue</text></g><g id=\"E1.E4\"><rect fill=\"#FFFFFF\" height=\"50\" rx=\"12.5\" ry=\"12.5\" style=\"stroke: #383838; stroke-width: 1.5;\" width=\"52\" x=\"231\" y=\"100\"/><line style=\"stroke: #383838; stroke-width: 1.5;\" x1=\"231\" x2=\"283\" y1=\"126.2969\" y2=\"126.2969\"/><text fill=\"#000000\" font-family=\"sans-serif\" font-size=\"14\" lengthAdjust=\"spacingAndGlyphs\" textLength=\"32\" x=\"241\" y=\"117.9951\">vv: V</text></g><g id=\"E1.E8\"><rect fill=\"#FFFFFF\" height=\"50\" rx=\"12.5\" ry=\"12.5\" style=\"stroke: #383838; stroke-width: 1.5;\" width=\"164\" x=\"32\" y=\"100\"/><line style=\"stroke: #383838; stroke-width: 1.5;\" x1=\"32\" x2=\"196\" y1=\"126.2969\" y2=\"126.2969\"/><text fill=\"#000000\" font-family=\"sans-serif\" font-size=\"14\" lengthAdjust=\"spacingAndGlyphs\" textLength=\"144\" x=\"42\" y=\"117.9951\">analysisContext: Part</text></g><!--MD5=[85b7b21ead7bb45ddccecae418fb8199]\n",
       "@startuml\r\n",
       "skinparam ranksep 8\r\n",
       "skinparam rectangle {\r\n",
       " backgroundColor<<block>> LightGreen\r\n",
       "}\r\n",
       "skinparam linetype ortho\r\n",
       "skinparam monochrome true\r\n",
       "skinparam classbackgroundcolor white\r\n",
       "skinparam shadowing false\r\n",
       "skinparam wrapWidth 300\r\n",
       "hide circle\r\n",
       "\r\n",
       "package \"AnalysisTest\" as E1   {\r\n",
       "rec def \"V\" as E2  <<part def>> {\r\n",
       "rec usage \"m: DataValue\" as E3  <<attribute>> {\r\n",
       "}\r\n",
       "}\r\n",
       "rec usage \"vv: V\" as E4  {\r\n",
       "}\r\n",
       "def \"AnalysisObjective\" as E5  <<requirement def>> \r\n",
       "def \"AnalysisCase\" as E6  <<analysisCase def>> \r\n",
       "def \"AnalysisPlan\" as E7  <<analysisCase def>> \r\n",
       "rec usage \"analysisContext: Part\" as E8  {\r\n",
       "}\r\n",
       "}\r\n",
       "@enduml\r\n",
       "\n",
       "PlantUML version 1.2020.13(Sat Jun 13 12:26:38 UTC 2020)\n",
       "(EPL source distribution)\n",
       "Java Runtime: OpenJDK Runtime Environment\n",
       "JVM: OpenJDK 64-Bit Server VM\n",
       "Default Encoding: UTF-8\n",
       "Language: en\n",
       "Country: null\n",
       "--></g></svg>"
      ]
     },
     "execution_count": 54,
     "metadata": {},
     "output_type": "execute_result"
    }
   ],
   "source": [
    "%viz --style=\"ORTHOLINE\" --view=\"Interconnection\" \"AnalysisTest\""
   ]
  },
  {
   "cell_type": "code",
   "execution_count": 55,
   "id": "weekly-thesaurus",
   "metadata": {
    "execution": {
     "iopub.execute_input": "2021-03-26T09:41:49.140752Z",
     "iopub.status.busy": "2021-03-26T09:41:49.140213Z",
     "iopub.status.idle": "2021-03-26T09:41:49.141748Z",
     "shell.execute_reply": "2021-03-26T09:41:49.142154Z"
    }
   },
   "outputs": [
    {
     "data": {
      "text/plain": [
       "java.lang.IllegalArgumentException: Invalid View: Action View candidates are: Default Tree StateMachine Interconnection Activity Sequence MIXED \n",
       "\tat org.omg.sysml.plantuml.SysML2PlantUMLSvc.setView(SysML2PlantUMLSvc.java:63)\n",
       "\tat org.omg.sysml.interactive.SysMLInteractive.viz(SysMLInteractive.java:286)\n",
       "\tat org.omg.sysml.jupyter.kernel.magic.Viz.viz(Viz.java:47)\n",
       "\tat jdk.internal.reflect.GeneratedMethodAccessor13.invoke(Unknown Source)\n",
       "\tat java.base/jdk.internal.reflect.DelegatingMethodAccessorImpl.invoke(DelegatingMethodAccessorImpl.java:43)\n",
       "\tat java.base/java.lang.reflect.Method.invoke(Method.java:568)\n",
       "\tat io.github.spencerpark.jupyter.kernel.magic.registry.Magics.invoke(Magics.java:89)\n",
       "\tat io.github.spencerpark.jupyter.kernel.magic.registry.Magics.access$000(Magics.java:8)\n",
       "\tat io.github.spencerpark.jupyter.kernel.magic.registry.Magics$LineReflectionMagicFunction.execute(Magics.java:149)\n",
       "\tat io.github.spencerpark.jupyter.kernel.magic.registry.Magics.applyLineMagic(Magics.java:26)\n",
       "\tat org.omg.sysml.jupyter.kernel.SysMLKernel.eval(SysMLKernel.java:76)\n",
       "\tat io.github.spencerpark.jupyter.kernel.BaseKernel.handleExecuteRequest(BaseKernel.java:334)\n",
       "\tat io.github.spencerpark.jupyter.channels.ShellChannel.lambda$bind$0(ShellChannel.java:64)\n",
       "\tat io.github.spencerpark.jupyter.channels.Loop.lambda$new$0(Loop.java:21)\n",
       "\tat io.github.spencerpark.jupyter.channels.Loop.run(Loop.java:78)\n"
      ]
     },
     "execution_count": 55,
     "metadata": {},
     "output_type": "execute_result"
    }
   ],
   "source": [
    "%viz --style=\"ORTHOLINE\" --view=\"Action\" \"AnalysisTest\""
   ]
  },
  {
   "cell_type": "code",
   "execution_count": 56,
   "id": "dietary-visit",
   "metadata": {
    "execution": {
     "iopub.execute_input": "2021-03-26T09:41:49.194275Z",
     "iopub.status.busy": "2021-03-26T09:41:49.193816Z",
     "iopub.status.idle": "2021-03-26T09:41:49.288663Z",
     "shell.execute_reply": "2021-03-26T09:41:49.287194Z"
    }
   },
   "outputs": [
    {
     "data": {
      "image/svg+xml": [
       "<?xml version=\"1.0\" encoding=\"UTF-8\" standalone=\"no\"?><svg xmlns=\"http://www.w3.org/2000/svg\" xmlns:xlink=\"http://www.w3.org/1999/xlink\" contentScriptType=\"application/ecmascript\" contentStyleType=\"text/css\" height=\"947px\" preserveAspectRatio=\"none\" style=\"width:470px;height:947px;\" version=\"1.1\" viewBox=\"0 0 470 947\" width=\"470px\" zoomAndPan=\"magnify\"><defs/><g><!--MD5=[fbc87193dbaf4d95561dea2c320d4a47]\n",
       "cluster E1--><polygon fill=\"#FFFFFF\" points=\"16,6,122,6,129,28.2969,448,28.2969,448,935,16,935,16,6\" style=\"stroke: #000000; stroke-width: 1.5;\"/><line style=\"stroke: #000000; stroke-width: 1.5;\" x1=\"16\" x2=\"129\" y1=\"28.2969\" y2=\"28.2969\"/><text fill=\"#000000\" font-family=\"sans-serif\" font-size=\"14\" font-weight=\"bold\" lengthAdjust=\"spacingAndGlyphs\" textLength=\"100\" x=\"20\" y=\"20.9951\">AnalysisTest</text><!--MD5=[b4997ac47864f28c2f74865a473b2911]\n",
       "class E2--><rect fill=\"#FFFFFF\" height=\"58.7422\" id=\"E2\" style=\"stroke: #383838; stroke-width: 1.5;\" width=\"88\" x=\"309\" y=\"717.5\"/><text fill=\"#000000\" font-family=\"sans-serif\" font-size=\"12\" font-style=\"italic\" lengthAdjust=\"spacingAndGlyphs\" textLength=\"64\" x=\"321\" y=\"733.6387\">«part def»</text><text fill=\"#000000\" font-family=\"sans-serif\" font-size=\"12\" lengthAdjust=\"spacingAndGlyphs\" textLength=\"8\" x=\"349\" y=\"747.6074\">V</text><line style=\"stroke: #383838; stroke-width: 1.5;\" x1=\"310\" x2=\"396\" y1=\"755.4375\" y2=\"755.4375\"/><text fill=\"#000000\" font-family=\"sans-serif\" font-size=\"11\" lengthAdjust=\"spacingAndGlyphs\" textLength=\"76\" x=\"315\" y=\"769.6479\">m: DataValue</text><!--MD5=[09b614a08d8cba4a07c9adeb5e0fee81]\n",
       "class E3--><rect fill=\"#FFFFFF\" height=\"45.9375\" id=\"E3\" rx=\"10\" ry=\"10\" style=\"stroke: #383838; stroke-width: 1.5;\" width=\"42\" x=\"332\" y=\"580\"/><text fill=\"#000000\" font-family=\"sans-serif\" font-size=\"12\" font-style=\"italic\" lengthAdjust=\"spacingAndGlyphs\" textLength=\"40\" x=\"333\" y=\"596.1387\">«part»</text><text fill=\"#000000\" font-family=\"sans-serif\" font-size=\"12\" lengthAdjust=\"spacingAndGlyphs\" textLength=\"28\" x=\"339\" y=\"610.1074\">vv: V</text><line style=\"stroke: #383838; stroke-width: 1.5;\" x1=\"333\" x2=\"373\" y1=\"617.9375\" y2=\"617.9375\"/><!--MD5=[ebbe1d658d1005bcc118a6aa81145e00]\n",
       "class E4--><rect fill=\"#FFFFFF\" height=\"66.7422\" id=\"E4\" style=\"stroke: #383838; stroke-width: 1.5;\" width=\"117\" x=\"73.5\" y=\"852\"/><text fill=\"#000000\" font-family=\"sans-serif\" font-size=\"12\" font-style=\"italic\" lengthAdjust=\"spacingAndGlyphs\" textLength=\"115\" x=\"74.5\" y=\"868.1387\">«requirement def»</text><text fill=\"#000000\" font-family=\"sans-serif\" font-size=\"12\" lengthAdjust=\"spacingAndGlyphs\" textLength=\"107\" x=\"78.5\" y=\"882.1074\">AnalysisObjective</text><line style=\"stroke: #383838; stroke-width: 1.5;\" x1=\"74.5\" x2=\"189.5\" y1=\"889.9375\" y2=\"889.9375\"/><text fill=\"#000000\" font-family=\"sans-serif\" font-size=\"11\" lengthAdjust=\"spacingAndGlyphs\" textLength=\"12\" x=\"79.5\" y=\"904.1479\">...</text><line style=\"stroke: #383838; stroke-width: 1.0;\" x1=\"74.5\" x2=\"189.5\" y1=\"910.7422\" y2=\"910.7422\"/><!--MD5=[270fce915f116d4de14055a7c1d9a0f3]\n",
       "class E5--><rect fill=\"#FFFFFF\" height=\"45.9375\" id=\"E5\" style=\"stroke: #383838; stroke-width: 1.5;\" width=\"90\" x=\"207\" y=\"580\"/><text fill=\"#000000\" font-family=\"sans-serif\" font-size=\"12\" font-style=\"italic\" lengthAdjust=\"spacingAndGlyphs\" textLength=\"88\" x=\"208\" y=\"596.1387\">«analysis def»</text><text fill=\"#000000\" font-family=\"sans-serif\" font-size=\"12\" lengthAdjust=\"spacingAndGlyphs\" textLength=\"81\" x=\"211.5\" y=\"610.1074\">AnalysisCase</text><line style=\"stroke: #383838; stroke-width: 1.5;\" x1=\"208\" x2=\"296\" y1=\"617.9375\" y2=\"617.9375\"/><!--MD5=[60a26617385b1d2d0262a64233df1f8d]\n",
       "class E6--><rect fill=\"#FFFFFF\" height=\"88.3516\" id=\"E6\" rx=\"10\" ry=\"10\" style=\"stroke: #383838; stroke-width: 1.5;\" width=\"165\" x=\"49.5\" y=\"703\"/><text fill=\"#000000\" font-family=\"sans-serif\" font-size=\"12\" font-style=\"italic\" lengthAdjust=\"spacingAndGlyphs\" textLength=\"91\" x=\"86.5\" y=\"719.1387\">«requirement»</text><text fill=\"#000000\" font-family=\"sans-serif\" font-size=\"12\" lengthAdjust=\"spacingAndGlyphs\" textLength=\"134\" x=\"65\" y=\"733.1074\">obj: AnalysisObjective</text><line style=\"stroke: #383838; stroke-width: 1.5;\" x1=\"50.5\" x2=\"213.5\" y1=\"740.9375\" y2=\"740.9375\"/><text fill=\"#000000\" font-family=\"sans-serif\" font-size=\"11\" lengthAdjust=\"spacingAndGlyphs\" textLength=\"130\" x=\"55.5\" y=\"771.9526\">subj: Anything= result;</text><text fill=\"#000000\" font-family=\"sans-serif\" font-size=\"11\" font-style=\"italic\" lengthAdjust=\"spacingAndGlyphs\" textLength=\"153\" x=\"55.5\" y=\"784.7573\">:&gt;&gt;AnalysisObjective::subj</text><line style=\"stroke: #383838; stroke-width: 1.0;\" x1=\"50.5\" x2=\"101\" y1=\"755.3398\" y2=\"755.3398\"/><text fill=\"#000000\" font-family=\"sans-serif\" font-size=\"11\" lengthAdjust=\"spacingAndGlyphs\" textLength=\"62\" x=\"101\" y=\"758.6479\">references</text><line style=\"stroke: #383838; stroke-width: 1.0;\" x1=\"163\" x2=\"213.5\" y1=\"755.3398\" y2=\"755.3398\"/><!--MD5=[2156ba9850f5573cc1fc38a6a4b2f02b]\n",
       "class E7--><rect fill=\"#FFFFFF\" height=\"45.9375\" id=\"E7\" style=\"stroke: #383838; stroke-width: 1.5;\" width=\"90\" x=\"155\" y=\"313\"/><text fill=\"#000000\" font-family=\"sans-serif\" font-size=\"12\" font-style=\"italic\" lengthAdjust=\"spacingAndGlyphs\" textLength=\"88\" x=\"156\" y=\"329.1387\">«analysis def»</text><text fill=\"#000000\" font-family=\"sans-serif\" font-size=\"12\" lengthAdjust=\"spacingAndGlyphs\" textLength=\"77\" x=\"161.5\" y=\"343.1074\">AnalysisPlan</text><line style=\"stroke: #383838; stroke-width: 1.5;\" x1=\"156\" x2=\"244\" y1=\"350.9375\" y2=\"350.9375\"/><!--MD5=[b9389687b975829384b498ac4b7476b2]\n",
       "class E8--><rect fill=\"#FFFFFF\" height=\"66.7422\" id=\"E8\" rx=\"10\" ry=\"10\" style=\"stroke: #383838; stroke-width: 1.5;\" width=\"151\" x=\"243.5\" y=\"436\"/><text fill=\"#000000\" font-family=\"sans-serif\" font-size=\"12\" font-style=\"italic\" lengthAdjust=\"spacingAndGlyphs\" textLength=\"91\" x=\"273.5\" y=\"452.1387\">«requirement»</text><text fill=\"#000000\" font-family=\"sans-serif\" font-size=\"12\" lengthAdjust=\"spacingAndGlyphs\" textLength=\"145\" x=\"246.5\" y=\"466.1074\">obj: RequirementCheck</text><line style=\"stroke: #383838; stroke-width: 1.5;\" x1=\"244.5\" x2=\"393.5\" y1=\"473.9375\" y2=\"473.9375\"/><text fill=\"#000000\" font-family=\"sans-serif\" font-size=\"11\" lengthAdjust=\"spacingAndGlyphs\" textLength=\"12\" x=\"249.5\" y=\"488.1479\">...</text><line style=\"stroke: #383838; stroke-width: 1.0;\" x1=\"244.5\" x2=\"393.5\" y1=\"494.7422\" y2=\"494.7422\"/><!--MD5=[fd4143e9d270a159db93a4ea2a975926]\n",
       "class E9--><rect fill=\"#FFFFFF\" height=\"45.9375\" id=\"E9\" rx=\"10\" ry=\"10\" style=\"stroke: #383838; stroke-width: 1.5;\" width=\"176\" x=\"32\" y=\"446.5\"/><text fill=\"#000000\" font-family=\"sans-serif\" font-size=\"12\" font-style=\"italic\" lengthAdjust=\"spacingAndGlyphs\" textLength=\"64\" x=\"88\" y=\"462.6387\">«analysis»</text><text fill=\"#000000\" font-family=\"sans-serif\" font-size=\"12\" lengthAdjust=\"spacingAndGlyphs\" textLength=\"170\" x=\"35\" y=\"476.6074\">analysisCase: AnalysisCase</text><line style=\"stroke: #383838; stroke-width: 1.5;\" x1=\"33\" x2=\"207\" y1=\"484.4375\" y2=\"484.4375\"/><!--MD5=[96f4274e9e20536e775497830990834d]\n",
       "class E10--><rect fill=\"#FFFFFF\" height=\"45.9375\" id=\"E10\" rx=\"10\" ry=\"10\" style=\"stroke: #383838; stroke-width: 1.5;\" width=\"140\" x=\"32\" y=\"580\"/><text fill=\"#000000\" font-family=\"sans-serif\" font-size=\"12\" font-style=\"italic\" lengthAdjust=\"spacingAndGlyphs\" textLength=\"91\" x=\"56.5\" y=\"596.1387\">«requirement»</text><text fill=\"#000000\" font-family=\"sans-serif\" font-size=\"12\" lengthAdjust=\"spacingAndGlyphs\" textLength=\"134\" x=\"35\" y=\"610.1074\">obj: AnalysisObjective</text><line style=\"stroke: #383838; stroke-width: 1.5;\" x1=\"33\" x2=\"171\" y1=\"617.9375\" y2=\"617.9375\"/><!--MD5=[1dd1bfd58a279cf63c5f349dbc8fc6a1]\n",
       "class E11--><rect fill=\"#FFFFFF\" height=\"45.9375\" id=\"E11\" rx=\"10\" ry=\"10\" style=\"stroke: #383838; stroke-width: 1.5;\" width=\"138\" x=\"209\" y=\"41\"/><text fill=\"#000000\" font-family=\"sans-serif\" font-size=\"12\" font-style=\"italic\" lengthAdjust=\"spacingAndGlyphs\" textLength=\"40\" x=\"258\" y=\"57.1387\">«part»</text><text fill=\"#000000\" font-family=\"sans-serif\" font-size=\"12\" lengthAdjust=\"spacingAndGlyphs\" textLength=\"132\" x=\"212\" y=\"71.1074\">analysisContext: Part</text><line style=\"stroke: #383838; stroke-width: 1.5;\" x1=\"210\" x2=\"346\" y1=\"78.9375\" y2=\"78.9375\"/><!--MD5=[49a0ec8f00dab7302a31f22d0f0fe584]\n",
       "class E12--><rect fill=\"#FFFFFF\" height=\"88.3516\" id=\"E12\" rx=\"10\" ry=\"10\" style=\"stroke: #383838; stroke-width: 1.5;\" width=\"168\" x=\"194\" y=\"148\"/><text fill=\"#000000\" font-family=\"sans-serif\" font-size=\"12\" font-style=\"italic\" lengthAdjust=\"spacingAndGlyphs\" textLength=\"64\" x=\"246\" y=\"164.1387\">«analysis»</text><text fill=\"#000000\" font-family=\"sans-serif\" font-size=\"12\" lengthAdjust=\"spacingAndGlyphs\" textLength=\"162\" x=\"197\" y=\"178.1074\">analysisPlan: AnalysisPlan</text><line style=\"stroke: #383838; stroke-width: 1.5;\" x1=\"195\" x2=\"361\" y1=\"185.9375\" y2=\"185.9375\"/><text fill=\"#000000\" font-family=\"sans-serif\" font-size=\"11\" lengthAdjust=\"spacingAndGlyphs\" textLength=\"50\" x=\"200\" y=\"216.9526\">v: V= vv;</text><text fill=\"#000000\" font-family=\"sans-serif\" font-size=\"11\" font-style=\"italic\" lengthAdjust=\"spacingAndGlyphs\" textLength=\"107\" x=\"200\" y=\"229.7573\">:&gt;&gt;AnalysisPlan::v</text><line style=\"stroke: #383838; stroke-width: 1.0;\" x1=\"195\" x2=\"247\" y1=\"200.3398\" y2=\"200.3398\"/><text fill=\"#000000\" font-family=\"sans-serif\" font-size=\"11\" lengthAdjust=\"spacingAndGlyphs\" textLength=\"62\" x=\"247\" y=\"203.6479\">references</text><line style=\"stroke: #383838; stroke-width: 1.0;\" x1=\"309\" x2=\"361\" y1=\"200.3398\" y2=\"200.3398\"/><!--MD5=[ee3c913d1a06f366521f9ef512b67efe]\n",
       "class E13--><rect fill=\"#FFFFFF\" height=\"45.9375\" id=\"E13\" rx=\"10\" ry=\"10\" style=\"stroke: #383838; stroke-width: 1.5;\" width=\"151\" x=\"280.5\" y=\"313\"/><text fill=\"#000000\" font-family=\"sans-serif\" font-size=\"12\" font-style=\"italic\" lengthAdjust=\"spacingAndGlyphs\" textLength=\"91\" x=\"310.5\" y=\"329.1387\">«requirement»</text><text fill=\"#000000\" font-family=\"sans-serif\" font-size=\"12\" lengthAdjust=\"spacingAndGlyphs\" textLength=\"145\" x=\"283.5\" y=\"343.1074\">obj: RequirementCheck</text><line style=\"stroke: #383838; stroke-width: 1.5;\" x1=\"281.5\" x2=\"430.5\" y1=\"350.9375\" y2=\"350.9375\"/><!--MD5=[05d275557350bfb9b23a4ef7222b4c39]\n",
       "link E3 to E2--><path d=\"M353,626.14 C353,626.14 353,697.44 353,697.44 \" fill=\"none\" id=\"E3-&gt;E2\" style=\"stroke: #383838; stroke-width: 1.0;\"/><polygon fill=\"#FFFFFF\" points=\"353,717.44,346,698.44,360,698.44,353,717.44\" style=\"stroke: #383838; stroke-width: 1.0;\"/><ellipse cx=\"348\" cy=\"692.74\" fill=\"#383838\" rx=\"2\" ry=\"2\" style=\"stroke: #383838; stroke-width: 1.0;\"/><ellipse cx=\"358\" cy=\"692.74\" fill=\"#383838\" rx=\"2\" ry=\"2\" style=\"stroke: #383838; stroke-width: 1.0;\"/><!--MD5=[15ebcb19ae302d9b601edb458606d402]\n",
       "link E5 to E2--><path d=\"M297.26,603 C308.13,603 316.67,603 316.67,603 C316.67,603 316.67,712.16 316.67,712.16 \" fill=\"none\" id=\"E5-&gt;E2\" style=\"stroke: #383838; stroke-width: 1.0; stroke-dasharray: 7.0,7.0;\"/><polygon fill=\"#383838\" points=\"316.67,717.16,320.67,708.16,316.67,712.16,312.67,708.16,316.67,717.16\" style=\"stroke: #383838; stroke-width: 1.0;\"/><text fill=\"#000000\" font-family=\"sans-serif\" font-size=\"13\" lengthAdjust=\"spacingAndGlyphs\" textLength=\"62\" x=\"278\" y=\"669.0669\">«subject»</text><!--MD5=[9120cf2e5df3bff93db8f754bbbc09b4]\n",
       "link E5 to E6--><path d=\"M210.75,626.14 C210.75,626.14 210.75,694.71 210.75,694.71 \" fill=\"none\" id=\"E5-&gt;E6\" style=\"stroke: #383838; stroke-width: 1.0;\"/><polygon fill=\"#383838\" points=\"210.75,702.71,213.75,694.71,207.75,694.71,210.75,702.71\" style=\"stroke: #383838; stroke-width: 1.0;\"/><text fill=\"#000000\" font-family=\"sans-serif\" font-size=\"13\" lengthAdjust=\"spacingAndGlyphs\" textLength=\"73\" x=\"151\" y=\"669.0669\">«objective»</text><!--MD5=[f667431f98296947986a1a7595a31603]\n",
       "link E6 to E4--><path d=\"M132,791.2 C132,791.2 132,831.8 132,831.8 \" fill=\"none\" id=\"E6-&gt;E4\" style=\"stroke: #383838; stroke-width: 1.0;\"/><polygon fill=\"#FFFFFF\" points=\"132,851.8,125,832.8,139,832.8,132,851.8\" style=\"stroke: #383838; stroke-width: 1.0;\"/><ellipse cx=\"127\" cy=\"827.1\" fill=\"#383838\" rx=\"2\" ry=\"2\" style=\"stroke: #383838; stroke-width: 1.0;\"/><ellipse cx=\"137\" cy=\"827.1\" fill=\"#383838\" rx=\"2\" ry=\"2\" style=\"stroke: #383838; stroke-width: 1.0;\"/><!--MD5=[583832df87f4419a098336a29a52fa00]\n",
       "link E7 to E2--><path d=\"M225.75,359.23 C225.75,413.1 225.75,542 225.75,542 C225.75,542 324.33,542 324.33,542 C324.33,542 324.33,712.19 324.33,712.19 \" fill=\"none\" id=\"E7-&gt;E2\" style=\"stroke: #383838; stroke-width: 1.0; stroke-dasharray: 7.0,7.0;\"/><polygon fill=\"#383838\" points=\"324.33,717.19,328.33,708.19,324.33,712.19,320.33,708.19,324.33,717.19\" style=\"stroke: #383838; stroke-width: 1.0;\"/><text fill=\"#000000\" font-family=\"sans-serif\" font-size=\"13\" lengthAdjust=\"spacingAndGlyphs\" textLength=\"62\" x=\"369\" y=\"546.0669\">«subject»</text><!--MD5=[79bc8f324ef4d02c541433f2e6e513c3]\n",
       "link E7 to E8--><path d=\"M234.62,359 C234.62,390.18 234.62,442 234.62,442 C234.62,442 235.5,442 235.5,442 \" fill=\"none\" id=\"E7-&gt;E8\" style=\"stroke: #383838; stroke-width: 1.0;\"/><polygon fill=\"#383838\" points=\"243.34,442,235.34,439,235.34,445,243.34,442\" style=\"stroke: #383838; stroke-width: 1.0;\"/><text fill=\"#000000\" font-family=\"sans-serif\" font-size=\"13\" lengthAdjust=\"spacingAndGlyphs\" textLength=\"73\" x=\"281\" y=\"402.0669\">«objective»</text><!--MD5=[bfc3ddf2e613be37104f658f09af896c]\n",
       "link E9 to E5--><path d=\"M208.28,470 C213.61,470 216.88,470 216.88,470 C216.88,470 216.88,559.83 216.88,559.83 \" fill=\"none\" id=\"E9-&gt;E5\" style=\"stroke: #383838; stroke-width: 1.0;\"/><polygon fill=\"#FFFFFF\" points=\"216.88,579.83,209.88,560.83,223.88,560.83,216.88,579.83\" style=\"stroke: #383838; stroke-width: 1.0;\"/><ellipse cx=\"211.88\" cy=\"555.13\" fill=\"#383838\" rx=\"2\" ry=\"2\" style=\"stroke: #383838; stroke-width: 1.0;\"/><ellipse cx=\"221.88\" cy=\"555.13\" fill=\"#383838\" rx=\"2\" ry=\"2\" style=\"stroke: #383838; stroke-width: 1.0;\"/><!--MD5=[e4a10ef82d0e328e31cac39a31e58dda]\n",
       "reverse link E7 to E9--><path d=\"M181.5,372.25 C181.5,372.25 181.5,446.06 181.5,446.06 \" fill=\"none\" id=\"E7&lt;-E9\" style=\"stroke: #383838; stroke-width: 1.0;\"/><polygon fill=\"#383838\" points=\"181.5,359.25,177.5,365.25,181.5,371.25,185.5,365.25,181.5,359.25\" style=\"stroke: #383838; stroke-width: 1.0;\"/><!--MD5=[35e5f1cbde42fa304a029880aa2bc7f2]\n",
       "link E9 to E10--><path d=\"M31.98,470 C21.26,470 14,470 14,470 C14,470 14,603 14,603 C14,603 23.81,603 23.81,603 \" fill=\"none\" id=\"E9-&gt;E10\" style=\"stroke: #383838; stroke-width: 1.0;\"/><polygon fill=\"#383838\" points=\"31.81,603,23.81,600,23.81,606,31.81,603\" style=\"stroke: #383838; stroke-width: 1.0;\"/><text fill=\"#000000\" font-family=\"sans-serif\" font-size=\"13\" lengthAdjust=\"spacingAndGlyphs\" textLength=\"73\" x=\"112\" y=\"546.0669\">«objective»</text><!--MD5=[198716bf12f04006f5c20d61bde6d80d]\n",
       "link E10 to E6--><path d=\"M110.75,626.14 C110.75,626.14 110.75,682.71 110.75,682.71 \" fill=\"none\" id=\"E10-&gt;E6\" style=\"stroke: #383838; stroke-width: 1.0;\"/><polygon fill=\"#FFFFFF\" points=\"110.75,702.71,103.75,683.71,117.75,683.71,110.75,702.71\" style=\"stroke: #383838; stroke-width: 1.0;\"/><line style=\"stroke: #383838; stroke-width: 2.0;\" x1=\"103.75\" x2=\"117.75\" y1=\"679.91\" y2=\"679.91\"/><!--MD5=[ae660f5ecd7ddb04a8913625960940af]\n",
       "link E12 to E7--><path d=\"M219.5,236.38 C219.5,236.38 219.5,292.88 219.5,292.88 \" fill=\"none\" id=\"E12-&gt;E7\" style=\"stroke: #383838; stroke-width: 1.0;\"/><polygon fill=\"#FFFFFF\" points=\"219.5,312.88,212.5,293.88,226.5,293.88,219.5,312.88\" style=\"stroke: #383838; stroke-width: 1.0;\"/><ellipse cx=\"214.5\" cy=\"288.18\" fill=\"#383838\" rx=\"2\" ry=\"2\" style=\"stroke: #383838; stroke-width: 1.0;\"/><ellipse cx=\"224.5\" cy=\"288.18\" fill=\"#383838\" rx=\"2\" ry=\"2\" style=\"stroke: #383838; stroke-width: 1.0;\"/><!--MD5=[94adabc162ce7e41b39f13be14fbaeb3]\n",
       "reverse link E11 to E12--><path d=\"M278,100.18 C278,100.18 278,147.76 278,147.76 \" fill=\"none\" id=\"E11&lt;-E12\" style=\"stroke: #383838; stroke-width: 1.0;\"/><polygon fill=\"#383838\" points=\"278,87.18,274,93.18,278,99.18,282,93.18,278,87.18\" style=\"stroke: #383838; stroke-width: 1.0;\"/><!--MD5=[e2a9ac97dcd3257bb5342dae06547bad]\n",
       "link E12 to E13--><path d=\"M321.25,236.38 C321.25,236.38 321.25,304.88 321.25,304.88 \" fill=\"none\" id=\"E12-&gt;E13\" style=\"stroke: #383838; stroke-width: 1.0;\"/><polygon fill=\"#383838\" points=\"321.25,312.88,324.25,304.88,318.25,304.88,321.25,312.88\" style=\"stroke: #383838; stroke-width: 1.0;\"/><text fill=\"#000000\" font-family=\"sans-serif\" font-size=\"13\" lengthAdjust=\"spacingAndGlyphs\" textLength=\"73\" x=\"328\" y=\"279.0669\">«objective»</text><!--MD5=[45fff2151472f8b97fef8963155916b3]\n",
       "@startuml\r\n",
       "skinparam linetype ortho\r\n",
       "skinparam monochrome true\r\n",
       "skinparam classbackgroundcolor white\r\n",
       "skinparam shadowing false\r\n",
       "skinparam wrapWidth 300\r\n",
       "hide circle\r\n",
       "\r\n",
       "package \"AnalysisTest\" as E1   {\r\n",
       "comp def \"V\" as E2  <<(T,blue)part def>> {\r\n",
       "m: DataValue\r\n",
       "}\r\n",
       "comp usage \"vv: V\" as E3  <<(T,blue)part>> {\r\n",
       "}\r\n",
       "comp def \"AnalysisObjective\" as E4  <<(T,blue)requirement def>> {\r\n",
       "...\r\n",
       "- -\r\n",
       "}\r\n",
       "comp def \"AnalysisCase\" as E5 <<analysis def>> {\r\n",
       "}\r\n",
       "comp usage \"obj: AnalysisObjective\" as E6  <<(T,blue)requirement>> {\r\n",
       "- -references- -\r\n",
       "subj: Anything= result; \\n//:>>AnalysisObjective::subj// \r\n",
       "}\r\n",
       "comp def \"AnalysisPlan\" as E7 <<analysis def>> {\r\n",
       "}\r\n",
       "comp usage \"obj: RequirementCheck\" as E8  <<(T,blue)requirement>> {\r\n",
       "...\r\n",
       "- -\r\n",
       "}\r\n",
       "comp usage \"analysisCase: AnalysisCase\" as E9 <<analysis>> {\r\n",
       "}\r\n",
       "comp usage \"obj: AnalysisObjective\" as E10  <<(T,blue)requirement>> {\r\n",
       "}\r\n",
       "comp usage \"analysisContext: Part\" as E11  <<(T,blue)part>> {\r\n",
       "}\r\n",
       "comp usage \"analysisPlan: AnalysisPlan\" as E12 <<analysis>> {\r\n",
       "- -references- -\r\n",
       "v: V= vv; \\n//:>>AnalysisPlan::v// \r\n",
       "}\r\n",
       "comp usage \"obj: RequirementCheck\" as E13  <<(T,blue)requirement>> {\r\n",
       "}\r\n",
       "E3 - -:|> E2\r\n",
       "E5 ..> E2 : <<subject>>\r\n",
       "E5 - ->> E6 : <<objective>>\r\n",
       "E6 - -:|> E4\r\n",
       "E7 ..> E2 : <<subject>>\r\n",
       "E7 - ->> E8 : <<objective>>\r\n",
       "E9 - -:|> E5\r\n",
       "E7 *- - E9\r\n",
       "E9 - ->> E10 : <<objective>>\r\n",
       "E10 - -||> E6\r\n",
       "E12 - -:|> E7\r\n",
       "E11 *- - E12\r\n",
       "E12 - ->> E13 : <<objective>>\r\n",
       "}\r\n",
       "@enduml\r\n",
       "\n",
       "PlantUML version 1.2020.13(Sat Jun 13 12:26:38 UTC 2020)\n",
       "(EPL source distribution)\n",
       "Java Runtime: OpenJDK Runtime Environment\n",
       "JVM: OpenJDK 64-Bit Server VM\n",
       "Default Encoding: UTF-8\n",
       "Language: en\n",
       "Country: null\n",
       "--></g></svg>"
      ]
     },
     "execution_count": 56,
     "metadata": {},
     "output_type": "execute_result"
    }
   ],
   "source": [
    "%viz --style=\"ORTHOLINE\" --view=\"Sequence\" \"AnalysisTest\""
   ]
  },
  {
   "cell_type": "code",
   "execution_count": 57,
   "id": "bright-kingston",
   "metadata": {
    "execution": {
     "iopub.execute_input": "2021-03-26T09:41:49.338584Z",
     "iopub.status.busy": "2021-03-26T09:41:49.338215Z",
     "iopub.status.idle": "2021-03-26T09:41:49.393292Z",
     "shell.execute_reply": "2021-03-26T09:41:49.392188Z"
    }
   },
   "outputs": [
    {
     "data": {
      "image/svg+xml": [
       "<?xml version=\"1.0\" encoding=\"UTF-8\" standalone=\"no\"?><svg xmlns=\"http://www.w3.org/2000/svg\" xmlns:xlink=\"http://www.w3.org/1999/xlink\" contentScriptType=\"application/ecmascript\" contentStyleType=\"text/css\" height=\"551px\" preserveAspectRatio=\"none\" style=\"width:848px;height:551px;\" version=\"1.1\" viewBox=\"0 0 848 551\" width=\"848px\" zoomAndPan=\"magnify\"><defs/><g><!--MD5=[fbc87193dbaf4d95561dea2c320d4a47]\n",
       "cluster E1--><polygon fill=\"#FFFFFF\" points=\"16,6,122,6,129,28.2969,826,28.2969,826,539.72,16,539.72,16,6\" style=\"stroke: #000000; stroke-width: 1.5;\"/><line style=\"stroke: #000000; stroke-width: 1.5;\" x1=\"16\" x2=\"129\" y1=\"28.2969\" y2=\"28.2969\"/><text fill=\"#000000\" font-family=\"sans-serif\" font-size=\"14\" font-weight=\"bold\" lengthAdjust=\"spacingAndGlyphs\" textLength=\"100\" x=\"20\" y=\"20.9951\">AnalysisTest</text><!--MD5=[de5ec2e2e8f62f467e546659f5068c88]\n",
       "cluster E5--><rect fill=\"#FFFFFF\" height=\"164\" style=\"stroke: #000000; stroke-width: 1.5;\" width=\"152\" x=\"658\" y=\"74.5\"/><text fill=\"#000000\" font-family=\"sans-serif\" font-size=\"14\" font-weight=\"bold\" lengthAdjust=\"spacingAndGlyphs\" textLength=\"104\" x=\"682\" y=\"89.4951\">AnalysisCase</text><!--MD5=[168fadf3d0c3fd93dd5d6da1b1d7ab76]\n",
       "cluster E7--><rect fill=\"#FFFFFF\" height=\"302.72\" style=\"stroke: #000000; stroke-width: 1.5;\" width=\"256\" x=\"279\" y=\"213\"/><text fill=\"#000000\" font-family=\"sans-serif\" font-size=\"14\" font-weight=\"bold\" lengthAdjust=\"spacingAndGlyphs\" textLength=\"98\" x=\"358\" y=\"227.9951\">AnalysisPlan</text><!--MD5=[7f149f147074ac12df2cb0a7728a5fb0]\n",
       "cluster E9--><rect fill=\"#F8F8F8\" height=\"146.22\" rx=\"12.5\" ry=\"12.5\" style=\"stroke: #000000; stroke-width: 1.5;\" width=\"138\" x=\"373\" y=\"331.5\"/><rect fill=\"#FFFFFF\" height=\"113.9231\" rx=\"12.5\" ry=\"12.5\" style=\"stroke: #FFFFFF; stroke-width: 1.0;\" width=\"132\" x=\"376\" y=\"360.7969\"/><line style=\"stroke: #000000; stroke-width: 1.5;\" x1=\"373\" x2=\"511\" y1=\"357.7969\" y2=\"357.7969\"/><text fill=\"#000000\" font-family=\"sans-serif\" font-size=\"14\" lengthAdjust=\"spacingAndGlyphs\" textLength=\"89\" x=\"397.5\" y=\"349.4951\">analysisCase</text><!--MD5=[b4997ac47864f28c2f74865a473b2911]\n",
       "class E2--><rect fill=\"#FFFFFF\" height=\"58.7422\" id=\"E2\" style=\"stroke: #383838; stroke-width: 1.5;\" width=\"88\" x=\"551\" y=\"183.5\"/><text fill=\"#000000\" font-family=\"sans-serif\" font-size=\"12\" font-style=\"italic\" lengthAdjust=\"spacingAndGlyphs\" textLength=\"64\" x=\"563\" y=\"199.6387\">«part def»</text><text fill=\"#000000\" font-family=\"sans-serif\" font-size=\"12\" lengthAdjust=\"spacingAndGlyphs\" textLength=\"8\" x=\"591\" y=\"213.6074\">V</text><line style=\"stroke: #383838; stroke-width: 1.5;\" x1=\"552\" x2=\"638\" y1=\"221.4375\" y2=\"221.4375\"/><text fill=\"#000000\" font-family=\"sans-serif\" font-size=\"11\" lengthAdjust=\"spacingAndGlyphs\" textLength=\"76\" x=\"557\" y=\"235.6479\">m: DataValue</text><!--MD5=[09b614a08d8cba4a07c9adeb5e0fee81]\n",
       "class E3--><rect fill=\"#FFFFFF\" height=\"45.9375\" id=\"E3\" rx=\"10\" ry=\"10\" style=\"stroke: #383838; stroke-width: 1.5;\" width=\"42\" x=\"574\" y=\"51.5\"/><text fill=\"#000000\" font-family=\"sans-serif\" font-size=\"12\" font-style=\"italic\" lengthAdjust=\"spacingAndGlyphs\" textLength=\"40\" x=\"575\" y=\"67.6387\">«part»</text><text fill=\"#000000\" font-family=\"sans-serif\" font-size=\"12\" lengthAdjust=\"spacingAndGlyphs\" textLength=\"28\" x=\"581\" y=\"81.6074\">vv: V</text><line style=\"stroke: #383838; stroke-width: 1.5;\" x1=\"575\" x2=\"615\" y1=\"89.4375\" y2=\"89.4375\"/><!--MD5=[ebbe1d658d1005bcc118a6aa81145e00]\n",
       "class E4--><rect fill=\"#FFFFFF\" height=\"66.7422\" id=\"E4\" style=\"stroke: #383838; stroke-width: 1.5;\" width=\"117\" x=\"321.5\" y=\"41\"/><text fill=\"#000000\" font-family=\"sans-serif\" font-size=\"12\" font-style=\"italic\" lengthAdjust=\"spacingAndGlyphs\" textLength=\"115\" x=\"322.5\" y=\"57.1387\">«requirement def»</text><text fill=\"#000000\" font-family=\"sans-serif\" font-size=\"12\" lengthAdjust=\"spacingAndGlyphs\" textLength=\"107\" x=\"326.5\" y=\"71.1074\">AnalysisObjective</text><line style=\"stroke: #383838; stroke-width: 1.5;\" x1=\"322.5\" x2=\"437.5\" y1=\"78.9375\" y2=\"78.9375\"/><text fill=\"#000000\" font-family=\"sans-serif\" font-size=\"11\" lengthAdjust=\"spacingAndGlyphs\" textLength=\"12\" x=\"327.5\" y=\"93.1479\">...</text><line style=\"stroke: #383838; stroke-width: 1.0;\" x1=\"322.5\" x2=\"437.5\" y1=\"99.7422\" y2=\"99.7422\"/><!--MD5=[1dd1bfd58a279cf63c5f349dbc8fc6a1]\n",
       "class E11--><rect fill=\"#FFFFFF\" height=\"45.9375\" id=\"E11\" rx=\"10\" ry=\"10\" style=\"stroke: #383838; stroke-width: 1.5;\" width=\"138\" x=\"47\" y=\"51.5\"/><text fill=\"#000000\" font-family=\"sans-serif\" font-size=\"12\" font-style=\"italic\" lengthAdjust=\"spacingAndGlyphs\" textLength=\"40\" x=\"96\" y=\"67.6387\">«part»</text><text fill=\"#000000\" font-family=\"sans-serif\" font-size=\"12\" lengthAdjust=\"spacingAndGlyphs\" textLength=\"132\" x=\"50\" y=\"81.6074\">analysisContext: Part</text><line style=\"stroke: #383838; stroke-width: 1.5;\" x1=\"48\" x2=\"184\" y1=\"89.4375\" y2=\"89.4375\"/><!--MD5=[49a0ec8f00dab7302a31f22d0f0fe584]\n",
       "class E12--><rect fill=\"#FFFFFF\" height=\"88.3516\" id=\"E12\" rx=\"10\" ry=\"10\" style=\"stroke: #383838; stroke-width: 1.5;\" width=\"168\" x=\"32\" y=\"169\"/><text fill=\"#000000\" font-family=\"sans-serif\" font-size=\"12\" font-style=\"italic\" lengthAdjust=\"spacingAndGlyphs\" textLength=\"64\" x=\"84\" y=\"185.1387\">«analysis»</text><text fill=\"#000000\" font-family=\"sans-serif\" font-size=\"12\" lengthAdjust=\"spacingAndGlyphs\" textLength=\"162\" x=\"35\" y=\"199.1074\">analysisPlan: AnalysisPlan</text><line style=\"stroke: #383838; stroke-width: 1.5;\" x1=\"33\" x2=\"199\" y1=\"206.9375\" y2=\"206.9375\"/><text fill=\"#000000\" font-family=\"sans-serif\" font-size=\"11\" lengthAdjust=\"spacingAndGlyphs\" textLength=\"50\" x=\"38\" y=\"237.9526\">v: V= vv;</text><text fill=\"#000000\" font-family=\"sans-serif\" font-size=\"11\" font-style=\"italic\" lengthAdjust=\"spacingAndGlyphs\" textLength=\"107\" x=\"38\" y=\"250.7573\">:&gt;&gt;AnalysisPlan::v</text><line style=\"stroke: #383838; stroke-width: 1.0;\" x1=\"33\" x2=\"85\" y1=\"221.3398\" y2=\"221.3398\"/><text fill=\"#000000\" font-family=\"sans-serif\" font-size=\"11\" lengthAdjust=\"spacingAndGlyphs\" textLength=\"62\" x=\"85\" y=\"224.6479\">references</text><line style=\"stroke: #383838; stroke-width: 1.0;\" x1=\"147\" x2=\"199\" y1=\"221.3398\" y2=\"221.3398\"/><!--MD5=[ee3c913d1a06f366521f9ef512b67efe]\n",
       "class E13--><rect fill=\"#FFFFFF\" height=\"45.9375\" id=\"E13\" rx=\"10\" ry=\"10\" style=\"stroke: #383838; stroke-width: 1.5;\" width=\"151\" x=\"40.5\" y=\"334\"/><text fill=\"#000000\" font-family=\"sans-serif\" font-size=\"12\" font-style=\"italic\" lengthAdjust=\"spacingAndGlyphs\" textLength=\"91\" x=\"70.5\" y=\"350.1387\">«requirement»</text><text fill=\"#000000\" font-family=\"sans-serif\" font-size=\"12\" lengthAdjust=\"spacingAndGlyphs\" textLength=\"145\" x=\"43.5\" y=\"364.1074\">obj: RequirementCheck</text><line style=\"stroke: #383838; stroke-width: 1.5;\" x1=\"41.5\" x2=\"190.5\" y1=\"371.9375\" y2=\"371.9375\"/><text fill=\"#000000\" font-family=\"sans-serif\" font-size=\"14\" lengthAdjust=\"spacingAndGlyphs\" textLength=\"7\" x=\"730.5\" y=\"53.1982\">v</text><rect fill=\"#383838\" height=\"12\" style=\"stroke: #F8F8F8; stroke-width: 1.5;\" width=\"12\" x=\"728\" y=\"68.5\"/><text fill=\"#000000\" font-family=\"sans-serif\" font-size=\"14\" lengthAdjust=\"spacingAndGlyphs\" textLength=\"7\" x=\"293.5\" y=\"191.6982\">v</text><rect fill=\"#383838\" height=\"12\" style=\"stroke: #F8F8F8; stroke-width: 1.5;\" width=\"12\" x=\"291\" y=\"207\"/><text fill=\"#000000\" font-family=\"sans-serif\" font-size=\"14\" lengthAdjust=\"spacingAndGlyphs\" textLength=\"37\" x=\"423.5\" y=\"496.7151\">mass</text><rect fill=\"#383838\" height=\"12\" style=\"stroke: #F8F8F8; stroke-width: 1.5;\" width=\"12\" x=\"436\" y=\"471.72\"/><!--MD5=[05d275557350bfb9b23a4ef7222b4c39]\n",
       "link E3 to E2--><path d=\"M595,97.68 C595,97.68 595,163.46 595,163.46 \" fill=\"none\" id=\"E3-&gt;E2\" style=\"stroke: #383838; stroke-width: 1.0;\"/><polygon fill=\"#FFFFFF\" points=\"595,183.46,588,164.46,602,164.46,595,183.46\" style=\"stroke: #383838; stroke-width: 1.0;\"/><ellipse cx=\"590\" cy=\"158.76\" fill=\"#383838\" rx=\"2\" ry=\"2\" style=\"stroke: #383838; stroke-width: 1.0;\"/><ellipse cx=\"600\" cy=\"158.76\" fill=\"#383838\" rx=\"2\" ry=\"2\" style=\"stroke: #383838; stroke-width: 1.0;\"/><!--MD5=[ae660f5ecd7ddb04a8913625960940af]\n",
       "link E12 to E7--><path d=\"M195.75,257.21 C195.75,299.77 195.75,357.72 195.75,357.72 C195.75,357.72 216.9,357.72 239.87,357.72 \" fill=\"none\" id=\"E12-&gt;E7\" style=\"stroke: #383838; stroke-width: 1.0;\"/><polygon fill=\"#FFFFFF\" points=\"239.87,357.72,220.87,364.72,220.87,350.72,239.87,357.72\" style=\"stroke: #383838; stroke-width: 1.0;\"/><ellipse cx=\"215.17\" cy=\"362.72\" fill=\"#383838\" rx=\"2\" ry=\"2\" style=\"stroke: #383838; stroke-width: 1.0;\"/><ellipse cx=\"215.17\" cy=\"352.72\" fill=\"#383838\" rx=\"2\" ry=\"2\" style=\"stroke: #383838; stroke-width: 1.0;\"/><!--MD5=[94adabc162ce7e41b39f13be14fbaeb3]\n",
       "reverse link E11 to E12--><path d=\"M116,110.68 C116,110.68 116,168.72 116,168.72 \" fill=\"none\" id=\"E11&lt;-E12\" style=\"stroke: #383838; stroke-width: 1.0;\"/><polygon fill=\"#383838\" points=\"116,97.68,112,103.68,116,109.68,120,103.68,116,97.68\" style=\"stroke: #383838; stroke-width: 1.0;\"/><!--MD5=[e2a9ac97dcd3257bb5342dae06547bad]\n",
       "link E12 to E13--><path d=\"M116,257.38 C116,257.38 116,325.88 116,325.88 \" fill=\"none\" id=\"E12-&gt;E13\" style=\"stroke: #383838; stroke-width: 1.0;\"/><polygon fill=\"#383838\" points=\"116,333.88,119,325.88,113,325.88,116,333.88\" style=\"stroke: #383838; stroke-width: 1.0;\"/><text fill=\"#000000\" font-family=\"sans-serif\" font-size=\"13\" lengthAdjust=\"spacingAndGlyphs\" textLength=\"73\" x=\"117\" y=\"300.0669\">«objective»</text><!--MD5=[ea3d7ceee67483c78ee5547957f2a5db]\n",
       "@startuml\r\n",
       "skinparam linetype ortho\r\n",
       "skinparam monochrome true\r\n",
       "skinparam classbackgroundcolor white\r\n",
       "skinparam shadowing false\r\n",
       "skinparam wrapWidth 300\r\n",
       "hide circle\r\n",
       "\r\n",
       "package \"AnalysisTest\" as E1   {\r\n",
       "comp def \"V\" as E2  <<(T,blue)part def>> {\r\n",
       "m: DataValue\r\n",
       "}\r\n",
       "comp usage \"vv: V\" as E3  <<(T,blue)part>> {\r\n",
       "}\r\n",
       "comp def \"AnalysisObjective\" as E4  <<(T,blue)requirement def>> {\r\n",
       "...\r\n",
       "- -\r\n",
       "}\r\n",
       "rec def \"AnalysisCase\" as E5 {\r\n",
       "portin \"v\" as E6  \r\n",
       "}\r\n",
       "\r\n",
       "rec def \"AnalysisPlan\" as E7 {\r\n",
       "portin \"v\" as E8  \r\n",
       "rec usage \"analysisCase\" as E9 {\r\n",
       "portout \"mass\" as E10  \r\n",
       "}\r\n",
       "\r\n",
       "}\r\n",
       "\r\n",
       "comp usage \"analysisContext: Part\" as E11  <<(T,blue)part>> {\r\n",
       "}\r\n",
       "comp usage \"analysisPlan: AnalysisPlan\" as E12 <<analysis>> {\r\n",
       "- -references- -\r\n",
       "v: V= vv; \\n//:>>AnalysisPlan::v// \r\n",
       "}\r\n",
       "comp usage \"obj: RequirementCheck\" as E13  <<(T,blue)requirement>> {\r\n",
       "}\r\n",
       "E3 - -:|> E2\r\n",
       "E12 - -:|> E7\r\n",
       "E11 *- - E12\r\n",
       "E12 - ->> E13 : <<objective>>\r\n",
       "}\r\n",
       "@enduml\r\n",
       "\n",
       "PlantUML version 1.2020.13(Sat Jun 13 12:26:38 UTC 2020)\n",
       "(EPL source distribution)\n",
       "Java Runtime: OpenJDK Runtime Environment\n",
       "JVM: OpenJDK 64-Bit Server VM\n",
       "Default Encoding: UTF-8\n",
       "Language: en\n",
       "Country: null\n",
       "--></g></svg>"
      ]
     },
     "execution_count": 57,
     "metadata": {},
     "output_type": "execute_result"
    }
   ],
   "source": [
    "%viz --style=\"ORTHOLINE\" --view=\"MIXED\" \"AnalysisTest\""
   ]
  }
 ],
 "metadata": {
  "kernelspec": {
   "display_name": "SysML",
   "language": "sysml",
   "name": "sysml"
  },
  "language_info": {
   "codemirror_mode": "sysml",
   "file_extension": ".sysml",
   "mimetype": "text/x-sysml",
   "name": "SysML",
   "pygments_lexer": "java",
   "version": "1.0.0"
  }
 },
 "nbformat": 4,
 "nbformat_minor": 5
}
