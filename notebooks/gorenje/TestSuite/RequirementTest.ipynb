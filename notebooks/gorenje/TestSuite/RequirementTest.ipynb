{
 "cells": [
  {
   "cell_type": "markdown",
   "id": "1d7ba3a5",
   "metadata": {},
   "source": [
    "# SysML v2 Test Suite\n",
    "\n",
    "This can notebook can be cleared using menu `Edit --> Clear All Outputs` and then all cells can be\n",
    "run using menu `Run --> Run All Cells`.\n",
    "\n",
    "**WARNING**: This file is generated, all modifications here will be ignored.\n"
   ]
  },
  {
   "cell_type": "markdown",
   "id": "07b8daea",
   "metadata": {},
   "source": [
    "## File: ../../sysml/src/examples/Simple Tests/RequirementTest.sysml"
   ]
  },
  {
   "cell_type": "code",
   "execution_count": 1,
   "id": "08df1b91",
   "metadata": {
    "execution": {
     "iopub.execute_input": "2021-04-21T20:21:23.399535Z",
     "iopub.status.busy": "2021-04-21T20:21:23.398384Z",
     "iopub.status.idle": "2021-04-21T20:21:24.047210Z",
     "shell.execute_reply": "2021-04-21T20:21:24.046544Z"
    }
   },
   "outputs": [
    {
     "data": {
      "text/plain": [
       "Package RequirementTest (fa632f4c-a42b-4178-a87b-c3a0e46f9d64)\n"
      ]
     },
     "execution_count": 1,
     "metadata": {},
     "output_type": "execute_result"
    }
   ],
   "source": [
    "package RequirementTest {\n",
    "\tconstraint def C;\n",
    "\tconstraint c : C;\n",
    "\trequirement def R {\n",
    "\t\tassume constraint c1 : C;\n",
    "\t\trequire c;\n",
    "\t\tdoc /* */\n",
    "    \trequirement;\n",
    "    \trequirement def id '1' A {\n",
    "    \t\tdoc /* Text */\n",
    "    \t\tsubject s;\n",
    "    \t}\n",
    "\t}\n",
    "\trequirement def R1 {\n",
    "\t\trequire constraint c1 :>> c;\n",
    "\t}\n",
    "\tpart p;\n",
    "\tpart q {\n",
    "\t\trequirement r : R;\n",
    "\t\tsatisfy r by p;\n",
    "\t}\n",
    "}"
   ]
  },
  {
   "cell_type": "code",
   "execution_count": 2,
   "id": "ad0bed3a",
   "metadata": {
    "execution": {
     "iopub.execute_input": "2021-04-21T20:21:24.099151Z",
     "iopub.status.busy": "2021-04-21T20:21:24.098707Z",
     "iopub.status.idle": "2021-04-21T20:21:25.081751Z",
     "shell.execute_reply": "2021-04-21T20:21:25.081159Z"
    }
   },
   "outputs": [
    {
     "data": {
      "image/svg+xml": [
       "<?xml version=\"1.0\" encoding=\"UTF-8\" standalone=\"no\"?><svg xmlns=\"http://www.w3.org/2000/svg\" xmlns:xlink=\"http://www.w3.org/1999/xlink\" contentScriptType=\"application/ecmascript\" contentStyleType=\"text/css\" height=\"578px\" preserveAspectRatio=\"none\" style=\"width:408px;height:578px;\" version=\"1.1\" viewBox=\"0 0 408 578\" width=\"408px\" zoomAndPan=\"magnify\"><defs/><g><!--MD5=[fbc87193dbaf4d95561dea2c320d4a47]\n",
       "cluster E1--><a href=\"psysml:f822a5b9-f637-4bfc-9356-d45755be39c3\" target=\"_top\" title=\"psysml:f822a5b9-f637-4bfc-9356-d45755be39c3\" xlink:actuate=\"onRequest\" xlink:href=\"psysml:f822a5b9-f637-4bfc-9356-d45755be39c3\" xlink:show=\"new\" xlink:title=\"psysml:f822a5b9-f637-4bfc-9356-d45755be39c3\" xlink:type=\"simple\"><polygon fill=\"#FFFFFF\" points=\"16,6,158,6,165,28.2969,386,28.2969,386,566,16,566,16,6\" style=\"stroke: #000000; stroke-width: 1.5;\"/><line style=\"stroke: #000000; stroke-width: 1.5;\" x1=\"16\" x2=\"165\" y1=\"28.2969\" y2=\"28.2969\"/><text fill=\"#000000\" font-family=\"sans-serif\" font-size=\"14\" font-weight=\"bold\" lengthAdjust=\"spacingAndGlyphs\" textLength=\"136\" x=\"20\" y=\"20.9951\">RequirementTest</text></a><!--MD5=[b4997ac47864f28c2f74865a473b2911]\n",
       "class E2--><a href=\"psysml:55e0c843-cabd-4238-9430-5e5ddb37e322\" target=\"_top\" title=\"psysml:55e0c843-cabd-4238-9430-5e5ddb37e322\" xlink:actuate=\"onRequest\" xlink:href=\"psysml:55e0c843-cabd-4238-9430-5e5ddb37e322\" xlink:show=\"new\" xlink:title=\"psysml:55e0c843-cabd-4238-9430-5e5ddb37e322\" xlink:type=\"simple\"><rect fill=\"#FFFFFF\" height=\"45.9375\" id=\"E2\" style=\"stroke: #383838; stroke-width: 1.5;\" width=\"104\" x=\"266\" y=\"190\"/><text fill=\"#000000\" font-family=\"sans-serif\" font-size=\"12\" font-style=\"italic\" lengthAdjust=\"spacingAndGlyphs\" textLength=\"102\" x=\"267\" y=\"206.1387\">«constraint def»</text><text fill=\"#000000\" font-family=\"sans-serif\" font-size=\"12\" lengthAdjust=\"spacingAndGlyphs\" textLength=\"8\" x=\"314\" y=\"220.1074\">C</text><line style=\"stroke: #383838; stroke-width: 1.5;\" x1=\"267\" x2=\"369\" y1=\"227.9375\" y2=\"227.9375\"/></a><!--MD5=[09b614a08d8cba4a07c9adeb5e0fee81]\n",
       "class E3--><a href=\"psysml:943270d7-f648-4f2b-99ed-798f0a01be75\" target=\"_top\" title=\"psysml:943270d7-f648-4f2b-99ed-798f0a01be75\" xlink:actuate=\"onRequest\" xlink:href=\"psysml:943270d7-f648-4f2b-99ed-798f0a01be75\" xlink:show=\"new\" xlink:title=\"psysml:943270d7-f648-4f2b-99ed-798f0a01be75\" xlink:type=\"simple\"><rect fill=\"#FFFFFF\" height=\"45.9375\" id=\"E3\" rx=\"10\" ry=\"10\" style=\"stroke: #383838; stroke-width: 1.5;\" width=\"80\" x=\"290\" y=\"62\"/><text fill=\"#000000\" font-family=\"sans-serif\" font-size=\"12\" font-style=\"italic\" lengthAdjust=\"spacingAndGlyphs\" textLength=\"78\" x=\"291\" y=\"78.1387\">«constraint»</text><text fill=\"#000000\" font-family=\"sans-serif\" font-size=\"12\" lengthAdjust=\"spacingAndGlyphs\" textLength=\"23\" x=\"318.5\" y=\"92.1074\">c: C</text><line style=\"stroke: #383838; stroke-width: 1.5;\" x1=\"291\" x2=\"369\" y1=\"99.9375\" y2=\"99.9375\"/></a><!--MD5=[ebbe1d658d1005bcc118a6aa81145e00]\n",
       "class E4--><a href=\"psysml:3547be1a-4b91-4a24-a66e-ac992d912d25\" target=\"_top\" title=\"psysml:3547be1a-4b91-4a24-a66e-ac992d912d25\" xlink:actuate=\"onRequest\" xlink:href=\"psysml:3547be1a-4b91-4a24-a66e-ac992d912d25\" xlink:show=\"new\" xlink:title=\"psysml:3547be1a-4b91-4a24-a66e-ac992d912d25\" xlink:type=\"simple\"><rect fill=\"#FFFFFF\" height=\"109.1563\" id=\"E4\" style=\"stroke: #383838; stroke-width: 1.5;\" width=\"117\" x=\"32.5\" y=\"313\"/><text fill=\"#000000\" font-family=\"sans-serif\" font-size=\"12\" font-style=\"italic\" lengthAdjust=\"spacingAndGlyphs\" textLength=\"115\" x=\"33.5\" y=\"329.1387\">«requirement def»</text><text fill=\"#000000\" font-family=\"sans-serif\" font-size=\"12\" lengthAdjust=\"spacingAndGlyphs\" textLength=\"8\" x=\"87\" y=\"343.1074\">R</text><line style=\"stroke: #383838; stroke-width: 1.5;\" x1=\"33.5\" x2=\"148.5\" y1=\"350.9375\" y2=\"350.9375\"/><text fill=\"#000000\" font-family=\"sans-serif\" font-size=\"11\" lengthAdjust=\"spacingAndGlyphs\" textLength=\"0\" x=\"42.5\" y=\"365.1479\"/><line style=\"stroke: #383838; stroke-width: 1.0;\" x1=\"33.5\" x2=\"148.5\" y1=\"371.7422\" y2=\"371.7422\"/><text fill=\"#000000\" font-family=\"sans-serif\" font-size=\"11\" font-weight=\"bold\" lengthAdjust=\"spacingAndGlyphs\" textLength=\"46\" x=\"38.5\" y=\"402.7573\">require</text><text fill=\"#000000\" font-family=\"sans-serif\" font-size=\"11\" lengthAdjust=\"spacingAndGlyphs\" textLength=\"6\" x=\"88.5\" y=\"402.7573\">c</text><text fill=\"#000000\" font-family=\"sans-serif\" font-size=\"11\" font-style=\"italic\" lengthAdjust=\"spacingAndGlyphs\" textLength=\"46\" x=\"38.5\" y=\"415.562\">assume</text><text fill=\"#000000\" font-family=\"sans-serif\" font-size=\"11\" lengthAdjust=\"spacingAndGlyphs\" textLength=\"29\" x=\"88.5\" y=\"415.562\">c1: C</text><line style=\"stroke: #383838; stroke-width: 1.0;\" x1=\"33.5\" x2=\"59\" y1=\"386.1445\" y2=\"386.1445\"/><text fill=\"#000000\" font-family=\"sans-serif\" font-size=\"11\" lengthAdjust=\"spacingAndGlyphs\" textLength=\"64\" x=\"59\" y=\"389.4526\">constraints</text><line style=\"stroke: #383838; stroke-width: 1.0;\" x1=\"123\" x2=\"148.5\" y1=\"386.1445\" y2=\"386.1445\"/></a><!--MD5=[2156ba9850f5573cc1fc38a6a4b2f02b]\n",
       "class E7--><a href=\"psysml:5cc59123-afbd-4e9a-96fa-0bfa0b631260\" target=\"_top\" title=\"psysml:5cc59123-afbd-4e9a-96fa-0bfa0b631260\" xlink:actuate=\"onRequest\" xlink:href=\"psysml:5cc59123-afbd-4e9a-96fa-0bfa0b631260\" xlink:show=\"new\" xlink:title=\"psysml:5cc59123-afbd-4e9a-96fa-0bfa0b631260\" xlink:type=\"simple\"><rect fill=\"#FFFFFF\" height=\"45.9375\" id=\"E7\" rx=\"10\" ry=\"10\" style=\"stroke: #383838; stroke-width: 1.5;\" width=\"93\" x=\"34.5\" y=\"493.5\"/><text fill=\"#000000\" font-family=\"sans-serif\" font-size=\"12\" font-style=\"italic\" lengthAdjust=\"spacingAndGlyphs\" textLength=\"91\" x=\"35.5\" y=\"509.6387\">«requirement»</text><text fill=\"#000000\" font-family=\"sans-serif\" font-size=\"12\" lengthAdjust=\"spacingAndGlyphs\" text-decoration=\"line-through\" textLength=\"51\" x=\"55.5\" y=\"523.6074\">noname</text><line style=\"stroke: #383838; stroke-width: 1.5;\" x1=\"35.5\" x2=\"126.5\" y1=\"531.4375\" y2=\"531.4375\"/></a><!--MD5=[b9389687b975829384b498ac4b7476b2]\n",
       "class E8--><a href=\"psysml:49e593a4-f39b-4803-a2ce-02c26b916197\" target=\"_top\" title=\"psysml:49e593a4-f39b-4803-a2ce-02c26b916197\" xlink:actuate=\"onRequest\" xlink:href=\"psysml:49e593a4-f39b-4803-a2ce-02c26b916197\" xlink:show=\"new\" xlink:title=\"psysml:49e593a4-f39b-4803-a2ce-02c26b916197\" xlink:type=\"simple\"><rect fill=\"#FFFFFF\" height=\"66.7422\" id=\"E8\" style=\"stroke: #383838; stroke-width: 1.5;\" width=\"117\" x=\"162.5\" y=\"483\"/><text fill=\"#000000\" font-family=\"sans-serif\" font-size=\"12\" font-style=\"italic\" lengthAdjust=\"spacingAndGlyphs\" textLength=\"115\" x=\"163.5\" y=\"499.1387\">«requirement def»</text><text fill=\"#000000\" font-family=\"sans-serif\" font-size=\"12\" lengthAdjust=\"spacingAndGlyphs\" textLength=\"5\" x=\"208\" y=\"513.1074\">[</text><text fill=\"#000000\" font-family=\"sans-serif\" font-size=\"12\" font-weight=\"bold\" lengthAdjust=\"spacingAndGlyphs\" textLength=\"8\" x=\"213\" y=\"513.1074\">1</text><text fill=\"#000000\" font-family=\"sans-serif\" font-size=\"12\" lengthAdjust=\"spacingAndGlyphs\" textLength=\"17\" x=\"221\" y=\"513.1074\">] A</text><line style=\"stroke: #383838; stroke-width: 1.5;\" x1=\"163.5\" x2=\"278.5\" y1=\"520.9375\" y2=\"520.9375\"/><text fill=\"#000000\" font-family=\"sans-serif\" font-size=\"11\" lengthAdjust=\"spacingAndGlyphs\" textLength=\"24\" x=\"168.5\" y=\"535.1479\">Text</text><line style=\"stroke: #383838; stroke-width: 1.0;\" x1=\"163.5\" x2=\"278.5\" y1=\"541.7422\" y2=\"541.7422\"/></a><!--MD5=[fd4143e9d270a159db93a4ea2a975926]\n",
       "class E9--><a href=\"psysml:79fb73d3-867b-49b4-8196-8eb6e64f62f0\" target=\"_top\" title=\"psysml:79fb73d3-867b-49b4-8196-8eb6e64f62f0\" xlink:actuate=\"onRequest\" xlink:href=\"psysml:79fb73d3-867b-49b4-8196-8eb6e64f62f0\" xlink:show=\"new\" xlink:title=\"psysml:79fb73d3-867b-49b4-8196-8eb6e64f62f0\" xlink:type=\"simple\"><rect fill=\"#FFFFFF\" height=\"88.3516\" id=\"E9\" style=\"stroke: #383838; stroke-width: 1.5;\" width=\"145\" x=\"109.5\" y=\"41\"/><text fill=\"#000000\" font-family=\"sans-serif\" font-size=\"12\" font-style=\"italic\" lengthAdjust=\"spacingAndGlyphs\" textLength=\"115\" x=\"124.5\" y=\"57.1387\">«requirement def»</text><text fill=\"#000000\" font-family=\"sans-serif\" font-size=\"12\" lengthAdjust=\"spacingAndGlyphs\" textLength=\"16\" x=\"174\" y=\"71.1074\">R1</text><line style=\"stroke: #383838; stroke-width: 1.5;\" x1=\"110.5\" x2=\"253.5\" y1=\"78.9375\" y2=\"78.9375\"/><text fill=\"#000000\" font-family=\"sans-serif\" font-size=\"11\" font-weight=\"bold\" lengthAdjust=\"spacingAndGlyphs\" textLength=\"46\" x=\"115.5\" y=\"109.9526\">require</text><text fill=\"#000000\" font-family=\"sans-serif\" font-size=\"11\" lengthAdjust=\"spacingAndGlyphs\" textLength=\"13\" x=\"165.5\" y=\"109.9526\">c1</text><text fill=\"#000000\" font-family=\"sans-serif\" font-size=\"11\" font-style=\"italic\" lengthAdjust=\"spacingAndGlyphs\" textLength=\"133\" x=\"115.5\" y=\"122.7573\">:&gt;&gt;RequirementTest::c</text><line style=\"stroke: #383838; stroke-width: 1.0;\" x1=\"110.5\" x2=\"150\" y1=\"93.3398\" y2=\"93.3398\"/><text fill=\"#000000\" font-family=\"sans-serif\" font-size=\"11\" lengthAdjust=\"spacingAndGlyphs\" textLength=\"64\" x=\"150\" y=\"96.6479\">constraints</text><line style=\"stroke: #383838; stroke-width: 1.0;\" x1=\"214\" x2=\"253.5\" y1=\"93.3398\" y2=\"93.3398\"/></a><!--MD5=[1dd1bfd58a279cf63c5f349dbc8fc6a1]\n",
       "class E11--><a href=\"psysml:510a33c1-eff7-4e5e-90b4-a63ef5b72ae6\" target=\"_top\" title=\"psysml:510a33c1-eff7-4e5e-90b4-a63ef5b72ae6\" xlink:actuate=\"onRequest\" xlink:href=\"psysml:510a33c1-eff7-4e5e-90b4-a63ef5b72ae6\" xlink:show=\"new\" xlink:title=\"psysml:510a33c1-eff7-4e5e-90b4-a63ef5b72ae6\" xlink:type=\"simple\"><rect fill=\"#FFFFFF\" height=\"45.9375\" id=\"E11\" rx=\"10\" ry=\"10\" style=\"stroke: #383838; stroke-width: 1.5;\" width=\"42\" x=\"185\" y=\"344.5\"/><text fill=\"#000000\" font-family=\"sans-serif\" font-size=\"12\" font-style=\"italic\" lengthAdjust=\"spacingAndGlyphs\" textLength=\"40\" x=\"186\" y=\"360.6387\">«part»</text><text fill=\"#000000\" font-family=\"sans-serif\" font-size=\"12\" lengthAdjust=\"spacingAndGlyphs\" textLength=\"8\" x=\"202\" y=\"374.6074\">p</text><line style=\"stroke: #383838; stroke-width: 1.5;\" x1=\"186\" x2=\"226\" y1=\"382.4375\" y2=\"382.4375\"/></a><!--MD5=[49a0ec8f00dab7302a31f22d0f0fe584]\n",
       "class E12--><a href=\"psysml:a6cd5ff6-20a0-4014-8266-5a2f114de57c\" target=\"_top\" title=\"psysml:a6cd5ff6-20a0-4014-8266-5a2f114de57c\" xlink:actuate=\"onRequest\" xlink:href=\"psysml:a6cd5ff6-20a0-4014-8266-5a2f114de57c\" xlink:show=\"new\" xlink:title=\"psysml:a6cd5ff6-20a0-4014-8266-5a2f114de57c\" xlink:type=\"simple\"><rect fill=\"#FFFFFF\" height=\"45.9375\" id=\"E12\" rx=\"10\" ry=\"10\" style=\"stroke: #383838; stroke-width: 1.5;\" width=\"42\" x=\"32\" y=\"62\"/><text fill=\"#000000\" font-family=\"sans-serif\" font-size=\"12\" font-style=\"italic\" lengthAdjust=\"spacingAndGlyphs\" textLength=\"40\" x=\"33\" y=\"78.1387\">«part»</text><text fill=\"#000000\" font-family=\"sans-serif\" font-size=\"12\" lengthAdjust=\"spacingAndGlyphs\" textLength=\"8\" x=\"49\" y=\"92.1074\">q</text><line style=\"stroke: #383838; stroke-width: 1.5;\" x1=\"33\" x2=\"73\" y1=\"99.9375\" y2=\"99.9375\"/></a><!--MD5=[ee3c913d1a06f366521f9ef512b67efe]\n",
       "class E13--><a href=\"psysml:50b94a4a-7c4d-4845-a3da-b360d2df1f8c\" target=\"_top\" title=\"psysml:50b94a4a-7c4d-4845-a3da-b360d2df1f8c\" xlink:actuate=\"onRequest\" xlink:href=\"psysml:50b94a4a-7c4d-4845-a3da-b360d2df1f8c\" xlink:show=\"new\" xlink:title=\"psysml:50b94a4a-7c4d-4845-a3da-b360d2df1f8c\" xlink:type=\"simple\"><rect fill=\"#FFFFFF\" height=\"45.9375\" id=\"E13\" rx=\"10\" ry=\"10\" style=\"stroke: #383838; stroke-width: 1.5;\" width=\"93\" x=\"44.5\" y=\"190\"/><text fill=\"#000000\" font-family=\"sans-serif\" font-size=\"12\" font-style=\"italic\" lengthAdjust=\"spacingAndGlyphs\" textLength=\"91\" x=\"45.5\" y=\"206.1387\">«requirement»</text><text fill=\"#000000\" font-family=\"sans-serif\" font-size=\"12\" lengthAdjust=\"spacingAndGlyphs\" textLength=\"21\" x=\"80.5\" y=\"220.1074\">r: R</text><line style=\"stroke: #383838; stroke-width: 1.5;\" x1=\"45.5\" x2=\"136.5\" y1=\"227.9375\" y2=\"227.9375\"/></a><!--MD5=[05d275557350bfb9b23a4ef7222b4c39]\n",
       "link E3 to E2--><a href=\"psysml:e8229714-231f-4f2a-9005-056b1e69efb5\" target=\"_top\" title=\"psysml:e8229714-231f-4f2a-9005-056b1e69efb5\" xlink:actuate=\"onRequest\" xlink:href=\"psysml:e8229714-231f-4f2a-9005-056b1e69efb5\" xlink:show=\"new\" xlink:title=\"psysml:e8229714-231f-4f2a-9005-056b1e69efb5\" xlink:type=\"simple\"><path d=\"M327.88,108.24 C326.26,125.24 323.98,149.19 322.02,169.79 \" fill=\"none\" id=\"E3-&gt;E2\" style=\"stroke: #383838; stroke-width: 1.0;\"/><polygon fill=\"#FFFFFF\" points=\"320.1,189.99,314.9362,170.411,328.8729,171.7407,320.1,189.99\" style=\"stroke: #383838; stroke-width: 1.0;\"/><ellipse cx=\"317.4685\" cy=\"164.9268\" fill=\"#383838\" rx=\"2\" ry=\"2\" style=\"stroke: #383838; stroke-width: 1.0;\"/><ellipse cx=\"327.4233\" cy=\"165.8765\" fill=\"#383838\" rx=\"2\" ry=\"2\" style=\"stroke: #383838; stroke-width: 1.0;\"/></a><!--MD5=[722ff4eef345aa10242dad44df0e98c7]\n",
       "reverse link E4 to E7--><a href=\"psysml:eafce8af-10f9-4af7-9431-7513cc7d3347\" target=\"_top\" title=\"psysml:eafce8af-10f9-4af7-9431-7513cc7d3347\" xlink:actuate=\"onRequest\" xlink:href=\"psysml:eafce8af-10f9-4af7-9431-7513cc7d3347\" xlink:show=\"new\" xlink:title=\"psysml:eafce8af-10f9-4af7-9431-7513cc7d3347\" xlink:type=\"simple\"><path d=\"M86.44,435.59 C85.02,456.46 83.55,478.02 82.5,493.48 \" fill=\"none\" id=\"E4&lt;-E7\" style=\"stroke: #383838; stroke-width: 1.0;\"/><polygon fill=\"#383838\" points=\"87.33,422.4,82.9306,428.1136,86.5125,434.3721,90.912,428.6586,87.33,422.4\" style=\"stroke: #383838; stroke-width: 1.0;\"/></a><!--MD5=[c6fc7cdb0cabde04948078cf183fa696]\n",
       "reverse link E4 to E8--><a href=\"psysml:a0130814-5dc8-48af-af1a-9e985463643e\" target=\"_top\" title=\"psysml:a0130814-5dc8-48af-af1a-9e985463643e\" xlink:actuate=\"onRequest\" xlink:href=\"psysml:a0130814-5dc8-48af-af1a-9e985463643e\" xlink:show=\"new\" xlink:title=\"psysml:a0130814-5dc8-48af-af1a-9e985463643e\" xlink:type=\"simple\"><path d=\"M148.94,434.02 C163.95,450.99 179.47,468.53 192.24,482.98 \" fill=\"none\" id=\"E4&lt;-E8\" style=\"stroke: #383838; stroke-width: 1.0;\"/><ellipse cx=\"143.9698\" cy=\"428.3927\" fill=\"#FFFFFF\" rx=\"8\" ry=\"8\" style=\"stroke: #383838; stroke-width: 1.0;\"/><line style=\"stroke: #383838; stroke-width: 1.0;\" x1=\"149.2695\" x2=\"138.67\" y1=\"434.3854\" y2=\"422.4\"/><line style=\"stroke: #383838; stroke-width: 1.0;\" x1=\"137.9771\" x2=\"149.9625\" y1=\"433.6925\" y2=\"423.0929\"/></a><!--MD5=[062ed86c389d1a88f61c6380d0491e17]\n",
       "reverse link E12 to E13--><a href=\"psysml:044b978f-2385-4425-992f-2d75b645c055\" target=\"_top\" title=\"psysml:044b978f-2385-4425-992f-2d75b645c055\" xlink:actuate=\"onRequest\" xlink:href=\"psysml:044b978f-2385-4425-992f-2d75b645c055\" xlink:show=\"new\" xlink:title=\"psysml:044b978f-2385-4425-992f-2d75b645c055\" xlink:type=\"simple\"><path d=\"M63.49,120.8 C70.17,142.92 78.6,170.89 84.36,189.99 \" fill=\"none\" id=\"E12&lt;-E13\" style=\"stroke: #383838; stroke-width: 1.0;\"/><polygon fill=\"#383838\" points=\"59.71,108.24,57.6129,115.1394,63.1751,119.7288,65.2722,112.8294,59.71,108.24\" style=\"stroke: #383838; stroke-width: 1.0;\"/></a><!--MD5=[017847e01ff9a8bd19f247411074f987]\n",
       "link E13 to E4--><a href=\"psysml:279d9c9b-21cb-4076-8967-339bf6a79b4c\" target=\"_top\" title=\"psysml:279d9c9b-21cb-4076-8967-339bf6a79b4c\" xlink:actuate=\"onRequest\" xlink:href=\"psysml:279d9c9b-21cb-4076-8967-339bf6a79b4c\" xlink:show=\"new\" xlink:title=\"psysml:279d9c9b-21cb-4076-8967-339bf6a79b4c\" xlink:type=\"simple\"><path d=\"M91,236.17 C91,251.17 91,271.91 91,292.44 \" fill=\"none\" id=\"E13-&gt;E4\" style=\"stroke: #383838; stroke-width: 1.0;\"/><polygon fill=\"#FFFFFF\" points=\"91,312.68,84,293.68,98,293.68,91,312.68\" style=\"stroke: #383838; stroke-width: 1.0;\"/><ellipse cx=\"86\" cy=\"287.98\" fill=\"#383838\" rx=\"2\" ry=\"2\" style=\"stroke: #383838; stroke-width: 1.0;\"/><ellipse cx=\"96\" cy=\"287.98\" fill=\"#383838\" rx=\"2\" ry=\"2\" style=\"stroke: #383838; stroke-width: 1.0;\"/></a><!--MD5=[2cfe899c895462254056921bfb67315f]\n",
       "link E13 to E11--><a href=\"psysml:fcf36e7c-2665-4a1d-8cf4-6fcc5b08ef04\" target=\"_top\" title=\"psysml:fcf36e7c-2665-4a1d-8cf4-6fcc5b08ef04\" xlink:actuate=\"onRequest\" xlink:href=\"psysml:fcf36e7c-2665-4a1d-8cf4-6fcc5b08ef04\" xlink:show=\"new\" xlink:title=\"psysml:fcf36e7c-2665-4a1d-8cf4-6fcc5b08ef04\" xlink:type=\"simple\"><path d=\"M108.36,236.29 C123.87,256.28 147.14,286.45 167,313 C173.57,321.78 180.66,331.44 186.97,340.12 \" fill=\"none\" id=\"E13-&gt;E11\" style=\"stroke: #383838; stroke-width: 1.0; stroke-dasharray: 7.0,7.0;\"/><polygon fill=\"#383838\" points=\"189.99,344.28,187.9274,334.6496,187.0474,340.2376,181.4594,339.3576,189.99,344.28\" style=\"stroke: #383838; stroke-width: 1.0;\"/><text fill=\"#000000\" font-family=\"sans-serif\" font-size=\"13\" lengthAdjust=\"spacingAndGlyphs\" textLength=\"57\" x=\"145\" y=\"279.0669\">«satisfy»</text></a><!--MD5=[592f77e4dc9b0bf3dc20e00fe61fcea6]\n",
       "@startuml\r\n",
       " skinparam monochrome true\r\n",
       "skinparam classbackgroundcolor white\r\n",
       "skinparam shadowing false\r\n",
       "skinparam wrapWidth 300\r\n",
       "hide circle\r\n",
       "\r\n",
       "package \"RequirementTest\" as E1  [[psysml:f822a5b9-f637-4bfc-9356-d45755be39c3 ]]  {\r\n",
       "comp def \"C\" as E2  <<(T,blue)constraint def>> [[psysml:55e0c843-cabd-4238-9430-5e5ddb37e322 ]] {\r\n",
       "}\r\n",
       "comp usage \"c: C\" as E3  <<(T,blue)constraint>> [[psysml:943270d7-f648-4f2b-99ed-798f0a01be75 ]] {\r\n",
       "}\r\n",
       "comp def \"R\" as E4  <<(T,blue)requirement def>> [[psysml:3547be1a-4b91-4a24-a66e-ac992d912d25 ]] {\r\n",
       "\r\n",
       "- -\r\n",
       "- - constraints - -\r\n",
       "<b>require</b> c\r\n",
       "<i>assume</i> c1: C\r\n",
       "}\r\n",
       "comp usage \"<s>noname</s>\" as E7  <<(T,blue)requirement>> [[psysml:5cc59123-afbd-4e9a-96fa-0bfa0b631260 ]] {\r\n",
       "}\r\n",
       "comp def \" [<b>1</b>] A\" as E8  <<(T,blue)requirement def>> [[psysml:49e593a4-f39b-4803-a2ce-02c26b916197 ]] {\r\n",
       "Text\r\n",
       "- -\r\n",
       "}\r\n",
       "comp def \"R1\" as E9  <<(T,blue)requirement def>> [[psysml:79fb73d3-867b-49b4-8196-8eb6e64f62f0 ]] {\r\n",
       "- - constraints - -\r\n",
       "<b>require</b> c1\\n//:>>RequirementTest::c// \r\n",
       "}\r\n",
       "comp usage \"p\" as E11  <<(T,blue)part>> [[psysml:510a33c1-eff7-4e5e-90b4-a63ef5b72ae6 ]] {\r\n",
       "}\r\n",
       "comp usage \"q\" as E12  <<(T,blue)part>> [[psysml:a6cd5ff6-20a0-4014-8266-5a2f114de57c ]] {\r\n",
       "}\r\n",
       "comp usage \"r: R\" as E13  <<(T,blue)requirement>> [[psysml:50b94a4a-7c4d-4845-a3da-b360d2df1f8c ]] {\r\n",
       "}\r\n",
       "E3 - -:|> E2 [[psysml:e8229714-231f-4f2a-9005-056b1e69efb5 ]] \r\n",
       "E4 *- - E7 [[psysml:eafce8af-10f9-4af7-9431-7513cc7d3347 ]] \r\n",
       "E4 +- - E8 [[psysml:a0130814-5dc8-48af-af1a-9e985463643e ]] \r\n",
       "E12 *- - E13 [[psysml:044b978f-2385-4425-992f-2d75b645c055 ]] \r\n",
       "E13 - -:|> E4 [[psysml:279d9c9b-21cb-4076-8967-339bf6a79b4c ]] \r\n",
       "E13 ..> E11 [[psysml:fcf36e7c-2665-4a1d-8cf4-6fcc5b08ef04 ]] : <<satisfy>>\r\n",
       "}\r\n",
       "@enduml\r\n",
       "\n",
       "PlantUML version 1.2020.13(Sat Jun 13 12:26:38 UTC 2020)\n",
       "(EPL source distribution)\n",
       "Java Runtime: OpenJDK Runtime Environment\n",
       "JVM: OpenJDK 64-Bit Server VM\n",
       "Default Encoding: UTF-8\n",
       "Language: en\n",
       "Country: null\n",
       "--></g></svg>"
      ]
     },
     "execution_count": 2,
     "metadata": {},
     "output_type": "execute_result"
    }
   ],
   "source": [
    "%viz --style=\"COMPTREE\" --view=\"Default\" \"RequirementTest\""
   ]
  },
  {
   "cell_type": "code",
   "execution_count": 3,
   "id": "6ccbba00",
   "metadata": {
    "execution": {
     "iopub.execute_input": "2021-04-21T20:21:25.131351Z",
     "iopub.status.busy": "2021-04-21T20:21:25.130493Z",
     "iopub.status.idle": "2021-04-21T20:21:25.431425Z",
     "shell.execute_reply": "2021-04-21T20:21:25.430428Z"
    }
   },
   "outputs": [
    {
     "data": {
      "image/svg+xml": [
       "<?xml version=\"1.0\" encoding=\"UTF-8\" standalone=\"no\"?><svg xmlns=\"http://www.w3.org/2000/svg\" xmlns:xlink=\"http://www.w3.org/1999/xlink\" contentScriptType=\"application/ecmascript\" contentStyleType=\"text/css\" height=\"578px\" preserveAspectRatio=\"none\" style=\"width:408px;height:578px;\" version=\"1.1\" viewBox=\"0 0 408 578\" width=\"408px\" zoomAndPan=\"magnify\"><defs/><g><!--MD5=[fbc87193dbaf4d95561dea2c320d4a47]\n",
       "cluster E1--><a href=\"psysml:f822a5b9-f637-4bfc-9356-d45755be39c3\" target=\"_top\" title=\"psysml:f822a5b9-f637-4bfc-9356-d45755be39c3\" xlink:actuate=\"onRequest\" xlink:href=\"psysml:f822a5b9-f637-4bfc-9356-d45755be39c3\" xlink:show=\"new\" xlink:title=\"psysml:f822a5b9-f637-4bfc-9356-d45755be39c3\" xlink:type=\"simple\"><polygon fill=\"#FFFFFF\" points=\"16,6,158,6,165,28.2969,386,28.2969,386,566,16,566,16,6\" style=\"stroke: #000000; stroke-width: 1.5;\"/><line style=\"stroke: #000000; stroke-width: 1.5;\" x1=\"16\" x2=\"165\" y1=\"28.2969\" y2=\"28.2969\"/><text fill=\"#000000\" font-family=\"sans-serif\" font-size=\"14\" font-weight=\"bold\" lengthAdjust=\"spacingAndGlyphs\" textLength=\"136\" x=\"20\" y=\"20.9951\">RequirementTest</text></a><!--MD5=[b4997ac47864f28c2f74865a473b2911]\n",
       "class E2--><a href=\"psysml:55e0c843-cabd-4238-9430-5e5ddb37e322\" target=\"_top\" title=\"psysml:55e0c843-cabd-4238-9430-5e5ddb37e322\" xlink:actuate=\"onRequest\" xlink:href=\"psysml:55e0c843-cabd-4238-9430-5e5ddb37e322\" xlink:show=\"new\" xlink:title=\"psysml:55e0c843-cabd-4238-9430-5e5ddb37e322\" xlink:type=\"simple\"><rect fill=\"#FFFFFF\" height=\"45.9375\" id=\"E2\" style=\"stroke: #383838; stroke-width: 1.5;\" width=\"104\" x=\"266\" y=\"190\"/><text fill=\"#000000\" font-family=\"sans-serif\" font-size=\"12\" font-style=\"italic\" lengthAdjust=\"spacingAndGlyphs\" textLength=\"102\" x=\"267\" y=\"206.1387\">«constraint def»</text><text fill=\"#000000\" font-family=\"sans-serif\" font-size=\"12\" lengthAdjust=\"spacingAndGlyphs\" textLength=\"8\" x=\"314\" y=\"220.1074\">C</text><line style=\"stroke: #383838; stroke-width: 1.5;\" x1=\"267\" x2=\"369\" y1=\"227.9375\" y2=\"227.9375\"/></a><!--MD5=[09b614a08d8cba4a07c9adeb5e0fee81]\n",
       "class E3--><a href=\"psysml:943270d7-f648-4f2b-99ed-798f0a01be75\" target=\"_top\" title=\"psysml:943270d7-f648-4f2b-99ed-798f0a01be75\" xlink:actuate=\"onRequest\" xlink:href=\"psysml:943270d7-f648-4f2b-99ed-798f0a01be75\" xlink:show=\"new\" xlink:title=\"psysml:943270d7-f648-4f2b-99ed-798f0a01be75\" xlink:type=\"simple\"><rect fill=\"#FFFFFF\" height=\"45.9375\" id=\"E3\" rx=\"10\" ry=\"10\" style=\"stroke: #383838; stroke-width: 1.5;\" width=\"80\" x=\"290\" y=\"62\"/><text fill=\"#000000\" font-family=\"sans-serif\" font-size=\"12\" font-style=\"italic\" lengthAdjust=\"spacingAndGlyphs\" textLength=\"78\" x=\"291\" y=\"78.1387\">«constraint»</text><text fill=\"#000000\" font-family=\"sans-serif\" font-size=\"12\" lengthAdjust=\"spacingAndGlyphs\" textLength=\"23\" x=\"318.5\" y=\"92.1074\">c: C</text><line style=\"stroke: #383838; stroke-width: 1.5;\" x1=\"291\" x2=\"369\" y1=\"99.9375\" y2=\"99.9375\"/></a><!--MD5=[ebbe1d658d1005bcc118a6aa81145e00]\n",
       "class E4--><a href=\"psysml:3547be1a-4b91-4a24-a66e-ac992d912d25\" target=\"_top\" title=\"psysml:3547be1a-4b91-4a24-a66e-ac992d912d25\" xlink:actuate=\"onRequest\" xlink:href=\"psysml:3547be1a-4b91-4a24-a66e-ac992d912d25\" xlink:show=\"new\" xlink:title=\"psysml:3547be1a-4b91-4a24-a66e-ac992d912d25\" xlink:type=\"simple\"><rect fill=\"#FFFFFF\" height=\"109.1563\" id=\"E4\" style=\"stroke: #383838; stroke-width: 1.5;\" width=\"117\" x=\"32.5\" y=\"313\"/><text fill=\"#000000\" font-family=\"sans-serif\" font-size=\"12\" font-style=\"italic\" lengthAdjust=\"spacingAndGlyphs\" textLength=\"115\" x=\"33.5\" y=\"329.1387\">«requirement def»</text><text fill=\"#000000\" font-family=\"sans-serif\" font-size=\"12\" lengthAdjust=\"spacingAndGlyphs\" textLength=\"8\" x=\"87\" y=\"343.1074\">R</text><line style=\"stroke: #383838; stroke-width: 1.5;\" x1=\"33.5\" x2=\"148.5\" y1=\"350.9375\" y2=\"350.9375\"/><text fill=\"#000000\" font-family=\"sans-serif\" font-size=\"11\" lengthAdjust=\"spacingAndGlyphs\" textLength=\"0\" x=\"42.5\" y=\"365.1479\"/><line style=\"stroke: #383838; stroke-width: 1.0;\" x1=\"33.5\" x2=\"148.5\" y1=\"371.7422\" y2=\"371.7422\"/><text fill=\"#000000\" font-family=\"sans-serif\" font-size=\"11\" font-weight=\"bold\" lengthAdjust=\"spacingAndGlyphs\" textLength=\"46\" x=\"38.5\" y=\"402.7573\">require</text><text fill=\"#000000\" font-family=\"sans-serif\" font-size=\"11\" lengthAdjust=\"spacingAndGlyphs\" textLength=\"6\" x=\"88.5\" y=\"402.7573\">c</text><text fill=\"#000000\" font-family=\"sans-serif\" font-size=\"11\" font-style=\"italic\" lengthAdjust=\"spacingAndGlyphs\" textLength=\"46\" x=\"38.5\" y=\"415.562\">assume</text><text fill=\"#000000\" font-family=\"sans-serif\" font-size=\"11\" lengthAdjust=\"spacingAndGlyphs\" textLength=\"29\" x=\"88.5\" y=\"415.562\">c1: C</text><line style=\"stroke: #383838; stroke-width: 1.0;\" x1=\"33.5\" x2=\"59\" y1=\"386.1445\" y2=\"386.1445\"/><text fill=\"#000000\" font-family=\"sans-serif\" font-size=\"11\" lengthAdjust=\"spacingAndGlyphs\" textLength=\"64\" x=\"59\" y=\"389.4526\">constraints</text><line style=\"stroke: #383838; stroke-width: 1.0;\" x1=\"123\" x2=\"148.5\" y1=\"386.1445\" y2=\"386.1445\"/></a><!--MD5=[2156ba9850f5573cc1fc38a6a4b2f02b]\n",
       "class E7--><a href=\"psysml:5cc59123-afbd-4e9a-96fa-0bfa0b631260\" target=\"_top\" title=\"psysml:5cc59123-afbd-4e9a-96fa-0bfa0b631260\" xlink:actuate=\"onRequest\" xlink:href=\"psysml:5cc59123-afbd-4e9a-96fa-0bfa0b631260\" xlink:show=\"new\" xlink:title=\"psysml:5cc59123-afbd-4e9a-96fa-0bfa0b631260\" xlink:type=\"simple\"><rect fill=\"#FFFFFF\" height=\"45.9375\" id=\"E7\" rx=\"10\" ry=\"10\" style=\"stroke: #383838; stroke-width: 1.5;\" width=\"93\" x=\"34.5\" y=\"493.5\"/><text fill=\"#000000\" font-family=\"sans-serif\" font-size=\"12\" font-style=\"italic\" lengthAdjust=\"spacingAndGlyphs\" textLength=\"91\" x=\"35.5\" y=\"509.6387\">«requirement»</text><text fill=\"#000000\" font-family=\"sans-serif\" font-size=\"12\" lengthAdjust=\"spacingAndGlyphs\" text-decoration=\"line-through\" textLength=\"51\" x=\"55.5\" y=\"523.6074\">noname</text><line style=\"stroke: #383838; stroke-width: 1.5;\" x1=\"35.5\" x2=\"126.5\" y1=\"531.4375\" y2=\"531.4375\"/></a><!--MD5=[b9389687b975829384b498ac4b7476b2]\n",
       "class E8--><a href=\"psysml:49e593a4-f39b-4803-a2ce-02c26b916197\" target=\"_top\" title=\"psysml:49e593a4-f39b-4803-a2ce-02c26b916197\" xlink:actuate=\"onRequest\" xlink:href=\"psysml:49e593a4-f39b-4803-a2ce-02c26b916197\" xlink:show=\"new\" xlink:title=\"psysml:49e593a4-f39b-4803-a2ce-02c26b916197\" xlink:type=\"simple\"><rect fill=\"#FFFFFF\" height=\"66.7422\" id=\"E8\" style=\"stroke: #383838; stroke-width: 1.5;\" width=\"117\" x=\"162.5\" y=\"483\"/><text fill=\"#000000\" font-family=\"sans-serif\" font-size=\"12\" font-style=\"italic\" lengthAdjust=\"spacingAndGlyphs\" textLength=\"115\" x=\"163.5\" y=\"499.1387\">«requirement def»</text><text fill=\"#000000\" font-family=\"sans-serif\" font-size=\"12\" lengthAdjust=\"spacingAndGlyphs\" textLength=\"5\" x=\"208\" y=\"513.1074\">[</text><text fill=\"#000000\" font-family=\"sans-serif\" font-size=\"12\" font-weight=\"bold\" lengthAdjust=\"spacingAndGlyphs\" textLength=\"8\" x=\"213\" y=\"513.1074\">1</text><text fill=\"#000000\" font-family=\"sans-serif\" font-size=\"12\" lengthAdjust=\"spacingAndGlyphs\" textLength=\"17\" x=\"221\" y=\"513.1074\">] A</text><line style=\"stroke: #383838; stroke-width: 1.5;\" x1=\"163.5\" x2=\"278.5\" y1=\"520.9375\" y2=\"520.9375\"/><text fill=\"#000000\" font-family=\"sans-serif\" font-size=\"11\" lengthAdjust=\"spacingAndGlyphs\" textLength=\"24\" x=\"168.5\" y=\"535.1479\">Text</text><line style=\"stroke: #383838; stroke-width: 1.0;\" x1=\"163.5\" x2=\"278.5\" y1=\"541.7422\" y2=\"541.7422\"/></a><!--MD5=[fd4143e9d270a159db93a4ea2a975926]\n",
       "class E9--><a href=\"psysml:79fb73d3-867b-49b4-8196-8eb6e64f62f0\" target=\"_top\" title=\"psysml:79fb73d3-867b-49b4-8196-8eb6e64f62f0\" xlink:actuate=\"onRequest\" xlink:href=\"psysml:79fb73d3-867b-49b4-8196-8eb6e64f62f0\" xlink:show=\"new\" xlink:title=\"psysml:79fb73d3-867b-49b4-8196-8eb6e64f62f0\" xlink:type=\"simple\"><rect fill=\"#FFFFFF\" height=\"88.3516\" id=\"E9\" style=\"stroke: #383838; stroke-width: 1.5;\" width=\"145\" x=\"109.5\" y=\"41\"/><text fill=\"#000000\" font-family=\"sans-serif\" font-size=\"12\" font-style=\"italic\" lengthAdjust=\"spacingAndGlyphs\" textLength=\"115\" x=\"124.5\" y=\"57.1387\">«requirement def»</text><text fill=\"#000000\" font-family=\"sans-serif\" font-size=\"12\" lengthAdjust=\"spacingAndGlyphs\" textLength=\"16\" x=\"174\" y=\"71.1074\">R1</text><line style=\"stroke: #383838; stroke-width: 1.5;\" x1=\"110.5\" x2=\"253.5\" y1=\"78.9375\" y2=\"78.9375\"/><text fill=\"#000000\" font-family=\"sans-serif\" font-size=\"11\" font-weight=\"bold\" lengthAdjust=\"spacingAndGlyphs\" textLength=\"46\" x=\"115.5\" y=\"109.9526\">require</text><text fill=\"#000000\" font-family=\"sans-serif\" font-size=\"11\" lengthAdjust=\"spacingAndGlyphs\" textLength=\"13\" x=\"165.5\" y=\"109.9526\">c1</text><text fill=\"#000000\" font-family=\"sans-serif\" font-size=\"11\" font-style=\"italic\" lengthAdjust=\"spacingAndGlyphs\" textLength=\"133\" x=\"115.5\" y=\"122.7573\">:&gt;&gt;RequirementTest::c</text><line style=\"stroke: #383838; stroke-width: 1.0;\" x1=\"110.5\" x2=\"150\" y1=\"93.3398\" y2=\"93.3398\"/><text fill=\"#000000\" font-family=\"sans-serif\" font-size=\"11\" lengthAdjust=\"spacingAndGlyphs\" textLength=\"64\" x=\"150\" y=\"96.6479\">constraints</text><line style=\"stroke: #383838; stroke-width: 1.0;\" x1=\"214\" x2=\"253.5\" y1=\"93.3398\" y2=\"93.3398\"/></a><!--MD5=[1dd1bfd58a279cf63c5f349dbc8fc6a1]\n",
       "class E11--><a href=\"psysml:510a33c1-eff7-4e5e-90b4-a63ef5b72ae6\" target=\"_top\" title=\"psysml:510a33c1-eff7-4e5e-90b4-a63ef5b72ae6\" xlink:actuate=\"onRequest\" xlink:href=\"psysml:510a33c1-eff7-4e5e-90b4-a63ef5b72ae6\" xlink:show=\"new\" xlink:title=\"psysml:510a33c1-eff7-4e5e-90b4-a63ef5b72ae6\" xlink:type=\"simple\"><rect fill=\"#FFFFFF\" height=\"45.9375\" id=\"E11\" rx=\"10\" ry=\"10\" style=\"stroke: #383838; stroke-width: 1.5;\" width=\"42\" x=\"185\" y=\"344.5\"/><text fill=\"#000000\" font-family=\"sans-serif\" font-size=\"12\" font-style=\"italic\" lengthAdjust=\"spacingAndGlyphs\" textLength=\"40\" x=\"186\" y=\"360.6387\">«part»</text><text fill=\"#000000\" font-family=\"sans-serif\" font-size=\"12\" lengthAdjust=\"spacingAndGlyphs\" textLength=\"8\" x=\"202\" y=\"374.6074\">p</text><line style=\"stroke: #383838; stroke-width: 1.5;\" x1=\"186\" x2=\"226\" y1=\"382.4375\" y2=\"382.4375\"/></a><!--MD5=[49a0ec8f00dab7302a31f22d0f0fe584]\n",
       "class E12--><a href=\"psysml:a6cd5ff6-20a0-4014-8266-5a2f114de57c\" target=\"_top\" title=\"psysml:a6cd5ff6-20a0-4014-8266-5a2f114de57c\" xlink:actuate=\"onRequest\" xlink:href=\"psysml:a6cd5ff6-20a0-4014-8266-5a2f114de57c\" xlink:show=\"new\" xlink:title=\"psysml:a6cd5ff6-20a0-4014-8266-5a2f114de57c\" xlink:type=\"simple\"><rect fill=\"#FFFFFF\" height=\"45.9375\" id=\"E12\" rx=\"10\" ry=\"10\" style=\"stroke: #383838; stroke-width: 1.5;\" width=\"42\" x=\"32\" y=\"62\"/><text fill=\"#000000\" font-family=\"sans-serif\" font-size=\"12\" font-style=\"italic\" lengthAdjust=\"spacingAndGlyphs\" textLength=\"40\" x=\"33\" y=\"78.1387\">«part»</text><text fill=\"#000000\" font-family=\"sans-serif\" font-size=\"12\" lengthAdjust=\"spacingAndGlyphs\" textLength=\"8\" x=\"49\" y=\"92.1074\">q</text><line style=\"stroke: #383838; stroke-width: 1.5;\" x1=\"33\" x2=\"73\" y1=\"99.9375\" y2=\"99.9375\"/></a><!--MD5=[ee3c913d1a06f366521f9ef512b67efe]\n",
       "class E13--><a href=\"psysml:50b94a4a-7c4d-4845-a3da-b360d2df1f8c\" target=\"_top\" title=\"psysml:50b94a4a-7c4d-4845-a3da-b360d2df1f8c\" xlink:actuate=\"onRequest\" xlink:href=\"psysml:50b94a4a-7c4d-4845-a3da-b360d2df1f8c\" xlink:show=\"new\" xlink:title=\"psysml:50b94a4a-7c4d-4845-a3da-b360d2df1f8c\" xlink:type=\"simple\"><rect fill=\"#FFFFFF\" height=\"45.9375\" id=\"E13\" rx=\"10\" ry=\"10\" style=\"stroke: #383838; stroke-width: 1.5;\" width=\"93\" x=\"44.5\" y=\"190\"/><text fill=\"#000000\" font-family=\"sans-serif\" font-size=\"12\" font-style=\"italic\" lengthAdjust=\"spacingAndGlyphs\" textLength=\"91\" x=\"45.5\" y=\"206.1387\">«requirement»</text><text fill=\"#000000\" font-family=\"sans-serif\" font-size=\"12\" lengthAdjust=\"spacingAndGlyphs\" textLength=\"21\" x=\"80.5\" y=\"220.1074\">r: R</text><line style=\"stroke: #383838; stroke-width: 1.5;\" x1=\"45.5\" x2=\"136.5\" y1=\"227.9375\" y2=\"227.9375\"/></a><!--MD5=[05d275557350bfb9b23a4ef7222b4c39]\n",
       "link E3 to E2--><a href=\"psysml:e8229714-231f-4f2a-9005-056b1e69efb5\" target=\"_top\" title=\"psysml:e8229714-231f-4f2a-9005-056b1e69efb5\" xlink:actuate=\"onRequest\" xlink:href=\"psysml:e8229714-231f-4f2a-9005-056b1e69efb5\" xlink:show=\"new\" xlink:title=\"psysml:e8229714-231f-4f2a-9005-056b1e69efb5\" xlink:type=\"simple\"><path d=\"M327.88,108.24 C326.26,125.24 323.98,149.19 322.02,169.79 \" fill=\"none\" id=\"E3-&gt;E2\" style=\"stroke: #383838; stroke-width: 1.0;\"/><polygon fill=\"#FFFFFF\" points=\"320.1,189.99,314.9362,170.411,328.8729,171.7407,320.1,189.99\" style=\"stroke: #383838; stroke-width: 1.0;\"/><ellipse cx=\"317.4685\" cy=\"164.9268\" fill=\"#383838\" rx=\"2\" ry=\"2\" style=\"stroke: #383838; stroke-width: 1.0;\"/><ellipse cx=\"327.4233\" cy=\"165.8765\" fill=\"#383838\" rx=\"2\" ry=\"2\" style=\"stroke: #383838; stroke-width: 1.0;\"/></a><!--MD5=[722ff4eef345aa10242dad44df0e98c7]\n",
       "reverse link E4 to E7--><a href=\"psysml:eafce8af-10f9-4af7-9431-7513cc7d3347\" target=\"_top\" title=\"psysml:eafce8af-10f9-4af7-9431-7513cc7d3347\" xlink:actuate=\"onRequest\" xlink:href=\"psysml:eafce8af-10f9-4af7-9431-7513cc7d3347\" xlink:show=\"new\" xlink:title=\"psysml:eafce8af-10f9-4af7-9431-7513cc7d3347\" xlink:type=\"simple\"><path d=\"M86.44,435.59 C85.02,456.46 83.55,478.02 82.5,493.48 \" fill=\"none\" id=\"E4&lt;-E7\" style=\"stroke: #383838; stroke-width: 1.0;\"/><polygon fill=\"#383838\" points=\"87.33,422.4,82.9306,428.1136,86.5125,434.3721,90.912,428.6586,87.33,422.4\" style=\"stroke: #383838; stroke-width: 1.0;\"/></a><!--MD5=[c6fc7cdb0cabde04948078cf183fa696]\n",
       "reverse link E4 to E8--><a href=\"psysml:a0130814-5dc8-48af-af1a-9e985463643e\" target=\"_top\" title=\"psysml:a0130814-5dc8-48af-af1a-9e985463643e\" xlink:actuate=\"onRequest\" xlink:href=\"psysml:a0130814-5dc8-48af-af1a-9e985463643e\" xlink:show=\"new\" xlink:title=\"psysml:a0130814-5dc8-48af-af1a-9e985463643e\" xlink:type=\"simple\"><path d=\"M148.94,434.02 C163.95,450.99 179.47,468.53 192.24,482.98 \" fill=\"none\" id=\"E4&lt;-E8\" style=\"stroke: #383838; stroke-width: 1.0;\"/><ellipse cx=\"143.9698\" cy=\"428.3927\" fill=\"#FFFFFF\" rx=\"8\" ry=\"8\" style=\"stroke: #383838; stroke-width: 1.0;\"/><line style=\"stroke: #383838; stroke-width: 1.0;\" x1=\"149.2695\" x2=\"138.67\" y1=\"434.3854\" y2=\"422.4\"/><line style=\"stroke: #383838; stroke-width: 1.0;\" x1=\"137.9771\" x2=\"149.9625\" y1=\"433.6925\" y2=\"423.0929\"/></a><!--MD5=[062ed86c389d1a88f61c6380d0491e17]\n",
       "reverse link E12 to E13--><a href=\"psysml:044b978f-2385-4425-992f-2d75b645c055\" target=\"_top\" title=\"psysml:044b978f-2385-4425-992f-2d75b645c055\" xlink:actuate=\"onRequest\" xlink:href=\"psysml:044b978f-2385-4425-992f-2d75b645c055\" xlink:show=\"new\" xlink:title=\"psysml:044b978f-2385-4425-992f-2d75b645c055\" xlink:type=\"simple\"><path d=\"M63.49,120.8 C70.17,142.92 78.6,170.89 84.36,189.99 \" fill=\"none\" id=\"E12&lt;-E13\" style=\"stroke: #383838; stroke-width: 1.0;\"/><polygon fill=\"#383838\" points=\"59.71,108.24,57.6129,115.1394,63.1751,119.7288,65.2722,112.8294,59.71,108.24\" style=\"stroke: #383838; stroke-width: 1.0;\"/></a><!--MD5=[017847e01ff9a8bd19f247411074f987]\n",
       "link E13 to E4--><a href=\"psysml:279d9c9b-21cb-4076-8967-339bf6a79b4c\" target=\"_top\" title=\"psysml:279d9c9b-21cb-4076-8967-339bf6a79b4c\" xlink:actuate=\"onRequest\" xlink:href=\"psysml:279d9c9b-21cb-4076-8967-339bf6a79b4c\" xlink:show=\"new\" xlink:title=\"psysml:279d9c9b-21cb-4076-8967-339bf6a79b4c\" xlink:type=\"simple\"><path d=\"M91,236.17 C91,251.17 91,271.91 91,292.44 \" fill=\"none\" id=\"E13-&gt;E4\" style=\"stroke: #383838; stroke-width: 1.0;\"/><polygon fill=\"#FFFFFF\" points=\"91,312.68,84,293.68,98,293.68,91,312.68\" style=\"stroke: #383838; stroke-width: 1.0;\"/><ellipse cx=\"86\" cy=\"287.98\" fill=\"#383838\" rx=\"2\" ry=\"2\" style=\"stroke: #383838; stroke-width: 1.0;\"/><ellipse cx=\"96\" cy=\"287.98\" fill=\"#383838\" rx=\"2\" ry=\"2\" style=\"stroke: #383838; stroke-width: 1.0;\"/></a><!--MD5=[2cfe899c895462254056921bfb67315f]\n",
       "link E13 to E11--><a href=\"psysml:fcf36e7c-2665-4a1d-8cf4-6fcc5b08ef04\" target=\"_top\" title=\"psysml:fcf36e7c-2665-4a1d-8cf4-6fcc5b08ef04\" xlink:actuate=\"onRequest\" xlink:href=\"psysml:fcf36e7c-2665-4a1d-8cf4-6fcc5b08ef04\" xlink:show=\"new\" xlink:title=\"psysml:fcf36e7c-2665-4a1d-8cf4-6fcc5b08ef04\" xlink:type=\"simple\"><path d=\"M108.36,236.29 C123.87,256.28 147.14,286.45 167,313 C173.57,321.78 180.66,331.44 186.97,340.12 \" fill=\"none\" id=\"E13-&gt;E11\" style=\"stroke: #383838; stroke-width: 1.0; stroke-dasharray: 7.0,7.0;\"/><polygon fill=\"#383838\" points=\"189.99,344.28,187.9274,334.6496,187.0474,340.2376,181.4594,339.3576,189.99,344.28\" style=\"stroke: #383838; stroke-width: 1.0;\"/><text fill=\"#000000\" font-family=\"sans-serif\" font-size=\"13\" lengthAdjust=\"spacingAndGlyphs\" textLength=\"57\" x=\"145\" y=\"279.0669\">«satisfy»</text></a><!--MD5=[592f77e4dc9b0bf3dc20e00fe61fcea6]\n",
       "@startuml\r\n",
       " skinparam monochrome true\r\n",
       "skinparam classbackgroundcolor white\r\n",
       "skinparam shadowing false\r\n",
       "skinparam wrapWidth 300\r\n",
       "hide circle\r\n",
       "\r\n",
       "package \"RequirementTest\" as E1  [[psysml:f822a5b9-f637-4bfc-9356-d45755be39c3 ]]  {\r\n",
       "comp def \"C\" as E2  <<(T,blue)constraint def>> [[psysml:55e0c843-cabd-4238-9430-5e5ddb37e322 ]] {\r\n",
       "}\r\n",
       "comp usage \"c: C\" as E3  <<(T,blue)constraint>> [[psysml:943270d7-f648-4f2b-99ed-798f0a01be75 ]] {\r\n",
       "}\r\n",
       "comp def \"R\" as E4  <<(T,blue)requirement def>> [[psysml:3547be1a-4b91-4a24-a66e-ac992d912d25 ]] {\r\n",
       "\r\n",
       "- -\r\n",
       "- - constraints - -\r\n",
       "<b>require</b> c\r\n",
       "<i>assume</i> c1: C\r\n",
       "}\r\n",
       "comp usage \"<s>noname</s>\" as E7  <<(T,blue)requirement>> [[psysml:5cc59123-afbd-4e9a-96fa-0bfa0b631260 ]] {\r\n",
       "}\r\n",
       "comp def \" [<b>1</b>] A\" as E8  <<(T,blue)requirement def>> [[psysml:49e593a4-f39b-4803-a2ce-02c26b916197 ]] {\r\n",
       "Text\r\n",
       "- -\r\n",
       "}\r\n",
       "comp def \"R1\" as E9  <<(T,blue)requirement def>> [[psysml:79fb73d3-867b-49b4-8196-8eb6e64f62f0 ]] {\r\n",
       "- - constraints - -\r\n",
       "<b>require</b> c1\\n//:>>RequirementTest::c// \r\n",
       "}\r\n",
       "comp usage \"p\" as E11  <<(T,blue)part>> [[psysml:510a33c1-eff7-4e5e-90b4-a63ef5b72ae6 ]] {\r\n",
       "}\r\n",
       "comp usage \"q\" as E12  <<(T,blue)part>> [[psysml:a6cd5ff6-20a0-4014-8266-5a2f114de57c ]] {\r\n",
       "}\r\n",
       "comp usage \"r: R\" as E13  <<(T,blue)requirement>> [[psysml:50b94a4a-7c4d-4845-a3da-b360d2df1f8c ]] {\r\n",
       "}\r\n",
       "E3 - -:|> E2 [[psysml:e8229714-231f-4f2a-9005-056b1e69efb5 ]] \r\n",
       "E4 *- - E7 [[psysml:eafce8af-10f9-4af7-9431-7513cc7d3347 ]] \r\n",
       "E4 +- - E8 [[psysml:a0130814-5dc8-48af-af1a-9e985463643e ]] \r\n",
       "E12 *- - E13 [[psysml:044b978f-2385-4425-992f-2d75b645c055 ]] \r\n",
       "E13 - -:|> E4 [[psysml:279d9c9b-21cb-4076-8967-339bf6a79b4c ]] \r\n",
       "E13 ..> E11 [[psysml:fcf36e7c-2665-4a1d-8cf4-6fcc5b08ef04 ]] : <<satisfy>>\r\n",
       "}\r\n",
       "@enduml\r\n",
       "\n",
       "PlantUML version 1.2020.13(Sat Jun 13 12:26:38 UTC 2020)\n",
       "(EPL source distribution)\n",
       "Java Runtime: OpenJDK Runtime Environment\n",
       "JVM: OpenJDK 64-Bit Server VM\n",
       "Default Encoding: UTF-8\n",
       "Language: en\n",
       "Country: null\n",
       "--></g></svg>"
      ]
     },
     "execution_count": 3,
     "metadata": {},
     "output_type": "execute_result"
    }
   ],
   "source": [
    "%viz --style=\"COMPTREE\" --view=\"Tree\" \"RequirementTest\""
   ]
  },
  {
   "cell_type": "code",
   "execution_count": 4,
   "id": "b4161cba",
   "metadata": {
    "execution": {
     "iopub.execute_input": "2021-04-21T20:21:25.484044Z",
     "iopub.status.busy": "2021-04-21T20:21:25.481379Z",
     "iopub.status.idle": "2021-04-21T20:21:25.502668Z",
     "shell.execute_reply": "2021-04-21T20:21:25.502020Z"
    }
   },
   "outputs": [
    {
     "data": {
      "image/svg+xml": [
       "<?xml version=\"1.0\" encoding=\"UTF-8\" standalone=\"no\"?><svg xmlns=\"http://www.w3.org/2000/svg\" xmlns:xlink=\"http://www.w3.org/1999/xlink\" contentScriptType=\"application/ecmascript\" contentStyleType=\"text/css\" height=\"12px\" preserveAspectRatio=\"none\" style=\"width:12px;height:12px;\" version=\"1.1\" viewBox=\"0 0 12 12\" width=\"12px\" zoomAndPan=\"magnify\"><defs/><g><!--MD5=[f19188ef49e11757b5c46753f95d9edc]\n",
       "@startuml\r\n",
       " skinparam monochrome true\r\n",
       "skinparam classbackgroundcolor white\r\n",
       "skinparam shadowing false\r\n",
       "skinparam wrapWidth 300\r\n",
       "hide circle\r\n",
       "\r\n",
       "@enduml\r\n",
       "\n",
       "PlantUML version 1.2020.13(Sat Jun 13 12:26:38 UTC 2020)\n",
       "(EPL source distribution)\n",
       "Java Runtime: OpenJDK Runtime Environment\n",
       "JVM: OpenJDK 64-Bit Server VM\n",
       "Default Encoding: UTF-8\n",
       "Language: en\n",
       "Country: null\n",
       "--></g></svg>"
      ]
     },
     "execution_count": 4,
     "metadata": {},
     "output_type": "execute_result"
    }
   ],
   "source": [
    "%viz --style=\"COMPTREE\" --view=\"State\" \"RequirementTest\""
   ]
  },
  {
   "cell_type": "code",
   "execution_count": 5,
   "id": "4835c996",
   "metadata": {
    "execution": {
     "iopub.execute_input": "2021-04-21T20:21:25.551402Z",
     "iopub.status.busy": "2021-04-21T20:21:25.550742Z",
     "iopub.status.idle": "2021-04-21T20:21:25.787133Z",
     "shell.execute_reply": "2021-04-21T20:21:25.786712Z"
    }
   },
   "outputs": [
    {
     "data": {
      "image/svg+xml": [
       "<?xml version=\"1.0\" encoding=\"UTF-8\" standalone=\"no\"?><svg xmlns=\"http://www.w3.org/2000/svg\" xmlns:xlink=\"http://www.w3.org/1999/xlink\" contentScriptType=\"application/ecmascript\" contentStyleType=\"text/css\" height=\"408px\" preserveAspectRatio=\"none\" style=\"width:483px;height:408px;\" version=\"1.1\" viewBox=\"0 0 483 408\" width=\"483px\" zoomAndPan=\"magnify\"><defs/><g><!--MD5=[fbc87193dbaf4d95561dea2c320d4a47]\n",
       "cluster E1--><a href=\"psysml:f822a5b9-f637-4bfc-9356-d45755be39c3\" target=\"_top\" title=\"psysml:f822a5b9-f637-4bfc-9356-d45755be39c3\" xlink:actuate=\"onRequest\" xlink:href=\"psysml:f822a5b9-f637-4bfc-9356-d45755be39c3\" xlink:show=\"new\" xlink:title=\"psysml:f822a5b9-f637-4bfc-9356-d45755be39c3\" xlink:type=\"simple\"><polygon fill=\"#FFFFFF\" points=\"16,6,158,6,165,28.2969,461,28.2969,461,396,16,396,16,6\" style=\"stroke: #000000; stroke-width: 1.5;\"/><line style=\"stroke: #000000; stroke-width: 1.5;\" x1=\"16\" x2=\"165\" y1=\"28.2969\" y2=\"28.2969\"/><text fill=\"#000000\" font-family=\"sans-serif\" font-size=\"14\" font-weight=\"bold\" lengthAdjust=\"spacingAndGlyphs\" textLength=\"136\" x=\"20\" y=\"20.9951\">RequirementTest</text></a><!--MD5=[47bea60c1a0ac6c1143df232041969c0]\n",
       "cluster E12--><a href=\"psysml:a6cd5ff6-20a0-4014-8266-5a2f114de57c\" target=\"_top\" title=\"psysml:a6cd5ff6-20a0-4014-8266-5a2f114de57c\" xlink:actuate=\"onRequest\" xlink:href=\"psysml:a6cd5ff6-20a0-4014-8266-5a2f114de57c\" xlink:show=\"new\" xlink:title=\"psysml:a6cd5ff6-20a0-4014-8266-5a2f114de57c\" xlink:type=\"simple\"><rect fill=\"#FFFFFF\" height=\"97\" id=\"E12\" rx=\"10\" ry=\"10\" style=\"stroke: #383838; stroke-width: 1.5;\" width=\"124\" x=\"313\" y=\"49\"/><rect fill=\"#F8F8F8\" height=\"23.9688\" rx=\"10\" ry=\"10\" style=\"stroke: #F8F8F8; stroke-width: 1.5;\" width=\"124\" x=\"313\" y=\"49\"/><rect fill=\"#F8F8F8\" height=\"10\" style=\"stroke: #F8F8F8; stroke-width: 1.5;\" width=\"124\" x=\"313\" y=\"62.9688\"/><rect fill=\"none\" height=\"97\" id=\"E12\" rx=\"10\" ry=\"10\" style=\"stroke: #383838; stroke-width: 1.5;\" width=\"124\" x=\"313\" y=\"49\"/><text fill=\"#000000\" font-family=\"sans-serif\" font-size=\"12\" lengthAdjust=\"spacingAndGlyphs\" textLength=\"8\" x=\"371\" y=\"65.1387\">q</text><line style=\"stroke: #383838; stroke-width: 1.0;\" x1=\"313\" x2=\"437\" y1=\"72.9688\" y2=\"72.9688\"/></a><g id=\"E1.E2\"><a href=\"psysml:55e0c843-cabd-4238-9430-5e5ddb37e322\" target=\"_top\" title=\"psysml:55e0c843-cabd-4238-9430-5e5ddb37e322\" xlink:actuate=\"onRequest\" xlink:href=\"psysml:55e0c843-cabd-4238-9430-5e5ddb37e322\" xlink:show=\"new\" xlink:title=\"psysml:55e0c843-cabd-4238-9430-5e5ddb37e322\" xlink:type=\"simple\"><rect fill=\"#FFFFFF\" height=\"42.9375\" id=\"E2\" style=\"stroke: #383838; stroke-width: 1.5;\" width=\"109\" x=\"98.5\" y=\"220\"/><rect fill=\"#F8F8F8\" height=\"37.9375\" style=\"stroke: #383838; stroke-width: 1.5;\" width=\"109\" x=\"98.5\" y=\"220\"/><text fill=\"#000000\" font-family=\"sans-serif\" font-size=\"12\" font-style=\"italic\" lengthAdjust=\"spacingAndGlyphs\" textLength=\"102\" x=\"102\" y=\"236.1387\">«constraint def»</text><text fill=\"#000000\" font-family=\"sans-serif\" font-size=\"12\" lengthAdjust=\"spacingAndGlyphs\" textLength=\"8\" x=\"149\" y=\"250.1074\">C</text></a></g><!--MD5=[09b614a08d8cba4a07c9adeb5e0fee81]\n",
       "class E3--><a href=\"psysml:943270d7-f648-4f2b-99ed-798f0a01be75\" target=\"_top\" title=\"psysml:943270d7-f648-4f2b-99ed-798f0a01be75\" xlink:actuate=\"onRequest\" xlink:href=\"psysml:943270d7-f648-4f2b-99ed-798f0a01be75\" xlink:show=\"new\" xlink:title=\"psysml:943270d7-f648-4f2b-99ed-798f0a01be75\" xlink:type=\"simple\"><rect fill=\"#FFFFFF\" height=\"45.9375\" id=\"E3\" rx=\"10\" ry=\"10\" style=\"stroke: #383838; stroke-width: 1.5;\" width=\"80\" x=\"213\" y=\"84\"/><text fill=\"#000000\" font-family=\"sans-serif\" font-size=\"12\" font-style=\"italic\" lengthAdjust=\"spacingAndGlyphs\" textLength=\"78\" x=\"214\" y=\"100.1387\">«constraint»</text><text fill=\"#000000\" font-family=\"sans-serif\" font-size=\"12\" lengthAdjust=\"spacingAndGlyphs\" textLength=\"23\" x=\"241.5\" y=\"114.1074\">c: C</text><line style=\"stroke: #383838; stroke-width: 1.5;\" x1=\"214\" x2=\"292\" y1=\"121.9375\" y2=\"121.9375\"/></a><!--MD5=[ebbe1d658d1005bcc118a6aa81145e00]\n",
       "class E4--><a href=\"psysml:3547be1a-4b91-4a24-a66e-ac992d912d25\" target=\"_top\" title=\"psysml:3547be1a-4b91-4a24-a66e-ac992d912d25\" xlink:actuate=\"onRequest\" xlink:href=\"psysml:3547be1a-4b91-4a24-a66e-ac992d912d25\" xlink:show=\"new\" xlink:title=\"psysml:3547be1a-4b91-4a24-a66e-ac992d912d25\" xlink:type=\"simple\"><rect fill=\"#FFFFFF\" height=\"109.1563\" id=\"E4\" style=\"stroke: #383838; stroke-width: 1.5;\" width=\"117\" x=\"242.5\" y=\"187\"/><text fill=\"#000000\" font-family=\"sans-serif\" font-size=\"12\" font-style=\"italic\" lengthAdjust=\"spacingAndGlyphs\" textLength=\"115\" x=\"243.5\" y=\"203.1387\">«requirement def»</text><text fill=\"#000000\" font-family=\"sans-serif\" font-size=\"12\" lengthAdjust=\"spacingAndGlyphs\" textLength=\"8\" x=\"297\" y=\"217.1074\">R</text><line style=\"stroke: #383838; stroke-width: 1.5;\" x1=\"243.5\" x2=\"358.5\" y1=\"224.9375\" y2=\"224.9375\"/><text fill=\"#000000\" font-family=\"sans-serif\" font-size=\"11\" lengthAdjust=\"spacingAndGlyphs\" textLength=\"0\" x=\"252.5\" y=\"239.1479\"/><line style=\"stroke: #383838; stroke-width: 1.0;\" x1=\"243.5\" x2=\"358.5\" y1=\"245.7422\" y2=\"245.7422\"/><text fill=\"#000000\" font-family=\"sans-serif\" font-size=\"11\" font-weight=\"bold\" lengthAdjust=\"spacingAndGlyphs\" textLength=\"46\" x=\"248.5\" y=\"276.7573\">require</text><text fill=\"#000000\" font-family=\"sans-serif\" font-size=\"11\" lengthAdjust=\"spacingAndGlyphs\" textLength=\"6\" x=\"298.5\" y=\"276.7573\">c</text><text fill=\"#000000\" font-family=\"sans-serif\" font-size=\"11\" font-style=\"italic\" lengthAdjust=\"spacingAndGlyphs\" textLength=\"46\" x=\"248.5\" y=\"289.562\">assume</text><text fill=\"#000000\" font-family=\"sans-serif\" font-size=\"11\" lengthAdjust=\"spacingAndGlyphs\" textLength=\"29\" x=\"298.5\" y=\"289.562\">c1: C</text><line style=\"stroke: #383838; stroke-width: 1.0;\" x1=\"243.5\" x2=\"269\" y1=\"260.1445\" y2=\"260.1445\"/><text fill=\"#000000\" font-family=\"sans-serif\" font-size=\"11\" lengthAdjust=\"spacingAndGlyphs\" textLength=\"64\" x=\"269\" y=\"263.4526\">constraints</text><line style=\"stroke: #383838; stroke-width: 1.0;\" x1=\"333\" x2=\"358.5\" y1=\"260.1445\" y2=\"260.1445\"/></a><!--MD5=[2156ba9850f5573cc1fc38a6a4b2f02b]\n",
       "class E7--><a href=\"psysml:5cc59123-afbd-4e9a-96fa-0bfa0b631260\" target=\"_top\" title=\"psysml:5cc59123-afbd-4e9a-96fa-0bfa0b631260\" xlink:actuate=\"onRequest\" xlink:href=\"psysml:5cc59123-afbd-4e9a-96fa-0bfa0b631260\" xlink:show=\"new\" xlink:title=\"psysml:5cc59123-afbd-4e9a-96fa-0bfa0b631260\" xlink:type=\"simple\"><rect fill=\"#FFFFFF\" height=\"45.9375\" id=\"E7\" rx=\"10\" ry=\"10\" style=\"stroke: #383838; stroke-width: 1.5;\" width=\"93\" x=\"177.5\" y=\"323.5\"/><text fill=\"#000000\" font-family=\"sans-serif\" font-size=\"12\" font-style=\"italic\" lengthAdjust=\"spacingAndGlyphs\" textLength=\"91\" x=\"178.5\" y=\"339.6387\">«requirement»</text><text fill=\"#000000\" font-family=\"sans-serif\" font-size=\"12\" lengthAdjust=\"spacingAndGlyphs\" text-decoration=\"line-through\" textLength=\"51\" x=\"198.5\" y=\"353.6074\">noname</text><line style=\"stroke: #383838; stroke-width: 1.5;\" x1=\"178.5\" x2=\"269.5\" y1=\"361.4375\" y2=\"361.4375\"/></a><!--MD5=[b9389687b975829384b498ac4b7476b2]\n",
       "class E8--><a href=\"psysml:49e593a4-f39b-4803-a2ce-02c26b916197\" target=\"_top\" title=\"psysml:49e593a4-f39b-4803-a2ce-02c26b916197\" xlink:actuate=\"onRequest\" xlink:href=\"psysml:49e593a4-f39b-4803-a2ce-02c26b916197\" xlink:show=\"new\" xlink:title=\"psysml:49e593a4-f39b-4803-a2ce-02c26b916197\" xlink:type=\"simple\"><rect fill=\"#FFFFFF\" height=\"66.7422\" id=\"E8\" style=\"stroke: #383838; stroke-width: 1.5;\" width=\"117\" x=\"305.5\" y=\"313\"/><text fill=\"#000000\" font-family=\"sans-serif\" font-size=\"12\" font-style=\"italic\" lengthAdjust=\"spacingAndGlyphs\" textLength=\"115\" x=\"306.5\" y=\"329.1387\">«requirement def»</text><text fill=\"#000000\" font-family=\"sans-serif\" font-size=\"12\" lengthAdjust=\"spacingAndGlyphs\" textLength=\"5\" x=\"351\" y=\"343.1074\">[</text><text fill=\"#000000\" font-family=\"sans-serif\" font-size=\"12\" font-weight=\"bold\" lengthAdjust=\"spacingAndGlyphs\" textLength=\"8\" x=\"356\" y=\"343.1074\">1</text><text fill=\"#000000\" font-family=\"sans-serif\" font-size=\"12\" lengthAdjust=\"spacingAndGlyphs\" textLength=\"17\" x=\"364\" y=\"343.1074\">] A</text><line style=\"stroke: #383838; stroke-width: 1.5;\" x1=\"306.5\" x2=\"421.5\" y1=\"350.9375\" y2=\"350.9375\"/><text fill=\"#000000\" font-family=\"sans-serif\" font-size=\"11\" lengthAdjust=\"spacingAndGlyphs\" textLength=\"24\" x=\"311.5\" y=\"365.1479\">Text</text><line style=\"stroke: #383838; stroke-width: 1.0;\" x1=\"306.5\" x2=\"421.5\" y1=\"371.7422\" y2=\"371.7422\"/></a><!--MD5=[fd4143e9d270a159db93a4ea2a975926]\n",
       "class E9--><a href=\"psysml:79fb73d3-867b-49b4-8196-8eb6e64f62f0\" target=\"_top\" title=\"psysml:79fb73d3-867b-49b4-8196-8eb6e64f62f0\" xlink:actuate=\"onRequest\" xlink:href=\"psysml:79fb73d3-867b-49b4-8196-8eb6e64f62f0\" xlink:show=\"new\" xlink:title=\"psysml:79fb73d3-867b-49b4-8196-8eb6e64f62f0\" xlink:type=\"simple\"><rect fill=\"#FFFFFF\" height=\"88.3516\" id=\"E9\" style=\"stroke: #383838; stroke-width: 1.5;\" width=\"145\" x=\"32.5\" y=\"63\"/><text fill=\"#000000\" font-family=\"sans-serif\" font-size=\"12\" font-style=\"italic\" lengthAdjust=\"spacingAndGlyphs\" textLength=\"115\" x=\"47.5\" y=\"79.1387\">«requirement def»</text><text fill=\"#000000\" font-family=\"sans-serif\" font-size=\"12\" lengthAdjust=\"spacingAndGlyphs\" textLength=\"16\" x=\"97\" y=\"93.1074\">R1</text><line style=\"stroke: #383838; stroke-width: 1.5;\" x1=\"33.5\" x2=\"176.5\" y1=\"100.9375\" y2=\"100.9375\"/><text fill=\"#000000\" font-family=\"sans-serif\" font-size=\"11\" font-weight=\"bold\" lengthAdjust=\"spacingAndGlyphs\" textLength=\"46\" x=\"38.5\" y=\"131.9526\">require</text><text fill=\"#000000\" font-family=\"sans-serif\" font-size=\"11\" lengthAdjust=\"spacingAndGlyphs\" textLength=\"13\" x=\"88.5\" y=\"131.9526\">c1</text><text fill=\"#000000\" font-family=\"sans-serif\" font-size=\"11\" font-style=\"italic\" lengthAdjust=\"spacingAndGlyphs\" textLength=\"133\" x=\"38.5\" y=\"144.7573\">:&gt;&gt;RequirementTest::c</text><line style=\"stroke: #383838; stroke-width: 1.0;\" x1=\"33.5\" x2=\"73\" y1=\"115.3398\" y2=\"115.3398\"/><text fill=\"#000000\" font-family=\"sans-serif\" font-size=\"11\" lengthAdjust=\"spacingAndGlyphs\" textLength=\"64\" x=\"73\" y=\"118.6479\">constraints</text><line style=\"stroke: #383838; stroke-width: 1.0;\" x1=\"137\" x2=\"176.5\" y1=\"115.3398\" y2=\"115.3398\"/></a><g id=\"E1.E11\"><a href=\"psysml:510a33c1-eff7-4e5e-90b4-a63ef5b72ae6\" target=\"_top\" title=\"psysml:510a33c1-eff7-4e5e-90b4-a63ef5b72ae6\" xlink:actuate=\"onRequest\" xlink:href=\"psysml:510a33c1-eff7-4e5e-90b4-a63ef5b72ae6\" xlink:show=\"new\" xlink:title=\"psysml:510a33c1-eff7-4e5e-90b4-a63ef5b72ae6\" xlink:type=\"simple\"><rect fill=\"#FFFFFF\" height=\"40\" id=\"E11\" rx=\"10\" ry=\"10\" style=\"stroke: #383838; stroke-width: 1.5;\" width=\"50\" x=\"395\" y=\"221.5\"/><rect fill=\"#F8F8F8\" height=\"23.9688\" rx=\"10\" ry=\"10\" style=\"stroke: #F8F8F8; stroke-width: 1.5;\" width=\"50\" x=\"395\" y=\"221.5\"/><rect fill=\"#F8F8F8\" height=\"10\" style=\"stroke: #F8F8F8; stroke-width: 1.5;\" width=\"50\" x=\"395\" y=\"235.4688\"/><rect fill=\"none\" height=\"40\" id=\"E11\" rx=\"10\" ry=\"10\" style=\"stroke: #383838; stroke-width: 1.5;\" width=\"50\" x=\"395\" y=\"221.5\"/><text fill=\"#000000\" font-family=\"sans-serif\" font-size=\"12\" lengthAdjust=\"spacingAndGlyphs\" textLength=\"8\" x=\"416\" y=\"237.6387\">p</text></a></g><!--MD5=[ee3c913d1a06f366521f9ef512b67efe]\n",
       "class E13--><a href=\"psysml:50b94a4a-7c4d-4845-a3da-b360d2df1f8c\" target=\"_top\" title=\"psysml:50b94a4a-7c4d-4845-a3da-b360d2df1f8c\" xlink:actuate=\"onRequest\" xlink:href=\"psysml:50b94a4a-7c4d-4845-a3da-b360d2df1f8c\" xlink:show=\"new\" xlink:title=\"psysml:50b94a4a-7c4d-4845-a3da-b360d2df1f8c\" xlink:type=\"simple\"><rect fill=\"#FFFFFF\" height=\"45.9375\" id=\"E13\" rx=\"10\" ry=\"10\" style=\"stroke: #383838; stroke-width: 1.5;\" width=\"93\" x=\"328.5\" y=\"84\"/><text fill=\"#000000\" font-family=\"sans-serif\" font-size=\"12\" font-style=\"italic\" lengthAdjust=\"spacingAndGlyphs\" textLength=\"91\" x=\"329.5\" y=\"100.1387\">«requirement»</text><text fill=\"#000000\" font-family=\"sans-serif\" font-size=\"12\" lengthAdjust=\"spacingAndGlyphs\" textLength=\"21\" x=\"364.5\" y=\"114.1074\">r: R</text><line style=\"stroke: #383838; stroke-width: 1.5;\" x1=\"329.5\" x2=\"420.5\" y1=\"121.9375\" y2=\"121.9375\"/></a><!--MD5=[05d275557350bfb9b23a4ef7222b4c39]\n",
       "link E3 to E2--><a href=\"psysml:e8229714-231f-4f2a-9005-056b1e69efb5\" target=\"_top\" title=\"psysml:e8229714-231f-4f2a-9005-056b1e69efb5\" xlink:actuate=\"onRequest\" xlink:href=\"psysml:e8229714-231f-4f2a-9005-056b1e69efb5\" xlink:show=\"new\" xlink:title=\"psysml:e8229714-231f-4f2a-9005-056b1e69efb5\" xlink:type=\"simple\"><path d=\"M236.26,130.18 C221.12,150.24 198.54,180.16 180.71,203.78 \" fill=\"none\" id=\"E3-&gt;E2\" style=\"stroke: #383838; stroke-width: 1.0;\"/><polygon fill=\"#FFFFFF\" points=\"168.48,219.99,174.3492,200.6108,185.5192,209.0508,168.48,219.99\" style=\"stroke: #383838; stroke-width: 1.0;\"/><ellipse cx=\"179.3812\" cy=\"197.2688\" fill=\"#383838\" rx=\"2\" ry=\"2\" style=\"stroke: #383838; stroke-width: 1.0;\"/><ellipse cx=\"187.3597\" cy=\"203.2973\" fill=\"#383838\" rx=\"2\" ry=\"2\" style=\"stroke: #383838; stroke-width: 1.0;\"/></a><!--MD5=[722ff4eef345aa10242dad44df0e98c7]\n",
       "reverse link E4 to E7--><a href=\"psysml:eafce8af-10f9-4af7-9431-7513cc7d3347\" target=\"_top\" title=\"psysml:eafce8af-10f9-4af7-9431-7513cc7d3347\" xlink:actuate=\"onRequest\" xlink:href=\"psysml:eafce8af-10f9-4af7-9431-7513cc7d3347\" xlink:show=\"new\" xlink:title=\"psysml:eafce8af-10f9-4af7-9431-7513cc7d3347\" xlink:type=\"simple\"><path d=\"M252.95,306.78 C248.59,312.6 244.41,318.2 240.65,323.23 \" fill=\"none\" id=\"E4&lt;-E7\" style=\"stroke: #383838; stroke-width: 1.0;\"/><polygon fill=\"#383838\" points=\"260.92,296.11,254.1237,298.5205,253.7348,305.7211,260.5311,303.3106,260.92,296.11\" style=\"stroke: #383838; stroke-width: 1.0;\"/></a><!--MD5=[c6fc7cdb0cabde04948078cf183fa696]\n",
       "reverse link E4 to E8--><a href=\"psysml:a0130814-5dc8-48af-af1a-9e985463643e\" target=\"_top\" title=\"psysml:a0130814-5dc8-48af-af1a-9e985463643e\" xlink:actuate=\"onRequest\" xlink:href=\"psysml:a0130814-5dc8-48af-af1a-9e985463643e\" xlink:show=\"new\" xlink:title=\"psysml:a0130814-5dc8-48af-af1a-9e985463643e\" xlink:type=\"simple\"><path d=\"M341.65,308.95 C342.43,310.23 343.2,311.5 343.96,312.74 \" fill=\"none\" id=\"E4&lt;-E8\" style=\"stroke: #383838; stroke-width: 1.0;\"/><ellipse cx=\"337.9641\" cy=\"302.9347\" fill=\"#FFFFFF\" rx=\"8\" ry=\"8\" style=\"stroke: #383838; stroke-width: 1.0;\"/><line style=\"stroke: #383838; stroke-width: 1.0;\" x1=\"342.1381\" x2=\"333.79\" y1=\"309.7595\" y2=\"296.11\"/><line style=\"stroke: #383838; stroke-width: 1.0;\" x1=\"331.1393\" x2=\"344.7888\" y1=\"307.1088\" y2=\"298.7607\"/></a><!--MD5=[017847e01ff9a8bd19f247411074f987]\n",
       "link E13 to E4--><a href=\"psysml:279d9c9b-21cb-4076-8967-339bf6a79b4c\" target=\"_top\" title=\"psysml:279d9c9b-21cb-4076-8967-339bf6a79b4c\" xlink:actuate=\"onRequest\" xlink:href=\"psysml:279d9c9b-21cb-4076-8967-339bf6a79b4c\" xlink:show=\"new\" xlink:title=\"psysml:279d9c9b-21cb-4076-8967-339bf6a79b4c\" xlink:type=\"simple\"><path d=\"M362.61,130.18 C356.54,141.06 348.84,154.83 340.97,168.94 \" fill=\"none\" id=\"E13-&gt;E4\" style=\"stroke: #383838; stroke-width: 1.0;\"/><polygon fill=\"#FFFFFF\" points=\"331,186.78,334.1525,166.7785,346.3756,173.6046,331,186.78\" style=\"stroke: #383838; stroke-width: 1.0;\"/><ellipse cx=\"338.6779\" cy=\"162.7771\" fill=\"#383838\" rx=\"2\" ry=\"2\" style=\"stroke: #383838; stroke-width: 1.0;\"/><ellipse cx=\"347.4086\" cy=\"167.6529\" fill=\"#383838\" rx=\"2\" ry=\"2\" style=\"stroke: #383838; stroke-width: 1.0;\"/></a><!--MD5=[2cfe899c895462254056921bfb67315f]\n",
       "link E13 to E11--><a href=\"psysml:fcf36e7c-2665-4a1d-8cf4-6fcc5b08ef04\" target=\"_top\" title=\"psysml:fcf36e7c-2665-4a1d-8cf4-6fcc5b08ef04\" xlink:actuate=\"onRequest\" xlink:href=\"psysml:fcf36e7c-2665-4a1d-8cf4-6fcc5b08ef04\" xlink:show=\"new\" xlink:title=\"psysml:fcf36e7c-2665-4a1d-8cf4-6fcc5b08ef04\" xlink:type=\"simple\"><path d=\"M382.53,130.18 C390.61,153.97 403.41,191.66 411.76,216.23 \" fill=\"none\" id=\"E13-&gt;E11\" style=\"stroke: #383838; stroke-width: 1.0; stroke-dasharray: 7.0,7.0;\"/><polygon fill=\"#383838\" points=\"413.47,221.27,414.3568,211.4611,411.859,216.5367,406.7834,214.0388,413.47,221.27\" style=\"stroke: #383838; stroke-width: 1.0;\"/><text fill=\"#000000\" font-family=\"sans-serif\" font-size=\"13\" lengthAdjust=\"spacingAndGlyphs\" textLength=\"57\" x=\"399\" y=\"175.0669\">«satisfy»</text></a><!--MD5=[ce0acdae9445cc7742b3b164f73050bc]\n",
       "@startuml\r\n",
       "skinparam ranksep 10\r\n",
       "skinparam rectangle {\r\n",
       " backgroundColor<<block>> LightGreen\r\n",
       "}\r\n",
       " skinparam monochrome true\r\n",
       "skinparam classbackgroundcolor white\r\n",
       "skinparam shadowing false\r\n",
       "skinparam wrapWidth 300\r\n",
       "hide circle\r\n",
       "\r\n",
       "package \"RequirementTest\" as E1  [[psysml:f822a5b9-f637-4bfc-9356-d45755be39c3 ]]  {\r\n",
       "def \"C\" as E2  <<(T,blue)constraint def>> [[psysml:55e0c843-cabd-4238-9430-5e5ddb37e322 ]] \r\n",
       "comp usage \"c: C\" as E3  <<(T,blue)constraint>> [[psysml:943270d7-f648-4f2b-99ed-798f0a01be75 ]] {\r\n",
       "}\r\n",
       "comp def \"R\" as E4  <<(T,blue)requirement def>> [[psysml:3547be1a-4b91-4a24-a66e-ac992d912d25 ]] {\r\n",
       "\r\n",
       "- -\r\n",
       "- - constraints - -\r\n",
       "<b>require</b> c\r\n",
       "<i>assume</i> c1: C\r\n",
       "}\r\n",
       "comp usage \"<s>noname</s>\" as E7  <<(T,blue)requirement>> [[psysml:5cc59123-afbd-4e9a-96fa-0bfa0b631260 ]] {\r\n",
       "}\r\n",
       "comp def \" [<b>1</b>] A\" as E8  <<(T,blue)requirement def>> [[psysml:49e593a4-f39b-4803-a2ce-02c26b916197 ]] {\r\n",
       "Text\r\n",
       "- -\r\n",
       "}\r\n",
       "comp def \"R1\" as E9  <<(T,blue)requirement def>> [[psysml:79fb73d3-867b-49b4-8196-8eb6e64f62f0 ]] {\r\n",
       "- - constraints - -\r\n",
       "<b>require</b> c1\\n//:>>RequirementTest::c// \r\n",
       "}\r\n",
       "rec usage \"p\" as E11  [[psysml:510a33c1-eff7-4e5e-90b4-a63ef5b72ae6 ]] {\r\n",
       "}\r\n",
       "rec usage \"q\" as E12  [[psysml:a6cd5ff6-20a0-4014-8266-5a2f114de57c ]] {\r\n",
       "comp usage \"r: R\" as E13  <<(T,blue)requirement>> [[psysml:50b94a4a-7c4d-4845-a3da-b360d2df1f8c ]] {\r\n",
       "}\r\n",
       "}\r\n",
       "E3 - -:|> E2 [[psysml:e8229714-231f-4f2a-9005-056b1e69efb5 ]] \r\n",
       "E4 *- - E7 [[psysml:eafce8af-10f9-4af7-9431-7513cc7d3347 ]] \r\n",
       "E4 +- - E8 [[psysml:a0130814-5dc8-48af-af1a-9e985463643e ]] \r\n",
       "E13 - -:|> E4 [[psysml:279d9c9b-21cb-4076-8967-339bf6a79b4c ]] \r\n",
       "E13 ..> E11 [[psysml:fcf36e7c-2665-4a1d-8cf4-6fcc5b08ef04 ]] : <<satisfy>>\r\n",
       "}\r\n",
       "@enduml\r\n",
       "\n",
       "PlantUML version 1.2020.13(Sat Jun 13 12:26:38 UTC 2020)\n",
       "(EPL source distribution)\n",
       "Java Runtime: OpenJDK Runtime Environment\n",
       "JVM: OpenJDK 64-Bit Server VM\n",
       "Default Encoding: UTF-8\n",
       "Language: en\n",
       "Country: null\n",
       "--></g></svg>"
      ]
     },
     "execution_count": 5,
     "metadata": {},
     "output_type": "execute_result"
    }
   ],
   "source": [
    "%viz --style=\"COMPTREE\" --view=\"Interconnection\" \"RequirementTest\""
   ]
  },
  {
   "cell_type": "code",
   "execution_count": 6,
   "id": "d7d3c2f3",
   "metadata": {
    "execution": {
     "iopub.execute_input": "2021-04-21T20:21:25.837809Z",
     "iopub.status.busy": "2021-04-21T20:21:25.836879Z",
     "iopub.status.idle": "2021-04-21T20:21:25.845979Z",
     "shell.execute_reply": "2021-04-21T20:21:25.845423Z"
    }
   },
   "outputs": [
    {
     "data": {
      "image/svg+xml": [
       "<?xml version=\"1.0\" encoding=\"UTF-8\" standalone=\"no\"?><svg xmlns=\"http://www.w3.org/2000/svg\" xmlns:xlink=\"http://www.w3.org/1999/xlink\" contentScriptType=\"application/ecmascript\" contentStyleType=\"text/css\" height=\"12px\" preserveAspectRatio=\"none\" style=\"width:12px;height:12px;\" version=\"1.1\" viewBox=\"0 0 12 12\" width=\"12px\" zoomAndPan=\"magnify\"><defs/><g><!--MD5=[655b888544ca4751ea36af1068543f84]\n",
       "@startuml\r\n",
       "skinparam ranksep 8\r\n",
       " skinparam monochrome true\r\n",
       "skinparam classbackgroundcolor white\r\n",
       "skinparam shadowing false\r\n",
       "skinparam wrapWidth 300\r\n",
       "hide circle\r\n",
       "\r\n",
       "@enduml\r\n",
       "\n",
       "PlantUML version 1.2020.13(Sat Jun 13 12:26:38 UTC 2020)\n",
       "(EPL source distribution)\n",
       "Java Runtime: OpenJDK Runtime Environment\n",
       "JVM: OpenJDK 64-Bit Server VM\n",
       "Default Encoding: UTF-8\n",
       "Language: en\n",
       "Country: null\n",
       "--></g></svg>"
      ]
     },
     "execution_count": 6,
     "metadata": {},
     "output_type": "execute_result"
    }
   ],
   "source": [
    "%viz --style=\"COMPTREE\" --view=\"Action\" \"RequirementTest\""
   ]
  },
  {
   "cell_type": "code",
   "execution_count": 7,
   "id": "44543042",
   "metadata": {
    "execution": {
     "iopub.execute_input": "2021-04-21T20:21:25.900863Z",
     "iopub.status.busy": "2021-04-21T20:21:25.900005Z",
     "iopub.status.idle": "2021-04-21T20:21:26.073447Z",
     "shell.execute_reply": "2021-04-21T20:21:26.066554Z"
    }
   },
   "outputs": [
    {
     "data": {
      "image/svg+xml": [
       "<?xml version=\"1.0\" encoding=\"UTF-8\" standalone=\"no\"?><svg xmlns=\"http://www.w3.org/2000/svg\" xmlns:xlink=\"http://www.w3.org/1999/xlink\" contentScriptType=\"application/ecmascript\" contentStyleType=\"text/css\" height=\"578px\" preserveAspectRatio=\"none\" style=\"width:408px;height:578px;\" version=\"1.1\" viewBox=\"0 0 408 578\" width=\"408px\" zoomAndPan=\"magnify\"><defs/><g><!--MD5=[fbc87193dbaf4d95561dea2c320d4a47]\n",
       "cluster E1--><a href=\"psysml:f822a5b9-f637-4bfc-9356-d45755be39c3\" target=\"_top\" title=\"psysml:f822a5b9-f637-4bfc-9356-d45755be39c3\" xlink:actuate=\"onRequest\" xlink:href=\"psysml:f822a5b9-f637-4bfc-9356-d45755be39c3\" xlink:show=\"new\" xlink:title=\"psysml:f822a5b9-f637-4bfc-9356-d45755be39c3\" xlink:type=\"simple\"><polygon fill=\"#FFFFFF\" points=\"16,6,158,6,165,28.2969,386,28.2969,386,566,16,566,16,6\" style=\"stroke: #000000; stroke-width: 1.5;\"/><line style=\"stroke: #000000; stroke-width: 1.5;\" x1=\"16\" x2=\"165\" y1=\"28.2969\" y2=\"28.2969\"/><text fill=\"#000000\" font-family=\"sans-serif\" font-size=\"14\" font-weight=\"bold\" lengthAdjust=\"spacingAndGlyphs\" textLength=\"136\" x=\"20\" y=\"20.9951\">RequirementTest</text></a><!--MD5=[b4997ac47864f28c2f74865a473b2911]\n",
       "class E2--><a href=\"psysml:55e0c843-cabd-4238-9430-5e5ddb37e322\" target=\"_top\" title=\"psysml:55e0c843-cabd-4238-9430-5e5ddb37e322\" xlink:actuate=\"onRequest\" xlink:href=\"psysml:55e0c843-cabd-4238-9430-5e5ddb37e322\" xlink:show=\"new\" xlink:title=\"psysml:55e0c843-cabd-4238-9430-5e5ddb37e322\" xlink:type=\"simple\"><rect fill=\"#FFFFFF\" height=\"45.9375\" id=\"E2\" style=\"stroke: #383838; stroke-width: 1.5;\" width=\"104\" x=\"266\" y=\"190\"/><text fill=\"#000000\" font-family=\"sans-serif\" font-size=\"12\" font-style=\"italic\" lengthAdjust=\"spacingAndGlyphs\" textLength=\"102\" x=\"267\" y=\"206.1387\">«constraint def»</text><text fill=\"#000000\" font-family=\"sans-serif\" font-size=\"12\" lengthAdjust=\"spacingAndGlyphs\" textLength=\"8\" x=\"314\" y=\"220.1074\">C</text><line style=\"stroke: #383838; stroke-width: 1.5;\" x1=\"267\" x2=\"369\" y1=\"227.9375\" y2=\"227.9375\"/></a><!--MD5=[09b614a08d8cba4a07c9adeb5e0fee81]\n",
       "class E3--><a href=\"psysml:943270d7-f648-4f2b-99ed-798f0a01be75\" target=\"_top\" title=\"psysml:943270d7-f648-4f2b-99ed-798f0a01be75\" xlink:actuate=\"onRequest\" xlink:href=\"psysml:943270d7-f648-4f2b-99ed-798f0a01be75\" xlink:show=\"new\" xlink:title=\"psysml:943270d7-f648-4f2b-99ed-798f0a01be75\" xlink:type=\"simple\"><rect fill=\"#FFFFFF\" height=\"45.9375\" id=\"E3\" rx=\"10\" ry=\"10\" style=\"stroke: #383838; stroke-width: 1.5;\" width=\"80\" x=\"290\" y=\"62\"/><text fill=\"#000000\" font-family=\"sans-serif\" font-size=\"12\" font-style=\"italic\" lengthAdjust=\"spacingAndGlyphs\" textLength=\"78\" x=\"291\" y=\"78.1387\">«constraint»</text><text fill=\"#000000\" font-family=\"sans-serif\" font-size=\"12\" lengthAdjust=\"spacingAndGlyphs\" textLength=\"23\" x=\"318.5\" y=\"92.1074\">c: C</text><line style=\"stroke: #383838; stroke-width: 1.5;\" x1=\"291\" x2=\"369\" y1=\"99.9375\" y2=\"99.9375\"/></a><!--MD5=[ebbe1d658d1005bcc118a6aa81145e00]\n",
       "class E4--><a href=\"psysml:3547be1a-4b91-4a24-a66e-ac992d912d25\" target=\"_top\" title=\"psysml:3547be1a-4b91-4a24-a66e-ac992d912d25\" xlink:actuate=\"onRequest\" xlink:href=\"psysml:3547be1a-4b91-4a24-a66e-ac992d912d25\" xlink:show=\"new\" xlink:title=\"psysml:3547be1a-4b91-4a24-a66e-ac992d912d25\" xlink:type=\"simple\"><rect fill=\"#FFFFFF\" height=\"109.1563\" id=\"E4\" style=\"stroke: #383838; stroke-width: 1.5;\" width=\"117\" x=\"32.5\" y=\"313\"/><text fill=\"#000000\" font-family=\"sans-serif\" font-size=\"12\" font-style=\"italic\" lengthAdjust=\"spacingAndGlyphs\" textLength=\"115\" x=\"33.5\" y=\"329.1387\">«requirement def»</text><text fill=\"#000000\" font-family=\"sans-serif\" font-size=\"12\" lengthAdjust=\"spacingAndGlyphs\" textLength=\"8\" x=\"87\" y=\"343.1074\">R</text><line style=\"stroke: #383838; stroke-width: 1.5;\" x1=\"33.5\" x2=\"148.5\" y1=\"350.9375\" y2=\"350.9375\"/><text fill=\"#000000\" font-family=\"sans-serif\" font-size=\"11\" lengthAdjust=\"spacingAndGlyphs\" textLength=\"0\" x=\"42.5\" y=\"365.1479\"/><line style=\"stroke: #383838; stroke-width: 1.0;\" x1=\"33.5\" x2=\"148.5\" y1=\"371.7422\" y2=\"371.7422\"/><text fill=\"#000000\" font-family=\"sans-serif\" font-size=\"11\" font-weight=\"bold\" lengthAdjust=\"spacingAndGlyphs\" textLength=\"46\" x=\"38.5\" y=\"402.7573\">require</text><text fill=\"#000000\" font-family=\"sans-serif\" font-size=\"11\" lengthAdjust=\"spacingAndGlyphs\" textLength=\"6\" x=\"88.5\" y=\"402.7573\">c</text><text fill=\"#000000\" font-family=\"sans-serif\" font-size=\"11\" font-style=\"italic\" lengthAdjust=\"spacingAndGlyphs\" textLength=\"46\" x=\"38.5\" y=\"415.562\">assume</text><text fill=\"#000000\" font-family=\"sans-serif\" font-size=\"11\" lengthAdjust=\"spacingAndGlyphs\" textLength=\"29\" x=\"88.5\" y=\"415.562\">c1: C</text><line style=\"stroke: #383838; stroke-width: 1.0;\" x1=\"33.5\" x2=\"59\" y1=\"386.1445\" y2=\"386.1445\"/><text fill=\"#000000\" font-family=\"sans-serif\" font-size=\"11\" lengthAdjust=\"spacingAndGlyphs\" textLength=\"64\" x=\"59\" y=\"389.4526\">constraints</text><line style=\"stroke: #383838; stroke-width: 1.0;\" x1=\"123\" x2=\"148.5\" y1=\"386.1445\" y2=\"386.1445\"/></a><!--MD5=[2156ba9850f5573cc1fc38a6a4b2f02b]\n",
       "class E7--><a href=\"psysml:5cc59123-afbd-4e9a-96fa-0bfa0b631260\" target=\"_top\" title=\"psysml:5cc59123-afbd-4e9a-96fa-0bfa0b631260\" xlink:actuate=\"onRequest\" xlink:href=\"psysml:5cc59123-afbd-4e9a-96fa-0bfa0b631260\" xlink:show=\"new\" xlink:title=\"psysml:5cc59123-afbd-4e9a-96fa-0bfa0b631260\" xlink:type=\"simple\"><rect fill=\"#FFFFFF\" height=\"45.9375\" id=\"E7\" rx=\"10\" ry=\"10\" style=\"stroke: #383838; stroke-width: 1.5;\" width=\"93\" x=\"34.5\" y=\"493.5\"/><text fill=\"#000000\" font-family=\"sans-serif\" font-size=\"12\" font-style=\"italic\" lengthAdjust=\"spacingAndGlyphs\" textLength=\"91\" x=\"35.5\" y=\"509.6387\">«requirement»</text><text fill=\"#000000\" font-family=\"sans-serif\" font-size=\"12\" lengthAdjust=\"spacingAndGlyphs\" text-decoration=\"line-through\" textLength=\"51\" x=\"55.5\" y=\"523.6074\">noname</text><line style=\"stroke: #383838; stroke-width: 1.5;\" x1=\"35.5\" x2=\"126.5\" y1=\"531.4375\" y2=\"531.4375\"/></a><!--MD5=[b9389687b975829384b498ac4b7476b2]\n",
       "class E8--><a href=\"psysml:49e593a4-f39b-4803-a2ce-02c26b916197\" target=\"_top\" title=\"psysml:49e593a4-f39b-4803-a2ce-02c26b916197\" xlink:actuate=\"onRequest\" xlink:href=\"psysml:49e593a4-f39b-4803-a2ce-02c26b916197\" xlink:show=\"new\" xlink:title=\"psysml:49e593a4-f39b-4803-a2ce-02c26b916197\" xlink:type=\"simple\"><rect fill=\"#FFFFFF\" height=\"66.7422\" id=\"E8\" style=\"stroke: #383838; stroke-width: 1.5;\" width=\"117\" x=\"162.5\" y=\"483\"/><text fill=\"#000000\" font-family=\"sans-serif\" font-size=\"12\" font-style=\"italic\" lengthAdjust=\"spacingAndGlyphs\" textLength=\"115\" x=\"163.5\" y=\"499.1387\">«requirement def»</text><text fill=\"#000000\" font-family=\"sans-serif\" font-size=\"12\" lengthAdjust=\"spacingAndGlyphs\" textLength=\"5\" x=\"208\" y=\"513.1074\">[</text><text fill=\"#000000\" font-family=\"sans-serif\" font-size=\"12\" font-weight=\"bold\" lengthAdjust=\"spacingAndGlyphs\" textLength=\"8\" x=\"213\" y=\"513.1074\">1</text><text fill=\"#000000\" font-family=\"sans-serif\" font-size=\"12\" lengthAdjust=\"spacingAndGlyphs\" textLength=\"17\" x=\"221\" y=\"513.1074\">] A</text><line style=\"stroke: #383838; stroke-width: 1.5;\" x1=\"163.5\" x2=\"278.5\" y1=\"520.9375\" y2=\"520.9375\"/><text fill=\"#000000\" font-family=\"sans-serif\" font-size=\"11\" lengthAdjust=\"spacingAndGlyphs\" textLength=\"24\" x=\"168.5\" y=\"535.1479\">Text</text><line style=\"stroke: #383838; stroke-width: 1.0;\" x1=\"163.5\" x2=\"278.5\" y1=\"541.7422\" y2=\"541.7422\"/></a><!--MD5=[fd4143e9d270a159db93a4ea2a975926]\n",
       "class E9--><a href=\"psysml:79fb73d3-867b-49b4-8196-8eb6e64f62f0\" target=\"_top\" title=\"psysml:79fb73d3-867b-49b4-8196-8eb6e64f62f0\" xlink:actuate=\"onRequest\" xlink:href=\"psysml:79fb73d3-867b-49b4-8196-8eb6e64f62f0\" xlink:show=\"new\" xlink:title=\"psysml:79fb73d3-867b-49b4-8196-8eb6e64f62f0\" xlink:type=\"simple\"><rect fill=\"#FFFFFF\" height=\"88.3516\" id=\"E9\" style=\"stroke: #383838; stroke-width: 1.5;\" width=\"145\" x=\"109.5\" y=\"41\"/><text fill=\"#000000\" font-family=\"sans-serif\" font-size=\"12\" font-style=\"italic\" lengthAdjust=\"spacingAndGlyphs\" textLength=\"115\" x=\"124.5\" y=\"57.1387\">«requirement def»</text><text fill=\"#000000\" font-family=\"sans-serif\" font-size=\"12\" lengthAdjust=\"spacingAndGlyphs\" textLength=\"16\" x=\"174\" y=\"71.1074\">R1</text><line style=\"stroke: #383838; stroke-width: 1.5;\" x1=\"110.5\" x2=\"253.5\" y1=\"78.9375\" y2=\"78.9375\"/><text fill=\"#000000\" font-family=\"sans-serif\" font-size=\"11\" font-weight=\"bold\" lengthAdjust=\"spacingAndGlyphs\" textLength=\"46\" x=\"115.5\" y=\"109.9526\">require</text><text fill=\"#000000\" font-family=\"sans-serif\" font-size=\"11\" lengthAdjust=\"spacingAndGlyphs\" textLength=\"13\" x=\"165.5\" y=\"109.9526\">c1</text><text fill=\"#000000\" font-family=\"sans-serif\" font-size=\"11\" font-style=\"italic\" lengthAdjust=\"spacingAndGlyphs\" textLength=\"133\" x=\"115.5\" y=\"122.7573\">:&gt;&gt;RequirementTest::c</text><line style=\"stroke: #383838; stroke-width: 1.0;\" x1=\"110.5\" x2=\"150\" y1=\"93.3398\" y2=\"93.3398\"/><text fill=\"#000000\" font-family=\"sans-serif\" font-size=\"11\" lengthAdjust=\"spacingAndGlyphs\" textLength=\"64\" x=\"150\" y=\"96.6479\">constraints</text><line style=\"stroke: #383838; stroke-width: 1.0;\" x1=\"214\" x2=\"253.5\" y1=\"93.3398\" y2=\"93.3398\"/></a><!--MD5=[1dd1bfd58a279cf63c5f349dbc8fc6a1]\n",
       "class E11--><a href=\"psysml:510a33c1-eff7-4e5e-90b4-a63ef5b72ae6\" target=\"_top\" title=\"psysml:510a33c1-eff7-4e5e-90b4-a63ef5b72ae6\" xlink:actuate=\"onRequest\" xlink:href=\"psysml:510a33c1-eff7-4e5e-90b4-a63ef5b72ae6\" xlink:show=\"new\" xlink:title=\"psysml:510a33c1-eff7-4e5e-90b4-a63ef5b72ae6\" xlink:type=\"simple\"><rect fill=\"#FFFFFF\" height=\"45.9375\" id=\"E11\" rx=\"10\" ry=\"10\" style=\"stroke: #383838; stroke-width: 1.5;\" width=\"42\" x=\"185\" y=\"344.5\"/><text fill=\"#000000\" font-family=\"sans-serif\" font-size=\"12\" font-style=\"italic\" lengthAdjust=\"spacingAndGlyphs\" textLength=\"40\" x=\"186\" y=\"360.6387\">«part»</text><text fill=\"#000000\" font-family=\"sans-serif\" font-size=\"12\" lengthAdjust=\"spacingAndGlyphs\" textLength=\"8\" x=\"202\" y=\"374.6074\">p</text><line style=\"stroke: #383838; stroke-width: 1.5;\" x1=\"186\" x2=\"226\" y1=\"382.4375\" y2=\"382.4375\"/></a><!--MD5=[49a0ec8f00dab7302a31f22d0f0fe584]\n",
       "class E12--><a href=\"psysml:a6cd5ff6-20a0-4014-8266-5a2f114de57c\" target=\"_top\" title=\"psysml:a6cd5ff6-20a0-4014-8266-5a2f114de57c\" xlink:actuate=\"onRequest\" xlink:href=\"psysml:a6cd5ff6-20a0-4014-8266-5a2f114de57c\" xlink:show=\"new\" xlink:title=\"psysml:a6cd5ff6-20a0-4014-8266-5a2f114de57c\" xlink:type=\"simple\"><rect fill=\"#FFFFFF\" height=\"45.9375\" id=\"E12\" rx=\"10\" ry=\"10\" style=\"stroke: #383838; stroke-width: 1.5;\" width=\"42\" x=\"32\" y=\"62\"/><text fill=\"#000000\" font-family=\"sans-serif\" font-size=\"12\" font-style=\"italic\" lengthAdjust=\"spacingAndGlyphs\" textLength=\"40\" x=\"33\" y=\"78.1387\">«part»</text><text fill=\"#000000\" font-family=\"sans-serif\" font-size=\"12\" lengthAdjust=\"spacingAndGlyphs\" textLength=\"8\" x=\"49\" y=\"92.1074\">q</text><line style=\"stroke: #383838; stroke-width: 1.5;\" x1=\"33\" x2=\"73\" y1=\"99.9375\" y2=\"99.9375\"/></a><!--MD5=[ee3c913d1a06f366521f9ef512b67efe]\n",
       "class E13--><a href=\"psysml:50b94a4a-7c4d-4845-a3da-b360d2df1f8c\" target=\"_top\" title=\"psysml:50b94a4a-7c4d-4845-a3da-b360d2df1f8c\" xlink:actuate=\"onRequest\" xlink:href=\"psysml:50b94a4a-7c4d-4845-a3da-b360d2df1f8c\" xlink:show=\"new\" xlink:title=\"psysml:50b94a4a-7c4d-4845-a3da-b360d2df1f8c\" xlink:type=\"simple\"><rect fill=\"#FFFFFF\" height=\"45.9375\" id=\"E13\" rx=\"10\" ry=\"10\" style=\"stroke: #383838; stroke-width: 1.5;\" width=\"93\" x=\"44.5\" y=\"190\"/><text fill=\"#000000\" font-family=\"sans-serif\" font-size=\"12\" font-style=\"italic\" lengthAdjust=\"spacingAndGlyphs\" textLength=\"91\" x=\"45.5\" y=\"206.1387\">«requirement»</text><text fill=\"#000000\" font-family=\"sans-serif\" font-size=\"12\" lengthAdjust=\"spacingAndGlyphs\" textLength=\"21\" x=\"80.5\" y=\"220.1074\">r: R</text><line style=\"stroke: #383838; stroke-width: 1.5;\" x1=\"45.5\" x2=\"136.5\" y1=\"227.9375\" y2=\"227.9375\"/></a><!--MD5=[05d275557350bfb9b23a4ef7222b4c39]\n",
       "link E3 to E2--><a href=\"psysml:e8229714-231f-4f2a-9005-056b1e69efb5\" target=\"_top\" title=\"psysml:e8229714-231f-4f2a-9005-056b1e69efb5\" xlink:actuate=\"onRequest\" xlink:href=\"psysml:e8229714-231f-4f2a-9005-056b1e69efb5\" xlink:show=\"new\" xlink:title=\"psysml:e8229714-231f-4f2a-9005-056b1e69efb5\" xlink:type=\"simple\"><path d=\"M327.88,108.24 C326.26,125.24 323.98,149.19 322.02,169.79 \" fill=\"none\" id=\"E3-&gt;E2\" style=\"stroke: #383838; stroke-width: 1.0;\"/><polygon fill=\"#FFFFFF\" points=\"320.1,189.99,314.9362,170.411,328.8729,171.7407,320.1,189.99\" style=\"stroke: #383838; stroke-width: 1.0;\"/><ellipse cx=\"317.4685\" cy=\"164.9268\" fill=\"#383838\" rx=\"2\" ry=\"2\" style=\"stroke: #383838; stroke-width: 1.0;\"/><ellipse cx=\"327.4233\" cy=\"165.8765\" fill=\"#383838\" rx=\"2\" ry=\"2\" style=\"stroke: #383838; stroke-width: 1.0;\"/></a><!--MD5=[722ff4eef345aa10242dad44df0e98c7]\n",
       "reverse link E4 to E7--><a href=\"psysml:eafce8af-10f9-4af7-9431-7513cc7d3347\" target=\"_top\" title=\"psysml:eafce8af-10f9-4af7-9431-7513cc7d3347\" xlink:actuate=\"onRequest\" xlink:href=\"psysml:eafce8af-10f9-4af7-9431-7513cc7d3347\" xlink:show=\"new\" xlink:title=\"psysml:eafce8af-10f9-4af7-9431-7513cc7d3347\" xlink:type=\"simple\"><path d=\"M86.44,435.59 C85.02,456.46 83.55,478.02 82.5,493.48 \" fill=\"none\" id=\"E4&lt;-E7\" style=\"stroke: #383838; stroke-width: 1.0;\"/><polygon fill=\"#383838\" points=\"87.33,422.4,82.9306,428.1136,86.5125,434.3721,90.912,428.6586,87.33,422.4\" style=\"stroke: #383838; stroke-width: 1.0;\"/></a><!--MD5=[c6fc7cdb0cabde04948078cf183fa696]\n",
       "reverse link E4 to E8--><a href=\"psysml:a0130814-5dc8-48af-af1a-9e985463643e\" target=\"_top\" title=\"psysml:a0130814-5dc8-48af-af1a-9e985463643e\" xlink:actuate=\"onRequest\" xlink:href=\"psysml:a0130814-5dc8-48af-af1a-9e985463643e\" xlink:show=\"new\" xlink:title=\"psysml:a0130814-5dc8-48af-af1a-9e985463643e\" xlink:type=\"simple\"><path d=\"M148.94,434.02 C163.95,450.99 179.47,468.53 192.24,482.98 \" fill=\"none\" id=\"E4&lt;-E8\" style=\"stroke: #383838; stroke-width: 1.0;\"/><ellipse cx=\"143.9698\" cy=\"428.3927\" fill=\"#FFFFFF\" rx=\"8\" ry=\"8\" style=\"stroke: #383838; stroke-width: 1.0;\"/><line style=\"stroke: #383838; stroke-width: 1.0;\" x1=\"149.2695\" x2=\"138.67\" y1=\"434.3854\" y2=\"422.4\"/><line style=\"stroke: #383838; stroke-width: 1.0;\" x1=\"137.9771\" x2=\"149.9625\" y1=\"433.6925\" y2=\"423.0929\"/></a><!--MD5=[062ed86c389d1a88f61c6380d0491e17]\n",
       "reverse link E12 to E13--><a href=\"psysml:044b978f-2385-4425-992f-2d75b645c055\" target=\"_top\" title=\"psysml:044b978f-2385-4425-992f-2d75b645c055\" xlink:actuate=\"onRequest\" xlink:href=\"psysml:044b978f-2385-4425-992f-2d75b645c055\" xlink:show=\"new\" xlink:title=\"psysml:044b978f-2385-4425-992f-2d75b645c055\" xlink:type=\"simple\"><path d=\"M63.49,120.8 C70.17,142.92 78.6,170.89 84.36,189.99 \" fill=\"none\" id=\"E12&lt;-E13\" style=\"stroke: #383838; stroke-width: 1.0;\"/><polygon fill=\"#383838\" points=\"59.71,108.24,57.6129,115.1394,63.1751,119.7288,65.2722,112.8294,59.71,108.24\" style=\"stroke: #383838; stroke-width: 1.0;\"/></a><!--MD5=[017847e01ff9a8bd19f247411074f987]\n",
       "link E13 to E4--><a href=\"psysml:279d9c9b-21cb-4076-8967-339bf6a79b4c\" target=\"_top\" title=\"psysml:279d9c9b-21cb-4076-8967-339bf6a79b4c\" xlink:actuate=\"onRequest\" xlink:href=\"psysml:279d9c9b-21cb-4076-8967-339bf6a79b4c\" xlink:show=\"new\" xlink:title=\"psysml:279d9c9b-21cb-4076-8967-339bf6a79b4c\" xlink:type=\"simple\"><path d=\"M91,236.17 C91,251.17 91,271.91 91,292.44 \" fill=\"none\" id=\"E13-&gt;E4\" style=\"stroke: #383838; stroke-width: 1.0;\"/><polygon fill=\"#FFFFFF\" points=\"91,312.68,84,293.68,98,293.68,91,312.68\" style=\"stroke: #383838; stroke-width: 1.0;\"/><ellipse cx=\"86\" cy=\"287.98\" fill=\"#383838\" rx=\"2\" ry=\"2\" style=\"stroke: #383838; stroke-width: 1.0;\"/><ellipse cx=\"96\" cy=\"287.98\" fill=\"#383838\" rx=\"2\" ry=\"2\" style=\"stroke: #383838; stroke-width: 1.0;\"/></a><!--MD5=[2cfe899c895462254056921bfb67315f]\n",
       "link E13 to E11--><a href=\"psysml:fcf36e7c-2665-4a1d-8cf4-6fcc5b08ef04\" target=\"_top\" title=\"psysml:fcf36e7c-2665-4a1d-8cf4-6fcc5b08ef04\" xlink:actuate=\"onRequest\" xlink:href=\"psysml:fcf36e7c-2665-4a1d-8cf4-6fcc5b08ef04\" xlink:show=\"new\" xlink:title=\"psysml:fcf36e7c-2665-4a1d-8cf4-6fcc5b08ef04\" xlink:type=\"simple\"><path d=\"M108.36,236.29 C123.87,256.28 147.14,286.45 167,313 C173.57,321.78 180.66,331.44 186.97,340.12 \" fill=\"none\" id=\"E13-&gt;E11\" style=\"stroke: #383838; stroke-width: 1.0; stroke-dasharray: 7.0,7.0;\"/><polygon fill=\"#383838\" points=\"189.99,344.28,187.9274,334.6496,187.0474,340.2376,181.4594,339.3576,189.99,344.28\" style=\"stroke: #383838; stroke-width: 1.0;\"/><text fill=\"#000000\" font-family=\"sans-serif\" font-size=\"13\" lengthAdjust=\"spacingAndGlyphs\" textLength=\"57\" x=\"145\" y=\"279.0669\">«satisfy»</text></a><!--MD5=[592f77e4dc9b0bf3dc20e00fe61fcea6]\n",
       "@startuml\r\n",
       " skinparam monochrome true\r\n",
       "skinparam classbackgroundcolor white\r\n",
       "skinparam shadowing false\r\n",
       "skinparam wrapWidth 300\r\n",
       "hide circle\r\n",
       "\r\n",
       "package \"RequirementTest\" as E1  [[psysml:f822a5b9-f637-4bfc-9356-d45755be39c3 ]]  {\r\n",
       "comp def \"C\" as E2  <<(T,blue)constraint def>> [[psysml:55e0c843-cabd-4238-9430-5e5ddb37e322 ]] {\r\n",
       "}\r\n",
       "comp usage \"c: C\" as E3  <<(T,blue)constraint>> [[psysml:943270d7-f648-4f2b-99ed-798f0a01be75 ]] {\r\n",
       "}\r\n",
       "comp def \"R\" as E4  <<(T,blue)requirement def>> [[psysml:3547be1a-4b91-4a24-a66e-ac992d912d25 ]] {\r\n",
       "\r\n",
       "- -\r\n",
       "- - constraints - -\r\n",
       "<b>require</b> c\r\n",
       "<i>assume</i> c1: C\r\n",
       "}\r\n",
       "comp usage \"<s>noname</s>\" as E7  <<(T,blue)requirement>> [[psysml:5cc59123-afbd-4e9a-96fa-0bfa0b631260 ]] {\r\n",
       "}\r\n",
       "comp def \" [<b>1</b>] A\" as E8  <<(T,blue)requirement def>> [[psysml:49e593a4-f39b-4803-a2ce-02c26b916197 ]] {\r\n",
       "Text\r\n",
       "- -\r\n",
       "}\r\n",
       "comp def \"R1\" as E9  <<(T,blue)requirement def>> [[psysml:79fb73d3-867b-49b4-8196-8eb6e64f62f0 ]] {\r\n",
       "- - constraints - -\r\n",
       "<b>require</b> c1\\n//:>>RequirementTest::c// \r\n",
       "}\r\n",
       "comp usage \"p\" as E11  <<(T,blue)part>> [[psysml:510a33c1-eff7-4e5e-90b4-a63ef5b72ae6 ]] {\r\n",
       "}\r\n",
       "comp usage \"q\" as E12  <<(T,blue)part>> [[psysml:a6cd5ff6-20a0-4014-8266-5a2f114de57c ]] {\r\n",
       "}\r\n",
       "comp usage \"r: R\" as E13  <<(T,blue)requirement>> [[psysml:50b94a4a-7c4d-4845-a3da-b360d2df1f8c ]] {\r\n",
       "}\r\n",
       "E3 - -:|> E2 [[psysml:e8229714-231f-4f2a-9005-056b1e69efb5 ]] \r\n",
       "E4 *- - E7 [[psysml:eafce8af-10f9-4af7-9431-7513cc7d3347 ]] \r\n",
       "E4 +- - E8 [[psysml:a0130814-5dc8-48af-af1a-9e985463643e ]] \r\n",
       "E12 *- - E13 [[psysml:044b978f-2385-4425-992f-2d75b645c055 ]] \r\n",
       "E13 - -:|> E4 [[psysml:279d9c9b-21cb-4076-8967-339bf6a79b4c ]] \r\n",
       "E13 ..> E11 [[psysml:fcf36e7c-2665-4a1d-8cf4-6fcc5b08ef04 ]] : <<satisfy>>\r\n",
       "}\r\n",
       "@enduml\r\n",
       "\n",
       "PlantUML version 1.2020.13(Sat Jun 13 12:26:38 UTC 2020)\n",
       "(EPL source distribution)\n",
       "Java Runtime: OpenJDK Runtime Environment\n",
       "JVM: OpenJDK 64-Bit Server VM\n",
       "Default Encoding: UTF-8\n",
       "Language: en\n",
       "Country: null\n",
       "--></g></svg>"
      ]
     },
     "execution_count": 7,
     "metadata": {},
     "output_type": "execute_result"
    }
   ],
   "source": [
    "%viz --style=\"COMPTREE\" --view=\"Sequence\" \"RequirementTest\""
   ]
  },
  {
   "cell_type": "code",
   "execution_count": 8,
   "id": "70a37e31",
   "metadata": {
    "execution": {
     "iopub.execute_input": "2021-04-21T20:21:26.118444Z",
     "iopub.status.busy": "2021-04-21T20:21:26.117923Z",
     "iopub.status.idle": "2021-04-21T20:21:26.288651Z",
     "shell.execute_reply": "2021-04-21T20:21:26.289078Z"
    }
   },
   "outputs": [
    {
     "data": {
      "image/svg+xml": [
       "<?xml version=\"1.0\" encoding=\"UTF-8\" standalone=\"no\"?><svg xmlns=\"http://www.w3.org/2000/svg\" xmlns:xlink=\"http://www.w3.org/1999/xlink\" contentScriptType=\"application/ecmascript\" contentStyleType=\"text/css\" height=\"578px\" preserveAspectRatio=\"none\" style=\"width:408px;height:578px;\" version=\"1.1\" viewBox=\"0 0 408 578\" width=\"408px\" zoomAndPan=\"magnify\"><defs/><g><!--MD5=[fbc87193dbaf4d95561dea2c320d4a47]\n",
       "cluster E1--><a href=\"psysml:f822a5b9-f637-4bfc-9356-d45755be39c3\" target=\"_top\" title=\"psysml:f822a5b9-f637-4bfc-9356-d45755be39c3\" xlink:actuate=\"onRequest\" xlink:href=\"psysml:f822a5b9-f637-4bfc-9356-d45755be39c3\" xlink:show=\"new\" xlink:title=\"psysml:f822a5b9-f637-4bfc-9356-d45755be39c3\" xlink:type=\"simple\"><polygon fill=\"#FFFFFF\" points=\"16,6,158,6,165,28.2969,386,28.2969,386,566,16,566,16,6\" style=\"stroke: #000000; stroke-width: 1.5;\"/><line style=\"stroke: #000000; stroke-width: 1.5;\" x1=\"16\" x2=\"165\" y1=\"28.2969\" y2=\"28.2969\"/><text fill=\"#000000\" font-family=\"sans-serif\" font-size=\"14\" font-weight=\"bold\" lengthAdjust=\"spacingAndGlyphs\" textLength=\"136\" x=\"20\" y=\"20.9951\">RequirementTest</text></a><!--MD5=[b4997ac47864f28c2f74865a473b2911]\n",
       "class E2--><a href=\"psysml:55e0c843-cabd-4238-9430-5e5ddb37e322\" target=\"_top\" title=\"psysml:55e0c843-cabd-4238-9430-5e5ddb37e322\" xlink:actuate=\"onRequest\" xlink:href=\"psysml:55e0c843-cabd-4238-9430-5e5ddb37e322\" xlink:show=\"new\" xlink:title=\"psysml:55e0c843-cabd-4238-9430-5e5ddb37e322\" xlink:type=\"simple\"><rect fill=\"#FFFFFF\" height=\"45.9375\" id=\"E2\" style=\"stroke: #383838; stroke-width: 1.5;\" width=\"104\" x=\"266\" y=\"190\"/><text fill=\"#000000\" font-family=\"sans-serif\" font-size=\"12\" font-style=\"italic\" lengthAdjust=\"spacingAndGlyphs\" textLength=\"102\" x=\"267\" y=\"206.1387\">«constraint def»</text><text fill=\"#000000\" font-family=\"sans-serif\" font-size=\"12\" lengthAdjust=\"spacingAndGlyphs\" textLength=\"8\" x=\"314\" y=\"220.1074\">C</text><line style=\"stroke: #383838; stroke-width: 1.5;\" x1=\"267\" x2=\"369\" y1=\"227.9375\" y2=\"227.9375\"/></a><!--MD5=[09b614a08d8cba4a07c9adeb5e0fee81]\n",
       "class E3--><a href=\"psysml:943270d7-f648-4f2b-99ed-798f0a01be75\" target=\"_top\" title=\"psysml:943270d7-f648-4f2b-99ed-798f0a01be75\" xlink:actuate=\"onRequest\" xlink:href=\"psysml:943270d7-f648-4f2b-99ed-798f0a01be75\" xlink:show=\"new\" xlink:title=\"psysml:943270d7-f648-4f2b-99ed-798f0a01be75\" xlink:type=\"simple\"><rect fill=\"#FFFFFF\" height=\"45.9375\" id=\"E3\" rx=\"10\" ry=\"10\" style=\"stroke: #383838; stroke-width: 1.5;\" width=\"80\" x=\"290\" y=\"62\"/><text fill=\"#000000\" font-family=\"sans-serif\" font-size=\"12\" font-style=\"italic\" lengthAdjust=\"spacingAndGlyphs\" textLength=\"78\" x=\"291\" y=\"78.1387\">«constraint»</text><text fill=\"#000000\" font-family=\"sans-serif\" font-size=\"12\" lengthAdjust=\"spacingAndGlyphs\" textLength=\"23\" x=\"318.5\" y=\"92.1074\">c: C</text><line style=\"stroke: #383838; stroke-width: 1.5;\" x1=\"291\" x2=\"369\" y1=\"99.9375\" y2=\"99.9375\"/></a><!--MD5=[ebbe1d658d1005bcc118a6aa81145e00]\n",
       "class E4--><a href=\"psysml:3547be1a-4b91-4a24-a66e-ac992d912d25\" target=\"_top\" title=\"psysml:3547be1a-4b91-4a24-a66e-ac992d912d25\" xlink:actuate=\"onRequest\" xlink:href=\"psysml:3547be1a-4b91-4a24-a66e-ac992d912d25\" xlink:show=\"new\" xlink:title=\"psysml:3547be1a-4b91-4a24-a66e-ac992d912d25\" xlink:type=\"simple\"><rect fill=\"#FFFFFF\" height=\"109.1563\" id=\"E4\" style=\"stroke: #383838; stroke-width: 1.5;\" width=\"117\" x=\"32.5\" y=\"313\"/><text fill=\"#000000\" font-family=\"sans-serif\" font-size=\"12\" font-style=\"italic\" lengthAdjust=\"spacingAndGlyphs\" textLength=\"115\" x=\"33.5\" y=\"329.1387\">«requirement def»</text><text fill=\"#000000\" font-family=\"sans-serif\" font-size=\"12\" lengthAdjust=\"spacingAndGlyphs\" textLength=\"8\" x=\"87\" y=\"343.1074\">R</text><line style=\"stroke: #383838; stroke-width: 1.5;\" x1=\"33.5\" x2=\"148.5\" y1=\"350.9375\" y2=\"350.9375\"/><text fill=\"#000000\" font-family=\"sans-serif\" font-size=\"11\" lengthAdjust=\"spacingAndGlyphs\" textLength=\"0\" x=\"42.5\" y=\"365.1479\"/><line style=\"stroke: #383838; stroke-width: 1.0;\" x1=\"33.5\" x2=\"148.5\" y1=\"371.7422\" y2=\"371.7422\"/><text fill=\"#000000\" font-family=\"sans-serif\" font-size=\"11\" font-weight=\"bold\" lengthAdjust=\"spacingAndGlyphs\" textLength=\"46\" x=\"38.5\" y=\"402.7573\">require</text><text fill=\"#000000\" font-family=\"sans-serif\" font-size=\"11\" lengthAdjust=\"spacingAndGlyphs\" textLength=\"6\" x=\"88.5\" y=\"402.7573\">c</text><text fill=\"#000000\" font-family=\"sans-serif\" font-size=\"11\" font-style=\"italic\" lengthAdjust=\"spacingAndGlyphs\" textLength=\"46\" x=\"38.5\" y=\"415.562\">assume</text><text fill=\"#000000\" font-family=\"sans-serif\" font-size=\"11\" lengthAdjust=\"spacingAndGlyphs\" textLength=\"29\" x=\"88.5\" y=\"415.562\">c1: C</text><line style=\"stroke: #383838; stroke-width: 1.0;\" x1=\"33.5\" x2=\"59\" y1=\"386.1445\" y2=\"386.1445\"/><text fill=\"#000000\" font-family=\"sans-serif\" font-size=\"11\" lengthAdjust=\"spacingAndGlyphs\" textLength=\"64\" x=\"59\" y=\"389.4526\">constraints</text><line style=\"stroke: #383838; stroke-width: 1.0;\" x1=\"123\" x2=\"148.5\" y1=\"386.1445\" y2=\"386.1445\"/></a><!--MD5=[2156ba9850f5573cc1fc38a6a4b2f02b]\n",
       "class E7--><a href=\"psysml:5cc59123-afbd-4e9a-96fa-0bfa0b631260\" target=\"_top\" title=\"psysml:5cc59123-afbd-4e9a-96fa-0bfa0b631260\" xlink:actuate=\"onRequest\" xlink:href=\"psysml:5cc59123-afbd-4e9a-96fa-0bfa0b631260\" xlink:show=\"new\" xlink:title=\"psysml:5cc59123-afbd-4e9a-96fa-0bfa0b631260\" xlink:type=\"simple\"><rect fill=\"#FFFFFF\" height=\"45.9375\" id=\"E7\" rx=\"10\" ry=\"10\" style=\"stroke: #383838; stroke-width: 1.5;\" width=\"93\" x=\"34.5\" y=\"493.5\"/><text fill=\"#000000\" font-family=\"sans-serif\" font-size=\"12\" font-style=\"italic\" lengthAdjust=\"spacingAndGlyphs\" textLength=\"91\" x=\"35.5\" y=\"509.6387\">«requirement»</text><text fill=\"#000000\" font-family=\"sans-serif\" font-size=\"12\" lengthAdjust=\"spacingAndGlyphs\" text-decoration=\"line-through\" textLength=\"51\" x=\"55.5\" y=\"523.6074\">noname</text><line style=\"stroke: #383838; stroke-width: 1.5;\" x1=\"35.5\" x2=\"126.5\" y1=\"531.4375\" y2=\"531.4375\"/></a><!--MD5=[b9389687b975829384b498ac4b7476b2]\n",
       "class E8--><a href=\"psysml:49e593a4-f39b-4803-a2ce-02c26b916197\" target=\"_top\" title=\"psysml:49e593a4-f39b-4803-a2ce-02c26b916197\" xlink:actuate=\"onRequest\" xlink:href=\"psysml:49e593a4-f39b-4803-a2ce-02c26b916197\" xlink:show=\"new\" xlink:title=\"psysml:49e593a4-f39b-4803-a2ce-02c26b916197\" xlink:type=\"simple\"><rect fill=\"#FFFFFF\" height=\"66.7422\" id=\"E8\" style=\"stroke: #383838; stroke-width: 1.5;\" width=\"117\" x=\"162.5\" y=\"483\"/><text fill=\"#000000\" font-family=\"sans-serif\" font-size=\"12\" font-style=\"italic\" lengthAdjust=\"spacingAndGlyphs\" textLength=\"115\" x=\"163.5\" y=\"499.1387\">«requirement def»</text><text fill=\"#000000\" font-family=\"sans-serif\" font-size=\"12\" lengthAdjust=\"spacingAndGlyphs\" textLength=\"5\" x=\"208\" y=\"513.1074\">[</text><text fill=\"#000000\" font-family=\"sans-serif\" font-size=\"12\" font-weight=\"bold\" lengthAdjust=\"spacingAndGlyphs\" textLength=\"8\" x=\"213\" y=\"513.1074\">1</text><text fill=\"#000000\" font-family=\"sans-serif\" font-size=\"12\" lengthAdjust=\"spacingAndGlyphs\" textLength=\"17\" x=\"221\" y=\"513.1074\">] A</text><line style=\"stroke: #383838; stroke-width: 1.5;\" x1=\"163.5\" x2=\"278.5\" y1=\"520.9375\" y2=\"520.9375\"/><text fill=\"#000000\" font-family=\"sans-serif\" font-size=\"11\" lengthAdjust=\"spacingAndGlyphs\" textLength=\"24\" x=\"168.5\" y=\"535.1479\">Text</text><line style=\"stroke: #383838; stroke-width: 1.0;\" x1=\"163.5\" x2=\"278.5\" y1=\"541.7422\" y2=\"541.7422\"/></a><!--MD5=[fd4143e9d270a159db93a4ea2a975926]\n",
       "class E9--><a href=\"psysml:79fb73d3-867b-49b4-8196-8eb6e64f62f0\" target=\"_top\" title=\"psysml:79fb73d3-867b-49b4-8196-8eb6e64f62f0\" xlink:actuate=\"onRequest\" xlink:href=\"psysml:79fb73d3-867b-49b4-8196-8eb6e64f62f0\" xlink:show=\"new\" xlink:title=\"psysml:79fb73d3-867b-49b4-8196-8eb6e64f62f0\" xlink:type=\"simple\"><rect fill=\"#FFFFFF\" height=\"88.3516\" id=\"E9\" style=\"stroke: #383838; stroke-width: 1.5;\" width=\"145\" x=\"109.5\" y=\"41\"/><text fill=\"#000000\" font-family=\"sans-serif\" font-size=\"12\" font-style=\"italic\" lengthAdjust=\"spacingAndGlyphs\" textLength=\"115\" x=\"124.5\" y=\"57.1387\">«requirement def»</text><text fill=\"#000000\" font-family=\"sans-serif\" font-size=\"12\" lengthAdjust=\"spacingAndGlyphs\" textLength=\"16\" x=\"174\" y=\"71.1074\">R1</text><line style=\"stroke: #383838; stroke-width: 1.5;\" x1=\"110.5\" x2=\"253.5\" y1=\"78.9375\" y2=\"78.9375\"/><text fill=\"#000000\" font-family=\"sans-serif\" font-size=\"11\" font-weight=\"bold\" lengthAdjust=\"spacingAndGlyphs\" textLength=\"46\" x=\"115.5\" y=\"109.9526\">require</text><text fill=\"#000000\" font-family=\"sans-serif\" font-size=\"11\" lengthAdjust=\"spacingAndGlyphs\" textLength=\"13\" x=\"165.5\" y=\"109.9526\">c1</text><text fill=\"#000000\" font-family=\"sans-serif\" font-size=\"11\" font-style=\"italic\" lengthAdjust=\"spacingAndGlyphs\" textLength=\"133\" x=\"115.5\" y=\"122.7573\">:&gt;&gt;RequirementTest::c</text><line style=\"stroke: #383838; stroke-width: 1.0;\" x1=\"110.5\" x2=\"150\" y1=\"93.3398\" y2=\"93.3398\"/><text fill=\"#000000\" font-family=\"sans-serif\" font-size=\"11\" lengthAdjust=\"spacingAndGlyphs\" textLength=\"64\" x=\"150\" y=\"96.6479\">constraints</text><line style=\"stroke: #383838; stroke-width: 1.0;\" x1=\"214\" x2=\"253.5\" y1=\"93.3398\" y2=\"93.3398\"/></a><!--MD5=[1dd1bfd58a279cf63c5f349dbc8fc6a1]\n",
       "class E11--><a href=\"psysml:510a33c1-eff7-4e5e-90b4-a63ef5b72ae6\" target=\"_top\" title=\"psysml:510a33c1-eff7-4e5e-90b4-a63ef5b72ae6\" xlink:actuate=\"onRequest\" xlink:href=\"psysml:510a33c1-eff7-4e5e-90b4-a63ef5b72ae6\" xlink:show=\"new\" xlink:title=\"psysml:510a33c1-eff7-4e5e-90b4-a63ef5b72ae6\" xlink:type=\"simple\"><rect fill=\"#FFFFFF\" height=\"45.9375\" id=\"E11\" rx=\"10\" ry=\"10\" style=\"stroke: #383838; stroke-width: 1.5;\" width=\"42\" x=\"185\" y=\"344.5\"/><text fill=\"#000000\" font-family=\"sans-serif\" font-size=\"12\" font-style=\"italic\" lengthAdjust=\"spacingAndGlyphs\" textLength=\"40\" x=\"186\" y=\"360.6387\">«part»</text><text fill=\"#000000\" font-family=\"sans-serif\" font-size=\"12\" lengthAdjust=\"spacingAndGlyphs\" textLength=\"8\" x=\"202\" y=\"374.6074\">p</text><line style=\"stroke: #383838; stroke-width: 1.5;\" x1=\"186\" x2=\"226\" y1=\"382.4375\" y2=\"382.4375\"/></a><!--MD5=[49a0ec8f00dab7302a31f22d0f0fe584]\n",
       "class E12--><a href=\"psysml:a6cd5ff6-20a0-4014-8266-5a2f114de57c\" target=\"_top\" title=\"psysml:a6cd5ff6-20a0-4014-8266-5a2f114de57c\" xlink:actuate=\"onRequest\" xlink:href=\"psysml:a6cd5ff6-20a0-4014-8266-5a2f114de57c\" xlink:show=\"new\" xlink:title=\"psysml:a6cd5ff6-20a0-4014-8266-5a2f114de57c\" xlink:type=\"simple\"><rect fill=\"#FFFFFF\" height=\"45.9375\" id=\"E12\" rx=\"10\" ry=\"10\" style=\"stroke: #383838; stroke-width: 1.5;\" width=\"42\" x=\"32\" y=\"62\"/><text fill=\"#000000\" font-family=\"sans-serif\" font-size=\"12\" font-style=\"italic\" lengthAdjust=\"spacingAndGlyphs\" textLength=\"40\" x=\"33\" y=\"78.1387\">«part»</text><text fill=\"#000000\" font-family=\"sans-serif\" font-size=\"12\" lengthAdjust=\"spacingAndGlyphs\" textLength=\"8\" x=\"49\" y=\"92.1074\">q</text><line style=\"stroke: #383838; stroke-width: 1.5;\" x1=\"33\" x2=\"73\" y1=\"99.9375\" y2=\"99.9375\"/></a><!--MD5=[ee3c913d1a06f366521f9ef512b67efe]\n",
       "class E13--><a href=\"psysml:50b94a4a-7c4d-4845-a3da-b360d2df1f8c\" target=\"_top\" title=\"psysml:50b94a4a-7c4d-4845-a3da-b360d2df1f8c\" xlink:actuate=\"onRequest\" xlink:href=\"psysml:50b94a4a-7c4d-4845-a3da-b360d2df1f8c\" xlink:show=\"new\" xlink:title=\"psysml:50b94a4a-7c4d-4845-a3da-b360d2df1f8c\" xlink:type=\"simple\"><rect fill=\"#FFFFFF\" height=\"45.9375\" id=\"E13\" rx=\"10\" ry=\"10\" style=\"stroke: #383838; stroke-width: 1.5;\" width=\"93\" x=\"44.5\" y=\"190\"/><text fill=\"#000000\" font-family=\"sans-serif\" font-size=\"12\" font-style=\"italic\" lengthAdjust=\"spacingAndGlyphs\" textLength=\"91\" x=\"45.5\" y=\"206.1387\">«requirement»</text><text fill=\"#000000\" font-family=\"sans-serif\" font-size=\"12\" lengthAdjust=\"spacingAndGlyphs\" textLength=\"21\" x=\"80.5\" y=\"220.1074\">r: R</text><line style=\"stroke: #383838; stroke-width: 1.5;\" x1=\"45.5\" x2=\"136.5\" y1=\"227.9375\" y2=\"227.9375\"/></a><!--MD5=[05d275557350bfb9b23a4ef7222b4c39]\n",
       "link E3 to E2--><a href=\"psysml:e8229714-231f-4f2a-9005-056b1e69efb5\" target=\"_top\" title=\"psysml:e8229714-231f-4f2a-9005-056b1e69efb5\" xlink:actuate=\"onRequest\" xlink:href=\"psysml:e8229714-231f-4f2a-9005-056b1e69efb5\" xlink:show=\"new\" xlink:title=\"psysml:e8229714-231f-4f2a-9005-056b1e69efb5\" xlink:type=\"simple\"><path d=\"M327.88,108.24 C326.26,125.24 323.98,149.19 322.02,169.79 \" fill=\"none\" id=\"E3-&gt;E2\" style=\"stroke: #383838; stroke-width: 1.0;\"/><polygon fill=\"#FFFFFF\" points=\"320.1,189.99,314.9362,170.411,328.8729,171.7407,320.1,189.99\" style=\"stroke: #383838; stroke-width: 1.0;\"/><ellipse cx=\"317.4685\" cy=\"164.9268\" fill=\"#383838\" rx=\"2\" ry=\"2\" style=\"stroke: #383838; stroke-width: 1.0;\"/><ellipse cx=\"327.4233\" cy=\"165.8765\" fill=\"#383838\" rx=\"2\" ry=\"2\" style=\"stroke: #383838; stroke-width: 1.0;\"/></a><!--MD5=[722ff4eef345aa10242dad44df0e98c7]\n",
       "reverse link E4 to E7--><a href=\"psysml:eafce8af-10f9-4af7-9431-7513cc7d3347\" target=\"_top\" title=\"psysml:eafce8af-10f9-4af7-9431-7513cc7d3347\" xlink:actuate=\"onRequest\" xlink:href=\"psysml:eafce8af-10f9-4af7-9431-7513cc7d3347\" xlink:show=\"new\" xlink:title=\"psysml:eafce8af-10f9-4af7-9431-7513cc7d3347\" xlink:type=\"simple\"><path d=\"M86.44,435.59 C85.02,456.46 83.55,478.02 82.5,493.48 \" fill=\"none\" id=\"E4&lt;-E7\" style=\"stroke: #383838; stroke-width: 1.0;\"/><polygon fill=\"#383838\" points=\"87.33,422.4,82.9306,428.1136,86.5125,434.3721,90.912,428.6586,87.33,422.4\" style=\"stroke: #383838; stroke-width: 1.0;\"/></a><!--MD5=[c6fc7cdb0cabde04948078cf183fa696]\n",
       "reverse link E4 to E8--><a href=\"psysml:a0130814-5dc8-48af-af1a-9e985463643e\" target=\"_top\" title=\"psysml:a0130814-5dc8-48af-af1a-9e985463643e\" xlink:actuate=\"onRequest\" xlink:href=\"psysml:a0130814-5dc8-48af-af1a-9e985463643e\" xlink:show=\"new\" xlink:title=\"psysml:a0130814-5dc8-48af-af1a-9e985463643e\" xlink:type=\"simple\"><path d=\"M148.94,434.02 C163.95,450.99 179.47,468.53 192.24,482.98 \" fill=\"none\" id=\"E4&lt;-E8\" style=\"stroke: #383838; stroke-width: 1.0;\"/><ellipse cx=\"143.9698\" cy=\"428.3927\" fill=\"#FFFFFF\" rx=\"8\" ry=\"8\" style=\"stroke: #383838; stroke-width: 1.0;\"/><line style=\"stroke: #383838; stroke-width: 1.0;\" x1=\"149.2695\" x2=\"138.67\" y1=\"434.3854\" y2=\"422.4\"/><line style=\"stroke: #383838; stroke-width: 1.0;\" x1=\"137.9771\" x2=\"149.9625\" y1=\"433.6925\" y2=\"423.0929\"/></a><!--MD5=[062ed86c389d1a88f61c6380d0491e17]\n",
       "reverse link E12 to E13--><a href=\"psysml:044b978f-2385-4425-992f-2d75b645c055\" target=\"_top\" title=\"psysml:044b978f-2385-4425-992f-2d75b645c055\" xlink:actuate=\"onRequest\" xlink:href=\"psysml:044b978f-2385-4425-992f-2d75b645c055\" xlink:show=\"new\" xlink:title=\"psysml:044b978f-2385-4425-992f-2d75b645c055\" xlink:type=\"simple\"><path d=\"M63.49,120.8 C70.17,142.92 78.6,170.89 84.36,189.99 \" fill=\"none\" id=\"E12&lt;-E13\" style=\"stroke: #383838; stroke-width: 1.0;\"/><polygon fill=\"#383838\" points=\"59.71,108.24,57.6129,115.1394,63.1751,119.7288,65.2722,112.8294,59.71,108.24\" style=\"stroke: #383838; stroke-width: 1.0;\"/></a><!--MD5=[017847e01ff9a8bd19f247411074f987]\n",
       "link E13 to E4--><a href=\"psysml:279d9c9b-21cb-4076-8967-339bf6a79b4c\" target=\"_top\" title=\"psysml:279d9c9b-21cb-4076-8967-339bf6a79b4c\" xlink:actuate=\"onRequest\" xlink:href=\"psysml:279d9c9b-21cb-4076-8967-339bf6a79b4c\" xlink:show=\"new\" xlink:title=\"psysml:279d9c9b-21cb-4076-8967-339bf6a79b4c\" xlink:type=\"simple\"><path d=\"M91,236.17 C91,251.17 91,271.91 91,292.44 \" fill=\"none\" id=\"E13-&gt;E4\" style=\"stroke: #383838; stroke-width: 1.0;\"/><polygon fill=\"#FFFFFF\" points=\"91,312.68,84,293.68,98,293.68,91,312.68\" style=\"stroke: #383838; stroke-width: 1.0;\"/><ellipse cx=\"86\" cy=\"287.98\" fill=\"#383838\" rx=\"2\" ry=\"2\" style=\"stroke: #383838; stroke-width: 1.0;\"/><ellipse cx=\"96\" cy=\"287.98\" fill=\"#383838\" rx=\"2\" ry=\"2\" style=\"stroke: #383838; stroke-width: 1.0;\"/></a><!--MD5=[2cfe899c895462254056921bfb67315f]\n",
       "link E13 to E11--><a href=\"psysml:fcf36e7c-2665-4a1d-8cf4-6fcc5b08ef04\" target=\"_top\" title=\"psysml:fcf36e7c-2665-4a1d-8cf4-6fcc5b08ef04\" xlink:actuate=\"onRequest\" xlink:href=\"psysml:fcf36e7c-2665-4a1d-8cf4-6fcc5b08ef04\" xlink:show=\"new\" xlink:title=\"psysml:fcf36e7c-2665-4a1d-8cf4-6fcc5b08ef04\" xlink:type=\"simple\"><path d=\"M108.36,236.29 C123.87,256.28 147.14,286.45 167,313 C173.57,321.78 180.66,331.44 186.97,340.12 \" fill=\"none\" id=\"E13-&gt;E11\" style=\"stroke: #383838; stroke-width: 1.0; stroke-dasharray: 7.0,7.0;\"/><polygon fill=\"#383838\" points=\"189.99,344.28,187.9274,334.6496,187.0474,340.2376,181.4594,339.3576,189.99,344.28\" style=\"stroke: #383838; stroke-width: 1.0;\"/><text fill=\"#000000\" font-family=\"sans-serif\" font-size=\"13\" lengthAdjust=\"spacingAndGlyphs\" textLength=\"57\" x=\"145\" y=\"279.0669\">«satisfy»</text></a><!--MD5=[592f77e4dc9b0bf3dc20e00fe61fcea6]\n",
       "@startuml\r\n",
       " skinparam monochrome true\r\n",
       "skinparam classbackgroundcolor white\r\n",
       "skinparam shadowing false\r\n",
       "skinparam wrapWidth 300\r\n",
       "hide circle\r\n",
       "\r\n",
       "package \"RequirementTest\" as E1  [[psysml:f822a5b9-f637-4bfc-9356-d45755be39c3 ]]  {\r\n",
       "comp def \"C\" as E2  <<(T,blue)constraint def>> [[psysml:55e0c843-cabd-4238-9430-5e5ddb37e322 ]] {\r\n",
       "}\r\n",
       "comp usage \"c: C\" as E3  <<(T,blue)constraint>> [[psysml:943270d7-f648-4f2b-99ed-798f0a01be75 ]] {\r\n",
       "}\r\n",
       "comp def \"R\" as E4  <<(T,blue)requirement def>> [[psysml:3547be1a-4b91-4a24-a66e-ac992d912d25 ]] {\r\n",
       "\r\n",
       "- -\r\n",
       "- - constraints - -\r\n",
       "<b>require</b> c\r\n",
       "<i>assume</i> c1: C\r\n",
       "}\r\n",
       "comp usage \"<s>noname</s>\" as E7  <<(T,blue)requirement>> [[psysml:5cc59123-afbd-4e9a-96fa-0bfa0b631260 ]] {\r\n",
       "}\r\n",
       "comp def \" [<b>1</b>] A\" as E8  <<(T,blue)requirement def>> [[psysml:49e593a4-f39b-4803-a2ce-02c26b916197 ]] {\r\n",
       "Text\r\n",
       "- -\r\n",
       "}\r\n",
       "comp def \"R1\" as E9  <<(T,blue)requirement def>> [[psysml:79fb73d3-867b-49b4-8196-8eb6e64f62f0 ]] {\r\n",
       "- - constraints - -\r\n",
       "<b>require</b> c1\\n//:>>RequirementTest::c// \r\n",
       "}\r\n",
       "comp usage \"p\" as E11  <<(T,blue)part>> [[psysml:510a33c1-eff7-4e5e-90b4-a63ef5b72ae6 ]] {\r\n",
       "}\r\n",
       "comp usage \"q\" as E12  <<(T,blue)part>> [[psysml:a6cd5ff6-20a0-4014-8266-5a2f114de57c ]] {\r\n",
       "}\r\n",
       "comp usage \"r: R\" as E13  <<(T,blue)requirement>> [[psysml:50b94a4a-7c4d-4845-a3da-b360d2df1f8c ]] {\r\n",
       "}\r\n",
       "E3 - -:|> E2 [[psysml:e8229714-231f-4f2a-9005-056b1e69efb5 ]] \r\n",
       "E4 *- - E7 [[psysml:eafce8af-10f9-4af7-9431-7513cc7d3347 ]] \r\n",
       "E4 +- - E8 [[psysml:a0130814-5dc8-48af-af1a-9e985463643e ]] \r\n",
       "E12 *- - E13 [[psysml:044b978f-2385-4425-992f-2d75b645c055 ]] \r\n",
       "E13 - -:|> E4 [[psysml:279d9c9b-21cb-4076-8967-339bf6a79b4c ]] \r\n",
       "E13 ..> E11 [[psysml:fcf36e7c-2665-4a1d-8cf4-6fcc5b08ef04 ]] : <<satisfy>>\r\n",
       "}\r\n",
       "@enduml\r\n",
       "\n",
       "PlantUML version 1.2020.13(Sat Jun 13 12:26:38 UTC 2020)\n",
       "(EPL source distribution)\n",
       "Java Runtime: OpenJDK Runtime Environment\n",
       "JVM: OpenJDK 64-Bit Server VM\n",
       "Default Encoding: UTF-8\n",
       "Language: en\n",
       "Country: null\n",
       "--></g></svg>"
      ]
     },
     "execution_count": 8,
     "metadata": {},
     "output_type": "execute_result"
    }
   ],
   "source": [
    "%viz --style=\"COMPTREE\" --view=\"MIXED\" \"RequirementTest\""
   ]
  },
  {
   "cell_type": "code",
   "execution_count": 9,
   "id": "15ddee2d",
   "metadata": {
    "execution": {
     "iopub.execute_input": "2021-04-21T20:21:26.339332Z",
     "iopub.status.busy": "2021-04-21T20:21:26.338724Z",
     "iopub.status.idle": "2021-04-21T20:21:26.473234Z",
     "shell.execute_reply": "2021-04-21T20:21:26.473700Z"
    }
   },
   "outputs": [
    {
     "data": {
      "image/svg+xml": [
       "<?xml version=\"1.0\" encoding=\"UTF-8\" standalone=\"no\"?><svg xmlns=\"http://www.w3.org/2000/svg\" xmlns:xlink=\"http://www.w3.org/1999/xlink\" contentScriptType=\"application/ecmascript\" contentStyleType=\"text/css\" height=\"578px\" preserveAspectRatio=\"none\" style=\"width:408px;height:578px;\" version=\"1.1\" viewBox=\"0 0 408 578\" width=\"408px\" zoomAndPan=\"magnify\"><defs/><g><!--MD5=[fbc87193dbaf4d95561dea2c320d4a47]\n",
       "cluster E1--><a href=\"psysml:f822a5b9-f637-4bfc-9356-d45755be39c3\" target=\"_top\" title=\"psysml:f822a5b9-f637-4bfc-9356-d45755be39c3\" xlink:actuate=\"onRequest\" xlink:href=\"psysml:f822a5b9-f637-4bfc-9356-d45755be39c3\" xlink:show=\"new\" xlink:title=\"psysml:f822a5b9-f637-4bfc-9356-d45755be39c3\" xlink:type=\"simple\"><polygon fill=\"#FFFFFF\" points=\"16,6,158,6,165,28.2969,386,28.2969,386,566,16,566,16,6\" style=\"stroke: #000000; stroke-width: 1.5;\"/><line style=\"stroke: #000000; stroke-width: 1.5;\" x1=\"16\" x2=\"165\" y1=\"28.2969\" y2=\"28.2969\"/><text fill=\"#000000\" font-family=\"sans-serif\" font-size=\"14\" font-weight=\"bold\" lengthAdjust=\"spacingAndGlyphs\" textLength=\"136\" x=\"20\" y=\"20.9951\">RequirementTest</text></a><!--MD5=[b4997ac47864f28c2f74865a473b2911]\n",
       "class E2--><a href=\"psysml:55e0c843-cabd-4238-9430-5e5ddb37e322\" target=\"_top\" title=\"psysml:55e0c843-cabd-4238-9430-5e5ddb37e322\" xlink:actuate=\"onRequest\" xlink:href=\"psysml:55e0c843-cabd-4238-9430-5e5ddb37e322\" xlink:show=\"new\" xlink:title=\"psysml:55e0c843-cabd-4238-9430-5e5ddb37e322\" xlink:type=\"simple\"><rect fill=\"#FFFFFF\" height=\"45.9375\" id=\"E2\" style=\"stroke: #383838; stroke-width: 1.5;\" width=\"104\" x=\"266\" y=\"190\"/><text fill=\"#000000\" font-family=\"sans-serif\" font-size=\"12\" font-style=\"italic\" lengthAdjust=\"spacingAndGlyphs\" textLength=\"102\" x=\"267\" y=\"206.1387\">«constraint def»</text><text fill=\"#000000\" font-family=\"sans-serif\" font-size=\"12\" lengthAdjust=\"spacingAndGlyphs\" textLength=\"8\" x=\"314\" y=\"220.1074\">C</text><line style=\"stroke: #383838; stroke-width: 1.5;\" x1=\"267\" x2=\"369\" y1=\"227.9375\" y2=\"227.9375\"/></a><!--MD5=[09b614a08d8cba4a07c9adeb5e0fee81]\n",
       "class E3--><a href=\"psysml:943270d7-f648-4f2b-99ed-798f0a01be75\" target=\"_top\" title=\"psysml:943270d7-f648-4f2b-99ed-798f0a01be75\" xlink:actuate=\"onRequest\" xlink:href=\"psysml:943270d7-f648-4f2b-99ed-798f0a01be75\" xlink:show=\"new\" xlink:title=\"psysml:943270d7-f648-4f2b-99ed-798f0a01be75\" xlink:type=\"simple\"><rect fill=\"#FFFFFF\" height=\"45.9375\" id=\"E3\" rx=\"10\" ry=\"10\" style=\"stroke: #383838; stroke-width: 1.5;\" width=\"80\" x=\"290\" y=\"62\"/><text fill=\"#000000\" font-family=\"sans-serif\" font-size=\"12\" font-style=\"italic\" lengthAdjust=\"spacingAndGlyphs\" textLength=\"78\" x=\"291\" y=\"78.1387\">«constraint»</text><text fill=\"#000000\" font-family=\"sans-serif\" font-size=\"12\" lengthAdjust=\"spacingAndGlyphs\" textLength=\"23\" x=\"318.5\" y=\"92.1074\">c: C</text><line style=\"stroke: #383838; stroke-width: 1.5;\" x1=\"291\" x2=\"369\" y1=\"99.9375\" y2=\"99.9375\"/></a><!--MD5=[ebbe1d658d1005bcc118a6aa81145e00]\n",
       "class E4--><a href=\"psysml:3547be1a-4b91-4a24-a66e-ac992d912d25\" target=\"_top\" title=\"psysml:3547be1a-4b91-4a24-a66e-ac992d912d25\" xlink:actuate=\"onRequest\" xlink:href=\"psysml:3547be1a-4b91-4a24-a66e-ac992d912d25\" xlink:show=\"new\" xlink:title=\"psysml:3547be1a-4b91-4a24-a66e-ac992d912d25\" xlink:type=\"simple\"><rect fill=\"#FFFFFF\" height=\"109.1563\" id=\"E4\" style=\"stroke: #383838; stroke-width: 1.5;\" width=\"117\" x=\"32.5\" y=\"313\"/><text fill=\"#000000\" font-family=\"sans-serif\" font-size=\"12\" font-style=\"italic\" lengthAdjust=\"spacingAndGlyphs\" textLength=\"115\" x=\"33.5\" y=\"329.1387\">«requirement def»</text><text fill=\"#000000\" font-family=\"sans-serif\" font-size=\"12\" lengthAdjust=\"spacingAndGlyphs\" textLength=\"8\" x=\"87\" y=\"343.1074\">R</text><line style=\"stroke: #383838; stroke-width: 1.5;\" x1=\"33.5\" x2=\"148.5\" y1=\"350.9375\" y2=\"350.9375\"/><text fill=\"#000000\" font-family=\"sans-serif\" font-size=\"11\" lengthAdjust=\"spacingAndGlyphs\" textLength=\"0\" x=\"42.5\" y=\"365.1479\"/><line style=\"stroke: #383838; stroke-width: 1.0;\" x1=\"33.5\" x2=\"148.5\" y1=\"371.7422\" y2=\"371.7422\"/><text fill=\"#000000\" font-family=\"sans-serif\" font-size=\"11\" font-weight=\"bold\" lengthAdjust=\"spacingAndGlyphs\" textLength=\"46\" x=\"38.5\" y=\"402.7573\">require</text><text fill=\"#000000\" font-family=\"sans-serif\" font-size=\"11\" lengthAdjust=\"spacingAndGlyphs\" textLength=\"6\" x=\"88.5\" y=\"402.7573\">c</text><text fill=\"#000000\" font-family=\"sans-serif\" font-size=\"11\" font-style=\"italic\" lengthAdjust=\"spacingAndGlyphs\" textLength=\"46\" x=\"38.5\" y=\"415.562\">assume</text><text fill=\"#000000\" font-family=\"sans-serif\" font-size=\"11\" lengthAdjust=\"spacingAndGlyphs\" textLength=\"29\" x=\"88.5\" y=\"415.562\">c1: C</text><line style=\"stroke: #383838; stroke-width: 1.0;\" x1=\"33.5\" x2=\"59\" y1=\"386.1445\" y2=\"386.1445\"/><text fill=\"#000000\" font-family=\"sans-serif\" font-size=\"11\" lengthAdjust=\"spacingAndGlyphs\" textLength=\"64\" x=\"59\" y=\"389.4526\">constraints</text><line style=\"stroke: #383838; stroke-width: 1.0;\" x1=\"123\" x2=\"148.5\" y1=\"386.1445\" y2=\"386.1445\"/></a><!--MD5=[2156ba9850f5573cc1fc38a6a4b2f02b]\n",
       "class E7--><a href=\"psysml:5cc59123-afbd-4e9a-96fa-0bfa0b631260\" target=\"_top\" title=\"psysml:5cc59123-afbd-4e9a-96fa-0bfa0b631260\" xlink:actuate=\"onRequest\" xlink:href=\"psysml:5cc59123-afbd-4e9a-96fa-0bfa0b631260\" xlink:show=\"new\" xlink:title=\"psysml:5cc59123-afbd-4e9a-96fa-0bfa0b631260\" xlink:type=\"simple\"><rect fill=\"#FFFFFF\" height=\"45.9375\" id=\"E7\" rx=\"10\" ry=\"10\" style=\"stroke: #383838; stroke-width: 1.5;\" width=\"93\" x=\"34.5\" y=\"493.5\"/><text fill=\"#000000\" font-family=\"sans-serif\" font-size=\"12\" font-style=\"italic\" lengthAdjust=\"spacingAndGlyphs\" textLength=\"91\" x=\"35.5\" y=\"509.6387\">«requirement»</text><text fill=\"#000000\" font-family=\"sans-serif\" font-size=\"12\" lengthAdjust=\"spacingAndGlyphs\" text-decoration=\"line-through\" textLength=\"51\" x=\"55.5\" y=\"523.6074\">noname</text><line style=\"stroke: #383838; stroke-width: 1.5;\" x1=\"35.5\" x2=\"126.5\" y1=\"531.4375\" y2=\"531.4375\"/></a><!--MD5=[b9389687b975829384b498ac4b7476b2]\n",
       "class E8--><a href=\"psysml:49e593a4-f39b-4803-a2ce-02c26b916197\" target=\"_top\" title=\"psysml:49e593a4-f39b-4803-a2ce-02c26b916197\" xlink:actuate=\"onRequest\" xlink:href=\"psysml:49e593a4-f39b-4803-a2ce-02c26b916197\" xlink:show=\"new\" xlink:title=\"psysml:49e593a4-f39b-4803-a2ce-02c26b916197\" xlink:type=\"simple\"><rect fill=\"#FFFFFF\" height=\"66.7422\" id=\"E8\" style=\"stroke: #383838; stroke-width: 1.5;\" width=\"117\" x=\"162.5\" y=\"483\"/><text fill=\"#000000\" font-family=\"sans-serif\" font-size=\"12\" font-style=\"italic\" lengthAdjust=\"spacingAndGlyphs\" textLength=\"115\" x=\"163.5\" y=\"499.1387\">«requirement def»</text><text fill=\"#000000\" font-family=\"sans-serif\" font-size=\"12\" lengthAdjust=\"spacingAndGlyphs\" textLength=\"5\" x=\"208\" y=\"513.1074\">[</text><text fill=\"#000000\" font-family=\"sans-serif\" font-size=\"12\" font-weight=\"bold\" lengthAdjust=\"spacingAndGlyphs\" textLength=\"8\" x=\"213\" y=\"513.1074\">1</text><text fill=\"#000000\" font-family=\"sans-serif\" font-size=\"12\" lengthAdjust=\"spacingAndGlyphs\" textLength=\"17\" x=\"221\" y=\"513.1074\">] A</text><line style=\"stroke: #383838; stroke-width: 1.5;\" x1=\"163.5\" x2=\"278.5\" y1=\"520.9375\" y2=\"520.9375\"/><text fill=\"#000000\" font-family=\"sans-serif\" font-size=\"11\" lengthAdjust=\"spacingAndGlyphs\" textLength=\"24\" x=\"168.5\" y=\"535.1479\">Text</text><line style=\"stroke: #383838; stroke-width: 1.0;\" x1=\"163.5\" x2=\"278.5\" y1=\"541.7422\" y2=\"541.7422\"/></a><!--MD5=[fd4143e9d270a159db93a4ea2a975926]\n",
       "class E9--><a href=\"psysml:79fb73d3-867b-49b4-8196-8eb6e64f62f0\" target=\"_top\" title=\"psysml:79fb73d3-867b-49b4-8196-8eb6e64f62f0\" xlink:actuate=\"onRequest\" xlink:href=\"psysml:79fb73d3-867b-49b4-8196-8eb6e64f62f0\" xlink:show=\"new\" xlink:title=\"psysml:79fb73d3-867b-49b4-8196-8eb6e64f62f0\" xlink:type=\"simple\"><rect fill=\"#FFFFFF\" height=\"88.3516\" id=\"E9\" style=\"stroke: #383838; stroke-width: 1.5;\" width=\"145\" x=\"109.5\" y=\"41\"/><text fill=\"#000000\" font-family=\"sans-serif\" font-size=\"12\" font-style=\"italic\" lengthAdjust=\"spacingAndGlyphs\" textLength=\"115\" x=\"124.5\" y=\"57.1387\">«requirement def»</text><text fill=\"#000000\" font-family=\"sans-serif\" font-size=\"12\" lengthAdjust=\"spacingAndGlyphs\" textLength=\"16\" x=\"174\" y=\"71.1074\">R1</text><line style=\"stroke: #383838; stroke-width: 1.5;\" x1=\"110.5\" x2=\"253.5\" y1=\"78.9375\" y2=\"78.9375\"/><text fill=\"#000000\" font-family=\"sans-serif\" font-size=\"11\" font-weight=\"bold\" lengthAdjust=\"spacingAndGlyphs\" textLength=\"46\" x=\"115.5\" y=\"109.9526\">require</text><text fill=\"#000000\" font-family=\"sans-serif\" font-size=\"11\" lengthAdjust=\"spacingAndGlyphs\" textLength=\"13\" x=\"165.5\" y=\"109.9526\">c1</text><text fill=\"#000000\" font-family=\"sans-serif\" font-size=\"11\" font-style=\"italic\" lengthAdjust=\"spacingAndGlyphs\" textLength=\"133\" x=\"115.5\" y=\"122.7573\">:&gt;&gt;RequirementTest::c</text><line style=\"stroke: #383838; stroke-width: 1.0;\" x1=\"110.5\" x2=\"150\" y1=\"93.3398\" y2=\"93.3398\"/><text fill=\"#000000\" font-family=\"sans-serif\" font-size=\"11\" lengthAdjust=\"spacingAndGlyphs\" textLength=\"64\" x=\"150\" y=\"96.6479\">constraints</text><line style=\"stroke: #383838; stroke-width: 1.0;\" x1=\"214\" x2=\"253.5\" y1=\"93.3398\" y2=\"93.3398\"/></a><!--MD5=[1dd1bfd58a279cf63c5f349dbc8fc6a1]\n",
       "class E11--><a href=\"psysml:510a33c1-eff7-4e5e-90b4-a63ef5b72ae6\" target=\"_top\" title=\"psysml:510a33c1-eff7-4e5e-90b4-a63ef5b72ae6\" xlink:actuate=\"onRequest\" xlink:href=\"psysml:510a33c1-eff7-4e5e-90b4-a63ef5b72ae6\" xlink:show=\"new\" xlink:title=\"psysml:510a33c1-eff7-4e5e-90b4-a63ef5b72ae6\" xlink:type=\"simple\"><rect fill=\"#FFFFFF\" height=\"45.9375\" id=\"E11\" rx=\"10\" ry=\"10\" style=\"stroke: #383838; stroke-width: 1.5;\" width=\"42\" x=\"185\" y=\"344.5\"/><text fill=\"#000000\" font-family=\"sans-serif\" font-size=\"12\" font-style=\"italic\" lengthAdjust=\"spacingAndGlyphs\" textLength=\"40\" x=\"186\" y=\"360.6387\">«part»</text><text fill=\"#000000\" font-family=\"sans-serif\" font-size=\"12\" lengthAdjust=\"spacingAndGlyphs\" textLength=\"8\" x=\"202\" y=\"374.6074\">p</text><line style=\"stroke: #383838; stroke-width: 1.5;\" x1=\"186\" x2=\"226\" y1=\"382.4375\" y2=\"382.4375\"/></a><!--MD5=[49a0ec8f00dab7302a31f22d0f0fe584]\n",
       "class E12--><a href=\"psysml:a6cd5ff6-20a0-4014-8266-5a2f114de57c\" target=\"_top\" title=\"psysml:a6cd5ff6-20a0-4014-8266-5a2f114de57c\" xlink:actuate=\"onRequest\" xlink:href=\"psysml:a6cd5ff6-20a0-4014-8266-5a2f114de57c\" xlink:show=\"new\" xlink:title=\"psysml:a6cd5ff6-20a0-4014-8266-5a2f114de57c\" xlink:type=\"simple\"><rect fill=\"#FFFFFF\" height=\"45.9375\" id=\"E12\" rx=\"10\" ry=\"10\" style=\"stroke: #383838; stroke-width: 1.5;\" width=\"42\" x=\"32\" y=\"62\"/><text fill=\"#000000\" font-family=\"sans-serif\" font-size=\"12\" font-style=\"italic\" lengthAdjust=\"spacingAndGlyphs\" textLength=\"40\" x=\"33\" y=\"78.1387\">«part»</text><text fill=\"#000000\" font-family=\"sans-serif\" font-size=\"12\" lengthAdjust=\"spacingAndGlyphs\" textLength=\"8\" x=\"49\" y=\"92.1074\">q</text><line style=\"stroke: #383838; stroke-width: 1.5;\" x1=\"33\" x2=\"73\" y1=\"99.9375\" y2=\"99.9375\"/></a><!--MD5=[ee3c913d1a06f366521f9ef512b67efe]\n",
       "class E13--><a href=\"psysml:50b94a4a-7c4d-4845-a3da-b360d2df1f8c\" target=\"_top\" title=\"psysml:50b94a4a-7c4d-4845-a3da-b360d2df1f8c\" xlink:actuate=\"onRequest\" xlink:href=\"psysml:50b94a4a-7c4d-4845-a3da-b360d2df1f8c\" xlink:show=\"new\" xlink:title=\"psysml:50b94a4a-7c4d-4845-a3da-b360d2df1f8c\" xlink:type=\"simple\"><rect fill=\"#FFFFFF\" height=\"45.9375\" id=\"E13\" rx=\"10\" ry=\"10\" style=\"stroke: #383838; stroke-width: 1.5;\" width=\"93\" x=\"44.5\" y=\"190\"/><text fill=\"#000000\" font-family=\"sans-serif\" font-size=\"12\" font-style=\"italic\" lengthAdjust=\"spacingAndGlyphs\" textLength=\"91\" x=\"45.5\" y=\"206.1387\">«requirement»</text><text fill=\"#000000\" font-family=\"sans-serif\" font-size=\"12\" lengthAdjust=\"spacingAndGlyphs\" textLength=\"21\" x=\"80.5\" y=\"220.1074\">r: R</text><line style=\"stroke: #383838; stroke-width: 1.5;\" x1=\"45.5\" x2=\"136.5\" y1=\"227.9375\" y2=\"227.9375\"/></a><!--MD5=[05d275557350bfb9b23a4ef7222b4c39]\n",
       "link E3 to E2--><a href=\"psysml:e8229714-231f-4f2a-9005-056b1e69efb5\" target=\"_top\" title=\"psysml:e8229714-231f-4f2a-9005-056b1e69efb5\" xlink:actuate=\"onRequest\" xlink:href=\"psysml:e8229714-231f-4f2a-9005-056b1e69efb5\" xlink:show=\"new\" xlink:title=\"psysml:e8229714-231f-4f2a-9005-056b1e69efb5\" xlink:type=\"simple\"><path d=\"M327.88,108.24 C326.26,125.24 323.98,149.19 322.02,169.79 \" fill=\"none\" id=\"E3-&gt;E2\" style=\"stroke: #383838; stroke-width: 1.0;\"/><polygon fill=\"#FFFFFF\" points=\"320.1,189.99,314.9362,170.411,328.8729,171.7407,320.1,189.99\" style=\"stroke: #383838; stroke-width: 1.0;\"/><ellipse cx=\"317.4685\" cy=\"164.9268\" fill=\"#383838\" rx=\"2\" ry=\"2\" style=\"stroke: #383838; stroke-width: 1.0;\"/><ellipse cx=\"327.4233\" cy=\"165.8765\" fill=\"#383838\" rx=\"2\" ry=\"2\" style=\"stroke: #383838; stroke-width: 1.0;\"/></a><!--MD5=[722ff4eef345aa10242dad44df0e98c7]\n",
       "reverse link E4 to E7--><a href=\"psysml:eafce8af-10f9-4af7-9431-7513cc7d3347\" target=\"_top\" title=\"psysml:eafce8af-10f9-4af7-9431-7513cc7d3347\" xlink:actuate=\"onRequest\" xlink:href=\"psysml:eafce8af-10f9-4af7-9431-7513cc7d3347\" xlink:show=\"new\" xlink:title=\"psysml:eafce8af-10f9-4af7-9431-7513cc7d3347\" xlink:type=\"simple\"><path d=\"M86.44,435.59 C85.02,456.46 83.55,478.02 82.5,493.48 \" fill=\"none\" id=\"E4&lt;-E7\" style=\"stroke: #383838; stroke-width: 1.0;\"/><polygon fill=\"#383838\" points=\"87.33,422.4,82.9306,428.1136,86.5125,434.3721,90.912,428.6586,87.33,422.4\" style=\"stroke: #383838; stroke-width: 1.0;\"/></a><!--MD5=[c6fc7cdb0cabde04948078cf183fa696]\n",
       "reverse link E4 to E8--><a href=\"psysml:a0130814-5dc8-48af-af1a-9e985463643e\" target=\"_top\" title=\"psysml:a0130814-5dc8-48af-af1a-9e985463643e\" xlink:actuate=\"onRequest\" xlink:href=\"psysml:a0130814-5dc8-48af-af1a-9e985463643e\" xlink:show=\"new\" xlink:title=\"psysml:a0130814-5dc8-48af-af1a-9e985463643e\" xlink:type=\"simple\"><path d=\"M148.94,434.02 C163.95,450.99 179.47,468.53 192.24,482.98 \" fill=\"none\" id=\"E4&lt;-E8\" style=\"stroke: #383838; stroke-width: 1.0;\"/><ellipse cx=\"143.9698\" cy=\"428.3927\" fill=\"#FFFFFF\" rx=\"8\" ry=\"8\" style=\"stroke: #383838; stroke-width: 1.0;\"/><line style=\"stroke: #383838; stroke-width: 1.0;\" x1=\"149.2695\" x2=\"138.67\" y1=\"434.3854\" y2=\"422.4\"/><line style=\"stroke: #383838; stroke-width: 1.0;\" x1=\"137.9771\" x2=\"149.9625\" y1=\"433.6925\" y2=\"423.0929\"/></a><!--MD5=[062ed86c389d1a88f61c6380d0491e17]\n",
       "reverse link E12 to E13--><a href=\"psysml:044b978f-2385-4425-992f-2d75b645c055\" target=\"_top\" title=\"psysml:044b978f-2385-4425-992f-2d75b645c055\" xlink:actuate=\"onRequest\" xlink:href=\"psysml:044b978f-2385-4425-992f-2d75b645c055\" xlink:show=\"new\" xlink:title=\"psysml:044b978f-2385-4425-992f-2d75b645c055\" xlink:type=\"simple\"><path d=\"M63.49,120.8 C70.17,142.92 78.6,170.89 84.36,189.99 \" fill=\"none\" id=\"E12&lt;-E13\" style=\"stroke: #383838; stroke-width: 1.0;\"/><polygon fill=\"#383838\" points=\"59.71,108.24,57.6129,115.1394,63.1751,119.7288,65.2722,112.8294,59.71,108.24\" style=\"stroke: #383838; stroke-width: 1.0;\"/></a><!--MD5=[017847e01ff9a8bd19f247411074f987]\n",
       "link E13 to E4--><a href=\"psysml:279d9c9b-21cb-4076-8967-339bf6a79b4c\" target=\"_top\" title=\"psysml:279d9c9b-21cb-4076-8967-339bf6a79b4c\" xlink:actuate=\"onRequest\" xlink:href=\"psysml:279d9c9b-21cb-4076-8967-339bf6a79b4c\" xlink:show=\"new\" xlink:title=\"psysml:279d9c9b-21cb-4076-8967-339bf6a79b4c\" xlink:type=\"simple\"><path d=\"M91,236.17 C91,251.17 91,271.91 91,292.44 \" fill=\"none\" id=\"E13-&gt;E4\" style=\"stroke: #383838; stroke-width: 1.0;\"/><polygon fill=\"#FFFFFF\" points=\"91,312.68,84,293.68,98,293.68,91,312.68\" style=\"stroke: #383838; stroke-width: 1.0;\"/><ellipse cx=\"86\" cy=\"287.98\" fill=\"#383838\" rx=\"2\" ry=\"2\" style=\"stroke: #383838; stroke-width: 1.0;\"/><ellipse cx=\"96\" cy=\"287.98\" fill=\"#383838\" rx=\"2\" ry=\"2\" style=\"stroke: #383838; stroke-width: 1.0;\"/></a><!--MD5=[2cfe899c895462254056921bfb67315f]\n",
       "link E13 to E11--><a href=\"psysml:fcf36e7c-2665-4a1d-8cf4-6fcc5b08ef04\" target=\"_top\" title=\"psysml:fcf36e7c-2665-4a1d-8cf4-6fcc5b08ef04\" xlink:actuate=\"onRequest\" xlink:href=\"psysml:fcf36e7c-2665-4a1d-8cf4-6fcc5b08ef04\" xlink:show=\"new\" xlink:title=\"psysml:fcf36e7c-2665-4a1d-8cf4-6fcc5b08ef04\" xlink:type=\"simple\"><path d=\"M108.25,236.46 C130.67,265.67 167,313 167,313 C167,313 176.99,326.71 186.86,340.25 \" fill=\"none\" id=\"E13-&gt;E11\" style=\"stroke: #383838; stroke-width: 1.0; stroke-dasharray: 7.0,7.0;\"/><polygon fill=\"#383838\" points=\"189.91,344.43,187.8474,334.7996,186.9674,340.3876,181.3794,339.5076,189.91,344.43\" style=\"stroke: #383838; stroke-width: 1.0;\"/><text fill=\"#000000\" font-family=\"sans-serif\" font-size=\"13\" lengthAdjust=\"spacingAndGlyphs\" textLength=\"57\" x=\"143\" y=\"279.0669\">«satisfy»</text></a><!--MD5=[e74edf9578193d43c6a4f5620f4d2deb]\n",
       "@startuml\r\n",
       "skinparam linetype polyline\r\n",
       "skinparam monochrome true\r\n",
       "skinparam classbackgroundcolor white\r\n",
       "skinparam shadowing false\r\n",
       "skinparam wrapWidth 300\r\n",
       "hide circle\r\n",
       "\r\n",
       "package \"RequirementTest\" as E1  [[psysml:f822a5b9-f637-4bfc-9356-d45755be39c3 ]]  {\r\n",
       "comp def \"C\" as E2  <<(T,blue)constraint def>> [[psysml:55e0c843-cabd-4238-9430-5e5ddb37e322 ]] {\r\n",
       "}\r\n",
       "comp usage \"c: C\" as E3  <<(T,blue)constraint>> [[psysml:943270d7-f648-4f2b-99ed-798f0a01be75 ]] {\r\n",
       "}\r\n",
       "comp def \"R\" as E4  <<(T,blue)requirement def>> [[psysml:3547be1a-4b91-4a24-a66e-ac992d912d25 ]] {\r\n",
       "\r\n",
       "- -\r\n",
       "- - constraints - -\r\n",
       "<b>require</b> c\r\n",
       "<i>assume</i> c1: C\r\n",
       "}\r\n",
       "comp usage \"<s>noname</s>\" as E7  <<(T,blue)requirement>> [[psysml:5cc59123-afbd-4e9a-96fa-0bfa0b631260 ]] {\r\n",
       "}\r\n",
       "comp def \" [<b>1</b>] A\" as E8  <<(T,blue)requirement def>> [[psysml:49e593a4-f39b-4803-a2ce-02c26b916197 ]] {\r\n",
       "Text\r\n",
       "- -\r\n",
       "}\r\n",
       "comp def \"R1\" as E9  <<(T,blue)requirement def>> [[psysml:79fb73d3-867b-49b4-8196-8eb6e64f62f0 ]] {\r\n",
       "- - constraints - -\r\n",
       "<b>require</b> c1\\n//:>>RequirementTest::c// \r\n",
       "}\r\n",
       "comp usage \"p\" as E11  <<(T,blue)part>> [[psysml:510a33c1-eff7-4e5e-90b4-a63ef5b72ae6 ]] {\r\n",
       "}\r\n",
       "comp usage \"q\" as E12  <<(T,blue)part>> [[psysml:a6cd5ff6-20a0-4014-8266-5a2f114de57c ]] {\r\n",
       "}\r\n",
       "comp usage \"r: R\" as E13  <<(T,blue)requirement>> [[psysml:50b94a4a-7c4d-4845-a3da-b360d2df1f8c ]] {\r\n",
       "}\r\n",
       "E3 - -:|> E2 [[psysml:e8229714-231f-4f2a-9005-056b1e69efb5 ]] \r\n",
       "E4 *- - E7 [[psysml:eafce8af-10f9-4af7-9431-7513cc7d3347 ]] \r\n",
       "E4 +- - E8 [[psysml:a0130814-5dc8-48af-af1a-9e985463643e ]] \r\n",
       "E12 *- - E13 [[psysml:044b978f-2385-4425-992f-2d75b645c055 ]] \r\n",
       "E13 - -:|> E4 [[psysml:279d9c9b-21cb-4076-8967-339bf6a79b4c ]] \r\n",
       "E13 ..> E11 [[psysml:fcf36e7c-2665-4a1d-8cf4-6fcc5b08ef04 ]] : <<satisfy>>\r\n",
       "}\r\n",
       "@enduml\r\n",
       "\n",
       "PlantUML version 1.2020.13(Sat Jun 13 12:26:38 UTC 2020)\n",
       "(EPL source distribution)\n",
       "Java Runtime: OpenJDK Runtime Environment\n",
       "JVM: OpenJDK 64-Bit Server VM\n",
       "Default Encoding: UTF-8\n",
       "Language: en\n",
       "Country: null\n",
       "--></g></svg>"
      ]
     },
     "execution_count": 9,
     "metadata": {},
     "output_type": "execute_result"
    }
   ],
   "source": [
    "%viz --style=\"POLYLINE\" --view=\"Default\" \"RequirementTest\""
   ]
  },
  {
   "cell_type": "code",
   "execution_count": 10,
   "id": "228b0ded",
   "metadata": {
    "execution": {
     "iopub.execute_input": "2021-04-21T20:21:26.523960Z",
     "iopub.status.busy": "2021-04-21T20:21:26.522797Z",
     "iopub.status.idle": "2021-04-21T20:21:26.734900Z",
     "shell.execute_reply": "2021-04-21T20:21:26.735625Z"
    }
   },
   "outputs": [
    {
     "data": {
      "image/svg+xml": [
       "<?xml version=\"1.0\" encoding=\"UTF-8\" standalone=\"no\"?><svg xmlns=\"http://www.w3.org/2000/svg\" xmlns:xlink=\"http://www.w3.org/1999/xlink\" contentScriptType=\"application/ecmascript\" contentStyleType=\"text/css\" height=\"578px\" preserveAspectRatio=\"none\" style=\"width:408px;height:578px;\" version=\"1.1\" viewBox=\"0 0 408 578\" width=\"408px\" zoomAndPan=\"magnify\"><defs/><g><!--MD5=[fbc87193dbaf4d95561dea2c320d4a47]\n",
       "cluster E1--><a href=\"psysml:f822a5b9-f637-4bfc-9356-d45755be39c3\" target=\"_top\" title=\"psysml:f822a5b9-f637-4bfc-9356-d45755be39c3\" xlink:actuate=\"onRequest\" xlink:href=\"psysml:f822a5b9-f637-4bfc-9356-d45755be39c3\" xlink:show=\"new\" xlink:title=\"psysml:f822a5b9-f637-4bfc-9356-d45755be39c3\" xlink:type=\"simple\"><polygon fill=\"#FFFFFF\" points=\"16,6,158,6,165,28.2969,386,28.2969,386,566,16,566,16,6\" style=\"stroke: #000000; stroke-width: 1.5;\"/><line style=\"stroke: #000000; stroke-width: 1.5;\" x1=\"16\" x2=\"165\" y1=\"28.2969\" y2=\"28.2969\"/><text fill=\"#000000\" font-family=\"sans-serif\" font-size=\"14\" font-weight=\"bold\" lengthAdjust=\"spacingAndGlyphs\" textLength=\"136\" x=\"20\" y=\"20.9951\">RequirementTest</text></a><!--MD5=[b4997ac47864f28c2f74865a473b2911]\n",
       "class E2--><a href=\"psysml:55e0c843-cabd-4238-9430-5e5ddb37e322\" target=\"_top\" title=\"psysml:55e0c843-cabd-4238-9430-5e5ddb37e322\" xlink:actuate=\"onRequest\" xlink:href=\"psysml:55e0c843-cabd-4238-9430-5e5ddb37e322\" xlink:show=\"new\" xlink:title=\"psysml:55e0c843-cabd-4238-9430-5e5ddb37e322\" xlink:type=\"simple\"><rect fill=\"#FFFFFF\" height=\"45.9375\" id=\"E2\" style=\"stroke: #383838; stroke-width: 1.5;\" width=\"104\" x=\"266\" y=\"190\"/><text fill=\"#000000\" font-family=\"sans-serif\" font-size=\"12\" font-style=\"italic\" lengthAdjust=\"spacingAndGlyphs\" textLength=\"102\" x=\"267\" y=\"206.1387\">«constraint def»</text><text fill=\"#000000\" font-family=\"sans-serif\" font-size=\"12\" lengthAdjust=\"spacingAndGlyphs\" textLength=\"8\" x=\"314\" y=\"220.1074\">C</text><line style=\"stroke: #383838; stroke-width: 1.5;\" x1=\"267\" x2=\"369\" y1=\"227.9375\" y2=\"227.9375\"/></a><!--MD5=[09b614a08d8cba4a07c9adeb5e0fee81]\n",
       "class E3--><a href=\"psysml:943270d7-f648-4f2b-99ed-798f0a01be75\" target=\"_top\" title=\"psysml:943270d7-f648-4f2b-99ed-798f0a01be75\" xlink:actuate=\"onRequest\" xlink:href=\"psysml:943270d7-f648-4f2b-99ed-798f0a01be75\" xlink:show=\"new\" xlink:title=\"psysml:943270d7-f648-4f2b-99ed-798f0a01be75\" xlink:type=\"simple\"><rect fill=\"#FFFFFF\" height=\"45.9375\" id=\"E3\" rx=\"10\" ry=\"10\" style=\"stroke: #383838; stroke-width: 1.5;\" width=\"80\" x=\"290\" y=\"62\"/><text fill=\"#000000\" font-family=\"sans-serif\" font-size=\"12\" font-style=\"italic\" lengthAdjust=\"spacingAndGlyphs\" textLength=\"78\" x=\"291\" y=\"78.1387\">«constraint»</text><text fill=\"#000000\" font-family=\"sans-serif\" font-size=\"12\" lengthAdjust=\"spacingAndGlyphs\" textLength=\"23\" x=\"318.5\" y=\"92.1074\">c: C</text><line style=\"stroke: #383838; stroke-width: 1.5;\" x1=\"291\" x2=\"369\" y1=\"99.9375\" y2=\"99.9375\"/></a><!--MD5=[ebbe1d658d1005bcc118a6aa81145e00]\n",
       "class E4--><a href=\"psysml:3547be1a-4b91-4a24-a66e-ac992d912d25\" target=\"_top\" title=\"psysml:3547be1a-4b91-4a24-a66e-ac992d912d25\" xlink:actuate=\"onRequest\" xlink:href=\"psysml:3547be1a-4b91-4a24-a66e-ac992d912d25\" xlink:show=\"new\" xlink:title=\"psysml:3547be1a-4b91-4a24-a66e-ac992d912d25\" xlink:type=\"simple\"><rect fill=\"#FFFFFF\" height=\"109.1563\" id=\"E4\" style=\"stroke: #383838; stroke-width: 1.5;\" width=\"117\" x=\"32.5\" y=\"313\"/><text fill=\"#000000\" font-family=\"sans-serif\" font-size=\"12\" font-style=\"italic\" lengthAdjust=\"spacingAndGlyphs\" textLength=\"115\" x=\"33.5\" y=\"329.1387\">«requirement def»</text><text fill=\"#000000\" font-family=\"sans-serif\" font-size=\"12\" lengthAdjust=\"spacingAndGlyphs\" textLength=\"8\" x=\"87\" y=\"343.1074\">R</text><line style=\"stroke: #383838; stroke-width: 1.5;\" x1=\"33.5\" x2=\"148.5\" y1=\"350.9375\" y2=\"350.9375\"/><text fill=\"#000000\" font-family=\"sans-serif\" font-size=\"11\" lengthAdjust=\"spacingAndGlyphs\" textLength=\"0\" x=\"42.5\" y=\"365.1479\"/><line style=\"stroke: #383838; stroke-width: 1.0;\" x1=\"33.5\" x2=\"148.5\" y1=\"371.7422\" y2=\"371.7422\"/><text fill=\"#000000\" font-family=\"sans-serif\" font-size=\"11\" font-weight=\"bold\" lengthAdjust=\"spacingAndGlyphs\" textLength=\"46\" x=\"38.5\" y=\"402.7573\">require</text><text fill=\"#000000\" font-family=\"sans-serif\" font-size=\"11\" lengthAdjust=\"spacingAndGlyphs\" textLength=\"6\" x=\"88.5\" y=\"402.7573\">c</text><text fill=\"#000000\" font-family=\"sans-serif\" font-size=\"11\" font-style=\"italic\" lengthAdjust=\"spacingAndGlyphs\" textLength=\"46\" x=\"38.5\" y=\"415.562\">assume</text><text fill=\"#000000\" font-family=\"sans-serif\" font-size=\"11\" lengthAdjust=\"spacingAndGlyphs\" textLength=\"29\" x=\"88.5\" y=\"415.562\">c1: C</text><line style=\"stroke: #383838; stroke-width: 1.0;\" x1=\"33.5\" x2=\"59\" y1=\"386.1445\" y2=\"386.1445\"/><text fill=\"#000000\" font-family=\"sans-serif\" font-size=\"11\" lengthAdjust=\"spacingAndGlyphs\" textLength=\"64\" x=\"59\" y=\"389.4526\">constraints</text><line style=\"stroke: #383838; stroke-width: 1.0;\" x1=\"123\" x2=\"148.5\" y1=\"386.1445\" y2=\"386.1445\"/></a><!--MD5=[2156ba9850f5573cc1fc38a6a4b2f02b]\n",
       "class E7--><a href=\"psysml:5cc59123-afbd-4e9a-96fa-0bfa0b631260\" target=\"_top\" title=\"psysml:5cc59123-afbd-4e9a-96fa-0bfa0b631260\" xlink:actuate=\"onRequest\" xlink:href=\"psysml:5cc59123-afbd-4e9a-96fa-0bfa0b631260\" xlink:show=\"new\" xlink:title=\"psysml:5cc59123-afbd-4e9a-96fa-0bfa0b631260\" xlink:type=\"simple\"><rect fill=\"#FFFFFF\" height=\"45.9375\" id=\"E7\" rx=\"10\" ry=\"10\" style=\"stroke: #383838; stroke-width: 1.5;\" width=\"93\" x=\"34.5\" y=\"493.5\"/><text fill=\"#000000\" font-family=\"sans-serif\" font-size=\"12\" font-style=\"italic\" lengthAdjust=\"spacingAndGlyphs\" textLength=\"91\" x=\"35.5\" y=\"509.6387\">«requirement»</text><text fill=\"#000000\" font-family=\"sans-serif\" font-size=\"12\" lengthAdjust=\"spacingAndGlyphs\" text-decoration=\"line-through\" textLength=\"51\" x=\"55.5\" y=\"523.6074\">noname</text><line style=\"stroke: #383838; stroke-width: 1.5;\" x1=\"35.5\" x2=\"126.5\" y1=\"531.4375\" y2=\"531.4375\"/></a><!--MD5=[b9389687b975829384b498ac4b7476b2]\n",
       "class E8--><a href=\"psysml:49e593a4-f39b-4803-a2ce-02c26b916197\" target=\"_top\" title=\"psysml:49e593a4-f39b-4803-a2ce-02c26b916197\" xlink:actuate=\"onRequest\" xlink:href=\"psysml:49e593a4-f39b-4803-a2ce-02c26b916197\" xlink:show=\"new\" xlink:title=\"psysml:49e593a4-f39b-4803-a2ce-02c26b916197\" xlink:type=\"simple\"><rect fill=\"#FFFFFF\" height=\"66.7422\" id=\"E8\" style=\"stroke: #383838; stroke-width: 1.5;\" width=\"117\" x=\"162.5\" y=\"483\"/><text fill=\"#000000\" font-family=\"sans-serif\" font-size=\"12\" font-style=\"italic\" lengthAdjust=\"spacingAndGlyphs\" textLength=\"115\" x=\"163.5\" y=\"499.1387\">«requirement def»</text><text fill=\"#000000\" font-family=\"sans-serif\" font-size=\"12\" lengthAdjust=\"spacingAndGlyphs\" textLength=\"5\" x=\"208\" y=\"513.1074\">[</text><text fill=\"#000000\" font-family=\"sans-serif\" font-size=\"12\" font-weight=\"bold\" lengthAdjust=\"spacingAndGlyphs\" textLength=\"8\" x=\"213\" y=\"513.1074\">1</text><text fill=\"#000000\" font-family=\"sans-serif\" font-size=\"12\" lengthAdjust=\"spacingAndGlyphs\" textLength=\"17\" x=\"221\" y=\"513.1074\">] A</text><line style=\"stroke: #383838; stroke-width: 1.5;\" x1=\"163.5\" x2=\"278.5\" y1=\"520.9375\" y2=\"520.9375\"/><text fill=\"#000000\" font-family=\"sans-serif\" font-size=\"11\" lengthAdjust=\"spacingAndGlyphs\" textLength=\"24\" x=\"168.5\" y=\"535.1479\">Text</text><line style=\"stroke: #383838; stroke-width: 1.0;\" x1=\"163.5\" x2=\"278.5\" y1=\"541.7422\" y2=\"541.7422\"/></a><!--MD5=[fd4143e9d270a159db93a4ea2a975926]\n",
       "class E9--><a href=\"psysml:79fb73d3-867b-49b4-8196-8eb6e64f62f0\" target=\"_top\" title=\"psysml:79fb73d3-867b-49b4-8196-8eb6e64f62f0\" xlink:actuate=\"onRequest\" xlink:href=\"psysml:79fb73d3-867b-49b4-8196-8eb6e64f62f0\" xlink:show=\"new\" xlink:title=\"psysml:79fb73d3-867b-49b4-8196-8eb6e64f62f0\" xlink:type=\"simple\"><rect fill=\"#FFFFFF\" height=\"88.3516\" id=\"E9\" style=\"stroke: #383838; stroke-width: 1.5;\" width=\"145\" x=\"109.5\" y=\"41\"/><text fill=\"#000000\" font-family=\"sans-serif\" font-size=\"12\" font-style=\"italic\" lengthAdjust=\"spacingAndGlyphs\" textLength=\"115\" x=\"124.5\" y=\"57.1387\">«requirement def»</text><text fill=\"#000000\" font-family=\"sans-serif\" font-size=\"12\" lengthAdjust=\"spacingAndGlyphs\" textLength=\"16\" x=\"174\" y=\"71.1074\">R1</text><line style=\"stroke: #383838; stroke-width: 1.5;\" x1=\"110.5\" x2=\"253.5\" y1=\"78.9375\" y2=\"78.9375\"/><text fill=\"#000000\" font-family=\"sans-serif\" font-size=\"11\" font-weight=\"bold\" lengthAdjust=\"spacingAndGlyphs\" textLength=\"46\" x=\"115.5\" y=\"109.9526\">require</text><text fill=\"#000000\" font-family=\"sans-serif\" font-size=\"11\" lengthAdjust=\"spacingAndGlyphs\" textLength=\"13\" x=\"165.5\" y=\"109.9526\">c1</text><text fill=\"#000000\" font-family=\"sans-serif\" font-size=\"11\" font-style=\"italic\" lengthAdjust=\"spacingAndGlyphs\" textLength=\"133\" x=\"115.5\" y=\"122.7573\">:&gt;&gt;RequirementTest::c</text><line style=\"stroke: #383838; stroke-width: 1.0;\" x1=\"110.5\" x2=\"150\" y1=\"93.3398\" y2=\"93.3398\"/><text fill=\"#000000\" font-family=\"sans-serif\" font-size=\"11\" lengthAdjust=\"spacingAndGlyphs\" textLength=\"64\" x=\"150\" y=\"96.6479\">constraints</text><line style=\"stroke: #383838; stroke-width: 1.0;\" x1=\"214\" x2=\"253.5\" y1=\"93.3398\" y2=\"93.3398\"/></a><!--MD5=[1dd1bfd58a279cf63c5f349dbc8fc6a1]\n",
       "class E11--><a href=\"psysml:510a33c1-eff7-4e5e-90b4-a63ef5b72ae6\" target=\"_top\" title=\"psysml:510a33c1-eff7-4e5e-90b4-a63ef5b72ae6\" xlink:actuate=\"onRequest\" xlink:href=\"psysml:510a33c1-eff7-4e5e-90b4-a63ef5b72ae6\" xlink:show=\"new\" xlink:title=\"psysml:510a33c1-eff7-4e5e-90b4-a63ef5b72ae6\" xlink:type=\"simple\"><rect fill=\"#FFFFFF\" height=\"45.9375\" id=\"E11\" rx=\"10\" ry=\"10\" style=\"stroke: #383838; stroke-width: 1.5;\" width=\"42\" x=\"185\" y=\"344.5\"/><text fill=\"#000000\" font-family=\"sans-serif\" font-size=\"12\" font-style=\"italic\" lengthAdjust=\"spacingAndGlyphs\" textLength=\"40\" x=\"186\" y=\"360.6387\">«part»</text><text fill=\"#000000\" font-family=\"sans-serif\" font-size=\"12\" lengthAdjust=\"spacingAndGlyphs\" textLength=\"8\" x=\"202\" y=\"374.6074\">p</text><line style=\"stroke: #383838; stroke-width: 1.5;\" x1=\"186\" x2=\"226\" y1=\"382.4375\" y2=\"382.4375\"/></a><!--MD5=[49a0ec8f00dab7302a31f22d0f0fe584]\n",
       "class E12--><a href=\"psysml:a6cd5ff6-20a0-4014-8266-5a2f114de57c\" target=\"_top\" title=\"psysml:a6cd5ff6-20a0-4014-8266-5a2f114de57c\" xlink:actuate=\"onRequest\" xlink:href=\"psysml:a6cd5ff6-20a0-4014-8266-5a2f114de57c\" xlink:show=\"new\" xlink:title=\"psysml:a6cd5ff6-20a0-4014-8266-5a2f114de57c\" xlink:type=\"simple\"><rect fill=\"#FFFFFF\" height=\"45.9375\" id=\"E12\" rx=\"10\" ry=\"10\" style=\"stroke: #383838; stroke-width: 1.5;\" width=\"42\" x=\"32\" y=\"62\"/><text fill=\"#000000\" font-family=\"sans-serif\" font-size=\"12\" font-style=\"italic\" lengthAdjust=\"spacingAndGlyphs\" textLength=\"40\" x=\"33\" y=\"78.1387\">«part»</text><text fill=\"#000000\" font-family=\"sans-serif\" font-size=\"12\" lengthAdjust=\"spacingAndGlyphs\" textLength=\"8\" x=\"49\" y=\"92.1074\">q</text><line style=\"stroke: #383838; stroke-width: 1.5;\" x1=\"33\" x2=\"73\" y1=\"99.9375\" y2=\"99.9375\"/></a><!--MD5=[ee3c913d1a06f366521f9ef512b67efe]\n",
       "class E13--><a href=\"psysml:50b94a4a-7c4d-4845-a3da-b360d2df1f8c\" target=\"_top\" title=\"psysml:50b94a4a-7c4d-4845-a3da-b360d2df1f8c\" xlink:actuate=\"onRequest\" xlink:href=\"psysml:50b94a4a-7c4d-4845-a3da-b360d2df1f8c\" xlink:show=\"new\" xlink:title=\"psysml:50b94a4a-7c4d-4845-a3da-b360d2df1f8c\" xlink:type=\"simple\"><rect fill=\"#FFFFFF\" height=\"45.9375\" id=\"E13\" rx=\"10\" ry=\"10\" style=\"stroke: #383838; stroke-width: 1.5;\" width=\"93\" x=\"44.5\" y=\"190\"/><text fill=\"#000000\" font-family=\"sans-serif\" font-size=\"12\" font-style=\"italic\" lengthAdjust=\"spacingAndGlyphs\" textLength=\"91\" x=\"45.5\" y=\"206.1387\">«requirement»</text><text fill=\"#000000\" font-family=\"sans-serif\" font-size=\"12\" lengthAdjust=\"spacingAndGlyphs\" textLength=\"21\" x=\"80.5\" y=\"220.1074\">r: R</text><line style=\"stroke: #383838; stroke-width: 1.5;\" x1=\"45.5\" x2=\"136.5\" y1=\"227.9375\" y2=\"227.9375\"/></a><!--MD5=[05d275557350bfb9b23a4ef7222b4c39]\n",
       "link E3 to E2--><a href=\"psysml:e8229714-231f-4f2a-9005-056b1e69efb5\" target=\"_top\" title=\"psysml:e8229714-231f-4f2a-9005-056b1e69efb5\" xlink:actuate=\"onRequest\" xlink:href=\"psysml:e8229714-231f-4f2a-9005-056b1e69efb5\" xlink:show=\"new\" xlink:title=\"psysml:e8229714-231f-4f2a-9005-056b1e69efb5\" xlink:type=\"simple\"><path d=\"M327.88,108.24 C326.26,125.24 323.98,149.19 322.02,169.79 \" fill=\"none\" id=\"E3-&gt;E2\" style=\"stroke: #383838; stroke-width: 1.0;\"/><polygon fill=\"#FFFFFF\" points=\"320.1,189.99,314.9362,170.411,328.8729,171.7407,320.1,189.99\" style=\"stroke: #383838; stroke-width: 1.0;\"/><ellipse cx=\"317.4685\" cy=\"164.9268\" fill=\"#383838\" rx=\"2\" ry=\"2\" style=\"stroke: #383838; stroke-width: 1.0;\"/><ellipse cx=\"327.4233\" cy=\"165.8765\" fill=\"#383838\" rx=\"2\" ry=\"2\" style=\"stroke: #383838; stroke-width: 1.0;\"/></a><!--MD5=[722ff4eef345aa10242dad44df0e98c7]\n",
       "reverse link E4 to E7--><a href=\"psysml:eafce8af-10f9-4af7-9431-7513cc7d3347\" target=\"_top\" title=\"psysml:eafce8af-10f9-4af7-9431-7513cc7d3347\" xlink:actuate=\"onRequest\" xlink:href=\"psysml:eafce8af-10f9-4af7-9431-7513cc7d3347\" xlink:show=\"new\" xlink:title=\"psysml:eafce8af-10f9-4af7-9431-7513cc7d3347\" xlink:type=\"simple\"><path d=\"M86.44,435.59 C85.02,456.46 83.55,478.02 82.5,493.48 \" fill=\"none\" id=\"E4&lt;-E7\" style=\"stroke: #383838; stroke-width: 1.0;\"/><polygon fill=\"#383838\" points=\"87.33,422.4,82.9306,428.1136,86.5125,434.3721,90.912,428.6586,87.33,422.4\" style=\"stroke: #383838; stroke-width: 1.0;\"/></a><!--MD5=[c6fc7cdb0cabde04948078cf183fa696]\n",
       "reverse link E4 to E8--><a href=\"psysml:a0130814-5dc8-48af-af1a-9e985463643e\" target=\"_top\" title=\"psysml:a0130814-5dc8-48af-af1a-9e985463643e\" xlink:actuate=\"onRequest\" xlink:href=\"psysml:a0130814-5dc8-48af-af1a-9e985463643e\" xlink:show=\"new\" xlink:title=\"psysml:a0130814-5dc8-48af-af1a-9e985463643e\" xlink:type=\"simple\"><path d=\"M148.94,434.02 C163.95,450.99 179.47,468.53 192.24,482.98 \" fill=\"none\" id=\"E4&lt;-E8\" style=\"stroke: #383838; stroke-width: 1.0;\"/><ellipse cx=\"143.9698\" cy=\"428.3927\" fill=\"#FFFFFF\" rx=\"8\" ry=\"8\" style=\"stroke: #383838; stroke-width: 1.0;\"/><line style=\"stroke: #383838; stroke-width: 1.0;\" x1=\"149.2695\" x2=\"138.67\" y1=\"434.3854\" y2=\"422.4\"/><line style=\"stroke: #383838; stroke-width: 1.0;\" x1=\"137.9771\" x2=\"149.9625\" y1=\"433.6925\" y2=\"423.0929\"/></a><!--MD5=[062ed86c389d1a88f61c6380d0491e17]\n",
       "reverse link E12 to E13--><a href=\"psysml:044b978f-2385-4425-992f-2d75b645c055\" target=\"_top\" title=\"psysml:044b978f-2385-4425-992f-2d75b645c055\" xlink:actuate=\"onRequest\" xlink:href=\"psysml:044b978f-2385-4425-992f-2d75b645c055\" xlink:show=\"new\" xlink:title=\"psysml:044b978f-2385-4425-992f-2d75b645c055\" xlink:type=\"simple\"><path d=\"M63.49,120.8 C70.17,142.92 78.6,170.89 84.36,189.99 \" fill=\"none\" id=\"E12&lt;-E13\" style=\"stroke: #383838; stroke-width: 1.0;\"/><polygon fill=\"#383838\" points=\"59.71,108.24,57.6129,115.1394,63.1751,119.7288,65.2722,112.8294,59.71,108.24\" style=\"stroke: #383838; stroke-width: 1.0;\"/></a><!--MD5=[017847e01ff9a8bd19f247411074f987]\n",
       "link E13 to E4--><a href=\"psysml:279d9c9b-21cb-4076-8967-339bf6a79b4c\" target=\"_top\" title=\"psysml:279d9c9b-21cb-4076-8967-339bf6a79b4c\" xlink:actuate=\"onRequest\" xlink:href=\"psysml:279d9c9b-21cb-4076-8967-339bf6a79b4c\" xlink:show=\"new\" xlink:title=\"psysml:279d9c9b-21cb-4076-8967-339bf6a79b4c\" xlink:type=\"simple\"><path d=\"M91,236.17 C91,251.17 91,271.91 91,292.44 \" fill=\"none\" id=\"E13-&gt;E4\" style=\"stroke: #383838; stroke-width: 1.0;\"/><polygon fill=\"#FFFFFF\" points=\"91,312.68,84,293.68,98,293.68,91,312.68\" style=\"stroke: #383838; stroke-width: 1.0;\"/><ellipse cx=\"86\" cy=\"287.98\" fill=\"#383838\" rx=\"2\" ry=\"2\" style=\"stroke: #383838; stroke-width: 1.0;\"/><ellipse cx=\"96\" cy=\"287.98\" fill=\"#383838\" rx=\"2\" ry=\"2\" style=\"stroke: #383838; stroke-width: 1.0;\"/></a><!--MD5=[2cfe899c895462254056921bfb67315f]\n",
       "link E13 to E11--><a href=\"psysml:fcf36e7c-2665-4a1d-8cf4-6fcc5b08ef04\" target=\"_top\" title=\"psysml:fcf36e7c-2665-4a1d-8cf4-6fcc5b08ef04\" xlink:actuate=\"onRequest\" xlink:href=\"psysml:fcf36e7c-2665-4a1d-8cf4-6fcc5b08ef04\" xlink:show=\"new\" xlink:title=\"psysml:fcf36e7c-2665-4a1d-8cf4-6fcc5b08ef04\" xlink:type=\"simple\"><path d=\"M108.25,236.46 C130.67,265.67 167,313 167,313 C167,313 176.99,326.71 186.86,340.25 \" fill=\"none\" id=\"E13-&gt;E11\" style=\"stroke: #383838; stroke-width: 1.0; stroke-dasharray: 7.0,7.0;\"/><polygon fill=\"#383838\" points=\"189.91,344.43,187.8474,334.7996,186.9674,340.3876,181.3794,339.5076,189.91,344.43\" style=\"stroke: #383838; stroke-width: 1.0;\"/><text fill=\"#000000\" font-family=\"sans-serif\" font-size=\"13\" lengthAdjust=\"spacingAndGlyphs\" textLength=\"57\" x=\"143\" y=\"279.0669\">«satisfy»</text></a><!--MD5=[e74edf9578193d43c6a4f5620f4d2deb]\n",
       "@startuml\r\n",
       "skinparam linetype polyline\r\n",
       "skinparam monochrome true\r\n",
       "skinparam classbackgroundcolor white\r\n",
       "skinparam shadowing false\r\n",
       "skinparam wrapWidth 300\r\n",
       "hide circle\r\n",
       "\r\n",
       "package \"RequirementTest\" as E1  [[psysml:f822a5b9-f637-4bfc-9356-d45755be39c3 ]]  {\r\n",
       "comp def \"C\" as E2  <<(T,blue)constraint def>> [[psysml:55e0c843-cabd-4238-9430-5e5ddb37e322 ]] {\r\n",
       "}\r\n",
       "comp usage \"c: C\" as E3  <<(T,blue)constraint>> [[psysml:943270d7-f648-4f2b-99ed-798f0a01be75 ]] {\r\n",
       "}\r\n",
       "comp def \"R\" as E4  <<(T,blue)requirement def>> [[psysml:3547be1a-4b91-4a24-a66e-ac992d912d25 ]] {\r\n",
       "\r\n",
       "- -\r\n",
       "- - constraints - -\r\n",
       "<b>require</b> c\r\n",
       "<i>assume</i> c1: C\r\n",
       "}\r\n",
       "comp usage \"<s>noname</s>\" as E7  <<(T,blue)requirement>> [[psysml:5cc59123-afbd-4e9a-96fa-0bfa0b631260 ]] {\r\n",
       "}\r\n",
       "comp def \" [<b>1</b>] A\" as E8  <<(T,blue)requirement def>> [[psysml:49e593a4-f39b-4803-a2ce-02c26b916197 ]] {\r\n",
       "Text\r\n",
       "- -\r\n",
       "}\r\n",
       "comp def \"R1\" as E9  <<(T,blue)requirement def>> [[psysml:79fb73d3-867b-49b4-8196-8eb6e64f62f0 ]] {\r\n",
       "- - constraints - -\r\n",
       "<b>require</b> c1\\n//:>>RequirementTest::c// \r\n",
       "}\r\n",
       "comp usage \"p\" as E11  <<(T,blue)part>> [[psysml:510a33c1-eff7-4e5e-90b4-a63ef5b72ae6 ]] {\r\n",
       "}\r\n",
       "comp usage \"q\" as E12  <<(T,blue)part>> [[psysml:a6cd5ff6-20a0-4014-8266-5a2f114de57c ]] {\r\n",
       "}\r\n",
       "comp usage \"r: R\" as E13  <<(T,blue)requirement>> [[psysml:50b94a4a-7c4d-4845-a3da-b360d2df1f8c ]] {\r\n",
       "}\r\n",
       "E3 - -:|> E2 [[psysml:e8229714-231f-4f2a-9005-056b1e69efb5 ]] \r\n",
       "E4 *- - E7 [[psysml:eafce8af-10f9-4af7-9431-7513cc7d3347 ]] \r\n",
       "E4 +- - E8 [[psysml:a0130814-5dc8-48af-af1a-9e985463643e ]] \r\n",
       "E12 *- - E13 [[psysml:044b978f-2385-4425-992f-2d75b645c055 ]] \r\n",
       "E13 - -:|> E4 [[psysml:279d9c9b-21cb-4076-8967-339bf6a79b4c ]] \r\n",
       "E13 ..> E11 [[psysml:fcf36e7c-2665-4a1d-8cf4-6fcc5b08ef04 ]] : <<satisfy>>\r\n",
       "}\r\n",
       "@enduml\r\n",
       "\n",
       "PlantUML version 1.2020.13(Sat Jun 13 12:26:38 UTC 2020)\n",
       "(EPL source distribution)\n",
       "Java Runtime: OpenJDK Runtime Environment\n",
       "JVM: OpenJDK 64-Bit Server VM\n",
       "Default Encoding: UTF-8\n",
       "Language: en\n",
       "Country: null\n",
       "--></g></svg>"
      ]
     },
     "execution_count": 10,
     "metadata": {},
     "output_type": "execute_result"
    }
   ],
   "source": [
    "%viz --style=\"POLYLINE\" --view=\"Tree\" \"RequirementTest\""
   ]
  },
  {
   "cell_type": "code",
   "execution_count": 11,
   "id": "2c14ba61",
   "metadata": {
    "execution": {
     "iopub.execute_input": "2021-04-21T20:21:26.785187Z",
     "iopub.status.busy": "2021-04-21T20:21:26.783886Z",
     "iopub.status.idle": "2021-04-21T20:21:26.797654Z",
     "shell.execute_reply": "2021-04-21T20:21:26.797278Z"
    }
   },
   "outputs": [
    {
     "data": {
      "image/svg+xml": [
       "<?xml version=\"1.0\" encoding=\"UTF-8\" standalone=\"no\"?><svg xmlns=\"http://www.w3.org/2000/svg\" xmlns:xlink=\"http://www.w3.org/1999/xlink\" contentScriptType=\"application/ecmascript\" contentStyleType=\"text/css\" height=\"12px\" preserveAspectRatio=\"none\" style=\"width:12px;height:12px;\" version=\"1.1\" viewBox=\"0 0 12 12\" width=\"12px\" zoomAndPan=\"magnify\"><defs/><g><!--MD5=[896ac0e7a515d8dd7765a661cb4ee08b]\n",
       "@startuml\r\n",
       "skinparam linetype polyline\r\n",
       "skinparam monochrome true\r\n",
       "skinparam classbackgroundcolor white\r\n",
       "skinparam shadowing false\r\n",
       "skinparam wrapWidth 300\r\n",
       "hide circle\r\n",
       "\r\n",
       "@enduml\r\n",
       "\n",
       "PlantUML version 1.2020.13(Sat Jun 13 12:26:38 UTC 2020)\n",
       "(EPL source distribution)\n",
       "Java Runtime: OpenJDK Runtime Environment\n",
       "JVM: OpenJDK 64-Bit Server VM\n",
       "Default Encoding: UTF-8\n",
       "Language: en\n",
       "Country: null\n",
       "--></g></svg>"
      ]
     },
     "execution_count": 11,
     "metadata": {},
     "output_type": "execute_result"
    }
   ],
   "source": [
    "%viz --style=\"POLYLINE\" --view=\"State\" \"RequirementTest\""
   ]
  },
  {
   "cell_type": "code",
   "execution_count": 12,
   "id": "cb2d7385",
   "metadata": {
    "execution": {
     "iopub.execute_input": "2021-04-21T20:21:26.848814Z",
     "iopub.status.busy": "2021-04-21T20:21:26.848019Z",
     "iopub.status.idle": "2021-04-21T20:21:27.041286Z",
     "shell.execute_reply": "2021-04-21T20:21:27.042104Z"
    }
   },
   "outputs": [
    {
     "data": {
      "image/svg+xml": [
       "<?xml version=\"1.0\" encoding=\"UTF-8\" standalone=\"no\"?><svg xmlns=\"http://www.w3.org/2000/svg\" xmlns:xlink=\"http://www.w3.org/1999/xlink\" contentScriptType=\"application/ecmascript\" contentStyleType=\"text/css\" height=\"408px\" preserveAspectRatio=\"none\" style=\"width:483px;height:408px;\" version=\"1.1\" viewBox=\"0 0 483 408\" width=\"483px\" zoomAndPan=\"magnify\"><defs/><g><!--MD5=[fbc87193dbaf4d95561dea2c320d4a47]\n",
       "cluster E1--><a href=\"psysml:f822a5b9-f637-4bfc-9356-d45755be39c3\" target=\"_top\" title=\"psysml:f822a5b9-f637-4bfc-9356-d45755be39c3\" xlink:actuate=\"onRequest\" xlink:href=\"psysml:f822a5b9-f637-4bfc-9356-d45755be39c3\" xlink:show=\"new\" xlink:title=\"psysml:f822a5b9-f637-4bfc-9356-d45755be39c3\" xlink:type=\"simple\"><polygon fill=\"#FFFFFF\" points=\"16,6,158,6,165,28.2969,461,28.2969,461,396,16,396,16,6\" style=\"stroke: #000000; stroke-width: 1.5;\"/><line style=\"stroke: #000000; stroke-width: 1.5;\" x1=\"16\" x2=\"165\" y1=\"28.2969\" y2=\"28.2969\"/><text fill=\"#000000\" font-family=\"sans-serif\" font-size=\"14\" font-weight=\"bold\" lengthAdjust=\"spacingAndGlyphs\" textLength=\"136\" x=\"20\" y=\"20.9951\">RequirementTest</text></a><!--MD5=[47bea60c1a0ac6c1143df232041969c0]\n",
       "cluster E12--><a href=\"psysml:a6cd5ff6-20a0-4014-8266-5a2f114de57c\" target=\"_top\" title=\"psysml:a6cd5ff6-20a0-4014-8266-5a2f114de57c\" xlink:actuate=\"onRequest\" xlink:href=\"psysml:a6cd5ff6-20a0-4014-8266-5a2f114de57c\" xlink:show=\"new\" xlink:title=\"psysml:a6cd5ff6-20a0-4014-8266-5a2f114de57c\" xlink:type=\"simple\"><rect fill=\"#FFFFFF\" height=\"97\" id=\"E12\" rx=\"10\" ry=\"10\" style=\"stroke: #383838; stroke-width: 1.5;\" width=\"124\" x=\"313\" y=\"49\"/><rect fill=\"#F8F8F8\" height=\"23.9688\" rx=\"10\" ry=\"10\" style=\"stroke: #F8F8F8; stroke-width: 1.5;\" width=\"124\" x=\"313\" y=\"49\"/><rect fill=\"#F8F8F8\" height=\"10\" style=\"stroke: #F8F8F8; stroke-width: 1.5;\" width=\"124\" x=\"313\" y=\"62.9688\"/><rect fill=\"none\" height=\"97\" id=\"E12\" rx=\"10\" ry=\"10\" style=\"stroke: #383838; stroke-width: 1.5;\" width=\"124\" x=\"313\" y=\"49\"/><text fill=\"#000000\" font-family=\"sans-serif\" font-size=\"12\" lengthAdjust=\"spacingAndGlyphs\" textLength=\"8\" x=\"371\" y=\"65.1387\">q</text><line style=\"stroke: #383838; stroke-width: 1.0;\" x1=\"313\" x2=\"437\" y1=\"72.9688\" y2=\"72.9688\"/></a><g id=\"E1.E2\"><a href=\"psysml:55e0c843-cabd-4238-9430-5e5ddb37e322\" target=\"_top\" title=\"psysml:55e0c843-cabd-4238-9430-5e5ddb37e322\" xlink:actuate=\"onRequest\" xlink:href=\"psysml:55e0c843-cabd-4238-9430-5e5ddb37e322\" xlink:show=\"new\" xlink:title=\"psysml:55e0c843-cabd-4238-9430-5e5ddb37e322\" xlink:type=\"simple\"><rect fill=\"#FFFFFF\" height=\"42.9375\" id=\"E2\" style=\"stroke: #383838; stroke-width: 1.5;\" width=\"109\" x=\"98.5\" y=\"220\"/><rect fill=\"#F8F8F8\" height=\"37.9375\" style=\"stroke: #383838; stroke-width: 1.5;\" width=\"109\" x=\"98.5\" y=\"220\"/><text fill=\"#000000\" font-family=\"sans-serif\" font-size=\"12\" font-style=\"italic\" lengthAdjust=\"spacingAndGlyphs\" textLength=\"102\" x=\"102\" y=\"236.1387\">«constraint def»</text><text fill=\"#000000\" font-family=\"sans-serif\" font-size=\"12\" lengthAdjust=\"spacingAndGlyphs\" textLength=\"8\" x=\"149\" y=\"250.1074\">C</text></a></g><!--MD5=[09b614a08d8cba4a07c9adeb5e0fee81]\n",
       "class E3--><a href=\"psysml:943270d7-f648-4f2b-99ed-798f0a01be75\" target=\"_top\" title=\"psysml:943270d7-f648-4f2b-99ed-798f0a01be75\" xlink:actuate=\"onRequest\" xlink:href=\"psysml:943270d7-f648-4f2b-99ed-798f0a01be75\" xlink:show=\"new\" xlink:title=\"psysml:943270d7-f648-4f2b-99ed-798f0a01be75\" xlink:type=\"simple\"><rect fill=\"#FFFFFF\" height=\"45.9375\" id=\"E3\" rx=\"10\" ry=\"10\" style=\"stroke: #383838; stroke-width: 1.5;\" width=\"80\" x=\"213\" y=\"84\"/><text fill=\"#000000\" font-family=\"sans-serif\" font-size=\"12\" font-style=\"italic\" lengthAdjust=\"spacingAndGlyphs\" textLength=\"78\" x=\"214\" y=\"100.1387\">«constraint»</text><text fill=\"#000000\" font-family=\"sans-serif\" font-size=\"12\" lengthAdjust=\"spacingAndGlyphs\" textLength=\"23\" x=\"241.5\" y=\"114.1074\">c: C</text><line style=\"stroke: #383838; stroke-width: 1.5;\" x1=\"214\" x2=\"292\" y1=\"121.9375\" y2=\"121.9375\"/></a><!--MD5=[ebbe1d658d1005bcc118a6aa81145e00]\n",
       "class E4--><a href=\"psysml:3547be1a-4b91-4a24-a66e-ac992d912d25\" target=\"_top\" title=\"psysml:3547be1a-4b91-4a24-a66e-ac992d912d25\" xlink:actuate=\"onRequest\" xlink:href=\"psysml:3547be1a-4b91-4a24-a66e-ac992d912d25\" xlink:show=\"new\" xlink:title=\"psysml:3547be1a-4b91-4a24-a66e-ac992d912d25\" xlink:type=\"simple\"><rect fill=\"#FFFFFF\" height=\"109.1563\" id=\"E4\" style=\"stroke: #383838; stroke-width: 1.5;\" width=\"117\" x=\"242.5\" y=\"187\"/><text fill=\"#000000\" font-family=\"sans-serif\" font-size=\"12\" font-style=\"italic\" lengthAdjust=\"spacingAndGlyphs\" textLength=\"115\" x=\"243.5\" y=\"203.1387\">«requirement def»</text><text fill=\"#000000\" font-family=\"sans-serif\" font-size=\"12\" lengthAdjust=\"spacingAndGlyphs\" textLength=\"8\" x=\"297\" y=\"217.1074\">R</text><line style=\"stroke: #383838; stroke-width: 1.5;\" x1=\"243.5\" x2=\"358.5\" y1=\"224.9375\" y2=\"224.9375\"/><text fill=\"#000000\" font-family=\"sans-serif\" font-size=\"11\" lengthAdjust=\"spacingAndGlyphs\" textLength=\"0\" x=\"252.5\" y=\"239.1479\"/><line style=\"stroke: #383838; stroke-width: 1.0;\" x1=\"243.5\" x2=\"358.5\" y1=\"245.7422\" y2=\"245.7422\"/><text fill=\"#000000\" font-family=\"sans-serif\" font-size=\"11\" font-weight=\"bold\" lengthAdjust=\"spacingAndGlyphs\" textLength=\"46\" x=\"248.5\" y=\"276.7573\">require</text><text fill=\"#000000\" font-family=\"sans-serif\" font-size=\"11\" lengthAdjust=\"spacingAndGlyphs\" textLength=\"6\" x=\"298.5\" y=\"276.7573\">c</text><text fill=\"#000000\" font-family=\"sans-serif\" font-size=\"11\" font-style=\"italic\" lengthAdjust=\"spacingAndGlyphs\" textLength=\"46\" x=\"248.5\" y=\"289.562\">assume</text><text fill=\"#000000\" font-family=\"sans-serif\" font-size=\"11\" lengthAdjust=\"spacingAndGlyphs\" textLength=\"29\" x=\"298.5\" y=\"289.562\">c1: C</text><line style=\"stroke: #383838; stroke-width: 1.0;\" x1=\"243.5\" x2=\"269\" y1=\"260.1445\" y2=\"260.1445\"/><text fill=\"#000000\" font-family=\"sans-serif\" font-size=\"11\" lengthAdjust=\"spacingAndGlyphs\" textLength=\"64\" x=\"269\" y=\"263.4526\">constraints</text><line style=\"stroke: #383838; stroke-width: 1.0;\" x1=\"333\" x2=\"358.5\" y1=\"260.1445\" y2=\"260.1445\"/></a><!--MD5=[2156ba9850f5573cc1fc38a6a4b2f02b]\n",
       "class E7--><a href=\"psysml:5cc59123-afbd-4e9a-96fa-0bfa0b631260\" target=\"_top\" title=\"psysml:5cc59123-afbd-4e9a-96fa-0bfa0b631260\" xlink:actuate=\"onRequest\" xlink:href=\"psysml:5cc59123-afbd-4e9a-96fa-0bfa0b631260\" xlink:show=\"new\" xlink:title=\"psysml:5cc59123-afbd-4e9a-96fa-0bfa0b631260\" xlink:type=\"simple\"><rect fill=\"#FFFFFF\" height=\"45.9375\" id=\"E7\" rx=\"10\" ry=\"10\" style=\"stroke: #383838; stroke-width: 1.5;\" width=\"93\" x=\"177.5\" y=\"323.5\"/><text fill=\"#000000\" font-family=\"sans-serif\" font-size=\"12\" font-style=\"italic\" lengthAdjust=\"spacingAndGlyphs\" textLength=\"91\" x=\"178.5\" y=\"339.6387\">«requirement»</text><text fill=\"#000000\" font-family=\"sans-serif\" font-size=\"12\" lengthAdjust=\"spacingAndGlyphs\" text-decoration=\"line-through\" textLength=\"51\" x=\"198.5\" y=\"353.6074\">noname</text><line style=\"stroke: #383838; stroke-width: 1.5;\" x1=\"178.5\" x2=\"269.5\" y1=\"361.4375\" y2=\"361.4375\"/></a><!--MD5=[b9389687b975829384b498ac4b7476b2]\n",
       "class E8--><a href=\"psysml:49e593a4-f39b-4803-a2ce-02c26b916197\" target=\"_top\" title=\"psysml:49e593a4-f39b-4803-a2ce-02c26b916197\" xlink:actuate=\"onRequest\" xlink:href=\"psysml:49e593a4-f39b-4803-a2ce-02c26b916197\" xlink:show=\"new\" xlink:title=\"psysml:49e593a4-f39b-4803-a2ce-02c26b916197\" xlink:type=\"simple\"><rect fill=\"#FFFFFF\" height=\"66.7422\" id=\"E8\" style=\"stroke: #383838; stroke-width: 1.5;\" width=\"117\" x=\"305.5\" y=\"313\"/><text fill=\"#000000\" font-family=\"sans-serif\" font-size=\"12\" font-style=\"italic\" lengthAdjust=\"spacingAndGlyphs\" textLength=\"115\" x=\"306.5\" y=\"329.1387\">«requirement def»</text><text fill=\"#000000\" font-family=\"sans-serif\" font-size=\"12\" lengthAdjust=\"spacingAndGlyphs\" textLength=\"5\" x=\"351\" y=\"343.1074\">[</text><text fill=\"#000000\" font-family=\"sans-serif\" font-size=\"12\" font-weight=\"bold\" lengthAdjust=\"spacingAndGlyphs\" textLength=\"8\" x=\"356\" y=\"343.1074\">1</text><text fill=\"#000000\" font-family=\"sans-serif\" font-size=\"12\" lengthAdjust=\"spacingAndGlyphs\" textLength=\"17\" x=\"364\" y=\"343.1074\">] A</text><line style=\"stroke: #383838; stroke-width: 1.5;\" x1=\"306.5\" x2=\"421.5\" y1=\"350.9375\" y2=\"350.9375\"/><text fill=\"#000000\" font-family=\"sans-serif\" font-size=\"11\" lengthAdjust=\"spacingAndGlyphs\" textLength=\"24\" x=\"311.5\" y=\"365.1479\">Text</text><line style=\"stroke: #383838; stroke-width: 1.0;\" x1=\"306.5\" x2=\"421.5\" y1=\"371.7422\" y2=\"371.7422\"/></a><!--MD5=[fd4143e9d270a159db93a4ea2a975926]\n",
       "class E9--><a href=\"psysml:79fb73d3-867b-49b4-8196-8eb6e64f62f0\" target=\"_top\" title=\"psysml:79fb73d3-867b-49b4-8196-8eb6e64f62f0\" xlink:actuate=\"onRequest\" xlink:href=\"psysml:79fb73d3-867b-49b4-8196-8eb6e64f62f0\" xlink:show=\"new\" xlink:title=\"psysml:79fb73d3-867b-49b4-8196-8eb6e64f62f0\" xlink:type=\"simple\"><rect fill=\"#FFFFFF\" height=\"88.3516\" id=\"E9\" style=\"stroke: #383838; stroke-width: 1.5;\" width=\"145\" x=\"32.5\" y=\"63\"/><text fill=\"#000000\" font-family=\"sans-serif\" font-size=\"12\" font-style=\"italic\" lengthAdjust=\"spacingAndGlyphs\" textLength=\"115\" x=\"47.5\" y=\"79.1387\">«requirement def»</text><text fill=\"#000000\" font-family=\"sans-serif\" font-size=\"12\" lengthAdjust=\"spacingAndGlyphs\" textLength=\"16\" x=\"97\" y=\"93.1074\">R1</text><line style=\"stroke: #383838; stroke-width: 1.5;\" x1=\"33.5\" x2=\"176.5\" y1=\"100.9375\" y2=\"100.9375\"/><text fill=\"#000000\" font-family=\"sans-serif\" font-size=\"11\" font-weight=\"bold\" lengthAdjust=\"spacingAndGlyphs\" textLength=\"46\" x=\"38.5\" y=\"131.9526\">require</text><text fill=\"#000000\" font-family=\"sans-serif\" font-size=\"11\" lengthAdjust=\"spacingAndGlyphs\" textLength=\"13\" x=\"88.5\" y=\"131.9526\">c1</text><text fill=\"#000000\" font-family=\"sans-serif\" font-size=\"11\" font-style=\"italic\" lengthAdjust=\"spacingAndGlyphs\" textLength=\"133\" x=\"38.5\" y=\"144.7573\">:&gt;&gt;RequirementTest::c</text><line style=\"stroke: #383838; stroke-width: 1.0;\" x1=\"33.5\" x2=\"73\" y1=\"115.3398\" y2=\"115.3398\"/><text fill=\"#000000\" font-family=\"sans-serif\" font-size=\"11\" lengthAdjust=\"spacingAndGlyphs\" textLength=\"64\" x=\"73\" y=\"118.6479\">constraints</text><line style=\"stroke: #383838; stroke-width: 1.0;\" x1=\"137\" x2=\"176.5\" y1=\"115.3398\" y2=\"115.3398\"/></a><g id=\"E1.E11\"><a href=\"psysml:510a33c1-eff7-4e5e-90b4-a63ef5b72ae6\" target=\"_top\" title=\"psysml:510a33c1-eff7-4e5e-90b4-a63ef5b72ae6\" xlink:actuate=\"onRequest\" xlink:href=\"psysml:510a33c1-eff7-4e5e-90b4-a63ef5b72ae6\" xlink:show=\"new\" xlink:title=\"psysml:510a33c1-eff7-4e5e-90b4-a63ef5b72ae6\" xlink:type=\"simple\"><rect fill=\"#FFFFFF\" height=\"40\" id=\"E11\" rx=\"10\" ry=\"10\" style=\"stroke: #383838; stroke-width: 1.5;\" width=\"50\" x=\"395\" y=\"221.5\"/><rect fill=\"#F8F8F8\" height=\"23.9688\" rx=\"10\" ry=\"10\" style=\"stroke: #F8F8F8; stroke-width: 1.5;\" width=\"50\" x=\"395\" y=\"221.5\"/><rect fill=\"#F8F8F8\" height=\"10\" style=\"stroke: #F8F8F8; stroke-width: 1.5;\" width=\"50\" x=\"395\" y=\"235.4688\"/><rect fill=\"none\" height=\"40\" id=\"E11\" rx=\"10\" ry=\"10\" style=\"stroke: #383838; stroke-width: 1.5;\" width=\"50\" x=\"395\" y=\"221.5\"/><text fill=\"#000000\" font-family=\"sans-serif\" font-size=\"12\" lengthAdjust=\"spacingAndGlyphs\" textLength=\"8\" x=\"416\" y=\"237.6387\">p</text></a></g><!--MD5=[ee3c913d1a06f366521f9ef512b67efe]\n",
       "class E13--><a href=\"psysml:50b94a4a-7c4d-4845-a3da-b360d2df1f8c\" target=\"_top\" title=\"psysml:50b94a4a-7c4d-4845-a3da-b360d2df1f8c\" xlink:actuate=\"onRequest\" xlink:href=\"psysml:50b94a4a-7c4d-4845-a3da-b360d2df1f8c\" xlink:show=\"new\" xlink:title=\"psysml:50b94a4a-7c4d-4845-a3da-b360d2df1f8c\" xlink:type=\"simple\"><rect fill=\"#FFFFFF\" height=\"45.9375\" id=\"E13\" rx=\"10\" ry=\"10\" style=\"stroke: #383838; stroke-width: 1.5;\" width=\"93\" x=\"328.5\" y=\"84\"/><text fill=\"#000000\" font-family=\"sans-serif\" font-size=\"12\" font-style=\"italic\" lengthAdjust=\"spacingAndGlyphs\" textLength=\"91\" x=\"329.5\" y=\"100.1387\">«requirement»</text><text fill=\"#000000\" font-family=\"sans-serif\" font-size=\"12\" lengthAdjust=\"spacingAndGlyphs\" textLength=\"21\" x=\"364.5\" y=\"114.1074\">r: R</text><line style=\"stroke: #383838; stroke-width: 1.5;\" x1=\"329.5\" x2=\"420.5\" y1=\"121.9375\" y2=\"121.9375\"/></a><!--MD5=[05d275557350bfb9b23a4ef7222b4c39]\n",
       "link E3 to E2--><a href=\"psysml:e8229714-231f-4f2a-9005-056b1e69efb5\" target=\"_top\" title=\"psysml:e8229714-231f-4f2a-9005-056b1e69efb5\" xlink:actuate=\"onRequest\" xlink:href=\"psysml:e8229714-231f-4f2a-9005-056b1e69efb5\" xlink:show=\"new\" xlink:title=\"psysml:e8229714-231f-4f2a-9005-056b1e69efb5\" xlink:type=\"simple\"><path d=\"M236.26,130.18 C221.12,150.24 198.54,180.16 180.71,203.78 \" fill=\"none\" id=\"E3-&gt;E2\" style=\"stroke: #383838; stroke-width: 1.0;\"/><polygon fill=\"#FFFFFF\" points=\"168.48,219.99,174.3492,200.6108,185.5192,209.0508,168.48,219.99\" style=\"stroke: #383838; stroke-width: 1.0;\"/><ellipse cx=\"179.3812\" cy=\"197.2688\" fill=\"#383838\" rx=\"2\" ry=\"2\" style=\"stroke: #383838; stroke-width: 1.0;\"/><ellipse cx=\"187.3597\" cy=\"203.2973\" fill=\"#383838\" rx=\"2\" ry=\"2\" style=\"stroke: #383838; stroke-width: 1.0;\"/></a><!--MD5=[722ff4eef345aa10242dad44df0e98c7]\n",
       "reverse link E4 to E7--><a href=\"psysml:eafce8af-10f9-4af7-9431-7513cc7d3347\" target=\"_top\" title=\"psysml:eafce8af-10f9-4af7-9431-7513cc7d3347\" xlink:actuate=\"onRequest\" xlink:href=\"psysml:eafce8af-10f9-4af7-9431-7513cc7d3347\" xlink:show=\"new\" xlink:title=\"psysml:eafce8af-10f9-4af7-9431-7513cc7d3347\" xlink:type=\"simple\"><path d=\"M252.95,306.78 C248.59,312.6 244.41,318.2 240.65,323.23 \" fill=\"none\" id=\"E4&lt;-E7\" style=\"stroke: #383838; stroke-width: 1.0;\"/><polygon fill=\"#383838\" points=\"260.92,296.11,254.1237,298.5205,253.7348,305.7211,260.5311,303.3106,260.92,296.11\" style=\"stroke: #383838; stroke-width: 1.0;\"/></a><!--MD5=[c6fc7cdb0cabde04948078cf183fa696]\n",
       "reverse link E4 to E8--><a href=\"psysml:a0130814-5dc8-48af-af1a-9e985463643e\" target=\"_top\" title=\"psysml:a0130814-5dc8-48af-af1a-9e985463643e\" xlink:actuate=\"onRequest\" xlink:href=\"psysml:a0130814-5dc8-48af-af1a-9e985463643e\" xlink:show=\"new\" xlink:title=\"psysml:a0130814-5dc8-48af-af1a-9e985463643e\" xlink:type=\"simple\"><path d=\"M341.65,308.95 C342.43,310.23 343.2,311.5 343.96,312.74 \" fill=\"none\" id=\"E4&lt;-E8\" style=\"stroke: #383838; stroke-width: 1.0;\"/><ellipse cx=\"337.9641\" cy=\"302.9347\" fill=\"#FFFFFF\" rx=\"8\" ry=\"8\" style=\"stroke: #383838; stroke-width: 1.0;\"/><line style=\"stroke: #383838; stroke-width: 1.0;\" x1=\"342.1381\" x2=\"333.79\" y1=\"309.7595\" y2=\"296.11\"/><line style=\"stroke: #383838; stroke-width: 1.0;\" x1=\"331.1393\" x2=\"344.7888\" y1=\"307.1088\" y2=\"298.7607\"/></a><!--MD5=[017847e01ff9a8bd19f247411074f987]\n",
       "link E13 to E4--><a href=\"psysml:279d9c9b-21cb-4076-8967-339bf6a79b4c\" target=\"_top\" title=\"psysml:279d9c9b-21cb-4076-8967-339bf6a79b4c\" xlink:actuate=\"onRequest\" xlink:href=\"psysml:279d9c9b-21cb-4076-8967-339bf6a79b4c\" xlink:show=\"new\" xlink:title=\"psysml:279d9c9b-21cb-4076-8967-339bf6a79b4c\" xlink:type=\"simple\"><path d=\"M362.61,130.18 C356.54,141.06 348.84,154.83 340.97,168.94 \" fill=\"none\" id=\"E13-&gt;E4\" style=\"stroke: #383838; stroke-width: 1.0;\"/><polygon fill=\"#FFFFFF\" points=\"331,186.78,334.1525,166.7785,346.3756,173.6046,331,186.78\" style=\"stroke: #383838; stroke-width: 1.0;\"/><ellipse cx=\"338.6779\" cy=\"162.7771\" fill=\"#383838\" rx=\"2\" ry=\"2\" style=\"stroke: #383838; stroke-width: 1.0;\"/><ellipse cx=\"347.4086\" cy=\"167.6529\" fill=\"#383838\" rx=\"2\" ry=\"2\" style=\"stroke: #383838; stroke-width: 1.0;\"/></a><!--MD5=[2cfe899c895462254056921bfb67315f]\n",
       "link E13 to E11--><a href=\"psysml:fcf36e7c-2665-4a1d-8cf4-6fcc5b08ef04\" target=\"_top\" title=\"psysml:fcf36e7c-2665-4a1d-8cf4-6fcc5b08ef04\" xlink:actuate=\"onRequest\" xlink:href=\"psysml:fcf36e7c-2665-4a1d-8cf4-6fcc5b08ef04\" xlink:show=\"new\" xlink:title=\"psysml:fcf36e7c-2665-4a1d-8cf4-6fcc5b08ef04\" xlink:type=\"simple\"><path d=\"M382.53,130.18 C390.61,153.97 403.41,191.66 411.76,216.23 \" fill=\"none\" id=\"E13-&gt;E11\" style=\"stroke: #383838; stroke-width: 1.0; stroke-dasharray: 7.0,7.0;\"/><polygon fill=\"#383838\" points=\"413.47,221.27,414.3568,211.4611,411.859,216.5367,406.7834,214.0388,413.47,221.27\" style=\"stroke: #383838; stroke-width: 1.0;\"/><text fill=\"#000000\" font-family=\"sans-serif\" font-size=\"13\" lengthAdjust=\"spacingAndGlyphs\" textLength=\"57\" x=\"399\" y=\"175.0669\">«satisfy»</text></a><!--MD5=[a86a185da37a5cb38e5c6c22a08f78e8]\n",
       "@startuml\r\n",
       "skinparam ranksep 10\r\n",
       "skinparam rectangle {\r\n",
       " backgroundColor<<block>> LightGreen\r\n",
       "}\r\n",
       "skinparam linetype polyline\r\n",
       "skinparam monochrome true\r\n",
       "skinparam classbackgroundcolor white\r\n",
       "skinparam shadowing false\r\n",
       "skinparam wrapWidth 300\r\n",
       "hide circle\r\n",
       "\r\n",
       "package \"RequirementTest\" as E1  [[psysml:f822a5b9-f637-4bfc-9356-d45755be39c3 ]]  {\r\n",
       "def \"C\" as E2  <<(T,blue)constraint def>> [[psysml:55e0c843-cabd-4238-9430-5e5ddb37e322 ]] \r\n",
       "comp usage \"c: C\" as E3  <<(T,blue)constraint>> [[psysml:943270d7-f648-4f2b-99ed-798f0a01be75 ]] {\r\n",
       "}\r\n",
       "comp def \"R\" as E4  <<(T,blue)requirement def>> [[psysml:3547be1a-4b91-4a24-a66e-ac992d912d25 ]] {\r\n",
       "\r\n",
       "- -\r\n",
       "- - constraints - -\r\n",
       "<b>require</b> c\r\n",
       "<i>assume</i> c1: C\r\n",
       "}\r\n",
       "comp usage \"<s>noname</s>\" as E7  <<(T,blue)requirement>> [[psysml:5cc59123-afbd-4e9a-96fa-0bfa0b631260 ]] {\r\n",
       "}\r\n",
       "comp def \" [<b>1</b>] A\" as E8  <<(T,blue)requirement def>> [[psysml:49e593a4-f39b-4803-a2ce-02c26b916197 ]] {\r\n",
       "Text\r\n",
       "- -\r\n",
       "}\r\n",
       "comp def \"R1\" as E9  <<(T,blue)requirement def>> [[psysml:79fb73d3-867b-49b4-8196-8eb6e64f62f0 ]] {\r\n",
       "- - constraints - -\r\n",
       "<b>require</b> c1\\n//:>>RequirementTest::c// \r\n",
       "}\r\n",
       "rec usage \"p\" as E11  [[psysml:510a33c1-eff7-4e5e-90b4-a63ef5b72ae6 ]] {\r\n",
       "}\r\n",
       "rec usage \"q\" as E12  [[psysml:a6cd5ff6-20a0-4014-8266-5a2f114de57c ]] {\r\n",
       "comp usage \"r: R\" as E13  <<(T,blue)requirement>> [[psysml:50b94a4a-7c4d-4845-a3da-b360d2df1f8c ]] {\r\n",
       "}\r\n",
       "}\r\n",
       "E3 - -:|> E2 [[psysml:e8229714-231f-4f2a-9005-056b1e69efb5 ]] \r\n",
       "E4 *- - E7 [[psysml:eafce8af-10f9-4af7-9431-7513cc7d3347 ]] \r\n",
       "E4 +- - E8 [[psysml:a0130814-5dc8-48af-af1a-9e985463643e ]] \r\n",
       "E13 - -:|> E4 [[psysml:279d9c9b-21cb-4076-8967-339bf6a79b4c ]] \r\n",
       "E13 ..> E11 [[psysml:fcf36e7c-2665-4a1d-8cf4-6fcc5b08ef04 ]] : <<satisfy>>\r\n",
       "}\r\n",
       "@enduml\r\n",
       "\n",
       "PlantUML version 1.2020.13(Sat Jun 13 12:26:38 UTC 2020)\n",
       "(EPL source distribution)\n",
       "Java Runtime: OpenJDK Runtime Environment\n",
       "JVM: OpenJDK 64-Bit Server VM\n",
       "Default Encoding: UTF-8\n",
       "Language: en\n",
       "Country: null\n",
       "--></g></svg>"
      ]
     },
     "execution_count": 12,
     "metadata": {},
     "output_type": "execute_result"
    }
   ],
   "source": [
    "%viz --style=\"POLYLINE\" --view=\"Interconnection\" \"RequirementTest\""
   ]
  },
  {
   "cell_type": "code",
   "execution_count": 13,
   "id": "b8dd6615",
   "metadata": {
    "execution": {
     "iopub.execute_input": "2021-04-21T20:21:27.090911Z",
     "iopub.status.busy": "2021-04-21T20:21:27.090239Z",
     "iopub.status.idle": "2021-04-21T20:21:27.100469Z",
     "shell.execute_reply": "2021-04-21T20:21:27.100135Z"
    }
   },
   "outputs": [
    {
     "data": {
      "image/svg+xml": [
       "<?xml version=\"1.0\" encoding=\"UTF-8\" standalone=\"no\"?><svg xmlns=\"http://www.w3.org/2000/svg\" xmlns:xlink=\"http://www.w3.org/1999/xlink\" contentScriptType=\"application/ecmascript\" contentStyleType=\"text/css\" height=\"12px\" preserveAspectRatio=\"none\" style=\"width:12px;height:12px;\" version=\"1.1\" viewBox=\"0 0 12 12\" width=\"12px\" zoomAndPan=\"magnify\"><defs/><g><!--MD5=[97bbf32f66ccd50cbc40d92ea8f5a65e]\n",
       "@startuml\r\n",
       "skinparam ranksep 8\r\n",
       "skinparam linetype polyline\r\n",
       "skinparam monochrome true\r\n",
       "skinparam classbackgroundcolor white\r\n",
       "skinparam shadowing false\r\n",
       "skinparam wrapWidth 300\r\n",
       "hide circle\r\n",
       "\r\n",
       "@enduml\r\n",
       "\n",
       "PlantUML version 1.2020.13(Sat Jun 13 12:26:38 UTC 2020)\n",
       "(EPL source distribution)\n",
       "Java Runtime: OpenJDK Runtime Environment\n",
       "JVM: OpenJDK 64-Bit Server VM\n",
       "Default Encoding: UTF-8\n",
       "Language: en\n",
       "Country: null\n",
       "--></g></svg>"
      ]
     },
     "execution_count": 13,
     "metadata": {},
     "output_type": "execute_result"
    }
   ],
   "source": [
    "%viz --style=\"POLYLINE\" --view=\"Action\" \"RequirementTest\""
   ]
  },
  {
   "cell_type": "code",
   "execution_count": 14,
   "id": "d7282b8b",
   "metadata": {
    "execution": {
     "iopub.execute_input": "2021-04-21T20:21:27.151902Z",
     "iopub.status.busy": "2021-04-21T20:21:27.151314Z",
     "iopub.status.idle": "2021-04-21T20:21:27.307932Z",
     "shell.execute_reply": "2021-04-21T20:21:27.306000Z"
    }
   },
   "outputs": [
    {
     "data": {
      "image/svg+xml": [
       "<?xml version=\"1.0\" encoding=\"UTF-8\" standalone=\"no\"?><svg xmlns=\"http://www.w3.org/2000/svg\" xmlns:xlink=\"http://www.w3.org/1999/xlink\" contentScriptType=\"application/ecmascript\" contentStyleType=\"text/css\" height=\"578px\" preserveAspectRatio=\"none\" style=\"width:408px;height:578px;\" version=\"1.1\" viewBox=\"0 0 408 578\" width=\"408px\" zoomAndPan=\"magnify\"><defs/><g><!--MD5=[fbc87193dbaf4d95561dea2c320d4a47]\n",
       "cluster E1--><a href=\"psysml:f822a5b9-f637-4bfc-9356-d45755be39c3\" target=\"_top\" title=\"psysml:f822a5b9-f637-4bfc-9356-d45755be39c3\" xlink:actuate=\"onRequest\" xlink:href=\"psysml:f822a5b9-f637-4bfc-9356-d45755be39c3\" xlink:show=\"new\" xlink:title=\"psysml:f822a5b9-f637-4bfc-9356-d45755be39c3\" xlink:type=\"simple\"><polygon fill=\"#FFFFFF\" points=\"16,6,158,6,165,28.2969,386,28.2969,386,566,16,566,16,6\" style=\"stroke: #000000; stroke-width: 1.5;\"/><line style=\"stroke: #000000; stroke-width: 1.5;\" x1=\"16\" x2=\"165\" y1=\"28.2969\" y2=\"28.2969\"/><text fill=\"#000000\" font-family=\"sans-serif\" font-size=\"14\" font-weight=\"bold\" lengthAdjust=\"spacingAndGlyphs\" textLength=\"136\" x=\"20\" y=\"20.9951\">RequirementTest</text></a><!--MD5=[b4997ac47864f28c2f74865a473b2911]\n",
       "class E2--><a href=\"psysml:55e0c843-cabd-4238-9430-5e5ddb37e322\" target=\"_top\" title=\"psysml:55e0c843-cabd-4238-9430-5e5ddb37e322\" xlink:actuate=\"onRequest\" xlink:href=\"psysml:55e0c843-cabd-4238-9430-5e5ddb37e322\" xlink:show=\"new\" xlink:title=\"psysml:55e0c843-cabd-4238-9430-5e5ddb37e322\" xlink:type=\"simple\"><rect fill=\"#FFFFFF\" height=\"45.9375\" id=\"E2\" style=\"stroke: #383838; stroke-width: 1.5;\" width=\"104\" x=\"266\" y=\"190\"/><text fill=\"#000000\" font-family=\"sans-serif\" font-size=\"12\" font-style=\"italic\" lengthAdjust=\"spacingAndGlyphs\" textLength=\"102\" x=\"267\" y=\"206.1387\">«constraint def»</text><text fill=\"#000000\" font-family=\"sans-serif\" font-size=\"12\" lengthAdjust=\"spacingAndGlyphs\" textLength=\"8\" x=\"314\" y=\"220.1074\">C</text><line style=\"stroke: #383838; stroke-width: 1.5;\" x1=\"267\" x2=\"369\" y1=\"227.9375\" y2=\"227.9375\"/></a><!--MD5=[09b614a08d8cba4a07c9adeb5e0fee81]\n",
       "class E3--><a href=\"psysml:943270d7-f648-4f2b-99ed-798f0a01be75\" target=\"_top\" title=\"psysml:943270d7-f648-4f2b-99ed-798f0a01be75\" xlink:actuate=\"onRequest\" xlink:href=\"psysml:943270d7-f648-4f2b-99ed-798f0a01be75\" xlink:show=\"new\" xlink:title=\"psysml:943270d7-f648-4f2b-99ed-798f0a01be75\" xlink:type=\"simple\"><rect fill=\"#FFFFFF\" height=\"45.9375\" id=\"E3\" rx=\"10\" ry=\"10\" style=\"stroke: #383838; stroke-width: 1.5;\" width=\"80\" x=\"290\" y=\"62\"/><text fill=\"#000000\" font-family=\"sans-serif\" font-size=\"12\" font-style=\"italic\" lengthAdjust=\"spacingAndGlyphs\" textLength=\"78\" x=\"291\" y=\"78.1387\">«constraint»</text><text fill=\"#000000\" font-family=\"sans-serif\" font-size=\"12\" lengthAdjust=\"spacingAndGlyphs\" textLength=\"23\" x=\"318.5\" y=\"92.1074\">c: C</text><line style=\"stroke: #383838; stroke-width: 1.5;\" x1=\"291\" x2=\"369\" y1=\"99.9375\" y2=\"99.9375\"/></a><!--MD5=[ebbe1d658d1005bcc118a6aa81145e00]\n",
       "class E4--><a href=\"psysml:3547be1a-4b91-4a24-a66e-ac992d912d25\" target=\"_top\" title=\"psysml:3547be1a-4b91-4a24-a66e-ac992d912d25\" xlink:actuate=\"onRequest\" xlink:href=\"psysml:3547be1a-4b91-4a24-a66e-ac992d912d25\" xlink:show=\"new\" xlink:title=\"psysml:3547be1a-4b91-4a24-a66e-ac992d912d25\" xlink:type=\"simple\"><rect fill=\"#FFFFFF\" height=\"109.1563\" id=\"E4\" style=\"stroke: #383838; stroke-width: 1.5;\" width=\"117\" x=\"32.5\" y=\"313\"/><text fill=\"#000000\" font-family=\"sans-serif\" font-size=\"12\" font-style=\"italic\" lengthAdjust=\"spacingAndGlyphs\" textLength=\"115\" x=\"33.5\" y=\"329.1387\">«requirement def»</text><text fill=\"#000000\" font-family=\"sans-serif\" font-size=\"12\" lengthAdjust=\"spacingAndGlyphs\" textLength=\"8\" x=\"87\" y=\"343.1074\">R</text><line style=\"stroke: #383838; stroke-width: 1.5;\" x1=\"33.5\" x2=\"148.5\" y1=\"350.9375\" y2=\"350.9375\"/><text fill=\"#000000\" font-family=\"sans-serif\" font-size=\"11\" lengthAdjust=\"spacingAndGlyphs\" textLength=\"0\" x=\"42.5\" y=\"365.1479\"/><line style=\"stroke: #383838; stroke-width: 1.0;\" x1=\"33.5\" x2=\"148.5\" y1=\"371.7422\" y2=\"371.7422\"/><text fill=\"#000000\" font-family=\"sans-serif\" font-size=\"11\" font-weight=\"bold\" lengthAdjust=\"spacingAndGlyphs\" textLength=\"46\" x=\"38.5\" y=\"402.7573\">require</text><text fill=\"#000000\" font-family=\"sans-serif\" font-size=\"11\" lengthAdjust=\"spacingAndGlyphs\" textLength=\"6\" x=\"88.5\" y=\"402.7573\">c</text><text fill=\"#000000\" font-family=\"sans-serif\" font-size=\"11\" font-style=\"italic\" lengthAdjust=\"spacingAndGlyphs\" textLength=\"46\" x=\"38.5\" y=\"415.562\">assume</text><text fill=\"#000000\" font-family=\"sans-serif\" font-size=\"11\" lengthAdjust=\"spacingAndGlyphs\" textLength=\"29\" x=\"88.5\" y=\"415.562\">c1: C</text><line style=\"stroke: #383838; stroke-width: 1.0;\" x1=\"33.5\" x2=\"59\" y1=\"386.1445\" y2=\"386.1445\"/><text fill=\"#000000\" font-family=\"sans-serif\" font-size=\"11\" lengthAdjust=\"spacingAndGlyphs\" textLength=\"64\" x=\"59\" y=\"389.4526\">constraints</text><line style=\"stroke: #383838; stroke-width: 1.0;\" x1=\"123\" x2=\"148.5\" y1=\"386.1445\" y2=\"386.1445\"/></a><!--MD5=[2156ba9850f5573cc1fc38a6a4b2f02b]\n",
       "class E7--><a href=\"psysml:5cc59123-afbd-4e9a-96fa-0bfa0b631260\" target=\"_top\" title=\"psysml:5cc59123-afbd-4e9a-96fa-0bfa0b631260\" xlink:actuate=\"onRequest\" xlink:href=\"psysml:5cc59123-afbd-4e9a-96fa-0bfa0b631260\" xlink:show=\"new\" xlink:title=\"psysml:5cc59123-afbd-4e9a-96fa-0bfa0b631260\" xlink:type=\"simple\"><rect fill=\"#FFFFFF\" height=\"45.9375\" id=\"E7\" rx=\"10\" ry=\"10\" style=\"stroke: #383838; stroke-width: 1.5;\" width=\"93\" x=\"34.5\" y=\"493.5\"/><text fill=\"#000000\" font-family=\"sans-serif\" font-size=\"12\" font-style=\"italic\" lengthAdjust=\"spacingAndGlyphs\" textLength=\"91\" x=\"35.5\" y=\"509.6387\">«requirement»</text><text fill=\"#000000\" font-family=\"sans-serif\" font-size=\"12\" lengthAdjust=\"spacingAndGlyphs\" text-decoration=\"line-through\" textLength=\"51\" x=\"55.5\" y=\"523.6074\">noname</text><line style=\"stroke: #383838; stroke-width: 1.5;\" x1=\"35.5\" x2=\"126.5\" y1=\"531.4375\" y2=\"531.4375\"/></a><!--MD5=[b9389687b975829384b498ac4b7476b2]\n",
       "class E8--><a href=\"psysml:49e593a4-f39b-4803-a2ce-02c26b916197\" target=\"_top\" title=\"psysml:49e593a4-f39b-4803-a2ce-02c26b916197\" xlink:actuate=\"onRequest\" xlink:href=\"psysml:49e593a4-f39b-4803-a2ce-02c26b916197\" xlink:show=\"new\" xlink:title=\"psysml:49e593a4-f39b-4803-a2ce-02c26b916197\" xlink:type=\"simple\"><rect fill=\"#FFFFFF\" height=\"66.7422\" id=\"E8\" style=\"stroke: #383838; stroke-width: 1.5;\" width=\"117\" x=\"162.5\" y=\"483\"/><text fill=\"#000000\" font-family=\"sans-serif\" font-size=\"12\" font-style=\"italic\" lengthAdjust=\"spacingAndGlyphs\" textLength=\"115\" x=\"163.5\" y=\"499.1387\">«requirement def»</text><text fill=\"#000000\" font-family=\"sans-serif\" font-size=\"12\" lengthAdjust=\"spacingAndGlyphs\" textLength=\"5\" x=\"208\" y=\"513.1074\">[</text><text fill=\"#000000\" font-family=\"sans-serif\" font-size=\"12\" font-weight=\"bold\" lengthAdjust=\"spacingAndGlyphs\" textLength=\"8\" x=\"213\" y=\"513.1074\">1</text><text fill=\"#000000\" font-family=\"sans-serif\" font-size=\"12\" lengthAdjust=\"spacingAndGlyphs\" textLength=\"17\" x=\"221\" y=\"513.1074\">] A</text><line style=\"stroke: #383838; stroke-width: 1.5;\" x1=\"163.5\" x2=\"278.5\" y1=\"520.9375\" y2=\"520.9375\"/><text fill=\"#000000\" font-family=\"sans-serif\" font-size=\"11\" lengthAdjust=\"spacingAndGlyphs\" textLength=\"24\" x=\"168.5\" y=\"535.1479\">Text</text><line style=\"stroke: #383838; stroke-width: 1.0;\" x1=\"163.5\" x2=\"278.5\" y1=\"541.7422\" y2=\"541.7422\"/></a><!--MD5=[fd4143e9d270a159db93a4ea2a975926]\n",
       "class E9--><a href=\"psysml:79fb73d3-867b-49b4-8196-8eb6e64f62f0\" target=\"_top\" title=\"psysml:79fb73d3-867b-49b4-8196-8eb6e64f62f0\" xlink:actuate=\"onRequest\" xlink:href=\"psysml:79fb73d3-867b-49b4-8196-8eb6e64f62f0\" xlink:show=\"new\" xlink:title=\"psysml:79fb73d3-867b-49b4-8196-8eb6e64f62f0\" xlink:type=\"simple\"><rect fill=\"#FFFFFF\" height=\"88.3516\" id=\"E9\" style=\"stroke: #383838; stroke-width: 1.5;\" width=\"145\" x=\"109.5\" y=\"41\"/><text fill=\"#000000\" font-family=\"sans-serif\" font-size=\"12\" font-style=\"italic\" lengthAdjust=\"spacingAndGlyphs\" textLength=\"115\" x=\"124.5\" y=\"57.1387\">«requirement def»</text><text fill=\"#000000\" font-family=\"sans-serif\" font-size=\"12\" lengthAdjust=\"spacingAndGlyphs\" textLength=\"16\" x=\"174\" y=\"71.1074\">R1</text><line style=\"stroke: #383838; stroke-width: 1.5;\" x1=\"110.5\" x2=\"253.5\" y1=\"78.9375\" y2=\"78.9375\"/><text fill=\"#000000\" font-family=\"sans-serif\" font-size=\"11\" font-weight=\"bold\" lengthAdjust=\"spacingAndGlyphs\" textLength=\"46\" x=\"115.5\" y=\"109.9526\">require</text><text fill=\"#000000\" font-family=\"sans-serif\" font-size=\"11\" lengthAdjust=\"spacingAndGlyphs\" textLength=\"13\" x=\"165.5\" y=\"109.9526\">c1</text><text fill=\"#000000\" font-family=\"sans-serif\" font-size=\"11\" font-style=\"italic\" lengthAdjust=\"spacingAndGlyphs\" textLength=\"133\" x=\"115.5\" y=\"122.7573\">:&gt;&gt;RequirementTest::c</text><line style=\"stroke: #383838; stroke-width: 1.0;\" x1=\"110.5\" x2=\"150\" y1=\"93.3398\" y2=\"93.3398\"/><text fill=\"#000000\" font-family=\"sans-serif\" font-size=\"11\" lengthAdjust=\"spacingAndGlyphs\" textLength=\"64\" x=\"150\" y=\"96.6479\">constraints</text><line style=\"stroke: #383838; stroke-width: 1.0;\" x1=\"214\" x2=\"253.5\" y1=\"93.3398\" y2=\"93.3398\"/></a><!--MD5=[1dd1bfd58a279cf63c5f349dbc8fc6a1]\n",
       "class E11--><a href=\"psysml:510a33c1-eff7-4e5e-90b4-a63ef5b72ae6\" target=\"_top\" title=\"psysml:510a33c1-eff7-4e5e-90b4-a63ef5b72ae6\" xlink:actuate=\"onRequest\" xlink:href=\"psysml:510a33c1-eff7-4e5e-90b4-a63ef5b72ae6\" xlink:show=\"new\" xlink:title=\"psysml:510a33c1-eff7-4e5e-90b4-a63ef5b72ae6\" xlink:type=\"simple\"><rect fill=\"#FFFFFF\" height=\"45.9375\" id=\"E11\" rx=\"10\" ry=\"10\" style=\"stroke: #383838; stroke-width: 1.5;\" width=\"42\" x=\"185\" y=\"344.5\"/><text fill=\"#000000\" font-family=\"sans-serif\" font-size=\"12\" font-style=\"italic\" lengthAdjust=\"spacingAndGlyphs\" textLength=\"40\" x=\"186\" y=\"360.6387\">«part»</text><text fill=\"#000000\" font-family=\"sans-serif\" font-size=\"12\" lengthAdjust=\"spacingAndGlyphs\" textLength=\"8\" x=\"202\" y=\"374.6074\">p</text><line style=\"stroke: #383838; stroke-width: 1.5;\" x1=\"186\" x2=\"226\" y1=\"382.4375\" y2=\"382.4375\"/></a><!--MD5=[49a0ec8f00dab7302a31f22d0f0fe584]\n",
       "class E12--><a href=\"psysml:a6cd5ff6-20a0-4014-8266-5a2f114de57c\" target=\"_top\" title=\"psysml:a6cd5ff6-20a0-4014-8266-5a2f114de57c\" xlink:actuate=\"onRequest\" xlink:href=\"psysml:a6cd5ff6-20a0-4014-8266-5a2f114de57c\" xlink:show=\"new\" xlink:title=\"psysml:a6cd5ff6-20a0-4014-8266-5a2f114de57c\" xlink:type=\"simple\"><rect fill=\"#FFFFFF\" height=\"45.9375\" id=\"E12\" rx=\"10\" ry=\"10\" style=\"stroke: #383838; stroke-width: 1.5;\" width=\"42\" x=\"32\" y=\"62\"/><text fill=\"#000000\" font-family=\"sans-serif\" font-size=\"12\" font-style=\"italic\" lengthAdjust=\"spacingAndGlyphs\" textLength=\"40\" x=\"33\" y=\"78.1387\">«part»</text><text fill=\"#000000\" font-family=\"sans-serif\" font-size=\"12\" lengthAdjust=\"spacingAndGlyphs\" textLength=\"8\" x=\"49\" y=\"92.1074\">q</text><line style=\"stroke: #383838; stroke-width: 1.5;\" x1=\"33\" x2=\"73\" y1=\"99.9375\" y2=\"99.9375\"/></a><!--MD5=[ee3c913d1a06f366521f9ef512b67efe]\n",
       "class E13--><a href=\"psysml:50b94a4a-7c4d-4845-a3da-b360d2df1f8c\" target=\"_top\" title=\"psysml:50b94a4a-7c4d-4845-a3da-b360d2df1f8c\" xlink:actuate=\"onRequest\" xlink:href=\"psysml:50b94a4a-7c4d-4845-a3da-b360d2df1f8c\" xlink:show=\"new\" xlink:title=\"psysml:50b94a4a-7c4d-4845-a3da-b360d2df1f8c\" xlink:type=\"simple\"><rect fill=\"#FFFFFF\" height=\"45.9375\" id=\"E13\" rx=\"10\" ry=\"10\" style=\"stroke: #383838; stroke-width: 1.5;\" width=\"93\" x=\"44.5\" y=\"190\"/><text fill=\"#000000\" font-family=\"sans-serif\" font-size=\"12\" font-style=\"italic\" lengthAdjust=\"spacingAndGlyphs\" textLength=\"91\" x=\"45.5\" y=\"206.1387\">«requirement»</text><text fill=\"#000000\" font-family=\"sans-serif\" font-size=\"12\" lengthAdjust=\"spacingAndGlyphs\" textLength=\"21\" x=\"80.5\" y=\"220.1074\">r: R</text><line style=\"stroke: #383838; stroke-width: 1.5;\" x1=\"45.5\" x2=\"136.5\" y1=\"227.9375\" y2=\"227.9375\"/></a><!--MD5=[05d275557350bfb9b23a4ef7222b4c39]\n",
       "link E3 to E2--><a href=\"psysml:e8229714-231f-4f2a-9005-056b1e69efb5\" target=\"_top\" title=\"psysml:e8229714-231f-4f2a-9005-056b1e69efb5\" xlink:actuate=\"onRequest\" xlink:href=\"psysml:e8229714-231f-4f2a-9005-056b1e69efb5\" xlink:show=\"new\" xlink:title=\"psysml:e8229714-231f-4f2a-9005-056b1e69efb5\" xlink:type=\"simple\"><path d=\"M327.88,108.24 C326.26,125.24 323.98,149.19 322.02,169.79 \" fill=\"none\" id=\"E3-&gt;E2\" style=\"stroke: #383838; stroke-width: 1.0;\"/><polygon fill=\"#FFFFFF\" points=\"320.1,189.99,314.9362,170.411,328.8729,171.7407,320.1,189.99\" style=\"stroke: #383838; stroke-width: 1.0;\"/><ellipse cx=\"317.4685\" cy=\"164.9268\" fill=\"#383838\" rx=\"2\" ry=\"2\" style=\"stroke: #383838; stroke-width: 1.0;\"/><ellipse cx=\"327.4233\" cy=\"165.8765\" fill=\"#383838\" rx=\"2\" ry=\"2\" style=\"stroke: #383838; stroke-width: 1.0;\"/></a><!--MD5=[722ff4eef345aa10242dad44df0e98c7]\n",
       "reverse link E4 to E7--><a href=\"psysml:eafce8af-10f9-4af7-9431-7513cc7d3347\" target=\"_top\" title=\"psysml:eafce8af-10f9-4af7-9431-7513cc7d3347\" xlink:actuate=\"onRequest\" xlink:href=\"psysml:eafce8af-10f9-4af7-9431-7513cc7d3347\" xlink:show=\"new\" xlink:title=\"psysml:eafce8af-10f9-4af7-9431-7513cc7d3347\" xlink:type=\"simple\"><path d=\"M86.44,435.59 C85.02,456.46 83.55,478.02 82.5,493.48 \" fill=\"none\" id=\"E4&lt;-E7\" style=\"stroke: #383838; stroke-width: 1.0;\"/><polygon fill=\"#383838\" points=\"87.33,422.4,82.9306,428.1136,86.5125,434.3721,90.912,428.6586,87.33,422.4\" style=\"stroke: #383838; stroke-width: 1.0;\"/></a><!--MD5=[c6fc7cdb0cabde04948078cf183fa696]\n",
       "reverse link E4 to E8--><a href=\"psysml:a0130814-5dc8-48af-af1a-9e985463643e\" target=\"_top\" title=\"psysml:a0130814-5dc8-48af-af1a-9e985463643e\" xlink:actuate=\"onRequest\" xlink:href=\"psysml:a0130814-5dc8-48af-af1a-9e985463643e\" xlink:show=\"new\" xlink:title=\"psysml:a0130814-5dc8-48af-af1a-9e985463643e\" xlink:type=\"simple\"><path d=\"M148.94,434.02 C163.95,450.99 179.47,468.53 192.24,482.98 \" fill=\"none\" id=\"E4&lt;-E8\" style=\"stroke: #383838; stroke-width: 1.0;\"/><ellipse cx=\"143.9698\" cy=\"428.3927\" fill=\"#FFFFFF\" rx=\"8\" ry=\"8\" style=\"stroke: #383838; stroke-width: 1.0;\"/><line style=\"stroke: #383838; stroke-width: 1.0;\" x1=\"149.2695\" x2=\"138.67\" y1=\"434.3854\" y2=\"422.4\"/><line style=\"stroke: #383838; stroke-width: 1.0;\" x1=\"137.9771\" x2=\"149.9625\" y1=\"433.6925\" y2=\"423.0929\"/></a><!--MD5=[062ed86c389d1a88f61c6380d0491e17]\n",
       "reverse link E12 to E13--><a href=\"psysml:044b978f-2385-4425-992f-2d75b645c055\" target=\"_top\" title=\"psysml:044b978f-2385-4425-992f-2d75b645c055\" xlink:actuate=\"onRequest\" xlink:href=\"psysml:044b978f-2385-4425-992f-2d75b645c055\" xlink:show=\"new\" xlink:title=\"psysml:044b978f-2385-4425-992f-2d75b645c055\" xlink:type=\"simple\"><path d=\"M63.49,120.8 C70.17,142.92 78.6,170.89 84.36,189.99 \" fill=\"none\" id=\"E12&lt;-E13\" style=\"stroke: #383838; stroke-width: 1.0;\"/><polygon fill=\"#383838\" points=\"59.71,108.24,57.6129,115.1394,63.1751,119.7288,65.2722,112.8294,59.71,108.24\" style=\"stroke: #383838; stroke-width: 1.0;\"/></a><!--MD5=[017847e01ff9a8bd19f247411074f987]\n",
       "link E13 to E4--><a href=\"psysml:279d9c9b-21cb-4076-8967-339bf6a79b4c\" target=\"_top\" title=\"psysml:279d9c9b-21cb-4076-8967-339bf6a79b4c\" xlink:actuate=\"onRequest\" xlink:href=\"psysml:279d9c9b-21cb-4076-8967-339bf6a79b4c\" xlink:show=\"new\" xlink:title=\"psysml:279d9c9b-21cb-4076-8967-339bf6a79b4c\" xlink:type=\"simple\"><path d=\"M91,236.17 C91,251.17 91,271.91 91,292.44 \" fill=\"none\" id=\"E13-&gt;E4\" style=\"stroke: #383838; stroke-width: 1.0;\"/><polygon fill=\"#FFFFFF\" points=\"91,312.68,84,293.68,98,293.68,91,312.68\" style=\"stroke: #383838; stroke-width: 1.0;\"/><ellipse cx=\"86\" cy=\"287.98\" fill=\"#383838\" rx=\"2\" ry=\"2\" style=\"stroke: #383838; stroke-width: 1.0;\"/><ellipse cx=\"96\" cy=\"287.98\" fill=\"#383838\" rx=\"2\" ry=\"2\" style=\"stroke: #383838; stroke-width: 1.0;\"/></a><!--MD5=[2cfe899c895462254056921bfb67315f]\n",
       "link E13 to E11--><a href=\"psysml:fcf36e7c-2665-4a1d-8cf4-6fcc5b08ef04\" target=\"_top\" title=\"psysml:fcf36e7c-2665-4a1d-8cf4-6fcc5b08ef04\" xlink:actuate=\"onRequest\" xlink:href=\"psysml:fcf36e7c-2665-4a1d-8cf4-6fcc5b08ef04\" xlink:show=\"new\" xlink:title=\"psysml:fcf36e7c-2665-4a1d-8cf4-6fcc5b08ef04\" xlink:type=\"simple\"><path d=\"M108.25,236.46 C130.67,265.67 167,313 167,313 C167,313 176.99,326.71 186.86,340.25 \" fill=\"none\" id=\"E13-&gt;E11\" style=\"stroke: #383838; stroke-width: 1.0; stroke-dasharray: 7.0,7.0;\"/><polygon fill=\"#383838\" points=\"189.91,344.43,187.8474,334.7996,186.9674,340.3876,181.3794,339.5076,189.91,344.43\" style=\"stroke: #383838; stroke-width: 1.0;\"/><text fill=\"#000000\" font-family=\"sans-serif\" font-size=\"13\" lengthAdjust=\"spacingAndGlyphs\" textLength=\"57\" x=\"143\" y=\"279.0669\">«satisfy»</text></a><!--MD5=[e74edf9578193d43c6a4f5620f4d2deb]\n",
       "@startuml\r\n",
       "skinparam linetype polyline\r\n",
       "skinparam monochrome true\r\n",
       "skinparam classbackgroundcolor white\r\n",
       "skinparam shadowing false\r\n",
       "skinparam wrapWidth 300\r\n",
       "hide circle\r\n",
       "\r\n",
       "package \"RequirementTest\" as E1  [[psysml:f822a5b9-f637-4bfc-9356-d45755be39c3 ]]  {\r\n",
       "comp def \"C\" as E2  <<(T,blue)constraint def>> [[psysml:55e0c843-cabd-4238-9430-5e5ddb37e322 ]] {\r\n",
       "}\r\n",
       "comp usage \"c: C\" as E3  <<(T,blue)constraint>> [[psysml:943270d7-f648-4f2b-99ed-798f0a01be75 ]] {\r\n",
       "}\r\n",
       "comp def \"R\" as E4  <<(T,blue)requirement def>> [[psysml:3547be1a-4b91-4a24-a66e-ac992d912d25 ]] {\r\n",
       "\r\n",
       "- -\r\n",
       "- - constraints - -\r\n",
       "<b>require</b> c\r\n",
       "<i>assume</i> c1: C\r\n",
       "}\r\n",
       "comp usage \"<s>noname</s>\" as E7  <<(T,blue)requirement>> [[psysml:5cc59123-afbd-4e9a-96fa-0bfa0b631260 ]] {\r\n",
       "}\r\n",
       "comp def \" [<b>1</b>] A\" as E8  <<(T,blue)requirement def>> [[psysml:49e593a4-f39b-4803-a2ce-02c26b916197 ]] {\r\n",
       "Text\r\n",
       "- -\r\n",
       "}\r\n",
       "comp def \"R1\" as E9  <<(T,blue)requirement def>> [[psysml:79fb73d3-867b-49b4-8196-8eb6e64f62f0 ]] {\r\n",
       "- - constraints - -\r\n",
       "<b>require</b> c1\\n//:>>RequirementTest::c// \r\n",
       "}\r\n",
       "comp usage \"p\" as E11  <<(T,blue)part>> [[psysml:510a33c1-eff7-4e5e-90b4-a63ef5b72ae6 ]] {\r\n",
       "}\r\n",
       "comp usage \"q\" as E12  <<(T,blue)part>> [[psysml:a6cd5ff6-20a0-4014-8266-5a2f114de57c ]] {\r\n",
       "}\r\n",
       "comp usage \"r: R\" as E13  <<(T,blue)requirement>> [[psysml:50b94a4a-7c4d-4845-a3da-b360d2df1f8c ]] {\r\n",
       "}\r\n",
       "E3 - -:|> E2 [[psysml:e8229714-231f-4f2a-9005-056b1e69efb5 ]] \r\n",
       "E4 *- - E7 [[psysml:eafce8af-10f9-4af7-9431-7513cc7d3347 ]] \r\n",
       "E4 +- - E8 [[psysml:a0130814-5dc8-48af-af1a-9e985463643e ]] \r\n",
       "E12 *- - E13 [[psysml:044b978f-2385-4425-992f-2d75b645c055 ]] \r\n",
       "E13 - -:|> E4 [[psysml:279d9c9b-21cb-4076-8967-339bf6a79b4c ]] \r\n",
       "E13 ..> E11 [[psysml:fcf36e7c-2665-4a1d-8cf4-6fcc5b08ef04 ]] : <<satisfy>>\r\n",
       "}\r\n",
       "@enduml\r\n",
       "\n",
       "PlantUML version 1.2020.13(Sat Jun 13 12:26:38 UTC 2020)\n",
       "(EPL source distribution)\n",
       "Java Runtime: OpenJDK Runtime Environment\n",
       "JVM: OpenJDK 64-Bit Server VM\n",
       "Default Encoding: UTF-8\n",
       "Language: en\n",
       "Country: null\n",
       "--></g></svg>"
      ]
     },
     "execution_count": 14,
     "metadata": {},
     "output_type": "execute_result"
    }
   ],
   "source": [
    "%viz --style=\"POLYLINE\" --view=\"Sequence\" \"RequirementTest\""
   ]
  },
  {
   "cell_type": "code",
   "execution_count": 15,
   "id": "d906cef2",
   "metadata": {
    "execution": {
     "iopub.execute_input": "2021-04-21T20:21:27.358415Z",
     "iopub.status.busy": "2021-04-21T20:21:27.357892Z",
     "iopub.status.idle": "2021-04-21T20:21:27.529919Z",
     "shell.execute_reply": "2021-04-21T20:21:27.529415Z"
    }
   },
   "outputs": [
    {
     "data": {
      "image/svg+xml": [
       "<?xml version=\"1.0\" encoding=\"UTF-8\" standalone=\"no\"?><svg xmlns=\"http://www.w3.org/2000/svg\" xmlns:xlink=\"http://www.w3.org/1999/xlink\" contentScriptType=\"application/ecmascript\" contentStyleType=\"text/css\" height=\"578px\" preserveAspectRatio=\"none\" style=\"width:408px;height:578px;\" version=\"1.1\" viewBox=\"0 0 408 578\" width=\"408px\" zoomAndPan=\"magnify\"><defs/><g><!--MD5=[fbc87193dbaf4d95561dea2c320d4a47]\n",
       "cluster E1--><a href=\"psysml:f822a5b9-f637-4bfc-9356-d45755be39c3\" target=\"_top\" title=\"psysml:f822a5b9-f637-4bfc-9356-d45755be39c3\" xlink:actuate=\"onRequest\" xlink:href=\"psysml:f822a5b9-f637-4bfc-9356-d45755be39c3\" xlink:show=\"new\" xlink:title=\"psysml:f822a5b9-f637-4bfc-9356-d45755be39c3\" xlink:type=\"simple\"><polygon fill=\"#FFFFFF\" points=\"16,6,158,6,165,28.2969,386,28.2969,386,566,16,566,16,6\" style=\"stroke: #000000; stroke-width: 1.5;\"/><line style=\"stroke: #000000; stroke-width: 1.5;\" x1=\"16\" x2=\"165\" y1=\"28.2969\" y2=\"28.2969\"/><text fill=\"#000000\" font-family=\"sans-serif\" font-size=\"14\" font-weight=\"bold\" lengthAdjust=\"spacingAndGlyphs\" textLength=\"136\" x=\"20\" y=\"20.9951\">RequirementTest</text></a><!--MD5=[b4997ac47864f28c2f74865a473b2911]\n",
       "class E2--><a href=\"psysml:55e0c843-cabd-4238-9430-5e5ddb37e322\" target=\"_top\" title=\"psysml:55e0c843-cabd-4238-9430-5e5ddb37e322\" xlink:actuate=\"onRequest\" xlink:href=\"psysml:55e0c843-cabd-4238-9430-5e5ddb37e322\" xlink:show=\"new\" xlink:title=\"psysml:55e0c843-cabd-4238-9430-5e5ddb37e322\" xlink:type=\"simple\"><rect fill=\"#FFFFFF\" height=\"45.9375\" id=\"E2\" style=\"stroke: #383838; stroke-width: 1.5;\" width=\"104\" x=\"266\" y=\"190\"/><text fill=\"#000000\" font-family=\"sans-serif\" font-size=\"12\" font-style=\"italic\" lengthAdjust=\"spacingAndGlyphs\" textLength=\"102\" x=\"267\" y=\"206.1387\">«constraint def»</text><text fill=\"#000000\" font-family=\"sans-serif\" font-size=\"12\" lengthAdjust=\"spacingAndGlyphs\" textLength=\"8\" x=\"314\" y=\"220.1074\">C</text><line style=\"stroke: #383838; stroke-width: 1.5;\" x1=\"267\" x2=\"369\" y1=\"227.9375\" y2=\"227.9375\"/></a><!--MD5=[09b614a08d8cba4a07c9adeb5e0fee81]\n",
       "class E3--><a href=\"psysml:943270d7-f648-4f2b-99ed-798f0a01be75\" target=\"_top\" title=\"psysml:943270d7-f648-4f2b-99ed-798f0a01be75\" xlink:actuate=\"onRequest\" xlink:href=\"psysml:943270d7-f648-4f2b-99ed-798f0a01be75\" xlink:show=\"new\" xlink:title=\"psysml:943270d7-f648-4f2b-99ed-798f0a01be75\" xlink:type=\"simple\"><rect fill=\"#FFFFFF\" height=\"45.9375\" id=\"E3\" rx=\"10\" ry=\"10\" style=\"stroke: #383838; stroke-width: 1.5;\" width=\"80\" x=\"290\" y=\"62\"/><text fill=\"#000000\" font-family=\"sans-serif\" font-size=\"12\" font-style=\"italic\" lengthAdjust=\"spacingAndGlyphs\" textLength=\"78\" x=\"291\" y=\"78.1387\">«constraint»</text><text fill=\"#000000\" font-family=\"sans-serif\" font-size=\"12\" lengthAdjust=\"spacingAndGlyphs\" textLength=\"23\" x=\"318.5\" y=\"92.1074\">c: C</text><line style=\"stroke: #383838; stroke-width: 1.5;\" x1=\"291\" x2=\"369\" y1=\"99.9375\" y2=\"99.9375\"/></a><!--MD5=[ebbe1d658d1005bcc118a6aa81145e00]\n",
       "class E4--><a href=\"psysml:3547be1a-4b91-4a24-a66e-ac992d912d25\" target=\"_top\" title=\"psysml:3547be1a-4b91-4a24-a66e-ac992d912d25\" xlink:actuate=\"onRequest\" xlink:href=\"psysml:3547be1a-4b91-4a24-a66e-ac992d912d25\" xlink:show=\"new\" xlink:title=\"psysml:3547be1a-4b91-4a24-a66e-ac992d912d25\" xlink:type=\"simple\"><rect fill=\"#FFFFFF\" height=\"109.1563\" id=\"E4\" style=\"stroke: #383838; stroke-width: 1.5;\" width=\"117\" x=\"32.5\" y=\"313\"/><text fill=\"#000000\" font-family=\"sans-serif\" font-size=\"12\" font-style=\"italic\" lengthAdjust=\"spacingAndGlyphs\" textLength=\"115\" x=\"33.5\" y=\"329.1387\">«requirement def»</text><text fill=\"#000000\" font-family=\"sans-serif\" font-size=\"12\" lengthAdjust=\"spacingAndGlyphs\" textLength=\"8\" x=\"87\" y=\"343.1074\">R</text><line style=\"stroke: #383838; stroke-width: 1.5;\" x1=\"33.5\" x2=\"148.5\" y1=\"350.9375\" y2=\"350.9375\"/><text fill=\"#000000\" font-family=\"sans-serif\" font-size=\"11\" lengthAdjust=\"spacingAndGlyphs\" textLength=\"0\" x=\"42.5\" y=\"365.1479\"/><line style=\"stroke: #383838; stroke-width: 1.0;\" x1=\"33.5\" x2=\"148.5\" y1=\"371.7422\" y2=\"371.7422\"/><text fill=\"#000000\" font-family=\"sans-serif\" font-size=\"11\" font-weight=\"bold\" lengthAdjust=\"spacingAndGlyphs\" textLength=\"46\" x=\"38.5\" y=\"402.7573\">require</text><text fill=\"#000000\" font-family=\"sans-serif\" font-size=\"11\" lengthAdjust=\"spacingAndGlyphs\" textLength=\"6\" x=\"88.5\" y=\"402.7573\">c</text><text fill=\"#000000\" font-family=\"sans-serif\" font-size=\"11\" font-style=\"italic\" lengthAdjust=\"spacingAndGlyphs\" textLength=\"46\" x=\"38.5\" y=\"415.562\">assume</text><text fill=\"#000000\" font-family=\"sans-serif\" font-size=\"11\" lengthAdjust=\"spacingAndGlyphs\" textLength=\"29\" x=\"88.5\" y=\"415.562\">c1: C</text><line style=\"stroke: #383838; stroke-width: 1.0;\" x1=\"33.5\" x2=\"59\" y1=\"386.1445\" y2=\"386.1445\"/><text fill=\"#000000\" font-family=\"sans-serif\" font-size=\"11\" lengthAdjust=\"spacingAndGlyphs\" textLength=\"64\" x=\"59\" y=\"389.4526\">constraints</text><line style=\"stroke: #383838; stroke-width: 1.0;\" x1=\"123\" x2=\"148.5\" y1=\"386.1445\" y2=\"386.1445\"/></a><!--MD5=[2156ba9850f5573cc1fc38a6a4b2f02b]\n",
       "class E7--><a href=\"psysml:5cc59123-afbd-4e9a-96fa-0bfa0b631260\" target=\"_top\" title=\"psysml:5cc59123-afbd-4e9a-96fa-0bfa0b631260\" xlink:actuate=\"onRequest\" xlink:href=\"psysml:5cc59123-afbd-4e9a-96fa-0bfa0b631260\" xlink:show=\"new\" xlink:title=\"psysml:5cc59123-afbd-4e9a-96fa-0bfa0b631260\" xlink:type=\"simple\"><rect fill=\"#FFFFFF\" height=\"45.9375\" id=\"E7\" rx=\"10\" ry=\"10\" style=\"stroke: #383838; stroke-width: 1.5;\" width=\"93\" x=\"34.5\" y=\"493.5\"/><text fill=\"#000000\" font-family=\"sans-serif\" font-size=\"12\" font-style=\"italic\" lengthAdjust=\"spacingAndGlyphs\" textLength=\"91\" x=\"35.5\" y=\"509.6387\">«requirement»</text><text fill=\"#000000\" font-family=\"sans-serif\" font-size=\"12\" lengthAdjust=\"spacingAndGlyphs\" text-decoration=\"line-through\" textLength=\"51\" x=\"55.5\" y=\"523.6074\">noname</text><line style=\"stroke: #383838; stroke-width: 1.5;\" x1=\"35.5\" x2=\"126.5\" y1=\"531.4375\" y2=\"531.4375\"/></a><!--MD5=[b9389687b975829384b498ac4b7476b2]\n",
       "class E8--><a href=\"psysml:49e593a4-f39b-4803-a2ce-02c26b916197\" target=\"_top\" title=\"psysml:49e593a4-f39b-4803-a2ce-02c26b916197\" xlink:actuate=\"onRequest\" xlink:href=\"psysml:49e593a4-f39b-4803-a2ce-02c26b916197\" xlink:show=\"new\" xlink:title=\"psysml:49e593a4-f39b-4803-a2ce-02c26b916197\" xlink:type=\"simple\"><rect fill=\"#FFFFFF\" height=\"66.7422\" id=\"E8\" style=\"stroke: #383838; stroke-width: 1.5;\" width=\"117\" x=\"162.5\" y=\"483\"/><text fill=\"#000000\" font-family=\"sans-serif\" font-size=\"12\" font-style=\"italic\" lengthAdjust=\"spacingAndGlyphs\" textLength=\"115\" x=\"163.5\" y=\"499.1387\">«requirement def»</text><text fill=\"#000000\" font-family=\"sans-serif\" font-size=\"12\" lengthAdjust=\"spacingAndGlyphs\" textLength=\"5\" x=\"208\" y=\"513.1074\">[</text><text fill=\"#000000\" font-family=\"sans-serif\" font-size=\"12\" font-weight=\"bold\" lengthAdjust=\"spacingAndGlyphs\" textLength=\"8\" x=\"213\" y=\"513.1074\">1</text><text fill=\"#000000\" font-family=\"sans-serif\" font-size=\"12\" lengthAdjust=\"spacingAndGlyphs\" textLength=\"17\" x=\"221\" y=\"513.1074\">] A</text><line style=\"stroke: #383838; stroke-width: 1.5;\" x1=\"163.5\" x2=\"278.5\" y1=\"520.9375\" y2=\"520.9375\"/><text fill=\"#000000\" font-family=\"sans-serif\" font-size=\"11\" lengthAdjust=\"spacingAndGlyphs\" textLength=\"24\" x=\"168.5\" y=\"535.1479\">Text</text><line style=\"stroke: #383838; stroke-width: 1.0;\" x1=\"163.5\" x2=\"278.5\" y1=\"541.7422\" y2=\"541.7422\"/></a><!--MD5=[fd4143e9d270a159db93a4ea2a975926]\n",
       "class E9--><a href=\"psysml:79fb73d3-867b-49b4-8196-8eb6e64f62f0\" target=\"_top\" title=\"psysml:79fb73d3-867b-49b4-8196-8eb6e64f62f0\" xlink:actuate=\"onRequest\" xlink:href=\"psysml:79fb73d3-867b-49b4-8196-8eb6e64f62f0\" xlink:show=\"new\" xlink:title=\"psysml:79fb73d3-867b-49b4-8196-8eb6e64f62f0\" xlink:type=\"simple\"><rect fill=\"#FFFFFF\" height=\"88.3516\" id=\"E9\" style=\"stroke: #383838; stroke-width: 1.5;\" width=\"145\" x=\"109.5\" y=\"41\"/><text fill=\"#000000\" font-family=\"sans-serif\" font-size=\"12\" font-style=\"italic\" lengthAdjust=\"spacingAndGlyphs\" textLength=\"115\" x=\"124.5\" y=\"57.1387\">«requirement def»</text><text fill=\"#000000\" font-family=\"sans-serif\" font-size=\"12\" lengthAdjust=\"spacingAndGlyphs\" textLength=\"16\" x=\"174\" y=\"71.1074\">R1</text><line style=\"stroke: #383838; stroke-width: 1.5;\" x1=\"110.5\" x2=\"253.5\" y1=\"78.9375\" y2=\"78.9375\"/><text fill=\"#000000\" font-family=\"sans-serif\" font-size=\"11\" font-weight=\"bold\" lengthAdjust=\"spacingAndGlyphs\" textLength=\"46\" x=\"115.5\" y=\"109.9526\">require</text><text fill=\"#000000\" font-family=\"sans-serif\" font-size=\"11\" lengthAdjust=\"spacingAndGlyphs\" textLength=\"13\" x=\"165.5\" y=\"109.9526\">c1</text><text fill=\"#000000\" font-family=\"sans-serif\" font-size=\"11\" font-style=\"italic\" lengthAdjust=\"spacingAndGlyphs\" textLength=\"133\" x=\"115.5\" y=\"122.7573\">:&gt;&gt;RequirementTest::c</text><line style=\"stroke: #383838; stroke-width: 1.0;\" x1=\"110.5\" x2=\"150\" y1=\"93.3398\" y2=\"93.3398\"/><text fill=\"#000000\" font-family=\"sans-serif\" font-size=\"11\" lengthAdjust=\"spacingAndGlyphs\" textLength=\"64\" x=\"150\" y=\"96.6479\">constraints</text><line style=\"stroke: #383838; stroke-width: 1.0;\" x1=\"214\" x2=\"253.5\" y1=\"93.3398\" y2=\"93.3398\"/></a><!--MD5=[1dd1bfd58a279cf63c5f349dbc8fc6a1]\n",
       "class E11--><a href=\"psysml:510a33c1-eff7-4e5e-90b4-a63ef5b72ae6\" target=\"_top\" title=\"psysml:510a33c1-eff7-4e5e-90b4-a63ef5b72ae6\" xlink:actuate=\"onRequest\" xlink:href=\"psysml:510a33c1-eff7-4e5e-90b4-a63ef5b72ae6\" xlink:show=\"new\" xlink:title=\"psysml:510a33c1-eff7-4e5e-90b4-a63ef5b72ae6\" xlink:type=\"simple\"><rect fill=\"#FFFFFF\" height=\"45.9375\" id=\"E11\" rx=\"10\" ry=\"10\" style=\"stroke: #383838; stroke-width: 1.5;\" width=\"42\" x=\"185\" y=\"344.5\"/><text fill=\"#000000\" font-family=\"sans-serif\" font-size=\"12\" font-style=\"italic\" lengthAdjust=\"spacingAndGlyphs\" textLength=\"40\" x=\"186\" y=\"360.6387\">«part»</text><text fill=\"#000000\" font-family=\"sans-serif\" font-size=\"12\" lengthAdjust=\"spacingAndGlyphs\" textLength=\"8\" x=\"202\" y=\"374.6074\">p</text><line style=\"stroke: #383838; stroke-width: 1.5;\" x1=\"186\" x2=\"226\" y1=\"382.4375\" y2=\"382.4375\"/></a><!--MD5=[49a0ec8f00dab7302a31f22d0f0fe584]\n",
       "class E12--><a href=\"psysml:a6cd5ff6-20a0-4014-8266-5a2f114de57c\" target=\"_top\" title=\"psysml:a6cd5ff6-20a0-4014-8266-5a2f114de57c\" xlink:actuate=\"onRequest\" xlink:href=\"psysml:a6cd5ff6-20a0-4014-8266-5a2f114de57c\" xlink:show=\"new\" xlink:title=\"psysml:a6cd5ff6-20a0-4014-8266-5a2f114de57c\" xlink:type=\"simple\"><rect fill=\"#FFFFFF\" height=\"45.9375\" id=\"E12\" rx=\"10\" ry=\"10\" style=\"stroke: #383838; stroke-width: 1.5;\" width=\"42\" x=\"32\" y=\"62\"/><text fill=\"#000000\" font-family=\"sans-serif\" font-size=\"12\" font-style=\"italic\" lengthAdjust=\"spacingAndGlyphs\" textLength=\"40\" x=\"33\" y=\"78.1387\">«part»</text><text fill=\"#000000\" font-family=\"sans-serif\" font-size=\"12\" lengthAdjust=\"spacingAndGlyphs\" textLength=\"8\" x=\"49\" y=\"92.1074\">q</text><line style=\"stroke: #383838; stroke-width: 1.5;\" x1=\"33\" x2=\"73\" y1=\"99.9375\" y2=\"99.9375\"/></a><!--MD5=[ee3c913d1a06f366521f9ef512b67efe]\n",
       "class E13--><a href=\"psysml:50b94a4a-7c4d-4845-a3da-b360d2df1f8c\" target=\"_top\" title=\"psysml:50b94a4a-7c4d-4845-a3da-b360d2df1f8c\" xlink:actuate=\"onRequest\" xlink:href=\"psysml:50b94a4a-7c4d-4845-a3da-b360d2df1f8c\" xlink:show=\"new\" xlink:title=\"psysml:50b94a4a-7c4d-4845-a3da-b360d2df1f8c\" xlink:type=\"simple\"><rect fill=\"#FFFFFF\" height=\"45.9375\" id=\"E13\" rx=\"10\" ry=\"10\" style=\"stroke: #383838; stroke-width: 1.5;\" width=\"93\" x=\"44.5\" y=\"190\"/><text fill=\"#000000\" font-family=\"sans-serif\" font-size=\"12\" font-style=\"italic\" lengthAdjust=\"spacingAndGlyphs\" textLength=\"91\" x=\"45.5\" y=\"206.1387\">«requirement»</text><text fill=\"#000000\" font-family=\"sans-serif\" font-size=\"12\" lengthAdjust=\"spacingAndGlyphs\" textLength=\"21\" x=\"80.5\" y=\"220.1074\">r: R</text><line style=\"stroke: #383838; stroke-width: 1.5;\" x1=\"45.5\" x2=\"136.5\" y1=\"227.9375\" y2=\"227.9375\"/></a><!--MD5=[05d275557350bfb9b23a4ef7222b4c39]\n",
       "link E3 to E2--><a href=\"psysml:e8229714-231f-4f2a-9005-056b1e69efb5\" target=\"_top\" title=\"psysml:e8229714-231f-4f2a-9005-056b1e69efb5\" xlink:actuate=\"onRequest\" xlink:href=\"psysml:e8229714-231f-4f2a-9005-056b1e69efb5\" xlink:show=\"new\" xlink:title=\"psysml:e8229714-231f-4f2a-9005-056b1e69efb5\" xlink:type=\"simple\"><path d=\"M327.88,108.24 C326.26,125.24 323.98,149.19 322.02,169.79 \" fill=\"none\" id=\"E3-&gt;E2\" style=\"stroke: #383838; stroke-width: 1.0;\"/><polygon fill=\"#FFFFFF\" points=\"320.1,189.99,314.9362,170.411,328.8729,171.7407,320.1,189.99\" style=\"stroke: #383838; stroke-width: 1.0;\"/><ellipse cx=\"317.4685\" cy=\"164.9268\" fill=\"#383838\" rx=\"2\" ry=\"2\" style=\"stroke: #383838; stroke-width: 1.0;\"/><ellipse cx=\"327.4233\" cy=\"165.8765\" fill=\"#383838\" rx=\"2\" ry=\"2\" style=\"stroke: #383838; stroke-width: 1.0;\"/></a><!--MD5=[722ff4eef345aa10242dad44df0e98c7]\n",
       "reverse link E4 to E7--><a href=\"psysml:eafce8af-10f9-4af7-9431-7513cc7d3347\" target=\"_top\" title=\"psysml:eafce8af-10f9-4af7-9431-7513cc7d3347\" xlink:actuate=\"onRequest\" xlink:href=\"psysml:eafce8af-10f9-4af7-9431-7513cc7d3347\" xlink:show=\"new\" xlink:title=\"psysml:eafce8af-10f9-4af7-9431-7513cc7d3347\" xlink:type=\"simple\"><path d=\"M86.44,435.59 C85.02,456.46 83.55,478.02 82.5,493.48 \" fill=\"none\" id=\"E4&lt;-E7\" style=\"stroke: #383838; stroke-width: 1.0;\"/><polygon fill=\"#383838\" points=\"87.33,422.4,82.9306,428.1136,86.5125,434.3721,90.912,428.6586,87.33,422.4\" style=\"stroke: #383838; stroke-width: 1.0;\"/></a><!--MD5=[c6fc7cdb0cabde04948078cf183fa696]\n",
       "reverse link E4 to E8--><a href=\"psysml:a0130814-5dc8-48af-af1a-9e985463643e\" target=\"_top\" title=\"psysml:a0130814-5dc8-48af-af1a-9e985463643e\" xlink:actuate=\"onRequest\" xlink:href=\"psysml:a0130814-5dc8-48af-af1a-9e985463643e\" xlink:show=\"new\" xlink:title=\"psysml:a0130814-5dc8-48af-af1a-9e985463643e\" xlink:type=\"simple\"><path d=\"M148.94,434.02 C163.95,450.99 179.47,468.53 192.24,482.98 \" fill=\"none\" id=\"E4&lt;-E8\" style=\"stroke: #383838; stroke-width: 1.0;\"/><ellipse cx=\"143.9698\" cy=\"428.3927\" fill=\"#FFFFFF\" rx=\"8\" ry=\"8\" style=\"stroke: #383838; stroke-width: 1.0;\"/><line style=\"stroke: #383838; stroke-width: 1.0;\" x1=\"149.2695\" x2=\"138.67\" y1=\"434.3854\" y2=\"422.4\"/><line style=\"stroke: #383838; stroke-width: 1.0;\" x1=\"137.9771\" x2=\"149.9625\" y1=\"433.6925\" y2=\"423.0929\"/></a><!--MD5=[062ed86c389d1a88f61c6380d0491e17]\n",
       "reverse link E12 to E13--><a href=\"psysml:044b978f-2385-4425-992f-2d75b645c055\" target=\"_top\" title=\"psysml:044b978f-2385-4425-992f-2d75b645c055\" xlink:actuate=\"onRequest\" xlink:href=\"psysml:044b978f-2385-4425-992f-2d75b645c055\" xlink:show=\"new\" xlink:title=\"psysml:044b978f-2385-4425-992f-2d75b645c055\" xlink:type=\"simple\"><path d=\"M63.49,120.8 C70.17,142.92 78.6,170.89 84.36,189.99 \" fill=\"none\" id=\"E12&lt;-E13\" style=\"stroke: #383838; stroke-width: 1.0;\"/><polygon fill=\"#383838\" points=\"59.71,108.24,57.6129,115.1394,63.1751,119.7288,65.2722,112.8294,59.71,108.24\" style=\"stroke: #383838; stroke-width: 1.0;\"/></a><!--MD5=[017847e01ff9a8bd19f247411074f987]\n",
       "link E13 to E4--><a href=\"psysml:279d9c9b-21cb-4076-8967-339bf6a79b4c\" target=\"_top\" title=\"psysml:279d9c9b-21cb-4076-8967-339bf6a79b4c\" xlink:actuate=\"onRequest\" xlink:href=\"psysml:279d9c9b-21cb-4076-8967-339bf6a79b4c\" xlink:show=\"new\" xlink:title=\"psysml:279d9c9b-21cb-4076-8967-339bf6a79b4c\" xlink:type=\"simple\"><path d=\"M91,236.17 C91,251.17 91,271.91 91,292.44 \" fill=\"none\" id=\"E13-&gt;E4\" style=\"stroke: #383838; stroke-width: 1.0;\"/><polygon fill=\"#FFFFFF\" points=\"91,312.68,84,293.68,98,293.68,91,312.68\" style=\"stroke: #383838; stroke-width: 1.0;\"/><ellipse cx=\"86\" cy=\"287.98\" fill=\"#383838\" rx=\"2\" ry=\"2\" style=\"stroke: #383838; stroke-width: 1.0;\"/><ellipse cx=\"96\" cy=\"287.98\" fill=\"#383838\" rx=\"2\" ry=\"2\" style=\"stroke: #383838; stroke-width: 1.0;\"/></a><!--MD5=[2cfe899c895462254056921bfb67315f]\n",
       "link E13 to E11--><a href=\"psysml:fcf36e7c-2665-4a1d-8cf4-6fcc5b08ef04\" target=\"_top\" title=\"psysml:fcf36e7c-2665-4a1d-8cf4-6fcc5b08ef04\" xlink:actuate=\"onRequest\" xlink:href=\"psysml:fcf36e7c-2665-4a1d-8cf4-6fcc5b08ef04\" xlink:show=\"new\" xlink:title=\"psysml:fcf36e7c-2665-4a1d-8cf4-6fcc5b08ef04\" xlink:type=\"simple\"><path d=\"M108.25,236.46 C130.67,265.67 167,313 167,313 C167,313 176.99,326.71 186.86,340.25 \" fill=\"none\" id=\"E13-&gt;E11\" style=\"stroke: #383838; stroke-width: 1.0; stroke-dasharray: 7.0,7.0;\"/><polygon fill=\"#383838\" points=\"189.91,344.43,187.8474,334.7996,186.9674,340.3876,181.3794,339.5076,189.91,344.43\" style=\"stroke: #383838; stroke-width: 1.0;\"/><text fill=\"#000000\" font-family=\"sans-serif\" font-size=\"13\" lengthAdjust=\"spacingAndGlyphs\" textLength=\"57\" x=\"143\" y=\"279.0669\">«satisfy»</text></a><!--MD5=[e74edf9578193d43c6a4f5620f4d2deb]\n",
       "@startuml\r\n",
       "skinparam linetype polyline\r\n",
       "skinparam monochrome true\r\n",
       "skinparam classbackgroundcolor white\r\n",
       "skinparam shadowing false\r\n",
       "skinparam wrapWidth 300\r\n",
       "hide circle\r\n",
       "\r\n",
       "package \"RequirementTest\" as E1  [[psysml:f822a5b9-f637-4bfc-9356-d45755be39c3 ]]  {\r\n",
       "comp def \"C\" as E2  <<(T,blue)constraint def>> [[psysml:55e0c843-cabd-4238-9430-5e5ddb37e322 ]] {\r\n",
       "}\r\n",
       "comp usage \"c: C\" as E3  <<(T,blue)constraint>> [[psysml:943270d7-f648-4f2b-99ed-798f0a01be75 ]] {\r\n",
       "}\r\n",
       "comp def \"R\" as E4  <<(T,blue)requirement def>> [[psysml:3547be1a-4b91-4a24-a66e-ac992d912d25 ]] {\r\n",
       "\r\n",
       "- -\r\n",
       "- - constraints - -\r\n",
       "<b>require</b> c\r\n",
       "<i>assume</i> c1: C\r\n",
       "}\r\n",
       "comp usage \"<s>noname</s>\" as E7  <<(T,blue)requirement>> [[psysml:5cc59123-afbd-4e9a-96fa-0bfa0b631260 ]] {\r\n",
       "}\r\n",
       "comp def \" [<b>1</b>] A\" as E8  <<(T,blue)requirement def>> [[psysml:49e593a4-f39b-4803-a2ce-02c26b916197 ]] {\r\n",
       "Text\r\n",
       "- -\r\n",
       "}\r\n",
       "comp def \"R1\" as E9  <<(T,blue)requirement def>> [[psysml:79fb73d3-867b-49b4-8196-8eb6e64f62f0 ]] {\r\n",
       "- - constraints - -\r\n",
       "<b>require</b> c1\\n//:>>RequirementTest::c// \r\n",
       "}\r\n",
       "comp usage \"p\" as E11  <<(T,blue)part>> [[psysml:510a33c1-eff7-4e5e-90b4-a63ef5b72ae6 ]] {\r\n",
       "}\r\n",
       "comp usage \"q\" as E12  <<(T,blue)part>> [[psysml:a6cd5ff6-20a0-4014-8266-5a2f114de57c ]] {\r\n",
       "}\r\n",
       "comp usage \"r: R\" as E13  <<(T,blue)requirement>> [[psysml:50b94a4a-7c4d-4845-a3da-b360d2df1f8c ]] {\r\n",
       "}\r\n",
       "E3 - -:|> E2 [[psysml:e8229714-231f-4f2a-9005-056b1e69efb5 ]] \r\n",
       "E4 *- - E7 [[psysml:eafce8af-10f9-4af7-9431-7513cc7d3347 ]] \r\n",
       "E4 +- - E8 [[psysml:a0130814-5dc8-48af-af1a-9e985463643e ]] \r\n",
       "E12 *- - E13 [[psysml:044b978f-2385-4425-992f-2d75b645c055 ]] \r\n",
       "E13 - -:|> E4 [[psysml:279d9c9b-21cb-4076-8967-339bf6a79b4c ]] \r\n",
       "E13 ..> E11 [[psysml:fcf36e7c-2665-4a1d-8cf4-6fcc5b08ef04 ]] : <<satisfy>>\r\n",
       "}\r\n",
       "@enduml\r\n",
       "\n",
       "PlantUML version 1.2020.13(Sat Jun 13 12:26:38 UTC 2020)\n",
       "(EPL source distribution)\n",
       "Java Runtime: OpenJDK Runtime Environment\n",
       "JVM: OpenJDK 64-Bit Server VM\n",
       "Default Encoding: UTF-8\n",
       "Language: en\n",
       "Country: null\n",
       "--></g></svg>"
      ]
     },
     "execution_count": 15,
     "metadata": {},
     "output_type": "execute_result"
    }
   ],
   "source": [
    "%viz --style=\"POLYLINE\" --view=\"MIXED\" \"RequirementTest\""
   ]
  },
  {
   "cell_type": "code",
   "execution_count": 16,
   "id": "a1d68751",
   "metadata": {
    "execution": {
     "iopub.execute_input": "2021-04-21T20:21:27.581096Z",
     "iopub.status.busy": "2021-04-21T20:21:27.580295Z",
     "iopub.status.idle": "2021-04-21T20:21:27.768578Z",
     "shell.execute_reply": "2021-04-21T20:21:27.768040Z"
    }
   },
   "outputs": [
    {
     "data": {
      "image/svg+xml": [
       "<?xml version=\"1.0\" encoding=\"UTF-8\" standalone=\"no\"?><svg xmlns=\"http://www.w3.org/2000/svg\" xmlns:xlink=\"http://www.w3.org/1999/xlink\" contentScriptType=\"application/ecmascript\" contentStyleType=\"text/css\" height=\"319px\" preserveAspectRatio=\"none\" style=\"width:794px;height:319px;\" version=\"1.1\" viewBox=\"0 0 794 319\" width=\"794px\" zoomAndPan=\"magnify\"><defs/><g><!--MD5=[fbc87193dbaf4d95561dea2c320d4a47]\n",
       "cluster E1--><a href=\"psysml:f822a5b9-f637-4bfc-9356-d45755be39c3\" target=\"_top\" title=\"psysml:f822a5b9-f637-4bfc-9356-d45755be39c3\" xlink:actuate=\"onRequest\" xlink:href=\"psysml:f822a5b9-f637-4bfc-9356-d45755be39c3\" xlink:show=\"new\" xlink:title=\"psysml:f822a5b9-f637-4bfc-9356-d45755be39c3\" xlink:type=\"simple\"><polygon fill=\"#FFFFFF\" points=\"16,6,158,6,165,28.2969,772,28.2969,772,307,16,307,16,6\" style=\"stroke: #000000; stroke-width: 1.5;\"/><line style=\"stroke: #000000; stroke-width: 1.5;\" x1=\"16\" x2=\"165\" y1=\"28.2969\" y2=\"28.2969\"/><text fill=\"#000000\" font-family=\"sans-serif\" font-size=\"14\" font-weight=\"bold\" lengthAdjust=\"spacingAndGlyphs\" textLength=\"136\" x=\"20\" y=\"20.9951\">RequirementTest</text></a><!--MD5=[b4997ac47864f28c2f74865a473b2911]\n",
       "class E2--><a href=\"psysml:55e0c843-cabd-4238-9430-5e5ddb37e322\" target=\"_top\" title=\"psysml:55e0c843-cabd-4238-9430-5e5ddb37e322\" xlink:actuate=\"onRequest\" xlink:href=\"psysml:55e0c843-cabd-4238-9430-5e5ddb37e322\" xlink:show=\"new\" xlink:title=\"psysml:55e0c843-cabd-4238-9430-5e5ddb37e322\" xlink:type=\"simple\"><rect fill=\"#FFFFFF\" height=\"45.9375\" id=\"E2\" style=\"stroke: #383838; stroke-width: 1.5;\" width=\"104\" x=\"238\" y=\"41\"/><text fill=\"#000000\" font-family=\"sans-serif\" font-size=\"12\" font-style=\"italic\" lengthAdjust=\"spacingAndGlyphs\" textLength=\"102\" x=\"239\" y=\"57.1387\">«constraint def»</text><text fill=\"#000000\" font-family=\"sans-serif\" font-size=\"12\" lengthAdjust=\"spacingAndGlyphs\" textLength=\"8\" x=\"286\" y=\"71.1074\">C</text><line style=\"stroke: #383838; stroke-width: 1.5;\" x1=\"239\" x2=\"341\" y1=\"78.9375\" y2=\"78.9375\"/></a><!--MD5=[09b614a08d8cba4a07c9adeb5e0fee81]\n",
       "class E3--><a href=\"psysml:943270d7-f648-4f2b-99ed-798f0a01be75\" target=\"_top\" title=\"psysml:943270d7-f648-4f2b-99ed-798f0a01be75\" xlink:actuate=\"onRequest\" xlink:href=\"psysml:943270d7-f648-4f2b-99ed-798f0a01be75\" xlink:show=\"new\" xlink:title=\"psysml:943270d7-f648-4f2b-99ed-798f0a01be75\" xlink:type=\"simple\"><rect fill=\"#FFFFFF\" height=\"45.9375\" id=\"E3\" rx=\"10\" ry=\"10\" style=\"stroke: #383838; stroke-width: 1.5;\" width=\"80\" x=\"64.5\" y=\"41\"/><text fill=\"#000000\" font-family=\"sans-serif\" font-size=\"12\" font-style=\"italic\" lengthAdjust=\"spacingAndGlyphs\" textLength=\"78\" x=\"65.5\" y=\"57.1387\">«constraint»</text><text fill=\"#000000\" font-family=\"sans-serif\" font-size=\"12\" lengthAdjust=\"spacingAndGlyphs\" textLength=\"23\" x=\"93\" y=\"71.1074\">c: C</text><line style=\"stroke: #383838; stroke-width: 1.5;\" x1=\"65.5\" x2=\"143.5\" y1=\"78.9375\" y2=\"78.9375\"/></a><!--MD5=[ebbe1d658d1005bcc118a6aa81145e00]\n",
       "class E4--><a href=\"psysml:3547be1a-4b91-4a24-a66e-ac992d912d25\" target=\"_top\" title=\"psysml:3547be1a-4b91-4a24-a66e-ac992d912d25\" xlink:actuate=\"onRequest\" xlink:href=\"psysml:3547be1a-4b91-4a24-a66e-ac992d912d25\" xlink:show=\"new\" xlink:title=\"psysml:3547be1a-4b91-4a24-a66e-ac992d912d25\" xlink:type=\"simple\"><rect fill=\"#FFFFFF\" height=\"109.1563\" id=\"E4\" style=\"stroke: #383838; stroke-width: 1.5;\" width=\"117\" x=\"461\" y=\"181.5\"/><text fill=\"#000000\" font-family=\"sans-serif\" font-size=\"12\" font-style=\"italic\" lengthAdjust=\"spacingAndGlyphs\" textLength=\"115\" x=\"462\" y=\"197.6387\">«requirement def»</text><text fill=\"#000000\" font-family=\"sans-serif\" font-size=\"12\" lengthAdjust=\"spacingAndGlyphs\" textLength=\"8\" x=\"515.5\" y=\"211.6074\">R</text><line style=\"stroke: #383838; stroke-width: 1.5;\" x1=\"462\" x2=\"577\" y1=\"219.4375\" y2=\"219.4375\"/><text fill=\"#000000\" font-family=\"sans-serif\" font-size=\"11\" lengthAdjust=\"spacingAndGlyphs\" textLength=\"0\" x=\"471\" y=\"233.6479\"/><line style=\"stroke: #383838; stroke-width: 1.0;\" x1=\"462\" x2=\"577\" y1=\"240.2422\" y2=\"240.2422\"/><text fill=\"#000000\" font-family=\"sans-serif\" font-size=\"11\" font-weight=\"bold\" lengthAdjust=\"spacingAndGlyphs\" textLength=\"46\" x=\"467\" y=\"271.2573\">require</text><text fill=\"#000000\" font-family=\"sans-serif\" font-size=\"11\" lengthAdjust=\"spacingAndGlyphs\" textLength=\"6\" x=\"517\" y=\"271.2573\">c</text><text fill=\"#000000\" font-family=\"sans-serif\" font-size=\"11\" font-style=\"italic\" lengthAdjust=\"spacingAndGlyphs\" textLength=\"46\" x=\"467\" y=\"284.062\">assume</text><text fill=\"#000000\" font-family=\"sans-serif\" font-size=\"11\" lengthAdjust=\"spacingAndGlyphs\" textLength=\"29\" x=\"517\" y=\"284.062\">c1: C</text><line style=\"stroke: #383838; stroke-width: 1.0;\" x1=\"462\" x2=\"487.5\" y1=\"254.6445\" y2=\"254.6445\"/><text fill=\"#000000\" font-family=\"sans-serif\" font-size=\"11\" lengthAdjust=\"spacingAndGlyphs\" textLength=\"64\" x=\"487.5\" y=\"257.9526\">constraints</text><line style=\"stroke: #383838; stroke-width: 1.0;\" x1=\"551.5\" x2=\"577\" y1=\"254.6445\" y2=\"254.6445\"/></a><!--MD5=[2156ba9850f5573cc1fc38a6a4b2f02b]\n",
       "class E7--><a href=\"psysml:5cc59123-afbd-4e9a-96fa-0bfa0b631260\" target=\"_top\" title=\"psysml:5cc59123-afbd-4e9a-96fa-0bfa0b631260\" xlink:actuate=\"onRequest\" xlink:href=\"psysml:5cc59123-afbd-4e9a-96fa-0bfa0b631260\" xlink:show=\"new\" xlink:title=\"psysml:5cc59123-afbd-4e9a-96fa-0bfa0b631260\" xlink:type=\"simple\"><rect fill=\"#FFFFFF\" height=\"45.9375\" id=\"E7\" rx=\"10\" ry=\"10\" style=\"stroke: #383838; stroke-width: 1.5;\" width=\"93\" x=\"651\" y=\"233\"/><text fill=\"#000000\" font-family=\"sans-serif\" font-size=\"12\" font-style=\"italic\" lengthAdjust=\"spacingAndGlyphs\" textLength=\"91\" x=\"652\" y=\"249.1387\">«requirement»</text><text fill=\"#000000\" font-family=\"sans-serif\" font-size=\"12\" lengthAdjust=\"spacingAndGlyphs\" text-decoration=\"line-through\" textLength=\"51\" x=\"672\" y=\"263.1074\">noname</text><line style=\"stroke: #383838; stroke-width: 1.5;\" x1=\"652\" x2=\"743\" y1=\"270.9375\" y2=\"270.9375\"/></a><!--MD5=[b9389687b975829384b498ac4b7476b2]\n",
       "class E8--><a href=\"psysml:49e593a4-f39b-4803-a2ce-02c26b916197\" target=\"_top\" title=\"psysml:49e593a4-f39b-4803-a2ce-02c26b916197\" xlink:actuate=\"onRequest\" xlink:href=\"psysml:49e593a4-f39b-4803-a2ce-02c26b916197\" xlink:show=\"new\" xlink:title=\"psysml:49e593a4-f39b-4803-a2ce-02c26b916197\" xlink:type=\"simple\"><rect fill=\"#FFFFFF\" height=\"66.7422\" id=\"E8\" style=\"stroke: #383838; stroke-width: 1.5;\" width=\"117\" x=\"639\" y=\"130.5\"/><text fill=\"#000000\" font-family=\"sans-serif\" font-size=\"12\" font-style=\"italic\" lengthAdjust=\"spacingAndGlyphs\" textLength=\"115\" x=\"640\" y=\"146.6387\">«requirement def»</text><text fill=\"#000000\" font-family=\"sans-serif\" font-size=\"12\" lengthAdjust=\"spacingAndGlyphs\" textLength=\"5\" x=\"684.5\" y=\"160.6074\">[</text><text fill=\"#000000\" font-family=\"sans-serif\" font-size=\"12\" font-weight=\"bold\" lengthAdjust=\"spacingAndGlyphs\" textLength=\"8\" x=\"689.5\" y=\"160.6074\">1</text><text fill=\"#000000\" font-family=\"sans-serif\" font-size=\"12\" lengthAdjust=\"spacingAndGlyphs\" textLength=\"17\" x=\"697.5\" y=\"160.6074\">] A</text><line style=\"stroke: #383838; stroke-width: 1.5;\" x1=\"640\" x2=\"755\" y1=\"168.4375\" y2=\"168.4375\"/><text fill=\"#000000\" font-family=\"sans-serif\" font-size=\"11\" lengthAdjust=\"spacingAndGlyphs\" textLength=\"24\" x=\"645\" y=\"182.6479\">Text</text><line style=\"stroke: #383838; stroke-width: 1.0;\" x1=\"640\" x2=\"755\" y1=\"189.2422\" y2=\"189.2422\"/></a><!--MD5=[fd4143e9d270a159db93a4ea2a975926]\n",
       "class E9--><a href=\"psysml:79fb73d3-867b-49b4-8196-8eb6e64f62f0\" target=\"_top\" title=\"psysml:79fb73d3-867b-49b4-8196-8eb6e64f62f0\" xlink:actuate=\"onRequest\" xlink:href=\"psysml:79fb73d3-867b-49b4-8196-8eb6e64f62f0\" xlink:show=\"new\" xlink:title=\"psysml:79fb73d3-867b-49b4-8196-8eb6e64f62f0\" xlink:type=\"simple\"><rect fill=\"#FFFFFF\" height=\"88.3516\" id=\"E9\" style=\"stroke: #383838; stroke-width: 1.5;\" width=\"145\" x=\"32\" y=\"122\"/><text fill=\"#000000\" font-family=\"sans-serif\" font-size=\"12\" font-style=\"italic\" lengthAdjust=\"spacingAndGlyphs\" textLength=\"115\" x=\"47\" y=\"138.1387\">«requirement def»</text><text fill=\"#000000\" font-family=\"sans-serif\" font-size=\"12\" lengthAdjust=\"spacingAndGlyphs\" textLength=\"16\" x=\"96.5\" y=\"152.1074\">R1</text><line style=\"stroke: #383838; stroke-width: 1.5;\" x1=\"33\" x2=\"176\" y1=\"159.9375\" y2=\"159.9375\"/><text fill=\"#000000\" font-family=\"sans-serif\" font-size=\"11\" font-weight=\"bold\" lengthAdjust=\"spacingAndGlyphs\" textLength=\"46\" x=\"38\" y=\"190.9526\">require</text><text fill=\"#000000\" font-family=\"sans-serif\" font-size=\"11\" lengthAdjust=\"spacingAndGlyphs\" textLength=\"13\" x=\"88\" y=\"190.9526\">c1</text><text fill=\"#000000\" font-family=\"sans-serif\" font-size=\"11\" font-style=\"italic\" lengthAdjust=\"spacingAndGlyphs\" textLength=\"133\" x=\"38\" y=\"203.7573\">:&gt;&gt;RequirementTest::c</text><line style=\"stroke: #383838; stroke-width: 1.0;\" x1=\"33\" x2=\"72.5\" y1=\"174.3398\" y2=\"174.3398\"/><text fill=\"#000000\" font-family=\"sans-serif\" font-size=\"11\" lengthAdjust=\"spacingAndGlyphs\" textLength=\"64\" x=\"72.5\" y=\"177.6479\">constraints</text><line style=\"stroke: #383838; stroke-width: 1.0;\" x1=\"136.5\" x2=\"176\" y1=\"174.3398\" y2=\"174.3398\"/></a><!--MD5=[1dd1bfd58a279cf63c5f349dbc8fc6a1]\n",
       "class E11--><a href=\"psysml:510a33c1-eff7-4e5e-90b4-a63ef5b72ae6\" target=\"_top\" title=\"psysml:510a33c1-eff7-4e5e-90b4-a63ef5b72ae6\" xlink:actuate=\"onRequest\" xlink:href=\"psysml:510a33c1-eff7-4e5e-90b4-a63ef5b72ae6\" xlink:show=\"new\" xlink:title=\"psysml:510a33c1-eff7-4e5e-90b4-a63ef5b72ae6\" xlink:type=\"simple\"><rect fill=\"#FFFFFF\" height=\"45.9375\" id=\"E11\" rx=\"10\" ry=\"10\" style=\"stroke: #383838; stroke-width: 1.5;\" width=\"42\" x=\"498.5\" y=\"100\"/><text fill=\"#000000\" font-family=\"sans-serif\" font-size=\"12\" font-style=\"italic\" lengthAdjust=\"spacingAndGlyphs\" textLength=\"40\" x=\"499.5\" y=\"116.1387\">«part»</text><text fill=\"#000000\" font-family=\"sans-serif\" font-size=\"12\" lengthAdjust=\"spacingAndGlyphs\" textLength=\"8\" x=\"515.5\" y=\"130.1074\">p</text><line style=\"stroke: #383838; stroke-width: 1.5;\" x1=\"499.5\" x2=\"539.5\" y1=\"137.9375\" y2=\"137.9375\"/></a><!--MD5=[49a0ec8f00dab7302a31f22d0f0fe584]\n",
       "class E12--><a href=\"psysml:a6cd5ff6-20a0-4014-8266-5a2f114de57c\" target=\"_top\" title=\"psysml:a6cd5ff6-20a0-4014-8266-5a2f114de57c\" xlink:actuate=\"onRequest\" xlink:href=\"psysml:a6cd5ff6-20a0-4014-8266-5a2f114de57c\" xlink:show=\"new\" xlink:title=\"psysml:a6cd5ff6-20a0-4014-8266-5a2f114de57c\" xlink:type=\"simple\"><rect fill=\"#FFFFFF\" height=\"45.9375\" id=\"E12\" rx=\"10\" ry=\"10\" style=\"stroke: #383838; stroke-width: 1.5;\" width=\"42\" x=\"83.5\" y=\"245\"/><text fill=\"#000000\" font-family=\"sans-serif\" font-size=\"12\" font-style=\"italic\" lengthAdjust=\"spacingAndGlyphs\" textLength=\"40\" x=\"84.5\" y=\"261.1387\">«part»</text><text fill=\"#000000\" font-family=\"sans-serif\" font-size=\"12\" lengthAdjust=\"spacingAndGlyphs\" textLength=\"8\" x=\"100.5\" y=\"275.1074\">q</text><line style=\"stroke: #383838; stroke-width: 1.5;\" x1=\"84.5\" x2=\"124.5\" y1=\"282.9375\" y2=\"282.9375\"/></a><!--MD5=[ee3c913d1a06f366521f9ef512b67efe]\n",
       "class E13--><a href=\"psysml:50b94a4a-7c4d-4845-a3da-b360d2df1f8c\" target=\"_top\" title=\"psysml:50b94a4a-7c4d-4845-a3da-b360d2df1f8c\" xlink:actuate=\"onRequest\" xlink:href=\"psysml:50b94a4a-7c4d-4845-a3da-b360d2df1f8c\" xlink:show=\"new\" xlink:title=\"psysml:50b94a4a-7c4d-4845-a3da-b360d2df1f8c\" xlink:type=\"simple\"><rect fill=\"#FFFFFF\" height=\"45.9375\" id=\"E13\" rx=\"10\" ry=\"10\" style=\"stroke: #383838; stroke-width: 1.5;\" width=\"93\" x=\"243.5\" y=\"213\"/><text fill=\"#000000\" font-family=\"sans-serif\" font-size=\"12\" font-style=\"italic\" lengthAdjust=\"spacingAndGlyphs\" textLength=\"91\" x=\"244.5\" y=\"229.1387\">«requirement»</text><text fill=\"#000000\" font-family=\"sans-serif\" font-size=\"12\" lengthAdjust=\"spacingAndGlyphs\" textLength=\"21\" x=\"279.5\" y=\"243.1074\">r: R</text><line style=\"stroke: #383838; stroke-width: 1.5;\" x1=\"244.5\" x2=\"335.5\" y1=\"250.9375\" y2=\"250.9375\"/></a><!--MD5=[05d275557350bfb9b23a4ef7222b4c39]\n",
       "link E3 to E2--><a href=\"psysml:e8229714-231f-4f2a-9005-056b1e69efb5\" target=\"_top\" title=\"psysml:e8229714-231f-4f2a-9005-056b1e69efb5\" xlink:actuate=\"onRequest\" xlink:href=\"psysml:e8229714-231f-4f2a-9005-056b1e69efb5\" xlink:show=\"new\" xlink:title=\"psysml:e8229714-231f-4f2a-9005-056b1e69efb5\" xlink:type=\"simple\"><path d=\"M144.87,64 C166.09,64 192.94,64 217.7,64 \" fill=\"none\" id=\"E3-&gt;E2\" style=\"stroke: #383838; stroke-width: 1.0;\"/><polygon fill=\"#FFFFFF\" points=\"237.84,64,218.84,71,218.84,57,237.84,64\" style=\"stroke: #383838; stroke-width: 1.0;\"/><ellipse cx=\"213.14\" cy=\"69\" fill=\"#383838\" rx=\"2\" ry=\"2\" style=\"stroke: #383838; stroke-width: 1.0;\"/><ellipse cx=\"213.14\" cy=\"59\" fill=\"#383838\" rx=\"2\" ry=\"2\" style=\"stroke: #383838; stroke-width: 1.0;\"/></a><!--MD5=[722ff4eef345aa10242dad44df0e98c7]\n",
       "reverse link E4 to E7--><a href=\"psysml:eafce8af-10f9-4af7-9431-7513cc7d3347\" target=\"_top\" title=\"psysml:eafce8af-10f9-4af7-9431-7513cc7d3347\" xlink:actuate=\"onRequest\" xlink:href=\"psysml:eafce8af-10f9-4af7-9431-7513cc7d3347\" xlink:show=\"new\" xlink:title=\"psysml:eafce8af-10f9-4af7-9431-7513cc7d3347\" xlink:type=\"simple\"><path d=\"M591.1,244.02 C611.19,246.31 632.54,248.73 650.74,250.8 \" fill=\"none\" id=\"E4&lt;-E7\" style=\"stroke: #383838; stroke-width: 1.0;\"/><polygon fill=\"#383838\" points=\"578.13,242.55,583.6386,247.2035,590.0529,243.9085,584.5443,239.2549,578.13,242.55\" style=\"stroke: #383838; stroke-width: 1.0;\"/></a><!--MD5=[c6fc7cdb0cabde04948078cf183fa696]\n",
       "reverse link E4 to E8--><a href=\"psysml:a0130814-5dc8-48af-af1a-9e985463643e\" target=\"_top\" title=\"psysml:a0130814-5dc8-48af-af1a-9e985463643e\" xlink:actuate=\"onRequest\" xlink:href=\"psysml:a0130814-5dc8-48af-af1a-9e985463643e\" xlink:show=\"new\" xlink:title=\"psysml:a0130814-5dc8-48af-af1a-9e985463643e\" xlink:type=\"simple\"><path d=\"M592.12,206.7 C607.63,200.36 623.84,193.72 638.74,187.63 \" fill=\"none\" id=\"E4&lt;-E8\" style=\"stroke: #383838; stroke-width: 1.0;\"/><ellipse cx=\"585.5323\" cy=\"209.3859\" fill=\"#FFFFFF\" rx=\"8\" ry=\"8\" style=\"stroke: #383838; stroke-width: 1.0;\"/><line style=\"stroke: #383838; stroke-width: 1.0;\" x1=\"592.9346\" x2=\"578.13\" y1=\"206.3518\" y2=\"212.42\"/><line style=\"stroke: #383838; stroke-width: 1.0;\" x1=\"588.5664\" x2=\"582.4982\" y1=\"216.7882\" y2=\"201.9836\"/></a><!--MD5=[062ed86c389d1a88f61c6380d0491e17]\n",
       "reverse link E12 to E13--><a href=\"psysml:044b978f-2385-4425-992f-2d75b645c055\" target=\"_top\" title=\"psysml:044b978f-2385-4425-992f-2d75b645c055\" xlink:actuate=\"onRequest\" xlink:href=\"psysml:044b978f-2385-4425-992f-2d75b645c055\" xlink:show=\"new\" xlink:title=\"psysml:044b978f-2385-4425-992f-2d75b645c055\" xlink:type=\"simple\"><path d=\"M139.02,262.15 C168.28,257.05 211.02,249.6 243.39,243.95 \" fill=\"none\" id=\"E12&lt;-E13\" style=\"stroke: #383838; stroke-width: 1.0;\"/><polygon fill=\"#383838\" points=\"125.84,264.45,132.4403,267.3544,137.6599,262.3789,131.0596,259.4745,125.84,264.45\" style=\"stroke: #383838; stroke-width: 1.0;\"/></a><!--MD5=[017847e01ff9a8bd19f247411074f987]\n",
       "link E13 to E4--><a href=\"psysml:279d9c9b-21cb-4076-8967-339bf6a79b4c\" target=\"_top\" title=\"psysml:279d9c9b-21cb-4076-8967-339bf6a79b4c\" xlink:actuate=\"onRequest\" xlink:href=\"psysml:279d9c9b-21cb-4076-8967-339bf6a79b4c\" xlink:show=\"new\" xlink:title=\"psysml:279d9c9b-21cb-4076-8967-339bf6a79b4c\" xlink:type=\"simple\"><path d=\"M336.76,236 C366.45,236 405.9,236 440.46,236 \" fill=\"none\" id=\"E13-&gt;E4\" style=\"stroke: #383838; stroke-width: 1.0;\"/><polygon fill=\"#FFFFFF\" points=\"460.67,236,441.67,243,441.67,229,460.67,236\" style=\"stroke: #383838; stroke-width: 1.0;\"/><ellipse cx=\"435.97\" cy=\"241\" fill=\"#383838\" rx=\"2\" ry=\"2\" style=\"stroke: #383838; stroke-width: 1.0;\"/><ellipse cx=\"435.97\" cy=\"231\" fill=\"#383838\" rx=\"2\" ry=\"2\" style=\"stroke: #383838; stroke-width: 1.0;\"/></a><!--MD5=[2cfe899c895462254056921bfb67315f]\n",
       "link E13 to E11--><a href=\"psysml:fcf36e7c-2665-4a1d-8cf4-6fcc5b08ef04\" target=\"_top\" title=\"psysml:fcf36e7c-2665-4a1d-8cf4-6fcc5b08ef04\" xlink:actuate=\"onRequest\" xlink:href=\"psysml:fcf36e7c-2665-4a1d-8cf4-6fcc5b08ef04\" xlink:show=\"new\" xlink:title=\"psysml:fcf36e7c-2665-4a1d-8cf4-6fcc5b08ef04\" xlink:type=\"simple\"><path d=\"M336.76,213.27 C383.95,189.83 455.79,154.15 493.46,135.44 \" fill=\"none\" id=\"E13-&gt;E11\" style=\"stroke: #383838; stroke-width: 1.0; stroke-dasharray: 7.0,7.0;\"/><polygon fill=\"#383838\" points=\"498.32,133.02,488.4797,133.4294,493.8393,135.2389,492.0299,140.5985,498.32,133.02\" style=\"stroke: #383838; stroke-width: 1.0;\"/><text fill=\"#000000\" font-family=\"sans-serif\" font-size=\"13\" lengthAdjust=\"spacingAndGlyphs\" textLength=\"57\" x=\"373\" y=\"166.0669\">«satisfy»</text></a><!--MD5=[b3f8fdf5b9ba21f4d43bc4e8566b2c72]\n",
       "@startuml\r\n",
       "left to right direction\r\n",
       "skinparam monochrome true\r\n",
       "skinparam classbackgroundcolor white\r\n",
       "skinparam shadowing false\r\n",
       "skinparam wrapWidth 300\r\n",
       "hide circle\r\n",
       "\r\n",
       "package \"RequirementTest\" as E1  [[psysml:f822a5b9-f637-4bfc-9356-d45755be39c3 ]]  {\r\n",
       "comp def \"C\" as E2  <<(T,blue)constraint def>> [[psysml:55e0c843-cabd-4238-9430-5e5ddb37e322 ]] {\r\n",
       "}\r\n",
       "comp usage \"c: C\" as E3  <<(T,blue)constraint>> [[psysml:943270d7-f648-4f2b-99ed-798f0a01be75 ]] {\r\n",
       "}\r\n",
       "comp def \"R\" as E4  <<(T,blue)requirement def>> [[psysml:3547be1a-4b91-4a24-a66e-ac992d912d25 ]] {\r\n",
       "\r\n",
       "- -\r\n",
       "- - constraints - -\r\n",
       "<b>require</b> c\r\n",
       "<i>assume</i> c1: C\r\n",
       "}\r\n",
       "comp usage \"<s>noname</s>\" as E7  <<(T,blue)requirement>> [[psysml:5cc59123-afbd-4e9a-96fa-0bfa0b631260 ]] {\r\n",
       "}\r\n",
       "comp def \" [<b>1</b>] A\" as E8  <<(T,blue)requirement def>> [[psysml:49e593a4-f39b-4803-a2ce-02c26b916197 ]] {\r\n",
       "Text\r\n",
       "- -\r\n",
       "}\r\n",
       "comp def \"R1\" as E9  <<(T,blue)requirement def>> [[psysml:79fb73d3-867b-49b4-8196-8eb6e64f62f0 ]] {\r\n",
       "- - constraints - -\r\n",
       "<b>require</b> c1\\n//:>>RequirementTest::c// \r\n",
       "}\r\n",
       "comp usage \"p\" as E11  <<(T,blue)part>> [[psysml:510a33c1-eff7-4e5e-90b4-a63ef5b72ae6 ]] {\r\n",
       "}\r\n",
       "comp usage \"q\" as E12  <<(T,blue)part>> [[psysml:a6cd5ff6-20a0-4014-8266-5a2f114de57c ]] {\r\n",
       "}\r\n",
       "comp usage \"r: R\" as E13  <<(T,blue)requirement>> [[psysml:50b94a4a-7c4d-4845-a3da-b360d2df1f8c ]] {\r\n",
       "}\r\n",
       "E3 - -:|> E2 [[psysml:e8229714-231f-4f2a-9005-056b1e69efb5 ]] \r\n",
       "E4 *- - E7 [[psysml:eafce8af-10f9-4af7-9431-7513cc7d3347 ]] \r\n",
       "E4 +- - E8 [[psysml:a0130814-5dc8-48af-af1a-9e985463643e ]] \r\n",
       "E12 *- - E13 [[psysml:044b978f-2385-4425-992f-2d75b645c055 ]] \r\n",
       "E13 - -:|> E4 [[psysml:279d9c9b-21cb-4076-8967-339bf6a79b4c ]] \r\n",
       "E13 ..> E11 [[psysml:fcf36e7c-2665-4a1d-8cf4-6fcc5b08ef04 ]] : <<satisfy>>\r\n",
       "}\r\n",
       "@enduml\r\n",
       "\n",
       "PlantUML version 1.2020.13(Sat Jun 13 12:26:38 UTC 2020)\n",
       "(EPL source distribution)\n",
       "Java Runtime: OpenJDK Runtime Environment\n",
       "JVM: OpenJDK 64-Bit Server VM\n",
       "Default Encoding: UTF-8\n",
       "Language: en\n",
       "Country: null\n",
       "--></g></svg>"
      ]
     },
     "execution_count": 16,
     "metadata": {},
     "output_type": "execute_result"
    }
   ],
   "source": [
    "%viz --style=\"LR\" --view=\"Default\" \"RequirementTest\""
   ]
  },
  {
   "cell_type": "code",
   "execution_count": 17,
   "id": "944bf2f5",
   "metadata": {
    "execution": {
     "iopub.execute_input": "2021-04-21T20:21:27.818047Z",
     "iopub.status.busy": "2021-04-21T20:21:27.817402Z",
     "iopub.status.idle": "2021-04-21T20:21:27.963584Z",
     "shell.execute_reply": "2021-04-21T20:21:27.960963Z"
    }
   },
   "outputs": [
    {
     "data": {
      "image/svg+xml": [
       "<?xml version=\"1.0\" encoding=\"UTF-8\" standalone=\"no\"?><svg xmlns=\"http://www.w3.org/2000/svg\" xmlns:xlink=\"http://www.w3.org/1999/xlink\" contentScriptType=\"application/ecmascript\" contentStyleType=\"text/css\" height=\"319px\" preserveAspectRatio=\"none\" style=\"width:794px;height:319px;\" version=\"1.1\" viewBox=\"0 0 794 319\" width=\"794px\" zoomAndPan=\"magnify\"><defs/><g><!--MD5=[fbc87193dbaf4d95561dea2c320d4a47]\n",
       "cluster E1--><a href=\"psysml:f822a5b9-f637-4bfc-9356-d45755be39c3\" target=\"_top\" title=\"psysml:f822a5b9-f637-4bfc-9356-d45755be39c3\" xlink:actuate=\"onRequest\" xlink:href=\"psysml:f822a5b9-f637-4bfc-9356-d45755be39c3\" xlink:show=\"new\" xlink:title=\"psysml:f822a5b9-f637-4bfc-9356-d45755be39c3\" xlink:type=\"simple\"><polygon fill=\"#FFFFFF\" points=\"16,6,158,6,165,28.2969,772,28.2969,772,307,16,307,16,6\" style=\"stroke: #000000; stroke-width: 1.5;\"/><line style=\"stroke: #000000; stroke-width: 1.5;\" x1=\"16\" x2=\"165\" y1=\"28.2969\" y2=\"28.2969\"/><text fill=\"#000000\" font-family=\"sans-serif\" font-size=\"14\" font-weight=\"bold\" lengthAdjust=\"spacingAndGlyphs\" textLength=\"136\" x=\"20\" y=\"20.9951\">RequirementTest</text></a><!--MD5=[b4997ac47864f28c2f74865a473b2911]\n",
       "class E2--><a href=\"psysml:55e0c843-cabd-4238-9430-5e5ddb37e322\" target=\"_top\" title=\"psysml:55e0c843-cabd-4238-9430-5e5ddb37e322\" xlink:actuate=\"onRequest\" xlink:href=\"psysml:55e0c843-cabd-4238-9430-5e5ddb37e322\" xlink:show=\"new\" xlink:title=\"psysml:55e0c843-cabd-4238-9430-5e5ddb37e322\" xlink:type=\"simple\"><rect fill=\"#FFFFFF\" height=\"45.9375\" id=\"E2\" style=\"stroke: #383838; stroke-width: 1.5;\" width=\"104\" x=\"238\" y=\"41\"/><text fill=\"#000000\" font-family=\"sans-serif\" font-size=\"12\" font-style=\"italic\" lengthAdjust=\"spacingAndGlyphs\" textLength=\"102\" x=\"239\" y=\"57.1387\">«constraint def»</text><text fill=\"#000000\" font-family=\"sans-serif\" font-size=\"12\" lengthAdjust=\"spacingAndGlyphs\" textLength=\"8\" x=\"286\" y=\"71.1074\">C</text><line style=\"stroke: #383838; stroke-width: 1.5;\" x1=\"239\" x2=\"341\" y1=\"78.9375\" y2=\"78.9375\"/></a><!--MD5=[09b614a08d8cba4a07c9adeb5e0fee81]\n",
       "class E3--><a href=\"psysml:943270d7-f648-4f2b-99ed-798f0a01be75\" target=\"_top\" title=\"psysml:943270d7-f648-4f2b-99ed-798f0a01be75\" xlink:actuate=\"onRequest\" xlink:href=\"psysml:943270d7-f648-4f2b-99ed-798f0a01be75\" xlink:show=\"new\" xlink:title=\"psysml:943270d7-f648-4f2b-99ed-798f0a01be75\" xlink:type=\"simple\"><rect fill=\"#FFFFFF\" height=\"45.9375\" id=\"E3\" rx=\"10\" ry=\"10\" style=\"stroke: #383838; stroke-width: 1.5;\" width=\"80\" x=\"64.5\" y=\"41\"/><text fill=\"#000000\" font-family=\"sans-serif\" font-size=\"12\" font-style=\"italic\" lengthAdjust=\"spacingAndGlyphs\" textLength=\"78\" x=\"65.5\" y=\"57.1387\">«constraint»</text><text fill=\"#000000\" font-family=\"sans-serif\" font-size=\"12\" lengthAdjust=\"spacingAndGlyphs\" textLength=\"23\" x=\"93\" y=\"71.1074\">c: C</text><line style=\"stroke: #383838; stroke-width: 1.5;\" x1=\"65.5\" x2=\"143.5\" y1=\"78.9375\" y2=\"78.9375\"/></a><!--MD5=[ebbe1d658d1005bcc118a6aa81145e00]\n",
       "class E4--><a href=\"psysml:3547be1a-4b91-4a24-a66e-ac992d912d25\" target=\"_top\" title=\"psysml:3547be1a-4b91-4a24-a66e-ac992d912d25\" xlink:actuate=\"onRequest\" xlink:href=\"psysml:3547be1a-4b91-4a24-a66e-ac992d912d25\" xlink:show=\"new\" xlink:title=\"psysml:3547be1a-4b91-4a24-a66e-ac992d912d25\" xlink:type=\"simple\"><rect fill=\"#FFFFFF\" height=\"109.1563\" id=\"E4\" style=\"stroke: #383838; stroke-width: 1.5;\" width=\"117\" x=\"461\" y=\"181.5\"/><text fill=\"#000000\" font-family=\"sans-serif\" font-size=\"12\" font-style=\"italic\" lengthAdjust=\"spacingAndGlyphs\" textLength=\"115\" x=\"462\" y=\"197.6387\">«requirement def»</text><text fill=\"#000000\" font-family=\"sans-serif\" font-size=\"12\" lengthAdjust=\"spacingAndGlyphs\" textLength=\"8\" x=\"515.5\" y=\"211.6074\">R</text><line style=\"stroke: #383838; stroke-width: 1.5;\" x1=\"462\" x2=\"577\" y1=\"219.4375\" y2=\"219.4375\"/><text fill=\"#000000\" font-family=\"sans-serif\" font-size=\"11\" lengthAdjust=\"spacingAndGlyphs\" textLength=\"0\" x=\"471\" y=\"233.6479\"/><line style=\"stroke: #383838; stroke-width: 1.0;\" x1=\"462\" x2=\"577\" y1=\"240.2422\" y2=\"240.2422\"/><text fill=\"#000000\" font-family=\"sans-serif\" font-size=\"11\" font-weight=\"bold\" lengthAdjust=\"spacingAndGlyphs\" textLength=\"46\" x=\"467\" y=\"271.2573\">require</text><text fill=\"#000000\" font-family=\"sans-serif\" font-size=\"11\" lengthAdjust=\"spacingAndGlyphs\" textLength=\"6\" x=\"517\" y=\"271.2573\">c</text><text fill=\"#000000\" font-family=\"sans-serif\" font-size=\"11\" font-style=\"italic\" lengthAdjust=\"spacingAndGlyphs\" textLength=\"46\" x=\"467\" y=\"284.062\">assume</text><text fill=\"#000000\" font-family=\"sans-serif\" font-size=\"11\" lengthAdjust=\"spacingAndGlyphs\" textLength=\"29\" x=\"517\" y=\"284.062\">c1: C</text><line style=\"stroke: #383838; stroke-width: 1.0;\" x1=\"462\" x2=\"487.5\" y1=\"254.6445\" y2=\"254.6445\"/><text fill=\"#000000\" font-family=\"sans-serif\" font-size=\"11\" lengthAdjust=\"spacingAndGlyphs\" textLength=\"64\" x=\"487.5\" y=\"257.9526\">constraints</text><line style=\"stroke: #383838; stroke-width: 1.0;\" x1=\"551.5\" x2=\"577\" y1=\"254.6445\" y2=\"254.6445\"/></a><!--MD5=[2156ba9850f5573cc1fc38a6a4b2f02b]\n",
       "class E7--><a href=\"psysml:5cc59123-afbd-4e9a-96fa-0bfa0b631260\" target=\"_top\" title=\"psysml:5cc59123-afbd-4e9a-96fa-0bfa0b631260\" xlink:actuate=\"onRequest\" xlink:href=\"psysml:5cc59123-afbd-4e9a-96fa-0bfa0b631260\" xlink:show=\"new\" xlink:title=\"psysml:5cc59123-afbd-4e9a-96fa-0bfa0b631260\" xlink:type=\"simple\"><rect fill=\"#FFFFFF\" height=\"45.9375\" id=\"E7\" rx=\"10\" ry=\"10\" style=\"stroke: #383838; stroke-width: 1.5;\" width=\"93\" x=\"651\" y=\"233\"/><text fill=\"#000000\" font-family=\"sans-serif\" font-size=\"12\" font-style=\"italic\" lengthAdjust=\"spacingAndGlyphs\" textLength=\"91\" x=\"652\" y=\"249.1387\">«requirement»</text><text fill=\"#000000\" font-family=\"sans-serif\" font-size=\"12\" lengthAdjust=\"spacingAndGlyphs\" text-decoration=\"line-through\" textLength=\"51\" x=\"672\" y=\"263.1074\">noname</text><line style=\"stroke: #383838; stroke-width: 1.5;\" x1=\"652\" x2=\"743\" y1=\"270.9375\" y2=\"270.9375\"/></a><!--MD5=[b9389687b975829384b498ac4b7476b2]\n",
       "class E8--><a href=\"psysml:49e593a4-f39b-4803-a2ce-02c26b916197\" target=\"_top\" title=\"psysml:49e593a4-f39b-4803-a2ce-02c26b916197\" xlink:actuate=\"onRequest\" xlink:href=\"psysml:49e593a4-f39b-4803-a2ce-02c26b916197\" xlink:show=\"new\" xlink:title=\"psysml:49e593a4-f39b-4803-a2ce-02c26b916197\" xlink:type=\"simple\"><rect fill=\"#FFFFFF\" height=\"66.7422\" id=\"E8\" style=\"stroke: #383838; stroke-width: 1.5;\" width=\"117\" x=\"639\" y=\"130.5\"/><text fill=\"#000000\" font-family=\"sans-serif\" font-size=\"12\" font-style=\"italic\" lengthAdjust=\"spacingAndGlyphs\" textLength=\"115\" x=\"640\" y=\"146.6387\">«requirement def»</text><text fill=\"#000000\" font-family=\"sans-serif\" font-size=\"12\" lengthAdjust=\"spacingAndGlyphs\" textLength=\"5\" x=\"684.5\" y=\"160.6074\">[</text><text fill=\"#000000\" font-family=\"sans-serif\" font-size=\"12\" font-weight=\"bold\" lengthAdjust=\"spacingAndGlyphs\" textLength=\"8\" x=\"689.5\" y=\"160.6074\">1</text><text fill=\"#000000\" font-family=\"sans-serif\" font-size=\"12\" lengthAdjust=\"spacingAndGlyphs\" textLength=\"17\" x=\"697.5\" y=\"160.6074\">] A</text><line style=\"stroke: #383838; stroke-width: 1.5;\" x1=\"640\" x2=\"755\" y1=\"168.4375\" y2=\"168.4375\"/><text fill=\"#000000\" font-family=\"sans-serif\" font-size=\"11\" lengthAdjust=\"spacingAndGlyphs\" textLength=\"24\" x=\"645\" y=\"182.6479\">Text</text><line style=\"stroke: #383838; stroke-width: 1.0;\" x1=\"640\" x2=\"755\" y1=\"189.2422\" y2=\"189.2422\"/></a><!--MD5=[fd4143e9d270a159db93a4ea2a975926]\n",
       "class E9--><a href=\"psysml:79fb73d3-867b-49b4-8196-8eb6e64f62f0\" target=\"_top\" title=\"psysml:79fb73d3-867b-49b4-8196-8eb6e64f62f0\" xlink:actuate=\"onRequest\" xlink:href=\"psysml:79fb73d3-867b-49b4-8196-8eb6e64f62f0\" xlink:show=\"new\" xlink:title=\"psysml:79fb73d3-867b-49b4-8196-8eb6e64f62f0\" xlink:type=\"simple\"><rect fill=\"#FFFFFF\" height=\"88.3516\" id=\"E9\" style=\"stroke: #383838; stroke-width: 1.5;\" width=\"145\" x=\"32\" y=\"122\"/><text fill=\"#000000\" font-family=\"sans-serif\" font-size=\"12\" font-style=\"italic\" lengthAdjust=\"spacingAndGlyphs\" textLength=\"115\" x=\"47\" y=\"138.1387\">«requirement def»</text><text fill=\"#000000\" font-family=\"sans-serif\" font-size=\"12\" lengthAdjust=\"spacingAndGlyphs\" textLength=\"16\" x=\"96.5\" y=\"152.1074\">R1</text><line style=\"stroke: #383838; stroke-width: 1.5;\" x1=\"33\" x2=\"176\" y1=\"159.9375\" y2=\"159.9375\"/><text fill=\"#000000\" font-family=\"sans-serif\" font-size=\"11\" font-weight=\"bold\" lengthAdjust=\"spacingAndGlyphs\" textLength=\"46\" x=\"38\" y=\"190.9526\">require</text><text fill=\"#000000\" font-family=\"sans-serif\" font-size=\"11\" lengthAdjust=\"spacingAndGlyphs\" textLength=\"13\" x=\"88\" y=\"190.9526\">c1</text><text fill=\"#000000\" font-family=\"sans-serif\" font-size=\"11\" font-style=\"italic\" lengthAdjust=\"spacingAndGlyphs\" textLength=\"133\" x=\"38\" y=\"203.7573\">:&gt;&gt;RequirementTest::c</text><line style=\"stroke: #383838; stroke-width: 1.0;\" x1=\"33\" x2=\"72.5\" y1=\"174.3398\" y2=\"174.3398\"/><text fill=\"#000000\" font-family=\"sans-serif\" font-size=\"11\" lengthAdjust=\"spacingAndGlyphs\" textLength=\"64\" x=\"72.5\" y=\"177.6479\">constraints</text><line style=\"stroke: #383838; stroke-width: 1.0;\" x1=\"136.5\" x2=\"176\" y1=\"174.3398\" y2=\"174.3398\"/></a><!--MD5=[1dd1bfd58a279cf63c5f349dbc8fc6a1]\n",
       "class E11--><a href=\"psysml:510a33c1-eff7-4e5e-90b4-a63ef5b72ae6\" target=\"_top\" title=\"psysml:510a33c1-eff7-4e5e-90b4-a63ef5b72ae6\" xlink:actuate=\"onRequest\" xlink:href=\"psysml:510a33c1-eff7-4e5e-90b4-a63ef5b72ae6\" xlink:show=\"new\" xlink:title=\"psysml:510a33c1-eff7-4e5e-90b4-a63ef5b72ae6\" xlink:type=\"simple\"><rect fill=\"#FFFFFF\" height=\"45.9375\" id=\"E11\" rx=\"10\" ry=\"10\" style=\"stroke: #383838; stroke-width: 1.5;\" width=\"42\" x=\"498.5\" y=\"100\"/><text fill=\"#000000\" font-family=\"sans-serif\" font-size=\"12\" font-style=\"italic\" lengthAdjust=\"spacingAndGlyphs\" textLength=\"40\" x=\"499.5\" y=\"116.1387\">«part»</text><text fill=\"#000000\" font-family=\"sans-serif\" font-size=\"12\" lengthAdjust=\"spacingAndGlyphs\" textLength=\"8\" x=\"515.5\" y=\"130.1074\">p</text><line style=\"stroke: #383838; stroke-width: 1.5;\" x1=\"499.5\" x2=\"539.5\" y1=\"137.9375\" y2=\"137.9375\"/></a><!--MD5=[49a0ec8f00dab7302a31f22d0f0fe584]\n",
       "class E12--><a href=\"psysml:a6cd5ff6-20a0-4014-8266-5a2f114de57c\" target=\"_top\" title=\"psysml:a6cd5ff6-20a0-4014-8266-5a2f114de57c\" xlink:actuate=\"onRequest\" xlink:href=\"psysml:a6cd5ff6-20a0-4014-8266-5a2f114de57c\" xlink:show=\"new\" xlink:title=\"psysml:a6cd5ff6-20a0-4014-8266-5a2f114de57c\" xlink:type=\"simple\"><rect fill=\"#FFFFFF\" height=\"45.9375\" id=\"E12\" rx=\"10\" ry=\"10\" style=\"stroke: #383838; stroke-width: 1.5;\" width=\"42\" x=\"83.5\" y=\"245\"/><text fill=\"#000000\" font-family=\"sans-serif\" font-size=\"12\" font-style=\"italic\" lengthAdjust=\"spacingAndGlyphs\" textLength=\"40\" x=\"84.5\" y=\"261.1387\">«part»</text><text fill=\"#000000\" font-family=\"sans-serif\" font-size=\"12\" lengthAdjust=\"spacingAndGlyphs\" textLength=\"8\" x=\"100.5\" y=\"275.1074\">q</text><line style=\"stroke: #383838; stroke-width: 1.5;\" x1=\"84.5\" x2=\"124.5\" y1=\"282.9375\" y2=\"282.9375\"/></a><!--MD5=[ee3c913d1a06f366521f9ef512b67efe]\n",
       "class E13--><a href=\"psysml:50b94a4a-7c4d-4845-a3da-b360d2df1f8c\" target=\"_top\" title=\"psysml:50b94a4a-7c4d-4845-a3da-b360d2df1f8c\" xlink:actuate=\"onRequest\" xlink:href=\"psysml:50b94a4a-7c4d-4845-a3da-b360d2df1f8c\" xlink:show=\"new\" xlink:title=\"psysml:50b94a4a-7c4d-4845-a3da-b360d2df1f8c\" xlink:type=\"simple\"><rect fill=\"#FFFFFF\" height=\"45.9375\" id=\"E13\" rx=\"10\" ry=\"10\" style=\"stroke: #383838; stroke-width: 1.5;\" width=\"93\" x=\"243.5\" y=\"213\"/><text fill=\"#000000\" font-family=\"sans-serif\" font-size=\"12\" font-style=\"italic\" lengthAdjust=\"spacingAndGlyphs\" textLength=\"91\" x=\"244.5\" y=\"229.1387\">«requirement»</text><text fill=\"#000000\" font-family=\"sans-serif\" font-size=\"12\" lengthAdjust=\"spacingAndGlyphs\" textLength=\"21\" x=\"279.5\" y=\"243.1074\">r: R</text><line style=\"stroke: #383838; stroke-width: 1.5;\" x1=\"244.5\" x2=\"335.5\" y1=\"250.9375\" y2=\"250.9375\"/></a><!--MD5=[05d275557350bfb9b23a4ef7222b4c39]\n",
       "link E3 to E2--><a href=\"psysml:e8229714-231f-4f2a-9005-056b1e69efb5\" target=\"_top\" title=\"psysml:e8229714-231f-4f2a-9005-056b1e69efb5\" xlink:actuate=\"onRequest\" xlink:href=\"psysml:e8229714-231f-4f2a-9005-056b1e69efb5\" xlink:show=\"new\" xlink:title=\"psysml:e8229714-231f-4f2a-9005-056b1e69efb5\" xlink:type=\"simple\"><path d=\"M144.87,64 C166.09,64 192.94,64 217.7,64 \" fill=\"none\" id=\"E3-&gt;E2\" style=\"stroke: #383838; stroke-width: 1.0;\"/><polygon fill=\"#FFFFFF\" points=\"237.84,64,218.84,71,218.84,57,237.84,64\" style=\"stroke: #383838; stroke-width: 1.0;\"/><ellipse cx=\"213.14\" cy=\"69\" fill=\"#383838\" rx=\"2\" ry=\"2\" style=\"stroke: #383838; stroke-width: 1.0;\"/><ellipse cx=\"213.14\" cy=\"59\" fill=\"#383838\" rx=\"2\" ry=\"2\" style=\"stroke: #383838; stroke-width: 1.0;\"/></a><!--MD5=[722ff4eef345aa10242dad44df0e98c7]\n",
       "reverse link E4 to E7--><a href=\"psysml:eafce8af-10f9-4af7-9431-7513cc7d3347\" target=\"_top\" title=\"psysml:eafce8af-10f9-4af7-9431-7513cc7d3347\" xlink:actuate=\"onRequest\" xlink:href=\"psysml:eafce8af-10f9-4af7-9431-7513cc7d3347\" xlink:show=\"new\" xlink:title=\"psysml:eafce8af-10f9-4af7-9431-7513cc7d3347\" xlink:type=\"simple\"><path d=\"M591.1,244.02 C611.19,246.31 632.54,248.73 650.74,250.8 \" fill=\"none\" id=\"E4&lt;-E7\" style=\"stroke: #383838; stroke-width: 1.0;\"/><polygon fill=\"#383838\" points=\"578.13,242.55,583.6386,247.2035,590.0529,243.9085,584.5443,239.2549,578.13,242.55\" style=\"stroke: #383838; stroke-width: 1.0;\"/></a><!--MD5=[c6fc7cdb0cabde04948078cf183fa696]\n",
       "reverse link E4 to E8--><a href=\"psysml:a0130814-5dc8-48af-af1a-9e985463643e\" target=\"_top\" title=\"psysml:a0130814-5dc8-48af-af1a-9e985463643e\" xlink:actuate=\"onRequest\" xlink:href=\"psysml:a0130814-5dc8-48af-af1a-9e985463643e\" xlink:show=\"new\" xlink:title=\"psysml:a0130814-5dc8-48af-af1a-9e985463643e\" xlink:type=\"simple\"><path d=\"M592.12,206.7 C607.63,200.36 623.84,193.72 638.74,187.63 \" fill=\"none\" id=\"E4&lt;-E8\" style=\"stroke: #383838; stroke-width: 1.0;\"/><ellipse cx=\"585.5323\" cy=\"209.3859\" fill=\"#FFFFFF\" rx=\"8\" ry=\"8\" style=\"stroke: #383838; stroke-width: 1.0;\"/><line style=\"stroke: #383838; stroke-width: 1.0;\" x1=\"592.9346\" x2=\"578.13\" y1=\"206.3518\" y2=\"212.42\"/><line style=\"stroke: #383838; stroke-width: 1.0;\" x1=\"588.5664\" x2=\"582.4982\" y1=\"216.7882\" y2=\"201.9836\"/></a><!--MD5=[062ed86c389d1a88f61c6380d0491e17]\n",
       "reverse link E12 to E13--><a href=\"psysml:044b978f-2385-4425-992f-2d75b645c055\" target=\"_top\" title=\"psysml:044b978f-2385-4425-992f-2d75b645c055\" xlink:actuate=\"onRequest\" xlink:href=\"psysml:044b978f-2385-4425-992f-2d75b645c055\" xlink:show=\"new\" xlink:title=\"psysml:044b978f-2385-4425-992f-2d75b645c055\" xlink:type=\"simple\"><path d=\"M139.02,262.15 C168.28,257.05 211.02,249.6 243.39,243.95 \" fill=\"none\" id=\"E12&lt;-E13\" style=\"stroke: #383838; stroke-width: 1.0;\"/><polygon fill=\"#383838\" points=\"125.84,264.45,132.4403,267.3544,137.6599,262.3789,131.0596,259.4745,125.84,264.45\" style=\"stroke: #383838; stroke-width: 1.0;\"/></a><!--MD5=[017847e01ff9a8bd19f247411074f987]\n",
       "link E13 to E4--><a href=\"psysml:279d9c9b-21cb-4076-8967-339bf6a79b4c\" target=\"_top\" title=\"psysml:279d9c9b-21cb-4076-8967-339bf6a79b4c\" xlink:actuate=\"onRequest\" xlink:href=\"psysml:279d9c9b-21cb-4076-8967-339bf6a79b4c\" xlink:show=\"new\" xlink:title=\"psysml:279d9c9b-21cb-4076-8967-339bf6a79b4c\" xlink:type=\"simple\"><path d=\"M336.76,236 C366.45,236 405.9,236 440.46,236 \" fill=\"none\" id=\"E13-&gt;E4\" style=\"stroke: #383838; stroke-width: 1.0;\"/><polygon fill=\"#FFFFFF\" points=\"460.67,236,441.67,243,441.67,229,460.67,236\" style=\"stroke: #383838; stroke-width: 1.0;\"/><ellipse cx=\"435.97\" cy=\"241\" fill=\"#383838\" rx=\"2\" ry=\"2\" style=\"stroke: #383838; stroke-width: 1.0;\"/><ellipse cx=\"435.97\" cy=\"231\" fill=\"#383838\" rx=\"2\" ry=\"2\" style=\"stroke: #383838; stroke-width: 1.0;\"/></a><!--MD5=[2cfe899c895462254056921bfb67315f]\n",
       "link E13 to E11--><a href=\"psysml:fcf36e7c-2665-4a1d-8cf4-6fcc5b08ef04\" target=\"_top\" title=\"psysml:fcf36e7c-2665-4a1d-8cf4-6fcc5b08ef04\" xlink:actuate=\"onRequest\" xlink:href=\"psysml:fcf36e7c-2665-4a1d-8cf4-6fcc5b08ef04\" xlink:show=\"new\" xlink:title=\"psysml:fcf36e7c-2665-4a1d-8cf4-6fcc5b08ef04\" xlink:type=\"simple\"><path d=\"M336.76,213.27 C383.95,189.83 455.79,154.15 493.46,135.44 \" fill=\"none\" id=\"E13-&gt;E11\" style=\"stroke: #383838; stroke-width: 1.0; stroke-dasharray: 7.0,7.0;\"/><polygon fill=\"#383838\" points=\"498.32,133.02,488.4797,133.4294,493.8393,135.2389,492.0299,140.5985,498.32,133.02\" style=\"stroke: #383838; stroke-width: 1.0;\"/><text fill=\"#000000\" font-family=\"sans-serif\" font-size=\"13\" lengthAdjust=\"spacingAndGlyphs\" textLength=\"57\" x=\"373\" y=\"166.0669\">«satisfy»</text></a><!--MD5=[b3f8fdf5b9ba21f4d43bc4e8566b2c72]\n",
       "@startuml\r\n",
       "left to right direction\r\n",
       "skinparam monochrome true\r\n",
       "skinparam classbackgroundcolor white\r\n",
       "skinparam shadowing false\r\n",
       "skinparam wrapWidth 300\r\n",
       "hide circle\r\n",
       "\r\n",
       "package \"RequirementTest\" as E1  [[psysml:f822a5b9-f637-4bfc-9356-d45755be39c3 ]]  {\r\n",
       "comp def \"C\" as E2  <<(T,blue)constraint def>> [[psysml:55e0c843-cabd-4238-9430-5e5ddb37e322 ]] {\r\n",
       "}\r\n",
       "comp usage \"c: C\" as E3  <<(T,blue)constraint>> [[psysml:943270d7-f648-4f2b-99ed-798f0a01be75 ]] {\r\n",
       "}\r\n",
       "comp def \"R\" as E4  <<(T,blue)requirement def>> [[psysml:3547be1a-4b91-4a24-a66e-ac992d912d25 ]] {\r\n",
       "\r\n",
       "- -\r\n",
       "- - constraints - -\r\n",
       "<b>require</b> c\r\n",
       "<i>assume</i> c1: C\r\n",
       "}\r\n",
       "comp usage \"<s>noname</s>\" as E7  <<(T,blue)requirement>> [[psysml:5cc59123-afbd-4e9a-96fa-0bfa0b631260 ]] {\r\n",
       "}\r\n",
       "comp def \" [<b>1</b>] A\" as E8  <<(T,blue)requirement def>> [[psysml:49e593a4-f39b-4803-a2ce-02c26b916197 ]] {\r\n",
       "Text\r\n",
       "- -\r\n",
       "}\r\n",
       "comp def \"R1\" as E9  <<(T,blue)requirement def>> [[psysml:79fb73d3-867b-49b4-8196-8eb6e64f62f0 ]] {\r\n",
       "- - constraints - -\r\n",
       "<b>require</b> c1\\n//:>>RequirementTest::c// \r\n",
       "}\r\n",
       "comp usage \"p\" as E11  <<(T,blue)part>> [[psysml:510a33c1-eff7-4e5e-90b4-a63ef5b72ae6 ]] {\r\n",
       "}\r\n",
       "comp usage \"q\" as E12  <<(T,blue)part>> [[psysml:a6cd5ff6-20a0-4014-8266-5a2f114de57c ]] {\r\n",
       "}\r\n",
       "comp usage \"r: R\" as E13  <<(T,blue)requirement>> [[psysml:50b94a4a-7c4d-4845-a3da-b360d2df1f8c ]] {\r\n",
       "}\r\n",
       "E3 - -:|> E2 [[psysml:e8229714-231f-4f2a-9005-056b1e69efb5 ]] \r\n",
       "E4 *- - E7 [[psysml:eafce8af-10f9-4af7-9431-7513cc7d3347 ]] \r\n",
       "E4 +- - E8 [[psysml:a0130814-5dc8-48af-af1a-9e985463643e ]] \r\n",
       "E12 *- - E13 [[psysml:044b978f-2385-4425-992f-2d75b645c055 ]] \r\n",
       "E13 - -:|> E4 [[psysml:279d9c9b-21cb-4076-8967-339bf6a79b4c ]] \r\n",
       "E13 ..> E11 [[psysml:fcf36e7c-2665-4a1d-8cf4-6fcc5b08ef04 ]] : <<satisfy>>\r\n",
       "}\r\n",
       "@enduml\r\n",
       "\n",
       "PlantUML version 1.2020.13(Sat Jun 13 12:26:38 UTC 2020)\n",
       "(EPL source distribution)\n",
       "Java Runtime: OpenJDK Runtime Environment\n",
       "JVM: OpenJDK 64-Bit Server VM\n",
       "Default Encoding: UTF-8\n",
       "Language: en\n",
       "Country: null\n",
       "--></g></svg>"
      ]
     },
     "execution_count": 17,
     "metadata": {},
     "output_type": "execute_result"
    }
   ],
   "source": [
    "%viz --style=\"LR\" --view=\"Tree\" \"RequirementTest\""
   ]
  },
  {
   "cell_type": "code",
   "execution_count": 18,
   "id": "01c81e55",
   "metadata": {
    "execution": {
     "iopub.execute_input": "2021-04-21T20:21:28.012056Z",
     "iopub.status.busy": "2021-04-21T20:21:28.011353Z",
     "iopub.status.idle": "2021-04-21T20:21:28.016732Z",
     "shell.execute_reply": "2021-04-21T20:21:28.016411Z"
    }
   },
   "outputs": [
    {
     "data": {
      "image/svg+xml": [
       "<?xml version=\"1.0\" encoding=\"UTF-8\" standalone=\"no\"?><svg xmlns=\"http://www.w3.org/2000/svg\" xmlns:xlink=\"http://www.w3.org/1999/xlink\" contentScriptType=\"application/ecmascript\" contentStyleType=\"text/css\" height=\"12px\" preserveAspectRatio=\"none\" style=\"width:12px;height:12px;\" version=\"1.1\" viewBox=\"0 0 12 12\" width=\"12px\" zoomAndPan=\"magnify\"><defs/><g><!--MD5=[19d285c9d72a204eba4e2cd117d745e8]\n",
       "@startuml\r\n",
       "left to right direction\r\n",
       "skinparam monochrome true\r\n",
       "skinparam classbackgroundcolor white\r\n",
       "skinparam shadowing false\r\n",
       "skinparam wrapWidth 300\r\n",
       "hide circle\r\n",
       "\r\n",
       "@enduml\r\n",
       "\n",
       "PlantUML version 1.2020.13(Sat Jun 13 12:26:38 UTC 2020)\n",
       "(EPL source distribution)\n",
       "Java Runtime: OpenJDK Runtime Environment\n",
       "JVM: OpenJDK 64-Bit Server VM\n",
       "Default Encoding: UTF-8\n",
       "Language: en\n",
       "Country: null\n",
       "--></g></svg>"
      ]
     },
     "execution_count": 18,
     "metadata": {},
     "output_type": "execute_result"
    }
   ],
   "source": [
    "%viz --style=\"LR\" --view=\"State\" \"RequirementTest\""
   ]
  },
  {
   "cell_type": "code",
   "execution_count": 19,
   "id": "ae893a8c",
   "metadata": {
    "execution": {
     "iopub.execute_input": "2021-04-21T20:21:28.067656Z",
     "iopub.status.busy": "2021-04-21T20:21:28.067058Z",
     "iopub.status.idle": "2021-04-21T20:21:28.194983Z",
     "shell.execute_reply": "2021-04-21T20:21:28.194113Z"
    }
   },
   "outputs": [
    {
     "data": {
      "image/svg+xml": [
       "<?xml version=\"1.0\" encoding=\"UTF-8\" standalone=\"no\"?><svg xmlns=\"http://www.w3.org/2000/svg\" xmlns:xlink=\"http://www.w3.org/1999/xlink\" contentScriptType=\"application/ecmascript\" contentStyleType=\"text/css\" height=\"362px\" preserveAspectRatio=\"none\" style=\"width:541px;height:362px;\" version=\"1.1\" viewBox=\"0 0 541 362\" width=\"541px\" zoomAndPan=\"magnify\"><defs/><g><!--MD5=[fbc87193dbaf4d95561dea2c320d4a47]\n",
       "cluster E1--><a href=\"psysml:f822a5b9-f637-4bfc-9356-d45755be39c3\" target=\"_top\" title=\"psysml:f822a5b9-f637-4bfc-9356-d45755be39c3\" xlink:actuate=\"onRequest\" xlink:href=\"psysml:f822a5b9-f637-4bfc-9356-d45755be39c3\" xlink:show=\"new\" xlink:title=\"psysml:f822a5b9-f637-4bfc-9356-d45755be39c3\" xlink:type=\"simple\"><polygon fill=\"#FFFFFF\" points=\"16,6,158,6,165,28.2969,519,28.2969,519,350,16,350,16,6\" style=\"stroke: #000000; stroke-width: 1.5;\"/><line style=\"stroke: #000000; stroke-width: 1.5;\" x1=\"16\" x2=\"165\" y1=\"28.2969\" y2=\"28.2969\"/><text fill=\"#000000\" font-family=\"sans-serif\" font-size=\"14\" font-weight=\"bold\" lengthAdjust=\"spacingAndGlyphs\" textLength=\"136\" x=\"20\" y=\"20.9951\">RequirementTest</text></a><!--MD5=[47bea60c1a0ac6c1143df232041969c0]\n",
       "cluster E12--><a href=\"psysml:a6cd5ff6-20a0-4014-8266-5a2f114de57c\" target=\"_top\" title=\"psysml:a6cd5ff6-20a0-4014-8266-5a2f114de57c\" xlink:actuate=\"onRequest\" xlink:href=\"psysml:a6cd5ff6-20a0-4014-8266-5a2f114de57c\" xlink:show=\"new\" xlink:title=\"psysml:a6cd5ff6-20a0-4014-8266-5a2f114de57c\" xlink:type=\"simple\"><rect fill=\"#FFFFFF\" height=\"97\" id=\"E12\" rx=\"10\" ry=\"10\" style=\"stroke: #383838; stroke-width: 1.5;\" width=\"125\" x=\"42\" y=\"49\"/><rect fill=\"#F8F8F8\" height=\"23.9688\" rx=\"10\" ry=\"10\" style=\"stroke: #F8F8F8; stroke-width: 1.5;\" width=\"125\" x=\"42\" y=\"49\"/><rect fill=\"#F8F8F8\" height=\"10\" style=\"stroke: #F8F8F8; stroke-width: 1.5;\" width=\"125\" x=\"42\" y=\"62.9688\"/><rect fill=\"none\" height=\"97\" id=\"E12\" rx=\"10\" ry=\"10\" style=\"stroke: #383838; stroke-width: 1.5;\" width=\"125\" x=\"42\" y=\"49\"/><text fill=\"#000000\" font-family=\"sans-serif\" font-size=\"12\" lengthAdjust=\"spacingAndGlyphs\" textLength=\"8\" x=\"100.5\" y=\"65.1387\">q</text><line style=\"stroke: #383838; stroke-width: 1.0;\" x1=\"42\" x2=\"167\" y1=\"72.9688\" y2=\"72.9688\"/></a><g id=\"E1.E2\"><a href=\"psysml:55e0c843-cabd-4238-9430-5e5ddb37e322\" target=\"_top\" title=\"psysml:55e0c843-cabd-4238-9430-5e5ddb37e322\" xlink:actuate=\"onRequest\" xlink:href=\"psysml:55e0c843-cabd-4238-9430-5e5ddb37e322\" xlink:show=\"new\" xlink:title=\"psysml:55e0c843-cabd-4238-9430-5e5ddb37e322\" xlink:type=\"simple\"><rect fill=\"#FFFFFF\" height=\"42.9375\" id=\"E2\" style=\"stroke: #383838; stroke-width: 1.5;\" width=\"109\" x=\"256\" y=\"260.5\"/><rect fill=\"#F8F8F8\" height=\"37.9375\" style=\"stroke: #383838; stroke-width: 1.5;\" width=\"109\" x=\"256\" y=\"260.5\"/><text fill=\"#000000\" font-family=\"sans-serif\" font-size=\"12\" font-style=\"italic\" lengthAdjust=\"spacingAndGlyphs\" textLength=\"102\" x=\"259.5\" y=\"276.6387\">«constraint def»</text><text fill=\"#000000\" font-family=\"sans-serif\" font-size=\"12\" lengthAdjust=\"spacingAndGlyphs\" textLength=\"8\" x=\"306.5\" y=\"290.6074\">C</text></a></g><!--MD5=[09b614a08d8cba4a07c9adeb5e0fee81]\n",
       "class E3--><a href=\"psysml:943270d7-f648-4f2b-99ed-798f0a01be75\" target=\"_top\" title=\"psysml:943270d7-f648-4f2b-99ed-798f0a01be75\" xlink:actuate=\"onRequest\" xlink:href=\"psysml:943270d7-f648-4f2b-99ed-798f0a01be75\" xlink:show=\"new\" xlink:title=\"psysml:943270d7-f648-4f2b-99ed-798f0a01be75\" xlink:type=\"simple\"><rect fill=\"#FFFFFF\" height=\"45.9375\" id=\"E3\" rx=\"10\" ry=\"10\" style=\"stroke: #383838; stroke-width: 1.5;\" width=\"80\" x=\"64.5\" y=\"165\"/><text fill=\"#000000\" font-family=\"sans-serif\" font-size=\"12\" font-style=\"italic\" lengthAdjust=\"spacingAndGlyphs\" textLength=\"78\" x=\"65.5\" y=\"181.1387\">«constraint»</text><text fill=\"#000000\" font-family=\"sans-serif\" font-size=\"12\" lengthAdjust=\"spacingAndGlyphs\" textLength=\"23\" x=\"93\" y=\"195.1074\">c: C</text><line style=\"stroke: #383838; stroke-width: 1.5;\" x1=\"65.5\" x2=\"143.5\" y1=\"202.9375\" y2=\"202.9375\"/></a><!--MD5=[ebbe1d658d1005bcc118a6aa81145e00]\n",
       "class E4--><a href=\"psysml:3547be1a-4b91-4a24-a66e-ac992d912d25\" target=\"_top\" title=\"psysml:3547be1a-4b91-4a24-a66e-ac992d912d25\" xlink:actuate=\"onRequest\" xlink:href=\"psysml:3547be1a-4b91-4a24-a66e-ac992d912d25\" xlink:show=\"new\" xlink:title=\"psysml:3547be1a-4b91-4a24-a66e-ac992d912d25\" xlink:type=\"simple\"><rect fill=\"#FFFFFF\" height=\"109.1563\" id=\"E4\" style=\"stroke: #383838; stroke-width: 1.5;\" width=\"117\" x=\"252\" y=\"116.5\"/><text fill=\"#000000\" font-family=\"sans-serif\" font-size=\"12\" font-style=\"italic\" lengthAdjust=\"spacingAndGlyphs\" textLength=\"115\" x=\"253\" y=\"132.6387\">«requirement def»</text><text fill=\"#000000\" font-family=\"sans-serif\" font-size=\"12\" lengthAdjust=\"spacingAndGlyphs\" textLength=\"8\" x=\"306.5\" y=\"146.6074\">R</text><line style=\"stroke: #383838; stroke-width: 1.5;\" x1=\"253\" x2=\"368\" y1=\"154.4375\" y2=\"154.4375\"/><text fill=\"#000000\" font-family=\"sans-serif\" font-size=\"11\" lengthAdjust=\"spacingAndGlyphs\" textLength=\"0\" x=\"262\" y=\"168.6479\"/><line style=\"stroke: #383838; stroke-width: 1.0;\" x1=\"253\" x2=\"368\" y1=\"175.2422\" y2=\"175.2422\"/><text fill=\"#000000\" font-family=\"sans-serif\" font-size=\"11\" font-weight=\"bold\" lengthAdjust=\"spacingAndGlyphs\" textLength=\"46\" x=\"258\" y=\"206.2573\">require</text><text fill=\"#000000\" font-family=\"sans-serif\" font-size=\"11\" lengthAdjust=\"spacingAndGlyphs\" textLength=\"6\" x=\"308\" y=\"206.2573\">c</text><text fill=\"#000000\" font-family=\"sans-serif\" font-size=\"11\" font-style=\"italic\" lengthAdjust=\"spacingAndGlyphs\" textLength=\"46\" x=\"258\" y=\"219.062\">assume</text><text fill=\"#000000\" font-family=\"sans-serif\" font-size=\"11\" lengthAdjust=\"spacingAndGlyphs\" textLength=\"29\" x=\"308\" y=\"219.062\">c1: C</text><line style=\"stroke: #383838; stroke-width: 1.0;\" x1=\"253\" x2=\"278.5\" y1=\"189.6445\" y2=\"189.6445\"/><text fill=\"#000000\" font-family=\"sans-serif\" font-size=\"11\" lengthAdjust=\"spacingAndGlyphs\" textLength=\"64\" x=\"278.5\" y=\"192.9526\">constraints</text><line style=\"stroke: #383838; stroke-width: 1.0;\" x1=\"342.5\" x2=\"368\" y1=\"189.6445\" y2=\"189.6445\"/></a><!--MD5=[2156ba9850f5573cc1fc38a6a4b2f02b]\n",
       "class E7--><a href=\"psysml:5cc59123-afbd-4e9a-96fa-0bfa0b631260\" target=\"_top\" title=\"psysml:5cc59123-afbd-4e9a-96fa-0bfa0b631260\" xlink:actuate=\"onRequest\" xlink:href=\"psysml:5cc59123-afbd-4e9a-96fa-0bfa0b631260\" xlink:show=\"new\" xlink:title=\"psysml:5cc59123-afbd-4e9a-96fa-0bfa0b631260\" xlink:type=\"simple\"><rect fill=\"#FFFFFF\" height=\"45.9375\" id=\"E7\" rx=\"10\" ry=\"10\" style=\"stroke: #383838; stroke-width: 1.5;\" width=\"93\" x=\"398\" y=\"184\"/><text fill=\"#000000\" font-family=\"sans-serif\" font-size=\"12\" font-style=\"italic\" lengthAdjust=\"spacingAndGlyphs\" textLength=\"91\" x=\"399\" y=\"200.1387\">«requirement»</text><text fill=\"#000000\" font-family=\"sans-serif\" font-size=\"12\" lengthAdjust=\"spacingAndGlyphs\" text-decoration=\"line-through\" textLength=\"51\" x=\"419\" y=\"214.1074\">noname</text><line style=\"stroke: #383838; stroke-width: 1.5;\" x1=\"399\" x2=\"490\" y1=\"221.9375\" y2=\"221.9375\"/></a><!--MD5=[b9389687b975829384b498ac4b7476b2]\n",
       "class E8--><a href=\"psysml:49e593a4-f39b-4803-a2ce-02c26b916197\" target=\"_top\" title=\"psysml:49e593a4-f39b-4803-a2ce-02c26b916197\" xlink:actuate=\"onRequest\" xlink:href=\"psysml:49e593a4-f39b-4803-a2ce-02c26b916197\" xlink:show=\"new\" xlink:title=\"psysml:49e593a4-f39b-4803-a2ce-02c26b916197\" xlink:type=\"simple\"><rect fill=\"#FFFFFF\" height=\"66.7422\" id=\"E8\" style=\"stroke: #383838; stroke-width: 1.5;\" width=\"117\" x=\"386\" y=\"81.5\"/><text fill=\"#000000\" font-family=\"sans-serif\" font-size=\"12\" font-style=\"italic\" lengthAdjust=\"spacingAndGlyphs\" textLength=\"115\" x=\"387\" y=\"97.6387\">«requirement def»</text><text fill=\"#000000\" font-family=\"sans-serif\" font-size=\"12\" lengthAdjust=\"spacingAndGlyphs\" textLength=\"5\" x=\"431.5\" y=\"111.6074\">[</text><text fill=\"#000000\" font-family=\"sans-serif\" font-size=\"12\" font-weight=\"bold\" lengthAdjust=\"spacingAndGlyphs\" textLength=\"8\" x=\"436.5\" y=\"111.6074\">1</text><text fill=\"#000000\" font-family=\"sans-serif\" font-size=\"12\" lengthAdjust=\"spacingAndGlyphs\" textLength=\"17\" x=\"444.5\" y=\"111.6074\">] A</text><line style=\"stroke: #383838; stroke-width: 1.5;\" x1=\"387\" x2=\"502\" y1=\"119.4375\" y2=\"119.4375\"/><text fill=\"#000000\" font-family=\"sans-serif\" font-size=\"11\" lengthAdjust=\"spacingAndGlyphs\" textLength=\"24\" x=\"392\" y=\"133.6479\">Text</text><line style=\"stroke: #383838; stroke-width: 1.0;\" x1=\"387\" x2=\"502\" y1=\"140.2422\" y2=\"140.2422\"/></a><!--MD5=[fd4143e9d270a159db93a4ea2a975926]\n",
       "class E9--><a href=\"psysml:79fb73d3-867b-49b4-8196-8eb6e64f62f0\" target=\"_top\" title=\"psysml:79fb73d3-867b-49b4-8196-8eb6e64f62f0\" xlink:actuate=\"onRequest\" xlink:href=\"psysml:79fb73d3-867b-49b4-8196-8eb6e64f62f0\" xlink:show=\"new\" xlink:title=\"psysml:79fb73d3-867b-49b4-8196-8eb6e64f62f0\" xlink:type=\"simple\"><rect fill=\"#FFFFFF\" height=\"88.3516\" id=\"E9\" style=\"stroke: #383838; stroke-width: 1.5;\" width=\"145\" x=\"32\" y=\"246\"/><text fill=\"#000000\" font-family=\"sans-serif\" font-size=\"12\" font-style=\"italic\" lengthAdjust=\"spacingAndGlyphs\" textLength=\"115\" x=\"47\" y=\"262.1387\">«requirement def»</text><text fill=\"#000000\" font-family=\"sans-serif\" font-size=\"12\" lengthAdjust=\"spacingAndGlyphs\" textLength=\"16\" x=\"96.5\" y=\"276.1074\">R1</text><line style=\"stroke: #383838; stroke-width: 1.5;\" x1=\"33\" x2=\"176\" y1=\"283.9375\" y2=\"283.9375\"/><text fill=\"#000000\" font-family=\"sans-serif\" font-size=\"11\" font-weight=\"bold\" lengthAdjust=\"spacingAndGlyphs\" textLength=\"46\" x=\"38\" y=\"314.9526\">require</text><text fill=\"#000000\" font-family=\"sans-serif\" font-size=\"11\" lengthAdjust=\"spacingAndGlyphs\" textLength=\"13\" x=\"88\" y=\"314.9526\">c1</text><text fill=\"#000000\" font-family=\"sans-serif\" font-size=\"11\" font-style=\"italic\" lengthAdjust=\"spacingAndGlyphs\" textLength=\"133\" x=\"38\" y=\"327.7573\">:&gt;&gt;RequirementTest::c</text><line style=\"stroke: #383838; stroke-width: 1.0;\" x1=\"33\" x2=\"72.5\" y1=\"298.3398\" y2=\"298.3398\"/><text fill=\"#000000\" font-family=\"sans-serif\" font-size=\"11\" lengthAdjust=\"spacingAndGlyphs\" textLength=\"64\" x=\"72.5\" y=\"301.6479\">constraints</text><line style=\"stroke: #383838; stroke-width: 1.0;\" x1=\"136.5\" x2=\"176\" y1=\"298.3398\" y2=\"298.3398\"/></a><g id=\"E1.E11\"><a href=\"psysml:510a33c1-eff7-4e5e-90b4-a63ef5b72ae6\" target=\"_top\" title=\"psysml:510a33c1-eff7-4e5e-90b4-a63ef5b72ae6\" xlink:actuate=\"onRequest\" xlink:href=\"psysml:510a33c1-eff7-4e5e-90b4-a63ef5b72ae6\" xlink:show=\"new\" xlink:title=\"psysml:510a33c1-eff7-4e5e-90b4-a63ef5b72ae6\" xlink:type=\"simple\"><rect fill=\"#FFFFFF\" height=\"40\" id=\"E11\" rx=\"10\" ry=\"10\" style=\"stroke: #383838; stroke-width: 1.5;\" width=\"50\" x=\"285.5\" y=\"41\"/><rect fill=\"#F8F8F8\" height=\"23.9688\" rx=\"10\" ry=\"10\" style=\"stroke: #F8F8F8; stroke-width: 1.5;\" width=\"50\" x=\"285.5\" y=\"41\"/><rect fill=\"#F8F8F8\" height=\"10\" style=\"stroke: #F8F8F8; stroke-width: 1.5;\" width=\"50\" x=\"285.5\" y=\"54.9688\"/><rect fill=\"none\" height=\"40\" id=\"E11\" rx=\"10\" ry=\"10\" style=\"stroke: #383838; stroke-width: 1.5;\" width=\"50\" x=\"285.5\" y=\"41\"/><text fill=\"#000000\" font-family=\"sans-serif\" font-size=\"12\" lengthAdjust=\"spacingAndGlyphs\" textLength=\"8\" x=\"306.5\" y=\"57.1387\">p</text></a></g><!--MD5=[ee3c913d1a06f366521f9ef512b67efe]\n",
       "class E13--><a href=\"psysml:50b94a4a-7c4d-4845-a3da-b360d2df1f8c\" target=\"_top\" title=\"psysml:50b94a4a-7c4d-4845-a3da-b360d2df1f8c\" xlink:actuate=\"onRequest\" xlink:href=\"psysml:50b94a4a-7c4d-4845-a3da-b360d2df1f8c\" xlink:show=\"new\" xlink:title=\"psysml:50b94a4a-7c4d-4845-a3da-b360d2df1f8c\" xlink:type=\"simple\"><rect fill=\"#FFFFFF\" height=\"45.9375\" id=\"E13\" rx=\"10\" ry=\"10\" style=\"stroke: #383838; stroke-width: 1.5;\" width=\"93\" x=\"58\" y=\"84\"/><text fill=\"#000000\" font-family=\"sans-serif\" font-size=\"12\" font-style=\"italic\" lengthAdjust=\"spacingAndGlyphs\" textLength=\"91\" x=\"59\" y=\"100.1387\">«requirement»</text><text fill=\"#000000\" font-family=\"sans-serif\" font-size=\"12\" lengthAdjust=\"spacingAndGlyphs\" textLength=\"21\" x=\"94\" y=\"114.1074\">r: R</text><line style=\"stroke: #383838; stroke-width: 1.5;\" x1=\"59\" x2=\"150\" y1=\"121.9375\" y2=\"121.9375\"/></a><!--MD5=[05d275557350bfb9b23a4ef7222b4c39]\n",
       "link E3 to E2--><a href=\"psysml:e8229714-231f-4f2a-9005-056b1e69efb5\" target=\"_top\" title=\"psysml:e8229714-231f-4f2a-9005-056b1e69efb5\" xlink:actuate=\"onRequest\" xlink:href=\"psysml:e8229714-231f-4f2a-9005-056b1e69efb5\" xlink:show=\"new\" xlink:title=\"psysml:e8229714-231f-4f2a-9005-056b1e69efb5\" xlink:type=\"simple\"><path d=\"M144.83,206.12 C173,219.1 211.57,236.88 244.3,251.96 \" fill=\"none\" id=\"E3-&gt;E2\" style=\"stroke: #383838; stroke-width: 1.0;\"/><polygon fill=\"#FFFFFF\" points=\"262.78,260.47,242.5942,258.8777,248.4522,246.1622,262.78,260.47\" style=\"stroke: #383838; stroke-width: 1.0;\"/><ellipse cx=\"238.2541\" cy=\"254.6762\" fill=\"#383838\" rx=\"2\" ry=\"2\" style=\"stroke: #383838; stroke-width: 1.0;\"/><ellipse cx=\"242.4383\" cy=\"245.5937\" fill=\"#383838\" rx=\"2\" ry=\"2\" style=\"stroke: #383838; stroke-width: 1.0;\"/></a><!--MD5=[722ff4eef345aa10242dad44df0e98c7]\n",
       "reverse link E4 to E7--><a href=\"psysml:eafce8af-10f9-4af7-9431-7513cc7d3347\" target=\"_top\" title=\"psysml:eafce8af-10f9-4af7-9431-7513cc7d3347\" xlink:actuate=\"onRequest\" xlink:href=\"psysml:eafce8af-10f9-4af7-9431-7513cc7d3347\" xlink:show=\"new\" xlink:title=\"psysml:eafce8af-10f9-4af7-9431-7513cc7d3347\" xlink:type=\"simple\"><path d=\"M381.67,190.14 C387.09,191.62 392.48,193.08 397.68,194.5 \" fill=\"none\" id=\"E4&lt;-E7\" style=\"stroke: #383838; stroke-width: 1.0;\"/><polygon fill=\"#383838\" points=\"369.01,186.69,373.7487,192.1255,380.5887,189.8418,375.85,184.4064,369.01,186.69\" style=\"stroke: #383838; stroke-width: 1.0;\"/></a><!--MD5=[c6fc7cdb0cabde04948078cf183fa696]\n",
       "reverse link E4 to E8--><a href=\"psysml:a0130814-5dc8-48af-af1a-9e985463643e\" target=\"_top\" title=\"psysml:a0130814-5dc8-48af-af1a-9e985463643e\" xlink:actuate=\"onRequest\" xlink:href=\"psysml:a0130814-5dc8-48af-af1a-9e985463643e\" xlink:show=\"new\" xlink:title=\"psysml:a0130814-5dc8-48af-af1a-9e985463643e\" xlink:type=\"simple\"><path d=\"M382.9,140.71 C383.86,140.3 384.82,139.9 385.77,139.49 \" fill=\"none\" id=\"E4&lt;-E8\" style=\"stroke: #383838; stroke-width: 1.0;\"/><ellipse cx=\"376.3753\" cy=\"143.4772\" fill=\"#FFFFFF\" rx=\"8\" ry=\"8\" style=\"stroke: #383838; stroke-width: 1.0;\"/><line style=\"stroke: #383838; stroke-width: 1.0;\" x1=\"383.7406\" x2=\"369.01\" y1=\"140.3543\" y2=\"146.6\"/><line style=\"stroke: #383838; stroke-width: 1.0;\" x1=\"379.4982\" x2=\"373.2525\" y1=\"150.8425\" y2=\"136.1118\"/></a><!--MD5=[017847e01ff9a8bd19f247411074f987]\n",
       "link E13 to E4--><a href=\"psysml:279d9c9b-21cb-4076-8967-339bf6a79b4c\" target=\"_top\" title=\"psysml:279d9c9b-21cb-4076-8967-339bf6a79b4c\" xlink:actuate=\"onRequest\" xlink:href=\"psysml:279d9c9b-21cb-4076-8967-339bf6a79b4c\" xlink:show=\"new\" xlink:title=\"psysml:279d9c9b-21cb-4076-8967-339bf6a79b4c\" xlink:type=\"simple\"><path d=\"M151.03,121.28 C174.93,128.78 204.89,138.18 232.29,146.78 \" fill=\"none\" id=\"E13-&gt;E4\" style=\"stroke: #383838; stroke-width: 1.0;\"/><polygon fill=\"#FFFFFF\" points=\"251.68,152.86,231.4559,153.8535,235.6454,140.495,251.68,152.86\" style=\"stroke: #383838; stroke-width: 1.0;\"/><ellipse cx=\"226.6156\" cy=\"150.2394\" fill=\"#383838\" rx=\"2\" ry=\"2\" style=\"stroke: #383838; stroke-width: 1.0;\"/><ellipse cx=\"229.6081\" cy=\"140.6976\" fill=\"#383838\" rx=\"2\" ry=\"2\" style=\"stroke: #383838; stroke-width: 1.0;\"/></a><!--MD5=[2cfe899c895462254056921bfb67315f]\n",
       "link E13 to E11--><a href=\"psysml:fcf36e7c-2665-4a1d-8cf4-6fcc5b08ef04\" target=\"_top\" title=\"psysml:fcf36e7c-2665-4a1d-8cf4-6fcc5b08ef04\" xlink:actuate=\"onRequest\" xlink:href=\"psysml:fcf36e7c-2665-4a1d-8cf4-6fcc5b08ef04\" xlink:show=\"new\" xlink:title=\"psysml:fcf36e7c-2665-4a1d-8cf4-6fcc5b08ef04\" xlink:type=\"simple\"><path d=\"M151.03,96.73 C190.49,87.84 246.41,75.23 280.19,67.61 \" fill=\"none\" id=\"E13-&gt;E11\" style=\"stroke: #383838; stroke-width: 1.0; stroke-dasharray: 7.0,7.0;\"/><polygon fill=\"#383838\" points=\"285.42,66.43,275.7612,64.5045,280.5421,67.5282,277.5184,72.3091,285.42,66.43\" style=\"stroke: #383838; stroke-width: 1.0;\"/><text fill=\"#000000\" font-family=\"sans-serif\" font-size=\"13\" lengthAdjust=\"spacingAndGlyphs\" textLength=\"57\" x=\"186\" y=\"72.0669\">«satisfy»</text></a><!--MD5=[96818ae4ec470926decc8026a27e8e97]\n",
       "@startuml\r\n",
       "skinparam ranksep 10\r\n",
       "skinparam rectangle {\r\n",
       " backgroundColor<<block>> LightGreen\r\n",
       "}\r\n",
       "left to right direction\r\n",
       "skinparam monochrome true\r\n",
       "skinparam classbackgroundcolor white\r\n",
       "skinparam shadowing false\r\n",
       "skinparam wrapWidth 300\r\n",
       "hide circle\r\n",
       "\r\n",
       "package \"RequirementTest\" as E1  [[psysml:f822a5b9-f637-4bfc-9356-d45755be39c3 ]]  {\r\n",
       "def \"C\" as E2  <<(T,blue)constraint def>> [[psysml:55e0c843-cabd-4238-9430-5e5ddb37e322 ]] \r\n",
       "comp usage \"c: C\" as E3  <<(T,blue)constraint>> [[psysml:943270d7-f648-4f2b-99ed-798f0a01be75 ]] {\r\n",
       "}\r\n",
       "comp def \"R\" as E4  <<(T,blue)requirement def>> [[psysml:3547be1a-4b91-4a24-a66e-ac992d912d25 ]] {\r\n",
       "\r\n",
       "- -\r\n",
       "- - constraints - -\r\n",
       "<b>require</b> c\r\n",
       "<i>assume</i> c1: C\r\n",
       "}\r\n",
       "comp usage \"<s>noname</s>\" as E7  <<(T,blue)requirement>> [[psysml:5cc59123-afbd-4e9a-96fa-0bfa0b631260 ]] {\r\n",
       "}\r\n",
       "comp def \" [<b>1</b>] A\" as E8  <<(T,blue)requirement def>> [[psysml:49e593a4-f39b-4803-a2ce-02c26b916197 ]] {\r\n",
       "Text\r\n",
       "- -\r\n",
       "}\r\n",
       "comp def \"R1\" as E9  <<(T,blue)requirement def>> [[psysml:79fb73d3-867b-49b4-8196-8eb6e64f62f0 ]] {\r\n",
       "- - constraints - -\r\n",
       "<b>require</b> c1\\n//:>>RequirementTest::c// \r\n",
       "}\r\n",
       "rec usage \"p\" as E11  [[psysml:510a33c1-eff7-4e5e-90b4-a63ef5b72ae6 ]] {\r\n",
       "}\r\n",
       "rec usage \"q\" as E12  [[psysml:a6cd5ff6-20a0-4014-8266-5a2f114de57c ]] {\r\n",
       "comp usage \"r: R\" as E13  <<(T,blue)requirement>> [[psysml:50b94a4a-7c4d-4845-a3da-b360d2df1f8c ]] {\r\n",
       "}\r\n",
       "}\r\n",
       "E3 - -:|> E2 [[psysml:e8229714-231f-4f2a-9005-056b1e69efb5 ]] \r\n",
       "E4 *- - E7 [[psysml:eafce8af-10f9-4af7-9431-7513cc7d3347 ]] \r\n",
       "E4 +- - E8 [[psysml:a0130814-5dc8-48af-af1a-9e985463643e ]] \r\n",
       "E13 - -:|> E4 [[psysml:279d9c9b-21cb-4076-8967-339bf6a79b4c ]] \r\n",
       "E13 ..> E11 [[psysml:fcf36e7c-2665-4a1d-8cf4-6fcc5b08ef04 ]] : <<satisfy>>\r\n",
       "}\r\n",
       "@enduml\r\n",
       "\n",
       "PlantUML version 1.2020.13(Sat Jun 13 12:26:38 UTC 2020)\n",
       "(EPL source distribution)\n",
       "Java Runtime: OpenJDK Runtime Environment\n",
       "JVM: OpenJDK 64-Bit Server VM\n",
       "Default Encoding: UTF-8\n",
       "Language: en\n",
       "Country: null\n",
       "--></g></svg>"
      ]
     },
     "execution_count": 19,
     "metadata": {},
     "output_type": "execute_result"
    }
   ],
   "source": [
    "%viz --style=\"LR\" --view=\"Interconnection\" \"RequirementTest\""
   ]
  },
  {
   "cell_type": "code",
   "execution_count": 20,
   "id": "ff7d0e3b",
   "metadata": {
    "execution": {
     "iopub.execute_input": "2021-04-21T20:21:28.243318Z",
     "iopub.status.busy": "2021-04-21T20:21:28.242614Z",
     "iopub.status.idle": "2021-04-21T20:21:28.250587Z",
     "shell.execute_reply": "2021-04-21T20:21:28.250118Z"
    }
   },
   "outputs": [
    {
     "data": {
      "image/svg+xml": [
       "<?xml version=\"1.0\" encoding=\"UTF-8\" standalone=\"no\"?><svg xmlns=\"http://www.w3.org/2000/svg\" xmlns:xlink=\"http://www.w3.org/1999/xlink\" contentScriptType=\"application/ecmascript\" contentStyleType=\"text/css\" height=\"12px\" preserveAspectRatio=\"none\" style=\"width:12px;height:12px;\" version=\"1.1\" viewBox=\"0 0 12 12\" width=\"12px\" zoomAndPan=\"magnify\"><defs/><g><!--MD5=[7aeb398939421629f6affaa4a1a7b125]\n",
       "@startuml\r\n",
       "skinparam ranksep 8\r\n",
       "left to right direction\r\n",
       "skinparam monochrome true\r\n",
       "skinparam classbackgroundcolor white\r\n",
       "skinparam shadowing false\r\n",
       "skinparam wrapWidth 300\r\n",
       "hide circle\r\n",
       "\r\n",
       "@enduml\r\n",
       "\n",
       "PlantUML version 1.2020.13(Sat Jun 13 12:26:38 UTC 2020)\n",
       "(EPL source distribution)\n",
       "Java Runtime: OpenJDK Runtime Environment\n",
       "JVM: OpenJDK 64-Bit Server VM\n",
       "Default Encoding: UTF-8\n",
       "Language: en\n",
       "Country: null\n",
       "--></g></svg>"
      ]
     },
     "execution_count": 20,
     "metadata": {},
     "output_type": "execute_result"
    }
   ],
   "source": [
    "%viz --style=\"LR\" --view=\"Action\" \"RequirementTest\""
   ]
  },
  {
   "cell_type": "code",
   "execution_count": 21,
   "id": "386f47c3",
   "metadata": {
    "execution": {
     "iopub.execute_input": "2021-04-21T20:21:28.310133Z",
     "iopub.status.busy": "2021-04-21T20:21:28.300619Z",
     "iopub.status.idle": "2021-04-21T20:21:28.440386Z",
     "shell.execute_reply": "2021-04-21T20:21:28.437494Z"
    }
   },
   "outputs": [
    {
     "data": {
      "image/svg+xml": [
       "<?xml version=\"1.0\" encoding=\"UTF-8\" standalone=\"no\"?><svg xmlns=\"http://www.w3.org/2000/svg\" xmlns:xlink=\"http://www.w3.org/1999/xlink\" contentScriptType=\"application/ecmascript\" contentStyleType=\"text/css\" height=\"319px\" preserveAspectRatio=\"none\" style=\"width:794px;height:319px;\" version=\"1.1\" viewBox=\"0 0 794 319\" width=\"794px\" zoomAndPan=\"magnify\"><defs/><g><!--MD5=[fbc87193dbaf4d95561dea2c320d4a47]\n",
       "cluster E1--><a href=\"psysml:f822a5b9-f637-4bfc-9356-d45755be39c3\" target=\"_top\" title=\"psysml:f822a5b9-f637-4bfc-9356-d45755be39c3\" xlink:actuate=\"onRequest\" xlink:href=\"psysml:f822a5b9-f637-4bfc-9356-d45755be39c3\" xlink:show=\"new\" xlink:title=\"psysml:f822a5b9-f637-4bfc-9356-d45755be39c3\" xlink:type=\"simple\"><polygon fill=\"#FFFFFF\" points=\"16,6,158,6,165,28.2969,772,28.2969,772,307,16,307,16,6\" style=\"stroke: #000000; stroke-width: 1.5;\"/><line style=\"stroke: #000000; stroke-width: 1.5;\" x1=\"16\" x2=\"165\" y1=\"28.2969\" y2=\"28.2969\"/><text fill=\"#000000\" font-family=\"sans-serif\" font-size=\"14\" font-weight=\"bold\" lengthAdjust=\"spacingAndGlyphs\" textLength=\"136\" x=\"20\" y=\"20.9951\">RequirementTest</text></a><!--MD5=[b4997ac47864f28c2f74865a473b2911]\n",
       "class E2--><a href=\"psysml:55e0c843-cabd-4238-9430-5e5ddb37e322\" target=\"_top\" title=\"psysml:55e0c843-cabd-4238-9430-5e5ddb37e322\" xlink:actuate=\"onRequest\" xlink:href=\"psysml:55e0c843-cabd-4238-9430-5e5ddb37e322\" xlink:show=\"new\" xlink:title=\"psysml:55e0c843-cabd-4238-9430-5e5ddb37e322\" xlink:type=\"simple\"><rect fill=\"#FFFFFF\" height=\"45.9375\" id=\"E2\" style=\"stroke: #383838; stroke-width: 1.5;\" width=\"104\" x=\"238\" y=\"41\"/><text fill=\"#000000\" font-family=\"sans-serif\" font-size=\"12\" font-style=\"italic\" lengthAdjust=\"spacingAndGlyphs\" textLength=\"102\" x=\"239\" y=\"57.1387\">«constraint def»</text><text fill=\"#000000\" font-family=\"sans-serif\" font-size=\"12\" lengthAdjust=\"spacingAndGlyphs\" textLength=\"8\" x=\"286\" y=\"71.1074\">C</text><line style=\"stroke: #383838; stroke-width: 1.5;\" x1=\"239\" x2=\"341\" y1=\"78.9375\" y2=\"78.9375\"/></a><!--MD5=[09b614a08d8cba4a07c9adeb5e0fee81]\n",
       "class E3--><a href=\"psysml:943270d7-f648-4f2b-99ed-798f0a01be75\" target=\"_top\" title=\"psysml:943270d7-f648-4f2b-99ed-798f0a01be75\" xlink:actuate=\"onRequest\" xlink:href=\"psysml:943270d7-f648-4f2b-99ed-798f0a01be75\" xlink:show=\"new\" xlink:title=\"psysml:943270d7-f648-4f2b-99ed-798f0a01be75\" xlink:type=\"simple\"><rect fill=\"#FFFFFF\" height=\"45.9375\" id=\"E3\" rx=\"10\" ry=\"10\" style=\"stroke: #383838; stroke-width: 1.5;\" width=\"80\" x=\"64.5\" y=\"41\"/><text fill=\"#000000\" font-family=\"sans-serif\" font-size=\"12\" font-style=\"italic\" lengthAdjust=\"spacingAndGlyphs\" textLength=\"78\" x=\"65.5\" y=\"57.1387\">«constraint»</text><text fill=\"#000000\" font-family=\"sans-serif\" font-size=\"12\" lengthAdjust=\"spacingAndGlyphs\" textLength=\"23\" x=\"93\" y=\"71.1074\">c: C</text><line style=\"stroke: #383838; stroke-width: 1.5;\" x1=\"65.5\" x2=\"143.5\" y1=\"78.9375\" y2=\"78.9375\"/></a><!--MD5=[ebbe1d658d1005bcc118a6aa81145e00]\n",
       "class E4--><a href=\"psysml:3547be1a-4b91-4a24-a66e-ac992d912d25\" target=\"_top\" title=\"psysml:3547be1a-4b91-4a24-a66e-ac992d912d25\" xlink:actuate=\"onRequest\" xlink:href=\"psysml:3547be1a-4b91-4a24-a66e-ac992d912d25\" xlink:show=\"new\" xlink:title=\"psysml:3547be1a-4b91-4a24-a66e-ac992d912d25\" xlink:type=\"simple\"><rect fill=\"#FFFFFF\" height=\"109.1563\" id=\"E4\" style=\"stroke: #383838; stroke-width: 1.5;\" width=\"117\" x=\"461\" y=\"181.5\"/><text fill=\"#000000\" font-family=\"sans-serif\" font-size=\"12\" font-style=\"italic\" lengthAdjust=\"spacingAndGlyphs\" textLength=\"115\" x=\"462\" y=\"197.6387\">«requirement def»</text><text fill=\"#000000\" font-family=\"sans-serif\" font-size=\"12\" lengthAdjust=\"spacingAndGlyphs\" textLength=\"8\" x=\"515.5\" y=\"211.6074\">R</text><line style=\"stroke: #383838; stroke-width: 1.5;\" x1=\"462\" x2=\"577\" y1=\"219.4375\" y2=\"219.4375\"/><text fill=\"#000000\" font-family=\"sans-serif\" font-size=\"11\" lengthAdjust=\"spacingAndGlyphs\" textLength=\"0\" x=\"471\" y=\"233.6479\"/><line style=\"stroke: #383838; stroke-width: 1.0;\" x1=\"462\" x2=\"577\" y1=\"240.2422\" y2=\"240.2422\"/><text fill=\"#000000\" font-family=\"sans-serif\" font-size=\"11\" font-weight=\"bold\" lengthAdjust=\"spacingAndGlyphs\" textLength=\"46\" x=\"467\" y=\"271.2573\">require</text><text fill=\"#000000\" font-family=\"sans-serif\" font-size=\"11\" lengthAdjust=\"spacingAndGlyphs\" textLength=\"6\" x=\"517\" y=\"271.2573\">c</text><text fill=\"#000000\" font-family=\"sans-serif\" font-size=\"11\" font-style=\"italic\" lengthAdjust=\"spacingAndGlyphs\" textLength=\"46\" x=\"467\" y=\"284.062\">assume</text><text fill=\"#000000\" font-family=\"sans-serif\" font-size=\"11\" lengthAdjust=\"spacingAndGlyphs\" textLength=\"29\" x=\"517\" y=\"284.062\">c1: C</text><line style=\"stroke: #383838; stroke-width: 1.0;\" x1=\"462\" x2=\"487.5\" y1=\"254.6445\" y2=\"254.6445\"/><text fill=\"#000000\" font-family=\"sans-serif\" font-size=\"11\" lengthAdjust=\"spacingAndGlyphs\" textLength=\"64\" x=\"487.5\" y=\"257.9526\">constraints</text><line style=\"stroke: #383838; stroke-width: 1.0;\" x1=\"551.5\" x2=\"577\" y1=\"254.6445\" y2=\"254.6445\"/></a><!--MD5=[2156ba9850f5573cc1fc38a6a4b2f02b]\n",
       "class E7--><a href=\"psysml:5cc59123-afbd-4e9a-96fa-0bfa0b631260\" target=\"_top\" title=\"psysml:5cc59123-afbd-4e9a-96fa-0bfa0b631260\" xlink:actuate=\"onRequest\" xlink:href=\"psysml:5cc59123-afbd-4e9a-96fa-0bfa0b631260\" xlink:show=\"new\" xlink:title=\"psysml:5cc59123-afbd-4e9a-96fa-0bfa0b631260\" xlink:type=\"simple\"><rect fill=\"#FFFFFF\" height=\"45.9375\" id=\"E7\" rx=\"10\" ry=\"10\" style=\"stroke: #383838; stroke-width: 1.5;\" width=\"93\" x=\"651\" y=\"233\"/><text fill=\"#000000\" font-family=\"sans-serif\" font-size=\"12\" font-style=\"italic\" lengthAdjust=\"spacingAndGlyphs\" textLength=\"91\" x=\"652\" y=\"249.1387\">«requirement»</text><text fill=\"#000000\" font-family=\"sans-serif\" font-size=\"12\" lengthAdjust=\"spacingAndGlyphs\" text-decoration=\"line-through\" textLength=\"51\" x=\"672\" y=\"263.1074\">noname</text><line style=\"stroke: #383838; stroke-width: 1.5;\" x1=\"652\" x2=\"743\" y1=\"270.9375\" y2=\"270.9375\"/></a><!--MD5=[b9389687b975829384b498ac4b7476b2]\n",
       "class E8--><a href=\"psysml:49e593a4-f39b-4803-a2ce-02c26b916197\" target=\"_top\" title=\"psysml:49e593a4-f39b-4803-a2ce-02c26b916197\" xlink:actuate=\"onRequest\" xlink:href=\"psysml:49e593a4-f39b-4803-a2ce-02c26b916197\" xlink:show=\"new\" xlink:title=\"psysml:49e593a4-f39b-4803-a2ce-02c26b916197\" xlink:type=\"simple\"><rect fill=\"#FFFFFF\" height=\"66.7422\" id=\"E8\" style=\"stroke: #383838; stroke-width: 1.5;\" width=\"117\" x=\"639\" y=\"130.5\"/><text fill=\"#000000\" font-family=\"sans-serif\" font-size=\"12\" font-style=\"italic\" lengthAdjust=\"spacingAndGlyphs\" textLength=\"115\" x=\"640\" y=\"146.6387\">«requirement def»</text><text fill=\"#000000\" font-family=\"sans-serif\" font-size=\"12\" lengthAdjust=\"spacingAndGlyphs\" textLength=\"5\" x=\"684.5\" y=\"160.6074\">[</text><text fill=\"#000000\" font-family=\"sans-serif\" font-size=\"12\" font-weight=\"bold\" lengthAdjust=\"spacingAndGlyphs\" textLength=\"8\" x=\"689.5\" y=\"160.6074\">1</text><text fill=\"#000000\" font-family=\"sans-serif\" font-size=\"12\" lengthAdjust=\"spacingAndGlyphs\" textLength=\"17\" x=\"697.5\" y=\"160.6074\">] A</text><line style=\"stroke: #383838; stroke-width: 1.5;\" x1=\"640\" x2=\"755\" y1=\"168.4375\" y2=\"168.4375\"/><text fill=\"#000000\" font-family=\"sans-serif\" font-size=\"11\" lengthAdjust=\"spacingAndGlyphs\" textLength=\"24\" x=\"645\" y=\"182.6479\">Text</text><line style=\"stroke: #383838; stroke-width: 1.0;\" x1=\"640\" x2=\"755\" y1=\"189.2422\" y2=\"189.2422\"/></a><!--MD5=[fd4143e9d270a159db93a4ea2a975926]\n",
       "class E9--><a href=\"psysml:79fb73d3-867b-49b4-8196-8eb6e64f62f0\" target=\"_top\" title=\"psysml:79fb73d3-867b-49b4-8196-8eb6e64f62f0\" xlink:actuate=\"onRequest\" xlink:href=\"psysml:79fb73d3-867b-49b4-8196-8eb6e64f62f0\" xlink:show=\"new\" xlink:title=\"psysml:79fb73d3-867b-49b4-8196-8eb6e64f62f0\" xlink:type=\"simple\"><rect fill=\"#FFFFFF\" height=\"88.3516\" id=\"E9\" style=\"stroke: #383838; stroke-width: 1.5;\" width=\"145\" x=\"32\" y=\"122\"/><text fill=\"#000000\" font-family=\"sans-serif\" font-size=\"12\" font-style=\"italic\" lengthAdjust=\"spacingAndGlyphs\" textLength=\"115\" x=\"47\" y=\"138.1387\">«requirement def»</text><text fill=\"#000000\" font-family=\"sans-serif\" font-size=\"12\" lengthAdjust=\"spacingAndGlyphs\" textLength=\"16\" x=\"96.5\" y=\"152.1074\">R1</text><line style=\"stroke: #383838; stroke-width: 1.5;\" x1=\"33\" x2=\"176\" y1=\"159.9375\" y2=\"159.9375\"/><text fill=\"#000000\" font-family=\"sans-serif\" font-size=\"11\" font-weight=\"bold\" lengthAdjust=\"spacingAndGlyphs\" textLength=\"46\" x=\"38\" y=\"190.9526\">require</text><text fill=\"#000000\" font-family=\"sans-serif\" font-size=\"11\" lengthAdjust=\"spacingAndGlyphs\" textLength=\"13\" x=\"88\" y=\"190.9526\">c1</text><text fill=\"#000000\" font-family=\"sans-serif\" font-size=\"11\" font-style=\"italic\" lengthAdjust=\"spacingAndGlyphs\" textLength=\"133\" x=\"38\" y=\"203.7573\">:&gt;&gt;RequirementTest::c</text><line style=\"stroke: #383838; stroke-width: 1.0;\" x1=\"33\" x2=\"72.5\" y1=\"174.3398\" y2=\"174.3398\"/><text fill=\"#000000\" font-family=\"sans-serif\" font-size=\"11\" lengthAdjust=\"spacingAndGlyphs\" textLength=\"64\" x=\"72.5\" y=\"177.6479\">constraints</text><line style=\"stroke: #383838; stroke-width: 1.0;\" x1=\"136.5\" x2=\"176\" y1=\"174.3398\" y2=\"174.3398\"/></a><!--MD5=[1dd1bfd58a279cf63c5f349dbc8fc6a1]\n",
       "class E11--><a href=\"psysml:510a33c1-eff7-4e5e-90b4-a63ef5b72ae6\" target=\"_top\" title=\"psysml:510a33c1-eff7-4e5e-90b4-a63ef5b72ae6\" xlink:actuate=\"onRequest\" xlink:href=\"psysml:510a33c1-eff7-4e5e-90b4-a63ef5b72ae6\" xlink:show=\"new\" xlink:title=\"psysml:510a33c1-eff7-4e5e-90b4-a63ef5b72ae6\" xlink:type=\"simple\"><rect fill=\"#FFFFFF\" height=\"45.9375\" id=\"E11\" rx=\"10\" ry=\"10\" style=\"stroke: #383838; stroke-width: 1.5;\" width=\"42\" x=\"498.5\" y=\"100\"/><text fill=\"#000000\" font-family=\"sans-serif\" font-size=\"12\" font-style=\"italic\" lengthAdjust=\"spacingAndGlyphs\" textLength=\"40\" x=\"499.5\" y=\"116.1387\">«part»</text><text fill=\"#000000\" font-family=\"sans-serif\" font-size=\"12\" lengthAdjust=\"spacingAndGlyphs\" textLength=\"8\" x=\"515.5\" y=\"130.1074\">p</text><line style=\"stroke: #383838; stroke-width: 1.5;\" x1=\"499.5\" x2=\"539.5\" y1=\"137.9375\" y2=\"137.9375\"/></a><!--MD5=[49a0ec8f00dab7302a31f22d0f0fe584]\n",
       "class E12--><a href=\"psysml:a6cd5ff6-20a0-4014-8266-5a2f114de57c\" target=\"_top\" title=\"psysml:a6cd5ff6-20a0-4014-8266-5a2f114de57c\" xlink:actuate=\"onRequest\" xlink:href=\"psysml:a6cd5ff6-20a0-4014-8266-5a2f114de57c\" xlink:show=\"new\" xlink:title=\"psysml:a6cd5ff6-20a0-4014-8266-5a2f114de57c\" xlink:type=\"simple\"><rect fill=\"#FFFFFF\" height=\"45.9375\" id=\"E12\" rx=\"10\" ry=\"10\" style=\"stroke: #383838; stroke-width: 1.5;\" width=\"42\" x=\"83.5\" y=\"245\"/><text fill=\"#000000\" font-family=\"sans-serif\" font-size=\"12\" font-style=\"italic\" lengthAdjust=\"spacingAndGlyphs\" textLength=\"40\" x=\"84.5\" y=\"261.1387\">«part»</text><text fill=\"#000000\" font-family=\"sans-serif\" font-size=\"12\" lengthAdjust=\"spacingAndGlyphs\" textLength=\"8\" x=\"100.5\" y=\"275.1074\">q</text><line style=\"stroke: #383838; stroke-width: 1.5;\" x1=\"84.5\" x2=\"124.5\" y1=\"282.9375\" y2=\"282.9375\"/></a><!--MD5=[ee3c913d1a06f366521f9ef512b67efe]\n",
       "class E13--><a href=\"psysml:50b94a4a-7c4d-4845-a3da-b360d2df1f8c\" target=\"_top\" title=\"psysml:50b94a4a-7c4d-4845-a3da-b360d2df1f8c\" xlink:actuate=\"onRequest\" xlink:href=\"psysml:50b94a4a-7c4d-4845-a3da-b360d2df1f8c\" xlink:show=\"new\" xlink:title=\"psysml:50b94a4a-7c4d-4845-a3da-b360d2df1f8c\" xlink:type=\"simple\"><rect fill=\"#FFFFFF\" height=\"45.9375\" id=\"E13\" rx=\"10\" ry=\"10\" style=\"stroke: #383838; stroke-width: 1.5;\" width=\"93\" x=\"243.5\" y=\"213\"/><text fill=\"#000000\" font-family=\"sans-serif\" font-size=\"12\" font-style=\"italic\" lengthAdjust=\"spacingAndGlyphs\" textLength=\"91\" x=\"244.5\" y=\"229.1387\">«requirement»</text><text fill=\"#000000\" font-family=\"sans-serif\" font-size=\"12\" lengthAdjust=\"spacingAndGlyphs\" textLength=\"21\" x=\"279.5\" y=\"243.1074\">r: R</text><line style=\"stroke: #383838; stroke-width: 1.5;\" x1=\"244.5\" x2=\"335.5\" y1=\"250.9375\" y2=\"250.9375\"/></a><!--MD5=[05d275557350bfb9b23a4ef7222b4c39]\n",
       "link E3 to E2--><a href=\"psysml:e8229714-231f-4f2a-9005-056b1e69efb5\" target=\"_top\" title=\"psysml:e8229714-231f-4f2a-9005-056b1e69efb5\" xlink:actuate=\"onRequest\" xlink:href=\"psysml:e8229714-231f-4f2a-9005-056b1e69efb5\" xlink:show=\"new\" xlink:title=\"psysml:e8229714-231f-4f2a-9005-056b1e69efb5\" xlink:type=\"simple\"><path d=\"M144.87,64 C166.09,64 192.94,64 217.7,64 \" fill=\"none\" id=\"E3-&gt;E2\" style=\"stroke: #383838; stroke-width: 1.0;\"/><polygon fill=\"#FFFFFF\" points=\"237.84,64,218.84,71,218.84,57,237.84,64\" style=\"stroke: #383838; stroke-width: 1.0;\"/><ellipse cx=\"213.14\" cy=\"69\" fill=\"#383838\" rx=\"2\" ry=\"2\" style=\"stroke: #383838; stroke-width: 1.0;\"/><ellipse cx=\"213.14\" cy=\"59\" fill=\"#383838\" rx=\"2\" ry=\"2\" style=\"stroke: #383838; stroke-width: 1.0;\"/></a><!--MD5=[722ff4eef345aa10242dad44df0e98c7]\n",
       "reverse link E4 to E7--><a href=\"psysml:eafce8af-10f9-4af7-9431-7513cc7d3347\" target=\"_top\" title=\"psysml:eafce8af-10f9-4af7-9431-7513cc7d3347\" xlink:actuate=\"onRequest\" xlink:href=\"psysml:eafce8af-10f9-4af7-9431-7513cc7d3347\" xlink:show=\"new\" xlink:title=\"psysml:eafce8af-10f9-4af7-9431-7513cc7d3347\" xlink:type=\"simple\"><path d=\"M591.1,244.02 C611.19,246.31 632.54,248.73 650.74,250.8 \" fill=\"none\" id=\"E4&lt;-E7\" style=\"stroke: #383838; stroke-width: 1.0;\"/><polygon fill=\"#383838\" points=\"578.13,242.55,583.6386,247.2035,590.0529,243.9085,584.5443,239.2549,578.13,242.55\" style=\"stroke: #383838; stroke-width: 1.0;\"/></a><!--MD5=[c6fc7cdb0cabde04948078cf183fa696]\n",
       "reverse link E4 to E8--><a href=\"psysml:a0130814-5dc8-48af-af1a-9e985463643e\" target=\"_top\" title=\"psysml:a0130814-5dc8-48af-af1a-9e985463643e\" xlink:actuate=\"onRequest\" xlink:href=\"psysml:a0130814-5dc8-48af-af1a-9e985463643e\" xlink:show=\"new\" xlink:title=\"psysml:a0130814-5dc8-48af-af1a-9e985463643e\" xlink:type=\"simple\"><path d=\"M592.12,206.7 C607.63,200.36 623.84,193.72 638.74,187.63 \" fill=\"none\" id=\"E4&lt;-E8\" style=\"stroke: #383838; stroke-width: 1.0;\"/><ellipse cx=\"585.5323\" cy=\"209.3859\" fill=\"#FFFFFF\" rx=\"8\" ry=\"8\" style=\"stroke: #383838; stroke-width: 1.0;\"/><line style=\"stroke: #383838; stroke-width: 1.0;\" x1=\"592.9346\" x2=\"578.13\" y1=\"206.3518\" y2=\"212.42\"/><line style=\"stroke: #383838; stroke-width: 1.0;\" x1=\"588.5664\" x2=\"582.4982\" y1=\"216.7882\" y2=\"201.9836\"/></a><!--MD5=[062ed86c389d1a88f61c6380d0491e17]\n",
       "reverse link E12 to E13--><a href=\"psysml:044b978f-2385-4425-992f-2d75b645c055\" target=\"_top\" title=\"psysml:044b978f-2385-4425-992f-2d75b645c055\" xlink:actuate=\"onRequest\" xlink:href=\"psysml:044b978f-2385-4425-992f-2d75b645c055\" xlink:show=\"new\" xlink:title=\"psysml:044b978f-2385-4425-992f-2d75b645c055\" xlink:type=\"simple\"><path d=\"M139.02,262.15 C168.28,257.05 211.02,249.6 243.39,243.95 \" fill=\"none\" id=\"E12&lt;-E13\" style=\"stroke: #383838; stroke-width: 1.0;\"/><polygon fill=\"#383838\" points=\"125.84,264.45,132.4403,267.3544,137.6599,262.3789,131.0596,259.4745,125.84,264.45\" style=\"stroke: #383838; stroke-width: 1.0;\"/></a><!--MD5=[017847e01ff9a8bd19f247411074f987]\n",
       "link E13 to E4--><a href=\"psysml:279d9c9b-21cb-4076-8967-339bf6a79b4c\" target=\"_top\" title=\"psysml:279d9c9b-21cb-4076-8967-339bf6a79b4c\" xlink:actuate=\"onRequest\" xlink:href=\"psysml:279d9c9b-21cb-4076-8967-339bf6a79b4c\" xlink:show=\"new\" xlink:title=\"psysml:279d9c9b-21cb-4076-8967-339bf6a79b4c\" xlink:type=\"simple\"><path d=\"M336.76,236 C366.45,236 405.9,236 440.46,236 \" fill=\"none\" id=\"E13-&gt;E4\" style=\"stroke: #383838; stroke-width: 1.0;\"/><polygon fill=\"#FFFFFF\" points=\"460.67,236,441.67,243,441.67,229,460.67,236\" style=\"stroke: #383838; stroke-width: 1.0;\"/><ellipse cx=\"435.97\" cy=\"241\" fill=\"#383838\" rx=\"2\" ry=\"2\" style=\"stroke: #383838; stroke-width: 1.0;\"/><ellipse cx=\"435.97\" cy=\"231\" fill=\"#383838\" rx=\"2\" ry=\"2\" style=\"stroke: #383838; stroke-width: 1.0;\"/></a><!--MD5=[2cfe899c895462254056921bfb67315f]\n",
       "link E13 to E11--><a href=\"psysml:fcf36e7c-2665-4a1d-8cf4-6fcc5b08ef04\" target=\"_top\" title=\"psysml:fcf36e7c-2665-4a1d-8cf4-6fcc5b08ef04\" xlink:actuate=\"onRequest\" xlink:href=\"psysml:fcf36e7c-2665-4a1d-8cf4-6fcc5b08ef04\" xlink:show=\"new\" xlink:title=\"psysml:fcf36e7c-2665-4a1d-8cf4-6fcc5b08ef04\" xlink:type=\"simple\"><path d=\"M336.76,213.27 C383.95,189.83 455.79,154.15 493.46,135.44 \" fill=\"none\" id=\"E13-&gt;E11\" style=\"stroke: #383838; stroke-width: 1.0; stroke-dasharray: 7.0,7.0;\"/><polygon fill=\"#383838\" points=\"498.32,133.02,488.4797,133.4294,493.8393,135.2389,492.0299,140.5985,498.32,133.02\" style=\"stroke: #383838; stroke-width: 1.0;\"/><text fill=\"#000000\" font-family=\"sans-serif\" font-size=\"13\" lengthAdjust=\"spacingAndGlyphs\" textLength=\"57\" x=\"373\" y=\"166.0669\">«satisfy»</text></a><!--MD5=[b3f8fdf5b9ba21f4d43bc4e8566b2c72]\n",
       "@startuml\r\n",
       "left to right direction\r\n",
       "skinparam monochrome true\r\n",
       "skinparam classbackgroundcolor white\r\n",
       "skinparam shadowing false\r\n",
       "skinparam wrapWidth 300\r\n",
       "hide circle\r\n",
       "\r\n",
       "package \"RequirementTest\" as E1  [[psysml:f822a5b9-f637-4bfc-9356-d45755be39c3 ]]  {\r\n",
       "comp def \"C\" as E2  <<(T,blue)constraint def>> [[psysml:55e0c843-cabd-4238-9430-5e5ddb37e322 ]] {\r\n",
       "}\r\n",
       "comp usage \"c: C\" as E3  <<(T,blue)constraint>> [[psysml:943270d7-f648-4f2b-99ed-798f0a01be75 ]] {\r\n",
       "}\r\n",
       "comp def \"R\" as E4  <<(T,blue)requirement def>> [[psysml:3547be1a-4b91-4a24-a66e-ac992d912d25 ]] {\r\n",
       "\r\n",
       "- -\r\n",
       "- - constraints - -\r\n",
       "<b>require</b> c\r\n",
       "<i>assume</i> c1: C\r\n",
       "}\r\n",
       "comp usage \"<s>noname</s>\" as E7  <<(T,blue)requirement>> [[psysml:5cc59123-afbd-4e9a-96fa-0bfa0b631260 ]] {\r\n",
       "}\r\n",
       "comp def \" [<b>1</b>] A\" as E8  <<(T,blue)requirement def>> [[psysml:49e593a4-f39b-4803-a2ce-02c26b916197 ]] {\r\n",
       "Text\r\n",
       "- -\r\n",
       "}\r\n",
       "comp def \"R1\" as E9  <<(T,blue)requirement def>> [[psysml:79fb73d3-867b-49b4-8196-8eb6e64f62f0 ]] {\r\n",
       "- - constraints - -\r\n",
       "<b>require</b> c1\\n//:>>RequirementTest::c// \r\n",
       "}\r\n",
       "comp usage \"p\" as E11  <<(T,blue)part>> [[psysml:510a33c1-eff7-4e5e-90b4-a63ef5b72ae6 ]] {\r\n",
       "}\r\n",
       "comp usage \"q\" as E12  <<(T,blue)part>> [[psysml:a6cd5ff6-20a0-4014-8266-5a2f114de57c ]] {\r\n",
       "}\r\n",
       "comp usage \"r: R\" as E13  <<(T,blue)requirement>> [[psysml:50b94a4a-7c4d-4845-a3da-b360d2df1f8c ]] {\r\n",
       "}\r\n",
       "E3 - -:|> E2 [[psysml:e8229714-231f-4f2a-9005-056b1e69efb5 ]] \r\n",
       "E4 *- - E7 [[psysml:eafce8af-10f9-4af7-9431-7513cc7d3347 ]] \r\n",
       "E4 +- - E8 [[psysml:a0130814-5dc8-48af-af1a-9e985463643e ]] \r\n",
       "E12 *- - E13 [[psysml:044b978f-2385-4425-992f-2d75b645c055 ]] \r\n",
       "E13 - -:|> E4 [[psysml:279d9c9b-21cb-4076-8967-339bf6a79b4c ]] \r\n",
       "E13 ..> E11 [[psysml:fcf36e7c-2665-4a1d-8cf4-6fcc5b08ef04 ]] : <<satisfy>>\r\n",
       "}\r\n",
       "@enduml\r\n",
       "\n",
       "PlantUML version 1.2020.13(Sat Jun 13 12:26:38 UTC 2020)\n",
       "(EPL source distribution)\n",
       "Java Runtime: OpenJDK Runtime Environment\n",
       "JVM: OpenJDK 64-Bit Server VM\n",
       "Default Encoding: UTF-8\n",
       "Language: en\n",
       "Country: null\n",
       "--></g></svg>"
      ]
     },
     "execution_count": 21,
     "metadata": {},
     "output_type": "execute_result"
    }
   ],
   "source": [
    "%viz --style=\"LR\" --view=\"Sequence\" \"RequirementTest\""
   ]
  },
  {
   "cell_type": "code",
   "execution_count": 22,
   "id": "cf765daa",
   "metadata": {
    "execution": {
     "iopub.execute_input": "2021-04-21T20:21:28.489229Z",
     "iopub.status.busy": "2021-04-21T20:21:28.488577Z",
     "iopub.status.idle": "2021-04-21T20:21:28.600187Z",
     "shell.execute_reply": "2021-04-21T20:21:28.598702Z"
    }
   },
   "outputs": [
    {
     "data": {
      "image/svg+xml": [
       "<?xml version=\"1.0\" encoding=\"UTF-8\" standalone=\"no\"?><svg xmlns=\"http://www.w3.org/2000/svg\" xmlns:xlink=\"http://www.w3.org/1999/xlink\" contentScriptType=\"application/ecmascript\" contentStyleType=\"text/css\" height=\"319px\" preserveAspectRatio=\"none\" style=\"width:794px;height:319px;\" version=\"1.1\" viewBox=\"0 0 794 319\" width=\"794px\" zoomAndPan=\"magnify\"><defs/><g><!--MD5=[fbc87193dbaf4d95561dea2c320d4a47]\n",
       "cluster E1--><a href=\"psysml:f822a5b9-f637-4bfc-9356-d45755be39c3\" target=\"_top\" title=\"psysml:f822a5b9-f637-4bfc-9356-d45755be39c3\" xlink:actuate=\"onRequest\" xlink:href=\"psysml:f822a5b9-f637-4bfc-9356-d45755be39c3\" xlink:show=\"new\" xlink:title=\"psysml:f822a5b9-f637-4bfc-9356-d45755be39c3\" xlink:type=\"simple\"><polygon fill=\"#FFFFFF\" points=\"16,6,158,6,165,28.2969,772,28.2969,772,307,16,307,16,6\" style=\"stroke: #000000; stroke-width: 1.5;\"/><line style=\"stroke: #000000; stroke-width: 1.5;\" x1=\"16\" x2=\"165\" y1=\"28.2969\" y2=\"28.2969\"/><text fill=\"#000000\" font-family=\"sans-serif\" font-size=\"14\" font-weight=\"bold\" lengthAdjust=\"spacingAndGlyphs\" textLength=\"136\" x=\"20\" y=\"20.9951\">RequirementTest</text></a><!--MD5=[b4997ac47864f28c2f74865a473b2911]\n",
       "class E2--><a href=\"psysml:55e0c843-cabd-4238-9430-5e5ddb37e322\" target=\"_top\" title=\"psysml:55e0c843-cabd-4238-9430-5e5ddb37e322\" xlink:actuate=\"onRequest\" xlink:href=\"psysml:55e0c843-cabd-4238-9430-5e5ddb37e322\" xlink:show=\"new\" xlink:title=\"psysml:55e0c843-cabd-4238-9430-5e5ddb37e322\" xlink:type=\"simple\"><rect fill=\"#FFFFFF\" height=\"45.9375\" id=\"E2\" style=\"stroke: #383838; stroke-width: 1.5;\" width=\"104\" x=\"238\" y=\"41\"/><text fill=\"#000000\" font-family=\"sans-serif\" font-size=\"12\" font-style=\"italic\" lengthAdjust=\"spacingAndGlyphs\" textLength=\"102\" x=\"239\" y=\"57.1387\">«constraint def»</text><text fill=\"#000000\" font-family=\"sans-serif\" font-size=\"12\" lengthAdjust=\"spacingAndGlyphs\" textLength=\"8\" x=\"286\" y=\"71.1074\">C</text><line style=\"stroke: #383838; stroke-width: 1.5;\" x1=\"239\" x2=\"341\" y1=\"78.9375\" y2=\"78.9375\"/></a><!--MD5=[09b614a08d8cba4a07c9adeb5e0fee81]\n",
       "class E3--><a href=\"psysml:943270d7-f648-4f2b-99ed-798f0a01be75\" target=\"_top\" title=\"psysml:943270d7-f648-4f2b-99ed-798f0a01be75\" xlink:actuate=\"onRequest\" xlink:href=\"psysml:943270d7-f648-4f2b-99ed-798f0a01be75\" xlink:show=\"new\" xlink:title=\"psysml:943270d7-f648-4f2b-99ed-798f0a01be75\" xlink:type=\"simple\"><rect fill=\"#FFFFFF\" height=\"45.9375\" id=\"E3\" rx=\"10\" ry=\"10\" style=\"stroke: #383838; stroke-width: 1.5;\" width=\"80\" x=\"64.5\" y=\"41\"/><text fill=\"#000000\" font-family=\"sans-serif\" font-size=\"12\" font-style=\"italic\" lengthAdjust=\"spacingAndGlyphs\" textLength=\"78\" x=\"65.5\" y=\"57.1387\">«constraint»</text><text fill=\"#000000\" font-family=\"sans-serif\" font-size=\"12\" lengthAdjust=\"spacingAndGlyphs\" textLength=\"23\" x=\"93\" y=\"71.1074\">c: C</text><line style=\"stroke: #383838; stroke-width: 1.5;\" x1=\"65.5\" x2=\"143.5\" y1=\"78.9375\" y2=\"78.9375\"/></a><!--MD5=[ebbe1d658d1005bcc118a6aa81145e00]\n",
       "class E4--><a href=\"psysml:3547be1a-4b91-4a24-a66e-ac992d912d25\" target=\"_top\" title=\"psysml:3547be1a-4b91-4a24-a66e-ac992d912d25\" xlink:actuate=\"onRequest\" xlink:href=\"psysml:3547be1a-4b91-4a24-a66e-ac992d912d25\" xlink:show=\"new\" xlink:title=\"psysml:3547be1a-4b91-4a24-a66e-ac992d912d25\" xlink:type=\"simple\"><rect fill=\"#FFFFFF\" height=\"109.1563\" id=\"E4\" style=\"stroke: #383838; stroke-width: 1.5;\" width=\"117\" x=\"461\" y=\"181.5\"/><text fill=\"#000000\" font-family=\"sans-serif\" font-size=\"12\" font-style=\"italic\" lengthAdjust=\"spacingAndGlyphs\" textLength=\"115\" x=\"462\" y=\"197.6387\">«requirement def»</text><text fill=\"#000000\" font-family=\"sans-serif\" font-size=\"12\" lengthAdjust=\"spacingAndGlyphs\" textLength=\"8\" x=\"515.5\" y=\"211.6074\">R</text><line style=\"stroke: #383838; stroke-width: 1.5;\" x1=\"462\" x2=\"577\" y1=\"219.4375\" y2=\"219.4375\"/><text fill=\"#000000\" font-family=\"sans-serif\" font-size=\"11\" lengthAdjust=\"spacingAndGlyphs\" textLength=\"0\" x=\"471\" y=\"233.6479\"/><line style=\"stroke: #383838; stroke-width: 1.0;\" x1=\"462\" x2=\"577\" y1=\"240.2422\" y2=\"240.2422\"/><text fill=\"#000000\" font-family=\"sans-serif\" font-size=\"11\" font-weight=\"bold\" lengthAdjust=\"spacingAndGlyphs\" textLength=\"46\" x=\"467\" y=\"271.2573\">require</text><text fill=\"#000000\" font-family=\"sans-serif\" font-size=\"11\" lengthAdjust=\"spacingAndGlyphs\" textLength=\"6\" x=\"517\" y=\"271.2573\">c</text><text fill=\"#000000\" font-family=\"sans-serif\" font-size=\"11\" font-style=\"italic\" lengthAdjust=\"spacingAndGlyphs\" textLength=\"46\" x=\"467\" y=\"284.062\">assume</text><text fill=\"#000000\" font-family=\"sans-serif\" font-size=\"11\" lengthAdjust=\"spacingAndGlyphs\" textLength=\"29\" x=\"517\" y=\"284.062\">c1: C</text><line style=\"stroke: #383838; stroke-width: 1.0;\" x1=\"462\" x2=\"487.5\" y1=\"254.6445\" y2=\"254.6445\"/><text fill=\"#000000\" font-family=\"sans-serif\" font-size=\"11\" lengthAdjust=\"spacingAndGlyphs\" textLength=\"64\" x=\"487.5\" y=\"257.9526\">constraints</text><line style=\"stroke: #383838; stroke-width: 1.0;\" x1=\"551.5\" x2=\"577\" y1=\"254.6445\" y2=\"254.6445\"/></a><!--MD5=[2156ba9850f5573cc1fc38a6a4b2f02b]\n",
       "class E7--><a href=\"psysml:5cc59123-afbd-4e9a-96fa-0bfa0b631260\" target=\"_top\" title=\"psysml:5cc59123-afbd-4e9a-96fa-0bfa0b631260\" xlink:actuate=\"onRequest\" xlink:href=\"psysml:5cc59123-afbd-4e9a-96fa-0bfa0b631260\" xlink:show=\"new\" xlink:title=\"psysml:5cc59123-afbd-4e9a-96fa-0bfa0b631260\" xlink:type=\"simple\"><rect fill=\"#FFFFFF\" height=\"45.9375\" id=\"E7\" rx=\"10\" ry=\"10\" style=\"stroke: #383838; stroke-width: 1.5;\" width=\"93\" x=\"651\" y=\"233\"/><text fill=\"#000000\" font-family=\"sans-serif\" font-size=\"12\" font-style=\"italic\" lengthAdjust=\"spacingAndGlyphs\" textLength=\"91\" x=\"652\" y=\"249.1387\">«requirement»</text><text fill=\"#000000\" font-family=\"sans-serif\" font-size=\"12\" lengthAdjust=\"spacingAndGlyphs\" text-decoration=\"line-through\" textLength=\"51\" x=\"672\" y=\"263.1074\">noname</text><line style=\"stroke: #383838; stroke-width: 1.5;\" x1=\"652\" x2=\"743\" y1=\"270.9375\" y2=\"270.9375\"/></a><!--MD5=[b9389687b975829384b498ac4b7476b2]\n",
       "class E8--><a href=\"psysml:49e593a4-f39b-4803-a2ce-02c26b916197\" target=\"_top\" title=\"psysml:49e593a4-f39b-4803-a2ce-02c26b916197\" xlink:actuate=\"onRequest\" xlink:href=\"psysml:49e593a4-f39b-4803-a2ce-02c26b916197\" xlink:show=\"new\" xlink:title=\"psysml:49e593a4-f39b-4803-a2ce-02c26b916197\" xlink:type=\"simple\"><rect fill=\"#FFFFFF\" height=\"66.7422\" id=\"E8\" style=\"stroke: #383838; stroke-width: 1.5;\" width=\"117\" x=\"639\" y=\"130.5\"/><text fill=\"#000000\" font-family=\"sans-serif\" font-size=\"12\" font-style=\"italic\" lengthAdjust=\"spacingAndGlyphs\" textLength=\"115\" x=\"640\" y=\"146.6387\">«requirement def»</text><text fill=\"#000000\" font-family=\"sans-serif\" font-size=\"12\" lengthAdjust=\"spacingAndGlyphs\" textLength=\"5\" x=\"684.5\" y=\"160.6074\">[</text><text fill=\"#000000\" font-family=\"sans-serif\" font-size=\"12\" font-weight=\"bold\" lengthAdjust=\"spacingAndGlyphs\" textLength=\"8\" x=\"689.5\" y=\"160.6074\">1</text><text fill=\"#000000\" font-family=\"sans-serif\" font-size=\"12\" lengthAdjust=\"spacingAndGlyphs\" textLength=\"17\" x=\"697.5\" y=\"160.6074\">] A</text><line style=\"stroke: #383838; stroke-width: 1.5;\" x1=\"640\" x2=\"755\" y1=\"168.4375\" y2=\"168.4375\"/><text fill=\"#000000\" font-family=\"sans-serif\" font-size=\"11\" lengthAdjust=\"spacingAndGlyphs\" textLength=\"24\" x=\"645\" y=\"182.6479\">Text</text><line style=\"stroke: #383838; stroke-width: 1.0;\" x1=\"640\" x2=\"755\" y1=\"189.2422\" y2=\"189.2422\"/></a><!--MD5=[fd4143e9d270a159db93a4ea2a975926]\n",
       "class E9--><a href=\"psysml:79fb73d3-867b-49b4-8196-8eb6e64f62f0\" target=\"_top\" title=\"psysml:79fb73d3-867b-49b4-8196-8eb6e64f62f0\" xlink:actuate=\"onRequest\" xlink:href=\"psysml:79fb73d3-867b-49b4-8196-8eb6e64f62f0\" xlink:show=\"new\" xlink:title=\"psysml:79fb73d3-867b-49b4-8196-8eb6e64f62f0\" xlink:type=\"simple\"><rect fill=\"#FFFFFF\" height=\"88.3516\" id=\"E9\" style=\"stroke: #383838; stroke-width: 1.5;\" width=\"145\" x=\"32\" y=\"122\"/><text fill=\"#000000\" font-family=\"sans-serif\" font-size=\"12\" font-style=\"italic\" lengthAdjust=\"spacingAndGlyphs\" textLength=\"115\" x=\"47\" y=\"138.1387\">«requirement def»</text><text fill=\"#000000\" font-family=\"sans-serif\" font-size=\"12\" lengthAdjust=\"spacingAndGlyphs\" textLength=\"16\" x=\"96.5\" y=\"152.1074\">R1</text><line style=\"stroke: #383838; stroke-width: 1.5;\" x1=\"33\" x2=\"176\" y1=\"159.9375\" y2=\"159.9375\"/><text fill=\"#000000\" font-family=\"sans-serif\" font-size=\"11\" font-weight=\"bold\" lengthAdjust=\"spacingAndGlyphs\" textLength=\"46\" x=\"38\" y=\"190.9526\">require</text><text fill=\"#000000\" font-family=\"sans-serif\" font-size=\"11\" lengthAdjust=\"spacingAndGlyphs\" textLength=\"13\" x=\"88\" y=\"190.9526\">c1</text><text fill=\"#000000\" font-family=\"sans-serif\" font-size=\"11\" font-style=\"italic\" lengthAdjust=\"spacingAndGlyphs\" textLength=\"133\" x=\"38\" y=\"203.7573\">:&gt;&gt;RequirementTest::c</text><line style=\"stroke: #383838; stroke-width: 1.0;\" x1=\"33\" x2=\"72.5\" y1=\"174.3398\" y2=\"174.3398\"/><text fill=\"#000000\" font-family=\"sans-serif\" font-size=\"11\" lengthAdjust=\"spacingAndGlyphs\" textLength=\"64\" x=\"72.5\" y=\"177.6479\">constraints</text><line style=\"stroke: #383838; stroke-width: 1.0;\" x1=\"136.5\" x2=\"176\" y1=\"174.3398\" y2=\"174.3398\"/></a><!--MD5=[1dd1bfd58a279cf63c5f349dbc8fc6a1]\n",
       "class E11--><a href=\"psysml:510a33c1-eff7-4e5e-90b4-a63ef5b72ae6\" target=\"_top\" title=\"psysml:510a33c1-eff7-4e5e-90b4-a63ef5b72ae6\" xlink:actuate=\"onRequest\" xlink:href=\"psysml:510a33c1-eff7-4e5e-90b4-a63ef5b72ae6\" xlink:show=\"new\" xlink:title=\"psysml:510a33c1-eff7-4e5e-90b4-a63ef5b72ae6\" xlink:type=\"simple\"><rect fill=\"#FFFFFF\" height=\"45.9375\" id=\"E11\" rx=\"10\" ry=\"10\" style=\"stroke: #383838; stroke-width: 1.5;\" width=\"42\" x=\"498.5\" y=\"100\"/><text fill=\"#000000\" font-family=\"sans-serif\" font-size=\"12\" font-style=\"italic\" lengthAdjust=\"spacingAndGlyphs\" textLength=\"40\" x=\"499.5\" y=\"116.1387\">«part»</text><text fill=\"#000000\" font-family=\"sans-serif\" font-size=\"12\" lengthAdjust=\"spacingAndGlyphs\" textLength=\"8\" x=\"515.5\" y=\"130.1074\">p</text><line style=\"stroke: #383838; stroke-width: 1.5;\" x1=\"499.5\" x2=\"539.5\" y1=\"137.9375\" y2=\"137.9375\"/></a><!--MD5=[49a0ec8f00dab7302a31f22d0f0fe584]\n",
       "class E12--><a href=\"psysml:a6cd5ff6-20a0-4014-8266-5a2f114de57c\" target=\"_top\" title=\"psysml:a6cd5ff6-20a0-4014-8266-5a2f114de57c\" xlink:actuate=\"onRequest\" xlink:href=\"psysml:a6cd5ff6-20a0-4014-8266-5a2f114de57c\" xlink:show=\"new\" xlink:title=\"psysml:a6cd5ff6-20a0-4014-8266-5a2f114de57c\" xlink:type=\"simple\"><rect fill=\"#FFFFFF\" height=\"45.9375\" id=\"E12\" rx=\"10\" ry=\"10\" style=\"stroke: #383838; stroke-width: 1.5;\" width=\"42\" x=\"83.5\" y=\"245\"/><text fill=\"#000000\" font-family=\"sans-serif\" font-size=\"12\" font-style=\"italic\" lengthAdjust=\"spacingAndGlyphs\" textLength=\"40\" x=\"84.5\" y=\"261.1387\">«part»</text><text fill=\"#000000\" font-family=\"sans-serif\" font-size=\"12\" lengthAdjust=\"spacingAndGlyphs\" textLength=\"8\" x=\"100.5\" y=\"275.1074\">q</text><line style=\"stroke: #383838; stroke-width: 1.5;\" x1=\"84.5\" x2=\"124.5\" y1=\"282.9375\" y2=\"282.9375\"/></a><!--MD5=[ee3c913d1a06f366521f9ef512b67efe]\n",
       "class E13--><a href=\"psysml:50b94a4a-7c4d-4845-a3da-b360d2df1f8c\" target=\"_top\" title=\"psysml:50b94a4a-7c4d-4845-a3da-b360d2df1f8c\" xlink:actuate=\"onRequest\" xlink:href=\"psysml:50b94a4a-7c4d-4845-a3da-b360d2df1f8c\" xlink:show=\"new\" xlink:title=\"psysml:50b94a4a-7c4d-4845-a3da-b360d2df1f8c\" xlink:type=\"simple\"><rect fill=\"#FFFFFF\" height=\"45.9375\" id=\"E13\" rx=\"10\" ry=\"10\" style=\"stroke: #383838; stroke-width: 1.5;\" width=\"93\" x=\"243.5\" y=\"213\"/><text fill=\"#000000\" font-family=\"sans-serif\" font-size=\"12\" font-style=\"italic\" lengthAdjust=\"spacingAndGlyphs\" textLength=\"91\" x=\"244.5\" y=\"229.1387\">«requirement»</text><text fill=\"#000000\" font-family=\"sans-serif\" font-size=\"12\" lengthAdjust=\"spacingAndGlyphs\" textLength=\"21\" x=\"279.5\" y=\"243.1074\">r: R</text><line style=\"stroke: #383838; stroke-width: 1.5;\" x1=\"244.5\" x2=\"335.5\" y1=\"250.9375\" y2=\"250.9375\"/></a><!--MD5=[05d275557350bfb9b23a4ef7222b4c39]\n",
       "link E3 to E2--><a href=\"psysml:e8229714-231f-4f2a-9005-056b1e69efb5\" target=\"_top\" title=\"psysml:e8229714-231f-4f2a-9005-056b1e69efb5\" xlink:actuate=\"onRequest\" xlink:href=\"psysml:e8229714-231f-4f2a-9005-056b1e69efb5\" xlink:show=\"new\" xlink:title=\"psysml:e8229714-231f-4f2a-9005-056b1e69efb5\" xlink:type=\"simple\"><path d=\"M144.87,64 C166.09,64 192.94,64 217.7,64 \" fill=\"none\" id=\"E3-&gt;E2\" style=\"stroke: #383838; stroke-width: 1.0;\"/><polygon fill=\"#FFFFFF\" points=\"237.84,64,218.84,71,218.84,57,237.84,64\" style=\"stroke: #383838; stroke-width: 1.0;\"/><ellipse cx=\"213.14\" cy=\"69\" fill=\"#383838\" rx=\"2\" ry=\"2\" style=\"stroke: #383838; stroke-width: 1.0;\"/><ellipse cx=\"213.14\" cy=\"59\" fill=\"#383838\" rx=\"2\" ry=\"2\" style=\"stroke: #383838; stroke-width: 1.0;\"/></a><!--MD5=[722ff4eef345aa10242dad44df0e98c7]\n",
       "reverse link E4 to E7--><a href=\"psysml:eafce8af-10f9-4af7-9431-7513cc7d3347\" target=\"_top\" title=\"psysml:eafce8af-10f9-4af7-9431-7513cc7d3347\" xlink:actuate=\"onRequest\" xlink:href=\"psysml:eafce8af-10f9-4af7-9431-7513cc7d3347\" xlink:show=\"new\" xlink:title=\"psysml:eafce8af-10f9-4af7-9431-7513cc7d3347\" xlink:type=\"simple\"><path d=\"M591.1,244.02 C611.19,246.31 632.54,248.73 650.74,250.8 \" fill=\"none\" id=\"E4&lt;-E7\" style=\"stroke: #383838; stroke-width: 1.0;\"/><polygon fill=\"#383838\" points=\"578.13,242.55,583.6386,247.2035,590.0529,243.9085,584.5443,239.2549,578.13,242.55\" style=\"stroke: #383838; stroke-width: 1.0;\"/></a><!--MD5=[c6fc7cdb0cabde04948078cf183fa696]\n",
       "reverse link E4 to E8--><a href=\"psysml:a0130814-5dc8-48af-af1a-9e985463643e\" target=\"_top\" title=\"psysml:a0130814-5dc8-48af-af1a-9e985463643e\" xlink:actuate=\"onRequest\" xlink:href=\"psysml:a0130814-5dc8-48af-af1a-9e985463643e\" xlink:show=\"new\" xlink:title=\"psysml:a0130814-5dc8-48af-af1a-9e985463643e\" xlink:type=\"simple\"><path d=\"M592.12,206.7 C607.63,200.36 623.84,193.72 638.74,187.63 \" fill=\"none\" id=\"E4&lt;-E8\" style=\"stroke: #383838; stroke-width: 1.0;\"/><ellipse cx=\"585.5323\" cy=\"209.3859\" fill=\"#FFFFFF\" rx=\"8\" ry=\"8\" style=\"stroke: #383838; stroke-width: 1.0;\"/><line style=\"stroke: #383838; stroke-width: 1.0;\" x1=\"592.9346\" x2=\"578.13\" y1=\"206.3518\" y2=\"212.42\"/><line style=\"stroke: #383838; stroke-width: 1.0;\" x1=\"588.5664\" x2=\"582.4982\" y1=\"216.7882\" y2=\"201.9836\"/></a><!--MD5=[062ed86c389d1a88f61c6380d0491e17]\n",
       "reverse link E12 to E13--><a href=\"psysml:044b978f-2385-4425-992f-2d75b645c055\" target=\"_top\" title=\"psysml:044b978f-2385-4425-992f-2d75b645c055\" xlink:actuate=\"onRequest\" xlink:href=\"psysml:044b978f-2385-4425-992f-2d75b645c055\" xlink:show=\"new\" xlink:title=\"psysml:044b978f-2385-4425-992f-2d75b645c055\" xlink:type=\"simple\"><path d=\"M139.02,262.15 C168.28,257.05 211.02,249.6 243.39,243.95 \" fill=\"none\" id=\"E12&lt;-E13\" style=\"stroke: #383838; stroke-width: 1.0;\"/><polygon fill=\"#383838\" points=\"125.84,264.45,132.4403,267.3544,137.6599,262.3789,131.0596,259.4745,125.84,264.45\" style=\"stroke: #383838; stroke-width: 1.0;\"/></a><!--MD5=[017847e01ff9a8bd19f247411074f987]\n",
       "link E13 to E4--><a href=\"psysml:279d9c9b-21cb-4076-8967-339bf6a79b4c\" target=\"_top\" title=\"psysml:279d9c9b-21cb-4076-8967-339bf6a79b4c\" xlink:actuate=\"onRequest\" xlink:href=\"psysml:279d9c9b-21cb-4076-8967-339bf6a79b4c\" xlink:show=\"new\" xlink:title=\"psysml:279d9c9b-21cb-4076-8967-339bf6a79b4c\" xlink:type=\"simple\"><path d=\"M336.76,236 C366.45,236 405.9,236 440.46,236 \" fill=\"none\" id=\"E13-&gt;E4\" style=\"stroke: #383838; stroke-width: 1.0;\"/><polygon fill=\"#FFFFFF\" points=\"460.67,236,441.67,243,441.67,229,460.67,236\" style=\"stroke: #383838; stroke-width: 1.0;\"/><ellipse cx=\"435.97\" cy=\"241\" fill=\"#383838\" rx=\"2\" ry=\"2\" style=\"stroke: #383838; stroke-width: 1.0;\"/><ellipse cx=\"435.97\" cy=\"231\" fill=\"#383838\" rx=\"2\" ry=\"2\" style=\"stroke: #383838; stroke-width: 1.0;\"/></a><!--MD5=[2cfe899c895462254056921bfb67315f]\n",
       "link E13 to E11--><a href=\"psysml:fcf36e7c-2665-4a1d-8cf4-6fcc5b08ef04\" target=\"_top\" title=\"psysml:fcf36e7c-2665-4a1d-8cf4-6fcc5b08ef04\" xlink:actuate=\"onRequest\" xlink:href=\"psysml:fcf36e7c-2665-4a1d-8cf4-6fcc5b08ef04\" xlink:show=\"new\" xlink:title=\"psysml:fcf36e7c-2665-4a1d-8cf4-6fcc5b08ef04\" xlink:type=\"simple\"><path d=\"M336.76,213.27 C383.95,189.83 455.79,154.15 493.46,135.44 \" fill=\"none\" id=\"E13-&gt;E11\" style=\"stroke: #383838; stroke-width: 1.0; stroke-dasharray: 7.0,7.0;\"/><polygon fill=\"#383838\" points=\"498.32,133.02,488.4797,133.4294,493.8393,135.2389,492.0299,140.5985,498.32,133.02\" style=\"stroke: #383838; stroke-width: 1.0;\"/><text fill=\"#000000\" font-family=\"sans-serif\" font-size=\"13\" lengthAdjust=\"spacingAndGlyphs\" textLength=\"57\" x=\"373\" y=\"166.0669\">«satisfy»</text></a><!--MD5=[b3f8fdf5b9ba21f4d43bc4e8566b2c72]\n",
       "@startuml\r\n",
       "left to right direction\r\n",
       "skinparam monochrome true\r\n",
       "skinparam classbackgroundcolor white\r\n",
       "skinparam shadowing false\r\n",
       "skinparam wrapWidth 300\r\n",
       "hide circle\r\n",
       "\r\n",
       "package \"RequirementTest\" as E1  [[psysml:f822a5b9-f637-4bfc-9356-d45755be39c3 ]]  {\r\n",
       "comp def \"C\" as E2  <<(T,blue)constraint def>> [[psysml:55e0c843-cabd-4238-9430-5e5ddb37e322 ]] {\r\n",
       "}\r\n",
       "comp usage \"c: C\" as E3  <<(T,blue)constraint>> [[psysml:943270d7-f648-4f2b-99ed-798f0a01be75 ]] {\r\n",
       "}\r\n",
       "comp def \"R\" as E4  <<(T,blue)requirement def>> [[psysml:3547be1a-4b91-4a24-a66e-ac992d912d25 ]] {\r\n",
       "\r\n",
       "- -\r\n",
       "- - constraints - -\r\n",
       "<b>require</b> c\r\n",
       "<i>assume</i> c1: C\r\n",
       "}\r\n",
       "comp usage \"<s>noname</s>\" as E7  <<(T,blue)requirement>> [[psysml:5cc59123-afbd-4e9a-96fa-0bfa0b631260 ]] {\r\n",
       "}\r\n",
       "comp def \" [<b>1</b>] A\" as E8  <<(T,blue)requirement def>> [[psysml:49e593a4-f39b-4803-a2ce-02c26b916197 ]] {\r\n",
       "Text\r\n",
       "- -\r\n",
       "}\r\n",
       "comp def \"R1\" as E9  <<(T,blue)requirement def>> [[psysml:79fb73d3-867b-49b4-8196-8eb6e64f62f0 ]] {\r\n",
       "- - constraints - -\r\n",
       "<b>require</b> c1\\n//:>>RequirementTest::c// \r\n",
       "}\r\n",
       "comp usage \"p\" as E11  <<(T,blue)part>> [[psysml:510a33c1-eff7-4e5e-90b4-a63ef5b72ae6 ]] {\r\n",
       "}\r\n",
       "comp usage \"q\" as E12  <<(T,blue)part>> [[psysml:a6cd5ff6-20a0-4014-8266-5a2f114de57c ]] {\r\n",
       "}\r\n",
       "comp usage \"r: R\" as E13  <<(T,blue)requirement>> [[psysml:50b94a4a-7c4d-4845-a3da-b360d2df1f8c ]] {\r\n",
       "}\r\n",
       "E3 - -:|> E2 [[psysml:e8229714-231f-4f2a-9005-056b1e69efb5 ]] \r\n",
       "E4 *- - E7 [[psysml:eafce8af-10f9-4af7-9431-7513cc7d3347 ]] \r\n",
       "E4 +- - E8 [[psysml:a0130814-5dc8-48af-af1a-9e985463643e ]] \r\n",
       "E12 *- - E13 [[psysml:044b978f-2385-4425-992f-2d75b645c055 ]] \r\n",
       "E13 - -:|> E4 [[psysml:279d9c9b-21cb-4076-8967-339bf6a79b4c ]] \r\n",
       "E13 ..> E11 [[psysml:fcf36e7c-2665-4a1d-8cf4-6fcc5b08ef04 ]] : <<satisfy>>\r\n",
       "}\r\n",
       "@enduml\r\n",
       "\n",
       "PlantUML version 1.2020.13(Sat Jun 13 12:26:38 UTC 2020)\n",
       "(EPL source distribution)\n",
       "Java Runtime: OpenJDK Runtime Environment\n",
       "JVM: OpenJDK 64-Bit Server VM\n",
       "Default Encoding: UTF-8\n",
       "Language: en\n",
       "Country: null\n",
       "--></g></svg>"
      ]
     },
     "execution_count": 22,
     "metadata": {},
     "output_type": "execute_result"
    }
   ],
   "source": [
    "%viz --style=\"LR\" --view=\"MIXED\" \"RequirementTest\""
   ]
  },
  {
   "cell_type": "code",
   "execution_count": 23,
   "id": "9b40c3ee",
   "metadata": {
    "execution": {
     "iopub.execute_input": "2021-04-21T20:21:28.649235Z",
     "iopub.status.busy": "2021-04-21T20:21:28.648401Z",
     "iopub.status.idle": "2021-04-21T20:21:28.842397Z",
     "shell.execute_reply": "2021-04-21T20:21:28.839687Z"
    }
   },
   "outputs": [
    {
     "data": {
      "image/svg+xml": [
       "<?xml version=\"1.0\" encoding=\"UTF-8\" standalone=\"no\"?><svg xmlns=\"http://www.w3.org/2000/svg\" xmlns:xlink=\"http://www.w3.org/1999/xlink\" contentScriptType=\"application/ecmascript\" contentStyleType=\"text/css\" height=\"566px\" preserveAspectRatio=\"none\" style=\"width:470px;height:566px;\" version=\"1.1\" viewBox=\"0 0 470 566\" width=\"470px\" zoomAndPan=\"magnify\"><defs><filter height=\"300%\" id=\"f14xrgj2e26dpb\" width=\"300%\" x=\"-1\" y=\"-1\"><feGaussianBlur result=\"blurOut\" stdDeviation=\"2.0\"/><feColorMatrix in=\"blurOut\" result=\"blurOut2\" type=\"matrix\" values=\"0 0 0 0 0 0 0 0 0 0 0 0 0 0 0 0 0 0 .4 0\"/><feOffset dx=\"4.0\" dy=\"4.0\" in=\"blurOut2\" result=\"blurOut3\"/><feBlend in=\"SourceGraphic\" in2=\"blurOut3\" mode=\"normal\"/></filter></defs><g><!--MD5=[fbc87193dbaf4d95561dea2c320d4a47]\n",
       "cluster E1--><a href=\"psysml:f822a5b9-f637-4bfc-9356-d45755be39c3\" target=\"_top\" title=\"psysml:f822a5b9-f637-4bfc-9356-d45755be39c3\" xlink:actuate=\"onRequest\" xlink:href=\"psysml:f822a5b9-f637-4bfc-9356-d45755be39c3\" xlink:show=\"new\" xlink:title=\"psysml:f822a5b9-f637-4bfc-9356-d45755be39c3\" xlink:type=\"simple\"><polygon fill=\"#FFFFFF\" filter=\"url(#f14xrgj2e26dpb)\" points=\"16,6,158,6,165,28.2969,448,28.2969,448,554,16,554,16,6\" style=\"stroke: #000000; stroke-width: 1.5;\"/><line style=\"stroke: #000000; stroke-width: 1.5;\" x1=\"16\" x2=\"165\" y1=\"28.2969\" y2=\"28.2969\"/><text fill=\"#000000\" font-family=\"sans-serif\" font-size=\"14\" font-weight=\"bold\" lengthAdjust=\"spacingAndGlyphs\" textLength=\"136\" x=\"20\" y=\"20.9951\">RequirementTest</text></a><!--MD5=[b4997ac47864f28c2f74865a473b2911]\n",
       "class E2--><a href=\"psysml:55e0c843-cabd-4238-9430-5e5ddb37e322\" target=\"_top\" title=\"psysml:55e0c843-cabd-4238-9430-5e5ddb37e322\" xlink:actuate=\"onRequest\" xlink:href=\"psysml:55e0c843-cabd-4238-9430-5e5ddb37e322\" xlink:show=\"new\" xlink:title=\"psysml:55e0c843-cabd-4238-9430-5e5ddb37e322\" xlink:type=\"simple\"><rect fill=\"#FEFECE\" filter=\"url(#f14xrgj2e26dpb)\" height=\"45.9375\" id=\"E2\" style=\"stroke: #A80036; stroke-width: 1.5;\" width=\"104\" x=\"328\" y=\"178\"/><text fill=\"#000000\" font-family=\"sans-serif\" font-size=\"12\" font-style=\"italic\" lengthAdjust=\"spacingAndGlyphs\" textLength=\"102\" x=\"329\" y=\"194.1387\">«constraint def»</text><text fill=\"#000000\" font-family=\"sans-serif\" font-size=\"12\" lengthAdjust=\"spacingAndGlyphs\" textLength=\"8\" x=\"376\" y=\"208.1074\">C</text><line style=\"stroke: #A80036; stroke-width: 1.5;\" x1=\"329\" x2=\"431\" y1=\"215.9375\" y2=\"215.9375\"/></a><!--MD5=[09b614a08d8cba4a07c9adeb5e0fee81]\n",
       "class E3--><a href=\"psysml:943270d7-f648-4f2b-99ed-798f0a01be75\" target=\"_top\" title=\"psysml:943270d7-f648-4f2b-99ed-798f0a01be75\" xlink:actuate=\"onRequest\" xlink:href=\"psysml:943270d7-f648-4f2b-99ed-798f0a01be75\" xlink:show=\"new\" xlink:title=\"psysml:943270d7-f648-4f2b-99ed-798f0a01be75\" xlink:type=\"simple\"><rect fill=\"#FEFECE\" filter=\"url(#f14xrgj2e26dpb)\" height=\"45.9375\" id=\"E3\" rx=\"10\" ry=\"10\" style=\"stroke: #A80036; stroke-width: 1.5;\" width=\"80\" x=\"352\" y=\"56\"/><text fill=\"#000000\" font-family=\"sans-serif\" font-size=\"12\" font-style=\"italic\" lengthAdjust=\"spacingAndGlyphs\" textLength=\"78\" x=\"353\" y=\"72.1387\">«constraint»</text><text fill=\"#000000\" font-family=\"sans-serif\" font-size=\"12\" lengthAdjust=\"spacingAndGlyphs\" textLength=\"23\" x=\"380.5\" y=\"86.1074\">c: C</text><line style=\"stroke: #A80036; stroke-width: 1.5;\" x1=\"353\" x2=\"431\" y1=\"93.9375\" y2=\"93.9375\"/></a><!--MD5=[ebbe1d658d1005bcc118a6aa81145e00]\n",
       "class E4--><a href=\"psysml:3547be1a-4b91-4a24-a66e-ac992d912d25\" target=\"_top\" title=\"psysml:3547be1a-4b91-4a24-a66e-ac992d912d25\" xlink:actuate=\"onRequest\" xlink:href=\"psysml:3547be1a-4b91-4a24-a66e-ac992d912d25\" xlink:show=\"new\" xlink:title=\"psysml:3547be1a-4b91-4a24-a66e-ac992d912d25\" xlink:type=\"simple\"><rect fill=\"#FEFECE\" filter=\"url(#f14xrgj2e26dpb)\" height=\"109.1563\" id=\"E4\" style=\"stroke: #A80036; stroke-width: 1.5;\" width=\"117\" x=\"32.5\" y=\"301\"/><text fill=\"#000000\" font-family=\"sans-serif\" font-size=\"12\" font-style=\"italic\" lengthAdjust=\"spacingAndGlyphs\" textLength=\"115\" x=\"33.5\" y=\"317.1387\">«requirement def»</text><text fill=\"#000000\" font-family=\"sans-serif\" font-size=\"12\" lengthAdjust=\"spacingAndGlyphs\" textLength=\"8\" x=\"87\" y=\"331.1074\">R</text><line style=\"stroke: #A80036; stroke-width: 1.5;\" x1=\"33.5\" x2=\"148.5\" y1=\"338.9375\" y2=\"338.9375\"/><text fill=\"#000000\" font-family=\"sans-serif\" font-size=\"11\" lengthAdjust=\"spacingAndGlyphs\" textLength=\"0\" x=\"42.5\" y=\"353.1479\"/><line style=\"stroke: #A80036; stroke-width: 1.0;\" x1=\"33.5\" x2=\"148.5\" y1=\"359.7422\" y2=\"359.7422\"/><text fill=\"#000000\" font-family=\"sans-serif\" font-size=\"11\" font-weight=\"bold\" lengthAdjust=\"spacingAndGlyphs\" textLength=\"46\" x=\"38.5\" y=\"390.7573\">require</text><text fill=\"#000000\" font-family=\"sans-serif\" font-size=\"11\" lengthAdjust=\"spacingAndGlyphs\" textLength=\"6\" x=\"88.5\" y=\"390.7573\">c</text><text fill=\"#000000\" font-family=\"sans-serif\" font-size=\"11\" font-style=\"italic\" lengthAdjust=\"spacingAndGlyphs\" textLength=\"46\" x=\"38.5\" y=\"403.562\">assume</text><text fill=\"#000000\" font-family=\"sans-serif\" font-size=\"11\" lengthAdjust=\"spacingAndGlyphs\" textLength=\"29\" x=\"88.5\" y=\"403.562\">c1: C</text><line style=\"stroke: #A80036; stroke-width: 1.0;\" x1=\"33.5\" x2=\"59\" y1=\"374.1445\" y2=\"374.1445\"/><text fill=\"#000000\" font-family=\"sans-serif\" font-size=\"11\" lengthAdjust=\"spacingAndGlyphs\" textLength=\"64\" x=\"59\" y=\"377.4526\">constraints</text><line style=\"stroke: #A80036; stroke-width: 1.0;\" x1=\"123\" x2=\"148.5\" y1=\"374.1445\" y2=\"374.1445\"/></a><!--MD5=[2156ba9850f5573cc1fc38a6a4b2f02b]\n",
       "class E7--><a href=\"psysml:5cc59123-afbd-4e9a-96fa-0bfa0b631260\" target=\"_top\" title=\"psysml:5cc59123-afbd-4e9a-96fa-0bfa0b631260\" xlink:actuate=\"onRequest\" xlink:href=\"psysml:5cc59123-afbd-4e9a-96fa-0bfa0b631260\" xlink:show=\"new\" xlink:title=\"psysml:5cc59123-afbd-4e9a-96fa-0bfa0b631260\" xlink:type=\"simple\"><rect fill=\"#FEFECE\" filter=\"url(#f14xrgj2e26dpb)\" height=\"45.9375\" id=\"E7\" rx=\"10\" ry=\"10\" style=\"stroke: #A80036; stroke-width: 1.5;\" width=\"93\" x=\"34.5\" y=\"481.5\"/><text fill=\"#000000\" font-family=\"sans-serif\" font-size=\"12\" font-style=\"italic\" lengthAdjust=\"spacingAndGlyphs\" textLength=\"91\" x=\"35.5\" y=\"497.6387\">«requirement»</text><text fill=\"#000000\" font-family=\"sans-serif\" font-size=\"12\" lengthAdjust=\"spacingAndGlyphs\" text-decoration=\"line-through\" textLength=\"51\" x=\"55.5\" y=\"511.6074\">noname</text><line style=\"stroke: #A80036; stroke-width: 1.5;\" x1=\"35.5\" x2=\"126.5\" y1=\"519.4375\" y2=\"519.4375\"/></a><!--MD5=[b9389687b975829384b498ac4b7476b2]\n",
       "class E8--><a href=\"psysml:49e593a4-f39b-4803-a2ce-02c26b916197\" target=\"_top\" title=\"psysml:49e593a4-f39b-4803-a2ce-02c26b916197\" xlink:actuate=\"onRequest\" xlink:href=\"psysml:49e593a4-f39b-4803-a2ce-02c26b916197\" xlink:show=\"new\" xlink:title=\"psysml:49e593a4-f39b-4803-a2ce-02c26b916197\" xlink:type=\"simple\"><rect fill=\"#FEFECE\" filter=\"url(#f14xrgj2e26dpb)\" height=\"66.7422\" id=\"E8\" style=\"stroke: #A80036; stroke-width: 1.5;\" width=\"117\" x=\"162.5\" y=\"471\"/><text fill=\"#000000\" font-family=\"sans-serif\" font-size=\"12\" font-style=\"italic\" lengthAdjust=\"spacingAndGlyphs\" textLength=\"115\" x=\"163.5\" y=\"487.1387\">«requirement def»</text><text fill=\"#000000\" font-family=\"sans-serif\" font-size=\"12\" lengthAdjust=\"spacingAndGlyphs\" textLength=\"5\" x=\"208\" y=\"501.1074\">[</text><text fill=\"#000000\" font-family=\"sans-serif\" font-size=\"12\" font-weight=\"bold\" lengthAdjust=\"spacingAndGlyphs\" textLength=\"8\" x=\"213\" y=\"501.1074\">1</text><text fill=\"#000000\" font-family=\"sans-serif\" font-size=\"12\" lengthAdjust=\"spacingAndGlyphs\" textLength=\"17\" x=\"221\" y=\"501.1074\">] A</text><line style=\"stroke: #A80036; stroke-width: 1.5;\" x1=\"163.5\" x2=\"278.5\" y1=\"508.9375\" y2=\"508.9375\"/><text fill=\"#000000\" font-family=\"sans-serif\" font-size=\"11\" lengthAdjust=\"spacingAndGlyphs\" textLength=\"24\" x=\"168.5\" y=\"523.1479\">Text</text><line style=\"stroke: #A80036; stroke-width: 1.0;\" x1=\"163.5\" x2=\"278.5\" y1=\"529.7422\" y2=\"529.7422\"/></a><!--MD5=[fd4143e9d270a159db93a4ea2a975926]\n",
       "class E9--><a href=\"psysml:79fb73d3-867b-49b4-8196-8eb6e64f62f0\" target=\"_top\" title=\"psysml:79fb73d3-867b-49b4-8196-8eb6e64f62f0\" xlink:actuate=\"onRequest\" xlink:href=\"psysml:79fb73d3-867b-49b4-8196-8eb6e64f62f0\" xlink:show=\"new\" xlink:title=\"psysml:79fb73d3-867b-49b4-8196-8eb6e64f62f0\" xlink:type=\"simple\"><rect fill=\"#FEFECE\" filter=\"url(#f14xrgj2e26dpb)\" height=\"76.4922\" id=\"E9\" style=\"stroke: #A80036; stroke-width: 1.5;\" width=\"207\" x=\"109.5\" y=\"41\"/><text fill=\"#000000\" font-family=\"sans-serif\" font-size=\"12\" font-style=\"italic\" lengthAdjust=\"spacingAndGlyphs\" textLength=\"115\" x=\"155.5\" y=\"57.1387\">«requirement def»</text><text fill=\"#000000\" font-family=\"sans-serif\" font-size=\"12\" lengthAdjust=\"spacingAndGlyphs\" textLength=\"16\" x=\"205\" y=\"71.1074\">R1</text><line style=\"stroke: #A80036; stroke-width: 1.5;\" x1=\"110.5\" x2=\"315.5\" y1=\"78.9375\" y2=\"78.9375\"/><text fill=\"#000000\" font-family=\"sans-serif\" font-size=\"11\" font-weight=\"bold\" lengthAdjust=\"spacingAndGlyphs\" textLength=\"46\" x=\"115.5\" y=\"110.8979\">require</text><text fill=\"#000000\" font-family=\"sans-serif\" font-size=\"11\" lengthAdjust=\"spacingAndGlyphs\" textLength=\"0\" x=\"165.5\" y=\"110.8979\"/><path d=\"M167.4167,100.6589 L167.4167,109.8255 L168.3333,109.8255 L168.3333,100.6589 M171.0833,100.6589 L171.0833,109.8255 L178.4167,105.2422 L171.0833,100.6589 L172,102.0339 L177.0417,105.2422 L172,108.4505 L172,102.0339 \" fill=\"#000000\" style=\"stroke: ; stroke-width: 0.0; stroke-dasharray: ;\"/><text fill=\"#000000\" font-family=\"sans-serif\" font-size=\"11\" lengthAdjust=\"spacingAndGlyphs\" textLength=\"13\" x=\"182.5\" y=\"110.8979\">c1</text><text fill=\"#000000\" font-family=\"sans-serif\" font-size=\"11\" lengthAdjust=\"spacingAndGlyphs\" text-decoration=\"line-through\" textLength=\"111\" x=\"199.5\" y=\"110.8979\">RequirementTest::c</text><line style=\"stroke: #A80036; stroke-width: 1.0;\" x1=\"110.5\" x2=\"181\" y1=\"93.3398\" y2=\"93.3398\"/><text fill=\"#000000\" font-family=\"sans-serif\" font-size=\"11\" lengthAdjust=\"spacingAndGlyphs\" textLength=\"64\" x=\"181\" y=\"96.6479\">constraints</text><line style=\"stroke: #A80036; stroke-width: 1.0;\" x1=\"245\" x2=\"315.5\" y1=\"93.3398\" y2=\"93.3398\"/></a><!--MD5=[1dd1bfd58a279cf63c5f349dbc8fc6a1]\n",
       "class E11--><a href=\"psysml:510a33c1-eff7-4e5e-90b4-a63ef5b72ae6\" target=\"_top\" title=\"psysml:510a33c1-eff7-4e5e-90b4-a63ef5b72ae6\" xlink:actuate=\"onRequest\" xlink:href=\"psysml:510a33c1-eff7-4e5e-90b4-a63ef5b72ae6\" xlink:show=\"new\" xlink:title=\"psysml:510a33c1-eff7-4e5e-90b4-a63ef5b72ae6\" xlink:type=\"simple\"><rect fill=\"#FEFECE\" filter=\"url(#f14xrgj2e26dpb)\" height=\"45.9375\" id=\"E11\" rx=\"10\" ry=\"10\" style=\"stroke: #A80036; stroke-width: 1.5;\" width=\"42\" x=\"185\" y=\"332.5\"/><text fill=\"#000000\" font-family=\"sans-serif\" font-size=\"12\" font-style=\"italic\" lengthAdjust=\"spacingAndGlyphs\" textLength=\"40\" x=\"186\" y=\"348.6387\">«part»</text><text fill=\"#000000\" font-family=\"sans-serif\" font-size=\"12\" lengthAdjust=\"spacingAndGlyphs\" textLength=\"8\" x=\"202\" y=\"362.6074\">p</text><line style=\"stroke: #A80036; stroke-width: 1.5;\" x1=\"186\" x2=\"226\" y1=\"370.4375\" y2=\"370.4375\"/></a><!--MD5=[49a0ec8f00dab7302a31f22d0f0fe584]\n",
       "class E12--><a href=\"psysml:a6cd5ff6-20a0-4014-8266-5a2f114de57c\" target=\"_top\" title=\"psysml:a6cd5ff6-20a0-4014-8266-5a2f114de57c\" xlink:actuate=\"onRequest\" xlink:href=\"psysml:a6cd5ff6-20a0-4014-8266-5a2f114de57c\" xlink:show=\"new\" xlink:title=\"psysml:a6cd5ff6-20a0-4014-8266-5a2f114de57c\" xlink:type=\"simple\"><rect fill=\"#FEFECE\" filter=\"url(#f14xrgj2e26dpb)\" height=\"45.9375\" id=\"E12\" rx=\"10\" ry=\"10\" style=\"stroke: #A80036; stroke-width: 1.5;\" width=\"42\" x=\"32\" y=\"56\"/><text fill=\"#000000\" font-family=\"sans-serif\" font-size=\"12\" font-style=\"italic\" lengthAdjust=\"spacingAndGlyphs\" textLength=\"40\" x=\"33\" y=\"72.1387\">«part»</text><text fill=\"#000000\" font-family=\"sans-serif\" font-size=\"12\" lengthAdjust=\"spacingAndGlyphs\" textLength=\"8\" x=\"49\" y=\"86.1074\">q</text><line style=\"stroke: #A80036; stroke-width: 1.5;\" x1=\"33\" x2=\"73\" y1=\"93.9375\" y2=\"93.9375\"/></a><!--MD5=[ee3c913d1a06f366521f9ef512b67efe]\n",
       "class E13--><a href=\"psysml:50b94a4a-7c4d-4845-a3da-b360d2df1f8c\" target=\"_top\" title=\"psysml:50b94a4a-7c4d-4845-a3da-b360d2df1f8c\" xlink:actuate=\"onRequest\" xlink:href=\"psysml:50b94a4a-7c4d-4845-a3da-b360d2df1f8c\" xlink:show=\"new\" xlink:title=\"psysml:50b94a4a-7c4d-4845-a3da-b360d2df1f8c\" xlink:type=\"simple\"><rect fill=\"#FEFECE\" filter=\"url(#f14xrgj2e26dpb)\" height=\"45.9375\" id=\"E13\" rx=\"10\" ry=\"10\" style=\"stroke: #A80036; stroke-width: 1.5;\" width=\"93\" x=\"44.5\" y=\"178\"/><text fill=\"#000000\" font-family=\"sans-serif\" font-size=\"12\" font-style=\"italic\" lengthAdjust=\"spacingAndGlyphs\" textLength=\"91\" x=\"45.5\" y=\"194.1387\">«requirement»</text><text fill=\"#000000\" font-family=\"sans-serif\" font-size=\"12\" lengthAdjust=\"spacingAndGlyphs\" textLength=\"21\" x=\"80.5\" y=\"208.1074\">r: R</text><line style=\"stroke: #A80036; stroke-width: 1.5;\" x1=\"45.5\" x2=\"136.5\" y1=\"215.9375\" y2=\"215.9375\"/></a><!--MD5=[05d275557350bfb9b23a4ef7222b4c39]\n",
       "link E3 to E2--><a href=\"psysml:e8229714-231f-4f2a-9005-056b1e69efb5\" target=\"_top\" title=\"psysml:e8229714-231f-4f2a-9005-056b1e69efb5\" xlink:actuate=\"onRequest\" xlink:href=\"psysml:e8229714-231f-4f2a-9005-056b1e69efb5\" xlink:show=\"new\" xlink:title=\"psysml:e8229714-231f-4f2a-9005-056b1e69efb5\" xlink:type=\"simple\"><path d=\"M389.8,102.01 C388.24,117.56 386.11,138.89 384.23,157.68 \" fill=\"none\" id=\"E3-&gt;E2\" style=\"stroke: #A80036; stroke-width: 1.0;\"/><polygon fill=\"#FFFFFF\" points=\"382.23,177.72,377.1511,158.1188,391.0819,159.5089,382.23,177.72\" style=\"stroke: #A80036; stroke-width: 1.0;\"/><ellipse cx=\"379.7072\" cy=\"152.6456\" fill=\"#A80036\" rx=\"2\" ry=\"2\" style=\"stroke: #A80036; stroke-width: 1.0;\"/><ellipse cx=\"389.6578\" cy=\"153.6385\" fill=\"#A80036\" rx=\"2\" ry=\"2\" style=\"stroke: #A80036; stroke-width: 1.0;\"/></a><!--MD5=[722ff4eef345aa10242dad44df0e98c7]\n",
       "reverse link E4 to E7--><a href=\"psysml:eafce8af-10f9-4af7-9431-7513cc7d3347\" target=\"_top\" title=\"psysml:eafce8af-10f9-4af7-9431-7513cc7d3347\" xlink:actuate=\"onRequest\" xlink:href=\"psysml:eafce8af-10f9-4af7-9431-7513cc7d3347\" xlink:show=\"new\" xlink:title=\"psysml:eafce8af-10f9-4af7-9431-7513cc7d3347\" xlink:type=\"simple\"><path d=\"M86.44,423.59 C85.02,444.46 83.55,466.02 82.5,481.48 \" fill=\"none\" id=\"E4&lt;-E7\" style=\"stroke: #A80036; stroke-width: 1.0;\"/><polygon fill=\"#A80036\" points=\"87.33,410.4,82.9306,416.1136,86.5125,422.3721,90.912,416.6586,87.33,410.4\" style=\"stroke: #A80036; stroke-width: 1.0;\"/></a><!--MD5=[c6fc7cdb0cabde04948078cf183fa696]\n",
       "reverse link E4 to E8--><a href=\"psysml:a0130814-5dc8-48af-af1a-9e985463643e\" target=\"_top\" title=\"psysml:a0130814-5dc8-48af-af1a-9e985463643e\" xlink:actuate=\"onRequest\" xlink:href=\"psysml:a0130814-5dc8-48af-af1a-9e985463643e\" xlink:show=\"new\" xlink:title=\"psysml:a0130814-5dc8-48af-af1a-9e985463643e\" xlink:type=\"simple\"><path d=\"M148.94,422.02 C163.95,438.99 179.47,456.53 192.24,470.98 \" fill=\"none\" id=\"E4&lt;-E8\" style=\"stroke: #A80036; stroke-width: 1.0;\"/><ellipse cx=\"143.9698\" cy=\"416.3927\" fill=\"#FFFFFF\" rx=\"8\" ry=\"8\" style=\"stroke: #A80036; stroke-width: 1.0;\"/><line style=\"stroke: #A80036; stroke-width: 1.0;\" x1=\"149.2695\" x2=\"138.67\" y1=\"422.3854\" y2=\"410.4\"/><line style=\"stroke: #A80036; stroke-width: 1.0;\" x1=\"137.9771\" x2=\"149.9625\" y1=\"421.6925\" y2=\"411.0929\"/></a><!--MD5=[062ed86c389d1a88f61c6380d0491e17]\n",
       "reverse link E12 to E13--><a href=\"psysml:044b978f-2385-4425-992f-2d75b645c055\" target=\"_top\" title=\"psysml:044b978f-2385-4425-992f-2d75b645c055\" xlink:actuate=\"onRequest\" xlink:href=\"psysml:044b978f-2385-4425-992f-2d75b645c055\" xlink:show=\"new\" xlink:title=\"psysml:044b978f-2385-4425-992f-2d75b645c055\" xlink:type=\"simple\"><path d=\"M63.94,114.55 C70.38,134.88 78.33,160 83.95,177.72 \" fill=\"none\" id=\"E12&lt;-E13\" style=\"stroke: #A80036; stroke-width: 1.0;\"/><polygon fill=\"#A80036\" points=\"59.97,102.01,57.9712,108.9386,63.5981,113.4484,65.5968,106.5198,59.97,102.01\" style=\"stroke: #A80036; stroke-width: 1.0;\"/></a><!--MD5=[017847e01ff9a8bd19f247411074f987]\n",
       "link E13 to E4--><a href=\"psysml:279d9c9b-21cb-4076-8967-339bf6a79b4c\" target=\"_top\" title=\"psysml:279d9c9b-21cb-4076-8967-339bf6a79b4c\" xlink:actuate=\"onRequest\" xlink:href=\"psysml:279d9c9b-21cb-4076-8967-339bf6a79b4c\" xlink:show=\"new\" xlink:title=\"psysml:279d9c9b-21cb-4076-8967-339bf6a79b4c\" xlink:type=\"simple\"><path d=\"M91,224.17 C91,239.17 91,259.91 91,280.44 \" fill=\"none\" id=\"E13-&gt;E4\" style=\"stroke: #A80036; stroke-width: 1.0;\"/><polygon fill=\"#FFFFFF\" points=\"91,300.68,84,281.68,98,281.68,91,300.68\" style=\"stroke: #A80036; stroke-width: 1.0;\"/><ellipse cx=\"86\" cy=\"275.98\" fill=\"#A80036\" rx=\"2\" ry=\"2\" style=\"stroke: #A80036; stroke-width: 1.0;\"/><ellipse cx=\"96\" cy=\"275.98\" fill=\"#A80036\" rx=\"2\" ry=\"2\" style=\"stroke: #A80036; stroke-width: 1.0;\"/></a><!--MD5=[2cfe899c895462254056921bfb67315f]\n",
       "link E13 to E11--><a href=\"psysml:fcf36e7c-2665-4a1d-8cf4-6fcc5b08ef04\" target=\"_top\" title=\"psysml:fcf36e7c-2665-4a1d-8cf4-6fcc5b08ef04\" xlink:actuate=\"onRequest\" xlink:href=\"psysml:fcf36e7c-2665-4a1d-8cf4-6fcc5b08ef04\" xlink:show=\"new\" xlink:title=\"psysml:fcf36e7c-2665-4a1d-8cf4-6fcc5b08ef04\" xlink:type=\"simple\"><path d=\"M108.36,224.29 C123.87,244.28 147.14,274.45 167,301 C173.57,309.78 180.66,319.44 186.97,328.12 \" fill=\"none\" id=\"E13-&gt;E11\" style=\"stroke: #A80036; stroke-width: 1.0; stroke-dasharray: 7.0,7.0;\"/><polygon fill=\"#A80036\" points=\"189.99,332.28,187.9274,322.6496,187.0474,328.2376,181.4594,327.3576,189.99,332.28\" style=\"stroke: #A80036; stroke-width: 1.0;\"/><text fill=\"#000000\" font-family=\"sans-serif\" font-size=\"13\" lengthAdjust=\"spacingAndGlyphs\" textLength=\"57\" x=\"145\" y=\"267.0669\">«satisfy»</text></a><!--MD5=[7dc8db304b6b1760f1c7e0a20cc0dcf0]\n",
       "@startuml\r\n",
       "skinparam wrapWidth 300\r\n",
       "hide circle\r\n",
       "\r\n",
       "package \"RequirementTest\" as E1  [[psysml:f822a5b9-f637-4bfc-9356-d45755be39c3 ]]  {\r\n",
       "comp def \"C\" as E2  <<(T,blue)constraint def>> [[psysml:55e0c843-cabd-4238-9430-5e5ddb37e322 ]] {\r\n",
       "}\r\n",
       "comp usage \"c: C\" as E3  <<(T,blue)constraint>> [[psysml:943270d7-f648-4f2b-99ed-798f0a01be75 ]] {\r\n",
       "}\r\n",
       "comp def \"R\" as E4  <<(T,blue)requirement def>> [[psysml:3547be1a-4b91-4a24-a66e-ac992d912d25 ]] {\r\n",
       "\r\n",
       "- -\r\n",
       "- - constraints - -\r\n",
       "<b>require</b> c\r\n",
       "<i>assume</i> c1: C\r\n",
       "}\r\n",
       "comp usage \"<s>noname</s>\" as E7  <<(T,blue)requirement>> [[psysml:5cc59123-afbd-4e9a-96fa-0bfa0b631260 ]] {\r\n",
       "}\r\n",
       "comp def \" [<b>1</b>] A\" as E8  <<(T,blue)requirement def>> [[psysml:49e593a4-f39b-4803-a2ce-02c26b916197 ]] {\r\n",
       "Text\r\n",
       "- -\r\n",
       "}\r\n",
       "comp def \"R1\" as E9  <<(T,blue)requirement def>> [[psysml:79fb73d3-867b-49b4-8196-8eb6e64f62f0 ]] {\r\n",
       "- - constraints - -\r\n",
       "<b>require</b> <&bar-trig> c1 <s>RequirementTest::c</s>\r\n",
       "}\r\n",
       "comp usage \"p\" as E11  <<(T,blue)part>> [[psysml:510a33c1-eff7-4e5e-90b4-a63ef5b72ae6 ]] {\r\n",
       "}\r\n",
       "comp usage \"q\" as E12  <<(T,blue)part>> [[psysml:a6cd5ff6-20a0-4014-8266-5a2f114de57c ]] {\r\n",
       "}\r\n",
       "comp usage \"r: R\" as E13  <<(T,blue)requirement>> [[psysml:50b94a4a-7c4d-4845-a3da-b360d2df1f8c ]] {\r\n",
       "}\r\n",
       "E3 - -:|> E2 [[psysml:e8229714-231f-4f2a-9005-056b1e69efb5 ]] \r\n",
       "E4 *- - E7 [[psysml:eafce8af-10f9-4af7-9431-7513cc7d3347 ]] \r\n",
       "E4 +- - E8 [[psysml:a0130814-5dc8-48af-af1a-9e985463643e ]] \r\n",
       "E12 *- - E13 [[psysml:044b978f-2385-4425-992f-2d75b645c055 ]] \r\n",
       "E13 - -:|> E4 [[psysml:279d9c9b-21cb-4076-8967-339bf6a79b4c ]] \r\n",
       "E13 ..> E11 [[psysml:fcf36e7c-2665-4a1d-8cf4-6fcc5b08ef04 ]] : <<satisfy>>\r\n",
       "}\r\n",
       "@enduml\r\n",
       "\n",
       "PlantUML version 1.2020.13(Sat Jun 13 12:26:38 UTC 2020)\n",
       "(EPL source distribution)\n",
       "Java Runtime: OpenJDK Runtime Environment\n",
       "JVM: OpenJDK 64-Bit Server VM\n",
       "Default Encoding: UTF-8\n",
       "Language: en\n",
       "Country: null\n",
       "--></g></svg>"
      ]
     },
     "execution_count": 23,
     "metadata": {},
     "output_type": "execute_result"
    }
   ],
   "source": [
    "%viz --style=\"STDCOLOR\" --view=\"Default\" \"RequirementTest\""
   ]
  },
  {
   "cell_type": "code",
   "execution_count": 24,
   "id": "ec22af0d",
   "metadata": {
    "execution": {
     "iopub.execute_input": "2021-04-21T20:21:28.893777Z",
     "iopub.status.busy": "2021-04-21T20:21:28.892969Z",
     "iopub.status.idle": "2021-04-21T20:21:29.021649Z",
     "shell.execute_reply": "2021-04-21T20:21:29.019334Z"
    }
   },
   "outputs": [
    {
     "data": {
      "image/svg+xml": [
       "<?xml version=\"1.0\" encoding=\"UTF-8\" standalone=\"no\"?><svg xmlns=\"http://www.w3.org/2000/svg\" xmlns:xlink=\"http://www.w3.org/1999/xlink\" contentScriptType=\"application/ecmascript\" contentStyleType=\"text/css\" height=\"566px\" preserveAspectRatio=\"none\" style=\"width:470px;height:566px;\" version=\"1.1\" viewBox=\"0 0 470 566\" width=\"470px\" zoomAndPan=\"magnify\"><defs><filter height=\"300%\" id=\"f14xrgj2e26dpb\" width=\"300%\" x=\"-1\" y=\"-1\"><feGaussianBlur result=\"blurOut\" stdDeviation=\"2.0\"/><feColorMatrix in=\"blurOut\" result=\"blurOut2\" type=\"matrix\" values=\"0 0 0 0 0 0 0 0 0 0 0 0 0 0 0 0 0 0 .4 0\"/><feOffset dx=\"4.0\" dy=\"4.0\" in=\"blurOut2\" result=\"blurOut3\"/><feBlend in=\"SourceGraphic\" in2=\"blurOut3\" mode=\"normal\"/></filter></defs><g><!--MD5=[fbc87193dbaf4d95561dea2c320d4a47]\n",
       "cluster E1--><a href=\"psysml:f822a5b9-f637-4bfc-9356-d45755be39c3\" target=\"_top\" title=\"psysml:f822a5b9-f637-4bfc-9356-d45755be39c3\" xlink:actuate=\"onRequest\" xlink:href=\"psysml:f822a5b9-f637-4bfc-9356-d45755be39c3\" xlink:show=\"new\" xlink:title=\"psysml:f822a5b9-f637-4bfc-9356-d45755be39c3\" xlink:type=\"simple\"><polygon fill=\"#FFFFFF\" filter=\"url(#f14xrgj2e26dpb)\" points=\"16,6,158,6,165,28.2969,448,28.2969,448,554,16,554,16,6\" style=\"stroke: #000000; stroke-width: 1.5;\"/><line style=\"stroke: #000000; stroke-width: 1.5;\" x1=\"16\" x2=\"165\" y1=\"28.2969\" y2=\"28.2969\"/><text fill=\"#000000\" font-family=\"sans-serif\" font-size=\"14\" font-weight=\"bold\" lengthAdjust=\"spacingAndGlyphs\" textLength=\"136\" x=\"20\" y=\"20.9951\">RequirementTest</text></a><!--MD5=[b4997ac47864f28c2f74865a473b2911]\n",
       "class E2--><a href=\"psysml:55e0c843-cabd-4238-9430-5e5ddb37e322\" target=\"_top\" title=\"psysml:55e0c843-cabd-4238-9430-5e5ddb37e322\" xlink:actuate=\"onRequest\" xlink:href=\"psysml:55e0c843-cabd-4238-9430-5e5ddb37e322\" xlink:show=\"new\" xlink:title=\"psysml:55e0c843-cabd-4238-9430-5e5ddb37e322\" xlink:type=\"simple\"><rect fill=\"#FEFECE\" filter=\"url(#f14xrgj2e26dpb)\" height=\"45.9375\" id=\"E2\" style=\"stroke: #A80036; stroke-width: 1.5;\" width=\"104\" x=\"328\" y=\"178\"/><text fill=\"#000000\" font-family=\"sans-serif\" font-size=\"12\" font-style=\"italic\" lengthAdjust=\"spacingAndGlyphs\" textLength=\"102\" x=\"329\" y=\"194.1387\">«constraint def»</text><text fill=\"#000000\" font-family=\"sans-serif\" font-size=\"12\" lengthAdjust=\"spacingAndGlyphs\" textLength=\"8\" x=\"376\" y=\"208.1074\">C</text><line style=\"stroke: #A80036; stroke-width: 1.5;\" x1=\"329\" x2=\"431\" y1=\"215.9375\" y2=\"215.9375\"/></a><!--MD5=[09b614a08d8cba4a07c9adeb5e0fee81]\n",
       "class E3--><a href=\"psysml:943270d7-f648-4f2b-99ed-798f0a01be75\" target=\"_top\" title=\"psysml:943270d7-f648-4f2b-99ed-798f0a01be75\" xlink:actuate=\"onRequest\" xlink:href=\"psysml:943270d7-f648-4f2b-99ed-798f0a01be75\" xlink:show=\"new\" xlink:title=\"psysml:943270d7-f648-4f2b-99ed-798f0a01be75\" xlink:type=\"simple\"><rect fill=\"#FEFECE\" filter=\"url(#f14xrgj2e26dpb)\" height=\"45.9375\" id=\"E3\" rx=\"10\" ry=\"10\" style=\"stroke: #A80036; stroke-width: 1.5;\" width=\"80\" x=\"352\" y=\"56\"/><text fill=\"#000000\" font-family=\"sans-serif\" font-size=\"12\" font-style=\"italic\" lengthAdjust=\"spacingAndGlyphs\" textLength=\"78\" x=\"353\" y=\"72.1387\">«constraint»</text><text fill=\"#000000\" font-family=\"sans-serif\" font-size=\"12\" lengthAdjust=\"spacingAndGlyphs\" textLength=\"23\" x=\"380.5\" y=\"86.1074\">c: C</text><line style=\"stroke: #A80036; stroke-width: 1.5;\" x1=\"353\" x2=\"431\" y1=\"93.9375\" y2=\"93.9375\"/></a><!--MD5=[ebbe1d658d1005bcc118a6aa81145e00]\n",
       "class E4--><a href=\"psysml:3547be1a-4b91-4a24-a66e-ac992d912d25\" target=\"_top\" title=\"psysml:3547be1a-4b91-4a24-a66e-ac992d912d25\" xlink:actuate=\"onRequest\" xlink:href=\"psysml:3547be1a-4b91-4a24-a66e-ac992d912d25\" xlink:show=\"new\" xlink:title=\"psysml:3547be1a-4b91-4a24-a66e-ac992d912d25\" xlink:type=\"simple\"><rect fill=\"#FEFECE\" filter=\"url(#f14xrgj2e26dpb)\" height=\"109.1563\" id=\"E4\" style=\"stroke: #A80036; stroke-width: 1.5;\" width=\"117\" x=\"32.5\" y=\"301\"/><text fill=\"#000000\" font-family=\"sans-serif\" font-size=\"12\" font-style=\"italic\" lengthAdjust=\"spacingAndGlyphs\" textLength=\"115\" x=\"33.5\" y=\"317.1387\">«requirement def»</text><text fill=\"#000000\" font-family=\"sans-serif\" font-size=\"12\" lengthAdjust=\"spacingAndGlyphs\" textLength=\"8\" x=\"87\" y=\"331.1074\">R</text><line style=\"stroke: #A80036; stroke-width: 1.5;\" x1=\"33.5\" x2=\"148.5\" y1=\"338.9375\" y2=\"338.9375\"/><text fill=\"#000000\" font-family=\"sans-serif\" font-size=\"11\" lengthAdjust=\"spacingAndGlyphs\" textLength=\"0\" x=\"42.5\" y=\"353.1479\"/><line style=\"stroke: #A80036; stroke-width: 1.0;\" x1=\"33.5\" x2=\"148.5\" y1=\"359.7422\" y2=\"359.7422\"/><text fill=\"#000000\" font-family=\"sans-serif\" font-size=\"11\" font-weight=\"bold\" lengthAdjust=\"spacingAndGlyphs\" textLength=\"46\" x=\"38.5\" y=\"390.7573\">require</text><text fill=\"#000000\" font-family=\"sans-serif\" font-size=\"11\" lengthAdjust=\"spacingAndGlyphs\" textLength=\"6\" x=\"88.5\" y=\"390.7573\">c</text><text fill=\"#000000\" font-family=\"sans-serif\" font-size=\"11\" font-style=\"italic\" lengthAdjust=\"spacingAndGlyphs\" textLength=\"46\" x=\"38.5\" y=\"403.562\">assume</text><text fill=\"#000000\" font-family=\"sans-serif\" font-size=\"11\" lengthAdjust=\"spacingAndGlyphs\" textLength=\"29\" x=\"88.5\" y=\"403.562\">c1: C</text><line style=\"stroke: #A80036; stroke-width: 1.0;\" x1=\"33.5\" x2=\"59\" y1=\"374.1445\" y2=\"374.1445\"/><text fill=\"#000000\" font-family=\"sans-serif\" font-size=\"11\" lengthAdjust=\"spacingAndGlyphs\" textLength=\"64\" x=\"59\" y=\"377.4526\">constraints</text><line style=\"stroke: #A80036; stroke-width: 1.0;\" x1=\"123\" x2=\"148.5\" y1=\"374.1445\" y2=\"374.1445\"/></a><!--MD5=[2156ba9850f5573cc1fc38a6a4b2f02b]\n",
       "class E7--><a href=\"psysml:5cc59123-afbd-4e9a-96fa-0bfa0b631260\" target=\"_top\" title=\"psysml:5cc59123-afbd-4e9a-96fa-0bfa0b631260\" xlink:actuate=\"onRequest\" xlink:href=\"psysml:5cc59123-afbd-4e9a-96fa-0bfa0b631260\" xlink:show=\"new\" xlink:title=\"psysml:5cc59123-afbd-4e9a-96fa-0bfa0b631260\" xlink:type=\"simple\"><rect fill=\"#FEFECE\" filter=\"url(#f14xrgj2e26dpb)\" height=\"45.9375\" id=\"E7\" rx=\"10\" ry=\"10\" style=\"stroke: #A80036; stroke-width: 1.5;\" width=\"93\" x=\"34.5\" y=\"481.5\"/><text fill=\"#000000\" font-family=\"sans-serif\" font-size=\"12\" font-style=\"italic\" lengthAdjust=\"spacingAndGlyphs\" textLength=\"91\" x=\"35.5\" y=\"497.6387\">«requirement»</text><text fill=\"#000000\" font-family=\"sans-serif\" font-size=\"12\" lengthAdjust=\"spacingAndGlyphs\" text-decoration=\"line-through\" textLength=\"51\" x=\"55.5\" y=\"511.6074\">noname</text><line style=\"stroke: #A80036; stroke-width: 1.5;\" x1=\"35.5\" x2=\"126.5\" y1=\"519.4375\" y2=\"519.4375\"/></a><!--MD5=[b9389687b975829384b498ac4b7476b2]\n",
       "class E8--><a href=\"psysml:49e593a4-f39b-4803-a2ce-02c26b916197\" target=\"_top\" title=\"psysml:49e593a4-f39b-4803-a2ce-02c26b916197\" xlink:actuate=\"onRequest\" xlink:href=\"psysml:49e593a4-f39b-4803-a2ce-02c26b916197\" xlink:show=\"new\" xlink:title=\"psysml:49e593a4-f39b-4803-a2ce-02c26b916197\" xlink:type=\"simple\"><rect fill=\"#FEFECE\" filter=\"url(#f14xrgj2e26dpb)\" height=\"66.7422\" id=\"E8\" style=\"stroke: #A80036; stroke-width: 1.5;\" width=\"117\" x=\"162.5\" y=\"471\"/><text fill=\"#000000\" font-family=\"sans-serif\" font-size=\"12\" font-style=\"italic\" lengthAdjust=\"spacingAndGlyphs\" textLength=\"115\" x=\"163.5\" y=\"487.1387\">«requirement def»</text><text fill=\"#000000\" font-family=\"sans-serif\" font-size=\"12\" lengthAdjust=\"spacingAndGlyphs\" textLength=\"5\" x=\"208\" y=\"501.1074\">[</text><text fill=\"#000000\" font-family=\"sans-serif\" font-size=\"12\" font-weight=\"bold\" lengthAdjust=\"spacingAndGlyphs\" textLength=\"8\" x=\"213\" y=\"501.1074\">1</text><text fill=\"#000000\" font-family=\"sans-serif\" font-size=\"12\" lengthAdjust=\"spacingAndGlyphs\" textLength=\"17\" x=\"221\" y=\"501.1074\">] A</text><line style=\"stroke: #A80036; stroke-width: 1.5;\" x1=\"163.5\" x2=\"278.5\" y1=\"508.9375\" y2=\"508.9375\"/><text fill=\"#000000\" font-family=\"sans-serif\" font-size=\"11\" lengthAdjust=\"spacingAndGlyphs\" textLength=\"24\" x=\"168.5\" y=\"523.1479\">Text</text><line style=\"stroke: #A80036; stroke-width: 1.0;\" x1=\"163.5\" x2=\"278.5\" y1=\"529.7422\" y2=\"529.7422\"/></a><!--MD5=[fd4143e9d270a159db93a4ea2a975926]\n",
       "class E9--><a href=\"psysml:79fb73d3-867b-49b4-8196-8eb6e64f62f0\" target=\"_top\" title=\"psysml:79fb73d3-867b-49b4-8196-8eb6e64f62f0\" xlink:actuate=\"onRequest\" xlink:href=\"psysml:79fb73d3-867b-49b4-8196-8eb6e64f62f0\" xlink:show=\"new\" xlink:title=\"psysml:79fb73d3-867b-49b4-8196-8eb6e64f62f0\" xlink:type=\"simple\"><rect fill=\"#FEFECE\" filter=\"url(#f14xrgj2e26dpb)\" height=\"76.4922\" id=\"E9\" style=\"stroke: #A80036; stroke-width: 1.5;\" width=\"207\" x=\"109.5\" y=\"41\"/><text fill=\"#000000\" font-family=\"sans-serif\" font-size=\"12\" font-style=\"italic\" lengthAdjust=\"spacingAndGlyphs\" textLength=\"115\" x=\"155.5\" y=\"57.1387\">«requirement def»</text><text fill=\"#000000\" font-family=\"sans-serif\" font-size=\"12\" lengthAdjust=\"spacingAndGlyphs\" textLength=\"16\" x=\"205\" y=\"71.1074\">R1</text><line style=\"stroke: #A80036; stroke-width: 1.5;\" x1=\"110.5\" x2=\"315.5\" y1=\"78.9375\" y2=\"78.9375\"/><text fill=\"#000000\" font-family=\"sans-serif\" font-size=\"11\" font-weight=\"bold\" lengthAdjust=\"spacingAndGlyphs\" textLength=\"46\" x=\"115.5\" y=\"110.8979\">require</text><text fill=\"#000000\" font-family=\"sans-serif\" font-size=\"11\" lengthAdjust=\"spacingAndGlyphs\" textLength=\"0\" x=\"165.5\" y=\"110.8979\"/><path d=\"M167.4167,100.6589 L167.4167,109.8255 L168.3333,109.8255 L168.3333,100.6589 M171.0833,100.6589 L171.0833,109.8255 L178.4167,105.2422 L171.0833,100.6589 L172,102.0339 L177.0417,105.2422 L172,108.4505 L172,102.0339 \" fill=\"#000000\" style=\"stroke: ; stroke-width: 0.0; stroke-dasharray: ;\"/><text fill=\"#000000\" font-family=\"sans-serif\" font-size=\"11\" lengthAdjust=\"spacingAndGlyphs\" textLength=\"13\" x=\"182.5\" y=\"110.8979\">c1</text><text fill=\"#000000\" font-family=\"sans-serif\" font-size=\"11\" lengthAdjust=\"spacingAndGlyphs\" text-decoration=\"line-through\" textLength=\"111\" x=\"199.5\" y=\"110.8979\">RequirementTest::c</text><line style=\"stroke: #A80036; stroke-width: 1.0;\" x1=\"110.5\" x2=\"181\" y1=\"93.3398\" y2=\"93.3398\"/><text fill=\"#000000\" font-family=\"sans-serif\" font-size=\"11\" lengthAdjust=\"spacingAndGlyphs\" textLength=\"64\" x=\"181\" y=\"96.6479\">constraints</text><line style=\"stroke: #A80036; stroke-width: 1.0;\" x1=\"245\" x2=\"315.5\" y1=\"93.3398\" y2=\"93.3398\"/></a><!--MD5=[1dd1bfd58a279cf63c5f349dbc8fc6a1]\n",
       "class E11--><a href=\"psysml:510a33c1-eff7-4e5e-90b4-a63ef5b72ae6\" target=\"_top\" title=\"psysml:510a33c1-eff7-4e5e-90b4-a63ef5b72ae6\" xlink:actuate=\"onRequest\" xlink:href=\"psysml:510a33c1-eff7-4e5e-90b4-a63ef5b72ae6\" xlink:show=\"new\" xlink:title=\"psysml:510a33c1-eff7-4e5e-90b4-a63ef5b72ae6\" xlink:type=\"simple\"><rect fill=\"#FEFECE\" filter=\"url(#f14xrgj2e26dpb)\" height=\"45.9375\" id=\"E11\" rx=\"10\" ry=\"10\" style=\"stroke: #A80036; stroke-width: 1.5;\" width=\"42\" x=\"185\" y=\"332.5\"/><text fill=\"#000000\" font-family=\"sans-serif\" font-size=\"12\" font-style=\"italic\" lengthAdjust=\"spacingAndGlyphs\" textLength=\"40\" x=\"186\" y=\"348.6387\">«part»</text><text fill=\"#000000\" font-family=\"sans-serif\" font-size=\"12\" lengthAdjust=\"spacingAndGlyphs\" textLength=\"8\" x=\"202\" y=\"362.6074\">p</text><line style=\"stroke: #A80036; stroke-width: 1.5;\" x1=\"186\" x2=\"226\" y1=\"370.4375\" y2=\"370.4375\"/></a><!--MD5=[49a0ec8f00dab7302a31f22d0f0fe584]\n",
       "class E12--><a href=\"psysml:a6cd5ff6-20a0-4014-8266-5a2f114de57c\" target=\"_top\" title=\"psysml:a6cd5ff6-20a0-4014-8266-5a2f114de57c\" xlink:actuate=\"onRequest\" xlink:href=\"psysml:a6cd5ff6-20a0-4014-8266-5a2f114de57c\" xlink:show=\"new\" xlink:title=\"psysml:a6cd5ff6-20a0-4014-8266-5a2f114de57c\" xlink:type=\"simple\"><rect fill=\"#FEFECE\" filter=\"url(#f14xrgj2e26dpb)\" height=\"45.9375\" id=\"E12\" rx=\"10\" ry=\"10\" style=\"stroke: #A80036; stroke-width: 1.5;\" width=\"42\" x=\"32\" y=\"56\"/><text fill=\"#000000\" font-family=\"sans-serif\" font-size=\"12\" font-style=\"italic\" lengthAdjust=\"spacingAndGlyphs\" textLength=\"40\" x=\"33\" y=\"72.1387\">«part»</text><text fill=\"#000000\" font-family=\"sans-serif\" font-size=\"12\" lengthAdjust=\"spacingAndGlyphs\" textLength=\"8\" x=\"49\" y=\"86.1074\">q</text><line style=\"stroke: #A80036; stroke-width: 1.5;\" x1=\"33\" x2=\"73\" y1=\"93.9375\" y2=\"93.9375\"/></a><!--MD5=[ee3c913d1a06f366521f9ef512b67efe]\n",
       "class E13--><a href=\"psysml:50b94a4a-7c4d-4845-a3da-b360d2df1f8c\" target=\"_top\" title=\"psysml:50b94a4a-7c4d-4845-a3da-b360d2df1f8c\" xlink:actuate=\"onRequest\" xlink:href=\"psysml:50b94a4a-7c4d-4845-a3da-b360d2df1f8c\" xlink:show=\"new\" xlink:title=\"psysml:50b94a4a-7c4d-4845-a3da-b360d2df1f8c\" xlink:type=\"simple\"><rect fill=\"#FEFECE\" filter=\"url(#f14xrgj2e26dpb)\" height=\"45.9375\" id=\"E13\" rx=\"10\" ry=\"10\" style=\"stroke: #A80036; stroke-width: 1.5;\" width=\"93\" x=\"44.5\" y=\"178\"/><text fill=\"#000000\" font-family=\"sans-serif\" font-size=\"12\" font-style=\"italic\" lengthAdjust=\"spacingAndGlyphs\" textLength=\"91\" x=\"45.5\" y=\"194.1387\">«requirement»</text><text fill=\"#000000\" font-family=\"sans-serif\" font-size=\"12\" lengthAdjust=\"spacingAndGlyphs\" textLength=\"21\" x=\"80.5\" y=\"208.1074\">r: R</text><line style=\"stroke: #A80036; stroke-width: 1.5;\" x1=\"45.5\" x2=\"136.5\" y1=\"215.9375\" y2=\"215.9375\"/></a><!--MD5=[05d275557350bfb9b23a4ef7222b4c39]\n",
       "link E3 to E2--><a href=\"psysml:e8229714-231f-4f2a-9005-056b1e69efb5\" target=\"_top\" title=\"psysml:e8229714-231f-4f2a-9005-056b1e69efb5\" xlink:actuate=\"onRequest\" xlink:href=\"psysml:e8229714-231f-4f2a-9005-056b1e69efb5\" xlink:show=\"new\" xlink:title=\"psysml:e8229714-231f-4f2a-9005-056b1e69efb5\" xlink:type=\"simple\"><path d=\"M389.8,102.01 C388.24,117.56 386.11,138.89 384.23,157.68 \" fill=\"none\" id=\"E3-&gt;E2\" style=\"stroke: #A80036; stroke-width: 1.0;\"/><polygon fill=\"#FFFFFF\" points=\"382.23,177.72,377.1511,158.1188,391.0819,159.5089,382.23,177.72\" style=\"stroke: #A80036; stroke-width: 1.0;\"/><ellipse cx=\"379.7072\" cy=\"152.6456\" fill=\"#A80036\" rx=\"2\" ry=\"2\" style=\"stroke: #A80036; stroke-width: 1.0;\"/><ellipse cx=\"389.6578\" cy=\"153.6385\" fill=\"#A80036\" rx=\"2\" ry=\"2\" style=\"stroke: #A80036; stroke-width: 1.0;\"/></a><!--MD5=[722ff4eef345aa10242dad44df0e98c7]\n",
       "reverse link E4 to E7--><a href=\"psysml:eafce8af-10f9-4af7-9431-7513cc7d3347\" target=\"_top\" title=\"psysml:eafce8af-10f9-4af7-9431-7513cc7d3347\" xlink:actuate=\"onRequest\" xlink:href=\"psysml:eafce8af-10f9-4af7-9431-7513cc7d3347\" xlink:show=\"new\" xlink:title=\"psysml:eafce8af-10f9-4af7-9431-7513cc7d3347\" xlink:type=\"simple\"><path d=\"M86.44,423.59 C85.02,444.46 83.55,466.02 82.5,481.48 \" fill=\"none\" id=\"E4&lt;-E7\" style=\"stroke: #A80036; stroke-width: 1.0;\"/><polygon fill=\"#A80036\" points=\"87.33,410.4,82.9306,416.1136,86.5125,422.3721,90.912,416.6586,87.33,410.4\" style=\"stroke: #A80036; stroke-width: 1.0;\"/></a><!--MD5=[c6fc7cdb0cabde04948078cf183fa696]\n",
       "reverse link E4 to E8--><a href=\"psysml:a0130814-5dc8-48af-af1a-9e985463643e\" target=\"_top\" title=\"psysml:a0130814-5dc8-48af-af1a-9e985463643e\" xlink:actuate=\"onRequest\" xlink:href=\"psysml:a0130814-5dc8-48af-af1a-9e985463643e\" xlink:show=\"new\" xlink:title=\"psysml:a0130814-5dc8-48af-af1a-9e985463643e\" xlink:type=\"simple\"><path d=\"M148.94,422.02 C163.95,438.99 179.47,456.53 192.24,470.98 \" fill=\"none\" id=\"E4&lt;-E8\" style=\"stroke: #A80036; stroke-width: 1.0;\"/><ellipse cx=\"143.9698\" cy=\"416.3927\" fill=\"#FFFFFF\" rx=\"8\" ry=\"8\" style=\"stroke: #A80036; stroke-width: 1.0;\"/><line style=\"stroke: #A80036; stroke-width: 1.0;\" x1=\"149.2695\" x2=\"138.67\" y1=\"422.3854\" y2=\"410.4\"/><line style=\"stroke: #A80036; stroke-width: 1.0;\" x1=\"137.9771\" x2=\"149.9625\" y1=\"421.6925\" y2=\"411.0929\"/></a><!--MD5=[062ed86c389d1a88f61c6380d0491e17]\n",
       "reverse link E12 to E13--><a href=\"psysml:044b978f-2385-4425-992f-2d75b645c055\" target=\"_top\" title=\"psysml:044b978f-2385-4425-992f-2d75b645c055\" xlink:actuate=\"onRequest\" xlink:href=\"psysml:044b978f-2385-4425-992f-2d75b645c055\" xlink:show=\"new\" xlink:title=\"psysml:044b978f-2385-4425-992f-2d75b645c055\" xlink:type=\"simple\"><path d=\"M63.94,114.55 C70.38,134.88 78.33,160 83.95,177.72 \" fill=\"none\" id=\"E12&lt;-E13\" style=\"stroke: #A80036; stroke-width: 1.0;\"/><polygon fill=\"#A80036\" points=\"59.97,102.01,57.9712,108.9386,63.5981,113.4484,65.5968,106.5198,59.97,102.01\" style=\"stroke: #A80036; stroke-width: 1.0;\"/></a><!--MD5=[017847e01ff9a8bd19f247411074f987]\n",
       "link E13 to E4--><a href=\"psysml:279d9c9b-21cb-4076-8967-339bf6a79b4c\" target=\"_top\" title=\"psysml:279d9c9b-21cb-4076-8967-339bf6a79b4c\" xlink:actuate=\"onRequest\" xlink:href=\"psysml:279d9c9b-21cb-4076-8967-339bf6a79b4c\" xlink:show=\"new\" xlink:title=\"psysml:279d9c9b-21cb-4076-8967-339bf6a79b4c\" xlink:type=\"simple\"><path d=\"M91,224.17 C91,239.17 91,259.91 91,280.44 \" fill=\"none\" id=\"E13-&gt;E4\" style=\"stroke: #A80036; stroke-width: 1.0;\"/><polygon fill=\"#FFFFFF\" points=\"91,300.68,84,281.68,98,281.68,91,300.68\" style=\"stroke: #A80036; stroke-width: 1.0;\"/><ellipse cx=\"86\" cy=\"275.98\" fill=\"#A80036\" rx=\"2\" ry=\"2\" style=\"stroke: #A80036; stroke-width: 1.0;\"/><ellipse cx=\"96\" cy=\"275.98\" fill=\"#A80036\" rx=\"2\" ry=\"2\" style=\"stroke: #A80036; stroke-width: 1.0;\"/></a><!--MD5=[2cfe899c895462254056921bfb67315f]\n",
       "link E13 to E11--><a href=\"psysml:fcf36e7c-2665-4a1d-8cf4-6fcc5b08ef04\" target=\"_top\" title=\"psysml:fcf36e7c-2665-4a1d-8cf4-6fcc5b08ef04\" xlink:actuate=\"onRequest\" xlink:href=\"psysml:fcf36e7c-2665-4a1d-8cf4-6fcc5b08ef04\" xlink:show=\"new\" xlink:title=\"psysml:fcf36e7c-2665-4a1d-8cf4-6fcc5b08ef04\" xlink:type=\"simple\"><path d=\"M108.36,224.29 C123.87,244.28 147.14,274.45 167,301 C173.57,309.78 180.66,319.44 186.97,328.12 \" fill=\"none\" id=\"E13-&gt;E11\" style=\"stroke: #A80036; stroke-width: 1.0; stroke-dasharray: 7.0,7.0;\"/><polygon fill=\"#A80036\" points=\"189.99,332.28,187.9274,322.6496,187.0474,328.2376,181.4594,327.3576,189.99,332.28\" style=\"stroke: #A80036; stroke-width: 1.0;\"/><text fill=\"#000000\" font-family=\"sans-serif\" font-size=\"13\" lengthAdjust=\"spacingAndGlyphs\" textLength=\"57\" x=\"145\" y=\"267.0669\">«satisfy»</text></a><!--MD5=[7dc8db304b6b1760f1c7e0a20cc0dcf0]\n",
       "@startuml\r\n",
       "skinparam wrapWidth 300\r\n",
       "hide circle\r\n",
       "\r\n",
       "package \"RequirementTest\" as E1  [[psysml:f822a5b9-f637-4bfc-9356-d45755be39c3 ]]  {\r\n",
       "comp def \"C\" as E2  <<(T,blue)constraint def>> [[psysml:55e0c843-cabd-4238-9430-5e5ddb37e322 ]] {\r\n",
       "}\r\n",
       "comp usage \"c: C\" as E3  <<(T,blue)constraint>> [[psysml:943270d7-f648-4f2b-99ed-798f0a01be75 ]] {\r\n",
       "}\r\n",
       "comp def \"R\" as E4  <<(T,blue)requirement def>> [[psysml:3547be1a-4b91-4a24-a66e-ac992d912d25 ]] {\r\n",
       "\r\n",
       "- -\r\n",
       "- - constraints - -\r\n",
       "<b>require</b> c\r\n",
       "<i>assume</i> c1: C\r\n",
       "}\r\n",
       "comp usage \"<s>noname</s>\" as E7  <<(T,blue)requirement>> [[psysml:5cc59123-afbd-4e9a-96fa-0bfa0b631260 ]] {\r\n",
       "}\r\n",
       "comp def \" [<b>1</b>] A\" as E8  <<(T,blue)requirement def>> [[psysml:49e593a4-f39b-4803-a2ce-02c26b916197 ]] {\r\n",
       "Text\r\n",
       "- -\r\n",
       "}\r\n",
       "comp def \"R1\" as E9  <<(T,blue)requirement def>> [[psysml:79fb73d3-867b-49b4-8196-8eb6e64f62f0 ]] {\r\n",
       "- - constraints - -\r\n",
       "<b>require</b> <&bar-trig> c1 <s>RequirementTest::c</s>\r\n",
       "}\r\n",
       "comp usage \"p\" as E11  <<(T,blue)part>> [[psysml:510a33c1-eff7-4e5e-90b4-a63ef5b72ae6 ]] {\r\n",
       "}\r\n",
       "comp usage \"q\" as E12  <<(T,blue)part>> [[psysml:a6cd5ff6-20a0-4014-8266-5a2f114de57c ]] {\r\n",
       "}\r\n",
       "comp usage \"r: R\" as E13  <<(T,blue)requirement>> [[psysml:50b94a4a-7c4d-4845-a3da-b360d2df1f8c ]] {\r\n",
       "}\r\n",
       "E3 - -:|> E2 [[psysml:e8229714-231f-4f2a-9005-056b1e69efb5 ]] \r\n",
       "E4 *- - E7 [[psysml:eafce8af-10f9-4af7-9431-7513cc7d3347 ]] \r\n",
       "E4 +- - E8 [[psysml:a0130814-5dc8-48af-af1a-9e985463643e ]] \r\n",
       "E12 *- - E13 [[psysml:044b978f-2385-4425-992f-2d75b645c055 ]] \r\n",
       "E13 - -:|> E4 [[psysml:279d9c9b-21cb-4076-8967-339bf6a79b4c ]] \r\n",
       "E13 ..> E11 [[psysml:fcf36e7c-2665-4a1d-8cf4-6fcc5b08ef04 ]] : <<satisfy>>\r\n",
       "}\r\n",
       "@enduml\r\n",
       "\n",
       "PlantUML version 1.2020.13(Sat Jun 13 12:26:38 UTC 2020)\n",
       "(EPL source distribution)\n",
       "Java Runtime: OpenJDK Runtime Environment\n",
       "JVM: OpenJDK 64-Bit Server VM\n",
       "Default Encoding: UTF-8\n",
       "Language: en\n",
       "Country: null\n",
       "--></g></svg>"
      ]
     },
     "execution_count": 24,
     "metadata": {},
     "output_type": "execute_result"
    }
   ],
   "source": [
    "%viz --style=\"STDCOLOR\" --view=\"Tree\" \"RequirementTest\""
   ]
  },
  {
   "cell_type": "code",
   "execution_count": 25,
   "id": "606c6ac7",
   "metadata": {
    "execution": {
     "iopub.execute_input": "2021-04-21T20:21:29.072099Z",
     "iopub.status.busy": "2021-04-21T20:21:29.070819Z",
     "iopub.status.idle": "2021-04-21T20:21:29.076054Z",
     "shell.execute_reply": "2021-04-21T20:21:29.075664Z"
    }
   },
   "outputs": [
    {
     "data": {
      "image/svg+xml": [
       "<?xml version=\"1.0\" encoding=\"UTF-8\" standalone=\"no\"?><svg xmlns=\"http://www.w3.org/2000/svg\" xmlns:xlink=\"http://www.w3.org/1999/xlink\" contentScriptType=\"application/ecmascript\" contentStyleType=\"text/css\" height=\"12px\" preserveAspectRatio=\"none\" style=\"width:12px;height:12px;\" version=\"1.1\" viewBox=\"0 0 12 12\" width=\"12px\" zoomAndPan=\"magnify\"><defs/><g><!--MD5=[aeeef50f102b80d730deb6443d14f702]\n",
       "@startuml\r\n",
       "skinparam wrapWidth 300\r\n",
       "hide circle\r\n",
       "\r\n",
       "@enduml\r\n",
       "\n",
       "PlantUML version 1.2020.13(Sat Jun 13 12:26:38 UTC 2020)\n",
       "(EPL source distribution)\n",
       "Java Runtime: OpenJDK Runtime Environment\n",
       "JVM: OpenJDK 64-Bit Server VM\n",
       "Default Encoding: UTF-8\n",
       "Language: en\n",
       "Country: null\n",
       "--></g></svg>"
      ]
     },
     "execution_count": 25,
     "metadata": {},
     "output_type": "execute_result"
    }
   ],
   "source": [
    "%viz --style=\"STDCOLOR\" --view=\"State\" \"RequirementTest\""
   ]
  },
  {
   "cell_type": "code",
   "execution_count": 26,
   "id": "ae4fc440",
   "metadata": {
    "execution": {
     "iopub.execute_input": "2021-04-21T20:21:29.127108Z",
     "iopub.status.busy": "2021-04-21T20:21:29.126264Z",
     "iopub.status.idle": "2021-04-21T20:21:29.251626Z",
     "shell.execute_reply": "2021-04-21T20:21:29.249734Z"
    }
   },
   "outputs": [
    {
     "data": {
      "image/svg+xml": [
       "<?xml version=\"1.0\" encoding=\"UTF-8\" standalone=\"no\"?><svg xmlns=\"http://www.w3.org/2000/svg\" xmlns:xlink=\"http://www.w3.org/1999/xlink\" contentScriptType=\"application/ecmascript\" contentStyleType=\"text/css\" height=\"408px\" preserveAspectRatio=\"none\" style=\"width:545px;height:408px;\" version=\"1.1\" viewBox=\"0 0 545 408\" width=\"545px\" zoomAndPan=\"magnify\"><defs><filter height=\"300%\" id=\"f18ktqr7dvq0ct\" width=\"300%\" x=\"-1\" y=\"-1\"><feGaussianBlur result=\"blurOut\" stdDeviation=\"2.0\"/><feColorMatrix in=\"blurOut\" result=\"blurOut2\" type=\"matrix\" values=\"0 0 0 0 0 0 0 0 0 0 0 0 0 0 0 0 0 0 .4 0\"/><feOffset dx=\"4.0\" dy=\"4.0\" in=\"blurOut2\" result=\"blurOut3\"/><feBlend in=\"SourceGraphic\" in2=\"blurOut3\" mode=\"normal\"/></filter></defs><g><!--MD5=[fbc87193dbaf4d95561dea2c320d4a47]\n",
       "cluster E1--><a href=\"psysml:f822a5b9-f637-4bfc-9356-d45755be39c3\" target=\"_top\" title=\"psysml:f822a5b9-f637-4bfc-9356-d45755be39c3\" xlink:actuate=\"onRequest\" xlink:href=\"psysml:f822a5b9-f637-4bfc-9356-d45755be39c3\" xlink:show=\"new\" xlink:title=\"psysml:f822a5b9-f637-4bfc-9356-d45755be39c3\" xlink:type=\"simple\"><polygon fill=\"#FFFFFF\" filter=\"url(#f18ktqr7dvq0ct)\" points=\"16,6,158,6,165,28.2969,523,28.2969,523,396,16,396,16,6\" style=\"stroke: #000000; stroke-width: 1.5;\"/><line style=\"stroke: #000000; stroke-width: 1.5;\" x1=\"16\" x2=\"165\" y1=\"28.2969\" y2=\"28.2969\"/><text fill=\"#000000\" font-family=\"sans-serif\" font-size=\"14\" font-weight=\"bold\" lengthAdjust=\"spacingAndGlyphs\" textLength=\"136\" x=\"20\" y=\"20.9951\">RequirementTest</text></a><!--MD5=[47bea60c1a0ac6c1143df232041969c0]\n",
       "cluster E12--><a href=\"psysml:a6cd5ff6-20a0-4014-8266-5a2f114de57c\" target=\"_top\" title=\"psysml:a6cd5ff6-20a0-4014-8266-5a2f114de57c\" xlink:actuate=\"onRequest\" xlink:href=\"psysml:a6cd5ff6-20a0-4014-8266-5a2f114de57c\" xlink:show=\"new\" xlink:title=\"psysml:a6cd5ff6-20a0-4014-8266-5a2f114de57c\" xlink:type=\"simple\"><rect fill=\"#FFFFFF\" filter=\"url(#f18ktqr7dvq0ct)\" height=\"97\" id=\"E12\" rx=\"10\" ry=\"10\" style=\"stroke: #A80036; stroke-width: 1.5;\" width=\"124\" x=\"375\" y=\"49\"/><rect fill=\"#FEFECE\" height=\"23.9688\" rx=\"10\" ry=\"10\" style=\"stroke: #FEFECE; stroke-width: 1.5;\" width=\"124\" x=\"375\" y=\"49\"/><rect fill=\"#FEFECE\" height=\"10\" style=\"stroke: #FEFECE; stroke-width: 1.5;\" width=\"124\" x=\"375\" y=\"62.9688\"/><rect fill=\"none\" height=\"97\" id=\"E12\" rx=\"10\" ry=\"10\" style=\"stroke: #A80036; stroke-width: 1.5;\" width=\"124\" x=\"375\" y=\"49\"/><text fill=\"#000000\" font-family=\"sans-serif\" font-size=\"12\" lengthAdjust=\"spacingAndGlyphs\" textLength=\"8\" x=\"433\" y=\"65.1387\">q</text><line style=\"stroke: #A80036; stroke-width: 1.0;\" x1=\"375\" x2=\"499\" y1=\"72.9688\" y2=\"72.9688\"/></a><g id=\"E1.E2\"><a href=\"psysml:55e0c843-cabd-4238-9430-5e5ddb37e322\" target=\"_top\" title=\"psysml:55e0c843-cabd-4238-9430-5e5ddb37e322\" xlink:actuate=\"onRequest\" xlink:href=\"psysml:55e0c843-cabd-4238-9430-5e5ddb37e322\" xlink:show=\"new\" xlink:title=\"psysml:55e0c843-cabd-4238-9430-5e5ddb37e322\" xlink:type=\"simple\"><rect fill=\"#FEFECE\" filter=\"url(#f18ktqr7dvq0ct)\" height=\"42.9375\" id=\"E2\" style=\"stroke: #A80036; stroke-width: 1.5;\" width=\"109\" x=\"160.5\" y=\"220\"/><text fill=\"#000000\" font-family=\"sans-serif\" font-size=\"12\" font-style=\"italic\" lengthAdjust=\"spacingAndGlyphs\" textLength=\"102\" x=\"164\" y=\"236.1387\">«constraint def»</text><text fill=\"#000000\" font-family=\"sans-serif\" font-size=\"12\" lengthAdjust=\"spacingAndGlyphs\" textLength=\"8\" x=\"211\" y=\"250.1074\">C</text></a></g><!--MD5=[09b614a08d8cba4a07c9adeb5e0fee81]\n",
       "class E3--><a href=\"psysml:943270d7-f648-4f2b-99ed-798f0a01be75\" target=\"_top\" title=\"psysml:943270d7-f648-4f2b-99ed-798f0a01be75\" xlink:actuate=\"onRequest\" xlink:href=\"psysml:943270d7-f648-4f2b-99ed-798f0a01be75\" xlink:show=\"new\" xlink:title=\"psysml:943270d7-f648-4f2b-99ed-798f0a01be75\" xlink:type=\"simple\"><rect fill=\"#FEFECE\" filter=\"url(#f18ktqr7dvq0ct)\" height=\"45.9375\" id=\"E3\" rx=\"10\" ry=\"10\" style=\"stroke: #A80036; stroke-width: 1.5;\" width=\"80\" x=\"275\" y=\"84\"/><text fill=\"#000000\" font-family=\"sans-serif\" font-size=\"12\" font-style=\"italic\" lengthAdjust=\"spacingAndGlyphs\" textLength=\"78\" x=\"276\" y=\"100.1387\">«constraint»</text><text fill=\"#000000\" font-family=\"sans-serif\" font-size=\"12\" lengthAdjust=\"spacingAndGlyphs\" textLength=\"23\" x=\"303.5\" y=\"114.1074\">c: C</text><line style=\"stroke: #A80036; stroke-width: 1.5;\" x1=\"276\" x2=\"354\" y1=\"121.9375\" y2=\"121.9375\"/></a><!--MD5=[ebbe1d658d1005bcc118a6aa81145e00]\n",
       "class E4--><a href=\"psysml:3547be1a-4b91-4a24-a66e-ac992d912d25\" target=\"_top\" title=\"psysml:3547be1a-4b91-4a24-a66e-ac992d912d25\" xlink:actuate=\"onRequest\" xlink:href=\"psysml:3547be1a-4b91-4a24-a66e-ac992d912d25\" xlink:show=\"new\" xlink:title=\"psysml:3547be1a-4b91-4a24-a66e-ac992d912d25\" xlink:type=\"simple\"><rect fill=\"#FEFECE\" filter=\"url(#f18ktqr7dvq0ct)\" height=\"109.1563\" id=\"E4\" style=\"stroke: #A80036; stroke-width: 1.5;\" width=\"117\" x=\"304.5\" y=\"187\"/><text fill=\"#000000\" font-family=\"sans-serif\" font-size=\"12\" font-style=\"italic\" lengthAdjust=\"spacingAndGlyphs\" textLength=\"115\" x=\"305.5\" y=\"203.1387\">«requirement def»</text><text fill=\"#000000\" font-family=\"sans-serif\" font-size=\"12\" lengthAdjust=\"spacingAndGlyphs\" textLength=\"8\" x=\"359\" y=\"217.1074\">R</text><line style=\"stroke: #A80036; stroke-width: 1.5;\" x1=\"305.5\" x2=\"420.5\" y1=\"224.9375\" y2=\"224.9375\"/><text fill=\"#000000\" font-family=\"sans-serif\" font-size=\"11\" lengthAdjust=\"spacingAndGlyphs\" textLength=\"0\" x=\"314.5\" y=\"239.1479\"/><line style=\"stroke: #A80036; stroke-width: 1.0;\" x1=\"305.5\" x2=\"420.5\" y1=\"245.7422\" y2=\"245.7422\"/><text fill=\"#000000\" font-family=\"sans-serif\" font-size=\"11\" font-weight=\"bold\" lengthAdjust=\"spacingAndGlyphs\" textLength=\"46\" x=\"310.5\" y=\"276.7573\">require</text><text fill=\"#000000\" font-family=\"sans-serif\" font-size=\"11\" lengthAdjust=\"spacingAndGlyphs\" textLength=\"6\" x=\"360.5\" y=\"276.7573\">c</text><text fill=\"#000000\" font-family=\"sans-serif\" font-size=\"11\" font-style=\"italic\" lengthAdjust=\"spacingAndGlyphs\" textLength=\"46\" x=\"310.5\" y=\"289.562\">assume</text><text fill=\"#000000\" font-family=\"sans-serif\" font-size=\"11\" lengthAdjust=\"spacingAndGlyphs\" textLength=\"29\" x=\"360.5\" y=\"289.562\">c1: C</text><line style=\"stroke: #A80036; stroke-width: 1.0;\" x1=\"305.5\" x2=\"331\" y1=\"260.1445\" y2=\"260.1445\"/><text fill=\"#000000\" font-family=\"sans-serif\" font-size=\"11\" lengthAdjust=\"spacingAndGlyphs\" textLength=\"64\" x=\"331\" y=\"263.4526\">constraints</text><line style=\"stroke: #A80036; stroke-width: 1.0;\" x1=\"395\" x2=\"420.5\" y1=\"260.1445\" y2=\"260.1445\"/></a><!--MD5=[2156ba9850f5573cc1fc38a6a4b2f02b]\n",
       "class E7--><a href=\"psysml:5cc59123-afbd-4e9a-96fa-0bfa0b631260\" target=\"_top\" title=\"psysml:5cc59123-afbd-4e9a-96fa-0bfa0b631260\" xlink:actuate=\"onRequest\" xlink:href=\"psysml:5cc59123-afbd-4e9a-96fa-0bfa0b631260\" xlink:show=\"new\" xlink:title=\"psysml:5cc59123-afbd-4e9a-96fa-0bfa0b631260\" xlink:type=\"simple\"><rect fill=\"#FEFECE\" filter=\"url(#f18ktqr7dvq0ct)\" height=\"45.9375\" id=\"E7\" rx=\"10\" ry=\"10\" style=\"stroke: #A80036; stroke-width: 1.5;\" width=\"93\" x=\"239.5\" y=\"323.5\"/><text fill=\"#000000\" font-family=\"sans-serif\" font-size=\"12\" font-style=\"italic\" lengthAdjust=\"spacingAndGlyphs\" textLength=\"91\" x=\"240.5\" y=\"339.6387\">«requirement»</text><text fill=\"#000000\" font-family=\"sans-serif\" font-size=\"12\" lengthAdjust=\"spacingAndGlyphs\" text-decoration=\"line-through\" textLength=\"51\" x=\"260.5\" y=\"353.6074\">noname</text><line style=\"stroke: #A80036; stroke-width: 1.5;\" x1=\"240.5\" x2=\"331.5\" y1=\"361.4375\" y2=\"361.4375\"/></a><!--MD5=[b9389687b975829384b498ac4b7476b2]\n",
       "class E8--><a href=\"psysml:49e593a4-f39b-4803-a2ce-02c26b916197\" target=\"_top\" title=\"psysml:49e593a4-f39b-4803-a2ce-02c26b916197\" xlink:actuate=\"onRequest\" xlink:href=\"psysml:49e593a4-f39b-4803-a2ce-02c26b916197\" xlink:show=\"new\" xlink:title=\"psysml:49e593a4-f39b-4803-a2ce-02c26b916197\" xlink:type=\"simple\"><rect fill=\"#FEFECE\" filter=\"url(#f18ktqr7dvq0ct)\" height=\"66.7422\" id=\"E8\" style=\"stroke: #A80036; stroke-width: 1.5;\" width=\"117\" x=\"367.5\" y=\"313\"/><text fill=\"#000000\" font-family=\"sans-serif\" font-size=\"12\" font-style=\"italic\" lengthAdjust=\"spacingAndGlyphs\" textLength=\"115\" x=\"368.5\" y=\"329.1387\">«requirement def»</text><text fill=\"#000000\" font-family=\"sans-serif\" font-size=\"12\" lengthAdjust=\"spacingAndGlyphs\" textLength=\"5\" x=\"413\" y=\"343.1074\">[</text><text fill=\"#000000\" font-family=\"sans-serif\" font-size=\"12\" font-weight=\"bold\" lengthAdjust=\"spacingAndGlyphs\" textLength=\"8\" x=\"418\" y=\"343.1074\">1</text><text fill=\"#000000\" font-family=\"sans-serif\" font-size=\"12\" lengthAdjust=\"spacingAndGlyphs\" textLength=\"17\" x=\"426\" y=\"343.1074\">] A</text><line style=\"stroke: #A80036; stroke-width: 1.5;\" x1=\"368.5\" x2=\"483.5\" y1=\"350.9375\" y2=\"350.9375\"/><text fill=\"#000000\" font-family=\"sans-serif\" font-size=\"11\" lengthAdjust=\"spacingAndGlyphs\" textLength=\"24\" x=\"373.5\" y=\"365.1479\">Text</text><line style=\"stroke: #A80036; stroke-width: 1.0;\" x1=\"368.5\" x2=\"483.5\" y1=\"371.7422\" y2=\"371.7422\"/></a><!--MD5=[fd4143e9d270a159db93a4ea2a975926]\n",
       "class E9--><a href=\"psysml:79fb73d3-867b-49b4-8196-8eb6e64f62f0\" target=\"_top\" title=\"psysml:79fb73d3-867b-49b4-8196-8eb6e64f62f0\" xlink:actuate=\"onRequest\" xlink:href=\"psysml:79fb73d3-867b-49b4-8196-8eb6e64f62f0\" xlink:show=\"new\" xlink:title=\"psysml:79fb73d3-867b-49b4-8196-8eb6e64f62f0\" xlink:type=\"simple\"><rect fill=\"#FEFECE\" filter=\"url(#f18ktqr7dvq0ct)\" height=\"76.4922\" id=\"E9\" style=\"stroke: #A80036; stroke-width: 1.5;\" width=\"207\" x=\"32.5\" y=\"69\"/><text fill=\"#000000\" font-family=\"sans-serif\" font-size=\"12\" font-style=\"italic\" lengthAdjust=\"spacingAndGlyphs\" textLength=\"115\" x=\"78.5\" y=\"85.1387\">«requirement def»</text><text fill=\"#000000\" font-family=\"sans-serif\" font-size=\"12\" lengthAdjust=\"spacingAndGlyphs\" textLength=\"16\" x=\"128\" y=\"99.1074\">R1</text><line style=\"stroke: #A80036; stroke-width: 1.5;\" x1=\"33.5\" x2=\"238.5\" y1=\"106.9375\" y2=\"106.9375\"/><text fill=\"#000000\" font-family=\"sans-serif\" font-size=\"11\" font-weight=\"bold\" lengthAdjust=\"spacingAndGlyphs\" textLength=\"46\" x=\"38.5\" y=\"138.8979\">require</text><text fill=\"#000000\" font-family=\"sans-serif\" font-size=\"11\" lengthAdjust=\"spacingAndGlyphs\" textLength=\"0\" x=\"88.5\" y=\"138.8979\"/><path d=\"M90.4167,128.6589 L90.4167,137.8255 L91.3333,137.8255 L91.3333,128.6589 M94.0833,128.6589 L94.0833,137.8255 L101.4167,133.2422 L94.0833,128.6589 L95,130.0339 L100.0417,133.2422 L95,136.4505 L95,130.0339 \" fill=\"#000000\" style=\"stroke: ; stroke-width: 0.0; stroke-dasharray: ;\"/><text fill=\"#000000\" font-family=\"sans-serif\" font-size=\"11\" lengthAdjust=\"spacingAndGlyphs\" textLength=\"13\" x=\"105.5\" y=\"138.8979\">c1</text><text fill=\"#000000\" font-family=\"sans-serif\" font-size=\"11\" lengthAdjust=\"spacingAndGlyphs\" text-decoration=\"line-through\" textLength=\"111\" x=\"122.5\" y=\"138.8979\">RequirementTest::c</text><line style=\"stroke: #A80036; stroke-width: 1.0;\" x1=\"33.5\" x2=\"104\" y1=\"121.3398\" y2=\"121.3398\"/><text fill=\"#000000\" font-family=\"sans-serif\" font-size=\"11\" lengthAdjust=\"spacingAndGlyphs\" textLength=\"64\" x=\"104\" y=\"124.6479\">constraints</text><line style=\"stroke: #A80036; stroke-width: 1.0;\" x1=\"168\" x2=\"238.5\" y1=\"121.3398\" y2=\"121.3398\"/></a><g id=\"E1.E11\"><a href=\"psysml:510a33c1-eff7-4e5e-90b4-a63ef5b72ae6\" target=\"_top\" title=\"psysml:510a33c1-eff7-4e5e-90b4-a63ef5b72ae6\" xlink:actuate=\"onRequest\" xlink:href=\"psysml:510a33c1-eff7-4e5e-90b4-a63ef5b72ae6\" xlink:show=\"new\" xlink:title=\"psysml:510a33c1-eff7-4e5e-90b4-a63ef5b72ae6\" xlink:type=\"simple\"><rect fill=\"#FEFECE\" filter=\"url(#f18ktqr7dvq0ct)\" height=\"40\" id=\"E11\" rx=\"10\" ry=\"10\" style=\"stroke: #A80036; stroke-width: 1.5;\" width=\"50\" x=\"457\" y=\"221.5\"/><text fill=\"#000000\" font-family=\"sans-serif\" font-size=\"12\" lengthAdjust=\"spacingAndGlyphs\" textLength=\"8\" x=\"478\" y=\"237.6387\">p</text></a></g><!--MD5=[ee3c913d1a06f366521f9ef512b67efe]\n",
       "class E13--><a href=\"psysml:50b94a4a-7c4d-4845-a3da-b360d2df1f8c\" target=\"_top\" title=\"psysml:50b94a4a-7c4d-4845-a3da-b360d2df1f8c\" xlink:actuate=\"onRequest\" xlink:href=\"psysml:50b94a4a-7c4d-4845-a3da-b360d2df1f8c\" xlink:show=\"new\" xlink:title=\"psysml:50b94a4a-7c4d-4845-a3da-b360d2df1f8c\" xlink:type=\"simple\"><rect fill=\"#FEFECE\" filter=\"url(#f18ktqr7dvq0ct)\" height=\"45.9375\" id=\"E13\" rx=\"10\" ry=\"10\" style=\"stroke: #A80036; stroke-width: 1.5;\" width=\"93\" x=\"390.5\" y=\"84\"/><text fill=\"#000000\" font-family=\"sans-serif\" font-size=\"12\" font-style=\"italic\" lengthAdjust=\"spacingAndGlyphs\" textLength=\"91\" x=\"391.5\" y=\"100.1387\">«requirement»</text><text fill=\"#000000\" font-family=\"sans-serif\" font-size=\"12\" lengthAdjust=\"spacingAndGlyphs\" textLength=\"21\" x=\"426.5\" y=\"114.1074\">r: R</text><line style=\"stroke: #A80036; stroke-width: 1.5;\" x1=\"391.5\" x2=\"482.5\" y1=\"121.9375\" y2=\"121.9375\"/></a><!--MD5=[05d275557350bfb9b23a4ef7222b4c39]\n",
       "link E3 to E2--><a href=\"psysml:e8229714-231f-4f2a-9005-056b1e69efb5\" target=\"_top\" title=\"psysml:e8229714-231f-4f2a-9005-056b1e69efb5\" xlink:actuate=\"onRequest\" xlink:href=\"psysml:e8229714-231f-4f2a-9005-056b1e69efb5\" xlink:show=\"new\" xlink:title=\"psysml:e8229714-231f-4f2a-9005-056b1e69efb5\" xlink:type=\"simple\"><path d=\"M298.26,130.18 C283.12,150.24 260.54,180.16 242.71,203.78 \" fill=\"none\" id=\"E3-&gt;E2\" style=\"stroke: #A80036; stroke-width: 1.0;\"/><polygon fill=\"#FFFFFF\" points=\"230.48,219.99,236.3492,200.6108,247.5192,209.0508,230.48,219.99\" style=\"stroke: #A80036; stroke-width: 1.0;\"/><ellipse cx=\"241.3812\" cy=\"197.2688\" fill=\"#A80036\" rx=\"2\" ry=\"2\" style=\"stroke: #A80036; stroke-width: 1.0;\"/><ellipse cx=\"249.3597\" cy=\"203.2973\" fill=\"#A80036\" rx=\"2\" ry=\"2\" style=\"stroke: #A80036; stroke-width: 1.0;\"/></a><!--MD5=[722ff4eef345aa10242dad44df0e98c7]\n",
       "reverse link E4 to E7--><a href=\"psysml:eafce8af-10f9-4af7-9431-7513cc7d3347\" target=\"_top\" title=\"psysml:eafce8af-10f9-4af7-9431-7513cc7d3347\" xlink:actuate=\"onRequest\" xlink:href=\"psysml:eafce8af-10f9-4af7-9431-7513cc7d3347\" xlink:show=\"new\" xlink:title=\"psysml:eafce8af-10f9-4af7-9431-7513cc7d3347\" xlink:type=\"simple\"><path d=\"M314.95,306.78 C310.59,312.6 306.41,318.2 302.65,323.23 \" fill=\"none\" id=\"E4&lt;-E7\" style=\"stroke: #A80036; stroke-width: 1.0;\"/><polygon fill=\"#A80036\" points=\"322.92,296.11,316.1237,298.5205,315.7348,305.7211,322.5311,303.3106,322.92,296.11\" style=\"stroke: #A80036; stroke-width: 1.0;\"/></a><!--MD5=[c6fc7cdb0cabde04948078cf183fa696]\n",
       "reverse link E4 to E8--><a href=\"psysml:a0130814-5dc8-48af-af1a-9e985463643e\" target=\"_top\" title=\"psysml:a0130814-5dc8-48af-af1a-9e985463643e\" xlink:actuate=\"onRequest\" xlink:href=\"psysml:a0130814-5dc8-48af-af1a-9e985463643e\" xlink:show=\"new\" xlink:title=\"psysml:a0130814-5dc8-48af-af1a-9e985463643e\" xlink:type=\"simple\"><path d=\"M403.65,308.95 C404.43,310.23 405.2,311.5 405.96,312.74 \" fill=\"none\" id=\"E4&lt;-E8\" style=\"stroke: #A80036; stroke-width: 1.0;\"/><ellipse cx=\"399.9641\" cy=\"302.9347\" fill=\"#FFFFFF\" rx=\"8\" ry=\"8\" style=\"stroke: #A80036; stroke-width: 1.0;\"/><line style=\"stroke: #A80036; stroke-width: 1.0;\" x1=\"404.1381\" x2=\"395.79\" y1=\"309.7595\" y2=\"296.11\"/><line style=\"stroke: #A80036; stroke-width: 1.0;\" x1=\"393.1393\" x2=\"406.7888\" y1=\"307.1088\" y2=\"298.7607\"/></a><!--MD5=[017847e01ff9a8bd19f247411074f987]\n",
       "link E13 to E4--><a href=\"psysml:279d9c9b-21cb-4076-8967-339bf6a79b4c\" target=\"_top\" title=\"psysml:279d9c9b-21cb-4076-8967-339bf6a79b4c\" xlink:actuate=\"onRequest\" xlink:href=\"psysml:279d9c9b-21cb-4076-8967-339bf6a79b4c\" xlink:show=\"new\" xlink:title=\"psysml:279d9c9b-21cb-4076-8967-339bf6a79b4c\" xlink:type=\"simple\"><path d=\"M424.61,130.18 C418.54,141.06 410.84,154.83 402.97,168.94 \" fill=\"none\" id=\"E13-&gt;E4\" style=\"stroke: #A80036; stroke-width: 1.0;\"/><polygon fill=\"#FFFFFF\" points=\"393,186.78,396.1525,166.7785,408.3756,173.6046,393,186.78\" style=\"stroke: #A80036; stroke-width: 1.0;\"/><ellipse cx=\"400.6779\" cy=\"162.7771\" fill=\"#A80036\" rx=\"2\" ry=\"2\" style=\"stroke: #A80036; stroke-width: 1.0;\"/><ellipse cx=\"409.4086\" cy=\"167.6529\" fill=\"#A80036\" rx=\"2\" ry=\"2\" style=\"stroke: #A80036; stroke-width: 1.0;\"/></a><!--MD5=[2cfe899c895462254056921bfb67315f]\n",
       "link E13 to E11--><a href=\"psysml:fcf36e7c-2665-4a1d-8cf4-6fcc5b08ef04\" target=\"_top\" title=\"psysml:fcf36e7c-2665-4a1d-8cf4-6fcc5b08ef04\" xlink:actuate=\"onRequest\" xlink:href=\"psysml:fcf36e7c-2665-4a1d-8cf4-6fcc5b08ef04\" xlink:show=\"new\" xlink:title=\"psysml:fcf36e7c-2665-4a1d-8cf4-6fcc5b08ef04\" xlink:type=\"simple\"><path d=\"M444.53,130.18 C452.61,153.97 465.41,191.66 473.76,216.23 \" fill=\"none\" id=\"E13-&gt;E11\" style=\"stroke: #A80036; stroke-width: 1.0; stroke-dasharray: 7.0,7.0;\"/><polygon fill=\"#A80036\" points=\"475.47,221.27,476.3568,211.4611,473.859,216.5367,468.7834,214.0388,475.47,221.27\" style=\"stroke: #A80036; stroke-width: 1.0;\"/><text fill=\"#000000\" font-family=\"sans-serif\" font-size=\"13\" lengthAdjust=\"spacingAndGlyphs\" textLength=\"57\" x=\"461\" y=\"175.0669\">«satisfy»</text></a><!--MD5=[281c37cb43789c16b1ab7ba26a9e5259]\n",
       "@startuml\r\n",
       "skinparam ranksep 10\r\n",
       "skinparam rectangle {\r\n",
       " backgroundColor<<block>> LightGreen\r\n",
       "}\r\n",
       "skinparam wrapWidth 300\r\n",
       "hide circle\r\n",
       "\r\n",
       "package \"RequirementTest\" as E1  [[psysml:f822a5b9-f637-4bfc-9356-d45755be39c3 ]]  {\r\n",
       "def \"C\" as E2  <<(T,blue)constraint def>> [[psysml:55e0c843-cabd-4238-9430-5e5ddb37e322 ]] \r\n",
       "comp usage \"c: C\" as E3  <<(T,blue)constraint>> [[psysml:943270d7-f648-4f2b-99ed-798f0a01be75 ]] {\r\n",
       "}\r\n",
       "comp def \"R\" as E4  <<(T,blue)requirement def>> [[psysml:3547be1a-4b91-4a24-a66e-ac992d912d25 ]] {\r\n",
       "\r\n",
       "- -\r\n",
       "- - constraints - -\r\n",
       "<b>require</b> c\r\n",
       "<i>assume</i> c1: C\r\n",
       "}\r\n",
       "comp usage \"<s>noname</s>\" as E7  <<(T,blue)requirement>> [[psysml:5cc59123-afbd-4e9a-96fa-0bfa0b631260 ]] {\r\n",
       "}\r\n",
       "comp def \" [<b>1</b>] A\" as E8  <<(T,blue)requirement def>> [[psysml:49e593a4-f39b-4803-a2ce-02c26b916197 ]] {\r\n",
       "Text\r\n",
       "- -\r\n",
       "}\r\n",
       "comp def \"R1\" as E9  <<(T,blue)requirement def>> [[psysml:79fb73d3-867b-49b4-8196-8eb6e64f62f0 ]] {\r\n",
       "- - constraints - -\r\n",
       "<b>require</b> <&bar-trig> c1 <s>RequirementTest::c</s>\r\n",
       "}\r\n",
       "rec usage \"p\" as E11  [[psysml:510a33c1-eff7-4e5e-90b4-a63ef5b72ae6 ]] {\r\n",
       "}\r\n",
       "rec usage \"q\" as E12  [[psysml:a6cd5ff6-20a0-4014-8266-5a2f114de57c ]] {\r\n",
       "comp usage \"r: R\" as E13  <<(T,blue)requirement>> [[psysml:50b94a4a-7c4d-4845-a3da-b360d2df1f8c ]] {\r\n",
       "}\r\n",
       "}\r\n",
       "E3 - -:|> E2 [[psysml:e8229714-231f-4f2a-9005-056b1e69efb5 ]] \r\n",
       "E4 *- - E7 [[psysml:eafce8af-10f9-4af7-9431-7513cc7d3347 ]] \r\n",
       "E4 +- - E8 [[psysml:a0130814-5dc8-48af-af1a-9e985463643e ]] \r\n",
       "E13 - -:|> E4 [[psysml:279d9c9b-21cb-4076-8967-339bf6a79b4c ]] \r\n",
       "E13 ..> E11 [[psysml:fcf36e7c-2665-4a1d-8cf4-6fcc5b08ef04 ]] : <<satisfy>>\r\n",
       "}\r\n",
       "@enduml\r\n",
       "\n",
       "PlantUML version 1.2020.13(Sat Jun 13 12:26:38 UTC 2020)\n",
       "(EPL source distribution)\n",
       "Java Runtime: OpenJDK Runtime Environment\n",
       "JVM: OpenJDK 64-Bit Server VM\n",
       "Default Encoding: UTF-8\n",
       "Language: en\n",
       "Country: null\n",
       "--></g></svg>"
      ]
     },
     "execution_count": 26,
     "metadata": {},
     "output_type": "execute_result"
    }
   ],
   "source": [
    "%viz --style=\"STDCOLOR\" --view=\"Interconnection\" \"RequirementTest\""
   ]
  },
  {
   "cell_type": "code",
   "execution_count": 27,
   "id": "e8eb2dae",
   "metadata": {
    "execution": {
     "iopub.execute_input": "2021-04-21T20:21:29.301310Z",
     "iopub.status.busy": "2021-04-21T20:21:29.300850Z",
     "iopub.status.idle": "2021-04-21T20:21:29.307071Z",
     "shell.execute_reply": "2021-04-21T20:21:29.306651Z"
    }
   },
   "outputs": [
    {
     "data": {
      "image/svg+xml": [
       "<?xml version=\"1.0\" encoding=\"UTF-8\" standalone=\"no\"?><svg xmlns=\"http://www.w3.org/2000/svg\" xmlns:xlink=\"http://www.w3.org/1999/xlink\" contentScriptType=\"application/ecmascript\" contentStyleType=\"text/css\" height=\"12px\" preserveAspectRatio=\"none\" style=\"width:12px;height:12px;\" version=\"1.1\" viewBox=\"0 0 12 12\" width=\"12px\" zoomAndPan=\"magnify\"><defs/><g><!--MD5=[9863325348a96a77dacc89509d8ee65e]\n",
       "@startuml\r\n",
       "skinparam ranksep 8\r\n",
       "skinparam wrapWidth 300\r\n",
       "hide circle\r\n",
       "\r\n",
       "@enduml\r\n",
       "\n",
       "PlantUML version 1.2020.13(Sat Jun 13 12:26:38 UTC 2020)\n",
       "(EPL source distribution)\n",
       "Java Runtime: OpenJDK Runtime Environment\n",
       "JVM: OpenJDK 64-Bit Server VM\n",
       "Default Encoding: UTF-8\n",
       "Language: en\n",
       "Country: null\n",
       "--></g></svg>"
      ]
     },
     "execution_count": 27,
     "metadata": {},
     "output_type": "execute_result"
    }
   ],
   "source": [
    "%viz --style=\"STDCOLOR\" --view=\"Action\" \"RequirementTest\""
   ]
  },
  {
   "cell_type": "code",
   "execution_count": 28,
   "id": "26b0de56",
   "metadata": {
    "execution": {
     "iopub.execute_input": "2021-04-21T20:21:29.358189Z",
     "iopub.status.busy": "2021-04-21T20:21:29.357553Z",
     "iopub.status.idle": "2021-04-21T20:21:29.470846Z",
     "shell.execute_reply": "2021-04-21T20:21:29.468848Z"
    }
   },
   "outputs": [
    {
     "data": {
      "image/svg+xml": [
       "<?xml version=\"1.0\" encoding=\"UTF-8\" standalone=\"no\"?><svg xmlns=\"http://www.w3.org/2000/svg\" xmlns:xlink=\"http://www.w3.org/1999/xlink\" contentScriptType=\"application/ecmascript\" contentStyleType=\"text/css\" height=\"566px\" preserveAspectRatio=\"none\" style=\"width:470px;height:566px;\" version=\"1.1\" viewBox=\"0 0 470 566\" width=\"470px\" zoomAndPan=\"magnify\"><defs><filter height=\"300%\" id=\"f14xrgj2e26dpb\" width=\"300%\" x=\"-1\" y=\"-1\"><feGaussianBlur result=\"blurOut\" stdDeviation=\"2.0\"/><feColorMatrix in=\"blurOut\" result=\"blurOut2\" type=\"matrix\" values=\"0 0 0 0 0 0 0 0 0 0 0 0 0 0 0 0 0 0 .4 0\"/><feOffset dx=\"4.0\" dy=\"4.0\" in=\"blurOut2\" result=\"blurOut3\"/><feBlend in=\"SourceGraphic\" in2=\"blurOut3\" mode=\"normal\"/></filter></defs><g><!--MD5=[fbc87193dbaf4d95561dea2c320d4a47]\n",
       "cluster E1--><a href=\"psysml:f822a5b9-f637-4bfc-9356-d45755be39c3\" target=\"_top\" title=\"psysml:f822a5b9-f637-4bfc-9356-d45755be39c3\" xlink:actuate=\"onRequest\" xlink:href=\"psysml:f822a5b9-f637-4bfc-9356-d45755be39c3\" xlink:show=\"new\" xlink:title=\"psysml:f822a5b9-f637-4bfc-9356-d45755be39c3\" xlink:type=\"simple\"><polygon fill=\"#FFFFFF\" filter=\"url(#f14xrgj2e26dpb)\" points=\"16,6,158,6,165,28.2969,448,28.2969,448,554,16,554,16,6\" style=\"stroke: #000000; stroke-width: 1.5;\"/><line style=\"stroke: #000000; stroke-width: 1.5;\" x1=\"16\" x2=\"165\" y1=\"28.2969\" y2=\"28.2969\"/><text fill=\"#000000\" font-family=\"sans-serif\" font-size=\"14\" font-weight=\"bold\" lengthAdjust=\"spacingAndGlyphs\" textLength=\"136\" x=\"20\" y=\"20.9951\">RequirementTest</text></a><!--MD5=[b4997ac47864f28c2f74865a473b2911]\n",
       "class E2--><a href=\"psysml:55e0c843-cabd-4238-9430-5e5ddb37e322\" target=\"_top\" title=\"psysml:55e0c843-cabd-4238-9430-5e5ddb37e322\" xlink:actuate=\"onRequest\" xlink:href=\"psysml:55e0c843-cabd-4238-9430-5e5ddb37e322\" xlink:show=\"new\" xlink:title=\"psysml:55e0c843-cabd-4238-9430-5e5ddb37e322\" xlink:type=\"simple\"><rect fill=\"#FEFECE\" filter=\"url(#f14xrgj2e26dpb)\" height=\"45.9375\" id=\"E2\" style=\"stroke: #A80036; stroke-width: 1.5;\" width=\"104\" x=\"328\" y=\"178\"/><text fill=\"#000000\" font-family=\"sans-serif\" font-size=\"12\" font-style=\"italic\" lengthAdjust=\"spacingAndGlyphs\" textLength=\"102\" x=\"329\" y=\"194.1387\">«constraint def»</text><text fill=\"#000000\" font-family=\"sans-serif\" font-size=\"12\" lengthAdjust=\"spacingAndGlyphs\" textLength=\"8\" x=\"376\" y=\"208.1074\">C</text><line style=\"stroke: #A80036; stroke-width: 1.5;\" x1=\"329\" x2=\"431\" y1=\"215.9375\" y2=\"215.9375\"/></a><!--MD5=[09b614a08d8cba4a07c9adeb5e0fee81]\n",
       "class E3--><a href=\"psysml:943270d7-f648-4f2b-99ed-798f0a01be75\" target=\"_top\" title=\"psysml:943270d7-f648-4f2b-99ed-798f0a01be75\" xlink:actuate=\"onRequest\" xlink:href=\"psysml:943270d7-f648-4f2b-99ed-798f0a01be75\" xlink:show=\"new\" xlink:title=\"psysml:943270d7-f648-4f2b-99ed-798f0a01be75\" xlink:type=\"simple\"><rect fill=\"#FEFECE\" filter=\"url(#f14xrgj2e26dpb)\" height=\"45.9375\" id=\"E3\" rx=\"10\" ry=\"10\" style=\"stroke: #A80036; stroke-width: 1.5;\" width=\"80\" x=\"352\" y=\"56\"/><text fill=\"#000000\" font-family=\"sans-serif\" font-size=\"12\" font-style=\"italic\" lengthAdjust=\"spacingAndGlyphs\" textLength=\"78\" x=\"353\" y=\"72.1387\">«constraint»</text><text fill=\"#000000\" font-family=\"sans-serif\" font-size=\"12\" lengthAdjust=\"spacingAndGlyphs\" textLength=\"23\" x=\"380.5\" y=\"86.1074\">c: C</text><line style=\"stroke: #A80036; stroke-width: 1.5;\" x1=\"353\" x2=\"431\" y1=\"93.9375\" y2=\"93.9375\"/></a><!--MD5=[ebbe1d658d1005bcc118a6aa81145e00]\n",
       "class E4--><a href=\"psysml:3547be1a-4b91-4a24-a66e-ac992d912d25\" target=\"_top\" title=\"psysml:3547be1a-4b91-4a24-a66e-ac992d912d25\" xlink:actuate=\"onRequest\" xlink:href=\"psysml:3547be1a-4b91-4a24-a66e-ac992d912d25\" xlink:show=\"new\" xlink:title=\"psysml:3547be1a-4b91-4a24-a66e-ac992d912d25\" xlink:type=\"simple\"><rect fill=\"#FEFECE\" filter=\"url(#f14xrgj2e26dpb)\" height=\"109.1563\" id=\"E4\" style=\"stroke: #A80036; stroke-width: 1.5;\" width=\"117\" x=\"32.5\" y=\"301\"/><text fill=\"#000000\" font-family=\"sans-serif\" font-size=\"12\" font-style=\"italic\" lengthAdjust=\"spacingAndGlyphs\" textLength=\"115\" x=\"33.5\" y=\"317.1387\">«requirement def»</text><text fill=\"#000000\" font-family=\"sans-serif\" font-size=\"12\" lengthAdjust=\"spacingAndGlyphs\" textLength=\"8\" x=\"87\" y=\"331.1074\">R</text><line style=\"stroke: #A80036; stroke-width: 1.5;\" x1=\"33.5\" x2=\"148.5\" y1=\"338.9375\" y2=\"338.9375\"/><text fill=\"#000000\" font-family=\"sans-serif\" font-size=\"11\" lengthAdjust=\"spacingAndGlyphs\" textLength=\"0\" x=\"42.5\" y=\"353.1479\"/><line style=\"stroke: #A80036; stroke-width: 1.0;\" x1=\"33.5\" x2=\"148.5\" y1=\"359.7422\" y2=\"359.7422\"/><text fill=\"#000000\" font-family=\"sans-serif\" font-size=\"11\" font-weight=\"bold\" lengthAdjust=\"spacingAndGlyphs\" textLength=\"46\" x=\"38.5\" y=\"390.7573\">require</text><text fill=\"#000000\" font-family=\"sans-serif\" font-size=\"11\" lengthAdjust=\"spacingAndGlyphs\" textLength=\"6\" x=\"88.5\" y=\"390.7573\">c</text><text fill=\"#000000\" font-family=\"sans-serif\" font-size=\"11\" font-style=\"italic\" lengthAdjust=\"spacingAndGlyphs\" textLength=\"46\" x=\"38.5\" y=\"403.562\">assume</text><text fill=\"#000000\" font-family=\"sans-serif\" font-size=\"11\" lengthAdjust=\"spacingAndGlyphs\" textLength=\"29\" x=\"88.5\" y=\"403.562\">c1: C</text><line style=\"stroke: #A80036; stroke-width: 1.0;\" x1=\"33.5\" x2=\"59\" y1=\"374.1445\" y2=\"374.1445\"/><text fill=\"#000000\" font-family=\"sans-serif\" font-size=\"11\" lengthAdjust=\"spacingAndGlyphs\" textLength=\"64\" x=\"59\" y=\"377.4526\">constraints</text><line style=\"stroke: #A80036; stroke-width: 1.0;\" x1=\"123\" x2=\"148.5\" y1=\"374.1445\" y2=\"374.1445\"/></a><!--MD5=[2156ba9850f5573cc1fc38a6a4b2f02b]\n",
       "class E7--><a href=\"psysml:5cc59123-afbd-4e9a-96fa-0bfa0b631260\" target=\"_top\" title=\"psysml:5cc59123-afbd-4e9a-96fa-0bfa0b631260\" xlink:actuate=\"onRequest\" xlink:href=\"psysml:5cc59123-afbd-4e9a-96fa-0bfa0b631260\" xlink:show=\"new\" xlink:title=\"psysml:5cc59123-afbd-4e9a-96fa-0bfa0b631260\" xlink:type=\"simple\"><rect fill=\"#FEFECE\" filter=\"url(#f14xrgj2e26dpb)\" height=\"45.9375\" id=\"E7\" rx=\"10\" ry=\"10\" style=\"stroke: #A80036; stroke-width: 1.5;\" width=\"93\" x=\"34.5\" y=\"481.5\"/><text fill=\"#000000\" font-family=\"sans-serif\" font-size=\"12\" font-style=\"italic\" lengthAdjust=\"spacingAndGlyphs\" textLength=\"91\" x=\"35.5\" y=\"497.6387\">«requirement»</text><text fill=\"#000000\" font-family=\"sans-serif\" font-size=\"12\" lengthAdjust=\"spacingAndGlyphs\" text-decoration=\"line-through\" textLength=\"51\" x=\"55.5\" y=\"511.6074\">noname</text><line style=\"stroke: #A80036; stroke-width: 1.5;\" x1=\"35.5\" x2=\"126.5\" y1=\"519.4375\" y2=\"519.4375\"/></a><!--MD5=[b9389687b975829384b498ac4b7476b2]\n",
       "class E8--><a href=\"psysml:49e593a4-f39b-4803-a2ce-02c26b916197\" target=\"_top\" title=\"psysml:49e593a4-f39b-4803-a2ce-02c26b916197\" xlink:actuate=\"onRequest\" xlink:href=\"psysml:49e593a4-f39b-4803-a2ce-02c26b916197\" xlink:show=\"new\" xlink:title=\"psysml:49e593a4-f39b-4803-a2ce-02c26b916197\" xlink:type=\"simple\"><rect fill=\"#FEFECE\" filter=\"url(#f14xrgj2e26dpb)\" height=\"66.7422\" id=\"E8\" style=\"stroke: #A80036; stroke-width: 1.5;\" width=\"117\" x=\"162.5\" y=\"471\"/><text fill=\"#000000\" font-family=\"sans-serif\" font-size=\"12\" font-style=\"italic\" lengthAdjust=\"spacingAndGlyphs\" textLength=\"115\" x=\"163.5\" y=\"487.1387\">«requirement def»</text><text fill=\"#000000\" font-family=\"sans-serif\" font-size=\"12\" lengthAdjust=\"spacingAndGlyphs\" textLength=\"5\" x=\"208\" y=\"501.1074\">[</text><text fill=\"#000000\" font-family=\"sans-serif\" font-size=\"12\" font-weight=\"bold\" lengthAdjust=\"spacingAndGlyphs\" textLength=\"8\" x=\"213\" y=\"501.1074\">1</text><text fill=\"#000000\" font-family=\"sans-serif\" font-size=\"12\" lengthAdjust=\"spacingAndGlyphs\" textLength=\"17\" x=\"221\" y=\"501.1074\">] A</text><line style=\"stroke: #A80036; stroke-width: 1.5;\" x1=\"163.5\" x2=\"278.5\" y1=\"508.9375\" y2=\"508.9375\"/><text fill=\"#000000\" font-family=\"sans-serif\" font-size=\"11\" lengthAdjust=\"spacingAndGlyphs\" textLength=\"24\" x=\"168.5\" y=\"523.1479\">Text</text><line style=\"stroke: #A80036; stroke-width: 1.0;\" x1=\"163.5\" x2=\"278.5\" y1=\"529.7422\" y2=\"529.7422\"/></a><!--MD5=[fd4143e9d270a159db93a4ea2a975926]\n",
       "class E9--><a href=\"psysml:79fb73d3-867b-49b4-8196-8eb6e64f62f0\" target=\"_top\" title=\"psysml:79fb73d3-867b-49b4-8196-8eb6e64f62f0\" xlink:actuate=\"onRequest\" xlink:href=\"psysml:79fb73d3-867b-49b4-8196-8eb6e64f62f0\" xlink:show=\"new\" xlink:title=\"psysml:79fb73d3-867b-49b4-8196-8eb6e64f62f0\" xlink:type=\"simple\"><rect fill=\"#FEFECE\" filter=\"url(#f14xrgj2e26dpb)\" height=\"76.4922\" id=\"E9\" style=\"stroke: #A80036; stroke-width: 1.5;\" width=\"207\" x=\"109.5\" y=\"41\"/><text fill=\"#000000\" font-family=\"sans-serif\" font-size=\"12\" font-style=\"italic\" lengthAdjust=\"spacingAndGlyphs\" textLength=\"115\" x=\"155.5\" y=\"57.1387\">«requirement def»</text><text fill=\"#000000\" font-family=\"sans-serif\" font-size=\"12\" lengthAdjust=\"spacingAndGlyphs\" textLength=\"16\" x=\"205\" y=\"71.1074\">R1</text><line style=\"stroke: #A80036; stroke-width: 1.5;\" x1=\"110.5\" x2=\"315.5\" y1=\"78.9375\" y2=\"78.9375\"/><text fill=\"#000000\" font-family=\"sans-serif\" font-size=\"11\" font-weight=\"bold\" lengthAdjust=\"spacingAndGlyphs\" textLength=\"46\" x=\"115.5\" y=\"110.8979\">require</text><text fill=\"#000000\" font-family=\"sans-serif\" font-size=\"11\" lengthAdjust=\"spacingAndGlyphs\" textLength=\"0\" x=\"165.5\" y=\"110.8979\"/><path d=\"M167.4167,100.6589 L167.4167,109.8255 L168.3333,109.8255 L168.3333,100.6589 M171.0833,100.6589 L171.0833,109.8255 L178.4167,105.2422 L171.0833,100.6589 L172,102.0339 L177.0417,105.2422 L172,108.4505 L172,102.0339 \" fill=\"#000000\" style=\"stroke: ; stroke-width: 0.0; stroke-dasharray: ;\"/><text fill=\"#000000\" font-family=\"sans-serif\" font-size=\"11\" lengthAdjust=\"spacingAndGlyphs\" textLength=\"13\" x=\"182.5\" y=\"110.8979\">c1</text><text fill=\"#000000\" font-family=\"sans-serif\" font-size=\"11\" lengthAdjust=\"spacingAndGlyphs\" text-decoration=\"line-through\" textLength=\"111\" x=\"199.5\" y=\"110.8979\">RequirementTest::c</text><line style=\"stroke: #A80036; stroke-width: 1.0;\" x1=\"110.5\" x2=\"181\" y1=\"93.3398\" y2=\"93.3398\"/><text fill=\"#000000\" font-family=\"sans-serif\" font-size=\"11\" lengthAdjust=\"spacingAndGlyphs\" textLength=\"64\" x=\"181\" y=\"96.6479\">constraints</text><line style=\"stroke: #A80036; stroke-width: 1.0;\" x1=\"245\" x2=\"315.5\" y1=\"93.3398\" y2=\"93.3398\"/></a><!--MD5=[1dd1bfd58a279cf63c5f349dbc8fc6a1]\n",
       "class E11--><a href=\"psysml:510a33c1-eff7-4e5e-90b4-a63ef5b72ae6\" target=\"_top\" title=\"psysml:510a33c1-eff7-4e5e-90b4-a63ef5b72ae6\" xlink:actuate=\"onRequest\" xlink:href=\"psysml:510a33c1-eff7-4e5e-90b4-a63ef5b72ae6\" xlink:show=\"new\" xlink:title=\"psysml:510a33c1-eff7-4e5e-90b4-a63ef5b72ae6\" xlink:type=\"simple\"><rect fill=\"#FEFECE\" filter=\"url(#f14xrgj2e26dpb)\" height=\"45.9375\" id=\"E11\" rx=\"10\" ry=\"10\" style=\"stroke: #A80036; stroke-width: 1.5;\" width=\"42\" x=\"185\" y=\"332.5\"/><text fill=\"#000000\" font-family=\"sans-serif\" font-size=\"12\" font-style=\"italic\" lengthAdjust=\"spacingAndGlyphs\" textLength=\"40\" x=\"186\" y=\"348.6387\">«part»</text><text fill=\"#000000\" font-family=\"sans-serif\" font-size=\"12\" lengthAdjust=\"spacingAndGlyphs\" textLength=\"8\" x=\"202\" y=\"362.6074\">p</text><line style=\"stroke: #A80036; stroke-width: 1.5;\" x1=\"186\" x2=\"226\" y1=\"370.4375\" y2=\"370.4375\"/></a><!--MD5=[49a0ec8f00dab7302a31f22d0f0fe584]\n",
       "class E12--><a href=\"psysml:a6cd5ff6-20a0-4014-8266-5a2f114de57c\" target=\"_top\" title=\"psysml:a6cd5ff6-20a0-4014-8266-5a2f114de57c\" xlink:actuate=\"onRequest\" xlink:href=\"psysml:a6cd5ff6-20a0-4014-8266-5a2f114de57c\" xlink:show=\"new\" xlink:title=\"psysml:a6cd5ff6-20a0-4014-8266-5a2f114de57c\" xlink:type=\"simple\"><rect fill=\"#FEFECE\" filter=\"url(#f14xrgj2e26dpb)\" height=\"45.9375\" id=\"E12\" rx=\"10\" ry=\"10\" style=\"stroke: #A80036; stroke-width: 1.5;\" width=\"42\" x=\"32\" y=\"56\"/><text fill=\"#000000\" font-family=\"sans-serif\" font-size=\"12\" font-style=\"italic\" lengthAdjust=\"spacingAndGlyphs\" textLength=\"40\" x=\"33\" y=\"72.1387\">«part»</text><text fill=\"#000000\" font-family=\"sans-serif\" font-size=\"12\" lengthAdjust=\"spacingAndGlyphs\" textLength=\"8\" x=\"49\" y=\"86.1074\">q</text><line style=\"stroke: #A80036; stroke-width: 1.5;\" x1=\"33\" x2=\"73\" y1=\"93.9375\" y2=\"93.9375\"/></a><!--MD5=[ee3c913d1a06f366521f9ef512b67efe]\n",
       "class E13--><a href=\"psysml:50b94a4a-7c4d-4845-a3da-b360d2df1f8c\" target=\"_top\" title=\"psysml:50b94a4a-7c4d-4845-a3da-b360d2df1f8c\" xlink:actuate=\"onRequest\" xlink:href=\"psysml:50b94a4a-7c4d-4845-a3da-b360d2df1f8c\" xlink:show=\"new\" xlink:title=\"psysml:50b94a4a-7c4d-4845-a3da-b360d2df1f8c\" xlink:type=\"simple\"><rect fill=\"#FEFECE\" filter=\"url(#f14xrgj2e26dpb)\" height=\"45.9375\" id=\"E13\" rx=\"10\" ry=\"10\" style=\"stroke: #A80036; stroke-width: 1.5;\" width=\"93\" x=\"44.5\" y=\"178\"/><text fill=\"#000000\" font-family=\"sans-serif\" font-size=\"12\" font-style=\"italic\" lengthAdjust=\"spacingAndGlyphs\" textLength=\"91\" x=\"45.5\" y=\"194.1387\">«requirement»</text><text fill=\"#000000\" font-family=\"sans-serif\" font-size=\"12\" lengthAdjust=\"spacingAndGlyphs\" textLength=\"21\" x=\"80.5\" y=\"208.1074\">r: R</text><line style=\"stroke: #A80036; stroke-width: 1.5;\" x1=\"45.5\" x2=\"136.5\" y1=\"215.9375\" y2=\"215.9375\"/></a><!--MD5=[05d275557350bfb9b23a4ef7222b4c39]\n",
       "link E3 to E2--><a href=\"psysml:e8229714-231f-4f2a-9005-056b1e69efb5\" target=\"_top\" title=\"psysml:e8229714-231f-4f2a-9005-056b1e69efb5\" xlink:actuate=\"onRequest\" xlink:href=\"psysml:e8229714-231f-4f2a-9005-056b1e69efb5\" xlink:show=\"new\" xlink:title=\"psysml:e8229714-231f-4f2a-9005-056b1e69efb5\" xlink:type=\"simple\"><path d=\"M389.8,102.01 C388.24,117.56 386.11,138.89 384.23,157.68 \" fill=\"none\" id=\"E3-&gt;E2\" style=\"stroke: #A80036; stroke-width: 1.0;\"/><polygon fill=\"#FFFFFF\" points=\"382.23,177.72,377.1511,158.1188,391.0819,159.5089,382.23,177.72\" style=\"stroke: #A80036; stroke-width: 1.0;\"/><ellipse cx=\"379.7072\" cy=\"152.6456\" fill=\"#A80036\" rx=\"2\" ry=\"2\" style=\"stroke: #A80036; stroke-width: 1.0;\"/><ellipse cx=\"389.6578\" cy=\"153.6385\" fill=\"#A80036\" rx=\"2\" ry=\"2\" style=\"stroke: #A80036; stroke-width: 1.0;\"/></a><!--MD5=[722ff4eef345aa10242dad44df0e98c7]\n",
       "reverse link E4 to E7--><a href=\"psysml:eafce8af-10f9-4af7-9431-7513cc7d3347\" target=\"_top\" title=\"psysml:eafce8af-10f9-4af7-9431-7513cc7d3347\" xlink:actuate=\"onRequest\" xlink:href=\"psysml:eafce8af-10f9-4af7-9431-7513cc7d3347\" xlink:show=\"new\" xlink:title=\"psysml:eafce8af-10f9-4af7-9431-7513cc7d3347\" xlink:type=\"simple\"><path d=\"M86.44,423.59 C85.02,444.46 83.55,466.02 82.5,481.48 \" fill=\"none\" id=\"E4&lt;-E7\" style=\"stroke: #A80036; stroke-width: 1.0;\"/><polygon fill=\"#A80036\" points=\"87.33,410.4,82.9306,416.1136,86.5125,422.3721,90.912,416.6586,87.33,410.4\" style=\"stroke: #A80036; stroke-width: 1.0;\"/></a><!--MD5=[c6fc7cdb0cabde04948078cf183fa696]\n",
       "reverse link E4 to E8--><a href=\"psysml:a0130814-5dc8-48af-af1a-9e985463643e\" target=\"_top\" title=\"psysml:a0130814-5dc8-48af-af1a-9e985463643e\" xlink:actuate=\"onRequest\" xlink:href=\"psysml:a0130814-5dc8-48af-af1a-9e985463643e\" xlink:show=\"new\" xlink:title=\"psysml:a0130814-5dc8-48af-af1a-9e985463643e\" xlink:type=\"simple\"><path d=\"M148.94,422.02 C163.95,438.99 179.47,456.53 192.24,470.98 \" fill=\"none\" id=\"E4&lt;-E8\" style=\"stroke: #A80036; stroke-width: 1.0;\"/><ellipse cx=\"143.9698\" cy=\"416.3927\" fill=\"#FFFFFF\" rx=\"8\" ry=\"8\" style=\"stroke: #A80036; stroke-width: 1.0;\"/><line style=\"stroke: #A80036; stroke-width: 1.0;\" x1=\"149.2695\" x2=\"138.67\" y1=\"422.3854\" y2=\"410.4\"/><line style=\"stroke: #A80036; stroke-width: 1.0;\" x1=\"137.9771\" x2=\"149.9625\" y1=\"421.6925\" y2=\"411.0929\"/></a><!--MD5=[062ed86c389d1a88f61c6380d0491e17]\n",
       "reverse link E12 to E13--><a href=\"psysml:044b978f-2385-4425-992f-2d75b645c055\" target=\"_top\" title=\"psysml:044b978f-2385-4425-992f-2d75b645c055\" xlink:actuate=\"onRequest\" xlink:href=\"psysml:044b978f-2385-4425-992f-2d75b645c055\" xlink:show=\"new\" xlink:title=\"psysml:044b978f-2385-4425-992f-2d75b645c055\" xlink:type=\"simple\"><path d=\"M63.94,114.55 C70.38,134.88 78.33,160 83.95,177.72 \" fill=\"none\" id=\"E12&lt;-E13\" style=\"stroke: #A80036; stroke-width: 1.0;\"/><polygon fill=\"#A80036\" points=\"59.97,102.01,57.9712,108.9386,63.5981,113.4484,65.5968,106.5198,59.97,102.01\" style=\"stroke: #A80036; stroke-width: 1.0;\"/></a><!--MD5=[017847e01ff9a8bd19f247411074f987]\n",
       "link E13 to E4--><a href=\"psysml:279d9c9b-21cb-4076-8967-339bf6a79b4c\" target=\"_top\" title=\"psysml:279d9c9b-21cb-4076-8967-339bf6a79b4c\" xlink:actuate=\"onRequest\" xlink:href=\"psysml:279d9c9b-21cb-4076-8967-339bf6a79b4c\" xlink:show=\"new\" xlink:title=\"psysml:279d9c9b-21cb-4076-8967-339bf6a79b4c\" xlink:type=\"simple\"><path d=\"M91,224.17 C91,239.17 91,259.91 91,280.44 \" fill=\"none\" id=\"E13-&gt;E4\" style=\"stroke: #A80036; stroke-width: 1.0;\"/><polygon fill=\"#FFFFFF\" points=\"91,300.68,84,281.68,98,281.68,91,300.68\" style=\"stroke: #A80036; stroke-width: 1.0;\"/><ellipse cx=\"86\" cy=\"275.98\" fill=\"#A80036\" rx=\"2\" ry=\"2\" style=\"stroke: #A80036; stroke-width: 1.0;\"/><ellipse cx=\"96\" cy=\"275.98\" fill=\"#A80036\" rx=\"2\" ry=\"2\" style=\"stroke: #A80036; stroke-width: 1.0;\"/></a><!--MD5=[2cfe899c895462254056921bfb67315f]\n",
       "link E13 to E11--><a href=\"psysml:fcf36e7c-2665-4a1d-8cf4-6fcc5b08ef04\" target=\"_top\" title=\"psysml:fcf36e7c-2665-4a1d-8cf4-6fcc5b08ef04\" xlink:actuate=\"onRequest\" xlink:href=\"psysml:fcf36e7c-2665-4a1d-8cf4-6fcc5b08ef04\" xlink:show=\"new\" xlink:title=\"psysml:fcf36e7c-2665-4a1d-8cf4-6fcc5b08ef04\" xlink:type=\"simple\"><path d=\"M108.36,224.29 C123.87,244.28 147.14,274.45 167,301 C173.57,309.78 180.66,319.44 186.97,328.12 \" fill=\"none\" id=\"E13-&gt;E11\" style=\"stroke: #A80036; stroke-width: 1.0; stroke-dasharray: 7.0,7.0;\"/><polygon fill=\"#A80036\" points=\"189.99,332.28,187.9274,322.6496,187.0474,328.2376,181.4594,327.3576,189.99,332.28\" style=\"stroke: #A80036; stroke-width: 1.0;\"/><text fill=\"#000000\" font-family=\"sans-serif\" font-size=\"13\" lengthAdjust=\"spacingAndGlyphs\" textLength=\"57\" x=\"145\" y=\"267.0669\">«satisfy»</text></a><!--MD5=[7dc8db304b6b1760f1c7e0a20cc0dcf0]\n",
       "@startuml\r\n",
       "skinparam wrapWidth 300\r\n",
       "hide circle\r\n",
       "\r\n",
       "package \"RequirementTest\" as E1  [[psysml:f822a5b9-f637-4bfc-9356-d45755be39c3 ]]  {\r\n",
       "comp def \"C\" as E2  <<(T,blue)constraint def>> [[psysml:55e0c843-cabd-4238-9430-5e5ddb37e322 ]] {\r\n",
       "}\r\n",
       "comp usage \"c: C\" as E3  <<(T,blue)constraint>> [[psysml:943270d7-f648-4f2b-99ed-798f0a01be75 ]] {\r\n",
       "}\r\n",
       "comp def \"R\" as E4  <<(T,blue)requirement def>> [[psysml:3547be1a-4b91-4a24-a66e-ac992d912d25 ]] {\r\n",
       "\r\n",
       "- -\r\n",
       "- - constraints - -\r\n",
       "<b>require</b> c\r\n",
       "<i>assume</i> c1: C\r\n",
       "}\r\n",
       "comp usage \"<s>noname</s>\" as E7  <<(T,blue)requirement>> [[psysml:5cc59123-afbd-4e9a-96fa-0bfa0b631260 ]] {\r\n",
       "}\r\n",
       "comp def \" [<b>1</b>] A\" as E8  <<(T,blue)requirement def>> [[psysml:49e593a4-f39b-4803-a2ce-02c26b916197 ]] {\r\n",
       "Text\r\n",
       "- -\r\n",
       "}\r\n",
       "comp def \"R1\" as E9  <<(T,blue)requirement def>> [[psysml:79fb73d3-867b-49b4-8196-8eb6e64f62f0 ]] {\r\n",
       "- - constraints - -\r\n",
       "<b>require</b> <&bar-trig> c1 <s>RequirementTest::c</s>\r\n",
       "}\r\n",
       "comp usage \"p\" as E11  <<(T,blue)part>> [[psysml:510a33c1-eff7-4e5e-90b4-a63ef5b72ae6 ]] {\r\n",
       "}\r\n",
       "comp usage \"q\" as E12  <<(T,blue)part>> [[psysml:a6cd5ff6-20a0-4014-8266-5a2f114de57c ]] {\r\n",
       "}\r\n",
       "comp usage \"r: R\" as E13  <<(T,blue)requirement>> [[psysml:50b94a4a-7c4d-4845-a3da-b360d2df1f8c ]] {\r\n",
       "}\r\n",
       "E3 - -:|> E2 [[psysml:e8229714-231f-4f2a-9005-056b1e69efb5 ]] \r\n",
       "E4 *- - E7 [[psysml:eafce8af-10f9-4af7-9431-7513cc7d3347 ]] \r\n",
       "E4 +- - E8 [[psysml:a0130814-5dc8-48af-af1a-9e985463643e ]] \r\n",
       "E12 *- - E13 [[psysml:044b978f-2385-4425-992f-2d75b645c055 ]] \r\n",
       "E13 - -:|> E4 [[psysml:279d9c9b-21cb-4076-8967-339bf6a79b4c ]] \r\n",
       "E13 ..> E11 [[psysml:fcf36e7c-2665-4a1d-8cf4-6fcc5b08ef04 ]] : <<satisfy>>\r\n",
       "}\r\n",
       "@enduml\r\n",
       "\n",
       "PlantUML version 1.2020.13(Sat Jun 13 12:26:38 UTC 2020)\n",
       "(EPL source distribution)\n",
       "Java Runtime: OpenJDK Runtime Environment\n",
       "JVM: OpenJDK 64-Bit Server VM\n",
       "Default Encoding: UTF-8\n",
       "Language: en\n",
       "Country: null\n",
       "--></g></svg>"
      ]
     },
     "execution_count": 28,
     "metadata": {},
     "output_type": "execute_result"
    }
   ],
   "source": [
    "%viz --style=\"STDCOLOR\" --view=\"Sequence\" \"RequirementTest\""
   ]
  },
  {
   "cell_type": "code",
   "execution_count": 29,
   "id": "d349e98d",
   "metadata": {
    "execution": {
     "iopub.execute_input": "2021-04-21T20:21:29.519952Z",
     "iopub.status.busy": "2021-04-21T20:21:29.519503Z",
     "iopub.status.idle": "2021-04-21T20:21:29.631644Z",
     "shell.execute_reply": "2021-04-21T20:21:29.631318Z"
    }
   },
   "outputs": [
    {
     "data": {
      "image/svg+xml": [
       "<?xml version=\"1.0\" encoding=\"UTF-8\" standalone=\"no\"?><svg xmlns=\"http://www.w3.org/2000/svg\" xmlns:xlink=\"http://www.w3.org/1999/xlink\" contentScriptType=\"application/ecmascript\" contentStyleType=\"text/css\" height=\"566px\" preserveAspectRatio=\"none\" style=\"width:470px;height:566px;\" version=\"1.1\" viewBox=\"0 0 470 566\" width=\"470px\" zoomAndPan=\"magnify\"><defs><filter height=\"300%\" id=\"f14xrgj2e26dpb\" width=\"300%\" x=\"-1\" y=\"-1\"><feGaussianBlur result=\"blurOut\" stdDeviation=\"2.0\"/><feColorMatrix in=\"blurOut\" result=\"blurOut2\" type=\"matrix\" values=\"0 0 0 0 0 0 0 0 0 0 0 0 0 0 0 0 0 0 .4 0\"/><feOffset dx=\"4.0\" dy=\"4.0\" in=\"blurOut2\" result=\"blurOut3\"/><feBlend in=\"SourceGraphic\" in2=\"blurOut3\" mode=\"normal\"/></filter></defs><g><!--MD5=[fbc87193dbaf4d95561dea2c320d4a47]\n",
       "cluster E1--><a href=\"psysml:f822a5b9-f637-4bfc-9356-d45755be39c3\" target=\"_top\" title=\"psysml:f822a5b9-f637-4bfc-9356-d45755be39c3\" xlink:actuate=\"onRequest\" xlink:href=\"psysml:f822a5b9-f637-4bfc-9356-d45755be39c3\" xlink:show=\"new\" xlink:title=\"psysml:f822a5b9-f637-4bfc-9356-d45755be39c3\" xlink:type=\"simple\"><polygon fill=\"#FFFFFF\" filter=\"url(#f14xrgj2e26dpb)\" points=\"16,6,158,6,165,28.2969,448,28.2969,448,554,16,554,16,6\" style=\"stroke: #000000; stroke-width: 1.5;\"/><line style=\"stroke: #000000; stroke-width: 1.5;\" x1=\"16\" x2=\"165\" y1=\"28.2969\" y2=\"28.2969\"/><text fill=\"#000000\" font-family=\"sans-serif\" font-size=\"14\" font-weight=\"bold\" lengthAdjust=\"spacingAndGlyphs\" textLength=\"136\" x=\"20\" y=\"20.9951\">RequirementTest</text></a><!--MD5=[b4997ac47864f28c2f74865a473b2911]\n",
       "class E2--><a href=\"psysml:55e0c843-cabd-4238-9430-5e5ddb37e322\" target=\"_top\" title=\"psysml:55e0c843-cabd-4238-9430-5e5ddb37e322\" xlink:actuate=\"onRequest\" xlink:href=\"psysml:55e0c843-cabd-4238-9430-5e5ddb37e322\" xlink:show=\"new\" xlink:title=\"psysml:55e0c843-cabd-4238-9430-5e5ddb37e322\" xlink:type=\"simple\"><rect fill=\"#FEFECE\" filter=\"url(#f14xrgj2e26dpb)\" height=\"45.9375\" id=\"E2\" style=\"stroke: #A80036; stroke-width: 1.5;\" width=\"104\" x=\"328\" y=\"178\"/><text fill=\"#000000\" font-family=\"sans-serif\" font-size=\"12\" font-style=\"italic\" lengthAdjust=\"spacingAndGlyphs\" textLength=\"102\" x=\"329\" y=\"194.1387\">«constraint def»</text><text fill=\"#000000\" font-family=\"sans-serif\" font-size=\"12\" lengthAdjust=\"spacingAndGlyphs\" textLength=\"8\" x=\"376\" y=\"208.1074\">C</text><line style=\"stroke: #A80036; stroke-width: 1.5;\" x1=\"329\" x2=\"431\" y1=\"215.9375\" y2=\"215.9375\"/></a><!--MD5=[09b614a08d8cba4a07c9adeb5e0fee81]\n",
       "class E3--><a href=\"psysml:943270d7-f648-4f2b-99ed-798f0a01be75\" target=\"_top\" title=\"psysml:943270d7-f648-4f2b-99ed-798f0a01be75\" xlink:actuate=\"onRequest\" xlink:href=\"psysml:943270d7-f648-4f2b-99ed-798f0a01be75\" xlink:show=\"new\" xlink:title=\"psysml:943270d7-f648-4f2b-99ed-798f0a01be75\" xlink:type=\"simple\"><rect fill=\"#FEFECE\" filter=\"url(#f14xrgj2e26dpb)\" height=\"45.9375\" id=\"E3\" rx=\"10\" ry=\"10\" style=\"stroke: #A80036; stroke-width: 1.5;\" width=\"80\" x=\"352\" y=\"56\"/><text fill=\"#000000\" font-family=\"sans-serif\" font-size=\"12\" font-style=\"italic\" lengthAdjust=\"spacingAndGlyphs\" textLength=\"78\" x=\"353\" y=\"72.1387\">«constraint»</text><text fill=\"#000000\" font-family=\"sans-serif\" font-size=\"12\" lengthAdjust=\"spacingAndGlyphs\" textLength=\"23\" x=\"380.5\" y=\"86.1074\">c: C</text><line style=\"stroke: #A80036; stroke-width: 1.5;\" x1=\"353\" x2=\"431\" y1=\"93.9375\" y2=\"93.9375\"/></a><!--MD5=[ebbe1d658d1005bcc118a6aa81145e00]\n",
       "class E4--><a href=\"psysml:3547be1a-4b91-4a24-a66e-ac992d912d25\" target=\"_top\" title=\"psysml:3547be1a-4b91-4a24-a66e-ac992d912d25\" xlink:actuate=\"onRequest\" xlink:href=\"psysml:3547be1a-4b91-4a24-a66e-ac992d912d25\" xlink:show=\"new\" xlink:title=\"psysml:3547be1a-4b91-4a24-a66e-ac992d912d25\" xlink:type=\"simple\"><rect fill=\"#FEFECE\" filter=\"url(#f14xrgj2e26dpb)\" height=\"109.1563\" id=\"E4\" style=\"stroke: #A80036; stroke-width: 1.5;\" width=\"117\" x=\"32.5\" y=\"301\"/><text fill=\"#000000\" font-family=\"sans-serif\" font-size=\"12\" font-style=\"italic\" lengthAdjust=\"spacingAndGlyphs\" textLength=\"115\" x=\"33.5\" y=\"317.1387\">«requirement def»</text><text fill=\"#000000\" font-family=\"sans-serif\" font-size=\"12\" lengthAdjust=\"spacingAndGlyphs\" textLength=\"8\" x=\"87\" y=\"331.1074\">R</text><line style=\"stroke: #A80036; stroke-width: 1.5;\" x1=\"33.5\" x2=\"148.5\" y1=\"338.9375\" y2=\"338.9375\"/><text fill=\"#000000\" font-family=\"sans-serif\" font-size=\"11\" lengthAdjust=\"spacingAndGlyphs\" textLength=\"0\" x=\"42.5\" y=\"353.1479\"/><line style=\"stroke: #A80036; stroke-width: 1.0;\" x1=\"33.5\" x2=\"148.5\" y1=\"359.7422\" y2=\"359.7422\"/><text fill=\"#000000\" font-family=\"sans-serif\" font-size=\"11\" font-weight=\"bold\" lengthAdjust=\"spacingAndGlyphs\" textLength=\"46\" x=\"38.5\" y=\"390.7573\">require</text><text fill=\"#000000\" font-family=\"sans-serif\" font-size=\"11\" lengthAdjust=\"spacingAndGlyphs\" textLength=\"6\" x=\"88.5\" y=\"390.7573\">c</text><text fill=\"#000000\" font-family=\"sans-serif\" font-size=\"11\" font-style=\"italic\" lengthAdjust=\"spacingAndGlyphs\" textLength=\"46\" x=\"38.5\" y=\"403.562\">assume</text><text fill=\"#000000\" font-family=\"sans-serif\" font-size=\"11\" lengthAdjust=\"spacingAndGlyphs\" textLength=\"29\" x=\"88.5\" y=\"403.562\">c1: C</text><line style=\"stroke: #A80036; stroke-width: 1.0;\" x1=\"33.5\" x2=\"59\" y1=\"374.1445\" y2=\"374.1445\"/><text fill=\"#000000\" font-family=\"sans-serif\" font-size=\"11\" lengthAdjust=\"spacingAndGlyphs\" textLength=\"64\" x=\"59\" y=\"377.4526\">constraints</text><line style=\"stroke: #A80036; stroke-width: 1.0;\" x1=\"123\" x2=\"148.5\" y1=\"374.1445\" y2=\"374.1445\"/></a><!--MD5=[2156ba9850f5573cc1fc38a6a4b2f02b]\n",
       "class E7--><a href=\"psysml:5cc59123-afbd-4e9a-96fa-0bfa0b631260\" target=\"_top\" title=\"psysml:5cc59123-afbd-4e9a-96fa-0bfa0b631260\" xlink:actuate=\"onRequest\" xlink:href=\"psysml:5cc59123-afbd-4e9a-96fa-0bfa0b631260\" xlink:show=\"new\" xlink:title=\"psysml:5cc59123-afbd-4e9a-96fa-0bfa0b631260\" xlink:type=\"simple\"><rect fill=\"#FEFECE\" filter=\"url(#f14xrgj2e26dpb)\" height=\"45.9375\" id=\"E7\" rx=\"10\" ry=\"10\" style=\"stroke: #A80036; stroke-width: 1.5;\" width=\"93\" x=\"34.5\" y=\"481.5\"/><text fill=\"#000000\" font-family=\"sans-serif\" font-size=\"12\" font-style=\"italic\" lengthAdjust=\"spacingAndGlyphs\" textLength=\"91\" x=\"35.5\" y=\"497.6387\">«requirement»</text><text fill=\"#000000\" font-family=\"sans-serif\" font-size=\"12\" lengthAdjust=\"spacingAndGlyphs\" text-decoration=\"line-through\" textLength=\"51\" x=\"55.5\" y=\"511.6074\">noname</text><line style=\"stroke: #A80036; stroke-width: 1.5;\" x1=\"35.5\" x2=\"126.5\" y1=\"519.4375\" y2=\"519.4375\"/></a><!--MD5=[b9389687b975829384b498ac4b7476b2]\n",
       "class E8--><a href=\"psysml:49e593a4-f39b-4803-a2ce-02c26b916197\" target=\"_top\" title=\"psysml:49e593a4-f39b-4803-a2ce-02c26b916197\" xlink:actuate=\"onRequest\" xlink:href=\"psysml:49e593a4-f39b-4803-a2ce-02c26b916197\" xlink:show=\"new\" xlink:title=\"psysml:49e593a4-f39b-4803-a2ce-02c26b916197\" xlink:type=\"simple\"><rect fill=\"#FEFECE\" filter=\"url(#f14xrgj2e26dpb)\" height=\"66.7422\" id=\"E8\" style=\"stroke: #A80036; stroke-width: 1.5;\" width=\"117\" x=\"162.5\" y=\"471\"/><text fill=\"#000000\" font-family=\"sans-serif\" font-size=\"12\" font-style=\"italic\" lengthAdjust=\"spacingAndGlyphs\" textLength=\"115\" x=\"163.5\" y=\"487.1387\">«requirement def»</text><text fill=\"#000000\" font-family=\"sans-serif\" font-size=\"12\" lengthAdjust=\"spacingAndGlyphs\" textLength=\"5\" x=\"208\" y=\"501.1074\">[</text><text fill=\"#000000\" font-family=\"sans-serif\" font-size=\"12\" font-weight=\"bold\" lengthAdjust=\"spacingAndGlyphs\" textLength=\"8\" x=\"213\" y=\"501.1074\">1</text><text fill=\"#000000\" font-family=\"sans-serif\" font-size=\"12\" lengthAdjust=\"spacingAndGlyphs\" textLength=\"17\" x=\"221\" y=\"501.1074\">] A</text><line style=\"stroke: #A80036; stroke-width: 1.5;\" x1=\"163.5\" x2=\"278.5\" y1=\"508.9375\" y2=\"508.9375\"/><text fill=\"#000000\" font-family=\"sans-serif\" font-size=\"11\" lengthAdjust=\"spacingAndGlyphs\" textLength=\"24\" x=\"168.5\" y=\"523.1479\">Text</text><line style=\"stroke: #A80036; stroke-width: 1.0;\" x1=\"163.5\" x2=\"278.5\" y1=\"529.7422\" y2=\"529.7422\"/></a><!--MD5=[fd4143e9d270a159db93a4ea2a975926]\n",
       "class E9--><a href=\"psysml:79fb73d3-867b-49b4-8196-8eb6e64f62f0\" target=\"_top\" title=\"psysml:79fb73d3-867b-49b4-8196-8eb6e64f62f0\" xlink:actuate=\"onRequest\" xlink:href=\"psysml:79fb73d3-867b-49b4-8196-8eb6e64f62f0\" xlink:show=\"new\" xlink:title=\"psysml:79fb73d3-867b-49b4-8196-8eb6e64f62f0\" xlink:type=\"simple\"><rect fill=\"#FEFECE\" filter=\"url(#f14xrgj2e26dpb)\" height=\"76.4922\" id=\"E9\" style=\"stroke: #A80036; stroke-width: 1.5;\" width=\"207\" x=\"109.5\" y=\"41\"/><text fill=\"#000000\" font-family=\"sans-serif\" font-size=\"12\" font-style=\"italic\" lengthAdjust=\"spacingAndGlyphs\" textLength=\"115\" x=\"155.5\" y=\"57.1387\">«requirement def»</text><text fill=\"#000000\" font-family=\"sans-serif\" font-size=\"12\" lengthAdjust=\"spacingAndGlyphs\" textLength=\"16\" x=\"205\" y=\"71.1074\">R1</text><line style=\"stroke: #A80036; stroke-width: 1.5;\" x1=\"110.5\" x2=\"315.5\" y1=\"78.9375\" y2=\"78.9375\"/><text fill=\"#000000\" font-family=\"sans-serif\" font-size=\"11\" font-weight=\"bold\" lengthAdjust=\"spacingAndGlyphs\" textLength=\"46\" x=\"115.5\" y=\"110.8979\">require</text><text fill=\"#000000\" font-family=\"sans-serif\" font-size=\"11\" lengthAdjust=\"spacingAndGlyphs\" textLength=\"0\" x=\"165.5\" y=\"110.8979\"/><path d=\"M167.4167,100.6589 L167.4167,109.8255 L168.3333,109.8255 L168.3333,100.6589 M171.0833,100.6589 L171.0833,109.8255 L178.4167,105.2422 L171.0833,100.6589 L172,102.0339 L177.0417,105.2422 L172,108.4505 L172,102.0339 \" fill=\"#000000\" style=\"stroke: ; stroke-width: 0.0; stroke-dasharray: ;\"/><text fill=\"#000000\" font-family=\"sans-serif\" font-size=\"11\" lengthAdjust=\"spacingAndGlyphs\" textLength=\"13\" x=\"182.5\" y=\"110.8979\">c1</text><text fill=\"#000000\" font-family=\"sans-serif\" font-size=\"11\" lengthAdjust=\"spacingAndGlyphs\" text-decoration=\"line-through\" textLength=\"111\" x=\"199.5\" y=\"110.8979\">RequirementTest::c</text><line style=\"stroke: #A80036; stroke-width: 1.0;\" x1=\"110.5\" x2=\"181\" y1=\"93.3398\" y2=\"93.3398\"/><text fill=\"#000000\" font-family=\"sans-serif\" font-size=\"11\" lengthAdjust=\"spacingAndGlyphs\" textLength=\"64\" x=\"181\" y=\"96.6479\">constraints</text><line style=\"stroke: #A80036; stroke-width: 1.0;\" x1=\"245\" x2=\"315.5\" y1=\"93.3398\" y2=\"93.3398\"/></a><!--MD5=[1dd1bfd58a279cf63c5f349dbc8fc6a1]\n",
       "class E11--><a href=\"psysml:510a33c1-eff7-4e5e-90b4-a63ef5b72ae6\" target=\"_top\" title=\"psysml:510a33c1-eff7-4e5e-90b4-a63ef5b72ae6\" xlink:actuate=\"onRequest\" xlink:href=\"psysml:510a33c1-eff7-4e5e-90b4-a63ef5b72ae6\" xlink:show=\"new\" xlink:title=\"psysml:510a33c1-eff7-4e5e-90b4-a63ef5b72ae6\" xlink:type=\"simple\"><rect fill=\"#FEFECE\" filter=\"url(#f14xrgj2e26dpb)\" height=\"45.9375\" id=\"E11\" rx=\"10\" ry=\"10\" style=\"stroke: #A80036; stroke-width: 1.5;\" width=\"42\" x=\"185\" y=\"332.5\"/><text fill=\"#000000\" font-family=\"sans-serif\" font-size=\"12\" font-style=\"italic\" lengthAdjust=\"spacingAndGlyphs\" textLength=\"40\" x=\"186\" y=\"348.6387\">«part»</text><text fill=\"#000000\" font-family=\"sans-serif\" font-size=\"12\" lengthAdjust=\"spacingAndGlyphs\" textLength=\"8\" x=\"202\" y=\"362.6074\">p</text><line style=\"stroke: #A80036; stroke-width: 1.5;\" x1=\"186\" x2=\"226\" y1=\"370.4375\" y2=\"370.4375\"/></a><!--MD5=[49a0ec8f00dab7302a31f22d0f0fe584]\n",
       "class E12--><a href=\"psysml:a6cd5ff6-20a0-4014-8266-5a2f114de57c\" target=\"_top\" title=\"psysml:a6cd5ff6-20a0-4014-8266-5a2f114de57c\" xlink:actuate=\"onRequest\" xlink:href=\"psysml:a6cd5ff6-20a0-4014-8266-5a2f114de57c\" xlink:show=\"new\" xlink:title=\"psysml:a6cd5ff6-20a0-4014-8266-5a2f114de57c\" xlink:type=\"simple\"><rect fill=\"#FEFECE\" filter=\"url(#f14xrgj2e26dpb)\" height=\"45.9375\" id=\"E12\" rx=\"10\" ry=\"10\" style=\"stroke: #A80036; stroke-width: 1.5;\" width=\"42\" x=\"32\" y=\"56\"/><text fill=\"#000000\" font-family=\"sans-serif\" font-size=\"12\" font-style=\"italic\" lengthAdjust=\"spacingAndGlyphs\" textLength=\"40\" x=\"33\" y=\"72.1387\">«part»</text><text fill=\"#000000\" font-family=\"sans-serif\" font-size=\"12\" lengthAdjust=\"spacingAndGlyphs\" textLength=\"8\" x=\"49\" y=\"86.1074\">q</text><line style=\"stroke: #A80036; stroke-width: 1.5;\" x1=\"33\" x2=\"73\" y1=\"93.9375\" y2=\"93.9375\"/></a><!--MD5=[ee3c913d1a06f366521f9ef512b67efe]\n",
       "class E13--><a href=\"psysml:50b94a4a-7c4d-4845-a3da-b360d2df1f8c\" target=\"_top\" title=\"psysml:50b94a4a-7c4d-4845-a3da-b360d2df1f8c\" xlink:actuate=\"onRequest\" xlink:href=\"psysml:50b94a4a-7c4d-4845-a3da-b360d2df1f8c\" xlink:show=\"new\" xlink:title=\"psysml:50b94a4a-7c4d-4845-a3da-b360d2df1f8c\" xlink:type=\"simple\"><rect fill=\"#FEFECE\" filter=\"url(#f14xrgj2e26dpb)\" height=\"45.9375\" id=\"E13\" rx=\"10\" ry=\"10\" style=\"stroke: #A80036; stroke-width: 1.5;\" width=\"93\" x=\"44.5\" y=\"178\"/><text fill=\"#000000\" font-family=\"sans-serif\" font-size=\"12\" font-style=\"italic\" lengthAdjust=\"spacingAndGlyphs\" textLength=\"91\" x=\"45.5\" y=\"194.1387\">«requirement»</text><text fill=\"#000000\" font-family=\"sans-serif\" font-size=\"12\" lengthAdjust=\"spacingAndGlyphs\" textLength=\"21\" x=\"80.5\" y=\"208.1074\">r: R</text><line style=\"stroke: #A80036; stroke-width: 1.5;\" x1=\"45.5\" x2=\"136.5\" y1=\"215.9375\" y2=\"215.9375\"/></a><!--MD5=[05d275557350bfb9b23a4ef7222b4c39]\n",
       "link E3 to E2--><a href=\"psysml:e8229714-231f-4f2a-9005-056b1e69efb5\" target=\"_top\" title=\"psysml:e8229714-231f-4f2a-9005-056b1e69efb5\" xlink:actuate=\"onRequest\" xlink:href=\"psysml:e8229714-231f-4f2a-9005-056b1e69efb5\" xlink:show=\"new\" xlink:title=\"psysml:e8229714-231f-4f2a-9005-056b1e69efb5\" xlink:type=\"simple\"><path d=\"M389.8,102.01 C388.24,117.56 386.11,138.89 384.23,157.68 \" fill=\"none\" id=\"E3-&gt;E2\" style=\"stroke: #A80036; stroke-width: 1.0;\"/><polygon fill=\"#FFFFFF\" points=\"382.23,177.72,377.1511,158.1188,391.0819,159.5089,382.23,177.72\" style=\"stroke: #A80036; stroke-width: 1.0;\"/><ellipse cx=\"379.7072\" cy=\"152.6456\" fill=\"#A80036\" rx=\"2\" ry=\"2\" style=\"stroke: #A80036; stroke-width: 1.0;\"/><ellipse cx=\"389.6578\" cy=\"153.6385\" fill=\"#A80036\" rx=\"2\" ry=\"2\" style=\"stroke: #A80036; stroke-width: 1.0;\"/></a><!--MD5=[722ff4eef345aa10242dad44df0e98c7]\n",
       "reverse link E4 to E7--><a href=\"psysml:eafce8af-10f9-4af7-9431-7513cc7d3347\" target=\"_top\" title=\"psysml:eafce8af-10f9-4af7-9431-7513cc7d3347\" xlink:actuate=\"onRequest\" xlink:href=\"psysml:eafce8af-10f9-4af7-9431-7513cc7d3347\" xlink:show=\"new\" xlink:title=\"psysml:eafce8af-10f9-4af7-9431-7513cc7d3347\" xlink:type=\"simple\"><path d=\"M86.44,423.59 C85.02,444.46 83.55,466.02 82.5,481.48 \" fill=\"none\" id=\"E4&lt;-E7\" style=\"stroke: #A80036; stroke-width: 1.0;\"/><polygon fill=\"#A80036\" points=\"87.33,410.4,82.9306,416.1136,86.5125,422.3721,90.912,416.6586,87.33,410.4\" style=\"stroke: #A80036; stroke-width: 1.0;\"/></a><!--MD5=[c6fc7cdb0cabde04948078cf183fa696]\n",
       "reverse link E4 to E8--><a href=\"psysml:a0130814-5dc8-48af-af1a-9e985463643e\" target=\"_top\" title=\"psysml:a0130814-5dc8-48af-af1a-9e985463643e\" xlink:actuate=\"onRequest\" xlink:href=\"psysml:a0130814-5dc8-48af-af1a-9e985463643e\" xlink:show=\"new\" xlink:title=\"psysml:a0130814-5dc8-48af-af1a-9e985463643e\" xlink:type=\"simple\"><path d=\"M148.94,422.02 C163.95,438.99 179.47,456.53 192.24,470.98 \" fill=\"none\" id=\"E4&lt;-E8\" style=\"stroke: #A80036; stroke-width: 1.0;\"/><ellipse cx=\"143.9698\" cy=\"416.3927\" fill=\"#FFFFFF\" rx=\"8\" ry=\"8\" style=\"stroke: #A80036; stroke-width: 1.0;\"/><line style=\"stroke: #A80036; stroke-width: 1.0;\" x1=\"149.2695\" x2=\"138.67\" y1=\"422.3854\" y2=\"410.4\"/><line style=\"stroke: #A80036; stroke-width: 1.0;\" x1=\"137.9771\" x2=\"149.9625\" y1=\"421.6925\" y2=\"411.0929\"/></a><!--MD5=[062ed86c389d1a88f61c6380d0491e17]\n",
       "reverse link E12 to E13--><a href=\"psysml:044b978f-2385-4425-992f-2d75b645c055\" target=\"_top\" title=\"psysml:044b978f-2385-4425-992f-2d75b645c055\" xlink:actuate=\"onRequest\" xlink:href=\"psysml:044b978f-2385-4425-992f-2d75b645c055\" xlink:show=\"new\" xlink:title=\"psysml:044b978f-2385-4425-992f-2d75b645c055\" xlink:type=\"simple\"><path d=\"M63.94,114.55 C70.38,134.88 78.33,160 83.95,177.72 \" fill=\"none\" id=\"E12&lt;-E13\" style=\"stroke: #A80036; stroke-width: 1.0;\"/><polygon fill=\"#A80036\" points=\"59.97,102.01,57.9712,108.9386,63.5981,113.4484,65.5968,106.5198,59.97,102.01\" style=\"stroke: #A80036; stroke-width: 1.0;\"/></a><!--MD5=[017847e01ff9a8bd19f247411074f987]\n",
       "link E13 to E4--><a href=\"psysml:279d9c9b-21cb-4076-8967-339bf6a79b4c\" target=\"_top\" title=\"psysml:279d9c9b-21cb-4076-8967-339bf6a79b4c\" xlink:actuate=\"onRequest\" xlink:href=\"psysml:279d9c9b-21cb-4076-8967-339bf6a79b4c\" xlink:show=\"new\" xlink:title=\"psysml:279d9c9b-21cb-4076-8967-339bf6a79b4c\" xlink:type=\"simple\"><path d=\"M91,224.17 C91,239.17 91,259.91 91,280.44 \" fill=\"none\" id=\"E13-&gt;E4\" style=\"stroke: #A80036; stroke-width: 1.0;\"/><polygon fill=\"#FFFFFF\" points=\"91,300.68,84,281.68,98,281.68,91,300.68\" style=\"stroke: #A80036; stroke-width: 1.0;\"/><ellipse cx=\"86\" cy=\"275.98\" fill=\"#A80036\" rx=\"2\" ry=\"2\" style=\"stroke: #A80036; stroke-width: 1.0;\"/><ellipse cx=\"96\" cy=\"275.98\" fill=\"#A80036\" rx=\"2\" ry=\"2\" style=\"stroke: #A80036; stroke-width: 1.0;\"/></a><!--MD5=[2cfe899c895462254056921bfb67315f]\n",
       "link E13 to E11--><a href=\"psysml:fcf36e7c-2665-4a1d-8cf4-6fcc5b08ef04\" target=\"_top\" title=\"psysml:fcf36e7c-2665-4a1d-8cf4-6fcc5b08ef04\" xlink:actuate=\"onRequest\" xlink:href=\"psysml:fcf36e7c-2665-4a1d-8cf4-6fcc5b08ef04\" xlink:show=\"new\" xlink:title=\"psysml:fcf36e7c-2665-4a1d-8cf4-6fcc5b08ef04\" xlink:type=\"simple\"><path d=\"M108.36,224.29 C123.87,244.28 147.14,274.45 167,301 C173.57,309.78 180.66,319.44 186.97,328.12 \" fill=\"none\" id=\"E13-&gt;E11\" style=\"stroke: #A80036; stroke-width: 1.0; stroke-dasharray: 7.0,7.0;\"/><polygon fill=\"#A80036\" points=\"189.99,332.28,187.9274,322.6496,187.0474,328.2376,181.4594,327.3576,189.99,332.28\" style=\"stroke: #A80036; stroke-width: 1.0;\"/><text fill=\"#000000\" font-family=\"sans-serif\" font-size=\"13\" lengthAdjust=\"spacingAndGlyphs\" textLength=\"57\" x=\"145\" y=\"267.0669\">«satisfy»</text></a><!--MD5=[7dc8db304b6b1760f1c7e0a20cc0dcf0]\n",
       "@startuml\r\n",
       "skinparam wrapWidth 300\r\n",
       "hide circle\r\n",
       "\r\n",
       "package \"RequirementTest\" as E1  [[psysml:f822a5b9-f637-4bfc-9356-d45755be39c3 ]]  {\r\n",
       "comp def \"C\" as E2  <<(T,blue)constraint def>> [[psysml:55e0c843-cabd-4238-9430-5e5ddb37e322 ]] {\r\n",
       "}\r\n",
       "comp usage \"c: C\" as E3  <<(T,blue)constraint>> [[psysml:943270d7-f648-4f2b-99ed-798f0a01be75 ]] {\r\n",
       "}\r\n",
       "comp def \"R\" as E4  <<(T,blue)requirement def>> [[psysml:3547be1a-4b91-4a24-a66e-ac992d912d25 ]] {\r\n",
       "\r\n",
       "- -\r\n",
       "- - constraints - -\r\n",
       "<b>require</b> c\r\n",
       "<i>assume</i> c1: C\r\n",
       "}\r\n",
       "comp usage \"<s>noname</s>\" as E7  <<(T,blue)requirement>> [[psysml:5cc59123-afbd-4e9a-96fa-0bfa0b631260 ]] {\r\n",
       "}\r\n",
       "comp def \" [<b>1</b>] A\" as E8  <<(T,blue)requirement def>> [[psysml:49e593a4-f39b-4803-a2ce-02c26b916197 ]] {\r\n",
       "Text\r\n",
       "- -\r\n",
       "}\r\n",
       "comp def \"R1\" as E9  <<(T,blue)requirement def>> [[psysml:79fb73d3-867b-49b4-8196-8eb6e64f62f0 ]] {\r\n",
       "- - constraints - -\r\n",
       "<b>require</b> <&bar-trig> c1 <s>RequirementTest::c</s>\r\n",
       "}\r\n",
       "comp usage \"p\" as E11  <<(T,blue)part>> [[psysml:510a33c1-eff7-4e5e-90b4-a63ef5b72ae6 ]] {\r\n",
       "}\r\n",
       "comp usage \"q\" as E12  <<(T,blue)part>> [[psysml:a6cd5ff6-20a0-4014-8266-5a2f114de57c ]] {\r\n",
       "}\r\n",
       "comp usage \"r: R\" as E13  <<(T,blue)requirement>> [[psysml:50b94a4a-7c4d-4845-a3da-b360d2df1f8c ]] {\r\n",
       "}\r\n",
       "E3 - -:|> E2 [[psysml:e8229714-231f-4f2a-9005-056b1e69efb5 ]] \r\n",
       "E4 *- - E7 [[psysml:eafce8af-10f9-4af7-9431-7513cc7d3347 ]] \r\n",
       "E4 +- - E8 [[psysml:a0130814-5dc8-48af-af1a-9e985463643e ]] \r\n",
       "E12 *- - E13 [[psysml:044b978f-2385-4425-992f-2d75b645c055 ]] \r\n",
       "E13 - -:|> E4 [[psysml:279d9c9b-21cb-4076-8967-339bf6a79b4c ]] \r\n",
       "E13 ..> E11 [[psysml:fcf36e7c-2665-4a1d-8cf4-6fcc5b08ef04 ]] : <<satisfy>>\r\n",
       "}\r\n",
       "@enduml\r\n",
       "\n",
       "PlantUML version 1.2020.13(Sat Jun 13 12:26:38 UTC 2020)\n",
       "(EPL source distribution)\n",
       "Java Runtime: OpenJDK Runtime Environment\n",
       "JVM: OpenJDK 64-Bit Server VM\n",
       "Default Encoding: UTF-8\n",
       "Language: en\n",
       "Country: null\n",
       "--></g></svg>"
      ]
     },
     "execution_count": 29,
     "metadata": {},
     "output_type": "execute_result"
    }
   ],
   "source": [
    "%viz --style=\"STDCOLOR\" --view=\"MIXED\" \"RequirementTest\""
   ]
  },
  {
   "cell_type": "code",
   "execution_count": 30,
   "id": "0bdc6e6e",
   "metadata": {
    "execution": {
     "iopub.execute_input": "2021-04-21T20:21:29.680992Z",
     "iopub.status.busy": "2021-04-21T20:21:29.680552Z",
     "iopub.status.idle": "2021-04-21T20:21:29.815716Z",
     "shell.execute_reply": "2021-04-21T20:21:29.813625Z"
    }
   },
   "outputs": [
    {
     "data": {
      "image/svg+xml": [
       "<?xml version=\"1.0\" encoding=\"UTF-8\" standalone=\"no\"?><svg xmlns=\"http://www.w3.org/2000/svg\" xmlns:xlink=\"http://www.w3.org/1999/xlink\" contentScriptType=\"application/ecmascript\" contentStyleType=\"text/css\" height=\"578px\" preserveAspectRatio=\"none\" style=\"width:460px;height:578px;\" version=\"1.1\" viewBox=\"0 0 460 578\" width=\"460px\" zoomAndPan=\"magnify\"><defs><filter height=\"300%\" id=\"fiqi3z3padhve\" width=\"300%\" x=\"-1\" y=\"-1\"><feGaussianBlur result=\"blurOut\" stdDeviation=\"2.0\"/><feColorMatrix in=\"blurOut\" result=\"blurOut2\" type=\"matrix\" values=\"0 0 0 0 0 0 0 0 0 0 0 0 0 0 0 0 0 0 .4 0\"/><feOffset dx=\"4.0\" dy=\"4.0\" in=\"blurOut2\" result=\"blurOut3\"/><feBlend in=\"SourceGraphic\" in2=\"blurOut3\" mode=\"normal\"/></filter></defs><g><!--MD5=[fbc87193dbaf4d95561dea2c320d4a47]\n",
       "cluster E1--><a href=\"psysml:f822a5b9-f637-4bfc-9356-d45755be39c3\" target=\"_top\" title=\"psysml:f822a5b9-f637-4bfc-9356-d45755be39c3\" xlink:actuate=\"onRequest\" xlink:href=\"psysml:f822a5b9-f637-4bfc-9356-d45755be39c3\" xlink:show=\"new\" xlink:title=\"psysml:f822a5b9-f637-4bfc-9356-d45755be39c3\" xlink:type=\"simple\"><polygon fill=\"#FFFFFF\" filter=\"url(#fiqi3z3padhve)\" points=\"16,6,158,6,165,28.2969,438,28.2969,438,566,16,566,16,6\" style=\"stroke: #000000; stroke-width: 1.5;\"/><line style=\"stroke: #000000; stroke-width: 1.5;\" x1=\"16\" x2=\"165\" y1=\"28.2969\" y2=\"28.2969\"/><text fill=\"#000000\" font-family=\"sans-serif\" font-size=\"14\" font-weight=\"bold\" lengthAdjust=\"spacingAndGlyphs\" textLength=\"136\" x=\"20\" y=\"20.9951\">RequirementTest</text></a><!--MD5=[b4997ac47864f28c2f74865a473b2911]\n",
       "class E2--><a href=\"psysml:55e0c843-cabd-4238-9430-5e5ddb37e322\" target=\"_top\" title=\"psysml:55e0c843-cabd-4238-9430-5e5ddb37e322\" xlink:actuate=\"onRequest\" xlink:href=\"psysml:55e0c843-cabd-4238-9430-5e5ddb37e322\" xlink:show=\"new\" xlink:title=\"psysml:55e0c843-cabd-4238-9430-5e5ddb37e322\" xlink:type=\"simple\"><rect fill=\"#FEFECE\" filter=\"url(#fiqi3z3padhve)\" height=\"45.9375\" id=\"E2\" style=\"stroke: #A80036; stroke-width: 1.5;\" width=\"130\" x=\"292\" y=\"190\"/><ellipse cx=\"307\" cy=\"208.9688\" fill=\"#A52A2A\" rx=\"11\" ry=\"11\" style=\"stroke: #A80036; stroke-width: 1.0;\"/><path d=\"M306.5938,204.7813 L306.5938,212.7656 L307.25,212.7656 Q308.6875,212.7656 309.2969,211.8594 Q309.9219,210.9375 309.9219,208.7656 Q309.9219,206.5938 309.2969,205.6875 Q308.6875,204.7813 307.25,204.7813 L306.5938,204.7813 Z M304.1406,202.5781 L306.7656,202.5781 Q309.7969,202.5781 311.125,204.0313 Q312.4688,205.4688 312.4688,208.7656 Q312.4688,212.0625 311.125,213.5156 Q309.7969,214.9688 306.7656,214.9688 L304.1406,214.9688 L304.1406,202.5781 Z \"/><text fill=\"#000000\" font-family=\"sans-serif\" font-size=\"12\" font-style=\"italic\" lengthAdjust=\"spacingAndGlyphs\" textLength=\"102\" x=\"319\" y=\"206.1387\">«constraint def»</text><text fill=\"#000000\" font-family=\"sans-serif\" font-size=\"12\" lengthAdjust=\"spacingAndGlyphs\" textLength=\"8\" x=\"366\" y=\"220.1074\">C</text><line style=\"stroke: #A80036; stroke-width: 1.5;\" x1=\"293\" x2=\"421\" y1=\"227.9375\" y2=\"227.9375\"/></a><!--MD5=[09b614a08d8cba4a07c9adeb5e0fee81]\n",
       "class E3--><a href=\"psysml:943270d7-f648-4f2b-99ed-798f0a01be75\" target=\"_top\" title=\"psysml:943270d7-f648-4f2b-99ed-798f0a01be75\" xlink:actuate=\"onRequest\" xlink:href=\"psysml:943270d7-f648-4f2b-99ed-798f0a01be75\" xlink:show=\"new\" xlink:title=\"psysml:943270d7-f648-4f2b-99ed-798f0a01be75\" xlink:type=\"simple\"><rect fill=\"#FEFECE\" filter=\"url(#fiqi3z3padhve)\" height=\"45.9375\" id=\"E3\" rx=\"10\" ry=\"10\" style=\"stroke: #A80036; stroke-width: 1.5;\" width=\"106\" x=\"316\" y=\"62\"/><ellipse cx=\"331\" cy=\"80.9688\" fill=\"#FFA500\" rx=\"11\" ry=\"11\" style=\"stroke: #A80036; stroke-width: 1.0;\"/><path d=\"M326.875,82.8906 L326.875,75.0781 L329.3281,75.0781 L329.3281,83.5156 Q329.3281,84.4375 329.7969,84.9688 Q330.2813,85.5 331.1094,85.5 Q331.9531,85.5 332.4219,84.9688 Q332.8906,84.4375 332.8906,83.5156 L332.8906,75.0781 L335.3438,75.0781 L335.3438,82.8906 Q335.3438,85.4219 334.3438,86.5625 Q333.3438,87.7031 331.1094,87.7031 Q328.8906,87.7031 327.875,86.5625 Q326.875,85.4219 326.875,82.8906 Z \"/><text fill=\"#000000\" font-family=\"sans-serif\" font-size=\"12\" font-style=\"italic\" lengthAdjust=\"spacingAndGlyphs\" textLength=\"78\" x=\"343\" y=\"78.1387\">«constraint»</text><text fill=\"#000000\" font-family=\"sans-serif\" font-size=\"12\" lengthAdjust=\"spacingAndGlyphs\" textLength=\"23\" x=\"370.5\" y=\"92.1074\">c: C</text><line style=\"stroke: #A80036; stroke-width: 1.5;\" x1=\"317\" x2=\"421\" y1=\"99.9375\" y2=\"99.9375\"/></a><!--MD5=[ebbe1d658d1005bcc118a6aa81145e00]\n",
       "class E4--><a href=\"psysml:3547be1a-4b91-4a24-a66e-ac992d912d25\" target=\"_top\" title=\"psysml:3547be1a-4b91-4a24-a66e-ac992d912d25\" xlink:actuate=\"onRequest\" xlink:href=\"psysml:3547be1a-4b91-4a24-a66e-ac992d912d25\" xlink:show=\"new\" xlink:title=\"psysml:3547be1a-4b91-4a24-a66e-ac992d912d25\" xlink:type=\"simple\"><rect fill=\"#FEFECE\" filter=\"url(#fiqi3z3padhve)\" height=\"109.1563\" id=\"E4\" style=\"stroke: #A80036; stroke-width: 1.5;\" width=\"143\" x=\"32.5\" y=\"313\"/><ellipse cx=\"47.5\" cy=\"331.9688\" fill=\"#A52A2A\" rx=\"11\" ry=\"11\" style=\"stroke: #A80036; stroke-width: 1.0;\"/><path d=\"M47.0938,327.7813 L47.0938,335.7656 L47.75,335.7656 Q49.1875,335.7656 49.7969,334.8594 Q50.4219,333.9375 50.4219,331.7656 Q50.4219,329.5938 49.7969,328.6875 Q49.1875,327.7813 47.75,327.7813 L47.0938,327.7813 Z M44.6406,325.5781 L47.2656,325.5781 Q50.2969,325.5781 51.625,327.0313 Q52.9688,328.4688 52.9688,331.7656 Q52.9688,335.0625 51.625,336.5156 Q50.2969,337.9688 47.2656,337.9688 L44.6406,337.9688 L44.6406,325.5781 Z \"/><text fill=\"#000000\" font-family=\"sans-serif\" font-size=\"12\" font-style=\"italic\" lengthAdjust=\"spacingAndGlyphs\" textLength=\"115\" x=\"59.5\" y=\"329.1387\">«requirement def»</text><text fill=\"#000000\" font-family=\"sans-serif\" font-size=\"12\" lengthAdjust=\"spacingAndGlyphs\" textLength=\"8\" x=\"113\" y=\"343.1074\">R</text><line style=\"stroke: #A80036; stroke-width: 1.5;\" x1=\"33.5\" x2=\"174.5\" y1=\"350.9375\" y2=\"350.9375\"/><text fill=\"#000000\" font-family=\"sans-serif\" font-size=\"11\" lengthAdjust=\"spacingAndGlyphs\" textLength=\"0\" x=\"42.5\" y=\"365.1479\"/><line style=\"stroke: #A80036; stroke-width: 1.0;\" x1=\"33.5\" x2=\"174.5\" y1=\"371.7422\" y2=\"371.7422\"/><text fill=\"#000000\" font-family=\"sans-serif\" font-size=\"11\" font-weight=\"bold\" lengthAdjust=\"spacingAndGlyphs\" textLength=\"46\" x=\"38.5\" y=\"402.7573\">require</text><text fill=\"#000000\" font-family=\"sans-serif\" font-size=\"11\" lengthAdjust=\"spacingAndGlyphs\" textLength=\"6\" x=\"88.5\" y=\"402.7573\">c</text><text fill=\"#000000\" font-family=\"sans-serif\" font-size=\"11\" font-style=\"italic\" lengthAdjust=\"spacingAndGlyphs\" textLength=\"46\" x=\"38.5\" y=\"415.562\">assume</text><text fill=\"#000000\" font-family=\"sans-serif\" font-size=\"11\" lengthAdjust=\"spacingAndGlyphs\" textLength=\"29\" x=\"88.5\" y=\"415.562\">c1: C</text><line style=\"stroke: #A80036; stroke-width: 1.0;\" x1=\"33.5\" x2=\"72\" y1=\"386.1445\" y2=\"386.1445\"/><text fill=\"#000000\" font-family=\"sans-serif\" font-size=\"11\" lengthAdjust=\"spacingAndGlyphs\" textLength=\"64\" x=\"72\" y=\"389.4526\">constraints</text><line style=\"stroke: #A80036; stroke-width: 1.0;\" x1=\"136\" x2=\"174.5\" y1=\"386.1445\" y2=\"386.1445\"/></a><!--MD5=[2156ba9850f5573cc1fc38a6a4b2f02b]\n",
       "class E7--><a href=\"psysml:5cc59123-afbd-4e9a-96fa-0bfa0b631260\" target=\"_top\" title=\"psysml:5cc59123-afbd-4e9a-96fa-0bfa0b631260\" xlink:actuate=\"onRequest\" xlink:href=\"psysml:5cc59123-afbd-4e9a-96fa-0bfa0b631260\" xlink:show=\"new\" xlink:title=\"psysml:5cc59123-afbd-4e9a-96fa-0bfa0b631260\" xlink:type=\"simple\"><rect fill=\"#FEFECE\" filter=\"url(#fiqi3z3padhve)\" height=\"45.9375\" id=\"E7\" rx=\"10\" ry=\"10\" style=\"stroke: #A80036; stroke-width: 1.5;\" width=\"119\" x=\"34.5\" y=\"493.5\"/><ellipse cx=\"49.5\" cy=\"512.4688\" fill=\"#FFA500\" rx=\"11\" ry=\"11\" style=\"stroke: #A80036; stroke-width: 1.0;\"/><path d=\"M45.375,514.3906 L45.375,506.5781 L47.8281,506.5781 L47.8281,515.0156 Q47.8281,515.9375 48.2969,516.4688 Q48.7813,517 49.6094,517 Q50.4531,517 50.9219,516.4688 Q51.3906,515.9375 51.3906,515.0156 L51.3906,506.5781 L53.8438,506.5781 L53.8438,514.3906 Q53.8438,516.9219 52.8438,518.0625 Q51.8438,519.2031 49.6094,519.2031 Q47.3906,519.2031 46.375,518.0625 Q45.375,516.9219 45.375,514.3906 Z \"/><text fill=\"#000000\" font-family=\"sans-serif\" font-size=\"12\" font-style=\"italic\" lengthAdjust=\"spacingAndGlyphs\" textLength=\"91\" x=\"61.5\" y=\"509.6387\">«requirement»</text><text fill=\"#000000\" font-family=\"sans-serif\" font-size=\"12\" lengthAdjust=\"spacingAndGlyphs\" text-decoration=\"line-through\" textLength=\"51\" x=\"81.5\" y=\"523.6074\">noname</text><line style=\"stroke: #A80036; stroke-width: 1.5;\" x1=\"35.5\" x2=\"152.5\" y1=\"531.4375\" y2=\"531.4375\"/></a><!--MD5=[b9389687b975829384b498ac4b7476b2]\n",
       "class E8--><a href=\"psysml:49e593a4-f39b-4803-a2ce-02c26b916197\" target=\"_top\" title=\"psysml:49e593a4-f39b-4803-a2ce-02c26b916197\" xlink:actuate=\"onRequest\" xlink:href=\"psysml:49e593a4-f39b-4803-a2ce-02c26b916197\" xlink:show=\"new\" xlink:title=\"psysml:49e593a4-f39b-4803-a2ce-02c26b916197\" xlink:type=\"simple\"><rect fill=\"#FEFECE\" filter=\"url(#fiqi3z3padhve)\" height=\"66.7422\" id=\"E8\" style=\"stroke: #A80036; stroke-width: 1.5;\" width=\"143\" x=\"188.5\" y=\"483\"/><ellipse cx=\"203.5\" cy=\"501.9688\" fill=\"#A52A2A\" rx=\"11\" ry=\"11\" style=\"stroke: #A80036; stroke-width: 1.0;\"/><path d=\"M203.0938,497.7813 L203.0938,505.7656 L203.75,505.7656 Q205.1875,505.7656 205.7969,504.8594 Q206.4219,503.9375 206.4219,501.7656 Q206.4219,499.5938 205.7969,498.6875 Q205.1875,497.7813 203.75,497.7813 L203.0938,497.7813 Z M200.6406,495.5781 L203.2656,495.5781 Q206.2969,495.5781 207.625,497.0313 Q208.9688,498.4688 208.9688,501.7656 Q208.9688,505.0625 207.625,506.5156 Q206.2969,507.9688 203.2656,507.9688 L200.6406,507.9688 L200.6406,495.5781 Z \"/><text fill=\"#000000\" font-family=\"sans-serif\" font-size=\"12\" font-style=\"italic\" lengthAdjust=\"spacingAndGlyphs\" textLength=\"115\" x=\"215.5\" y=\"499.1387\">«requirement def»</text><text fill=\"#000000\" font-family=\"sans-serif\" font-size=\"12\" lengthAdjust=\"spacingAndGlyphs\" textLength=\"5\" x=\"260\" y=\"513.1074\">[</text><text fill=\"#000000\" font-family=\"sans-serif\" font-size=\"12\" font-weight=\"bold\" lengthAdjust=\"spacingAndGlyphs\" textLength=\"8\" x=\"265\" y=\"513.1074\">1</text><text fill=\"#000000\" font-family=\"sans-serif\" font-size=\"12\" lengthAdjust=\"spacingAndGlyphs\" textLength=\"17\" x=\"273\" y=\"513.1074\">] A</text><line style=\"stroke: #A80036; stroke-width: 1.5;\" x1=\"189.5\" x2=\"330.5\" y1=\"520.9375\" y2=\"520.9375\"/><text fill=\"#000000\" font-family=\"sans-serif\" font-size=\"11\" lengthAdjust=\"spacingAndGlyphs\" textLength=\"24\" x=\"194.5\" y=\"535.1479\">Text</text><line style=\"stroke: #A80036; stroke-width: 1.0;\" x1=\"189.5\" x2=\"330.5\" y1=\"541.7422\" y2=\"541.7422\"/></a><!--MD5=[fd4143e9d270a159db93a4ea2a975926]\n",
       "class E9--><a href=\"psysml:79fb73d3-867b-49b4-8196-8eb6e64f62f0\" target=\"_top\" title=\"psysml:79fb73d3-867b-49b4-8196-8eb6e64f62f0\" xlink:actuate=\"onRequest\" xlink:href=\"psysml:79fb73d3-867b-49b4-8196-8eb6e64f62f0\" xlink:show=\"new\" xlink:title=\"psysml:79fb73d3-867b-49b4-8196-8eb6e64f62f0\" xlink:type=\"simple\"><rect fill=\"#FEFECE\" filter=\"url(#fiqi3z3padhve)\" height=\"88.3516\" id=\"E9\" style=\"stroke: #A80036; stroke-width: 1.5;\" width=\"145\" x=\"135.5\" y=\"41\"/><ellipse cx=\"151.4\" cy=\"59.9688\" fill=\"#A52A2A\" rx=\"11\" ry=\"11\" style=\"stroke: #A80036; stroke-width: 1.0;\"/><path d=\"M150.9938,55.7813 L150.9938,63.7656 L151.65,63.7656 Q153.0875,63.7656 153.6969,62.8594 Q154.3219,61.9375 154.3219,59.7656 Q154.3219,57.5938 153.6969,56.6875 Q153.0875,55.7813 151.65,55.7813 L150.9938,55.7813 Z M148.5406,53.5781 L151.1656,53.5781 Q154.1969,53.5781 155.525,55.0313 Q156.8688,56.4688 156.8688,59.7656 Q156.8688,63.0625 155.525,64.5156 Q154.1969,65.9688 151.1656,65.9688 L148.5406,65.9688 L148.5406,53.5781 Z \"/><text fill=\"#000000\" font-family=\"sans-serif\" font-size=\"12\" font-style=\"italic\" lengthAdjust=\"spacingAndGlyphs\" textLength=\"115\" x=\"163.6\" y=\"57.1387\">«requirement def»</text><text fill=\"#000000\" font-family=\"sans-serif\" font-size=\"12\" lengthAdjust=\"spacingAndGlyphs\" textLength=\"16\" x=\"213.1\" y=\"71.1074\">R1</text><line style=\"stroke: #A80036; stroke-width: 1.5;\" x1=\"136.5\" x2=\"279.5\" y1=\"78.9375\" y2=\"78.9375\"/><text fill=\"#000000\" font-family=\"sans-serif\" font-size=\"11\" font-weight=\"bold\" lengthAdjust=\"spacingAndGlyphs\" textLength=\"46\" x=\"141.5\" y=\"109.9526\">require</text><text fill=\"#000000\" font-family=\"sans-serif\" font-size=\"11\" lengthAdjust=\"spacingAndGlyphs\" textLength=\"13\" x=\"191.5\" y=\"109.9526\">c1</text><text fill=\"#000000\" font-family=\"sans-serif\" font-size=\"11\" font-style=\"italic\" lengthAdjust=\"spacingAndGlyphs\" textLength=\"133\" x=\"141.5\" y=\"122.7573\">:&gt;&gt;RequirementTest::c</text><line style=\"stroke: #A80036; stroke-width: 1.0;\" x1=\"136.5\" x2=\"176\" y1=\"93.3398\" y2=\"93.3398\"/><text fill=\"#000000\" font-family=\"sans-serif\" font-size=\"11\" lengthAdjust=\"spacingAndGlyphs\" textLength=\"64\" x=\"176\" y=\"96.6479\">constraints</text><line style=\"stroke: #A80036; stroke-width: 1.0;\" x1=\"240\" x2=\"279.5\" y1=\"93.3398\" y2=\"93.3398\"/></a><!--MD5=[1dd1bfd58a279cf63c5f349dbc8fc6a1]\n",
       "class E11--><a href=\"psysml:510a33c1-eff7-4e5e-90b4-a63ef5b72ae6\" target=\"_top\" title=\"psysml:510a33c1-eff7-4e5e-90b4-a63ef5b72ae6\" xlink:actuate=\"onRequest\" xlink:href=\"psysml:510a33c1-eff7-4e5e-90b4-a63ef5b72ae6\" xlink:show=\"new\" xlink:title=\"psysml:510a33c1-eff7-4e5e-90b4-a63ef5b72ae6\" xlink:type=\"simple\"><rect fill=\"#FEFECE\" filter=\"url(#fiqi3z3padhve)\" height=\"45.9375\" id=\"E11\" rx=\"10\" ry=\"10\" style=\"stroke: #A80036; stroke-width: 1.5;\" width=\"68\" x=\"211\" y=\"344.5\"/><ellipse cx=\"226\" cy=\"363.4688\" fill=\"#32CD32\" rx=\"11\" ry=\"11\" style=\"stroke: #A80036; stroke-width: 1.0;\"/><path d=\"M225.7969,359.1406 L225.7969,362.7656 L226.7969,362.7656 Q228,362.7656 228.4844,362.3594 Q228.9688,361.9531 228.9688,360.9531 Q228.9688,359.9531 228.4844,359.5469 Q228,359.1406 226.7969,359.1406 L225.7969,359.1406 Z M223.3438,357.0781 L226.7031,357.0781 Q229.2656,357.0781 230.3906,358 Q231.5156,358.9063 231.5156,360.9531 Q231.5156,363 230.3906,363.9219 Q229.2656,364.8281 226.7031,364.8281 L225.7969,364.8281 L225.7969,369.4688 L223.3438,369.4688 L223.3438,357.0781 Z \"/><text fill=\"#000000\" font-family=\"sans-serif\" font-size=\"12\" font-style=\"italic\" lengthAdjust=\"spacingAndGlyphs\" textLength=\"40\" x=\"238\" y=\"360.6387\">«part»</text><text fill=\"#000000\" font-family=\"sans-serif\" font-size=\"12\" lengthAdjust=\"spacingAndGlyphs\" textLength=\"8\" x=\"254\" y=\"374.6074\">p</text><line style=\"stroke: #A80036; stroke-width: 1.5;\" x1=\"212\" x2=\"278\" y1=\"382.4375\" y2=\"382.4375\"/></a><!--MD5=[49a0ec8f00dab7302a31f22d0f0fe584]\n",
       "class E12--><a href=\"psysml:a6cd5ff6-20a0-4014-8266-5a2f114de57c\" target=\"_top\" title=\"psysml:a6cd5ff6-20a0-4014-8266-5a2f114de57c\" xlink:actuate=\"onRequest\" xlink:href=\"psysml:a6cd5ff6-20a0-4014-8266-5a2f114de57c\" xlink:show=\"new\" xlink:title=\"psysml:a6cd5ff6-20a0-4014-8266-5a2f114de57c\" xlink:type=\"simple\"><rect fill=\"#FEFECE\" filter=\"url(#fiqi3z3padhve)\" height=\"45.9375\" id=\"E12\" rx=\"10\" ry=\"10\" style=\"stroke: #A80036; stroke-width: 1.5;\" width=\"68\" x=\"32\" y=\"62\"/><ellipse cx=\"47\" cy=\"80.9688\" fill=\"#32CD32\" rx=\"11\" ry=\"11\" style=\"stroke: #A80036; stroke-width: 1.0;\"/><path d=\"M46.7969,76.6406 L46.7969,80.2656 L47.7969,80.2656 Q49,80.2656 49.4844,79.8594 Q49.9688,79.4531 49.9688,78.4531 Q49.9688,77.4531 49.4844,77.0469 Q49,76.6406 47.7969,76.6406 L46.7969,76.6406 Z M44.3438,74.5781 L47.7031,74.5781 Q50.2656,74.5781 51.3906,75.5 Q52.5156,76.4063 52.5156,78.4531 Q52.5156,80.5 51.3906,81.4219 Q50.2656,82.3281 47.7031,82.3281 L46.7969,82.3281 L46.7969,86.9688 L44.3438,86.9688 L44.3438,74.5781 Z \"/><text fill=\"#000000\" font-family=\"sans-serif\" font-size=\"12\" font-style=\"italic\" lengthAdjust=\"spacingAndGlyphs\" textLength=\"40\" x=\"59\" y=\"78.1387\">«part»</text><text fill=\"#000000\" font-family=\"sans-serif\" font-size=\"12\" lengthAdjust=\"spacingAndGlyphs\" textLength=\"8\" x=\"75\" y=\"92.1074\">q</text><line style=\"stroke: #A80036; stroke-width: 1.5;\" x1=\"33\" x2=\"99\" y1=\"99.9375\" y2=\"99.9375\"/></a><!--MD5=[ee3c913d1a06f366521f9ef512b67efe]\n",
       "class E13--><a href=\"psysml:50b94a4a-7c4d-4845-a3da-b360d2df1f8c\" target=\"_top\" title=\"psysml:50b94a4a-7c4d-4845-a3da-b360d2df1f8c\" xlink:actuate=\"onRequest\" xlink:href=\"psysml:50b94a4a-7c4d-4845-a3da-b360d2df1f8c\" xlink:show=\"new\" xlink:title=\"psysml:50b94a4a-7c4d-4845-a3da-b360d2df1f8c\" xlink:type=\"simple\"><rect fill=\"#FEFECE\" filter=\"url(#fiqi3z3padhve)\" height=\"45.9375\" id=\"E13\" rx=\"10\" ry=\"10\" style=\"stroke: #A80036; stroke-width: 1.5;\" width=\"119\" x=\"44.5\" y=\"190\"/><ellipse cx=\"59.5\" cy=\"208.9688\" fill=\"#FFA500\" rx=\"11\" ry=\"11\" style=\"stroke: #A80036; stroke-width: 1.0;\"/><path d=\"M55.375,210.8906 L55.375,203.0781 L57.8281,203.0781 L57.8281,211.5156 Q57.8281,212.4375 58.2969,212.9688 Q58.7813,213.5 59.6094,213.5 Q60.4531,213.5 60.9219,212.9688 Q61.3906,212.4375 61.3906,211.5156 L61.3906,203.0781 L63.8438,203.0781 L63.8438,210.8906 Q63.8438,213.4219 62.8438,214.5625 Q61.8438,215.7031 59.6094,215.7031 Q57.3906,215.7031 56.375,214.5625 Q55.375,213.4219 55.375,210.8906 Z \"/><text fill=\"#000000\" font-family=\"sans-serif\" font-size=\"12\" font-style=\"italic\" lengthAdjust=\"spacingAndGlyphs\" textLength=\"91\" x=\"71.5\" y=\"206.1387\">«requirement»</text><text fill=\"#000000\" font-family=\"sans-serif\" font-size=\"12\" lengthAdjust=\"spacingAndGlyphs\" textLength=\"21\" x=\"106.5\" y=\"220.1074\">r: R</text><line style=\"stroke: #A80036; stroke-width: 1.5;\" x1=\"45.5\" x2=\"162.5\" y1=\"227.9375\" y2=\"227.9375\"/></a><!--MD5=[05d275557350bfb9b23a4ef7222b4c39]\n",
       "link E3 to E2--><a href=\"psysml:e8229714-231f-4f2a-9005-056b1e69efb5\" target=\"_top\" title=\"psysml:e8229714-231f-4f2a-9005-056b1e69efb5\" xlink:actuate=\"onRequest\" xlink:href=\"psysml:e8229714-231f-4f2a-9005-056b1e69efb5\" xlink:show=\"new\" xlink:title=\"psysml:e8229714-231f-4f2a-9005-056b1e69efb5\" xlink:type=\"simple\"><path d=\"M366.88,108.24 C365.26,125.24 362.98,149.19 361.02,169.79 \" fill=\"none\" id=\"E3-&gt;E2\" style=\"stroke: #A80036; stroke-width: 1.0;\"/><polygon fill=\"#FFFFFF\" points=\"359.1,189.99,353.9362,170.411,367.8729,171.7407,359.1,189.99\" style=\"stroke: #A80036; stroke-width: 1.0;\"/><ellipse cx=\"356.4685\" cy=\"164.9268\" fill=\"#A80036\" rx=\"2\" ry=\"2\" style=\"stroke: #A80036; stroke-width: 1.0;\"/><ellipse cx=\"366.4233\" cy=\"165.8765\" fill=\"#A80036\" rx=\"2\" ry=\"2\" style=\"stroke: #A80036; stroke-width: 1.0;\"/></a><!--MD5=[722ff4eef345aa10242dad44df0e98c7]\n",
       "reverse link E4 to E7--><a href=\"psysml:eafce8af-10f9-4af7-9431-7513cc7d3347\" target=\"_top\" title=\"psysml:eafce8af-10f9-4af7-9431-7513cc7d3347\" xlink:actuate=\"onRequest\" xlink:href=\"psysml:eafce8af-10f9-4af7-9431-7513cc7d3347\" xlink:show=\"new\" xlink:title=\"psysml:eafce8af-10f9-4af7-9431-7513cc7d3347\" xlink:type=\"simple\"><path d=\"M99.44,435.59 C98.02,456.46 96.55,478.02 95.5,493.48 \" fill=\"none\" id=\"E4&lt;-E7\" style=\"stroke: #A80036; stroke-width: 1.0;\"/><polygon fill=\"#A80036\" points=\"100.33,422.4,95.9306,428.1136,99.5125,434.3721,103.912,428.6586,100.33,422.4\" style=\"stroke: #A80036; stroke-width: 1.0;\"/></a><!--MD5=[c6fc7cdb0cabde04948078cf183fa696]\n",
       "reverse link E4 to E8--><a href=\"psysml:a0130814-5dc8-48af-af1a-9e985463643e\" target=\"_top\" title=\"psysml:a0130814-5dc8-48af-af1a-9e985463643e\" xlink:actuate=\"onRequest\" xlink:href=\"psysml:a0130814-5dc8-48af-af1a-9e985463643e\" xlink:show=\"new\" xlink:title=\"psysml:a0130814-5dc8-48af-af1a-9e985463643e\" xlink:type=\"simple\"><path d=\"M172.23,432.79 C190.64,450.14 209.79,468.19 225.49,482.98 \" fill=\"none\" id=\"E4&lt;-E8\" style=\"stroke: #A80036; stroke-width: 1.0;\"/><ellipse cx=\"167.022\" cy=\"427.8867\" fill=\"#FFFFFF\" rx=\"8\" ry=\"8\" style=\"stroke: #A80036; stroke-width: 1.0;\"/><line style=\"stroke: #A80036; stroke-width: 1.0;\" x1=\"172.844\" x2=\"161.2\" y1=\"433.3734\" y2=\"422.4\"/><line style=\"stroke: #A80036; stroke-width: 1.0;\" x1=\"161.5353\" x2=\"172.5087\" y1=\"433.7087\" y2=\"422.0647\"/></a><!--MD5=[062ed86c389d1a88f61c6380d0491e17]\n",
       "reverse link E12 to E13--><a href=\"psysml:044b978f-2385-4425-992f-2d75b645c055\" target=\"_top\" title=\"psysml:044b978f-2385-4425-992f-2d75b645c055\" xlink:actuate=\"onRequest\" xlink:href=\"psysml:044b978f-2385-4425-992f-2d75b645c055\" xlink:show=\"new\" xlink:title=\"psysml:044b978f-2385-4425-992f-2d75b645c055\" xlink:type=\"simple\"><path d=\"M76.49,120.8 C83.17,142.92 91.6,170.89 97.36,189.99 \" fill=\"none\" id=\"E12&lt;-E13\" style=\"stroke: #A80036; stroke-width: 1.0;\"/><polygon fill=\"#A80036\" points=\"72.71,108.24,70.6129,115.1394,76.1751,119.7288,78.2722,112.8294,72.71,108.24\" style=\"stroke: #A80036; stroke-width: 1.0;\"/></a><!--MD5=[017847e01ff9a8bd19f247411074f987]\n",
       "link E13 to E4--><a href=\"psysml:279d9c9b-21cb-4076-8967-339bf6a79b4c\" target=\"_top\" title=\"psysml:279d9c9b-21cb-4076-8967-339bf6a79b4c\" xlink:actuate=\"onRequest\" xlink:href=\"psysml:279d9c9b-21cb-4076-8967-339bf6a79b4c\" xlink:show=\"new\" xlink:title=\"psysml:279d9c9b-21cb-4076-8967-339bf6a79b4c\" xlink:type=\"simple\"><path d=\"M104,236.17 C104,251.17 104,271.91 104,292.44 \" fill=\"none\" id=\"E13-&gt;E4\" style=\"stroke: #A80036; stroke-width: 1.0;\"/><polygon fill=\"#FFFFFF\" points=\"104,312.68,97,293.68,111,293.68,104,312.68\" style=\"stroke: #A80036; stroke-width: 1.0;\"/><ellipse cx=\"99\" cy=\"287.98\" fill=\"#A80036\" rx=\"2\" ry=\"2\" style=\"stroke: #A80036; stroke-width: 1.0;\"/><ellipse cx=\"109\" cy=\"287.98\" fill=\"#A80036\" rx=\"2\" ry=\"2\" style=\"stroke: #A80036; stroke-width: 1.0;\"/></a><!--MD5=[2cfe899c895462254056921bfb67315f]\n",
       "link E13 to E11--><a href=\"psysml:fcf36e7c-2665-4a1d-8cf4-6fcc5b08ef04\" target=\"_top\" title=\"psysml:fcf36e7c-2665-4a1d-8cf4-6fcc5b08ef04\" xlink:actuate=\"onRequest\" xlink:href=\"psysml:fcf36e7c-2665-4a1d-8cf4-6fcc5b08ef04\" xlink:show=\"new\" xlink:title=\"psysml:fcf36e7c-2665-4a1d-8cf4-6fcc5b08ef04\" xlink:type=\"simple\"><path d=\"M124.5,236.17 C150.09,263.85 193.77,311.09 220.92,340.45 \" fill=\"none\" id=\"E13-&gt;E11\" style=\"stroke: #A80036; stroke-width: 1.0; stroke-dasharray: 7.0,7.0;\"/><polygon fill=\"#A80036\" points=\"224.47,344.3,221.2896,334.9788,221.0727,340.6315,215.42,340.4145,224.47,344.3\" style=\"stroke: #A80036; stroke-width: 1.0;\"/><text fill=\"#000000\" font-family=\"sans-serif\" font-size=\"13\" lengthAdjust=\"spacingAndGlyphs\" textLength=\"57\" x=\"167\" y=\"279.0669\">«satisfy»</text></a><!--MD5=[b04b17865d2195efda6d6dc355c7c688]\n",
       "@startuml\r\n",
       " \r\n",
       "package \"RequirementTest\" as E1  [[psysml:f822a5b9-f637-4bfc-9356-d45755be39c3 ]]  {\r\n",
       "comp def \"C\" as E2  <<(D,brown)constraint def>> [[psysml:55e0c843-cabd-4238-9430-5e5ddb37e322 ]] {\r\n",
       "}\r\n",
       "comp usage \"c: C\" as E3  <<(U,orange)constraint>> [[psysml:943270d7-f648-4f2b-99ed-798f0a01be75 ]] {\r\n",
       "}\r\n",
       "comp def \"R\" as E4  <<(D,brown)requirement def>> [[psysml:3547be1a-4b91-4a24-a66e-ac992d912d25 ]] {\r\n",
       "\r\n",
       "- -\r\n",
       "- - constraints - -\r\n",
       "<b>require</b> c\r\n",
       "<i>assume</i> c1: C\r\n",
       "}\r\n",
       "comp usage \"<s>noname</s>\" as E7  <<(U,orange)requirement>> [[psysml:5cc59123-afbd-4e9a-96fa-0bfa0b631260 ]] {\r\n",
       "}\r\n",
       "comp def \" [<b>1</b>] A\" as E8  <<(D,brown)requirement def>> [[psysml:49e593a4-f39b-4803-a2ce-02c26b916197 ]] {\r\n",
       "Text\r\n",
       "- -\r\n",
       "}\r\n",
       "comp def \"R1\" as E9  <<(D,brown)requirement def>> [[psysml:79fb73d3-867b-49b4-8196-8eb6e64f62f0 ]] {\r\n",
       "- - constraints - -\r\n",
       "<b>require</b> c1\\n//:>>RequirementTest::c// \r\n",
       "}\r\n",
       "comp usage \"p\" as E11  << (P,limegreen) part>> [[psysml:510a33c1-eff7-4e5e-90b4-a63ef5b72ae6 ]] {\r\n",
       "}\r\n",
       "comp usage \"q\" as E12  << (P,limegreen) part>> [[psysml:a6cd5ff6-20a0-4014-8266-5a2f114de57c ]] {\r\n",
       "}\r\n",
       "comp usage \"r: R\" as E13  <<(U,orange)requirement>> [[psysml:50b94a4a-7c4d-4845-a3da-b360d2df1f8c ]] {\r\n",
       "}\r\n",
       "E3 - -:|> E2 [[psysml:e8229714-231f-4f2a-9005-056b1e69efb5 ]] \r\n",
       "E4 *- - E7 [[psysml:eafce8af-10f9-4af7-9431-7513cc7d3347 ]] \r\n",
       "E4 +- - E8 [[psysml:a0130814-5dc8-48af-af1a-9e985463643e ]] \r\n",
       "E12 *- - E13 [[psysml:044b978f-2385-4425-992f-2d75b645c055 ]] \r\n",
       "E13 - -:|> E4 [[psysml:279d9c9b-21cb-4076-8967-339bf6a79b4c ]] \r\n",
       "E13 ..> E11 [[psysml:fcf36e7c-2665-4a1d-8cf4-6fcc5b08ef04 ]] : <<satisfy>>\r\n",
       "}\r\n",
       "@enduml\r\n",
       "\n",
       "PlantUML version 1.2020.13(Sat Jun 13 12:26:38 UTC 2020)\n",
       "(EPL source distribution)\n",
       "Java Runtime: OpenJDK Runtime Environment\n",
       "JVM: OpenJDK 64-Bit Server VM\n",
       "Default Encoding: UTF-8\n",
       "Language: en\n",
       "Country: null\n",
       "--></g></svg>"
      ]
     },
     "execution_count": 30,
     "metadata": {},
     "output_type": "execute_result"
    }
   ],
   "source": [
    "%viz --style=\"PLANTUML\" --view=\"Default\" \"RequirementTest\""
   ]
  },
  {
   "cell_type": "code",
   "execution_count": 31,
   "id": "49793a9d",
   "metadata": {
    "execution": {
     "iopub.execute_input": "2021-04-21T20:21:29.865112Z",
     "iopub.status.busy": "2021-04-21T20:21:29.864530Z",
     "iopub.status.idle": "2021-04-21T20:21:29.970242Z",
     "shell.execute_reply": "2021-04-21T20:21:29.968283Z"
    }
   },
   "outputs": [
    {
     "data": {
      "image/svg+xml": [
       "<?xml version=\"1.0\" encoding=\"UTF-8\" standalone=\"no\"?><svg xmlns=\"http://www.w3.org/2000/svg\" xmlns:xlink=\"http://www.w3.org/1999/xlink\" contentScriptType=\"application/ecmascript\" contentStyleType=\"text/css\" height=\"578px\" preserveAspectRatio=\"none\" style=\"width:460px;height:578px;\" version=\"1.1\" viewBox=\"0 0 460 578\" width=\"460px\" zoomAndPan=\"magnify\"><defs><filter height=\"300%\" id=\"fiqi3z3padhve\" width=\"300%\" x=\"-1\" y=\"-1\"><feGaussianBlur result=\"blurOut\" stdDeviation=\"2.0\"/><feColorMatrix in=\"blurOut\" result=\"blurOut2\" type=\"matrix\" values=\"0 0 0 0 0 0 0 0 0 0 0 0 0 0 0 0 0 0 .4 0\"/><feOffset dx=\"4.0\" dy=\"4.0\" in=\"blurOut2\" result=\"blurOut3\"/><feBlend in=\"SourceGraphic\" in2=\"blurOut3\" mode=\"normal\"/></filter></defs><g><!--MD5=[fbc87193dbaf4d95561dea2c320d4a47]\n",
       "cluster E1--><a href=\"psysml:f822a5b9-f637-4bfc-9356-d45755be39c3\" target=\"_top\" title=\"psysml:f822a5b9-f637-4bfc-9356-d45755be39c3\" xlink:actuate=\"onRequest\" xlink:href=\"psysml:f822a5b9-f637-4bfc-9356-d45755be39c3\" xlink:show=\"new\" xlink:title=\"psysml:f822a5b9-f637-4bfc-9356-d45755be39c3\" xlink:type=\"simple\"><polygon fill=\"#FFFFFF\" filter=\"url(#fiqi3z3padhve)\" points=\"16,6,158,6,165,28.2969,438,28.2969,438,566,16,566,16,6\" style=\"stroke: #000000; stroke-width: 1.5;\"/><line style=\"stroke: #000000; stroke-width: 1.5;\" x1=\"16\" x2=\"165\" y1=\"28.2969\" y2=\"28.2969\"/><text fill=\"#000000\" font-family=\"sans-serif\" font-size=\"14\" font-weight=\"bold\" lengthAdjust=\"spacingAndGlyphs\" textLength=\"136\" x=\"20\" y=\"20.9951\">RequirementTest</text></a><!--MD5=[b4997ac47864f28c2f74865a473b2911]\n",
       "class E2--><a href=\"psysml:55e0c843-cabd-4238-9430-5e5ddb37e322\" target=\"_top\" title=\"psysml:55e0c843-cabd-4238-9430-5e5ddb37e322\" xlink:actuate=\"onRequest\" xlink:href=\"psysml:55e0c843-cabd-4238-9430-5e5ddb37e322\" xlink:show=\"new\" xlink:title=\"psysml:55e0c843-cabd-4238-9430-5e5ddb37e322\" xlink:type=\"simple\"><rect fill=\"#FEFECE\" filter=\"url(#fiqi3z3padhve)\" height=\"45.9375\" id=\"E2\" style=\"stroke: #A80036; stroke-width: 1.5;\" width=\"130\" x=\"292\" y=\"190\"/><ellipse cx=\"307\" cy=\"208.9688\" fill=\"#A52A2A\" rx=\"11\" ry=\"11\" style=\"stroke: #A80036; stroke-width: 1.0;\"/><path d=\"M306.5938,204.7813 L306.5938,212.7656 L307.25,212.7656 Q308.6875,212.7656 309.2969,211.8594 Q309.9219,210.9375 309.9219,208.7656 Q309.9219,206.5938 309.2969,205.6875 Q308.6875,204.7813 307.25,204.7813 L306.5938,204.7813 Z M304.1406,202.5781 L306.7656,202.5781 Q309.7969,202.5781 311.125,204.0313 Q312.4688,205.4688 312.4688,208.7656 Q312.4688,212.0625 311.125,213.5156 Q309.7969,214.9688 306.7656,214.9688 L304.1406,214.9688 L304.1406,202.5781 Z \"/><text fill=\"#000000\" font-family=\"sans-serif\" font-size=\"12\" font-style=\"italic\" lengthAdjust=\"spacingAndGlyphs\" textLength=\"102\" x=\"319\" y=\"206.1387\">«constraint def»</text><text fill=\"#000000\" font-family=\"sans-serif\" font-size=\"12\" lengthAdjust=\"spacingAndGlyphs\" textLength=\"8\" x=\"366\" y=\"220.1074\">C</text><line style=\"stroke: #A80036; stroke-width: 1.5;\" x1=\"293\" x2=\"421\" y1=\"227.9375\" y2=\"227.9375\"/></a><!--MD5=[09b614a08d8cba4a07c9adeb5e0fee81]\n",
       "class E3--><a href=\"psysml:943270d7-f648-4f2b-99ed-798f0a01be75\" target=\"_top\" title=\"psysml:943270d7-f648-4f2b-99ed-798f0a01be75\" xlink:actuate=\"onRequest\" xlink:href=\"psysml:943270d7-f648-4f2b-99ed-798f0a01be75\" xlink:show=\"new\" xlink:title=\"psysml:943270d7-f648-4f2b-99ed-798f0a01be75\" xlink:type=\"simple\"><rect fill=\"#FEFECE\" filter=\"url(#fiqi3z3padhve)\" height=\"45.9375\" id=\"E3\" rx=\"10\" ry=\"10\" style=\"stroke: #A80036; stroke-width: 1.5;\" width=\"106\" x=\"316\" y=\"62\"/><ellipse cx=\"331\" cy=\"80.9688\" fill=\"#FFA500\" rx=\"11\" ry=\"11\" style=\"stroke: #A80036; stroke-width: 1.0;\"/><path d=\"M326.875,82.8906 L326.875,75.0781 L329.3281,75.0781 L329.3281,83.5156 Q329.3281,84.4375 329.7969,84.9688 Q330.2813,85.5 331.1094,85.5 Q331.9531,85.5 332.4219,84.9688 Q332.8906,84.4375 332.8906,83.5156 L332.8906,75.0781 L335.3438,75.0781 L335.3438,82.8906 Q335.3438,85.4219 334.3438,86.5625 Q333.3438,87.7031 331.1094,87.7031 Q328.8906,87.7031 327.875,86.5625 Q326.875,85.4219 326.875,82.8906 Z \"/><text fill=\"#000000\" font-family=\"sans-serif\" font-size=\"12\" font-style=\"italic\" lengthAdjust=\"spacingAndGlyphs\" textLength=\"78\" x=\"343\" y=\"78.1387\">«constraint»</text><text fill=\"#000000\" font-family=\"sans-serif\" font-size=\"12\" lengthAdjust=\"spacingAndGlyphs\" textLength=\"23\" x=\"370.5\" y=\"92.1074\">c: C</text><line style=\"stroke: #A80036; stroke-width: 1.5;\" x1=\"317\" x2=\"421\" y1=\"99.9375\" y2=\"99.9375\"/></a><!--MD5=[ebbe1d658d1005bcc118a6aa81145e00]\n",
       "class E4--><a href=\"psysml:3547be1a-4b91-4a24-a66e-ac992d912d25\" target=\"_top\" title=\"psysml:3547be1a-4b91-4a24-a66e-ac992d912d25\" xlink:actuate=\"onRequest\" xlink:href=\"psysml:3547be1a-4b91-4a24-a66e-ac992d912d25\" xlink:show=\"new\" xlink:title=\"psysml:3547be1a-4b91-4a24-a66e-ac992d912d25\" xlink:type=\"simple\"><rect fill=\"#FEFECE\" filter=\"url(#fiqi3z3padhve)\" height=\"109.1563\" id=\"E4\" style=\"stroke: #A80036; stroke-width: 1.5;\" width=\"143\" x=\"32.5\" y=\"313\"/><ellipse cx=\"47.5\" cy=\"331.9688\" fill=\"#A52A2A\" rx=\"11\" ry=\"11\" style=\"stroke: #A80036; stroke-width: 1.0;\"/><path d=\"M47.0938,327.7813 L47.0938,335.7656 L47.75,335.7656 Q49.1875,335.7656 49.7969,334.8594 Q50.4219,333.9375 50.4219,331.7656 Q50.4219,329.5938 49.7969,328.6875 Q49.1875,327.7813 47.75,327.7813 L47.0938,327.7813 Z M44.6406,325.5781 L47.2656,325.5781 Q50.2969,325.5781 51.625,327.0313 Q52.9688,328.4688 52.9688,331.7656 Q52.9688,335.0625 51.625,336.5156 Q50.2969,337.9688 47.2656,337.9688 L44.6406,337.9688 L44.6406,325.5781 Z \"/><text fill=\"#000000\" font-family=\"sans-serif\" font-size=\"12\" font-style=\"italic\" lengthAdjust=\"spacingAndGlyphs\" textLength=\"115\" x=\"59.5\" y=\"329.1387\">«requirement def»</text><text fill=\"#000000\" font-family=\"sans-serif\" font-size=\"12\" lengthAdjust=\"spacingAndGlyphs\" textLength=\"8\" x=\"113\" y=\"343.1074\">R</text><line style=\"stroke: #A80036; stroke-width: 1.5;\" x1=\"33.5\" x2=\"174.5\" y1=\"350.9375\" y2=\"350.9375\"/><text fill=\"#000000\" font-family=\"sans-serif\" font-size=\"11\" lengthAdjust=\"spacingAndGlyphs\" textLength=\"0\" x=\"42.5\" y=\"365.1479\"/><line style=\"stroke: #A80036; stroke-width: 1.0;\" x1=\"33.5\" x2=\"174.5\" y1=\"371.7422\" y2=\"371.7422\"/><text fill=\"#000000\" font-family=\"sans-serif\" font-size=\"11\" font-weight=\"bold\" lengthAdjust=\"spacingAndGlyphs\" textLength=\"46\" x=\"38.5\" y=\"402.7573\">require</text><text fill=\"#000000\" font-family=\"sans-serif\" font-size=\"11\" lengthAdjust=\"spacingAndGlyphs\" textLength=\"6\" x=\"88.5\" y=\"402.7573\">c</text><text fill=\"#000000\" font-family=\"sans-serif\" font-size=\"11\" font-style=\"italic\" lengthAdjust=\"spacingAndGlyphs\" textLength=\"46\" x=\"38.5\" y=\"415.562\">assume</text><text fill=\"#000000\" font-family=\"sans-serif\" font-size=\"11\" lengthAdjust=\"spacingAndGlyphs\" textLength=\"29\" x=\"88.5\" y=\"415.562\">c1: C</text><line style=\"stroke: #A80036; stroke-width: 1.0;\" x1=\"33.5\" x2=\"72\" y1=\"386.1445\" y2=\"386.1445\"/><text fill=\"#000000\" font-family=\"sans-serif\" font-size=\"11\" lengthAdjust=\"spacingAndGlyphs\" textLength=\"64\" x=\"72\" y=\"389.4526\">constraints</text><line style=\"stroke: #A80036; stroke-width: 1.0;\" x1=\"136\" x2=\"174.5\" y1=\"386.1445\" y2=\"386.1445\"/></a><!--MD5=[2156ba9850f5573cc1fc38a6a4b2f02b]\n",
       "class E7--><a href=\"psysml:5cc59123-afbd-4e9a-96fa-0bfa0b631260\" target=\"_top\" title=\"psysml:5cc59123-afbd-4e9a-96fa-0bfa0b631260\" xlink:actuate=\"onRequest\" xlink:href=\"psysml:5cc59123-afbd-4e9a-96fa-0bfa0b631260\" xlink:show=\"new\" xlink:title=\"psysml:5cc59123-afbd-4e9a-96fa-0bfa0b631260\" xlink:type=\"simple\"><rect fill=\"#FEFECE\" filter=\"url(#fiqi3z3padhve)\" height=\"45.9375\" id=\"E7\" rx=\"10\" ry=\"10\" style=\"stroke: #A80036; stroke-width: 1.5;\" width=\"119\" x=\"34.5\" y=\"493.5\"/><ellipse cx=\"49.5\" cy=\"512.4688\" fill=\"#FFA500\" rx=\"11\" ry=\"11\" style=\"stroke: #A80036; stroke-width: 1.0;\"/><path d=\"M45.375,514.3906 L45.375,506.5781 L47.8281,506.5781 L47.8281,515.0156 Q47.8281,515.9375 48.2969,516.4688 Q48.7813,517 49.6094,517 Q50.4531,517 50.9219,516.4688 Q51.3906,515.9375 51.3906,515.0156 L51.3906,506.5781 L53.8438,506.5781 L53.8438,514.3906 Q53.8438,516.9219 52.8438,518.0625 Q51.8438,519.2031 49.6094,519.2031 Q47.3906,519.2031 46.375,518.0625 Q45.375,516.9219 45.375,514.3906 Z \"/><text fill=\"#000000\" font-family=\"sans-serif\" font-size=\"12\" font-style=\"italic\" lengthAdjust=\"spacingAndGlyphs\" textLength=\"91\" x=\"61.5\" y=\"509.6387\">«requirement»</text><text fill=\"#000000\" font-family=\"sans-serif\" font-size=\"12\" lengthAdjust=\"spacingAndGlyphs\" text-decoration=\"line-through\" textLength=\"51\" x=\"81.5\" y=\"523.6074\">noname</text><line style=\"stroke: #A80036; stroke-width: 1.5;\" x1=\"35.5\" x2=\"152.5\" y1=\"531.4375\" y2=\"531.4375\"/></a><!--MD5=[b9389687b975829384b498ac4b7476b2]\n",
       "class E8--><a href=\"psysml:49e593a4-f39b-4803-a2ce-02c26b916197\" target=\"_top\" title=\"psysml:49e593a4-f39b-4803-a2ce-02c26b916197\" xlink:actuate=\"onRequest\" xlink:href=\"psysml:49e593a4-f39b-4803-a2ce-02c26b916197\" xlink:show=\"new\" xlink:title=\"psysml:49e593a4-f39b-4803-a2ce-02c26b916197\" xlink:type=\"simple\"><rect fill=\"#FEFECE\" filter=\"url(#fiqi3z3padhve)\" height=\"66.7422\" id=\"E8\" style=\"stroke: #A80036; stroke-width: 1.5;\" width=\"143\" x=\"188.5\" y=\"483\"/><ellipse cx=\"203.5\" cy=\"501.9688\" fill=\"#A52A2A\" rx=\"11\" ry=\"11\" style=\"stroke: #A80036; stroke-width: 1.0;\"/><path d=\"M203.0938,497.7813 L203.0938,505.7656 L203.75,505.7656 Q205.1875,505.7656 205.7969,504.8594 Q206.4219,503.9375 206.4219,501.7656 Q206.4219,499.5938 205.7969,498.6875 Q205.1875,497.7813 203.75,497.7813 L203.0938,497.7813 Z M200.6406,495.5781 L203.2656,495.5781 Q206.2969,495.5781 207.625,497.0313 Q208.9688,498.4688 208.9688,501.7656 Q208.9688,505.0625 207.625,506.5156 Q206.2969,507.9688 203.2656,507.9688 L200.6406,507.9688 L200.6406,495.5781 Z \"/><text fill=\"#000000\" font-family=\"sans-serif\" font-size=\"12\" font-style=\"italic\" lengthAdjust=\"spacingAndGlyphs\" textLength=\"115\" x=\"215.5\" y=\"499.1387\">«requirement def»</text><text fill=\"#000000\" font-family=\"sans-serif\" font-size=\"12\" lengthAdjust=\"spacingAndGlyphs\" textLength=\"5\" x=\"260\" y=\"513.1074\">[</text><text fill=\"#000000\" font-family=\"sans-serif\" font-size=\"12\" font-weight=\"bold\" lengthAdjust=\"spacingAndGlyphs\" textLength=\"8\" x=\"265\" y=\"513.1074\">1</text><text fill=\"#000000\" font-family=\"sans-serif\" font-size=\"12\" lengthAdjust=\"spacingAndGlyphs\" textLength=\"17\" x=\"273\" y=\"513.1074\">] A</text><line style=\"stroke: #A80036; stroke-width: 1.5;\" x1=\"189.5\" x2=\"330.5\" y1=\"520.9375\" y2=\"520.9375\"/><text fill=\"#000000\" font-family=\"sans-serif\" font-size=\"11\" lengthAdjust=\"spacingAndGlyphs\" textLength=\"24\" x=\"194.5\" y=\"535.1479\">Text</text><line style=\"stroke: #A80036; stroke-width: 1.0;\" x1=\"189.5\" x2=\"330.5\" y1=\"541.7422\" y2=\"541.7422\"/></a><!--MD5=[fd4143e9d270a159db93a4ea2a975926]\n",
       "class E9--><a href=\"psysml:79fb73d3-867b-49b4-8196-8eb6e64f62f0\" target=\"_top\" title=\"psysml:79fb73d3-867b-49b4-8196-8eb6e64f62f0\" xlink:actuate=\"onRequest\" xlink:href=\"psysml:79fb73d3-867b-49b4-8196-8eb6e64f62f0\" xlink:show=\"new\" xlink:title=\"psysml:79fb73d3-867b-49b4-8196-8eb6e64f62f0\" xlink:type=\"simple\"><rect fill=\"#FEFECE\" filter=\"url(#fiqi3z3padhve)\" height=\"88.3516\" id=\"E9\" style=\"stroke: #A80036; stroke-width: 1.5;\" width=\"145\" x=\"135.5\" y=\"41\"/><ellipse cx=\"151.4\" cy=\"59.9688\" fill=\"#A52A2A\" rx=\"11\" ry=\"11\" style=\"stroke: #A80036; stroke-width: 1.0;\"/><path d=\"M150.9938,55.7813 L150.9938,63.7656 L151.65,63.7656 Q153.0875,63.7656 153.6969,62.8594 Q154.3219,61.9375 154.3219,59.7656 Q154.3219,57.5938 153.6969,56.6875 Q153.0875,55.7813 151.65,55.7813 L150.9938,55.7813 Z M148.5406,53.5781 L151.1656,53.5781 Q154.1969,53.5781 155.525,55.0313 Q156.8688,56.4688 156.8688,59.7656 Q156.8688,63.0625 155.525,64.5156 Q154.1969,65.9688 151.1656,65.9688 L148.5406,65.9688 L148.5406,53.5781 Z \"/><text fill=\"#000000\" font-family=\"sans-serif\" font-size=\"12\" font-style=\"italic\" lengthAdjust=\"spacingAndGlyphs\" textLength=\"115\" x=\"163.6\" y=\"57.1387\">«requirement def»</text><text fill=\"#000000\" font-family=\"sans-serif\" font-size=\"12\" lengthAdjust=\"spacingAndGlyphs\" textLength=\"16\" x=\"213.1\" y=\"71.1074\">R1</text><line style=\"stroke: #A80036; stroke-width: 1.5;\" x1=\"136.5\" x2=\"279.5\" y1=\"78.9375\" y2=\"78.9375\"/><text fill=\"#000000\" font-family=\"sans-serif\" font-size=\"11\" font-weight=\"bold\" lengthAdjust=\"spacingAndGlyphs\" textLength=\"46\" x=\"141.5\" y=\"109.9526\">require</text><text fill=\"#000000\" font-family=\"sans-serif\" font-size=\"11\" lengthAdjust=\"spacingAndGlyphs\" textLength=\"13\" x=\"191.5\" y=\"109.9526\">c1</text><text fill=\"#000000\" font-family=\"sans-serif\" font-size=\"11\" font-style=\"italic\" lengthAdjust=\"spacingAndGlyphs\" textLength=\"133\" x=\"141.5\" y=\"122.7573\">:&gt;&gt;RequirementTest::c</text><line style=\"stroke: #A80036; stroke-width: 1.0;\" x1=\"136.5\" x2=\"176\" y1=\"93.3398\" y2=\"93.3398\"/><text fill=\"#000000\" font-family=\"sans-serif\" font-size=\"11\" lengthAdjust=\"spacingAndGlyphs\" textLength=\"64\" x=\"176\" y=\"96.6479\">constraints</text><line style=\"stroke: #A80036; stroke-width: 1.0;\" x1=\"240\" x2=\"279.5\" y1=\"93.3398\" y2=\"93.3398\"/></a><!--MD5=[1dd1bfd58a279cf63c5f349dbc8fc6a1]\n",
       "class E11--><a href=\"psysml:510a33c1-eff7-4e5e-90b4-a63ef5b72ae6\" target=\"_top\" title=\"psysml:510a33c1-eff7-4e5e-90b4-a63ef5b72ae6\" xlink:actuate=\"onRequest\" xlink:href=\"psysml:510a33c1-eff7-4e5e-90b4-a63ef5b72ae6\" xlink:show=\"new\" xlink:title=\"psysml:510a33c1-eff7-4e5e-90b4-a63ef5b72ae6\" xlink:type=\"simple\"><rect fill=\"#FEFECE\" filter=\"url(#fiqi3z3padhve)\" height=\"45.9375\" id=\"E11\" rx=\"10\" ry=\"10\" style=\"stroke: #A80036; stroke-width: 1.5;\" width=\"68\" x=\"211\" y=\"344.5\"/><ellipse cx=\"226\" cy=\"363.4688\" fill=\"#32CD32\" rx=\"11\" ry=\"11\" style=\"stroke: #A80036; stroke-width: 1.0;\"/><path d=\"M225.7969,359.1406 L225.7969,362.7656 L226.7969,362.7656 Q228,362.7656 228.4844,362.3594 Q228.9688,361.9531 228.9688,360.9531 Q228.9688,359.9531 228.4844,359.5469 Q228,359.1406 226.7969,359.1406 L225.7969,359.1406 Z M223.3438,357.0781 L226.7031,357.0781 Q229.2656,357.0781 230.3906,358 Q231.5156,358.9063 231.5156,360.9531 Q231.5156,363 230.3906,363.9219 Q229.2656,364.8281 226.7031,364.8281 L225.7969,364.8281 L225.7969,369.4688 L223.3438,369.4688 L223.3438,357.0781 Z \"/><text fill=\"#000000\" font-family=\"sans-serif\" font-size=\"12\" font-style=\"italic\" lengthAdjust=\"spacingAndGlyphs\" textLength=\"40\" x=\"238\" y=\"360.6387\">«part»</text><text fill=\"#000000\" font-family=\"sans-serif\" font-size=\"12\" lengthAdjust=\"spacingAndGlyphs\" textLength=\"8\" x=\"254\" y=\"374.6074\">p</text><line style=\"stroke: #A80036; stroke-width: 1.5;\" x1=\"212\" x2=\"278\" y1=\"382.4375\" y2=\"382.4375\"/></a><!--MD5=[49a0ec8f00dab7302a31f22d0f0fe584]\n",
       "class E12--><a href=\"psysml:a6cd5ff6-20a0-4014-8266-5a2f114de57c\" target=\"_top\" title=\"psysml:a6cd5ff6-20a0-4014-8266-5a2f114de57c\" xlink:actuate=\"onRequest\" xlink:href=\"psysml:a6cd5ff6-20a0-4014-8266-5a2f114de57c\" xlink:show=\"new\" xlink:title=\"psysml:a6cd5ff6-20a0-4014-8266-5a2f114de57c\" xlink:type=\"simple\"><rect fill=\"#FEFECE\" filter=\"url(#fiqi3z3padhve)\" height=\"45.9375\" id=\"E12\" rx=\"10\" ry=\"10\" style=\"stroke: #A80036; stroke-width: 1.5;\" width=\"68\" x=\"32\" y=\"62\"/><ellipse cx=\"47\" cy=\"80.9688\" fill=\"#32CD32\" rx=\"11\" ry=\"11\" style=\"stroke: #A80036; stroke-width: 1.0;\"/><path d=\"M46.7969,76.6406 L46.7969,80.2656 L47.7969,80.2656 Q49,80.2656 49.4844,79.8594 Q49.9688,79.4531 49.9688,78.4531 Q49.9688,77.4531 49.4844,77.0469 Q49,76.6406 47.7969,76.6406 L46.7969,76.6406 Z M44.3438,74.5781 L47.7031,74.5781 Q50.2656,74.5781 51.3906,75.5 Q52.5156,76.4063 52.5156,78.4531 Q52.5156,80.5 51.3906,81.4219 Q50.2656,82.3281 47.7031,82.3281 L46.7969,82.3281 L46.7969,86.9688 L44.3438,86.9688 L44.3438,74.5781 Z \"/><text fill=\"#000000\" font-family=\"sans-serif\" font-size=\"12\" font-style=\"italic\" lengthAdjust=\"spacingAndGlyphs\" textLength=\"40\" x=\"59\" y=\"78.1387\">«part»</text><text fill=\"#000000\" font-family=\"sans-serif\" font-size=\"12\" lengthAdjust=\"spacingAndGlyphs\" textLength=\"8\" x=\"75\" y=\"92.1074\">q</text><line style=\"stroke: #A80036; stroke-width: 1.5;\" x1=\"33\" x2=\"99\" y1=\"99.9375\" y2=\"99.9375\"/></a><!--MD5=[ee3c913d1a06f366521f9ef512b67efe]\n",
       "class E13--><a href=\"psysml:50b94a4a-7c4d-4845-a3da-b360d2df1f8c\" target=\"_top\" title=\"psysml:50b94a4a-7c4d-4845-a3da-b360d2df1f8c\" xlink:actuate=\"onRequest\" xlink:href=\"psysml:50b94a4a-7c4d-4845-a3da-b360d2df1f8c\" xlink:show=\"new\" xlink:title=\"psysml:50b94a4a-7c4d-4845-a3da-b360d2df1f8c\" xlink:type=\"simple\"><rect fill=\"#FEFECE\" filter=\"url(#fiqi3z3padhve)\" height=\"45.9375\" id=\"E13\" rx=\"10\" ry=\"10\" style=\"stroke: #A80036; stroke-width: 1.5;\" width=\"119\" x=\"44.5\" y=\"190\"/><ellipse cx=\"59.5\" cy=\"208.9688\" fill=\"#FFA500\" rx=\"11\" ry=\"11\" style=\"stroke: #A80036; stroke-width: 1.0;\"/><path d=\"M55.375,210.8906 L55.375,203.0781 L57.8281,203.0781 L57.8281,211.5156 Q57.8281,212.4375 58.2969,212.9688 Q58.7813,213.5 59.6094,213.5 Q60.4531,213.5 60.9219,212.9688 Q61.3906,212.4375 61.3906,211.5156 L61.3906,203.0781 L63.8438,203.0781 L63.8438,210.8906 Q63.8438,213.4219 62.8438,214.5625 Q61.8438,215.7031 59.6094,215.7031 Q57.3906,215.7031 56.375,214.5625 Q55.375,213.4219 55.375,210.8906 Z \"/><text fill=\"#000000\" font-family=\"sans-serif\" font-size=\"12\" font-style=\"italic\" lengthAdjust=\"spacingAndGlyphs\" textLength=\"91\" x=\"71.5\" y=\"206.1387\">«requirement»</text><text fill=\"#000000\" font-family=\"sans-serif\" font-size=\"12\" lengthAdjust=\"spacingAndGlyphs\" textLength=\"21\" x=\"106.5\" y=\"220.1074\">r: R</text><line style=\"stroke: #A80036; stroke-width: 1.5;\" x1=\"45.5\" x2=\"162.5\" y1=\"227.9375\" y2=\"227.9375\"/></a><!--MD5=[05d275557350bfb9b23a4ef7222b4c39]\n",
       "link E3 to E2--><a href=\"psysml:e8229714-231f-4f2a-9005-056b1e69efb5\" target=\"_top\" title=\"psysml:e8229714-231f-4f2a-9005-056b1e69efb5\" xlink:actuate=\"onRequest\" xlink:href=\"psysml:e8229714-231f-4f2a-9005-056b1e69efb5\" xlink:show=\"new\" xlink:title=\"psysml:e8229714-231f-4f2a-9005-056b1e69efb5\" xlink:type=\"simple\"><path d=\"M366.88,108.24 C365.26,125.24 362.98,149.19 361.02,169.79 \" fill=\"none\" id=\"E3-&gt;E2\" style=\"stroke: #A80036; stroke-width: 1.0;\"/><polygon fill=\"#FFFFFF\" points=\"359.1,189.99,353.9362,170.411,367.8729,171.7407,359.1,189.99\" style=\"stroke: #A80036; stroke-width: 1.0;\"/><ellipse cx=\"356.4685\" cy=\"164.9268\" fill=\"#A80036\" rx=\"2\" ry=\"2\" style=\"stroke: #A80036; stroke-width: 1.0;\"/><ellipse cx=\"366.4233\" cy=\"165.8765\" fill=\"#A80036\" rx=\"2\" ry=\"2\" style=\"stroke: #A80036; stroke-width: 1.0;\"/></a><!--MD5=[722ff4eef345aa10242dad44df0e98c7]\n",
       "reverse link E4 to E7--><a href=\"psysml:eafce8af-10f9-4af7-9431-7513cc7d3347\" target=\"_top\" title=\"psysml:eafce8af-10f9-4af7-9431-7513cc7d3347\" xlink:actuate=\"onRequest\" xlink:href=\"psysml:eafce8af-10f9-4af7-9431-7513cc7d3347\" xlink:show=\"new\" xlink:title=\"psysml:eafce8af-10f9-4af7-9431-7513cc7d3347\" xlink:type=\"simple\"><path d=\"M99.44,435.59 C98.02,456.46 96.55,478.02 95.5,493.48 \" fill=\"none\" id=\"E4&lt;-E7\" style=\"stroke: #A80036; stroke-width: 1.0;\"/><polygon fill=\"#A80036\" points=\"100.33,422.4,95.9306,428.1136,99.5125,434.3721,103.912,428.6586,100.33,422.4\" style=\"stroke: #A80036; stroke-width: 1.0;\"/></a><!--MD5=[c6fc7cdb0cabde04948078cf183fa696]\n",
       "reverse link E4 to E8--><a href=\"psysml:a0130814-5dc8-48af-af1a-9e985463643e\" target=\"_top\" title=\"psysml:a0130814-5dc8-48af-af1a-9e985463643e\" xlink:actuate=\"onRequest\" xlink:href=\"psysml:a0130814-5dc8-48af-af1a-9e985463643e\" xlink:show=\"new\" xlink:title=\"psysml:a0130814-5dc8-48af-af1a-9e985463643e\" xlink:type=\"simple\"><path d=\"M172.23,432.79 C190.64,450.14 209.79,468.19 225.49,482.98 \" fill=\"none\" id=\"E4&lt;-E8\" style=\"stroke: #A80036; stroke-width: 1.0;\"/><ellipse cx=\"167.022\" cy=\"427.8867\" fill=\"#FFFFFF\" rx=\"8\" ry=\"8\" style=\"stroke: #A80036; stroke-width: 1.0;\"/><line style=\"stroke: #A80036; stroke-width: 1.0;\" x1=\"172.844\" x2=\"161.2\" y1=\"433.3734\" y2=\"422.4\"/><line style=\"stroke: #A80036; stroke-width: 1.0;\" x1=\"161.5353\" x2=\"172.5087\" y1=\"433.7087\" y2=\"422.0647\"/></a><!--MD5=[062ed86c389d1a88f61c6380d0491e17]\n",
       "reverse link E12 to E13--><a href=\"psysml:044b978f-2385-4425-992f-2d75b645c055\" target=\"_top\" title=\"psysml:044b978f-2385-4425-992f-2d75b645c055\" xlink:actuate=\"onRequest\" xlink:href=\"psysml:044b978f-2385-4425-992f-2d75b645c055\" xlink:show=\"new\" xlink:title=\"psysml:044b978f-2385-4425-992f-2d75b645c055\" xlink:type=\"simple\"><path d=\"M76.49,120.8 C83.17,142.92 91.6,170.89 97.36,189.99 \" fill=\"none\" id=\"E12&lt;-E13\" style=\"stroke: #A80036; stroke-width: 1.0;\"/><polygon fill=\"#A80036\" points=\"72.71,108.24,70.6129,115.1394,76.1751,119.7288,78.2722,112.8294,72.71,108.24\" style=\"stroke: #A80036; stroke-width: 1.0;\"/></a><!--MD5=[017847e01ff9a8bd19f247411074f987]\n",
       "link E13 to E4--><a href=\"psysml:279d9c9b-21cb-4076-8967-339bf6a79b4c\" target=\"_top\" title=\"psysml:279d9c9b-21cb-4076-8967-339bf6a79b4c\" xlink:actuate=\"onRequest\" xlink:href=\"psysml:279d9c9b-21cb-4076-8967-339bf6a79b4c\" xlink:show=\"new\" xlink:title=\"psysml:279d9c9b-21cb-4076-8967-339bf6a79b4c\" xlink:type=\"simple\"><path d=\"M104,236.17 C104,251.17 104,271.91 104,292.44 \" fill=\"none\" id=\"E13-&gt;E4\" style=\"stroke: #A80036; stroke-width: 1.0;\"/><polygon fill=\"#FFFFFF\" points=\"104,312.68,97,293.68,111,293.68,104,312.68\" style=\"stroke: #A80036; stroke-width: 1.0;\"/><ellipse cx=\"99\" cy=\"287.98\" fill=\"#A80036\" rx=\"2\" ry=\"2\" style=\"stroke: #A80036; stroke-width: 1.0;\"/><ellipse cx=\"109\" cy=\"287.98\" fill=\"#A80036\" rx=\"2\" ry=\"2\" style=\"stroke: #A80036; stroke-width: 1.0;\"/></a><!--MD5=[2cfe899c895462254056921bfb67315f]\n",
       "link E13 to E11--><a href=\"psysml:fcf36e7c-2665-4a1d-8cf4-6fcc5b08ef04\" target=\"_top\" title=\"psysml:fcf36e7c-2665-4a1d-8cf4-6fcc5b08ef04\" xlink:actuate=\"onRequest\" xlink:href=\"psysml:fcf36e7c-2665-4a1d-8cf4-6fcc5b08ef04\" xlink:show=\"new\" xlink:title=\"psysml:fcf36e7c-2665-4a1d-8cf4-6fcc5b08ef04\" xlink:type=\"simple\"><path d=\"M124.5,236.17 C150.09,263.85 193.77,311.09 220.92,340.45 \" fill=\"none\" id=\"E13-&gt;E11\" style=\"stroke: #A80036; stroke-width: 1.0; stroke-dasharray: 7.0,7.0;\"/><polygon fill=\"#A80036\" points=\"224.47,344.3,221.2896,334.9788,221.0727,340.6315,215.42,340.4145,224.47,344.3\" style=\"stroke: #A80036; stroke-width: 1.0;\"/><text fill=\"#000000\" font-family=\"sans-serif\" font-size=\"13\" lengthAdjust=\"spacingAndGlyphs\" textLength=\"57\" x=\"167\" y=\"279.0669\">«satisfy»</text></a><!--MD5=[b04b17865d2195efda6d6dc355c7c688]\n",
       "@startuml\r\n",
       " \r\n",
       "package \"RequirementTest\" as E1  [[psysml:f822a5b9-f637-4bfc-9356-d45755be39c3 ]]  {\r\n",
       "comp def \"C\" as E2  <<(D,brown)constraint def>> [[psysml:55e0c843-cabd-4238-9430-5e5ddb37e322 ]] {\r\n",
       "}\r\n",
       "comp usage \"c: C\" as E3  <<(U,orange)constraint>> [[psysml:943270d7-f648-4f2b-99ed-798f0a01be75 ]] {\r\n",
       "}\r\n",
       "comp def \"R\" as E4  <<(D,brown)requirement def>> [[psysml:3547be1a-4b91-4a24-a66e-ac992d912d25 ]] {\r\n",
       "\r\n",
       "- -\r\n",
       "- - constraints - -\r\n",
       "<b>require</b> c\r\n",
       "<i>assume</i> c1: C\r\n",
       "}\r\n",
       "comp usage \"<s>noname</s>\" as E7  <<(U,orange)requirement>> [[psysml:5cc59123-afbd-4e9a-96fa-0bfa0b631260 ]] {\r\n",
       "}\r\n",
       "comp def \" [<b>1</b>] A\" as E8  <<(D,brown)requirement def>> [[psysml:49e593a4-f39b-4803-a2ce-02c26b916197 ]] {\r\n",
       "Text\r\n",
       "- -\r\n",
       "}\r\n",
       "comp def \"R1\" as E9  <<(D,brown)requirement def>> [[psysml:79fb73d3-867b-49b4-8196-8eb6e64f62f0 ]] {\r\n",
       "- - constraints - -\r\n",
       "<b>require</b> c1\\n//:>>RequirementTest::c// \r\n",
       "}\r\n",
       "comp usage \"p\" as E11  << (P,limegreen) part>> [[psysml:510a33c1-eff7-4e5e-90b4-a63ef5b72ae6 ]] {\r\n",
       "}\r\n",
       "comp usage \"q\" as E12  << (P,limegreen) part>> [[psysml:a6cd5ff6-20a0-4014-8266-5a2f114de57c ]] {\r\n",
       "}\r\n",
       "comp usage \"r: R\" as E13  <<(U,orange)requirement>> [[psysml:50b94a4a-7c4d-4845-a3da-b360d2df1f8c ]] {\r\n",
       "}\r\n",
       "E3 - -:|> E2 [[psysml:e8229714-231f-4f2a-9005-056b1e69efb5 ]] \r\n",
       "E4 *- - E7 [[psysml:eafce8af-10f9-4af7-9431-7513cc7d3347 ]] \r\n",
       "E4 +- - E8 [[psysml:a0130814-5dc8-48af-af1a-9e985463643e ]] \r\n",
       "E12 *- - E13 [[psysml:044b978f-2385-4425-992f-2d75b645c055 ]] \r\n",
       "E13 - -:|> E4 [[psysml:279d9c9b-21cb-4076-8967-339bf6a79b4c ]] \r\n",
       "E13 ..> E11 [[psysml:fcf36e7c-2665-4a1d-8cf4-6fcc5b08ef04 ]] : <<satisfy>>\r\n",
       "}\r\n",
       "@enduml\r\n",
       "\n",
       "PlantUML version 1.2020.13(Sat Jun 13 12:26:38 UTC 2020)\n",
       "(EPL source distribution)\n",
       "Java Runtime: OpenJDK Runtime Environment\n",
       "JVM: OpenJDK 64-Bit Server VM\n",
       "Default Encoding: UTF-8\n",
       "Language: en\n",
       "Country: null\n",
       "--></g></svg>"
      ]
     },
     "execution_count": 31,
     "metadata": {},
     "output_type": "execute_result"
    }
   ],
   "source": [
    "%viz --style=\"PLANTUML\" --view=\"Tree\" \"RequirementTest\""
   ]
  },
  {
   "cell_type": "code",
   "execution_count": 32,
   "id": "a75e468d",
   "metadata": {
    "execution": {
     "iopub.execute_input": "2021-04-21T20:21:30.019449Z",
     "iopub.status.busy": "2021-04-21T20:21:30.019049Z",
     "iopub.status.idle": "2021-04-21T20:21:30.107653Z",
     "shell.execute_reply": "2021-04-21T20:21:30.107235Z"
    }
   },
   "outputs": [
    {
     "data": {
      "image/svg+xml": [
       "<?xml version=\"1.0\" encoding=\"UTF-8\" standalone=\"no\"?><svg xmlns=\"http://www.w3.org/2000/svg\" xmlns:xlink=\"http://www.w3.org/1999/xlink\" contentScriptType=\"application/ecmascript\" contentStyleType=\"text/css\" height=\"303px\" preserveAspectRatio=\"none\" style=\"width:603px;height:303px;background:#000000;\" version=\"1.1\" viewBox=\"0 0 603 303\" width=\"603px\" zoomAndPan=\"magnify\"><defs/><g><rect fill=\"#22271D\" height=\"1\" style=\"stroke: #22271D; stroke-width: 1.0;\" width=\"1\" x=\"0\" y=\"0\"/><rect fill=\"#FFFFFF\" height=\"205.5625\" style=\"stroke: #FFFFFF; stroke-width: 1.0;\" width=\"602\" x=\"0\" y=\"0\"/><text fill=\"#000000\" font-family=\"sans-serif\" font-size=\"12\" font-weight=\"bold\" lengthAdjust=\"spacingAndGlyphs\" textLength=\"159\" x=\"5\" y=\"16.1387\">Welcome to PlantUML!</text><text fill=\"#000000\" font-family=\"sans-serif\" font-size=\"12\" lengthAdjust=\"spacingAndGlyphs\" textLength=\"0\" x=\"9\" y=\"30.1074\"/><text fill=\"#000000\" font-family=\"sans-serif\" font-size=\"12\" lengthAdjust=\"spacingAndGlyphs\" textLength=\"293\" x=\"5\" y=\"44.0762\">If you use this software, you accept its license.</text><text fill=\"#000000\" font-family=\"sans-serif\" font-size=\"12\" lengthAdjust=\"spacingAndGlyphs\" textLength=\"107\" x=\"5\" y=\"58.0449\">(details by typing</text><text fill=\"#000000\" font-family=\"monospace\" font-size=\"12\" lengthAdjust=\"spacingAndGlyphs\" textLength=\"49\" x=\"116\" y=\"58.0449\">license</text><text fill=\"#000000\" font-family=\"sans-serif\" font-size=\"12\" lengthAdjust=\"spacingAndGlyphs\" textLength=\"56\" x=\"169\" y=\"58.0449\">keyword)</text><text fill=\"#000000\" font-family=\"sans-serif\" font-size=\"12\" lengthAdjust=\"spacingAndGlyphs\" textLength=\"0\" x=\"9\" y=\"72.0137\"/><text fill=\"#000000\" font-family=\"sans-serif\" font-size=\"12\" lengthAdjust=\"spacingAndGlyphs\" textLength=\"283\" x=\"5\" y=\"85.9824\">You can start with a simple UML Diagram like:</text><text fill=\"#000000\" font-family=\"sans-serif\" font-size=\"12\" lengthAdjust=\"spacingAndGlyphs\" textLength=\"0\" x=\"9\" y=\"99.9512\"/><text fill=\"#000000\" font-family=\"monospace\" font-size=\"12\" lengthAdjust=\"spacingAndGlyphs\" textLength=\"119\" x=\"5\" y=\"113.9199\">Bob-&gt;Alice: Hello</text><text fill=\"#000000\" font-family=\"sans-serif\" font-size=\"12\" lengthAdjust=\"spacingAndGlyphs\" textLength=\"0\" x=\"9\" y=\"127.8887\"/><text fill=\"#000000\" font-family=\"sans-serif\" font-size=\"12\" lengthAdjust=\"spacingAndGlyphs\" textLength=\"14\" x=\"5\" y=\"141.8574\">Or</text><text fill=\"#000000\" font-family=\"sans-serif\" font-size=\"12\" lengthAdjust=\"spacingAndGlyphs\" textLength=\"0\" x=\"9\" y=\"155.8262\"/><text fill=\"#000000\" font-family=\"monospace\" font-size=\"12\" lengthAdjust=\"spacingAndGlyphs\" textLength=\"91\" x=\"5\" y=\"169.7949\">class Example</text><text fill=\"#000000\" font-family=\"sans-serif\" font-size=\"12\" lengthAdjust=\"spacingAndGlyphs\" textLength=\"0\" x=\"9\" y=\"183.7637\"/><text fill=\"#000000\" font-family=\"sans-serif\" font-size=\"12\" lengthAdjust=\"spacingAndGlyphs\" textLength=\"349\" x=\"5\" y=\"197.7324\">You will find more information about PlantUML syntax on</text><text fill=\"#000000\" font-family=\"sans-serif\" font-size=\"12\" lengthAdjust=\"spacingAndGlyphs\" text-decoration=\"underline\" textLength=\"129\" x=\"358\" y=\"197.7324\">https://plantuml.com</text><image height=\"71\" width=\"80\" x=\"516\" xlink:href=\"data:image/png;base64,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\" y=\"6\"/><rect fill=\"#000000\" height=\"96.4844\" style=\"stroke: #000000; stroke-width: 1.0;\" width=\"602\" x=\"0\" y=\"205.5625\"/><rect fill=\"#33FF02\" height=\"21.2969\" style=\"stroke: #33FF02; stroke-width: 1.0;\" width=\"170\" x=\"5\" y=\"210.5625\"/><text fill=\"#000000\" font-family=\"sans-serif\" font-size=\"14\" font-weight=\"bold\" lengthAdjust=\"spacingAndGlyphs\" textLength=\"168\" x=\"6\" y=\"225.5625\">[From string (line 2) ]</text><text fill=\"#33FF02\" font-family=\"sans-serif\" font-size=\"14\" font-weight=\"bold\" lengthAdjust=\"spacingAndGlyphs\" textLength=\"0\" x=\"10\" y=\"245.8594\"/><text fill=\"#33FF02\" font-family=\"sans-serif\" font-size=\"14\" font-weight=\"bold\" lengthAdjust=\"spacingAndGlyphs\" textLength=\"79\" x=\"5\" y=\"262.1563\">@startuml</text><text fill=\"#33FF02\" font-family=\"sans-serif\" font-size=\"14\" font-weight=\"bold\" lengthAdjust=\"spacingAndGlyphs\" textLength=\"0\" x=\"10\" y=\"278.4531\"/><text fill=\"#FF0000\" font-family=\"sans-serif\" font-size=\"14\" font-weight=\"bold\" lengthAdjust=\"spacingAndGlyphs\" textLength=\"142\" x=\"10\" y=\"294.75\">Empty description</text><!--MD5=[f59edd8218d337f74d0c332fc6737304]\n",
       "@startuml\r\n",
       " \r\n",
       "@enduml\r\n",
       "\n",
       "PlantUML version 1.2020.13(Sat Jun 13 12:26:38 UTC 2020)\n",
       "(EPL source distribution)\n",
       "Java Runtime: OpenJDK Runtime Environment\n",
       "JVM: OpenJDK 64-Bit Server VM\n",
       "Default Encoding: UTF-8\n",
       "Language: en\n",
       "Country: null\n",
       "--></g></svg>"
      ]
     },
     "execution_count": 32,
     "metadata": {},
     "output_type": "execute_result"
    }
   ],
   "source": [
    "%viz --style=\"PLANTUML\" --view=\"State\" \"RequirementTest\""
   ]
  },
  {
   "cell_type": "code",
   "execution_count": 33,
   "id": "6464080c",
   "metadata": {
    "execution": {
     "iopub.execute_input": "2021-04-21T20:21:30.156703Z",
     "iopub.status.busy": "2021-04-21T20:21:30.156187Z",
     "iopub.status.idle": "2021-04-21T20:21:30.270395Z",
     "shell.execute_reply": "2021-04-21T20:21:30.268385Z"
    }
   },
   "outputs": [
    {
     "data": {
      "image/svg+xml": [
       "<?xml version=\"1.0\" encoding=\"UTF-8\" standalone=\"no\"?><svg xmlns=\"http://www.w3.org/2000/svg\" xmlns:xlink=\"http://www.w3.org/1999/xlink\" contentScriptType=\"application/ecmascript\" contentStyleType=\"text/css\" height=\"408px\" preserveAspectRatio=\"none\" style=\"width:536px;height:408px;\" version=\"1.1\" viewBox=\"0 0 536 408\" width=\"536px\" zoomAndPan=\"magnify\"><defs><filter height=\"300%\" id=\"f1x2hom1i5kboc\" width=\"300%\" x=\"-1\" y=\"-1\"><feGaussianBlur result=\"blurOut\" stdDeviation=\"2.0\"/><feColorMatrix in=\"blurOut\" result=\"blurOut2\" type=\"matrix\" values=\"0 0 0 0 0 0 0 0 0 0 0 0 0 0 0 0 0 0 .4 0\"/><feOffset dx=\"4.0\" dy=\"4.0\" in=\"blurOut2\" result=\"blurOut3\"/><feBlend in=\"SourceGraphic\" in2=\"blurOut3\" mode=\"normal\"/></filter></defs><g><!--MD5=[fbc87193dbaf4d95561dea2c320d4a47]\n",
       "cluster E1--><a href=\"psysml:f822a5b9-f637-4bfc-9356-d45755be39c3\" target=\"_top\" title=\"psysml:f822a5b9-f637-4bfc-9356-d45755be39c3\" xlink:actuate=\"onRequest\" xlink:href=\"psysml:f822a5b9-f637-4bfc-9356-d45755be39c3\" xlink:show=\"new\" xlink:title=\"psysml:f822a5b9-f637-4bfc-9356-d45755be39c3\" xlink:type=\"simple\"><polygon fill=\"#FFFFFF\" filter=\"url(#f1x2hom1i5kboc)\" points=\"16,6,158,6,165,28.2969,514,28.2969,514,396,16,396,16,6\" style=\"stroke: #000000; stroke-width: 1.5;\"/><line style=\"stroke: #000000; stroke-width: 1.5;\" x1=\"16\" x2=\"165\" y1=\"28.2969\" y2=\"28.2969\"/><text fill=\"#000000\" font-family=\"sans-serif\" font-size=\"14\" font-weight=\"bold\" lengthAdjust=\"spacingAndGlyphs\" textLength=\"136\" x=\"20\" y=\"20.9951\">RequirementTest</text></a><!--MD5=[47bea60c1a0ac6c1143df232041969c0]\n",
       "cluster E12--><a href=\"psysml:a6cd5ff6-20a0-4014-8266-5a2f114de57c\" target=\"_top\" title=\"psysml:a6cd5ff6-20a0-4014-8266-5a2f114de57c\" xlink:actuate=\"onRequest\" xlink:href=\"psysml:a6cd5ff6-20a0-4014-8266-5a2f114de57c\" xlink:show=\"new\" xlink:title=\"psysml:a6cd5ff6-20a0-4014-8266-5a2f114de57c\" xlink:type=\"simple\"><rect fill=\"#FFFFFF\" filter=\"url(#f1x2hom1i5kboc)\" height=\"97\" id=\"E12\" rx=\"10\" ry=\"10\" style=\"stroke: #A80036; stroke-width: 1.5;\" width=\"152\" x=\"338\" y=\"49\"/><rect fill=\"#FEFECE\" height=\"23.9688\" rx=\"10\" ry=\"10\" style=\"stroke: #FEFECE; stroke-width: 1.5;\" width=\"152\" x=\"338\" y=\"49\"/><rect fill=\"#FEFECE\" height=\"10\" style=\"stroke: #FEFECE; stroke-width: 1.5;\" width=\"152\" x=\"338\" y=\"62.9688\"/><rect fill=\"none\" height=\"97\" id=\"E12\" rx=\"10\" ry=\"10\" style=\"stroke: #A80036; stroke-width: 1.5;\" width=\"152\" x=\"338\" y=\"49\"/><text fill=\"#000000\" font-family=\"sans-serif\" font-size=\"12\" lengthAdjust=\"spacingAndGlyphs\" textLength=\"8\" x=\"410\" y=\"65.1387\">q</text><line style=\"stroke: #A80036; stroke-width: 1.0;\" x1=\"338\" x2=\"490\" y1=\"72.9688\" y2=\"72.9688\"/></a><g id=\"E1.E2\"><a href=\"psysml:55e0c843-cabd-4238-9430-5e5ddb37e322\" target=\"_top\" title=\"psysml:55e0c843-cabd-4238-9430-5e5ddb37e322\" xlink:actuate=\"onRequest\" xlink:href=\"psysml:55e0c843-cabd-4238-9430-5e5ddb37e322\" xlink:show=\"new\" xlink:title=\"psysml:55e0c843-cabd-4238-9430-5e5ddb37e322\" xlink:type=\"simple\"><rect fill=\"#FEFECE\" filter=\"url(#f1x2hom1i5kboc)\" height=\"42.9375\" id=\"E2\" style=\"stroke: #A80036; stroke-width: 1.5;\" width=\"135\" x=\"99.5\" y=\"220\"/><ellipse cx=\"116.75\" cy=\"238.9688\" fill=\"#A52A2A\" rx=\"11\" ry=\"11\" style=\"stroke: #A80036; stroke-width: 1.0;\"/><path d=\"M116.3438,234.7813 L116.3438,242.7656 L117,242.7656 Q118.4375,242.7656 119.0469,241.8594 Q119.6719,240.9375 119.6719,238.7656 Q119.6719,236.5938 119.0469,235.6875 Q118.4375,234.7813 117,234.7813 L116.3438,234.7813 Z M113.8906,232.5781 L116.5156,232.5781 Q119.5469,232.5781 120.875,234.0313 Q122.2188,235.4688 122.2188,238.7656 Q122.2188,242.0625 120.875,243.5156 Q119.5469,244.9688 116.5156,244.9688 L113.8906,244.9688 L113.8906,232.5781 Z \"/><text fill=\"#000000\" font-family=\"sans-serif\" font-size=\"12\" font-style=\"italic\" lengthAdjust=\"spacingAndGlyphs\" textLength=\"102\" x=\"129.25\" y=\"236.1387\">«constraint def»</text><text fill=\"#000000\" font-family=\"sans-serif\" font-size=\"12\" lengthAdjust=\"spacingAndGlyphs\" textLength=\"8\" x=\"176.25\" y=\"250.1074\">C</text></a></g><!--MD5=[09b614a08d8cba4a07c9adeb5e0fee81]\n",
       "class E3--><a href=\"psysml:943270d7-f648-4f2b-99ed-798f0a01be75\" target=\"_top\" title=\"psysml:943270d7-f648-4f2b-99ed-798f0a01be75\" xlink:actuate=\"onRequest\" xlink:href=\"psysml:943270d7-f648-4f2b-99ed-798f0a01be75\" xlink:show=\"new\" xlink:title=\"psysml:943270d7-f648-4f2b-99ed-798f0a01be75\" xlink:type=\"simple\"><rect fill=\"#FEFECE\" filter=\"url(#f1x2hom1i5kboc)\" height=\"45.9375\" id=\"E3\" rx=\"10\" ry=\"10\" style=\"stroke: #A80036; stroke-width: 1.5;\" width=\"106\" x=\"213\" y=\"84\"/><ellipse cx=\"228\" cy=\"102.9688\" fill=\"#FFA500\" rx=\"11\" ry=\"11\" style=\"stroke: #A80036; stroke-width: 1.0;\"/><path d=\"M223.875,104.8906 L223.875,97.0781 L226.3281,97.0781 L226.3281,105.5156 Q226.3281,106.4375 226.7969,106.9688 Q227.2813,107.5 228.1094,107.5 Q228.9531,107.5 229.4219,106.9688 Q229.8906,106.4375 229.8906,105.5156 L229.8906,97.0781 L232.3438,97.0781 L232.3438,104.8906 Q232.3438,107.4219 231.3438,108.5625 Q230.3438,109.7031 228.1094,109.7031 Q225.8906,109.7031 224.875,108.5625 Q223.875,107.4219 223.875,104.8906 Z \"/><text fill=\"#000000\" font-family=\"sans-serif\" font-size=\"12\" font-style=\"italic\" lengthAdjust=\"spacingAndGlyphs\" textLength=\"78\" x=\"240\" y=\"100.1387\">«constraint»</text><text fill=\"#000000\" font-family=\"sans-serif\" font-size=\"12\" lengthAdjust=\"spacingAndGlyphs\" textLength=\"23\" x=\"267.5\" y=\"114.1074\">c: C</text><line style=\"stroke: #A80036; stroke-width: 1.5;\" x1=\"214\" x2=\"318\" y1=\"121.9375\" y2=\"121.9375\"/></a><!--MD5=[ebbe1d658d1005bcc118a6aa81145e00]\n",
       "class E4--><a href=\"psysml:3547be1a-4b91-4a24-a66e-ac992d912d25\" target=\"_top\" title=\"psysml:3547be1a-4b91-4a24-a66e-ac992d912d25\" xlink:actuate=\"onRequest\" xlink:href=\"psysml:3547be1a-4b91-4a24-a66e-ac992d912d25\" xlink:show=\"new\" xlink:title=\"psysml:3547be1a-4b91-4a24-a66e-ac992d912d25\" xlink:type=\"simple\"><rect fill=\"#FEFECE\" filter=\"url(#f1x2hom1i5kboc)\" height=\"109.1563\" id=\"E4\" style=\"stroke: #A80036; stroke-width: 1.5;\" width=\"143\" x=\"269.5\" y=\"187\"/><ellipse cx=\"284.5\" cy=\"205.9688\" fill=\"#A52A2A\" rx=\"11\" ry=\"11\" style=\"stroke: #A80036; stroke-width: 1.0;\"/><path d=\"M284.0938,201.7813 L284.0938,209.7656 L284.75,209.7656 Q286.1875,209.7656 286.7969,208.8594 Q287.4219,207.9375 287.4219,205.7656 Q287.4219,203.5938 286.7969,202.6875 Q286.1875,201.7813 284.75,201.7813 L284.0938,201.7813 Z M281.6406,199.5781 L284.2656,199.5781 Q287.2969,199.5781 288.625,201.0313 Q289.9688,202.4688 289.9688,205.7656 Q289.9688,209.0625 288.625,210.5156 Q287.2969,211.9688 284.2656,211.9688 L281.6406,211.9688 L281.6406,199.5781 Z \"/><text fill=\"#000000\" font-family=\"sans-serif\" font-size=\"12\" font-style=\"italic\" lengthAdjust=\"spacingAndGlyphs\" textLength=\"115\" x=\"296.5\" y=\"203.1387\">«requirement def»</text><text fill=\"#000000\" font-family=\"sans-serif\" font-size=\"12\" lengthAdjust=\"spacingAndGlyphs\" textLength=\"8\" x=\"350\" y=\"217.1074\">R</text><line style=\"stroke: #A80036; stroke-width: 1.5;\" x1=\"270.5\" x2=\"411.5\" y1=\"224.9375\" y2=\"224.9375\"/><text fill=\"#000000\" font-family=\"sans-serif\" font-size=\"11\" lengthAdjust=\"spacingAndGlyphs\" textLength=\"0\" x=\"279.5\" y=\"239.1479\"/><line style=\"stroke: #A80036; stroke-width: 1.0;\" x1=\"270.5\" x2=\"411.5\" y1=\"245.7422\" y2=\"245.7422\"/><text fill=\"#000000\" font-family=\"sans-serif\" font-size=\"11\" font-weight=\"bold\" lengthAdjust=\"spacingAndGlyphs\" textLength=\"46\" x=\"275.5\" y=\"276.7573\">require</text><text fill=\"#000000\" font-family=\"sans-serif\" font-size=\"11\" lengthAdjust=\"spacingAndGlyphs\" textLength=\"6\" x=\"325.5\" y=\"276.7573\">c</text><text fill=\"#000000\" font-family=\"sans-serif\" font-size=\"11\" font-style=\"italic\" lengthAdjust=\"spacingAndGlyphs\" textLength=\"46\" x=\"275.5\" y=\"289.562\">assume</text><text fill=\"#000000\" font-family=\"sans-serif\" font-size=\"11\" lengthAdjust=\"spacingAndGlyphs\" textLength=\"29\" x=\"325.5\" y=\"289.562\">c1: C</text><line style=\"stroke: #A80036; stroke-width: 1.0;\" x1=\"270.5\" x2=\"309\" y1=\"260.1445\" y2=\"260.1445\"/><text fill=\"#000000\" font-family=\"sans-serif\" font-size=\"11\" lengthAdjust=\"spacingAndGlyphs\" textLength=\"64\" x=\"309\" y=\"263.4526\">constraints</text><line style=\"stroke: #A80036; stroke-width: 1.0;\" x1=\"373\" x2=\"411.5\" y1=\"260.1445\" y2=\"260.1445\"/></a><!--MD5=[2156ba9850f5573cc1fc38a6a4b2f02b]\n",
       "class E7--><a href=\"psysml:5cc59123-afbd-4e9a-96fa-0bfa0b631260\" target=\"_top\" title=\"psysml:5cc59123-afbd-4e9a-96fa-0bfa0b631260\" xlink:actuate=\"onRequest\" xlink:href=\"psysml:5cc59123-afbd-4e9a-96fa-0bfa0b631260\" xlink:show=\"new\" xlink:title=\"psysml:5cc59123-afbd-4e9a-96fa-0bfa0b631260\" xlink:type=\"simple\"><rect fill=\"#FEFECE\" filter=\"url(#f1x2hom1i5kboc)\" height=\"45.9375\" id=\"E7\" rx=\"10\" ry=\"10\" style=\"stroke: #A80036; stroke-width: 1.5;\" width=\"119\" x=\"178.5\" y=\"323.5\"/><ellipse cx=\"193.5\" cy=\"342.4688\" fill=\"#FFA500\" rx=\"11\" ry=\"11\" style=\"stroke: #A80036; stroke-width: 1.0;\"/><path d=\"M189.375,344.3906 L189.375,336.5781 L191.8281,336.5781 L191.8281,345.0156 Q191.8281,345.9375 192.2969,346.4688 Q192.7813,347 193.6094,347 Q194.4531,347 194.9219,346.4688 Q195.3906,345.9375 195.3906,345.0156 L195.3906,336.5781 L197.8438,336.5781 L197.8438,344.3906 Q197.8438,346.9219 196.8438,348.0625 Q195.8438,349.2031 193.6094,349.2031 Q191.3906,349.2031 190.375,348.0625 Q189.375,346.9219 189.375,344.3906 Z \"/><text fill=\"#000000\" font-family=\"sans-serif\" font-size=\"12\" font-style=\"italic\" lengthAdjust=\"spacingAndGlyphs\" textLength=\"91\" x=\"205.5\" y=\"339.6387\">«requirement»</text><text fill=\"#000000\" font-family=\"sans-serif\" font-size=\"12\" lengthAdjust=\"spacingAndGlyphs\" text-decoration=\"line-through\" textLength=\"51\" x=\"225.5\" y=\"353.6074\">noname</text><line style=\"stroke: #A80036; stroke-width: 1.5;\" x1=\"179.5\" x2=\"296.5\" y1=\"361.4375\" y2=\"361.4375\"/></a><!--MD5=[b9389687b975829384b498ac4b7476b2]\n",
       "class E8--><a href=\"psysml:49e593a4-f39b-4803-a2ce-02c26b916197\" target=\"_top\" title=\"psysml:49e593a4-f39b-4803-a2ce-02c26b916197\" xlink:actuate=\"onRequest\" xlink:href=\"psysml:49e593a4-f39b-4803-a2ce-02c26b916197\" xlink:show=\"new\" xlink:title=\"psysml:49e593a4-f39b-4803-a2ce-02c26b916197\" xlink:type=\"simple\"><rect fill=\"#FEFECE\" filter=\"url(#f1x2hom1i5kboc)\" height=\"66.7422\" id=\"E8\" style=\"stroke: #A80036; stroke-width: 1.5;\" width=\"143\" x=\"332.5\" y=\"313\"/><ellipse cx=\"347.5\" cy=\"331.9688\" fill=\"#A52A2A\" rx=\"11\" ry=\"11\" style=\"stroke: #A80036; stroke-width: 1.0;\"/><path d=\"M347.0938,327.7813 L347.0938,335.7656 L347.75,335.7656 Q349.1875,335.7656 349.7969,334.8594 Q350.4219,333.9375 350.4219,331.7656 Q350.4219,329.5938 349.7969,328.6875 Q349.1875,327.7813 347.75,327.7813 L347.0938,327.7813 Z M344.6406,325.5781 L347.2656,325.5781 Q350.2969,325.5781 351.625,327.0313 Q352.9688,328.4688 352.9688,331.7656 Q352.9688,335.0625 351.625,336.5156 Q350.2969,337.9688 347.2656,337.9688 L344.6406,337.9688 L344.6406,325.5781 Z \"/><text fill=\"#000000\" font-family=\"sans-serif\" font-size=\"12\" font-style=\"italic\" lengthAdjust=\"spacingAndGlyphs\" textLength=\"115\" x=\"359.5\" y=\"329.1387\">«requirement def»</text><text fill=\"#000000\" font-family=\"sans-serif\" font-size=\"12\" lengthAdjust=\"spacingAndGlyphs\" textLength=\"5\" x=\"404\" y=\"343.1074\">[</text><text fill=\"#000000\" font-family=\"sans-serif\" font-size=\"12\" font-weight=\"bold\" lengthAdjust=\"spacingAndGlyphs\" textLength=\"8\" x=\"409\" y=\"343.1074\">1</text><text fill=\"#000000\" font-family=\"sans-serif\" font-size=\"12\" lengthAdjust=\"spacingAndGlyphs\" textLength=\"17\" x=\"417\" y=\"343.1074\">] A</text><line style=\"stroke: #A80036; stroke-width: 1.5;\" x1=\"333.5\" x2=\"474.5\" y1=\"350.9375\" y2=\"350.9375\"/><text fill=\"#000000\" font-family=\"sans-serif\" font-size=\"11\" lengthAdjust=\"spacingAndGlyphs\" textLength=\"24\" x=\"338.5\" y=\"365.1479\">Text</text><line style=\"stroke: #A80036; stroke-width: 1.0;\" x1=\"333.5\" x2=\"474.5\" y1=\"371.7422\" y2=\"371.7422\"/></a><!--MD5=[fd4143e9d270a159db93a4ea2a975926]\n",
       "class E9--><a href=\"psysml:79fb73d3-867b-49b4-8196-8eb6e64f62f0\" target=\"_top\" title=\"psysml:79fb73d3-867b-49b4-8196-8eb6e64f62f0\" xlink:actuate=\"onRequest\" xlink:href=\"psysml:79fb73d3-867b-49b4-8196-8eb6e64f62f0\" xlink:show=\"new\" xlink:title=\"psysml:79fb73d3-867b-49b4-8196-8eb6e64f62f0\" xlink:type=\"simple\"><rect fill=\"#FEFECE\" filter=\"url(#f1x2hom1i5kboc)\" height=\"88.3516\" id=\"E9\" style=\"stroke: #A80036; stroke-width: 1.5;\" width=\"145\" x=\"32.5\" y=\"63\"/><ellipse cx=\"48.4\" cy=\"81.9688\" fill=\"#A52A2A\" rx=\"11\" ry=\"11\" style=\"stroke: #A80036; stroke-width: 1.0;\"/><path d=\"M47.9938,77.7813 L47.9938,85.7656 L48.65,85.7656 Q50.0875,85.7656 50.6969,84.8594 Q51.3219,83.9375 51.3219,81.7656 Q51.3219,79.5938 50.6969,78.6875 Q50.0875,77.7813 48.65,77.7813 L47.9938,77.7813 Z M45.5406,75.5781 L48.1656,75.5781 Q51.1969,75.5781 52.525,77.0313 Q53.8688,78.4688 53.8688,81.7656 Q53.8688,85.0625 52.525,86.5156 Q51.1969,87.9688 48.1656,87.9688 L45.5406,87.9688 L45.5406,75.5781 Z \"/><text fill=\"#000000\" font-family=\"sans-serif\" font-size=\"12\" font-style=\"italic\" lengthAdjust=\"spacingAndGlyphs\" textLength=\"115\" x=\"60.6\" y=\"79.1387\">«requirement def»</text><text fill=\"#000000\" font-family=\"sans-serif\" font-size=\"12\" lengthAdjust=\"spacingAndGlyphs\" textLength=\"16\" x=\"110.1\" y=\"93.1074\">R1</text><line style=\"stroke: #A80036; stroke-width: 1.5;\" x1=\"33.5\" x2=\"176.5\" y1=\"100.9375\" y2=\"100.9375\"/><text fill=\"#000000\" font-family=\"sans-serif\" font-size=\"11\" font-weight=\"bold\" lengthAdjust=\"spacingAndGlyphs\" textLength=\"46\" x=\"38.5\" y=\"131.9526\">require</text><text fill=\"#000000\" font-family=\"sans-serif\" font-size=\"11\" lengthAdjust=\"spacingAndGlyphs\" textLength=\"13\" x=\"88.5\" y=\"131.9526\">c1</text><text fill=\"#000000\" font-family=\"sans-serif\" font-size=\"11\" font-style=\"italic\" lengthAdjust=\"spacingAndGlyphs\" textLength=\"133\" x=\"38.5\" y=\"144.7573\">:&gt;&gt;RequirementTest::c</text><line style=\"stroke: #A80036; stroke-width: 1.0;\" x1=\"33.5\" x2=\"73\" y1=\"115.3398\" y2=\"115.3398\"/><text fill=\"#000000\" font-family=\"sans-serif\" font-size=\"11\" lengthAdjust=\"spacingAndGlyphs\" textLength=\"64\" x=\"73\" y=\"118.6479\">constraints</text><line style=\"stroke: #A80036; stroke-width: 1.0;\" x1=\"137\" x2=\"176.5\" y1=\"115.3398\" y2=\"115.3398\"/></a><g id=\"E1.E11\"><a href=\"psysml:510a33c1-eff7-4e5e-90b4-a63ef5b72ae6\" target=\"_top\" title=\"psysml:510a33c1-eff7-4e5e-90b4-a63ef5b72ae6\" xlink:actuate=\"onRequest\" xlink:href=\"psysml:510a33c1-eff7-4e5e-90b4-a63ef5b72ae6\" xlink:show=\"new\" xlink:title=\"psysml:510a33c1-eff7-4e5e-90b4-a63ef5b72ae6\" xlink:type=\"simple\"><rect fill=\"#FEFECE\" filter=\"url(#f1x2hom1i5kboc)\" height=\"40\" id=\"E11\" rx=\"10\" ry=\"10\" style=\"stroke: #A80036; stroke-width: 1.5;\" width=\"50\" x=\"448\" y=\"221.5\"/><ellipse cx=\"467.5\" cy=\"237.5\" fill=\"#B6DBBB\" rx=\"11\" ry=\"11\" style=\"stroke: #A80036; stroke-width: 1.0;\"/><path d=\"M463.375,239.4219 L463.375,231.6094 L465.8281,231.6094 L465.8281,240.0469 Q465.8281,240.9688 466.2969,241.5 Q466.7813,242.0313 467.6094,242.0313 Q468.4531,242.0313 468.9219,241.5 Q469.3906,240.9688 469.3906,240.0469 L469.3906,231.6094 L471.8438,231.6094 L471.8438,239.4219 Q471.8438,241.9531 470.8438,243.0938 Q469.8438,244.2344 467.6094,244.2344 Q465.3906,244.2344 464.375,243.0938 Q463.375,241.9531 463.375,239.4219 Z \"/><text fill=\"#000000\" font-family=\"sans-serif\" font-size=\"12\" lengthAdjust=\"spacingAndGlyphs\" textLength=\"8\" x=\"482.5\" y=\"241.6543\">p</text></a></g><!--MD5=[ee3c913d1a06f366521f9ef512b67efe]\n",
       "class E13--><a href=\"psysml:50b94a4a-7c4d-4845-a3da-b360d2df1f8c\" target=\"_top\" title=\"psysml:50b94a4a-7c4d-4845-a3da-b360d2df1f8c\" xlink:actuate=\"onRequest\" xlink:href=\"psysml:50b94a4a-7c4d-4845-a3da-b360d2df1f8c\" xlink:show=\"new\" xlink:title=\"psysml:50b94a4a-7c4d-4845-a3da-b360d2df1f8c\" xlink:type=\"simple\"><rect fill=\"#FEFECE\" filter=\"url(#f1x2hom1i5kboc)\" height=\"45.9375\" id=\"E13\" rx=\"10\" ry=\"10\" style=\"stroke: #A80036; stroke-width: 1.5;\" width=\"119\" x=\"354.5\" y=\"84\"/><ellipse cx=\"369.5\" cy=\"102.9688\" fill=\"#FFA500\" rx=\"11\" ry=\"11\" style=\"stroke: #A80036; stroke-width: 1.0;\"/><path d=\"M365.375,104.8906 L365.375,97.0781 L367.8281,97.0781 L367.8281,105.5156 Q367.8281,106.4375 368.2969,106.9688 Q368.7813,107.5 369.6094,107.5 Q370.4531,107.5 370.9219,106.9688 Q371.3906,106.4375 371.3906,105.5156 L371.3906,97.0781 L373.8438,97.0781 L373.8438,104.8906 Q373.8438,107.4219 372.8438,108.5625 Q371.8438,109.7031 369.6094,109.7031 Q367.3906,109.7031 366.375,108.5625 Q365.375,107.4219 365.375,104.8906 Z \"/><text fill=\"#000000\" font-family=\"sans-serif\" font-size=\"12\" font-style=\"italic\" lengthAdjust=\"spacingAndGlyphs\" textLength=\"91\" x=\"381.5\" y=\"100.1387\">«requirement»</text><text fill=\"#000000\" font-family=\"sans-serif\" font-size=\"12\" lengthAdjust=\"spacingAndGlyphs\" textLength=\"21\" x=\"416.5\" y=\"114.1074\">r: R</text><line style=\"stroke: #A80036; stroke-width: 1.5;\" x1=\"355.5\" x2=\"472.5\" y1=\"121.9375\" y2=\"121.9375\"/></a><!--MD5=[05d275557350bfb9b23a4ef7222b4c39]\n",
       "link E3 to E2--><a href=\"psysml:e8229714-231f-4f2a-9005-056b1e69efb5\" target=\"_top\" title=\"psysml:e8229714-231f-4f2a-9005-056b1e69efb5\" xlink:actuate=\"onRequest\" xlink:href=\"psysml:e8229714-231f-4f2a-9005-056b1e69efb5\" xlink:show=\"new\" xlink:title=\"psysml:e8229714-231f-4f2a-9005-056b1e69efb5\" xlink:type=\"simple\"><path d=\"M249.43,130.18 C234.44,150.24 212.09,180.16 194.43,203.78 \" fill=\"none\" id=\"E3-&gt;E2\" style=\"stroke: #A80036; stroke-width: 1.0;\"/><polygon fill=\"#FFFFFF\" points=\"182.32,219.99,188.0812,200.5784,199.298,208.956,182.32,219.99\" style=\"stroke: #A80036; stroke-width: 1.0;\"/><ellipse cx=\"193.0945\" cy=\"197.2084\" fill=\"#A80036\" rx=\"2\" ry=\"2\" style=\"stroke: #A80036; stroke-width: 1.0;\"/><ellipse cx=\"201.1065\" cy=\"203.1924\" fill=\"#A80036\" rx=\"2\" ry=\"2\" style=\"stroke: #A80036; stroke-width: 1.0;\"/></a><!--MD5=[722ff4eef345aa10242dad44df0e98c7]\n",
       "reverse link E4 to E7--><a href=\"psysml:eafce8af-10f9-4af7-9431-7513cc7d3347\" target=\"_top\" title=\"psysml:eafce8af-10f9-4af7-9431-7513cc7d3347\" xlink:actuate=\"onRequest\" xlink:href=\"psysml:eafce8af-10f9-4af7-9431-7513cc7d3347\" xlink:show=\"new\" xlink:title=\"psysml:eafce8af-10f9-4af7-9431-7513cc7d3347\" xlink:type=\"simple\"><path d=\"M278.04,305.46 C271.74,311.76 265.68,317.82 260.27,323.23 \" fill=\"none\" id=\"E4&lt;-E7\" style=\"stroke: #A80036; stroke-width: 1.0;\"/><polygon fill=\"#A80036\" points=\"287.39,296.11,280.3189,297.5242,278.9047,304.5953,285.9758,303.1811,287.39,296.11\" style=\"stroke: #A80036; stroke-width: 1.0;\"/></a><!--MD5=[c6fc7cdb0cabde04948078cf183fa696]\n",
       "reverse link E4 to E8--><a href=\"psysml:a0130814-5dc8-48af-af1a-9e985463643e\" target=\"_top\" title=\"psysml:a0130814-5dc8-48af-af1a-9e985463643e\" xlink:actuate=\"onRequest\" xlink:href=\"psysml:a0130814-5dc8-48af-af1a-9e985463643e\" xlink:show=\"new\" xlink:title=\"psysml:a0130814-5dc8-48af-af1a-9e985463643e\" xlink:type=\"simple\"><path d=\"M381.65,308.95 C382.43,310.23 383.2,311.5 383.96,312.74 \" fill=\"none\" id=\"E4&lt;-E8\" style=\"stroke: #A80036; stroke-width: 1.0;\"/><ellipse cx=\"377.9641\" cy=\"302.9347\" fill=\"#FFFFFF\" rx=\"8\" ry=\"8\" style=\"stroke: #A80036; stroke-width: 1.0;\"/><line style=\"stroke: #A80036; stroke-width: 1.0;\" x1=\"382.1381\" x2=\"373.79\" y1=\"309.7595\" y2=\"296.11\"/><line style=\"stroke: #A80036; stroke-width: 1.0;\" x1=\"371.1393\" x2=\"384.7888\" y1=\"307.1088\" y2=\"298.7607\"/></a><!--MD5=[017847e01ff9a8bd19f247411074f987]\n",
       "link E13 to E4--><a href=\"psysml:279d9c9b-21cb-4076-8967-339bf6a79b4c\" target=\"_top\" title=\"psysml:279d9c9b-21cb-4076-8967-339bf6a79b4c\" xlink:actuate=\"onRequest\" xlink:href=\"psysml:279d9c9b-21cb-4076-8967-339bf6a79b4c\" xlink:show=\"new\" xlink:title=\"psysml:279d9c9b-21cb-4076-8967-339bf6a79b4c\" xlink:type=\"simple\"><path d=\"M401.78,130.18 C395.79,141.06 388.2,154.83 380.43,168.94 \" fill=\"none\" id=\"E13-&gt;E4\" style=\"stroke: #A80036; stroke-width: 1.0;\"/><polygon fill=\"#FFFFFF\" points=\"370.6,186.78,373.6442,166.7617,385.9041,173.5216,370.6,186.78\" style=\"stroke: #A80036; stroke-width: 1.0;\"/><ellipse cx=\"378.1479\" cy=\"162.7359\" fill=\"#A80036\" rx=\"2\" ry=\"2\" style=\"stroke: #A80036; stroke-width: 1.0;\"/><ellipse cx=\"386.9049\" cy=\"167.5644\" fill=\"#A80036\" rx=\"2\" ry=\"2\" style=\"stroke: #A80036; stroke-width: 1.0;\"/></a><!--MD5=[2cfe899c895462254056921bfb67315f]\n",
       "link E13 to E11--><a href=\"psysml:fcf36e7c-2665-4a1d-8cf4-6fcc5b08ef04\" target=\"_top\" title=\"psysml:fcf36e7c-2665-4a1d-8cf4-6fcc5b08ef04\" xlink:actuate=\"onRequest\" xlink:href=\"psysml:fcf36e7c-2665-4a1d-8cf4-6fcc5b08ef04\" xlink:show=\"new\" xlink:title=\"psysml:fcf36e7c-2665-4a1d-8cf4-6fcc5b08ef04\" xlink:type=\"simple\"><path d=\"M423.88,130.18 C434.52,154.07 451.39,191.97 462.33,216.54 \" fill=\"none\" id=\"E13-&gt;E11\" style=\"stroke: #A80036; stroke-width: 1.0; stroke-dasharray: 7.0,7.0;\"/><polygon fill=\"#A80036\" points=\"464.44,221.27,464.4457,211.4211,462.412,216.6998,457.1333,214.666,464.44,221.27\" style=\"stroke: #A80036; stroke-width: 1.0;\"/><text fill=\"#000000\" font-family=\"sans-serif\" font-size=\"13\" lengthAdjust=\"spacingAndGlyphs\" textLength=\"57\" x=\"446\" y=\"175.0669\">«satisfy»</text></a><!--MD5=[5065efb605abdad6833f105791abb908]\n",
       "@startuml\r\n",
       "skinparam ranksep 10\r\n",
       "skinparam rectangle {\r\n",
       " backgroundColor<<block>> LightGreen\r\n",
       "}\r\n",
       " \r\n",
       "package \"RequirementTest\" as E1  [[psysml:f822a5b9-f637-4bfc-9356-d45755be39c3 ]]  {\r\n",
       "def \"C\" as E2  <<(D,brown)constraint def>> [[psysml:55e0c843-cabd-4238-9430-5e5ddb37e322 ]] \r\n",
       "comp usage \"c: C\" as E3  <<(U,orange)constraint>> [[psysml:943270d7-f648-4f2b-99ed-798f0a01be75 ]] {\r\n",
       "}\r\n",
       "comp def \"R\" as E4  <<(D,brown)requirement def>> [[psysml:3547be1a-4b91-4a24-a66e-ac992d912d25 ]] {\r\n",
       "\r\n",
       "- -\r\n",
       "- - constraints - -\r\n",
       "<b>require</b> c\r\n",
       "<i>assume</i> c1: C\r\n",
       "}\r\n",
       "comp usage \"<s>noname</s>\" as E7  <<(U,orange)requirement>> [[psysml:5cc59123-afbd-4e9a-96fa-0bfa0b631260 ]] {\r\n",
       "}\r\n",
       "comp def \" [<b>1</b>] A\" as E8  <<(D,brown)requirement def>> [[psysml:49e593a4-f39b-4803-a2ce-02c26b916197 ]] {\r\n",
       "Text\r\n",
       "- -\r\n",
       "}\r\n",
       "comp def \"R1\" as E9  <<(D,brown)requirement def>> [[psysml:79fb73d3-867b-49b4-8196-8eb6e64f62f0 ]] {\r\n",
       "- - constraints - -\r\n",
       "<b>require</b> c1\\n//:>>RequirementTest::c// \r\n",
       "}\r\n",
       "rec usage \"p\" as E11  [[psysml:510a33c1-eff7-4e5e-90b4-a63ef5b72ae6 ]] {\r\n",
       "}\r\n",
       "rec usage \"q\" as E12  [[psysml:a6cd5ff6-20a0-4014-8266-5a2f114de57c ]] {\r\n",
       "comp usage \"r: R\" as E13  <<(U,orange)requirement>> [[psysml:50b94a4a-7c4d-4845-a3da-b360d2df1f8c ]] {\r\n",
       "}\r\n",
       "}\r\n",
       "E3 - -:|> E2 [[psysml:e8229714-231f-4f2a-9005-056b1e69efb5 ]] \r\n",
       "E4 *- - E7 [[psysml:eafce8af-10f9-4af7-9431-7513cc7d3347 ]] \r\n",
       "E4 +- - E8 [[psysml:a0130814-5dc8-48af-af1a-9e985463643e ]] \r\n",
       "E13 - -:|> E4 [[psysml:279d9c9b-21cb-4076-8967-339bf6a79b4c ]] \r\n",
       "E13 ..> E11 [[psysml:fcf36e7c-2665-4a1d-8cf4-6fcc5b08ef04 ]] : <<satisfy>>\r\n",
       "}\r\n",
       "@enduml\r\n",
       "\n",
       "PlantUML version 1.2020.13(Sat Jun 13 12:26:38 UTC 2020)\n",
       "(EPL source distribution)\n",
       "Java Runtime: OpenJDK Runtime Environment\n",
       "JVM: OpenJDK 64-Bit Server VM\n",
       "Default Encoding: UTF-8\n",
       "Language: en\n",
       "Country: null\n",
       "--></g></svg>"
      ]
     },
     "execution_count": 33,
     "metadata": {},
     "output_type": "execute_result"
    }
   ],
   "source": [
    "%viz --style=\"PLANTUML\" --view=\"Interconnection\" \"RequirementTest\""
   ]
  },
  {
   "cell_type": "code",
   "execution_count": 34,
   "id": "9dd89a0e",
   "metadata": {
    "execution": {
     "iopub.execute_input": "2021-04-21T20:21:30.319853Z",
     "iopub.status.busy": "2021-04-21T20:21:30.319323Z",
     "iopub.status.idle": "2021-04-21T20:21:30.324744Z",
     "shell.execute_reply": "2021-04-21T20:21:30.324260Z"
    }
   },
   "outputs": [
    {
     "data": {
      "image/svg+xml": [
       "<?xml version=\"1.0\" encoding=\"UTF-8\" standalone=\"no\"?><svg xmlns=\"http://www.w3.org/2000/svg\" xmlns:xlink=\"http://www.w3.org/1999/xlink\" contentScriptType=\"application/ecmascript\" contentStyleType=\"text/css\" height=\"12px\" preserveAspectRatio=\"none\" style=\"width:12px;height:12px;\" version=\"1.1\" viewBox=\"0 0 12 12\" width=\"12px\" zoomAndPan=\"magnify\"><defs/><g><!--MD5=[6a4cb978cab31700e1ce5529f947a75d]\n",
       "@startuml\r\n",
       "skinparam ranksep 8\r\n",
       " \r\n",
       "@enduml\r\n",
       "\n",
       "PlantUML version 1.2020.13(Sat Jun 13 12:26:38 UTC 2020)\n",
       "(EPL source distribution)\n",
       "Java Runtime: OpenJDK Runtime Environment\n",
       "JVM: OpenJDK 64-Bit Server VM\n",
       "Default Encoding: UTF-8\n",
       "Language: en\n",
       "Country: null\n",
       "--></g></svg>"
      ]
     },
     "execution_count": 34,
     "metadata": {},
     "output_type": "execute_result"
    }
   ],
   "source": [
    "%viz --style=\"PLANTUML\" --view=\"Action\" \"RequirementTest\""
   ]
  },
  {
   "cell_type": "code",
   "execution_count": 35,
   "id": "a390766f",
   "metadata": {
    "execution": {
     "iopub.execute_input": "2021-04-21T20:21:30.374859Z",
     "iopub.status.busy": "2021-04-21T20:21:30.374446Z",
     "iopub.status.idle": "2021-04-21T20:21:30.502222Z",
     "shell.execute_reply": "2021-04-21T20:21:30.501682Z"
    }
   },
   "outputs": [
    {
     "data": {
      "image/svg+xml": [
       "<?xml version=\"1.0\" encoding=\"UTF-8\" standalone=\"no\"?><svg xmlns=\"http://www.w3.org/2000/svg\" xmlns:xlink=\"http://www.w3.org/1999/xlink\" contentScriptType=\"application/ecmascript\" contentStyleType=\"text/css\" height=\"578px\" preserveAspectRatio=\"none\" style=\"width:460px;height:578px;\" version=\"1.1\" viewBox=\"0 0 460 578\" width=\"460px\" zoomAndPan=\"magnify\"><defs><filter height=\"300%\" id=\"fiqi3z3padhve\" width=\"300%\" x=\"-1\" y=\"-1\"><feGaussianBlur result=\"blurOut\" stdDeviation=\"2.0\"/><feColorMatrix in=\"blurOut\" result=\"blurOut2\" type=\"matrix\" values=\"0 0 0 0 0 0 0 0 0 0 0 0 0 0 0 0 0 0 .4 0\"/><feOffset dx=\"4.0\" dy=\"4.0\" in=\"blurOut2\" result=\"blurOut3\"/><feBlend in=\"SourceGraphic\" in2=\"blurOut3\" mode=\"normal\"/></filter></defs><g><!--MD5=[fbc87193dbaf4d95561dea2c320d4a47]\n",
       "cluster E1--><a href=\"psysml:f822a5b9-f637-4bfc-9356-d45755be39c3\" target=\"_top\" title=\"psysml:f822a5b9-f637-4bfc-9356-d45755be39c3\" xlink:actuate=\"onRequest\" xlink:href=\"psysml:f822a5b9-f637-4bfc-9356-d45755be39c3\" xlink:show=\"new\" xlink:title=\"psysml:f822a5b9-f637-4bfc-9356-d45755be39c3\" xlink:type=\"simple\"><polygon fill=\"#FFFFFF\" filter=\"url(#fiqi3z3padhve)\" points=\"16,6,158,6,165,28.2969,438,28.2969,438,566,16,566,16,6\" style=\"stroke: #000000; stroke-width: 1.5;\"/><line style=\"stroke: #000000; stroke-width: 1.5;\" x1=\"16\" x2=\"165\" y1=\"28.2969\" y2=\"28.2969\"/><text fill=\"#000000\" font-family=\"sans-serif\" font-size=\"14\" font-weight=\"bold\" lengthAdjust=\"spacingAndGlyphs\" textLength=\"136\" x=\"20\" y=\"20.9951\">RequirementTest</text></a><!--MD5=[b4997ac47864f28c2f74865a473b2911]\n",
       "class E2--><a href=\"psysml:55e0c843-cabd-4238-9430-5e5ddb37e322\" target=\"_top\" title=\"psysml:55e0c843-cabd-4238-9430-5e5ddb37e322\" xlink:actuate=\"onRequest\" xlink:href=\"psysml:55e0c843-cabd-4238-9430-5e5ddb37e322\" xlink:show=\"new\" xlink:title=\"psysml:55e0c843-cabd-4238-9430-5e5ddb37e322\" xlink:type=\"simple\"><rect fill=\"#FEFECE\" filter=\"url(#fiqi3z3padhve)\" height=\"45.9375\" id=\"E2\" style=\"stroke: #A80036; stroke-width: 1.5;\" width=\"130\" x=\"292\" y=\"190\"/><ellipse cx=\"307\" cy=\"208.9688\" fill=\"#A52A2A\" rx=\"11\" ry=\"11\" style=\"stroke: #A80036; stroke-width: 1.0;\"/><path d=\"M306.5938,204.7813 L306.5938,212.7656 L307.25,212.7656 Q308.6875,212.7656 309.2969,211.8594 Q309.9219,210.9375 309.9219,208.7656 Q309.9219,206.5938 309.2969,205.6875 Q308.6875,204.7813 307.25,204.7813 L306.5938,204.7813 Z M304.1406,202.5781 L306.7656,202.5781 Q309.7969,202.5781 311.125,204.0313 Q312.4688,205.4688 312.4688,208.7656 Q312.4688,212.0625 311.125,213.5156 Q309.7969,214.9688 306.7656,214.9688 L304.1406,214.9688 L304.1406,202.5781 Z \"/><text fill=\"#000000\" font-family=\"sans-serif\" font-size=\"12\" font-style=\"italic\" lengthAdjust=\"spacingAndGlyphs\" textLength=\"102\" x=\"319\" y=\"206.1387\">«constraint def»</text><text fill=\"#000000\" font-family=\"sans-serif\" font-size=\"12\" lengthAdjust=\"spacingAndGlyphs\" textLength=\"8\" x=\"366\" y=\"220.1074\">C</text><line style=\"stroke: #A80036; stroke-width: 1.5;\" x1=\"293\" x2=\"421\" y1=\"227.9375\" y2=\"227.9375\"/></a><!--MD5=[09b614a08d8cba4a07c9adeb5e0fee81]\n",
       "class E3--><a href=\"psysml:943270d7-f648-4f2b-99ed-798f0a01be75\" target=\"_top\" title=\"psysml:943270d7-f648-4f2b-99ed-798f0a01be75\" xlink:actuate=\"onRequest\" xlink:href=\"psysml:943270d7-f648-4f2b-99ed-798f0a01be75\" xlink:show=\"new\" xlink:title=\"psysml:943270d7-f648-4f2b-99ed-798f0a01be75\" xlink:type=\"simple\"><rect fill=\"#FEFECE\" filter=\"url(#fiqi3z3padhve)\" height=\"45.9375\" id=\"E3\" rx=\"10\" ry=\"10\" style=\"stroke: #A80036; stroke-width: 1.5;\" width=\"106\" x=\"316\" y=\"62\"/><ellipse cx=\"331\" cy=\"80.9688\" fill=\"#FFA500\" rx=\"11\" ry=\"11\" style=\"stroke: #A80036; stroke-width: 1.0;\"/><path d=\"M326.875,82.8906 L326.875,75.0781 L329.3281,75.0781 L329.3281,83.5156 Q329.3281,84.4375 329.7969,84.9688 Q330.2813,85.5 331.1094,85.5 Q331.9531,85.5 332.4219,84.9688 Q332.8906,84.4375 332.8906,83.5156 L332.8906,75.0781 L335.3438,75.0781 L335.3438,82.8906 Q335.3438,85.4219 334.3438,86.5625 Q333.3438,87.7031 331.1094,87.7031 Q328.8906,87.7031 327.875,86.5625 Q326.875,85.4219 326.875,82.8906 Z \"/><text fill=\"#000000\" font-family=\"sans-serif\" font-size=\"12\" font-style=\"italic\" lengthAdjust=\"spacingAndGlyphs\" textLength=\"78\" x=\"343\" y=\"78.1387\">«constraint»</text><text fill=\"#000000\" font-family=\"sans-serif\" font-size=\"12\" lengthAdjust=\"spacingAndGlyphs\" textLength=\"23\" x=\"370.5\" y=\"92.1074\">c: C</text><line style=\"stroke: #A80036; stroke-width: 1.5;\" x1=\"317\" x2=\"421\" y1=\"99.9375\" y2=\"99.9375\"/></a><!--MD5=[ebbe1d658d1005bcc118a6aa81145e00]\n",
       "class E4--><a href=\"psysml:3547be1a-4b91-4a24-a66e-ac992d912d25\" target=\"_top\" title=\"psysml:3547be1a-4b91-4a24-a66e-ac992d912d25\" xlink:actuate=\"onRequest\" xlink:href=\"psysml:3547be1a-4b91-4a24-a66e-ac992d912d25\" xlink:show=\"new\" xlink:title=\"psysml:3547be1a-4b91-4a24-a66e-ac992d912d25\" xlink:type=\"simple\"><rect fill=\"#FEFECE\" filter=\"url(#fiqi3z3padhve)\" height=\"109.1563\" id=\"E4\" style=\"stroke: #A80036; stroke-width: 1.5;\" width=\"143\" x=\"32.5\" y=\"313\"/><ellipse cx=\"47.5\" cy=\"331.9688\" fill=\"#A52A2A\" rx=\"11\" ry=\"11\" style=\"stroke: #A80036; stroke-width: 1.0;\"/><path d=\"M47.0938,327.7813 L47.0938,335.7656 L47.75,335.7656 Q49.1875,335.7656 49.7969,334.8594 Q50.4219,333.9375 50.4219,331.7656 Q50.4219,329.5938 49.7969,328.6875 Q49.1875,327.7813 47.75,327.7813 L47.0938,327.7813 Z M44.6406,325.5781 L47.2656,325.5781 Q50.2969,325.5781 51.625,327.0313 Q52.9688,328.4688 52.9688,331.7656 Q52.9688,335.0625 51.625,336.5156 Q50.2969,337.9688 47.2656,337.9688 L44.6406,337.9688 L44.6406,325.5781 Z \"/><text fill=\"#000000\" font-family=\"sans-serif\" font-size=\"12\" font-style=\"italic\" lengthAdjust=\"spacingAndGlyphs\" textLength=\"115\" x=\"59.5\" y=\"329.1387\">«requirement def»</text><text fill=\"#000000\" font-family=\"sans-serif\" font-size=\"12\" lengthAdjust=\"spacingAndGlyphs\" textLength=\"8\" x=\"113\" y=\"343.1074\">R</text><line style=\"stroke: #A80036; stroke-width: 1.5;\" x1=\"33.5\" x2=\"174.5\" y1=\"350.9375\" y2=\"350.9375\"/><text fill=\"#000000\" font-family=\"sans-serif\" font-size=\"11\" lengthAdjust=\"spacingAndGlyphs\" textLength=\"0\" x=\"42.5\" y=\"365.1479\"/><line style=\"stroke: #A80036; stroke-width: 1.0;\" x1=\"33.5\" x2=\"174.5\" y1=\"371.7422\" y2=\"371.7422\"/><text fill=\"#000000\" font-family=\"sans-serif\" font-size=\"11\" font-weight=\"bold\" lengthAdjust=\"spacingAndGlyphs\" textLength=\"46\" x=\"38.5\" y=\"402.7573\">require</text><text fill=\"#000000\" font-family=\"sans-serif\" font-size=\"11\" lengthAdjust=\"spacingAndGlyphs\" textLength=\"6\" x=\"88.5\" y=\"402.7573\">c</text><text fill=\"#000000\" font-family=\"sans-serif\" font-size=\"11\" font-style=\"italic\" lengthAdjust=\"spacingAndGlyphs\" textLength=\"46\" x=\"38.5\" y=\"415.562\">assume</text><text fill=\"#000000\" font-family=\"sans-serif\" font-size=\"11\" lengthAdjust=\"spacingAndGlyphs\" textLength=\"29\" x=\"88.5\" y=\"415.562\">c1: C</text><line style=\"stroke: #A80036; stroke-width: 1.0;\" x1=\"33.5\" x2=\"72\" y1=\"386.1445\" y2=\"386.1445\"/><text fill=\"#000000\" font-family=\"sans-serif\" font-size=\"11\" lengthAdjust=\"spacingAndGlyphs\" textLength=\"64\" x=\"72\" y=\"389.4526\">constraints</text><line style=\"stroke: #A80036; stroke-width: 1.0;\" x1=\"136\" x2=\"174.5\" y1=\"386.1445\" y2=\"386.1445\"/></a><!--MD5=[2156ba9850f5573cc1fc38a6a4b2f02b]\n",
       "class E7--><a href=\"psysml:5cc59123-afbd-4e9a-96fa-0bfa0b631260\" target=\"_top\" title=\"psysml:5cc59123-afbd-4e9a-96fa-0bfa0b631260\" xlink:actuate=\"onRequest\" xlink:href=\"psysml:5cc59123-afbd-4e9a-96fa-0bfa0b631260\" xlink:show=\"new\" xlink:title=\"psysml:5cc59123-afbd-4e9a-96fa-0bfa0b631260\" xlink:type=\"simple\"><rect fill=\"#FEFECE\" filter=\"url(#fiqi3z3padhve)\" height=\"45.9375\" id=\"E7\" rx=\"10\" ry=\"10\" style=\"stroke: #A80036; stroke-width: 1.5;\" width=\"119\" x=\"34.5\" y=\"493.5\"/><ellipse cx=\"49.5\" cy=\"512.4688\" fill=\"#FFA500\" rx=\"11\" ry=\"11\" style=\"stroke: #A80036; stroke-width: 1.0;\"/><path d=\"M45.375,514.3906 L45.375,506.5781 L47.8281,506.5781 L47.8281,515.0156 Q47.8281,515.9375 48.2969,516.4688 Q48.7813,517 49.6094,517 Q50.4531,517 50.9219,516.4688 Q51.3906,515.9375 51.3906,515.0156 L51.3906,506.5781 L53.8438,506.5781 L53.8438,514.3906 Q53.8438,516.9219 52.8438,518.0625 Q51.8438,519.2031 49.6094,519.2031 Q47.3906,519.2031 46.375,518.0625 Q45.375,516.9219 45.375,514.3906 Z \"/><text fill=\"#000000\" font-family=\"sans-serif\" font-size=\"12\" font-style=\"italic\" lengthAdjust=\"spacingAndGlyphs\" textLength=\"91\" x=\"61.5\" y=\"509.6387\">«requirement»</text><text fill=\"#000000\" font-family=\"sans-serif\" font-size=\"12\" lengthAdjust=\"spacingAndGlyphs\" text-decoration=\"line-through\" textLength=\"51\" x=\"81.5\" y=\"523.6074\">noname</text><line style=\"stroke: #A80036; stroke-width: 1.5;\" x1=\"35.5\" x2=\"152.5\" y1=\"531.4375\" y2=\"531.4375\"/></a><!--MD5=[b9389687b975829384b498ac4b7476b2]\n",
       "class E8--><a href=\"psysml:49e593a4-f39b-4803-a2ce-02c26b916197\" target=\"_top\" title=\"psysml:49e593a4-f39b-4803-a2ce-02c26b916197\" xlink:actuate=\"onRequest\" xlink:href=\"psysml:49e593a4-f39b-4803-a2ce-02c26b916197\" xlink:show=\"new\" xlink:title=\"psysml:49e593a4-f39b-4803-a2ce-02c26b916197\" xlink:type=\"simple\"><rect fill=\"#FEFECE\" filter=\"url(#fiqi3z3padhve)\" height=\"66.7422\" id=\"E8\" style=\"stroke: #A80036; stroke-width: 1.5;\" width=\"143\" x=\"188.5\" y=\"483\"/><ellipse cx=\"203.5\" cy=\"501.9688\" fill=\"#A52A2A\" rx=\"11\" ry=\"11\" style=\"stroke: #A80036; stroke-width: 1.0;\"/><path d=\"M203.0938,497.7813 L203.0938,505.7656 L203.75,505.7656 Q205.1875,505.7656 205.7969,504.8594 Q206.4219,503.9375 206.4219,501.7656 Q206.4219,499.5938 205.7969,498.6875 Q205.1875,497.7813 203.75,497.7813 L203.0938,497.7813 Z M200.6406,495.5781 L203.2656,495.5781 Q206.2969,495.5781 207.625,497.0313 Q208.9688,498.4688 208.9688,501.7656 Q208.9688,505.0625 207.625,506.5156 Q206.2969,507.9688 203.2656,507.9688 L200.6406,507.9688 L200.6406,495.5781 Z \"/><text fill=\"#000000\" font-family=\"sans-serif\" font-size=\"12\" font-style=\"italic\" lengthAdjust=\"spacingAndGlyphs\" textLength=\"115\" x=\"215.5\" y=\"499.1387\">«requirement def»</text><text fill=\"#000000\" font-family=\"sans-serif\" font-size=\"12\" lengthAdjust=\"spacingAndGlyphs\" textLength=\"5\" x=\"260\" y=\"513.1074\">[</text><text fill=\"#000000\" font-family=\"sans-serif\" font-size=\"12\" font-weight=\"bold\" lengthAdjust=\"spacingAndGlyphs\" textLength=\"8\" x=\"265\" y=\"513.1074\">1</text><text fill=\"#000000\" font-family=\"sans-serif\" font-size=\"12\" lengthAdjust=\"spacingAndGlyphs\" textLength=\"17\" x=\"273\" y=\"513.1074\">] A</text><line style=\"stroke: #A80036; stroke-width: 1.5;\" x1=\"189.5\" x2=\"330.5\" y1=\"520.9375\" y2=\"520.9375\"/><text fill=\"#000000\" font-family=\"sans-serif\" font-size=\"11\" lengthAdjust=\"spacingAndGlyphs\" textLength=\"24\" x=\"194.5\" y=\"535.1479\">Text</text><line style=\"stroke: #A80036; stroke-width: 1.0;\" x1=\"189.5\" x2=\"330.5\" y1=\"541.7422\" y2=\"541.7422\"/></a><!--MD5=[fd4143e9d270a159db93a4ea2a975926]\n",
       "class E9--><a href=\"psysml:79fb73d3-867b-49b4-8196-8eb6e64f62f0\" target=\"_top\" title=\"psysml:79fb73d3-867b-49b4-8196-8eb6e64f62f0\" xlink:actuate=\"onRequest\" xlink:href=\"psysml:79fb73d3-867b-49b4-8196-8eb6e64f62f0\" xlink:show=\"new\" xlink:title=\"psysml:79fb73d3-867b-49b4-8196-8eb6e64f62f0\" xlink:type=\"simple\"><rect fill=\"#FEFECE\" filter=\"url(#fiqi3z3padhve)\" height=\"88.3516\" id=\"E9\" style=\"stroke: #A80036; stroke-width: 1.5;\" width=\"145\" x=\"135.5\" y=\"41\"/><ellipse cx=\"151.4\" cy=\"59.9688\" fill=\"#A52A2A\" rx=\"11\" ry=\"11\" style=\"stroke: #A80036; stroke-width: 1.0;\"/><path d=\"M150.9938,55.7813 L150.9938,63.7656 L151.65,63.7656 Q153.0875,63.7656 153.6969,62.8594 Q154.3219,61.9375 154.3219,59.7656 Q154.3219,57.5938 153.6969,56.6875 Q153.0875,55.7813 151.65,55.7813 L150.9938,55.7813 Z M148.5406,53.5781 L151.1656,53.5781 Q154.1969,53.5781 155.525,55.0313 Q156.8688,56.4688 156.8688,59.7656 Q156.8688,63.0625 155.525,64.5156 Q154.1969,65.9688 151.1656,65.9688 L148.5406,65.9688 L148.5406,53.5781 Z \"/><text fill=\"#000000\" font-family=\"sans-serif\" font-size=\"12\" font-style=\"italic\" lengthAdjust=\"spacingAndGlyphs\" textLength=\"115\" x=\"163.6\" y=\"57.1387\">«requirement def»</text><text fill=\"#000000\" font-family=\"sans-serif\" font-size=\"12\" lengthAdjust=\"spacingAndGlyphs\" textLength=\"16\" x=\"213.1\" y=\"71.1074\">R1</text><line style=\"stroke: #A80036; stroke-width: 1.5;\" x1=\"136.5\" x2=\"279.5\" y1=\"78.9375\" y2=\"78.9375\"/><text fill=\"#000000\" font-family=\"sans-serif\" font-size=\"11\" font-weight=\"bold\" lengthAdjust=\"spacingAndGlyphs\" textLength=\"46\" x=\"141.5\" y=\"109.9526\">require</text><text fill=\"#000000\" font-family=\"sans-serif\" font-size=\"11\" lengthAdjust=\"spacingAndGlyphs\" textLength=\"13\" x=\"191.5\" y=\"109.9526\">c1</text><text fill=\"#000000\" font-family=\"sans-serif\" font-size=\"11\" font-style=\"italic\" lengthAdjust=\"spacingAndGlyphs\" textLength=\"133\" x=\"141.5\" y=\"122.7573\">:&gt;&gt;RequirementTest::c</text><line style=\"stroke: #A80036; stroke-width: 1.0;\" x1=\"136.5\" x2=\"176\" y1=\"93.3398\" y2=\"93.3398\"/><text fill=\"#000000\" font-family=\"sans-serif\" font-size=\"11\" lengthAdjust=\"spacingAndGlyphs\" textLength=\"64\" x=\"176\" y=\"96.6479\">constraints</text><line style=\"stroke: #A80036; stroke-width: 1.0;\" x1=\"240\" x2=\"279.5\" y1=\"93.3398\" y2=\"93.3398\"/></a><!--MD5=[1dd1bfd58a279cf63c5f349dbc8fc6a1]\n",
       "class E11--><a href=\"psysml:510a33c1-eff7-4e5e-90b4-a63ef5b72ae6\" target=\"_top\" title=\"psysml:510a33c1-eff7-4e5e-90b4-a63ef5b72ae6\" xlink:actuate=\"onRequest\" xlink:href=\"psysml:510a33c1-eff7-4e5e-90b4-a63ef5b72ae6\" xlink:show=\"new\" xlink:title=\"psysml:510a33c1-eff7-4e5e-90b4-a63ef5b72ae6\" xlink:type=\"simple\"><rect fill=\"#FEFECE\" filter=\"url(#fiqi3z3padhve)\" height=\"45.9375\" id=\"E11\" rx=\"10\" ry=\"10\" style=\"stroke: #A80036; stroke-width: 1.5;\" width=\"68\" x=\"211\" y=\"344.5\"/><ellipse cx=\"226\" cy=\"363.4688\" fill=\"#32CD32\" rx=\"11\" ry=\"11\" style=\"stroke: #A80036; stroke-width: 1.0;\"/><path d=\"M225.7969,359.1406 L225.7969,362.7656 L226.7969,362.7656 Q228,362.7656 228.4844,362.3594 Q228.9688,361.9531 228.9688,360.9531 Q228.9688,359.9531 228.4844,359.5469 Q228,359.1406 226.7969,359.1406 L225.7969,359.1406 Z M223.3438,357.0781 L226.7031,357.0781 Q229.2656,357.0781 230.3906,358 Q231.5156,358.9063 231.5156,360.9531 Q231.5156,363 230.3906,363.9219 Q229.2656,364.8281 226.7031,364.8281 L225.7969,364.8281 L225.7969,369.4688 L223.3438,369.4688 L223.3438,357.0781 Z \"/><text fill=\"#000000\" font-family=\"sans-serif\" font-size=\"12\" font-style=\"italic\" lengthAdjust=\"spacingAndGlyphs\" textLength=\"40\" x=\"238\" y=\"360.6387\">«part»</text><text fill=\"#000000\" font-family=\"sans-serif\" font-size=\"12\" lengthAdjust=\"spacingAndGlyphs\" textLength=\"8\" x=\"254\" y=\"374.6074\">p</text><line style=\"stroke: #A80036; stroke-width: 1.5;\" x1=\"212\" x2=\"278\" y1=\"382.4375\" y2=\"382.4375\"/></a><!--MD5=[49a0ec8f00dab7302a31f22d0f0fe584]\n",
       "class E12--><a href=\"psysml:a6cd5ff6-20a0-4014-8266-5a2f114de57c\" target=\"_top\" title=\"psysml:a6cd5ff6-20a0-4014-8266-5a2f114de57c\" xlink:actuate=\"onRequest\" xlink:href=\"psysml:a6cd5ff6-20a0-4014-8266-5a2f114de57c\" xlink:show=\"new\" xlink:title=\"psysml:a6cd5ff6-20a0-4014-8266-5a2f114de57c\" xlink:type=\"simple\"><rect fill=\"#FEFECE\" filter=\"url(#fiqi3z3padhve)\" height=\"45.9375\" id=\"E12\" rx=\"10\" ry=\"10\" style=\"stroke: #A80036; stroke-width: 1.5;\" width=\"68\" x=\"32\" y=\"62\"/><ellipse cx=\"47\" cy=\"80.9688\" fill=\"#32CD32\" rx=\"11\" ry=\"11\" style=\"stroke: #A80036; stroke-width: 1.0;\"/><path d=\"M46.7969,76.6406 L46.7969,80.2656 L47.7969,80.2656 Q49,80.2656 49.4844,79.8594 Q49.9688,79.4531 49.9688,78.4531 Q49.9688,77.4531 49.4844,77.0469 Q49,76.6406 47.7969,76.6406 L46.7969,76.6406 Z M44.3438,74.5781 L47.7031,74.5781 Q50.2656,74.5781 51.3906,75.5 Q52.5156,76.4063 52.5156,78.4531 Q52.5156,80.5 51.3906,81.4219 Q50.2656,82.3281 47.7031,82.3281 L46.7969,82.3281 L46.7969,86.9688 L44.3438,86.9688 L44.3438,74.5781 Z \"/><text fill=\"#000000\" font-family=\"sans-serif\" font-size=\"12\" font-style=\"italic\" lengthAdjust=\"spacingAndGlyphs\" textLength=\"40\" x=\"59\" y=\"78.1387\">«part»</text><text fill=\"#000000\" font-family=\"sans-serif\" font-size=\"12\" lengthAdjust=\"spacingAndGlyphs\" textLength=\"8\" x=\"75\" y=\"92.1074\">q</text><line style=\"stroke: #A80036; stroke-width: 1.5;\" x1=\"33\" x2=\"99\" y1=\"99.9375\" y2=\"99.9375\"/></a><!--MD5=[ee3c913d1a06f366521f9ef512b67efe]\n",
       "class E13--><a href=\"psysml:50b94a4a-7c4d-4845-a3da-b360d2df1f8c\" target=\"_top\" title=\"psysml:50b94a4a-7c4d-4845-a3da-b360d2df1f8c\" xlink:actuate=\"onRequest\" xlink:href=\"psysml:50b94a4a-7c4d-4845-a3da-b360d2df1f8c\" xlink:show=\"new\" xlink:title=\"psysml:50b94a4a-7c4d-4845-a3da-b360d2df1f8c\" xlink:type=\"simple\"><rect fill=\"#FEFECE\" filter=\"url(#fiqi3z3padhve)\" height=\"45.9375\" id=\"E13\" rx=\"10\" ry=\"10\" style=\"stroke: #A80036; stroke-width: 1.5;\" width=\"119\" x=\"44.5\" y=\"190\"/><ellipse cx=\"59.5\" cy=\"208.9688\" fill=\"#FFA500\" rx=\"11\" ry=\"11\" style=\"stroke: #A80036; stroke-width: 1.0;\"/><path d=\"M55.375,210.8906 L55.375,203.0781 L57.8281,203.0781 L57.8281,211.5156 Q57.8281,212.4375 58.2969,212.9688 Q58.7813,213.5 59.6094,213.5 Q60.4531,213.5 60.9219,212.9688 Q61.3906,212.4375 61.3906,211.5156 L61.3906,203.0781 L63.8438,203.0781 L63.8438,210.8906 Q63.8438,213.4219 62.8438,214.5625 Q61.8438,215.7031 59.6094,215.7031 Q57.3906,215.7031 56.375,214.5625 Q55.375,213.4219 55.375,210.8906 Z \"/><text fill=\"#000000\" font-family=\"sans-serif\" font-size=\"12\" font-style=\"italic\" lengthAdjust=\"spacingAndGlyphs\" textLength=\"91\" x=\"71.5\" y=\"206.1387\">«requirement»</text><text fill=\"#000000\" font-family=\"sans-serif\" font-size=\"12\" lengthAdjust=\"spacingAndGlyphs\" textLength=\"21\" x=\"106.5\" y=\"220.1074\">r: R</text><line style=\"stroke: #A80036; stroke-width: 1.5;\" x1=\"45.5\" x2=\"162.5\" y1=\"227.9375\" y2=\"227.9375\"/></a><!--MD5=[05d275557350bfb9b23a4ef7222b4c39]\n",
       "link E3 to E2--><a href=\"psysml:e8229714-231f-4f2a-9005-056b1e69efb5\" target=\"_top\" title=\"psysml:e8229714-231f-4f2a-9005-056b1e69efb5\" xlink:actuate=\"onRequest\" xlink:href=\"psysml:e8229714-231f-4f2a-9005-056b1e69efb5\" xlink:show=\"new\" xlink:title=\"psysml:e8229714-231f-4f2a-9005-056b1e69efb5\" xlink:type=\"simple\"><path d=\"M366.88,108.24 C365.26,125.24 362.98,149.19 361.02,169.79 \" fill=\"none\" id=\"E3-&gt;E2\" style=\"stroke: #A80036; stroke-width: 1.0;\"/><polygon fill=\"#FFFFFF\" points=\"359.1,189.99,353.9362,170.411,367.8729,171.7407,359.1,189.99\" style=\"stroke: #A80036; stroke-width: 1.0;\"/><ellipse cx=\"356.4685\" cy=\"164.9268\" fill=\"#A80036\" rx=\"2\" ry=\"2\" style=\"stroke: #A80036; stroke-width: 1.0;\"/><ellipse cx=\"366.4233\" cy=\"165.8765\" fill=\"#A80036\" rx=\"2\" ry=\"2\" style=\"stroke: #A80036; stroke-width: 1.0;\"/></a><!--MD5=[722ff4eef345aa10242dad44df0e98c7]\n",
       "reverse link E4 to E7--><a href=\"psysml:eafce8af-10f9-4af7-9431-7513cc7d3347\" target=\"_top\" title=\"psysml:eafce8af-10f9-4af7-9431-7513cc7d3347\" xlink:actuate=\"onRequest\" xlink:href=\"psysml:eafce8af-10f9-4af7-9431-7513cc7d3347\" xlink:show=\"new\" xlink:title=\"psysml:eafce8af-10f9-4af7-9431-7513cc7d3347\" xlink:type=\"simple\"><path d=\"M99.44,435.59 C98.02,456.46 96.55,478.02 95.5,493.48 \" fill=\"none\" id=\"E4&lt;-E7\" style=\"stroke: #A80036; stroke-width: 1.0;\"/><polygon fill=\"#A80036\" points=\"100.33,422.4,95.9306,428.1136,99.5125,434.3721,103.912,428.6586,100.33,422.4\" style=\"stroke: #A80036; stroke-width: 1.0;\"/></a><!--MD5=[c6fc7cdb0cabde04948078cf183fa696]\n",
       "reverse link E4 to E8--><a href=\"psysml:a0130814-5dc8-48af-af1a-9e985463643e\" target=\"_top\" title=\"psysml:a0130814-5dc8-48af-af1a-9e985463643e\" xlink:actuate=\"onRequest\" xlink:href=\"psysml:a0130814-5dc8-48af-af1a-9e985463643e\" xlink:show=\"new\" xlink:title=\"psysml:a0130814-5dc8-48af-af1a-9e985463643e\" xlink:type=\"simple\"><path d=\"M172.23,432.79 C190.64,450.14 209.79,468.19 225.49,482.98 \" fill=\"none\" id=\"E4&lt;-E8\" style=\"stroke: #A80036; stroke-width: 1.0;\"/><ellipse cx=\"167.022\" cy=\"427.8867\" fill=\"#FFFFFF\" rx=\"8\" ry=\"8\" style=\"stroke: #A80036; stroke-width: 1.0;\"/><line style=\"stroke: #A80036; stroke-width: 1.0;\" x1=\"172.844\" x2=\"161.2\" y1=\"433.3734\" y2=\"422.4\"/><line style=\"stroke: #A80036; stroke-width: 1.0;\" x1=\"161.5353\" x2=\"172.5087\" y1=\"433.7087\" y2=\"422.0647\"/></a><!--MD5=[062ed86c389d1a88f61c6380d0491e17]\n",
       "reverse link E12 to E13--><a href=\"psysml:044b978f-2385-4425-992f-2d75b645c055\" target=\"_top\" title=\"psysml:044b978f-2385-4425-992f-2d75b645c055\" xlink:actuate=\"onRequest\" xlink:href=\"psysml:044b978f-2385-4425-992f-2d75b645c055\" xlink:show=\"new\" xlink:title=\"psysml:044b978f-2385-4425-992f-2d75b645c055\" xlink:type=\"simple\"><path d=\"M76.49,120.8 C83.17,142.92 91.6,170.89 97.36,189.99 \" fill=\"none\" id=\"E12&lt;-E13\" style=\"stroke: #A80036; stroke-width: 1.0;\"/><polygon fill=\"#A80036\" points=\"72.71,108.24,70.6129,115.1394,76.1751,119.7288,78.2722,112.8294,72.71,108.24\" style=\"stroke: #A80036; stroke-width: 1.0;\"/></a><!--MD5=[017847e01ff9a8bd19f247411074f987]\n",
       "link E13 to E4--><a href=\"psysml:279d9c9b-21cb-4076-8967-339bf6a79b4c\" target=\"_top\" title=\"psysml:279d9c9b-21cb-4076-8967-339bf6a79b4c\" xlink:actuate=\"onRequest\" xlink:href=\"psysml:279d9c9b-21cb-4076-8967-339bf6a79b4c\" xlink:show=\"new\" xlink:title=\"psysml:279d9c9b-21cb-4076-8967-339bf6a79b4c\" xlink:type=\"simple\"><path d=\"M104,236.17 C104,251.17 104,271.91 104,292.44 \" fill=\"none\" id=\"E13-&gt;E4\" style=\"stroke: #A80036; stroke-width: 1.0;\"/><polygon fill=\"#FFFFFF\" points=\"104,312.68,97,293.68,111,293.68,104,312.68\" style=\"stroke: #A80036; stroke-width: 1.0;\"/><ellipse cx=\"99\" cy=\"287.98\" fill=\"#A80036\" rx=\"2\" ry=\"2\" style=\"stroke: #A80036; stroke-width: 1.0;\"/><ellipse cx=\"109\" cy=\"287.98\" fill=\"#A80036\" rx=\"2\" ry=\"2\" style=\"stroke: #A80036; stroke-width: 1.0;\"/></a><!--MD5=[2cfe899c895462254056921bfb67315f]\n",
       "link E13 to E11--><a href=\"psysml:fcf36e7c-2665-4a1d-8cf4-6fcc5b08ef04\" target=\"_top\" title=\"psysml:fcf36e7c-2665-4a1d-8cf4-6fcc5b08ef04\" xlink:actuate=\"onRequest\" xlink:href=\"psysml:fcf36e7c-2665-4a1d-8cf4-6fcc5b08ef04\" xlink:show=\"new\" xlink:title=\"psysml:fcf36e7c-2665-4a1d-8cf4-6fcc5b08ef04\" xlink:type=\"simple\"><path d=\"M124.5,236.17 C150.09,263.85 193.77,311.09 220.92,340.45 \" fill=\"none\" id=\"E13-&gt;E11\" style=\"stroke: #A80036; stroke-width: 1.0; stroke-dasharray: 7.0,7.0;\"/><polygon fill=\"#A80036\" points=\"224.47,344.3,221.2896,334.9788,221.0727,340.6315,215.42,340.4145,224.47,344.3\" style=\"stroke: #A80036; stroke-width: 1.0;\"/><text fill=\"#000000\" font-family=\"sans-serif\" font-size=\"13\" lengthAdjust=\"spacingAndGlyphs\" textLength=\"57\" x=\"167\" y=\"279.0669\">«satisfy»</text></a><!--MD5=[b04b17865d2195efda6d6dc355c7c688]\n",
       "@startuml\r\n",
       " \r\n",
       "package \"RequirementTest\" as E1  [[psysml:f822a5b9-f637-4bfc-9356-d45755be39c3 ]]  {\r\n",
       "comp def \"C\" as E2  <<(D,brown)constraint def>> [[psysml:55e0c843-cabd-4238-9430-5e5ddb37e322 ]] {\r\n",
       "}\r\n",
       "comp usage \"c: C\" as E3  <<(U,orange)constraint>> [[psysml:943270d7-f648-4f2b-99ed-798f0a01be75 ]] {\r\n",
       "}\r\n",
       "comp def \"R\" as E4  <<(D,brown)requirement def>> [[psysml:3547be1a-4b91-4a24-a66e-ac992d912d25 ]] {\r\n",
       "\r\n",
       "- -\r\n",
       "- - constraints - -\r\n",
       "<b>require</b> c\r\n",
       "<i>assume</i> c1: C\r\n",
       "}\r\n",
       "comp usage \"<s>noname</s>\" as E7  <<(U,orange)requirement>> [[psysml:5cc59123-afbd-4e9a-96fa-0bfa0b631260 ]] {\r\n",
       "}\r\n",
       "comp def \" [<b>1</b>] A\" as E8  <<(D,brown)requirement def>> [[psysml:49e593a4-f39b-4803-a2ce-02c26b916197 ]] {\r\n",
       "Text\r\n",
       "- -\r\n",
       "}\r\n",
       "comp def \"R1\" as E9  <<(D,brown)requirement def>> [[psysml:79fb73d3-867b-49b4-8196-8eb6e64f62f0 ]] {\r\n",
       "- - constraints - -\r\n",
       "<b>require</b> c1\\n//:>>RequirementTest::c// \r\n",
       "}\r\n",
       "comp usage \"p\" as E11  << (P,limegreen) part>> [[psysml:510a33c1-eff7-4e5e-90b4-a63ef5b72ae6 ]] {\r\n",
       "}\r\n",
       "comp usage \"q\" as E12  << (P,limegreen) part>> [[psysml:a6cd5ff6-20a0-4014-8266-5a2f114de57c ]] {\r\n",
       "}\r\n",
       "comp usage \"r: R\" as E13  <<(U,orange)requirement>> [[psysml:50b94a4a-7c4d-4845-a3da-b360d2df1f8c ]] {\r\n",
       "}\r\n",
       "E3 - -:|> E2 [[psysml:e8229714-231f-4f2a-9005-056b1e69efb5 ]] \r\n",
       "E4 *- - E7 [[psysml:eafce8af-10f9-4af7-9431-7513cc7d3347 ]] \r\n",
       "E4 +- - E8 [[psysml:a0130814-5dc8-48af-af1a-9e985463643e ]] \r\n",
       "E12 *- - E13 [[psysml:044b978f-2385-4425-992f-2d75b645c055 ]] \r\n",
       "E13 - -:|> E4 [[psysml:279d9c9b-21cb-4076-8967-339bf6a79b4c ]] \r\n",
       "E13 ..> E11 [[psysml:fcf36e7c-2665-4a1d-8cf4-6fcc5b08ef04 ]] : <<satisfy>>\r\n",
       "}\r\n",
       "@enduml\r\n",
       "\n",
       "PlantUML version 1.2020.13(Sat Jun 13 12:26:38 UTC 2020)\n",
       "(EPL source distribution)\n",
       "Java Runtime: OpenJDK Runtime Environment\n",
       "JVM: OpenJDK 64-Bit Server VM\n",
       "Default Encoding: UTF-8\n",
       "Language: en\n",
       "Country: null\n",
       "--></g></svg>"
      ]
     },
     "execution_count": 35,
     "metadata": {},
     "output_type": "execute_result"
    }
   ],
   "source": [
    "%viz --style=\"PLANTUML\" --view=\"Sequence\" \"RequirementTest\""
   ]
  },
  {
   "cell_type": "code",
   "execution_count": 36,
   "id": "94c2ebfb",
   "metadata": {
    "execution": {
     "iopub.execute_input": "2021-04-21T20:21:30.550436Z",
     "iopub.status.busy": "2021-04-21T20:21:30.549978Z",
     "iopub.status.idle": "2021-04-21T20:21:30.663913Z",
     "shell.execute_reply": "2021-04-21T20:21:30.662072Z"
    }
   },
   "outputs": [
    {
     "data": {
      "image/svg+xml": [
       "<?xml version=\"1.0\" encoding=\"UTF-8\" standalone=\"no\"?><svg xmlns=\"http://www.w3.org/2000/svg\" xmlns:xlink=\"http://www.w3.org/1999/xlink\" contentScriptType=\"application/ecmascript\" contentStyleType=\"text/css\" height=\"578px\" preserveAspectRatio=\"none\" style=\"width:460px;height:578px;\" version=\"1.1\" viewBox=\"0 0 460 578\" width=\"460px\" zoomAndPan=\"magnify\"><defs><filter height=\"300%\" id=\"fiqi3z3padhve\" width=\"300%\" x=\"-1\" y=\"-1\"><feGaussianBlur result=\"blurOut\" stdDeviation=\"2.0\"/><feColorMatrix in=\"blurOut\" result=\"blurOut2\" type=\"matrix\" values=\"0 0 0 0 0 0 0 0 0 0 0 0 0 0 0 0 0 0 .4 0\"/><feOffset dx=\"4.0\" dy=\"4.0\" in=\"blurOut2\" result=\"blurOut3\"/><feBlend in=\"SourceGraphic\" in2=\"blurOut3\" mode=\"normal\"/></filter></defs><g><!--MD5=[fbc87193dbaf4d95561dea2c320d4a47]\n",
       "cluster E1--><a href=\"psysml:f822a5b9-f637-4bfc-9356-d45755be39c3\" target=\"_top\" title=\"psysml:f822a5b9-f637-4bfc-9356-d45755be39c3\" xlink:actuate=\"onRequest\" xlink:href=\"psysml:f822a5b9-f637-4bfc-9356-d45755be39c3\" xlink:show=\"new\" xlink:title=\"psysml:f822a5b9-f637-4bfc-9356-d45755be39c3\" xlink:type=\"simple\"><polygon fill=\"#FFFFFF\" filter=\"url(#fiqi3z3padhve)\" points=\"16,6,158,6,165,28.2969,438,28.2969,438,566,16,566,16,6\" style=\"stroke: #000000; stroke-width: 1.5;\"/><line style=\"stroke: #000000; stroke-width: 1.5;\" x1=\"16\" x2=\"165\" y1=\"28.2969\" y2=\"28.2969\"/><text fill=\"#000000\" font-family=\"sans-serif\" font-size=\"14\" font-weight=\"bold\" lengthAdjust=\"spacingAndGlyphs\" textLength=\"136\" x=\"20\" y=\"20.9951\">RequirementTest</text></a><!--MD5=[b4997ac47864f28c2f74865a473b2911]\n",
       "class E2--><a href=\"psysml:55e0c843-cabd-4238-9430-5e5ddb37e322\" target=\"_top\" title=\"psysml:55e0c843-cabd-4238-9430-5e5ddb37e322\" xlink:actuate=\"onRequest\" xlink:href=\"psysml:55e0c843-cabd-4238-9430-5e5ddb37e322\" xlink:show=\"new\" xlink:title=\"psysml:55e0c843-cabd-4238-9430-5e5ddb37e322\" xlink:type=\"simple\"><rect fill=\"#FEFECE\" filter=\"url(#fiqi3z3padhve)\" height=\"45.9375\" id=\"E2\" style=\"stroke: #A80036; stroke-width: 1.5;\" width=\"130\" x=\"292\" y=\"190\"/><ellipse cx=\"307\" cy=\"208.9688\" fill=\"#A52A2A\" rx=\"11\" ry=\"11\" style=\"stroke: #A80036; stroke-width: 1.0;\"/><path d=\"M306.5938,204.7813 L306.5938,212.7656 L307.25,212.7656 Q308.6875,212.7656 309.2969,211.8594 Q309.9219,210.9375 309.9219,208.7656 Q309.9219,206.5938 309.2969,205.6875 Q308.6875,204.7813 307.25,204.7813 L306.5938,204.7813 Z M304.1406,202.5781 L306.7656,202.5781 Q309.7969,202.5781 311.125,204.0313 Q312.4688,205.4688 312.4688,208.7656 Q312.4688,212.0625 311.125,213.5156 Q309.7969,214.9688 306.7656,214.9688 L304.1406,214.9688 L304.1406,202.5781 Z \"/><text fill=\"#000000\" font-family=\"sans-serif\" font-size=\"12\" font-style=\"italic\" lengthAdjust=\"spacingAndGlyphs\" textLength=\"102\" x=\"319\" y=\"206.1387\">«constraint def»</text><text fill=\"#000000\" font-family=\"sans-serif\" font-size=\"12\" lengthAdjust=\"spacingAndGlyphs\" textLength=\"8\" x=\"366\" y=\"220.1074\">C</text><line style=\"stroke: #A80036; stroke-width: 1.5;\" x1=\"293\" x2=\"421\" y1=\"227.9375\" y2=\"227.9375\"/></a><!--MD5=[09b614a08d8cba4a07c9adeb5e0fee81]\n",
       "class E3--><a href=\"psysml:943270d7-f648-4f2b-99ed-798f0a01be75\" target=\"_top\" title=\"psysml:943270d7-f648-4f2b-99ed-798f0a01be75\" xlink:actuate=\"onRequest\" xlink:href=\"psysml:943270d7-f648-4f2b-99ed-798f0a01be75\" xlink:show=\"new\" xlink:title=\"psysml:943270d7-f648-4f2b-99ed-798f0a01be75\" xlink:type=\"simple\"><rect fill=\"#FEFECE\" filter=\"url(#fiqi3z3padhve)\" height=\"45.9375\" id=\"E3\" rx=\"10\" ry=\"10\" style=\"stroke: #A80036; stroke-width: 1.5;\" width=\"106\" x=\"316\" y=\"62\"/><ellipse cx=\"331\" cy=\"80.9688\" fill=\"#FFA500\" rx=\"11\" ry=\"11\" style=\"stroke: #A80036; stroke-width: 1.0;\"/><path d=\"M326.875,82.8906 L326.875,75.0781 L329.3281,75.0781 L329.3281,83.5156 Q329.3281,84.4375 329.7969,84.9688 Q330.2813,85.5 331.1094,85.5 Q331.9531,85.5 332.4219,84.9688 Q332.8906,84.4375 332.8906,83.5156 L332.8906,75.0781 L335.3438,75.0781 L335.3438,82.8906 Q335.3438,85.4219 334.3438,86.5625 Q333.3438,87.7031 331.1094,87.7031 Q328.8906,87.7031 327.875,86.5625 Q326.875,85.4219 326.875,82.8906 Z \"/><text fill=\"#000000\" font-family=\"sans-serif\" font-size=\"12\" font-style=\"italic\" lengthAdjust=\"spacingAndGlyphs\" textLength=\"78\" x=\"343\" y=\"78.1387\">«constraint»</text><text fill=\"#000000\" font-family=\"sans-serif\" font-size=\"12\" lengthAdjust=\"spacingAndGlyphs\" textLength=\"23\" x=\"370.5\" y=\"92.1074\">c: C</text><line style=\"stroke: #A80036; stroke-width: 1.5;\" x1=\"317\" x2=\"421\" y1=\"99.9375\" y2=\"99.9375\"/></a><!--MD5=[ebbe1d658d1005bcc118a6aa81145e00]\n",
       "class E4--><a href=\"psysml:3547be1a-4b91-4a24-a66e-ac992d912d25\" target=\"_top\" title=\"psysml:3547be1a-4b91-4a24-a66e-ac992d912d25\" xlink:actuate=\"onRequest\" xlink:href=\"psysml:3547be1a-4b91-4a24-a66e-ac992d912d25\" xlink:show=\"new\" xlink:title=\"psysml:3547be1a-4b91-4a24-a66e-ac992d912d25\" xlink:type=\"simple\"><rect fill=\"#FEFECE\" filter=\"url(#fiqi3z3padhve)\" height=\"109.1563\" id=\"E4\" style=\"stroke: #A80036; stroke-width: 1.5;\" width=\"143\" x=\"32.5\" y=\"313\"/><ellipse cx=\"47.5\" cy=\"331.9688\" fill=\"#A52A2A\" rx=\"11\" ry=\"11\" style=\"stroke: #A80036; stroke-width: 1.0;\"/><path d=\"M47.0938,327.7813 L47.0938,335.7656 L47.75,335.7656 Q49.1875,335.7656 49.7969,334.8594 Q50.4219,333.9375 50.4219,331.7656 Q50.4219,329.5938 49.7969,328.6875 Q49.1875,327.7813 47.75,327.7813 L47.0938,327.7813 Z M44.6406,325.5781 L47.2656,325.5781 Q50.2969,325.5781 51.625,327.0313 Q52.9688,328.4688 52.9688,331.7656 Q52.9688,335.0625 51.625,336.5156 Q50.2969,337.9688 47.2656,337.9688 L44.6406,337.9688 L44.6406,325.5781 Z \"/><text fill=\"#000000\" font-family=\"sans-serif\" font-size=\"12\" font-style=\"italic\" lengthAdjust=\"spacingAndGlyphs\" textLength=\"115\" x=\"59.5\" y=\"329.1387\">«requirement def»</text><text fill=\"#000000\" font-family=\"sans-serif\" font-size=\"12\" lengthAdjust=\"spacingAndGlyphs\" textLength=\"8\" x=\"113\" y=\"343.1074\">R</text><line style=\"stroke: #A80036; stroke-width: 1.5;\" x1=\"33.5\" x2=\"174.5\" y1=\"350.9375\" y2=\"350.9375\"/><text fill=\"#000000\" font-family=\"sans-serif\" font-size=\"11\" lengthAdjust=\"spacingAndGlyphs\" textLength=\"0\" x=\"42.5\" y=\"365.1479\"/><line style=\"stroke: #A80036; stroke-width: 1.0;\" x1=\"33.5\" x2=\"174.5\" y1=\"371.7422\" y2=\"371.7422\"/><text fill=\"#000000\" font-family=\"sans-serif\" font-size=\"11\" font-weight=\"bold\" lengthAdjust=\"spacingAndGlyphs\" textLength=\"46\" x=\"38.5\" y=\"402.7573\">require</text><text fill=\"#000000\" font-family=\"sans-serif\" font-size=\"11\" lengthAdjust=\"spacingAndGlyphs\" textLength=\"6\" x=\"88.5\" y=\"402.7573\">c</text><text fill=\"#000000\" font-family=\"sans-serif\" font-size=\"11\" font-style=\"italic\" lengthAdjust=\"spacingAndGlyphs\" textLength=\"46\" x=\"38.5\" y=\"415.562\">assume</text><text fill=\"#000000\" font-family=\"sans-serif\" font-size=\"11\" lengthAdjust=\"spacingAndGlyphs\" textLength=\"29\" x=\"88.5\" y=\"415.562\">c1: C</text><line style=\"stroke: #A80036; stroke-width: 1.0;\" x1=\"33.5\" x2=\"72\" y1=\"386.1445\" y2=\"386.1445\"/><text fill=\"#000000\" font-family=\"sans-serif\" font-size=\"11\" lengthAdjust=\"spacingAndGlyphs\" textLength=\"64\" x=\"72\" y=\"389.4526\">constraints</text><line style=\"stroke: #A80036; stroke-width: 1.0;\" x1=\"136\" x2=\"174.5\" y1=\"386.1445\" y2=\"386.1445\"/></a><!--MD5=[2156ba9850f5573cc1fc38a6a4b2f02b]\n",
       "class E7--><a href=\"psysml:5cc59123-afbd-4e9a-96fa-0bfa0b631260\" target=\"_top\" title=\"psysml:5cc59123-afbd-4e9a-96fa-0bfa0b631260\" xlink:actuate=\"onRequest\" xlink:href=\"psysml:5cc59123-afbd-4e9a-96fa-0bfa0b631260\" xlink:show=\"new\" xlink:title=\"psysml:5cc59123-afbd-4e9a-96fa-0bfa0b631260\" xlink:type=\"simple\"><rect fill=\"#FEFECE\" filter=\"url(#fiqi3z3padhve)\" height=\"45.9375\" id=\"E7\" rx=\"10\" ry=\"10\" style=\"stroke: #A80036; stroke-width: 1.5;\" width=\"119\" x=\"34.5\" y=\"493.5\"/><ellipse cx=\"49.5\" cy=\"512.4688\" fill=\"#FFA500\" rx=\"11\" ry=\"11\" style=\"stroke: #A80036; stroke-width: 1.0;\"/><path d=\"M45.375,514.3906 L45.375,506.5781 L47.8281,506.5781 L47.8281,515.0156 Q47.8281,515.9375 48.2969,516.4688 Q48.7813,517 49.6094,517 Q50.4531,517 50.9219,516.4688 Q51.3906,515.9375 51.3906,515.0156 L51.3906,506.5781 L53.8438,506.5781 L53.8438,514.3906 Q53.8438,516.9219 52.8438,518.0625 Q51.8438,519.2031 49.6094,519.2031 Q47.3906,519.2031 46.375,518.0625 Q45.375,516.9219 45.375,514.3906 Z \"/><text fill=\"#000000\" font-family=\"sans-serif\" font-size=\"12\" font-style=\"italic\" lengthAdjust=\"spacingAndGlyphs\" textLength=\"91\" x=\"61.5\" y=\"509.6387\">«requirement»</text><text fill=\"#000000\" font-family=\"sans-serif\" font-size=\"12\" lengthAdjust=\"spacingAndGlyphs\" text-decoration=\"line-through\" textLength=\"51\" x=\"81.5\" y=\"523.6074\">noname</text><line style=\"stroke: #A80036; stroke-width: 1.5;\" x1=\"35.5\" x2=\"152.5\" y1=\"531.4375\" y2=\"531.4375\"/></a><!--MD5=[b9389687b975829384b498ac4b7476b2]\n",
       "class E8--><a href=\"psysml:49e593a4-f39b-4803-a2ce-02c26b916197\" target=\"_top\" title=\"psysml:49e593a4-f39b-4803-a2ce-02c26b916197\" xlink:actuate=\"onRequest\" xlink:href=\"psysml:49e593a4-f39b-4803-a2ce-02c26b916197\" xlink:show=\"new\" xlink:title=\"psysml:49e593a4-f39b-4803-a2ce-02c26b916197\" xlink:type=\"simple\"><rect fill=\"#FEFECE\" filter=\"url(#fiqi3z3padhve)\" height=\"66.7422\" id=\"E8\" style=\"stroke: #A80036; stroke-width: 1.5;\" width=\"143\" x=\"188.5\" y=\"483\"/><ellipse cx=\"203.5\" cy=\"501.9688\" fill=\"#A52A2A\" rx=\"11\" ry=\"11\" style=\"stroke: #A80036; stroke-width: 1.0;\"/><path d=\"M203.0938,497.7813 L203.0938,505.7656 L203.75,505.7656 Q205.1875,505.7656 205.7969,504.8594 Q206.4219,503.9375 206.4219,501.7656 Q206.4219,499.5938 205.7969,498.6875 Q205.1875,497.7813 203.75,497.7813 L203.0938,497.7813 Z M200.6406,495.5781 L203.2656,495.5781 Q206.2969,495.5781 207.625,497.0313 Q208.9688,498.4688 208.9688,501.7656 Q208.9688,505.0625 207.625,506.5156 Q206.2969,507.9688 203.2656,507.9688 L200.6406,507.9688 L200.6406,495.5781 Z \"/><text fill=\"#000000\" font-family=\"sans-serif\" font-size=\"12\" font-style=\"italic\" lengthAdjust=\"spacingAndGlyphs\" textLength=\"115\" x=\"215.5\" y=\"499.1387\">«requirement def»</text><text fill=\"#000000\" font-family=\"sans-serif\" font-size=\"12\" lengthAdjust=\"spacingAndGlyphs\" textLength=\"5\" x=\"260\" y=\"513.1074\">[</text><text fill=\"#000000\" font-family=\"sans-serif\" font-size=\"12\" font-weight=\"bold\" lengthAdjust=\"spacingAndGlyphs\" textLength=\"8\" x=\"265\" y=\"513.1074\">1</text><text fill=\"#000000\" font-family=\"sans-serif\" font-size=\"12\" lengthAdjust=\"spacingAndGlyphs\" textLength=\"17\" x=\"273\" y=\"513.1074\">] A</text><line style=\"stroke: #A80036; stroke-width: 1.5;\" x1=\"189.5\" x2=\"330.5\" y1=\"520.9375\" y2=\"520.9375\"/><text fill=\"#000000\" font-family=\"sans-serif\" font-size=\"11\" lengthAdjust=\"spacingAndGlyphs\" textLength=\"24\" x=\"194.5\" y=\"535.1479\">Text</text><line style=\"stroke: #A80036; stroke-width: 1.0;\" x1=\"189.5\" x2=\"330.5\" y1=\"541.7422\" y2=\"541.7422\"/></a><!--MD5=[fd4143e9d270a159db93a4ea2a975926]\n",
       "class E9--><a href=\"psysml:79fb73d3-867b-49b4-8196-8eb6e64f62f0\" target=\"_top\" title=\"psysml:79fb73d3-867b-49b4-8196-8eb6e64f62f0\" xlink:actuate=\"onRequest\" xlink:href=\"psysml:79fb73d3-867b-49b4-8196-8eb6e64f62f0\" xlink:show=\"new\" xlink:title=\"psysml:79fb73d3-867b-49b4-8196-8eb6e64f62f0\" xlink:type=\"simple\"><rect fill=\"#FEFECE\" filter=\"url(#fiqi3z3padhve)\" height=\"88.3516\" id=\"E9\" style=\"stroke: #A80036; stroke-width: 1.5;\" width=\"145\" x=\"135.5\" y=\"41\"/><ellipse cx=\"151.4\" cy=\"59.9688\" fill=\"#A52A2A\" rx=\"11\" ry=\"11\" style=\"stroke: #A80036; stroke-width: 1.0;\"/><path d=\"M150.9938,55.7813 L150.9938,63.7656 L151.65,63.7656 Q153.0875,63.7656 153.6969,62.8594 Q154.3219,61.9375 154.3219,59.7656 Q154.3219,57.5938 153.6969,56.6875 Q153.0875,55.7813 151.65,55.7813 L150.9938,55.7813 Z M148.5406,53.5781 L151.1656,53.5781 Q154.1969,53.5781 155.525,55.0313 Q156.8688,56.4688 156.8688,59.7656 Q156.8688,63.0625 155.525,64.5156 Q154.1969,65.9688 151.1656,65.9688 L148.5406,65.9688 L148.5406,53.5781 Z \"/><text fill=\"#000000\" font-family=\"sans-serif\" font-size=\"12\" font-style=\"italic\" lengthAdjust=\"spacingAndGlyphs\" textLength=\"115\" x=\"163.6\" y=\"57.1387\">«requirement def»</text><text fill=\"#000000\" font-family=\"sans-serif\" font-size=\"12\" lengthAdjust=\"spacingAndGlyphs\" textLength=\"16\" x=\"213.1\" y=\"71.1074\">R1</text><line style=\"stroke: #A80036; stroke-width: 1.5;\" x1=\"136.5\" x2=\"279.5\" y1=\"78.9375\" y2=\"78.9375\"/><text fill=\"#000000\" font-family=\"sans-serif\" font-size=\"11\" font-weight=\"bold\" lengthAdjust=\"spacingAndGlyphs\" textLength=\"46\" x=\"141.5\" y=\"109.9526\">require</text><text fill=\"#000000\" font-family=\"sans-serif\" font-size=\"11\" lengthAdjust=\"spacingAndGlyphs\" textLength=\"13\" x=\"191.5\" y=\"109.9526\">c1</text><text fill=\"#000000\" font-family=\"sans-serif\" font-size=\"11\" font-style=\"italic\" lengthAdjust=\"spacingAndGlyphs\" textLength=\"133\" x=\"141.5\" y=\"122.7573\">:&gt;&gt;RequirementTest::c</text><line style=\"stroke: #A80036; stroke-width: 1.0;\" x1=\"136.5\" x2=\"176\" y1=\"93.3398\" y2=\"93.3398\"/><text fill=\"#000000\" font-family=\"sans-serif\" font-size=\"11\" lengthAdjust=\"spacingAndGlyphs\" textLength=\"64\" x=\"176\" y=\"96.6479\">constraints</text><line style=\"stroke: #A80036; stroke-width: 1.0;\" x1=\"240\" x2=\"279.5\" y1=\"93.3398\" y2=\"93.3398\"/></a><!--MD5=[1dd1bfd58a279cf63c5f349dbc8fc6a1]\n",
       "class E11--><a href=\"psysml:510a33c1-eff7-4e5e-90b4-a63ef5b72ae6\" target=\"_top\" title=\"psysml:510a33c1-eff7-4e5e-90b4-a63ef5b72ae6\" xlink:actuate=\"onRequest\" xlink:href=\"psysml:510a33c1-eff7-4e5e-90b4-a63ef5b72ae6\" xlink:show=\"new\" xlink:title=\"psysml:510a33c1-eff7-4e5e-90b4-a63ef5b72ae6\" xlink:type=\"simple\"><rect fill=\"#FEFECE\" filter=\"url(#fiqi3z3padhve)\" height=\"45.9375\" id=\"E11\" rx=\"10\" ry=\"10\" style=\"stroke: #A80036; stroke-width: 1.5;\" width=\"68\" x=\"211\" y=\"344.5\"/><ellipse cx=\"226\" cy=\"363.4688\" fill=\"#32CD32\" rx=\"11\" ry=\"11\" style=\"stroke: #A80036; stroke-width: 1.0;\"/><path d=\"M225.7969,359.1406 L225.7969,362.7656 L226.7969,362.7656 Q228,362.7656 228.4844,362.3594 Q228.9688,361.9531 228.9688,360.9531 Q228.9688,359.9531 228.4844,359.5469 Q228,359.1406 226.7969,359.1406 L225.7969,359.1406 Z M223.3438,357.0781 L226.7031,357.0781 Q229.2656,357.0781 230.3906,358 Q231.5156,358.9063 231.5156,360.9531 Q231.5156,363 230.3906,363.9219 Q229.2656,364.8281 226.7031,364.8281 L225.7969,364.8281 L225.7969,369.4688 L223.3438,369.4688 L223.3438,357.0781 Z \"/><text fill=\"#000000\" font-family=\"sans-serif\" font-size=\"12\" font-style=\"italic\" lengthAdjust=\"spacingAndGlyphs\" textLength=\"40\" x=\"238\" y=\"360.6387\">«part»</text><text fill=\"#000000\" font-family=\"sans-serif\" font-size=\"12\" lengthAdjust=\"spacingAndGlyphs\" textLength=\"8\" x=\"254\" y=\"374.6074\">p</text><line style=\"stroke: #A80036; stroke-width: 1.5;\" x1=\"212\" x2=\"278\" y1=\"382.4375\" y2=\"382.4375\"/></a><!--MD5=[49a0ec8f00dab7302a31f22d0f0fe584]\n",
       "class E12--><a href=\"psysml:a6cd5ff6-20a0-4014-8266-5a2f114de57c\" target=\"_top\" title=\"psysml:a6cd5ff6-20a0-4014-8266-5a2f114de57c\" xlink:actuate=\"onRequest\" xlink:href=\"psysml:a6cd5ff6-20a0-4014-8266-5a2f114de57c\" xlink:show=\"new\" xlink:title=\"psysml:a6cd5ff6-20a0-4014-8266-5a2f114de57c\" xlink:type=\"simple\"><rect fill=\"#FEFECE\" filter=\"url(#fiqi3z3padhve)\" height=\"45.9375\" id=\"E12\" rx=\"10\" ry=\"10\" style=\"stroke: #A80036; stroke-width: 1.5;\" width=\"68\" x=\"32\" y=\"62\"/><ellipse cx=\"47\" cy=\"80.9688\" fill=\"#32CD32\" rx=\"11\" ry=\"11\" style=\"stroke: #A80036; stroke-width: 1.0;\"/><path d=\"M46.7969,76.6406 L46.7969,80.2656 L47.7969,80.2656 Q49,80.2656 49.4844,79.8594 Q49.9688,79.4531 49.9688,78.4531 Q49.9688,77.4531 49.4844,77.0469 Q49,76.6406 47.7969,76.6406 L46.7969,76.6406 Z M44.3438,74.5781 L47.7031,74.5781 Q50.2656,74.5781 51.3906,75.5 Q52.5156,76.4063 52.5156,78.4531 Q52.5156,80.5 51.3906,81.4219 Q50.2656,82.3281 47.7031,82.3281 L46.7969,82.3281 L46.7969,86.9688 L44.3438,86.9688 L44.3438,74.5781 Z \"/><text fill=\"#000000\" font-family=\"sans-serif\" font-size=\"12\" font-style=\"italic\" lengthAdjust=\"spacingAndGlyphs\" textLength=\"40\" x=\"59\" y=\"78.1387\">«part»</text><text fill=\"#000000\" font-family=\"sans-serif\" font-size=\"12\" lengthAdjust=\"spacingAndGlyphs\" textLength=\"8\" x=\"75\" y=\"92.1074\">q</text><line style=\"stroke: #A80036; stroke-width: 1.5;\" x1=\"33\" x2=\"99\" y1=\"99.9375\" y2=\"99.9375\"/></a><!--MD5=[ee3c913d1a06f366521f9ef512b67efe]\n",
       "class E13--><a href=\"psysml:50b94a4a-7c4d-4845-a3da-b360d2df1f8c\" target=\"_top\" title=\"psysml:50b94a4a-7c4d-4845-a3da-b360d2df1f8c\" xlink:actuate=\"onRequest\" xlink:href=\"psysml:50b94a4a-7c4d-4845-a3da-b360d2df1f8c\" xlink:show=\"new\" xlink:title=\"psysml:50b94a4a-7c4d-4845-a3da-b360d2df1f8c\" xlink:type=\"simple\"><rect fill=\"#FEFECE\" filter=\"url(#fiqi3z3padhve)\" height=\"45.9375\" id=\"E13\" rx=\"10\" ry=\"10\" style=\"stroke: #A80036; stroke-width: 1.5;\" width=\"119\" x=\"44.5\" y=\"190\"/><ellipse cx=\"59.5\" cy=\"208.9688\" fill=\"#FFA500\" rx=\"11\" ry=\"11\" style=\"stroke: #A80036; stroke-width: 1.0;\"/><path d=\"M55.375,210.8906 L55.375,203.0781 L57.8281,203.0781 L57.8281,211.5156 Q57.8281,212.4375 58.2969,212.9688 Q58.7813,213.5 59.6094,213.5 Q60.4531,213.5 60.9219,212.9688 Q61.3906,212.4375 61.3906,211.5156 L61.3906,203.0781 L63.8438,203.0781 L63.8438,210.8906 Q63.8438,213.4219 62.8438,214.5625 Q61.8438,215.7031 59.6094,215.7031 Q57.3906,215.7031 56.375,214.5625 Q55.375,213.4219 55.375,210.8906 Z \"/><text fill=\"#000000\" font-family=\"sans-serif\" font-size=\"12\" font-style=\"italic\" lengthAdjust=\"spacingAndGlyphs\" textLength=\"91\" x=\"71.5\" y=\"206.1387\">«requirement»</text><text fill=\"#000000\" font-family=\"sans-serif\" font-size=\"12\" lengthAdjust=\"spacingAndGlyphs\" textLength=\"21\" x=\"106.5\" y=\"220.1074\">r: R</text><line style=\"stroke: #A80036; stroke-width: 1.5;\" x1=\"45.5\" x2=\"162.5\" y1=\"227.9375\" y2=\"227.9375\"/></a><!--MD5=[05d275557350bfb9b23a4ef7222b4c39]\n",
       "link E3 to E2--><a href=\"psysml:e8229714-231f-4f2a-9005-056b1e69efb5\" target=\"_top\" title=\"psysml:e8229714-231f-4f2a-9005-056b1e69efb5\" xlink:actuate=\"onRequest\" xlink:href=\"psysml:e8229714-231f-4f2a-9005-056b1e69efb5\" xlink:show=\"new\" xlink:title=\"psysml:e8229714-231f-4f2a-9005-056b1e69efb5\" xlink:type=\"simple\"><path d=\"M366.88,108.24 C365.26,125.24 362.98,149.19 361.02,169.79 \" fill=\"none\" id=\"E3-&gt;E2\" style=\"stroke: #A80036; stroke-width: 1.0;\"/><polygon fill=\"#FFFFFF\" points=\"359.1,189.99,353.9362,170.411,367.8729,171.7407,359.1,189.99\" style=\"stroke: #A80036; stroke-width: 1.0;\"/><ellipse cx=\"356.4685\" cy=\"164.9268\" fill=\"#A80036\" rx=\"2\" ry=\"2\" style=\"stroke: #A80036; stroke-width: 1.0;\"/><ellipse cx=\"366.4233\" cy=\"165.8765\" fill=\"#A80036\" rx=\"2\" ry=\"2\" style=\"stroke: #A80036; stroke-width: 1.0;\"/></a><!--MD5=[722ff4eef345aa10242dad44df0e98c7]\n",
       "reverse link E4 to E7--><a href=\"psysml:eafce8af-10f9-4af7-9431-7513cc7d3347\" target=\"_top\" title=\"psysml:eafce8af-10f9-4af7-9431-7513cc7d3347\" xlink:actuate=\"onRequest\" xlink:href=\"psysml:eafce8af-10f9-4af7-9431-7513cc7d3347\" xlink:show=\"new\" xlink:title=\"psysml:eafce8af-10f9-4af7-9431-7513cc7d3347\" xlink:type=\"simple\"><path d=\"M99.44,435.59 C98.02,456.46 96.55,478.02 95.5,493.48 \" fill=\"none\" id=\"E4&lt;-E7\" style=\"stroke: #A80036; stroke-width: 1.0;\"/><polygon fill=\"#A80036\" points=\"100.33,422.4,95.9306,428.1136,99.5125,434.3721,103.912,428.6586,100.33,422.4\" style=\"stroke: #A80036; stroke-width: 1.0;\"/></a><!--MD5=[c6fc7cdb0cabde04948078cf183fa696]\n",
       "reverse link E4 to E8--><a href=\"psysml:a0130814-5dc8-48af-af1a-9e985463643e\" target=\"_top\" title=\"psysml:a0130814-5dc8-48af-af1a-9e985463643e\" xlink:actuate=\"onRequest\" xlink:href=\"psysml:a0130814-5dc8-48af-af1a-9e985463643e\" xlink:show=\"new\" xlink:title=\"psysml:a0130814-5dc8-48af-af1a-9e985463643e\" xlink:type=\"simple\"><path d=\"M172.23,432.79 C190.64,450.14 209.79,468.19 225.49,482.98 \" fill=\"none\" id=\"E4&lt;-E8\" style=\"stroke: #A80036; stroke-width: 1.0;\"/><ellipse cx=\"167.022\" cy=\"427.8867\" fill=\"#FFFFFF\" rx=\"8\" ry=\"8\" style=\"stroke: #A80036; stroke-width: 1.0;\"/><line style=\"stroke: #A80036; stroke-width: 1.0;\" x1=\"172.844\" x2=\"161.2\" y1=\"433.3734\" y2=\"422.4\"/><line style=\"stroke: #A80036; stroke-width: 1.0;\" x1=\"161.5353\" x2=\"172.5087\" y1=\"433.7087\" y2=\"422.0647\"/></a><!--MD5=[062ed86c389d1a88f61c6380d0491e17]\n",
       "reverse link E12 to E13--><a href=\"psysml:044b978f-2385-4425-992f-2d75b645c055\" target=\"_top\" title=\"psysml:044b978f-2385-4425-992f-2d75b645c055\" xlink:actuate=\"onRequest\" xlink:href=\"psysml:044b978f-2385-4425-992f-2d75b645c055\" xlink:show=\"new\" xlink:title=\"psysml:044b978f-2385-4425-992f-2d75b645c055\" xlink:type=\"simple\"><path d=\"M76.49,120.8 C83.17,142.92 91.6,170.89 97.36,189.99 \" fill=\"none\" id=\"E12&lt;-E13\" style=\"stroke: #A80036; stroke-width: 1.0;\"/><polygon fill=\"#A80036\" points=\"72.71,108.24,70.6129,115.1394,76.1751,119.7288,78.2722,112.8294,72.71,108.24\" style=\"stroke: #A80036; stroke-width: 1.0;\"/></a><!--MD5=[017847e01ff9a8bd19f247411074f987]\n",
       "link E13 to E4--><a href=\"psysml:279d9c9b-21cb-4076-8967-339bf6a79b4c\" target=\"_top\" title=\"psysml:279d9c9b-21cb-4076-8967-339bf6a79b4c\" xlink:actuate=\"onRequest\" xlink:href=\"psysml:279d9c9b-21cb-4076-8967-339bf6a79b4c\" xlink:show=\"new\" xlink:title=\"psysml:279d9c9b-21cb-4076-8967-339bf6a79b4c\" xlink:type=\"simple\"><path d=\"M104,236.17 C104,251.17 104,271.91 104,292.44 \" fill=\"none\" id=\"E13-&gt;E4\" style=\"stroke: #A80036; stroke-width: 1.0;\"/><polygon fill=\"#FFFFFF\" points=\"104,312.68,97,293.68,111,293.68,104,312.68\" style=\"stroke: #A80036; stroke-width: 1.0;\"/><ellipse cx=\"99\" cy=\"287.98\" fill=\"#A80036\" rx=\"2\" ry=\"2\" style=\"stroke: #A80036; stroke-width: 1.0;\"/><ellipse cx=\"109\" cy=\"287.98\" fill=\"#A80036\" rx=\"2\" ry=\"2\" style=\"stroke: #A80036; stroke-width: 1.0;\"/></a><!--MD5=[2cfe899c895462254056921bfb67315f]\n",
       "link E13 to E11--><a href=\"psysml:fcf36e7c-2665-4a1d-8cf4-6fcc5b08ef04\" target=\"_top\" title=\"psysml:fcf36e7c-2665-4a1d-8cf4-6fcc5b08ef04\" xlink:actuate=\"onRequest\" xlink:href=\"psysml:fcf36e7c-2665-4a1d-8cf4-6fcc5b08ef04\" xlink:show=\"new\" xlink:title=\"psysml:fcf36e7c-2665-4a1d-8cf4-6fcc5b08ef04\" xlink:type=\"simple\"><path d=\"M124.5,236.17 C150.09,263.85 193.77,311.09 220.92,340.45 \" fill=\"none\" id=\"E13-&gt;E11\" style=\"stroke: #A80036; stroke-width: 1.0; stroke-dasharray: 7.0,7.0;\"/><polygon fill=\"#A80036\" points=\"224.47,344.3,221.2896,334.9788,221.0727,340.6315,215.42,340.4145,224.47,344.3\" style=\"stroke: #A80036; stroke-width: 1.0;\"/><text fill=\"#000000\" font-family=\"sans-serif\" font-size=\"13\" lengthAdjust=\"spacingAndGlyphs\" textLength=\"57\" x=\"167\" y=\"279.0669\">«satisfy»</text></a><!--MD5=[b04b17865d2195efda6d6dc355c7c688]\n",
       "@startuml\r\n",
       " \r\n",
       "package \"RequirementTest\" as E1  [[psysml:f822a5b9-f637-4bfc-9356-d45755be39c3 ]]  {\r\n",
       "comp def \"C\" as E2  <<(D,brown)constraint def>> [[psysml:55e0c843-cabd-4238-9430-5e5ddb37e322 ]] {\r\n",
       "}\r\n",
       "comp usage \"c: C\" as E3  <<(U,orange)constraint>> [[psysml:943270d7-f648-4f2b-99ed-798f0a01be75 ]] {\r\n",
       "}\r\n",
       "comp def \"R\" as E4  <<(D,brown)requirement def>> [[psysml:3547be1a-4b91-4a24-a66e-ac992d912d25 ]] {\r\n",
       "\r\n",
       "- -\r\n",
       "- - constraints - -\r\n",
       "<b>require</b> c\r\n",
       "<i>assume</i> c1: C\r\n",
       "}\r\n",
       "comp usage \"<s>noname</s>\" as E7  <<(U,orange)requirement>> [[psysml:5cc59123-afbd-4e9a-96fa-0bfa0b631260 ]] {\r\n",
       "}\r\n",
       "comp def \" [<b>1</b>] A\" as E8  <<(D,brown)requirement def>> [[psysml:49e593a4-f39b-4803-a2ce-02c26b916197 ]] {\r\n",
       "Text\r\n",
       "- -\r\n",
       "}\r\n",
       "comp def \"R1\" as E9  <<(D,brown)requirement def>> [[psysml:79fb73d3-867b-49b4-8196-8eb6e64f62f0 ]] {\r\n",
       "- - constraints - -\r\n",
       "<b>require</b> c1\\n//:>>RequirementTest::c// \r\n",
       "}\r\n",
       "comp usage \"p\" as E11  << (P,limegreen) part>> [[psysml:510a33c1-eff7-4e5e-90b4-a63ef5b72ae6 ]] {\r\n",
       "}\r\n",
       "comp usage \"q\" as E12  << (P,limegreen) part>> [[psysml:a6cd5ff6-20a0-4014-8266-5a2f114de57c ]] {\r\n",
       "}\r\n",
       "comp usage \"r: R\" as E13  <<(U,orange)requirement>> [[psysml:50b94a4a-7c4d-4845-a3da-b360d2df1f8c ]] {\r\n",
       "}\r\n",
       "E3 - -:|> E2 [[psysml:e8229714-231f-4f2a-9005-056b1e69efb5 ]] \r\n",
       "E4 *- - E7 [[psysml:eafce8af-10f9-4af7-9431-7513cc7d3347 ]] \r\n",
       "E4 +- - E8 [[psysml:a0130814-5dc8-48af-af1a-9e985463643e ]] \r\n",
       "E12 *- - E13 [[psysml:044b978f-2385-4425-992f-2d75b645c055 ]] \r\n",
       "E13 - -:|> E4 [[psysml:279d9c9b-21cb-4076-8967-339bf6a79b4c ]] \r\n",
       "E13 ..> E11 [[psysml:fcf36e7c-2665-4a1d-8cf4-6fcc5b08ef04 ]] : <<satisfy>>\r\n",
       "}\r\n",
       "@enduml\r\n",
       "\n",
       "PlantUML version 1.2020.13(Sat Jun 13 12:26:38 UTC 2020)\n",
       "(EPL source distribution)\n",
       "Java Runtime: OpenJDK Runtime Environment\n",
       "JVM: OpenJDK 64-Bit Server VM\n",
       "Default Encoding: UTF-8\n",
       "Language: en\n",
       "Country: null\n",
       "--></g></svg>"
      ]
     },
     "execution_count": 36,
     "metadata": {},
     "output_type": "execute_result"
    }
   ],
   "source": [
    "%viz --style=\"PLANTUML\" --view=\"MIXED\" \"RequirementTest\""
   ]
  },
  {
   "cell_type": "code",
   "execution_count": 37,
   "id": "2610a288",
   "metadata": {
    "execution": {
     "iopub.execute_input": "2021-04-21T20:21:30.714153Z",
     "iopub.status.busy": "2021-04-21T20:21:30.713250Z",
     "iopub.status.idle": "2021-04-21T20:21:30.829938Z",
     "shell.execute_reply": "2021-04-21T20:21:30.827865Z"
    }
   },
   "outputs": [
    {
     "data": {
      "image/svg+xml": [
       "<?xml version=\"1.0\" encoding=\"UTF-8\" standalone=\"no\"?><svg xmlns=\"http://www.w3.org/2000/svg\" xmlns:xlink=\"http://www.w3.org/1999/xlink\" contentScriptType=\"application/ecmascript\" contentStyleType=\"text/css\" height=\"578px\" preserveAspectRatio=\"none\" style=\"width:408px;height:578px;\" version=\"1.1\" viewBox=\"0 0 408 578\" width=\"408px\" zoomAndPan=\"magnify\"><defs/><g><!--MD5=[fbc87193dbaf4d95561dea2c320d4a47]\n",
       "cluster E1--><a href=\"psysml:f822a5b9-f637-4bfc-9356-d45755be39c3\" target=\"_top\" title=\"psysml:f822a5b9-f637-4bfc-9356-d45755be39c3\" xlink:actuate=\"onRequest\" xlink:href=\"psysml:f822a5b9-f637-4bfc-9356-d45755be39c3\" xlink:show=\"new\" xlink:title=\"psysml:f822a5b9-f637-4bfc-9356-d45755be39c3\" xlink:type=\"simple\"><polygon fill=\"#FFFFFF\" points=\"16,6,158,6,165,28.2969,386,28.2969,386,566,16,566,16,6\" style=\"stroke: #000000; stroke-width: 1.5;\"/><line style=\"stroke: #000000; stroke-width: 1.5;\" x1=\"16\" x2=\"165\" y1=\"28.2969\" y2=\"28.2969\"/><text fill=\"#000000\" font-family=\"sans-serif\" font-size=\"14\" font-weight=\"bold\" lengthAdjust=\"spacingAndGlyphs\" textLength=\"136\" x=\"20\" y=\"20.9951\">RequirementTest</text></a><!--MD5=[b4997ac47864f28c2f74865a473b2911]\n",
       "class E2--><a href=\"psysml:55e0c843-cabd-4238-9430-5e5ddb37e322\" target=\"_top\" title=\"psysml:55e0c843-cabd-4238-9430-5e5ddb37e322\" xlink:actuate=\"onRequest\" xlink:href=\"psysml:55e0c843-cabd-4238-9430-5e5ddb37e322\" xlink:show=\"new\" xlink:title=\"psysml:55e0c843-cabd-4238-9430-5e5ddb37e322\" xlink:type=\"simple\"><rect fill=\"#FFFFFF\" height=\"45.9375\" id=\"E2\" style=\"stroke: #383838; stroke-width: 1.5;\" width=\"104\" x=\"266\" y=\"190\"/><text fill=\"#000000\" font-family=\"sans-serif\" font-size=\"12\" font-style=\"italic\" lengthAdjust=\"spacingAndGlyphs\" textLength=\"102\" x=\"267\" y=\"206.1387\">«constraint def»</text><text fill=\"#000000\" font-family=\"sans-serif\" font-size=\"12\" lengthAdjust=\"spacingAndGlyphs\" textLength=\"8\" x=\"314\" y=\"220.1074\">C</text><line style=\"stroke: #383838; stroke-width: 1.5;\" x1=\"267\" x2=\"369\" y1=\"227.9375\" y2=\"227.9375\"/></a><!--MD5=[09b614a08d8cba4a07c9adeb5e0fee81]\n",
       "class E3--><a href=\"psysml:943270d7-f648-4f2b-99ed-798f0a01be75\" target=\"_top\" title=\"psysml:943270d7-f648-4f2b-99ed-798f0a01be75\" xlink:actuate=\"onRequest\" xlink:href=\"psysml:943270d7-f648-4f2b-99ed-798f0a01be75\" xlink:show=\"new\" xlink:title=\"psysml:943270d7-f648-4f2b-99ed-798f0a01be75\" xlink:type=\"simple\"><rect fill=\"#FFFFFF\" height=\"45.9375\" id=\"E3\" rx=\"10\" ry=\"10\" style=\"stroke: #383838; stroke-width: 1.5;\" width=\"80\" x=\"290\" y=\"62\"/><text fill=\"#000000\" font-family=\"sans-serif\" font-size=\"12\" font-style=\"italic\" lengthAdjust=\"spacingAndGlyphs\" textLength=\"78\" x=\"291\" y=\"78.1387\">«constraint»</text><text fill=\"#000000\" font-family=\"sans-serif\" font-size=\"12\" lengthAdjust=\"spacingAndGlyphs\" textLength=\"23\" x=\"318.5\" y=\"92.1074\">c: C</text><line style=\"stroke: #383838; stroke-width: 1.5;\" x1=\"291\" x2=\"369\" y1=\"99.9375\" y2=\"99.9375\"/></a><!--MD5=[ebbe1d658d1005bcc118a6aa81145e00]\n",
       "class E4--><a href=\"psysml:3547be1a-4b91-4a24-a66e-ac992d912d25\" target=\"_top\" title=\"psysml:3547be1a-4b91-4a24-a66e-ac992d912d25\" xlink:actuate=\"onRequest\" xlink:href=\"psysml:3547be1a-4b91-4a24-a66e-ac992d912d25\" xlink:show=\"new\" xlink:title=\"psysml:3547be1a-4b91-4a24-a66e-ac992d912d25\" xlink:type=\"simple\"><rect fill=\"#FFFFFF\" height=\"109.1563\" id=\"E4\" style=\"stroke: #383838; stroke-width: 1.5;\" width=\"117\" x=\"32.5\" y=\"313\"/><text fill=\"#000000\" font-family=\"sans-serif\" font-size=\"12\" font-style=\"italic\" lengthAdjust=\"spacingAndGlyphs\" textLength=\"115\" x=\"33.5\" y=\"329.1387\">«requirement def»</text><text fill=\"#000000\" font-family=\"sans-serif\" font-size=\"12\" lengthAdjust=\"spacingAndGlyphs\" textLength=\"8\" x=\"87\" y=\"343.1074\">R</text><line style=\"stroke: #383838; stroke-width: 1.5;\" x1=\"33.5\" x2=\"148.5\" y1=\"350.9375\" y2=\"350.9375\"/><text fill=\"#000000\" font-family=\"sans-serif\" font-size=\"11\" lengthAdjust=\"spacingAndGlyphs\" textLength=\"0\" x=\"42.5\" y=\"365.1479\"/><line style=\"stroke: #383838; stroke-width: 1.0;\" x1=\"33.5\" x2=\"148.5\" y1=\"371.7422\" y2=\"371.7422\"/><text fill=\"#000000\" font-family=\"sans-serif\" font-size=\"11\" font-weight=\"bold\" lengthAdjust=\"spacingAndGlyphs\" textLength=\"46\" x=\"38.5\" y=\"402.7573\">require</text><text fill=\"#000000\" font-family=\"sans-serif\" font-size=\"11\" lengthAdjust=\"spacingAndGlyphs\" textLength=\"6\" x=\"88.5\" y=\"402.7573\">c</text><text fill=\"#000000\" font-family=\"sans-serif\" font-size=\"11\" font-style=\"italic\" lengthAdjust=\"spacingAndGlyphs\" textLength=\"46\" x=\"38.5\" y=\"415.562\">assume</text><text fill=\"#000000\" font-family=\"sans-serif\" font-size=\"11\" lengthAdjust=\"spacingAndGlyphs\" textLength=\"29\" x=\"88.5\" y=\"415.562\">c1: C</text><line style=\"stroke: #383838; stroke-width: 1.0;\" x1=\"33.5\" x2=\"59\" y1=\"386.1445\" y2=\"386.1445\"/><text fill=\"#000000\" font-family=\"sans-serif\" font-size=\"11\" lengthAdjust=\"spacingAndGlyphs\" textLength=\"64\" x=\"59\" y=\"389.4526\">constraints</text><line style=\"stroke: #383838; stroke-width: 1.0;\" x1=\"123\" x2=\"148.5\" y1=\"386.1445\" y2=\"386.1445\"/></a><!--MD5=[2156ba9850f5573cc1fc38a6a4b2f02b]\n",
       "class E7--><a href=\"psysml:5cc59123-afbd-4e9a-96fa-0bfa0b631260\" target=\"_top\" title=\"psysml:5cc59123-afbd-4e9a-96fa-0bfa0b631260\" xlink:actuate=\"onRequest\" xlink:href=\"psysml:5cc59123-afbd-4e9a-96fa-0bfa0b631260\" xlink:show=\"new\" xlink:title=\"psysml:5cc59123-afbd-4e9a-96fa-0bfa0b631260\" xlink:type=\"simple\"><rect fill=\"#FFFFFF\" height=\"45.9375\" id=\"E7\" rx=\"10\" ry=\"10\" style=\"stroke: #383838; stroke-width: 1.5;\" width=\"93\" x=\"34.5\" y=\"493.5\"/><text fill=\"#000000\" font-family=\"sans-serif\" font-size=\"12\" font-style=\"italic\" lengthAdjust=\"spacingAndGlyphs\" textLength=\"91\" x=\"35.5\" y=\"509.6387\">«requirement»</text><text fill=\"#000000\" font-family=\"sans-serif\" font-size=\"12\" lengthAdjust=\"spacingAndGlyphs\" text-decoration=\"line-through\" textLength=\"51\" x=\"55.5\" y=\"523.6074\">noname</text><line style=\"stroke: #383838; stroke-width: 1.5;\" x1=\"35.5\" x2=\"126.5\" y1=\"531.4375\" y2=\"531.4375\"/></a><!--MD5=[b9389687b975829384b498ac4b7476b2]\n",
       "class E8--><a href=\"psysml:49e593a4-f39b-4803-a2ce-02c26b916197\" target=\"_top\" title=\"psysml:49e593a4-f39b-4803-a2ce-02c26b916197\" xlink:actuate=\"onRequest\" xlink:href=\"psysml:49e593a4-f39b-4803-a2ce-02c26b916197\" xlink:show=\"new\" xlink:title=\"psysml:49e593a4-f39b-4803-a2ce-02c26b916197\" xlink:type=\"simple\"><rect fill=\"#FFFFFF\" height=\"66.7422\" id=\"E8\" style=\"stroke: #383838; stroke-width: 1.5;\" width=\"117\" x=\"162.5\" y=\"483\"/><text fill=\"#000000\" font-family=\"sans-serif\" font-size=\"12\" font-style=\"italic\" lengthAdjust=\"spacingAndGlyphs\" textLength=\"115\" x=\"163.5\" y=\"499.1387\">«requirement def»</text><text fill=\"#000000\" font-family=\"sans-serif\" font-size=\"12\" lengthAdjust=\"spacingAndGlyphs\" textLength=\"5\" x=\"208\" y=\"513.1074\">[</text><text fill=\"#000000\" font-family=\"sans-serif\" font-size=\"12\" font-weight=\"bold\" lengthAdjust=\"spacingAndGlyphs\" textLength=\"8\" x=\"213\" y=\"513.1074\">1</text><text fill=\"#000000\" font-family=\"sans-serif\" font-size=\"12\" lengthAdjust=\"spacingAndGlyphs\" textLength=\"17\" x=\"221\" y=\"513.1074\">] A</text><line style=\"stroke: #383838; stroke-width: 1.5;\" x1=\"163.5\" x2=\"278.5\" y1=\"520.9375\" y2=\"520.9375\"/><text fill=\"#000000\" font-family=\"sans-serif\" font-size=\"11\" lengthAdjust=\"spacingAndGlyphs\" textLength=\"24\" x=\"168.5\" y=\"535.1479\">Text</text><line style=\"stroke: #383838; stroke-width: 1.0;\" x1=\"163.5\" x2=\"278.5\" y1=\"541.7422\" y2=\"541.7422\"/></a><!--MD5=[fd4143e9d270a159db93a4ea2a975926]\n",
       "class E9--><a href=\"psysml:79fb73d3-867b-49b4-8196-8eb6e64f62f0\" target=\"_top\" title=\"psysml:79fb73d3-867b-49b4-8196-8eb6e64f62f0\" xlink:actuate=\"onRequest\" xlink:href=\"psysml:79fb73d3-867b-49b4-8196-8eb6e64f62f0\" xlink:show=\"new\" xlink:title=\"psysml:79fb73d3-867b-49b4-8196-8eb6e64f62f0\" xlink:type=\"simple\"><rect fill=\"#FFFFFF\" height=\"88.3516\" id=\"E9\" style=\"stroke: #383838; stroke-width: 1.5;\" width=\"145\" x=\"109.5\" y=\"41\"/><text fill=\"#000000\" font-family=\"sans-serif\" font-size=\"12\" font-style=\"italic\" lengthAdjust=\"spacingAndGlyphs\" textLength=\"115\" x=\"124.5\" y=\"57.1387\">«requirement def»</text><text fill=\"#000000\" font-family=\"sans-serif\" font-size=\"12\" lengthAdjust=\"spacingAndGlyphs\" textLength=\"16\" x=\"174\" y=\"71.1074\">R1</text><line style=\"stroke: #383838; stroke-width: 1.5;\" x1=\"110.5\" x2=\"253.5\" y1=\"78.9375\" y2=\"78.9375\"/><text fill=\"#000000\" font-family=\"sans-serif\" font-size=\"11\" font-weight=\"bold\" lengthAdjust=\"spacingAndGlyphs\" textLength=\"46\" x=\"115.5\" y=\"109.9526\">require</text><text fill=\"#000000\" font-family=\"sans-serif\" font-size=\"11\" lengthAdjust=\"spacingAndGlyphs\" textLength=\"13\" x=\"165.5\" y=\"109.9526\">c1</text><text fill=\"#000000\" font-family=\"sans-serif\" font-size=\"11\" font-style=\"italic\" lengthAdjust=\"spacingAndGlyphs\" textLength=\"133\" x=\"115.5\" y=\"122.7573\">:&gt;&gt;RequirementTest::c</text><line style=\"stroke: #383838; stroke-width: 1.0;\" x1=\"110.5\" x2=\"150\" y1=\"93.3398\" y2=\"93.3398\"/><text fill=\"#000000\" font-family=\"sans-serif\" font-size=\"11\" lengthAdjust=\"spacingAndGlyphs\" textLength=\"64\" x=\"150\" y=\"96.6479\">constraints</text><line style=\"stroke: #383838; stroke-width: 1.0;\" x1=\"214\" x2=\"253.5\" y1=\"93.3398\" y2=\"93.3398\"/></a><!--MD5=[1dd1bfd58a279cf63c5f349dbc8fc6a1]\n",
       "class E11--><a href=\"psysml:510a33c1-eff7-4e5e-90b4-a63ef5b72ae6\" target=\"_top\" title=\"psysml:510a33c1-eff7-4e5e-90b4-a63ef5b72ae6\" xlink:actuate=\"onRequest\" xlink:href=\"psysml:510a33c1-eff7-4e5e-90b4-a63ef5b72ae6\" xlink:show=\"new\" xlink:title=\"psysml:510a33c1-eff7-4e5e-90b4-a63ef5b72ae6\" xlink:type=\"simple\"><rect fill=\"#FFFFFF\" height=\"45.9375\" id=\"E11\" rx=\"10\" ry=\"10\" style=\"stroke: #383838; stroke-width: 1.5;\" width=\"42\" x=\"185\" y=\"344.5\"/><text fill=\"#000000\" font-family=\"sans-serif\" font-size=\"12\" font-style=\"italic\" lengthAdjust=\"spacingAndGlyphs\" textLength=\"40\" x=\"186\" y=\"360.6387\">«part»</text><text fill=\"#000000\" font-family=\"sans-serif\" font-size=\"12\" lengthAdjust=\"spacingAndGlyphs\" textLength=\"8\" x=\"202\" y=\"374.6074\">p</text><line style=\"stroke: #383838; stroke-width: 1.5;\" x1=\"186\" x2=\"226\" y1=\"382.4375\" y2=\"382.4375\"/></a><!--MD5=[49a0ec8f00dab7302a31f22d0f0fe584]\n",
       "class E12--><a href=\"psysml:a6cd5ff6-20a0-4014-8266-5a2f114de57c\" target=\"_top\" title=\"psysml:a6cd5ff6-20a0-4014-8266-5a2f114de57c\" xlink:actuate=\"onRequest\" xlink:href=\"psysml:a6cd5ff6-20a0-4014-8266-5a2f114de57c\" xlink:show=\"new\" xlink:title=\"psysml:a6cd5ff6-20a0-4014-8266-5a2f114de57c\" xlink:type=\"simple\"><rect fill=\"#FFFFFF\" height=\"45.9375\" id=\"E12\" rx=\"10\" ry=\"10\" style=\"stroke: #383838; stroke-width: 1.5;\" width=\"42\" x=\"32\" y=\"62\"/><text fill=\"#000000\" font-family=\"sans-serif\" font-size=\"12\" font-style=\"italic\" lengthAdjust=\"spacingAndGlyphs\" textLength=\"40\" x=\"33\" y=\"78.1387\">«part»</text><text fill=\"#000000\" font-family=\"sans-serif\" font-size=\"12\" lengthAdjust=\"spacingAndGlyphs\" textLength=\"8\" x=\"49\" y=\"92.1074\">q</text><line style=\"stroke: #383838; stroke-width: 1.5;\" x1=\"33\" x2=\"73\" y1=\"99.9375\" y2=\"99.9375\"/></a><!--MD5=[ee3c913d1a06f366521f9ef512b67efe]\n",
       "class E13--><a href=\"psysml:50b94a4a-7c4d-4845-a3da-b360d2df1f8c\" target=\"_top\" title=\"psysml:50b94a4a-7c4d-4845-a3da-b360d2df1f8c\" xlink:actuate=\"onRequest\" xlink:href=\"psysml:50b94a4a-7c4d-4845-a3da-b360d2df1f8c\" xlink:show=\"new\" xlink:title=\"psysml:50b94a4a-7c4d-4845-a3da-b360d2df1f8c\" xlink:type=\"simple\"><rect fill=\"#FFFFFF\" height=\"45.9375\" id=\"E13\" rx=\"10\" ry=\"10\" style=\"stroke: #383838; stroke-width: 1.5;\" width=\"93\" x=\"44.5\" y=\"190\"/><text fill=\"#000000\" font-family=\"sans-serif\" font-size=\"12\" font-style=\"italic\" lengthAdjust=\"spacingAndGlyphs\" textLength=\"91\" x=\"45.5\" y=\"206.1387\">«requirement»</text><text fill=\"#000000\" font-family=\"sans-serif\" font-size=\"12\" lengthAdjust=\"spacingAndGlyphs\" textLength=\"21\" x=\"80.5\" y=\"220.1074\">r: R</text><line style=\"stroke: #383838; stroke-width: 1.5;\" x1=\"45.5\" x2=\"136.5\" y1=\"227.9375\" y2=\"227.9375\"/></a><!--MD5=[05d275557350bfb9b23a4ef7222b4c39]\n",
       "link E3 to E2--><a href=\"psysml:e8229714-231f-4f2a-9005-056b1e69efb5\" target=\"_top\" title=\"psysml:e8229714-231f-4f2a-9005-056b1e69efb5\" xlink:actuate=\"onRequest\" xlink:href=\"psysml:e8229714-231f-4f2a-9005-056b1e69efb5\" xlink:show=\"new\" xlink:title=\"psysml:e8229714-231f-4f2a-9005-056b1e69efb5\" xlink:type=\"simple\"><path d=\"M327.88,108.24 C326.26,125.24 323.98,149.19 322.02,169.79 \" fill=\"none\" id=\"E3-&gt;E2\" style=\"stroke: #383838; stroke-width: 1.0;\"/><polygon fill=\"#FFFFFF\" points=\"320.1,189.99,314.9362,170.411,328.8729,171.7407,320.1,189.99\" style=\"stroke: #383838; stroke-width: 1.0;\"/><ellipse cx=\"317.4685\" cy=\"164.9268\" fill=\"#383838\" rx=\"2\" ry=\"2\" style=\"stroke: #383838; stroke-width: 1.0;\"/><ellipse cx=\"327.4233\" cy=\"165.8765\" fill=\"#383838\" rx=\"2\" ry=\"2\" style=\"stroke: #383838; stroke-width: 1.0;\"/></a><!--MD5=[722ff4eef345aa10242dad44df0e98c7]\n",
       "reverse link E4 to E7--><a href=\"psysml:eafce8af-10f9-4af7-9431-7513cc7d3347\" target=\"_top\" title=\"psysml:eafce8af-10f9-4af7-9431-7513cc7d3347\" xlink:actuate=\"onRequest\" xlink:href=\"psysml:eafce8af-10f9-4af7-9431-7513cc7d3347\" xlink:show=\"new\" xlink:title=\"psysml:eafce8af-10f9-4af7-9431-7513cc7d3347\" xlink:type=\"simple\"><path d=\"M86.44,435.59 C85.02,456.46 83.55,478.02 82.5,493.48 \" fill=\"none\" id=\"E4&lt;-E7\" style=\"stroke: #383838; stroke-width: 1.0;\"/><polygon fill=\"#383838\" points=\"87.33,422.4,82.9306,428.1136,86.5125,434.3721,90.912,428.6586,87.33,422.4\" style=\"stroke: #383838; stroke-width: 1.0;\"/></a><!--MD5=[c6fc7cdb0cabde04948078cf183fa696]\n",
       "reverse link E4 to E8--><a href=\"psysml:a0130814-5dc8-48af-af1a-9e985463643e\" target=\"_top\" title=\"psysml:a0130814-5dc8-48af-af1a-9e985463643e\" xlink:actuate=\"onRequest\" xlink:href=\"psysml:a0130814-5dc8-48af-af1a-9e985463643e\" xlink:show=\"new\" xlink:title=\"psysml:a0130814-5dc8-48af-af1a-9e985463643e\" xlink:type=\"simple\"><path d=\"M148.94,434.02 C163.95,450.99 179.47,468.53 192.24,482.98 \" fill=\"none\" id=\"E4&lt;-E8\" style=\"stroke: #383838; stroke-width: 1.0;\"/><ellipse cx=\"143.9698\" cy=\"428.3927\" fill=\"#FFFFFF\" rx=\"8\" ry=\"8\" style=\"stroke: #383838; stroke-width: 1.0;\"/><line style=\"stroke: #383838; stroke-width: 1.0;\" x1=\"149.2695\" x2=\"138.67\" y1=\"434.3854\" y2=\"422.4\"/><line style=\"stroke: #383838; stroke-width: 1.0;\" x1=\"137.9771\" x2=\"149.9625\" y1=\"433.6925\" y2=\"423.0929\"/></a><!--MD5=[062ed86c389d1a88f61c6380d0491e17]\n",
       "reverse link E12 to E13--><a href=\"psysml:044b978f-2385-4425-992f-2d75b645c055\" target=\"_top\" title=\"psysml:044b978f-2385-4425-992f-2d75b645c055\" xlink:actuate=\"onRequest\" xlink:href=\"psysml:044b978f-2385-4425-992f-2d75b645c055\" xlink:show=\"new\" xlink:title=\"psysml:044b978f-2385-4425-992f-2d75b645c055\" xlink:type=\"simple\"><path d=\"M63.49,120.8 C70.17,142.92 78.6,170.89 84.36,189.99 \" fill=\"none\" id=\"E12&lt;-E13\" style=\"stroke: #383838; stroke-width: 1.0;\"/><polygon fill=\"#383838\" points=\"59.71,108.24,57.6129,115.1394,63.1751,119.7288,65.2722,112.8294,59.71,108.24\" style=\"stroke: #383838; stroke-width: 1.0;\"/></a><!--MD5=[017847e01ff9a8bd19f247411074f987]\n",
       "link E13 to E4--><a href=\"psysml:279d9c9b-21cb-4076-8967-339bf6a79b4c\" target=\"_top\" title=\"psysml:279d9c9b-21cb-4076-8967-339bf6a79b4c\" xlink:actuate=\"onRequest\" xlink:href=\"psysml:279d9c9b-21cb-4076-8967-339bf6a79b4c\" xlink:show=\"new\" xlink:title=\"psysml:279d9c9b-21cb-4076-8967-339bf6a79b4c\" xlink:type=\"simple\"><path d=\"M91,236.17 C91,251.17 91,271.91 91,292.44 \" fill=\"none\" id=\"E13-&gt;E4\" style=\"stroke: #383838; stroke-width: 1.0;\"/><polygon fill=\"#FFFFFF\" points=\"91,312.68,84,293.68,98,293.68,91,312.68\" style=\"stroke: #383838; stroke-width: 1.0;\"/><ellipse cx=\"86\" cy=\"287.98\" fill=\"#383838\" rx=\"2\" ry=\"2\" style=\"stroke: #383838; stroke-width: 1.0;\"/><ellipse cx=\"96\" cy=\"287.98\" fill=\"#383838\" rx=\"2\" ry=\"2\" style=\"stroke: #383838; stroke-width: 1.0;\"/></a><!--MD5=[2cfe899c895462254056921bfb67315f]\n",
       "link E13 to E11--><a href=\"psysml:fcf36e7c-2665-4a1d-8cf4-6fcc5b08ef04\" target=\"_top\" title=\"psysml:fcf36e7c-2665-4a1d-8cf4-6fcc5b08ef04\" xlink:actuate=\"onRequest\" xlink:href=\"psysml:fcf36e7c-2665-4a1d-8cf4-6fcc5b08ef04\" xlink:show=\"new\" xlink:title=\"psysml:fcf36e7c-2665-4a1d-8cf4-6fcc5b08ef04\" xlink:type=\"simple\"><path d=\"M108.36,236.29 C123.87,256.28 147.14,286.45 167,313 C173.57,321.78 180.66,331.44 186.97,340.12 \" fill=\"none\" id=\"E13-&gt;E11\" style=\"stroke: #383838; stroke-width: 1.0; stroke-dasharray: 7.0,7.0;\"/><polygon fill=\"#383838\" points=\"189.99,344.28,187.9274,334.6496,187.0474,340.2376,181.4594,339.3576,189.99,344.28\" style=\"stroke: #383838; stroke-width: 1.0;\"/><text fill=\"#000000\" font-family=\"sans-serif\" font-size=\"13\" lengthAdjust=\"spacingAndGlyphs\" textLength=\"57\" x=\"145\" y=\"279.0669\">«satisfy»</text></a><!--MD5=[964ac1a25a7ebe2c00eb490186d86ba1]\n",
       "@startuml\r\n",
       "skinparam monochrome true\r\n",
       "skinparam classbackgroundcolor white\r\n",
       "skinparam shadowing false\r\n",
       "skinparam wrapWidth 300\r\n",
       "hide circle\r\n",
       "\r\n",
       "package \"RequirementTest\" as E1  [[psysml:f822a5b9-f637-4bfc-9356-d45755be39c3 ]]  {\r\n",
       "comp def \"C\" as E2  <<(T,blue)constraint def>> [[psysml:55e0c843-cabd-4238-9430-5e5ddb37e322 ]] {\r\n",
       "}\r\n",
       "comp usage \"c: C\" as E3  <<(T,blue)constraint>> [[psysml:943270d7-f648-4f2b-99ed-798f0a01be75 ]] {\r\n",
       "}\r\n",
       "comp def \"R\" as E4  <<(T,blue)requirement def>> [[psysml:3547be1a-4b91-4a24-a66e-ac992d912d25 ]] {\r\n",
       "\r\n",
       "- -\r\n",
       "- - constraints - -\r\n",
       "<b>require</b> c\r\n",
       "<i>assume</i> c1: C\r\n",
       "}\r\n",
       "comp usage \"<s>noname</s>\" as E7  <<(T,blue)requirement>> [[psysml:5cc59123-afbd-4e9a-96fa-0bfa0b631260 ]] {\r\n",
       "}\r\n",
       "comp def \" [<b>1</b>] A\" as E8  <<(T,blue)requirement def>> [[psysml:49e593a4-f39b-4803-a2ce-02c26b916197 ]] {\r\n",
       "Text\r\n",
       "- -\r\n",
       "}\r\n",
       "comp def \"R1\" as E9  <<(T,blue)requirement def>> [[psysml:79fb73d3-867b-49b4-8196-8eb6e64f62f0 ]] {\r\n",
       "- - constraints - -\r\n",
       "<b>require</b> c1\\n//:>>RequirementTest::c// \r\n",
       "}\r\n",
       "comp usage \"p\" as E11  <<(T,blue)part>> [[psysml:510a33c1-eff7-4e5e-90b4-a63ef5b72ae6 ]] {\r\n",
       "}\r\n",
       "comp usage \"q\" as E12  <<(T,blue)part>> [[psysml:a6cd5ff6-20a0-4014-8266-5a2f114de57c ]] {\r\n",
       "}\r\n",
       "comp usage \"r: R\" as E13  <<(T,blue)requirement>> [[psysml:50b94a4a-7c4d-4845-a3da-b360d2df1f8c ]] {\r\n",
       "}\r\n",
       "E3 - -:|> E2 [[psysml:e8229714-231f-4f2a-9005-056b1e69efb5 ]] \r\n",
       "E4 *- - E7 [[psysml:eafce8af-10f9-4af7-9431-7513cc7d3347 ]] \r\n",
       "E4 +- - E8 [[psysml:a0130814-5dc8-48af-af1a-9e985463643e ]] \r\n",
       "E12 *- - E13 [[psysml:044b978f-2385-4425-992f-2d75b645c055 ]] \r\n",
       "E13 - -:|> E4 [[psysml:279d9c9b-21cb-4076-8967-339bf6a79b4c ]] \r\n",
       "E13 ..> E11 [[psysml:fcf36e7c-2665-4a1d-8cf4-6fcc5b08ef04 ]] : <<satisfy>>\r\n",
       "}\r\n",
       "@enduml\r\n",
       "\n",
       "PlantUML version 1.2020.13(Sat Jun 13 12:26:38 UTC 2020)\n",
       "(EPL source distribution)\n",
       "Java Runtime: OpenJDK Runtime Environment\n",
       "JVM: OpenJDK 64-Bit Server VM\n",
       "Default Encoding: UTF-8\n",
       "Language: en\n",
       "Country: null\n",
       "--></g></svg>"
      ]
     },
     "execution_count": 37,
     "metadata": {},
     "output_type": "execute_result"
    }
   ],
   "source": [
    "%viz --style=\"DEFAULT\" --view=\"Default\" \"RequirementTest\""
   ]
  },
  {
   "cell_type": "code",
   "execution_count": 38,
   "id": "568df56e",
   "metadata": {
    "execution": {
     "iopub.execute_input": "2021-04-21T20:21:30.880018Z",
     "iopub.status.busy": "2021-04-21T20:21:30.879553Z",
     "iopub.status.idle": "2021-04-21T20:21:30.982134Z",
     "shell.execute_reply": "2021-04-21T20:21:30.979761Z"
    }
   },
   "outputs": [
    {
     "data": {
      "image/svg+xml": [
       "<?xml version=\"1.0\" encoding=\"UTF-8\" standalone=\"no\"?><svg xmlns=\"http://www.w3.org/2000/svg\" xmlns:xlink=\"http://www.w3.org/1999/xlink\" contentScriptType=\"application/ecmascript\" contentStyleType=\"text/css\" height=\"578px\" preserveAspectRatio=\"none\" style=\"width:408px;height:578px;\" version=\"1.1\" viewBox=\"0 0 408 578\" width=\"408px\" zoomAndPan=\"magnify\"><defs/><g><!--MD5=[fbc87193dbaf4d95561dea2c320d4a47]\n",
       "cluster E1--><a href=\"psysml:f822a5b9-f637-4bfc-9356-d45755be39c3\" target=\"_top\" title=\"psysml:f822a5b9-f637-4bfc-9356-d45755be39c3\" xlink:actuate=\"onRequest\" xlink:href=\"psysml:f822a5b9-f637-4bfc-9356-d45755be39c3\" xlink:show=\"new\" xlink:title=\"psysml:f822a5b9-f637-4bfc-9356-d45755be39c3\" xlink:type=\"simple\"><polygon fill=\"#FFFFFF\" points=\"16,6,158,6,165,28.2969,386,28.2969,386,566,16,566,16,6\" style=\"stroke: #000000; stroke-width: 1.5;\"/><line style=\"stroke: #000000; stroke-width: 1.5;\" x1=\"16\" x2=\"165\" y1=\"28.2969\" y2=\"28.2969\"/><text fill=\"#000000\" font-family=\"sans-serif\" font-size=\"14\" font-weight=\"bold\" lengthAdjust=\"spacingAndGlyphs\" textLength=\"136\" x=\"20\" y=\"20.9951\">RequirementTest</text></a><!--MD5=[b4997ac47864f28c2f74865a473b2911]\n",
       "class E2--><a href=\"psysml:55e0c843-cabd-4238-9430-5e5ddb37e322\" target=\"_top\" title=\"psysml:55e0c843-cabd-4238-9430-5e5ddb37e322\" xlink:actuate=\"onRequest\" xlink:href=\"psysml:55e0c843-cabd-4238-9430-5e5ddb37e322\" xlink:show=\"new\" xlink:title=\"psysml:55e0c843-cabd-4238-9430-5e5ddb37e322\" xlink:type=\"simple\"><rect fill=\"#FFFFFF\" height=\"45.9375\" id=\"E2\" style=\"stroke: #383838; stroke-width: 1.5;\" width=\"104\" x=\"266\" y=\"190\"/><text fill=\"#000000\" font-family=\"sans-serif\" font-size=\"12\" font-style=\"italic\" lengthAdjust=\"spacingAndGlyphs\" textLength=\"102\" x=\"267\" y=\"206.1387\">«constraint def»</text><text fill=\"#000000\" font-family=\"sans-serif\" font-size=\"12\" lengthAdjust=\"spacingAndGlyphs\" textLength=\"8\" x=\"314\" y=\"220.1074\">C</text><line style=\"stroke: #383838; stroke-width: 1.5;\" x1=\"267\" x2=\"369\" y1=\"227.9375\" y2=\"227.9375\"/></a><!--MD5=[09b614a08d8cba4a07c9adeb5e0fee81]\n",
       "class E3--><a href=\"psysml:943270d7-f648-4f2b-99ed-798f0a01be75\" target=\"_top\" title=\"psysml:943270d7-f648-4f2b-99ed-798f0a01be75\" xlink:actuate=\"onRequest\" xlink:href=\"psysml:943270d7-f648-4f2b-99ed-798f0a01be75\" xlink:show=\"new\" xlink:title=\"psysml:943270d7-f648-4f2b-99ed-798f0a01be75\" xlink:type=\"simple\"><rect fill=\"#FFFFFF\" height=\"45.9375\" id=\"E3\" rx=\"10\" ry=\"10\" style=\"stroke: #383838; stroke-width: 1.5;\" width=\"80\" x=\"290\" y=\"62\"/><text fill=\"#000000\" font-family=\"sans-serif\" font-size=\"12\" font-style=\"italic\" lengthAdjust=\"spacingAndGlyphs\" textLength=\"78\" x=\"291\" y=\"78.1387\">«constraint»</text><text fill=\"#000000\" font-family=\"sans-serif\" font-size=\"12\" lengthAdjust=\"spacingAndGlyphs\" textLength=\"23\" x=\"318.5\" y=\"92.1074\">c: C</text><line style=\"stroke: #383838; stroke-width: 1.5;\" x1=\"291\" x2=\"369\" y1=\"99.9375\" y2=\"99.9375\"/></a><!--MD5=[ebbe1d658d1005bcc118a6aa81145e00]\n",
       "class E4--><a href=\"psysml:3547be1a-4b91-4a24-a66e-ac992d912d25\" target=\"_top\" title=\"psysml:3547be1a-4b91-4a24-a66e-ac992d912d25\" xlink:actuate=\"onRequest\" xlink:href=\"psysml:3547be1a-4b91-4a24-a66e-ac992d912d25\" xlink:show=\"new\" xlink:title=\"psysml:3547be1a-4b91-4a24-a66e-ac992d912d25\" xlink:type=\"simple\"><rect fill=\"#FFFFFF\" height=\"109.1563\" id=\"E4\" style=\"stroke: #383838; stroke-width: 1.5;\" width=\"117\" x=\"32.5\" y=\"313\"/><text fill=\"#000000\" font-family=\"sans-serif\" font-size=\"12\" font-style=\"italic\" lengthAdjust=\"spacingAndGlyphs\" textLength=\"115\" x=\"33.5\" y=\"329.1387\">«requirement def»</text><text fill=\"#000000\" font-family=\"sans-serif\" font-size=\"12\" lengthAdjust=\"spacingAndGlyphs\" textLength=\"8\" x=\"87\" y=\"343.1074\">R</text><line style=\"stroke: #383838; stroke-width: 1.5;\" x1=\"33.5\" x2=\"148.5\" y1=\"350.9375\" y2=\"350.9375\"/><text fill=\"#000000\" font-family=\"sans-serif\" font-size=\"11\" lengthAdjust=\"spacingAndGlyphs\" textLength=\"0\" x=\"42.5\" y=\"365.1479\"/><line style=\"stroke: #383838; stroke-width: 1.0;\" x1=\"33.5\" x2=\"148.5\" y1=\"371.7422\" y2=\"371.7422\"/><text fill=\"#000000\" font-family=\"sans-serif\" font-size=\"11\" font-weight=\"bold\" lengthAdjust=\"spacingAndGlyphs\" textLength=\"46\" x=\"38.5\" y=\"402.7573\">require</text><text fill=\"#000000\" font-family=\"sans-serif\" font-size=\"11\" lengthAdjust=\"spacingAndGlyphs\" textLength=\"6\" x=\"88.5\" y=\"402.7573\">c</text><text fill=\"#000000\" font-family=\"sans-serif\" font-size=\"11\" font-style=\"italic\" lengthAdjust=\"spacingAndGlyphs\" textLength=\"46\" x=\"38.5\" y=\"415.562\">assume</text><text fill=\"#000000\" font-family=\"sans-serif\" font-size=\"11\" lengthAdjust=\"spacingAndGlyphs\" textLength=\"29\" x=\"88.5\" y=\"415.562\">c1: C</text><line style=\"stroke: #383838; stroke-width: 1.0;\" x1=\"33.5\" x2=\"59\" y1=\"386.1445\" y2=\"386.1445\"/><text fill=\"#000000\" font-family=\"sans-serif\" font-size=\"11\" lengthAdjust=\"spacingAndGlyphs\" textLength=\"64\" x=\"59\" y=\"389.4526\">constraints</text><line style=\"stroke: #383838; stroke-width: 1.0;\" x1=\"123\" x2=\"148.5\" y1=\"386.1445\" y2=\"386.1445\"/></a><!--MD5=[2156ba9850f5573cc1fc38a6a4b2f02b]\n",
       "class E7--><a href=\"psysml:5cc59123-afbd-4e9a-96fa-0bfa0b631260\" target=\"_top\" title=\"psysml:5cc59123-afbd-4e9a-96fa-0bfa0b631260\" xlink:actuate=\"onRequest\" xlink:href=\"psysml:5cc59123-afbd-4e9a-96fa-0bfa0b631260\" xlink:show=\"new\" xlink:title=\"psysml:5cc59123-afbd-4e9a-96fa-0bfa0b631260\" xlink:type=\"simple\"><rect fill=\"#FFFFFF\" height=\"45.9375\" id=\"E7\" rx=\"10\" ry=\"10\" style=\"stroke: #383838; stroke-width: 1.5;\" width=\"93\" x=\"34.5\" y=\"493.5\"/><text fill=\"#000000\" font-family=\"sans-serif\" font-size=\"12\" font-style=\"italic\" lengthAdjust=\"spacingAndGlyphs\" textLength=\"91\" x=\"35.5\" y=\"509.6387\">«requirement»</text><text fill=\"#000000\" font-family=\"sans-serif\" font-size=\"12\" lengthAdjust=\"spacingAndGlyphs\" text-decoration=\"line-through\" textLength=\"51\" x=\"55.5\" y=\"523.6074\">noname</text><line style=\"stroke: #383838; stroke-width: 1.5;\" x1=\"35.5\" x2=\"126.5\" y1=\"531.4375\" y2=\"531.4375\"/></a><!--MD5=[b9389687b975829384b498ac4b7476b2]\n",
       "class E8--><a href=\"psysml:49e593a4-f39b-4803-a2ce-02c26b916197\" target=\"_top\" title=\"psysml:49e593a4-f39b-4803-a2ce-02c26b916197\" xlink:actuate=\"onRequest\" xlink:href=\"psysml:49e593a4-f39b-4803-a2ce-02c26b916197\" xlink:show=\"new\" xlink:title=\"psysml:49e593a4-f39b-4803-a2ce-02c26b916197\" xlink:type=\"simple\"><rect fill=\"#FFFFFF\" height=\"66.7422\" id=\"E8\" style=\"stroke: #383838; stroke-width: 1.5;\" width=\"117\" x=\"162.5\" y=\"483\"/><text fill=\"#000000\" font-family=\"sans-serif\" font-size=\"12\" font-style=\"italic\" lengthAdjust=\"spacingAndGlyphs\" textLength=\"115\" x=\"163.5\" y=\"499.1387\">«requirement def»</text><text fill=\"#000000\" font-family=\"sans-serif\" font-size=\"12\" lengthAdjust=\"spacingAndGlyphs\" textLength=\"5\" x=\"208\" y=\"513.1074\">[</text><text fill=\"#000000\" font-family=\"sans-serif\" font-size=\"12\" font-weight=\"bold\" lengthAdjust=\"spacingAndGlyphs\" textLength=\"8\" x=\"213\" y=\"513.1074\">1</text><text fill=\"#000000\" font-family=\"sans-serif\" font-size=\"12\" lengthAdjust=\"spacingAndGlyphs\" textLength=\"17\" x=\"221\" y=\"513.1074\">] A</text><line style=\"stroke: #383838; stroke-width: 1.5;\" x1=\"163.5\" x2=\"278.5\" y1=\"520.9375\" y2=\"520.9375\"/><text fill=\"#000000\" font-family=\"sans-serif\" font-size=\"11\" lengthAdjust=\"spacingAndGlyphs\" textLength=\"24\" x=\"168.5\" y=\"535.1479\">Text</text><line style=\"stroke: #383838; stroke-width: 1.0;\" x1=\"163.5\" x2=\"278.5\" y1=\"541.7422\" y2=\"541.7422\"/></a><!--MD5=[fd4143e9d270a159db93a4ea2a975926]\n",
       "class E9--><a href=\"psysml:79fb73d3-867b-49b4-8196-8eb6e64f62f0\" target=\"_top\" title=\"psysml:79fb73d3-867b-49b4-8196-8eb6e64f62f0\" xlink:actuate=\"onRequest\" xlink:href=\"psysml:79fb73d3-867b-49b4-8196-8eb6e64f62f0\" xlink:show=\"new\" xlink:title=\"psysml:79fb73d3-867b-49b4-8196-8eb6e64f62f0\" xlink:type=\"simple\"><rect fill=\"#FFFFFF\" height=\"88.3516\" id=\"E9\" style=\"stroke: #383838; stroke-width: 1.5;\" width=\"145\" x=\"109.5\" y=\"41\"/><text fill=\"#000000\" font-family=\"sans-serif\" font-size=\"12\" font-style=\"italic\" lengthAdjust=\"spacingAndGlyphs\" textLength=\"115\" x=\"124.5\" y=\"57.1387\">«requirement def»</text><text fill=\"#000000\" font-family=\"sans-serif\" font-size=\"12\" lengthAdjust=\"spacingAndGlyphs\" textLength=\"16\" x=\"174\" y=\"71.1074\">R1</text><line style=\"stroke: #383838; stroke-width: 1.5;\" x1=\"110.5\" x2=\"253.5\" y1=\"78.9375\" y2=\"78.9375\"/><text fill=\"#000000\" font-family=\"sans-serif\" font-size=\"11\" font-weight=\"bold\" lengthAdjust=\"spacingAndGlyphs\" textLength=\"46\" x=\"115.5\" y=\"109.9526\">require</text><text fill=\"#000000\" font-family=\"sans-serif\" font-size=\"11\" lengthAdjust=\"spacingAndGlyphs\" textLength=\"13\" x=\"165.5\" y=\"109.9526\">c1</text><text fill=\"#000000\" font-family=\"sans-serif\" font-size=\"11\" font-style=\"italic\" lengthAdjust=\"spacingAndGlyphs\" textLength=\"133\" x=\"115.5\" y=\"122.7573\">:&gt;&gt;RequirementTest::c</text><line style=\"stroke: #383838; stroke-width: 1.0;\" x1=\"110.5\" x2=\"150\" y1=\"93.3398\" y2=\"93.3398\"/><text fill=\"#000000\" font-family=\"sans-serif\" font-size=\"11\" lengthAdjust=\"spacingAndGlyphs\" textLength=\"64\" x=\"150\" y=\"96.6479\">constraints</text><line style=\"stroke: #383838; stroke-width: 1.0;\" x1=\"214\" x2=\"253.5\" y1=\"93.3398\" y2=\"93.3398\"/></a><!--MD5=[1dd1bfd58a279cf63c5f349dbc8fc6a1]\n",
       "class E11--><a href=\"psysml:510a33c1-eff7-4e5e-90b4-a63ef5b72ae6\" target=\"_top\" title=\"psysml:510a33c1-eff7-4e5e-90b4-a63ef5b72ae6\" xlink:actuate=\"onRequest\" xlink:href=\"psysml:510a33c1-eff7-4e5e-90b4-a63ef5b72ae6\" xlink:show=\"new\" xlink:title=\"psysml:510a33c1-eff7-4e5e-90b4-a63ef5b72ae6\" xlink:type=\"simple\"><rect fill=\"#FFFFFF\" height=\"45.9375\" id=\"E11\" rx=\"10\" ry=\"10\" style=\"stroke: #383838; stroke-width: 1.5;\" width=\"42\" x=\"185\" y=\"344.5\"/><text fill=\"#000000\" font-family=\"sans-serif\" font-size=\"12\" font-style=\"italic\" lengthAdjust=\"spacingAndGlyphs\" textLength=\"40\" x=\"186\" y=\"360.6387\">«part»</text><text fill=\"#000000\" font-family=\"sans-serif\" font-size=\"12\" lengthAdjust=\"spacingAndGlyphs\" textLength=\"8\" x=\"202\" y=\"374.6074\">p</text><line style=\"stroke: #383838; stroke-width: 1.5;\" x1=\"186\" x2=\"226\" y1=\"382.4375\" y2=\"382.4375\"/></a><!--MD5=[49a0ec8f00dab7302a31f22d0f0fe584]\n",
       "class E12--><a href=\"psysml:a6cd5ff6-20a0-4014-8266-5a2f114de57c\" target=\"_top\" title=\"psysml:a6cd5ff6-20a0-4014-8266-5a2f114de57c\" xlink:actuate=\"onRequest\" xlink:href=\"psysml:a6cd5ff6-20a0-4014-8266-5a2f114de57c\" xlink:show=\"new\" xlink:title=\"psysml:a6cd5ff6-20a0-4014-8266-5a2f114de57c\" xlink:type=\"simple\"><rect fill=\"#FFFFFF\" height=\"45.9375\" id=\"E12\" rx=\"10\" ry=\"10\" style=\"stroke: #383838; stroke-width: 1.5;\" width=\"42\" x=\"32\" y=\"62\"/><text fill=\"#000000\" font-family=\"sans-serif\" font-size=\"12\" font-style=\"italic\" lengthAdjust=\"spacingAndGlyphs\" textLength=\"40\" x=\"33\" y=\"78.1387\">«part»</text><text fill=\"#000000\" font-family=\"sans-serif\" font-size=\"12\" lengthAdjust=\"spacingAndGlyphs\" textLength=\"8\" x=\"49\" y=\"92.1074\">q</text><line style=\"stroke: #383838; stroke-width: 1.5;\" x1=\"33\" x2=\"73\" y1=\"99.9375\" y2=\"99.9375\"/></a><!--MD5=[ee3c913d1a06f366521f9ef512b67efe]\n",
       "class E13--><a href=\"psysml:50b94a4a-7c4d-4845-a3da-b360d2df1f8c\" target=\"_top\" title=\"psysml:50b94a4a-7c4d-4845-a3da-b360d2df1f8c\" xlink:actuate=\"onRequest\" xlink:href=\"psysml:50b94a4a-7c4d-4845-a3da-b360d2df1f8c\" xlink:show=\"new\" xlink:title=\"psysml:50b94a4a-7c4d-4845-a3da-b360d2df1f8c\" xlink:type=\"simple\"><rect fill=\"#FFFFFF\" height=\"45.9375\" id=\"E13\" rx=\"10\" ry=\"10\" style=\"stroke: #383838; stroke-width: 1.5;\" width=\"93\" x=\"44.5\" y=\"190\"/><text fill=\"#000000\" font-family=\"sans-serif\" font-size=\"12\" font-style=\"italic\" lengthAdjust=\"spacingAndGlyphs\" textLength=\"91\" x=\"45.5\" y=\"206.1387\">«requirement»</text><text fill=\"#000000\" font-family=\"sans-serif\" font-size=\"12\" lengthAdjust=\"spacingAndGlyphs\" textLength=\"21\" x=\"80.5\" y=\"220.1074\">r: R</text><line style=\"stroke: #383838; stroke-width: 1.5;\" x1=\"45.5\" x2=\"136.5\" y1=\"227.9375\" y2=\"227.9375\"/></a><!--MD5=[05d275557350bfb9b23a4ef7222b4c39]\n",
       "link E3 to E2--><a href=\"psysml:e8229714-231f-4f2a-9005-056b1e69efb5\" target=\"_top\" title=\"psysml:e8229714-231f-4f2a-9005-056b1e69efb5\" xlink:actuate=\"onRequest\" xlink:href=\"psysml:e8229714-231f-4f2a-9005-056b1e69efb5\" xlink:show=\"new\" xlink:title=\"psysml:e8229714-231f-4f2a-9005-056b1e69efb5\" xlink:type=\"simple\"><path d=\"M327.88,108.24 C326.26,125.24 323.98,149.19 322.02,169.79 \" fill=\"none\" id=\"E3-&gt;E2\" style=\"stroke: #383838; stroke-width: 1.0;\"/><polygon fill=\"#FFFFFF\" points=\"320.1,189.99,314.9362,170.411,328.8729,171.7407,320.1,189.99\" style=\"stroke: #383838; stroke-width: 1.0;\"/><ellipse cx=\"317.4685\" cy=\"164.9268\" fill=\"#383838\" rx=\"2\" ry=\"2\" style=\"stroke: #383838; stroke-width: 1.0;\"/><ellipse cx=\"327.4233\" cy=\"165.8765\" fill=\"#383838\" rx=\"2\" ry=\"2\" style=\"stroke: #383838; stroke-width: 1.0;\"/></a><!--MD5=[722ff4eef345aa10242dad44df0e98c7]\n",
       "reverse link E4 to E7--><a href=\"psysml:eafce8af-10f9-4af7-9431-7513cc7d3347\" target=\"_top\" title=\"psysml:eafce8af-10f9-4af7-9431-7513cc7d3347\" xlink:actuate=\"onRequest\" xlink:href=\"psysml:eafce8af-10f9-4af7-9431-7513cc7d3347\" xlink:show=\"new\" xlink:title=\"psysml:eafce8af-10f9-4af7-9431-7513cc7d3347\" xlink:type=\"simple\"><path d=\"M86.44,435.59 C85.02,456.46 83.55,478.02 82.5,493.48 \" fill=\"none\" id=\"E4&lt;-E7\" style=\"stroke: #383838; stroke-width: 1.0;\"/><polygon fill=\"#383838\" points=\"87.33,422.4,82.9306,428.1136,86.5125,434.3721,90.912,428.6586,87.33,422.4\" style=\"stroke: #383838; stroke-width: 1.0;\"/></a><!--MD5=[c6fc7cdb0cabde04948078cf183fa696]\n",
       "reverse link E4 to E8--><a href=\"psysml:a0130814-5dc8-48af-af1a-9e985463643e\" target=\"_top\" title=\"psysml:a0130814-5dc8-48af-af1a-9e985463643e\" xlink:actuate=\"onRequest\" xlink:href=\"psysml:a0130814-5dc8-48af-af1a-9e985463643e\" xlink:show=\"new\" xlink:title=\"psysml:a0130814-5dc8-48af-af1a-9e985463643e\" xlink:type=\"simple\"><path d=\"M148.94,434.02 C163.95,450.99 179.47,468.53 192.24,482.98 \" fill=\"none\" id=\"E4&lt;-E8\" style=\"stroke: #383838; stroke-width: 1.0;\"/><ellipse cx=\"143.9698\" cy=\"428.3927\" fill=\"#FFFFFF\" rx=\"8\" ry=\"8\" style=\"stroke: #383838; stroke-width: 1.0;\"/><line style=\"stroke: #383838; stroke-width: 1.0;\" x1=\"149.2695\" x2=\"138.67\" y1=\"434.3854\" y2=\"422.4\"/><line style=\"stroke: #383838; stroke-width: 1.0;\" x1=\"137.9771\" x2=\"149.9625\" y1=\"433.6925\" y2=\"423.0929\"/></a><!--MD5=[062ed86c389d1a88f61c6380d0491e17]\n",
       "reverse link E12 to E13--><a href=\"psysml:044b978f-2385-4425-992f-2d75b645c055\" target=\"_top\" title=\"psysml:044b978f-2385-4425-992f-2d75b645c055\" xlink:actuate=\"onRequest\" xlink:href=\"psysml:044b978f-2385-4425-992f-2d75b645c055\" xlink:show=\"new\" xlink:title=\"psysml:044b978f-2385-4425-992f-2d75b645c055\" xlink:type=\"simple\"><path d=\"M63.49,120.8 C70.17,142.92 78.6,170.89 84.36,189.99 \" fill=\"none\" id=\"E12&lt;-E13\" style=\"stroke: #383838; stroke-width: 1.0;\"/><polygon fill=\"#383838\" points=\"59.71,108.24,57.6129,115.1394,63.1751,119.7288,65.2722,112.8294,59.71,108.24\" style=\"stroke: #383838; stroke-width: 1.0;\"/></a><!--MD5=[017847e01ff9a8bd19f247411074f987]\n",
       "link E13 to E4--><a href=\"psysml:279d9c9b-21cb-4076-8967-339bf6a79b4c\" target=\"_top\" title=\"psysml:279d9c9b-21cb-4076-8967-339bf6a79b4c\" xlink:actuate=\"onRequest\" xlink:href=\"psysml:279d9c9b-21cb-4076-8967-339bf6a79b4c\" xlink:show=\"new\" xlink:title=\"psysml:279d9c9b-21cb-4076-8967-339bf6a79b4c\" xlink:type=\"simple\"><path d=\"M91,236.17 C91,251.17 91,271.91 91,292.44 \" fill=\"none\" id=\"E13-&gt;E4\" style=\"stroke: #383838; stroke-width: 1.0;\"/><polygon fill=\"#FFFFFF\" points=\"91,312.68,84,293.68,98,293.68,91,312.68\" style=\"stroke: #383838; stroke-width: 1.0;\"/><ellipse cx=\"86\" cy=\"287.98\" fill=\"#383838\" rx=\"2\" ry=\"2\" style=\"stroke: #383838; stroke-width: 1.0;\"/><ellipse cx=\"96\" cy=\"287.98\" fill=\"#383838\" rx=\"2\" ry=\"2\" style=\"stroke: #383838; stroke-width: 1.0;\"/></a><!--MD5=[2cfe899c895462254056921bfb67315f]\n",
       "link E13 to E11--><a href=\"psysml:fcf36e7c-2665-4a1d-8cf4-6fcc5b08ef04\" target=\"_top\" title=\"psysml:fcf36e7c-2665-4a1d-8cf4-6fcc5b08ef04\" xlink:actuate=\"onRequest\" xlink:href=\"psysml:fcf36e7c-2665-4a1d-8cf4-6fcc5b08ef04\" xlink:show=\"new\" xlink:title=\"psysml:fcf36e7c-2665-4a1d-8cf4-6fcc5b08ef04\" xlink:type=\"simple\"><path d=\"M108.36,236.29 C123.87,256.28 147.14,286.45 167,313 C173.57,321.78 180.66,331.44 186.97,340.12 \" fill=\"none\" id=\"E13-&gt;E11\" style=\"stroke: #383838; stroke-width: 1.0; stroke-dasharray: 7.0,7.0;\"/><polygon fill=\"#383838\" points=\"189.99,344.28,187.9274,334.6496,187.0474,340.2376,181.4594,339.3576,189.99,344.28\" style=\"stroke: #383838; stroke-width: 1.0;\"/><text fill=\"#000000\" font-family=\"sans-serif\" font-size=\"13\" lengthAdjust=\"spacingAndGlyphs\" textLength=\"57\" x=\"145\" y=\"279.0669\">«satisfy»</text></a><!--MD5=[964ac1a25a7ebe2c00eb490186d86ba1]\n",
       "@startuml\r\n",
       "skinparam monochrome true\r\n",
       "skinparam classbackgroundcolor white\r\n",
       "skinparam shadowing false\r\n",
       "skinparam wrapWidth 300\r\n",
       "hide circle\r\n",
       "\r\n",
       "package \"RequirementTest\" as E1  [[psysml:f822a5b9-f637-4bfc-9356-d45755be39c3 ]]  {\r\n",
       "comp def \"C\" as E2  <<(T,blue)constraint def>> [[psysml:55e0c843-cabd-4238-9430-5e5ddb37e322 ]] {\r\n",
       "}\r\n",
       "comp usage \"c: C\" as E3  <<(T,blue)constraint>> [[psysml:943270d7-f648-4f2b-99ed-798f0a01be75 ]] {\r\n",
       "}\r\n",
       "comp def \"R\" as E4  <<(T,blue)requirement def>> [[psysml:3547be1a-4b91-4a24-a66e-ac992d912d25 ]] {\r\n",
       "\r\n",
       "- -\r\n",
       "- - constraints - -\r\n",
       "<b>require</b> c\r\n",
       "<i>assume</i> c1: C\r\n",
       "}\r\n",
       "comp usage \"<s>noname</s>\" as E7  <<(T,blue)requirement>> [[psysml:5cc59123-afbd-4e9a-96fa-0bfa0b631260 ]] {\r\n",
       "}\r\n",
       "comp def \" [<b>1</b>] A\" as E8  <<(T,blue)requirement def>> [[psysml:49e593a4-f39b-4803-a2ce-02c26b916197 ]] {\r\n",
       "Text\r\n",
       "- -\r\n",
       "}\r\n",
       "comp def \"R1\" as E9  <<(T,blue)requirement def>> [[psysml:79fb73d3-867b-49b4-8196-8eb6e64f62f0 ]] {\r\n",
       "- - constraints - -\r\n",
       "<b>require</b> c1\\n//:>>RequirementTest::c// \r\n",
       "}\r\n",
       "comp usage \"p\" as E11  <<(T,blue)part>> [[psysml:510a33c1-eff7-4e5e-90b4-a63ef5b72ae6 ]] {\r\n",
       "}\r\n",
       "comp usage \"q\" as E12  <<(T,blue)part>> [[psysml:a6cd5ff6-20a0-4014-8266-5a2f114de57c ]] {\r\n",
       "}\r\n",
       "comp usage \"r: R\" as E13  <<(T,blue)requirement>> [[psysml:50b94a4a-7c4d-4845-a3da-b360d2df1f8c ]] {\r\n",
       "}\r\n",
       "E3 - -:|> E2 [[psysml:e8229714-231f-4f2a-9005-056b1e69efb5 ]] \r\n",
       "E4 *- - E7 [[psysml:eafce8af-10f9-4af7-9431-7513cc7d3347 ]] \r\n",
       "E4 +- - E8 [[psysml:a0130814-5dc8-48af-af1a-9e985463643e ]] \r\n",
       "E12 *- - E13 [[psysml:044b978f-2385-4425-992f-2d75b645c055 ]] \r\n",
       "E13 - -:|> E4 [[psysml:279d9c9b-21cb-4076-8967-339bf6a79b4c ]] \r\n",
       "E13 ..> E11 [[psysml:fcf36e7c-2665-4a1d-8cf4-6fcc5b08ef04 ]] : <<satisfy>>\r\n",
       "}\r\n",
       "@enduml\r\n",
       "\n",
       "PlantUML version 1.2020.13(Sat Jun 13 12:26:38 UTC 2020)\n",
       "(EPL source distribution)\n",
       "Java Runtime: OpenJDK Runtime Environment\n",
       "JVM: OpenJDK 64-Bit Server VM\n",
       "Default Encoding: UTF-8\n",
       "Language: en\n",
       "Country: null\n",
       "--></g></svg>"
      ]
     },
     "execution_count": 38,
     "metadata": {},
     "output_type": "execute_result"
    }
   ],
   "source": [
    "%viz --style=\"DEFAULT\" --view=\"Tree\" \"RequirementTest\""
   ]
  },
  {
   "cell_type": "code",
   "execution_count": 39,
   "id": "df4df413",
   "metadata": {
    "execution": {
     "iopub.execute_input": "2021-04-21T20:21:31.034087Z",
     "iopub.status.busy": "2021-04-21T20:21:31.033332Z",
     "iopub.status.idle": "2021-04-21T20:21:31.041812Z",
     "shell.execute_reply": "2021-04-21T20:21:31.039774Z"
    }
   },
   "outputs": [
    {
     "data": {
      "image/svg+xml": [
       "<?xml version=\"1.0\" encoding=\"UTF-8\" standalone=\"no\"?><svg xmlns=\"http://www.w3.org/2000/svg\" xmlns:xlink=\"http://www.w3.org/1999/xlink\" contentScriptType=\"application/ecmascript\" contentStyleType=\"text/css\" height=\"12px\" preserveAspectRatio=\"none\" style=\"width:12px;height:12px;\" version=\"1.1\" viewBox=\"0 0 12 12\" width=\"12px\" zoomAndPan=\"magnify\"><defs/><g><!--MD5=[c5f280e076d0d61ccf4b0f27871bda1d]\n",
       "@startuml\r\n",
       "skinparam monochrome true\r\n",
       "skinparam classbackgroundcolor white\r\n",
       "skinparam shadowing false\r\n",
       "skinparam wrapWidth 300\r\n",
       "hide circle\r\n",
       "\r\n",
       "@enduml\r\n",
       "\n",
       "PlantUML version 1.2020.13(Sat Jun 13 12:26:38 UTC 2020)\n",
       "(EPL source distribution)\n",
       "Java Runtime: OpenJDK Runtime Environment\n",
       "JVM: OpenJDK 64-Bit Server VM\n",
       "Default Encoding: UTF-8\n",
       "Language: en\n",
       "Country: null\n",
       "--></g></svg>"
      ]
     },
     "execution_count": 39,
     "metadata": {},
     "output_type": "execute_result"
    }
   ],
   "source": [
    "%viz --style=\"DEFAULT\" --view=\"State\" \"RequirementTest\""
   ]
  },
  {
   "cell_type": "code",
   "execution_count": 40,
   "id": "3ba16848",
   "metadata": {
    "execution": {
     "iopub.execute_input": "2021-04-21T20:21:31.093927Z",
     "iopub.status.busy": "2021-04-21T20:21:31.093317Z",
     "iopub.status.idle": "2021-04-21T20:21:31.202602Z",
     "shell.execute_reply": "2021-04-21T20:21:31.200485Z"
    }
   },
   "outputs": [
    {
     "data": {
      "image/svg+xml": [
       "<?xml version=\"1.0\" encoding=\"UTF-8\" standalone=\"no\"?><svg xmlns=\"http://www.w3.org/2000/svg\" xmlns:xlink=\"http://www.w3.org/1999/xlink\" contentScriptType=\"application/ecmascript\" contentStyleType=\"text/css\" height=\"408px\" preserveAspectRatio=\"none\" style=\"width:483px;height:408px;\" version=\"1.1\" viewBox=\"0 0 483 408\" width=\"483px\" zoomAndPan=\"magnify\"><defs/><g><!--MD5=[fbc87193dbaf4d95561dea2c320d4a47]\n",
       "cluster E1--><a href=\"psysml:f822a5b9-f637-4bfc-9356-d45755be39c3\" target=\"_top\" title=\"psysml:f822a5b9-f637-4bfc-9356-d45755be39c3\" xlink:actuate=\"onRequest\" xlink:href=\"psysml:f822a5b9-f637-4bfc-9356-d45755be39c3\" xlink:show=\"new\" xlink:title=\"psysml:f822a5b9-f637-4bfc-9356-d45755be39c3\" xlink:type=\"simple\"><polygon fill=\"#FFFFFF\" points=\"16,6,158,6,165,28.2969,461,28.2969,461,396,16,396,16,6\" style=\"stroke: #000000; stroke-width: 1.5;\"/><line style=\"stroke: #000000; stroke-width: 1.5;\" x1=\"16\" x2=\"165\" y1=\"28.2969\" y2=\"28.2969\"/><text fill=\"#000000\" font-family=\"sans-serif\" font-size=\"14\" font-weight=\"bold\" lengthAdjust=\"spacingAndGlyphs\" textLength=\"136\" x=\"20\" y=\"20.9951\">RequirementTest</text></a><!--MD5=[47bea60c1a0ac6c1143df232041969c0]\n",
       "cluster E12--><a href=\"psysml:a6cd5ff6-20a0-4014-8266-5a2f114de57c\" target=\"_top\" title=\"psysml:a6cd5ff6-20a0-4014-8266-5a2f114de57c\" xlink:actuate=\"onRequest\" xlink:href=\"psysml:a6cd5ff6-20a0-4014-8266-5a2f114de57c\" xlink:show=\"new\" xlink:title=\"psysml:a6cd5ff6-20a0-4014-8266-5a2f114de57c\" xlink:type=\"simple\"><rect fill=\"#FFFFFF\" height=\"97\" id=\"E12\" rx=\"10\" ry=\"10\" style=\"stroke: #383838; stroke-width: 1.5;\" width=\"124\" x=\"313\" y=\"49\"/><rect fill=\"#F8F8F8\" height=\"23.9688\" rx=\"10\" ry=\"10\" style=\"stroke: #F8F8F8; stroke-width: 1.5;\" width=\"124\" x=\"313\" y=\"49\"/><rect fill=\"#F8F8F8\" height=\"10\" style=\"stroke: #F8F8F8; stroke-width: 1.5;\" width=\"124\" x=\"313\" y=\"62.9688\"/><rect fill=\"none\" height=\"97\" id=\"E12\" rx=\"10\" ry=\"10\" style=\"stroke: #383838; stroke-width: 1.5;\" width=\"124\" x=\"313\" y=\"49\"/><text fill=\"#000000\" font-family=\"sans-serif\" font-size=\"12\" lengthAdjust=\"spacingAndGlyphs\" textLength=\"8\" x=\"371\" y=\"65.1387\">q</text><line style=\"stroke: #383838; stroke-width: 1.0;\" x1=\"313\" x2=\"437\" y1=\"72.9688\" y2=\"72.9688\"/></a><g id=\"E1.E2\"><a href=\"psysml:55e0c843-cabd-4238-9430-5e5ddb37e322\" target=\"_top\" title=\"psysml:55e0c843-cabd-4238-9430-5e5ddb37e322\" xlink:actuate=\"onRequest\" xlink:href=\"psysml:55e0c843-cabd-4238-9430-5e5ddb37e322\" xlink:show=\"new\" xlink:title=\"psysml:55e0c843-cabd-4238-9430-5e5ddb37e322\" xlink:type=\"simple\"><rect fill=\"#FFFFFF\" height=\"42.9375\" id=\"E2\" style=\"stroke: #383838; stroke-width: 1.5;\" width=\"109\" x=\"98.5\" y=\"220\"/><rect fill=\"#F8F8F8\" height=\"37.9375\" style=\"stroke: #383838; stroke-width: 1.5;\" width=\"109\" x=\"98.5\" y=\"220\"/><text fill=\"#000000\" font-family=\"sans-serif\" font-size=\"12\" font-style=\"italic\" lengthAdjust=\"spacingAndGlyphs\" textLength=\"102\" x=\"102\" y=\"236.1387\">«constraint def»</text><text fill=\"#000000\" font-family=\"sans-serif\" font-size=\"12\" lengthAdjust=\"spacingAndGlyphs\" textLength=\"8\" x=\"149\" y=\"250.1074\">C</text></a></g><!--MD5=[09b614a08d8cba4a07c9adeb5e0fee81]\n",
       "class E3--><a href=\"psysml:943270d7-f648-4f2b-99ed-798f0a01be75\" target=\"_top\" title=\"psysml:943270d7-f648-4f2b-99ed-798f0a01be75\" xlink:actuate=\"onRequest\" xlink:href=\"psysml:943270d7-f648-4f2b-99ed-798f0a01be75\" xlink:show=\"new\" xlink:title=\"psysml:943270d7-f648-4f2b-99ed-798f0a01be75\" xlink:type=\"simple\"><rect fill=\"#FFFFFF\" height=\"45.9375\" id=\"E3\" rx=\"10\" ry=\"10\" style=\"stroke: #383838; stroke-width: 1.5;\" width=\"80\" x=\"213\" y=\"84\"/><text fill=\"#000000\" font-family=\"sans-serif\" font-size=\"12\" font-style=\"italic\" lengthAdjust=\"spacingAndGlyphs\" textLength=\"78\" x=\"214\" y=\"100.1387\">«constraint»</text><text fill=\"#000000\" font-family=\"sans-serif\" font-size=\"12\" lengthAdjust=\"spacingAndGlyphs\" textLength=\"23\" x=\"241.5\" y=\"114.1074\">c: C</text><line style=\"stroke: #383838; stroke-width: 1.5;\" x1=\"214\" x2=\"292\" y1=\"121.9375\" y2=\"121.9375\"/></a><!--MD5=[ebbe1d658d1005bcc118a6aa81145e00]\n",
       "class E4--><a href=\"psysml:3547be1a-4b91-4a24-a66e-ac992d912d25\" target=\"_top\" title=\"psysml:3547be1a-4b91-4a24-a66e-ac992d912d25\" xlink:actuate=\"onRequest\" xlink:href=\"psysml:3547be1a-4b91-4a24-a66e-ac992d912d25\" xlink:show=\"new\" xlink:title=\"psysml:3547be1a-4b91-4a24-a66e-ac992d912d25\" xlink:type=\"simple\"><rect fill=\"#FFFFFF\" height=\"109.1563\" id=\"E4\" style=\"stroke: #383838; stroke-width: 1.5;\" width=\"117\" x=\"242.5\" y=\"187\"/><text fill=\"#000000\" font-family=\"sans-serif\" font-size=\"12\" font-style=\"italic\" lengthAdjust=\"spacingAndGlyphs\" textLength=\"115\" x=\"243.5\" y=\"203.1387\">«requirement def»</text><text fill=\"#000000\" font-family=\"sans-serif\" font-size=\"12\" lengthAdjust=\"spacingAndGlyphs\" textLength=\"8\" x=\"297\" y=\"217.1074\">R</text><line style=\"stroke: #383838; stroke-width: 1.5;\" x1=\"243.5\" x2=\"358.5\" y1=\"224.9375\" y2=\"224.9375\"/><text fill=\"#000000\" font-family=\"sans-serif\" font-size=\"11\" lengthAdjust=\"spacingAndGlyphs\" textLength=\"0\" x=\"252.5\" y=\"239.1479\"/><line style=\"stroke: #383838; stroke-width: 1.0;\" x1=\"243.5\" x2=\"358.5\" y1=\"245.7422\" y2=\"245.7422\"/><text fill=\"#000000\" font-family=\"sans-serif\" font-size=\"11\" font-weight=\"bold\" lengthAdjust=\"spacingAndGlyphs\" textLength=\"46\" x=\"248.5\" y=\"276.7573\">require</text><text fill=\"#000000\" font-family=\"sans-serif\" font-size=\"11\" lengthAdjust=\"spacingAndGlyphs\" textLength=\"6\" x=\"298.5\" y=\"276.7573\">c</text><text fill=\"#000000\" font-family=\"sans-serif\" font-size=\"11\" font-style=\"italic\" lengthAdjust=\"spacingAndGlyphs\" textLength=\"46\" x=\"248.5\" y=\"289.562\">assume</text><text fill=\"#000000\" font-family=\"sans-serif\" font-size=\"11\" lengthAdjust=\"spacingAndGlyphs\" textLength=\"29\" x=\"298.5\" y=\"289.562\">c1: C</text><line style=\"stroke: #383838; stroke-width: 1.0;\" x1=\"243.5\" x2=\"269\" y1=\"260.1445\" y2=\"260.1445\"/><text fill=\"#000000\" font-family=\"sans-serif\" font-size=\"11\" lengthAdjust=\"spacingAndGlyphs\" textLength=\"64\" x=\"269\" y=\"263.4526\">constraints</text><line style=\"stroke: #383838; stroke-width: 1.0;\" x1=\"333\" x2=\"358.5\" y1=\"260.1445\" y2=\"260.1445\"/></a><!--MD5=[2156ba9850f5573cc1fc38a6a4b2f02b]\n",
       "class E7--><a href=\"psysml:5cc59123-afbd-4e9a-96fa-0bfa0b631260\" target=\"_top\" title=\"psysml:5cc59123-afbd-4e9a-96fa-0bfa0b631260\" xlink:actuate=\"onRequest\" xlink:href=\"psysml:5cc59123-afbd-4e9a-96fa-0bfa0b631260\" xlink:show=\"new\" xlink:title=\"psysml:5cc59123-afbd-4e9a-96fa-0bfa0b631260\" xlink:type=\"simple\"><rect fill=\"#FFFFFF\" height=\"45.9375\" id=\"E7\" rx=\"10\" ry=\"10\" style=\"stroke: #383838; stroke-width: 1.5;\" width=\"93\" x=\"177.5\" y=\"323.5\"/><text fill=\"#000000\" font-family=\"sans-serif\" font-size=\"12\" font-style=\"italic\" lengthAdjust=\"spacingAndGlyphs\" textLength=\"91\" x=\"178.5\" y=\"339.6387\">«requirement»</text><text fill=\"#000000\" font-family=\"sans-serif\" font-size=\"12\" lengthAdjust=\"spacingAndGlyphs\" text-decoration=\"line-through\" textLength=\"51\" x=\"198.5\" y=\"353.6074\">noname</text><line style=\"stroke: #383838; stroke-width: 1.5;\" x1=\"178.5\" x2=\"269.5\" y1=\"361.4375\" y2=\"361.4375\"/></a><!--MD5=[b9389687b975829384b498ac4b7476b2]\n",
       "class E8--><a href=\"psysml:49e593a4-f39b-4803-a2ce-02c26b916197\" target=\"_top\" title=\"psysml:49e593a4-f39b-4803-a2ce-02c26b916197\" xlink:actuate=\"onRequest\" xlink:href=\"psysml:49e593a4-f39b-4803-a2ce-02c26b916197\" xlink:show=\"new\" xlink:title=\"psysml:49e593a4-f39b-4803-a2ce-02c26b916197\" xlink:type=\"simple\"><rect fill=\"#FFFFFF\" height=\"66.7422\" id=\"E8\" style=\"stroke: #383838; stroke-width: 1.5;\" width=\"117\" x=\"305.5\" y=\"313\"/><text fill=\"#000000\" font-family=\"sans-serif\" font-size=\"12\" font-style=\"italic\" lengthAdjust=\"spacingAndGlyphs\" textLength=\"115\" x=\"306.5\" y=\"329.1387\">«requirement def»</text><text fill=\"#000000\" font-family=\"sans-serif\" font-size=\"12\" lengthAdjust=\"spacingAndGlyphs\" textLength=\"5\" x=\"351\" y=\"343.1074\">[</text><text fill=\"#000000\" font-family=\"sans-serif\" font-size=\"12\" font-weight=\"bold\" lengthAdjust=\"spacingAndGlyphs\" textLength=\"8\" x=\"356\" y=\"343.1074\">1</text><text fill=\"#000000\" font-family=\"sans-serif\" font-size=\"12\" lengthAdjust=\"spacingAndGlyphs\" textLength=\"17\" x=\"364\" y=\"343.1074\">] A</text><line style=\"stroke: #383838; stroke-width: 1.5;\" x1=\"306.5\" x2=\"421.5\" y1=\"350.9375\" y2=\"350.9375\"/><text fill=\"#000000\" font-family=\"sans-serif\" font-size=\"11\" lengthAdjust=\"spacingAndGlyphs\" textLength=\"24\" x=\"311.5\" y=\"365.1479\">Text</text><line style=\"stroke: #383838; stroke-width: 1.0;\" x1=\"306.5\" x2=\"421.5\" y1=\"371.7422\" y2=\"371.7422\"/></a><!--MD5=[fd4143e9d270a159db93a4ea2a975926]\n",
       "class E9--><a href=\"psysml:79fb73d3-867b-49b4-8196-8eb6e64f62f0\" target=\"_top\" title=\"psysml:79fb73d3-867b-49b4-8196-8eb6e64f62f0\" xlink:actuate=\"onRequest\" xlink:href=\"psysml:79fb73d3-867b-49b4-8196-8eb6e64f62f0\" xlink:show=\"new\" xlink:title=\"psysml:79fb73d3-867b-49b4-8196-8eb6e64f62f0\" xlink:type=\"simple\"><rect fill=\"#FFFFFF\" height=\"88.3516\" id=\"E9\" style=\"stroke: #383838; stroke-width: 1.5;\" width=\"145\" x=\"32.5\" y=\"63\"/><text fill=\"#000000\" font-family=\"sans-serif\" font-size=\"12\" font-style=\"italic\" lengthAdjust=\"spacingAndGlyphs\" textLength=\"115\" x=\"47.5\" y=\"79.1387\">«requirement def»</text><text fill=\"#000000\" font-family=\"sans-serif\" font-size=\"12\" lengthAdjust=\"spacingAndGlyphs\" textLength=\"16\" x=\"97\" y=\"93.1074\">R1</text><line style=\"stroke: #383838; stroke-width: 1.5;\" x1=\"33.5\" x2=\"176.5\" y1=\"100.9375\" y2=\"100.9375\"/><text fill=\"#000000\" font-family=\"sans-serif\" font-size=\"11\" font-weight=\"bold\" lengthAdjust=\"spacingAndGlyphs\" textLength=\"46\" x=\"38.5\" y=\"131.9526\">require</text><text fill=\"#000000\" font-family=\"sans-serif\" font-size=\"11\" lengthAdjust=\"spacingAndGlyphs\" textLength=\"13\" x=\"88.5\" y=\"131.9526\">c1</text><text fill=\"#000000\" font-family=\"sans-serif\" font-size=\"11\" font-style=\"italic\" lengthAdjust=\"spacingAndGlyphs\" textLength=\"133\" x=\"38.5\" y=\"144.7573\">:&gt;&gt;RequirementTest::c</text><line style=\"stroke: #383838; stroke-width: 1.0;\" x1=\"33.5\" x2=\"73\" y1=\"115.3398\" y2=\"115.3398\"/><text fill=\"#000000\" font-family=\"sans-serif\" font-size=\"11\" lengthAdjust=\"spacingAndGlyphs\" textLength=\"64\" x=\"73\" y=\"118.6479\">constraints</text><line style=\"stroke: #383838; stroke-width: 1.0;\" x1=\"137\" x2=\"176.5\" y1=\"115.3398\" y2=\"115.3398\"/></a><g id=\"E1.E11\"><a href=\"psysml:510a33c1-eff7-4e5e-90b4-a63ef5b72ae6\" target=\"_top\" title=\"psysml:510a33c1-eff7-4e5e-90b4-a63ef5b72ae6\" xlink:actuate=\"onRequest\" xlink:href=\"psysml:510a33c1-eff7-4e5e-90b4-a63ef5b72ae6\" xlink:show=\"new\" xlink:title=\"psysml:510a33c1-eff7-4e5e-90b4-a63ef5b72ae6\" xlink:type=\"simple\"><rect fill=\"#FFFFFF\" height=\"40\" id=\"E11\" rx=\"10\" ry=\"10\" style=\"stroke: #383838; stroke-width: 1.5;\" width=\"50\" x=\"395\" y=\"221.5\"/><rect fill=\"#F8F8F8\" height=\"23.9688\" rx=\"10\" ry=\"10\" style=\"stroke: #F8F8F8; stroke-width: 1.5;\" width=\"50\" x=\"395\" y=\"221.5\"/><rect fill=\"#F8F8F8\" height=\"10\" style=\"stroke: #F8F8F8; stroke-width: 1.5;\" width=\"50\" x=\"395\" y=\"235.4688\"/><rect fill=\"none\" height=\"40\" id=\"E11\" rx=\"10\" ry=\"10\" style=\"stroke: #383838; stroke-width: 1.5;\" width=\"50\" x=\"395\" y=\"221.5\"/><text fill=\"#000000\" font-family=\"sans-serif\" font-size=\"12\" lengthAdjust=\"spacingAndGlyphs\" textLength=\"8\" x=\"416\" y=\"237.6387\">p</text></a></g><!--MD5=[ee3c913d1a06f366521f9ef512b67efe]\n",
       "class E13--><a href=\"psysml:50b94a4a-7c4d-4845-a3da-b360d2df1f8c\" target=\"_top\" title=\"psysml:50b94a4a-7c4d-4845-a3da-b360d2df1f8c\" xlink:actuate=\"onRequest\" xlink:href=\"psysml:50b94a4a-7c4d-4845-a3da-b360d2df1f8c\" xlink:show=\"new\" xlink:title=\"psysml:50b94a4a-7c4d-4845-a3da-b360d2df1f8c\" xlink:type=\"simple\"><rect fill=\"#FFFFFF\" height=\"45.9375\" id=\"E13\" rx=\"10\" ry=\"10\" style=\"stroke: #383838; stroke-width: 1.5;\" width=\"93\" x=\"328.5\" y=\"84\"/><text fill=\"#000000\" font-family=\"sans-serif\" font-size=\"12\" font-style=\"italic\" lengthAdjust=\"spacingAndGlyphs\" textLength=\"91\" x=\"329.5\" y=\"100.1387\">«requirement»</text><text fill=\"#000000\" font-family=\"sans-serif\" font-size=\"12\" lengthAdjust=\"spacingAndGlyphs\" textLength=\"21\" x=\"364.5\" y=\"114.1074\">r: R</text><line style=\"stroke: #383838; stroke-width: 1.5;\" x1=\"329.5\" x2=\"420.5\" y1=\"121.9375\" y2=\"121.9375\"/></a><!--MD5=[05d275557350bfb9b23a4ef7222b4c39]\n",
       "link E3 to E2--><a href=\"psysml:e8229714-231f-4f2a-9005-056b1e69efb5\" target=\"_top\" title=\"psysml:e8229714-231f-4f2a-9005-056b1e69efb5\" xlink:actuate=\"onRequest\" xlink:href=\"psysml:e8229714-231f-4f2a-9005-056b1e69efb5\" xlink:show=\"new\" xlink:title=\"psysml:e8229714-231f-4f2a-9005-056b1e69efb5\" xlink:type=\"simple\"><path d=\"M236.26,130.18 C221.12,150.24 198.54,180.16 180.71,203.78 \" fill=\"none\" id=\"E3-&gt;E2\" style=\"stroke: #383838; stroke-width: 1.0;\"/><polygon fill=\"#FFFFFF\" points=\"168.48,219.99,174.3492,200.6108,185.5192,209.0508,168.48,219.99\" style=\"stroke: #383838; stroke-width: 1.0;\"/><ellipse cx=\"179.3812\" cy=\"197.2688\" fill=\"#383838\" rx=\"2\" ry=\"2\" style=\"stroke: #383838; stroke-width: 1.0;\"/><ellipse cx=\"187.3597\" cy=\"203.2973\" fill=\"#383838\" rx=\"2\" ry=\"2\" style=\"stroke: #383838; stroke-width: 1.0;\"/></a><!--MD5=[722ff4eef345aa10242dad44df0e98c7]\n",
       "reverse link E4 to E7--><a href=\"psysml:eafce8af-10f9-4af7-9431-7513cc7d3347\" target=\"_top\" title=\"psysml:eafce8af-10f9-4af7-9431-7513cc7d3347\" xlink:actuate=\"onRequest\" xlink:href=\"psysml:eafce8af-10f9-4af7-9431-7513cc7d3347\" xlink:show=\"new\" xlink:title=\"psysml:eafce8af-10f9-4af7-9431-7513cc7d3347\" xlink:type=\"simple\"><path d=\"M252.95,306.78 C248.59,312.6 244.41,318.2 240.65,323.23 \" fill=\"none\" id=\"E4&lt;-E7\" style=\"stroke: #383838; stroke-width: 1.0;\"/><polygon fill=\"#383838\" points=\"260.92,296.11,254.1237,298.5205,253.7348,305.7211,260.5311,303.3106,260.92,296.11\" style=\"stroke: #383838; stroke-width: 1.0;\"/></a><!--MD5=[c6fc7cdb0cabde04948078cf183fa696]\n",
       "reverse link E4 to E8--><a href=\"psysml:a0130814-5dc8-48af-af1a-9e985463643e\" target=\"_top\" title=\"psysml:a0130814-5dc8-48af-af1a-9e985463643e\" xlink:actuate=\"onRequest\" xlink:href=\"psysml:a0130814-5dc8-48af-af1a-9e985463643e\" xlink:show=\"new\" xlink:title=\"psysml:a0130814-5dc8-48af-af1a-9e985463643e\" xlink:type=\"simple\"><path d=\"M341.65,308.95 C342.43,310.23 343.2,311.5 343.96,312.74 \" fill=\"none\" id=\"E4&lt;-E8\" style=\"stroke: #383838; stroke-width: 1.0;\"/><ellipse cx=\"337.9641\" cy=\"302.9347\" fill=\"#FFFFFF\" rx=\"8\" ry=\"8\" style=\"stroke: #383838; stroke-width: 1.0;\"/><line style=\"stroke: #383838; stroke-width: 1.0;\" x1=\"342.1381\" x2=\"333.79\" y1=\"309.7595\" y2=\"296.11\"/><line style=\"stroke: #383838; stroke-width: 1.0;\" x1=\"331.1393\" x2=\"344.7888\" y1=\"307.1088\" y2=\"298.7607\"/></a><!--MD5=[017847e01ff9a8bd19f247411074f987]\n",
       "link E13 to E4--><a href=\"psysml:279d9c9b-21cb-4076-8967-339bf6a79b4c\" target=\"_top\" title=\"psysml:279d9c9b-21cb-4076-8967-339bf6a79b4c\" xlink:actuate=\"onRequest\" xlink:href=\"psysml:279d9c9b-21cb-4076-8967-339bf6a79b4c\" xlink:show=\"new\" xlink:title=\"psysml:279d9c9b-21cb-4076-8967-339bf6a79b4c\" xlink:type=\"simple\"><path d=\"M362.61,130.18 C356.54,141.06 348.84,154.83 340.97,168.94 \" fill=\"none\" id=\"E13-&gt;E4\" style=\"stroke: #383838; stroke-width: 1.0;\"/><polygon fill=\"#FFFFFF\" points=\"331,186.78,334.1525,166.7785,346.3756,173.6046,331,186.78\" style=\"stroke: #383838; stroke-width: 1.0;\"/><ellipse cx=\"338.6779\" cy=\"162.7771\" fill=\"#383838\" rx=\"2\" ry=\"2\" style=\"stroke: #383838; stroke-width: 1.0;\"/><ellipse cx=\"347.4086\" cy=\"167.6529\" fill=\"#383838\" rx=\"2\" ry=\"2\" style=\"stroke: #383838; stroke-width: 1.0;\"/></a><!--MD5=[2cfe899c895462254056921bfb67315f]\n",
       "link E13 to E11--><a href=\"psysml:fcf36e7c-2665-4a1d-8cf4-6fcc5b08ef04\" target=\"_top\" title=\"psysml:fcf36e7c-2665-4a1d-8cf4-6fcc5b08ef04\" xlink:actuate=\"onRequest\" xlink:href=\"psysml:fcf36e7c-2665-4a1d-8cf4-6fcc5b08ef04\" xlink:show=\"new\" xlink:title=\"psysml:fcf36e7c-2665-4a1d-8cf4-6fcc5b08ef04\" xlink:type=\"simple\"><path d=\"M382.53,130.18 C390.61,153.97 403.41,191.66 411.76,216.23 \" fill=\"none\" id=\"E13-&gt;E11\" style=\"stroke: #383838; stroke-width: 1.0; stroke-dasharray: 7.0,7.0;\"/><polygon fill=\"#383838\" points=\"413.47,221.27,414.3568,211.4611,411.859,216.5367,406.7834,214.0388,413.47,221.27\" style=\"stroke: #383838; stroke-width: 1.0;\"/><text fill=\"#000000\" font-family=\"sans-serif\" font-size=\"13\" lengthAdjust=\"spacingAndGlyphs\" textLength=\"57\" x=\"399\" y=\"175.0669\">«satisfy»</text></a><!--MD5=[e1569658c0e8a8f3f979eb9773927714]\n",
       "@startuml\r\n",
       "skinparam ranksep 10\r\n",
       "skinparam rectangle {\r\n",
       " backgroundColor<<block>> LightGreen\r\n",
       "}\r\n",
       "skinparam monochrome true\r\n",
       "skinparam classbackgroundcolor white\r\n",
       "skinparam shadowing false\r\n",
       "skinparam wrapWidth 300\r\n",
       "hide circle\r\n",
       "\r\n",
       "package \"RequirementTest\" as E1  [[psysml:f822a5b9-f637-4bfc-9356-d45755be39c3 ]]  {\r\n",
       "def \"C\" as E2  <<(T,blue)constraint def>> [[psysml:55e0c843-cabd-4238-9430-5e5ddb37e322 ]] \r\n",
       "comp usage \"c: C\" as E3  <<(T,blue)constraint>> [[psysml:943270d7-f648-4f2b-99ed-798f0a01be75 ]] {\r\n",
       "}\r\n",
       "comp def \"R\" as E4  <<(T,blue)requirement def>> [[psysml:3547be1a-4b91-4a24-a66e-ac992d912d25 ]] {\r\n",
       "\r\n",
       "- -\r\n",
       "- - constraints - -\r\n",
       "<b>require</b> c\r\n",
       "<i>assume</i> c1: C\r\n",
       "}\r\n",
       "comp usage \"<s>noname</s>\" as E7  <<(T,blue)requirement>> [[psysml:5cc59123-afbd-4e9a-96fa-0bfa0b631260 ]] {\r\n",
       "}\r\n",
       "comp def \" [<b>1</b>] A\" as E8  <<(T,blue)requirement def>> [[psysml:49e593a4-f39b-4803-a2ce-02c26b916197 ]] {\r\n",
       "Text\r\n",
       "- -\r\n",
       "}\r\n",
       "comp def \"R1\" as E9  <<(T,blue)requirement def>> [[psysml:79fb73d3-867b-49b4-8196-8eb6e64f62f0 ]] {\r\n",
       "- - constraints - -\r\n",
       "<b>require</b> c1\\n//:>>RequirementTest::c// \r\n",
       "}\r\n",
       "rec usage \"p\" as E11  [[psysml:510a33c1-eff7-4e5e-90b4-a63ef5b72ae6 ]] {\r\n",
       "}\r\n",
       "rec usage \"q\" as E12  [[psysml:a6cd5ff6-20a0-4014-8266-5a2f114de57c ]] {\r\n",
       "comp usage \"r: R\" as E13  <<(T,blue)requirement>> [[psysml:50b94a4a-7c4d-4845-a3da-b360d2df1f8c ]] {\r\n",
       "}\r\n",
       "}\r\n",
       "E3 - -:|> E2 [[psysml:e8229714-231f-4f2a-9005-056b1e69efb5 ]] \r\n",
       "E4 *- - E7 [[psysml:eafce8af-10f9-4af7-9431-7513cc7d3347 ]] \r\n",
       "E4 +- - E8 [[psysml:a0130814-5dc8-48af-af1a-9e985463643e ]] \r\n",
       "E13 - -:|> E4 [[psysml:279d9c9b-21cb-4076-8967-339bf6a79b4c ]] \r\n",
       "E13 ..> E11 [[psysml:fcf36e7c-2665-4a1d-8cf4-6fcc5b08ef04 ]] : <<satisfy>>\r\n",
       "}\r\n",
       "@enduml\r\n",
       "\n",
       "PlantUML version 1.2020.13(Sat Jun 13 12:26:38 UTC 2020)\n",
       "(EPL source distribution)\n",
       "Java Runtime: OpenJDK Runtime Environment\n",
       "JVM: OpenJDK 64-Bit Server VM\n",
       "Default Encoding: UTF-8\n",
       "Language: en\n",
       "Country: null\n",
       "--></g></svg>"
      ]
     },
     "execution_count": 40,
     "metadata": {},
     "output_type": "execute_result"
    }
   ],
   "source": [
    "%viz --style=\"DEFAULT\" --view=\"Interconnection\" \"RequirementTest\""
   ]
  },
  {
   "cell_type": "code",
   "execution_count": 41,
   "id": "5445277b",
   "metadata": {
    "execution": {
     "iopub.execute_input": "2021-04-21T20:21:31.251308Z",
     "iopub.status.busy": "2021-04-21T20:21:31.250940Z",
     "iopub.status.idle": "2021-04-21T20:21:31.259652Z",
     "shell.execute_reply": "2021-04-21T20:21:31.258486Z"
    }
   },
   "outputs": [
    {
     "data": {
      "image/svg+xml": [
       "<?xml version=\"1.0\" encoding=\"UTF-8\" standalone=\"no\"?><svg xmlns=\"http://www.w3.org/2000/svg\" xmlns:xlink=\"http://www.w3.org/1999/xlink\" contentScriptType=\"application/ecmascript\" contentStyleType=\"text/css\" height=\"12px\" preserveAspectRatio=\"none\" style=\"width:12px;height:12px;\" version=\"1.1\" viewBox=\"0 0 12 12\" width=\"12px\" zoomAndPan=\"magnify\"><defs/><g><!--MD5=[388f21188e31bfdd97050473b19af356]\n",
       "@startuml\r\n",
       "skinparam ranksep 8\r\n",
       "skinparam monochrome true\r\n",
       "skinparam classbackgroundcolor white\r\n",
       "skinparam shadowing false\r\n",
       "skinparam wrapWidth 300\r\n",
       "hide circle\r\n",
       "\r\n",
       "@enduml\r\n",
       "\n",
       "PlantUML version 1.2020.13(Sat Jun 13 12:26:38 UTC 2020)\n",
       "(EPL source distribution)\n",
       "Java Runtime: OpenJDK Runtime Environment\n",
       "JVM: OpenJDK 64-Bit Server VM\n",
       "Default Encoding: UTF-8\n",
       "Language: en\n",
       "Country: null\n",
       "--></g></svg>"
      ]
     },
     "execution_count": 41,
     "metadata": {},
     "output_type": "execute_result"
    }
   ],
   "source": [
    "%viz --style=\"DEFAULT\" --view=\"Action\" \"RequirementTest\""
   ]
  },
  {
   "cell_type": "code",
   "execution_count": 42,
   "id": "374f823b",
   "metadata": {
    "execution": {
     "iopub.execute_input": "2021-04-21T20:21:31.312693Z",
     "iopub.status.busy": "2021-04-21T20:21:31.311554Z",
     "iopub.status.idle": "2021-04-21T20:21:31.455307Z",
     "shell.execute_reply": "2021-04-21T20:21:31.450835Z"
    }
   },
   "outputs": [
    {
     "data": {
      "image/svg+xml": [
       "<?xml version=\"1.0\" encoding=\"UTF-8\" standalone=\"no\"?><svg xmlns=\"http://www.w3.org/2000/svg\" xmlns:xlink=\"http://www.w3.org/1999/xlink\" contentScriptType=\"application/ecmascript\" contentStyleType=\"text/css\" height=\"578px\" preserveAspectRatio=\"none\" style=\"width:408px;height:578px;\" version=\"1.1\" viewBox=\"0 0 408 578\" width=\"408px\" zoomAndPan=\"magnify\"><defs/><g><!--MD5=[fbc87193dbaf4d95561dea2c320d4a47]\n",
       "cluster E1--><a href=\"psysml:f822a5b9-f637-4bfc-9356-d45755be39c3\" target=\"_top\" title=\"psysml:f822a5b9-f637-4bfc-9356-d45755be39c3\" xlink:actuate=\"onRequest\" xlink:href=\"psysml:f822a5b9-f637-4bfc-9356-d45755be39c3\" xlink:show=\"new\" xlink:title=\"psysml:f822a5b9-f637-4bfc-9356-d45755be39c3\" xlink:type=\"simple\"><polygon fill=\"#FFFFFF\" points=\"16,6,158,6,165,28.2969,386,28.2969,386,566,16,566,16,6\" style=\"stroke: #000000; stroke-width: 1.5;\"/><line style=\"stroke: #000000; stroke-width: 1.5;\" x1=\"16\" x2=\"165\" y1=\"28.2969\" y2=\"28.2969\"/><text fill=\"#000000\" font-family=\"sans-serif\" font-size=\"14\" font-weight=\"bold\" lengthAdjust=\"spacingAndGlyphs\" textLength=\"136\" x=\"20\" y=\"20.9951\">RequirementTest</text></a><!--MD5=[b4997ac47864f28c2f74865a473b2911]\n",
       "class E2--><a href=\"psysml:55e0c843-cabd-4238-9430-5e5ddb37e322\" target=\"_top\" title=\"psysml:55e0c843-cabd-4238-9430-5e5ddb37e322\" xlink:actuate=\"onRequest\" xlink:href=\"psysml:55e0c843-cabd-4238-9430-5e5ddb37e322\" xlink:show=\"new\" xlink:title=\"psysml:55e0c843-cabd-4238-9430-5e5ddb37e322\" xlink:type=\"simple\"><rect fill=\"#FFFFFF\" height=\"45.9375\" id=\"E2\" style=\"stroke: #383838; stroke-width: 1.5;\" width=\"104\" x=\"266\" y=\"190\"/><text fill=\"#000000\" font-family=\"sans-serif\" font-size=\"12\" font-style=\"italic\" lengthAdjust=\"spacingAndGlyphs\" textLength=\"102\" x=\"267\" y=\"206.1387\">«constraint def»</text><text fill=\"#000000\" font-family=\"sans-serif\" font-size=\"12\" lengthAdjust=\"spacingAndGlyphs\" textLength=\"8\" x=\"314\" y=\"220.1074\">C</text><line style=\"stroke: #383838; stroke-width: 1.5;\" x1=\"267\" x2=\"369\" y1=\"227.9375\" y2=\"227.9375\"/></a><!--MD5=[09b614a08d8cba4a07c9adeb5e0fee81]\n",
       "class E3--><a href=\"psysml:943270d7-f648-4f2b-99ed-798f0a01be75\" target=\"_top\" title=\"psysml:943270d7-f648-4f2b-99ed-798f0a01be75\" xlink:actuate=\"onRequest\" xlink:href=\"psysml:943270d7-f648-4f2b-99ed-798f0a01be75\" xlink:show=\"new\" xlink:title=\"psysml:943270d7-f648-4f2b-99ed-798f0a01be75\" xlink:type=\"simple\"><rect fill=\"#FFFFFF\" height=\"45.9375\" id=\"E3\" rx=\"10\" ry=\"10\" style=\"stroke: #383838; stroke-width: 1.5;\" width=\"80\" x=\"290\" y=\"62\"/><text fill=\"#000000\" font-family=\"sans-serif\" font-size=\"12\" font-style=\"italic\" lengthAdjust=\"spacingAndGlyphs\" textLength=\"78\" x=\"291\" y=\"78.1387\">«constraint»</text><text fill=\"#000000\" font-family=\"sans-serif\" font-size=\"12\" lengthAdjust=\"spacingAndGlyphs\" textLength=\"23\" x=\"318.5\" y=\"92.1074\">c: C</text><line style=\"stroke: #383838; stroke-width: 1.5;\" x1=\"291\" x2=\"369\" y1=\"99.9375\" y2=\"99.9375\"/></a><!--MD5=[ebbe1d658d1005bcc118a6aa81145e00]\n",
       "class E4--><a href=\"psysml:3547be1a-4b91-4a24-a66e-ac992d912d25\" target=\"_top\" title=\"psysml:3547be1a-4b91-4a24-a66e-ac992d912d25\" xlink:actuate=\"onRequest\" xlink:href=\"psysml:3547be1a-4b91-4a24-a66e-ac992d912d25\" xlink:show=\"new\" xlink:title=\"psysml:3547be1a-4b91-4a24-a66e-ac992d912d25\" xlink:type=\"simple\"><rect fill=\"#FFFFFF\" height=\"109.1563\" id=\"E4\" style=\"stroke: #383838; stroke-width: 1.5;\" width=\"117\" x=\"32.5\" y=\"313\"/><text fill=\"#000000\" font-family=\"sans-serif\" font-size=\"12\" font-style=\"italic\" lengthAdjust=\"spacingAndGlyphs\" textLength=\"115\" x=\"33.5\" y=\"329.1387\">«requirement def»</text><text fill=\"#000000\" font-family=\"sans-serif\" font-size=\"12\" lengthAdjust=\"spacingAndGlyphs\" textLength=\"8\" x=\"87\" y=\"343.1074\">R</text><line style=\"stroke: #383838; stroke-width: 1.5;\" x1=\"33.5\" x2=\"148.5\" y1=\"350.9375\" y2=\"350.9375\"/><text fill=\"#000000\" font-family=\"sans-serif\" font-size=\"11\" lengthAdjust=\"spacingAndGlyphs\" textLength=\"0\" x=\"42.5\" y=\"365.1479\"/><line style=\"stroke: #383838; stroke-width: 1.0;\" x1=\"33.5\" x2=\"148.5\" y1=\"371.7422\" y2=\"371.7422\"/><text fill=\"#000000\" font-family=\"sans-serif\" font-size=\"11\" font-weight=\"bold\" lengthAdjust=\"spacingAndGlyphs\" textLength=\"46\" x=\"38.5\" y=\"402.7573\">require</text><text fill=\"#000000\" font-family=\"sans-serif\" font-size=\"11\" lengthAdjust=\"spacingAndGlyphs\" textLength=\"6\" x=\"88.5\" y=\"402.7573\">c</text><text fill=\"#000000\" font-family=\"sans-serif\" font-size=\"11\" font-style=\"italic\" lengthAdjust=\"spacingAndGlyphs\" textLength=\"46\" x=\"38.5\" y=\"415.562\">assume</text><text fill=\"#000000\" font-family=\"sans-serif\" font-size=\"11\" lengthAdjust=\"spacingAndGlyphs\" textLength=\"29\" x=\"88.5\" y=\"415.562\">c1: C</text><line style=\"stroke: #383838; stroke-width: 1.0;\" x1=\"33.5\" x2=\"59\" y1=\"386.1445\" y2=\"386.1445\"/><text fill=\"#000000\" font-family=\"sans-serif\" font-size=\"11\" lengthAdjust=\"spacingAndGlyphs\" textLength=\"64\" x=\"59\" y=\"389.4526\">constraints</text><line style=\"stroke: #383838; stroke-width: 1.0;\" x1=\"123\" x2=\"148.5\" y1=\"386.1445\" y2=\"386.1445\"/></a><!--MD5=[2156ba9850f5573cc1fc38a6a4b2f02b]\n",
       "class E7--><a href=\"psysml:5cc59123-afbd-4e9a-96fa-0bfa0b631260\" target=\"_top\" title=\"psysml:5cc59123-afbd-4e9a-96fa-0bfa0b631260\" xlink:actuate=\"onRequest\" xlink:href=\"psysml:5cc59123-afbd-4e9a-96fa-0bfa0b631260\" xlink:show=\"new\" xlink:title=\"psysml:5cc59123-afbd-4e9a-96fa-0bfa0b631260\" xlink:type=\"simple\"><rect fill=\"#FFFFFF\" height=\"45.9375\" id=\"E7\" rx=\"10\" ry=\"10\" style=\"stroke: #383838; stroke-width: 1.5;\" width=\"93\" x=\"34.5\" y=\"493.5\"/><text fill=\"#000000\" font-family=\"sans-serif\" font-size=\"12\" font-style=\"italic\" lengthAdjust=\"spacingAndGlyphs\" textLength=\"91\" x=\"35.5\" y=\"509.6387\">«requirement»</text><text fill=\"#000000\" font-family=\"sans-serif\" font-size=\"12\" lengthAdjust=\"spacingAndGlyphs\" text-decoration=\"line-through\" textLength=\"51\" x=\"55.5\" y=\"523.6074\">noname</text><line style=\"stroke: #383838; stroke-width: 1.5;\" x1=\"35.5\" x2=\"126.5\" y1=\"531.4375\" y2=\"531.4375\"/></a><!--MD5=[b9389687b975829384b498ac4b7476b2]\n",
       "class E8--><a href=\"psysml:49e593a4-f39b-4803-a2ce-02c26b916197\" target=\"_top\" title=\"psysml:49e593a4-f39b-4803-a2ce-02c26b916197\" xlink:actuate=\"onRequest\" xlink:href=\"psysml:49e593a4-f39b-4803-a2ce-02c26b916197\" xlink:show=\"new\" xlink:title=\"psysml:49e593a4-f39b-4803-a2ce-02c26b916197\" xlink:type=\"simple\"><rect fill=\"#FFFFFF\" height=\"66.7422\" id=\"E8\" style=\"stroke: #383838; stroke-width: 1.5;\" width=\"117\" x=\"162.5\" y=\"483\"/><text fill=\"#000000\" font-family=\"sans-serif\" font-size=\"12\" font-style=\"italic\" lengthAdjust=\"spacingAndGlyphs\" textLength=\"115\" x=\"163.5\" y=\"499.1387\">«requirement def»</text><text fill=\"#000000\" font-family=\"sans-serif\" font-size=\"12\" lengthAdjust=\"spacingAndGlyphs\" textLength=\"5\" x=\"208\" y=\"513.1074\">[</text><text fill=\"#000000\" font-family=\"sans-serif\" font-size=\"12\" font-weight=\"bold\" lengthAdjust=\"spacingAndGlyphs\" textLength=\"8\" x=\"213\" y=\"513.1074\">1</text><text fill=\"#000000\" font-family=\"sans-serif\" font-size=\"12\" lengthAdjust=\"spacingAndGlyphs\" textLength=\"17\" x=\"221\" y=\"513.1074\">] A</text><line style=\"stroke: #383838; stroke-width: 1.5;\" x1=\"163.5\" x2=\"278.5\" y1=\"520.9375\" y2=\"520.9375\"/><text fill=\"#000000\" font-family=\"sans-serif\" font-size=\"11\" lengthAdjust=\"spacingAndGlyphs\" textLength=\"24\" x=\"168.5\" y=\"535.1479\">Text</text><line style=\"stroke: #383838; stroke-width: 1.0;\" x1=\"163.5\" x2=\"278.5\" y1=\"541.7422\" y2=\"541.7422\"/></a><!--MD5=[fd4143e9d270a159db93a4ea2a975926]\n",
       "class E9--><a href=\"psysml:79fb73d3-867b-49b4-8196-8eb6e64f62f0\" target=\"_top\" title=\"psysml:79fb73d3-867b-49b4-8196-8eb6e64f62f0\" xlink:actuate=\"onRequest\" xlink:href=\"psysml:79fb73d3-867b-49b4-8196-8eb6e64f62f0\" xlink:show=\"new\" xlink:title=\"psysml:79fb73d3-867b-49b4-8196-8eb6e64f62f0\" xlink:type=\"simple\"><rect fill=\"#FFFFFF\" height=\"88.3516\" id=\"E9\" style=\"stroke: #383838; stroke-width: 1.5;\" width=\"145\" x=\"109.5\" y=\"41\"/><text fill=\"#000000\" font-family=\"sans-serif\" font-size=\"12\" font-style=\"italic\" lengthAdjust=\"spacingAndGlyphs\" textLength=\"115\" x=\"124.5\" y=\"57.1387\">«requirement def»</text><text fill=\"#000000\" font-family=\"sans-serif\" font-size=\"12\" lengthAdjust=\"spacingAndGlyphs\" textLength=\"16\" x=\"174\" y=\"71.1074\">R1</text><line style=\"stroke: #383838; stroke-width: 1.5;\" x1=\"110.5\" x2=\"253.5\" y1=\"78.9375\" y2=\"78.9375\"/><text fill=\"#000000\" font-family=\"sans-serif\" font-size=\"11\" font-weight=\"bold\" lengthAdjust=\"spacingAndGlyphs\" textLength=\"46\" x=\"115.5\" y=\"109.9526\">require</text><text fill=\"#000000\" font-family=\"sans-serif\" font-size=\"11\" lengthAdjust=\"spacingAndGlyphs\" textLength=\"13\" x=\"165.5\" y=\"109.9526\">c1</text><text fill=\"#000000\" font-family=\"sans-serif\" font-size=\"11\" font-style=\"italic\" lengthAdjust=\"spacingAndGlyphs\" textLength=\"133\" x=\"115.5\" y=\"122.7573\">:&gt;&gt;RequirementTest::c</text><line style=\"stroke: #383838; stroke-width: 1.0;\" x1=\"110.5\" x2=\"150\" y1=\"93.3398\" y2=\"93.3398\"/><text fill=\"#000000\" font-family=\"sans-serif\" font-size=\"11\" lengthAdjust=\"spacingAndGlyphs\" textLength=\"64\" x=\"150\" y=\"96.6479\">constraints</text><line style=\"stroke: #383838; stroke-width: 1.0;\" x1=\"214\" x2=\"253.5\" y1=\"93.3398\" y2=\"93.3398\"/></a><!--MD5=[1dd1bfd58a279cf63c5f349dbc8fc6a1]\n",
       "class E11--><a href=\"psysml:510a33c1-eff7-4e5e-90b4-a63ef5b72ae6\" target=\"_top\" title=\"psysml:510a33c1-eff7-4e5e-90b4-a63ef5b72ae6\" xlink:actuate=\"onRequest\" xlink:href=\"psysml:510a33c1-eff7-4e5e-90b4-a63ef5b72ae6\" xlink:show=\"new\" xlink:title=\"psysml:510a33c1-eff7-4e5e-90b4-a63ef5b72ae6\" xlink:type=\"simple\"><rect fill=\"#FFFFFF\" height=\"45.9375\" id=\"E11\" rx=\"10\" ry=\"10\" style=\"stroke: #383838; stroke-width: 1.5;\" width=\"42\" x=\"185\" y=\"344.5\"/><text fill=\"#000000\" font-family=\"sans-serif\" font-size=\"12\" font-style=\"italic\" lengthAdjust=\"spacingAndGlyphs\" textLength=\"40\" x=\"186\" y=\"360.6387\">«part»</text><text fill=\"#000000\" font-family=\"sans-serif\" font-size=\"12\" lengthAdjust=\"spacingAndGlyphs\" textLength=\"8\" x=\"202\" y=\"374.6074\">p</text><line style=\"stroke: #383838; stroke-width: 1.5;\" x1=\"186\" x2=\"226\" y1=\"382.4375\" y2=\"382.4375\"/></a><!--MD5=[49a0ec8f00dab7302a31f22d0f0fe584]\n",
       "class E12--><a href=\"psysml:a6cd5ff6-20a0-4014-8266-5a2f114de57c\" target=\"_top\" title=\"psysml:a6cd5ff6-20a0-4014-8266-5a2f114de57c\" xlink:actuate=\"onRequest\" xlink:href=\"psysml:a6cd5ff6-20a0-4014-8266-5a2f114de57c\" xlink:show=\"new\" xlink:title=\"psysml:a6cd5ff6-20a0-4014-8266-5a2f114de57c\" xlink:type=\"simple\"><rect fill=\"#FFFFFF\" height=\"45.9375\" id=\"E12\" rx=\"10\" ry=\"10\" style=\"stroke: #383838; stroke-width: 1.5;\" width=\"42\" x=\"32\" y=\"62\"/><text fill=\"#000000\" font-family=\"sans-serif\" font-size=\"12\" font-style=\"italic\" lengthAdjust=\"spacingAndGlyphs\" textLength=\"40\" x=\"33\" y=\"78.1387\">«part»</text><text fill=\"#000000\" font-family=\"sans-serif\" font-size=\"12\" lengthAdjust=\"spacingAndGlyphs\" textLength=\"8\" x=\"49\" y=\"92.1074\">q</text><line style=\"stroke: #383838; stroke-width: 1.5;\" x1=\"33\" x2=\"73\" y1=\"99.9375\" y2=\"99.9375\"/></a><!--MD5=[ee3c913d1a06f366521f9ef512b67efe]\n",
       "class E13--><a href=\"psysml:50b94a4a-7c4d-4845-a3da-b360d2df1f8c\" target=\"_top\" title=\"psysml:50b94a4a-7c4d-4845-a3da-b360d2df1f8c\" xlink:actuate=\"onRequest\" xlink:href=\"psysml:50b94a4a-7c4d-4845-a3da-b360d2df1f8c\" xlink:show=\"new\" xlink:title=\"psysml:50b94a4a-7c4d-4845-a3da-b360d2df1f8c\" xlink:type=\"simple\"><rect fill=\"#FFFFFF\" height=\"45.9375\" id=\"E13\" rx=\"10\" ry=\"10\" style=\"stroke: #383838; stroke-width: 1.5;\" width=\"93\" x=\"44.5\" y=\"190\"/><text fill=\"#000000\" font-family=\"sans-serif\" font-size=\"12\" font-style=\"italic\" lengthAdjust=\"spacingAndGlyphs\" textLength=\"91\" x=\"45.5\" y=\"206.1387\">«requirement»</text><text fill=\"#000000\" font-family=\"sans-serif\" font-size=\"12\" lengthAdjust=\"spacingAndGlyphs\" textLength=\"21\" x=\"80.5\" y=\"220.1074\">r: R</text><line style=\"stroke: #383838; stroke-width: 1.5;\" x1=\"45.5\" x2=\"136.5\" y1=\"227.9375\" y2=\"227.9375\"/></a><!--MD5=[05d275557350bfb9b23a4ef7222b4c39]\n",
       "link E3 to E2--><a href=\"psysml:e8229714-231f-4f2a-9005-056b1e69efb5\" target=\"_top\" title=\"psysml:e8229714-231f-4f2a-9005-056b1e69efb5\" xlink:actuate=\"onRequest\" xlink:href=\"psysml:e8229714-231f-4f2a-9005-056b1e69efb5\" xlink:show=\"new\" xlink:title=\"psysml:e8229714-231f-4f2a-9005-056b1e69efb5\" xlink:type=\"simple\"><path d=\"M327.88,108.24 C326.26,125.24 323.98,149.19 322.02,169.79 \" fill=\"none\" id=\"E3-&gt;E2\" style=\"stroke: #383838; stroke-width: 1.0;\"/><polygon fill=\"#FFFFFF\" points=\"320.1,189.99,314.9362,170.411,328.8729,171.7407,320.1,189.99\" style=\"stroke: #383838; stroke-width: 1.0;\"/><ellipse cx=\"317.4685\" cy=\"164.9268\" fill=\"#383838\" rx=\"2\" ry=\"2\" style=\"stroke: #383838; stroke-width: 1.0;\"/><ellipse cx=\"327.4233\" cy=\"165.8765\" fill=\"#383838\" rx=\"2\" ry=\"2\" style=\"stroke: #383838; stroke-width: 1.0;\"/></a><!--MD5=[722ff4eef345aa10242dad44df0e98c7]\n",
       "reverse link E4 to E7--><a href=\"psysml:eafce8af-10f9-4af7-9431-7513cc7d3347\" target=\"_top\" title=\"psysml:eafce8af-10f9-4af7-9431-7513cc7d3347\" xlink:actuate=\"onRequest\" xlink:href=\"psysml:eafce8af-10f9-4af7-9431-7513cc7d3347\" xlink:show=\"new\" xlink:title=\"psysml:eafce8af-10f9-4af7-9431-7513cc7d3347\" xlink:type=\"simple\"><path d=\"M86.44,435.59 C85.02,456.46 83.55,478.02 82.5,493.48 \" fill=\"none\" id=\"E4&lt;-E7\" style=\"stroke: #383838; stroke-width: 1.0;\"/><polygon fill=\"#383838\" points=\"87.33,422.4,82.9306,428.1136,86.5125,434.3721,90.912,428.6586,87.33,422.4\" style=\"stroke: #383838; stroke-width: 1.0;\"/></a><!--MD5=[c6fc7cdb0cabde04948078cf183fa696]\n",
       "reverse link E4 to E8--><a href=\"psysml:a0130814-5dc8-48af-af1a-9e985463643e\" target=\"_top\" title=\"psysml:a0130814-5dc8-48af-af1a-9e985463643e\" xlink:actuate=\"onRequest\" xlink:href=\"psysml:a0130814-5dc8-48af-af1a-9e985463643e\" xlink:show=\"new\" xlink:title=\"psysml:a0130814-5dc8-48af-af1a-9e985463643e\" xlink:type=\"simple\"><path d=\"M148.94,434.02 C163.95,450.99 179.47,468.53 192.24,482.98 \" fill=\"none\" id=\"E4&lt;-E8\" style=\"stroke: #383838; stroke-width: 1.0;\"/><ellipse cx=\"143.9698\" cy=\"428.3927\" fill=\"#FFFFFF\" rx=\"8\" ry=\"8\" style=\"stroke: #383838; stroke-width: 1.0;\"/><line style=\"stroke: #383838; stroke-width: 1.0;\" x1=\"149.2695\" x2=\"138.67\" y1=\"434.3854\" y2=\"422.4\"/><line style=\"stroke: #383838; stroke-width: 1.0;\" x1=\"137.9771\" x2=\"149.9625\" y1=\"433.6925\" y2=\"423.0929\"/></a><!--MD5=[062ed86c389d1a88f61c6380d0491e17]\n",
       "reverse link E12 to E13--><a href=\"psysml:044b978f-2385-4425-992f-2d75b645c055\" target=\"_top\" title=\"psysml:044b978f-2385-4425-992f-2d75b645c055\" xlink:actuate=\"onRequest\" xlink:href=\"psysml:044b978f-2385-4425-992f-2d75b645c055\" xlink:show=\"new\" xlink:title=\"psysml:044b978f-2385-4425-992f-2d75b645c055\" xlink:type=\"simple\"><path d=\"M63.49,120.8 C70.17,142.92 78.6,170.89 84.36,189.99 \" fill=\"none\" id=\"E12&lt;-E13\" style=\"stroke: #383838; stroke-width: 1.0;\"/><polygon fill=\"#383838\" points=\"59.71,108.24,57.6129,115.1394,63.1751,119.7288,65.2722,112.8294,59.71,108.24\" style=\"stroke: #383838; stroke-width: 1.0;\"/></a><!--MD5=[017847e01ff9a8bd19f247411074f987]\n",
       "link E13 to E4--><a href=\"psysml:279d9c9b-21cb-4076-8967-339bf6a79b4c\" target=\"_top\" title=\"psysml:279d9c9b-21cb-4076-8967-339bf6a79b4c\" xlink:actuate=\"onRequest\" xlink:href=\"psysml:279d9c9b-21cb-4076-8967-339bf6a79b4c\" xlink:show=\"new\" xlink:title=\"psysml:279d9c9b-21cb-4076-8967-339bf6a79b4c\" xlink:type=\"simple\"><path d=\"M91,236.17 C91,251.17 91,271.91 91,292.44 \" fill=\"none\" id=\"E13-&gt;E4\" style=\"stroke: #383838; stroke-width: 1.0;\"/><polygon fill=\"#FFFFFF\" points=\"91,312.68,84,293.68,98,293.68,91,312.68\" style=\"stroke: #383838; stroke-width: 1.0;\"/><ellipse cx=\"86\" cy=\"287.98\" fill=\"#383838\" rx=\"2\" ry=\"2\" style=\"stroke: #383838; stroke-width: 1.0;\"/><ellipse cx=\"96\" cy=\"287.98\" fill=\"#383838\" rx=\"2\" ry=\"2\" style=\"stroke: #383838; stroke-width: 1.0;\"/></a><!--MD5=[2cfe899c895462254056921bfb67315f]\n",
       "link E13 to E11--><a href=\"psysml:fcf36e7c-2665-4a1d-8cf4-6fcc5b08ef04\" target=\"_top\" title=\"psysml:fcf36e7c-2665-4a1d-8cf4-6fcc5b08ef04\" xlink:actuate=\"onRequest\" xlink:href=\"psysml:fcf36e7c-2665-4a1d-8cf4-6fcc5b08ef04\" xlink:show=\"new\" xlink:title=\"psysml:fcf36e7c-2665-4a1d-8cf4-6fcc5b08ef04\" xlink:type=\"simple\"><path d=\"M108.36,236.29 C123.87,256.28 147.14,286.45 167,313 C173.57,321.78 180.66,331.44 186.97,340.12 \" fill=\"none\" id=\"E13-&gt;E11\" style=\"stroke: #383838; stroke-width: 1.0; stroke-dasharray: 7.0,7.0;\"/><polygon fill=\"#383838\" points=\"189.99,344.28,187.9274,334.6496,187.0474,340.2376,181.4594,339.3576,189.99,344.28\" style=\"stroke: #383838; stroke-width: 1.0;\"/><text fill=\"#000000\" font-family=\"sans-serif\" font-size=\"13\" lengthAdjust=\"spacingAndGlyphs\" textLength=\"57\" x=\"145\" y=\"279.0669\">«satisfy»</text></a><!--MD5=[964ac1a25a7ebe2c00eb490186d86ba1]\n",
       "@startuml\r\n",
       "skinparam monochrome true\r\n",
       "skinparam classbackgroundcolor white\r\n",
       "skinparam shadowing false\r\n",
       "skinparam wrapWidth 300\r\n",
       "hide circle\r\n",
       "\r\n",
       "package \"RequirementTest\" as E1  [[psysml:f822a5b9-f637-4bfc-9356-d45755be39c3 ]]  {\r\n",
       "comp def \"C\" as E2  <<(T,blue)constraint def>> [[psysml:55e0c843-cabd-4238-9430-5e5ddb37e322 ]] {\r\n",
       "}\r\n",
       "comp usage \"c: C\" as E3  <<(T,blue)constraint>> [[psysml:943270d7-f648-4f2b-99ed-798f0a01be75 ]] {\r\n",
       "}\r\n",
       "comp def \"R\" as E4  <<(T,blue)requirement def>> [[psysml:3547be1a-4b91-4a24-a66e-ac992d912d25 ]] {\r\n",
       "\r\n",
       "- -\r\n",
       "- - constraints - -\r\n",
       "<b>require</b> c\r\n",
       "<i>assume</i> c1: C\r\n",
       "}\r\n",
       "comp usage \"<s>noname</s>\" as E7  <<(T,blue)requirement>> [[psysml:5cc59123-afbd-4e9a-96fa-0bfa0b631260 ]] {\r\n",
       "}\r\n",
       "comp def \" [<b>1</b>] A\" as E8  <<(T,blue)requirement def>> [[psysml:49e593a4-f39b-4803-a2ce-02c26b916197 ]] {\r\n",
       "Text\r\n",
       "- -\r\n",
       "}\r\n",
       "comp def \"R1\" as E9  <<(T,blue)requirement def>> [[psysml:79fb73d3-867b-49b4-8196-8eb6e64f62f0 ]] {\r\n",
       "- - constraints - -\r\n",
       "<b>require</b> c1\\n//:>>RequirementTest::c// \r\n",
       "}\r\n",
       "comp usage \"p\" as E11  <<(T,blue)part>> [[psysml:510a33c1-eff7-4e5e-90b4-a63ef5b72ae6 ]] {\r\n",
       "}\r\n",
       "comp usage \"q\" as E12  <<(T,blue)part>> [[psysml:a6cd5ff6-20a0-4014-8266-5a2f114de57c ]] {\r\n",
       "}\r\n",
       "comp usage \"r: R\" as E13  <<(T,blue)requirement>> [[psysml:50b94a4a-7c4d-4845-a3da-b360d2df1f8c ]] {\r\n",
       "}\r\n",
       "E3 - -:|> E2 [[psysml:e8229714-231f-4f2a-9005-056b1e69efb5 ]] \r\n",
       "E4 *- - E7 [[psysml:eafce8af-10f9-4af7-9431-7513cc7d3347 ]] \r\n",
       "E4 +- - E8 [[psysml:a0130814-5dc8-48af-af1a-9e985463643e ]] \r\n",
       "E12 *- - E13 [[psysml:044b978f-2385-4425-992f-2d75b645c055 ]] \r\n",
       "E13 - -:|> E4 [[psysml:279d9c9b-21cb-4076-8967-339bf6a79b4c ]] \r\n",
       "E13 ..> E11 [[psysml:fcf36e7c-2665-4a1d-8cf4-6fcc5b08ef04 ]] : <<satisfy>>\r\n",
       "}\r\n",
       "@enduml\r\n",
       "\n",
       "PlantUML version 1.2020.13(Sat Jun 13 12:26:38 UTC 2020)\n",
       "(EPL source distribution)\n",
       "Java Runtime: OpenJDK Runtime Environment\n",
       "JVM: OpenJDK 64-Bit Server VM\n",
       "Default Encoding: UTF-8\n",
       "Language: en\n",
       "Country: null\n",
       "--></g></svg>"
      ]
     },
     "execution_count": 42,
     "metadata": {},
     "output_type": "execute_result"
    }
   ],
   "source": [
    "%viz --style=\"DEFAULT\" --view=\"Sequence\" \"RequirementTest\""
   ]
  },
  {
   "cell_type": "code",
   "execution_count": 43,
   "id": "015250c9",
   "metadata": {
    "execution": {
     "iopub.execute_input": "2021-04-21T20:21:31.507276Z",
     "iopub.status.busy": "2021-04-21T20:21:31.505005Z",
     "iopub.status.idle": "2021-04-21T20:21:31.633507Z",
     "shell.execute_reply": "2021-04-21T20:21:31.632388Z"
    }
   },
   "outputs": [
    {
     "data": {
      "image/svg+xml": [
       "<?xml version=\"1.0\" encoding=\"UTF-8\" standalone=\"no\"?><svg xmlns=\"http://www.w3.org/2000/svg\" xmlns:xlink=\"http://www.w3.org/1999/xlink\" contentScriptType=\"application/ecmascript\" contentStyleType=\"text/css\" height=\"578px\" preserveAspectRatio=\"none\" style=\"width:408px;height:578px;\" version=\"1.1\" viewBox=\"0 0 408 578\" width=\"408px\" zoomAndPan=\"magnify\"><defs/><g><!--MD5=[fbc87193dbaf4d95561dea2c320d4a47]\n",
       "cluster E1--><a href=\"psysml:f822a5b9-f637-4bfc-9356-d45755be39c3\" target=\"_top\" title=\"psysml:f822a5b9-f637-4bfc-9356-d45755be39c3\" xlink:actuate=\"onRequest\" xlink:href=\"psysml:f822a5b9-f637-4bfc-9356-d45755be39c3\" xlink:show=\"new\" xlink:title=\"psysml:f822a5b9-f637-4bfc-9356-d45755be39c3\" xlink:type=\"simple\"><polygon fill=\"#FFFFFF\" points=\"16,6,158,6,165,28.2969,386,28.2969,386,566,16,566,16,6\" style=\"stroke: #000000; stroke-width: 1.5;\"/><line style=\"stroke: #000000; stroke-width: 1.5;\" x1=\"16\" x2=\"165\" y1=\"28.2969\" y2=\"28.2969\"/><text fill=\"#000000\" font-family=\"sans-serif\" font-size=\"14\" font-weight=\"bold\" lengthAdjust=\"spacingAndGlyphs\" textLength=\"136\" x=\"20\" y=\"20.9951\">RequirementTest</text></a><!--MD5=[b4997ac47864f28c2f74865a473b2911]\n",
       "class E2--><a href=\"psysml:55e0c843-cabd-4238-9430-5e5ddb37e322\" target=\"_top\" title=\"psysml:55e0c843-cabd-4238-9430-5e5ddb37e322\" xlink:actuate=\"onRequest\" xlink:href=\"psysml:55e0c843-cabd-4238-9430-5e5ddb37e322\" xlink:show=\"new\" xlink:title=\"psysml:55e0c843-cabd-4238-9430-5e5ddb37e322\" xlink:type=\"simple\"><rect fill=\"#FFFFFF\" height=\"45.9375\" id=\"E2\" style=\"stroke: #383838; stroke-width: 1.5;\" width=\"104\" x=\"266\" y=\"190\"/><text fill=\"#000000\" font-family=\"sans-serif\" font-size=\"12\" font-style=\"italic\" lengthAdjust=\"spacingAndGlyphs\" textLength=\"102\" x=\"267\" y=\"206.1387\">«constraint def»</text><text fill=\"#000000\" font-family=\"sans-serif\" font-size=\"12\" lengthAdjust=\"spacingAndGlyphs\" textLength=\"8\" x=\"314\" y=\"220.1074\">C</text><line style=\"stroke: #383838; stroke-width: 1.5;\" x1=\"267\" x2=\"369\" y1=\"227.9375\" y2=\"227.9375\"/></a><!--MD5=[09b614a08d8cba4a07c9adeb5e0fee81]\n",
       "class E3--><a href=\"psysml:943270d7-f648-4f2b-99ed-798f0a01be75\" target=\"_top\" title=\"psysml:943270d7-f648-4f2b-99ed-798f0a01be75\" xlink:actuate=\"onRequest\" xlink:href=\"psysml:943270d7-f648-4f2b-99ed-798f0a01be75\" xlink:show=\"new\" xlink:title=\"psysml:943270d7-f648-4f2b-99ed-798f0a01be75\" xlink:type=\"simple\"><rect fill=\"#FFFFFF\" height=\"45.9375\" id=\"E3\" rx=\"10\" ry=\"10\" style=\"stroke: #383838; stroke-width: 1.5;\" width=\"80\" x=\"290\" y=\"62\"/><text fill=\"#000000\" font-family=\"sans-serif\" font-size=\"12\" font-style=\"italic\" lengthAdjust=\"spacingAndGlyphs\" textLength=\"78\" x=\"291\" y=\"78.1387\">«constraint»</text><text fill=\"#000000\" font-family=\"sans-serif\" font-size=\"12\" lengthAdjust=\"spacingAndGlyphs\" textLength=\"23\" x=\"318.5\" y=\"92.1074\">c: C</text><line style=\"stroke: #383838; stroke-width: 1.5;\" x1=\"291\" x2=\"369\" y1=\"99.9375\" y2=\"99.9375\"/></a><!--MD5=[ebbe1d658d1005bcc118a6aa81145e00]\n",
       "class E4--><a href=\"psysml:3547be1a-4b91-4a24-a66e-ac992d912d25\" target=\"_top\" title=\"psysml:3547be1a-4b91-4a24-a66e-ac992d912d25\" xlink:actuate=\"onRequest\" xlink:href=\"psysml:3547be1a-4b91-4a24-a66e-ac992d912d25\" xlink:show=\"new\" xlink:title=\"psysml:3547be1a-4b91-4a24-a66e-ac992d912d25\" xlink:type=\"simple\"><rect fill=\"#FFFFFF\" height=\"109.1563\" id=\"E4\" style=\"stroke: #383838; stroke-width: 1.5;\" width=\"117\" x=\"32.5\" y=\"313\"/><text fill=\"#000000\" font-family=\"sans-serif\" font-size=\"12\" font-style=\"italic\" lengthAdjust=\"spacingAndGlyphs\" textLength=\"115\" x=\"33.5\" y=\"329.1387\">«requirement def»</text><text fill=\"#000000\" font-family=\"sans-serif\" font-size=\"12\" lengthAdjust=\"spacingAndGlyphs\" textLength=\"8\" x=\"87\" y=\"343.1074\">R</text><line style=\"stroke: #383838; stroke-width: 1.5;\" x1=\"33.5\" x2=\"148.5\" y1=\"350.9375\" y2=\"350.9375\"/><text fill=\"#000000\" font-family=\"sans-serif\" font-size=\"11\" lengthAdjust=\"spacingAndGlyphs\" textLength=\"0\" x=\"42.5\" y=\"365.1479\"/><line style=\"stroke: #383838; stroke-width: 1.0;\" x1=\"33.5\" x2=\"148.5\" y1=\"371.7422\" y2=\"371.7422\"/><text fill=\"#000000\" font-family=\"sans-serif\" font-size=\"11\" font-weight=\"bold\" lengthAdjust=\"spacingAndGlyphs\" textLength=\"46\" x=\"38.5\" y=\"402.7573\">require</text><text fill=\"#000000\" font-family=\"sans-serif\" font-size=\"11\" lengthAdjust=\"spacingAndGlyphs\" textLength=\"6\" x=\"88.5\" y=\"402.7573\">c</text><text fill=\"#000000\" font-family=\"sans-serif\" font-size=\"11\" font-style=\"italic\" lengthAdjust=\"spacingAndGlyphs\" textLength=\"46\" x=\"38.5\" y=\"415.562\">assume</text><text fill=\"#000000\" font-family=\"sans-serif\" font-size=\"11\" lengthAdjust=\"spacingAndGlyphs\" textLength=\"29\" x=\"88.5\" y=\"415.562\">c1: C</text><line style=\"stroke: #383838; stroke-width: 1.0;\" x1=\"33.5\" x2=\"59\" y1=\"386.1445\" y2=\"386.1445\"/><text fill=\"#000000\" font-family=\"sans-serif\" font-size=\"11\" lengthAdjust=\"spacingAndGlyphs\" textLength=\"64\" x=\"59\" y=\"389.4526\">constraints</text><line style=\"stroke: #383838; stroke-width: 1.0;\" x1=\"123\" x2=\"148.5\" y1=\"386.1445\" y2=\"386.1445\"/></a><!--MD5=[2156ba9850f5573cc1fc38a6a4b2f02b]\n",
       "class E7--><a href=\"psysml:5cc59123-afbd-4e9a-96fa-0bfa0b631260\" target=\"_top\" title=\"psysml:5cc59123-afbd-4e9a-96fa-0bfa0b631260\" xlink:actuate=\"onRequest\" xlink:href=\"psysml:5cc59123-afbd-4e9a-96fa-0bfa0b631260\" xlink:show=\"new\" xlink:title=\"psysml:5cc59123-afbd-4e9a-96fa-0bfa0b631260\" xlink:type=\"simple\"><rect fill=\"#FFFFFF\" height=\"45.9375\" id=\"E7\" rx=\"10\" ry=\"10\" style=\"stroke: #383838; stroke-width: 1.5;\" width=\"93\" x=\"34.5\" y=\"493.5\"/><text fill=\"#000000\" font-family=\"sans-serif\" font-size=\"12\" font-style=\"italic\" lengthAdjust=\"spacingAndGlyphs\" textLength=\"91\" x=\"35.5\" y=\"509.6387\">«requirement»</text><text fill=\"#000000\" font-family=\"sans-serif\" font-size=\"12\" lengthAdjust=\"spacingAndGlyphs\" text-decoration=\"line-through\" textLength=\"51\" x=\"55.5\" y=\"523.6074\">noname</text><line style=\"stroke: #383838; stroke-width: 1.5;\" x1=\"35.5\" x2=\"126.5\" y1=\"531.4375\" y2=\"531.4375\"/></a><!--MD5=[b9389687b975829384b498ac4b7476b2]\n",
       "class E8--><a href=\"psysml:49e593a4-f39b-4803-a2ce-02c26b916197\" target=\"_top\" title=\"psysml:49e593a4-f39b-4803-a2ce-02c26b916197\" xlink:actuate=\"onRequest\" xlink:href=\"psysml:49e593a4-f39b-4803-a2ce-02c26b916197\" xlink:show=\"new\" xlink:title=\"psysml:49e593a4-f39b-4803-a2ce-02c26b916197\" xlink:type=\"simple\"><rect fill=\"#FFFFFF\" height=\"66.7422\" id=\"E8\" style=\"stroke: #383838; stroke-width: 1.5;\" width=\"117\" x=\"162.5\" y=\"483\"/><text fill=\"#000000\" font-family=\"sans-serif\" font-size=\"12\" font-style=\"italic\" lengthAdjust=\"spacingAndGlyphs\" textLength=\"115\" x=\"163.5\" y=\"499.1387\">«requirement def»</text><text fill=\"#000000\" font-family=\"sans-serif\" font-size=\"12\" lengthAdjust=\"spacingAndGlyphs\" textLength=\"5\" x=\"208\" y=\"513.1074\">[</text><text fill=\"#000000\" font-family=\"sans-serif\" font-size=\"12\" font-weight=\"bold\" lengthAdjust=\"spacingAndGlyphs\" textLength=\"8\" x=\"213\" y=\"513.1074\">1</text><text fill=\"#000000\" font-family=\"sans-serif\" font-size=\"12\" lengthAdjust=\"spacingAndGlyphs\" textLength=\"17\" x=\"221\" y=\"513.1074\">] A</text><line style=\"stroke: #383838; stroke-width: 1.5;\" x1=\"163.5\" x2=\"278.5\" y1=\"520.9375\" y2=\"520.9375\"/><text fill=\"#000000\" font-family=\"sans-serif\" font-size=\"11\" lengthAdjust=\"spacingAndGlyphs\" textLength=\"24\" x=\"168.5\" y=\"535.1479\">Text</text><line style=\"stroke: #383838; stroke-width: 1.0;\" x1=\"163.5\" x2=\"278.5\" y1=\"541.7422\" y2=\"541.7422\"/></a><!--MD5=[fd4143e9d270a159db93a4ea2a975926]\n",
       "class E9--><a href=\"psysml:79fb73d3-867b-49b4-8196-8eb6e64f62f0\" target=\"_top\" title=\"psysml:79fb73d3-867b-49b4-8196-8eb6e64f62f0\" xlink:actuate=\"onRequest\" xlink:href=\"psysml:79fb73d3-867b-49b4-8196-8eb6e64f62f0\" xlink:show=\"new\" xlink:title=\"psysml:79fb73d3-867b-49b4-8196-8eb6e64f62f0\" xlink:type=\"simple\"><rect fill=\"#FFFFFF\" height=\"88.3516\" id=\"E9\" style=\"stroke: #383838; stroke-width: 1.5;\" width=\"145\" x=\"109.5\" y=\"41\"/><text fill=\"#000000\" font-family=\"sans-serif\" font-size=\"12\" font-style=\"italic\" lengthAdjust=\"spacingAndGlyphs\" textLength=\"115\" x=\"124.5\" y=\"57.1387\">«requirement def»</text><text fill=\"#000000\" font-family=\"sans-serif\" font-size=\"12\" lengthAdjust=\"spacingAndGlyphs\" textLength=\"16\" x=\"174\" y=\"71.1074\">R1</text><line style=\"stroke: #383838; stroke-width: 1.5;\" x1=\"110.5\" x2=\"253.5\" y1=\"78.9375\" y2=\"78.9375\"/><text fill=\"#000000\" font-family=\"sans-serif\" font-size=\"11\" font-weight=\"bold\" lengthAdjust=\"spacingAndGlyphs\" textLength=\"46\" x=\"115.5\" y=\"109.9526\">require</text><text fill=\"#000000\" font-family=\"sans-serif\" font-size=\"11\" lengthAdjust=\"spacingAndGlyphs\" textLength=\"13\" x=\"165.5\" y=\"109.9526\">c1</text><text fill=\"#000000\" font-family=\"sans-serif\" font-size=\"11\" font-style=\"italic\" lengthAdjust=\"spacingAndGlyphs\" textLength=\"133\" x=\"115.5\" y=\"122.7573\">:&gt;&gt;RequirementTest::c</text><line style=\"stroke: #383838; stroke-width: 1.0;\" x1=\"110.5\" x2=\"150\" y1=\"93.3398\" y2=\"93.3398\"/><text fill=\"#000000\" font-family=\"sans-serif\" font-size=\"11\" lengthAdjust=\"spacingAndGlyphs\" textLength=\"64\" x=\"150\" y=\"96.6479\">constraints</text><line style=\"stroke: #383838; stroke-width: 1.0;\" x1=\"214\" x2=\"253.5\" y1=\"93.3398\" y2=\"93.3398\"/></a><!--MD5=[1dd1bfd58a279cf63c5f349dbc8fc6a1]\n",
       "class E11--><a href=\"psysml:510a33c1-eff7-4e5e-90b4-a63ef5b72ae6\" target=\"_top\" title=\"psysml:510a33c1-eff7-4e5e-90b4-a63ef5b72ae6\" xlink:actuate=\"onRequest\" xlink:href=\"psysml:510a33c1-eff7-4e5e-90b4-a63ef5b72ae6\" xlink:show=\"new\" xlink:title=\"psysml:510a33c1-eff7-4e5e-90b4-a63ef5b72ae6\" xlink:type=\"simple\"><rect fill=\"#FFFFFF\" height=\"45.9375\" id=\"E11\" rx=\"10\" ry=\"10\" style=\"stroke: #383838; stroke-width: 1.5;\" width=\"42\" x=\"185\" y=\"344.5\"/><text fill=\"#000000\" font-family=\"sans-serif\" font-size=\"12\" font-style=\"italic\" lengthAdjust=\"spacingAndGlyphs\" textLength=\"40\" x=\"186\" y=\"360.6387\">«part»</text><text fill=\"#000000\" font-family=\"sans-serif\" font-size=\"12\" lengthAdjust=\"spacingAndGlyphs\" textLength=\"8\" x=\"202\" y=\"374.6074\">p</text><line style=\"stroke: #383838; stroke-width: 1.5;\" x1=\"186\" x2=\"226\" y1=\"382.4375\" y2=\"382.4375\"/></a><!--MD5=[49a0ec8f00dab7302a31f22d0f0fe584]\n",
       "class E12--><a href=\"psysml:a6cd5ff6-20a0-4014-8266-5a2f114de57c\" target=\"_top\" title=\"psysml:a6cd5ff6-20a0-4014-8266-5a2f114de57c\" xlink:actuate=\"onRequest\" xlink:href=\"psysml:a6cd5ff6-20a0-4014-8266-5a2f114de57c\" xlink:show=\"new\" xlink:title=\"psysml:a6cd5ff6-20a0-4014-8266-5a2f114de57c\" xlink:type=\"simple\"><rect fill=\"#FFFFFF\" height=\"45.9375\" id=\"E12\" rx=\"10\" ry=\"10\" style=\"stroke: #383838; stroke-width: 1.5;\" width=\"42\" x=\"32\" y=\"62\"/><text fill=\"#000000\" font-family=\"sans-serif\" font-size=\"12\" font-style=\"italic\" lengthAdjust=\"spacingAndGlyphs\" textLength=\"40\" x=\"33\" y=\"78.1387\">«part»</text><text fill=\"#000000\" font-family=\"sans-serif\" font-size=\"12\" lengthAdjust=\"spacingAndGlyphs\" textLength=\"8\" x=\"49\" y=\"92.1074\">q</text><line style=\"stroke: #383838; stroke-width: 1.5;\" x1=\"33\" x2=\"73\" y1=\"99.9375\" y2=\"99.9375\"/></a><!--MD5=[ee3c913d1a06f366521f9ef512b67efe]\n",
       "class E13--><a href=\"psysml:50b94a4a-7c4d-4845-a3da-b360d2df1f8c\" target=\"_top\" title=\"psysml:50b94a4a-7c4d-4845-a3da-b360d2df1f8c\" xlink:actuate=\"onRequest\" xlink:href=\"psysml:50b94a4a-7c4d-4845-a3da-b360d2df1f8c\" xlink:show=\"new\" xlink:title=\"psysml:50b94a4a-7c4d-4845-a3da-b360d2df1f8c\" xlink:type=\"simple\"><rect fill=\"#FFFFFF\" height=\"45.9375\" id=\"E13\" rx=\"10\" ry=\"10\" style=\"stroke: #383838; stroke-width: 1.5;\" width=\"93\" x=\"44.5\" y=\"190\"/><text fill=\"#000000\" font-family=\"sans-serif\" font-size=\"12\" font-style=\"italic\" lengthAdjust=\"spacingAndGlyphs\" textLength=\"91\" x=\"45.5\" y=\"206.1387\">«requirement»</text><text fill=\"#000000\" font-family=\"sans-serif\" font-size=\"12\" lengthAdjust=\"spacingAndGlyphs\" textLength=\"21\" x=\"80.5\" y=\"220.1074\">r: R</text><line style=\"stroke: #383838; stroke-width: 1.5;\" x1=\"45.5\" x2=\"136.5\" y1=\"227.9375\" y2=\"227.9375\"/></a><!--MD5=[05d275557350bfb9b23a4ef7222b4c39]\n",
       "link E3 to E2--><a href=\"psysml:e8229714-231f-4f2a-9005-056b1e69efb5\" target=\"_top\" title=\"psysml:e8229714-231f-4f2a-9005-056b1e69efb5\" xlink:actuate=\"onRequest\" xlink:href=\"psysml:e8229714-231f-4f2a-9005-056b1e69efb5\" xlink:show=\"new\" xlink:title=\"psysml:e8229714-231f-4f2a-9005-056b1e69efb5\" xlink:type=\"simple\"><path d=\"M327.88,108.24 C326.26,125.24 323.98,149.19 322.02,169.79 \" fill=\"none\" id=\"E3-&gt;E2\" style=\"stroke: #383838; stroke-width: 1.0;\"/><polygon fill=\"#FFFFFF\" points=\"320.1,189.99,314.9362,170.411,328.8729,171.7407,320.1,189.99\" style=\"stroke: #383838; stroke-width: 1.0;\"/><ellipse cx=\"317.4685\" cy=\"164.9268\" fill=\"#383838\" rx=\"2\" ry=\"2\" style=\"stroke: #383838; stroke-width: 1.0;\"/><ellipse cx=\"327.4233\" cy=\"165.8765\" fill=\"#383838\" rx=\"2\" ry=\"2\" style=\"stroke: #383838; stroke-width: 1.0;\"/></a><!--MD5=[722ff4eef345aa10242dad44df0e98c7]\n",
       "reverse link E4 to E7--><a href=\"psysml:eafce8af-10f9-4af7-9431-7513cc7d3347\" target=\"_top\" title=\"psysml:eafce8af-10f9-4af7-9431-7513cc7d3347\" xlink:actuate=\"onRequest\" xlink:href=\"psysml:eafce8af-10f9-4af7-9431-7513cc7d3347\" xlink:show=\"new\" xlink:title=\"psysml:eafce8af-10f9-4af7-9431-7513cc7d3347\" xlink:type=\"simple\"><path d=\"M86.44,435.59 C85.02,456.46 83.55,478.02 82.5,493.48 \" fill=\"none\" id=\"E4&lt;-E7\" style=\"stroke: #383838; stroke-width: 1.0;\"/><polygon fill=\"#383838\" points=\"87.33,422.4,82.9306,428.1136,86.5125,434.3721,90.912,428.6586,87.33,422.4\" style=\"stroke: #383838; stroke-width: 1.0;\"/></a><!--MD5=[c6fc7cdb0cabde04948078cf183fa696]\n",
       "reverse link E4 to E8--><a href=\"psysml:a0130814-5dc8-48af-af1a-9e985463643e\" target=\"_top\" title=\"psysml:a0130814-5dc8-48af-af1a-9e985463643e\" xlink:actuate=\"onRequest\" xlink:href=\"psysml:a0130814-5dc8-48af-af1a-9e985463643e\" xlink:show=\"new\" xlink:title=\"psysml:a0130814-5dc8-48af-af1a-9e985463643e\" xlink:type=\"simple\"><path d=\"M148.94,434.02 C163.95,450.99 179.47,468.53 192.24,482.98 \" fill=\"none\" id=\"E4&lt;-E8\" style=\"stroke: #383838; stroke-width: 1.0;\"/><ellipse cx=\"143.9698\" cy=\"428.3927\" fill=\"#FFFFFF\" rx=\"8\" ry=\"8\" style=\"stroke: #383838; stroke-width: 1.0;\"/><line style=\"stroke: #383838; stroke-width: 1.0;\" x1=\"149.2695\" x2=\"138.67\" y1=\"434.3854\" y2=\"422.4\"/><line style=\"stroke: #383838; stroke-width: 1.0;\" x1=\"137.9771\" x2=\"149.9625\" y1=\"433.6925\" y2=\"423.0929\"/></a><!--MD5=[062ed86c389d1a88f61c6380d0491e17]\n",
       "reverse link E12 to E13--><a href=\"psysml:044b978f-2385-4425-992f-2d75b645c055\" target=\"_top\" title=\"psysml:044b978f-2385-4425-992f-2d75b645c055\" xlink:actuate=\"onRequest\" xlink:href=\"psysml:044b978f-2385-4425-992f-2d75b645c055\" xlink:show=\"new\" xlink:title=\"psysml:044b978f-2385-4425-992f-2d75b645c055\" xlink:type=\"simple\"><path d=\"M63.49,120.8 C70.17,142.92 78.6,170.89 84.36,189.99 \" fill=\"none\" id=\"E12&lt;-E13\" style=\"stroke: #383838; stroke-width: 1.0;\"/><polygon fill=\"#383838\" points=\"59.71,108.24,57.6129,115.1394,63.1751,119.7288,65.2722,112.8294,59.71,108.24\" style=\"stroke: #383838; stroke-width: 1.0;\"/></a><!--MD5=[017847e01ff9a8bd19f247411074f987]\n",
       "link E13 to E4--><a href=\"psysml:279d9c9b-21cb-4076-8967-339bf6a79b4c\" target=\"_top\" title=\"psysml:279d9c9b-21cb-4076-8967-339bf6a79b4c\" xlink:actuate=\"onRequest\" xlink:href=\"psysml:279d9c9b-21cb-4076-8967-339bf6a79b4c\" xlink:show=\"new\" xlink:title=\"psysml:279d9c9b-21cb-4076-8967-339bf6a79b4c\" xlink:type=\"simple\"><path d=\"M91,236.17 C91,251.17 91,271.91 91,292.44 \" fill=\"none\" id=\"E13-&gt;E4\" style=\"stroke: #383838; stroke-width: 1.0;\"/><polygon fill=\"#FFFFFF\" points=\"91,312.68,84,293.68,98,293.68,91,312.68\" style=\"stroke: #383838; stroke-width: 1.0;\"/><ellipse cx=\"86\" cy=\"287.98\" fill=\"#383838\" rx=\"2\" ry=\"2\" style=\"stroke: #383838; stroke-width: 1.0;\"/><ellipse cx=\"96\" cy=\"287.98\" fill=\"#383838\" rx=\"2\" ry=\"2\" style=\"stroke: #383838; stroke-width: 1.0;\"/></a><!--MD5=[2cfe899c895462254056921bfb67315f]\n",
       "link E13 to E11--><a href=\"psysml:fcf36e7c-2665-4a1d-8cf4-6fcc5b08ef04\" target=\"_top\" title=\"psysml:fcf36e7c-2665-4a1d-8cf4-6fcc5b08ef04\" xlink:actuate=\"onRequest\" xlink:href=\"psysml:fcf36e7c-2665-4a1d-8cf4-6fcc5b08ef04\" xlink:show=\"new\" xlink:title=\"psysml:fcf36e7c-2665-4a1d-8cf4-6fcc5b08ef04\" xlink:type=\"simple\"><path d=\"M108.36,236.29 C123.87,256.28 147.14,286.45 167,313 C173.57,321.78 180.66,331.44 186.97,340.12 \" fill=\"none\" id=\"E13-&gt;E11\" style=\"stroke: #383838; stroke-width: 1.0; stroke-dasharray: 7.0,7.0;\"/><polygon fill=\"#383838\" points=\"189.99,344.28,187.9274,334.6496,187.0474,340.2376,181.4594,339.3576,189.99,344.28\" style=\"stroke: #383838; stroke-width: 1.0;\"/><text fill=\"#000000\" font-family=\"sans-serif\" font-size=\"13\" lengthAdjust=\"spacingAndGlyphs\" textLength=\"57\" x=\"145\" y=\"279.0669\">«satisfy»</text></a><!--MD5=[964ac1a25a7ebe2c00eb490186d86ba1]\n",
       "@startuml\r\n",
       "skinparam monochrome true\r\n",
       "skinparam classbackgroundcolor white\r\n",
       "skinparam shadowing false\r\n",
       "skinparam wrapWidth 300\r\n",
       "hide circle\r\n",
       "\r\n",
       "package \"RequirementTest\" as E1  [[psysml:f822a5b9-f637-4bfc-9356-d45755be39c3 ]]  {\r\n",
       "comp def \"C\" as E2  <<(T,blue)constraint def>> [[psysml:55e0c843-cabd-4238-9430-5e5ddb37e322 ]] {\r\n",
       "}\r\n",
       "comp usage \"c: C\" as E3  <<(T,blue)constraint>> [[psysml:943270d7-f648-4f2b-99ed-798f0a01be75 ]] {\r\n",
       "}\r\n",
       "comp def \"R\" as E4  <<(T,blue)requirement def>> [[psysml:3547be1a-4b91-4a24-a66e-ac992d912d25 ]] {\r\n",
       "\r\n",
       "- -\r\n",
       "- - constraints - -\r\n",
       "<b>require</b> c\r\n",
       "<i>assume</i> c1: C\r\n",
       "}\r\n",
       "comp usage \"<s>noname</s>\" as E7  <<(T,blue)requirement>> [[psysml:5cc59123-afbd-4e9a-96fa-0bfa0b631260 ]] {\r\n",
       "}\r\n",
       "comp def \" [<b>1</b>] A\" as E8  <<(T,blue)requirement def>> [[psysml:49e593a4-f39b-4803-a2ce-02c26b916197 ]] {\r\n",
       "Text\r\n",
       "- -\r\n",
       "}\r\n",
       "comp def \"R1\" as E9  <<(T,blue)requirement def>> [[psysml:79fb73d3-867b-49b4-8196-8eb6e64f62f0 ]] {\r\n",
       "- - constraints - -\r\n",
       "<b>require</b> c1\\n//:>>RequirementTest::c// \r\n",
       "}\r\n",
       "comp usage \"p\" as E11  <<(T,blue)part>> [[psysml:510a33c1-eff7-4e5e-90b4-a63ef5b72ae6 ]] {\r\n",
       "}\r\n",
       "comp usage \"q\" as E12  <<(T,blue)part>> [[psysml:a6cd5ff6-20a0-4014-8266-5a2f114de57c ]] {\r\n",
       "}\r\n",
       "comp usage \"r: R\" as E13  <<(T,blue)requirement>> [[psysml:50b94a4a-7c4d-4845-a3da-b360d2df1f8c ]] {\r\n",
       "}\r\n",
       "E3 - -:|> E2 [[psysml:e8229714-231f-4f2a-9005-056b1e69efb5 ]] \r\n",
       "E4 *- - E7 [[psysml:eafce8af-10f9-4af7-9431-7513cc7d3347 ]] \r\n",
       "E4 +- - E8 [[psysml:a0130814-5dc8-48af-af1a-9e985463643e ]] \r\n",
       "E12 *- - E13 [[psysml:044b978f-2385-4425-992f-2d75b645c055 ]] \r\n",
       "E13 - -:|> E4 [[psysml:279d9c9b-21cb-4076-8967-339bf6a79b4c ]] \r\n",
       "E13 ..> E11 [[psysml:fcf36e7c-2665-4a1d-8cf4-6fcc5b08ef04 ]] : <<satisfy>>\r\n",
       "}\r\n",
       "@enduml\r\n",
       "\n",
       "PlantUML version 1.2020.13(Sat Jun 13 12:26:38 UTC 2020)\n",
       "(EPL source distribution)\n",
       "Java Runtime: OpenJDK Runtime Environment\n",
       "JVM: OpenJDK 64-Bit Server VM\n",
       "Default Encoding: UTF-8\n",
       "Language: en\n",
       "Country: null\n",
       "--></g></svg>"
      ]
     },
     "execution_count": 43,
     "metadata": {},
     "output_type": "execute_result"
    }
   ],
   "source": [
    "%viz --style=\"DEFAULT\" --view=\"MIXED\" \"RequirementTest\""
   ]
  },
  {
   "cell_type": "code",
   "execution_count": 44,
   "id": "a6e6a2f5",
   "metadata": {
    "execution": {
     "iopub.execute_input": "2021-04-21T20:21:31.684606Z",
     "iopub.status.busy": "2021-04-21T20:21:31.684185Z",
     "iopub.status.idle": "2021-04-21T20:21:31.786671Z",
     "shell.execute_reply": "2021-04-21T20:21:31.784567Z"
    }
   },
   "outputs": [
    {
     "data": {
      "image/svg+xml": [
       "<?xml version=\"1.0\" encoding=\"UTF-8\" standalone=\"no\"?><svg xmlns=\"http://www.w3.org/2000/svg\" xmlns:xlink=\"http://www.w3.org/1999/xlink\" contentScriptType=\"application/ecmascript\" contentStyleType=\"text/css\" height=\"578px\" preserveAspectRatio=\"none\" style=\"width:408px;height:578px;\" version=\"1.1\" viewBox=\"0 0 408 578\" width=\"408px\" zoomAndPan=\"magnify\"><defs/><g><!--MD5=[fbc87193dbaf4d95561dea2c320d4a47]\n",
       "cluster E1--><a href=\"psysml:f822a5b9-f637-4bfc-9356-d45755be39c3\" target=\"_top\" title=\"psysml:f822a5b9-f637-4bfc-9356-d45755be39c3\" xlink:actuate=\"onRequest\" xlink:href=\"psysml:f822a5b9-f637-4bfc-9356-d45755be39c3\" xlink:show=\"new\" xlink:title=\"psysml:f822a5b9-f637-4bfc-9356-d45755be39c3\" xlink:type=\"simple\"><polygon fill=\"#FFFFFF\" points=\"16,6,158,6,165,28.2969,386,28.2969,386,566,16,566,16,6\" style=\"stroke: #000000; stroke-width: 1.5;\"/><line style=\"stroke: #000000; stroke-width: 1.5;\" x1=\"16\" x2=\"165\" y1=\"28.2969\" y2=\"28.2969\"/><text fill=\"#000000\" font-family=\"sans-serif\" font-size=\"14\" font-weight=\"bold\" lengthAdjust=\"spacingAndGlyphs\" textLength=\"136\" x=\"20\" y=\"20.9951\">RequirementTest</text></a><!--MD5=[b4997ac47864f28c2f74865a473b2911]\n",
       "class E2--><a href=\"psysml:55e0c843-cabd-4238-9430-5e5ddb37e322\" target=\"_top\" title=\"psysml:55e0c843-cabd-4238-9430-5e5ddb37e322\" xlink:actuate=\"onRequest\" xlink:href=\"psysml:55e0c843-cabd-4238-9430-5e5ddb37e322\" xlink:show=\"new\" xlink:title=\"psysml:55e0c843-cabd-4238-9430-5e5ddb37e322\" xlink:type=\"simple\"><rect fill=\"#FFFFFF\" height=\"45.9375\" id=\"E2\" style=\"stroke: #383838; stroke-width: 1.5;\" width=\"104\" x=\"266\" y=\"190\"/><text fill=\"#000000\" font-family=\"sans-serif\" font-size=\"12\" font-style=\"italic\" lengthAdjust=\"spacingAndGlyphs\" textLength=\"102\" x=\"267\" y=\"206.1387\">«constraint def»</text><text fill=\"#000000\" font-family=\"sans-serif\" font-size=\"12\" lengthAdjust=\"spacingAndGlyphs\" textLength=\"8\" x=\"314\" y=\"220.1074\">C</text><line style=\"stroke: #383838; stroke-width: 1.5;\" x1=\"267\" x2=\"369\" y1=\"227.9375\" y2=\"227.9375\"/></a><!--MD5=[09b614a08d8cba4a07c9adeb5e0fee81]\n",
       "class E3--><a href=\"psysml:943270d7-f648-4f2b-99ed-798f0a01be75\" target=\"_top\" title=\"psysml:943270d7-f648-4f2b-99ed-798f0a01be75\" xlink:actuate=\"onRequest\" xlink:href=\"psysml:943270d7-f648-4f2b-99ed-798f0a01be75\" xlink:show=\"new\" xlink:title=\"psysml:943270d7-f648-4f2b-99ed-798f0a01be75\" xlink:type=\"simple\"><rect fill=\"#FFFFFF\" height=\"45.9375\" id=\"E3\" rx=\"10\" ry=\"10\" style=\"stroke: #383838; stroke-width: 1.5;\" width=\"80\" x=\"290\" y=\"62\"/><text fill=\"#000000\" font-family=\"sans-serif\" font-size=\"12\" font-style=\"italic\" lengthAdjust=\"spacingAndGlyphs\" textLength=\"78\" x=\"291\" y=\"78.1387\">«constraint»</text><text fill=\"#000000\" font-family=\"sans-serif\" font-size=\"12\" lengthAdjust=\"spacingAndGlyphs\" textLength=\"23\" x=\"318.5\" y=\"92.1074\">c: C</text><line style=\"stroke: #383838; stroke-width: 1.5;\" x1=\"291\" x2=\"369\" y1=\"99.9375\" y2=\"99.9375\"/></a><!--MD5=[ebbe1d658d1005bcc118a6aa81145e00]\n",
       "class E4--><a href=\"psysml:3547be1a-4b91-4a24-a66e-ac992d912d25\" target=\"_top\" title=\"psysml:3547be1a-4b91-4a24-a66e-ac992d912d25\" xlink:actuate=\"onRequest\" xlink:href=\"psysml:3547be1a-4b91-4a24-a66e-ac992d912d25\" xlink:show=\"new\" xlink:title=\"psysml:3547be1a-4b91-4a24-a66e-ac992d912d25\" xlink:type=\"simple\"><rect fill=\"#FFFFFF\" height=\"109.1563\" id=\"E4\" style=\"stroke: #383838; stroke-width: 1.5;\" width=\"117\" x=\"32.5\" y=\"313\"/><text fill=\"#000000\" font-family=\"sans-serif\" font-size=\"12\" font-style=\"italic\" lengthAdjust=\"spacingAndGlyphs\" textLength=\"115\" x=\"33.5\" y=\"329.1387\">«requirement def»</text><text fill=\"#000000\" font-family=\"sans-serif\" font-size=\"12\" lengthAdjust=\"spacingAndGlyphs\" textLength=\"8\" x=\"87\" y=\"343.1074\">R</text><line style=\"stroke: #383838; stroke-width: 1.5;\" x1=\"33.5\" x2=\"148.5\" y1=\"350.9375\" y2=\"350.9375\"/><text fill=\"#000000\" font-family=\"sans-serif\" font-size=\"11\" lengthAdjust=\"spacingAndGlyphs\" textLength=\"0\" x=\"42.5\" y=\"365.1479\"/><line style=\"stroke: #383838; stroke-width: 1.0;\" x1=\"33.5\" x2=\"148.5\" y1=\"371.7422\" y2=\"371.7422\"/><text fill=\"#000000\" font-family=\"sans-serif\" font-size=\"11\" font-weight=\"bold\" lengthAdjust=\"spacingAndGlyphs\" textLength=\"46\" x=\"38.5\" y=\"402.7573\">require</text><text fill=\"#000000\" font-family=\"sans-serif\" font-size=\"11\" lengthAdjust=\"spacingAndGlyphs\" textLength=\"6\" x=\"88.5\" y=\"402.7573\">c</text><text fill=\"#000000\" font-family=\"sans-serif\" font-size=\"11\" font-style=\"italic\" lengthAdjust=\"spacingAndGlyphs\" textLength=\"46\" x=\"38.5\" y=\"415.562\">assume</text><text fill=\"#000000\" font-family=\"sans-serif\" font-size=\"11\" lengthAdjust=\"spacingAndGlyphs\" textLength=\"29\" x=\"88.5\" y=\"415.562\">c1: C</text><line style=\"stroke: #383838; stroke-width: 1.0;\" x1=\"33.5\" x2=\"59\" y1=\"386.1445\" y2=\"386.1445\"/><text fill=\"#000000\" font-family=\"sans-serif\" font-size=\"11\" lengthAdjust=\"spacingAndGlyphs\" textLength=\"64\" x=\"59\" y=\"389.4526\">constraints</text><line style=\"stroke: #383838; stroke-width: 1.0;\" x1=\"123\" x2=\"148.5\" y1=\"386.1445\" y2=\"386.1445\"/></a><!--MD5=[2156ba9850f5573cc1fc38a6a4b2f02b]\n",
       "class E7--><a href=\"psysml:5cc59123-afbd-4e9a-96fa-0bfa0b631260\" target=\"_top\" title=\"psysml:5cc59123-afbd-4e9a-96fa-0bfa0b631260\" xlink:actuate=\"onRequest\" xlink:href=\"psysml:5cc59123-afbd-4e9a-96fa-0bfa0b631260\" xlink:show=\"new\" xlink:title=\"psysml:5cc59123-afbd-4e9a-96fa-0bfa0b631260\" xlink:type=\"simple\"><rect fill=\"#FFFFFF\" height=\"45.9375\" id=\"E7\" rx=\"10\" ry=\"10\" style=\"stroke: #383838; stroke-width: 1.5;\" width=\"93\" x=\"34.5\" y=\"493.5\"/><text fill=\"#000000\" font-family=\"sans-serif\" font-size=\"12\" font-style=\"italic\" lengthAdjust=\"spacingAndGlyphs\" textLength=\"91\" x=\"35.5\" y=\"509.6387\">«requirement»</text><text fill=\"#000000\" font-family=\"sans-serif\" font-size=\"12\" lengthAdjust=\"spacingAndGlyphs\" text-decoration=\"line-through\" textLength=\"51\" x=\"55.5\" y=\"523.6074\">noname</text><line style=\"stroke: #383838; stroke-width: 1.5;\" x1=\"35.5\" x2=\"126.5\" y1=\"531.4375\" y2=\"531.4375\"/></a><!--MD5=[b9389687b975829384b498ac4b7476b2]\n",
       "class E8--><a href=\"psysml:49e593a4-f39b-4803-a2ce-02c26b916197\" target=\"_top\" title=\"psysml:49e593a4-f39b-4803-a2ce-02c26b916197\" xlink:actuate=\"onRequest\" xlink:href=\"psysml:49e593a4-f39b-4803-a2ce-02c26b916197\" xlink:show=\"new\" xlink:title=\"psysml:49e593a4-f39b-4803-a2ce-02c26b916197\" xlink:type=\"simple\"><rect fill=\"#FFFFFF\" height=\"66.7422\" id=\"E8\" style=\"stroke: #383838; stroke-width: 1.5;\" width=\"117\" x=\"162.5\" y=\"483\"/><text fill=\"#000000\" font-family=\"sans-serif\" font-size=\"12\" font-style=\"italic\" lengthAdjust=\"spacingAndGlyphs\" textLength=\"115\" x=\"163.5\" y=\"499.1387\">«requirement def»</text><text fill=\"#000000\" font-family=\"sans-serif\" font-size=\"12\" lengthAdjust=\"spacingAndGlyphs\" textLength=\"5\" x=\"208\" y=\"513.1074\">[</text><text fill=\"#000000\" font-family=\"sans-serif\" font-size=\"12\" font-weight=\"bold\" lengthAdjust=\"spacingAndGlyphs\" textLength=\"8\" x=\"213\" y=\"513.1074\">1</text><text fill=\"#000000\" font-family=\"sans-serif\" font-size=\"12\" lengthAdjust=\"spacingAndGlyphs\" textLength=\"17\" x=\"221\" y=\"513.1074\">] A</text><line style=\"stroke: #383838; stroke-width: 1.5;\" x1=\"163.5\" x2=\"278.5\" y1=\"520.9375\" y2=\"520.9375\"/><text fill=\"#000000\" font-family=\"sans-serif\" font-size=\"11\" lengthAdjust=\"spacingAndGlyphs\" textLength=\"24\" x=\"168.5\" y=\"535.1479\">Text</text><line style=\"stroke: #383838; stroke-width: 1.0;\" x1=\"163.5\" x2=\"278.5\" y1=\"541.7422\" y2=\"541.7422\"/></a><!--MD5=[fd4143e9d270a159db93a4ea2a975926]\n",
       "class E9--><a href=\"psysml:79fb73d3-867b-49b4-8196-8eb6e64f62f0\" target=\"_top\" title=\"psysml:79fb73d3-867b-49b4-8196-8eb6e64f62f0\" xlink:actuate=\"onRequest\" xlink:href=\"psysml:79fb73d3-867b-49b4-8196-8eb6e64f62f0\" xlink:show=\"new\" xlink:title=\"psysml:79fb73d3-867b-49b4-8196-8eb6e64f62f0\" xlink:type=\"simple\"><rect fill=\"#FFFFFF\" height=\"88.3516\" id=\"E9\" style=\"stroke: #383838; stroke-width: 1.5;\" width=\"145\" x=\"109.5\" y=\"41\"/><text fill=\"#000000\" font-family=\"sans-serif\" font-size=\"12\" font-style=\"italic\" lengthAdjust=\"spacingAndGlyphs\" textLength=\"115\" x=\"124.5\" y=\"57.1387\">«requirement def»</text><text fill=\"#000000\" font-family=\"sans-serif\" font-size=\"12\" lengthAdjust=\"spacingAndGlyphs\" textLength=\"16\" x=\"174\" y=\"71.1074\">R1</text><line style=\"stroke: #383838; stroke-width: 1.5;\" x1=\"110.5\" x2=\"253.5\" y1=\"78.9375\" y2=\"78.9375\"/><text fill=\"#000000\" font-family=\"sans-serif\" font-size=\"11\" font-weight=\"bold\" lengthAdjust=\"spacingAndGlyphs\" textLength=\"46\" x=\"115.5\" y=\"109.9526\">require</text><text fill=\"#000000\" font-family=\"sans-serif\" font-size=\"11\" lengthAdjust=\"spacingAndGlyphs\" textLength=\"13\" x=\"165.5\" y=\"109.9526\">c1</text><text fill=\"#000000\" font-family=\"sans-serif\" font-size=\"11\" font-style=\"italic\" lengthAdjust=\"spacingAndGlyphs\" textLength=\"133\" x=\"115.5\" y=\"122.7573\">:&gt;&gt;RequirementTest::c</text><line style=\"stroke: #383838; stroke-width: 1.0;\" x1=\"110.5\" x2=\"150\" y1=\"93.3398\" y2=\"93.3398\"/><text fill=\"#000000\" font-family=\"sans-serif\" font-size=\"11\" lengthAdjust=\"spacingAndGlyphs\" textLength=\"64\" x=\"150\" y=\"96.6479\">constraints</text><line style=\"stroke: #383838; stroke-width: 1.0;\" x1=\"214\" x2=\"253.5\" y1=\"93.3398\" y2=\"93.3398\"/></a><!--MD5=[1dd1bfd58a279cf63c5f349dbc8fc6a1]\n",
       "class E11--><a href=\"psysml:510a33c1-eff7-4e5e-90b4-a63ef5b72ae6\" target=\"_top\" title=\"psysml:510a33c1-eff7-4e5e-90b4-a63ef5b72ae6\" xlink:actuate=\"onRequest\" xlink:href=\"psysml:510a33c1-eff7-4e5e-90b4-a63ef5b72ae6\" xlink:show=\"new\" xlink:title=\"psysml:510a33c1-eff7-4e5e-90b4-a63ef5b72ae6\" xlink:type=\"simple\"><rect fill=\"#FFFFFF\" height=\"45.9375\" id=\"E11\" rx=\"10\" ry=\"10\" style=\"stroke: #383838; stroke-width: 1.5;\" width=\"42\" x=\"185\" y=\"344.5\"/><text fill=\"#000000\" font-family=\"sans-serif\" font-size=\"12\" font-style=\"italic\" lengthAdjust=\"spacingAndGlyphs\" textLength=\"40\" x=\"186\" y=\"360.6387\">«part»</text><text fill=\"#000000\" font-family=\"sans-serif\" font-size=\"12\" lengthAdjust=\"spacingAndGlyphs\" textLength=\"8\" x=\"202\" y=\"374.6074\">p</text><line style=\"stroke: #383838; stroke-width: 1.5;\" x1=\"186\" x2=\"226\" y1=\"382.4375\" y2=\"382.4375\"/></a><!--MD5=[49a0ec8f00dab7302a31f22d0f0fe584]\n",
       "class E12--><a href=\"psysml:a6cd5ff6-20a0-4014-8266-5a2f114de57c\" target=\"_top\" title=\"psysml:a6cd5ff6-20a0-4014-8266-5a2f114de57c\" xlink:actuate=\"onRequest\" xlink:href=\"psysml:a6cd5ff6-20a0-4014-8266-5a2f114de57c\" xlink:show=\"new\" xlink:title=\"psysml:a6cd5ff6-20a0-4014-8266-5a2f114de57c\" xlink:type=\"simple\"><rect fill=\"#FFFFFF\" height=\"45.9375\" id=\"E12\" rx=\"10\" ry=\"10\" style=\"stroke: #383838; stroke-width: 1.5;\" width=\"42\" x=\"32\" y=\"62\"/><text fill=\"#000000\" font-family=\"sans-serif\" font-size=\"12\" font-style=\"italic\" lengthAdjust=\"spacingAndGlyphs\" textLength=\"40\" x=\"33\" y=\"78.1387\">«part»</text><text fill=\"#000000\" font-family=\"sans-serif\" font-size=\"12\" lengthAdjust=\"spacingAndGlyphs\" textLength=\"8\" x=\"49\" y=\"92.1074\">q</text><line style=\"stroke: #383838; stroke-width: 1.5;\" x1=\"33\" x2=\"73\" y1=\"99.9375\" y2=\"99.9375\"/></a><!--MD5=[ee3c913d1a06f366521f9ef512b67efe]\n",
       "class E13--><a href=\"psysml:50b94a4a-7c4d-4845-a3da-b360d2df1f8c\" target=\"_top\" title=\"psysml:50b94a4a-7c4d-4845-a3da-b360d2df1f8c\" xlink:actuate=\"onRequest\" xlink:href=\"psysml:50b94a4a-7c4d-4845-a3da-b360d2df1f8c\" xlink:show=\"new\" xlink:title=\"psysml:50b94a4a-7c4d-4845-a3da-b360d2df1f8c\" xlink:type=\"simple\"><rect fill=\"#FFFFFF\" height=\"45.9375\" id=\"E13\" rx=\"10\" ry=\"10\" style=\"stroke: #383838; stroke-width: 1.5;\" width=\"93\" x=\"44.5\" y=\"190\"/><text fill=\"#000000\" font-family=\"sans-serif\" font-size=\"12\" font-style=\"italic\" lengthAdjust=\"spacingAndGlyphs\" textLength=\"91\" x=\"45.5\" y=\"206.1387\">«requirement»</text><text fill=\"#000000\" font-family=\"sans-serif\" font-size=\"12\" lengthAdjust=\"spacingAndGlyphs\" textLength=\"21\" x=\"80.5\" y=\"220.1074\">r: R</text><line style=\"stroke: #383838; stroke-width: 1.5;\" x1=\"45.5\" x2=\"136.5\" y1=\"227.9375\" y2=\"227.9375\"/></a><!--MD5=[05d275557350bfb9b23a4ef7222b4c39]\n",
       "link E3 to E2--><a href=\"psysml:e8229714-231f-4f2a-9005-056b1e69efb5\" target=\"_top\" title=\"psysml:e8229714-231f-4f2a-9005-056b1e69efb5\" xlink:actuate=\"onRequest\" xlink:href=\"psysml:e8229714-231f-4f2a-9005-056b1e69efb5\" xlink:show=\"new\" xlink:title=\"psysml:e8229714-231f-4f2a-9005-056b1e69efb5\" xlink:type=\"simple\"><path d=\"M327.88,108.24 C326.26,125.24 323.98,149.19 322.02,169.79 \" fill=\"none\" id=\"E3-&gt;E2\" style=\"stroke: #383838; stroke-width: 1.0;\"/><polygon fill=\"#FFFFFF\" points=\"320.1,189.99,314.9362,170.411,328.8729,171.7407,320.1,189.99\" style=\"stroke: #383838; stroke-width: 1.0;\"/><ellipse cx=\"317.4685\" cy=\"164.9268\" fill=\"#383838\" rx=\"2\" ry=\"2\" style=\"stroke: #383838; stroke-width: 1.0;\"/><ellipse cx=\"327.4233\" cy=\"165.8765\" fill=\"#383838\" rx=\"2\" ry=\"2\" style=\"stroke: #383838; stroke-width: 1.0;\"/></a><!--MD5=[722ff4eef345aa10242dad44df0e98c7]\n",
       "reverse link E4 to E7--><a href=\"psysml:eafce8af-10f9-4af7-9431-7513cc7d3347\" target=\"_top\" title=\"psysml:eafce8af-10f9-4af7-9431-7513cc7d3347\" xlink:actuate=\"onRequest\" xlink:href=\"psysml:eafce8af-10f9-4af7-9431-7513cc7d3347\" xlink:show=\"new\" xlink:title=\"psysml:eafce8af-10f9-4af7-9431-7513cc7d3347\" xlink:type=\"simple\"><path d=\"M86.44,435.59 C85.02,456.46 83.55,478.02 82.5,493.48 \" fill=\"none\" id=\"E4&lt;-E7\" style=\"stroke: #383838; stroke-width: 1.0;\"/><polygon fill=\"#383838\" points=\"87.33,422.4,82.9306,428.1136,86.5125,434.3721,90.912,428.6586,87.33,422.4\" style=\"stroke: #383838; stroke-width: 1.0;\"/></a><!--MD5=[c6fc7cdb0cabde04948078cf183fa696]\n",
       "reverse link E4 to E8--><a href=\"psysml:a0130814-5dc8-48af-af1a-9e985463643e\" target=\"_top\" title=\"psysml:a0130814-5dc8-48af-af1a-9e985463643e\" xlink:actuate=\"onRequest\" xlink:href=\"psysml:a0130814-5dc8-48af-af1a-9e985463643e\" xlink:show=\"new\" xlink:title=\"psysml:a0130814-5dc8-48af-af1a-9e985463643e\" xlink:type=\"simple\"><path d=\"M148.94,434.02 C163.95,450.99 179.47,468.53 192.24,482.98 \" fill=\"none\" id=\"E4&lt;-E8\" style=\"stroke: #383838; stroke-width: 1.0;\"/><ellipse cx=\"143.9698\" cy=\"428.3927\" fill=\"#FFFFFF\" rx=\"8\" ry=\"8\" style=\"stroke: #383838; stroke-width: 1.0;\"/><line style=\"stroke: #383838; stroke-width: 1.0;\" x1=\"149.2695\" x2=\"138.67\" y1=\"434.3854\" y2=\"422.4\"/><line style=\"stroke: #383838; stroke-width: 1.0;\" x1=\"137.9771\" x2=\"149.9625\" y1=\"433.6925\" y2=\"423.0929\"/></a><!--MD5=[062ed86c389d1a88f61c6380d0491e17]\n",
       "reverse link E12 to E13--><a href=\"psysml:044b978f-2385-4425-992f-2d75b645c055\" target=\"_top\" title=\"psysml:044b978f-2385-4425-992f-2d75b645c055\" xlink:actuate=\"onRequest\" xlink:href=\"psysml:044b978f-2385-4425-992f-2d75b645c055\" xlink:show=\"new\" xlink:title=\"psysml:044b978f-2385-4425-992f-2d75b645c055\" xlink:type=\"simple\"><path d=\"M63.49,120.8 C70.17,142.92 78.6,170.89 84.36,189.99 \" fill=\"none\" id=\"E12&lt;-E13\" style=\"stroke: #383838; stroke-width: 1.0;\"/><polygon fill=\"#383838\" points=\"59.71,108.24,57.6129,115.1394,63.1751,119.7288,65.2722,112.8294,59.71,108.24\" style=\"stroke: #383838; stroke-width: 1.0;\"/></a><!--MD5=[017847e01ff9a8bd19f247411074f987]\n",
       "link E13 to E4--><a href=\"psysml:279d9c9b-21cb-4076-8967-339bf6a79b4c\" target=\"_top\" title=\"psysml:279d9c9b-21cb-4076-8967-339bf6a79b4c\" xlink:actuate=\"onRequest\" xlink:href=\"psysml:279d9c9b-21cb-4076-8967-339bf6a79b4c\" xlink:show=\"new\" xlink:title=\"psysml:279d9c9b-21cb-4076-8967-339bf6a79b4c\" xlink:type=\"simple\"><path d=\"M91,236.17 C91,251.17 91,271.91 91,292.44 \" fill=\"none\" id=\"E13-&gt;E4\" style=\"stroke: #383838; stroke-width: 1.0;\"/><polygon fill=\"#FFFFFF\" points=\"91,312.68,84,293.68,98,293.68,91,312.68\" style=\"stroke: #383838; stroke-width: 1.0;\"/><ellipse cx=\"86\" cy=\"287.98\" fill=\"#383838\" rx=\"2\" ry=\"2\" style=\"stroke: #383838; stroke-width: 1.0;\"/><ellipse cx=\"96\" cy=\"287.98\" fill=\"#383838\" rx=\"2\" ry=\"2\" style=\"stroke: #383838; stroke-width: 1.0;\"/></a><!--MD5=[2cfe899c895462254056921bfb67315f]\n",
       "link E13 to E11--><a href=\"psysml:fcf36e7c-2665-4a1d-8cf4-6fcc5b08ef04\" target=\"_top\" title=\"psysml:fcf36e7c-2665-4a1d-8cf4-6fcc5b08ef04\" xlink:actuate=\"onRequest\" xlink:href=\"psysml:fcf36e7c-2665-4a1d-8cf4-6fcc5b08ef04\" xlink:show=\"new\" xlink:title=\"psysml:fcf36e7c-2665-4a1d-8cf4-6fcc5b08ef04\" xlink:type=\"simple\"><path d=\"M108.36,236.29 C123.87,256.28 147.14,286.45 167,313 C173.57,321.78 180.66,331.44 186.97,340.12 \" fill=\"none\" id=\"E13-&gt;E11\" style=\"stroke: #383838; stroke-width: 1.0; stroke-dasharray: 7.0,7.0;\"/><polygon fill=\"#383838\" points=\"189.99,344.28,187.9274,334.6496,187.0474,340.2376,181.4594,339.3576,189.99,344.28\" style=\"stroke: #383838; stroke-width: 1.0;\"/><text fill=\"#000000\" font-family=\"sans-serif\" font-size=\"13\" lengthAdjust=\"spacingAndGlyphs\" textLength=\"57\" x=\"145\" y=\"279.0669\">«satisfy»</text></a><!--MD5=[106e978ce3b3c6b6d14da7be7320ccbd]\n",
       "@startuml\r\n",
       "top to bottom direction\r\n",
       "skinparam monochrome true\r\n",
       "skinparam classbackgroundcolor white\r\n",
       "skinparam shadowing false\r\n",
       "skinparam wrapWidth 300\r\n",
       "hide circle\r\n",
       "\r\n",
       "package \"RequirementTest\" as E1  [[psysml:f822a5b9-f637-4bfc-9356-d45755be39c3 ]]  {\r\n",
       "comp def \"C\" as E2  <<(T,blue)constraint def>> [[psysml:55e0c843-cabd-4238-9430-5e5ddb37e322 ]] {\r\n",
       "}\r\n",
       "comp usage \"c: C\" as E3  <<(T,blue)constraint>> [[psysml:943270d7-f648-4f2b-99ed-798f0a01be75 ]] {\r\n",
       "}\r\n",
       "comp def \"R\" as E4  <<(T,blue)requirement def>> [[psysml:3547be1a-4b91-4a24-a66e-ac992d912d25 ]] {\r\n",
       "\r\n",
       "- -\r\n",
       "- - constraints - -\r\n",
       "<b>require</b> c\r\n",
       "<i>assume</i> c1: C\r\n",
       "}\r\n",
       "comp usage \"<s>noname</s>\" as E7  <<(T,blue)requirement>> [[psysml:5cc59123-afbd-4e9a-96fa-0bfa0b631260 ]] {\r\n",
       "}\r\n",
       "comp def \" [<b>1</b>] A\" as E8  <<(T,blue)requirement def>> [[psysml:49e593a4-f39b-4803-a2ce-02c26b916197 ]] {\r\n",
       "Text\r\n",
       "- -\r\n",
       "}\r\n",
       "comp def \"R1\" as E9  <<(T,blue)requirement def>> [[psysml:79fb73d3-867b-49b4-8196-8eb6e64f62f0 ]] {\r\n",
       "- - constraints - -\r\n",
       "<b>require</b> c1\\n//:>>RequirementTest::c// \r\n",
       "}\r\n",
       "comp usage \"p\" as E11  <<(T,blue)part>> [[psysml:510a33c1-eff7-4e5e-90b4-a63ef5b72ae6 ]] {\r\n",
       "}\r\n",
       "comp usage \"q\" as E12  <<(T,blue)part>> [[psysml:a6cd5ff6-20a0-4014-8266-5a2f114de57c ]] {\r\n",
       "}\r\n",
       "comp usage \"r: R\" as E13  <<(T,blue)requirement>> [[psysml:50b94a4a-7c4d-4845-a3da-b360d2df1f8c ]] {\r\n",
       "}\r\n",
       "E3 - -:|> E2 [[psysml:e8229714-231f-4f2a-9005-056b1e69efb5 ]] \r\n",
       "E4 *- - E7 [[psysml:eafce8af-10f9-4af7-9431-7513cc7d3347 ]] \r\n",
       "E4 +- - E8 [[psysml:a0130814-5dc8-48af-af1a-9e985463643e ]] \r\n",
       "E12 *- - E13 [[psysml:044b978f-2385-4425-992f-2d75b645c055 ]] \r\n",
       "E13 - -:|> E4 [[psysml:279d9c9b-21cb-4076-8967-339bf6a79b4c ]] \r\n",
       "E13 ..> E11 [[psysml:fcf36e7c-2665-4a1d-8cf4-6fcc5b08ef04 ]] : <<satisfy>>\r\n",
       "}\r\n",
       "@enduml\r\n",
       "\n",
       "PlantUML version 1.2020.13(Sat Jun 13 12:26:38 UTC 2020)\n",
       "(EPL source distribution)\n",
       "Java Runtime: OpenJDK Runtime Environment\n",
       "JVM: OpenJDK 64-Bit Server VM\n",
       "Default Encoding: UTF-8\n",
       "Language: en\n",
       "Country: null\n",
       "--></g></svg>"
      ]
     },
     "execution_count": 44,
     "metadata": {},
     "output_type": "execute_result"
    }
   ],
   "source": [
    "%viz --style=\"TB\" --view=\"Default\" \"RequirementTest\""
   ]
  },
  {
   "cell_type": "code",
   "execution_count": 45,
   "id": "45b31319",
   "metadata": {
    "execution": {
     "iopub.execute_input": "2021-04-21T20:21:31.837134Z",
     "iopub.status.busy": "2021-04-21T20:21:31.836722Z",
     "iopub.status.idle": "2021-04-21T20:21:31.936024Z",
     "shell.execute_reply": "2021-04-21T20:21:31.933812Z"
    }
   },
   "outputs": [
    {
     "data": {
      "image/svg+xml": [
       "<?xml version=\"1.0\" encoding=\"UTF-8\" standalone=\"no\"?><svg xmlns=\"http://www.w3.org/2000/svg\" xmlns:xlink=\"http://www.w3.org/1999/xlink\" contentScriptType=\"application/ecmascript\" contentStyleType=\"text/css\" height=\"578px\" preserveAspectRatio=\"none\" style=\"width:408px;height:578px;\" version=\"1.1\" viewBox=\"0 0 408 578\" width=\"408px\" zoomAndPan=\"magnify\"><defs/><g><!--MD5=[fbc87193dbaf4d95561dea2c320d4a47]\n",
       "cluster E1--><a href=\"psysml:f822a5b9-f637-4bfc-9356-d45755be39c3\" target=\"_top\" title=\"psysml:f822a5b9-f637-4bfc-9356-d45755be39c3\" xlink:actuate=\"onRequest\" xlink:href=\"psysml:f822a5b9-f637-4bfc-9356-d45755be39c3\" xlink:show=\"new\" xlink:title=\"psysml:f822a5b9-f637-4bfc-9356-d45755be39c3\" xlink:type=\"simple\"><polygon fill=\"#FFFFFF\" points=\"16,6,158,6,165,28.2969,386,28.2969,386,566,16,566,16,6\" style=\"stroke: #000000; stroke-width: 1.5;\"/><line style=\"stroke: #000000; stroke-width: 1.5;\" x1=\"16\" x2=\"165\" y1=\"28.2969\" y2=\"28.2969\"/><text fill=\"#000000\" font-family=\"sans-serif\" font-size=\"14\" font-weight=\"bold\" lengthAdjust=\"spacingAndGlyphs\" textLength=\"136\" x=\"20\" y=\"20.9951\">RequirementTest</text></a><!--MD5=[b4997ac47864f28c2f74865a473b2911]\n",
       "class E2--><a href=\"psysml:55e0c843-cabd-4238-9430-5e5ddb37e322\" target=\"_top\" title=\"psysml:55e0c843-cabd-4238-9430-5e5ddb37e322\" xlink:actuate=\"onRequest\" xlink:href=\"psysml:55e0c843-cabd-4238-9430-5e5ddb37e322\" xlink:show=\"new\" xlink:title=\"psysml:55e0c843-cabd-4238-9430-5e5ddb37e322\" xlink:type=\"simple\"><rect fill=\"#FFFFFF\" height=\"45.9375\" id=\"E2\" style=\"stroke: #383838; stroke-width: 1.5;\" width=\"104\" x=\"266\" y=\"190\"/><text fill=\"#000000\" font-family=\"sans-serif\" font-size=\"12\" font-style=\"italic\" lengthAdjust=\"spacingAndGlyphs\" textLength=\"102\" x=\"267\" y=\"206.1387\">«constraint def»</text><text fill=\"#000000\" font-family=\"sans-serif\" font-size=\"12\" lengthAdjust=\"spacingAndGlyphs\" textLength=\"8\" x=\"314\" y=\"220.1074\">C</text><line style=\"stroke: #383838; stroke-width: 1.5;\" x1=\"267\" x2=\"369\" y1=\"227.9375\" y2=\"227.9375\"/></a><!--MD5=[09b614a08d8cba4a07c9adeb5e0fee81]\n",
       "class E3--><a href=\"psysml:943270d7-f648-4f2b-99ed-798f0a01be75\" target=\"_top\" title=\"psysml:943270d7-f648-4f2b-99ed-798f0a01be75\" xlink:actuate=\"onRequest\" xlink:href=\"psysml:943270d7-f648-4f2b-99ed-798f0a01be75\" xlink:show=\"new\" xlink:title=\"psysml:943270d7-f648-4f2b-99ed-798f0a01be75\" xlink:type=\"simple\"><rect fill=\"#FFFFFF\" height=\"45.9375\" id=\"E3\" rx=\"10\" ry=\"10\" style=\"stroke: #383838; stroke-width: 1.5;\" width=\"80\" x=\"290\" y=\"62\"/><text fill=\"#000000\" font-family=\"sans-serif\" font-size=\"12\" font-style=\"italic\" lengthAdjust=\"spacingAndGlyphs\" textLength=\"78\" x=\"291\" y=\"78.1387\">«constraint»</text><text fill=\"#000000\" font-family=\"sans-serif\" font-size=\"12\" lengthAdjust=\"spacingAndGlyphs\" textLength=\"23\" x=\"318.5\" y=\"92.1074\">c: C</text><line style=\"stroke: #383838; stroke-width: 1.5;\" x1=\"291\" x2=\"369\" y1=\"99.9375\" y2=\"99.9375\"/></a><!--MD5=[ebbe1d658d1005bcc118a6aa81145e00]\n",
       "class E4--><a href=\"psysml:3547be1a-4b91-4a24-a66e-ac992d912d25\" target=\"_top\" title=\"psysml:3547be1a-4b91-4a24-a66e-ac992d912d25\" xlink:actuate=\"onRequest\" xlink:href=\"psysml:3547be1a-4b91-4a24-a66e-ac992d912d25\" xlink:show=\"new\" xlink:title=\"psysml:3547be1a-4b91-4a24-a66e-ac992d912d25\" xlink:type=\"simple\"><rect fill=\"#FFFFFF\" height=\"109.1563\" id=\"E4\" style=\"stroke: #383838; stroke-width: 1.5;\" width=\"117\" x=\"32.5\" y=\"313\"/><text fill=\"#000000\" font-family=\"sans-serif\" font-size=\"12\" font-style=\"italic\" lengthAdjust=\"spacingAndGlyphs\" textLength=\"115\" x=\"33.5\" y=\"329.1387\">«requirement def»</text><text fill=\"#000000\" font-family=\"sans-serif\" font-size=\"12\" lengthAdjust=\"spacingAndGlyphs\" textLength=\"8\" x=\"87\" y=\"343.1074\">R</text><line style=\"stroke: #383838; stroke-width: 1.5;\" x1=\"33.5\" x2=\"148.5\" y1=\"350.9375\" y2=\"350.9375\"/><text fill=\"#000000\" font-family=\"sans-serif\" font-size=\"11\" lengthAdjust=\"spacingAndGlyphs\" textLength=\"0\" x=\"42.5\" y=\"365.1479\"/><line style=\"stroke: #383838; stroke-width: 1.0;\" x1=\"33.5\" x2=\"148.5\" y1=\"371.7422\" y2=\"371.7422\"/><text fill=\"#000000\" font-family=\"sans-serif\" font-size=\"11\" font-weight=\"bold\" lengthAdjust=\"spacingAndGlyphs\" textLength=\"46\" x=\"38.5\" y=\"402.7573\">require</text><text fill=\"#000000\" font-family=\"sans-serif\" font-size=\"11\" lengthAdjust=\"spacingAndGlyphs\" textLength=\"6\" x=\"88.5\" y=\"402.7573\">c</text><text fill=\"#000000\" font-family=\"sans-serif\" font-size=\"11\" font-style=\"italic\" lengthAdjust=\"spacingAndGlyphs\" textLength=\"46\" x=\"38.5\" y=\"415.562\">assume</text><text fill=\"#000000\" font-family=\"sans-serif\" font-size=\"11\" lengthAdjust=\"spacingAndGlyphs\" textLength=\"29\" x=\"88.5\" y=\"415.562\">c1: C</text><line style=\"stroke: #383838; stroke-width: 1.0;\" x1=\"33.5\" x2=\"59\" y1=\"386.1445\" y2=\"386.1445\"/><text fill=\"#000000\" font-family=\"sans-serif\" font-size=\"11\" lengthAdjust=\"spacingAndGlyphs\" textLength=\"64\" x=\"59\" y=\"389.4526\">constraints</text><line style=\"stroke: #383838; stroke-width: 1.0;\" x1=\"123\" x2=\"148.5\" y1=\"386.1445\" y2=\"386.1445\"/></a><!--MD5=[2156ba9850f5573cc1fc38a6a4b2f02b]\n",
       "class E7--><a href=\"psysml:5cc59123-afbd-4e9a-96fa-0bfa0b631260\" target=\"_top\" title=\"psysml:5cc59123-afbd-4e9a-96fa-0bfa0b631260\" xlink:actuate=\"onRequest\" xlink:href=\"psysml:5cc59123-afbd-4e9a-96fa-0bfa0b631260\" xlink:show=\"new\" xlink:title=\"psysml:5cc59123-afbd-4e9a-96fa-0bfa0b631260\" xlink:type=\"simple\"><rect fill=\"#FFFFFF\" height=\"45.9375\" id=\"E7\" rx=\"10\" ry=\"10\" style=\"stroke: #383838; stroke-width: 1.5;\" width=\"93\" x=\"34.5\" y=\"493.5\"/><text fill=\"#000000\" font-family=\"sans-serif\" font-size=\"12\" font-style=\"italic\" lengthAdjust=\"spacingAndGlyphs\" textLength=\"91\" x=\"35.5\" y=\"509.6387\">«requirement»</text><text fill=\"#000000\" font-family=\"sans-serif\" font-size=\"12\" lengthAdjust=\"spacingAndGlyphs\" text-decoration=\"line-through\" textLength=\"51\" x=\"55.5\" y=\"523.6074\">noname</text><line style=\"stroke: #383838; stroke-width: 1.5;\" x1=\"35.5\" x2=\"126.5\" y1=\"531.4375\" y2=\"531.4375\"/></a><!--MD5=[b9389687b975829384b498ac4b7476b2]\n",
       "class E8--><a href=\"psysml:49e593a4-f39b-4803-a2ce-02c26b916197\" target=\"_top\" title=\"psysml:49e593a4-f39b-4803-a2ce-02c26b916197\" xlink:actuate=\"onRequest\" xlink:href=\"psysml:49e593a4-f39b-4803-a2ce-02c26b916197\" xlink:show=\"new\" xlink:title=\"psysml:49e593a4-f39b-4803-a2ce-02c26b916197\" xlink:type=\"simple\"><rect fill=\"#FFFFFF\" height=\"66.7422\" id=\"E8\" style=\"stroke: #383838; stroke-width: 1.5;\" width=\"117\" x=\"162.5\" y=\"483\"/><text fill=\"#000000\" font-family=\"sans-serif\" font-size=\"12\" font-style=\"italic\" lengthAdjust=\"spacingAndGlyphs\" textLength=\"115\" x=\"163.5\" y=\"499.1387\">«requirement def»</text><text fill=\"#000000\" font-family=\"sans-serif\" font-size=\"12\" lengthAdjust=\"spacingAndGlyphs\" textLength=\"5\" x=\"208\" y=\"513.1074\">[</text><text fill=\"#000000\" font-family=\"sans-serif\" font-size=\"12\" font-weight=\"bold\" lengthAdjust=\"spacingAndGlyphs\" textLength=\"8\" x=\"213\" y=\"513.1074\">1</text><text fill=\"#000000\" font-family=\"sans-serif\" font-size=\"12\" lengthAdjust=\"spacingAndGlyphs\" textLength=\"17\" x=\"221\" y=\"513.1074\">] A</text><line style=\"stroke: #383838; stroke-width: 1.5;\" x1=\"163.5\" x2=\"278.5\" y1=\"520.9375\" y2=\"520.9375\"/><text fill=\"#000000\" font-family=\"sans-serif\" font-size=\"11\" lengthAdjust=\"spacingAndGlyphs\" textLength=\"24\" x=\"168.5\" y=\"535.1479\">Text</text><line style=\"stroke: #383838; stroke-width: 1.0;\" x1=\"163.5\" x2=\"278.5\" y1=\"541.7422\" y2=\"541.7422\"/></a><!--MD5=[fd4143e9d270a159db93a4ea2a975926]\n",
       "class E9--><a href=\"psysml:79fb73d3-867b-49b4-8196-8eb6e64f62f0\" target=\"_top\" title=\"psysml:79fb73d3-867b-49b4-8196-8eb6e64f62f0\" xlink:actuate=\"onRequest\" xlink:href=\"psysml:79fb73d3-867b-49b4-8196-8eb6e64f62f0\" xlink:show=\"new\" xlink:title=\"psysml:79fb73d3-867b-49b4-8196-8eb6e64f62f0\" xlink:type=\"simple\"><rect fill=\"#FFFFFF\" height=\"88.3516\" id=\"E9\" style=\"stroke: #383838; stroke-width: 1.5;\" width=\"145\" x=\"109.5\" y=\"41\"/><text fill=\"#000000\" font-family=\"sans-serif\" font-size=\"12\" font-style=\"italic\" lengthAdjust=\"spacingAndGlyphs\" textLength=\"115\" x=\"124.5\" y=\"57.1387\">«requirement def»</text><text fill=\"#000000\" font-family=\"sans-serif\" font-size=\"12\" lengthAdjust=\"spacingAndGlyphs\" textLength=\"16\" x=\"174\" y=\"71.1074\">R1</text><line style=\"stroke: #383838; stroke-width: 1.5;\" x1=\"110.5\" x2=\"253.5\" y1=\"78.9375\" y2=\"78.9375\"/><text fill=\"#000000\" font-family=\"sans-serif\" font-size=\"11\" font-weight=\"bold\" lengthAdjust=\"spacingAndGlyphs\" textLength=\"46\" x=\"115.5\" y=\"109.9526\">require</text><text fill=\"#000000\" font-family=\"sans-serif\" font-size=\"11\" lengthAdjust=\"spacingAndGlyphs\" textLength=\"13\" x=\"165.5\" y=\"109.9526\">c1</text><text fill=\"#000000\" font-family=\"sans-serif\" font-size=\"11\" font-style=\"italic\" lengthAdjust=\"spacingAndGlyphs\" textLength=\"133\" x=\"115.5\" y=\"122.7573\">:&gt;&gt;RequirementTest::c</text><line style=\"stroke: #383838; stroke-width: 1.0;\" x1=\"110.5\" x2=\"150\" y1=\"93.3398\" y2=\"93.3398\"/><text fill=\"#000000\" font-family=\"sans-serif\" font-size=\"11\" lengthAdjust=\"spacingAndGlyphs\" textLength=\"64\" x=\"150\" y=\"96.6479\">constraints</text><line style=\"stroke: #383838; stroke-width: 1.0;\" x1=\"214\" x2=\"253.5\" y1=\"93.3398\" y2=\"93.3398\"/></a><!--MD5=[1dd1bfd58a279cf63c5f349dbc8fc6a1]\n",
       "class E11--><a href=\"psysml:510a33c1-eff7-4e5e-90b4-a63ef5b72ae6\" target=\"_top\" title=\"psysml:510a33c1-eff7-4e5e-90b4-a63ef5b72ae6\" xlink:actuate=\"onRequest\" xlink:href=\"psysml:510a33c1-eff7-4e5e-90b4-a63ef5b72ae6\" xlink:show=\"new\" xlink:title=\"psysml:510a33c1-eff7-4e5e-90b4-a63ef5b72ae6\" xlink:type=\"simple\"><rect fill=\"#FFFFFF\" height=\"45.9375\" id=\"E11\" rx=\"10\" ry=\"10\" style=\"stroke: #383838; stroke-width: 1.5;\" width=\"42\" x=\"185\" y=\"344.5\"/><text fill=\"#000000\" font-family=\"sans-serif\" font-size=\"12\" font-style=\"italic\" lengthAdjust=\"spacingAndGlyphs\" textLength=\"40\" x=\"186\" y=\"360.6387\">«part»</text><text fill=\"#000000\" font-family=\"sans-serif\" font-size=\"12\" lengthAdjust=\"spacingAndGlyphs\" textLength=\"8\" x=\"202\" y=\"374.6074\">p</text><line style=\"stroke: #383838; stroke-width: 1.5;\" x1=\"186\" x2=\"226\" y1=\"382.4375\" y2=\"382.4375\"/></a><!--MD5=[49a0ec8f00dab7302a31f22d0f0fe584]\n",
       "class E12--><a href=\"psysml:a6cd5ff6-20a0-4014-8266-5a2f114de57c\" target=\"_top\" title=\"psysml:a6cd5ff6-20a0-4014-8266-5a2f114de57c\" xlink:actuate=\"onRequest\" xlink:href=\"psysml:a6cd5ff6-20a0-4014-8266-5a2f114de57c\" xlink:show=\"new\" xlink:title=\"psysml:a6cd5ff6-20a0-4014-8266-5a2f114de57c\" xlink:type=\"simple\"><rect fill=\"#FFFFFF\" height=\"45.9375\" id=\"E12\" rx=\"10\" ry=\"10\" style=\"stroke: #383838; stroke-width: 1.5;\" width=\"42\" x=\"32\" y=\"62\"/><text fill=\"#000000\" font-family=\"sans-serif\" font-size=\"12\" font-style=\"italic\" lengthAdjust=\"spacingAndGlyphs\" textLength=\"40\" x=\"33\" y=\"78.1387\">«part»</text><text fill=\"#000000\" font-family=\"sans-serif\" font-size=\"12\" lengthAdjust=\"spacingAndGlyphs\" textLength=\"8\" x=\"49\" y=\"92.1074\">q</text><line style=\"stroke: #383838; stroke-width: 1.5;\" x1=\"33\" x2=\"73\" y1=\"99.9375\" y2=\"99.9375\"/></a><!--MD5=[ee3c913d1a06f366521f9ef512b67efe]\n",
       "class E13--><a href=\"psysml:50b94a4a-7c4d-4845-a3da-b360d2df1f8c\" target=\"_top\" title=\"psysml:50b94a4a-7c4d-4845-a3da-b360d2df1f8c\" xlink:actuate=\"onRequest\" xlink:href=\"psysml:50b94a4a-7c4d-4845-a3da-b360d2df1f8c\" xlink:show=\"new\" xlink:title=\"psysml:50b94a4a-7c4d-4845-a3da-b360d2df1f8c\" xlink:type=\"simple\"><rect fill=\"#FFFFFF\" height=\"45.9375\" id=\"E13\" rx=\"10\" ry=\"10\" style=\"stroke: #383838; stroke-width: 1.5;\" width=\"93\" x=\"44.5\" y=\"190\"/><text fill=\"#000000\" font-family=\"sans-serif\" font-size=\"12\" font-style=\"italic\" lengthAdjust=\"spacingAndGlyphs\" textLength=\"91\" x=\"45.5\" y=\"206.1387\">«requirement»</text><text fill=\"#000000\" font-family=\"sans-serif\" font-size=\"12\" lengthAdjust=\"spacingAndGlyphs\" textLength=\"21\" x=\"80.5\" y=\"220.1074\">r: R</text><line style=\"stroke: #383838; stroke-width: 1.5;\" x1=\"45.5\" x2=\"136.5\" y1=\"227.9375\" y2=\"227.9375\"/></a><!--MD5=[05d275557350bfb9b23a4ef7222b4c39]\n",
       "link E3 to E2--><a href=\"psysml:e8229714-231f-4f2a-9005-056b1e69efb5\" target=\"_top\" title=\"psysml:e8229714-231f-4f2a-9005-056b1e69efb5\" xlink:actuate=\"onRequest\" xlink:href=\"psysml:e8229714-231f-4f2a-9005-056b1e69efb5\" xlink:show=\"new\" xlink:title=\"psysml:e8229714-231f-4f2a-9005-056b1e69efb5\" xlink:type=\"simple\"><path d=\"M327.88,108.24 C326.26,125.24 323.98,149.19 322.02,169.79 \" fill=\"none\" id=\"E3-&gt;E2\" style=\"stroke: #383838; stroke-width: 1.0;\"/><polygon fill=\"#FFFFFF\" points=\"320.1,189.99,314.9362,170.411,328.8729,171.7407,320.1,189.99\" style=\"stroke: #383838; stroke-width: 1.0;\"/><ellipse cx=\"317.4685\" cy=\"164.9268\" fill=\"#383838\" rx=\"2\" ry=\"2\" style=\"stroke: #383838; stroke-width: 1.0;\"/><ellipse cx=\"327.4233\" cy=\"165.8765\" fill=\"#383838\" rx=\"2\" ry=\"2\" style=\"stroke: #383838; stroke-width: 1.0;\"/></a><!--MD5=[722ff4eef345aa10242dad44df0e98c7]\n",
       "reverse link E4 to E7--><a href=\"psysml:eafce8af-10f9-4af7-9431-7513cc7d3347\" target=\"_top\" title=\"psysml:eafce8af-10f9-4af7-9431-7513cc7d3347\" xlink:actuate=\"onRequest\" xlink:href=\"psysml:eafce8af-10f9-4af7-9431-7513cc7d3347\" xlink:show=\"new\" xlink:title=\"psysml:eafce8af-10f9-4af7-9431-7513cc7d3347\" xlink:type=\"simple\"><path d=\"M86.44,435.59 C85.02,456.46 83.55,478.02 82.5,493.48 \" fill=\"none\" id=\"E4&lt;-E7\" style=\"stroke: #383838; stroke-width: 1.0;\"/><polygon fill=\"#383838\" points=\"87.33,422.4,82.9306,428.1136,86.5125,434.3721,90.912,428.6586,87.33,422.4\" style=\"stroke: #383838; stroke-width: 1.0;\"/></a><!--MD5=[c6fc7cdb0cabde04948078cf183fa696]\n",
       "reverse link E4 to E8--><a href=\"psysml:a0130814-5dc8-48af-af1a-9e985463643e\" target=\"_top\" title=\"psysml:a0130814-5dc8-48af-af1a-9e985463643e\" xlink:actuate=\"onRequest\" xlink:href=\"psysml:a0130814-5dc8-48af-af1a-9e985463643e\" xlink:show=\"new\" xlink:title=\"psysml:a0130814-5dc8-48af-af1a-9e985463643e\" xlink:type=\"simple\"><path d=\"M148.94,434.02 C163.95,450.99 179.47,468.53 192.24,482.98 \" fill=\"none\" id=\"E4&lt;-E8\" style=\"stroke: #383838; stroke-width: 1.0;\"/><ellipse cx=\"143.9698\" cy=\"428.3927\" fill=\"#FFFFFF\" rx=\"8\" ry=\"8\" style=\"stroke: #383838; stroke-width: 1.0;\"/><line style=\"stroke: #383838; stroke-width: 1.0;\" x1=\"149.2695\" x2=\"138.67\" y1=\"434.3854\" y2=\"422.4\"/><line style=\"stroke: #383838; stroke-width: 1.0;\" x1=\"137.9771\" x2=\"149.9625\" y1=\"433.6925\" y2=\"423.0929\"/></a><!--MD5=[062ed86c389d1a88f61c6380d0491e17]\n",
       "reverse link E12 to E13--><a href=\"psysml:044b978f-2385-4425-992f-2d75b645c055\" target=\"_top\" title=\"psysml:044b978f-2385-4425-992f-2d75b645c055\" xlink:actuate=\"onRequest\" xlink:href=\"psysml:044b978f-2385-4425-992f-2d75b645c055\" xlink:show=\"new\" xlink:title=\"psysml:044b978f-2385-4425-992f-2d75b645c055\" xlink:type=\"simple\"><path d=\"M63.49,120.8 C70.17,142.92 78.6,170.89 84.36,189.99 \" fill=\"none\" id=\"E12&lt;-E13\" style=\"stroke: #383838; stroke-width: 1.0;\"/><polygon fill=\"#383838\" points=\"59.71,108.24,57.6129,115.1394,63.1751,119.7288,65.2722,112.8294,59.71,108.24\" style=\"stroke: #383838; stroke-width: 1.0;\"/></a><!--MD5=[017847e01ff9a8bd19f247411074f987]\n",
       "link E13 to E4--><a href=\"psysml:279d9c9b-21cb-4076-8967-339bf6a79b4c\" target=\"_top\" title=\"psysml:279d9c9b-21cb-4076-8967-339bf6a79b4c\" xlink:actuate=\"onRequest\" xlink:href=\"psysml:279d9c9b-21cb-4076-8967-339bf6a79b4c\" xlink:show=\"new\" xlink:title=\"psysml:279d9c9b-21cb-4076-8967-339bf6a79b4c\" xlink:type=\"simple\"><path d=\"M91,236.17 C91,251.17 91,271.91 91,292.44 \" fill=\"none\" id=\"E13-&gt;E4\" style=\"stroke: #383838; stroke-width: 1.0;\"/><polygon fill=\"#FFFFFF\" points=\"91,312.68,84,293.68,98,293.68,91,312.68\" style=\"stroke: #383838; stroke-width: 1.0;\"/><ellipse cx=\"86\" cy=\"287.98\" fill=\"#383838\" rx=\"2\" ry=\"2\" style=\"stroke: #383838; stroke-width: 1.0;\"/><ellipse cx=\"96\" cy=\"287.98\" fill=\"#383838\" rx=\"2\" ry=\"2\" style=\"stroke: #383838; stroke-width: 1.0;\"/></a><!--MD5=[2cfe899c895462254056921bfb67315f]\n",
       "link E13 to E11--><a href=\"psysml:fcf36e7c-2665-4a1d-8cf4-6fcc5b08ef04\" target=\"_top\" title=\"psysml:fcf36e7c-2665-4a1d-8cf4-6fcc5b08ef04\" xlink:actuate=\"onRequest\" xlink:href=\"psysml:fcf36e7c-2665-4a1d-8cf4-6fcc5b08ef04\" xlink:show=\"new\" xlink:title=\"psysml:fcf36e7c-2665-4a1d-8cf4-6fcc5b08ef04\" xlink:type=\"simple\"><path d=\"M108.36,236.29 C123.87,256.28 147.14,286.45 167,313 C173.57,321.78 180.66,331.44 186.97,340.12 \" fill=\"none\" id=\"E13-&gt;E11\" style=\"stroke: #383838; stroke-width: 1.0; stroke-dasharray: 7.0,7.0;\"/><polygon fill=\"#383838\" points=\"189.99,344.28,187.9274,334.6496,187.0474,340.2376,181.4594,339.3576,189.99,344.28\" style=\"stroke: #383838; stroke-width: 1.0;\"/><text fill=\"#000000\" font-family=\"sans-serif\" font-size=\"13\" lengthAdjust=\"spacingAndGlyphs\" textLength=\"57\" x=\"145\" y=\"279.0669\">«satisfy»</text></a><!--MD5=[106e978ce3b3c6b6d14da7be7320ccbd]\n",
       "@startuml\r\n",
       "top to bottom direction\r\n",
       "skinparam monochrome true\r\n",
       "skinparam classbackgroundcolor white\r\n",
       "skinparam shadowing false\r\n",
       "skinparam wrapWidth 300\r\n",
       "hide circle\r\n",
       "\r\n",
       "package \"RequirementTest\" as E1  [[psysml:f822a5b9-f637-4bfc-9356-d45755be39c3 ]]  {\r\n",
       "comp def \"C\" as E2  <<(T,blue)constraint def>> [[psysml:55e0c843-cabd-4238-9430-5e5ddb37e322 ]] {\r\n",
       "}\r\n",
       "comp usage \"c: C\" as E3  <<(T,blue)constraint>> [[psysml:943270d7-f648-4f2b-99ed-798f0a01be75 ]] {\r\n",
       "}\r\n",
       "comp def \"R\" as E4  <<(T,blue)requirement def>> [[psysml:3547be1a-4b91-4a24-a66e-ac992d912d25 ]] {\r\n",
       "\r\n",
       "- -\r\n",
       "- - constraints - -\r\n",
       "<b>require</b> c\r\n",
       "<i>assume</i> c1: C\r\n",
       "}\r\n",
       "comp usage \"<s>noname</s>\" as E7  <<(T,blue)requirement>> [[psysml:5cc59123-afbd-4e9a-96fa-0bfa0b631260 ]] {\r\n",
       "}\r\n",
       "comp def \" [<b>1</b>] A\" as E8  <<(T,blue)requirement def>> [[psysml:49e593a4-f39b-4803-a2ce-02c26b916197 ]] {\r\n",
       "Text\r\n",
       "- -\r\n",
       "}\r\n",
       "comp def \"R1\" as E9  <<(T,blue)requirement def>> [[psysml:79fb73d3-867b-49b4-8196-8eb6e64f62f0 ]] {\r\n",
       "- - constraints - -\r\n",
       "<b>require</b> c1\\n//:>>RequirementTest::c// \r\n",
       "}\r\n",
       "comp usage \"p\" as E11  <<(T,blue)part>> [[psysml:510a33c1-eff7-4e5e-90b4-a63ef5b72ae6 ]] {\r\n",
       "}\r\n",
       "comp usage \"q\" as E12  <<(T,blue)part>> [[psysml:a6cd5ff6-20a0-4014-8266-5a2f114de57c ]] {\r\n",
       "}\r\n",
       "comp usage \"r: R\" as E13  <<(T,blue)requirement>> [[psysml:50b94a4a-7c4d-4845-a3da-b360d2df1f8c ]] {\r\n",
       "}\r\n",
       "E3 - -:|> E2 [[psysml:e8229714-231f-4f2a-9005-056b1e69efb5 ]] \r\n",
       "E4 *- - E7 [[psysml:eafce8af-10f9-4af7-9431-7513cc7d3347 ]] \r\n",
       "E4 +- - E8 [[psysml:a0130814-5dc8-48af-af1a-9e985463643e ]] \r\n",
       "E12 *- - E13 [[psysml:044b978f-2385-4425-992f-2d75b645c055 ]] \r\n",
       "E13 - -:|> E4 [[psysml:279d9c9b-21cb-4076-8967-339bf6a79b4c ]] \r\n",
       "E13 ..> E11 [[psysml:fcf36e7c-2665-4a1d-8cf4-6fcc5b08ef04 ]] : <<satisfy>>\r\n",
       "}\r\n",
       "@enduml\r\n",
       "\n",
       "PlantUML version 1.2020.13(Sat Jun 13 12:26:38 UTC 2020)\n",
       "(EPL source distribution)\n",
       "Java Runtime: OpenJDK Runtime Environment\n",
       "JVM: OpenJDK 64-Bit Server VM\n",
       "Default Encoding: UTF-8\n",
       "Language: en\n",
       "Country: null\n",
       "--></g></svg>"
      ]
     },
     "execution_count": 45,
     "metadata": {},
     "output_type": "execute_result"
    }
   ],
   "source": [
    "%viz --style=\"TB\" --view=\"Tree\" \"RequirementTest\""
   ]
  },
  {
   "cell_type": "code",
   "execution_count": 46,
   "id": "e323747c",
   "metadata": {
    "execution": {
     "iopub.execute_input": "2021-04-21T20:21:31.986387Z",
     "iopub.status.busy": "2021-04-21T20:21:31.985628Z",
     "iopub.status.idle": "2021-04-21T20:21:31.992205Z",
     "shell.execute_reply": "2021-04-21T20:21:31.991837Z"
    }
   },
   "outputs": [
    {
     "data": {
      "image/svg+xml": [
       "<?xml version=\"1.0\" encoding=\"UTF-8\" standalone=\"no\"?><svg xmlns=\"http://www.w3.org/2000/svg\" xmlns:xlink=\"http://www.w3.org/1999/xlink\" contentScriptType=\"application/ecmascript\" contentStyleType=\"text/css\" height=\"12px\" preserveAspectRatio=\"none\" style=\"width:12px;height:12px;\" version=\"1.1\" viewBox=\"0 0 12 12\" width=\"12px\" zoomAndPan=\"magnify\"><defs/><g><!--MD5=[f4ee21bc66e489b5061b7c3e9601fdef]\n",
       "@startuml\r\n",
       "top to bottom direction\r\n",
       "skinparam monochrome true\r\n",
       "skinparam classbackgroundcolor white\r\n",
       "skinparam shadowing false\r\n",
       "skinparam wrapWidth 300\r\n",
       "hide circle\r\n",
       "\r\n",
       "@enduml\r\n",
       "\n",
       "PlantUML version 1.2020.13(Sat Jun 13 12:26:38 UTC 2020)\n",
       "(EPL source distribution)\n",
       "Java Runtime: OpenJDK Runtime Environment\n",
       "JVM: OpenJDK 64-Bit Server VM\n",
       "Default Encoding: UTF-8\n",
       "Language: en\n",
       "Country: null\n",
       "--></g></svg>"
      ]
     },
     "execution_count": 46,
     "metadata": {},
     "output_type": "execute_result"
    }
   ],
   "source": [
    "%viz --style=\"TB\" --view=\"State\" \"RequirementTest\""
   ]
  },
  {
   "cell_type": "code",
   "execution_count": 47,
   "id": "4637961b",
   "metadata": {
    "execution": {
     "iopub.execute_input": "2021-04-21T20:21:32.045460Z",
     "iopub.status.busy": "2021-04-21T20:21:32.044571Z",
     "iopub.status.idle": "2021-04-21T20:21:32.156021Z",
     "shell.execute_reply": "2021-04-21T20:21:32.154034Z"
    }
   },
   "outputs": [
    {
     "data": {
      "image/svg+xml": [
       "<?xml version=\"1.0\" encoding=\"UTF-8\" standalone=\"no\"?><svg xmlns=\"http://www.w3.org/2000/svg\" xmlns:xlink=\"http://www.w3.org/1999/xlink\" contentScriptType=\"application/ecmascript\" contentStyleType=\"text/css\" height=\"408px\" preserveAspectRatio=\"none\" style=\"width:483px;height:408px;\" version=\"1.1\" viewBox=\"0 0 483 408\" width=\"483px\" zoomAndPan=\"magnify\"><defs/><g><!--MD5=[fbc87193dbaf4d95561dea2c320d4a47]\n",
       "cluster E1--><a href=\"psysml:f822a5b9-f637-4bfc-9356-d45755be39c3\" target=\"_top\" title=\"psysml:f822a5b9-f637-4bfc-9356-d45755be39c3\" xlink:actuate=\"onRequest\" xlink:href=\"psysml:f822a5b9-f637-4bfc-9356-d45755be39c3\" xlink:show=\"new\" xlink:title=\"psysml:f822a5b9-f637-4bfc-9356-d45755be39c3\" xlink:type=\"simple\"><polygon fill=\"#FFFFFF\" points=\"16,6,158,6,165,28.2969,461,28.2969,461,396,16,396,16,6\" style=\"stroke: #000000; stroke-width: 1.5;\"/><line style=\"stroke: #000000; stroke-width: 1.5;\" x1=\"16\" x2=\"165\" y1=\"28.2969\" y2=\"28.2969\"/><text fill=\"#000000\" font-family=\"sans-serif\" font-size=\"14\" font-weight=\"bold\" lengthAdjust=\"spacingAndGlyphs\" textLength=\"136\" x=\"20\" y=\"20.9951\">RequirementTest</text></a><!--MD5=[47bea60c1a0ac6c1143df232041969c0]\n",
       "cluster E12--><a href=\"psysml:a6cd5ff6-20a0-4014-8266-5a2f114de57c\" target=\"_top\" title=\"psysml:a6cd5ff6-20a0-4014-8266-5a2f114de57c\" xlink:actuate=\"onRequest\" xlink:href=\"psysml:a6cd5ff6-20a0-4014-8266-5a2f114de57c\" xlink:show=\"new\" xlink:title=\"psysml:a6cd5ff6-20a0-4014-8266-5a2f114de57c\" xlink:type=\"simple\"><rect fill=\"#FFFFFF\" height=\"97\" id=\"E12\" rx=\"10\" ry=\"10\" style=\"stroke: #383838; stroke-width: 1.5;\" width=\"124\" x=\"313\" y=\"49\"/><rect fill=\"#F8F8F8\" height=\"23.9688\" rx=\"10\" ry=\"10\" style=\"stroke: #F8F8F8; stroke-width: 1.5;\" width=\"124\" x=\"313\" y=\"49\"/><rect fill=\"#F8F8F8\" height=\"10\" style=\"stroke: #F8F8F8; stroke-width: 1.5;\" width=\"124\" x=\"313\" y=\"62.9688\"/><rect fill=\"none\" height=\"97\" id=\"E12\" rx=\"10\" ry=\"10\" style=\"stroke: #383838; stroke-width: 1.5;\" width=\"124\" x=\"313\" y=\"49\"/><text fill=\"#000000\" font-family=\"sans-serif\" font-size=\"12\" lengthAdjust=\"spacingAndGlyphs\" textLength=\"8\" x=\"371\" y=\"65.1387\">q</text><line style=\"stroke: #383838; stroke-width: 1.0;\" x1=\"313\" x2=\"437\" y1=\"72.9688\" y2=\"72.9688\"/></a><g id=\"E1.E2\"><a href=\"psysml:55e0c843-cabd-4238-9430-5e5ddb37e322\" target=\"_top\" title=\"psysml:55e0c843-cabd-4238-9430-5e5ddb37e322\" xlink:actuate=\"onRequest\" xlink:href=\"psysml:55e0c843-cabd-4238-9430-5e5ddb37e322\" xlink:show=\"new\" xlink:title=\"psysml:55e0c843-cabd-4238-9430-5e5ddb37e322\" xlink:type=\"simple\"><rect fill=\"#FFFFFF\" height=\"42.9375\" id=\"E2\" style=\"stroke: #383838; stroke-width: 1.5;\" width=\"109\" x=\"98.5\" y=\"220\"/><rect fill=\"#F8F8F8\" height=\"37.9375\" style=\"stroke: #383838; stroke-width: 1.5;\" width=\"109\" x=\"98.5\" y=\"220\"/><text fill=\"#000000\" font-family=\"sans-serif\" font-size=\"12\" font-style=\"italic\" lengthAdjust=\"spacingAndGlyphs\" textLength=\"102\" x=\"102\" y=\"236.1387\">«constraint def»</text><text fill=\"#000000\" font-family=\"sans-serif\" font-size=\"12\" lengthAdjust=\"spacingAndGlyphs\" textLength=\"8\" x=\"149\" y=\"250.1074\">C</text></a></g><!--MD5=[09b614a08d8cba4a07c9adeb5e0fee81]\n",
       "class E3--><a href=\"psysml:943270d7-f648-4f2b-99ed-798f0a01be75\" target=\"_top\" title=\"psysml:943270d7-f648-4f2b-99ed-798f0a01be75\" xlink:actuate=\"onRequest\" xlink:href=\"psysml:943270d7-f648-4f2b-99ed-798f0a01be75\" xlink:show=\"new\" xlink:title=\"psysml:943270d7-f648-4f2b-99ed-798f0a01be75\" xlink:type=\"simple\"><rect fill=\"#FFFFFF\" height=\"45.9375\" id=\"E3\" rx=\"10\" ry=\"10\" style=\"stroke: #383838; stroke-width: 1.5;\" width=\"80\" x=\"213\" y=\"84\"/><text fill=\"#000000\" font-family=\"sans-serif\" font-size=\"12\" font-style=\"italic\" lengthAdjust=\"spacingAndGlyphs\" textLength=\"78\" x=\"214\" y=\"100.1387\">«constraint»</text><text fill=\"#000000\" font-family=\"sans-serif\" font-size=\"12\" lengthAdjust=\"spacingAndGlyphs\" textLength=\"23\" x=\"241.5\" y=\"114.1074\">c: C</text><line style=\"stroke: #383838; stroke-width: 1.5;\" x1=\"214\" x2=\"292\" y1=\"121.9375\" y2=\"121.9375\"/></a><!--MD5=[ebbe1d658d1005bcc118a6aa81145e00]\n",
       "class E4--><a href=\"psysml:3547be1a-4b91-4a24-a66e-ac992d912d25\" target=\"_top\" title=\"psysml:3547be1a-4b91-4a24-a66e-ac992d912d25\" xlink:actuate=\"onRequest\" xlink:href=\"psysml:3547be1a-4b91-4a24-a66e-ac992d912d25\" xlink:show=\"new\" xlink:title=\"psysml:3547be1a-4b91-4a24-a66e-ac992d912d25\" xlink:type=\"simple\"><rect fill=\"#FFFFFF\" height=\"109.1563\" id=\"E4\" style=\"stroke: #383838; stroke-width: 1.5;\" width=\"117\" x=\"242.5\" y=\"187\"/><text fill=\"#000000\" font-family=\"sans-serif\" font-size=\"12\" font-style=\"italic\" lengthAdjust=\"spacingAndGlyphs\" textLength=\"115\" x=\"243.5\" y=\"203.1387\">«requirement def»</text><text fill=\"#000000\" font-family=\"sans-serif\" font-size=\"12\" lengthAdjust=\"spacingAndGlyphs\" textLength=\"8\" x=\"297\" y=\"217.1074\">R</text><line style=\"stroke: #383838; stroke-width: 1.5;\" x1=\"243.5\" x2=\"358.5\" y1=\"224.9375\" y2=\"224.9375\"/><text fill=\"#000000\" font-family=\"sans-serif\" font-size=\"11\" lengthAdjust=\"spacingAndGlyphs\" textLength=\"0\" x=\"252.5\" y=\"239.1479\"/><line style=\"stroke: #383838; stroke-width: 1.0;\" x1=\"243.5\" x2=\"358.5\" y1=\"245.7422\" y2=\"245.7422\"/><text fill=\"#000000\" font-family=\"sans-serif\" font-size=\"11\" font-weight=\"bold\" lengthAdjust=\"spacingAndGlyphs\" textLength=\"46\" x=\"248.5\" y=\"276.7573\">require</text><text fill=\"#000000\" font-family=\"sans-serif\" font-size=\"11\" lengthAdjust=\"spacingAndGlyphs\" textLength=\"6\" x=\"298.5\" y=\"276.7573\">c</text><text fill=\"#000000\" font-family=\"sans-serif\" font-size=\"11\" font-style=\"italic\" lengthAdjust=\"spacingAndGlyphs\" textLength=\"46\" x=\"248.5\" y=\"289.562\">assume</text><text fill=\"#000000\" font-family=\"sans-serif\" font-size=\"11\" lengthAdjust=\"spacingAndGlyphs\" textLength=\"29\" x=\"298.5\" y=\"289.562\">c1: C</text><line style=\"stroke: #383838; stroke-width: 1.0;\" x1=\"243.5\" x2=\"269\" y1=\"260.1445\" y2=\"260.1445\"/><text fill=\"#000000\" font-family=\"sans-serif\" font-size=\"11\" lengthAdjust=\"spacingAndGlyphs\" textLength=\"64\" x=\"269\" y=\"263.4526\">constraints</text><line style=\"stroke: #383838; stroke-width: 1.0;\" x1=\"333\" x2=\"358.5\" y1=\"260.1445\" y2=\"260.1445\"/></a><!--MD5=[2156ba9850f5573cc1fc38a6a4b2f02b]\n",
       "class E7--><a href=\"psysml:5cc59123-afbd-4e9a-96fa-0bfa0b631260\" target=\"_top\" title=\"psysml:5cc59123-afbd-4e9a-96fa-0bfa0b631260\" xlink:actuate=\"onRequest\" xlink:href=\"psysml:5cc59123-afbd-4e9a-96fa-0bfa0b631260\" xlink:show=\"new\" xlink:title=\"psysml:5cc59123-afbd-4e9a-96fa-0bfa0b631260\" xlink:type=\"simple\"><rect fill=\"#FFFFFF\" height=\"45.9375\" id=\"E7\" rx=\"10\" ry=\"10\" style=\"stroke: #383838; stroke-width: 1.5;\" width=\"93\" x=\"177.5\" y=\"323.5\"/><text fill=\"#000000\" font-family=\"sans-serif\" font-size=\"12\" font-style=\"italic\" lengthAdjust=\"spacingAndGlyphs\" textLength=\"91\" x=\"178.5\" y=\"339.6387\">«requirement»</text><text fill=\"#000000\" font-family=\"sans-serif\" font-size=\"12\" lengthAdjust=\"spacingAndGlyphs\" text-decoration=\"line-through\" textLength=\"51\" x=\"198.5\" y=\"353.6074\">noname</text><line style=\"stroke: #383838; stroke-width: 1.5;\" x1=\"178.5\" x2=\"269.5\" y1=\"361.4375\" y2=\"361.4375\"/></a><!--MD5=[b9389687b975829384b498ac4b7476b2]\n",
       "class E8--><a href=\"psysml:49e593a4-f39b-4803-a2ce-02c26b916197\" target=\"_top\" title=\"psysml:49e593a4-f39b-4803-a2ce-02c26b916197\" xlink:actuate=\"onRequest\" xlink:href=\"psysml:49e593a4-f39b-4803-a2ce-02c26b916197\" xlink:show=\"new\" xlink:title=\"psysml:49e593a4-f39b-4803-a2ce-02c26b916197\" xlink:type=\"simple\"><rect fill=\"#FFFFFF\" height=\"66.7422\" id=\"E8\" style=\"stroke: #383838; stroke-width: 1.5;\" width=\"117\" x=\"305.5\" y=\"313\"/><text fill=\"#000000\" font-family=\"sans-serif\" font-size=\"12\" font-style=\"italic\" lengthAdjust=\"spacingAndGlyphs\" textLength=\"115\" x=\"306.5\" y=\"329.1387\">«requirement def»</text><text fill=\"#000000\" font-family=\"sans-serif\" font-size=\"12\" lengthAdjust=\"spacingAndGlyphs\" textLength=\"5\" x=\"351\" y=\"343.1074\">[</text><text fill=\"#000000\" font-family=\"sans-serif\" font-size=\"12\" font-weight=\"bold\" lengthAdjust=\"spacingAndGlyphs\" textLength=\"8\" x=\"356\" y=\"343.1074\">1</text><text fill=\"#000000\" font-family=\"sans-serif\" font-size=\"12\" lengthAdjust=\"spacingAndGlyphs\" textLength=\"17\" x=\"364\" y=\"343.1074\">] A</text><line style=\"stroke: #383838; stroke-width: 1.5;\" x1=\"306.5\" x2=\"421.5\" y1=\"350.9375\" y2=\"350.9375\"/><text fill=\"#000000\" font-family=\"sans-serif\" font-size=\"11\" lengthAdjust=\"spacingAndGlyphs\" textLength=\"24\" x=\"311.5\" y=\"365.1479\">Text</text><line style=\"stroke: #383838; stroke-width: 1.0;\" x1=\"306.5\" x2=\"421.5\" y1=\"371.7422\" y2=\"371.7422\"/></a><!--MD5=[fd4143e9d270a159db93a4ea2a975926]\n",
       "class E9--><a href=\"psysml:79fb73d3-867b-49b4-8196-8eb6e64f62f0\" target=\"_top\" title=\"psysml:79fb73d3-867b-49b4-8196-8eb6e64f62f0\" xlink:actuate=\"onRequest\" xlink:href=\"psysml:79fb73d3-867b-49b4-8196-8eb6e64f62f0\" xlink:show=\"new\" xlink:title=\"psysml:79fb73d3-867b-49b4-8196-8eb6e64f62f0\" xlink:type=\"simple\"><rect fill=\"#FFFFFF\" height=\"88.3516\" id=\"E9\" style=\"stroke: #383838; stroke-width: 1.5;\" width=\"145\" x=\"32.5\" y=\"63\"/><text fill=\"#000000\" font-family=\"sans-serif\" font-size=\"12\" font-style=\"italic\" lengthAdjust=\"spacingAndGlyphs\" textLength=\"115\" x=\"47.5\" y=\"79.1387\">«requirement def»</text><text fill=\"#000000\" font-family=\"sans-serif\" font-size=\"12\" lengthAdjust=\"spacingAndGlyphs\" textLength=\"16\" x=\"97\" y=\"93.1074\">R1</text><line style=\"stroke: #383838; stroke-width: 1.5;\" x1=\"33.5\" x2=\"176.5\" y1=\"100.9375\" y2=\"100.9375\"/><text fill=\"#000000\" font-family=\"sans-serif\" font-size=\"11\" font-weight=\"bold\" lengthAdjust=\"spacingAndGlyphs\" textLength=\"46\" x=\"38.5\" y=\"131.9526\">require</text><text fill=\"#000000\" font-family=\"sans-serif\" font-size=\"11\" lengthAdjust=\"spacingAndGlyphs\" textLength=\"13\" x=\"88.5\" y=\"131.9526\">c1</text><text fill=\"#000000\" font-family=\"sans-serif\" font-size=\"11\" font-style=\"italic\" lengthAdjust=\"spacingAndGlyphs\" textLength=\"133\" x=\"38.5\" y=\"144.7573\">:&gt;&gt;RequirementTest::c</text><line style=\"stroke: #383838; stroke-width: 1.0;\" x1=\"33.5\" x2=\"73\" y1=\"115.3398\" y2=\"115.3398\"/><text fill=\"#000000\" font-family=\"sans-serif\" font-size=\"11\" lengthAdjust=\"spacingAndGlyphs\" textLength=\"64\" x=\"73\" y=\"118.6479\">constraints</text><line style=\"stroke: #383838; stroke-width: 1.0;\" x1=\"137\" x2=\"176.5\" y1=\"115.3398\" y2=\"115.3398\"/></a><g id=\"E1.E11\"><a href=\"psysml:510a33c1-eff7-4e5e-90b4-a63ef5b72ae6\" target=\"_top\" title=\"psysml:510a33c1-eff7-4e5e-90b4-a63ef5b72ae6\" xlink:actuate=\"onRequest\" xlink:href=\"psysml:510a33c1-eff7-4e5e-90b4-a63ef5b72ae6\" xlink:show=\"new\" xlink:title=\"psysml:510a33c1-eff7-4e5e-90b4-a63ef5b72ae6\" xlink:type=\"simple\"><rect fill=\"#FFFFFF\" height=\"40\" id=\"E11\" rx=\"10\" ry=\"10\" style=\"stroke: #383838; stroke-width: 1.5;\" width=\"50\" x=\"395\" y=\"221.5\"/><rect fill=\"#F8F8F8\" height=\"23.9688\" rx=\"10\" ry=\"10\" style=\"stroke: #F8F8F8; stroke-width: 1.5;\" width=\"50\" x=\"395\" y=\"221.5\"/><rect fill=\"#F8F8F8\" height=\"10\" style=\"stroke: #F8F8F8; stroke-width: 1.5;\" width=\"50\" x=\"395\" y=\"235.4688\"/><rect fill=\"none\" height=\"40\" id=\"E11\" rx=\"10\" ry=\"10\" style=\"stroke: #383838; stroke-width: 1.5;\" width=\"50\" x=\"395\" y=\"221.5\"/><text fill=\"#000000\" font-family=\"sans-serif\" font-size=\"12\" lengthAdjust=\"spacingAndGlyphs\" textLength=\"8\" x=\"416\" y=\"237.6387\">p</text></a></g><!--MD5=[ee3c913d1a06f366521f9ef512b67efe]\n",
       "class E13--><a href=\"psysml:50b94a4a-7c4d-4845-a3da-b360d2df1f8c\" target=\"_top\" title=\"psysml:50b94a4a-7c4d-4845-a3da-b360d2df1f8c\" xlink:actuate=\"onRequest\" xlink:href=\"psysml:50b94a4a-7c4d-4845-a3da-b360d2df1f8c\" xlink:show=\"new\" xlink:title=\"psysml:50b94a4a-7c4d-4845-a3da-b360d2df1f8c\" xlink:type=\"simple\"><rect fill=\"#FFFFFF\" height=\"45.9375\" id=\"E13\" rx=\"10\" ry=\"10\" style=\"stroke: #383838; stroke-width: 1.5;\" width=\"93\" x=\"328.5\" y=\"84\"/><text fill=\"#000000\" font-family=\"sans-serif\" font-size=\"12\" font-style=\"italic\" lengthAdjust=\"spacingAndGlyphs\" textLength=\"91\" x=\"329.5\" y=\"100.1387\">«requirement»</text><text fill=\"#000000\" font-family=\"sans-serif\" font-size=\"12\" lengthAdjust=\"spacingAndGlyphs\" textLength=\"21\" x=\"364.5\" y=\"114.1074\">r: R</text><line style=\"stroke: #383838; stroke-width: 1.5;\" x1=\"329.5\" x2=\"420.5\" y1=\"121.9375\" y2=\"121.9375\"/></a><!--MD5=[05d275557350bfb9b23a4ef7222b4c39]\n",
       "link E3 to E2--><a href=\"psysml:e8229714-231f-4f2a-9005-056b1e69efb5\" target=\"_top\" title=\"psysml:e8229714-231f-4f2a-9005-056b1e69efb5\" xlink:actuate=\"onRequest\" xlink:href=\"psysml:e8229714-231f-4f2a-9005-056b1e69efb5\" xlink:show=\"new\" xlink:title=\"psysml:e8229714-231f-4f2a-9005-056b1e69efb5\" xlink:type=\"simple\"><path d=\"M236.26,130.18 C221.12,150.24 198.54,180.16 180.71,203.78 \" fill=\"none\" id=\"E3-&gt;E2\" style=\"stroke: #383838; stroke-width: 1.0;\"/><polygon fill=\"#FFFFFF\" points=\"168.48,219.99,174.3492,200.6108,185.5192,209.0508,168.48,219.99\" style=\"stroke: #383838; stroke-width: 1.0;\"/><ellipse cx=\"179.3812\" cy=\"197.2688\" fill=\"#383838\" rx=\"2\" ry=\"2\" style=\"stroke: #383838; stroke-width: 1.0;\"/><ellipse cx=\"187.3597\" cy=\"203.2973\" fill=\"#383838\" rx=\"2\" ry=\"2\" style=\"stroke: #383838; stroke-width: 1.0;\"/></a><!--MD5=[722ff4eef345aa10242dad44df0e98c7]\n",
       "reverse link E4 to E7--><a href=\"psysml:eafce8af-10f9-4af7-9431-7513cc7d3347\" target=\"_top\" title=\"psysml:eafce8af-10f9-4af7-9431-7513cc7d3347\" xlink:actuate=\"onRequest\" xlink:href=\"psysml:eafce8af-10f9-4af7-9431-7513cc7d3347\" xlink:show=\"new\" xlink:title=\"psysml:eafce8af-10f9-4af7-9431-7513cc7d3347\" xlink:type=\"simple\"><path d=\"M252.95,306.78 C248.59,312.6 244.41,318.2 240.65,323.23 \" fill=\"none\" id=\"E4&lt;-E7\" style=\"stroke: #383838; stroke-width: 1.0;\"/><polygon fill=\"#383838\" points=\"260.92,296.11,254.1237,298.5205,253.7348,305.7211,260.5311,303.3106,260.92,296.11\" style=\"stroke: #383838; stroke-width: 1.0;\"/></a><!--MD5=[c6fc7cdb0cabde04948078cf183fa696]\n",
       "reverse link E4 to E8--><a href=\"psysml:a0130814-5dc8-48af-af1a-9e985463643e\" target=\"_top\" title=\"psysml:a0130814-5dc8-48af-af1a-9e985463643e\" xlink:actuate=\"onRequest\" xlink:href=\"psysml:a0130814-5dc8-48af-af1a-9e985463643e\" xlink:show=\"new\" xlink:title=\"psysml:a0130814-5dc8-48af-af1a-9e985463643e\" xlink:type=\"simple\"><path d=\"M341.65,308.95 C342.43,310.23 343.2,311.5 343.96,312.74 \" fill=\"none\" id=\"E4&lt;-E8\" style=\"stroke: #383838; stroke-width: 1.0;\"/><ellipse cx=\"337.9641\" cy=\"302.9347\" fill=\"#FFFFFF\" rx=\"8\" ry=\"8\" style=\"stroke: #383838; stroke-width: 1.0;\"/><line style=\"stroke: #383838; stroke-width: 1.0;\" x1=\"342.1381\" x2=\"333.79\" y1=\"309.7595\" y2=\"296.11\"/><line style=\"stroke: #383838; stroke-width: 1.0;\" x1=\"331.1393\" x2=\"344.7888\" y1=\"307.1088\" y2=\"298.7607\"/></a><!--MD5=[017847e01ff9a8bd19f247411074f987]\n",
       "link E13 to E4--><a href=\"psysml:279d9c9b-21cb-4076-8967-339bf6a79b4c\" target=\"_top\" title=\"psysml:279d9c9b-21cb-4076-8967-339bf6a79b4c\" xlink:actuate=\"onRequest\" xlink:href=\"psysml:279d9c9b-21cb-4076-8967-339bf6a79b4c\" xlink:show=\"new\" xlink:title=\"psysml:279d9c9b-21cb-4076-8967-339bf6a79b4c\" xlink:type=\"simple\"><path d=\"M362.61,130.18 C356.54,141.06 348.84,154.83 340.97,168.94 \" fill=\"none\" id=\"E13-&gt;E4\" style=\"stroke: #383838; stroke-width: 1.0;\"/><polygon fill=\"#FFFFFF\" points=\"331,186.78,334.1525,166.7785,346.3756,173.6046,331,186.78\" style=\"stroke: #383838; stroke-width: 1.0;\"/><ellipse cx=\"338.6779\" cy=\"162.7771\" fill=\"#383838\" rx=\"2\" ry=\"2\" style=\"stroke: #383838; stroke-width: 1.0;\"/><ellipse cx=\"347.4086\" cy=\"167.6529\" fill=\"#383838\" rx=\"2\" ry=\"2\" style=\"stroke: #383838; stroke-width: 1.0;\"/></a><!--MD5=[2cfe899c895462254056921bfb67315f]\n",
       "link E13 to E11--><a href=\"psysml:fcf36e7c-2665-4a1d-8cf4-6fcc5b08ef04\" target=\"_top\" title=\"psysml:fcf36e7c-2665-4a1d-8cf4-6fcc5b08ef04\" xlink:actuate=\"onRequest\" xlink:href=\"psysml:fcf36e7c-2665-4a1d-8cf4-6fcc5b08ef04\" xlink:show=\"new\" xlink:title=\"psysml:fcf36e7c-2665-4a1d-8cf4-6fcc5b08ef04\" xlink:type=\"simple\"><path d=\"M382.53,130.18 C390.61,153.97 403.41,191.66 411.76,216.23 \" fill=\"none\" id=\"E13-&gt;E11\" style=\"stroke: #383838; stroke-width: 1.0; stroke-dasharray: 7.0,7.0;\"/><polygon fill=\"#383838\" points=\"413.47,221.27,414.3568,211.4611,411.859,216.5367,406.7834,214.0388,413.47,221.27\" style=\"stroke: #383838; stroke-width: 1.0;\"/><text fill=\"#000000\" font-family=\"sans-serif\" font-size=\"13\" lengthAdjust=\"spacingAndGlyphs\" textLength=\"57\" x=\"399\" y=\"175.0669\">«satisfy»</text></a><!--MD5=[01003d08fea454a9b2a6708d04da565f]\n",
       "@startuml\r\n",
       "skinparam ranksep 10\r\n",
       "skinparam rectangle {\r\n",
       " backgroundColor<<block>> LightGreen\r\n",
       "}\r\n",
       "top to bottom direction\r\n",
       "skinparam monochrome true\r\n",
       "skinparam classbackgroundcolor white\r\n",
       "skinparam shadowing false\r\n",
       "skinparam wrapWidth 300\r\n",
       "hide circle\r\n",
       "\r\n",
       "package \"RequirementTest\" as E1  [[psysml:f822a5b9-f637-4bfc-9356-d45755be39c3 ]]  {\r\n",
       "def \"C\" as E2  <<(T,blue)constraint def>> [[psysml:55e0c843-cabd-4238-9430-5e5ddb37e322 ]] \r\n",
       "comp usage \"c: C\" as E3  <<(T,blue)constraint>> [[psysml:943270d7-f648-4f2b-99ed-798f0a01be75 ]] {\r\n",
       "}\r\n",
       "comp def \"R\" as E4  <<(T,blue)requirement def>> [[psysml:3547be1a-4b91-4a24-a66e-ac992d912d25 ]] {\r\n",
       "\r\n",
       "- -\r\n",
       "- - constraints - -\r\n",
       "<b>require</b> c\r\n",
       "<i>assume</i> c1: C\r\n",
       "}\r\n",
       "comp usage \"<s>noname</s>\" as E7  <<(T,blue)requirement>> [[psysml:5cc59123-afbd-4e9a-96fa-0bfa0b631260 ]] {\r\n",
       "}\r\n",
       "comp def \" [<b>1</b>] A\" as E8  <<(T,blue)requirement def>> [[psysml:49e593a4-f39b-4803-a2ce-02c26b916197 ]] {\r\n",
       "Text\r\n",
       "- -\r\n",
       "}\r\n",
       "comp def \"R1\" as E9  <<(T,blue)requirement def>> [[psysml:79fb73d3-867b-49b4-8196-8eb6e64f62f0 ]] {\r\n",
       "- - constraints - -\r\n",
       "<b>require</b> c1\\n//:>>RequirementTest::c// \r\n",
       "}\r\n",
       "rec usage \"p\" as E11  [[psysml:510a33c1-eff7-4e5e-90b4-a63ef5b72ae6 ]] {\r\n",
       "}\r\n",
       "rec usage \"q\" as E12  [[psysml:a6cd5ff6-20a0-4014-8266-5a2f114de57c ]] {\r\n",
       "comp usage \"r: R\" as E13  <<(T,blue)requirement>> [[psysml:50b94a4a-7c4d-4845-a3da-b360d2df1f8c ]] {\r\n",
       "}\r\n",
       "}\r\n",
       "E3 - -:|> E2 [[psysml:e8229714-231f-4f2a-9005-056b1e69efb5 ]] \r\n",
       "E4 *- - E7 [[psysml:eafce8af-10f9-4af7-9431-7513cc7d3347 ]] \r\n",
       "E4 +- - E8 [[psysml:a0130814-5dc8-48af-af1a-9e985463643e ]] \r\n",
       "E13 - -:|> E4 [[psysml:279d9c9b-21cb-4076-8967-339bf6a79b4c ]] \r\n",
       "E13 ..> E11 [[psysml:fcf36e7c-2665-4a1d-8cf4-6fcc5b08ef04 ]] : <<satisfy>>\r\n",
       "}\r\n",
       "@enduml\r\n",
       "\n",
       "PlantUML version 1.2020.13(Sat Jun 13 12:26:38 UTC 2020)\n",
       "(EPL source distribution)\n",
       "Java Runtime: OpenJDK Runtime Environment\n",
       "JVM: OpenJDK 64-Bit Server VM\n",
       "Default Encoding: UTF-8\n",
       "Language: en\n",
       "Country: null\n",
       "--></g></svg>"
      ]
     },
     "execution_count": 47,
     "metadata": {},
     "output_type": "execute_result"
    }
   ],
   "source": [
    "%viz --style=\"TB\" --view=\"Interconnection\" \"RequirementTest\""
   ]
  },
  {
   "cell_type": "code",
   "execution_count": 48,
   "id": "541e1f84",
   "metadata": {
    "execution": {
     "iopub.execute_input": "2021-04-21T20:21:32.220661Z",
     "iopub.status.busy": "2021-04-21T20:21:32.219614Z",
     "iopub.status.idle": "2021-04-21T20:21:32.221667Z",
     "shell.execute_reply": "2021-04-21T20:21:32.220268Z"
    }
   },
   "outputs": [
    {
     "data": {
      "image/svg+xml": [
       "<?xml version=\"1.0\" encoding=\"UTF-8\" standalone=\"no\"?><svg xmlns=\"http://www.w3.org/2000/svg\" xmlns:xlink=\"http://www.w3.org/1999/xlink\" contentScriptType=\"application/ecmascript\" contentStyleType=\"text/css\" height=\"12px\" preserveAspectRatio=\"none\" style=\"width:12px;height:12px;\" version=\"1.1\" viewBox=\"0 0 12 12\" width=\"12px\" zoomAndPan=\"magnify\"><defs/><g><!--MD5=[06afc254b03ac5e9d9fb7773b07d0800]\n",
       "@startuml\r\n",
       "skinparam ranksep 8\r\n",
       "top to bottom direction\r\n",
       "skinparam monochrome true\r\n",
       "skinparam classbackgroundcolor white\r\n",
       "skinparam shadowing false\r\n",
       "skinparam wrapWidth 300\r\n",
       "hide circle\r\n",
       "\r\n",
       "@enduml\r\n",
       "\n",
       "PlantUML version 1.2020.13(Sat Jun 13 12:26:38 UTC 2020)\n",
       "(EPL source distribution)\n",
       "Java Runtime: OpenJDK Runtime Environment\n",
       "JVM: OpenJDK 64-Bit Server VM\n",
       "Default Encoding: UTF-8\n",
       "Language: en\n",
       "Country: null\n",
       "--></g></svg>"
      ]
     },
     "execution_count": 48,
     "metadata": {},
     "output_type": "execute_result"
    }
   ],
   "source": [
    "%viz --style=\"TB\" --view=\"Action\" \"RequirementTest\""
   ]
  },
  {
   "cell_type": "code",
   "execution_count": 49,
   "id": "1cab6bde",
   "metadata": {
    "execution": {
     "iopub.execute_input": "2021-04-21T20:21:32.271833Z",
     "iopub.status.busy": "2021-04-21T20:21:32.271158Z",
     "iopub.status.idle": "2021-04-21T20:21:32.404491Z",
     "shell.execute_reply": "2021-04-21T20:21:32.401624Z"
    }
   },
   "outputs": [
    {
     "data": {
      "image/svg+xml": [
       "<?xml version=\"1.0\" encoding=\"UTF-8\" standalone=\"no\"?><svg xmlns=\"http://www.w3.org/2000/svg\" xmlns:xlink=\"http://www.w3.org/1999/xlink\" contentScriptType=\"application/ecmascript\" contentStyleType=\"text/css\" height=\"578px\" preserveAspectRatio=\"none\" style=\"width:408px;height:578px;\" version=\"1.1\" viewBox=\"0 0 408 578\" width=\"408px\" zoomAndPan=\"magnify\"><defs/><g><!--MD5=[fbc87193dbaf4d95561dea2c320d4a47]\n",
       "cluster E1--><a href=\"psysml:f822a5b9-f637-4bfc-9356-d45755be39c3\" target=\"_top\" title=\"psysml:f822a5b9-f637-4bfc-9356-d45755be39c3\" xlink:actuate=\"onRequest\" xlink:href=\"psysml:f822a5b9-f637-4bfc-9356-d45755be39c3\" xlink:show=\"new\" xlink:title=\"psysml:f822a5b9-f637-4bfc-9356-d45755be39c3\" xlink:type=\"simple\"><polygon fill=\"#FFFFFF\" points=\"16,6,158,6,165,28.2969,386,28.2969,386,566,16,566,16,6\" style=\"stroke: #000000; stroke-width: 1.5;\"/><line style=\"stroke: #000000; stroke-width: 1.5;\" x1=\"16\" x2=\"165\" y1=\"28.2969\" y2=\"28.2969\"/><text fill=\"#000000\" font-family=\"sans-serif\" font-size=\"14\" font-weight=\"bold\" lengthAdjust=\"spacingAndGlyphs\" textLength=\"136\" x=\"20\" y=\"20.9951\">RequirementTest</text></a><!--MD5=[b4997ac47864f28c2f74865a473b2911]\n",
       "class E2--><a href=\"psysml:55e0c843-cabd-4238-9430-5e5ddb37e322\" target=\"_top\" title=\"psysml:55e0c843-cabd-4238-9430-5e5ddb37e322\" xlink:actuate=\"onRequest\" xlink:href=\"psysml:55e0c843-cabd-4238-9430-5e5ddb37e322\" xlink:show=\"new\" xlink:title=\"psysml:55e0c843-cabd-4238-9430-5e5ddb37e322\" xlink:type=\"simple\"><rect fill=\"#FFFFFF\" height=\"45.9375\" id=\"E2\" style=\"stroke: #383838; stroke-width: 1.5;\" width=\"104\" x=\"266\" y=\"190\"/><text fill=\"#000000\" font-family=\"sans-serif\" font-size=\"12\" font-style=\"italic\" lengthAdjust=\"spacingAndGlyphs\" textLength=\"102\" x=\"267\" y=\"206.1387\">«constraint def»</text><text fill=\"#000000\" font-family=\"sans-serif\" font-size=\"12\" lengthAdjust=\"spacingAndGlyphs\" textLength=\"8\" x=\"314\" y=\"220.1074\">C</text><line style=\"stroke: #383838; stroke-width: 1.5;\" x1=\"267\" x2=\"369\" y1=\"227.9375\" y2=\"227.9375\"/></a><!--MD5=[09b614a08d8cba4a07c9adeb5e0fee81]\n",
       "class E3--><a href=\"psysml:943270d7-f648-4f2b-99ed-798f0a01be75\" target=\"_top\" title=\"psysml:943270d7-f648-4f2b-99ed-798f0a01be75\" xlink:actuate=\"onRequest\" xlink:href=\"psysml:943270d7-f648-4f2b-99ed-798f0a01be75\" xlink:show=\"new\" xlink:title=\"psysml:943270d7-f648-4f2b-99ed-798f0a01be75\" xlink:type=\"simple\"><rect fill=\"#FFFFFF\" height=\"45.9375\" id=\"E3\" rx=\"10\" ry=\"10\" style=\"stroke: #383838; stroke-width: 1.5;\" width=\"80\" x=\"290\" y=\"62\"/><text fill=\"#000000\" font-family=\"sans-serif\" font-size=\"12\" font-style=\"italic\" lengthAdjust=\"spacingAndGlyphs\" textLength=\"78\" x=\"291\" y=\"78.1387\">«constraint»</text><text fill=\"#000000\" font-family=\"sans-serif\" font-size=\"12\" lengthAdjust=\"spacingAndGlyphs\" textLength=\"23\" x=\"318.5\" y=\"92.1074\">c: C</text><line style=\"stroke: #383838; stroke-width: 1.5;\" x1=\"291\" x2=\"369\" y1=\"99.9375\" y2=\"99.9375\"/></a><!--MD5=[ebbe1d658d1005bcc118a6aa81145e00]\n",
       "class E4--><a href=\"psysml:3547be1a-4b91-4a24-a66e-ac992d912d25\" target=\"_top\" title=\"psysml:3547be1a-4b91-4a24-a66e-ac992d912d25\" xlink:actuate=\"onRequest\" xlink:href=\"psysml:3547be1a-4b91-4a24-a66e-ac992d912d25\" xlink:show=\"new\" xlink:title=\"psysml:3547be1a-4b91-4a24-a66e-ac992d912d25\" xlink:type=\"simple\"><rect fill=\"#FFFFFF\" height=\"109.1563\" id=\"E4\" style=\"stroke: #383838; stroke-width: 1.5;\" width=\"117\" x=\"32.5\" y=\"313\"/><text fill=\"#000000\" font-family=\"sans-serif\" font-size=\"12\" font-style=\"italic\" lengthAdjust=\"spacingAndGlyphs\" textLength=\"115\" x=\"33.5\" y=\"329.1387\">«requirement def»</text><text fill=\"#000000\" font-family=\"sans-serif\" font-size=\"12\" lengthAdjust=\"spacingAndGlyphs\" textLength=\"8\" x=\"87\" y=\"343.1074\">R</text><line style=\"stroke: #383838; stroke-width: 1.5;\" x1=\"33.5\" x2=\"148.5\" y1=\"350.9375\" y2=\"350.9375\"/><text fill=\"#000000\" font-family=\"sans-serif\" font-size=\"11\" lengthAdjust=\"spacingAndGlyphs\" textLength=\"0\" x=\"42.5\" y=\"365.1479\"/><line style=\"stroke: #383838; stroke-width: 1.0;\" x1=\"33.5\" x2=\"148.5\" y1=\"371.7422\" y2=\"371.7422\"/><text fill=\"#000000\" font-family=\"sans-serif\" font-size=\"11\" font-weight=\"bold\" lengthAdjust=\"spacingAndGlyphs\" textLength=\"46\" x=\"38.5\" y=\"402.7573\">require</text><text fill=\"#000000\" font-family=\"sans-serif\" font-size=\"11\" lengthAdjust=\"spacingAndGlyphs\" textLength=\"6\" x=\"88.5\" y=\"402.7573\">c</text><text fill=\"#000000\" font-family=\"sans-serif\" font-size=\"11\" font-style=\"italic\" lengthAdjust=\"spacingAndGlyphs\" textLength=\"46\" x=\"38.5\" y=\"415.562\">assume</text><text fill=\"#000000\" font-family=\"sans-serif\" font-size=\"11\" lengthAdjust=\"spacingAndGlyphs\" textLength=\"29\" x=\"88.5\" y=\"415.562\">c1: C</text><line style=\"stroke: #383838; stroke-width: 1.0;\" x1=\"33.5\" x2=\"59\" y1=\"386.1445\" y2=\"386.1445\"/><text fill=\"#000000\" font-family=\"sans-serif\" font-size=\"11\" lengthAdjust=\"spacingAndGlyphs\" textLength=\"64\" x=\"59\" y=\"389.4526\">constraints</text><line style=\"stroke: #383838; stroke-width: 1.0;\" x1=\"123\" x2=\"148.5\" y1=\"386.1445\" y2=\"386.1445\"/></a><!--MD5=[2156ba9850f5573cc1fc38a6a4b2f02b]\n",
       "class E7--><a href=\"psysml:5cc59123-afbd-4e9a-96fa-0bfa0b631260\" target=\"_top\" title=\"psysml:5cc59123-afbd-4e9a-96fa-0bfa0b631260\" xlink:actuate=\"onRequest\" xlink:href=\"psysml:5cc59123-afbd-4e9a-96fa-0bfa0b631260\" xlink:show=\"new\" xlink:title=\"psysml:5cc59123-afbd-4e9a-96fa-0bfa0b631260\" xlink:type=\"simple\"><rect fill=\"#FFFFFF\" height=\"45.9375\" id=\"E7\" rx=\"10\" ry=\"10\" style=\"stroke: #383838; stroke-width: 1.5;\" width=\"93\" x=\"34.5\" y=\"493.5\"/><text fill=\"#000000\" font-family=\"sans-serif\" font-size=\"12\" font-style=\"italic\" lengthAdjust=\"spacingAndGlyphs\" textLength=\"91\" x=\"35.5\" y=\"509.6387\">«requirement»</text><text fill=\"#000000\" font-family=\"sans-serif\" font-size=\"12\" lengthAdjust=\"spacingAndGlyphs\" text-decoration=\"line-through\" textLength=\"51\" x=\"55.5\" y=\"523.6074\">noname</text><line style=\"stroke: #383838; stroke-width: 1.5;\" x1=\"35.5\" x2=\"126.5\" y1=\"531.4375\" y2=\"531.4375\"/></a><!--MD5=[b9389687b975829384b498ac4b7476b2]\n",
       "class E8--><a href=\"psysml:49e593a4-f39b-4803-a2ce-02c26b916197\" target=\"_top\" title=\"psysml:49e593a4-f39b-4803-a2ce-02c26b916197\" xlink:actuate=\"onRequest\" xlink:href=\"psysml:49e593a4-f39b-4803-a2ce-02c26b916197\" xlink:show=\"new\" xlink:title=\"psysml:49e593a4-f39b-4803-a2ce-02c26b916197\" xlink:type=\"simple\"><rect fill=\"#FFFFFF\" height=\"66.7422\" id=\"E8\" style=\"stroke: #383838; stroke-width: 1.5;\" width=\"117\" x=\"162.5\" y=\"483\"/><text fill=\"#000000\" font-family=\"sans-serif\" font-size=\"12\" font-style=\"italic\" lengthAdjust=\"spacingAndGlyphs\" textLength=\"115\" x=\"163.5\" y=\"499.1387\">«requirement def»</text><text fill=\"#000000\" font-family=\"sans-serif\" font-size=\"12\" lengthAdjust=\"spacingAndGlyphs\" textLength=\"5\" x=\"208\" y=\"513.1074\">[</text><text fill=\"#000000\" font-family=\"sans-serif\" font-size=\"12\" font-weight=\"bold\" lengthAdjust=\"spacingAndGlyphs\" textLength=\"8\" x=\"213\" y=\"513.1074\">1</text><text fill=\"#000000\" font-family=\"sans-serif\" font-size=\"12\" lengthAdjust=\"spacingAndGlyphs\" textLength=\"17\" x=\"221\" y=\"513.1074\">] A</text><line style=\"stroke: #383838; stroke-width: 1.5;\" x1=\"163.5\" x2=\"278.5\" y1=\"520.9375\" y2=\"520.9375\"/><text fill=\"#000000\" font-family=\"sans-serif\" font-size=\"11\" lengthAdjust=\"spacingAndGlyphs\" textLength=\"24\" x=\"168.5\" y=\"535.1479\">Text</text><line style=\"stroke: #383838; stroke-width: 1.0;\" x1=\"163.5\" x2=\"278.5\" y1=\"541.7422\" y2=\"541.7422\"/></a><!--MD5=[fd4143e9d270a159db93a4ea2a975926]\n",
       "class E9--><a href=\"psysml:79fb73d3-867b-49b4-8196-8eb6e64f62f0\" target=\"_top\" title=\"psysml:79fb73d3-867b-49b4-8196-8eb6e64f62f0\" xlink:actuate=\"onRequest\" xlink:href=\"psysml:79fb73d3-867b-49b4-8196-8eb6e64f62f0\" xlink:show=\"new\" xlink:title=\"psysml:79fb73d3-867b-49b4-8196-8eb6e64f62f0\" xlink:type=\"simple\"><rect fill=\"#FFFFFF\" height=\"88.3516\" id=\"E9\" style=\"stroke: #383838; stroke-width: 1.5;\" width=\"145\" x=\"109.5\" y=\"41\"/><text fill=\"#000000\" font-family=\"sans-serif\" font-size=\"12\" font-style=\"italic\" lengthAdjust=\"spacingAndGlyphs\" textLength=\"115\" x=\"124.5\" y=\"57.1387\">«requirement def»</text><text fill=\"#000000\" font-family=\"sans-serif\" font-size=\"12\" lengthAdjust=\"spacingAndGlyphs\" textLength=\"16\" x=\"174\" y=\"71.1074\">R1</text><line style=\"stroke: #383838; stroke-width: 1.5;\" x1=\"110.5\" x2=\"253.5\" y1=\"78.9375\" y2=\"78.9375\"/><text fill=\"#000000\" font-family=\"sans-serif\" font-size=\"11\" font-weight=\"bold\" lengthAdjust=\"spacingAndGlyphs\" textLength=\"46\" x=\"115.5\" y=\"109.9526\">require</text><text fill=\"#000000\" font-family=\"sans-serif\" font-size=\"11\" lengthAdjust=\"spacingAndGlyphs\" textLength=\"13\" x=\"165.5\" y=\"109.9526\">c1</text><text fill=\"#000000\" font-family=\"sans-serif\" font-size=\"11\" font-style=\"italic\" lengthAdjust=\"spacingAndGlyphs\" textLength=\"133\" x=\"115.5\" y=\"122.7573\">:&gt;&gt;RequirementTest::c</text><line style=\"stroke: #383838; stroke-width: 1.0;\" x1=\"110.5\" x2=\"150\" y1=\"93.3398\" y2=\"93.3398\"/><text fill=\"#000000\" font-family=\"sans-serif\" font-size=\"11\" lengthAdjust=\"spacingAndGlyphs\" textLength=\"64\" x=\"150\" y=\"96.6479\">constraints</text><line style=\"stroke: #383838; stroke-width: 1.0;\" x1=\"214\" x2=\"253.5\" y1=\"93.3398\" y2=\"93.3398\"/></a><!--MD5=[1dd1bfd58a279cf63c5f349dbc8fc6a1]\n",
       "class E11--><a href=\"psysml:510a33c1-eff7-4e5e-90b4-a63ef5b72ae6\" target=\"_top\" title=\"psysml:510a33c1-eff7-4e5e-90b4-a63ef5b72ae6\" xlink:actuate=\"onRequest\" xlink:href=\"psysml:510a33c1-eff7-4e5e-90b4-a63ef5b72ae6\" xlink:show=\"new\" xlink:title=\"psysml:510a33c1-eff7-4e5e-90b4-a63ef5b72ae6\" xlink:type=\"simple\"><rect fill=\"#FFFFFF\" height=\"45.9375\" id=\"E11\" rx=\"10\" ry=\"10\" style=\"stroke: #383838; stroke-width: 1.5;\" width=\"42\" x=\"185\" y=\"344.5\"/><text fill=\"#000000\" font-family=\"sans-serif\" font-size=\"12\" font-style=\"italic\" lengthAdjust=\"spacingAndGlyphs\" textLength=\"40\" x=\"186\" y=\"360.6387\">«part»</text><text fill=\"#000000\" font-family=\"sans-serif\" font-size=\"12\" lengthAdjust=\"spacingAndGlyphs\" textLength=\"8\" x=\"202\" y=\"374.6074\">p</text><line style=\"stroke: #383838; stroke-width: 1.5;\" x1=\"186\" x2=\"226\" y1=\"382.4375\" y2=\"382.4375\"/></a><!--MD5=[49a0ec8f00dab7302a31f22d0f0fe584]\n",
       "class E12--><a href=\"psysml:a6cd5ff6-20a0-4014-8266-5a2f114de57c\" target=\"_top\" title=\"psysml:a6cd5ff6-20a0-4014-8266-5a2f114de57c\" xlink:actuate=\"onRequest\" xlink:href=\"psysml:a6cd5ff6-20a0-4014-8266-5a2f114de57c\" xlink:show=\"new\" xlink:title=\"psysml:a6cd5ff6-20a0-4014-8266-5a2f114de57c\" xlink:type=\"simple\"><rect fill=\"#FFFFFF\" height=\"45.9375\" id=\"E12\" rx=\"10\" ry=\"10\" style=\"stroke: #383838; stroke-width: 1.5;\" width=\"42\" x=\"32\" y=\"62\"/><text fill=\"#000000\" font-family=\"sans-serif\" font-size=\"12\" font-style=\"italic\" lengthAdjust=\"spacingAndGlyphs\" textLength=\"40\" x=\"33\" y=\"78.1387\">«part»</text><text fill=\"#000000\" font-family=\"sans-serif\" font-size=\"12\" lengthAdjust=\"spacingAndGlyphs\" textLength=\"8\" x=\"49\" y=\"92.1074\">q</text><line style=\"stroke: #383838; stroke-width: 1.5;\" x1=\"33\" x2=\"73\" y1=\"99.9375\" y2=\"99.9375\"/></a><!--MD5=[ee3c913d1a06f366521f9ef512b67efe]\n",
       "class E13--><a href=\"psysml:50b94a4a-7c4d-4845-a3da-b360d2df1f8c\" target=\"_top\" title=\"psysml:50b94a4a-7c4d-4845-a3da-b360d2df1f8c\" xlink:actuate=\"onRequest\" xlink:href=\"psysml:50b94a4a-7c4d-4845-a3da-b360d2df1f8c\" xlink:show=\"new\" xlink:title=\"psysml:50b94a4a-7c4d-4845-a3da-b360d2df1f8c\" xlink:type=\"simple\"><rect fill=\"#FFFFFF\" height=\"45.9375\" id=\"E13\" rx=\"10\" ry=\"10\" style=\"stroke: #383838; stroke-width: 1.5;\" width=\"93\" x=\"44.5\" y=\"190\"/><text fill=\"#000000\" font-family=\"sans-serif\" font-size=\"12\" font-style=\"italic\" lengthAdjust=\"spacingAndGlyphs\" textLength=\"91\" x=\"45.5\" y=\"206.1387\">«requirement»</text><text fill=\"#000000\" font-family=\"sans-serif\" font-size=\"12\" lengthAdjust=\"spacingAndGlyphs\" textLength=\"21\" x=\"80.5\" y=\"220.1074\">r: R</text><line style=\"stroke: #383838; stroke-width: 1.5;\" x1=\"45.5\" x2=\"136.5\" y1=\"227.9375\" y2=\"227.9375\"/></a><!--MD5=[05d275557350bfb9b23a4ef7222b4c39]\n",
       "link E3 to E2--><a href=\"psysml:e8229714-231f-4f2a-9005-056b1e69efb5\" target=\"_top\" title=\"psysml:e8229714-231f-4f2a-9005-056b1e69efb5\" xlink:actuate=\"onRequest\" xlink:href=\"psysml:e8229714-231f-4f2a-9005-056b1e69efb5\" xlink:show=\"new\" xlink:title=\"psysml:e8229714-231f-4f2a-9005-056b1e69efb5\" xlink:type=\"simple\"><path d=\"M327.88,108.24 C326.26,125.24 323.98,149.19 322.02,169.79 \" fill=\"none\" id=\"E3-&gt;E2\" style=\"stroke: #383838; stroke-width: 1.0;\"/><polygon fill=\"#FFFFFF\" points=\"320.1,189.99,314.9362,170.411,328.8729,171.7407,320.1,189.99\" style=\"stroke: #383838; stroke-width: 1.0;\"/><ellipse cx=\"317.4685\" cy=\"164.9268\" fill=\"#383838\" rx=\"2\" ry=\"2\" style=\"stroke: #383838; stroke-width: 1.0;\"/><ellipse cx=\"327.4233\" cy=\"165.8765\" fill=\"#383838\" rx=\"2\" ry=\"2\" style=\"stroke: #383838; stroke-width: 1.0;\"/></a><!--MD5=[722ff4eef345aa10242dad44df0e98c7]\n",
       "reverse link E4 to E7--><a href=\"psysml:eafce8af-10f9-4af7-9431-7513cc7d3347\" target=\"_top\" title=\"psysml:eafce8af-10f9-4af7-9431-7513cc7d3347\" xlink:actuate=\"onRequest\" xlink:href=\"psysml:eafce8af-10f9-4af7-9431-7513cc7d3347\" xlink:show=\"new\" xlink:title=\"psysml:eafce8af-10f9-4af7-9431-7513cc7d3347\" xlink:type=\"simple\"><path d=\"M86.44,435.59 C85.02,456.46 83.55,478.02 82.5,493.48 \" fill=\"none\" id=\"E4&lt;-E7\" style=\"stroke: #383838; stroke-width: 1.0;\"/><polygon fill=\"#383838\" points=\"87.33,422.4,82.9306,428.1136,86.5125,434.3721,90.912,428.6586,87.33,422.4\" style=\"stroke: #383838; stroke-width: 1.0;\"/></a><!--MD5=[c6fc7cdb0cabde04948078cf183fa696]\n",
       "reverse link E4 to E8--><a href=\"psysml:a0130814-5dc8-48af-af1a-9e985463643e\" target=\"_top\" title=\"psysml:a0130814-5dc8-48af-af1a-9e985463643e\" xlink:actuate=\"onRequest\" xlink:href=\"psysml:a0130814-5dc8-48af-af1a-9e985463643e\" xlink:show=\"new\" xlink:title=\"psysml:a0130814-5dc8-48af-af1a-9e985463643e\" xlink:type=\"simple\"><path d=\"M148.94,434.02 C163.95,450.99 179.47,468.53 192.24,482.98 \" fill=\"none\" id=\"E4&lt;-E8\" style=\"stroke: #383838; stroke-width: 1.0;\"/><ellipse cx=\"143.9698\" cy=\"428.3927\" fill=\"#FFFFFF\" rx=\"8\" ry=\"8\" style=\"stroke: #383838; stroke-width: 1.0;\"/><line style=\"stroke: #383838; stroke-width: 1.0;\" x1=\"149.2695\" x2=\"138.67\" y1=\"434.3854\" y2=\"422.4\"/><line style=\"stroke: #383838; stroke-width: 1.0;\" x1=\"137.9771\" x2=\"149.9625\" y1=\"433.6925\" y2=\"423.0929\"/></a><!--MD5=[062ed86c389d1a88f61c6380d0491e17]\n",
       "reverse link E12 to E13--><a href=\"psysml:044b978f-2385-4425-992f-2d75b645c055\" target=\"_top\" title=\"psysml:044b978f-2385-4425-992f-2d75b645c055\" xlink:actuate=\"onRequest\" xlink:href=\"psysml:044b978f-2385-4425-992f-2d75b645c055\" xlink:show=\"new\" xlink:title=\"psysml:044b978f-2385-4425-992f-2d75b645c055\" xlink:type=\"simple\"><path d=\"M63.49,120.8 C70.17,142.92 78.6,170.89 84.36,189.99 \" fill=\"none\" id=\"E12&lt;-E13\" style=\"stroke: #383838; stroke-width: 1.0;\"/><polygon fill=\"#383838\" points=\"59.71,108.24,57.6129,115.1394,63.1751,119.7288,65.2722,112.8294,59.71,108.24\" style=\"stroke: #383838; stroke-width: 1.0;\"/></a><!--MD5=[017847e01ff9a8bd19f247411074f987]\n",
       "link E13 to E4--><a href=\"psysml:279d9c9b-21cb-4076-8967-339bf6a79b4c\" target=\"_top\" title=\"psysml:279d9c9b-21cb-4076-8967-339bf6a79b4c\" xlink:actuate=\"onRequest\" xlink:href=\"psysml:279d9c9b-21cb-4076-8967-339bf6a79b4c\" xlink:show=\"new\" xlink:title=\"psysml:279d9c9b-21cb-4076-8967-339bf6a79b4c\" xlink:type=\"simple\"><path d=\"M91,236.17 C91,251.17 91,271.91 91,292.44 \" fill=\"none\" id=\"E13-&gt;E4\" style=\"stroke: #383838; stroke-width: 1.0;\"/><polygon fill=\"#FFFFFF\" points=\"91,312.68,84,293.68,98,293.68,91,312.68\" style=\"stroke: #383838; stroke-width: 1.0;\"/><ellipse cx=\"86\" cy=\"287.98\" fill=\"#383838\" rx=\"2\" ry=\"2\" style=\"stroke: #383838; stroke-width: 1.0;\"/><ellipse cx=\"96\" cy=\"287.98\" fill=\"#383838\" rx=\"2\" ry=\"2\" style=\"stroke: #383838; stroke-width: 1.0;\"/></a><!--MD5=[2cfe899c895462254056921bfb67315f]\n",
       "link E13 to E11--><a href=\"psysml:fcf36e7c-2665-4a1d-8cf4-6fcc5b08ef04\" target=\"_top\" title=\"psysml:fcf36e7c-2665-4a1d-8cf4-6fcc5b08ef04\" xlink:actuate=\"onRequest\" xlink:href=\"psysml:fcf36e7c-2665-4a1d-8cf4-6fcc5b08ef04\" xlink:show=\"new\" xlink:title=\"psysml:fcf36e7c-2665-4a1d-8cf4-6fcc5b08ef04\" xlink:type=\"simple\"><path d=\"M108.36,236.29 C123.87,256.28 147.14,286.45 167,313 C173.57,321.78 180.66,331.44 186.97,340.12 \" fill=\"none\" id=\"E13-&gt;E11\" style=\"stroke: #383838; stroke-width: 1.0; stroke-dasharray: 7.0,7.0;\"/><polygon fill=\"#383838\" points=\"189.99,344.28,187.9274,334.6496,187.0474,340.2376,181.4594,339.3576,189.99,344.28\" style=\"stroke: #383838; stroke-width: 1.0;\"/><text fill=\"#000000\" font-family=\"sans-serif\" font-size=\"13\" lengthAdjust=\"spacingAndGlyphs\" textLength=\"57\" x=\"145\" y=\"279.0669\">«satisfy»</text></a><!--MD5=[106e978ce3b3c6b6d14da7be7320ccbd]\n",
       "@startuml\r\n",
       "top to bottom direction\r\n",
       "skinparam monochrome true\r\n",
       "skinparam classbackgroundcolor white\r\n",
       "skinparam shadowing false\r\n",
       "skinparam wrapWidth 300\r\n",
       "hide circle\r\n",
       "\r\n",
       "package \"RequirementTest\" as E1  [[psysml:f822a5b9-f637-4bfc-9356-d45755be39c3 ]]  {\r\n",
       "comp def \"C\" as E2  <<(T,blue)constraint def>> [[psysml:55e0c843-cabd-4238-9430-5e5ddb37e322 ]] {\r\n",
       "}\r\n",
       "comp usage \"c: C\" as E3  <<(T,blue)constraint>> [[psysml:943270d7-f648-4f2b-99ed-798f0a01be75 ]] {\r\n",
       "}\r\n",
       "comp def \"R\" as E4  <<(T,blue)requirement def>> [[psysml:3547be1a-4b91-4a24-a66e-ac992d912d25 ]] {\r\n",
       "\r\n",
       "- -\r\n",
       "- - constraints - -\r\n",
       "<b>require</b> c\r\n",
       "<i>assume</i> c1: C\r\n",
       "}\r\n",
       "comp usage \"<s>noname</s>\" as E7  <<(T,blue)requirement>> [[psysml:5cc59123-afbd-4e9a-96fa-0bfa0b631260 ]] {\r\n",
       "}\r\n",
       "comp def \" [<b>1</b>] A\" as E8  <<(T,blue)requirement def>> [[psysml:49e593a4-f39b-4803-a2ce-02c26b916197 ]] {\r\n",
       "Text\r\n",
       "- -\r\n",
       "}\r\n",
       "comp def \"R1\" as E9  <<(T,blue)requirement def>> [[psysml:79fb73d3-867b-49b4-8196-8eb6e64f62f0 ]] {\r\n",
       "- - constraints - -\r\n",
       "<b>require</b> c1\\n//:>>RequirementTest::c// \r\n",
       "}\r\n",
       "comp usage \"p\" as E11  <<(T,blue)part>> [[psysml:510a33c1-eff7-4e5e-90b4-a63ef5b72ae6 ]] {\r\n",
       "}\r\n",
       "comp usage \"q\" as E12  <<(T,blue)part>> [[psysml:a6cd5ff6-20a0-4014-8266-5a2f114de57c ]] {\r\n",
       "}\r\n",
       "comp usage \"r: R\" as E13  <<(T,blue)requirement>> [[psysml:50b94a4a-7c4d-4845-a3da-b360d2df1f8c ]] {\r\n",
       "}\r\n",
       "E3 - -:|> E2 [[psysml:e8229714-231f-4f2a-9005-056b1e69efb5 ]] \r\n",
       "E4 *- - E7 [[psysml:eafce8af-10f9-4af7-9431-7513cc7d3347 ]] \r\n",
       "E4 +- - E8 [[psysml:a0130814-5dc8-48af-af1a-9e985463643e ]] \r\n",
       "E12 *- - E13 [[psysml:044b978f-2385-4425-992f-2d75b645c055 ]] \r\n",
       "E13 - -:|> E4 [[psysml:279d9c9b-21cb-4076-8967-339bf6a79b4c ]] \r\n",
       "E13 ..> E11 [[psysml:fcf36e7c-2665-4a1d-8cf4-6fcc5b08ef04 ]] : <<satisfy>>\r\n",
       "}\r\n",
       "@enduml\r\n",
       "\n",
       "PlantUML version 1.2020.13(Sat Jun 13 12:26:38 UTC 2020)\n",
       "(EPL source distribution)\n",
       "Java Runtime: OpenJDK Runtime Environment\n",
       "JVM: OpenJDK 64-Bit Server VM\n",
       "Default Encoding: UTF-8\n",
       "Language: en\n",
       "Country: null\n",
       "--></g></svg>"
      ]
     },
     "execution_count": 49,
     "metadata": {},
     "output_type": "execute_result"
    }
   ],
   "source": [
    "%viz --style=\"TB\" --view=\"Sequence\" \"RequirementTest\""
   ]
  },
  {
   "cell_type": "code",
   "execution_count": 50,
   "id": "1457dd12",
   "metadata": {
    "execution": {
     "iopub.execute_input": "2021-04-21T20:21:32.453625Z",
     "iopub.status.busy": "2021-04-21T20:21:32.452807Z",
     "iopub.status.idle": "2021-04-21T20:21:32.606033Z",
     "shell.execute_reply": "2021-04-21T20:21:32.603300Z"
    }
   },
   "outputs": [
    {
     "data": {
      "image/svg+xml": [
       "<?xml version=\"1.0\" encoding=\"UTF-8\" standalone=\"no\"?><svg xmlns=\"http://www.w3.org/2000/svg\" xmlns:xlink=\"http://www.w3.org/1999/xlink\" contentScriptType=\"application/ecmascript\" contentStyleType=\"text/css\" height=\"578px\" preserveAspectRatio=\"none\" style=\"width:408px;height:578px;\" version=\"1.1\" viewBox=\"0 0 408 578\" width=\"408px\" zoomAndPan=\"magnify\"><defs/><g><!--MD5=[fbc87193dbaf4d95561dea2c320d4a47]\n",
       "cluster E1--><a href=\"psysml:f822a5b9-f637-4bfc-9356-d45755be39c3\" target=\"_top\" title=\"psysml:f822a5b9-f637-4bfc-9356-d45755be39c3\" xlink:actuate=\"onRequest\" xlink:href=\"psysml:f822a5b9-f637-4bfc-9356-d45755be39c3\" xlink:show=\"new\" xlink:title=\"psysml:f822a5b9-f637-4bfc-9356-d45755be39c3\" xlink:type=\"simple\"><polygon fill=\"#FFFFFF\" points=\"16,6,158,6,165,28.2969,386,28.2969,386,566,16,566,16,6\" style=\"stroke: #000000; stroke-width: 1.5;\"/><line style=\"stroke: #000000; stroke-width: 1.5;\" x1=\"16\" x2=\"165\" y1=\"28.2969\" y2=\"28.2969\"/><text fill=\"#000000\" font-family=\"sans-serif\" font-size=\"14\" font-weight=\"bold\" lengthAdjust=\"spacingAndGlyphs\" textLength=\"136\" x=\"20\" y=\"20.9951\">RequirementTest</text></a><!--MD5=[b4997ac47864f28c2f74865a473b2911]\n",
       "class E2--><a href=\"psysml:55e0c843-cabd-4238-9430-5e5ddb37e322\" target=\"_top\" title=\"psysml:55e0c843-cabd-4238-9430-5e5ddb37e322\" xlink:actuate=\"onRequest\" xlink:href=\"psysml:55e0c843-cabd-4238-9430-5e5ddb37e322\" xlink:show=\"new\" xlink:title=\"psysml:55e0c843-cabd-4238-9430-5e5ddb37e322\" xlink:type=\"simple\"><rect fill=\"#FFFFFF\" height=\"45.9375\" id=\"E2\" style=\"stroke: #383838; stroke-width: 1.5;\" width=\"104\" x=\"266\" y=\"190\"/><text fill=\"#000000\" font-family=\"sans-serif\" font-size=\"12\" font-style=\"italic\" lengthAdjust=\"spacingAndGlyphs\" textLength=\"102\" x=\"267\" y=\"206.1387\">«constraint def»</text><text fill=\"#000000\" font-family=\"sans-serif\" font-size=\"12\" lengthAdjust=\"spacingAndGlyphs\" textLength=\"8\" x=\"314\" y=\"220.1074\">C</text><line style=\"stroke: #383838; stroke-width: 1.5;\" x1=\"267\" x2=\"369\" y1=\"227.9375\" y2=\"227.9375\"/></a><!--MD5=[09b614a08d8cba4a07c9adeb5e0fee81]\n",
       "class E3--><a href=\"psysml:943270d7-f648-4f2b-99ed-798f0a01be75\" target=\"_top\" title=\"psysml:943270d7-f648-4f2b-99ed-798f0a01be75\" xlink:actuate=\"onRequest\" xlink:href=\"psysml:943270d7-f648-4f2b-99ed-798f0a01be75\" xlink:show=\"new\" xlink:title=\"psysml:943270d7-f648-4f2b-99ed-798f0a01be75\" xlink:type=\"simple\"><rect fill=\"#FFFFFF\" height=\"45.9375\" id=\"E3\" rx=\"10\" ry=\"10\" style=\"stroke: #383838; stroke-width: 1.5;\" width=\"80\" x=\"290\" y=\"62\"/><text fill=\"#000000\" font-family=\"sans-serif\" font-size=\"12\" font-style=\"italic\" lengthAdjust=\"spacingAndGlyphs\" textLength=\"78\" x=\"291\" y=\"78.1387\">«constraint»</text><text fill=\"#000000\" font-family=\"sans-serif\" font-size=\"12\" lengthAdjust=\"spacingAndGlyphs\" textLength=\"23\" x=\"318.5\" y=\"92.1074\">c: C</text><line style=\"stroke: #383838; stroke-width: 1.5;\" x1=\"291\" x2=\"369\" y1=\"99.9375\" y2=\"99.9375\"/></a><!--MD5=[ebbe1d658d1005bcc118a6aa81145e00]\n",
       "class E4--><a href=\"psysml:3547be1a-4b91-4a24-a66e-ac992d912d25\" target=\"_top\" title=\"psysml:3547be1a-4b91-4a24-a66e-ac992d912d25\" xlink:actuate=\"onRequest\" xlink:href=\"psysml:3547be1a-4b91-4a24-a66e-ac992d912d25\" xlink:show=\"new\" xlink:title=\"psysml:3547be1a-4b91-4a24-a66e-ac992d912d25\" xlink:type=\"simple\"><rect fill=\"#FFFFFF\" height=\"109.1563\" id=\"E4\" style=\"stroke: #383838; stroke-width: 1.5;\" width=\"117\" x=\"32.5\" y=\"313\"/><text fill=\"#000000\" font-family=\"sans-serif\" font-size=\"12\" font-style=\"italic\" lengthAdjust=\"spacingAndGlyphs\" textLength=\"115\" x=\"33.5\" y=\"329.1387\">«requirement def»</text><text fill=\"#000000\" font-family=\"sans-serif\" font-size=\"12\" lengthAdjust=\"spacingAndGlyphs\" textLength=\"8\" x=\"87\" y=\"343.1074\">R</text><line style=\"stroke: #383838; stroke-width: 1.5;\" x1=\"33.5\" x2=\"148.5\" y1=\"350.9375\" y2=\"350.9375\"/><text fill=\"#000000\" font-family=\"sans-serif\" font-size=\"11\" lengthAdjust=\"spacingAndGlyphs\" textLength=\"0\" x=\"42.5\" y=\"365.1479\"/><line style=\"stroke: #383838; stroke-width: 1.0;\" x1=\"33.5\" x2=\"148.5\" y1=\"371.7422\" y2=\"371.7422\"/><text fill=\"#000000\" font-family=\"sans-serif\" font-size=\"11\" font-weight=\"bold\" lengthAdjust=\"spacingAndGlyphs\" textLength=\"46\" x=\"38.5\" y=\"402.7573\">require</text><text fill=\"#000000\" font-family=\"sans-serif\" font-size=\"11\" lengthAdjust=\"spacingAndGlyphs\" textLength=\"6\" x=\"88.5\" y=\"402.7573\">c</text><text fill=\"#000000\" font-family=\"sans-serif\" font-size=\"11\" font-style=\"italic\" lengthAdjust=\"spacingAndGlyphs\" textLength=\"46\" x=\"38.5\" y=\"415.562\">assume</text><text fill=\"#000000\" font-family=\"sans-serif\" font-size=\"11\" lengthAdjust=\"spacingAndGlyphs\" textLength=\"29\" x=\"88.5\" y=\"415.562\">c1: C</text><line style=\"stroke: #383838; stroke-width: 1.0;\" x1=\"33.5\" x2=\"59\" y1=\"386.1445\" y2=\"386.1445\"/><text fill=\"#000000\" font-family=\"sans-serif\" font-size=\"11\" lengthAdjust=\"spacingAndGlyphs\" textLength=\"64\" x=\"59\" y=\"389.4526\">constraints</text><line style=\"stroke: #383838; stroke-width: 1.0;\" x1=\"123\" x2=\"148.5\" y1=\"386.1445\" y2=\"386.1445\"/></a><!--MD5=[2156ba9850f5573cc1fc38a6a4b2f02b]\n",
       "class E7--><a href=\"psysml:5cc59123-afbd-4e9a-96fa-0bfa0b631260\" target=\"_top\" title=\"psysml:5cc59123-afbd-4e9a-96fa-0bfa0b631260\" xlink:actuate=\"onRequest\" xlink:href=\"psysml:5cc59123-afbd-4e9a-96fa-0bfa0b631260\" xlink:show=\"new\" xlink:title=\"psysml:5cc59123-afbd-4e9a-96fa-0bfa0b631260\" xlink:type=\"simple\"><rect fill=\"#FFFFFF\" height=\"45.9375\" id=\"E7\" rx=\"10\" ry=\"10\" style=\"stroke: #383838; stroke-width: 1.5;\" width=\"93\" x=\"34.5\" y=\"493.5\"/><text fill=\"#000000\" font-family=\"sans-serif\" font-size=\"12\" font-style=\"italic\" lengthAdjust=\"spacingAndGlyphs\" textLength=\"91\" x=\"35.5\" y=\"509.6387\">«requirement»</text><text fill=\"#000000\" font-family=\"sans-serif\" font-size=\"12\" lengthAdjust=\"spacingAndGlyphs\" text-decoration=\"line-through\" textLength=\"51\" x=\"55.5\" y=\"523.6074\">noname</text><line style=\"stroke: #383838; stroke-width: 1.5;\" x1=\"35.5\" x2=\"126.5\" y1=\"531.4375\" y2=\"531.4375\"/></a><!--MD5=[b9389687b975829384b498ac4b7476b2]\n",
       "class E8--><a href=\"psysml:49e593a4-f39b-4803-a2ce-02c26b916197\" target=\"_top\" title=\"psysml:49e593a4-f39b-4803-a2ce-02c26b916197\" xlink:actuate=\"onRequest\" xlink:href=\"psysml:49e593a4-f39b-4803-a2ce-02c26b916197\" xlink:show=\"new\" xlink:title=\"psysml:49e593a4-f39b-4803-a2ce-02c26b916197\" xlink:type=\"simple\"><rect fill=\"#FFFFFF\" height=\"66.7422\" id=\"E8\" style=\"stroke: #383838; stroke-width: 1.5;\" width=\"117\" x=\"162.5\" y=\"483\"/><text fill=\"#000000\" font-family=\"sans-serif\" font-size=\"12\" font-style=\"italic\" lengthAdjust=\"spacingAndGlyphs\" textLength=\"115\" x=\"163.5\" y=\"499.1387\">«requirement def»</text><text fill=\"#000000\" font-family=\"sans-serif\" font-size=\"12\" lengthAdjust=\"spacingAndGlyphs\" textLength=\"5\" x=\"208\" y=\"513.1074\">[</text><text fill=\"#000000\" font-family=\"sans-serif\" font-size=\"12\" font-weight=\"bold\" lengthAdjust=\"spacingAndGlyphs\" textLength=\"8\" x=\"213\" y=\"513.1074\">1</text><text fill=\"#000000\" font-family=\"sans-serif\" font-size=\"12\" lengthAdjust=\"spacingAndGlyphs\" textLength=\"17\" x=\"221\" y=\"513.1074\">] A</text><line style=\"stroke: #383838; stroke-width: 1.5;\" x1=\"163.5\" x2=\"278.5\" y1=\"520.9375\" y2=\"520.9375\"/><text fill=\"#000000\" font-family=\"sans-serif\" font-size=\"11\" lengthAdjust=\"spacingAndGlyphs\" textLength=\"24\" x=\"168.5\" y=\"535.1479\">Text</text><line style=\"stroke: #383838; stroke-width: 1.0;\" x1=\"163.5\" x2=\"278.5\" y1=\"541.7422\" y2=\"541.7422\"/></a><!--MD5=[fd4143e9d270a159db93a4ea2a975926]\n",
       "class E9--><a href=\"psysml:79fb73d3-867b-49b4-8196-8eb6e64f62f0\" target=\"_top\" title=\"psysml:79fb73d3-867b-49b4-8196-8eb6e64f62f0\" xlink:actuate=\"onRequest\" xlink:href=\"psysml:79fb73d3-867b-49b4-8196-8eb6e64f62f0\" xlink:show=\"new\" xlink:title=\"psysml:79fb73d3-867b-49b4-8196-8eb6e64f62f0\" xlink:type=\"simple\"><rect fill=\"#FFFFFF\" height=\"88.3516\" id=\"E9\" style=\"stroke: #383838; stroke-width: 1.5;\" width=\"145\" x=\"109.5\" y=\"41\"/><text fill=\"#000000\" font-family=\"sans-serif\" font-size=\"12\" font-style=\"italic\" lengthAdjust=\"spacingAndGlyphs\" textLength=\"115\" x=\"124.5\" y=\"57.1387\">«requirement def»</text><text fill=\"#000000\" font-family=\"sans-serif\" font-size=\"12\" lengthAdjust=\"spacingAndGlyphs\" textLength=\"16\" x=\"174\" y=\"71.1074\">R1</text><line style=\"stroke: #383838; stroke-width: 1.5;\" x1=\"110.5\" x2=\"253.5\" y1=\"78.9375\" y2=\"78.9375\"/><text fill=\"#000000\" font-family=\"sans-serif\" font-size=\"11\" font-weight=\"bold\" lengthAdjust=\"spacingAndGlyphs\" textLength=\"46\" x=\"115.5\" y=\"109.9526\">require</text><text fill=\"#000000\" font-family=\"sans-serif\" font-size=\"11\" lengthAdjust=\"spacingAndGlyphs\" textLength=\"13\" x=\"165.5\" y=\"109.9526\">c1</text><text fill=\"#000000\" font-family=\"sans-serif\" font-size=\"11\" font-style=\"italic\" lengthAdjust=\"spacingAndGlyphs\" textLength=\"133\" x=\"115.5\" y=\"122.7573\">:&gt;&gt;RequirementTest::c</text><line style=\"stroke: #383838; stroke-width: 1.0;\" x1=\"110.5\" x2=\"150\" y1=\"93.3398\" y2=\"93.3398\"/><text fill=\"#000000\" font-family=\"sans-serif\" font-size=\"11\" lengthAdjust=\"spacingAndGlyphs\" textLength=\"64\" x=\"150\" y=\"96.6479\">constraints</text><line style=\"stroke: #383838; stroke-width: 1.0;\" x1=\"214\" x2=\"253.5\" y1=\"93.3398\" y2=\"93.3398\"/></a><!--MD5=[1dd1bfd58a279cf63c5f349dbc8fc6a1]\n",
       "class E11--><a href=\"psysml:510a33c1-eff7-4e5e-90b4-a63ef5b72ae6\" target=\"_top\" title=\"psysml:510a33c1-eff7-4e5e-90b4-a63ef5b72ae6\" xlink:actuate=\"onRequest\" xlink:href=\"psysml:510a33c1-eff7-4e5e-90b4-a63ef5b72ae6\" xlink:show=\"new\" xlink:title=\"psysml:510a33c1-eff7-4e5e-90b4-a63ef5b72ae6\" xlink:type=\"simple\"><rect fill=\"#FFFFFF\" height=\"45.9375\" id=\"E11\" rx=\"10\" ry=\"10\" style=\"stroke: #383838; stroke-width: 1.5;\" width=\"42\" x=\"185\" y=\"344.5\"/><text fill=\"#000000\" font-family=\"sans-serif\" font-size=\"12\" font-style=\"italic\" lengthAdjust=\"spacingAndGlyphs\" textLength=\"40\" x=\"186\" y=\"360.6387\">«part»</text><text fill=\"#000000\" font-family=\"sans-serif\" font-size=\"12\" lengthAdjust=\"spacingAndGlyphs\" textLength=\"8\" x=\"202\" y=\"374.6074\">p</text><line style=\"stroke: #383838; stroke-width: 1.5;\" x1=\"186\" x2=\"226\" y1=\"382.4375\" y2=\"382.4375\"/></a><!--MD5=[49a0ec8f00dab7302a31f22d0f0fe584]\n",
       "class E12--><a href=\"psysml:a6cd5ff6-20a0-4014-8266-5a2f114de57c\" target=\"_top\" title=\"psysml:a6cd5ff6-20a0-4014-8266-5a2f114de57c\" xlink:actuate=\"onRequest\" xlink:href=\"psysml:a6cd5ff6-20a0-4014-8266-5a2f114de57c\" xlink:show=\"new\" xlink:title=\"psysml:a6cd5ff6-20a0-4014-8266-5a2f114de57c\" xlink:type=\"simple\"><rect fill=\"#FFFFFF\" height=\"45.9375\" id=\"E12\" rx=\"10\" ry=\"10\" style=\"stroke: #383838; stroke-width: 1.5;\" width=\"42\" x=\"32\" y=\"62\"/><text fill=\"#000000\" font-family=\"sans-serif\" font-size=\"12\" font-style=\"italic\" lengthAdjust=\"spacingAndGlyphs\" textLength=\"40\" x=\"33\" y=\"78.1387\">«part»</text><text fill=\"#000000\" font-family=\"sans-serif\" font-size=\"12\" lengthAdjust=\"spacingAndGlyphs\" textLength=\"8\" x=\"49\" y=\"92.1074\">q</text><line style=\"stroke: #383838; stroke-width: 1.5;\" x1=\"33\" x2=\"73\" y1=\"99.9375\" y2=\"99.9375\"/></a><!--MD5=[ee3c913d1a06f366521f9ef512b67efe]\n",
       "class E13--><a href=\"psysml:50b94a4a-7c4d-4845-a3da-b360d2df1f8c\" target=\"_top\" title=\"psysml:50b94a4a-7c4d-4845-a3da-b360d2df1f8c\" xlink:actuate=\"onRequest\" xlink:href=\"psysml:50b94a4a-7c4d-4845-a3da-b360d2df1f8c\" xlink:show=\"new\" xlink:title=\"psysml:50b94a4a-7c4d-4845-a3da-b360d2df1f8c\" xlink:type=\"simple\"><rect fill=\"#FFFFFF\" height=\"45.9375\" id=\"E13\" rx=\"10\" ry=\"10\" style=\"stroke: #383838; stroke-width: 1.5;\" width=\"93\" x=\"44.5\" y=\"190\"/><text fill=\"#000000\" font-family=\"sans-serif\" font-size=\"12\" font-style=\"italic\" lengthAdjust=\"spacingAndGlyphs\" textLength=\"91\" x=\"45.5\" y=\"206.1387\">«requirement»</text><text fill=\"#000000\" font-family=\"sans-serif\" font-size=\"12\" lengthAdjust=\"spacingAndGlyphs\" textLength=\"21\" x=\"80.5\" y=\"220.1074\">r: R</text><line style=\"stroke: #383838; stroke-width: 1.5;\" x1=\"45.5\" x2=\"136.5\" y1=\"227.9375\" y2=\"227.9375\"/></a><!--MD5=[05d275557350bfb9b23a4ef7222b4c39]\n",
       "link E3 to E2--><a href=\"psysml:e8229714-231f-4f2a-9005-056b1e69efb5\" target=\"_top\" title=\"psysml:e8229714-231f-4f2a-9005-056b1e69efb5\" xlink:actuate=\"onRequest\" xlink:href=\"psysml:e8229714-231f-4f2a-9005-056b1e69efb5\" xlink:show=\"new\" xlink:title=\"psysml:e8229714-231f-4f2a-9005-056b1e69efb5\" xlink:type=\"simple\"><path d=\"M327.88,108.24 C326.26,125.24 323.98,149.19 322.02,169.79 \" fill=\"none\" id=\"E3-&gt;E2\" style=\"stroke: #383838; stroke-width: 1.0;\"/><polygon fill=\"#FFFFFF\" points=\"320.1,189.99,314.9362,170.411,328.8729,171.7407,320.1,189.99\" style=\"stroke: #383838; stroke-width: 1.0;\"/><ellipse cx=\"317.4685\" cy=\"164.9268\" fill=\"#383838\" rx=\"2\" ry=\"2\" style=\"stroke: #383838; stroke-width: 1.0;\"/><ellipse cx=\"327.4233\" cy=\"165.8765\" fill=\"#383838\" rx=\"2\" ry=\"2\" style=\"stroke: #383838; stroke-width: 1.0;\"/></a><!--MD5=[722ff4eef345aa10242dad44df0e98c7]\n",
       "reverse link E4 to E7--><a href=\"psysml:eafce8af-10f9-4af7-9431-7513cc7d3347\" target=\"_top\" title=\"psysml:eafce8af-10f9-4af7-9431-7513cc7d3347\" xlink:actuate=\"onRequest\" xlink:href=\"psysml:eafce8af-10f9-4af7-9431-7513cc7d3347\" xlink:show=\"new\" xlink:title=\"psysml:eafce8af-10f9-4af7-9431-7513cc7d3347\" xlink:type=\"simple\"><path d=\"M86.44,435.59 C85.02,456.46 83.55,478.02 82.5,493.48 \" fill=\"none\" id=\"E4&lt;-E7\" style=\"stroke: #383838; stroke-width: 1.0;\"/><polygon fill=\"#383838\" points=\"87.33,422.4,82.9306,428.1136,86.5125,434.3721,90.912,428.6586,87.33,422.4\" style=\"stroke: #383838; stroke-width: 1.0;\"/></a><!--MD5=[c6fc7cdb0cabde04948078cf183fa696]\n",
       "reverse link E4 to E8--><a href=\"psysml:a0130814-5dc8-48af-af1a-9e985463643e\" target=\"_top\" title=\"psysml:a0130814-5dc8-48af-af1a-9e985463643e\" xlink:actuate=\"onRequest\" xlink:href=\"psysml:a0130814-5dc8-48af-af1a-9e985463643e\" xlink:show=\"new\" xlink:title=\"psysml:a0130814-5dc8-48af-af1a-9e985463643e\" xlink:type=\"simple\"><path d=\"M148.94,434.02 C163.95,450.99 179.47,468.53 192.24,482.98 \" fill=\"none\" id=\"E4&lt;-E8\" style=\"stroke: #383838; stroke-width: 1.0;\"/><ellipse cx=\"143.9698\" cy=\"428.3927\" fill=\"#FFFFFF\" rx=\"8\" ry=\"8\" style=\"stroke: #383838; stroke-width: 1.0;\"/><line style=\"stroke: #383838; stroke-width: 1.0;\" x1=\"149.2695\" x2=\"138.67\" y1=\"434.3854\" y2=\"422.4\"/><line style=\"stroke: #383838; stroke-width: 1.0;\" x1=\"137.9771\" x2=\"149.9625\" y1=\"433.6925\" y2=\"423.0929\"/></a><!--MD5=[062ed86c389d1a88f61c6380d0491e17]\n",
       "reverse link E12 to E13--><a href=\"psysml:044b978f-2385-4425-992f-2d75b645c055\" target=\"_top\" title=\"psysml:044b978f-2385-4425-992f-2d75b645c055\" xlink:actuate=\"onRequest\" xlink:href=\"psysml:044b978f-2385-4425-992f-2d75b645c055\" xlink:show=\"new\" xlink:title=\"psysml:044b978f-2385-4425-992f-2d75b645c055\" xlink:type=\"simple\"><path d=\"M63.49,120.8 C70.17,142.92 78.6,170.89 84.36,189.99 \" fill=\"none\" id=\"E12&lt;-E13\" style=\"stroke: #383838; stroke-width: 1.0;\"/><polygon fill=\"#383838\" points=\"59.71,108.24,57.6129,115.1394,63.1751,119.7288,65.2722,112.8294,59.71,108.24\" style=\"stroke: #383838; stroke-width: 1.0;\"/></a><!--MD5=[017847e01ff9a8bd19f247411074f987]\n",
       "link E13 to E4--><a href=\"psysml:279d9c9b-21cb-4076-8967-339bf6a79b4c\" target=\"_top\" title=\"psysml:279d9c9b-21cb-4076-8967-339bf6a79b4c\" xlink:actuate=\"onRequest\" xlink:href=\"psysml:279d9c9b-21cb-4076-8967-339bf6a79b4c\" xlink:show=\"new\" xlink:title=\"psysml:279d9c9b-21cb-4076-8967-339bf6a79b4c\" xlink:type=\"simple\"><path d=\"M91,236.17 C91,251.17 91,271.91 91,292.44 \" fill=\"none\" id=\"E13-&gt;E4\" style=\"stroke: #383838; stroke-width: 1.0;\"/><polygon fill=\"#FFFFFF\" points=\"91,312.68,84,293.68,98,293.68,91,312.68\" style=\"stroke: #383838; stroke-width: 1.0;\"/><ellipse cx=\"86\" cy=\"287.98\" fill=\"#383838\" rx=\"2\" ry=\"2\" style=\"stroke: #383838; stroke-width: 1.0;\"/><ellipse cx=\"96\" cy=\"287.98\" fill=\"#383838\" rx=\"2\" ry=\"2\" style=\"stroke: #383838; stroke-width: 1.0;\"/></a><!--MD5=[2cfe899c895462254056921bfb67315f]\n",
       "link E13 to E11--><a href=\"psysml:fcf36e7c-2665-4a1d-8cf4-6fcc5b08ef04\" target=\"_top\" title=\"psysml:fcf36e7c-2665-4a1d-8cf4-6fcc5b08ef04\" xlink:actuate=\"onRequest\" xlink:href=\"psysml:fcf36e7c-2665-4a1d-8cf4-6fcc5b08ef04\" xlink:show=\"new\" xlink:title=\"psysml:fcf36e7c-2665-4a1d-8cf4-6fcc5b08ef04\" xlink:type=\"simple\"><path d=\"M108.36,236.29 C123.87,256.28 147.14,286.45 167,313 C173.57,321.78 180.66,331.44 186.97,340.12 \" fill=\"none\" id=\"E13-&gt;E11\" style=\"stroke: #383838; stroke-width: 1.0; stroke-dasharray: 7.0,7.0;\"/><polygon fill=\"#383838\" points=\"189.99,344.28,187.9274,334.6496,187.0474,340.2376,181.4594,339.3576,189.99,344.28\" style=\"stroke: #383838; stroke-width: 1.0;\"/><text fill=\"#000000\" font-family=\"sans-serif\" font-size=\"13\" lengthAdjust=\"spacingAndGlyphs\" textLength=\"57\" x=\"145\" y=\"279.0669\">«satisfy»</text></a><!--MD5=[106e978ce3b3c6b6d14da7be7320ccbd]\n",
       "@startuml\r\n",
       "top to bottom direction\r\n",
       "skinparam monochrome true\r\n",
       "skinparam classbackgroundcolor white\r\n",
       "skinparam shadowing false\r\n",
       "skinparam wrapWidth 300\r\n",
       "hide circle\r\n",
       "\r\n",
       "package \"RequirementTest\" as E1  [[psysml:f822a5b9-f637-4bfc-9356-d45755be39c3 ]]  {\r\n",
       "comp def \"C\" as E2  <<(T,blue)constraint def>> [[psysml:55e0c843-cabd-4238-9430-5e5ddb37e322 ]] {\r\n",
       "}\r\n",
       "comp usage \"c: C\" as E3  <<(T,blue)constraint>> [[psysml:943270d7-f648-4f2b-99ed-798f0a01be75 ]] {\r\n",
       "}\r\n",
       "comp def \"R\" as E4  <<(T,blue)requirement def>> [[psysml:3547be1a-4b91-4a24-a66e-ac992d912d25 ]] {\r\n",
       "\r\n",
       "- -\r\n",
       "- - constraints - -\r\n",
       "<b>require</b> c\r\n",
       "<i>assume</i> c1: C\r\n",
       "}\r\n",
       "comp usage \"<s>noname</s>\" as E7  <<(T,blue)requirement>> [[psysml:5cc59123-afbd-4e9a-96fa-0bfa0b631260 ]] {\r\n",
       "}\r\n",
       "comp def \" [<b>1</b>] A\" as E8  <<(T,blue)requirement def>> [[psysml:49e593a4-f39b-4803-a2ce-02c26b916197 ]] {\r\n",
       "Text\r\n",
       "- -\r\n",
       "}\r\n",
       "comp def \"R1\" as E9  <<(T,blue)requirement def>> [[psysml:79fb73d3-867b-49b4-8196-8eb6e64f62f0 ]] {\r\n",
       "- - constraints - -\r\n",
       "<b>require</b> c1\\n//:>>RequirementTest::c// \r\n",
       "}\r\n",
       "comp usage \"p\" as E11  <<(T,blue)part>> [[psysml:510a33c1-eff7-4e5e-90b4-a63ef5b72ae6 ]] {\r\n",
       "}\r\n",
       "comp usage \"q\" as E12  <<(T,blue)part>> [[psysml:a6cd5ff6-20a0-4014-8266-5a2f114de57c ]] {\r\n",
       "}\r\n",
       "comp usage \"r: R\" as E13  <<(T,blue)requirement>> [[psysml:50b94a4a-7c4d-4845-a3da-b360d2df1f8c ]] {\r\n",
       "}\r\n",
       "E3 - -:|> E2 [[psysml:e8229714-231f-4f2a-9005-056b1e69efb5 ]] \r\n",
       "E4 *- - E7 [[psysml:eafce8af-10f9-4af7-9431-7513cc7d3347 ]] \r\n",
       "E4 +- - E8 [[psysml:a0130814-5dc8-48af-af1a-9e985463643e ]] \r\n",
       "E12 *- - E13 [[psysml:044b978f-2385-4425-992f-2d75b645c055 ]] \r\n",
       "E13 - -:|> E4 [[psysml:279d9c9b-21cb-4076-8967-339bf6a79b4c ]] \r\n",
       "E13 ..> E11 [[psysml:fcf36e7c-2665-4a1d-8cf4-6fcc5b08ef04 ]] : <<satisfy>>\r\n",
       "}\r\n",
       "@enduml\r\n",
       "\n",
       "PlantUML version 1.2020.13(Sat Jun 13 12:26:38 UTC 2020)\n",
       "(EPL source distribution)\n",
       "Java Runtime: OpenJDK Runtime Environment\n",
       "JVM: OpenJDK 64-Bit Server VM\n",
       "Default Encoding: UTF-8\n",
       "Language: en\n",
       "Country: null\n",
       "--></g></svg>"
      ]
     },
     "execution_count": 50,
     "metadata": {},
     "output_type": "execute_result"
    }
   ],
   "source": [
    "%viz --style=\"TB\" --view=\"MIXED\" \"RequirementTest\""
   ]
  },
  {
   "cell_type": "code",
   "execution_count": 51,
   "id": "9ed33923",
   "metadata": {
    "execution": {
     "iopub.execute_input": "2021-04-21T20:21:32.655113Z",
     "iopub.status.busy": "2021-04-21T20:21:32.654225Z",
     "iopub.status.idle": "2021-04-21T20:21:32.798803Z",
     "shell.execute_reply": "2021-04-21T20:21:32.798072Z"
    }
   },
   "outputs": [
    {
     "data": {
      "image/svg+xml": [
       "<?xml version=\"1.0\" encoding=\"UTF-8\" standalone=\"no\"?><svg xmlns=\"http://www.w3.org/2000/svg\" xmlns:xlink=\"http://www.w3.org/1999/xlink\" contentScriptType=\"application/ecmascript\" contentStyleType=\"text/css\" height=\"578px\" preserveAspectRatio=\"none\" style=\"width:408px;height:578px;\" version=\"1.1\" viewBox=\"0 0 408 578\" width=\"408px\" zoomAndPan=\"magnify\"><defs/><g><!--MD5=[fbc87193dbaf4d95561dea2c320d4a47]\n",
       "cluster E1--><a href=\"psysml:f822a5b9-f637-4bfc-9356-d45755be39c3\" target=\"_top\" title=\"psysml:f822a5b9-f637-4bfc-9356-d45755be39c3\" xlink:actuate=\"onRequest\" xlink:href=\"psysml:f822a5b9-f637-4bfc-9356-d45755be39c3\" xlink:show=\"new\" xlink:title=\"psysml:f822a5b9-f637-4bfc-9356-d45755be39c3\" xlink:type=\"simple\"><polygon fill=\"#FFFFFF\" points=\"16,6,158,6,165,28.2969,386,28.2969,386,566,16,566,16,6\" style=\"stroke: #000000; stroke-width: 1.5;\"/><line style=\"stroke: #000000; stroke-width: 1.5;\" x1=\"16\" x2=\"165\" y1=\"28.2969\" y2=\"28.2969\"/><text fill=\"#000000\" font-family=\"sans-serif\" font-size=\"14\" font-weight=\"bold\" lengthAdjust=\"spacingAndGlyphs\" textLength=\"136\" x=\"20\" y=\"20.9951\">RequirementTest</text></a><!--MD5=[b4997ac47864f28c2f74865a473b2911]\n",
       "class E2--><a href=\"psysml:55e0c843-cabd-4238-9430-5e5ddb37e322\" target=\"_top\" title=\"psysml:55e0c843-cabd-4238-9430-5e5ddb37e322\" xlink:actuate=\"onRequest\" xlink:href=\"psysml:55e0c843-cabd-4238-9430-5e5ddb37e322\" xlink:show=\"new\" xlink:title=\"psysml:55e0c843-cabd-4238-9430-5e5ddb37e322\" xlink:type=\"simple\"><rect fill=\"#FFFFFF\" height=\"45.9375\" id=\"E2\" style=\"stroke: #383838; stroke-width: 1.5;\" width=\"104\" x=\"266\" y=\"190\"/><text fill=\"#000000\" font-family=\"sans-serif\" font-size=\"12\" font-style=\"italic\" lengthAdjust=\"spacingAndGlyphs\" textLength=\"102\" x=\"267\" y=\"206.1387\">«constraint def»</text><text fill=\"#000000\" font-family=\"sans-serif\" font-size=\"12\" lengthAdjust=\"spacingAndGlyphs\" textLength=\"8\" x=\"314\" y=\"220.1074\">C</text><line style=\"stroke: #383838; stroke-width: 1.5;\" x1=\"267\" x2=\"369\" y1=\"227.9375\" y2=\"227.9375\"/></a><!--MD5=[09b614a08d8cba4a07c9adeb5e0fee81]\n",
       "class E3--><a href=\"psysml:943270d7-f648-4f2b-99ed-798f0a01be75\" target=\"_top\" title=\"psysml:943270d7-f648-4f2b-99ed-798f0a01be75\" xlink:actuate=\"onRequest\" xlink:href=\"psysml:943270d7-f648-4f2b-99ed-798f0a01be75\" xlink:show=\"new\" xlink:title=\"psysml:943270d7-f648-4f2b-99ed-798f0a01be75\" xlink:type=\"simple\"><rect fill=\"#FFFFFF\" height=\"45.9375\" id=\"E3\" rx=\"10\" ry=\"10\" style=\"stroke: #383838; stroke-width: 1.5;\" width=\"80\" x=\"290\" y=\"62\"/><text fill=\"#000000\" font-family=\"sans-serif\" font-size=\"12\" font-style=\"italic\" lengthAdjust=\"spacingAndGlyphs\" textLength=\"78\" x=\"291\" y=\"78.1387\">«constraint»</text><text fill=\"#000000\" font-family=\"sans-serif\" font-size=\"12\" lengthAdjust=\"spacingAndGlyphs\" textLength=\"23\" x=\"318.5\" y=\"92.1074\">c: C</text><line style=\"stroke: #383838; stroke-width: 1.5;\" x1=\"291\" x2=\"369\" y1=\"99.9375\" y2=\"99.9375\"/></a><!--MD5=[ebbe1d658d1005bcc118a6aa81145e00]\n",
       "class E4--><a href=\"psysml:3547be1a-4b91-4a24-a66e-ac992d912d25\" target=\"_top\" title=\"psysml:3547be1a-4b91-4a24-a66e-ac992d912d25\" xlink:actuate=\"onRequest\" xlink:href=\"psysml:3547be1a-4b91-4a24-a66e-ac992d912d25\" xlink:show=\"new\" xlink:title=\"psysml:3547be1a-4b91-4a24-a66e-ac992d912d25\" xlink:type=\"simple\"><rect fill=\"#FFFFFF\" height=\"109.1563\" id=\"E4\" style=\"stroke: #383838; stroke-width: 1.5;\" width=\"117\" x=\"32.5\" y=\"313\"/><text fill=\"#000000\" font-family=\"sans-serif\" font-size=\"12\" font-style=\"italic\" lengthAdjust=\"spacingAndGlyphs\" textLength=\"115\" x=\"33.5\" y=\"329.1387\">«requirement def»</text><text fill=\"#000000\" font-family=\"sans-serif\" font-size=\"12\" lengthAdjust=\"spacingAndGlyphs\" textLength=\"8\" x=\"87\" y=\"343.1074\">R</text><line style=\"stroke: #383838; stroke-width: 1.5;\" x1=\"33.5\" x2=\"148.5\" y1=\"350.9375\" y2=\"350.9375\"/><text fill=\"#000000\" font-family=\"sans-serif\" font-size=\"11\" lengthAdjust=\"spacingAndGlyphs\" textLength=\"0\" x=\"42.5\" y=\"365.1479\"/><line style=\"stroke: #383838; stroke-width: 1.0;\" x1=\"33.5\" x2=\"148.5\" y1=\"371.7422\" y2=\"371.7422\"/><text fill=\"#000000\" font-family=\"sans-serif\" font-size=\"11\" font-weight=\"bold\" lengthAdjust=\"spacingAndGlyphs\" textLength=\"46\" x=\"38.5\" y=\"402.7573\">require</text><text fill=\"#000000\" font-family=\"sans-serif\" font-size=\"11\" lengthAdjust=\"spacingAndGlyphs\" textLength=\"6\" x=\"88.5\" y=\"402.7573\">c</text><text fill=\"#000000\" font-family=\"sans-serif\" font-size=\"11\" font-style=\"italic\" lengthAdjust=\"spacingAndGlyphs\" textLength=\"46\" x=\"38.5\" y=\"415.562\">assume</text><text fill=\"#000000\" font-family=\"sans-serif\" font-size=\"11\" lengthAdjust=\"spacingAndGlyphs\" textLength=\"29\" x=\"88.5\" y=\"415.562\">c1: C</text><line style=\"stroke: #383838; stroke-width: 1.0;\" x1=\"33.5\" x2=\"59\" y1=\"386.1445\" y2=\"386.1445\"/><text fill=\"#000000\" font-family=\"sans-serif\" font-size=\"11\" lengthAdjust=\"spacingAndGlyphs\" textLength=\"64\" x=\"59\" y=\"389.4526\">constraints</text><line style=\"stroke: #383838; stroke-width: 1.0;\" x1=\"123\" x2=\"148.5\" y1=\"386.1445\" y2=\"386.1445\"/></a><!--MD5=[2156ba9850f5573cc1fc38a6a4b2f02b]\n",
       "class E7--><a href=\"psysml:5cc59123-afbd-4e9a-96fa-0bfa0b631260\" target=\"_top\" title=\"psysml:5cc59123-afbd-4e9a-96fa-0bfa0b631260\" xlink:actuate=\"onRequest\" xlink:href=\"psysml:5cc59123-afbd-4e9a-96fa-0bfa0b631260\" xlink:show=\"new\" xlink:title=\"psysml:5cc59123-afbd-4e9a-96fa-0bfa0b631260\" xlink:type=\"simple\"><rect fill=\"#FFFFFF\" height=\"45.9375\" id=\"E7\" rx=\"10\" ry=\"10\" style=\"stroke: #383838; stroke-width: 1.5;\" width=\"93\" x=\"34.5\" y=\"493.5\"/><text fill=\"#000000\" font-family=\"sans-serif\" font-size=\"12\" font-style=\"italic\" lengthAdjust=\"spacingAndGlyphs\" textLength=\"91\" x=\"35.5\" y=\"509.6387\">«requirement»</text><text fill=\"#000000\" font-family=\"sans-serif\" font-size=\"12\" lengthAdjust=\"spacingAndGlyphs\" text-decoration=\"line-through\" textLength=\"51\" x=\"55.5\" y=\"523.6074\">noname</text><line style=\"stroke: #383838; stroke-width: 1.5;\" x1=\"35.5\" x2=\"126.5\" y1=\"531.4375\" y2=\"531.4375\"/></a><!--MD5=[b9389687b975829384b498ac4b7476b2]\n",
       "class E8--><a href=\"psysml:49e593a4-f39b-4803-a2ce-02c26b916197\" target=\"_top\" title=\"psysml:49e593a4-f39b-4803-a2ce-02c26b916197\" xlink:actuate=\"onRequest\" xlink:href=\"psysml:49e593a4-f39b-4803-a2ce-02c26b916197\" xlink:show=\"new\" xlink:title=\"psysml:49e593a4-f39b-4803-a2ce-02c26b916197\" xlink:type=\"simple\"><rect fill=\"#FFFFFF\" height=\"66.7422\" id=\"E8\" style=\"stroke: #383838; stroke-width: 1.5;\" width=\"117\" x=\"162.5\" y=\"483\"/><text fill=\"#000000\" font-family=\"sans-serif\" font-size=\"12\" font-style=\"italic\" lengthAdjust=\"spacingAndGlyphs\" textLength=\"115\" x=\"163.5\" y=\"499.1387\">«requirement def»</text><text fill=\"#000000\" font-family=\"sans-serif\" font-size=\"12\" lengthAdjust=\"spacingAndGlyphs\" textLength=\"5\" x=\"208\" y=\"513.1074\">[</text><text fill=\"#000000\" font-family=\"sans-serif\" font-size=\"12\" font-weight=\"bold\" lengthAdjust=\"spacingAndGlyphs\" textLength=\"8\" x=\"213\" y=\"513.1074\">1</text><text fill=\"#000000\" font-family=\"sans-serif\" font-size=\"12\" lengthAdjust=\"spacingAndGlyphs\" textLength=\"17\" x=\"221\" y=\"513.1074\">] A</text><line style=\"stroke: #383838; stroke-width: 1.5;\" x1=\"163.5\" x2=\"278.5\" y1=\"520.9375\" y2=\"520.9375\"/><text fill=\"#000000\" font-family=\"sans-serif\" font-size=\"11\" lengthAdjust=\"spacingAndGlyphs\" textLength=\"24\" x=\"168.5\" y=\"535.1479\">Text</text><line style=\"stroke: #383838; stroke-width: 1.0;\" x1=\"163.5\" x2=\"278.5\" y1=\"541.7422\" y2=\"541.7422\"/></a><!--MD5=[fd4143e9d270a159db93a4ea2a975926]\n",
       "class E9--><a href=\"psysml:79fb73d3-867b-49b4-8196-8eb6e64f62f0\" target=\"_top\" title=\"psysml:79fb73d3-867b-49b4-8196-8eb6e64f62f0\" xlink:actuate=\"onRequest\" xlink:href=\"psysml:79fb73d3-867b-49b4-8196-8eb6e64f62f0\" xlink:show=\"new\" xlink:title=\"psysml:79fb73d3-867b-49b4-8196-8eb6e64f62f0\" xlink:type=\"simple\"><rect fill=\"#FFFFFF\" height=\"88.3516\" id=\"E9\" style=\"stroke: #383838; stroke-width: 1.5;\" width=\"145\" x=\"109.5\" y=\"41\"/><text fill=\"#000000\" font-family=\"sans-serif\" font-size=\"12\" font-style=\"italic\" lengthAdjust=\"spacingAndGlyphs\" textLength=\"115\" x=\"124.5\" y=\"57.1387\">«requirement def»</text><text fill=\"#000000\" font-family=\"sans-serif\" font-size=\"12\" lengthAdjust=\"spacingAndGlyphs\" textLength=\"16\" x=\"174\" y=\"71.1074\">R1</text><line style=\"stroke: #383838; stroke-width: 1.5;\" x1=\"110.5\" x2=\"253.5\" y1=\"78.9375\" y2=\"78.9375\"/><text fill=\"#000000\" font-family=\"sans-serif\" font-size=\"11\" font-weight=\"bold\" lengthAdjust=\"spacingAndGlyphs\" textLength=\"46\" x=\"115.5\" y=\"109.9526\">require</text><text fill=\"#000000\" font-family=\"sans-serif\" font-size=\"11\" lengthAdjust=\"spacingAndGlyphs\" textLength=\"13\" x=\"165.5\" y=\"109.9526\">c1</text><text fill=\"#000000\" font-family=\"sans-serif\" font-size=\"11\" font-style=\"italic\" lengthAdjust=\"spacingAndGlyphs\" textLength=\"133\" x=\"115.5\" y=\"122.7573\">:&gt;&gt;RequirementTest::c</text><line style=\"stroke: #383838; stroke-width: 1.0;\" x1=\"110.5\" x2=\"150\" y1=\"93.3398\" y2=\"93.3398\"/><text fill=\"#000000\" font-family=\"sans-serif\" font-size=\"11\" lengthAdjust=\"spacingAndGlyphs\" textLength=\"64\" x=\"150\" y=\"96.6479\">constraints</text><line style=\"stroke: #383838; stroke-width: 1.0;\" x1=\"214\" x2=\"253.5\" y1=\"93.3398\" y2=\"93.3398\"/></a><!--MD5=[1dd1bfd58a279cf63c5f349dbc8fc6a1]\n",
       "class E11--><a href=\"psysml:510a33c1-eff7-4e5e-90b4-a63ef5b72ae6\" target=\"_top\" title=\"psysml:510a33c1-eff7-4e5e-90b4-a63ef5b72ae6\" xlink:actuate=\"onRequest\" xlink:href=\"psysml:510a33c1-eff7-4e5e-90b4-a63ef5b72ae6\" xlink:show=\"new\" xlink:title=\"psysml:510a33c1-eff7-4e5e-90b4-a63ef5b72ae6\" xlink:type=\"simple\"><rect fill=\"#FFFFFF\" height=\"45.9375\" id=\"E11\" rx=\"10\" ry=\"10\" style=\"stroke: #383838; stroke-width: 1.5;\" width=\"42\" x=\"185\" y=\"344.5\"/><text fill=\"#000000\" font-family=\"sans-serif\" font-size=\"12\" font-style=\"italic\" lengthAdjust=\"spacingAndGlyphs\" textLength=\"40\" x=\"186\" y=\"360.6387\">«part»</text><text fill=\"#000000\" font-family=\"sans-serif\" font-size=\"12\" lengthAdjust=\"spacingAndGlyphs\" textLength=\"8\" x=\"202\" y=\"374.6074\">p</text><line style=\"stroke: #383838; stroke-width: 1.5;\" x1=\"186\" x2=\"226\" y1=\"382.4375\" y2=\"382.4375\"/></a><!--MD5=[49a0ec8f00dab7302a31f22d0f0fe584]\n",
       "class E12--><a href=\"psysml:a6cd5ff6-20a0-4014-8266-5a2f114de57c\" target=\"_top\" title=\"psysml:a6cd5ff6-20a0-4014-8266-5a2f114de57c\" xlink:actuate=\"onRequest\" xlink:href=\"psysml:a6cd5ff6-20a0-4014-8266-5a2f114de57c\" xlink:show=\"new\" xlink:title=\"psysml:a6cd5ff6-20a0-4014-8266-5a2f114de57c\" xlink:type=\"simple\"><rect fill=\"#FFFFFF\" height=\"45.9375\" id=\"E12\" rx=\"10\" ry=\"10\" style=\"stroke: #383838; stroke-width: 1.5;\" width=\"42\" x=\"32\" y=\"62\"/><text fill=\"#000000\" font-family=\"sans-serif\" font-size=\"12\" font-style=\"italic\" lengthAdjust=\"spacingAndGlyphs\" textLength=\"40\" x=\"33\" y=\"78.1387\">«part»</text><text fill=\"#000000\" font-family=\"sans-serif\" font-size=\"12\" lengthAdjust=\"spacingAndGlyphs\" textLength=\"8\" x=\"49\" y=\"92.1074\">q</text><line style=\"stroke: #383838; stroke-width: 1.5;\" x1=\"33\" x2=\"73\" y1=\"99.9375\" y2=\"99.9375\"/></a><!--MD5=[ee3c913d1a06f366521f9ef512b67efe]\n",
       "class E13--><a href=\"psysml:50b94a4a-7c4d-4845-a3da-b360d2df1f8c\" target=\"_top\" title=\"psysml:50b94a4a-7c4d-4845-a3da-b360d2df1f8c\" xlink:actuate=\"onRequest\" xlink:href=\"psysml:50b94a4a-7c4d-4845-a3da-b360d2df1f8c\" xlink:show=\"new\" xlink:title=\"psysml:50b94a4a-7c4d-4845-a3da-b360d2df1f8c\" xlink:type=\"simple\"><rect fill=\"#FFFFFF\" height=\"45.9375\" id=\"E13\" rx=\"10\" ry=\"10\" style=\"stroke: #383838; stroke-width: 1.5;\" width=\"93\" x=\"44.5\" y=\"190\"/><text fill=\"#000000\" font-family=\"sans-serif\" font-size=\"12\" font-style=\"italic\" lengthAdjust=\"spacingAndGlyphs\" textLength=\"91\" x=\"45.5\" y=\"206.1387\">«requirement»</text><text fill=\"#000000\" font-family=\"sans-serif\" font-size=\"12\" lengthAdjust=\"spacingAndGlyphs\" textLength=\"21\" x=\"80.5\" y=\"220.1074\">r: R</text><line style=\"stroke: #383838; stroke-width: 1.5;\" x1=\"45.5\" x2=\"136.5\" y1=\"227.9375\" y2=\"227.9375\"/></a><!--MD5=[05d275557350bfb9b23a4ef7222b4c39]\n",
       "link E3 to E2--><a href=\"psysml:e8229714-231f-4f2a-9005-056b1e69efb5\" target=\"_top\" title=\"psysml:e8229714-231f-4f2a-9005-056b1e69efb5\" xlink:actuate=\"onRequest\" xlink:href=\"psysml:e8229714-231f-4f2a-9005-056b1e69efb5\" xlink:show=\"new\" xlink:title=\"psysml:e8229714-231f-4f2a-9005-056b1e69efb5\" xlink:type=\"simple\"><path d=\"M330,108.18 C330,108.18 330,169.99 330,169.99 \" fill=\"none\" id=\"E3-&gt;E2\" style=\"stroke: #383838; stroke-width: 1.0;\"/><polygon fill=\"#FFFFFF\" points=\"330,189.99,323,170.99,337,170.99,330,189.99\" style=\"stroke: #383838; stroke-width: 1.0;\"/><ellipse cx=\"325\" cy=\"165.29\" fill=\"#383838\" rx=\"2\" ry=\"2\" style=\"stroke: #383838; stroke-width: 1.0;\"/><ellipse cx=\"335\" cy=\"165.29\" fill=\"#383838\" rx=\"2\" ry=\"2\" style=\"stroke: #383838; stroke-width: 1.0;\"/></a><!--MD5=[722ff4eef345aa10242dad44df0e98c7]\n",
       "reverse link E4 to E7--><a href=\"psysml:eafce8af-10f9-4af7-9431-7513cc7d3347\" target=\"_top\" title=\"psysml:eafce8af-10f9-4af7-9431-7513cc7d3347\" xlink:actuate=\"onRequest\" xlink:href=\"psysml:eafce8af-10f9-4af7-9431-7513cc7d3347\" xlink:show=\"new\" xlink:title=\"psysml:eafce8af-10f9-4af7-9431-7513cc7d3347\" xlink:type=\"simple\"><path d=\"M81,435.14 C81,435.14 81,493.41 81,493.41 \" fill=\"none\" id=\"E4&lt;-E7\" style=\"stroke: #383838; stroke-width: 1.0;\"/><polygon fill=\"#383838\" points=\"81,422.14,77,428.14,81,434.14,85,428.14,81,422.14\" style=\"stroke: #383838; stroke-width: 1.0;\"/></a><!--MD5=[c6fc7cdb0cabde04948078cf183fa696]\n",
       "reverse link E4 to E8--><a href=\"psysml:a0130814-5dc8-48af-af1a-9e985463643e\" target=\"_top\" title=\"psysml:a0130814-5dc8-48af-af1a-9e985463643e\" xlink:actuate=\"onRequest\" xlink:href=\"psysml:a0130814-5dc8-48af-af1a-9e985463643e\" xlink:show=\"new\" xlink:title=\"psysml:a0130814-5dc8-48af-af1a-9e985463643e\" xlink:type=\"simple\"><path d=\"M138.5,437.21 C138.5,437.21 138.5,489 138.5,489 C138.5,489 148.92,489 162.36,489 \" fill=\"none\" id=\"E4&lt;-E8\" style=\"stroke: #383838; stroke-width: 1.0;\"/><ellipse cx=\"138.5\" cy=\"430.21\" fill=\"#FFFFFF\" rx=\"8\" ry=\"8\" style=\"stroke: #383838; stroke-width: 1.0;\"/><line style=\"stroke: #383838; stroke-width: 1.0;\" x1=\"138.5\" x2=\"138.5\" y1=\"438.21\" y2=\"422.21\"/><line style=\"stroke: #383838; stroke-width: 1.0;\" x1=\"130.5\" x2=\"146.5\" y1=\"430.21\" y2=\"430.21\"/></a><!--MD5=[062ed86c389d1a88f61c6380d0491e17]\n",
       "reverse link E12 to E13--><a href=\"psysml:044b978f-2385-4425-992f-2d75b645c055\" target=\"_top\" title=\"psysml:044b978f-2385-4425-992f-2d75b645c055\" xlink:actuate=\"onRequest\" xlink:href=\"psysml:044b978f-2385-4425-992f-2d75b645c055\" xlink:show=\"new\" xlink:title=\"psysml:044b978f-2385-4425-992f-2d75b645c055\" xlink:type=\"simple\"><path d=\"M59.25,121.18 C59.25,121.18 59.25,189.99 59.25,189.99 \" fill=\"none\" id=\"E12&lt;-E13\" style=\"stroke: #383838; stroke-width: 1.0;\"/><polygon fill=\"#383838\" points=\"59.25,108.18,55.25,114.18,59.25,120.18,63.25,114.18,59.25,108.18\" style=\"stroke: #383838; stroke-width: 1.0;\"/></a><!--MD5=[017847e01ff9a8bd19f247411074f987]\n",
       "link E13 to E4--><a href=\"psysml:279d9c9b-21cb-4076-8967-339bf6a79b4c\" target=\"_top\" title=\"psysml:279d9c9b-21cb-4076-8967-339bf6a79b4c\" xlink:actuate=\"onRequest\" xlink:href=\"psysml:279d9c9b-21cb-4076-8967-339bf6a79b4c\" xlink:show=\"new\" xlink:title=\"psysml:279d9c9b-21cb-4076-8967-339bf6a79b4c\" xlink:type=\"simple\"><path d=\"M91,236.13 C91,236.13 91,292.77 91,292.77 \" fill=\"none\" id=\"E13-&gt;E4\" style=\"stroke: #383838; stroke-width: 1.0;\"/><polygon fill=\"#FFFFFF\" points=\"91,312.77,84,293.77,98,293.77,91,312.77\" style=\"stroke: #383838; stroke-width: 1.0;\"/><ellipse cx=\"86\" cy=\"288.07\" fill=\"#383838\" rx=\"2\" ry=\"2\" style=\"stroke: #383838; stroke-width: 1.0;\"/><ellipse cx=\"96\" cy=\"288.07\" fill=\"#383838\" rx=\"2\" ry=\"2\" style=\"stroke: #383838; stroke-width: 1.0;\"/></a><!--MD5=[2cfe899c895462254056921bfb67315f]\n",
       "link E13 to E11--><a href=\"psysml:fcf36e7c-2665-4a1d-8cf4-6fcc5b08ef04\" target=\"_top\" title=\"psysml:fcf36e7c-2665-4a1d-8cf4-6fcc5b08ef04\" xlink:actuate=\"onRequest\" xlink:href=\"psysml:fcf36e7c-2665-4a1d-8cf4-6fcc5b08ef04\" xlink:show=\"new\" xlink:title=\"psysml:fcf36e7c-2665-4a1d-8cf4-6fcc5b08ef04\" xlink:type=\"simple\"><path d=\"M137.77,213 C169.61,213 206,213 206,213 C206,213 206,339.37 206,339.37 \" fill=\"none\" id=\"E13-&gt;E11\" style=\"stroke: #383838; stroke-width: 1.0; stroke-dasharray: 7.0,7.0;\"/><polygon fill=\"#383838\" points=\"206,344.37,210,335.37,206,339.37,202,335.37,206,344.37\" style=\"stroke: #383838; stroke-width: 1.0;\"/><text fill=\"#000000\" font-family=\"sans-serif\" font-size=\"13\" lengthAdjust=\"spacingAndGlyphs\" textLength=\"57\" x=\"170\" y=\"279.0669\">«satisfy»</text></a><!--MD5=[c8ed294d899e7b8fad70b835f54296a4]\n",
       "@startuml\r\n",
       "skinparam linetype ortho\r\n",
       "skinparam monochrome true\r\n",
       "skinparam classbackgroundcolor white\r\n",
       "skinparam shadowing false\r\n",
       "skinparam wrapWidth 300\r\n",
       "hide circle\r\n",
       "\r\n",
       "package \"RequirementTest\" as E1  [[psysml:f822a5b9-f637-4bfc-9356-d45755be39c3 ]]  {\r\n",
       "comp def \"C\" as E2  <<(T,blue)constraint def>> [[psysml:55e0c843-cabd-4238-9430-5e5ddb37e322 ]] {\r\n",
       "}\r\n",
       "comp usage \"c: C\" as E3  <<(T,blue)constraint>> [[psysml:943270d7-f648-4f2b-99ed-798f0a01be75 ]] {\r\n",
       "}\r\n",
       "comp def \"R\" as E4  <<(T,blue)requirement def>> [[psysml:3547be1a-4b91-4a24-a66e-ac992d912d25 ]] {\r\n",
       "\r\n",
       "- -\r\n",
       "- - constraints - -\r\n",
       "<b>require</b> c\r\n",
       "<i>assume</i> c1: C\r\n",
       "}\r\n",
       "comp usage \"<s>noname</s>\" as E7  <<(T,blue)requirement>> [[psysml:5cc59123-afbd-4e9a-96fa-0bfa0b631260 ]] {\r\n",
       "}\r\n",
       "comp def \" [<b>1</b>] A\" as E8  <<(T,blue)requirement def>> [[psysml:49e593a4-f39b-4803-a2ce-02c26b916197 ]] {\r\n",
       "Text\r\n",
       "- -\r\n",
       "}\r\n",
       "comp def \"R1\" as E9  <<(T,blue)requirement def>> [[psysml:79fb73d3-867b-49b4-8196-8eb6e64f62f0 ]] {\r\n",
       "- - constraints - -\r\n",
       "<b>require</b> c1\\n//:>>RequirementTest::c// \r\n",
       "}\r\n",
       "comp usage \"p\" as E11  <<(T,blue)part>> [[psysml:510a33c1-eff7-4e5e-90b4-a63ef5b72ae6 ]] {\r\n",
       "}\r\n",
       "comp usage \"q\" as E12  <<(T,blue)part>> [[psysml:a6cd5ff6-20a0-4014-8266-5a2f114de57c ]] {\r\n",
       "}\r\n",
       "comp usage \"r: R\" as E13  <<(T,blue)requirement>> [[psysml:50b94a4a-7c4d-4845-a3da-b360d2df1f8c ]] {\r\n",
       "}\r\n",
       "E3 - -:|> E2 [[psysml:e8229714-231f-4f2a-9005-056b1e69efb5 ]] \r\n",
       "E4 *- - E7 [[psysml:eafce8af-10f9-4af7-9431-7513cc7d3347 ]] \r\n",
       "E4 +- - E8 [[psysml:a0130814-5dc8-48af-af1a-9e985463643e ]] \r\n",
       "E12 *- - E13 [[psysml:044b978f-2385-4425-992f-2d75b645c055 ]] \r\n",
       "E13 - -:|> E4 [[psysml:279d9c9b-21cb-4076-8967-339bf6a79b4c ]] \r\n",
       "E13 ..> E11 [[psysml:fcf36e7c-2665-4a1d-8cf4-6fcc5b08ef04 ]] : <<satisfy>>\r\n",
       "}\r\n",
       "@enduml\r\n",
       "\n",
       "PlantUML version 1.2020.13(Sat Jun 13 12:26:38 UTC 2020)\n",
       "(EPL source distribution)\n",
       "Java Runtime: OpenJDK Runtime Environment\n",
       "JVM: OpenJDK 64-Bit Server VM\n",
       "Default Encoding: UTF-8\n",
       "Language: en\n",
       "Country: null\n",
       "--></g></svg>"
      ]
     },
     "execution_count": 51,
     "metadata": {},
     "output_type": "execute_result"
    }
   ],
   "source": [
    "%viz --style=\"ORTHOLINE\" --view=\"Default\" \"RequirementTest\""
   ]
  },
  {
   "cell_type": "code",
   "execution_count": 52,
   "id": "70f9301b",
   "metadata": {
    "execution": {
     "iopub.execute_input": "2021-04-21T20:21:32.852347Z",
     "iopub.status.busy": "2021-04-21T20:21:32.850277Z",
     "iopub.status.idle": "2021-04-21T20:21:32.993117Z",
     "shell.execute_reply": "2021-04-21T20:21:32.990604Z"
    }
   },
   "outputs": [
    {
     "data": {
      "image/svg+xml": [
       "<?xml version=\"1.0\" encoding=\"UTF-8\" standalone=\"no\"?><svg xmlns=\"http://www.w3.org/2000/svg\" xmlns:xlink=\"http://www.w3.org/1999/xlink\" contentScriptType=\"application/ecmascript\" contentStyleType=\"text/css\" height=\"578px\" preserveAspectRatio=\"none\" style=\"width:408px;height:578px;\" version=\"1.1\" viewBox=\"0 0 408 578\" width=\"408px\" zoomAndPan=\"magnify\"><defs/><g><!--MD5=[fbc87193dbaf4d95561dea2c320d4a47]\n",
       "cluster E1--><a href=\"psysml:f822a5b9-f637-4bfc-9356-d45755be39c3\" target=\"_top\" title=\"psysml:f822a5b9-f637-4bfc-9356-d45755be39c3\" xlink:actuate=\"onRequest\" xlink:href=\"psysml:f822a5b9-f637-4bfc-9356-d45755be39c3\" xlink:show=\"new\" xlink:title=\"psysml:f822a5b9-f637-4bfc-9356-d45755be39c3\" xlink:type=\"simple\"><polygon fill=\"#FFFFFF\" points=\"16,6,158,6,165,28.2969,386,28.2969,386,566,16,566,16,6\" style=\"stroke: #000000; stroke-width: 1.5;\"/><line style=\"stroke: #000000; stroke-width: 1.5;\" x1=\"16\" x2=\"165\" y1=\"28.2969\" y2=\"28.2969\"/><text fill=\"#000000\" font-family=\"sans-serif\" font-size=\"14\" font-weight=\"bold\" lengthAdjust=\"spacingAndGlyphs\" textLength=\"136\" x=\"20\" y=\"20.9951\">RequirementTest</text></a><!--MD5=[b4997ac47864f28c2f74865a473b2911]\n",
       "class E2--><a href=\"psysml:55e0c843-cabd-4238-9430-5e5ddb37e322\" target=\"_top\" title=\"psysml:55e0c843-cabd-4238-9430-5e5ddb37e322\" xlink:actuate=\"onRequest\" xlink:href=\"psysml:55e0c843-cabd-4238-9430-5e5ddb37e322\" xlink:show=\"new\" xlink:title=\"psysml:55e0c843-cabd-4238-9430-5e5ddb37e322\" xlink:type=\"simple\"><rect fill=\"#FFFFFF\" height=\"45.9375\" id=\"E2\" style=\"stroke: #383838; stroke-width: 1.5;\" width=\"104\" x=\"266\" y=\"190\"/><text fill=\"#000000\" font-family=\"sans-serif\" font-size=\"12\" font-style=\"italic\" lengthAdjust=\"spacingAndGlyphs\" textLength=\"102\" x=\"267\" y=\"206.1387\">«constraint def»</text><text fill=\"#000000\" font-family=\"sans-serif\" font-size=\"12\" lengthAdjust=\"spacingAndGlyphs\" textLength=\"8\" x=\"314\" y=\"220.1074\">C</text><line style=\"stroke: #383838; stroke-width: 1.5;\" x1=\"267\" x2=\"369\" y1=\"227.9375\" y2=\"227.9375\"/></a><!--MD5=[09b614a08d8cba4a07c9adeb5e0fee81]\n",
       "class E3--><a href=\"psysml:943270d7-f648-4f2b-99ed-798f0a01be75\" target=\"_top\" title=\"psysml:943270d7-f648-4f2b-99ed-798f0a01be75\" xlink:actuate=\"onRequest\" xlink:href=\"psysml:943270d7-f648-4f2b-99ed-798f0a01be75\" xlink:show=\"new\" xlink:title=\"psysml:943270d7-f648-4f2b-99ed-798f0a01be75\" xlink:type=\"simple\"><rect fill=\"#FFFFFF\" height=\"45.9375\" id=\"E3\" rx=\"10\" ry=\"10\" style=\"stroke: #383838; stroke-width: 1.5;\" width=\"80\" x=\"290\" y=\"62\"/><text fill=\"#000000\" font-family=\"sans-serif\" font-size=\"12\" font-style=\"italic\" lengthAdjust=\"spacingAndGlyphs\" textLength=\"78\" x=\"291\" y=\"78.1387\">«constraint»</text><text fill=\"#000000\" font-family=\"sans-serif\" font-size=\"12\" lengthAdjust=\"spacingAndGlyphs\" textLength=\"23\" x=\"318.5\" y=\"92.1074\">c: C</text><line style=\"stroke: #383838; stroke-width: 1.5;\" x1=\"291\" x2=\"369\" y1=\"99.9375\" y2=\"99.9375\"/></a><!--MD5=[ebbe1d658d1005bcc118a6aa81145e00]\n",
       "class E4--><a href=\"psysml:3547be1a-4b91-4a24-a66e-ac992d912d25\" target=\"_top\" title=\"psysml:3547be1a-4b91-4a24-a66e-ac992d912d25\" xlink:actuate=\"onRequest\" xlink:href=\"psysml:3547be1a-4b91-4a24-a66e-ac992d912d25\" xlink:show=\"new\" xlink:title=\"psysml:3547be1a-4b91-4a24-a66e-ac992d912d25\" xlink:type=\"simple\"><rect fill=\"#FFFFFF\" height=\"109.1563\" id=\"E4\" style=\"stroke: #383838; stroke-width: 1.5;\" width=\"117\" x=\"32.5\" y=\"313\"/><text fill=\"#000000\" font-family=\"sans-serif\" font-size=\"12\" font-style=\"italic\" lengthAdjust=\"spacingAndGlyphs\" textLength=\"115\" x=\"33.5\" y=\"329.1387\">«requirement def»</text><text fill=\"#000000\" font-family=\"sans-serif\" font-size=\"12\" lengthAdjust=\"spacingAndGlyphs\" textLength=\"8\" x=\"87\" y=\"343.1074\">R</text><line style=\"stroke: #383838; stroke-width: 1.5;\" x1=\"33.5\" x2=\"148.5\" y1=\"350.9375\" y2=\"350.9375\"/><text fill=\"#000000\" font-family=\"sans-serif\" font-size=\"11\" lengthAdjust=\"spacingAndGlyphs\" textLength=\"0\" x=\"42.5\" y=\"365.1479\"/><line style=\"stroke: #383838; stroke-width: 1.0;\" x1=\"33.5\" x2=\"148.5\" y1=\"371.7422\" y2=\"371.7422\"/><text fill=\"#000000\" font-family=\"sans-serif\" font-size=\"11\" font-weight=\"bold\" lengthAdjust=\"spacingAndGlyphs\" textLength=\"46\" x=\"38.5\" y=\"402.7573\">require</text><text fill=\"#000000\" font-family=\"sans-serif\" font-size=\"11\" lengthAdjust=\"spacingAndGlyphs\" textLength=\"6\" x=\"88.5\" y=\"402.7573\">c</text><text fill=\"#000000\" font-family=\"sans-serif\" font-size=\"11\" font-style=\"italic\" lengthAdjust=\"spacingAndGlyphs\" textLength=\"46\" x=\"38.5\" y=\"415.562\">assume</text><text fill=\"#000000\" font-family=\"sans-serif\" font-size=\"11\" lengthAdjust=\"spacingAndGlyphs\" textLength=\"29\" x=\"88.5\" y=\"415.562\">c1: C</text><line style=\"stroke: #383838; stroke-width: 1.0;\" x1=\"33.5\" x2=\"59\" y1=\"386.1445\" y2=\"386.1445\"/><text fill=\"#000000\" font-family=\"sans-serif\" font-size=\"11\" lengthAdjust=\"spacingAndGlyphs\" textLength=\"64\" x=\"59\" y=\"389.4526\">constraints</text><line style=\"stroke: #383838; stroke-width: 1.0;\" x1=\"123\" x2=\"148.5\" y1=\"386.1445\" y2=\"386.1445\"/></a><!--MD5=[2156ba9850f5573cc1fc38a6a4b2f02b]\n",
       "class E7--><a href=\"psysml:5cc59123-afbd-4e9a-96fa-0bfa0b631260\" target=\"_top\" title=\"psysml:5cc59123-afbd-4e9a-96fa-0bfa0b631260\" xlink:actuate=\"onRequest\" xlink:href=\"psysml:5cc59123-afbd-4e9a-96fa-0bfa0b631260\" xlink:show=\"new\" xlink:title=\"psysml:5cc59123-afbd-4e9a-96fa-0bfa0b631260\" xlink:type=\"simple\"><rect fill=\"#FFFFFF\" height=\"45.9375\" id=\"E7\" rx=\"10\" ry=\"10\" style=\"stroke: #383838; stroke-width: 1.5;\" width=\"93\" x=\"34.5\" y=\"493.5\"/><text fill=\"#000000\" font-family=\"sans-serif\" font-size=\"12\" font-style=\"italic\" lengthAdjust=\"spacingAndGlyphs\" textLength=\"91\" x=\"35.5\" y=\"509.6387\">«requirement»</text><text fill=\"#000000\" font-family=\"sans-serif\" font-size=\"12\" lengthAdjust=\"spacingAndGlyphs\" text-decoration=\"line-through\" textLength=\"51\" x=\"55.5\" y=\"523.6074\">noname</text><line style=\"stroke: #383838; stroke-width: 1.5;\" x1=\"35.5\" x2=\"126.5\" y1=\"531.4375\" y2=\"531.4375\"/></a><!--MD5=[b9389687b975829384b498ac4b7476b2]\n",
       "class E8--><a href=\"psysml:49e593a4-f39b-4803-a2ce-02c26b916197\" target=\"_top\" title=\"psysml:49e593a4-f39b-4803-a2ce-02c26b916197\" xlink:actuate=\"onRequest\" xlink:href=\"psysml:49e593a4-f39b-4803-a2ce-02c26b916197\" xlink:show=\"new\" xlink:title=\"psysml:49e593a4-f39b-4803-a2ce-02c26b916197\" xlink:type=\"simple\"><rect fill=\"#FFFFFF\" height=\"66.7422\" id=\"E8\" style=\"stroke: #383838; stroke-width: 1.5;\" width=\"117\" x=\"162.5\" y=\"483\"/><text fill=\"#000000\" font-family=\"sans-serif\" font-size=\"12\" font-style=\"italic\" lengthAdjust=\"spacingAndGlyphs\" textLength=\"115\" x=\"163.5\" y=\"499.1387\">«requirement def»</text><text fill=\"#000000\" font-family=\"sans-serif\" font-size=\"12\" lengthAdjust=\"spacingAndGlyphs\" textLength=\"5\" x=\"208\" y=\"513.1074\">[</text><text fill=\"#000000\" font-family=\"sans-serif\" font-size=\"12\" font-weight=\"bold\" lengthAdjust=\"spacingAndGlyphs\" textLength=\"8\" x=\"213\" y=\"513.1074\">1</text><text fill=\"#000000\" font-family=\"sans-serif\" font-size=\"12\" lengthAdjust=\"spacingAndGlyphs\" textLength=\"17\" x=\"221\" y=\"513.1074\">] A</text><line style=\"stroke: #383838; stroke-width: 1.5;\" x1=\"163.5\" x2=\"278.5\" y1=\"520.9375\" y2=\"520.9375\"/><text fill=\"#000000\" font-family=\"sans-serif\" font-size=\"11\" lengthAdjust=\"spacingAndGlyphs\" textLength=\"24\" x=\"168.5\" y=\"535.1479\">Text</text><line style=\"stroke: #383838; stroke-width: 1.0;\" x1=\"163.5\" x2=\"278.5\" y1=\"541.7422\" y2=\"541.7422\"/></a><!--MD5=[fd4143e9d270a159db93a4ea2a975926]\n",
       "class E9--><a href=\"psysml:79fb73d3-867b-49b4-8196-8eb6e64f62f0\" target=\"_top\" title=\"psysml:79fb73d3-867b-49b4-8196-8eb6e64f62f0\" xlink:actuate=\"onRequest\" xlink:href=\"psysml:79fb73d3-867b-49b4-8196-8eb6e64f62f0\" xlink:show=\"new\" xlink:title=\"psysml:79fb73d3-867b-49b4-8196-8eb6e64f62f0\" xlink:type=\"simple\"><rect fill=\"#FFFFFF\" height=\"88.3516\" id=\"E9\" style=\"stroke: #383838; stroke-width: 1.5;\" width=\"145\" x=\"109.5\" y=\"41\"/><text fill=\"#000000\" font-family=\"sans-serif\" font-size=\"12\" font-style=\"italic\" lengthAdjust=\"spacingAndGlyphs\" textLength=\"115\" x=\"124.5\" y=\"57.1387\">«requirement def»</text><text fill=\"#000000\" font-family=\"sans-serif\" font-size=\"12\" lengthAdjust=\"spacingAndGlyphs\" textLength=\"16\" x=\"174\" y=\"71.1074\">R1</text><line style=\"stroke: #383838; stroke-width: 1.5;\" x1=\"110.5\" x2=\"253.5\" y1=\"78.9375\" y2=\"78.9375\"/><text fill=\"#000000\" font-family=\"sans-serif\" font-size=\"11\" font-weight=\"bold\" lengthAdjust=\"spacingAndGlyphs\" textLength=\"46\" x=\"115.5\" y=\"109.9526\">require</text><text fill=\"#000000\" font-family=\"sans-serif\" font-size=\"11\" lengthAdjust=\"spacingAndGlyphs\" textLength=\"13\" x=\"165.5\" y=\"109.9526\">c1</text><text fill=\"#000000\" font-family=\"sans-serif\" font-size=\"11\" font-style=\"italic\" lengthAdjust=\"spacingAndGlyphs\" textLength=\"133\" x=\"115.5\" y=\"122.7573\">:&gt;&gt;RequirementTest::c</text><line style=\"stroke: #383838; stroke-width: 1.0;\" x1=\"110.5\" x2=\"150\" y1=\"93.3398\" y2=\"93.3398\"/><text fill=\"#000000\" font-family=\"sans-serif\" font-size=\"11\" lengthAdjust=\"spacingAndGlyphs\" textLength=\"64\" x=\"150\" y=\"96.6479\">constraints</text><line style=\"stroke: #383838; stroke-width: 1.0;\" x1=\"214\" x2=\"253.5\" y1=\"93.3398\" y2=\"93.3398\"/></a><!--MD5=[1dd1bfd58a279cf63c5f349dbc8fc6a1]\n",
       "class E11--><a href=\"psysml:510a33c1-eff7-4e5e-90b4-a63ef5b72ae6\" target=\"_top\" title=\"psysml:510a33c1-eff7-4e5e-90b4-a63ef5b72ae6\" xlink:actuate=\"onRequest\" xlink:href=\"psysml:510a33c1-eff7-4e5e-90b4-a63ef5b72ae6\" xlink:show=\"new\" xlink:title=\"psysml:510a33c1-eff7-4e5e-90b4-a63ef5b72ae6\" xlink:type=\"simple\"><rect fill=\"#FFFFFF\" height=\"45.9375\" id=\"E11\" rx=\"10\" ry=\"10\" style=\"stroke: #383838; stroke-width: 1.5;\" width=\"42\" x=\"185\" y=\"344.5\"/><text fill=\"#000000\" font-family=\"sans-serif\" font-size=\"12\" font-style=\"italic\" lengthAdjust=\"spacingAndGlyphs\" textLength=\"40\" x=\"186\" y=\"360.6387\">«part»</text><text fill=\"#000000\" font-family=\"sans-serif\" font-size=\"12\" lengthAdjust=\"spacingAndGlyphs\" textLength=\"8\" x=\"202\" y=\"374.6074\">p</text><line style=\"stroke: #383838; stroke-width: 1.5;\" x1=\"186\" x2=\"226\" y1=\"382.4375\" y2=\"382.4375\"/></a><!--MD5=[49a0ec8f00dab7302a31f22d0f0fe584]\n",
       "class E12--><a href=\"psysml:a6cd5ff6-20a0-4014-8266-5a2f114de57c\" target=\"_top\" title=\"psysml:a6cd5ff6-20a0-4014-8266-5a2f114de57c\" xlink:actuate=\"onRequest\" xlink:href=\"psysml:a6cd5ff6-20a0-4014-8266-5a2f114de57c\" xlink:show=\"new\" xlink:title=\"psysml:a6cd5ff6-20a0-4014-8266-5a2f114de57c\" xlink:type=\"simple\"><rect fill=\"#FFFFFF\" height=\"45.9375\" id=\"E12\" rx=\"10\" ry=\"10\" style=\"stroke: #383838; stroke-width: 1.5;\" width=\"42\" x=\"32\" y=\"62\"/><text fill=\"#000000\" font-family=\"sans-serif\" font-size=\"12\" font-style=\"italic\" lengthAdjust=\"spacingAndGlyphs\" textLength=\"40\" x=\"33\" y=\"78.1387\">«part»</text><text fill=\"#000000\" font-family=\"sans-serif\" font-size=\"12\" lengthAdjust=\"spacingAndGlyphs\" textLength=\"8\" x=\"49\" y=\"92.1074\">q</text><line style=\"stroke: #383838; stroke-width: 1.5;\" x1=\"33\" x2=\"73\" y1=\"99.9375\" y2=\"99.9375\"/></a><!--MD5=[ee3c913d1a06f366521f9ef512b67efe]\n",
       "class E13--><a href=\"psysml:50b94a4a-7c4d-4845-a3da-b360d2df1f8c\" target=\"_top\" title=\"psysml:50b94a4a-7c4d-4845-a3da-b360d2df1f8c\" xlink:actuate=\"onRequest\" xlink:href=\"psysml:50b94a4a-7c4d-4845-a3da-b360d2df1f8c\" xlink:show=\"new\" xlink:title=\"psysml:50b94a4a-7c4d-4845-a3da-b360d2df1f8c\" xlink:type=\"simple\"><rect fill=\"#FFFFFF\" height=\"45.9375\" id=\"E13\" rx=\"10\" ry=\"10\" style=\"stroke: #383838; stroke-width: 1.5;\" width=\"93\" x=\"44.5\" y=\"190\"/><text fill=\"#000000\" font-family=\"sans-serif\" font-size=\"12\" font-style=\"italic\" lengthAdjust=\"spacingAndGlyphs\" textLength=\"91\" x=\"45.5\" y=\"206.1387\">«requirement»</text><text fill=\"#000000\" font-family=\"sans-serif\" font-size=\"12\" lengthAdjust=\"spacingAndGlyphs\" textLength=\"21\" x=\"80.5\" y=\"220.1074\">r: R</text><line style=\"stroke: #383838; stroke-width: 1.5;\" x1=\"45.5\" x2=\"136.5\" y1=\"227.9375\" y2=\"227.9375\"/></a><!--MD5=[05d275557350bfb9b23a4ef7222b4c39]\n",
       "link E3 to E2--><a href=\"psysml:e8229714-231f-4f2a-9005-056b1e69efb5\" target=\"_top\" title=\"psysml:e8229714-231f-4f2a-9005-056b1e69efb5\" xlink:actuate=\"onRequest\" xlink:href=\"psysml:e8229714-231f-4f2a-9005-056b1e69efb5\" xlink:show=\"new\" xlink:title=\"psysml:e8229714-231f-4f2a-9005-056b1e69efb5\" xlink:type=\"simple\"><path d=\"M330,108.18 C330,108.18 330,169.99 330,169.99 \" fill=\"none\" id=\"E3-&gt;E2\" style=\"stroke: #383838; stroke-width: 1.0;\"/><polygon fill=\"#FFFFFF\" points=\"330,189.99,323,170.99,337,170.99,330,189.99\" style=\"stroke: #383838; stroke-width: 1.0;\"/><ellipse cx=\"325\" cy=\"165.29\" fill=\"#383838\" rx=\"2\" ry=\"2\" style=\"stroke: #383838; stroke-width: 1.0;\"/><ellipse cx=\"335\" cy=\"165.29\" fill=\"#383838\" rx=\"2\" ry=\"2\" style=\"stroke: #383838; stroke-width: 1.0;\"/></a><!--MD5=[722ff4eef345aa10242dad44df0e98c7]\n",
       "reverse link E4 to E7--><a href=\"psysml:eafce8af-10f9-4af7-9431-7513cc7d3347\" target=\"_top\" title=\"psysml:eafce8af-10f9-4af7-9431-7513cc7d3347\" xlink:actuate=\"onRequest\" xlink:href=\"psysml:eafce8af-10f9-4af7-9431-7513cc7d3347\" xlink:show=\"new\" xlink:title=\"psysml:eafce8af-10f9-4af7-9431-7513cc7d3347\" xlink:type=\"simple\"><path d=\"M81,435.14 C81,435.14 81,493.41 81,493.41 \" fill=\"none\" id=\"E4&lt;-E7\" style=\"stroke: #383838; stroke-width: 1.0;\"/><polygon fill=\"#383838\" points=\"81,422.14,77,428.14,81,434.14,85,428.14,81,422.14\" style=\"stroke: #383838; stroke-width: 1.0;\"/></a><!--MD5=[c6fc7cdb0cabde04948078cf183fa696]\n",
       "reverse link E4 to E8--><a href=\"psysml:a0130814-5dc8-48af-af1a-9e985463643e\" target=\"_top\" title=\"psysml:a0130814-5dc8-48af-af1a-9e985463643e\" xlink:actuate=\"onRequest\" xlink:href=\"psysml:a0130814-5dc8-48af-af1a-9e985463643e\" xlink:show=\"new\" xlink:title=\"psysml:a0130814-5dc8-48af-af1a-9e985463643e\" xlink:type=\"simple\"><path d=\"M138.5,437.21 C138.5,437.21 138.5,489 138.5,489 C138.5,489 148.92,489 162.36,489 \" fill=\"none\" id=\"E4&lt;-E8\" style=\"stroke: #383838; stroke-width: 1.0;\"/><ellipse cx=\"138.5\" cy=\"430.21\" fill=\"#FFFFFF\" rx=\"8\" ry=\"8\" style=\"stroke: #383838; stroke-width: 1.0;\"/><line style=\"stroke: #383838; stroke-width: 1.0;\" x1=\"138.5\" x2=\"138.5\" y1=\"438.21\" y2=\"422.21\"/><line style=\"stroke: #383838; stroke-width: 1.0;\" x1=\"130.5\" x2=\"146.5\" y1=\"430.21\" y2=\"430.21\"/></a><!--MD5=[062ed86c389d1a88f61c6380d0491e17]\n",
       "reverse link E12 to E13--><a href=\"psysml:044b978f-2385-4425-992f-2d75b645c055\" target=\"_top\" title=\"psysml:044b978f-2385-4425-992f-2d75b645c055\" xlink:actuate=\"onRequest\" xlink:href=\"psysml:044b978f-2385-4425-992f-2d75b645c055\" xlink:show=\"new\" xlink:title=\"psysml:044b978f-2385-4425-992f-2d75b645c055\" xlink:type=\"simple\"><path d=\"M59.25,121.18 C59.25,121.18 59.25,189.99 59.25,189.99 \" fill=\"none\" id=\"E12&lt;-E13\" style=\"stroke: #383838; stroke-width: 1.0;\"/><polygon fill=\"#383838\" points=\"59.25,108.18,55.25,114.18,59.25,120.18,63.25,114.18,59.25,108.18\" style=\"stroke: #383838; stroke-width: 1.0;\"/></a><!--MD5=[017847e01ff9a8bd19f247411074f987]\n",
       "link E13 to E4--><a href=\"psysml:279d9c9b-21cb-4076-8967-339bf6a79b4c\" target=\"_top\" title=\"psysml:279d9c9b-21cb-4076-8967-339bf6a79b4c\" xlink:actuate=\"onRequest\" xlink:href=\"psysml:279d9c9b-21cb-4076-8967-339bf6a79b4c\" xlink:show=\"new\" xlink:title=\"psysml:279d9c9b-21cb-4076-8967-339bf6a79b4c\" xlink:type=\"simple\"><path d=\"M91,236.13 C91,236.13 91,292.77 91,292.77 \" fill=\"none\" id=\"E13-&gt;E4\" style=\"stroke: #383838; stroke-width: 1.0;\"/><polygon fill=\"#FFFFFF\" points=\"91,312.77,84,293.77,98,293.77,91,312.77\" style=\"stroke: #383838; stroke-width: 1.0;\"/><ellipse cx=\"86\" cy=\"288.07\" fill=\"#383838\" rx=\"2\" ry=\"2\" style=\"stroke: #383838; stroke-width: 1.0;\"/><ellipse cx=\"96\" cy=\"288.07\" fill=\"#383838\" rx=\"2\" ry=\"2\" style=\"stroke: #383838; stroke-width: 1.0;\"/></a><!--MD5=[2cfe899c895462254056921bfb67315f]\n",
       "link E13 to E11--><a href=\"psysml:fcf36e7c-2665-4a1d-8cf4-6fcc5b08ef04\" target=\"_top\" title=\"psysml:fcf36e7c-2665-4a1d-8cf4-6fcc5b08ef04\" xlink:actuate=\"onRequest\" xlink:href=\"psysml:fcf36e7c-2665-4a1d-8cf4-6fcc5b08ef04\" xlink:show=\"new\" xlink:title=\"psysml:fcf36e7c-2665-4a1d-8cf4-6fcc5b08ef04\" xlink:type=\"simple\"><path d=\"M137.77,213 C169.61,213 206,213 206,213 C206,213 206,339.37 206,339.37 \" fill=\"none\" id=\"E13-&gt;E11\" style=\"stroke: #383838; stroke-width: 1.0; stroke-dasharray: 7.0,7.0;\"/><polygon fill=\"#383838\" points=\"206,344.37,210,335.37,206,339.37,202,335.37,206,344.37\" style=\"stroke: #383838; stroke-width: 1.0;\"/><text fill=\"#000000\" font-family=\"sans-serif\" font-size=\"13\" lengthAdjust=\"spacingAndGlyphs\" textLength=\"57\" x=\"170\" y=\"279.0669\">«satisfy»</text></a><!--MD5=[c8ed294d899e7b8fad70b835f54296a4]\n",
       "@startuml\r\n",
       "skinparam linetype ortho\r\n",
       "skinparam monochrome true\r\n",
       "skinparam classbackgroundcolor white\r\n",
       "skinparam shadowing false\r\n",
       "skinparam wrapWidth 300\r\n",
       "hide circle\r\n",
       "\r\n",
       "package \"RequirementTest\" as E1  [[psysml:f822a5b9-f637-4bfc-9356-d45755be39c3 ]]  {\r\n",
       "comp def \"C\" as E2  <<(T,blue)constraint def>> [[psysml:55e0c843-cabd-4238-9430-5e5ddb37e322 ]] {\r\n",
       "}\r\n",
       "comp usage \"c: C\" as E3  <<(T,blue)constraint>> [[psysml:943270d7-f648-4f2b-99ed-798f0a01be75 ]] {\r\n",
       "}\r\n",
       "comp def \"R\" as E4  <<(T,blue)requirement def>> [[psysml:3547be1a-4b91-4a24-a66e-ac992d912d25 ]] {\r\n",
       "\r\n",
       "- -\r\n",
       "- - constraints - -\r\n",
       "<b>require</b> c\r\n",
       "<i>assume</i> c1: C\r\n",
       "}\r\n",
       "comp usage \"<s>noname</s>\" as E7  <<(T,blue)requirement>> [[psysml:5cc59123-afbd-4e9a-96fa-0bfa0b631260 ]] {\r\n",
       "}\r\n",
       "comp def \" [<b>1</b>] A\" as E8  <<(T,blue)requirement def>> [[psysml:49e593a4-f39b-4803-a2ce-02c26b916197 ]] {\r\n",
       "Text\r\n",
       "- -\r\n",
       "}\r\n",
       "comp def \"R1\" as E9  <<(T,blue)requirement def>> [[psysml:79fb73d3-867b-49b4-8196-8eb6e64f62f0 ]] {\r\n",
       "- - constraints - -\r\n",
       "<b>require</b> c1\\n//:>>RequirementTest::c// \r\n",
       "}\r\n",
       "comp usage \"p\" as E11  <<(T,blue)part>> [[psysml:510a33c1-eff7-4e5e-90b4-a63ef5b72ae6 ]] {\r\n",
       "}\r\n",
       "comp usage \"q\" as E12  <<(T,blue)part>> [[psysml:a6cd5ff6-20a0-4014-8266-5a2f114de57c ]] {\r\n",
       "}\r\n",
       "comp usage \"r: R\" as E13  <<(T,blue)requirement>> [[psysml:50b94a4a-7c4d-4845-a3da-b360d2df1f8c ]] {\r\n",
       "}\r\n",
       "E3 - -:|> E2 [[psysml:e8229714-231f-4f2a-9005-056b1e69efb5 ]] \r\n",
       "E4 *- - E7 [[psysml:eafce8af-10f9-4af7-9431-7513cc7d3347 ]] \r\n",
       "E4 +- - E8 [[psysml:a0130814-5dc8-48af-af1a-9e985463643e ]] \r\n",
       "E12 *- - E13 [[psysml:044b978f-2385-4425-992f-2d75b645c055 ]] \r\n",
       "E13 - -:|> E4 [[psysml:279d9c9b-21cb-4076-8967-339bf6a79b4c ]] \r\n",
       "E13 ..> E11 [[psysml:fcf36e7c-2665-4a1d-8cf4-6fcc5b08ef04 ]] : <<satisfy>>\r\n",
       "}\r\n",
       "@enduml\r\n",
       "\n",
       "PlantUML version 1.2020.13(Sat Jun 13 12:26:38 UTC 2020)\n",
       "(EPL source distribution)\n",
       "Java Runtime: OpenJDK Runtime Environment\n",
       "JVM: OpenJDK 64-Bit Server VM\n",
       "Default Encoding: UTF-8\n",
       "Language: en\n",
       "Country: null\n",
       "--></g></svg>"
      ]
     },
     "execution_count": 52,
     "metadata": {},
     "output_type": "execute_result"
    }
   ],
   "source": [
    "%viz --style=\"ORTHOLINE\" --view=\"Tree\" \"RequirementTest\""
   ]
  },
  {
   "cell_type": "code",
   "execution_count": 53,
   "id": "16a78525",
   "metadata": {
    "execution": {
     "iopub.execute_input": "2021-04-21T20:21:33.042048Z",
     "iopub.status.busy": "2021-04-21T20:21:33.041244Z",
     "iopub.status.idle": "2021-04-21T20:21:33.047596Z",
     "shell.execute_reply": "2021-04-21T20:21:33.047207Z"
    }
   },
   "outputs": [
    {
     "data": {
      "image/svg+xml": [
       "<?xml version=\"1.0\" encoding=\"UTF-8\" standalone=\"no\"?><svg xmlns=\"http://www.w3.org/2000/svg\" xmlns:xlink=\"http://www.w3.org/1999/xlink\" contentScriptType=\"application/ecmascript\" contentStyleType=\"text/css\" height=\"12px\" preserveAspectRatio=\"none\" style=\"width:12px;height:12px;\" version=\"1.1\" viewBox=\"0 0 12 12\" width=\"12px\" zoomAndPan=\"magnify\"><defs/><g><!--MD5=[97d6f38768b311333d388e66b2b27985]\n",
       "@startuml\r\n",
       "skinparam linetype ortho\r\n",
       "skinparam monochrome true\r\n",
       "skinparam classbackgroundcolor white\r\n",
       "skinparam shadowing false\r\n",
       "skinparam wrapWidth 300\r\n",
       "hide circle\r\n",
       "\r\n",
       "@enduml\r\n",
       "\n",
       "PlantUML version 1.2020.13(Sat Jun 13 12:26:38 UTC 2020)\n",
       "(EPL source distribution)\n",
       "Java Runtime: OpenJDK Runtime Environment\n",
       "JVM: OpenJDK 64-Bit Server VM\n",
       "Default Encoding: UTF-8\n",
       "Language: en\n",
       "Country: null\n",
       "--></g></svg>"
      ]
     },
     "execution_count": 53,
     "metadata": {},
     "output_type": "execute_result"
    }
   ],
   "source": [
    "%viz --style=\"ORTHOLINE\" --view=\"State\" \"RequirementTest\""
   ]
  },
  {
   "cell_type": "code",
   "execution_count": 54,
   "id": "056a184a",
   "metadata": {
    "execution": {
     "iopub.execute_input": "2021-04-21T20:21:33.097824Z",
     "iopub.status.busy": "2021-04-21T20:21:33.097403Z",
     "iopub.status.idle": "2021-04-21T20:21:33.196687Z",
     "shell.execute_reply": "2021-04-21T20:21:33.195050Z"
    }
   },
   "outputs": [
    {
     "data": {
      "image/svg+xml": [
       "<?xml version=\"1.0\" encoding=\"UTF-8\" standalone=\"no\"?><svg xmlns=\"http://www.w3.org/2000/svg\" xmlns:xlink=\"http://www.w3.org/1999/xlink\" contentScriptType=\"application/ecmascript\" contentStyleType=\"text/css\" height=\"408px\" preserveAspectRatio=\"none\" style=\"width:483px;height:408px;\" version=\"1.1\" viewBox=\"0 0 483 408\" width=\"483px\" zoomAndPan=\"magnify\"><defs/><g><!--MD5=[fbc87193dbaf4d95561dea2c320d4a47]\n",
       "cluster E1--><a href=\"psysml:f822a5b9-f637-4bfc-9356-d45755be39c3\" target=\"_top\" title=\"psysml:f822a5b9-f637-4bfc-9356-d45755be39c3\" xlink:actuate=\"onRequest\" xlink:href=\"psysml:f822a5b9-f637-4bfc-9356-d45755be39c3\" xlink:show=\"new\" xlink:title=\"psysml:f822a5b9-f637-4bfc-9356-d45755be39c3\" xlink:type=\"simple\"><polygon fill=\"#FFFFFF\" points=\"16,6,158,6,165,28.2969,461,28.2969,461,396,16,396,16,6\" style=\"stroke: #000000; stroke-width: 1.5;\"/><line style=\"stroke: #000000; stroke-width: 1.5;\" x1=\"16\" x2=\"165\" y1=\"28.2969\" y2=\"28.2969\"/><text fill=\"#000000\" font-family=\"sans-serif\" font-size=\"14\" font-weight=\"bold\" lengthAdjust=\"spacingAndGlyphs\" textLength=\"136\" x=\"20\" y=\"20.9951\">RequirementTest</text></a><!--MD5=[47bea60c1a0ac6c1143df232041969c0]\n",
       "cluster E12--><a href=\"psysml:a6cd5ff6-20a0-4014-8266-5a2f114de57c\" target=\"_top\" title=\"psysml:a6cd5ff6-20a0-4014-8266-5a2f114de57c\" xlink:actuate=\"onRequest\" xlink:href=\"psysml:a6cd5ff6-20a0-4014-8266-5a2f114de57c\" xlink:show=\"new\" xlink:title=\"psysml:a6cd5ff6-20a0-4014-8266-5a2f114de57c\" xlink:type=\"simple\"><rect fill=\"#FFFFFF\" height=\"97\" id=\"E12\" rx=\"10\" ry=\"10\" style=\"stroke: #383838; stroke-width: 1.5;\" width=\"124\" x=\"313\" y=\"49\"/><rect fill=\"#F8F8F8\" height=\"23.9688\" rx=\"10\" ry=\"10\" style=\"stroke: #F8F8F8; stroke-width: 1.5;\" width=\"124\" x=\"313\" y=\"49\"/><rect fill=\"#F8F8F8\" height=\"10\" style=\"stroke: #F8F8F8; stroke-width: 1.5;\" width=\"124\" x=\"313\" y=\"62.9688\"/><rect fill=\"none\" height=\"97\" id=\"E12\" rx=\"10\" ry=\"10\" style=\"stroke: #383838; stroke-width: 1.5;\" width=\"124\" x=\"313\" y=\"49\"/><text fill=\"#000000\" font-family=\"sans-serif\" font-size=\"12\" lengthAdjust=\"spacingAndGlyphs\" textLength=\"8\" x=\"371\" y=\"65.1387\">q</text><line style=\"stroke: #383838; stroke-width: 1.0;\" x1=\"313\" x2=\"437\" y1=\"72.9688\" y2=\"72.9688\"/></a><g id=\"E1.E2\"><a href=\"psysml:55e0c843-cabd-4238-9430-5e5ddb37e322\" target=\"_top\" title=\"psysml:55e0c843-cabd-4238-9430-5e5ddb37e322\" xlink:actuate=\"onRequest\" xlink:href=\"psysml:55e0c843-cabd-4238-9430-5e5ddb37e322\" xlink:show=\"new\" xlink:title=\"psysml:55e0c843-cabd-4238-9430-5e5ddb37e322\" xlink:type=\"simple\"><rect fill=\"#FFFFFF\" height=\"42.9375\" id=\"E2\" style=\"stroke: #383838; stroke-width: 1.5;\" width=\"109\" x=\"98.5\" y=\"220\"/><rect fill=\"#F8F8F8\" height=\"37.9375\" style=\"stroke: #383838; stroke-width: 1.5;\" width=\"109\" x=\"98.5\" y=\"220\"/><text fill=\"#000000\" font-family=\"sans-serif\" font-size=\"12\" font-style=\"italic\" lengthAdjust=\"spacingAndGlyphs\" textLength=\"102\" x=\"102\" y=\"236.1387\">«constraint def»</text><text fill=\"#000000\" font-family=\"sans-serif\" font-size=\"12\" lengthAdjust=\"spacingAndGlyphs\" textLength=\"8\" x=\"149\" y=\"250.1074\">C</text></a></g><!--MD5=[09b614a08d8cba4a07c9adeb5e0fee81]\n",
       "class E3--><a href=\"psysml:943270d7-f648-4f2b-99ed-798f0a01be75\" target=\"_top\" title=\"psysml:943270d7-f648-4f2b-99ed-798f0a01be75\" xlink:actuate=\"onRequest\" xlink:href=\"psysml:943270d7-f648-4f2b-99ed-798f0a01be75\" xlink:show=\"new\" xlink:title=\"psysml:943270d7-f648-4f2b-99ed-798f0a01be75\" xlink:type=\"simple\"><rect fill=\"#FFFFFF\" height=\"45.9375\" id=\"E3\" rx=\"10\" ry=\"10\" style=\"stroke: #383838; stroke-width: 1.5;\" width=\"80\" x=\"213\" y=\"84\"/><text fill=\"#000000\" font-family=\"sans-serif\" font-size=\"12\" font-style=\"italic\" lengthAdjust=\"spacingAndGlyphs\" textLength=\"78\" x=\"214\" y=\"100.1387\">«constraint»</text><text fill=\"#000000\" font-family=\"sans-serif\" font-size=\"12\" lengthAdjust=\"spacingAndGlyphs\" textLength=\"23\" x=\"241.5\" y=\"114.1074\">c: C</text><line style=\"stroke: #383838; stroke-width: 1.5;\" x1=\"214\" x2=\"292\" y1=\"121.9375\" y2=\"121.9375\"/></a><!--MD5=[ebbe1d658d1005bcc118a6aa81145e00]\n",
       "class E4--><a href=\"psysml:3547be1a-4b91-4a24-a66e-ac992d912d25\" target=\"_top\" title=\"psysml:3547be1a-4b91-4a24-a66e-ac992d912d25\" xlink:actuate=\"onRequest\" xlink:href=\"psysml:3547be1a-4b91-4a24-a66e-ac992d912d25\" xlink:show=\"new\" xlink:title=\"psysml:3547be1a-4b91-4a24-a66e-ac992d912d25\" xlink:type=\"simple\"><rect fill=\"#FFFFFF\" height=\"109.1563\" id=\"E4\" style=\"stroke: #383838; stroke-width: 1.5;\" width=\"117\" x=\"242.5\" y=\"187\"/><text fill=\"#000000\" font-family=\"sans-serif\" font-size=\"12\" font-style=\"italic\" lengthAdjust=\"spacingAndGlyphs\" textLength=\"115\" x=\"243.5\" y=\"203.1387\">«requirement def»</text><text fill=\"#000000\" font-family=\"sans-serif\" font-size=\"12\" lengthAdjust=\"spacingAndGlyphs\" textLength=\"8\" x=\"297\" y=\"217.1074\">R</text><line style=\"stroke: #383838; stroke-width: 1.5;\" x1=\"243.5\" x2=\"358.5\" y1=\"224.9375\" y2=\"224.9375\"/><text fill=\"#000000\" font-family=\"sans-serif\" font-size=\"11\" lengthAdjust=\"spacingAndGlyphs\" textLength=\"0\" x=\"252.5\" y=\"239.1479\"/><line style=\"stroke: #383838; stroke-width: 1.0;\" x1=\"243.5\" x2=\"358.5\" y1=\"245.7422\" y2=\"245.7422\"/><text fill=\"#000000\" font-family=\"sans-serif\" font-size=\"11\" font-weight=\"bold\" lengthAdjust=\"spacingAndGlyphs\" textLength=\"46\" x=\"248.5\" y=\"276.7573\">require</text><text fill=\"#000000\" font-family=\"sans-serif\" font-size=\"11\" lengthAdjust=\"spacingAndGlyphs\" textLength=\"6\" x=\"298.5\" y=\"276.7573\">c</text><text fill=\"#000000\" font-family=\"sans-serif\" font-size=\"11\" font-style=\"italic\" lengthAdjust=\"spacingAndGlyphs\" textLength=\"46\" x=\"248.5\" y=\"289.562\">assume</text><text fill=\"#000000\" font-family=\"sans-serif\" font-size=\"11\" lengthAdjust=\"spacingAndGlyphs\" textLength=\"29\" x=\"298.5\" y=\"289.562\">c1: C</text><line style=\"stroke: #383838; stroke-width: 1.0;\" x1=\"243.5\" x2=\"269\" y1=\"260.1445\" y2=\"260.1445\"/><text fill=\"#000000\" font-family=\"sans-serif\" font-size=\"11\" lengthAdjust=\"spacingAndGlyphs\" textLength=\"64\" x=\"269\" y=\"263.4526\">constraints</text><line style=\"stroke: #383838; stroke-width: 1.0;\" x1=\"333\" x2=\"358.5\" y1=\"260.1445\" y2=\"260.1445\"/></a><!--MD5=[2156ba9850f5573cc1fc38a6a4b2f02b]\n",
       "class E7--><a href=\"psysml:5cc59123-afbd-4e9a-96fa-0bfa0b631260\" target=\"_top\" title=\"psysml:5cc59123-afbd-4e9a-96fa-0bfa0b631260\" xlink:actuate=\"onRequest\" xlink:href=\"psysml:5cc59123-afbd-4e9a-96fa-0bfa0b631260\" xlink:show=\"new\" xlink:title=\"psysml:5cc59123-afbd-4e9a-96fa-0bfa0b631260\" xlink:type=\"simple\"><rect fill=\"#FFFFFF\" height=\"45.9375\" id=\"E7\" rx=\"10\" ry=\"10\" style=\"stroke: #383838; stroke-width: 1.5;\" width=\"93\" x=\"177.5\" y=\"323.5\"/><text fill=\"#000000\" font-family=\"sans-serif\" font-size=\"12\" font-style=\"italic\" lengthAdjust=\"spacingAndGlyphs\" textLength=\"91\" x=\"178.5\" y=\"339.6387\">«requirement»</text><text fill=\"#000000\" font-family=\"sans-serif\" font-size=\"12\" lengthAdjust=\"spacingAndGlyphs\" text-decoration=\"line-through\" textLength=\"51\" x=\"198.5\" y=\"353.6074\">noname</text><line style=\"stroke: #383838; stroke-width: 1.5;\" x1=\"178.5\" x2=\"269.5\" y1=\"361.4375\" y2=\"361.4375\"/></a><!--MD5=[b9389687b975829384b498ac4b7476b2]\n",
       "class E8--><a href=\"psysml:49e593a4-f39b-4803-a2ce-02c26b916197\" target=\"_top\" title=\"psysml:49e593a4-f39b-4803-a2ce-02c26b916197\" xlink:actuate=\"onRequest\" xlink:href=\"psysml:49e593a4-f39b-4803-a2ce-02c26b916197\" xlink:show=\"new\" xlink:title=\"psysml:49e593a4-f39b-4803-a2ce-02c26b916197\" xlink:type=\"simple\"><rect fill=\"#FFFFFF\" height=\"66.7422\" id=\"E8\" style=\"stroke: #383838; stroke-width: 1.5;\" width=\"117\" x=\"305.5\" y=\"313\"/><text fill=\"#000000\" font-family=\"sans-serif\" font-size=\"12\" font-style=\"italic\" lengthAdjust=\"spacingAndGlyphs\" textLength=\"115\" x=\"306.5\" y=\"329.1387\">«requirement def»</text><text fill=\"#000000\" font-family=\"sans-serif\" font-size=\"12\" lengthAdjust=\"spacingAndGlyphs\" textLength=\"5\" x=\"351\" y=\"343.1074\">[</text><text fill=\"#000000\" font-family=\"sans-serif\" font-size=\"12\" font-weight=\"bold\" lengthAdjust=\"spacingAndGlyphs\" textLength=\"8\" x=\"356\" y=\"343.1074\">1</text><text fill=\"#000000\" font-family=\"sans-serif\" font-size=\"12\" lengthAdjust=\"spacingAndGlyphs\" textLength=\"17\" x=\"364\" y=\"343.1074\">] A</text><line style=\"stroke: #383838; stroke-width: 1.5;\" x1=\"306.5\" x2=\"421.5\" y1=\"350.9375\" y2=\"350.9375\"/><text fill=\"#000000\" font-family=\"sans-serif\" font-size=\"11\" lengthAdjust=\"spacingAndGlyphs\" textLength=\"24\" x=\"311.5\" y=\"365.1479\">Text</text><line style=\"stroke: #383838; stroke-width: 1.0;\" x1=\"306.5\" x2=\"421.5\" y1=\"371.7422\" y2=\"371.7422\"/></a><!--MD5=[fd4143e9d270a159db93a4ea2a975926]\n",
       "class E9--><a href=\"psysml:79fb73d3-867b-49b4-8196-8eb6e64f62f0\" target=\"_top\" title=\"psysml:79fb73d3-867b-49b4-8196-8eb6e64f62f0\" xlink:actuate=\"onRequest\" xlink:href=\"psysml:79fb73d3-867b-49b4-8196-8eb6e64f62f0\" xlink:show=\"new\" xlink:title=\"psysml:79fb73d3-867b-49b4-8196-8eb6e64f62f0\" xlink:type=\"simple\"><rect fill=\"#FFFFFF\" height=\"88.3516\" id=\"E9\" style=\"stroke: #383838; stroke-width: 1.5;\" width=\"145\" x=\"32.5\" y=\"63\"/><text fill=\"#000000\" font-family=\"sans-serif\" font-size=\"12\" font-style=\"italic\" lengthAdjust=\"spacingAndGlyphs\" textLength=\"115\" x=\"47.5\" y=\"79.1387\">«requirement def»</text><text fill=\"#000000\" font-family=\"sans-serif\" font-size=\"12\" lengthAdjust=\"spacingAndGlyphs\" textLength=\"16\" x=\"97\" y=\"93.1074\">R1</text><line style=\"stroke: #383838; stroke-width: 1.5;\" x1=\"33.5\" x2=\"176.5\" y1=\"100.9375\" y2=\"100.9375\"/><text fill=\"#000000\" font-family=\"sans-serif\" font-size=\"11\" font-weight=\"bold\" lengthAdjust=\"spacingAndGlyphs\" textLength=\"46\" x=\"38.5\" y=\"131.9526\">require</text><text fill=\"#000000\" font-family=\"sans-serif\" font-size=\"11\" lengthAdjust=\"spacingAndGlyphs\" textLength=\"13\" x=\"88.5\" y=\"131.9526\">c1</text><text fill=\"#000000\" font-family=\"sans-serif\" font-size=\"11\" font-style=\"italic\" lengthAdjust=\"spacingAndGlyphs\" textLength=\"133\" x=\"38.5\" y=\"144.7573\">:&gt;&gt;RequirementTest::c</text><line style=\"stroke: #383838; stroke-width: 1.0;\" x1=\"33.5\" x2=\"73\" y1=\"115.3398\" y2=\"115.3398\"/><text fill=\"#000000\" font-family=\"sans-serif\" font-size=\"11\" lengthAdjust=\"spacingAndGlyphs\" textLength=\"64\" x=\"73\" y=\"118.6479\">constraints</text><line style=\"stroke: #383838; stroke-width: 1.0;\" x1=\"137\" x2=\"176.5\" y1=\"115.3398\" y2=\"115.3398\"/></a><g id=\"E1.E11\"><a href=\"psysml:510a33c1-eff7-4e5e-90b4-a63ef5b72ae6\" target=\"_top\" title=\"psysml:510a33c1-eff7-4e5e-90b4-a63ef5b72ae6\" xlink:actuate=\"onRequest\" xlink:href=\"psysml:510a33c1-eff7-4e5e-90b4-a63ef5b72ae6\" xlink:show=\"new\" xlink:title=\"psysml:510a33c1-eff7-4e5e-90b4-a63ef5b72ae6\" xlink:type=\"simple\"><rect fill=\"#FFFFFF\" height=\"40\" id=\"E11\" rx=\"10\" ry=\"10\" style=\"stroke: #383838; stroke-width: 1.5;\" width=\"50\" x=\"395\" y=\"221.5\"/><rect fill=\"#F8F8F8\" height=\"23.9688\" rx=\"10\" ry=\"10\" style=\"stroke: #F8F8F8; stroke-width: 1.5;\" width=\"50\" x=\"395\" y=\"221.5\"/><rect fill=\"#F8F8F8\" height=\"10\" style=\"stroke: #F8F8F8; stroke-width: 1.5;\" width=\"50\" x=\"395\" y=\"235.4688\"/><rect fill=\"none\" height=\"40\" id=\"E11\" rx=\"10\" ry=\"10\" style=\"stroke: #383838; stroke-width: 1.5;\" width=\"50\" x=\"395\" y=\"221.5\"/><text fill=\"#000000\" font-family=\"sans-serif\" font-size=\"12\" lengthAdjust=\"spacingAndGlyphs\" textLength=\"8\" x=\"416\" y=\"237.6387\">p</text></a></g><!--MD5=[ee3c913d1a06f366521f9ef512b67efe]\n",
       "class E13--><a href=\"psysml:50b94a4a-7c4d-4845-a3da-b360d2df1f8c\" target=\"_top\" title=\"psysml:50b94a4a-7c4d-4845-a3da-b360d2df1f8c\" xlink:actuate=\"onRequest\" xlink:href=\"psysml:50b94a4a-7c4d-4845-a3da-b360d2df1f8c\" xlink:show=\"new\" xlink:title=\"psysml:50b94a4a-7c4d-4845-a3da-b360d2df1f8c\" xlink:type=\"simple\"><rect fill=\"#FFFFFF\" height=\"45.9375\" id=\"E13\" rx=\"10\" ry=\"10\" style=\"stroke: #383838; stroke-width: 1.5;\" width=\"93\" x=\"328.5\" y=\"84\"/><text fill=\"#000000\" font-family=\"sans-serif\" font-size=\"12\" font-style=\"italic\" lengthAdjust=\"spacingAndGlyphs\" textLength=\"91\" x=\"329.5\" y=\"100.1387\">«requirement»</text><text fill=\"#000000\" font-family=\"sans-serif\" font-size=\"12\" lengthAdjust=\"spacingAndGlyphs\" textLength=\"21\" x=\"364.5\" y=\"114.1074\">r: R</text><line style=\"stroke: #383838; stroke-width: 1.5;\" x1=\"329.5\" x2=\"420.5\" y1=\"121.9375\" y2=\"121.9375\"/></a><!--MD5=[05d275557350bfb9b23a4ef7222b4c39]\n",
       "link E3 to E2--><a href=\"psysml:e8229714-231f-4f2a-9005-056b1e69efb5\" target=\"_top\" title=\"psysml:e8229714-231f-4f2a-9005-056b1e69efb5\" xlink:actuate=\"onRequest\" xlink:href=\"psysml:e8229714-231f-4f2a-9005-056b1e69efb5\" xlink:show=\"new\" xlink:title=\"psysml:e8229714-231f-4f2a-9005-056b1e69efb5\" xlink:type=\"simple\"><path d=\"M227.75,130.21 C227.75,168.81 227.75,242 227.75,242 C227.75,242 225.75,242 225.75,242 \" fill=\"none\" id=\"E3-&gt;E2\" style=\"stroke: #383838; stroke-width: 1.0;\"/><polygon fill=\"#FFFFFF\" points=\"207.72,242,226.72,235,226.72,249,207.72,242\" style=\"stroke: #383838; stroke-width: 1.0;\"/><ellipse cx=\"232.42\" cy=\"237\" fill=\"#383838\" rx=\"2\" ry=\"2\" style=\"stroke: #383838; stroke-width: 1.0;\"/><ellipse cx=\"232.42\" cy=\"247\" fill=\"#383838\" rx=\"2\" ry=\"2\" style=\"stroke: #383838; stroke-width: 1.0;\"/></a><!--MD5=[722ff4eef345aa10242dad44df0e98c7]\n",
       "reverse link E4 to E7--><a href=\"psysml:eafce8af-10f9-4af7-9431-7513cc7d3347\" target=\"_top\" title=\"psysml:eafce8af-10f9-4af7-9431-7513cc7d3347\" xlink:actuate=\"onRequest\" xlink:href=\"psysml:eafce8af-10f9-4af7-9431-7513cc7d3347\" xlink:show=\"new\" xlink:title=\"psysml:eafce8af-10f9-4af7-9431-7513cc7d3347\" xlink:type=\"simple\"><path d=\"M256.5,309.15 C256.5,309.15 256.5,323.29 256.5,323.29 \" fill=\"none\" id=\"E4&lt;-E7\" style=\"stroke: #383838; stroke-width: 1.0;\"/><polygon fill=\"#383838\" points=\"256.5,296.15,252.5,302.15,256.5,308.15,260.5,302.15,256.5,296.15\" style=\"stroke: #383838; stroke-width: 1.0;\"/></a><!--MD5=[c6fc7cdb0cabde04948078cf183fa696]\n",
       "reverse link E4 to E8--><a href=\"psysml:a0130814-5dc8-48af-af1a-9e985463643e\" target=\"_top\" title=\"psysml:a0130814-5dc8-48af-af1a-9e985463643e\" xlink:actuate=\"onRequest\" xlink:href=\"psysml:a0130814-5dc8-48af-af1a-9e985463643e\" xlink:show=\"new\" xlink:title=\"psysml:a0130814-5dc8-48af-af1a-9e985463643e\" xlink:type=\"simple\"><path d=\"M332.5,311.15 C332.5,311.15 332.5,312.83 332.5,312.83 \" fill=\"none\" id=\"E4&lt;-E8\" style=\"stroke: #383838; stroke-width: 1.0;\"/><ellipse cx=\"332.5\" cy=\"304.15\" fill=\"#FFFFFF\" rx=\"8\" ry=\"8\" style=\"stroke: #383838; stroke-width: 1.0;\"/><line style=\"stroke: #383838; stroke-width: 1.0;\" x1=\"332.5\" x2=\"332.5\" y1=\"312.15\" y2=\"296.15\"/><line style=\"stroke: #383838; stroke-width: 1.0;\" x1=\"324.5\" x2=\"340.5\" y1=\"304.15\" y2=\"304.15\"/></a><!--MD5=[017847e01ff9a8bd19f247411074f987]\n",
       "link E13 to E4--><a href=\"psysml:279d9c9b-21cb-4076-8967-339bf6a79b4c\" target=\"_top\" title=\"psysml:279d9c9b-21cb-4076-8967-339bf6a79b4c\" xlink:actuate=\"onRequest\" xlink:href=\"psysml:279d9c9b-21cb-4076-8967-339bf6a79b4c\" xlink:show=\"new\" xlink:title=\"psysml:279d9c9b-21cb-4076-8967-339bf6a79b4c\" xlink:type=\"simple\"><path d=\"M344,130.12 C344,130.12 344,166.85 344,166.85 \" fill=\"none\" id=\"E13-&gt;E4\" style=\"stroke: #383838; stroke-width: 1.0;\"/><polygon fill=\"#FFFFFF\" points=\"344,186.85,337,167.85,351,167.85,344,186.85\" style=\"stroke: #383838; stroke-width: 1.0;\"/><ellipse cx=\"339\" cy=\"162.15\" fill=\"#383838\" rx=\"2\" ry=\"2\" style=\"stroke: #383838; stroke-width: 1.0;\"/><ellipse cx=\"349\" cy=\"162.15\" fill=\"#383838\" rx=\"2\" ry=\"2\" style=\"stroke: #383838; stroke-width: 1.0;\"/></a><!--MD5=[2cfe899c895462254056921bfb67315f]\n",
       "link E13 to E11--><a href=\"psysml:fcf36e7c-2665-4a1d-8cf4-6fcc5b08ef04\" target=\"_top\" title=\"psysml:fcf36e7c-2665-4a1d-8cf4-6fcc5b08ef04\" xlink:actuate=\"onRequest\" xlink:href=\"psysml:fcf36e7c-2665-4a1d-8cf4-6fcc5b08ef04\" xlink:show=\"new\" xlink:title=\"psysml:fcf36e7c-2665-4a1d-8cf4-6fcc5b08ef04\" xlink:type=\"simple\"><path d=\"M408.25,130.12 C408.25,130.12 408.25,216.31 408.25,216.31 \" fill=\"none\" id=\"E13-&gt;E11\" style=\"stroke: #383838; stroke-width: 1.0; stroke-dasharray: 7.0,7.0;\"/><polygon fill=\"#383838\" points=\"408.25,221.31,412.25,212.31,408.25,216.31,404.25,212.31,408.25,221.31\" style=\"stroke: #383838; stroke-width: 1.0;\"/><text fill=\"#000000\" font-family=\"sans-serif\" font-size=\"13\" lengthAdjust=\"spacingAndGlyphs\" textLength=\"57\" x=\"381\" y=\"175.0669\">«satisfy»</text></a><!--MD5=[1b9fd49b8da72d12ddab39ea0d16b3b9]\n",
       "@startuml\r\n",
       "skinparam ranksep 10\r\n",
       "skinparam rectangle {\r\n",
       " backgroundColor<<block>> LightGreen\r\n",
       "}\r\n",
       "skinparam linetype ortho\r\n",
       "skinparam monochrome true\r\n",
       "skinparam classbackgroundcolor white\r\n",
       "skinparam shadowing false\r\n",
       "skinparam wrapWidth 300\r\n",
       "hide circle\r\n",
       "\r\n",
       "package \"RequirementTest\" as E1  [[psysml:f822a5b9-f637-4bfc-9356-d45755be39c3 ]]  {\r\n",
       "def \"C\" as E2  <<(T,blue)constraint def>> [[psysml:55e0c843-cabd-4238-9430-5e5ddb37e322 ]] \r\n",
       "comp usage \"c: C\" as E3  <<(T,blue)constraint>> [[psysml:943270d7-f648-4f2b-99ed-798f0a01be75 ]] {\r\n",
       "}\r\n",
       "comp def \"R\" as E4  <<(T,blue)requirement def>> [[psysml:3547be1a-4b91-4a24-a66e-ac992d912d25 ]] {\r\n",
       "\r\n",
       "- -\r\n",
       "- - constraints - -\r\n",
       "<b>require</b> c\r\n",
       "<i>assume</i> c1: C\r\n",
       "}\r\n",
       "comp usage \"<s>noname</s>\" as E7  <<(T,blue)requirement>> [[psysml:5cc59123-afbd-4e9a-96fa-0bfa0b631260 ]] {\r\n",
       "}\r\n",
       "comp def \" [<b>1</b>] A\" as E8  <<(T,blue)requirement def>> [[psysml:49e593a4-f39b-4803-a2ce-02c26b916197 ]] {\r\n",
       "Text\r\n",
       "- -\r\n",
       "}\r\n",
       "comp def \"R1\" as E9  <<(T,blue)requirement def>> [[psysml:79fb73d3-867b-49b4-8196-8eb6e64f62f0 ]] {\r\n",
       "- - constraints - -\r\n",
       "<b>require</b> c1\\n//:>>RequirementTest::c// \r\n",
       "}\r\n",
       "rec usage \"p\" as E11  [[psysml:510a33c1-eff7-4e5e-90b4-a63ef5b72ae6 ]] {\r\n",
       "}\r\n",
       "rec usage \"q\" as E12  [[psysml:a6cd5ff6-20a0-4014-8266-5a2f114de57c ]] {\r\n",
       "comp usage \"r: R\" as E13  <<(T,blue)requirement>> [[psysml:50b94a4a-7c4d-4845-a3da-b360d2df1f8c ]] {\r\n",
       "}\r\n",
       "}\r\n",
       "E3 - -:|> E2 [[psysml:e8229714-231f-4f2a-9005-056b1e69efb5 ]] \r\n",
       "E4 *- - E7 [[psysml:eafce8af-10f9-4af7-9431-7513cc7d3347 ]] \r\n",
       "E4 +- - E8 [[psysml:a0130814-5dc8-48af-af1a-9e985463643e ]] \r\n",
       "E13 - -:|> E4 [[psysml:279d9c9b-21cb-4076-8967-339bf6a79b4c ]] \r\n",
       "E13 ..> E11 [[psysml:fcf36e7c-2665-4a1d-8cf4-6fcc5b08ef04 ]] : <<satisfy>>\r\n",
       "}\r\n",
       "@enduml\r\n",
       "\n",
       "PlantUML version 1.2020.13(Sat Jun 13 12:26:38 UTC 2020)\n",
       "(EPL source distribution)\n",
       "Java Runtime: OpenJDK Runtime Environment\n",
       "JVM: OpenJDK 64-Bit Server VM\n",
       "Default Encoding: UTF-8\n",
       "Language: en\n",
       "Country: null\n",
       "--></g></svg>"
      ]
     },
     "execution_count": 54,
     "metadata": {},
     "output_type": "execute_result"
    }
   ],
   "source": [
    "%viz --style=\"ORTHOLINE\" --view=\"Interconnection\" \"RequirementTest\""
   ]
  },
  {
   "cell_type": "code",
   "execution_count": 55,
   "id": "21d7fac7",
   "metadata": {
    "execution": {
     "iopub.execute_input": "2021-04-21T20:21:33.246658Z",
     "iopub.status.busy": "2021-04-21T20:21:33.246208Z",
     "iopub.status.idle": "2021-04-21T20:21:33.250674Z",
     "shell.execute_reply": "2021-04-21T20:21:33.250318Z"
    }
   },
   "outputs": [
    {
     "data": {
      "image/svg+xml": [
       "<?xml version=\"1.0\" encoding=\"UTF-8\" standalone=\"no\"?><svg xmlns=\"http://www.w3.org/2000/svg\" xmlns:xlink=\"http://www.w3.org/1999/xlink\" contentScriptType=\"application/ecmascript\" contentStyleType=\"text/css\" height=\"12px\" preserveAspectRatio=\"none\" style=\"width:12px;height:12px;\" version=\"1.1\" viewBox=\"0 0 12 12\" width=\"12px\" zoomAndPan=\"magnify\"><defs/><g><!--MD5=[72934c63077099a26744516a776b4749]\n",
       "@startuml\r\n",
       "skinparam ranksep 8\r\n",
       "skinparam linetype ortho\r\n",
       "skinparam monochrome true\r\n",
       "skinparam classbackgroundcolor white\r\n",
       "skinparam shadowing false\r\n",
       "skinparam wrapWidth 300\r\n",
       "hide circle\r\n",
       "\r\n",
       "@enduml\r\n",
       "\n",
       "PlantUML version 1.2020.13(Sat Jun 13 12:26:38 UTC 2020)\n",
       "(EPL source distribution)\n",
       "Java Runtime: OpenJDK Runtime Environment\n",
       "JVM: OpenJDK 64-Bit Server VM\n",
       "Default Encoding: UTF-8\n",
       "Language: en\n",
       "Country: null\n",
       "--></g></svg>"
      ]
     },
     "execution_count": 55,
     "metadata": {},
     "output_type": "execute_result"
    }
   ],
   "source": [
    "%viz --style=\"ORTHOLINE\" --view=\"Action\" \"RequirementTest\""
   ]
  },
  {
   "cell_type": "code",
   "execution_count": 56,
   "id": "7cfa41db",
   "metadata": {
    "execution": {
     "iopub.execute_input": "2021-04-21T20:21:33.302160Z",
     "iopub.status.busy": "2021-04-21T20:21:33.301466Z",
     "iopub.status.idle": "2021-04-21T20:21:33.385465Z",
     "shell.execute_reply": "2021-04-21T20:21:33.383931Z"
    }
   },
   "outputs": [
    {
     "data": {
      "image/svg+xml": [
       "<?xml version=\"1.0\" encoding=\"UTF-8\" standalone=\"no\"?><svg xmlns=\"http://www.w3.org/2000/svg\" xmlns:xlink=\"http://www.w3.org/1999/xlink\" contentScriptType=\"application/ecmascript\" contentStyleType=\"text/css\" height=\"578px\" preserveAspectRatio=\"none\" style=\"width:408px;height:578px;\" version=\"1.1\" viewBox=\"0 0 408 578\" width=\"408px\" zoomAndPan=\"magnify\"><defs/><g><!--MD5=[fbc87193dbaf4d95561dea2c320d4a47]\n",
       "cluster E1--><a href=\"psysml:f822a5b9-f637-4bfc-9356-d45755be39c3\" target=\"_top\" title=\"psysml:f822a5b9-f637-4bfc-9356-d45755be39c3\" xlink:actuate=\"onRequest\" xlink:href=\"psysml:f822a5b9-f637-4bfc-9356-d45755be39c3\" xlink:show=\"new\" xlink:title=\"psysml:f822a5b9-f637-4bfc-9356-d45755be39c3\" xlink:type=\"simple\"><polygon fill=\"#FFFFFF\" points=\"16,6,158,6,165,28.2969,386,28.2969,386,566,16,566,16,6\" style=\"stroke: #000000; stroke-width: 1.5;\"/><line style=\"stroke: #000000; stroke-width: 1.5;\" x1=\"16\" x2=\"165\" y1=\"28.2969\" y2=\"28.2969\"/><text fill=\"#000000\" font-family=\"sans-serif\" font-size=\"14\" font-weight=\"bold\" lengthAdjust=\"spacingAndGlyphs\" textLength=\"136\" x=\"20\" y=\"20.9951\">RequirementTest</text></a><!--MD5=[b4997ac47864f28c2f74865a473b2911]\n",
       "class E2--><a href=\"psysml:55e0c843-cabd-4238-9430-5e5ddb37e322\" target=\"_top\" title=\"psysml:55e0c843-cabd-4238-9430-5e5ddb37e322\" xlink:actuate=\"onRequest\" xlink:href=\"psysml:55e0c843-cabd-4238-9430-5e5ddb37e322\" xlink:show=\"new\" xlink:title=\"psysml:55e0c843-cabd-4238-9430-5e5ddb37e322\" xlink:type=\"simple\"><rect fill=\"#FFFFFF\" height=\"45.9375\" id=\"E2\" style=\"stroke: #383838; stroke-width: 1.5;\" width=\"104\" x=\"266\" y=\"190\"/><text fill=\"#000000\" font-family=\"sans-serif\" font-size=\"12\" font-style=\"italic\" lengthAdjust=\"spacingAndGlyphs\" textLength=\"102\" x=\"267\" y=\"206.1387\">«constraint def»</text><text fill=\"#000000\" font-family=\"sans-serif\" font-size=\"12\" lengthAdjust=\"spacingAndGlyphs\" textLength=\"8\" x=\"314\" y=\"220.1074\">C</text><line style=\"stroke: #383838; stroke-width: 1.5;\" x1=\"267\" x2=\"369\" y1=\"227.9375\" y2=\"227.9375\"/></a><!--MD5=[09b614a08d8cba4a07c9adeb5e0fee81]\n",
       "class E3--><a href=\"psysml:943270d7-f648-4f2b-99ed-798f0a01be75\" target=\"_top\" title=\"psysml:943270d7-f648-4f2b-99ed-798f0a01be75\" xlink:actuate=\"onRequest\" xlink:href=\"psysml:943270d7-f648-4f2b-99ed-798f0a01be75\" xlink:show=\"new\" xlink:title=\"psysml:943270d7-f648-4f2b-99ed-798f0a01be75\" xlink:type=\"simple\"><rect fill=\"#FFFFFF\" height=\"45.9375\" id=\"E3\" rx=\"10\" ry=\"10\" style=\"stroke: #383838; stroke-width: 1.5;\" width=\"80\" x=\"290\" y=\"62\"/><text fill=\"#000000\" font-family=\"sans-serif\" font-size=\"12\" font-style=\"italic\" lengthAdjust=\"spacingAndGlyphs\" textLength=\"78\" x=\"291\" y=\"78.1387\">«constraint»</text><text fill=\"#000000\" font-family=\"sans-serif\" font-size=\"12\" lengthAdjust=\"spacingAndGlyphs\" textLength=\"23\" x=\"318.5\" y=\"92.1074\">c: C</text><line style=\"stroke: #383838; stroke-width: 1.5;\" x1=\"291\" x2=\"369\" y1=\"99.9375\" y2=\"99.9375\"/></a><!--MD5=[ebbe1d658d1005bcc118a6aa81145e00]\n",
       "class E4--><a href=\"psysml:3547be1a-4b91-4a24-a66e-ac992d912d25\" target=\"_top\" title=\"psysml:3547be1a-4b91-4a24-a66e-ac992d912d25\" xlink:actuate=\"onRequest\" xlink:href=\"psysml:3547be1a-4b91-4a24-a66e-ac992d912d25\" xlink:show=\"new\" xlink:title=\"psysml:3547be1a-4b91-4a24-a66e-ac992d912d25\" xlink:type=\"simple\"><rect fill=\"#FFFFFF\" height=\"109.1563\" id=\"E4\" style=\"stroke: #383838; stroke-width: 1.5;\" width=\"117\" x=\"32.5\" y=\"313\"/><text fill=\"#000000\" font-family=\"sans-serif\" font-size=\"12\" font-style=\"italic\" lengthAdjust=\"spacingAndGlyphs\" textLength=\"115\" x=\"33.5\" y=\"329.1387\">«requirement def»</text><text fill=\"#000000\" font-family=\"sans-serif\" font-size=\"12\" lengthAdjust=\"spacingAndGlyphs\" textLength=\"8\" x=\"87\" y=\"343.1074\">R</text><line style=\"stroke: #383838; stroke-width: 1.5;\" x1=\"33.5\" x2=\"148.5\" y1=\"350.9375\" y2=\"350.9375\"/><text fill=\"#000000\" font-family=\"sans-serif\" font-size=\"11\" lengthAdjust=\"spacingAndGlyphs\" textLength=\"0\" x=\"42.5\" y=\"365.1479\"/><line style=\"stroke: #383838; stroke-width: 1.0;\" x1=\"33.5\" x2=\"148.5\" y1=\"371.7422\" y2=\"371.7422\"/><text fill=\"#000000\" font-family=\"sans-serif\" font-size=\"11\" font-weight=\"bold\" lengthAdjust=\"spacingAndGlyphs\" textLength=\"46\" x=\"38.5\" y=\"402.7573\">require</text><text fill=\"#000000\" font-family=\"sans-serif\" font-size=\"11\" lengthAdjust=\"spacingAndGlyphs\" textLength=\"6\" x=\"88.5\" y=\"402.7573\">c</text><text fill=\"#000000\" font-family=\"sans-serif\" font-size=\"11\" font-style=\"italic\" lengthAdjust=\"spacingAndGlyphs\" textLength=\"46\" x=\"38.5\" y=\"415.562\">assume</text><text fill=\"#000000\" font-family=\"sans-serif\" font-size=\"11\" lengthAdjust=\"spacingAndGlyphs\" textLength=\"29\" x=\"88.5\" y=\"415.562\">c1: C</text><line style=\"stroke: #383838; stroke-width: 1.0;\" x1=\"33.5\" x2=\"59\" y1=\"386.1445\" y2=\"386.1445\"/><text fill=\"#000000\" font-family=\"sans-serif\" font-size=\"11\" lengthAdjust=\"spacingAndGlyphs\" textLength=\"64\" x=\"59\" y=\"389.4526\">constraints</text><line style=\"stroke: #383838; stroke-width: 1.0;\" x1=\"123\" x2=\"148.5\" y1=\"386.1445\" y2=\"386.1445\"/></a><!--MD5=[2156ba9850f5573cc1fc38a6a4b2f02b]\n",
       "class E7--><a href=\"psysml:5cc59123-afbd-4e9a-96fa-0bfa0b631260\" target=\"_top\" title=\"psysml:5cc59123-afbd-4e9a-96fa-0bfa0b631260\" xlink:actuate=\"onRequest\" xlink:href=\"psysml:5cc59123-afbd-4e9a-96fa-0bfa0b631260\" xlink:show=\"new\" xlink:title=\"psysml:5cc59123-afbd-4e9a-96fa-0bfa0b631260\" xlink:type=\"simple\"><rect fill=\"#FFFFFF\" height=\"45.9375\" id=\"E7\" rx=\"10\" ry=\"10\" style=\"stroke: #383838; stroke-width: 1.5;\" width=\"93\" x=\"34.5\" y=\"493.5\"/><text fill=\"#000000\" font-family=\"sans-serif\" font-size=\"12\" font-style=\"italic\" lengthAdjust=\"spacingAndGlyphs\" textLength=\"91\" x=\"35.5\" y=\"509.6387\">«requirement»</text><text fill=\"#000000\" font-family=\"sans-serif\" font-size=\"12\" lengthAdjust=\"spacingAndGlyphs\" text-decoration=\"line-through\" textLength=\"51\" x=\"55.5\" y=\"523.6074\">noname</text><line style=\"stroke: #383838; stroke-width: 1.5;\" x1=\"35.5\" x2=\"126.5\" y1=\"531.4375\" y2=\"531.4375\"/></a><!--MD5=[b9389687b975829384b498ac4b7476b2]\n",
       "class E8--><a href=\"psysml:49e593a4-f39b-4803-a2ce-02c26b916197\" target=\"_top\" title=\"psysml:49e593a4-f39b-4803-a2ce-02c26b916197\" xlink:actuate=\"onRequest\" xlink:href=\"psysml:49e593a4-f39b-4803-a2ce-02c26b916197\" xlink:show=\"new\" xlink:title=\"psysml:49e593a4-f39b-4803-a2ce-02c26b916197\" xlink:type=\"simple\"><rect fill=\"#FFFFFF\" height=\"66.7422\" id=\"E8\" style=\"stroke: #383838; stroke-width: 1.5;\" width=\"117\" x=\"162.5\" y=\"483\"/><text fill=\"#000000\" font-family=\"sans-serif\" font-size=\"12\" font-style=\"italic\" lengthAdjust=\"spacingAndGlyphs\" textLength=\"115\" x=\"163.5\" y=\"499.1387\">«requirement def»</text><text fill=\"#000000\" font-family=\"sans-serif\" font-size=\"12\" lengthAdjust=\"spacingAndGlyphs\" textLength=\"5\" x=\"208\" y=\"513.1074\">[</text><text fill=\"#000000\" font-family=\"sans-serif\" font-size=\"12\" font-weight=\"bold\" lengthAdjust=\"spacingAndGlyphs\" textLength=\"8\" x=\"213\" y=\"513.1074\">1</text><text fill=\"#000000\" font-family=\"sans-serif\" font-size=\"12\" lengthAdjust=\"spacingAndGlyphs\" textLength=\"17\" x=\"221\" y=\"513.1074\">] A</text><line style=\"stroke: #383838; stroke-width: 1.5;\" x1=\"163.5\" x2=\"278.5\" y1=\"520.9375\" y2=\"520.9375\"/><text fill=\"#000000\" font-family=\"sans-serif\" font-size=\"11\" lengthAdjust=\"spacingAndGlyphs\" textLength=\"24\" x=\"168.5\" y=\"535.1479\">Text</text><line style=\"stroke: #383838; stroke-width: 1.0;\" x1=\"163.5\" x2=\"278.5\" y1=\"541.7422\" y2=\"541.7422\"/></a><!--MD5=[fd4143e9d270a159db93a4ea2a975926]\n",
       "class E9--><a href=\"psysml:79fb73d3-867b-49b4-8196-8eb6e64f62f0\" target=\"_top\" title=\"psysml:79fb73d3-867b-49b4-8196-8eb6e64f62f0\" xlink:actuate=\"onRequest\" xlink:href=\"psysml:79fb73d3-867b-49b4-8196-8eb6e64f62f0\" xlink:show=\"new\" xlink:title=\"psysml:79fb73d3-867b-49b4-8196-8eb6e64f62f0\" xlink:type=\"simple\"><rect fill=\"#FFFFFF\" height=\"88.3516\" id=\"E9\" style=\"stroke: #383838; stroke-width: 1.5;\" width=\"145\" x=\"109.5\" y=\"41\"/><text fill=\"#000000\" font-family=\"sans-serif\" font-size=\"12\" font-style=\"italic\" lengthAdjust=\"spacingAndGlyphs\" textLength=\"115\" x=\"124.5\" y=\"57.1387\">«requirement def»</text><text fill=\"#000000\" font-family=\"sans-serif\" font-size=\"12\" lengthAdjust=\"spacingAndGlyphs\" textLength=\"16\" x=\"174\" y=\"71.1074\">R1</text><line style=\"stroke: #383838; stroke-width: 1.5;\" x1=\"110.5\" x2=\"253.5\" y1=\"78.9375\" y2=\"78.9375\"/><text fill=\"#000000\" font-family=\"sans-serif\" font-size=\"11\" font-weight=\"bold\" lengthAdjust=\"spacingAndGlyphs\" textLength=\"46\" x=\"115.5\" y=\"109.9526\">require</text><text fill=\"#000000\" font-family=\"sans-serif\" font-size=\"11\" lengthAdjust=\"spacingAndGlyphs\" textLength=\"13\" x=\"165.5\" y=\"109.9526\">c1</text><text fill=\"#000000\" font-family=\"sans-serif\" font-size=\"11\" font-style=\"italic\" lengthAdjust=\"spacingAndGlyphs\" textLength=\"133\" x=\"115.5\" y=\"122.7573\">:&gt;&gt;RequirementTest::c</text><line style=\"stroke: #383838; stroke-width: 1.0;\" x1=\"110.5\" x2=\"150\" y1=\"93.3398\" y2=\"93.3398\"/><text fill=\"#000000\" font-family=\"sans-serif\" font-size=\"11\" lengthAdjust=\"spacingAndGlyphs\" textLength=\"64\" x=\"150\" y=\"96.6479\">constraints</text><line style=\"stroke: #383838; stroke-width: 1.0;\" x1=\"214\" x2=\"253.5\" y1=\"93.3398\" y2=\"93.3398\"/></a><!--MD5=[1dd1bfd58a279cf63c5f349dbc8fc6a1]\n",
       "class E11--><a href=\"psysml:510a33c1-eff7-4e5e-90b4-a63ef5b72ae6\" target=\"_top\" title=\"psysml:510a33c1-eff7-4e5e-90b4-a63ef5b72ae6\" xlink:actuate=\"onRequest\" xlink:href=\"psysml:510a33c1-eff7-4e5e-90b4-a63ef5b72ae6\" xlink:show=\"new\" xlink:title=\"psysml:510a33c1-eff7-4e5e-90b4-a63ef5b72ae6\" xlink:type=\"simple\"><rect fill=\"#FFFFFF\" height=\"45.9375\" id=\"E11\" rx=\"10\" ry=\"10\" style=\"stroke: #383838; stroke-width: 1.5;\" width=\"42\" x=\"185\" y=\"344.5\"/><text fill=\"#000000\" font-family=\"sans-serif\" font-size=\"12\" font-style=\"italic\" lengthAdjust=\"spacingAndGlyphs\" textLength=\"40\" x=\"186\" y=\"360.6387\">«part»</text><text fill=\"#000000\" font-family=\"sans-serif\" font-size=\"12\" lengthAdjust=\"spacingAndGlyphs\" textLength=\"8\" x=\"202\" y=\"374.6074\">p</text><line style=\"stroke: #383838; stroke-width: 1.5;\" x1=\"186\" x2=\"226\" y1=\"382.4375\" y2=\"382.4375\"/></a><!--MD5=[49a0ec8f00dab7302a31f22d0f0fe584]\n",
       "class E12--><a href=\"psysml:a6cd5ff6-20a0-4014-8266-5a2f114de57c\" target=\"_top\" title=\"psysml:a6cd5ff6-20a0-4014-8266-5a2f114de57c\" xlink:actuate=\"onRequest\" xlink:href=\"psysml:a6cd5ff6-20a0-4014-8266-5a2f114de57c\" xlink:show=\"new\" xlink:title=\"psysml:a6cd5ff6-20a0-4014-8266-5a2f114de57c\" xlink:type=\"simple\"><rect fill=\"#FFFFFF\" height=\"45.9375\" id=\"E12\" rx=\"10\" ry=\"10\" style=\"stroke: #383838; stroke-width: 1.5;\" width=\"42\" x=\"32\" y=\"62\"/><text fill=\"#000000\" font-family=\"sans-serif\" font-size=\"12\" font-style=\"italic\" lengthAdjust=\"spacingAndGlyphs\" textLength=\"40\" x=\"33\" y=\"78.1387\">«part»</text><text fill=\"#000000\" font-family=\"sans-serif\" font-size=\"12\" lengthAdjust=\"spacingAndGlyphs\" textLength=\"8\" x=\"49\" y=\"92.1074\">q</text><line style=\"stroke: #383838; stroke-width: 1.5;\" x1=\"33\" x2=\"73\" y1=\"99.9375\" y2=\"99.9375\"/></a><!--MD5=[ee3c913d1a06f366521f9ef512b67efe]\n",
       "class E13--><a href=\"psysml:50b94a4a-7c4d-4845-a3da-b360d2df1f8c\" target=\"_top\" title=\"psysml:50b94a4a-7c4d-4845-a3da-b360d2df1f8c\" xlink:actuate=\"onRequest\" xlink:href=\"psysml:50b94a4a-7c4d-4845-a3da-b360d2df1f8c\" xlink:show=\"new\" xlink:title=\"psysml:50b94a4a-7c4d-4845-a3da-b360d2df1f8c\" xlink:type=\"simple\"><rect fill=\"#FFFFFF\" height=\"45.9375\" id=\"E13\" rx=\"10\" ry=\"10\" style=\"stroke: #383838; stroke-width: 1.5;\" width=\"93\" x=\"44.5\" y=\"190\"/><text fill=\"#000000\" font-family=\"sans-serif\" font-size=\"12\" font-style=\"italic\" lengthAdjust=\"spacingAndGlyphs\" textLength=\"91\" x=\"45.5\" y=\"206.1387\">«requirement»</text><text fill=\"#000000\" font-family=\"sans-serif\" font-size=\"12\" lengthAdjust=\"spacingAndGlyphs\" textLength=\"21\" x=\"80.5\" y=\"220.1074\">r: R</text><line style=\"stroke: #383838; stroke-width: 1.5;\" x1=\"45.5\" x2=\"136.5\" y1=\"227.9375\" y2=\"227.9375\"/></a><!--MD5=[05d275557350bfb9b23a4ef7222b4c39]\n",
       "link E3 to E2--><a href=\"psysml:e8229714-231f-4f2a-9005-056b1e69efb5\" target=\"_top\" title=\"psysml:e8229714-231f-4f2a-9005-056b1e69efb5\" xlink:actuate=\"onRequest\" xlink:href=\"psysml:e8229714-231f-4f2a-9005-056b1e69efb5\" xlink:show=\"new\" xlink:title=\"psysml:e8229714-231f-4f2a-9005-056b1e69efb5\" xlink:type=\"simple\"><path d=\"M330,108.18 C330,108.18 330,169.99 330,169.99 \" fill=\"none\" id=\"E3-&gt;E2\" style=\"stroke: #383838; stroke-width: 1.0;\"/><polygon fill=\"#FFFFFF\" points=\"330,189.99,323,170.99,337,170.99,330,189.99\" style=\"stroke: #383838; stroke-width: 1.0;\"/><ellipse cx=\"325\" cy=\"165.29\" fill=\"#383838\" rx=\"2\" ry=\"2\" style=\"stroke: #383838; stroke-width: 1.0;\"/><ellipse cx=\"335\" cy=\"165.29\" fill=\"#383838\" rx=\"2\" ry=\"2\" style=\"stroke: #383838; stroke-width: 1.0;\"/></a><!--MD5=[722ff4eef345aa10242dad44df0e98c7]\n",
       "reverse link E4 to E7--><a href=\"psysml:eafce8af-10f9-4af7-9431-7513cc7d3347\" target=\"_top\" title=\"psysml:eafce8af-10f9-4af7-9431-7513cc7d3347\" xlink:actuate=\"onRequest\" xlink:href=\"psysml:eafce8af-10f9-4af7-9431-7513cc7d3347\" xlink:show=\"new\" xlink:title=\"psysml:eafce8af-10f9-4af7-9431-7513cc7d3347\" xlink:type=\"simple\"><path d=\"M81,435.14 C81,435.14 81,493.41 81,493.41 \" fill=\"none\" id=\"E4&lt;-E7\" style=\"stroke: #383838; stroke-width: 1.0;\"/><polygon fill=\"#383838\" points=\"81,422.14,77,428.14,81,434.14,85,428.14,81,422.14\" style=\"stroke: #383838; stroke-width: 1.0;\"/></a><!--MD5=[c6fc7cdb0cabde04948078cf183fa696]\n",
       "reverse link E4 to E8--><a href=\"psysml:a0130814-5dc8-48af-af1a-9e985463643e\" target=\"_top\" title=\"psysml:a0130814-5dc8-48af-af1a-9e985463643e\" xlink:actuate=\"onRequest\" xlink:href=\"psysml:a0130814-5dc8-48af-af1a-9e985463643e\" xlink:show=\"new\" xlink:title=\"psysml:a0130814-5dc8-48af-af1a-9e985463643e\" xlink:type=\"simple\"><path d=\"M138.5,437.21 C138.5,437.21 138.5,489 138.5,489 C138.5,489 148.92,489 162.36,489 \" fill=\"none\" id=\"E4&lt;-E8\" style=\"stroke: #383838; stroke-width: 1.0;\"/><ellipse cx=\"138.5\" cy=\"430.21\" fill=\"#FFFFFF\" rx=\"8\" ry=\"8\" style=\"stroke: #383838; stroke-width: 1.0;\"/><line style=\"stroke: #383838; stroke-width: 1.0;\" x1=\"138.5\" x2=\"138.5\" y1=\"438.21\" y2=\"422.21\"/><line style=\"stroke: #383838; stroke-width: 1.0;\" x1=\"130.5\" x2=\"146.5\" y1=\"430.21\" y2=\"430.21\"/></a><!--MD5=[062ed86c389d1a88f61c6380d0491e17]\n",
       "reverse link E12 to E13--><a href=\"psysml:044b978f-2385-4425-992f-2d75b645c055\" target=\"_top\" title=\"psysml:044b978f-2385-4425-992f-2d75b645c055\" xlink:actuate=\"onRequest\" xlink:href=\"psysml:044b978f-2385-4425-992f-2d75b645c055\" xlink:show=\"new\" xlink:title=\"psysml:044b978f-2385-4425-992f-2d75b645c055\" xlink:type=\"simple\"><path d=\"M59.25,121.18 C59.25,121.18 59.25,189.99 59.25,189.99 \" fill=\"none\" id=\"E12&lt;-E13\" style=\"stroke: #383838; stroke-width: 1.0;\"/><polygon fill=\"#383838\" points=\"59.25,108.18,55.25,114.18,59.25,120.18,63.25,114.18,59.25,108.18\" style=\"stroke: #383838; stroke-width: 1.0;\"/></a><!--MD5=[017847e01ff9a8bd19f247411074f987]\n",
       "link E13 to E4--><a href=\"psysml:279d9c9b-21cb-4076-8967-339bf6a79b4c\" target=\"_top\" title=\"psysml:279d9c9b-21cb-4076-8967-339bf6a79b4c\" xlink:actuate=\"onRequest\" xlink:href=\"psysml:279d9c9b-21cb-4076-8967-339bf6a79b4c\" xlink:show=\"new\" xlink:title=\"psysml:279d9c9b-21cb-4076-8967-339bf6a79b4c\" xlink:type=\"simple\"><path d=\"M91,236.13 C91,236.13 91,292.77 91,292.77 \" fill=\"none\" id=\"E13-&gt;E4\" style=\"stroke: #383838; stroke-width: 1.0;\"/><polygon fill=\"#FFFFFF\" points=\"91,312.77,84,293.77,98,293.77,91,312.77\" style=\"stroke: #383838; stroke-width: 1.0;\"/><ellipse cx=\"86\" cy=\"288.07\" fill=\"#383838\" rx=\"2\" ry=\"2\" style=\"stroke: #383838; stroke-width: 1.0;\"/><ellipse cx=\"96\" cy=\"288.07\" fill=\"#383838\" rx=\"2\" ry=\"2\" style=\"stroke: #383838; stroke-width: 1.0;\"/></a><!--MD5=[2cfe899c895462254056921bfb67315f]\n",
       "link E13 to E11--><a href=\"psysml:fcf36e7c-2665-4a1d-8cf4-6fcc5b08ef04\" target=\"_top\" title=\"psysml:fcf36e7c-2665-4a1d-8cf4-6fcc5b08ef04\" xlink:actuate=\"onRequest\" xlink:href=\"psysml:fcf36e7c-2665-4a1d-8cf4-6fcc5b08ef04\" xlink:show=\"new\" xlink:title=\"psysml:fcf36e7c-2665-4a1d-8cf4-6fcc5b08ef04\" xlink:type=\"simple\"><path d=\"M137.77,213 C169.61,213 206,213 206,213 C206,213 206,339.37 206,339.37 \" fill=\"none\" id=\"E13-&gt;E11\" style=\"stroke: #383838; stroke-width: 1.0; stroke-dasharray: 7.0,7.0;\"/><polygon fill=\"#383838\" points=\"206,344.37,210,335.37,206,339.37,202,335.37,206,344.37\" style=\"stroke: #383838; stroke-width: 1.0;\"/><text fill=\"#000000\" font-family=\"sans-serif\" font-size=\"13\" lengthAdjust=\"spacingAndGlyphs\" textLength=\"57\" x=\"170\" y=\"279.0669\">«satisfy»</text></a><!--MD5=[c8ed294d899e7b8fad70b835f54296a4]\n",
       "@startuml\r\n",
       "skinparam linetype ortho\r\n",
       "skinparam monochrome true\r\n",
       "skinparam classbackgroundcolor white\r\n",
       "skinparam shadowing false\r\n",
       "skinparam wrapWidth 300\r\n",
       "hide circle\r\n",
       "\r\n",
       "package \"RequirementTest\" as E1  [[psysml:f822a5b9-f637-4bfc-9356-d45755be39c3 ]]  {\r\n",
       "comp def \"C\" as E2  <<(T,blue)constraint def>> [[psysml:55e0c843-cabd-4238-9430-5e5ddb37e322 ]] {\r\n",
       "}\r\n",
       "comp usage \"c: C\" as E3  <<(T,blue)constraint>> [[psysml:943270d7-f648-4f2b-99ed-798f0a01be75 ]] {\r\n",
       "}\r\n",
       "comp def \"R\" as E4  <<(T,blue)requirement def>> [[psysml:3547be1a-4b91-4a24-a66e-ac992d912d25 ]] {\r\n",
       "\r\n",
       "- -\r\n",
       "- - constraints - -\r\n",
       "<b>require</b> c\r\n",
       "<i>assume</i> c1: C\r\n",
       "}\r\n",
       "comp usage \"<s>noname</s>\" as E7  <<(T,blue)requirement>> [[psysml:5cc59123-afbd-4e9a-96fa-0bfa0b631260 ]] {\r\n",
       "}\r\n",
       "comp def \" [<b>1</b>] A\" as E8  <<(T,blue)requirement def>> [[psysml:49e593a4-f39b-4803-a2ce-02c26b916197 ]] {\r\n",
       "Text\r\n",
       "- -\r\n",
       "}\r\n",
       "comp def \"R1\" as E9  <<(T,blue)requirement def>> [[psysml:79fb73d3-867b-49b4-8196-8eb6e64f62f0 ]] {\r\n",
       "- - constraints - -\r\n",
       "<b>require</b> c1\\n//:>>RequirementTest::c// \r\n",
       "}\r\n",
       "comp usage \"p\" as E11  <<(T,blue)part>> [[psysml:510a33c1-eff7-4e5e-90b4-a63ef5b72ae6 ]] {\r\n",
       "}\r\n",
       "comp usage \"q\" as E12  <<(T,blue)part>> [[psysml:a6cd5ff6-20a0-4014-8266-5a2f114de57c ]] {\r\n",
       "}\r\n",
       "comp usage \"r: R\" as E13  <<(T,blue)requirement>> [[psysml:50b94a4a-7c4d-4845-a3da-b360d2df1f8c ]] {\r\n",
       "}\r\n",
       "E3 - -:|> E2 [[psysml:e8229714-231f-4f2a-9005-056b1e69efb5 ]] \r\n",
       "E4 *- - E7 [[psysml:eafce8af-10f9-4af7-9431-7513cc7d3347 ]] \r\n",
       "E4 +- - E8 [[psysml:a0130814-5dc8-48af-af1a-9e985463643e ]] \r\n",
       "E12 *- - E13 [[psysml:044b978f-2385-4425-992f-2d75b645c055 ]] \r\n",
       "E13 - -:|> E4 [[psysml:279d9c9b-21cb-4076-8967-339bf6a79b4c ]] \r\n",
       "E13 ..> E11 [[psysml:fcf36e7c-2665-4a1d-8cf4-6fcc5b08ef04 ]] : <<satisfy>>\r\n",
       "}\r\n",
       "@enduml\r\n",
       "\n",
       "PlantUML version 1.2020.13(Sat Jun 13 12:26:38 UTC 2020)\n",
       "(EPL source distribution)\n",
       "Java Runtime: OpenJDK Runtime Environment\n",
       "JVM: OpenJDK 64-Bit Server VM\n",
       "Default Encoding: UTF-8\n",
       "Language: en\n",
       "Country: null\n",
       "--></g></svg>"
      ]
     },
     "execution_count": 56,
     "metadata": {},
     "output_type": "execute_result"
    }
   ],
   "source": [
    "%viz --style=\"ORTHOLINE\" --view=\"Sequence\" \"RequirementTest\""
   ]
  },
  {
   "cell_type": "code",
   "execution_count": 57,
   "id": "49d69bd8",
   "metadata": {
    "execution": {
     "iopub.execute_input": "2021-04-21T20:21:33.436105Z",
     "iopub.status.busy": "2021-04-21T20:21:33.435687Z",
     "iopub.status.idle": "2021-04-21T20:21:33.524267Z",
     "shell.execute_reply": "2021-04-21T20:21:33.522883Z"
    }
   },
   "outputs": [
    {
     "data": {
      "image/svg+xml": [
       "<?xml version=\"1.0\" encoding=\"UTF-8\" standalone=\"no\"?><svg xmlns=\"http://www.w3.org/2000/svg\" xmlns:xlink=\"http://www.w3.org/1999/xlink\" contentScriptType=\"application/ecmascript\" contentStyleType=\"text/css\" height=\"578px\" preserveAspectRatio=\"none\" style=\"width:408px;height:578px;\" version=\"1.1\" viewBox=\"0 0 408 578\" width=\"408px\" zoomAndPan=\"magnify\"><defs/><g><!--MD5=[fbc87193dbaf4d95561dea2c320d4a47]\n",
       "cluster E1--><a href=\"psysml:f822a5b9-f637-4bfc-9356-d45755be39c3\" target=\"_top\" title=\"psysml:f822a5b9-f637-4bfc-9356-d45755be39c3\" xlink:actuate=\"onRequest\" xlink:href=\"psysml:f822a5b9-f637-4bfc-9356-d45755be39c3\" xlink:show=\"new\" xlink:title=\"psysml:f822a5b9-f637-4bfc-9356-d45755be39c3\" xlink:type=\"simple\"><polygon fill=\"#FFFFFF\" points=\"16,6,158,6,165,28.2969,386,28.2969,386,566,16,566,16,6\" style=\"stroke: #000000; stroke-width: 1.5;\"/><line style=\"stroke: #000000; stroke-width: 1.5;\" x1=\"16\" x2=\"165\" y1=\"28.2969\" y2=\"28.2969\"/><text fill=\"#000000\" font-family=\"sans-serif\" font-size=\"14\" font-weight=\"bold\" lengthAdjust=\"spacingAndGlyphs\" textLength=\"136\" x=\"20\" y=\"20.9951\">RequirementTest</text></a><!--MD5=[b4997ac47864f28c2f74865a473b2911]\n",
       "class E2--><a href=\"psysml:55e0c843-cabd-4238-9430-5e5ddb37e322\" target=\"_top\" title=\"psysml:55e0c843-cabd-4238-9430-5e5ddb37e322\" xlink:actuate=\"onRequest\" xlink:href=\"psysml:55e0c843-cabd-4238-9430-5e5ddb37e322\" xlink:show=\"new\" xlink:title=\"psysml:55e0c843-cabd-4238-9430-5e5ddb37e322\" xlink:type=\"simple\"><rect fill=\"#FFFFFF\" height=\"45.9375\" id=\"E2\" style=\"stroke: #383838; stroke-width: 1.5;\" width=\"104\" x=\"266\" y=\"190\"/><text fill=\"#000000\" font-family=\"sans-serif\" font-size=\"12\" font-style=\"italic\" lengthAdjust=\"spacingAndGlyphs\" textLength=\"102\" x=\"267\" y=\"206.1387\">«constraint def»</text><text fill=\"#000000\" font-family=\"sans-serif\" font-size=\"12\" lengthAdjust=\"spacingAndGlyphs\" textLength=\"8\" x=\"314\" y=\"220.1074\">C</text><line style=\"stroke: #383838; stroke-width: 1.5;\" x1=\"267\" x2=\"369\" y1=\"227.9375\" y2=\"227.9375\"/></a><!--MD5=[09b614a08d8cba4a07c9adeb5e0fee81]\n",
       "class E3--><a href=\"psysml:943270d7-f648-4f2b-99ed-798f0a01be75\" target=\"_top\" title=\"psysml:943270d7-f648-4f2b-99ed-798f0a01be75\" xlink:actuate=\"onRequest\" xlink:href=\"psysml:943270d7-f648-4f2b-99ed-798f0a01be75\" xlink:show=\"new\" xlink:title=\"psysml:943270d7-f648-4f2b-99ed-798f0a01be75\" xlink:type=\"simple\"><rect fill=\"#FFFFFF\" height=\"45.9375\" id=\"E3\" rx=\"10\" ry=\"10\" style=\"stroke: #383838; stroke-width: 1.5;\" width=\"80\" x=\"290\" y=\"62\"/><text fill=\"#000000\" font-family=\"sans-serif\" font-size=\"12\" font-style=\"italic\" lengthAdjust=\"spacingAndGlyphs\" textLength=\"78\" x=\"291\" y=\"78.1387\">«constraint»</text><text fill=\"#000000\" font-family=\"sans-serif\" font-size=\"12\" lengthAdjust=\"spacingAndGlyphs\" textLength=\"23\" x=\"318.5\" y=\"92.1074\">c: C</text><line style=\"stroke: #383838; stroke-width: 1.5;\" x1=\"291\" x2=\"369\" y1=\"99.9375\" y2=\"99.9375\"/></a><!--MD5=[ebbe1d658d1005bcc118a6aa81145e00]\n",
       "class E4--><a href=\"psysml:3547be1a-4b91-4a24-a66e-ac992d912d25\" target=\"_top\" title=\"psysml:3547be1a-4b91-4a24-a66e-ac992d912d25\" xlink:actuate=\"onRequest\" xlink:href=\"psysml:3547be1a-4b91-4a24-a66e-ac992d912d25\" xlink:show=\"new\" xlink:title=\"psysml:3547be1a-4b91-4a24-a66e-ac992d912d25\" xlink:type=\"simple\"><rect fill=\"#FFFFFF\" height=\"109.1563\" id=\"E4\" style=\"stroke: #383838; stroke-width: 1.5;\" width=\"117\" x=\"32.5\" y=\"313\"/><text fill=\"#000000\" font-family=\"sans-serif\" font-size=\"12\" font-style=\"italic\" lengthAdjust=\"spacingAndGlyphs\" textLength=\"115\" x=\"33.5\" y=\"329.1387\">«requirement def»</text><text fill=\"#000000\" font-family=\"sans-serif\" font-size=\"12\" lengthAdjust=\"spacingAndGlyphs\" textLength=\"8\" x=\"87\" y=\"343.1074\">R</text><line style=\"stroke: #383838; stroke-width: 1.5;\" x1=\"33.5\" x2=\"148.5\" y1=\"350.9375\" y2=\"350.9375\"/><text fill=\"#000000\" font-family=\"sans-serif\" font-size=\"11\" lengthAdjust=\"spacingAndGlyphs\" textLength=\"0\" x=\"42.5\" y=\"365.1479\"/><line style=\"stroke: #383838; stroke-width: 1.0;\" x1=\"33.5\" x2=\"148.5\" y1=\"371.7422\" y2=\"371.7422\"/><text fill=\"#000000\" font-family=\"sans-serif\" font-size=\"11\" font-weight=\"bold\" lengthAdjust=\"spacingAndGlyphs\" textLength=\"46\" x=\"38.5\" y=\"402.7573\">require</text><text fill=\"#000000\" font-family=\"sans-serif\" font-size=\"11\" lengthAdjust=\"spacingAndGlyphs\" textLength=\"6\" x=\"88.5\" y=\"402.7573\">c</text><text fill=\"#000000\" font-family=\"sans-serif\" font-size=\"11\" font-style=\"italic\" lengthAdjust=\"spacingAndGlyphs\" textLength=\"46\" x=\"38.5\" y=\"415.562\">assume</text><text fill=\"#000000\" font-family=\"sans-serif\" font-size=\"11\" lengthAdjust=\"spacingAndGlyphs\" textLength=\"29\" x=\"88.5\" y=\"415.562\">c1: C</text><line style=\"stroke: #383838; stroke-width: 1.0;\" x1=\"33.5\" x2=\"59\" y1=\"386.1445\" y2=\"386.1445\"/><text fill=\"#000000\" font-family=\"sans-serif\" font-size=\"11\" lengthAdjust=\"spacingAndGlyphs\" textLength=\"64\" x=\"59\" y=\"389.4526\">constraints</text><line style=\"stroke: #383838; stroke-width: 1.0;\" x1=\"123\" x2=\"148.5\" y1=\"386.1445\" y2=\"386.1445\"/></a><!--MD5=[2156ba9850f5573cc1fc38a6a4b2f02b]\n",
       "class E7--><a href=\"psysml:5cc59123-afbd-4e9a-96fa-0bfa0b631260\" target=\"_top\" title=\"psysml:5cc59123-afbd-4e9a-96fa-0bfa0b631260\" xlink:actuate=\"onRequest\" xlink:href=\"psysml:5cc59123-afbd-4e9a-96fa-0bfa0b631260\" xlink:show=\"new\" xlink:title=\"psysml:5cc59123-afbd-4e9a-96fa-0bfa0b631260\" xlink:type=\"simple\"><rect fill=\"#FFFFFF\" height=\"45.9375\" id=\"E7\" rx=\"10\" ry=\"10\" style=\"stroke: #383838; stroke-width: 1.5;\" width=\"93\" x=\"34.5\" y=\"493.5\"/><text fill=\"#000000\" font-family=\"sans-serif\" font-size=\"12\" font-style=\"italic\" lengthAdjust=\"spacingAndGlyphs\" textLength=\"91\" x=\"35.5\" y=\"509.6387\">«requirement»</text><text fill=\"#000000\" font-family=\"sans-serif\" font-size=\"12\" lengthAdjust=\"spacingAndGlyphs\" text-decoration=\"line-through\" textLength=\"51\" x=\"55.5\" y=\"523.6074\">noname</text><line style=\"stroke: #383838; stroke-width: 1.5;\" x1=\"35.5\" x2=\"126.5\" y1=\"531.4375\" y2=\"531.4375\"/></a><!--MD5=[b9389687b975829384b498ac4b7476b2]\n",
       "class E8--><a href=\"psysml:49e593a4-f39b-4803-a2ce-02c26b916197\" target=\"_top\" title=\"psysml:49e593a4-f39b-4803-a2ce-02c26b916197\" xlink:actuate=\"onRequest\" xlink:href=\"psysml:49e593a4-f39b-4803-a2ce-02c26b916197\" xlink:show=\"new\" xlink:title=\"psysml:49e593a4-f39b-4803-a2ce-02c26b916197\" xlink:type=\"simple\"><rect fill=\"#FFFFFF\" height=\"66.7422\" id=\"E8\" style=\"stroke: #383838; stroke-width: 1.5;\" width=\"117\" x=\"162.5\" y=\"483\"/><text fill=\"#000000\" font-family=\"sans-serif\" font-size=\"12\" font-style=\"italic\" lengthAdjust=\"spacingAndGlyphs\" textLength=\"115\" x=\"163.5\" y=\"499.1387\">«requirement def»</text><text fill=\"#000000\" font-family=\"sans-serif\" font-size=\"12\" lengthAdjust=\"spacingAndGlyphs\" textLength=\"5\" x=\"208\" y=\"513.1074\">[</text><text fill=\"#000000\" font-family=\"sans-serif\" font-size=\"12\" font-weight=\"bold\" lengthAdjust=\"spacingAndGlyphs\" textLength=\"8\" x=\"213\" y=\"513.1074\">1</text><text fill=\"#000000\" font-family=\"sans-serif\" font-size=\"12\" lengthAdjust=\"spacingAndGlyphs\" textLength=\"17\" x=\"221\" y=\"513.1074\">] A</text><line style=\"stroke: #383838; stroke-width: 1.5;\" x1=\"163.5\" x2=\"278.5\" y1=\"520.9375\" y2=\"520.9375\"/><text fill=\"#000000\" font-family=\"sans-serif\" font-size=\"11\" lengthAdjust=\"spacingAndGlyphs\" textLength=\"24\" x=\"168.5\" y=\"535.1479\">Text</text><line style=\"stroke: #383838; stroke-width: 1.0;\" x1=\"163.5\" x2=\"278.5\" y1=\"541.7422\" y2=\"541.7422\"/></a><!--MD5=[fd4143e9d270a159db93a4ea2a975926]\n",
       "class E9--><a href=\"psysml:79fb73d3-867b-49b4-8196-8eb6e64f62f0\" target=\"_top\" title=\"psysml:79fb73d3-867b-49b4-8196-8eb6e64f62f0\" xlink:actuate=\"onRequest\" xlink:href=\"psysml:79fb73d3-867b-49b4-8196-8eb6e64f62f0\" xlink:show=\"new\" xlink:title=\"psysml:79fb73d3-867b-49b4-8196-8eb6e64f62f0\" xlink:type=\"simple\"><rect fill=\"#FFFFFF\" height=\"88.3516\" id=\"E9\" style=\"stroke: #383838; stroke-width: 1.5;\" width=\"145\" x=\"109.5\" y=\"41\"/><text fill=\"#000000\" font-family=\"sans-serif\" font-size=\"12\" font-style=\"italic\" lengthAdjust=\"spacingAndGlyphs\" textLength=\"115\" x=\"124.5\" y=\"57.1387\">«requirement def»</text><text fill=\"#000000\" font-family=\"sans-serif\" font-size=\"12\" lengthAdjust=\"spacingAndGlyphs\" textLength=\"16\" x=\"174\" y=\"71.1074\">R1</text><line style=\"stroke: #383838; stroke-width: 1.5;\" x1=\"110.5\" x2=\"253.5\" y1=\"78.9375\" y2=\"78.9375\"/><text fill=\"#000000\" font-family=\"sans-serif\" font-size=\"11\" font-weight=\"bold\" lengthAdjust=\"spacingAndGlyphs\" textLength=\"46\" x=\"115.5\" y=\"109.9526\">require</text><text fill=\"#000000\" font-family=\"sans-serif\" font-size=\"11\" lengthAdjust=\"spacingAndGlyphs\" textLength=\"13\" x=\"165.5\" y=\"109.9526\">c1</text><text fill=\"#000000\" font-family=\"sans-serif\" font-size=\"11\" font-style=\"italic\" lengthAdjust=\"spacingAndGlyphs\" textLength=\"133\" x=\"115.5\" y=\"122.7573\">:&gt;&gt;RequirementTest::c</text><line style=\"stroke: #383838; stroke-width: 1.0;\" x1=\"110.5\" x2=\"150\" y1=\"93.3398\" y2=\"93.3398\"/><text fill=\"#000000\" font-family=\"sans-serif\" font-size=\"11\" lengthAdjust=\"spacingAndGlyphs\" textLength=\"64\" x=\"150\" y=\"96.6479\">constraints</text><line style=\"stroke: #383838; stroke-width: 1.0;\" x1=\"214\" x2=\"253.5\" y1=\"93.3398\" y2=\"93.3398\"/></a><!--MD5=[1dd1bfd58a279cf63c5f349dbc8fc6a1]\n",
       "class E11--><a href=\"psysml:510a33c1-eff7-4e5e-90b4-a63ef5b72ae6\" target=\"_top\" title=\"psysml:510a33c1-eff7-4e5e-90b4-a63ef5b72ae6\" xlink:actuate=\"onRequest\" xlink:href=\"psysml:510a33c1-eff7-4e5e-90b4-a63ef5b72ae6\" xlink:show=\"new\" xlink:title=\"psysml:510a33c1-eff7-4e5e-90b4-a63ef5b72ae6\" xlink:type=\"simple\"><rect fill=\"#FFFFFF\" height=\"45.9375\" id=\"E11\" rx=\"10\" ry=\"10\" style=\"stroke: #383838; stroke-width: 1.5;\" width=\"42\" x=\"185\" y=\"344.5\"/><text fill=\"#000000\" font-family=\"sans-serif\" font-size=\"12\" font-style=\"italic\" lengthAdjust=\"spacingAndGlyphs\" textLength=\"40\" x=\"186\" y=\"360.6387\">«part»</text><text fill=\"#000000\" font-family=\"sans-serif\" font-size=\"12\" lengthAdjust=\"spacingAndGlyphs\" textLength=\"8\" x=\"202\" y=\"374.6074\">p</text><line style=\"stroke: #383838; stroke-width: 1.5;\" x1=\"186\" x2=\"226\" y1=\"382.4375\" y2=\"382.4375\"/></a><!--MD5=[49a0ec8f00dab7302a31f22d0f0fe584]\n",
       "class E12--><a href=\"psysml:a6cd5ff6-20a0-4014-8266-5a2f114de57c\" target=\"_top\" title=\"psysml:a6cd5ff6-20a0-4014-8266-5a2f114de57c\" xlink:actuate=\"onRequest\" xlink:href=\"psysml:a6cd5ff6-20a0-4014-8266-5a2f114de57c\" xlink:show=\"new\" xlink:title=\"psysml:a6cd5ff6-20a0-4014-8266-5a2f114de57c\" xlink:type=\"simple\"><rect fill=\"#FFFFFF\" height=\"45.9375\" id=\"E12\" rx=\"10\" ry=\"10\" style=\"stroke: #383838; stroke-width: 1.5;\" width=\"42\" x=\"32\" y=\"62\"/><text fill=\"#000000\" font-family=\"sans-serif\" font-size=\"12\" font-style=\"italic\" lengthAdjust=\"spacingAndGlyphs\" textLength=\"40\" x=\"33\" y=\"78.1387\">«part»</text><text fill=\"#000000\" font-family=\"sans-serif\" font-size=\"12\" lengthAdjust=\"spacingAndGlyphs\" textLength=\"8\" x=\"49\" y=\"92.1074\">q</text><line style=\"stroke: #383838; stroke-width: 1.5;\" x1=\"33\" x2=\"73\" y1=\"99.9375\" y2=\"99.9375\"/></a><!--MD5=[ee3c913d1a06f366521f9ef512b67efe]\n",
       "class E13--><a href=\"psysml:50b94a4a-7c4d-4845-a3da-b360d2df1f8c\" target=\"_top\" title=\"psysml:50b94a4a-7c4d-4845-a3da-b360d2df1f8c\" xlink:actuate=\"onRequest\" xlink:href=\"psysml:50b94a4a-7c4d-4845-a3da-b360d2df1f8c\" xlink:show=\"new\" xlink:title=\"psysml:50b94a4a-7c4d-4845-a3da-b360d2df1f8c\" xlink:type=\"simple\"><rect fill=\"#FFFFFF\" height=\"45.9375\" id=\"E13\" rx=\"10\" ry=\"10\" style=\"stroke: #383838; stroke-width: 1.5;\" width=\"93\" x=\"44.5\" y=\"190\"/><text fill=\"#000000\" font-family=\"sans-serif\" font-size=\"12\" font-style=\"italic\" lengthAdjust=\"spacingAndGlyphs\" textLength=\"91\" x=\"45.5\" y=\"206.1387\">«requirement»</text><text fill=\"#000000\" font-family=\"sans-serif\" font-size=\"12\" lengthAdjust=\"spacingAndGlyphs\" textLength=\"21\" x=\"80.5\" y=\"220.1074\">r: R</text><line style=\"stroke: #383838; stroke-width: 1.5;\" x1=\"45.5\" x2=\"136.5\" y1=\"227.9375\" y2=\"227.9375\"/></a><!--MD5=[05d275557350bfb9b23a4ef7222b4c39]\n",
       "link E3 to E2--><a href=\"psysml:e8229714-231f-4f2a-9005-056b1e69efb5\" target=\"_top\" title=\"psysml:e8229714-231f-4f2a-9005-056b1e69efb5\" xlink:actuate=\"onRequest\" xlink:href=\"psysml:e8229714-231f-4f2a-9005-056b1e69efb5\" xlink:show=\"new\" xlink:title=\"psysml:e8229714-231f-4f2a-9005-056b1e69efb5\" xlink:type=\"simple\"><path d=\"M330,108.18 C330,108.18 330,169.99 330,169.99 \" fill=\"none\" id=\"E3-&gt;E2\" style=\"stroke: #383838; stroke-width: 1.0;\"/><polygon fill=\"#FFFFFF\" points=\"330,189.99,323,170.99,337,170.99,330,189.99\" style=\"stroke: #383838; stroke-width: 1.0;\"/><ellipse cx=\"325\" cy=\"165.29\" fill=\"#383838\" rx=\"2\" ry=\"2\" style=\"stroke: #383838; stroke-width: 1.0;\"/><ellipse cx=\"335\" cy=\"165.29\" fill=\"#383838\" rx=\"2\" ry=\"2\" style=\"stroke: #383838; stroke-width: 1.0;\"/></a><!--MD5=[722ff4eef345aa10242dad44df0e98c7]\n",
       "reverse link E4 to E7--><a href=\"psysml:eafce8af-10f9-4af7-9431-7513cc7d3347\" target=\"_top\" title=\"psysml:eafce8af-10f9-4af7-9431-7513cc7d3347\" xlink:actuate=\"onRequest\" xlink:href=\"psysml:eafce8af-10f9-4af7-9431-7513cc7d3347\" xlink:show=\"new\" xlink:title=\"psysml:eafce8af-10f9-4af7-9431-7513cc7d3347\" xlink:type=\"simple\"><path d=\"M81,435.14 C81,435.14 81,493.41 81,493.41 \" fill=\"none\" id=\"E4&lt;-E7\" style=\"stroke: #383838; stroke-width: 1.0;\"/><polygon fill=\"#383838\" points=\"81,422.14,77,428.14,81,434.14,85,428.14,81,422.14\" style=\"stroke: #383838; stroke-width: 1.0;\"/></a><!--MD5=[c6fc7cdb0cabde04948078cf183fa696]\n",
       "reverse link E4 to E8--><a href=\"psysml:a0130814-5dc8-48af-af1a-9e985463643e\" target=\"_top\" title=\"psysml:a0130814-5dc8-48af-af1a-9e985463643e\" xlink:actuate=\"onRequest\" xlink:href=\"psysml:a0130814-5dc8-48af-af1a-9e985463643e\" xlink:show=\"new\" xlink:title=\"psysml:a0130814-5dc8-48af-af1a-9e985463643e\" xlink:type=\"simple\"><path d=\"M138.5,437.21 C138.5,437.21 138.5,489 138.5,489 C138.5,489 148.92,489 162.36,489 \" fill=\"none\" id=\"E4&lt;-E8\" style=\"stroke: #383838; stroke-width: 1.0;\"/><ellipse cx=\"138.5\" cy=\"430.21\" fill=\"#FFFFFF\" rx=\"8\" ry=\"8\" style=\"stroke: #383838; stroke-width: 1.0;\"/><line style=\"stroke: #383838; stroke-width: 1.0;\" x1=\"138.5\" x2=\"138.5\" y1=\"438.21\" y2=\"422.21\"/><line style=\"stroke: #383838; stroke-width: 1.0;\" x1=\"130.5\" x2=\"146.5\" y1=\"430.21\" y2=\"430.21\"/></a><!--MD5=[062ed86c389d1a88f61c6380d0491e17]\n",
       "reverse link E12 to E13--><a href=\"psysml:044b978f-2385-4425-992f-2d75b645c055\" target=\"_top\" title=\"psysml:044b978f-2385-4425-992f-2d75b645c055\" xlink:actuate=\"onRequest\" xlink:href=\"psysml:044b978f-2385-4425-992f-2d75b645c055\" xlink:show=\"new\" xlink:title=\"psysml:044b978f-2385-4425-992f-2d75b645c055\" xlink:type=\"simple\"><path d=\"M59.25,121.18 C59.25,121.18 59.25,189.99 59.25,189.99 \" fill=\"none\" id=\"E12&lt;-E13\" style=\"stroke: #383838; stroke-width: 1.0;\"/><polygon fill=\"#383838\" points=\"59.25,108.18,55.25,114.18,59.25,120.18,63.25,114.18,59.25,108.18\" style=\"stroke: #383838; stroke-width: 1.0;\"/></a><!--MD5=[017847e01ff9a8bd19f247411074f987]\n",
       "link E13 to E4--><a href=\"psysml:279d9c9b-21cb-4076-8967-339bf6a79b4c\" target=\"_top\" title=\"psysml:279d9c9b-21cb-4076-8967-339bf6a79b4c\" xlink:actuate=\"onRequest\" xlink:href=\"psysml:279d9c9b-21cb-4076-8967-339bf6a79b4c\" xlink:show=\"new\" xlink:title=\"psysml:279d9c9b-21cb-4076-8967-339bf6a79b4c\" xlink:type=\"simple\"><path d=\"M91,236.13 C91,236.13 91,292.77 91,292.77 \" fill=\"none\" id=\"E13-&gt;E4\" style=\"stroke: #383838; stroke-width: 1.0;\"/><polygon fill=\"#FFFFFF\" points=\"91,312.77,84,293.77,98,293.77,91,312.77\" style=\"stroke: #383838; stroke-width: 1.0;\"/><ellipse cx=\"86\" cy=\"288.07\" fill=\"#383838\" rx=\"2\" ry=\"2\" style=\"stroke: #383838; stroke-width: 1.0;\"/><ellipse cx=\"96\" cy=\"288.07\" fill=\"#383838\" rx=\"2\" ry=\"2\" style=\"stroke: #383838; stroke-width: 1.0;\"/></a><!--MD5=[2cfe899c895462254056921bfb67315f]\n",
       "link E13 to E11--><a href=\"psysml:fcf36e7c-2665-4a1d-8cf4-6fcc5b08ef04\" target=\"_top\" title=\"psysml:fcf36e7c-2665-4a1d-8cf4-6fcc5b08ef04\" xlink:actuate=\"onRequest\" xlink:href=\"psysml:fcf36e7c-2665-4a1d-8cf4-6fcc5b08ef04\" xlink:show=\"new\" xlink:title=\"psysml:fcf36e7c-2665-4a1d-8cf4-6fcc5b08ef04\" xlink:type=\"simple\"><path d=\"M137.77,213 C169.61,213 206,213 206,213 C206,213 206,339.37 206,339.37 \" fill=\"none\" id=\"E13-&gt;E11\" style=\"stroke: #383838; stroke-width: 1.0; stroke-dasharray: 7.0,7.0;\"/><polygon fill=\"#383838\" points=\"206,344.37,210,335.37,206,339.37,202,335.37,206,344.37\" style=\"stroke: #383838; stroke-width: 1.0;\"/><text fill=\"#000000\" font-family=\"sans-serif\" font-size=\"13\" lengthAdjust=\"spacingAndGlyphs\" textLength=\"57\" x=\"170\" y=\"279.0669\">«satisfy»</text></a><!--MD5=[c8ed294d899e7b8fad70b835f54296a4]\n",
       "@startuml\r\n",
       "skinparam linetype ortho\r\n",
       "skinparam monochrome true\r\n",
       "skinparam classbackgroundcolor white\r\n",
       "skinparam shadowing false\r\n",
       "skinparam wrapWidth 300\r\n",
       "hide circle\r\n",
       "\r\n",
       "package \"RequirementTest\" as E1  [[psysml:f822a5b9-f637-4bfc-9356-d45755be39c3 ]]  {\r\n",
       "comp def \"C\" as E2  <<(T,blue)constraint def>> [[psysml:55e0c843-cabd-4238-9430-5e5ddb37e322 ]] {\r\n",
       "}\r\n",
       "comp usage \"c: C\" as E3  <<(T,blue)constraint>> [[psysml:943270d7-f648-4f2b-99ed-798f0a01be75 ]] {\r\n",
       "}\r\n",
       "comp def \"R\" as E4  <<(T,blue)requirement def>> [[psysml:3547be1a-4b91-4a24-a66e-ac992d912d25 ]] {\r\n",
       "\r\n",
       "- -\r\n",
       "- - constraints - -\r\n",
       "<b>require</b> c\r\n",
       "<i>assume</i> c1: C\r\n",
       "}\r\n",
       "comp usage \"<s>noname</s>\" as E7  <<(T,blue)requirement>> [[psysml:5cc59123-afbd-4e9a-96fa-0bfa0b631260 ]] {\r\n",
       "}\r\n",
       "comp def \" [<b>1</b>] A\" as E8  <<(T,blue)requirement def>> [[psysml:49e593a4-f39b-4803-a2ce-02c26b916197 ]] {\r\n",
       "Text\r\n",
       "- -\r\n",
       "}\r\n",
       "comp def \"R1\" as E9  <<(T,blue)requirement def>> [[psysml:79fb73d3-867b-49b4-8196-8eb6e64f62f0 ]] {\r\n",
       "- - constraints - -\r\n",
       "<b>require</b> c1\\n//:>>RequirementTest::c// \r\n",
       "}\r\n",
       "comp usage \"p\" as E11  <<(T,blue)part>> [[psysml:510a33c1-eff7-4e5e-90b4-a63ef5b72ae6 ]] {\r\n",
       "}\r\n",
       "comp usage \"q\" as E12  <<(T,blue)part>> [[psysml:a6cd5ff6-20a0-4014-8266-5a2f114de57c ]] {\r\n",
       "}\r\n",
       "comp usage \"r: R\" as E13  <<(T,blue)requirement>> [[psysml:50b94a4a-7c4d-4845-a3da-b360d2df1f8c ]] {\r\n",
       "}\r\n",
       "E3 - -:|> E2 [[psysml:e8229714-231f-4f2a-9005-056b1e69efb5 ]] \r\n",
       "E4 *- - E7 [[psysml:eafce8af-10f9-4af7-9431-7513cc7d3347 ]] \r\n",
       "E4 +- - E8 [[psysml:a0130814-5dc8-48af-af1a-9e985463643e ]] \r\n",
       "E12 *- - E13 [[psysml:044b978f-2385-4425-992f-2d75b645c055 ]] \r\n",
       "E13 - -:|> E4 [[psysml:279d9c9b-21cb-4076-8967-339bf6a79b4c ]] \r\n",
       "E13 ..> E11 [[psysml:fcf36e7c-2665-4a1d-8cf4-6fcc5b08ef04 ]] : <<satisfy>>\r\n",
       "}\r\n",
       "@enduml\r\n",
       "\n",
       "PlantUML version 1.2020.13(Sat Jun 13 12:26:38 UTC 2020)\n",
       "(EPL source distribution)\n",
       "Java Runtime: OpenJDK Runtime Environment\n",
       "JVM: OpenJDK 64-Bit Server VM\n",
       "Default Encoding: UTF-8\n",
       "Language: en\n",
       "Country: null\n",
       "--></g></svg>"
      ]
     },
     "execution_count": 57,
     "metadata": {},
     "output_type": "execute_result"
    }
   ],
   "source": [
    "%viz --style=\"ORTHOLINE\" --view=\"MIXED\" \"RequirementTest\""
   ]
  }
 ],
 "metadata": {
  "kernelspec": {
   "display_name": "SysML",
   "language": "sysml",
   "name": "sysml"
  },
  "language_info": {
   "codemirror_mode": "sysml",
   "file_extension": ".sysml",
   "mimetype": "text/x-sysml",
   "name": "SysML",
   "pygments_lexer": "java",
   "version": "1.0.0"
  }
 },
 "nbformat": 4,
 "nbformat_minor": 5
}
