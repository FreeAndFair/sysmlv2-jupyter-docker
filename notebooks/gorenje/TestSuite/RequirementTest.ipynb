{
 "cells": [
  {
   "cell_type": "markdown",
   "id": "identical-clerk",
   "metadata": {},
   "source": [
    "# SysML v2 Test Suite\n",
    "\n",
    "This can notebook can be cleared using menu `Edit --> Clear All Outputs` and then all cells can be\n",
    "run using menu `Run --> Run All Cells`.\n",
    "\n",
    "**WARNING**: This file is generated, all modifications here will be ignored.\n"
   ]
  },
  {
   "cell_type": "markdown",
   "id": "hindu-italy",
   "metadata": {},
   "source": [
    "## File: ../../sysml/src/examples/Simple Tests/RequirementTest.sysml"
   ]
  },
  {
   "cell_type": "code",
   "execution_count": 1,
   "id": "impressive-smooth",
   "metadata": {
    "execution": {
     "iopub.execute_input": "2021-03-26T09:12:24.790682Z",
     "iopub.status.busy": "2021-03-26T09:12:24.789978Z",
     "iopub.status.idle": "2021-03-26T09:12:25.133583Z",
     "shell.execute_reply": "2021-03-26T09:12:25.133091Z"
    }
   },
   "outputs": [
    {
     "data": {
      "text/plain": [
       "Package RequirementTest (5819fb40-d977-45be-ac48-6bdd3a03e1ce)\n"
      ]
     },
     "execution_count": 1,
     "metadata": {},
     "output_type": "execute_result"
    }
   ],
   "source": [
    "package RequirementTest {\n",
    "\tconstraint def C;\n",
    "\tconstraint c : C;\n",
    "\trequirement def R {\n",
    "\t\tassume constraint c1 : C;\n",
    "\t\trequire c;\n",
    "\t\tdoc /* */\n",
    "    \trequirement;\n",
    "    \trequirement def id '1' A {\n",
    "    \t\tdoc /* Text */\n",
    "    \t\tsubject s;\n",
    "    \t}\n",
    "\t}\n",
    "\trequirement def R1 {\n",
    "\t\trequire constraint c1 :>> c;\n",
    "\t}\n",
    "\tpart p;\n",
    "\tpart q {\n",
    "\t\trequirement r : R;\n",
    "\t\tsatisfy r by p;\n",
    "\t}\n",
    "}"
   ]
  },
  {
   "cell_type": "code",
   "execution_count": 2,
   "id": "comfortable-calvin",
   "metadata": {
    "execution": {
     "iopub.execute_input": "2021-03-26T09:12:25.187642Z",
     "iopub.status.busy": "2021-03-26T09:12:25.187082Z",
     "iopub.status.idle": "2021-03-26T09:12:25.875952Z",
     "shell.execute_reply": "2021-03-26T09:12:25.874106Z"
    }
   },
   "outputs": [
    {
     "data": {
      "image/svg+xml": [
       "<?xml version=\"1.0\" encoding=\"UTF-8\" standalone=\"no\"?><svg xmlns=\"http://www.w3.org/2000/svg\" xmlns:xlink=\"http://www.w3.org/1999/xlink\" contentScriptType=\"application/ecmascript\" contentStyleType=\"text/css\" height=\"578px\" preserveAspectRatio=\"none\" style=\"width:460px;height:578px;\" version=\"1.1\" viewBox=\"0 0 460 578\" width=\"460px\" zoomAndPan=\"magnify\"><defs><filter height=\"300%\" id=\"f1650r3lox8nz4\" width=\"300%\" x=\"-1\" y=\"-1\"><feGaussianBlur result=\"blurOut\" stdDeviation=\"2.0\"/><feColorMatrix in=\"blurOut\" result=\"blurOut2\" type=\"matrix\" values=\"0 0 0 0 0 0 0 0 0 0 0 0 0 0 0 0 0 0 .4 0\"/><feOffset dx=\"4.0\" dy=\"4.0\" in=\"blurOut2\" result=\"blurOut3\"/><feBlend in=\"SourceGraphic\" in2=\"blurOut3\" mode=\"normal\"/></filter></defs><g><!--MD5=[fbc87193dbaf4d95561dea2c320d4a47]\n",
       "cluster E1--><a href=\"psysml:8aa028f5-1693-4b51-bff2-c94d0f18c930\" target=\"_top\" title=\"psysml:8aa028f5-1693-4b51-bff2-c94d0f18c930\" xlink:actuate=\"onRequest\" xlink:href=\"psysml:8aa028f5-1693-4b51-bff2-c94d0f18c930\" xlink:show=\"new\" xlink:title=\"psysml:8aa028f5-1693-4b51-bff2-c94d0f18c930\" xlink:type=\"simple\"><polygon fill=\"#FFFFFF\" filter=\"url(#f1650r3lox8nz4)\" points=\"16,6,158,6,165,28.2969,438,28.2969,438,566,16,566,16,6\" style=\"stroke: #000000; stroke-width: 1.5;\"/><line style=\"stroke: #000000; stroke-width: 1.5;\" x1=\"16\" x2=\"165\" y1=\"28.2969\" y2=\"28.2969\"/><text fill=\"#000000\" font-family=\"sans-serif\" font-size=\"14\" font-weight=\"bold\" lengthAdjust=\"spacingAndGlyphs\" textLength=\"136\" x=\"20\" y=\"20.9951\">RequirementTest</text></a><!--MD5=[b4997ac47864f28c2f74865a473b2911]\n",
       "class E2--><a href=\"psysml:27c2a771-07cf-4bde-9591-6030a1a15742\" target=\"_top\" title=\"psysml:27c2a771-07cf-4bde-9591-6030a1a15742\" xlink:actuate=\"onRequest\" xlink:href=\"psysml:27c2a771-07cf-4bde-9591-6030a1a15742\" xlink:show=\"new\" xlink:title=\"psysml:27c2a771-07cf-4bde-9591-6030a1a15742\" xlink:type=\"simple\"><rect fill=\"#FEFECE\" filter=\"url(#f1650r3lox8nz4)\" height=\"45.9375\" id=\"E2\" style=\"stroke: #A80036; stroke-width: 1.5;\" width=\"130\" x=\"292\" y=\"190\"/><ellipse cx=\"307\" cy=\"208.9688\" fill=\"#0000FF\" rx=\"11\" ry=\"11\" style=\"stroke: #A80036; stroke-width: 1.0;\"/><path d=\"M307.8438,215.7188 L305.3906,215.7188 L305.3906,205.4688 L302.25,205.4688 L302.25,203.3281 L310.9844,203.3281 L310.9844,205.4688 L307.8438,205.4688 L307.8438,215.7188 Z \"/><text fill=\"#000000\" font-family=\"sans-serif\" font-size=\"12\" font-style=\"italic\" lengthAdjust=\"spacingAndGlyphs\" textLength=\"102\" x=\"319\" y=\"206.1387\">«constraint def»</text><text fill=\"#000000\" font-family=\"sans-serif\" font-size=\"12\" lengthAdjust=\"spacingAndGlyphs\" textLength=\"8\" x=\"366\" y=\"220.1074\">C</text><line style=\"stroke: #A80036; stroke-width: 1.5;\" x1=\"293\" x2=\"421\" y1=\"227.9375\" y2=\"227.9375\"/></a><!--MD5=[09b614a08d8cba4a07c9adeb5e0fee81]\n",
       "class E3--><a href=\"psysml:da02b217-f155-4220-a2dc-d840d0d24f86\" target=\"_top\" title=\"psysml:da02b217-f155-4220-a2dc-d840d0d24f86\" xlink:actuate=\"onRequest\" xlink:href=\"psysml:da02b217-f155-4220-a2dc-d840d0d24f86\" xlink:show=\"new\" xlink:title=\"psysml:da02b217-f155-4220-a2dc-d840d0d24f86\" xlink:type=\"simple\"><rect fill=\"#FEFECE\" filter=\"url(#f1650r3lox8nz4)\" height=\"45.9375\" id=\"E3\" rx=\"10\" ry=\"10\" style=\"stroke: #A80036; stroke-width: 1.5;\" width=\"106\" x=\"316\" y=\"62\"/><ellipse cx=\"331\" cy=\"80.9688\" fill=\"#0000FF\" rx=\"11\" ry=\"11\" style=\"stroke: #A80036; stroke-width: 1.0;\"/><path d=\"M331.8438,87.7188 L329.3906,87.7188 L329.3906,77.4688 L326.25,77.4688 L326.25,75.3281 L334.9844,75.3281 L334.9844,77.4688 L331.8438,77.4688 L331.8438,87.7188 Z \"/><text fill=\"#000000\" font-family=\"sans-serif\" font-size=\"12\" font-style=\"italic\" lengthAdjust=\"spacingAndGlyphs\" textLength=\"78\" x=\"343\" y=\"78.1387\">«constraint»</text><text fill=\"#000000\" font-family=\"sans-serif\" font-size=\"12\" lengthAdjust=\"spacingAndGlyphs\" textLength=\"23\" x=\"370.5\" y=\"92.1074\">c: C</text><line style=\"stroke: #A80036; stroke-width: 1.5;\" x1=\"317\" x2=\"421\" y1=\"99.9375\" y2=\"99.9375\"/></a><!--MD5=[ebbe1d658d1005bcc118a6aa81145e00]\n",
       "class E4--><a href=\"psysml:b9a9d178-6ba0-415d-80bd-8d7e5aacf32f\" target=\"_top\" title=\"psysml:b9a9d178-6ba0-415d-80bd-8d7e5aacf32f\" xlink:actuate=\"onRequest\" xlink:href=\"psysml:b9a9d178-6ba0-415d-80bd-8d7e5aacf32f\" xlink:show=\"new\" xlink:title=\"psysml:b9a9d178-6ba0-415d-80bd-8d7e5aacf32f\" xlink:type=\"simple\"><rect fill=\"#FEFECE\" filter=\"url(#f1650r3lox8nz4)\" height=\"109.1563\" id=\"E4\" style=\"stroke: #A80036; stroke-width: 1.5;\" width=\"143\" x=\"32.5\" y=\"313\"/><ellipse cx=\"47.5\" cy=\"331.9688\" fill=\"#0000FF\" rx=\"11\" ry=\"11\" style=\"stroke: #A80036; stroke-width: 1.0;\"/><path d=\"M48.3438,338.7188 L45.8906,338.7188 L45.8906,328.4688 L42.75,328.4688 L42.75,326.3281 L51.4844,326.3281 L51.4844,328.4688 L48.3438,328.4688 L48.3438,338.7188 Z \"/><text fill=\"#000000\" font-family=\"sans-serif\" font-size=\"12\" font-style=\"italic\" lengthAdjust=\"spacingAndGlyphs\" textLength=\"115\" x=\"59.5\" y=\"329.1387\">«requirement def»</text><text fill=\"#000000\" font-family=\"sans-serif\" font-size=\"12\" lengthAdjust=\"spacingAndGlyphs\" textLength=\"8\" x=\"113\" y=\"343.1074\">R</text><line style=\"stroke: #A80036; stroke-width: 1.5;\" x1=\"33.5\" x2=\"174.5\" y1=\"350.9375\" y2=\"350.9375\"/><text fill=\"#000000\" font-family=\"sans-serif\" font-size=\"11\" lengthAdjust=\"spacingAndGlyphs\" textLength=\"0\" x=\"42.5\" y=\"365.1479\"/><line style=\"stroke: #A80036; stroke-width: 1.0;\" x1=\"33.5\" x2=\"174.5\" y1=\"371.7422\" y2=\"371.7422\"/><text fill=\"#000000\" font-family=\"sans-serif\" font-size=\"11\" font-weight=\"bold\" lengthAdjust=\"spacingAndGlyphs\" textLength=\"46\" x=\"38.5\" y=\"402.7573\">require</text><text fill=\"#000000\" font-family=\"sans-serif\" font-size=\"11\" lengthAdjust=\"spacingAndGlyphs\" textLength=\"6\" x=\"88.5\" y=\"402.7573\">c</text><text fill=\"#000000\" font-family=\"sans-serif\" font-size=\"11\" font-style=\"italic\" lengthAdjust=\"spacingAndGlyphs\" textLength=\"46\" x=\"38.5\" y=\"415.562\">assume</text><text fill=\"#000000\" font-family=\"sans-serif\" font-size=\"11\" lengthAdjust=\"spacingAndGlyphs\" textLength=\"29\" x=\"88.5\" y=\"415.562\">c1: C</text><line style=\"stroke: #A80036; stroke-width: 1.0;\" x1=\"33.5\" x2=\"72\" y1=\"386.1445\" y2=\"386.1445\"/><text fill=\"#000000\" font-family=\"sans-serif\" font-size=\"11\" lengthAdjust=\"spacingAndGlyphs\" textLength=\"64\" x=\"72\" y=\"389.4526\">constraints</text><line style=\"stroke: #A80036; stroke-width: 1.0;\" x1=\"136\" x2=\"174.5\" y1=\"386.1445\" y2=\"386.1445\"/></a><!--MD5=[270fce915f116d4de14055a7c1d9a0f3]\n",
       "class E5--><a href=\"psysml:5c4fbfc6-6feb-457a-9610-da755776e124\" target=\"_top\" title=\"psysml:5c4fbfc6-6feb-457a-9610-da755776e124\" xlink:actuate=\"onRequest\" xlink:href=\"psysml:5c4fbfc6-6feb-457a-9610-da755776e124\" xlink:show=\"new\" xlink:title=\"psysml:5c4fbfc6-6feb-457a-9610-da755776e124\" xlink:type=\"simple\"><rect fill=\"#FEFECE\" filter=\"url(#f1650r3lox8nz4)\" height=\"66.7422\" id=\"E5\" style=\"stroke: #A80036; stroke-width: 1.5;\" width=\"143\" x=\"32.5\" y=\"483\"/><ellipse cx=\"47.5\" cy=\"501.9688\" fill=\"#0000FF\" rx=\"11\" ry=\"11\" style=\"stroke: #A80036; stroke-width: 1.0;\"/><path d=\"M48.3438,508.7188 L45.8906,508.7188 L45.8906,498.4688 L42.75,498.4688 L42.75,496.3281 L51.4844,496.3281 L51.4844,498.4688 L48.3438,498.4688 L48.3438,508.7188 Z \"/><text fill=\"#000000\" font-family=\"sans-serif\" font-size=\"12\" font-style=\"italic\" lengthAdjust=\"spacingAndGlyphs\" textLength=\"115\" x=\"59.5\" y=\"499.1387\">«requirement def»</text><text fill=\"#000000\" font-family=\"sans-serif\" font-size=\"12\" lengthAdjust=\"spacingAndGlyphs\" textLength=\"5\" x=\"104\" y=\"513.1074\">[</text><text fill=\"#000000\" font-family=\"sans-serif\" font-size=\"12\" font-weight=\"bold\" lengthAdjust=\"spacingAndGlyphs\" textLength=\"8\" x=\"109\" y=\"513.1074\">1</text><text fill=\"#000000\" font-family=\"sans-serif\" font-size=\"12\" lengthAdjust=\"spacingAndGlyphs\" textLength=\"17\" x=\"117\" y=\"513.1074\">] A</text><line style=\"stroke: #A80036; stroke-width: 1.5;\" x1=\"33.5\" x2=\"174.5\" y1=\"520.9375\" y2=\"520.9375\"/><text fill=\"#000000\" font-family=\"sans-serif\" font-size=\"11\" lengthAdjust=\"spacingAndGlyphs\" textLength=\"24\" x=\"38.5\" y=\"535.1479\">Text</text><line style=\"stroke: #A80036; stroke-width: 1.0;\" x1=\"33.5\" x2=\"174.5\" y1=\"541.7422\" y2=\"541.7422\"/></a><!--MD5=[b9389687b975829384b498ac4b7476b2]\n",
       "class E8--><a href=\"psysml:577c6bec-7675-4e65-a136-10b226b9020a\" target=\"_top\" title=\"psysml:577c6bec-7675-4e65-a136-10b226b9020a\" xlink:actuate=\"onRequest\" xlink:href=\"psysml:577c6bec-7675-4e65-a136-10b226b9020a\" xlink:show=\"new\" xlink:title=\"psysml:577c6bec-7675-4e65-a136-10b226b9020a\" xlink:type=\"simple\"><rect fill=\"#FEFECE\" filter=\"url(#f1650r3lox8nz4)\" height=\"45.9375\" id=\"E8\" rx=\"10\" ry=\"10\" style=\"stroke: #A80036; stroke-width: 1.5;\" width=\"119\" x=\"210.5\" y=\"493.5\"/><ellipse cx=\"225.5\" cy=\"512.4688\" fill=\"#0000FF\" rx=\"11\" ry=\"11\" style=\"stroke: #A80036; stroke-width: 1.0;\"/><path d=\"M226.3438,519.2188 L223.8906,519.2188 L223.8906,508.9688 L220.75,508.9688 L220.75,506.8281 L229.4844,506.8281 L229.4844,508.9688 L226.3438,508.9688 L226.3438,519.2188 Z \"/><text fill=\"#000000\" font-family=\"sans-serif\" font-size=\"12\" font-style=\"italic\" lengthAdjust=\"spacingAndGlyphs\" textLength=\"91\" x=\"237.5\" y=\"509.6387\">«requirement»</text><text fill=\"#000000\" font-family=\"sans-serif\" font-size=\"12\" lengthAdjust=\"spacingAndGlyphs\" text-decoration=\"line-through\" textLength=\"51\" x=\"257.5\" y=\"523.6074\">noname</text><line style=\"stroke: #A80036; stroke-width: 1.5;\" x1=\"211.5\" x2=\"328.5\" y1=\"531.4375\" y2=\"531.4375\"/></a><!--MD5=[fd4143e9d270a159db93a4ea2a975926]\n",
       "class E9--><a href=\"psysml:291c6c45-8332-45a6-809f-574961a49898\" target=\"_top\" title=\"psysml:291c6c45-8332-45a6-809f-574961a49898\" xlink:actuate=\"onRequest\" xlink:href=\"psysml:291c6c45-8332-45a6-809f-574961a49898\" xlink:show=\"new\" xlink:title=\"psysml:291c6c45-8332-45a6-809f-574961a49898\" xlink:type=\"simple\"><rect fill=\"#FEFECE\" filter=\"url(#f1650r3lox8nz4)\" height=\"88.3516\" id=\"E9\" style=\"stroke: #A80036; stroke-width: 1.5;\" width=\"145\" x=\"135.5\" y=\"41\"/><ellipse cx=\"151.4\" cy=\"59.9688\" fill=\"#0000FF\" rx=\"11\" ry=\"11\" style=\"stroke: #A80036; stroke-width: 1.0;\"/><path d=\"M152.2438,66.7188 L149.7906,66.7188 L149.7906,56.4688 L146.65,56.4688 L146.65,54.3281 L155.3844,54.3281 L155.3844,56.4688 L152.2438,56.4688 L152.2438,66.7188 Z \"/><text fill=\"#000000\" font-family=\"sans-serif\" font-size=\"12\" font-style=\"italic\" lengthAdjust=\"spacingAndGlyphs\" textLength=\"115\" x=\"163.6\" y=\"57.1387\">«requirement def»</text><text fill=\"#000000\" font-family=\"sans-serif\" font-size=\"12\" lengthAdjust=\"spacingAndGlyphs\" textLength=\"16\" x=\"213.1\" y=\"71.1074\">R1</text><line style=\"stroke: #A80036; stroke-width: 1.5;\" x1=\"136.5\" x2=\"279.5\" y1=\"78.9375\" y2=\"78.9375\"/><text fill=\"#000000\" font-family=\"sans-serif\" font-size=\"11\" font-weight=\"bold\" lengthAdjust=\"spacingAndGlyphs\" textLength=\"46\" x=\"141.5\" y=\"109.9526\">require</text><text fill=\"#000000\" font-family=\"sans-serif\" font-size=\"11\" lengthAdjust=\"spacingAndGlyphs\" textLength=\"13\" x=\"191.5\" y=\"109.9526\">c1</text><text fill=\"#000000\" font-family=\"sans-serif\" font-size=\"11\" font-style=\"italic\" lengthAdjust=\"spacingAndGlyphs\" textLength=\"133\" x=\"141.5\" y=\"122.7573\">:&gt;&gt;RequirementTest::c</text><line style=\"stroke: #A80036; stroke-width: 1.0;\" x1=\"136.5\" x2=\"176\" y1=\"93.3398\" y2=\"93.3398\"/><text fill=\"#000000\" font-family=\"sans-serif\" font-size=\"11\" lengthAdjust=\"spacingAndGlyphs\" textLength=\"64\" x=\"176\" y=\"96.6479\">constraints</text><line style=\"stroke: #A80036; stroke-width: 1.0;\" x1=\"240\" x2=\"279.5\" y1=\"93.3398\" y2=\"93.3398\"/></a><!--MD5=[1dd1bfd58a279cf63c5f349dbc8fc6a1]\n",
       "class E11--><a href=\"psysml:b7118396-8822-4234-af4f-531e34fd2b85\" target=\"_top\" title=\"psysml:b7118396-8822-4234-af4f-531e34fd2b85\" xlink:actuate=\"onRequest\" xlink:href=\"psysml:b7118396-8822-4234-af4f-531e34fd2b85\" xlink:show=\"new\" xlink:title=\"psysml:b7118396-8822-4234-af4f-531e34fd2b85\" xlink:type=\"simple\"><rect fill=\"#FEFECE\" filter=\"url(#f1650r3lox8nz4)\" height=\"45.9375\" id=\"E11\" rx=\"10\" ry=\"10\" style=\"stroke: #A80036; stroke-width: 1.5;\" width=\"68\" x=\"211\" y=\"344.5\"/><ellipse cx=\"226\" cy=\"363.4688\" fill=\"#0000FF\" rx=\"11\" ry=\"11\" style=\"stroke: #A80036; stroke-width: 1.0;\"/><path d=\"M226.8438,370.2188 L224.3906,370.2188 L224.3906,359.9688 L221.25,359.9688 L221.25,357.8281 L229.9844,357.8281 L229.9844,359.9688 L226.8438,359.9688 L226.8438,370.2188 Z \"/><text fill=\"#000000\" font-family=\"sans-serif\" font-size=\"12\" font-style=\"italic\" lengthAdjust=\"spacingAndGlyphs\" textLength=\"40\" x=\"238\" y=\"360.6387\">«part»</text><text fill=\"#000000\" font-family=\"sans-serif\" font-size=\"12\" lengthAdjust=\"spacingAndGlyphs\" textLength=\"8\" x=\"254\" y=\"374.6074\">p</text><line style=\"stroke: #A80036; stroke-width: 1.5;\" x1=\"212\" x2=\"278\" y1=\"382.4375\" y2=\"382.4375\"/></a><!--MD5=[49a0ec8f00dab7302a31f22d0f0fe584]\n",
       "class E12--><a href=\"psysml:5710aa92-7822-41e6-89ae-9d2d61cb8bf3\" target=\"_top\" title=\"psysml:5710aa92-7822-41e6-89ae-9d2d61cb8bf3\" xlink:actuate=\"onRequest\" xlink:href=\"psysml:5710aa92-7822-41e6-89ae-9d2d61cb8bf3\" xlink:show=\"new\" xlink:title=\"psysml:5710aa92-7822-41e6-89ae-9d2d61cb8bf3\" xlink:type=\"simple\"><rect fill=\"#FEFECE\" filter=\"url(#f1650r3lox8nz4)\" height=\"45.9375\" id=\"E12\" rx=\"10\" ry=\"10\" style=\"stroke: #A80036; stroke-width: 1.5;\" width=\"68\" x=\"32\" y=\"62\"/><ellipse cx=\"47\" cy=\"80.9688\" fill=\"#0000FF\" rx=\"11\" ry=\"11\" style=\"stroke: #A80036; stroke-width: 1.0;\"/><path d=\"M47.8438,87.7188 L45.3906,87.7188 L45.3906,77.4688 L42.25,77.4688 L42.25,75.3281 L50.9844,75.3281 L50.9844,77.4688 L47.8438,77.4688 L47.8438,87.7188 Z \"/><text fill=\"#000000\" font-family=\"sans-serif\" font-size=\"12\" font-style=\"italic\" lengthAdjust=\"spacingAndGlyphs\" textLength=\"40\" x=\"59\" y=\"78.1387\">«part»</text><text fill=\"#000000\" font-family=\"sans-serif\" font-size=\"12\" lengthAdjust=\"spacingAndGlyphs\" textLength=\"8\" x=\"75\" y=\"92.1074\">q</text><line style=\"stroke: #A80036; stroke-width: 1.5;\" x1=\"33\" x2=\"99\" y1=\"99.9375\" y2=\"99.9375\"/></a><!--MD5=[ee3c913d1a06f366521f9ef512b67efe]\n",
       "class E13--><a href=\"psysml:b72900fb-e3ca-4439-ac22-acb3bf892de5\" target=\"_top\" title=\"psysml:b72900fb-e3ca-4439-ac22-acb3bf892de5\" xlink:actuate=\"onRequest\" xlink:href=\"psysml:b72900fb-e3ca-4439-ac22-acb3bf892de5\" xlink:show=\"new\" xlink:title=\"psysml:b72900fb-e3ca-4439-ac22-acb3bf892de5\" xlink:type=\"simple\"><rect fill=\"#FEFECE\" filter=\"url(#f1650r3lox8nz4)\" height=\"45.9375\" id=\"E13\" rx=\"10\" ry=\"10\" style=\"stroke: #A80036; stroke-width: 1.5;\" width=\"119\" x=\"44.5\" y=\"190\"/><ellipse cx=\"59.5\" cy=\"208.9688\" fill=\"#0000FF\" rx=\"11\" ry=\"11\" style=\"stroke: #A80036; stroke-width: 1.0;\"/><path d=\"M60.3438,215.7188 L57.8906,215.7188 L57.8906,205.4688 L54.75,205.4688 L54.75,203.3281 L63.4844,203.3281 L63.4844,205.4688 L60.3438,205.4688 L60.3438,215.7188 Z \"/><text fill=\"#000000\" font-family=\"sans-serif\" font-size=\"12\" font-style=\"italic\" lengthAdjust=\"spacingAndGlyphs\" textLength=\"91\" x=\"71.5\" y=\"206.1387\">«requirement»</text><text fill=\"#000000\" font-family=\"sans-serif\" font-size=\"12\" lengthAdjust=\"spacingAndGlyphs\" textLength=\"21\" x=\"106.5\" y=\"220.1074\">r: R</text><line style=\"stroke: #A80036; stroke-width: 1.5;\" x1=\"45.5\" x2=\"162.5\" y1=\"227.9375\" y2=\"227.9375\"/></a><!--MD5=[05d275557350bfb9b23a4ef7222b4c39]\n",
       "link E3 to E2--><a href=\"psysml:8b4534c8-c65f-4721-aa95-1aefa1ee4858\" target=\"_top\" title=\"psysml:8b4534c8-c65f-4721-aa95-1aefa1ee4858\" xlink:actuate=\"onRequest\" xlink:href=\"psysml:8b4534c8-c65f-4721-aa95-1aefa1ee4858\" xlink:show=\"new\" xlink:title=\"psysml:8b4534c8-c65f-4721-aa95-1aefa1ee4858\" xlink:type=\"simple\"><path d=\"M366.88,108.24 C365.26,125.24 362.98,149.19 361.02,169.79 \" fill=\"none\" id=\"E3-&gt;E2\" style=\"stroke: #A80036; stroke-width: 1.0;\"/><polygon fill=\"#FFFFFF\" points=\"359.1,189.99,353.9362,170.411,367.8729,171.7407,359.1,189.99\" style=\"stroke: #A80036; stroke-width: 1.0;\"/><ellipse cx=\"356.4685\" cy=\"164.9268\" fill=\"#A80036\" rx=\"2\" ry=\"2\" style=\"stroke: #A80036; stroke-width: 1.0;\"/><ellipse cx=\"366.4233\" cy=\"165.8765\" fill=\"#A80036\" rx=\"2\" ry=\"2\" style=\"stroke: #A80036; stroke-width: 1.0;\"/></a><!--MD5=[62aa6af11e70f752912c1cb0466f24f7]\n",
       "reverse link E4 to E5--><a href=\"psysml:5c4fbfc6-6feb-457a-9610-da755776e124\" target=\"_top\" title=\"psysml:5c4fbfc6-6feb-457a-9610-da755776e124\" xlink:actuate=\"onRequest\" xlink:href=\"psysml:5c4fbfc6-6feb-457a-9610-da755776e124\" xlink:show=\"new\" xlink:title=\"psysml:5c4fbfc6-6feb-457a-9610-da755776e124\" xlink:type=\"simple\"><path d=\"M104,437.45 C104,453.34 104,469.51 104,482.98 \" fill=\"none\" id=\"E4&lt;-E5\" style=\"stroke: #A80036; stroke-width: 1.0;\"/><ellipse cx=\"104\" cy=\"430.4\" fill=\"#FFFFFF\" rx=\"8\" ry=\"8\" style=\"stroke: #A80036; stroke-width: 1.0;\"/><line style=\"stroke: #A80036; stroke-width: 1.0;\" x1=\"104\" x2=\"104\" y1=\"438.4\" y2=\"422.4\"/><line style=\"stroke: #A80036; stroke-width: 1.0;\" x1=\"96\" x2=\"112\" y1=\"430.4\" y2=\"430.4\"/></a><!--MD5=[c6fc7cdb0cabde04948078cf183fa696]\n",
       "reverse link E4 to E8--><a href=\"psysml:577c6bec-7675-4e65-a136-10b226b9020a\" target=\"_top\" title=\"psysml:577c6bec-7675-4e65-a136-10b226b9020a\" xlink:actuate=\"onRequest\" xlink:href=\"psysml:577c6bec-7675-4e65-a136-10b226b9020a\" xlink:show=\"new\" xlink:title=\"psysml:577c6bec-7675-4e65-a136-10b226b9020a\" xlink:type=\"simple\"><path d=\"M174.75,431.16 C199.83,453.36 226.43,476.92 245.13,493.48 \" fill=\"none\" id=\"E4&lt;-E8\" style=\"stroke: #A80036; stroke-width: 1.0;\"/><polygon fill=\"#A80036\" points=\"164.87,422.4,166.7154,429.371,173.86,430.3486,172.0145,423.3776,164.87,422.4\" style=\"stroke: #A80036; stroke-width: 1.0;\"/></a><!--MD5=[062ed86c389d1a88f61c6380d0491e17]\n",
       "reverse link E12 to E13--><a href=\"psysml:b72900fb-e3ca-4439-ac22-acb3bf892de5\" target=\"_top\" title=\"psysml:b72900fb-e3ca-4439-ac22-acb3bf892de5\" xlink:actuate=\"onRequest\" xlink:href=\"psysml:b72900fb-e3ca-4439-ac22-acb3bf892de5\" xlink:show=\"new\" xlink:title=\"psysml:b72900fb-e3ca-4439-ac22-acb3bf892de5\" xlink:type=\"simple\"><path d=\"M76.49,120.8 C83.17,142.92 91.6,170.89 97.36,189.99 \" fill=\"none\" id=\"E12&lt;-E13\" style=\"stroke: #A80036; stroke-width: 1.0;\"/><polygon fill=\"#A80036\" points=\"72.71,108.24,70.6129,115.1394,76.1751,119.7288,78.2722,112.8294,72.71,108.24\" style=\"stroke: #A80036; stroke-width: 1.0;\"/></a><!--MD5=[017847e01ff9a8bd19f247411074f987]\n",
       "link E13 to E4--><a href=\"psysml:ed6e641a-605b-4ed9-9064-d41509e7ab16\" target=\"_top\" title=\"psysml:ed6e641a-605b-4ed9-9064-d41509e7ab16\" xlink:actuate=\"onRequest\" xlink:href=\"psysml:ed6e641a-605b-4ed9-9064-d41509e7ab16\" xlink:show=\"new\" xlink:title=\"psysml:ed6e641a-605b-4ed9-9064-d41509e7ab16\" xlink:type=\"simple\"><path d=\"M104,236.17 C104,251.17 104,271.91 104,292.44 \" fill=\"none\" id=\"E13-&gt;E4\" style=\"stroke: #A80036; stroke-width: 1.0;\"/><polygon fill=\"#FFFFFF\" points=\"104,312.68,97,293.68,111,293.68,104,312.68\" style=\"stroke: #A80036; stroke-width: 1.0;\"/><ellipse cx=\"99\" cy=\"287.98\" fill=\"#A80036\" rx=\"2\" ry=\"2\" style=\"stroke: #A80036; stroke-width: 1.0;\"/><ellipse cx=\"109\" cy=\"287.98\" fill=\"#A80036\" rx=\"2\" ry=\"2\" style=\"stroke: #A80036; stroke-width: 1.0;\"/></a><!--MD5=[2cfe899c895462254056921bfb67315f]\n",
       "link E13 to E11--><a href=\"psysml:11f1a2a5-a4e7-4875-8b16-7052fd317758\" target=\"_top\" title=\"psysml:11f1a2a5-a4e7-4875-8b16-7052fd317758\" xlink:actuate=\"onRequest\" xlink:href=\"psysml:11f1a2a5-a4e7-4875-8b16-7052fd317758\" xlink:show=\"new\" xlink:title=\"psysml:11f1a2a5-a4e7-4875-8b16-7052fd317758\" xlink:type=\"simple\"><path d=\"M124.5,236.17 C150.09,263.85 193.77,311.09 220.92,340.45 \" fill=\"none\" id=\"E13-&gt;E11\" style=\"stroke: #A80036; stroke-width: 1.0; stroke-dasharray: 7.0,7.0;\"/><polygon fill=\"#A80036\" points=\"224.47,344.3,221.2896,334.9788,221.0727,340.6315,215.42,340.4145,224.47,344.3\" style=\"stroke: #A80036; stroke-width: 1.0;\"/><text fill=\"#000000\" font-family=\"sans-serif\" font-size=\"13\" lengthAdjust=\"spacingAndGlyphs\" textLength=\"57\" x=\"167\" y=\"279.0669\">«satisfy»</text></a><!--MD5=[62832a7dbdec9ff0ebc3d2043f4daf6f]\n",
       "@startuml\r\n",
       " \r\n",
       "package \"RequirementTest\" as E1  [[psysml:8aa028f5-1693-4b51-bff2-c94d0f18c930 ]]  {\r\n",
       "comp def \"C\" as E2  <<(T,blue)constraint def>> [[psysml:27c2a771-07cf-4bde-9591-6030a1a15742 ]] {\r\n",
       "}\r\n",
       "comp usage \"c: C\" as E3  <<(T,blue)constraint>> [[psysml:da02b217-f155-4220-a2dc-d840d0d24f86 ]] {\r\n",
       "}\r\n",
       "comp def \"R\" as E4  <<(T,blue)requirement def>> [[psysml:b9a9d178-6ba0-415d-80bd-8d7e5aacf32f ]] {\r\n",
       "\r\n",
       "- -\r\n",
       "- - constraints - -\r\n",
       "<b>require</b> c\r\n",
       "<i>assume</i> c1: C\r\n",
       "}\r\n",
       "comp def \" [<b>1</b>] A\" as E5  <<(T,blue)requirement def>> [[psysml:5c4fbfc6-6feb-457a-9610-da755776e124 ]] {\r\n",
       "Text\r\n",
       "- -\r\n",
       "}\r\n",
       "comp usage \"<s>noname</s>\" as E8  <<(T,blue)requirement>> [[psysml:577c6bec-7675-4e65-a136-10b226b9020a ]] {\r\n",
       "}\r\n",
       "comp def \"R1\" as E9  <<(T,blue)requirement def>> [[psysml:291c6c45-8332-45a6-809f-574961a49898 ]] {\r\n",
       "- - constraints - -\r\n",
       "<b>require</b> c1\\n//:>>RequirementTest::c// \r\n",
       "}\r\n",
       "comp usage \"p\" as E11  <<(T,blue)part>> [[psysml:b7118396-8822-4234-af4f-531e34fd2b85 ]] {\r\n",
       "}\r\n",
       "comp usage \"q\" as E12  <<(T,blue)part>> [[psysml:5710aa92-7822-41e6-89ae-9d2d61cb8bf3 ]] {\r\n",
       "}\r\n",
       "comp usage \"r: R\" as E13  <<(T,blue)requirement>> [[psysml:b72900fb-e3ca-4439-ac22-acb3bf892de5 ]] {\r\n",
       "}\r\n",
       "E3 - -:|> E2 [[psysml:8b4534c8-c65f-4721-aa95-1aefa1ee4858 ]] \r\n",
       "E4 +- - E5 [[psysml:5c4fbfc6-6feb-457a-9610-da755776e124 ]] \r\n",
       "E4 *- - E8 [[psysml:577c6bec-7675-4e65-a136-10b226b9020a ]] \r\n",
       "E12 *- - E13 [[psysml:b72900fb-e3ca-4439-ac22-acb3bf892de5 ]] \r\n",
       "E13 - -:|> E4 [[psysml:ed6e641a-605b-4ed9-9064-d41509e7ab16 ]] \r\n",
       "E13 ..> E11 [[psysml:11f1a2a5-a4e7-4875-8b16-7052fd317758 ]] : <<satisfy>>\r\n",
       "}\r\n",
       "@enduml\r\n",
       "\n",
       "PlantUML version 1.2020.13(Sat Jun 13 12:26:38 UTC 2020)\n",
       "(EPL source distribution)\n",
       "Java Runtime: OpenJDK Runtime Environment\n",
       "JVM: OpenJDK 64-Bit Server VM\n",
       "Default Encoding: UTF-8\n",
       "Language: en\n",
       "Country: null\n",
       "--></g></svg>"
      ]
     },
     "execution_count": 2,
     "metadata": {},
     "output_type": "execute_result"
    }
   ],
   "source": [
    "%viz --style=\"COMPTREE\" --view=\"Default\" \"RequirementTest\""
   ]
  },
  {
   "cell_type": "code",
   "execution_count": 3,
   "id": "funded-commander",
   "metadata": {
    "execution": {
     "iopub.execute_input": "2021-03-26T09:12:25.926375Z",
     "iopub.status.busy": "2021-03-26T09:12:25.925922Z",
     "iopub.status.idle": "2021-03-26T09:12:26.069994Z",
     "shell.execute_reply": "2021-03-26T09:12:26.070369Z"
    }
   },
   "outputs": [
    {
     "data": {
      "image/svg+xml": [
       "<?xml version=\"1.0\" encoding=\"UTF-8\" standalone=\"no\"?><svg xmlns=\"http://www.w3.org/2000/svg\" xmlns:xlink=\"http://www.w3.org/1999/xlink\" contentScriptType=\"application/ecmascript\" contentStyleType=\"text/css\" height=\"578px\" preserveAspectRatio=\"none\" style=\"width:460px;height:578px;\" version=\"1.1\" viewBox=\"0 0 460 578\" width=\"460px\" zoomAndPan=\"magnify\"><defs><filter height=\"300%\" id=\"f1650r3lox8nz4\" width=\"300%\" x=\"-1\" y=\"-1\"><feGaussianBlur result=\"blurOut\" stdDeviation=\"2.0\"/><feColorMatrix in=\"blurOut\" result=\"blurOut2\" type=\"matrix\" values=\"0 0 0 0 0 0 0 0 0 0 0 0 0 0 0 0 0 0 .4 0\"/><feOffset dx=\"4.0\" dy=\"4.0\" in=\"blurOut2\" result=\"blurOut3\"/><feBlend in=\"SourceGraphic\" in2=\"blurOut3\" mode=\"normal\"/></filter></defs><g><!--MD5=[fbc87193dbaf4d95561dea2c320d4a47]\n",
       "cluster E1--><a href=\"psysml:8aa028f5-1693-4b51-bff2-c94d0f18c930\" target=\"_top\" title=\"psysml:8aa028f5-1693-4b51-bff2-c94d0f18c930\" xlink:actuate=\"onRequest\" xlink:href=\"psysml:8aa028f5-1693-4b51-bff2-c94d0f18c930\" xlink:show=\"new\" xlink:title=\"psysml:8aa028f5-1693-4b51-bff2-c94d0f18c930\" xlink:type=\"simple\"><polygon fill=\"#FFFFFF\" filter=\"url(#f1650r3lox8nz4)\" points=\"16,6,158,6,165,28.2969,438,28.2969,438,566,16,566,16,6\" style=\"stroke: #000000; stroke-width: 1.5;\"/><line style=\"stroke: #000000; stroke-width: 1.5;\" x1=\"16\" x2=\"165\" y1=\"28.2969\" y2=\"28.2969\"/><text fill=\"#000000\" font-family=\"sans-serif\" font-size=\"14\" font-weight=\"bold\" lengthAdjust=\"spacingAndGlyphs\" textLength=\"136\" x=\"20\" y=\"20.9951\">RequirementTest</text></a><!--MD5=[b4997ac47864f28c2f74865a473b2911]\n",
       "class E2--><a href=\"psysml:27c2a771-07cf-4bde-9591-6030a1a15742\" target=\"_top\" title=\"psysml:27c2a771-07cf-4bde-9591-6030a1a15742\" xlink:actuate=\"onRequest\" xlink:href=\"psysml:27c2a771-07cf-4bde-9591-6030a1a15742\" xlink:show=\"new\" xlink:title=\"psysml:27c2a771-07cf-4bde-9591-6030a1a15742\" xlink:type=\"simple\"><rect fill=\"#FEFECE\" filter=\"url(#f1650r3lox8nz4)\" height=\"45.9375\" id=\"E2\" style=\"stroke: #A80036; stroke-width: 1.5;\" width=\"130\" x=\"292\" y=\"190\"/><ellipse cx=\"307\" cy=\"208.9688\" fill=\"#0000FF\" rx=\"11\" ry=\"11\" style=\"stroke: #A80036; stroke-width: 1.0;\"/><path d=\"M307.8438,215.7188 L305.3906,215.7188 L305.3906,205.4688 L302.25,205.4688 L302.25,203.3281 L310.9844,203.3281 L310.9844,205.4688 L307.8438,205.4688 L307.8438,215.7188 Z \"/><text fill=\"#000000\" font-family=\"sans-serif\" font-size=\"12\" font-style=\"italic\" lengthAdjust=\"spacingAndGlyphs\" textLength=\"102\" x=\"319\" y=\"206.1387\">«constraint def»</text><text fill=\"#000000\" font-family=\"sans-serif\" font-size=\"12\" lengthAdjust=\"spacingAndGlyphs\" textLength=\"8\" x=\"366\" y=\"220.1074\">C</text><line style=\"stroke: #A80036; stroke-width: 1.5;\" x1=\"293\" x2=\"421\" y1=\"227.9375\" y2=\"227.9375\"/></a><!--MD5=[09b614a08d8cba4a07c9adeb5e0fee81]\n",
       "class E3--><a href=\"psysml:da02b217-f155-4220-a2dc-d840d0d24f86\" target=\"_top\" title=\"psysml:da02b217-f155-4220-a2dc-d840d0d24f86\" xlink:actuate=\"onRequest\" xlink:href=\"psysml:da02b217-f155-4220-a2dc-d840d0d24f86\" xlink:show=\"new\" xlink:title=\"psysml:da02b217-f155-4220-a2dc-d840d0d24f86\" xlink:type=\"simple\"><rect fill=\"#FEFECE\" filter=\"url(#f1650r3lox8nz4)\" height=\"45.9375\" id=\"E3\" rx=\"10\" ry=\"10\" style=\"stroke: #A80036; stroke-width: 1.5;\" width=\"106\" x=\"316\" y=\"62\"/><ellipse cx=\"331\" cy=\"80.9688\" fill=\"#0000FF\" rx=\"11\" ry=\"11\" style=\"stroke: #A80036; stroke-width: 1.0;\"/><path d=\"M331.8438,87.7188 L329.3906,87.7188 L329.3906,77.4688 L326.25,77.4688 L326.25,75.3281 L334.9844,75.3281 L334.9844,77.4688 L331.8438,77.4688 L331.8438,87.7188 Z \"/><text fill=\"#000000\" font-family=\"sans-serif\" font-size=\"12\" font-style=\"italic\" lengthAdjust=\"spacingAndGlyphs\" textLength=\"78\" x=\"343\" y=\"78.1387\">«constraint»</text><text fill=\"#000000\" font-family=\"sans-serif\" font-size=\"12\" lengthAdjust=\"spacingAndGlyphs\" textLength=\"23\" x=\"370.5\" y=\"92.1074\">c: C</text><line style=\"stroke: #A80036; stroke-width: 1.5;\" x1=\"317\" x2=\"421\" y1=\"99.9375\" y2=\"99.9375\"/></a><!--MD5=[ebbe1d658d1005bcc118a6aa81145e00]\n",
       "class E4--><a href=\"psysml:b9a9d178-6ba0-415d-80bd-8d7e5aacf32f\" target=\"_top\" title=\"psysml:b9a9d178-6ba0-415d-80bd-8d7e5aacf32f\" xlink:actuate=\"onRequest\" xlink:href=\"psysml:b9a9d178-6ba0-415d-80bd-8d7e5aacf32f\" xlink:show=\"new\" xlink:title=\"psysml:b9a9d178-6ba0-415d-80bd-8d7e5aacf32f\" xlink:type=\"simple\"><rect fill=\"#FEFECE\" filter=\"url(#f1650r3lox8nz4)\" height=\"109.1563\" id=\"E4\" style=\"stroke: #A80036; stroke-width: 1.5;\" width=\"143\" x=\"32.5\" y=\"313\"/><ellipse cx=\"47.5\" cy=\"331.9688\" fill=\"#0000FF\" rx=\"11\" ry=\"11\" style=\"stroke: #A80036; stroke-width: 1.0;\"/><path d=\"M48.3438,338.7188 L45.8906,338.7188 L45.8906,328.4688 L42.75,328.4688 L42.75,326.3281 L51.4844,326.3281 L51.4844,328.4688 L48.3438,328.4688 L48.3438,338.7188 Z \"/><text fill=\"#000000\" font-family=\"sans-serif\" font-size=\"12\" font-style=\"italic\" lengthAdjust=\"spacingAndGlyphs\" textLength=\"115\" x=\"59.5\" y=\"329.1387\">«requirement def»</text><text fill=\"#000000\" font-family=\"sans-serif\" font-size=\"12\" lengthAdjust=\"spacingAndGlyphs\" textLength=\"8\" x=\"113\" y=\"343.1074\">R</text><line style=\"stroke: #A80036; stroke-width: 1.5;\" x1=\"33.5\" x2=\"174.5\" y1=\"350.9375\" y2=\"350.9375\"/><text fill=\"#000000\" font-family=\"sans-serif\" font-size=\"11\" lengthAdjust=\"spacingAndGlyphs\" textLength=\"0\" x=\"42.5\" y=\"365.1479\"/><line style=\"stroke: #A80036; stroke-width: 1.0;\" x1=\"33.5\" x2=\"174.5\" y1=\"371.7422\" y2=\"371.7422\"/><text fill=\"#000000\" font-family=\"sans-serif\" font-size=\"11\" font-weight=\"bold\" lengthAdjust=\"spacingAndGlyphs\" textLength=\"46\" x=\"38.5\" y=\"402.7573\">require</text><text fill=\"#000000\" font-family=\"sans-serif\" font-size=\"11\" lengthAdjust=\"spacingAndGlyphs\" textLength=\"6\" x=\"88.5\" y=\"402.7573\">c</text><text fill=\"#000000\" font-family=\"sans-serif\" font-size=\"11\" font-style=\"italic\" lengthAdjust=\"spacingAndGlyphs\" textLength=\"46\" x=\"38.5\" y=\"415.562\">assume</text><text fill=\"#000000\" font-family=\"sans-serif\" font-size=\"11\" lengthAdjust=\"spacingAndGlyphs\" textLength=\"29\" x=\"88.5\" y=\"415.562\">c1: C</text><line style=\"stroke: #A80036; stroke-width: 1.0;\" x1=\"33.5\" x2=\"72\" y1=\"386.1445\" y2=\"386.1445\"/><text fill=\"#000000\" font-family=\"sans-serif\" font-size=\"11\" lengthAdjust=\"spacingAndGlyphs\" textLength=\"64\" x=\"72\" y=\"389.4526\">constraints</text><line style=\"stroke: #A80036; stroke-width: 1.0;\" x1=\"136\" x2=\"174.5\" y1=\"386.1445\" y2=\"386.1445\"/></a><!--MD5=[270fce915f116d4de14055a7c1d9a0f3]\n",
       "class E5--><a href=\"psysml:5c4fbfc6-6feb-457a-9610-da755776e124\" target=\"_top\" title=\"psysml:5c4fbfc6-6feb-457a-9610-da755776e124\" xlink:actuate=\"onRequest\" xlink:href=\"psysml:5c4fbfc6-6feb-457a-9610-da755776e124\" xlink:show=\"new\" xlink:title=\"psysml:5c4fbfc6-6feb-457a-9610-da755776e124\" xlink:type=\"simple\"><rect fill=\"#FEFECE\" filter=\"url(#f1650r3lox8nz4)\" height=\"66.7422\" id=\"E5\" style=\"stroke: #A80036; stroke-width: 1.5;\" width=\"143\" x=\"32.5\" y=\"483\"/><ellipse cx=\"47.5\" cy=\"501.9688\" fill=\"#0000FF\" rx=\"11\" ry=\"11\" style=\"stroke: #A80036; stroke-width: 1.0;\"/><path d=\"M48.3438,508.7188 L45.8906,508.7188 L45.8906,498.4688 L42.75,498.4688 L42.75,496.3281 L51.4844,496.3281 L51.4844,498.4688 L48.3438,498.4688 L48.3438,508.7188 Z \"/><text fill=\"#000000\" font-family=\"sans-serif\" font-size=\"12\" font-style=\"italic\" lengthAdjust=\"spacingAndGlyphs\" textLength=\"115\" x=\"59.5\" y=\"499.1387\">«requirement def»</text><text fill=\"#000000\" font-family=\"sans-serif\" font-size=\"12\" lengthAdjust=\"spacingAndGlyphs\" textLength=\"5\" x=\"104\" y=\"513.1074\">[</text><text fill=\"#000000\" font-family=\"sans-serif\" font-size=\"12\" font-weight=\"bold\" lengthAdjust=\"spacingAndGlyphs\" textLength=\"8\" x=\"109\" y=\"513.1074\">1</text><text fill=\"#000000\" font-family=\"sans-serif\" font-size=\"12\" lengthAdjust=\"spacingAndGlyphs\" textLength=\"17\" x=\"117\" y=\"513.1074\">] A</text><line style=\"stroke: #A80036; stroke-width: 1.5;\" x1=\"33.5\" x2=\"174.5\" y1=\"520.9375\" y2=\"520.9375\"/><text fill=\"#000000\" font-family=\"sans-serif\" font-size=\"11\" lengthAdjust=\"spacingAndGlyphs\" textLength=\"24\" x=\"38.5\" y=\"535.1479\">Text</text><line style=\"stroke: #A80036; stroke-width: 1.0;\" x1=\"33.5\" x2=\"174.5\" y1=\"541.7422\" y2=\"541.7422\"/></a><!--MD5=[b9389687b975829384b498ac4b7476b2]\n",
       "class E8--><a href=\"psysml:577c6bec-7675-4e65-a136-10b226b9020a\" target=\"_top\" title=\"psysml:577c6bec-7675-4e65-a136-10b226b9020a\" xlink:actuate=\"onRequest\" xlink:href=\"psysml:577c6bec-7675-4e65-a136-10b226b9020a\" xlink:show=\"new\" xlink:title=\"psysml:577c6bec-7675-4e65-a136-10b226b9020a\" xlink:type=\"simple\"><rect fill=\"#FEFECE\" filter=\"url(#f1650r3lox8nz4)\" height=\"45.9375\" id=\"E8\" rx=\"10\" ry=\"10\" style=\"stroke: #A80036; stroke-width: 1.5;\" width=\"119\" x=\"210.5\" y=\"493.5\"/><ellipse cx=\"225.5\" cy=\"512.4688\" fill=\"#0000FF\" rx=\"11\" ry=\"11\" style=\"stroke: #A80036; stroke-width: 1.0;\"/><path d=\"M226.3438,519.2188 L223.8906,519.2188 L223.8906,508.9688 L220.75,508.9688 L220.75,506.8281 L229.4844,506.8281 L229.4844,508.9688 L226.3438,508.9688 L226.3438,519.2188 Z \"/><text fill=\"#000000\" font-family=\"sans-serif\" font-size=\"12\" font-style=\"italic\" lengthAdjust=\"spacingAndGlyphs\" textLength=\"91\" x=\"237.5\" y=\"509.6387\">«requirement»</text><text fill=\"#000000\" font-family=\"sans-serif\" font-size=\"12\" lengthAdjust=\"spacingAndGlyphs\" text-decoration=\"line-through\" textLength=\"51\" x=\"257.5\" y=\"523.6074\">noname</text><line style=\"stroke: #A80036; stroke-width: 1.5;\" x1=\"211.5\" x2=\"328.5\" y1=\"531.4375\" y2=\"531.4375\"/></a><!--MD5=[fd4143e9d270a159db93a4ea2a975926]\n",
       "class E9--><a href=\"psysml:291c6c45-8332-45a6-809f-574961a49898\" target=\"_top\" title=\"psysml:291c6c45-8332-45a6-809f-574961a49898\" xlink:actuate=\"onRequest\" xlink:href=\"psysml:291c6c45-8332-45a6-809f-574961a49898\" xlink:show=\"new\" xlink:title=\"psysml:291c6c45-8332-45a6-809f-574961a49898\" xlink:type=\"simple\"><rect fill=\"#FEFECE\" filter=\"url(#f1650r3lox8nz4)\" height=\"88.3516\" id=\"E9\" style=\"stroke: #A80036; stroke-width: 1.5;\" width=\"145\" x=\"135.5\" y=\"41\"/><ellipse cx=\"151.4\" cy=\"59.9688\" fill=\"#0000FF\" rx=\"11\" ry=\"11\" style=\"stroke: #A80036; stroke-width: 1.0;\"/><path d=\"M152.2438,66.7188 L149.7906,66.7188 L149.7906,56.4688 L146.65,56.4688 L146.65,54.3281 L155.3844,54.3281 L155.3844,56.4688 L152.2438,56.4688 L152.2438,66.7188 Z \"/><text fill=\"#000000\" font-family=\"sans-serif\" font-size=\"12\" font-style=\"italic\" lengthAdjust=\"spacingAndGlyphs\" textLength=\"115\" x=\"163.6\" y=\"57.1387\">«requirement def»</text><text fill=\"#000000\" font-family=\"sans-serif\" font-size=\"12\" lengthAdjust=\"spacingAndGlyphs\" textLength=\"16\" x=\"213.1\" y=\"71.1074\">R1</text><line style=\"stroke: #A80036; stroke-width: 1.5;\" x1=\"136.5\" x2=\"279.5\" y1=\"78.9375\" y2=\"78.9375\"/><text fill=\"#000000\" font-family=\"sans-serif\" font-size=\"11\" font-weight=\"bold\" lengthAdjust=\"spacingAndGlyphs\" textLength=\"46\" x=\"141.5\" y=\"109.9526\">require</text><text fill=\"#000000\" font-family=\"sans-serif\" font-size=\"11\" lengthAdjust=\"spacingAndGlyphs\" textLength=\"13\" x=\"191.5\" y=\"109.9526\">c1</text><text fill=\"#000000\" font-family=\"sans-serif\" font-size=\"11\" font-style=\"italic\" lengthAdjust=\"spacingAndGlyphs\" textLength=\"133\" x=\"141.5\" y=\"122.7573\">:&gt;&gt;RequirementTest::c</text><line style=\"stroke: #A80036; stroke-width: 1.0;\" x1=\"136.5\" x2=\"176\" y1=\"93.3398\" y2=\"93.3398\"/><text fill=\"#000000\" font-family=\"sans-serif\" font-size=\"11\" lengthAdjust=\"spacingAndGlyphs\" textLength=\"64\" x=\"176\" y=\"96.6479\">constraints</text><line style=\"stroke: #A80036; stroke-width: 1.0;\" x1=\"240\" x2=\"279.5\" y1=\"93.3398\" y2=\"93.3398\"/></a><!--MD5=[1dd1bfd58a279cf63c5f349dbc8fc6a1]\n",
       "class E11--><a href=\"psysml:b7118396-8822-4234-af4f-531e34fd2b85\" target=\"_top\" title=\"psysml:b7118396-8822-4234-af4f-531e34fd2b85\" xlink:actuate=\"onRequest\" xlink:href=\"psysml:b7118396-8822-4234-af4f-531e34fd2b85\" xlink:show=\"new\" xlink:title=\"psysml:b7118396-8822-4234-af4f-531e34fd2b85\" xlink:type=\"simple\"><rect fill=\"#FEFECE\" filter=\"url(#f1650r3lox8nz4)\" height=\"45.9375\" id=\"E11\" rx=\"10\" ry=\"10\" style=\"stroke: #A80036; stroke-width: 1.5;\" width=\"68\" x=\"211\" y=\"344.5\"/><ellipse cx=\"226\" cy=\"363.4688\" fill=\"#0000FF\" rx=\"11\" ry=\"11\" style=\"stroke: #A80036; stroke-width: 1.0;\"/><path d=\"M226.8438,370.2188 L224.3906,370.2188 L224.3906,359.9688 L221.25,359.9688 L221.25,357.8281 L229.9844,357.8281 L229.9844,359.9688 L226.8438,359.9688 L226.8438,370.2188 Z \"/><text fill=\"#000000\" font-family=\"sans-serif\" font-size=\"12\" font-style=\"italic\" lengthAdjust=\"spacingAndGlyphs\" textLength=\"40\" x=\"238\" y=\"360.6387\">«part»</text><text fill=\"#000000\" font-family=\"sans-serif\" font-size=\"12\" lengthAdjust=\"spacingAndGlyphs\" textLength=\"8\" x=\"254\" y=\"374.6074\">p</text><line style=\"stroke: #A80036; stroke-width: 1.5;\" x1=\"212\" x2=\"278\" y1=\"382.4375\" y2=\"382.4375\"/></a><!--MD5=[49a0ec8f00dab7302a31f22d0f0fe584]\n",
       "class E12--><a href=\"psysml:5710aa92-7822-41e6-89ae-9d2d61cb8bf3\" target=\"_top\" title=\"psysml:5710aa92-7822-41e6-89ae-9d2d61cb8bf3\" xlink:actuate=\"onRequest\" xlink:href=\"psysml:5710aa92-7822-41e6-89ae-9d2d61cb8bf3\" xlink:show=\"new\" xlink:title=\"psysml:5710aa92-7822-41e6-89ae-9d2d61cb8bf3\" xlink:type=\"simple\"><rect fill=\"#FEFECE\" filter=\"url(#f1650r3lox8nz4)\" height=\"45.9375\" id=\"E12\" rx=\"10\" ry=\"10\" style=\"stroke: #A80036; stroke-width: 1.5;\" width=\"68\" x=\"32\" y=\"62\"/><ellipse cx=\"47\" cy=\"80.9688\" fill=\"#0000FF\" rx=\"11\" ry=\"11\" style=\"stroke: #A80036; stroke-width: 1.0;\"/><path d=\"M47.8438,87.7188 L45.3906,87.7188 L45.3906,77.4688 L42.25,77.4688 L42.25,75.3281 L50.9844,75.3281 L50.9844,77.4688 L47.8438,77.4688 L47.8438,87.7188 Z \"/><text fill=\"#000000\" font-family=\"sans-serif\" font-size=\"12\" font-style=\"italic\" lengthAdjust=\"spacingAndGlyphs\" textLength=\"40\" x=\"59\" y=\"78.1387\">«part»</text><text fill=\"#000000\" font-family=\"sans-serif\" font-size=\"12\" lengthAdjust=\"spacingAndGlyphs\" textLength=\"8\" x=\"75\" y=\"92.1074\">q</text><line style=\"stroke: #A80036; stroke-width: 1.5;\" x1=\"33\" x2=\"99\" y1=\"99.9375\" y2=\"99.9375\"/></a><!--MD5=[ee3c913d1a06f366521f9ef512b67efe]\n",
       "class E13--><a href=\"psysml:b72900fb-e3ca-4439-ac22-acb3bf892de5\" target=\"_top\" title=\"psysml:b72900fb-e3ca-4439-ac22-acb3bf892de5\" xlink:actuate=\"onRequest\" xlink:href=\"psysml:b72900fb-e3ca-4439-ac22-acb3bf892de5\" xlink:show=\"new\" xlink:title=\"psysml:b72900fb-e3ca-4439-ac22-acb3bf892de5\" xlink:type=\"simple\"><rect fill=\"#FEFECE\" filter=\"url(#f1650r3lox8nz4)\" height=\"45.9375\" id=\"E13\" rx=\"10\" ry=\"10\" style=\"stroke: #A80036; stroke-width: 1.5;\" width=\"119\" x=\"44.5\" y=\"190\"/><ellipse cx=\"59.5\" cy=\"208.9688\" fill=\"#0000FF\" rx=\"11\" ry=\"11\" style=\"stroke: #A80036; stroke-width: 1.0;\"/><path d=\"M60.3438,215.7188 L57.8906,215.7188 L57.8906,205.4688 L54.75,205.4688 L54.75,203.3281 L63.4844,203.3281 L63.4844,205.4688 L60.3438,205.4688 L60.3438,215.7188 Z \"/><text fill=\"#000000\" font-family=\"sans-serif\" font-size=\"12\" font-style=\"italic\" lengthAdjust=\"spacingAndGlyphs\" textLength=\"91\" x=\"71.5\" y=\"206.1387\">«requirement»</text><text fill=\"#000000\" font-family=\"sans-serif\" font-size=\"12\" lengthAdjust=\"spacingAndGlyphs\" textLength=\"21\" x=\"106.5\" y=\"220.1074\">r: R</text><line style=\"stroke: #A80036; stroke-width: 1.5;\" x1=\"45.5\" x2=\"162.5\" y1=\"227.9375\" y2=\"227.9375\"/></a><!--MD5=[05d275557350bfb9b23a4ef7222b4c39]\n",
       "link E3 to E2--><a href=\"psysml:8b4534c8-c65f-4721-aa95-1aefa1ee4858\" target=\"_top\" title=\"psysml:8b4534c8-c65f-4721-aa95-1aefa1ee4858\" xlink:actuate=\"onRequest\" xlink:href=\"psysml:8b4534c8-c65f-4721-aa95-1aefa1ee4858\" xlink:show=\"new\" xlink:title=\"psysml:8b4534c8-c65f-4721-aa95-1aefa1ee4858\" xlink:type=\"simple\"><path d=\"M366.88,108.24 C365.26,125.24 362.98,149.19 361.02,169.79 \" fill=\"none\" id=\"E3-&gt;E2\" style=\"stroke: #A80036; stroke-width: 1.0;\"/><polygon fill=\"#FFFFFF\" points=\"359.1,189.99,353.9362,170.411,367.8729,171.7407,359.1,189.99\" style=\"stroke: #A80036; stroke-width: 1.0;\"/><ellipse cx=\"356.4685\" cy=\"164.9268\" fill=\"#A80036\" rx=\"2\" ry=\"2\" style=\"stroke: #A80036; stroke-width: 1.0;\"/><ellipse cx=\"366.4233\" cy=\"165.8765\" fill=\"#A80036\" rx=\"2\" ry=\"2\" style=\"stroke: #A80036; stroke-width: 1.0;\"/></a><!--MD5=[62aa6af11e70f752912c1cb0466f24f7]\n",
       "reverse link E4 to E5--><a href=\"psysml:5c4fbfc6-6feb-457a-9610-da755776e124\" target=\"_top\" title=\"psysml:5c4fbfc6-6feb-457a-9610-da755776e124\" xlink:actuate=\"onRequest\" xlink:href=\"psysml:5c4fbfc6-6feb-457a-9610-da755776e124\" xlink:show=\"new\" xlink:title=\"psysml:5c4fbfc6-6feb-457a-9610-da755776e124\" xlink:type=\"simple\"><path d=\"M104,437.45 C104,453.34 104,469.51 104,482.98 \" fill=\"none\" id=\"E4&lt;-E5\" style=\"stroke: #A80036; stroke-width: 1.0;\"/><ellipse cx=\"104\" cy=\"430.4\" fill=\"#FFFFFF\" rx=\"8\" ry=\"8\" style=\"stroke: #A80036; stroke-width: 1.0;\"/><line style=\"stroke: #A80036; stroke-width: 1.0;\" x1=\"104\" x2=\"104\" y1=\"438.4\" y2=\"422.4\"/><line style=\"stroke: #A80036; stroke-width: 1.0;\" x1=\"96\" x2=\"112\" y1=\"430.4\" y2=\"430.4\"/></a><!--MD5=[c6fc7cdb0cabde04948078cf183fa696]\n",
       "reverse link E4 to E8--><a href=\"psysml:577c6bec-7675-4e65-a136-10b226b9020a\" target=\"_top\" title=\"psysml:577c6bec-7675-4e65-a136-10b226b9020a\" xlink:actuate=\"onRequest\" xlink:href=\"psysml:577c6bec-7675-4e65-a136-10b226b9020a\" xlink:show=\"new\" xlink:title=\"psysml:577c6bec-7675-4e65-a136-10b226b9020a\" xlink:type=\"simple\"><path d=\"M174.75,431.16 C199.83,453.36 226.43,476.92 245.13,493.48 \" fill=\"none\" id=\"E4&lt;-E8\" style=\"stroke: #A80036; stroke-width: 1.0;\"/><polygon fill=\"#A80036\" points=\"164.87,422.4,166.7154,429.371,173.86,430.3486,172.0145,423.3776,164.87,422.4\" style=\"stroke: #A80036; stroke-width: 1.0;\"/></a><!--MD5=[062ed86c389d1a88f61c6380d0491e17]\n",
       "reverse link E12 to E13--><a href=\"psysml:b72900fb-e3ca-4439-ac22-acb3bf892de5\" target=\"_top\" title=\"psysml:b72900fb-e3ca-4439-ac22-acb3bf892de5\" xlink:actuate=\"onRequest\" xlink:href=\"psysml:b72900fb-e3ca-4439-ac22-acb3bf892de5\" xlink:show=\"new\" xlink:title=\"psysml:b72900fb-e3ca-4439-ac22-acb3bf892de5\" xlink:type=\"simple\"><path d=\"M76.49,120.8 C83.17,142.92 91.6,170.89 97.36,189.99 \" fill=\"none\" id=\"E12&lt;-E13\" style=\"stroke: #A80036; stroke-width: 1.0;\"/><polygon fill=\"#A80036\" points=\"72.71,108.24,70.6129,115.1394,76.1751,119.7288,78.2722,112.8294,72.71,108.24\" style=\"stroke: #A80036; stroke-width: 1.0;\"/></a><!--MD5=[017847e01ff9a8bd19f247411074f987]\n",
       "link E13 to E4--><a href=\"psysml:ed6e641a-605b-4ed9-9064-d41509e7ab16\" target=\"_top\" title=\"psysml:ed6e641a-605b-4ed9-9064-d41509e7ab16\" xlink:actuate=\"onRequest\" xlink:href=\"psysml:ed6e641a-605b-4ed9-9064-d41509e7ab16\" xlink:show=\"new\" xlink:title=\"psysml:ed6e641a-605b-4ed9-9064-d41509e7ab16\" xlink:type=\"simple\"><path d=\"M104,236.17 C104,251.17 104,271.91 104,292.44 \" fill=\"none\" id=\"E13-&gt;E4\" style=\"stroke: #A80036; stroke-width: 1.0;\"/><polygon fill=\"#FFFFFF\" points=\"104,312.68,97,293.68,111,293.68,104,312.68\" style=\"stroke: #A80036; stroke-width: 1.0;\"/><ellipse cx=\"99\" cy=\"287.98\" fill=\"#A80036\" rx=\"2\" ry=\"2\" style=\"stroke: #A80036; stroke-width: 1.0;\"/><ellipse cx=\"109\" cy=\"287.98\" fill=\"#A80036\" rx=\"2\" ry=\"2\" style=\"stroke: #A80036; stroke-width: 1.0;\"/></a><!--MD5=[2cfe899c895462254056921bfb67315f]\n",
       "link E13 to E11--><a href=\"psysml:11f1a2a5-a4e7-4875-8b16-7052fd317758\" target=\"_top\" title=\"psysml:11f1a2a5-a4e7-4875-8b16-7052fd317758\" xlink:actuate=\"onRequest\" xlink:href=\"psysml:11f1a2a5-a4e7-4875-8b16-7052fd317758\" xlink:show=\"new\" xlink:title=\"psysml:11f1a2a5-a4e7-4875-8b16-7052fd317758\" xlink:type=\"simple\"><path d=\"M124.5,236.17 C150.09,263.85 193.77,311.09 220.92,340.45 \" fill=\"none\" id=\"E13-&gt;E11\" style=\"stroke: #A80036; stroke-width: 1.0; stroke-dasharray: 7.0,7.0;\"/><polygon fill=\"#A80036\" points=\"224.47,344.3,221.2896,334.9788,221.0727,340.6315,215.42,340.4145,224.47,344.3\" style=\"stroke: #A80036; stroke-width: 1.0;\"/><text fill=\"#000000\" font-family=\"sans-serif\" font-size=\"13\" lengthAdjust=\"spacingAndGlyphs\" textLength=\"57\" x=\"167\" y=\"279.0669\">«satisfy»</text></a><!--MD5=[62832a7dbdec9ff0ebc3d2043f4daf6f]\n",
       "@startuml\r\n",
       " \r\n",
       "package \"RequirementTest\" as E1  [[psysml:8aa028f5-1693-4b51-bff2-c94d0f18c930 ]]  {\r\n",
       "comp def \"C\" as E2  <<(T,blue)constraint def>> [[psysml:27c2a771-07cf-4bde-9591-6030a1a15742 ]] {\r\n",
       "}\r\n",
       "comp usage \"c: C\" as E3  <<(T,blue)constraint>> [[psysml:da02b217-f155-4220-a2dc-d840d0d24f86 ]] {\r\n",
       "}\r\n",
       "comp def \"R\" as E4  <<(T,blue)requirement def>> [[psysml:b9a9d178-6ba0-415d-80bd-8d7e5aacf32f ]] {\r\n",
       "\r\n",
       "- -\r\n",
       "- - constraints - -\r\n",
       "<b>require</b> c\r\n",
       "<i>assume</i> c1: C\r\n",
       "}\r\n",
       "comp def \" [<b>1</b>] A\" as E5  <<(T,blue)requirement def>> [[psysml:5c4fbfc6-6feb-457a-9610-da755776e124 ]] {\r\n",
       "Text\r\n",
       "- -\r\n",
       "}\r\n",
       "comp usage \"<s>noname</s>\" as E8  <<(T,blue)requirement>> [[psysml:577c6bec-7675-4e65-a136-10b226b9020a ]] {\r\n",
       "}\r\n",
       "comp def \"R1\" as E9  <<(T,blue)requirement def>> [[psysml:291c6c45-8332-45a6-809f-574961a49898 ]] {\r\n",
       "- - constraints - -\r\n",
       "<b>require</b> c1\\n//:>>RequirementTest::c// \r\n",
       "}\r\n",
       "comp usage \"p\" as E11  <<(T,blue)part>> [[psysml:b7118396-8822-4234-af4f-531e34fd2b85 ]] {\r\n",
       "}\r\n",
       "comp usage \"q\" as E12  <<(T,blue)part>> [[psysml:5710aa92-7822-41e6-89ae-9d2d61cb8bf3 ]] {\r\n",
       "}\r\n",
       "comp usage \"r: R\" as E13  <<(T,blue)requirement>> [[psysml:b72900fb-e3ca-4439-ac22-acb3bf892de5 ]] {\r\n",
       "}\r\n",
       "E3 - -:|> E2 [[psysml:8b4534c8-c65f-4721-aa95-1aefa1ee4858 ]] \r\n",
       "E4 +- - E5 [[psysml:5c4fbfc6-6feb-457a-9610-da755776e124 ]] \r\n",
       "E4 *- - E8 [[psysml:577c6bec-7675-4e65-a136-10b226b9020a ]] \r\n",
       "E12 *- - E13 [[psysml:b72900fb-e3ca-4439-ac22-acb3bf892de5 ]] \r\n",
       "E13 - -:|> E4 [[psysml:ed6e641a-605b-4ed9-9064-d41509e7ab16 ]] \r\n",
       "E13 ..> E11 [[psysml:11f1a2a5-a4e7-4875-8b16-7052fd317758 ]] : <<satisfy>>\r\n",
       "}\r\n",
       "@enduml\r\n",
       "\n",
       "PlantUML version 1.2020.13(Sat Jun 13 12:26:38 UTC 2020)\n",
       "(EPL source distribution)\n",
       "Java Runtime: OpenJDK Runtime Environment\n",
       "JVM: OpenJDK 64-Bit Server VM\n",
       "Default Encoding: UTF-8\n",
       "Language: en\n",
       "Country: null\n",
       "--></g></svg>"
      ]
     },
     "execution_count": 3,
     "metadata": {},
     "output_type": "execute_result"
    }
   ],
   "source": [
    "%viz --style=\"COMPTREE\" --view=\"Tree\" \"RequirementTest\""
   ]
  },
  {
   "cell_type": "code",
   "execution_count": 4,
   "id": "rolled-roman",
   "metadata": {
    "execution": {
     "iopub.execute_input": "2021-03-26T09:12:26.120946Z",
     "iopub.status.busy": "2021-03-26T09:12:26.120617Z",
     "iopub.status.idle": "2021-03-26T09:12:26.217312Z",
     "shell.execute_reply": "2021-03-26T09:12:26.216060Z"
    }
   },
   "outputs": [
    {
     "data": {
      "image/svg+xml": [
       "<?xml version=\"1.0\" encoding=\"UTF-8\" standalone=\"no\"?><svg xmlns=\"http://www.w3.org/2000/svg\" xmlns:xlink=\"http://www.w3.org/1999/xlink\" contentScriptType=\"application/ecmascript\" contentStyleType=\"text/css\" height=\"303px\" preserveAspectRatio=\"none\" style=\"width:603px;height:303px;background:#000000;\" version=\"1.1\" viewBox=\"0 0 603 303\" width=\"603px\" zoomAndPan=\"magnify\"><defs/><g><rect fill=\"#052423\" height=\"1\" style=\"stroke: #052423; stroke-width: 1.0;\" width=\"1\" x=\"0\" y=\"0\"/><rect fill=\"#FFFFFF\" height=\"205.5625\" style=\"stroke: #FFFFFF; stroke-width: 1.0;\" width=\"602\" x=\"0\" y=\"0\"/><text fill=\"#000000\" font-family=\"sans-serif\" font-size=\"12\" font-weight=\"bold\" lengthAdjust=\"spacingAndGlyphs\" textLength=\"159\" x=\"5\" y=\"16.1387\">Welcome to PlantUML!</text><text fill=\"#000000\" font-family=\"sans-serif\" font-size=\"12\" lengthAdjust=\"spacingAndGlyphs\" textLength=\"0\" x=\"9\" y=\"30.1074\"/><text fill=\"#000000\" font-family=\"sans-serif\" font-size=\"12\" lengthAdjust=\"spacingAndGlyphs\" textLength=\"293\" x=\"5\" y=\"44.0762\">If you use this software, you accept its license.</text><text fill=\"#000000\" font-family=\"sans-serif\" font-size=\"12\" lengthAdjust=\"spacingAndGlyphs\" textLength=\"107\" x=\"5\" y=\"58.0449\">(details by typing</text><text fill=\"#000000\" font-family=\"monospace\" font-size=\"12\" lengthAdjust=\"spacingAndGlyphs\" textLength=\"49\" x=\"116\" y=\"58.0449\">license</text><text fill=\"#000000\" font-family=\"sans-serif\" font-size=\"12\" lengthAdjust=\"spacingAndGlyphs\" textLength=\"56\" x=\"169\" y=\"58.0449\">keyword)</text><text fill=\"#000000\" font-family=\"sans-serif\" font-size=\"12\" lengthAdjust=\"spacingAndGlyphs\" textLength=\"0\" x=\"9\" y=\"72.0137\"/><text fill=\"#000000\" font-family=\"sans-serif\" font-size=\"12\" lengthAdjust=\"spacingAndGlyphs\" textLength=\"283\" x=\"5\" y=\"85.9824\">You can start with a simple UML Diagram like:</text><text fill=\"#000000\" font-family=\"sans-serif\" font-size=\"12\" lengthAdjust=\"spacingAndGlyphs\" textLength=\"0\" x=\"9\" y=\"99.9512\"/><text fill=\"#000000\" font-family=\"monospace\" font-size=\"12\" lengthAdjust=\"spacingAndGlyphs\" textLength=\"119\" x=\"5\" y=\"113.9199\">Bob-&gt;Alice: Hello</text><text fill=\"#000000\" font-family=\"sans-serif\" font-size=\"12\" lengthAdjust=\"spacingAndGlyphs\" textLength=\"0\" x=\"9\" y=\"127.8887\"/><text fill=\"#000000\" font-family=\"sans-serif\" font-size=\"12\" lengthAdjust=\"spacingAndGlyphs\" textLength=\"14\" x=\"5\" y=\"141.8574\">Or</text><text fill=\"#000000\" font-family=\"sans-serif\" font-size=\"12\" lengthAdjust=\"spacingAndGlyphs\" textLength=\"0\" x=\"9\" y=\"155.8262\"/><text fill=\"#000000\" font-family=\"monospace\" font-size=\"12\" lengthAdjust=\"spacingAndGlyphs\" textLength=\"91\" x=\"5\" y=\"169.7949\">class Example</text><text fill=\"#000000\" font-family=\"sans-serif\" font-size=\"12\" lengthAdjust=\"spacingAndGlyphs\" textLength=\"0\" x=\"9\" y=\"183.7637\"/><text fill=\"#000000\" font-family=\"sans-serif\" font-size=\"12\" lengthAdjust=\"spacingAndGlyphs\" textLength=\"349\" x=\"5\" y=\"197.7324\">You will find more information about PlantUML syntax on</text><text fill=\"#000000\" font-family=\"sans-serif\" font-size=\"12\" lengthAdjust=\"spacingAndGlyphs\" text-decoration=\"underline\" textLength=\"129\" x=\"358\" y=\"197.7324\">https://plantuml.com</text><image height=\"71\" width=\"80\" x=\"516\" xlink:href=\"data:image/png;base64,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\" y=\"6\"/><rect fill=\"#000000\" height=\"96.4844\" style=\"stroke: #000000; stroke-width: 1.0;\" width=\"602\" x=\"0\" y=\"205.5625\"/><rect fill=\"#33FF02\" height=\"21.2969\" style=\"stroke: #33FF02; stroke-width: 1.0;\" width=\"170\" x=\"5\" y=\"210.5625\"/><text fill=\"#000000\" font-family=\"sans-serif\" font-size=\"14\" font-weight=\"bold\" lengthAdjust=\"spacingAndGlyphs\" textLength=\"168\" x=\"6\" y=\"225.5625\">[From string (line 2) ]</text><text fill=\"#33FF02\" font-family=\"sans-serif\" font-size=\"14\" font-weight=\"bold\" lengthAdjust=\"spacingAndGlyphs\" textLength=\"0\" x=\"10\" y=\"245.8594\"/><text fill=\"#33FF02\" font-family=\"sans-serif\" font-size=\"14\" font-weight=\"bold\" lengthAdjust=\"spacingAndGlyphs\" textLength=\"79\" x=\"5\" y=\"262.1563\">@startuml</text><text fill=\"#33FF02\" font-family=\"sans-serif\" font-size=\"14\" font-weight=\"bold\" lengthAdjust=\"spacingAndGlyphs\" textLength=\"0\" x=\"10\" y=\"278.4531\"/><text fill=\"#FF0000\" font-family=\"sans-serif\" font-size=\"14\" font-weight=\"bold\" lengthAdjust=\"spacingAndGlyphs\" textLength=\"142\" x=\"10\" y=\"294.75\">Empty description</text><!--MD5=[f59edd8218d337f74d0c332fc6737304]\n",
       "@startuml\r\n",
       " \r\n",
       "@enduml\r\n",
       "\n",
       "PlantUML version 1.2020.13(Sat Jun 13 12:26:38 UTC 2020)\n",
       "(EPL source distribution)\n",
       "Java Runtime: OpenJDK Runtime Environment\n",
       "JVM: OpenJDK 64-Bit Server VM\n",
       "Default Encoding: UTF-8\n",
       "Language: en\n",
       "Country: null\n",
       "--></g></svg>"
      ]
     },
     "execution_count": 4,
     "metadata": {},
     "output_type": "execute_result"
    }
   ],
   "source": [
    "%viz --style=\"COMPTREE\" --view=\"State\" \"RequirementTest\""
   ]
  },
  {
   "cell_type": "code",
   "execution_count": 5,
   "id": "normal-bandwidth",
   "metadata": {
    "execution": {
     "iopub.execute_input": "2021-03-26T09:12:26.267341Z",
     "iopub.status.busy": "2021-03-26T09:12:26.266997Z",
     "iopub.status.idle": "2021-03-26T09:12:26.321423Z",
     "shell.execute_reply": "2021-03-26T09:12:26.321758Z"
    }
   },
   "outputs": [
    {
     "data": {
      "image/svg+xml": [
       "<?xml version=\"1.0\" encoding=\"UTF-8\" standalone=\"no\"?><svg xmlns=\"http://www.w3.org/2000/svg\" xmlns:xlink=\"http://www.w3.org/1999/xlink\" contentScriptType=\"application/ecmascript\" contentStyleType=\"text/css\" height=\"367px\" preserveAspectRatio=\"none\" style=\"width:1109px;height:367px;\" version=\"1.1\" viewBox=\"0 0 1109 367\" width=\"1109px\" zoomAndPan=\"magnify\"><defs><filter height=\"300%\" id=\"fzzllt92c1o95\" width=\"300%\" x=\"-1\" y=\"-1\"><feGaussianBlur result=\"blurOut\" stdDeviation=\"2.0\"/><feColorMatrix in=\"blurOut\" result=\"blurOut2\" type=\"matrix\" values=\"0 0 0 0 0 0 0 0 0 0 0 0 0 0 0 0 0 0 .4 0\"/><feOffset dx=\"4.0\" dy=\"4.0\" in=\"blurOut2\" result=\"blurOut3\"/><feBlend in=\"SourceGraphic\" in2=\"blurOut3\" mode=\"normal\"/></filter></defs><g><!--MD5=[fbc87193dbaf4d95561dea2c320d4a47]\n",
       "cluster E1--><a href=\"psysml:8aa028f5-1693-4b51-bff2-c94d0f18c930\" target=\"_top\" title=\"psysml:8aa028f5-1693-4b51-bff2-c94d0f18c930\" xlink:actuate=\"onRequest\" xlink:href=\"psysml:8aa028f5-1693-4b51-bff2-c94d0f18c930\" xlink:show=\"new\" xlink:title=\"psysml:8aa028f5-1693-4b51-bff2-c94d0f18c930\" xlink:type=\"simple\"><polygon fill=\"#FFFFFF\" filter=\"url(#fzzllt92c1o95)\" points=\"16,6,158,6,165,28.2969,1087,28.2969,1087,355,16,355,16,6\" style=\"stroke: #000000; stroke-width: 1.5;\"/><line style=\"stroke: #000000; stroke-width: 1.5;\" x1=\"16\" x2=\"165\" y1=\"28.2969\" y2=\"28.2969\"/><text fill=\"#000000\" font-family=\"sans-serif\" font-size=\"14\" font-weight=\"bold\" lengthAdjust=\"spacingAndGlyphs\" textLength=\"136\" x=\"20\" y=\"20.9951\">RequirementTest</text></a><!--MD5=[168fadf3d0c3fd93dd5d6da1b1d7ab76]\n",
       "cluster E7--><a href=\"psysml:5710aa92-7822-41e6-89ae-9d2d61cb8bf3\" target=\"_top\" title=\"psysml:5710aa92-7822-41e6-89ae-9d2d61cb8bf3\" xlink:actuate=\"onRequest\" xlink:href=\"psysml:5710aa92-7822-41e6-89ae-9d2d61cb8bf3\" xlink:show=\"new\" xlink:title=\"psysml:5710aa92-7822-41e6-89ae-9d2d61cb8bf3\" xlink:type=\"simple\"><rect fill=\"#FFFFFF\" filter=\"url(#fzzllt92c1o95)\" height=\"209\" id=\"E7\" rx=\"10\" ry=\"10\" style=\"stroke: #A80036; stroke-width: 1.5;\" width=\"239\" x=\"824\" y=\"49\"/><rect fill=\"#FEFECE\" height=\"23.9688\" rx=\"10\" ry=\"10\" style=\"stroke: #FEFECE; stroke-width: 1.5;\" width=\"239\" x=\"824\" y=\"49\"/><rect fill=\"#FEFECE\" height=\"10\" style=\"stroke: #FEFECE; stroke-width: 1.5;\" width=\"239\" x=\"824\" y=\"62.9688\"/><rect fill=\"none\" height=\"209\" id=\"E7\" rx=\"10\" ry=\"10\" style=\"stroke: #A80036; stroke-width: 1.5;\" width=\"239\" x=\"824\" y=\"49\"/><text fill=\"#000000\" font-family=\"sans-serif\" font-size=\"12\" lengthAdjust=\"spacingAndGlyphs\" textLength=\"8\" x=\"939.5\" y=\"65.1387\">q</text><line style=\"stroke: #A80036; stroke-width: 1.0;\" x1=\"824\" x2=\"1063\" y1=\"72.9688\" y2=\"72.9688\"/></a><!--MD5=[55dfccfc6c49c2d10cd1bd2211a6c90c]\n",
       "cluster E8--><a href=\"psysml:b72900fb-e3ca-4439-ac22-acb3bf892de5\" target=\"_top\" title=\"psysml:b72900fb-e3ca-4439-ac22-acb3bf892de5\" xlink:actuate=\"onRequest\" xlink:href=\"psysml:b72900fb-e3ca-4439-ac22-acb3bf892de5\" xlink:show=\"new\" xlink:title=\"psysml:b72900fb-e3ca-4439-ac22-acb3bf892de5\" xlink:type=\"simple\"><rect fill=\"#FFFFFF\" filter=\"url(#fzzllt92c1o95)\" height=\"126\" id=\"E8\" rx=\"10\" ry=\"10\" style=\"stroke: #A80036; stroke-width: 1.5;\" width=\"175\" x=\"856\" y=\"100\"/><rect fill=\"#FEFECE\" height=\"37.9375\" rx=\"10\" ry=\"10\" style=\"stroke: #FEFECE; stroke-width: 1.5;\" width=\"175\" x=\"856\" y=\"100\"/><rect fill=\"#FEFECE\" height=\"10\" style=\"stroke: #FEFECE; stroke-width: 1.5;\" width=\"175\" x=\"856\" y=\"127.9375\"/><rect fill=\"none\" height=\"126\" id=\"E8\" rx=\"10\" ry=\"10\" style=\"stroke: #A80036; stroke-width: 1.5;\" width=\"175\" x=\"856\" y=\"100\"/><text fill=\"#000000\" font-family=\"sans-serif\" font-size=\"12\" font-style=\"italic\" lengthAdjust=\"spacingAndGlyphs\" textLength=\"91\" x=\"898\" y=\"116.1387\">«requirement»</text><text fill=\"#000000\" font-family=\"sans-serif\" font-size=\"12\" lengthAdjust=\"spacingAndGlyphs\" textLength=\"21\" x=\"933\" y=\"130.1074\">r: R</text><line style=\"stroke: #A80036; stroke-width: 1.0;\" x1=\"856\" x2=\"1031\" y1=\"137.9375\" y2=\"137.9375\"/></a><!--MD5=[b4997ac47864f28c2f74865a473b2911]\n",
       "class E2--><a href=\"psysml:27c2a771-07cf-4bde-9591-6030a1a15742\" target=\"_top\" title=\"psysml:27c2a771-07cf-4bde-9591-6030a1a15742\" xlink:actuate=\"onRequest\" xlink:href=\"psysml:27c2a771-07cf-4bde-9591-6030a1a15742\" xlink:show=\"new\" xlink:title=\"psysml:27c2a771-07cf-4bde-9591-6030a1a15742\" xlink:type=\"simple\"><rect fill=\"#FEFECE\" filter=\"url(#fzzllt92c1o95)\" height=\"53.9375\" id=\"E2\" style=\"stroke: #A80036; stroke-width: 1.5;\" width=\"178\" x=\"630\" y=\"153.5\"/><ellipse cx=\"645\" cy=\"172.4688\" fill=\"#ADD1B2\" rx=\"11\" ry=\"11\" style=\"stroke: #A80036; stroke-width: 1.0;\"/><path d=\"M647.9688,178.1094 Q647.3906,178.4063 646.75,178.5469 Q646.1094,178.7031 645.4063,178.7031 Q642.9063,178.7031 641.5781,177.0625 Q640.2656,175.4063 640.2656,172.2813 Q640.2656,169.1563 641.5781,167.5 Q642.9063,165.8438 645.4063,165.8438 Q646.1094,165.8438 646.75,166 Q647.4063,166.1563 647.9688,166.4531 L647.9688,169.1719 Q647.3438,168.5938 646.75,168.3281 Q646.1563,168.0469 645.5313,168.0469 Q644.1875,168.0469 643.5,169.125 Q642.8125,170.1875 642.8125,172.2813 Q642.8125,174.375 643.5,175.4531 Q644.1875,176.5156 645.5313,176.5156 Q646.1563,176.5156 646.75,176.25 Q647.3438,175.9688 647.9688,175.3906 L647.9688,178.1094 Z \"/><text fill=\"#000000\" font-family=\"sans-serif\" font-size=\"12\" font-style=\"italic\" lengthAdjust=\"spacingAndGlyphs\" textLength=\"150\" x=\"657\" y=\"169.6387\">«(T,blue)constraint def»</text><text fill=\"#000000\" font-family=\"sans-serif\" font-size=\"12\" lengthAdjust=\"spacingAndGlyphs\" textLength=\"8\" x=\"728\" y=\"183.6074\">C</text><line style=\"stroke: #A80036; stroke-width: 1.5;\" x1=\"631\" x2=\"807\" y1=\"191.4375\" y2=\"191.4375\"/><line style=\"stroke: #A80036; stroke-width: 1.5;\" x1=\"631\" x2=\"807\" y1=\"199.4375\" y2=\"199.4375\"/></a><!--MD5=[ebbe1d658d1005bcc118a6aa81145e00]\n",
       "class E4--><a href=\"psysml:b9a9d178-6ba0-415d-80bd-8d7e5aacf32f\" target=\"_top\" title=\"psysml:b9a9d178-6ba0-415d-80bd-8d7e5aacf32f\" xlink:actuate=\"onRequest\" xlink:href=\"psysml:b9a9d178-6ba0-415d-80bd-8d7e5aacf32f\" xlink:show=\"new\" xlink:title=\"psysml:b9a9d178-6ba0-415d-80bd-8d7e5aacf32f\" xlink:type=\"simple\"><rect fill=\"#FEFECE\" filter=\"url(#fzzllt92c1o95)\" height=\"53.9375\" id=\"E4\" style=\"stroke: #A80036; stroke-width: 1.5;\" width=\"191\" x=\"403.5\" y=\"153.5\"/><ellipse cx=\"418.5\" cy=\"172.4688\" fill=\"#ADD1B2\" rx=\"11\" ry=\"11\" style=\"stroke: #A80036; stroke-width: 1.0;\"/><path d=\"M421.4688,178.1094 Q420.8906,178.4063 420.25,178.5469 Q419.6094,178.7031 418.9063,178.7031 Q416.4063,178.7031 415.0781,177.0625 Q413.7656,175.4063 413.7656,172.2813 Q413.7656,169.1563 415.0781,167.5 Q416.4063,165.8438 418.9063,165.8438 Q419.6094,165.8438 420.25,166 Q420.9063,166.1563 421.4688,166.4531 L421.4688,169.1719 Q420.8438,168.5938 420.25,168.3281 Q419.6563,168.0469 419.0313,168.0469 Q417.6875,168.0469 417,169.125 Q416.3125,170.1875 416.3125,172.2813 Q416.3125,174.375 417,175.4531 Q417.6875,176.5156 419.0313,176.5156 Q419.6563,176.5156 420.25,176.25 Q420.8438,175.9688 421.4688,175.3906 L421.4688,178.1094 Z \"/><text fill=\"#000000\" font-family=\"sans-serif\" font-size=\"12\" font-style=\"italic\" lengthAdjust=\"spacingAndGlyphs\" textLength=\"163\" x=\"430.5\" y=\"169.6387\">«(T,blue)requirement def»</text><text fill=\"#000000\" font-family=\"sans-serif\" font-size=\"12\" lengthAdjust=\"spacingAndGlyphs\" textLength=\"8\" x=\"508\" y=\"183.6074\">R</text><line style=\"stroke: #A80036; stroke-width: 1.5;\" x1=\"404.5\" x2=\"593.5\" y1=\"191.4375\" y2=\"191.4375\"/><line style=\"stroke: #A80036; stroke-width: 1.5;\" x1=\"404.5\" x2=\"593.5\" y1=\"199.4375\" y2=\"199.4375\"/></a><!--MD5=[270fce915f116d4de14055a7c1d9a0f3]\n",
       "class E5--><a href=\"psysml:291c6c45-8332-45a6-809f-574961a49898\" target=\"_top\" title=\"psysml:291c6c45-8332-45a6-809f-574961a49898\" xlink:actuate=\"onRequest\" xlink:href=\"psysml:291c6c45-8332-45a6-809f-574961a49898\" xlink:show=\"new\" xlink:title=\"psysml:291c6c45-8332-45a6-809f-574961a49898\" xlink:type=\"simple\"><rect fill=\"#FEFECE\" filter=\"url(#fzzllt92c1o95)\" height=\"53.9375\" id=\"E5\" style=\"stroke: #A80036; stroke-width: 1.5;\" width=\"191\" x=\"177.5\" y=\"153.5\"/><ellipse cx=\"192.5\" cy=\"172.4688\" fill=\"#ADD1B2\" rx=\"11\" ry=\"11\" style=\"stroke: #A80036; stroke-width: 1.0;\"/><path d=\"M195.4688,178.1094 Q194.8906,178.4063 194.25,178.5469 Q193.6094,178.7031 192.9063,178.7031 Q190.4063,178.7031 189.0781,177.0625 Q187.7656,175.4063 187.7656,172.2813 Q187.7656,169.1563 189.0781,167.5 Q190.4063,165.8438 192.9063,165.8438 Q193.6094,165.8438 194.25,166 Q194.9063,166.1563 195.4688,166.4531 L195.4688,169.1719 Q194.8438,168.5938 194.25,168.3281 Q193.6563,168.0469 193.0313,168.0469 Q191.6875,168.0469 191,169.125 Q190.3125,170.1875 190.3125,172.2813 Q190.3125,174.375 191,175.4531 Q191.6875,176.5156 193.0313,176.5156 Q193.6563,176.5156 194.25,176.25 Q194.8438,175.9688 195.4688,175.3906 L195.4688,178.1094 Z \"/><text fill=\"#000000\" font-family=\"sans-serif\" font-size=\"12\" font-style=\"italic\" lengthAdjust=\"spacingAndGlyphs\" textLength=\"163\" x=\"204.5\" y=\"169.6387\">«(T,blue)requirement def»</text><text fill=\"#000000\" font-family=\"sans-serif\" font-size=\"12\" lengthAdjust=\"spacingAndGlyphs\" textLength=\"16\" x=\"278\" y=\"183.6074\">R1</text><line style=\"stroke: #A80036; stroke-width: 1.5;\" x1=\"178.5\" x2=\"367.5\" y1=\"191.4375\" y2=\"191.4375\"/><line style=\"stroke: #A80036; stroke-width: 1.5;\" x1=\"178.5\" x2=\"367.5\" y1=\"199.4375\" y2=\"199.4375\"/></a><g id=\"E1.E3\"><a href=\"psysml:da02b217-f155-4220-a2dc-d840d0d24f86\" target=\"_top\" title=\"psysml:da02b217-f155-4220-a2dc-d840d0d24f86\" xlink:actuate=\"onRequest\" xlink:href=\"psysml:da02b217-f155-4220-a2dc-d840d0d24f86\" xlink:show=\"new\" xlink:title=\"psysml:da02b217-f155-4220-a2dc-d840d0d24f86\" xlink:type=\"simple\"><rect fill=\"#FEFECE\" filter=\"url(#fzzllt92c1o95)\" height=\"42.9375\" id=\"E3\" rx=\"10\" ry=\"10\" style=\"stroke: #A80036; stroke-width: 1.5;\" width=\"111\" x=\"31.5\" y=\"159\"/><ellipse cx=\"48.75\" cy=\"177.9688\" fill=\"#0000FF\" rx=\"11\" ry=\"11\" style=\"stroke: #A80036; stroke-width: 1.0;\"/><path d=\"M49.5938,184.7188 L47.1406,184.7188 L47.1406,174.4688 L44,174.4688 L44,172.3281 L52.7344,172.3281 L52.7344,174.4688 L49.5938,174.4688 L49.5938,184.7188 Z \"/><text fill=\"#000000\" font-family=\"sans-serif\" font-size=\"12\" font-style=\"italic\" lengthAdjust=\"spacingAndGlyphs\" textLength=\"78\" x=\"61.25\" y=\"175.1387\">«constraint»</text><text fill=\"#000000\" font-family=\"sans-serif\" font-size=\"12\" lengthAdjust=\"spacingAndGlyphs\" textLength=\"23\" x=\"88.75\" y=\"189.1074\">c: C</text></a></g><g id=\"E1.E6\"><a href=\"psysml:b7118396-8822-4234-af4f-531e34fd2b85\" target=\"_top\" title=\"psysml:b7118396-8822-4234-af4f-531e34fd2b85\" xlink:actuate=\"onRequest\" xlink:href=\"psysml:b7118396-8822-4234-af4f-531e34fd2b85\" xlink:show=\"new\" xlink:title=\"psysml:b7118396-8822-4234-af4f-531e34fd2b85\" xlink:type=\"simple\"><rect fill=\"#FEFECE\" filter=\"url(#fzzllt92c1o95)\" height=\"40\" id=\"E6\" rx=\"10\" ry=\"10\" style=\"stroke: #A80036; stroke-width: 1.5;\" width=\"50\" x=\"839\" y=\"299\"/><ellipse cx=\"858.5\" cy=\"315\" fill=\"#B6DBBB\" rx=\"11\" ry=\"11\" style=\"stroke: #A80036; stroke-width: 1.0;\"/><path d=\"M854.375,316.9219 L854.375,309.1094 L856.8281,309.1094 L856.8281,317.5469 Q856.8281,318.4688 857.2969,319 Q857.7813,319.5313 858.6094,319.5313 Q859.4531,319.5313 859.9219,319 Q860.3906,318.4688 860.3906,317.5469 L860.3906,309.1094 L862.8438,309.1094 L862.8438,316.9219 Q862.8438,319.4531 861.8438,320.5938 Q860.8438,321.7344 858.6094,321.7344 Q856.3906,321.7344 855.375,320.5938 Q854.375,319.4531 854.375,316.9219 Z \"/><text fill=\"#000000\" font-family=\"sans-serif\" font-size=\"12\" lengthAdjust=\"spacingAndGlyphs\" textLength=\"8\" x=\"873.5\" y=\"319.1543\">p</text></a></g><g id=\"E1.E7.E8.E9\"><a href=\"psysml:b3b786b4-2056-4ded-a351-3a90cb9a49e0\" target=\"_top\" title=\"psysml:b3b786b4-2056-4ded-a351-3a90cb9a49e0\" xlink:actuate=\"onRequest\" xlink:href=\"psysml:b3b786b4-2056-4ded-a351-3a90cb9a49e0\" xlink:show=\"new\" xlink:title=\"psysml:b3b786b4-2056-4ded-a351-3a90cb9a49e0\" xlink:type=\"simple\"><rect fill=\"#FEFECE\" filter=\"url(#fzzllt92c1o95)\" height=\"42.9375\" id=\"E9\" rx=\"10\" ry=\"10\" style=\"stroke: #A80036; stroke-width: 1.5;\" width=\"108\" x=\"899\" y=\"159\"/><ellipse cx=\"916.25\" cy=\"177.9688\" fill=\"#0000FF\" rx=\"11\" ry=\"11\" style=\"stroke: #A80036; stroke-width: 1.0;\"/><path d=\"M917.0938,184.7188 L914.6406,184.7188 L914.6406,174.4688 L911.5,174.4688 L911.5,172.3281 L920.2344,172.3281 L920.2344,174.4688 L917.0938,174.4688 L917.0938,184.7188 Z \"/><text fill=\"#000000\" font-family=\"sans-serif\" font-size=\"12\" font-style=\"italic\" lengthAdjust=\"spacingAndGlyphs\" textLength=\"75\" x=\"928.75\" y=\"175.1387\">«reference»</text><text fill=\"#000000\" font-family=\"sans-serif\" font-size=\"12\" lengthAdjust=\"spacingAndGlyphs\" textLength=\"26\" x=\"953.25\" y=\"189.1074\">subj</text></a></g><!--MD5=[c5e8897d989ce984f93528998a7150fe]\n",
       "link E8 to E6--><a href=\"psysml:11f1a2a5-a4e7-4875-8b16-7052fd317758\" target=\"_top\" title=\"psysml:11f1a2a5-a4e7-4875-8b16-7052fd317758\" xlink:actuate=\"onRequest\" xlink:href=\"psysml:11f1a2a5-a4e7-4875-8b16-7052fd317758\" xlink:show=\"new\" xlink:title=\"psysml:11f1a2a5-a4e7-4875-8b16-7052fd317758\" xlink:type=\"simple\"><path d=\"M864,226.4501 C864,227.1713 864,227.8965 864,228.6252 C864,230.0826 864,231.5543 864,233.0372 C864,236.003 864,239.0136 864,242.0448 C864,248.1072 864,254.2518 864,260.2839 C864,272.3481 864,283.9625 864,293.57 \" fill=\"none\" id=\"E8-&gt;E6\" style=\"stroke: #A80036; stroke-width: 1.0; stroke-dasharray: 7.0,7.0;\"/><polygon fill=\"#A80036\" points=\"864,298.99,868,289.99,864,293.99,860,289.99,864,298.99\" style=\"stroke: #A80036; stroke-width: 1.0;\"/><text fill=\"#000000\" font-family=\"sans-serif\" font-size=\"13\" lengthAdjust=\"spacingAndGlyphs\" textLength=\"57\" x=\"865\" y=\"287.0669\">«satisfy»</text></a><!--MD5=[a0d7907bd21019aea597ea09a2f0a723]\n",
       "@startuml\r\n",
       "skinparam ranksep 8\r\n",
       "skinparam rectangle {\r\n",
       " backgroundColor<<block>> LightGreen\r\n",
       "}\r\n",
       " \r\n",
       "package \"RequirementTest\" as E1  [[psysml:8aa028f5-1693-4b51-bff2-c94d0f18c930 ]]  {\r\n",
       "def \"C\" as E2  <<(T,blue)constraint def>> [[psysml:27c2a771-07cf-4bde-9591-6030a1a15742 ]] \r\n",
       "rec usage \"c: C\" as E3  <<(T,blue)constraint>> [[psysml:da02b217-f155-4220-a2dc-d840d0d24f86 ]] {\r\n",
       "}\r\n",
       "def \"R\" as E4  <<(T,blue)requirement def>> [[psysml:b9a9d178-6ba0-415d-80bd-8d7e5aacf32f ]] \r\n",
       "def \"R1\" as E5  <<(T,blue)requirement def>> [[psysml:291c6c45-8332-45a6-809f-574961a49898 ]] \r\n",
       "rec usage \"p\" as E6  [[psysml:b7118396-8822-4234-af4f-531e34fd2b85 ]] {\r\n",
       "}\r\n",
       "rec usage \"q\" as E7  [[psysml:5710aa92-7822-41e6-89ae-9d2d61cb8bf3 ]] {\r\n",
       "rec usage \"r: R\" as E8  <<(T,blue)requirement>> [[psysml:b72900fb-e3ca-4439-ac22-acb3bf892de5 ]] {\r\n",
       "rec usage \"subj\" as E9  <<(T,blue)reference>> [[psysml:b3b786b4-2056-4ded-a351-3a90cb9a49e0 ]] {\r\n",
       "}\r\n",
       "}\r\n",
       "}\r\n",
       "E8 ..> E6 [[psysml:11f1a2a5-a4e7-4875-8b16-7052fd317758 ]] : <<satisfy>>\r\n",
       "}\r\n",
       "@enduml\r\n",
       "\n",
       "PlantUML version 1.2020.13(Sat Jun 13 12:26:38 UTC 2020)\n",
       "(EPL source distribution)\n",
       "Java Runtime: OpenJDK Runtime Environment\n",
       "JVM: OpenJDK 64-Bit Server VM\n",
       "Default Encoding: UTF-8\n",
       "Language: en\n",
       "Country: null\n",
       "--></g></svg>"
      ]
     },
     "execution_count": 5,
     "metadata": {},
     "output_type": "execute_result"
    }
   ],
   "source": [
    "%viz --style=\"COMPTREE\" --view=\"Interconnection\" \"RequirementTest\""
   ]
  },
  {
   "cell_type": "code",
   "execution_count": 6,
   "id": "inside-expert",
   "metadata": {
    "execution": {
     "iopub.execute_input": "2021-03-26T09:12:26.373513Z",
     "iopub.status.busy": "2021-03-26T09:12:26.372188Z",
     "iopub.status.idle": "2021-03-26T09:12:26.391913Z",
     "shell.execute_reply": "2021-03-26T09:12:26.384631Z"
    }
   },
   "outputs": [
    {
     "data": {
      "image/svg+xml": [
       "<?xml version=\"1.0\" encoding=\"UTF-8\" standalone=\"no\"?><svg xmlns=\"http://www.w3.org/2000/svg\" xmlns:xlink=\"http://www.w3.org/1999/xlink\" contentScriptType=\"application/ecmascript\" contentStyleType=\"text/css\" height=\"12px\" preserveAspectRatio=\"none\" style=\"width:12px;height:12px;\" version=\"1.1\" viewBox=\"0 0 12 12\" width=\"12px\" zoomAndPan=\"magnify\"><defs/><g><!--MD5=[6a4cb978cab31700e1ce5529f947a75d]\n",
       "@startuml\r\n",
       "skinparam ranksep 8\r\n",
       " \r\n",
       "@enduml\r\n",
       "\n",
       "PlantUML version 1.2020.13(Sat Jun 13 12:26:38 UTC 2020)\n",
       "(EPL source distribution)\n",
       "Java Runtime: OpenJDK Runtime Environment\n",
       "JVM: OpenJDK 64-Bit Server VM\n",
       "Default Encoding: UTF-8\n",
       "Language: en\n",
       "Country: null\n",
       "--></g></svg>"
      ]
     },
     "execution_count": 6,
     "metadata": {},
     "output_type": "execute_result"
    }
   ],
   "source": [
    "%viz --style=\"COMPTREE\" --view=\"Action\" \"RequirementTest\""
   ]
  },
  {
   "cell_type": "code",
   "execution_count": 7,
   "id": "enhanced-lotus",
   "metadata": {
    "execution": {
     "iopub.execute_input": "2021-03-26T09:12:26.444490Z",
     "iopub.status.busy": "2021-03-26T09:12:26.443993Z",
     "iopub.status.idle": "2021-03-26T09:12:26.573324Z",
     "shell.execute_reply": "2021-03-26T09:12:26.573754Z"
    }
   },
   "outputs": [
    {
     "data": {
      "image/svg+xml": [
       "<?xml version=\"1.0\" encoding=\"UTF-8\" standalone=\"no\"?><svg xmlns=\"http://www.w3.org/2000/svg\" xmlns:xlink=\"http://www.w3.org/1999/xlink\" contentScriptType=\"application/ecmascript\" contentStyleType=\"text/css\" height=\"578px\" preserveAspectRatio=\"none\" style=\"width:460px;height:578px;\" version=\"1.1\" viewBox=\"0 0 460 578\" width=\"460px\" zoomAndPan=\"magnify\"><defs><filter height=\"300%\" id=\"f1650r3lox8nz4\" width=\"300%\" x=\"-1\" y=\"-1\"><feGaussianBlur result=\"blurOut\" stdDeviation=\"2.0\"/><feColorMatrix in=\"blurOut\" result=\"blurOut2\" type=\"matrix\" values=\"0 0 0 0 0 0 0 0 0 0 0 0 0 0 0 0 0 0 .4 0\"/><feOffset dx=\"4.0\" dy=\"4.0\" in=\"blurOut2\" result=\"blurOut3\"/><feBlend in=\"SourceGraphic\" in2=\"blurOut3\" mode=\"normal\"/></filter></defs><g><!--MD5=[fbc87193dbaf4d95561dea2c320d4a47]\n",
       "cluster E1--><a href=\"psysml:8aa028f5-1693-4b51-bff2-c94d0f18c930\" target=\"_top\" title=\"psysml:8aa028f5-1693-4b51-bff2-c94d0f18c930\" xlink:actuate=\"onRequest\" xlink:href=\"psysml:8aa028f5-1693-4b51-bff2-c94d0f18c930\" xlink:show=\"new\" xlink:title=\"psysml:8aa028f5-1693-4b51-bff2-c94d0f18c930\" xlink:type=\"simple\"><polygon fill=\"#FFFFFF\" filter=\"url(#f1650r3lox8nz4)\" points=\"16,6,158,6,165,28.2969,438,28.2969,438,566,16,566,16,6\" style=\"stroke: #000000; stroke-width: 1.5;\"/><line style=\"stroke: #000000; stroke-width: 1.5;\" x1=\"16\" x2=\"165\" y1=\"28.2969\" y2=\"28.2969\"/><text fill=\"#000000\" font-family=\"sans-serif\" font-size=\"14\" font-weight=\"bold\" lengthAdjust=\"spacingAndGlyphs\" textLength=\"136\" x=\"20\" y=\"20.9951\">RequirementTest</text></a><!--MD5=[b4997ac47864f28c2f74865a473b2911]\n",
       "class E2--><a href=\"psysml:27c2a771-07cf-4bde-9591-6030a1a15742\" target=\"_top\" title=\"psysml:27c2a771-07cf-4bde-9591-6030a1a15742\" xlink:actuate=\"onRequest\" xlink:href=\"psysml:27c2a771-07cf-4bde-9591-6030a1a15742\" xlink:show=\"new\" xlink:title=\"psysml:27c2a771-07cf-4bde-9591-6030a1a15742\" xlink:type=\"simple\"><rect fill=\"#FEFECE\" filter=\"url(#f1650r3lox8nz4)\" height=\"45.9375\" id=\"E2\" style=\"stroke: #A80036; stroke-width: 1.5;\" width=\"130\" x=\"292\" y=\"190\"/><ellipse cx=\"307\" cy=\"208.9688\" fill=\"#0000FF\" rx=\"11\" ry=\"11\" style=\"stroke: #A80036; stroke-width: 1.0;\"/><path d=\"M307.8438,215.7188 L305.3906,215.7188 L305.3906,205.4688 L302.25,205.4688 L302.25,203.3281 L310.9844,203.3281 L310.9844,205.4688 L307.8438,205.4688 L307.8438,215.7188 Z \"/><text fill=\"#000000\" font-family=\"sans-serif\" font-size=\"12\" font-style=\"italic\" lengthAdjust=\"spacingAndGlyphs\" textLength=\"102\" x=\"319\" y=\"206.1387\">«constraint def»</text><text fill=\"#000000\" font-family=\"sans-serif\" font-size=\"12\" lengthAdjust=\"spacingAndGlyphs\" textLength=\"8\" x=\"366\" y=\"220.1074\">C</text><line style=\"stroke: #A80036; stroke-width: 1.5;\" x1=\"293\" x2=\"421\" y1=\"227.9375\" y2=\"227.9375\"/></a><!--MD5=[09b614a08d8cba4a07c9adeb5e0fee81]\n",
       "class E3--><a href=\"psysml:da02b217-f155-4220-a2dc-d840d0d24f86\" target=\"_top\" title=\"psysml:da02b217-f155-4220-a2dc-d840d0d24f86\" xlink:actuate=\"onRequest\" xlink:href=\"psysml:da02b217-f155-4220-a2dc-d840d0d24f86\" xlink:show=\"new\" xlink:title=\"psysml:da02b217-f155-4220-a2dc-d840d0d24f86\" xlink:type=\"simple\"><rect fill=\"#FEFECE\" filter=\"url(#f1650r3lox8nz4)\" height=\"45.9375\" id=\"E3\" rx=\"10\" ry=\"10\" style=\"stroke: #A80036; stroke-width: 1.5;\" width=\"106\" x=\"316\" y=\"62\"/><ellipse cx=\"331\" cy=\"80.9688\" fill=\"#0000FF\" rx=\"11\" ry=\"11\" style=\"stroke: #A80036; stroke-width: 1.0;\"/><path d=\"M331.8438,87.7188 L329.3906,87.7188 L329.3906,77.4688 L326.25,77.4688 L326.25,75.3281 L334.9844,75.3281 L334.9844,77.4688 L331.8438,77.4688 L331.8438,87.7188 Z \"/><text fill=\"#000000\" font-family=\"sans-serif\" font-size=\"12\" font-style=\"italic\" lengthAdjust=\"spacingAndGlyphs\" textLength=\"78\" x=\"343\" y=\"78.1387\">«constraint»</text><text fill=\"#000000\" font-family=\"sans-serif\" font-size=\"12\" lengthAdjust=\"spacingAndGlyphs\" textLength=\"23\" x=\"370.5\" y=\"92.1074\">c: C</text><line style=\"stroke: #A80036; stroke-width: 1.5;\" x1=\"317\" x2=\"421\" y1=\"99.9375\" y2=\"99.9375\"/></a><!--MD5=[ebbe1d658d1005bcc118a6aa81145e00]\n",
       "class E4--><a href=\"psysml:b9a9d178-6ba0-415d-80bd-8d7e5aacf32f\" target=\"_top\" title=\"psysml:b9a9d178-6ba0-415d-80bd-8d7e5aacf32f\" xlink:actuate=\"onRequest\" xlink:href=\"psysml:b9a9d178-6ba0-415d-80bd-8d7e5aacf32f\" xlink:show=\"new\" xlink:title=\"psysml:b9a9d178-6ba0-415d-80bd-8d7e5aacf32f\" xlink:type=\"simple\"><rect fill=\"#FEFECE\" filter=\"url(#f1650r3lox8nz4)\" height=\"109.1563\" id=\"E4\" style=\"stroke: #A80036; stroke-width: 1.5;\" width=\"143\" x=\"32.5\" y=\"313\"/><ellipse cx=\"47.5\" cy=\"331.9688\" fill=\"#0000FF\" rx=\"11\" ry=\"11\" style=\"stroke: #A80036; stroke-width: 1.0;\"/><path d=\"M48.3438,338.7188 L45.8906,338.7188 L45.8906,328.4688 L42.75,328.4688 L42.75,326.3281 L51.4844,326.3281 L51.4844,328.4688 L48.3438,328.4688 L48.3438,338.7188 Z \"/><text fill=\"#000000\" font-family=\"sans-serif\" font-size=\"12\" font-style=\"italic\" lengthAdjust=\"spacingAndGlyphs\" textLength=\"115\" x=\"59.5\" y=\"329.1387\">«requirement def»</text><text fill=\"#000000\" font-family=\"sans-serif\" font-size=\"12\" lengthAdjust=\"spacingAndGlyphs\" textLength=\"8\" x=\"113\" y=\"343.1074\">R</text><line style=\"stroke: #A80036; stroke-width: 1.5;\" x1=\"33.5\" x2=\"174.5\" y1=\"350.9375\" y2=\"350.9375\"/><text fill=\"#000000\" font-family=\"sans-serif\" font-size=\"11\" lengthAdjust=\"spacingAndGlyphs\" textLength=\"0\" x=\"42.5\" y=\"365.1479\"/><line style=\"stroke: #A80036; stroke-width: 1.0;\" x1=\"33.5\" x2=\"174.5\" y1=\"371.7422\" y2=\"371.7422\"/><text fill=\"#000000\" font-family=\"sans-serif\" font-size=\"11\" font-weight=\"bold\" lengthAdjust=\"spacingAndGlyphs\" textLength=\"46\" x=\"38.5\" y=\"402.7573\">require</text><text fill=\"#000000\" font-family=\"sans-serif\" font-size=\"11\" lengthAdjust=\"spacingAndGlyphs\" textLength=\"6\" x=\"88.5\" y=\"402.7573\">c</text><text fill=\"#000000\" font-family=\"sans-serif\" font-size=\"11\" font-style=\"italic\" lengthAdjust=\"spacingAndGlyphs\" textLength=\"46\" x=\"38.5\" y=\"415.562\">assume</text><text fill=\"#000000\" font-family=\"sans-serif\" font-size=\"11\" lengthAdjust=\"spacingAndGlyphs\" textLength=\"29\" x=\"88.5\" y=\"415.562\">c1: C</text><line style=\"stroke: #A80036; stroke-width: 1.0;\" x1=\"33.5\" x2=\"72\" y1=\"386.1445\" y2=\"386.1445\"/><text fill=\"#000000\" font-family=\"sans-serif\" font-size=\"11\" lengthAdjust=\"spacingAndGlyphs\" textLength=\"64\" x=\"72\" y=\"389.4526\">constraints</text><line style=\"stroke: #A80036; stroke-width: 1.0;\" x1=\"136\" x2=\"174.5\" y1=\"386.1445\" y2=\"386.1445\"/></a><!--MD5=[270fce915f116d4de14055a7c1d9a0f3]\n",
       "class E5--><a href=\"psysml:5c4fbfc6-6feb-457a-9610-da755776e124\" target=\"_top\" title=\"psysml:5c4fbfc6-6feb-457a-9610-da755776e124\" xlink:actuate=\"onRequest\" xlink:href=\"psysml:5c4fbfc6-6feb-457a-9610-da755776e124\" xlink:show=\"new\" xlink:title=\"psysml:5c4fbfc6-6feb-457a-9610-da755776e124\" xlink:type=\"simple\"><rect fill=\"#FEFECE\" filter=\"url(#f1650r3lox8nz4)\" height=\"66.7422\" id=\"E5\" style=\"stroke: #A80036; stroke-width: 1.5;\" width=\"143\" x=\"32.5\" y=\"483\"/><ellipse cx=\"47.5\" cy=\"501.9688\" fill=\"#0000FF\" rx=\"11\" ry=\"11\" style=\"stroke: #A80036; stroke-width: 1.0;\"/><path d=\"M48.3438,508.7188 L45.8906,508.7188 L45.8906,498.4688 L42.75,498.4688 L42.75,496.3281 L51.4844,496.3281 L51.4844,498.4688 L48.3438,498.4688 L48.3438,508.7188 Z \"/><text fill=\"#000000\" font-family=\"sans-serif\" font-size=\"12\" font-style=\"italic\" lengthAdjust=\"spacingAndGlyphs\" textLength=\"115\" x=\"59.5\" y=\"499.1387\">«requirement def»</text><text fill=\"#000000\" font-family=\"sans-serif\" font-size=\"12\" lengthAdjust=\"spacingAndGlyphs\" textLength=\"5\" x=\"104\" y=\"513.1074\">[</text><text fill=\"#000000\" font-family=\"sans-serif\" font-size=\"12\" font-weight=\"bold\" lengthAdjust=\"spacingAndGlyphs\" textLength=\"8\" x=\"109\" y=\"513.1074\">1</text><text fill=\"#000000\" font-family=\"sans-serif\" font-size=\"12\" lengthAdjust=\"spacingAndGlyphs\" textLength=\"17\" x=\"117\" y=\"513.1074\">] A</text><line style=\"stroke: #A80036; stroke-width: 1.5;\" x1=\"33.5\" x2=\"174.5\" y1=\"520.9375\" y2=\"520.9375\"/><text fill=\"#000000\" font-family=\"sans-serif\" font-size=\"11\" lengthAdjust=\"spacingAndGlyphs\" textLength=\"24\" x=\"38.5\" y=\"535.1479\">Text</text><line style=\"stroke: #A80036; stroke-width: 1.0;\" x1=\"33.5\" x2=\"174.5\" y1=\"541.7422\" y2=\"541.7422\"/></a><!--MD5=[b9389687b975829384b498ac4b7476b2]\n",
       "class E8--><a href=\"psysml:577c6bec-7675-4e65-a136-10b226b9020a\" target=\"_top\" title=\"psysml:577c6bec-7675-4e65-a136-10b226b9020a\" xlink:actuate=\"onRequest\" xlink:href=\"psysml:577c6bec-7675-4e65-a136-10b226b9020a\" xlink:show=\"new\" xlink:title=\"psysml:577c6bec-7675-4e65-a136-10b226b9020a\" xlink:type=\"simple\"><rect fill=\"#FEFECE\" filter=\"url(#f1650r3lox8nz4)\" height=\"45.9375\" id=\"E8\" rx=\"10\" ry=\"10\" style=\"stroke: #A80036; stroke-width: 1.5;\" width=\"119\" x=\"210.5\" y=\"493.5\"/><ellipse cx=\"225.5\" cy=\"512.4688\" fill=\"#0000FF\" rx=\"11\" ry=\"11\" style=\"stroke: #A80036; stroke-width: 1.0;\"/><path d=\"M226.3438,519.2188 L223.8906,519.2188 L223.8906,508.9688 L220.75,508.9688 L220.75,506.8281 L229.4844,506.8281 L229.4844,508.9688 L226.3438,508.9688 L226.3438,519.2188 Z \"/><text fill=\"#000000\" font-family=\"sans-serif\" font-size=\"12\" font-style=\"italic\" lengthAdjust=\"spacingAndGlyphs\" textLength=\"91\" x=\"237.5\" y=\"509.6387\">«requirement»</text><text fill=\"#000000\" font-family=\"sans-serif\" font-size=\"12\" lengthAdjust=\"spacingAndGlyphs\" text-decoration=\"line-through\" textLength=\"51\" x=\"257.5\" y=\"523.6074\">noname</text><line style=\"stroke: #A80036; stroke-width: 1.5;\" x1=\"211.5\" x2=\"328.5\" y1=\"531.4375\" y2=\"531.4375\"/></a><!--MD5=[fd4143e9d270a159db93a4ea2a975926]\n",
       "class E9--><a href=\"psysml:291c6c45-8332-45a6-809f-574961a49898\" target=\"_top\" title=\"psysml:291c6c45-8332-45a6-809f-574961a49898\" xlink:actuate=\"onRequest\" xlink:href=\"psysml:291c6c45-8332-45a6-809f-574961a49898\" xlink:show=\"new\" xlink:title=\"psysml:291c6c45-8332-45a6-809f-574961a49898\" xlink:type=\"simple\"><rect fill=\"#FEFECE\" filter=\"url(#f1650r3lox8nz4)\" height=\"88.3516\" id=\"E9\" style=\"stroke: #A80036; stroke-width: 1.5;\" width=\"145\" x=\"135.5\" y=\"41\"/><ellipse cx=\"151.4\" cy=\"59.9688\" fill=\"#0000FF\" rx=\"11\" ry=\"11\" style=\"stroke: #A80036; stroke-width: 1.0;\"/><path d=\"M152.2438,66.7188 L149.7906,66.7188 L149.7906,56.4688 L146.65,56.4688 L146.65,54.3281 L155.3844,54.3281 L155.3844,56.4688 L152.2438,56.4688 L152.2438,66.7188 Z \"/><text fill=\"#000000\" font-family=\"sans-serif\" font-size=\"12\" font-style=\"italic\" lengthAdjust=\"spacingAndGlyphs\" textLength=\"115\" x=\"163.6\" y=\"57.1387\">«requirement def»</text><text fill=\"#000000\" font-family=\"sans-serif\" font-size=\"12\" lengthAdjust=\"spacingAndGlyphs\" textLength=\"16\" x=\"213.1\" y=\"71.1074\">R1</text><line style=\"stroke: #A80036; stroke-width: 1.5;\" x1=\"136.5\" x2=\"279.5\" y1=\"78.9375\" y2=\"78.9375\"/><text fill=\"#000000\" font-family=\"sans-serif\" font-size=\"11\" font-weight=\"bold\" lengthAdjust=\"spacingAndGlyphs\" textLength=\"46\" x=\"141.5\" y=\"109.9526\">require</text><text fill=\"#000000\" font-family=\"sans-serif\" font-size=\"11\" lengthAdjust=\"spacingAndGlyphs\" textLength=\"13\" x=\"191.5\" y=\"109.9526\">c1</text><text fill=\"#000000\" font-family=\"sans-serif\" font-size=\"11\" font-style=\"italic\" lengthAdjust=\"spacingAndGlyphs\" textLength=\"133\" x=\"141.5\" y=\"122.7573\">:&gt;&gt;RequirementTest::c</text><line style=\"stroke: #A80036; stroke-width: 1.0;\" x1=\"136.5\" x2=\"176\" y1=\"93.3398\" y2=\"93.3398\"/><text fill=\"#000000\" font-family=\"sans-serif\" font-size=\"11\" lengthAdjust=\"spacingAndGlyphs\" textLength=\"64\" x=\"176\" y=\"96.6479\">constraints</text><line style=\"stroke: #A80036; stroke-width: 1.0;\" x1=\"240\" x2=\"279.5\" y1=\"93.3398\" y2=\"93.3398\"/></a><!--MD5=[1dd1bfd58a279cf63c5f349dbc8fc6a1]\n",
       "class E11--><a href=\"psysml:b7118396-8822-4234-af4f-531e34fd2b85\" target=\"_top\" title=\"psysml:b7118396-8822-4234-af4f-531e34fd2b85\" xlink:actuate=\"onRequest\" xlink:href=\"psysml:b7118396-8822-4234-af4f-531e34fd2b85\" xlink:show=\"new\" xlink:title=\"psysml:b7118396-8822-4234-af4f-531e34fd2b85\" xlink:type=\"simple\"><rect fill=\"#FEFECE\" filter=\"url(#f1650r3lox8nz4)\" height=\"45.9375\" id=\"E11\" rx=\"10\" ry=\"10\" style=\"stroke: #A80036; stroke-width: 1.5;\" width=\"68\" x=\"211\" y=\"344.5\"/><ellipse cx=\"226\" cy=\"363.4688\" fill=\"#0000FF\" rx=\"11\" ry=\"11\" style=\"stroke: #A80036; stroke-width: 1.0;\"/><path d=\"M226.8438,370.2188 L224.3906,370.2188 L224.3906,359.9688 L221.25,359.9688 L221.25,357.8281 L229.9844,357.8281 L229.9844,359.9688 L226.8438,359.9688 L226.8438,370.2188 Z \"/><text fill=\"#000000\" font-family=\"sans-serif\" font-size=\"12\" font-style=\"italic\" lengthAdjust=\"spacingAndGlyphs\" textLength=\"40\" x=\"238\" y=\"360.6387\">«part»</text><text fill=\"#000000\" font-family=\"sans-serif\" font-size=\"12\" lengthAdjust=\"spacingAndGlyphs\" textLength=\"8\" x=\"254\" y=\"374.6074\">p</text><line style=\"stroke: #A80036; stroke-width: 1.5;\" x1=\"212\" x2=\"278\" y1=\"382.4375\" y2=\"382.4375\"/></a><!--MD5=[49a0ec8f00dab7302a31f22d0f0fe584]\n",
       "class E12--><a href=\"psysml:5710aa92-7822-41e6-89ae-9d2d61cb8bf3\" target=\"_top\" title=\"psysml:5710aa92-7822-41e6-89ae-9d2d61cb8bf3\" xlink:actuate=\"onRequest\" xlink:href=\"psysml:5710aa92-7822-41e6-89ae-9d2d61cb8bf3\" xlink:show=\"new\" xlink:title=\"psysml:5710aa92-7822-41e6-89ae-9d2d61cb8bf3\" xlink:type=\"simple\"><rect fill=\"#FEFECE\" filter=\"url(#f1650r3lox8nz4)\" height=\"45.9375\" id=\"E12\" rx=\"10\" ry=\"10\" style=\"stroke: #A80036; stroke-width: 1.5;\" width=\"68\" x=\"32\" y=\"62\"/><ellipse cx=\"47\" cy=\"80.9688\" fill=\"#0000FF\" rx=\"11\" ry=\"11\" style=\"stroke: #A80036; stroke-width: 1.0;\"/><path d=\"M47.8438,87.7188 L45.3906,87.7188 L45.3906,77.4688 L42.25,77.4688 L42.25,75.3281 L50.9844,75.3281 L50.9844,77.4688 L47.8438,77.4688 L47.8438,87.7188 Z \"/><text fill=\"#000000\" font-family=\"sans-serif\" font-size=\"12\" font-style=\"italic\" lengthAdjust=\"spacingAndGlyphs\" textLength=\"40\" x=\"59\" y=\"78.1387\">«part»</text><text fill=\"#000000\" font-family=\"sans-serif\" font-size=\"12\" lengthAdjust=\"spacingAndGlyphs\" textLength=\"8\" x=\"75\" y=\"92.1074\">q</text><line style=\"stroke: #A80036; stroke-width: 1.5;\" x1=\"33\" x2=\"99\" y1=\"99.9375\" y2=\"99.9375\"/></a><!--MD5=[ee3c913d1a06f366521f9ef512b67efe]\n",
       "class E13--><a href=\"psysml:b72900fb-e3ca-4439-ac22-acb3bf892de5\" target=\"_top\" title=\"psysml:b72900fb-e3ca-4439-ac22-acb3bf892de5\" xlink:actuate=\"onRequest\" xlink:href=\"psysml:b72900fb-e3ca-4439-ac22-acb3bf892de5\" xlink:show=\"new\" xlink:title=\"psysml:b72900fb-e3ca-4439-ac22-acb3bf892de5\" xlink:type=\"simple\"><rect fill=\"#FEFECE\" filter=\"url(#f1650r3lox8nz4)\" height=\"45.9375\" id=\"E13\" rx=\"10\" ry=\"10\" style=\"stroke: #A80036; stroke-width: 1.5;\" width=\"119\" x=\"44.5\" y=\"190\"/><ellipse cx=\"59.5\" cy=\"208.9688\" fill=\"#0000FF\" rx=\"11\" ry=\"11\" style=\"stroke: #A80036; stroke-width: 1.0;\"/><path d=\"M60.3438,215.7188 L57.8906,215.7188 L57.8906,205.4688 L54.75,205.4688 L54.75,203.3281 L63.4844,203.3281 L63.4844,205.4688 L60.3438,205.4688 L60.3438,215.7188 Z \"/><text fill=\"#000000\" font-family=\"sans-serif\" font-size=\"12\" font-style=\"italic\" lengthAdjust=\"spacingAndGlyphs\" textLength=\"91\" x=\"71.5\" y=\"206.1387\">«requirement»</text><text fill=\"#000000\" font-family=\"sans-serif\" font-size=\"12\" lengthAdjust=\"spacingAndGlyphs\" textLength=\"21\" x=\"106.5\" y=\"220.1074\">r: R</text><line style=\"stroke: #A80036; stroke-width: 1.5;\" x1=\"45.5\" x2=\"162.5\" y1=\"227.9375\" y2=\"227.9375\"/></a><!--MD5=[05d275557350bfb9b23a4ef7222b4c39]\n",
       "link E3 to E2--><a href=\"psysml:8b4534c8-c65f-4721-aa95-1aefa1ee4858\" target=\"_top\" title=\"psysml:8b4534c8-c65f-4721-aa95-1aefa1ee4858\" xlink:actuate=\"onRequest\" xlink:href=\"psysml:8b4534c8-c65f-4721-aa95-1aefa1ee4858\" xlink:show=\"new\" xlink:title=\"psysml:8b4534c8-c65f-4721-aa95-1aefa1ee4858\" xlink:type=\"simple\"><path d=\"M366.88,108.24 C365.26,125.24 362.98,149.19 361.02,169.79 \" fill=\"none\" id=\"E3-&gt;E2\" style=\"stroke: #A80036; stroke-width: 1.0;\"/><polygon fill=\"#FFFFFF\" points=\"359.1,189.99,353.9362,170.411,367.8729,171.7407,359.1,189.99\" style=\"stroke: #A80036; stroke-width: 1.0;\"/><ellipse cx=\"356.4685\" cy=\"164.9268\" fill=\"#A80036\" rx=\"2\" ry=\"2\" style=\"stroke: #A80036; stroke-width: 1.0;\"/><ellipse cx=\"366.4233\" cy=\"165.8765\" fill=\"#A80036\" rx=\"2\" ry=\"2\" style=\"stroke: #A80036; stroke-width: 1.0;\"/></a><!--MD5=[62aa6af11e70f752912c1cb0466f24f7]\n",
       "reverse link E4 to E5--><a href=\"psysml:5c4fbfc6-6feb-457a-9610-da755776e124\" target=\"_top\" title=\"psysml:5c4fbfc6-6feb-457a-9610-da755776e124\" xlink:actuate=\"onRequest\" xlink:href=\"psysml:5c4fbfc6-6feb-457a-9610-da755776e124\" xlink:show=\"new\" xlink:title=\"psysml:5c4fbfc6-6feb-457a-9610-da755776e124\" xlink:type=\"simple\"><path d=\"M104,437.45 C104,453.34 104,469.51 104,482.98 \" fill=\"none\" id=\"E4&lt;-E5\" style=\"stroke: #A80036; stroke-width: 1.0;\"/><ellipse cx=\"104\" cy=\"430.4\" fill=\"#FFFFFF\" rx=\"8\" ry=\"8\" style=\"stroke: #A80036; stroke-width: 1.0;\"/><line style=\"stroke: #A80036; stroke-width: 1.0;\" x1=\"104\" x2=\"104\" y1=\"438.4\" y2=\"422.4\"/><line style=\"stroke: #A80036; stroke-width: 1.0;\" x1=\"96\" x2=\"112\" y1=\"430.4\" y2=\"430.4\"/></a><!--MD5=[c6fc7cdb0cabde04948078cf183fa696]\n",
       "reverse link E4 to E8--><a href=\"psysml:577c6bec-7675-4e65-a136-10b226b9020a\" target=\"_top\" title=\"psysml:577c6bec-7675-4e65-a136-10b226b9020a\" xlink:actuate=\"onRequest\" xlink:href=\"psysml:577c6bec-7675-4e65-a136-10b226b9020a\" xlink:show=\"new\" xlink:title=\"psysml:577c6bec-7675-4e65-a136-10b226b9020a\" xlink:type=\"simple\"><path d=\"M174.75,431.16 C199.83,453.36 226.43,476.92 245.13,493.48 \" fill=\"none\" id=\"E4&lt;-E8\" style=\"stroke: #A80036; stroke-width: 1.0;\"/><polygon fill=\"#A80036\" points=\"164.87,422.4,166.7154,429.371,173.86,430.3486,172.0145,423.3776,164.87,422.4\" style=\"stroke: #A80036; stroke-width: 1.0;\"/></a><!--MD5=[062ed86c389d1a88f61c6380d0491e17]\n",
       "reverse link E12 to E13--><a href=\"psysml:b72900fb-e3ca-4439-ac22-acb3bf892de5\" target=\"_top\" title=\"psysml:b72900fb-e3ca-4439-ac22-acb3bf892de5\" xlink:actuate=\"onRequest\" xlink:href=\"psysml:b72900fb-e3ca-4439-ac22-acb3bf892de5\" xlink:show=\"new\" xlink:title=\"psysml:b72900fb-e3ca-4439-ac22-acb3bf892de5\" xlink:type=\"simple\"><path d=\"M76.49,120.8 C83.17,142.92 91.6,170.89 97.36,189.99 \" fill=\"none\" id=\"E12&lt;-E13\" style=\"stroke: #A80036; stroke-width: 1.0;\"/><polygon fill=\"#A80036\" points=\"72.71,108.24,70.6129,115.1394,76.1751,119.7288,78.2722,112.8294,72.71,108.24\" style=\"stroke: #A80036; stroke-width: 1.0;\"/></a><!--MD5=[017847e01ff9a8bd19f247411074f987]\n",
       "link E13 to E4--><a href=\"psysml:ed6e641a-605b-4ed9-9064-d41509e7ab16\" target=\"_top\" title=\"psysml:ed6e641a-605b-4ed9-9064-d41509e7ab16\" xlink:actuate=\"onRequest\" xlink:href=\"psysml:ed6e641a-605b-4ed9-9064-d41509e7ab16\" xlink:show=\"new\" xlink:title=\"psysml:ed6e641a-605b-4ed9-9064-d41509e7ab16\" xlink:type=\"simple\"><path d=\"M104,236.17 C104,251.17 104,271.91 104,292.44 \" fill=\"none\" id=\"E13-&gt;E4\" style=\"stroke: #A80036; stroke-width: 1.0;\"/><polygon fill=\"#FFFFFF\" points=\"104,312.68,97,293.68,111,293.68,104,312.68\" style=\"stroke: #A80036; stroke-width: 1.0;\"/><ellipse cx=\"99\" cy=\"287.98\" fill=\"#A80036\" rx=\"2\" ry=\"2\" style=\"stroke: #A80036; stroke-width: 1.0;\"/><ellipse cx=\"109\" cy=\"287.98\" fill=\"#A80036\" rx=\"2\" ry=\"2\" style=\"stroke: #A80036; stroke-width: 1.0;\"/></a><!--MD5=[2cfe899c895462254056921bfb67315f]\n",
       "link E13 to E11--><a href=\"psysml:11f1a2a5-a4e7-4875-8b16-7052fd317758\" target=\"_top\" title=\"psysml:11f1a2a5-a4e7-4875-8b16-7052fd317758\" xlink:actuate=\"onRequest\" xlink:href=\"psysml:11f1a2a5-a4e7-4875-8b16-7052fd317758\" xlink:show=\"new\" xlink:title=\"psysml:11f1a2a5-a4e7-4875-8b16-7052fd317758\" xlink:type=\"simple\"><path d=\"M124.5,236.17 C150.09,263.85 193.77,311.09 220.92,340.45 \" fill=\"none\" id=\"E13-&gt;E11\" style=\"stroke: #A80036; stroke-width: 1.0; stroke-dasharray: 7.0,7.0;\"/><polygon fill=\"#A80036\" points=\"224.47,344.3,221.2896,334.9788,221.0727,340.6315,215.42,340.4145,224.47,344.3\" style=\"stroke: #A80036; stroke-width: 1.0;\"/><text fill=\"#000000\" font-family=\"sans-serif\" font-size=\"13\" lengthAdjust=\"spacingAndGlyphs\" textLength=\"57\" x=\"167\" y=\"279.0669\">«satisfy»</text></a><!--MD5=[62832a7dbdec9ff0ebc3d2043f4daf6f]\n",
       "@startuml\r\n",
       " \r\n",
       "package \"RequirementTest\" as E1  [[psysml:8aa028f5-1693-4b51-bff2-c94d0f18c930 ]]  {\r\n",
       "comp def \"C\" as E2  <<(T,blue)constraint def>> [[psysml:27c2a771-07cf-4bde-9591-6030a1a15742 ]] {\r\n",
       "}\r\n",
       "comp usage \"c: C\" as E3  <<(T,blue)constraint>> [[psysml:da02b217-f155-4220-a2dc-d840d0d24f86 ]] {\r\n",
       "}\r\n",
       "comp def \"R\" as E4  <<(T,blue)requirement def>> [[psysml:b9a9d178-6ba0-415d-80bd-8d7e5aacf32f ]] {\r\n",
       "\r\n",
       "- -\r\n",
       "- - constraints - -\r\n",
       "<b>require</b> c\r\n",
       "<i>assume</i> c1: C\r\n",
       "}\r\n",
       "comp def \" [<b>1</b>] A\" as E5  <<(T,blue)requirement def>> [[psysml:5c4fbfc6-6feb-457a-9610-da755776e124 ]] {\r\n",
       "Text\r\n",
       "- -\r\n",
       "}\r\n",
       "comp usage \"<s>noname</s>\" as E8  <<(T,blue)requirement>> [[psysml:577c6bec-7675-4e65-a136-10b226b9020a ]] {\r\n",
       "}\r\n",
       "comp def \"R1\" as E9  <<(T,blue)requirement def>> [[psysml:291c6c45-8332-45a6-809f-574961a49898 ]] {\r\n",
       "- - constraints - -\r\n",
       "<b>require</b> c1\\n//:>>RequirementTest::c// \r\n",
       "}\r\n",
       "comp usage \"p\" as E11  <<(T,blue)part>> [[psysml:b7118396-8822-4234-af4f-531e34fd2b85 ]] {\r\n",
       "}\r\n",
       "comp usage \"q\" as E12  <<(T,blue)part>> [[psysml:5710aa92-7822-41e6-89ae-9d2d61cb8bf3 ]] {\r\n",
       "}\r\n",
       "comp usage \"r: R\" as E13  <<(T,blue)requirement>> [[psysml:b72900fb-e3ca-4439-ac22-acb3bf892de5 ]] {\r\n",
       "}\r\n",
       "E3 - -:|> E2 [[psysml:8b4534c8-c65f-4721-aa95-1aefa1ee4858 ]] \r\n",
       "E4 +- - E5 [[psysml:5c4fbfc6-6feb-457a-9610-da755776e124 ]] \r\n",
       "E4 *- - E8 [[psysml:577c6bec-7675-4e65-a136-10b226b9020a ]] \r\n",
       "E12 *- - E13 [[psysml:b72900fb-e3ca-4439-ac22-acb3bf892de5 ]] \r\n",
       "E13 - -:|> E4 [[psysml:ed6e641a-605b-4ed9-9064-d41509e7ab16 ]] \r\n",
       "E13 ..> E11 [[psysml:11f1a2a5-a4e7-4875-8b16-7052fd317758 ]] : <<satisfy>>\r\n",
       "}\r\n",
       "@enduml\r\n",
       "\n",
       "PlantUML version 1.2020.13(Sat Jun 13 12:26:38 UTC 2020)\n",
       "(EPL source distribution)\n",
       "Java Runtime: OpenJDK Runtime Environment\n",
       "JVM: OpenJDK 64-Bit Server VM\n",
       "Default Encoding: UTF-8\n",
       "Language: en\n",
       "Country: null\n",
       "--></g></svg>"
      ]
     },
     "execution_count": 7,
     "metadata": {},
     "output_type": "execute_result"
    }
   ],
   "source": [
    "%viz --style=\"COMPTREE\" --view=\"Sequence\" \"RequirementTest\""
   ]
  },
  {
   "cell_type": "code",
   "execution_count": 8,
   "id": "passive-emission",
   "metadata": {
    "execution": {
     "iopub.execute_input": "2021-03-26T09:12:26.625922Z",
     "iopub.status.busy": "2021-03-26T09:12:26.625309Z",
     "iopub.status.idle": "2021-03-26T09:12:26.740735Z",
     "shell.execute_reply": "2021-03-26T09:12:26.741057Z"
    }
   },
   "outputs": [
    {
     "data": {
      "image/svg+xml": [
       "<?xml version=\"1.0\" encoding=\"UTF-8\" standalone=\"no\"?><svg xmlns=\"http://www.w3.org/2000/svg\" xmlns:xlink=\"http://www.w3.org/1999/xlink\" contentScriptType=\"application/ecmascript\" contentStyleType=\"text/css\" height=\"578px\" preserveAspectRatio=\"none\" style=\"width:460px;height:578px;\" version=\"1.1\" viewBox=\"0 0 460 578\" width=\"460px\" zoomAndPan=\"magnify\"><defs><filter height=\"300%\" id=\"f1650r3lox8nz4\" width=\"300%\" x=\"-1\" y=\"-1\"><feGaussianBlur result=\"blurOut\" stdDeviation=\"2.0\"/><feColorMatrix in=\"blurOut\" result=\"blurOut2\" type=\"matrix\" values=\"0 0 0 0 0 0 0 0 0 0 0 0 0 0 0 0 0 0 .4 0\"/><feOffset dx=\"4.0\" dy=\"4.0\" in=\"blurOut2\" result=\"blurOut3\"/><feBlend in=\"SourceGraphic\" in2=\"blurOut3\" mode=\"normal\"/></filter></defs><g><!--MD5=[fbc87193dbaf4d95561dea2c320d4a47]\n",
       "cluster E1--><a href=\"psysml:8aa028f5-1693-4b51-bff2-c94d0f18c930\" target=\"_top\" title=\"psysml:8aa028f5-1693-4b51-bff2-c94d0f18c930\" xlink:actuate=\"onRequest\" xlink:href=\"psysml:8aa028f5-1693-4b51-bff2-c94d0f18c930\" xlink:show=\"new\" xlink:title=\"psysml:8aa028f5-1693-4b51-bff2-c94d0f18c930\" xlink:type=\"simple\"><polygon fill=\"#FFFFFF\" filter=\"url(#f1650r3lox8nz4)\" points=\"16,6,158,6,165,28.2969,438,28.2969,438,566,16,566,16,6\" style=\"stroke: #000000; stroke-width: 1.5;\"/><line style=\"stroke: #000000; stroke-width: 1.5;\" x1=\"16\" x2=\"165\" y1=\"28.2969\" y2=\"28.2969\"/><text fill=\"#000000\" font-family=\"sans-serif\" font-size=\"14\" font-weight=\"bold\" lengthAdjust=\"spacingAndGlyphs\" textLength=\"136\" x=\"20\" y=\"20.9951\">RequirementTest</text></a><!--MD5=[b4997ac47864f28c2f74865a473b2911]\n",
       "class E2--><a href=\"psysml:27c2a771-07cf-4bde-9591-6030a1a15742\" target=\"_top\" title=\"psysml:27c2a771-07cf-4bde-9591-6030a1a15742\" xlink:actuate=\"onRequest\" xlink:href=\"psysml:27c2a771-07cf-4bde-9591-6030a1a15742\" xlink:show=\"new\" xlink:title=\"psysml:27c2a771-07cf-4bde-9591-6030a1a15742\" xlink:type=\"simple\"><rect fill=\"#FEFECE\" filter=\"url(#f1650r3lox8nz4)\" height=\"45.9375\" id=\"E2\" style=\"stroke: #A80036; stroke-width: 1.5;\" width=\"130\" x=\"292\" y=\"190\"/><ellipse cx=\"307\" cy=\"208.9688\" fill=\"#0000FF\" rx=\"11\" ry=\"11\" style=\"stroke: #A80036; stroke-width: 1.0;\"/><path d=\"M307.8438,215.7188 L305.3906,215.7188 L305.3906,205.4688 L302.25,205.4688 L302.25,203.3281 L310.9844,203.3281 L310.9844,205.4688 L307.8438,205.4688 L307.8438,215.7188 Z \"/><text fill=\"#000000\" font-family=\"sans-serif\" font-size=\"12\" font-style=\"italic\" lengthAdjust=\"spacingAndGlyphs\" textLength=\"102\" x=\"319\" y=\"206.1387\">«constraint def»</text><text fill=\"#000000\" font-family=\"sans-serif\" font-size=\"12\" lengthAdjust=\"spacingAndGlyphs\" textLength=\"8\" x=\"366\" y=\"220.1074\">C</text><line style=\"stroke: #A80036; stroke-width: 1.5;\" x1=\"293\" x2=\"421\" y1=\"227.9375\" y2=\"227.9375\"/></a><!--MD5=[09b614a08d8cba4a07c9adeb5e0fee81]\n",
       "class E3--><a href=\"psysml:da02b217-f155-4220-a2dc-d840d0d24f86\" target=\"_top\" title=\"psysml:da02b217-f155-4220-a2dc-d840d0d24f86\" xlink:actuate=\"onRequest\" xlink:href=\"psysml:da02b217-f155-4220-a2dc-d840d0d24f86\" xlink:show=\"new\" xlink:title=\"psysml:da02b217-f155-4220-a2dc-d840d0d24f86\" xlink:type=\"simple\"><rect fill=\"#FEFECE\" filter=\"url(#f1650r3lox8nz4)\" height=\"45.9375\" id=\"E3\" rx=\"10\" ry=\"10\" style=\"stroke: #A80036; stroke-width: 1.5;\" width=\"106\" x=\"316\" y=\"62\"/><ellipse cx=\"331\" cy=\"80.9688\" fill=\"#0000FF\" rx=\"11\" ry=\"11\" style=\"stroke: #A80036; stroke-width: 1.0;\"/><path d=\"M331.8438,87.7188 L329.3906,87.7188 L329.3906,77.4688 L326.25,77.4688 L326.25,75.3281 L334.9844,75.3281 L334.9844,77.4688 L331.8438,77.4688 L331.8438,87.7188 Z \"/><text fill=\"#000000\" font-family=\"sans-serif\" font-size=\"12\" font-style=\"italic\" lengthAdjust=\"spacingAndGlyphs\" textLength=\"78\" x=\"343\" y=\"78.1387\">«constraint»</text><text fill=\"#000000\" font-family=\"sans-serif\" font-size=\"12\" lengthAdjust=\"spacingAndGlyphs\" textLength=\"23\" x=\"370.5\" y=\"92.1074\">c: C</text><line style=\"stroke: #A80036; stroke-width: 1.5;\" x1=\"317\" x2=\"421\" y1=\"99.9375\" y2=\"99.9375\"/></a><!--MD5=[ebbe1d658d1005bcc118a6aa81145e00]\n",
       "class E4--><a href=\"psysml:b9a9d178-6ba0-415d-80bd-8d7e5aacf32f\" target=\"_top\" title=\"psysml:b9a9d178-6ba0-415d-80bd-8d7e5aacf32f\" xlink:actuate=\"onRequest\" xlink:href=\"psysml:b9a9d178-6ba0-415d-80bd-8d7e5aacf32f\" xlink:show=\"new\" xlink:title=\"psysml:b9a9d178-6ba0-415d-80bd-8d7e5aacf32f\" xlink:type=\"simple\"><rect fill=\"#FEFECE\" filter=\"url(#f1650r3lox8nz4)\" height=\"109.1563\" id=\"E4\" style=\"stroke: #A80036; stroke-width: 1.5;\" width=\"143\" x=\"32.5\" y=\"313\"/><ellipse cx=\"47.5\" cy=\"331.9688\" fill=\"#0000FF\" rx=\"11\" ry=\"11\" style=\"stroke: #A80036; stroke-width: 1.0;\"/><path d=\"M48.3438,338.7188 L45.8906,338.7188 L45.8906,328.4688 L42.75,328.4688 L42.75,326.3281 L51.4844,326.3281 L51.4844,328.4688 L48.3438,328.4688 L48.3438,338.7188 Z \"/><text fill=\"#000000\" font-family=\"sans-serif\" font-size=\"12\" font-style=\"italic\" lengthAdjust=\"spacingAndGlyphs\" textLength=\"115\" x=\"59.5\" y=\"329.1387\">«requirement def»</text><text fill=\"#000000\" font-family=\"sans-serif\" font-size=\"12\" lengthAdjust=\"spacingAndGlyphs\" textLength=\"8\" x=\"113\" y=\"343.1074\">R</text><line style=\"stroke: #A80036; stroke-width: 1.5;\" x1=\"33.5\" x2=\"174.5\" y1=\"350.9375\" y2=\"350.9375\"/><text fill=\"#000000\" font-family=\"sans-serif\" font-size=\"11\" lengthAdjust=\"spacingAndGlyphs\" textLength=\"0\" x=\"42.5\" y=\"365.1479\"/><line style=\"stroke: #A80036; stroke-width: 1.0;\" x1=\"33.5\" x2=\"174.5\" y1=\"371.7422\" y2=\"371.7422\"/><text fill=\"#000000\" font-family=\"sans-serif\" font-size=\"11\" font-weight=\"bold\" lengthAdjust=\"spacingAndGlyphs\" textLength=\"46\" x=\"38.5\" y=\"402.7573\">require</text><text fill=\"#000000\" font-family=\"sans-serif\" font-size=\"11\" lengthAdjust=\"spacingAndGlyphs\" textLength=\"6\" x=\"88.5\" y=\"402.7573\">c</text><text fill=\"#000000\" font-family=\"sans-serif\" font-size=\"11\" font-style=\"italic\" lengthAdjust=\"spacingAndGlyphs\" textLength=\"46\" x=\"38.5\" y=\"415.562\">assume</text><text fill=\"#000000\" font-family=\"sans-serif\" font-size=\"11\" lengthAdjust=\"spacingAndGlyphs\" textLength=\"29\" x=\"88.5\" y=\"415.562\">c1: C</text><line style=\"stroke: #A80036; stroke-width: 1.0;\" x1=\"33.5\" x2=\"72\" y1=\"386.1445\" y2=\"386.1445\"/><text fill=\"#000000\" font-family=\"sans-serif\" font-size=\"11\" lengthAdjust=\"spacingAndGlyphs\" textLength=\"64\" x=\"72\" y=\"389.4526\">constraints</text><line style=\"stroke: #A80036; stroke-width: 1.0;\" x1=\"136\" x2=\"174.5\" y1=\"386.1445\" y2=\"386.1445\"/></a><!--MD5=[270fce915f116d4de14055a7c1d9a0f3]\n",
       "class E5--><a href=\"psysml:5c4fbfc6-6feb-457a-9610-da755776e124\" target=\"_top\" title=\"psysml:5c4fbfc6-6feb-457a-9610-da755776e124\" xlink:actuate=\"onRequest\" xlink:href=\"psysml:5c4fbfc6-6feb-457a-9610-da755776e124\" xlink:show=\"new\" xlink:title=\"psysml:5c4fbfc6-6feb-457a-9610-da755776e124\" xlink:type=\"simple\"><rect fill=\"#FEFECE\" filter=\"url(#f1650r3lox8nz4)\" height=\"66.7422\" id=\"E5\" style=\"stroke: #A80036; stroke-width: 1.5;\" width=\"143\" x=\"32.5\" y=\"483\"/><ellipse cx=\"47.5\" cy=\"501.9688\" fill=\"#0000FF\" rx=\"11\" ry=\"11\" style=\"stroke: #A80036; stroke-width: 1.0;\"/><path d=\"M48.3438,508.7188 L45.8906,508.7188 L45.8906,498.4688 L42.75,498.4688 L42.75,496.3281 L51.4844,496.3281 L51.4844,498.4688 L48.3438,498.4688 L48.3438,508.7188 Z \"/><text fill=\"#000000\" font-family=\"sans-serif\" font-size=\"12\" font-style=\"italic\" lengthAdjust=\"spacingAndGlyphs\" textLength=\"115\" x=\"59.5\" y=\"499.1387\">«requirement def»</text><text fill=\"#000000\" font-family=\"sans-serif\" font-size=\"12\" lengthAdjust=\"spacingAndGlyphs\" textLength=\"5\" x=\"104\" y=\"513.1074\">[</text><text fill=\"#000000\" font-family=\"sans-serif\" font-size=\"12\" font-weight=\"bold\" lengthAdjust=\"spacingAndGlyphs\" textLength=\"8\" x=\"109\" y=\"513.1074\">1</text><text fill=\"#000000\" font-family=\"sans-serif\" font-size=\"12\" lengthAdjust=\"spacingAndGlyphs\" textLength=\"17\" x=\"117\" y=\"513.1074\">] A</text><line style=\"stroke: #A80036; stroke-width: 1.5;\" x1=\"33.5\" x2=\"174.5\" y1=\"520.9375\" y2=\"520.9375\"/><text fill=\"#000000\" font-family=\"sans-serif\" font-size=\"11\" lengthAdjust=\"spacingAndGlyphs\" textLength=\"24\" x=\"38.5\" y=\"535.1479\">Text</text><line style=\"stroke: #A80036; stroke-width: 1.0;\" x1=\"33.5\" x2=\"174.5\" y1=\"541.7422\" y2=\"541.7422\"/></a><!--MD5=[b9389687b975829384b498ac4b7476b2]\n",
       "class E8--><a href=\"psysml:577c6bec-7675-4e65-a136-10b226b9020a\" target=\"_top\" title=\"psysml:577c6bec-7675-4e65-a136-10b226b9020a\" xlink:actuate=\"onRequest\" xlink:href=\"psysml:577c6bec-7675-4e65-a136-10b226b9020a\" xlink:show=\"new\" xlink:title=\"psysml:577c6bec-7675-4e65-a136-10b226b9020a\" xlink:type=\"simple\"><rect fill=\"#FEFECE\" filter=\"url(#f1650r3lox8nz4)\" height=\"45.9375\" id=\"E8\" rx=\"10\" ry=\"10\" style=\"stroke: #A80036; stroke-width: 1.5;\" width=\"119\" x=\"210.5\" y=\"493.5\"/><ellipse cx=\"225.5\" cy=\"512.4688\" fill=\"#0000FF\" rx=\"11\" ry=\"11\" style=\"stroke: #A80036; stroke-width: 1.0;\"/><path d=\"M226.3438,519.2188 L223.8906,519.2188 L223.8906,508.9688 L220.75,508.9688 L220.75,506.8281 L229.4844,506.8281 L229.4844,508.9688 L226.3438,508.9688 L226.3438,519.2188 Z \"/><text fill=\"#000000\" font-family=\"sans-serif\" font-size=\"12\" font-style=\"italic\" lengthAdjust=\"spacingAndGlyphs\" textLength=\"91\" x=\"237.5\" y=\"509.6387\">«requirement»</text><text fill=\"#000000\" font-family=\"sans-serif\" font-size=\"12\" lengthAdjust=\"spacingAndGlyphs\" text-decoration=\"line-through\" textLength=\"51\" x=\"257.5\" y=\"523.6074\">noname</text><line style=\"stroke: #A80036; stroke-width: 1.5;\" x1=\"211.5\" x2=\"328.5\" y1=\"531.4375\" y2=\"531.4375\"/></a><!--MD5=[fd4143e9d270a159db93a4ea2a975926]\n",
       "class E9--><a href=\"psysml:291c6c45-8332-45a6-809f-574961a49898\" target=\"_top\" title=\"psysml:291c6c45-8332-45a6-809f-574961a49898\" xlink:actuate=\"onRequest\" xlink:href=\"psysml:291c6c45-8332-45a6-809f-574961a49898\" xlink:show=\"new\" xlink:title=\"psysml:291c6c45-8332-45a6-809f-574961a49898\" xlink:type=\"simple\"><rect fill=\"#FEFECE\" filter=\"url(#f1650r3lox8nz4)\" height=\"88.3516\" id=\"E9\" style=\"stroke: #A80036; stroke-width: 1.5;\" width=\"145\" x=\"135.5\" y=\"41\"/><ellipse cx=\"151.4\" cy=\"59.9688\" fill=\"#0000FF\" rx=\"11\" ry=\"11\" style=\"stroke: #A80036; stroke-width: 1.0;\"/><path d=\"M152.2438,66.7188 L149.7906,66.7188 L149.7906,56.4688 L146.65,56.4688 L146.65,54.3281 L155.3844,54.3281 L155.3844,56.4688 L152.2438,56.4688 L152.2438,66.7188 Z \"/><text fill=\"#000000\" font-family=\"sans-serif\" font-size=\"12\" font-style=\"italic\" lengthAdjust=\"spacingAndGlyphs\" textLength=\"115\" x=\"163.6\" y=\"57.1387\">«requirement def»</text><text fill=\"#000000\" font-family=\"sans-serif\" font-size=\"12\" lengthAdjust=\"spacingAndGlyphs\" textLength=\"16\" x=\"213.1\" y=\"71.1074\">R1</text><line style=\"stroke: #A80036; stroke-width: 1.5;\" x1=\"136.5\" x2=\"279.5\" y1=\"78.9375\" y2=\"78.9375\"/><text fill=\"#000000\" font-family=\"sans-serif\" font-size=\"11\" font-weight=\"bold\" lengthAdjust=\"spacingAndGlyphs\" textLength=\"46\" x=\"141.5\" y=\"109.9526\">require</text><text fill=\"#000000\" font-family=\"sans-serif\" font-size=\"11\" lengthAdjust=\"spacingAndGlyphs\" textLength=\"13\" x=\"191.5\" y=\"109.9526\">c1</text><text fill=\"#000000\" font-family=\"sans-serif\" font-size=\"11\" font-style=\"italic\" lengthAdjust=\"spacingAndGlyphs\" textLength=\"133\" x=\"141.5\" y=\"122.7573\">:&gt;&gt;RequirementTest::c</text><line style=\"stroke: #A80036; stroke-width: 1.0;\" x1=\"136.5\" x2=\"176\" y1=\"93.3398\" y2=\"93.3398\"/><text fill=\"#000000\" font-family=\"sans-serif\" font-size=\"11\" lengthAdjust=\"spacingAndGlyphs\" textLength=\"64\" x=\"176\" y=\"96.6479\">constraints</text><line style=\"stroke: #A80036; stroke-width: 1.0;\" x1=\"240\" x2=\"279.5\" y1=\"93.3398\" y2=\"93.3398\"/></a><!--MD5=[1dd1bfd58a279cf63c5f349dbc8fc6a1]\n",
       "class E11--><a href=\"psysml:b7118396-8822-4234-af4f-531e34fd2b85\" target=\"_top\" title=\"psysml:b7118396-8822-4234-af4f-531e34fd2b85\" xlink:actuate=\"onRequest\" xlink:href=\"psysml:b7118396-8822-4234-af4f-531e34fd2b85\" xlink:show=\"new\" xlink:title=\"psysml:b7118396-8822-4234-af4f-531e34fd2b85\" xlink:type=\"simple\"><rect fill=\"#FEFECE\" filter=\"url(#f1650r3lox8nz4)\" height=\"45.9375\" id=\"E11\" rx=\"10\" ry=\"10\" style=\"stroke: #A80036; stroke-width: 1.5;\" width=\"68\" x=\"211\" y=\"344.5\"/><ellipse cx=\"226\" cy=\"363.4688\" fill=\"#0000FF\" rx=\"11\" ry=\"11\" style=\"stroke: #A80036; stroke-width: 1.0;\"/><path d=\"M226.8438,370.2188 L224.3906,370.2188 L224.3906,359.9688 L221.25,359.9688 L221.25,357.8281 L229.9844,357.8281 L229.9844,359.9688 L226.8438,359.9688 L226.8438,370.2188 Z \"/><text fill=\"#000000\" font-family=\"sans-serif\" font-size=\"12\" font-style=\"italic\" lengthAdjust=\"spacingAndGlyphs\" textLength=\"40\" x=\"238\" y=\"360.6387\">«part»</text><text fill=\"#000000\" font-family=\"sans-serif\" font-size=\"12\" lengthAdjust=\"spacingAndGlyphs\" textLength=\"8\" x=\"254\" y=\"374.6074\">p</text><line style=\"stroke: #A80036; stroke-width: 1.5;\" x1=\"212\" x2=\"278\" y1=\"382.4375\" y2=\"382.4375\"/></a><!--MD5=[49a0ec8f00dab7302a31f22d0f0fe584]\n",
       "class E12--><a href=\"psysml:5710aa92-7822-41e6-89ae-9d2d61cb8bf3\" target=\"_top\" title=\"psysml:5710aa92-7822-41e6-89ae-9d2d61cb8bf3\" xlink:actuate=\"onRequest\" xlink:href=\"psysml:5710aa92-7822-41e6-89ae-9d2d61cb8bf3\" xlink:show=\"new\" xlink:title=\"psysml:5710aa92-7822-41e6-89ae-9d2d61cb8bf3\" xlink:type=\"simple\"><rect fill=\"#FEFECE\" filter=\"url(#f1650r3lox8nz4)\" height=\"45.9375\" id=\"E12\" rx=\"10\" ry=\"10\" style=\"stroke: #A80036; stroke-width: 1.5;\" width=\"68\" x=\"32\" y=\"62\"/><ellipse cx=\"47\" cy=\"80.9688\" fill=\"#0000FF\" rx=\"11\" ry=\"11\" style=\"stroke: #A80036; stroke-width: 1.0;\"/><path d=\"M47.8438,87.7188 L45.3906,87.7188 L45.3906,77.4688 L42.25,77.4688 L42.25,75.3281 L50.9844,75.3281 L50.9844,77.4688 L47.8438,77.4688 L47.8438,87.7188 Z \"/><text fill=\"#000000\" font-family=\"sans-serif\" font-size=\"12\" font-style=\"italic\" lengthAdjust=\"spacingAndGlyphs\" textLength=\"40\" x=\"59\" y=\"78.1387\">«part»</text><text fill=\"#000000\" font-family=\"sans-serif\" font-size=\"12\" lengthAdjust=\"spacingAndGlyphs\" textLength=\"8\" x=\"75\" y=\"92.1074\">q</text><line style=\"stroke: #A80036; stroke-width: 1.5;\" x1=\"33\" x2=\"99\" y1=\"99.9375\" y2=\"99.9375\"/></a><!--MD5=[ee3c913d1a06f366521f9ef512b67efe]\n",
       "class E13--><a href=\"psysml:b72900fb-e3ca-4439-ac22-acb3bf892de5\" target=\"_top\" title=\"psysml:b72900fb-e3ca-4439-ac22-acb3bf892de5\" xlink:actuate=\"onRequest\" xlink:href=\"psysml:b72900fb-e3ca-4439-ac22-acb3bf892de5\" xlink:show=\"new\" xlink:title=\"psysml:b72900fb-e3ca-4439-ac22-acb3bf892de5\" xlink:type=\"simple\"><rect fill=\"#FEFECE\" filter=\"url(#f1650r3lox8nz4)\" height=\"45.9375\" id=\"E13\" rx=\"10\" ry=\"10\" style=\"stroke: #A80036; stroke-width: 1.5;\" width=\"119\" x=\"44.5\" y=\"190\"/><ellipse cx=\"59.5\" cy=\"208.9688\" fill=\"#0000FF\" rx=\"11\" ry=\"11\" style=\"stroke: #A80036; stroke-width: 1.0;\"/><path d=\"M60.3438,215.7188 L57.8906,215.7188 L57.8906,205.4688 L54.75,205.4688 L54.75,203.3281 L63.4844,203.3281 L63.4844,205.4688 L60.3438,205.4688 L60.3438,215.7188 Z \"/><text fill=\"#000000\" font-family=\"sans-serif\" font-size=\"12\" font-style=\"italic\" lengthAdjust=\"spacingAndGlyphs\" textLength=\"91\" x=\"71.5\" y=\"206.1387\">«requirement»</text><text fill=\"#000000\" font-family=\"sans-serif\" font-size=\"12\" lengthAdjust=\"spacingAndGlyphs\" textLength=\"21\" x=\"106.5\" y=\"220.1074\">r: R</text><line style=\"stroke: #A80036; stroke-width: 1.5;\" x1=\"45.5\" x2=\"162.5\" y1=\"227.9375\" y2=\"227.9375\"/></a><!--MD5=[05d275557350bfb9b23a4ef7222b4c39]\n",
       "link E3 to E2--><a href=\"psysml:8b4534c8-c65f-4721-aa95-1aefa1ee4858\" target=\"_top\" title=\"psysml:8b4534c8-c65f-4721-aa95-1aefa1ee4858\" xlink:actuate=\"onRequest\" xlink:href=\"psysml:8b4534c8-c65f-4721-aa95-1aefa1ee4858\" xlink:show=\"new\" xlink:title=\"psysml:8b4534c8-c65f-4721-aa95-1aefa1ee4858\" xlink:type=\"simple\"><path d=\"M366.88,108.24 C365.26,125.24 362.98,149.19 361.02,169.79 \" fill=\"none\" id=\"E3-&gt;E2\" style=\"stroke: #A80036; stroke-width: 1.0;\"/><polygon fill=\"#FFFFFF\" points=\"359.1,189.99,353.9362,170.411,367.8729,171.7407,359.1,189.99\" style=\"stroke: #A80036; stroke-width: 1.0;\"/><ellipse cx=\"356.4685\" cy=\"164.9268\" fill=\"#A80036\" rx=\"2\" ry=\"2\" style=\"stroke: #A80036; stroke-width: 1.0;\"/><ellipse cx=\"366.4233\" cy=\"165.8765\" fill=\"#A80036\" rx=\"2\" ry=\"2\" style=\"stroke: #A80036; stroke-width: 1.0;\"/></a><!--MD5=[62aa6af11e70f752912c1cb0466f24f7]\n",
       "reverse link E4 to E5--><a href=\"psysml:5c4fbfc6-6feb-457a-9610-da755776e124\" target=\"_top\" title=\"psysml:5c4fbfc6-6feb-457a-9610-da755776e124\" xlink:actuate=\"onRequest\" xlink:href=\"psysml:5c4fbfc6-6feb-457a-9610-da755776e124\" xlink:show=\"new\" xlink:title=\"psysml:5c4fbfc6-6feb-457a-9610-da755776e124\" xlink:type=\"simple\"><path d=\"M104,437.45 C104,453.34 104,469.51 104,482.98 \" fill=\"none\" id=\"E4&lt;-E5\" style=\"stroke: #A80036; stroke-width: 1.0;\"/><ellipse cx=\"104\" cy=\"430.4\" fill=\"#FFFFFF\" rx=\"8\" ry=\"8\" style=\"stroke: #A80036; stroke-width: 1.0;\"/><line style=\"stroke: #A80036; stroke-width: 1.0;\" x1=\"104\" x2=\"104\" y1=\"438.4\" y2=\"422.4\"/><line style=\"stroke: #A80036; stroke-width: 1.0;\" x1=\"96\" x2=\"112\" y1=\"430.4\" y2=\"430.4\"/></a><!--MD5=[c6fc7cdb0cabde04948078cf183fa696]\n",
       "reverse link E4 to E8--><a href=\"psysml:577c6bec-7675-4e65-a136-10b226b9020a\" target=\"_top\" title=\"psysml:577c6bec-7675-4e65-a136-10b226b9020a\" xlink:actuate=\"onRequest\" xlink:href=\"psysml:577c6bec-7675-4e65-a136-10b226b9020a\" xlink:show=\"new\" xlink:title=\"psysml:577c6bec-7675-4e65-a136-10b226b9020a\" xlink:type=\"simple\"><path d=\"M174.75,431.16 C199.83,453.36 226.43,476.92 245.13,493.48 \" fill=\"none\" id=\"E4&lt;-E8\" style=\"stroke: #A80036; stroke-width: 1.0;\"/><polygon fill=\"#A80036\" points=\"164.87,422.4,166.7154,429.371,173.86,430.3486,172.0145,423.3776,164.87,422.4\" style=\"stroke: #A80036; stroke-width: 1.0;\"/></a><!--MD5=[062ed86c389d1a88f61c6380d0491e17]\n",
       "reverse link E12 to E13--><a href=\"psysml:b72900fb-e3ca-4439-ac22-acb3bf892de5\" target=\"_top\" title=\"psysml:b72900fb-e3ca-4439-ac22-acb3bf892de5\" xlink:actuate=\"onRequest\" xlink:href=\"psysml:b72900fb-e3ca-4439-ac22-acb3bf892de5\" xlink:show=\"new\" xlink:title=\"psysml:b72900fb-e3ca-4439-ac22-acb3bf892de5\" xlink:type=\"simple\"><path d=\"M76.49,120.8 C83.17,142.92 91.6,170.89 97.36,189.99 \" fill=\"none\" id=\"E12&lt;-E13\" style=\"stroke: #A80036; stroke-width: 1.0;\"/><polygon fill=\"#A80036\" points=\"72.71,108.24,70.6129,115.1394,76.1751,119.7288,78.2722,112.8294,72.71,108.24\" style=\"stroke: #A80036; stroke-width: 1.0;\"/></a><!--MD5=[017847e01ff9a8bd19f247411074f987]\n",
       "link E13 to E4--><a href=\"psysml:ed6e641a-605b-4ed9-9064-d41509e7ab16\" target=\"_top\" title=\"psysml:ed6e641a-605b-4ed9-9064-d41509e7ab16\" xlink:actuate=\"onRequest\" xlink:href=\"psysml:ed6e641a-605b-4ed9-9064-d41509e7ab16\" xlink:show=\"new\" xlink:title=\"psysml:ed6e641a-605b-4ed9-9064-d41509e7ab16\" xlink:type=\"simple\"><path d=\"M104,236.17 C104,251.17 104,271.91 104,292.44 \" fill=\"none\" id=\"E13-&gt;E4\" style=\"stroke: #A80036; stroke-width: 1.0;\"/><polygon fill=\"#FFFFFF\" points=\"104,312.68,97,293.68,111,293.68,104,312.68\" style=\"stroke: #A80036; stroke-width: 1.0;\"/><ellipse cx=\"99\" cy=\"287.98\" fill=\"#A80036\" rx=\"2\" ry=\"2\" style=\"stroke: #A80036; stroke-width: 1.0;\"/><ellipse cx=\"109\" cy=\"287.98\" fill=\"#A80036\" rx=\"2\" ry=\"2\" style=\"stroke: #A80036; stroke-width: 1.0;\"/></a><!--MD5=[2cfe899c895462254056921bfb67315f]\n",
       "link E13 to E11--><a href=\"psysml:11f1a2a5-a4e7-4875-8b16-7052fd317758\" target=\"_top\" title=\"psysml:11f1a2a5-a4e7-4875-8b16-7052fd317758\" xlink:actuate=\"onRequest\" xlink:href=\"psysml:11f1a2a5-a4e7-4875-8b16-7052fd317758\" xlink:show=\"new\" xlink:title=\"psysml:11f1a2a5-a4e7-4875-8b16-7052fd317758\" xlink:type=\"simple\"><path d=\"M124.5,236.17 C150.09,263.85 193.77,311.09 220.92,340.45 \" fill=\"none\" id=\"E13-&gt;E11\" style=\"stroke: #A80036; stroke-width: 1.0; stroke-dasharray: 7.0,7.0;\"/><polygon fill=\"#A80036\" points=\"224.47,344.3,221.2896,334.9788,221.0727,340.6315,215.42,340.4145,224.47,344.3\" style=\"stroke: #A80036; stroke-width: 1.0;\"/><text fill=\"#000000\" font-family=\"sans-serif\" font-size=\"13\" lengthAdjust=\"spacingAndGlyphs\" textLength=\"57\" x=\"167\" y=\"279.0669\">«satisfy»</text></a><!--MD5=[62832a7dbdec9ff0ebc3d2043f4daf6f]\n",
       "@startuml\r\n",
       " \r\n",
       "package \"RequirementTest\" as E1  [[psysml:8aa028f5-1693-4b51-bff2-c94d0f18c930 ]]  {\r\n",
       "comp def \"C\" as E2  <<(T,blue)constraint def>> [[psysml:27c2a771-07cf-4bde-9591-6030a1a15742 ]] {\r\n",
       "}\r\n",
       "comp usage \"c: C\" as E3  <<(T,blue)constraint>> [[psysml:da02b217-f155-4220-a2dc-d840d0d24f86 ]] {\r\n",
       "}\r\n",
       "comp def \"R\" as E4  <<(T,blue)requirement def>> [[psysml:b9a9d178-6ba0-415d-80bd-8d7e5aacf32f ]] {\r\n",
       "\r\n",
       "- -\r\n",
       "- - constraints - -\r\n",
       "<b>require</b> c\r\n",
       "<i>assume</i> c1: C\r\n",
       "}\r\n",
       "comp def \" [<b>1</b>] A\" as E5  <<(T,blue)requirement def>> [[psysml:5c4fbfc6-6feb-457a-9610-da755776e124 ]] {\r\n",
       "Text\r\n",
       "- -\r\n",
       "}\r\n",
       "comp usage \"<s>noname</s>\" as E8  <<(T,blue)requirement>> [[psysml:577c6bec-7675-4e65-a136-10b226b9020a ]] {\r\n",
       "}\r\n",
       "comp def \"R1\" as E9  <<(T,blue)requirement def>> [[psysml:291c6c45-8332-45a6-809f-574961a49898 ]] {\r\n",
       "- - constraints - -\r\n",
       "<b>require</b> c1\\n//:>>RequirementTest::c// \r\n",
       "}\r\n",
       "comp usage \"p\" as E11  <<(T,blue)part>> [[psysml:b7118396-8822-4234-af4f-531e34fd2b85 ]] {\r\n",
       "}\r\n",
       "comp usage \"q\" as E12  <<(T,blue)part>> [[psysml:5710aa92-7822-41e6-89ae-9d2d61cb8bf3 ]] {\r\n",
       "}\r\n",
       "comp usage \"r: R\" as E13  <<(T,blue)requirement>> [[psysml:b72900fb-e3ca-4439-ac22-acb3bf892de5 ]] {\r\n",
       "}\r\n",
       "E3 - -:|> E2 [[psysml:8b4534c8-c65f-4721-aa95-1aefa1ee4858 ]] \r\n",
       "E4 +- - E5 [[psysml:5c4fbfc6-6feb-457a-9610-da755776e124 ]] \r\n",
       "E4 *- - E8 [[psysml:577c6bec-7675-4e65-a136-10b226b9020a ]] \r\n",
       "E12 *- - E13 [[psysml:b72900fb-e3ca-4439-ac22-acb3bf892de5 ]] \r\n",
       "E13 - -:|> E4 [[psysml:ed6e641a-605b-4ed9-9064-d41509e7ab16 ]] \r\n",
       "E13 ..> E11 [[psysml:11f1a2a5-a4e7-4875-8b16-7052fd317758 ]] : <<satisfy>>\r\n",
       "}\r\n",
       "@enduml\r\n",
       "\n",
       "PlantUML version 1.2020.13(Sat Jun 13 12:26:38 UTC 2020)\n",
       "(EPL source distribution)\n",
       "Java Runtime: OpenJDK Runtime Environment\n",
       "JVM: OpenJDK 64-Bit Server VM\n",
       "Default Encoding: UTF-8\n",
       "Language: en\n",
       "Country: null\n",
       "--></g></svg>"
      ]
     },
     "execution_count": 8,
     "metadata": {},
     "output_type": "execute_result"
    }
   ],
   "source": [
    "%viz --style=\"COMPTREE\" --view=\"MIXED\" \"RequirementTest\""
   ]
  },
  {
   "cell_type": "code",
   "execution_count": 9,
   "id": "verified-politics",
   "metadata": {
    "execution": {
     "iopub.execute_input": "2021-03-26T09:12:26.791997Z",
     "iopub.status.busy": "2021-03-26T09:12:26.791535Z",
     "iopub.status.idle": "2021-03-26T09:12:26.892155Z",
     "shell.execute_reply": "2021-03-26T09:12:26.890634Z"
    }
   },
   "outputs": [
    {
     "data": {
      "image/svg+xml": [
       "<?xml version=\"1.0\" encoding=\"UTF-8\" standalone=\"no\"?><svg xmlns=\"http://www.w3.org/2000/svg\" xmlns:xlink=\"http://www.w3.org/1999/xlink\" contentScriptType=\"application/ecmascript\" contentStyleType=\"text/css\" height=\"578px\" preserveAspectRatio=\"none\" style=\"width:408px;height:578px;\" version=\"1.1\" viewBox=\"0 0 408 578\" width=\"408px\" zoomAndPan=\"magnify\"><defs/><g><!--MD5=[fbc87193dbaf4d95561dea2c320d4a47]\n",
       "cluster E1--><a href=\"psysml:8aa028f5-1693-4b51-bff2-c94d0f18c930\" target=\"_top\" title=\"psysml:8aa028f5-1693-4b51-bff2-c94d0f18c930\" xlink:actuate=\"onRequest\" xlink:href=\"psysml:8aa028f5-1693-4b51-bff2-c94d0f18c930\" xlink:show=\"new\" xlink:title=\"psysml:8aa028f5-1693-4b51-bff2-c94d0f18c930\" xlink:type=\"simple\"><polygon fill=\"#FFFFFF\" points=\"16,6,158,6,165,28.2969,386,28.2969,386,566,16,566,16,6\" style=\"stroke: #000000; stroke-width: 1.5;\"/><line style=\"stroke: #000000; stroke-width: 1.5;\" x1=\"16\" x2=\"165\" y1=\"28.2969\" y2=\"28.2969\"/><text fill=\"#000000\" font-family=\"sans-serif\" font-size=\"14\" font-weight=\"bold\" lengthAdjust=\"spacingAndGlyphs\" textLength=\"136\" x=\"20\" y=\"20.9951\">RequirementTest</text></a><!--MD5=[b4997ac47864f28c2f74865a473b2911]\n",
       "class E2--><a href=\"psysml:27c2a771-07cf-4bde-9591-6030a1a15742\" target=\"_top\" title=\"psysml:27c2a771-07cf-4bde-9591-6030a1a15742\" xlink:actuate=\"onRequest\" xlink:href=\"psysml:27c2a771-07cf-4bde-9591-6030a1a15742\" xlink:show=\"new\" xlink:title=\"psysml:27c2a771-07cf-4bde-9591-6030a1a15742\" xlink:type=\"simple\"><rect fill=\"#FFFFFF\" height=\"45.9375\" id=\"E2\" style=\"stroke: #383838; stroke-width: 1.5;\" width=\"104\" x=\"266\" y=\"190\"/><text fill=\"#000000\" font-family=\"sans-serif\" font-size=\"12\" font-style=\"italic\" lengthAdjust=\"spacingAndGlyphs\" textLength=\"102\" x=\"267\" y=\"206.1387\">«constraint def»</text><text fill=\"#000000\" font-family=\"sans-serif\" font-size=\"12\" lengthAdjust=\"spacingAndGlyphs\" textLength=\"8\" x=\"314\" y=\"220.1074\">C</text><line style=\"stroke: #383838; stroke-width: 1.5;\" x1=\"267\" x2=\"369\" y1=\"227.9375\" y2=\"227.9375\"/></a><!--MD5=[09b614a08d8cba4a07c9adeb5e0fee81]\n",
       "class E3--><a href=\"psysml:da02b217-f155-4220-a2dc-d840d0d24f86\" target=\"_top\" title=\"psysml:da02b217-f155-4220-a2dc-d840d0d24f86\" xlink:actuate=\"onRequest\" xlink:href=\"psysml:da02b217-f155-4220-a2dc-d840d0d24f86\" xlink:show=\"new\" xlink:title=\"psysml:da02b217-f155-4220-a2dc-d840d0d24f86\" xlink:type=\"simple\"><rect fill=\"#FFFFFF\" height=\"45.9375\" id=\"E3\" rx=\"10\" ry=\"10\" style=\"stroke: #383838; stroke-width: 1.5;\" width=\"80\" x=\"290\" y=\"62\"/><text fill=\"#000000\" font-family=\"sans-serif\" font-size=\"12\" font-style=\"italic\" lengthAdjust=\"spacingAndGlyphs\" textLength=\"78\" x=\"291\" y=\"78.1387\">«constraint»</text><text fill=\"#000000\" font-family=\"sans-serif\" font-size=\"12\" lengthAdjust=\"spacingAndGlyphs\" textLength=\"23\" x=\"318.5\" y=\"92.1074\">c: C</text><line style=\"stroke: #383838; stroke-width: 1.5;\" x1=\"291\" x2=\"369\" y1=\"99.9375\" y2=\"99.9375\"/></a><!--MD5=[ebbe1d658d1005bcc118a6aa81145e00]\n",
       "class E4--><a href=\"psysml:b9a9d178-6ba0-415d-80bd-8d7e5aacf32f\" target=\"_top\" title=\"psysml:b9a9d178-6ba0-415d-80bd-8d7e5aacf32f\" xlink:actuate=\"onRequest\" xlink:href=\"psysml:b9a9d178-6ba0-415d-80bd-8d7e5aacf32f\" xlink:show=\"new\" xlink:title=\"psysml:b9a9d178-6ba0-415d-80bd-8d7e5aacf32f\" xlink:type=\"simple\"><rect fill=\"#FFFFFF\" height=\"109.1563\" id=\"E4\" style=\"stroke: #383838; stroke-width: 1.5;\" width=\"117\" x=\"32.5\" y=\"313\"/><text fill=\"#000000\" font-family=\"sans-serif\" font-size=\"12\" font-style=\"italic\" lengthAdjust=\"spacingAndGlyphs\" textLength=\"115\" x=\"33.5\" y=\"329.1387\">«requirement def»</text><text fill=\"#000000\" font-family=\"sans-serif\" font-size=\"12\" lengthAdjust=\"spacingAndGlyphs\" textLength=\"8\" x=\"87\" y=\"343.1074\">R</text><line style=\"stroke: #383838; stroke-width: 1.5;\" x1=\"33.5\" x2=\"148.5\" y1=\"350.9375\" y2=\"350.9375\"/><text fill=\"#000000\" font-family=\"sans-serif\" font-size=\"11\" lengthAdjust=\"spacingAndGlyphs\" textLength=\"0\" x=\"42.5\" y=\"365.1479\"/><line style=\"stroke: #383838; stroke-width: 1.0;\" x1=\"33.5\" x2=\"148.5\" y1=\"371.7422\" y2=\"371.7422\"/><text fill=\"#000000\" font-family=\"sans-serif\" font-size=\"11\" font-weight=\"bold\" lengthAdjust=\"spacingAndGlyphs\" textLength=\"46\" x=\"38.5\" y=\"402.7573\">require</text><text fill=\"#000000\" font-family=\"sans-serif\" font-size=\"11\" lengthAdjust=\"spacingAndGlyphs\" textLength=\"6\" x=\"88.5\" y=\"402.7573\">c</text><text fill=\"#000000\" font-family=\"sans-serif\" font-size=\"11\" font-style=\"italic\" lengthAdjust=\"spacingAndGlyphs\" textLength=\"46\" x=\"38.5\" y=\"415.562\">assume</text><text fill=\"#000000\" font-family=\"sans-serif\" font-size=\"11\" lengthAdjust=\"spacingAndGlyphs\" textLength=\"29\" x=\"88.5\" y=\"415.562\">c1: C</text><line style=\"stroke: #383838; stroke-width: 1.0;\" x1=\"33.5\" x2=\"59\" y1=\"386.1445\" y2=\"386.1445\"/><text fill=\"#000000\" font-family=\"sans-serif\" font-size=\"11\" lengthAdjust=\"spacingAndGlyphs\" textLength=\"64\" x=\"59\" y=\"389.4526\">constraints</text><line style=\"stroke: #383838; stroke-width: 1.0;\" x1=\"123\" x2=\"148.5\" y1=\"386.1445\" y2=\"386.1445\"/></a><!--MD5=[270fce915f116d4de14055a7c1d9a0f3]\n",
       "class E5--><a href=\"psysml:5c4fbfc6-6feb-457a-9610-da755776e124\" target=\"_top\" title=\"psysml:5c4fbfc6-6feb-457a-9610-da755776e124\" xlink:actuate=\"onRequest\" xlink:href=\"psysml:5c4fbfc6-6feb-457a-9610-da755776e124\" xlink:show=\"new\" xlink:title=\"psysml:5c4fbfc6-6feb-457a-9610-da755776e124\" xlink:type=\"simple\"><rect fill=\"#FFFFFF\" height=\"66.7422\" id=\"E5\" style=\"stroke: #383838; stroke-width: 1.5;\" width=\"117\" x=\"32.5\" y=\"483\"/><text fill=\"#000000\" font-family=\"sans-serif\" font-size=\"12\" font-style=\"italic\" lengthAdjust=\"spacingAndGlyphs\" textLength=\"115\" x=\"33.5\" y=\"499.1387\">«requirement def»</text><text fill=\"#000000\" font-family=\"sans-serif\" font-size=\"12\" lengthAdjust=\"spacingAndGlyphs\" textLength=\"5\" x=\"78\" y=\"513.1074\">[</text><text fill=\"#000000\" font-family=\"sans-serif\" font-size=\"12\" font-weight=\"bold\" lengthAdjust=\"spacingAndGlyphs\" textLength=\"8\" x=\"83\" y=\"513.1074\">1</text><text fill=\"#000000\" font-family=\"sans-serif\" font-size=\"12\" lengthAdjust=\"spacingAndGlyphs\" textLength=\"17\" x=\"91\" y=\"513.1074\">] A</text><line style=\"stroke: #383838; stroke-width: 1.5;\" x1=\"33.5\" x2=\"148.5\" y1=\"520.9375\" y2=\"520.9375\"/><text fill=\"#000000\" font-family=\"sans-serif\" font-size=\"11\" lengthAdjust=\"spacingAndGlyphs\" textLength=\"24\" x=\"38.5\" y=\"535.1479\">Text</text><line style=\"stroke: #383838; stroke-width: 1.0;\" x1=\"33.5\" x2=\"148.5\" y1=\"541.7422\" y2=\"541.7422\"/></a><!--MD5=[b9389687b975829384b498ac4b7476b2]\n",
       "class E8--><a href=\"psysml:577c6bec-7675-4e65-a136-10b226b9020a\" target=\"_top\" title=\"psysml:577c6bec-7675-4e65-a136-10b226b9020a\" xlink:actuate=\"onRequest\" xlink:href=\"psysml:577c6bec-7675-4e65-a136-10b226b9020a\" xlink:show=\"new\" xlink:title=\"psysml:577c6bec-7675-4e65-a136-10b226b9020a\" xlink:type=\"simple\"><rect fill=\"#FFFFFF\" height=\"45.9375\" id=\"E8\" rx=\"10\" ry=\"10\" style=\"stroke: #383838; stroke-width: 1.5;\" width=\"93\" x=\"184.5\" y=\"493.5\"/><text fill=\"#000000\" font-family=\"sans-serif\" font-size=\"12\" font-style=\"italic\" lengthAdjust=\"spacingAndGlyphs\" textLength=\"91\" x=\"185.5\" y=\"509.6387\">«requirement»</text><text fill=\"#000000\" font-family=\"sans-serif\" font-size=\"12\" lengthAdjust=\"spacingAndGlyphs\" text-decoration=\"line-through\" textLength=\"51\" x=\"205.5\" y=\"523.6074\">noname</text><line style=\"stroke: #383838; stroke-width: 1.5;\" x1=\"185.5\" x2=\"276.5\" y1=\"531.4375\" y2=\"531.4375\"/></a><!--MD5=[fd4143e9d270a159db93a4ea2a975926]\n",
       "class E9--><a href=\"psysml:291c6c45-8332-45a6-809f-574961a49898\" target=\"_top\" title=\"psysml:291c6c45-8332-45a6-809f-574961a49898\" xlink:actuate=\"onRequest\" xlink:href=\"psysml:291c6c45-8332-45a6-809f-574961a49898\" xlink:show=\"new\" xlink:title=\"psysml:291c6c45-8332-45a6-809f-574961a49898\" xlink:type=\"simple\"><rect fill=\"#FFFFFF\" height=\"88.3516\" id=\"E9\" style=\"stroke: #383838; stroke-width: 1.5;\" width=\"145\" x=\"109.5\" y=\"41\"/><text fill=\"#000000\" font-family=\"sans-serif\" font-size=\"12\" font-style=\"italic\" lengthAdjust=\"spacingAndGlyphs\" textLength=\"115\" x=\"124.5\" y=\"57.1387\">«requirement def»</text><text fill=\"#000000\" font-family=\"sans-serif\" font-size=\"12\" lengthAdjust=\"spacingAndGlyphs\" textLength=\"16\" x=\"174\" y=\"71.1074\">R1</text><line style=\"stroke: #383838; stroke-width: 1.5;\" x1=\"110.5\" x2=\"253.5\" y1=\"78.9375\" y2=\"78.9375\"/><text fill=\"#000000\" font-family=\"sans-serif\" font-size=\"11\" font-weight=\"bold\" lengthAdjust=\"spacingAndGlyphs\" textLength=\"46\" x=\"115.5\" y=\"109.9526\">require</text><text fill=\"#000000\" font-family=\"sans-serif\" font-size=\"11\" lengthAdjust=\"spacingAndGlyphs\" textLength=\"13\" x=\"165.5\" y=\"109.9526\">c1</text><text fill=\"#000000\" font-family=\"sans-serif\" font-size=\"11\" font-style=\"italic\" lengthAdjust=\"spacingAndGlyphs\" textLength=\"133\" x=\"115.5\" y=\"122.7573\">:&gt;&gt;RequirementTest::c</text><line style=\"stroke: #383838; stroke-width: 1.0;\" x1=\"110.5\" x2=\"150\" y1=\"93.3398\" y2=\"93.3398\"/><text fill=\"#000000\" font-family=\"sans-serif\" font-size=\"11\" lengthAdjust=\"spacingAndGlyphs\" textLength=\"64\" x=\"150\" y=\"96.6479\">constraints</text><line style=\"stroke: #383838; stroke-width: 1.0;\" x1=\"214\" x2=\"253.5\" y1=\"93.3398\" y2=\"93.3398\"/></a><!--MD5=[1dd1bfd58a279cf63c5f349dbc8fc6a1]\n",
       "class E11--><a href=\"psysml:b7118396-8822-4234-af4f-531e34fd2b85\" target=\"_top\" title=\"psysml:b7118396-8822-4234-af4f-531e34fd2b85\" xlink:actuate=\"onRequest\" xlink:href=\"psysml:b7118396-8822-4234-af4f-531e34fd2b85\" xlink:show=\"new\" xlink:title=\"psysml:b7118396-8822-4234-af4f-531e34fd2b85\" xlink:type=\"simple\"><rect fill=\"#FFFFFF\" height=\"45.9375\" id=\"E11\" rx=\"10\" ry=\"10\" style=\"stroke: #383838; stroke-width: 1.5;\" width=\"42\" x=\"185\" y=\"344.5\"/><text fill=\"#000000\" font-family=\"sans-serif\" font-size=\"12\" font-style=\"italic\" lengthAdjust=\"spacingAndGlyphs\" textLength=\"40\" x=\"186\" y=\"360.6387\">«part»</text><text fill=\"#000000\" font-family=\"sans-serif\" font-size=\"12\" lengthAdjust=\"spacingAndGlyphs\" textLength=\"8\" x=\"202\" y=\"374.6074\">p</text><line style=\"stroke: #383838; stroke-width: 1.5;\" x1=\"186\" x2=\"226\" y1=\"382.4375\" y2=\"382.4375\"/></a><!--MD5=[49a0ec8f00dab7302a31f22d0f0fe584]\n",
       "class E12--><a href=\"psysml:5710aa92-7822-41e6-89ae-9d2d61cb8bf3\" target=\"_top\" title=\"psysml:5710aa92-7822-41e6-89ae-9d2d61cb8bf3\" xlink:actuate=\"onRequest\" xlink:href=\"psysml:5710aa92-7822-41e6-89ae-9d2d61cb8bf3\" xlink:show=\"new\" xlink:title=\"psysml:5710aa92-7822-41e6-89ae-9d2d61cb8bf3\" xlink:type=\"simple\"><rect fill=\"#FFFFFF\" height=\"45.9375\" id=\"E12\" rx=\"10\" ry=\"10\" style=\"stroke: #383838; stroke-width: 1.5;\" width=\"42\" x=\"32\" y=\"62\"/><text fill=\"#000000\" font-family=\"sans-serif\" font-size=\"12\" font-style=\"italic\" lengthAdjust=\"spacingAndGlyphs\" textLength=\"40\" x=\"33\" y=\"78.1387\">«part»</text><text fill=\"#000000\" font-family=\"sans-serif\" font-size=\"12\" lengthAdjust=\"spacingAndGlyphs\" textLength=\"8\" x=\"49\" y=\"92.1074\">q</text><line style=\"stroke: #383838; stroke-width: 1.5;\" x1=\"33\" x2=\"73\" y1=\"99.9375\" y2=\"99.9375\"/></a><!--MD5=[ee3c913d1a06f366521f9ef512b67efe]\n",
       "class E13--><a href=\"psysml:b72900fb-e3ca-4439-ac22-acb3bf892de5\" target=\"_top\" title=\"psysml:b72900fb-e3ca-4439-ac22-acb3bf892de5\" xlink:actuate=\"onRequest\" xlink:href=\"psysml:b72900fb-e3ca-4439-ac22-acb3bf892de5\" xlink:show=\"new\" xlink:title=\"psysml:b72900fb-e3ca-4439-ac22-acb3bf892de5\" xlink:type=\"simple\"><rect fill=\"#FFFFFF\" height=\"45.9375\" id=\"E13\" rx=\"10\" ry=\"10\" style=\"stroke: #383838; stroke-width: 1.5;\" width=\"93\" x=\"44.5\" y=\"190\"/><text fill=\"#000000\" font-family=\"sans-serif\" font-size=\"12\" font-style=\"italic\" lengthAdjust=\"spacingAndGlyphs\" textLength=\"91\" x=\"45.5\" y=\"206.1387\">«requirement»</text><text fill=\"#000000\" font-family=\"sans-serif\" font-size=\"12\" lengthAdjust=\"spacingAndGlyphs\" textLength=\"21\" x=\"80.5\" y=\"220.1074\">r: R</text><line style=\"stroke: #383838; stroke-width: 1.5;\" x1=\"45.5\" x2=\"136.5\" y1=\"227.9375\" y2=\"227.9375\"/></a><!--MD5=[05d275557350bfb9b23a4ef7222b4c39]\n",
       "link E3 to E2--><a href=\"psysml:8b4534c8-c65f-4721-aa95-1aefa1ee4858\" target=\"_top\" title=\"psysml:8b4534c8-c65f-4721-aa95-1aefa1ee4858\" xlink:actuate=\"onRequest\" xlink:href=\"psysml:8b4534c8-c65f-4721-aa95-1aefa1ee4858\" xlink:show=\"new\" xlink:title=\"psysml:8b4534c8-c65f-4721-aa95-1aefa1ee4858\" xlink:type=\"simple\"><path d=\"M327.88,108.24 C326.26,125.24 323.98,149.19 322.02,169.79 \" fill=\"none\" id=\"E3-&gt;E2\" style=\"stroke: #383838; stroke-width: 1.0;\"/><polygon fill=\"#FFFFFF\" points=\"320.1,189.99,314.9362,170.411,328.8729,171.7407,320.1,189.99\" style=\"stroke: #383838; stroke-width: 1.0;\"/><ellipse cx=\"317.4685\" cy=\"164.9268\" fill=\"#383838\" rx=\"2\" ry=\"2\" style=\"stroke: #383838; stroke-width: 1.0;\"/><ellipse cx=\"327.4233\" cy=\"165.8765\" fill=\"#383838\" rx=\"2\" ry=\"2\" style=\"stroke: #383838; stroke-width: 1.0;\"/></a><!--MD5=[62aa6af11e70f752912c1cb0466f24f7]\n",
       "reverse link E4 to E5--><a href=\"psysml:5c4fbfc6-6feb-457a-9610-da755776e124\" target=\"_top\" title=\"psysml:5c4fbfc6-6feb-457a-9610-da755776e124\" xlink:actuate=\"onRequest\" xlink:href=\"psysml:5c4fbfc6-6feb-457a-9610-da755776e124\" xlink:show=\"new\" xlink:title=\"psysml:5c4fbfc6-6feb-457a-9610-da755776e124\" xlink:type=\"simple\"><path d=\"M91,437.45 C91,453.34 91,469.51 91,482.98 \" fill=\"none\" id=\"E4&lt;-E5\" style=\"stroke: #383838; stroke-width: 1.0;\"/><ellipse cx=\"91\" cy=\"430.4\" fill=\"#FFFFFF\" rx=\"8\" ry=\"8\" style=\"stroke: #383838; stroke-width: 1.0;\"/><line style=\"stroke: #383838; stroke-width: 1.0;\" x1=\"91\" x2=\"91\" y1=\"438.4\" y2=\"422.4\"/><line style=\"stroke: #383838; stroke-width: 1.0;\" x1=\"83\" x2=\"99\" y1=\"430.4\" y2=\"430.4\"/></a><!--MD5=[c6fc7cdb0cabde04948078cf183fa696]\n",
       "reverse link E4 to E8--><a href=\"psysml:577c6bec-7675-4e65-a136-10b226b9020a\" target=\"_top\" title=\"psysml:577c6bec-7675-4e65-a136-10b226b9020a\" xlink:actuate=\"onRequest\" xlink:href=\"psysml:577c6bec-7675-4e65-a136-10b226b9020a\" xlink:show=\"new\" xlink:title=\"psysml:577c6bec-7675-4e65-a136-10b226b9020a\" xlink:type=\"simple\"><path d=\"M151.51,432.04 C172.42,453.99 194.47,477.14 210.03,493.48 \" fill=\"none\" id=\"E4&lt;-E8\" style=\"stroke: #383838; stroke-width: 1.0;\"/><polygon fill=\"#383838\" points=\"142.34,422.4,143.5779,429.5041,150.6116,431.0937,149.3737,423.9897,142.34,422.4\" style=\"stroke: #383838; stroke-width: 1.0;\"/></a><!--MD5=[062ed86c389d1a88f61c6380d0491e17]\n",
       "reverse link E12 to E13--><a href=\"psysml:b72900fb-e3ca-4439-ac22-acb3bf892de5\" target=\"_top\" title=\"psysml:b72900fb-e3ca-4439-ac22-acb3bf892de5\" xlink:actuate=\"onRequest\" xlink:href=\"psysml:b72900fb-e3ca-4439-ac22-acb3bf892de5\" xlink:show=\"new\" xlink:title=\"psysml:b72900fb-e3ca-4439-ac22-acb3bf892de5\" xlink:type=\"simple\"><path d=\"M63.49,120.8 C70.17,142.92 78.6,170.89 84.36,189.99 \" fill=\"none\" id=\"E12&lt;-E13\" style=\"stroke: #383838; stroke-width: 1.0;\"/><polygon fill=\"#383838\" points=\"59.71,108.24,57.6129,115.1394,63.1751,119.7288,65.2722,112.8294,59.71,108.24\" style=\"stroke: #383838; stroke-width: 1.0;\"/></a><!--MD5=[017847e01ff9a8bd19f247411074f987]\n",
       "link E13 to E4--><a href=\"psysml:ed6e641a-605b-4ed9-9064-d41509e7ab16\" target=\"_top\" title=\"psysml:ed6e641a-605b-4ed9-9064-d41509e7ab16\" xlink:actuate=\"onRequest\" xlink:href=\"psysml:ed6e641a-605b-4ed9-9064-d41509e7ab16\" xlink:show=\"new\" xlink:title=\"psysml:ed6e641a-605b-4ed9-9064-d41509e7ab16\" xlink:type=\"simple\"><path d=\"M91,236.17 C91,251.17 91,271.91 91,292.44 \" fill=\"none\" id=\"E13-&gt;E4\" style=\"stroke: #383838; stroke-width: 1.0;\"/><polygon fill=\"#FFFFFF\" points=\"91,312.68,84,293.68,98,293.68,91,312.68\" style=\"stroke: #383838; stroke-width: 1.0;\"/><ellipse cx=\"86\" cy=\"287.98\" fill=\"#383838\" rx=\"2\" ry=\"2\" style=\"stroke: #383838; stroke-width: 1.0;\"/><ellipse cx=\"96\" cy=\"287.98\" fill=\"#383838\" rx=\"2\" ry=\"2\" style=\"stroke: #383838; stroke-width: 1.0;\"/></a><!--MD5=[2cfe899c895462254056921bfb67315f]\n",
       "link E13 to E11--><a href=\"psysml:11f1a2a5-a4e7-4875-8b16-7052fd317758\" target=\"_top\" title=\"psysml:11f1a2a5-a4e7-4875-8b16-7052fd317758\" xlink:actuate=\"onRequest\" xlink:href=\"psysml:11f1a2a5-a4e7-4875-8b16-7052fd317758\" xlink:show=\"new\" xlink:title=\"psysml:11f1a2a5-a4e7-4875-8b16-7052fd317758\" xlink:type=\"simple\"><path d=\"M108.25,236.46 C130.67,265.67 167,313 167,313 C167,313 176.99,326.71 186.86,340.25 \" fill=\"none\" id=\"E13-&gt;E11\" style=\"stroke: #383838; stroke-width: 1.0; stroke-dasharray: 7.0,7.0;\"/><polygon fill=\"#383838\" points=\"189.91,344.43,187.8474,334.7996,186.9674,340.3876,181.3794,339.5076,189.91,344.43\" style=\"stroke: #383838; stroke-width: 1.0;\"/><text fill=\"#000000\" font-family=\"sans-serif\" font-size=\"13\" lengthAdjust=\"spacingAndGlyphs\" textLength=\"57\" x=\"143\" y=\"279.0669\">«satisfy»</text></a><!--MD5=[9cae958ac2fdf510a00fa349c011afb0]\n",
       "@startuml\r\n",
       "skinparam linetype polyline\r\n",
       "skinparam monochrome true\r\n",
       "skinparam classbackgroundcolor white\r\n",
       "skinparam shadowing false\r\n",
       "skinparam wrapWidth 300\r\n",
       "hide circle\r\n",
       "\r\n",
       "package \"RequirementTest\" as E1  [[psysml:8aa028f5-1693-4b51-bff2-c94d0f18c930 ]]  {\r\n",
       "comp def \"C\" as E2  <<(T,blue)constraint def>> [[psysml:27c2a771-07cf-4bde-9591-6030a1a15742 ]] {\r\n",
       "}\r\n",
       "comp usage \"c: C\" as E3  <<(T,blue)constraint>> [[psysml:da02b217-f155-4220-a2dc-d840d0d24f86 ]] {\r\n",
       "}\r\n",
       "comp def \"R\" as E4  <<(T,blue)requirement def>> [[psysml:b9a9d178-6ba0-415d-80bd-8d7e5aacf32f ]] {\r\n",
       "\r\n",
       "- -\r\n",
       "- - constraints - -\r\n",
       "<b>require</b> c\r\n",
       "<i>assume</i> c1: C\r\n",
       "}\r\n",
       "comp def \" [<b>1</b>] A\" as E5  <<(T,blue)requirement def>> [[psysml:5c4fbfc6-6feb-457a-9610-da755776e124 ]] {\r\n",
       "Text\r\n",
       "- -\r\n",
       "}\r\n",
       "comp usage \"<s>noname</s>\" as E8  <<(T,blue)requirement>> [[psysml:577c6bec-7675-4e65-a136-10b226b9020a ]] {\r\n",
       "}\r\n",
       "comp def \"R1\" as E9  <<(T,blue)requirement def>> [[psysml:291c6c45-8332-45a6-809f-574961a49898 ]] {\r\n",
       "- - constraints - -\r\n",
       "<b>require</b> c1\\n//:>>RequirementTest::c// \r\n",
       "}\r\n",
       "comp usage \"p\" as E11  <<(T,blue)part>> [[psysml:b7118396-8822-4234-af4f-531e34fd2b85 ]] {\r\n",
       "}\r\n",
       "comp usage \"q\" as E12  <<(T,blue)part>> [[psysml:5710aa92-7822-41e6-89ae-9d2d61cb8bf3 ]] {\r\n",
       "}\r\n",
       "comp usage \"r: R\" as E13  <<(T,blue)requirement>> [[psysml:b72900fb-e3ca-4439-ac22-acb3bf892de5 ]] {\r\n",
       "}\r\n",
       "E3 - -:|> E2 [[psysml:8b4534c8-c65f-4721-aa95-1aefa1ee4858 ]] \r\n",
       "E4 +- - E5 [[psysml:5c4fbfc6-6feb-457a-9610-da755776e124 ]] \r\n",
       "E4 *- - E8 [[psysml:577c6bec-7675-4e65-a136-10b226b9020a ]] \r\n",
       "E12 *- - E13 [[psysml:b72900fb-e3ca-4439-ac22-acb3bf892de5 ]] \r\n",
       "E13 - -:|> E4 [[psysml:ed6e641a-605b-4ed9-9064-d41509e7ab16 ]] \r\n",
       "E13 ..> E11 [[psysml:11f1a2a5-a4e7-4875-8b16-7052fd317758 ]] : <<satisfy>>\r\n",
       "}\r\n",
       "@enduml\r\n",
       "\n",
       "PlantUML version 1.2020.13(Sat Jun 13 12:26:38 UTC 2020)\n",
       "(EPL source distribution)\n",
       "Java Runtime: OpenJDK Runtime Environment\n",
       "JVM: OpenJDK 64-Bit Server VM\n",
       "Default Encoding: UTF-8\n",
       "Language: en\n",
       "Country: null\n",
       "--></g></svg>"
      ]
     },
     "execution_count": 9,
     "metadata": {},
     "output_type": "execute_result"
    }
   ],
   "source": [
    "%viz --style=\"POLYLINE\" --view=\"Default\" \"RequirementTest\""
   ]
  },
  {
   "cell_type": "code",
   "execution_count": 10,
   "id": "decent-medium",
   "metadata": {
    "execution": {
     "iopub.execute_input": "2021-03-26T09:12:26.942646Z",
     "iopub.status.busy": "2021-03-26T09:12:26.942093Z",
     "iopub.status.idle": "2021-03-26T09:12:27.044350Z",
     "shell.execute_reply": "2021-03-26T09:12:27.044732Z"
    }
   },
   "outputs": [
    {
     "data": {
      "image/svg+xml": [
       "<?xml version=\"1.0\" encoding=\"UTF-8\" standalone=\"no\"?><svg xmlns=\"http://www.w3.org/2000/svg\" xmlns:xlink=\"http://www.w3.org/1999/xlink\" contentScriptType=\"application/ecmascript\" contentStyleType=\"text/css\" height=\"578px\" preserveAspectRatio=\"none\" style=\"width:408px;height:578px;\" version=\"1.1\" viewBox=\"0 0 408 578\" width=\"408px\" zoomAndPan=\"magnify\"><defs/><g><!--MD5=[fbc87193dbaf4d95561dea2c320d4a47]\n",
       "cluster E1--><a href=\"psysml:8aa028f5-1693-4b51-bff2-c94d0f18c930\" target=\"_top\" title=\"psysml:8aa028f5-1693-4b51-bff2-c94d0f18c930\" xlink:actuate=\"onRequest\" xlink:href=\"psysml:8aa028f5-1693-4b51-bff2-c94d0f18c930\" xlink:show=\"new\" xlink:title=\"psysml:8aa028f5-1693-4b51-bff2-c94d0f18c930\" xlink:type=\"simple\"><polygon fill=\"#FFFFFF\" points=\"16,6,158,6,165,28.2969,386,28.2969,386,566,16,566,16,6\" style=\"stroke: #000000; stroke-width: 1.5;\"/><line style=\"stroke: #000000; stroke-width: 1.5;\" x1=\"16\" x2=\"165\" y1=\"28.2969\" y2=\"28.2969\"/><text fill=\"#000000\" font-family=\"sans-serif\" font-size=\"14\" font-weight=\"bold\" lengthAdjust=\"spacingAndGlyphs\" textLength=\"136\" x=\"20\" y=\"20.9951\">RequirementTest</text></a><!--MD5=[b4997ac47864f28c2f74865a473b2911]\n",
       "class E2--><a href=\"psysml:27c2a771-07cf-4bde-9591-6030a1a15742\" target=\"_top\" title=\"psysml:27c2a771-07cf-4bde-9591-6030a1a15742\" xlink:actuate=\"onRequest\" xlink:href=\"psysml:27c2a771-07cf-4bde-9591-6030a1a15742\" xlink:show=\"new\" xlink:title=\"psysml:27c2a771-07cf-4bde-9591-6030a1a15742\" xlink:type=\"simple\"><rect fill=\"#FFFFFF\" height=\"45.9375\" id=\"E2\" style=\"stroke: #383838; stroke-width: 1.5;\" width=\"104\" x=\"266\" y=\"190\"/><text fill=\"#000000\" font-family=\"sans-serif\" font-size=\"12\" font-style=\"italic\" lengthAdjust=\"spacingAndGlyphs\" textLength=\"102\" x=\"267\" y=\"206.1387\">«constraint def»</text><text fill=\"#000000\" font-family=\"sans-serif\" font-size=\"12\" lengthAdjust=\"spacingAndGlyphs\" textLength=\"8\" x=\"314\" y=\"220.1074\">C</text><line style=\"stroke: #383838; stroke-width: 1.5;\" x1=\"267\" x2=\"369\" y1=\"227.9375\" y2=\"227.9375\"/></a><!--MD5=[09b614a08d8cba4a07c9adeb5e0fee81]\n",
       "class E3--><a href=\"psysml:da02b217-f155-4220-a2dc-d840d0d24f86\" target=\"_top\" title=\"psysml:da02b217-f155-4220-a2dc-d840d0d24f86\" xlink:actuate=\"onRequest\" xlink:href=\"psysml:da02b217-f155-4220-a2dc-d840d0d24f86\" xlink:show=\"new\" xlink:title=\"psysml:da02b217-f155-4220-a2dc-d840d0d24f86\" xlink:type=\"simple\"><rect fill=\"#FFFFFF\" height=\"45.9375\" id=\"E3\" rx=\"10\" ry=\"10\" style=\"stroke: #383838; stroke-width: 1.5;\" width=\"80\" x=\"290\" y=\"62\"/><text fill=\"#000000\" font-family=\"sans-serif\" font-size=\"12\" font-style=\"italic\" lengthAdjust=\"spacingAndGlyphs\" textLength=\"78\" x=\"291\" y=\"78.1387\">«constraint»</text><text fill=\"#000000\" font-family=\"sans-serif\" font-size=\"12\" lengthAdjust=\"spacingAndGlyphs\" textLength=\"23\" x=\"318.5\" y=\"92.1074\">c: C</text><line style=\"stroke: #383838; stroke-width: 1.5;\" x1=\"291\" x2=\"369\" y1=\"99.9375\" y2=\"99.9375\"/></a><!--MD5=[ebbe1d658d1005bcc118a6aa81145e00]\n",
       "class E4--><a href=\"psysml:b9a9d178-6ba0-415d-80bd-8d7e5aacf32f\" target=\"_top\" title=\"psysml:b9a9d178-6ba0-415d-80bd-8d7e5aacf32f\" xlink:actuate=\"onRequest\" xlink:href=\"psysml:b9a9d178-6ba0-415d-80bd-8d7e5aacf32f\" xlink:show=\"new\" xlink:title=\"psysml:b9a9d178-6ba0-415d-80bd-8d7e5aacf32f\" xlink:type=\"simple\"><rect fill=\"#FFFFFF\" height=\"109.1563\" id=\"E4\" style=\"stroke: #383838; stroke-width: 1.5;\" width=\"117\" x=\"32.5\" y=\"313\"/><text fill=\"#000000\" font-family=\"sans-serif\" font-size=\"12\" font-style=\"italic\" lengthAdjust=\"spacingAndGlyphs\" textLength=\"115\" x=\"33.5\" y=\"329.1387\">«requirement def»</text><text fill=\"#000000\" font-family=\"sans-serif\" font-size=\"12\" lengthAdjust=\"spacingAndGlyphs\" textLength=\"8\" x=\"87\" y=\"343.1074\">R</text><line style=\"stroke: #383838; stroke-width: 1.5;\" x1=\"33.5\" x2=\"148.5\" y1=\"350.9375\" y2=\"350.9375\"/><text fill=\"#000000\" font-family=\"sans-serif\" font-size=\"11\" lengthAdjust=\"spacingAndGlyphs\" textLength=\"0\" x=\"42.5\" y=\"365.1479\"/><line style=\"stroke: #383838; stroke-width: 1.0;\" x1=\"33.5\" x2=\"148.5\" y1=\"371.7422\" y2=\"371.7422\"/><text fill=\"#000000\" font-family=\"sans-serif\" font-size=\"11\" font-weight=\"bold\" lengthAdjust=\"spacingAndGlyphs\" textLength=\"46\" x=\"38.5\" y=\"402.7573\">require</text><text fill=\"#000000\" font-family=\"sans-serif\" font-size=\"11\" lengthAdjust=\"spacingAndGlyphs\" textLength=\"6\" x=\"88.5\" y=\"402.7573\">c</text><text fill=\"#000000\" font-family=\"sans-serif\" font-size=\"11\" font-style=\"italic\" lengthAdjust=\"spacingAndGlyphs\" textLength=\"46\" x=\"38.5\" y=\"415.562\">assume</text><text fill=\"#000000\" font-family=\"sans-serif\" font-size=\"11\" lengthAdjust=\"spacingAndGlyphs\" textLength=\"29\" x=\"88.5\" y=\"415.562\">c1: C</text><line style=\"stroke: #383838; stroke-width: 1.0;\" x1=\"33.5\" x2=\"59\" y1=\"386.1445\" y2=\"386.1445\"/><text fill=\"#000000\" font-family=\"sans-serif\" font-size=\"11\" lengthAdjust=\"spacingAndGlyphs\" textLength=\"64\" x=\"59\" y=\"389.4526\">constraints</text><line style=\"stroke: #383838; stroke-width: 1.0;\" x1=\"123\" x2=\"148.5\" y1=\"386.1445\" y2=\"386.1445\"/></a><!--MD5=[270fce915f116d4de14055a7c1d9a0f3]\n",
       "class E5--><a href=\"psysml:5c4fbfc6-6feb-457a-9610-da755776e124\" target=\"_top\" title=\"psysml:5c4fbfc6-6feb-457a-9610-da755776e124\" xlink:actuate=\"onRequest\" xlink:href=\"psysml:5c4fbfc6-6feb-457a-9610-da755776e124\" xlink:show=\"new\" xlink:title=\"psysml:5c4fbfc6-6feb-457a-9610-da755776e124\" xlink:type=\"simple\"><rect fill=\"#FFFFFF\" height=\"66.7422\" id=\"E5\" style=\"stroke: #383838; stroke-width: 1.5;\" width=\"117\" x=\"32.5\" y=\"483\"/><text fill=\"#000000\" font-family=\"sans-serif\" font-size=\"12\" font-style=\"italic\" lengthAdjust=\"spacingAndGlyphs\" textLength=\"115\" x=\"33.5\" y=\"499.1387\">«requirement def»</text><text fill=\"#000000\" font-family=\"sans-serif\" font-size=\"12\" lengthAdjust=\"spacingAndGlyphs\" textLength=\"5\" x=\"78\" y=\"513.1074\">[</text><text fill=\"#000000\" font-family=\"sans-serif\" font-size=\"12\" font-weight=\"bold\" lengthAdjust=\"spacingAndGlyphs\" textLength=\"8\" x=\"83\" y=\"513.1074\">1</text><text fill=\"#000000\" font-family=\"sans-serif\" font-size=\"12\" lengthAdjust=\"spacingAndGlyphs\" textLength=\"17\" x=\"91\" y=\"513.1074\">] A</text><line style=\"stroke: #383838; stroke-width: 1.5;\" x1=\"33.5\" x2=\"148.5\" y1=\"520.9375\" y2=\"520.9375\"/><text fill=\"#000000\" font-family=\"sans-serif\" font-size=\"11\" lengthAdjust=\"spacingAndGlyphs\" textLength=\"24\" x=\"38.5\" y=\"535.1479\">Text</text><line style=\"stroke: #383838; stroke-width: 1.0;\" x1=\"33.5\" x2=\"148.5\" y1=\"541.7422\" y2=\"541.7422\"/></a><!--MD5=[b9389687b975829384b498ac4b7476b2]\n",
       "class E8--><a href=\"psysml:577c6bec-7675-4e65-a136-10b226b9020a\" target=\"_top\" title=\"psysml:577c6bec-7675-4e65-a136-10b226b9020a\" xlink:actuate=\"onRequest\" xlink:href=\"psysml:577c6bec-7675-4e65-a136-10b226b9020a\" xlink:show=\"new\" xlink:title=\"psysml:577c6bec-7675-4e65-a136-10b226b9020a\" xlink:type=\"simple\"><rect fill=\"#FFFFFF\" height=\"45.9375\" id=\"E8\" rx=\"10\" ry=\"10\" style=\"stroke: #383838; stroke-width: 1.5;\" width=\"93\" x=\"184.5\" y=\"493.5\"/><text fill=\"#000000\" font-family=\"sans-serif\" font-size=\"12\" font-style=\"italic\" lengthAdjust=\"spacingAndGlyphs\" textLength=\"91\" x=\"185.5\" y=\"509.6387\">«requirement»</text><text fill=\"#000000\" font-family=\"sans-serif\" font-size=\"12\" lengthAdjust=\"spacingAndGlyphs\" text-decoration=\"line-through\" textLength=\"51\" x=\"205.5\" y=\"523.6074\">noname</text><line style=\"stroke: #383838; stroke-width: 1.5;\" x1=\"185.5\" x2=\"276.5\" y1=\"531.4375\" y2=\"531.4375\"/></a><!--MD5=[fd4143e9d270a159db93a4ea2a975926]\n",
       "class E9--><a href=\"psysml:291c6c45-8332-45a6-809f-574961a49898\" target=\"_top\" title=\"psysml:291c6c45-8332-45a6-809f-574961a49898\" xlink:actuate=\"onRequest\" xlink:href=\"psysml:291c6c45-8332-45a6-809f-574961a49898\" xlink:show=\"new\" xlink:title=\"psysml:291c6c45-8332-45a6-809f-574961a49898\" xlink:type=\"simple\"><rect fill=\"#FFFFFF\" height=\"88.3516\" id=\"E9\" style=\"stroke: #383838; stroke-width: 1.5;\" width=\"145\" x=\"109.5\" y=\"41\"/><text fill=\"#000000\" font-family=\"sans-serif\" font-size=\"12\" font-style=\"italic\" lengthAdjust=\"spacingAndGlyphs\" textLength=\"115\" x=\"124.5\" y=\"57.1387\">«requirement def»</text><text fill=\"#000000\" font-family=\"sans-serif\" font-size=\"12\" lengthAdjust=\"spacingAndGlyphs\" textLength=\"16\" x=\"174\" y=\"71.1074\">R1</text><line style=\"stroke: #383838; stroke-width: 1.5;\" x1=\"110.5\" x2=\"253.5\" y1=\"78.9375\" y2=\"78.9375\"/><text fill=\"#000000\" font-family=\"sans-serif\" font-size=\"11\" font-weight=\"bold\" lengthAdjust=\"spacingAndGlyphs\" textLength=\"46\" x=\"115.5\" y=\"109.9526\">require</text><text fill=\"#000000\" font-family=\"sans-serif\" font-size=\"11\" lengthAdjust=\"spacingAndGlyphs\" textLength=\"13\" x=\"165.5\" y=\"109.9526\">c1</text><text fill=\"#000000\" font-family=\"sans-serif\" font-size=\"11\" font-style=\"italic\" lengthAdjust=\"spacingAndGlyphs\" textLength=\"133\" x=\"115.5\" y=\"122.7573\">:&gt;&gt;RequirementTest::c</text><line style=\"stroke: #383838; stroke-width: 1.0;\" x1=\"110.5\" x2=\"150\" y1=\"93.3398\" y2=\"93.3398\"/><text fill=\"#000000\" font-family=\"sans-serif\" font-size=\"11\" lengthAdjust=\"spacingAndGlyphs\" textLength=\"64\" x=\"150\" y=\"96.6479\">constraints</text><line style=\"stroke: #383838; stroke-width: 1.0;\" x1=\"214\" x2=\"253.5\" y1=\"93.3398\" y2=\"93.3398\"/></a><!--MD5=[1dd1bfd58a279cf63c5f349dbc8fc6a1]\n",
       "class E11--><a href=\"psysml:b7118396-8822-4234-af4f-531e34fd2b85\" target=\"_top\" title=\"psysml:b7118396-8822-4234-af4f-531e34fd2b85\" xlink:actuate=\"onRequest\" xlink:href=\"psysml:b7118396-8822-4234-af4f-531e34fd2b85\" xlink:show=\"new\" xlink:title=\"psysml:b7118396-8822-4234-af4f-531e34fd2b85\" xlink:type=\"simple\"><rect fill=\"#FFFFFF\" height=\"45.9375\" id=\"E11\" rx=\"10\" ry=\"10\" style=\"stroke: #383838; stroke-width: 1.5;\" width=\"42\" x=\"185\" y=\"344.5\"/><text fill=\"#000000\" font-family=\"sans-serif\" font-size=\"12\" font-style=\"italic\" lengthAdjust=\"spacingAndGlyphs\" textLength=\"40\" x=\"186\" y=\"360.6387\">«part»</text><text fill=\"#000000\" font-family=\"sans-serif\" font-size=\"12\" lengthAdjust=\"spacingAndGlyphs\" textLength=\"8\" x=\"202\" y=\"374.6074\">p</text><line style=\"stroke: #383838; stroke-width: 1.5;\" x1=\"186\" x2=\"226\" y1=\"382.4375\" y2=\"382.4375\"/></a><!--MD5=[49a0ec8f00dab7302a31f22d0f0fe584]\n",
       "class E12--><a href=\"psysml:5710aa92-7822-41e6-89ae-9d2d61cb8bf3\" target=\"_top\" title=\"psysml:5710aa92-7822-41e6-89ae-9d2d61cb8bf3\" xlink:actuate=\"onRequest\" xlink:href=\"psysml:5710aa92-7822-41e6-89ae-9d2d61cb8bf3\" xlink:show=\"new\" xlink:title=\"psysml:5710aa92-7822-41e6-89ae-9d2d61cb8bf3\" xlink:type=\"simple\"><rect fill=\"#FFFFFF\" height=\"45.9375\" id=\"E12\" rx=\"10\" ry=\"10\" style=\"stroke: #383838; stroke-width: 1.5;\" width=\"42\" x=\"32\" y=\"62\"/><text fill=\"#000000\" font-family=\"sans-serif\" font-size=\"12\" font-style=\"italic\" lengthAdjust=\"spacingAndGlyphs\" textLength=\"40\" x=\"33\" y=\"78.1387\">«part»</text><text fill=\"#000000\" font-family=\"sans-serif\" font-size=\"12\" lengthAdjust=\"spacingAndGlyphs\" textLength=\"8\" x=\"49\" y=\"92.1074\">q</text><line style=\"stroke: #383838; stroke-width: 1.5;\" x1=\"33\" x2=\"73\" y1=\"99.9375\" y2=\"99.9375\"/></a><!--MD5=[ee3c913d1a06f366521f9ef512b67efe]\n",
       "class E13--><a href=\"psysml:b72900fb-e3ca-4439-ac22-acb3bf892de5\" target=\"_top\" title=\"psysml:b72900fb-e3ca-4439-ac22-acb3bf892de5\" xlink:actuate=\"onRequest\" xlink:href=\"psysml:b72900fb-e3ca-4439-ac22-acb3bf892de5\" xlink:show=\"new\" xlink:title=\"psysml:b72900fb-e3ca-4439-ac22-acb3bf892de5\" xlink:type=\"simple\"><rect fill=\"#FFFFFF\" height=\"45.9375\" id=\"E13\" rx=\"10\" ry=\"10\" style=\"stroke: #383838; stroke-width: 1.5;\" width=\"93\" x=\"44.5\" y=\"190\"/><text fill=\"#000000\" font-family=\"sans-serif\" font-size=\"12\" font-style=\"italic\" lengthAdjust=\"spacingAndGlyphs\" textLength=\"91\" x=\"45.5\" y=\"206.1387\">«requirement»</text><text fill=\"#000000\" font-family=\"sans-serif\" font-size=\"12\" lengthAdjust=\"spacingAndGlyphs\" textLength=\"21\" x=\"80.5\" y=\"220.1074\">r: R</text><line style=\"stroke: #383838; stroke-width: 1.5;\" x1=\"45.5\" x2=\"136.5\" y1=\"227.9375\" y2=\"227.9375\"/></a><!--MD5=[05d275557350bfb9b23a4ef7222b4c39]\n",
       "link E3 to E2--><a href=\"psysml:8b4534c8-c65f-4721-aa95-1aefa1ee4858\" target=\"_top\" title=\"psysml:8b4534c8-c65f-4721-aa95-1aefa1ee4858\" xlink:actuate=\"onRequest\" xlink:href=\"psysml:8b4534c8-c65f-4721-aa95-1aefa1ee4858\" xlink:show=\"new\" xlink:title=\"psysml:8b4534c8-c65f-4721-aa95-1aefa1ee4858\" xlink:type=\"simple\"><path d=\"M327.88,108.24 C326.26,125.24 323.98,149.19 322.02,169.79 \" fill=\"none\" id=\"E3-&gt;E2\" style=\"stroke: #383838; stroke-width: 1.0;\"/><polygon fill=\"#FFFFFF\" points=\"320.1,189.99,314.9362,170.411,328.8729,171.7407,320.1,189.99\" style=\"stroke: #383838; stroke-width: 1.0;\"/><ellipse cx=\"317.4685\" cy=\"164.9268\" fill=\"#383838\" rx=\"2\" ry=\"2\" style=\"stroke: #383838; stroke-width: 1.0;\"/><ellipse cx=\"327.4233\" cy=\"165.8765\" fill=\"#383838\" rx=\"2\" ry=\"2\" style=\"stroke: #383838; stroke-width: 1.0;\"/></a><!--MD5=[62aa6af11e70f752912c1cb0466f24f7]\n",
       "reverse link E4 to E5--><a href=\"psysml:5c4fbfc6-6feb-457a-9610-da755776e124\" target=\"_top\" title=\"psysml:5c4fbfc6-6feb-457a-9610-da755776e124\" xlink:actuate=\"onRequest\" xlink:href=\"psysml:5c4fbfc6-6feb-457a-9610-da755776e124\" xlink:show=\"new\" xlink:title=\"psysml:5c4fbfc6-6feb-457a-9610-da755776e124\" xlink:type=\"simple\"><path d=\"M91,437.45 C91,453.34 91,469.51 91,482.98 \" fill=\"none\" id=\"E4&lt;-E5\" style=\"stroke: #383838; stroke-width: 1.0;\"/><ellipse cx=\"91\" cy=\"430.4\" fill=\"#FFFFFF\" rx=\"8\" ry=\"8\" style=\"stroke: #383838; stroke-width: 1.0;\"/><line style=\"stroke: #383838; stroke-width: 1.0;\" x1=\"91\" x2=\"91\" y1=\"438.4\" y2=\"422.4\"/><line style=\"stroke: #383838; stroke-width: 1.0;\" x1=\"83\" x2=\"99\" y1=\"430.4\" y2=\"430.4\"/></a><!--MD5=[c6fc7cdb0cabde04948078cf183fa696]\n",
       "reverse link E4 to E8--><a href=\"psysml:577c6bec-7675-4e65-a136-10b226b9020a\" target=\"_top\" title=\"psysml:577c6bec-7675-4e65-a136-10b226b9020a\" xlink:actuate=\"onRequest\" xlink:href=\"psysml:577c6bec-7675-4e65-a136-10b226b9020a\" xlink:show=\"new\" xlink:title=\"psysml:577c6bec-7675-4e65-a136-10b226b9020a\" xlink:type=\"simple\"><path d=\"M151.51,432.04 C172.42,453.99 194.47,477.14 210.03,493.48 \" fill=\"none\" id=\"E4&lt;-E8\" style=\"stroke: #383838; stroke-width: 1.0;\"/><polygon fill=\"#383838\" points=\"142.34,422.4,143.5779,429.5041,150.6116,431.0937,149.3737,423.9897,142.34,422.4\" style=\"stroke: #383838; stroke-width: 1.0;\"/></a><!--MD5=[062ed86c389d1a88f61c6380d0491e17]\n",
       "reverse link E12 to E13--><a href=\"psysml:b72900fb-e3ca-4439-ac22-acb3bf892de5\" target=\"_top\" title=\"psysml:b72900fb-e3ca-4439-ac22-acb3bf892de5\" xlink:actuate=\"onRequest\" xlink:href=\"psysml:b72900fb-e3ca-4439-ac22-acb3bf892de5\" xlink:show=\"new\" xlink:title=\"psysml:b72900fb-e3ca-4439-ac22-acb3bf892de5\" xlink:type=\"simple\"><path d=\"M63.49,120.8 C70.17,142.92 78.6,170.89 84.36,189.99 \" fill=\"none\" id=\"E12&lt;-E13\" style=\"stroke: #383838; stroke-width: 1.0;\"/><polygon fill=\"#383838\" points=\"59.71,108.24,57.6129,115.1394,63.1751,119.7288,65.2722,112.8294,59.71,108.24\" style=\"stroke: #383838; stroke-width: 1.0;\"/></a><!--MD5=[017847e01ff9a8bd19f247411074f987]\n",
       "link E13 to E4--><a href=\"psysml:ed6e641a-605b-4ed9-9064-d41509e7ab16\" target=\"_top\" title=\"psysml:ed6e641a-605b-4ed9-9064-d41509e7ab16\" xlink:actuate=\"onRequest\" xlink:href=\"psysml:ed6e641a-605b-4ed9-9064-d41509e7ab16\" xlink:show=\"new\" xlink:title=\"psysml:ed6e641a-605b-4ed9-9064-d41509e7ab16\" xlink:type=\"simple\"><path d=\"M91,236.17 C91,251.17 91,271.91 91,292.44 \" fill=\"none\" id=\"E13-&gt;E4\" style=\"stroke: #383838; stroke-width: 1.0;\"/><polygon fill=\"#FFFFFF\" points=\"91,312.68,84,293.68,98,293.68,91,312.68\" style=\"stroke: #383838; stroke-width: 1.0;\"/><ellipse cx=\"86\" cy=\"287.98\" fill=\"#383838\" rx=\"2\" ry=\"2\" style=\"stroke: #383838; stroke-width: 1.0;\"/><ellipse cx=\"96\" cy=\"287.98\" fill=\"#383838\" rx=\"2\" ry=\"2\" style=\"stroke: #383838; stroke-width: 1.0;\"/></a><!--MD5=[2cfe899c895462254056921bfb67315f]\n",
       "link E13 to E11--><a href=\"psysml:11f1a2a5-a4e7-4875-8b16-7052fd317758\" target=\"_top\" title=\"psysml:11f1a2a5-a4e7-4875-8b16-7052fd317758\" xlink:actuate=\"onRequest\" xlink:href=\"psysml:11f1a2a5-a4e7-4875-8b16-7052fd317758\" xlink:show=\"new\" xlink:title=\"psysml:11f1a2a5-a4e7-4875-8b16-7052fd317758\" xlink:type=\"simple\"><path d=\"M108.25,236.46 C130.67,265.67 167,313 167,313 C167,313 176.99,326.71 186.86,340.25 \" fill=\"none\" id=\"E13-&gt;E11\" style=\"stroke: #383838; stroke-width: 1.0; stroke-dasharray: 7.0,7.0;\"/><polygon fill=\"#383838\" points=\"189.91,344.43,187.8474,334.7996,186.9674,340.3876,181.3794,339.5076,189.91,344.43\" style=\"stroke: #383838; stroke-width: 1.0;\"/><text fill=\"#000000\" font-family=\"sans-serif\" font-size=\"13\" lengthAdjust=\"spacingAndGlyphs\" textLength=\"57\" x=\"143\" y=\"279.0669\">«satisfy»</text></a><!--MD5=[9cae958ac2fdf510a00fa349c011afb0]\n",
       "@startuml\r\n",
       "skinparam linetype polyline\r\n",
       "skinparam monochrome true\r\n",
       "skinparam classbackgroundcolor white\r\n",
       "skinparam shadowing false\r\n",
       "skinparam wrapWidth 300\r\n",
       "hide circle\r\n",
       "\r\n",
       "package \"RequirementTest\" as E1  [[psysml:8aa028f5-1693-4b51-bff2-c94d0f18c930 ]]  {\r\n",
       "comp def \"C\" as E2  <<(T,blue)constraint def>> [[psysml:27c2a771-07cf-4bde-9591-6030a1a15742 ]] {\r\n",
       "}\r\n",
       "comp usage \"c: C\" as E3  <<(T,blue)constraint>> [[psysml:da02b217-f155-4220-a2dc-d840d0d24f86 ]] {\r\n",
       "}\r\n",
       "comp def \"R\" as E4  <<(T,blue)requirement def>> [[psysml:b9a9d178-6ba0-415d-80bd-8d7e5aacf32f ]] {\r\n",
       "\r\n",
       "- -\r\n",
       "- - constraints - -\r\n",
       "<b>require</b> c\r\n",
       "<i>assume</i> c1: C\r\n",
       "}\r\n",
       "comp def \" [<b>1</b>] A\" as E5  <<(T,blue)requirement def>> [[psysml:5c4fbfc6-6feb-457a-9610-da755776e124 ]] {\r\n",
       "Text\r\n",
       "- -\r\n",
       "}\r\n",
       "comp usage \"<s>noname</s>\" as E8  <<(T,blue)requirement>> [[psysml:577c6bec-7675-4e65-a136-10b226b9020a ]] {\r\n",
       "}\r\n",
       "comp def \"R1\" as E9  <<(T,blue)requirement def>> [[psysml:291c6c45-8332-45a6-809f-574961a49898 ]] {\r\n",
       "- - constraints - -\r\n",
       "<b>require</b> c1\\n//:>>RequirementTest::c// \r\n",
       "}\r\n",
       "comp usage \"p\" as E11  <<(T,blue)part>> [[psysml:b7118396-8822-4234-af4f-531e34fd2b85 ]] {\r\n",
       "}\r\n",
       "comp usage \"q\" as E12  <<(T,blue)part>> [[psysml:5710aa92-7822-41e6-89ae-9d2d61cb8bf3 ]] {\r\n",
       "}\r\n",
       "comp usage \"r: R\" as E13  <<(T,blue)requirement>> [[psysml:b72900fb-e3ca-4439-ac22-acb3bf892de5 ]] {\r\n",
       "}\r\n",
       "E3 - -:|> E2 [[psysml:8b4534c8-c65f-4721-aa95-1aefa1ee4858 ]] \r\n",
       "E4 +- - E5 [[psysml:5c4fbfc6-6feb-457a-9610-da755776e124 ]] \r\n",
       "E4 *- - E8 [[psysml:577c6bec-7675-4e65-a136-10b226b9020a ]] \r\n",
       "E12 *- - E13 [[psysml:b72900fb-e3ca-4439-ac22-acb3bf892de5 ]] \r\n",
       "E13 - -:|> E4 [[psysml:ed6e641a-605b-4ed9-9064-d41509e7ab16 ]] \r\n",
       "E13 ..> E11 [[psysml:11f1a2a5-a4e7-4875-8b16-7052fd317758 ]] : <<satisfy>>\r\n",
       "}\r\n",
       "@enduml\r\n",
       "\n",
       "PlantUML version 1.2020.13(Sat Jun 13 12:26:38 UTC 2020)\n",
       "(EPL source distribution)\n",
       "Java Runtime: OpenJDK Runtime Environment\n",
       "JVM: OpenJDK 64-Bit Server VM\n",
       "Default Encoding: UTF-8\n",
       "Language: en\n",
       "Country: null\n",
       "--></g></svg>"
      ]
     },
     "execution_count": 10,
     "metadata": {},
     "output_type": "execute_result"
    }
   ],
   "source": [
    "%viz --style=\"POLYLINE\" --view=\"Tree\" \"RequirementTest\""
   ]
  },
  {
   "cell_type": "code",
   "execution_count": 11,
   "id": "adolescent-combat",
   "metadata": {
    "execution": {
     "iopub.execute_input": "2021-03-26T09:12:27.095512Z",
     "iopub.status.busy": "2021-03-26T09:12:27.095045Z",
     "iopub.status.idle": "2021-03-26T09:12:27.100702Z",
     "shell.execute_reply": "2021-03-26T09:12:27.101024Z"
    }
   },
   "outputs": [
    {
     "data": {
      "image/svg+xml": [
       "<?xml version=\"1.0\" encoding=\"UTF-8\" standalone=\"no\"?><svg xmlns=\"http://www.w3.org/2000/svg\" xmlns:xlink=\"http://www.w3.org/1999/xlink\" contentScriptType=\"application/ecmascript\" contentStyleType=\"text/css\" height=\"12px\" preserveAspectRatio=\"none\" style=\"width:12px;height:12px;\" version=\"1.1\" viewBox=\"0 0 12 12\" width=\"12px\" zoomAndPan=\"magnify\"><defs/><g><!--MD5=[896ac0e7a515d8dd7765a661cb4ee08b]\n",
       "@startuml\r\n",
       "skinparam linetype polyline\r\n",
       "skinparam monochrome true\r\n",
       "skinparam classbackgroundcolor white\r\n",
       "skinparam shadowing false\r\n",
       "skinparam wrapWidth 300\r\n",
       "hide circle\r\n",
       "\r\n",
       "@enduml\r\n",
       "\n",
       "PlantUML version 1.2020.13(Sat Jun 13 12:26:38 UTC 2020)\n",
       "(EPL source distribution)\n",
       "Java Runtime: OpenJDK Runtime Environment\n",
       "JVM: OpenJDK 64-Bit Server VM\n",
       "Default Encoding: UTF-8\n",
       "Language: en\n",
       "Country: null\n",
       "--></g></svg>"
      ]
     },
     "execution_count": 11,
     "metadata": {},
     "output_type": "execute_result"
    }
   ],
   "source": [
    "%viz --style=\"POLYLINE\" --view=\"State\" \"RequirementTest\""
   ]
  },
  {
   "cell_type": "code",
   "execution_count": 12,
   "id": "geographic-communist",
   "metadata": {
    "execution": {
     "iopub.execute_input": "2021-03-26T09:12:27.152058Z",
     "iopub.status.busy": "2021-03-26T09:12:27.151677Z",
     "iopub.status.idle": "2021-03-26T09:12:27.190880Z",
     "shell.execute_reply": "2021-03-26T09:12:27.190571Z"
    }
   },
   "outputs": [
    {
     "data": {
      "image/svg+xml": [
       "<?xml version=\"1.0\" encoding=\"UTF-8\" standalone=\"no\"?><svg xmlns=\"http://www.w3.org/2000/svg\" xmlns:xlink=\"http://www.w3.org/1999/xlink\" contentScriptType=\"application/ecmascript\" contentStyleType=\"text/css\" height=\"367px\" preserveAspectRatio=\"none\" style=\"width:980px;height:367px;\" version=\"1.1\" viewBox=\"0 0 980 367\" width=\"980px\" zoomAndPan=\"magnify\"><defs/><g><!--MD5=[fbc87193dbaf4d95561dea2c320d4a47]\n",
       "cluster E1--><a href=\"psysml:8aa028f5-1693-4b51-bff2-c94d0f18c930\" target=\"_top\" title=\"psysml:8aa028f5-1693-4b51-bff2-c94d0f18c930\" xlink:actuate=\"onRequest\" xlink:href=\"psysml:8aa028f5-1693-4b51-bff2-c94d0f18c930\" xlink:show=\"new\" xlink:title=\"psysml:8aa028f5-1693-4b51-bff2-c94d0f18c930\" xlink:type=\"simple\"><polygon fill=\"#FFFFFF\" points=\"16,6,158,6,165,28.2969,958,28.2969,958,355,16,355,16,6\" style=\"stroke: #000000; stroke-width: 1.5;\"/><line style=\"stroke: #000000; stroke-width: 1.5;\" x1=\"16\" x2=\"165\" y1=\"28.2969\" y2=\"28.2969\"/><text fill=\"#000000\" font-family=\"sans-serif\" font-size=\"14\" font-weight=\"bold\" lengthAdjust=\"spacingAndGlyphs\" textLength=\"136\" x=\"20\" y=\"20.9951\">RequirementTest</text></a><!--MD5=[168fadf3d0c3fd93dd5d6da1b1d7ab76]\n",
       "cluster E7--><a href=\"psysml:5710aa92-7822-41e6-89ae-9d2d61cb8bf3\" target=\"_top\" title=\"psysml:5710aa92-7822-41e6-89ae-9d2d61cb8bf3\" xlink:actuate=\"onRequest\" xlink:href=\"psysml:5710aa92-7822-41e6-89ae-9d2d61cb8bf3\" xlink:show=\"new\" xlink:title=\"psysml:5710aa92-7822-41e6-89ae-9d2d61cb8bf3\" xlink:type=\"simple\"><rect fill=\"#FFFFFF\" height=\"209\" id=\"E7\" rx=\"10\" ry=\"10\" style=\"stroke: #383838; stroke-width: 1.5;\" width=\"213\" x=\"721\" y=\"49\"/><rect fill=\"#F8F8F8\" height=\"23.9688\" rx=\"10\" ry=\"10\" style=\"stroke: #F8F8F8; stroke-width: 1.5;\" width=\"213\" x=\"721\" y=\"49\"/><rect fill=\"#F8F8F8\" height=\"10\" style=\"stroke: #F8F8F8; stroke-width: 1.5;\" width=\"213\" x=\"721\" y=\"62.9688\"/><rect fill=\"none\" height=\"209\" id=\"E7\" rx=\"10\" ry=\"10\" style=\"stroke: #383838; stroke-width: 1.5;\" width=\"213\" x=\"721\" y=\"49\"/><text fill=\"#000000\" font-family=\"sans-serif\" font-size=\"12\" lengthAdjust=\"spacingAndGlyphs\" textLength=\"8\" x=\"823.5\" y=\"65.1387\">q</text><line style=\"stroke: #383838; stroke-width: 1.0;\" x1=\"721\" x2=\"934\" y1=\"72.9688\" y2=\"72.9688\"/></a><!--MD5=[55dfccfc6c49c2d10cd1bd2211a6c90c]\n",
       "cluster E8--><a href=\"psysml:b72900fb-e3ca-4439-ac22-acb3bf892de5\" target=\"_top\" title=\"psysml:b72900fb-e3ca-4439-ac22-acb3bf892de5\" xlink:actuate=\"onRequest\" xlink:href=\"psysml:b72900fb-e3ca-4439-ac22-acb3bf892de5\" xlink:show=\"new\" xlink:title=\"psysml:b72900fb-e3ca-4439-ac22-acb3bf892de5\" xlink:type=\"simple\"><rect fill=\"#FFFFFF\" height=\"126\" id=\"E8\" rx=\"10\" ry=\"10\" style=\"stroke: #383838; stroke-width: 1.5;\" width=\"149\" x=\"753\" y=\"100\"/><rect fill=\"#F8F8F8\" height=\"37.9375\" rx=\"10\" ry=\"10\" style=\"stroke: #F8F8F8; stroke-width: 1.5;\" width=\"149\" x=\"753\" y=\"100\"/><rect fill=\"#F8F8F8\" height=\"10\" style=\"stroke: #F8F8F8; stroke-width: 1.5;\" width=\"149\" x=\"753\" y=\"127.9375\"/><rect fill=\"none\" height=\"126\" id=\"E8\" rx=\"10\" ry=\"10\" style=\"stroke: #383838; stroke-width: 1.5;\" width=\"149\" x=\"753\" y=\"100\"/><text fill=\"#000000\" font-family=\"sans-serif\" font-size=\"12\" font-style=\"italic\" lengthAdjust=\"spacingAndGlyphs\" textLength=\"91\" x=\"782\" y=\"116.1387\">«requirement»</text><text fill=\"#000000\" font-family=\"sans-serif\" font-size=\"12\" lengthAdjust=\"spacingAndGlyphs\" textLength=\"21\" x=\"817\" y=\"130.1074\">r: R</text><line style=\"stroke: #383838; stroke-width: 1.0;\" x1=\"753\" x2=\"902\" y1=\"137.9375\" y2=\"137.9375\"/></a><!--MD5=[b4997ac47864f28c2f74865a473b2911]\n",
       "class E2--><a href=\"psysml:27c2a771-07cf-4bde-9591-6030a1a15742\" target=\"_top\" title=\"psysml:27c2a771-07cf-4bde-9591-6030a1a15742\" xlink:actuate=\"onRequest\" xlink:href=\"psysml:27c2a771-07cf-4bde-9591-6030a1a15742\" xlink:show=\"new\" xlink:title=\"psysml:27c2a771-07cf-4bde-9591-6030a1a15742\" xlink:type=\"simple\"><rect fill=\"#FFFFFF\" height=\"53.9375\" id=\"E2\" style=\"stroke: #383838; stroke-width: 1.5;\" width=\"152\" x=\"553\" y=\"153.5\"/><text fill=\"#000000\" font-family=\"sans-serif\" font-size=\"12\" font-style=\"italic\" lengthAdjust=\"spacingAndGlyphs\" textLength=\"150\" x=\"554\" y=\"169.6387\">«(T,blue)constraint def»</text><text fill=\"#000000\" font-family=\"sans-serif\" font-size=\"12\" lengthAdjust=\"spacingAndGlyphs\" textLength=\"8\" x=\"625\" y=\"183.6074\">C</text><line style=\"stroke: #383838; stroke-width: 1.5;\" x1=\"554\" x2=\"704\" y1=\"191.4375\" y2=\"191.4375\"/><line style=\"stroke: #383838; stroke-width: 1.5;\" x1=\"554\" x2=\"704\" y1=\"199.4375\" y2=\"199.4375\"/></a><!--MD5=[ebbe1d658d1005bcc118a6aa81145e00]\n",
       "class E4--><a href=\"psysml:b9a9d178-6ba0-415d-80bd-8d7e5aacf32f\" target=\"_top\" title=\"psysml:b9a9d178-6ba0-415d-80bd-8d7e5aacf32f\" xlink:actuate=\"onRequest\" xlink:href=\"psysml:b9a9d178-6ba0-415d-80bd-8d7e5aacf32f\" xlink:show=\"new\" xlink:title=\"psysml:b9a9d178-6ba0-415d-80bd-8d7e5aacf32f\" xlink:type=\"simple\"><rect fill=\"#FFFFFF\" height=\"53.9375\" id=\"E4\" style=\"stroke: #383838; stroke-width: 1.5;\" width=\"165\" x=\"352.5\" y=\"153.5\"/><text fill=\"#000000\" font-family=\"sans-serif\" font-size=\"12\" font-style=\"italic\" lengthAdjust=\"spacingAndGlyphs\" textLength=\"163\" x=\"353.5\" y=\"169.6387\">«(T,blue)requirement def»</text><text fill=\"#000000\" font-family=\"sans-serif\" font-size=\"12\" lengthAdjust=\"spacingAndGlyphs\" textLength=\"8\" x=\"431\" y=\"183.6074\">R</text><line style=\"stroke: #383838; stroke-width: 1.5;\" x1=\"353.5\" x2=\"516.5\" y1=\"191.4375\" y2=\"191.4375\"/><line style=\"stroke: #383838; stroke-width: 1.5;\" x1=\"353.5\" x2=\"516.5\" y1=\"199.4375\" y2=\"199.4375\"/></a><!--MD5=[270fce915f116d4de14055a7c1d9a0f3]\n",
       "class E5--><a href=\"psysml:291c6c45-8332-45a6-809f-574961a49898\" target=\"_top\" title=\"psysml:291c6c45-8332-45a6-809f-574961a49898\" xlink:actuate=\"onRequest\" xlink:href=\"psysml:291c6c45-8332-45a6-809f-574961a49898\" xlink:show=\"new\" xlink:title=\"psysml:291c6c45-8332-45a6-809f-574961a49898\" xlink:type=\"simple\"><rect fill=\"#FFFFFF\" height=\"53.9375\" id=\"E5\" style=\"stroke: #383838; stroke-width: 1.5;\" width=\"165\" x=\"152.5\" y=\"153.5\"/><text fill=\"#000000\" font-family=\"sans-serif\" font-size=\"12\" font-style=\"italic\" lengthAdjust=\"spacingAndGlyphs\" textLength=\"163\" x=\"153.5\" y=\"169.6387\">«(T,blue)requirement def»</text><text fill=\"#000000\" font-family=\"sans-serif\" font-size=\"12\" lengthAdjust=\"spacingAndGlyphs\" textLength=\"16\" x=\"227\" y=\"183.6074\">R1</text><line style=\"stroke: #383838; stroke-width: 1.5;\" x1=\"153.5\" x2=\"316.5\" y1=\"191.4375\" y2=\"191.4375\"/><line style=\"stroke: #383838; stroke-width: 1.5;\" x1=\"153.5\" x2=\"316.5\" y1=\"199.4375\" y2=\"199.4375\"/></a><g id=\"E1.E3\"><a href=\"psysml:da02b217-f155-4220-a2dc-d840d0d24f86\" target=\"_top\" title=\"psysml:da02b217-f155-4220-a2dc-d840d0d24f86\" xlink:actuate=\"onRequest\" xlink:href=\"psysml:da02b217-f155-4220-a2dc-d840d0d24f86\" xlink:show=\"new\" xlink:title=\"psysml:da02b217-f155-4220-a2dc-d840d0d24f86\" xlink:type=\"simple\"><rect fill=\"#FFFFFF\" height=\"42.9375\" id=\"E3\" rx=\"10\" ry=\"10\" style=\"stroke: #383838; stroke-width: 1.5;\" width=\"85\" x=\"32.5\" y=\"159\"/><rect fill=\"#F8F8F8\" height=\"37.9375\" rx=\"10\" ry=\"10\" style=\"stroke: #F8F8F8; stroke-width: 1.5;\" width=\"85\" x=\"32.5\" y=\"159\"/><rect fill=\"#F8F8F8\" height=\"10\" style=\"stroke: #F8F8F8; stroke-width: 1.5;\" width=\"85\" x=\"32.5\" y=\"186.9375\"/><rect fill=\"none\" height=\"42.9375\" id=\"E3\" rx=\"10\" ry=\"10\" style=\"stroke: #383838; stroke-width: 1.5;\" width=\"85\" x=\"32.5\" y=\"159\"/><text fill=\"#000000\" font-family=\"sans-serif\" font-size=\"12\" font-style=\"italic\" lengthAdjust=\"spacingAndGlyphs\" textLength=\"78\" x=\"36\" y=\"175.1387\">«constraint»</text><text fill=\"#000000\" font-family=\"sans-serif\" font-size=\"12\" lengthAdjust=\"spacingAndGlyphs\" textLength=\"23\" x=\"63.5\" y=\"189.1074\">c: C</text></a></g><g id=\"E1.E6\"><a href=\"psysml:b7118396-8822-4234-af4f-531e34fd2b85\" target=\"_top\" title=\"psysml:b7118396-8822-4234-af4f-531e34fd2b85\" xlink:actuate=\"onRequest\" xlink:href=\"psysml:b7118396-8822-4234-af4f-531e34fd2b85\" xlink:show=\"new\" xlink:title=\"psysml:b7118396-8822-4234-af4f-531e34fd2b85\" xlink:type=\"simple\"><rect fill=\"#FFFFFF\" height=\"40\" id=\"E6\" rx=\"10\" ry=\"10\" style=\"stroke: #383838; stroke-width: 1.5;\" width=\"50\" x=\"736\" y=\"299\"/><rect fill=\"#F8F8F8\" height=\"23.9688\" rx=\"10\" ry=\"10\" style=\"stroke: #F8F8F8; stroke-width: 1.5;\" width=\"50\" x=\"736\" y=\"299\"/><rect fill=\"#F8F8F8\" height=\"10\" style=\"stroke: #F8F8F8; stroke-width: 1.5;\" width=\"50\" x=\"736\" y=\"312.9688\"/><rect fill=\"none\" height=\"40\" id=\"E6\" rx=\"10\" ry=\"10\" style=\"stroke: #383838; stroke-width: 1.5;\" width=\"50\" x=\"736\" y=\"299\"/><text fill=\"#000000\" font-family=\"sans-serif\" font-size=\"12\" lengthAdjust=\"spacingAndGlyphs\" textLength=\"8\" x=\"757\" y=\"315.1387\">p</text></a></g><g id=\"E1.E7.E8.E9\"><a href=\"psysml:b3b786b4-2056-4ded-a351-3a90cb9a49e0\" target=\"_top\" title=\"psysml:b3b786b4-2056-4ded-a351-3a90cb9a49e0\" xlink:actuate=\"onRequest\" xlink:href=\"psysml:b3b786b4-2056-4ded-a351-3a90cb9a49e0\" xlink:show=\"new\" xlink:title=\"psysml:b3b786b4-2056-4ded-a351-3a90cb9a49e0\" xlink:type=\"simple\"><rect fill=\"#FFFFFF\" height=\"42.9375\" id=\"E9\" rx=\"10\" ry=\"10\" style=\"stroke: #383838; stroke-width: 1.5;\" width=\"82\" x=\"796\" y=\"159\"/><rect fill=\"#F8F8F8\" height=\"37.9375\" rx=\"10\" ry=\"10\" style=\"stroke: #F8F8F8; stroke-width: 1.5;\" width=\"82\" x=\"796\" y=\"159\"/><rect fill=\"#F8F8F8\" height=\"10\" style=\"stroke: #F8F8F8; stroke-width: 1.5;\" width=\"82\" x=\"796\" y=\"186.9375\"/><rect fill=\"none\" height=\"42.9375\" id=\"E9\" rx=\"10\" ry=\"10\" style=\"stroke: #383838; stroke-width: 1.5;\" width=\"82\" x=\"796\" y=\"159\"/><text fill=\"#000000\" font-family=\"sans-serif\" font-size=\"12\" font-style=\"italic\" lengthAdjust=\"spacingAndGlyphs\" textLength=\"75\" x=\"799.5\" y=\"175.1387\">«reference»</text><text fill=\"#000000\" font-family=\"sans-serif\" font-size=\"12\" lengthAdjust=\"spacingAndGlyphs\" textLength=\"26\" x=\"824\" y=\"189.1074\">subj</text></a></g><!--MD5=[c5e8897d989ce984f93528998a7150fe]\n",
       "link E8 to E6--><a href=\"psysml:11f1a2a5-a4e7-4875-8b16-7052fd317758\" target=\"_top\" title=\"psysml:11f1a2a5-a4e7-4875-8b16-7052fd317758\" xlink:actuate=\"onRequest\" xlink:href=\"psysml:11f1a2a5-a4e7-4875-8b16-7052fd317758\" xlink:show=\"new\" xlink:title=\"psysml:11f1a2a5-a4e7-4875-8b16-7052fd317758\" xlink:type=\"simple\"><path d=\"M761,226.4501 C761,227.1713 761,227.8965 761,228.6252 C761,230.0826 761,231.5543 761,233.0372 C761,236.003 761,239.0136 761,242.0448 C761,248.1072 761,254.2518 761,260.2839 C761,272.3481 761,283.9625 761,293.57 \" fill=\"none\" id=\"E8-&gt;E6\" style=\"stroke: #383838; stroke-width: 1.0; stroke-dasharray: 7.0,7.0;\"/><polygon fill=\"#383838\" points=\"761,298.99,765,289.99,761,293.99,757,289.99,761,298.99\" style=\"stroke: #383838; stroke-width: 1.0;\"/><text fill=\"#000000\" font-family=\"sans-serif\" font-size=\"13\" lengthAdjust=\"spacingAndGlyphs\" textLength=\"57\" x=\"762\" y=\"287.0669\">«satisfy»</text></a><!--MD5=[f00195c8015e5b844f84379e5eac4e83]\n",
       "@startuml\r\n",
       "skinparam ranksep 8\r\n",
       "skinparam rectangle {\r\n",
       " backgroundColor<<block>> LightGreen\r\n",
       "}\r\n",
       "skinparam linetype polyline\r\n",
       "skinparam monochrome true\r\n",
       "skinparam classbackgroundcolor white\r\n",
       "skinparam shadowing false\r\n",
       "skinparam wrapWidth 300\r\n",
       "hide circle\r\n",
       "\r\n",
       "package \"RequirementTest\" as E1  [[psysml:8aa028f5-1693-4b51-bff2-c94d0f18c930 ]]  {\r\n",
       "def \"C\" as E2  <<(T,blue)constraint def>> [[psysml:27c2a771-07cf-4bde-9591-6030a1a15742 ]] \r\n",
       "rec usage \"c: C\" as E3  <<(T,blue)constraint>> [[psysml:da02b217-f155-4220-a2dc-d840d0d24f86 ]] {\r\n",
       "}\r\n",
       "def \"R\" as E4  <<(T,blue)requirement def>> [[psysml:b9a9d178-6ba0-415d-80bd-8d7e5aacf32f ]] \r\n",
       "def \"R1\" as E5  <<(T,blue)requirement def>> [[psysml:291c6c45-8332-45a6-809f-574961a49898 ]] \r\n",
       "rec usage \"p\" as E6  [[psysml:b7118396-8822-4234-af4f-531e34fd2b85 ]] {\r\n",
       "}\r\n",
       "rec usage \"q\" as E7  [[psysml:5710aa92-7822-41e6-89ae-9d2d61cb8bf3 ]] {\r\n",
       "rec usage \"r: R\" as E8  <<(T,blue)requirement>> [[psysml:b72900fb-e3ca-4439-ac22-acb3bf892de5 ]] {\r\n",
       "rec usage \"subj\" as E9  <<(T,blue)reference>> [[psysml:b3b786b4-2056-4ded-a351-3a90cb9a49e0 ]] {\r\n",
       "}\r\n",
       "}\r\n",
       "}\r\n",
       "E8 ..> E6 [[psysml:11f1a2a5-a4e7-4875-8b16-7052fd317758 ]] : <<satisfy>>\r\n",
       "}\r\n",
       "@enduml\r\n",
       "\n",
       "PlantUML version 1.2020.13(Sat Jun 13 12:26:38 UTC 2020)\n",
       "(EPL source distribution)\n",
       "Java Runtime: OpenJDK Runtime Environment\n",
       "JVM: OpenJDK 64-Bit Server VM\n",
       "Default Encoding: UTF-8\n",
       "Language: en\n",
       "Country: null\n",
       "--></g></svg>"
      ]
     },
     "execution_count": 12,
     "metadata": {},
     "output_type": "execute_result"
    }
   ],
   "source": [
    "%viz --style=\"POLYLINE\" --view=\"Interconnection\" \"RequirementTest\""
   ]
  },
  {
   "cell_type": "code",
   "execution_count": 13,
   "id": "duplicate-rating",
   "metadata": {
    "execution": {
     "iopub.execute_input": "2021-03-26T09:12:27.242119Z",
     "iopub.status.busy": "2021-03-26T09:12:27.241638Z",
     "iopub.status.idle": "2021-03-26T09:12:27.247631Z",
     "shell.execute_reply": "2021-03-26T09:12:27.247988Z"
    }
   },
   "outputs": [
    {
     "data": {
      "image/svg+xml": [
       "<?xml version=\"1.0\" encoding=\"UTF-8\" standalone=\"no\"?><svg xmlns=\"http://www.w3.org/2000/svg\" xmlns:xlink=\"http://www.w3.org/1999/xlink\" contentScriptType=\"application/ecmascript\" contentStyleType=\"text/css\" height=\"12px\" preserveAspectRatio=\"none\" style=\"width:12px;height:12px;\" version=\"1.1\" viewBox=\"0 0 12 12\" width=\"12px\" zoomAndPan=\"magnify\"><defs/><g><!--MD5=[97bbf32f66ccd50cbc40d92ea8f5a65e]\n",
       "@startuml\r\n",
       "skinparam ranksep 8\r\n",
       "skinparam linetype polyline\r\n",
       "skinparam monochrome true\r\n",
       "skinparam classbackgroundcolor white\r\n",
       "skinparam shadowing false\r\n",
       "skinparam wrapWidth 300\r\n",
       "hide circle\r\n",
       "\r\n",
       "@enduml\r\n",
       "\n",
       "PlantUML version 1.2020.13(Sat Jun 13 12:26:38 UTC 2020)\n",
       "(EPL source distribution)\n",
       "Java Runtime: OpenJDK Runtime Environment\n",
       "JVM: OpenJDK 64-Bit Server VM\n",
       "Default Encoding: UTF-8\n",
       "Language: en\n",
       "Country: null\n",
       "--></g></svg>"
      ]
     },
     "execution_count": 13,
     "metadata": {},
     "output_type": "execute_result"
    }
   ],
   "source": [
    "%viz --style=\"POLYLINE\" --view=\"Action\" \"RequirementTest\""
   ]
  },
  {
   "cell_type": "code",
   "execution_count": 14,
   "id": "amino-madonna",
   "metadata": {
    "execution": {
     "iopub.execute_input": "2021-03-26T09:12:27.298934Z",
     "iopub.status.busy": "2021-03-26T09:12:27.298308Z",
     "iopub.status.idle": "2021-03-26T09:12:27.392442Z",
     "shell.execute_reply": "2021-03-26T09:12:27.390965Z"
    }
   },
   "outputs": [
    {
     "data": {
      "image/svg+xml": [
       "<?xml version=\"1.0\" encoding=\"UTF-8\" standalone=\"no\"?><svg xmlns=\"http://www.w3.org/2000/svg\" xmlns:xlink=\"http://www.w3.org/1999/xlink\" contentScriptType=\"application/ecmascript\" contentStyleType=\"text/css\" height=\"578px\" preserveAspectRatio=\"none\" style=\"width:408px;height:578px;\" version=\"1.1\" viewBox=\"0 0 408 578\" width=\"408px\" zoomAndPan=\"magnify\"><defs/><g><!--MD5=[fbc87193dbaf4d95561dea2c320d4a47]\n",
       "cluster E1--><a href=\"psysml:8aa028f5-1693-4b51-bff2-c94d0f18c930\" target=\"_top\" title=\"psysml:8aa028f5-1693-4b51-bff2-c94d0f18c930\" xlink:actuate=\"onRequest\" xlink:href=\"psysml:8aa028f5-1693-4b51-bff2-c94d0f18c930\" xlink:show=\"new\" xlink:title=\"psysml:8aa028f5-1693-4b51-bff2-c94d0f18c930\" xlink:type=\"simple\"><polygon fill=\"#FFFFFF\" points=\"16,6,158,6,165,28.2969,386,28.2969,386,566,16,566,16,6\" style=\"stroke: #000000; stroke-width: 1.5;\"/><line style=\"stroke: #000000; stroke-width: 1.5;\" x1=\"16\" x2=\"165\" y1=\"28.2969\" y2=\"28.2969\"/><text fill=\"#000000\" font-family=\"sans-serif\" font-size=\"14\" font-weight=\"bold\" lengthAdjust=\"spacingAndGlyphs\" textLength=\"136\" x=\"20\" y=\"20.9951\">RequirementTest</text></a><!--MD5=[b4997ac47864f28c2f74865a473b2911]\n",
       "class E2--><a href=\"psysml:27c2a771-07cf-4bde-9591-6030a1a15742\" target=\"_top\" title=\"psysml:27c2a771-07cf-4bde-9591-6030a1a15742\" xlink:actuate=\"onRequest\" xlink:href=\"psysml:27c2a771-07cf-4bde-9591-6030a1a15742\" xlink:show=\"new\" xlink:title=\"psysml:27c2a771-07cf-4bde-9591-6030a1a15742\" xlink:type=\"simple\"><rect fill=\"#FFFFFF\" height=\"45.9375\" id=\"E2\" style=\"stroke: #383838; stroke-width: 1.5;\" width=\"104\" x=\"266\" y=\"190\"/><text fill=\"#000000\" font-family=\"sans-serif\" font-size=\"12\" font-style=\"italic\" lengthAdjust=\"spacingAndGlyphs\" textLength=\"102\" x=\"267\" y=\"206.1387\">«constraint def»</text><text fill=\"#000000\" font-family=\"sans-serif\" font-size=\"12\" lengthAdjust=\"spacingAndGlyphs\" textLength=\"8\" x=\"314\" y=\"220.1074\">C</text><line style=\"stroke: #383838; stroke-width: 1.5;\" x1=\"267\" x2=\"369\" y1=\"227.9375\" y2=\"227.9375\"/></a><!--MD5=[09b614a08d8cba4a07c9adeb5e0fee81]\n",
       "class E3--><a href=\"psysml:da02b217-f155-4220-a2dc-d840d0d24f86\" target=\"_top\" title=\"psysml:da02b217-f155-4220-a2dc-d840d0d24f86\" xlink:actuate=\"onRequest\" xlink:href=\"psysml:da02b217-f155-4220-a2dc-d840d0d24f86\" xlink:show=\"new\" xlink:title=\"psysml:da02b217-f155-4220-a2dc-d840d0d24f86\" xlink:type=\"simple\"><rect fill=\"#FFFFFF\" height=\"45.9375\" id=\"E3\" rx=\"10\" ry=\"10\" style=\"stroke: #383838; stroke-width: 1.5;\" width=\"80\" x=\"290\" y=\"62\"/><text fill=\"#000000\" font-family=\"sans-serif\" font-size=\"12\" font-style=\"italic\" lengthAdjust=\"spacingAndGlyphs\" textLength=\"78\" x=\"291\" y=\"78.1387\">«constraint»</text><text fill=\"#000000\" font-family=\"sans-serif\" font-size=\"12\" lengthAdjust=\"spacingAndGlyphs\" textLength=\"23\" x=\"318.5\" y=\"92.1074\">c: C</text><line style=\"stroke: #383838; stroke-width: 1.5;\" x1=\"291\" x2=\"369\" y1=\"99.9375\" y2=\"99.9375\"/></a><!--MD5=[ebbe1d658d1005bcc118a6aa81145e00]\n",
       "class E4--><a href=\"psysml:b9a9d178-6ba0-415d-80bd-8d7e5aacf32f\" target=\"_top\" title=\"psysml:b9a9d178-6ba0-415d-80bd-8d7e5aacf32f\" xlink:actuate=\"onRequest\" xlink:href=\"psysml:b9a9d178-6ba0-415d-80bd-8d7e5aacf32f\" xlink:show=\"new\" xlink:title=\"psysml:b9a9d178-6ba0-415d-80bd-8d7e5aacf32f\" xlink:type=\"simple\"><rect fill=\"#FFFFFF\" height=\"109.1563\" id=\"E4\" style=\"stroke: #383838; stroke-width: 1.5;\" width=\"117\" x=\"32.5\" y=\"313\"/><text fill=\"#000000\" font-family=\"sans-serif\" font-size=\"12\" font-style=\"italic\" lengthAdjust=\"spacingAndGlyphs\" textLength=\"115\" x=\"33.5\" y=\"329.1387\">«requirement def»</text><text fill=\"#000000\" font-family=\"sans-serif\" font-size=\"12\" lengthAdjust=\"spacingAndGlyphs\" textLength=\"8\" x=\"87\" y=\"343.1074\">R</text><line style=\"stroke: #383838; stroke-width: 1.5;\" x1=\"33.5\" x2=\"148.5\" y1=\"350.9375\" y2=\"350.9375\"/><text fill=\"#000000\" font-family=\"sans-serif\" font-size=\"11\" lengthAdjust=\"spacingAndGlyphs\" textLength=\"0\" x=\"42.5\" y=\"365.1479\"/><line style=\"stroke: #383838; stroke-width: 1.0;\" x1=\"33.5\" x2=\"148.5\" y1=\"371.7422\" y2=\"371.7422\"/><text fill=\"#000000\" font-family=\"sans-serif\" font-size=\"11\" font-weight=\"bold\" lengthAdjust=\"spacingAndGlyphs\" textLength=\"46\" x=\"38.5\" y=\"402.7573\">require</text><text fill=\"#000000\" font-family=\"sans-serif\" font-size=\"11\" lengthAdjust=\"spacingAndGlyphs\" textLength=\"6\" x=\"88.5\" y=\"402.7573\">c</text><text fill=\"#000000\" font-family=\"sans-serif\" font-size=\"11\" font-style=\"italic\" lengthAdjust=\"spacingAndGlyphs\" textLength=\"46\" x=\"38.5\" y=\"415.562\">assume</text><text fill=\"#000000\" font-family=\"sans-serif\" font-size=\"11\" lengthAdjust=\"spacingAndGlyphs\" textLength=\"29\" x=\"88.5\" y=\"415.562\">c1: C</text><line style=\"stroke: #383838; stroke-width: 1.0;\" x1=\"33.5\" x2=\"59\" y1=\"386.1445\" y2=\"386.1445\"/><text fill=\"#000000\" font-family=\"sans-serif\" font-size=\"11\" lengthAdjust=\"spacingAndGlyphs\" textLength=\"64\" x=\"59\" y=\"389.4526\">constraints</text><line style=\"stroke: #383838; stroke-width: 1.0;\" x1=\"123\" x2=\"148.5\" y1=\"386.1445\" y2=\"386.1445\"/></a><!--MD5=[270fce915f116d4de14055a7c1d9a0f3]\n",
       "class E5--><a href=\"psysml:5c4fbfc6-6feb-457a-9610-da755776e124\" target=\"_top\" title=\"psysml:5c4fbfc6-6feb-457a-9610-da755776e124\" xlink:actuate=\"onRequest\" xlink:href=\"psysml:5c4fbfc6-6feb-457a-9610-da755776e124\" xlink:show=\"new\" xlink:title=\"psysml:5c4fbfc6-6feb-457a-9610-da755776e124\" xlink:type=\"simple\"><rect fill=\"#FFFFFF\" height=\"66.7422\" id=\"E5\" style=\"stroke: #383838; stroke-width: 1.5;\" width=\"117\" x=\"32.5\" y=\"483\"/><text fill=\"#000000\" font-family=\"sans-serif\" font-size=\"12\" font-style=\"italic\" lengthAdjust=\"spacingAndGlyphs\" textLength=\"115\" x=\"33.5\" y=\"499.1387\">«requirement def»</text><text fill=\"#000000\" font-family=\"sans-serif\" font-size=\"12\" lengthAdjust=\"spacingAndGlyphs\" textLength=\"5\" x=\"78\" y=\"513.1074\">[</text><text fill=\"#000000\" font-family=\"sans-serif\" font-size=\"12\" font-weight=\"bold\" lengthAdjust=\"spacingAndGlyphs\" textLength=\"8\" x=\"83\" y=\"513.1074\">1</text><text fill=\"#000000\" font-family=\"sans-serif\" font-size=\"12\" lengthAdjust=\"spacingAndGlyphs\" textLength=\"17\" x=\"91\" y=\"513.1074\">] A</text><line style=\"stroke: #383838; stroke-width: 1.5;\" x1=\"33.5\" x2=\"148.5\" y1=\"520.9375\" y2=\"520.9375\"/><text fill=\"#000000\" font-family=\"sans-serif\" font-size=\"11\" lengthAdjust=\"spacingAndGlyphs\" textLength=\"24\" x=\"38.5\" y=\"535.1479\">Text</text><line style=\"stroke: #383838; stroke-width: 1.0;\" x1=\"33.5\" x2=\"148.5\" y1=\"541.7422\" y2=\"541.7422\"/></a><!--MD5=[b9389687b975829384b498ac4b7476b2]\n",
       "class E8--><a href=\"psysml:577c6bec-7675-4e65-a136-10b226b9020a\" target=\"_top\" title=\"psysml:577c6bec-7675-4e65-a136-10b226b9020a\" xlink:actuate=\"onRequest\" xlink:href=\"psysml:577c6bec-7675-4e65-a136-10b226b9020a\" xlink:show=\"new\" xlink:title=\"psysml:577c6bec-7675-4e65-a136-10b226b9020a\" xlink:type=\"simple\"><rect fill=\"#FFFFFF\" height=\"45.9375\" id=\"E8\" rx=\"10\" ry=\"10\" style=\"stroke: #383838; stroke-width: 1.5;\" width=\"93\" x=\"184.5\" y=\"493.5\"/><text fill=\"#000000\" font-family=\"sans-serif\" font-size=\"12\" font-style=\"italic\" lengthAdjust=\"spacingAndGlyphs\" textLength=\"91\" x=\"185.5\" y=\"509.6387\">«requirement»</text><text fill=\"#000000\" font-family=\"sans-serif\" font-size=\"12\" lengthAdjust=\"spacingAndGlyphs\" text-decoration=\"line-through\" textLength=\"51\" x=\"205.5\" y=\"523.6074\">noname</text><line style=\"stroke: #383838; stroke-width: 1.5;\" x1=\"185.5\" x2=\"276.5\" y1=\"531.4375\" y2=\"531.4375\"/></a><!--MD5=[fd4143e9d270a159db93a4ea2a975926]\n",
       "class E9--><a href=\"psysml:291c6c45-8332-45a6-809f-574961a49898\" target=\"_top\" title=\"psysml:291c6c45-8332-45a6-809f-574961a49898\" xlink:actuate=\"onRequest\" xlink:href=\"psysml:291c6c45-8332-45a6-809f-574961a49898\" xlink:show=\"new\" xlink:title=\"psysml:291c6c45-8332-45a6-809f-574961a49898\" xlink:type=\"simple\"><rect fill=\"#FFFFFF\" height=\"88.3516\" id=\"E9\" style=\"stroke: #383838; stroke-width: 1.5;\" width=\"145\" x=\"109.5\" y=\"41\"/><text fill=\"#000000\" font-family=\"sans-serif\" font-size=\"12\" font-style=\"italic\" lengthAdjust=\"spacingAndGlyphs\" textLength=\"115\" x=\"124.5\" y=\"57.1387\">«requirement def»</text><text fill=\"#000000\" font-family=\"sans-serif\" font-size=\"12\" lengthAdjust=\"spacingAndGlyphs\" textLength=\"16\" x=\"174\" y=\"71.1074\">R1</text><line style=\"stroke: #383838; stroke-width: 1.5;\" x1=\"110.5\" x2=\"253.5\" y1=\"78.9375\" y2=\"78.9375\"/><text fill=\"#000000\" font-family=\"sans-serif\" font-size=\"11\" font-weight=\"bold\" lengthAdjust=\"spacingAndGlyphs\" textLength=\"46\" x=\"115.5\" y=\"109.9526\">require</text><text fill=\"#000000\" font-family=\"sans-serif\" font-size=\"11\" lengthAdjust=\"spacingAndGlyphs\" textLength=\"13\" x=\"165.5\" y=\"109.9526\">c1</text><text fill=\"#000000\" font-family=\"sans-serif\" font-size=\"11\" font-style=\"italic\" lengthAdjust=\"spacingAndGlyphs\" textLength=\"133\" x=\"115.5\" y=\"122.7573\">:&gt;&gt;RequirementTest::c</text><line style=\"stroke: #383838; stroke-width: 1.0;\" x1=\"110.5\" x2=\"150\" y1=\"93.3398\" y2=\"93.3398\"/><text fill=\"#000000\" font-family=\"sans-serif\" font-size=\"11\" lengthAdjust=\"spacingAndGlyphs\" textLength=\"64\" x=\"150\" y=\"96.6479\">constraints</text><line style=\"stroke: #383838; stroke-width: 1.0;\" x1=\"214\" x2=\"253.5\" y1=\"93.3398\" y2=\"93.3398\"/></a><!--MD5=[1dd1bfd58a279cf63c5f349dbc8fc6a1]\n",
       "class E11--><a href=\"psysml:b7118396-8822-4234-af4f-531e34fd2b85\" target=\"_top\" title=\"psysml:b7118396-8822-4234-af4f-531e34fd2b85\" xlink:actuate=\"onRequest\" xlink:href=\"psysml:b7118396-8822-4234-af4f-531e34fd2b85\" xlink:show=\"new\" xlink:title=\"psysml:b7118396-8822-4234-af4f-531e34fd2b85\" xlink:type=\"simple\"><rect fill=\"#FFFFFF\" height=\"45.9375\" id=\"E11\" rx=\"10\" ry=\"10\" style=\"stroke: #383838; stroke-width: 1.5;\" width=\"42\" x=\"185\" y=\"344.5\"/><text fill=\"#000000\" font-family=\"sans-serif\" font-size=\"12\" font-style=\"italic\" lengthAdjust=\"spacingAndGlyphs\" textLength=\"40\" x=\"186\" y=\"360.6387\">«part»</text><text fill=\"#000000\" font-family=\"sans-serif\" font-size=\"12\" lengthAdjust=\"spacingAndGlyphs\" textLength=\"8\" x=\"202\" y=\"374.6074\">p</text><line style=\"stroke: #383838; stroke-width: 1.5;\" x1=\"186\" x2=\"226\" y1=\"382.4375\" y2=\"382.4375\"/></a><!--MD5=[49a0ec8f00dab7302a31f22d0f0fe584]\n",
       "class E12--><a href=\"psysml:5710aa92-7822-41e6-89ae-9d2d61cb8bf3\" target=\"_top\" title=\"psysml:5710aa92-7822-41e6-89ae-9d2d61cb8bf3\" xlink:actuate=\"onRequest\" xlink:href=\"psysml:5710aa92-7822-41e6-89ae-9d2d61cb8bf3\" xlink:show=\"new\" xlink:title=\"psysml:5710aa92-7822-41e6-89ae-9d2d61cb8bf3\" xlink:type=\"simple\"><rect fill=\"#FFFFFF\" height=\"45.9375\" id=\"E12\" rx=\"10\" ry=\"10\" style=\"stroke: #383838; stroke-width: 1.5;\" width=\"42\" x=\"32\" y=\"62\"/><text fill=\"#000000\" font-family=\"sans-serif\" font-size=\"12\" font-style=\"italic\" lengthAdjust=\"spacingAndGlyphs\" textLength=\"40\" x=\"33\" y=\"78.1387\">«part»</text><text fill=\"#000000\" font-family=\"sans-serif\" font-size=\"12\" lengthAdjust=\"spacingAndGlyphs\" textLength=\"8\" x=\"49\" y=\"92.1074\">q</text><line style=\"stroke: #383838; stroke-width: 1.5;\" x1=\"33\" x2=\"73\" y1=\"99.9375\" y2=\"99.9375\"/></a><!--MD5=[ee3c913d1a06f366521f9ef512b67efe]\n",
       "class E13--><a href=\"psysml:b72900fb-e3ca-4439-ac22-acb3bf892de5\" target=\"_top\" title=\"psysml:b72900fb-e3ca-4439-ac22-acb3bf892de5\" xlink:actuate=\"onRequest\" xlink:href=\"psysml:b72900fb-e3ca-4439-ac22-acb3bf892de5\" xlink:show=\"new\" xlink:title=\"psysml:b72900fb-e3ca-4439-ac22-acb3bf892de5\" xlink:type=\"simple\"><rect fill=\"#FFFFFF\" height=\"45.9375\" id=\"E13\" rx=\"10\" ry=\"10\" style=\"stroke: #383838; stroke-width: 1.5;\" width=\"93\" x=\"44.5\" y=\"190\"/><text fill=\"#000000\" font-family=\"sans-serif\" font-size=\"12\" font-style=\"italic\" lengthAdjust=\"spacingAndGlyphs\" textLength=\"91\" x=\"45.5\" y=\"206.1387\">«requirement»</text><text fill=\"#000000\" font-family=\"sans-serif\" font-size=\"12\" lengthAdjust=\"spacingAndGlyphs\" textLength=\"21\" x=\"80.5\" y=\"220.1074\">r: R</text><line style=\"stroke: #383838; stroke-width: 1.5;\" x1=\"45.5\" x2=\"136.5\" y1=\"227.9375\" y2=\"227.9375\"/></a><!--MD5=[05d275557350bfb9b23a4ef7222b4c39]\n",
       "link E3 to E2--><a href=\"psysml:8b4534c8-c65f-4721-aa95-1aefa1ee4858\" target=\"_top\" title=\"psysml:8b4534c8-c65f-4721-aa95-1aefa1ee4858\" xlink:actuate=\"onRequest\" xlink:href=\"psysml:8b4534c8-c65f-4721-aa95-1aefa1ee4858\" xlink:show=\"new\" xlink:title=\"psysml:8b4534c8-c65f-4721-aa95-1aefa1ee4858\" xlink:type=\"simple\"><path d=\"M327.88,108.24 C326.26,125.24 323.98,149.19 322.02,169.79 \" fill=\"none\" id=\"E3-&gt;E2\" style=\"stroke: #383838; stroke-width: 1.0;\"/><polygon fill=\"#FFFFFF\" points=\"320.1,189.99,314.9362,170.411,328.8729,171.7407,320.1,189.99\" style=\"stroke: #383838; stroke-width: 1.0;\"/><ellipse cx=\"317.4685\" cy=\"164.9268\" fill=\"#383838\" rx=\"2\" ry=\"2\" style=\"stroke: #383838; stroke-width: 1.0;\"/><ellipse cx=\"327.4233\" cy=\"165.8765\" fill=\"#383838\" rx=\"2\" ry=\"2\" style=\"stroke: #383838; stroke-width: 1.0;\"/></a><!--MD5=[62aa6af11e70f752912c1cb0466f24f7]\n",
       "reverse link E4 to E5--><a href=\"psysml:5c4fbfc6-6feb-457a-9610-da755776e124\" target=\"_top\" title=\"psysml:5c4fbfc6-6feb-457a-9610-da755776e124\" xlink:actuate=\"onRequest\" xlink:href=\"psysml:5c4fbfc6-6feb-457a-9610-da755776e124\" xlink:show=\"new\" xlink:title=\"psysml:5c4fbfc6-6feb-457a-9610-da755776e124\" xlink:type=\"simple\"><path d=\"M91,437.45 C91,453.34 91,469.51 91,482.98 \" fill=\"none\" id=\"E4&lt;-E5\" style=\"stroke: #383838; stroke-width: 1.0;\"/><ellipse cx=\"91\" cy=\"430.4\" fill=\"#FFFFFF\" rx=\"8\" ry=\"8\" style=\"stroke: #383838; stroke-width: 1.0;\"/><line style=\"stroke: #383838; stroke-width: 1.0;\" x1=\"91\" x2=\"91\" y1=\"438.4\" y2=\"422.4\"/><line style=\"stroke: #383838; stroke-width: 1.0;\" x1=\"83\" x2=\"99\" y1=\"430.4\" y2=\"430.4\"/></a><!--MD5=[c6fc7cdb0cabde04948078cf183fa696]\n",
       "reverse link E4 to E8--><a href=\"psysml:577c6bec-7675-4e65-a136-10b226b9020a\" target=\"_top\" title=\"psysml:577c6bec-7675-4e65-a136-10b226b9020a\" xlink:actuate=\"onRequest\" xlink:href=\"psysml:577c6bec-7675-4e65-a136-10b226b9020a\" xlink:show=\"new\" xlink:title=\"psysml:577c6bec-7675-4e65-a136-10b226b9020a\" xlink:type=\"simple\"><path d=\"M151.51,432.04 C172.42,453.99 194.47,477.14 210.03,493.48 \" fill=\"none\" id=\"E4&lt;-E8\" style=\"stroke: #383838; stroke-width: 1.0;\"/><polygon fill=\"#383838\" points=\"142.34,422.4,143.5779,429.5041,150.6116,431.0937,149.3737,423.9897,142.34,422.4\" style=\"stroke: #383838; stroke-width: 1.0;\"/></a><!--MD5=[062ed86c389d1a88f61c6380d0491e17]\n",
       "reverse link E12 to E13--><a href=\"psysml:b72900fb-e3ca-4439-ac22-acb3bf892de5\" target=\"_top\" title=\"psysml:b72900fb-e3ca-4439-ac22-acb3bf892de5\" xlink:actuate=\"onRequest\" xlink:href=\"psysml:b72900fb-e3ca-4439-ac22-acb3bf892de5\" xlink:show=\"new\" xlink:title=\"psysml:b72900fb-e3ca-4439-ac22-acb3bf892de5\" xlink:type=\"simple\"><path d=\"M63.49,120.8 C70.17,142.92 78.6,170.89 84.36,189.99 \" fill=\"none\" id=\"E12&lt;-E13\" style=\"stroke: #383838; stroke-width: 1.0;\"/><polygon fill=\"#383838\" points=\"59.71,108.24,57.6129,115.1394,63.1751,119.7288,65.2722,112.8294,59.71,108.24\" style=\"stroke: #383838; stroke-width: 1.0;\"/></a><!--MD5=[017847e01ff9a8bd19f247411074f987]\n",
       "link E13 to E4--><a href=\"psysml:ed6e641a-605b-4ed9-9064-d41509e7ab16\" target=\"_top\" title=\"psysml:ed6e641a-605b-4ed9-9064-d41509e7ab16\" xlink:actuate=\"onRequest\" xlink:href=\"psysml:ed6e641a-605b-4ed9-9064-d41509e7ab16\" xlink:show=\"new\" xlink:title=\"psysml:ed6e641a-605b-4ed9-9064-d41509e7ab16\" xlink:type=\"simple\"><path d=\"M91,236.17 C91,251.17 91,271.91 91,292.44 \" fill=\"none\" id=\"E13-&gt;E4\" style=\"stroke: #383838; stroke-width: 1.0;\"/><polygon fill=\"#FFFFFF\" points=\"91,312.68,84,293.68,98,293.68,91,312.68\" style=\"stroke: #383838; stroke-width: 1.0;\"/><ellipse cx=\"86\" cy=\"287.98\" fill=\"#383838\" rx=\"2\" ry=\"2\" style=\"stroke: #383838; stroke-width: 1.0;\"/><ellipse cx=\"96\" cy=\"287.98\" fill=\"#383838\" rx=\"2\" ry=\"2\" style=\"stroke: #383838; stroke-width: 1.0;\"/></a><!--MD5=[2cfe899c895462254056921bfb67315f]\n",
       "link E13 to E11--><a href=\"psysml:11f1a2a5-a4e7-4875-8b16-7052fd317758\" target=\"_top\" title=\"psysml:11f1a2a5-a4e7-4875-8b16-7052fd317758\" xlink:actuate=\"onRequest\" xlink:href=\"psysml:11f1a2a5-a4e7-4875-8b16-7052fd317758\" xlink:show=\"new\" xlink:title=\"psysml:11f1a2a5-a4e7-4875-8b16-7052fd317758\" xlink:type=\"simple\"><path d=\"M108.25,236.46 C130.67,265.67 167,313 167,313 C167,313 176.99,326.71 186.86,340.25 \" fill=\"none\" id=\"E13-&gt;E11\" style=\"stroke: #383838; stroke-width: 1.0; stroke-dasharray: 7.0,7.0;\"/><polygon fill=\"#383838\" points=\"189.91,344.43,187.8474,334.7996,186.9674,340.3876,181.3794,339.5076,189.91,344.43\" style=\"stroke: #383838; stroke-width: 1.0;\"/><text fill=\"#000000\" font-family=\"sans-serif\" font-size=\"13\" lengthAdjust=\"spacingAndGlyphs\" textLength=\"57\" x=\"143\" y=\"279.0669\">«satisfy»</text></a><!--MD5=[9cae958ac2fdf510a00fa349c011afb0]\n",
       "@startuml\r\n",
       "skinparam linetype polyline\r\n",
       "skinparam monochrome true\r\n",
       "skinparam classbackgroundcolor white\r\n",
       "skinparam shadowing false\r\n",
       "skinparam wrapWidth 300\r\n",
       "hide circle\r\n",
       "\r\n",
       "package \"RequirementTest\" as E1  [[psysml:8aa028f5-1693-4b51-bff2-c94d0f18c930 ]]  {\r\n",
       "comp def \"C\" as E2  <<(T,blue)constraint def>> [[psysml:27c2a771-07cf-4bde-9591-6030a1a15742 ]] {\r\n",
       "}\r\n",
       "comp usage \"c: C\" as E3  <<(T,blue)constraint>> [[psysml:da02b217-f155-4220-a2dc-d840d0d24f86 ]] {\r\n",
       "}\r\n",
       "comp def \"R\" as E4  <<(T,blue)requirement def>> [[psysml:b9a9d178-6ba0-415d-80bd-8d7e5aacf32f ]] {\r\n",
       "\r\n",
       "- -\r\n",
       "- - constraints - -\r\n",
       "<b>require</b> c\r\n",
       "<i>assume</i> c1: C\r\n",
       "}\r\n",
       "comp def \" [<b>1</b>] A\" as E5  <<(T,blue)requirement def>> [[psysml:5c4fbfc6-6feb-457a-9610-da755776e124 ]] {\r\n",
       "Text\r\n",
       "- -\r\n",
       "}\r\n",
       "comp usage \"<s>noname</s>\" as E8  <<(T,blue)requirement>> [[psysml:577c6bec-7675-4e65-a136-10b226b9020a ]] {\r\n",
       "}\r\n",
       "comp def \"R1\" as E9  <<(T,blue)requirement def>> [[psysml:291c6c45-8332-45a6-809f-574961a49898 ]] {\r\n",
       "- - constraints - -\r\n",
       "<b>require</b> c1\\n//:>>RequirementTest::c// \r\n",
       "}\r\n",
       "comp usage \"p\" as E11  <<(T,blue)part>> [[psysml:b7118396-8822-4234-af4f-531e34fd2b85 ]] {\r\n",
       "}\r\n",
       "comp usage \"q\" as E12  <<(T,blue)part>> [[psysml:5710aa92-7822-41e6-89ae-9d2d61cb8bf3 ]] {\r\n",
       "}\r\n",
       "comp usage \"r: R\" as E13  <<(T,blue)requirement>> [[psysml:b72900fb-e3ca-4439-ac22-acb3bf892de5 ]] {\r\n",
       "}\r\n",
       "E3 - -:|> E2 [[psysml:8b4534c8-c65f-4721-aa95-1aefa1ee4858 ]] \r\n",
       "E4 +- - E5 [[psysml:5c4fbfc6-6feb-457a-9610-da755776e124 ]] \r\n",
       "E4 *- - E8 [[psysml:577c6bec-7675-4e65-a136-10b226b9020a ]] \r\n",
       "E12 *- - E13 [[psysml:b72900fb-e3ca-4439-ac22-acb3bf892de5 ]] \r\n",
       "E13 - -:|> E4 [[psysml:ed6e641a-605b-4ed9-9064-d41509e7ab16 ]] \r\n",
       "E13 ..> E11 [[psysml:11f1a2a5-a4e7-4875-8b16-7052fd317758 ]] : <<satisfy>>\r\n",
       "}\r\n",
       "@enduml\r\n",
       "\n",
       "PlantUML version 1.2020.13(Sat Jun 13 12:26:38 UTC 2020)\n",
       "(EPL source distribution)\n",
       "Java Runtime: OpenJDK Runtime Environment\n",
       "JVM: OpenJDK 64-Bit Server VM\n",
       "Default Encoding: UTF-8\n",
       "Language: en\n",
       "Country: null\n",
       "--></g></svg>"
      ]
     },
     "execution_count": 14,
     "metadata": {},
     "output_type": "execute_result"
    }
   ],
   "source": [
    "%viz --style=\"POLYLINE\" --view=\"Sequence\" \"RequirementTest\""
   ]
  },
  {
   "cell_type": "code",
   "execution_count": 15,
   "id": "protective-clearance",
   "metadata": {
    "execution": {
     "iopub.execute_input": "2021-03-26T09:12:27.441916Z",
     "iopub.status.busy": "2021-03-26T09:12:27.441594Z",
     "iopub.status.idle": "2021-03-26T09:12:27.533057Z",
     "shell.execute_reply": "2021-03-26T09:12:27.531628Z"
    }
   },
   "outputs": [
    {
     "data": {
      "image/svg+xml": [
       "<?xml version=\"1.0\" encoding=\"UTF-8\" standalone=\"no\"?><svg xmlns=\"http://www.w3.org/2000/svg\" xmlns:xlink=\"http://www.w3.org/1999/xlink\" contentScriptType=\"application/ecmascript\" contentStyleType=\"text/css\" height=\"578px\" preserveAspectRatio=\"none\" style=\"width:408px;height:578px;\" version=\"1.1\" viewBox=\"0 0 408 578\" width=\"408px\" zoomAndPan=\"magnify\"><defs/><g><!--MD5=[fbc87193dbaf4d95561dea2c320d4a47]\n",
       "cluster E1--><a href=\"psysml:8aa028f5-1693-4b51-bff2-c94d0f18c930\" target=\"_top\" title=\"psysml:8aa028f5-1693-4b51-bff2-c94d0f18c930\" xlink:actuate=\"onRequest\" xlink:href=\"psysml:8aa028f5-1693-4b51-bff2-c94d0f18c930\" xlink:show=\"new\" xlink:title=\"psysml:8aa028f5-1693-4b51-bff2-c94d0f18c930\" xlink:type=\"simple\"><polygon fill=\"#FFFFFF\" points=\"16,6,158,6,165,28.2969,386,28.2969,386,566,16,566,16,6\" style=\"stroke: #000000; stroke-width: 1.5;\"/><line style=\"stroke: #000000; stroke-width: 1.5;\" x1=\"16\" x2=\"165\" y1=\"28.2969\" y2=\"28.2969\"/><text fill=\"#000000\" font-family=\"sans-serif\" font-size=\"14\" font-weight=\"bold\" lengthAdjust=\"spacingAndGlyphs\" textLength=\"136\" x=\"20\" y=\"20.9951\">RequirementTest</text></a><!--MD5=[b4997ac47864f28c2f74865a473b2911]\n",
       "class E2--><a href=\"psysml:27c2a771-07cf-4bde-9591-6030a1a15742\" target=\"_top\" title=\"psysml:27c2a771-07cf-4bde-9591-6030a1a15742\" xlink:actuate=\"onRequest\" xlink:href=\"psysml:27c2a771-07cf-4bde-9591-6030a1a15742\" xlink:show=\"new\" xlink:title=\"psysml:27c2a771-07cf-4bde-9591-6030a1a15742\" xlink:type=\"simple\"><rect fill=\"#FFFFFF\" height=\"45.9375\" id=\"E2\" style=\"stroke: #383838; stroke-width: 1.5;\" width=\"104\" x=\"266\" y=\"190\"/><text fill=\"#000000\" font-family=\"sans-serif\" font-size=\"12\" font-style=\"italic\" lengthAdjust=\"spacingAndGlyphs\" textLength=\"102\" x=\"267\" y=\"206.1387\">«constraint def»</text><text fill=\"#000000\" font-family=\"sans-serif\" font-size=\"12\" lengthAdjust=\"spacingAndGlyphs\" textLength=\"8\" x=\"314\" y=\"220.1074\">C</text><line style=\"stroke: #383838; stroke-width: 1.5;\" x1=\"267\" x2=\"369\" y1=\"227.9375\" y2=\"227.9375\"/></a><!--MD5=[09b614a08d8cba4a07c9adeb5e0fee81]\n",
       "class E3--><a href=\"psysml:da02b217-f155-4220-a2dc-d840d0d24f86\" target=\"_top\" title=\"psysml:da02b217-f155-4220-a2dc-d840d0d24f86\" xlink:actuate=\"onRequest\" xlink:href=\"psysml:da02b217-f155-4220-a2dc-d840d0d24f86\" xlink:show=\"new\" xlink:title=\"psysml:da02b217-f155-4220-a2dc-d840d0d24f86\" xlink:type=\"simple\"><rect fill=\"#FFFFFF\" height=\"45.9375\" id=\"E3\" rx=\"10\" ry=\"10\" style=\"stroke: #383838; stroke-width: 1.5;\" width=\"80\" x=\"290\" y=\"62\"/><text fill=\"#000000\" font-family=\"sans-serif\" font-size=\"12\" font-style=\"italic\" lengthAdjust=\"spacingAndGlyphs\" textLength=\"78\" x=\"291\" y=\"78.1387\">«constraint»</text><text fill=\"#000000\" font-family=\"sans-serif\" font-size=\"12\" lengthAdjust=\"spacingAndGlyphs\" textLength=\"23\" x=\"318.5\" y=\"92.1074\">c: C</text><line style=\"stroke: #383838; stroke-width: 1.5;\" x1=\"291\" x2=\"369\" y1=\"99.9375\" y2=\"99.9375\"/></a><!--MD5=[ebbe1d658d1005bcc118a6aa81145e00]\n",
       "class E4--><a href=\"psysml:b9a9d178-6ba0-415d-80bd-8d7e5aacf32f\" target=\"_top\" title=\"psysml:b9a9d178-6ba0-415d-80bd-8d7e5aacf32f\" xlink:actuate=\"onRequest\" xlink:href=\"psysml:b9a9d178-6ba0-415d-80bd-8d7e5aacf32f\" xlink:show=\"new\" xlink:title=\"psysml:b9a9d178-6ba0-415d-80bd-8d7e5aacf32f\" xlink:type=\"simple\"><rect fill=\"#FFFFFF\" height=\"109.1563\" id=\"E4\" style=\"stroke: #383838; stroke-width: 1.5;\" width=\"117\" x=\"32.5\" y=\"313\"/><text fill=\"#000000\" font-family=\"sans-serif\" font-size=\"12\" font-style=\"italic\" lengthAdjust=\"spacingAndGlyphs\" textLength=\"115\" x=\"33.5\" y=\"329.1387\">«requirement def»</text><text fill=\"#000000\" font-family=\"sans-serif\" font-size=\"12\" lengthAdjust=\"spacingAndGlyphs\" textLength=\"8\" x=\"87\" y=\"343.1074\">R</text><line style=\"stroke: #383838; stroke-width: 1.5;\" x1=\"33.5\" x2=\"148.5\" y1=\"350.9375\" y2=\"350.9375\"/><text fill=\"#000000\" font-family=\"sans-serif\" font-size=\"11\" lengthAdjust=\"spacingAndGlyphs\" textLength=\"0\" x=\"42.5\" y=\"365.1479\"/><line style=\"stroke: #383838; stroke-width: 1.0;\" x1=\"33.5\" x2=\"148.5\" y1=\"371.7422\" y2=\"371.7422\"/><text fill=\"#000000\" font-family=\"sans-serif\" font-size=\"11\" font-weight=\"bold\" lengthAdjust=\"spacingAndGlyphs\" textLength=\"46\" x=\"38.5\" y=\"402.7573\">require</text><text fill=\"#000000\" font-family=\"sans-serif\" font-size=\"11\" lengthAdjust=\"spacingAndGlyphs\" textLength=\"6\" x=\"88.5\" y=\"402.7573\">c</text><text fill=\"#000000\" font-family=\"sans-serif\" font-size=\"11\" font-style=\"italic\" lengthAdjust=\"spacingAndGlyphs\" textLength=\"46\" x=\"38.5\" y=\"415.562\">assume</text><text fill=\"#000000\" font-family=\"sans-serif\" font-size=\"11\" lengthAdjust=\"spacingAndGlyphs\" textLength=\"29\" x=\"88.5\" y=\"415.562\">c1: C</text><line style=\"stroke: #383838; stroke-width: 1.0;\" x1=\"33.5\" x2=\"59\" y1=\"386.1445\" y2=\"386.1445\"/><text fill=\"#000000\" font-family=\"sans-serif\" font-size=\"11\" lengthAdjust=\"spacingAndGlyphs\" textLength=\"64\" x=\"59\" y=\"389.4526\">constraints</text><line style=\"stroke: #383838; stroke-width: 1.0;\" x1=\"123\" x2=\"148.5\" y1=\"386.1445\" y2=\"386.1445\"/></a><!--MD5=[270fce915f116d4de14055a7c1d9a0f3]\n",
       "class E5--><a href=\"psysml:5c4fbfc6-6feb-457a-9610-da755776e124\" target=\"_top\" title=\"psysml:5c4fbfc6-6feb-457a-9610-da755776e124\" xlink:actuate=\"onRequest\" xlink:href=\"psysml:5c4fbfc6-6feb-457a-9610-da755776e124\" xlink:show=\"new\" xlink:title=\"psysml:5c4fbfc6-6feb-457a-9610-da755776e124\" xlink:type=\"simple\"><rect fill=\"#FFFFFF\" height=\"66.7422\" id=\"E5\" style=\"stroke: #383838; stroke-width: 1.5;\" width=\"117\" x=\"32.5\" y=\"483\"/><text fill=\"#000000\" font-family=\"sans-serif\" font-size=\"12\" font-style=\"italic\" lengthAdjust=\"spacingAndGlyphs\" textLength=\"115\" x=\"33.5\" y=\"499.1387\">«requirement def»</text><text fill=\"#000000\" font-family=\"sans-serif\" font-size=\"12\" lengthAdjust=\"spacingAndGlyphs\" textLength=\"5\" x=\"78\" y=\"513.1074\">[</text><text fill=\"#000000\" font-family=\"sans-serif\" font-size=\"12\" font-weight=\"bold\" lengthAdjust=\"spacingAndGlyphs\" textLength=\"8\" x=\"83\" y=\"513.1074\">1</text><text fill=\"#000000\" font-family=\"sans-serif\" font-size=\"12\" lengthAdjust=\"spacingAndGlyphs\" textLength=\"17\" x=\"91\" y=\"513.1074\">] A</text><line style=\"stroke: #383838; stroke-width: 1.5;\" x1=\"33.5\" x2=\"148.5\" y1=\"520.9375\" y2=\"520.9375\"/><text fill=\"#000000\" font-family=\"sans-serif\" font-size=\"11\" lengthAdjust=\"spacingAndGlyphs\" textLength=\"24\" x=\"38.5\" y=\"535.1479\">Text</text><line style=\"stroke: #383838; stroke-width: 1.0;\" x1=\"33.5\" x2=\"148.5\" y1=\"541.7422\" y2=\"541.7422\"/></a><!--MD5=[b9389687b975829384b498ac4b7476b2]\n",
       "class E8--><a href=\"psysml:577c6bec-7675-4e65-a136-10b226b9020a\" target=\"_top\" title=\"psysml:577c6bec-7675-4e65-a136-10b226b9020a\" xlink:actuate=\"onRequest\" xlink:href=\"psysml:577c6bec-7675-4e65-a136-10b226b9020a\" xlink:show=\"new\" xlink:title=\"psysml:577c6bec-7675-4e65-a136-10b226b9020a\" xlink:type=\"simple\"><rect fill=\"#FFFFFF\" height=\"45.9375\" id=\"E8\" rx=\"10\" ry=\"10\" style=\"stroke: #383838; stroke-width: 1.5;\" width=\"93\" x=\"184.5\" y=\"493.5\"/><text fill=\"#000000\" font-family=\"sans-serif\" font-size=\"12\" font-style=\"italic\" lengthAdjust=\"spacingAndGlyphs\" textLength=\"91\" x=\"185.5\" y=\"509.6387\">«requirement»</text><text fill=\"#000000\" font-family=\"sans-serif\" font-size=\"12\" lengthAdjust=\"spacingAndGlyphs\" text-decoration=\"line-through\" textLength=\"51\" x=\"205.5\" y=\"523.6074\">noname</text><line style=\"stroke: #383838; stroke-width: 1.5;\" x1=\"185.5\" x2=\"276.5\" y1=\"531.4375\" y2=\"531.4375\"/></a><!--MD5=[fd4143e9d270a159db93a4ea2a975926]\n",
       "class E9--><a href=\"psysml:291c6c45-8332-45a6-809f-574961a49898\" target=\"_top\" title=\"psysml:291c6c45-8332-45a6-809f-574961a49898\" xlink:actuate=\"onRequest\" xlink:href=\"psysml:291c6c45-8332-45a6-809f-574961a49898\" xlink:show=\"new\" xlink:title=\"psysml:291c6c45-8332-45a6-809f-574961a49898\" xlink:type=\"simple\"><rect fill=\"#FFFFFF\" height=\"88.3516\" id=\"E9\" style=\"stroke: #383838; stroke-width: 1.5;\" width=\"145\" x=\"109.5\" y=\"41\"/><text fill=\"#000000\" font-family=\"sans-serif\" font-size=\"12\" font-style=\"italic\" lengthAdjust=\"spacingAndGlyphs\" textLength=\"115\" x=\"124.5\" y=\"57.1387\">«requirement def»</text><text fill=\"#000000\" font-family=\"sans-serif\" font-size=\"12\" lengthAdjust=\"spacingAndGlyphs\" textLength=\"16\" x=\"174\" y=\"71.1074\">R1</text><line style=\"stroke: #383838; stroke-width: 1.5;\" x1=\"110.5\" x2=\"253.5\" y1=\"78.9375\" y2=\"78.9375\"/><text fill=\"#000000\" font-family=\"sans-serif\" font-size=\"11\" font-weight=\"bold\" lengthAdjust=\"spacingAndGlyphs\" textLength=\"46\" x=\"115.5\" y=\"109.9526\">require</text><text fill=\"#000000\" font-family=\"sans-serif\" font-size=\"11\" lengthAdjust=\"spacingAndGlyphs\" textLength=\"13\" x=\"165.5\" y=\"109.9526\">c1</text><text fill=\"#000000\" font-family=\"sans-serif\" font-size=\"11\" font-style=\"italic\" lengthAdjust=\"spacingAndGlyphs\" textLength=\"133\" x=\"115.5\" y=\"122.7573\">:&gt;&gt;RequirementTest::c</text><line style=\"stroke: #383838; stroke-width: 1.0;\" x1=\"110.5\" x2=\"150\" y1=\"93.3398\" y2=\"93.3398\"/><text fill=\"#000000\" font-family=\"sans-serif\" font-size=\"11\" lengthAdjust=\"spacingAndGlyphs\" textLength=\"64\" x=\"150\" y=\"96.6479\">constraints</text><line style=\"stroke: #383838; stroke-width: 1.0;\" x1=\"214\" x2=\"253.5\" y1=\"93.3398\" y2=\"93.3398\"/></a><!--MD5=[1dd1bfd58a279cf63c5f349dbc8fc6a1]\n",
       "class E11--><a href=\"psysml:b7118396-8822-4234-af4f-531e34fd2b85\" target=\"_top\" title=\"psysml:b7118396-8822-4234-af4f-531e34fd2b85\" xlink:actuate=\"onRequest\" xlink:href=\"psysml:b7118396-8822-4234-af4f-531e34fd2b85\" xlink:show=\"new\" xlink:title=\"psysml:b7118396-8822-4234-af4f-531e34fd2b85\" xlink:type=\"simple\"><rect fill=\"#FFFFFF\" height=\"45.9375\" id=\"E11\" rx=\"10\" ry=\"10\" style=\"stroke: #383838; stroke-width: 1.5;\" width=\"42\" x=\"185\" y=\"344.5\"/><text fill=\"#000000\" font-family=\"sans-serif\" font-size=\"12\" font-style=\"italic\" lengthAdjust=\"spacingAndGlyphs\" textLength=\"40\" x=\"186\" y=\"360.6387\">«part»</text><text fill=\"#000000\" font-family=\"sans-serif\" font-size=\"12\" lengthAdjust=\"spacingAndGlyphs\" textLength=\"8\" x=\"202\" y=\"374.6074\">p</text><line style=\"stroke: #383838; stroke-width: 1.5;\" x1=\"186\" x2=\"226\" y1=\"382.4375\" y2=\"382.4375\"/></a><!--MD5=[49a0ec8f00dab7302a31f22d0f0fe584]\n",
       "class E12--><a href=\"psysml:5710aa92-7822-41e6-89ae-9d2d61cb8bf3\" target=\"_top\" title=\"psysml:5710aa92-7822-41e6-89ae-9d2d61cb8bf3\" xlink:actuate=\"onRequest\" xlink:href=\"psysml:5710aa92-7822-41e6-89ae-9d2d61cb8bf3\" xlink:show=\"new\" xlink:title=\"psysml:5710aa92-7822-41e6-89ae-9d2d61cb8bf3\" xlink:type=\"simple\"><rect fill=\"#FFFFFF\" height=\"45.9375\" id=\"E12\" rx=\"10\" ry=\"10\" style=\"stroke: #383838; stroke-width: 1.5;\" width=\"42\" x=\"32\" y=\"62\"/><text fill=\"#000000\" font-family=\"sans-serif\" font-size=\"12\" font-style=\"italic\" lengthAdjust=\"spacingAndGlyphs\" textLength=\"40\" x=\"33\" y=\"78.1387\">«part»</text><text fill=\"#000000\" font-family=\"sans-serif\" font-size=\"12\" lengthAdjust=\"spacingAndGlyphs\" textLength=\"8\" x=\"49\" y=\"92.1074\">q</text><line style=\"stroke: #383838; stroke-width: 1.5;\" x1=\"33\" x2=\"73\" y1=\"99.9375\" y2=\"99.9375\"/></a><!--MD5=[ee3c913d1a06f366521f9ef512b67efe]\n",
       "class E13--><a href=\"psysml:b72900fb-e3ca-4439-ac22-acb3bf892de5\" target=\"_top\" title=\"psysml:b72900fb-e3ca-4439-ac22-acb3bf892de5\" xlink:actuate=\"onRequest\" xlink:href=\"psysml:b72900fb-e3ca-4439-ac22-acb3bf892de5\" xlink:show=\"new\" xlink:title=\"psysml:b72900fb-e3ca-4439-ac22-acb3bf892de5\" xlink:type=\"simple\"><rect fill=\"#FFFFFF\" height=\"45.9375\" id=\"E13\" rx=\"10\" ry=\"10\" style=\"stroke: #383838; stroke-width: 1.5;\" width=\"93\" x=\"44.5\" y=\"190\"/><text fill=\"#000000\" font-family=\"sans-serif\" font-size=\"12\" font-style=\"italic\" lengthAdjust=\"spacingAndGlyphs\" textLength=\"91\" x=\"45.5\" y=\"206.1387\">«requirement»</text><text fill=\"#000000\" font-family=\"sans-serif\" font-size=\"12\" lengthAdjust=\"spacingAndGlyphs\" textLength=\"21\" x=\"80.5\" y=\"220.1074\">r: R</text><line style=\"stroke: #383838; stroke-width: 1.5;\" x1=\"45.5\" x2=\"136.5\" y1=\"227.9375\" y2=\"227.9375\"/></a><!--MD5=[05d275557350bfb9b23a4ef7222b4c39]\n",
       "link E3 to E2--><a href=\"psysml:8b4534c8-c65f-4721-aa95-1aefa1ee4858\" target=\"_top\" title=\"psysml:8b4534c8-c65f-4721-aa95-1aefa1ee4858\" xlink:actuate=\"onRequest\" xlink:href=\"psysml:8b4534c8-c65f-4721-aa95-1aefa1ee4858\" xlink:show=\"new\" xlink:title=\"psysml:8b4534c8-c65f-4721-aa95-1aefa1ee4858\" xlink:type=\"simple\"><path d=\"M327.88,108.24 C326.26,125.24 323.98,149.19 322.02,169.79 \" fill=\"none\" id=\"E3-&gt;E2\" style=\"stroke: #383838; stroke-width: 1.0;\"/><polygon fill=\"#FFFFFF\" points=\"320.1,189.99,314.9362,170.411,328.8729,171.7407,320.1,189.99\" style=\"stroke: #383838; stroke-width: 1.0;\"/><ellipse cx=\"317.4685\" cy=\"164.9268\" fill=\"#383838\" rx=\"2\" ry=\"2\" style=\"stroke: #383838; stroke-width: 1.0;\"/><ellipse cx=\"327.4233\" cy=\"165.8765\" fill=\"#383838\" rx=\"2\" ry=\"2\" style=\"stroke: #383838; stroke-width: 1.0;\"/></a><!--MD5=[62aa6af11e70f752912c1cb0466f24f7]\n",
       "reverse link E4 to E5--><a href=\"psysml:5c4fbfc6-6feb-457a-9610-da755776e124\" target=\"_top\" title=\"psysml:5c4fbfc6-6feb-457a-9610-da755776e124\" xlink:actuate=\"onRequest\" xlink:href=\"psysml:5c4fbfc6-6feb-457a-9610-da755776e124\" xlink:show=\"new\" xlink:title=\"psysml:5c4fbfc6-6feb-457a-9610-da755776e124\" xlink:type=\"simple\"><path d=\"M91,437.45 C91,453.34 91,469.51 91,482.98 \" fill=\"none\" id=\"E4&lt;-E5\" style=\"stroke: #383838; stroke-width: 1.0;\"/><ellipse cx=\"91\" cy=\"430.4\" fill=\"#FFFFFF\" rx=\"8\" ry=\"8\" style=\"stroke: #383838; stroke-width: 1.0;\"/><line style=\"stroke: #383838; stroke-width: 1.0;\" x1=\"91\" x2=\"91\" y1=\"438.4\" y2=\"422.4\"/><line style=\"stroke: #383838; stroke-width: 1.0;\" x1=\"83\" x2=\"99\" y1=\"430.4\" y2=\"430.4\"/></a><!--MD5=[c6fc7cdb0cabde04948078cf183fa696]\n",
       "reverse link E4 to E8--><a href=\"psysml:577c6bec-7675-4e65-a136-10b226b9020a\" target=\"_top\" title=\"psysml:577c6bec-7675-4e65-a136-10b226b9020a\" xlink:actuate=\"onRequest\" xlink:href=\"psysml:577c6bec-7675-4e65-a136-10b226b9020a\" xlink:show=\"new\" xlink:title=\"psysml:577c6bec-7675-4e65-a136-10b226b9020a\" xlink:type=\"simple\"><path d=\"M151.51,432.04 C172.42,453.99 194.47,477.14 210.03,493.48 \" fill=\"none\" id=\"E4&lt;-E8\" style=\"stroke: #383838; stroke-width: 1.0;\"/><polygon fill=\"#383838\" points=\"142.34,422.4,143.5779,429.5041,150.6116,431.0937,149.3737,423.9897,142.34,422.4\" style=\"stroke: #383838; stroke-width: 1.0;\"/></a><!--MD5=[062ed86c389d1a88f61c6380d0491e17]\n",
       "reverse link E12 to E13--><a href=\"psysml:b72900fb-e3ca-4439-ac22-acb3bf892de5\" target=\"_top\" title=\"psysml:b72900fb-e3ca-4439-ac22-acb3bf892de5\" xlink:actuate=\"onRequest\" xlink:href=\"psysml:b72900fb-e3ca-4439-ac22-acb3bf892de5\" xlink:show=\"new\" xlink:title=\"psysml:b72900fb-e3ca-4439-ac22-acb3bf892de5\" xlink:type=\"simple\"><path d=\"M63.49,120.8 C70.17,142.92 78.6,170.89 84.36,189.99 \" fill=\"none\" id=\"E12&lt;-E13\" style=\"stroke: #383838; stroke-width: 1.0;\"/><polygon fill=\"#383838\" points=\"59.71,108.24,57.6129,115.1394,63.1751,119.7288,65.2722,112.8294,59.71,108.24\" style=\"stroke: #383838; stroke-width: 1.0;\"/></a><!--MD5=[017847e01ff9a8bd19f247411074f987]\n",
       "link E13 to E4--><a href=\"psysml:ed6e641a-605b-4ed9-9064-d41509e7ab16\" target=\"_top\" title=\"psysml:ed6e641a-605b-4ed9-9064-d41509e7ab16\" xlink:actuate=\"onRequest\" xlink:href=\"psysml:ed6e641a-605b-4ed9-9064-d41509e7ab16\" xlink:show=\"new\" xlink:title=\"psysml:ed6e641a-605b-4ed9-9064-d41509e7ab16\" xlink:type=\"simple\"><path d=\"M91,236.17 C91,251.17 91,271.91 91,292.44 \" fill=\"none\" id=\"E13-&gt;E4\" style=\"stroke: #383838; stroke-width: 1.0;\"/><polygon fill=\"#FFFFFF\" points=\"91,312.68,84,293.68,98,293.68,91,312.68\" style=\"stroke: #383838; stroke-width: 1.0;\"/><ellipse cx=\"86\" cy=\"287.98\" fill=\"#383838\" rx=\"2\" ry=\"2\" style=\"stroke: #383838; stroke-width: 1.0;\"/><ellipse cx=\"96\" cy=\"287.98\" fill=\"#383838\" rx=\"2\" ry=\"2\" style=\"stroke: #383838; stroke-width: 1.0;\"/></a><!--MD5=[2cfe899c895462254056921bfb67315f]\n",
       "link E13 to E11--><a href=\"psysml:11f1a2a5-a4e7-4875-8b16-7052fd317758\" target=\"_top\" title=\"psysml:11f1a2a5-a4e7-4875-8b16-7052fd317758\" xlink:actuate=\"onRequest\" xlink:href=\"psysml:11f1a2a5-a4e7-4875-8b16-7052fd317758\" xlink:show=\"new\" xlink:title=\"psysml:11f1a2a5-a4e7-4875-8b16-7052fd317758\" xlink:type=\"simple\"><path d=\"M108.25,236.46 C130.67,265.67 167,313 167,313 C167,313 176.99,326.71 186.86,340.25 \" fill=\"none\" id=\"E13-&gt;E11\" style=\"stroke: #383838; stroke-width: 1.0; stroke-dasharray: 7.0,7.0;\"/><polygon fill=\"#383838\" points=\"189.91,344.43,187.8474,334.7996,186.9674,340.3876,181.3794,339.5076,189.91,344.43\" style=\"stroke: #383838; stroke-width: 1.0;\"/><text fill=\"#000000\" font-family=\"sans-serif\" font-size=\"13\" lengthAdjust=\"spacingAndGlyphs\" textLength=\"57\" x=\"143\" y=\"279.0669\">«satisfy»</text></a><!--MD5=[9cae958ac2fdf510a00fa349c011afb0]\n",
       "@startuml\r\n",
       "skinparam linetype polyline\r\n",
       "skinparam monochrome true\r\n",
       "skinparam classbackgroundcolor white\r\n",
       "skinparam shadowing false\r\n",
       "skinparam wrapWidth 300\r\n",
       "hide circle\r\n",
       "\r\n",
       "package \"RequirementTest\" as E1  [[psysml:8aa028f5-1693-4b51-bff2-c94d0f18c930 ]]  {\r\n",
       "comp def \"C\" as E2  <<(T,blue)constraint def>> [[psysml:27c2a771-07cf-4bde-9591-6030a1a15742 ]] {\r\n",
       "}\r\n",
       "comp usage \"c: C\" as E3  <<(T,blue)constraint>> [[psysml:da02b217-f155-4220-a2dc-d840d0d24f86 ]] {\r\n",
       "}\r\n",
       "comp def \"R\" as E4  <<(T,blue)requirement def>> [[psysml:b9a9d178-6ba0-415d-80bd-8d7e5aacf32f ]] {\r\n",
       "\r\n",
       "- -\r\n",
       "- - constraints - -\r\n",
       "<b>require</b> c\r\n",
       "<i>assume</i> c1: C\r\n",
       "}\r\n",
       "comp def \" [<b>1</b>] A\" as E5  <<(T,blue)requirement def>> [[psysml:5c4fbfc6-6feb-457a-9610-da755776e124 ]] {\r\n",
       "Text\r\n",
       "- -\r\n",
       "}\r\n",
       "comp usage \"<s>noname</s>\" as E8  <<(T,blue)requirement>> [[psysml:577c6bec-7675-4e65-a136-10b226b9020a ]] {\r\n",
       "}\r\n",
       "comp def \"R1\" as E9  <<(T,blue)requirement def>> [[psysml:291c6c45-8332-45a6-809f-574961a49898 ]] {\r\n",
       "- - constraints - -\r\n",
       "<b>require</b> c1\\n//:>>RequirementTest::c// \r\n",
       "}\r\n",
       "comp usage \"p\" as E11  <<(T,blue)part>> [[psysml:b7118396-8822-4234-af4f-531e34fd2b85 ]] {\r\n",
       "}\r\n",
       "comp usage \"q\" as E12  <<(T,blue)part>> [[psysml:5710aa92-7822-41e6-89ae-9d2d61cb8bf3 ]] {\r\n",
       "}\r\n",
       "comp usage \"r: R\" as E13  <<(T,blue)requirement>> [[psysml:b72900fb-e3ca-4439-ac22-acb3bf892de5 ]] {\r\n",
       "}\r\n",
       "E3 - -:|> E2 [[psysml:8b4534c8-c65f-4721-aa95-1aefa1ee4858 ]] \r\n",
       "E4 +- - E5 [[psysml:5c4fbfc6-6feb-457a-9610-da755776e124 ]] \r\n",
       "E4 *- - E8 [[psysml:577c6bec-7675-4e65-a136-10b226b9020a ]] \r\n",
       "E12 *- - E13 [[psysml:b72900fb-e3ca-4439-ac22-acb3bf892de5 ]] \r\n",
       "E13 - -:|> E4 [[psysml:ed6e641a-605b-4ed9-9064-d41509e7ab16 ]] \r\n",
       "E13 ..> E11 [[psysml:11f1a2a5-a4e7-4875-8b16-7052fd317758 ]] : <<satisfy>>\r\n",
       "}\r\n",
       "@enduml\r\n",
       "\n",
       "PlantUML version 1.2020.13(Sat Jun 13 12:26:38 UTC 2020)\n",
       "(EPL source distribution)\n",
       "Java Runtime: OpenJDK Runtime Environment\n",
       "JVM: OpenJDK 64-Bit Server VM\n",
       "Default Encoding: UTF-8\n",
       "Language: en\n",
       "Country: null\n",
       "--></g></svg>"
      ]
     },
     "execution_count": 15,
     "metadata": {},
     "output_type": "execute_result"
    }
   ],
   "source": [
    "%viz --style=\"POLYLINE\" --view=\"MIXED\" \"RequirementTest\""
   ]
  },
  {
   "cell_type": "code",
   "execution_count": 16,
   "id": "inclusive-correspondence",
   "metadata": {
    "execution": {
     "iopub.execute_input": "2021-03-26T09:12:27.584280Z",
     "iopub.status.busy": "2021-03-26T09:12:27.583660Z",
     "iopub.status.idle": "2021-03-26T09:12:27.672972Z",
     "shell.execute_reply": "2021-03-26T09:12:27.673293Z"
    }
   },
   "outputs": [
    {
     "data": {
      "image/svg+xml": [
       "<?xml version=\"1.0\" encoding=\"UTF-8\" standalone=\"no\"?><svg xmlns=\"http://www.w3.org/2000/svg\" xmlns:xlink=\"http://www.w3.org/1999/xlink\" contentScriptType=\"application/ecmascript\" contentStyleType=\"text/css\" height=\"319px\" preserveAspectRatio=\"none\" style=\"width:794px;height:319px;\" version=\"1.1\" viewBox=\"0 0 794 319\" width=\"794px\" zoomAndPan=\"magnify\"><defs/><g><!--MD5=[fbc87193dbaf4d95561dea2c320d4a47]\n",
       "cluster E1--><a href=\"psysml:8aa028f5-1693-4b51-bff2-c94d0f18c930\" target=\"_top\" title=\"psysml:8aa028f5-1693-4b51-bff2-c94d0f18c930\" xlink:actuate=\"onRequest\" xlink:href=\"psysml:8aa028f5-1693-4b51-bff2-c94d0f18c930\" xlink:show=\"new\" xlink:title=\"psysml:8aa028f5-1693-4b51-bff2-c94d0f18c930\" xlink:type=\"simple\"><polygon fill=\"#FFFFFF\" points=\"16,6,158,6,165,28.2969,772,28.2969,772,307,16,307,16,6\" style=\"stroke: #000000; stroke-width: 1.5;\"/><line style=\"stroke: #000000; stroke-width: 1.5;\" x1=\"16\" x2=\"165\" y1=\"28.2969\" y2=\"28.2969\"/><text fill=\"#000000\" font-family=\"sans-serif\" font-size=\"14\" font-weight=\"bold\" lengthAdjust=\"spacingAndGlyphs\" textLength=\"136\" x=\"20\" y=\"20.9951\">RequirementTest</text></a><!--MD5=[b4997ac47864f28c2f74865a473b2911]\n",
       "class E2--><a href=\"psysml:27c2a771-07cf-4bde-9591-6030a1a15742\" target=\"_top\" title=\"psysml:27c2a771-07cf-4bde-9591-6030a1a15742\" xlink:actuate=\"onRequest\" xlink:href=\"psysml:27c2a771-07cf-4bde-9591-6030a1a15742\" xlink:show=\"new\" xlink:title=\"psysml:27c2a771-07cf-4bde-9591-6030a1a15742\" xlink:type=\"simple\"><rect fill=\"#FFFFFF\" height=\"45.9375\" id=\"E2\" style=\"stroke: #383838; stroke-width: 1.5;\" width=\"104\" x=\"238\" y=\"41\"/><text fill=\"#000000\" font-family=\"sans-serif\" font-size=\"12\" font-style=\"italic\" lengthAdjust=\"spacingAndGlyphs\" textLength=\"102\" x=\"239\" y=\"57.1387\">«constraint def»</text><text fill=\"#000000\" font-family=\"sans-serif\" font-size=\"12\" lengthAdjust=\"spacingAndGlyphs\" textLength=\"8\" x=\"286\" y=\"71.1074\">C</text><line style=\"stroke: #383838; stroke-width: 1.5;\" x1=\"239\" x2=\"341\" y1=\"78.9375\" y2=\"78.9375\"/></a><!--MD5=[09b614a08d8cba4a07c9adeb5e0fee81]\n",
       "class E3--><a href=\"psysml:da02b217-f155-4220-a2dc-d840d0d24f86\" target=\"_top\" title=\"psysml:da02b217-f155-4220-a2dc-d840d0d24f86\" xlink:actuate=\"onRequest\" xlink:href=\"psysml:da02b217-f155-4220-a2dc-d840d0d24f86\" xlink:show=\"new\" xlink:title=\"psysml:da02b217-f155-4220-a2dc-d840d0d24f86\" xlink:type=\"simple\"><rect fill=\"#FFFFFF\" height=\"45.9375\" id=\"E3\" rx=\"10\" ry=\"10\" style=\"stroke: #383838; stroke-width: 1.5;\" width=\"80\" x=\"64.5\" y=\"41\"/><text fill=\"#000000\" font-family=\"sans-serif\" font-size=\"12\" font-style=\"italic\" lengthAdjust=\"spacingAndGlyphs\" textLength=\"78\" x=\"65.5\" y=\"57.1387\">«constraint»</text><text fill=\"#000000\" font-family=\"sans-serif\" font-size=\"12\" lengthAdjust=\"spacingAndGlyphs\" textLength=\"23\" x=\"93\" y=\"71.1074\">c: C</text><line style=\"stroke: #383838; stroke-width: 1.5;\" x1=\"65.5\" x2=\"143.5\" y1=\"78.9375\" y2=\"78.9375\"/></a><!--MD5=[ebbe1d658d1005bcc118a6aa81145e00]\n",
       "class E4--><a href=\"psysml:b9a9d178-6ba0-415d-80bd-8d7e5aacf32f\" target=\"_top\" title=\"psysml:b9a9d178-6ba0-415d-80bd-8d7e5aacf32f\" xlink:actuate=\"onRequest\" xlink:href=\"psysml:b9a9d178-6ba0-415d-80bd-8d7e5aacf32f\" xlink:show=\"new\" xlink:title=\"psysml:b9a9d178-6ba0-415d-80bd-8d7e5aacf32f\" xlink:type=\"simple\"><rect fill=\"#FFFFFF\" height=\"109.1563\" id=\"E4\" style=\"stroke: #383838; stroke-width: 1.5;\" width=\"117\" x=\"461\" y=\"181.5\"/><text fill=\"#000000\" font-family=\"sans-serif\" font-size=\"12\" font-style=\"italic\" lengthAdjust=\"spacingAndGlyphs\" textLength=\"115\" x=\"462\" y=\"197.6387\">«requirement def»</text><text fill=\"#000000\" font-family=\"sans-serif\" font-size=\"12\" lengthAdjust=\"spacingAndGlyphs\" textLength=\"8\" x=\"515.5\" y=\"211.6074\">R</text><line style=\"stroke: #383838; stroke-width: 1.5;\" x1=\"462\" x2=\"577\" y1=\"219.4375\" y2=\"219.4375\"/><text fill=\"#000000\" font-family=\"sans-serif\" font-size=\"11\" lengthAdjust=\"spacingAndGlyphs\" textLength=\"0\" x=\"471\" y=\"233.6479\"/><line style=\"stroke: #383838; stroke-width: 1.0;\" x1=\"462\" x2=\"577\" y1=\"240.2422\" y2=\"240.2422\"/><text fill=\"#000000\" font-family=\"sans-serif\" font-size=\"11\" font-weight=\"bold\" lengthAdjust=\"spacingAndGlyphs\" textLength=\"46\" x=\"467\" y=\"271.2573\">require</text><text fill=\"#000000\" font-family=\"sans-serif\" font-size=\"11\" lengthAdjust=\"spacingAndGlyphs\" textLength=\"6\" x=\"517\" y=\"271.2573\">c</text><text fill=\"#000000\" font-family=\"sans-serif\" font-size=\"11\" font-style=\"italic\" lengthAdjust=\"spacingAndGlyphs\" textLength=\"46\" x=\"467\" y=\"284.062\">assume</text><text fill=\"#000000\" font-family=\"sans-serif\" font-size=\"11\" lengthAdjust=\"spacingAndGlyphs\" textLength=\"29\" x=\"517\" y=\"284.062\">c1: C</text><line style=\"stroke: #383838; stroke-width: 1.0;\" x1=\"462\" x2=\"487.5\" y1=\"254.6445\" y2=\"254.6445\"/><text fill=\"#000000\" font-family=\"sans-serif\" font-size=\"11\" lengthAdjust=\"spacingAndGlyphs\" textLength=\"64\" x=\"487.5\" y=\"257.9526\">constraints</text><line style=\"stroke: #383838; stroke-width: 1.0;\" x1=\"551.5\" x2=\"577\" y1=\"254.6445\" y2=\"254.6445\"/></a><!--MD5=[270fce915f116d4de14055a7c1d9a0f3]\n",
       "class E5--><a href=\"psysml:5c4fbfc6-6feb-457a-9610-da755776e124\" target=\"_top\" title=\"psysml:5c4fbfc6-6feb-457a-9610-da755776e124\" xlink:actuate=\"onRequest\" xlink:href=\"psysml:5c4fbfc6-6feb-457a-9610-da755776e124\" xlink:show=\"new\" xlink:title=\"psysml:5c4fbfc6-6feb-457a-9610-da755776e124\" xlink:type=\"simple\"><rect fill=\"#FFFFFF\" height=\"66.7422\" id=\"E5\" style=\"stroke: #383838; stroke-width: 1.5;\" width=\"117\" x=\"639\" y=\"216.5\"/><text fill=\"#000000\" font-family=\"sans-serif\" font-size=\"12\" font-style=\"italic\" lengthAdjust=\"spacingAndGlyphs\" textLength=\"115\" x=\"640\" y=\"232.6387\">«requirement def»</text><text fill=\"#000000\" font-family=\"sans-serif\" font-size=\"12\" lengthAdjust=\"spacingAndGlyphs\" textLength=\"5\" x=\"684.5\" y=\"246.6074\">[</text><text fill=\"#000000\" font-family=\"sans-serif\" font-size=\"12\" font-weight=\"bold\" lengthAdjust=\"spacingAndGlyphs\" textLength=\"8\" x=\"689.5\" y=\"246.6074\">1</text><text fill=\"#000000\" font-family=\"sans-serif\" font-size=\"12\" lengthAdjust=\"spacingAndGlyphs\" textLength=\"17\" x=\"697.5\" y=\"246.6074\">] A</text><line style=\"stroke: #383838; stroke-width: 1.5;\" x1=\"640\" x2=\"755\" y1=\"254.4375\" y2=\"254.4375\"/><text fill=\"#000000\" font-family=\"sans-serif\" font-size=\"11\" lengthAdjust=\"spacingAndGlyphs\" textLength=\"24\" x=\"645\" y=\"268.6479\">Text</text><line style=\"stroke: #383838; stroke-width: 1.0;\" x1=\"640\" x2=\"755\" y1=\"275.2422\" y2=\"275.2422\"/></a><!--MD5=[b9389687b975829384b498ac4b7476b2]\n",
       "class E8--><a href=\"psysml:577c6bec-7675-4e65-a136-10b226b9020a\" target=\"_top\" title=\"psysml:577c6bec-7675-4e65-a136-10b226b9020a\" xlink:actuate=\"onRequest\" xlink:href=\"psysml:577c6bec-7675-4e65-a136-10b226b9020a\" xlink:show=\"new\" xlink:title=\"psysml:577c6bec-7675-4e65-a136-10b226b9020a\" xlink:type=\"simple\"><rect fill=\"#FFFFFF\" height=\"45.9375\" id=\"E8\" rx=\"10\" ry=\"10\" style=\"stroke: #383838; stroke-width: 1.5;\" width=\"93\" x=\"651\" y=\"135\"/><text fill=\"#000000\" font-family=\"sans-serif\" font-size=\"12\" font-style=\"italic\" lengthAdjust=\"spacingAndGlyphs\" textLength=\"91\" x=\"652\" y=\"151.1387\">«requirement»</text><text fill=\"#000000\" font-family=\"sans-serif\" font-size=\"12\" lengthAdjust=\"spacingAndGlyphs\" text-decoration=\"line-through\" textLength=\"51\" x=\"672\" y=\"165.1074\">noname</text><line style=\"stroke: #383838; stroke-width: 1.5;\" x1=\"652\" x2=\"743\" y1=\"172.9375\" y2=\"172.9375\"/></a><!--MD5=[fd4143e9d270a159db93a4ea2a975926]\n",
       "class E9--><a href=\"psysml:291c6c45-8332-45a6-809f-574961a49898\" target=\"_top\" title=\"psysml:291c6c45-8332-45a6-809f-574961a49898\" xlink:actuate=\"onRequest\" xlink:href=\"psysml:291c6c45-8332-45a6-809f-574961a49898\" xlink:show=\"new\" xlink:title=\"psysml:291c6c45-8332-45a6-809f-574961a49898\" xlink:type=\"simple\"><rect fill=\"#FFFFFF\" height=\"88.3516\" id=\"E9\" style=\"stroke: #383838; stroke-width: 1.5;\" width=\"145\" x=\"32\" y=\"122\"/><text fill=\"#000000\" font-family=\"sans-serif\" font-size=\"12\" font-style=\"italic\" lengthAdjust=\"spacingAndGlyphs\" textLength=\"115\" x=\"47\" y=\"138.1387\">«requirement def»</text><text fill=\"#000000\" font-family=\"sans-serif\" font-size=\"12\" lengthAdjust=\"spacingAndGlyphs\" textLength=\"16\" x=\"96.5\" y=\"152.1074\">R1</text><line style=\"stroke: #383838; stroke-width: 1.5;\" x1=\"33\" x2=\"176\" y1=\"159.9375\" y2=\"159.9375\"/><text fill=\"#000000\" font-family=\"sans-serif\" font-size=\"11\" font-weight=\"bold\" lengthAdjust=\"spacingAndGlyphs\" textLength=\"46\" x=\"38\" y=\"190.9526\">require</text><text fill=\"#000000\" font-family=\"sans-serif\" font-size=\"11\" lengthAdjust=\"spacingAndGlyphs\" textLength=\"13\" x=\"88\" y=\"190.9526\">c1</text><text fill=\"#000000\" font-family=\"sans-serif\" font-size=\"11\" font-style=\"italic\" lengthAdjust=\"spacingAndGlyphs\" textLength=\"133\" x=\"38\" y=\"203.7573\">:&gt;&gt;RequirementTest::c</text><line style=\"stroke: #383838; stroke-width: 1.0;\" x1=\"33\" x2=\"72.5\" y1=\"174.3398\" y2=\"174.3398\"/><text fill=\"#000000\" font-family=\"sans-serif\" font-size=\"11\" lengthAdjust=\"spacingAndGlyphs\" textLength=\"64\" x=\"72.5\" y=\"177.6479\">constraints</text><line style=\"stroke: #383838; stroke-width: 1.0;\" x1=\"136.5\" x2=\"176\" y1=\"174.3398\" y2=\"174.3398\"/></a><!--MD5=[1dd1bfd58a279cf63c5f349dbc8fc6a1]\n",
       "class E11--><a href=\"psysml:b7118396-8822-4234-af4f-531e34fd2b85\" target=\"_top\" title=\"psysml:b7118396-8822-4234-af4f-531e34fd2b85\" xlink:actuate=\"onRequest\" xlink:href=\"psysml:b7118396-8822-4234-af4f-531e34fd2b85\" xlink:show=\"new\" xlink:title=\"psysml:b7118396-8822-4234-af4f-531e34fd2b85\" xlink:type=\"simple\"><rect fill=\"#FFFFFF\" height=\"45.9375\" id=\"E11\" rx=\"10\" ry=\"10\" style=\"stroke: #383838; stroke-width: 1.5;\" width=\"42\" x=\"498.5\" y=\"100\"/><text fill=\"#000000\" font-family=\"sans-serif\" font-size=\"12\" font-style=\"italic\" lengthAdjust=\"spacingAndGlyphs\" textLength=\"40\" x=\"499.5\" y=\"116.1387\">«part»</text><text fill=\"#000000\" font-family=\"sans-serif\" font-size=\"12\" lengthAdjust=\"spacingAndGlyphs\" textLength=\"8\" x=\"515.5\" y=\"130.1074\">p</text><line style=\"stroke: #383838; stroke-width: 1.5;\" x1=\"499.5\" x2=\"539.5\" y1=\"137.9375\" y2=\"137.9375\"/></a><!--MD5=[49a0ec8f00dab7302a31f22d0f0fe584]\n",
       "class E12--><a href=\"psysml:5710aa92-7822-41e6-89ae-9d2d61cb8bf3\" target=\"_top\" title=\"psysml:5710aa92-7822-41e6-89ae-9d2d61cb8bf3\" xlink:actuate=\"onRequest\" xlink:href=\"psysml:5710aa92-7822-41e6-89ae-9d2d61cb8bf3\" xlink:show=\"new\" xlink:title=\"psysml:5710aa92-7822-41e6-89ae-9d2d61cb8bf3\" xlink:type=\"simple\"><rect fill=\"#FFFFFF\" height=\"45.9375\" id=\"E12\" rx=\"10\" ry=\"10\" style=\"stroke: #383838; stroke-width: 1.5;\" width=\"42\" x=\"83.5\" y=\"245\"/><text fill=\"#000000\" font-family=\"sans-serif\" font-size=\"12\" font-style=\"italic\" lengthAdjust=\"spacingAndGlyphs\" textLength=\"40\" x=\"84.5\" y=\"261.1387\">«part»</text><text fill=\"#000000\" font-family=\"sans-serif\" font-size=\"12\" lengthAdjust=\"spacingAndGlyphs\" textLength=\"8\" x=\"100.5\" y=\"275.1074\">q</text><line style=\"stroke: #383838; stroke-width: 1.5;\" x1=\"84.5\" x2=\"124.5\" y1=\"282.9375\" y2=\"282.9375\"/></a><!--MD5=[ee3c913d1a06f366521f9ef512b67efe]\n",
       "class E13--><a href=\"psysml:b72900fb-e3ca-4439-ac22-acb3bf892de5\" target=\"_top\" title=\"psysml:b72900fb-e3ca-4439-ac22-acb3bf892de5\" xlink:actuate=\"onRequest\" xlink:href=\"psysml:b72900fb-e3ca-4439-ac22-acb3bf892de5\" xlink:show=\"new\" xlink:title=\"psysml:b72900fb-e3ca-4439-ac22-acb3bf892de5\" xlink:type=\"simple\"><rect fill=\"#FFFFFF\" height=\"45.9375\" id=\"E13\" rx=\"10\" ry=\"10\" style=\"stroke: #383838; stroke-width: 1.5;\" width=\"93\" x=\"243.5\" y=\"213\"/><text fill=\"#000000\" font-family=\"sans-serif\" font-size=\"12\" font-style=\"italic\" lengthAdjust=\"spacingAndGlyphs\" textLength=\"91\" x=\"244.5\" y=\"229.1387\">«requirement»</text><text fill=\"#000000\" font-family=\"sans-serif\" font-size=\"12\" lengthAdjust=\"spacingAndGlyphs\" textLength=\"21\" x=\"279.5\" y=\"243.1074\">r: R</text><line style=\"stroke: #383838; stroke-width: 1.5;\" x1=\"244.5\" x2=\"335.5\" y1=\"250.9375\" y2=\"250.9375\"/></a><!--MD5=[05d275557350bfb9b23a4ef7222b4c39]\n",
       "link E3 to E2--><a href=\"psysml:8b4534c8-c65f-4721-aa95-1aefa1ee4858\" target=\"_top\" title=\"psysml:8b4534c8-c65f-4721-aa95-1aefa1ee4858\" xlink:actuate=\"onRequest\" xlink:href=\"psysml:8b4534c8-c65f-4721-aa95-1aefa1ee4858\" xlink:show=\"new\" xlink:title=\"psysml:8b4534c8-c65f-4721-aa95-1aefa1ee4858\" xlink:type=\"simple\"><path d=\"M144.87,64 C166.09,64 192.94,64 217.7,64 \" fill=\"none\" id=\"E3-&gt;E2\" style=\"stroke: #383838; stroke-width: 1.0;\"/><polygon fill=\"#FFFFFF\" points=\"237.84,64,218.84,71,218.84,57,237.84,64\" style=\"stroke: #383838; stroke-width: 1.0;\"/><ellipse cx=\"213.14\" cy=\"69\" fill=\"#383838\" rx=\"2\" ry=\"2\" style=\"stroke: #383838; stroke-width: 1.0;\"/><ellipse cx=\"213.14\" cy=\"59\" fill=\"#383838\" rx=\"2\" ry=\"2\" style=\"stroke: #383838; stroke-width: 1.0;\"/></a><!--MD5=[62aa6af11e70f752912c1cb0466f24f7]\n",
       "reverse link E4 to E5--><a href=\"psysml:5c4fbfc6-6feb-457a-9610-da755776e124\" target=\"_top\" title=\"psysml:5c4fbfc6-6feb-457a-9610-da755776e124\" xlink:actuate=\"onRequest\" xlink:href=\"psysml:5c4fbfc6-6feb-457a-9610-da755776e124\" xlink:show=\"new\" xlink:title=\"psysml:5c4fbfc6-6feb-457a-9610-da755776e124\" xlink:type=\"simple\"><path d=\"M593.54,241.81 C608.62,243.01 624.3,244.26 638.74,245.41 \" fill=\"none\" id=\"E4&lt;-E5\" style=\"stroke: #383838; stroke-width: 1.0;\"/><ellipse cx=\"586.105\" cy=\"241.2122\" fill=\"#FFFFFF\" rx=\"8\" ry=\"8\" style=\"stroke: #383838; stroke-width: 1.0;\"/><line style=\"stroke: #383838; stroke-width: 1.0;\" x1=\"594.08\" x2=\"578.13\" y1=\"241.8444\" y2=\"240.58\"/><line style=\"stroke: #383838; stroke-width: 1.0;\" x1=\"585.4728\" x2=\"586.7372\" y1=\"249.1872\" y2=\"233.2372\"/></a><!--MD5=[c6fc7cdb0cabde04948078cf183fa696]\n",
       "reverse link E4 to E8--><a href=\"psysml:577c6bec-7675-4e65-a136-10b226b9020a\" target=\"_top\" title=\"psysml:577c6bec-7675-4e65-a136-10b226b9020a\" xlink:actuate=\"onRequest\" xlink:href=\"psysml:577c6bec-7675-4e65-a136-10b226b9020a\" xlink:show=\"new\" xlink:title=\"psysml:577c6bec-7675-4e65-a136-10b226b9020a\" xlink:type=\"simple\"><path d=\"M590.24,205.09 C610.58,196.08 632.28,186.46 650.74,178.28 \" fill=\"none\" id=\"E4&lt;-E8\" style=\"stroke: #383838; stroke-width: 1.0;\"/><polygon fill=\"#383838\" points=\"578.13,210.46,585.2365,211.684,589.0995,205.5949,581.9931,204.3709,578.13,210.46\" style=\"stroke: #383838; stroke-width: 1.0;\"/></a><!--MD5=[062ed86c389d1a88f61c6380d0491e17]\n",
       "reverse link E12 to E13--><a href=\"psysml:b72900fb-e3ca-4439-ac22-acb3bf892de5\" target=\"_top\" title=\"psysml:b72900fb-e3ca-4439-ac22-acb3bf892de5\" xlink:actuate=\"onRequest\" xlink:href=\"psysml:b72900fb-e3ca-4439-ac22-acb3bf892de5\" xlink:show=\"new\" xlink:title=\"psysml:b72900fb-e3ca-4439-ac22-acb3bf892de5\" xlink:type=\"simple\"><path d=\"M139.02,262.15 C168.28,257.05 211.02,249.6 243.39,243.95 \" fill=\"none\" id=\"E12&lt;-E13\" style=\"stroke: #383838; stroke-width: 1.0;\"/><polygon fill=\"#383838\" points=\"125.84,264.45,132.4403,267.3544,137.6599,262.3789,131.0596,259.4745,125.84,264.45\" style=\"stroke: #383838; stroke-width: 1.0;\"/></a><!--MD5=[017847e01ff9a8bd19f247411074f987]\n",
       "link E13 to E4--><a href=\"psysml:ed6e641a-605b-4ed9-9064-d41509e7ab16\" target=\"_top\" title=\"psysml:ed6e641a-605b-4ed9-9064-d41509e7ab16\" xlink:actuate=\"onRequest\" xlink:href=\"psysml:ed6e641a-605b-4ed9-9064-d41509e7ab16\" xlink:show=\"new\" xlink:title=\"psysml:ed6e641a-605b-4ed9-9064-d41509e7ab16\" xlink:type=\"simple\"><path d=\"M336.76,236 C366.45,236 405.9,236 440.46,236 \" fill=\"none\" id=\"E13-&gt;E4\" style=\"stroke: #383838; stroke-width: 1.0;\"/><polygon fill=\"#FFFFFF\" points=\"460.67,236,441.67,243,441.67,229,460.67,236\" style=\"stroke: #383838; stroke-width: 1.0;\"/><ellipse cx=\"435.97\" cy=\"241\" fill=\"#383838\" rx=\"2\" ry=\"2\" style=\"stroke: #383838; stroke-width: 1.0;\"/><ellipse cx=\"435.97\" cy=\"231\" fill=\"#383838\" rx=\"2\" ry=\"2\" style=\"stroke: #383838; stroke-width: 1.0;\"/></a><!--MD5=[2cfe899c895462254056921bfb67315f]\n",
       "link E13 to E11--><a href=\"psysml:11f1a2a5-a4e7-4875-8b16-7052fd317758\" target=\"_top\" title=\"psysml:11f1a2a5-a4e7-4875-8b16-7052fd317758\" xlink:actuate=\"onRequest\" xlink:href=\"psysml:11f1a2a5-a4e7-4875-8b16-7052fd317758\" xlink:show=\"new\" xlink:title=\"psysml:11f1a2a5-a4e7-4875-8b16-7052fd317758\" xlink:type=\"simple\"><path d=\"M336.76,213.27 C383.95,189.83 455.79,154.15 493.46,135.44 \" fill=\"none\" id=\"E13-&gt;E11\" style=\"stroke: #383838; stroke-width: 1.0; stroke-dasharray: 7.0,7.0;\"/><polygon fill=\"#383838\" points=\"498.32,133.02,488.4797,133.4294,493.8393,135.2389,492.0299,140.5985,498.32,133.02\" style=\"stroke: #383838; stroke-width: 1.0;\"/><text fill=\"#000000\" font-family=\"sans-serif\" font-size=\"13\" lengthAdjust=\"spacingAndGlyphs\" textLength=\"57\" x=\"373\" y=\"166.0669\">«satisfy»</text></a><!--MD5=[62edd405a6abd24ba8f4141bbff2783c]\n",
       "@startuml\r\n",
       "left to right direction\r\n",
       "skinparam monochrome true\r\n",
       "skinparam classbackgroundcolor white\r\n",
       "skinparam shadowing false\r\n",
       "skinparam wrapWidth 300\r\n",
       "hide circle\r\n",
       "\r\n",
       "package \"RequirementTest\" as E1  [[psysml:8aa028f5-1693-4b51-bff2-c94d0f18c930 ]]  {\r\n",
       "comp def \"C\" as E2  <<(T,blue)constraint def>> [[psysml:27c2a771-07cf-4bde-9591-6030a1a15742 ]] {\r\n",
       "}\r\n",
       "comp usage \"c: C\" as E3  <<(T,blue)constraint>> [[psysml:da02b217-f155-4220-a2dc-d840d0d24f86 ]] {\r\n",
       "}\r\n",
       "comp def \"R\" as E4  <<(T,blue)requirement def>> [[psysml:b9a9d178-6ba0-415d-80bd-8d7e5aacf32f ]] {\r\n",
       "\r\n",
       "- -\r\n",
       "- - constraints - -\r\n",
       "<b>require</b> c\r\n",
       "<i>assume</i> c1: C\r\n",
       "}\r\n",
       "comp def \" [<b>1</b>] A\" as E5  <<(T,blue)requirement def>> [[psysml:5c4fbfc6-6feb-457a-9610-da755776e124 ]] {\r\n",
       "Text\r\n",
       "- -\r\n",
       "}\r\n",
       "comp usage \"<s>noname</s>\" as E8  <<(T,blue)requirement>> [[psysml:577c6bec-7675-4e65-a136-10b226b9020a ]] {\r\n",
       "}\r\n",
       "comp def \"R1\" as E9  <<(T,blue)requirement def>> [[psysml:291c6c45-8332-45a6-809f-574961a49898 ]] {\r\n",
       "- - constraints - -\r\n",
       "<b>require</b> c1\\n//:>>RequirementTest::c// \r\n",
       "}\r\n",
       "comp usage \"p\" as E11  <<(T,blue)part>> [[psysml:b7118396-8822-4234-af4f-531e34fd2b85 ]] {\r\n",
       "}\r\n",
       "comp usage \"q\" as E12  <<(T,blue)part>> [[psysml:5710aa92-7822-41e6-89ae-9d2d61cb8bf3 ]] {\r\n",
       "}\r\n",
       "comp usage \"r: R\" as E13  <<(T,blue)requirement>> [[psysml:b72900fb-e3ca-4439-ac22-acb3bf892de5 ]] {\r\n",
       "}\r\n",
       "E3 - -:|> E2 [[psysml:8b4534c8-c65f-4721-aa95-1aefa1ee4858 ]] \r\n",
       "E4 +- - E5 [[psysml:5c4fbfc6-6feb-457a-9610-da755776e124 ]] \r\n",
       "E4 *- - E8 [[psysml:577c6bec-7675-4e65-a136-10b226b9020a ]] \r\n",
       "E12 *- - E13 [[psysml:b72900fb-e3ca-4439-ac22-acb3bf892de5 ]] \r\n",
       "E13 - -:|> E4 [[psysml:ed6e641a-605b-4ed9-9064-d41509e7ab16 ]] \r\n",
       "E13 ..> E11 [[psysml:11f1a2a5-a4e7-4875-8b16-7052fd317758 ]] : <<satisfy>>\r\n",
       "}\r\n",
       "@enduml\r\n",
       "\n",
       "PlantUML version 1.2020.13(Sat Jun 13 12:26:38 UTC 2020)\n",
       "(EPL source distribution)\n",
       "Java Runtime: OpenJDK Runtime Environment\n",
       "JVM: OpenJDK 64-Bit Server VM\n",
       "Default Encoding: UTF-8\n",
       "Language: en\n",
       "Country: null\n",
       "--></g></svg>"
      ]
     },
     "execution_count": 16,
     "metadata": {},
     "output_type": "execute_result"
    }
   ],
   "source": [
    "%viz --style=\"LR\" --view=\"Default\" \"RequirementTest\""
   ]
  },
  {
   "cell_type": "code",
   "execution_count": 17,
   "id": "victorian-lobby",
   "metadata": {
    "execution": {
     "iopub.execute_input": "2021-03-26T09:12:27.725466Z",
     "iopub.status.busy": "2021-03-26T09:12:27.724917Z",
     "iopub.status.idle": "2021-03-26T09:12:27.822088Z",
     "shell.execute_reply": "2021-03-26T09:12:27.821278Z"
    }
   },
   "outputs": [
    {
     "data": {
      "image/svg+xml": [
       "<?xml version=\"1.0\" encoding=\"UTF-8\" standalone=\"no\"?><svg xmlns=\"http://www.w3.org/2000/svg\" xmlns:xlink=\"http://www.w3.org/1999/xlink\" contentScriptType=\"application/ecmascript\" contentStyleType=\"text/css\" height=\"319px\" preserveAspectRatio=\"none\" style=\"width:794px;height:319px;\" version=\"1.1\" viewBox=\"0 0 794 319\" width=\"794px\" zoomAndPan=\"magnify\"><defs/><g><!--MD5=[fbc87193dbaf4d95561dea2c320d4a47]\n",
       "cluster E1--><a href=\"psysml:8aa028f5-1693-4b51-bff2-c94d0f18c930\" target=\"_top\" title=\"psysml:8aa028f5-1693-4b51-bff2-c94d0f18c930\" xlink:actuate=\"onRequest\" xlink:href=\"psysml:8aa028f5-1693-4b51-bff2-c94d0f18c930\" xlink:show=\"new\" xlink:title=\"psysml:8aa028f5-1693-4b51-bff2-c94d0f18c930\" xlink:type=\"simple\"><polygon fill=\"#FFFFFF\" points=\"16,6,158,6,165,28.2969,772,28.2969,772,307,16,307,16,6\" style=\"stroke: #000000; stroke-width: 1.5;\"/><line style=\"stroke: #000000; stroke-width: 1.5;\" x1=\"16\" x2=\"165\" y1=\"28.2969\" y2=\"28.2969\"/><text fill=\"#000000\" font-family=\"sans-serif\" font-size=\"14\" font-weight=\"bold\" lengthAdjust=\"spacingAndGlyphs\" textLength=\"136\" x=\"20\" y=\"20.9951\">RequirementTest</text></a><!--MD5=[b4997ac47864f28c2f74865a473b2911]\n",
       "class E2--><a href=\"psysml:27c2a771-07cf-4bde-9591-6030a1a15742\" target=\"_top\" title=\"psysml:27c2a771-07cf-4bde-9591-6030a1a15742\" xlink:actuate=\"onRequest\" xlink:href=\"psysml:27c2a771-07cf-4bde-9591-6030a1a15742\" xlink:show=\"new\" xlink:title=\"psysml:27c2a771-07cf-4bde-9591-6030a1a15742\" xlink:type=\"simple\"><rect fill=\"#FFFFFF\" height=\"45.9375\" id=\"E2\" style=\"stroke: #383838; stroke-width: 1.5;\" width=\"104\" x=\"238\" y=\"41\"/><text fill=\"#000000\" font-family=\"sans-serif\" font-size=\"12\" font-style=\"italic\" lengthAdjust=\"spacingAndGlyphs\" textLength=\"102\" x=\"239\" y=\"57.1387\">«constraint def»</text><text fill=\"#000000\" font-family=\"sans-serif\" font-size=\"12\" lengthAdjust=\"spacingAndGlyphs\" textLength=\"8\" x=\"286\" y=\"71.1074\">C</text><line style=\"stroke: #383838; stroke-width: 1.5;\" x1=\"239\" x2=\"341\" y1=\"78.9375\" y2=\"78.9375\"/></a><!--MD5=[09b614a08d8cba4a07c9adeb5e0fee81]\n",
       "class E3--><a href=\"psysml:da02b217-f155-4220-a2dc-d840d0d24f86\" target=\"_top\" title=\"psysml:da02b217-f155-4220-a2dc-d840d0d24f86\" xlink:actuate=\"onRequest\" xlink:href=\"psysml:da02b217-f155-4220-a2dc-d840d0d24f86\" xlink:show=\"new\" xlink:title=\"psysml:da02b217-f155-4220-a2dc-d840d0d24f86\" xlink:type=\"simple\"><rect fill=\"#FFFFFF\" height=\"45.9375\" id=\"E3\" rx=\"10\" ry=\"10\" style=\"stroke: #383838; stroke-width: 1.5;\" width=\"80\" x=\"64.5\" y=\"41\"/><text fill=\"#000000\" font-family=\"sans-serif\" font-size=\"12\" font-style=\"italic\" lengthAdjust=\"spacingAndGlyphs\" textLength=\"78\" x=\"65.5\" y=\"57.1387\">«constraint»</text><text fill=\"#000000\" font-family=\"sans-serif\" font-size=\"12\" lengthAdjust=\"spacingAndGlyphs\" textLength=\"23\" x=\"93\" y=\"71.1074\">c: C</text><line style=\"stroke: #383838; stroke-width: 1.5;\" x1=\"65.5\" x2=\"143.5\" y1=\"78.9375\" y2=\"78.9375\"/></a><!--MD5=[ebbe1d658d1005bcc118a6aa81145e00]\n",
       "class E4--><a href=\"psysml:b9a9d178-6ba0-415d-80bd-8d7e5aacf32f\" target=\"_top\" title=\"psysml:b9a9d178-6ba0-415d-80bd-8d7e5aacf32f\" xlink:actuate=\"onRequest\" xlink:href=\"psysml:b9a9d178-6ba0-415d-80bd-8d7e5aacf32f\" xlink:show=\"new\" xlink:title=\"psysml:b9a9d178-6ba0-415d-80bd-8d7e5aacf32f\" xlink:type=\"simple\"><rect fill=\"#FFFFFF\" height=\"109.1563\" id=\"E4\" style=\"stroke: #383838; stroke-width: 1.5;\" width=\"117\" x=\"461\" y=\"181.5\"/><text fill=\"#000000\" font-family=\"sans-serif\" font-size=\"12\" font-style=\"italic\" lengthAdjust=\"spacingAndGlyphs\" textLength=\"115\" x=\"462\" y=\"197.6387\">«requirement def»</text><text fill=\"#000000\" font-family=\"sans-serif\" font-size=\"12\" lengthAdjust=\"spacingAndGlyphs\" textLength=\"8\" x=\"515.5\" y=\"211.6074\">R</text><line style=\"stroke: #383838; stroke-width: 1.5;\" x1=\"462\" x2=\"577\" y1=\"219.4375\" y2=\"219.4375\"/><text fill=\"#000000\" font-family=\"sans-serif\" font-size=\"11\" lengthAdjust=\"spacingAndGlyphs\" textLength=\"0\" x=\"471\" y=\"233.6479\"/><line style=\"stroke: #383838; stroke-width: 1.0;\" x1=\"462\" x2=\"577\" y1=\"240.2422\" y2=\"240.2422\"/><text fill=\"#000000\" font-family=\"sans-serif\" font-size=\"11\" font-weight=\"bold\" lengthAdjust=\"spacingAndGlyphs\" textLength=\"46\" x=\"467\" y=\"271.2573\">require</text><text fill=\"#000000\" font-family=\"sans-serif\" font-size=\"11\" lengthAdjust=\"spacingAndGlyphs\" textLength=\"6\" x=\"517\" y=\"271.2573\">c</text><text fill=\"#000000\" font-family=\"sans-serif\" font-size=\"11\" font-style=\"italic\" lengthAdjust=\"spacingAndGlyphs\" textLength=\"46\" x=\"467\" y=\"284.062\">assume</text><text fill=\"#000000\" font-family=\"sans-serif\" font-size=\"11\" lengthAdjust=\"spacingAndGlyphs\" textLength=\"29\" x=\"517\" y=\"284.062\">c1: C</text><line style=\"stroke: #383838; stroke-width: 1.0;\" x1=\"462\" x2=\"487.5\" y1=\"254.6445\" y2=\"254.6445\"/><text fill=\"#000000\" font-family=\"sans-serif\" font-size=\"11\" lengthAdjust=\"spacingAndGlyphs\" textLength=\"64\" x=\"487.5\" y=\"257.9526\">constraints</text><line style=\"stroke: #383838; stroke-width: 1.0;\" x1=\"551.5\" x2=\"577\" y1=\"254.6445\" y2=\"254.6445\"/></a><!--MD5=[270fce915f116d4de14055a7c1d9a0f3]\n",
       "class E5--><a href=\"psysml:5c4fbfc6-6feb-457a-9610-da755776e124\" target=\"_top\" title=\"psysml:5c4fbfc6-6feb-457a-9610-da755776e124\" xlink:actuate=\"onRequest\" xlink:href=\"psysml:5c4fbfc6-6feb-457a-9610-da755776e124\" xlink:show=\"new\" xlink:title=\"psysml:5c4fbfc6-6feb-457a-9610-da755776e124\" xlink:type=\"simple\"><rect fill=\"#FFFFFF\" height=\"66.7422\" id=\"E5\" style=\"stroke: #383838; stroke-width: 1.5;\" width=\"117\" x=\"639\" y=\"216.5\"/><text fill=\"#000000\" font-family=\"sans-serif\" font-size=\"12\" font-style=\"italic\" lengthAdjust=\"spacingAndGlyphs\" textLength=\"115\" x=\"640\" y=\"232.6387\">«requirement def»</text><text fill=\"#000000\" font-family=\"sans-serif\" font-size=\"12\" lengthAdjust=\"spacingAndGlyphs\" textLength=\"5\" x=\"684.5\" y=\"246.6074\">[</text><text fill=\"#000000\" font-family=\"sans-serif\" font-size=\"12\" font-weight=\"bold\" lengthAdjust=\"spacingAndGlyphs\" textLength=\"8\" x=\"689.5\" y=\"246.6074\">1</text><text fill=\"#000000\" font-family=\"sans-serif\" font-size=\"12\" lengthAdjust=\"spacingAndGlyphs\" textLength=\"17\" x=\"697.5\" y=\"246.6074\">] A</text><line style=\"stroke: #383838; stroke-width: 1.5;\" x1=\"640\" x2=\"755\" y1=\"254.4375\" y2=\"254.4375\"/><text fill=\"#000000\" font-family=\"sans-serif\" font-size=\"11\" lengthAdjust=\"spacingAndGlyphs\" textLength=\"24\" x=\"645\" y=\"268.6479\">Text</text><line style=\"stroke: #383838; stroke-width: 1.0;\" x1=\"640\" x2=\"755\" y1=\"275.2422\" y2=\"275.2422\"/></a><!--MD5=[b9389687b975829384b498ac4b7476b2]\n",
       "class E8--><a href=\"psysml:577c6bec-7675-4e65-a136-10b226b9020a\" target=\"_top\" title=\"psysml:577c6bec-7675-4e65-a136-10b226b9020a\" xlink:actuate=\"onRequest\" xlink:href=\"psysml:577c6bec-7675-4e65-a136-10b226b9020a\" xlink:show=\"new\" xlink:title=\"psysml:577c6bec-7675-4e65-a136-10b226b9020a\" xlink:type=\"simple\"><rect fill=\"#FFFFFF\" height=\"45.9375\" id=\"E8\" rx=\"10\" ry=\"10\" style=\"stroke: #383838; stroke-width: 1.5;\" width=\"93\" x=\"651\" y=\"135\"/><text fill=\"#000000\" font-family=\"sans-serif\" font-size=\"12\" font-style=\"italic\" lengthAdjust=\"spacingAndGlyphs\" textLength=\"91\" x=\"652\" y=\"151.1387\">«requirement»</text><text fill=\"#000000\" font-family=\"sans-serif\" font-size=\"12\" lengthAdjust=\"spacingAndGlyphs\" text-decoration=\"line-through\" textLength=\"51\" x=\"672\" y=\"165.1074\">noname</text><line style=\"stroke: #383838; stroke-width: 1.5;\" x1=\"652\" x2=\"743\" y1=\"172.9375\" y2=\"172.9375\"/></a><!--MD5=[fd4143e9d270a159db93a4ea2a975926]\n",
       "class E9--><a href=\"psysml:291c6c45-8332-45a6-809f-574961a49898\" target=\"_top\" title=\"psysml:291c6c45-8332-45a6-809f-574961a49898\" xlink:actuate=\"onRequest\" xlink:href=\"psysml:291c6c45-8332-45a6-809f-574961a49898\" xlink:show=\"new\" xlink:title=\"psysml:291c6c45-8332-45a6-809f-574961a49898\" xlink:type=\"simple\"><rect fill=\"#FFFFFF\" height=\"88.3516\" id=\"E9\" style=\"stroke: #383838; stroke-width: 1.5;\" width=\"145\" x=\"32\" y=\"122\"/><text fill=\"#000000\" font-family=\"sans-serif\" font-size=\"12\" font-style=\"italic\" lengthAdjust=\"spacingAndGlyphs\" textLength=\"115\" x=\"47\" y=\"138.1387\">«requirement def»</text><text fill=\"#000000\" font-family=\"sans-serif\" font-size=\"12\" lengthAdjust=\"spacingAndGlyphs\" textLength=\"16\" x=\"96.5\" y=\"152.1074\">R1</text><line style=\"stroke: #383838; stroke-width: 1.5;\" x1=\"33\" x2=\"176\" y1=\"159.9375\" y2=\"159.9375\"/><text fill=\"#000000\" font-family=\"sans-serif\" font-size=\"11\" font-weight=\"bold\" lengthAdjust=\"spacingAndGlyphs\" textLength=\"46\" x=\"38\" y=\"190.9526\">require</text><text fill=\"#000000\" font-family=\"sans-serif\" font-size=\"11\" lengthAdjust=\"spacingAndGlyphs\" textLength=\"13\" x=\"88\" y=\"190.9526\">c1</text><text fill=\"#000000\" font-family=\"sans-serif\" font-size=\"11\" font-style=\"italic\" lengthAdjust=\"spacingAndGlyphs\" textLength=\"133\" x=\"38\" y=\"203.7573\">:&gt;&gt;RequirementTest::c</text><line style=\"stroke: #383838; stroke-width: 1.0;\" x1=\"33\" x2=\"72.5\" y1=\"174.3398\" y2=\"174.3398\"/><text fill=\"#000000\" font-family=\"sans-serif\" font-size=\"11\" lengthAdjust=\"spacingAndGlyphs\" textLength=\"64\" x=\"72.5\" y=\"177.6479\">constraints</text><line style=\"stroke: #383838; stroke-width: 1.0;\" x1=\"136.5\" x2=\"176\" y1=\"174.3398\" y2=\"174.3398\"/></a><!--MD5=[1dd1bfd58a279cf63c5f349dbc8fc6a1]\n",
       "class E11--><a href=\"psysml:b7118396-8822-4234-af4f-531e34fd2b85\" target=\"_top\" title=\"psysml:b7118396-8822-4234-af4f-531e34fd2b85\" xlink:actuate=\"onRequest\" xlink:href=\"psysml:b7118396-8822-4234-af4f-531e34fd2b85\" xlink:show=\"new\" xlink:title=\"psysml:b7118396-8822-4234-af4f-531e34fd2b85\" xlink:type=\"simple\"><rect fill=\"#FFFFFF\" height=\"45.9375\" id=\"E11\" rx=\"10\" ry=\"10\" style=\"stroke: #383838; stroke-width: 1.5;\" width=\"42\" x=\"498.5\" y=\"100\"/><text fill=\"#000000\" font-family=\"sans-serif\" font-size=\"12\" font-style=\"italic\" lengthAdjust=\"spacingAndGlyphs\" textLength=\"40\" x=\"499.5\" y=\"116.1387\">«part»</text><text fill=\"#000000\" font-family=\"sans-serif\" font-size=\"12\" lengthAdjust=\"spacingAndGlyphs\" textLength=\"8\" x=\"515.5\" y=\"130.1074\">p</text><line style=\"stroke: #383838; stroke-width: 1.5;\" x1=\"499.5\" x2=\"539.5\" y1=\"137.9375\" y2=\"137.9375\"/></a><!--MD5=[49a0ec8f00dab7302a31f22d0f0fe584]\n",
       "class E12--><a href=\"psysml:5710aa92-7822-41e6-89ae-9d2d61cb8bf3\" target=\"_top\" title=\"psysml:5710aa92-7822-41e6-89ae-9d2d61cb8bf3\" xlink:actuate=\"onRequest\" xlink:href=\"psysml:5710aa92-7822-41e6-89ae-9d2d61cb8bf3\" xlink:show=\"new\" xlink:title=\"psysml:5710aa92-7822-41e6-89ae-9d2d61cb8bf3\" xlink:type=\"simple\"><rect fill=\"#FFFFFF\" height=\"45.9375\" id=\"E12\" rx=\"10\" ry=\"10\" style=\"stroke: #383838; stroke-width: 1.5;\" width=\"42\" x=\"83.5\" y=\"245\"/><text fill=\"#000000\" font-family=\"sans-serif\" font-size=\"12\" font-style=\"italic\" lengthAdjust=\"spacingAndGlyphs\" textLength=\"40\" x=\"84.5\" y=\"261.1387\">«part»</text><text fill=\"#000000\" font-family=\"sans-serif\" font-size=\"12\" lengthAdjust=\"spacingAndGlyphs\" textLength=\"8\" x=\"100.5\" y=\"275.1074\">q</text><line style=\"stroke: #383838; stroke-width: 1.5;\" x1=\"84.5\" x2=\"124.5\" y1=\"282.9375\" y2=\"282.9375\"/></a><!--MD5=[ee3c913d1a06f366521f9ef512b67efe]\n",
       "class E13--><a href=\"psysml:b72900fb-e3ca-4439-ac22-acb3bf892de5\" target=\"_top\" title=\"psysml:b72900fb-e3ca-4439-ac22-acb3bf892de5\" xlink:actuate=\"onRequest\" xlink:href=\"psysml:b72900fb-e3ca-4439-ac22-acb3bf892de5\" xlink:show=\"new\" xlink:title=\"psysml:b72900fb-e3ca-4439-ac22-acb3bf892de5\" xlink:type=\"simple\"><rect fill=\"#FFFFFF\" height=\"45.9375\" id=\"E13\" rx=\"10\" ry=\"10\" style=\"stroke: #383838; stroke-width: 1.5;\" width=\"93\" x=\"243.5\" y=\"213\"/><text fill=\"#000000\" font-family=\"sans-serif\" font-size=\"12\" font-style=\"italic\" lengthAdjust=\"spacingAndGlyphs\" textLength=\"91\" x=\"244.5\" y=\"229.1387\">«requirement»</text><text fill=\"#000000\" font-family=\"sans-serif\" font-size=\"12\" lengthAdjust=\"spacingAndGlyphs\" textLength=\"21\" x=\"279.5\" y=\"243.1074\">r: R</text><line style=\"stroke: #383838; stroke-width: 1.5;\" x1=\"244.5\" x2=\"335.5\" y1=\"250.9375\" y2=\"250.9375\"/></a><!--MD5=[05d275557350bfb9b23a4ef7222b4c39]\n",
       "link E3 to E2--><a href=\"psysml:8b4534c8-c65f-4721-aa95-1aefa1ee4858\" target=\"_top\" title=\"psysml:8b4534c8-c65f-4721-aa95-1aefa1ee4858\" xlink:actuate=\"onRequest\" xlink:href=\"psysml:8b4534c8-c65f-4721-aa95-1aefa1ee4858\" xlink:show=\"new\" xlink:title=\"psysml:8b4534c8-c65f-4721-aa95-1aefa1ee4858\" xlink:type=\"simple\"><path d=\"M144.87,64 C166.09,64 192.94,64 217.7,64 \" fill=\"none\" id=\"E3-&gt;E2\" style=\"stroke: #383838; stroke-width: 1.0;\"/><polygon fill=\"#FFFFFF\" points=\"237.84,64,218.84,71,218.84,57,237.84,64\" style=\"stroke: #383838; stroke-width: 1.0;\"/><ellipse cx=\"213.14\" cy=\"69\" fill=\"#383838\" rx=\"2\" ry=\"2\" style=\"stroke: #383838; stroke-width: 1.0;\"/><ellipse cx=\"213.14\" cy=\"59\" fill=\"#383838\" rx=\"2\" ry=\"2\" style=\"stroke: #383838; stroke-width: 1.0;\"/></a><!--MD5=[62aa6af11e70f752912c1cb0466f24f7]\n",
       "reverse link E4 to E5--><a href=\"psysml:5c4fbfc6-6feb-457a-9610-da755776e124\" target=\"_top\" title=\"psysml:5c4fbfc6-6feb-457a-9610-da755776e124\" xlink:actuate=\"onRequest\" xlink:href=\"psysml:5c4fbfc6-6feb-457a-9610-da755776e124\" xlink:show=\"new\" xlink:title=\"psysml:5c4fbfc6-6feb-457a-9610-da755776e124\" xlink:type=\"simple\"><path d=\"M593.54,241.81 C608.62,243.01 624.3,244.26 638.74,245.41 \" fill=\"none\" id=\"E4&lt;-E5\" style=\"stroke: #383838; stroke-width: 1.0;\"/><ellipse cx=\"586.105\" cy=\"241.2122\" fill=\"#FFFFFF\" rx=\"8\" ry=\"8\" style=\"stroke: #383838; stroke-width: 1.0;\"/><line style=\"stroke: #383838; stroke-width: 1.0;\" x1=\"594.08\" x2=\"578.13\" y1=\"241.8444\" y2=\"240.58\"/><line style=\"stroke: #383838; stroke-width: 1.0;\" x1=\"585.4728\" x2=\"586.7372\" y1=\"249.1872\" y2=\"233.2372\"/></a><!--MD5=[c6fc7cdb0cabde04948078cf183fa696]\n",
       "reverse link E4 to E8--><a href=\"psysml:577c6bec-7675-4e65-a136-10b226b9020a\" target=\"_top\" title=\"psysml:577c6bec-7675-4e65-a136-10b226b9020a\" xlink:actuate=\"onRequest\" xlink:href=\"psysml:577c6bec-7675-4e65-a136-10b226b9020a\" xlink:show=\"new\" xlink:title=\"psysml:577c6bec-7675-4e65-a136-10b226b9020a\" xlink:type=\"simple\"><path d=\"M590.24,205.09 C610.58,196.08 632.28,186.46 650.74,178.28 \" fill=\"none\" id=\"E4&lt;-E8\" style=\"stroke: #383838; stroke-width: 1.0;\"/><polygon fill=\"#383838\" points=\"578.13,210.46,585.2365,211.684,589.0995,205.5949,581.9931,204.3709,578.13,210.46\" style=\"stroke: #383838; stroke-width: 1.0;\"/></a><!--MD5=[062ed86c389d1a88f61c6380d0491e17]\n",
       "reverse link E12 to E13--><a href=\"psysml:b72900fb-e3ca-4439-ac22-acb3bf892de5\" target=\"_top\" title=\"psysml:b72900fb-e3ca-4439-ac22-acb3bf892de5\" xlink:actuate=\"onRequest\" xlink:href=\"psysml:b72900fb-e3ca-4439-ac22-acb3bf892de5\" xlink:show=\"new\" xlink:title=\"psysml:b72900fb-e3ca-4439-ac22-acb3bf892de5\" xlink:type=\"simple\"><path d=\"M139.02,262.15 C168.28,257.05 211.02,249.6 243.39,243.95 \" fill=\"none\" id=\"E12&lt;-E13\" style=\"stroke: #383838; stroke-width: 1.0;\"/><polygon fill=\"#383838\" points=\"125.84,264.45,132.4403,267.3544,137.6599,262.3789,131.0596,259.4745,125.84,264.45\" style=\"stroke: #383838; stroke-width: 1.0;\"/></a><!--MD5=[017847e01ff9a8bd19f247411074f987]\n",
       "link E13 to E4--><a href=\"psysml:ed6e641a-605b-4ed9-9064-d41509e7ab16\" target=\"_top\" title=\"psysml:ed6e641a-605b-4ed9-9064-d41509e7ab16\" xlink:actuate=\"onRequest\" xlink:href=\"psysml:ed6e641a-605b-4ed9-9064-d41509e7ab16\" xlink:show=\"new\" xlink:title=\"psysml:ed6e641a-605b-4ed9-9064-d41509e7ab16\" xlink:type=\"simple\"><path d=\"M336.76,236 C366.45,236 405.9,236 440.46,236 \" fill=\"none\" id=\"E13-&gt;E4\" style=\"stroke: #383838; stroke-width: 1.0;\"/><polygon fill=\"#FFFFFF\" points=\"460.67,236,441.67,243,441.67,229,460.67,236\" style=\"stroke: #383838; stroke-width: 1.0;\"/><ellipse cx=\"435.97\" cy=\"241\" fill=\"#383838\" rx=\"2\" ry=\"2\" style=\"stroke: #383838; stroke-width: 1.0;\"/><ellipse cx=\"435.97\" cy=\"231\" fill=\"#383838\" rx=\"2\" ry=\"2\" style=\"stroke: #383838; stroke-width: 1.0;\"/></a><!--MD5=[2cfe899c895462254056921bfb67315f]\n",
       "link E13 to E11--><a href=\"psysml:11f1a2a5-a4e7-4875-8b16-7052fd317758\" target=\"_top\" title=\"psysml:11f1a2a5-a4e7-4875-8b16-7052fd317758\" xlink:actuate=\"onRequest\" xlink:href=\"psysml:11f1a2a5-a4e7-4875-8b16-7052fd317758\" xlink:show=\"new\" xlink:title=\"psysml:11f1a2a5-a4e7-4875-8b16-7052fd317758\" xlink:type=\"simple\"><path d=\"M336.76,213.27 C383.95,189.83 455.79,154.15 493.46,135.44 \" fill=\"none\" id=\"E13-&gt;E11\" style=\"stroke: #383838; stroke-width: 1.0; stroke-dasharray: 7.0,7.0;\"/><polygon fill=\"#383838\" points=\"498.32,133.02,488.4797,133.4294,493.8393,135.2389,492.0299,140.5985,498.32,133.02\" style=\"stroke: #383838; stroke-width: 1.0;\"/><text fill=\"#000000\" font-family=\"sans-serif\" font-size=\"13\" lengthAdjust=\"spacingAndGlyphs\" textLength=\"57\" x=\"373\" y=\"166.0669\">«satisfy»</text></a><!--MD5=[62edd405a6abd24ba8f4141bbff2783c]\n",
       "@startuml\r\n",
       "left to right direction\r\n",
       "skinparam monochrome true\r\n",
       "skinparam classbackgroundcolor white\r\n",
       "skinparam shadowing false\r\n",
       "skinparam wrapWidth 300\r\n",
       "hide circle\r\n",
       "\r\n",
       "package \"RequirementTest\" as E1  [[psysml:8aa028f5-1693-4b51-bff2-c94d0f18c930 ]]  {\r\n",
       "comp def \"C\" as E2  <<(T,blue)constraint def>> [[psysml:27c2a771-07cf-4bde-9591-6030a1a15742 ]] {\r\n",
       "}\r\n",
       "comp usage \"c: C\" as E3  <<(T,blue)constraint>> [[psysml:da02b217-f155-4220-a2dc-d840d0d24f86 ]] {\r\n",
       "}\r\n",
       "comp def \"R\" as E4  <<(T,blue)requirement def>> [[psysml:b9a9d178-6ba0-415d-80bd-8d7e5aacf32f ]] {\r\n",
       "\r\n",
       "- -\r\n",
       "- - constraints - -\r\n",
       "<b>require</b> c\r\n",
       "<i>assume</i> c1: C\r\n",
       "}\r\n",
       "comp def \" [<b>1</b>] A\" as E5  <<(T,blue)requirement def>> [[psysml:5c4fbfc6-6feb-457a-9610-da755776e124 ]] {\r\n",
       "Text\r\n",
       "- -\r\n",
       "}\r\n",
       "comp usage \"<s>noname</s>\" as E8  <<(T,blue)requirement>> [[psysml:577c6bec-7675-4e65-a136-10b226b9020a ]] {\r\n",
       "}\r\n",
       "comp def \"R1\" as E9  <<(T,blue)requirement def>> [[psysml:291c6c45-8332-45a6-809f-574961a49898 ]] {\r\n",
       "- - constraints - -\r\n",
       "<b>require</b> c1\\n//:>>RequirementTest::c// \r\n",
       "}\r\n",
       "comp usage \"p\" as E11  <<(T,blue)part>> [[psysml:b7118396-8822-4234-af4f-531e34fd2b85 ]] {\r\n",
       "}\r\n",
       "comp usage \"q\" as E12  <<(T,blue)part>> [[psysml:5710aa92-7822-41e6-89ae-9d2d61cb8bf3 ]] {\r\n",
       "}\r\n",
       "comp usage \"r: R\" as E13  <<(T,blue)requirement>> [[psysml:b72900fb-e3ca-4439-ac22-acb3bf892de5 ]] {\r\n",
       "}\r\n",
       "E3 - -:|> E2 [[psysml:8b4534c8-c65f-4721-aa95-1aefa1ee4858 ]] \r\n",
       "E4 +- - E5 [[psysml:5c4fbfc6-6feb-457a-9610-da755776e124 ]] \r\n",
       "E4 *- - E8 [[psysml:577c6bec-7675-4e65-a136-10b226b9020a ]] \r\n",
       "E12 *- - E13 [[psysml:b72900fb-e3ca-4439-ac22-acb3bf892de5 ]] \r\n",
       "E13 - -:|> E4 [[psysml:ed6e641a-605b-4ed9-9064-d41509e7ab16 ]] \r\n",
       "E13 ..> E11 [[psysml:11f1a2a5-a4e7-4875-8b16-7052fd317758 ]] : <<satisfy>>\r\n",
       "}\r\n",
       "@enduml\r\n",
       "\n",
       "PlantUML version 1.2020.13(Sat Jun 13 12:26:38 UTC 2020)\n",
       "(EPL source distribution)\n",
       "Java Runtime: OpenJDK Runtime Environment\n",
       "JVM: OpenJDK 64-Bit Server VM\n",
       "Default Encoding: UTF-8\n",
       "Language: en\n",
       "Country: null\n",
       "--></g></svg>"
      ]
     },
     "execution_count": 17,
     "metadata": {},
     "output_type": "execute_result"
    }
   ],
   "source": [
    "%viz --style=\"LR\" --view=\"Tree\" \"RequirementTest\""
   ]
  },
  {
   "cell_type": "code",
   "execution_count": 18,
   "id": "changing-identification",
   "metadata": {
    "execution": {
     "iopub.execute_input": "2021-03-26T09:12:27.873137Z",
     "iopub.status.busy": "2021-03-26T09:12:27.872825Z",
     "iopub.status.idle": "2021-03-26T09:12:27.879314Z",
     "shell.execute_reply": "2021-03-26T09:12:27.878481Z"
    }
   },
   "outputs": [
    {
     "data": {
      "image/svg+xml": [
       "<?xml version=\"1.0\" encoding=\"UTF-8\" standalone=\"no\"?><svg xmlns=\"http://www.w3.org/2000/svg\" xmlns:xlink=\"http://www.w3.org/1999/xlink\" contentScriptType=\"application/ecmascript\" contentStyleType=\"text/css\" height=\"12px\" preserveAspectRatio=\"none\" style=\"width:12px;height:12px;\" version=\"1.1\" viewBox=\"0 0 12 12\" width=\"12px\" zoomAndPan=\"magnify\"><defs/><g><!--MD5=[19d285c9d72a204eba4e2cd117d745e8]\n",
       "@startuml\r\n",
       "left to right direction\r\n",
       "skinparam monochrome true\r\n",
       "skinparam classbackgroundcolor white\r\n",
       "skinparam shadowing false\r\n",
       "skinparam wrapWidth 300\r\n",
       "hide circle\r\n",
       "\r\n",
       "@enduml\r\n",
       "\n",
       "PlantUML version 1.2020.13(Sat Jun 13 12:26:38 UTC 2020)\n",
       "(EPL source distribution)\n",
       "Java Runtime: OpenJDK Runtime Environment\n",
       "JVM: OpenJDK 64-Bit Server VM\n",
       "Default Encoding: UTF-8\n",
       "Language: en\n",
       "Country: null\n",
       "--></g></svg>"
      ]
     },
     "execution_count": 18,
     "metadata": {},
     "output_type": "execute_result"
    }
   ],
   "source": [
    "%viz --style=\"LR\" --view=\"State\" \"RequirementTest\""
   ]
  },
  {
   "cell_type": "code",
   "execution_count": 19,
   "id": "enormous-reasoning",
   "metadata": {
    "execution": {
     "iopub.execute_input": "2021-03-26T09:12:27.930805Z",
     "iopub.status.busy": "2021-03-26T09:12:27.930051Z",
     "iopub.status.idle": "2021-03-26T09:12:27.969502Z",
     "shell.execute_reply": "2021-03-26T09:12:27.968285Z"
    }
   },
   "outputs": [
    {
     "data": {
      "image/svg+xml": [
       "<?xml version=\"1.0\" encoding=\"UTF-8\" standalone=\"no\"?><svg xmlns=\"http://www.w3.org/2000/svg\" xmlns:xlink=\"http://www.w3.org/1999/xlink\" contentScriptType=\"application/ecmascript\" contentStyleType=\"text/css\" height=\"633px\" preserveAspectRatio=\"none\" style=\"width:405px;height:633px;\" version=\"1.1\" viewBox=\"0 0 405 633\" width=\"405px\" zoomAndPan=\"magnify\"><defs/><g><!--MD5=[fbc87193dbaf4d95561dea2c320d4a47]\n",
       "cluster E1--><a href=\"psysml:8aa028f5-1693-4b51-bff2-c94d0f18c930\" target=\"_top\" title=\"psysml:8aa028f5-1693-4b51-bff2-c94d0f18c930\" xlink:actuate=\"onRequest\" xlink:href=\"psysml:8aa028f5-1693-4b51-bff2-c94d0f18c930\" xlink:show=\"new\" xlink:title=\"psysml:8aa028f5-1693-4b51-bff2-c94d0f18c930\" xlink:type=\"simple\"><polygon fill=\"#FFFFFF\" points=\"16,6,158,6,165,28.2969,383,28.2969,383,621,16,621,16,6\" style=\"stroke: #000000; stroke-width: 1.5;\"/><line style=\"stroke: #000000; stroke-width: 1.5;\" x1=\"16\" x2=\"165\" y1=\"28.2969\" y2=\"28.2969\"/><text fill=\"#000000\" font-family=\"sans-serif\" font-size=\"14\" font-weight=\"bold\" lengthAdjust=\"spacingAndGlyphs\" textLength=\"136\" x=\"20\" y=\"20.9951\">RequirementTest</text></a><!--MD5=[168fadf3d0c3fd93dd5d6da1b1d7ab76]\n",
       "cluster E7--><a href=\"psysml:5710aa92-7822-41e6-89ae-9d2d61cb8bf3\" target=\"_top\" title=\"psysml:5710aa92-7822-41e6-89ae-9d2d61cb8bf3\" xlink:actuate=\"onRequest\" xlink:href=\"psysml:5710aa92-7822-41e6-89ae-9d2d61cb8bf3\" xlink:show=\"new\" xlink:title=\"psysml:5710aa92-7822-41e6-89ae-9d2d61cb8bf3\" xlink:type=\"simple\"><rect fill=\"#FFFFFF\" height=\"229\" id=\"E7\" rx=\"10\" ry=\"10\" style=\"stroke: #383838; stroke-width: 1.5;\" width=\"194\" x=\"40\" y=\"49\"/><rect fill=\"#F8F8F8\" height=\"23.9688\" rx=\"10\" ry=\"10\" style=\"stroke: #F8F8F8; stroke-width: 1.5;\" width=\"194\" x=\"40\" y=\"49\"/><rect fill=\"#F8F8F8\" height=\"10\" style=\"stroke: #F8F8F8; stroke-width: 1.5;\" width=\"194\" x=\"40\" y=\"62.9688\"/><rect fill=\"none\" height=\"229\" id=\"E7\" rx=\"10\" ry=\"10\" style=\"stroke: #383838; stroke-width: 1.5;\" width=\"194\" x=\"40\" y=\"49\"/><text fill=\"#000000\" font-family=\"sans-serif\" font-size=\"12\" lengthAdjust=\"spacingAndGlyphs\" textLength=\"8\" x=\"133\" y=\"65.1387\">q</text><line style=\"stroke: #383838; stroke-width: 1.0;\" x1=\"40\" x2=\"234\" y1=\"72.9688\" y2=\"72.9688\"/></a><!--MD5=[55dfccfc6c49c2d10cd1bd2211a6c90c]\n",
       "cluster E8--><a href=\"psysml:b72900fb-e3ca-4439-ac22-acb3bf892de5\" target=\"_top\" title=\"psysml:b72900fb-e3ca-4439-ac22-acb3bf892de5\" xlink:actuate=\"onRequest\" xlink:href=\"psysml:b72900fb-e3ca-4439-ac22-acb3bf892de5\" xlink:show=\"new\" xlink:title=\"psysml:b72900fb-e3ca-4439-ac22-acb3bf892de5\" xlink:type=\"simple\"><rect fill=\"#FFFFFF\" height=\"146\" id=\"E8\" rx=\"10\" ry=\"10\" style=\"stroke: #383838; stroke-width: 1.5;\" width=\"130\" x=\"72\" y=\"100\"/><rect fill=\"#F8F8F8\" height=\"37.9375\" rx=\"10\" ry=\"10\" style=\"stroke: #F8F8F8; stroke-width: 1.5;\" width=\"130\" x=\"72\" y=\"100\"/><rect fill=\"#F8F8F8\" height=\"10\" style=\"stroke: #F8F8F8; stroke-width: 1.5;\" width=\"130\" x=\"72\" y=\"127.9375\"/><rect fill=\"none\" height=\"146\" id=\"E8\" rx=\"10\" ry=\"10\" style=\"stroke: #383838; stroke-width: 1.5;\" width=\"130\" x=\"72\" y=\"100\"/><text fill=\"#000000\" font-family=\"sans-serif\" font-size=\"12\" font-style=\"italic\" lengthAdjust=\"spacingAndGlyphs\" textLength=\"91\" x=\"91.5\" y=\"116.1387\">«requirement»</text><text fill=\"#000000\" font-family=\"sans-serif\" font-size=\"12\" lengthAdjust=\"spacingAndGlyphs\" textLength=\"21\" x=\"126.5\" y=\"130.1074\">r: R</text><line style=\"stroke: #383838; stroke-width: 1.0;\" x1=\"72\" x2=\"202\" y1=\"137.9375\" y2=\"137.9375\"/></a><!--MD5=[b4997ac47864f28c2f74865a473b2911]\n",
       "class E2--><a href=\"psysml:27c2a771-07cf-4bde-9591-6030a1a15742\" target=\"_top\" title=\"psysml:27c2a771-07cf-4bde-9591-6030a1a15742\" xlink:actuate=\"onRequest\" xlink:href=\"psysml:27c2a771-07cf-4bde-9591-6030a1a15742\" xlink:show=\"new\" xlink:title=\"psysml:27c2a771-07cf-4bde-9591-6030a1a15742\" xlink:type=\"simple\"><rect fill=\"#FFFFFF\" height=\"53.9375\" id=\"E2\" style=\"stroke: #383838; stroke-width: 1.5;\" width=\"152\" x=\"61\" y=\"294\"/><text fill=\"#000000\" font-family=\"sans-serif\" font-size=\"12\" font-style=\"italic\" lengthAdjust=\"spacingAndGlyphs\" textLength=\"150\" x=\"62\" y=\"310.1387\">«(T,blue)constraint def»</text><text fill=\"#000000\" font-family=\"sans-serif\" font-size=\"12\" lengthAdjust=\"spacingAndGlyphs\" textLength=\"8\" x=\"133\" y=\"324.1074\">C</text><line style=\"stroke: #383838; stroke-width: 1.5;\" x1=\"62\" x2=\"212\" y1=\"331.9375\" y2=\"331.9375\"/><line style=\"stroke: #383838; stroke-width: 1.5;\" x1=\"62\" x2=\"212\" y1=\"339.9375\" y2=\"339.9375\"/></a><!--MD5=[ebbe1d658d1005bcc118a6aa81145e00]\n",
       "class E4--><a href=\"psysml:b9a9d178-6ba0-415d-80bd-8d7e5aacf32f\" target=\"_top\" title=\"psysml:b9a9d178-6ba0-415d-80bd-8d7e5aacf32f\" xlink:actuate=\"onRequest\" xlink:href=\"psysml:b9a9d178-6ba0-415d-80bd-8d7e5aacf32f\" xlink:show=\"new\" xlink:title=\"psysml:b9a9d178-6ba0-415d-80bd-8d7e5aacf32f\" xlink:type=\"simple\"><rect fill=\"#FFFFFF\" height=\"53.9375\" id=\"E4\" style=\"stroke: #383838; stroke-width: 1.5;\" width=\"165\" x=\"54.5\" y=\"383\"/><text fill=\"#000000\" font-family=\"sans-serif\" font-size=\"12\" font-style=\"italic\" lengthAdjust=\"spacingAndGlyphs\" textLength=\"163\" x=\"55.5\" y=\"399.1387\">«(T,blue)requirement def»</text><text fill=\"#000000\" font-family=\"sans-serif\" font-size=\"12\" lengthAdjust=\"spacingAndGlyphs\" textLength=\"8\" x=\"133\" y=\"413.1074\">R</text><line style=\"stroke: #383838; stroke-width: 1.5;\" x1=\"55.5\" x2=\"218.5\" y1=\"420.9375\" y2=\"420.9375\"/><line style=\"stroke: #383838; stroke-width: 1.5;\" x1=\"55.5\" x2=\"218.5\" y1=\"428.9375\" y2=\"428.9375\"/></a><!--MD5=[270fce915f116d4de14055a7c1d9a0f3]\n",
       "class E5--><a href=\"psysml:291c6c45-8332-45a6-809f-574961a49898\" target=\"_top\" title=\"psysml:291c6c45-8332-45a6-809f-574961a49898\" xlink:actuate=\"onRequest\" xlink:href=\"psysml:291c6c45-8332-45a6-809f-574961a49898\" xlink:show=\"new\" xlink:title=\"psysml:291c6c45-8332-45a6-809f-574961a49898\" xlink:type=\"simple\"><rect fill=\"#FFFFFF\" height=\"53.9375\" id=\"E5\" style=\"stroke: #383838; stroke-width: 1.5;\" width=\"165\" x=\"54.5\" y=\"472\"/><text fill=\"#000000\" font-family=\"sans-serif\" font-size=\"12\" font-style=\"italic\" lengthAdjust=\"spacingAndGlyphs\" textLength=\"163\" x=\"55.5\" y=\"488.1387\">«(T,blue)requirement def»</text><text fill=\"#000000\" font-family=\"sans-serif\" font-size=\"12\" lengthAdjust=\"spacingAndGlyphs\" textLength=\"16\" x=\"129\" y=\"502.1074\">R1</text><line style=\"stroke: #383838; stroke-width: 1.5;\" x1=\"55.5\" x2=\"218.5\" y1=\"509.9375\" y2=\"509.9375\"/><line style=\"stroke: #383838; stroke-width: 1.5;\" x1=\"55.5\" x2=\"218.5\" y1=\"517.9375\" y2=\"517.9375\"/></a><g id=\"E1.E3\"><a href=\"psysml:da02b217-f155-4220-a2dc-d840d0d24f86\" target=\"_top\" title=\"psysml:da02b217-f155-4220-a2dc-d840d0d24f86\" xlink:actuate=\"onRequest\" xlink:href=\"psysml:da02b217-f155-4220-a2dc-d840d0d24f86\" xlink:show=\"new\" xlink:title=\"psysml:da02b217-f155-4220-a2dc-d840d0d24f86\" xlink:type=\"simple\"><rect fill=\"#FFFFFF\" height=\"42.9375\" id=\"E3\" rx=\"10\" ry=\"10\" style=\"stroke: #383838; stroke-width: 1.5;\" width=\"85\" x=\"94.5\" y=\"561.5\"/><rect fill=\"#F8F8F8\" height=\"37.9375\" rx=\"10\" ry=\"10\" style=\"stroke: #F8F8F8; stroke-width: 1.5;\" width=\"85\" x=\"94.5\" y=\"561.5\"/><rect fill=\"#F8F8F8\" height=\"10\" style=\"stroke: #F8F8F8; stroke-width: 1.5;\" width=\"85\" x=\"94.5\" y=\"589.4375\"/><rect fill=\"none\" height=\"42.9375\" id=\"E3\" rx=\"10\" ry=\"10\" style=\"stroke: #383838; stroke-width: 1.5;\" width=\"85\" x=\"94.5\" y=\"561.5\"/><text fill=\"#000000\" font-family=\"sans-serif\" font-size=\"12\" font-style=\"italic\" lengthAdjust=\"spacingAndGlyphs\" textLength=\"78\" x=\"98\" y=\"577.6387\">«constraint»</text><text fill=\"#000000\" font-family=\"sans-serif\" font-size=\"12\" lengthAdjust=\"spacingAndGlyphs\" textLength=\"23\" x=\"125.5\" y=\"591.6074\">c: C</text></a></g><g id=\"E1.E6\"><a href=\"psysml:b7118396-8822-4234-af4f-531e34fd2b85\" target=\"_top\" title=\"psysml:b7118396-8822-4234-af4f-531e34fd2b85\" xlink:actuate=\"onRequest\" xlink:href=\"psysml:b7118396-8822-4234-af4f-531e34fd2b85\" xlink:show=\"new\" xlink:title=\"psysml:b7118396-8822-4234-af4f-531e34fd2b85\" xlink:type=\"simple\"><rect fill=\"#FFFFFF\" height=\"40\" id=\"E6\" rx=\"10\" ry=\"10\" style=\"stroke: #383838; stroke-width: 1.5;\" width=\"50\" x=\"317\" y=\"218\"/><rect fill=\"#F8F8F8\" height=\"23.9688\" rx=\"10\" ry=\"10\" style=\"stroke: #F8F8F8; stroke-width: 1.5;\" width=\"50\" x=\"317\" y=\"218\"/><rect fill=\"#F8F8F8\" height=\"10\" style=\"stroke: #F8F8F8; stroke-width: 1.5;\" width=\"50\" x=\"317\" y=\"231.9688\"/><rect fill=\"none\" height=\"40\" id=\"E6\" rx=\"10\" ry=\"10\" style=\"stroke: #383838; stroke-width: 1.5;\" width=\"50\" x=\"317\" y=\"218\"/><text fill=\"#000000\" font-family=\"sans-serif\" font-size=\"12\" lengthAdjust=\"spacingAndGlyphs\" textLength=\"8\" x=\"338\" y=\"234.1387\">p</text></a></g><g id=\"E1.E7.E8.E9\"><a href=\"psysml:b3b786b4-2056-4ded-a351-3a90cb9a49e0\" target=\"_top\" title=\"psysml:b3b786b4-2056-4ded-a351-3a90cb9a49e0\" xlink:actuate=\"onRequest\" xlink:href=\"psysml:b3b786b4-2056-4ded-a351-3a90cb9a49e0\" xlink:show=\"new\" xlink:title=\"psysml:b3b786b4-2056-4ded-a351-3a90cb9a49e0\" xlink:type=\"simple\"><rect fill=\"#FFFFFF\" height=\"42.9375\" id=\"E9\" rx=\"10\" ry=\"10\" style=\"stroke: #383838; stroke-width: 1.5;\" width=\"82\" x=\"96\" y=\"159.5\"/><rect fill=\"#F8F8F8\" height=\"37.9375\" rx=\"10\" ry=\"10\" style=\"stroke: #F8F8F8; stroke-width: 1.5;\" width=\"82\" x=\"96\" y=\"159.5\"/><rect fill=\"#F8F8F8\" height=\"10\" style=\"stroke: #F8F8F8; stroke-width: 1.5;\" width=\"82\" x=\"96\" y=\"187.4375\"/><rect fill=\"none\" height=\"42.9375\" id=\"E9\" rx=\"10\" ry=\"10\" style=\"stroke: #383838; stroke-width: 1.5;\" width=\"82\" x=\"96\" y=\"159.5\"/><text fill=\"#000000\" font-family=\"sans-serif\" font-size=\"12\" font-style=\"italic\" lengthAdjust=\"spacingAndGlyphs\" textLength=\"75\" x=\"99.5\" y=\"175.6387\">«reference»</text><text fill=\"#000000\" font-family=\"sans-serif\" font-size=\"12\" lengthAdjust=\"spacingAndGlyphs\" textLength=\"26\" x=\"124\" y=\"189.6074\">subj</text></a></g><!--MD5=[c5e8897d989ce984f93528998a7150fe]\n",
       "link E8 to E6--><a href=\"psysml:11f1a2a5-a4e7-4875-8b16-7052fd317758\" target=\"_top\" title=\"psysml:11f1a2a5-a4e7-4875-8b16-7052fd317758\" xlink:actuate=\"onRequest\" xlink:href=\"psysml:11f1a2a5-a4e7-4875-8b16-7052fd317758\" xlink:show=\"new\" xlink:title=\"psysml:11f1a2a5-a4e7-4875-8b16-7052fd317758\" xlink:type=\"simple\"><path d=\"M202.6557,238 C203.7651,238 204.8814,238 206.0038,238 C241.92,238 284.14,238 311.68,238 \" fill=\"none\" id=\"E8-&gt;E6\" style=\"stroke: #383838; stroke-width: 1.0; stroke-dasharray: 7.0,7.0;\"/><polygon fill=\"#383838\" points=\"316.82,238,307.82,234,311.82,238,307.82,242,316.82,238\" style=\"stroke: #383838; stroke-width: 1.0;\"/><text fill=\"#000000\" font-family=\"sans-serif\" font-size=\"13\" lengthAdjust=\"spacingAndGlyphs\" textLength=\"57\" x=\"251\" y=\"234.0669\">«satisfy»</text></a><!--MD5=[f5ff4886f6ca76327fcb28b51c79acc0]\n",
       "@startuml\r\n",
       "skinparam ranksep 8\r\n",
       "skinparam rectangle {\r\n",
       " backgroundColor<<block>> LightGreen\r\n",
       "}\r\n",
       "left to right direction\r\n",
       "skinparam monochrome true\r\n",
       "skinparam classbackgroundcolor white\r\n",
       "skinparam shadowing false\r\n",
       "skinparam wrapWidth 300\r\n",
       "hide circle\r\n",
       "\r\n",
       "package \"RequirementTest\" as E1  [[psysml:8aa028f5-1693-4b51-bff2-c94d0f18c930 ]]  {\r\n",
       "def \"C\" as E2  <<(T,blue)constraint def>> [[psysml:27c2a771-07cf-4bde-9591-6030a1a15742 ]] \r\n",
       "rec usage \"c: C\" as E3  <<(T,blue)constraint>> [[psysml:da02b217-f155-4220-a2dc-d840d0d24f86 ]] {\r\n",
       "}\r\n",
       "def \"R\" as E4  <<(T,blue)requirement def>> [[psysml:b9a9d178-6ba0-415d-80bd-8d7e5aacf32f ]] \r\n",
       "def \"R1\" as E5  <<(T,blue)requirement def>> [[psysml:291c6c45-8332-45a6-809f-574961a49898 ]] \r\n",
       "rec usage \"p\" as E6  [[psysml:b7118396-8822-4234-af4f-531e34fd2b85 ]] {\r\n",
       "}\r\n",
       "rec usage \"q\" as E7  [[psysml:5710aa92-7822-41e6-89ae-9d2d61cb8bf3 ]] {\r\n",
       "rec usage \"r: R\" as E8  <<(T,blue)requirement>> [[psysml:b72900fb-e3ca-4439-ac22-acb3bf892de5 ]] {\r\n",
       "rec usage \"subj\" as E9  <<(T,blue)reference>> [[psysml:b3b786b4-2056-4ded-a351-3a90cb9a49e0 ]] {\r\n",
       "}\r\n",
       "}\r\n",
       "}\r\n",
       "E8 ..> E6 [[psysml:11f1a2a5-a4e7-4875-8b16-7052fd317758 ]] : <<satisfy>>\r\n",
       "}\r\n",
       "@enduml\r\n",
       "\n",
       "PlantUML version 1.2020.13(Sat Jun 13 12:26:38 UTC 2020)\n",
       "(EPL source distribution)\n",
       "Java Runtime: OpenJDK Runtime Environment\n",
       "JVM: OpenJDK 64-Bit Server VM\n",
       "Default Encoding: UTF-8\n",
       "Language: en\n",
       "Country: null\n",
       "--></g></svg>"
      ]
     },
     "execution_count": 19,
     "metadata": {},
     "output_type": "execute_result"
    }
   ],
   "source": [
    "%viz --style=\"LR\" --view=\"Interconnection\" \"RequirementTest\""
   ]
  },
  {
   "cell_type": "code",
   "execution_count": 20,
   "id": "surprised-aquatic",
   "metadata": {
    "execution": {
     "iopub.execute_input": "2021-03-26T09:12:28.019334Z",
     "iopub.status.busy": "2021-03-26T09:12:28.019004Z",
     "iopub.status.idle": "2021-03-26T09:12:28.023530Z",
     "shell.execute_reply": "2021-03-26T09:12:28.024153Z"
    }
   },
   "outputs": [
    {
     "data": {
      "image/svg+xml": [
       "<?xml version=\"1.0\" encoding=\"UTF-8\" standalone=\"no\"?><svg xmlns=\"http://www.w3.org/2000/svg\" xmlns:xlink=\"http://www.w3.org/1999/xlink\" contentScriptType=\"application/ecmascript\" contentStyleType=\"text/css\" height=\"12px\" preserveAspectRatio=\"none\" style=\"width:12px;height:12px;\" version=\"1.1\" viewBox=\"0 0 12 12\" width=\"12px\" zoomAndPan=\"magnify\"><defs/><g><!--MD5=[7aeb398939421629f6affaa4a1a7b125]\n",
       "@startuml\r\n",
       "skinparam ranksep 8\r\n",
       "left to right direction\r\n",
       "skinparam monochrome true\r\n",
       "skinparam classbackgroundcolor white\r\n",
       "skinparam shadowing false\r\n",
       "skinparam wrapWidth 300\r\n",
       "hide circle\r\n",
       "\r\n",
       "@enduml\r\n",
       "\n",
       "PlantUML version 1.2020.13(Sat Jun 13 12:26:38 UTC 2020)\n",
       "(EPL source distribution)\n",
       "Java Runtime: OpenJDK Runtime Environment\n",
       "JVM: OpenJDK 64-Bit Server VM\n",
       "Default Encoding: UTF-8\n",
       "Language: en\n",
       "Country: null\n",
       "--></g></svg>"
      ]
     },
     "execution_count": 20,
     "metadata": {},
     "output_type": "execute_result"
    }
   ],
   "source": [
    "%viz --style=\"LR\" --view=\"Action\" \"RequirementTest\""
   ]
  },
  {
   "cell_type": "code",
   "execution_count": 21,
   "id": "cognitive-hands",
   "metadata": {
    "execution": {
     "iopub.execute_input": "2021-03-26T09:12:28.074990Z",
     "iopub.status.busy": "2021-03-26T09:12:28.074486Z",
     "iopub.status.idle": "2021-03-26T09:12:28.164252Z",
     "shell.execute_reply": "2021-03-26T09:12:28.163853Z"
    }
   },
   "outputs": [
    {
     "data": {
      "image/svg+xml": [
       "<?xml version=\"1.0\" encoding=\"UTF-8\" standalone=\"no\"?><svg xmlns=\"http://www.w3.org/2000/svg\" xmlns:xlink=\"http://www.w3.org/1999/xlink\" contentScriptType=\"application/ecmascript\" contentStyleType=\"text/css\" height=\"319px\" preserveAspectRatio=\"none\" style=\"width:794px;height:319px;\" version=\"1.1\" viewBox=\"0 0 794 319\" width=\"794px\" zoomAndPan=\"magnify\"><defs/><g><!--MD5=[fbc87193dbaf4d95561dea2c320d4a47]\n",
       "cluster E1--><a href=\"psysml:8aa028f5-1693-4b51-bff2-c94d0f18c930\" target=\"_top\" title=\"psysml:8aa028f5-1693-4b51-bff2-c94d0f18c930\" xlink:actuate=\"onRequest\" xlink:href=\"psysml:8aa028f5-1693-4b51-bff2-c94d0f18c930\" xlink:show=\"new\" xlink:title=\"psysml:8aa028f5-1693-4b51-bff2-c94d0f18c930\" xlink:type=\"simple\"><polygon fill=\"#FFFFFF\" points=\"16,6,158,6,165,28.2969,772,28.2969,772,307,16,307,16,6\" style=\"stroke: #000000; stroke-width: 1.5;\"/><line style=\"stroke: #000000; stroke-width: 1.5;\" x1=\"16\" x2=\"165\" y1=\"28.2969\" y2=\"28.2969\"/><text fill=\"#000000\" font-family=\"sans-serif\" font-size=\"14\" font-weight=\"bold\" lengthAdjust=\"spacingAndGlyphs\" textLength=\"136\" x=\"20\" y=\"20.9951\">RequirementTest</text></a><!--MD5=[b4997ac47864f28c2f74865a473b2911]\n",
       "class E2--><a href=\"psysml:27c2a771-07cf-4bde-9591-6030a1a15742\" target=\"_top\" title=\"psysml:27c2a771-07cf-4bde-9591-6030a1a15742\" xlink:actuate=\"onRequest\" xlink:href=\"psysml:27c2a771-07cf-4bde-9591-6030a1a15742\" xlink:show=\"new\" xlink:title=\"psysml:27c2a771-07cf-4bde-9591-6030a1a15742\" xlink:type=\"simple\"><rect fill=\"#FFFFFF\" height=\"45.9375\" id=\"E2\" style=\"stroke: #383838; stroke-width: 1.5;\" width=\"104\" x=\"238\" y=\"41\"/><text fill=\"#000000\" font-family=\"sans-serif\" font-size=\"12\" font-style=\"italic\" lengthAdjust=\"spacingAndGlyphs\" textLength=\"102\" x=\"239\" y=\"57.1387\">«constraint def»</text><text fill=\"#000000\" font-family=\"sans-serif\" font-size=\"12\" lengthAdjust=\"spacingAndGlyphs\" textLength=\"8\" x=\"286\" y=\"71.1074\">C</text><line style=\"stroke: #383838; stroke-width: 1.5;\" x1=\"239\" x2=\"341\" y1=\"78.9375\" y2=\"78.9375\"/></a><!--MD5=[09b614a08d8cba4a07c9adeb5e0fee81]\n",
       "class E3--><a href=\"psysml:da02b217-f155-4220-a2dc-d840d0d24f86\" target=\"_top\" title=\"psysml:da02b217-f155-4220-a2dc-d840d0d24f86\" xlink:actuate=\"onRequest\" xlink:href=\"psysml:da02b217-f155-4220-a2dc-d840d0d24f86\" xlink:show=\"new\" xlink:title=\"psysml:da02b217-f155-4220-a2dc-d840d0d24f86\" xlink:type=\"simple\"><rect fill=\"#FFFFFF\" height=\"45.9375\" id=\"E3\" rx=\"10\" ry=\"10\" style=\"stroke: #383838; stroke-width: 1.5;\" width=\"80\" x=\"64.5\" y=\"41\"/><text fill=\"#000000\" font-family=\"sans-serif\" font-size=\"12\" font-style=\"italic\" lengthAdjust=\"spacingAndGlyphs\" textLength=\"78\" x=\"65.5\" y=\"57.1387\">«constraint»</text><text fill=\"#000000\" font-family=\"sans-serif\" font-size=\"12\" lengthAdjust=\"spacingAndGlyphs\" textLength=\"23\" x=\"93\" y=\"71.1074\">c: C</text><line style=\"stroke: #383838; stroke-width: 1.5;\" x1=\"65.5\" x2=\"143.5\" y1=\"78.9375\" y2=\"78.9375\"/></a><!--MD5=[ebbe1d658d1005bcc118a6aa81145e00]\n",
       "class E4--><a href=\"psysml:b9a9d178-6ba0-415d-80bd-8d7e5aacf32f\" target=\"_top\" title=\"psysml:b9a9d178-6ba0-415d-80bd-8d7e5aacf32f\" xlink:actuate=\"onRequest\" xlink:href=\"psysml:b9a9d178-6ba0-415d-80bd-8d7e5aacf32f\" xlink:show=\"new\" xlink:title=\"psysml:b9a9d178-6ba0-415d-80bd-8d7e5aacf32f\" xlink:type=\"simple\"><rect fill=\"#FFFFFF\" height=\"109.1563\" id=\"E4\" style=\"stroke: #383838; stroke-width: 1.5;\" width=\"117\" x=\"461\" y=\"181.5\"/><text fill=\"#000000\" font-family=\"sans-serif\" font-size=\"12\" font-style=\"italic\" lengthAdjust=\"spacingAndGlyphs\" textLength=\"115\" x=\"462\" y=\"197.6387\">«requirement def»</text><text fill=\"#000000\" font-family=\"sans-serif\" font-size=\"12\" lengthAdjust=\"spacingAndGlyphs\" textLength=\"8\" x=\"515.5\" y=\"211.6074\">R</text><line style=\"stroke: #383838; stroke-width: 1.5;\" x1=\"462\" x2=\"577\" y1=\"219.4375\" y2=\"219.4375\"/><text fill=\"#000000\" font-family=\"sans-serif\" font-size=\"11\" lengthAdjust=\"spacingAndGlyphs\" textLength=\"0\" x=\"471\" y=\"233.6479\"/><line style=\"stroke: #383838; stroke-width: 1.0;\" x1=\"462\" x2=\"577\" y1=\"240.2422\" y2=\"240.2422\"/><text fill=\"#000000\" font-family=\"sans-serif\" font-size=\"11\" font-weight=\"bold\" lengthAdjust=\"spacingAndGlyphs\" textLength=\"46\" x=\"467\" y=\"271.2573\">require</text><text fill=\"#000000\" font-family=\"sans-serif\" font-size=\"11\" lengthAdjust=\"spacingAndGlyphs\" textLength=\"6\" x=\"517\" y=\"271.2573\">c</text><text fill=\"#000000\" font-family=\"sans-serif\" font-size=\"11\" font-style=\"italic\" lengthAdjust=\"spacingAndGlyphs\" textLength=\"46\" x=\"467\" y=\"284.062\">assume</text><text fill=\"#000000\" font-family=\"sans-serif\" font-size=\"11\" lengthAdjust=\"spacingAndGlyphs\" textLength=\"29\" x=\"517\" y=\"284.062\">c1: C</text><line style=\"stroke: #383838; stroke-width: 1.0;\" x1=\"462\" x2=\"487.5\" y1=\"254.6445\" y2=\"254.6445\"/><text fill=\"#000000\" font-family=\"sans-serif\" font-size=\"11\" lengthAdjust=\"spacingAndGlyphs\" textLength=\"64\" x=\"487.5\" y=\"257.9526\">constraints</text><line style=\"stroke: #383838; stroke-width: 1.0;\" x1=\"551.5\" x2=\"577\" y1=\"254.6445\" y2=\"254.6445\"/></a><!--MD5=[270fce915f116d4de14055a7c1d9a0f3]\n",
       "class E5--><a href=\"psysml:5c4fbfc6-6feb-457a-9610-da755776e124\" target=\"_top\" title=\"psysml:5c4fbfc6-6feb-457a-9610-da755776e124\" xlink:actuate=\"onRequest\" xlink:href=\"psysml:5c4fbfc6-6feb-457a-9610-da755776e124\" xlink:show=\"new\" xlink:title=\"psysml:5c4fbfc6-6feb-457a-9610-da755776e124\" xlink:type=\"simple\"><rect fill=\"#FFFFFF\" height=\"66.7422\" id=\"E5\" style=\"stroke: #383838; stroke-width: 1.5;\" width=\"117\" x=\"639\" y=\"216.5\"/><text fill=\"#000000\" font-family=\"sans-serif\" font-size=\"12\" font-style=\"italic\" lengthAdjust=\"spacingAndGlyphs\" textLength=\"115\" x=\"640\" y=\"232.6387\">«requirement def»</text><text fill=\"#000000\" font-family=\"sans-serif\" font-size=\"12\" lengthAdjust=\"spacingAndGlyphs\" textLength=\"5\" x=\"684.5\" y=\"246.6074\">[</text><text fill=\"#000000\" font-family=\"sans-serif\" font-size=\"12\" font-weight=\"bold\" lengthAdjust=\"spacingAndGlyphs\" textLength=\"8\" x=\"689.5\" y=\"246.6074\">1</text><text fill=\"#000000\" font-family=\"sans-serif\" font-size=\"12\" lengthAdjust=\"spacingAndGlyphs\" textLength=\"17\" x=\"697.5\" y=\"246.6074\">] A</text><line style=\"stroke: #383838; stroke-width: 1.5;\" x1=\"640\" x2=\"755\" y1=\"254.4375\" y2=\"254.4375\"/><text fill=\"#000000\" font-family=\"sans-serif\" font-size=\"11\" lengthAdjust=\"spacingAndGlyphs\" textLength=\"24\" x=\"645\" y=\"268.6479\">Text</text><line style=\"stroke: #383838; stroke-width: 1.0;\" x1=\"640\" x2=\"755\" y1=\"275.2422\" y2=\"275.2422\"/></a><!--MD5=[b9389687b975829384b498ac4b7476b2]\n",
       "class E8--><a href=\"psysml:577c6bec-7675-4e65-a136-10b226b9020a\" target=\"_top\" title=\"psysml:577c6bec-7675-4e65-a136-10b226b9020a\" xlink:actuate=\"onRequest\" xlink:href=\"psysml:577c6bec-7675-4e65-a136-10b226b9020a\" xlink:show=\"new\" xlink:title=\"psysml:577c6bec-7675-4e65-a136-10b226b9020a\" xlink:type=\"simple\"><rect fill=\"#FFFFFF\" height=\"45.9375\" id=\"E8\" rx=\"10\" ry=\"10\" style=\"stroke: #383838; stroke-width: 1.5;\" width=\"93\" x=\"651\" y=\"135\"/><text fill=\"#000000\" font-family=\"sans-serif\" font-size=\"12\" font-style=\"italic\" lengthAdjust=\"spacingAndGlyphs\" textLength=\"91\" x=\"652\" y=\"151.1387\">«requirement»</text><text fill=\"#000000\" font-family=\"sans-serif\" font-size=\"12\" lengthAdjust=\"spacingAndGlyphs\" text-decoration=\"line-through\" textLength=\"51\" x=\"672\" y=\"165.1074\">noname</text><line style=\"stroke: #383838; stroke-width: 1.5;\" x1=\"652\" x2=\"743\" y1=\"172.9375\" y2=\"172.9375\"/></a><!--MD5=[fd4143e9d270a159db93a4ea2a975926]\n",
       "class E9--><a href=\"psysml:291c6c45-8332-45a6-809f-574961a49898\" target=\"_top\" title=\"psysml:291c6c45-8332-45a6-809f-574961a49898\" xlink:actuate=\"onRequest\" xlink:href=\"psysml:291c6c45-8332-45a6-809f-574961a49898\" xlink:show=\"new\" xlink:title=\"psysml:291c6c45-8332-45a6-809f-574961a49898\" xlink:type=\"simple\"><rect fill=\"#FFFFFF\" height=\"88.3516\" id=\"E9\" style=\"stroke: #383838; stroke-width: 1.5;\" width=\"145\" x=\"32\" y=\"122\"/><text fill=\"#000000\" font-family=\"sans-serif\" font-size=\"12\" font-style=\"italic\" lengthAdjust=\"spacingAndGlyphs\" textLength=\"115\" x=\"47\" y=\"138.1387\">«requirement def»</text><text fill=\"#000000\" font-family=\"sans-serif\" font-size=\"12\" lengthAdjust=\"spacingAndGlyphs\" textLength=\"16\" x=\"96.5\" y=\"152.1074\">R1</text><line style=\"stroke: #383838; stroke-width: 1.5;\" x1=\"33\" x2=\"176\" y1=\"159.9375\" y2=\"159.9375\"/><text fill=\"#000000\" font-family=\"sans-serif\" font-size=\"11\" font-weight=\"bold\" lengthAdjust=\"spacingAndGlyphs\" textLength=\"46\" x=\"38\" y=\"190.9526\">require</text><text fill=\"#000000\" font-family=\"sans-serif\" font-size=\"11\" lengthAdjust=\"spacingAndGlyphs\" textLength=\"13\" x=\"88\" y=\"190.9526\">c1</text><text fill=\"#000000\" font-family=\"sans-serif\" font-size=\"11\" font-style=\"italic\" lengthAdjust=\"spacingAndGlyphs\" textLength=\"133\" x=\"38\" y=\"203.7573\">:&gt;&gt;RequirementTest::c</text><line style=\"stroke: #383838; stroke-width: 1.0;\" x1=\"33\" x2=\"72.5\" y1=\"174.3398\" y2=\"174.3398\"/><text fill=\"#000000\" font-family=\"sans-serif\" font-size=\"11\" lengthAdjust=\"spacingAndGlyphs\" textLength=\"64\" x=\"72.5\" y=\"177.6479\">constraints</text><line style=\"stroke: #383838; stroke-width: 1.0;\" x1=\"136.5\" x2=\"176\" y1=\"174.3398\" y2=\"174.3398\"/></a><!--MD5=[1dd1bfd58a279cf63c5f349dbc8fc6a1]\n",
       "class E11--><a href=\"psysml:b7118396-8822-4234-af4f-531e34fd2b85\" target=\"_top\" title=\"psysml:b7118396-8822-4234-af4f-531e34fd2b85\" xlink:actuate=\"onRequest\" xlink:href=\"psysml:b7118396-8822-4234-af4f-531e34fd2b85\" xlink:show=\"new\" xlink:title=\"psysml:b7118396-8822-4234-af4f-531e34fd2b85\" xlink:type=\"simple\"><rect fill=\"#FFFFFF\" height=\"45.9375\" id=\"E11\" rx=\"10\" ry=\"10\" style=\"stroke: #383838; stroke-width: 1.5;\" width=\"42\" x=\"498.5\" y=\"100\"/><text fill=\"#000000\" font-family=\"sans-serif\" font-size=\"12\" font-style=\"italic\" lengthAdjust=\"spacingAndGlyphs\" textLength=\"40\" x=\"499.5\" y=\"116.1387\">«part»</text><text fill=\"#000000\" font-family=\"sans-serif\" font-size=\"12\" lengthAdjust=\"spacingAndGlyphs\" textLength=\"8\" x=\"515.5\" y=\"130.1074\">p</text><line style=\"stroke: #383838; stroke-width: 1.5;\" x1=\"499.5\" x2=\"539.5\" y1=\"137.9375\" y2=\"137.9375\"/></a><!--MD5=[49a0ec8f00dab7302a31f22d0f0fe584]\n",
       "class E12--><a href=\"psysml:5710aa92-7822-41e6-89ae-9d2d61cb8bf3\" target=\"_top\" title=\"psysml:5710aa92-7822-41e6-89ae-9d2d61cb8bf3\" xlink:actuate=\"onRequest\" xlink:href=\"psysml:5710aa92-7822-41e6-89ae-9d2d61cb8bf3\" xlink:show=\"new\" xlink:title=\"psysml:5710aa92-7822-41e6-89ae-9d2d61cb8bf3\" xlink:type=\"simple\"><rect fill=\"#FFFFFF\" height=\"45.9375\" id=\"E12\" rx=\"10\" ry=\"10\" style=\"stroke: #383838; stroke-width: 1.5;\" width=\"42\" x=\"83.5\" y=\"245\"/><text fill=\"#000000\" font-family=\"sans-serif\" font-size=\"12\" font-style=\"italic\" lengthAdjust=\"spacingAndGlyphs\" textLength=\"40\" x=\"84.5\" y=\"261.1387\">«part»</text><text fill=\"#000000\" font-family=\"sans-serif\" font-size=\"12\" lengthAdjust=\"spacingAndGlyphs\" textLength=\"8\" x=\"100.5\" y=\"275.1074\">q</text><line style=\"stroke: #383838; stroke-width: 1.5;\" x1=\"84.5\" x2=\"124.5\" y1=\"282.9375\" y2=\"282.9375\"/></a><!--MD5=[ee3c913d1a06f366521f9ef512b67efe]\n",
       "class E13--><a href=\"psysml:b72900fb-e3ca-4439-ac22-acb3bf892de5\" target=\"_top\" title=\"psysml:b72900fb-e3ca-4439-ac22-acb3bf892de5\" xlink:actuate=\"onRequest\" xlink:href=\"psysml:b72900fb-e3ca-4439-ac22-acb3bf892de5\" xlink:show=\"new\" xlink:title=\"psysml:b72900fb-e3ca-4439-ac22-acb3bf892de5\" xlink:type=\"simple\"><rect fill=\"#FFFFFF\" height=\"45.9375\" id=\"E13\" rx=\"10\" ry=\"10\" style=\"stroke: #383838; stroke-width: 1.5;\" width=\"93\" x=\"243.5\" y=\"213\"/><text fill=\"#000000\" font-family=\"sans-serif\" font-size=\"12\" font-style=\"italic\" lengthAdjust=\"spacingAndGlyphs\" textLength=\"91\" x=\"244.5\" y=\"229.1387\">«requirement»</text><text fill=\"#000000\" font-family=\"sans-serif\" font-size=\"12\" lengthAdjust=\"spacingAndGlyphs\" textLength=\"21\" x=\"279.5\" y=\"243.1074\">r: R</text><line style=\"stroke: #383838; stroke-width: 1.5;\" x1=\"244.5\" x2=\"335.5\" y1=\"250.9375\" y2=\"250.9375\"/></a><!--MD5=[05d275557350bfb9b23a4ef7222b4c39]\n",
       "link E3 to E2--><a href=\"psysml:8b4534c8-c65f-4721-aa95-1aefa1ee4858\" target=\"_top\" title=\"psysml:8b4534c8-c65f-4721-aa95-1aefa1ee4858\" xlink:actuate=\"onRequest\" xlink:href=\"psysml:8b4534c8-c65f-4721-aa95-1aefa1ee4858\" xlink:show=\"new\" xlink:title=\"psysml:8b4534c8-c65f-4721-aa95-1aefa1ee4858\" xlink:type=\"simple\"><path d=\"M144.87,64 C166.09,64 192.94,64 217.7,64 \" fill=\"none\" id=\"E3-&gt;E2\" style=\"stroke: #383838; stroke-width: 1.0;\"/><polygon fill=\"#FFFFFF\" points=\"237.84,64,218.84,71,218.84,57,237.84,64\" style=\"stroke: #383838; stroke-width: 1.0;\"/><ellipse cx=\"213.14\" cy=\"69\" fill=\"#383838\" rx=\"2\" ry=\"2\" style=\"stroke: #383838; stroke-width: 1.0;\"/><ellipse cx=\"213.14\" cy=\"59\" fill=\"#383838\" rx=\"2\" ry=\"2\" style=\"stroke: #383838; stroke-width: 1.0;\"/></a><!--MD5=[62aa6af11e70f752912c1cb0466f24f7]\n",
       "reverse link E4 to E5--><a href=\"psysml:5c4fbfc6-6feb-457a-9610-da755776e124\" target=\"_top\" title=\"psysml:5c4fbfc6-6feb-457a-9610-da755776e124\" xlink:actuate=\"onRequest\" xlink:href=\"psysml:5c4fbfc6-6feb-457a-9610-da755776e124\" xlink:show=\"new\" xlink:title=\"psysml:5c4fbfc6-6feb-457a-9610-da755776e124\" xlink:type=\"simple\"><path d=\"M593.54,241.81 C608.62,243.01 624.3,244.26 638.74,245.41 \" fill=\"none\" id=\"E4&lt;-E5\" style=\"stroke: #383838; stroke-width: 1.0;\"/><ellipse cx=\"586.105\" cy=\"241.2122\" fill=\"#FFFFFF\" rx=\"8\" ry=\"8\" style=\"stroke: #383838; stroke-width: 1.0;\"/><line style=\"stroke: #383838; stroke-width: 1.0;\" x1=\"594.08\" x2=\"578.13\" y1=\"241.8444\" y2=\"240.58\"/><line style=\"stroke: #383838; stroke-width: 1.0;\" x1=\"585.4728\" x2=\"586.7372\" y1=\"249.1872\" y2=\"233.2372\"/></a><!--MD5=[c6fc7cdb0cabde04948078cf183fa696]\n",
       "reverse link E4 to E8--><a href=\"psysml:577c6bec-7675-4e65-a136-10b226b9020a\" target=\"_top\" title=\"psysml:577c6bec-7675-4e65-a136-10b226b9020a\" xlink:actuate=\"onRequest\" xlink:href=\"psysml:577c6bec-7675-4e65-a136-10b226b9020a\" xlink:show=\"new\" xlink:title=\"psysml:577c6bec-7675-4e65-a136-10b226b9020a\" xlink:type=\"simple\"><path d=\"M590.24,205.09 C610.58,196.08 632.28,186.46 650.74,178.28 \" fill=\"none\" id=\"E4&lt;-E8\" style=\"stroke: #383838; stroke-width: 1.0;\"/><polygon fill=\"#383838\" points=\"578.13,210.46,585.2365,211.684,589.0995,205.5949,581.9931,204.3709,578.13,210.46\" style=\"stroke: #383838; stroke-width: 1.0;\"/></a><!--MD5=[062ed86c389d1a88f61c6380d0491e17]\n",
       "reverse link E12 to E13--><a href=\"psysml:b72900fb-e3ca-4439-ac22-acb3bf892de5\" target=\"_top\" title=\"psysml:b72900fb-e3ca-4439-ac22-acb3bf892de5\" xlink:actuate=\"onRequest\" xlink:href=\"psysml:b72900fb-e3ca-4439-ac22-acb3bf892de5\" xlink:show=\"new\" xlink:title=\"psysml:b72900fb-e3ca-4439-ac22-acb3bf892de5\" xlink:type=\"simple\"><path d=\"M139.02,262.15 C168.28,257.05 211.02,249.6 243.39,243.95 \" fill=\"none\" id=\"E12&lt;-E13\" style=\"stroke: #383838; stroke-width: 1.0;\"/><polygon fill=\"#383838\" points=\"125.84,264.45,132.4403,267.3544,137.6599,262.3789,131.0596,259.4745,125.84,264.45\" style=\"stroke: #383838; stroke-width: 1.0;\"/></a><!--MD5=[017847e01ff9a8bd19f247411074f987]\n",
       "link E13 to E4--><a href=\"psysml:ed6e641a-605b-4ed9-9064-d41509e7ab16\" target=\"_top\" title=\"psysml:ed6e641a-605b-4ed9-9064-d41509e7ab16\" xlink:actuate=\"onRequest\" xlink:href=\"psysml:ed6e641a-605b-4ed9-9064-d41509e7ab16\" xlink:show=\"new\" xlink:title=\"psysml:ed6e641a-605b-4ed9-9064-d41509e7ab16\" xlink:type=\"simple\"><path d=\"M336.76,236 C366.45,236 405.9,236 440.46,236 \" fill=\"none\" id=\"E13-&gt;E4\" style=\"stroke: #383838; stroke-width: 1.0;\"/><polygon fill=\"#FFFFFF\" points=\"460.67,236,441.67,243,441.67,229,460.67,236\" style=\"stroke: #383838; stroke-width: 1.0;\"/><ellipse cx=\"435.97\" cy=\"241\" fill=\"#383838\" rx=\"2\" ry=\"2\" style=\"stroke: #383838; stroke-width: 1.0;\"/><ellipse cx=\"435.97\" cy=\"231\" fill=\"#383838\" rx=\"2\" ry=\"2\" style=\"stroke: #383838; stroke-width: 1.0;\"/></a><!--MD5=[2cfe899c895462254056921bfb67315f]\n",
       "link E13 to E11--><a href=\"psysml:11f1a2a5-a4e7-4875-8b16-7052fd317758\" target=\"_top\" title=\"psysml:11f1a2a5-a4e7-4875-8b16-7052fd317758\" xlink:actuate=\"onRequest\" xlink:href=\"psysml:11f1a2a5-a4e7-4875-8b16-7052fd317758\" xlink:show=\"new\" xlink:title=\"psysml:11f1a2a5-a4e7-4875-8b16-7052fd317758\" xlink:type=\"simple\"><path d=\"M336.76,213.27 C383.95,189.83 455.79,154.15 493.46,135.44 \" fill=\"none\" id=\"E13-&gt;E11\" style=\"stroke: #383838; stroke-width: 1.0; stroke-dasharray: 7.0,7.0;\"/><polygon fill=\"#383838\" points=\"498.32,133.02,488.4797,133.4294,493.8393,135.2389,492.0299,140.5985,498.32,133.02\" style=\"stroke: #383838; stroke-width: 1.0;\"/><text fill=\"#000000\" font-family=\"sans-serif\" font-size=\"13\" lengthAdjust=\"spacingAndGlyphs\" textLength=\"57\" x=\"373\" y=\"166.0669\">«satisfy»</text></a><!--MD5=[62edd405a6abd24ba8f4141bbff2783c]\n",
       "@startuml\r\n",
       "left to right direction\r\n",
       "skinparam monochrome true\r\n",
       "skinparam classbackgroundcolor white\r\n",
       "skinparam shadowing false\r\n",
       "skinparam wrapWidth 300\r\n",
       "hide circle\r\n",
       "\r\n",
       "package \"RequirementTest\" as E1  [[psysml:8aa028f5-1693-4b51-bff2-c94d0f18c930 ]]  {\r\n",
       "comp def \"C\" as E2  <<(T,blue)constraint def>> [[psysml:27c2a771-07cf-4bde-9591-6030a1a15742 ]] {\r\n",
       "}\r\n",
       "comp usage \"c: C\" as E3  <<(T,blue)constraint>> [[psysml:da02b217-f155-4220-a2dc-d840d0d24f86 ]] {\r\n",
       "}\r\n",
       "comp def \"R\" as E4  <<(T,blue)requirement def>> [[psysml:b9a9d178-6ba0-415d-80bd-8d7e5aacf32f ]] {\r\n",
       "\r\n",
       "- -\r\n",
       "- - constraints - -\r\n",
       "<b>require</b> c\r\n",
       "<i>assume</i> c1: C\r\n",
       "}\r\n",
       "comp def \" [<b>1</b>] A\" as E5  <<(T,blue)requirement def>> [[psysml:5c4fbfc6-6feb-457a-9610-da755776e124 ]] {\r\n",
       "Text\r\n",
       "- -\r\n",
       "}\r\n",
       "comp usage \"<s>noname</s>\" as E8  <<(T,blue)requirement>> [[psysml:577c6bec-7675-4e65-a136-10b226b9020a ]] {\r\n",
       "}\r\n",
       "comp def \"R1\" as E9  <<(T,blue)requirement def>> [[psysml:291c6c45-8332-45a6-809f-574961a49898 ]] {\r\n",
       "- - constraints - -\r\n",
       "<b>require</b> c1\\n//:>>RequirementTest::c// \r\n",
       "}\r\n",
       "comp usage \"p\" as E11  <<(T,blue)part>> [[psysml:b7118396-8822-4234-af4f-531e34fd2b85 ]] {\r\n",
       "}\r\n",
       "comp usage \"q\" as E12  <<(T,blue)part>> [[psysml:5710aa92-7822-41e6-89ae-9d2d61cb8bf3 ]] {\r\n",
       "}\r\n",
       "comp usage \"r: R\" as E13  <<(T,blue)requirement>> [[psysml:b72900fb-e3ca-4439-ac22-acb3bf892de5 ]] {\r\n",
       "}\r\n",
       "E3 - -:|> E2 [[psysml:8b4534c8-c65f-4721-aa95-1aefa1ee4858 ]] \r\n",
       "E4 +- - E5 [[psysml:5c4fbfc6-6feb-457a-9610-da755776e124 ]] \r\n",
       "E4 *- - E8 [[psysml:577c6bec-7675-4e65-a136-10b226b9020a ]] \r\n",
       "E12 *- - E13 [[psysml:b72900fb-e3ca-4439-ac22-acb3bf892de5 ]] \r\n",
       "E13 - -:|> E4 [[psysml:ed6e641a-605b-4ed9-9064-d41509e7ab16 ]] \r\n",
       "E13 ..> E11 [[psysml:11f1a2a5-a4e7-4875-8b16-7052fd317758 ]] : <<satisfy>>\r\n",
       "}\r\n",
       "@enduml\r\n",
       "\n",
       "PlantUML version 1.2020.13(Sat Jun 13 12:26:38 UTC 2020)\n",
       "(EPL source distribution)\n",
       "Java Runtime: OpenJDK Runtime Environment\n",
       "JVM: OpenJDK 64-Bit Server VM\n",
       "Default Encoding: UTF-8\n",
       "Language: en\n",
       "Country: null\n",
       "--></g></svg>"
      ]
     },
     "execution_count": 21,
     "metadata": {},
     "output_type": "execute_result"
    }
   ],
   "source": [
    "%viz --style=\"LR\" --view=\"Sequence\" \"RequirementTest\""
   ]
  },
  {
   "cell_type": "code",
   "execution_count": 22,
   "id": "collective-trigger",
   "metadata": {
    "execution": {
     "iopub.execute_input": "2021-03-26T09:12:28.216125Z",
     "iopub.status.busy": "2021-03-26T09:12:28.215784Z",
     "iopub.status.idle": "2021-03-26T09:12:28.308194Z",
     "shell.execute_reply": "2021-03-26T09:12:28.307858Z"
    }
   },
   "outputs": [
    {
     "data": {
      "image/svg+xml": [
       "<?xml version=\"1.0\" encoding=\"UTF-8\" standalone=\"no\"?><svg xmlns=\"http://www.w3.org/2000/svg\" xmlns:xlink=\"http://www.w3.org/1999/xlink\" contentScriptType=\"application/ecmascript\" contentStyleType=\"text/css\" height=\"319px\" preserveAspectRatio=\"none\" style=\"width:794px;height:319px;\" version=\"1.1\" viewBox=\"0 0 794 319\" width=\"794px\" zoomAndPan=\"magnify\"><defs/><g><!--MD5=[fbc87193dbaf4d95561dea2c320d4a47]\n",
       "cluster E1--><a href=\"psysml:8aa028f5-1693-4b51-bff2-c94d0f18c930\" target=\"_top\" title=\"psysml:8aa028f5-1693-4b51-bff2-c94d0f18c930\" xlink:actuate=\"onRequest\" xlink:href=\"psysml:8aa028f5-1693-4b51-bff2-c94d0f18c930\" xlink:show=\"new\" xlink:title=\"psysml:8aa028f5-1693-4b51-bff2-c94d0f18c930\" xlink:type=\"simple\"><polygon fill=\"#FFFFFF\" points=\"16,6,158,6,165,28.2969,772,28.2969,772,307,16,307,16,6\" style=\"stroke: #000000; stroke-width: 1.5;\"/><line style=\"stroke: #000000; stroke-width: 1.5;\" x1=\"16\" x2=\"165\" y1=\"28.2969\" y2=\"28.2969\"/><text fill=\"#000000\" font-family=\"sans-serif\" font-size=\"14\" font-weight=\"bold\" lengthAdjust=\"spacingAndGlyphs\" textLength=\"136\" x=\"20\" y=\"20.9951\">RequirementTest</text></a><!--MD5=[b4997ac47864f28c2f74865a473b2911]\n",
       "class E2--><a href=\"psysml:27c2a771-07cf-4bde-9591-6030a1a15742\" target=\"_top\" title=\"psysml:27c2a771-07cf-4bde-9591-6030a1a15742\" xlink:actuate=\"onRequest\" xlink:href=\"psysml:27c2a771-07cf-4bde-9591-6030a1a15742\" xlink:show=\"new\" xlink:title=\"psysml:27c2a771-07cf-4bde-9591-6030a1a15742\" xlink:type=\"simple\"><rect fill=\"#FFFFFF\" height=\"45.9375\" id=\"E2\" style=\"stroke: #383838; stroke-width: 1.5;\" width=\"104\" x=\"238\" y=\"41\"/><text fill=\"#000000\" font-family=\"sans-serif\" font-size=\"12\" font-style=\"italic\" lengthAdjust=\"spacingAndGlyphs\" textLength=\"102\" x=\"239\" y=\"57.1387\">«constraint def»</text><text fill=\"#000000\" font-family=\"sans-serif\" font-size=\"12\" lengthAdjust=\"spacingAndGlyphs\" textLength=\"8\" x=\"286\" y=\"71.1074\">C</text><line style=\"stroke: #383838; stroke-width: 1.5;\" x1=\"239\" x2=\"341\" y1=\"78.9375\" y2=\"78.9375\"/></a><!--MD5=[09b614a08d8cba4a07c9adeb5e0fee81]\n",
       "class E3--><a href=\"psysml:da02b217-f155-4220-a2dc-d840d0d24f86\" target=\"_top\" title=\"psysml:da02b217-f155-4220-a2dc-d840d0d24f86\" xlink:actuate=\"onRequest\" xlink:href=\"psysml:da02b217-f155-4220-a2dc-d840d0d24f86\" xlink:show=\"new\" xlink:title=\"psysml:da02b217-f155-4220-a2dc-d840d0d24f86\" xlink:type=\"simple\"><rect fill=\"#FFFFFF\" height=\"45.9375\" id=\"E3\" rx=\"10\" ry=\"10\" style=\"stroke: #383838; stroke-width: 1.5;\" width=\"80\" x=\"64.5\" y=\"41\"/><text fill=\"#000000\" font-family=\"sans-serif\" font-size=\"12\" font-style=\"italic\" lengthAdjust=\"spacingAndGlyphs\" textLength=\"78\" x=\"65.5\" y=\"57.1387\">«constraint»</text><text fill=\"#000000\" font-family=\"sans-serif\" font-size=\"12\" lengthAdjust=\"spacingAndGlyphs\" textLength=\"23\" x=\"93\" y=\"71.1074\">c: C</text><line style=\"stroke: #383838; stroke-width: 1.5;\" x1=\"65.5\" x2=\"143.5\" y1=\"78.9375\" y2=\"78.9375\"/></a><!--MD5=[ebbe1d658d1005bcc118a6aa81145e00]\n",
       "class E4--><a href=\"psysml:b9a9d178-6ba0-415d-80bd-8d7e5aacf32f\" target=\"_top\" title=\"psysml:b9a9d178-6ba0-415d-80bd-8d7e5aacf32f\" xlink:actuate=\"onRequest\" xlink:href=\"psysml:b9a9d178-6ba0-415d-80bd-8d7e5aacf32f\" xlink:show=\"new\" xlink:title=\"psysml:b9a9d178-6ba0-415d-80bd-8d7e5aacf32f\" xlink:type=\"simple\"><rect fill=\"#FFFFFF\" height=\"109.1563\" id=\"E4\" style=\"stroke: #383838; stroke-width: 1.5;\" width=\"117\" x=\"461\" y=\"181.5\"/><text fill=\"#000000\" font-family=\"sans-serif\" font-size=\"12\" font-style=\"italic\" lengthAdjust=\"spacingAndGlyphs\" textLength=\"115\" x=\"462\" y=\"197.6387\">«requirement def»</text><text fill=\"#000000\" font-family=\"sans-serif\" font-size=\"12\" lengthAdjust=\"spacingAndGlyphs\" textLength=\"8\" x=\"515.5\" y=\"211.6074\">R</text><line style=\"stroke: #383838; stroke-width: 1.5;\" x1=\"462\" x2=\"577\" y1=\"219.4375\" y2=\"219.4375\"/><text fill=\"#000000\" font-family=\"sans-serif\" font-size=\"11\" lengthAdjust=\"spacingAndGlyphs\" textLength=\"0\" x=\"471\" y=\"233.6479\"/><line style=\"stroke: #383838; stroke-width: 1.0;\" x1=\"462\" x2=\"577\" y1=\"240.2422\" y2=\"240.2422\"/><text fill=\"#000000\" font-family=\"sans-serif\" font-size=\"11\" font-weight=\"bold\" lengthAdjust=\"spacingAndGlyphs\" textLength=\"46\" x=\"467\" y=\"271.2573\">require</text><text fill=\"#000000\" font-family=\"sans-serif\" font-size=\"11\" lengthAdjust=\"spacingAndGlyphs\" textLength=\"6\" x=\"517\" y=\"271.2573\">c</text><text fill=\"#000000\" font-family=\"sans-serif\" font-size=\"11\" font-style=\"italic\" lengthAdjust=\"spacingAndGlyphs\" textLength=\"46\" x=\"467\" y=\"284.062\">assume</text><text fill=\"#000000\" font-family=\"sans-serif\" font-size=\"11\" lengthAdjust=\"spacingAndGlyphs\" textLength=\"29\" x=\"517\" y=\"284.062\">c1: C</text><line style=\"stroke: #383838; stroke-width: 1.0;\" x1=\"462\" x2=\"487.5\" y1=\"254.6445\" y2=\"254.6445\"/><text fill=\"#000000\" font-family=\"sans-serif\" font-size=\"11\" lengthAdjust=\"spacingAndGlyphs\" textLength=\"64\" x=\"487.5\" y=\"257.9526\">constraints</text><line style=\"stroke: #383838; stroke-width: 1.0;\" x1=\"551.5\" x2=\"577\" y1=\"254.6445\" y2=\"254.6445\"/></a><!--MD5=[270fce915f116d4de14055a7c1d9a0f3]\n",
       "class E5--><a href=\"psysml:5c4fbfc6-6feb-457a-9610-da755776e124\" target=\"_top\" title=\"psysml:5c4fbfc6-6feb-457a-9610-da755776e124\" xlink:actuate=\"onRequest\" xlink:href=\"psysml:5c4fbfc6-6feb-457a-9610-da755776e124\" xlink:show=\"new\" xlink:title=\"psysml:5c4fbfc6-6feb-457a-9610-da755776e124\" xlink:type=\"simple\"><rect fill=\"#FFFFFF\" height=\"66.7422\" id=\"E5\" style=\"stroke: #383838; stroke-width: 1.5;\" width=\"117\" x=\"639\" y=\"216.5\"/><text fill=\"#000000\" font-family=\"sans-serif\" font-size=\"12\" font-style=\"italic\" lengthAdjust=\"spacingAndGlyphs\" textLength=\"115\" x=\"640\" y=\"232.6387\">«requirement def»</text><text fill=\"#000000\" font-family=\"sans-serif\" font-size=\"12\" lengthAdjust=\"spacingAndGlyphs\" textLength=\"5\" x=\"684.5\" y=\"246.6074\">[</text><text fill=\"#000000\" font-family=\"sans-serif\" font-size=\"12\" font-weight=\"bold\" lengthAdjust=\"spacingAndGlyphs\" textLength=\"8\" x=\"689.5\" y=\"246.6074\">1</text><text fill=\"#000000\" font-family=\"sans-serif\" font-size=\"12\" lengthAdjust=\"spacingAndGlyphs\" textLength=\"17\" x=\"697.5\" y=\"246.6074\">] A</text><line style=\"stroke: #383838; stroke-width: 1.5;\" x1=\"640\" x2=\"755\" y1=\"254.4375\" y2=\"254.4375\"/><text fill=\"#000000\" font-family=\"sans-serif\" font-size=\"11\" lengthAdjust=\"spacingAndGlyphs\" textLength=\"24\" x=\"645\" y=\"268.6479\">Text</text><line style=\"stroke: #383838; stroke-width: 1.0;\" x1=\"640\" x2=\"755\" y1=\"275.2422\" y2=\"275.2422\"/></a><!--MD5=[b9389687b975829384b498ac4b7476b2]\n",
       "class E8--><a href=\"psysml:577c6bec-7675-4e65-a136-10b226b9020a\" target=\"_top\" title=\"psysml:577c6bec-7675-4e65-a136-10b226b9020a\" xlink:actuate=\"onRequest\" xlink:href=\"psysml:577c6bec-7675-4e65-a136-10b226b9020a\" xlink:show=\"new\" xlink:title=\"psysml:577c6bec-7675-4e65-a136-10b226b9020a\" xlink:type=\"simple\"><rect fill=\"#FFFFFF\" height=\"45.9375\" id=\"E8\" rx=\"10\" ry=\"10\" style=\"stroke: #383838; stroke-width: 1.5;\" width=\"93\" x=\"651\" y=\"135\"/><text fill=\"#000000\" font-family=\"sans-serif\" font-size=\"12\" font-style=\"italic\" lengthAdjust=\"spacingAndGlyphs\" textLength=\"91\" x=\"652\" y=\"151.1387\">«requirement»</text><text fill=\"#000000\" font-family=\"sans-serif\" font-size=\"12\" lengthAdjust=\"spacingAndGlyphs\" text-decoration=\"line-through\" textLength=\"51\" x=\"672\" y=\"165.1074\">noname</text><line style=\"stroke: #383838; stroke-width: 1.5;\" x1=\"652\" x2=\"743\" y1=\"172.9375\" y2=\"172.9375\"/></a><!--MD5=[fd4143e9d270a159db93a4ea2a975926]\n",
       "class E9--><a href=\"psysml:291c6c45-8332-45a6-809f-574961a49898\" target=\"_top\" title=\"psysml:291c6c45-8332-45a6-809f-574961a49898\" xlink:actuate=\"onRequest\" xlink:href=\"psysml:291c6c45-8332-45a6-809f-574961a49898\" xlink:show=\"new\" xlink:title=\"psysml:291c6c45-8332-45a6-809f-574961a49898\" xlink:type=\"simple\"><rect fill=\"#FFFFFF\" height=\"88.3516\" id=\"E9\" style=\"stroke: #383838; stroke-width: 1.5;\" width=\"145\" x=\"32\" y=\"122\"/><text fill=\"#000000\" font-family=\"sans-serif\" font-size=\"12\" font-style=\"italic\" lengthAdjust=\"spacingAndGlyphs\" textLength=\"115\" x=\"47\" y=\"138.1387\">«requirement def»</text><text fill=\"#000000\" font-family=\"sans-serif\" font-size=\"12\" lengthAdjust=\"spacingAndGlyphs\" textLength=\"16\" x=\"96.5\" y=\"152.1074\">R1</text><line style=\"stroke: #383838; stroke-width: 1.5;\" x1=\"33\" x2=\"176\" y1=\"159.9375\" y2=\"159.9375\"/><text fill=\"#000000\" font-family=\"sans-serif\" font-size=\"11\" font-weight=\"bold\" lengthAdjust=\"spacingAndGlyphs\" textLength=\"46\" x=\"38\" y=\"190.9526\">require</text><text fill=\"#000000\" font-family=\"sans-serif\" font-size=\"11\" lengthAdjust=\"spacingAndGlyphs\" textLength=\"13\" x=\"88\" y=\"190.9526\">c1</text><text fill=\"#000000\" font-family=\"sans-serif\" font-size=\"11\" font-style=\"italic\" lengthAdjust=\"spacingAndGlyphs\" textLength=\"133\" x=\"38\" y=\"203.7573\">:&gt;&gt;RequirementTest::c</text><line style=\"stroke: #383838; stroke-width: 1.0;\" x1=\"33\" x2=\"72.5\" y1=\"174.3398\" y2=\"174.3398\"/><text fill=\"#000000\" font-family=\"sans-serif\" font-size=\"11\" lengthAdjust=\"spacingAndGlyphs\" textLength=\"64\" x=\"72.5\" y=\"177.6479\">constraints</text><line style=\"stroke: #383838; stroke-width: 1.0;\" x1=\"136.5\" x2=\"176\" y1=\"174.3398\" y2=\"174.3398\"/></a><!--MD5=[1dd1bfd58a279cf63c5f349dbc8fc6a1]\n",
       "class E11--><a href=\"psysml:b7118396-8822-4234-af4f-531e34fd2b85\" target=\"_top\" title=\"psysml:b7118396-8822-4234-af4f-531e34fd2b85\" xlink:actuate=\"onRequest\" xlink:href=\"psysml:b7118396-8822-4234-af4f-531e34fd2b85\" xlink:show=\"new\" xlink:title=\"psysml:b7118396-8822-4234-af4f-531e34fd2b85\" xlink:type=\"simple\"><rect fill=\"#FFFFFF\" height=\"45.9375\" id=\"E11\" rx=\"10\" ry=\"10\" style=\"stroke: #383838; stroke-width: 1.5;\" width=\"42\" x=\"498.5\" y=\"100\"/><text fill=\"#000000\" font-family=\"sans-serif\" font-size=\"12\" font-style=\"italic\" lengthAdjust=\"spacingAndGlyphs\" textLength=\"40\" x=\"499.5\" y=\"116.1387\">«part»</text><text fill=\"#000000\" font-family=\"sans-serif\" font-size=\"12\" lengthAdjust=\"spacingAndGlyphs\" textLength=\"8\" x=\"515.5\" y=\"130.1074\">p</text><line style=\"stroke: #383838; stroke-width: 1.5;\" x1=\"499.5\" x2=\"539.5\" y1=\"137.9375\" y2=\"137.9375\"/></a><!--MD5=[49a0ec8f00dab7302a31f22d0f0fe584]\n",
       "class E12--><a href=\"psysml:5710aa92-7822-41e6-89ae-9d2d61cb8bf3\" target=\"_top\" title=\"psysml:5710aa92-7822-41e6-89ae-9d2d61cb8bf3\" xlink:actuate=\"onRequest\" xlink:href=\"psysml:5710aa92-7822-41e6-89ae-9d2d61cb8bf3\" xlink:show=\"new\" xlink:title=\"psysml:5710aa92-7822-41e6-89ae-9d2d61cb8bf3\" xlink:type=\"simple\"><rect fill=\"#FFFFFF\" height=\"45.9375\" id=\"E12\" rx=\"10\" ry=\"10\" style=\"stroke: #383838; stroke-width: 1.5;\" width=\"42\" x=\"83.5\" y=\"245\"/><text fill=\"#000000\" font-family=\"sans-serif\" font-size=\"12\" font-style=\"italic\" lengthAdjust=\"spacingAndGlyphs\" textLength=\"40\" x=\"84.5\" y=\"261.1387\">«part»</text><text fill=\"#000000\" font-family=\"sans-serif\" font-size=\"12\" lengthAdjust=\"spacingAndGlyphs\" textLength=\"8\" x=\"100.5\" y=\"275.1074\">q</text><line style=\"stroke: #383838; stroke-width: 1.5;\" x1=\"84.5\" x2=\"124.5\" y1=\"282.9375\" y2=\"282.9375\"/></a><!--MD5=[ee3c913d1a06f366521f9ef512b67efe]\n",
       "class E13--><a href=\"psysml:b72900fb-e3ca-4439-ac22-acb3bf892de5\" target=\"_top\" title=\"psysml:b72900fb-e3ca-4439-ac22-acb3bf892de5\" xlink:actuate=\"onRequest\" xlink:href=\"psysml:b72900fb-e3ca-4439-ac22-acb3bf892de5\" xlink:show=\"new\" xlink:title=\"psysml:b72900fb-e3ca-4439-ac22-acb3bf892de5\" xlink:type=\"simple\"><rect fill=\"#FFFFFF\" height=\"45.9375\" id=\"E13\" rx=\"10\" ry=\"10\" style=\"stroke: #383838; stroke-width: 1.5;\" width=\"93\" x=\"243.5\" y=\"213\"/><text fill=\"#000000\" font-family=\"sans-serif\" font-size=\"12\" font-style=\"italic\" lengthAdjust=\"spacingAndGlyphs\" textLength=\"91\" x=\"244.5\" y=\"229.1387\">«requirement»</text><text fill=\"#000000\" font-family=\"sans-serif\" font-size=\"12\" lengthAdjust=\"spacingAndGlyphs\" textLength=\"21\" x=\"279.5\" y=\"243.1074\">r: R</text><line style=\"stroke: #383838; stroke-width: 1.5;\" x1=\"244.5\" x2=\"335.5\" y1=\"250.9375\" y2=\"250.9375\"/></a><!--MD5=[05d275557350bfb9b23a4ef7222b4c39]\n",
       "link E3 to E2--><a href=\"psysml:8b4534c8-c65f-4721-aa95-1aefa1ee4858\" target=\"_top\" title=\"psysml:8b4534c8-c65f-4721-aa95-1aefa1ee4858\" xlink:actuate=\"onRequest\" xlink:href=\"psysml:8b4534c8-c65f-4721-aa95-1aefa1ee4858\" xlink:show=\"new\" xlink:title=\"psysml:8b4534c8-c65f-4721-aa95-1aefa1ee4858\" xlink:type=\"simple\"><path d=\"M144.87,64 C166.09,64 192.94,64 217.7,64 \" fill=\"none\" id=\"E3-&gt;E2\" style=\"stroke: #383838; stroke-width: 1.0;\"/><polygon fill=\"#FFFFFF\" points=\"237.84,64,218.84,71,218.84,57,237.84,64\" style=\"stroke: #383838; stroke-width: 1.0;\"/><ellipse cx=\"213.14\" cy=\"69\" fill=\"#383838\" rx=\"2\" ry=\"2\" style=\"stroke: #383838; stroke-width: 1.0;\"/><ellipse cx=\"213.14\" cy=\"59\" fill=\"#383838\" rx=\"2\" ry=\"2\" style=\"stroke: #383838; stroke-width: 1.0;\"/></a><!--MD5=[62aa6af11e70f752912c1cb0466f24f7]\n",
       "reverse link E4 to E5--><a href=\"psysml:5c4fbfc6-6feb-457a-9610-da755776e124\" target=\"_top\" title=\"psysml:5c4fbfc6-6feb-457a-9610-da755776e124\" xlink:actuate=\"onRequest\" xlink:href=\"psysml:5c4fbfc6-6feb-457a-9610-da755776e124\" xlink:show=\"new\" xlink:title=\"psysml:5c4fbfc6-6feb-457a-9610-da755776e124\" xlink:type=\"simple\"><path d=\"M593.54,241.81 C608.62,243.01 624.3,244.26 638.74,245.41 \" fill=\"none\" id=\"E4&lt;-E5\" style=\"stroke: #383838; stroke-width: 1.0;\"/><ellipse cx=\"586.105\" cy=\"241.2122\" fill=\"#FFFFFF\" rx=\"8\" ry=\"8\" style=\"stroke: #383838; stroke-width: 1.0;\"/><line style=\"stroke: #383838; stroke-width: 1.0;\" x1=\"594.08\" x2=\"578.13\" y1=\"241.8444\" y2=\"240.58\"/><line style=\"stroke: #383838; stroke-width: 1.0;\" x1=\"585.4728\" x2=\"586.7372\" y1=\"249.1872\" y2=\"233.2372\"/></a><!--MD5=[c6fc7cdb0cabde04948078cf183fa696]\n",
       "reverse link E4 to E8--><a href=\"psysml:577c6bec-7675-4e65-a136-10b226b9020a\" target=\"_top\" title=\"psysml:577c6bec-7675-4e65-a136-10b226b9020a\" xlink:actuate=\"onRequest\" xlink:href=\"psysml:577c6bec-7675-4e65-a136-10b226b9020a\" xlink:show=\"new\" xlink:title=\"psysml:577c6bec-7675-4e65-a136-10b226b9020a\" xlink:type=\"simple\"><path d=\"M590.24,205.09 C610.58,196.08 632.28,186.46 650.74,178.28 \" fill=\"none\" id=\"E4&lt;-E8\" style=\"stroke: #383838; stroke-width: 1.0;\"/><polygon fill=\"#383838\" points=\"578.13,210.46,585.2365,211.684,589.0995,205.5949,581.9931,204.3709,578.13,210.46\" style=\"stroke: #383838; stroke-width: 1.0;\"/></a><!--MD5=[062ed86c389d1a88f61c6380d0491e17]\n",
       "reverse link E12 to E13--><a href=\"psysml:b72900fb-e3ca-4439-ac22-acb3bf892de5\" target=\"_top\" title=\"psysml:b72900fb-e3ca-4439-ac22-acb3bf892de5\" xlink:actuate=\"onRequest\" xlink:href=\"psysml:b72900fb-e3ca-4439-ac22-acb3bf892de5\" xlink:show=\"new\" xlink:title=\"psysml:b72900fb-e3ca-4439-ac22-acb3bf892de5\" xlink:type=\"simple\"><path d=\"M139.02,262.15 C168.28,257.05 211.02,249.6 243.39,243.95 \" fill=\"none\" id=\"E12&lt;-E13\" style=\"stroke: #383838; stroke-width: 1.0;\"/><polygon fill=\"#383838\" points=\"125.84,264.45,132.4403,267.3544,137.6599,262.3789,131.0596,259.4745,125.84,264.45\" style=\"stroke: #383838; stroke-width: 1.0;\"/></a><!--MD5=[017847e01ff9a8bd19f247411074f987]\n",
       "link E13 to E4--><a href=\"psysml:ed6e641a-605b-4ed9-9064-d41509e7ab16\" target=\"_top\" title=\"psysml:ed6e641a-605b-4ed9-9064-d41509e7ab16\" xlink:actuate=\"onRequest\" xlink:href=\"psysml:ed6e641a-605b-4ed9-9064-d41509e7ab16\" xlink:show=\"new\" xlink:title=\"psysml:ed6e641a-605b-4ed9-9064-d41509e7ab16\" xlink:type=\"simple\"><path d=\"M336.76,236 C366.45,236 405.9,236 440.46,236 \" fill=\"none\" id=\"E13-&gt;E4\" style=\"stroke: #383838; stroke-width: 1.0;\"/><polygon fill=\"#FFFFFF\" points=\"460.67,236,441.67,243,441.67,229,460.67,236\" style=\"stroke: #383838; stroke-width: 1.0;\"/><ellipse cx=\"435.97\" cy=\"241\" fill=\"#383838\" rx=\"2\" ry=\"2\" style=\"stroke: #383838; stroke-width: 1.0;\"/><ellipse cx=\"435.97\" cy=\"231\" fill=\"#383838\" rx=\"2\" ry=\"2\" style=\"stroke: #383838; stroke-width: 1.0;\"/></a><!--MD5=[2cfe899c895462254056921bfb67315f]\n",
       "link E13 to E11--><a href=\"psysml:11f1a2a5-a4e7-4875-8b16-7052fd317758\" target=\"_top\" title=\"psysml:11f1a2a5-a4e7-4875-8b16-7052fd317758\" xlink:actuate=\"onRequest\" xlink:href=\"psysml:11f1a2a5-a4e7-4875-8b16-7052fd317758\" xlink:show=\"new\" xlink:title=\"psysml:11f1a2a5-a4e7-4875-8b16-7052fd317758\" xlink:type=\"simple\"><path d=\"M336.76,213.27 C383.95,189.83 455.79,154.15 493.46,135.44 \" fill=\"none\" id=\"E13-&gt;E11\" style=\"stroke: #383838; stroke-width: 1.0; stroke-dasharray: 7.0,7.0;\"/><polygon fill=\"#383838\" points=\"498.32,133.02,488.4797,133.4294,493.8393,135.2389,492.0299,140.5985,498.32,133.02\" style=\"stroke: #383838; stroke-width: 1.0;\"/><text fill=\"#000000\" font-family=\"sans-serif\" font-size=\"13\" lengthAdjust=\"spacingAndGlyphs\" textLength=\"57\" x=\"373\" y=\"166.0669\">«satisfy»</text></a><!--MD5=[62edd405a6abd24ba8f4141bbff2783c]\n",
       "@startuml\r\n",
       "left to right direction\r\n",
       "skinparam monochrome true\r\n",
       "skinparam classbackgroundcolor white\r\n",
       "skinparam shadowing false\r\n",
       "skinparam wrapWidth 300\r\n",
       "hide circle\r\n",
       "\r\n",
       "package \"RequirementTest\" as E1  [[psysml:8aa028f5-1693-4b51-bff2-c94d0f18c930 ]]  {\r\n",
       "comp def \"C\" as E2  <<(T,blue)constraint def>> [[psysml:27c2a771-07cf-4bde-9591-6030a1a15742 ]] {\r\n",
       "}\r\n",
       "comp usage \"c: C\" as E3  <<(T,blue)constraint>> [[psysml:da02b217-f155-4220-a2dc-d840d0d24f86 ]] {\r\n",
       "}\r\n",
       "comp def \"R\" as E4  <<(T,blue)requirement def>> [[psysml:b9a9d178-6ba0-415d-80bd-8d7e5aacf32f ]] {\r\n",
       "\r\n",
       "- -\r\n",
       "- - constraints - -\r\n",
       "<b>require</b> c\r\n",
       "<i>assume</i> c1: C\r\n",
       "}\r\n",
       "comp def \" [<b>1</b>] A\" as E5  <<(T,blue)requirement def>> [[psysml:5c4fbfc6-6feb-457a-9610-da755776e124 ]] {\r\n",
       "Text\r\n",
       "- -\r\n",
       "}\r\n",
       "comp usage \"<s>noname</s>\" as E8  <<(T,blue)requirement>> [[psysml:577c6bec-7675-4e65-a136-10b226b9020a ]] {\r\n",
       "}\r\n",
       "comp def \"R1\" as E9  <<(T,blue)requirement def>> [[psysml:291c6c45-8332-45a6-809f-574961a49898 ]] {\r\n",
       "- - constraints - -\r\n",
       "<b>require</b> c1\\n//:>>RequirementTest::c// \r\n",
       "}\r\n",
       "comp usage \"p\" as E11  <<(T,blue)part>> [[psysml:b7118396-8822-4234-af4f-531e34fd2b85 ]] {\r\n",
       "}\r\n",
       "comp usage \"q\" as E12  <<(T,blue)part>> [[psysml:5710aa92-7822-41e6-89ae-9d2d61cb8bf3 ]] {\r\n",
       "}\r\n",
       "comp usage \"r: R\" as E13  <<(T,blue)requirement>> [[psysml:b72900fb-e3ca-4439-ac22-acb3bf892de5 ]] {\r\n",
       "}\r\n",
       "E3 - -:|> E2 [[psysml:8b4534c8-c65f-4721-aa95-1aefa1ee4858 ]] \r\n",
       "E4 +- - E5 [[psysml:5c4fbfc6-6feb-457a-9610-da755776e124 ]] \r\n",
       "E4 *- - E8 [[psysml:577c6bec-7675-4e65-a136-10b226b9020a ]] \r\n",
       "E12 *- - E13 [[psysml:b72900fb-e3ca-4439-ac22-acb3bf892de5 ]] \r\n",
       "E13 - -:|> E4 [[psysml:ed6e641a-605b-4ed9-9064-d41509e7ab16 ]] \r\n",
       "E13 ..> E11 [[psysml:11f1a2a5-a4e7-4875-8b16-7052fd317758 ]] : <<satisfy>>\r\n",
       "}\r\n",
       "@enduml\r\n",
       "\n",
       "PlantUML version 1.2020.13(Sat Jun 13 12:26:38 UTC 2020)\n",
       "(EPL source distribution)\n",
       "Java Runtime: OpenJDK Runtime Environment\n",
       "JVM: OpenJDK 64-Bit Server VM\n",
       "Default Encoding: UTF-8\n",
       "Language: en\n",
       "Country: null\n",
       "--></g></svg>"
      ]
     },
     "execution_count": 22,
     "metadata": {},
     "output_type": "execute_result"
    }
   ],
   "source": [
    "%viz --style=\"LR\" --view=\"MIXED\" \"RequirementTest\""
   ]
  },
  {
   "cell_type": "code",
   "execution_count": 23,
   "id": "covered-destination",
   "metadata": {
    "execution": {
     "iopub.execute_input": "2021-03-26T09:12:28.359740Z",
     "iopub.status.busy": "2021-03-26T09:12:28.359040Z",
     "iopub.status.idle": "2021-03-26T09:12:28.457690Z",
     "shell.execute_reply": "2021-03-26T09:12:28.458349Z"
    }
   },
   "outputs": [
    {
     "data": {
      "image/svg+xml": [
       "<?xml version=\"1.0\" encoding=\"UTF-8\" standalone=\"no\"?><svg xmlns=\"http://www.w3.org/2000/svg\" xmlns:xlink=\"http://www.w3.org/1999/xlink\" contentScriptType=\"application/ecmascript\" contentStyleType=\"text/css\" height=\"566px\" preserveAspectRatio=\"none\" style=\"width:470px;height:566px;\" version=\"1.1\" viewBox=\"0 0 470 566\" width=\"470px\" zoomAndPan=\"magnify\"><defs><filter height=\"300%\" id=\"f1mkhhj0soz1l4\" width=\"300%\" x=\"-1\" y=\"-1\"><feGaussianBlur result=\"blurOut\" stdDeviation=\"2.0\"/><feColorMatrix in=\"blurOut\" result=\"blurOut2\" type=\"matrix\" values=\"0 0 0 0 0 0 0 0 0 0 0 0 0 0 0 0 0 0 .4 0\"/><feOffset dx=\"4.0\" dy=\"4.0\" in=\"blurOut2\" result=\"blurOut3\"/><feBlend in=\"SourceGraphic\" in2=\"blurOut3\" mode=\"normal\"/></filter></defs><g><!--MD5=[fbc87193dbaf4d95561dea2c320d4a47]\n",
       "cluster E1--><a href=\"psysml:8aa028f5-1693-4b51-bff2-c94d0f18c930\" target=\"_top\" title=\"psysml:8aa028f5-1693-4b51-bff2-c94d0f18c930\" xlink:actuate=\"onRequest\" xlink:href=\"psysml:8aa028f5-1693-4b51-bff2-c94d0f18c930\" xlink:show=\"new\" xlink:title=\"psysml:8aa028f5-1693-4b51-bff2-c94d0f18c930\" xlink:type=\"simple\"><polygon fill=\"#FFFFFF\" filter=\"url(#f1mkhhj0soz1l4)\" points=\"16,6,158,6,165,28.2969,448,28.2969,448,554,16,554,16,6\" style=\"stroke: #000000; stroke-width: 1.5;\"/><line style=\"stroke: #000000; stroke-width: 1.5;\" x1=\"16\" x2=\"165\" y1=\"28.2969\" y2=\"28.2969\"/><text fill=\"#000000\" font-family=\"sans-serif\" font-size=\"14\" font-weight=\"bold\" lengthAdjust=\"spacingAndGlyphs\" textLength=\"136\" x=\"20\" y=\"20.9951\">RequirementTest</text></a><!--MD5=[b4997ac47864f28c2f74865a473b2911]\n",
       "class E2--><a href=\"psysml:27c2a771-07cf-4bde-9591-6030a1a15742\" target=\"_top\" title=\"psysml:27c2a771-07cf-4bde-9591-6030a1a15742\" xlink:actuate=\"onRequest\" xlink:href=\"psysml:27c2a771-07cf-4bde-9591-6030a1a15742\" xlink:show=\"new\" xlink:title=\"psysml:27c2a771-07cf-4bde-9591-6030a1a15742\" xlink:type=\"simple\"><rect fill=\"#FEFECE\" filter=\"url(#f1mkhhj0soz1l4)\" height=\"45.9375\" id=\"E2\" style=\"stroke: #A80036; stroke-width: 1.5;\" width=\"104\" x=\"328\" y=\"178\"/><text fill=\"#000000\" font-family=\"sans-serif\" font-size=\"12\" font-style=\"italic\" lengthAdjust=\"spacingAndGlyphs\" textLength=\"102\" x=\"329\" y=\"194.1387\">«constraint def»</text><text fill=\"#000000\" font-family=\"sans-serif\" font-size=\"12\" lengthAdjust=\"spacingAndGlyphs\" textLength=\"8\" x=\"376\" y=\"208.1074\">C</text><line style=\"stroke: #A80036; stroke-width: 1.5;\" x1=\"329\" x2=\"431\" y1=\"215.9375\" y2=\"215.9375\"/></a><!--MD5=[09b614a08d8cba4a07c9adeb5e0fee81]\n",
       "class E3--><a href=\"psysml:da02b217-f155-4220-a2dc-d840d0d24f86\" target=\"_top\" title=\"psysml:da02b217-f155-4220-a2dc-d840d0d24f86\" xlink:actuate=\"onRequest\" xlink:href=\"psysml:da02b217-f155-4220-a2dc-d840d0d24f86\" xlink:show=\"new\" xlink:title=\"psysml:da02b217-f155-4220-a2dc-d840d0d24f86\" xlink:type=\"simple\"><rect fill=\"#FEFECE\" filter=\"url(#f1mkhhj0soz1l4)\" height=\"45.9375\" id=\"E3\" rx=\"10\" ry=\"10\" style=\"stroke: #A80036; stroke-width: 1.5;\" width=\"80\" x=\"352\" y=\"56\"/><text fill=\"#000000\" font-family=\"sans-serif\" font-size=\"12\" font-style=\"italic\" lengthAdjust=\"spacingAndGlyphs\" textLength=\"78\" x=\"353\" y=\"72.1387\">«constraint»</text><text fill=\"#000000\" font-family=\"sans-serif\" font-size=\"12\" lengthAdjust=\"spacingAndGlyphs\" textLength=\"23\" x=\"380.5\" y=\"86.1074\">c: C</text><line style=\"stroke: #A80036; stroke-width: 1.5;\" x1=\"353\" x2=\"431\" y1=\"93.9375\" y2=\"93.9375\"/></a><!--MD5=[ebbe1d658d1005bcc118a6aa81145e00]\n",
       "class E4--><a href=\"psysml:b9a9d178-6ba0-415d-80bd-8d7e5aacf32f\" target=\"_top\" title=\"psysml:b9a9d178-6ba0-415d-80bd-8d7e5aacf32f\" xlink:actuate=\"onRequest\" xlink:href=\"psysml:b9a9d178-6ba0-415d-80bd-8d7e5aacf32f\" xlink:show=\"new\" xlink:title=\"psysml:b9a9d178-6ba0-415d-80bd-8d7e5aacf32f\" xlink:type=\"simple\"><rect fill=\"#FEFECE\" filter=\"url(#f1mkhhj0soz1l4)\" height=\"109.1563\" id=\"E4\" style=\"stroke: #A80036; stroke-width: 1.5;\" width=\"117\" x=\"32.5\" y=\"301\"/><text fill=\"#000000\" font-family=\"sans-serif\" font-size=\"12\" font-style=\"italic\" lengthAdjust=\"spacingAndGlyphs\" textLength=\"115\" x=\"33.5\" y=\"317.1387\">«requirement def»</text><text fill=\"#000000\" font-family=\"sans-serif\" font-size=\"12\" lengthAdjust=\"spacingAndGlyphs\" textLength=\"8\" x=\"87\" y=\"331.1074\">R</text><line style=\"stroke: #A80036; stroke-width: 1.5;\" x1=\"33.5\" x2=\"148.5\" y1=\"338.9375\" y2=\"338.9375\"/><text fill=\"#000000\" font-family=\"sans-serif\" font-size=\"11\" lengthAdjust=\"spacingAndGlyphs\" textLength=\"0\" x=\"42.5\" y=\"353.1479\"/><line style=\"stroke: #A80036; stroke-width: 1.0;\" x1=\"33.5\" x2=\"148.5\" y1=\"359.7422\" y2=\"359.7422\"/><text fill=\"#000000\" font-family=\"sans-serif\" font-size=\"11\" font-weight=\"bold\" lengthAdjust=\"spacingAndGlyphs\" textLength=\"46\" x=\"38.5\" y=\"390.7573\">require</text><text fill=\"#000000\" font-family=\"sans-serif\" font-size=\"11\" lengthAdjust=\"spacingAndGlyphs\" textLength=\"6\" x=\"88.5\" y=\"390.7573\">c</text><text fill=\"#000000\" font-family=\"sans-serif\" font-size=\"11\" font-style=\"italic\" lengthAdjust=\"spacingAndGlyphs\" textLength=\"46\" x=\"38.5\" y=\"403.562\">assume</text><text fill=\"#000000\" font-family=\"sans-serif\" font-size=\"11\" lengthAdjust=\"spacingAndGlyphs\" textLength=\"29\" x=\"88.5\" y=\"403.562\">c1: C</text><line style=\"stroke: #A80036; stroke-width: 1.0;\" x1=\"33.5\" x2=\"59\" y1=\"374.1445\" y2=\"374.1445\"/><text fill=\"#000000\" font-family=\"sans-serif\" font-size=\"11\" lengthAdjust=\"spacingAndGlyphs\" textLength=\"64\" x=\"59\" y=\"377.4526\">constraints</text><line style=\"stroke: #A80036; stroke-width: 1.0;\" x1=\"123\" x2=\"148.5\" y1=\"374.1445\" y2=\"374.1445\"/></a><!--MD5=[270fce915f116d4de14055a7c1d9a0f3]\n",
       "class E5--><a href=\"psysml:5c4fbfc6-6feb-457a-9610-da755776e124\" target=\"_top\" title=\"psysml:5c4fbfc6-6feb-457a-9610-da755776e124\" xlink:actuate=\"onRequest\" xlink:href=\"psysml:5c4fbfc6-6feb-457a-9610-da755776e124\" xlink:show=\"new\" xlink:title=\"psysml:5c4fbfc6-6feb-457a-9610-da755776e124\" xlink:type=\"simple\"><rect fill=\"#FEFECE\" filter=\"url(#f1mkhhj0soz1l4)\" height=\"66.7422\" id=\"E5\" style=\"stroke: #A80036; stroke-width: 1.5;\" width=\"117\" x=\"32.5\" y=\"471\"/><text fill=\"#000000\" font-family=\"sans-serif\" font-size=\"12\" font-style=\"italic\" lengthAdjust=\"spacingAndGlyphs\" textLength=\"115\" x=\"33.5\" y=\"487.1387\">«requirement def»</text><text fill=\"#000000\" font-family=\"sans-serif\" font-size=\"12\" lengthAdjust=\"spacingAndGlyphs\" textLength=\"5\" x=\"78\" y=\"501.1074\">[</text><text fill=\"#000000\" font-family=\"sans-serif\" font-size=\"12\" font-weight=\"bold\" lengthAdjust=\"spacingAndGlyphs\" textLength=\"8\" x=\"83\" y=\"501.1074\">1</text><text fill=\"#000000\" font-family=\"sans-serif\" font-size=\"12\" lengthAdjust=\"spacingAndGlyphs\" textLength=\"17\" x=\"91\" y=\"501.1074\">] A</text><line style=\"stroke: #A80036; stroke-width: 1.5;\" x1=\"33.5\" x2=\"148.5\" y1=\"508.9375\" y2=\"508.9375\"/><text fill=\"#000000\" font-family=\"sans-serif\" font-size=\"11\" lengthAdjust=\"spacingAndGlyphs\" textLength=\"24\" x=\"38.5\" y=\"523.1479\">Text</text><line style=\"stroke: #A80036; stroke-width: 1.0;\" x1=\"33.5\" x2=\"148.5\" y1=\"529.7422\" y2=\"529.7422\"/></a><!--MD5=[b9389687b975829384b498ac4b7476b2]\n",
       "class E8--><a href=\"psysml:577c6bec-7675-4e65-a136-10b226b9020a\" target=\"_top\" title=\"psysml:577c6bec-7675-4e65-a136-10b226b9020a\" xlink:actuate=\"onRequest\" xlink:href=\"psysml:577c6bec-7675-4e65-a136-10b226b9020a\" xlink:show=\"new\" xlink:title=\"psysml:577c6bec-7675-4e65-a136-10b226b9020a\" xlink:type=\"simple\"><rect fill=\"#FEFECE\" filter=\"url(#f1mkhhj0soz1l4)\" height=\"45.9375\" id=\"E8\" rx=\"10\" ry=\"10\" style=\"stroke: #A80036; stroke-width: 1.5;\" width=\"93\" x=\"184.5\" y=\"481.5\"/><text fill=\"#000000\" font-family=\"sans-serif\" font-size=\"12\" font-style=\"italic\" lengthAdjust=\"spacingAndGlyphs\" textLength=\"91\" x=\"185.5\" y=\"497.6387\">«requirement»</text><text fill=\"#000000\" font-family=\"sans-serif\" font-size=\"12\" lengthAdjust=\"spacingAndGlyphs\" text-decoration=\"line-through\" textLength=\"51\" x=\"205.5\" y=\"511.6074\">noname</text><line style=\"stroke: #A80036; stroke-width: 1.5;\" x1=\"185.5\" x2=\"276.5\" y1=\"519.4375\" y2=\"519.4375\"/></a><!--MD5=[fd4143e9d270a159db93a4ea2a975926]\n",
       "class E9--><a href=\"psysml:291c6c45-8332-45a6-809f-574961a49898\" target=\"_top\" title=\"psysml:291c6c45-8332-45a6-809f-574961a49898\" xlink:actuate=\"onRequest\" xlink:href=\"psysml:291c6c45-8332-45a6-809f-574961a49898\" xlink:show=\"new\" xlink:title=\"psysml:291c6c45-8332-45a6-809f-574961a49898\" xlink:type=\"simple\"><rect fill=\"#FEFECE\" filter=\"url(#f1mkhhj0soz1l4)\" height=\"76.4922\" id=\"E9\" style=\"stroke: #A80036; stroke-width: 1.5;\" width=\"207\" x=\"109.5\" y=\"41\"/><text fill=\"#000000\" font-family=\"sans-serif\" font-size=\"12\" font-style=\"italic\" lengthAdjust=\"spacingAndGlyphs\" textLength=\"115\" x=\"155.5\" y=\"57.1387\">«requirement def»</text><text fill=\"#000000\" font-family=\"sans-serif\" font-size=\"12\" lengthAdjust=\"spacingAndGlyphs\" textLength=\"16\" x=\"205\" y=\"71.1074\">R1</text><line style=\"stroke: #A80036; stroke-width: 1.5;\" x1=\"110.5\" x2=\"315.5\" y1=\"78.9375\" y2=\"78.9375\"/><text fill=\"#000000\" font-family=\"sans-serif\" font-size=\"11\" font-weight=\"bold\" lengthAdjust=\"spacingAndGlyphs\" textLength=\"46\" x=\"115.5\" y=\"110.8979\">require</text><text fill=\"#000000\" font-family=\"sans-serif\" font-size=\"11\" lengthAdjust=\"spacingAndGlyphs\" textLength=\"0\" x=\"165.5\" y=\"110.8979\"/><path d=\"M167.4167,100.6589 L167.4167,109.8255 L168.3333,109.8255 L168.3333,100.6589 M171.0833,100.6589 L171.0833,109.8255 L178.4167,105.2422 L171.0833,100.6589 L172,102.0339 L177.0417,105.2422 L172,108.4505 L172,102.0339 \" fill=\"#000000\" style=\"stroke: ; stroke-width: 0.0; stroke-dasharray: ;\"/><text fill=\"#000000\" font-family=\"sans-serif\" font-size=\"11\" lengthAdjust=\"spacingAndGlyphs\" textLength=\"13\" x=\"182.5\" y=\"110.8979\">c1</text><text fill=\"#000000\" font-family=\"sans-serif\" font-size=\"11\" lengthAdjust=\"spacingAndGlyphs\" text-decoration=\"line-through\" textLength=\"111\" x=\"199.5\" y=\"110.8979\">RequirementTest::c</text><line style=\"stroke: #A80036; stroke-width: 1.0;\" x1=\"110.5\" x2=\"181\" y1=\"93.3398\" y2=\"93.3398\"/><text fill=\"#000000\" font-family=\"sans-serif\" font-size=\"11\" lengthAdjust=\"spacingAndGlyphs\" textLength=\"64\" x=\"181\" y=\"96.6479\">constraints</text><line style=\"stroke: #A80036; stroke-width: 1.0;\" x1=\"245\" x2=\"315.5\" y1=\"93.3398\" y2=\"93.3398\"/></a><!--MD5=[1dd1bfd58a279cf63c5f349dbc8fc6a1]\n",
       "class E11--><a href=\"psysml:b7118396-8822-4234-af4f-531e34fd2b85\" target=\"_top\" title=\"psysml:b7118396-8822-4234-af4f-531e34fd2b85\" xlink:actuate=\"onRequest\" xlink:href=\"psysml:b7118396-8822-4234-af4f-531e34fd2b85\" xlink:show=\"new\" xlink:title=\"psysml:b7118396-8822-4234-af4f-531e34fd2b85\" xlink:type=\"simple\"><rect fill=\"#FEFECE\" filter=\"url(#f1mkhhj0soz1l4)\" height=\"45.9375\" id=\"E11\" rx=\"10\" ry=\"10\" style=\"stroke: #A80036; stroke-width: 1.5;\" width=\"42\" x=\"185\" y=\"332.5\"/><text fill=\"#000000\" font-family=\"sans-serif\" font-size=\"12\" font-style=\"italic\" lengthAdjust=\"spacingAndGlyphs\" textLength=\"40\" x=\"186\" y=\"348.6387\">«part»</text><text fill=\"#000000\" font-family=\"sans-serif\" font-size=\"12\" lengthAdjust=\"spacingAndGlyphs\" textLength=\"8\" x=\"202\" y=\"362.6074\">p</text><line style=\"stroke: #A80036; stroke-width: 1.5;\" x1=\"186\" x2=\"226\" y1=\"370.4375\" y2=\"370.4375\"/></a><!--MD5=[49a0ec8f00dab7302a31f22d0f0fe584]\n",
       "class E12--><a href=\"psysml:5710aa92-7822-41e6-89ae-9d2d61cb8bf3\" target=\"_top\" title=\"psysml:5710aa92-7822-41e6-89ae-9d2d61cb8bf3\" xlink:actuate=\"onRequest\" xlink:href=\"psysml:5710aa92-7822-41e6-89ae-9d2d61cb8bf3\" xlink:show=\"new\" xlink:title=\"psysml:5710aa92-7822-41e6-89ae-9d2d61cb8bf3\" xlink:type=\"simple\"><rect fill=\"#FEFECE\" filter=\"url(#f1mkhhj0soz1l4)\" height=\"45.9375\" id=\"E12\" rx=\"10\" ry=\"10\" style=\"stroke: #A80036; stroke-width: 1.5;\" width=\"42\" x=\"32\" y=\"56\"/><text fill=\"#000000\" font-family=\"sans-serif\" font-size=\"12\" font-style=\"italic\" lengthAdjust=\"spacingAndGlyphs\" textLength=\"40\" x=\"33\" y=\"72.1387\">«part»</text><text fill=\"#000000\" font-family=\"sans-serif\" font-size=\"12\" lengthAdjust=\"spacingAndGlyphs\" textLength=\"8\" x=\"49\" y=\"86.1074\">q</text><line style=\"stroke: #A80036; stroke-width: 1.5;\" x1=\"33\" x2=\"73\" y1=\"93.9375\" y2=\"93.9375\"/></a><!--MD5=[ee3c913d1a06f366521f9ef512b67efe]\n",
       "class E13--><a href=\"psysml:b72900fb-e3ca-4439-ac22-acb3bf892de5\" target=\"_top\" title=\"psysml:b72900fb-e3ca-4439-ac22-acb3bf892de5\" xlink:actuate=\"onRequest\" xlink:href=\"psysml:b72900fb-e3ca-4439-ac22-acb3bf892de5\" xlink:show=\"new\" xlink:title=\"psysml:b72900fb-e3ca-4439-ac22-acb3bf892de5\" xlink:type=\"simple\"><rect fill=\"#FEFECE\" filter=\"url(#f1mkhhj0soz1l4)\" height=\"45.9375\" id=\"E13\" rx=\"10\" ry=\"10\" style=\"stroke: #A80036; stroke-width: 1.5;\" width=\"93\" x=\"44.5\" y=\"178\"/><text fill=\"#000000\" font-family=\"sans-serif\" font-size=\"12\" font-style=\"italic\" lengthAdjust=\"spacingAndGlyphs\" textLength=\"91\" x=\"45.5\" y=\"194.1387\">«requirement»</text><text fill=\"#000000\" font-family=\"sans-serif\" font-size=\"12\" lengthAdjust=\"spacingAndGlyphs\" textLength=\"21\" x=\"80.5\" y=\"208.1074\">r: R</text><line style=\"stroke: #A80036; stroke-width: 1.5;\" x1=\"45.5\" x2=\"136.5\" y1=\"215.9375\" y2=\"215.9375\"/></a><!--MD5=[05d275557350bfb9b23a4ef7222b4c39]\n",
       "link E3 to E2--><a href=\"psysml:8b4534c8-c65f-4721-aa95-1aefa1ee4858\" target=\"_top\" title=\"psysml:8b4534c8-c65f-4721-aa95-1aefa1ee4858\" xlink:actuate=\"onRequest\" xlink:href=\"psysml:8b4534c8-c65f-4721-aa95-1aefa1ee4858\" xlink:show=\"new\" xlink:title=\"psysml:8b4534c8-c65f-4721-aa95-1aefa1ee4858\" xlink:type=\"simple\"><path d=\"M389.8,102.01 C388.24,117.56 386.11,138.89 384.23,157.68 \" fill=\"none\" id=\"E3-&gt;E2\" style=\"stroke: #A80036; stroke-width: 1.0;\"/><polygon fill=\"#FFFFFF\" points=\"382.23,177.72,377.1511,158.1188,391.0819,159.5089,382.23,177.72\" style=\"stroke: #A80036; stroke-width: 1.0;\"/><ellipse cx=\"379.7072\" cy=\"152.6456\" fill=\"#A80036\" rx=\"2\" ry=\"2\" style=\"stroke: #A80036; stroke-width: 1.0;\"/><ellipse cx=\"389.6578\" cy=\"153.6385\" fill=\"#A80036\" rx=\"2\" ry=\"2\" style=\"stroke: #A80036; stroke-width: 1.0;\"/></a><!--MD5=[62aa6af11e70f752912c1cb0466f24f7]\n",
       "reverse link E4 to E5--><a href=\"psysml:5c4fbfc6-6feb-457a-9610-da755776e124\" target=\"_top\" title=\"psysml:5c4fbfc6-6feb-457a-9610-da755776e124\" xlink:actuate=\"onRequest\" xlink:href=\"psysml:5c4fbfc6-6feb-457a-9610-da755776e124\" xlink:show=\"new\" xlink:title=\"psysml:5c4fbfc6-6feb-457a-9610-da755776e124\" xlink:type=\"simple\"><path d=\"M91,425.45 C91,441.34 91,457.51 91,470.98 \" fill=\"none\" id=\"E4&lt;-E5\" style=\"stroke: #A80036; stroke-width: 1.0;\"/><ellipse cx=\"91\" cy=\"418.4\" fill=\"#FFFFFF\" rx=\"8\" ry=\"8\" style=\"stroke: #A80036; stroke-width: 1.0;\"/><line style=\"stroke: #A80036; stroke-width: 1.0;\" x1=\"91\" x2=\"91\" y1=\"426.4\" y2=\"410.4\"/><line style=\"stroke: #A80036; stroke-width: 1.0;\" x1=\"83\" x2=\"99\" y1=\"418.4\" y2=\"418.4\"/></a><!--MD5=[c6fc7cdb0cabde04948078cf183fa696]\n",
       "reverse link E4 to E8--><a href=\"psysml:577c6bec-7675-4e65-a136-10b226b9020a\" target=\"_top\" title=\"psysml:577c6bec-7675-4e65-a136-10b226b9020a\" xlink:actuate=\"onRequest\" xlink:href=\"psysml:577c6bec-7675-4e65-a136-10b226b9020a\" xlink:show=\"new\" xlink:title=\"psysml:577c6bec-7675-4e65-a136-10b226b9020a\" xlink:type=\"simple\"><path d=\"M151.51,420.04 C172.42,441.99 194.47,465.14 210.03,481.48 \" fill=\"none\" id=\"E4&lt;-E8\" style=\"stroke: #A80036; stroke-width: 1.0;\"/><polygon fill=\"#A80036\" points=\"142.34,410.4,143.5779,417.5041,150.6116,419.0937,149.3737,411.9897,142.34,410.4\" style=\"stroke: #A80036; stroke-width: 1.0;\"/></a><!--MD5=[062ed86c389d1a88f61c6380d0491e17]\n",
       "reverse link E12 to E13--><a href=\"psysml:b72900fb-e3ca-4439-ac22-acb3bf892de5\" target=\"_top\" title=\"psysml:b72900fb-e3ca-4439-ac22-acb3bf892de5\" xlink:actuate=\"onRequest\" xlink:href=\"psysml:b72900fb-e3ca-4439-ac22-acb3bf892de5\" xlink:show=\"new\" xlink:title=\"psysml:b72900fb-e3ca-4439-ac22-acb3bf892de5\" xlink:type=\"simple\"><path d=\"M63.94,114.55 C70.38,134.88 78.33,160 83.95,177.72 \" fill=\"none\" id=\"E12&lt;-E13\" style=\"stroke: #A80036; stroke-width: 1.0;\"/><polygon fill=\"#A80036\" points=\"59.97,102.01,57.9712,108.9386,63.5981,113.4484,65.5968,106.5198,59.97,102.01\" style=\"stroke: #A80036; stroke-width: 1.0;\"/></a><!--MD5=[017847e01ff9a8bd19f247411074f987]\n",
       "link E13 to E4--><a href=\"psysml:ed6e641a-605b-4ed9-9064-d41509e7ab16\" target=\"_top\" title=\"psysml:ed6e641a-605b-4ed9-9064-d41509e7ab16\" xlink:actuate=\"onRequest\" xlink:href=\"psysml:ed6e641a-605b-4ed9-9064-d41509e7ab16\" xlink:show=\"new\" xlink:title=\"psysml:ed6e641a-605b-4ed9-9064-d41509e7ab16\" xlink:type=\"simple\"><path d=\"M91,224.17 C91,239.17 91,259.91 91,280.44 \" fill=\"none\" id=\"E13-&gt;E4\" style=\"stroke: #A80036; stroke-width: 1.0;\"/><polygon fill=\"#FFFFFF\" points=\"91,300.68,84,281.68,98,281.68,91,300.68\" style=\"stroke: #A80036; stroke-width: 1.0;\"/><ellipse cx=\"86\" cy=\"275.98\" fill=\"#A80036\" rx=\"2\" ry=\"2\" style=\"stroke: #A80036; stroke-width: 1.0;\"/><ellipse cx=\"96\" cy=\"275.98\" fill=\"#A80036\" rx=\"2\" ry=\"2\" style=\"stroke: #A80036; stroke-width: 1.0;\"/></a><!--MD5=[2cfe899c895462254056921bfb67315f]\n",
       "link E13 to E11--><a href=\"psysml:11f1a2a5-a4e7-4875-8b16-7052fd317758\" target=\"_top\" title=\"psysml:11f1a2a5-a4e7-4875-8b16-7052fd317758\" xlink:actuate=\"onRequest\" xlink:href=\"psysml:11f1a2a5-a4e7-4875-8b16-7052fd317758\" xlink:show=\"new\" xlink:title=\"psysml:11f1a2a5-a4e7-4875-8b16-7052fd317758\" xlink:type=\"simple\"><path d=\"M108.36,224.29 C123.87,244.28 147.14,274.45 167,301 C173.57,309.78 180.66,319.44 186.97,328.12 \" fill=\"none\" id=\"E13-&gt;E11\" style=\"stroke: #A80036; stroke-width: 1.0; stroke-dasharray: 7.0,7.0;\"/><polygon fill=\"#A80036\" points=\"189.99,332.28,187.9274,322.6496,187.0474,328.2376,181.4594,327.3576,189.99,332.28\" style=\"stroke: #A80036; stroke-width: 1.0;\"/><text fill=\"#000000\" font-family=\"sans-serif\" font-size=\"13\" lengthAdjust=\"spacingAndGlyphs\" textLength=\"57\" x=\"145\" y=\"267.0669\">«satisfy»</text></a><!--MD5=[41444e1cf88fc8fe703d901eebd6b40e]\n",
       "@startuml\r\n",
       "skinparam wrapWidth 300\r\n",
       "hide circle\r\n",
       "\r\n",
       "package \"RequirementTest\" as E1  [[psysml:8aa028f5-1693-4b51-bff2-c94d0f18c930 ]]  {\r\n",
       "comp def \"C\" as E2  <<(T,blue)constraint def>> [[psysml:27c2a771-07cf-4bde-9591-6030a1a15742 ]] {\r\n",
       "}\r\n",
       "comp usage \"c: C\" as E3  <<(T,blue)constraint>> [[psysml:da02b217-f155-4220-a2dc-d840d0d24f86 ]] {\r\n",
       "}\r\n",
       "comp def \"R\" as E4  <<(T,blue)requirement def>> [[psysml:b9a9d178-6ba0-415d-80bd-8d7e5aacf32f ]] {\r\n",
       "\r\n",
       "- -\r\n",
       "- - constraints - -\r\n",
       "<b>require</b> c\r\n",
       "<i>assume</i> c1: C\r\n",
       "}\r\n",
       "comp def \" [<b>1</b>] A\" as E5  <<(T,blue)requirement def>> [[psysml:5c4fbfc6-6feb-457a-9610-da755776e124 ]] {\r\n",
       "Text\r\n",
       "- -\r\n",
       "}\r\n",
       "comp usage \"<s>noname</s>\" as E8  <<(T,blue)requirement>> [[psysml:577c6bec-7675-4e65-a136-10b226b9020a ]] {\r\n",
       "}\r\n",
       "comp def \"R1\" as E9  <<(T,blue)requirement def>> [[psysml:291c6c45-8332-45a6-809f-574961a49898 ]] {\r\n",
       "- - constraints - -\r\n",
       "<b>require</b> <&bar-trig> c1 <s>RequirementTest::c</s>\r\n",
       "}\r\n",
       "comp usage \"p\" as E11  <<(T,blue)part>> [[psysml:b7118396-8822-4234-af4f-531e34fd2b85 ]] {\r\n",
       "}\r\n",
       "comp usage \"q\" as E12  <<(T,blue)part>> [[psysml:5710aa92-7822-41e6-89ae-9d2d61cb8bf3 ]] {\r\n",
       "}\r\n",
       "comp usage \"r: R\" as E13  <<(T,blue)requirement>> [[psysml:b72900fb-e3ca-4439-ac22-acb3bf892de5 ]] {\r\n",
       "}\r\n",
       "E3 - -:|> E2 [[psysml:8b4534c8-c65f-4721-aa95-1aefa1ee4858 ]] \r\n",
       "E4 +- - E5 [[psysml:5c4fbfc6-6feb-457a-9610-da755776e124 ]] \r\n",
       "E4 *- - E8 [[psysml:577c6bec-7675-4e65-a136-10b226b9020a ]] \r\n",
       "E12 *- - E13 [[psysml:b72900fb-e3ca-4439-ac22-acb3bf892de5 ]] \r\n",
       "E13 - -:|> E4 [[psysml:ed6e641a-605b-4ed9-9064-d41509e7ab16 ]] \r\n",
       "E13 ..> E11 [[psysml:11f1a2a5-a4e7-4875-8b16-7052fd317758 ]] : <<satisfy>>\r\n",
       "}\r\n",
       "@enduml\r\n",
       "\n",
       "PlantUML version 1.2020.13(Sat Jun 13 12:26:38 UTC 2020)\n",
       "(EPL source distribution)\n",
       "Java Runtime: OpenJDK Runtime Environment\n",
       "JVM: OpenJDK 64-Bit Server VM\n",
       "Default Encoding: UTF-8\n",
       "Language: en\n",
       "Country: null\n",
       "--></g></svg>"
      ]
     },
     "execution_count": 23,
     "metadata": {},
     "output_type": "execute_result"
    }
   ],
   "source": [
    "%viz --style=\"STDCOLOR\" --view=\"Default\" \"RequirementTest\""
   ]
  },
  {
   "cell_type": "code",
   "execution_count": 24,
   "id": "military-rings",
   "metadata": {
    "execution": {
     "iopub.execute_input": "2021-03-26T09:12:28.508239Z",
     "iopub.status.busy": "2021-03-26T09:12:28.507636Z",
     "iopub.status.idle": "2021-03-26T09:12:28.606932Z",
     "shell.execute_reply": "2021-03-26T09:12:28.607262Z"
    }
   },
   "outputs": [
    {
     "data": {
      "image/svg+xml": [
       "<?xml version=\"1.0\" encoding=\"UTF-8\" standalone=\"no\"?><svg xmlns=\"http://www.w3.org/2000/svg\" xmlns:xlink=\"http://www.w3.org/1999/xlink\" contentScriptType=\"application/ecmascript\" contentStyleType=\"text/css\" height=\"566px\" preserveAspectRatio=\"none\" style=\"width:470px;height:566px;\" version=\"1.1\" viewBox=\"0 0 470 566\" width=\"470px\" zoomAndPan=\"magnify\"><defs><filter height=\"300%\" id=\"f1mkhhj0soz1l4\" width=\"300%\" x=\"-1\" y=\"-1\"><feGaussianBlur result=\"blurOut\" stdDeviation=\"2.0\"/><feColorMatrix in=\"blurOut\" result=\"blurOut2\" type=\"matrix\" values=\"0 0 0 0 0 0 0 0 0 0 0 0 0 0 0 0 0 0 .4 0\"/><feOffset dx=\"4.0\" dy=\"4.0\" in=\"blurOut2\" result=\"blurOut3\"/><feBlend in=\"SourceGraphic\" in2=\"blurOut3\" mode=\"normal\"/></filter></defs><g><!--MD5=[fbc87193dbaf4d95561dea2c320d4a47]\n",
       "cluster E1--><a href=\"psysml:8aa028f5-1693-4b51-bff2-c94d0f18c930\" target=\"_top\" title=\"psysml:8aa028f5-1693-4b51-bff2-c94d0f18c930\" xlink:actuate=\"onRequest\" xlink:href=\"psysml:8aa028f5-1693-4b51-bff2-c94d0f18c930\" xlink:show=\"new\" xlink:title=\"psysml:8aa028f5-1693-4b51-bff2-c94d0f18c930\" xlink:type=\"simple\"><polygon fill=\"#FFFFFF\" filter=\"url(#f1mkhhj0soz1l4)\" points=\"16,6,158,6,165,28.2969,448,28.2969,448,554,16,554,16,6\" style=\"stroke: #000000; stroke-width: 1.5;\"/><line style=\"stroke: #000000; stroke-width: 1.5;\" x1=\"16\" x2=\"165\" y1=\"28.2969\" y2=\"28.2969\"/><text fill=\"#000000\" font-family=\"sans-serif\" font-size=\"14\" font-weight=\"bold\" lengthAdjust=\"spacingAndGlyphs\" textLength=\"136\" x=\"20\" y=\"20.9951\">RequirementTest</text></a><!--MD5=[b4997ac47864f28c2f74865a473b2911]\n",
       "class E2--><a href=\"psysml:27c2a771-07cf-4bde-9591-6030a1a15742\" target=\"_top\" title=\"psysml:27c2a771-07cf-4bde-9591-6030a1a15742\" xlink:actuate=\"onRequest\" xlink:href=\"psysml:27c2a771-07cf-4bde-9591-6030a1a15742\" xlink:show=\"new\" xlink:title=\"psysml:27c2a771-07cf-4bde-9591-6030a1a15742\" xlink:type=\"simple\"><rect fill=\"#FEFECE\" filter=\"url(#f1mkhhj0soz1l4)\" height=\"45.9375\" id=\"E2\" style=\"stroke: #A80036; stroke-width: 1.5;\" width=\"104\" x=\"328\" y=\"178\"/><text fill=\"#000000\" font-family=\"sans-serif\" font-size=\"12\" font-style=\"italic\" lengthAdjust=\"spacingAndGlyphs\" textLength=\"102\" x=\"329\" y=\"194.1387\">«constraint def»</text><text fill=\"#000000\" font-family=\"sans-serif\" font-size=\"12\" lengthAdjust=\"spacingAndGlyphs\" textLength=\"8\" x=\"376\" y=\"208.1074\">C</text><line style=\"stroke: #A80036; stroke-width: 1.5;\" x1=\"329\" x2=\"431\" y1=\"215.9375\" y2=\"215.9375\"/></a><!--MD5=[09b614a08d8cba4a07c9adeb5e0fee81]\n",
       "class E3--><a href=\"psysml:da02b217-f155-4220-a2dc-d840d0d24f86\" target=\"_top\" title=\"psysml:da02b217-f155-4220-a2dc-d840d0d24f86\" xlink:actuate=\"onRequest\" xlink:href=\"psysml:da02b217-f155-4220-a2dc-d840d0d24f86\" xlink:show=\"new\" xlink:title=\"psysml:da02b217-f155-4220-a2dc-d840d0d24f86\" xlink:type=\"simple\"><rect fill=\"#FEFECE\" filter=\"url(#f1mkhhj0soz1l4)\" height=\"45.9375\" id=\"E3\" rx=\"10\" ry=\"10\" style=\"stroke: #A80036; stroke-width: 1.5;\" width=\"80\" x=\"352\" y=\"56\"/><text fill=\"#000000\" font-family=\"sans-serif\" font-size=\"12\" font-style=\"italic\" lengthAdjust=\"spacingAndGlyphs\" textLength=\"78\" x=\"353\" y=\"72.1387\">«constraint»</text><text fill=\"#000000\" font-family=\"sans-serif\" font-size=\"12\" lengthAdjust=\"spacingAndGlyphs\" textLength=\"23\" x=\"380.5\" y=\"86.1074\">c: C</text><line style=\"stroke: #A80036; stroke-width: 1.5;\" x1=\"353\" x2=\"431\" y1=\"93.9375\" y2=\"93.9375\"/></a><!--MD5=[ebbe1d658d1005bcc118a6aa81145e00]\n",
       "class E4--><a href=\"psysml:b9a9d178-6ba0-415d-80bd-8d7e5aacf32f\" target=\"_top\" title=\"psysml:b9a9d178-6ba0-415d-80bd-8d7e5aacf32f\" xlink:actuate=\"onRequest\" xlink:href=\"psysml:b9a9d178-6ba0-415d-80bd-8d7e5aacf32f\" xlink:show=\"new\" xlink:title=\"psysml:b9a9d178-6ba0-415d-80bd-8d7e5aacf32f\" xlink:type=\"simple\"><rect fill=\"#FEFECE\" filter=\"url(#f1mkhhj0soz1l4)\" height=\"109.1563\" id=\"E4\" style=\"stroke: #A80036; stroke-width: 1.5;\" width=\"117\" x=\"32.5\" y=\"301\"/><text fill=\"#000000\" font-family=\"sans-serif\" font-size=\"12\" font-style=\"italic\" lengthAdjust=\"spacingAndGlyphs\" textLength=\"115\" x=\"33.5\" y=\"317.1387\">«requirement def»</text><text fill=\"#000000\" font-family=\"sans-serif\" font-size=\"12\" lengthAdjust=\"spacingAndGlyphs\" textLength=\"8\" x=\"87\" y=\"331.1074\">R</text><line style=\"stroke: #A80036; stroke-width: 1.5;\" x1=\"33.5\" x2=\"148.5\" y1=\"338.9375\" y2=\"338.9375\"/><text fill=\"#000000\" font-family=\"sans-serif\" font-size=\"11\" lengthAdjust=\"spacingAndGlyphs\" textLength=\"0\" x=\"42.5\" y=\"353.1479\"/><line style=\"stroke: #A80036; stroke-width: 1.0;\" x1=\"33.5\" x2=\"148.5\" y1=\"359.7422\" y2=\"359.7422\"/><text fill=\"#000000\" font-family=\"sans-serif\" font-size=\"11\" font-weight=\"bold\" lengthAdjust=\"spacingAndGlyphs\" textLength=\"46\" x=\"38.5\" y=\"390.7573\">require</text><text fill=\"#000000\" font-family=\"sans-serif\" font-size=\"11\" lengthAdjust=\"spacingAndGlyphs\" textLength=\"6\" x=\"88.5\" y=\"390.7573\">c</text><text fill=\"#000000\" font-family=\"sans-serif\" font-size=\"11\" font-style=\"italic\" lengthAdjust=\"spacingAndGlyphs\" textLength=\"46\" x=\"38.5\" y=\"403.562\">assume</text><text fill=\"#000000\" font-family=\"sans-serif\" font-size=\"11\" lengthAdjust=\"spacingAndGlyphs\" textLength=\"29\" x=\"88.5\" y=\"403.562\">c1: C</text><line style=\"stroke: #A80036; stroke-width: 1.0;\" x1=\"33.5\" x2=\"59\" y1=\"374.1445\" y2=\"374.1445\"/><text fill=\"#000000\" font-family=\"sans-serif\" font-size=\"11\" lengthAdjust=\"spacingAndGlyphs\" textLength=\"64\" x=\"59\" y=\"377.4526\">constraints</text><line style=\"stroke: #A80036; stroke-width: 1.0;\" x1=\"123\" x2=\"148.5\" y1=\"374.1445\" y2=\"374.1445\"/></a><!--MD5=[270fce915f116d4de14055a7c1d9a0f3]\n",
       "class E5--><a href=\"psysml:5c4fbfc6-6feb-457a-9610-da755776e124\" target=\"_top\" title=\"psysml:5c4fbfc6-6feb-457a-9610-da755776e124\" xlink:actuate=\"onRequest\" xlink:href=\"psysml:5c4fbfc6-6feb-457a-9610-da755776e124\" xlink:show=\"new\" xlink:title=\"psysml:5c4fbfc6-6feb-457a-9610-da755776e124\" xlink:type=\"simple\"><rect fill=\"#FEFECE\" filter=\"url(#f1mkhhj0soz1l4)\" height=\"66.7422\" id=\"E5\" style=\"stroke: #A80036; stroke-width: 1.5;\" width=\"117\" x=\"32.5\" y=\"471\"/><text fill=\"#000000\" font-family=\"sans-serif\" font-size=\"12\" font-style=\"italic\" lengthAdjust=\"spacingAndGlyphs\" textLength=\"115\" x=\"33.5\" y=\"487.1387\">«requirement def»</text><text fill=\"#000000\" font-family=\"sans-serif\" font-size=\"12\" lengthAdjust=\"spacingAndGlyphs\" textLength=\"5\" x=\"78\" y=\"501.1074\">[</text><text fill=\"#000000\" font-family=\"sans-serif\" font-size=\"12\" font-weight=\"bold\" lengthAdjust=\"spacingAndGlyphs\" textLength=\"8\" x=\"83\" y=\"501.1074\">1</text><text fill=\"#000000\" font-family=\"sans-serif\" font-size=\"12\" lengthAdjust=\"spacingAndGlyphs\" textLength=\"17\" x=\"91\" y=\"501.1074\">] A</text><line style=\"stroke: #A80036; stroke-width: 1.5;\" x1=\"33.5\" x2=\"148.5\" y1=\"508.9375\" y2=\"508.9375\"/><text fill=\"#000000\" font-family=\"sans-serif\" font-size=\"11\" lengthAdjust=\"spacingAndGlyphs\" textLength=\"24\" x=\"38.5\" y=\"523.1479\">Text</text><line style=\"stroke: #A80036; stroke-width: 1.0;\" x1=\"33.5\" x2=\"148.5\" y1=\"529.7422\" y2=\"529.7422\"/></a><!--MD5=[b9389687b975829384b498ac4b7476b2]\n",
       "class E8--><a href=\"psysml:577c6bec-7675-4e65-a136-10b226b9020a\" target=\"_top\" title=\"psysml:577c6bec-7675-4e65-a136-10b226b9020a\" xlink:actuate=\"onRequest\" xlink:href=\"psysml:577c6bec-7675-4e65-a136-10b226b9020a\" xlink:show=\"new\" xlink:title=\"psysml:577c6bec-7675-4e65-a136-10b226b9020a\" xlink:type=\"simple\"><rect fill=\"#FEFECE\" filter=\"url(#f1mkhhj0soz1l4)\" height=\"45.9375\" id=\"E8\" rx=\"10\" ry=\"10\" style=\"stroke: #A80036; stroke-width: 1.5;\" width=\"93\" x=\"184.5\" y=\"481.5\"/><text fill=\"#000000\" font-family=\"sans-serif\" font-size=\"12\" font-style=\"italic\" lengthAdjust=\"spacingAndGlyphs\" textLength=\"91\" x=\"185.5\" y=\"497.6387\">«requirement»</text><text fill=\"#000000\" font-family=\"sans-serif\" font-size=\"12\" lengthAdjust=\"spacingAndGlyphs\" text-decoration=\"line-through\" textLength=\"51\" x=\"205.5\" y=\"511.6074\">noname</text><line style=\"stroke: #A80036; stroke-width: 1.5;\" x1=\"185.5\" x2=\"276.5\" y1=\"519.4375\" y2=\"519.4375\"/></a><!--MD5=[fd4143e9d270a159db93a4ea2a975926]\n",
       "class E9--><a href=\"psysml:291c6c45-8332-45a6-809f-574961a49898\" target=\"_top\" title=\"psysml:291c6c45-8332-45a6-809f-574961a49898\" xlink:actuate=\"onRequest\" xlink:href=\"psysml:291c6c45-8332-45a6-809f-574961a49898\" xlink:show=\"new\" xlink:title=\"psysml:291c6c45-8332-45a6-809f-574961a49898\" xlink:type=\"simple\"><rect fill=\"#FEFECE\" filter=\"url(#f1mkhhj0soz1l4)\" height=\"76.4922\" id=\"E9\" style=\"stroke: #A80036; stroke-width: 1.5;\" width=\"207\" x=\"109.5\" y=\"41\"/><text fill=\"#000000\" font-family=\"sans-serif\" font-size=\"12\" font-style=\"italic\" lengthAdjust=\"spacingAndGlyphs\" textLength=\"115\" x=\"155.5\" y=\"57.1387\">«requirement def»</text><text fill=\"#000000\" font-family=\"sans-serif\" font-size=\"12\" lengthAdjust=\"spacingAndGlyphs\" textLength=\"16\" x=\"205\" y=\"71.1074\">R1</text><line style=\"stroke: #A80036; stroke-width: 1.5;\" x1=\"110.5\" x2=\"315.5\" y1=\"78.9375\" y2=\"78.9375\"/><text fill=\"#000000\" font-family=\"sans-serif\" font-size=\"11\" font-weight=\"bold\" lengthAdjust=\"spacingAndGlyphs\" textLength=\"46\" x=\"115.5\" y=\"110.8979\">require</text><text fill=\"#000000\" font-family=\"sans-serif\" font-size=\"11\" lengthAdjust=\"spacingAndGlyphs\" textLength=\"0\" x=\"165.5\" y=\"110.8979\"/><path d=\"M167.4167,100.6589 L167.4167,109.8255 L168.3333,109.8255 L168.3333,100.6589 M171.0833,100.6589 L171.0833,109.8255 L178.4167,105.2422 L171.0833,100.6589 L172,102.0339 L177.0417,105.2422 L172,108.4505 L172,102.0339 \" fill=\"#000000\" style=\"stroke: ; stroke-width: 0.0; stroke-dasharray: ;\"/><text fill=\"#000000\" font-family=\"sans-serif\" font-size=\"11\" lengthAdjust=\"spacingAndGlyphs\" textLength=\"13\" x=\"182.5\" y=\"110.8979\">c1</text><text fill=\"#000000\" font-family=\"sans-serif\" font-size=\"11\" lengthAdjust=\"spacingAndGlyphs\" text-decoration=\"line-through\" textLength=\"111\" x=\"199.5\" y=\"110.8979\">RequirementTest::c</text><line style=\"stroke: #A80036; stroke-width: 1.0;\" x1=\"110.5\" x2=\"181\" y1=\"93.3398\" y2=\"93.3398\"/><text fill=\"#000000\" font-family=\"sans-serif\" font-size=\"11\" lengthAdjust=\"spacingAndGlyphs\" textLength=\"64\" x=\"181\" y=\"96.6479\">constraints</text><line style=\"stroke: #A80036; stroke-width: 1.0;\" x1=\"245\" x2=\"315.5\" y1=\"93.3398\" y2=\"93.3398\"/></a><!--MD5=[1dd1bfd58a279cf63c5f349dbc8fc6a1]\n",
       "class E11--><a href=\"psysml:b7118396-8822-4234-af4f-531e34fd2b85\" target=\"_top\" title=\"psysml:b7118396-8822-4234-af4f-531e34fd2b85\" xlink:actuate=\"onRequest\" xlink:href=\"psysml:b7118396-8822-4234-af4f-531e34fd2b85\" xlink:show=\"new\" xlink:title=\"psysml:b7118396-8822-4234-af4f-531e34fd2b85\" xlink:type=\"simple\"><rect fill=\"#FEFECE\" filter=\"url(#f1mkhhj0soz1l4)\" height=\"45.9375\" id=\"E11\" rx=\"10\" ry=\"10\" style=\"stroke: #A80036; stroke-width: 1.5;\" width=\"42\" x=\"185\" y=\"332.5\"/><text fill=\"#000000\" font-family=\"sans-serif\" font-size=\"12\" font-style=\"italic\" lengthAdjust=\"spacingAndGlyphs\" textLength=\"40\" x=\"186\" y=\"348.6387\">«part»</text><text fill=\"#000000\" font-family=\"sans-serif\" font-size=\"12\" lengthAdjust=\"spacingAndGlyphs\" textLength=\"8\" x=\"202\" y=\"362.6074\">p</text><line style=\"stroke: #A80036; stroke-width: 1.5;\" x1=\"186\" x2=\"226\" y1=\"370.4375\" y2=\"370.4375\"/></a><!--MD5=[49a0ec8f00dab7302a31f22d0f0fe584]\n",
       "class E12--><a href=\"psysml:5710aa92-7822-41e6-89ae-9d2d61cb8bf3\" target=\"_top\" title=\"psysml:5710aa92-7822-41e6-89ae-9d2d61cb8bf3\" xlink:actuate=\"onRequest\" xlink:href=\"psysml:5710aa92-7822-41e6-89ae-9d2d61cb8bf3\" xlink:show=\"new\" xlink:title=\"psysml:5710aa92-7822-41e6-89ae-9d2d61cb8bf3\" xlink:type=\"simple\"><rect fill=\"#FEFECE\" filter=\"url(#f1mkhhj0soz1l4)\" height=\"45.9375\" id=\"E12\" rx=\"10\" ry=\"10\" style=\"stroke: #A80036; stroke-width: 1.5;\" width=\"42\" x=\"32\" y=\"56\"/><text fill=\"#000000\" font-family=\"sans-serif\" font-size=\"12\" font-style=\"italic\" lengthAdjust=\"spacingAndGlyphs\" textLength=\"40\" x=\"33\" y=\"72.1387\">«part»</text><text fill=\"#000000\" font-family=\"sans-serif\" font-size=\"12\" lengthAdjust=\"spacingAndGlyphs\" textLength=\"8\" x=\"49\" y=\"86.1074\">q</text><line style=\"stroke: #A80036; stroke-width: 1.5;\" x1=\"33\" x2=\"73\" y1=\"93.9375\" y2=\"93.9375\"/></a><!--MD5=[ee3c913d1a06f366521f9ef512b67efe]\n",
       "class E13--><a href=\"psysml:b72900fb-e3ca-4439-ac22-acb3bf892de5\" target=\"_top\" title=\"psysml:b72900fb-e3ca-4439-ac22-acb3bf892de5\" xlink:actuate=\"onRequest\" xlink:href=\"psysml:b72900fb-e3ca-4439-ac22-acb3bf892de5\" xlink:show=\"new\" xlink:title=\"psysml:b72900fb-e3ca-4439-ac22-acb3bf892de5\" xlink:type=\"simple\"><rect fill=\"#FEFECE\" filter=\"url(#f1mkhhj0soz1l4)\" height=\"45.9375\" id=\"E13\" rx=\"10\" ry=\"10\" style=\"stroke: #A80036; stroke-width: 1.5;\" width=\"93\" x=\"44.5\" y=\"178\"/><text fill=\"#000000\" font-family=\"sans-serif\" font-size=\"12\" font-style=\"italic\" lengthAdjust=\"spacingAndGlyphs\" textLength=\"91\" x=\"45.5\" y=\"194.1387\">«requirement»</text><text fill=\"#000000\" font-family=\"sans-serif\" font-size=\"12\" lengthAdjust=\"spacingAndGlyphs\" textLength=\"21\" x=\"80.5\" y=\"208.1074\">r: R</text><line style=\"stroke: #A80036; stroke-width: 1.5;\" x1=\"45.5\" x2=\"136.5\" y1=\"215.9375\" y2=\"215.9375\"/></a><!--MD5=[05d275557350bfb9b23a4ef7222b4c39]\n",
       "link E3 to E2--><a href=\"psysml:8b4534c8-c65f-4721-aa95-1aefa1ee4858\" target=\"_top\" title=\"psysml:8b4534c8-c65f-4721-aa95-1aefa1ee4858\" xlink:actuate=\"onRequest\" xlink:href=\"psysml:8b4534c8-c65f-4721-aa95-1aefa1ee4858\" xlink:show=\"new\" xlink:title=\"psysml:8b4534c8-c65f-4721-aa95-1aefa1ee4858\" xlink:type=\"simple\"><path d=\"M389.8,102.01 C388.24,117.56 386.11,138.89 384.23,157.68 \" fill=\"none\" id=\"E3-&gt;E2\" style=\"stroke: #A80036; stroke-width: 1.0;\"/><polygon fill=\"#FFFFFF\" points=\"382.23,177.72,377.1511,158.1188,391.0819,159.5089,382.23,177.72\" style=\"stroke: #A80036; stroke-width: 1.0;\"/><ellipse cx=\"379.7072\" cy=\"152.6456\" fill=\"#A80036\" rx=\"2\" ry=\"2\" style=\"stroke: #A80036; stroke-width: 1.0;\"/><ellipse cx=\"389.6578\" cy=\"153.6385\" fill=\"#A80036\" rx=\"2\" ry=\"2\" style=\"stroke: #A80036; stroke-width: 1.0;\"/></a><!--MD5=[62aa6af11e70f752912c1cb0466f24f7]\n",
       "reverse link E4 to E5--><a href=\"psysml:5c4fbfc6-6feb-457a-9610-da755776e124\" target=\"_top\" title=\"psysml:5c4fbfc6-6feb-457a-9610-da755776e124\" xlink:actuate=\"onRequest\" xlink:href=\"psysml:5c4fbfc6-6feb-457a-9610-da755776e124\" xlink:show=\"new\" xlink:title=\"psysml:5c4fbfc6-6feb-457a-9610-da755776e124\" xlink:type=\"simple\"><path d=\"M91,425.45 C91,441.34 91,457.51 91,470.98 \" fill=\"none\" id=\"E4&lt;-E5\" style=\"stroke: #A80036; stroke-width: 1.0;\"/><ellipse cx=\"91\" cy=\"418.4\" fill=\"#FFFFFF\" rx=\"8\" ry=\"8\" style=\"stroke: #A80036; stroke-width: 1.0;\"/><line style=\"stroke: #A80036; stroke-width: 1.0;\" x1=\"91\" x2=\"91\" y1=\"426.4\" y2=\"410.4\"/><line style=\"stroke: #A80036; stroke-width: 1.0;\" x1=\"83\" x2=\"99\" y1=\"418.4\" y2=\"418.4\"/></a><!--MD5=[c6fc7cdb0cabde04948078cf183fa696]\n",
       "reverse link E4 to E8--><a href=\"psysml:577c6bec-7675-4e65-a136-10b226b9020a\" target=\"_top\" title=\"psysml:577c6bec-7675-4e65-a136-10b226b9020a\" xlink:actuate=\"onRequest\" xlink:href=\"psysml:577c6bec-7675-4e65-a136-10b226b9020a\" xlink:show=\"new\" xlink:title=\"psysml:577c6bec-7675-4e65-a136-10b226b9020a\" xlink:type=\"simple\"><path d=\"M151.51,420.04 C172.42,441.99 194.47,465.14 210.03,481.48 \" fill=\"none\" id=\"E4&lt;-E8\" style=\"stroke: #A80036; stroke-width: 1.0;\"/><polygon fill=\"#A80036\" points=\"142.34,410.4,143.5779,417.5041,150.6116,419.0937,149.3737,411.9897,142.34,410.4\" style=\"stroke: #A80036; stroke-width: 1.0;\"/></a><!--MD5=[062ed86c389d1a88f61c6380d0491e17]\n",
       "reverse link E12 to E13--><a href=\"psysml:b72900fb-e3ca-4439-ac22-acb3bf892de5\" target=\"_top\" title=\"psysml:b72900fb-e3ca-4439-ac22-acb3bf892de5\" xlink:actuate=\"onRequest\" xlink:href=\"psysml:b72900fb-e3ca-4439-ac22-acb3bf892de5\" xlink:show=\"new\" xlink:title=\"psysml:b72900fb-e3ca-4439-ac22-acb3bf892de5\" xlink:type=\"simple\"><path d=\"M63.94,114.55 C70.38,134.88 78.33,160 83.95,177.72 \" fill=\"none\" id=\"E12&lt;-E13\" style=\"stroke: #A80036; stroke-width: 1.0;\"/><polygon fill=\"#A80036\" points=\"59.97,102.01,57.9712,108.9386,63.5981,113.4484,65.5968,106.5198,59.97,102.01\" style=\"stroke: #A80036; stroke-width: 1.0;\"/></a><!--MD5=[017847e01ff9a8bd19f247411074f987]\n",
       "link E13 to E4--><a href=\"psysml:ed6e641a-605b-4ed9-9064-d41509e7ab16\" target=\"_top\" title=\"psysml:ed6e641a-605b-4ed9-9064-d41509e7ab16\" xlink:actuate=\"onRequest\" xlink:href=\"psysml:ed6e641a-605b-4ed9-9064-d41509e7ab16\" xlink:show=\"new\" xlink:title=\"psysml:ed6e641a-605b-4ed9-9064-d41509e7ab16\" xlink:type=\"simple\"><path d=\"M91,224.17 C91,239.17 91,259.91 91,280.44 \" fill=\"none\" id=\"E13-&gt;E4\" style=\"stroke: #A80036; stroke-width: 1.0;\"/><polygon fill=\"#FFFFFF\" points=\"91,300.68,84,281.68,98,281.68,91,300.68\" style=\"stroke: #A80036; stroke-width: 1.0;\"/><ellipse cx=\"86\" cy=\"275.98\" fill=\"#A80036\" rx=\"2\" ry=\"2\" style=\"stroke: #A80036; stroke-width: 1.0;\"/><ellipse cx=\"96\" cy=\"275.98\" fill=\"#A80036\" rx=\"2\" ry=\"2\" style=\"stroke: #A80036; stroke-width: 1.0;\"/></a><!--MD5=[2cfe899c895462254056921bfb67315f]\n",
       "link E13 to E11--><a href=\"psysml:11f1a2a5-a4e7-4875-8b16-7052fd317758\" target=\"_top\" title=\"psysml:11f1a2a5-a4e7-4875-8b16-7052fd317758\" xlink:actuate=\"onRequest\" xlink:href=\"psysml:11f1a2a5-a4e7-4875-8b16-7052fd317758\" xlink:show=\"new\" xlink:title=\"psysml:11f1a2a5-a4e7-4875-8b16-7052fd317758\" xlink:type=\"simple\"><path d=\"M108.36,224.29 C123.87,244.28 147.14,274.45 167,301 C173.57,309.78 180.66,319.44 186.97,328.12 \" fill=\"none\" id=\"E13-&gt;E11\" style=\"stroke: #A80036; stroke-width: 1.0; stroke-dasharray: 7.0,7.0;\"/><polygon fill=\"#A80036\" points=\"189.99,332.28,187.9274,322.6496,187.0474,328.2376,181.4594,327.3576,189.99,332.28\" style=\"stroke: #A80036; stroke-width: 1.0;\"/><text fill=\"#000000\" font-family=\"sans-serif\" font-size=\"13\" lengthAdjust=\"spacingAndGlyphs\" textLength=\"57\" x=\"145\" y=\"267.0669\">«satisfy»</text></a><!--MD5=[41444e1cf88fc8fe703d901eebd6b40e]\n",
       "@startuml\r\n",
       "skinparam wrapWidth 300\r\n",
       "hide circle\r\n",
       "\r\n",
       "package \"RequirementTest\" as E1  [[psysml:8aa028f5-1693-4b51-bff2-c94d0f18c930 ]]  {\r\n",
       "comp def \"C\" as E2  <<(T,blue)constraint def>> [[psysml:27c2a771-07cf-4bde-9591-6030a1a15742 ]] {\r\n",
       "}\r\n",
       "comp usage \"c: C\" as E3  <<(T,blue)constraint>> [[psysml:da02b217-f155-4220-a2dc-d840d0d24f86 ]] {\r\n",
       "}\r\n",
       "comp def \"R\" as E4  <<(T,blue)requirement def>> [[psysml:b9a9d178-6ba0-415d-80bd-8d7e5aacf32f ]] {\r\n",
       "\r\n",
       "- -\r\n",
       "- - constraints - -\r\n",
       "<b>require</b> c\r\n",
       "<i>assume</i> c1: C\r\n",
       "}\r\n",
       "comp def \" [<b>1</b>] A\" as E5  <<(T,blue)requirement def>> [[psysml:5c4fbfc6-6feb-457a-9610-da755776e124 ]] {\r\n",
       "Text\r\n",
       "- -\r\n",
       "}\r\n",
       "comp usage \"<s>noname</s>\" as E8  <<(T,blue)requirement>> [[psysml:577c6bec-7675-4e65-a136-10b226b9020a ]] {\r\n",
       "}\r\n",
       "comp def \"R1\" as E9  <<(T,blue)requirement def>> [[psysml:291c6c45-8332-45a6-809f-574961a49898 ]] {\r\n",
       "- - constraints - -\r\n",
       "<b>require</b> <&bar-trig> c1 <s>RequirementTest::c</s>\r\n",
       "}\r\n",
       "comp usage \"p\" as E11  <<(T,blue)part>> [[psysml:b7118396-8822-4234-af4f-531e34fd2b85 ]] {\r\n",
       "}\r\n",
       "comp usage \"q\" as E12  <<(T,blue)part>> [[psysml:5710aa92-7822-41e6-89ae-9d2d61cb8bf3 ]] {\r\n",
       "}\r\n",
       "comp usage \"r: R\" as E13  <<(T,blue)requirement>> [[psysml:b72900fb-e3ca-4439-ac22-acb3bf892de5 ]] {\r\n",
       "}\r\n",
       "E3 - -:|> E2 [[psysml:8b4534c8-c65f-4721-aa95-1aefa1ee4858 ]] \r\n",
       "E4 +- - E5 [[psysml:5c4fbfc6-6feb-457a-9610-da755776e124 ]] \r\n",
       "E4 *- - E8 [[psysml:577c6bec-7675-4e65-a136-10b226b9020a ]] \r\n",
       "E12 *- - E13 [[psysml:b72900fb-e3ca-4439-ac22-acb3bf892de5 ]] \r\n",
       "E13 - -:|> E4 [[psysml:ed6e641a-605b-4ed9-9064-d41509e7ab16 ]] \r\n",
       "E13 ..> E11 [[psysml:11f1a2a5-a4e7-4875-8b16-7052fd317758 ]] : <<satisfy>>\r\n",
       "}\r\n",
       "@enduml\r\n",
       "\n",
       "PlantUML version 1.2020.13(Sat Jun 13 12:26:38 UTC 2020)\n",
       "(EPL source distribution)\n",
       "Java Runtime: OpenJDK Runtime Environment\n",
       "JVM: OpenJDK 64-Bit Server VM\n",
       "Default Encoding: UTF-8\n",
       "Language: en\n",
       "Country: null\n",
       "--></g></svg>"
      ]
     },
     "execution_count": 24,
     "metadata": {},
     "output_type": "execute_result"
    }
   ],
   "source": [
    "%viz --style=\"STDCOLOR\" --view=\"Tree\" \"RequirementTest\""
   ]
  },
  {
   "cell_type": "code",
   "execution_count": 25,
   "id": "painful-anger",
   "metadata": {
    "execution": {
     "iopub.execute_input": "2021-03-26T09:12:28.657421Z",
     "iopub.status.busy": "2021-03-26T09:12:28.656838Z",
     "iopub.status.idle": "2021-03-26T09:12:28.661207Z",
     "shell.execute_reply": "2021-03-26T09:12:28.660812Z"
    }
   },
   "outputs": [
    {
     "data": {
      "image/svg+xml": [
       "<?xml version=\"1.0\" encoding=\"UTF-8\" standalone=\"no\"?><svg xmlns=\"http://www.w3.org/2000/svg\" xmlns:xlink=\"http://www.w3.org/1999/xlink\" contentScriptType=\"application/ecmascript\" contentStyleType=\"text/css\" height=\"12px\" preserveAspectRatio=\"none\" style=\"width:12px;height:12px;\" version=\"1.1\" viewBox=\"0 0 12 12\" width=\"12px\" zoomAndPan=\"magnify\"><defs/><g><!--MD5=[aeeef50f102b80d730deb6443d14f702]\n",
       "@startuml\r\n",
       "skinparam wrapWidth 300\r\n",
       "hide circle\r\n",
       "\r\n",
       "@enduml\r\n",
       "\n",
       "PlantUML version 1.2020.13(Sat Jun 13 12:26:38 UTC 2020)\n",
       "(EPL source distribution)\n",
       "Java Runtime: OpenJDK Runtime Environment\n",
       "JVM: OpenJDK 64-Bit Server VM\n",
       "Default Encoding: UTF-8\n",
       "Language: en\n",
       "Country: null\n",
       "--></g></svg>"
      ]
     },
     "execution_count": 25,
     "metadata": {},
     "output_type": "execute_result"
    }
   ],
   "source": [
    "%viz --style=\"STDCOLOR\" --view=\"State\" \"RequirementTest\""
   ]
  },
  {
   "cell_type": "code",
   "execution_count": 26,
   "id": "settled-kennedy",
   "metadata": {
    "execution": {
     "iopub.execute_input": "2021-03-26T09:12:28.711452Z",
     "iopub.status.busy": "2021-03-26T09:12:28.711081Z",
     "iopub.status.idle": "2021-03-26T09:12:28.744002Z",
     "shell.execute_reply": "2021-03-26T09:12:28.742844Z"
    }
   },
   "outputs": [
    {
     "data": {
      "image/svg+xml": [
       "<?xml version=\"1.0\" encoding=\"UTF-8\" standalone=\"no\"?><svg xmlns=\"http://www.w3.org/2000/svg\" xmlns:xlink=\"http://www.w3.org/1999/xlink\" contentScriptType=\"application/ecmascript\" contentStyleType=\"text/css\" height=\"367px\" preserveAspectRatio=\"none\" style=\"width:980px;height:367px;\" version=\"1.1\" viewBox=\"0 0 980 367\" width=\"980px\" zoomAndPan=\"magnify\"><defs><filter height=\"300%\" id=\"f17p0m1t1fzcz0\" width=\"300%\" x=\"-1\" y=\"-1\"><feGaussianBlur result=\"blurOut\" stdDeviation=\"2.0\"/><feColorMatrix in=\"blurOut\" result=\"blurOut2\" type=\"matrix\" values=\"0 0 0 0 0 0 0 0 0 0 0 0 0 0 0 0 0 0 .4 0\"/><feOffset dx=\"4.0\" dy=\"4.0\" in=\"blurOut2\" result=\"blurOut3\"/><feBlend in=\"SourceGraphic\" in2=\"blurOut3\" mode=\"normal\"/></filter></defs><g><!--MD5=[fbc87193dbaf4d95561dea2c320d4a47]\n",
       "cluster E1--><a href=\"psysml:8aa028f5-1693-4b51-bff2-c94d0f18c930\" target=\"_top\" title=\"psysml:8aa028f5-1693-4b51-bff2-c94d0f18c930\" xlink:actuate=\"onRequest\" xlink:href=\"psysml:8aa028f5-1693-4b51-bff2-c94d0f18c930\" xlink:show=\"new\" xlink:title=\"psysml:8aa028f5-1693-4b51-bff2-c94d0f18c930\" xlink:type=\"simple\"><polygon fill=\"#FFFFFF\" filter=\"url(#f17p0m1t1fzcz0)\" points=\"16,6,158,6,165,28.2969,958,28.2969,958,355,16,355,16,6\" style=\"stroke: #000000; stroke-width: 1.5;\"/><line style=\"stroke: #000000; stroke-width: 1.5;\" x1=\"16\" x2=\"165\" y1=\"28.2969\" y2=\"28.2969\"/><text fill=\"#000000\" font-family=\"sans-serif\" font-size=\"14\" font-weight=\"bold\" lengthAdjust=\"spacingAndGlyphs\" textLength=\"136\" x=\"20\" y=\"20.9951\">RequirementTest</text></a><!--MD5=[168fadf3d0c3fd93dd5d6da1b1d7ab76]\n",
       "cluster E7--><a href=\"psysml:5710aa92-7822-41e6-89ae-9d2d61cb8bf3\" target=\"_top\" title=\"psysml:5710aa92-7822-41e6-89ae-9d2d61cb8bf3\" xlink:actuate=\"onRequest\" xlink:href=\"psysml:5710aa92-7822-41e6-89ae-9d2d61cb8bf3\" xlink:show=\"new\" xlink:title=\"psysml:5710aa92-7822-41e6-89ae-9d2d61cb8bf3\" xlink:type=\"simple\"><rect fill=\"#FFFFFF\" filter=\"url(#f17p0m1t1fzcz0)\" height=\"209\" id=\"E7\" rx=\"10\" ry=\"10\" style=\"stroke: #A80036; stroke-width: 1.5;\" width=\"213\" x=\"721\" y=\"49\"/><rect fill=\"#FEFECE\" height=\"23.9688\" rx=\"10\" ry=\"10\" style=\"stroke: #FEFECE; stroke-width: 1.5;\" width=\"213\" x=\"721\" y=\"49\"/><rect fill=\"#FEFECE\" height=\"10\" style=\"stroke: #FEFECE; stroke-width: 1.5;\" width=\"213\" x=\"721\" y=\"62.9688\"/><rect fill=\"none\" height=\"209\" id=\"E7\" rx=\"10\" ry=\"10\" style=\"stroke: #A80036; stroke-width: 1.5;\" width=\"213\" x=\"721\" y=\"49\"/><text fill=\"#000000\" font-family=\"sans-serif\" font-size=\"12\" lengthAdjust=\"spacingAndGlyphs\" textLength=\"8\" x=\"823.5\" y=\"65.1387\">q</text><line style=\"stroke: #A80036; stroke-width: 1.0;\" x1=\"721\" x2=\"934\" y1=\"72.9688\" y2=\"72.9688\"/></a><!--MD5=[55dfccfc6c49c2d10cd1bd2211a6c90c]\n",
       "cluster E8--><a href=\"psysml:b72900fb-e3ca-4439-ac22-acb3bf892de5\" target=\"_top\" title=\"psysml:b72900fb-e3ca-4439-ac22-acb3bf892de5\" xlink:actuate=\"onRequest\" xlink:href=\"psysml:b72900fb-e3ca-4439-ac22-acb3bf892de5\" xlink:show=\"new\" xlink:title=\"psysml:b72900fb-e3ca-4439-ac22-acb3bf892de5\" xlink:type=\"simple\"><rect fill=\"#FFFFFF\" filter=\"url(#f17p0m1t1fzcz0)\" height=\"126\" id=\"E8\" rx=\"10\" ry=\"10\" style=\"stroke: #A80036; stroke-width: 1.5;\" width=\"149\" x=\"753\" y=\"100\"/><rect fill=\"#FEFECE\" height=\"37.9375\" rx=\"10\" ry=\"10\" style=\"stroke: #FEFECE; stroke-width: 1.5;\" width=\"149\" x=\"753\" y=\"100\"/><rect fill=\"#FEFECE\" height=\"10\" style=\"stroke: #FEFECE; stroke-width: 1.5;\" width=\"149\" x=\"753\" y=\"127.9375\"/><rect fill=\"none\" height=\"126\" id=\"E8\" rx=\"10\" ry=\"10\" style=\"stroke: #A80036; stroke-width: 1.5;\" width=\"149\" x=\"753\" y=\"100\"/><text fill=\"#000000\" font-family=\"sans-serif\" font-size=\"12\" font-style=\"italic\" lengthAdjust=\"spacingAndGlyphs\" textLength=\"91\" x=\"782\" y=\"116.1387\">«requirement»</text><text fill=\"#000000\" font-family=\"sans-serif\" font-size=\"12\" lengthAdjust=\"spacingAndGlyphs\" textLength=\"21\" x=\"817\" y=\"130.1074\">r: R</text><line style=\"stroke: #A80036; stroke-width: 1.0;\" x1=\"753\" x2=\"902\" y1=\"137.9375\" y2=\"137.9375\"/></a><!--MD5=[b4997ac47864f28c2f74865a473b2911]\n",
       "class E2--><a href=\"psysml:27c2a771-07cf-4bde-9591-6030a1a15742\" target=\"_top\" title=\"psysml:27c2a771-07cf-4bde-9591-6030a1a15742\" xlink:actuate=\"onRequest\" xlink:href=\"psysml:27c2a771-07cf-4bde-9591-6030a1a15742\" xlink:show=\"new\" xlink:title=\"psysml:27c2a771-07cf-4bde-9591-6030a1a15742\" xlink:type=\"simple\"><rect fill=\"#FEFECE\" filter=\"url(#f17p0m1t1fzcz0)\" height=\"53.9375\" id=\"E2\" style=\"stroke: #A80036; stroke-width: 1.5;\" width=\"152\" x=\"553\" y=\"153.5\"/><text fill=\"#000000\" font-family=\"sans-serif\" font-size=\"12\" font-style=\"italic\" lengthAdjust=\"spacingAndGlyphs\" textLength=\"150\" x=\"554\" y=\"169.6387\">«(T,blue)constraint def»</text><text fill=\"#000000\" font-family=\"sans-serif\" font-size=\"12\" lengthAdjust=\"spacingAndGlyphs\" textLength=\"8\" x=\"625\" y=\"183.6074\">C</text><line style=\"stroke: #A80036; stroke-width: 1.5;\" x1=\"554\" x2=\"704\" y1=\"191.4375\" y2=\"191.4375\"/><line style=\"stroke: #A80036; stroke-width: 1.5;\" x1=\"554\" x2=\"704\" y1=\"199.4375\" y2=\"199.4375\"/></a><!--MD5=[ebbe1d658d1005bcc118a6aa81145e00]\n",
       "class E4--><a href=\"psysml:b9a9d178-6ba0-415d-80bd-8d7e5aacf32f\" target=\"_top\" title=\"psysml:b9a9d178-6ba0-415d-80bd-8d7e5aacf32f\" xlink:actuate=\"onRequest\" xlink:href=\"psysml:b9a9d178-6ba0-415d-80bd-8d7e5aacf32f\" xlink:show=\"new\" xlink:title=\"psysml:b9a9d178-6ba0-415d-80bd-8d7e5aacf32f\" xlink:type=\"simple\"><rect fill=\"#FEFECE\" filter=\"url(#f17p0m1t1fzcz0)\" height=\"53.9375\" id=\"E4\" style=\"stroke: #A80036; stroke-width: 1.5;\" width=\"165\" x=\"352.5\" y=\"153.5\"/><text fill=\"#000000\" font-family=\"sans-serif\" font-size=\"12\" font-style=\"italic\" lengthAdjust=\"spacingAndGlyphs\" textLength=\"163\" x=\"353.5\" y=\"169.6387\">«(T,blue)requirement def»</text><text fill=\"#000000\" font-family=\"sans-serif\" font-size=\"12\" lengthAdjust=\"spacingAndGlyphs\" textLength=\"8\" x=\"431\" y=\"183.6074\">R</text><line style=\"stroke: #A80036; stroke-width: 1.5;\" x1=\"353.5\" x2=\"516.5\" y1=\"191.4375\" y2=\"191.4375\"/><line style=\"stroke: #A80036; stroke-width: 1.5;\" x1=\"353.5\" x2=\"516.5\" y1=\"199.4375\" y2=\"199.4375\"/></a><!--MD5=[270fce915f116d4de14055a7c1d9a0f3]\n",
       "class E5--><a href=\"psysml:291c6c45-8332-45a6-809f-574961a49898\" target=\"_top\" title=\"psysml:291c6c45-8332-45a6-809f-574961a49898\" xlink:actuate=\"onRequest\" xlink:href=\"psysml:291c6c45-8332-45a6-809f-574961a49898\" xlink:show=\"new\" xlink:title=\"psysml:291c6c45-8332-45a6-809f-574961a49898\" xlink:type=\"simple\"><rect fill=\"#FEFECE\" filter=\"url(#f17p0m1t1fzcz0)\" height=\"53.9375\" id=\"E5\" style=\"stroke: #A80036; stroke-width: 1.5;\" width=\"165\" x=\"152.5\" y=\"153.5\"/><text fill=\"#000000\" font-family=\"sans-serif\" font-size=\"12\" font-style=\"italic\" lengthAdjust=\"spacingAndGlyphs\" textLength=\"163\" x=\"153.5\" y=\"169.6387\">«(T,blue)requirement def»</text><text fill=\"#000000\" font-family=\"sans-serif\" font-size=\"12\" lengthAdjust=\"spacingAndGlyphs\" textLength=\"16\" x=\"227\" y=\"183.6074\">R1</text><line style=\"stroke: #A80036; stroke-width: 1.5;\" x1=\"153.5\" x2=\"316.5\" y1=\"191.4375\" y2=\"191.4375\"/><line style=\"stroke: #A80036; stroke-width: 1.5;\" x1=\"153.5\" x2=\"316.5\" y1=\"199.4375\" y2=\"199.4375\"/></a><g id=\"E1.E3\"><a href=\"psysml:da02b217-f155-4220-a2dc-d840d0d24f86\" target=\"_top\" title=\"psysml:da02b217-f155-4220-a2dc-d840d0d24f86\" xlink:actuate=\"onRequest\" xlink:href=\"psysml:da02b217-f155-4220-a2dc-d840d0d24f86\" xlink:show=\"new\" xlink:title=\"psysml:da02b217-f155-4220-a2dc-d840d0d24f86\" xlink:type=\"simple\"><rect fill=\"#FEFECE\" filter=\"url(#f17p0m1t1fzcz0)\" height=\"42.9375\" id=\"E3\" rx=\"10\" ry=\"10\" style=\"stroke: #A80036; stroke-width: 1.5;\" width=\"85\" x=\"32.5\" y=\"159\"/><text fill=\"#000000\" font-family=\"sans-serif\" font-size=\"12\" font-style=\"italic\" lengthAdjust=\"spacingAndGlyphs\" textLength=\"78\" x=\"36\" y=\"175.1387\">«constraint»</text><text fill=\"#000000\" font-family=\"sans-serif\" font-size=\"12\" lengthAdjust=\"spacingAndGlyphs\" textLength=\"23\" x=\"63.5\" y=\"189.1074\">c: C</text></a></g><g id=\"E1.E6\"><a href=\"psysml:b7118396-8822-4234-af4f-531e34fd2b85\" target=\"_top\" title=\"psysml:b7118396-8822-4234-af4f-531e34fd2b85\" xlink:actuate=\"onRequest\" xlink:href=\"psysml:b7118396-8822-4234-af4f-531e34fd2b85\" xlink:show=\"new\" xlink:title=\"psysml:b7118396-8822-4234-af4f-531e34fd2b85\" xlink:type=\"simple\"><rect fill=\"#FEFECE\" filter=\"url(#f17p0m1t1fzcz0)\" height=\"40\" id=\"E6\" rx=\"10\" ry=\"10\" style=\"stroke: #A80036; stroke-width: 1.5;\" width=\"50\" x=\"736\" y=\"299\"/><text fill=\"#000000\" font-family=\"sans-serif\" font-size=\"12\" lengthAdjust=\"spacingAndGlyphs\" textLength=\"8\" x=\"757\" y=\"315.1387\">p</text></a></g><g id=\"E1.E7.E8.E9\"><a href=\"psysml:b3b786b4-2056-4ded-a351-3a90cb9a49e0\" target=\"_top\" title=\"psysml:b3b786b4-2056-4ded-a351-3a90cb9a49e0\" xlink:actuate=\"onRequest\" xlink:href=\"psysml:b3b786b4-2056-4ded-a351-3a90cb9a49e0\" xlink:show=\"new\" xlink:title=\"psysml:b3b786b4-2056-4ded-a351-3a90cb9a49e0\" xlink:type=\"simple\"><rect fill=\"#FEFECE\" filter=\"url(#f17p0m1t1fzcz0)\" height=\"42.9375\" id=\"E9\" rx=\"10\" ry=\"10\" style=\"stroke: #A80036; stroke-width: 1.5;\" width=\"82\" x=\"796\" y=\"159\"/><text fill=\"#000000\" font-family=\"sans-serif\" font-size=\"12\" font-style=\"italic\" lengthAdjust=\"spacingAndGlyphs\" textLength=\"75\" x=\"799.5\" y=\"175.1387\">«reference»</text><text fill=\"#000000\" font-family=\"sans-serif\" font-size=\"12\" lengthAdjust=\"spacingAndGlyphs\" textLength=\"26\" x=\"824\" y=\"189.1074\">subj</text></a></g><!--MD5=[c5e8897d989ce984f93528998a7150fe]\n",
       "link E8 to E6--><a href=\"psysml:11f1a2a5-a4e7-4875-8b16-7052fd317758\" target=\"_top\" title=\"psysml:11f1a2a5-a4e7-4875-8b16-7052fd317758\" xlink:actuate=\"onRequest\" xlink:href=\"psysml:11f1a2a5-a4e7-4875-8b16-7052fd317758\" xlink:show=\"new\" xlink:title=\"psysml:11f1a2a5-a4e7-4875-8b16-7052fd317758\" xlink:type=\"simple\"><path d=\"M761,226.4501 C761,227.1713 761,227.8965 761,228.6252 C761,230.0826 761,231.5543 761,233.0372 C761,236.003 761,239.0136 761,242.0448 C761,248.1072 761,254.2518 761,260.2839 C761,272.3481 761,283.9625 761,293.57 \" fill=\"none\" id=\"E8-&gt;E6\" style=\"stroke: #A80036; stroke-width: 1.0; stroke-dasharray: 7.0,7.0;\"/><polygon fill=\"#A80036\" points=\"761,298.99,765,289.99,761,293.99,757,289.99,761,298.99\" style=\"stroke: #A80036; stroke-width: 1.0;\"/><text fill=\"#000000\" font-family=\"sans-serif\" font-size=\"13\" lengthAdjust=\"spacingAndGlyphs\" textLength=\"57\" x=\"762\" y=\"287.0669\">«satisfy»</text></a><!--MD5=[9aa246452703ecd2e65bcf0448123bb1]\n",
       "@startuml\r\n",
       "skinparam ranksep 8\r\n",
       "skinparam rectangle {\r\n",
       " backgroundColor<<block>> LightGreen\r\n",
       "}\r\n",
       "skinparam wrapWidth 300\r\n",
       "hide circle\r\n",
       "\r\n",
       "package \"RequirementTest\" as E1  [[psysml:8aa028f5-1693-4b51-bff2-c94d0f18c930 ]]  {\r\n",
       "def \"C\" as E2  <<(T,blue)constraint def>> [[psysml:27c2a771-07cf-4bde-9591-6030a1a15742 ]] \r\n",
       "rec usage \"c: C\" as E3  <<(T,blue)constraint>> [[psysml:da02b217-f155-4220-a2dc-d840d0d24f86 ]] {\r\n",
       "}\r\n",
       "def \"R\" as E4  <<(T,blue)requirement def>> [[psysml:b9a9d178-6ba0-415d-80bd-8d7e5aacf32f ]] \r\n",
       "def \"R1\" as E5  <<(T,blue)requirement def>> [[psysml:291c6c45-8332-45a6-809f-574961a49898 ]] \r\n",
       "rec usage \"p\" as E6  [[psysml:b7118396-8822-4234-af4f-531e34fd2b85 ]] {\r\n",
       "}\r\n",
       "rec usage \"q\" as E7  [[psysml:5710aa92-7822-41e6-89ae-9d2d61cb8bf3 ]] {\r\n",
       "rec usage \"r: R\" as E8  <<(T,blue)requirement>> [[psysml:b72900fb-e3ca-4439-ac22-acb3bf892de5 ]] {\r\n",
       "rec usage \"subj\" as E9  <<(T,blue)reference>> [[psysml:b3b786b4-2056-4ded-a351-3a90cb9a49e0 ]] {\r\n",
       "}\r\n",
       "}\r\n",
       "}\r\n",
       "E8 ..> E6 [[psysml:11f1a2a5-a4e7-4875-8b16-7052fd317758 ]] : <<satisfy>>\r\n",
       "}\r\n",
       "@enduml\r\n",
       "\n",
       "PlantUML version 1.2020.13(Sat Jun 13 12:26:38 UTC 2020)\n",
       "(EPL source distribution)\n",
       "Java Runtime: OpenJDK Runtime Environment\n",
       "JVM: OpenJDK 64-Bit Server VM\n",
       "Default Encoding: UTF-8\n",
       "Language: en\n",
       "Country: null\n",
       "--></g></svg>"
      ]
     },
     "execution_count": 26,
     "metadata": {},
     "output_type": "execute_result"
    }
   ],
   "source": [
    "%viz --style=\"STDCOLOR\" --view=\"Interconnection\" \"RequirementTest\""
   ]
  },
  {
   "cell_type": "code",
   "execution_count": 27,
   "id": "measured-engineering",
   "metadata": {
    "execution": {
     "iopub.execute_input": "2021-03-26T09:12:28.794436Z",
     "iopub.status.busy": "2021-03-26T09:12:28.794070Z",
     "iopub.status.idle": "2021-03-26T09:12:28.797452Z",
     "shell.execute_reply": "2021-03-26T09:12:28.797842Z"
    }
   },
   "outputs": [
    {
     "data": {
      "image/svg+xml": [
       "<?xml version=\"1.0\" encoding=\"UTF-8\" standalone=\"no\"?><svg xmlns=\"http://www.w3.org/2000/svg\" xmlns:xlink=\"http://www.w3.org/1999/xlink\" contentScriptType=\"application/ecmascript\" contentStyleType=\"text/css\" height=\"12px\" preserveAspectRatio=\"none\" style=\"width:12px;height:12px;\" version=\"1.1\" viewBox=\"0 0 12 12\" width=\"12px\" zoomAndPan=\"magnify\"><defs/><g><!--MD5=[9863325348a96a77dacc89509d8ee65e]\n",
       "@startuml\r\n",
       "skinparam ranksep 8\r\n",
       "skinparam wrapWidth 300\r\n",
       "hide circle\r\n",
       "\r\n",
       "@enduml\r\n",
       "\n",
       "PlantUML version 1.2020.13(Sat Jun 13 12:26:38 UTC 2020)\n",
       "(EPL source distribution)\n",
       "Java Runtime: OpenJDK Runtime Environment\n",
       "JVM: OpenJDK 64-Bit Server VM\n",
       "Default Encoding: UTF-8\n",
       "Language: en\n",
       "Country: null\n",
       "--></g></svg>"
      ]
     },
     "execution_count": 27,
     "metadata": {},
     "output_type": "execute_result"
    }
   ],
   "source": [
    "%viz --style=\"STDCOLOR\" --view=\"Action\" \"RequirementTest\""
   ]
  },
  {
   "cell_type": "code",
   "execution_count": 28,
   "id": "antique-wagner",
   "metadata": {
    "execution": {
     "iopub.execute_input": "2021-03-26T09:12:28.848265Z",
     "iopub.status.busy": "2021-03-26T09:12:28.847884Z",
     "iopub.status.idle": "2021-03-26T09:12:28.936366Z",
     "shell.execute_reply": "2021-03-26T09:12:28.934873Z"
    }
   },
   "outputs": [
    {
     "data": {
      "image/svg+xml": [
       "<?xml version=\"1.0\" encoding=\"UTF-8\" standalone=\"no\"?><svg xmlns=\"http://www.w3.org/2000/svg\" xmlns:xlink=\"http://www.w3.org/1999/xlink\" contentScriptType=\"application/ecmascript\" contentStyleType=\"text/css\" height=\"566px\" preserveAspectRatio=\"none\" style=\"width:470px;height:566px;\" version=\"1.1\" viewBox=\"0 0 470 566\" width=\"470px\" zoomAndPan=\"magnify\"><defs><filter height=\"300%\" id=\"f1mkhhj0soz1l4\" width=\"300%\" x=\"-1\" y=\"-1\"><feGaussianBlur result=\"blurOut\" stdDeviation=\"2.0\"/><feColorMatrix in=\"blurOut\" result=\"blurOut2\" type=\"matrix\" values=\"0 0 0 0 0 0 0 0 0 0 0 0 0 0 0 0 0 0 .4 0\"/><feOffset dx=\"4.0\" dy=\"4.0\" in=\"blurOut2\" result=\"blurOut3\"/><feBlend in=\"SourceGraphic\" in2=\"blurOut3\" mode=\"normal\"/></filter></defs><g><!--MD5=[fbc87193dbaf4d95561dea2c320d4a47]\n",
       "cluster E1--><a href=\"psysml:8aa028f5-1693-4b51-bff2-c94d0f18c930\" target=\"_top\" title=\"psysml:8aa028f5-1693-4b51-bff2-c94d0f18c930\" xlink:actuate=\"onRequest\" xlink:href=\"psysml:8aa028f5-1693-4b51-bff2-c94d0f18c930\" xlink:show=\"new\" xlink:title=\"psysml:8aa028f5-1693-4b51-bff2-c94d0f18c930\" xlink:type=\"simple\"><polygon fill=\"#FFFFFF\" filter=\"url(#f1mkhhj0soz1l4)\" points=\"16,6,158,6,165,28.2969,448,28.2969,448,554,16,554,16,6\" style=\"stroke: #000000; stroke-width: 1.5;\"/><line style=\"stroke: #000000; stroke-width: 1.5;\" x1=\"16\" x2=\"165\" y1=\"28.2969\" y2=\"28.2969\"/><text fill=\"#000000\" font-family=\"sans-serif\" font-size=\"14\" font-weight=\"bold\" lengthAdjust=\"spacingAndGlyphs\" textLength=\"136\" x=\"20\" y=\"20.9951\">RequirementTest</text></a><!--MD5=[b4997ac47864f28c2f74865a473b2911]\n",
       "class E2--><a href=\"psysml:27c2a771-07cf-4bde-9591-6030a1a15742\" target=\"_top\" title=\"psysml:27c2a771-07cf-4bde-9591-6030a1a15742\" xlink:actuate=\"onRequest\" xlink:href=\"psysml:27c2a771-07cf-4bde-9591-6030a1a15742\" xlink:show=\"new\" xlink:title=\"psysml:27c2a771-07cf-4bde-9591-6030a1a15742\" xlink:type=\"simple\"><rect fill=\"#FEFECE\" filter=\"url(#f1mkhhj0soz1l4)\" height=\"45.9375\" id=\"E2\" style=\"stroke: #A80036; stroke-width: 1.5;\" width=\"104\" x=\"328\" y=\"178\"/><text fill=\"#000000\" font-family=\"sans-serif\" font-size=\"12\" font-style=\"italic\" lengthAdjust=\"spacingAndGlyphs\" textLength=\"102\" x=\"329\" y=\"194.1387\">«constraint def»</text><text fill=\"#000000\" font-family=\"sans-serif\" font-size=\"12\" lengthAdjust=\"spacingAndGlyphs\" textLength=\"8\" x=\"376\" y=\"208.1074\">C</text><line style=\"stroke: #A80036; stroke-width: 1.5;\" x1=\"329\" x2=\"431\" y1=\"215.9375\" y2=\"215.9375\"/></a><!--MD5=[09b614a08d8cba4a07c9adeb5e0fee81]\n",
       "class E3--><a href=\"psysml:da02b217-f155-4220-a2dc-d840d0d24f86\" target=\"_top\" title=\"psysml:da02b217-f155-4220-a2dc-d840d0d24f86\" xlink:actuate=\"onRequest\" xlink:href=\"psysml:da02b217-f155-4220-a2dc-d840d0d24f86\" xlink:show=\"new\" xlink:title=\"psysml:da02b217-f155-4220-a2dc-d840d0d24f86\" xlink:type=\"simple\"><rect fill=\"#FEFECE\" filter=\"url(#f1mkhhj0soz1l4)\" height=\"45.9375\" id=\"E3\" rx=\"10\" ry=\"10\" style=\"stroke: #A80036; stroke-width: 1.5;\" width=\"80\" x=\"352\" y=\"56\"/><text fill=\"#000000\" font-family=\"sans-serif\" font-size=\"12\" font-style=\"italic\" lengthAdjust=\"spacingAndGlyphs\" textLength=\"78\" x=\"353\" y=\"72.1387\">«constraint»</text><text fill=\"#000000\" font-family=\"sans-serif\" font-size=\"12\" lengthAdjust=\"spacingAndGlyphs\" textLength=\"23\" x=\"380.5\" y=\"86.1074\">c: C</text><line style=\"stroke: #A80036; stroke-width: 1.5;\" x1=\"353\" x2=\"431\" y1=\"93.9375\" y2=\"93.9375\"/></a><!--MD5=[ebbe1d658d1005bcc118a6aa81145e00]\n",
       "class E4--><a href=\"psysml:b9a9d178-6ba0-415d-80bd-8d7e5aacf32f\" target=\"_top\" title=\"psysml:b9a9d178-6ba0-415d-80bd-8d7e5aacf32f\" xlink:actuate=\"onRequest\" xlink:href=\"psysml:b9a9d178-6ba0-415d-80bd-8d7e5aacf32f\" xlink:show=\"new\" xlink:title=\"psysml:b9a9d178-6ba0-415d-80bd-8d7e5aacf32f\" xlink:type=\"simple\"><rect fill=\"#FEFECE\" filter=\"url(#f1mkhhj0soz1l4)\" height=\"109.1563\" id=\"E4\" style=\"stroke: #A80036; stroke-width: 1.5;\" width=\"117\" x=\"32.5\" y=\"301\"/><text fill=\"#000000\" font-family=\"sans-serif\" font-size=\"12\" font-style=\"italic\" lengthAdjust=\"spacingAndGlyphs\" textLength=\"115\" x=\"33.5\" y=\"317.1387\">«requirement def»</text><text fill=\"#000000\" font-family=\"sans-serif\" font-size=\"12\" lengthAdjust=\"spacingAndGlyphs\" textLength=\"8\" x=\"87\" y=\"331.1074\">R</text><line style=\"stroke: #A80036; stroke-width: 1.5;\" x1=\"33.5\" x2=\"148.5\" y1=\"338.9375\" y2=\"338.9375\"/><text fill=\"#000000\" font-family=\"sans-serif\" font-size=\"11\" lengthAdjust=\"spacingAndGlyphs\" textLength=\"0\" x=\"42.5\" y=\"353.1479\"/><line style=\"stroke: #A80036; stroke-width: 1.0;\" x1=\"33.5\" x2=\"148.5\" y1=\"359.7422\" y2=\"359.7422\"/><text fill=\"#000000\" font-family=\"sans-serif\" font-size=\"11\" font-weight=\"bold\" lengthAdjust=\"spacingAndGlyphs\" textLength=\"46\" x=\"38.5\" y=\"390.7573\">require</text><text fill=\"#000000\" font-family=\"sans-serif\" font-size=\"11\" lengthAdjust=\"spacingAndGlyphs\" textLength=\"6\" x=\"88.5\" y=\"390.7573\">c</text><text fill=\"#000000\" font-family=\"sans-serif\" font-size=\"11\" font-style=\"italic\" lengthAdjust=\"spacingAndGlyphs\" textLength=\"46\" x=\"38.5\" y=\"403.562\">assume</text><text fill=\"#000000\" font-family=\"sans-serif\" font-size=\"11\" lengthAdjust=\"spacingAndGlyphs\" textLength=\"29\" x=\"88.5\" y=\"403.562\">c1: C</text><line style=\"stroke: #A80036; stroke-width: 1.0;\" x1=\"33.5\" x2=\"59\" y1=\"374.1445\" y2=\"374.1445\"/><text fill=\"#000000\" font-family=\"sans-serif\" font-size=\"11\" lengthAdjust=\"spacingAndGlyphs\" textLength=\"64\" x=\"59\" y=\"377.4526\">constraints</text><line style=\"stroke: #A80036; stroke-width: 1.0;\" x1=\"123\" x2=\"148.5\" y1=\"374.1445\" y2=\"374.1445\"/></a><!--MD5=[270fce915f116d4de14055a7c1d9a0f3]\n",
       "class E5--><a href=\"psysml:5c4fbfc6-6feb-457a-9610-da755776e124\" target=\"_top\" title=\"psysml:5c4fbfc6-6feb-457a-9610-da755776e124\" xlink:actuate=\"onRequest\" xlink:href=\"psysml:5c4fbfc6-6feb-457a-9610-da755776e124\" xlink:show=\"new\" xlink:title=\"psysml:5c4fbfc6-6feb-457a-9610-da755776e124\" xlink:type=\"simple\"><rect fill=\"#FEFECE\" filter=\"url(#f1mkhhj0soz1l4)\" height=\"66.7422\" id=\"E5\" style=\"stroke: #A80036; stroke-width: 1.5;\" width=\"117\" x=\"32.5\" y=\"471\"/><text fill=\"#000000\" font-family=\"sans-serif\" font-size=\"12\" font-style=\"italic\" lengthAdjust=\"spacingAndGlyphs\" textLength=\"115\" x=\"33.5\" y=\"487.1387\">«requirement def»</text><text fill=\"#000000\" font-family=\"sans-serif\" font-size=\"12\" lengthAdjust=\"spacingAndGlyphs\" textLength=\"5\" x=\"78\" y=\"501.1074\">[</text><text fill=\"#000000\" font-family=\"sans-serif\" font-size=\"12\" font-weight=\"bold\" lengthAdjust=\"spacingAndGlyphs\" textLength=\"8\" x=\"83\" y=\"501.1074\">1</text><text fill=\"#000000\" font-family=\"sans-serif\" font-size=\"12\" lengthAdjust=\"spacingAndGlyphs\" textLength=\"17\" x=\"91\" y=\"501.1074\">] A</text><line style=\"stroke: #A80036; stroke-width: 1.5;\" x1=\"33.5\" x2=\"148.5\" y1=\"508.9375\" y2=\"508.9375\"/><text fill=\"#000000\" font-family=\"sans-serif\" font-size=\"11\" lengthAdjust=\"spacingAndGlyphs\" textLength=\"24\" x=\"38.5\" y=\"523.1479\">Text</text><line style=\"stroke: #A80036; stroke-width: 1.0;\" x1=\"33.5\" x2=\"148.5\" y1=\"529.7422\" y2=\"529.7422\"/></a><!--MD5=[b9389687b975829384b498ac4b7476b2]\n",
       "class E8--><a href=\"psysml:577c6bec-7675-4e65-a136-10b226b9020a\" target=\"_top\" title=\"psysml:577c6bec-7675-4e65-a136-10b226b9020a\" xlink:actuate=\"onRequest\" xlink:href=\"psysml:577c6bec-7675-4e65-a136-10b226b9020a\" xlink:show=\"new\" xlink:title=\"psysml:577c6bec-7675-4e65-a136-10b226b9020a\" xlink:type=\"simple\"><rect fill=\"#FEFECE\" filter=\"url(#f1mkhhj0soz1l4)\" height=\"45.9375\" id=\"E8\" rx=\"10\" ry=\"10\" style=\"stroke: #A80036; stroke-width: 1.5;\" width=\"93\" x=\"184.5\" y=\"481.5\"/><text fill=\"#000000\" font-family=\"sans-serif\" font-size=\"12\" font-style=\"italic\" lengthAdjust=\"spacingAndGlyphs\" textLength=\"91\" x=\"185.5\" y=\"497.6387\">«requirement»</text><text fill=\"#000000\" font-family=\"sans-serif\" font-size=\"12\" lengthAdjust=\"spacingAndGlyphs\" text-decoration=\"line-through\" textLength=\"51\" x=\"205.5\" y=\"511.6074\">noname</text><line style=\"stroke: #A80036; stroke-width: 1.5;\" x1=\"185.5\" x2=\"276.5\" y1=\"519.4375\" y2=\"519.4375\"/></a><!--MD5=[fd4143e9d270a159db93a4ea2a975926]\n",
       "class E9--><a href=\"psysml:291c6c45-8332-45a6-809f-574961a49898\" target=\"_top\" title=\"psysml:291c6c45-8332-45a6-809f-574961a49898\" xlink:actuate=\"onRequest\" xlink:href=\"psysml:291c6c45-8332-45a6-809f-574961a49898\" xlink:show=\"new\" xlink:title=\"psysml:291c6c45-8332-45a6-809f-574961a49898\" xlink:type=\"simple\"><rect fill=\"#FEFECE\" filter=\"url(#f1mkhhj0soz1l4)\" height=\"76.4922\" id=\"E9\" style=\"stroke: #A80036; stroke-width: 1.5;\" width=\"207\" x=\"109.5\" y=\"41\"/><text fill=\"#000000\" font-family=\"sans-serif\" font-size=\"12\" font-style=\"italic\" lengthAdjust=\"spacingAndGlyphs\" textLength=\"115\" x=\"155.5\" y=\"57.1387\">«requirement def»</text><text fill=\"#000000\" font-family=\"sans-serif\" font-size=\"12\" lengthAdjust=\"spacingAndGlyphs\" textLength=\"16\" x=\"205\" y=\"71.1074\">R1</text><line style=\"stroke: #A80036; stroke-width: 1.5;\" x1=\"110.5\" x2=\"315.5\" y1=\"78.9375\" y2=\"78.9375\"/><text fill=\"#000000\" font-family=\"sans-serif\" font-size=\"11\" font-weight=\"bold\" lengthAdjust=\"spacingAndGlyphs\" textLength=\"46\" x=\"115.5\" y=\"110.8979\">require</text><text fill=\"#000000\" font-family=\"sans-serif\" font-size=\"11\" lengthAdjust=\"spacingAndGlyphs\" textLength=\"0\" x=\"165.5\" y=\"110.8979\"/><path d=\"M167.4167,100.6589 L167.4167,109.8255 L168.3333,109.8255 L168.3333,100.6589 M171.0833,100.6589 L171.0833,109.8255 L178.4167,105.2422 L171.0833,100.6589 L172,102.0339 L177.0417,105.2422 L172,108.4505 L172,102.0339 \" fill=\"#000000\" style=\"stroke: ; stroke-width: 0.0; stroke-dasharray: ;\"/><text fill=\"#000000\" font-family=\"sans-serif\" font-size=\"11\" lengthAdjust=\"spacingAndGlyphs\" textLength=\"13\" x=\"182.5\" y=\"110.8979\">c1</text><text fill=\"#000000\" font-family=\"sans-serif\" font-size=\"11\" lengthAdjust=\"spacingAndGlyphs\" text-decoration=\"line-through\" textLength=\"111\" x=\"199.5\" y=\"110.8979\">RequirementTest::c</text><line style=\"stroke: #A80036; stroke-width: 1.0;\" x1=\"110.5\" x2=\"181\" y1=\"93.3398\" y2=\"93.3398\"/><text fill=\"#000000\" font-family=\"sans-serif\" font-size=\"11\" lengthAdjust=\"spacingAndGlyphs\" textLength=\"64\" x=\"181\" y=\"96.6479\">constraints</text><line style=\"stroke: #A80036; stroke-width: 1.0;\" x1=\"245\" x2=\"315.5\" y1=\"93.3398\" y2=\"93.3398\"/></a><!--MD5=[1dd1bfd58a279cf63c5f349dbc8fc6a1]\n",
       "class E11--><a href=\"psysml:b7118396-8822-4234-af4f-531e34fd2b85\" target=\"_top\" title=\"psysml:b7118396-8822-4234-af4f-531e34fd2b85\" xlink:actuate=\"onRequest\" xlink:href=\"psysml:b7118396-8822-4234-af4f-531e34fd2b85\" xlink:show=\"new\" xlink:title=\"psysml:b7118396-8822-4234-af4f-531e34fd2b85\" xlink:type=\"simple\"><rect fill=\"#FEFECE\" filter=\"url(#f1mkhhj0soz1l4)\" height=\"45.9375\" id=\"E11\" rx=\"10\" ry=\"10\" style=\"stroke: #A80036; stroke-width: 1.5;\" width=\"42\" x=\"185\" y=\"332.5\"/><text fill=\"#000000\" font-family=\"sans-serif\" font-size=\"12\" font-style=\"italic\" lengthAdjust=\"spacingAndGlyphs\" textLength=\"40\" x=\"186\" y=\"348.6387\">«part»</text><text fill=\"#000000\" font-family=\"sans-serif\" font-size=\"12\" lengthAdjust=\"spacingAndGlyphs\" textLength=\"8\" x=\"202\" y=\"362.6074\">p</text><line style=\"stroke: #A80036; stroke-width: 1.5;\" x1=\"186\" x2=\"226\" y1=\"370.4375\" y2=\"370.4375\"/></a><!--MD5=[49a0ec8f00dab7302a31f22d0f0fe584]\n",
       "class E12--><a href=\"psysml:5710aa92-7822-41e6-89ae-9d2d61cb8bf3\" target=\"_top\" title=\"psysml:5710aa92-7822-41e6-89ae-9d2d61cb8bf3\" xlink:actuate=\"onRequest\" xlink:href=\"psysml:5710aa92-7822-41e6-89ae-9d2d61cb8bf3\" xlink:show=\"new\" xlink:title=\"psysml:5710aa92-7822-41e6-89ae-9d2d61cb8bf3\" xlink:type=\"simple\"><rect fill=\"#FEFECE\" filter=\"url(#f1mkhhj0soz1l4)\" height=\"45.9375\" id=\"E12\" rx=\"10\" ry=\"10\" style=\"stroke: #A80036; stroke-width: 1.5;\" width=\"42\" x=\"32\" y=\"56\"/><text fill=\"#000000\" font-family=\"sans-serif\" font-size=\"12\" font-style=\"italic\" lengthAdjust=\"spacingAndGlyphs\" textLength=\"40\" x=\"33\" y=\"72.1387\">«part»</text><text fill=\"#000000\" font-family=\"sans-serif\" font-size=\"12\" lengthAdjust=\"spacingAndGlyphs\" textLength=\"8\" x=\"49\" y=\"86.1074\">q</text><line style=\"stroke: #A80036; stroke-width: 1.5;\" x1=\"33\" x2=\"73\" y1=\"93.9375\" y2=\"93.9375\"/></a><!--MD5=[ee3c913d1a06f366521f9ef512b67efe]\n",
       "class E13--><a href=\"psysml:b72900fb-e3ca-4439-ac22-acb3bf892de5\" target=\"_top\" title=\"psysml:b72900fb-e3ca-4439-ac22-acb3bf892de5\" xlink:actuate=\"onRequest\" xlink:href=\"psysml:b72900fb-e3ca-4439-ac22-acb3bf892de5\" xlink:show=\"new\" xlink:title=\"psysml:b72900fb-e3ca-4439-ac22-acb3bf892de5\" xlink:type=\"simple\"><rect fill=\"#FEFECE\" filter=\"url(#f1mkhhj0soz1l4)\" height=\"45.9375\" id=\"E13\" rx=\"10\" ry=\"10\" style=\"stroke: #A80036; stroke-width: 1.5;\" width=\"93\" x=\"44.5\" y=\"178\"/><text fill=\"#000000\" font-family=\"sans-serif\" font-size=\"12\" font-style=\"italic\" lengthAdjust=\"spacingAndGlyphs\" textLength=\"91\" x=\"45.5\" y=\"194.1387\">«requirement»</text><text fill=\"#000000\" font-family=\"sans-serif\" font-size=\"12\" lengthAdjust=\"spacingAndGlyphs\" textLength=\"21\" x=\"80.5\" y=\"208.1074\">r: R</text><line style=\"stroke: #A80036; stroke-width: 1.5;\" x1=\"45.5\" x2=\"136.5\" y1=\"215.9375\" y2=\"215.9375\"/></a><!--MD5=[05d275557350bfb9b23a4ef7222b4c39]\n",
       "link E3 to E2--><a href=\"psysml:8b4534c8-c65f-4721-aa95-1aefa1ee4858\" target=\"_top\" title=\"psysml:8b4534c8-c65f-4721-aa95-1aefa1ee4858\" xlink:actuate=\"onRequest\" xlink:href=\"psysml:8b4534c8-c65f-4721-aa95-1aefa1ee4858\" xlink:show=\"new\" xlink:title=\"psysml:8b4534c8-c65f-4721-aa95-1aefa1ee4858\" xlink:type=\"simple\"><path d=\"M389.8,102.01 C388.24,117.56 386.11,138.89 384.23,157.68 \" fill=\"none\" id=\"E3-&gt;E2\" style=\"stroke: #A80036; stroke-width: 1.0;\"/><polygon fill=\"#FFFFFF\" points=\"382.23,177.72,377.1511,158.1188,391.0819,159.5089,382.23,177.72\" style=\"stroke: #A80036; stroke-width: 1.0;\"/><ellipse cx=\"379.7072\" cy=\"152.6456\" fill=\"#A80036\" rx=\"2\" ry=\"2\" style=\"stroke: #A80036; stroke-width: 1.0;\"/><ellipse cx=\"389.6578\" cy=\"153.6385\" fill=\"#A80036\" rx=\"2\" ry=\"2\" style=\"stroke: #A80036; stroke-width: 1.0;\"/></a><!--MD5=[62aa6af11e70f752912c1cb0466f24f7]\n",
       "reverse link E4 to E5--><a href=\"psysml:5c4fbfc6-6feb-457a-9610-da755776e124\" target=\"_top\" title=\"psysml:5c4fbfc6-6feb-457a-9610-da755776e124\" xlink:actuate=\"onRequest\" xlink:href=\"psysml:5c4fbfc6-6feb-457a-9610-da755776e124\" xlink:show=\"new\" xlink:title=\"psysml:5c4fbfc6-6feb-457a-9610-da755776e124\" xlink:type=\"simple\"><path d=\"M91,425.45 C91,441.34 91,457.51 91,470.98 \" fill=\"none\" id=\"E4&lt;-E5\" style=\"stroke: #A80036; stroke-width: 1.0;\"/><ellipse cx=\"91\" cy=\"418.4\" fill=\"#FFFFFF\" rx=\"8\" ry=\"8\" style=\"stroke: #A80036; stroke-width: 1.0;\"/><line style=\"stroke: #A80036; stroke-width: 1.0;\" x1=\"91\" x2=\"91\" y1=\"426.4\" y2=\"410.4\"/><line style=\"stroke: #A80036; stroke-width: 1.0;\" x1=\"83\" x2=\"99\" y1=\"418.4\" y2=\"418.4\"/></a><!--MD5=[c6fc7cdb0cabde04948078cf183fa696]\n",
       "reverse link E4 to E8--><a href=\"psysml:577c6bec-7675-4e65-a136-10b226b9020a\" target=\"_top\" title=\"psysml:577c6bec-7675-4e65-a136-10b226b9020a\" xlink:actuate=\"onRequest\" xlink:href=\"psysml:577c6bec-7675-4e65-a136-10b226b9020a\" xlink:show=\"new\" xlink:title=\"psysml:577c6bec-7675-4e65-a136-10b226b9020a\" xlink:type=\"simple\"><path d=\"M151.51,420.04 C172.42,441.99 194.47,465.14 210.03,481.48 \" fill=\"none\" id=\"E4&lt;-E8\" style=\"stroke: #A80036; stroke-width: 1.0;\"/><polygon fill=\"#A80036\" points=\"142.34,410.4,143.5779,417.5041,150.6116,419.0937,149.3737,411.9897,142.34,410.4\" style=\"stroke: #A80036; stroke-width: 1.0;\"/></a><!--MD5=[062ed86c389d1a88f61c6380d0491e17]\n",
       "reverse link E12 to E13--><a href=\"psysml:b72900fb-e3ca-4439-ac22-acb3bf892de5\" target=\"_top\" title=\"psysml:b72900fb-e3ca-4439-ac22-acb3bf892de5\" xlink:actuate=\"onRequest\" xlink:href=\"psysml:b72900fb-e3ca-4439-ac22-acb3bf892de5\" xlink:show=\"new\" xlink:title=\"psysml:b72900fb-e3ca-4439-ac22-acb3bf892de5\" xlink:type=\"simple\"><path d=\"M63.94,114.55 C70.38,134.88 78.33,160 83.95,177.72 \" fill=\"none\" id=\"E12&lt;-E13\" style=\"stroke: #A80036; stroke-width: 1.0;\"/><polygon fill=\"#A80036\" points=\"59.97,102.01,57.9712,108.9386,63.5981,113.4484,65.5968,106.5198,59.97,102.01\" style=\"stroke: #A80036; stroke-width: 1.0;\"/></a><!--MD5=[017847e01ff9a8bd19f247411074f987]\n",
       "link E13 to E4--><a href=\"psysml:ed6e641a-605b-4ed9-9064-d41509e7ab16\" target=\"_top\" title=\"psysml:ed6e641a-605b-4ed9-9064-d41509e7ab16\" xlink:actuate=\"onRequest\" xlink:href=\"psysml:ed6e641a-605b-4ed9-9064-d41509e7ab16\" xlink:show=\"new\" xlink:title=\"psysml:ed6e641a-605b-4ed9-9064-d41509e7ab16\" xlink:type=\"simple\"><path d=\"M91,224.17 C91,239.17 91,259.91 91,280.44 \" fill=\"none\" id=\"E13-&gt;E4\" style=\"stroke: #A80036; stroke-width: 1.0;\"/><polygon fill=\"#FFFFFF\" points=\"91,300.68,84,281.68,98,281.68,91,300.68\" style=\"stroke: #A80036; stroke-width: 1.0;\"/><ellipse cx=\"86\" cy=\"275.98\" fill=\"#A80036\" rx=\"2\" ry=\"2\" style=\"stroke: #A80036; stroke-width: 1.0;\"/><ellipse cx=\"96\" cy=\"275.98\" fill=\"#A80036\" rx=\"2\" ry=\"2\" style=\"stroke: #A80036; stroke-width: 1.0;\"/></a><!--MD5=[2cfe899c895462254056921bfb67315f]\n",
       "link E13 to E11--><a href=\"psysml:11f1a2a5-a4e7-4875-8b16-7052fd317758\" target=\"_top\" title=\"psysml:11f1a2a5-a4e7-4875-8b16-7052fd317758\" xlink:actuate=\"onRequest\" xlink:href=\"psysml:11f1a2a5-a4e7-4875-8b16-7052fd317758\" xlink:show=\"new\" xlink:title=\"psysml:11f1a2a5-a4e7-4875-8b16-7052fd317758\" xlink:type=\"simple\"><path d=\"M108.36,224.29 C123.87,244.28 147.14,274.45 167,301 C173.57,309.78 180.66,319.44 186.97,328.12 \" fill=\"none\" id=\"E13-&gt;E11\" style=\"stroke: #A80036; stroke-width: 1.0; stroke-dasharray: 7.0,7.0;\"/><polygon fill=\"#A80036\" points=\"189.99,332.28,187.9274,322.6496,187.0474,328.2376,181.4594,327.3576,189.99,332.28\" style=\"stroke: #A80036; stroke-width: 1.0;\"/><text fill=\"#000000\" font-family=\"sans-serif\" font-size=\"13\" lengthAdjust=\"spacingAndGlyphs\" textLength=\"57\" x=\"145\" y=\"267.0669\">«satisfy»</text></a><!--MD5=[41444e1cf88fc8fe703d901eebd6b40e]\n",
       "@startuml\r\n",
       "skinparam wrapWidth 300\r\n",
       "hide circle\r\n",
       "\r\n",
       "package \"RequirementTest\" as E1  [[psysml:8aa028f5-1693-4b51-bff2-c94d0f18c930 ]]  {\r\n",
       "comp def \"C\" as E2  <<(T,blue)constraint def>> [[psysml:27c2a771-07cf-4bde-9591-6030a1a15742 ]] {\r\n",
       "}\r\n",
       "comp usage \"c: C\" as E3  <<(T,blue)constraint>> [[psysml:da02b217-f155-4220-a2dc-d840d0d24f86 ]] {\r\n",
       "}\r\n",
       "comp def \"R\" as E4  <<(T,blue)requirement def>> [[psysml:b9a9d178-6ba0-415d-80bd-8d7e5aacf32f ]] {\r\n",
       "\r\n",
       "- -\r\n",
       "- - constraints - -\r\n",
       "<b>require</b> c\r\n",
       "<i>assume</i> c1: C\r\n",
       "}\r\n",
       "comp def \" [<b>1</b>] A\" as E5  <<(T,blue)requirement def>> [[psysml:5c4fbfc6-6feb-457a-9610-da755776e124 ]] {\r\n",
       "Text\r\n",
       "- -\r\n",
       "}\r\n",
       "comp usage \"<s>noname</s>\" as E8  <<(T,blue)requirement>> [[psysml:577c6bec-7675-4e65-a136-10b226b9020a ]] {\r\n",
       "}\r\n",
       "comp def \"R1\" as E9  <<(T,blue)requirement def>> [[psysml:291c6c45-8332-45a6-809f-574961a49898 ]] {\r\n",
       "- - constraints - -\r\n",
       "<b>require</b> <&bar-trig> c1 <s>RequirementTest::c</s>\r\n",
       "}\r\n",
       "comp usage \"p\" as E11  <<(T,blue)part>> [[psysml:b7118396-8822-4234-af4f-531e34fd2b85 ]] {\r\n",
       "}\r\n",
       "comp usage \"q\" as E12  <<(T,blue)part>> [[psysml:5710aa92-7822-41e6-89ae-9d2d61cb8bf3 ]] {\r\n",
       "}\r\n",
       "comp usage \"r: R\" as E13  <<(T,blue)requirement>> [[psysml:b72900fb-e3ca-4439-ac22-acb3bf892de5 ]] {\r\n",
       "}\r\n",
       "E3 - -:|> E2 [[psysml:8b4534c8-c65f-4721-aa95-1aefa1ee4858 ]] \r\n",
       "E4 +- - E5 [[psysml:5c4fbfc6-6feb-457a-9610-da755776e124 ]] \r\n",
       "E4 *- - E8 [[psysml:577c6bec-7675-4e65-a136-10b226b9020a ]] \r\n",
       "E12 *- - E13 [[psysml:b72900fb-e3ca-4439-ac22-acb3bf892de5 ]] \r\n",
       "E13 - -:|> E4 [[psysml:ed6e641a-605b-4ed9-9064-d41509e7ab16 ]] \r\n",
       "E13 ..> E11 [[psysml:11f1a2a5-a4e7-4875-8b16-7052fd317758 ]] : <<satisfy>>\r\n",
       "}\r\n",
       "@enduml\r\n",
       "\n",
       "PlantUML version 1.2020.13(Sat Jun 13 12:26:38 UTC 2020)\n",
       "(EPL source distribution)\n",
       "Java Runtime: OpenJDK Runtime Environment\n",
       "JVM: OpenJDK 64-Bit Server VM\n",
       "Default Encoding: UTF-8\n",
       "Language: en\n",
       "Country: null\n",
       "--></g></svg>"
      ]
     },
     "execution_count": 28,
     "metadata": {},
     "output_type": "execute_result"
    }
   ],
   "source": [
    "%viz --style=\"STDCOLOR\" --view=\"Sequence\" \"RequirementTest\""
   ]
  },
  {
   "cell_type": "code",
   "execution_count": 29,
   "id": "animal-power",
   "metadata": {
    "execution": {
     "iopub.execute_input": "2021-03-26T09:12:28.988329Z",
     "iopub.status.busy": "2021-03-26T09:12:28.987132Z",
     "iopub.status.idle": "2021-03-26T09:12:29.082835Z",
     "shell.execute_reply": "2021-03-26T09:12:29.083200Z"
    }
   },
   "outputs": [
    {
     "data": {
      "image/svg+xml": [
       "<?xml version=\"1.0\" encoding=\"UTF-8\" standalone=\"no\"?><svg xmlns=\"http://www.w3.org/2000/svg\" xmlns:xlink=\"http://www.w3.org/1999/xlink\" contentScriptType=\"application/ecmascript\" contentStyleType=\"text/css\" height=\"566px\" preserveAspectRatio=\"none\" style=\"width:470px;height:566px;\" version=\"1.1\" viewBox=\"0 0 470 566\" width=\"470px\" zoomAndPan=\"magnify\"><defs><filter height=\"300%\" id=\"f1mkhhj0soz1l4\" width=\"300%\" x=\"-1\" y=\"-1\"><feGaussianBlur result=\"blurOut\" stdDeviation=\"2.0\"/><feColorMatrix in=\"blurOut\" result=\"blurOut2\" type=\"matrix\" values=\"0 0 0 0 0 0 0 0 0 0 0 0 0 0 0 0 0 0 .4 0\"/><feOffset dx=\"4.0\" dy=\"4.0\" in=\"blurOut2\" result=\"blurOut3\"/><feBlend in=\"SourceGraphic\" in2=\"blurOut3\" mode=\"normal\"/></filter></defs><g><!--MD5=[fbc87193dbaf4d95561dea2c320d4a47]\n",
       "cluster E1--><a href=\"psysml:8aa028f5-1693-4b51-bff2-c94d0f18c930\" target=\"_top\" title=\"psysml:8aa028f5-1693-4b51-bff2-c94d0f18c930\" xlink:actuate=\"onRequest\" xlink:href=\"psysml:8aa028f5-1693-4b51-bff2-c94d0f18c930\" xlink:show=\"new\" xlink:title=\"psysml:8aa028f5-1693-4b51-bff2-c94d0f18c930\" xlink:type=\"simple\"><polygon fill=\"#FFFFFF\" filter=\"url(#f1mkhhj0soz1l4)\" points=\"16,6,158,6,165,28.2969,448,28.2969,448,554,16,554,16,6\" style=\"stroke: #000000; stroke-width: 1.5;\"/><line style=\"stroke: #000000; stroke-width: 1.5;\" x1=\"16\" x2=\"165\" y1=\"28.2969\" y2=\"28.2969\"/><text fill=\"#000000\" font-family=\"sans-serif\" font-size=\"14\" font-weight=\"bold\" lengthAdjust=\"spacingAndGlyphs\" textLength=\"136\" x=\"20\" y=\"20.9951\">RequirementTest</text></a><!--MD5=[b4997ac47864f28c2f74865a473b2911]\n",
       "class E2--><a href=\"psysml:27c2a771-07cf-4bde-9591-6030a1a15742\" target=\"_top\" title=\"psysml:27c2a771-07cf-4bde-9591-6030a1a15742\" xlink:actuate=\"onRequest\" xlink:href=\"psysml:27c2a771-07cf-4bde-9591-6030a1a15742\" xlink:show=\"new\" xlink:title=\"psysml:27c2a771-07cf-4bde-9591-6030a1a15742\" xlink:type=\"simple\"><rect fill=\"#FEFECE\" filter=\"url(#f1mkhhj0soz1l4)\" height=\"45.9375\" id=\"E2\" style=\"stroke: #A80036; stroke-width: 1.5;\" width=\"104\" x=\"328\" y=\"178\"/><text fill=\"#000000\" font-family=\"sans-serif\" font-size=\"12\" font-style=\"italic\" lengthAdjust=\"spacingAndGlyphs\" textLength=\"102\" x=\"329\" y=\"194.1387\">«constraint def»</text><text fill=\"#000000\" font-family=\"sans-serif\" font-size=\"12\" lengthAdjust=\"spacingAndGlyphs\" textLength=\"8\" x=\"376\" y=\"208.1074\">C</text><line style=\"stroke: #A80036; stroke-width: 1.5;\" x1=\"329\" x2=\"431\" y1=\"215.9375\" y2=\"215.9375\"/></a><!--MD5=[09b614a08d8cba4a07c9adeb5e0fee81]\n",
       "class E3--><a href=\"psysml:da02b217-f155-4220-a2dc-d840d0d24f86\" target=\"_top\" title=\"psysml:da02b217-f155-4220-a2dc-d840d0d24f86\" xlink:actuate=\"onRequest\" xlink:href=\"psysml:da02b217-f155-4220-a2dc-d840d0d24f86\" xlink:show=\"new\" xlink:title=\"psysml:da02b217-f155-4220-a2dc-d840d0d24f86\" xlink:type=\"simple\"><rect fill=\"#FEFECE\" filter=\"url(#f1mkhhj0soz1l4)\" height=\"45.9375\" id=\"E3\" rx=\"10\" ry=\"10\" style=\"stroke: #A80036; stroke-width: 1.5;\" width=\"80\" x=\"352\" y=\"56\"/><text fill=\"#000000\" font-family=\"sans-serif\" font-size=\"12\" font-style=\"italic\" lengthAdjust=\"spacingAndGlyphs\" textLength=\"78\" x=\"353\" y=\"72.1387\">«constraint»</text><text fill=\"#000000\" font-family=\"sans-serif\" font-size=\"12\" lengthAdjust=\"spacingAndGlyphs\" textLength=\"23\" x=\"380.5\" y=\"86.1074\">c: C</text><line style=\"stroke: #A80036; stroke-width: 1.5;\" x1=\"353\" x2=\"431\" y1=\"93.9375\" y2=\"93.9375\"/></a><!--MD5=[ebbe1d658d1005bcc118a6aa81145e00]\n",
       "class E4--><a href=\"psysml:b9a9d178-6ba0-415d-80bd-8d7e5aacf32f\" target=\"_top\" title=\"psysml:b9a9d178-6ba0-415d-80bd-8d7e5aacf32f\" xlink:actuate=\"onRequest\" xlink:href=\"psysml:b9a9d178-6ba0-415d-80bd-8d7e5aacf32f\" xlink:show=\"new\" xlink:title=\"psysml:b9a9d178-6ba0-415d-80bd-8d7e5aacf32f\" xlink:type=\"simple\"><rect fill=\"#FEFECE\" filter=\"url(#f1mkhhj0soz1l4)\" height=\"109.1563\" id=\"E4\" style=\"stroke: #A80036; stroke-width: 1.5;\" width=\"117\" x=\"32.5\" y=\"301\"/><text fill=\"#000000\" font-family=\"sans-serif\" font-size=\"12\" font-style=\"italic\" lengthAdjust=\"spacingAndGlyphs\" textLength=\"115\" x=\"33.5\" y=\"317.1387\">«requirement def»</text><text fill=\"#000000\" font-family=\"sans-serif\" font-size=\"12\" lengthAdjust=\"spacingAndGlyphs\" textLength=\"8\" x=\"87\" y=\"331.1074\">R</text><line style=\"stroke: #A80036; stroke-width: 1.5;\" x1=\"33.5\" x2=\"148.5\" y1=\"338.9375\" y2=\"338.9375\"/><text fill=\"#000000\" font-family=\"sans-serif\" font-size=\"11\" lengthAdjust=\"spacingAndGlyphs\" textLength=\"0\" x=\"42.5\" y=\"353.1479\"/><line style=\"stroke: #A80036; stroke-width: 1.0;\" x1=\"33.5\" x2=\"148.5\" y1=\"359.7422\" y2=\"359.7422\"/><text fill=\"#000000\" font-family=\"sans-serif\" font-size=\"11\" font-weight=\"bold\" lengthAdjust=\"spacingAndGlyphs\" textLength=\"46\" x=\"38.5\" y=\"390.7573\">require</text><text fill=\"#000000\" font-family=\"sans-serif\" font-size=\"11\" lengthAdjust=\"spacingAndGlyphs\" textLength=\"6\" x=\"88.5\" y=\"390.7573\">c</text><text fill=\"#000000\" font-family=\"sans-serif\" font-size=\"11\" font-style=\"italic\" lengthAdjust=\"spacingAndGlyphs\" textLength=\"46\" x=\"38.5\" y=\"403.562\">assume</text><text fill=\"#000000\" font-family=\"sans-serif\" font-size=\"11\" lengthAdjust=\"spacingAndGlyphs\" textLength=\"29\" x=\"88.5\" y=\"403.562\">c1: C</text><line style=\"stroke: #A80036; stroke-width: 1.0;\" x1=\"33.5\" x2=\"59\" y1=\"374.1445\" y2=\"374.1445\"/><text fill=\"#000000\" font-family=\"sans-serif\" font-size=\"11\" lengthAdjust=\"spacingAndGlyphs\" textLength=\"64\" x=\"59\" y=\"377.4526\">constraints</text><line style=\"stroke: #A80036; stroke-width: 1.0;\" x1=\"123\" x2=\"148.5\" y1=\"374.1445\" y2=\"374.1445\"/></a><!--MD5=[270fce915f116d4de14055a7c1d9a0f3]\n",
       "class E5--><a href=\"psysml:5c4fbfc6-6feb-457a-9610-da755776e124\" target=\"_top\" title=\"psysml:5c4fbfc6-6feb-457a-9610-da755776e124\" xlink:actuate=\"onRequest\" xlink:href=\"psysml:5c4fbfc6-6feb-457a-9610-da755776e124\" xlink:show=\"new\" xlink:title=\"psysml:5c4fbfc6-6feb-457a-9610-da755776e124\" xlink:type=\"simple\"><rect fill=\"#FEFECE\" filter=\"url(#f1mkhhj0soz1l4)\" height=\"66.7422\" id=\"E5\" style=\"stroke: #A80036; stroke-width: 1.5;\" width=\"117\" x=\"32.5\" y=\"471\"/><text fill=\"#000000\" font-family=\"sans-serif\" font-size=\"12\" font-style=\"italic\" lengthAdjust=\"spacingAndGlyphs\" textLength=\"115\" x=\"33.5\" y=\"487.1387\">«requirement def»</text><text fill=\"#000000\" font-family=\"sans-serif\" font-size=\"12\" lengthAdjust=\"spacingAndGlyphs\" textLength=\"5\" x=\"78\" y=\"501.1074\">[</text><text fill=\"#000000\" font-family=\"sans-serif\" font-size=\"12\" font-weight=\"bold\" lengthAdjust=\"spacingAndGlyphs\" textLength=\"8\" x=\"83\" y=\"501.1074\">1</text><text fill=\"#000000\" font-family=\"sans-serif\" font-size=\"12\" lengthAdjust=\"spacingAndGlyphs\" textLength=\"17\" x=\"91\" y=\"501.1074\">] A</text><line style=\"stroke: #A80036; stroke-width: 1.5;\" x1=\"33.5\" x2=\"148.5\" y1=\"508.9375\" y2=\"508.9375\"/><text fill=\"#000000\" font-family=\"sans-serif\" font-size=\"11\" lengthAdjust=\"spacingAndGlyphs\" textLength=\"24\" x=\"38.5\" y=\"523.1479\">Text</text><line style=\"stroke: #A80036; stroke-width: 1.0;\" x1=\"33.5\" x2=\"148.5\" y1=\"529.7422\" y2=\"529.7422\"/></a><!--MD5=[b9389687b975829384b498ac4b7476b2]\n",
       "class E8--><a href=\"psysml:577c6bec-7675-4e65-a136-10b226b9020a\" target=\"_top\" title=\"psysml:577c6bec-7675-4e65-a136-10b226b9020a\" xlink:actuate=\"onRequest\" xlink:href=\"psysml:577c6bec-7675-4e65-a136-10b226b9020a\" xlink:show=\"new\" xlink:title=\"psysml:577c6bec-7675-4e65-a136-10b226b9020a\" xlink:type=\"simple\"><rect fill=\"#FEFECE\" filter=\"url(#f1mkhhj0soz1l4)\" height=\"45.9375\" id=\"E8\" rx=\"10\" ry=\"10\" style=\"stroke: #A80036; stroke-width: 1.5;\" width=\"93\" x=\"184.5\" y=\"481.5\"/><text fill=\"#000000\" font-family=\"sans-serif\" font-size=\"12\" font-style=\"italic\" lengthAdjust=\"spacingAndGlyphs\" textLength=\"91\" x=\"185.5\" y=\"497.6387\">«requirement»</text><text fill=\"#000000\" font-family=\"sans-serif\" font-size=\"12\" lengthAdjust=\"spacingAndGlyphs\" text-decoration=\"line-through\" textLength=\"51\" x=\"205.5\" y=\"511.6074\">noname</text><line style=\"stroke: #A80036; stroke-width: 1.5;\" x1=\"185.5\" x2=\"276.5\" y1=\"519.4375\" y2=\"519.4375\"/></a><!--MD5=[fd4143e9d270a159db93a4ea2a975926]\n",
       "class E9--><a href=\"psysml:291c6c45-8332-45a6-809f-574961a49898\" target=\"_top\" title=\"psysml:291c6c45-8332-45a6-809f-574961a49898\" xlink:actuate=\"onRequest\" xlink:href=\"psysml:291c6c45-8332-45a6-809f-574961a49898\" xlink:show=\"new\" xlink:title=\"psysml:291c6c45-8332-45a6-809f-574961a49898\" xlink:type=\"simple\"><rect fill=\"#FEFECE\" filter=\"url(#f1mkhhj0soz1l4)\" height=\"76.4922\" id=\"E9\" style=\"stroke: #A80036; stroke-width: 1.5;\" width=\"207\" x=\"109.5\" y=\"41\"/><text fill=\"#000000\" font-family=\"sans-serif\" font-size=\"12\" font-style=\"italic\" lengthAdjust=\"spacingAndGlyphs\" textLength=\"115\" x=\"155.5\" y=\"57.1387\">«requirement def»</text><text fill=\"#000000\" font-family=\"sans-serif\" font-size=\"12\" lengthAdjust=\"spacingAndGlyphs\" textLength=\"16\" x=\"205\" y=\"71.1074\">R1</text><line style=\"stroke: #A80036; stroke-width: 1.5;\" x1=\"110.5\" x2=\"315.5\" y1=\"78.9375\" y2=\"78.9375\"/><text fill=\"#000000\" font-family=\"sans-serif\" font-size=\"11\" font-weight=\"bold\" lengthAdjust=\"spacingAndGlyphs\" textLength=\"46\" x=\"115.5\" y=\"110.8979\">require</text><text fill=\"#000000\" font-family=\"sans-serif\" font-size=\"11\" lengthAdjust=\"spacingAndGlyphs\" textLength=\"0\" x=\"165.5\" y=\"110.8979\"/><path d=\"M167.4167,100.6589 L167.4167,109.8255 L168.3333,109.8255 L168.3333,100.6589 M171.0833,100.6589 L171.0833,109.8255 L178.4167,105.2422 L171.0833,100.6589 L172,102.0339 L177.0417,105.2422 L172,108.4505 L172,102.0339 \" fill=\"#000000\" style=\"stroke: ; stroke-width: 0.0; stroke-dasharray: ;\"/><text fill=\"#000000\" font-family=\"sans-serif\" font-size=\"11\" lengthAdjust=\"spacingAndGlyphs\" textLength=\"13\" x=\"182.5\" y=\"110.8979\">c1</text><text fill=\"#000000\" font-family=\"sans-serif\" font-size=\"11\" lengthAdjust=\"spacingAndGlyphs\" text-decoration=\"line-through\" textLength=\"111\" x=\"199.5\" y=\"110.8979\">RequirementTest::c</text><line style=\"stroke: #A80036; stroke-width: 1.0;\" x1=\"110.5\" x2=\"181\" y1=\"93.3398\" y2=\"93.3398\"/><text fill=\"#000000\" font-family=\"sans-serif\" font-size=\"11\" lengthAdjust=\"spacingAndGlyphs\" textLength=\"64\" x=\"181\" y=\"96.6479\">constraints</text><line style=\"stroke: #A80036; stroke-width: 1.0;\" x1=\"245\" x2=\"315.5\" y1=\"93.3398\" y2=\"93.3398\"/></a><!--MD5=[1dd1bfd58a279cf63c5f349dbc8fc6a1]\n",
       "class E11--><a href=\"psysml:b7118396-8822-4234-af4f-531e34fd2b85\" target=\"_top\" title=\"psysml:b7118396-8822-4234-af4f-531e34fd2b85\" xlink:actuate=\"onRequest\" xlink:href=\"psysml:b7118396-8822-4234-af4f-531e34fd2b85\" xlink:show=\"new\" xlink:title=\"psysml:b7118396-8822-4234-af4f-531e34fd2b85\" xlink:type=\"simple\"><rect fill=\"#FEFECE\" filter=\"url(#f1mkhhj0soz1l4)\" height=\"45.9375\" id=\"E11\" rx=\"10\" ry=\"10\" style=\"stroke: #A80036; stroke-width: 1.5;\" width=\"42\" x=\"185\" y=\"332.5\"/><text fill=\"#000000\" font-family=\"sans-serif\" font-size=\"12\" font-style=\"italic\" lengthAdjust=\"spacingAndGlyphs\" textLength=\"40\" x=\"186\" y=\"348.6387\">«part»</text><text fill=\"#000000\" font-family=\"sans-serif\" font-size=\"12\" lengthAdjust=\"spacingAndGlyphs\" textLength=\"8\" x=\"202\" y=\"362.6074\">p</text><line style=\"stroke: #A80036; stroke-width: 1.5;\" x1=\"186\" x2=\"226\" y1=\"370.4375\" y2=\"370.4375\"/></a><!--MD5=[49a0ec8f00dab7302a31f22d0f0fe584]\n",
       "class E12--><a href=\"psysml:5710aa92-7822-41e6-89ae-9d2d61cb8bf3\" target=\"_top\" title=\"psysml:5710aa92-7822-41e6-89ae-9d2d61cb8bf3\" xlink:actuate=\"onRequest\" xlink:href=\"psysml:5710aa92-7822-41e6-89ae-9d2d61cb8bf3\" xlink:show=\"new\" xlink:title=\"psysml:5710aa92-7822-41e6-89ae-9d2d61cb8bf3\" xlink:type=\"simple\"><rect fill=\"#FEFECE\" filter=\"url(#f1mkhhj0soz1l4)\" height=\"45.9375\" id=\"E12\" rx=\"10\" ry=\"10\" style=\"stroke: #A80036; stroke-width: 1.5;\" width=\"42\" x=\"32\" y=\"56\"/><text fill=\"#000000\" font-family=\"sans-serif\" font-size=\"12\" font-style=\"italic\" lengthAdjust=\"spacingAndGlyphs\" textLength=\"40\" x=\"33\" y=\"72.1387\">«part»</text><text fill=\"#000000\" font-family=\"sans-serif\" font-size=\"12\" lengthAdjust=\"spacingAndGlyphs\" textLength=\"8\" x=\"49\" y=\"86.1074\">q</text><line style=\"stroke: #A80036; stroke-width: 1.5;\" x1=\"33\" x2=\"73\" y1=\"93.9375\" y2=\"93.9375\"/></a><!--MD5=[ee3c913d1a06f366521f9ef512b67efe]\n",
       "class E13--><a href=\"psysml:b72900fb-e3ca-4439-ac22-acb3bf892de5\" target=\"_top\" title=\"psysml:b72900fb-e3ca-4439-ac22-acb3bf892de5\" xlink:actuate=\"onRequest\" xlink:href=\"psysml:b72900fb-e3ca-4439-ac22-acb3bf892de5\" xlink:show=\"new\" xlink:title=\"psysml:b72900fb-e3ca-4439-ac22-acb3bf892de5\" xlink:type=\"simple\"><rect fill=\"#FEFECE\" filter=\"url(#f1mkhhj0soz1l4)\" height=\"45.9375\" id=\"E13\" rx=\"10\" ry=\"10\" style=\"stroke: #A80036; stroke-width: 1.5;\" width=\"93\" x=\"44.5\" y=\"178\"/><text fill=\"#000000\" font-family=\"sans-serif\" font-size=\"12\" font-style=\"italic\" lengthAdjust=\"spacingAndGlyphs\" textLength=\"91\" x=\"45.5\" y=\"194.1387\">«requirement»</text><text fill=\"#000000\" font-family=\"sans-serif\" font-size=\"12\" lengthAdjust=\"spacingAndGlyphs\" textLength=\"21\" x=\"80.5\" y=\"208.1074\">r: R</text><line style=\"stroke: #A80036; stroke-width: 1.5;\" x1=\"45.5\" x2=\"136.5\" y1=\"215.9375\" y2=\"215.9375\"/></a><!--MD5=[05d275557350bfb9b23a4ef7222b4c39]\n",
       "link E3 to E2--><a href=\"psysml:8b4534c8-c65f-4721-aa95-1aefa1ee4858\" target=\"_top\" title=\"psysml:8b4534c8-c65f-4721-aa95-1aefa1ee4858\" xlink:actuate=\"onRequest\" xlink:href=\"psysml:8b4534c8-c65f-4721-aa95-1aefa1ee4858\" xlink:show=\"new\" xlink:title=\"psysml:8b4534c8-c65f-4721-aa95-1aefa1ee4858\" xlink:type=\"simple\"><path d=\"M389.8,102.01 C388.24,117.56 386.11,138.89 384.23,157.68 \" fill=\"none\" id=\"E3-&gt;E2\" style=\"stroke: #A80036; stroke-width: 1.0;\"/><polygon fill=\"#FFFFFF\" points=\"382.23,177.72,377.1511,158.1188,391.0819,159.5089,382.23,177.72\" style=\"stroke: #A80036; stroke-width: 1.0;\"/><ellipse cx=\"379.7072\" cy=\"152.6456\" fill=\"#A80036\" rx=\"2\" ry=\"2\" style=\"stroke: #A80036; stroke-width: 1.0;\"/><ellipse cx=\"389.6578\" cy=\"153.6385\" fill=\"#A80036\" rx=\"2\" ry=\"2\" style=\"stroke: #A80036; stroke-width: 1.0;\"/></a><!--MD5=[62aa6af11e70f752912c1cb0466f24f7]\n",
       "reverse link E4 to E5--><a href=\"psysml:5c4fbfc6-6feb-457a-9610-da755776e124\" target=\"_top\" title=\"psysml:5c4fbfc6-6feb-457a-9610-da755776e124\" xlink:actuate=\"onRequest\" xlink:href=\"psysml:5c4fbfc6-6feb-457a-9610-da755776e124\" xlink:show=\"new\" xlink:title=\"psysml:5c4fbfc6-6feb-457a-9610-da755776e124\" xlink:type=\"simple\"><path d=\"M91,425.45 C91,441.34 91,457.51 91,470.98 \" fill=\"none\" id=\"E4&lt;-E5\" style=\"stroke: #A80036; stroke-width: 1.0;\"/><ellipse cx=\"91\" cy=\"418.4\" fill=\"#FFFFFF\" rx=\"8\" ry=\"8\" style=\"stroke: #A80036; stroke-width: 1.0;\"/><line style=\"stroke: #A80036; stroke-width: 1.0;\" x1=\"91\" x2=\"91\" y1=\"426.4\" y2=\"410.4\"/><line style=\"stroke: #A80036; stroke-width: 1.0;\" x1=\"83\" x2=\"99\" y1=\"418.4\" y2=\"418.4\"/></a><!--MD5=[c6fc7cdb0cabde04948078cf183fa696]\n",
       "reverse link E4 to E8--><a href=\"psysml:577c6bec-7675-4e65-a136-10b226b9020a\" target=\"_top\" title=\"psysml:577c6bec-7675-4e65-a136-10b226b9020a\" xlink:actuate=\"onRequest\" xlink:href=\"psysml:577c6bec-7675-4e65-a136-10b226b9020a\" xlink:show=\"new\" xlink:title=\"psysml:577c6bec-7675-4e65-a136-10b226b9020a\" xlink:type=\"simple\"><path d=\"M151.51,420.04 C172.42,441.99 194.47,465.14 210.03,481.48 \" fill=\"none\" id=\"E4&lt;-E8\" style=\"stroke: #A80036; stroke-width: 1.0;\"/><polygon fill=\"#A80036\" points=\"142.34,410.4,143.5779,417.5041,150.6116,419.0937,149.3737,411.9897,142.34,410.4\" style=\"stroke: #A80036; stroke-width: 1.0;\"/></a><!--MD5=[062ed86c389d1a88f61c6380d0491e17]\n",
       "reverse link E12 to E13--><a href=\"psysml:b72900fb-e3ca-4439-ac22-acb3bf892de5\" target=\"_top\" title=\"psysml:b72900fb-e3ca-4439-ac22-acb3bf892de5\" xlink:actuate=\"onRequest\" xlink:href=\"psysml:b72900fb-e3ca-4439-ac22-acb3bf892de5\" xlink:show=\"new\" xlink:title=\"psysml:b72900fb-e3ca-4439-ac22-acb3bf892de5\" xlink:type=\"simple\"><path d=\"M63.94,114.55 C70.38,134.88 78.33,160 83.95,177.72 \" fill=\"none\" id=\"E12&lt;-E13\" style=\"stroke: #A80036; stroke-width: 1.0;\"/><polygon fill=\"#A80036\" points=\"59.97,102.01,57.9712,108.9386,63.5981,113.4484,65.5968,106.5198,59.97,102.01\" style=\"stroke: #A80036; stroke-width: 1.0;\"/></a><!--MD5=[017847e01ff9a8bd19f247411074f987]\n",
       "link E13 to E4--><a href=\"psysml:ed6e641a-605b-4ed9-9064-d41509e7ab16\" target=\"_top\" title=\"psysml:ed6e641a-605b-4ed9-9064-d41509e7ab16\" xlink:actuate=\"onRequest\" xlink:href=\"psysml:ed6e641a-605b-4ed9-9064-d41509e7ab16\" xlink:show=\"new\" xlink:title=\"psysml:ed6e641a-605b-4ed9-9064-d41509e7ab16\" xlink:type=\"simple\"><path d=\"M91,224.17 C91,239.17 91,259.91 91,280.44 \" fill=\"none\" id=\"E13-&gt;E4\" style=\"stroke: #A80036; stroke-width: 1.0;\"/><polygon fill=\"#FFFFFF\" points=\"91,300.68,84,281.68,98,281.68,91,300.68\" style=\"stroke: #A80036; stroke-width: 1.0;\"/><ellipse cx=\"86\" cy=\"275.98\" fill=\"#A80036\" rx=\"2\" ry=\"2\" style=\"stroke: #A80036; stroke-width: 1.0;\"/><ellipse cx=\"96\" cy=\"275.98\" fill=\"#A80036\" rx=\"2\" ry=\"2\" style=\"stroke: #A80036; stroke-width: 1.0;\"/></a><!--MD5=[2cfe899c895462254056921bfb67315f]\n",
       "link E13 to E11--><a href=\"psysml:11f1a2a5-a4e7-4875-8b16-7052fd317758\" target=\"_top\" title=\"psysml:11f1a2a5-a4e7-4875-8b16-7052fd317758\" xlink:actuate=\"onRequest\" xlink:href=\"psysml:11f1a2a5-a4e7-4875-8b16-7052fd317758\" xlink:show=\"new\" xlink:title=\"psysml:11f1a2a5-a4e7-4875-8b16-7052fd317758\" xlink:type=\"simple\"><path d=\"M108.36,224.29 C123.87,244.28 147.14,274.45 167,301 C173.57,309.78 180.66,319.44 186.97,328.12 \" fill=\"none\" id=\"E13-&gt;E11\" style=\"stroke: #A80036; stroke-width: 1.0; stroke-dasharray: 7.0,7.0;\"/><polygon fill=\"#A80036\" points=\"189.99,332.28,187.9274,322.6496,187.0474,328.2376,181.4594,327.3576,189.99,332.28\" style=\"stroke: #A80036; stroke-width: 1.0;\"/><text fill=\"#000000\" font-family=\"sans-serif\" font-size=\"13\" lengthAdjust=\"spacingAndGlyphs\" textLength=\"57\" x=\"145\" y=\"267.0669\">«satisfy»</text></a><!--MD5=[41444e1cf88fc8fe703d901eebd6b40e]\n",
       "@startuml\r\n",
       "skinparam wrapWidth 300\r\n",
       "hide circle\r\n",
       "\r\n",
       "package \"RequirementTest\" as E1  [[psysml:8aa028f5-1693-4b51-bff2-c94d0f18c930 ]]  {\r\n",
       "comp def \"C\" as E2  <<(T,blue)constraint def>> [[psysml:27c2a771-07cf-4bde-9591-6030a1a15742 ]] {\r\n",
       "}\r\n",
       "comp usage \"c: C\" as E3  <<(T,blue)constraint>> [[psysml:da02b217-f155-4220-a2dc-d840d0d24f86 ]] {\r\n",
       "}\r\n",
       "comp def \"R\" as E4  <<(T,blue)requirement def>> [[psysml:b9a9d178-6ba0-415d-80bd-8d7e5aacf32f ]] {\r\n",
       "\r\n",
       "- -\r\n",
       "- - constraints - -\r\n",
       "<b>require</b> c\r\n",
       "<i>assume</i> c1: C\r\n",
       "}\r\n",
       "comp def \" [<b>1</b>] A\" as E5  <<(T,blue)requirement def>> [[psysml:5c4fbfc6-6feb-457a-9610-da755776e124 ]] {\r\n",
       "Text\r\n",
       "- -\r\n",
       "}\r\n",
       "comp usage \"<s>noname</s>\" as E8  <<(T,blue)requirement>> [[psysml:577c6bec-7675-4e65-a136-10b226b9020a ]] {\r\n",
       "}\r\n",
       "comp def \"R1\" as E9  <<(T,blue)requirement def>> [[psysml:291c6c45-8332-45a6-809f-574961a49898 ]] {\r\n",
       "- - constraints - -\r\n",
       "<b>require</b> <&bar-trig> c1 <s>RequirementTest::c</s>\r\n",
       "}\r\n",
       "comp usage \"p\" as E11  <<(T,blue)part>> [[psysml:b7118396-8822-4234-af4f-531e34fd2b85 ]] {\r\n",
       "}\r\n",
       "comp usage \"q\" as E12  <<(T,blue)part>> [[psysml:5710aa92-7822-41e6-89ae-9d2d61cb8bf3 ]] {\r\n",
       "}\r\n",
       "comp usage \"r: R\" as E13  <<(T,blue)requirement>> [[psysml:b72900fb-e3ca-4439-ac22-acb3bf892de5 ]] {\r\n",
       "}\r\n",
       "E3 - -:|> E2 [[psysml:8b4534c8-c65f-4721-aa95-1aefa1ee4858 ]] \r\n",
       "E4 +- - E5 [[psysml:5c4fbfc6-6feb-457a-9610-da755776e124 ]] \r\n",
       "E4 *- - E8 [[psysml:577c6bec-7675-4e65-a136-10b226b9020a ]] \r\n",
       "E12 *- - E13 [[psysml:b72900fb-e3ca-4439-ac22-acb3bf892de5 ]] \r\n",
       "E13 - -:|> E4 [[psysml:ed6e641a-605b-4ed9-9064-d41509e7ab16 ]] \r\n",
       "E13 ..> E11 [[psysml:11f1a2a5-a4e7-4875-8b16-7052fd317758 ]] : <<satisfy>>\r\n",
       "}\r\n",
       "@enduml\r\n",
       "\n",
       "PlantUML version 1.2020.13(Sat Jun 13 12:26:38 UTC 2020)\n",
       "(EPL source distribution)\n",
       "Java Runtime: OpenJDK Runtime Environment\n",
       "JVM: OpenJDK 64-Bit Server VM\n",
       "Default Encoding: UTF-8\n",
       "Language: en\n",
       "Country: null\n",
       "--></g></svg>"
      ]
     },
     "execution_count": 29,
     "metadata": {},
     "output_type": "execute_result"
    }
   ],
   "source": [
    "%viz --style=\"STDCOLOR\" --view=\"MIXED\" \"RequirementTest\""
   ]
  },
  {
   "cell_type": "code",
   "execution_count": 30,
   "id": "computational-coaching",
   "metadata": {
    "execution": {
     "iopub.execute_input": "2021-03-26T09:12:29.133114Z",
     "iopub.status.busy": "2021-03-26T09:12:29.132668Z",
     "iopub.status.idle": "2021-03-26T09:12:29.219889Z",
     "shell.execute_reply": "2021-03-26T09:12:29.220272Z"
    }
   },
   "outputs": [
    {
     "data": {
      "image/svg+xml": [
       "<?xml version=\"1.0\" encoding=\"UTF-8\" standalone=\"no\"?><svg xmlns=\"http://www.w3.org/2000/svg\" xmlns:xlink=\"http://www.w3.org/1999/xlink\" contentScriptType=\"application/ecmascript\" contentStyleType=\"text/css\" height=\"578px\" preserveAspectRatio=\"none\" style=\"width:460px;height:578px;\" version=\"1.1\" viewBox=\"0 0 460 578\" width=\"460px\" zoomAndPan=\"magnify\"><defs><filter height=\"300%\" id=\"f1blmf30dfgk9t\" width=\"300%\" x=\"-1\" y=\"-1\"><feGaussianBlur result=\"blurOut\" stdDeviation=\"2.0\"/><feColorMatrix in=\"blurOut\" result=\"blurOut2\" type=\"matrix\" values=\"0 0 0 0 0 0 0 0 0 0 0 0 0 0 0 0 0 0 .4 0\"/><feOffset dx=\"4.0\" dy=\"4.0\" in=\"blurOut2\" result=\"blurOut3\"/><feBlend in=\"SourceGraphic\" in2=\"blurOut3\" mode=\"normal\"/></filter></defs><g><!--MD5=[fbc87193dbaf4d95561dea2c320d4a47]\n",
       "cluster E1--><a href=\"psysml:8aa028f5-1693-4b51-bff2-c94d0f18c930\" target=\"_top\" title=\"psysml:8aa028f5-1693-4b51-bff2-c94d0f18c930\" xlink:actuate=\"onRequest\" xlink:href=\"psysml:8aa028f5-1693-4b51-bff2-c94d0f18c930\" xlink:show=\"new\" xlink:title=\"psysml:8aa028f5-1693-4b51-bff2-c94d0f18c930\" xlink:type=\"simple\"><polygon fill=\"#FFFFFF\" filter=\"url(#f1blmf30dfgk9t)\" points=\"16,6,158,6,165,28.2969,438,28.2969,438,566,16,566,16,6\" style=\"stroke: #000000; stroke-width: 1.5;\"/><line style=\"stroke: #000000; stroke-width: 1.5;\" x1=\"16\" x2=\"165\" y1=\"28.2969\" y2=\"28.2969\"/><text fill=\"#000000\" font-family=\"sans-serif\" font-size=\"14\" font-weight=\"bold\" lengthAdjust=\"spacingAndGlyphs\" textLength=\"136\" x=\"20\" y=\"20.9951\">RequirementTest</text></a><!--MD5=[b4997ac47864f28c2f74865a473b2911]\n",
       "class E2--><a href=\"psysml:27c2a771-07cf-4bde-9591-6030a1a15742\" target=\"_top\" title=\"psysml:27c2a771-07cf-4bde-9591-6030a1a15742\" xlink:actuate=\"onRequest\" xlink:href=\"psysml:27c2a771-07cf-4bde-9591-6030a1a15742\" xlink:show=\"new\" xlink:title=\"psysml:27c2a771-07cf-4bde-9591-6030a1a15742\" xlink:type=\"simple\"><rect fill=\"#FEFECE\" filter=\"url(#f1blmf30dfgk9t)\" height=\"45.9375\" id=\"E2\" style=\"stroke: #A80036; stroke-width: 1.5;\" width=\"130\" x=\"292\" y=\"190\"/><ellipse cx=\"307\" cy=\"208.9688\" fill=\"#A52A2A\" rx=\"11\" ry=\"11\" style=\"stroke: #A80036; stroke-width: 1.0;\"/><path d=\"M306.5938,204.7813 L306.5938,212.7656 L307.25,212.7656 Q308.6875,212.7656 309.2969,211.8594 Q309.9219,210.9375 309.9219,208.7656 Q309.9219,206.5938 309.2969,205.6875 Q308.6875,204.7813 307.25,204.7813 L306.5938,204.7813 Z M304.1406,202.5781 L306.7656,202.5781 Q309.7969,202.5781 311.125,204.0313 Q312.4688,205.4688 312.4688,208.7656 Q312.4688,212.0625 311.125,213.5156 Q309.7969,214.9688 306.7656,214.9688 L304.1406,214.9688 L304.1406,202.5781 Z \"/><text fill=\"#000000\" font-family=\"sans-serif\" font-size=\"12\" font-style=\"italic\" lengthAdjust=\"spacingAndGlyphs\" textLength=\"102\" x=\"319\" y=\"206.1387\">«constraint def»</text><text fill=\"#000000\" font-family=\"sans-serif\" font-size=\"12\" lengthAdjust=\"spacingAndGlyphs\" textLength=\"8\" x=\"366\" y=\"220.1074\">C</text><line style=\"stroke: #A80036; stroke-width: 1.5;\" x1=\"293\" x2=\"421\" y1=\"227.9375\" y2=\"227.9375\"/></a><!--MD5=[09b614a08d8cba4a07c9adeb5e0fee81]\n",
       "class E3--><a href=\"psysml:da02b217-f155-4220-a2dc-d840d0d24f86\" target=\"_top\" title=\"psysml:da02b217-f155-4220-a2dc-d840d0d24f86\" xlink:actuate=\"onRequest\" xlink:href=\"psysml:da02b217-f155-4220-a2dc-d840d0d24f86\" xlink:show=\"new\" xlink:title=\"psysml:da02b217-f155-4220-a2dc-d840d0d24f86\" xlink:type=\"simple\"><rect fill=\"#FEFECE\" filter=\"url(#f1blmf30dfgk9t)\" height=\"45.9375\" id=\"E3\" rx=\"10\" ry=\"10\" style=\"stroke: #A80036; stroke-width: 1.5;\" width=\"106\" x=\"316\" y=\"62\"/><ellipse cx=\"331\" cy=\"80.9688\" fill=\"#FFA500\" rx=\"11\" ry=\"11\" style=\"stroke: #A80036; stroke-width: 1.0;\"/><path d=\"M326.875,82.8906 L326.875,75.0781 L329.3281,75.0781 L329.3281,83.5156 Q329.3281,84.4375 329.7969,84.9688 Q330.2813,85.5 331.1094,85.5 Q331.9531,85.5 332.4219,84.9688 Q332.8906,84.4375 332.8906,83.5156 L332.8906,75.0781 L335.3438,75.0781 L335.3438,82.8906 Q335.3438,85.4219 334.3438,86.5625 Q333.3438,87.7031 331.1094,87.7031 Q328.8906,87.7031 327.875,86.5625 Q326.875,85.4219 326.875,82.8906 Z \"/><text fill=\"#000000\" font-family=\"sans-serif\" font-size=\"12\" font-style=\"italic\" lengthAdjust=\"spacingAndGlyphs\" textLength=\"78\" x=\"343\" y=\"78.1387\">«constraint»</text><text fill=\"#000000\" font-family=\"sans-serif\" font-size=\"12\" lengthAdjust=\"spacingAndGlyphs\" textLength=\"23\" x=\"370.5\" y=\"92.1074\">c: C</text><line style=\"stroke: #A80036; stroke-width: 1.5;\" x1=\"317\" x2=\"421\" y1=\"99.9375\" y2=\"99.9375\"/></a><!--MD5=[ebbe1d658d1005bcc118a6aa81145e00]\n",
       "class E4--><a href=\"psysml:b9a9d178-6ba0-415d-80bd-8d7e5aacf32f\" target=\"_top\" title=\"psysml:b9a9d178-6ba0-415d-80bd-8d7e5aacf32f\" xlink:actuate=\"onRequest\" xlink:href=\"psysml:b9a9d178-6ba0-415d-80bd-8d7e5aacf32f\" xlink:show=\"new\" xlink:title=\"psysml:b9a9d178-6ba0-415d-80bd-8d7e5aacf32f\" xlink:type=\"simple\"><rect fill=\"#FEFECE\" filter=\"url(#f1blmf30dfgk9t)\" height=\"109.1563\" id=\"E4\" style=\"stroke: #A80036; stroke-width: 1.5;\" width=\"143\" x=\"32.5\" y=\"313\"/><ellipse cx=\"47.5\" cy=\"331.9688\" fill=\"#A52A2A\" rx=\"11\" ry=\"11\" style=\"stroke: #A80036; stroke-width: 1.0;\"/><path d=\"M47.0938,327.7813 L47.0938,335.7656 L47.75,335.7656 Q49.1875,335.7656 49.7969,334.8594 Q50.4219,333.9375 50.4219,331.7656 Q50.4219,329.5938 49.7969,328.6875 Q49.1875,327.7813 47.75,327.7813 L47.0938,327.7813 Z M44.6406,325.5781 L47.2656,325.5781 Q50.2969,325.5781 51.625,327.0313 Q52.9688,328.4688 52.9688,331.7656 Q52.9688,335.0625 51.625,336.5156 Q50.2969,337.9688 47.2656,337.9688 L44.6406,337.9688 L44.6406,325.5781 Z \"/><text fill=\"#000000\" font-family=\"sans-serif\" font-size=\"12\" font-style=\"italic\" lengthAdjust=\"spacingAndGlyphs\" textLength=\"115\" x=\"59.5\" y=\"329.1387\">«requirement def»</text><text fill=\"#000000\" font-family=\"sans-serif\" font-size=\"12\" lengthAdjust=\"spacingAndGlyphs\" textLength=\"8\" x=\"113\" y=\"343.1074\">R</text><line style=\"stroke: #A80036; stroke-width: 1.5;\" x1=\"33.5\" x2=\"174.5\" y1=\"350.9375\" y2=\"350.9375\"/><text fill=\"#000000\" font-family=\"sans-serif\" font-size=\"11\" lengthAdjust=\"spacingAndGlyphs\" textLength=\"0\" x=\"42.5\" y=\"365.1479\"/><line style=\"stroke: #A80036; stroke-width: 1.0;\" x1=\"33.5\" x2=\"174.5\" y1=\"371.7422\" y2=\"371.7422\"/><text fill=\"#000000\" font-family=\"sans-serif\" font-size=\"11\" font-weight=\"bold\" lengthAdjust=\"spacingAndGlyphs\" textLength=\"46\" x=\"38.5\" y=\"402.7573\">require</text><text fill=\"#000000\" font-family=\"sans-serif\" font-size=\"11\" lengthAdjust=\"spacingAndGlyphs\" textLength=\"6\" x=\"88.5\" y=\"402.7573\">c</text><text fill=\"#000000\" font-family=\"sans-serif\" font-size=\"11\" font-style=\"italic\" lengthAdjust=\"spacingAndGlyphs\" textLength=\"46\" x=\"38.5\" y=\"415.562\">assume</text><text fill=\"#000000\" font-family=\"sans-serif\" font-size=\"11\" lengthAdjust=\"spacingAndGlyphs\" textLength=\"29\" x=\"88.5\" y=\"415.562\">c1: C</text><line style=\"stroke: #A80036; stroke-width: 1.0;\" x1=\"33.5\" x2=\"72\" y1=\"386.1445\" y2=\"386.1445\"/><text fill=\"#000000\" font-family=\"sans-serif\" font-size=\"11\" lengthAdjust=\"spacingAndGlyphs\" textLength=\"64\" x=\"72\" y=\"389.4526\">constraints</text><line style=\"stroke: #A80036; stroke-width: 1.0;\" x1=\"136\" x2=\"174.5\" y1=\"386.1445\" y2=\"386.1445\"/></a><!--MD5=[270fce915f116d4de14055a7c1d9a0f3]\n",
       "class E5--><a href=\"psysml:5c4fbfc6-6feb-457a-9610-da755776e124\" target=\"_top\" title=\"psysml:5c4fbfc6-6feb-457a-9610-da755776e124\" xlink:actuate=\"onRequest\" xlink:href=\"psysml:5c4fbfc6-6feb-457a-9610-da755776e124\" xlink:show=\"new\" xlink:title=\"psysml:5c4fbfc6-6feb-457a-9610-da755776e124\" xlink:type=\"simple\"><rect fill=\"#FEFECE\" filter=\"url(#f1blmf30dfgk9t)\" height=\"66.7422\" id=\"E5\" style=\"stroke: #A80036; stroke-width: 1.5;\" width=\"143\" x=\"32.5\" y=\"483\"/><ellipse cx=\"47.5\" cy=\"501.9688\" fill=\"#A52A2A\" rx=\"11\" ry=\"11\" style=\"stroke: #A80036; stroke-width: 1.0;\"/><path d=\"M47.0938,497.7813 L47.0938,505.7656 L47.75,505.7656 Q49.1875,505.7656 49.7969,504.8594 Q50.4219,503.9375 50.4219,501.7656 Q50.4219,499.5938 49.7969,498.6875 Q49.1875,497.7813 47.75,497.7813 L47.0938,497.7813 Z M44.6406,495.5781 L47.2656,495.5781 Q50.2969,495.5781 51.625,497.0313 Q52.9688,498.4688 52.9688,501.7656 Q52.9688,505.0625 51.625,506.5156 Q50.2969,507.9688 47.2656,507.9688 L44.6406,507.9688 L44.6406,495.5781 Z \"/><text fill=\"#000000\" font-family=\"sans-serif\" font-size=\"12\" font-style=\"italic\" lengthAdjust=\"spacingAndGlyphs\" textLength=\"115\" x=\"59.5\" y=\"499.1387\">«requirement def»</text><text fill=\"#000000\" font-family=\"sans-serif\" font-size=\"12\" lengthAdjust=\"spacingAndGlyphs\" textLength=\"5\" x=\"104\" y=\"513.1074\">[</text><text fill=\"#000000\" font-family=\"sans-serif\" font-size=\"12\" font-weight=\"bold\" lengthAdjust=\"spacingAndGlyphs\" textLength=\"8\" x=\"109\" y=\"513.1074\">1</text><text fill=\"#000000\" font-family=\"sans-serif\" font-size=\"12\" lengthAdjust=\"spacingAndGlyphs\" textLength=\"17\" x=\"117\" y=\"513.1074\">] A</text><line style=\"stroke: #A80036; stroke-width: 1.5;\" x1=\"33.5\" x2=\"174.5\" y1=\"520.9375\" y2=\"520.9375\"/><text fill=\"#000000\" font-family=\"sans-serif\" font-size=\"11\" lengthAdjust=\"spacingAndGlyphs\" textLength=\"24\" x=\"38.5\" y=\"535.1479\">Text</text><line style=\"stroke: #A80036; stroke-width: 1.0;\" x1=\"33.5\" x2=\"174.5\" y1=\"541.7422\" y2=\"541.7422\"/></a><!--MD5=[b9389687b975829384b498ac4b7476b2]\n",
       "class E8--><a href=\"psysml:577c6bec-7675-4e65-a136-10b226b9020a\" target=\"_top\" title=\"psysml:577c6bec-7675-4e65-a136-10b226b9020a\" xlink:actuate=\"onRequest\" xlink:href=\"psysml:577c6bec-7675-4e65-a136-10b226b9020a\" xlink:show=\"new\" xlink:title=\"psysml:577c6bec-7675-4e65-a136-10b226b9020a\" xlink:type=\"simple\"><rect fill=\"#FEFECE\" filter=\"url(#f1blmf30dfgk9t)\" height=\"45.9375\" id=\"E8\" rx=\"10\" ry=\"10\" style=\"stroke: #A80036; stroke-width: 1.5;\" width=\"119\" x=\"210.5\" y=\"493.5\"/><ellipse cx=\"225.5\" cy=\"512.4688\" fill=\"#FFA500\" rx=\"11\" ry=\"11\" style=\"stroke: #A80036; stroke-width: 1.0;\"/><path d=\"M221.375,514.3906 L221.375,506.5781 L223.8281,506.5781 L223.8281,515.0156 Q223.8281,515.9375 224.2969,516.4688 Q224.7813,517 225.6094,517 Q226.4531,517 226.9219,516.4688 Q227.3906,515.9375 227.3906,515.0156 L227.3906,506.5781 L229.8438,506.5781 L229.8438,514.3906 Q229.8438,516.9219 228.8438,518.0625 Q227.8438,519.2031 225.6094,519.2031 Q223.3906,519.2031 222.375,518.0625 Q221.375,516.9219 221.375,514.3906 Z \"/><text fill=\"#000000\" font-family=\"sans-serif\" font-size=\"12\" font-style=\"italic\" lengthAdjust=\"spacingAndGlyphs\" textLength=\"91\" x=\"237.5\" y=\"509.6387\">«requirement»</text><text fill=\"#000000\" font-family=\"sans-serif\" font-size=\"12\" lengthAdjust=\"spacingAndGlyphs\" text-decoration=\"line-through\" textLength=\"51\" x=\"257.5\" y=\"523.6074\">noname</text><line style=\"stroke: #A80036; stroke-width: 1.5;\" x1=\"211.5\" x2=\"328.5\" y1=\"531.4375\" y2=\"531.4375\"/></a><!--MD5=[fd4143e9d270a159db93a4ea2a975926]\n",
       "class E9--><a href=\"psysml:291c6c45-8332-45a6-809f-574961a49898\" target=\"_top\" title=\"psysml:291c6c45-8332-45a6-809f-574961a49898\" xlink:actuate=\"onRequest\" xlink:href=\"psysml:291c6c45-8332-45a6-809f-574961a49898\" xlink:show=\"new\" xlink:title=\"psysml:291c6c45-8332-45a6-809f-574961a49898\" xlink:type=\"simple\"><rect fill=\"#FEFECE\" filter=\"url(#f1blmf30dfgk9t)\" height=\"88.3516\" id=\"E9\" style=\"stroke: #A80036; stroke-width: 1.5;\" width=\"145\" x=\"135.5\" y=\"41\"/><ellipse cx=\"151.4\" cy=\"59.9688\" fill=\"#A52A2A\" rx=\"11\" ry=\"11\" style=\"stroke: #A80036; stroke-width: 1.0;\"/><path d=\"M150.9938,55.7813 L150.9938,63.7656 L151.65,63.7656 Q153.0875,63.7656 153.6969,62.8594 Q154.3219,61.9375 154.3219,59.7656 Q154.3219,57.5938 153.6969,56.6875 Q153.0875,55.7813 151.65,55.7813 L150.9938,55.7813 Z M148.5406,53.5781 L151.1656,53.5781 Q154.1969,53.5781 155.525,55.0313 Q156.8688,56.4688 156.8688,59.7656 Q156.8688,63.0625 155.525,64.5156 Q154.1969,65.9688 151.1656,65.9688 L148.5406,65.9688 L148.5406,53.5781 Z \"/><text fill=\"#000000\" font-family=\"sans-serif\" font-size=\"12\" font-style=\"italic\" lengthAdjust=\"spacingAndGlyphs\" textLength=\"115\" x=\"163.6\" y=\"57.1387\">«requirement def»</text><text fill=\"#000000\" font-family=\"sans-serif\" font-size=\"12\" lengthAdjust=\"spacingAndGlyphs\" textLength=\"16\" x=\"213.1\" y=\"71.1074\">R1</text><line style=\"stroke: #A80036; stroke-width: 1.5;\" x1=\"136.5\" x2=\"279.5\" y1=\"78.9375\" y2=\"78.9375\"/><text fill=\"#000000\" font-family=\"sans-serif\" font-size=\"11\" font-weight=\"bold\" lengthAdjust=\"spacingAndGlyphs\" textLength=\"46\" x=\"141.5\" y=\"109.9526\">require</text><text fill=\"#000000\" font-family=\"sans-serif\" font-size=\"11\" lengthAdjust=\"spacingAndGlyphs\" textLength=\"13\" x=\"191.5\" y=\"109.9526\">c1</text><text fill=\"#000000\" font-family=\"sans-serif\" font-size=\"11\" font-style=\"italic\" lengthAdjust=\"spacingAndGlyphs\" textLength=\"133\" x=\"141.5\" y=\"122.7573\">:&gt;&gt;RequirementTest::c</text><line style=\"stroke: #A80036; stroke-width: 1.0;\" x1=\"136.5\" x2=\"176\" y1=\"93.3398\" y2=\"93.3398\"/><text fill=\"#000000\" font-family=\"sans-serif\" font-size=\"11\" lengthAdjust=\"spacingAndGlyphs\" textLength=\"64\" x=\"176\" y=\"96.6479\">constraints</text><line style=\"stroke: #A80036; stroke-width: 1.0;\" x1=\"240\" x2=\"279.5\" y1=\"93.3398\" y2=\"93.3398\"/></a><!--MD5=[1dd1bfd58a279cf63c5f349dbc8fc6a1]\n",
       "class E11--><a href=\"psysml:b7118396-8822-4234-af4f-531e34fd2b85\" target=\"_top\" title=\"psysml:b7118396-8822-4234-af4f-531e34fd2b85\" xlink:actuate=\"onRequest\" xlink:href=\"psysml:b7118396-8822-4234-af4f-531e34fd2b85\" xlink:show=\"new\" xlink:title=\"psysml:b7118396-8822-4234-af4f-531e34fd2b85\" xlink:type=\"simple\"><rect fill=\"#FEFECE\" filter=\"url(#f1blmf30dfgk9t)\" height=\"45.9375\" id=\"E11\" rx=\"10\" ry=\"10\" style=\"stroke: #A80036; stroke-width: 1.5;\" width=\"68\" x=\"211\" y=\"344.5\"/><ellipse cx=\"226\" cy=\"363.4688\" fill=\"#32CD32\" rx=\"11\" ry=\"11\" style=\"stroke: #A80036; stroke-width: 1.0;\"/><path d=\"M225.7969,359.1406 L225.7969,362.7656 L226.7969,362.7656 Q228,362.7656 228.4844,362.3594 Q228.9688,361.9531 228.9688,360.9531 Q228.9688,359.9531 228.4844,359.5469 Q228,359.1406 226.7969,359.1406 L225.7969,359.1406 Z M223.3438,357.0781 L226.7031,357.0781 Q229.2656,357.0781 230.3906,358 Q231.5156,358.9063 231.5156,360.9531 Q231.5156,363 230.3906,363.9219 Q229.2656,364.8281 226.7031,364.8281 L225.7969,364.8281 L225.7969,369.4688 L223.3438,369.4688 L223.3438,357.0781 Z \"/><text fill=\"#000000\" font-family=\"sans-serif\" font-size=\"12\" font-style=\"italic\" lengthAdjust=\"spacingAndGlyphs\" textLength=\"40\" x=\"238\" y=\"360.6387\">«part»</text><text fill=\"#000000\" font-family=\"sans-serif\" font-size=\"12\" lengthAdjust=\"spacingAndGlyphs\" textLength=\"8\" x=\"254\" y=\"374.6074\">p</text><line style=\"stroke: #A80036; stroke-width: 1.5;\" x1=\"212\" x2=\"278\" y1=\"382.4375\" y2=\"382.4375\"/></a><!--MD5=[49a0ec8f00dab7302a31f22d0f0fe584]\n",
       "class E12--><a href=\"psysml:5710aa92-7822-41e6-89ae-9d2d61cb8bf3\" target=\"_top\" title=\"psysml:5710aa92-7822-41e6-89ae-9d2d61cb8bf3\" xlink:actuate=\"onRequest\" xlink:href=\"psysml:5710aa92-7822-41e6-89ae-9d2d61cb8bf3\" xlink:show=\"new\" xlink:title=\"psysml:5710aa92-7822-41e6-89ae-9d2d61cb8bf3\" xlink:type=\"simple\"><rect fill=\"#FEFECE\" filter=\"url(#f1blmf30dfgk9t)\" height=\"45.9375\" id=\"E12\" rx=\"10\" ry=\"10\" style=\"stroke: #A80036; stroke-width: 1.5;\" width=\"68\" x=\"32\" y=\"62\"/><ellipse cx=\"47\" cy=\"80.9688\" fill=\"#32CD32\" rx=\"11\" ry=\"11\" style=\"stroke: #A80036; stroke-width: 1.0;\"/><path d=\"M46.7969,76.6406 L46.7969,80.2656 L47.7969,80.2656 Q49,80.2656 49.4844,79.8594 Q49.9688,79.4531 49.9688,78.4531 Q49.9688,77.4531 49.4844,77.0469 Q49,76.6406 47.7969,76.6406 L46.7969,76.6406 Z M44.3438,74.5781 L47.7031,74.5781 Q50.2656,74.5781 51.3906,75.5 Q52.5156,76.4063 52.5156,78.4531 Q52.5156,80.5 51.3906,81.4219 Q50.2656,82.3281 47.7031,82.3281 L46.7969,82.3281 L46.7969,86.9688 L44.3438,86.9688 L44.3438,74.5781 Z \"/><text fill=\"#000000\" font-family=\"sans-serif\" font-size=\"12\" font-style=\"italic\" lengthAdjust=\"spacingAndGlyphs\" textLength=\"40\" x=\"59\" y=\"78.1387\">«part»</text><text fill=\"#000000\" font-family=\"sans-serif\" font-size=\"12\" lengthAdjust=\"spacingAndGlyphs\" textLength=\"8\" x=\"75\" y=\"92.1074\">q</text><line style=\"stroke: #A80036; stroke-width: 1.5;\" x1=\"33\" x2=\"99\" y1=\"99.9375\" y2=\"99.9375\"/></a><!--MD5=[ee3c913d1a06f366521f9ef512b67efe]\n",
       "class E13--><a href=\"psysml:b72900fb-e3ca-4439-ac22-acb3bf892de5\" target=\"_top\" title=\"psysml:b72900fb-e3ca-4439-ac22-acb3bf892de5\" xlink:actuate=\"onRequest\" xlink:href=\"psysml:b72900fb-e3ca-4439-ac22-acb3bf892de5\" xlink:show=\"new\" xlink:title=\"psysml:b72900fb-e3ca-4439-ac22-acb3bf892de5\" xlink:type=\"simple\"><rect fill=\"#FEFECE\" filter=\"url(#f1blmf30dfgk9t)\" height=\"45.9375\" id=\"E13\" rx=\"10\" ry=\"10\" style=\"stroke: #A80036; stroke-width: 1.5;\" width=\"119\" x=\"44.5\" y=\"190\"/><ellipse cx=\"59.5\" cy=\"208.9688\" fill=\"#FFA500\" rx=\"11\" ry=\"11\" style=\"stroke: #A80036; stroke-width: 1.0;\"/><path d=\"M55.375,210.8906 L55.375,203.0781 L57.8281,203.0781 L57.8281,211.5156 Q57.8281,212.4375 58.2969,212.9688 Q58.7813,213.5 59.6094,213.5 Q60.4531,213.5 60.9219,212.9688 Q61.3906,212.4375 61.3906,211.5156 L61.3906,203.0781 L63.8438,203.0781 L63.8438,210.8906 Q63.8438,213.4219 62.8438,214.5625 Q61.8438,215.7031 59.6094,215.7031 Q57.3906,215.7031 56.375,214.5625 Q55.375,213.4219 55.375,210.8906 Z \"/><text fill=\"#000000\" font-family=\"sans-serif\" font-size=\"12\" font-style=\"italic\" lengthAdjust=\"spacingAndGlyphs\" textLength=\"91\" x=\"71.5\" y=\"206.1387\">«requirement»</text><text fill=\"#000000\" font-family=\"sans-serif\" font-size=\"12\" lengthAdjust=\"spacingAndGlyphs\" textLength=\"21\" x=\"106.5\" y=\"220.1074\">r: R</text><line style=\"stroke: #A80036; stroke-width: 1.5;\" x1=\"45.5\" x2=\"162.5\" y1=\"227.9375\" y2=\"227.9375\"/></a><!--MD5=[05d275557350bfb9b23a4ef7222b4c39]\n",
       "link E3 to E2--><a href=\"psysml:8b4534c8-c65f-4721-aa95-1aefa1ee4858\" target=\"_top\" title=\"psysml:8b4534c8-c65f-4721-aa95-1aefa1ee4858\" xlink:actuate=\"onRequest\" xlink:href=\"psysml:8b4534c8-c65f-4721-aa95-1aefa1ee4858\" xlink:show=\"new\" xlink:title=\"psysml:8b4534c8-c65f-4721-aa95-1aefa1ee4858\" xlink:type=\"simple\"><path d=\"M366.88,108.24 C365.26,125.24 362.98,149.19 361.02,169.79 \" fill=\"none\" id=\"E3-&gt;E2\" style=\"stroke: #A80036; stroke-width: 1.0;\"/><polygon fill=\"#FFFFFF\" points=\"359.1,189.99,353.9362,170.411,367.8729,171.7407,359.1,189.99\" style=\"stroke: #A80036; stroke-width: 1.0;\"/><ellipse cx=\"356.4685\" cy=\"164.9268\" fill=\"#A80036\" rx=\"2\" ry=\"2\" style=\"stroke: #A80036; stroke-width: 1.0;\"/><ellipse cx=\"366.4233\" cy=\"165.8765\" fill=\"#A80036\" rx=\"2\" ry=\"2\" style=\"stroke: #A80036; stroke-width: 1.0;\"/></a><!--MD5=[62aa6af11e70f752912c1cb0466f24f7]\n",
       "reverse link E4 to E5--><a href=\"psysml:5c4fbfc6-6feb-457a-9610-da755776e124\" target=\"_top\" title=\"psysml:5c4fbfc6-6feb-457a-9610-da755776e124\" xlink:actuate=\"onRequest\" xlink:href=\"psysml:5c4fbfc6-6feb-457a-9610-da755776e124\" xlink:show=\"new\" xlink:title=\"psysml:5c4fbfc6-6feb-457a-9610-da755776e124\" xlink:type=\"simple\"><path d=\"M104,437.45 C104,453.34 104,469.51 104,482.98 \" fill=\"none\" id=\"E4&lt;-E5\" style=\"stroke: #A80036; stroke-width: 1.0;\"/><ellipse cx=\"104\" cy=\"430.4\" fill=\"#FFFFFF\" rx=\"8\" ry=\"8\" style=\"stroke: #A80036; stroke-width: 1.0;\"/><line style=\"stroke: #A80036; stroke-width: 1.0;\" x1=\"104\" x2=\"104\" y1=\"438.4\" y2=\"422.4\"/><line style=\"stroke: #A80036; stroke-width: 1.0;\" x1=\"96\" x2=\"112\" y1=\"430.4\" y2=\"430.4\"/></a><!--MD5=[c6fc7cdb0cabde04948078cf183fa696]\n",
       "reverse link E4 to E8--><a href=\"psysml:577c6bec-7675-4e65-a136-10b226b9020a\" target=\"_top\" title=\"psysml:577c6bec-7675-4e65-a136-10b226b9020a\" xlink:actuate=\"onRequest\" xlink:href=\"psysml:577c6bec-7675-4e65-a136-10b226b9020a\" xlink:show=\"new\" xlink:title=\"psysml:577c6bec-7675-4e65-a136-10b226b9020a\" xlink:type=\"simple\"><path d=\"M174.75,431.16 C199.83,453.36 226.43,476.92 245.13,493.48 \" fill=\"none\" id=\"E4&lt;-E8\" style=\"stroke: #A80036; stroke-width: 1.0;\"/><polygon fill=\"#A80036\" points=\"164.87,422.4,166.7154,429.371,173.86,430.3486,172.0145,423.3776,164.87,422.4\" style=\"stroke: #A80036; stroke-width: 1.0;\"/></a><!--MD5=[062ed86c389d1a88f61c6380d0491e17]\n",
       "reverse link E12 to E13--><a href=\"psysml:b72900fb-e3ca-4439-ac22-acb3bf892de5\" target=\"_top\" title=\"psysml:b72900fb-e3ca-4439-ac22-acb3bf892de5\" xlink:actuate=\"onRequest\" xlink:href=\"psysml:b72900fb-e3ca-4439-ac22-acb3bf892de5\" xlink:show=\"new\" xlink:title=\"psysml:b72900fb-e3ca-4439-ac22-acb3bf892de5\" xlink:type=\"simple\"><path d=\"M76.49,120.8 C83.17,142.92 91.6,170.89 97.36,189.99 \" fill=\"none\" id=\"E12&lt;-E13\" style=\"stroke: #A80036; stroke-width: 1.0;\"/><polygon fill=\"#A80036\" points=\"72.71,108.24,70.6129,115.1394,76.1751,119.7288,78.2722,112.8294,72.71,108.24\" style=\"stroke: #A80036; stroke-width: 1.0;\"/></a><!--MD5=[017847e01ff9a8bd19f247411074f987]\n",
       "link E13 to E4--><a href=\"psysml:ed6e641a-605b-4ed9-9064-d41509e7ab16\" target=\"_top\" title=\"psysml:ed6e641a-605b-4ed9-9064-d41509e7ab16\" xlink:actuate=\"onRequest\" xlink:href=\"psysml:ed6e641a-605b-4ed9-9064-d41509e7ab16\" xlink:show=\"new\" xlink:title=\"psysml:ed6e641a-605b-4ed9-9064-d41509e7ab16\" xlink:type=\"simple\"><path d=\"M104,236.17 C104,251.17 104,271.91 104,292.44 \" fill=\"none\" id=\"E13-&gt;E4\" style=\"stroke: #A80036; stroke-width: 1.0;\"/><polygon fill=\"#FFFFFF\" points=\"104,312.68,97,293.68,111,293.68,104,312.68\" style=\"stroke: #A80036; stroke-width: 1.0;\"/><ellipse cx=\"99\" cy=\"287.98\" fill=\"#A80036\" rx=\"2\" ry=\"2\" style=\"stroke: #A80036; stroke-width: 1.0;\"/><ellipse cx=\"109\" cy=\"287.98\" fill=\"#A80036\" rx=\"2\" ry=\"2\" style=\"stroke: #A80036; stroke-width: 1.0;\"/></a><!--MD5=[2cfe899c895462254056921bfb67315f]\n",
       "link E13 to E11--><a href=\"psysml:11f1a2a5-a4e7-4875-8b16-7052fd317758\" target=\"_top\" title=\"psysml:11f1a2a5-a4e7-4875-8b16-7052fd317758\" xlink:actuate=\"onRequest\" xlink:href=\"psysml:11f1a2a5-a4e7-4875-8b16-7052fd317758\" xlink:show=\"new\" xlink:title=\"psysml:11f1a2a5-a4e7-4875-8b16-7052fd317758\" xlink:type=\"simple\"><path d=\"M124.5,236.17 C150.09,263.85 193.77,311.09 220.92,340.45 \" fill=\"none\" id=\"E13-&gt;E11\" style=\"stroke: #A80036; stroke-width: 1.0; stroke-dasharray: 7.0,7.0;\"/><polygon fill=\"#A80036\" points=\"224.47,344.3,221.2896,334.9788,221.0727,340.6315,215.42,340.4145,224.47,344.3\" style=\"stroke: #A80036; stroke-width: 1.0;\"/><text fill=\"#000000\" font-family=\"sans-serif\" font-size=\"13\" lengthAdjust=\"spacingAndGlyphs\" textLength=\"57\" x=\"167\" y=\"279.0669\">«satisfy»</text></a><!--MD5=[fbe3ee0deb9cec292f13998f53a87d82]\n",
       "@startuml\r\n",
       " \r\n",
       "package \"RequirementTest\" as E1  [[psysml:8aa028f5-1693-4b51-bff2-c94d0f18c930 ]]  {\r\n",
       "comp def \"C\" as E2  <<(D,brown)constraint def>> [[psysml:27c2a771-07cf-4bde-9591-6030a1a15742 ]] {\r\n",
       "}\r\n",
       "comp usage \"c: C\" as E3  <<(U,orange)constraint>> [[psysml:da02b217-f155-4220-a2dc-d840d0d24f86 ]] {\r\n",
       "}\r\n",
       "comp def \"R\" as E4  <<(D,brown)requirement def>> [[psysml:b9a9d178-6ba0-415d-80bd-8d7e5aacf32f ]] {\r\n",
       "\r\n",
       "- -\r\n",
       "- - constraints - -\r\n",
       "<b>require</b> c\r\n",
       "<i>assume</i> c1: C\r\n",
       "}\r\n",
       "comp def \" [<b>1</b>] A\" as E5  <<(D,brown)requirement def>> [[psysml:5c4fbfc6-6feb-457a-9610-da755776e124 ]] {\r\n",
       "Text\r\n",
       "- -\r\n",
       "}\r\n",
       "comp usage \"<s>noname</s>\" as E8  <<(U,orange)requirement>> [[psysml:577c6bec-7675-4e65-a136-10b226b9020a ]] {\r\n",
       "}\r\n",
       "comp def \"R1\" as E9  <<(D,brown)requirement def>> [[psysml:291c6c45-8332-45a6-809f-574961a49898 ]] {\r\n",
       "- - constraints - -\r\n",
       "<b>require</b> c1\\n//:>>RequirementTest::c// \r\n",
       "}\r\n",
       "comp usage \"p\" as E11  << (P,limegreen) part>> [[psysml:b7118396-8822-4234-af4f-531e34fd2b85 ]] {\r\n",
       "}\r\n",
       "comp usage \"q\" as E12  << (P,limegreen) part>> [[psysml:5710aa92-7822-41e6-89ae-9d2d61cb8bf3 ]] {\r\n",
       "}\r\n",
       "comp usage \"r: R\" as E13  <<(U,orange)requirement>> [[psysml:b72900fb-e3ca-4439-ac22-acb3bf892de5 ]] {\r\n",
       "}\r\n",
       "E3 - -:|> E2 [[psysml:8b4534c8-c65f-4721-aa95-1aefa1ee4858 ]] \r\n",
       "E4 +- - E5 [[psysml:5c4fbfc6-6feb-457a-9610-da755776e124 ]] \r\n",
       "E4 *- - E8 [[psysml:577c6bec-7675-4e65-a136-10b226b9020a ]] \r\n",
       "E12 *- - E13 [[psysml:b72900fb-e3ca-4439-ac22-acb3bf892de5 ]] \r\n",
       "E13 - -:|> E4 [[psysml:ed6e641a-605b-4ed9-9064-d41509e7ab16 ]] \r\n",
       "E13 ..> E11 [[psysml:11f1a2a5-a4e7-4875-8b16-7052fd317758 ]] : <<satisfy>>\r\n",
       "}\r\n",
       "@enduml\r\n",
       "\n",
       "PlantUML version 1.2020.13(Sat Jun 13 12:26:38 UTC 2020)\n",
       "(EPL source distribution)\n",
       "Java Runtime: OpenJDK Runtime Environment\n",
       "JVM: OpenJDK 64-Bit Server VM\n",
       "Default Encoding: UTF-8\n",
       "Language: en\n",
       "Country: null\n",
       "--></g></svg>"
      ]
     },
     "execution_count": 30,
     "metadata": {},
     "output_type": "execute_result"
    }
   ],
   "source": [
    "%viz --style=\"PLANTUML\" --view=\"Default\" \"RequirementTest\""
   ]
  },
  {
   "cell_type": "code",
   "execution_count": 31,
   "id": "vocational-discretion",
   "metadata": {
    "execution": {
     "iopub.execute_input": "2021-03-26T09:12:29.270747Z",
     "iopub.status.busy": "2021-03-26T09:12:29.270194Z",
     "iopub.status.idle": "2021-03-26T09:12:29.358949Z",
     "shell.execute_reply": "2021-03-26T09:12:29.359272Z"
    }
   },
   "outputs": [
    {
     "data": {
      "image/svg+xml": [
       "<?xml version=\"1.0\" encoding=\"UTF-8\" standalone=\"no\"?><svg xmlns=\"http://www.w3.org/2000/svg\" xmlns:xlink=\"http://www.w3.org/1999/xlink\" contentScriptType=\"application/ecmascript\" contentStyleType=\"text/css\" height=\"578px\" preserveAspectRatio=\"none\" style=\"width:460px;height:578px;\" version=\"1.1\" viewBox=\"0 0 460 578\" width=\"460px\" zoomAndPan=\"magnify\"><defs><filter height=\"300%\" id=\"f1blmf30dfgk9t\" width=\"300%\" x=\"-1\" y=\"-1\"><feGaussianBlur result=\"blurOut\" stdDeviation=\"2.0\"/><feColorMatrix in=\"blurOut\" result=\"blurOut2\" type=\"matrix\" values=\"0 0 0 0 0 0 0 0 0 0 0 0 0 0 0 0 0 0 .4 0\"/><feOffset dx=\"4.0\" dy=\"4.0\" in=\"blurOut2\" result=\"blurOut3\"/><feBlend in=\"SourceGraphic\" in2=\"blurOut3\" mode=\"normal\"/></filter></defs><g><!--MD5=[fbc87193dbaf4d95561dea2c320d4a47]\n",
       "cluster E1--><a href=\"psysml:8aa028f5-1693-4b51-bff2-c94d0f18c930\" target=\"_top\" title=\"psysml:8aa028f5-1693-4b51-bff2-c94d0f18c930\" xlink:actuate=\"onRequest\" xlink:href=\"psysml:8aa028f5-1693-4b51-bff2-c94d0f18c930\" xlink:show=\"new\" xlink:title=\"psysml:8aa028f5-1693-4b51-bff2-c94d0f18c930\" xlink:type=\"simple\"><polygon fill=\"#FFFFFF\" filter=\"url(#f1blmf30dfgk9t)\" points=\"16,6,158,6,165,28.2969,438,28.2969,438,566,16,566,16,6\" style=\"stroke: #000000; stroke-width: 1.5;\"/><line style=\"stroke: #000000; stroke-width: 1.5;\" x1=\"16\" x2=\"165\" y1=\"28.2969\" y2=\"28.2969\"/><text fill=\"#000000\" font-family=\"sans-serif\" font-size=\"14\" font-weight=\"bold\" lengthAdjust=\"spacingAndGlyphs\" textLength=\"136\" x=\"20\" y=\"20.9951\">RequirementTest</text></a><!--MD5=[b4997ac47864f28c2f74865a473b2911]\n",
       "class E2--><a href=\"psysml:27c2a771-07cf-4bde-9591-6030a1a15742\" target=\"_top\" title=\"psysml:27c2a771-07cf-4bde-9591-6030a1a15742\" xlink:actuate=\"onRequest\" xlink:href=\"psysml:27c2a771-07cf-4bde-9591-6030a1a15742\" xlink:show=\"new\" xlink:title=\"psysml:27c2a771-07cf-4bde-9591-6030a1a15742\" xlink:type=\"simple\"><rect fill=\"#FEFECE\" filter=\"url(#f1blmf30dfgk9t)\" height=\"45.9375\" id=\"E2\" style=\"stroke: #A80036; stroke-width: 1.5;\" width=\"130\" x=\"292\" y=\"190\"/><ellipse cx=\"307\" cy=\"208.9688\" fill=\"#A52A2A\" rx=\"11\" ry=\"11\" style=\"stroke: #A80036; stroke-width: 1.0;\"/><path d=\"M306.5938,204.7813 L306.5938,212.7656 L307.25,212.7656 Q308.6875,212.7656 309.2969,211.8594 Q309.9219,210.9375 309.9219,208.7656 Q309.9219,206.5938 309.2969,205.6875 Q308.6875,204.7813 307.25,204.7813 L306.5938,204.7813 Z M304.1406,202.5781 L306.7656,202.5781 Q309.7969,202.5781 311.125,204.0313 Q312.4688,205.4688 312.4688,208.7656 Q312.4688,212.0625 311.125,213.5156 Q309.7969,214.9688 306.7656,214.9688 L304.1406,214.9688 L304.1406,202.5781 Z \"/><text fill=\"#000000\" font-family=\"sans-serif\" font-size=\"12\" font-style=\"italic\" lengthAdjust=\"spacingAndGlyphs\" textLength=\"102\" x=\"319\" y=\"206.1387\">«constraint def»</text><text fill=\"#000000\" font-family=\"sans-serif\" font-size=\"12\" lengthAdjust=\"spacingAndGlyphs\" textLength=\"8\" x=\"366\" y=\"220.1074\">C</text><line style=\"stroke: #A80036; stroke-width: 1.5;\" x1=\"293\" x2=\"421\" y1=\"227.9375\" y2=\"227.9375\"/></a><!--MD5=[09b614a08d8cba4a07c9adeb5e0fee81]\n",
       "class E3--><a href=\"psysml:da02b217-f155-4220-a2dc-d840d0d24f86\" target=\"_top\" title=\"psysml:da02b217-f155-4220-a2dc-d840d0d24f86\" xlink:actuate=\"onRequest\" xlink:href=\"psysml:da02b217-f155-4220-a2dc-d840d0d24f86\" xlink:show=\"new\" xlink:title=\"psysml:da02b217-f155-4220-a2dc-d840d0d24f86\" xlink:type=\"simple\"><rect fill=\"#FEFECE\" filter=\"url(#f1blmf30dfgk9t)\" height=\"45.9375\" id=\"E3\" rx=\"10\" ry=\"10\" style=\"stroke: #A80036; stroke-width: 1.5;\" width=\"106\" x=\"316\" y=\"62\"/><ellipse cx=\"331\" cy=\"80.9688\" fill=\"#FFA500\" rx=\"11\" ry=\"11\" style=\"stroke: #A80036; stroke-width: 1.0;\"/><path d=\"M326.875,82.8906 L326.875,75.0781 L329.3281,75.0781 L329.3281,83.5156 Q329.3281,84.4375 329.7969,84.9688 Q330.2813,85.5 331.1094,85.5 Q331.9531,85.5 332.4219,84.9688 Q332.8906,84.4375 332.8906,83.5156 L332.8906,75.0781 L335.3438,75.0781 L335.3438,82.8906 Q335.3438,85.4219 334.3438,86.5625 Q333.3438,87.7031 331.1094,87.7031 Q328.8906,87.7031 327.875,86.5625 Q326.875,85.4219 326.875,82.8906 Z \"/><text fill=\"#000000\" font-family=\"sans-serif\" font-size=\"12\" font-style=\"italic\" lengthAdjust=\"spacingAndGlyphs\" textLength=\"78\" x=\"343\" y=\"78.1387\">«constraint»</text><text fill=\"#000000\" font-family=\"sans-serif\" font-size=\"12\" lengthAdjust=\"spacingAndGlyphs\" textLength=\"23\" x=\"370.5\" y=\"92.1074\">c: C</text><line style=\"stroke: #A80036; stroke-width: 1.5;\" x1=\"317\" x2=\"421\" y1=\"99.9375\" y2=\"99.9375\"/></a><!--MD5=[ebbe1d658d1005bcc118a6aa81145e00]\n",
       "class E4--><a href=\"psysml:b9a9d178-6ba0-415d-80bd-8d7e5aacf32f\" target=\"_top\" title=\"psysml:b9a9d178-6ba0-415d-80bd-8d7e5aacf32f\" xlink:actuate=\"onRequest\" xlink:href=\"psysml:b9a9d178-6ba0-415d-80bd-8d7e5aacf32f\" xlink:show=\"new\" xlink:title=\"psysml:b9a9d178-6ba0-415d-80bd-8d7e5aacf32f\" xlink:type=\"simple\"><rect fill=\"#FEFECE\" filter=\"url(#f1blmf30dfgk9t)\" height=\"109.1563\" id=\"E4\" style=\"stroke: #A80036; stroke-width: 1.5;\" width=\"143\" x=\"32.5\" y=\"313\"/><ellipse cx=\"47.5\" cy=\"331.9688\" fill=\"#A52A2A\" rx=\"11\" ry=\"11\" style=\"stroke: #A80036; stroke-width: 1.0;\"/><path d=\"M47.0938,327.7813 L47.0938,335.7656 L47.75,335.7656 Q49.1875,335.7656 49.7969,334.8594 Q50.4219,333.9375 50.4219,331.7656 Q50.4219,329.5938 49.7969,328.6875 Q49.1875,327.7813 47.75,327.7813 L47.0938,327.7813 Z M44.6406,325.5781 L47.2656,325.5781 Q50.2969,325.5781 51.625,327.0313 Q52.9688,328.4688 52.9688,331.7656 Q52.9688,335.0625 51.625,336.5156 Q50.2969,337.9688 47.2656,337.9688 L44.6406,337.9688 L44.6406,325.5781 Z \"/><text fill=\"#000000\" font-family=\"sans-serif\" font-size=\"12\" font-style=\"italic\" lengthAdjust=\"spacingAndGlyphs\" textLength=\"115\" x=\"59.5\" y=\"329.1387\">«requirement def»</text><text fill=\"#000000\" font-family=\"sans-serif\" font-size=\"12\" lengthAdjust=\"spacingAndGlyphs\" textLength=\"8\" x=\"113\" y=\"343.1074\">R</text><line style=\"stroke: #A80036; stroke-width: 1.5;\" x1=\"33.5\" x2=\"174.5\" y1=\"350.9375\" y2=\"350.9375\"/><text fill=\"#000000\" font-family=\"sans-serif\" font-size=\"11\" lengthAdjust=\"spacingAndGlyphs\" textLength=\"0\" x=\"42.5\" y=\"365.1479\"/><line style=\"stroke: #A80036; stroke-width: 1.0;\" x1=\"33.5\" x2=\"174.5\" y1=\"371.7422\" y2=\"371.7422\"/><text fill=\"#000000\" font-family=\"sans-serif\" font-size=\"11\" font-weight=\"bold\" lengthAdjust=\"spacingAndGlyphs\" textLength=\"46\" x=\"38.5\" y=\"402.7573\">require</text><text fill=\"#000000\" font-family=\"sans-serif\" font-size=\"11\" lengthAdjust=\"spacingAndGlyphs\" textLength=\"6\" x=\"88.5\" y=\"402.7573\">c</text><text fill=\"#000000\" font-family=\"sans-serif\" font-size=\"11\" font-style=\"italic\" lengthAdjust=\"spacingAndGlyphs\" textLength=\"46\" x=\"38.5\" y=\"415.562\">assume</text><text fill=\"#000000\" font-family=\"sans-serif\" font-size=\"11\" lengthAdjust=\"spacingAndGlyphs\" textLength=\"29\" x=\"88.5\" y=\"415.562\">c1: C</text><line style=\"stroke: #A80036; stroke-width: 1.0;\" x1=\"33.5\" x2=\"72\" y1=\"386.1445\" y2=\"386.1445\"/><text fill=\"#000000\" font-family=\"sans-serif\" font-size=\"11\" lengthAdjust=\"spacingAndGlyphs\" textLength=\"64\" x=\"72\" y=\"389.4526\">constraints</text><line style=\"stroke: #A80036; stroke-width: 1.0;\" x1=\"136\" x2=\"174.5\" y1=\"386.1445\" y2=\"386.1445\"/></a><!--MD5=[270fce915f116d4de14055a7c1d9a0f3]\n",
       "class E5--><a href=\"psysml:5c4fbfc6-6feb-457a-9610-da755776e124\" target=\"_top\" title=\"psysml:5c4fbfc6-6feb-457a-9610-da755776e124\" xlink:actuate=\"onRequest\" xlink:href=\"psysml:5c4fbfc6-6feb-457a-9610-da755776e124\" xlink:show=\"new\" xlink:title=\"psysml:5c4fbfc6-6feb-457a-9610-da755776e124\" xlink:type=\"simple\"><rect fill=\"#FEFECE\" filter=\"url(#f1blmf30dfgk9t)\" height=\"66.7422\" id=\"E5\" style=\"stroke: #A80036; stroke-width: 1.5;\" width=\"143\" x=\"32.5\" y=\"483\"/><ellipse cx=\"47.5\" cy=\"501.9688\" fill=\"#A52A2A\" rx=\"11\" ry=\"11\" style=\"stroke: #A80036; stroke-width: 1.0;\"/><path d=\"M47.0938,497.7813 L47.0938,505.7656 L47.75,505.7656 Q49.1875,505.7656 49.7969,504.8594 Q50.4219,503.9375 50.4219,501.7656 Q50.4219,499.5938 49.7969,498.6875 Q49.1875,497.7813 47.75,497.7813 L47.0938,497.7813 Z M44.6406,495.5781 L47.2656,495.5781 Q50.2969,495.5781 51.625,497.0313 Q52.9688,498.4688 52.9688,501.7656 Q52.9688,505.0625 51.625,506.5156 Q50.2969,507.9688 47.2656,507.9688 L44.6406,507.9688 L44.6406,495.5781 Z \"/><text fill=\"#000000\" font-family=\"sans-serif\" font-size=\"12\" font-style=\"italic\" lengthAdjust=\"spacingAndGlyphs\" textLength=\"115\" x=\"59.5\" y=\"499.1387\">«requirement def»</text><text fill=\"#000000\" font-family=\"sans-serif\" font-size=\"12\" lengthAdjust=\"spacingAndGlyphs\" textLength=\"5\" x=\"104\" y=\"513.1074\">[</text><text fill=\"#000000\" font-family=\"sans-serif\" font-size=\"12\" font-weight=\"bold\" lengthAdjust=\"spacingAndGlyphs\" textLength=\"8\" x=\"109\" y=\"513.1074\">1</text><text fill=\"#000000\" font-family=\"sans-serif\" font-size=\"12\" lengthAdjust=\"spacingAndGlyphs\" textLength=\"17\" x=\"117\" y=\"513.1074\">] A</text><line style=\"stroke: #A80036; stroke-width: 1.5;\" x1=\"33.5\" x2=\"174.5\" y1=\"520.9375\" y2=\"520.9375\"/><text fill=\"#000000\" font-family=\"sans-serif\" font-size=\"11\" lengthAdjust=\"spacingAndGlyphs\" textLength=\"24\" x=\"38.5\" y=\"535.1479\">Text</text><line style=\"stroke: #A80036; stroke-width: 1.0;\" x1=\"33.5\" x2=\"174.5\" y1=\"541.7422\" y2=\"541.7422\"/></a><!--MD5=[b9389687b975829384b498ac4b7476b2]\n",
       "class E8--><a href=\"psysml:577c6bec-7675-4e65-a136-10b226b9020a\" target=\"_top\" title=\"psysml:577c6bec-7675-4e65-a136-10b226b9020a\" xlink:actuate=\"onRequest\" xlink:href=\"psysml:577c6bec-7675-4e65-a136-10b226b9020a\" xlink:show=\"new\" xlink:title=\"psysml:577c6bec-7675-4e65-a136-10b226b9020a\" xlink:type=\"simple\"><rect fill=\"#FEFECE\" filter=\"url(#f1blmf30dfgk9t)\" height=\"45.9375\" id=\"E8\" rx=\"10\" ry=\"10\" style=\"stroke: #A80036; stroke-width: 1.5;\" width=\"119\" x=\"210.5\" y=\"493.5\"/><ellipse cx=\"225.5\" cy=\"512.4688\" fill=\"#FFA500\" rx=\"11\" ry=\"11\" style=\"stroke: #A80036; stroke-width: 1.0;\"/><path d=\"M221.375,514.3906 L221.375,506.5781 L223.8281,506.5781 L223.8281,515.0156 Q223.8281,515.9375 224.2969,516.4688 Q224.7813,517 225.6094,517 Q226.4531,517 226.9219,516.4688 Q227.3906,515.9375 227.3906,515.0156 L227.3906,506.5781 L229.8438,506.5781 L229.8438,514.3906 Q229.8438,516.9219 228.8438,518.0625 Q227.8438,519.2031 225.6094,519.2031 Q223.3906,519.2031 222.375,518.0625 Q221.375,516.9219 221.375,514.3906 Z \"/><text fill=\"#000000\" font-family=\"sans-serif\" font-size=\"12\" font-style=\"italic\" lengthAdjust=\"spacingAndGlyphs\" textLength=\"91\" x=\"237.5\" y=\"509.6387\">«requirement»</text><text fill=\"#000000\" font-family=\"sans-serif\" font-size=\"12\" lengthAdjust=\"spacingAndGlyphs\" text-decoration=\"line-through\" textLength=\"51\" x=\"257.5\" y=\"523.6074\">noname</text><line style=\"stroke: #A80036; stroke-width: 1.5;\" x1=\"211.5\" x2=\"328.5\" y1=\"531.4375\" y2=\"531.4375\"/></a><!--MD5=[fd4143e9d270a159db93a4ea2a975926]\n",
       "class E9--><a href=\"psysml:291c6c45-8332-45a6-809f-574961a49898\" target=\"_top\" title=\"psysml:291c6c45-8332-45a6-809f-574961a49898\" xlink:actuate=\"onRequest\" xlink:href=\"psysml:291c6c45-8332-45a6-809f-574961a49898\" xlink:show=\"new\" xlink:title=\"psysml:291c6c45-8332-45a6-809f-574961a49898\" xlink:type=\"simple\"><rect fill=\"#FEFECE\" filter=\"url(#f1blmf30dfgk9t)\" height=\"88.3516\" id=\"E9\" style=\"stroke: #A80036; stroke-width: 1.5;\" width=\"145\" x=\"135.5\" y=\"41\"/><ellipse cx=\"151.4\" cy=\"59.9688\" fill=\"#A52A2A\" rx=\"11\" ry=\"11\" style=\"stroke: #A80036; stroke-width: 1.0;\"/><path d=\"M150.9938,55.7813 L150.9938,63.7656 L151.65,63.7656 Q153.0875,63.7656 153.6969,62.8594 Q154.3219,61.9375 154.3219,59.7656 Q154.3219,57.5938 153.6969,56.6875 Q153.0875,55.7813 151.65,55.7813 L150.9938,55.7813 Z M148.5406,53.5781 L151.1656,53.5781 Q154.1969,53.5781 155.525,55.0313 Q156.8688,56.4688 156.8688,59.7656 Q156.8688,63.0625 155.525,64.5156 Q154.1969,65.9688 151.1656,65.9688 L148.5406,65.9688 L148.5406,53.5781 Z \"/><text fill=\"#000000\" font-family=\"sans-serif\" font-size=\"12\" font-style=\"italic\" lengthAdjust=\"spacingAndGlyphs\" textLength=\"115\" x=\"163.6\" y=\"57.1387\">«requirement def»</text><text fill=\"#000000\" font-family=\"sans-serif\" font-size=\"12\" lengthAdjust=\"spacingAndGlyphs\" textLength=\"16\" x=\"213.1\" y=\"71.1074\">R1</text><line style=\"stroke: #A80036; stroke-width: 1.5;\" x1=\"136.5\" x2=\"279.5\" y1=\"78.9375\" y2=\"78.9375\"/><text fill=\"#000000\" font-family=\"sans-serif\" font-size=\"11\" font-weight=\"bold\" lengthAdjust=\"spacingAndGlyphs\" textLength=\"46\" x=\"141.5\" y=\"109.9526\">require</text><text fill=\"#000000\" font-family=\"sans-serif\" font-size=\"11\" lengthAdjust=\"spacingAndGlyphs\" textLength=\"13\" x=\"191.5\" y=\"109.9526\">c1</text><text fill=\"#000000\" font-family=\"sans-serif\" font-size=\"11\" font-style=\"italic\" lengthAdjust=\"spacingAndGlyphs\" textLength=\"133\" x=\"141.5\" y=\"122.7573\">:&gt;&gt;RequirementTest::c</text><line style=\"stroke: #A80036; stroke-width: 1.0;\" x1=\"136.5\" x2=\"176\" y1=\"93.3398\" y2=\"93.3398\"/><text fill=\"#000000\" font-family=\"sans-serif\" font-size=\"11\" lengthAdjust=\"spacingAndGlyphs\" textLength=\"64\" x=\"176\" y=\"96.6479\">constraints</text><line style=\"stroke: #A80036; stroke-width: 1.0;\" x1=\"240\" x2=\"279.5\" y1=\"93.3398\" y2=\"93.3398\"/></a><!--MD5=[1dd1bfd58a279cf63c5f349dbc8fc6a1]\n",
       "class E11--><a href=\"psysml:b7118396-8822-4234-af4f-531e34fd2b85\" target=\"_top\" title=\"psysml:b7118396-8822-4234-af4f-531e34fd2b85\" xlink:actuate=\"onRequest\" xlink:href=\"psysml:b7118396-8822-4234-af4f-531e34fd2b85\" xlink:show=\"new\" xlink:title=\"psysml:b7118396-8822-4234-af4f-531e34fd2b85\" xlink:type=\"simple\"><rect fill=\"#FEFECE\" filter=\"url(#f1blmf30dfgk9t)\" height=\"45.9375\" id=\"E11\" rx=\"10\" ry=\"10\" style=\"stroke: #A80036; stroke-width: 1.5;\" width=\"68\" x=\"211\" y=\"344.5\"/><ellipse cx=\"226\" cy=\"363.4688\" fill=\"#32CD32\" rx=\"11\" ry=\"11\" style=\"stroke: #A80036; stroke-width: 1.0;\"/><path d=\"M225.7969,359.1406 L225.7969,362.7656 L226.7969,362.7656 Q228,362.7656 228.4844,362.3594 Q228.9688,361.9531 228.9688,360.9531 Q228.9688,359.9531 228.4844,359.5469 Q228,359.1406 226.7969,359.1406 L225.7969,359.1406 Z M223.3438,357.0781 L226.7031,357.0781 Q229.2656,357.0781 230.3906,358 Q231.5156,358.9063 231.5156,360.9531 Q231.5156,363 230.3906,363.9219 Q229.2656,364.8281 226.7031,364.8281 L225.7969,364.8281 L225.7969,369.4688 L223.3438,369.4688 L223.3438,357.0781 Z \"/><text fill=\"#000000\" font-family=\"sans-serif\" font-size=\"12\" font-style=\"italic\" lengthAdjust=\"spacingAndGlyphs\" textLength=\"40\" x=\"238\" y=\"360.6387\">«part»</text><text fill=\"#000000\" font-family=\"sans-serif\" font-size=\"12\" lengthAdjust=\"spacingAndGlyphs\" textLength=\"8\" x=\"254\" y=\"374.6074\">p</text><line style=\"stroke: #A80036; stroke-width: 1.5;\" x1=\"212\" x2=\"278\" y1=\"382.4375\" y2=\"382.4375\"/></a><!--MD5=[49a0ec8f00dab7302a31f22d0f0fe584]\n",
       "class E12--><a href=\"psysml:5710aa92-7822-41e6-89ae-9d2d61cb8bf3\" target=\"_top\" title=\"psysml:5710aa92-7822-41e6-89ae-9d2d61cb8bf3\" xlink:actuate=\"onRequest\" xlink:href=\"psysml:5710aa92-7822-41e6-89ae-9d2d61cb8bf3\" xlink:show=\"new\" xlink:title=\"psysml:5710aa92-7822-41e6-89ae-9d2d61cb8bf3\" xlink:type=\"simple\"><rect fill=\"#FEFECE\" filter=\"url(#f1blmf30dfgk9t)\" height=\"45.9375\" id=\"E12\" rx=\"10\" ry=\"10\" style=\"stroke: #A80036; stroke-width: 1.5;\" width=\"68\" x=\"32\" y=\"62\"/><ellipse cx=\"47\" cy=\"80.9688\" fill=\"#32CD32\" rx=\"11\" ry=\"11\" style=\"stroke: #A80036; stroke-width: 1.0;\"/><path d=\"M46.7969,76.6406 L46.7969,80.2656 L47.7969,80.2656 Q49,80.2656 49.4844,79.8594 Q49.9688,79.4531 49.9688,78.4531 Q49.9688,77.4531 49.4844,77.0469 Q49,76.6406 47.7969,76.6406 L46.7969,76.6406 Z M44.3438,74.5781 L47.7031,74.5781 Q50.2656,74.5781 51.3906,75.5 Q52.5156,76.4063 52.5156,78.4531 Q52.5156,80.5 51.3906,81.4219 Q50.2656,82.3281 47.7031,82.3281 L46.7969,82.3281 L46.7969,86.9688 L44.3438,86.9688 L44.3438,74.5781 Z \"/><text fill=\"#000000\" font-family=\"sans-serif\" font-size=\"12\" font-style=\"italic\" lengthAdjust=\"spacingAndGlyphs\" textLength=\"40\" x=\"59\" y=\"78.1387\">«part»</text><text fill=\"#000000\" font-family=\"sans-serif\" font-size=\"12\" lengthAdjust=\"spacingAndGlyphs\" textLength=\"8\" x=\"75\" y=\"92.1074\">q</text><line style=\"stroke: #A80036; stroke-width: 1.5;\" x1=\"33\" x2=\"99\" y1=\"99.9375\" y2=\"99.9375\"/></a><!--MD5=[ee3c913d1a06f366521f9ef512b67efe]\n",
       "class E13--><a href=\"psysml:b72900fb-e3ca-4439-ac22-acb3bf892de5\" target=\"_top\" title=\"psysml:b72900fb-e3ca-4439-ac22-acb3bf892de5\" xlink:actuate=\"onRequest\" xlink:href=\"psysml:b72900fb-e3ca-4439-ac22-acb3bf892de5\" xlink:show=\"new\" xlink:title=\"psysml:b72900fb-e3ca-4439-ac22-acb3bf892de5\" xlink:type=\"simple\"><rect fill=\"#FEFECE\" filter=\"url(#f1blmf30dfgk9t)\" height=\"45.9375\" id=\"E13\" rx=\"10\" ry=\"10\" style=\"stroke: #A80036; stroke-width: 1.5;\" width=\"119\" x=\"44.5\" y=\"190\"/><ellipse cx=\"59.5\" cy=\"208.9688\" fill=\"#FFA500\" rx=\"11\" ry=\"11\" style=\"stroke: #A80036; stroke-width: 1.0;\"/><path d=\"M55.375,210.8906 L55.375,203.0781 L57.8281,203.0781 L57.8281,211.5156 Q57.8281,212.4375 58.2969,212.9688 Q58.7813,213.5 59.6094,213.5 Q60.4531,213.5 60.9219,212.9688 Q61.3906,212.4375 61.3906,211.5156 L61.3906,203.0781 L63.8438,203.0781 L63.8438,210.8906 Q63.8438,213.4219 62.8438,214.5625 Q61.8438,215.7031 59.6094,215.7031 Q57.3906,215.7031 56.375,214.5625 Q55.375,213.4219 55.375,210.8906 Z \"/><text fill=\"#000000\" font-family=\"sans-serif\" font-size=\"12\" font-style=\"italic\" lengthAdjust=\"spacingAndGlyphs\" textLength=\"91\" x=\"71.5\" y=\"206.1387\">«requirement»</text><text fill=\"#000000\" font-family=\"sans-serif\" font-size=\"12\" lengthAdjust=\"spacingAndGlyphs\" textLength=\"21\" x=\"106.5\" y=\"220.1074\">r: R</text><line style=\"stroke: #A80036; stroke-width: 1.5;\" x1=\"45.5\" x2=\"162.5\" y1=\"227.9375\" y2=\"227.9375\"/></a><!--MD5=[05d275557350bfb9b23a4ef7222b4c39]\n",
       "link E3 to E2--><a href=\"psysml:8b4534c8-c65f-4721-aa95-1aefa1ee4858\" target=\"_top\" title=\"psysml:8b4534c8-c65f-4721-aa95-1aefa1ee4858\" xlink:actuate=\"onRequest\" xlink:href=\"psysml:8b4534c8-c65f-4721-aa95-1aefa1ee4858\" xlink:show=\"new\" xlink:title=\"psysml:8b4534c8-c65f-4721-aa95-1aefa1ee4858\" xlink:type=\"simple\"><path d=\"M366.88,108.24 C365.26,125.24 362.98,149.19 361.02,169.79 \" fill=\"none\" id=\"E3-&gt;E2\" style=\"stroke: #A80036; stroke-width: 1.0;\"/><polygon fill=\"#FFFFFF\" points=\"359.1,189.99,353.9362,170.411,367.8729,171.7407,359.1,189.99\" style=\"stroke: #A80036; stroke-width: 1.0;\"/><ellipse cx=\"356.4685\" cy=\"164.9268\" fill=\"#A80036\" rx=\"2\" ry=\"2\" style=\"stroke: #A80036; stroke-width: 1.0;\"/><ellipse cx=\"366.4233\" cy=\"165.8765\" fill=\"#A80036\" rx=\"2\" ry=\"2\" style=\"stroke: #A80036; stroke-width: 1.0;\"/></a><!--MD5=[62aa6af11e70f752912c1cb0466f24f7]\n",
       "reverse link E4 to E5--><a href=\"psysml:5c4fbfc6-6feb-457a-9610-da755776e124\" target=\"_top\" title=\"psysml:5c4fbfc6-6feb-457a-9610-da755776e124\" xlink:actuate=\"onRequest\" xlink:href=\"psysml:5c4fbfc6-6feb-457a-9610-da755776e124\" xlink:show=\"new\" xlink:title=\"psysml:5c4fbfc6-6feb-457a-9610-da755776e124\" xlink:type=\"simple\"><path d=\"M104,437.45 C104,453.34 104,469.51 104,482.98 \" fill=\"none\" id=\"E4&lt;-E5\" style=\"stroke: #A80036; stroke-width: 1.0;\"/><ellipse cx=\"104\" cy=\"430.4\" fill=\"#FFFFFF\" rx=\"8\" ry=\"8\" style=\"stroke: #A80036; stroke-width: 1.0;\"/><line style=\"stroke: #A80036; stroke-width: 1.0;\" x1=\"104\" x2=\"104\" y1=\"438.4\" y2=\"422.4\"/><line style=\"stroke: #A80036; stroke-width: 1.0;\" x1=\"96\" x2=\"112\" y1=\"430.4\" y2=\"430.4\"/></a><!--MD5=[c6fc7cdb0cabde04948078cf183fa696]\n",
       "reverse link E4 to E8--><a href=\"psysml:577c6bec-7675-4e65-a136-10b226b9020a\" target=\"_top\" title=\"psysml:577c6bec-7675-4e65-a136-10b226b9020a\" xlink:actuate=\"onRequest\" xlink:href=\"psysml:577c6bec-7675-4e65-a136-10b226b9020a\" xlink:show=\"new\" xlink:title=\"psysml:577c6bec-7675-4e65-a136-10b226b9020a\" xlink:type=\"simple\"><path d=\"M174.75,431.16 C199.83,453.36 226.43,476.92 245.13,493.48 \" fill=\"none\" id=\"E4&lt;-E8\" style=\"stroke: #A80036; stroke-width: 1.0;\"/><polygon fill=\"#A80036\" points=\"164.87,422.4,166.7154,429.371,173.86,430.3486,172.0145,423.3776,164.87,422.4\" style=\"stroke: #A80036; stroke-width: 1.0;\"/></a><!--MD5=[062ed86c389d1a88f61c6380d0491e17]\n",
       "reverse link E12 to E13--><a href=\"psysml:b72900fb-e3ca-4439-ac22-acb3bf892de5\" target=\"_top\" title=\"psysml:b72900fb-e3ca-4439-ac22-acb3bf892de5\" xlink:actuate=\"onRequest\" xlink:href=\"psysml:b72900fb-e3ca-4439-ac22-acb3bf892de5\" xlink:show=\"new\" xlink:title=\"psysml:b72900fb-e3ca-4439-ac22-acb3bf892de5\" xlink:type=\"simple\"><path d=\"M76.49,120.8 C83.17,142.92 91.6,170.89 97.36,189.99 \" fill=\"none\" id=\"E12&lt;-E13\" style=\"stroke: #A80036; stroke-width: 1.0;\"/><polygon fill=\"#A80036\" points=\"72.71,108.24,70.6129,115.1394,76.1751,119.7288,78.2722,112.8294,72.71,108.24\" style=\"stroke: #A80036; stroke-width: 1.0;\"/></a><!--MD5=[017847e01ff9a8bd19f247411074f987]\n",
       "link E13 to E4--><a href=\"psysml:ed6e641a-605b-4ed9-9064-d41509e7ab16\" target=\"_top\" title=\"psysml:ed6e641a-605b-4ed9-9064-d41509e7ab16\" xlink:actuate=\"onRequest\" xlink:href=\"psysml:ed6e641a-605b-4ed9-9064-d41509e7ab16\" xlink:show=\"new\" xlink:title=\"psysml:ed6e641a-605b-4ed9-9064-d41509e7ab16\" xlink:type=\"simple\"><path d=\"M104,236.17 C104,251.17 104,271.91 104,292.44 \" fill=\"none\" id=\"E13-&gt;E4\" style=\"stroke: #A80036; stroke-width: 1.0;\"/><polygon fill=\"#FFFFFF\" points=\"104,312.68,97,293.68,111,293.68,104,312.68\" style=\"stroke: #A80036; stroke-width: 1.0;\"/><ellipse cx=\"99\" cy=\"287.98\" fill=\"#A80036\" rx=\"2\" ry=\"2\" style=\"stroke: #A80036; stroke-width: 1.0;\"/><ellipse cx=\"109\" cy=\"287.98\" fill=\"#A80036\" rx=\"2\" ry=\"2\" style=\"stroke: #A80036; stroke-width: 1.0;\"/></a><!--MD5=[2cfe899c895462254056921bfb67315f]\n",
       "link E13 to E11--><a href=\"psysml:11f1a2a5-a4e7-4875-8b16-7052fd317758\" target=\"_top\" title=\"psysml:11f1a2a5-a4e7-4875-8b16-7052fd317758\" xlink:actuate=\"onRequest\" xlink:href=\"psysml:11f1a2a5-a4e7-4875-8b16-7052fd317758\" xlink:show=\"new\" xlink:title=\"psysml:11f1a2a5-a4e7-4875-8b16-7052fd317758\" xlink:type=\"simple\"><path d=\"M124.5,236.17 C150.09,263.85 193.77,311.09 220.92,340.45 \" fill=\"none\" id=\"E13-&gt;E11\" style=\"stroke: #A80036; stroke-width: 1.0; stroke-dasharray: 7.0,7.0;\"/><polygon fill=\"#A80036\" points=\"224.47,344.3,221.2896,334.9788,221.0727,340.6315,215.42,340.4145,224.47,344.3\" style=\"stroke: #A80036; stroke-width: 1.0;\"/><text fill=\"#000000\" font-family=\"sans-serif\" font-size=\"13\" lengthAdjust=\"spacingAndGlyphs\" textLength=\"57\" x=\"167\" y=\"279.0669\">«satisfy»</text></a><!--MD5=[fbe3ee0deb9cec292f13998f53a87d82]\n",
       "@startuml\r\n",
       " \r\n",
       "package \"RequirementTest\" as E1  [[psysml:8aa028f5-1693-4b51-bff2-c94d0f18c930 ]]  {\r\n",
       "comp def \"C\" as E2  <<(D,brown)constraint def>> [[psysml:27c2a771-07cf-4bde-9591-6030a1a15742 ]] {\r\n",
       "}\r\n",
       "comp usage \"c: C\" as E3  <<(U,orange)constraint>> [[psysml:da02b217-f155-4220-a2dc-d840d0d24f86 ]] {\r\n",
       "}\r\n",
       "comp def \"R\" as E4  <<(D,brown)requirement def>> [[psysml:b9a9d178-6ba0-415d-80bd-8d7e5aacf32f ]] {\r\n",
       "\r\n",
       "- -\r\n",
       "- - constraints - -\r\n",
       "<b>require</b> c\r\n",
       "<i>assume</i> c1: C\r\n",
       "}\r\n",
       "comp def \" [<b>1</b>] A\" as E5  <<(D,brown)requirement def>> [[psysml:5c4fbfc6-6feb-457a-9610-da755776e124 ]] {\r\n",
       "Text\r\n",
       "- -\r\n",
       "}\r\n",
       "comp usage \"<s>noname</s>\" as E8  <<(U,orange)requirement>> [[psysml:577c6bec-7675-4e65-a136-10b226b9020a ]] {\r\n",
       "}\r\n",
       "comp def \"R1\" as E9  <<(D,brown)requirement def>> [[psysml:291c6c45-8332-45a6-809f-574961a49898 ]] {\r\n",
       "- - constraints - -\r\n",
       "<b>require</b> c1\\n//:>>RequirementTest::c// \r\n",
       "}\r\n",
       "comp usage \"p\" as E11  << (P,limegreen) part>> [[psysml:b7118396-8822-4234-af4f-531e34fd2b85 ]] {\r\n",
       "}\r\n",
       "comp usage \"q\" as E12  << (P,limegreen) part>> [[psysml:5710aa92-7822-41e6-89ae-9d2d61cb8bf3 ]] {\r\n",
       "}\r\n",
       "comp usage \"r: R\" as E13  <<(U,orange)requirement>> [[psysml:b72900fb-e3ca-4439-ac22-acb3bf892de5 ]] {\r\n",
       "}\r\n",
       "E3 - -:|> E2 [[psysml:8b4534c8-c65f-4721-aa95-1aefa1ee4858 ]] \r\n",
       "E4 +- - E5 [[psysml:5c4fbfc6-6feb-457a-9610-da755776e124 ]] \r\n",
       "E4 *- - E8 [[psysml:577c6bec-7675-4e65-a136-10b226b9020a ]] \r\n",
       "E12 *- - E13 [[psysml:b72900fb-e3ca-4439-ac22-acb3bf892de5 ]] \r\n",
       "E13 - -:|> E4 [[psysml:ed6e641a-605b-4ed9-9064-d41509e7ab16 ]] \r\n",
       "E13 ..> E11 [[psysml:11f1a2a5-a4e7-4875-8b16-7052fd317758 ]] : <<satisfy>>\r\n",
       "}\r\n",
       "@enduml\r\n",
       "\n",
       "PlantUML version 1.2020.13(Sat Jun 13 12:26:38 UTC 2020)\n",
       "(EPL source distribution)\n",
       "Java Runtime: OpenJDK Runtime Environment\n",
       "JVM: OpenJDK 64-Bit Server VM\n",
       "Default Encoding: UTF-8\n",
       "Language: en\n",
       "Country: null\n",
       "--></g></svg>"
      ]
     },
     "execution_count": 31,
     "metadata": {},
     "output_type": "execute_result"
    }
   ],
   "source": [
    "%viz --style=\"PLANTUML\" --view=\"Tree\" \"RequirementTest\""
   ]
  },
  {
   "cell_type": "code",
   "execution_count": 32,
   "id": "disturbed-tiffany",
   "metadata": {
    "execution": {
     "iopub.execute_input": "2021-03-26T09:12:29.418900Z",
     "iopub.status.busy": "2021-03-26T09:12:29.409866Z",
     "iopub.status.idle": "2021-03-26T09:12:29.461621Z",
     "shell.execute_reply": "2021-03-26T09:12:29.460399Z"
    }
   },
   "outputs": [
    {
     "data": {
      "image/svg+xml": [
       "<?xml version=\"1.0\" encoding=\"UTF-8\" standalone=\"no\"?><svg xmlns=\"http://www.w3.org/2000/svg\" xmlns:xlink=\"http://www.w3.org/1999/xlink\" contentScriptType=\"application/ecmascript\" contentStyleType=\"text/css\" height=\"303px\" preserveAspectRatio=\"none\" style=\"width:603px;height:303px;background:#000000;\" version=\"1.1\" viewBox=\"0 0 603 303\" width=\"603px\" zoomAndPan=\"magnify\"><defs/><g><rect fill=\"#1A1B01\" height=\"1\" style=\"stroke: #1A1B01; stroke-width: 1.0;\" width=\"1\" x=\"0\" y=\"0\"/><rect fill=\"#FFFFFF\" height=\"205.5625\" style=\"stroke: #FFFFFF; stroke-width: 1.0;\" width=\"602\" x=\"0\" y=\"0\"/><text fill=\"#000000\" font-family=\"sans-serif\" font-size=\"12\" font-weight=\"bold\" lengthAdjust=\"spacingAndGlyphs\" textLength=\"159\" x=\"5\" y=\"16.1387\">Welcome to PlantUML!</text><text fill=\"#000000\" font-family=\"sans-serif\" font-size=\"12\" lengthAdjust=\"spacingAndGlyphs\" textLength=\"0\" x=\"9\" y=\"30.1074\"/><text fill=\"#000000\" font-family=\"sans-serif\" font-size=\"12\" lengthAdjust=\"spacingAndGlyphs\" textLength=\"293\" x=\"5\" y=\"44.0762\">If you use this software, you accept its license.</text><text fill=\"#000000\" font-family=\"sans-serif\" font-size=\"12\" lengthAdjust=\"spacingAndGlyphs\" textLength=\"107\" x=\"5\" y=\"58.0449\">(details by typing</text><text fill=\"#000000\" font-family=\"monospace\" font-size=\"12\" lengthAdjust=\"spacingAndGlyphs\" textLength=\"49\" x=\"116\" y=\"58.0449\">license</text><text fill=\"#000000\" font-family=\"sans-serif\" font-size=\"12\" lengthAdjust=\"spacingAndGlyphs\" textLength=\"56\" x=\"169\" y=\"58.0449\">keyword)</text><text fill=\"#000000\" font-family=\"sans-serif\" font-size=\"12\" lengthAdjust=\"spacingAndGlyphs\" textLength=\"0\" x=\"9\" y=\"72.0137\"/><text fill=\"#000000\" font-family=\"sans-serif\" font-size=\"12\" lengthAdjust=\"spacingAndGlyphs\" textLength=\"283\" x=\"5\" y=\"85.9824\">You can start with a simple UML Diagram like:</text><text fill=\"#000000\" font-family=\"sans-serif\" font-size=\"12\" lengthAdjust=\"spacingAndGlyphs\" textLength=\"0\" x=\"9\" y=\"99.9512\"/><text fill=\"#000000\" font-family=\"monospace\" font-size=\"12\" lengthAdjust=\"spacingAndGlyphs\" textLength=\"119\" x=\"5\" y=\"113.9199\">Bob-&gt;Alice: Hello</text><text fill=\"#000000\" font-family=\"sans-serif\" font-size=\"12\" lengthAdjust=\"spacingAndGlyphs\" textLength=\"0\" x=\"9\" y=\"127.8887\"/><text fill=\"#000000\" font-family=\"sans-serif\" font-size=\"12\" lengthAdjust=\"spacingAndGlyphs\" textLength=\"14\" x=\"5\" y=\"141.8574\">Or</text><text fill=\"#000000\" font-family=\"sans-serif\" font-size=\"12\" lengthAdjust=\"spacingAndGlyphs\" textLength=\"0\" x=\"9\" y=\"155.8262\"/><text fill=\"#000000\" font-family=\"monospace\" font-size=\"12\" lengthAdjust=\"spacingAndGlyphs\" textLength=\"91\" x=\"5\" y=\"169.7949\">class Example</text><text fill=\"#000000\" font-family=\"sans-serif\" font-size=\"12\" lengthAdjust=\"spacingAndGlyphs\" textLength=\"0\" x=\"9\" y=\"183.7637\"/><text fill=\"#000000\" font-family=\"sans-serif\" font-size=\"12\" lengthAdjust=\"spacingAndGlyphs\" textLength=\"349\" x=\"5\" y=\"197.7324\">You will find more information about PlantUML syntax on</text><text fill=\"#000000\" font-family=\"sans-serif\" font-size=\"12\" lengthAdjust=\"spacingAndGlyphs\" text-decoration=\"underline\" textLength=\"129\" x=\"358\" y=\"197.7324\">https://plantuml.com</text><image height=\"71\" width=\"80\" x=\"516\" xlink:href=\"data:image/png;base64,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\" y=\"6\"/><rect fill=\"#000000\" height=\"96.4844\" style=\"stroke: #000000; stroke-width: 1.0;\" width=\"602\" x=\"0\" y=\"205.5625\"/><rect fill=\"#33FF02\" height=\"21.2969\" style=\"stroke: #33FF02; stroke-width: 1.0;\" width=\"170\" x=\"5\" y=\"210.5625\"/><text fill=\"#000000\" font-family=\"sans-serif\" font-size=\"14\" font-weight=\"bold\" lengthAdjust=\"spacingAndGlyphs\" textLength=\"168\" x=\"6\" y=\"225.5625\">[From string (line 2) ]</text><text fill=\"#33FF02\" font-family=\"sans-serif\" font-size=\"14\" font-weight=\"bold\" lengthAdjust=\"spacingAndGlyphs\" textLength=\"0\" x=\"10\" y=\"245.8594\"/><text fill=\"#33FF02\" font-family=\"sans-serif\" font-size=\"14\" font-weight=\"bold\" lengthAdjust=\"spacingAndGlyphs\" textLength=\"79\" x=\"5\" y=\"262.1563\">@startuml</text><text fill=\"#33FF02\" font-family=\"sans-serif\" font-size=\"14\" font-weight=\"bold\" lengthAdjust=\"spacingAndGlyphs\" textLength=\"0\" x=\"10\" y=\"278.4531\"/><text fill=\"#FF0000\" font-family=\"sans-serif\" font-size=\"14\" font-weight=\"bold\" lengthAdjust=\"spacingAndGlyphs\" textLength=\"142\" x=\"10\" y=\"294.75\">Empty description</text><!--MD5=[f59edd8218d337f74d0c332fc6737304]\n",
       "@startuml\r\n",
       " \r\n",
       "@enduml\r\n",
       "\n",
       "PlantUML version 1.2020.13(Sat Jun 13 12:26:38 UTC 2020)\n",
       "(EPL source distribution)\n",
       "Java Runtime: OpenJDK Runtime Environment\n",
       "JVM: OpenJDK 64-Bit Server VM\n",
       "Default Encoding: UTF-8\n",
       "Language: en\n",
       "Country: null\n",
       "--></g></svg>"
      ]
     },
     "execution_count": 32,
     "metadata": {},
     "output_type": "execute_result"
    }
   ],
   "source": [
    "%viz --style=\"PLANTUML\" --view=\"State\" \"RequirementTest\""
   ]
  },
  {
   "cell_type": "code",
   "execution_count": 33,
   "id": "documentary-delta",
   "metadata": {
    "execution": {
     "iopub.execute_input": "2021-03-26T09:12:29.512135Z",
     "iopub.status.busy": "2021-03-26T09:12:29.511700Z",
     "iopub.status.idle": "2021-03-26T09:12:29.551856Z",
     "shell.execute_reply": "2021-03-26T09:12:29.550558Z"
    }
   },
   "outputs": [
    {
     "data": {
      "image/svg+xml": [
       "<?xml version=\"1.0\" encoding=\"UTF-8\" standalone=\"no\"?><svg xmlns=\"http://www.w3.org/2000/svg\" xmlns:xlink=\"http://www.w3.org/1999/xlink\" contentScriptType=\"application/ecmascript\" contentStyleType=\"text/css\" height=\"367px\" preserveAspectRatio=\"none\" style=\"width:1149px;height:367px;\" version=\"1.1\" viewBox=\"0 0 1149 367\" width=\"1149px\" zoomAndPan=\"magnify\"><defs><filter height=\"300%\" id=\"fekydhgbwywmi\" width=\"300%\" x=\"-1\" y=\"-1\"><feGaussianBlur result=\"blurOut\" stdDeviation=\"2.0\"/><feColorMatrix in=\"blurOut\" result=\"blurOut2\" type=\"matrix\" values=\"0 0 0 0 0 0 0 0 0 0 0 0 0 0 0 0 0 0 .4 0\"/><feOffset dx=\"4.0\" dy=\"4.0\" in=\"blurOut2\" result=\"blurOut3\"/><feBlend in=\"SourceGraphic\" in2=\"blurOut3\" mode=\"normal\"/></filter></defs><g><!--MD5=[fbc87193dbaf4d95561dea2c320d4a47]\n",
       "cluster E1--><a href=\"psysml:8aa028f5-1693-4b51-bff2-c94d0f18c930\" target=\"_top\" title=\"psysml:8aa028f5-1693-4b51-bff2-c94d0f18c930\" xlink:actuate=\"onRequest\" xlink:href=\"psysml:8aa028f5-1693-4b51-bff2-c94d0f18c930\" xlink:show=\"new\" xlink:title=\"psysml:8aa028f5-1693-4b51-bff2-c94d0f18c930\" xlink:type=\"simple\"><polygon fill=\"#FFFFFF\" filter=\"url(#fekydhgbwywmi)\" points=\"16,6,158,6,165,28.2969,1127,28.2969,1127,355,16,355,16,6\" style=\"stroke: #000000; stroke-width: 1.5;\"/><line style=\"stroke: #000000; stroke-width: 1.5;\" x1=\"16\" x2=\"165\" y1=\"28.2969\" y2=\"28.2969\"/><text fill=\"#000000\" font-family=\"sans-serif\" font-size=\"14\" font-weight=\"bold\" lengthAdjust=\"spacingAndGlyphs\" textLength=\"136\" x=\"20\" y=\"20.9951\">RequirementTest</text></a><!--MD5=[168fadf3d0c3fd93dd5d6da1b1d7ab76]\n",
       "cluster E7--><a href=\"psysml:5710aa92-7822-41e6-89ae-9d2d61cb8bf3\" target=\"_top\" title=\"psysml:5710aa92-7822-41e6-89ae-9d2d61cb8bf3\" xlink:actuate=\"onRequest\" xlink:href=\"psysml:5710aa92-7822-41e6-89ae-9d2d61cb8bf3\" xlink:show=\"new\" xlink:title=\"psysml:5710aa92-7822-41e6-89ae-9d2d61cb8bf3\" xlink:type=\"simple\"><rect fill=\"#FFFFFF\" filter=\"url(#fekydhgbwywmi)\" height=\"209\" id=\"E7\" rx=\"10\" ry=\"10\" style=\"stroke: #A80036; stroke-width: 1.5;\" width=\"239\" x=\"864\" y=\"49\"/><rect fill=\"#FEFECE\" height=\"23.9688\" rx=\"10\" ry=\"10\" style=\"stroke: #FEFECE; stroke-width: 1.5;\" width=\"239\" x=\"864\" y=\"49\"/><rect fill=\"#FEFECE\" height=\"10\" style=\"stroke: #FEFECE; stroke-width: 1.5;\" width=\"239\" x=\"864\" y=\"62.9688\"/><rect fill=\"none\" height=\"209\" id=\"E7\" rx=\"10\" ry=\"10\" style=\"stroke: #A80036; stroke-width: 1.5;\" width=\"239\" x=\"864\" y=\"49\"/><text fill=\"#000000\" font-family=\"sans-serif\" font-size=\"12\" lengthAdjust=\"spacingAndGlyphs\" textLength=\"8\" x=\"979.5\" y=\"65.1387\">q</text><line style=\"stroke: #A80036; stroke-width: 1.0;\" x1=\"864\" x2=\"1103\" y1=\"72.9688\" y2=\"72.9688\"/></a><!--MD5=[55dfccfc6c49c2d10cd1bd2211a6c90c]\n",
       "cluster E8--><a href=\"psysml:b72900fb-e3ca-4439-ac22-acb3bf892de5\" target=\"_top\" title=\"psysml:b72900fb-e3ca-4439-ac22-acb3bf892de5\" xlink:actuate=\"onRequest\" xlink:href=\"psysml:b72900fb-e3ca-4439-ac22-acb3bf892de5\" xlink:show=\"new\" xlink:title=\"psysml:b72900fb-e3ca-4439-ac22-acb3bf892de5\" xlink:type=\"simple\"><rect fill=\"#FFFFFF\" filter=\"url(#fekydhgbwywmi)\" height=\"126\" id=\"E8\" rx=\"10\" ry=\"10\" style=\"stroke: #A80036; stroke-width: 1.5;\" width=\"175\" x=\"896\" y=\"100\"/><rect fill=\"#FEFECE\" height=\"37.9375\" rx=\"10\" ry=\"10\" style=\"stroke: #FEFECE; stroke-width: 1.5;\" width=\"175\" x=\"896\" y=\"100\"/><rect fill=\"#FEFECE\" height=\"10\" style=\"stroke: #FEFECE; stroke-width: 1.5;\" width=\"175\" x=\"896\" y=\"127.9375\"/><rect fill=\"none\" height=\"126\" id=\"E8\" rx=\"10\" ry=\"10\" style=\"stroke: #A80036; stroke-width: 1.5;\" width=\"175\" x=\"896\" y=\"100\"/><text fill=\"#000000\" font-family=\"sans-serif\" font-size=\"12\" font-style=\"italic\" lengthAdjust=\"spacingAndGlyphs\" textLength=\"91\" x=\"938\" y=\"116.1387\">«requirement»</text><text fill=\"#000000\" font-family=\"sans-serif\" font-size=\"12\" lengthAdjust=\"spacingAndGlyphs\" textLength=\"21\" x=\"973\" y=\"130.1074\">r: R</text><line style=\"stroke: #A80036; stroke-width: 1.0;\" x1=\"896\" x2=\"1071\" y1=\"137.9375\" y2=\"137.9375\"/></a><!--MD5=[b4997ac47864f28c2f74865a473b2911]\n",
       "class E2--><a href=\"psysml:27c2a771-07cf-4bde-9591-6030a1a15742\" target=\"_top\" title=\"psysml:27c2a771-07cf-4bde-9591-6030a1a15742\" xlink:actuate=\"onRequest\" xlink:href=\"psysml:27c2a771-07cf-4bde-9591-6030a1a15742\" xlink:show=\"new\" xlink:title=\"psysml:27c2a771-07cf-4bde-9591-6030a1a15742\" xlink:type=\"simple\"><rect fill=\"#FEFECE\" filter=\"url(#fekydhgbwywmi)\" height=\"53.9375\" id=\"E2\" style=\"stroke: #A80036; stroke-width: 1.5;\" width=\"191\" x=\"656.5\" y=\"153.5\"/><ellipse cx=\"671.5\" cy=\"172.4688\" fill=\"#ADD1B2\" rx=\"11\" ry=\"11\" style=\"stroke: #A80036; stroke-width: 1.0;\"/><path d=\"M674.4688,178.1094 Q673.8906,178.4063 673.25,178.5469 Q672.6094,178.7031 671.9063,178.7031 Q669.4063,178.7031 668.0781,177.0625 Q666.7656,175.4063 666.7656,172.2813 Q666.7656,169.1563 668.0781,167.5 Q669.4063,165.8438 671.9063,165.8438 Q672.6094,165.8438 673.25,166 Q673.9063,166.1563 674.4688,166.4531 L674.4688,169.1719 Q673.8438,168.5938 673.25,168.3281 Q672.6563,168.0469 672.0313,168.0469 Q670.6875,168.0469 670,169.125 Q669.3125,170.1875 669.3125,172.2813 Q669.3125,174.375 670,175.4531 Q670.6875,176.5156 672.0313,176.5156 Q672.6563,176.5156 673.25,176.25 Q673.8438,175.9688 674.4688,175.3906 L674.4688,178.1094 Z \"/><text fill=\"#000000\" font-family=\"sans-serif\" font-size=\"12\" font-style=\"italic\" lengthAdjust=\"spacingAndGlyphs\" textLength=\"163\" x=\"683.5\" y=\"169.6387\">«(D,brown)constraint def»</text><text fill=\"#000000\" font-family=\"sans-serif\" font-size=\"12\" lengthAdjust=\"spacingAndGlyphs\" textLength=\"8\" x=\"761\" y=\"183.6074\">C</text><line style=\"stroke: #A80036; stroke-width: 1.5;\" x1=\"657.5\" x2=\"846.5\" y1=\"191.4375\" y2=\"191.4375\"/><line style=\"stroke: #A80036; stroke-width: 1.5;\" x1=\"657.5\" x2=\"846.5\" y1=\"199.4375\" y2=\"199.4375\"/></a><!--MD5=[ebbe1d658d1005bcc118a6aa81145e00]\n",
       "class E4--><a href=\"psysml:b9a9d178-6ba0-415d-80bd-8d7e5aacf32f\" target=\"_top\" title=\"psysml:b9a9d178-6ba0-415d-80bd-8d7e5aacf32f\" xlink:actuate=\"onRequest\" xlink:href=\"psysml:b9a9d178-6ba0-415d-80bd-8d7e5aacf32f\" xlink:show=\"new\" xlink:title=\"psysml:b9a9d178-6ba0-415d-80bd-8d7e5aacf32f\" xlink:type=\"simple\"><rect fill=\"#FEFECE\" filter=\"url(#fekydhgbwywmi)\" height=\"53.9375\" id=\"E4\" style=\"stroke: #A80036; stroke-width: 1.5;\" width=\"204\" x=\"417\" y=\"153.5\"/><ellipse cx=\"432\" cy=\"172.4688\" fill=\"#ADD1B2\" rx=\"11\" ry=\"11\" style=\"stroke: #A80036; stroke-width: 1.0;\"/><path d=\"M434.9688,178.1094 Q434.3906,178.4063 433.75,178.5469 Q433.1094,178.7031 432.4063,178.7031 Q429.9063,178.7031 428.5781,177.0625 Q427.2656,175.4063 427.2656,172.2813 Q427.2656,169.1563 428.5781,167.5 Q429.9063,165.8438 432.4063,165.8438 Q433.1094,165.8438 433.75,166 Q434.4063,166.1563 434.9688,166.4531 L434.9688,169.1719 Q434.3438,168.5938 433.75,168.3281 Q433.1563,168.0469 432.5313,168.0469 Q431.1875,168.0469 430.5,169.125 Q429.8125,170.1875 429.8125,172.2813 Q429.8125,174.375 430.5,175.4531 Q431.1875,176.5156 432.5313,176.5156 Q433.1563,176.5156 433.75,176.25 Q434.3438,175.9688 434.9688,175.3906 L434.9688,178.1094 Z \"/><text fill=\"#000000\" font-family=\"sans-serif\" font-size=\"12\" font-style=\"italic\" lengthAdjust=\"spacingAndGlyphs\" textLength=\"176\" x=\"444\" y=\"169.6387\">«(D,brown)requirement def»</text><text fill=\"#000000\" font-family=\"sans-serif\" font-size=\"12\" lengthAdjust=\"spacingAndGlyphs\" textLength=\"8\" x=\"528\" y=\"183.6074\">R</text><line style=\"stroke: #A80036; stroke-width: 1.5;\" x1=\"418\" x2=\"620\" y1=\"191.4375\" y2=\"191.4375\"/><line style=\"stroke: #A80036; stroke-width: 1.5;\" x1=\"418\" x2=\"620\" y1=\"199.4375\" y2=\"199.4375\"/></a><!--MD5=[270fce915f116d4de14055a7c1d9a0f3]\n",
       "class E5--><a href=\"psysml:291c6c45-8332-45a6-809f-574961a49898\" target=\"_top\" title=\"psysml:291c6c45-8332-45a6-809f-574961a49898\" xlink:actuate=\"onRequest\" xlink:href=\"psysml:291c6c45-8332-45a6-809f-574961a49898\" xlink:show=\"new\" xlink:title=\"psysml:291c6c45-8332-45a6-809f-574961a49898\" xlink:type=\"simple\"><rect fill=\"#FEFECE\" filter=\"url(#fekydhgbwywmi)\" height=\"53.9375\" id=\"E5\" style=\"stroke: #A80036; stroke-width: 1.5;\" width=\"204\" x=\"178\" y=\"153.5\"/><ellipse cx=\"193\" cy=\"172.4688\" fill=\"#ADD1B2\" rx=\"11\" ry=\"11\" style=\"stroke: #A80036; stroke-width: 1.0;\"/><path d=\"M195.9688,178.1094 Q195.3906,178.4063 194.75,178.5469 Q194.1094,178.7031 193.4063,178.7031 Q190.9063,178.7031 189.5781,177.0625 Q188.2656,175.4063 188.2656,172.2813 Q188.2656,169.1563 189.5781,167.5 Q190.9063,165.8438 193.4063,165.8438 Q194.1094,165.8438 194.75,166 Q195.4063,166.1563 195.9688,166.4531 L195.9688,169.1719 Q195.3438,168.5938 194.75,168.3281 Q194.1563,168.0469 193.5313,168.0469 Q192.1875,168.0469 191.5,169.125 Q190.8125,170.1875 190.8125,172.2813 Q190.8125,174.375 191.5,175.4531 Q192.1875,176.5156 193.5313,176.5156 Q194.1563,176.5156 194.75,176.25 Q195.3438,175.9688 195.9688,175.3906 L195.9688,178.1094 Z \"/><text fill=\"#000000\" font-family=\"sans-serif\" font-size=\"12\" font-style=\"italic\" lengthAdjust=\"spacingAndGlyphs\" textLength=\"176\" x=\"205\" y=\"169.6387\">«(D,brown)requirement def»</text><text fill=\"#000000\" font-family=\"sans-serif\" font-size=\"12\" lengthAdjust=\"spacingAndGlyphs\" textLength=\"16\" x=\"285\" y=\"183.6074\">R1</text><line style=\"stroke: #A80036; stroke-width: 1.5;\" x1=\"179\" x2=\"381\" y1=\"191.4375\" y2=\"191.4375\"/><line style=\"stroke: #A80036; stroke-width: 1.5;\" x1=\"179\" x2=\"381\" y1=\"199.4375\" y2=\"199.4375\"/></a><g id=\"E1.E3\"><a href=\"psysml:da02b217-f155-4220-a2dc-d840d0d24f86\" target=\"_top\" title=\"psysml:da02b217-f155-4220-a2dc-d840d0d24f86\" xlink:actuate=\"onRequest\" xlink:href=\"psysml:da02b217-f155-4220-a2dc-d840d0d24f86\" xlink:show=\"new\" xlink:title=\"psysml:da02b217-f155-4220-a2dc-d840d0d24f86\" xlink:type=\"simple\"><rect fill=\"#FEFECE\" filter=\"url(#fekydhgbwywmi)\" height=\"42.9375\" id=\"E3\" rx=\"10\" ry=\"10\" style=\"stroke: #A80036; stroke-width: 1.5;\" width=\"111\" x=\"31.5\" y=\"159\"/><ellipse cx=\"48.75\" cy=\"177.9688\" fill=\"#FFA500\" rx=\"11\" ry=\"11\" style=\"stroke: #A80036; stroke-width: 1.0;\"/><path d=\"M44.625,179.8906 L44.625,172.0781 L47.0781,172.0781 L47.0781,180.5156 Q47.0781,181.4375 47.5469,181.9688 Q48.0313,182.5 48.8594,182.5 Q49.7031,182.5 50.1719,181.9688 Q50.6406,181.4375 50.6406,180.5156 L50.6406,172.0781 L53.0938,172.0781 L53.0938,179.8906 Q53.0938,182.4219 52.0938,183.5625 Q51.0938,184.7031 48.8594,184.7031 Q46.6406,184.7031 45.625,183.5625 Q44.625,182.4219 44.625,179.8906 Z \"/><text fill=\"#000000\" font-family=\"sans-serif\" font-size=\"12\" font-style=\"italic\" lengthAdjust=\"spacingAndGlyphs\" textLength=\"78\" x=\"61.25\" y=\"175.1387\">«constraint»</text><text fill=\"#000000\" font-family=\"sans-serif\" font-size=\"12\" lengthAdjust=\"spacingAndGlyphs\" textLength=\"23\" x=\"88.75\" y=\"189.1074\">c: C</text></a></g><g id=\"E1.E6\"><a href=\"psysml:b7118396-8822-4234-af4f-531e34fd2b85\" target=\"_top\" title=\"psysml:b7118396-8822-4234-af4f-531e34fd2b85\" xlink:actuate=\"onRequest\" xlink:href=\"psysml:b7118396-8822-4234-af4f-531e34fd2b85\" xlink:show=\"new\" xlink:title=\"psysml:b7118396-8822-4234-af4f-531e34fd2b85\" xlink:type=\"simple\"><rect fill=\"#FEFECE\" filter=\"url(#fekydhgbwywmi)\" height=\"40\" id=\"E6\" rx=\"10\" ry=\"10\" style=\"stroke: #A80036; stroke-width: 1.5;\" width=\"50\" x=\"879\" y=\"299\"/><ellipse cx=\"898.5\" cy=\"315\" fill=\"#B6DBBB\" rx=\"11\" ry=\"11\" style=\"stroke: #A80036; stroke-width: 1.0;\"/><path d=\"M894.375,316.9219 L894.375,309.1094 L896.8281,309.1094 L896.8281,317.5469 Q896.8281,318.4688 897.2969,319 Q897.7813,319.5313 898.6094,319.5313 Q899.4531,319.5313 899.9219,319 Q900.3906,318.4688 900.3906,317.5469 L900.3906,309.1094 L902.8438,309.1094 L902.8438,316.9219 Q902.8438,319.4531 901.8438,320.5938 Q900.8438,321.7344 898.6094,321.7344 Q896.3906,321.7344 895.375,320.5938 Q894.375,319.4531 894.375,316.9219 Z \"/><text fill=\"#000000\" font-family=\"sans-serif\" font-size=\"12\" lengthAdjust=\"spacingAndGlyphs\" textLength=\"8\" x=\"913.5\" y=\"319.1543\">p</text></a></g><g id=\"E1.E7.E8.E9\"><a href=\"psysml:b3b786b4-2056-4ded-a351-3a90cb9a49e0\" target=\"_top\" title=\"psysml:b3b786b4-2056-4ded-a351-3a90cb9a49e0\" xlink:actuate=\"onRequest\" xlink:href=\"psysml:b3b786b4-2056-4ded-a351-3a90cb9a49e0\" xlink:show=\"new\" xlink:title=\"psysml:b3b786b4-2056-4ded-a351-3a90cb9a49e0\" xlink:type=\"simple\"><rect fill=\"#FEFECE\" filter=\"url(#fekydhgbwywmi)\" height=\"42.9375\" id=\"E9\" rx=\"10\" ry=\"10\" style=\"stroke: #A80036; stroke-width: 1.5;\" width=\"108\" x=\"939\" y=\"159\"/><ellipse cx=\"956.25\" cy=\"177.9688\" fill=\"#FFA500\" rx=\"11\" ry=\"11\" style=\"stroke: #A80036; stroke-width: 1.0;\"/><path d=\"M952.125,179.8906 L952.125,172.0781 L954.5781,172.0781 L954.5781,180.5156 Q954.5781,181.4375 955.0469,181.9688 Q955.5313,182.5 956.3594,182.5 Q957.2031,182.5 957.6719,181.9688 Q958.1406,181.4375 958.1406,180.5156 L958.1406,172.0781 L960.5938,172.0781 L960.5938,179.8906 Q960.5938,182.4219 959.5938,183.5625 Q958.5938,184.7031 956.3594,184.7031 Q954.1406,184.7031 953.125,183.5625 Q952.125,182.4219 952.125,179.8906 Z \"/><text fill=\"#000000\" font-family=\"sans-serif\" font-size=\"12\" font-style=\"italic\" lengthAdjust=\"spacingAndGlyphs\" textLength=\"75\" x=\"968.75\" y=\"175.1387\">«reference»</text><text fill=\"#000000\" font-family=\"sans-serif\" font-size=\"12\" lengthAdjust=\"spacingAndGlyphs\" textLength=\"26\" x=\"993.25\" y=\"189.1074\">subj</text></a></g><!--MD5=[c5e8897d989ce984f93528998a7150fe]\n",
       "link E8 to E6--><a href=\"psysml:11f1a2a5-a4e7-4875-8b16-7052fd317758\" target=\"_top\" title=\"psysml:11f1a2a5-a4e7-4875-8b16-7052fd317758\" xlink:actuate=\"onRequest\" xlink:href=\"psysml:11f1a2a5-a4e7-4875-8b16-7052fd317758\" xlink:show=\"new\" xlink:title=\"psysml:11f1a2a5-a4e7-4875-8b16-7052fd317758\" xlink:type=\"simple\"><path d=\"M904,226.4501 C904,227.1713 904,227.8965 904,228.6252 C904,230.0826 904,231.5543 904,233.0372 C904,236.003 904,239.0136 904,242.0448 C904,248.1072 904,254.2518 904,260.2839 C904,272.3481 904,283.9625 904,293.57 \" fill=\"none\" id=\"E8-&gt;E6\" style=\"stroke: #A80036; stroke-width: 1.0; stroke-dasharray: 7.0,7.0;\"/><polygon fill=\"#A80036\" points=\"904,298.99,908,289.99,904,293.99,900,289.99,904,298.99\" style=\"stroke: #A80036; stroke-width: 1.0;\"/><text fill=\"#000000\" font-family=\"sans-serif\" font-size=\"13\" lengthAdjust=\"spacingAndGlyphs\" textLength=\"57\" x=\"905\" y=\"287.0669\">«satisfy»</text></a><!--MD5=[5ea5dbe9b1993e7905cda0bd344ea3e1]\n",
       "@startuml\r\n",
       "skinparam ranksep 8\r\n",
       "skinparam rectangle {\r\n",
       " backgroundColor<<block>> LightGreen\r\n",
       "}\r\n",
       " \r\n",
       "package \"RequirementTest\" as E1  [[psysml:8aa028f5-1693-4b51-bff2-c94d0f18c930 ]]  {\r\n",
       "def \"C\" as E2  <<(D,brown)constraint def>> [[psysml:27c2a771-07cf-4bde-9591-6030a1a15742 ]] \r\n",
       "rec usage \"c: C\" as E3  <<(U,orange)constraint>> [[psysml:da02b217-f155-4220-a2dc-d840d0d24f86 ]] {\r\n",
       "}\r\n",
       "def \"R\" as E4  <<(D,brown)requirement def>> [[psysml:b9a9d178-6ba0-415d-80bd-8d7e5aacf32f ]] \r\n",
       "def \"R1\" as E5  <<(D,brown)requirement def>> [[psysml:291c6c45-8332-45a6-809f-574961a49898 ]] \r\n",
       "rec usage \"p\" as E6  [[psysml:b7118396-8822-4234-af4f-531e34fd2b85 ]] {\r\n",
       "}\r\n",
       "rec usage \"q\" as E7  [[psysml:5710aa92-7822-41e6-89ae-9d2d61cb8bf3 ]] {\r\n",
       "rec usage \"r: R\" as E8  <<(U,orange)requirement>> [[psysml:b72900fb-e3ca-4439-ac22-acb3bf892de5 ]] {\r\n",
       "rec usage \"subj\" as E9  <<(U,orange)reference>> [[psysml:b3b786b4-2056-4ded-a351-3a90cb9a49e0 ]] {\r\n",
       "}\r\n",
       "}\r\n",
       "}\r\n",
       "E8 ..> E6 [[psysml:11f1a2a5-a4e7-4875-8b16-7052fd317758 ]] : <<satisfy>>\r\n",
       "}\r\n",
       "@enduml\r\n",
       "\n",
       "PlantUML version 1.2020.13(Sat Jun 13 12:26:38 UTC 2020)\n",
       "(EPL source distribution)\n",
       "Java Runtime: OpenJDK Runtime Environment\n",
       "JVM: OpenJDK 64-Bit Server VM\n",
       "Default Encoding: UTF-8\n",
       "Language: en\n",
       "Country: null\n",
       "--></g></svg>"
      ]
     },
     "execution_count": 33,
     "metadata": {},
     "output_type": "execute_result"
    }
   ],
   "source": [
    "%viz --style=\"PLANTUML\" --view=\"Interconnection\" \"RequirementTest\""
   ]
  },
  {
   "cell_type": "code",
   "execution_count": 34,
   "id": "raised-emphasis",
   "metadata": {
    "execution": {
     "iopub.execute_input": "2021-03-26T09:12:29.598512Z",
     "iopub.status.busy": "2021-03-26T09:12:29.597827Z",
     "iopub.status.idle": "2021-03-26T09:12:29.603092Z",
     "shell.execute_reply": "2021-03-26T09:12:29.602791Z"
    }
   },
   "outputs": [
    {
     "data": {
      "image/svg+xml": [
       "<?xml version=\"1.0\" encoding=\"UTF-8\" standalone=\"no\"?><svg xmlns=\"http://www.w3.org/2000/svg\" xmlns:xlink=\"http://www.w3.org/1999/xlink\" contentScriptType=\"application/ecmascript\" contentStyleType=\"text/css\" height=\"12px\" preserveAspectRatio=\"none\" style=\"width:12px;height:12px;\" version=\"1.1\" viewBox=\"0 0 12 12\" width=\"12px\" zoomAndPan=\"magnify\"><defs/><g><!--MD5=[6a4cb978cab31700e1ce5529f947a75d]\n",
       "@startuml\r\n",
       "skinparam ranksep 8\r\n",
       " \r\n",
       "@enduml\r\n",
       "\n",
       "PlantUML version 1.2020.13(Sat Jun 13 12:26:38 UTC 2020)\n",
       "(EPL source distribution)\n",
       "Java Runtime: OpenJDK Runtime Environment\n",
       "JVM: OpenJDK 64-Bit Server VM\n",
       "Default Encoding: UTF-8\n",
       "Language: en\n",
       "Country: null\n",
       "--></g></svg>"
      ]
     },
     "execution_count": 34,
     "metadata": {},
     "output_type": "execute_result"
    }
   ],
   "source": [
    "%viz --style=\"PLANTUML\" --view=\"Action\" \"RequirementTest\""
   ]
  },
  {
   "cell_type": "code",
   "execution_count": 35,
   "id": "colonial-samoa",
   "metadata": {
    "execution": {
     "iopub.execute_input": "2021-03-26T09:12:29.654246Z",
     "iopub.status.busy": "2021-03-26T09:12:29.653866Z",
     "iopub.status.idle": "2021-03-26T09:12:29.742439Z",
     "shell.execute_reply": "2021-03-26T09:12:29.742008Z"
    }
   },
   "outputs": [
    {
     "data": {
      "image/svg+xml": [
       "<?xml version=\"1.0\" encoding=\"UTF-8\" standalone=\"no\"?><svg xmlns=\"http://www.w3.org/2000/svg\" xmlns:xlink=\"http://www.w3.org/1999/xlink\" contentScriptType=\"application/ecmascript\" contentStyleType=\"text/css\" height=\"578px\" preserveAspectRatio=\"none\" style=\"width:460px;height:578px;\" version=\"1.1\" viewBox=\"0 0 460 578\" width=\"460px\" zoomAndPan=\"magnify\"><defs><filter height=\"300%\" id=\"f1blmf30dfgk9t\" width=\"300%\" x=\"-1\" y=\"-1\"><feGaussianBlur result=\"blurOut\" stdDeviation=\"2.0\"/><feColorMatrix in=\"blurOut\" result=\"blurOut2\" type=\"matrix\" values=\"0 0 0 0 0 0 0 0 0 0 0 0 0 0 0 0 0 0 .4 0\"/><feOffset dx=\"4.0\" dy=\"4.0\" in=\"blurOut2\" result=\"blurOut3\"/><feBlend in=\"SourceGraphic\" in2=\"blurOut3\" mode=\"normal\"/></filter></defs><g><!--MD5=[fbc87193dbaf4d95561dea2c320d4a47]\n",
       "cluster E1--><a href=\"psysml:8aa028f5-1693-4b51-bff2-c94d0f18c930\" target=\"_top\" title=\"psysml:8aa028f5-1693-4b51-bff2-c94d0f18c930\" xlink:actuate=\"onRequest\" xlink:href=\"psysml:8aa028f5-1693-4b51-bff2-c94d0f18c930\" xlink:show=\"new\" xlink:title=\"psysml:8aa028f5-1693-4b51-bff2-c94d0f18c930\" xlink:type=\"simple\"><polygon fill=\"#FFFFFF\" filter=\"url(#f1blmf30dfgk9t)\" points=\"16,6,158,6,165,28.2969,438,28.2969,438,566,16,566,16,6\" style=\"stroke: #000000; stroke-width: 1.5;\"/><line style=\"stroke: #000000; stroke-width: 1.5;\" x1=\"16\" x2=\"165\" y1=\"28.2969\" y2=\"28.2969\"/><text fill=\"#000000\" font-family=\"sans-serif\" font-size=\"14\" font-weight=\"bold\" lengthAdjust=\"spacingAndGlyphs\" textLength=\"136\" x=\"20\" y=\"20.9951\">RequirementTest</text></a><!--MD5=[b4997ac47864f28c2f74865a473b2911]\n",
       "class E2--><a href=\"psysml:27c2a771-07cf-4bde-9591-6030a1a15742\" target=\"_top\" title=\"psysml:27c2a771-07cf-4bde-9591-6030a1a15742\" xlink:actuate=\"onRequest\" xlink:href=\"psysml:27c2a771-07cf-4bde-9591-6030a1a15742\" xlink:show=\"new\" xlink:title=\"psysml:27c2a771-07cf-4bde-9591-6030a1a15742\" xlink:type=\"simple\"><rect fill=\"#FEFECE\" filter=\"url(#f1blmf30dfgk9t)\" height=\"45.9375\" id=\"E2\" style=\"stroke: #A80036; stroke-width: 1.5;\" width=\"130\" x=\"292\" y=\"190\"/><ellipse cx=\"307\" cy=\"208.9688\" fill=\"#A52A2A\" rx=\"11\" ry=\"11\" style=\"stroke: #A80036; stroke-width: 1.0;\"/><path d=\"M306.5938,204.7813 L306.5938,212.7656 L307.25,212.7656 Q308.6875,212.7656 309.2969,211.8594 Q309.9219,210.9375 309.9219,208.7656 Q309.9219,206.5938 309.2969,205.6875 Q308.6875,204.7813 307.25,204.7813 L306.5938,204.7813 Z M304.1406,202.5781 L306.7656,202.5781 Q309.7969,202.5781 311.125,204.0313 Q312.4688,205.4688 312.4688,208.7656 Q312.4688,212.0625 311.125,213.5156 Q309.7969,214.9688 306.7656,214.9688 L304.1406,214.9688 L304.1406,202.5781 Z \"/><text fill=\"#000000\" font-family=\"sans-serif\" font-size=\"12\" font-style=\"italic\" lengthAdjust=\"spacingAndGlyphs\" textLength=\"102\" x=\"319\" y=\"206.1387\">«constraint def»</text><text fill=\"#000000\" font-family=\"sans-serif\" font-size=\"12\" lengthAdjust=\"spacingAndGlyphs\" textLength=\"8\" x=\"366\" y=\"220.1074\">C</text><line style=\"stroke: #A80036; stroke-width: 1.5;\" x1=\"293\" x2=\"421\" y1=\"227.9375\" y2=\"227.9375\"/></a><!--MD5=[09b614a08d8cba4a07c9adeb5e0fee81]\n",
       "class E3--><a href=\"psysml:da02b217-f155-4220-a2dc-d840d0d24f86\" target=\"_top\" title=\"psysml:da02b217-f155-4220-a2dc-d840d0d24f86\" xlink:actuate=\"onRequest\" xlink:href=\"psysml:da02b217-f155-4220-a2dc-d840d0d24f86\" xlink:show=\"new\" xlink:title=\"psysml:da02b217-f155-4220-a2dc-d840d0d24f86\" xlink:type=\"simple\"><rect fill=\"#FEFECE\" filter=\"url(#f1blmf30dfgk9t)\" height=\"45.9375\" id=\"E3\" rx=\"10\" ry=\"10\" style=\"stroke: #A80036; stroke-width: 1.5;\" width=\"106\" x=\"316\" y=\"62\"/><ellipse cx=\"331\" cy=\"80.9688\" fill=\"#FFA500\" rx=\"11\" ry=\"11\" style=\"stroke: #A80036; stroke-width: 1.0;\"/><path d=\"M326.875,82.8906 L326.875,75.0781 L329.3281,75.0781 L329.3281,83.5156 Q329.3281,84.4375 329.7969,84.9688 Q330.2813,85.5 331.1094,85.5 Q331.9531,85.5 332.4219,84.9688 Q332.8906,84.4375 332.8906,83.5156 L332.8906,75.0781 L335.3438,75.0781 L335.3438,82.8906 Q335.3438,85.4219 334.3438,86.5625 Q333.3438,87.7031 331.1094,87.7031 Q328.8906,87.7031 327.875,86.5625 Q326.875,85.4219 326.875,82.8906 Z \"/><text fill=\"#000000\" font-family=\"sans-serif\" font-size=\"12\" font-style=\"italic\" lengthAdjust=\"spacingAndGlyphs\" textLength=\"78\" x=\"343\" y=\"78.1387\">«constraint»</text><text fill=\"#000000\" font-family=\"sans-serif\" font-size=\"12\" lengthAdjust=\"spacingAndGlyphs\" textLength=\"23\" x=\"370.5\" y=\"92.1074\">c: C</text><line style=\"stroke: #A80036; stroke-width: 1.5;\" x1=\"317\" x2=\"421\" y1=\"99.9375\" y2=\"99.9375\"/></a><!--MD5=[ebbe1d658d1005bcc118a6aa81145e00]\n",
       "class E4--><a href=\"psysml:b9a9d178-6ba0-415d-80bd-8d7e5aacf32f\" target=\"_top\" title=\"psysml:b9a9d178-6ba0-415d-80bd-8d7e5aacf32f\" xlink:actuate=\"onRequest\" xlink:href=\"psysml:b9a9d178-6ba0-415d-80bd-8d7e5aacf32f\" xlink:show=\"new\" xlink:title=\"psysml:b9a9d178-6ba0-415d-80bd-8d7e5aacf32f\" xlink:type=\"simple\"><rect fill=\"#FEFECE\" filter=\"url(#f1blmf30dfgk9t)\" height=\"109.1563\" id=\"E4\" style=\"stroke: #A80036; stroke-width: 1.5;\" width=\"143\" x=\"32.5\" y=\"313\"/><ellipse cx=\"47.5\" cy=\"331.9688\" fill=\"#A52A2A\" rx=\"11\" ry=\"11\" style=\"stroke: #A80036; stroke-width: 1.0;\"/><path d=\"M47.0938,327.7813 L47.0938,335.7656 L47.75,335.7656 Q49.1875,335.7656 49.7969,334.8594 Q50.4219,333.9375 50.4219,331.7656 Q50.4219,329.5938 49.7969,328.6875 Q49.1875,327.7813 47.75,327.7813 L47.0938,327.7813 Z M44.6406,325.5781 L47.2656,325.5781 Q50.2969,325.5781 51.625,327.0313 Q52.9688,328.4688 52.9688,331.7656 Q52.9688,335.0625 51.625,336.5156 Q50.2969,337.9688 47.2656,337.9688 L44.6406,337.9688 L44.6406,325.5781 Z \"/><text fill=\"#000000\" font-family=\"sans-serif\" font-size=\"12\" font-style=\"italic\" lengthAdjust=\"spacingAndGlyphs\" textLength=\"115\" x=\"59.5\" y=\"329.1387\">«requirement def»</text><text fill=\"#000000\" font-family=\"sans-serif\" font-size=\"12\" lengthAdjust=\"spacingAndGlyphs\" textLength=\"8\" x=\"113\" y=\"343.1074\">R</text><line style=\"stroke: #A80036; stroke-width: 1.5;\" x1=\"33.5\" x2=\"174.5\" y1=\"350.9375\" y2=\"350.9375\"/><text fill=\"#000000\" font-family=\"sans-serif\" font-size=\"11\" lengthAdjust=\"spacingAndGlyphs\" textLength=\"0\" x=\"42.5\" y=\"365.1479\"/><line style=\"stroke: #A80036; stroke-width: 1.0;\" x1=\"33.5\" x2=\"174.5\" y1=\"371.7422\" y2=\"371.7422\"/><text fill=\"#000000\" font-family=\"sans-serif\" font-size=\"11\" font-weight=\"bold\" lengthAdjust=\"spacingAndGlyphs\" textLength=\"46\" x=\"38.5\" y=\"402.7573\">require</text><text fill=\"#000000\" font-family=\"sans-serif\" font-size=\"11\" lengthAdjust=\"spacingAndGlyphs\" textLength=\"6\" x=\"88.5\" y=\"402.7573\">c</text><text fill=\"#000000\" font-family=\"sans-serif\" font-size=\"11\" font-style=\"italic\" lengthAdjust=\"spacingAndGlyphs\" textLength=\"46\" x=\"38.5\" y=\"415.562\">assume</text><text fill=\"#000000\" font-family=\"sans-serif\" font-size=\"11\" lengthAdjust=\"spacingAndGlyphs\" textLength=\"29\" x=\"88.5\" y=\"415.562\">c1: C</text><line style=\"stroke: #A80036; stroke-width: 1.0;\" x1=\"33.5\" x2=\"72\" y1=\"386.1445\" y2=\"386.1445\"/><text fill=\"#000000\" font-family=\"sans-serif\" font-size=\"11\" lengthAdjust=\"spacingAndGlyphs\" textLength=\"64\" x=\"72\" y=\"389.4526\">constraints</text><line style=\"stroke: #A80036; stroke-width: 1.0;\" x1=\"136\" x2=\"174.5\" y1=\"386.1445\" y2=\"386.1445\"/></a><!--MD5=[270fce915f116d4de14055a7c1d9a0f3]\n",
       "class E5--><a href=\"psysml:5c4fbfc6-6feb-457a-9610-da755776e124\" target=\"_top\" title=\"psysml:5c4fbfc6-6feb-457a-9610-da755776e124\" xlink:actuate=\"onRequest\" xlink:href=\"psysml:5c4fbfc6-6feb-457a-9610-da755776e124\" xlink:show=\"new\" xlink:title=\"psysml:5c4fbfc6-6feb-457a-9610-da755776e124\" xlink:type=\"simple\"><rect fill=\"#FEFECE\" filter=\"url(#f1blmf30dfgk9t)\" height=\"66.7422\" id=\"E5\" style=\"stroke: #A80036; stroke-width: 1.5;\" width=\"143\" x=\"32.5\" y=\"483\"/><ellipse cx=\"47.5\" cy=\"501.9688\" fill=\"#A52A2A\" rx=\"11\" ry=\"11\" style=\"stroke: #A80036; stroke-width: 1.0;\"/><path d=\"M47.0938,497.7813 L47.0938,505.7656 L47.75,505.7656 Q49.1875,505.7656 49.7969,504.8594 Q50.4219,503.9375 50.4219,501.7656 Q50.4219,499.5938 49.7969,498.6875 Q49.1875,497.7813 47.75,497.7813 L47.0938,497.7813 Z M44.6406,495.5781 L47.2656,495.5781 Q50.2969,495.5781 51.625,497.0313 Q52.9688,498.4688 52.9688,501.7656 Q52.9688,505.0625 51.625,506.5156 Q50.2969,507.9688 47.2656,507.9688 L44.6406,507.9688 L44.6406,495.5781 Z \"/><text fill=\"#000000\" font-family=\"sans-serif\" font-size=\"12\" font-style=\"italic\" lengthAdjust=\"spacingAndGlyphs\" textLength=\"115\" x=\"59.5\" y=\"499.1387\">«requirement def»</text><text fill=\"#000000\" font-family=\"sans-serif\" font-size=\"12\" lengthAdjust=\"spacingAndGlyphs\" textLength=\"5\" x=\"104\" y=\"513.1074\">[</text><text fill=\"#000000\" font-family=\"sans-serif\" font-size=\"12\" font-weight=\"bold\" lengthAdjust=\"spacingAndGlyphs\" textLength=\"8\" x=\"109\" y=\"513.1074\">1</text><text fill=\"#000000\" font-family=\"sans-serif\" font-size=\"12\" lengthAdjust=\"spacingAndGlyphs\" textLength=\"17\" x=\"117\" y=\"513.1074\">] A</text><line style=\"stroke: #A80036; stroke-width: 1.5;\" x1=\"33.5\" x2=\"174.5\" y1=\"520.9375\" y2=\"520.9375\"/><text fill=\"#000000\" font-family=\"sans-serif\" font-size=\"11\" lengthAdjust=\"spacingAndGlyphs\" textLength=\"24\" x=\"38.5\" y=\"535.1479\">Text</text><line style=\"stroke: #A80036; stroke-width: 1.0;\" x1=\"33.5\" x2=\"174.5\" y1=\"541.7422\" y2=\"541.7422\"/></a><!--MD5=[b9389687b975829384b498ac4b7476b2]\n",
       "class E8--><a href=\"psysml:577c6bec-7675-4e65-a136-10b226b9020a\" target=\"_top\" title=\"psysml:577c6bec-7675-4e65-a136-10b226b9020a\" xlink:actuate=\"onRequest\" xlink:href=\"psysml:577c6bec-7675-4e65-a136-10b226b9020a\" xlink:show=\"new\" xlink:title=\"psysml:577c6bec-7675-4e65-a136-10b226b9020a\" xlink:type=\"simple\"><rect fill=\"#FEFECE\" filter=\"url(#f1blmf30dfgk9t)\" height=\"45.9375\" id=\"E8\" rx=\"10\" ry=\"10\" style=\"stroke: #A80036; stroke-width: 1.5;\" width=\"119\" x=\"210.5\" y=\"493.5\"/><ellipse cx=\"225.5\" cy=\"512.4688\" fill=\"#FFA500\" rx=\"11\" ry=\"11\" style=\"stroke: #A80036; stroke-width: 1.0;\"/><path d=\"M221.375,514.3906 L221.375,506.5781 L223.8281,506.5781 L223.8281,515.0156 Q223.8281,515.9375 224.2969,516.4688 Q224.7813,517 225.6094,517 Q226.4531,517 226.9219,516.4688 Q227.3906,515.9375 227.3906,515.0156 L227.3906,506.5781 L229.8438,506.5781 L229.8438,514.3906 Q229.8438,516.9219 228.8438,518.0625 Q227.8438,519.2031 225.6094,519.2031 Q223.3906,519.2031 222.375,518.0625 Q221.375,516.9219 221.375,514.3906 Z \"/><text fill=\"#000000\" font-family=\"sans-serif\" font-size=\"12\" font-style=\"italic\" lengthAdjust=\"spacingAndGlyphs\" textLength=\"91\" x=\"237.5\" y=\"509.6387\">«requirement»</text><text fill=\"#000000\" font-family=\"sans-serif\" font-size=\"12\" lengthAdjust=\"spacingAndGlyphs\" text-decoration=\"line-through\" textLength=\"51\" x=\"257.5\" y=\"523.6074\">noname</text><line style=\"stroke: #A80036; stroke-width: 1.5;\" x1=\"211.5\" x2=\"328.5\" y1=\"531.4375\" y2=\"531.4375\"/></a><!--MD5=[fd4143e9d270a159db93a4ea2a975926]\n",
       "class E9--><a href=\"psysml:291c6c45-8332-45a6-809f-574961a49898\" target=\"_top\" title=\"psysml:291c6c45-8332-45a6-809f-574961a49898\" xlink:actuate=\"onRequest\" xlink:href=\"psysml:291c6c45-8332-45a6-809f-574961a49898\" xlink:show=\"new\" xlink:title=\"psysml:291c6c45-8332-45a6-809f-574961a49898\" xlink:type=\"simple\"><rect fill=\"#FEFECE\" filter=\"url(#f1blmf30dfgk9t)\" height=\"88.3516\" id=\"E9\" style=\"stroke: #A80036; stroke-width: 1.5;\" width=\"145\" x=\"135.5\" y=\"41\"/><ellipse cx=\"151.4\" cy=\"59.9688\" fill=\"#A52A2A\" rx=\"11\" ry=\"11\" style=\"stroke: #A80036; stroke-width: 1.0;\"/><path d=\"M150.9938,55.7813 L150.9938,63.7656 L151.65,63.7656 Q153.0875,63.7656 153.6969,62.8594 Q154.3219,61.9375 154.3219,59.7656 Q154.3219,57.5938 153.6969,56.6875 Q153.0875,55.7813 151.65,55.7813 L150.9938,55.7813 Z M148.5406,53.5781 L151.1656,53.5781 Q154.1969,53.5781 155.525,55.0313 Q156.8688,56.4688 156.8688,59.7656 Q156.8688,63.0625 155.525,64.5156 Q154.1969,65.9688 151.1656,65.9688 L148.5406,65.9688 L148.5406,53.5781 Z \"/><text fill=\"#000000\" font-family=\"sans-serif\" font-size=\"12\" font-style=\"italic\" lengthAdjust=\"spacingAndGlyphs\" textLength=\"115\" x=\"163.6\" y=\"57.1387\">«requirement def»</text><text fill=\"#000000\" font-family=\"sans-serif\" font-size=\"12\" lengthAdjust=\"spacingAndGlyphs\" textLength=\"16\" x=\"213.1\" y=\"71.1074\">R1</text><line style=\"stroke: #A80036; stroke-width: 1.5;\" x1=\"136.5\" x2=\"279.5\" y1=\"78.9375\" y2=\"78.9375\"/><text fill=\"#000000\" font-family=\"sans-serif\" font-size=\"11\" font-weight=\"bold\" lengthAdjust=\"spacingAndGlyphs\" textLength=\"46\" x=\"141.5\" y=\"109.9526\">require</text><text fill=\"#000000\" font-family=\"sans-serif\" font-size=\"11\" lengthAdjust=\"spacingAndGlyphs\" textLength=\"13\" x=\"191.5\" y=\"109.9526\">c1</text><text fill=\"#000000\" font-family=\"sans-serif\" font-size=\"11\" font-style=\"italic\" lengthAdjust=\"spacingAndGlyphs\" textLength=\"133\" x=\"141.5\" y=\"122.7573\">:&gt;&gt;RequirementTest::c</text><line style=\"stroke: #A80036; stroke-width: 1.0;\" x1=\"136.5\" x2=\"176\" y1=\"93.3398\" y2=\"93.3398\"/><text fill=\"#000000\" font-family=\"sans-serif\" font-size=\"11\" lengthAdjust=\"spacingAndGlyphs\" textLength=\"64\" x=\"176\" y=\"96.6479\">constraints</text><line style=\"stroke: #A80036; stroke-width: 1.0;\" x1=\"240\" x2=\"279.5\" y1=\"93.3398\" y2=\"93.3398\"/></a><!--MD5=[1dd1bfd58a279cf63c5f349dbc8fc6a1]\n",
       "class E11--><a href=\"psysml:b7118396-8822-4234-af4f-531e34fd2b85\" target=\"_top\" title=\"psysml:b7118396-8822-4234-af4f-531e34fd2b85\" xlink:actuate=\"onRequest\" xlink:href=\"psysml:b7118396-8822-4234-af4f-531e34fd2b85\" xlink:show=\"new\" xlink:title=\"psysml:b7118396-8822-4234-af4f-531e34fd2b85\" xlink:type=\"simple\"><rect fill=\"#FEFECE\" filter=\"url(#f1blmf30dfgk9t)\" height=\"45.9375\" id=\"E11\" rx=\"10\" ry=\"10\" style=\"stroke: #A80036; stroke-width: 1.5;\" width=\"68\" x=\"211\" y=\"344.5\"/><ellipse cx=\"226\" cy=\"363.4688\" fill=\"#32CD32\" rx=\"11\" ry=\"11\" style=\"stroke: #A80036; stroke-width: 1.0;\"/><path d=\"M225.7969,359.1406 L225.7969,362.7656 L226.7969,362.7656 Q228,362.7656 228.4844,362.3594 Q228.9688,361.9531 228.9688,360.9531 Q228.9688,359.9531 228.4844,359.5469 Q228,359.1406 226.7969,359.1406 L225.7969,359.1406 Z M223.3438,357.0781 L226.7031,357.0781 Q229.2656,357.0781 230.3906,358 Q231.5156,358.9063 231.5156,360.9531 Q231.5156,363 230.3906,363.9219 Q229.2656,364.8281 226.7031,364.8281 L225.7969,364.8281 L225.7969,369.4688 L223.3438,369.4688 L223.3438,357.0781 Z \"/><text fill=\"#000000\" font-family=\"sans-serif\" font-size=\"12\" font-style=\"italic\" lengthAdjust=\"spacingAndGlyphs\" textLength=\"40\" x=\"238\" y=\"360.6387\">«part»</text><text fill=\"#000000\" font-family=\"sans-serif\" font-size=\"12\" lengthAdjust=\"spacingAndGlyphs\" textLength=\"8\" x=\"254\" y=\"374.6074\">p</text><line style=\"stroke: #A80036; stroke-width: 1.5;\" x1=\"212\" x2=\"278\" y1=\"382.4375\" y2=\"382.4375\"/></a><!--MD5=[49a0ec8f00dab7302a31f22d0f0fe584]\n",
       "class E12--><a href=\"psysml:5710aa92-7822-41e6-89ae-9d2d61cb8bf3\" target=\"_top\" title=\"psysml:5710aa92-7822-41e6-89ae-9d2d61cb8bf3\" xlink:actuate=\"onRequest\" xlink:href=\"psysml:5710aa92-7822-41e6-89ae-9d2d61cb8bf3\" xlink:show=\"new\" xlink:title=\"psysml:5710aa92-7822-41e6-89ae-9d2d61cb8bf3\" xlink:type=\"simple\"><rect fill=\"#FEFECE\" filter=\"url(#f1blmf30dfgk9t)\" height=\"45.9375\" id=\"E12\" rx=\"10\" ry=\"10\" style=\"stroke: #A80036; stroke-width: 1.5;\" width=\"68\" x=\"32\" y=\"62\"/><ellipse cx=\"47\" cy=\"80.9688\" fill=\"#32CD32\" rx=\"11\" ry=\"11\" style=\"stroke: #A80036; stroke-width: 1.0;\"/><path d=\"M46.7969,76.6406 L46.7969,80.2656 L47.7969,80.2656 Q49,80.2656 49.4844,79.8594 Q49.9688,79.4531 49.9688,78.4531 Q49.9688,77.4531 49.4844,77.0469 Q49,76.6406 47.7969,76.6406 L46.7969,76.6406 Z M44.3438,74.5781 L47.7031,74.5781 Q50.2656,74.5781 51.3906,75.5 Q52.5156,76.4063 52.5156,78.4531 Q52.5156,80.5 51.3906,81.4219 Q50.2656,82.3281 47.7031,82.3281 L46.7969,82.3281 L46.7969,86.9688 L44.3438,86.9688 L44.3438,74.5781 Z \"/><text fill=\"#000000\" font-family=\"sans-serif\" font-size=\"12\" font-style=\"italic\" lengthAdjust=\"spacingAndGlyphs\" textLength=\"40\" x=\"59\" y=\"78.1387\">«part»</text><text fill=\"#000000\" font-family=\"sans-serif\" font-size=\"12\" lengthAdjust=\"spacingAndGlyphs\" textLength=\"8\" x=\"75\" y=\"92.1074\">q</text><line style=\"stroke: #A80036; stroke-width: 1.5;\" x1=\"33\" x2=\"99\" y1=\"99.9375\" y2=\"99.9375\"/></a><!--MD5=[ee3c913d1a06f366521f9ef512b67efe]\n",
       "class E13--><a href=\"psysml:b72900fb-e3ca-4439-ac22-acb3bf892de5\" target=\"_top\" title=\"psysml:b72900fb-e3ca-4439-ac22-acb3bf892de5\" xlink:actuate=\"onRequest\" xlink:href=\"psysml:b72900fb-e3ca-4439-ac22-acb3bf892de5\" xlink:show=\"new\" xlink:title=\"psysml:b72900fb-e3ca-4439-ac22-acb3bf892de5\" xlink:type=\"simple\"><rect fill=\"#FEFECE\" filter=\"url(#f1blmf30dfgk9t)\" height=\"45.9375\" id=\"E13\" rx=\"10\" ry=\"10\" style=\"stroke: #A80036; stroke-width: 1.5;\" width=\"119\" x=\"44.5\" y=\"190\"/><ellipse cx=\"59.5\" cy=\"208.9688\" fill=\"#FFA500\" rx=\"11\" ry=\"11\" style=\"stroke: #A80036; stroke-width: 1.0;\"/><path d=\"M55.375,210.8906 L55.375,203.0781 L57.8281,203.0781 L57.8281,211.5156 Q57.8281,212.4375 58.2969,212.9688 Q58.7813,213.5 59.6094,213.5 Q60.4531,213.5 60.9219,212.9688 Q61.3906,212.4375 61.3906,211.5156 L61.3906,203.0781 L63.8438,203.0781 L63.8438,210.8906 Q63.8438,213.4219 62.8438,214.5625 Q61.8438,215.7031 59.6094,215.7031 Q57.3906,215.7031 56.375,214.5625 Q55.375,213.4219 55.375,210.8906 Z \"/><text fill=\"#000000\" font-family=\"sans-serif\" font-size=\"12\" font-style=\"italic\" lengthAdjust=\"spacingAndGlyphs\" textLength=\"91\" x=\"71.5\" y=\"206.1387\">«requirement»</text><text fill=\"#000000\" font-family=\"sans-serif\" font-size=\"12\" lengthAdjust=\"spacingAndGlyphs\" textLength=\"21\" x=\"106.5\" y=\"220.1074\">r: R</text><line style=\"stroke: #A80036; stroke-width: 1.5;\" x1=\"45.5\" x2=\"162.5\" y1=\"227.9375\" y2=\"227.9375\"/></a><!--MD5=[05d275557350bfb9b23a4ef7222b4c39]\n",
       "link E3 to E2--><a href=\"psysml:8b4534c8-c65f-4721-aa95-1aefa1ee4858\" target=\"_top\" title=\"psysml:8b4534c8-c65f-4721-aa95-1aefa1ee4858\" xlink:actuate=\"onRequest\" xlink:href=\"psysml:8b4534c8-c65f-4721-aa95-1aefa1ee4858\" xlink:show=\"new\" xlink:title=\"psysml:8b4534c8-c65f-4721-aa95-1aefa1ee4858\" xlink:type=\"simple\"><path d=\"M366.88,108.24 C365.26,125.24 362.98,149.19 361.02,169.79 \" fill=\"none\" id=\"E3-&gt;E2\" style=\"stroke: #A80036; stroke-width: 1.0;\"/><polygon fill=\"#FFFFFF\" points=\"359.1,189.99,353.9362,170.411,367.8729,171.7407,359.1,189.99\" style=\"stroke: #A80036; stroke-width: 1.0;\"/><ellipse cx=\"356.4685\" cy=\"164.9268\" fill=\"#A80036\" rx=\"2\" ry=\"2\" style=\"stroke: #A80036; stroke-width: 1.0;\"/><ellipse cx=\"366.4233\" cy=\"165.8765\" fill=\"#A80036\" rx=\"2\" ry=\"2\" style=\"stroke: #A80036; stroke-width: 1.0;\"/></a><!--MD5=[62aa6af11e70f752912c1cb0466f24f7]\n",
       "reverse link E4 to E5--><a href=\"psysml:5c4fbfc6-6feb-457a-9610-da755776e124\" target=\"_top\" title=\"psysml:5c4fbfc6-6feb-457a-9610-da755776e124\" xlink:actuate=\"onRequest\" xlink:href=\"psysml:5c4fbfc6-6feb-457a-9610-da755776e124\" xlink:show=\"new\" xlink:title=\"psysml:5c4fbfc6-6feb-457a-9610-da755776e124\" xlink:type=\"simple\"><path d=\"M104,437.45 C104,453.34 104,469.51 104,482.98 \" fill=\"none\" id=\"E4&lt;-E5\" style=\"stroke: #A80036; stroke-width: 1.0;\"/><ellipse cx=\"104\" cy=\"430.4\" fill=\"#FFFFFF\" rx=\"8\" ry=\"8\" style=\"stroke: #A80036; stroke-width: 1.0;\"/><line style=\"stroke: #A80036; stroke-width: 1.0;\" x1=\"104\" x2=\"104\" y1=\"438.4\" y2=\"422.4\"/><line style=\"stroke: #A80036; stroke-width: 1.0;\" x1=\"96\" x2=\"112\" y1=\"430.4\" y2=\"430.4\"/></a><!--MD5=[c6fc7cdb0cabde04948078cf183fa696]\n",
       "reverse link E4 to E8--><a href=\"psysml:577c6bec-7675-4e65-a136-10b226b9020a\" target=\"_top\" title=\"psysml:577c6bec-7675-4e65-a136-10b226b9020a\" xlink:actuate=\"onRequest\" xlink:href=\"psysml:577c6bec-7675-4e65-a136-10b226b9020a\" xlink:show=\"new\" xlink:title=\"psysml:577c6bec-7675-4e65-a136-10b226b9020a\" xlink:type=\"simple\"><path d=\"M174.75,431.16 C199.83,453.36 226.43,476.92 245.13,493.48 \" fill=\"none\" id=\"E4&lt;-E8\" style=\"stroke: #A80036; stroke-width: 1.0;\"/><polygon fill=\"#A80036\" points=\"164.87,422.4,166.7154,429.371,173.86,430.3486,172.0145,423.3776,164.87,422.4\" style=\"stroke: #A80036; stroke-width: 1.0;\"/></a><!--MD5=[062ed86c389d1a88f61c6380d0491e17]\n",
       "reverse link E12 to E13--><a href=\"psysml:b72900fb-e3ca-4439-ac22-acb3bf892de5\" target=\"_top\" title=\"psysml:b72900fb-e3ca-4439-ac22-acb3bf892de5\" xlink:actuate=\"onRequest\" xlink:href=\"psysml:b72900fb-e3ca-4439-ac22-acb3bf892de5\" xlink:show=\"new\" xlink:title=\"psysml:b72900fb-e3ca-4439-ac22-acb3bf892de5\" xlink:type=\"simple\"><path d=\"M76.49,120.8 C83.17,142.92 91.6,170.89 97.36,189.99 \" fill=\"none\" id=\"E12&lt;-E13\" style=\"stroke: #A80036; stroke-width: 1.0;\"/><polygon fill=\"#A80036\" points=\"72.71,108.24,70.6129,115.1394,76.1751,119.7288,78.2722,112.8294,72.71,108.24\" style=\"stroke: #A80036; stroke-width: 1.0;\"/></a><!--MD5=[017847e01ff9a8bd19f247411074f987]\n",
       "link E13 to E4--><a href=\"psysml:ed6e641a-605b-4ed9-9064-d41509e7ab16\" target=\"_top\" title=\"psysml:ed6e641a-605b-4ed9-9064-d41509e7ab16\" xlink:actuate=\"onRequest\" xlink:href=\"psysml:ed6e641a-605b-4ed9-9064-d41509e7ab16\" xlink:show=\"new\" xlink:title=\"psysml:ed6e641a-605b-4ed9-9064-d41509e7ab16\" xlink:type=\"simple\"><path d=\"M104,236.17 C104,251.17 104,271.91 104,292.44 \" fill=\"none\" id=\"E13-&gt;E4\" style=\"stroke: #A80036; stroke-width: 1.0;\"/><polygon fill=\"#FFFFFF\" points=\"104,312.68,97,293.68,111,293.68,104,312.68\" style=\"stroke: #A80036; stroke-width: 1.0;\"/><ellipse cx=\"99\" cy=\"287.98\" fill=\"#A80036\" rx=\"2\" ry=\"2\" style=\"stroke: #A80036; stroke-width: 1.0;\"/><ellipse cx=\"109\" cy=\"287.98\" fill=\"#A80036\" rx=\"2\" ry=\"2\" style=\"stroke: #A80036; stroke-width: 1.0;\"/></a><!--MD5=[2cfe899c895462254056921bfb67315f]\n",
       "link E13 to E11--><a href=\"psysml:11f1a2a5-a4e7-4875-8b16-7052fd317758\" target=\"_top\" title=\"psysml:11f1a2a5-a4e7-4875-8b16-7052fd317758\" xlink:actuate=\"onRequest\" xlink:href=\"psysml:11f1a2a5-a4e7-4875-8b16-7052fd317758\" xlink:show=\"new\" xlink:title=\"psysml:11f1a2a5-a4e7-4875-8b16-7052fd317758\" xlink:type=\"simple\"><path d=\"M124.5,236.17 C150.09,263.85 193.77,311.09 220.92,340.45 \" fill=\"none\" id=\"E13-&gt;E11\" style=\"stroke: #A80036; stroke-width: 1.0; stroke-dasharray: 7.0,7.0;\"/><polygon fill=\"#A80036\" points=\"224.47,344.3,221.2896,334.9788,221.0727,340.6315,215.42,340.4145,224.47,344.3\" style=\"stroke: #A80036; stroke-width: 1.0;\"/><text fill=\"#000000\" font-family=\"sans-serif\" font-size=\"13\" lengthAdjust=\"spacingAndGlyphs\" textLength=\"57\" x=\"167\" y=\"279.0669\">«satisfy»</text></a><!--MD5=[fbe3ee0deb9cec292f13998f53a87d82]\n",
       "@startuml\r\n",
       " \r\n",
       "package \"RequirementTest\" as E1  [[psysml:8aa028f5-1693-4b51-bff2-c94d0f18c930 ]]  {\r\n",
       "comp def \"C\" as E2  <<(D,brown)constraint def>> [[psysml:27c2a771-07cf-4bde-9591-6030a1a15742 ]] {\r\n",
       "}\r\n",
       "comp usage \"c: C\" as E3  <<(U,orange)constraint>> [[psysml:da02b217-f155-4220-a2dc-d840d0d24f86 ]] {\r\n",
       "}\r\n",
       "comp def \"R\" as E4  <<(D,brown)requirement def>> [[psysml:b9a9d178-6ba0-415d-80bd-8d7e5aacf32f ]] {\r\n",
       "\r\n",
       "- -\r\n",
       "- - constraints - -\r\n",
       "<b>require</b> c\r\n",
       "<i>assume</i> c1: C\r\n",
       "}\r\n",
       "comp def \" [<b>1</b>] A\" as E5  <<(D,brown)requirement def>> [[psysml:5c4fbfc6-6feb-457a-9610-da755776e124 ]] {\r\n",
       "Text\r\n",
       "- -\r\n",
       "}\r\n",
       "comp usage \"<s>noname</s>\" as E8  <<(U,orange)requirement>> [[psysml:577c6bec-7675-4e65-a136-10b226b9020a ]] {\r\n",
       "}\r\n",
       "comp def \"R1\" as E9  <<(D,brown)requirement def>> [[psysml:291c6c45-8332-45a6-809f-574961a49898 ]] {\r\n",
       "- - constraints - -\r\n",
       "<b>require</b> c1\\n//:>>RequirementTest::c// \r\n",
       "}\r\n",
       "comp usage \"p\" as E11  << (P,limegreen) part>> [[psysml:b7118396-8822-4234-af4f-531e34fd2b85 ]] {\r\n",
       "}\r\n",
       "comp usage \"q\" as E12  << (P,limegreen) part>> [[psysml:5710aa92-7822-41e6-89ae-9d2d61cb8bf3 ]] {\r\n",
       "}\r\n",
       "comp usage \"r: R\" as E13  <<(U,orange)requirement>> [[psysml:b72900fb-e3ca-4439-ac22-acb3bf892de5 ]] {\r\n",
       "}\r\n",
       "E3 - -:|> E2 [[psysml:8b4534c8-c65f-4721-aa95-1aefa1ee4858 ]] \r\n",
       "E4 +- - E5 [[psysml:5c4fbfc6-6feb-457a-9610-da755776e124 ]] \r\n",
       "E4 *- - E8 [[psysml:577c6bec-7675-4e65-a136-10b226b9020a ]] \r\n",
       "E12 *- - E13 [[psysml:b72900fb-e3ca-4439-ac22-acb3bf892de5 ]] \r\n",
       "E13 - -:|> E4 [[psysml:ed6e641a-605b-4ed9-9064-d41509e7ab16 ]] \r\n",
       "E13 ..> E11 [[psysml:11f1a2a5-a4e7-4875-8b16-7052fd317758 ]] : <<satisfy>>\r\n",
       "}\r\n",
       "@enduml\r\n",
       "\n",
       "PlantUML version 1.2020.13(Sat Jun 13 12:26:38 UTC 2020)\n",
       "(EPL source distribution)\n",
       "Java Runtime: OpenJDK Runtime Environment\n",
       "JVM: OpenJDK 64-Bit Server VM\n",
       "Default Encoding: UTF-8\n",
       "Language: en\n",
       "Country: null\n",
       "--></g></svg>"
      ]
     },
     "execution_count": 35,
     "metadata": {},
     "output_type": "execute_result"
    }
   ],
   "source": [
    "%viz --style=\"PLANTUML\" --view=\"Sequence\" \"RequirementTest\""
   ]
  },
  {
   "cell_type": "code",
   "execution_count": 36,
   "id": "robust-financing",
   "metadata": {
    "execution": {
     "iopub.execute_input": "2021-03-26T09:12:29.792956Z",
     "iopub.status.busy": "2021-03-26T09:12:29.792105Z",
     "iopub.status.idle": "2021-03-26T09:12:29.882143Z",
     "shell.execute_reply": "2021-03-26T09:12:29.880594Z"
    }
   },
   "outputs": [
    {
     "data": {
      "image/svg+xml": [
       "<?xml version=\"1.0\" encoding=\"UTF-8\" standalone=\"no\"?><svg xmlns=\"http://www.w3.org/2000/svg\" xmlns:xlink=\"http://www.w3.org/1999/xlink\" contentScriptType=\"application/ecmascript\" contentStyleType=\"text/css\" height=\"578px\" preserveAspectRatio=\"none\" style=\"width:460px;height:578px;\" version=\"1.1\" viewBox=\"0 0 460 578\" width=\"460px\" zoomAndPan=\"magnify\"><defs><filter height=\"300%\" id=\"f1blmf30dfgk9t\" width=\"300%\" x=\"-1\" y=\"-1\"><feGaussianBlur result=\"blurOut\" stdDeviation=\"2.0\"/><feColorMatrix in=\"blurOut\" result=\"blurOut2\" type=\"matrix\" values=\"0 0 0 0 0 0 0 0 0 0 0 0 0 0 0 0 0 0 .4 0\"/><feOffset dx=\"4.0\" dy=\"4.0\" in=\"blurOut2\" result=\"blurOut3\"/><feBlend in=\"SourceGraphic\" in2=\"blurOut3\" mode=\"normal\"/></filter></defs><g><!--MD5=[fbc87193dbaf4d95561dea2c320d4a47]\n",
       "cluster E1--><a href=\"psysml:8aa028f5-1693-4b51-bff2-c94d0f18c930\" target=\"_top\" title=\"psysml:8aa028f5-1693-4b51-bff2-c94d0f18c930\" xlink:actuate=\"onRequest\" xlink:href=\"psysml:8aa028f5-1693-4b51-bff2-c94d0f18c930\" xlink:show=\"new\" xlink:title=\"psysml:8aa028f5-1693-4b51-bff2-c94d0f18c930\" xlink:type=\"simple\"><polygon fill=\"#FFFFFF\" filter=\"url(#f1blmf30dfgk9t)\" points=\"16,6,158,6,165,28.2969,438,28.2969,438,566,16,566,16,6\" style=\"stroke: #000000; stroke-width: 1.5;\"/><line style=\"stroke: #000000; stroke-width: 1.5;\" x1=\"16\" x2=\"165\" y1=\"28.2969\" y2=\"28.2969\"/><text fill=\"#000000\" font-family=\"sans-serif\" font-size=\"14\" font-weight=\"bold\" lengthAdjust=\"spacingAndGlyphs\" textLength=\"136\" x=\"20\" y=\"20.9951\">RequirementTest</text></a><!--MD5=[b4997ac47864f28c2f74865a473b2911]\n",
       "class E2--><a href=\"psysml:27c2a771-07cf-4bde-9591-6030a1a15742\" target=\"_top\" title=\"psysml:27c2a771-07cf-4bde-9591-6030a1a15742\" xlink:actuate=\"onRequest\" xlink:href=\"psysml:27c2a771-07cf-4bde-9591-6030a1a15742\" xlink:show=\"new\" xlink:title=\"psysml:27c2a771-07cf-4bde-9591-6030a1a15742\" xlink:type=\"simple\"><rect fill=\"#FEFECE\" filter=\"url(#f1blmf30dfgk9t)\" height=\"45.9375\" id=\"E2\" style=\"stroke: #A80036; stroke-width: 1.5;\" width=\"130\" x=\"292\" y=\"190\"/><ellipse cx=\"307\" cy=\"208.9688\" fill=\"#A52A2A\" rx=\"11\" ry=\"11\" style=\"stroke: #A80036; stroke-width: 1.0;\"/><path d=\"M306.5938,204.7813 L306.5938,212.7656 L307.25,212.7656 Q308.6875,212.7656 309.2969,211.8594 Q309.9219,210.9375 309.9219,208.7656 Q309.9219,206.5938 309.2969,205.6875 Q308.6875,204.7813 307.25,204.7813 L306.5938,204.7813 Z M304.1406,202.5781 L306.7656,202.5781 Q309.7969,202.5781 311.125,204.0313 Q312.4688,205.4688 312.4688,208.7656 Q312.4688,212.0625 311.125,213.5156 Q309.7969,214.9688 306.7656,214.9688 L304.1406,214.9688 L304.1406,202.5781 Z \"/><text fill=\"#000000\" font-family=\"sans-serif\" font-size=\"12\" font-style=\"italic\" lengthAdjust=\"spacingAndGlyphs\" textLength=\"102\" x=\"319\" y=\"206.1387\">«constraint def»</text><text fill=\"#000000\" font-family=\"sans-serif\" font-size=\"12\" lengthAdjust=\"spacingAndGlyphs\" textLength=\"8\" x=\"366\" y=\"220.1074\">C</text><line style=\"stroke: #A80036; stroke-width: 1.5;\" x1=\"293\" x2=\"421\" y1=\"227.9375\" y2=\"227.9375\"/></a><!--MD5=[09b614a08d8cba4a07c9adeb5e0fee81]\n",
       "class E3--><a href=\"psysml:da02b217-f155-4220-a2dc-d840d0d24f86\" target=\"_top\" title=\"psysml:da02b217-f155-4220-a2dc-d840d0d24f86\" xlink:actuate=\"onRequest\" xlink:href=\"psysml:da02b217-f155-4220-a2dc-d840d0d24f86\" xlink:show=\"new\" xlink:title=\"psysml:da02b217-f155-4220-a2dc-d840d0d24f86\" xlink:type=\"simple\"><rect fill=\"#FEFECE\" filter=\"url(#f1blmf30dfgk9t)\" height=\"45.9375\" id=\"E3\" rx=\"10\" ry=\"10\" style=\"stroke: #A80036; stroke-width: 1.5;\" width=\"106\" x=\"316\" y=\"62\"/><ellipse cx=\"331\" cy=\"80.9688\" fill=\"#FFA500\" rx=\"11\" ry=\"11\" style=\"stroke: #A80036; stroke-width: 1.0;\"/><path d=\"M326.875,82.8906 L326.875,75.0781 L329.3281,75.0781 L329.3281,83.5156 Q329.3281,84.4375 329.7969,84.9688 Q330.2813,85.5 331.1094,85.5 Q331.9531,85.5 332.4219,84.9688 Q332.8906,84.4375 332.8906,83.5156 L332.8906,75.0781 L335.3438,75.0781 L335.3438,82.8906 Q335.3438,85.4219 334.3438,86.5625 Q333.3438,87.7031 331.1094,87.7031 Q328.8906,87.7031 327.875,86.5625 Q326.875,85.4219 326.875,82.8906 Z \"/><text fill=\"#000000\" font-family=\"sans-serif\" font-size=\"12\" font-style=\"italic\" lengthAdjust=\"spacingAndGlyphs\" textLength=\"78\" x=\"343\" y=\"78.1387\">«constraint»</text><text fill=\"#000000\" font-family=\"sans-serif\" font-size=\"12\" lengthAdjust=\"spacingAndGlyphs\" textLength=\"23\" x=\"370.5\" y=\"92.1074\">c: C</text><line style=\"stroke: #A80036; stroke-width: 1.5;\" x1=\"317\" x2=\"421\" y1=\"99.9375\" y2=\"99.9375\"/></a><!--MD5=[ebbe1d658d1005bcc118a6aa81145e00]\n",
       "class E4--><a href=\"psysml:b9a9d178-6ba0-415d-80bd-8d7e5aacf32f\" target=\"_top\" title=\"psysml:b9a9d178-6ba0-415d-80bd-8d7e5aacf32f\" xlink:actuate=\"onRequest\" xlink:href=\"psysml:b9a9d178-6ba0-415d-80bd-8d7e5aacf32f\" xlink:show=\"new\" xlink:title=\"psysml:b9a9d178-6ba0-415d-80bd-8d7e5aacf32f\" xlink:type=\"simple\"><rect fill=\"#FEFECE\" filter=\"url(#f1blmf30dfgk9t)\" height=\"109.1563\" id=\"E4\" style=\"stroke: #A80036; stroke-width: 1.5;\" width=\"143\" x=\"32.5\" y=\"313\"/><ellipse cx=\"47.5\" cy=\"331.9688\" fill=\"#A52A2A\" rx=\"11\" ry=\"11\" style=\"stroke: #A80036; stroke-width: 1.0;\"/><path d=\"M47.0938,327.7813 L47.0938,335.7656 L47.75,335.7656 Q49.1875,335.7656 49.7969,334.8594 Q50.4219,333.9375 50.4219,331.7656 Q50.4219,329.5938 49.7969,328.6875 Q49.1875,327.7813 47.75,327.7813 L47.0938,327.7813 Z M44.6406,325.5781 L47.2656,325.5781 Q50.2969,325.5781 51.625,327.0313 Q52.9688,328.4688 52.9688,331.7656 Q52.9688,335.0625 51.625,336.5156 Q50.2969,337.9688 47.2656,337.9688 L44.6406,337.9688 L44.6406,325.5781 Z \"/><text fill=\"#000000\" font-family=\"sans-serif\" font-size=\"12\" font-style=\"italic\" lengthAdjust=\"spacingAndGlyphs\" textLength=\"115\" x=\"59.5\" y=\"329.1387\">«requirement def»</text><text fill=\"#000000\" font-family=\"sans-serif\" font-size=\"12\" lengthAdjust=\"spacingAndGlyphs\" textLength=\"8\" x=\"113\" y=\"343.1074\">R</text><line style=\"stroke: #A80036; stroke-width: 1.5;\" x1=\"33.5\" x2=\"174.5\" y1=\"350.9375\" y2=\"350.9375\"/><text fill=\"#000000\" font-family=\"sans-serif\" font-size=\"11\" lengthAdjust=\"spacingAndGlyphs\" textLength=\"0\" x=\"42.5\" y=\"365.1479\"/><line style=\"stroke: #A80036; stroke-width: 1.0;\" x1=\"33.5\" x2=\"174.5\" y1=\"371.7422\" y2=\"371.7422\"/><text fill=\"#000000\" font-family=\"sans-serif\" font-size=\"11\" font-weight=\"bold\" lengthAdjust=\"spacingAndGlyphs\" textLength=\"46\" x=\"38.5\" y=\"402.7573\">require</text><text fill=\"#000000\" font-family=\"sans-serif\" font-size=\"11\" lengthAdjust=\"spacingAndGlyphs\" textLength=\"6\" x=\"88.5\" y=\"402.7573\">c</text><text fill=\"#000000\" font-family=\"sans-serif\" font-size=\"11\" font-style=\"italic\" lengthAdjust=\"spacingAndGlyphs\" textLength=\"46\" x=\"38.5\" y=\"415.562\">assume</text><text fill=\"#000000\" font-family=\"sans-serif\" font-size=\"11\" lengthAdjust=\"spacingAndGlyphs\" textLength=\"29\" x=\"88.5\" y=\"415.562\">c1: C</text><line style=\"stroke: #A80036; stroke-width: 1.0;\" x1=\"33.5\" x2=\"72\" y1=\"386.1445\" y2=\"386.1445\"/><text fill=\"#000000\" font-family=\"sans-serif\" font-size=\"11\" lengthAdjust=\"spacingAndGlyphs\" textLength=\"64\" x=\"72\" y=\"389.4526\">constraints</text><line style=\"stroke: #A80036; stroke-width: 1.0;\" x1=\"136\" x2=\"174.5\" y1=\"386.1445\" y2=\"386.1445\"/></a><!--MD5=[270fce915f116d4de14055a7c1d9a0f3]\n",
       "class E5--><a href=\"psysml:5c4fbfc6-6feb-457a-9610-da755776e124\" target=\"_top\" title=\"psysml:5c4fbfc6-6feb-457a-9610-da755776e124\" xlink:actuate=\"onRequest\" xlink:href=\"psysml:5c4fbfc6-6feb-457a-9610-da755776e124\" xlink:show=\"new\" xlink:title=\"psysml:5c4fbfc6-6feb-457a-9610-da755776e124\" xlink:type=\"simple\"><rect fill=\"#FEFECE\" filter=\"url(#f1blmf30dfgk9t)\" height=\"66.7422\" id=\"E5\" style=\"stroke: #A80036; stroke-width: 1.5;\" width=\"143\" x=\"32.5\" y=\"483\"/><ellipse cx=\"47.5\" cy=\"501.9688\" fill=\"#A52A2A\" rx=\"11\" ry=\"11\" style=\"stroke: #A80036; stroke-width: 1.0;\"/><path d=\"M47.0938,497.7813 L47.0938,505.7656 L47.75,505.7656 Q49.1875,505.7656 49.7969,504.8594 Q50.4219,503.9375 50.4219,501.7656 Q50.4219,499.5938 49.7969,498.6875 Q49.1875,497.7813 47.75,497.7813 L47.0938,497.7813 Z M44.6406,495.5781 L47.2656,495.5781 Q50.2969,495.5781 51.625,497.0313 Q52.9688,498.4688 52.9688,501.7656 Q52.9688,505.0625 51.625,506.5156 Q50.2969,507.9688 47.2656,507.9688 L44.6406,507.9688 L44.6406,495.5781 Z \"/><text fill=\"#000000\" font-family=\"sans-serif\" font-size=\"12\" font-style=\"italic\" lengthAdjust=\"spacingAndGlyphs\" textLength=\"115\" x=\"59.5\" y=\"499.1387\">«requirement def»</text><text fill=\"#000000\" font-family=\"sans-serif\" font-size=\"12\" lengthAdjust=\"spacingAndGlyphs\" textLength=\"5\" x=\"104\" y=\"513.1074\">[</text><text fill=\"#000000\" font-family=\"sans-serif\" font-size=\"12\" font-weight=\"bold\" lengthAdjust=\"spacingAndGlyphs\" textLength=\"8\" x=\"109\" y=\"513.1074\">1</text><text fill=\"#000000\" font-family=\"sans-serif\" font-size=\"12\" lengthAdjust=\"spacingAndGlyphs\" textLength=\"17\" x=\"117\" y=\"513.1074\">] A</text><line style=\"stroke: #A80036; stroke-width: 1.5;\" x1=\"33.5\" x2=\"174.5\" y1=\"520.9375\" y2=\"520.9375\"/><text fill=\"#000000\" font-family=\"sans-serif\" font-size=\"11\" lengthAdjust=\"spacingAndGlyphs\" textLength=\"24\" x=\"38.5\" y=\"535.1479\">Text</text><line style=\"stroke: #A80036; stroke-width: 1.0;\" x1=\"33.5\" x2=\"174.5\" y1=\"541.7422\" y2=\"541.7422\"/></a><!--MD5=[b9389687b975829384b498ac4b7476b2]\n",
       "class E8--><a href=\"psysml:577c6bec-7675-4e65-a136-10b226b9020a\" target=\"_top\" title=\"psysml:577c6bec-7675-4e65-a136-10b226b9020a\" xlink:actuate=\"onRequest\" xlink:href=\"psysml:577c6bec-7675-4e65-a136-10b226b9020a\" xlink:show=\"new\" xlink:title=\"psysml:577c6bec-7675-4e65-a136-10b226b9020a\" xlink:type=\"simple\"><rect fill=\"#FEFECE\" filter=\"url(#f1blmf30dfgk9t)\" height=\"45.9375\" id=\"E8\" rx=\"10\" ry=\"10\" style=\"stroke: #A80036; stroke-width: 1.5;\" width=\"119\" x=\"210.5\" y=\"493.5\"/><ellipse cx=\"225.5\" cy=\"512.4688\" fill=\"#FFA500\" rx=\"11\" ry=\"11\" style=\"stroke: #A80036; stroke-width: 1.0;\"/><path d=\"M221.375,514.3906 L221.375,506.5781 L223.8281,506.5781 L223.8281,515.0156 Q223.8281,515.9375 224.2969,516.4688 Q224.7813,517 225.6094,517 Q226.4531,517 226.9219,516.4688 Q227.3906,515.9375 227.3906,515.0156 L227.3906,506.5781 L229.8438,506.5781 L229.8438,514.3906 Q229.8438,516.9219 228.8438,518.0625 Q227.8438,519.2031 225.6094,519.2031 Q223.3906,519.2031 222.375,518.0625 Q221.375,516.9219 221.375,514.3906 Z \"/><text fill=\"#000000\" font-family=\"sans-serif\" font-size=\"12\" font-style=\"italic\" lengthAdjust=\"spacingAndGlyphs\" textLength=\"91\" x=\"237.5\" y=\"509.6387\">«requirement»</text><text fill=\"#000000\" font-family=\"sans-serif\" font-size=\"12\" lengthAdjust=\"spacingAndGlyphs\" text-decoration=\"line-through\" textLength=\"51\" x=\"257.5\" y=\"523.6074\">noname</text><line style=\"stroke: #A80036; stroke-width: 1.5;\" x1=\"211.5\" x2=\"328.5\" y1=\"531.4375\" y2=\"531.4375\"/></a><!--MD5=[fd4143e9d270a159db93a4ea2a975926]\n",
       "class E9--><a href=\"psysml:291c6c45-8332-45a6-809f-574961a49898\" target=\"_top\" title=\"psysml:291c6c45-8332-45a6-809f-574961a49898\" xlink:actuate=\"onRequest\" xlink:href=\"psysml:291c6c45-8332-45a6-809f-574961a49898\" xlink:show=\"new\" xlink:title=\"psysml:291c6c45-8332-45a6-809f-574961a49898\" xlink:type=\"simple\"><rect fill=\"#FEFECE\" filter=\"url(#f1blmf30dfgk9t)\" height=\"88.3516\" id=\"E9\" style=\"stroke: #A80036; stroke-width: 1.5;\" width=\"145\" x=\"135.5\" y=\"41\"/><ellipse cx=\"151.4\" cy=\"59.9688\" fill=\"#A52A2A\" rx=\"11\" ry=\"11\" style=\"stroke: #A80036; stroke-width: 1.0;\"/><path d=\"M150.9938,55.7813 L150.9938,63.7656 L151.65,63.7656 Q153.0875,63.7656 153.6969,62.8594 Q154.3219,61.9375 154.3219,59.7656 Q154.3219,57.5938 153.6969,56.6875 Q153.0875,55.7813 151.65,55.7813 L150.9938,55.7813 Z M148.5406,53.5781 L151.1656,53.5781 Q154.1969,53.5781 155.525,55.0313 Q156.8688,56.4688 156.8688,59.7656 Q156.8688,63.0625 155.525,64.5156 Q154.1969,65.9688 151.1656,65.9688 L148.5406,65.9688 L148.5406,53.5781 Z \"/><text fill=\"#000000\" font-family=\"sans-serif\" font-size=\"12\" font-style=\"italic\" lengthAdjust=\"spacingAndGlyphs\" textLength=\"115\" x=\"163.6\" y=\"57.1387\">«requirement def»</text><text fill=\"#000000\" font-family=\"sans-serif\" font-size=\"12\" lengthAdjust=\"spacingAndGlyphs\" textLength=\"16\" x=\"213.1\" y=\"71.1074\">R1</text><line style=\"stroke: #A80036; stroke-width: 1.5;\" x1=\"136.5\" x2=\"279.5\" y1=\"78.9375\" y2=\"78.9375\"/><text fill=\"#000000\" font-family=\"sans-serif\" font-size=\"11\" font-weight=\"bold\" lengthAdjust=\"spacingAndGlyphs\" textLength=\"46\" x=\"141.5\" y=\"109.9526\">require</text><text fill=\"#000000\" font-family=\"sans-serif\" font-size=\"11\" lengthAdjust=\"spacingAndGlyphs\" textLength=\"13\" x=\"191.5\" y=\"109.9526\">c1</text><text fill=\"#000000\" font-family=\"sans-serif\" font-size=\"11\" font-style=\"italic\" lengthAdjust=\"spacingAndGlyphs\" textLength=\"133\" x=\"141.5\" y=\"122.7573\">:&gt;&gt;RequirementTest::c</text><line style=\"stroke: #A80036; stroke-width: 1.0;\" x1=\"136.5\" x2=\"176\" y1=\"93.3398\" y2=\"93.3398\"/><text fill=\"#000000\" font-family=\"sans-serif\" font-size=\"11\" lengthAdjust=\"spacingAndGlyphs\" textLength=\"64\" x=\"176\" y=\"96.6479\">constraints</text><line style=\"stroke: #A80036; stroke-width: 1.0;\" x1=\"240\" x2=\"279.5\" y1=\"93.3398\" y2=\"93.3398\"/></a><!--MD5=[1dd1bfd58a279cf63c5f349dbc8fc6a1]\n",
       "class E11--><a href=\"psysml:b7118396-8822-4234-af4f-531e34fd2b85\" target=\"_top\" title=\"psysml:b7118396-8822-4234-af4f-531e34fd2b85\" xlink:actuate=\"onRequest\" xlink:href=\"psysml:b7118396-8822-4234-af4f-531e34fd2b85\" xlink:show=\"new\" xlink:title=\"psysml:b7118396-8822-4234-af4f-531e34fd2b85\" xlink:type=\"simple\"><rect fill=\"#FEFECE\" filter=\"url(#f1blmf30dfgk9t)\" height=\"45.9375\" id=\"E11\" rx=\"10\" ry=\"10\" style=\"stroke: #A80036; stroke-width: 1.5;\" width=\"68\" x=\"211\" y=\"344.5\"/><ellipse cx=\"226\" cy=\"363.4688\" fill=\"#32CD32\" rx=\"11\" ry=\"11\" style=\"stroke: #A80036; stroke-width: 1.0;\"/><path d=\"M225.7969,359.1406 L225.7969,362.7656 L226.7969,362.7656 Q228,362.7656 228.4844,362.3594 Q228.9688,361.9531 228.9688,360.9531 Q228.9688,359.9531 228.4844,359.5469 Q228,359.1406 226.7969,359.1406 L225.7969,359.1406 Z M223.3438,357.0781 L226.7031,357.0781 Q229.2656,357.0781 230.3906,358 Q231.5156,358.9063 231.5156,360.9531 Q231.5156,363 230.3906,363.9219 Q229.2656,364.8281 226.7031,364.8281 L225.7969,364.8281 L225.7969,369.4688 L223.3438,369.4688 L223.3438,357.0781 Z \"/><text fill=\"#000000\" font-family=\"sans-serif\" font-size=\"12\" font-style=\"italic\" lengthAdjust=\"spacingAndGlyphs\" textLength=\"40\" x=\"238\" y=\"360.6387\">«part»</text><text fill=\"#000000\" font-family=\"sans-serif\" font-size=\"12\" lengthAdjust=\"spacingAndGlyphs\" textLength=\"8\" x=\"254\" y=\"374.6074\">p</text><line style=\"stroke: #A80036; stroke-width: 1.5;\" x1=\"212\" x2=\"278\" y1=\"382.4375\" y2=\"382.4375\"/></a><!--MD5=[49a0ec8f00dab7302a31f22d0f0fe584]\n",
       "class E12--><a href=\"psysml:5710aa92-7822-41e6-89ae-9d2d61cb8bf3\" target=\"_top\" title=\"psysml:5710aa92-7822-41e6-89ae-9d2d61cb8bf3\" xlink:actuate=\"onRequest\" xlink:href=\"psysml:5710aa92-7822-41e6-89ae-9d2d61cb8bf3\" xlink:show=\"new\" xlink:title=\"psysml:5710aa92-7822-41e6-89ae-9d2d61cb8bf3\" xlink:type=\"simple\"><rect fill=\"#FEFECE\" filter=\"url(#f1blmf30dfgk9t)\" height=\"45.9375\" id=\"E12\" rx=\"10\" ry=\"10\" style=\"stroke: #A80036; stroke-width: 1.5;\" width=\"68\" x=\"32\" y=\"62\"/><ellipse cx=\"47\" cy=\"80.9688\" fill=\"#32CD32\" rx=\"11\" ry=\"11\" style=\"stroke: #A80036; stroke-width: 1.0;\"/><path d=\"M46.7969,76.6406 L46.7969,80.2656 L47.7969,80.2656 Q49,80.2656 49.4844,79.8594 Q49.9688,79.4531 49.9688,78.4531 Q49.9688,77.4531 49.4844,77.0469 Q49,76.6406 47.7969,76.6406 L46.7969,76.6406 Z M44.3438,74.5781 L47.7031,74.5781 Q50.2656,74.5781 51.3906,75.5 Q52.5156,76.4063 52.5156,78.4531 Q52.5156,80.5 51.3906,81.4219 Q50.2656,82.3281 47.7031,82.3281 L46.7969,82.3281 L46.7969,86.9688 L44.3438,86.9688 L44.3438,74.5781 Z \"/><text fill=\"#000000\" font-family=\"sans-serif\" font-size=\"12\" font-style=\"italic\" lengthAdjust=\"spacingAndGlyphs\" textLength=\"40\" x=\"59\" y=\"78.1387\">«part»</text><text fill=\"#000000\" font-family=\"sans-serif\" font-size=\"12\" lengthAdjust=\"spacingAndGlyphs\" textLength=\"8\" x=\"75\" y=\"92.1074\">q</text><line style=\"stroke: #A80036; stroke-width: 1.5;\" x1=\"33\" x2=\"99\" y1=\"99.9375\" y2=\"99.9375\"/></a><!--MD5=[ee3c913d1a06f366521f9ef512b67efe]\n",
       "class E13--><a href=\"psysml:b72900fb-e3ca-4439-ac22-acb3bf892de5\" target=\"_top\" title=\"psysml:b72900fb-e3ca-4439-ac22-acb3bf892de5\" xlink:actuate=\"onRequest\" xlink:href=\"psysml:b72900fb-e3ca-4439-ac22-acb3bf892de5\" xlink:show=\"new\" xlink:title=\"psysml:b72900fb-e3ca-4439-ac22-acb3bf892de5\" xlink:type=\"simple\"><rect fill=\"#FEFECE\" filter=\"url(#f1blmf30dfgk9t)\" height=\"45.9375\" id=\"E13\" rx=\"10\" ry=\"10\" style=\"stroke: #A80036; stroke-width: 1.5;\" width=\"119\" x=\"44.5\" y=\"190\"/><ellipse cx=\"59.5\" cy=\"208.9688\" fill=\"#FFA500\" rx=\"11\" ry=\"11\" style=\"stroke: #A80036; stroke-width: 1.0;\"/><path d=\"M55.375,210.8906 L55.375,203.0781 L57.8281,203.0781 L57.8281,211.5156 Q57.8281,212.4375 58.2969,212.9688 Q58.7813,213.5 59.6094,213.5 Q60.4531,213.5 60.9219,212.9688 Q61.3906,212.4375 61.3906,211.5156 L61.3906,203.0781 L63.8438,203.0781 L63.8438,210.8906 Q63.8438,213.4219 62.8438,214.5625 Q61.8438,215.7031 59.6094,215.7031 Q57.3906,215.7031 56.375,214.5625 Q55.375,213.4219 55.375,210.8906 Z \"/><text fill=\"#000000\" font-family=\"sans-serif\" font-size=\"12\" font-style=\"italic\" lengthAdjust=\"spacingAndGlyphs\" textLength=\"91\" x=\"71.5\" y=\"206.1387\">«requirement»</text><text fill=\"#000000\" font-family=\"sans-serif\" font-size=\"12\" lengthAdjust=\"spacingAndGlyphs\" textLength=\"21\" x=\"106.5\" y=\"220.1074\">r: R</text><line style=\"stroke: #A80036; stroke-width: 1.5;\" x1=\"45.5\" x2=\"162.5\" y1=\"227.9375\" y2=\"227.9375\"/></a><!--MD5=[05d275557350bfb9b23a4ef7222b4c39]\n",
       "link E3 to E2--><a href=\"psysml:8b4534c8-c65f-4721-aa95-1aefa1ee4858\" target=\"_top\" title=\"psysml:8b4534c8-c65f-4721-aa95-1aefa1ee4858\" xlink:actuate=\"onRequest\" xlink:href=\"psysml:8b4534c8-c65f-4721-aa95-1aefa1ee4858\" xlink:show=\"new\" xlink:title=\"psysml:8b4534c8-c65f-4721-aa95-1aefa1ee4858\" xlink:type=\"simple\"><path d=\"M366.88,108.24 C365.26,125.24 362.98,149.19 361.02,169.79 \" fill=\"none\" id=\"E3-&gt;E2\" style=\"stroke: #A80036; stroke-width: 1.0;\"/><polygon fill=\"#FFFFFF\" points=\"359.1,189.99,353.9362,170.411,367.8729,171.7407,359.1,189.99\" style=\"stroke: #A80036; stroke-width: 1.0;\"/><ellipse cx=\"356.4685\" cy=\"164.9268\" fill=\"#A80036\" rx=\"2\" ry=\"2\" style=\"stroke: #A80036; stroke-width: 1.0;\"/><ellipse cx=\"366.4233\" cy=\"165.8765\" fill=\"#A80036\" rx=\"2\" ry=\"2\" style=\"stroke: #A80036; stroke-width: 1.0;\"/></a><!--MD5=[62aa6af11e70f752912c1cb0466f24f7]\n",
       "reverse link E4 to E5--><a href=\"psysml:5c4fbfc6-6feb-457a-9610-da755776e124\" target=\"_top\" title=\"psysml:5c4fbfc6-6feb-457a-9610-da755776e124\" xlink:actuate=\"onRequest\" xlink:href=\"psysml:5c4fbfc6-6feb-457a-9610-da755776e124\" xlink:show=\"new\" xlink:title=\"psysml:5c4fbfc6-6feb-457a-9610-da755776e124\" xlink:type=\"simple\"><path d=\"M104,437.45 C104,453.34 104,469.51 104,482.98 \" fill=\"none\" id=\"E4&lt;-E5\" style=\"stroke: #A80036; stroke-width: 1.0;\"/><ellipse cx=\"104\" cy=\"430.4\" fill=\"#FFFFFF\" rx=\"8\" ry=\"8\" style=\"stroke: #A80036; stroke-width: 1.0;\"/><line style=\"stroke: #A80036; stroke-width: 1.0;\" x1=\"104\" x2=\"104\" y1=\"438.4\" y2=\"422.4\"/><line style=\"stroke: #A80036; stroke-width: 1.0;\" x1=\"96\" x2=\"112\" y1=\"430.4\" y2=\"430.4\"/></a><!--MD5=[c6fc7cdb0cabde04948078cf183fa696]\n",
       "reverse link E4 to E8--><a href=\"psysml:577c6bec-7675-4e65-a136-10b226b9020a\" target=\"_top\" title=\"psysml:577c6bec-7675-4e65-a136-10b226b9020a\" xlink:actuate=\"onRequest\" xlink:href=\"psysml:577c6bec-7675-4e65-a136-10b226b9020a\" xlink:show=\"new\" xlink:title=\"psysml:577c6bec-7675-4e65-a136-10b226b9020a\" xlink:type=\"simple\"><path d=\"M174.75,431.16 C199.83,453.36 226.43,476.92 245.13,493.48 \" fill=\"none\" id=\"E4&lt;-E8\" style=\"stroke: #A80036; stroke-width: 1.0;\"/><polygon fill=\"#A80036\" points=\"164.87,422.4,166.7154,429.371,173.86,430.3486,172.0145,423.3776,164.87,422.4\" style=\"stroke: #A80036; stroke-width: 1.0;\"/></a><!--MD5=[062ed86c389d1a88f61c6380d0491e17]\n",
       "reverse link E12 to E13--><a href=\"psysml:b72900fb-e3ca-4439-ac22-acb3bf892de5\" target=\"_top\" title=\"psysml:b72900fb-e3ca-4439-ac22-acb3bf892de5\" xlink:actuate=\"onRequest\" xlink:href=\"psysml:b72900fb-e3ca-4439-ac22-acb3bf892de5\" xlink:show=\"new\" xlink:title=\"psysml:b72900fb-e3ca-4439-ac22-acb3bf892de5\" xlink:type=\"simple\"><path d=\"M76.49,120.8 C83.17,142.92 91.6,170.89 97.36,189.99 \" fill=\"none\" id=\"E12&lt;-E13\" style=\"stroke: #A80036; stroke-width: 1.0;\"/><polygon fill=\"#A80036\" points=\"72.71,108.24,70.6129,115.1394,76.1751,119.7288,78.2722,112.8294,72.71,108.24\" style=\"stroke: #A80036; stroke-width: 1.0;\"/></a><!--MD5=[017847e01ff9a8bd19f247411074f987]\n",
       "link E13 to E4--><a href=\"psysml:ed6e641a-605b-4ed9-9064-d41509e7ab16\" target=\"_top\" title=\"psysml:ed6e641a-605b-4ed9-9064-d41509e7ab16\" xlink:actuate=\"onRequest\" xlink:href=\"psysml:ed6e641a-605b-4ed9-9064-d41509e7ab16\" xlink:show=\"new\" xlink:title=\"psysml:ed6e641a-605b-4ed9-9064-d41509e7ab16\" xlink:type=\"simple\"><path d=\"M104,236.17 C104,251.17 104,271.91 104,292.44 \" fill=\"none\" id=\"E13-&gt;E4\" style=\"stroke: #A80036; stroke-width: 1.0;\"/><polygon fill=\"#FFFFFF\" points=\"104,312.68,97,293.68,111,293.68,104,312.68\" style=\"stroke: #A80036; stroke-width: 1.0;\"/><ellipse cx=\"99\" cy=\"287.98\" fill=\"#A80036\" rx=\"2\" ry=\"2\" style=\"stroke: #A80036; stroke-width: 1.0;\"/><ellipse cx=\"109\" cy=\"287.98\" fill=\"#A80036\" rx=\"2\" ry=\"2\" style=\"stroke: #A80036; stroke-width: 1.0;\"/></a><!--MD5=[2cfe899c895462254056921bfb67315f]\n",
       "link E13 to E11--><a href=\"psysml:11f1a2a5-a4e7-4875-8b16-7052fd317758\" target=\"_top\" title=\"psysml:11f1a2a5-a4e7-4875-8b16-7052fd317758\" xlink:actuate=\"onRequest\" xlink:href=\"psysml:11f1a2a5-a4e7-4875-8b16-7052fd317758\" xlink:show=\"new\" xlink:title=\"psysml:11f1a2a5-a4e7-4875-8b16-7052fd317758\" xlink:type=\"simple\"><path d=\"M124.5,236.17 C150.09,263.85 193.77,311.09 220.92,340.45 \" fill=\"none\" id=\"E13-&gt;E11\" style=\"stroke: #A80036; stroke-width: 1.0; stroke-dasharray: 7.0,7.0;\"/><polygon fill=\"#A80036\" points=\"224.47,344.3,221.2896,334.9788,221.0727,340.6315,215.42,340.4145,224.47,344.3\" style=\"stroke: #A80036; stroke-width: 1.0;\"/><text fill=\"#000000\" font-family=\"sans-serif\" font-size=\"13\" lengthAdjust=\"spacingAndGlyphs\" textLength=\"57\" x=\"167\" y=\"279.0669\">«satisfy»</text></a><!--MD5=[fbe3ee0deb9cec292f13998f53a87d82]\n",
       "@startuml\r\n",
       " \r\n",
       "package \"RequirementTest\" as E1  [[psysml:8aa028f5-1693-4b51-bff2-c94d0f18c930 ]]  {\r\n",
       "comp def \"C\" as E2  <<(D,brown)constraint def>> [[psysml:27c2a771-07cf-4bde-9591-6030a1a15742 ]] {\r\n",
       "}\r\n",
       "comp usage \"c: C\" as E3  <<(U,orange)constraint>> [[psysml:da02b217-f155-4220-a2dc-d840d0d24f86 ]] {\r\n",
       "}\r\n",
       "comp def \"R\" as E4  <<(D,brown)requirement def>> [[psysml:b9a9d178-6ba0-415d-80bd-8d7e5aacf32f ]] {\r\n",
       "\r\n",
       "- -\r\n",
       "- - constraints - -\r\n",
       "<b>require</b> c\r\n",
       "<i>assume</i> c1: C\r\n",
       "}\r\n",
       "comp def \" [<b>1</b>] A\" as E5  <<(D,brown)requirement def>> [[psysml:5c4fbfc6-6feb-457a-9610-da755776e124 ]] {\r\n",
       "Text\r\n",
       "- -\r\n",
       "}\r\n",
       "comp usage \"<s>noname</s>\" as E8  <<(U,orange)requirement>> [[psysml:577c6bec-7675-4e65-a136-10b226b9020a ]] {\r\n",
       "}\r\n",
       "comp def \"R1\" as E9  <<(D,brown)requirement def>> [[psysml:291c6c45-8332-45a6-809f-574961a49898 ]] {\r\n",
       "- - constraints - -\r\n",
       "<b>require</b> c1\\n//:>>RequirementTest::c// \r\n",
       "}\r\n",
       "comp usage \"p\" as E11  << (P,limegreen) part>> [[psysml:b7118396-8822-4234-af4f-531e34fd2b85 ]] {\r\n",
       "}\r\n",
       "comp usage \"q\" as E12  << (P,limegreen) part>> [[psysml:5710aa92-7822-41e6-89ae-9d2d61cb8bf3 ]] {\r\n",
       "}\r\n",
       "comp usage \"r: R\" as E13  <<(U,orange)requirement>> [[psysml:b72900fb-e3ca-4439-ac22-acb3bf892de5 ]] {\r\n",
       "}\r\n",
       "E3 - -:|> E2 [[psysml:8b4534c8-c65f-4721-aa95-1aefa1ee4858 ]] \r\n",
       "E4 +- - E5 [[psysml:5c4fbfc6-6feb-457a-9610-da755776e124 ]] \r\n",
       "E4 *- - E8 [[psysml:577c6bec-7675-4e65-a136-10b226b9020a ]] \r\n",
       "E12 *- - E13 [[psysml:b72900fb-e3ca-4439-ac22-acb3bf892de5 ]] \r\n",
       "E13 - -:|> E4 [[psysml:ed6e641a-605b-4ed9-9064-d41509e7ab16 ]] \r\n",
       "E13 ..> E11 [[psysml:11f1a2a5-a4e7-4875-8b16-7052fd317758 ]] : <<satisfy>>\r\n",
       "}\r\n",
       "@enduml\r\n",
       "\n",
       "PlantUML version 1.2020.13(Sat Jun 13 12:26:38 UTC 2020)\n",
       "(EPL source distribution)\n",
       "Java Runtime: OpenJDK Runtime Environment\n",
       "JVM: OpenJDK 64-Bit Server VM\n",
       "Default Encoding: UTF-8\n",
       "Language: en\n",
       "Country: null\n",
       "--></g></svg>"
      ]
     },
     "execution_count": 36,
     "metadata": {},
     "output_type": "execute_result"
    }
   ],
   "source": [
    "%viz --style=\"PLANTUML\" --view=\"MIXED\" \"RequirementTest\""
   ]
  },
  {
   "cell_type": "code",
   "execution_count": 37,
   "id": "spanish-burden",
   "metadata": {
    "execution": {
     "iopub.execute_input": "2021-03-26T09:12:29.930657Z",
     "iopub.status.busy": "2021-03-26T09:12:29.930307Z",
     "iopub.status.idle": "2021-03-26T09:12:30.014208Z",
     "shell.execute_reply": "2021-03-26T09:12:30.014571Z"
    }
   },
   "outputs": [
    {
     "data": {
      "image/svg+xml": [
       "<?xml version=\"1.0\" encoding=\"UTF-8\" standalone=\"no\"?><svg xmlns=\"http://www.w3.org/2000/svg\" xmlns:xlink=\"http://www.w3.org/1999/xlink\" contentScriptType=\"application/ecmascript\" contentStyleType=\"text/css\" height=\"578px\" preserveAspectRatio=\"none\" style=\"width:408px;height:578px;\" version=\"1.1\" viewBox=\"0 0 408 578\" width=\"408px\" zoomAndPan=\"magnify\"><defs/><g><!--MD5=[fbc87193dbaf4d95561dea2c320d4a47]\n",
       "cluster E1--><a href=\"psysml:8aa028f5-1693-4b51-bff2-c94d0f18c930\" target=\"_top\" title=\"psysml:8aa028f5-1693-4b51-bff2-c94d0f18c930\" xlink:actuate=\"onRequest\" xlink:href=\"psysml:8aa028f5-1693-4b51-bff2-c94d0f18c930\" xlink:show=\"new\" xlink:title=\"psysml:8aa028f5-1693-4b51-bff2-c94d0f18c930\" xlink:type=\"simple\"><polygon fill=\"#FFFFFF\" points=\"16,6,158,6,165,28.2969,386,28.2969,386,566,16,566,16,6\" style=\"stroke: #000000; stroke-width: 1.5;\"/><line style=\"stroke: #000000; stroke-width: 1.5;\" x1=\"16\" x2=\"165\" y1=\"28.2969\" y2=\"28.2969\"/><text fill=\"#000000\" font-family=\"sans-serif\" font-size=\"14\" font-weight=\"bold\" lengthAdjust=\"spacingAndGlyphs\" textLength=\"136\" x=\"20\" y=\"20.9951\">RequirementTest</text></a><!--MD5=[b4997ac47864f28c2f74865a473b2911]\n",
       "class E2--><a href=\"psysml:27c2a771-07cf-4bde-9591-6030a1a15742\" target=\"_top\" title=\"psysml:27c2a771-07cf-4bde-9591-6030a1a15742\" xlink:actuate=\"onRequest\" xlink:href=\"psysml:27c2a771-07cf-4bde-9591-6030a1a15742\" xlink:show=\"new\" xlink:title=\"psysml:27c2a771-07cf-4bde-9591-6030a1a15742\" xlink:type=\"simple\"><rect fill=\"#FFFFFF\" height=\"45.9375\" id=\"E2\" style=\"stroke: #383838; stroke-width: 1.5;\" width=\"104\" x=\"266\" y=\"190\"/><text fill=\"#000000\" font-family=\"sans-serif\" font-size=\"12\" font-style=\"italic\" lengthAdjust=\"spacingAndGlyphs\" textLength=\"102\" x=\"267\" y=\"206.1387\">«constraint def»</text><text fill=\"#000000\" font-family=\"sans-serif\" font-size=\"12\" lengthAdjust=\"spacingAndGlyphs\" textLength=\"8\" x=\"314\" y=\"220.1074\">C</text><line style=\"stroke: #383838; stroke-width: 1.5;\" x1=\"267\" x2=\"369\" y1=\"227.9375\" y2=\"227.9375\"/></a><!--MD5=[09b614a08d8cba4a07c9adeb5e0fee81]\n",
       "class E3--><a href=\"psysml:da02b217-f155-4220-a2dc-d840d0d24f86\" target=\"_top\" title=\"psysml:da02b217-f155-4220-a2dc-d840d0d24f86\" xlink:actuate=\"onRequest\" xlink:href=\"psysml:da02b217-f155-4220-a2dc-d840d0d24f86\" xlink:show=\"new\" xlink:title=\"psysml:da02b217-f155-4220-a2dc-d840d0d24f86\" xlink:type=\"simple\"><rect fill=\"#FFFFFF\" height=\"45.9375\" id=\"E3\" rx=\"10\" ry=\"10\" style=\"stroke: #383838; stroke-width: 1.5;\" width=\"80\" x=\"290\" y=\"62\"/><text fill=\"#000000\" font-family=\"sans-serif\" font-size=\"12\" font-style=\"italic\" lengthAdjust=\"spacingAndGlyphs\" textLength=\"78\" x=\"291\" y=\"78.1387\">«constraint»</text><text fill=\"#000000\" font-family=\"sans-serif\" font-size=\"12\" lengthAdjust=\"spacingAndGlyphs\" textLength=\"23\" x=\"318.5\" y=\"92.1074\">c: C</text><line style=\"stroke: #383838; stroke-width: 1.5;\" x1=\"291\" x2=\"369\" y1=\"99.9375\" y2=\"99.9375\"/></a><!--MD5=[ebbe1d658d1005bcc118a6aa81145e00]\n",
       "class E4--><a href=\"psysml:b9a9d178-6ba0-415d-80bd-8d7e5aacf32f\" target=\"_top\" title=\"psysml:b9a9d178-6ba0-415d-80bd-8d7e5aacf32f\" xlink:actuate=\"onRequest\" xlink:href=\"psysml:b9a9d178-6ba0-415d-80bd-8d7e5aacf32f\" xlink:show=\"new\" xlink:title=\"psysml:b9a9d178-6ba0-415d-80bd-8d7e5aacf32f\" xlink:type=\"simple\"><rect fill=\"#FFFFFF\" height=\"109.1563\" id=\"E4\" style=\"stroke: #383838; stroke-width: 1.5;\" width=\"117\" x=\"32.5\" y=\"313\"/><text fill=\"#000000\" font-family=\"sans-serif\" font-size=\"12\" font-style=\"italic\" lengthAdjust=\"spacingAndGlyphs\" textLength=\"115\" x=\"33.5\" y=\"329.1387\">«requirement def»</text><text fill=\"#000000\" font-family=\"sans-serif\" font-size=\"12\" lengthAdjust=\"spacingAndGlyphs\" textLength=\"8\" x=\"87\" y=\"343.1074\">R</text><line style=\"stroke: #383838; stroke-width: 1.5;\" x1=\"33.5\" x2=\"148.5\" y1=\"350.9375\" y2=\"350.9375\"/><text fill=\"#000000\" font-family=\"sans-serif\" font-size=\"11\" lengthAdjust=\"spacingAndGlyphs\" textLength=\"0\" x=\"42.5\" y=\"365.1479\"/><line style=\"stroke: #383838; stroke-width: 1.0;\" x1=\"33.5\" x2=\"148.5\" y1=\"371.7422\" y2=\"371.7422\"/><text fill=\"#000000\" font-family=\"sans-serif\" font-size=\"11\" font-weight=\"bold\" lengthAdjust=\"spacingAndGlyphs\" textLength=\"46\" x=\"38.5\" y=\"402.7573\">require</text><text fill=\"#000000\" font-family=\"sans-serif\" font-size=\"11\" lengthAdjust=\"spacingAndGlyphs\" textLength=\"6\" x=\"88.5\" y=\"402.7573\">c</text><text fill=\"#000000\" font-family=\"sans-serif\" font-size=\"11\" font-style=\"italic\" lengthAdjust=\"spacingAndGlyphs\" textLength=\"46\" x=\"38.5\" y=\"415.562\">assume</text><text fill=\"#000000\" font-family=\"sans-serif\" font-size=\"11\" lengthAdjust=\"spacingAndGlyphs\" textLength=\"29\" x=\"88.5\" y=\"415.562\">c1: C</text><line style=\"stroke: #383838; stroke-width: 1.0;\" x1=\"33.5\" x2=\"59\" y1=\"386.1445\" y2=\"386.1445\"/><text fill=\"#000000\" font-family=\"sans-serif\" font-size=\"11\" lengthAdjust=\"spacingAndGlyphs\" textLength=\"64\" x=\"59\" y=\"389.4526\">constraints</text><line style=\"stroke: #383838; stroke-width: 1.0;\" x1=\"123\" x2=\"148.5\" y1=\"386.1445\" y2=\"386.1445\"/></a><!--MD5=[270fce915f116d4de14055a7c1d9a0f3]\n",
       "class E5--><a href=\"psysml:5c4fbfc6-6feb-457a-9610-da755776e124\" target=\"_top\" title=\"psysml:5c4fbfc6-6feb-457a-9610-da755776e124\" xlink:actuate=\"onRequest\" xlink:href=\"psysml:5c4fbfc6-6feb-457a-9610-da755776e124\" xlink:show=\"new\" xlink:title=\"psysml:5c4fbfc6-6feb-457a-9610-da755776e124\" xlink:type=\"simple\"><rect fill=\"#FFFFFF\" height=\"66.7422\" id=\"E5\" style=\"stroke: #383838; stroke-width: 1.5;\" width=\"117\" x=\"32.5\" y=\"483\"/><text fill=\"#000000\" font-family=\"sans-serif\" font-size=\"12\" font-style=\"italic\" lengthAdjust=\"spacingAndGlyphs\" textLength=\"115\" x=\"33.5\" y=\"499.1387\">«requirement def»</text><text fill=\"#000000\" font-family=\"sans-serif\" font-size=\"12\" lengthAdjust=\"spacingAndGlyphs\" textLength=\"5\" x=\"78\" y=\"513.1074\">[</text><text fill=\"#000000\" font-family=\"sans-serif\" font-size=\"12\" font-weight=\"bold\" lengthAdjust=\"spacingAndGlyphs\" textLength=\"8\" x=\"83\" y=\"513.1074\">1</text><text fill=\"#000000\" font-family=\"sans-serif\" font-size=\"12\" lengthAdjust=\"spacingAndGlyphs\" textLength=\"17\" x=\"91\" y=\"513.1074\">] A</text><line style=\"stroke: #383838; stroke-width: 1.5;\" x1=\"33.5\" x2=\"148.5\" y1=\"520.9375\" y2=\"520.9375\"/><text fill=\"#000000\" font-family=\"sans-serif\" font-size=\"11\" lengthAdjust=\"spacingAndGlyphs\" textLength=\"24\" x=\"38.5\" y=\"535.1479\">Text</text><line style=\"stroke: #383838; stroke-width: 1.0;\" x1=\"33.5\" x2=\"148.5\" y1=\"541.7422\" y2=\"541.7422\"/></a><!--MD5=[b9389687b975829384b498ac4b7476b2]\n",
       "class E8--><a href=\"psysml:577c6bec-7675-4e65-a136-10b226b9020a\" target=\"_top\" title=\"psysml:577c6bec-7675-4e65-a136-10b226b9020a\" xlink:actuate=\"onRequest\" xlink:href=\"psysml:577c6bec-7675-4e65-a136-10b226b9020a\" xlink:show=\"new\" xlink:title=\"psysml:577c6bec-7675-4e65-a136-10b226b9020a\" xlink:type=\"simple\"><rect fill=\"#FFFFFF\" height=\"45.9375\" id=\"E8\" rx=\"10\" ry=\"10\" style=\"stroke: #383838; stroke-width: 1.5;\" width=\"93\" x=\"184.5\" y=\"493.5\"/><text fill=\"#000000\" font-family=\"sans-serif\" font-size=\"12\" font-style=\"italic\" lengthAdjust=\"spacingAndGlyphs\" textLength=\"91\" x=\"185.5\" y=\"509.6387\">«requirement»</text><text fill=\"#000000\" font-family=\"sans-serif\" font-size=\"12\" lengthAdjust=\"spacingAndGlyphs\" text-decoration=\"line-through\" textLength=\"51\" x=\"205.5\" y=\"523.6074\">noname</text><line style=\"stroke: #383838; stroke-width: 1.5;\" x1=\"185.5\" x2=\"276.5\" y1=\"531.4375\" y2=\"531.4375\"/></a><!--MD5=[fd4143e9d270a159db93a4ea2a975926]\n",
       "class E9--><a href=\"psysml:291c6c45-8332-45a6-809f-574961a49898\" target=\"_top\" title=\"psysml:291c6c45-8332-45a6-809f-574961a49898\" xlink:actuate=\"onRequest\" xlink:href=\"psysml:291c6c45-8332-45a6-809f-574961a49898\" xlink:show=\"new\" xlink:title=\"psysml:291c6c45-8332-45a6-809f-574961a49898\" xlink:type=\"simple\"><rect fill=\"#FFFFFF\" height=\"88.3516\" id=\"E9\" style=\"stroke: #383838; stroke-width: 1.5;\" width=\"145\" x=\"109.5\" y=\"41\"/><text fill=\"#000000\" font-family=\"sans-serif\" font-size=\"12\" font-style=\"italic\" lengthAdjust=\"spacingAndGlyphs\" textLength=\"115\" x=\"124.5\" y=\"57.1387\">«requirement def»</text><text fill=\"#000000\" font-family=\"sans-serif\" font-size=\"12\" lengthAdjust=\"spacingAndGlyphs\" textLength=\"16\" x=\"174\" y=\"71.1074\">R1</text><line style=\"stroke: #383838; stroke-width: 1.5;\" x1=\"110.5\" x2=\"253.5\" y1=\"78.9375\" y2=\"78.9375\"/><text fill=\"#000000\" font-family=\"sans-serif\" font-size=\"11\" font-weight=\"bold\" lengthAdjust=\"spacingAndGlyphs\" textLength=\"46\" x=\"115.5\" y=\"109.9526\">require</text><text fill=\"#000000\" font-family=\"sans-serif\" font-size=\"11\" lengthAdjust=\"spacingAndGlyphs\" textLength=\"13\" x=\"165.5\" y=\"109.9526\">c1</text><text fill=\"#000000\" font-family=\"sans-serif\" font-size=\"11\" font-style=\"italic\" lengthAdjust=\"spacingAndGlyphs\" textLength=\"133\" x=\"115.5\" y=\"122.7573\">:&gt;&gt;RequirementTest::c</text><line style=\"stroke: #383838; stroke-width: 1.0;\" x1=\"110.5\" x2=\"150\" y1=\"93.3398\" y2=\"93.3398\"/><text fill=\"#000000\" font-family=\"sans-serif\" font-size=\"11\" lengthAdjust=\"spacingAndGlyphs\" textLength=\"64\" x=\"150\" y=\"96.6479\">constraints</text><line style=\"stroke: #383838; stroke-width: 1.0;\" x1=\"214\" x2=\"253.5\" y1=\"93.3398\" y2=\"93.3398\"/></a><!--MD5=[1dd1bfd58a279cf63c5f349dbc8fc6a1]\n",
       "class E11--><a href=\"psysml:b7118396-8822-4234-af4f-531e34fd2b85\" target=\"_top\" title=\"psysml:b7118396-8822-4234-af4f-531e34fd2b85\" xlink:actuate=\"onRequest\" xlink:href=\"psysml:b7118396-8822-4234-af4f-531e34fd2b85\" xlink:show=\"new\" xlink:title=\"psysml:b7118396-8822-4234-af4f-531e34fd2b85\" xlink:type=\"simple\"><rect fill=\"#FFFFFF\" height=\"45.9375\" id=\"E11\" rx=\"10\" ry=\"10\" style=\"stroke: #383838; stroke-width: 1.5;\" width=\"42\" x=\"185\" y=\"344.5\"/><text fill=\"#000000\" font-family=\"sans-serif\" font-size=\"12\" font-style=\"italic\" lengthAdjust=\"spacingAndGlyphs\" textLength=\"40\" x=\"186\" y=\"360.6387\">«part»</text><text fill=\"#000000\" font-family=\"sans-serif\" font-size=\"12\" lengthAdjust=\"spacingAndGlyphs\" textLength=\"8\" x=\"202\" y=\"374.6074\">p</text><line style=\"stroke: #383838; stroke-width: 1.5;\" x1=\"186\" x2=\"226\" y1=\"382.4375\" y2=\"382.4375\"/></a><!--MD5=[49a0ec8f00dab7302a31f22d0f0fe584]\n",
       "class E12--><a href=\"psysml:5710aa92-7822-41e6-89ae-9d2d61cb8bf3\" target=\"_top\" title=\"psysml:5710aa92-7822-41e6-89ae-9d2d61cb8bf3\" xlink:actuate=\"onRequest\" xlink:href=\"psysml:5710aa92-7822-41e6-89ae-9d2d61cb8bf3\" xlink:show=\"new\" xlink:title=\"psysml:5710aa92-7822-41e6-89ae-9d2d61cb8bf3\" xlink:type=\"simple\"><rect fill=\"#FFFFFF\" height=\"45.9375\" id=\"E12\" rx=\"10\" ry=\"10\" style=\"stroke: #383838; stroke-width: 1.5;\" width=\"42\" x=\"32\" y=\"62\"/><text fill=\"#000000\" font-family=\"sans-serif\" font-size=\"12\" font-style=\"italic\" lengthAdjust=\"spacingAndGlyphs\" textLength=\"40\" x=\"33\" y=\"78.1387\">«part»</text><text fill=\"#000000\" font-family=\"sans-serif\" font-size=\"12\" lengthAdjust=\"spacingAndGlyphs\" textLength=\"8\" x=\"49\" y=\"92.1074\">q</text><line style=\"stroke: #383838; stroke-width: 1.5;\" x1=\"33\" x2=\"73\" y1=\"99.9375\" y2=\"99.9375\"/></a><!--MD5=[ee3c913d1a06f366521f9ef512b67efe]\n",
       "class E13--><a href=\"psysml:b72900fb-e3ca-4439-ac22-acb3bf892de5\" target=\"_top\" title=\"psysml:b72900fb-e3ca-4439-ac22-acb3bf892de5\" xlink:actuate=\"onRequest\" xlink:href=\"psysml:b72900fb-e3ca-4439-ac22-acb3bf892de5\" xlink:show=\"new\" xlink:title=\"psysml:b72900fb-e3ca-4439-ac22-acb3bf892de5\" xlink:type=\"simple\"><rect fill=\"#FFFFFF\" height=\"45.9375\" id=\"E13\" rx=\"10\" ry=\"10\" style=\"stroke: #383838; stroke-width: 1.5;\" width=\"93\" x=\"44.5\" y=\"190\"/><text fill=\"#000000\" font-family=\"sans-serif\" font-size=\"12\" font-style=\"italic\" lengthAdjust=\"spacingAndGlyphs\" textLength=\"91\" x=\"45.5\" y=\"206.1387\">«requirement»</text><text fill=\"#000000\" font-family=\"sans-serif\" font-size=\"12\" lengthAdjust=\"spacingAndGlyphs\" textLength=\"21\" x=\"80.5\" y=\"220.1074\">r: R</text><line style=\"stroke: #383838; stroke-width: 1.5;\" x1=\"45.5\" x2=\"136.5\" y1=\"227.9375\" y2=\"227.9375\"/></a><!--MD5=[05d275557350bfb9b23a4ef7222b4c39]\n",
       "link E3 to E2--><a href=\"psysml:8b4534c8-c65f-4721-aa95-1aefa1ee4858\" target=\"_top\" title=\"psysml:8b4534c8-c65f-4721-aa95-1aefa1ee4858\" xlink:actuate=\"onRequest\" xlink:href=\"psysml:8b4534c8-c65f-4721-aa95-1aefa1ee4858\" xlink:show=\"new\" xlink:title=\"psysml:8b4534c8-c65f-4721-aa95-1aefa1ee4858\" xlink:type=\"simple\"><path d=\"M327.88,108.24 C326.26,125.24 323.98,149.19 322.02,169.79 \" fill=\"none\" id=\"E3-&gt;E2\" style=\"stroke: #383838; stroke-width: 1.0;\"/><polygon fill=\"#FFFFFF\" points=\"320.1,189.99,314.9362,170.411,328.8729,171.7407,320.1,189.99\" style=\"stroke: #383838; stroke-width: 1.0;\"/><ellipse cx=\"317.4685\" cy=\"164.9268\" fill=\"#383838\" rx=\"2\" ry=\"2\" style=\"stroke: #383838; stroke-width: 1.0;\"/><ellipse cx=\"327.4233\" cy=\"165.8765\" fill=\"#383838\" rx=\"2\" ry=\"2\" style=\"stroke: #383838; stroke-width: 1.0;\"/></a><!--MD5=[62aa6af11e70f752912c1cb0466f24f7]\n",
       "reverse link E4 to E5--><a href=\"psysml:5c4fbfc6-6feb-457a-9610-da755776e124\" target=\"_top\" title=\"psysml:5c4fbfc6-6feb-457a-9610-da755776e124\" xlink:actuate=\"onRequest\" xlink:href=\"psysml:5c4fbfc6-6feb-457a-9610-da755776e124\" xlink:show=\"new\" xlink:title=\"psysml:5c4fbfc6-6feb-457a-9610-da755776e124\" xlink:type=\"simple\"><path d=\"M91,437.45 C91,453.34 91,469.51 91,482.98 \" fill=\"none\" id=\"E4&lt;-E5\" style=\"stroke: #383838; stroke-width: 1.0;\"/><ellipse cx=\"91\" cy=\"430.4\" fill=\"#FFFFFF\" rx=\"8\" ry=\"8\" style=\"stroke: #383838; stroke-width: 1.0;\"/><line style=\"stroke: #383838; stroke-width: 1.0;\" x1=\"91\" x2=\"91\" y1=\"438.4\" y2=\"422.4\"/><line style=\"stroke: #383838; stroke-width: 1.0;\" x1=\"83\" x2=\"99\" y1=\"430.4\" y2=\"430.4\"/></a><!--MD5=[c6fc7cdb0cabde04948078cf183fa696]\n",
       "reverse link E4 to E8--><a href=\"psysml:577c6bec-7675-4e65-a136-10b226b9020a\" target=\"_top\" title=\"psysml:577c6bec-7675-4e65-a136-10b226b9020a\" xlink:actuate=\"onRequest\" xlink:href=\"psysml:577c6bec-7675-4e65-a136-10b226b9020a\" xlink:show=\"new\" xlink:title=\"psysml:577c6bec-7675-4e65-a136-10b226b9020a\" xlink:type=\"simple\"><path d=\"M151.51,432.04 C172.42,453.99 194.47,477.14 210.03,493.48 \" fill=\"none\" id=\"E4&lt;-E8\" style=\"stroke: #383838; stroke-width: 1.0;\"/><polygon fill=\"#383838\" points=\"142.34,422.4,143.5779,429.5041,150.6116,431.0937,149.3737,423.9897,142.34,422.4\" style=\"stroke: #383838; stroke-width: 1.0;\"/></a><!--MD5=[062ed86c389d1a88f61c6380d0491e17]\n",
       "reverse link E12 to E13--><a href=\"psysml:b72900fb-e3ca-4439-ac22-acb3bf892de5\" target=\"_top\" title=\"psysml:b72900fb-e3ca-4439-ac22-acb3bf892de5\" xlink:actuate=\"onRequest\" xlink:href=\"psysml:b72900fb-e3ca-4439-ac22-acb3bf892de5\" xlink:show=\"new\" xlink:title=\"psysml:b72900fb-e3ca-4439-ac22-acb3bf892de5\" xlink:type=\"simple\"><path d=\"M63.49,120.8 C70.17,142.92 78.6,170.89 84.36,189.99 \" fill=\"none\" id=\"E12&lt;-E13\" style=\"stroke: #383838; stroke-width: 1.0;\"/><polygon fill=\"#383838\" points=\"59.71,108.24,57.6129,115.1394,63.1751,119.7288,65.2722,112.8294,59.71,108.24\" style=\"stroke: #383838; stroke-width: 1.0;\"/></a><!--MD5=[017847e01ff9a8bd19f247411074f987]\n",
       "link E13 to E4--><a href=\"psysml:ed6e641a-605b-4ed9-9064-d41509e7ab16\" target=\"_top\" title=\"psysml:ed6e641a-605b-4ed9-9064-d41509e7ab16\" xlink:actuate=\"onRequest\" xlink:href=\"psysml:ed6e641a-605b-4ed9-9064-d41509e7ab16\" xlink:show=\"new\" xlink:title=\"psysml:ed6e641a-605b-4ed9-9064-d41509e7ab16\" xlink:type=\"simple\"><path d=\"M91,236.17 C91,251.17 91,271.91 91,292.44 \" fill=\"none\" id=\"E13-&gt;E4\" style=\"stroke: #383838; stroke-width: 1.0;\"/><polygon fill=\"#FFFFFF\" points=\"91,312.68,84,293.68,98,293.68,91,312.68\" style=\"stroke: #383838; stroke-width: 1.0;\"/><ellipse cx=\"86\" cy=\"287.98\" fill=\"#383838\" rx=\"2\" ry=\"2\" style=\"stroke: #383838; stroke-width: 1.0;\"/><ellipse cx=\"96\" cy=\"287.98\" fill=\"#383838\" rx=\"2\" ry=\"2\" style=\"stroke: #383838; stroke-width: 1.0;\"/></a><!--MD5=[2cfe899c895462254056921bfb67315f]\n",
       "link E13 to E11--><a href=\"psysml:11f1a2a5-a4e7-4875-8b16-7052fd317758\" target=\"_top\" title=\"psysml:11f1a2a5-a4e7-4875-8b16-7052fd317758\" xlink:actuate=\"onRequest\" xlink:href=\"psysml:11f1a2a5-a4e7-4875-8b16-7052fd317758\" xlink:show=\"new\" xlink:title=\"psysml:11f1a2a5-a4e7-4875-8b16-7052fd317758\" xlink:type=\"simple\"><path d=\"M108.36,236.29 C123.87,256.28 147.14,286.45 167,313 C173.57,321.78 180.66,331.44 186.97,340.12 \" fill=\"none\" id=\"E13-&gt;E11\" style=\"stroke: #383838; stroke-width: 1.0; stroke-dasharray: 7.0,7.0;\"/><polygon fill=\"#383838\" points=\"189.99,344.28,187.9274,334.6496,187.0474,340.2376,181.4594,339.3576,189.99,344.28\" style=\"stroke: #383838; stroke-width: 1.0;\"/><text fill=\"#000000\" font-family=\"sans-serif\" font-size=\"13\" lengthAdjust=\"spacingAndGlyphs\" textLength=\"57\" x=\"145\" y=\"279.0669\">«satisfy»</text></a><!--MD5=[498aefe384e998bec6bcdf8920d301de]\n",
       "@startuml\r\n",
       "skinparam monochrome true\r\n",
       "skinparam classbackgroundcolor white\r\n",
       "skinparam shadowing false\r\n",
       "skinparam wrapWidth 300\r\n",
       "hide circle\r\n",
       "\r\n",
       "package \"RequirementTest\" as E1  [[psysml:8aa028f5-1693-4b51-bff2-c94d0f18c930 ]]  {\r\n",
       "comp def \"C\" as E2  <<(T,blue)constraint def>> [[psysml:27c2a771-07cf-4bde-9591-6030a1a15742 ]] {\r\n",
       "}\r\n",
       "comp usage \"c: C\" as E3  <<(T,blue)constraint>> [[psysml:da02b217-f155-4220-a2dc-d840d0d24f86 ]] {\r\n",
       "}\r\n",
       "comp def \"R\" as E4  <<(T,blue)requirement def>> [[psysml:b9a9d178-6ba0-415d-80bd-8d7e5aacf32f ]] {\r\n",
       "\r\n",
       "- -\r\n",
       "- - constraints - -\r\n",
       "<b>require</b> c\r\n",
       "<i>assume</i> c1: C\r\n",
       "}\r\n",
       "comp def \" [<b>1</b>] A\" as E5  <<(T,blue)requirement def>> [[psysml:5c4fbfc6-6feb-457a-9610-da755776e124 ]] {\r\n",
       "Text\r\n",
       "- -\r\n",
       "}\r\n",
       "comp usage \"<s>noname</s>\" as E8  <<(T,blue)requirement>> [[psysml:577c6bec-7675-4e65-a136-10b226b9020a ]] {\r\n",
       "}\r\n",
       "comp def \"R1\" as E9  <<(T,blue)requirement def>> [[psysml:291c6c45-8332-45a6-809f-574961a49898 ]] {\r\n",
       "- - constraints - -\r\n",
       "<b>require</b> c1\\n//:>>RequirementTest::c// \r\n",
       "}\r\n",
       "comp usage \"p\" as E11  <<(T,blue)part>> [[psysml:b7118396-8822-4234-af4f-531e34fd2b85 ]] {\r\n",
       "}\r\n",
       "comp usage \"q\" as E12  <<(T,blue)part>> [[psysml:5710aa92-7822-41e6-89ae-9d2d61cb8bf3 ]] {\r\n",
       "}\r\n",
       "comp usage \"r: R\" as E13  <<(T,blue)requirement>> [[psysml:b72900fb-e3ca-4439-ac22-acb3bf892de5 ]] {\r\n",
       "}\r\n",
       "E3 - -:|> E2 [[psysml:8b4534c8-c65f-4721-aa95-1aefa1ee4858 ]] \r\n",
       "E4 +- - E5 [[psysml:5c4fbfc6-6feb-457a-9610-da755776e124 ]] \r\n",
       "E4 *- - E8 [[psysml:577c6bec-7675-4e65-a136-10b226b9020a ]] \r\n",
       "E12 *- - E13 [[psysml:b72900fb-e3ca-4439-ac22-acb3bf892de5 ]] \r\n",
       "E13 - -:|> E4 [[psysml:ed6e641a-605b-4ed9-9064-d41509e7ab16 ]] \r\n",
       "E13 ..> E11 [[psysml:11f1a2a5-a4e7-4875-8b16-7052fd317758 ]] : <<satisfy>>\r\n",
       "}\r\n",
       "@enduml\r\n",
       "\n",
       "PlantUML version 1.2020.13(Sat Jun 13 12:26:38 UTC 2020)\n",
       "(EPL source distribution)\n",
       "Java Runtime: OpenJDK Runtime Environment\n",
       "JVM: OpenJDK 64-Bit Server VM\n",
       "Default Encoding: UTF-8\n",
       "Language: en\n",
       "Country: null\n",
       "--></g></svg>"
      ]
     },
     "execution_count": 37,
     "metadata": {},
     "output_type": "execute_result"
    }
   ],
   "source": [
    "%viz --style=\"DEFAULT\" --view=\"Default\" \"RequirementTest\""
   ]
  },
  {
   "cell_type": "code",
   "execution_count": 38,
   "id": "plastic-violin",
   "metadata": {
    "execution": {
     "iopub.execute_input": "2021-03-26T09:12:30.064327Z",
     "iopub.status.busy": "2021-03-26T09:12:30.064004Z",
     "iopub.status.idle": "2021-03-26T09:12:30.145907Z",
     "shell.execute_reply": "2021-03-26T09:12:30.145124Z"
    }
   },
   "outputs": [
    {
     "data": {
      "image/svg+xml": [
       "<?xml version=\"1.0\" encoding=\"UTF-8\" standalone=\"no\"?><svg xmlns=\"http://www.w3.org/2000/svg\" xmlns:xlink=\"http://www.w3.org/1999/xlink\" contentScriptType=\"application/ecmascript\" contentStyleType=\"text/css\" height=\"578px\" preserveAspectRatio=\"none\" style=\"width:408px;height:578px;\" version=\"1.1\" viewBox=\"0 0 408 578\" width=\"408px\" zoomAndPan=\"magnify\"><defs/><g><!--MD5=[fbc87193dbaf4d95561dea2c320d4a47]\n",
       "cluster E1--><a href=\"psysml:8aa028f5-1693-4b51-bff2-c94d0f18c930\" target=\"_top\" title=\"psysml:8aa028f5-1693-4b51-bff2-c94d0f18c930\" xlink:actuate=\"onRequest\" xlink:href=\"psysml:8aa028f5-1693-4b51-bff2-c94d0f18c930\" xlink:show=\"new\" xlink:title=\"psysml:8aa028f5-1693-4b51-bff2-c94d0f18c930\" xlink:type=\"simple\"><polygon fill=\"#FFFFFF\" points=\"16,6,158,6,165,28.2969,386,28.2969,386,566,16,566,16,6\" style=\"stroke: #000000; stroke-width: 1.5;\"/><line style=\"stroke: #000000; stroke-width: 1.5;\" x1=\"16\" x2=\"165\" y1=\"28.2969\" y2=\"28.2969\"/><text fill=\"#000000\" font-family=\"sans-serif\" font-size=\"14\" font-weight=\"bold\" lengthAdjust=\"spacingAndGlyphs\" textLength=\"136\" x=\"20\" y=\"20.9951\">RequirementTest</text></a><!--MD5=[b4997ac47864f28c2f74865a473b2911]\n",
       "class E2--><a href=\"psysml:27c2a771-07cf-4bde-9591-6030a1a15742\" target=\"_top\" title=\"psysml:27c2a771-07cf-4bde-9591-6030a1a15742\" xlink:actuate=\"onRequest\" xlink:href=\"psysml:27c2a771-07cf-4bde-9591-6030a1a15742\" xlink:show=\"new\" xlink:title=\"psysml:27c2a771-07cf-4bde-9591-6030a1a15742\" xlink:type=\"simple\"><rect fill=\"#FFFFFF\" height=\"45.9375\" id=\"E2\" style=\"stroke: #383838; stroke-width: 1.5;\" width=\"104\" x=\"266\" y=\"190\"/><text fill=\"#000000\" font-family=\"sans-serif\" font-size=\"12\" font-style=\"italic\" lengthAdjust=\"spacingAndGlyphs\" textLength=\"102\" x=\"267\" y=\"206.1387\">«constraint def»</text><text fill=\"#000000\" font-family=\"sans-serif\" font-size=\"12\" lengthAdjust=\"spacingAndGlyphs\" textLength=\"8\" x=\"314\" y=\"220.1074\">C</text><line style=\"stroke: #383838; stroke-width: 1.5;\" x1=\"267\" x2=\"369\" y1=\"227.9375\" y2=\"227.9375\"/></a><!--MD5=[09b614a08d8cba4a07c9adeb5e0fee81]\n",
       "class E3--><a href=\"psysml:da02b217-f155-4220-a2dc-d840d0d24f86\" target=\"_top\" title=\"psysml:da02b217-f155-4220-a2dc-d840d0d24f86\" xlink:actuate=\"onRequest\" xlink:href=\"psysml:da02b217-f155-4220-a2dc-d840d0d24f86\" xlink:show=\"new\" xlink:title=\"psysml:da02b217-f155-4220-a2dc-d840d0d24f86\" xlink:type=\"simple\"><rect fill=\"#FFFFFF\" height=\"45.9375\" id=\"E3\" rx=\"10\" ry=\"10\" style=\"stroke: #383838; stroke-width: 1.5;\" width=\"80\" x=\"290\" y=\"62\"/><text fill=\"#000000\" font-family=\"sans-serif\" font-size=\"12\" font-style=\"italic\" lengthAdjust=\"spacingAndGlyphs\" textLength=\"78\" x=\"291\" y=\"78.1387\">«constraint»</text><text fill=\"#000000\" font-family=\"sans-serif\" font-size=\"12\" lengthAdjust=\"spacingAndGlyphs\" textLength=\"23\" x=\"318.5\" y=\"92.1074\">c: C</text><line style=\"stroke: #383838; stroke-width: 1.5;\" x1=\"291\" x2=\"369\" y1=\"99.9375\" y2=\"99.9375\"/></a><!--MD5=[ebbe1d658d1005bcc118a6aa81145e00]\n",
       "class E4--><a href=\"psysml:b9a9d178-6ba0-415d-80bd-8d7e5aacf32f\" target=\"_top\" title=\"psysml:b9a9d178-6ba0-415d-80bd-8d7e5aacf32f\" xlink:actuate=\"onRequest\" xlink:href=\"psysml:b9a9d178-6ba0-415d-80bd-8d7e5aacf32f\" xlink:show=\"new\" xlink:title=\"psysml:b9a9d178-6ba0-415d-80bd-8d7e5aacf32f\" xlink:type=\"simple\"><rect fill=\"#FFFFFF\" height=\"109.1563\" id=\"E4\" style=\"stroke: #383838; stroke-width: 1.5;\" width=\"117\" x=\"32.5\" y=\"313\"/><text fill=\"#000000\" font-family=\"sans-serif\" font-size=\"12\" font-style=\"italic\" lengthAdjust=\"spacingAndGlyphs\" textLength=\"115\" x=\"33.5\" y=\"329.1387\">«requirement def»</text><text fill=\"#000000\" font-family=\"sans-serif\" font-size=\"12\" lengthAdjust=\"spacingAndGlyphs\" textLength=\"8\" x=\"87\" y=\"343.1074\">R</text><line style=\"stroke: #383838; stroke-width: 1.5;\" x1=\"33.5\" x2=\"148.5\" y1=\"350.9375\" y2=\"350.9375\"/><text fill=\"#000000\" font-family=\"sans-serif\" font-size=\"11\" lengthAdjust=\"spacingAndGlyphs\" textLength=\"0\" x=\"42.5\" y=\"365.1479\"/><line style=\"stroke: #383838; stroke-width: 1.0;\" x1=\"33.5\" x2=\"148.5\" y1=\"371.7422\" y2=\"371.7422\"/><text fill=\"#000000\" font-family=\"sans-serif\" font-size=\"11\" font-weight=\"bold\" lengthAdjust=\"spacingAndGlyphs\" textLength=\"46\" x=\"38.5\" y=\"402.7573\">require</text><text fill=\"#000000\" font-family=\"sans-serif\" font-size=\"11\" lengthAdjust=\"spacingAndGlyphs\" textLength=\"6\" x=\"88.5\" y=\"402.7573\">c</text><text fill=\"#000000\" font-family=\"sans-serif\" font-size=\"11\" font-style=\"italic\" lengthAdjust=\"spacingAndGlyphs\" textLength=\"46\" x=\"38.5\" y=\"415.562\">assume</text><text fill=\"#000000\" font-family=\"sans-serif\" font-size=\"11\" lengthAdjust=\"spacingAndGlyphs\" textLength=\"29\" x=\"88.5\" y=\"415.562\">c1: C</text><line style=\"stroke: #383838; stroke-width: 1.0;\" x1=\"33.5\" x2=\"59\" y1=\"386.1445\" y2=\"386.1445\"/><text fill=\"#000000\" font-family=\"sans-serif\" font-size=\"11\" lengthAdjust=\"spacingAndGlyphs\" textLength=\"64\" x=\"59\" y=\"389.4526\">constraints</text><line style=\"stroke: #383838; stroke-width: 1.0;\" x1=\"123\" x2=\"148.5\" y1=\"386.1445\" y2=\"386.1445\"/></a><!--MD5=[270fce915f116d4de14055a7c1d9a0f3]\n",
       "class E5--><a href=\"psysml:5c4fbfc6-6feb-457a-9610-da755776e124\" target=\"_top\" title=\"psysml:5c4fbfc6-6feb-457a-9610-da755776e124\" xlink:actuate=\"onRequest\" xlink:href=\"psysml:5c4fbfc6-6feb-457a-9610-da755776e124\" xlink:show=\"new\" xlink:title=\"psysml:5c4fbfc6-6feb-457a-9610-da755776e124\" xlink:type=\"simple\"><rect fill=\"#FFFFFF\" height=\"66.7422\" id=\"E5\" style=\"stroke: #383838; stroke-width: 1.5;\" width=\"117\" x=\"32.5\" y=\"483\"/><text fill=\"#000000\" font-family=\"sans-serif\" font-size=\"12\" font-style=\"italic\" lengthAdjust=\"spacingAndGlyphs\" textLength=\"115\" x=\"33.5\" y=\"499.1387\">«requirement def»</text><text fill=\"#000000\" font-family=\"sans-serif\" font-size=\"12\" lengthAdjust=\"spacingAndGlyphs\" textLength=\"5\" x=\"78\" y=\"513.1074\">[</text><text fill=\"#000000\" font-family=\"sans-serif\" font-size=\"12\" font-weight=\"bold\" lengthAdjust=\"spacingAndGlyphs\" textLength=\"8\" x=\"83\" y=\"513.1074\">1</text><text fill=\"#000000\" font-family=\"sans-serif\" font-size=\"12\" lengthAdjust=\"spacingAndGlyphs\" textLength=\"17\" x=\"91\" y=\"513.1074\">] A</text><line style=\"stroke: #383838; stroke-width: 1.5;\" x1=\"33.5\" x2=\"148.5\" y1=\"520.9375\" y2=\"520.9375\"/><text fill=\"#000000\" font-family=\"sans-serif\" font-size=\"11\" lengthAdjust=\"spacingAndGlyphs\" textLength=\"24\" x=\"38.5\" y=\"535.1479\">Text</text><line style=\"stroke: #383838; stroke-width: 1.0;\" x1=\"33.5\" x2=\"148.5\" y1=\"541.7422\" y2=\"541.7422\"/></a><!--MD5=[b9389687b975829384b498ac4b7476b2]\n",
       "class E8--><a href=\"psysml:577c6bec-7675-4e65-a136-10b226b9020a\" target=\"_top\" title=\"psysml:577c6bec-7675-4e65-a136-10b226b9020a\" xlink:actuate=\"onRequest\" xlink:href=\"psysml:577c6bec-7675-4e65-a136-10b226b9020a\" xlink:show=\"new\" xlink:title=\"psysml:577c6bec-7675-4e65-a136-10b226b9020a\" xlink:type=\"simple\"><rect fill=\"#FFFFFF\" height=\"45.9375\" id=\"E8\" rx=\"10\" ry=\"10\" style=\"stroke: #383838; stroke-width: 1.5;\" width=\"93\" x=\"184.5\" y=\"493.5\"/><text fill=\"#000000\" font-family=\"sans-serif\" font-size=\"12\" font-style=\"italic\" lengthAdjust=\"spacingAndGlyphs\" textLength=\"91\" x=\"185.5\" y=\"509.6387\">«requirement»</text><text fill=\"#000000\" font-family=\"sans-serif\" font-size=\"12\" lengthAdjust=\"spacingAndGlyphs\" text-decoration=\"line-through\" textLength=\"51\" x=\"205.5\" y=\"523.6074\">noname</text><line style=\"stroke: #383838; stroke-width: 1.5;\" x1=\"185.5\" x2=\"276.5\" y1=\"531.4375\" y2=\"531.4375\"/></a><!--MD5=[fd4143e9d270a159db93a4ea2a975926]\n",
       "class E9--><a href=\"psysml:291c6c45-8332-45a6-809f-574961a49898\" target=\"_top\" title=\"psysml:291c6c45-8332-45a6-809f-574961a49898\" xlink:actuate=\"onRequest\" xlink:href=\"psysml:291c6c45-8332-45a6-809f-574961a49898\" xlink:show=\"new\" xlink:title=\"psysml:291c6c45-8332-45a6-809f-574961a49898\" xlink:type=\"simple\"><rect fill=\"#FFFFFF\" height=\"88.3516\" id=\"E9\" style=\"stroke: #383838; stroke-width: 1.5;\" width=\"145\" x=\"109.5\" y=\"41\"/><text fill=\"#000000\" font-family=\"sans-serif\" font-size=\"12\" font-style=\"italic\" lengthAdjust=\"spacingAndGlyphs\" textLength=\"115\" x=\"124.5\" y=\"57.1387\">«requirement def»</text><text fill=\"#000000\" font-family=\"sans-serif\" font-size=\"12\" lengthAdjust=\"spacingAndGlyphs\" textLength=\"16\" x=\"174\" y=\"71.1074\">R1</text><line style=\"stroke: #383838; stroke-width: 1.5;\" x1=\"110.5\" x2=\"253.5\" y1=\"78.9375\" y2=\"78.9375\"/><text fill=\"#000000\" font-family=\"sans-serif\" font-size=\"11\" font-weight=\"bold\" lengthAdjust=\"spacingAndGlyphs\" textLength=\"46\" x=\"115.5\" y=\"109.9526\">require</text><text fill=\"#000000\" font-family=\"sans-serif\" font-size=\"11\" lengthAdjust=\"spacingAndGlyphs\" textLength=\"13\" x=\"165.5\" y=\"109.9526\">c1</text><text fill=\"#000000\" font-family=\"sans-serif\" font-size=\"11\" font-style=\"italic\" lengthAdjust=\"spacingAndGlyphs\" textLength=\"133\" x=\"115.5\" y=\"122.7573\">:&gt;&gt;RequirementTest::c</text><line style=\"stroke: #383838; stroke-width: 1.0;\" x1=\"110.5\" x2=\"150\" y1=\"93.3398\" y2=\"93.3398\"/><text fill=\"#000000\" font-family=\"sans-serif\" font-size=\"11\" lengthAdjust=\"spacingAndGlyphs\" textLength=\"64\" x=\"150\" y=\"96.6479\">constraints</text><line style=\"stroke: #383838; stroke-width: 1.0;\" x1=\"214\" x2=\"253.5\" y1=\"93.3398\" y2=\"93.3398\"/></a><!--MD5=[1dd1bfd58a279cf63c5f349dbc8fc6a1]\n",
       "class E11--><a href=\"psysml:b7118396-8822-4234-af4f-531e34fd2b85\" target=\"_top\" title=\"psysml:b7118396-8822-4234-af4f-531e34fd2b85\" xlink:actuate=\"onRequest\" xlink:href=\"psysml:b7118396-8822-4234-af4f-531e34fd2b85\" xlink:show=\"new\" xlink:title=\"psysml:b7118396-8822-4234-af4f-531e34fd2b85\" xlink:type=\"simple\"><rect fill=\"#FFFFFF\" height=\"45.9375\" id=\"E11\" rx=\"10\" ry=\"10\" style=\"stroke: #383838; stroke-width: 1.5;\" width=\"42\" x=\"185\" y=\"344.5\"/><text fill=\"#000000\" font-family=\"sans-serif\" font-size=\"12\" font-style=\"italic\" lengthAdjust=\"spacingAndGlyphs\" textLength=\"40\" x=\"186\" y=\"360.6387\">«part»</text><text fill=\"#000000\" font-family=\"sans-serif\" font-size=\"12\" lengthAdjust=\"spacingAndGlyphs\" textLength=\"8\" x=\"202\" y=\"374.6074\">p</text><line style=\"stroke: #383838; stroke-width: 1.5;\" x1=\"186\" x2=\"226\" y1=\"382.4375\" y2=\"382.4375\"/></a><!--MD5=[49a0ec8f00dab7302a31f22d0f0fe584]\n",
       "class E12--><a href=\"psysml:5710aa92-7822-41e6-89ae-9d2d61cb8bf3\" target=\"_top\" title=\"psysml:5710aa92-7822-41e6-89ae-9d2d61cb8bf3\" xlink:actuate=\"onRequest\" xlink:href=\"psysml:5710aa92-7822-41e6-89ae-9d2d61cb8bf3\" xlink:show=\"new\" xlink:title=\"psysml:5710aa92-7822-41e6-89ae-9d2d61cb8bf3\" xlink:type=\"simple\"><rect fill=\"#FFFFFF\" height=\"45.9375\" id=\"E12\" rx=\"10\" ry=\"10\" style=\"stroke: #383838; stroke-width: 1.5;\" width=\"42\" x=\"32\" y=\"62\"/><text fill=\"#000000\" font-family=\"sans-serif\" font-size=\"12\" font-style=\"italic\" lengthAdjust=\"spacingAndGlyphs\" textLength=\"40\" x=\"33\" y=\"78.1387\">«part»</text><text fill=\"#000000\" font-family=\"sans-serif\" font-size=\"12\" lengthAdjust=\"spacingAndGlyphs\" textLength=\"8\" x=\"49\" y=\"92.1074\">q</text><line style=\"stroke: #383838; stroke-width: 1.5;\" x1=\"33\" x2=\"73\" y1=\"99.9375\" y2=\"99.9375\"/></a><!--MD5=[ee3c913d1a06f366521f9ef512b67efe]\n",
       "class E13--><a href=\"psysml:b72900fb-e3ca-4439-ac22-acb3bf892de5\" target=\"_top\" title=\"psysml:b72900fb-e3ca-4439-ac22-acb3bf892de5\" xlink:actuate=\"onRequest\" xlink:href=\"psysml:b72900fb-e3ca-4439-ac22-acb3bf892de5\" xlink:show=\"new\" xlink:title=\"psysml:b72900fb-e3ca-4439-ac22-acb3bf892de5\" xlink:type=\"simple\"><rect fill=\"#FFFFFF\" height=\"45.9375\" id=\"E13\" rx=\"10\" ry=\"10\" style=\"stroke: #383838; stroke-width: 1.5;\" width=\"93\" x=\"44.5\" y=\"190\"/><text fill=\"#000000\" font-family=\"sans-serif\" font-size=\"12\" font-style=\"italic\" lengthAdjust=\"spacingAndGlyphs\" textLength=\"91\" x=\"45.5\" y=\"206.1387\">«requirement»</text><text fill=\"#000000\" font-family=\"sans-serif\" font-size=\"12\" lengthAdjust=\"spacingAndGlyphs\" textLength=\"21\" x=\"80.5\" y=\"220.1074\">r: R</text><line style=\"stroke: #383838; stroke-width: 1.5;\" x1=\"45.5\" x2=\"136.5\" y1=\"227.9375\" y2=\"227.9375\"/></a><!--MD5=[05d275557350bfb9b23a4ef7222b4c39]\n",
       "link E3 to E2--><a href=\"psysml:8b4534c8-c65f-4721-aa95-1aefa1ee4858\" target=\"_top\" title=\"psysml:8b4534c8-c65f-4721-aa95-1aefa1ee4858\" xlink:actuate=\"onRequest\" xlink:href=\"psysml:8b4534c8-c65f-4721-aa95-1aefa1ee4858\" xlink:show=\"new\" xlink:title=\"psysml:8b4534c8-c65f-4721-aa95-1aefa1ee4858\" xlink:type=\"simple\"><path d=\"M327.88,108.24 C326.26,125.24 323.98,149.19 322.02,169.79 \" fill=\"none\" id=\"E3-&gt;E2\" style=\"stroke: #383838; stroke-width: 1.0;\"/><polygon fill=\"#FFFFFF\" points=\"320.1,189.99,314.9362,170.411,328.8729,171.7407,320.1,189.99\" style=\"stroke: #383838; stroke-width: 1.0;\"/><ellipse cx=\"317.4685\" cy=\"164.9268\" fill=\"#383838\" rx=\"2\" ry=\"2\" style=\"stroke: #383838; stroke-width: 1.0;\"/><ellipse cx=\"327.4233\" cy=\"165.8765\" fill=\"#383838\" rx=\"2\" ry=\"2\" style=\"stroke: #383838; stroke-width: 1.0;\"/></a><!--MD5=[62aa6af11e70f752912c1cb0466f24f7]\n",
       "reverse link E4 to E5--><a href=\"psysml:5c4fbfc6-6feb-457a-9610-da755776e124\" target=\"_top\" title=\"psysml:5c4fbfc6-6feb-457a-9610-da755776e124\" xlink:actuate=\"onRequest\" xlink:href=\"psysml:5c4fbfc6-6feb-457a-9610-da755776e124\" xlink:show=\"new\" xlink:title=\"psysml:5c4fbfc6-6feb-457a-9610-da755776e124\" xlink:type=\"simple\"><path d=\"M91,437.45 C91,453.34 91,469.51 91,482.98 \" fill=\"none\" id=\"E4&lt;-E5\" style=\"stroke: #383838; stroke-width: 1.0;\"/><ellipse cx=\"91\" cy=\"430.4\" fill=\"#FFFFFF\" rx=\"8\" ry=\"8\" style=\"stroke: #383838; stroke-width: 1.0;\"/><line style=\"stroke: #383838; stroke-width: 1.0;\" x1=\"91\" x2=\"91\" y1=\"438.4\" y2=\"422.4\"/><line style=\"stroke: #383838; stroke-width: 1.0;\" x1=\"83\" x2=\"99\" y1=\"430.4\" y2=\"430.4\"/></a><!--MD5=[c6fc7cdb0cabde04948078cf183fa696]\n",
       "reverse link E4 to E8--><a href=\"psysml:577c6bec-7675-4e65-a136-10b226b9020a\" target=\"_top\" title=\"psysml:577c6bec-7675-4e65-a136-10b226b9020a\" xlink:actuate=\"onRequest\" xlink:href=\"psysml:577c6bec-7675-4e65-a136-10b226b9020a\" xlink:show=\"new\" xlink:title=\"psysml:577c6bec-7675-4e65-a136-10b226b9020a\" xlink:type=\"simple\"><path d=\"M151.51,432.04 C172.42,453.99 194.47,477.14 210.03,493.48 \" fill=\"none\" id=\"E4&lt;-E8\" style=\"stroke: #383838; stroke-width: 1.0;\"/><polygon fill=\"#383838\" points=\"142.34,422.4,143.5779,429.5041,150.6116,431.0937,149.3737,423.9897,142.34,422.4\" style=\"stroke: #383838; stroke-width: 1.0;\"/></a><!--MD5=[062ed86c389d1a88f61c6380d0491e17]\n",
       "reverse link E12 to E13--><a href=\"psysml:b72900fb-e3ca-4439-ac22-acb3bf892de5\" target=\"_top\" title=\"psysml:b72900fb-e3ca-4439-ac22-acb3bf892de5\" xlink:actuate=\"onRequest\" xlink:href=\"psysml:b72900fb-e3ca-4439-ac22-acb3bf892de5\" xlink:show=\"new\" xlink:title=\"psysml:b72900fb-e3ca-4439-ac22-acb3bf892de5\" xlink:type=\"simple\"><path d=\"M63.49,120.8 C70.17,142.92 78.6,170.89 84.36,189.99 \" fill=\"none\" id=\"E12&lt;-E13\" style=\"stroke: #383838; stroke-width: 1.0;\"/><polygon fill=\"#383838\" points=\"59.71,108.24,57.6129,115.1394,63.1751,119.7288,65.2722,112.8294,59.71,108.24\" style=\"stroke: #383838; stroke-width: 1.0;\"/></a><!--MD5=[017847e01ff9a8bd19f247411074f987]\n",
       "link E13 to E4--><a href=\"psysml:ed6e641a-605b-4ed9-9064-d41509e7ab16\" target=\"_top\" title=\"psysml:ed6e641a-605b-4ed9-9064-d41509e7ab16\" xlink:actuate=\"onRequest\" xlink:href=\"psysml:ed6e641a-605b-4ed9-9064-d41509e7ab16\" xlink:show=\"new\" xlink:title=\"psysml:ed6e641a-605b-4ed9-9064-d41509e7ab16\" xlink:type=\"simple\"><path d=\"M91,236.17 C91,251.17 91,271.91 91,292.44 \" fill=\"none\" id=\"E13-&gt;E4\" style=\"stroke: #383838; stroke-width: 1.0;\"/><polygon fill=\"#FFFFFF\" points=\"91,312.68,84,293.68,98,293.68,91,312.68\" style=\"stroke: #383838; stroke-width: 1.0;\"/><ellipse cx=\"86\" cy=\"287.98\" fill=\"#383838\" rx=\"2\" ry=\"2\" style=\"stroke: #383838; stroke-width: 1.0;\"/><ellipse cx=\"96\" cy=\"287.98\" fill=\"#383838\" rx=\"2\" ry=\"2\" style=\"stroke: #383838; stroke-width: 1.0;\"/></a><!--MD5=[2cfe899c895462254056921bfb67315f]\n",
       "link E13 to E11--><a href=\"psysml:11f1a2a5-a4e7-4875-8b16-7052fd317758\" target=\"_top\" title=\"psysml:11f1a2a5-a4e7-4875-8b16-7052fd317758\" xlink:actuate=\"onRequest\" xlink:href=\"psysml:11f1a2a5-a4e7-4875-8b16-7052fd317758\" xlink:show=\"new\" xlink:title=\"psysml:11f1a2a5-a4e7-4875-8b16-7052fd317758\" xlink:type=\"simple\"><path d=\"M108.36,236.29 C123.87,256.28 147.14,286.45 167,313 C173.57,321.78 180.66,331.44 186.97,340.12 \" fill=\"none\" id=\"E13-&gt;E11\" style=\"stroke: #383838; stroke-width: 1.0; stroke-dasharray: 7.0,7.0;\"/><polygon fill=\"#383838\" points=\"189.99,344.28,187.9274,334.6496,187.0474,340.2376,181.4594,339.3576,189.99,344.28\" style=\"stroke: #383838; stroke-width: 1.0;\"/><text fill=\"#000000\" font-family=\"sans-serif\" font-size=\"13\" lengthAdjust=\"spacingAndGlyphs\" textLength=\"57\" x=\"145\" y=\"279.0669\">«satisfy»</text></a><!--MD5=[498aefe384e998bec6bcdf8920d301de]\n",
       "@startuml\r\n",
       "skinparam monochrome true\r\n",
       "skinparam classbackgroundcolor white\r\n",
       "skinparam shadowing false\r\n",
       "skinparam wrapWidth 300\r\n",
       "hide circle\r\n",
       "\r\n",
       "package \"RequirementTest\" as E1  [[psysml:8aa028f5-1693-4b51-bff2-c94d0f18c930 ]]  {\r\n",
       "comp def \"C\" as E2  <<(T,blue)constraint def>> [[psysml:27c2a771-07cf-4bde-9591-6030a1a15742 ]] {\r\n",
       "}\r\n",
       "comp usage \"c: C\" as E3  <<(T,blue)constraint>> [[psysml:da02b217-f155-4220-a2dc-d840d0d24f86 ]] {\r\n",
       "}\r\n",
       "comp def \"R\" as E4  <<(T,blue)requirement def>> [[psysml:b9a9d178-6ba0-415d-80bd-8d7e5aacf32f ]] {\r\n",
       "\r\n",
       "- -\r\n",
       "- - constraints - -\r\n",
       "<b>require</b> c\r\n",
       "<i>assume</i> c1: C\r\n",
       "}\r\n",
       "comp def \" [<b>1</b>] A\" as E5  <<(T,blue)requirement def>> [[psysml:5c4fbfc6-6feb-457a-9610-da755776e124 ]] {\r\n",
       "Text\r\n",
       "- -\r\n",
       "}\r\n",
       "comp usage \"<s>noname</s>\" as E8  <<(T,blue)requirement>> [[psysml:577c6bec-7675-4e65-a136-10b226b9020a ]] {\r\n",
       "}\r\n",
       "comp def \"R1\" as E9  <<(T,blue)requirement def>> [[psysml:291c6c45-8332-45a6-809f-574961a49898 ]] {\r\n",
       "- - constraints - -\r\n",
       "<b>require</b> c1\\n//:>>RequirementTest::c// \r\n",
       "}\r\n",
       "comp usage \"p\" as E11  <<(T,blue)part>> [[psysml:b7118396-8822-4234-af4f-531e34fd2b85 ]] {\r\n",
       "}\r\n",
       "comp usage \"q\" as E12  <<(T,blue)part>> [[psysml:5710aa92-7822-41e6-89ae-9d2d61cb8bf3 ]] {\r\n",
       "}\r\n",
       "comp usage \"r: R\" as E13  <<(T,blue)requirement>> [[psysml:b72900fb-e3ca-4439-ac22-acb3bf892de5 ]] {\r\n",
       "}\r\n",
       "E3 - -:|> E2 [[psysml:8b4534c8-c65f-4721-aa95-1aefa1ee4858 ]] \r\n",
       "E4 +- - E5 [[psysml:5c4fbfc6-6feb-457a-9610-da755776e124 ]] \r\n",
       "E4 *- - E8 [[psysml:577c6bec-7675-4e65-a136-10b226b9020a ]] \r\n",
       "E12 *- - E13 [[psysml:b72900fb-e3ca-4439-ac22-acb3bf892de5 ]] \r\n",
       "E13 - -:|> E4 [[psysml:ed6e641a-605b-4ed9-9064-d41509e7ab16 ]] \r\n",
       "E13 ..> E11 [[psysml:11f1a2a5-a4e7-4875-8b16-7052fd317758 ]] : <<satisfy>>\r\n",
       "}\r\n",
       "@enduml\r\n",
       "\n",
       "PlantUML version 1.2020.13(Sat Jun 13 12:26:38 UTC 2020)\n",
       "(EPL source distribution)\n",
       "Java Runtime: OpenJDK Runtime Environment\n",
       "JVM: OpenJDK 64-Bit Server VM\n",
       "Default Encoding: UTF-8\n",
       "Language: en\n",
       "Country: null\n",
       "--></g></svg>"
      ]
     },
     "execution_count": 38,
     "metadata": {},
     "output_type": "execute_result"
    }
   ],
   "source": [
    "%viz --style=\"DEFAULT\" --view=\"Tree\" \"RequirementTest\""
   ]
  },
  {
   "cell_type": "code",
   "execution_count": 39,
   "id": "plain-details",
   "metadata": {
    "execution": {
     "iopub.execute_input": "2021-03-26T09:12:30.196952Z",
     "iopub.status.busy": "2021-03-26T09:12:30.196626Z",
     "iopub.status.idle": "2021-03-26T09:12:30.202098Z",
     "shell.execute_reply": "2021-03-26T09:12:30.201240Z"
    }
   },
   "outputs": [
    {
     "data": {
      "image/svg+xml": [
       "<?xml version=\"1.0\" encoding=\"UTF-8\" standalone=\"no\"?><svg xmlns=\"http://www.w3.org/2000/svg\" xmlns:xlink=\"http://www.w3.org/1999/xlink\" contentScriptType=\"application/ecmascript\" contentStyleType=\"text/css\" height=\"12px\" preserveAspectRatio=\"none\" style=\"width:12px;height:12px;\" version=\"1.1\" viewBox=\"0 0 12 12\" width=\"12px\" zoomAndPan=\"magnify\"><defs/><g><!--MD5=[c5f280e076d0d61ccf4b0f27871bda1d]\n",
       "@startuml\r\n",
       "skinparam monochrome true\r\n",
       "skinparam classbackgroundcolor white\r\n",
       "skinparam shadowing false\r\n",
       "skinparam wrapWidth 300\r\n",
       "hide circle\r\n",
       "\r\n",
       "@enduml\r\n",
       "\n",
       "PlantUML version 1.2020.13(Sat Jun 13 12:26:38 UTC 2020)\n",
       "(EPL source distribution)\n",
       "Java Runtime: OpenJDK Runtime Environment\n",
       "JVM: OpenJDK 64-Bit Server VM\n",
       "Default Encoding: UTF-8\n",
       "Language: en\n",
       "Country: null\n",
       "--></g></svg>"
      ]
     },
     "execution_count": 39,
     "metadata": {},
     "output_type": "execute_result"
    }
   ],
   "source": [
    "%viz --style=\"DEFAULT\" --view=\"State\" \"RequirementTest\""
   ]
  },
  {
   "cell_type": "code",
   "execution_count": 40,
   "id": "anticipated-solid",
   "metadata": {
    "execution": {
     "iopub.execute_input": "2021-03-26T09:12:30.253054Z",
     "iopub.status.busy": "2021-03-26T09:12:30.252737Z",
     "iopub.status.idle": "2021-03-26T09:12:30.285375Z",
     "shell.execute_reply": "2021-03-26T09:12:30.283788Z"
    }
   },
   "outputs": [
    {
     "data": {
      "image/svg+xml": [
       "<?xml version=\"1.0\" encoding=\"UTF-8\" standalone=\"no\"?><svg xmlns=\"http://www.w3.org/2000/svg\" xmlns:xlink=\"http://www.w3.org/1999/xlink\" contentScriptType=\"application/ecmascript\" contentStyleType=\"text/css\" height=\"367px\" preserveAspectRatio=\"none\" style=\"width:980px;height:367px;\" version=\"1.1\" viewBox=\"0 0 980 367\" width=\"980px\" zoomAndPan=\"magnify\"><defs/><g><!--MD5=[fbc87193dbaf4d95561dea2c320d4a47]\n",
       "cluster E1--><a href=\"psysml:8aa028f5-1693-4b51-bff2-c94d0f18c930\" target=\"_top\" title=\"psysml:8aa028f5-1693-4b51-bff2-c94d0f18c930\" xlink:actuate=\"onRequest\" xlink:href=\"psysml:8aa028f5-1693-4b51-bff2-c94d0f18c930\" xlink:show=\"new\" xlink:title=\"psysml:8aa028f5-1693-4b51-bff2-c94d0f18c930\" xlink:type=\"simple\"><polygon fill=\"#FFFFFF\" points=\"16,6,158,6,165,28.2969,958,28.2969,958,355,16,355,16,6\" style=\"stroke: #000000; stroke-width: 1.5;\"/><line style=\"stroke: #000000; stroke-width: 1.5;\" x1=\"16\" x2=\"165\" y1=\"28.2969\" y2=\"28.2969\"/><text fill=\"#000000\" font-family=\"sans-serif\" font-size=\"14\" font-weight=\"bold\" lengthAdjust=\"spacingAndGlyphs\" textLength=\"136\" x=\"20\" y=\"20.9951\">RequirementTest</text></a><!--MD5=[168fadf3d0c3fd93dd5d6da1b1d7ab76]\n",
       "cluster E7--><a href=\"psysml:5710aa92-7822-41e6-89ae-9d2d61cb8bf3\" target=\"_top\" title=\"psysml:5710aa92-7822-41e6-89ae-9d2d61cb8bf3\" xlink:actuate=\"onRequest\" xlink:href=\"psysml:5710aa92-7822-41e6-89ae-9d2d61cb8bf3\" xlink:show=\"new\" xlink:title=\"psysml:5710aa92-7822-41e6-89ae-9d2d61cb8bf3\" xlink:type=\"simple\"><rect fill=\"#FFFFFF\" height=\"209\" id=\"E7\" rx=\"10\" ry=\"10\" style=\"stroke: #383838; stroke-width: 1.5;\" width=\"213\" x=\"721\" y=\"49\"/><rect fill=\"#F8F8F8\" height=\"23.9688\" rx=\"10\" ry=\"10\" style=\"stroke: #F8F8F8; stroke-width: 1.5;\" width=\"213\" x=\"721\" y=\"49\"/><rect fill=\"#F8F8F8\" height=\"10\" style=\"stroke: #F8F8F8; stroke-width: 1.5;\" width=\"213\" x=\"721\" y=\"62.9688\"/><rect fill=\"none\" height=\"209\" id=\"E7\" rx=\"10\" ry=\"10\" style=\"stroke: #383838; stroke-width: 1.5;\" width=\"213\" x=\"721\" y=\"49\"/><text fill=\"#000000\" font-family=\"sans-serif\" font-size=\"12\" lengthAdjust=\"spacingAndGlyphs\" textLength=\"8\" x=\"823.5\" y=\"65.1387\">q</text><line style=\"stroke: #383838; stroke-width: 1.0;\" x1=\"721\" x2=\"934\" y1=\"72.9688\" y2=\"72.9688\"/></a><!--MD5=[55dfccfc6c49c2d10cd1bd2211a6c90c]\n",
       "cluster E8--><a href=\"psysml:b72900fb-e3ca-4439-ac22-acb3bf892de5\" target=\"_top\" title=\"psysml:b72900fb-e3ca-4439-ac22-acb3bf892de5\" xlink:actuate=\"onRequest\" xlink:href=\"psysml:b72900fb-e3ca-4439-ac22-acb3bf892de5\" xlink:show=\"new\" xlink:title=\"psysml:b72900fb-e3ca-4439-ac22-acb3bf892de5\" xlink:type=\"simple\"><rect fill=\"#FFFFFF\" height=\"126\" id=\"E8\" rx=\"10\" ry=\"10\" style=\"stroke: #383838; stroke-width: 1.5;\" width=\"149\" x=\"753\" y=\"100\"/><rect fill=\"#F8F8F8\" height=\"37.9375\" rx=\"10\" ry=\"10\" style=\"stroke: #F8F8F8; stroke-width: 1.5;\" width=\"149\" x=\"753\" y=\"100\"/><rect fill=\"#F8F8F8\" height=\"10\" style=\"stroke: #F8F8F8; stroke-width: 1.5;\" width=\"149\" x=\"753\" y=\"127.9375\"/><rect fill=\"none\" height=\"126\" id=\"E8\" rx=\"10\" ry=\"10\" style=\"stroke: #383838; stroke-width: 1.5;\" width=\"149\" x=\"753\" y=\"100\"/><text fill=\"#000000\" font-family=\"sans-serif\" font-size=\"12\" font-style=\"italic\" lengthAdjust=\"spacingAndGlyphs\" textLength=\"91\" x=\"782\" y=\"116.1387\">«requirement»</text><text fill=\"#000000\" font-family=\"sans-serif\" font-size=\"12\" lengthAdjust=\"spacingAndGlyphs\" textLength=\"21\" x=\"817\" y=\"130.1074\">r: R</text><line style=\"stroke: #383838; stroke-width: 1.0;\" x1=\"753\" x2=\"902\" y1=\"137.9375\" y2=\"137.9375\"/></a><!--MD5=[b4997ac47864f28c2f74865a473b2911]\n",
       "class E2--><a href=\"psysml:27c2a771-07cf-4bde-9591-6030a1a15742\" target=\"_top\" title=\"psysml:27c2a771-07cf-4bde-9591-6030a1a15742\" xlink:actuate=\"onRequest\" xlink:href=\"psysml:27c2a771-07cf-4bde-9591-6030a1a15742\" xlink:show=\"new\" xlink:title=\"psysml:27c2a771-07cf-4bde-9591-6030a1a15742\" xlink:type=\"simple\"><rect fill=\"#FFFFFF\" height=\"53.9375\" id=\"E2\" style=\"stroke: #383838; stroke-width: 1.5;\" width=\"152\" x=\"553\" y=\"153.5\"/><text fill=\"#000000\" font-family=\"sans-serif\" font-size=\"12\" font-style=\"italic\" lengthAdjust=\"spacingAndGlyphs\" textLength=\"150\" x=\"554\" y=\"169.6387\">«(T,blue)constraint def»</text><text fill=\"#000000\" font-family=\"sans-serif\" font-size=\"12\" lengthAdjust=\"spacingAndGlyphs\" textLength=\"8\" x=\"625\" y=\"183.6074\">C</text><line style=\"stroke: #383838; stroke-width: 1.5;\" x1=\"554\" x2=\"704\" y1=\"191.4375\" y2=\"191.4375\"/><line style=\"stroke: #383838; stroke-width: 1.5;\" x1=\"554\" x2=\"704\" y1=\"199.4375\" y2=\"199.4375\"/></a><!--MD5=[ebbe1d658d1005bcc118a6aa81145e00]\n",
       "class E4--><a href=\"psysml:b9a9d178-6ba0-415d-80bd-8d7e5aacf32f\" target=\"_top\" title=\"psysml:b9a9d178-6ba0-415d-80bd-8d7e5aacf32f\" xlink:actuate=\"onRequest\" xlink:href=\"psysml:b9a9d178-6ba0-415d-80bd-8d7e5aacf32f\" xlink:show=\"new\" xlink:title=\"psysml:b9a9d178-6ba0-415d-80bd-8d7e5aacf32f\" xlink:type=\"simple\"><rect fill=\"#FFFFFF\" height=\"53.9375\" id=\"E4\" style=\"stroke: #383838; stroke-width: 1.5;\" width=\"165\" x=\"352.5\" y=\"153.5\"/><text fill=\"#000000\" font-family=\"sans-serif\" font-size=\"12\" font-style=\"italic\" lengthAdjust=\"spacingAndGlyphs\" textLength=\"163\" x=\"353.5\" y=\"169.6387\">«(T,blue)requirement def»</text><text fill=\"#000000\" font-family=\"sans-serif\" font-size=\"12\" lengthAdjust=\"spacingAndGlyphs\" textLength=\"8\" x=\"431\" y=\"183.6074\">R</text><line style=\"stroke: #383838; stroke-width: 1.5;\" x1=\"353.5\" x2=\"516.5\" y1=\"191.4375\" y2=\"191.4375\"/><line style=\"stroke: #383838; stroke-width: 1.5;\" x1=\"353.5\" x2=\"516.5\" y1=\"199.4375\" y2=\"199.4375\"/></a><!--MD5=[270fce915f116d4de14055a7c1d9a0f3]\n",
       "class E5--><a href=\"psysml:291c6c45-8332-45a6-809f-574961a49898\" target=\"_top\" title=\"psysml:291c6c45-8332-45a6-809f-574961a49898\" xlink:actuate=\"onRequest\" xlink:href=\"psysml:291c6c45-8332-45a6-809f-574961a49898\" xlink:show=\"new\" xlink:title=\"psysml:291c6c45-8332-45a6-809f-574961a49898\" xlink:type=\"simple\"><rect fill=\"#FFFFFF\" height=\"53.9375\" id=\"E5\" style=\"stroke: #383838; stroke-width: 1.5;\" width=\"165\" x=\"152.5\" y=\"153.5\"/><text fill=\"#000000\" font-family=\"sans-serif\" font-size=\"12\" font-style=\"italic\" lengthAdjust=\"spacingAndGlyphs\" textLength=\"163\" x=\"153.5\" y=\"169.6387\">«(T,blue)requirement def»</text><text fill=\"#000000\" font-family=\"sans-serif\" font-size=\"12\" lengthAdjust=\"spacingAndGlyphs\" textLength=\"16\" x=\"227\" y=\"183.6074\">R1</text><line style=\"stroke: #383838; stroke-width: 1.5;\" x1=\"153.5\" x2=\"316.5\" y1=\"191.4375\" y2=\"191.4375\"/><line style=\"stroke: #383838; stroke-width: 1.5;\" x1=\"153.5\" x2=\"316.5\" y1=\"199.4375\" y2=\"199.4375\"/></a><g id=\"E1.E3\"><a href=\"psysml:da02b217-f155-4220-a2dc-d840d0d24f86\" target=\"_top\" title=\"psysml:da02b217-f155-4220-a2dc-d840d0d24f86\" xlink:actuate=\"onRequest\" xlink:href=\"psysml:da02b217-f155-4220-a2dc-d840d0d24f86\" xlink:show=\"new\" xlink:title=\"psysml:da02b217-f155-4220-a2dc-d840d0d24f86\" xlink:type=\"simple\"><rect fill=\"#FFFFFF\" height=\"42.9375\" id=\"E3\" rx=\"10\" ry=\"10\" style=\"stroke: #383838; stroke-width: 1.5;\" width=\"85\" x=\"32.5\" y=\"159\"/><rect fill=\"#F8F8F8\" height=\"37.9375\" rx=\"10\" ry=\"10\" style=\"stroke: #F8F8F8; stroke-width: 1.5;\" width=\"85\" x=\"32.5\" y=\"159\"/><rect fill=\"#F8F8F8\" height=\"10\" style=\"stroke: #F8F8F8; stroke-width: 1.5;\" width=\"85\" x=\"32.5\" y=\"186.9375\"/><rect fill=\"none\" height=\"42.9375\" id=\"E3\" rx=\"10\" ry=\"10\" style=\"stroke: #383838; stroke-width: 1.5;\" width=\"85\" x=\"32.5\" y=\"159\"/><text fill=\"#000000\" font-family=\"sans-serif\" font-size=\"12\" font-style=\"italic\" lengthAdjust=\"spacingAndGlyphs\" textLength=\"78\" x=\"36\" y=\"175.1387\">«constraint»</text><text fill=\"#000000\" font-family=\"sans-serif\" font-size=\"12\" lengthAdjust=\"spacingAndGlyphs\" textLength=\"23\" x=\"63.5\" y=\"189.1074\">c: C</text></a></g><g id=\"E1.E6\"><a href=\"psysml:b7118396-8822-4234-af4f-531e34fd2b85\" target=\"_top\" title=\"psysml:b7118396-8822-4234-af4f-531e34fd2b85\" xlink:actuate=\"onRequest\" xlink:href=\"psysml:b7118396-8822-4234-af4f-531e34fd2b85\" xlink:show=\"new\" xlink:title=\"psysml:b7118396-8822-4234-af4f-531e34fd2b85\" xlink:type=\"simple\"><rect fill=\"#FFFFFF\" height=\"40\" id=\"E6\" rx=\"10\" ry=\"10\" style=\"stroke: #383838; stroke-width: 1.5;\" width=\"50\" x=\"736\" y=\"299\"/><rect fill=\"#F8F8F8\" height=\"23.9688\" rx=\"10\" ry=\"10\" style=\"stroke: #F8F8F8; stroke-width: 1.5;\" width=\"50\" x=\"736\" y=\"299\"/><rect fill=\"#F8F8F8\" height=\"10\" style=\"stroke: #F8F8F8; stroke-width: 1.5;\" width=\"50\" x=\"736\" y=\"312.9688\"/><rect fill=\"none\" height=\"40\" id=\"E6\" rx=\"10\" ry=\"10\" style=\"stroke: #383838; stroke-width: 1.5;\" width=\"50\" x=\"736\" y=\"299\"/><text fill=\"#000000\" font-family=\"sans-serif\" font-size=\"12\" lengthAdjust=\"spacingAndGlyphs\" textLength=\"8\" x=\"757\" y=\"315.1387\">p</text></a></g><g id=\"E1.E7.E8.E9\"><a href=\"psysml:b3b786b4-2056-4ded-a351-3a90cb9a49e0\" target=\"_top\" title=\"psysml:b3b786b4-2056-4ded-a351-3a90cb9a49e0\" xlink:actuate=\"onRequest\" xlink:href=\"psysml:b3b786b4-2056-4ded-a351-3a90cb9a49e0\" xlink:show=\"new\" xlink:title=\"psysml:b3b786b4-2056-4ded-a351-3a90cb9a49e0\" xlink:type=\"simple\"><rect fill=\"#FFFFFF\" height=\"42.9375\" id=\"E9\" rx=\"10\" ry=\"10\" style=\"stroke: #383838; stroke-width: 1.5;\" width=\"82\" x=\"796\" y=\"159\"/><rect fill=\"#F8F8F8\" height=\"37.9375\" rx=\"10\" ry=\"10\" style=\"stroke: #F8F8F8; stroke-width: 1.5;\" width=\"82\" x=\"796\" y=\"159\"/><rect fill=\"#F8F8F8\" height=\"10\" style=\"stroke: #F8F8F8; stroke-width: 1.5;\" width=\"82\" x=\"796\" y=\"186.9375\"/><rect fill=\"none\" height=\"42.9375\" id=\"E9\" rx=\"10\" ry=\"10\" style=\"stroke: #383838; stroke-width: 1.5;\" width=\"82\" x=\"796\" y=\"159\"/><text fill=\"#000000\" font-family=\"sans-serif\" font-size=\"12\" font-style=\"italic\" lengthAdjust=\"spacingAndGlyphs\" textLength=\"75\" x=\"799.5\" y=\"175.1387\">«reference»</text><text fill=\"#000000\" font-family=\"sans-serif\" font-size=\"12\" lengthAdjust=\"spacingAndGlyphs\" textLength=\"26\" x=\"824\" y=\"189.1074\">subj</text></a></g><!--MD5=[c5e8897d989ce984f93528998a7150fe]\n",
       "link E8 to E6--><a href=\"psysml:11f1a2a5-a4e7-4875-8b16-7052fd317758\" target=\"_top\" title=\"psysml:11f1a2a5-a4e7-4875-8b16-7052fd317758\" xlink:actuate=\"onRequest\" xlink:href=\"psysml:11f1a2a5-a4e7-4875-8b16-7052fd317758\" xlink:show=\"new\" xlink:title=\"psysml:11f1a2a5-a4e7-4875-8b16-7052fd317758\" xlink:type=\"simple\"><path d=\"M761,226.4501 C761,227.1713 761,227.8965 761,228.6252 C761,230.0826 761,231.5543 761,233.0372 C761,236.003 761,239.0136 761,242.0448 C761,248.1072 761,254.2518 761,260.2839 C761,272.3481 761,283.9625 761,293.57 \" fill=\"none\" id=\"E8-&gt;E6\" style=\"stroke: #383838; stroke-width: 1.0; stroke-dasharray: 7.0,7.0;\"/><polygon fill=\"#383838\" points=\"761,298.99,765,289.99,761,293.99,757,289.99,761,298.99\" style=\"stroke: #383838; stroke-width: 1.0;\"/><text fill=\"#000000\" font-family=\"sans-serif\" font-size=\"13\" lengthAdjust=\"spacingAndGlyphs\" textLength=\"57\" x=\"762\" y=\"287.0669\">«satisfy»</text></a><!--MD5=[edc6233896d6c8acc334e97852754d9e]\n",
       "@startuml\r\n",
       "skinparam ranksep 8\r\n",
       "skinparam rectangle {\r\n",
       " backgroundColor<<block>> LightGreen\r\n",
       "}\r\n",
       "skinparam monochrome true\r\n",
       "skinparam classbackgroundcolor white\r\n",
       "skinparam shadowing false\r\n",
       "skinparam wrapWidth 300\r\n",
       "hide circle\r\n",
       "\r\n",
       "package \"RequirementTest\" as E1  [[psysml:8aa028f5-1693-4b51-bff2-c94d0f18c930 ]]  {\r\n",
       "def \"C\" as E2  <<(T,blue)constraint def>> [[psysml:27c2a771-07cf-4bde-9591-6030a1a15742 ]] \r\n",
       "rec usage \"c: C\" as E3  <<(T,blue)constraint>> [[psysml:da02b217-f155-4220-a2dc-d840d0d24f86 ]] {\r\n",
       "}\r\n",
       "def \"R\" as E4  <<(T,blue)requirement def>> [[psysml:b9a9d178-6ba0-415d-80bd-8d7e5aacf32f ]] \r\n",
       "def \"R1\" as E5  <<(T,blue)requirement def>> [[psysml:291c6c45-8332-45a6-809f-574961a49898 ]] \r\n",
       "rec usage \"p\" as E6  [[psysml:b7118396-8822-4234-af4f-531e34fd2b85 ]] {\r\n",
       "}\r\n",
       "rec usage \"q\" as E7  [[psysml:5710aa92-7822-41e6-89ae-9d2d61cb8bf3 ]] {\r\n",
       "rec usage \"r: R\" as E8  <<(T,blue)requirement>> [[psysml:b72900fb-e3ca-4439-ac22-acb3bf892de5 ]] {\r\n",
       "rec usage \"subj\" as E9  <<(T,blue)reference>> [[psysml:b3b786b4-2056-4ded-a351-3a90cb9a49e0 ]] {\r\n",
       "}\r\n",
       "}\r\n",
       "}\r\n",
       "E8 ..> E6 [[psysml:11f1a2a5-a4e7-4875-8b16-7052fd317758 ]] : <<satisfy>>\r\n",
       "}\r\n",
       "@enduml\r\n",
       "\n",
       "PlantUML version 1.2020.13(Sat Jun 13 12:26:38 UTC 2020)\n",
       "(EPL source distribution)\n",
       "Java Runtime: OpenJDK Runtime Environment\n",
       "JVM: OpenJDK 64-Bit Server VM\n",
       "Default Encoding: UTF-8\n",
       "Language: en\n",
       "Country: null\n",
       "--></g></svg>"
      ]
     },
     "execution_count": 40,
     "metadata": {},
     "output_type": "execute_result"
    }
   ],
   "source": [
    "%viz --style=\"DEFAULT\" --view=\"Interconnection\" \"RequirementTest\""
   ]
  },
  {
   "cell_type": "code",
   "execution_count": 41,
   "id": "applicable-observation",
   "metadata": {
    "execution": {
     "iopub.execute_input": "2021-03-26T09:12:30.338556Z",
     "iopub.status.busy": "2021-03-26T09:12:30.338019Z",
     "iopub.status.idle": "2021-03-26T09:12:30.345286Z",
     "shell.execute_reply": "2021-03-26T09:12:30.344409Z"
    }
   },
   "outputs": [
    {
     "data": {
      "image/svg+xml": [
       "<?xml version=\"1.0\" encoding=\"UTF-8\" standalone=\"no\"?><svg xmlns=\"http://www.w3.org/2000/svg\" xmlns:xlink=\"http://www.w3.org/1999/xlink\" contentScriptType=\"application/ecmascript\" contentStyleType=\"text/css\" height=\"12px\" preserveAspectRatio=\"none\" style=\"width:12px;height:12px;\" version=\"1.1\" viewBox=\"0 0 12 12\" width=\"12px\" zoomAndPan=\"magnify\"><defs/><g><!--MD5=[388f21188e31bfdd97050473b19af356]\n",
       "@startuml\r\n",
       "skinparam ranksep 8\r\n",
       "skinparam monochrome true\r\n",
       "skinparam classbackgroundcolor white\r\n",
       "skinparam shadowing false\r\n",
       "skinparam wrapWidth 300\r\n",
       "hide circle\r\n",
       "\r\n",
       "@enduml\r\n",
       "\n",
       "PlantUML version 1.2020.13(Sat Jun 13 12:26:38 UTC 2020)\n",
       "(EPL source distribution)\n",
       "Java Runtime: OpenJDK Runtime Environment\n",
       "JVM: OpenJDK 64-Bit Server VM\n",
       "Default Encoding: UTF-8\n",
       "Language: en\n",
       "Country: null\n",
       "--></g></svg>"
      ]
     },
     "execution_count": 41,
     "metadata": {},
     "output_type": "execute_result"
    }
   ],
   "source": [
    "%viz --style=\"DEFAULT\" --view=\"Action\" \"RequirementTest\""
   ]
  },
  {
   "cell_type": "code",
   "execution_count": 42,
   "id": "extra-dividend",
   "metadata": {
    "execution": {
     "iopub.execute_input": "2021-03-26T09:12:30.397860Z",
     "iopub.status.busy": "2021-03-26T09:12:30.397287Z",
     "iopub.status.idle": "2021-03-26T09:12:30.481669Z",
     "shell.execute_reply": "2021-03-26T09:12:30.479691Z"
    }
   },
   "outputs": [
    {
     "data": {
      "image/svg+xml": [
       "<?xml version=\"1.0\" encoding=\"UTF-8\" standalone=\"no\"?><svg xmlns=\"http://www.w3.org/2000/svg\" xmlns:xlink=\"http://www.w3.org/1999/xlink\" contentScriptType=\"application/ecmascript\" contentStyleType=\"text/css\" height=\"578px\" preserveAspectRatio=\"none\" style=\"width:408px;height:578px;\" version=\"1.1\" viewBox=\"0 0 408 578\" width=\"408px\" zoomAndPan=\"magnify\"><defs/><g><!--MD5=[fbc87193dbaf4d95561dea2c320d4a47]\n",
       "cluster E1--><a href=\"psysml:8aa028f5-1693-4b51-bff2-c94d0f18c930\" target=\"_top\" title=\"psysml:8aa028f5-1693-4b51-bff2-c94d0f18c930\" xlink:actuate=\"onRequest\" xlink:href=\"psysml:8aa028f5-1693-4b51-bff2-c94d0f18c930\" xlink:show=\"new\" xlink:title=\"psysml:8aa028f5-1693-4b51-bff2-c94d0f18c930\" xlink:type=\"simple\"><polygon fill=\"#FFFFFF\" points=\"16,6,158,6,165,28.2969,386,28.2969,386,566,16,566,16,6\" style=\"stroke: #000000; stroke-width: 1.5;\"/><line style=\"stroke: #000000; stroke-width: 1.5;\" x1=\"16\" x2=\"165\" y1=\"28.2969\" y2=\"28.2969\"/><text fill=\"#000000\" font-family=\"sans-serif\" font-size=\"14\" font-weight=\"bold\" lengthAdjust=\"spacingAndGlyphs\" textLength=\"136\" x=\"20\" y=\"20.9951\">RequirementTest</text></a><!--MD5=[b4997ac47864f28c2f74865a473b2911]\n",
       "class E2--><a href=\"psysml:27c2a771-07cf-4bde-9591-6030a1a15742\" target=\"_top\" title=\"psysml:27c2a771-07cf-4bde-9591-6030a1a15742\" xlink:actuate=\"onRequest\" xlink:href=\"psysml:27c2a771-07cf-4bde-9591-6030a1a15742\" xlink:show=\"new\" xlink:title=\"psysml:27c2a771-07cf-4bde-9591-6030a1a15742\" xlink:type=\"simple\"><rect fill=\"#FFFFFF\" height=\"45.9375\" id=\"E2\" style=\"stroke: #383838; stroke-width: 1.5;\" width=\"104\" x=\"266\" y=\"190\"/><text fill=\"#000000\" font-family=\"sans-serif\" font-size=\"12\" font-style=\"italic\" lengthAdjust=\"spacingAndGlyphs\" textLength=\"102\" x=\"267\" y=\"206.1387\">«constraint def»</text><text fill=\"#000000\" font-family=\"sans-serif\" font-size=\"12\" lengthAdjust=\"spacingAndGlyphs\" textLength=\"8\" x=\"314\" y=\"220.1074\">C</text><line style=\"stroke: #383838; stroke-width: 1.5;\" x1=\"267\" x2=\"369\" y1=\"227.9375\" y2=\"227.9375\"/></a><!--MD5=[09b614a08d8cba4a07c9adeb5e0fee81]\n",
       "class E3--><a href=\"psysml:da02b217-f155-4220-a2dc-d840d0d24f86\" target=\"_top\" title=\"psysml:da02b217-f155-4220-a2dc-d840d0d24f86\" xlink:actuate=\"onRequest\" xlink:href=\"psysml:da02b217-f155-4220-a2dc-d840d0d24f86\" xlink:show=\"new\" xlink:title=\"psysml:da02b217-f155-4220-a2dc-d840d0d24f86\" xlink:type=\"simple\"><rect fill=\"#FFFFFF\" height=\"45.9375\" id=\"E3\" rx=\"10\" ry=\"10\" style=\"stroke: #383838; stroke-width: 1.5;\" width=\"80\" x=\"290\" y=\"62\"/><text fill=\"#000000\" font-family=\"sans-serif\" font-size=\"12\" font-style=\"italic\" lengthAdjust=\"spacingAndGlyphs\" textLength=\"78\" x=\"291\" y=\"78.1387\">«constraint»</text><text fill=\"#000000\" font-family=\"sans-serif\" font-size=\"12\" lengthAdjust=\"spacingAndGlyphs\" textLength=\"23\" x=\"318.5\" y=\"92.1074\">c: C</text><line style=\"stroke: #383838; stroke-width: 1.5;\" x1=\"291\" x2=\"369\" y1=\"99.9375\" y2=\"99.9375\"/></a><!--MD5=[ebbe1d658d1005bcc118a6aa81145e00]\n",
       "class E4--><a href=\"psysml:b9a9d178-6ba0-415d-80bd-8d7e5aacf32f\" target=\"_top\" title=\"psysml:b9a9d178-6ba0-415d-80bd-8d7e5aacf32f\" xlink:actuate=\"onRequest\" xlink:href=\"psysml:b9a9d178-6ba0-415d-80bd-8d7e5aacf32f\" xlink:show=\"new\" xlink:title=\"psysml:b9a9d178-6ba0-415d-80bd-8d7e5aacf32f\" xlink:type=\"simple\"><rect fill=\"#FFFFFF\" height=\"109.1563\" id=\"E4\" style=\"stroke: #383838; stroke-width: 1.5;\" width=\"117\" x=\"32.5\" y=\"313\"/><text fill=\"#000000\" font-family=\"sans-serif\" font-size=\"12\" font-style=\"italic\" lengthAdjust=\"spacingAndGlyphs\" textLength=\"115\" x=\"33.5\" y=\"329.1387\">«requirement def»</text><text fill=\"#000000\" font-family=\"sans-serif\" font-size=\"12\" lengthAdjust=\"spacingAndGlyphs\" textLength=\"8\" x=\"87\" y=\"343.1074\">R</text><line style=\"stroke: #383838; stroke-width: 1.5;\" x1=\"33.5\" x2=\"148.5\" y1=\"350.9375\" y2=\"350.9375\"/><text fill=\"#000000\" font-family=\"sans-serif\" font-size=\"11\" lengthAdjust=\"spacingAndGlyphs\" textLength=\"0\" x=\"42.5\" y=\"365.1479\"/><line style=\"stroke: #383838; stroke-width: 1.0;\" x1=\"33.5\" x2=\"148.5\" y1=\"371.7422\" y2=\"371.7422\"/><text fill=\"#000000\" font-family=\"sans-serif\" font-size=\"11\" font-weight=\"bold\" lengthAdjust=\"spacingAndGlyphs\" textLength=\"46\" x=\"38.5\" y=\"402.7573\">require</text><text fill=\"#000000\" font-family=\"sans-serif\" font-size=\"11\" lengthAdjust=\"spacingAndGlyphs\" textLength=\"6\" x=\"88.5\" y=\"402.7573\">c</text><text fill=\"#000000\" font-family=\"sans-serif\" font-size=\"11\" font-style=\"italic\" lengthAdjust=\"spacingAndGlyphs\" textLength=\"46\" x=\"38.5\" y=\"415.562\">assume</text><text fill=\"#000000\" font-family=\"sans-serif\" font-size=\"11\" lengthAdjust=\"spacingAndGlyphs\" textLength=\"29\" x=\"88.5\" y=\"415.562\">c1: C</text><line style=\"stroke: #383838; stroke-width: 1.0;\" x1=\"33.5\" x2=\"59\" y1=\"386.1445\" y2=\"386.1445\"/><text fill=\"#000000\" font-family=\"sans-serif\" font-size=\"11\" lengthAdjust=\"spacingAndGlyphs\" textLength=\"64\" x=\"59\" y=\"389.4526\">constraints</text><line style=\"stroke: #383838; stroke-width: 1.0;\" x1=\"123\" x2=\"148.5\" y1=\"386.1445\" y2=\"386.1445\"/></a><!--MD5=[270fce915f116d4de14055a7c1d9a0f3]\n",
       "class E5--><a href=\"psysml:5c4fbfc6-6feb-457a-9610-da755776e124\" target=\"_top\" title=\"psysml:5c4fbfc6-6feb-457a-9610-da755776e124\" xlink:actuate=\"onRequest\" xlink:href=\"psysml:5c4fbfc6-6feb-457a-9610-da755776e124\" xlink:show=\"new\" xlink:title=\"psysml:5c4fbfc6-6feb-457a-9610-da755776e124\" xlink:type=\"simple\"><rect fill=\"#FFFFFF\" height=\"66.7422\" id=\"E5\" style=\"stroke: #383838; stroke-width: 1.5;\" width=\"117\" x=\"32.5\" y=\"483\"/><text fill=\"#000000\" font-family=\"sans-serif\" font-size=\"12\" font-style=\"italic\" lengthAdjust=\"spacingAndGlyphs\" textLength=\"115\" x=\"33.5\" y=\"499.1387\">«requirement def»</text><text fill=\"#000000\" font-family=\"sans-serif\" font-size=\"12\" lengthAdjust=\"spacingAndGlyphs\" textLength=\"5\" x=\"78\" y=\"513.1074\">[</text><text fill=\"#000000\" font-family=\"sans-serif\" font-size=\"12\" font-weight=\"bold\" lengthAdjust=\"spacingAndGlyphs\" textLength=\"8\" x=\"83\" y=\"513.1074\">1</text><text fill=\"#000000\" font-family=\"sans-serif\" font-size=\"12\" lengthAdjust=\"spacingAndGlyphs\" textLength=\"17\" x=\"91\" y=\"513.1074\">] A</text><line style=\"stroke: #383838; stroke-width: 1.5;\" x1=\"33.5\" x2=\"148.5\" y1=\"520.9375\" y2=\"520.9375\"/><text fill=\"#000000\" font-family=\"sans-serif\" font-size=\"11\" lengthAdjust=\"spacingAndGlyphs\" textLength=\"24\" x=\"38.5\" y=\"535.1479\">Text</text><line style=\"stroke: #383838; stroke-width: 1.0;\" x1=\"33.5\" x2=\"148.5\" y1=\"541.7422\" y2=\"541.7422\"/></a><!--MD5=[b9389687b975829384b498ac4b7476b2]\n",
       "class E8--><a href=\"psysml:577c6bec-7675-4e65-a136-10b226b9020a\" target=\"_top\" title=\"psysml:577c6bec-7675-4e65-a136-10b226b9020a\" xlink:actuate=\"onRequest\" xlink:href=\"psysml:577c6bec-7675-4e65-a136-10b226b9020a\" xlink:show=\"new\" xlink:title=\"psysml:577c6bec-7675-4e65-a136-10b226b9020a\" xlink:type=\"simple\"><rect fill=\"#FFFFFF\" height=\"45.9375\" id=\"E8\" rx=\"10\" ry=\"10\" style=\"stroke: #383838; stroke-width: 1.5;\" width=\"93\" x=\"184.5\" y=\"493.5\"/><text fill=\"#000000\" font-family=\"sans-serif\" font-size=\"12\" font-style=\"italic\" lengthAdjust=\"spacingAndGlyphs\" textLength=\"91\" x=\"185.5\" y=\"509.6387\">«requirement»</text><text fill=\"#000000\" font-family=\"sans-serif\" font-size=\"12\" lengthAdjust=\"spacingAndGlyphs\" text-decoration=\"line-through\" textLength=\"51\" x=\"205.5\" y=\"523.6074\">noname</text><line style=\"stroke: #383838; stroke-width: 1.5;\" x1=\"185.5\" x2=\"276.5\" y1=\"531.4375\" y2=\"531.4375\"/></a><!--MD5=[fd4143e9d270a159db93a4ea2a975926]\n",
       "class E9--><a href=\"psysml:291c6c45-8332-45a6-809f-574961a49898\" target=\"_top\" title=\"psysml:291c6c45-8332-45a6-809f-574961a49898\" xlink:actuate=\"onRequest\" xlink:href=\"psysml:291c6c45-8332-45a6-809f-574961a49898\" xlink:show=\"new\" xlink:title=\"psysml:291c6c45-8332-45a6-809f-574961a49898\" xlink:type=\"simple\"><rect fill=\"#FFFFFF\" height=\"88.3516\" id=\"E9\" style=\"stroke: #383838; stroke-width: 1.5;\" width=\"145\" x=\"109.5\" y=\"41\"/><text fill=\"#000000\" font-family=\"sans-serif\" font-size=\"12\" font-style=\"italic\" lengthAdjust=\"spacingAndGlyphs\" textLength=\"115\" x=\"124.5\" y=\"57.1387\">«requirement def»</text><text fill=\"#000000\" font-family=\"sans-serif\" font-size=\"12\" lengthAdjust=\"spacingAndGlyphs\" textLength=\"16\" x=\"174\" y=\"71.1074\">R1</text><line style=\"stroke: #383838; stroke-width: 1.5;\" x1=\"110.5\" x2=\"253.5\" y1=\"78.9375\" y2=\"78.9375\"/><text fill=\"#000000\" font-family=\"sans-serif\" font-size=\"11\" font-weight=\"bold\" lengthAdjust=\"spacingAndGlyphs\" textLength=\"46\" x=\"115.5\" y=\"109.9526\">require</text><text fill=\"#000000\" font-family=\"sans-serif\" font-size=\"11\" lengthAdjust=\"spacingAndGlyphs\" textLength=\"13\" x=\"165.5\" y=\"109.9526\">c1</text><text fill=\"#000000\" font-family=\"sans-serif\" font-size=\"11\" font-style=\"italic\" lengthAdjust=\"spacingAndGlyphs\" textLength=\"133\" x=\"115.5\" y=\"122.7573\">:&gt;&gt;RequirementTest::c</text><line style=\"stroke: #383838; stroke-width: 1.0;\" x1=\"110.5\" x2=\"150\" y1=\"93.3398\" y2=\"93.3398\"/><text fill=\"#000000\" font-family=\"sans-serif\" font-size=\"11\" lengthAdjust=\"spacingAndGlyphs\" textLength=\"64\" x=\"150\" y=\"96.6479\">constraints</text><line style=\"stroke: #383838; stroke-width: 1.0;\" x1=\"214\" x2=\"253.5\" y1=\"93.3398\" y2=\"93.3398\"/></a><!--MD5=[1dd1bfd58a279cf63c5f349dbc8fc6a1]\n",
       "class E11--><a href=\"psysml:b7118396-8822-4234-af4f-531e34fd2b85\" target=\"_top\" title=\"psysml:b7118396-8822-4234-af4f-531e34fd2b85\" xlink:actuate=\"onRequest\" xlink:href=\"psysml:b7118396-8822-4234-af4f-531e34fd2b85\" xlink:show=\"new\" xlink:title=\"psysml:b7118396-8822-4234-af4f-531e34fd2b85\" xlink:type=\"simple\"><rect fill=\"#FFFFFF\" height=\"45.9375\" id=\"E11\" rx=\"10\" ry=\"10\" style=\"stroke: #383838; stroke-width: 1.5;\" width=\"42\" x=\"185\" y=\"344.5\"/><text fill=\"#000000\" font-family=\"sans-serif\" font-size=\"12\" font-style=\"italic\" lengthAdjust=\"spacingAndGlyphs\" textLength=\"40\" x=\"186\" y=\"360.6387\">«part»</text><text fill=\"#000000\" font-family=\"sans-serif\" font-size=\"12\" lengthAdjust=\"spacingAndGlyphs\" textLength=\"8\" x=\"202\" y=\"374.6074\">p</text><line style=\"stroke: #383838; stroke-width: 1.5;\" x1=\"186\" x2=\"226\" y1=\"382.4375\" y2=\"382.4375\"/></a><!--MD5=[49a0ec8f00dab7302a31f22d0f0fe584]\n",
       "class E12--><a href=\"psysml:5710aa92-7822-41e6-89ae-9d2d61cb8bf3\" target=\"_top\" title=\"psysml:5710aa92-7822-41e6-89ae-9d2d61cb8bf3\" xlink:actuate=\"onRequest\" xlink:href=\"psysml:5710aa92-7822-41e6-89ae-9d2d61cb8bf3\" xlink:show=\"new\" xlink:title=\"psysml:5710aa92-7822-41e6-89ae-9d2d61cb8bf3\" xlink:type=\"simple\"><rect fill=\"#FFFFFF\" height=\"45.9375\" id=\"E12\" rx=\"10\" ry=\"10\" style=\"stroke: #383838; stroke-width: 1.5;\" width=\"42\" x=\"32\" y=\"62\"/><text fill=\"#000000\" font-family=\"sans-serif\" font-size=\"12\" font-style=\"italic\" lengthAdjust=\"spacingAndGlyphs\" textLength=\"40\" x=\"33\" y=\"78.1387\">«part»</text><text fill=\"#000000\" font-family=\"sans-serif\" font-size=\"12\" lengthAdjust=\"spacingAndGlyphs\" textLength=\"8\" x=\"49\" y=\"92.1074\">q</text><line style=\"stroke: #383838; stroke-width: 1.5;\" x1=\"33\" x2=\"73\" y1=\"99.9375\" y2=\"99.9375\"/></a><!--MD5=[ee3c913d1a06f366521f9ef512b67efe]\n",
       "class E13--><a href=\"psysml:b72900fb-e3ca-4439-ac22-acb3bf892de5\" target=\"_top\" title=\"psysml:b72900fb-e3ca-4439-ac22-acb3bf892de5\" xlink:actuate=\"onRequest\" xlink:href=\"psysml:b72900fb-e3ca-4439-ac22-acb3bf892de5\" xlink:show=\"new\" xlink:title=\"psysml:b72900fb-e3ca-4439-ac22-acb3bf892de5\" xlink:type=\"simple\"><rect fill=\"#FFFFFF\" height=\"45.9375\" id=\"E13\" rx=\"10\" ry=\"10\" style=\"stroke: #383838; stroke-width: 1.5;\" width=\"93\" x=\"44.5\" y=\"190\"/><text fill=\"#000000\" font-family=\"sans-serif\" font-size=\"12\" font-style=\"italic\" lengthAdjust=\"spacingAndGlyphs\" textLength=\"91\" x=\"45.5\" y=\"206.1387\">«requirement»</text><text fill=\"#000000\" font-family=\"sans-serif\" font-size=\"12\" lengthAdjust=\"spacingAndGlyphs\" textLength=\"21\" x=\"80.5\" y=\"220.1074\">r: R</text><line style=\"stroke: #383838; stroke-width: 1.5;\" x1=\"45.5\" x2=\"136.5\" y1=\"227.9375\" y2=\"227.9375\"/></a><!--MD5=[05d275557350bfb9b23a4ef7222b4c39]\n",
       "link E3 to E2--><a href=\"psysml:8b4534c8-c65f-4721-aa95-1aefa1ee4858\" target=\"_top\" title=\"psysml:8b4534c8-c65f-4721-aa95-1aefa1ee4858\" xlink:actuate=\"onRequest\" xlink:href=\"psysml:8b4534c8-c65f-4721-aa95-1aefa1ee4858\" xlink:show=\"new\" xlink:title=\"psysml:8b4534c8-c65f-4721-aa95-1aefa1ee4858\" xlink:type=\"simple\"><path d=\"M327.88,108.24 C326.26,125.24 323.98,149.19 322.02,169.79 \" fill=\"none\" id=\"E3-&gt;E2\" style=\"stroke: #383838; stroke-width: 1.0;\"/><polygon fill=\"#FFFFFF\" points=\"320.1,189.99,314.9362,170.411,328.8729,171.7407,320.1,189.99\" style=\"stroke: #383838; stroke-width: 1.0;\"/><ellipse cx=\"317.4685\" cy=\"164.9268\" fill=\"#383838\" rx=\"2\" ry=\"2\" style=\"stroke: #383838; stroke-width: 1.0;\"/><ellipse cx=\"327.4233\" cy=\"165.8765\" fill=\"#383838\" rx=\"2\" ry=\"2\" style=\"stroke: #383838; stroke-width: 1.0;\"/></a><!--MD5=[62aa6af11e70f752912c1cb0466f24f7]\n",
       "reverse link E4 to E5--><a href=\"psysml:5c4fbfc6-6feb-457a-9610-da755776e124\" target=\"_top\" title=\"psysml:5c4fbfc6-6feb-457a-9610-da755776e124\" xlink:actuate=\"onRequest\" xlink:href=\"psysml:5c4fbfc6-6feb-457a-9610-da755776e124\" xlink:show=\"new\" xlink:title=\"psysml:5c4fbfc6-6feb-457a-9610-da755776e124\" xlink:type=\"simple\"><path d=\"M91,437.45 C91,453.34 91,469.51 91,482.98 \" fill=\"none\" id=\"E4&lt;-E5\" style=\"stroke: #383838; stroke-width: 1.0;\"/><ellipse cx=\"91\" cy=\"430.4\" fill=\"#FFFFFF\" rx=\"8\" ry=\"8\" style=\"stroke: #383838; stroke-width: 1.0;\"/><line style=\"stroke: #383838; stroke-width: 1.0;\" x1=\"91\" x2=\"91\" y1=\"438.4\" y2=\"422.4\"/><line style=\"stroke: #383838; stroke-width: 1.0;\" x1=\"83\" x2=\"99\" y1=\"430.4\" y2=\"430.4\"/></a><!--MD5=[c6fc7cdb0cabde04948078cf183fa696]\n",
       "reverse link E4 to E8--><a href=\"psysml:577c6bec-7675-4e65-a136-10b226b9020a\" target=\"_top\" title=\"psysml:577c6bec-7675-4e65-a136-10b226b9020a\" xlink:actuate=\"onRequest\" xlink:href=\"psysml:577c6bec-7675-4e65-a136-10b226b9020a\" xlink:show=\"new\" xlink:title=\"psysml:577c6bec-7675-4e65-a136-10b226b9020a\" xlink:type=\"simple\"><path d=\"M151.51,432.04 C172.42,453.99 194.47,477.14 210.03,493.48 \" fill=\"none\" id=\"E4&lt;-E8\" style=\"stroke: #383838; stroke-width: 1.0;\"/><polygon fill=\"#383838\" points=\"142.34,422.4,143.5779,429.5041,150.6116,431.0937,149.3737,423.9897,142.34,422.4\" style=\"stroke: #383838; stroke-width: 1.0;\"/></a><!--MD5=[062ed86c389d1a88f61c6380d0491e17]\n",
       "reverse link E12 to E13--><a href=\"psysml:b72900fb-e3ca-4439-ac22-acb3bf892de5\" target=\"_top\" title=\"psysml:b72900fb-e3ca-4439-ac22-acb3bf892de5\" xlink:actuate=\"onRequest\" xlink:href=\"psysml:b72900fb-e3ca-4439-ac22-acb3bf892de5\" xlink:show=\"new\" xlink:title=\"psysml:b72900fb-e3ca-4439-ac22-acb3bf892de5\" xlink:type=\"simple\"><path d=\"M63.49,120.8 C70.17,142.92 78.6,170.89 84.36,189.99 \" fill=\"none\" id=\"E12&lt;-E13\" style=\"stroke: #383838; stroke-width: 1.0;\"/><polygon fill=\"#383838\" points=\"59.71,108.24,57.6129,115.1394,63.1751,119.7288,65.2722,112.8294,59.71,108.24\" style=\"stroke: #383838; stroke-width: 1.0;\"/></a><!--MD5=[017847e01ff9a8bd19f247411074f987]\n",
       "link E13 to E4--><a href=\"psysml:ed6e641a-605b-4ed9-9064-d41509e7ab16\" target=\"_top\" title=\"psysml:ed6e641a-605b-4ed9-9064-d41509e7ab16\" xlink:actuate=\"onRequest\" xlink:href=\"psysml:ed6e641a-605b-4ed9-9064-d41509e7ab16\" xlink:show=\"new\" xlink:title=\"psysml:ed6e641a-605b-4ed9-9064-d41509e7ab16\" xlink:type=\"simple\"><path d=\"M91,236.17 C91,251.17 91,271.91 91,292.44 \" fill=\"none\" id=\"E13-&gt;E4\" style=\"stroke: #383838; stroke-width: 1.0;\"/><polygon fill=\"#FFFFFF\" points=\"91,312.68,84,293.68,98,293.68,91,312.68\" style=\"stroke: #383838; stroke-width: 1.0;\"/><ellipse cx=\"86\" cy=\"287.98\" fill=\"#383838\" rx=\"2\" ry=\"2\" style=\"stroke: #383838; stroke-width: 1.0;\"/><ellipse cx=\"96\" cy=\"287.98\" fill=\"#383838\" rx=\"2\" ry=\"2\" style=\"stroke: #383838; stroke-width: 1.0;\"/></a><!--MD5=[2cfe899c895462254056921bfb67315f]\n",
       "link E13 to E11--><a href=\"psysml:11f1a2a5-a4e7-4875-8b16-7052fd317758\" target=\"_top\" title=\"psysml:11f1a2a5-a4e7-4875-8b16-7052fd317758\" xlink:actuate=\"onRequest\" xlink:href=\"psysml:11f1a2a5-a4e7-4875-8b16-7052fd317758\" xlink:show=\"new\" xlink:title=\"psysml:11f1a2a5-a4e7-4875-8b16-7052fd317758\" xlink:type=\"simple\"><path d=\"M108.36,236.29 C123.87,256.28 147.14,286.45 167,313 C173.57,321.78 180.66,331.44 186.97,340.12 \" fill=\"none\" id=\"E13-&gt;E11\" style=\"stroke: #383838; stroke-width: 1.0; stroke-dasharray: 7.0,7.0;\"/><polygon fill=\"#383838\" points=\"189.99,344.28,187.9274,334.6496,187.0474,340.2376,181.4594,339.3576,189.99,344.28\" style=\"stroke: #383838; stroke-width: 1.0;\"/><text fill=\"#000000\" font-family=\"sans-serif\" font-size=\"13\" lengthAdjust=\"spacingAndGlyphs\" textLength=\"57\" x=\"145\" y=\"279.0669\">«satisfy»</text></a><!--MD5=[498aefe384e998bec6bcdf8920d301de]\n",
       "@startuml\r\n",
       "skinparam monochrome true\r\n",
       "skinparam classbackgroundcolor white\r\n",
       "skinparam shadowing false\r\n",
       "skinparam wrapWidth 300\r\n",
       "hide circle\r\n",
       "\r\n",
       "package \"RequirementTest\" as E1  [[psysml:8aa028f5-1693-4b51-bff2-c94d0f18c930 ]]  {\r\n",
       "comp def \"C\" as E2  <<(T,blue)constraint def>> [[psysml:27c2a771-07cf-4bde-9591-6030a1a15742 ]] {\r\n",
       "}\r\n",
       "comp usage \"c: C\" as E3  <<(T,blue)constraint>> [[psysml:da02b217-f155-4220-a2dc-d840d0d24f86 ]] {\r\n",
       "}\r\n",
       "comp def \"R\" as E4  <<(T,blue)requirement def>> [[psysml:b9a9d178-6ba0-415d-80bd-8d7e5aacf32f ]] {\r\n",
       "\r\n",
       "- -\r\n",
       "- - constraints - -\r\n",
       "<b>require</b> c\r\n",
       "<i>assume</i> c1: C\r\n",
       "}\r\n",
       "comp def \" [<b>1</b>] A\" as E5  <<(T,blue)requirement def>> [[psysml:5c4fbfc6-6feb-457a-9610-da755776e124 ]] {\r\n",
       "Text\r\n",
       "- -\r\n",
       "}\r\n",
       "comp usage \"<s>noname</s>\" as E8  <<(T,blue)requirement>> [[psysml:577c6bec-7675-4e65-a136-10b226b9020a ]] {\r\n",
       "}\r\n",
       "comp def \"R1\" as E9  <<(T,blue)requirement def>> [[psysml:291c6c45-8332-45a6-809f-574961a49898 ]] {\r\n",
       "- - constraints - -\r\n",
       "<b>require</b> c1\\n//:>>RequirementTest::c// \r\n",
       "}\r\n",
       "comp usage \"p\" as E11  <<(T,blue)part>> [[psysml:b7118396-8822-4234-af4f-531e34fd2b85 ]] {\r\n",
       "}\r\n",
       "comp usage \"q\" as E12  <<(T,blue)part>> [[psysml:5710aa92-7822-41e6-89ae-9d2d61cb8bf3 ]] {\r\n",
       "}\r\n",
       "comp usage \"r: R\" as E13  <<(T,blue)requirement>> [[psysml:b72900fb-e3ca-4439-ac22-acb3bf892de5 ]] {\r\n",
       "}\r\n",
       "E3 - -:|> E2 [[psysml:8b4534c8-c65f-4721-aa95-1aefa1ee4858 ]] \r\n",
       "E4 +- - E5 [[psysml:5c4fbfc6-6feb-457a-9610-da755776e124 ]] \r\n",
       "E4 *- - E8 [[psysml:577c6bec-7675-4e65-a136-10b226b9020a ]] \r\n",
       "E12 *- - E13 [[psysml:b72900fb-e3ca-4439-ac22-acb3bf892de5 ]] \r\n",
       "E13 - -:|> E4 [[psysml:ed6e641a-605b-4ed9-9064-d41509e7ab16 ]] \r\n",
       "E13 ..> E11 [[psysml:11f1a2a5-a4e7-4875-8b16-7052fd317758 ]] : <<satisfy>>\r\n",
       "}\r\n",
       "@enduml\r\n",
       "\n",
       "PlantUML version 1.2020.13(Sat Jun 13 12:26:38 UTC 2020)\n",
       "(EPL source distribution)\n",
       "Java Runtime: OpenJDK Runtime Environment\n",
       "JVM: OpenJDK 64-Bit Server VM\n",
       "Default Encoding: UTF-8\n",
       "Language: en\n",
       "Country: null\n",
       "--></g></svg>"
      ]
     },
     "execution_count": 42,
     "metadata": {},
     "output_type": "execute_result"
    }
   ],
   "source": [
    "%viz --style=\"DEFAULT\" --view=\"Sequence\" \"RequirementTest\""
   ]
  },
  {
   "cell_type": "code",
   "execution_count": 43,
   "id": "adult-nicholas",
   "metadata": {
    "execution": {
     "iopub.execute_input": "2021-03-26T09:12:30.531260Z",
     "iopub.status.busy": "2021-03-26T09:12:30.530928Z",
     "iopub.status.idle": "2021-03-26T09:12:30.612097Z",
     "shell.execute_reply": "2021-03-26T09:12:30.610637Z"
    }
   },
   "outputs": [
    {
     "data": {
      "image/svg+xml": [
       "<?xml version=\"1.0\" encoding=\"UTF-8\" standalone=\"no\"?><svg xmlns=\"http://www.w3.org/2000/svg\" xmlns:xlink=\"http://www.w3.org/1999/xlink\" contentScriptType=\"application/ecmascript\" contentStyleType=\"text/css\" height=\"578px\" preserveAspectRatio=\"none\" style=\"width:408px;height:578px;\" version=\"1.1\" viewBox=\"0 0 408 578\" width=\"408px\" zoomAndPan=\"magnify\"><defs/><g><!--MD5=[fbc87193dbaf4d95561dea2c320d4a47]\n",
       "cluster E1--><a href=\"psysml:8aa028f5-1693-4b51-bff2-c94d0f18c930\" target=\"_top\" title=\"psysml:8aa028f5-1693-4b51-bff2-c94d0f18c930\" xlink:actuate=\"onRequest\" xlink:href=\"psysml:8aa028f5-1693-4b51-bff2-c94d0f18c930\" xlink:show=\"new\" xlink:title=\"psysml:8aa028f5-1693-4b51-bff2-c94d0f18c930\" xlink:type=\"simple\"><polygon fill=\"#FFFFFF\" points=\"16,6,158,6,165,28.2969,386,28.2969,386,566,16,566,16,6\" style=\"stroke: #000000; stroke-width: 1.5;\"/><line style=\"stroke: #000000; stroke-width: 1.5;\" x1=\"16\" x2=\"165\" y1=\"28.2969\" y2=\"28.2969\"/><text fill=\"#000000\" font-family=\"sans-serif\" font-size=\"14\" font-weight=\"bold\" lengthAdjust=\"spacingAndGlyphs\" textLength=\"136\" x=\"20\" y=\"20.9951\">RequirementTest</text></a><!--MD5=[b4997ac47864f28c2f74865a473b2911]\n",
       "class E2--><a href=\"psysml:27c2a771-07cf-4bde-9591-6030a1a15742\" target=\"_top\" title=\"psysml:27c2a771-07cf-4bde-9591-6030a1a15742\" xlink:actuate=\"onRequest\" xlink:href=\"psysml:27c2a771-07cf-4bde-9591-6030a1a15742\" xlink:show=\"new\" xlink:title=\"psysml:27c2a771-07cf-4bde-9591-6030a1a15742\" xlink:type=\"simple\"><rect fill=\"#FFFFFF\" height=\"45.9375\" id=\"E2\" style=\"stroke: #383838; stroke-width: 1.5;\" width=\"104\" x=\"266\" y=\"190\"/><text fill=\"#000000\" font-family=\"sans-serif\" font-size=\"12\" font-style=\"italic\" lengthAdjust=\"spacingAndGlyphs\" textLength=\"102\" x=\"267\" y=\"206.1387\">«constraint def»</text><text fill=\"#000000\" font-family=\"sans-serif\" font-size=\"12\" lengthAdjust=\"spacingAndGlyphs\" textLength=\"8\" x=\"314\" y=\"220.1074\">C</text><line style=\"stroke: #383838; stroke-width: 1.5;\" x1=\"267\" x2=\"369\" y1=\"227.9375\" y2=\"227.9375\"/></a><!--MD5=[09b614a08d8cba4a07c9adeb5e0fee81]\n",
       "class E3--><a href=\"psysml:da02b217-f155-4220-a2dc-d840d0d24f86\" target=\"_top\" title=\"psysml:da02b217-f155-4220-a2dc-d840d0d24f86\" xlink:actuate=\"onRequest\" xlink:href=\"psysml:da02b217-f155-4220-a2dc-d840d0d24f86\" xlink:show=\"new\" xlink:title=\"psysml:da02b217-f155-4220-a2dc-d840d0d24f86\" xlink:type=\"simple\"><rect fill=\"#FFFFFF\" height=\"45.9375\" id=\"E3\" rx=\"10\" ry=\"10\" style=\"stroke: #383838; stroke-width: 1.5;\" width=\"80\" x=\"290\" y=\"62\"/><text fill=\"#000000\" font-family=\"sans-serif\" font-size=\"12\" font-style=\"italic\" lengthAdjust=\"spacingAndGlyphs\" textLength=\"78\" x=\"291\" y=\"78.1387\">«constraint»</text><text fill=\"#000000\" font-family=\"sans-serif\" font-size=\"12\" lengthAdjust=\"spacingAndGlyphs\" textLength=\"23\" x=\"318.5\" y=\"92.1074\">c: C</text><line style=\"stroke: #383838; stroke-width: 1.5;\" x1=\"291\" x2=\"369\" y1=\"99.9375\" y2=\"99.9375\"/></a><!--MD5=[ebbe1d658d1005bcc118a6aa81145e00]\n",
       "class E4--><a href=\"psysml:b9a9d178-6ba0-415d-80bd-8d7e5aacf32f\" target=\"_top\" title=\"psysml:b9a9d178-6ba0-415d-80bd-8d7e5aacf32f\" xlink:actuate=\"onRequest\" xlink:href=\"psysml:b9a9d178-6ba0-415d-80bd-8d7e5aacf32f\" xlink:show=\"new\" xlink:title=\"psysml:b9a9d178-6ba0-415d-80bd-8d7e5aacf32f\" xlink:type=\"simple\"><rect fill=\"#FFFFFF\" height=\"109.1563\" id=\"E4\" style=\"stroke: #383838; stroke-width: 1.5;\" width=\"117\" x=\"32.5\" y=\"313\"/><text fill=\"#000000\" font-family=\"sans-serif\" font-size=\"12\" font-style=\"italic\" lengthAdjust=\"spacingAndGlyphs\" textLength=\"115\" x=\"33.5\" y=\"329.1387\">«requirement def»</text><text fill=\"#000000\" font-family=\"sans-serif\" font-size=\"12\" lengthAdjust=\"spacingAndGlyphs\" textLength=\"8\" x=\"87\" y=\"343.1074\">R</text><line style=\"stroke: #383838; stroke-width: 1.5;\" x1=\"33.5\" x2=\"148.5\" y1=\"350.9375\" y2=\"350.9375\"/><text fill=\"#000000\" font-family=\"sans-serif\" font-size=\"11\" lengthAdjust=\"spacingAndGlyphs\" textLength=\"0\" x=\"42.5\" y=\"365.1479\"/><line style=\"stroke: #383838; stroke-width: 1.0;\" x1=\"33.5\" x2=\"148.5\" y1=\"371.7422\" y2=\"371.7422\"/><text fill=\"#000000\" font-family=\"sans-serif\" font-size=\"11\" font-weight=\"bold\" lengthAdjust=\"spacingAndGlyphs\" textLength=\"46\" x=\"38.5\" y=\"402.7573\">require</text><text fill=\"#000000\" font-family=\"sans-serif\" font-size=\"11\" lengthAdjust=\"spacingAndGlyphs\" textLength=\"6\" x=\"88.5\" y=\"402.7573\">c</text><text fill=\"#000000\" font-family=\"sans-serif\" font-size=\"11\" font-style=\"italic\" lengthAdjust=\"spacingAndGlyphs\" textLength=\"46\" x=\"38.5\" y=\"415.562\">assume</text><text fill=\"#000000\" font-family=\"sans-serif\" font-size=\"11\" lengthAdjust=\"spacingAndGlyphs\" textLength=\"29\" x=\"88.5\" y=\"415.562\">c1: C</text><line style=\"stroke: #383838; stroke-width: 1.0;\" x1=\"33.5\" x2=\"59\" y1=\"386.1445\" y2=\"386.1445\"/><text fill=\"#000000\" font-family=\"sans-serif\" font-size=\"11\" lengthAdjust=\"spacingAndGlyphs\" textLength=\"64\" x=\"59\" y=\"389.4526\">constraints</text><line style=\"stroke: #383838; stroke-width: 1.0;\" x1=\"123\" x2=\"148.5\" y1=\"386.1445\" y2=\"386.1445\"/></a><!--MD5=[270fce915f116d4de14055a7c1d9a0f3]\n",
       "class E5--><a href=\"psysml:5c4fbfc6-6feb-457a-9610-da755776e124\" target=\"_top\" title=\"psysml:5c4fbfc6-6feb-457a-9610-da755776e124\" xlink:actuate=\"onRequest\" xlink:href=\"psysml:5c4fbfc6-6feb-457a-9610-da755776e124\" xlink:show=\"new\" xlink:title=\"psysml:5c4fbfc6-6feb-457a-9610-da755776e124\" xlink:type=\"simple\"><rect fill=\"#FFFFFF\" height=\"66.7422\" id=\"E5\" style=\"stroke: #383838; stroke-width: 1.5;\" width=\"117\" x=\"32.5\" y=\"483\"/><text fill=\"#000000\" font-family=\"sans-serif\" font-size=\"12\" font-style=\"italic\" lengthAdjust=\"spacingAndGlyphs\" textLength=\"115\" x=\"33.5\" y=\"499.1387\">«requirement def»</text><text fill=\"#000000\" font-family=\"sans-serif\" font-size=\"12\" lengthAdjust=\"spacingAndGlyphs\" textLength=\"5\" x=\"78\" y=\"513.1074\">[</text><text fill=\"#000000\" font-family=\"sans-serif\" font-size=\"12\" font-weight=\"bold\" lengthAdjust=\"spacingAndGlyphs\" textLength=\"8\" x=\"83\" y=\"513.1074\">1</text><text fill=\"#000000\" font-family=\"sans-serif\" font-size=\"12\" lengthAdjust=\"spacingAndGlyphs\" textLength=\"17\" x=\"91\" y=\"513.1074\">] A</text><line style=\"stroke: #383838; stroke-width: 1.5;\" x1=\"33.5\" x2=\"148.5\" y1=\"520.9375\" y2=\"520.9375\"/><text fill=\"#000000\" font-family=\"sans-serif\" font-size=\"11\" lengthAdjust=\"spacingAndGlyphs\" textLength=\"24\" x=\"38.5\" y=\"535.1479\">Text</text><line style=\"stroke: #383838; stroke-width: 1.0;\" x1=\"33.5\" x2=\"148.5\" y1=\"541.7422\" y2=\"541.7422\"/></a><!--MD5=[b9389687b975829384b498ac4b7476b2]\n",
       "class E8--><a href=\"psysml:577c6bec-7675-4e65-a136-10b226b9020a\" target=\"_top\" title=\"psysml:577c6bec-7675-4e65-a136-10b226b9020a\" xlink:actuate=\"onRequest\" xlink:href=\"psysml:577c6bec-7675-4e65-a136-10b226b9020a\" xlink:show=\"new\" xlink:title=\"psysml:577c6bec-7675-4e65-a136-10b226b9020a\" xlink:type=\"simple\"><rect fill=\"#FFFFFF\" height=\"45.9375\" id=\"E8\" rx=\"10\" ry=\"10\" style=\"stroke: #383838; stroke-width: 1.5;\" width=\"93\" x=\"184.5\" y=\"493.5\"/><text fill=\"#000000\" font-family=\"sans-serif\" font-size=\"12\" font-style=\"italic\" lengthAdjust=\"spacingAndGlyphs\" textLength=\"91\" x=\"185.5\" y=\"509.6387\">«requirement»</text><text fill=\"#000000\" font-family=\"sans-serif\" font-size=\"12\" lengthAdjust=\"spacingAndGlyphs\" text-decoration=\"line-through\" textLength=\"51\" x=\"205.5\" y=\"523.6074\">noname</text><line style=\"stroke: #383838; stroke-width: 1.5;\" x1=\"185.5\" x2=\"276.5\" y1=\"531.4375\" y2=\"531.4375\"/></a><!--MD5=[fd4143e9d270a159db93a4ea2a975926]\n",
       "class E9--><a href=\"psysml:291c6c45-8332-45a6-809f-574961a49898\" target=\"_top\" title=\"psysml:291c6c45-8332-45a6-809f-574961a49898\" xlink:actuate=\"onRequest\" xlink:href=\"psysml:291c6c45-8332-45a6-809f-574961a49898\" xlink:show=\"new\" xlink:title=\"psysml:291c6c45-8332-45a6-809f-574961a49898\" xlink:type=\"simple\"><rect fill=\"#FFFFFF\" height=\"88.3516\" id=\"E9\" style=\"stroke: #383838; stroke-width: 1.5;\" width=\"145\" x=\"109.5\" y=\"41\"/><text fill=\"#000000\" font-family=\"sans-serif\" font-size=\"12\" font-style=\"italic\" lengthAdjust=\"spacingAndGlyphs\" textLength=\"115\" x=\"124.5\" y=\"57.1387\">«requirement def»</text><text fill=\"#000000\" font-family=\"sans-serif\" font-size=\"12\" lengthAdjust=\"spacingAndGlyphs\" textLength=\"16\" x=\"174\" y=\"71.1074\">R1</text><line style=\"stroke: #383838; stroke-width: 1.5;\" x1=\"110.5\" x2=\"253.5\" y1=\"78.9375\" y2=\"78.9375\"/><text fill=\"#000000\" font-family=\"sans-serif\" font-size=\"11\" font-weight=\"bold\" lengthAdjust=\"spacingAndGlyphs\" textLength=\"46\" x=\"115.5\" y=\"109.9526\">require</text><text fill=\"#000000\" font-family=\"sans-serif\" font-size=\"11\" lengthAdjust=\"spacingAndGlyphs\" textLength=\"13\" x=\"165.5\" y=\"109.9526\">c1</text><text fill=\"#000000\" font-family=\"sans-serif\" font-size=\"11\" font-style=\"italic\" lengthAdjust=\"spacingAndGlyphs\" textLength=\"133\" x=\"115.5\" y=\"122.7573\">:&gt;&gt;RequirementTest::c</text><line style=\"stroke: #383838; stroke-width: 1.0;\" x1=\"110.5\" x2=\"150\" y1=\"93.3398\" y2=\"93.3398\"/><text fill=\"#000000\" font-family=\"sans-serif\" font-size=\"11\" lengthAdjust=\"spacingAndGlyphs\" textLength=\"64\" x=\"150\" y=\"96.6479\">constraints</text><line style=\"stroke: #383838; stroke-width: 1.0;\" x1=\"214\" x2=\"253.5\" y1=\"93.3398\" y2=\"93.3398\"/></a><!--MD5=[1dd1bfd58a279cf63c5f349dbc8fc6a1]\n",
       "class E11--><a href=\"psysml:b7118396-8822-4234-af4f-531e34fd2b85\" target=\"_top\" title=\"psysml:b7118396-8822-4234-af4f-531e34fd2b85\" xlink:actuate=\"onRequest\" xlink:href=\"psysml:b7118396-8822-4234-af4f-531e34fd2b85\" xlink:show=\"new\" xlink:title=\"psysml:b7118396-8822-4234-af4f-531e34fd2b85\" xlink:type=\"simple\"><rect fill=\"#FFFFFF\" height=\"45.9375\" id=\"E11\" rx=\"10\" ry=\"10\" style=\"stroke: #383838; stroke-width: 1.5;\" width=\"42\" x=\"185\" y=\"344.5\"/><text fill=\"#000000\" font-family=\"sans-serif\" font-size=\"12\" font-style=\"italic\" lengthAdjust=\"spacingAndGlyphs\" textLength=\"40\" x=\"186\" y=\"360.6387\">«part»</text><text fill=\"#000000\" font-family=\"sans-serif\" font-size=\"12\" lengthAdjust=\"spacingAndGlyphs\" textLength=\"8\" x=\"202\" y=\"374.6074\">p</text><line style=\"stroke: #383838; stroke-width: 1.5;\" x1=\"186\" x2=\"226\" y1=\"382.4375\" y2=\"382.4375\"/></a><!--MD5=[49a0ec8f00dab7302a31f22d0f0fe584]\n",
       "class E12--><a href=\"psysml:5710aa92-7822-41e6-89ae-9d2d61cb8bf3\" target=\"_top\" title=\"psysml:5710aa92-7822-41e6-89ae-9d2d61cb8bf3\" xlink:actuate=\"onRequest\" xlink:href=\"psysml:5710aa92-7822-41e6-89ae-9d2d61cb8bf3\" xlink:show=\"new\" xlink:title=\"psysml:5710aa92-7822-41e6-89ae-9d2d61cb8bf3\" xlink:type=\"simple\"><rect fill=\"#FFFFFF\" height=\"45.9375\" id=\"E12\" rx=\"10\" ry=\"10\" style=\"stroke: #383838; stroke-width: 1.5;\" width=\"42\" x=\"32\" y=\"62\"/><text fill=\"#000000\" font-family=\"sans-serif\" font-size=\"12\" font-style=\"italic\" lengthAdjust=\"spacingAndGlyphs\" textLength=\"40\" x=\"33\" y=\"78.1387\">«part»</text><text fill=\"#000000\" font-family=\"sans-serif\" font-size=\"12\" lengthAdjust=\"spacingAndGlyphs\" textLength=\"8\" x=\"49\" y=\"92.1074\">q</text><line style=\"stroke: #383838; stroke-width: 1.5;\" x1=\"33\" x2=\"73\" y1=\"99.9375\" y2=\"99.9375\"/></a><!--MD5=[ee3c913d1a06f366521f9ef512b67efe]\n",
       "class E13--><a href=\"psysml:b72900fb-e3ca-4439-ac22-acb3bf892de5\" target=\"_top\" title=\"psysml:b72900fb-e3ca-4439-ac22-acb3bf892de5\" xlink:actuate=\"onRequest\" xlink:href=\"psysml:b72900fb-e3ca-4439-ac22-acb3bf892de5\" xlink:show=\"new\" xlink:title=\"psysml:b72900fb-e3ca-4439-ac22-acb3bf892de5\" xlink:type=\"simple\"><rect fill=\"#FFFFFF\" height=\"45.9375\" id=\"E13\" rx=\"10\" ry=\"10\" style=\"stroke: #383838; stroke-width: 1.5;\" width=\"93\" x=\"44.5\" y=\"190\"/><text fill=\"#000000\" font-family=\"sans-serif\" font-size=\"12\" font-style=\"italic\" lengthAdjust=\"spacingAndGlyphs\" textLength=\"91\" x=\"45.5\" y=\"206.1387\">«requirement»</text><text fill=\"#000000\" font-family=\"sans-serif\" font-size=\"12\" lengthAdjust=\"spacingAndGlyphs\" textLength=\"21\" x=\"80.5\" y=\"220.1074\">r: R</text><line style=\"stroke: #383838; stroke-width: 1.5;\" x1=\"45.5\" x2=\"136.5\" y1=\"227.9375\" y2=\"227.9375\"/></a><!--MD5=[05d275557350bfb9b23a4ef7222b4c39]\n",
       "link E3 to E2--><a href=\"psysml:8b4534c8-c65f-4721-aa95-1aefa1ee4858\" target=\"_top\" title=\"psysml:8b4534c8-c65f-4721-aa95-1aefa1ee4858\" xlink:actuate=\"onRequest\" xlink:href=\"psysml:8b4534c8-c65f-4721-aa95-1aefa1ee4858\" xlink:show=\"new\" xlink:title=\"psysml:8b4534c8-c65f-4721-aa95-1aefa1ee4858\" xlink:type=\"simple\"><path d=\"M327.88,108.24 C326.26,125.24 323.98,149.19 322.02,169.79 \" fill=\"none\" id=\"E3-&gt;E2\" style=\"stroke: #383838; stroke-width: 1.0;\"/><polygon fill=\"#FFFFFF\" points=\"320.1,189.99,314.9362,170.411,328.8729,171.7407,320.1,189.99\" style=\"stroke: #383838; stroke-width: 1.0;\"/><ellipse cx=\"317.4685\" cy=\"164.9268\" fill=\"#383838\" rx=\"2\" ry=\"2\" style=\"stroke: #383838; stroke-width: 1.0;\"/><ellipse cx=\"327.4233\" cy=\"165.8765\" fill=\"#383838\" rx=\"2\" ry=\"2\" style=\"stroke: #383838; stroke-width: 1.0;\"/></a><!--MD5=[62aa6af11e70f752912c1cb0466f24f7]\n",
       "reverse link E4 to E5--><a href=\"psysml:5c4fbfc6-6feb-457a-9610-da755776e124\" target=\"_top\" title=\"psysml:5c4fbfc6-6feb-457a-9610-da755776e124\" xlink:actuate=\"onRequest\" xlink:href=\"psysml:5c4fbfc6-6feb-457a-9610-da755776e124\" xlink:show=\"new\" xlink:title=\"psysml:5c4fbfc6-6feb-457a-9610-da755776e124\" xlink:type=\"simple\"><path d=\"M91,437.45 C91,453.34 91,469.51 91,482.98 \" fill=\"none\" id=\"E4&lt;-E5\" style=\"stroke: #383838; stroke-width: 1.0;\"/><ellipse cx=\"91\" cy=\"430.4\" fill=\"#FFFFFF\" rx=\"8\" ry=\"8\" style=\"stroke: #383838; stroke-width: 1.0;\"/><line style=\"stroke: #383838; stroke-width: 1.0;\" x1=\"91\" x2=\"91\" y1=\"438.4\" y2=\"422.4\"/><line style=\"stroke: #383838; stroke-width: 1.0;\" x1=\"83\" x2=\"99\" y1=\"430.4\" y2=\"430.4\"/></a><!--MD5=[c6fc7cdb0cabde04948078cf183fa696]\n",
       "reverse link E4 to E8--><a href=\"psysml:577c6bec-7675-4e65-a136-10b226b9020a\" target=\"_top\" title=\"psysml:577c6bec-7675-4e65-a136-10b226b9020a\" xlink:actuate=\"onRequest\" xlink:href=\"psysml:577c6bec-7675-4e65-a136-10b226b9020a\" xlink:show=\"new\" xlink:title=\"psysml:577c6bec-7675-4e65-a136-10b226b9020a\" xlink:type=\"simple\"><path d=\"M151.51,432.04 C172.42,453.99 194.47,477.14 210.03,493.48 \" fill=\"none\" id=\"E4&lt;-E8\" style=\"stroke: #383838; stroke-width: 1.0;\"/><polygon fill=\"#383838\" points=\"142.34,422.4,143.5779,429.5041,150.6116,431.0937,149.3737,423.9897,142.34,422.4\" style=\"stroke: #383838; stroke-width: 1.0;\"/></a><!--MD5=[062ed86c389d1a88f61c6380d0491e17]\n",
       "reverse link E12 to E13--><a href=\"psysml:b72900fb-e3ca-4439-ac22-acb3bf892de5\" target=\"_top\" title=\"psysml:b72900fb-e3ca-4439-ac22-acb3bf892de5\" xlink:actuate=\"onRequest\" xlink:href=\"psysml:b72900fb-e3ca-4439-ac22-acb3bf892de5\" xlink:show=\"new\" xlink:title=\"psysml:b72900fb-e3ca-4439-ac22-acb3bf892de5\" xlink:type=\"simple\"><path d=\"M63.49,120.8 C70.17,142.92 78.6,170.89 84.36,189.99 \" fill=\"none\" id=\"E12&lt;-E13\" style=\"stroke: #383838; stroke-width: 1.0;\"/><polygon fill=\"#383838\" points=\"59.71,108.24,57.6129,115.1394,63.1751,119.7288,65.2722,112.8294,59.71,108.24\" style=\"stroke: #383838; stroke-width: 1.0;\"/></a><!--MD5=[017847e01ff9a8bd19f247411074f987]\n",
       "link E13 to E4--><a href=\"psysml:ed6e641a-605b-4ed9-9064-d41509e7ab16\" target=\"_top\" title=\"psysml:ed6e641a-605b-4ed9-9064-d41509e7ab16\" xlink:actuate=\"onRequest\" xlink:href=\"psysml:ed6e641a-605b-4ed9-9064-d41509e7ab16\" xlink:show=\"new\" xlink:title=\"psysml:ed6e641a-605b-4ed9-9064-d41509e7ab16\" xlink:type=\"simple\"><path d=\"M91,236.17 C91,251.17 91,271.91 91,292.44 \" fill=\"none\" id=\"E13-&gt;E4\" style=\"stroke: #383838; stroke-width: 1.0;\"/><polygon fill=\"#FFFFFF\" points=\"91,312.68,84,293.68,98,293.68,91,312.68\" style=\"stroke: #383838; stroke-width: 1.0;\"/><ellipse cx=\"86\" cy=\"287.98\" fill=\"#383838\" rx=\"2\" ry=\"2\" style=\"stroke: #383838; stroke-width: 1.0;\"/><ellipse cx=\"96\" cy=\"287.98\" fill=\"#383838\" rx=\"2\" ry=\"2\" style=\"stroke: #383838; stroke-width: 1.0;\"/></a><!--MD5=[2cfe899c895462254056921bfb67315f]\n",
       "link E13 to E11--><a href=\"psysml:11f1a2a5-a4e7-4875-8b16-7052fd317758\" target=\"_top\" title=\"psysml:11f1a2a5-a4e7-4875-8b16-7052fd317758\" xlink:actuate=\"onRequest\" xlink:href=\"psysml:11f1a2a5-a4e7-4875-8b16-7052fd317758\" xlink:show=\"new\" xlink:title=\"psysml:11f1a2a5-a4e7-4875-8b16-7052fd317758\" xlink:type=\"simple\"><path d=\"M108.36,236.29 C123.87,256.28 147.14,286.45 167,313 C173.57,321.78 180.66,331.44 186.97,340.12 \" fill=\"none\" id=\"E13-&gt;E11\" style=\"stroke: #383838; stroke-width: 1.0; stroke-dasharray: 7.0,7.0;\"/><polygon fill=\"#383838\" points=\"189.99,344.28,187.9274,334.6496,187.0474,340.2376,181.4594,339.3576,189.99,344.28\" style=\"stroke: #383838; stroke-width: 1.0;\"/><text fill=\"#000000\" font-family=\"sans-serif\" font-size=\"13\" lengthAdjust=\"spacingAndGlyphs\" textLength=\"57\" x=\"145\" y=\"279.0669\">«satisfy»</text></a><!--MD5=[498aefe384e998bec6bcdf8920d301de]\n",
       "@startuml\r\n",
       "skinparam monochrome true\r\n",
       "skinparam classbackgroundcolor white\r\n",
       "skinparam shadowing false\r\n",
       "skinparam wrapWidth 300\r\n",
       "hide circle\r\n",
       "\r\n",
       "package \"RequirementTest\" as E1  [[psysml:8aa028f5-1693-4b51-bff2-c94d0f18c930 ]]  {\r\n",
       "comp def \"C\" as E2  <<(T,blue)constraint def>> [[psysml:27c2a771-07cf-4bde-9591-6030a1a15742 ]] {\r\n",
       "}\r\n",
       "comp usage \"c: C\" as E3  <<(T,blue)constraint>> [[psysml:da02b217-f155-4220-a2dc-d840d0d24f86 ]] {\r\n",
       "}\r\n",
       "comp def \"R\" as E4  <<(T,blue)requirement def>> [[psysml:b9a9d178-6ba0-415d-80bd-8d7e5aacf32f ]] {\r\n",
       "\r\n",
       "- -\r\n",
       "- - constraints - -\r\n",
       "<b>require</b> c\r\n",
       "<i>assume</i> c1: C\r\n",
       "}\r\n",
       "comp def \" [<b>1</b>] A\" as E5  <<(T,blue)requirement def>> [[psysml:5c4fbfc6-6feb-457a-9610-da755776e124 ]] {\r\n",
       "Text\r\n",
       "- -\r\n",
       "}\r\n",
       "comp usage \"<s>noname</s>\" as E8  <<(T,blue)requirement>> [[psysml:577c6bec-7675-4e65-a136-10b226b9020a ]] {\r\n",
       "}\r\n",
       "comp def \"R1\" as E9  <<(T,blue)requirement def>> [[psysml:291c6c45-8332-45a6-809f-574961a49898 ]] {\r\n",
       "- - constraints - -\r\n",
       "<b>require</b> c1\\n//:>>RequirementTest::c// \r\n",
       "}\r\n",
       "comp usage \"p\" as E11  <<(T,blue)part>> [[psysml:b7118396-8822-4234-af4f-531e34fd2b85 ]] {\r\n",
       "}\r\n",
       "comp usage \"q\" as E12  <<(T,blue)part>> [[psysml:5710aa92-7822-41e6-89ae-9d2d61cb8bf3 ]] {\r\n",
       "}\r\n",
       "comp usage \"r: R\" as E13  <<(T,blue)requirement>> [[psysml:b72900fb-e3ca-4439-ac22-acb3bf892de5 ]] {\r\n",
       "}\r\n",
       "E3 - -:|> E2 [[psysml:8b4534c8-c65f-4721-aa95-1aefa1ee4858 ]] \r\n",
       "E4 +- - E5 [[psysml:5c4fbfc6-6feb-457a-9610-da755776e124 ]] \r\n",
       "E4 *- - E8 [[psysml:577c6bec-7675-4e65-a136-10b226b9020a ]] \r\n",
       "E12 *- - E13 [[psysml:b72900fb-e3ca-4439-ac22-acb3bf892de5 ]] \r\n",
       "E13 - -:|> E4 [[psysml:ed6e641a-605b-4ed9-9064-d41509e7ab16 ]] \r\n",
       "E13 ..> E11 [[psysml:11f1a2a5-a4e7-4875-8b16-7052fd317758 ]] : <<satisfy>>\r\n",
       "}\r\n",
       "@enduml\r\n",
       "\n",
       "PlantUML version 1.2020.13(Sat Jun 13 12:26:38 UTC 2020)\n",
       "(EPL source distribution)\n",
       "Java Runtime: OpenJDK Runtime Environment\n",
       "JVM: OpenJDK 64-Bit Server VM\n",
       "Default Encoding: UTF-8\n",
       "Language: en\n",
       "Country: null\n",
       "--></g></svg>"
      ]
     },
     "execution_count": 43,
     "metadata": {},
     "output_type": "execute_result"
    }
   ],
   "source": [
    "%viz --style=\"DEFAULT\" --view=\"MIXED\" \"RequirementTest\""
   ]
  },
  {
   "cell_type": "code",
   "execution_count": 44,
   "id": "steady-decision",
   "metadata": {
    "execution": {
     "iopub.execute_input": "2021-03-26T09:12:30.663282Z",
     "iopub.status.busy": "2021-03-26T09:12:30.662969Z",
     "iopub.status.idle": "2021-03-26T09:12:30.752792Z",
     "shell.execute_reply": "2021-03-26T09:12:30.751444Z"
    }
   },
   "outputs": [
    {
     "data": {
      "image/svg+xml": [
       "<?xml version=\"1.0\" encoding=\"UTF-8\" standalone=\"no\"?><svg xmlns=\"http://www.w3.org/2000/svg\" xmlns:xlink=\"http://www.w3.org/1999/xlink\" contentScriptType=\"application/ecmascript\" contentStyleType=\"text/css\" height=\"578px\" preserveAspectRatio=\"none\" style=\"width:408px;height:578px;\" version=\"1.1\" viewBox=\"0 0 408 578\" width=\"408px\" zoomAndPan=\"magnify\"><defs/><g><!--MD5=[fbc87193dbaf4d95561dea2c320d4a47]\n",
       "cluster E1--><a href=\"psysml:8aa028f5-1693-4b51-bff2-c94d0f18c930\" target=\"_top\" title=\"psysml:8aa028f5-1693-4b51-bff2-c94d0f18c930\" xlink:actuate=\"onRequest\" xlink:href=\"psysml:8aa028f5-1693-4b51-bff2-c94d0f18c930\" xlink:show=\"new\" xlink:title=\"psysml:8aa028f5-1693-4b51-bff2-c94d0f18c930\" xlink:type=\"simple\"><polygon fill=\"#FFFFFF\" points=\"16,6,158,6,165,28.2969,386,28.2969,386,566,16,566,16,6\" style=\"stroke: #000000; stroke-width: 1.5;\"/><line style=\"stroke: #000000; stroke-width: 1.5;\" x1=\"16\" x2=\"165\" y1=\"28.2969\" y2=\"28.2969\"/><text fill=\"#000000\" font-family=\"sans-serif\" font-size=\"14\" font-weight=\"bold\" lengthAdjust=\"spacingAndGlyphs\" textLength=\"136\" x=\"20\" y=\"20.9951\">RequirementTest</text></a><!--MD5=[b4997ac47864f28c2f74865a473b2911]\n",
       "class E2--><a href=\"psysml:27c2a771-07cf-4bde-9591-6030a1a15742\" target=\"_top\" title=\"psysml:27c2a771-07cf-4bde-9591-6030a1a15742\" xlink:actuate=\"onRequest\" xlink:href=\"psysml:27c2a771-07cf-4bde-9591-6030a1a15742\" xlink:show=\"new\" xlink:title=\"psysml:27c2a771-07cf-4bde-9591-6030a1a15742\" xlink:type=\"simple\"><rect fill=\"#FFFFFF\" height=\"45.9375\" id=\"E2\" style=\"stroke: #383838; stroke-width: 1.5;\" width=\"104\" x=\"266\" y=\"190\"/><text fill=\"#000000\" font-family=\"sans-serif\" font-size=\"12\" font-style=\"italic\" lengthAdjust=\"spacingAndGlyphs\" textLength=\"102\" x=\"267\" y=\"206.1387\">«constraint def»</text><text fill=\"#000000\" font-family=\"sans-serif\" font-size=\"12\" lengthAdjust=\"spacingAndGlyphs\" textLength=\"8\" x=\"314\" y=\"220.1074\">C</text><line style=\"stroke: #383838; stroke-width: 1.5;\" x1=\"267\" x2=\"369\" y1=\"227.9375\" y2=\"227.9375\"/></a><!--MD5=[09b614a08d8cba4a07c9adeb5e0fee81]\n",
       "class E3--><a href=\"psysml:da02b217-f155-4220-a2dc-d840d0d24f86\" target=\"_top\" title=\"psysml:da02b217-f155-4220-a2dc-d840d0d24f86\" xlink:actuate=\"onRequest\" xlink:href=\"psysml:da02b217-f155-4220-a2dc-d840d0d24f86\" xlink:show=\"new\" xlink:title=\"psysml:da02b217-f155-4220-a2dc-d840d0d24f86\" xlink:type=\"simple\"><rect fill=\"#FFFFFF\" height=\"45.9375\" id=\"E3\" rx=\"10\" ry=\"10\" style=\"stroke: #383838; stroke-width: 1.5;\" width=\"80\" x=\"290\" y=\"62\"/><text fill=\"#000000\" font-family=\"sans-serif\" font-size=\"12\" font-style=\"italic\" lengthAdjust=\"spacingAndGlyphs\" textLength=\"78\" x=\"291\" y=\"78.1387\">«constraint»</text><text fill=\"#000000\" font-family=\"sans-serif\" font-size=\"12\" lengthAdjust=\"spacingAndGlyphs\" textLength=\"23\" x=\"318.5\" y=\"92.1074\">c: C</text><line style=\"stroke: #383838; stroke-width: 1.5;\" x1=\"291\" x2=\"369\" y1=\"99.9375\" y2=\"99.9375\"/></a><!--MD5=[ebbe1d658d1005bcc118a6aa81145e00]\n",
       "class E4--><a href=\"psysml:b9a9d178-6ba0-415d-80bd-8d7e5aacf32f\" target=\"_top\" title=\"psysml:b9a9d178-6ba0-415d-80bd-8d7e5aacf32f\" xlink:actuate=\"onRequest\" xlink:href=\"psysml:b9a9d178-6ba0-415d-80bd-8d7e5aacf32f\" xlink:show=\"new\" xlink:title=\"psysml:b9a9d178-6ba0-415d-80bd-8d7e5aacf32f\" xlink:type=\"simple\"><rect fill=\"#FFFFFF\" height=\"109.1563\" id=\"E4\" style=\"stroke: #383838; stroke-width: 1.5;\" width=\"117\" x=\"32.5\" y=\"313\"/><text fill=\"#000000\" font-family=\"sans-serif\" font-size=\"12\" font-style=\"italic\" lengthAdjust=\"spacingAndGlyphs\" textLength=\"115\" x=\"33.5\" y=\"329.1387\">«requirement def»</text><text fill=\"#000000\" font-family=\"sans-serif\" font-size=\"12\" lengthAdjust=\"spacingAndGlyphs\" textLength=\"8\" x=\"87\" y=\"343.1074\">R</text><line style=\"stroke: #383838; stroke-width: 1.5;\" x1=\"33.5\" x2=\"148.5\" y1=\"350.9375\" y2=\"350.9375\"/><text fill=\"#000000\" font-family=\"sans-serif\" font-size=\"11\" lengthAdjust=\"spacingAndGlyphs\" textLength=\"0\" x=\"42.5\" y=\"365.1479\"/><line style=\"stroke: #383838; stroke-width: 1.0;\" x1=\"33.5\" x2=\"148.5\" y1=\"371.7422\" y2=\"371.7422\"/><text fill=\"#000000\" font-family=\"sans-serif\" font-size=\"11\" font-weight=\"bold\" lengthAdjust=\"spacingAndGlyphs\" textLength=\"46\" x=\"38.5\" y=\"402.7573\">require</text><text fill=\"#000000\" font-family=\"sans-serif\" font-size=\"11\" lengthAdjust=\"spacingAndGlyphs\" textLength=\"6\" x=\"88.5\" y=\"402.7573\">c</text><text fill=\"#000000\" font-family=\"sans-serif\" font-size=\"11\" font-style=\"italic\" lengthAdjust=\"spacingAndGlyphs\" textLength=\"46\" x=\"38.5\" y=\"415.562\">assume</text><text fill=\"#000000\" font-family=\"sans-serif\" font-size=\"11\" lengthAdjust=\"spacingAndGlyphs\" textLength=\"29\" x=\"88.5\" y=\"415.562\">c1: C</text><line style=\"stroke: #383838; stroke-width: 1.0;\" x1=\"33.5\" x2=\"59\" y1=\"386.1445\" y2=\"386.1445\"/><text fill=\"#000000\" font-family=\"sans-serif\" font-size=\"11\" lengthAdjust=\"spacingAndGlyphs\" textLength=\"64\" x=\"59\" y=\"389.4526\">constraints</text><line style=\"stroke: #383838; stroke-width: 1.0;\" x1=\"123\" x2=\"148.5\" y1=\"386.1445\" y2=\"386.1445\"/></a><!--MD5=[270fce915f116d4de14055a7c1d9a0f3]\n",
       "class E5--><a href=\"psysml:5c4fbfc6-6feb-457a-9610-da755776e124\" target=\"_top\" title=\"psysml:5c4fbfc6-6feb-457a-9610-da755776e124\" xlink:actuate=\"onRequest\" xlink:href=\"psysml:5c4fbfc6-6feb-457a-9610-da755776e124\" xlink:show=\"new\" xlink:title=\"psysml:5c4fbfc6-6feb-457a-9610-da755776e124\" xlink:type=\"simple\"><rect fill=\"#FFFFFF\" height=\"66.7422\" id=\"E5\" style=\"stroke: #383838; stroke-width: 1.5;\" width=\"117\" x=\"32.5\" y=\"483\"/><text fill=\"#000000\" font-family=\"sans-serif\" font-size=\"12\" font-style=\"italic\" lengthAdjust=\"spacingAndGlyphs\" textLength=\"115\" x=\"33.5\" y=\"499.1387\">«requirement def»</text><text fill=\"#000000\" font-family=\"sans-serif\" font-size=\"12\" lengthAdjust=\"spacingAndGlyphs\" textLength=\"5\" x=\"78\" y=\"513.1074\">[</text><text fill=\"#000000\" font-family=\"sans-serif\" font-size=\"12\" font-weight=\"bold\" lengthAdjust=\"spacingAndGlyphs\" textLength=\"8\" x=\"83\" y=\"513.1074\">1</text><text fill=\"#000000\" font-family=\"sans-serif\" font-size=\"12\" lengthAdjust=\"spacingAndGlyphs\" textLength=\"17\" x=\"91\" y=\"513.1074\">] A</text><line style=\"stroke: #383838; stroke-width: 1.5;\" x1=\"33.5\" x2=\"148.5\" y1=\"520.9375\" y2=\"520.9375\"/><text fill=\"#000000\" font-family=\"sans-serif\" font-size=\"11\" lengthAdjust=\"spacingAndGlyphs\" textLength=\"24\" x=\"38.5\" y=\"535.1479\">Text</text><line style=\"stroke: #383838; stroke-width: 1.0;\" x1=\"33.5\" x2=\"148.5\" y1=\"541.7422\" y2=\"541.7422\"/></a><!--MD5=[b9389687b975829384b498ac4b7476b2]\n",
       "class E8--><a href=\"psysml:577c6bec-7675-4e65-a136-10b226b9020a\" target=\"_top\" title=\"psysml:577c6bec-7675-4e65-a136-10b226b9020a\" xlink:actuate=\"onRequest\" xlink:href=\"psysml:577c6bec-7675-4e65-a136-10b226b9020a\" xlink:show=\"new\" xlink:title=\"psysml:577c6bec-7675-4e65-a136-10b226b9020a\" xlink:type=\"simple\"><rect fill=\"#FFFFFF\" height=\"45.9375\" id=\"E8\" rx=\"10\" ry=\"10\" style=\"stroke: #383838; stroke-width: 1.5;\" width=\"93\" x=\"184.5\" y=\"493.5\"/><text fill=\"#000000\" font-family=\"sans-serif\" font-size=\"12\" font-style=\"italic\" lengthAdjust=\"spacingAndGlyphs\" textLength=\"91\" x=\"185.5\" y=\"509.6387\">«requirement»</text><text fill=\"#000000\" font-family=\"sans-serif\" font-size=\"12\" lengthAdjust=\"spacingAndGlyphs\" text-decoration=\"line-through\" textLength=\"51\" x=\"205.5\" y=\"523.6074\">noname</text><line style=\"stroke: #383838; stroke-width: 1.5;\" x1=\"185.5\" x2=\"276.5\" y1=\"531.4375\" y2=\"531.4375\"/></a><!--MD5=[fd4143e9d270a159db93a4ea2a975926]\n",
       "class E9--><a href=\"psysml:291c6c45-8332-45a6-809f-574961a49898\" target=\"_top\" title=\"psysml:291c6c45-8332-45a6-809f-574961a49898\" xlink:actuate=\"onRequest\" xlink:href=\"psysml:291c6c45-8332-45a6-809f-574961a49898\" xlink:show=\"new\" xlink:title=\"psysml:291c6c45-8332-45a6-809f-574961a49898\" xlink:type=\"simple\"><rect fill=\"#FFFFFF\" height=\"88.3516\" id=\"E9\" style=\"stroke: #383838; stroke-width: 1.5;\" width=\"145\" x=\"109.5\" y=\"41\"/><text fill=\"#000000\" font-family=\"sans-serif\" font-size=\"12\" font-style=\"italic\" lengthAdjust=\"spacingAndGlyphs\" textLength=\"115\" x=\"124.5\" y=\"57.1387\">«requirement def»</text><text fill=\"#000000\" font-family=\"sans-serif\" font-size=\"12\" lengthAdjust=\"spacingAndGlyphs\" textLength=\"16\" x=\"174\" y=\"71.1074\">R1</text><line style=\"stroke: #383838; stroke-width: 1.5;\" x1=\"110.5\" x2=\"253.5\" y1=\"78.9375\" y2=\"78.9375\"/><text fill=\"#000000\" font-family=\"sans-serif\" font-size=\"11\" font-weight=\"bold\" lengthAdjust=\"spacingAndGlyphs\" textLength=\"46\" x=\"115.5\" y=\"109.9526\">require</text><text fill=\"#000000\" font-family=\"sans-serif\" font-size=\"11\" lengthAdjust=\"spacingAndGlyphs\" textLength=\"13\" x=\"165.5\" y=\"109.9526\">c1</text><text fill=\"#000000\" font-family=\"sans-serif\" font-size=\"11\" font-style=\"italic\" lengthAdjust=\"spacingAndGlyphs\" textLength=\"133\" x=\"115.5\" y=\"122.7573\">:&gt;&gt;RequirementTest::c</text><line style=\"stroke: #383838; stroke-width: 1.0;\" x1=\"110.5\" x2=\"150\" y1=\"93.3398\" y2=\"93.3398\"/><text fill=\"#000000\" font-family=\"sans-serif\" font-size=\"11\" lengthAdjust=\"spacingAndGlyphs\" textLength=\"64\" x=\"150\" y=\"96.6479\">constraints</text><line style=\"stroke: #383838; stroke-width: 1.0;\" x1=\"214\" x2=\"253.5\" y1=\"93.3398\" y2=\"93.3398\"/></a><!--MD5=[1dd1bfd58a279cf63c5f349dbc8fc6a1]\n",
       "class E11--><a href=\"psysml:b7118396-8822-4234-af4f-531e34fd2b85\" target=\"_top\" title=\"psysml:b7118396-8822-4234-af4f-531e34fd2b85\" xlink:actuate=\"onRequest\" xlink:href=\"psysml:b7118396-8822-4234-af4f-531e34fd2b85\" xlink:show=\"new\" xlink:title=\"psysml:b7118396-8822-4234-af4f-531e34fd2b85\" xlink:type=\"simple\"><rect fill=\"#FFFFFF\" height=\"45.9375\" id=\"E11\" rx=\"10\" ry=\"10\" style=\"stroke: #383838; stroke-width: 1.5;\" width=\"42\" x=\"185\" y=\"344.5\"/><text fill=\"#000000\" font-family=\"sans-serif\" font-size=\"12\" font-style=\"italic\" lengthAdjust=\"spacingAndGlyphs\" textLength=\"40\" x=\"186\" y=\"360.6387\">«part»</text><text fill=\"#000000\" font-family=\"sans-serif\" font-size=\"12\" lengthAdjust=\"spacingAndGlyphs\" textLength=\"8\" x=\"202\" y=\"374.6074\">p</text><line style=\"stroke: #383838; stroke-width: 1.5;\" x1=\"186\" x2=\"226\" y1=\"382.4375\" y2=\"382.4375\"/></a><!--MD5=[49a0ec8f00dab7302a31f22d0f0fe584]\n",
       "class E12--><a href=\"psysml:5710aa92-7822-41e6-89ae-9d2d61cb8bf3\" target=\"_top\" title=\"psysml:5710aa92-7822-41e6-89ae-9d2d61cb8bf3\" xlink:actuate=\"onRequest\" xlink:href=\"psysml:5710aa92-7822-41e6-89ae-9d2d61cb8bf3\" xlink:show=\"new\" xlink:title=\"psysml:5710aa92-7822-41e6-89ae-9d2d61cb8bf3\" xlink:type=\"simple\"><rect fill=\"#FFFFFF\" height=\"45.9375\" id=\"E12\" rx=\"10\" ry=\"10\" style=\"stroke: #383838; stroke-width: 1.5;\" width=\"42\" x=\"32\" y=\"62\"/><text fill=\"#000000\" font-family=\"sans-serif\" font-size=\"12\" font-style=\"italic\" lengthAdjust=\"spacingAndGlyphs\" textLength=\"40\" x=\"33\" y=\"78.1387\">«part»</text><text fill=\"#000000\" font-family=\"sans-serif\" font-size=\"12\" lengthAdjust=\"spacingAndGlyphs\" textLength=\"8\" x=\"49\" y=\"92.1074\">q</text><line style=\"stroke: #383838; stroke-width: 1.5;\" x1=\"33\" x2=\"73\" y1=\"99.9375\" y2=\"99.9375\"/></a><!--MD5=[ee3c913d1a06f366521f9ef512b67efe]\n",
       "class E13--><a href=\"psysml:b72900fb-e3ca-4439-ac22-acb3bf892de5\" target=\"_top\" title=\"psysml:b72900fb-e3ca-4439-ac22-acb3bf892de5\" xlink:actuate=\"onRequest\" xlink:href=\"psysml:b72900fb-e3ca-4439-ac22-acb3bf892de5\" xlink:show=\"new\" xlink:title=\"psysml:b72900fb-e3ca-4439-ac22-acb3bf892de5\" xlink:type=\"simple\"><rect fill=\"#FFFFFF\" height=\"45.9375\" id=\"E13\" rx=\"10\" ry=\"10\" style=\"stroke: #383838; stroke-width: 1.5;\" width=\"93\" x=\"44.5\" y=\"190\"/><text fill=\"#000000\" font-family=\"sans-serif\" font-size=\"12\" font-style=\"italic\" lengthAdjust=\"spacingAndGlyphs\" textLength=\"91\" x=\"45.5\" y=\"206.1387\">«requirement»</text><text fill=\"#000000\" font-family=\"sans-serif\" font-size=\"12\" lengthAdjust=\"spacingAndGlyphs\" textLength=\"21\" x=\"80.5\" y=\"220.1074\">r: R</text><line style=\"stroke: #383838; stroke-width: 1.5;\" x1=\"45.5\" x2=\"136.5\" y1=\"227.9375\" y2=\"227.9375\"/></a><!--MD5=[05d275557350bfb9b23a4ef7222b4c39]\n",
       "link E3 to E2--><a href=\"psysml:8b4534c8-c65f-4721-aa95-1aefa1ee4858\" target=\"_top\" title=\"psysml:8b4534c8-c65f-4721-aa95-1aefa1ee4858\" xlink:actuate=\"onRequest\" xlink:href=\"psysml:8b4534c8-c65f-4721-aa95-1aefa1ee4858\" xlink:show=\"new\" xlink:title=\"psysml:8b4534c8-c65f-4721-aa95-1aefa1ee4858\" xlink:type=\"simple\"><path d=\"M327.88,108.24 C326.26,125.24 323.98,149.19 322.02,169.79 \" fill=\"none\" id=\"E3-&gt;E2\" style=\"stroke: #383838; stroke-width: 1.0;\"/><polygon fill=\"#FFFFFF\" points=\"320.1,189.99,314.9362,170.411,328.8729,171.7407,320.1,189.99\" style=\"stroke: #383838; stroke-width: 1.0;\"/><ellipse cx=\"317.4685\" cy=\"164.9268\" fill=\"#383838\" rx=\"2\" ry=\"2\" style=\"stroke: #383838; stroke-width: 1.0;\"/><ellipse cx=\"327.4233\" cy=\"165.8765\" fill=\"#383838\" rx=\"2\" ry=\"2\" style=\"stroke: #383838; stroke-width: 1.0;\"/></a><!--MD5=[62aa6af11e70f752912c1cb0466f24f7]\n",
       "reverse link E4 to E5--><a href=\"psysml:5c4fbfc6-6feb-457a-9610-da755776e124\" target=\"_top\" title=\"psysml:5c4fbfc6-6feb-457a-9610-da755776e124\" xlink:actuate=\"onRequest\" xlink:href=\"psysml:5c4fbfc6-6feb-457a-9610-da755776e124\" xlink:show=\"new\" xlink:title=\"psysml:5c4fbfc6-6feb-457a-9610-da755776e124\" xlink:type=\"simple\"><path d=\"M91,437.45 C91,453.34 91,469.51 91,482.98 \" fill=\"none\" id=\"E4&lt;-E5\" style=\"stroke: #383838; stroke-width: 1.0;\"/><ellipse cx=\"91\" cy=\"430.4\" fill=\"#FFFFFF\" rx=\"8\" ry=\"8\" style=\"stroke: #383838; stroke-width: 1.0;\"/><line style=\"stroke: #383838; stroke-width: 1.0;\" x1=\"91\" x2=\"91\" y1=\"438.4\" y2=\"422.4\"/><line style=\"stroke: #383838; stroke-width: 1.0;\" x1=\"83\" x2=\"99\" y1=\"430.4\" y2=\"430.4\"/></a><!--MD5=[c6fc7cdb0cabde04948078cf183fa696]\n",
       "reverse link E4 to E8--><a href=\"psysml:577c6bec-7675-4e65-a136-10b226b9020a\" target=\"_top\" title=\"psysml:577c6bec-7675-4e65-a136-10b226b9020a\" xlink:actuate=\"onRequest\" xlink:href=\"psysml:577c6bec-7675-4e65-a136-10b226b9020a\" xlink:show=\"new\" xlink:title=\"psysml:577c6bec-7675-4e65-a136-10b226b9020a\" xlink:type=\"simple\"><path d=\"M151.51,432.04 C172.42,453.99 194.47,477.14 210.03,493.48 \" fill=\"none\" id=\"E4&lt;-E8\" style=\"stroke: #383838; stroke-width: 1.0;\"/><polygon fill=\"#383838\" points=\"142.34,422.4,143.5779,429.5041,150.6116,431.0937,149.3737,423.9897,142.34,422.4\" style=\"stroke: #383838; stroke-width: 1.0;\"/></a><!--MD5=[062ed86c389d1a88f61c6380d0491e17]\n",
       "reverse link E12 to E13--><a href=\"psysml:b72900fb-e3ca-4439-ac22-acb3bf892de5\" target=\"_top\" title=\"psysml:b72900fb-e3ca-4439-ac22-acb3bf892de5\" xlink:actuate=\"onRequest\" xlink:href=\"psysml:b72900fb-e3ca-4439-ac22-acb3bf892de5\" xlink:show=\"new\" xlink:title=\"psysml:b72900fb-e3ca-4439-ac22-acb3bf892de5\" xlink:type=\"simple\"><path d=\"M63.49,120.8 C70.17,142.92 78.6,170.89 84.36,189.99 \" fill=\"none\" id=\"E12&lt;-E13\" style=\"stroke: #383838; stroke-width: 1.0;\"/><polygon fill=\"#383838\" points=\"59.71,108.24,57.6129,115.1394,63.1751,119.7288,65.2722,112.8294,59.71,108.24\" style=\"stroke: #383838; stroke-width: 1.0;\"/></a><!--MD5=[017847e01ff9a8bd19f247411074f987]\n",
       "link E13 to E4--><a href=\"psysml:ed6e641a-605b-4ed9-9064-d41509e7ab16\" target=\"_top\" title=\"psysml:ed6e641a-605b-4ed9-9064-d41509e7ab16\" xlink:actuate=\"onRequest\" xlink:href=\"psysml:ed6e641a-605b-4ed9-9064-d41509e7ab16\" xlink:show=\"new\" xlink:title=\"psysml:ed6e641a-605b-4ed9-9064-d41509e7ab16\" xlink:type=\"simple\"><path d=\"M91,236.17 C91,251.17 91,271.91 91,292.44 \" fill=\"none\" id=\"E13-&gt;E4\" style=\"stroke: #383838; stroke-width: 1.0;\"/><polygon fill=\"#FFFFFF\" points=\"91,312.68,84,293.68,98,293.68,91,312.68\" style=\"stroke: #383838; stroke-width: 1.0;\"/><ellipse cx=\"86\" cy=\"287.98\" fill=\"#383838\" rx=\"2\" ry=\"2\" style=\"stroke: #383838; stroke-width: 1.0;\"/><ellipse cx=\"96\" cy=\"287.98\" fill=\"#383838\" rx=\"2\" ry=\"2\" style=\"stroke: #383838; stroke-width: 1.0;\"/></a><!--MD5=[2cfe899c895462254056921bfb67315f]\n",
       "link E13 to E11--><a href=\"psysml:11f1a2a5-a4e7-4875-8b16-7052fd317758\" target=\"_top\" title=\"psysml:11f1a2a5-a4e7-4875-8b16-7052fd317758\" xlink:actuate=\"onRequest\" xlink:href=\"psysml:11f1a2a5-a4e7-4875-8b16-7052fd317758\" xlink:show=\"new\" xlink:title=\"psysml:11f1a2a5-a4e7-4875-8b16-7052fd317758\" xlink:type=\"simple\"><path d=\"M108.36,236.29 C123.87,256.28 147.14,286.45 167,313 C173.57,321.78 180.66,331.44 186.97,340.12 \" fill=\"none\" id=\"E13-&gt;E11\" style=\"stroke: #383838; stroke-width: 1.0; stroke-dasharray: 7.0,7.0;\"/><polygon fill=\"#383838\" points=\"189.99,344.28,187.9274,334.6496,187.0474,340.2376,181.4594,339.3576,189.99,344.28\" style=\"stroke: #383838; stroke-width: 1.0;\"/><text fill=\"#000000\" font-family=\"sans-serif\" font-size=\"13\" lengthAdjust=\"spacingAndGlyphs\" textLength=\"57\" x=\"145\" y=\"279.0669\">«satisfy»</text></a><!--MD5=[a750409b5bec722c5401a02d714f9f7c]\n",
       "@startuml\r\n",
       "top to bottom direction\r\n",
       "skinparam monochrome true\r\n",
       "skinparam classbackgroundcolor white\r\n",
       "skinparam shadowing false\r\n",
       "skinparam wrapWidth 300\r\n",
       "hide circle\r\n",
       "\r\n",
       "package \"RequirementTest\" as E1  [[psysml:8aa028f5-1693-4b51-bff2-c94d0f18c930 ]]  {\r\n",
       "comp def \"C\" as E2  <<(T,blue)constraint def>> [[psysml:27c2a771-07cf-4bde-9591-6030a1a15742 ]] {\r\n",
       "}\r\n",
       "comp usage \"c: C\" as E3  <<(T,blue)constraint>> [[psysml:da02b217-f155-4220-a2dc-d840d0d24f86 ]] {\r\n",
       "}\r\n",
       "comp def \"R\" as E4  <<(T,blue)requirement def>> [[psysml:b9a9d178-6ba0-415d-80bd-8d7e5aacf32f ]] {\r\n",
       "\r\n",
       "- -\r\n",
       "- - constraints - -\r\n",
       "<b>require</b> c\r\n",
       "<i>assume</i> c1: C\r\n",
       "}\r\n",
       "comp def \" [<b>1</b>] A\" as E5  <<(T,blue)requirement def>> [[psysml:5c4fbfc6-6feb-457a-9610-da755776e124 ]] {\r\n",
       "Text\r\n",
       "- -\r\n",
       "}\r\n",
       "comp usage \"<s>noname</s>\" as E8  <<(T,blue)requirement>> [[psysml:577c6bec-7675-4e65-a136-10b226b9020a ]] {\r\n",
       "}\r\n",
       "comp def \"R1\" as E9  <<(T,blue)requirement def>> [[psysml:291c6c45-8332-45a6-809f-574961a49898 ]] {\r\n",
       "- - constraints - -\r\n",
       "<b>require</b> c1\\n//:>>RequirementTest::c// \r\n",
       "}\r\n",
       "comp usage \"p\" as E11  <<(T,blue)part>> [[psysml:b7118396-8822-4234-af4f-531e34fd2b85 ]] {\r\n",
       "}\r\n",
       "comp usage \"q\" as E12  <<(T,blue)part>> [[psysml:5710aa92-7822-41e6-89ae-9d2d61cb8bf3 ]] {\r\n",
       "}\r\n",
       "comp usage \"r: R\" as E13  <<(T,blue)requirement>> [[psysml:b72900fb-e3ca-4439-ac22-acb3bf892de5 ]] {\r\n",
       "}\r\n",
       "E3 - -:|> E2 [[psysml:8b4534c8-c65f-4721-aa95-1aefa1ee4858 ]] \r\n",
       "E4 +- - E5 [[psysml:5c4fbfc6-6feb-457a-9610-da755776e124 ]] \r\n",
       "E4 *- - E8 [[psysml:577c6bec-7675-4e65-a136-10b226b9020a ]] \r\n",
       "E12 *- - E13 [[psysml:b72900fb-e3ca-4439-ac22-acb3bf892de5 ]] \r\n",
       "E13 - -:|> E4 [[psysml:ed6e641a-605b-4ed9-9064-d41509e7ab16 ]] \r\n",
       "E13 ..> E11 [[psysml:11f1a2a5-a4e7-4875-8b16-7052fd317758 ]] : <<satisfy>>\r\n",
       "}\r\n",
       "@enduml\r\n",
       "\n",
       "PlantUML version 1.2020.13(Sat Jun 13 12:26:38 UTC 2020)\n",
       "(EPL source distribution)\n",
       "Java Runtime: OpenJDK Runtime Environment\n",
       "JVM: OpenJDK 64-Bit Server VM\n",
       "Default Encoding: UTF-8\n",
       "Language: en\n",
       "Country: null\n",
       "--></g></svg>"
      ]
     },
     "execution_count": 44,
     "metadata": {},
     "output_type": "execute_result"
    }
   ],
   "source": [
    "%viz --style=\"TB\" --view=\"Default\" \"RequirementTest\""
   ]
  },
  {
   "cell_type": "code",
   "execution_count": 45,
   "id": "forced-primary",
   "metadata": {
    "execution": {
     "iopub.execute_input": "2021-03-26T09:12:30.804088Z",
     "iopub.status.busy": "2021-03-26T09:12:30.803432Z",
     "iopub.status.idle": "2021-03-26T09:12:30.883946Z",
     "shell.execute_reply": "2021-03-26T09:12:30.884294Z"
    }
   },
   "outputs": [
    {
     "data": {
      "image/svg+xml": [
       "<?xml version=\"1.0\" encoding=\"UTF-8\" standalone=\"no\"?><svg xmlns=\"http://www.w3.org/2000/svg\" xmlns:xlink=\"http://www.w3.org/1999/xlink\" contentScriptType=\"application/ecmascript\" contentStyleType=\"text/css\" height=\"578px\" preserveAspectRatio=\"none\" style=\"width:408px;height:578px;\" version=\"1.1\" viewBox=\"0 0 408 578\" width=\"408px\" zoomAndPan=\"magnify\"><defs/><g><!--MD5=[fbc87193dbaf4d95561dea2c320d4a47]\n",
       "cluster E1--><a href=\"psysml:8aa028f5-1693-4b51-bff2-c94d0f18c930\" target=\"_top\" title=\"psysml:8aa028f5-1693-4b51-bff2-c94d0f18c930\" xlink:actuate=\"onRequest\" xlink:href=\"psysml:8aa028f5-1693-4b51-bff2-c94d0f18c930\" xlink:show=\"new\" xlink:title=\"psysml:8aa028f5-1693-4b51-bff2-c94d0f18c930\" xlink:type=\"simple\"><polygon fill=\"#FFFFFF\" points=\"16,6,158,6,165,28.2969,386,28.2969,386,566,16,566,16,6\" style=\"stroke: #000000; stroke-width: 1.5;\"/><line style=\"stroke: #000000; stroke-width: 1.5;\" x1=\"16\" x2=\"165\" y1=\"28.2969\" y2=\"28.2969\"/><text fill=\"#000000\" font-family=\"sans-serif\" font-size=\"14\" font-weight=\"bold\" lengthAdjust=\"spacingAndGlyphs\" textLength=\"136\" x=\"20\" y=\"20.9951\">RequirementTest</text></a><!--MD5=[b4997ac47864f28c2f74865a473b2911]\n",
       "class E2--><a href=\"psysml:27c2a771-07cf-4bde-9591-6030a1a15742\" target=\"_top\" title=\"psysml:27c2a771-07cf-4bde-9591-6030a1a15742\" xlink:actuate=\"onRequest\" xlink:href=\"psysml:27c2a771-07cf-4bde-9591-6030a1a15742\" xlink:show=\"new\" xlink:title=\"psysml:27c2a771-07cf-4bde-9591-6030a1a15742\" xlink:type=\"simple\"><rect fill=\"#FFFFFF\" height=\"45.9375\" id=\"E2\" style=\"stroke: #383838; stroke-width: 1.5;\" width=\"104\" x=\"266\" y=\"190\"/><text fill=\"#000000\" font-family=\"sans-serif\" font-size=\"12\" font-style=\"italic\" lengthAdjust=\"spacingAndGlyphs\" textLength=\"102\" x=\"267\" y=\"206.1387\">«constraint def»</text><text fill=\"#000000\" font-family=\"sans-serif\" font-size=\"12\" lengthAdjust=\"spacingAndGlyphs\" textLength=\"8\" x=\"314\" y=\"220.1074\">C</text><line style=\"stroke: #383838; stroke-width: 1.5;\" x1=\"267\" x2=\"369\" y1=\"227.9375\" y2=\"227.9375\"/></a><!--MD5=[09b614a08d8cba4a07c9adeb5e0fee81]\n",
       "class E3--><a href=\"psysml:da02b217-f155-4220-a2dc-d840d0d24f86\" target=\"_top\" title=\"psysml:da02b217-f155-4220-a2dc-d840d0d24f86\" xlink:actuate=\"onRequest\" xlink:href=\"psysml:da02b217-f155-4220-a2dc-d840d0d24f86\" xlink:show=\"new\" xlink:title=\"psysml:da02b217-f155-4220-a2dc-d840d0d24f86\" xlink:type=\"simple\"><rect fill=\"#FFFFFF\" height=\"45.9375\" id=\"E3\" rx=\"10\" ry=\"10\" style=\"stroke: #383838; stroke-width: 1.5;\" width=\"80\" x=\"290\" y=\"62\"/><text fill=\"#000000\" font-family=\"sans-serif\" font-size=\"12\" font-style=\"italic\" lengthAdjust=\"spacingAndGlyphs\" textLength=\"78\" x=\"291\" y=\"78.1387\">«constraint»</text><text fill=\"#000000\" font-family=\"sans-serif\" font-size=\"12\" lengthAdjust=\"spacingAndGlyphs\" textLength=\"23\" x=\"318.5\" y=\"92.1074\">c: C</text><line style=\"stroke: #383838; stroke-width: 1.5;\" x1=\"291\" x2=\"369\" y1=\"99.9375\" y2=\"99.9375\"/></a><!--MD5=[ebbe1d658d1005bcc118a6aa81145e00]\n",
       "class E4--><a href=\"psysml:b9a9d178-6ba0-415d-80bd-8d7e5aacf32f\" target=\"_top\" title=\"psysml:b9a9d178-6ba0-415d-80bd-8d7e5aacf32f\" xlink:actuate=\"onRequest\" xlink:href=\"psysml:b9a9d178-6ba0-415d-80bd-8d7e5aacf32f\" xlink:show=\"new\" xlink:title=\"psysml:b9a9d178-6ba0-415d-80bd-8d7e5aacf32f\" xlink:type=\"simple\"><rect fill=\"#FFFFFF\" height=\"109.1563\" id=\"E4\" style=\"stroke: #383838; stroke-width: 1.5;\" width=\"117\" x=\"32.5\" y=\"313\"/><text fill=\"#000000\" font-family=\"sans-serif\" font-size=\"12\" font-style=\"italic\" lengthAdjust=\"spacingAndGlyphs\" textLength=\"115\" x=\"33.5\" y=\"329.1387\">«requirement def»</text><text fill=\"#000000\" font-family=\"sans-serif\" font-size=\"12\" lengthAdjust=\"spacingAndGlyphs\" textLength=\"8\" x=\"87\" y=\"343.1074\">R</text><line style=\"stroke: #383838; stroke-width: 1.5;\" x1=\"33.5\" x2=\"148.5\" y1=\"350.9375\" y2=\"350.9375\"/><text fill=\"#000000\" font-family=\"sans-serif\" font-size=\"11\" lengthAdjust=\"spacingAndGlyphs\" textLength=\"0\" x=\"42.5\" y=\"365.1479\"/><line style=\"stroke: #383838; stroke-width: 1.0;\" x1=\"33.5\" x2=\"148.5\" y1=\"371.7422\" y2=\"371.7422\"/><text fill=\"#000000\" font-family=\"sans-serif\" font-size=\"11\" font-weight=\"bold\" lengthAdjust=\"spacingAndGlyphs\" textLength=\"46\" x=\"38.5\" y=\"402.7573\">require</text><text fill=\"#000000\" font-family=\"sans-serif\" font-size=\"11\" lengthAdjust=\"spacingAndGlyphs\" textLength=\"6\" x=\"88.5\" y=\"402.7573\">c</text><text fill=\"#000000\" font-family=\"sans-serif\" font-size=\"11\" font-style=\"italic\" lengthAdjust=\"spacingAndGlyphs\" textLength=\"46\" x=\"38.5\" y=\"415.562\">assume</text><text fill=\"#000000\" font-family=\"sans-serif\" font-size=\"11\" lengthAdjust=\"spacingAndGlyphs\" textLength=\"29\" x=\"88.5\" y=\"415.562\">c1: C</text><line style=\"stroke: #383838; stroke-width: 1.0;\" x1=\"33.5\" x2=\"59\" y1=\"386.1445\" y2=\"386.1445\"/><text fill=\"#000000\" font-family=\"sans-serif\" font-size=\"11\" lengthAdjust=\"spacingAndGlyphs\" textLength=\"64\" x=\"59\" y=\"389.4526\">constraints</text><line style=\"stroke: #383838; stroke-width: 1.0;\" x1=\"123\" x2=\"148.5\" y1=\"386.1445\" y2=\"386.1445\"/></a><!--MD5=[270fce915f116d4de14055a7c1d9a0f3]\n",
       "class E5--><a href=\"psysml:5c4fbfc6-6feb-457a-9610-da755776e124\" target=\"_top\" title=\"psysml:5c4fbfc6-6feb-457a-9610-da755776e124\" xlink:actuate=\"onRequest\" xlink:href=\"psysml:5c4fbfc6-6feb-457a-9610-da755776e124\" xlink:show=\"new\" xlink:title=\"psysml:5c4fbfc6-6feb-457a-9610-da755776e124\" xlink:type=\"simple\"><rect fill=\"#FFFFFF\" height=\"66.7422\" id=\"E5\" style=\"stroke: #383838; stroke-width: 1.5;\" width=\"117\" x=\"32.5\" y=\"483\"/><text fill=\"#000000\" font-family=\"sans-serif\" font-size=\"12\" font-style=\"italic\" lengthAdjust=\"spacingAndGlyphs\" textLength=\"115\" x=\"33.5\" y=\"499.1387\">«requirement def»</text><text fill=\"#000000\" font-family=\"sans-serif\" font-size=\"12\" lengthAdjust=\"spacingAndGlyphs\" textLength=\"5\" x=\"78\" y=\"513.1074\">[</text><text fill=\"#000000\" font-family=\"sans-serif\" font-size=\"12\" font-weight=\"bold\" lengthAdjust=\"spacingAndGlyphs\" textLength=\"8\" x=\"83\" y=\"513.1074\">1</text><text fill=\"#000000\" font-family=\"sans-serif\" font-size=\"12\" lengthAdjust=\"spacingAndGlyphs\" textLength=\"17\" x=\"91\" y=\"513.1074\">] A</text><line style=\"stroke: #383838; stroke-width: 1.5;\" x1=\"33.5\" x2=\"148.5\" y1=\"520.9375\" y2=\"520.9375\"/><text fill=\"#000000\" font-family=\"sans-serif\" font-size=\"11\" lengthAdjust=\"spacingAndGlyphs\" textLength=\"24\" x=\"38.5\" y=\"535.1479\">Text</text><line style=\"stroke: #383838; stroke-width: 1.0;\" x1=\"33.5\" x2=\"148.5\" y1=\"541.7422\" y2=\"541.7422\"/></a><!--MD5=[b9389687b975829384b498ac4b7476b2]\n",
       "class E8--><a href=\"psysml:577c6bec-7675-4e65-a136-10b226b9020a\" target=\"_top\" title=\"psysml:577c6bec-7675-4e65-a136-10b226b9020a\" xlink:actuate=\"onRequest\" xlink:href=\"psysml:577c6bec-7675-4e65-a136-10b226b9020a\" xlink:show=\"new\" xlink:title=\"psysml:577c6bec-7675-4e65-a136-10b226b9020a\" xlink:type=\"simple\"><rect fill=\"#FFFFFF\" height=\"45.9375\" id=\"E8\" rx=\"10\" ry=\"10\" style=\"stroke: #383838; stroke-width: 1.5;\" width=\"93\" x=\"184.5\" y=\"493.5\"/><text fill=\"#000000\" font-family=\"sans-serif\" font-size=\"12\" font-style=\"italic\" lengthAdjust=\"spacingAndGlyphs\" textLength=\"91\" x=\"185.5\" y=\"509.6387\">«requirement»</text><text fill=\"#000000\" font-family=\"sans-serif\" font-size=\"12\" lengthAdjust=\"spacingAndGlyphs\" text-decoration=\"line-through\" textLength=\"51\" x=\"205.5\" y=\"523.6074\">noname</text><line style=\"stroke: #383838; stroke-width: 1.5;\" x1=\"185.5\" x2=\"276.5\" y1=\"531.4375\" y2=\"531.4375\"/></a><!--MD5=[fd4143e9d270a159db93a4ea2a975926]\n",
       "class E9--><a href=\"psysml:291c6c45-8332-45a6-809f-574961a49898\" target=\"_top\" title=\"psysml:291c6c45-8332-45a6-809f-574961a49898\" xlink:actuate=\"onRequest\" xlink:href=\"psysml:291c6c45-8332-45a6-809f-574961a49898\" xlink:show=\"new\" xlink:title=\"psysml:291c6c45-8332-45a6-809f-574961a49898\" xlink:type=\"simple\"><rect fill=\"#FFFFFF\" height=\"88.3516\" id=\"E9\" style=\"stroke: #383838; stroke-width: 1.5;\" width=\"145\" x=\"109.5\" y=\"41\"/><text fill=\"#000000\" font-family=\"sans-serif\" font-size=\"12\" font-style=\"italic\" lengthAdjust=\"spacingAndGlyphs\" textLength=\"115\" x=\"124.5\" y=\"57.1387\">«requirement def»</text><text fill=\"#000000\" font-family=\"sans-serif\" font-size=\"12\" lengthAdjust=\"spacingAndGlyphs\" textLength=\"16\" x=\"174\" y=\"71.1074\">R1</text><line style=\"stroke: #383838; stroke-width: 1.5;\" x1=\"110.5\" x2=\"253.5\" y1=\"78.9375\" y2=\"78.9375\"/><text fill=\"#000000\" font-family=\"sans-serif\" font-size=\"11\" font-weight=\"bold\" lengthAdjust=\"spacingAndGlyphs\" textLength=\"46\" x=\"115.5\" y=\"109.9526\">require</text><text fill=\"#000000\" font-family=\"sans-serif\" font-size=\"11\" lengthAdjust=\"spacingAndGlyphs\" textLength=\"13\" x=\"165.5\" y=\"109.9526\">c1</text><text fill=\"#000000\" font-family=\"sans-serif\" font-size=\"11\" font-style=\"italic\" lengthAdjust=\"spacingAndGlyphs\" textLength=\"133\" x=\"115.5\" y=\"122.7573\">:&gt;&gt;RequirementTest::c</text><line style=\"stroke: #383838; stroke-width: 1.0;\" x1=\"110.5\" x2=\"150\" y1=\"93.3398\" y2=\"93.3398\"/><text fill=\"#000000\" font-family=\"sans-serif\" font-size=\"11\" lengthAdjust=\"spacingAndGlyphs\" textLength=\"64\" x=\"150\" y=\"96.6479\">constraints</text><line style=\"stroke: #383838; stroke-width: 1.0;\" x1=\"214\" x2=\"253.5\" y1=\"93.3398\" y2=\"93.3398\"/></a><!--MD5=[1dd1bfd58a279cf63c5f349dbc8fc6a1]\n",
       "class E11--><a href=\"psysml:b7118396-8822-4234-af4f-531e34fd2b85\" target=\"_top\" title=\"psysml:b7118396-8822-4234-af4f-531e34fd2b85\" xlink:actuate=\"onRequest\" xlink:href=\"psysml:b7118396-8822-4234-af4f-531e34fd2b85\" xlink:show=\"new\" xlink:title=\"psysml:b7118396-8822-4234-af4f-531e34fd2b85\" xlink:type=\"simple\"><rect fill=\"#FFFFFF\" height=\"45.9375\" id=\"E11\" rx=\"10\" ry=\"10\" style=\"stroke: #383838; stroke-width: 1.5;\" width=\"42\" x=\"185\" y=\"344.5\"/><text fill=\"#000000\" font-family=\"sans-serif\" font-size=\"12\" font-style=\"italic\" lengthAdjust=\"spacingAndGlyphs\" textLength=\"40\" x=\"186\" y=\"360.6387\">«part»</text><text fill=\"#000000\" font-family=\"sans-serif\" font-size=\"12\" lengthAdjust=\"spacingAndGlyphs\" textLength=\"8\" x=\"202\" y=\"374.6074\">p</text><line style=\"stroke: #383838; stroke-width: 1.5;\" x1=\"186\" x2=\"226\" y1=\"382.4375\" y2=\"382.4375\"/></a><!--MD5=[49a0ec8f00dab7302a31f22d0f0fe584]\n",
       "class E12--><a href=\"psysml:5710aa92-7822-41e6-89ae-9d2d61cb8bf3\" target=\"_top\" title=\"psysml:5710aa92-7822-41e6-89ae-9d2d61cb8bf3\" xlink:actuate=\"onRequest\" xlink:href=\"psysml:5710aa92-7822-41e6-89ae-9d2d61cb8bf3\" xlink:show=\"new\" xlink:title=\"psysml:5710aa92-7822-41e6-89ae-9d2d61cb8bf3\" xlink:type=\"simple\"><rect fill=\"#FFFFFF\" height=\"45.9375\" id=\"E12\" rx=\"10\" ry=\"10\" style=\"stroke: #383838; stroke-width: 1.5;\" width=\"42\" x=\"32\" y=\"62\"/><text fill=\"#000000\" font-family=\"sans-serif\" font-size=\"12\" font-style=\"italic\" lengthAdjust=\"spacingAndGlyphs\" textLength=\"40\" x=\"33\" y=\"78.1387\">«part»</text><text fill=\"#000000\" font-family=\"sans-serif\" font-size=\"12\" lengthAdjust=\"spacingAndGlyphs\" textLength=\"8\" x=\"49\" y=\"92.1074\">q</text><line style=\"stroke: #383838; stroke-width: 1.5;\" x1=\"33\" x2=\"73\" y1=\"99.9375\" y2=\"99.9375\"/></a><!--MD5=[ee3c913d1a06f366521f9ef512b67efe]\n",
       "class E13--><a href=\"psysml:b72900fb-e3ca-4439-ac22-acb3bf892de5\" target=\"_top\" title=\"psysml:b72900fb-e3ca-4439-ac22-acb3bf892de5\" xlink:actuate=\"onRequest\" xlink:href=\"psysml:b72900fb-e3ca-4439-ac22-acb3bf892de5\" xlink:show=\"new\" xlink:title=\"psysml:b72900fb-e3ca-4439-ac22-acb3bf892de5\" xlink:type=\"simple\"><rect fill=\"#FFFFFF\" height=\"45.9375\" id=\"E13\" rx=\"10\" ry=\"10\" style=\"stroke: #383838; stroke-width: 1.5;\" width=\"93\" x=\"44.5\" y=\"190\"/><text fill=\"#000000\" font-family=\"sans-serif\" font-size=\"12\" font-style=\"italic\" lengthAdjust=\"spacingAndGlyphs\" textLength=\"91\" x=\"45.5\" y=\"206.1387\">«requirement»</text><text fill=\"#000000\" font-family=\"sans-serif\" font-size=\"12\" lengthAdjust=\"spacingAndGlyphs\" textLength=\"21\" x=\"80.5\" y=\"220.1074\">r: R</text><line style=\"stroke: #383838; stroke-width: 1.5;\" x1=\"45.5\" x2=\"136.5\" y1=\"227.9375\" y2=\"227.9375\"/></a><!--MD5=[05d275557350bfb9b23a4ef7222b4c39]\n",
       "link E3 to E2--><a href=\"psysml:8b4534c8-c65f-4721-aa95-1aefa1ee4858\" target=\"_top\" title=\"psysml:8b4534c8-c65f-4721-aa95-1aefa1ee4858\" xlink:actuate=\"onRequest\" xlink:href=\"psysml:8b4534c8-c65f-4721-aa95-1aefa1ee4858\" xlink:show=\"new\" xlink:title=\"psysml:8b4534c8-c65f-4721-aa95-1aefa1ee4858\" xlink:type=\"simple\"><path d=\"M327.88,108.24 C326.26,125.24 323.98,149.19 322.02,169.79 \" fill=\"none\" id=\"E3-&gt;E2\" style=\"stroke: #383838; stroke-width: 1.0;\"/><polygon fill=\"#FFFFFF\" points=\"320.1,189.99,314.9362,170.411,328.8729,171.7407,320.1,189.99\" style=\"stroke: #383838; stroke-width: 1.0;\"/><ellipse cx=\"317.4685\" cy=\"164.9268\" fill=\"#383838\" rx=\"2\" ry=\"2\" style=\"stroke: #383838; stroke-width: 1.0;\"/><ellipse cx=\"327.4233\" cy=\"165.8765\" fill=\"#383838\" rx=\"2\" ry=\"2\" style=\"stroke: #383838; stroke-width: 1.0;\"/></a><!--MD5=[62aa6af11e70f752912c1cb0466f24f7]\n",
       "reverse link E4 to E5--><a href=\"psysml:5c4fbfc6-6feb-457a-9610-da755776e124\" target=\"_top\" title=\"psysml:5c4fbfc6-6feb-457a-9610-da755776e124\" xlink:actuate=\"onRequest\" xlink:href=\"psysml:5c4fbfc6-6feb-457a-9610-da755776e124\" xlink:show=\"new\" xlink:title=\"psysml:5c4fbfc6-6feb-457a-9610-da755776e124\" xlink:type=\"simple\"><path d=\"M91,437.45 C91,453.34 91,469.51 91,482.98 \" fill=\"none\" id=\"E4&lt;-E5\" style=\"stroke: #383838; stroke-width: 1.0;\"/><ellipse cx=\"91\" cy=\"430.4\" fill=\"#FFFFFF\" rx=\"8\" ry=\"8\" style=\"stroke: #383838; stroke-width: 1.0;\"/><line style=\"stroke: #383838; stroke-width: 1.0;\" x1=\"91\" x2=\"91\" y1=\"438.4\" y2=\"422.4\"/><line style=\"stroke: #383838; stroke-width: 1.0;\" x1=\"83\" x2=\"99\" y1=\"430.4\" y2=\"430.4\"/></a><!--MD5=[c6fc7cdb0cabde04948078cf183fa696]\n",
       "reverse link E4 to E8--><a href=\"psysml:577c6bec-7675-4e65-a136-10b226b9020a\" target=\"_top\" title=\"psysml:577c6bec-7675-4e65-a136-10b226b9020a\" xlink:actuate=\"onRequest\" xlink:href=\"psysml:577c6bec-7675-4e65-a136-10b226b9020a\" xlink:show=\"new\" xlink:title=\"psysml:577c6bec-7675-4e65-a136-10b226b9020a\" xlink:type=\"simple\"><path d=\"M151.51,432.04 C172.42,453.99 194.47,477.14 210.03,493.48 \" fill=\"none\" id=\"E4&lt;-E8\" style=\"stroke: #383838; stroke-width: 1.0;\"/><polygon fill=\"#383838\" points=\"142.34,422.4,143.5779,429.5041,150.6116,431.0937,149.3737,423.9897,142.34,422.4\" style=\"stroke: #383838; stroke-width: 1.0;\"/></a><!--MD5=[062ed86c389d1a88f61c6380d0491e17]\n",
       "reverse link E12 to E13--><a href=\"psysml:b72900fb-e3ca-4439-ac22-acb3bf892de5\" target=\"_top\" title=\"psysml:b72900fb-e3ca-4439-ac22-acb3bf892de5\" xlink:actuate=\"onRequest\" xlink:href=\"psysml:b72900fb-e3ca-4439-ac22-acb3bf892de5\" xlink:show=\"new\" xlink:title=\"psysml:b72900fb-e3ca-4439-ac22-acb3bf892de5\" xlink:type=\"simple\"><path d=\"M63.49,120.8 C70.17,142.92 78.6,170.89 84.36,189.99 \" fill=\"none\" id=\"E12&lt;-E13\" style=\"stroke: #383838; stroke-width: 1.0;\"/><polygon fill=\"#383838\" points=\"59.71,108.24,57.6129,115.1394,63.1751,119.7288,65.2722,112.8294,59.71,108.24\" style=\"stroke: #383838; stroke-width: 1.0;\"/></a><!--MD5=[017847e01ff9a8bd19f247411074f987]\n",
       "link E13 to E4--><a href=\"psysml:ed6e641a-605b-4ed9-9064-d41509e7ab16\" target=\"_top\" title=\"psysml:ed6e641a-605b-4ed9-9064-d41509e7ab16\" xlink:actuate=\"onRequest\" xlink:href=\"psysml:ed6e641a-605b-4ed9-9064-d41509e7ab16\" xlink:show=\"new\" xlink:title=\"psysml:ed6e641a-605b-4ed9-9064-d41509e7ab16\" xlink:type=\"simple\"><path d=\"M91,236.17 C91,251.17 91,271.91 91,292.44 \" fill=\"none\" id=\"E13-&gt;E4\" style=\"stroke: #383838; stroke-width: 1.0;\"/><polygon fill=\"#FFFFFF\" points=\"91,312.68,84,293.68,98,293.68,91,312.68\" style=\"stroke: #383838; stroke-width: 1.0;\"/><ellipse cx=\"86\" cy=\"287.98\" fill=\"#383838\" rx=\"2\" ry=\"2\" style=\"stroke: #383838; stroke-width: 1.0;\"/><ellipse cx=\"96\" cy=\"287.98\" fill=\"#383838\" rx=\"2\" ry=\"2\" style=\"stroke: #383838; stroke-width: 1.0;\"/></a><!--MD5=[2cfe899c895462254056921bfb67315f]\n",
       "link E13 to E11--><a href=\"psysml:11f1a2a5-a4e7-4875-8b16-7052fd317758\" target=\"_top\" title=\"psysml:11f1a2a5-a4e7-4875-8b16-7052fd317758\" xlink:actuate=\"onRequest\" xlink:href=\"psysml:11f1a2a5-a4e7-4875-8b16-7052fd317758\" xlink:show=\"new\" xlink:title=\"psysml:11f1a2a5-a4e7-4875-8b16-7052fd317758\" xlink:type=\"simple\"><path d=\"M108.36,236.29 C123.87,256.28 147.14,286.45 167,313 C173.57,321.78 180.66,331.44 186.97,340.12 \" fill=\"none\" id=\"E13-&gt;E11\" style=\"stroke: #383838; stroke-width: 1.0; stroke-dasharray: 7.0,7.0;\"/><polygon fill=\"#383838\" points=\"189.99,344.28,187.9274,334.6496,187.0474,340.2376,181.4594,339.3576,189.99,344.28\" style=\"stroke: #383838; stroke-width: 1.0;\"/><text fill=\"#000000\" font-family=\"sans-serif\" font-size=\"13\" lengthAdjust=\"spacingAndGlyphs\" textLength=\"57\" x=\"145\" y=\"279.0669\">«satisfy»</text></a><!--MD5=[a750409b5bec722c5401a02d714f9f7c]\n",
       "@startuml\r\n",
       "top to bottom direction\r\n",
       "skinparam monochrome true\r\n",
       "skinparam classbackgroundcolor white\r\n",
       "skinparam shadowing false\r\n",
       "skinparam wrapWidth 300\r\n",
       "hide circle\r\n",
       "\r\n",
       "package \"RequirementTest\" as E1  [[psysml:8aa028f5-1693-4b51-bff2-c94d0f18c930 ]]  {\r\n",
       "comp def \"C\" as E2  <<(T,blue)constraint def>> [[psysml:27c2a771-07cf-4bde-9591-6030a1a15742 ]] {\r\n",
       "}\r\n",
       "comp usage \"c: C\" as E3  <<(T,blue)constraint>> [[psysml:da02b217-f155-4220-a2dc-d840d0d24f86 ]] {\r\n",
       "}\r\n",
       "comp def \"R\" as E4  <<(T,blue)requirement def>> [[psysml:b9a9d178-6ba0-415d-80bd-8d7e5aacf32f ]] {\r\n",
       "\r\n",
       "- -\r\n",
       "- - constraints - -\r\n",
       "<b>require</b> c\r\n",
       "<i>assume</i> c1: C\r\n",
       "}\r\n",
       "comp def \" [<b>1</b>] A\" as E5  <<(T,blue)requirement def>> [[psysml:5c4fbfc6-6feb-457a-9610-da755776e124 ]] {\r\n",
       "Text\r\n",
       "- -\r\n",
       "}\r\n",
       "comp usage \"<s>noname</s>\" as E8  <<(T,blue)requirement>> [[psysml:577c6bec-7675-4e65-a136-10b226b9020a ]] {\r\n",
       "}\r\n",
       "comp def \"R1\" as E9  <<(T,blue)requirement def>> [[psysml:291c6c45-8332-45a6-809f-574961a49898 ]] {\r\n",
       "- - constraints - -\r\n",
       "<b>require</b> c1\\n//:>>RequirementTest::c// \r\n",
       "}\r\n",
       "comp usage \"p\" as E11  <<(T,blue)part>> [[psysml:b7118396-8822-4234-af4f-531e34fd2b85 ]] {\r\n",
       "}\r\n",
       "comp usage \"q\" as E12  <<(T,blue)part>> [[psysml:5710aa92-7822-41e6-89ae-9d2d61cb8bf3 ]] {\r\n",
       "}\r\n",
       "comp usage \"r: R\" as E13  <<(T,blue)requirement>> [[psysml:b72900fb-e3ca-4439-ac22-acb3bf892de5 ]] {\r\n",
       "}\r\n",
       "E3 - -:|> E2 [[psysml:8b4534c8-c65f-4721-aa95-1aefa1ee4858 ]] \r\n",
       "E4 +- - E5 [[psysml:5c4fbfc6-6feb-457a-9610-da755776e124 ]] \r\n",
       "E4 *- - E8 [[psysml:577c6bec-7675-4e65-a136-10b226b9020a ]] \r\n",
       "E12 *- - E13 [[psysml:b72900fb-e3ca-4439-ac22-acb3bf892de5 ]] \r\n",
       "E13 - -:|> E4 [[psysml:ed6e641a-605b-4ed9-9064-d41509e7ab16 ]] \r\n",
       "E13 ..> E11 [[psysml:11f1a2a5-a4e7-4875-8b16-7052fd317758 ]] : <<satisfy>>\r\n",
       "}\r\n",
       "@enduml\r\n",
       "\n",
       "PlantUML version 1.2020.13(Sat Jun 13 12:26:38 UTC 2020)\n",
       "(EPL source distribution)\n",
       "Java Runtime: OpenJDK Runtime Environment\n",
       "JVM: OpenJDK 64-Bit Server VM\n",
       "Default Encoding: UTF-8\n",
       "Language: en\n",
       "Country: null\n",
       "--></g></svg>"
      ]
     },
     "execution_count": 45,
     "metadata": {},
     "output_type": "execute_result"
    }
   ],
   "source": [
    "%viz --style=\"TB\" --view=\"Tree\" \"RequirementTest\""
   ]
  },
  {
   "cell_type": "code",
   "execution_count": 46,
   "id": "accurate-mouth",
   "metadata": {
    "execution": {
     "iopub.execute_input": "2021-03-26T09:12:30.935955Z",
     "iopub.status.busy": "2021-03-26T09:12:30.935582Z",
     "iopub.status.idle": "2021-03-26T09:12:30.938300Z",
     "shell.execute_reply": "2021-03-26T09:12:30.938003Z"
    }
   },
   "outputs": [
    {
     "data": {
      "image/svg+xml": [
       "<?xml version=\"1.0\" encoding=\"UTF-8\" standalone=\"no\"?><svg xmlns=\"http://www.w3.org/2000/svg\" xmlns:xlink=\"http://www.w3.org/1999/xlink\" contentScriptType=\"application/ecmascript\" contentStyleType=\"text/css\" height=\"12px\" preserveAspectRatio=\"none\" style=\"width:12px;height:12px;\" version=\"1.1\" viewBox=\"0 0 12 12\" width=\"12px\" zoomAndPan=\"magnify\"><defs/><g><!--MD5=[f4ee21bc66e489b5061b7c3e9601fdef]\n",
       "@startuml\r\n",
       "top to bottom direction\r\n",
       "skinparam monochrome true\r\n",
       "skinparam classbackgroundcolor white\r\n",
       "skinparam shadowing false\r\n",
       "skinparam wrapWidth 300\r\n",
       "hide circle\r\n",
       "\r\n",
       "@enduml\r\n",
       "\n",
       "PlantUML version 1.2020.13(Sat Jun 13 12:26:38 UTC 2020)\n",
       "(EPL source distribution)\n",
       "Java Runtime: OpenJDK Runtime Environment\n",
       "JVM: OpenJDK 64-Bit Server VM\n",
       "Default Encoding: UTF-8\n",
       "Language: en\n",
       "Country: null\n",
       "--></g></svg>"
      ]
     },
     "execution_count": 46,
     "metadata": {},
     "output_type": "execute_result"
    }
   ],
   "source": [
    "%viz --style=\"TB\" --view=\"State\" \"RequirementTest\""
   ]
  },
  {
   "cell_type": "code",
   "execution_count": 47,
   "id": "exterior-vehicle",
   "metadata": {
    "execution": {
     "iopub.execute_input": "2021-03-26T09:12:30.988568Z",
     "iopub.status.busy": "2021-03-26T09:12:30.988189Z",
     "iopub.status.idle": "2021-03-26T09:12:31.016965Z",
     "shell.execute_reply": "2021-03-26T09:12:31.017288Z"
    }
   },
   "outputs": [
    {
     "data": {
      "image/svg+xml": [
       "<?xml version=\"1.0\" encoding=\"UTF-8\" standalone=\"no\"?><svg xmlns=\"http://www.w3.org/2000/svg\" xmlns:xlink=\"http://www.w3.org/1999/xlink\" contentScriptType=\"application/ecmascript\" contentStyleType=\"text/css\" height=\"367px\" preserveAspectRatio=\"none\" style=\"width:980px;height:367px;\" version=\"1.1\" viewBox=\"0 0 980 367\" width=\"980px\" zoomAndPan=\"magnify\"><defs/><g><!--MD5=[fbc87193dbaf4d95561dea2c320d4a47]\n",
       "cluster E1--><a href=\"psysml:8aa028f5-1693-4b51-bff2-c94d0f18c930\" target=\"_top\" title=\"psysml:8aa028f5-1693-4b51-bff2-c94d0f18c930\" xlink:actuate=\"onRequest\" xlink:href=\"psysml:8aa028f5-1693-4b51-bff2-c94d0f18c930\" xlink:show=\"new\" xlink:title=\"psysml:8aa028f5-1693-4b51-bff2-c94d0f18c930\" xlink:type=\"simple\"><polygon fill=\"#FFFFFF\" points=\"16,6,158,6,165,28.2969,958,28.2969,958,355,16,355,16,6\" style=\"stroke: #000000; stroke-width: 1.5;\"/><line style=\"stroke: #000000; stroke-width: 1.5;\" x1=\"16\" x2=\"165\" y1=\"28.2969\" y2=\"28.2969\"/><text fill=\"#000000\" font-family=\"sans-serif\" font-size=\"14\" font-weight=\"bold\" lengthAdjust=\"spacingAndGlyphs\" textLength=\"136\" x=\"20\" y=\"20.9951\">RequirementTest</text></a><!--MD5=[168fadf3d0c3fd93dd5d6da1b1d7ab76]\n",
       "cluster E7--><a href=\"psysml:5710aa92-7822-41e6-89ae-9d2d61cb8bf3\" target=\"_top\" title=\"psysml:5710aa92-7822-41e6-89ae-9d2d61cb8bf3\" xlink:actuate=\"onRequest\" xlink:href=\"psysml:5710aa92-7822-41e6-89ae-9d2d61cb8bf3\" xlink:show=\"new\" xlink:title=\"psysml:5710aa92-7822-41e6-89ae-9d2d61cb8bf3\" xlink:type=\"simple\"><rect fill=\"#FFFFFF\" height=\"209\" id=\"E7\" rx=\"10\" ry=\"10\" style=\"stroke: #383838; stroke-width: 1.5;\" width=\"213\" x=\"721\" y=\"49\"/><rect fill=\"#F8F8F8\" height=\"23.9688\" rx=\"10\" ry=\"10\" style=\"stroke: #F8F8F8; stroke-width: 1.5;\" width=\"213\" x=\"721\" y=\"49\"/><rect fill=\"#F8F8F8\" height=\"10\" style=\"stroke: #F8F8F8; stroke-width: 1.5;\" width=\"213\" x=\"721\" y=\"62.9688\"/><rect fill=\"none\" height=\"209\" id=\"E7\" rx=\"10\" ry=\"10\" style=\"stroke: #383838; stroke-width: 1.5;\" width=\"213\" x=\"721\" y=\"49\"/><text fill=\"#000000\" font-family=\"sans-serif\" font-size=\"12\" lengthAdjust=\"spacingAndGlyphs\" textLength=\"8\" x=\"823.5\" y=\"65.1387\">q</text><line style=\"stroke: #383838; stroke-width: 1.0;\" x1=\"721\" x2=\"934\" y1=\"72.9688\" y2=\"72.9688\"/></a><!--MD5=[55dfccfc6c49c2d10cd1bd2211a6c90c]\n",
       "cluster E8--><a href=\"psysml:b72900fb-e3ca-4439-ac22-acb3bf892de5\" target=\"_top\" title=\"psysml:b72900fb-e3ca-4439-ac22-acb3bf892de5\" xlink:actuate=\"onRequest\" xlink:href=\"psysml:b72900fb-e3ca-4439-ac22-acb3bf892de5\" xlink:show=\"new\" xlink:title=\"psysml:b72900fb-e3ca-4439-ac22-acb3bf892de5\" xlink:type=\"simple\"><rect fill=\"#FFFFFF\" height=\"126\" id=\"E8\" rx=\"10\" ry=\"10\" style=\"stroke: #383838; stroke-width: 1.5;\" width=\"149\" x=\"753\" y=\"100\"/><rect fill=\"#F8F8F8\" height=\"37.9375\" rx=\"10\" ry=\"10\" style=\"stroke: #F8F8F8; stroke-width: 1.5;\" width=\"149\" x=\"753\" y=\"100\"/><rect fill=\"#F8F8F8\" height=\"10\" style=\"stroke: #F8F8F8; stroke-width: 1.5;\" width=\"149\" x=\"753\" y=\"127.9375\"/><rect fill=\"none\" height=\"126\" id=\"E8\" rx=\"10\" ry=\"10\" style=\"stroke: #383838; stroke-width: 1.5;\" width=\"149\" x=\"753\" y=\"100\"/><text fill=\"#000000\" font-family=\"sans-serif\" font-size=\"12\" font-style=\"italic\" lengthAdjust=\"spacingAndGlyphs\" textLength=\"91\" x=\"782\" y=\"116.1387\">«requirement»</text><text fill=\"#000000\" font-family=\"sans-serif\" font-size=\"12\" lengthAdjust=\"spacingAndGlyphs\" textLength=\"21\" x=\"817\" y=\"130.1074\">r: R</text><line style=\"stroke: #383838; stroke-width: 1.0;\" x1=\"753\" x2=\"902\" y1=\"137.9375\" y2=\"137.9375\"/></a><!--MD5=[b4997ac47864f28c2f74865a473b2911]\n",
       "class E2--><a href=\"psysml:27c2a771-07cf-4bde-9591-6030a1a15742\" target=\"_top\" title=\"psysml:27c2a771-07cf-4bde-9591-6030a1a15742\" xlink:actuate=\"onRequest\" xlink:href=\"psysml:27c2a771-07cf-4bde-9591-6030a1a15742\" xlink:show=\"new\" xlink:title=\"psysml:27c2a771-07cf-4bde-9591-6030a1a15742\" xlink:type=\"simple\"><rect fill=\"#FFFFFF\" height=\"53.9375\" id=\"E2\" style=\"stroke: #383838; stroke-width: 1.5;\" width=\"152\" x=\"553\" y=\"153.5\"/><text fill=\"#000000\" font-family=\"sans-serif\" font-size=\"12\" font-style=\"italic\" lengthAdjust=\"spacingAndGlyphs\" textLength=\"150\" x=\"554\" y=\"169.6387\">«(T,blue)constraint def»</text><text fill=\"#000000\" font-family=\"sans-serif\" font-size=\"12\" lengthAdjust=\"spacingAndGlyphs\" textLength=\"8\" x=\"625\" y=\"183.6074\">C</text><line style=\"stroke: #383838; stroke-width: 1.5;\" x1=\"554\" x2=\"704\" y1=\"191.4375\" y2=\"191.4375\"/><line style=\"stroke: #383838; stroke-width: 1.5;\" x1=\"554\" x2=\"704\" y1=\"199.4375\" y2=\"199.4375\"/></a><!--MD5=[ebbe1d658d1005bcc118a6aa81145e00]\n",
       "class E4--><a href=\"psysml:b9a9d178-6ba0-415d-80bd-8d7e5aacf32f\" target=\"_top\" title=\"psysml:b9a9d178-6ba0-415d-80bd-8d7e5aacf32f\" xlink:actuate=\"onRequest\" xlink:href=\"psysml:b9a9d178-6ba0-415d-80bd-8d7e5aacf32f\" xlink:show=\"new\" xlink:title=\"psysml:b9a9d178-6ba0-415d-80bd-8d7e5aacf32f\" xlink:type=\"simple\"><rect fill=\"#FFFFFF\" height=\"53.9375\" id=\"E4\" style=\"stroke: #383838; stroke-width: 1.5;\" width=\"165\" x=\"352.5\" y=\"153.5\"/><text fill=\"#000000\" font-family=\"sans-serif\" font-size=\"12\" font-style=\"italic\" lengthAdjust=\"spacingAndGlyphs\" textLength=\"163\" x=\"353.5\" y=\"169.6387\">«(T,blue)requirement def»</text><text fill=\"#000000\" font-family=\"sans-serif\" font-size=\"12\" lengthAdjust=\"spacingAndGlyphs\" textLength=\"8\" x=\"431\" y=\"183.6074\">R</text><line style=\"stroke: #383838; stroke-width: 1.5;\" x1=\"353.5\" x2=\"516.5\" y1=\"191.4375\" y2=\"191.4375\"/><line style=\"stroke: #383838; stroke-width: 1.5;\" x1=\"353.5\" x2=\"516.5\" y1=\"199.4375\" y2=\"199.4375\"/></a><!--MD5=[270fce915f116d4de14055a7c1d9a0f3]\n",
       "class E5--><a href=\"psysml:291c6c45-8332-45a6-809f-574961a49898\" target=\"_top\" title=\"psysml:291c6c45-8332-45a6-809f-574961a49898\" xlink:actuate=\"onRequest\" xlink:href=\"psysml:291c6c45-8332-45a6-809f-574961a49898\" xlink:show=\"new\" xlink:title=\"psysml:291c6c45-8332-45a6-809f-574961a49898\" xlink:type=\"simple\"><rect fill=\"#FFFFFF\" height=\"53.9375\" id=\"E5\" style=\"stroke: #383838; stroke-width: 1.5;\" width=\"165\" x=\"152.5\" y=\"153.5\"/><text fill=\"#000000\" font-family=\"sans-serif\" font-size=\"12\" font-style=\"italic\" lengthAdjust=\"spacingAndGlyphs\" textLength=\"163\" x=\"153.5\" y=\"169.6387\">«(T,blue)requirement def»</text><text fill=\"#000000\" font-family=\"sans-serif\" font-size=\"12\" lengthAdjust=\"spacingAndGlyphs\" textLength=\"16\" x=\"227\" y=\"183.6074\">R1</text><line style=\"stroke: #383838; stroke-width: 1.5;\" x1=\"153.5\" x2=\"316.5\" y1=\"191.4375\" y2=\"191.4375\"/><line style=\"stroke: #383838; stroke-width: 1.5;\" x1=\"153.5\" x2=\"316.5\" y1=\"199.4375\" y2=\"199.4375\"/></a><g id=\"E1.E3\"><a href=\"psysml:da02b217-f155-4220-a2dc-d840d0d24f86\" target=\"_top\" title=\"psysml:da02b217-f155-4220-a2dc-d840d0d24f86\" xlink:actuate=\"onRequest\" xlink:href=\"psysml:da02b217-f155-4220-a2dc-d840d0d24f86\" xlink:show=\"new\" xlink:title=\"psysml:da02b217-f155-4220-a2dc-d840d0d24f86\" xlink:type=\"simple\"><rect fill=\"#FFFFFF\" height=\"42.9375\" id=\"E3\" rx=\"10\" ry=\"10\" style=\"stroke: #383838; stroke-width: 1.5;\" width=\"85\" x=\"32.5\" y=\"159\"/><rect fill=\"#F8F8F8\" height=\"37.9375\" rx=\"10\" ry=\"10\" style=\"stroke: #F8F8F8; stroke-width: 1.5;\" width=\"85\" x=\"32.5\" y=\"159\"/><rect fill=\"#F8F8F8\" height=\"10\" style=\"stroke: #F8F8F8; stroke-width: 1.5;\" width=\"85\" x=\"32.5\" y=\"186.9375\"/><rect fill=\"none\" height=\"42.9375\" id=\"E3\" rx=\"10\" ry=\"10\" style=\"stroke: #383838; stroke-width: 1.5;\" width=\"85\" x=\"32.5\" y=\"159\"/><text fill=\"#000000\" font-family=\"sans-serif\" font-size=\"12\" font-style=\"italic\" lengthAdjust=\"spacingAndGlyphs\" textLength=\"78\" x=\"36\" y=\"175.1387\">«constraint»</text><text fill=\"#000000\" font-family=\"sans-serif\" font-size=\"12\" lengthAdjust=\"spacingAndGlyphs\" textLength=\"23\" x=\"63.5\" y=\"189.1074\">c: C</text></a></g><g id=\"E1.E6\"><a href=\"psysml:b7118396-8822-4234-af4f-531e34fd2b85\" target=\"_top\" title=\"psysml:b7118396-8822-4234-af4f-531e34fd2b85\" xlink:actuate=\"onRequest\" xlink:href=\"psysml:b7118396-8822-4234-af4f-531e34fd2b85\" xlink:show=\"new\" xlink:title=\"psysml:b7118396-8822-4234-af4f-531e34fd2b85\" xlink:type=\"simple\"><rect fill=\"#FFFFFF\" height=\"40\" id=\"E6\" rx=\"10\" ry=\"10\" style=\"stroke: #383838; stroke-width: 1.5;\" width=\"50\" x=\"736\" y=\"299\"/><rect fill=\"#F8F8F8\" height=\"23.9688\" rx=\"10\" ry=\"10\" style=\"stroke: #F8F8F8; stroke-width: 1.5;\" width=\"50\" x=\"736\" y=\"299\"/><rect fill=\"#F8F8F8\" height=\"10\" style=\"stroke: #F8F8F8; stroke-width: 1.5;\" width=\"50\" x=\"736\" y=\"312.9688\"/><rect fill=\"none\" height=\"40\" id=\"E6\" rx=\"10\" ry=\"10\" style=\"stroke: #383838; stroke-width: 1.5;\" width=\"50\" x=\"736\" y=\"299\"/><text fill=\"#000000\" font-family=\"sans-serif\" font-size=\"12\" lengthAdjust=\"spacingAndGlyphs\" textLength=\"8\" x=\"757\" y=\"315.1387\">p</text></a></g><g id=\"E1.E7.E8.E9\"><a href=\"psysml:b3b786b4-2056-4ded-a351-3a90cb9a49e0\" target=\"_top\" title=\"psysml:b3b786b4-2056-4ded-a351-3a90cb9a49e0\" xlink:actuate=\"onRequest\" xlink:href=\"psysml:b3b786b4-2056-4ded-a351-3a90cb9a49e0\" xlink:show=\"new\" xlink:title=\"psysml:b3b786b4-2056-4ded-a351-3a90cb9a49e0\" xlink:type=\"simple\"><rect fill=\"#FFFFFF\" height=\"42.9375\" id=\"E9\" rx=\"10\" ry=\"10\" style=\"stroke: #383838; stroke-width: 1.5;\" width=\"82\" x=\"796\" y=\"159\"/><rect fill=\"#F8F8F8\" height=\"37.9375\" rx=\"10\" ry=\"10\" style=\"stroke: #F8F8F8; stroke-width: 1.5;\" width=\"82\" x=\"796\" y=\"159\"/><rect fill=\"#F8F8F8\" height=\"10\" style=\"stroke: #F8F8F8; stroke-width: 1.5;\" width=\"82\" x=\"796\" y=\"186.9375\"/><rect fill=\"none\" height=\"42.9375\" id=\"E9\" rx=\"10\" ry=\"10\" style=\"stroke: #383838; stroke-width: 1.5;\" width=\"82\" x=\"796\" y=\"159\"/><text fill=\"#000000\" font-family=\"sans-serif\" font-size=\"12\" font-style=\"italic\" lengthAdjust=\"spacingAndGlyphs\" textLength=\"75\" x=\"799.5\" y=\"175.1387\">«reference»</text><text fill=\"#000000\" font-family=\"sans-serif\" font-size=\"12\" lengthAdjust=\"spacingAndGlyphs\" textLength=\"26\" x=\"824\" y=\"189.1074\">subj</text></a></g><!--MD5=[c5e8897d989ce984f93528998a7150fe]\n",
       "link E8 to E6--><a href=\"psysml:11f1a2a5-a4e7-4875-8b16-7052fd317758\" target=\"_top\" title=\"psysml:11f1a2a5-a4e7-4875-8b16-7052fd317758\" xlink:actuate=\"onRequest\" xlink:href=\"psysml:11f1a2a5-a4e7-4875-8b16-7052fd317758\" xlink:show=\"new\" xlink:title=\"psysml:11f1a2a5-a4e7-4875-8b16-7052fd317758\" xlink:type=\"simple\"><path d=\"M761,226.4501 C761,227.1713 761,227.8965 761,228.6252 C761,230.0826 761,231.5543 761,233.0372 C761,236.003 761,239.0136 761,242.0448 C761,248.1072 761,254.2518 761,260.2839 C761,272.3481 761,283.9625 761,293.57 \" fill=\"none\" id=\"E8-&gt;E6\" style=\"stroke: #383838; stroke-width: 1.0; stroke-dasharray: 7.0,7.0;\"/><polygon fill=\"#383838\" points=\"761,298.99,765,289.99,761,293.99,757,289.99,761,298.99\" style=\"stroke: #383838; stroke-width: 1.0;\"/><text fill=\"#000000\" font-family=\"sans-serif\" font-size=\"13\" lengthAdjust=\"spacingAndGlyphs\" textLength=\"57\" x=\"762\" y=\"287.0669\">«satisfy»</text></a><!--MD5=[d53fb78b0c71d779c35d1ea278c3cd41]\n",
       "@startuml\r\n",
       "skinparam ranksep 8\r\n",
       "skinparam rectangle {\r\n",
       " backgroundColor<<block>> LightGreen\r\n",
       "}\r\n",
       "top to bottom direction\r\n",
       "skinparam monochrome true\r\n",
       "skinparam classbackgroundcolor white\r\n",
       "skinparam shadowing false\r\n",
       "skinparam wrapWidth 300\r\n",
       "hide circle\r\n",
       "\r\n",
       "package \"RequirementTest\" as E1  [[psysml:8aa028f5-1693-4b51-bff2-c94d0f18c930 ]]  {\r\n",
       "def \"C\" as E2  <<(T,blue)constraint def>> [[psysml:27c2a771-07cf-4bde-9591-6030a1a15742 ]] \r\n",
       "rec usage \"c: C\" as E3  <<(T,blue)constraint>> [[psysml:da02b217-f155-4220-a2dc-d840d0d24f86 ]] {\r\n",
       "}\r\n",
       "def \"R\" as E4  <<(T,blue)requirement def>> [[psysml:b9a9d178-6ba0-415d-80bd-8d7e5aacf32f ]] \r\n",
       "def \"R1\" as E5  <<(T,blue)requirement def>> [[psysml:291c6c45-8332-45a6-809f-574961a49898 ]] \r\n",
       "rec usage \"p\" as E6  [[psysml:b7118396-8822-4234-af4f-531e34fd2b85 ]] {\r\n",
       "}\r\n",
       "rec usage \"q\" as E7  [[psysml:5710aa92-7822-41e6-89ae-9d2d61cb8bf3 ]] {\r\n",
       "rec usage \"r: R\" as E8  <<(T,blue)requirement>> [[psysml:b72900fb-e3ca-4439-ac22-acb3bf892de5 ]] {\r\n",
       "rec usage \"subj\" as E9  <<(T,blue)reference>> [[psysml:b3b786b4-2056-4ded-a351-3a90cb9a49e0 ]] {\r\n",
       "}\r\n",
       "}\r\n",
       "}\r\n",
       "E8 ..> E6 [[psysml:11f1a2a5-a4e7-4875-8b16-7052fd317758 ]] : <<satisfy>>\r\n",
       "}\r\n",
       "@enduml\r\n",
       "\n",
       "PlantUML version 1.2020.13(Sat Jun 13 12:26:38 UTC 2020)\n",
       "(EPL source distribution)\n",
       "Java Runtime: OpenJDK Runtime Environment\n",
       "JVM: OpenJDK 64-Bit Server VM\n",
       "Default Encoding: UTF-8\n",
       "Language: en\n",
       "Country: null\n",
       "--></g></svg>"
      ]
     },
     "execution_count": 47,
     "metadata": {},
     "output_type": "execute_result"
    }
   ],
   "source": [
    "%viz --style=\"TB\" --view=\"Interconnection\" \"RequirementTest\""
   ]
  },
  {
   "cell_type": "code",
   "execution_count": 48,
   "id": "ahead-prince",
   "metadata": {
    "execution": {
     "iopub.execute_input": "2021-03-26T09:12:31.067863Z",
     "iopub.status.busy": "2021-03-26T09:12:31.067273Z",
     "iopub.status.idle": "2021-03-26T09:12:31.072175Z",
     "shell.execute_reply": "2021-03-26T09:12:31.071875Z"
    }
   },
   "outputs": [
    {
     "data": {
      "image/svg+xml": [
       "<?xml version=\"1.0\" encoding=\"UTF-8\" standalone=\"no\"?><svg xmlns=\"http://www.w3.org/2000/svg\" xmlns:xlink=\"http://www.w3.org/1999/xlink\" contentScriptType=\"application/ecmascript\" contentStyleType=\"text/css\" height=\"12px\" preserveAspectRatio=\"none\" style=\"width:12px;height:12px;\" version=\"1.1\" viewBox=\"0 0 12 12\" width=\"12px\" zoomAndPan=\"magnify\"><defs/><g><!--MD5=[06afc254b03ac5e9d9fb7773b07d0800]\n",
       "@startuml\r\n",
       "skinparam ranksep 8\r\n",
       "top to bottom direction\r\n",
       "skinparam monochrome true\r\n",
       "skinparam classbackgroundcolor white\r\n",
       "skinparam shadowing false\r\n",
       "skinparam wrapWidth 300\r\n",
       "hide circle\r\n",
       "\r\n",
       "@enduml\r\n",
       "\n",
       "PlantUML version 1.2020.13(Sat Jun 13 12:26:38 UTC 2020)\n",
       "(EPL source distribution)\n",
       "Java Runtime: OpenJDK Runtime Environment\n",
       "JVM: OpenJDK 64-Bit Server VM\n",
       "Default Encoding: UTF-8\n",
       "Language: en\n",
       "Country: null\n",
       "--></g></svg>"
      ]
     },
     "execution_count": 48,
     "metadata": {},
     "output_type": "execute_result"
    }
   ],
   "source": [
    "%viz --style=\"TB\" --view=\"Action\" \"RequirementTest\""
   ]
  },
  {
   "cell_type": "code",
   "execution_count": 49,
   "id": "interim-asset",
   "metadata": {
    "execution": {
     "iopub.execute_input": "2021-03-26T09:12:31.122175Z",
     "iopub.status.busy": "2021-03-26T09:12:31.121860Z",
     "iopub.status.idle": "2021-03-26T09:12:31.205429Z",
     "shell.execute_reply": "2021-03-26T09:12:31.203899Z"
    }
   },
   "outputs": [
    {
     "data": {
      "image/svg+xml": [
       "<?xml version=\"1.0\" encoding=\"UTF-8\" standalone=\"no\"?><svg xmlns=\"http://www.w3.org/2000/svg\" xmlns:xlink=\"http://www.w3.org/1999/xlink\" contentScriptType=\"application/ecmascript\" contentStyleType=\"text/css\" height=\"578px\" preserveAspectRatio=\"none\" style=\"width:408px;height:578px;\" version=\"1.1\" viewBox=\"0 0 408 578\" width=\"408px\" zoomAndPan=\"magnify\"><defs/><g><!--MD5=[fbc87193dbaf4d95561dea2c320d4a47]\n",
       "cluster E1--><a href=\"psysml:8aa028f5-1693-4b51-bff2-c94d0f18c930\" target=\"_top\" title=\"psysml:8aa028f5-1693-4b51-bff2-c94d0f18c930\" xlink:actuate=\"onRequest\" xlink:href=\"psysml:8aa028f5-1693-4b51-bff2-c94d0f18c930\" xlink:show=\"new\" xlink:title=\"psysml:8aa028f5-1693-4b51-bff2-c94d0f18c930\" xlink:type=\"simple\"><polygon fill=\"#FFFFFF\" points=\"16,6,158,6,165,28.2969,386,28.2969,386,566,16,566,16,6\" style=\"stroke: #000000; stroke-width: 1.5;\"/><line style=\"stroke: #000000; stroke-width: 1.5;\" x1=\"16\" x2=\"165\" y1=\"28.2969\" y2=\"28.2969\"/><text fill=\"#000000\" font-family=\"sans-serif\" font-size=\"14\" font-weight=\"bold\" lengthAdjust=\"spacingAndGlyphs\" textLength=\"136\" x=\"20\" y=\"20.9951\">RequirementTest</text></a><!--MD5=[b4997ac47864f28c2f74865a473b2911]\n",
       "class E2--><a href=\"psysml:27c2a771-07cf-4bde-9591-6030a1a15742\" target=\"_top\" title=\"psysml:27c2a771-07cf-4bde-9591-6030a1a15742\" xlink:actuate=\"onRequest\" xlink:href=\"psysml:27c2a771-07cf-4bde-9591-6030a1a15742\" xlink:show=\"new\" xlink:title=\"psysml:27c2a771-07cf-4bde-9591-6030a1a15742\" xlink:type=\"simple\"><rect fill=\"#FFFFFF\" height=\"45.9375\" id=\"E2\" style=\"stroke: #383838; stroke-width: 1.5;\" width=\"104\" x=\"266\" y=\"190\"/><text fill=\"#000000\" font-family=\"sans-serif\" font-size=\"12\" font-style=\"italic\" lengthAdjust=\"spacingAndGlyphs\" textLength=\"102\" x=\"267\" y=\"206.1387\">«constraint def»</text><text fill=\"#000000\" font-family=\"sans-serif\" font-size=\"12\" lengthAdjust=\"spacingAndGlyphs\" textLength=\"8\" x=\"314\" y=\"220.1074\">C</text><line style=\"stroke: #383838; stroke-width: 1.5;\" x1=\"267\" x2=\"369\" y1=\"227.9375\" y2=\"227.9375\"/></a><!--MD5=[09b614a08d8cba4a07c9adeb5e0fee81]\n",
       "class E3--><a href=\"psysml:da02b217-f155-4220-a2dc-d840d0d24f86\" target=\"_top\" title=\"psysml:da02b217-f155-4220-a2dc-d840d0d24f86\" xlink:actuate=\"onRequest\" xlink:href=\"psysml:da02b217-f155-4220-a2dc-d840d0d24f86\" xlink:show=\"new\" xlink:title=\"psysml:da02b217-f155-4220-a2dc-d840d0d24f86\" xlink:type=\"simple\"><rect fill=\"#FFFFFF\" height=\"45.9375\" id=\"E3\" rx=\"10\" ry=\"10\" style=\"stroke: #383838; stroke-width: 1.5;\" width=\"80\" x=\"290\" y=\"62\"/><text fill=\"#000000\" font-family=\"sans-serif\" font-size=\"12\" font-style=\"italic\" lengthAdjust=\"spacingAndGlyphs\" textLength=\"78\" x=\"291\" y=\"78.1387\">«constraint»</text><text fill=\"#000000\" font-family=\"sans-serif\" font-size=\"12\" lengthAdjust=\"spacingAndGlyphs\" textLength=\"23\" x=\"318.5\" y=\"92.1074\">c: C</text><line style=\"stroke: #383838; stroke-width: 1.5;\" x1=\"291\" x2=\"369\" y1=\"99.9375\" y2=\"99.9375\"/></a><!--MD5=[ebbe1d658d1005bcc118a6aa81145e00]\n",
       "class E4--><a href=\"psysml:b9a9d178-6ba0-415d-80bd-8d7e5aacf32f\" target=\"_top\" title=\"psysml:b9a9d178-6ba0-415d-80bd-8d7e5aacf32f\" xlink:actuate=\"onRequest\" xlink:href=\"psysml:b9a9d178-6ba0-415d-80bd-8d7e5aacf32f\" xlink:show=\"new\" xlink:title=\"psysml:b9a9d178-6ba0-415d-80bd-8d7e5aacf32f\" xlink:type=\"simple\"><rect fill=\"#FFFFFF\" height=\"109.1563\" id=\"E4\" style=\"stroke: #383838; stroke-width: 1.5;\" width=\"117\" x=\"32.5\" y=\"313\"/><text fill=\"#000000\" font-family=\"sans-serif\" font-size=\"12\" font-style=\"italic\" lengthAdjust=\"spacingAndGlyphs\" textLength=\"115\" x=\"33.5\" y=\"329.1387\">«requirement def»</text><text fill=\"#000000\" font-family=\"sans-serif\" font-size=\"12\" lengthAdjust=\"spacingAndGlyphs\" textLength=\"8\" x=\"87\" y=\"343.1074\">R</text><line style=\"stroke: #383838; stroke-width: 1.5;\" x1=\"33.5\" x2=\"148.5\" y1=\"350.9375\" y2=\"350.9375\"/><text fill=\"#000000\" font-family=\"sans-serif\" font-size=\"11\" lengthAdjust=\"spacingAndGlyphs\" textLength=\"0\" x=\"42.5\" y=\"365.1479\"/><line style=\"stroke: #383838; stroke-width: 1.0;\" x1=\"33.5\" x2=\"148.5\" y1=\"371.7422\" y2=\"371.7422\"/><text fill=\"#000000\" font-family=\"sans-serif\" font-size=\"11\" font-weight=\"bold\" lengthAdjust=\"spacingAndGlyphs\" textLength=\"46\" x=\"38.5\" y=\"402.7573\">require</text><text fill=\"#000000\" font-family=\"sans-serif\" font-size=\"11\" lengthAdjust=\"spacingAndGlyphs\" textLength=\"6\" x=\"88.5\" y=\"402.7573\">c</text><text fill=\"#000000\" font-family=\"sans-serif\" font-size=\"11\" font-style=\"italic\" lengthAdjust=\"spacingAndGlyphs\" textLength=\"46\" x=\"38.5\" y=\"415.562\">assume</text><text fill=\"#000000\" font-family=\"sans-serif\" font-size=\"11\" lengthAdjust=\"spacingAndGlyphs\" textLength=\"29\" x=\"88.5\" y=\"415.562\">c1: C</text><line style=\"stroke: #383838; stroke-width: 1.0;\" x1=\"33.5\" x2=\"59\" y1=\"386.1445\" y2=\"386.1445\"/><text fill=\"#000000\" font-family=\"sans-serif\" font-size=\"11\" lengthAdjust=\"spacingAndGlyphs\" textLength=\"64\" x=\"59\" y=\"389.4526\">constraints</text><line style=\"stroke: #383838; stroke-width: 1.0;\" x1=\"123\" x2=\"148.5\" y1=\"386.1445\" y2=\"386.1445\"/></a><!--MD5=[270fce915f116d4de14055a7c1d9a0f3]\n",
       "class E5--><a href=\"psysml:5c4fbfc6-6feb-457a-9610-da755776e124\" target=\"_top\" title=\"psysml:5c4fbfc6-6feb-457a-9610-da755776e124\" xlink:actuate=\"onRequest\" xlink:href=\"psysml:5c4fbfc6-6feb-457a-9610-da755776e124\" xlink:show=\"new\" xlink:title=\"psysml:5c4fbfc6-6feb-457a-9610-da755776e124\" xlink:type=\"simple\"><rect fill=\"#FFFFFF\" height=\"66.7422\" id=\"E5\" style=\"stroke: #383838; stroke-width: 1.5;\" width=\"117\" x=\"32.5\" y=\"483\"/><text fill=\"#000000\" font-family=\"sans-serif\" font-size=\"12\" font-style=\"italic\" lengthAdjust=\"spacingAndGlyphs\" textLength=\"115\" x=\"33.5\" y=\"499.1387\">«requirement def»</text><text fill=\"#000000\" font-family=\"sans-serif\" font-size=\"12\" lengthAdjust=\"spacingAndGlyphs\" textLength=\"5\" x=\"78\" y=\"513.1074\">[</text><text fill=\"#000000\" font-family=\"sans-serif\" font-size=\"12\" font-weight=\"bold\" lengthAdjust=\"spacingAndGlyphs\" textLength=\"8\" x=\"83\" y=\"513.1074\">1</text><text fill=\"#000000\" font-family=\"sans-serif\" font-size=\"12\" lengthAdjust=\"spacingAndGlyphs\" textLength=\"17\" x=\"91\" y=\"513.1074\">] A</text><line style=\"stroke: #383838; stroke-width: 1.5;\" x1=\"33.5\" x2=\"148.5\" y1=\"520.9375\" y2=\"520.9375\"/><text fill=\"#000000\" font-family=\"sans-serif\" font-size=\"11\" lengthAdjust=\"spacingAndGlyphs\" textLength=\"24\" x=\"38.5\" y=\"535.1479\">Text</text><line style=\"stroke: #383838; stroke-width: 1.0;\" x1=\"33.5\" x2=\"148.5\" y1=\"541.7422\" y2=\"541.7422\"/></a><!--MD5=[b9389687b975829384b498ac4b7476b2]\n",
       "class E8--><a href=\"psysml:577c6bec-7675-4e65-a136-10b226b9020a\" target=\"_top\" title=\"psysml:577c6bec-7675-4e65-a136-10b226b9020a\" xlink:actuate=\"onRequest\" xlink:href=\"psysml:577c6bec-7675-4e65-a136-10b226b9020a\" xlink:show=\"new\" xlink:title=\"psysml:577c6bec-7675-4e65-a136-10b226b9020a\" xlink:type=\"simple\"><rect fill=\"#FFFFFF\" height=\"45.9375\" id=\"E8\" rx=\"10\" ry=\"10\" style=\"stroke: #383838; stroke-width: 1.5;\" width=\"93\" x=\"184.5\" y=\"493.5\"/><text fill=\"#000000\" font-family=\"sans-serif\" font-size=\"12\" font-style=\"italic\" lengthAdjust=\"spacingAndGlyphs\" textLength=\"91\" x=\"185.5\" y=\"509.6387\">«requirement»</text><text fill=\"#000000\" font-family=\"sans-serif\" font-size=\"12\" lengthAdjust=\"spacingAndGlyphs\" text-decoration=\"line-through\" textLength=\"51\" x=\"205.5\" y=\"523.6074\">noname</text><line style=\"stroke: #383838; stroke-width: 1.5;\" x1=\"185.5\" x2=\"276.5\" y1=\"531.4375\" y2=\"531.4375\"/></a><!--MD5=[fd4143e9d270a159db93a4ea2a975926]\n",
       "class E9--><a href=\"psysml:291c6c45-8332-45a6-809f-574961a49898\" target=\"_top\" title=\"psysml:291c6c45-8332-45a6-809f-574961a49898\" xlink:actuate=\"onRequest\" xlink:href=\"psysml:291c6c45-8332-45a6-809f-574961a49898\" xlink:show=\"new\" xlink:title=\"psysml:291c6c45-8332-45a6-809f-574961a49898\" xlink:type=\"simple\"><rect fill=\"#FFFFFF\" height=\"88.3516\" id=\"E9\" style=\"stroke: #383838; stroke-width: 1.5;\" width=\"145\" x=\"109.5\" y=\"41\"/><text fill=\"#000000\" font-family=\"sans-serif\" font-size=\"12\" font-style=\"italic\" lengthAdjust=\"spacingAndGlyphs\" textLength=\"115\" x=\"124.5\" y=\"57.1387\">«requirement def»</text><text fill=\"#000000\" font-family=\"sans-serif\" font-size=\"12\" lengthAdjust=\"spacingAndGlyphs\" textLength=\"16\" x=\"174\" y=\"71.1074\">R1</text><line style=\"stroke: #383838; stroke-width: 1.5;\" x1=\"110.5\" x2=\"253.5\" y1=\"78.9375\" y2=\"78.9375\"/><text fill=\"#000000\" font-family=\"sans-serif\" font-size=\"11\" font-weight=\"bold\" lengthAdjust=\"spacingAndGlyphs\" textLength=\"46\" x=\"115.5\" y=\"109.9526\">require</text><text fill=\"#000000\" font-family=\"sans-serif\" font-size=\"11\" lengthAdjust=\"spacingAndGlyphs\" textLength=\"13\" x=\"165.5\" y=\"109.9526\">c1</text><text fill=\"#000000\" font-family=\"sans-serif\" font-size=\"11\" font-style=\"italic\" lengthAdjust=\"spacingAndGlyphs\" textLength=\"133\" x=\"115.5\" y=\"122.7573\">:&gt;&gt;RequirementTest::c</text><line style=\"stroke: #383838; stroke-width: 1.0;\" x1=\"110.5\" x2=\"150\" y1=\"93.3398\" y2=\"93.3398\"/><text fill=\"#000000\" font-family=\"sans-serif\" font-size=\"11\" lengthAdjust=\"spacingAndGlyphs\" textLength=\"64\" x=\"150\" y=\"96.6479\">constraints</text><line style=\"stroke: #383838; stroke-width: 1.0;\" x1=\"214\" x2=\"253.5\" y1=\"93.3398\" y2=\"93.3398\"/></a><!--MD5=[1dd1bfd58a279cf63c5f349dbc8fc6a1]\n",
       "class E11--><a href=\"psysml:b7118396-8822-4234-af4f-531e34fd2b85\" target=\"_top\" title=\"psysml:b7118396-8822-4234-af4f-531e34fd2b85\" xlink:actuate=\"onRequest\" xlink:href=\"psysml:b7118396-8822-4234-af4f-531e34fd2b85\" xlink:show=\"new\" xlink:title=\"psysml:b7118396-8822-4234-af4f-531e34fd2b85\" xlink:type=\"simple\"><rect fill=\"#FFFFFF\" height=\"45.9375\" id=\"E11\" rx=\"10\" ry=\"10\" style=\"stroke: #383838; stroke-width: 1.5;\" width=\"42\" x=\"185\" y=\"344.5\"/><text fill=\"#000000\" font-family=\"sans-serif\" font-size=\"12\" font-style=\"italic\" lengthAdjust=\"spacingAndGlyphs\" textLength=\"40\" x=\"186\" y=\"360.6387\">«part»</text><text fill=\"#000000\" font-family=\"sans-serif\" font-size=\"12\" lengthAdjust=\"spacingAndGlyphs\" textLength=\"8\" x=\"202\" y=\"374.6074\">p</text><line style=\"stroke: #383838; stroke-width: 1.5;\" x1=\"186\" x2=\"226\" y1=\"382.4375\" y2=\"382.4375\"/></a><!--MD5=[49a0ec8f00dab7302a31f22d0f0fe584]\n",
       "class E12--><a href=\"psysml:5710aa92-7822-41e6-89ae-9d2d61cb8bf3\" target=\"_top\" title=\"psysml:5710aa92-7822-41e6-89ae-9d2d61cb8bf3\" xlink:actuate=\"onRequest\" xlink:href=\"psysml:5710aa92-7822-41e6-89ae-9d2d61cb8bf3\" xlink:show=\"new\" xlink:title=\"psysml:5710aa92-7822-41e6-89ae-9d2d61cb8bf3\" xlink:type=\"simple\"><rect fill=\"#FFFFFF\" height=\"45.9375\" id=\"E12\" rx=\"10\" ry=\"10\" style=\"stroke: #383838; stroke-width: 1.5;\" width=\"42\" x=\"32\" y=\"62\"/><text fill=\"#000000\" font-family=\"sans-serif\" font-size=\"12\" font-style=\"italic\" lengthAdjust=\"spacingAndGlyphs\" textLength=\"40\" x=\"33\" y=\"78.1387\">«part»</text><text fill=\"#000000\" font-family=\"sans-serif\" font-size=\"12\" lengthAdjust=\"spacingAndGlyphs\" textLength=\"8\" x=\"49\" y=\"92.1074\">q</text><line style=\"stroke: #383838; stroke-width: 1.5;\" x1=\"33\" x2=\"73\" y1=\"99.9375\" y2=\"99.9375\"/></a><!--MD5=[ee3c913d1a06f366521f9ef512b67efe]\n",
       "class E13--><a href=\"psysml:b72900fb-e3ca-4439-ac22-acb3bf892de5\" target=\"_top\" title=\"psysml:b72900fb-e3ca-4439-ac22-acb3bf892de5\" xlink:actuate=\"onRequest\" xlink:href=\"psysml:b72900fb-e3ca-4439-ac22-acb3bf892de5\" xlink:show=\"new\" xlink:title=\"psysml:b72900fb-e3ca-4439-ac22-acb3bf892de5\" xlink:type=\"simple\"><rect fill=\"#FFFFFF\" height=\"45.9375\" id=\"E13\" rx=\"10\" ry=\"10\" style=\"stroke: #383838; stroke-width: 1.5;\" width=\"93\" x=\"44.5\" y=\"190\"/><text fill=\"#000000\" font-family=\"sans-serif\" font-size=\"12\" font-style=\"italic\" lengthAdjust=\"spacingAndGlyphs\" textLength=\"91\" x=\"45.5\" y=\"206.1387\">«requirement»</text><text fill=\"#000000\" font-family=\"sans-serif\" font-size=\"12\" lengthAdjust=\"spacingAndGlyphs\" textLength=\"21\" x=\"80.5\" y=\"220.1074\">r: R</text><line style=\"stroke: #383838; stroke-width: 1.5;\" x1=\"45.5\" x2=\"136.5\" y1=\"227.9375\" y2=\"227.9375\"/></a><!--MD5=[05d275557350bfb9b23a4ef7222b4c39]\n",
       "link E3 to E2--><a href=\"psysml:8b4534c8-c65f-4721-aa95-1aefa1ee4858\" target=\"_top\" title=\"psysml:8b4534c8-c65f-4721-aa95-1aefa1ee4858\" xlink:actuate=\"onRequest\" xlink:href=\"psysml:8b4534c8-c65f-4721-aa95-1aefa1ee4858\" xlink:show=\"new\" xlink:title=\"psysml:8b4534c8-c65f-4721-aa95-1aefa1ee4858\" xlink:type=\"simple\"><path d=\"M327.88,108.24 C326.26,125.24 323.98,149.19 322.02,169.79 \" fill=\"none\" id=\"E3-&gt;E2\" style=\"stroke: #383838; stroke-width: 1.0;\"/><polygon fill=\"#FFFFFF\" points=\"320.1,189.99,314.9362,170.411,328.8729,171.7407,320.1,189.99\" style=\"stroke: #383838; stroke-width: 1.0;\"/><ellipse cx=\"317.4685\" cy=\"164.9268\" fill=\"#383838\" rx=\"2\" ry=\"2\" style=\"stroke: #383838; stroke-width: 1.0;\"/><ellipse cx=\"327.4233\" cy=\"165.8765\" fill=\"#383838\" rx=\"2\" ry=\"2\" style=\"stroke: #383838; stroke-width: 1.0;\"/></a><!--MD5=[62aa6af11e70f752912c1cb0466f24f7]\n",
       "reverse link E4 to E5--><a href=\"psysml:5c4fbfc6-6feb-457a-9610-da755776e124\" target=\"_top\" title=\"psysml:5c4fbfc6-6feb-457a-9610-da755776e124\" xlink:actuate=\"onRequest\" xlink:href=\"psysml:5c4fbfc6-6feb-457a-9610-da755776e124\" xlink:show=\"new\" xlink:title=\"psysml:5c4fbfc6-6feb-457a-9610-da755776e124\" xlink:type=\"simple\"><path d=\"M91,437.45 C91,453.34 91,469.51 91,482.98 \" fill=\"none\" id=\"E4&lt;-E5\" style=\"stroke: #383838; stroke-width: 1.0;\"/><ellipse cx=\"91\" cy=\"430.4\" fill=\"#FFFFFF\" rx=\"8\" ry=\"8\" style=\"stroke: #383838; stroke-width: 1.0;\"/><line style=\"stroke: #383838; stroke-width: 1.0;\" x1=\"91\" x2=\"91\" y1=\"438.4\" y2=\"422.4\"/><line style=\"stroke: #383838; stroke-width: 1.0;\" x1=\"83\" x2=\"99\" y1=\"430.4\" y2=\"430.4\"/></a><!--MD5=[c6fc7cdb0cabde04948078cf183fa696]\n",
       "reverse link E4 to E8--><a href=\"psysml:577c6bec-7675-4e65-a136-10b226b9020a\" target=\"_top\" title=\"psysml:577c6bec-7675-4e65-a136-10b226b9020a\" xlink:actuate=\"onRequest\" xlink:href=\"psysml:577c6bec-7675-4e65-a136-10b226b9020a\" xlink:show=\"new\" xlink:title=\"psysml:577c6bec-7675-4e65-a136-10b226b9020a\" xlink:type=\"simple\"><path d=\"M151.51,432.04 C172.42,453.99 194.47,477.14 210.03,493.48 \" fill=\"none\" id=\"E4&lt;-E8\" style=\"stroke: #383838; stroke-width: 1.0;\"/><polygon fill=\"#383838\" points=\"142.34,422.4,143.5779,429.5041,150.6116,431.0937,149.3737,423.9897,142.34,422.4\" style=\"stroke: #383838; stroke-width: 1.0;\"/></a><!--MD5=[062ed86c389d1a88f61c6380d0491e17]\n",
       "reverse link E12 to E13--><a href=\"psysml:b72900fb-e3ca-4439-ac22-acb3bf892de5\" target=\"_top\" title=\"psysml:b72900fb-e3ca-4439-ac22-acb3bf892de5\" xlink:actuate=\"onRequest\" xlink:href=\"psysml:b72900fb-e3ca-4439-ac22-acb3bf892de5\" xlink:show=\"new\" xlink:title=\"psysml:b72900fb-e3ca-4439-ac22-acb3bf892de5\" xlink:type=\"simple\"><path d=\"M63.49,120.8 C70.17,142.92 78.6,170.89 84.36,189.99 \" fill=\"none\" id=\"E12&lt;-E13\" style=\"stroke: #383838; stroke-width: 1.0;\"/><polygon fill=\"#383838\" points=\"59.71,108.24,57.6129,115.1394,63.1751,119.7288,65.2722,112.8294,59.71,108.24\" style=\"stroke: #383838; stroke-width: 1.0;\"/></a><!--MD5=[017847e01ff9a8bd19f247411074f987]\n",
       "link E13 to E4--><a href=\"psysml:ed6e641a-605b-4ed9-9064-d41509e7ab16\" target=\"_top\" title=\"psysml:ed6e641a-605b-4ed9-9064-d41509e7ab16\" xlink:actuate=\"onRequest\" xlink:href=\"psysml:ed6e641a-605b-4ed9-9064-d41509e7ab16\" xlink:show=\"new\" xlink:title=\"psysml:ed6e641a-605b-4ed9-9064-d41509e7ab16\" xlink:type=\"simple\"><path d=\"M91,236.17 C91,251.17 91,271.91 91,292.44 \" fill=\"none\" id=\"E13-&gt;E4\" style=\"stroke: #383838; stroke-width: 1.0;\"/><polygon fill=\"#FFFFFF\" points=\"91,312.68,84,293.68,98,293.68,91,312.68\" style=\"stroke: #383838; stroke-width: 1.0;\"/><ellipse cx=\"86\" cy=\"287.98\" fill=\"#383838\" rx=\"2\" ry=\"2\" style=\"stroke: #383838; stroke-width: 1.0;\"/><ellipse cx=\"96\" cy=\"287.98\" fill=\"#383838\" rx=\"2\" ry=\"2\" style=\"stroke: #383838; stroke-width: 1.0;\"/></a><!--MD5=[2cfe899c895462254056921bfb67315f]\n",
       "link E13 to E11--><a href=\"psysml:11f1a2a5-a4e7-4875-8b16-7052fd317758\" target=\"_top\" title=\"psysml:11f1a2a5-a4e7-4875-8b16-7052fd317758\" xlink:actuate=\"onRequest\" xlink:href=\"psysml:11f1a2a5-a4e7-4875-8b16-7052fd317758\" xlink:show=\"new\" xlink:title=\"psysml:11f1a2a5-a4e7-4875-8b16-7052fd317758\" xlink:type=\"simple\"><path d=\"M108.36,236.29 C123.87,256.28 147.14,286.45 167,313 C173.57,321.78 180.66,331.44 186.97,340.12 \" fill=\"none\" id=\"E13-&gt;E11\" style=\"stroke: #383838; stroke-width: 1.0; stroke-dasharray: 7.0,7.0;\"/><polygon fill=\"#383838\" points=\"189.99,344.28,187.9274,334.6496,187.0474,340.2376,181.4594,339.3576,189.99,344.28\" style=\"stroke: #383838; stroke-width: 1.0;\"/><text fill=\"#000000\" font-family=\"sans-serif\" font-size=\"13\" lengthAdjust=\"spacingAndGlyphs\" textLength=\"57\" x=\"145\" y=\"279.0669\">«satisfy»</text></a><!--MD5=[a750409b5bec722c5401a02d714f9f7c]\n",
       "@startuml\r\n",
       "top to bottom direction\r\n",
       "skinparam monochrome true\r\n",
       "skinparam classbackgroundcolor white\r\n",
       "skinparam shadowing false\r\n",
       "skinparam wrapWidth 300\r\n",
       "hide circle\r\n",
       "\r\n",
       "package \"RequirementTest\" as E1  [[psysml:8aa028f5-1693-4b51-bff2-c94d0f18c930 ]]  {\r\n",
       "comp def \"C\" as E2  <<(T,blue)constraint def>> [[psysml:27c2a771-07cf-4bde-9591-6030a1a15742 ]] {\r\n",
       "}\r\n",
       "comp usage \"c: C\" as E3  <<(T,blue)constraint>> [[psysml:da02b217-f155-4220-a2dc-d840d0d24f86 ]] {\r\n",
       "}\r\n",
       "comp def \"R\" as E4  <<(T,blue)requirement def>> [[psysml:b9a9d178-6ba0-415d-80bd-8d7e5aacf32f ]] {\r\n",
       "\r\n",
       "- -\r\n",
       "- - constraints - -\r\n",
       "<b>require</b> c\r\n",
       "<i>assume</i> c1: C\r\n",
       "}\r\n",
       "comp def \" [<b>1</b>] A\" as E5  <<(T,blue)requirement def>> [[psysml:5c4fbfc6-6feb-457a-9610-da755776e124 ]] {\r\n",
       "Text\r\n",
       "- -\r\n",
       "}\r\n",
       "comp usage \"<s>noname</s>\" as E8  <<(T,blue)requirement>> [[psysml:577c6bec-7675-4e65-a136-10b226b9020a ]] {\r\n",
       "}\r\n",
       "comp def \"R1\" as E9  <<(T,blue)requirement def>> [[psysml:291c6c45-8332-45a6-809f-574961a49898 ]] {\r\n",
       "- - constraints - -\r\n",
       "<b>require</b> c1\\n//:>>RequirementTest::c// \r\n",
       "}\r\n",
       "comp usage \"p\" as E11  <<(T,blue)part>> [[psysml:b7118396-8822-4234-af4f-531e34fd2b85 ]] {\r\n",
       "}\r\n",
       "comp usage \"q\" as E12  <<(T,blue)part>> [[psysml:5710aa92-7822-41e6-89ae-9d2d61cb8bf3 ]] {\r\n",
       "}\r\n",
       "comp usage \"r: R\" as E13  <<(T,blue)requirement>> [[psysml:b72900fb-e3ca-4439-ac22-acb3bf892de5 ]] {\r\n",
       "}\r\n",
       "E3 - -:|> E2 [[psysml:8b4534c8-c65f-4721-aa95-1aefa1ee4858 ]] \r\n",
       "E4 +- - E5 [[psysml:5c4fbfc6-6feb-457a-9610-da755776e124 ]] \r\n",
       "E4 *- - E8 [[psysml:577c6bec-7675-4e65-a136-10b226b9020a ]] \r\n",
       "E12 *- - E13 [[psysml:b72900fb-e3ca-4439-ac22-acb3bf892de5 ]] \r\n",
       "E13 - -:|> E4 [[psysml:ed6e641a-605b-4ed9-9064-d41509e7ab16 ]] \r\n",
       "E13 ..> E11 [[psysml:11f1a2a5-a4e7-4875-8b16-7052fd317758 ]] : <<satisfy>>\r\n",
       "}\r\n",
       "@enduml\r\n",
       "\n",
       "PlantUML version 1.2020.13(Sat Jun 13 12:26:38 UTC 2020)\n",
       "(EPL source distribution)\n",
       "Java Runtime: OpenJDK Runtime Environment\n",
       "JVM: OpenJDK 64-Bit Server VM\n",
       "Default Encoding: UTF-8\n",
       "Language: en\n",
       "Country: null\n",
       "--></g></svg>"
      ]
     },
     "execution_count": 49,
     "metadata": {},
     "output_type": "execute_result"
    }
   ],
   "source": [
    "%viz --style=\"TB\" --view=\"Sequence\" \"RequirementTest\""
   ]
  },
  {
   "cell_type": "code",
   "execution_count": 50,
   "id": "alternate-refund",
   "metadata": {
    "execution": {
     "iopub.execute_input": "2021-03-26T09:12:31.256815Z",
     "iopub.status.busy": "2021-03-26T09:12:31.256293Z",
     "iopub.status.idle": "2021-03-26T09:12:31.338995Z",
     "shell.execute_reply": "2021-03-26T09:12:31.337585Z"
    }
   },
   "outputs": [
    {
     "data": {
      "image/svg+xml": [
       "<?xml version=\"1.0\" encoding=\"UTF-8\" standalone=\"no\"?><svg xmlns=\"http://www.w3.org/2000/svg\" xmlns:xlink=\"http://www.w3.org/1999/xlink\" contentScriptType=\"application/ecmascript\" contentStyleType=\"text/css\" height=\"578px\" preserveAspectRatio=\"none\" style=\"width:408px;height:578px;\" version=\"1.1\" viewBox=\"0 0 408 578\" width=\"408px\" zoomAndPan=\"magnify\"><defs/><g><!--MD5=[fbc87193dbaf4d95561dea2c320d4a47]\n",
       "cluster E1--><a href=\"psysml:8aa028f5-1693-4b51-bff2-c94d0f18c930\" target=\"_top\" title=\"psysml:8aa028f5-1693-4b51-bff2-c94d0f18c930\" xlink:actuate=\"onRequest\" xlink:href=\"psysml:8aa028f5-1693-4b51-bff2-c94d0f18c930\" xlink:show=\"new\" xlink:title=\"psysml:8aa028f5-1693-4b51-bff2-c94d0f18c930\" xlink:type=\"simple\"><polygon fill=\"#FFFFFF\" points=\"16,6,158,6,165,28.2969,386,28.2969,386,566,16,566,16,6\" style=\"stroke: #000000; stroke-width: 1.5;\"/><line style=\"stroke: #000000; stroke-width: 1.5;\" x1=\"16\" x2=\"165\" y1=\"28.2969\" y2=\"28.2969\"/><text fill=\"#000000\" font-family=\"sans-serif\" font-size=\"14\" font-weight=\"bold\" lengthAdjust=\"spacingAndGlyphs\" textLength=\"136\" x=\"20\" y=\"20.9951\">RequirementTest</text></a><!--MD5=[b4997ac47864f28c2f74865a473b2911]\n",
       "class E2--><a href=\"psysml:27c2a771-07cf-4bde-9591-6030a1a15742\" target=\"_top\" title=\"psysml:27c2a771-07cf-4bde-9591-6030a1a15742\" xlink:actuate=\"onRequest\" xlink:href=\"psysml:27c2a771-07cf-4bde-9591-6030a1a15742\" xlink:show=\"new\" xlink:title=\"psysml:27c2a771-07cf-4bde-9591-6030a1a15742\" xlink:type=\"simple\"><rect fill=\"#FFFFFF\" height=\"45.9375\" id=\"E2\" style=\"stroke: #383838; stroke-width: 1.5;\" width=\"104\" x=\"266\" y=\"190\"/><text fill=\"#000000\" font-family=\"sans-serif\" font-size=\"12\" font-style=\"italic\" lengthAdjust=\"spacingAndGlyphs\" textLength=\"102\" x=\"267\" y=\"206.1387\">«constraint def»</text><text fill=\"#000000\" font-family=\"sans-serif\" font-size=\"12\" lengthAdjust=\"spacingAndGlyphs\" textLength=\"8\" x=\"314\" y=\"220.1074\">C</text><line style=\"stroke: #383838; stroke-width: 1.5;\" x1=\"267\" x2=\"369\" y1=\"227.9375\" y2=\"227.9375\"/></a><!--MD5=[09b614a08d8cba4a07c9adeb5e0fee81]\n",
       "class E3--><a href=\"psysml:da02b217-f155-4220-a2dc-d840d0d24f86\" target=\"_top\" title=\"psysml:da02b217-f155-4220-a2dc-d840d0d24f86\" xlink:actuate=\"onRequest\" xlink:href=\"psysml:da02b217-f155-4220-a2dc-d840d0d24f86\" xlink:show=\"new\" xlink:title=\"psysml:da02b217-f155-4220-a2dc-d840d0d24f86\" xlink:type=\"simple\"><rect fill=\"#FFFFFF\" height=\"45.9375\" id=\"E3\" rx=\"10\" ry=\"10\" style=\"stroke: #383838; stroke-width: 1.5;\" width=\"80\" x=\"290\" y=\"62\"/><text fill=\"#000000\" font-family=\"sans-serif\" font-size=\"12\" font-style=\"italic\" lengthAdjust=\"spacingAndGlyphs\" textLength=\"78\" x=\"291\" y=\"78.1387\">«constraint»</text><text fill=\"#000000\" font-family=\"sans-serif\" font-size=\"12\" lengthAdjust=\"spacingAndGlyphs\" textLength=\"23\" x=\"318.5\" y=\"92.1074\">c: C</text><line style=\"stroke: #383838; stroke-width: 1.5;\" x1=\"291\" x2=\"369\" y1=\"99.9375\" y2=\"99.9375\"/></a><!--MD5=[ebbe1d658d1005bcc118a6aa81145e00]\n",
       "class E4--><a href=\"psysml:b9a9d178-6ba0-415d-80bd-8d7e5aacf32f\" target=\"_top\" title=\"psysml:b9a9d178-6ba0-415d-80bd-8d7e5aacf32f\" xlink:actuate=\"onRequest\" xlink:href=\"psysml:b9a9d178-6ba0-415d-80bd-8d7e5aacf32f\" xlink:show=\"new\" xlink:title=\"psysml:b9a9d178-6ba0-415d-80bd-8d7e5aacf32f\" xlink:type=\"simple\"><rect fill=\"#FFFFFF\" height=\"109.1563\" id=\"E4\" style=\"stroke: #383838; stroke-width: 1.5;\" width=\"117\" x=\"32.5\" y=\"313\"/><text fill=\"#000000\" font-family=\"sans-serif\" font-size=\"12\" font-style=\"italic\" lengthAdjust=\"spacingAndGlyphs\" textLength=\"115\" x=\"33.5\" y=\"329.1387\">«requirement def»</text><text fill=\"#000000\" font-family=\"sans-serif\" font-size=\"12\" lengthAdjust=\"spacingAndGlyphs\" textLength=\"8\" x=\"87\" y=\"343.1074\">R</text><line style=\"stroke: #383838; stroke-width: 1.5;\" x1=\"33.5\" x2=\"148.5\" y1=\"350.9375\" y2=\"350.9375\"/><text fill=\"#000000\" font-family=\"sans-serif\" font-size=\"11\" lengthAdjust=\"spacingAndGlyphs\" textLength=\"0\" x=\"42.5\" y=\"365.1479\"/><line style=\"stroke: #383838; stroke-width: 1.0;\" x1=\"33.5\" x2=\"148.5\" y1=\"371.7422\" y2=\"371.7422\"/><text fill=\"#000000\" font-family=\"sans-serif\" font-size=\"11\" font-weight=\"bold\" lengthAdjust=\"spacingAndGlyphs\" textLength=\"46\" x=\"38.5\" y=\"402.7573\">require</text><text fill=\"#000000\" font-family=\"sans-serif\" font-size=\"11\" lengthAdjust=\"spacingAndGlyphs\" textLength=\"6\" x=\"88.5\" y=\"402.7573\">c</text><text fill=\"#000000\" font-family=\"sans-serif\" font-size=\"11\" font-style=\"italic\" lengthAdjust=\"spacingAndGlyphs\" textLength=\"46\" x=\"38.5\" y=\"415.562\">assume</text><text fill=\"#000000\" font-family=\"sans-serif\" font-size=\"11\" lengthAdjust=\"spacingAndGlyphs\" textLength=\"29\" x=\"88.5\" y=\"415.562\">c1: C</text><line style=\"stroke: #383838; stroke-width: 1.0;\" x1=\"33.5\" x2=\"59\" y1=\"386.1445\" y2=\"386.1445\"/><text fill=\"#000000\" font-family=\"sans-serif\" font-size=\"11\" lengthAdjust=\"spacingAndGlyphs\" textLength=\"64\" x=\"59\" y=\"389.4526\">constraints</text><line style=\"stroke: #383838; stroke-width: 1.0;\" x1=\"123\" x2=\"148.5\" y1=\"386.1445\" y2=\"386.1445\"/></a><!--MD5=[270fce915f116d4de14055a7c1d9a0f3]\n",
       "class E5--><a href=\"psysml:5c4fbfc6-6feb-457a-9610-da755776e124\" target=\"_top\" title=\"psysml:5c4fbfc6-6feb-457a-9610-da755776e124\" xlink:actuate=\"onRequest\" xlink:href=\"psysml:5c4fbfc6-6feb-457a-9610-da755776e124\" xlink:show=\"new\" xlink:title=\"psysml:5c4fbfc6-6feb-457a-9610-da755776e124\" xlink:type=\"simple\"><rect fill=\"#FFFFFF\" height=\"66.7422\" id=\"E5\" style=\"stroke: #383838; stroke-width: 1.5;\" width=\"117\" x=\"32.5\" y=\"483\"/><text fill=\"#000000\" font-family=\"sans-serif\" font-size=\"12\" font-style=\"italic\" lengthAdjust=\"spacingAndGlyphs\" textLength=\"115\" x=\"33.5\" y=\"499.1387\">«requirement def»</text><text fill=\"#000000\" font-family=\"sans-serif\" font-size=\"12\" lengthAdjust=\"spacingAndGlyphs\" textLength=\"5\" x=\"78\" y=\"513.1074\">[</text><text fill=\"#000000\" font-family=\"sans-serif\" font-size=\"12\" font-weight=\"bold\" lengthAdjust=\"spacingAndGlyphs\" textLength=\"8\" x=\"83\" y=\"513.1074\">1</text><text fill=\"#000000\" font-family=\"sans-serif\" font-size=\"12\" lengthAdjust=\"spacingAndGlyphs\" textLength=\"17\" x=\"91\" y=\"513.1074\">] A</text><line style=\"stroke: #383838; stroke-width: 1.5;\" x1=\"33.5\" x2=\"148.5\" y1=\"520.9375\" y2=\"520.9375\"/><text fill=\"#000000\" font-family=\"sans-serif\" font-size=\"11\" lengthAdjust=\"spacingAndGlyphs\" textLength=\"24\" x=\"38.5\" y=\"535.1479\">Text</text><line style=\"stroke: #383838; stroke-width: 1.0;\" x1=\"33.5\" x2=\"148.5\" y1=\"541.7422\" y2=\"541.7422\"/></a><!--MD5=[b9389687b975829384b498ac4b7476b2]\n",
       "class E8--><a href=\"psysml:577c6bec-7675-4e65-a136-10b226b9020a\" target=\"_top\" title=\"psysml:577c6bec-7675-4e65-a136-10b226b9020a\" xlink:actuate=\"onRequest\" xlink:href=\"psysml:577c6bec-7675-4e65-a136-10b226b9020a\" xlink:show=\"new\" xlink:title=\"psysml:577c6bec-7675-4e65-a136-10b226b9020a\" xlink:type=\"simple\"><rect fill=\"#FFFFFF\" height=\"45.9375\" id=\"E8\" rx=\"10\" ry=\"10\" style=\"stroke: #383838; stroke-width: 1.5;\" width=\"93\" x=\"184.5\" y=\"493.5\"/><text fill=\"#000000\" font-family=\"sans-serif\" font-size=\"12\" font-style=\"italic\" lengthAdjust=\"spacingAndGlyphs\" textLength=\"91\" x=\"185.5\" y=\"509.6387\">«requirement»</text><text fill=\"#000000\" font-family=\"sans-serif\" font-size=\"12\" lengthAdjust=\"spacingAndGlyphs\" text-decoration=\"line-through\" textLength=\"51\" x=\"205.5\" y=\"523.6074\">noname</text><line style=\"stroke: #383838; stroke-width: 1.5;\" x1=\"185.5\" x2=\"276.5\" y1=\"531.4375\" y2=\"531.4375\"/></a><!--MD5=[fd4143e9d270a159db93a4ea2a975926]\n",
       "class E9--><a href=\"psysml:291c6c45-8332-45a6-809f-574961a49898\" target=\"_top\" title=\"psysml:291c6c45-8332-45a6-809f-574961a49898\" xlink:actuate=\"onRequest\" xlink:href=\"psysml:291c6c45-8332-45a6-809f-574961a49898\" xlink:show=\"new\" xlink:title=\"psysml:291c6c45-8332-45a6-809f-574961a49898\" xlink:type=\"simple\"><rect fill=\"#FFFFFF\" height=\"88.3516\" id=\"E9\" style=\"stroke: #383838; stroke-width: 1.5;\" width=\"145\" x=\"109.5\" y=\"41\"/><text fill=\"#000000\" font-family=\"sans-serif\" font-size=\"12\" font-style=\"italic\" lengthAdjust=\"spacingAndGlyphs\" textLength=\"115\" x=\"124.5\" y=\"57.1387\">«requirement def»</text><text fill=\"#000000\" font-family=\"sans-serif\" font-size=\"12\" lengthAdjust=\"spacingAndGlyphs\" textLength=\"16\" x=\"174\" y=\"71.1074\">R1</text><line style=\"stroke: #383838; stroke-width: 1.5;\" x1=\"110.5\" x2=\"253.5\" y1=\"78.9375\" y2=\"78.9375\"/><text fill=\"#000000\" font-family=\"sans-serif\" font-size=\"11\" font-weight=\"bold\" lengthAdjust=\"spacingAndGlyphs\" textLength=\"46\" x=\"115.5\" y=\"109.9526\">require</text><text fill=\"#000000\" font-family=\"sans-serif\" font-size=\"11\" lengthAdjust=\"spacingAndGlyphs\" textLength=\"13\" x=\"165.5\" y=\"109.9526\">c1</text><text fill=\"#000000\" font-family=\"sans-serif\" font-size=\"11\" font-style=\"italic\" lengthAdjust=\"spacingAndGlyphs\" textLength=\"133\" x=\"115.5\" y=\"122.7573\">:&gt;&gt;RequirementTest::c</text><line style=\"stroke: #383838; stroke-width: 1.0;\" x1=\"110.5\" x2=\"150\" y1=\"93.3398\" y2=\"93.3398\"/><text fill=\"#000000\" font-family=\"sans-serif\" font-size=\"11\" lengthAdjust=\"spacingAndGlyphs\" textLength=\"64\" x=\"150\" y=\"96.6479\">constraints</text><line style=\"stroke: #383838; stroke-width: 1.0;\" x1=\"214\" x2=\"253.5\" y1=\"93.3398\" y2=\"93.3398\"/></a><!--MD5=[1dd1bfd58a279cf63c5f349dbc8fc6a1]\n",
       "class E11--><a href=\"psysml:b7118396-8822-4234-af4f-531e34fd2b85\" target=\"_top\" title=\"psysml:b7118396-8822-4234-af4f-531e34fd2b85\" xlink:actuate=\"onRequest\" xlink:href=\"psysml:b7118396-8822-4234-af4f-531e34fd2b85\" xlink:show=\"new\" xlink:title=\"psysml:b7118396-8822-4234-af4f-531e34fd2b85\" xlink:type=\"simple\"><rect fill=\"#FFFFFF\" height=\"45.9375\" id=\"E11\" rx=\"10\" ry=\"10\" style=\"stroke: #383838; stroke-width: 1.5;\" width=\"42\" x=\"185\" y=\"344.5\"/><text fill=\"#000000\" font-family=\"sans-serif\" font-size=\"12\" font-style=\"italic\" lengthAdjust=\"spacingAndGlyphs\" textLength=\"40\" x=\"186\" y=\"360.6387\">«part»</text><text fill=\"#000000\" font-family=\"sans-serif\" font-size=\"12\" lengthAdjust=\"spacingAndGlyphs\" textLength=\"8\" x=\"202\" y=\"374.6074\">p</text><line style=\"stroke: #383838; stroke-width: 1.5;\" x1=\"186\" x2=\"226\" y1=\"382.4375\" y2=\"382.4375\"/></a><!--MD5=[49a0ec8f00dab7302a31f22d0f0fe584]\n",
       "class E12--><a href=\"psysml:5710aa92-7822-41e6-89ae-9d2d61cb8bf3\" target=\"_top\" title=\"psysml:5710aa92-7822-41e6-89ae-9d2d61cb8bf3\" xlink:actuate=\"onRequest\" xlink:href=\"psysml:5710aa92-7822-41e6-89ae-9d2d61cb8bf3\" xlink:show=\"new\" xlink:title=\"psysml:5710aa92-7822-41e6-89ae-9d2d61cb8bf3\" xlink:type=\"simple\"><rect fill=\"#FFFFFF\" height=\"45.9375\" id=\"E12\" rx=\"10\" ry=\"10\" style=\"stroke: #383838; stroke-width: 1.5;\" width=\"42\" x=\"32\" y=\"62\"/><text fill=\"#000000\" font-family=\"sans-serif\" font-size=\"12\" font-style=\"italic\" lengthAdjust=\"spacingAndGlyphs\" textLength=\"40\" x=\"33\" y=\"78.1387\">«part»</text><text fill=\"#000000\" font-family=\"sans-serif\" font-size=\"12\" lengthAdjust=\"spacingAndGlyphs\" textLength=\"8\" x=\"49\" y=\"92.1074\">q</text><line style=\"stroke: #383838; stroke-width: 1.5;\" x1=\"33\" x2=\"73\" y1=\"99.9375\" y2=\"99.9375\"/></a><!--MD5=[ee3c913d1a06f366521f9ef512b67efe]\n",
       "class E13--><a href=\"psysml:b72900fb-e3ca-4439-ac22-acb3bf892de5\" target=\"_top\" title=\"psysml:b72900fb-e3ca-4439-ac22-acb3bf892de5\" xlink:actuate=\"onRequest\" xlink:href=\"psysml:b72900fb-e3ca-4439-ac22-acb3bf892de5\" xlink:show=\"new\" xlink:title=\"psysml:b72900fb-e3ca-4439-ac22-acb3bf892de5\" xlink:type=\"simple\"><rect fill=\"#FFFFFF\" height=\"45.9375\" id=\"E13\" rx=\"10\" ry=\"10\" style=\"stroke: #383838; stroke-width: 1.5;\" width=\"93\" x=\"44.5\" y=\"190\"/><text fill=\"#000000\" font-family=\"sans-serif\" font-size=\"12\" font-style=\"italic\" lengthAdjust=\"spacingAndGlyphs\" textLength=\"91\" x=\"45.5\" y=\"206.1387\">«requirement»</text><text fill=\"#000000\" font-family=\"sans-serif\" font-size=\"12\" lengthAdjust=\"spacingAndGlyphs\" textLength=\"21\" x=\"80.5\" y=\"220.1074\">r: R</text><line style=\"stroke: #383838; stroke-width: 1.5;\" x1=\"45.5\" x2=\"136.5\" y1=\"227.9375\" y2=\"227.9375\"/></a><!--MD5=[05d275557350bfb9b23a4ef7222b4c39]\n",
       "link E3 to E2--><a href=\"psysml:8b4534c8-c65f-4721-aa95-1aefa1ee4858\" target=\"_top\" title=\"psysml:8b4534c8-c65f-4721-aa95-1aefa1ee4858\" xlink:actuate=\"onRequest\" xlink:href=\"psysml:8b4534c8-c65f-4721-aa95-1aefa1ee4858\" xlink:show=\"new\" xlink:title=\"psysml:8b4534c8-c65f-4721-aa95-1aefa1ee4858\" xlink:type=\"simple\"><path d=\"M327.88,108.24 C326.26,125.24 323.98,149.19 322.02,169.79 \" fill=\"none\" id=\"E3-&gt;E2\" style=\"stroke: #383838; stroke-width: 1.0;\"/><polygon fill=\"#FFFFFF\" points=\"320.1,189.99,314.9362,170.411,328.8729,171.7407,320.1,189.99\" style=\"stroke: #383838; stroke-width: 1.0;\"/><ellipse cx=\"317.4685\" cy=\"164.9268\" fill=\"#383838\" rx=\"2\" ry=\"2\" style=\"stroke: #383838; stroke-width: 1.0;\"/><ellipse cx=\"327.4233\" cy=\"165.8765\" fill=\"#383838\" rx=\"2\" ry=\"2\" style=\"stroke: #383838; stroke-width: 1.0;\"/></a><!--MD5=[62aa6af11e70f752912c1cb0466f24f7]\n",
       "reverse link E4 to E5--><a href=\"psysml:5c4fbfc6-6feb-457a-9610-da755776e124\" target=\"_top\" title=\"psysml:5c4fbfc6-6feb-457a-9610-da755776e124\" xlink:actuate=\"onRequest\" xlink:href=\"psysml:5c4fbfc6-6feb-457a-9610-da755776e124\" xlink:show=\"new\" xlink:title=\"psysml:5c4fbfc6-6feb-457a-9610-da755776e124\" xlink:type=\"simple\"><path d=\"M91,437.45 C91,453.34 91,469.51 91,482.98 \" fill=\"none\" id=\"E4&lt;-E5\" style=\"stroke: #383838; stroke-width: 1.0;\"/><ellipse cx=\"91\" cy=\"430.4\" fill=\"#FFFFFF\" rx=\"8\" ry=\"8\" style=\"stroke: #383838; stroke-width: 1.0;\"/><line style=\"stroke: #383838; stroke-width: 1.0;\" x1=\"91\" x2=\"91\" y1=\"438.4\" y2=\"422.4\"/><line style=\"stroke: #383838; stroke-width: 1.0;\" x1=\"83\" x2=\"99\" y1=\"430.4\" y2=\"430.4\"/></a><!--MD5=[c6fc7cdb0cabde04948078cf183fa696]\n",
       "reverse link E4 to E8--><a href=\"psysml:577c6bec-7675-4e65-a136-10b226b9020a\" target=\"_top\" title=\"psysml:577c6bec-7675-4e65-a136-10b226b9020a\" xlink:actuate=\"onRequest\" xlink:href=\"psysml:577c6bec-7675-4e65-a136-10b226b9020a\" xlink:show=\"new\" xlink:title=\"psysml:577c6bec-7675-4e65-a136-10b226b9020a\" xlink:type=\"simple\"><path d=\"M151.51,432.04 C172.42,453.99 194.47,477.14 210.03,493.48 \" fill=\"none\" id=\"E4&lt;-E8\" style=\"stroke: #383838; stroke-width: 1.0;\"/><polygon fill=\"#383838\" points=\"142.34,422.4,143.5779,429.5041,150.6116,431.0937,149.3737,423.9897,142.34,422.4\" style=\"stroke: #383838; stroke-width: 1.0;\"/></a><!--MD5=[062ed86c389d1a88f61c6380d0491e17]\n",
       "reverse link E12 to E13--><a href=\"psysml:b72900fb-e3ca-4439-ac22-acb3bf892de5\" target=\"_top\" title=\"psysml:b72900fb-e3ca-4439-ac22-acb3bf892de5\" xlink:actuate=\"onRequest\" xlink:href=\"psysml:b72900fb-e3ca-4439-ac22-acb3bf892de5\" xlink:show=\"new\" xlink:title=\"psysml:b72900fb-e3ca-4439-ac22-acb3bf892de5\" xlink:type=\"simple\"><path d=\"M63.49,120.8 C70.17,142.92 78.6,170.89 84.36,189.99 \" fill=\"none\" id=\"E12&lt;-E13\" style=\"stroke: #383838; stroke-width: 1.0;\"/><polygon fill=\"#383838\" points=\"59.71,108.24,57.6129,115.1394,63.1751,119.7288,65.2722,112.8294,59.71,108.24\" style=\"stroke: #383838; stroke-width: 1.0;\"/></a><!--MD5=[017847e01ff9a8bd19f247411074f987]\n",
       "link E13 to E4--><a href=\"psysml:ed6e641a-605b-4ed9-9064-d41509e7ab16\" target=\"_top\" title=\"psysml:ed6e641a-605b-4ed9-9064-d41509e7ab16\" xlink:actuate=\"onRequest\" xlink:href=\"psysml:ed6e641a-605b-4ed9-9064-d41509e7ab16\" xlink:show=\"new\" xlink:title=\"psysml:ed6e641a-605b-4ed9-9064-d41509e7ab16\" xlink:type=\"simple\"><path d=\"M91,236.17 C91,251.17 91,271.91 91,292.44 \" fill=\"none\" id=\"E13-&gt;E4\" style=\"stroke: #383838; stroke-width: 1.0;\"/><polygon fill=\"#FFFFFF\" points=\"91,312.68,84,293.68,98,293.68,91,312.68\" style=\"stroke: #383838; stroke-width: 1.0;\"/><ellipse cx=\"86\" cy=\"287.98\" fill=\"#383838\" rx=\"2\" ry=\"2\" style=\"stroke: #383838; stroke-width: 1.0;\"/><ellipse cx=\"96\" cy=\"287.98\" fill=\"#383838\" rx=\"2\" ry=\"2\" style=\"stroke: #383838; stroke-width: 1.0;\"/></a><!--MD5=[2cfe899c895462254056921bfb67315f]\n",
       "link E13 to E11--><a href=\"psysml:11f1a2a5-a4e7-4875-8b16-7052fd317758\" target=\"_top\" title=\"psysml:11f1a2a5-a4e7-4875-8b16-7052fd317758\" xlink:actuate=\"onRequest\" xlink:href=\"psysml:11f1a2a5-a4e7-4875-8b16-7052fd317758\" xlink:show=\"new\" xlink:title=\"psysml:11f1a2a5-a4e7-4875-8b16-7052fd317758\" xlink:type=\"simple\"><path d=\"M108.36,236.29 C123.87,256.28 147.14,286.45 167,313 C173.57,321.78 180.66,331.44 186.97,340.12 \" fill=\"none\" id=\"E13-&gt;E11\" style=\"stroke: #383838; stroke-width: 1.0; stroke-dasharray: 7.0,7.0;\"/><polygon fill=\"#383838\" points=\"189.99,344.28,187.9274,334.6496,187.0474,340.2376,181.4594,339.3576,189.99,344.28\" style=\"stroke: #383838; stroke-width: 1.0;\"/><text fill=\"#000000\" font-family=\"sans-serif\" font-size=\"13\" lengthAdjust=\"spacingAndGlyphs\" textLength=\"57\" x=\"145\" y=\"279.0669\">«satisfy»</text></a><!--MD5=[a750409b5bec722c5401a02d714f9f7c]\n",
       "@startuml\r\n",
       "top to bottom direction\r\n",
       "skinparam monochrome true\r\n",
       "skinparam classbackgroundcolor white\r\n",
       "skinparam shadowing false\r\n",
       "skinparam wrapWidth 300\r\n",
       "hide circle\r\n",
       "\r\n",
       "package \"RequirementTest\" as E1  [[psysml:8aa028f5-1693-4b51-bff2-c94d0f18c930 ]]  {\r\n",
       "comp def \"C\" as E2  <<(T,blue)constraint def>> [[psysml:27c2a771-07cf-4bde-9591-6030a1a15742 ]] {\r\n",
       "}\r\n",
       "comp usage \"c: C\" as E3  <<(T,blue)constraint>> [[psysml:da02b217-f155-4220-a2dc-d840d0d24f86 ]] {\r\n",
       "}\r\n",
       "comp def \"R\" as E4  <<(T,blue)requirement def>> [[psysml:b9a9d178-6ba0-415d-80bd-8d7e5aacf32f ]] {\r\n",
       "\r\n",
       "- -\r\n",
       "- - constraints - -\r\n",
       "<b>require</b> c\r\n",
       "<i>assume</i> c1: C\r\n",
       "}\r\n",
       "comp def \" [<b>1</b>] A\" as E5  <<(T,blue)requirement def>> [[psysml:5c4fbfc6-6feb-457a-9610-da755776e124 ]] {\r\n",
       "Text\r\n",
       "- -\r\n",
       "}\r\n",
       "comp usage \"<s>noname</s>\" as E8  <<(T,blue)requirement>> [[psysml:577c6bec-7675-4e65-a136-10b226b9020a ]] {\r\n",
       "}\r\n",
       "comp def \"R1\" as E9  <<(T,blue)requirement def>> [[psysml:291c6c45-8332-45a6-809f-574961a49898 ]] {\r\n",
       "- - constraints - -\r\n",
       "<b>require</b> c1\\n//:>>RequirementTest::c// \r\n",
       "}\r\n",
       "comp usage \"p\" as E11  <<(T,blue)part>> [[psysml:b7118396-8822-4234-af4f-531e34fd2b85 ]] {\r\n",
       "}\r\n",
       "comp usage \"q\" as E12  <<(T,blue)part>> [[psysml:5710aa92-7822-41e6-89ae-9d2d61cb8bf3 ]] {\r\n",
       "}\r\n",
       "comp usage \"r: R\" as E13  <<(T,blue)requirement>> [[psysml:b72900fb-e3ca-4439-ac22-acb3bf892de5 ]] {\r\n",
       "}\r\n",
       "E3 - -:|> E2 [[psysml:8b4534c8-c65f-4721-aa95-1aefa1ee4858 ]] \r\n",
       "E4 +- - E5 [[psysml:5c4fbfc6-6feb-457a-9610-da755776e124 ]] \r\n",
       "E4 *- - E8 [[psysml:577c6bec-7675-4e65-a136-10b226b9020a ]] \r\n",
       "E12 *- - E13 [[psysml:b72900fb-e3ca-4439-ac22-acb3bf892de5 ]] \r\n",
       "E13 - -:|> E4 [[psysml:ed6e641a-605b-4ed9-9064-d41509e7ab16 ]] \r\n",
       "E13 ..> E11 [[psysml:11f1a2a5-a4e7-4875-8b16-7052fd317758 ]] : <<satisfy>>\r\n",
       "}\r\n",
       "@enduml\r\n",
       "\n",
       "PlantUML version 1.2020.13(Sat Jun 13 12:26:38 UTC 2020)\n",
       "(EPL source distribution)\n",
       "Java Runtime: OpenJDK Runtime Environment\n",
       "JVM: OpenJDK 64-Bit Server VM\n",
       "Default Encoding: UTF-8\n",
       "Language: en\n",
       "Country: null\n",
       "--></g></svg>"
      ]
     },
     "execution_count": 50,
     "metadata": {},
     "output_type": "execute_result"
    }
   ],
   "source": [
    "%viz --style=\"TB\" --view=\"MIXED\" \"RequirementTest\""
   ]
  },
  {
   "cell_type": "code",
   "execution_count": 51,
   "id": "devoted-pencil",
   "metadata": {
    "execution": {
     "iopub.execute_input": "2021-03-26T09:12:31.392878Z",
     "iopub.status.busy": "2021-03-26T09:12:31.392264Z",
     "iopub.status.idle": "2021-03-26T09:12:31.473321Z",
     "shell.execute_reply": "2021-03-26T09:12:31.471891Z"
    }
   },
   "outputs": [
    {
     "data": {
      "image/svg+xml": [
       "<?xml version=\"1.0\" encoding=\"UTF-8\" standalone=\"no\"?><svg xmlns=\"http://www.w3.org/2000/svg\" xmlns:xlink=\"http://www.w3.org/1999/xlink\" contentScriptType=\"application/ecmascript\" contentStyleType=\"text/css\" height=\"578px\" preserveAspectRatio=\"none\" style=\"width:408px;height:578px;\" version=\"1.1\" viewBox=\"0 0 408 578\" width=\"408px\" zoomAndPan=\"magnify\"><defs/><g><!--MD5=[fbc87193dbaf4d95561dea2c320d4a47]\n",
       "cluster E1--><a href=\"psysml:8aa028f5-1693-4b51-bff2-c94d0f18c930\" target=\"_top\" title=\"psysml:8aa028f5-1693-4b51-bff2-c94d0f18c930\" xlink:actuate=\"onRequest\" xlink:href=\"psysml:8aa028f5-1693-4b51-bff2-c94d0f18c930\" xlink:show=\"new\" xlink:title=\"psysml:8aa028f5-1693-4b51-bff2-c94d0f18c930\" xlink:type=\"simple\"><polygon fill=\"#FFFFFF\" points=\"16,6,158,6,165,28.2969,386,28.2969,386,566,16,566,16,6\" style=\"stroke: #000000; stroke-width: 1.5;\"/><line style=\"stroke: #000000; stroke-width: 1.5;\" x1=\"16\" x2=\"165\" y1=\"28.2969\" y2=\"28.2969\"/><text fill=\"#000000\" font-family=\"sans-serif\" font-size=\"14\" font-weight=\"bold\" lengthAdjust=\"spacingAndGlyphs\" textLength=\"136\" x=\"20\" y=\"20.9951\">RequirementTest</text></a><!--MD5=[b4997ac47864f28c2f74865a473b2911]\n",
       "class E2--><a href=\"psysml:27c2a771-07cf-4bde-9591-6030a1a15742\" target=\"_top\" title=\"psysml:27c2a771-07cf-4bde-9591-6030a1a15742\" xlink:actuate=\"onRequest\" xlink:href=\"psysml:27c2a771-07cf-4bde-9591-6030a1a15742\" xlink:show=\"new\" xlink:title=\"psysml:27c2a771-07cf-4bde-9591-6030a1a15742\" xlink:type=\"simple\"><rect fill=\"#FFFFFF\" height=\"45.9375\" id=\"E2\" style=\"stroke: #383838; stroke-width: 1.5;\" width=\"104\" x=\"266\" y=\"190\"/><text fill=\"#000000\" font-family=\"sans-serif\" font-size=\"12\" font-style=\"italic\" lengthAdjust=\"spacingAndGlyphs\" textLength=\"102\" x=\"267\" y=\"206.1387\">«constraint def»</text><text fill=\"#000000\" font-family=\"sans-serif\" font-size=\"12\" lengthAdjust=\"spacingAndGlyphs\" textLength=\"8\" x=\"314\" y=\"220.1074\">C</text><line style=\"stroke: #383838; stroke-width: 1.5;\" x1=\"267\" x2=\"369\" y1=\"227.9375\" y2=\"227.9375\"/></a><!--MD5=[09b614a08d8cba4a07c9adeb5e0fee81]\n",
       "class E3--><a href=\"psysml:da02b217-f155-4220-a2dc-d840d0d24f86\" target=\"_top\" title=\"psysml:da02b217-f155-4220-a2dc-d840d0d24f86\" xlink:actuate=\"onRequest\" xlink:href=\"psysml:da02b217-f155-4220-a2dc-d840d0d24f86\" xlink:show=\"new\" xlink:title=\"psysml:da02b217-f155-4220-a2dc-d840d0d24f86\" xlink:type=\"simple\"><rect fill=\"#FFFFFF\" height=\"45.9375\" id=\"E3\" rx=\"10\" ry=\"10\" style=\"stroke: #383838; stroke-width: 1.5;\" width=\"80\" x=\"290\" y=\"62\"/><text fill=\"#000000\" font-family=\"sans-serif\" font-size=\"12\" font-style=\"italic\" lengthAdjust=\"spacingAndGlyphs\" textLength=\"78\" x=\"291\" y=\"78.1387\">«constraint»</text><text fill=\"#000000\" font-family=\"sans-serif\" font-size=\"12\" lengthAdjust=\"spacingAndGlyphs\" textLength=\"23\" x=\"318.5\" y=\"92.1074\">c: C</text><line style=\"stroke: #383838; stroke-width: 1.5;\" x1=\"291\" x2=\"369\" y1=\"99.9375\" y2=\"99.9375\"/></a><!--MD5=[ebbe1d658d1005bcc118a6aa81145e00]\n",
       "class E4--><a href=\"psysml:b9a9d178-6ba0-415d-80bd-8d7e5aacf32f\" target=\"_top\" title=\"psysml:b9a9d178-6ba0-415d-80bd-8d7e5aacf32f\" xlink:actuate=\"onRequest\" xlink:href=\"psysml:b9a9d178-6ba0-415d-80bd-8d7e5aacf32f\" xlink:show=\"new\" xlink:title=\"psysml:b9a9d178-6ba0-415d-80bd-8d7e5aacf32f\" xlink:type=\"simple\"><rect fill=\"#FFFFFF\" height=\"109.1563\" id=\"E4\" style=\"stroke: #383838; stroke-width: 1.5;\" width=\"117\" x=\"32.5\" y=\"313\"/><text fill=\"#000000\" font-family=\"sans-serif\" font-size=\"12\" font-style=\"italic\" lengthAdjust=\"spacingAndGlyphs\" textLength=\"115\" x=\"33.5\" y=\"329.1387\">«requirement def»</text><text fill=\"#000000\" font-family=\"sans-serif\" font-size=\"12\" lengthAdjust=\"spacingAndGlyphs\" textLength=\"8\" x=\"87\" y=\"343.1074\">R</text><line style=\"stroke: #383838; stroke-width: 1.5;\" x1=\"33.5\" x2=\"148.5\" y1=\"350.9375\" y2=\"350.9375\"/><text fill=\"#000000\" font-family=\"sans-serif\" font-size=\"11\" lengthAdjust=\"spacingAndGlyphs\" textLength=\"0\" x=\"42.5\" y=\"365.1479\"/><line style=\"stroke: #383838; stroke-width: 1.0;\" x1=\"33.5\" x2=\"148.5\" y1=\"371.7422\" y2=\"371.7422\"/><text fill=\"#000000\" font-family=\"sans-serif\" font-size=\"11\" font-weight=\"bold\" lengthAdjust=\"spacingAndGlyphs\" textLength=\"46\" x=\"38.5\" y=\"402.7573\">require</text><text fill=\"#000000\" font-family=\"sans-serif\" font-size=\"11\" lengthAdjust=\"spacingAndGlyphs\" textLength=\"6\" x=\"88.5\" y=\"402.7573\">c</text><text fill=\"#000000\" font-family=\"sans-serif\" font-size=\"11\" font-style=\"italic\" lengthAdjust=\"spacingAndGlyphs\" textLength=\"46\" x=\"38.5\" y=\"415.562\">assume</text><text fill=\"#000000\" font-family=\"sans-serif\" font-size=\"11\" lengthAdjust=\"spacingAndGlyphs\" textLength=\"29\" x=\"88.5\" y=\"415.562\">c1: C</text><line style=\"stroke: #383838; stroke-width: 1.0;\" x1=\"33.5\" x2=\"59\" y1=\"386.1445\" y2=\"386.1445\"/><text fill=\"#000000\" font-family=\"sans-serif\" font-size=\"11\" lengthAdjust=\"spacingAndGlyphs\" textLength=\"64\" x=\"59\" y=\"389.4526\">constraints</text><line style=\"stroke: #383838; stroke-width: 1.0;\" x1=\"123\" x2=\"148.5\" y1=\"386.1445\" y2=\"386.1445\"/></a><!--MD5=[270fce915f116d4de14055a7c1d9a0f3]\n",
       "class E5--><a href=\"psysml:5c4fbfc6-6feb-457a-9610-da755776e124\" target=\"_top\" title=\"psysml:5c4fbfc6-6feb-457a-9610-da755776e124\" xlink:actuate=\"onRequest\" xlink:href=\"psysml:5c4fbfc6-6feb-457a-9610-da755776e124\" xlink:show=\"new\" xlink:title=\"psysml:5c4fbfc6-6feb-457a-9610-da755776e124\" xlink:type=\"simple\"><rect fill=\"#FFFFFF\" height=\"66.7422\" id=\"E5\" style=\"stroke: #383838; stroke-width: 1.5;\" width=\"117\" x=\"32.5\" y=\"483\"/><text fill=\"#000000\" font-family=\"sans-serif\" font-size=\"12\" font-style=\"italic\" lengthAdjust=\"spacingAndGlyphs\" textLength=\"115\" x=\"33.5\" y=\"499.1387\">«requirement def»</text><text fill=\"#000000\" font-family=\"sans-serif\" font-size=\"12\" lengthAdjust=\"spacingAndGlyphs\" textLength=\"5\" x=\"78\" y=\"513.1074\">[</text><text fill=\"#000000\" font-family=\"sans-serif\" font-size=\"12\" font-weight=\"bold\" lengthAdjust=\"spacingAndGlyphs\" textLength=\"8\" x=\"83\" y=\"513.1074\">1</text><text fill=\"#000000\" font-family=\"sans-serif\" font-size=\"12\" lengthAdjust=\"spacingAndGlyphs\" textLength=\"17\" x=\"91\" y=\"513.1074\">] A</text><line style=\"stroke: #383838; stroke-width: 1.5;\" x1=\"33.5\" x2=\"148.5\" y1=\"520.9375\" y2=\"520.9375\"/><text fill=\"#000000\" font-family=\"sans-serif\" font-size=\"11\" lengthAdjust=\"spacingAndGlyphs\" textLength=\"24\" x=\"38.5\" y=\"535.1479\">Text</text><line style=\"stroke: #383838; stroke-width: 1.0;\" x1=\"33.5\" x2=\"148.5\" y1=\"541.7422\" y2=\"541.7422\"/></a><!--MD5=[b9389687b975829384b498ac4b7476b2]\n",
       "class E8--><a href=\"psysml:577c6bec-7675-4e65-a136-10b226b9020a\" target=\"_top\" title=\"psysml:577c6bec-7675-4e65-a136-10b226b9020a\" xlink:actuate=\"onRequest\" xlink:href=\"psysml:577c6bec-7675-4e65-a136-10b226b9020a\" xlink:show=\"new\" xlink:title=\"psysml:577c6bec-7675-4e65-a136-10b226b9020a\" xlink:type=\"simple\"><rect fill=\"#FFFFFF\" height=\"45.9375\" id=\"E8\" rx=\"10\" ry=\"10\" style=\"stroke: #383838; stroke-width: 1.5;\" width=\"93\" x=\"184.5\" y=\"493.5\"/><text fill=\"#000000\" font-family=\"sans-serif\" font-size=\"12\" font-style=\"italic\" lengthAdjust=\"spacingAndGlyphs\" textLength=\"91\" x=\"185.5\" y=\"509.6387\">«requirement»</text><text fill=\"#000000\" font-family=\"sans-serif\" font-size=\"12\" lengthAdjust=\"spacingAndGlyphs\" text-decoration=\"line-through\" textLength=\"51\" x=\"205.5\" y=\"523.6074\">noname</text><line style=\"stroke: #383838; stroke-width: 1.5;\" x1=\"185.5\" x2=\"276.5\" y1=\"531.4375\" y2=\"531.4375\"/></a><!--MD5=[fd4143e9d270a159db93a4ea2a975926]\n",
       "class E9--><a href=\"psysml:291c6c45-8332-45a6-809f-574961a49898\" target=\"_top\" title=\"psysml:291c6c45-8332-45a6-809f-574961a49898\" xlink:actuate=\"onRequest\" xlink:href=\"psysml:291c6c45-8332-45a6-809f-574961a49898\" xlink:show=\"new\" xlink:title=\"psysml:291c6c45-8332-45a6-809f-574961a49898\" xlink:type=\"simple\"><rect fill=\"#FFFFFF\" height=\"88.3516\" id=\"E9\" style=\"stroke: #383838; stroke-width: 1.5;\" width=\"145\" x=\"109.5\" y=\"41\"/><text fill=\"#000000\" font-family=\"sans-serif\" font-size=\"12\" font-style=\"italic\" lengthAdjust=\"spacingAndGlyphs\" textLength=\"115\" x=\"124.5\" y=\"57.1387\">«requirement def»</text><text fill=\"#000000\" font-family=\"sans-serif\" font-size=\"12\" lengthAdjust=\"spacingAndGlyphs\" textLength=\"16\" x=\"174\" y=\"71.1074\">R1</text><line style=\"stroke: #383838; stroke-width: 1.5;\" x1=\"110.5\" x2=\"253.5\" y1=\"78.9375\" y2=\"78.9375\"/><text fill=\"#000000\" font-family=\"sans-serif\" font-size=\"11\" font-weight=\"bold\" lengthAdjust=\"spacingAndGlyphs\" textLength=\"46\" x=\"115.5\" y=\"109.9526\">require</text><text fill=\"#000000\" font-family=\"sans-serif\" font-size=\"11\" lengthAdjust=\"spacingAndGlyphs\" textLength=\"13\" x=\"165.5\" y=\"109.9526\">c1</text><text fill=\"#000000\" font-family=\"sans-serif\" font-size=\"11\" font-style=\"italic\" lengthAdjust=\"spacingAndGlyphs\" textLength=\"133\" x=\"115.5\" y=\"122.7573\">:&gt;&gt;RequirementTest::c</text><line style=\"stroke: #383838; stroke-width: 1.0;\" x1=\"110.5\" x2=\"150\" y1=\"93.3398\" y2=\"93.3398\"/><text fill=\"#000000\" font-family=\"sans-serif\" font-size=\"11\" lengthAdjust=\"spacingAndGlyphs\" textLength=\"64\" x=\"150\" y=\"96.6479\">constraints</text><line style=\"stroke: #383838; stroke-width: 1.0;\" x1=\"214\" x2=\"253.5\" y1=\"93.3398\" y2=\"93.3398\"/></a><!--MD5=[1dd1bfd58a279cf63c5f349dbc8fc6a1]\n",
       "class E11--><a href=\"psysml:b7118396-8822-4234-af4f-531e34fd2b85\" target=\"_top\" title=\"psysml:b7118396-8822-4234-af4f-531e34fd2b85\" xlink:actuate=\"onRequest\" xlink:href=\"psysml:b7118396-8822-4234-af4f-531e34fd2b85\" xlink:show=\"new\" xlink:title=\"psysml:b7118396-8822-4234-af4f-531e34fd2b85\" xlink:type=\"simple\"><rect fill=\"#FFFFFF\" height=\"45.9375\" id=\"E11\" rx=\"10\" ry=\"10\" style=\"stroke: #383838; stroke-width: 1.5;\" width=\"42\" x=\"185\" y=\"344.5\"/><text fill=\"#000000\" font-family=\"sans-serif\" font-size=\"12\" font-style=\"italic\" lengthAdjust=\"spacingAndGlyphs\" textLength=\"40\" x=\"186\" y=\"360.6387\">«part»</text><text fill=\"#000000\" font-family=\"sans-serif\" font-size=\"12\" lengthAdjust=\"spacingAndGlyphs\" textLength=\"8\" x=\"202\" y=\"374.6074\">p</text><line style=\"stroke: #383838; stroke-width: 1.5;\" x1=\"186\" x2=\"226\" y1=\"382.4375\" y2=\"382.4375\"/></a><!--MD5=[49a0ec8f00dab7302a31f22d0f0fe584]\n",
       "class E12--><a href=\"psysml:5710aa92-7822-41e6-89ae-9d2d61cb8bf3\" target=\"_top\" title=\"psysml:5710aa92-7822-41e6-89ae-9d2d61cb8bf3\" xlink:actuate=\"onRequest\" xlink:href=\"psysml:5710aa92-7822-41e6-89ae-9d2d61cb8bf3\" xlink:show=\"new\" xlink:title=\"psysml:5710aa92-7822-41e6-89ae-9d2d61cb8bf3\" xlink:type=\"simple\"><rect fill=\"#FFFFFF\" height=\"45.9375\" id=\"E12\" rx=\"10\" ry=\"10\" style=\"stroke: #383838; stroke-width: 1.5;\" width=\"42\" x=\"32\" y=\"62\"/><text fill=\"#000000\" font-family=\"sans-serif\" font-size=\"12\" font-style=\"italic\" lengthAdjust=\"spacingAndGlyphs\" textLength=\"40\" x=\"33\" y=\"78.1387\">«part»</text><text fill=\"#000000\" font-family=\"sans-serif\" font-size=\"12\" lengthAdjust=\"spacingAndGlyphs\" textLength=\"8\" x=\"49\" y=\"92.1074\">q</text><line style=\"stroke: #383838; stroke-width: 1.5;\" x1=\"33\" x2=\"73\" y1=\"99.9375\" y2=\"99.9375\"/></a><!--MD5=[ee3c913d1a06f366521f9ef512b67efe]\n",
       "class E13--><a href=\"psysml:b72900fb-e3ca-4439-ac22-acb3bf892de5\" target=\"_top\" title=\"psysml:b72900fb-e3ca-4439-ac22-acb3bf892de5\" xlink:actuate=\"onRequest\" xlink:href=\"psysml:b72900fb-e3ca-4439-ac22-acb3bf892de5\" xlink:show=\"new\" xlink:title=\"psysml:b72900fb-e3ca-4439-ac22-acb3bf892de5\" xlink:type=\"simple\"><rect fill=\"#FFFFFF\" height=\"45.9375\" id=\"E13\" rx=\"10\" ry=\"10\" style=\"stroke: #383838; stroke-width: 1.5;\" width=\"93\" x=\"44.5\" y=\"190\"/><text fill=\"#000000\" font-family=\"sans-serif\" font-size=\"12\" font-style=\"italic\" lengthAdjust=\"spacingAndGlyphs\" textLength=\"91\" x=\"45.5\" y=\"206.1387\">«requirement»</text><text fill=\"#000000\" font-family=\"sans-serif\" font-size=\"12\" lengthAdjust=\"spacingAndGlyphs\" textLength=\"21\" x=\"80.5\" y=\"220.1074\">r: R</text><line style=\"stroke: #383838; stroke-width: 1.5;\" x1=\"45.5\" x2=\"136.5\" y1=\"227.9375\" y2=\"227.9375\"/></a><!--MD5=[05d275557350bfb9b23a4ef7222b4c39]\n",
       "link E3 to E2--><a href=\"psysml:8b4534c8-c65f-4721-aa95-1aefa1ee4858\" target=\"_top\" title=\"psysml:8b4534c8-c65f-4721-aa95-1aefa1ee4858\" xlink:actuate=\"onRequest\" xlink:href=\"psysml:8b4534c8-c65f-4721-aa95-1aefa1ee4858\" xlink:show=\"new\" xlink:title=\"psysml:8b4534c8-c65f-4721-aa95-1aefa1ee4858\" xlink:type=\"simple\"><path d=\"M330,108.18 C330,108.18 330,169.99 330,169.99 \" fill=\"none\" id=\"E3-&gt;E2\" style=\"stroke: #383838; stroke-width: 1.0;\"/><polygon fill=\"#FFFFFF\" points=\"330,189.99,323,170.99,337,170.99,330,189.99\" style=\"stroke: #383838; stroke-width: 1.0;\"/><ellipse cx=\"325\" cy=\"165.29\" fill=\"#383838\" rx=\"2\" ry=\"2\" style=\"stroke: #383838; stroke-width: 1.0;\"/><ellipse cx=\"335\" cy=\"165.29\" fill=\"#383838\" rx=\"2\" ry=\"2\" style=\"stroke: #383838; stroke-width: 1.0;\"/></a><!--MD5=[62aa6af11e70f752912c1cb0466f24f7]\n",
       "reverse link E4 to E5--><a href=\"psysml:5c4fbfc6-6feb-457a-9610-da755776e124\" target=\"_top\" title=\"psysml:5c4fbfc6-6feb-457a-9610-da755776e124\" xlink:actuate=\"onRequest\" xlink:href=\"psysml:5c4fbfc6-6feb-457a-9610-da755776e124\" xlink:show=\"new\" xlink:title=\"psysml:5c4fbfc6-6feb-457a-9610-da755776e124\" xlink:type=\"simple\"><path d=\"M91,437.14 C91,437.14 91,482.66 91,482.66 \" fill=\"none\" id=\"E4&lt;-E5\" style=\"stroke: #383838; stroke-width: 1.0;\"/><ellipse cx=\"91\" cy=\"430.14\" fill=\"#FFFFFF\" rx=\"8\" ry=\"8\" style=\"stroke: #383838; stroke-width: 1.0;\"/><line style=\"stroke: #383838; stroke-width: 1.0;\" x1=\"91\" x2=\"91\" y1=\"438.14\" y2=\"422.14\"/><line style=\"stroke: #383838; stroke-width: 1.0;\" x1=\"83\" x2=\"99\" y1=\"430.14\" y2=\"430.14\"/></a><!--MD5=[c6fc7cdb0cabde04948078cf183fa696]\n",
       "reverse link E4 to E8--><a href=\"psysml:577c6bec-7675-4e65-a136-10b226b9020a\" target=\"_top\" title=\"psysml:577c6bec-7675-4e65-a136-10b226b9020a\" xlink:actuate=\"onRequest\" xlink:href=\"psysml:577c6bec-7675-4e65-a136-10b226b9020a\" xlink:show=\"new\" xlink:title=\"psysml:577c6bec-7675-4e65-a136-10b226b9020a\" xlink:type=\"simple\"><path d=\"M162.51,407 C162.51,407 206,407 206,407 C206,407 206,461.14 206,493.28 \" fill=\"none\" id=\"E4&lt;-E8\" style=\"stroke: #383838; stroke-width: 1.0;\"/><polygon fill=\"#383838\" points=\"149.51,407,155.51,411,161.51,407,155.51,403,149.51,407\" style=\"stroke: #383838; stroke-width: 1.0;\"/></a><!--MD5=[062ed86c389d1a88f61c6380d0491e17]\n",
       "reverse link E12 to E13--><a href=\"psysml:b72900fb-e3ca-4439-ac22-acb3bf892de5\" target=\"_top\" title=\"psysml:b72900fb-e3ca-4439-ac22-acb3bf892de5\" xlink:actuate=\"onRequest\" xlink:href=\"psysml:b72900fb-e3ca-4439-ac22-acb3bf892de5\" xlink:show=\"new\" xlink:title=\"psysml:b72900fb-e3ca-4439-ac22-acb3bf892de5\" xlink:type=\"simple\"><path d=\"M59.25,121.18 C59.25,121.18 59.25,189.99 59.25,189.99 \" fill=\"none\" id=\"E12&lt;-E13\" style=\"stroke: #383838; stroke-width: 1.0;\"/><polygon fill=\"#383838\" points=\"59.25,108.18,55.25,114.18,59.25,120.18,63.25,114.18,59.25,108.18\" style=\"stroke: #383838; stroke-width: 1.0;\"/></a><!--MD5=[017847e01ff9a8bd19f247411074f987]\n",
       "link E13 to E4--><a href=\"psysml:ed6e641a-605b-4ed9-9064-d41509e7ab16\" target=\"_top\" title=\"psysml:ed6e641a-605b-4ed9-9064-d41509e7ab16\" xlink:actuate=\"onRequest\" xlink:href=\"psysml:ed6e641a-605b-4ed9-9064-d41509e7ab16\" xlink:show=\"new\" xlink:title=\"psysml:ed6e641a-605b-4ed9-9064-d41509e7ab16\" xlink:type=\"simple\"><path d=\"M91,236.13 C91,236.13 91,292.77 91,292.77 \" fill=\"none\" id=\"E13-&gt;E4\" style=\"stroke: #383838; stroke-width: 1.0;\"/><polygon fill=\"#FFFFFF\" points=\"91,312.77,84,293.77,98,293.77,91,312.77\" style=\"stroke: #383838; stroke-width: 1.0;\"/><ellipse cx=\"86\" cy=\"288.07\" fill=\"#383838\" rx=\"2\" ry=\"2\" style=\"stroke: #383838; stroke-width: 1.0;\"/><ellipse cx=\"96\" cy=\"288.07\" fill=\"#383838\" rx=\"2\" ry=\"2\" style=\"stroke: #383838; stroke-width: 1.0;\"/></a><!--MD5=[2cfe899c895462254056921bfb67315f]\n",
       "link E13 to E11--><a href=\"psysml:11f1a2a5-a4e7-4875-8b16-7052fd317758\" target=\"_top\" title=\"psysml:11f1a2a5-a4e7-4875-8b16-7052fd317758\" xlink:actuate=\"onRequest\" xlink:href=\"psysml:11f1a2a5-a4e7-4875-8b16-7052fd317758\" xlink:show=\"new\" xlink:title=\"psysml:11f1a2a5-a4e7-4875-8b16-7052fd317758\" xlink:type=\"simple\"><path d=\"M137.77,213 C169.61,213 206,213 206,213 C206,213 206,339.37 206,339.37 \" fill=\"none\" id=\"E13-&gt;E11\" style=\"stroke: #383838; stroke-width: 1.0; stroke-dasharray: 7.0,7.0;\"/><polygon fill=\"#383838\" points=\"206,344.37,210,335.37,206,339.37,202,335.37,206,344.37\" style=\"stroke: #383838; stroke-width: 1.0;\"/><text fill=\"#000000\" font-family=\"sans-serif\" font-size=\"13\" lengthAdjust=\"spacingAndGlyphs\" textLength=\"57\" x=\"170\" y=\"279.0669\">«satisfy»</text></a><!--MD5=[82ceaf7071a2b1cf31fcb4de6b1ff12c]\n",
       "@startuml\r\n",
       "skinparam linetype ortho\r\n",
       "skinparam monochrome true\r\n",
       "skinparam classbackgroundcolor white\r\n",
       "skinparam shadowing false\r\n",
       "skinparam wrapWidth 300\r\n",
       "hide circle\r\n",
       "\r\n",
       "package \"RequirementTest\" as E1  [[psysml:8aa028f5-1693-4b51-bff2-c94d0f18c930 ]]  {\r\n",
       "comp def \"C\" as E2  <<(T,blue)constraint def>> [[psysml:27c2a771-07cf-4bde-9591-6030a1a15742 ]] {\r\n",
       "}\r\n",
       "comp usage \"c: C\" as E3  <<(T,blue)constraint>> [[psysml:da02b217-f155-4220-a2dc-d840d0d24f86 ]] {\r\n",
       "}\r\n",
       "comp def \"R\" as E4  <<(T,blue)requirement def>> [[psysml:b9a9d178-6ba0-415d-80bd-8d7e5aacf32f ]] {\r\n",
       "\r\n",
       "- -\r\n",
       "- - constraints - -\r\n",
       "<b>require</b> c\r\n",
       "<i>assume</i> c1: C\r\n",
       "}\r\n",
       "comp def \" [<b>1</b>] A\" as E5  <<(T,blue)requirement def>> [[psysml:5c4fbfc6-6feb-457a-9610-da755776e124 ]] {\r\n",
       "Text\r\n",
       "- -\r\n",
       "}\r\n",
       "comp usage \"<s>noname</s>\" as E8  <<(T,blue)requirement>> [[psysml:577c6bec-7675-4e65-a136-10b226b9020a ]] {\r\n",
       "}\r\n",
       "comp def \"R1\" as E9  <<(T,blue)requirement def>> [[psysml:291c6c45-8332-45a6-809f-574961a49898 ]] {\r\n",
       "- - constraints - -\r\n",
       "<b>require</b> c1\\n//:>>RequirementTest::c// \r\n",
       "}\r\n",
       "comp usage \"p\" as E11  <<(T,blue)part>> [[psysml:b7118396-8822-4234-af4f-531e34fd2b85 ]] {\r\n",
       "}\r\n",
       "comp usage \"q\" as E12  <<(T,blue)part>> [[psysml:5710aa92-7822-41e6-89ae-9d2d61cb8bf3 ]] {\r\n",
       "}\r\n",
       "comp usage \"r: R\" as E13  <<(T,blue)requirement>> [[psysml:b72900fb-e3ca-4439-ac22-acb3bf892de5 ]] {\r\n",
       "}\r\n",
       "E3 - -:|> E2 [[psysml:8b4534c8-c65f-4721-aa95-1aefa1ee4858 ]] \r\n",
       "E4 +- - E5 [[psysml:5c4fbfc6-6feb-457a-9610-da755776e124 ]] \r\n",
       "E4 *- - E8 [[psysml:577c6bec-7675-4e65-a136-10b226b9020a ]] \r\n",
       "E12 *- - E13 [[psysml:b72900fb-e3ca-4439-ac22-acb3bf892de5 ]] \r\n",
       "E13 - -:|> E4 [[psysml:ed6e641a-605b-4ed9-9064-d41509e7ab16 ]] \r\n",
       "E13 ..> E11 [[psysml:11f1a2a5-a4e7-4875-8b16-7052fd317758 ]] : <<satisfy>>\r\n",
       "}\r\n",
       "@enduml\r\n",
       "\n",
       "PlantUML version 1.2020.13(Sat Jun 13 12:26:38 UTC 2020)\n",
       "(EPL source distribution)\n",
       "Java Runtime: OpenJDK Runtime Environment\n",
       "JVM: OpenJDK 64-Bit Server VM\n",
       "Default Encoding: UTF-8\n",
       "Language: en\n",
       "Country: null\n",
       "--></g></svg>"
      ]
     },
     "execution_count": 51,
     "metadata": {},
     "output_type": "execute_result"
    }
   ],
   "source": [
    "%viz --style=\"ORTHOLINE\" --view=\"Default\" \"RequirementTest\""
   ]
  },
  {
   "cell_type": "code",
   "execution_count": 52,
   "id": "ecological-undergraduate",
   "metadata": {
    "execution": {
     "iopub.execute_input": "2021-03-26T09:12:31.523776Z",
     "iopub.status.busy": "2021-03-26T09:12:31.523103Z",
     "iopub.status.idle": "2021-03-26T09:12:31.597938Z",
     "shell.execute_reply": "2021-03-26T09:12:31.596647Z"
    }
   },
   "outputs": [
    {
     "data": {
      "image/svg+xml": [
       "<?xml version=\"1.0\" encoding=\"UTF-8\" standalone=\"no\"?><svg xmlns=\"http://www.w3.org/2000/svg\" xmlns:xlink=\"http://www.w3.org/1999/xlink\" contentScriptType=\"application/ecmascript\" contentStyleType=\"text/css\" height=\"578px\" preserveAspectRatio=\"none\" style=\"width:408px;height:578px;\" version=\"1.1\" viewBox=\"0 0 408 578\" width=\"408px\" zoomAndPan=\"magnify\"><defs/><g><!--MD5=[fbc87193dbaf4d95561dea2c320d4a47]\n",
       "cluster E1--><a href=\"psysml:8aa028f5-1693-4b51-bff2-c94d0f18c930\" target=\"_top\" title=\"psysml:8aa028f5-1693-4b51-bff2-c94d0f18c930\" xlink:actuate=\"onRequest\" xlink:href=\"psysml:8aa028f5-1693-4b51-bff2-c94d0f18c930\" xlink:show=\"new\" xlink:title=\"psysml:8aa028f5-1693-4b51-bff2-c94d0f18c930\" xlink:type=\"simple\"><polygon fill=\"#FFFFFF\" points=\"16,6,158,6,165,28.2969,386,28.2969,386,566,16,566,16,6\" style=\"stroke: #000000; stroke-width: 1.5;\"/><line style=\"stroke: #000000; stroke-width: 1.5;\" x1=\"16\" x2=\"165\" y1=\"28.2969\" y2=\"28.2969\"/><text fill=\"#000000\" font-family=\"sans-serif\" font-size=\"14\" font-weight=\"bold\" lengthAdjust=\"spacingAndGlyphs\" textLength=\"136\" x=\"20\" y=\"20.9951\">RequirementTest</text></a><!--MD5=[b4997ac47864f28c2f74865a473b2911]\n",
       "class E2--><a href=\"psysml:27c2a771-07cf-4bde-9591-6030a1a15742\" target=\"_top\" title=\"psysml:27c2a771-07cf-4bde-9591-6030a1a15742\" xlink:actuate=\"onRequest\" xlink:href=\"psysml:27c2a771-07cf-4bde-9591-6030a1a15742\" xlink:show=\"new\" xlink:title=\"psysml:27c2a771-07cf-4bde-9591-6030a1a15742\" xlink:type=\"simple\"><rect fill=\"#FFFFFF\" height=\"45.9375\" id=\"E2\" style=\"stroke: #383838; stroke-width: 1.5;\" width=\"104\" x=\"266\" y=\"190\"/><text fill=\"#000000\" font-family=\"sans-serif\" font-size=\"12\" font-style=\"italic\" lengthAdjust=\"spacingAndGlyphs\" textLength=\"102\" x=\"267\" y=\"206.1387\">«constraint def»</text><text fill=\"#000000\" font-family=\"sans-serif\" font-size=\"12\" lengthAdjust=\"spacingAndGlyphs\" textLength=\"8\" x=\"314\" y=\"220.1074\">C</text><line style=\"stroke: #383838; stroke-width: 1.5;\" x1=\"267\" x2=\"369\" y1=\"227.9375\" y2=\"227.9375\"/></a><!--MD5=[09b614a08d8cba4a07c9adeb5e0fee81]\n",
       "class E3--><a href=\"psysml:da02b217-f155-4220-a2dc-d840d0d24f86\" target=\"_top\" title=\"psysml:da02b217-f155-4220-a2dc-d840d0d24f86\" xlink:actuate=\"onRequest\" xlink:href=\"psysml:da02b217-f155-4220-a2dc-d840d0d24f86\" xlink:show=\"new\" xlink:title=\"psysml:da02b217-f155-4220-a2dc-d840d0d24f86\" xlink:type=\"simple\"><rect fill=\"#FFFFFF\" height=\"45.9375\" id=\"E3\" rx=\"10\" ry=\"10\" style=\"stroke: #383838; stroke-width: 1.5;\" width=\"80\" x=\"290\" y=\"62\"/><text fill=\"#000000\" font-family=\"sans-serif\" font-size=\"12\" font-style=\"italic\" lengthAdjust=\"spacingAndGlyphs\" textLength=\"78\" x=\"291\" y=\"78.1387\">«constraint»</text><text fill=\"#000000\" font-family=\"sans-serif\" font-size=\"12\" lengthAdjust=\"spacingAndGlyphs\" textLength=\"23\" x=\"318.5\" y=\"92.1074\">c: C</text><line style=\"stroke: #383838; stroke-width: 1.5;\" x1=\"291\" x2=\"369\" y1=\"99.9375\" y2=\"99.9375\"/></a><!--MD5=[ebbe1d658d1005bcc118a6aa81145e00]\n",
       "class E4--><a href=\"psysml:b9a9d178-6ba0-415d-80bd-8d7e5aacf32f\" target=\"_top\" title=\"psysml:b9a9d178-6ba0-415d-80bd-8d7e5aacf32f\" xlink:actuate=\"onRequest\" xlink:href=\"psysml:b9a9d178-6ba0-415d-80bd-8d7e5aacf32f\" xlink:show=\"new\" xlink:title=\"psysml:b9a9d178-6ba0-415d-80bd-8d7e5aacf32f\" xlink:type=\"simple\"><rect fill=\"#FFFFFF\" height=\"109.1563\" id=\"E4\" style=\"stroke: #383838; stroke-width: 1.5;\" width=\"117\" x=\"32.5\" y=\"313\"/><text fill=\"#000000\" font-family=\"sans-serif\" font-size=\"12\" font-style=\"italic\" lengthAdjust=\"spacingAndGlyphs\" textLength=\"115\" x=\"33.5\" y=\"329.1387\">«requirement def»</text><text fill=\"#000000\" font-family=\"sans-serif\" font-size=\"12\" lengthAdjust=\"spacingAndGlyphs\" textLength=\"8\" x=\"87\" y=\"343.1074\">R</text><line style=\"stroke: #383838; stroke-width: 1.5;\" x1=\"33.5\" x2=\"148.5\" y1=\"350.9375\" y2=\"350.9375\"/><text fill=\"#000000\" font-family=\"sans-serif\" font-size=\"11\" lengthAdjust=\"spacingAndGlyphs\" textLength=\"0\" x=\"42.5\" y=\"365.1479\"/><line style=\"stroke: #383838; stroke-width: 1.0;\" x1=\"33.5\" x2=\"148.5\" y1=\"371.7422\" y2=\"371.7422\"/><text fill=\"#000000\" font-family=\"sans-serif\" font-size=\"11\" font-weight=\"bold\" lengthAdjust=\"spacingAndGlyphs\" textLength=\"46\" x=\"38.5\" y=\"402.7573\">require</text><text fill=\"#000000\" font-family=\"sans-serif\" font-size=\"11\" lengthAdjust=\"spacingAndGlyphs\" textLength=\"6\" x=\"88.5\" y=\"402.7573\">c</text><text fill=\"#000000\" font-family=\"sans-serif\" font-size=\"11\" font-style=\"italic\" lengthAdjust=\"spacingAndGlyphs\" textLength=\"46\" x=\"38.5\" y=\"415.562\">assume</text><text fill=\"#000000\" font-family=\"sans-serif\" font-size=\"11\" lengthAdjust=\"spacingAndGlyphs\" textLength=\"29\" x=\"88.5\" y=\"415.562\">c1: C</text><line style=\"stroke: #383838; stroke-width: 1.0;\" x1=\"33.5\" x2=\"59\" y1=\"386.1445\" y2=\"386.1445\"/><text fill=\"#000000\" font-family=\"sans-serif\" font-size=\"11\" lengthAdjust=\"spacingAndGlyphs\" textLength=\"64\" x=\"59\" y=\"389.4526\">constraints</text><line style=\"stroke: #383838; stroke-width: 1.0;\" x1=\"123\" x2=\"148.5\" y1=\"386.1445\" y2=\"386.1445\"/></a><!--MD5=[270fce915f116d4de14055a7c1d9a0f3]\n",
       "class E5--><a href=\"psysml:5c4fbfc6-6feb-457a-9610-da755776e124\" target=\"_top\" title=\"psysml:5c4fbfc6-6feb-457a-9610-da755776e124\" xlink:actuate=\"onRequest\" xlink:href=\"psysml:5c4fbfc6-6feb-457a-9610-da755776e124\" xlink:show=\"new\" xlink:title=\"psysml:5c4fbfc6-6feb-457a-9610-da755776e124\" xlink:type=\"simple\"><rect fill=\"#FFFFFF\" height=\"66.7422\" id=\"E5\" style=\"stroke: #383838; stroke-width: 1.5;\" width=\"117\" x=\"32.5\" y=\"483\"/><text fill=\"#000000\" font-family=\"sans-serif\" font-size=\"12\" font-style=\"italic\" lengthAdjust=\"spacingAndGlyphs\" textLength=\"115\" x=\"33.5\" y=\"499.1387\">«requirement def»</text><text fill=\"#000000\" font-family=\"sans-serif\" font-size=\"12\" lengthAdjust=\"spacingAndGlyphs\" textLength=\"5\" x=\"78\" y=\"513.1074\">[</text><text fill=\"#000000\" font-family=\"sans-serif\" font-size=\"12\" font-weight=\"bold\" lengthAdjust=\"spacingAndGlyphs\" textLength=\"8\" x=\"83\" y=\"513.1074\">1</text><text fill=\"#000000\" font-family=\"sans-serif\" font-size=\"12\" lengthAdjust=\"spacingAndGlyphs\" textLength=\"17\" x=\"91\" y=\"513.1074\">] A</text><line style=\"stroke: #383838; stroke-width: 1.5;\" x1=\"33.5\" x2=\"148.5\" y1=\"520.9375\" y2=\"520.9375\"/><text fill=\"#000000\" font-family=\"sans-serif\" font-size=\"11\" lengthAdjust=\"spacingAndGlyphs\" textLength=\"24\" x=\"38.5\" y=\"535.1479\">Text</text><line style=\"stroke: #383838; stroke-width: 1.0;\" x1=\"33.5\" x2=\"148.5\" y1=\"541.7422\" y2=\"541.7422\"/></a><!--MD5=[b9389687b975829384b498ac4b7476b2]\n",
       "class E8--><a href=\"psysml:577c6bec-7675-4e65-a136-10b226b9020a\" target=\"_top\" title=\"psysml:577c6bec-7675-4e65-a136-10b226b9020a\" xlink:actuate=\"onRequest\" xlink:href=\"psysml:577c6bec-7675-4e65-a136-10b226b9020a\" xlink:show=\"new\" xlink:title=\"psysml:577c6bec-7675-4e65-a136-10b226b9020a\" xlink:type=\"simple\"><rect fill=\"#FFFFFF\" height=\"45.9375\" id=\"E8\" rx=\"10\" ry=\"10\" style=\"stroke: #383838; stroke-width: 1.5;\" width=\"93\" x=\"184.5\" y=\"493.5\"/><text fill=\"#000000\" font-family=\"sans-serif\" font-size=\"12\" font-style=\"italic\" lengthAdjust=\"spacingAndGlyphs\" textLength=\"91\" x=\"185.5\" y=\"509.6387\">«requirement»</text><text fill=\"#000000\" font-family=\"sans-serif\" font-size=\"12\" lengthAdjust=\"spacingAndGlyphs\" text-decoration=\"line-through\" textLength=\"51\" x=\"205.5\" y=\"523.6074\">noname</text><line style=\"stroke: #383838; stroke-width: 1.5;\" x1=\"185.5\" x2=\"276.5\" y1=\"531.4375\" y2=\"531.4375\"/></a><!--MD5=[fd4143e9d270a159db93a4ea2a975926]\n",
       "class E9--><a href=\"psysml:291c6c45-8332-45a6-809f-574961a49898\" target=\"_top\" title=\"psysml:291c6c45-8332-45a6-809f-574961a49898\" xlink:actuate=\"onRequest\" xlink:href=\"psysml:291c6c45-8332-45a6-809f-574961a49898\" xlink:show=\"new\" xlink:title=\"psysml:291c6c45-8332-45a6-809f-574961a49898\" xlink:type=\"simple\"><rect fill=\"#FFFFFF\" height=\"88.3516\" id=\"E9\" style=\"stroke: #383838; stroke-width: 1.5;\" width=\"145\" x=\"109.5\" y=\"41\"/><text fill=\"#000000\" font-family=\"sans-serif\" font-size=\"12\" font-style=\"italic\" lengthAdjust=\"spacingAndGlyphs\" textLength=\"115\" x=\"124.5\" y=\"57.1387\">«requirement def»</text><text fill=\"#000000\" font-family=\"sans-serif\" font-size=\"12\" lengthAdjust=\"spacingAndGlyphs\" textLength=\"16\" x=\"174\" y=\"71.1074\">R1</text><line style=\"stroke: #383838; stroke-width: 1.5;\" x1=\"110.5\" x2=\"253.5\" y1=\"78.9375\" y2=\"78.9375\"/><text fill=\"#000000\" font-family=\"sans-serif\" font-size=\"11\" font-weight=\"bold\" lengthAdjust=\"spacingAndGlyphs\" textLength=\"46\" x=\"115.5\" y=\"109.9526\">require</text><text fill=\"#000000\" font-family=\"sans-serif\" font-size=\"11\" lengthAdjust=\"spacingAndGlyphs\" textLength=\"13\" x=\"165.5\" y=\"109.9526\">c1</text><text fill=\"#000000\" font-family=\"sans-serif\" font-size=\"11\" font-style=\"italic\" lengthAdjust=\"spacingAndGlyphs\" textLength=\"133\" x=\"115.5\" y=\"122.7573\">:&gt;&gt;RequirementTest::c</text><line style=\"stroke: #383838; stroke-width: 1.0;\" x1=\"110.5\" x2=\"150\" y1=\"93.3398\" y2=\"93.3398\"/><text fill=\"#000000\" font-family=\"sans-serif\" font-size=\"11\" lengthAdjust=\"spacingAndGlyphs\" textLength=\"64\" x=\"150\" y=\"96.6479\">constraints</text><line style=\"stroke: #383838; stroke-width: 1.0;\" x1=\"214\" x2=\"253.5\" y1=\"93.3398\" y2=\"93.3398\"/></a><!--MD5=[1dd1bfd58a279cf63c5f349dbc8fc6a1]\n",
       "class E11--><a href=\"psysml:b7118396-8822-4234-af4f-531e34fd2b85\" target=\"_top\" title=\"psysml:b7118396-8822-4234-af4f-531e34fd2b85\" xlink:actuate=\"onRequest\" xlink:href=\"psysml:b7118396-8822-4234-af4f-531e34fd2b85\" xlink:show=\"new\" xlink:title=\"psysml:b7118396-8822-4234-af4f-531e34fd2b85\" xlink:type=\"simple\"><rect fill=\"#FFFFFF\" height=\"45.9375\" id=\"E11\" rx=\"10\" ry=\"10\" style=\"stroke: #383838; stroke-width: 1.5;\" width=\"42\" x=\"185\" y=\"344.5\"/><text fill=\"#000000\" font-family=\"sans-serif\" font-size=\"12\" font-style=\"italic\" lengthAdjust=\"spacingAndGlyphs\" textLength=\"40\" x=\"186\" y=\"360.6387\">«part»</text><text fill=\"#000000\" font-family=\"sans-serif\" font-size=\"12\" lengthAdjust=\"spacingAndGlyphs\" textLength=\"8\" x=\"202\" y=\"374.6074\">p</text><line style=\"stroke: #383838; stroke-width: 1.5;\" x1=\"186\" x2=\"226\" y1=\"382.4375\" y2=\"382.4375\"/></a><!--MD5=[49a0ec8f00dab7302a31f22d0f0fe584]\n",
       "class E12--><a href=\"psysml:5710aa92-7822-41e6-89ae-9d2d61cb8bf3\" target=\"_top\" title=\"psysml:5710aa92-7822-41e6-89ae-9d2d61cb8bf3\" xlink:actuate=\"onRequest\" xlink:href=\"psysml:5710aa92-7822-41e6-89ae-9d2d61cb8bf3\" xlink:show=\"new\" xlink:title=\"psysml:5710aa92-7822-41e6-89ae-9d2d61cb8bf3\" xlink:type=\"simple\"><rect fill=\"#FFFFFF\" height=\"45.9375\" id=\"E12\" rx=\"10\" ry=\"10\" style=\"stroke: #383838; stroke-width: 1.5;\" width=\"42\" x=\"32\" y=\"62\"/><text fill=\"#000000\" font-family=\"sans-serif\" font-size=\"12\" font-style=\"italic\" lengthAdjust=\"spacingAndGlyphs\" textLength=\"40\" x=\"33\" y=\"78.1387\">«part»</text><text fill=\"#000000\" font-family=\"sans-serif\" font-size=\"12\" lengthAdjust=\"spacingAndGlyphs\" textLength=\"8\" x=\"49\" y=\"92.1074\">q</text><line style=\"stroke: #383838; stroke-width: 1.5;\" x1=\"33\" x2=\"73\" y1=\"99.9375\" y2=\"99.9375\"/></a><!--MD5=[ee3c913d1a06f366521f9ef512b67efe]\n",
       "class E13--><a href=\"psysml:b72900fb-e3ca-4439-ac22-acb3bf892de5\" target=\"_top\" title=\"psysml:b72900fb-e3ca-4439-ac22-acb3bf892de5\" xlink:actuate=\"onRequest\" xlink:href=\"psysml:b72900fb-e3ca-4439-ac22-acb3bf892de5\" xlink:show=\"new\" xlink:title=\"psysml:b72900fb-e3ca-4439-ac22-acb3bf892de5\" xlink:type=\"simple\"><rect fill=\"#FFFFFF\" height=\"45.9375\" id=\"E13\" rx=\"10\" ry=\"10\" style=\"stroke: #383838; stroke-width: 1.5;\" width=\"93\" x=\"44.5\" y=\"190\"/><text fill=\"#000000\" font-family=\"sans-serif\" font-size=\"12\" font-style=\"italic\" lengthAdjust=\"spacingAndGlyphs\" textLength=\"91\" x=\"45.5\" y=\"206.1387\">«requirement»</text><text fill=\"#000000\" font-family=\"sans-serif\" font-size=\"12\" lengthAdjust=\"spacingAndGlyphs\" textLength=\"21\" x=\"80.5\" y=\"220.1074\">r: R</text><line style=\"stroke: #383838; stroke-width: 1.5;\" x1=\"45.5\" x2=\"136.5\" y1=\"227.9375\" y2=\"227.9375\"/></a><!--MD5=[05d275557350bfb9b23a4ef7222b4c39]\n",
       "link E3 to E2--><a href=\"psysml:8b4534c8-c65f-4721-aa95-1aefa1ee4858\" target=\"_top\" title=\"psysml:8b4534c8-c65f-4721-aa95-1aefa1ee4858\" xlink:actuate=\"onRequest\" xlink:href=\"psysml:8b4534c8-c65f-4721-aa95-1aefa1ee4858\" xlink:show=\"new\" xlink:title=\"psysml:8b4534c8-c65f-4721-aa95-1aefa1ee4858\" xlink:type=\"simple\"><path d=\"M330,108.18 C330,108.18 330,169.99 330,169.99 \" fill=\"none\" id=\"E3-&gt;E2\" style=\"stroke: #383838; stroke-width: 1.0;\"/><polygon fill=\"#FFFFFF\" points=\"330,189.99,323,170.99,337,170.99,330,189.99\" style=\"stroke: #383838; stroke-width: 1.0;\"/><ellipse cx=\"325\" cy=\"165.29\" fill=\"#383838\" rx=\"2\" ry=\"2\" style=\"stroke: #383838; stroke-width: 1.0;\"/><ellipse cx=\"335\" cy=\"165.29\" fill=\"#383838\" rx=\"2\" ry=\"2\" style=\"stroke: #383838; stroke-width: 1.0;\"/></a><!--MD5=[62aa6af11e70f752912c1cb0466f24f7]\n",
       "reverse link E4 to E5--><a href=\"psysml:5c4fbfc6-6feb-457a-9610-da755776e124\" target=\"_top\" title=\"psysml:5c4fbfc6-6feb-457a-9610-da755776e124\" xlink:actuate=\"onRequest\" xlink:href=\"psysml:5c4fbfc6-6feb-457a-9610-da755776e124\" xlink:show=\"new\" xlink:title=\"psysml:5c4fbfc6-6feb-457a-9610-da755776e124\" xlink:type=\"simple\"><path d=\"M91,437.14 C91,437.14 91,482.66 91,482.66 \" fill=\"none\" id=\"E4&lt;-E5\" style=\"stroke: #383838; stroke-width: 1.0;\"/><ellipse cx=\"91\" cy=\"430.14\" fill=\"#FFFFFF\" rx=\"8\" ry=\"8\" style=\"stroke: #383838; stroke-width: 1.0;\"/><line style=\"stroke: #383838; stroke-width: 1.0;\" x1=\"91\" x2=\"91\" y1=\"438.14\" y2=\"422.14\"/><line style=\"stroke: #383838; stroke-width: 1.0;\" x1=\"83\" x2=\"99\" y1=\"430.14\" y2=\"430.14\"/></a><!--MD5=[c6fc7cdb0cabde04948078cf183fa696]\n",
       "reverse link E4 to E8--><a href=\"psysml:577c6bec-7675-4e65-a136-10b226b9020a\" target=\"_top\" title=\"psysml:577c6bec-7675-4e65-a136-10b226b9020a\" xlink:actuate=\"onRequest\" xlink:href=\"psysml:577c6bec-7675-4e65-a136-10b226b9020a\" xlink:show=\"new\" xlink:title=\"psysml:577c6bec-7675-4e65-a136-10b226b9020a\" xlink:type=\"simple\"><path d=\"M162.51,407 C162.51,407 206,407 206,407 C206,407 206,461.14 206,493.28 \" fill=\"none\" id=\"E4&lt;-E8\" style=\"stroke: #383838; stroke-width: 1.0;\"/><polygon fill=\"#383838\" points=\"149.51,407,155.51,411,161.51,407,155.51,403,149.51,407\" style=\"stroke: #383838; stroke-width: 1.0;\"/></a><!--MD5=[062ed86c389d1a88f61c6380d0491e17]\n",
       "reverse link E12 to E13--><a href=\"psysml:b72900fb-e3ca-4439-ac22-acb3bf892de5\" target=\"_top\" title=\"psysml:b72900fb-e3ca-4439-ac22-acb3bf892de5\" xlink:actuate=\"onRequest\" xlink:href=\"psysml:b72900fb-e3ca-4439-ac22-acb3bf892de5\" xlink:show=\"new\" xlink:title=\"psysml:b72900fb-e3ca-4439-ac22-acb3bf892de5\" xlink:type=\"simple\"><path d=\"M59.25,121.18 C59.25,121.18 59.25,189.99 59.25,189.99 \" fill=\"none\" id=\"E12&lt;-E13\" style=\"stroke: #383838; stroke-width: 1.0;\"/><polygon fill=\"#383838\" points=\"59.25,108.18,55.25,114.18,59.25,120.18,63.25,114.18,59.25,108.18\" style=\"stroke: #383838; stroke-width: 1.0;\"/></a><!--MD5=[017847e01ff9a8bd19f247411074f987]\n",
       "link E13 to E4--><a href=\"psysml:ed6e641a-605b-4ed9-9064-d41509e7ab16\" target=\"_top\" title=\"psysml:ed6e641a-605b-4ed9-9064-d41509e7ab16\" xlink:actuate=\"onRequest\" xlink:href=\"psysml:ed6e641a-605b-4ed9-9064-d41509e7ab16\" xlink:show=\"new\" xlink:title=\"psysml:ed6e641a-605b-4ed9-9064-d41509e7ab16\" xlink:type=\"simple\"><path d=\"M91,236.13 C91,236.13 91,292.77 91,292.77 \" fill=\"none\" id=\"E13-&gt;E4\" style=\"stroke: #383838; stroke-width: 1.0;\"/><polygon fill=\"#FFFFFF\" points=\"91,312.77,84,293.77,98,293.77,91,312.77\" style=\"stroke: #383838; stroke-width: 1.0;\"/><ellipse cx=\"86\" cy=\"288.07\" fill=\"#383838\" rx=\"2\" ry=\"2\" style=\"stroke: #383838; stroke-width: 1.0;\"/><ellipse cx=\"96\" cy=\"288.07\" fill=\"#383838\" rx=\"2\" ry=\"2\" style=\"stroke: #383838; stroke-width: 1.0;\"/></a><!--MD5=[2cfe899c895462254056921bfb67315f]\n",
       "link E13 to E11--><a href=\"psysml:11f1a2a5-a4e7-4875-8b16-7052fd317758\" target=\"_top\" title=\"psysml:11f1a2a5-a4e7-4875-8b16-7052fd317758\" xlink:actuate=\"onRequest\" xlink:href=\"psysml:11f1a2a5-a4e7-4875-8b16-7052fd317758\" xlink:show=\"new\" xlink:title=\"psysml:11f1a2a5-a4e7-4875-8b16-7052fd317758\" xlink:type=\"simple\"><path d=\"M137.77,213 C169.61,213 206,213 206,213 C206,213 206,339.37 206,339.37 \" fill=\"none\" id=\"E13-&gt;E11\" style=\"stroke: #383838; stroke-width: 1.0; stroke-dasharray: 7.0,7.0;\"/><polygon fill=\"#383838\" points=\"206,344.37,210,335.37,206,339.37,202,335.37,206,344.37\" style=\"stroke: #383838; stroke-width: 1.0;\"/><text fill=\"#000000\" font-family=\"sans-serif\" font-size=\"13\" lengthAdjust=\"spacingAndGlyphs\" textLength=\"57\" x=\"170\" y=\"279.0669\">«satisfy»</text></a><!--MD5=[82ceaf7071a2b1cf31fcb4de6b1ff12c]\n",
       "@startuml\r\n",
       "skinparam linetype ortho\r\n",
       "skinparam monochrome true\r\n",
       "skinparam classbackgroundcolor white\r\n",
       "skinparam shadowing false\r\n",
       "skinparam wrapWidth 300\r\n",
       "hide circle\r\n",
       "\r\n",
       "package \"RequirementTest\" as E1  [[psysml:8aa028f5-1693-4b51-bff2-c94d0f18c930 ]]  {\r\n",
       "comp def \"C\" as E2  <<(T,blue)constraint def>> [[psysml:27c2a771-07cf-4bde-9591-6030a1a15742 ]] {\r\n",
       "}\r\n",
       "comp usage \"c: C\" as E3  <<(T,blue)constraint>> [[psysml:da02b217-f155-4220-a2dc-d840d0d24f86 ]] {\r\n",
       "}\r\n",
       "comp def \"R\" as E4  <<(T,blue)requirement def>> [[psysml:b9a9d178-6ba0-415d-80bd-8d7e5aacf32f ]] {\r\n",
       "\r\n",
       "- -\r\n",
       "- - constraints - -\r\n",
       "<b>require</b> c\r\n",
       "<i>assume</i> c1: C\r\n",
       "}\r\n",
       "comp def \" [<b>1</b>] A\" as E5  <<(T,blue)requirement def>> [[psysml:5c4fbfc6-6feb-457a-9610-da755776e124 ]] {\r\n",
       "Text\r\n",
       "- -\r\n",
       "}\r\n",
       "comp usage \"<s>noname</s>\" as E8  <<(T,blue)requirement>> [[psysml:577c6bec-7675-4e65-a136-10b226b9020a ]] {\r\n",
       "}\r\n",
       "comp def \"R1\" as E9  <<(T,blue)requirement def>> [[psysml:291c6c45-8332-45a6-809f-574961a49898 ]] {\r\n",
       "- - constraints - -\r\n",
       "<b>require</b> c1\\n//:>>RequirementTest::c// \r\n",
       "}\r\n",
       "comp usage \"p\" as E11  <<(T,blue)part>> [[psysml:b7118396-8822-4234-af4f-531e34fd2b85 ]] {\r\n",
       "}\r\n",
       "comp usage \"q\" as E12  <<(T,blue)part>> [[psysml:5710aa92-7822-41e6-89ae-9d2d61cb8bf3 ]] {\r\n",
       "}\r\n",
       "comp usage \"r: R\" as E13  <<(T,blue)requirement>> [[psysml:b72900fb-e3ca-4439-ac22-acb3bf892de5 ]] {\r\n",
       "}\r\n",
       "E3 - -:|> E2 [[psysml:8b4534c8-c65f-4721-aa95-1aefa1ee4858 ]] \r\n",
       "E4 +- - E5 [[psysml:5c4fbfc6-6feb-457a-9610-da755776e124 ]] \r\n",
       "E4 *- - E8 [[psysml:577c6bec-7675-4e65-a136-10b226b9020a ]] \r\n",
       "E12 *- - E13 [[psysml:b72900fb-e3ca-4439-ac22-acb3bf892de5 ]] \r\n",
       "E13 - -:|> E4 [[psysml:ed6e641a-605b-4ed9-9064-d41509e7ab16 ]] \r\n",
       "E13 ..> E11 [[psysml:11f1a2a5-a4e7-4875-8b16-7052fd317758 ]] : <<satisfy>>\r\n",
       "}\r\n",
       "@enduml\r\n",
       "\n",
       "PlantUML version 1.2020.13(Sat Jun 13 12:26:38 UTC 2020)\n",
       "(EPL source distribution)\n",
       "Java Runtime: OpenJDK Runtime Environment\n",
       "JVM: OpenJDK 64-Bit Server VM\n",
       "Default Encoding: UTF-8\n",
       "Language: en\n",
       "Country: null\n",
       "--></g></svg>"
      ]
     },
     "execution_count": 52,
     "metadata": {},
     "output_type": "execute_result"
    }
   ],
   "source": [
    "%viz --style=\"ORTHOLINE\" --view=\"Tree\" \"RequirementTest\""
   ]
  },
  {
   "cell_type": "code",
   "execution_count": 53,
   "id": "lovely-scene",
   "metadata": {
    "execution": {
     "iopub.execute_input": "2021-03-26T09:12:31.649521Z",
     "iopub.status.busy": "2021-03-26T09:12:31.649082Z",
     "iopub.status.idle": "2021-03-26T09:12:31.652929Z",
     "shell.execute_reply": "2021-03-26T09:12:31.652595Z"
    }
   },
   "outputs": [
    {
     "data": {
      "image/svg+xml": [
       "<?xml version=\"1.0\" encoding=\"UTF-8\" standalone=\"no\"?><svg xmlns=\"http://www.w3.org/2000/svg\" xmlns:xlink=\"http://www.w3.org/1999/xlink\" contentScriptType=\"application/ecmascript\" contentStyleType=\"text/css\" height=\"12px\" preserveAspectRatio=\"none\" style=\"width:12px;height:12px;\" version=\"1.1\" viewBox=\"0 0 12 12\" width=\"12px\" zoomAndPan=\"magnify\"><defs/><g><!--MD5=[97d6f38768b311333d388e66b2b27985]\n",
       "@startuml\r\n",
       "skinparam linetype ortho\r\n",
       "skinparam monochrome true\r\n",
       "skinparam classbackgroundcolor white\r\n",
       "skinparam shadowing false\r\n",
       "skinparam wrapWidth 300\r\n",
       "hide circle\r\n",
       "\r\n",
       "@enduml\r\n",
       "\n",
       "PlantUML version 1.2020.13(Sat Jun 13 12:26:38 UTC 2020)\n",
       "(EPL source distribution)\n",
       "Java Runtime: OpenJDK Runtime Environment\n",
       "JVM: OpenJDK 64-Bit Server VM\n",
       "Default Encoding: UTF-8\n",
       "Language: en\n",
       "Country: null\n",
       "--></g></svg>"
      ]
     },
     "execution_count": 53,
     "metadata": {},
     "output_type": "execute_result"
    }
   ],
   "source": [
    "%viz --style=\"ORTHOLINE\" --view=\"State\" \"RequirementTest\""
   ]
  },
  {
   "cell_type": "code",
   "execution_count": 54,
   "id": "central-monster",
   "metadata": {
    "execution": {
     "iopub.execute_input": "2021-03-26T09:12:31.704803Z",
     "iopub.status.busy": "2021-03-26T09:12:31.704113Z",
     "iopub.status.idle": "2021-03-26T09:12:31.736145Z",
     "shell.execute_reply": "2021-03-26T09:12:31.734861Z"
    }
   },
   "outputs": [
    {
     "data": {
      "image/svg+xml": [
       "<?xml version=\"1.0\" encoding=\"UTF-8\" standalone=\"no\"?><svg xmlns=\"http://www.w3.org/2000/svg\" xmlns:xlink=\"http://www.w3.org/1999/xlink\" contentScriptType=\"application/ecmascript\" contentStyleType=\"text/css\" height=\"367px\" preserveAspectRatio=\"none\" style=\"width:980px;height:367px;\" version=\"1.1\" viewBox=\"0 0 980 367\" width=\"980px\" zoomAndPan=\"magnify\"><defs/><g><!--MD5=[fbc87193dbaf4d95561dea2c320d4a47]\n",
       "cluster E1--><a href=\"psysml:8aa028f5-1693-4b51-bff2-c94d0f18c930\" target=\"_top\" title=\"psysml:8aa028f5-1693-4b51-bff2-c94d0f18c930\" xlink:actuate=\"onRequest\" xlink:href=\"psysml:8aa028f5-1693-4b51-bff2-c94d0f18c930\" xlink:show=\"new\" xlink:title=\"psysml:8aa028f5-1693-4b51-bff2-c94d0f18c930\" xlink:type=\"simple\"><polygon fill=\"#FFFFFF\" points=\"16,6,158,6,165,28.2969,958,28.2969,958,355,16,355,16,6\" style=\"stroke: #000000; stroke-width: 1.5;\"/><line style=\"stroke: #000000; stroke-width: 1.5;\" x1=\"16\" x2=\"165\" y1=\"28.2969\" y2=\"28.2969\"/><text fill=\"#000000\" font-family=\"sans-serif\" font-size=\"14\" font-weight=\"bold\" lengthAdjust=\"spacingAndGlyphs\" textLength=\"136\" x=\"20\" y=\"20.9951\">RequirementTest</text></a><!--MD5=[168fadf3d0c3fd93dd5d6da1b1d7ab76]\n",
       "cluster E7--><a href=\"psysml:5710aa92-7822-41e6-89ae-9d2d61cb8bf3\" target=\"_top\" title=\"psysml:5710aa92-7822-41e6-89ae-9d2d61cb8bf3\" xlink:actuate=\"onRequest\" xlink:href=\"psysml:5710aa92-7822-41e6-89ae-9d2d61cb8bf3\" xlink:show=\"new\" xlink:title=\"psysml:5710aa92-7822-41e6-89ae-9d2d61cb8bf3\" xlink:type=\"simple\"><rect fill=\"#FFFFFF\" height=\"209\" id=\"E7\" rx=\"10\" ry=\"10\" style=\"stroke: #383838; stroke-width: 1.5;\" width=\"213\" x=\"721\" y=\"49\"/><rect fill=\"#F8F8F8\" height=\"23.9688\" rx=\"10\" ry=\"10\" style=\"stroke: #F8F8F8; stroke-width: 1.5;\" width=\"213\" x=\"721\" y=\"49\"/><rect fill=\"#F8F8F8\" height=\"10\" style=\"stroke: #F8F8F8; stroke-width: 1.5;\" width=\"213\" x=\"721\" y=\"62.9688\"/><rect fill=\"none\" height=\"209\" id=\"E7\" rx=\"10\" ry=\"10\" style=\"stroke: #383838; stroke-width: 1.5;\" width=\"213\" x=\"721\" y=\"49\"/><text fill=\"#000000\" font-family=\"sans-serif\" font-size=\"12\" lengthAdjust=\"spacingAndGlyphs\" textLength=\"8\" x=\"823.5\" y=\"65.1387\">q</text><line style=\"stroke: #383838; stroke-width: 1.0;\" x1=\"721\" x2=\"934\" y1=\"72.9688\" y2=\"72.9688\"/></a><!--MD5=[55dfccfc6c49c2d10cd1bd2211a6c90c]\n",
       "cluster E8--><a href=\"psysml:b72900fb-e3ca-4439-ac22-acb3bf892de5\" target=\"_top\" title=\"psysml:b72900fb-e3ca-4439-ac22-acb3bf892de5\" xlink:actuate=\"onRequest\" xlink:href=\"psysml:b72900fb-e3ca-4439-ac22-acb3bf892de5\" xlink:show=\"new\" xlink:title=\"psysml:b72900fb-e3ca-4439-ac22-acb3bf892de5\" xlink:type=\"simple\"><rect fill=\"#FFFFFF\" height=\"126\" id=\"E8\" rx=\"10\" ry=\"10\" style=\"stroke: #383838; stroke-width: 1.5;\" width=\"149\" x=\"753\" y=\"100\"/><rect fill=\"#F8F8F8\" height=\"37.9375\" rx=\"10\" ry=\"10\" style=\"stroke: #F8F8F8; stroke-width: 1.5;\" width=\"149\" x=\"753\" y=\"100\"/><rect fill=\"#F8F8F8\" height=\"10\" style=\"stroke: #F8F8F8; stroke-width: 1.5;\" width=\"149\" x=\"753\" y=\"127.9375\"/><rect fill=\"none\" height=\"126\" id=\"E8\" rx=\"10\" ry=\"10\" style=\"stroke: #383838; stroke-width: 1.5;\" width=\"149\" x=\"753\" y=\"100\"/><text fill=\"#000000\" font-family=\"sans-serif\" font-size=\"12\" font-style=\"italic\" lengthAdjust=\"spacingAndGlyphs\" textLength=\"91\" x=\"782\" y=\"116.1387\">«requirement»</text><text fill=\"#000000\" font-family=\"sans-serif\" font-size=\"12\" lengthAdjust=\"spacingAndGlyphs\" textLength=\"21\" x=\"817\" y=\"130.1074\">r: R</text><line style=\"stroke: #383838; stroke-width: 1.0;\" x1=\"753\" x2=\"902\" y1=\"137.9375\" y2=\"137.9375\"/></a><!--MD5=[b4997ac47864f28c2f74865a473b2911]\n",
       "class E2--><a href=\"psysml:27c2a771-07cf-4bde-9591-6030a1a15742\" target=\"_top\" title=\"psysml:27c2a771-07cf-4bde-9591-6030a1a15742\" xlink:actuate=\"onRequest\" xlink:href=\"psysml:27c2a771-07cf-4bde-9591-6030a1a15742\" xlink:show=\"new\" xlink:title=\"psysml:27c2a771-07cf-4bde-9591-6030a1a15742\" xlink:type=\"simple\"><rect fill=\"#FFFFFF\" height=\"53.9375\" id=\"E2\" style=\"stroke: #383838; stroke-width: 1.5;\" width=\"152\" x=\"553\" y=\"153.5\"/><text fill=\"#000000\" font-family=\"sans-serif\" font-size=\"12\" font-style=\"italic\" lengthAdjust=\"spacingAndGlyphs\" textLength=\"150\" x=\"554\" y=\"169.6387\">«(T,blue)constraint def»</text><text fill=\"#000000\" font-family=\"sans-serif\" font-size=\"12\" lengthAdjust=\"spacingAndGlyphs\" textLength=\"8\" x=\"625\" y=\"183.6074\">C</text><line style=\"stroke: #383838; stroke-width: 1.5;\" x1=\"554\" x2=\"704\" y1=\"191.4375\" y2=\"191.4375\"/><line style=\"stroke: #383838; stroke-width: 1.5;\" x1=\"554\" x2=\"704\" y1=\"199.4375\" y2=\"199.4375\"/></a><!--MD5=[ebbe1d658d1005bcc118a6aa81145e00]\n",
       "class E4--><a href=\"psysml:b9a9d178-6ba0-415d-80bd-8d7e5aacf32f\" target=\"_top\" title=\"psysml:b9a9d178-6ba0-415d-80bd-8d7e5aacf32f\" xlink:actuate=\"onRequest\" xlink:href=\"psysml:b9a9d178-6ba0-415d-80bd-8d7e5aacf32f\" xlink:show=\"new\" xlink:title=\"psysml:b9a9d178-6ba0-415d-80bd-8d7e5aacf32f\" xlink:type=\"simple\"><rect fill=\"#FFFFFF\" height=\"53.9375\" id=\"E4\" style=\"stroke: #383838; stroke-width: 1.5;\" width=\"165\" x=\"352.5\" y=\"153.5\"/><text fill=\"#000000\" font-family=\"sans-serif\" font-size=\"12\" font-style=\"italic\" lengthAdjust=\"spacingAndGlyphs\" textLength=\"163\" x=\"353.5\" y=\"169.6387\">«(T,blue)requirement def»</text><text fill=\"#000000\" font-family=\"sans-serif\" font-size=\"12\" lengthAdjust=\"spacingAndGlyphs\" textLength=\"8\" x=\"431\" y=\"183.6074\">R</text><line style=\"stroke: #383838; stroke-width: 1.5;\" x1=\"353.5\" x2=\"516.5\" y1=\"191.4375\" y2=\"191.4375\"/><line style=\"stroke: #383838; stroke-width: 1.5;\" x1=\"353.5\" x2=\"516.5\" y1=\"199.4375\" y2=\"199.4375\"/></a><!--MD5=[270fce915f116d4de14055a7c1d9a0f3]\n",
       "class E5--><a href=\"psysml:291c6c45-8332-45a6-809f-574961a49898\" target=\"_top\" title=\"psysml:291c6c45-8332-45a6-809f-574961a49898\" xlink:actuate=\"onRequest\" xlink:href=\"psysml:291c6c45-8332-45a6-809f-574961a49898\" xlink:show=\"new\" xlink:title=\"psysml:291c6c45-8332-45a6-809f-574961a49898\" xlink:type=\"simple\"><rect fill=\"#FFFFFF\" height=\"53.9375\" id=\"E5\" style=\"stroke: #383838; stroke-width: 1.5;\" width=\"165\" x=\"152.5\" y=\"153.5\"/><text fill=\"#000000\" font-family=\"sans-serif\" font-size=\"12\" font-style=\"italic\" lengthAdjust=\"spacingAndGlyphs\" textLength=\"163\" x=\"153.5\" y=\"169.6387\">«(T,blue)requirement def»</text><text fill=\"#000000\" font-family=\"sans-serif\" font-size=\"12\" lengthAdjust=\"spacingAndGlyphs\" textLength=\"16\" x=\"227\" y=\"183.6074\">R1</text><line style=\"stroke: #383838; stroke-width: 1.5;\" x1=\"153.5\" x2=\"316.5\" y1=\"191.4375\" y2=\"191.4375\"/><line style=\"stroke: #383838; stroke-width: 1.5;\" x1=\"153.5\" x2=\"316.5\" y1=\"199.4375\" y2=\"199.4375\"/></a><g id=\"E1.E3\"><a href=\"psysml:da02b217-f155-4220-a2dc-d840d0d24f86\" target=\"_top\" title=\"psysml:da02b217-f155-4220-a2dc-d840d0d24f86\" xlink:actuate=\"onRequest\" xlink:href=\"psysml:da02b217-f155-4220-a2dc-d840d0d24f86\" xlink:show=\"new\" xlink:title=\"psysml:da02b217-f155-4220-a2dc-d840d0d24f86\" xlink:type=\"simple\"><rect fill=\"#FFFFFF\" height=\"42.9375\" id=\"E3\" rx=\"10\" ry=\"10\" style=\"stroke: #383838; stroke-width: 1.5;\" width=\"85\" x=\"32.5\" y=\"159\"/><rect fill=\"#F8F8F8\" height=\"37.9375\" rx=\"10\" ry=\"10\" style=\"stroke: #F8F8F8; stroke-width: 1.5;\" width=\"85\" x=\"32.5\" y=\"159\"/><rect fill=\"#F8F8F8\" height=\"10\" style=\"stroke: #F8F8F8; stroke-width: 1.5;\" width=\"85\" x=\"32.5\" y=\"186.9375\"/><rect fill=\"none\" height=\"42.9375\" id=\"E3\" rx=\"10\" ry=\"10\" style=\"stroke: #383838; stroke-width: 1.5;\" width=\"85\" x=\"32.5\" y=\"159\"/><text fill=\"#000000\" font-family=\"sans-serif\" font-size=\"12\" font-style=\"italic\" lengthAdjust=\"spacingAndGlyphs\" textLength=\"78\" x=\"36\" y=\"175.1387\">«constraint»</text><text fill=\"#000000\" font-family=\"sans-serif\" font-size=\"12\" lengthAdjust=\"spacingAndGlyphs\" textLength=\"23\" x=\"63.5\" y=\"189.1074\">c: C</text></a></g><g id=\"E1.E6\"><a href=\"psysml:b7118396-8822-4234-af4f-531e34fd2b85\" target=\"_top\" title=\"psysml:b7118396-8822-4234-af4f-531e34fd2b85\" xlink:actuate=\"onRequest\" xlink:href=\"psysml:b7118396-8822-4234-af4f-531e34fd2b85\" xlink:show=\"new\" xlink:title=\"psysml:b7118396-8822-4234-af4f-531e34fd2b85\" xlink:type=\"simple\"><rect fill=\"#FFFFFF\" height=\"40\" id=\"E6\" rx=\"10\" ry=\"10\" style=\"stroke: #383838; stroke-width: 1.5;\" width=\"50\" x=\"736\" y=\"299\"/><rect fill=\"#F8F8F8\" height=\"23.9688\" rx=\"10\" ry=\"10\" style=\"stroke: #F8F8F8; stroke-width: 1.5;\" width=\"50\" x=\"736\" y=\"299\"/><rect fill=\"#F8F8F8\" height=\"10\" style=\"stroke: #F8F8F8; stroke-width: 1.5;\" width=\"50\" x=\"736\" y=\"312.9688\"/><rect fill=\"none\" height=\"40\" id=\"E6\" rx=\"10\" ry=\"10\" style=\"stroke: #383838; stroke-width: 1.5;\" width=\"50\" x=\"736\" y=\"299\"/><text fill=\"#000000\" font-family=\"sans-serif\" font-size=\"12\" lengthAdjust=\"spacingAndGlyphs\" textLength=\"8\" x=\"757\" y=\"315.1387\">p</text></a></g><g id=\"E1.E7.E8.E9\"><a href=\"psysml:b3b786b4-2056-4ded-a351-3a90cb9a49e0\" target=\"_top\" title=\"psysml:b3b786b4-2056-4ded-a351-3a90cb9a49e0\" xlink:actuate=\"onRequest\" xlink:href=\"psysml:b3b786b4-2056-4ded-a351-3a90cb9a49e0\" xlink:show=\"new\" xlink:title=\"psysml:b3b786b4-2056-4ded-a351-3a90cb9a49e0\" xlink:type=\"simple\"><rect fill=\"#FFFFFF\" height=\"42.9375\" id=\"E9\" rx=\"10\" ry=\"10\" style=\"stroke: #383838; stroke-width: 1.5;\" width=\"82\" x=\"796\" y=\"159\"/><rect fill=\"#F8F8F8\" height=\"37.9375\" rx=\"10\" ry=\"10\" style=\"stroke: #F8F8F8; stroke-width: 1.5;\" width=\"82\" x=\"796\" y=\"159\"/><rect fill=\"#F8F8F8\" height=\"10\" style=\"stroke: #F8F8F8; stroke-width: 1.5;\" width=\"82\" x=\"796\" y=\"186.9375\"/><rect fill=\"none\" height=\"42.9375\" id=\"E9\" rx=\"10\" ry=\"10\" style=\"stroke: #383838; stroke-width: 1.5;\" width=\"82\" x=\"796\" y=\"159\"/><text fill=\"#000000\" font-family=\"sans-serif\" font-size=\"12\" font-style=\"italic\" lengthAdjust=\"spacingAndGlyphs\" textLength=\"75\" x=\"799.5\" y=\"175.1387\">«reference»</text><text fill=\"#000000\" font-family=\"sans-serif\" font-size=\"12\" lengthAdjust=\"spacingAndGlyphs\" textLength=\"26\" x=\"824\" y=\"189.1074\">subj</text></a></g><!--MD5=[c5e8897d989ce984f93528998a7150fe]\n",
       "link E8 to E6--><a href=\"psysml:11f1a2a5-a4e7-4875-8b16-7052fd317758\" target=\"_top\" title=\"psysml:11f1a2a5-a4e7-4875-8b16-7052fd317758\" xlink:actuate=\"onRequest\" xlink:href=\"psysml:11f1a2a5-a4e7-4875-8b16-7052fd317758\" xlink:show=\"new\" xlink:title=\"psysml:11f1a2a5-a4e7-4875-8b16-7052fd317758\" xlink:type=\"simple\"><path d=\"M761,226.1903 C761,226.407 761,226.6239 761,226.8411 C761,230.3156 761,233.8453 761,237.375 C761,265.6125 761,293.85 761,293.85 \" fill=\"none\" id=\"E8-&gt;E6\" style=\"stroke: #383838; stroke-width: 1.0; stroke-dasharray: 7.0,7.0;\"/><polygon fill=\"#383838\" points=\"761,298.85,765,289.85,761,293.85,757,289.85,761,298.85\" style=\"stroke: #383838; stroke-width: 1.0;\"/><text fill=\"#000000\" font-family=\"sans-serif\" font-size=\"13\" lengthAdjust=\"spacingAndGlyphs\" textLength=\"57\" x=\"762\" y=\"287.0669\">«satisfy»</text></a><!--MD5=[11094e190c4ad165c0330f8a31882e5e]\n",
       "@startuml\r\n",
       "skinparam ranksep 8\r\n",
       "skinparam rectangle {\r\n",
       " backgroundColor<<block>> LightGreen\r\n",
       "}\r\n",
       "skinparam linetype ortho\r\n",
       "skinparam monochrome true\r\n",
       "skinparam classbackgroundcolor white\r\n",
       "skinparam shadowing false\r\n",
       "skinparam wrapWidth 300\r\n",
       "hide circle\r\n",
       "\r\n",
       "package \"RequirementTest\" as E1  [[psysml:8aa028f5-1693-4b51-bff2-c94d0f18c930 ]]  {\r\n",
       "def \"C\" as E2  <<(T,blue)constraint def>> [[psysml:27c2a771-07cf-4bde-9591-6030a1a15742 ]] \r\n",
       "rec usage \"c: C\" as E3  <<(T,blue)constraint>> [[psysml:da02b217-f155-4220-a2dc-d840d0d24f86 ]] {\r\n",
       "}\r\n",
       "def \"R\" as E4  <<(T,blue)requirement def>> [[psysml:b9a9d178-6ba0-415d-80bd-8d7e5aacf32f ]] \r\n",
       "def \"R1\" as E5  <<(T,blue)requirement def>> [[psysml:291c6c45-8332-45a6-809f-574961a49898 ]] \r\n",
       "rec usage \"p\" as E6  [[psysml:b7118396-8822-4234-af4f-531e34fd2b85 ]] {\r\n",
       "}\r\n",
       "rec usage \"q\" as E7  [[psysml:5710aa92-7822-41e6-89ae-9d2d61cb8bf3 ]] {\r\n",
       "rec usage \"r: R\" as E8  <<(T,blue)requirement>> [[psysml:b72900fb-e3ca-4439-ac22-acb3bf892de5 ]] {\r\n",
       "rec usage \"subj\" as E9  <<(T,blue)reference>> [[psysml:b3b786b4-2056-4ded-a351-3a90cb9a49e0 ]] {\r\n",
       "}\r\n",
       "}\r\n",
       "}\r\n",
       "E8 ..> E6 [[psysml:11f1a2a5-a4e7-4875-8b16-7052fd317758 ]] : <<satisfy>>\r\n",
       "}\r\n",
       "@enduml\r\n",
       "\n",
       "PlantUML version 1.2020.13(Sat Jun 13 12:26:38 UTC 2020)\n",
       "(EPL source distribution)\n",
       "Java Runtime: OpenJDK Runtime Environment\n",
       "JVM: OpenJDK 64-Bit Server VM\n",
       "Default Encoding: UTF-8\n",
       "Language: en\n",
       "Country: null\n",
       "--></g></svg>"
      ]
     },
     "execution_count": 54,
     "metadata": {},
     "output_type": "execute_result"
    }
   ],
   "source": [
    "%viz --style=\"ORTHOLINE\" --view=\"Interconnection\" \"RequirementTest\""
   ]
  },
  {
   "cell_type": "code",
   "execution_count": 55,
   "id": "happy-whale",
   "metadata": {
    "execution": {
     "iopub.execute_input": "2021-03-26T09:12:31.788217Z",
     "iopub.status.busy": "2021-03-26T09:12:31.787760Z",
     "iopub.status.idle": "2021-03-26T09:12:31.792280Z",
     "shell.execute_reply": "2021-03-26T09:12:31.792723Z"
    }
   },
   "outputs": [
    {
     "data": {
      "image/svg+xml": [
       "<?xml version=\"1.0\" encoding=\"UTF-8\" standalone=\"no\"?><svg xmlns=\"http://www.w3.org/2000/svg\" xmlns:xlink=\"http://www.w3.org/1999/xlink\" contentScriptType=\"application/ecmascript\" contentStyleType=\"text/css\" height=\"12px\" preserveAspectRatio=\"none\" style=\"width:12px;height:12px;\" version=\"1.1\" viewBox=\"0 0 12 12\" width=\"12px\" zoomAndPan=\"magnify\"><defs/><g><!--MD5=[72934c63077099a26744516a776b4749]\n",
       "@startuml\r\n",
       "skinparam ranksep 8\r\n",
       "skinparam linetype ortho\r\n",
       "skinparam monochrome true\r\n",
       "skinparam classbackgroundcolor white\r\n",
       "skinparam shadowing false\r\n",
       "skinparam wrapWidth 300\r\n",
       "hide circle\r\n",
       "\r\n",
       "@enduml\r\n",
       "\n",
       "PlantUML version 1.2020.13(Sat Jun 13 12:26:38 UTC 2020)\n",
       "(EPL source distribution)\n",
       "Java Runtime: OpenJDK Runtime Environment\n",
       "JVM: OpenJDK 64-Bit Server VM\n",
       "Default Encoding: UTF-8\n",
       "Language: en\n",
       "Country: null\n",
       "--></g></svg>"
      ]
     },
     "execution_count": 55,
     "metadata": {},
     "output_type": "execute_result"
    }
   ],
   "source": [
    "%viz --style=\"ORTHOLINE\" --view=\"Action\" \"RequirementTest\""
   ]
  },
  {
   "cell_type": "code",
   "execution_count": 56,
   "id": "confirmed-hampshire",
   "metadata": {
    "execution": {
     "iopub.execute_input": "2021-03-26T09:12:31.842911Z",
     "iopub.status.busy": "2021-03-26T09:12:31.842435Z",
     "iopub.status.idle": "2021-03-26T09:12:31.920060Z",
     "shell.execute_reply": "2021-03-26T09:12:31.918583Z"
    }
   },
   "outputs": [
    {
     "data": {
      "image/svg+xml": [
       "<?xml version=\"1.0\" encoding=\"UTF-8\" standalone=\"no\"?><svg xmlns=\"http://www.w3.org/2000/svg\" xmlns:xlink=\"http://www.w3.org/1999/xlink\" contentScriptType=\"application/ecmascript\" contentStyleType=\"text/css\" height=\"578px\" preserveAspectRatio=\"none\" style=\"width:408px;height:578px;\" version=\"1.1\" viewBox=\"0 0 408 578\" width=\"408px\" zoomAndPan=\"magnify\"><defs/><g><!--MD5=[fbc87193dbaf4d95561dea2c320d4a47]\n",
       "cluster E1--><a href=\"psysml:8aa028f5-1693-4b51-bff2-c94d0f18c930\" target=\"_top\" title=\"psysml:8aa028f5-1693-4b51-bff2-c94d0f18c930\" xlink:actuate=\"onRequest\" xlink:href=\"psysml:8aa028f5-1693-4b51-bff2-c94d0f18c930\" xlink:show=\"new\" xlink:title=\"psysml:8aa028f5-1693-4b51-bff2-c94d0f18c930\" xlink:type=\"simple\"><polygon fill=\"#FFFFFF\" points=\"16,6,158,6,165,28.2969,386,28.2969,386,566,16,566,16,6\" style=\"stroke: #000000; stroke-width: 1.5;\"/><line style=\"stroke: #000000; stroke-width: 1.5;\" x1=\"16\" x2=\"165\" y1=\"28.2969\" y2=\"28.2969\"/><text fill=\"#000000\" font-family=\"sans-serif\" font-size=\"14\" font-weight=\"bold\" lengthAdjust=\"spacingAndGlyphs\" textLength=\"136\" x=\"20\" y=\"20.9951\">RequirementTest</text></a><!--MD5=[b4997ac47864f28c2f74865a473b2911]\n",
       "class E2--><a href=\"psysml:27c2a771-07cf-4bde-9591-6030a1a15742\" target=\"_top\" title=\"psysml:27c2a771-07cf-4bde-9591-6030a1a15742\" xlink:actuate=\"onRequest\" xlink:href=\"psysml:27c2a771-07cf-4bde-9591-6030a1a15742\" xlink:show=\"new\" xlink:title=\"psysml:27c2a771-07cf-4bde-9591-6030a1a15742\" xlink:type=\"simple\"><rect fill=\"#FFFFFF\" height=\"45.9375\" id=\"E2\" style=\"stroke: #383838; stroke-width: 1.5;\" width=\"104\" x=\"266\" y=\"190\"/><text fill=\"#000000\" font-family=\"sans-serif\" font-size=\"12\" font-style=\"italic\" lengthAdjust=\"spacingAndGlyphs\" textLength=\"102\" x=\"267\" y=\"206.1387\">«constraint def»</text><text fill=\"#000000\" font-family=\"sans-serif\" font-size=\"12\" lengthAdjust=\"spacingAndGlyphs\" textLength=\"8\" x=\"314\" y=\"220.1074\">C</text><line style=\"stroke: #383838; stroke-width: 1.5;\" x1=\"267\" x2=\"369\" y1=\"227.9375\" y2=\"227.9375\"/></a><!--MD5=[09b614a08d8cba4a07c9adeb5e0fee81]\n",
       "class E3--><a href=\"psysml:da02b217-f155-4220-a2dc-d840d0d24f86\" target=\"_top\" title=\"psysml:da02b217-f155-4220-a2dc-d840d0d24f86\" xlink:actuate=\"onRequest\" xlink:href=\"psysml:da02b217-f155-4220-a2dc-d840d0d24f86\" xlink:show=\"new\" xlink:title=\"psysml:da02b217-f155-4220-a2dc-d840d0d24f86\" xlink:type=\"simple\"><rect fill=\"#FFFFFF\" height=\"45.9375\" id=\"E3\" rx=\"10\" ry=\"10\" style=\"stroke: #383838; stroke-width: 1.5;\" width=\"80\" x=\"290\" y=\"62\"/><text fill=\"#000000\" font-family=\"sans-serif\" font-size=\"12\" font-style=\"italic\" lengthAdjust=\"spacingAndGlyphs\" textLength=\"78\" x=\"291\" y=\"78.1387\">«constraint»</text><text fill=\"#000000\" font-family=\"sans-serif\" font-size=\"12\" lengthAdjust=\"spacingAndGlyphs\" textLength=\"23\" x=\"318.5\" y=\"92.1074\">c: C</text><line style=\"stroke: #383838; stroke-width: 1.5;\" x1=\"291\" x2=\"369\" y1=\"99.9375\" y2=\"99.9375\"/></a><!--MD5=[ebbe1d658d1005bcc118a6aa81145e00]\n",
       "class E4--><a href=\"psysml:b9a9d178-6ba0-415d-80bd-8d7e5aacf32f\" target=\"_top\" title=\"psysml:b9a9d178-6ba0-415d-80bd-8d7e5aacf32f\" xlink:actuate=\"onRequest\" xlink:href=\"psysml:b9a9d178-6ba0-415d-80bd-8d7e5aacf32f\" xlink:show=\"new\" xlink:title=\"psysml:b9a9d178-6ba0-415d-80bd-8d7e5aacf32f\" xlink:type=\"simple\"><rect fill=\"#FFFFFF\" height=\"109.1563\" id=\"E4\" style=\"stroke: #383838; stroke-width: 1.5;\" width=\"117\" x=\"32.5\" y=\"313\"/><text fill=\"#000000\" font-family=\"sans-serif\" font-size=\"12\" font-style=\"italic\" lengthAdjust=\"spacingAndGlyphs\" textLength=\"115\" x=\"33.5\" y=\"329.1387\">«requirement def»</text><text fill=\"#000000\" font-family=\"sans-serif\" font-size=\"12\" lengthAdjust=\"spacingAndGlyphs\" textLength=\"8\" x=\"87\" y=\"343.1074\">R</text><line style=\"stroke: #383838; stroke-width: 1.5;\" x1=\"33.5\" x2=\"148.5\" y1=\"350.9375\" y2=\"350.9375\"/><text fill=\"#000000\" font-family=\"sans-serif\" font-size=\"11\" lengthAdjust=\"spacingAndGlyphs\" textLength=\"0\" x=\"42.5\" y=\"365.1479\"/><line style=\"stroke: #383838; stroke-width: 1.0;\" x1=\"33.5\" x2=\"148.5\" y1=\"371.7422\" y2=\"371.7422\"/><text fill=\"#000000\" font-family=\"sans-serif\" font-size=\"11\" font-weight=\"bold\" lengthAdjust=\"spacingAndGlyphs\" textLength=\"46\" x=\"38.5\" y=\"402.7573\">require</text><text fill=\"#000000\" font-family=\"sans-serif\" font-size=\"11\" lengthAdjust=\"spacingAndGlyphs\" textLength=\"6\" x=\"88.5\" y=\"402.7573\">c</text><text fill=\"#000000\" font-family=\"sans-serif\" font-size=\"11\" font-style=\"italic\" lengthAdjust=\"spacingAndGlyphs\" textLength=\"46\" x=\"38.5\" y=\"415.562\">assume</text><text fill=\"#000000\" font-family=\"sans-serif\" font-size=\"11\" lengthAdjust=\"spacingAndGlyphs\" textLength=\"29\" x=\"88.5\" y=\"415.562\">c1: C</text><line style=\"stroke: #383838; stroke-width: 1.0;\" x1=\"33.5\" x2=\"59\" y1=\"386.1445\" y2=\"386.1445\"/><text fill=\"#000000\" font-family=\"sans-serif\" font-size=\"11\" lengthAdjust=\"spacingAndGlyphs\" textLength=\"64\" x=\"59\" y=\"389.4526\">constraints</text><line style=\"stroke: #383838; stroke-width: 1.0;\" x1=\"123\" x2=\"148.5\" y1=\"386.1445\" y2=\"386.1445\"/></a><!--MD5=[270fce915f116d4de14055a7c1d9a0f3]\n",
       "class E5--><a href=\"psysml:5c4fbfc6-6feb-457a-9610-da755776e124\" target=\"_top\" title=\"psysml:5c4fbfc6-6feb-457a-9610-da755776e124\" xlink:actuate=\"onRequest\" xlink:href=\"psysml:5c4fbfc6-6feb-457a-9610-da755776e124\" xlink:show=\"new\" xlink:title=\"psysml:5c4fbfc6-6feb-457a-9610-da755776e124\" xlink:type=\"simple\"><rect fill=\"#FFFFFF\" height=\"66.7422\" id=\"E5\" style=\"stroke: #383838; stroke-width: 1.5;\" width=\"117\" x=\"32.5\" y=\"483\"/><text fill=\"#000000\" font-family=\"sans-serif\" font-size=\"12\" font-style=\"italic\" lengthAdjust=\"spacingAndGlyphs\" textLength=\"115\" x=\"33.5\" y=\"499.1387\">«requirement def»</text><text fill=\"#000000\" font-family=\"sans-serif\" font-size=\"12\" lengthAdjust=\"spacingAndGlyphs\" textLength=\"5\" x=\"78\" y=\"513.1074\">[</text><text fill=\"#000000\" font-family=\"sans-serif\" font-size=\"12\" font-weight=\"bold\" lengthAdjust=\"spacingAndGlyphs\" textLength=\"8\" x=\"83\" y=\"513.1074\">1</text><text fill=\"#000000\" font-family=\"sans-serif\" font-size=\"12\" lengthAdjust=\"spacingAndGlyphs\" textLength=\"17\" x=\"91\" y=\"513.1074\">] A</text><line style=\"stroke: #383838; stroke-width: 1.5;\" x1=\"33.5\" x2=\"148.5\" y1=\"520.9375\" y2=\"520.9375\"/><text fill=\"#000000\" font-family=\"sans-serif\" font-size=\"11\" lengthAdjust=\"spacingAndGlyphs\" textLength=\"24\" x=\"38.5\" y=\"535.1479\">Text</text><line style=\"stroke: #383838; stroke-width: 1.0;\" x1=\"33.5\" x2=\"148.5\" y1=\"541.7422\" y2=\"541.7422\"/></a><!--MD5=[b9389687b975829384b498ac4b7476b2]\n",
       "class E8--><a href=\"psysml:577c6bec-7675-4e65-a136-10b226b9020a\" target=\"_top\" title=\"psysml:577c6bec-7675-4e65-a136-10b226b9020a\" xlink:actuate=\"onRequest\" xlink:href=\"psysml:577c6bec-7675-4e65-a136-10b226b9020a\" xlink:show=\"new\" xlink:title=\"psysml:577c6bec-7675-4e65-a136-10b226b9020a\" xlink:type=\"simple\"><rect fill=\"#FFFFFF\" height=\"45.9375\" id=\"E8\" rx=\"10\" ry=\"10\" style=\"stroke: #383838; stroke-width: 1.5;\" width=\"93\" x=\"184.5\" y=\"493.5\"/><text fill=\"#000000\" font-family=\"sans-serif\" font-size=\"12\" font-style=\"italic\" lengthAdjust=\"spacingAndGlyphs\" textLength=\"91\" x=\"185.5\" y=\"509.6387\">«requirement»</text><text fill=\"#000000\" font-family=\"sans-serif\" font-size=\"12\" lengthAdjust=\"spacingAndGlyphs\" text-decoration=\"line-through\" textLength=\"51\" x=\"205.5\" y=\"523.6074\">noname</text><line style=\"stroke: #383838; stroke-width: 1.5;\" x1=\"185.5\" x2=\"276.5\" y1=\"531.4375\" y2=\"531.4375\"/></a><!--MD5=[fd4143e9d270a159db93a4ea2a975926]\n",
       "class E9--><a href=\"psysml:291c6c45-8332-45a6-809f-574961a49898\" target=\"_top\" title=\"psysml:291c6c45-8332-45a6-809f-574961a49898\" xlink:actuate=\"onRequest\" xlink:href=\"psysml:291c6c45-8332-45a6-809f-574961a49898\" xlink:show=\"new\" xlink:title=\"psysml:291c6c45-8332-45a6-809f-574961a49898\" xlink:type=\"simple\"><rect fill=\"#FFFFFF\" height=\"88.3516\" id=\"E9\" style=\"stroke: #383838; stroke-width: 1.5;\" width=\"145\" x=\"109.5\" y=\"41\"/><text fill=\"#000000\" font-family=\"sans-serif\" font-size=\"12\" font-style=\"italic\" lengthAdjust=\"spacingAndGlyphs\" textLength=\"115\" x=\"124.5\" y=\"57.1387\">«requirement def»</text><text fill=\"#000000\" font-family=\"sans-serif\" font-size=\"12\" lengthAdjust=\"spacingAndGlyphs\" textLength=\"16\" x=\"174\" y=\"71.1074\">R1</text><line style=\"stroke: #383838; stroke-width: 1.5;\" x1=\"110.5\" x2=\"253.5\" y1=\"78.9375\" y2=\"78.9375\"/><text fill=\"#000000\" font-family=\"sans-serif\" font-size=\"11\" font-weight=\"bold\" lengthAdjust=\"spacingAndGlyphs\" textLength=\"46\" x=\"115.5\" y=\"109.9526\">require</text><text fill=\"#000000\" font-family=\"sans-serif\" font-size=\"11\" lengthAdjust=\"spacingAndGlyphs\" textLength=\"13\" x=\"165.5\" y=\"109.9526\">c1</text><text fill=\"#000000\" font-family=\"sans-serif\" font-size=\"11\" font-style=\"italic\" lengthAdjust=\"spacingAndGlyphs\" textLength=\"133\" x=\"115.5\" y=\"122.7573\">:&gt;&gt;RequirementTest::c</text><line style=\"stroke: #383838; stroke-width: 1.0;\" x1=\"110.5\" x2=\"150\" y1=\"93.3398\" y2=\"93.3398\"/><text fill=\"#000000\" font-family=\"sans-serif\" font-size=\"11\" lengthAdjust=\"spacingAndGlyphs\" textLength=\"64\" x=\"150\" y=\"96.6479\">constraints</text><line style=\"stroke: #383838; stroke-width: 1.0;\" x1=\"214\" x2=\"253.5\" y1=\"93.3398\" y2=\"93.3398\"/></a><!--MD5=[1dd1bfd58a279cf63c5f349dbc8fc6a1]\n",
       "class E11--><a href=\"psysml:b7118396-8822-4234-af4f-531e34fd2b85\" target=\"_top\" title=\"psysml:b7118396-8822-4234-af4f-531e34fd2b85\" xlink:actuate=\"onRequest\" xlink:href=\"psysml:b7118396-8822-4234-af4f-531e34fd2b85\" xlink:show=\"new\" xlink:title=\"psysml:b7118396-8822-4234-af4f-531e34fd2b85\" xlink:type=\"simple\"><rect fill=\"#FFFFFF\" height=\"45.9375\" id=\"E11\" rx=\"10\" ry=\"10\" style=\"stroke: #383838; stroke-width: 1.5;\" width=\"42\" x=\"185\" y=\"344.5\"/><text fill=\"#000000\" font-family=\"sans-serif\" font-size=\"12\" font-style=\"italic\" lengthAdjust=\"spacingAndGlyphs\" textLength=\"40\" x=\"186\" y=\"360.6387\">«part»</text><text fill=\"#000000\" font-family=\"sans-serif\" font-size=\"12\" lengthAdjust=\"spacingAndGlyphs\" textLength=\"8\" x=\"202\" y=\"374.6074\">p</text><line style=\"stroke: #383838; stroke-width: 1.5;\" x1=\"186\" x2=\"226\" y1=\"382.4375\" y2=\"382.4375\"/></a><!--MD5=[49a0ec8f00dab7302a31f22d0f0fe584]\n",
       "class E12--><a href=\"psysml:5710aa92-7822-41e6-89ae-9d2d61cb8bf3\" target=\"_top\" title=\"psysml:5710aa92-7822-41e6-89ae-9d2d61cb8bf3\" xlink:actuate=\"onRequest\" xlink:href=\"psysml:5710aa92-7822-41e6-89ae-9d2d61cb8bf3\" xlink:show=\"new\" xlink:title=\"psysml:5710aa92-7822-41e6-89ae-9d2d61cb8bf3\" xlink:type=\"simple\"><rect fill=\"#FFFFFF\" height=\"45.9375\" id=\"E12\" rx=\"10\" ry=\"10\" style=\"stroke: #383838; stroke-width: 1.5;\" width=\"42\" x=\"32\" y=\"62\"/><text fill=\"#000000\" font-family=\"sans-serif\" font-size=\"12\" font-style=\"italic\" lengthAdjust=\"spacingAndGlyphs\" textLength=\"40\" x=\"33\" y=\"78.1387\">«part»</text><text fill=\"#000000\" font-family=\"sans-serif\" font-size=\"12\" lengthAdjust=\"spacingAndGlyphs\" textLength=\"8\" x=\"49\" y=\"92.1074\">q</text><line style=\"stroke: #383838; stroke-width: 1.5;\" x1=\"33\" x2=\"73\" y1=\"99.9375\" y2=\"99.9375\"/></a><!--MD5=[ee3c913d1a06f366521f9ef512b67efe]\n",
       "class E13--><a href=\"psysml:b72900fb-e3ca-4439-ac22-acb3bf892de5\" target=\"_top\" title=\"psysml:b72900fb-e3ca-4439-ac22-acb3bf892de5\" xlink:actuate=\"onRequest\" xlink:href=\"psysml:b72900fb-e3ca-4439-ac22-acb3bf892de5\" xlink:show=\"new\" xlink:title=\"psysml:b72900fb-e3ca-4439-ac22-acb3bf892de5\" xlink:type=\"simple\"><rect fill=\"#FFFFFF\" height=\"45.9375\" id=\"E13\" rx=\"10\" ry=\"10\" style=\"stroke: #383838; stroke-width: 1.5;\" width=\"93\" x=\"44.5\" y=\"190\"/><text fill=\"#000000\" font-family=\"sans-serif\" font-size=\"12\" font-style=\"italic\" lengthAdjust=\"spacingAndGlyphs\" textLength=\"91\" x=\"45.5\" y=\"206.1387\">«requirement»</text><text fill=\"#000000\" font-family=\"sans-serif\" font-size=\"12\" lengthAdjust=\"spacingAndGlyphs\" textLength=\"21\" x=\"80.5\" y=\"220.1074\">r: R</text><line style=\"stroke: #383838; stroke-width: 1.5;\" x1=\"45.5\" x2=\"136.5\" y1=\"227.9375\" y2=\"227.9375\"/></a><!--MD5=[05d275557350bfb9b23a4ef7222b4c39]\n",
       "link E3 to E2--><a href=\"psysml:8b4534c8-c65f-4721-aa95-1aefa1ee4858\" target=\"_top\" title=\"psysml:8b4534c8-c65f-4721-aa95-1aefa1ee4858\" xlink:actuate=\"onRequest\" xlink:href=\"psysml:8b4534c8-c65f-4721-aa95-1aefa1ee4858\" xlink:show=\"new\" xlink:title=\"psysml:8b4534c8-c65f-4721-aa95-1aefa1ee4858\" xlink:type=\"simple\"><path d=\"M330,108.18 C330,108.18 330,169.99 330,169.99 \" fill=\"none\" id=\"E3-&gt;E2\" style=\"stroke: #383838; stroke-width: 1.0;\"/><polygon fill=\"#FFFFFF\" points=\"330,189.99,323,170.99,337,170.99,330,189.99\" style=\"stroke: #383838; stroke-width: 1.0;\"/><ellipse cx=\"325\" cy=\"165.29\" fill=\"#383838\" rx=\"2\" ry=\"2\" style=\"stroke: #383838; stroke-width: 1.0;\"/><ellipse cx=\"335\" cy=\"165.29\" fill=\"#383838\" rx=\"2\" ry=\"2\" style=\"stroke: #383838; stroke-width: 1.0;\"/></a><!--MD5=[62aa6af11e70f752912c1cb0466f24f7]\n",
       "reverse link E4 to E5--><a href=\"psysml:5c4fbfc6-6feb-457a-9610-da755776e124\" target=\"_top\" title=\"psysml:5c4fbfc6-6feb-457a-9610-da755776e124\" xlink:actuate=\"onRequest\" xlink:href=\"psysml:5c4fbfc6-6feb-457a-9610-da755776e124\" xlink:show=\"new\" xlink:title=\"psysml:5c4fbfc6-6feb-457a-9610-da755776e124\" xlink:type=\"simple\"><path d=\"M91,437.14 C91,437.14 91,482.66 91,482.66 \" fill=\"none\" id=\"E4&lt;-E5\" style=\"stroke: #383838; stroke-width: 1.0;\"/><ellipse cx=\"91\" cy=\"430.14\" fill=\"#FFFFFF\" rx=\"8\" ry=\"8\" style=\"stroke: #383838; stroke-width: 1.0;\"/><line style=\"stroke: #383838; stroke-width: 1.0;\" x1=\"91\" x2=\"91\" y1=\"438.14\" y2=\"422.14\"/><line style=\"stroke: #383838; stroke-width: 1.0;\" x1=\"83\" x2=\"99\" y1=\"430.14\" y2=\"430.14\"/></a><!--MD5=[c6fc7cdb0cabde04948078cf183fa696]\n",
       "reverse link E4 to E8--><a href=\"psysml:577c6bec-7675-4e65-a136-10b226b9020a\" target=\"_top\" title=\"psysml:577c6bec-7675-4e65-a136-10b226b9020a\" xlink:actuate=\"onRequest\" xlink:href=\"psysml:577c6bec-7675-4e65-a136-10b226b9020a\" xlink:show=\"new\" xlink:title=\"psysml:577c6bec-7675-4e65-a136-10b226b9020a\" xlink:type=\"simple\"><path d=\"M162.51,407 C162.51,407 206,407 206,407 C206,407 206,461.14 206,493.28 \" fill=\"none\" id=\"E4&lt;-E8\" style=\"stroke: #383838; stroke-width: 1.0;\"/><polygon fill=\"#383838\" points=\"149.51,407,155.51,411,161.51,407,155.51,403,149.51,407\" style=\"stroke: #383838; stroke-width: 1.0;\"/></a><!--MD5=[062ed86c389d1a88f61c6380d0491e17]\n",
       "reverse link E12 to E13--><a href=\"psysml:b72900fb-e3ca-4439-ac22-acb3bf892de5\" target=\"_top\" title=\"psysml:b72900fb-e3ca-4439-ac22-acb3bf892de5\" xlink:actuate=\"onRequest\" xlink:href=\"psysml:b72900fb-e3ca-4439-ac22-acb3bf892de5\" xlink:show=\"new\" xlink:title=\"psysml:b72900fb-e3ca-4439-ac22-acb3bf892de5\" xlink:type=\"simple\"><path d=\"M59.25,121.18 C59.25,121.18 59.25,189.99 59.25,189.99 \" fill=\"none\" id=\"E12&lt;-E13\" style=\"stroke: #383838; stroke-width: 1.0;\"/><polygon fill=\"#383838\" points=\"59.25,108.18,55.25,114.18,59.25,120.18,63.25,114.18,59.25,108.18\" style=\"stroke: #383838; stroke-width: 1.0;\"/></a><!--MD5=[017847e01ff9a8bd19f247411074f987]\n",
       "link E13 to E4--><a href=\"psysml:ed6e641a-605b-4ed9-9064-d41509e7ab16\" target=\"_top\" title=\"psysml:ed6e641a-605b-4ed9-9064-d41509e7ab16\" xlink:actuate=\"onRequest\" xlink:href=\"psysml:ed6e641a-605b-4ed9-9064-d41509e7ab16\" xlink:show=\"new\" xlink:title=\"psysml:ed6e641a-605b-4ed9-9064-d41509e7ab16\" xlink:type=\"simple\"><path d=\"M91,236.13 C91,236.13 91,292.77 91,292.77 \" fill=\"none\" id=\"E13-&gt;E4\" style=\"stroke: #383838; stroke-width: 1.0;\"/><polygon fill=\"#FFFFFF\" points=\"91,312.77,84,293.77,98,293.77,91,312.77\" style=\"stroke: #383838; stroke-width: 1.0;\"/><ellipse cx=\"86\" cy=\"288.07\" fill=\"#383838\" rx=\"2\" ry=\"2\" style=\"stroke: #383838; stroke-width: 1.0;\"/><ellipse cx=\"96\" cy=\"288.07\" fill=\"#383838\" rx=\"2\" ry=\"2\" style=\"stroke: #383838; stroke-width: 1.0;\"/></a><!--MD5=[2cfe899c895462254056921bfb67315f]\n",
       "link E13 to E11--><a href=\"psysml:11f1a2a5-a4e7-4875-8b16-7052fd317758\" target=\"_top\" title=\"psysml:11f1a2a5-a4e7-4875-8b16-7052fd317758\" xlink:actuate=\"onRequest\" xlink:href=\"psysml:11f1a2a5-a4e7-4875-8b16-7052fd317758\" xlink:show=\"new\" xlink:title=\"psysml:11f1a2a5-a4e7-4875-8b16-7052fd317758\" xlink:type=\"simple\"><path d=\"M137.77,213 C169.61,213 206,213 206,213 C206,213 206,339.37 206,339.37 \" fill=\"none\" id=\"E13-&gt;E11\" style=\"stroke: #383838; stroke-width: 1.0; stroke-dasharray: 7.0,7.0;\"/><polygon fill=\"#383838\" points=\"206,344.37,210,335.37,206,339.37,202,335.37,206,344.37\" style=\"stroke: #383838; stroke-width: 1.0;\"/><text fill=\"#000000\" font-family=\"sans-serif\" font-size=\"13\" lengthAdjust=\"spacingAndGlyphs\" textLength=\"57\" x=\"170\" y=\"279.0669\">«satisfy»</text></a><!--MD5=[82ceaf7071a2b1cf31fcb4de6b1ff12c]\n",
       "@startuml\r\n",
       "skinparam linetype ortho\r\n",
       "skinparam monochrome true\r\n",
       "skinparam classbackgroundcolor white\r\n",
       "skinparam shadowing false\r\n",
       "skinparam wrapWidth 300\r\n",
       "hide circle\r\n",
       "\r\n",
       "package \"RequirementTest\" as E1  [[psysml:8aa028f5-1693-4b51-bff2-c94d0f18c930 ]]  {\r\n",
       "comp def \"C\" as E2  <<(T,blue)constraint def>> [[psysml:27c2a771-07cf-4bde-9591-6030a1a15742 ]] {\r\n",
       "}\r\n",
       "comp usage \"c: C\" as E3  <<(T,blue)constraint>> [[psysml:da02b217-f155-4220-a2dc-d840d0d24f86 ]] {\r\n",
       "}\r\n",
       "comp def \"R\" as E4  <<(T,blue)requirement def>> [[psysml:b9a9d178-6ba0-415d-80bd-8d7e5aacf32f ]] {\r\n",
       "\r\n",
       "- -\r\n",
       "- - constraints - -\r\n",
       "<b>require</b> c\r\n",
       "<i>assume</i> c1: C\r\n",
       "}\r\n",
       "comp def \" [<b>1</b>] A\" as E5  <<(T,blue)requirement def>> [[psysml:5c4fbfc6-6feb-457a-9610-da755776e124 ]] {\r\n",
       "Text\r\n",
       "- -\r\n",
       "}\r\n",
       "comp usage \"<s>noname</s>\" as E8  <<(T,blue)requirement>> [[psysml:577c6bec-7675-4e65-a136-10b226b9020a ]] {\r\n",
       "}\r\n",
       "comp def \"R1\" as E9  <<(T,blue)requirement def>> [[psysml:291c6c45-8332-45a6-809f-574961a49898 ]] {\r\n",
       "- - constraints - -\r\n",
       "<b>require</b> c1\\n//:>>RequirementTest::c// \r\n",
       "}\r\n",
       "comp usage \"p\" as E11  <<(T,blue)part>> [[psysml:b7118396-8822-4234-af4f-531e34fd2b85 ]] {\r\n",
       "}\r\n",
       "comp usage \"q\" as E12  <<(T,blue)part>> [[psysml:5710aa92-7822-41e6-89ae-9d2d61cb8bf3 ]] {\r\n",
       "}\r\n",
       "comp usage \"r: R\" as E13  <<(T,blue)requirement>> [[psysml:b72900fb-e3ca-4439-ac22-acb3bf892de5 ]] {\r\n",
       "}\r\n",
       "E3 - -:|> E2 [[psysml:8b4534c8-c65f-4721-aa95-1aefa1ee4858 ]] \r\n",
       "E4 +- - E5 [[psysml:5c4fbfc6-6feb-457a-9610-da755776e124 ]] \r\n",
       "E4 *- - E8 [[psysml:577c6bec-7675-4e65-a136-10b226b9020a ]] \r\n",
       "E12 *- - E13 [[psysml:b72900fb-e3ca-4439-ac22-acb3bf892de5 ]] \r\n",
       "E13 - -:|> E4 [[psysml:ed6e641a-605b-4ed9-9064-d41509e7ab16 ]] \r\n",
       "E13 ..> E11 [[psysml:11f1a2a5-a4e7-4875-8b16-7052fd317758 ]] : <<satisfy>>\r\n",
       "}\r\n",
       "@enduml\r\n",
       "\n",
       "PlantUML version 1.2020.13(Sat Jun 13 12:26:38 UTC 2020)\n",
       "(EPL source distribution)\n",
       "Java Runtime: OpenJDK Runtime Environment\n",
       "JVM: OpenJDK 64-Bit Server VM\n",
       "Default Encoding: UTF-8\n",
       "Language: en\n",
       "Country: null\n",
       "--></g></svg>"
      ]
     },
     "execution_count": 56,
     "metadata": {},
     "output_type": "execute_result"
    }
   ],
   "source": [
    "%viz --style=\"ORTHOLINE\" --view=\"Sequence\" \"RequirementTest\""
   ]
  },
  {
   "cell_type": "code",
   "execution_count": 57,
   "id": "decent-hypothesis",
   "metadata": {
    "execution": {
     "iopub.execute_input": "2021-03-26T09:12:31.969654Z",
     "iopub.status.busy": "2021-03-26T09:12:31.969254Z",
     "iopub.status.idle": "2021-03-26T09:12:32.046311Z",
     "shell.execute_reply": "2021-03-26T09:12:32.045051Z"
    }
   },
   "outputs": [
    {
     "data": {
      "image/svg+xml": [
       "<?xml version=\"1.0\" encoding=\"UTF-8\" standalone=\"no\"?><svg xmlns=\"http://www.w3.org/2000/svg\" xmlns:xlink=\"http://www.w3.org/1999/xlink\" contentScriptType=\"application/ecmascript\" contentStyleType=\"text/css\" height=\"578px\" preserveAspectRatio=\"none\" style=\"width:408px;height:578px;\" version=\"1.1\" viewBox=\"0 0 408 578\" width=\"408px\" zoomAndPan=\"magnify\"><defs/><g><!--MD5=[fbc87193dbaf4d95561dea2c320d4a47]\n",
       "cluster E1--><a href=\"psysml:8aa028f5-1693-4b51-bff2-c94d0f18c930\" target=\"_top\" title=\"psysml:8aa028f5-1693-4b51-bff2-c94d0f18c930\" xlink:actuate=\"onRequest\" xlink:href=\"psysml:8aa028f5-1693-4b51-bff2-c94d0f18c930\" xlink:show=\"new\" xlink:title=\"psysml:8aa028f5-1693-4b51-bff2-c94d0f18c930\" xlink:type=\"simple\"><polygon fill=\"#FFFFFF\" points=\"16,6,158,6,165,28.2969,386,28.2969,386,566,16,566,16,6\" style=\"stroke: #000000; stroke-width: 1.5;\"/><line style=\"stroke: #000000; stroke-width: 1.5;\" x1=\"16\" x2=\"165\" y1=\"28.2969\" y2=\"28.2969\"/><text fill=\"#000000\" font-family=\"sans-serif\" font-size=\"14\" font-weight=\"bold\" lengthAdjust=\"spacingAndGlyphs\" textLength=\"136\" x=\"20\" y=\"20.9951\">RequirementTest</text></a><!--MD5=[b4997ac47864f28c2f74865a473b2911]\n",
       "class E2--><a href=\"psysml:27c2a771-07cf-4bde-9591-6030a1a15742\" target=\"_top\" title=\"psysml:27c2a771-07cf-4bde-9591-6030a1a15742\" xlink:actuate=\"onRequest\" xlink:href=\"psysml:27c2a771-07cf-4bde-9591-6030a1a15742\" xlink:show=\"new\" xlink:title=\"psysml:27c2a771-07cf-4bde-9591-6030a1a15742\" xlink:type=\"simple\"><rect fill=\"#FFFFFF\" height=\"45.9375\" id=\"E2\" style=\"stroke: #383838; stroke-width: 1.5;\" width=\"104\" x=\"266\" y=\"190\"/><text fill=\"#000000\" font-family=\"sans-serif\" font-size=\"12\" font-style=\"italic\" lengthAdjust=\"spacingAndGlyphs\" textLength=\"102\" x=\"267\" y=\"206.1387\">«constraint def»</text><text fill=\"#000000\" font-family=\"sans-serif\" font-size=\"12\" lengthAdjust=\"spacingAndGlyphs\" textLength=\"8\" x=\"314\" y=\"220.1074\">C</text><line style=\"stroke: #383838; stroke-width: 1.5;\" x1=\"267\" x2=\"369\" y1=\"227.9375\" y2=\"227.9375\"/></a><!--MD5=[09b614a08d8cba4a07c9adeb5e0fee81]\n",
       "class E3--><a href=\"psysml:da02b217-f155-4220-a2dc-d840d0d24f86\" target=\"_top\" title=\"psysml:da02b217-f155-4220-a2dc-d840d0d24f86\" xlink:actuate=\"onRequest\" xlink:href=\"psysml:da02b217-f155-4220-a2dc-d840d0d24f86\" xlink:show=\"new\" xlink:title=\"psysml:da02b217-f155-4220-a2dc-d840d0d24f86\" xlink:type=\"simple\"><rect fill=\"#FFFFFF\" height=\"45.9375\" id=\"E3\" rx=\"10\" ry=\"10\" style=\"stroke: #383838; stroke-width: 1.5;\" width=\"80\" x=\"290\" y=\"62\"/><text fill=\"#000000\" font-family=\"sans-serif\" font-size=\"12\" font-style=\"italic\" lengthAdjust=\"spacingAndGlyphs\" textLength=\"78\" x=\"291\" y=\"78.1387\">«constraint»</text><text fill=\"#000000\" font-family=\"sans-serif\" font-size=\"12\" lengthAdjust=\"spacingAndGlyphs\" textLength=\"23\" x=\"318.5\" y=\"92.1074\">c: C</text><line style=\"stroke: #383838; stroke-width: 1.5;\" x1=\"291\" x2=\"369\" y1=\"99.9375\" y2=\"99.9375\"/></a><!--MD5=[ebbe1d658d1005bcc118a6aa81145e00]\n",
       "class E4--><a href=\"psysml:b9a9d178-6ba0-415d-80bd-8d7e5aacf32f\" target=\"_top\" title=\"psysml:b9a9d178-6ba0-415d-80bd-8d7e5aacf32f\" xlink:actuate=\"onRequest\" xlink:href=\"psysml:b9a9d178-6ba0-415d-80bd-8d7e5aacf32f\" xlink:show=\"new\" xlink:title=\"psysml:b9a9d178-6ba0-415d-80bd-8d7e5aacf32f\" xlink:type=\"simple\"><rect fill=\"#FFFFFF\" height=\"109.1563\" id=\"E4\" style=\"stroke: #383838; stroke-width: 1.5;\" width=\"117\" x=\"32.5\" y=\"313\"/><text fill=\"#000000\" font-family=\"sans-serif\" font-size=\"12\" font-style=\"italic\" lengthAdjust=\"spacingAndGlyphs\" textLength=\"115\" x=\"33.5\" y=\"329.1387\">«requirement def»</text><text fill=\"#000000\" font-family=\"sans-serif\" font-size=\"12\" lengthAdjust=\"spacingAndGlyphs\" textLength=\"8\" x=\"87\" y=\"343.1074\">R</text><line style=\"stroke: #383838; stroke-width: 1.5;\" x1=\"33.5\" x2=\"148.5\" y1=\"350.9375\" y2=\"350.9375\"/><text fill=\"#000000\" font-family=\"sans-serif\" font-size=\"11\" lengthAdjust=\"spacingAndGlyphs\" textLength=\"0\" x=\"42.5\" y=\"365.1479\"/><line style=\"stroke: #383838; stroke-width: 1.0;\" x1=\"33.5\" x2=\"148.5\" y1=\"371.7422\" y2=\"371.7422\"/><text fill=\"#000000\" font-family=\"sans-serif\" font-size=\"11\" font-weight=\"bold\" lengthAdjust=\"spacingAndGlyphs\" textLength=\"46\" x=\"38.5\" y=\"402.7573\">require</text><text fill=\"#000000\" font-family=\"sans-serif\" font-size=\"11\" lengthAdjust=\"spacingAndGlyphs\" textLength=\"6\" x=\"88.5\" y=\"402.7573\">c</text><text fill=\"#000000\" font-family=\"sans-serif\" font-size=\"11\" font-style=\"italic\" lengthAdjust=\"spacingAndGlyphs\" textLength=\"46\" x=\"38.5\" y=\"415.562\">assume</text><text fill=\"#000000\" font-family=\"sans-serif\" font-size=\"11\" lengthAdjust=\"spacingAndGlyphs\" textLength=\"29\" x=\"88.5\" y=\"415.562\">c1: C</text><line style=\"stroke: #383838; stroke-width: 1.0;\" x1=\"33.5\" x2=\"59\" y1=\"386.1445\" y2=\"386.1445\"/><text fill=\"#000000\" font-family=\"sans-serif\" font-size=\"11\" lengthAdjust=\"spacingAndGlyphs\" textLength=\"64\" x=\"59\" y=\"389.4526\">constraints</text><line style=\"stroke: #383838; stroke-width: 1.0;\" x1=\"123\" x2=\"148.5\" y1=\"386.1445\" y2=\"386.1445\"/></a><!--MD5=[270fce915f116d4de14055a7c1d9a0f3]\n",
       "class E5--><a href=\"psysml:5c4fbfc6-6feb-457a-9610-da755776e124\" target=\"_top\" title=\"psysml:5c4fbfc6-6feb-457a-9610-da755776e124\" xlink:actuate=\"onRequest\" xlink:href=\"psysml:5c4fbfc6-6feb-457a-9610-da755776e124\" xlink:show=\"new\" xlink:title=\"psysml:5c4fbfc6-6feb-457a-9610-da755776e124\" xlink:type=\"simple\"><rect fill=\"#FFFFFF\" height=\"66.7422\" id=\"E5\" style=\"stroke: #383838; stroke-width: 1.5;\" width=\"117\" x=\"32.5\" y=\"483\"/><text fill=\"#000000\" font-family=\"sans-serif\" font-size=\"12\" font-style=\"italic\" lengthAdjust=\"spacingAndGlyphs\" textLength=\"115\" x=\"33.5\" y=\"499.1387\">«requirement def»</text><text fill=\"#000000\" font-family=\"sans-serif\" font-size=\"12\" lengthAdjust=\"spacingAndGlyphs\" textLength=\"5\" x=\"78\" y=\"513.1074\">[</text><text fill=\"#000000\" font-family=\"sans-serif\" font-size=\"12\" font-weight=\"bold\" lengthAdjust=\"spacingAndGlyphs\" textLength=\"8\" x=\"83\" y=\"513.1074\">1</text><text fill=\"#000000\" font-family=\"sans-serif\" font-size=\"12\" lengthAdjust=\"spacingAndGlyphs\" textLength=\"17\" x=\"91\" y=\"513.1074\">] A</text><line style=\"stroke: #383838; stroke-width: 1.5;\" x1=\"33.5\" x2=\"148.5\" y1=\"520.9375\" y2=\"520.9375\"/><text fill=\"#000000\" font-family=\"sans-serif\" font-size=\"11\" lengthAdjust=\"spacingAndGlyphs\" textLength=\"24\" x=\"38.5\" y=\"535.1479\">Text</text><line style=\"stroke: #383838; stroke-width: 1.0;\" x1=\"33.5\" x2=\"148.5\" y1=\"541.7422\" y2=\"541.7422\"/></a><!--MD5=[b9389687b975829384b498ac4b7476b2]\n",
       "class E8--><a href=\"psysml:577c6bec-7675-4e65-a136-10b226b9020a\" target=\"_top\" title=\"psysml:577c6bec-7675-4e65-a136-10b226b9020a\" xlink:actuate=\"onRequest\" xlink:href=\"psysml:577c6bec-7675-4e65-a136-10b226b9020a\" xlink:show=\"new\" xlink:title=\"psysml:577c6bec-7675-4e65-a136-10b226b9020a\" xlink:type=\"simple\"><rect fill=\"#FFFFFF\" height=\"45.9375\" id=\"E8\" rx=\"10\" ry=\"10\" style=\"stroke: #383838; stroke-width: 1.5;\" width=\"93\" x=\"184.5\" y=\"493.5\"/><text fill=\"#000000\" font-family=\"sans-serif\" font-size=\"12\" font-style=\"italic\" lengthAdjust=\"spacingAndGlyphs\" textLength=\"91\" x=\"185.5\" y=\"509.6387\">«requirement»</text><text fill=\"#000000\" font-family=\"sans-serif\" font-size=\"12\" lengthAdjust=\"spacingAndGlyphs\" text-decoration=\"line-through\" textLength=\"51\" x=\"205.5\" y=\"523.6074\">noname</text><line style=\"stroke: #383838; stroke-width: 1.5;\" x1=\"185.5\" x2=\"276.5\" y1=\"531.4375\" y2=\"531.4375\"/></a><!--MD5=[fd4143e9d270a159db93a4ea2a975926]\n",
       "class E9--><a href=\"psysml:291c6c45-8332-45a6-809f-574961a49898\" target=\"_top\" title=\"psysml:291c6c45-8332-45a6-809f-574961a49898\" xlink:actuate=\"onRequest\" xlink:href=\"psysml:291c6c45-8332-45a6-809f-574961a49898\" xlink:show=\"new\" xlink:title=\"psysml:291c6c45-8332-45a6-809f-574961a49898\" xlink:type=\"simple\"><rect fill=\"#FFFFFF\" height=\"88.3516\" id=\"E9\" style=\"stroke: #383838; stroke-width: 1.5;\" width=\"145\" x=\"109.5\" y=\"41\"/><text fill=\"#000000\" font-family=\"sans-serif\" font-size=\"12\" font-style=\"italic\" lengthAdjust=\"spacingAndGlyphs\" textLength=\"115\" x=\"124.5\" y=\"57.1387\">«requirement def»</text><text fill=\"#000000\" font-family=\"sans-serif\" font-size=\"12\" lengthAdjust=\"spacingAndGlyphs\" textLength=\"16\" x=\"174\" y=\"71.1074\">R1</text><line style=\"stroke: #383838; stroke-width: 1.5;\" x1=\"110.5\" x2=\"253.5\" y1=\"78.9375\" y2=\"78.9375\"/><text fill=\"#000000\" font-family=\"sans-serif\" font-size=\"11\" font-weight=\"bold\" lengthAdjust=\"spacingAndGlyphs\" textLength=\"46\" x=\"115.5\" y=\"109.9526\">require</text><text fill=\"#000000\" font-family=\"sans-serif\" font-size=\"11\" lengthAdjust=\"spacingAndGlyphs\" textLength=\"13\" x=\"165.5\" y=\"109.9526\">c1</text><text fill=\"#000000\" font-family=\"sans-serif\" font-size=\"11\" font-style=\"italic\" lengthAdjust=\"spacingAndGlyphs\" textLength=\"133\" x=\"115.5\" y=\"122.7573\">:&gt;&gt;RequirementTest::c</text><line style=\"stroke: #383838; stroke-width: 1.0;\" x1=\"110.5\" x2=\"150\" y1=\"93.3398\" y2=\"93.3398\"/><text fill=\"#000000\" font-family=\"sans-serif\" font-size=\"11\" lengthAdjust=\"spacingAndGlyphs\" textLength=\"64\" x=\"150\" y=\"96.6479\">constraints</text><line style=\"stroke: #383838; stroke-width: 1.0;\" x1=\"214\" x2=\"253.5\" y1=\"93.3398\" y2=\"93.3398\"/></a><!--MD5=[1dd1bfd58a279cf63c5f349dbc8fc6a1]\n",
       "class E11--><a href=\"psysml:b7118396-8822-4234-af4f-531e34fd2b85\" target=\"_top\" title=\"psysml:b7118396-8822-4234-af4f-531e34fd2b85\" xlink:actuate=\"onRequest\" xlink:href=\"psysml:b7118396-8822-4234-af4f-531e34fd2b85\" xlink:show=\"new\" xlink:title=\"psysml:b7118396-8822-4234-af4f-531e34fd2b85\" xlink:type=\"simple\"><rect fill=\"#FFFFFF\" height=\"45.9375\" id=\"E11\" rx=\"10\" ry=\"10\" style=\"stroke: #383838; stroke-width: 1.5;\" width=\"42\" x=\"185\" y=\"344.5\"/><text fill=\"#000000\" font-family=\"sans-serif\" font-size=\"12\" font-style=\"italic\" lengthAdjust=\"spacingAndGlyphs\" textLength=\"40\" x=\"186\" y=\"360.6387\">«part»</text><text fill=\"#000000\" font-family=\"sans-serif\" font-size=\"12\" lengthAdjust=\"spacingAndGlyphs\" textLength=\"8\" x=\"202\" y=\"374.6074\">p</text><line style=\"stroke: #383838; stroke-width: 1.5;\" x1=\"186\" x2=\"226\" y1=\"382.4375\" y2=\"382.4375\"/></a><!--MD5=[49a0ec8f00dab7302a31f22d0f0fe584]\n",
       "class E12--><a href=\"psysml:5710aa92-7822-41e6-89ae-9d2d61cb8bf3\" target=\"_top\" title=\"psysml:5710aa92-7822-41e6-89ae-9d2d61cb8bf3\" xlink:actuate=\"onRequest\" xlink:href=\"psysml:5710aa92-7822-41e6-89ae-9d2d61cb8bf3\" xlink:show=\"new\" xlink:title=\"psysml:5710aa92-7822-41e6-89ae-9d2d61cb8bf3\" xlink:type=\"simple\"><rect fill=\"#FFFFFF\" height=\"45.9375\" id=\"E12\" rx=\"10\" ry=\"10\" style=\"stroke: #383838; stroke-width: 1.5;\" width=\"42\" x=\"32\" y=\"62\"/><text fill=\"#000000\" font-family=\"sans-serif\" font-size=\"12\" font-style=\"italic\" lengthAdjust=\"spacingAndGlyphs\" textLength=\"40\" x=\"33\" y=\"78.1387\">«part»</text><text fill=\"#000000\" font-family=\"sans-serif\" font-size=\"12\" lengthAdjust=\"spacingAndGlyphs\" textLength=\"8\" x=\"49\" y=\"92.1074\">q</text><line style=\"stroke: #383838; stroke-width: 1.5;\" x1=\"33\" x2=\"73\" y1=\"99.9375\" y2=\"99.9375\"/></a><!--MD5=[ee3c913d1a06f366521f9ef512b67efe]\n",
       "class E13--><a href=\"psysml:b72900fb-e3ca-4439-ac22-acb3bf892de5\" target=\"_top\" title=\"psysml:b72900fb-e3ca-4439-ac22-acb3bf892de5\" xlink:actuate=\"onRequest\" xlink:href=\"psysml:b72900fb-e3ca-4439-ac22-acb3bf892de5\" xlink:show=\"new\" xlink:title=\"psysml:b72900fb-e3ca-4439-ac22-acb3bf892de5\" xlink:type=\"simple\"><rect fill=\"#FFFFFF\" height=\"45.9375\" id=\"E13\" rx=\"10\" ry=\"10\" style=\"stroke: #383838; stroke-width: 1.5;\" width=\"93\" x=\"44.5\" y=\"190\"/><text fill=\"#000000\" font-family=\"sans-serif\" font-size=\"12\" font-style=\"italic\" lengthAdjust=\"spacingAndGlyphs\" textLength=\"91\" x=\"45.5\" y=\"206.1387\">«requirement»</text><text fill=\"#000000\" font-family=\"sans-serif\" font-size=\"12\" lengthAdjust=\"spacingAndGlyphs\" textLength=\"21\" x=\"80.5\" y=\"220.1074\">r: R</text><line style=\"stroke: #383838; stroke-width: 1.5;\" x1=\"45.5\" x2=\"136.5\" y1=\"227.9375\" y2=\"227.9375\"/></a><!--MD5=[05d275557350bfb9b23a4ef7222b4c39]\n",
       "link E3 to E2--><a href=\"psysml:8b4534c8-c65f-4721-aa95-1aefa1ee4858\" target=\"_top\" title=\"psysml:8b4534c8-c65f-4721-aa95-1aefa1ee4858\" xlink:actuate=\"onRequest\" xlink:href=\"psysml:8b4534c8-c65f-4721-aa95-1aefa1ee4858\" xlink:show=\"new\" xlink:title=\"psysml:8b4534c8-c65f-4721-aa95-1aefa1ee4858\" xlink:type=\"simple\"><path d=\"M330,108.18 C330,108.18 330,169.99 330,169.99 \" fill=\"none\" id=\"E3-&gt;E2\" style=\"stroke: #383838; stroke-width: 1.0;\"/><polygon fill=\"#FFFFFF\" points=\"330,189.99,323,170.99,337,170.99,330,189.99\" style=\"stroke: #383838; stroke-width: 1.0;\"/><ellipse cx=\"325\" cy=\"165.29\" fill=\"#383838\" rx=\"2\" ry=\"2\" style=\"stroke: #383838; stroke-width: 1.0;\"/><ellipse cx=\"335\" cy=\"165.29\" fill=\"#383838\" rx=\"2\" ry=\"2\" style=\"stroke: #383838; stroke-width: 1.0;\"/></a><!--MD5=[62aa6af11e70f752912c1cb0466f24f7]\n",
       "reverse link E4 to E5--><a href=\"psysml:5c4fbfc6-6feb-457a-9610-da755776e124\" target=\"_top\" title=\"psysml:5c4fbfc6-6feb-457a-9610-da755776e124\" xlink:actuate=\"onRequest\" xlink:href=\"psysml:5c4fbfc6-6feb-457a-9610-da755776e124\" xlink:show=\"new\" xlink:title=\"psysml:5c4fbfc6-6feb-457a-9610-da755776e124\" xlink:type=\"simple\"><path d=\"M91,437.14 C91,437.14 91,482.66 91,482.66 \" fill=\"none\" id=\"E4&lt;-E5\" style=\"stroke: #383838; stroke-width: 1.0;\"/><ellipse cx=\"91\" cy=\"430.14\" fill=\"#FFFFFF\" rx=\"8\" ry=\"8\" style=\"stroke: #383838; stroke-width: 1.0;\"/><line style=\"stroke: #383838; stroke-width: 1.0;\" x1=\"91\" x2=\"91\" y1=\"438.14\" y2=\"422.14\"/><line style=\"stroke: #383838; stroke-width: 1.0;\" x1=\"83\" x2=\"99\" y1=\"430.14\" y2=\"430.14\"/></a><!--MD5=[c6fc7cdb0cabde04948078cf183fa696]\n",
       "reverse link E4 to E8--><a href=\"psysml:577c6bec-7675-4e65-a136-10b226b9020a\" target=\"_top\" title=\"psysml:577c6bec-7675-4e65-a136-10b226b9020a\" xlink:actuate=\"onRequest\" xlink:href=\"psysml:577c6bec-7675-4e65-a136-10b226b9020a\" xlink:show=\"new\" xlink:title=\"psysml:577c6bec-7675-4e65-a136-10b226b9020a\" xlink:type=\"simple\"><path d=\"M162.51,407 C162.51,407 206,407 206,407 C206,407 206,461.14 206,493.28 \" fill=\"none\" id=\"E4&lt;-E8\" style=\"stroke: #383838; stroke-width: 1.0;\"/><polygon fill=\"#383838\" points=\"149.51,407,155.51,411,161.51,407,155.51,403,149.51,407\" style=\"stroke: #383838; stroke-width: 1.0;\"/></a><!--MD5=[062ed86c389d1a88f61c6380d0491e17]\n",
       "reverse link E12 to E13--><a href=\"psysml:b72900fb-e3ca-4439-ac22-acb3bf892de5\" target=\"_top\" title=\"psysml:b72900fb-e3ca-4439-ac22-acb3bf892de5\" xlink:actuate=\"onRequest\" xlink:href=\"psysml:b72900fb-e3ca-4439-ac22-acb3bf892de5\" xlink:show=\"new\" xlink:title=\"psysml:b72900fb-e3ca-4439-ac22-acb3bf892de5\" xlink:type=\"simple\"><path d=\"M59.25,121.18 C59.25,121.18 59.25,189.99 59.25,189.99 \" fill=\"none\" id=\"E12&lt;-E13\" style=\"stroke: #383838; stroke-width: 1.0;\"/><polygon fill=\"#383838\" points=\"59.25,108.18,55.25,114.18,59.25,120.18,63.25,114.18,59.25,108.18\" style=\"stroke: #383838; stroke-width: 1.0;\"/></a><!--MD5=[017847e01ff9a8bd19f247411074f987]\n",
       "link E13 to E4--><a href=\"psysml:ed6e641a-605b-4ed9-9064-d41509e7ab16\" target=\"_top\" title=\"psysml:ed6e641a-605b-4ed9-9064-d41509e7ab16\" xlink:actuate=\"onRequest\" xlink:href=\"psysml:ed6e641a-605b-4ed9-9064-d41509e7ab16\" xlink:show=\"new\" xlink:title=\"psysml:ed6e641a-605b-4ed9-9064-d41509e7ab16\" xlink:type=\"simple\"><path d=\"M91,236.13 C91,236.13 91,292.77 91,292.77 \" fill=\"none\" id=\"E13-&gt;E4\" style=\"stroke: #383838; stroke-width: 1.0;\"/><polygon fill=\"#FFFFFF\" points=\"91,312.77,84,293.77,98,293.77,91,312.77\" style=\"stroke: #383838; stroke-width: 1.0;\"/><ellipse cx=\"86\" cy=\"288.07\" fill=\"#383838\" rx=\"2\" ry=\"2\" style=\"stroke: #383838; stroke-width: 1.0;\"/><ellipse cx=\"96\" cy=\"288.07\" fill=\"#383838\" rx=\"2\" ry=\"2\" style=\"stroke: #383838; stroke-width: 1.0;\"/></a><!--MD5=[2cfe899c895462254056921bfb67315f]\n",
       "link E13 to E11--><a href=\"psysml:11f1a2a5-a4e7-4875-8b16-7052fd317758\" target=\"_top\" title=\"psysml:11f1a2a5-a4e7-4875-8b16-7052fd317758\" xlink:actuate=\"onRequest\" xlink:href=\"psysml:11f1a2a5-a4e7-4875-8b16-7052fd317758\" xlink:show=\"new\" xlink:title=\"psysml:11f1a2a5-a4e7-4875-8b16-7052fd317758\" xlink:type=\"simple\"><path d=\"M137.77,213 C169.61,213 206,213 206,213 C206,213 206,339.37 206,339.37 \" fill=\"none\" id=\"E13-&gt;E11\" style=\"stroke: #383838; stroke-width: 1.0; stroke-dasharray: 7.0,7.0;\"/><polygon fill=\"#383838\" points=\"206,344.37,210,335.37,206,339.37,202,335.37,206,344.37\" style=\"stroke: #383838; stroke-width: 1.0;\"/><text fill=\"#000000\" font-family=\"sans-serif\" font-size=\"13\" lengthAdjust=\"spacingAndGlyphs\" textLength=\"57\" x=\"170\" y=\"279.0669\">«satisfy»</text></a><!--MD5=[82ceaf7071a2b1cf31fcb4de6b1ff12c]\n",
       "@startuml\r\n",
       "skinparam linetype ortho\r\n",
       "skinparam monochrome true\r\n",
       "skinparam classbackgroundcolor white\r\n",
       "skinparam shadowing false\r\n",
       "skinparam wrapWidth 300\r\n",
       "hide circle\r\n",
       "\r\n",
       "package \"RequirementTest\" as E1  [[psysml:8aa028f5-1693-4b51-bff2-c94d0f18c930 ]]  {\r\n",
       "comp def \"C\" as E2  <<(T,blue)constraint def>> [[psysml:27c2a771-07cf-4bde-9591-6030a1a15742 ]] {\r\n",
       "}\r\n",
       "comp usage \"c: C\" as E3  <<(T,blue)constraint>> [[psysml:da02b217-f155-4220-a2dc-d840d0d24f86 ]] {\r\n",
       "}\r\n",
       "comp def \"R\" as E4  <<(T,blue)requirement def>> [[psysml:b9a9d178-6ba0-415d-80bd-8d7e5aacf32f ]] {\r\n",
       "\r\n",
       "- -\r\n",
       "- - constraints - -\r\n",
       "<b>require</b> c\r\n",
       "<i>assume</i> c1: C\r\n",
       "}\r\n",
       "comp def \" [<b>1</b>] A\" as E5  <<(T,blue)requirement def>> [[psysml:5c4fbfc6-6feb-457a-9610-da755776e124 ]] {\r\n",
       "Text\r\n",
       "- -\r\n",
       "}\r\n",
       "comp usage \"<s>noname</s>\" as E8  <<(T,blue)requirement>> [[psysml:577c6bec-7675-4e65-a136-10b226b9020a ]] {\r\n",
       "}\r\n",
       "comp def \"R1\" as E9  <<(T,blue)requirement def>> [[psysml:291c6c45-8332-45a6-809f-574961a49898 ]] {\r\n",
       "- - constraints - -\r\n",
       "<b>require</b> c1\\n//:>>RequirementTest::c// \r\n",
       "}\r\n",
       "comp usage \"p\" as E11  <<(T,blue)part>> [[psysml:b7118396-8822-4234-af4f-531e34fd2b85 ]] {\r\n",
       "}\r\n",
       "comp usage \"q\" as E12  <<(T,blue)part>> [[psysml:5710aa92-7822-41e6-89ae-9d2d61cb8bf3 ]] {\r\n",
       "}\r\n",
       "comp usage \"r: R\" as E13  <<(T,blue)requirement>> [[psysml:b72900fb-e3ca-4439-ac22-acb3bf892de5 ]] {\r\n",
       "}\r\n",
       "E3 - -:|> E2 [[psysml:8b4534c8-c65f-4721-aa95-1aefa1ee4858 ]] \r\n",
       "E4 +- - E5 [[psysml:5c4fbfc6-6feb-457a-9610-da755776e124 ]] \r\n",
       "E4 *- - E8 [[psysml:577c6bec-7675-4e65-a136-10b226b9020a ]] \r\n",
       "E12 *- - E13 [[psysml:b72900fb-e3ca-4439-ac22-acb3bf892de5 ]] \r\n",
       "E13 - -:|> E4 [[psysml:ed6e641a-605b-4ed9-9064-d41509e7ab16 ]] \r\n",
       "E13 ..> E11 [[psysml:11f1a2a5-a4e7-4875-8b16-7052fd317758 ]] : <<satisfy>>\r\n",
       "}\r\n",
       "@enduml\r\n",
       "\n",
       "PlantUML version 1.2020.13(Sat Jun 13 12:26:38 UTC 2020)\n",
       "(EPL source distribution)\n",
       "Java Runtime: OpenJDK Runtime Environment\n",
       "JVM: OpenJDK 64-Bit Server VM\n",
       "Default Encoding: UTF-8\n",
       "Language: en\n",
       "Country: null\n",
       "--></g></svg>"
      ]
     },
     "execution_count": 57,
     "metadata": {},
     "output_type": "execute_result"
    }
   ],
   "source": [
    "%viz --style=\"ORTHOLINE\" --view=\"MIXED\" \"RequirementTest\""
   ]
  }
 ],
 "metadata": {
  "kernelspec": {
   "display_name": "SysML",
   "language": "sysml",
   "name": "sysml"
  },
  "language_info": {
   "codemirror_mode": "sysml",
   "file_extension": ".sysml",
   "mimetype": "text/x-sysml",
   "name": "SysML",
   "pygments_lexer": "java",
   "version": "1.0.0"
  }
 },
 "nbformat": 4,
 "nbformat_minor": 5
}
