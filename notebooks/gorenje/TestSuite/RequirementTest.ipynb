{
 "cells": [
  {
   "cell_type": "markdown",
   "id": "innovative-causing",
   "metadata": {},
   "source": [
    "# SysML v2 Test Suite\n",
    "\n",
    "This can notebook can be cleared using menu `Edit --> Clear All Outputs` and then all cells can be\n",
    "run using menu `Run --> Run All Cells`.\n",
    "\n",
    "**WARNING**: This file is generated, all modifications here will be ignored.\n"
   ]
  },
  {
   "cell_type": "markdown",
   "id": "difficult-cleaner",
   "metadata": {},
   "source": [
    "## File: ../../sysml/src/examples/Simple Tests/RequirementTest.sysml"
   ]
  },
  {
   "cell_type": "code",
   "execution_count": 1,
   "id": "grateful-ready",
   "metadata": {
    "execution": {
     "iopub.execute_input": "2021-03-25T09:26:49.595441Z",
     "iopub.status.busy": "2021-03-25T09:26:49.594393Z",
     "iopub.status.idle": "2021-03-25T09:26:49.995799Z",
     "shell.execute_reply": "2021-03-25T09:26:49.995262Z"
    }
   },
   "outputs": [
    {
     "data": {
      "text/plain": [
       "Package RequirementTest (bb85a590-68f6-44b5-891a-713937ff82d1)\n"
      ]
     },
     "execution_count": 1,
     "metadata": {},
     "output_type": "execute_result"
    }
   ],
   "source": [
    "package RequirementTest {\n",
    "\tconstraint def C;\n",
    "\tconstraint c : C;\n",
    "\trequirement def R {\n",
    "\t\tassume constraint c1 : C;\n",
    "\t\trequire c;\n",
    "\t\tdoc /* */\n",
    "    \trequirement;\n",
    "    \trequirement def id '1' A {\n",
    "    \t\tdoc /* Text */\n",
    "    \t\tsubject s;\n",
    "    \t}\n",
    "\t}\n",
    "\trequirement def R1 {\n",
    "\t\trequire constraint c1 :>> c;\n",
    "\t}\n",
    "\tpart p;\n",
    "\tpart q {\n",
    "\t\trequirement r : R;\n",
    "\t\tsatisfy r by p;\n",
    "\t}\n",
    "}"
   ]
  },
  {
   "cell_type": "code",
   "execution_count": 2,
   "id": "indie-token",
   "metadata": {
    "execution": {
     "iopub.execute_input": "2021-03-25T09:26:50.049204Z",
     "iopub.status.busy": "2021-03-25T09:26:50.048578Z",
     "iopub.status.idle": "2021-03-25T09:26:51.639706Z",
     "shell.execute_reply": "2021-03-25T09:26:51.640144Z"
    }
   },
   "outputs": [
    {
     "data": {
      "image/svg+xml": [
       "<?xml version=\"1.0\" encoding=\"UTF-8\" standalone=\"no\"?><svg xmlns=\"http://www.w3.org/2000/svg\" xmlns:xlink=\"http://www.w3.org/1999/xlink\" contentScriptType=\"application/ecmascript\" contentStyleType=\"text/css\" height=\"578px\" preserveAspectRatio=\"none\" style=\"width:408px;height:578px;\" version=\"1.1\" viewBox=\"0 0 408 578\" width=\"408px\" zoomAndPan=\"magnify\"><defs/><g><!--MD5=[fbc87193dbaf4d95561dea2c320d4a47]\n",
       "cluster E1--><a href=\"psysml:7a32e4ca-d886-48d1-a22e-a4337a6af1e2\" target=\"_top\" title=\"psysml:7a32e4ca-d886-48d1-a22e-a4337a6af1e2\" xlink:actuate=\"onRequest\" xlink:href=\"psysml:7a32e4ca-d886-48d1-a22e-a4337a6af1e2\" xlink:show=\"new\" xlink:title=\"psysml:7a32e4ca-d886-48d1-a22e-a4337a6af1e2\" xlink:type=\"simple\"><polygon fill=\"#FFFFFF\" points=\"16,6,158,6,165,28.2969,386,28.2969,386,566,16,566,16,6\" style=\"stroke: #000000; stroke-width: 1.5;\"/><line style=\"stroke: #000000; stroke-width: 1.5;\" x1=\"16\" x2=\"165\" y1=\"28.2969\" y2=\"28.2969\"/><text fill=\"#000000\" font-family=\"sans-serif\" font-size=\"14\" font-weight=\"bold\" lengthAdjust=\"spacingAndGlyphs\" textLength=\"136\" x=\"20\" y=\"20.9951\">RequirementTest</text></a><!--MD5=[b4997ac47864f28c2f74865a473b2911]\n",
       "class E2--><a href=\"psysml:c5fd5931-ea17-4576-af97-a79679b06835\" target=\"_top\" title=\"psysml:c5fd5931-ea17-4576-af97-a79679b06835\" xlink:actuate=\"onRequest\" xlink:href=\"psysml:c5fd5931-ea17-4576-af97-a79679b06835\" xlink:show=\"new\" xlink:title=\"psysml:c5fd5931-ea17-4576-af97-a79679b06835\" xlink:type=\"simple\"><rect fill=\"#FFFFFF\" height=\"45.9375\" id=\"E2\" style=\"stroke: #383838; stroke-width: 1.5;\" width=\"104\" x=\"266\" y=\"190\"/><text fill=\"#000000\" font-family=\"sans-serif\" font-size=\"12\" font-style=\"italic\" lengthAdjust=\"spacingAndGlyphs\" textLength=\"102\" x=\"267\" y=\"206.1387\">«constraint def»</text><text fill=\"#000000\" font-family=\"sans-serif\" font-size=\"12\" lengthAdjust=\"spacingAndGlyphs\" textLength=\"8\" x=\"314\" y=\"220.1074\">C</text><line style=\"stroke: #383838; stroke-width: 1.5;\" x1=\"267\" x2=\"369\" y1=\"227.9375\" y2=\"227.9375\"/></a><!--MD5=[09b614a08d8cba4a07c9adeb5e0fee81]\n",
       "class E3--><a href=\"psysml:23e87db0-b26a-4449-ad29-18415d83eb38\" target=\"_top\" title=\"psysml:23e87db0-b26a-4449-ad29-18415d83eb38\" xlink:actuate=\"onRequest\" xlink:href=\"psysml:23e87db0-b26a-4449-ad29-18415d83eb38\" xlink:show=\"new\" xlink:title=\"psysml:23e87db0-b26a-4449-ad29-18415d83eb38\" xlink:type=\"simple\"><rect fill=\"#FFFFFF\" height=\"45.9375\" id=\"E3\" rx=\"10\" ry=\"10\" style=\"stroke: #383838; stroke-width: 1.5;\" width=\"80\" x=\"290\" y=\"62\"/><text fill=\"#000000\" font-family=\"sans-serif\" font-size=\"12\" font-style=\"italic\" lengthAdjust=\"spacingAndGlyphs\" textLength=\"78\" x=\"291\" y=\"78.1387\">«constraint»</text><text fill=\"#000000\" font-family=\"sans-serif\" font-size=\"12\" lengthAdjust=\"spacingAndGlyphs\" textLength=\"23\" x=\"318.5\" y=\"92.1074\">c: C</text><line style=\"stroke: #383838; stroke-width: 1.5;\" x1=\"291\" x2=\"369\" y1=\"99.9375\" y2=\"99.9375\"/></a><!--MD5=[ebbe1d658d1005bcc118a6aa81145e00]\n",
       "class E4--><a href=\"psysml:aa32b181-0a7a-45c2-8d8e-c84b0489ed31\" target=\"_top\" title=\"psysml:aa32b181-0a7a-45c2-8d8e-c84b0489ed31\" xlink:actuate=\"onRequest\" xlink:href=\"psysml:aa32b181-0a7a-45c2-8d8e-c84b0489ed31\" xlink:show=\"new\" xlink:title=\"psysml:aa32b181-0a7a-45c2-8d8e-c84b0489ed31\" xlink:type=\"simple\"><rect fill=\"#FFFFFF\" height=\"109.1563\" id=\"E4\" style=\"stroke: #383838; stroke-width: 1.5;\" width=\"117\" x=\"32.5\" y=\"313\"/><text fill=\"#000000\" font-family=\"sans-serif\" font-size=\"12\" font-style=\"italic\" lengthAdjust=\"spacingAndGlyphs\" textLength=\"115\" x=\"33.5\" y=\"329.1387\">«requirement def»</text><text fill=\"#000000\" font-family=\"sans-serif\" font-size=\"12\" lengthAdjust=\"spacingAndGlyphs\" textLength=\"8\" x=\"87\" y=\"343.1074\">R</text><line style=\"stroke: #383838; stroke-width: 1.5;\" x1=\"33.5\" x2=\"148.5\" y1=\"350.9375\" y2=\"350.9375\"/><text fill=\"#000000\" font-family=\"sans-serif\" font-size=\"11\" lengthAdjust=\"spacingAndGlyphs\" textLength=\"0\" x=\"42.5\" y=\"365.1479\"/><line style=\"stroke: #383838; stroke-width: 1.0;\" x1=\"33.5\" x2=\"148.5\" y1=\"371.7422\" y2=\"371.7422\"/><text fill=\"#000000\" font-family=\"sans-serif\" font-size=\"11\" font-weight=\"bold\" lengthAdjust=\"spacingAndGlyphs\" textLength=\"46\" x=\"38.5\" y=\"402.7573\">require</text><text fill=\"#000000\" font-family=\"sans-serif\" font-size=\"11\" lengthAdjust=\"spacingAndGlyphs\" textLength=\"6\" x=\"88.5\" y=\"402.7573\">c</text><text fill=\"#000000\" font-family=\"sans-serif\" font-size=\"11\" font-style=\"italic\" lengthAdjust=\"spacingAndGlyphs\" textLength=\"46\" x=\"38.5\" y=\"415.562\">assume</text><text fill=\"#000000\" font-family=\"sans-serif\" font-size=\"11\" lengthAdjust=\"spacingAndGlyphs\" textLength=\"29\" x=\"88.5\" y=\"415.562\">c1: C</text><line style=\"stroke: #383838; stroke-width: 1.0;\" x1=\"33.5\" x2=\"59\" y1=\"386.1445\" y2=\"386.1445\"/><text fill=\"#000000\" font-family=\"sans-serif\" font-size=\"11\" lengthAdjust=\"spacingAndGlyphs\" textLength=\"64\" x=\"59\" y=\"389.4526\">constraints</text><line style=\"stroke: #383838; stroke-width: 1.0;\" x1=\"123\" x2=\"148.5\" y1=\"386.1445\" y2=\"386.1445\"/></a><!--MD5=[270fce915f116d4de14055a7c1d9a0f3]\n",
       "class E5--><a href=\"psysml:c7a4f64d-f76e-4f11-bab9-561a5696e580\" target=\"_top\" title=\"psysml:c7a4f64d-f76e-4f11-bab9-561a5696e580\" xlink:actuate=\"onRequest\" xlink:href=\"psysml:c7a4f64d-f76e-4f11-bab9-561a5696e580\" xlink:show=\"new\" xlink:title=\"psysml:c7a4f64d-f76e-4f11-bab9-561a5696e580\" xlink:type=\"simple\"><rect fill=\"#FFFFFF\" height=\"66.7422\" id=\"E5\" style=\"stroke: #383838; stroke-width: 1.5;\" width=\"117\" x=\"32.5\" y=\"483\"/><text fill=\"#000000\" font-family=\"sans-serif\" font-size=\"12\" font-style=\"italic\" lengthAdjust=\"spacingAndGlyphs\" textLength=\"115\" x=\"33.5\" y=\"499.1387\">«requirement def»</text><text fill=\"#000000\" font-family=\"sans-serif\" font-size=\"12\" lengthAdjust=\"spacingAndGlyphs\" textLength=\"5\" x=\"78\" y=\"513.1074\">[</text><text fill=\"#000000\" font-family=\"sans-serif\" font-size=\"12\" font-weight=\"bold\" lengthAdjust=\"spacingAndGlyphs\" textLength=\"8\" x=\"83\" y=\"513.1074\">1</text><text fill=\"#000000\" font-family=\"sans-serif\" font-size=\"12\" lengthAdjust=\"spacingAndGlyphs\" textLength=\"17\" x=\"91\" y=\"513.1074\">] A</text><line style=\"stroke: #383838; stroke-width: 1.5;\" x1=\"33.5\" x2=\"148.5\" y1=\"520.9375\" y2=\"520.9375\"/><text fill=\"#000000\" font-family=\"sans-serif\" font-size=\"11\" lengthAdjust=\"spacingAndGlyphs\" textLength=\"24\" x=\"38.5\" y=\"535.1479\">Text</text><line style=\"stroke: #383838; stroke-width: 1.0;\" x1=\"33.5\" x2=\"148.5\" y1=\"541.7422\" y2=\"541.7422\"/></a><!--MD5=[b9389687b975829384b498ac4b7476b2]\n",
       "class E8--><a href=\"psysml:165156c7-6d13-47e8-9214-4efd9fbee902\" target=\"_top\" title=\"psysml:165156c7-6d13-47e8-9214-4efd9fbee902\" xlink:actuate=\"onRequest\" xlink:href=\"psysml:165156c7-6d13-47e8-9214-4efd9fbee902\" xlink:show=\"new\" xlink:title=\"psysml:165156c7-6d13-47e8-9214-4efd9fbee902\" xlink:type=\"simple\"><rect fill=\"#FFFFFF\" height=\"45.9375\" id=\"E8\" rx=\"10\" ry=\"10\" style=\"stroke: #383838; stroke-width: 1.5;\" width=\"93\" x=\"184.5\" y=\"493.5\"/><text fill=\"#000000\" font-family=\"sans-serif\" font-size=\"12\" font-style=\"italic\" lengthAdjust=\"spacingAndGlyphs\" textLength=\"91\" x=\"185.5\" y=\"509.6387\">«requirement»</text><text fill=\"#000000\" font-family=\"sans-serif\" font-size=\"12\" lengthAdjust=\"spacingAndGlyphs\" text-decoration=\"line-through\" textLength=\"51\" x=\"205.5\" y=\"523.6074\">noname</text><line style=\"stroke: #383838; stroke-width: 1.5;\" x1=\"185.5\" x2=\"276.5\" y1=\"531.4375\" y2=\"531.4375\"/></a><!--MD5=[fd4143e9d270a159db93a4ea2a975926]\n",
       "class E9--><a href=\"psysml:5b4d3eaf-f72e-4f96-998b-f4a0a57df239\" target=\"_top\" title=\"psysml:5b4d3eaf-f72e-4f96-998b-f4a0a57df239\" xlink:actuate=\"onRequest\" xlink:href=\"psysml:5b4d3eaf-f72e-4f96-998b-f4a0a57df239\" xlink:show=\"new\" xlink:title=\"psysml:5b4d3eaf-f72e-4f96-998b-f4a0a57df239\" xlink:type=\"simple\"><rect fill=\"#FFFFFF\" height=\"88.3516\" id=\"E9\" style=\"stroke: #383838; stroke-width: 1.5;\" width=\"145\" x=\"109.5\" y=\"41\"/><text fill=\"#000000\" font-family=\"sans-serif\" font-size=\"12\" font-style=\"italic\" lengthAdjust=\"spacingAndGlyphs\" textLength=\"115\" x=\"124.5\" y=\"57.1387\">«requirement def»</text><text fill=\"#000000\" font-family=\"sans-serif\" font-size=\"12\" lengthAdjust=\"spacingAndGlyphs\" textLength=\"16\" x=\"174\" y=\"71.1074\">R1</text><line style=\"stroke: #383838; stroke-width: 1.5;\" x1=\"110.5\" x2=\"253.5\" y1=\"78.9375\" y2=\"78.9375\"/><text fill=\"#000000\" font-family=\"sans-serif\" font-size=\"11\" font-weight=\"bold\" lengthAdjust=\"spacingAndGlyphs\" textLength=\"46\" x=\"115.5\" y=\"109.9526\">require</text><text fill=\"#000000\" font-family=\"sans-serif\" font-size=\"11\" lengthAdjust=\"spacingAndGlyphs\" textLength=\"13\" x=\"165.5\" y=\"109.9526\">c1</text><text fill=\"#000000\" font-family=\"sans-serif\" font-size=\"11\" font-style=\"italic\" lengthAdjust=\"spacingAndGlyphs\" textLength=\"133\" x=\"115.5\" y=\"122.7573\">:&gt;&gt;RequirementTest::c</text><line style=\"stroke: #383838; stroke-width: 1.0;\" x1=\"110.5\" x2=\"150\" y1=\"93.3398\" y2=\"93.3398\"/><text fill=\"#000000\" font-family=\"sans-serif\" font-size=\"11\" lengthAdjust=\"spacingAndGlyphs\" textLength=\"64\" x=\"150\" y=\"96.6479\">constraints</text><line style=\"stroke: #383838; stroke-width: 1.0;\" x1=\"214\" x2=\"253.5\" y1=\"93.3398\" y2=\"93.3398\"/></a><!--MD5=[1dd1bfd58a279cf63c5f349dbc8fc6a1]\n",
       "class E11--><a href=\"psysml:8fb932f6-fc92-43ad-aa0e-8cfa7b71c9b3\" target=\"_top\" title=\"psysml:8fb932f6-fc92-43ad-aa0e-8cfa7b71c9b3\" xlink:actuate=\"onRequest\" xlink:href=\"psysml:8fb932f6-fc92-43ad-aa0e-8cfa7b71c9b3\" xlink:show=\"new\" xlink:title=\"psysml:8fb932f6-fc92-43ad-aa0e-8cfa7b71c9b3\" xlink:type=\"simple\"><rect fill=\"#FFFFFF\" height=\"45.9375\" id=\"E11\" rx=\"10\" ry=\"10\" style=\"stroke: #383838; stroke-width: 1.5;\" width=\"42\" x=\"185\" y=\"344.5\"/><text fill=\"#000000\" font-family=\"sans-serif\" font-size=\"12\" font-style=\"italic\" lengthAdjust=\"spacingAndGlyphs\" textLength=\"40\" x=\"186\" y=\"360.6387\">«part»</text><text fill=\"#000000\" font-family=\"sans-serif\" font-size=\"12\" lengthAdjust=\"spacingAndGlyphs\" textLength=\"8\" x=\"202\" y=\"374.6074\">p</text><line style=\"stroke: #383838; stroke-width: 1.5;\" x1=\"186\" x2=\"226\" y1=\"382.4375\" y2=\"382.4375\"/></a><!--MD5=[49a0ec8f00dab7302a31f22d0f0fe584]\n",
       "class E12--><a href=\"psysml:9b734dfd-0e44-4ae0-bd37-d0a03d4a12cd\" target=\"_top\" title=\"psysml:9b734dfd-0e44-4ae0-bd37-d0a03d4a12cd\" xlink:actuate=\"onRequest\" xlink:href=\"psysml:9b734dfd-0e44-4ae0-bd37-d0a03d4a12cd\" xlink:show=\"new\" xlink:title=\"psysml:9b734dfd-0e44-4ae0-bd37-d0a03d4a12cd\" xlink:type=\"simple\"><rect fill=\"#FFFFFF\" height=\"45.9375\" id=\"E12\" rx=\"10\" ry=\"10\" style=\"stroke: #383838; stroke-width: 1.5;\" width=\"42\" x=\"32\" y=\"62\"/><text fill=\"#000000\" font-family=\"sans-serif\" font-size=\"12\" font-style=\"italic\" lengthAdjust=\"spacingAndGlyphs\" textLength=\"40\" x=\"33\" y=\"78.1387\">«part»</text><text fill=\"#000000\" font-family=\"sans-serif\" font-size=\"12\" lengthAdjust=\"spacingAndGlyphs\" textLength=\"8\" x=\"49\" y=\"92.1074\">q</text><line style=\"stroke: #383838; stroke-width: 1.5;\" x1=\"33\" x2=\"73\" y1=\"99.9375\" y2=\"99.9375\"/></a><!--MD5=[ee3c913d1a06f366521f9ef512b67efe]\n",
       "class E13--><a href=\"psysml:5a1cae69-7149-47dc-88a9-208fdbfbba4b\" target=\"_top\" title=\"psysml:5a1cae69-7149-47dc-88a9-208fdbfbba4b\" xlink:actuate=\"onRequest\" xlink:href=\"psysml:5a1cae69-7149-47dc-88a9-208fdbfbba4b\" xlink:show=\"new\" xlink:title=\"psysml:5a1cae69-7149-47dc-88a9-208fdbfbba4b\" xlink:type=\"simple\"><rect fill=\"#FFFFFF\" height=\"45.9375\" id=\"E13\" rx=\"10\" ry=\"10\" style=\"stroke: #383838; stroke-width: 1.5;\" width=\"93\" x=\"44.5\" y=\"190\"/><text fill=\"#000000\" font-family=\"sans-serif\" font-size=\"12\" font-style=\"italic\" lengthAdjust=\"spacingAndGlyphs\" textLength=\"91\" x=\"45.5\" y=\"206.1387\">«requirement»</text><text fill=\"#000000\" font-family=\"sans-serif\" font-size=\"12\" lengthAdjust=\"spacingAndGlyphs\" textLength=\"21\" x=\"80.5\" y=\"220.1074\">r: R</text><line style=\"stroke: #383838; stroke-width: 1.5;\" x1=\"45.5\" x2=\"136.5\" y1=\"227.9375\" y2=\"227.9375\"/></a><!--MD5=[05d275557350bfb9b23a4ef7222b4c39]\n",
       "link E3 to E2--><a href=\"psysml:bb92853b-9a42-4685-9891-57f30cbf18f8\" target=\"_top\" title=\"psysml:bb92853b-9a42-4685-9891-57f30cbf18f8\" xlink:actuate=\"onRequest\" xlink:href=\"psysml:bb92853b-9a42-4685-9891-57f30cbf18f8\" xlink:show=\"new\" xlink:title=\"psysml:bb92853b-9a42-4685-9891-57f30cbf18f8\" xlink:type=\"simple\"><path d=\"M327.88,108.24 C326.26,125.24 323.98,149.19 322.02,169.79 \" fill=\"none\" id=\"E3-&gt;E2\" style=\"stroke: #383838; stroke-width: 1.0;\"/><polygon fill=\"#FFFFFF\" points=\"320.1,189.99,314.9362,170.411,328.8729,171.7407,320.1,189.99\" style=\"stroke: #383838; stroke-width: 1.0;\"/><ellipse cx=\"317.4685\" cy=\"164.9268\" fill=\"#383838\" rx=\"2\" ry=\"2\" style=\"stroke: #383838; stroke-width: 1.0;\"/><ellipse cx=\"327.4233\" cy=\"165.8765\" fill=\"#383838\" rx=\"2\" ry=\"2\" style=\"stroke: #383838; stroke-width: 1.0;\"/></a><!--MD5=[62aa6af11e70f752912c1cb0466f24f7]\n",
       "reverse link E4 to E5--><a href=\"psysml:c7a4f64d-f76e-4f11-bab9-561a5696e580\" target=\"_top\" title=\"psysml:c7a4f64d-f76e-4f11-bab9-561a5696e580\" xlink:actuate=\"onRequest\" xlink:href=\"psysml:c7a4f64d-f76e-4f11-bab9-561a5696e580\" xlink:show=\"new\" xlink:title=\"psysml:c7a4f64d-f76e-4f11-bab9-561a5696e580\" xlink:type=\"simple\"><path d=\"M91,437.45 C91,453.34 91,469.51 91,482.98 \" fill=\"none\" id=\"E4&lt;-E5\" style=\"stroke: #383838; stroke-width: 1.0;\"/><ellipse cx=\"91\" cy=\"430.4\" fill=\"#FFFFFF\" rx=\"8\" ry=\"8\" style=\"stroke: #383838; stroke-width: 1.0;\"/><line style=\"stroke: #383838; stroke-width: 1.0;\" x1=\"91\" x2=\"91\" y1=\"438.4\" y2=\"422.4\"/><line style=\"stroke: #383838; stroke-width: 1.0;\" x1=\"83\" x2=\"99\" y1=\"430.4\" y2=\"430.4\"/></a><!--MD5=[c6fc7cdb0cabde04948078cf183fa696]\n",
       "reverse link E4 to E8--><a href=\"psysml:165156c7-6d13-47e8-9214-4efd9fbee902\" target=\"_top\" title=\"psysml:165156c7-6d13-47e8-9214-4efd9fbee902\" xlink:actuate=\"onRequest\" xlink:href=\"psysml:165156c7-6d13-47e8-9214-4efd9fbee902\" xlink:show=\"new\" xlink:title=\"psysml:165156c7-6d13-47e8-9214-4efd9fbee902\" xlink:type=\"simple\"><path d=\"M151.51,432.04 C172.42,453.99 194.47,477.14 210.03,493.48 \" fill=\"none\" id=\"E4&lt;-E8\" style=\"stroke: #383838; stroke-width: 1.0;\"/><polygon fill=\"#383838\" points=\"142.34,422.4,143.5779,429.5041,150.6116,431.0937,149.3737,423.9897,142.34,422.4\" style=\"stroke: #383838; stroke-width: 1.0;\"/></a><!--MD5=[062ed86c389d1a88f61c6380d0491e17]\n",
       "reverse link E12 to E13--><a href=\"psysml:5a1cae69-7149-47dc-88a9-208fdbfbba4b\" target=\"_top\" title=\"psysml:5a1cae69-7149-47dc-88a9-208fdbfbba4b\" xlink:actuate=\"onRequest\" xlink:href=\"psysml:5a1cae69-7149-47dc-88a9-208fdbfbba4b\" xlink:show=\"new\" xlink:title=\"psysml:5a1cae69-7149-47dc-88a9-208fdbfbba4b\" xlink:type=\"simple\"><path d=\"M63.49,120.8 C70.17,142.92 78.6,170.89 84.36,189.99 \" fill=\"none\" id=\"E12&lt;-E13\" style=\"stroke: #383838; stroke-width: 1.0;\"/><polygon fill=\"#383838\" points=\"59.71,108.24,57.6129,115.1394,63.1751,119.7288,65.2722,112.8294,59.71,108.24\" style=\"stroke: #383838; stroke-width: 1.0;\"/></a><!--MD5=[017847e01ff9a8bd19f247411074f987]\n",
       "link E13 to E4--><a href=\"psysml:9a693856-e1d7-4623-99b4-c4529bf04054\" target=\"_top\" title=\"psysml:9a693856-e1d7-4623-99b4-c4529bf04054\" xlink:actuate=\"onRequest\" xlink:href=\"psysml:9a693856-e1d7-4623-99b4-c4529bf04054\" xlink:show=\"new\" xlink:title=\"psysml:9a693856-e1d7-4623-99b4-c4529bf04054\" xlink:type=\"simple\"><path d=\"M91,236.17 C91,251.17 91,271.91 91,292.44 \" fill=\"none\" id=\"E13-&gt;E4\" style=\"stroke: #383838; stroke-width: 1.0;\"/><polygon fill=\"#FFFFFF\" points=\"91,312.68,84,293.68,98,293.68,91,312.68\" style=\"stroke: #383838; stroke-width: 1.0;\"/><ellipse cx=\"86\" cy=\"287.98\" fill=\"#383838\" rx=\"2\" ry=\"2\" style=\"stroke: #383838; stroke-width: 1.0;\"/><ellipse cx=\"96\" cy=\"287.98\" fill=\"#383838\" rx=\"2\" ry=\"2\" style=\"stroke: #383838; stroke-width: 1.0;\"/></a><!--MD5=[2cfe899c895462254056921bfb67315f]\n",
       "link E13 to E11--><a href=\"psysml:69852053-465c-4b3e-807c-2facd65a229c\" target=\"_top\" title=\"psysml:69852053-465c-4b3e-807c-2facd65a229c\" xlink:actuate=\"onRequest\" xlink:href=\"psysml:69852053-465c-4b3e-807c-2facd65a229c\" xlink:show=\"new\" xlink:title=\"psysml:69852053-465c-4b3e-807c-2facd65a229c\" xlink:type=\"simple\"><path d=\"M108.36,236.29 C123.87,256.28 147.14,286.45 167,313 C173.57,321.78 180.66,331.44 186.97,340.12 \" fill=\"none\" id=\"E13-&gt;E11\" style=\"stroke: #383838; stroke-width: 1.0; stroke-dasharray: 7.0,7.0;\"/><polygon fill=\"#383838\" points=\"189.99,344.28,187.9274,334.6496,187.0474,340.2376,181.4594,339.3576,189.99,344.28\" style=\"stroke: #383838; stroke-width: 1.0;\"/><text fill=\"#000000\" font-family=\"sans-serif\" font-size=\"13\" lengthAdjust=\"spacingAndGlyphs\" textLength=\"57\" x=\"145\" y=\"279.0669\">«satisfy»</text></a><!--MD5=[781d001d67364ed6373d09c4afe435e8]\n",
       "@startuml\r\n",
       " skinparam monochrome true\r\n",
       "skinparam classbackgroundcolor white\r\n",
       "skinparam shadowing false\r\n",
       "skinparam wrapWidth 300\r\n",
       "hide circle\r\n",
       "\r\n",
       "package \"RequirementTest\" as E1  [[psysml:7a32e4ca-d886-48d1-a22e-a4337a6af1e2 ]]  {\r\n",
       "comp def \"C\" as E2  <<(T,blue)constraint def>> [[psysml:c5fd5931-ea17-4576-af97-a79679b06835 ]] {\r\n",
       "}\r\n",
       "comp usage \"c: C\" as E3  <<(T,blue)constraint>> [[psysml:23e87db0-b26a-4449-ad29-18415d83eb38 ]] {\r\n",
       "}\r\n",
       "comp def \"R\" as E4  <<(T,blue)requirement def>> [[psysml:aa32b181-0a7a-45c2-8d8e-c84b0489ed31 ]] {\r\n",
       "\r\n",
       "- -\r\n",
       "- - constraints - -\r\n",
       "<b>require</b> c\r\n",
       "<i>assume</i> c1: C\r\n",
       "}\r\n",
       "comp def \" [<b>1</b>] A\" as E5  <<(T,blue)requirement def>> [[psysml:c7a4f64d-f76e-4f11-bab9-561a5696e580 ]] {\r\n",
       "Text\r\n",
       "- -\r\n",
       "}\r\n",
       "comp usage \"<s>noname</s>\" as E8  <<(T,blue)requirement>> [[psysml:165156c7-6d13-47e8-9214-4efd9fbee902 ]] {\r\n",
       "}\r\n",
       "comp def \"R1\" as E9  <<(T,blue)requirement def>> [[psysml:5b4d3eaf-f72e-4f96-998b-f4a0a57df239 ]] {\r\n",
       "- - constraints - -\r\n",
       "<b>require</b> c1\\n//:>>RequirementTest::c// \r\n",
       "}\r\n",
       "comp usage \"p\" as E11  <<(T,blue)part>> [[psysml:8fb932f6-fc92-43ad-aa0e-8cfa7b71c9b3 ]] {\r\n",
       "}\r\n",
       "comp usage \"q\" as E12  <<(T,blue)part>> [[psysml:9b734dfd-0e44-4ae0-bd37-d0a03d4a12cd ]] {\r\n",
       "}\r\n",
       "comp usage \"r: R\" as E13  <<(T,blue)requirement>> [[psysml:5a1cae69-7149-47dc-88a9-208fdbfbba4b ]] {\r\n",
       "}\r\n",
       "E3 - -:|> E2 [[psysml:bb92853b-9a42-4685-9891-57f30cbf18f8 ]] \r\n",
       "E4 +- - E5 [[psysml:c7a4f64d-f76e-4f11-bab9-561a5696e580 ]] \r\n",
       "E4 *- - E8 [[psysml:165156c7-6d13-47e8-9214-4efd9fbee902 ]] \r\n",
       "E12 *- - E13 [[psysml:5a1cae69-7149-47dc-88a9-208fdbfbba4b ]] \r\n",
       "E13 - -:|> E4 [[psysml:9a693856-e1d7-4623-99b4-c4529bf04054 ]] \r\n",
       "E13 ..> E11 [[psysml:69852053-465c-4b3e-807c-2facd65a229c ]] : <<satisfy>>\r\n",
       "}\r\n",
       "@enduml\r\n",
       "\n",
       "PlantUML version 1.2020.13(Sat Jun 13 12:26:38 UTC 2020)\n",
       "(EPL source distribution)\n",
       "Java Runtime: OpenJDK Runtime Environment\n",
       "JVM: OpenJDK 64-Bit Server VM\n",
       "Default Encoding: UTF-8\n",
       "Language: en\n",
       "Country: null\n",
       "--></g></svg>"
      ]
     },
     "execution_count": 2,
     "metadata": {},
     "output_type": "execute_result"
    }
   ],
   "source": [
    "%viz --style=\"COMPTREE\" --view=\"Default\" \"RequirementTest\""
   ]
  },
  {
   "cell_type": "code",
   "execution_count": 3,
   "id": "outer-toner",
   "metadata": {
    "execution": {
     "iopub.execute_input": "2021-03-25T09:26:51.691671Z",
     "iopub.status.busy": "2021-03-25T09:26:51.691223Z",
     "iopub.status.idle": "2021-03-25T09:26:52.611018Z",
     "shell.execute_reply": "2021-03-25T09:26:52.611485Z"
    }
   },
   "outputs": [
    {
     "data": {
      "image/svg+xml": [
       "<?xml version=\"1.0\" encoding=\"UTF-8\" standalone=\"no\"?><svg xmlns=\"http://www.w3.org/2000/svg\" xmlns:xlink=\"http://www.w3.org/1999/xlink\" contentScriptType=\"application/ecmascript\" contentStyleType=\"text/css\" height=\"578px\" preserveAspectRatio=\"none\" style=\"width:408px;height:578px;\" version=\"1.1\" viewBox=\"0 0 408 578\" width=\"408px\" zoomAndPan=\"magnify\"><defs/><g><!--MD5=[fbc87193dbaf4d95561dea2c320d4a47]\n",
       "cluster E1--><a href=\"psysml:7a32e4ca-d886-48d1-a22e-a4337a6af1e2\" target=\"_top\" title=\"psysml:7a32e4ca-d886-48d1-a22e-a4337a6af1e2\" xlink:actuate=\"onRequest\" xlink:href=\"psysml:7a32e4ca-d886-48d1-a22e-a4337a6af1e2\" xlink:show=\"new\" xlink:title=\"psysml:7a32e4ca-d886-48d1-a22e-a4337a6af1e2\" xlink:type=\"simple\"><polygon fill=\"#FFFFFF\" points=\"16,6,158,6,165,28.2969,386,28.2969,386,566,16,566,16,6\" style=\"stroke: #000000; stroke-width: 1.5;\"/><line style=\"stroke: #000000; stroke-width: 1.5;\" x1=\"16\" x2=\"165\" y1=\"28.2969\" y2=\"28.2969\"/><text fill=\"#000000\" font-family=\"sans-serif\" font-size=\"14\" font-weight=\"bold\" lengthAdjust=\"spacingAndGlyphs\" textLength=\"136\" x=\"20\" y=\"20.9951\">RequirementTest</text></a><!--MD5=[b4997ac47864f28c2f74865a473b2911]\n",
       "class E2--><a href=\"psysml:c5fd5931-ea17-4576-af97-a79679b06835\" target=\"_top\" title=\"psysml:c5fd5931-ea17-4576-af97-a79679b06835\" xlink:actuate=\"onRequest\" xlink:href=\"psysml:c5fd5931-ea17-4576-af97-a79679b06835\" xlink:show=\"new\" xlink:title=\"psysml:c5fd5931-ea17-4576-af97-a79679b06835\" xlink:type=\"simple\"><rect fill=\"#FFFFFF\" height=\"45.9375\" id=\"E2\" style=\"stroke: #383838; stroke-width: 1.5;\" width=\"104\" x=\"266\" y=\"190\"/><text fill=\"#000000\" font-family=\"sans-serif\" font-size=\"12\" font-style=\"italic\" lengthAdjust=\"spacingAndGlyphs\" textLength=\"102\" x=\"267\" y=\"206.1387\">«constraint def»</text><text fill=\"#000000\" font-family=\"sans-serif\" font-size=\"12\" lengthAdjust=\"spacingAndGlyphs\" textLength=\"8\" x=\"314\" y=\"220.1074\">C</text><line style=\"stroke: #383838; stroke-width: 1.5;\" x1=\"267\" x2=\"369\" y1=\"227.9375\" y2=\"227.9375\"/></a><!--MD5=[09b614a08d8cba4a07c9adeb5e0fee81]\n",
       "class E3--><a href=\"psysml:23e87db0-b26a-4449-ad29-18415d83eb38\" target=\"_top\" title=\"psysml:23e87db0-b26a-4449-ad29-18415d83eb38\" xlink:actuate=\"onRequest\" xlink:href=\"psysml:23e87db0-b26a-4449-ad29-18415d83eb38\" xlink:show=\"new\" xlink:title=\"psysml:23e87db0-b26a-4449-ad29-18415d83eb38\" xlink:type=\"simple\"><rect fill=\"#FFFFFF\" height=\"45.9375\" id=\"E3\" rx=\"10\" ry=\"10\" style=\"stroke: #383838; stroke-width: 1.5;\" width=\"80\" x=\"290\" y=\"62\"/><text fill=\"#000000\" font-family=\"sans-serif\" font-size=\"12\" font-style=\"italic\" lengthAdjust=\"spacingAndGlyphs\" textLength=\"78\" x=\"291\" y=\"78.1387\">«constraint»</text><text fill=\"#000000\" font-family=\"sans-serif\" font-size=\"12\" lengthAdjust=\"spacingAndGlyphs\" textLength=\"23\" x=\"318.5\" y=\"92.1074\">c: C</text><line style=\"stroke: #383838; stroke-width: 1.5;\" x1=\"291\" x2=\"369\" y1=\"99.9375\" y2=\"99.9375\"/></a><!--MD5=[ebbe1d658d1005bcc118a6aa81145e00]\n",
       "class E4--><a href=\"psysml:aa32b181-0a7a-45c2-8d8e-c84b0489ed31\" target=\"_top\" title=\"psysml:aa32b181-0a7a-45c2-8d8e-c84b0489ed31\" xlink:actuate=\"onRequest\" xlink:href=\"psysml:aa32b181-0a7a-45c2-8d8e-c84b0489ed31\" xlink:show=\"new\" xlink:title=\"psysml:aa32b181-0a7a-45c2-8d8e-c84b0489ed31\" xlink:type=\"simple\"><rect fill=\"#FFFFFF\" height=\"109.1563\" id=\"E4\" style=\"stroke: #383838; stroke-width: 1.5;\" width=\"117\" x=\"32.5\" y=\"313\"/><text fill=\"#000000\" font-family=\"sans-serif\" font-size=\"12\" font-style=\"italic\" lengthAdjust=\"spacingAndGlyphs\" textLength=\"115\" x=\"33.5\" y=\"329.1387\">«requirement def»</text><text fill=\"#000000\" font-family=\"sans-serif\" font-size=\"12\" lengthAdjust=\"spacingAndGlyphs\" textLength=\"8\" x=\"87\" y=\"343.1074\">R</text><line style=\"stroke: #383838; stroke-width: 1.5;\" x1=\"33.5\" x2=\"148.5\" y1=\"350.9375\" y2=\"350.9375\"/><text fill=\"#000000\" font-family=\"sans-serif\" font-size=\"11\" lengthAdjust=\"spacingAndGlyphs\" textLength=\"0\" x=\"42.5\" y=\"365.1479\"/><line style=\"stroke: #383838; stroke-width: 1.0;\" x1=\"33.5\" x2=\"148.5\" y1=\"371.7422\" y2=\"371.7422\"/><text fill=\"#000000\" font-family=\"sans-serif\" font-size=\"11\" font-weight=\"bold\" lengthAdjust=\"spacingAndGlyphs\" textLength=\"46\" x=\"38.5\" y=\"402.7573\">require</text><text fill=\"#000000\" font-family=\"sans-serif\" font-size=\"11\" lengthAdjust=\"spacingAndGlyphs\" textLength=\"6\" x=\"88.5\" y=\"402.7573\">c</text><text fill=\"#000000\" font-family=\"sans-serif\" font-size=\"11\" font-style=\"italic\" lengthAdjust=\"spacingAndGlyphs\" textLength=\"46\" x=\"38.5\" y=\"415.562\">assume</text><text fill=\"#000000\" font-family=\"sans-serif\" font-size=\"11\" lengthAdjust=\"spacingAndGlyphs\" textLength=\"29\" x=\"88.5\" y=\"415.562\">c1: C</text><line style=\"stroke: #383838; stroke-width: 1.0;\" x1=\"33.5\" x2=\"59\" y1=\"386.1445\" y2=\"386.1445\"/><text fill=\"#000000\" font-family=\"sans-serif\" font-size=\"11\" lengthAdjust=\"spacingAndGlyphs\" textLength=\"64\" x=\"59\" y=\"389.4526\">constraints</text><line style=\"stroke: #383838; stroke-width: 1.0;\" x1=\"123\" x2=\"148.5\" y1=\"386.1445\" y2=\"386.1445\"/></a><!--MD5=[270fce915f116d4de14055a7c1d9a0f3]\n",
       "class E5--><a href=\"psysml:c7a4f64d-f76e-4f11-bab9-561a5696e580\" target=\"_top\" title=\"psysml:c7a4f64d-f76e-4f11-bab9-561a5696e580\" xlink:actuate=\"onRequest\" xlink:href=\"psysml:c7a4f64d-f76e-4f11-bab9-561a5696e580\" xlink:show=\"new\" xlink:title=\"psysml:c7a4f64d-f76e-4f11-bab9-561a5696e580\" xlink:type=\"simple\"><rect fill=\"#FFFFFF\" height=\"66.7422\" id=\"E5\" style=\"stroke: #383838; stroke-width: 1.5;\" width=\"117\" x=\"32.5\" y=\"483\"/><text fill=\"#000000\" font-family=\"sans-serif\" font-size=\"12\" font-style=\"italic\" lengthAdjust=\"spacingAndGlyphs\" textLength=\"115\" x=\"33.5\" y=\"499.1387\">«requirement def»</text><text fill=\"#000000\" font-family=\"sans-serif\" font-size=\"12\" lengthAdjust=\"spacingAndGlyphs\" textLength=\"5\" x=\"78\" y=\"513.1074\">[</text><text fill=\"#000000\" font-family=\"sans-serif\" font-size=\"12\" font-weight=\"bold\" lengthAdjust=\"spacingAndGlyphs\" textLength=\"8\" x=\"83\" y=\"513.1074\">1</text><text fill=\"#000000\" font-family=\"sans-serif\" font-size=\"12\" lengthAdjust=\"spacingAndGlyphs\" textLength=\"17\" x=\"91\" y=\"513.1074\">] A</text><line style=\"stroke: #383838; stroke-width: 1.5;\" x1=\"33.5\" x2=\"148.5\" y1=\"520.9375\" y2=\"520.9375\"/><text fill=\"#000000\" font-family=\"sans-serif\" font-size=\"11\" lengthAdjust=\"spacingAndGlyphs\" textLength=\"24\" x=\"38.5\" y=\"535.1479\">Text</text><line style=\"stroke: #383838; stroke-width: 1.0;\" x1=\"33.5\" x2=\"148.5\" y1=\"541.7422\" y2=\"541.7422\"/></a><!--MD5=[b9389687b975829384b498ac4b7476b2]\n",
       "class E8--><a href=\"psysml:165156c7-6d13-47e8-9214-4efd9fbee902\" target=\"_top\" title=\"psysml:165156c7-6d13-47e8-9214-4efd9fbee902\" xlink:actuate=\"onRequest\" xlink:href=\"psysml:165156c7-6d13-47e8-9214-4efd9fbee902\" xlink:show=\"new\" xlink:title=\"psysml:165156c7-6d13-47e8-9214-4efd9fbee902\" xlink:type=\"simple\"><rect fill=\"#FFFFFF\" height=\"45.9375\" id=\"E8\" rx=\"10\" ry=\"10\" style=\"stroke: #383838; stroke-width: 1.5;\" width=\"93\" x=\"184.5\" y=\"493.5\"/><text fill=\"#000000\" font-family=\"sans-serif\" font-size=\"12\" font-style=\"italic\" lengthAdjust=\"spacingAndGlyphs\" textLength=\"91\" x=\"185.5\" y=\"509.6387\">«requirement»</text><text fill=\"#000000\" font-family=\"sans-serif\" font-size=\"12\" lengthAdjust=\"spacingAndGlyphs\" text-decoration=\"line-through\" textLength=\"51\" x=\"205.5\" y=\"523.6074\">noname</text><line style=\"stroke: #383838; stroke-width: 1.5;\" x1=\"185.5\" x2=\"276.5\" y1=\"531.4375\" y2=\"531.4375\"/></a><!--MD5=[fd4143e9d270a159db93a4ea2a975926]\n",
       "class E9--><a href=\"psysml:5b4d3eaf-f72e-4f96-998b-f4a0a57df239\" target=\"_top\" title=\"psysml:5b4d3eaf-f72e-4f96-998b-f4a0a57df239\" xlink:actuate=\"onRequest\" xlink:href=\"psysml:5b4d3eaf-f72e-4f96-998b-f4a0a57df239\" xlink:show=\"new\" xlink:title=\"psysml:5b4d3eaf-f72e-4f96-998b-f4a0a57df239\" xlink:type=\"simple\"><rect fill=\"#FFFFFF\" height=\"88.3516\" id=\"E9\" style=\"stroke: #383838; stroke-width: 1.5;\" width=\"145\" x=\"109.5\" y=\"41\"/><text fill=\"#000000\" font-family=\"sans-serif\" font-size=\"12\" font-style=\"italic\" lengthAdjust=\"spacingAndGlyphs\" textLength=\"115\" x=\"124.5\" y=\"57.1387\">«requirement def»</text><text fill=\"#000000\" font-family=\"sans-serif\" font-size=\"12\" lengthAdjust=\"spacingAndGlyphs\" textLength=\"16\" x=\"174\" y=\"71.1074\">R1</text><line style=\"stroke: #383838; stroke-width: 1.5;\" x1=\"110.5\" x2=\"253.5\" y1=\"78.9375\" y2=\"78.9375\"/><text fill=\"#000000\" font-family=\"sans-serif\" font-size=\"11\" font-weight=\"bold\" lengthAdjust=\"spacingAndGlyphs\" textLength=\"46\" x=\"115.5\" y=\"109.9526\">require</text><text fill=\"#000000\" font-family=\"sans-serif\" font-size=\"11\" lengthAdjust=\"spacingAndGlyphs\" textLength=\"13\" x=\"165.5\" y=\"109.9526\">c1</text><text fill=\"#000000\" font-family=\"sans-serif\" font-size=\"11\" font-style=\"italic\" lengthAdjust=\"spacingAndGlyphs\" textLength=\"133\" x=\"115.5\" y=\"122.7573\">:&gt;&gt;RequirementTest::c</text><line style=\"stroke: #383838; stroke-width: 1.0;\" x1=\"110.5\" x2=\"150\" y1=\"93.3398\" y2=\"93.3398\"/><text fill=\"#000000\" font-family=\"sans-serif\" font-size=\"11\" lengthAdjust=\"spacingAndGlyphs\" textLength=\"64\" x=\"150\" y=\"96.6479\">constraints</text><line style=\"stroke: #383838; stroke-width: 1.0;\" x1=\"214\" x2=\"253.5\" y1=\"93.3398\" y2=\"93.3398\"/></a><!--MD5=[1dd1bfd58a279cf63c5f349dbc8fc6a1]\n",
       "class E11--><a href=\"psysml:8fb932f6-fc92-43ad-aa0e-8cfa7b71c9b3\" target=\"_top\" title=\"psysml:8fb932f6-fc92-43ad-aa0e-8cfa7b71c9b3\" xlink:actuate=\"onRequest\" xlink:href=\"psysml:8fb932f6-fc92-43ad-aa0e-8cfa7b71c9b3\" xlink:show=\"new\" xlink:title=\"psysml:8fb932f6-fc92-43ad-aa0e-8cfa7b71c9b3\" xlink:type=\"simple\"><rect fill=\"#FFFFFF\" height=\"45.9375\" id=\"E11\" rx=\"10\" ry=\"10\" style=\"stroke: #383838; stroke-width: 1.5;\" width=\"42\" x=\"185\" y=\"344.5\"/><text fill=\"#000000\" font-family=\"sans-serif\" font-size=\"12\" font-style=\"italic\" lengthAdjust=\"spacingAndGlyphs\" textLength=\"40\" x=\"186\" y=\"360.6387\">«part»</text><text fill=\"#000000\" font-family=\"sans-serif\" font-size=\"12\" lengthAdjust=\"spacingAndGlyphs\" textLength=\"8\" x=\"202\" y=\"374.6074\">p</text><line style=\"stroke: #383838; stroke-width: 1.5;\" x1=\"186\" x2=\"226\" y1=\"382.4375\" y2=\"382.4375\"/></a><!--MD5=[49a0ec8f00dab7302a31f22d0f0fe584]\n",
       "class E12--><a href=\"psysml:9b734dfd-0e44-4ae0-bd37-d0a03d4a12cd\" target=\"_top\" title=\"psysml:9b734dfd-0e44-4ae0-bd37-d0a03d4a12cd\" xlink:actuate=\"onRequest\" xlink:href=\"psysml:9b734dfd-0e44-4ae0-bd37-d0a03d4a12cd\" xlink:show=\"new\" xlink:title=\"psysml:9b734dfd-0e44-4ae0-bd37-d0a03d4a12cd\" xlink:type=\"simple\"><rect fill=\"#FFFFFF\" height=\"45.9375\" id=\"E12\" rx=\"10\" ry=\"10\" style=\"stroke: #383838; stroke-width: 1.5;\" width=\"42\" x=\"32\" y=\"62\"/><text fill=\"#000000\" font-family=\"sans-serif\" font-size=\"12\" font-style=\"italic\" lengthAdjust=\"spacingAndGlyphs\" textLength=\"40\" x=\"33\" y=\"78.1387\">«part»</text><text fill=\"#000000\" font-family=\"sans-serif\" font-size=\"12\" lengthAdjust=\"spacingAndGlyphs\" textLength=\"8\" x=\"49\" y=\"92.1074\">q</text><line style=\"stroke: #383838; stroke-width: 1.5;\" x1=\"33\" x2=\"73\" y1=\"99.9375\" y2=\"99.9375\"/></a><!--MD5=[ee3c913d1a06f366521f9ef512b67efe]\n",
       "class E13--><a href=\"psysml:5a1cae69-7149-47dc-88a9-208fdbfbba4b\" target=\"_top\" title=\"psysml:5a1cae69-7149-47dc-88a9-208fdbfbba4b\" xlink:actuate=\"onRequest\" xlink:href=\"psysml:5a1cae69-7149-47dc-88a9-208fdbfbba4b\" xlink:show=\"new\" xlink:title=\"psysml:5a1cae69-7149-47dc-88a9-208fdbfbba4b\" xlink:type=\"simple\"><rect fill=\"#FFFFFF\" height=\"45.9375\" id=\"E13\" rx=\"10\" ry=\"10\" style=\"stroke: #383838; stroke-width: 1.5;\" width=\"93\" x=\"44.5\" y=\"190\"/><text fill=\"#000000\" font-family=\"sans-serif\" font-size=\"12\" font-style=\"italic\" lengthAdjust=\"spacingAndGlyphs\" textLength=\"91\" x=\"45.5\" y=\"206.1387\">«requirement»</text><text fill=\"#000000\" font-family=\"sans-serif\" font-size=\"12\" lengthAdjust=\"spacingAndGlyphs\" textLength=\"21\" x=\"80.5\" y=\"220.1074\">r: R</text><line style=\"stroke: #383838; stroke-width: 1.5;\" x1=\"45.5\" x2=\"136.5\" y1=\"227.9375\" y2=\"227.9375\"/></a><!--MD5=[05d275557350bfb9b23a4ef7222b4c39]\n",
       "link E3 to E2--><a href=\"psysml:bb92853b-9a42-4685-9891-57f30cbf18f8\" target=\"_top\" title=\"psysml:bb92853b-9a42-4685-9891-57f30cbf18f8\" xlink:actuate=\"onRequest\" xlink:href=\"psysml:bb92853b-9a42-4685-9891-57f30cbf18f8\" xlink:show=\"new\" xlink:title=\"psysml:bb92853b-9a42-4685-9891-57f30cbf18f8\" xlink:type=\"simple\"><path d=\"M327.88,108.24 C326.26,125.24 323.98,149.19 322.02,169.79 \" fill=\"none\" id=\"E3-&gt;E2\" style=\"stroke: #383838; stroke-width: 1.0;\"/><polygon fill=\"#FFFFFF\" points=\"320.1,189.99,314.9362,170.411,328.8729,171.7407,320.1,189.99\" style=\"stroke: #383838; stroke-width: 1.0;\"/><ellipse cx=\"317.4685\" cy=\"164.9268\" fill=\"#383838\" rx=\"2\" ry=\"2\" style=\"stroke: #383838; stroke-width: 1.0;\"/><ellipse cx=\"327.4233\" cy=\"165.8765\" fill=\"#383838\" rx=\"2\" ry=\"2\" style=\"stroke: #383838; stroke-width: 1.0;\"/></a><!--MD5=[62aa6af11e70f752912c1cb0466f24f7]\n",
       "reverse link E4 to E5--><a href=\"psysml:c7a4f64d-f76e-4f11-bab9-561a5696e580\" target=\"_top\" title=\"psysml:c7a4f64d-f76e-4f11-bab9-561a5696e580\" xlink:actuate=\"onRequest\" xlink:href=\"psysml:c7a4f64d-f76e-4f11-bab9-561a5696e580\" xlink:show=\"new\" xlink:title=\"psysml:c7a4f64d-f76e-4f11-bab9-561a5696e580\" xlink:type=\"simple\"><path d=\"M91,437.45 C91,453.34 91,469.51 91,482.98 \" fill=\"none\" id=\"E4&lt;-E5\" style=\"stroke: #383838; stroke-width: 1.0;\"/><ellipse cx=\"91\" cy=\"430.4\" fill=\"#FFFFFF\" rx=\"8\" ry=\"8\" style=\"stroke: #383838; stroke-width: 1.0;\"/><line style=\"stroke: #383838; stroke-width: 1.0;\" x1=\"91\" x2=\"91\" y1=\"438.4\" y2=\"422.4\"/><line style=\"stroke: #383838; stroke-width: 1.0;\" x1=\"83\" x2=\"99\" y1=\"430.4\" y2=\"430.4\"/></a><!--MD5=[c6fc7cdb0cabde04948078cf183fa696]\n",
       "reverse link E4 to E8--><a href=\"psysml:165156c7-6d13-47e8-9214-4efd9fbee902\" target=\"_top\" title=\"psysml:165156c7-6d13-47e8-9214-4efd9fbee902\" xlink:actuate=\"onRequest\" xlink:href=\"psysml:165156c7-6d13-47e8-9214-4efd9fbee902\" xlink:show=\"new\" xlink:title=\"psysml:165156c7-6d13-47e8-9214-4efd9fbee902\" xlink:type=\"simple\"><path d=\"M151.51,432.04 C172.42,453.99 194.47,477.14 210.03,493.48 \" fill=\"none\" id=\"E4&lt;-E8\" style=\"stroke: #383838; stroke-width: 1.0;\"/><polygon fill=\"#383838\" points=\"142.34,422.4,143.5779,429.5041,150.6116,431.0937,149.3737,423.9897,142.34,422.4\" style=\"stroke: #383838; stroke-width: 1.0;\"/></a><!--MD5=[062ed86c389d1a88f61c6380d0491e17]\n",
       "reverse link E12 to E13--><a href=\"psysml:5a1cae69-7149-47dc-88a9-208fdbfbba4b\" target=\"_top\" title=\"psysml:5a1cae69-7149-47dc-88a9-208fdbfbba4b\" xlink:actuate=\"onRequest\" xlink:href=\"psysml:5a1cae69-7149-47dc-88a9-208fdbfbba4b\" xlink:show=\"new\" xlink:title=\"psysml:5a1cae69-7149-47dc-88a9-208fdbfbba4b\" xlink:type=\"simple\"><path d=\"M63.49,120.8 C70.17,142.92 78.6,170.89 84.36,189.99 \" fill=\"none\" id=\"E12&lt;-E13\" style=\"stroke: #383838; stroke-width: 1.0;\"/><polygon fill=\"#383838\" points=\"59.71,108.24,57.6129,115.1394,63.1751,119.7288,65.2722,112.8294,59.71,108.24\" style=\"stroke: #383838; stroke-width: 1.0;\"/></a><!--MD5=[017847e01ff9a8bd19f247411074f987]\n",
       "link E13 to E4--><a href=\"psysml:9a693856-e1d7-4623-99b4-c4529bf04054\" target=\"_top\" title=\"psysml:9a693856-e1d7-4623-99b4-c4529bf04054\" xlink:actuate=\"onRequest\" xlink:href=\"psysml:9a693856-e1d7-4623-99b4-c4529bf04054\" xlink:show=\"new\" xlink:title=\"psysml:9a693856-e1d7-4623-99b4-c4529bf04054\" xlink:type=\"simple\"><path d=\"M91,236.17 C91,251.17 91,271.91 91,292.44 \" fill=\"none\" id=\"E13-&gt;E4\" style=\"stroke: #383838; stroke-width: 1.0;\"/><polygon fill=\"#FFFFFF\" points=\"91,312.68,84,293.68,98,293.68,91,312.68\" style=\"stroke: #383838; stroke-width: 1.0;\"/><ellipse cx=\"86\" cy=\"287.98\" fill=\"#383838\" rx=\"2\" ry=\"2\" style=\"stroke: #383838; stroke-width: 1.0;\"/><ellipse cx=\"96\" cy=\"287.98\" fill=\"#383838\" rx=\"2\" ry=\"2\" style=\"stroke: #383838; stroke-width: 1.0;\"/></a><!--MD5=[2cfe899c895462254056921bfb67315f]\n",
       "link E13 to E11--><a href=\"psysml:69852053-465c-4b3e-807c-2facd65a229c\" target=\"_top\" title=\"psysml:69852053-465c-4b3e-807c-2facd65a229c\" xlink:actuate=\"onRequest\" xlink:href=\"psysml:69852053-465c-4b3e-807c-2facd65a229c\" xlink:show=\"new\" xlink:title=\"psysml:69852053-465c-4b3e-807c-2facd65a229c\" xlink:type=\"simple\"><path d=\"M108.36,236.29 C123.87,256.28 147.14,286.45 167,313 C173.57,321.78 180.66,331.44 186.97,340.12 \" fill=\"none\" id=\"E13-&gt;E11\" style=\"stroke: #383838; stroke-width: 1.0; stroke-dasharray: 7.0,7.0;\"/><polygon fill=\"#383838\" points=\"189.99,344.28,187.9274,334.6496,187.0474,340.2376,181.4594,339.3576,189.99,344.28\" style=\"stroke: #383838; stroke-width: 1.0;\"/><text fill=\"#000000\" font-family=\"sans-serif\" font-size=\"13\" lengthAdjust=\"spacingAndGlyphs\" textLength=\"57\" x=\"145\" y=\"279.0669\">«satisfy»</text></a><!--MD5=[781d001d67364ed6373d09c4afe435e8]\n",
       "@startuml\r\n",
       " skinparam monochrome true\r\n",
       "skinparam classbackgroundcolor white\r\n",
       "skinparam shadowing false\r\n",
       "skinparam wrapWidth 300\r\n",
       "hide circle\r\n",
       "\r\n",
       "package \"RequirementTest\" as E1  [[psysml:7a32e4ca-d886-48d1-a22e-a4337a6af1e2 ]]  {\r\n",
       "comp def \"C\" as E2  <<(T,blue)constraint def>> [[psysml:c5fd5931-ea17-4576-af97-a79679b06835 ]] {\r\n",
       "}\r\n",
       "comp usage \"c: C\" as E3  <<(T,blue)constraint>> [[psysml:23e87db0-b26a-4449-ad29-18415d83eb38 ]] {\r\n",
       "}\r\n",
       "comp def \"R\" as E4  <<(T,blue)requirement def>> [[psysml:aa32b181-0a7a-45c2-8d8e-c84b0489ed31 ]] {\r\n",
       "\r\n",
       "- -\r\n",
       "- - constraints - -\r\n",
       "<b>require</b> c\r\n",
       "<i>assume</i> c1: C\r\n",
       "}\r\n",
       "comp def \" [<b>1</b>] A\" as E5  <<(T,blue)requirement def>> [[psysml:c7a4f64d-f76e-4f11-bab9-561a5696e580 ]] {\r\n",
       "Text\r\n",
       "- -\r\n",
       "}\r\n",
       "comp usage \"<s>noname</s>\" as E8  <<(T,blue)requirement>> [[psysml:165156c7-6d13-47e8-9214-4efd9fbee902 ]] {\r\n",
       "}\r\n",
       "comp def \"R1\" as E9  <<(T,blue)requirement def>> [[psysml:5b4d3eaf-f72e-4f96-998b-f4a0a57df239 ]] {\r\n",
       "- - constraints - -\r\n",
       "<b>require</b> c1\\n//:>>RequirementTest::c// \r\n",
       "}\r\n",
       "comp usage \"p\" as E11  <<(T,blue)part>> [[psysml:8fb932f6-fc92-43ad-aa0e-8cfa7b71c9b3 ]] {\r\n",
       "}\r\n",
       "comp usage \"q\" as E12  <<(T,blue)part>> [[psysml:9b734dfd-0e44-4ae0-bd37-d0a03d4a12cd ]] {\r\n",
       "}\r\n",
       "comp usage \"r: R\" as E13  <<(T,blue)requirement>> [[psysml:5a1cae69-7149-47dc-88a9-208fdbfbba4b ]] {\r\n",
       "}\r\n",
       "E3 - -:|> E2 [[psysml:bb92853b-9a42-4685-9891-57f30cbf18f8 ]] \r\n",
       "E4 +- - E5 [[psysml:c7a4f64d-f76e-4f11-bab9-561a5696e580 ]] \r\n",
       "E4 *- - E8 [[psysml:165156c7-6d13-47e8-9214-4efd9fbee902 ]] \r\n",
       "E12 *- - E13 [[psysml:5a1cae69-7149-47dc-88a9-208fdbfbba4b ]] \r\n",
       "E13 - -:|> E4 [[psysml:9a693856-e1d7-4623-99b4-c4529bf04054 ]] \r\n",
       "E13 ..> E11 [[psysml:69852053-465c-4b3e-807c-2facd65a229c ]] : <<satisfy>>\r\n",
       "}\r\n",
       "@enduml\r\n",
       "\n",
       "PlantUML version 1.2020.13(Sat Jun 13 12:26:38 UTC 2020)\n",
       "(EPL source distribution)\n",
       "Java Runtime: OpenJDK Runtime Environment\n",
       "JVM: OpenJDK 64-Bit Server VM\n",
       "Default Encoding: UTF-8\n",
       "Language: en\n",
       "Country: null\n",
       "--></g></svg>"
      ]
     },
     "execution_count": 3,
     "metadata": {},
     "output_type": "execute_result"
    }
   ],
   "source": [
    "%viz --style=\"COMPTREE\" --view=\"Tree\" \"RequirementTest\""
   ]
  },
  {
   "cell_type": "code",
   "execution_count": 4,
   "id": "indirect-capture",
   "metadata": {
    "execution": {
     "iopub.execute_input": "2021-03-25T09:26:52.663363Z",
     "iopub.status.busy": "2021-03-25T09:26:52.662977Z",
     "iopub.status.idle": "2021-03-25T09:26:52.680454Z",
     "shell.execute_reply": "2021-03-25T09:26:52.680814Z"
    }
   },
   "outputs": [
    {
     "data": {
      "image/svg+xml": [
       "<?xml version=\"1.0\" encoding=\"UTF-8\" standalone=\"no\"?><svg xmlns=\"http://www.w3.org/2000/svg\" xmlns:xlink=\"http://www.w3.org/1999/xlink\" contentScriptType=\"application/ecmascript\" contentStyleType=\"text/css\" height=\"12px\" preserveAspectRatio=\"none\" style=\"width:12px;height:12px;\" version=\"1.1\" viewBox=\"0 0 12 12\" width=\"12px\" zoomAndPan=\"magnify\"><defs/><g><!--MD5=[f19188ef49e11757b5c46753f95d9edc]\n",
       "@startuml\r\n",
       " skinparam monochrome true\r\n",
       "skinparam classbackgroundcolor white\r\n",
       "skinparam shadowing false\r\n",
       "skinparam wrapWidth 300\r\n",
       "hide circle\r\n",
       "\r\n",
       "@enduml\r\n",
       "\n",
       "PlantUML version 1.2020.13(Sat Jun 13 12:26:38 UTC 2020)\n",
       "(EPL source distribution)\n",
       "Java Runtime: OpenJDK Runtime Environment\n",
       "JVM: OpenJDK 64-Bit Server VM\n",
       "Default Encoding: UTF-8\n",
       "Language: en\n",
       "Country: null\n",
       "--></g></svg>"
      ]
     },
     "execution_count": 4,
     "metadata": {},
     "output_type": "execute_result"
    }
   ],
   "source": [
    "%viz --style=\"COMPTREE\" --view=\"State\" \"RequirementTest\""
   ]
  },
  {
   "cell_type": "code",
   "execution_count": 5,
   "id": "baking-individual",
   "metadata": {
    "execution": {
     "iopub.execute_input": "2021-03-25T09:26:52.733964Z",
     "iopub.status.busy": "2021-03-25T09:26:52.733435Z",
     "iopub.status.idle": "2021-03-25T09:26:52.876322Z",
     "shell.execute_reply": "2021-03-25T09:26:52.876687Z"
    }
   },
   "outputs": [
    {
     "data": {
      "image/svg+xml": [
       "<?xml version=\"1.0\" encoding=\"UTF-8\" standalone=\"no\"?><svg xmlns=\"http://www.w3.org/2000/svg\" xmlns:xlink=\"http://www.w3.org/1999/xlink\" contentScriptType=\"application/ecmascript\" contentStyleType=\"text/css\" height=\"367px\" preserveAspectRatio=\"none\" style=\"width:852px;height:367px;\" version=\"1.1\" viewBox=\"0 0 852 367\" width=\"852px\" zoomAndPan=\"magnify\"><defs/><g><!--MD5=[fbc87193dbaf4d95561dea2c320d4a47]\n",
       "cluster E1--><a href=\"psysml:7a32e4ca-d886-48d1-a22e-a4337a6af1e2\" target=\"_top\" title=\"psysml:7a32e4ca-d886-48d1-a22e-a4337a6af1e2\" xlink:actuate=\"onRequest\" xlink:href=\"psysml:7a32e4ca-d886-48d1-a22e-a4337a6af1e2\" xlink:show=\"new\" xlink:title=\"psysml:7a32e4ca-d886-48d1-a22e-a4337a6af1e2\" xlink:type=\"simple\"><polygon fill=\"#FFFFFF\" points=\"16,6,158,6,165,28.2969,830,28.2969,830,355,16,355,16,6\" style=\"stroke: #000000; stroke-width: 1.5;\"/><line style=\"stroke: #000000; stroke-width: 1.5;\" x1=\"16\" x2=\"165\" y1=\"28.2969\" y2=\"28.2969\"/><text fill=\"#000000\" font-family=\"sans-serif\" font-size=\"14\" font-weight=\"bold\" lengthAdjust=\"spacingAndGlyphs\" textLength=\"136\" x=\"20\" y=\"20.9951\">RequirementTest</text></a><!--MD5=[168fadf3d0c3fd93dd5d6da1b1d7ab76]\n",
       "cluster E7--><a href=\"psysml:9b734dfd-0e44-4ae0-bd37-d0a03d4a12cd\" target=\"_top\" title=\"psysml:9b734dfd-0e44-4ae0-bd37-d0a03d4a12cd\" xlink:actuate=\"onRequest\" xlink:href=\"psysml:9b734dfd-0e44-4ae0-bd37-d0a03d4a12cd\" xlink:show=\"new\" xlink:title=\"psysml:9b734dfd-0e44-4ae0-bd37-d0a03d4a12cd\" xlink:type=\"simple\"><rect fill=\"#FFFFFF\" height=\"209\" id=\"E7\" rx=\"10\" ry=\"10\" style=\"stroke: #383838; stroke-width: 1.5;\" width=\"213\" x=\"593\" y=\"49\"/><rect fill=\"#F8F8F8\" height=\"23.9688\" rx=\"10\" ry=\"10\" style=\"stroke: #F8F8F8; stroke-width: 1.5;\" width=\"213\" x=\"593\" y=\"49\"/><rect fill=\"#F8F8F8\" height=\"10\" style=\"stroke: #F8F8F8; stroke-width: 1.5;\" width=\"213\" x=\"593\" y=\"62.9688\"/><rect fill=\"none\" height=\"209\" id=\"E7\" rx=\"10\" ry=\"10\" style=\"stroke: #383838; stroke-width: 1.5;\" width=\"213\" x=\"593\" y=\"49\"/><text fill=\"#000000\" font-family=\"sans-serif\" font-size=\"12\" lengthAdjust=\"spacingAndGlyphs\" textLength=\"8\" x=\"695.5\" y=\"65.1387\">q</text><line style=\"stroke: #383838; stroke-width: 1.0;\" x1=\"593\" x2=\"806\" y1=\"72.9688\" y2=\"72.9688\"/></a><!--MD5=[55dfccfc6c49c2d10cd1bd2211a6c90c]\n",
       "cluster E8--><a href=\"psysml:5a1cae69-7149-47dc-88a9-208fdbfbba4b\" target=\"_top\" title=\"psysml:5a1cae69-7149-47dc-88a9-208fdbfbba4b\" xlink:actuate=\"onRequest\" xlink:href=\"psysml:5a1cae69-7149-47dc-88a9-208fdbfbba4b\" xlink:show=\"new\" xlink:title=\"psysml:5a1cae69-7149-47dc-88a9-208fdbfbba4b\" xlink:type=\"simple\"><rect fill=\"#FFFFFF\" height=\"126\" id=\"E8\" rx=\"10\" ry=\"10\" style=\"stroke: #383838; stroke-width: 1.5;\" width=\"149\" x=\"625\" y=\"100\"/><rect fill=\"#F8F8F8\" height=\"37.9375\" rx=\"10\" ry=\"10\" style=\"stroke: #F8F8F8; stroke-width: 1.5;\" width=\"149\" x=\"625\" y=\"100\"/><rect fill=\"#F8F8F8\" height=\"10\" style=\"stroke: #F8F8F8; stroke-width: 1.5;\" width=\"149\" x=\"625\" y=\"127.9375\"/><rect fill=\"none\" height=\"126\" id=\"E8\" rx=\"10\" ry=\"10\" style=\"stroke: #383838; stroke-width: 1.5;\" width=\"149\" x=\"625\" y=\"100\"/><text fill=\"#000000\" font-family=\"sans-serif\" font-size=\"12\" font-style=\"italic\" lengthAdjust=\"spacingAndGlyphs\" textLength=\"91\" x=\"654\" y=\"116.1387\">«requirement»</text><text fill=\"#000000\" font-family=\"sans-serif\" font-size=\"12\" lengthAdjust=\"spacingAndGlyphs\" textLength=\"21\" x=\"689\" y=\"130.1074\">r: R</text><line style=\"stroke: #383838; stroke-width: 1.0;\" x1=\"625\" x2=\"774\" y1=\"137.9375\" y2=\"137.9375\"/></a><g id=\"E1.E2\"><a href=\"psysml:c5fd5931-ea17-4576-af97-a79679b06835\" target=\"_top\" title=\"psysml:c5fd5931-ea17-4576-af97-a79679b06835\" xlink:actuate=\"onRequest\" xlink:href=\"psysml:c5fd5931-ea17-4576-af97-a79679b06835\" xlink:show=\"new\" xlink:title=\"psysml:c5fd5931-ea17-4576-af97-a79679b06835\" xlink:type=\"simple\"><rect fill=\"#FFFFFF\" height=\"42.9375\" id=\"E2\" style=\"stroke: #383838; stroke-width: 1.5;\" width=\"109\" x=\"467.5\" y=\"159\"/><rect fill=\"#F8F8F8\" height=\"37.9375\" style=\"stroke: #383838; stroke-width: 1.5;\" width=\"109\" x=\"467.5\" y=\"159\"/><text fill=\"#000000\" font-family=\"sans-serif\" font-size=\"12\" font-style=\"italic\" lengthAdjust=\"spacingAndGlyphs\" textLength=\"102\" x=\"471\" y=\"175.1387\">«constraint def»</text><text fill=\"#000000\" font-family=\"sans-serif\" font-size=\"12\" lengthAdjust=\"spacingAndGlyphs\" textLength=\"8\" x=\"518\" y=\"189.1074\">C</text></a></g><g id=\"E1.E4\"><a href=\"psysml:aa32b181-0a7a-45c2-8d8e-c84b0489ed31\" target=\"_top\" title=\"psysml:aa32b181-0a7a-45c2-8d8e-c84b0489ed31\" xlink:actuate=\"onRequest\" xlink:href=\"psysml:aa32b181-0a7a-45c2-8d8e-c84b0489ed31\" xlink:show=\"new\" xlink:title=\"psysml:aa32b181-0a7a-45c2-8d8e-c84b0489ed31\" xlink:type=\"simple\"><rect fill=\"#FFFFFF\" height=\"42.9375\" id=\"E4\" style=\"stroke: #383838; stroke-width: 1.5;\" width=\"122\" x=\"310\" y=\"159\"/><rect fill=\"#F8F8F8\" height=\"37.9375\" style=\"stroke: #383838; stroke-width: 1.5;\" width=\"122\" x=\"310\" y=\"159\"/><text fill=\"#000000\" font-family=\"sans-serif\" font-size=\"12\" font-style=\"italic\" lengthAdjust=\"spacingAndGlyphs\" textLength=\"115\" x=\"313.5\" y=\"175.1387\">«requirement def»</text><text fill=\"#000000\" font-family=\"sans-serif\" font-size=\"12\" lengthAdjust=\"spacingAndGlyphs\" textLength=\"8\" x=\"367\" y=\"189.1074\">R</text></a></g><g id=\"E1.E5\"><a href=\"psysml:5b4d3eaf-f72e-4f96-998b-f4a0a57df239\" target=\"_top\" title=\"psysml:5b4d3eaf-f72e-4f96-998b-f4a0a57df239\" xlink:actuate=\"onRequest\" xlink:href=\"psysml:5b4d3eaf-f72e-4f96-998b-f4a0a57df239\" xlink:show=\"new\" xlink:title=\"psysml:5b4d3eaf-f72e-4f96-998b-f4a0a57df239\" xlink:type=\"simple\"><rect fill=\"#FFFFFF\" height=\"42.9375\" id=\"E5\" style=\"stroke: #383838; stroke-width: 1.5;\" width=\"122\" x=\"153\" y=\"159\"/><rect fill=\"#F8F8F8\" height=\"37.9375\" style=\"stroke: #383838; stroke-width: 1.5;\" width=\"122\" x=\"153\" y=\"159\"/><text fill=\"#000000\" font-family=\"sans-serif\" font-size=\"12\" font-style=\"italic\" lengthAdjust=\"spacingAndGlyphs\" textLength=\"115\" x=\"156.5\" y=\"175.1387\">«requirement def»</text><text fill=\"#000000\" font-family=\"sans-serif\" font-size=\"12\" lengthAdjust=\"spacingAndGlyphs\" textLength=\"16\" x=\"206\" y=\"189.1074\">R1</text></a></g><g id=\"E1.E3\"><a href=\"psysml:23e87db0-b26a-4449-ad29-18415d83eb38\" target=\"_top\" title=\"psysml:23e87db0-b26a-4449-ad29-18415d83eb38\" xlink:actuate=\"onRequest\" xlink:href=\"psysml:23e87db0-b26a-4449-ad29-18415d83eb38\" xlink:show=\"new\" xlink:title=\"psysml:23e87db0-b26a-4449-ad29-18415d83eb38\" xlink:type=\"simple\"><rect fill=\"#FFFFFF\" height=\"42.9375\" id=\"E3\" rx=\"10\" ry=\"10\" style=\"stroke: #383838; stroke-width: 1.5;\" width=\"85\" x=\"32.5\" y=\"159\"/><rect fill=\"#F8F8F8\" height=\"37.9375\" rx=\"10\" ry=\"10\" style=\"stroke: #F8F8F8; stroke-width: 1.5;\" width=\"85\" x=\"32.5\" y=\"159\"/><rect fill=\"#F8F8F8\" height=\"10\" style=\"stroke: #F8F8F8; stroke-width: 1.5;\" width=\"85\" x=\"32.5\" y=\"186.9375\"/><rect fill=\"none\" height=\"42.9375\" id=\"E3\" rx=\"10\" ry=\"10\" style=\"stroke: #383838; stroke-width: 1.5;\" width=\"85\" x=\"32.5\" y=\"159\"/><text fill=\"#000000\" font-family=\"sans-serif\" font-size=\"12\" font-style=\"italic\" lengthAdjust=\"spacingAndGlyphs\" textLength=\"78\" x=\"36\" y=\"175.1387\">«constraint»</text><text fill=\"#000000\" font-family=\"sans-serif\" font-size=\"12\" lengthAdjust=\"spacingAndGlyphs\" textLength=\"23\" x=\"63.5\" y=\"189.1074\">c: C</text></a></g><g id=\"E1.E6\"><a href=\"psysml:8fb932f6-fc92-43ad-aa0e-8cfa7b71c9b3\" target=\"_top\" title=\"psysml:8fb932f6-fc92-43ad-aa0e-8cfa7b71c9b3\" xlink:actuate=\"onRequest\" xlink:href=\"psysml:8fb932f6-fc92-43ad-aa0e-8cfa7b71c9b3\" xlink:show=\"new\" xlink:title=\"psysml:8fb932f6-fc92-43ad-aa0e-8cfa7b71c9b3\" xlink:type=\"simple\"><rect fill=\"#FFFFFF\" height=\"40\" id=\"E6\" rx=\"10\" ry=\"10\" style=\"stroke: #383838; stroke-width: 1.5;\" width=\"50\" x=\"608\" y=\"299\"/><rect fill=\"#F8F8F8\" height=\"23.9688\" rx=\"10\" ry=\"10\" style=\"stroke: #F8F8F8; stroke-width: 1.5;\" width=\"50\" x=\"608\" y=\"299\"/><rect fill=\"#F8F8F8\" height=\"10\" style=\"stroke: #F8F8F8; stroke-width: 1.5;\" width=\"50\" x=\"608\" y=\"312.9688\"/><rect fill=\"none\" height=\"40\" id=\"E6\" rx=\"10\" ry=\"10\" style=\"stroke: #383838; stroke-width: 1.5;\" width=\"50\" x=\"608\" y=\"299\"/><text fill=\"#000000\" font-family=\"sans-serif\" font-size=\"12\" lengthAdjust=\"spacingAndGlyphs\" textLength=\"8\" x=\"629\" y=\"315.1387\">p</text></a></g><g id=\"E1.E7.E8.E9\"><a href=\"psysml:ebf9f55c-b0ce-46a7-820d-0de32b7e0555\" target=\"_top\" title=\"psysml:ebf9f55c-b0ce-46a7-820d-0de32b7e0555\" xlink:actuate=\"onRequest\" xlink:href=\"psysml:ebf9f55c-b0ce-46a7-820d-0de32b7e0555\" xlink:show=\"new\" xlink:title=\"psysml:ebf9f55c-b0ce-46a7-820d-0de32b7e0555\" xlink:type=\"simple\"><rect fill=\"#FFFFFF\" height=\"42.9375\" id=\"E9\" rx=\"10\" ry=\"10\" style=\"stroke: #383838; stroke-width: 1.5;\" width=\"82\" x=\"668\" y=\"159\"/><rect fill=\"#F8F8F8\" height=\"37.9375\" rx=\"10\" ry=\"10\" style=\"stroke: #F8F8F8; stroke-width: 1.5;\" width=\"82\" x=\"668\" y=\"159\"/><rect fill=\"#F8F8F8\" height=\"10\" style=\"stroke: #F8F8F8; stroke-width: 1.5;\" width=\"82\" x=\"668\" y=\"186.9375\"/><rect fill=\"none\" height=\"42.9375\" id=\"E9\" rx=\"10\" ry=\"10\" style=\"stroke: #383838; stroke-width: 1.5;\" width=\"82\" x=\"668\" y=\"159\"/><text fill=\"#000000\" font-family=\"sans-serif\" font-size=\"12\" font-style=\"italic\" lengthAdjust=\"spacingAndGlyphs\" textLength=\"75\" x=\"671.5\" y=\"175.1387\">«reference»</text><text fill=\"#000000\" font-family=\"sans-serif\" font-size=\"12\" lengthAdjust=\"spacingAndGlyphs\" textLength=\"26\" x=\"696\" y=\"189.1074\">subj</text></a></g><!--MD5=[c5e8897d989ce984f93528998a7150fe]\n",
       "link E8 to E6--><a href=\"psysml:69852053-465c-4b3e-807c-2facd65a229c\" target=\"_top\" title=\"psysml:69852053-465c-4b3e-807c-2facd65a229c\" xlink:actuate=\"onRequest\" xlink:href=\"psysml:69852053-465c-4b3e-807c-2facd65a229c\" xlink:show=\"new\" xlink:title=\"psysml:69852053-465c-4b3e-807c-2facd65a229c\" xlink:type=\"simple\"><path d=\"M633,226.4501 C633,227.1713 633,227.8965 633,228.6252 C633,230.0826 633,231.5543 633,233.0372 C633,236.003 633,239.0136 633,242.0448 C633,248.1072 633,254.2518 633,260.2839 C633,272.3481 633,283.9625 633,293.57 \" fill=\"none\" id=\"E8-&gt;E6\" style=\"stroke: #383838; stroke-width: 1.0; stroke-dasharray: 7.0,7.0;\"/><polygon fill=\"#383838\" points=\"633,298.99,637,289.99,633,293.99,629,289.99,633,298.99\" style=\"stroke: #383838; stroke-width: 1.0;\"/><text fill=\"#000000\" font-family=\"sans-serif\" font-size=\"13\" lengthAdjust=\"spacingAndGlyphs\" textLength=\"57\" x=\"634\" y=\"287.0669\">«satisfy»</text></a><!--MD5=[15af0f24c6704bbb6860a3e8d23a1e7d]\n",
       "@startuml\r\n",
       "skinparam ranksep 8\r\n",
       "skinparam rectangle {\r\n",
       " backgroundColor<<block>> LightGreen\r\n",
       "}\r\n",
       " skinparam monochrome true\r\n",
       "skinparam classbackgroundcolor white\r\n",
       "skinparam shadowing false\r\n",
       "skinparam wrapWidth 300\r\n",
       "hide circle\r\n",
       "\r\n",
       "package \"RequirementTest\" as E1  [[psysml:7a32e4ca-d886-48d1-a22e-a4337a6af1e2 ]]  {\r\n",
       "def \"C\" as E2  <<(T,blue)constraint def>> [[psysml:c5fd5931-ea17-4576-af97-a79679b06835 ]] \r\n",
       "rec usage \"c: C\" as E3  <<(T,blue)constraint>> [[psysml:23e87db0-b26a-4449-ad29-18415d83eb38 ]] {\r\n",
       "}\r\n",
       "def \"R\" as E4  <<(T,blue)requirement def>> [[psysml:aa32b181-0a7a-45c2-8d8e-c84b0489ed31 ]] \r\n",
       "def \"R1\" as E5  <<(T,blue)requirement def>> [[psysml:5b4d3eaf-f72e-4f96-998b-f4a0a57df239 ]] \r\n",
       "rec usage \"p\" as E6  [[psysml:8fb932f6-fc92-43ad-aa0e-8cfa7b71c9b3 ]] {\r\n",
       "}\r\n",
       "rec usage \"q\" as E7  [[psysml:9b734dfd-0e44-4ae0-bd37-d0a03d4a12cd ]] {\r\n",
       "rec usage \"r: R\" as E8  <<(T,blue)requirement>> [[psysml:5a1cae69-7149-47dc-88a9-208fdbfbba4b ]] {\r\n",
       "rec usage \"subj\" as E9  <<(T,blue)reference>> [[psysml:ebf9f55c-b0ce-46a7-820d-0de32b7e0555 ]] {\r\n",
       "}\r\n",
       "}\r\n",
       "}\r\n",
       "E8 ..> E6 [[psysml:69852053-465c-4b3e-807c-2facd65a229c ]] : <<satisfy>>\r\n",
       "}\r\n",
       "@enduml\r\n",
       "\n",
       "PlantUML version 1.2020.13(Sat Jun 13 12:26:38 UTC 2020)\n",
       "(EPL source distribution)\n",
       "Java Runtime: OpenJDK Runtime Environment\n",
       "JVM: OpenJDK 64-Bit Server VM\n",
       "Default Encoding: UTF-8\n",
       "Language: en\n",
       "Country: null\n",
       "--></g></svg>"
      ]
     },
     "execution_count": 5,
     "metadata": {},
     "output_type": "execute_result"
    }
   ],
   "source": [
    "%viz --style=\"COMPTREE\" --view=\"Interconnection\" \"RequirementTest\""
   ]
  },
  {
   "cell_type": "code",
   "execution_count": 6,
   "id": "japanese-saint",
   "metadata": {
    "execution": {
     "iopub.execute_input": "2021-03-25T09:26:52.926992Z",
     "iopub.status.busy": "2021-03-25T09:26:52.926599Z",
     "iopub.status.idle": "2021-03-25T09:26:52.936687Z",
     "shell.execute_reply": "2021-03-25T09:26:52.937410Z"
    }
   },
   "outputs": [
    {
     "data": {
      "image/svg+xml": [
       "<?xml version=\"1.0\" encoding=\"UTF-8\" standalone=\"no\"?><svg xmlns=\"http://www.w3.org/2000/svg\" xmlns:xlink=\"http://www.w3.org/1999/xlink\" contentScriptType=\"application/ecmascript\" contentStyleType=\"text/css\" height=\"12px\" preserveAspectRatio=\"none\" style=\"width:12px;height:12px;\" version=\"1.1\" viewBox=\"0 0 12 12\" width=\"12px\" zoomAndPan=\"magnify\"><defs/><g><!--MD5=[655b888544ca4751ea36af1068543f84]\n",
       "@startuml\r\n",
       "skinparam ranksep 8\r\n",
       " skinparam monochrome true\r\n",
       "skinparam classbackgroundcolor white\r\n",
       "skinparam shadowing false\r\n",
       "skinparam wrapWidth 300\r\n",
       "hide circle\r\n",
       "\r\n",
       "@enduml\r\n",
       "\n",
       "PlantUML version 1.2020.13(Sat Jun 13 12:26:38 UTC 2020)\n",
       "(EPL source distribution)\n",
       "Java Runtime: OpenJDK Runtime Environment\n",
       "JVM: OpenJDK 64-Bit Server VM\n",
       "Default Encoding: UTF-8\n",
       "Language: en\n",
       "Country: null\n",
       "--></g></svg>"
      ]
     },
     "execution_count": 6,
     "metadata": {},
     "output_type": "execute_result"
    }
   ],
   "source": [
    "%viz --style=\"COMPTREE\" --view=\"Action\" \"RequirementTest\""
   ]
  },
  {
   "cell_type": "code",
   "execution_count": 7,
   "id": "specialized-bridge",
   "metadata": {
    "execution": {
     "iopub.execute_input": "2021-03-25T09:26:52.990660Z",
     "iopub.status.busy": "2021-03-25T09:26:52.990138Z",
     "iopub.status.idle": "2021-03-25T09:26:53.866578Z",
     "shell.execute_reply": "2021-03-25T09:26:53.864889Z"
    }
   },
   "outputs": [
    {
     "data": {
      "image/svg+xml": [
       "<?xml version=\"1.0\" encoding=\"UTF-8\" standalone=\"no\"?><svg xmlns=\"http://www.w3.org/2000/svg\" xmlns:xlink=\"http://www.w3.org/1999/xlink\" contentScriptType=\"application/ecmascript\" contentStyleType=\"text/css\" height=\"578px\" preserveAspectRatio=\"none\" style=\"width:408px;height:578px;\" version=\"1.1\" viewBox=\"0 0 408 578\" width=\"408px\" zoomAndPan=\"magnify\"><defs/><g><!--MD5=[fbc87193dbaf4d95561dea2c320d4a47]\n",
       "cluster E1--><a href=\"psysml:7a32e4ca-d886-48d1-a22e-a4337a6af1e2\" target=\"_top\" title=\"psysml:7a32e4ca-d886-48d1-a22e-a4337a6af1e2\" xlink:actuate=\"onRequest\" xlink:href=\"psysml:7a32e4ca-d886-48d1-a22e-a4337a6af1e2\" xlink:show=\"new\" xlink:title=\"psysml:7a32e4ca-d886-48d1-a22e-a4337a6af1e2\" xlink:type=\"simple\"><polygon fill=\"#FFFFFF\" points=\"16,6,158,6,165,28.2969,386,28.2969,386,566,16,566,16,6\" style=\"stroke: #000000; stroke-width: 1.5;\"/><line style=\"stroke: #000000; stroke-width: 1.5;\" x1=\"16\" x2=\"165\" y1=\"28.2969\" y2=\"28.2969\"/><text fill=\"#000000\" font-family=\"sans-serif\" font-size=\"14\" font-weight=\"bold\" lengthAdjust=\"spacingAndGlyphs\" textLength=\"136\" x=\"20\" y=\"20.9951\">RequirementTest</text></a><!--MD5=[b4997ac47864f28c2f74865a473b2911]\n",
       "class E2--><a href=\"psysml:c5fd5931-ea17-4576-af97-a79679b06835\" target=\"_top\" title=\"psysml:c5fd5931-ea17-4576-af97-a79679b06835\" xlink:actuate=\"onRequest\" xlink:href=\"psysml:c5fd5931-ea17-4576-af97-a79679b06835\" xlink:show=\"new\" xlink:title=\"psysml:c5fd5931-ea17-4576-af97-a79679b06835\" xlink:type=\"simple\"><rect fill=\"#FFFFFF\" height=\"45.9375\" id=\"E2\" style=\"stroke: #383838; stroke-width: 1.5;\" width=\"104\" x=\"266\" y=\"190\"/><text fill=\"#000000\" font-family=\"sans-serif\" font-size=\"12\" font-style=\"italic\" lengthAdjust=\"spacingAndGlyphs\" textLength=\"102\" x=\"267\" y=\"206.1387\">«constraint def»</text><text fill=\"#000000\" font-family=\"sans-serif\" font-size=\"12\" lengthAdjust=\"spacingAndGlyphs\" textLength=\"8\" x=\"314\" y=\"220.1074\">C</text><line style=\"stroke: #383838; stroke-width: 1.5;\" x1=\"267\" x2=\"369\" y1=\"227.9375\" y2=\"227.9375\"/></a><!--MD5=[09b614a08d8cba4a07c9adeb5e0fee81]\n",
       "class E3--><a href=\"psysml:23e87db0-b26a-4449-ad29-18415d83eb38\" target=\"_top\" title=\"psysml:23e87db0-b26a-4449-ad29-18415d83eb38\" xlink:actuate=\"onRequest\" xlink:href=\"psysml:23e87db0-b26a-4449-ad29-18415d83eb38\" xlink:show=\"new\" xlink:title=\"psysml:23e87db0-b26a-4449-ad29-18415d83eb38\" xlink:type=\"simple\"><rect fill=\"#FFFFFF\" height=\"45.9375\" id=\"E3\" rx=\"10\" ry=\"10\" style=\"stroke: #383838; stroke-width: 1.5;\" width=\"80\" x=\"290\" y=\"62\"/><text fill=\"#000000\" font-family=\"sans-serif\" font-size=\"12\" font-style=\"italic\" lengthAdjust=\"spacingAndGlyphs\" textLength=\"78\" x=\"291\" y=\"78.1387\">«constraint»</text><text fill=\"#000000\" font-family=\"sans-serif\" font-size=\"12\" lengthAdjust=\"spacingAndGlyphs\" textLength=\"23\" x=\"318.5\" y=\"92.1074\">c: C</text><line style=\"stroke: #383838; stroke-width: 1.5;\" x1=\"291\" x2=\"369\" y1=\"99.9375\" y2=\"99.9375\"/></a><!--MD5=[ebbe1d658d1005bcc118a6aa81145e00]\n",
       "class E4--><a href=\"psysml:aa32b181-0a7a-45c2-8d8e-c84b0489ed31\" target=\"_top\" title=\"psysml:aa32b181-0a7a-45c2-8d8e-c84b0489ed31\" xlink:actuate=\"onRequest\" xlink:href=\"psysml:aa32b181-0a7a-45c2-8d8e-c84b0489ed31\" xlink:show=\"new\" xlink:title=\"psysml:aa32b181-0a7a-45c2-8d8e-c84b0489ed31\" xlink:type=\"simple\"><rect fill=\"#FFFFFF\" height=\"109.1563\" id=\"E4\" style=\"stroke: #383838; stroke-width: 1.5;\" width=\"117\" x=\"32.5\" y=\"313\"/><text fill=\"#000000\" font-family=\"sans-serif\" font-size=\"12\" font-style=\"italic\" lengthAdjust=\"spacingAndGlyphs\" textLength=\"115\" x=\"33.5\" y=\"329.1387\">«requirement def»</text><text fill=\"#000000\" font-family=\"sans-serif\" font-size=\"12\" lengthAdjust=\"spacingAndGlyphs\" textLength=\"8\" x=\"87\" y=\"343.1074\">R</text><line style=\"stroke: #383838; stroke-width: 1.5;\" x1=\"33.5\" x2=\"148.5\" y1=\"350.9375\" y2=\"350.9375\"/><text fill=\"#000000\" font-family=\"sans-serif\" font-size=\"11\" lengthAdjust=\"spacingAndGlyphs\" textLength=\"0\" x=\"42.5\" y=\"365.1479\"/><line style=\"stroke: #383838; stroke-width: 1.0;\" x1=\"33.5\" x2=\"148.5\" y1=\"371.7422\" y2=\"371.7422\"/><text fill=\"#000000\" font-family=\"sans-serif\" font-size=\"11\" font-weight=\"bold\" lengthAdjust=\"spacingAndGlyphs\" textLength=\"46\" x=\"38.5\" y=\"402.7573\">require</text><text fill=\"#000000\" font-family=\"sans-serif\" font-size=\"11\" lengthAdjust=\"spacingAndGlyphs\" textLength=\"6\" x=\"88.5\" y=\"402.7573\">c</text><text fill=\"#000000\" font-family=\"sans-serif\" font-size=\"11\" font-style=\"italic\" lengthAdjust=\"spacingAndGlyphs\" textLength=\"46\" x=\"38.5\" y=\"415.562\">assume</text><text fill=\"#000000\" font-family=\"sans-serif\" font-size=\"11\" lengthAdjust=\"spacingAndGlyphs\" textLength=\"29\" x=\"88.5\" y=\"415.562\">c1: C</text><line style=\"stroke: #383838; stroke-width: 1.0;\" x1=\"33.5\" x2=\"59\" y1=\"386.1445\" y2=\"386.1445\"/><text fill=\"#000000\" font-family=\"sans-serif\" font-size=\"11\" lengthAdjust=\"spacingAndGlyphs\" textLength=\"64\" x=\"59\" y=\"389.4526\">constraints</text><line style=\"stroke: #383838; stroke-width: 1.0;\" x1=\"123\" x2=\"148.5\" y1=\"386.1445\" y2=\"386.1445\"/></a><!--MD5=[270fce915f116d4de14055a7c1d9a0f3]\n",
       "class E5--><a href=\"psysml:c7a4f64d-f76e-4f11-bab9-561a5696e580\" target=\"_top\" title=\"psysml:c7a4f64d-f76e-4f11-bab9-561a5696e580\" xlink:actuate=\"onRequest\" xlink:href=\"psysml:c7a4f64d-f76e-4f11-bab9-561a5696e580\" xlink:show=\"new\" xlink:title=\"psysml:c7a4f64d-f76e-4f11-bab9-561a5696e580\" xlink:type=\"simple\"><rect fill=\"#FFFFFF\" height=\"66.7422\" id=\"E5\" style=\"stroke: #383838; stroke-width: 1.5;\" width=\"117\" x=\"32.5\" y=\"483\"/><text fill=\"#000000\" font-family=\"sans-serif\" font-size=\"12\" font-style=\"italic\" lengthAdjust=\"spacingAndGlyphs\" textLength=\"115\" x=\"33.5\" y=\"499.1387\">«requirement def»</text><text fill=\"#000000\" font-family=\"sans-serif\" font-size=\"12\" lengthAdjust=\"spacingAndGlyphs\" textLength=\"5\" x=\"78\" y=\"513.1074\">[</text><text fill=\"#000000\" font-family=\"sans-serif\" font-size=\"12\" font-weight=\"bold\" lengthAdjust=\"spacingAndGlyphs\" textLength=\"8\" x=\"83\" y=\"513.1074\">1</text><text fill=\"#000000\" font-family=\"sans-serif\" font-size=\"12\" lengthAdjust=\"spacingAndGlyphs\" textLength=\"17\" x=\"91\" y=\"513.1074\">] A</text><line style=\"stroke: #383838; stroke-width: 1.5;\" x1=\"33.5\" x2=\"148.5\" y1=\"520.9375\" y2=\"520.9375\"/><text fill=\"#000000\" font-family=\"sans-serif\" font-size=\"11\" lengthAdjust=\"spacingAndGlyphs\" textLength=\"24\" x=\"38.5\" y=\"535.1479\">Text</text><line style=\"stroke: #383838; stroke-width: 1.0;\" x1=\"33.5\" x2=\"148.5\" y1=\"541.7422\" y2=\"541.7422\"/></a><!--MD5=[b9389687b975829384b498ac4b7476b2]\n",
       "class E8--><a href=\"psysml:165156c7-6d13-47e8-9214-4efd9fbee902\" target=\"_top\" title=\"psysml:165156c7-6d13-47e8-9214-4efd9fbee902\" xlink:actuate=\"onRequest\" xlink:href=\"psysml:165156c7-6d13-47e8-9214-4efd9fbee902\" xlink:show=\"new\" xlink:title=\"psysml:165156c7-6d13-47e8-9214-4efd9fbee902\" xlink:type=\"simple\"><rect fill=\"#FFFFFF\" height=\"45.9375\" id=\"E8\" rx=\"10\" ry=\"10\" style=\"stroke: #383838; stroke-width: 1.5;\" width=\"93\" x=\"184.5\" y=\"493.5\"/><text fill=\"#000000\" font-family=\"sans-serif\" font-size=\"12\" font-style=\"italic\" lengthAdjust=\"spacingAndGlyphs\" textLength=\"91\" x=\"185.5\" y=\"509.6387\">«requirement»</text><text fill=\"#000000\" font-family=\"sans-serif\" font-size=\"12\" lengthAdjust=\"spacingAndGlyphs\" text-decoration=\"line-through\" textLength=\"51\" x=\"205.5\" y=\"523.6074\">noname</text><line style=\"stroke: #383838; stroke-width: 1.5;\" x1=\"185.5\" x2=\"276.5\" y1=\"531.4375\" y2=\"531.4375\"/></a><!--MD5=[fd4143e9d270a159db93a4ea2a975926]\n",
       "class E9--><a href=\"psysml:5b4d3eaf-f72e-4f96-998b-f4a0a57df239\" target=\"_top\" title=\"psysml:5b4d3eaf-f72e-4f96-998b-f4a0a57df239\" xlink:actuate=\"onRequest\" xlink:href=\"psysml:5b4d3eaf-f72e-4f96-998b-f4a0a57df239\" xlink:show=\"new\" xlink:title=\"psysml:5b4d3eaf-f72e-4f96-998b-f4a0a57df239\" xlink:type=\"simple\"><rect fill=\"#FFFFFF\" height=\"88.3516\" id=\"E9\" style=\"stroke: #383838; stroke-width: 1.5;\" width=\"145\" x=\"109.5\" y=\"41\"/><text fill=\"#000000\" font-family=\"sans-serif\" font-size=\"12\" font-style=\"italic\" lengthAdjust=\"spacingAndGlyphs\" textLength=\"115\" x=\"124.5\" y=\"57.1387\">«requirement def»</text><text fill=\"#000000\" font-family=\"sans-serif\" font-size=\"12\" lengthAdjust=\"spacingAndGlyphs\" textLength=\"16\" x=\"174\" y=\"71.1074\">R1</text><line style=\"stroke: #383838; stroke-width: 1.5;\" x1=\"110.5\" x2=\"253.5\" y1=\"78.9375\" y2=\"78.9375\"/><text fill=\"#000000\" font-family=\"sans-serif\" font-size=\"11\" font-weight=\"bold\" lengthAdjust=\"spacingAndGlyphs\" textLength=\"46\" x=\"115.5\" y=\"109.9526\">require</text><text fill=\"#000000\" font-family=\"sans-serif\" font-size=\"11\" lengthAdjust=\"spacingAndGlyphs\" textLength=\"13\" x=\"165.5\" y=\"109.9526\">c1</text><text fill=\"#000000\" font-family=\"sans-serif\" font-size=\"11\" font-style=\"italic\" lengthAdjust=\"spacingAndGlyphs\" textLength=\"133\" x=\"115.5\" y=\"122.7573\">:&gt;&gt;RequirementTest::c</text><line style=\"stroke: #383838; stroke-width: 1.0;\" x1=\"110.5\" x2=\"150\" y1=\"93.3398\" y2=\"93.3398\"/><text fill=\"#000000\" font-family=\"sans-serif\" font-size=\"11\" lengthAdjust=\"spacingAndGlyphs\" textLength=\"64\" x=\"150\" y=\"96.6479\">constraints</text><line style=\"stroke: #383838; stroke-width: 1.0;\" x1=\"214\" x2=\"253.5\" y1=\"93.3398\" y2=\"93.3398\"/></a><!--MD5=[1dd1bfd58a279cf63c5f349dbc8fc6a1]\n",
       "class E11--><a href=\"psysml:8fb932f6-fc92-43ad-aa0e-8cfa7b71c9b3\" target=\"_top\" title=\"psysml:8fb932f6-fc92-43ad-aa0e-8cfa7b71c9b3\" xlink:actuate=\"onRequest\" xlink:href=\"psysml:8fb932f6-fc92-43ad-aa0e-8cfa7b71c9b3\" xlink:show=\"new\" xlink:title=\"psysml:8fb932f6-fc92-43ad-aa0e-8cfa7b71c9b3\" xlink:type=\"simple\"><rect fill=\"#FFFFFF\" height=\"45.9375\" id=\"E11\" rx=\"10\" ry=\"10\" style=\"stroke: #383838; stroke-width: 1.5;\" width=\"42\" x=\"185\" y=\"344.5\"/><text fill=\"#000000\" font-family=\"sans-serif\" font-size=\"12\" font-style=\"italic\" lengthAdjust=\"spacingAndGlyphs\" textLength=\"40\" x=\"186\" y=\"360.6387\">«part»</text><text fill=\"#000000\" font-family=\"sans-serif\" font-size=\"12\" lengthAdjust=\"spacingAndGlyphs\" textLength=\"8\" x=\"202\" y=\"374.6074\">p</text><line style=\"stroke: #383838; stroke-width: 1.5;\" x1=\"186\" x2=\"226\" y1=\"382.4375\" y2=\"382.4375\"/></a><!--MD5=[49a0ec8f00dab7302a31f22d0f0fe584]\n",
       "class E12--><a href=\"psysml:9b734dfd-0e44-4ae0-bd37-d0a03d4a12cd\" target=\"_top\" title=\"psysml:9b734dfd-0e44-4ae0-bd37-d0a03d4a12cd\" xlink:actuate=\"onRequest\" xlink:href=\"psysml:9b734dfd-0e44-4ae0-bd37-d0a03d4a12cd\" xlink:show=\"new\" xlink:title=\"psysml:9b734dfd-0e44-4ae0-bd37-d0a03d4a12cd\" xlink:type=\"simple\"><rect fill=\"#FFFFFF\" height=\"45.9375\" id=\"E12\" rx=\"10\" ry=\"10\" style=\"stroke: #383838; stroke-width: 1.5;\" width=\"42\" x=\"32\" y=\"62\"/><text fill=\"#000000\" font-family=\"sans-serif\" font-size=\"12\" font-style=\"italic\" lengthAdjust=\"spacingAndGlyphs\" textLength=\"40\" x=\"33\" y=\"78.1387\">«part»</text><text fill=\"#000000\" font-family=\"sans-serif\" font-size=\"12\" lengthAdjust=\"spacingAndGlyphs\" textLength=\"8\" x=\"49\" y=\"92.1074\">q</text><line style=\"stroke: #383838; stroke-width: 1.5;\" x1=\"33\" x2=\"73\" y1=\"99.9375\" y2=\"99.9375\"/></a><!--MD5=[ee3c913d1a06f366521f9ef512b67efe]\n",
       "class E13--><a href=\"psysml:5a1cae69-7149-47dc-88a9-208fdbfbba4b\" target=\"_top\" title=\"psysml:5a1cae69-7149-47dc-88a9-208fdbfbba4b\" xlink:actuate=\"onRequest\" xlink:href=\"psysml:5a1cae69-7149-47dc-88a9-208fdbfbba4b\" xlink:show=\"new\" xlink:title=\"psysml:5a1cae69-7149-47dc-88a9-208fdbfbba4b\" xlink:type=\"simple\"><rect fill=\"#FFFFFF\" height=\"45.9375\" id=\"E13\" rx=\"10\" ry=\"10\" style=\"stroke: #383838; stroke-width: 1.5;\" width=\"93\" x=\"44.5\" y=\"190\"/><text fill=\"#000000\" font-family=\"sans-serif\" font-size=\"12\" font-style=\"italic\" lengthAdjust=\"spacingAndGlyphs\" textLength=\"91\" x=\"45.5\" y=\"206.1387\">«requirement»</text><text fill=\"#000000\" font-family=\"sans-serif\" font-size=\"12\" lengthAdjust=\"spacingAndGlyphs\" textLength=\"21\" x=\"80.5\" y=\"220.1074\">r: R</text><line style=\"stroke: #383838; stroke-width: 1.5;\" x1=\"45.5\" x2=\"136.5\" y1=\"227.9375\" y2=\"227.9375\"/></a><!--MD5=[05d275557350bfb9b23a4ef7222b4c39]\n",
       "link E3 to E2--><a href=\"psysml:bb92853b-9a42-4685-9891-57f30cbf18f8\" target=\"_top\" title=\"psysml:bb92853b-9a42-4685-9891-57f30cbf18f8\" xlink:actuate=\"onRequest\" xlink:href=\"psysml:bb92853b-9a42-4685-9891-57f30cbf18f8\" xlink:show=\"new\" xlink:title=\"psysml:bb92853b-9a42-4685-9891-57f30cbf18f8\" xlink:type=\"simple\"><path d=\"M327.88,108.24 C326.26,125.24 323.98,149.19 322.02,169.79 \" fill=\"none\" id=\"E3-&gt;E2\" style=\"stroke: #383838; stroke-width: 1.0;\"/><polygon fill=\"#FFFFFF\" points=\"320.1,189.99,314.9362,170.411,328.8729,171.7407,320.1,189.99\" style=\"stroke: #383838; stroke-width: 1.0;\"/><ellipse cx=\"317.4685\" cy=\"164.9268\" fill=\"#383838\" rx=\"2\" ry=\"2\" style=\"stroke: #383838; stroke-width: 1.0;\"/><ellipse cx=\"327.4233\" cy=\"165.8765\" fill=\"#383838\" rx=\"2\" ry=\"2\" style=\"stroke: #383838; stroke-width: 1.0;\"/></a><!--MD5=[62aa6af11e70f752912c1cb0466f24f7]\n",
       "reverse link E4 to E5--><a href=\"psysml:c7a4f64d-f76e-4f11-bab9-561a5696e580\" target=\"_top\" title=\"psysml:c7a4f64d-f76e-4f11-bab9-561a5696e580\" xlink:actuate=\"onRequest\" xlink:href=\"psysml:c7a4f64d-f76e-4f11-bab9-561a5696e580\" xlink:show=\"new\" xlink:title=\"psysml:c7a4f64d-f76e-4f11-bab9-561a5696e580\" xlink:type=\"simple\"><path d=\"M91,437.45 C91,453.34 91,469.51 91,482.98 \" fill=\"none\" id=\"E4&lt;-E5\" style=\"stroke: #383838; stroke-width: 1.0;\"/><ellipse cx=\"91\" cy=\"430.4\" fill=\"#FFFFFF\" rx=\"8\" ry=\"8\" style=\"stroke: #383838; stroke-width: 1.0;\"/><line style=\"stroke: #383838; stroke-width: 1.0;\" x1=\"91\" x2=\"91\" y1=\"438.4\" y2=\"422.4\"/><line style=\"stroke: #383838; stroke-width: 1.0;\" x1=\"83\" x2=\"99\" y1=\"430.4\" y2=\"430.4\"/></a><!--MD5=[c6fc7cdb0cabde04948078cf183fa696]\n",
       "reverse link E4 to E8--><a href=\"psysml:165156c7-6d13-47e8-9214-4efd9fbee902\" target=\"_top\" title=\"psysml:165156c7-6d13-47e8-9214-4efd9fbee902\" xlink:actuate=\"onRequest\" xlink:href=\"psysml:165156c7-6d13-47e8-9214-4efd9fbee902\" xlink:show=\"new\" xlink:title=\"psysml:165156c7-6d13-47e8-9214-4efd9fbee902\" xlink:type=\"simple\"><path d=\"M151.51,432.04 C172.42,453.99 194.47,477.14 210.03,493.48 \" fill=\"none\" id=\"E4&lt;-E8\" style=\"stroke: #383838; stroke-width: 1.0;\"/><polygon fill=\"#383838\" points=\"142.34,422.4,143.5779,429.5041,150.6116,431.0937,149.3737,423.9897,142.34,422.4\" style=\"stroke: #383838; stroke-width: 1.0;\"/></a><!--MD5=[062ed86c389d1a88f61c6380d0491e17]\n",
       "reverse link E12 to E13--><a href=\"psysml:5a1cae69-7149-47dc-88a9-208fdbfbba4b\" target=\"_top\" title=\"psysml:5a1cae69-7149-47dc-88a9-208fdbfbba4b\" xlink:actuate=\"onRequest\" xlink:href=\"psysml:5a1cae69-7149-47dc-88a9-208fdbfbba4b\" xlink:show=\"new\" xlink:title=\"psysml:5a1cae69-7149-47dc-88a9-208fdbfbba4b\" xlink:type=\"simple\"><path d=\"M63.49,120.8 C70.17,142.92 78.6,170.89 84.36,189.99 \" fill=\"none\" id=\"E12&lt;-E13\" style=\"stroke: #383838; stroke-width: 1.0;\"/><polygon fill=\"#383838\" points=\"59.71,108.24,57.6129,115.1394,63.1751,119.7288,65.2722,112.8294,59.71,108.24\" style=\"stroke: #383838; stroke-width: 1.0;\"/></a><!--MD5=[017847e01ff9a8bd19f247411074f987]\n",
       "link E13 to E4--><a href=\"psysml:9a693856-e1d7-4623-99b4-c4529bf04054\" target=\"_top\" title=\"psysml:9a693856-e1d7-4623-99b4-c4529bf04054\" xlink:actuate=\"onRequest\" xlink:href=\"psysml:9a693856-e1d7-4623-99b4-c4529bf04054\" xlink:show=\"new\" xlink:title=\"psysml:9a693856-e1d7-4623-99b4-c4529bf04054\" xlink:type=\"simple\"><path d=\"M91,236.17 C91,251.17 91,271.91 91,292.44 \" fill=\"none\" id=\"E13-&gt;E4\" style=\"stroke: #383838; stroke-width: 1.0;\"/><polygon fill=\"#FFFFFF\" points=\"91,312.68,84,293.68,98,293.68,91,312.68\" style=\"stroke: #383838; stroke-width: 1.0;\"/><ellipse cx=\"86\" cy=\"287.98\" fill=\"#383838\" rx=\"2\" ry=\"2\" style=\"stroke: #383838; stroke-width: 1.0;\"/><ellipse cx=\"96\" cy=\"287.98\" fill=\"#383838\" rx=\"2\" ry=\"2\" style=\"stroke: #383838; stroke-width: 1.0;\"/></a><!--MD5=[2cfe899c895462254056921bfb67315f]\n",
       "link E13 to E11--><a href=\"psysml:69852053-465c-4b3e-807c-2facd65a229c\" target=\"_top\" title=\"psysml:69852053-465c-4b3e-807c-2facd65a229c\" xlink:actuate=\"onRequest\" xlink:href=\"psysml:69852053-465c-4b3e-807c-2facd65a229c\" xlink:show=\"new\" xlink:title=\"psysml:69852053-465c-4b3e-807c-2facd65a229c\" xlink:type=\"simple\"><path d=\"M108.36,236.29 C123.87,256.28 147.14,286.45 167,313 C173.57,321.78 180.66,331.44 186.97,340.12 \" fill=\"none\" id=\"E13-&gt;E11\" style=\"stroke: #383838; stroke-width: 1.0; stroke-dasharray: 7.0,7.0;\"/><polygon fill=\"#383838\" points=\"189.99,344.28,187.9274,334.6496,187.0474,340.2376,181.4594,339.3576,189.99,344.28\" style=\"stroke: #383838; stroke-width: 1.0;\"/><text fill=\"#000000\" font-family=\"sans-serif\" font-size=\"13\" lengthAdjust=\"spacingAndGlyphs\" textLength=\"57\" x=\"145\" y=\"279.0669\">«satisfy»</text></a><!--MD5=[781d001d67364ed6373d09c4afe435e8]\n",
       "@startuml\r\n",
       " skinparam monochrome true\r\n",
       "skinparam classbackgroundcolor white\r\n",
       "skinparam shadowing false\r\n",
       "skinparam wrapWidth 300\r\n",
       "hide circle\r\n",
       "\r\n",
       "package \"RequirementTest\" as E1  [[psysml:7a32e4ca-d886-48d1-a22e-a4337a6af1e2 ]]  {\r\n",
       "comp def \"C\" as E2  <<(T,blue)constraint def>> [[psysml:c5fd5931-ea17-4576-af97-a79679b06835 ]] {\r\n",
       "}\r\n",
       "comp usage \"c: C\" as E3  <<(T,blue)constraint>> [[psysml:23e87db0-b26a-4449-ad29-18415d83eb38 ]] {\r\n",
       "}\r\n",
       "comp def \"R\" as E4  <<(T,blue)requirement def>> [[psysml:aa32b181-0a7a-45c2-8d8e-c84b0489ed31 ]] {\r\n",
       "\r\n",
       "- -\r\n",
       "- - constraints - -\r\n",
       "<b>require</b> c\r\n",
       "<i>assume</i> c1: C\r\n",
       "}\r\n",
       "comp def \" [<b>1</b>] A\" as E5  <<(T,blue)requirement def>> [[psysml:c7a4f64d-f76e-4f11-bab9-561a5696e580 ]] {\r\n",
       "Text\r\n",
       "- -\r\n",
       "}\r\n",
       "comp usage \"<s>noname</s>\" as E8  <<(T,blue)requirement>> [[psysml:165156c7-6d13-47e8-9214-4efd9fbee902 ]] {\r\n",
       "}\r\n",
       "comp def \"R1\" as E9  <<(T,blue)requirement def>> [[psysml:5b4d3eaf-f72e-4f96-998b-f4a0a57df239 ]] {\r\n",
       "- - constraints - -\r\n",
       "<b>require</b> c1\\n//:>>RequirementTest::c// \r\n",
       "}\r\n",
       "comp usage \"p\" as E11  <<(T,blue)part>> [[psysml:8fb932f6-fc92-43ad-aa0e-8cfa7b71c9b3 ]] {\r\n",
       "}\r\n",
       "comp usage \"q\" as E12  <<(T,blue)part>> [[psysml:9b734dfd-0e44-4ae0-bd37-d0a03d4a12cd ]] {\r\n",
       "}\r\n",
       "comp usage \"r: R\" as E13  <<(T,blue)requirement>> [[psysml:5a1cae69-7149-47dc-88a9-208fdbfbba4b ]] {\r\n",
       "}\r\n",
       "E3 - -:|> E2 [[psysml:bb92853b-9a42-4685-9891-57f30cbf18f8 ]] \r\n",
       "E4 +- - E5 [[psysml:c7a4f64d-f76e-4f11-bab9-561a5696e580 ]] \r\n",
       "E4 *- - E8 [[psysml:165156c7-6d13-47e8-9214-4efd9fbee902 ]] \r\n",
       "E12 *- - E13 [[psysml:5a1cae69-7149-47dc-88a9-208fdbfbba4b ]] \r\n",
       "E13 - -:|> E4 [[psysml:9a693856-e1d7-4623-99b4-c4529bf04054 ]] \r\n",
       "E13 ..> E11 [[psysml:69852053-465c-4b3e-807c-2facd65a229c ]] : <<satisfy>>\r\n",
       "}\r\n",
       "@enduml\r\n",
       "\n",
       "PlantUML version 1.2020.13(Sat Jun 13 12:26:38 UTC 2020)\n",
       "(EPL source distribution)\n",
       "Java Runtime: OpenJDK Runtime Environment\n",
       "JVM: OpenJDK 64-Bit Server VM\n",
       "Default Encoding: UTF-8\n",
       "Language: en\n",
       "Country: null\n",
       "--></g></svg>"
      ]
     },
     "execution_count": 7,
     "metadata": {},
     "output_type": "execute_result"
    }
   ],
   "source": [
    "%viz --style=\"COMPTREE\" --view=\"Sequence\" \"RequirementTest\""
   ]
  },
  {
   "cell_type": "code",
   "execution_count": 8,
   "id": "adopted-insider",
   "metadata": {
    "execution": {
     "iopub.execute_input": "2021-03-25T09:26:53.917568Z",
     "iopub.status.busy": "2021-03-25T09:26:53.916590Z",
     "iopub.status.idle": "2021-03-25T09:26:54.790237Z",
     "shell.execute_reply": "2021-03-25T09:26:54.787894Z"
    }
   },
   "outputs": [
    {
     "data": {
      "image/svg+xml": [
       "<?xml version=\"1.0\" encoding=\"UTF-8\" standalone=\"no\"?><svg xmlns=\"http://www.w3.org/2000/svg\" xmlns:xlink=\"http://www.w3.org/1999/xlink\" contentScriptType=\"application/ecmascript\" contentStyleType=\"text/css\" height=\"578px\" preserveAspectRatio=\"none\" style=\"width:408px;height:578px;\" version=\"1.1\" viewBox=\"0 0 408 578\" width=\"408px\" zoomAndPan=\"magnify\"><defs/><g><!--MD5=[fbc87193dbaf4d95561dea2c320d4a47]\n",
       "cluster E1--><a href=\"psysml:7a32e4ca-d886-48d1-a22e-a4337a6af1e2\" target=\"_top\" title=\"psysml:7a32e4ca-d886-48d1-a22e-a4337a6af1e2\" xlink:actuate=\"onRequest\" xlink:href=\"psysml:7a32e4ca-d886-48d1-a22e-a4337a6af1e2\" xlink:show=\"new\" xlink:title=\"psysml:7a32e4ca-d886-48d1-a22e-a4337a6af1e2\" xlink:type=\"simple\"><polygon fill=\"#FFFFFF\" points=\"16,6,158,6,165,28.2969,386,28.2969,386,566,16,566,16,6\" style=\"stroke: #000000; stroke-width: 1.5;\"/><line style=\"stroke: #000000; stroke-width: 1.5;\" x1=\"16\" x2=\"165\" y1=\"28.2969\" y2=\"28.2969\"/><text fill=\"#000000\" font-family=\"sans-serif\" font-size=\"14\" font-weight=\"bold\" lengthAdjust=\"spacingAndGlyphs\" textLength=\"136\" x=\"20\" y=\"20.9951\">RequirementTest</text></a><!--MD5=[b4997ac47864f28c2f74865a473b2911]\n",
       "class E2--><a href=\"psysml:c5fd5931-ea17-4576-af97-a79679b06835\" target=\"_top\" title=\"psysml:c5fd5931-ea17-4576-af97-a79679b06835\" xlink:actuate=\"onRequest\" xlink:href=\"psysml:c5fd5931-ea17-4576-af97-a79679b06835\" xlink:show=\"new\" xlink:title=\"psysml:c5fd5931-ea17-4576-af97-a79679b06835\" xlink:type=\"simple\"><rect fill=\"#FFFFFF\" height=\"45.9375\" id=\"E2\" style=\"stroke: #383838; stroke-width: 1.5;\" width=\"104\" x=\"266\" y=\"190\"/><text fill=\"#000000\" font-family=\"sans-serif\" font-size=\"12\" font-style=\"italic\" lengthAdjust=\"spacingAndGlyphs\" textLength=\"102\" x=\"267\" y=\"206.1387\">«constraint def»</text><text fill=\"#000000\" font-family=\"sans-serif\" font-size=\"12\" lengthAdjust=\"spacingAndGlyphs\" textLength=\"8\" x=\"314\" y=\"220.1074\">C</text><line style=\"stroke: #383838; stroke-width: 1.5;\" x1=\"267\" x2=\"369\" y1=\"227.9375\" y2=\"227.9375\"/></a><!--MD5=[09b614a08d8cba4a07c9adeb5e0fee81]\n",
       "class E3--><a href=\"psysml:23e87db0-b26a-4449-ad29-18415d83eb38\" target=\"_top\" title=\"psysml:23e87db0-b26a-4449-ad29-18415d83eb38\" xlink:actuate=\"onRequest\" xlink:href=\"psysml:23e87db0-b26a-4449-ad29-18415d83eb38\" xlink:show=\"new\" xlink:title=\"psysml:23e87db0-b26a-4449-ad29-18415d83eb38\" xlink:type=\"simple\"><rect fill=\"#FFFFFF\" height=\"45.9375\" id=\"E3\" rx=\"10\" ry=\"10\" style=\"stroke: #383838; stroke-width: 1.5;\" width=\"80\" x=\"290\" y=\"62\"/><text fill=\"#000000\" font-family=\"sans-serif\" font-size=\"12\" font-style=\"italic\" lengthAdjust=\"spacingAndGlyphs\" textLength=\"78\" x=\"291\" y=\"78.1387\">«constraint»</text><text fill=\"#000000\" font-family=\"sans-serif\" font-size=\"12\" lengthAdjust=\"spacingAndGlyphs\" textLength=\"23\" x=\"318.5\" y=\"92.1074\">c: C</text><line style=\"stroke: #383838; stroke-width: 1.5;\" x1=\"291\" x2=\"369\" y1=\"99.9375\" y2=\"99.9375\"/></a><!--MD5=[ebbe1d658d1005bcc118a6aa81145e00]\n",
       "class E4--><a href=\"psysml:aa32b181-0a7a-45c2-8d8e-c84b0489ed31\" target=\"_top\" title=\"psysml:aa32b181-0a7a-45c2-8d8e-c84b0489ed31\" xlink:actuate=\"onRequest\" xlink:href=\"psysml:aa32b181-0a7a-45c2-8d8e-c84b0489ed31\" xlink:show=\"new\" xlink:title=\"psysml:aa32b181-0a7a-45c2-8d8e-c84b0489ed31\" xlink:type=\"simple\"><rect fill=\"#FFFFFF\" height=\"109.1563\" id=\"E4\" style=\"stroke: #383838; stroke-width: 1.5;\" width=\"117\" x=\"32.5\" y=\"313\"/><text fill=\"#000000\" font-family=\"sans-serif\" font-size=\"12\" font-style=\"italic\" lengthAdjust=\"spacingAndGlyphs\" textLength=\"115\" x=\"33.5\" y=\"329.1387\">«requirement def»</text><text fill=\"#000000\" font-family=\"sans-serif\" font-size=\"12\" lengthAdjust=\"spacingAndGlyphs\" textLength=\"8\" x=\"87\" y=\"343.1074\">R</text><line style=\"stroke: #383838; stroke-width: 1.5;\" x1=\"33.5\" x2=\"148.5\" y1=\"350.9375\" y2=\"350.9375\"/><text fill=\"#000000\" font-family=\"sans-serif\" font-size=\"11\" lengthAdjust=\"spacingAndGlyphs\" textLength=\"0\" x=\"42.5\" y=\"365.1479\"/><line style=\"stroke: #383838; stroke-width: 1.0;\" x1=\"33.5\" x2=\"148.5\" y1=\"371.7422\" y2=\"371.7422\"/><text fill=\"#000000\" font-family=\"sans-serif\" font-size=\"11\" font-weight=\"bold\" lengthAdjust=\"spacingAndGlyphs\" textLength=\"46\" x=\"38.5\" y=\"402.7573\">require</text><text fill=\"#000000\" font-family=\"sans-serif\" font-size=\"11\" lengthAdjust=\"spacingAndGlyphs\" textLength=\"6\" x=\"88.5\" y=\"402.7573\">c</text><text fill=\"#000000\" font-family=\"sans-serif\" font-size=\"11\" font-style=\"italic\" lengthAdjust=\"spacingAndGlyphs\" textLength=\"46\" x=\"38.5\" y=\"415.562\">assume</text><text fill=\"#000000\" font-family=\"sans-serif\" font-size=\"11\" lengthAdjust=\"spacingAndGlyphs\" textLength=\"29\" x=\"88.5\" y=\"415.562\">c1: C</text><line style=\"stroke: #383838; stroke-width: 1.0;\" x1=\"33.5\" x2=\"59\" y1=\"386.1445\" y2=\"386.1445\"/><text fill=\"#000000\" font-family=\"sans-serif\" font-size=\"11\" lengthAdjust=\"spacingAndGlyphs\" textLength=\"64\" x=\"59\" y=\"389.4526\">constraints</text><line style=\"stroke: #383838; stroke-width: 1.0;\" x1=\"123\" x2=\"148.5\" y1=\"386.1445\" y2=\"386.1445\"/></a><!--MD5=[270fce915f116d4de14055a7c1d9a0f3]\n",
       "class E5--><a href=\"psysml:c7a4f64d-f76e-4f11-bab9-561a5696e580\" target=\"_top\" title=\"psysml:c7a4f64d-f76e-4f11-bab9-561a5696e580\" xlink:actuate=\"onRequest\" xlink:href=\"psysml:c7a4f64d-f76e-4f11-bab9-561a5696e580\" xlink:show=\"new\" xlink:title=\"psysml:c7a4f64d-f76e-4f11-bab9-561a5696e580\" xlink:type=\"simple\"><rect fill=\"#FFFFFF\" height=\"66.7422\" id=\"E5\" style=\"stroke: #383838; stroke-width: 1.5;\" width=\"117\" x=\"32.5\" y=\"483\"/><text fill=\"#000000\" font-family=\"sans-serif\" font-size=\"12\" font-style=\"italic\" lengthAdjust=\"spacingAndGlyphs\" textLength=\"115\" x=\"33.5\" y=\"499.1387\">«requirement def»</text><text fill=\"#000000\" font-family=\"sans-serif\" font-size=\"12\" lengthAdjust=\"spacingAndGlyphs\" textLength=\"5\" x=\"78\" y=\"513.1074\">[</text><text fill=\"#000000\" font-family=\"sans-serif\" font-size=\"12\" font-weight=\"bold\" lengthAdjust=\"spacingAndGlyphs\" textLength=\"8\" x=\"83\" y=\"513.1074\">1</text><text fill=\"#000000\" font-family=\"sans-serif\" font-size=\"12\" lengthAdjust=\"spacingAndGlyphs\" textLength=\"17\" x=\"91\" y=\"513.1074\">] A</text><line style=\"stroke: #383838; stroke-width: 1.5;\" x1=\"33.5\" x2=\"148.5\" y1=\"520.9375\" y2=\"520.9375\"/><text fill=\"#000000\" font-family=\"sans-serif\" font-size=\"11\" lengthAdjust=\"spacingAndGlyphs\" textLength=\"24\" x=\"38.5\" y=\"535.1479\">Text</text><line style=\"stroke: #383838; stroke-width: 1.0;\" x1=\"33.5\" x2=\"148.5\" y1=\"541.7422\" y2=\"541.7422\"/></a><!--MD5=[b9389687b975829384b498ac4b7476b2]\n",
       "class E8--><a href=\"psysml:165156c7-6d13-47e8-9214-4efd9fbee902\" target=\"_top\" title=\"psysml:165156c7-6d13-47e8-9214-4efd9fbee902\" xlink:actuate=\"onRequest\" xlink:href=\"psysml:165156c7-6d13-47e8-9214-4efd9fbee902\" xlink:show=\"new\" xlink:title=\"psysml:165156c7-6d13-47e8-9214-4efd9fbee902\" xlink:type=\"simple\"><rect fill=\"#FFFFFF\" height=\"45.9375\" id=\"E8\" rx=\"10\" ry=\"10\" style=\"stroke: #383838; stroke-width: 1.5;\" width=\"93\" x=\"184.5\" y=\"493.5\"/><text fill=\"#000000\" font-family=\"sans-serif\" font-size=\"12\" font-style=\"italic\" lengthAdjust=\"spacingAndGlyphs\" textLength=\"91\" x=\"185.5\" y=\"509.6387\">«requirement»</text><text fill=\"#000000\" font-family=\"sans-serif\" font-size=\"12\" lengthAdjust=\"spacingAndGlyphs\" text-decoration=\"line-through\" textLength=\"51\" x=\"205.5\" y=\"523.6074\">noname</text><line style=\"stroke: #383838; stroke-width: 1.5;\" x1=\"185.5\" x2=\"276.5\" y1=\"531.4375\" y2=\"531.4375\"/></a><!--MD5=[fd4143e9d270a159db93a4ea2a975926]\n",
       "class E9--><a href=\"psysml:5b4d3eaf-f72e-4f96-998b-f4a0a57df239\" target=\"_top\" title=\"psysml:5b4d3eaf-f72e-4f96-998b-f4a0a57df239\" xlink:actuate=\"onRequest\" xlink:href=\"psysml:5b4d3eaf-f72e-4f96-998b-f4a0a57df239\" xlink:show=\"new\" xlink:title=\"psysml:5b4d3eaf-f72e-4f96-998b-f4a0a57df239\" xlink:type=\"simple\"><rect fill=\"#FFFFFF\" height=\"88.3516\" id=\"E9\" style=\"stroke: #383838; stroke-width: 1.5;\" width=\"145\" x=\"109.5\" y=\"41\"/><text fill=\"#000000\" font-family=\"sans-serif\" font-size=\"12\" font-style=\"italic\" lengthAdjust=\"spacingAndGlyphs\" textLength=\"115\" x=\"124.5\" y=\"57.1387\">«requirement def»</text><text fill=\"#000000\" font-family=\"sans-serif\" font-size=\"12\" lengthAdjust=\"spacingAndGlyphs\" textLength=\"16\" x=\"174\" y=\"71.1074\">R1</text><line style=\"stroke: #383838; stroke-width: 1.5;\" x1=\"110.5\" x2=\"253.5\" y1=\"78.9375\" y2=\"78.9375\"/><text fill=\"#000000\" font-family=\"sans-serif\" font-size=\"11\" font-weight=\"bold\" lengthAdjust=\"spacingAndGlyphs\" textLength=\"46\" x=\"115.5\" y=\"109.9526\">require</text><text fill=\"#000000\" font-family=\"sans-serif\" font-size=\"11\" lengthAdjust=\"spacingAndGlyphs\" textLength=\"13\" x=\"165.5\" y=\"109.9526\">c1</text><text fill=\"#000000\" font-family=\"sans-serif\" font-size=\"11\" font-style=\"italic\" lengthAdjust=\"spacingAndGlyphs\" textLength=\"133\" x=\"115.5\" y=\"122.7573\">:&gt;&gt;RequirementTest::c</text><line style=\"stroke: #383838; stroke-width: 1.0;\" x1=\"110.5\" x2=\"150\" y1=\"93.3398\" y2=\"93.3398\"/><text fill=\"#000000\" font-family=\"sans-serif\" font-size=\"11\" lengthAdjust=\"spacingAndGlyphs\" textLength=\"64\" x=\"150\" y=\"96.6479\">constraints</text><line style=\"stroke: #383838; stroke-width: 1.0;\" x1=\"214\" x2=\"253.5\" y1=\"93.3398\" y2=\"93.3398\"/></a><!--MD5=[1dd1bfd58a279cf63c5f349dbc8fc6a1]\n",
       "class E11--><a href=\"psysml:8fb932f6-fc92-43ad-aa0e-8cfa7b71c9b3\" target=\"_top\" title=\"psysml:8fb932f6-fc92-43ad-aa0e-8cfa7b71c9b3\" xlink:actuate=\"onRequest\" xlink:href=\"psysml:8fb932f6-fc92-43ad-aa0e-8cfa7b71c9b3\" xlink:show=\"new\" xlink:title=\"psysml:8fb932f6-fc92-43ad-aa0e-8cfa7b71c9b3\" xlink:type=\"simple\"><rect fill=\"#FFFFFF\" height=\"45.9375\" id=\"E11\" rx=\"10\" ry=\"10\" style=\"stroke: #383838; stroke-width: 1.5;\" width=\"42\" x=\"185\" y=\"344.5\"/><text fill=\"#000000\" font-family=\"sans-serif\" font-size=\"12\" font-style=\"italic\" lengthAdjust=\"spacingAndGlyphs\" textLength=\"40\" x=\"186\" y=\"360.6387\">«part»</text><text fill=\"#000000\" font-family=\"sans-serif\" font-size=\"12\" lengthAdjust=\"spacingAndGlyphs\" textLength=\"8\" x=\"202\" y=\"374.6074\">p</text><line style=\"stroke: #383838; stroke-width: 1.5;\" x1=\"186\" x2=\"226\" y1=\"382.4375\" y2=\"382.4375\"/></a><!--MD5=[49a0ec8f00dab7302a31f22d0f0fe584]\n",
       "class E12--><a href=\"psysml:9b734dfd-0e44-4ae0-bd37-d0a03d4a12cd\" target=\"_top\" title=\"psysml:9b734dfd-0e44-4ae0-bd37-d0a03d4a12cd\" xlink:actuate=\"onRequest\" xlink:href=\"psysml:9b734dfd-0e44-4ae0-bd37-d0a03d4a12cd\" xlink:show=\"new\" xlink:title=\"psysml:9b734dfd-0e44-4ae0-bd37-d0a03d4a12cd\" xlink:type=\"simple\"><rect fill=\"#FFFFFF\" height=\"45.9375\" id=\"E12\" rx=\"10\" ry=\"10\" style=\"stroke: #383838; stroke-width: 1.5;\" width=\"42\" x=\"32\" y=\"62\"/><text fill=\"#000000\" font-family=\"sans-serif\" font-size=\"12\" font-style=\"italic\" lengthAdjust=\"spacingAndGlyphs\" textLength=\"40\" x=\"33\" y=\"78.1387\">«part»</text><text fill=\"#000000\" font-family=\"sans-serif\" font-size=\"12\" lengthAdjust=\"spacingAndGlyphs\" textLength=\"8\" x=\"49\" y=\"92.1074\">q</text><line style=\"stroke: #383838; stroke-width: 1.5;\" x1=\"33\" x2=\"73\" y1=\"99.9375\" y2=\"99.9375\"/></a><!--MD5=[ee3c913d1a06f366521f9ef512b67efe]\n",
       "class E13--><a href=\"psysml:5a1cae69-7149-47dc-88a9-208fdbfbba4b\" target=\"_top\" title=\"psysml:5a1cae69-7149-47dc-88a9-208fdbfbba4b\" xlink:actuate=\"onRequest\" xlink:href=\"psysml:5a1cae69-7149-47dc-88a9-208fdbfbba4b\" xlink:show=\"new\" xlink:title=\"psysml:5a1cae69-7149-47dc-88a9-208fdbfbba4b\" xlink:type=\"simple\"><rect fill=\"#FFFFFF\" height=\"45.9375\" id=\"E13\" rx=\"10\" ry=\"10\" style=\"stroke: #383838; stroke-width: 1.5;\" width=\"93\" x=\"44.5\" y=\"190\"/><text fill=\"#000000\" font-family=\"sans-serif\" font-size=\"12\" font-style=\"italic\" lengthAdjust=\"spacingAndGlyphs\" textLength=\"91\" x=\"45.5\" y=\"206.1387\">«requirement»</text><text fill=\"#000000\" font-family=\"sans-serif\" font-size=\"12\" lengthAdjust=\"spacingAndGlyphs\" textLength=\"21\" x=\"80.5\" y=\"220.1074\">r: R</text><line style=\"stroke: #383838; stroke-width: 1.5;\" x1=\"45.5\" x2=\"136.5\" y1=\"227.9375\" y2=\"227.9375\"/></a><!--MD5=[05d275557350bfb9b23a4ef7222b4c39]\n",
       "link E3 to E2--><a href=\"psysml:bb92853b-9a42-4685-9891-57f30cbf18f8\" target=\"_top\" title=\"psysml:bb92853b-9a42-4685-9891-57f30cbf18f8\" xlink:actuate=\"onRequest\" xlink:href=\"psysml:bb92853b-9a42-4685-9891-57f30cbf18f8\" xlink:show=\"new\" xlink:title=\"psysml:bb92853b-9a42-4685-9891-57f30cbf18f8\" xlink:type=\"simple\"><path d=\"M327.88,108.24 C326.26,125.24 323.98,149.19 322.02,169.79 \" fill=\"none\" id=\"E3-&gt;E2\" style=\"stroke: #383838; stroke-width: 1.0;\"/><polygon fill=\"#FFFFFF\" points=\"320.1,189.99,314.9362,170.411,328.8729,171.7407,320.1,189.99\" style=\"stroke: #383838; stroke-width: 1.0;\"/><ellipse cx=\"317.4685\" cy=\"164.9268\" fill=\"#383838\" rx=\"2\" ry=\"2\" style=\"stroke: #383838; stroke-width: 1.0;\"/><ellipse cx=\"327.4233\" cy=\"165.8765\" fill=\"#383838\" rx=\"2\" ry=\"2\" style=\"stroke: #383838; stroke-width: 1.0;\"/></a><!--MD5=[62aa6af11e70f752912c1cb0466f24f7]\n",
       "reverse link E4 to E5--><a href=\"psysml:c7a4f64d-f76e-4f11-bab9-561a5696e580\" target=\"_top\" title=\"psysml:c7a4f64d-f76e-4f11-bab9-561a5696e580\" xlink:actuate=\"onRequest\" xlink:href=\"psysml:c7a4f64d-f76e-4f11-bab9-561a5696e580\" xlink:show=\"new\" xlink:title=\"psysml:c7a4f64d-f76e-4f11-bab9-561a5696e580\" xlink:type=\"simple\"><path d=\"M91,437.45 C91,453.34 91,469.51 91,482.98 \" fill=\"none\" id=\"E4&lt;-E5\" style=\"stroke: #383838; stroke-width: 1.0;\"/><ellipse cx=\"91\" cy=\"430.4\" fill=\"#FFFFFF\" rx=\"8\" ry=\"8\" style=\"stroke: #383838; stroke-width: 1.0;\"/><line style=\"stroke: #383838; stroke-width: 1.0;\" x1=\"91\" x2=\"91\" y1=\"438.4\" y2=\"422.4\"/><line style=\"stroke: #383838; stroke-width: 1.0;\" x1=\"83\" x2=\"99\" y1=\"430.4\" y2=\"430.4\"/></a><!--MD5=[c6fc7cdb0cabde04948078cf183fa696]\n",
       "reverse link E4 to E8--><a href=\"psysml:165156c7-6d13-47e8-9214-4efd9fbee902\" target=\"_top\" title=\"psysml:165156c7-6d13-47e8-9214-4efd9fbee902\" xlink:actuate=\"onRequest\" xlink:href=\"psysml:165156c7-6d13-47e8-9214-4efd9fbee902\" xlink:show=\"new\" xlink:title=\"psysml:165156c7-6d13-47e8-9214-4efd9fbee902\" xlink:type=\"simple\"><path d=\"M151.51,432.04 C172.42,453.99 194.47,477.14 210.03,493.48 \" fill=\"none\" id=\"E4&lt;-E8\" style=\"stroke: #383838; stroke-width: 1.0;\"/><polygon fill=\"#383838\" points=\"142.34,422.4,143.5779,429.5041,150.6116,431.0937,149.3737,423.9897,142.34,422.4\" style=\"stroke: #383838; stroke-width: 1.0;\"/></a><!--MD5=[062ed86c389d1a88f61c6380d0491e17]\n",
       "reverse link E12 to E13--><a href=\"psysml:5a1cae69-7149-47dc-88a9-208fdbfbba4b\" target=\"_top\" title=\"psysml:5a1cae69-7149-47dc-88a9-208fdbfbba4b\" xlink:actuate=\"onRequest\" xlink:href=\"psysml:5a1cae69-7149-47dc-88a9-208fdbfbba4b\" xlink:show=\"new\" xlink:title=\"psysml:5a1cae69-7149-47dc-88a9-208fdbfbba4b\" xlink:type=\"simple\"><path d=\"M63.49,120.8 C70.17,142.92 78.6,170.89 84.36,189.99 \" fill=\"none\" id=\"E12&lt;-E13\" style=\"stroke: #383838; stroke-width: 1.0;\"/><polygon fill=\"#383838\" points=\"59.71,108.24,57.6129,115.1394,63.1751,119.7288,65.2722,112.8294,59.71,108.24\" style=\"stroke: #383838; stroke-width: 1.0;\"/></a><!--MD5=[017847e01ff9a8bd19f247411074f987]\n",
       "link E13 to E4--><a href=\"psysml:9a693856-e1d7-4623-99b4-c4529bf04054\" target=\"_top\" title=\"psysml:9a693856-e1d7-4623-99b4-c4529bf04054\" xlink:actuate=\"onRequest\" xlink:href=\"psysml:9a693856-e1d7-4623-99b4-c4529bf04054\" xlink:show=\"new\" xlink:title=\"psysml:9a693856-e1d7-4623-99b4-c4529bf04054\" xlink:type=\"simple\"><path d=\"M91,236.17 C91,251.17 91,271.91 91,292.44 \" fill=\"none\" id=\"E13-&gt;E4\" style=\"stroke: #383838; stroke-width: 1.0;\"/><polygon fill=\"#FFFFFF\" points=\"91,312.68,84,293.68,98,293.68,91,312.68\" style=\"stroke: #383838; stroke-width: 1.0;\"/><ellipse cx=\"86\" cy=\"287.98\" fill=\"#383838\" rx=\"2\" ry=\"2\" style=\"stroke: #383838; stroke-width: 1.0;\"/><ellipse cx=\"96\" cy=\"287.98\" fill=\"#383838\" rx=\"2\" ry=\"2\" style=\"stroke: #383838; stroke-width: 1.0;\"/></a><!--MD5=[2cfe899c895462254056921bfb67315f]\n",
       "link E13 to E11--><a href=\"psysml:69852053-465c-4b3e-807c-2facd65a229c\" target=\"_top\" title=\"psysml:69852053-465c-4b3e-807c-2facd65a229c\" xlink:actuate=\"onRequest\" xlink:href=\"psysml:69852053-465c-4b3e-807c-2facd65a229c\" xlink:show=\"new\" xlink:title=\"psysml:69852053-465c-4b3e-807c-2facd65a229c\" xlink:type=\"simple\"><path d=\"M108.36,236.29 C123.87,256.28 147.14,286.45 167,313 C173.57,321.78 180.66,331.44 186.97,340.12 \" fill=\"none\" id=\"E13-&gt;E11\" style=\"stroke: #383838; stroke-width: 1.0; stroke-dasharray: 7.0,7.0;\"/><polygon fill=\"#383838\" points=\"189.99,344.28,187.9274,334.6496,187.0474,340.2376,181.4594,339.3576,189.99,344.28\" style=\"stroke: #383838; stroke-width: 1.0;\"/><text fill=\"#000000\" font-family=\"sans-serif\" font-size=\"13\" lengthAdjust=\"spacingAndGlyphs\" textLength=\"57\" x=\"145\" y=\"279.0669\">«satisfy»</text></a><!--MD5=[781d001d67364ed6373d09c4afe435e8]\n",
       "@startuml\r\n",
       " skinparam monochrome true\r\n",
       "skinparam classbackgroundcolor white\r\n",
       "skinparam shadowing false\r\n",
       "skinparam wrapWidth 300\r\n",
       "hide circle\r\n",
       "\r\n",
       "package \"RequirementTest\" as E1  [[psysml:7a32e4ca-d886-48d1-a22e-a4337a6af1e2 ]]  {\r\n",
       "comp def \"C\" as E2  <<(T,blue)constraint def>> [[psysml:c5fd5931-ea17-4576-af97-a79679b06835 ]] {\r\n",
       "}\r\n",
       "comp usage \"c: C\" as E3  <<(T,blue)constraint>> [[psysml:23e87db0-b26a-4449-ad29-18415d83eb38 ]] {\r\n",
       "}\r\n",
       "comp def \"R\" as E4  <<(T,blue)requirement def>> [[psysml:aa32b181-0a7a-45c2-8d8e-c84b0489ed31 ]] {\r\n",
       "\r\n",
       "- -\r\n",
       "- - constraints - -\r\n",
       "<b>require</b> c\r\n",
       "<i>assume</i> c1: C\r\n",
       "}\r\n",
       "comp def \" [<b>1</b>] A\" as E5  <<(T,blue)requirement def>> [[psysml:c7a4f64d-f76e-4f11-bab9-561a5696e580 ]] {\r\n",
       "Text\r\n",
       "- -\r\n",
       "}\r\n",
       "comp usage \"<s>noname</s>\" as E8  <<(T,blue)requirement>> [[psysml:165156c7-6d13-47e8-9214-4efd9fbee902 ]] {\r\n",
       "}\r\n",
       "comp def \"R1\" as E9  <<(T,blue)requirement def>> [[psysml:5b4d3eaf-f72e-4f96-998b-f4a0a57df239 ]] {\r\n",
       "- - constraints - -\r\n",
       "<b>require</b> c1\\n//:>>RequirementTest::c// \r\n",
       "}\r\n",
       "comp usage \"p\" as E11  <<(T,blue)part>> [[psysml:8fb932f6-fc92-43ad-aa0e-8cfa7b71c9b3 ]] {\r\n",
       "}\r\n",
       "comp usage \"q\" as E12  <<(T,blue)part>> [[psysml:9b734dfd-0e44-4ae0-bd37-d0a03d4a12cd ]] {\r\n",
       "}\r\n",
       "comp usage \"r: R\" as E13  <<(T,blue)requirement>> [[psysml:5a1cae69-7149-47dc-88a9-208fdbfbba4b ]] {\r\n",
       "}\r\n",
       "E3 - -:|> E2 [[psysml:bb92853b-9a42-4685-9891-57f30cbf18f8 ]] \r\n",
       "E4 +- - E5 [[psysml:c7a4f64d-f76e-4f11-bab9-561a5696e580 ]] \r\n",
       "E4 *- - E8 [[psysml:165156c7-6d13-47e8-9214-4efd9fbee902 ]] \r\n",
       "E12 *- - E13 [[psysml:5a1cae69-7149-47dc-88a9-208fdbfbba4b ]] \r\n",
       "E13 - -:|> E4 [[psysml:9a693856-e1d7-4623-99b4-c4529bf04054 ]] \r\n",
       "E13 ..> E11 [[psysml:69852053-465c-4b3e-807c-2facd65a229c ]] : <<satisfy>>\r\n",
       "}\r\n",
       "@enduml\r\n",
       "\n",
       "PlantUML version 1.2020.13(Sat Jun 13 12:26:38 UTC 2020)\n",
       "(EPL source distribution)\n",
       "Java Runtime: OpenJDK Runtime Environment\n",
       "JVM: OpenJDK 64-Bit Server VM\n",
       "Default Encoding: UTF-8\n",
       "Language: en\n",
       "Country: null\n",
       "--></g></svg>"
      ]
     },
     "execution_count": 8,
     "metadata": {},
     "output_type": "execute_result"
    }
   ],
   "source": [
    "%viz --style=\"COMPTREE\" --view=\"MIXED\" \"RequirementTest\""
   ]
  },
  {
   "cell_type": "code",
   "execution_count": 9,
   "id": "special-natural",
   "metadata": {
    "execution": {
     "iopub.execute_input": "2021-03-25T09:26:54.840434Z",
     "iopub.status.busy": "2021-03-25T09:26:54.839896Z",
     "iopub.status.idle": "2021-03-25T09:26:55.710331Z",
     "shell.execute_reply": "2021-03-25T09:26:55.709959Z"
    }
   },
   "outputs": [
    {
     "data": {
      "image/svg+xml": [
       "<?xml version=\"1.0\" encoding=\"UTF-8\" standalone=\"no\"?><svg xmlns=\"http://www.w3.org/2000/svg\" xmlns:xlink=\"http://www.w3.org/1999/xlink\" contentScriptType=\"application/ecmascript\" contentStyleType=\"text/css\" height=\"578px\" preserveAspectRatio=\"none\" style=\"width:408px;height:578px;\" version=\"1.1\" viewBox=\"0 0 408 578\" width=\"408px\" zoomAndPan=\"magnify\"><defs/><g><!--MD5=[fbc87193dbaf4d95561dea2c320d4a47]\n",
       "cluster E1--><a href=\"psysml:7a32e4ca-d886-48d1-a22e-a4337a6af1e2\" target=\"_top\" title=\"psysml:7a32e4ca-d886-48d1-a22e-a4337a6af1e2\" xlink:actuate=\"onRequest\" xlink:href=\"psysml:7a32e4ca-d886-48d1-a22e-a4337a6af1e2\" xlink:show=\"new\" xlink:title=\"psysml:7a32e4ca-d886-48d1-a22e-a4337a6af1e2\" xlink:type=\"simple\"><polygon fill=\"#FFFFFF\" points=\"16,6,158,6,165,28.2969,386,28.2969,386,566,16,566,16,6\" style=\"stroke: #000000; stroke-width: 1.5;\"/><line style=\"stroke: #000000; stroke-width: 1.5;\" x1=\"16\" x2=\"165\" y1=\"28.2969\" y2=\"28.2969\"/><text fill=\"#000000\" font-family=\"sans-serif\" font-size=\"14\" font-weight=\"bold\" lengthAdjust=\"spacingAndGlyphs\" textLength=\"136\" x=\"20\" y=\"20.9951\">RequirementTest</text></a><!--MD5=[b4997ac47864f28c2f74865a473b2911]\n",
       "class E2--><a href=\"psysml:c5fd5931-ea17-4576-af97-a79679b06835\" target=\"_top\" title=\"psysml:c5fd5931-ea17-4576-af97-a79679b06835\" xlink:actuate=\"onRequest\" xlink:href=\"psysml:c5fd5931-ea17-4576-af97-a79679b06835\" xlink:show=\"new\" xlink:title=\"psysml:c5fd5931-ea17-4576-af97-a79679b06835\" xlink:type=\"simple\"><rect fill=\"#FFFFFF\" height=\"45.9375\" id=\"E2\" style=\"stroke: #383838; stroke-width: 1.5;\" width=\"104\" x=\"266\" y=\"190\"/><text fill=\"#000000\" font-family=\"sans-serif\" font-size=\"12\" font-style=\"italic\" lengthAdjust=\"spacingAndGlyphs\" textLength=\"102\" x=\"267\" y=\"206.1387\">«constraint def»</text><text fill=\"#000000\" font-family=\"sans-serif\" font-size=\"12\" lengthAdjust=\"spacingAndGlyphs\" textLength=\"8\" x=\"314\" y=\"220.1074\">C</text><line style=\"stroke: #383838; stroke-width: 1.5;\" x1=\"267\" x2=\"369\" y1=\"227.9375\" y2=\"227.9375\"/></a><!--MD5=[09b614a08d8cba4a07c9adeb5e0fee81]\n",
       "class E3--><a href=\"psysml:23e87db0-b26a-4449-ad29-18415d83eb38\" target=\"_top\" title=\"psysml:23e87db0-b26a-4449-ad29-18415d83eb38\" xlink:actuate=\"onRequest\" xlink:href=\"psysml:23e87db0-b26a-4449-ad29-18415d83eb38\" xlink:show=\"new\" xlink:title=\"psysml:23e87db0-b26a-4449-ad29-18415d83eb38\" xlink:type=\"simple\"><rect fill=\"#FFFFFF\" height=\"45.9375\" id=\"E3\" rx=\"10\" ry=\"10\" style=\"stroke: #383838; stroke-width: 1.5;\" width=\"80\" x=\"290\" y=\"62\"/><text fill=\"#000000\" font-family=\"sans-serif\" font-size=\"12\" font-style=\"italic\" lengthAdjust=\"spacingAndGlyphs\" textLength=\"78\" x=\"291\" y=\"78.1387\">«constraint»</text><text fill=\"#000000\" font-family=\"sans-serif\" font-size=\"12\" lengthAdjust=\"spacingAndGlyphs\" textLength=\"23\" x=\"318.5\" y=\"92.1074\">c: C</text><line style=\"stroke: #383838; stroke-width: 1.5;\" x1=\"291\" x2=\"369\" y1=\"99.9375\" y2=\"99.9375\"/></a><!--MD5=[ebbe1d658d1005bcc118a6aa81145e00]\n",
       "class E4--><a href=\"psysml:aa32b181-0a7a-45c2-8d8e-c84b0489ed31\" target=\"_top\" title=\"psysml:aa32b181-0a7a-45c2-8d8e-c84b0489ed31\" xlink:actuate=\"onRequest\" xlink:href=\"psysml:aa32b181-0a7a-45c2-8d8e-c84b0489ed31\" xlink:show=\"new\" xlink:title=\"psysml:aa32b181-0a7a-45c2-8d8e-c84b0489ed31\" xlink:type=\"simple\"><rect fill=\"#FFFFFF\" height=\"109.1563\" id=\"E4\" style=\"stroke: #383838; stroke-width: 1.5;\" width=\"117\" x=\"32.5\" y=\"313\"/><text fill=\"#000000\" font-family=\"sans-serif\" font-size=\"12\" font-style=\"italic\" lengthAdjust=\"spacingAndGlyphs\" textLength=\"115\" x=\"33.5\" y=\"329.1387\">«requirement def»</text><text fill=\"#000000\" font-family=\"sans-serif\" font-size=\"12\" lengthAdjust=\"spacingAndGlyphs\" textLength=\"8\" x=\"87\" y=\"343.1074\">R</text><line style=\"stroke: #383838; stroke-width: 1.5;\" x1=\"33.5\" x2=\"148.5\" y1=\"350.9375\" y2=\"350.9375\"/><text fill=\"#000000\" font-family=\"sans-serif\" font-size=\"11\" lengthAdjust=\"spacingAndGlyphs\" textLength=\"0\" x=\"42.5\" y=\"365.1479\"/><line style=\"stroke: #383838; stroke-width: 1.0;\" x1=\"33.5\" x2=\"148.5\" y1=\"371.7422\" y2=\"371.7422\"/><text fill=\"#000000\" font-family=\"sans-serif\" font-size=\"11\" font-weight=\"bold\" lengthAdjust=\"spacingAndGlyphs\" textLength=\"46\" x=\"38.5\" y=\"402.7573\">require</text><text fill=\"#000000\" font-family=\"sans-serif\" font-size=\"11\" lengthAdjust=\"spacingAndGlyphs\" textLength=\"6\" x=\"88.5\" y=\"402.7573\">c</text><text fill=\"#000000\" font-family=\"sans-serif\" font-size=\"11\" font-style=\"italic\" lengthAdjust=\"spacingAndGlyphs\" textLength=\"46\" x=\"38.5\" y=\"415.562\">assume</text><text fill=\"#000000\" font-family=\"sans-serif\" font-size=\"11\" lengthAdjust=\"spacingAndGlyphs\" textLength=\"29\" x=\"88.5\" y=\"415.562\">c1: C</text><line style=\"stroke: #383838; stroke-width: 1.0;\" x1=\"33.5\" x2=\"59\" y1=\"386.1445\" y2=\"386.1445\"/><text fill=\"#000000\" font-family=\"sans-serif\" font-size=\"11\" lengthAdjust=\"spacingAndGlyphs\" textLength=\"64\" x=\"59\" y=\"389.4526\">constraints</text><line style=\"stroke: #383838; stroke-width: 1.0;\" x1=\"123\" x2=\"148.5\" y1=\"386.1445\" y2=\"386.1445\"/></a><!--MD5=[270fce915f116d4de14055a7c1d9a0f3]\n",
       "class E5--><a href=\"psysml:c7a4f64d-f76e-4f11-bab9-561a5696e580\" target=\"_top\" title=\"psysml:c7a4f64d-f76e-4f11-bab9-561a5696e580\" xlink:actuate=\"onRequest\" xlink:href=\"psysml:c7a4f64d-f76e-4f11-bab9-561a5696e580\" xlink:show=\"new\" xlink:title=\"psysml:c7a4f64d-f76e-4f11-bab9-561a5696e580\" xlink:type=\"simple\"><rect fill=\"#FFFFFF\" height=\"66.7422\" id=\"E5\" style=\"stroke: #383838; stroke-width: 1.5;\" width=\"117\" x=\"32.5\" y=\"483\"/><text fill=\"#000000\" font-family=\"sans-serif\" font-size=\"12\" font-style=\"italic\" lengthAdjust=\"spacingAndGlyphs\" textLength=\"115\" x=\"33.5\" y=\"499.1387\">«requirement def»</text><text fill=\"#000000\" font-family=\"sans-serif\" font-size=\"12\" lengthAdjust=\"spacingAndGlyphs\" textLength=\"5\" x=\"78\" y=\"513.1074\">[</text><text fill=\"#000000\" font-family=\"sans-serif\" font-size=\"12\" font-weight=\"bold\" lengthAdjust=\"spacingAndGlyphs\" textLength=\"8\" x=\"83\" y=\"513.1074\">1</text><text fill=\"#000000\" font-family=\"sans-serif\" font-size=\"12\" lengthAdjust=\"spacingAndGlyphs\" textLength=\"17\" x=\"91\" y=\"513.1074\">] A</text><line style=\"stroke: #383838; stroke-width: 1.5;\" x1=\"33.5\" x2=\"148.5\" y1=\"520.9375\" y2=\"520.9375\"/><text fill=\"#000000\" font-family=\"sans-serif\" font-size=\"11\" lengthAdjust=\"spacingAndGlyphs\" textLength=\"24\" x=\"38.5\" y=\"535.1479\">Text</text><line style=\"stroke: #383838; stroke-width: 1.0;\" x1=\"33.5\" x2=\"148.5\" y1=\"541.7422\" y2=\"541.7422\"/></a><!--MD5=[b9389687b975829384b498ac4b7476b2]\n",
       "class E8--><a href=\"psysml:165156c7-6d13-47e8-9214-4efd9fbee902\" target=\"_top\" title=\"psysml:165156c7-6d13-47e8-9214-4efd9fbee902\" xlink:actuate=\"onRequest\" xlink:href=\"psysml:165156c7-6d13-47e8-9214-4efd9fbee902\" xlink:show=\"new\" xlink:title=\"psysml:165156c7-6d13-47e8-9214-4efd9fbee902\" xlink:type=\"simple\"><rect fill=\"#FFFFFF\" height=\"45.9375\" id=\"E8\" rx=\"10\" ry=\"10\" style=\"stroke: #383838; stroke-width: 1.5;\" width=\"93\" x=\"184.5\" y=\"493.5\"/><text fill=\"#000000\" font-family=\"sans-serif\" font-size=\"12\" font-style=\"italic\" lengthAdjust=\"spacingAndGlyphs\" textLength=\"91\" x=\"185.5\" y=\"509.6387\">«requirement»</text><text fill=\"#000000\" font-family=\"sans-serif\" font-size=\"12\" lengthAdjust=\"spacingAndGlyphs\" text-decoration=\"line-through\" textLength=\"51\" x=\"205.5\" y=\"523.6074\">noname</text><line style=\"stroke: #383838; stroke-width: 1.5;\" x1=\"185.5\" x2=\"276.5\" y1=\"531.4375\" y2=\"531.4375\"/></a><!--MD5=[fd4143e9d270a159db93a4ea2a975926]\n",
       "class E9--><a href=\"psysml:5b4d3eaf-f72e-4f96-998b-f4a0a57df239\" target=\"_top\" title=\"psysml:5b4d3eaf-f72e-4f96-998b-f4a0a57df239\" xlink:actuate=\"onRequest\" xlink:href=\"psysml:5b4d3eaf-f72e-4f96-998b-f4a0a57df239\" xlink:show=\"new\" xlink:title=\"psysml:5b4d3eaf-f72e-4f96-998b-f4a0a57df239\" xlink:type=\"simple\"><rect fill=\"#FFFFFF\" height=\"88.3516\" id=\"E9\" style=\"stroke: #383838; stroke-width: 1.5;\" width=\"145\" x=\"109.5\" y=\"41\"/><text fill=\"#000000\" font-family=\"sans-serif\" font-size=\"12\" font-style=\"italic\" lengthAdjust=\"spacingAndGlyphs\" textLength=\"115\" x=\"124.5\" y=\"57.1387\">«requirement def»</text><text fill=\"#000000\" font-family=\"sans-serif\" font-size=\"12\" lengthAdjust=\"spacingAndGlyphs\" textLength=\"16\" x=\"174\" y=\"71.1074\">R1</text><line style=\"stroke: #383838; stroke-width: 1.5;\" x1=\"110.5\" x2=\"253.5\" y1=\"78.9375\" y2=\"78.9375\"/><text fill=\"#000000\" font-family=\"sans-serif\" font-size=\"11\" font-weight=\"bold\" lengthAdjust=\"spacingAndGlyphs\" textLength=\"46\" x=\"115.5\" y=\"109.9526\">require</text><text fill=\"#000000\" font-family=\"sans-serif\" font-size=\"11\" lengthAdjust=\"spacingAndGlyphs\" textLength=\"13\" x=\"165.5\" y=\"109.9526\">c1</text><text fill=\"#000000\" font-family=\"sans-serif\" font-size=\"11\" font-style=\"italic\" lengthAdjust=\"spacingAndGlyphs\" textLength=\"133\" x=\"115.5\" y=\"122.7573\">:&gt;&gt;RequirementTest::c</text><line style=\"stroke: #383838; stroke-width: 1.0;\" x1=\"110.5\" x2=\"150\" y1=\"93.3398\" y2=\"93.3398\"/><text fill=\"#000000\" font-family=\"sans-serif\" font-size=\"11\" lengthAdjust=\"spacingAndGlyphs\" textLength=\"64\" x=\"150\" y=\"96.6479\">constraints</text><line style=\"stroke: #383838; stroke-width: 1.0;\" x1=\"214\" x2=\"253.5\" y1=\"93.3398\" y2=\"93.3398\"/></a><!--MD5=[1dd1bfd58a279cf63c5f349dbc8fc6a1]\n",
       "class E11--><a href=\"psysml:8fb932f6-fc92-43ad-aa0e-8cfa7b71c9b3\" target=\"_top\" title=\"psysml:8fb932f6-fc92-43ad-aa0e-8cfa7b71c9b3\" xlink:actuate=\"onRequest\" xlink:href=\"psysml:8fb932f6-fc92-43ad-aa0e-8cfa7b71c9b3\" xlink:show=\"new\" xlink:title=\"psysml:8fb932f6-fc92-43ad-aa0e-8cfa7b71c9b3\" xlink:type=\"simple\"><rect fill=\"#FFFFFF\" height=\"45.9375\" id=\"E11\" rx=\"10\" ry=\"10\" style=\"stroke: #383838; stroke-width: 1.5;\" width=\"42\" x=\"185\" y=\"344.5\"/><text fill=\"#000000\" font-family=\"sans-serif\" font-size=\"12\" font-style=\"italic\" lengthAdjust=\"spacingAndGlyphs\" textLength=\"40\" x=\"186\" y=\"360.6387\">«part»</text><text fill=\"#000000\" font-family=\"sans-serif\" font-size=\"12\" lengthAdjust=\"spacingAndGlyphs\" textLength=\"8\" x=\"202\" y=\"374.6074\">p</text><line style=\"stroke: #383838; stroke-width: 1.5;\" x1=\"186\" x2=\"226\" y1=\"382.4375\" y2=\"382.4375\"/></a><!--MD5=[49a0ec8f00dab7302a31f22d0f0fe584]\n",
       "class E12--><a href=\"psysml:9b734dfd-0e44-4ae0-bd37-d0a03d4a12cd\" target=\"_top\" title=\"psysml:9b734dfd-0e44-4ae0-bd37-d0a03d4a12cd\" xlink:actuate=\"onRequest\" xlink:href=\"psysml:9b734dfd-0e44-4ae0-bd37-d0a03d4a12cd\" xlink:show=\"new\" xlink:title=\"psysml:9b734dfd-0e44-4ae0-bd37-d0a03d4a12cd\" xlink:type=\"simple\"><rect fill=\"#FFFFFF\" height=\"45.9375\" id=\"E12\" rx=\"10\" ry=\"10\" style=\"stroke: #383838; stroke-width: 1.5;\" width=\"42\" x=\"32\" y=\"62\"/><text fill=\"#000000\" font-family=\"sans-serif\" font-size=\"12\" font-style=\"italic\" lengthAdjust=\"spacingAndGlyphs\" textLength=\"40\" x=\"33\" y=\"78.1387\">«part»</text><text fill=\"#000000\" font-family=\"sans-serif\" font-size=\"12\" lengthAdjust=\"spacingAndGlyphs\" textLength=\"8\" x=\"49\" y=\"92.1074\">q</text><line style=\"stroke: #383838; stroke-width: 1.5;\" x1=\"33\" x2=\"73\" y1=\"99.9375\" y2=\"99.9375\"/></a><!--MD5=[ee3c913d1a06f366521f9ef512b67efe]\n",
       "class E13--><a href=\"psysml:5a1cae69-7149-47dc-88a9-208fdbfbba4b\" target=\"_top\" title=\"psysml:5a1cae69-7149-47dc-88a9-208fdbfbba4b\" xlink:actuate=\"onRequest\" xlink:href=\"psysml:5a1cae69-7149-47dc-88a9-208fdbfbba4b\" xlink:show=\"new\" xlink:title=\"psysml:5a1cae69-7149-47dc-88a9-208fdbfbba4b\" xlink:type=\"simple\"><rect fill=\"#FFFFFF\" height=\"45.9375\" id=\"E13\" rx=\"10\" ry=\"10\" style=\"stroke: #383838; stroke-width: 1.5;\" width=\"93\" x=\"44.5\" y=\"190\"/><text fill=\"#000000\" font-family=\"sans-serif\" font-size=\"12\" font-style=\"italic\" lengthAdjust=\"spacingAndGlyphs\" textLength=\"91\" x=\"45.5\" y=\"206.1387\">«requirement»</text><text fill=\"#000000\" font-family=\"sans-serif\" font-size=\"12\" lengthAdjust=\"spacingAndGlyphs\" textLength=\"21\" x=\"80.5\" y=\"220.1074\">r: R</text><line style=\"stroke: #383838; stroke-width: 1.5;\" x1=\"45.5\" x2=\"136.5\" y1=\"227.9375\" y2=\"227.9375\"/></a><!--MD5=[05d275557350bfb9b23a4ef7222b4c39]\n",
       "link E3 to E2--><a href=\"psysml:bb92853b-9a42-4685-9891-57f30cbf18f8\" target=\"_top\" title=\"psysml:bb92853b-9a42-4685-9891-57f30cbf18f8\" xlink:actuate=\"onRequest\" xlink:href=\"psysml:bb92853b-9a42-4685-9891-57f30cbf18f8\" xlink:show=\"new\" xlink:title=\"psysml:bb92853b-9a42-4685-9891-57f30cbf18f8\" xlink:type=\"simple\"><path d=\"M327.88,108.24 C326.26,125.24 323.98,149.19 322.02,169.79 \" fill=\"none\" id=\"E3-&gt;E2\" style=\"stroke: #383838; stroke-width: 1.0;\"/><polygon fill=\"#FFFFFF\" points=\"320.1,189.99,314.9362,170.411,328.8729,171.7407,320.1,189.99\" style=\"stroke: #383838; stroke-width: 1.0;\"/><ellipse cx=\"317.4685\" cy=\"164.9268\" fill=\"#383838\" rx=\"2\" ry=\"2\" style=\"stroke: #383838; stroke-width: 1.0;\"/><ellipse cx=\"327.4233\" cy=\"165.8765\" fill=\"#383838\" rx=\"2\" ry=\"2\" style=\"stroke: #383838; stroke-width: 1.0;\"/></a><!--MD5=[62aa6af11e70f752912c1cb0466f24f7]\n",
       "reverse link E4 to E5--><a href=\"psysml:c7a4f64d-f76e-4f11-bab9-561a5696e580\" target=\"_top\" title=\"psysml:c7a4f64d-f76e-4f11-bab9-561a5696e580\" xlink:actuate=\"onRequest\" xlink:href=\"psysml:c7a4f64d-f76e-4f11-bab9-561a5696e580\" xlink:show=\"new\" xlink:title=\"psysml:c7a4f64d-f76e-4f11-bab9-561a5696e580\" xlink:type=\"simple\"><path d=\"M91,437.45 C91,453.34 91,469.51 91,482.98 \" fill=\"none\" id=\"E4&lt;-E5\" style=\"stroke: #383838; stroke-width: 1.0;\"/><ellipse cx=\"91\" cy=\"430.4\" fill=\"#FFFFFF\" rx=\"8\" ry=\"8\" style=\"stroke: #383838; stroke-width: 1.0;\"/><line style=\"stroke: #383838; stroke-width: 1.0;\" x1=\"91\" x2=\"91\" y1=\"438.4\" y2=\"422.4\"/><line style=\"stroke: #383838; stroke-width: 1.0;\" x1=\"83\" x2=\"99\" y1=\"430.4\" y2=\"430.4\"/></a><!--MD5=[c6fc7cdb0cabde04948078cf183fa696]\n",
       "reverse link E4 to E8--><a href=\"psysml:165156c7-6d13-47e8-9214-4efd9fbee902\" target=\"_top\" title=\"psysml:165156c7-6d13-47e8-9214-4efd9fbee902\" xlink:actuate=\"onRequest\" xlink:href=\"psysml:165156c7-6d13-47e8-9214-4efd9fbee902\" xlink:show=\"new\" xlink:title=\"psysml:165156c7-6d13-47e8-9214-4efd9fbee902\" xlink:type=\"simple\"><path d=\"M151.51,432.04 C172.42,453.99 194.47,477.14 210.03,493.48 \" fill=\"none\" id=\"E4&lt;-E8\" style=\"stroke: #383838; stroke-width: 1.0;\"/><polygon fill=\"#383838\" points=\"142.34,422.4,143.5779,429.5041,150.6116,431.0937,149.3737,423.9897,142.34,422.4\" style=\"stroke: #383838; stroke-width: 1.0;\"/></a><!--MD5=[062ed86c389d1a88f61c6380d0491e17]\n",
       "reverse link E12 to E13--><a href=\"psysml:5a1cae69-7149-47dc-88a9-208fdbfbba4b\" target=\"_top\" title=\"psysml:5a1cae69-7149-47dc-88a9-208fdbfbba4b\" xlink:actuate=\"onRequest\" xlink:href=\"psysml:5a1cae69-7149-47dc-88a9-208fdbfbba4b\" xlink:show=\"new\" xlink:title=\"psysml:5a1cae69-7149-47dc-88a9-208fdbfbba4b\" xlink:type=\"simple\"><path d=\"M63.49,120.8 C70.17,142.92 78.6,170.89 84.36,189.99 \" fill=\"none\" id=\"E12&lt;-E13\" style=\"stroke: #383838; stroke-width: 1.0;\"/><polygon fill=\"#383838\" points=\"59.71,108.24,57.6129,115.1394,63.1751,119.7288,65.2722,112.8294,59.71,108.24\" style=\"stroke: #383838; stroke-width: 1.0;\"/></a><!--MD5=[017847e01ff9a8bd19f247411074f987]\n",
       "link E13 to E4--><a href=\"psysml:9a693856-e1d7-4623-99b4-c4529bf04054\" target=\"_top\" title=\"psysml:9a693856-e1d7-4623-99b4-c4529bf04054\" xlink:actuate=\"onRequest\" xlink:href=\"psysml:9a693856-e1d7-4623-99b4-c4529bf04054\" xlink:show=\"new\" xlink:title=\"psysml:9a693856-e1d7-4623-99b4-c4529bf04054\" xlink:type=\"simple\"><path d=\"M91,236.17 C91,251.17 91,271.91 91,292.44 \" fill=\"none\" id=\"E13-&gt;E4\" style=\"stroke: #383838; stroke-width: 1.0;\"/><polygon fill=\"#FFFFFF\" points=\"91,312.68,84,293.68,98,293.68,91,312.68\" style=\"stroke: #383838; stroke-width: 1.0;\"/><ellipse cx=\"86\" cy=\"287.98\" fill=\"#383838\" rx=\"2\" ry=\"2\" style=\"stroke: #383838; stroke-width: 1.0;\"/><ellipse cx=\"96\" cy=\"287.98\" fill=\"#383838\" rx=\"2\" ry=\"2\" style=\"stroke: #383838; stroke-width: 1.0;\"/></a><!--MD5=[2cfe899c895462254056921bfb67315f]\n",
       "link E13 to E11--><a href=\"psysml:69852053-465c-4b3e-807c-2facd65a229c\" target=\"_top\" title=\"psysml:69852053-465c-4b3e-807c-2facd65a229c\" xlink:actuate=\"onRequest\" xlink:href=\"psysml:69852053-465c-4b3e-807c-2facd65a229c\" xlink:show=\"new\" xlink:title=\"psysml:69852053-465c-4b3e-807c-2facd65a229c\" xlink:type=\"simple\"><path d=\"M108.25,236.46 C130.67,265.67 167,313 167,313 C167,313 176.99,326.71 186.86,340.25 \" fill=\"none\" id=\"E13-&gt;E11\" style=\"stroke: #383838; stroke-width: 1.0; stroke-dasharray: 7.0,7.0;\"/><polygon fill=\"#383838\" points=\"189.91,344.43,187.8474,334.7996,186.9674,340.3876,181.3794,339.5076,189.91,344.43\" style=\"stroke: #383838; stroke-width: 1.0;\"/><text fill=\"#000000\" font-family=\"sans-serif\" font-size=\"13\" lengthAdjust=\"spacingAndGlyphs\" textLength=\"57\" x=\"143\" y=\"279.0669\">«satisfy»</text></a><!--MD5=[a3d6fa2980ed3cf6b961144df6eea77d]\n",
       "@startuml\r\n",
       "skinparam linetype polyline\r\n",
       "skinparam monochrome true\r\n",
       "skinparam classbackgroundcolor white\r\n",
       "skinparam shadowing false\r\n",
       "skinparam wrapWidth 300\r\n",
       "hide circle\r\n",
       "\r\n",
       "package \"RequirementTest\" as E1  [[psysml:7a32e4ca-d886-48d1-a22e-a4337a6af1e2 ]]  {\r\n",
       "comp def \"C\" as E2  <<(T,blue)constraint def>> [[psysml:c5fd5931-ea17-4576-af97-a79679b06835 ]] {\r\n",
       "}\r\n",
       "comp usage \"c: C\" as E3  <<(T,blue)constraint>> [[psysml:23e87db0-b26a-4449-ad29-18415d83eb38 ]] {\r\n",
       "}\r\n",
       "comp def \"R\" as E4  <<(T,blue)requirement def>> [[psysml:aa32b181-0a7a-45c2-8d8e-c84b0489ed31 ]] {\r\n",
       "\r\n",
       "- -\r\n",
       "- - constraints - -\r\n",
       "<b>require</b> c\r\n",
       "<i>assume</i> c1: C\r\n",
       "}\r\n",
       "comp def \" [<b>1</b>] A\" as E5  <<(T,blue)requirement def>> [[psysml:c7a4f64d-f76e-4f11-bab9-561a5696e580 ]] {\r\n",
       "Text\r\n",
       "- -\r\n",
       "}\r\n",
       "comp usage \"<s>noname</s>\" as E8  <<(T,blue)requirement>> [[psysml:165156c7-6d13-47e8-9214-4efd9fbee902 ]] {\r\n",
       "}\r\n",
       "comp def \"R1\" as E9  <<(T,blue)requirement def>> [[psysml:5b4d3eaf-f72e-4f96-998b-f4a0a57df239 ]] {\r\n",
       "- - constraints - -\r\n",
       "<b>require</b> c1\\n//:>>RequirementTest::c// \r\n",
       "}\r\n",
       "comp usage \"p\" as E11  <<(T,blue)part>> [[psysml:8fb932f6-fc92-43ad-aa0e-8cfa7b71c9b3 ]] {\r\n",
       "}\r\n",
       "comp usage \"q\" as E12  <<(T,blue)part>> [[psysml:9b734dfd-0e44-4ae0-bd37-d0a03d4a12cd ]] {\r\n",
       "}\r\n",
       "comp usage \"r: R\" as E13  <<(T,blue)requirement>> [[psysml:5a1cae69-7149-47dc-88a9-208fdbfbba4b ]] {\r\n",
       "}\r\n",
       "E3 - -:|> E2 [[psysml:bb92853b-9a42-4685-9891-57f30cbf18f8 ]] \r\n",
       "E4 +- - E5 [[psysml:c7a4f64d-f76e-4f11-bab9-561a5696e580 ]] \r\n",
       "E4 *- - E8 [[psysml:165156c7-6d13-47e8-9214-4efd9fbee902 ]] \r\n",
       "E12 *- - E13 [[psysml:5a1cae69-7149-47dc-88a9-208fdbfbba4b ]] \r\n",
       "E13 - -:|> E4 [[psysml:9a693856-e1d7-4623-99b4-c4529bf04054 ]] \r\n",
       "E13 ..> E11 [[psysml:69852053-465c-4b3e-807c-2facd65a229c ]] : <<satisfy>>\r\n",
       "}\r\n",
       "@enduml\r\n",
       "\n",
       "PlantUML version 1.2020.13(Sat Jun 13 12:26:38 UTC 2020)\n",
       "(EPL source distribution)\n",
       "Java Runtime: OpenJDK Runtime Environment\n",
       "JVM: OpenJDK 64-Bit Server VM\n",
       "Default Encoding: UTF-8\n",
       "Language: en\n",
       "Country: null\n",
       "--></g></svg>"
      ]
     },
     "execution_count": 9,
     "metadata": {},
     "output_type": "execute_result"
    }
   ],
   "source": [
    "%viz --style=\"POLYLINE\" --view=\"Default\" \"RequirementTest\""
   ]
  },
  {
   "cell_type": "code",
   "execution_count": 10,
   "id": "characteristic-seeker",
   "metadata": {
    "execution": {
     "iopub.execute_input": "2021-03-25T09:26:55.762695Z",
     "iopub.status.busy": "2021-03-25T09:26:55.762211Z",
     "iopub.status.idle": "2021-03-25T09:26:56.631265Z",
     "shell.execute_reply": "2021-03-25T09:26:56.631627Z"
    }
   },
   "outputs": [
    {
     "data": {
      "image/svg+xml": [
       "<?xml version=\"1.0\" encoding=\"UTF-8\" standalone=\"no\"?><svg xmlns=\"http://www.w3.org/2000/svg\" xmlns:xlink=\"http://www.w3.org/1999/xlink\" contentScriptType=\"application/ecmascript\" contentStyleType=\"text/css\" height=\"578px\" preserveAspectRatio=\"none\" style=\"width:408px;height:578px;\" version=\"1.1\" viewBox=\"0 0 408 578\" width=\"408px\" zoomAndPan=\"magnify\"><defs/><g><!--MD5=[fbc87193dbaf4d95561dea2c320d4a47]\n",
       "cluster E1--><a href=\"psysml:7a32e4ca-d886-48d1-a22e-a4337a6af1e2\" target=\"_top\" title=\"psysml:7a32e4ca-d886-48d1-a22e-a4337a6af1e2\" xlink:actuate=\"onRequest\" xlink:href=\"psysml:7a32e4ca-d886-48d1-a22e-a4337a6af1e2\" xlink:show=\"new\" xlink:title=\"psysml:7a32e4ca-d886-48d1-a22e-a4337a6af1e2\" xlink:type=\"simple\"><polygon fill=\"#FFFFFF\" points=\"16,6,158,6,165,28.2969,386,28.2969,386,566,16,566,16,6\" style=\"stroke: #000000; stroke-width: 1.5;\"/><line style=\"stroke: #000000; stroke-width: 1.5;\" x1=\"16\" x2=\"165\" y1=\"28.2969\" y2=\"28.2969\"/><text fill=\"#000000\" font-family=\"sans-serif\" font-size=\"14\" font-weight=\"bold\" lengthAdjust=\"spacingAndGlyphs\" textLength=\"136\" x=\"20\" y=\"20.9951\">RequirementTest</text></a><!--MD5=[b4997ac47864f28c2f74865a473b2911]\n",
       "class E2--><a href=\"psysml:c5fd5931-ea17-4576-af97-a79679b06835\" target=\"_top\" title=\"psysml:c5fd5931-ea17-4576-af97-a79679b06835\" xlink:actuate=\"onRequest\" xlink:href=\"psysml:c5fd5931-ea17-4576-af97-a79679b06835\" xlink:show=\"new\" xlink:title=\"psysml:c5fd5931-ea17-4576-af97-a79679b06835\" xlink:type=\"simple\"><rect fill=\"#FFFFFF\" height=\"45.9375\" id=\"E2\" style=\"stroke: #383838; stroke-width: 1.5;\" width=\"104\" x=\"266\" y=\"190\"/><text fill=\"#000000\" font-family=\"sans-serif\" font-size=\"12\" font-style=\"italic\" lengthAdjust=\"spacingAndGlyphs\" textLength=\"102\" x=\"267\" y=\"206.1387\">«constraint def»</text><text fill=\"#000000\" font-family=\"sans-serif\" font-size=\"12\" lengthAdjust=\"spacingAndGlyphs\" textLength=\"8\" x=\"314\" y=\"220.1074\">C</text><line style=\"stroke: #383838; stroke-width: 1.5;\" x1=\"267\" x2=\"369\" y1=\"227.9375\" y2=\"227.9375\"/></a><!--MD5=[09b614a08d8cba4a07c9adeb5e0fee81]\n",
       "class E3--><a href=\"psysml:23e87db0-b26a-4449-ad29-18415d83eb38\" target=\"_top\" title=\"psysml:23e87db0-b26a-4449-ad29-18415d83eb38\" xlink:actuate=\"onRequest\" xlink:href=\"psysml:23e87db0-b26a-4449-ad29-18415d83eb38\" xlink:show=\"new\" xlink:title=\"psysml:23e87db0-b26a-4449-ad29-18415d83eb38\" xlink:type=\"simple\"><rect fill=\"#FFFFFF\" height=\"45.9375\" id=\"E3\" rx=\"10\" ry=\"10\" style=\"stroke: #383838; stroke-width: 1.5;\" width=\"80\" x=\"290\" y=\"62\"/><text fill=\"#000000\" font-family=\"sans-serif\" font-size=\"12\" font-style=\"italic\" lengthAdjust=\"spacingAndGlyphs\" textLength=\"78\" x=\"291\" y=\"78.1387\">«constraint»</text><text fill=\"#000000\" font-family=\"sans-serif\" font-size=\"12\" lengthAdjust=\"spacingAndGlyphs\" textLength=\"23\" x=\"318.5\" y=\"92.1074\">c: C</text><line style=\"stroke: #383838; stroke-width: 1.5;\" x1=\"291\" x2=\"369\" y1=\"99.9375\" y2=\"99.9375\"/></a><!--MD5=[ebbe1d658d1005bcc118a6aa81145e00]\n",
       "class E4--><a href=\"psysml:aa32b181-0a7a-45c2-8d8e-c84b0489ed31\" target=\"_top\" title=\"psysml:aa32b181-0a7a-45c2-8d8e-c84b0489ed31\" xlink:actuate=\"onRequest\" xlink:href=\"psysml:aa32b181-0a7a-45c2-8d8e-c84b0489ed31\" xlink:show=\"new\" xlink:title=\"psysml:aa32b181-0a7a-45c2-8d8e-c84b0489ed31\" xlink:type=\"simple\"><rect fill=\"#FFFFFF\" height=\"109.1563\" id=\"E4\" style=\"stroke: #383838; stroke-width: 1.5;\" width=\"117\" x=\"32.5\" y=\"313\"/><text fill=\"#000000\" font-family=\"sans-serif\" font-size=\"12\" font-style=\"italic\" lengthAdjust=\"spacingAndGlyphs\" textLength=\"115\" x=\"33.5\" y=\"329.1387\">«requirement def»</text><text fill=\"#000000\" font-family=\"sans-serif\" font-size=\"12\" lengthAdjust=\"spacingAndGlyphs\" textLength=\"8\" x=\"87\" y=\"343.1074\">R</text><line style=\"stroke: #383838; stroke-width: 1.5;\" x1=\"33.5\" x2=\"148.5\" y1=\"350.9375\" y2=\"350.9375\"/><text fill=\"#000000\" font-family=\"sans-serif\" font-size=\"11\" lengthAdjust=\"spacingAndGlyphs\" textLength=\"0\" x=\"42.5\" y=\"365.1479\"/><line style=\"stroke: #383838; stroke-width: 1.0;\" x1=\"33.5\" x2=\"148.5\" y1=\"371.7422\" y2=\"371.7422\"/><text fill=\"#000000\" font-family=\"sans-serif\" font-size=\"11\" font-weight=\"bold\" lengthAdjust=\"spacingAndGlyphs\" textLength=\"46\" x=\"38.5\" y=\"402.7573\">require</text><text fill=\"#000000\" font-family=\"sans-serif\" font-size=\"11\" lengthAdjust=\"spacingAndGlyphs\" textLength=\"6\" x=\"88.5\" y=\"402.7573\">c</text><text fill=\"#000000\" font-family=\"sans-serif\" font-size=\"11\" font-style=\"italic\" lengthAdjust=\"spacingAndGlyphs\" textLength=\"46\" x=\"38.5\" y=\"415.562\">assume</text><text fill=\"#000000\" font-family=\"sans-serif\" font-size=\"11\" lengthAdjust=\"spacingAndGlyphs\" textLength=\"29\" x=\"88.5\" y=\"415.562\">c1: C</text><line style=\"stroke: #383838; stroke-width: 1.0;\" x1=\"33.5\" x2=\"59\" y1=\"386.1445\" y2=\"386.1445\"/><text fill=\"#000000\" font-family=\"sans-serif\" font-size=\"11\" lengthAdjust=\"spacingAndGlyphs\" textLength=\"64\" x=\"59\" y=\"389.4526\">constraints</text><line style=\"stroke: #383838; stroke-width: 1.0;\" x1=\"123\" x2=\"148.5\" y1=\"386.1445\" y2=\"386.1445\"/></a><!--MD5=[270fce915f116d4de14055a7c1d9a0f3]\n",
       "class E5--><a href=\"psysml:c7a4f64d-f76e-4f11-bab9-561a5696e580\" target=\"_top\" title=\"psysml:c7a4f64d-f76e-4f11-bab9-561a5696e580\" xlink:actuate=\"onRequest\" xlink:href=\"psysml:c7a4f64d-f76e-4f11-bab9-561a5696e580\" xlink:show=\"new\" xlink:title=\"psysml:c7a4f64d-f76e-4f11-bab9-561a5696e580\" xlink:type=\"simple\"><rect fill=\"#FFFFFF\" height=\"66.7422\" id=\"E5\" style=\"stroke: #383838; stroke-width: 1.5;\" width=\"117\" x=\"32.5\" y=\"483\"/><text fill=\"#000000\" font-family=\"sans-serif\" font-size=\"12\" font-style=\"italic\" lengthAdjust=\"spacingAndGlyphs\" textLength=\"115\" x=\"33.5\" y=\"499.1387\">«requirement def»</text><text fill=\"#000000\" font-family=\"sans-serif\" font-size=\"12\" lengthAdjust=\"spacingAndGlyphs\" textLength=\"5\" x=\"78\" y=\"513.1074\">[</text><text fill=\"#000000\" font-family=\"sans-serif\" font-size=\"12\" font-weight=\"bold\" lengthAdjust=\"spacingAndGlyphs\" textLength=\"8\" x=\"83\" y=\"513.1074\">1</text><text fill=\"#000000\" font-family=\"sans-serif\" font-size=\"12\" lengthAdjust=\"spacingAndGlyphs\" textLength=\"17\" x=\"91\" y=\"513.1074\">] A</text><line style=\"stroke: #383838; stroke-width: 1.5;\" x1=\"33.5\" x2=\"148.5\" y1=\"520.9375\" y2=\"520.9375\"/><text fill=\"#000000\" font-family=\"sans-serif\" font-size=\"11\" lengthAdjust=\"spacingAndGlyphs\" textLength=\"24\" x=\"38.5\" y=\"535.1479\">Text</text><line style=\"stroke: #383838; stroke-width: 1.0;\" x1=\"33.5\" x2=\"148.5\" y1=\"541.7422\" y2=\"541.7422\"/></a><!--MD5=[b9389687b975829384b498ac4b7476b2]\n",
       "class E8--><a href=\"psysml:165156c7-6d13-47e8-9214-4efd9fbee902\" target=\"_top\" title=\"psysml:165156c7-6d13-47e8-9214-4efd9fbee902\" xlink:actuate=\"onRequest\" xlink:href=\"psysml:165156c7-6d13-47e8-9214-4efd9fbee902\" xlink:show=\"new\" xlink:title=\"psysml:165156c7-6d13-47e8-9214-4efd9fbee902\" xlink:type=\"simple\"><rect fill=\"#FFFFFF\" height=\"45.9375\" id=\"E8\" rx=\"10\" ry=\"10\" style=\"stroke: #383838; stroke-width: 1.5;\" width=\"93\" x=\"184.5\" y=\"493.5\"/><text fill=\"#000000\" font-family=\"sans-serif\" font-size=\"12\" font-style=\"italic\" lengthAdjust=\"spacingAndGlyphs\" textLength=\"91\" x=\"185.5\" y=\"509.6387\">«requirement»</text><text fill=\"#000000\" font-family=\"sans-serif\" font-size=\"12\" lengthAdjust=\"spacingAndGlyphs\" text-decoration=\"line-through\" textLength=\"51\" x=\"205.5\" y=\"523.6074\">noname</text><line style=\"stroke: #383838; stroke-width: 1.5;\" x1=\"185.5\" x2=\"276.5\" y1=\"531.4375\" y2=\"531.4375\"/></a><!--MD5=[fd4143e9d270a159db93a4ea2a975926]\n",
       "class E9--><a href=\"psysml:5b4d3eaf-f72e-4f96-998b-f4a0a57df239\" target=\"_top\" title=\"psysml:5b4d3eaf-f72e-4f96-998b-f4a0a57df239\" xlink:actuate=\"onRequest\" xlink:href=\"psysml:5b4d3eaf-f72e-4f96-998b-f4a0a57df239\" xlink:show=\"new\" xlink:title=\"psysml:5b4d3eaf-f72e-4f96-998b-f4a0a57df239\" xlink:type=\"simple\"><rect fill=\"#FFFFFF\" height=\"88.3516\" id=\"E9\" style=\"stroke: #383838; stroke-width: 1.5;\" width=\"145\" x=\"109.5\" y=\"41\"/><text fill=\"#000000\" font-family=\"sans-serif\" font-size=\"12\" font-style=\"italic\" lengthAdjust=\"spacingAndGlyphs\" textLength=\"115\" x=\"124.5\" y=\"57.1387\">«requirement def»</text><text fill=\"#000000\" font-family=\"sans-serif\" font-size=\"12\" lengthAdjust=\"spacingAndGlyphs\" textLength=\"16\" x=\"174\" y=\"71.1074\">R1</text><line style=\"stroke: #383838; stroke-width: 1.5;\" x1=\"110.5\" x2=\"253.5\" y1=\"78.9375\" y2=\"78.9375\"/><text fill=\"#000000\" font-family=\"sans-serif\" font-size=\"11\" font-weight=\"bold\" lengthAdjust=\"spacingAndGlyphs\" textLength=\"46\" x=\"115.5\" y=\"109.9526\">require</text><text fill=\"#000000\" font-family=\"sans-serif\" font-size=\"11\" lengthAdjust=\"spacingAndGlyphs\" textLength=\"13\" x=\"165.5\" y=\"109.9526\">c1</text><text fill=\"#000000\" font-family=\"sans-serif\" font-size=\"11\" font-style=\"italic\" lengthAdjust=\"spacingAndGlyphs\" textLength=\"133\" x=\"115.5\" y=\"122.7573\">:&gt;&gt;RequirementTest::c</text><line style=\"stroke: #383838; stroke-width: 1.0;\" x1=\"110.5\" x2=\"150\" y1=\"93.3398\" y2=\"93.3398\"/><text fill=\"#000000\" font-family=\"sans-serif\" font-size=\"11\" lengthAdjust=\"spacingAndGlyphs\" textLength=\"64\" x=\"150\" y=\"96.6479\">constraints</text><line style=\"stroke: #383838; stroke-width: 1.0;\" x1=\"214\" x2=\"253.5\" y1=\"93.3398\" y2=\"93.3398\"/></a><!--MD5=[1dd1bfd58a279cf63c5f349dbc8fc6a1]\n",
       "class E11--><a href=\"psysml:8fb932f6-fc92-43ad-aa0e-8cfa7b71c9b3\" target=\"_top\" title=\"psysml:8fb932f6-fc92-43ad-aa0e-8cfa7b71c9b3\" xlink:actuate=\"onRequest\" xlink:href=\"psysml:8fb932f6-fc92-43ad-aa0e-8cfa7b71c9b3\" xlink:show=\"new\" xlink:title=\"psysml:8fb932f6-fc92-43ad-aa0e-8cfa7b71c9b3\" xlink:type=\"simple\"><rect fill=\"#FFFFFF\" height=\"45.9375\" id=\"E11\" rx=\"10\" ry=\"10\" style=\"stroke: #383838; stroke-width: 1.5;\" width=\"42\" x=\"185\" y=\"344.5\"/><text fill=\"#000000\" font-family=\"sans-serif\" font-size=\"12\" font-style=\"italic\" lengthAdjust=\"spacingAndGlyphs\" textLength=\"40\" x=\"186\" y=\"360.6387\">«part»</text><text fill=\"#000000\" font-family=\"sans-serif\" font-size=\"12\" lengthAdjust=\"spacingAndGlyphs\" textLength=\"8\" x=\"202\" y=\"374.6074\">p</text><line style=\"stroke: #383838; stroke-width: 1.5;\" x1=\"186\" x2=\"226\" y1=\"382.4375\" y2=\"382.4375\"/></a><!--MD5=[49a0ec8f00dab7302a31f22d0f0fe584]\n",
       "class E12--><a href=\"psysml:9b734dfd-0e44-4ae0-bd37-d0a03d4a12cd\" target=\"_top\" title=\"psysml:9b734dfd-0e44-4ae0-bd37-d0a03d4a12cd\" xlink:actuate=\"onRequest\" xlink:href=\"psysml:9b734dfd-0e44-4ae0-bd37-d0a03d4a12cd\" xlink:show=\"new\" xlink:title=\"psysml:9b734dfd-0e44-4ae0-bd37-d0a03d4a12cd\" xlink:type=\"simple\"><rect fill=\"#FFFFFF\" height=\"45.9375\" id=\"E12\" rx=\"10\" ry=\"10\" style=\"stroke: #383838; stroke-width: 1.5;\" width=\"42\" x=\"32\" y=\"62\"/><text fill=\"#000000\" font-family=\"sans-serif\" font-size=\"12\" font-style=\"italic\" lengthAdjust=\"spacingAndGlyphs\" textLength=\"40\" x=\"33\" y=\"78.1387\">«part»</text><text fill=\"#000000\" font-family=\"sans-serif\" font-size=\"12\" lengthAdjust=\"spacingAndGlyphs\" textLength=\"8\" x=\"49\" y=\"92.1074\">q</text><line style=\"stroke: #383838; stroke-width: 1.5;\" x1=\"33\" x2=\"73\" y1=\"99.9375\" y2=\"99.9375\"/></a><!--MD5=[ee3c913d1a06f366521f9ef512b67efe]\n",
       "class E13--><a href=\"psysml:5a1cae69-7149-47dc-88a9-208fdbfbba4b\" target=\"_top\" title=\"psysml:5a1cae69-7149-47dc-88a9-208fdbfbba4b\" xlink:actuate=\"onRequest\" xlink:href=\"psysml:5a1cae69-7149-47dc-88a9-208fdbfbba4b\" xlink:show=\"new\" xlink:title=\"psysml:5a1cae69-7149-47dc-88a9-208fdbfbba4b\" xlink:type=\"simple\"><rect fill=\"#FFFFFF\" height=\"45.9375\" id=\"E13\" rx=\"10\" ry=\"10\" style=\"stroke: #383838; stroke-width: 1.5;\" width=\"93\" x=\"44.5\" y=\"190\"/><text fill=\"#000000\" font-family=\"sans-serif\" font-size=\"12\" font-style=\"italic\" lengthAdjust=\"spacingAndGlyphs\" textLength=\"91\" x=\"45.5\" y=\"206.1387\">«requirement»</text><text fill=\"#000000\" font-family=\"sans-serif\" font-size=\"12\" lengthAdjust=\"spacingAndGlyphs\" textLength=\"21\" x=\"80.5\" y=\"220.1074\">r: R</text><line style=\"stroke: #383838; stroke-width: 1.5;\" x1=\"45.5\" x2=\"136.5\" y1=\"227.9375\" y2=\"227.9375\"/></a><!--MD5=[05d275557350bfb9b23a4ef7222b4c39]\n",
       "link E3 to E2--><a href=\"psysml:bb92853b-9a42-4685-9891-57f30cbf18f8\" target=\"_top\" title=\"psysml:bb92853b-9a42-4685-9891-57f30cbf18f8\" xlink:actuate=\"onRequest\" xlink:href=\"psysml:bb92853b-9a42-4685-9891-57f30cbf18f8\" xlink:show=\"new\" xlink:title=\"psysml:bb92853b-9a42-4685-9891-57f30cbf18f8\" xlink:type=\"simple\"><path d=\"M327.88,108.24 C326.26,125.24 323.98,149.19 322.02,169.79 \" fill=\"none\" id=\"E3-&gt;E2\" style=\"stroke: #383838; stroke-width: 1.0;\"/><polygon fill=\"#FFFFFF\" points=\"320.1,189.99,314.9362,170.411,328.8729,171.7407,320.1,189.99\" style=\"stroke: #383838; stroke-width: 1.0;\"/><ellipse cx=\"317.4685\" cy=\"164.9268\" fill=\"#383838\" rx=\"2\" ry=\"2\" style=\"stroke: #383838; stroke-width: 1.0;\"/><ellipse cx=\"327.4233\" cy=\"165.8765\" fill=\"#383838\" rx=\"2\" ry=\"2\" style=\"stroke: #383838; stroke-width: 1.0;\"/></a><!--MD5=[62aa6af11e70f752912c1cb0466f24f7]\n",
       "reverse link E4 to E5--><a href=\"psysml:c7a4f64d-f76e-4f11-bab9-561a5696e580\" target=\"_top\" title=\"psysml:c7a4f64d-f76e-4f11-bab9-561a5696e580\" xlink:actuate=\"onRequest\" xlink:href=\"psysml:c7a4f64d-f76e-4f11-bab9-561a5696e580\" xlink:show=\"new\" xlink:title=\"psysml:c7a4f64d-f76e-4f11-bab9-561a5696e580\" xlink:type=\"simple\"><path d=\"M91,437.45 C91,453.34 91,469.51 91,482.98 \" fill=\"none\" id=\"E4&lt;-E5\" style=\"stroke: #383838; stroke-width: 1.0;\"/><ellipse cx=\"91\" cy=\"430.4\" fill=\"#FFFFFF\" rx=\"8\" ry=\"8\" style=\"stroke: #383838; stroke-width: 1.0;\"/><line style=\"stroke: #383838; stroke-width: 1.0;\" x1=\"91\" x2=\"91\" y1=\"438.4\" y2=\"422.4\"/><line style=\"stroke: #383838; stroke-width: 1.0;\" x1=\"83\" x2=\"99\" y1=\"430.4\" y2=\"430.4\"/></a><!--MD5=[c6fc7cdb0cabde04948078cf183fa696]\n",
       "reverse link E4 to E8--><a href=\"psysml:165156c7-6d13-47e8-9214-4efd9fbee902\" target=\"_top\" title=\"psysml:165156c7-6d13-47e8-9214-4efd9fbee902\" xlink:actuate=\"onRequest\" xlink:href=\"psysml:165156c7-6d13-47e8-9214-4efd9fbee902\" xlink:show=\"new\" xlink:title=\"psysml:165156c7-6d13-47e8-9214-4efd9fbee902\" xlink:type=\"simple\"><path d=\"M151.51,432.04 C172.42,453.99 194.47,477.14 210.03,493.48 \" fill=\"none\" id=\"E4&lt;-E8\" style=\"stroke: #383838; stroke-width: 1.0;\"/><polygon fill=\"#383838\" points=\"142.34,422.4,143.5779,429.5041,150.6116,431.0937,149.3737,423.9897,142.34,422.4\" style=\"stroke: #383838; stroke-width: 1.0;\"/></a><!--MD5=[062ed86c389d1a88f61c6380d0491e17]\n",
       "reverse link E12 to E13--><a href=\"psysml:5a1cae69-7149-47dc-88a9-208fdbfbba4b\" target=\"_top\" title=\"psysml:5a1cae69-7149-47dc-88a9-208fdbfbba4b\" xlink:actuate=\"onRequest\" xlink:href=\"psysml:5a1cae69-7149-47dc-88a9-208fdbfbba4b\" xlink:show=\"new\" xlink:title=\"psysml:5a1cae69-7149-47dc-88a9-208fdbfbba4b\" xlink:type=\"simple\"><path d=\"M63.49,120.8 C70.17,142.92 78.6,170.89 84.36,189.99 \" fill=\"none\" id=\"E12&lt;-E13\" style=\"stroke: #383838; stroke-width: 1.0;\"/><polygon fill=\"#383838\" points=\"59.71,108.24,57.6129,115.1394,63.1751,119.7288,65.2722,112.8294,59.71,108.24\" style=\"stroke: #383838; stroke-width: 1.0;\"/></a><!--MD5=[017847e01ff9a8bd19f247411074f987]\n",
       "link E13 to E4--><a href=\"psysml:9a693856-e1d7-4623-99b4-c4529bf04054\" target=\"_top\" title=\"psysml:9a693856-e1d7-4623-99b4-c4529bf04054\" xlink:actuate=\"onRequest\" xlink:href=\"psysml:9a693856-e1d7-4623-99b4-c4529bf04054\" xlink:show=\"new\" xlink:title=\"psysml:9a693856-e1d7-4623-99b4-c4529bf04054\" xlink:type=\"simple\"><path d=\"M91,236.17 C91,251.17 91,271.91 91,292.44 \" fill=\"none\" id=\"E13-&gt;E4\" style=\"stroke: #383838; stroke-width: 1.0;\"/><polygon fill=\"#FFFFFF\" points=\"91,312.68,84,293.68,98,293.68,91,312.68\" style=\"stroke: #383838; stroke-width: 1.0;\"/><ellipse cx=\"86\" cy=\"287.98\" fill=\"#383838\" rx=\"2\" ry=\"2\" style=\"stroke: #383838; stroke-width: 1.0;\"/><ellipse cx=\"96\" cy=\"287.98\" fill=\"#383838\" rx=\"2\" ry=\"2\" style=\"stroke: #383838; stroke-width: 1.0;\"/></a><!--MD5=[2cfe899c895462254056921bfb67315f]\n",
       "link E13 to E11--><a href=\"psysml:69852053-465c-4b3e-807c-2facd65a229c\" target=\"_top\" title=\"psysml:69852053-465c-4b3e-807c-2facd65a229c\" xlink:actuate=\"onRequest\" xlink:href=\"psysml:69852053-465c-4b3e-807c-2facd65a229c\" xlink:show=\"new\" xlink:title=\"psysml:69852053-465c-4b3e-807c-2facd65a229c\" xlink:type=\"simple\"><path d=\"M108.25,236.46 C130.67,265.67 167,313 167,313 C167,313 176.99,326.71 186.86,340.25 \" fill=\"none\" id=\"E13-&gt;E11\" style=\"stroke: #383838; stroke-width: 1.0; stroke-dasharray: 7.0,7.0;\"/><polygon fill=\"#383838\" points=\"189.91,344.43,187.8474,334.7996,186.9674,340.3876,181.3794,339.5076,189.91,344.43\" style=\"stroke: #383838; stroke-width: 1.0;\"/><text fill=\"#000000\" font-family=\"sans-serif\" font-size=\"13\" lengthAdjust=\"spacingAndGlyphs\" textLength=\"57\" x=\"143\" y=\"279.0669\">«satisfy»</text></a><!--MD5=[a3d6fa2980ed3cf6b961144df6eea77d]\n",
       "@startuml\r\n",
       "skinparam linetype polyline\r\n",
       "skinparam monochrome true\r\n",
       "skinparam classbackgroundcolor white\r\n",
       "skinparam shadowing false\r\n",
       "skinparam wrapWidth 300\r\n",
       "hide circle\r\n",
       "\r\n",
       "package \"RequirementTest\" as E1  [[psysml:7a32e4ca-d886-48d1-a22e-a4337a6af1e2 ]]  {\r\n",
       "comp def \"C\" as E2  <<(T,blue)constraint def>> [[psysml:c5fd5931-ea17-4576-af97-a79679b06835 ]] {\r\n",
       "}\r\n",
       "comp usage \"c: C\" as E3  <<(T,blue)constraint>> [[psysml:23e87db0-b26a-4449-ad29-18415d83eb38 ]] {\r\n",
       "}\r\n",
       "comp def \"R\" as E4  <<(T,blue)requirement def>> [[psysml:aa32b181-0a7a-45c2-8d8e-c84b0489ed31 ]] {\r\n",
       "\r\n",
       "- -\r\n",
       "- - constraints - -\r\n",
       "<b>require</b> c\r\n",
       "<i>assume</i> c1: C\r\n",
       "}\r\n",
       "comp def \" [<b>1</b>] A\" as E5  <<(T,blue)requirement def>> [[psysml:c7a4f64d-f76e-4f11-bab9-561a5696e580 ]] {\r\n",
       "Text\r\n",
       "- -\r\n",
       "}\r\n",
       "comp usage \"<s>noname</s>\" as E8  <<(T,blue)requirement>> [[psysml:165156c7-6d13-47e8-9214-4efd9fbee902 ]] {\r\n",
       "}\r\n",
       "comp def \"R1\" as E9  <<(T,blue)requirement def>> [[psysml:5b4d3eaf-f72e-4f96-998b-f4a0a57df239 ]] {\r\n",
       "- - constraints - -\r\n",
       "<b>require</b> c1\\n//:>>RequirementTest::c// \r\n",
       "}\r\n",
       "comp usage \"p\" as E11  <<(T,blue)part>> [[psysml:8fb932f6-fc92-43ad-aa0e-8cfa7b71c9b3 ]] {\r\n",
       "}\r\n",
       "comp usage \"q\" as E12  <<(T,blue)part>> [[psysml:9b734dfd-0e44-4ae0-bd37-d0a03d4a12cd ]] {\r\n",
       "}\r\n",
       "comp usage \"r: R\" as E13  <<(T,blue)requirement>> [[psysml:5a1cae69-7149-47dc-88a9-208fdbfbba4b ]] {\r\n",
       "}\r\n",
       "E3 - -:|> E2 [[psysml:bb92853b-9a42-4685-9891-57f30cbf18f8 ]] \r\n",
       "E4 +- - E5 [[psysml:c7a4f64d-f76e-4f11-bab9-561a5696e580 ]] \r\n",
       "E4 *- - E8 [[psysml:165156c7-6d13-47e8-9214-4efd9fbee902 ]] \r\n",
       "E12 *- - E13 [[psysml:5a1cae69-7149-47dc-88a9-208fdbfbba4b ]] \r\n",
       "E13 - -:|> E4 [[psysml:9a693856-e1d7-4623-99b4-c4529bf04054 ]] \r\n",
       "E13 ..> E11 [[psysml:69852053-465c-4b3e-807c-2facd65a229c ]] : <<satisfy>>\r\n",
       "}\r\n",
       "@enduml\r\n",
       "\n",
       "PlantUML version 1.2020.13(Sat Jun 13 12:26:38 UTC 2020)\n",
       "(EPL source distribution)\n",
       "Java Runtime: OpenJDK Runtime Environment\n",
       "JVM: OpenJDK 64-Bit Server VM\n",
       "Default Encoding: UTF-8\n",
       "Language: en\n",
       "Country: null\n",
       "--></g></svg>"
      ]
     },
     "execution_count": 10,
     "metadata": {},
     "output_type": "execute_result"
    }
   ],
   "source": [
    "%viz --style=\"POLYLINE\" --view=\"Tree\" \"RequirementTest\""
   ]
  },
  {
   "cell_type": "code",
   "execution_count": 11,
   "id": "adopted-slovak",
   "metadata": {
    "execution": {
     "iopub.execute_input": "2021-03-25T09:26:56.684801Z",
     "iopub.status.busy": "2021-03-25T09:26:56.683832Z",
     "iopub.status.idle": "2021-03-25T09:26:56.694389Z",
     "shell.execute_reply": "2021-03-25T09:26:56.694772Z"
    }
   },
   "outputs": [
    {
     "data": {
      "image/svg+xml": [
       "<?xml version=\"1.0\" encoding=\"UTF-8\" standalone=\"no\"?><svg xmlns=\"http://www.w3.org/2000/svg\" xmlns:xlink=\"http://www.w3.org/1999/xlink\" contentScriptType=\"application/ecmascript\" contentStyleType=\"text/css\" height=\"12px\" preserveAspectRatio=\"none\" style=\"width:12px;height:12px;\" version=\"1.1\" viewBox=\"0 0 12 12\" width=\"12px\" zoomAndPan=\"magnify\"><defs/><g><!--MD5=[896ac0e7a515d8dd7765a661cb4ee08b]\n",
       "@startuml\r\n",
       "skinparam linetype polyline\r\n",
       "skinparam monochrome true\r\n",
       "skinparam classbackgroundcolor white\r\n",
       "skinparam shadowing false\r\n",
       "skinparam wrapWidth 300\r\n",
       "hide circle\r\n",
       "\r\n",
       "@enduml\r\n",
       "\n",
       "PlantUML version 1.2020.13(Sat Jun 13 12:26:38 UTC 2020)\n",
       "(EPL source distribution)\n",
       "Java Runtime: OpenJDK Runtime Environment\n",
       "JVM: OpenJDK 64-Bit Server VM\n",
       "Default Encoding: UTF-8\n",
       "Language: en\n",
       "Country: null\n",
       "--></g></svg>"
      ]
     },
     "execution_count": 11,
     "metadata": {},
     "output_type": "execute_result"
    }
   ],
   "source": [
    "%viz --style=\"POLYLINE\" --view=\"State\" \"RequirementTest\""
   ]
  },
  {
   "cell_type": "code",
   "execution_count": 12,
   "id": "upper-slovak",
   "metadata": {
    "execution": {
     "iopub.execute_input": "2021-03-25T09:26:56.746159Z",
     "iopub.status.busy": "2021-03-25T09:26:56.745683Z",
     "iopub.status.idle": "2021-03-25T09:26:56.872551Z",
     "shell.execute_reply": "2021-03-25T09:26:56.872198Z"
    }
   },
   "outputs": [
    {
     "data": {
      "image/svg+xml": [
       "<?xml version=\"1.0\" encoding=\"UTF-8\" standalone=\"no\"?><svg xmlns=\"http://www.w3.org/2000/svg\" xmlns:xlink=\"http://www.w3.org/1999/xlink\" contentScriptType=\"application/ecmascript\" contentStyleType=\"text/css\" height=\"367px\" preserveAspectRatio=\"none\" style=\"width:852px;height:367px;\" version=\"1.1\" viewBox=\"0 0 852 367\" width=\"852px\" zoomAndPan=\"magnify\"><defs/><g><!--MD5=[fbc87193dbaf4d95561dea2c320d4a47]\n",
       "cluster E1--><a href=\"psysml:7a32e4ca-d886-48d1-a22e-a4337a6af1e2\" target=\"_top\" title=\"psysml:7a32e4ca-d886-48d1-a22e-a4337a6af1e2\" xlink:actuate=\"onRequest\" xlink:href=\"psysml:7a32e4ca-d886-48d1-a22e-a4337a6af1e2\" xlink:show=\"new\" xlink:title=\"psysml:7a32e4ca-d886-48d1-a22e-a4337a6af1e2\" xlink:type=\"simple\"><polygon fill=\"#FFFFFF\" points=\"16,6,158,6,165,28.2969,830,28.2969,830,355,16,355,16,6\" style=\"stroke: #000000; stroke-width: 1.5;\"/><line style=\"stroke: #000000; stroke-width: 1.5;\" x1=\"16\" x2=\"165\" y1=\"28.2969\" y2=\"28.2969\"/><text fill=\"#000000\" font-family=\"sans-serif\" font-size=\"14\" font-weight=\"bold\" lengthAdjust=\"spacingAndGlyphs\" textLength=\"136\" x=\"20\" y=\"20.9951\">RequirementTest</text></a><!--MD5=[168fadf3d0c3fd93dd5d6da1b1d7ab76]\n",
       "cluster E7--><a href=\"psysml:9b734dfd-0e44-4ae0-bd37-d0a03d4a12cd\" target=\"_top\" title=\"psysml:9b734dfd-0e44-4ae0-bd37-d0a03d4a12cd\" xlink:actuate=\"onRequest\" xlink:href=\"psysml:9b734dfd-0e44-4ae0-bd37-d0a03d4a12cd\" xlink:show=\"new\" xlink:title=\"psysml:9b734dfd-0e44-4ae0-bd37-d0a03d4a12cd\" xlink:type=\"simple\"><rect fill=\"#FFFFFF\" height=\"209\" id=\"E7\" rx=\"10\" ry=\"10\" style=\"stroke: #383838; stroke-width: 1.5;\" width=\"213\" x=\"593\" y=\"49\"/><rect fill=\"#F8F8F8\" height=\"23.9688\" rx=\"10\" ry=\"10\" style=\"stroke: #F8F8F8; stroke-width: 1.5;\" width=\"213\" x=\"593\" y=\"49\"/><rect fill=\"#F8F8F8\" height=\"10\" style=\"stroke: #F8F8F8; stroke-width: 1.5;\" width=\"213\" x=\"593\" y=\"62.9688\"/><rect fill=\"none\" height=\"209\" id=\"E7\" rx=\"10\" ry=\"10\" style=\"stroke: #383838; stroke-width: 1.5;\" width=\"213\" x=\"593\" y=\"49\"/><text fill=\"#000000\" font-family=\"sans-serif\" font-size=\"12\" lengthAdjust=\"spacingAndGlyphs\" textLength=\"8\" x=\"695.5\" y=\"65.1387\">q</text><line style=\"stroke: #383838; stroke-width: 1.0;\" x1=\"593\" x2=\"806\" y1=\"72.9688\" y2=\"72.9688\"/></a><!--MD5=[55dfccfc6c49c2d10cd1bd2211a6c90c]\n",
       "cluster E8--><a href=\"psysml:5a1cae69-7149-47dc-88a9-208fdbfbba4b\" target=\"_top\" title=\"psysml:5a1cae69-7149-47dc-88a9-208fdbfbba4b\" xlink:actuate=\"onRequest\" xlink:href=\"psysml:5a1cae69-7149-47dc-88a9-208fdbfbba4b\" xlink:show=\"new\" xlink:title=\"psysml:5a1cae69-7149-47dc-88a9-208fdbfbba4b\" xlink:type=\"simple\"><rect fill=\"#FFFFFF\" height=\"126\" id=\"E8\" rx=\"10\" ry=\"10\" style=\"stroke: #383838; stroke-width: 1.5;\" width=\"149\" x=\"625\" y=\"100\"/><rect fill=\"#F8F8F8\" height=\"37.9375\" rx=\"10\" ry=\"10\" style=\"stroke: #F8F8F8; stroke-width: 1.5;\" width=\"149\" x=\"625\" y=\"100\"/><rect fill=\"#F8F8F8\" height=\"10\" style=\"stroke: #F8F8F8; stroke-width: 1.5;\" width=\"149\" x=\"625\" y=\"127.9375\"/><rect fill=\"none\" height=\"126\" id=\"E8\" rx=\"10\" ry=\"10\" style=\"stroke: #383838; stroke-width: 1.5;\" width=\"149\" x=\"625\" y=\"100\"/><text fill=\"#000000\" font-family=\"sans-serif\" font-size=\"12\" font-style=\"italic\" lengthAdjust=\"spacingAndGlyphs\" textLength=\"91\" x=\"654\" y=\"116.1387\">«requirement»</text><text fill=\"#000000\" font-family=\"sans-serif\" font-size=\"12\" lengthAdjust=\"spacingAndGlyphs\" textLength=\"21\" x=\"689\" y=\"130.1074\">r: R</text><line style=\"stroke: #383838; stroke-width: 1.0;\" x1=\"625\" x2=\"774\" y1=\"137.9375\" y2=\"137.9375\"/></a><g id=\"E1.E2\"><a href=\"psysml:c5fd5931-ea17-4576-af97-a79679b06835\" target=\"_top\" title=\"psysml:c5fd5931-ea17-4576-af97-a79679b06835\" xlink:actuate=\"onRequest\" xlink:href=\"psysml:c5fd5931-ea17-4576-af97-a79679b06835\" xlink:show=\"new\" xlink:title=\"psysml:c5fd5931-ea17-4576-af97-a79679b06835\" xlink:type=\"simple\"><rect fill=\"#FFFFFF\" height=\"42.9375\" id=\"E2\" style=\"stroke: #383838; stroke-width: 1.5;\" width=\"109\" x=\"467.5\" y=\"159\"/><rect fill=\"#F8F8F8\" height=\"37.9375\" style=\"stroke: #383838; stroke-width: 1.5;\" width=\"109\" x=\"467.5\" y=\"159\"/><text fill=\"#000000\" font-family=\"sans-serif\" font-size=\"12\" font-style=\"italic\" lengthAdjust=\"spacingAndGlyphs\" textLength=\"102\" x=\"471\" y=\"175.1387\">«constraint def»</text><text fill=\"#000000\" font-family=\"sans-serif\" font-size=\"12\" lengthAdjust=\"spacingAndGlyphs\" textLength=\"8\" x=\"518\" y=\"189.1074\">C</text></a></g><g id=\"E1.E4\"><a href=\"psysml:aa32b181-0a7a-45c2-8d8e-c84b0489ed31\" target=\"_top\" title=\"psysml:aa32b181-0a7a-45c2-8d8e-c84b0489ed31\" xlink:actuate=\"onRequest\" xlink:href=\"psysml:aa32b181-0a7a-45c2-8d8e-c84b0489ed31\" xlink:show=\"new\" xlink:title=\"psysml:aa32b181-0a7a-45c2-8d8e-c84b0489ed31\" xlink:type=\"simple\"><rect fill=\"#FFFFFF\" height=\"42.9375\" id=\"E4\" style=\"stroke: #383838; stroke-width: 1.5;\" width=\"122\" x=\"310\" y=\"159\"/><rect fill=\"#F8F8F8\" height=\"37.9375\" style=\"stroke: #383838; stroke-width: 1.5;\" width=\"122\" x=\"310\" y=\"159\"/><text fill=\"#000000\" font-family=\"sans-serif\" font-size=\"12\" font-style=\"italic\" lengthAdjust=\"spacingAndGlyphs\" textLength=\"115\" x=\"313.5\" y=\"175.1387\">«requirement def»</text><text fill=\"#000000\" font-family=\"sans-serif\" font-size=\"12\" lengthAdjust=\"spacingAndGlyphs\" textLength=\"8\" x=\"367\" y=\"189.1074\">R</text></a></g><g id=\"E1.E5\"><a href=\"psysml:5b4d3eaf-f72e-4f96-998b-f4a0a57df239\" target=\"_top\" title=\"psysml:5b4d3eaf-f72e-4f96-998b-f4a0a57df239\" xlink:actuate=\"onRequest\" xlink:href=\"psysml:5b4d3eaf-f72e-4f96-998b-f4a0a57df239\" xlink:show=\"new\" xlink:title=\"psysml:5b4d3eaf-f72e-4f96-998b-f4a0a57df239\" xlink:type=\"simple\"><rect fill=\"#FFFFFF\" height=\"42.9375\" id=\"E5\" style=\"stroke: #383838; stroke-width: 1.5;\" width=\"122\" x=\"153\" y=\"159\"/><rect fill=\"#F8F8F8\" height=\"37.9375\" style=\"stroke: #383838; stroke-width: 1.5;\" width=\"122\" x=\"153\" y=\"159\"/><text fill=\"#000000\" font-family=\"sans-serif\" font-size=\"12\" font-style=\"italic\" lengthAdjust=\"spacingAndGlyphs\" textLength=\"115\" x=\"156.5\" y=\"175.1387\">«requirement def»</text><text fill=\"#000000\" font-family=\"sans-serif\" font-size=\"12\" lengthAdjust=\"spacingAndGlyphs\" textLength=\"16\" x=\"206\" y=\"189.1074\">R1</text></a></g><g id=\"E1.E3\"><a href=\"psysml:23e87db0-b26a-4449-ad29-18415d83eb38\" target=\"_top\" title=\"psysml:23e87db0-b26a-4449-ad29-18415d83eb38\" xlink:actuate=\"onRequest\" xlink:href=\"psysml:23e87db0-b26a-4449-ad29-18415d83eb38\" xlink:show=\"new\" xlink:title=\"psysml:23e87db0-b26a-4449-ad29-18415d83eb38\" xlink:type=\"simple\"><rect fill=\"#FFFFFF\" height=\"42.9375\" id=\"E3\" rx=\"10\" ry=\"10\" style=\"stroke: #383838; stroke-width: 1.5;\" width=\"85\" x=\"32.5\" y=\"159\"/><rect fill=\"#F8F8F8\" height=\"37.9375\" rx=\"10\" ry=\"10\" style=\"stroke: #F8F8F8; stroke-width: 1.5;\" width=\"85\" x=\"32.5\" y=\"159\"/><rect fill=\"#F8F8F8\" height=\"10\" style=\"stroke: #F8F8F8; stroke-width: 1.5;\" width=\"85\" x=\"32.5\" y=\"186.9375\"/><rect fill=\"none\" height=\"42.9375\" id=\"E3\" rx=\"10\" ry=\"10\" style=\"stroke: #383838; stroke-width: 1.5;\" width=\"85\" x=\"32.5\" y=\"159\"/><text fill=\"#000000\" font-family=\"sans-serif\" font-size=\"12\" font-style=\"italic\" lengthAdjust=\"spacingAndGlyphs\" textLength=\"78\" x=\"36\" y=\"175.1387\">«constraint»</text><text fill=\"#000000\" font-family=\"sans-serif\" font-size=\"12\" lengthAdjust=\"spacingAndGlyphs\" textLength=\"23\" x=\"63.5\" y=\"189.1074\">c: C</text></a></g><g id=\"E1.E6\"><a href=\"psysml:8fb932f6-fc92-43ad-aa0e-8cfa7b71c9b3\" target=\"_top\" title=\"psysml:8fb932f6-fc92-43ad-aa0e-8cfa7b71c9b3\" xlink:actuate=\"onRequest\" xlink:href=\"psysml:8fb932f6-fc92-43ad-aa0e-8cfa7b71c9b3\" xlink:show=\"new\" xlink:title=\"psysml:8fb932f6-fc92-43ad-aa0e-8cfa7b71c9b3\" xlink:type=\"simple\"><rect fill=\"#FFFFFF\" height=\"40\" id=\"E6\" rx=\"10\" ry=\"10\" style=\"stroke: #383838; stroke-width: 1.5;\" width=\"50\" x=\"608\" y=\"299\"/><rect fill=\"#F8F8F8\" height=\"23.9688\" rx=\"10\" ry=\"10\" style=\"stroke: #F8F8F8; stroke-width: 1.5;\" width=\"50\" x=\"608\" y=\"299\"/><rect fill=\"#F8F8F8\" height=\"10\" style=\"stroke: #F8F8F8; stroke-width: 1.5;\" width=\"50\" x=\"608\" y=\"312.9688\"/><rect fill=\"none\" height=\"40\" id=\"E6\" rx=\"10\" ry=\"10\" style=\"stroke: #383838; stroke-width: 1.5;\" width=\"50\" x=\"608\" y=\"299\"/><text fill=\"#000000\" font-family=\"sans-serif\" font-size=\"12\" lengthAdjust=\"spacingAndGlyphs\" textLength=\"8\" x=\"629\" y=\"315.1387\">p</text></a></g><g id=\"E1.E7.E8.E9\"><a href=\"psysml:ebf9f55c-b0ce-46a7-820d-0de32b7e0555\" target=\"_top\" title=\"psysml:ebf9f55c-b0ce-46a7-820d-0de32b7e0555\" xlink:actuate=\"onRequest\" xlink:href=\"psysml:ebf9f55c-b0ce-46a7-820d-0de32b7e0555\" xlink:show=\"new\" xlink:title=\"psysml:ebf9f55c-b0ce-46a7-820d-0de32b7e0555\" xlink:type=\"simple\"><rect fill=\"#FFFFFF\" height=\"42.9375\" id=\"E9\" rx=\"10\" ry=\"10\" style=\"stroke: #383838; stroke-width: 1.5;\" width=\"82\" x=\"668\" y=\"159\"/><rect fill=\"#F8F8F8\" height=\"37.9375\" rx=\"10\" ry=\"10\" style=\"stroke: #F8F8F8; stroke-width: 1.5;\" width=\"82\" x=\"668\" y=\"159\"/><rect fill=\"#F8F8F8\" height=\"10\" style=\"stroke: #F8F8F8; stroke-width: 1.5;\" width=\"82\" x=\"668\" y=\"186.9375\"/><rect fill=\"none\" height=\"42.9375\" id=\"E9\" rx=\"10\" ry=\"10\" style=\"stroke: #383838; stroke-width: 1.5;\" width=\"82\" x=\"668\" y=\"159\"/><text fill=\"#000000\" font-family=\"sans-serif\" font-size=\"12\" font-style=\"italic\" lengthAdjust=\"spacingAndGlyphs\" textLength=\"75\" x=\"671.5\" y=\"175.1387\">«reference»</text><text fill=\"#000000\" font-family=\"sans-serif\" font-size=\"12\" lengthAdjust=\"spacingAndGlyphs\" textLength=\"26\" x=\"696\" y=\"189.1074\">subj</text></a></g><!--MD5=[c5e8897d989ce984f93528998a7150fe]\n",
       "link E8 to E6--><a href=\"psysml:69852053-465c-4b3e-807c-2facd65a229c\" target=\"_top\" title=\"psysml:69852053-465c-4b3e-807c-2facd65a229c\" xlink:actuate=\"onRequest\" xlink:href=\"psysml:69852053-465c-4b3e-807c-2facd65a229c\" xlink:show=\"new\" xlink:title=\"psysml:69852053-465c-4b3e-807c-2facd65a229c\" xlink:type=\"simple\"><path d=\"M633,226.4501 C633,227.1713 633,227.8965 633,228.6252 C633,230.0826 633,231.5543 633,233.0372 C633,236.003 633,239.0136 633,242.0448 C633,248.1072 633,254.2518 633,260.2839 C633,272.3481 633,283.9625 633,293.57 \" fill=\"none\" id=\"E8-&gt;E6\" style=\"stroke: #383838; stroke-width: 1.0; stroke-dasharray: 7.0,7.0;\"/><polygon fill=\"#383838\" points=\"633,298.99,637,289.99,633,293.99,629,289.99,633,298.99\" style=\"stroke: #383838; stroke-width: 1.0;\"/><text fill=\"#000000\" font-family=\"sans-serif\" font-size=\"13\" lengthAdjust=\"spacingAndGlyphs\" textLength=\"57\" x=\"634\" y=\"287.0669\">«satisfy»</text></a><!--MD5=[14667c0ab313234f3b0d5da62559773d]\n",
       "@startuml\r\n",
       "skinparam ranksep 8\r\n",
       "skinparam rectangle {\r\n",
       " backgroundColor<<block>> LightGreen\r\n",
       "}\r\n",
       "skinparam linetype polyline\r\n",
       "skinparam monochrome true\r\n",
       "skinparam classbackgroundcolor white\r\n",
       "skinparam shadowing false\r\n",
       "skinparam wrapWidth 300\r\n",
       "hide circle\r\n",
       "\r\n",
       "package \"RequirementTest\" as E1  [[psysml:7a32e4ca-d886-48d1-a22e-a4337a6af1e2 ]]  {\r\n",
       "def \"C\" as E2  <<(T,blue)constraint def>> [[psysml:c5fd5931-ea17-4576-af97-a79679b06835 ]] \r\n",
       "rec usage \"c: C\" as E3  <<(T,blue)constraint>> [[psysml:23e87db0-b26a-4449-ad29-18415d83eb38 ]] {\r\n",
       "}\r\n",
       "def \"R\" as E4  <<(T,blue)requirement def>> [[psysml:aa32b181-0a7a-45c2-8d8e-c84b0489ed31 ]] \r\n",
       "def \"R1\" as E5  <<(T,blue)requirement def>> [[psysml:5b4d3eaf-f72e-4f96-998b-f4a0a57df239 ]] \r\n",
       "rec usage \"p\" as E6  [[psysml:8fb932f6-fc92-43ad-aa0e-8cfa7b71c9b3 ]] {\r\n",
       "}\r\n",
       "rec usage \"q\" as E7  [[psysml:9b734dfd-0e44-4ae0-bd37-d0a03d4a12cd ]] {\r\n",
       "rec usage \"r: R\" as E8  <<(T,blue)requirement>> [[psysml:5a1cae69-7149-47dc-88a9-208fdbfbba4b ]] {\r\n",
       "rec usage \"subj\" as E9  <<(T,blue)reference>> [[psysml:ebf9f55c-b0ce-46a7-820d-0de32b7e0555 ]] {\r\n",
       "}\r\n",
       "}\r\n",
       "}\r\n",
       "E8 ..> E6 [[psysml:69852053-465c-4b3e-807c-2facd65a229c ]] : <<satisfy>>\r\n",
       "}\r\n",
       "@enduml\r\n",
       "\n",
       "PlantUML version 1.2020.13(Sat Jun 13 12:26:38 UTC 2020)\n",
       "(EPL source distribution)\n",
       "Java Runtime: OpenJDK Runtime Environment\n",
       "JVM: OpenJDK 64-Bit Server VM\n",
       "Default Encoding: UTF-8\n",
       "Language: en\n",
       "Country: null\n",
       "--></g></svg>"
      ]
     },
     "execution_count": 12,
     "metadata": {},
     "output_type": "execute_result"
    }
   ],
   "source": [
    "%viz --style=\"POLYLINE\" --view=\"Interconnection\" \"RequirementTest\""
   ]
  },
  {
   "cell_type": "code",
   "execution_count": 13,
   "id": "latin-driver",
   "metadata": {
    "execution": {
     "iopub.execute_input": "2021-03-25T09:26:56.923342Z",
     "iopub.status.busy": "2021-03-25T09:26:56.922785Z",
     "iopub.status.idle": "2021-03-25T09:26:56.931329Z",
     "shell.execute_reply": "2021-03-25T09:26:56.931697Z"
    }
   },
   "outputs": [
    {
     "data": {
      "image/svg+xml": [
       "<?xml version=\"1.0\" encoding=\"UTF-8\" standalone=\"no\"?><svg xmlns=\"http://www.w3.org/2000/svg\" xmlns:xlink=\"http://www.w3.org/1999/xlink\" contentScriptType=\"application/ecmascript\" contentStyleType=\"text/css\" height=\"12px\" preserveAspectRatio=\"none\" style=\"width:12px;height:12px;\" version=\"1.1\" viewBox=\"0 0 12 12\" width=\"12px\" zoomAndPan=\"magnify\"><defs/><g><!--MD5=[97bbf32f66ccd50cbc40d92ea8f5a65e]\n",
       "@startuml\r\n",
       "skinparam ranksep 8\r\n",
       "skinparam linetype polyline\r\n",
       "skinparam monochrome true\r\n",
       "skinparam classbackgroundcolor white\r\n",
       "skinparam shadowing false\r\n",
       "skinparam wrapWidth 300\r\n",
       "hide circle\r\n",
       "\r\n",
       "@enduml\r\n",
       "\n",
       "PlantUML version 1.2020.13(Sat Jun 13 12:26:38 UTC 2020)\n",
       "(EPL source distribution)\n",
       "Java Runtime: OpenJDK Runtime Environment\n",
       "JVM: OpenJDK 64-Bit Server VM\n",
       "Default Encoding: UTF-8\n",
       "Language: en\n",
       "Country: null\n",
       "--></g></svg>"
      ]
     },
     "execution_count": 13,
     "metadata": {},
     "output_type": "execute_result"
    }
   ],
   "source": [
    "%viz --style=\"POLYLINE\" --view=\"Action\" \"RequirementTest\""
   ]
  },
  {
   "cell_type": "code",
   "execution_count": 14,
   "id": "respiratory-bacteria",
   "metadata": {
    "execution": {
     "iopub.execute_input": "2021-03-25T09:26:56.986519Z",
     "iopub.status.busy": "2021-03-25T09:26:56.985601Z",
     "iopub.status.idle": "2021-03-25T09:26:57.850592Z",
     "shell.execute_reply": "2021-03-25T09:26:57.848798Z"
    }
   },
   "outputs": [
    {
     "data": {
      "image/svg+xml": [
       "<?xml version=\"1.0\" encoding=\"UTF-8\" standalone=\"no\"?><svg xmlns=\"http://www.w3.org/2000/svg\" xmlns:xlink=\"http://www.w3.org/1999/xlink\" contentScriptType=\"application/ecmascript\" contentStyleType=\"text/css\" height=\"578px\" preserveAspectRatio=\"none\" style=\"width:408px;height:578px;\" version=\"1.1\" viewBox=\"0 0 408 578\" width=\"408px\" zoomAndPan=\"magnify\"><defs/><g><!--MD5=[fbc87193dbaf4d95561dea2c320d4a47]\n",
       "cluster E1--><a href=\"psysml:7a32e4ca-d886-48d1-a22e-a4337a6af1e2\" target=\"_top\" title=\"psysml:7a32e4ca-d886-48d1-a22e-a4337a6af1e2\" xlink:actuate=\"onRequest\" xlink:href=\"psysml:7a32e4ca-d886-48d1-a22e-a4337a6af1e2\" xlink:show=\"new\" xlink:title=\"psysml:7a32e4ca-d886-48d1-a22e-a4337a6af1e2\" xlink:type=\"simple\"><polygon fill=\"#FFFFFF\" points=\"16,6,158,6,165,28.2969,386,28.2969,386,566,16,566,16,6\" style=\"stroke: #000000; stroke-width: 1.5;\"/><line style=\"stroke: #000000; stroke-width: 1.5;\" x1=\"16\" x2=\"165\" y1=\"28.2969\" y2=\"28.2969\"/><text fill=\"#000000\" font-family=\"sans-serif\" font-size=\"14\" font-weight=\"bold\" lengthAdjust=\"spacingAndGlyphs\" textLength=\"136\" x=\"20\" y=\"20.9951\">RequirementTest</text></a><!--MD5=[b4997ac47864f28c2f74865a473b2911]\n",
       "class E2--><a href=\"psysml:c5fd5931-ea17-4576-af97-a79679b06835\" target=\"_top\" title=\"psysml:c5fd5931-ea17-4576-af97-a79679b06835\" xlink:actuate=\"onRequest\" xlink:href=\"psysml:c5fd5931-ea17-4576-af97-a79679b06835\" xlink:show=\"new\" xlink:title=\"psysml:c5fd5931-ea17-4576-af97-a79679b06835\" xlink:type=\"simple\"><rect fill=\"#FFFFFF\" height=\"45.9375\" id=\"E2\" style=\"stroke: #383838; stroke-width: 1.5;\" width=\"104\" x=\"266\" y=\"190\"/><text fill=\"#000000\" font-family=\"sans-serif\" font-size=\"12\" font-style=\"italic\" lengthAdjust=\"spacingAndGlyphs\" textLength=\"102\" x=\"267\" y=\"206.1387\">«constraint def»</text><text fill=\"#000000\" font-family=\"sans-serif\" font-size=\"12\" lengthAdjust=\"spacingAndGlyphs\" textLength=\"8\" x=\"314\" y=\"220.1074\">C</text><line style=\"stroke: #383838; stroke-width: 1.5;\" x1=\"267\" x2=\"369\" y1=\"227.9375\" y2=\"227.9375\"/></a><!--MD5=[09b614a08d8cba4a07c9adeb5e0fee81]\n",
       "class E3--><a href=\"psysml:23e87db0-b26a-4449-ad29-18415d83eb38\" target=\"_top\" title=\"psysml:23e87db0-b26a-4449-ad29-18415d83eb38\" xlink:actuate=\"onRequest\" xlink:href=\"psysml:23e87db0-b26a-4449-ad29-18415d83eb38\" xlink:show=\"new\" xlink:title=\"psysml:23e87db0-b26a-4449-ad29-18415d83eb38\" xlink:type=\"simple\"><rect fill=\"#FFFFFF\" height=\"45.9375\" id=\"E3\" rx=\"10\" ry=\"10\" style=\"stroke: #383838; stroke-width: 1.5;\" width=\"80\" x=\"290\" y=\"62\"/><text fill=\"#000000\" font-family=\"sans-serif\" font-size=\"12\" font-style=\"italic\" lengthAdjust=\"spacingAndGlyphs\" textLength=\"78\" x=\"291\" y=\"78.1387\">«constraint»</text><text fill=\"#000000\" font-family=\"sans-serif\" font-size=\"12\" lengthAdjust=\"spacingAndGlyphs\" textLength=\"23\" x=\"318.5\" y=\"92.1074\">c: C</text><line style=\"stroke: #383838; stroke-width: 1.5;\" x1=\"291\" x2=\"369\" y1=\"99.9375\" y2=\"99.9375\"/></a><!--MD5=[ebbe1d658d1005bcc118a6aa81145e00]\n",
       "class E4--><a href=\"psysml:aa32b181-0a7a-45c2-8d8e-c84b0489ed31\" target=\"_top\" title=\"psysml:aa32b181-0a7a-45c2-8d8e-c84b0489ed31\" xlink:actuate=\"onRequest\" xlink:href=\"psysml:aa32b181-0a7a-45c2-8d8e-c84b0489ed31\" xlink:show=\"new\" xlink:title=\"psysml:aa32b181-0a7a-45c2-8d8e-c84b0489ed31\" xlink:type=\"simple\"><rect fill=\"#FFFFFF\" height=\"109.1563\" id=\"E4\" style=\"stroke: #383838; stroke-width: 1.5;\" width=\"117\" x=\"32.5\" y=\"313\"/><text fill=\"#000000\" font-family=\"sans-serif\" font-size=\"12\" font-style=\"italic\" lengthAdjust=\"spacingAndGlyphs\" textLength=\"115\" x=\"33.5\" y=\"329.1387\">«requirement def»</text><text fill=\"#000000\" font-family=\"sans-serif\" font-size=\"12\" lengthAdjust=\"spacingAndGlyphs\" textLength=\"8\" x=\"87\" y=\"343.1074\">R</text><line style=\"stroke: #383838; stroke-width: 1.5;\" x1=\"33.5\" x2=\"148.5\" y1=\"350.9375\" y2=\"350.9375\"/><text fill=\"#000000\" font-family=\"sans-serif\" font-size=\"11\" lengthAdjust=\"spacingAndGlyphs\" textLength=\"0\" x=\"42.5\" y=\"365.1479\"/><line style=\"stroke: #383838; stroke-width: 1.0;\" x1=\"33.5\" x2=\"148.5\" y1=\"371.7422\" y2=\"371.7422\"/><text fill=\"#000000\" font-family=\"sans-serif\" font-size=\"11\" font-weight=\"bold\" lengthAdjust=\"spacingAndGlyphs\" textLength=\"46\" x=\"38.5\" y=\"402.7573\">require</text><text fill=\"#000000\" font-family=\"sans-serif\" font-size=\"11\" lengthAdjust=\"spacingAndGlyphs\" textLength=\"6\" x=\"88.5\" y=\"402.7573\">c</text><text fill=\"#000000\" font-family=\"sans-serif\" font-size=\"11\" font-style=\"italic\" lengthAdjust=\"spacingAndGlyphs\" textLength=\"46\" x=\"38.5\" y=\"415.562\">assume</text><text fill=\"#000000\" font-family=\"sans-serif\" font-size=\"11\" lengthAdjust=\"spacingAndGlyphs\" textLength=\"29\" x=\"88.5\" y=\"415.562\">c1: C</text><line style=\"stroke: #383838; stroke-width: 1.0;\" x1=\"33.5\" x2=\"59\" y1=\"386.1445\" y2=\"386.1445\"/><text fill=\"#000000\" font-family=\"sans-serif\" font-size=\"11\" lengthAdjust=\"spacingAndGlyphs\" textLength=\"64\" x=\"59\" y=\"389.4526\">constraints</text><line style=\"stroke: #383838; stroke-width: 1.0;\" x1=\"123\" x2=\"148.5\" y1=\"386.1445\" y2=\"386.1445\"/></a><!--MD5=[270fce915f116d4de14055a7c1d9a0f3]\n",
       "class E5--><a href=\"psysml:c7a4f64d-f76e-4f11-bab9-561a5696e580\" target=\"_top\" title=\"psysml:c7a4f64d-f76e-4f11-bab9-561a5696e580\" xlink:actuate=\"onRequest\" xlink:href=\"psysml:c7a4f64d-f76e-4f11-bab9-561a5696e580\" xlink:show=\"new\" xlink:title=\"psysml:c7a4f64d-f76e-4f11-bab9-561a5696e580\" xlink:type=\"simple\"><rect fill=\"#FFFFFF\" height=\"66.7422\" id=\"E5\" style=\"stroke: #383838; stroke-width: 1.5;\" width=\"117\" x=\"32.5\" y=\"483\"/><text fill=\"#000000\" font-family=\"sans-serif\" font-size=\"12\" font-style=\"italic\" lengthAdjust=\"spacingAndGlyphs\" textLength=\"115\" x=\"33.5\" y=\"499.1387\">«requirement def»</text><text fill=\"#000000\" font-family=\"sans-serif\" font-size=\"12\" lengthAdjust=\"spacingAndGlyphs\" textLength=\"5\" x=\"78\" y=\"513.1074\">[</text><text fill=\"#000000\" font-family=\"sans-serif\" font-size=\"12\" font-weight=\"bold\" lengthAdjust=\"spacingAndGlyphs\" textLength=\"8\" x=\"83\" y=\"513.1074\">1</text><text fill=\"#000000\" font-family=\"sans-serif\" font-size=\"12\" lengthAdjust=\"spacingAndGlyphs\" textLength=\"17\" x=\"91\" y=\"513.1074\">] A</text><line style=\"stroke: #383838; stroke-width: 1.5;\" x1=\"33.5\" x2=\"148.5\" y1=\"520.9375\" y2=\"520.9375\"/><text fill=\"#000000\" font-family=\"sans-serif\" font-size=\"11\" lengthAdjust=\"spacingAndGlyphs\" textLength=\"24\" x=\"38.5\" y=\"535.1479\">Text</text><line style=\"stroke: #383838; stroke-width: 1.0;\" x1=\"33.5\" x2=\"148.5\" y1=\"541.7422\" y2=\"541.7422\"/></a><!--MD5=[b9389687b975829384b498ac4b7476b2]\n",
       "class E8--><a href=\"psysml:165156c7-6d13-47e8-9214-4efd9fbee902\" target=\"_top\" title=\"psysml:165156c7-6d13-47e8-9214-4efd9fbee902\" xlink:actuate=\"onRequest\" xlink:href=\"psysml:165156c7-6d13-47e8-9214-4efd9fbee902\" xlink:show=\"new\" xlink:title=\"psysml:165156c7-6d13-47e8-9214-4efd9fbee902\" xlink:type=\"simple\"><rect fill=\"#FFFFFF\" height=\"45.9375\" id=\"E8\" rx=\"10\" ry=\"10\" style=\"stroke: #383838; stroke-width: 1.5;\" width=\"93\" x=\"184.5\" y=\"493.5\"/><text fill=\"#000000\" font-family=\"sans-serif\" font-size=\"12\" font-style=\"italic\" lengthAdjust=\"spacingAndGlyphs\" textLength=\"91\" x=\"185.5\" y=\"509.6387\">«requirement»</text><text fill=\"#000000\" font-family=\"sans-serif\" font-size=\"12\" lengthAdjust=\"spacingAndGlyphs\" text-decoration=\"line-through\" textLength=\"51\" x=\"205.5\" y=\"523.6074\">noname</text><line style=\"stroke: #383838; stroke-width: 1.5;\" x1=\"185.5\" x2=\"276.5\" y1=\"531.4375\" y2=\"531.4375\"/></a><!--MD5=[fd4143e9d270a159db93a4ea2a975926]\n",
       "class E9--><a href=\"psysml:5b4d3eaf-f72e-4f96-998b-f4a0a57df239\" target=\"_top\" title=\"psysml:5b4d3eaf-f72e-4f96-998b-f4a0a57df239\" xlink:actuate=\"onRequest\" xlink:href=\"psysml:5b4d3eaf-f72e-4f96-998b-f4a0a57df239\" xlink:show=\"new\" xlink:title=\"psysml:5b4d3eaf-f72e-4f96-998b-f4a0a57df239\" xlink:type=\"simple\"><rect fill=\"#FFFFFF\" height=\"88.3516\" id=\"E9\" style=\"stroke: #383838; stroke-width: 1.5;\" width=\"145\" x=\"109.5\" y=\"41\"/><text fill=\"#000000\" font-family=\"sans-serif\" font-size=\"12\" font-style=\"italic\" lengthAdjust=\"spacingAndGlyphs\" textLength=\"115\" x=\"124.5\" y=\"57.1387\">«requirement def»</text><text fill=\"#000000\" font-family=\"sans-serif\" font-size=\"12\" lengthAdjust=\"spacingAndGlyphs\" textLength=\"16\" x=\"174\" y=\"71.1074\">R1</text><line style=\"stroke: #383838; stroke-width: 1.5;\" x1=\"110.5\" x2=\"253.5\" y1=\"78.9375\" y2=\"78.9375\"/><text fill=\"#000000\" font-family=\"sans-serif\" font-size=\"11\" font-weight=\"bold\" lengthAdjust=\"spacingAndGlyphs\" textLength=\"46\" x=\"115.5\" y=\"109.9526\">require</text><text fill=\"#000000\" font-family=\"sans-serif\" font-size=\"11\" lengthAdjust=\"spacingAndGlyphs\" textLength=\"13\" x=\"165.5\" y=\"109.9526\">c1</text><text fill=\"#000000\" font-family=\"sans-serif\" font-size=\"11\" font-style=\"italic\" lengthAdjust=\"spacingAndGlyphs\" textLength=\"133\" x=\"115.5\" y=\"122.7573\">:&gt;&gt;RequirementTest::c</text><line style=\"stroke: #383838; stroke-width: 1.0;\" x1=\"110.5\" x2=\"150\" y1=\"93.3398\" y2=\"93.3398\"/><text fill=\"#000000\" font-family=\"sans-serif\" font-size=\"11\" lengthAdjust=\"spacingAndGlyphs\" textLength=\"64\" x=\"150\" y=\"96.6479\">constraints</text><line style=\"stroke: #383838; stroke-width: 1.0;\" x1=\"214\" x2=\"253.5\" y1=\"93.3398\" y2=\"93.3398\"/></a><!--MD5=[1dd1bfd58a279cf63c5f349dbc8fc6a1]\n",
       "class E11--><a href=\"psysml:8fb932f6-fc92-43ad-aa0e-8cfa7b71c9b3\" target=\"_top\" title=\"psysml:8fb932f6-fc92-43ad-aa0e-8cfa7b71c9b3\" xlink:actuate=\"onRequest\" xlink:href=\"psysml:8fb932f6-fc92-43ad-aa0e-8cfa7b71c9b3\" xlink:show=\"new\" xlink:title=\"psysml:8fb932f6-fc92-43ad-aa0e-8cfa7b71c9b3\" xlink:type=\"simple\"><rect fill=\"#FFFFFF\" height=\"45.9375\" id=\"E11\" rx=\"10\" ry=\"10\" style=\"stroke: #383838; stroke-width: 1.5;\" width=\"42\" x=\"185\" y=\"344.5\"/><text fill=\"#000000\" font-family=\"sans-serif\" font-size=\"12\" font-style=\"italic\" lengthAdjust=\"spacingAndGlyphs\" textLength=\"40\" x=\"186\" y=\"360.6387\">«part»</text><text fill=\"#000000\" font-family=\"sans-serif\" font-size=\"12\" lengthAdjust=\"spacingAndGlyphs\" textLength=\"8\" x=\"202\" y=\"374.6074\">p</text><line style=\"stroke: #383838; stroke-width: 1.5;\" x1=\"186\" x2=\"226\" y1=\"382.4375\" y2=\"382.4375\"/></a><!--MD5=[49a0ec8f00dab7302a31f22d0f0fe584]\n",
       "class E12--><a href=\"psysml:9b734dfd-0e44-4ae0-bd37-d0a03d4a12cd\" target=\"_top\" title=\"psysml:9b734dfd-0e44-4ae0-bd37-d0a03d4a12cd\" xlink:actuate=\"onRequest\" xlink:href=\"psysml:9b734dfd-0e44-4ae0-bd37-d0a03d4a12cd\" xlink:show=\"new\" xlink:title=\"psysml:9b734dfd-0e44-4ae0-bd37-d0a03d4a12cd\" xlink:type=\"simple\"><rect fill=\"#FFFFFF\" height=\"45.9375\" id=\"E12\" rx=\"10\" ry=\"10\" style=\"stroke: #383838; stroke-width: 1.5;\" width=\"42\" x=\"32\" y=\"62\"/><text fill=\"#000000\" font-family=\"sans-serif\" font-size=\"12\" font-style=\"italic\" lengthAdjust=\"spacingAndGlyphs\" textLength=\"40\" x=\"33\" y=\"78.1387\">«part»</text><text fill=\"#000000\" font-family=\"sans-serif\" font-size=\"12\" lengthAdjust=\"spacingAndGlyphs\" textLength=\"8\" x=\"49\" y=\"92.1074\">q</text><line style=\"stroke: #383838; stroke-width: 1.5;\" x1=\"33\" x2=\"73\" y1=\"99.9375\" y2=\"99.9375\"/></a><!--MD5=[ee3c913d1a06f366521f9ef512b67efe]\n",
       "class E13--><a href=\"psysml:5a1cae69-7149-47dc-88a9-208fdbfbba4b\" target=\"_top\" title=\"psysml:5a1cae69-7149-47dc-88a9-208fdbfbba4b\" xlink:actuate=\"onRequest\" xlink:href=\"psysml:5a1cae69-7149-47dc-88a9-208fdbfbba4b\" xlink:show=\"new\" xlink:title=\"psysml:5a1cae69-7149-47dc-88a9-208fdbfbba4b\" xlink:type=\"simple\"><rect fill=\"#FFFFFF\" height=\"45.9375\" id=\"E13\" rx=\"10\" ry=\"10\" style=\"stroke: #383838; stroke-width: 1.5;\" width=\"93\" x=\"44.5\" y=\"190\"/><text fill=\"#000000\" font-family=\"sans-serif\" font-size=\"12\" font-style=\"italic\" lengthAdjust=\"spacingAndGlyphs\" textLength=\"91\" x=\"45.5\" y=\"206.1387\">«requirement»</text><text fill=\"#000000\" font-family=\"sans-serif\" font-size=\"12\" lengthAdjust=\"spacingAndGlyphs\" textLength=\"21\" x=\"80.5\" y=\"220.1074\">r: R</text><line style=\"stroke: #383838; stroke-width: 1.5;\" x1=\"45.5\" x2=\"136.5\" y1=\"227.9375\" y2=\"227.9375\"/></a><!--MD5=[05d275557350bfb9b23a4ef7222b4c39]\n",
       "link E3 to E2--><a href=\"psysml:bb92853b-9a42-4685-9891-57f30cbf18f8\" target=\"_top\" title=\"psysml:bb92853b-9a42-4685-9891-57f30cbf18f8\" xlink:actuate=\"onRequest\" xlink:href=\"psysml:bb92853b-9a42-4685-9891-57f30cbf18f8\" xlink:show=\"new\" xlink:title=\"psysml:bb92853b-9a42-4685-9891-57f30cbf18f8\" xlink:type=\"simple\"><path d=\"M327.88,108.24 C326.26,125.24 323.98,149.19 322.02,169.79 \" fill=\"none\" id=\"E3-&gt;E2\" style=\"stroke: #383838; stroke-width: 1.0;\"/><polygon fill=\"#FFFFFF\" points=\"320.1,189.99,314.9362,170.411,328.8729,171.7407,320.1,189.99\" style=\"stroke: #383838; stroke-width: 1.0;\"/><ellipse cx=\"317.4685\" cy=\"164.9268\" fill=\"#383838\" rx=\"2\" ry=\"2\" style=\"stroke: #383838; stroke-width: 1.0;\"/><ellipse cx=\"327.4233\" cy=\"165.8765\" fill=\"#383838\" rx=\"2\" ry=\"2\" style=\"stroke: #383838; stroke-width: 1.0;\"/></a><!--MD5=[62aa6af11e70f752912c1cb0466f24f7]\n",
       "reverse link E4 to E5--><a href=\"psysml:c7a4f64d-f76e-4f11-bab9-561a5696e580\" target=\"_top\" title=\"psysml:c7a4f64d-f76e-4f11-bab9-561a5696e580\" xlink:actuate=\"onRequest\" xlink:href=\"psysml:c7a4f64d-f76e-4f11-bab9-561a5696e580\" xlink:show=\"new\" xlink:title=\"psysml:c7a4f64d-f76e-4f11-bab9-561a5696e580\" xlink:type=\"simple\"><path d=\"M91,437.45 C91,453.34 91,469.51 91,482.98 \" fill=\"none\" id=\"E4&lt;-E5\" style=\"stroke: #383838; stroke-width: 1.0;\"/><ellipse cx=\"91\" cy=\"430.4\" fill=\"#FFFFFF\" rx=\"8\" ry=\"8\" style=\"stroke: #383838; stroke-width: 1.0;\"/><line style=\"stroke: #383838; stroke-width: 1.0;\" x1=\"91\" x2=\"91\" y1=\"438.4\" y2=\"422.4\"/><line style=\"stroke: #383838; stroke-width: 1.0;\" x1=\"83\" x2=\"99\" y1=\"430.4\" y2=\"430.4\"/></a><!--MD5=[c6fc7cdb0cabde04948078cf183fa696]\n",
       "reverse link E4 to E8--><a href=\"psysml:165156c7-6d13-47e8-9214-4efd9fbee902\" target=\"_top\" title=\"psysml:165156c7-6d13-47e8-9214-4efd9fbee902\" xlink:actuate=\"onRequest\" xlink:href=\"psysml:165156c7-6d13-47e8-9214-4efd9fbee902\" xlink:show=\"new\" xlink:title=\"psysml:165156c7-6d13-47e8-9214-4efd9fbee902\" xlink:type=\"simple\"><path d=\"M151.51,432.04 C172.42,453.99 194.47,477.14 210.03,493.48 \" fill=\"none\" id=\"E4&lt;-E8\" style=\"stroke: #383838; stroke-width: 1.0;\"/><polygon fill=\"#383838\" points=\"142.34,422.4,143.5779,429.5041,150.6116,431.0937,149.3737,423.9897,142.34,422.4\" style=\"stroke: #383838; stroke-width: 1.0;\"/></a><!--MD5=[062ed86c389d1a88f61c6380d0491e17]\n",
       "reverse link E12 to E13--><a href=\"psysml:5a1cae69-7149-47dc-88a9-208fdbfbba4b\" target=\"_top\" title=\"psysml:5a1cae69-7149-47dc-88a9-208fdbfbba4b\" xlink:actuate=\"onRequest\" xlink:href=\"psysml:5a1cae69-7149-47dc-88a9-208fdbfbba4b\" xlink:show=\"new\" xlink:title=\"psysml:5a1cae69-7149-47dc-88a9-208fdbfbba4b\" xlink:type=\"simple\"><path d=\"M63.49,120.8 C70.17,142.92 78.6,170.89 84.36,189.99 \" fill=\"none\" id=\"E12&lt;-E13\" style=\"stroke: #383838; stroke-width: 1.0;\"/><polygon fill=\"#383838\" points=\"59.71,108.24,57.6129,115.1394,63.1751,119.7288,65.2722,112.8294,59.71,108.24\" style=\"stroke: #383838; stroke-width: 1.0;\"/></a><!--MD5=[017847e01ff9a8bd19f247411074f987]\n",
       "link E13 to E4--><a href=\"psysml:9a693856-e1d7-4623-99b4-c4529bf04054\" target=\"_top\" title=\"psysml:9a693856-e1d7-4623-99b4-c4529bf04054\" xlink:actuate=\"onRequest\" xlink:href=\"psysml:9a693856-e1d7-4623-99b4-c4529bf04054\" xlink:show=\"new\" xlink:title=\"psysml:9a693856-e1d7-4623-99b4-c4529bf04054\" xlink:type=\"simple\"><path d=\"M91,236.17 C91,251.17 91,271.91 91,292.44 \" fill=\"none\" id=\"E13-&gt;E4\" style=\"stroke: #383838; stroke-width: 1.0;\"/><polygon fill=\"#FFFFFF\" points=\"91,312.68,84,293.68,98,293.68,91,312.68\" style=\"stroke: #383838; stroke-width: 1.0;\"/><ellipse cx=\"86\" cy=\"287.98\" fill=\"#383838\" rx=\"2\" ry=\"2\" style=\"stroke: #383838; stroke-width: 1.0;\"/><ellipse cx=\"96\" cy=\"287.98\" fill=\"#383838\" rx=\"2\" ry=\"2\" style=\"stroke: #383838; stroke-width: 1.0;\"/></a><!--MD5=[2cfe899c895462254056921bfb67315f]\n",
       "link E13 to E11--><a href=\"psysml:69852053-465c-4b3e-807c-2facd65a229c\" target=\"_top\" title=\"psysml:69852053-465c-4b3e-807c-2facd65a229c\" xlink:actuate=\"onRequest\" xlink:href=\"psysml:69852053-465c-4b3e-807c-2facd65a229c\" xlink:show=\"new\" xlink:title=\"psysml:69852053-465c-4b3e-807c-2facd65a229c\" xlink:type=\"simple\"><path d=\"M108.25,236.46 C130.67,265.67 167,313 167,313 C167,313 176.99,326.71 186.86,340.25 \" fill=\"none\" id=\"E13-&gt;E11\" style=\"stroke: #383838; stroke-width: 1.0; stroke-dasharray: 7.0,7.0;\"/><polygon fill=\"#383838\" points=\"189.91,344.43,187.8474,334.7996,186.9674,340.3876,181.3794,339.5076,189.91,344.43\" style=\"stroke: #383838; stroke-width: 1.0;\"/><text fill=\"#000000\" font-family=\"sans-serif\" font-size=\"13\" lengthAdjust=\"spacingAndGlyphs\" textLength=\"57\" x=\"143\" y=\"279.0669\">«satisfy»</text></a><!--MD5=[a3d6fa2980ed3cf6b961144df6eea77d]\n",
       "@startuml\r\n",
       "skinparam linetype polyline\r\n",
       "skinparam monochrome true\r\n",
       "skinparam classbackgroundcolor white\r\n",
       "skinparam shadowing false\r\n",
       "skinparam wrapWidth 300\r\n",
       "hide circle\r\n",
       "\r\n",
       "package \"RequirementTest\" as E1  [[psysml:7a32e4ca-d886-48d1-a22e-a4337a6af1e2 ]]  {\r\n",
       "comp def \"C\" as E2  <<(T,blue)constraint def>> [[psysml:c5fd5931-ea17-4576-af97-a79679b06835 ]] {\r\n",
       "}\r\n",
       "comp usage \"c: C\" as E3  <<(T,blue)constraint>> [[psysml:23e87db0-b26a-4449-ad29-18415d83eb38 ]] {\r\n",
       "}\r\n",
       "comp def \"R\" as E4  <<(T,blue)requirement def>> [[psysml:aa32b181-0a7a-45c2-8d8e-c84b0489ed31 ]] {\r\n",
       "\r\n",
       "- -\r\n",
       "- - constraints - -\r\n",
       "<b>require</b> c\r\n",
       "<i>assume</i> c1: C\r\n",
       "}\r\n",
       "comp def \" [<b>1</b>] A\" as E5  <<(T,blue)requirement def>> [[psysml:c7a4f64d-f76e-4f11-bab9-561a5696e580 ]] {\r\n",
       "Text\r\n",
       "- -\r\n",
       "}\r\n",
       "comp usage \"<s>noname</s>\" as E8  <<(T,blue)requirement>> [[psysml:165156c7-6d13-47e8-9214-4efd9fbee902 ]] {\r\n",
       "}\r\n",
       "comp def \"R1\" as E9  <<(T,blue)requirement def>> [[psysml:5b4d3eaf-f72e-4f96-998b-f4a0a57df239 ]] {\r\n",
       "- - constraints - -\r\n",
       "<b>require</b> c1\\n//:>>RequirementTest::c// \r\n",
       "}\r\n",
       "comp usage \"p\" as E11  <<(T,blue)part>> [[psysml:8fb932f6-fc92-43ad-aa0e-8cfa7b71c9b3 ]] {\r\n",
       "}\r\n",
       "comp usage \"q\" as E12  <<(T,blue)part>> [[psysml:9b734dfd-0e44-4ae0-bd37-d0a03d4a12cd ]] {\r\n",
       "}\r\n",
       "comp usage \"r: R\" as E13  <<(T,blue)requirement>> [[psysml:5a1cae69-7149-47dc-88a9-208fdbfbba4b ]] {\r\n",
       "}\r\n",
       "E3 - -:|> E2 [[psysml:bb92853b-9a42-4685-9891-57f30cbf18f8 ]] \r\n",
       "E4 +- - E5 [[psysml:c7a4f64d-f76e-4f11-bab9-561a5696e580 ]] \r\n",
       "E4 *- - E8 [[psysml:165156c7-6d13-47e8-9214-4efd9fbee902 ]] \r\n",
       "E12 *- - E13 [[psysml:5a1cae69-7149-47dc-88a9-208fdbfbba4b ]] \r\n",
       "E13 - -:|> E4 [[psysml:9a693856-e1d7-4623-99b4-c4529bf04054 ]] \r\n",
       "E13 ..> E11 [[psysml:69852053-465c-4b3e-807c-2facd65a229c ]] : <<satisfy>>\r\n",
       "}\r\n",
       "@enduml\r\n",
       "\n",
       "PlantUML version 1.2020.13(Sat Jun 13 12:26:38 UTC 2020)\n",
       "(EPL source distribution)\n",
       "Java Runtime: OpenJDK Runtime Environment\n",
       "JVM: OpenJDK 64-Bit Server VM\n",
       "Default Encoding: UTF-8\n",
       "Language: en\n",
       "Country: null\n",
       "--></g></svg>"
      ]
     },
     "execution_count": 14,
     "metadata": {},
     "output_type": "execute_result"
    }
   ],
   "source": [
    "%viz --style=\"POLYLINE\" --view=\"Sequence\" \"RequirementTest\""
   ]
  },
  {
   "cell_type": "code",
   "execution_count": 15,
   "id": "occasional-jackson",
   "metadata": {
    "execution": {
     "iopub.execute_input": "2021-03-25T09:26:57.900958Z",
     "iopub.status.busy": "2021-03-25T09:26:57.900446Z",
     "iopub.status.idle": "2021-03-25T09:26:58.759690Z",
     "shell.execute_reply": "2021-03-25T09:26:58.760203Z"
    }
   },
   "outputs": [
    {
     "data": {
      "image/svg+xml": [
       "<?xml version=\"1.0\" encoding=\"UTF-8\" standalone=\"no\"?><svg xmlns=\"http://www.w3.org/2000/svg\" xmlns:xlink=\"http://www.w3.org/1999/xlink\" contentScriptType=\"application/ecmascript\" contentStyleType=\"text/css\" height=\"578px\" preserveAspectRatio=\"none\" style=\"width:408px;height:578px;\" version=\"1.1\" viewBox=\"0 0 408 578\" width=\"408px\" zoomAndPan=\"magnify\"><defs/><g><!--MD5=[fbc87193dbaf4d95561dea2c320d4a47]\n",
       "cluster E1--><a href=\"psysml:7a32e4ca-d886-48d1-a22e-a4337a6af1e2\" target=\"_top\" title=\"psysml:7a32e4ca-d886-48d1-a22e-a4337a6af1e2\" xlink:actuate=\"onRequest\" xlink:href=\"psysml:7a32e4ca-d886-48d1-a22e-a4337a6af1e2\" xlink:show=\"new\" xlink:title=\"psysml:7a32e4ca-d886-48d1-a22e-a4337a6af1e2\" xlink:type=\"simple\"><polygon fill=\"#FFFFFF\" points=\"16,6,158,6,165,28.2969,386,28.2969,386,566,16,566,16,6\" style=\"stroke: #000000; stroke-width: 1.5;\"/><line style=\"stroke: #000000; stroke-width: 1.5;\" x1=\"16\" x2=\"165\" y1=\"28.2969\" y2=\"28.2969\"/><text fill=\"#000000\" font-family=\"sans-serif\" font-size=\"14\" font-weight=\"bold\" lengthAdjust=\"spacingAndGlyphs\" textLength=\"136\" x=\"20\" y=\"20.9951\">RequirementTest</text></a><!--MD5=[b4997ac47864f28c2f74865a473b2911]\n",
       "class E2--><a href=\"psysml:c5fd5931-ea17-4576-af97-a79679b06835\" target=\"_top\" title=\"psysml:c5fd5931-ea17-4576-af97-a79679b06835\" xlink:actuate=\"onRequest\" xlink:href=\"psysml:c5fd5931-ea17-4576-af97-a79679b06835\" xlink:show=\"new\" xlink:title=\"psysml:c5fd5931-ea17-4576-af97-a79679b06835\" xlink:type=\"simple\"><rect fill=\"#FFFFFF\" height=\"45.9375\" id=\"E2\" style=\"stroke: #383838; stroke-width: 1.5;\" width=\"104\" x=\"266\" y=\"190\"/><text fill=\"#000000\" font-family=\"sans-serif\" font-size=\"12\" font-style=\"italic\" lengthAdjust=\"spacingAndGlyphs\" textLength=\"102\" x=\"267\" y=\"206.1387\">«constraint def»</text><text fill=\"#000000\" font-family=\"sans-serif\" font-size=\"12\" lengthAdjust=\"spacingAndGlyphs\" textLength=\"8\" x=\"314\" y=\"220.1074\">C</text><line style=\"stroke: #383838; stroke-width: 1.5;\" x1=\"267\" x2=\"369\" y1=\"227.9375\" y2=\"227.9375\"/></a><!--MD5=[09b614a08d8cba4a07c9adeb5e0fee81]\n",
       "class E3--><a href=\"psysml:23e87db0-b26a-4449-ad29-18415d83eb38\" target=\"_top\" title=\"psysml:23e87db0-b26a-4449-ad29-18415d83eb38\" xlink:actuate=\"onRequest\" xlink:href=\"psysml:23e87db0-b26a-4449-ad29-18415d83eb38\" xlink:show=\"new\" xlink:title=\"psysml:23e87db0-b26a-4449-ad29-18415d83eb38\" xlink:type=\"simple\"><rect fill=\"#FFFFFF\" height=\"45.9375\" id=\"E3\" rx=\"10\" ry=\"10\" style=\"stroke: #383838; stroke-width: 1.5;\" width=\"80\" x=\"290\" y=\"62\"/><text fill=\"#000000\" font-family=\"sans-serif\" font-size=\"12\" font-style=\"italic\" lengthAdjust=\"spacingAndGlyphs\" textLength=\"78\" x=\"291\" y=\"78.1387\">«constraint»</text><text fill=\"#000000\" font-family=\"sans-serif\" font-size=\"12\" lengthAdjust=\"spacingAndGlyphs\" textLength=\"23\" x=\"318.5\" y=\"92.1074\">c: C</text><line style=\"stroke: #383838; stroke-width: 1.5;\" x1=\"291\" x2=\"369\" y1=\"99.9375\" y2=\"99.9375\"/></a><!--MD5=[ebbe1d658d1005bcc118a6aa81145e00]\n",
       "class E4--><a href=\"psysml:aa32b181-0a7a-45c2-8d8e-c84b0489ed31\" target=\"_top\" title=\"psysml:aa32b181-0a7a-45c2-8d8e-c84b0489ed31\" xlink:actuate=\"onRequest\" xlink:href=\"psysml:aa32b181-0a7a-45c2-8d8e-c84b0489ed31\" xlink:show=\"new\" xlink:title=\"psysml:aa32b181-0a7a-45c2-8d8e-c84b0489ed31\" xlink:type=\"simple\"><rect fill=\"#FFFFFF\" height=\"109.1563\" id=\"E4\" style=\"stroke: #383838; stroke-width: 1.5;\" width=\"117\" x=\"32.5\" y=\"313\"/><text fill=\"#000000\" font-family=\"sans-serif\" font-size=\"12\" font-style=\"italic\" lengthAdjust=\"spacingAndGlyphs\" textLength=\"115\" x=\"33.5\" y=\"329.1387\">«requirement def»</text><text fill=\"#000000\" font-family=\"sans-serif\" font-size=\"12\" lengthAdjust=\"spacingAndGlyphs\" textLength=\"8\" x=\"87\" y=\"343.1074\">R</text><line style=\"stroke: #383838; stroke-width: 1.5;\" x1=\"33.5\" x2=\"148.5\" y1=\"350.9375\" y2=\"350.9375\"/><text fill=\"#000000\" font-family=\"sans-serif\" font-size=\"11\" lengthAdjust=\"spacingAndGlyphs\" textLength=\"0\" x=\"42.5\" y=\"365.1479\"/><line style=\"stroke: #383838; stroke-width: 1.0;\" x1=\"33.5\" x2=\"148.5\" y1=\"371.7422\" y2=\"371.7422\"/><text fill=\"#000000\" font-family=\"sans-serif\" font-size=\"11\" font-weight=\"bold\" lengthAdjust=\"spacingAndGlyphs\" textLength=\"46\" x=\"38.5\" y=\"402.7573\">require</text><text fill=\"#000000\" font-family=\"sans-serif\" font-size=\"11\" lengthAdjust=\"spacingAndGlyphs\" textLength=\"6\" x=\"88.5\" y=\"402.7573\">c</text><text fill=\"#000000\" font-family=\"sans-serif\" font-size=\"11\" font-style=\"italic\" lengthAdjust=\"spacingAndGlyphs\" textLength=\"46\" x=\"38.5\" y=\"415.562\">assume</text><text fill=\"#000000\" font-family=\"sans-serif\" font-size=\"11\" lengthAdjust=\"spacingAndGlyphs\" textLength=\"29\" x=\"88.5\" y=\"415.562\">c1: C</text><line style=\"stroke: #383838; stroke-width: 1.0;\" x1=\"33.5\" x2=\"59\" y1=\"386.1445\" y2=\"386.1445\"/><text fill=\"#000000\" font-family=\"sans-serif\" font-size=\"11\" lengthAdjust=\"spacingAndGlyphs\" textLength=\"64\" x=\"59\" y=\"389.4526\">constraints</text><line style=\"stroke: #383838; stroke-width: 1.0;\" x1=\"123\" x2=\"148.5\" y1=\"386.1445\" y2=\"386.1445\"/></a><!--MD5=[270fce915f116d4de14055a7c1d9a0f3]\n",
       "class E5--><a href=\"psysml:c7a4f64d-f76e-4f11-bab9-561a5696e580\" target=\"_top\" title=\"psysml:c7a4f64d-f76e-4f11-bab9-561a5696e580\" xlink:actuate=\"onRequest\" xlink:href=\"psysml:c7a4f64d-f76e-4f11-bab9-561a5696e580\" xlink:show=\"new\" xlink:title=\"psysml:c7a4f64d-f76e-4f11-bab9-561a5696e580\" xlink:type=\"simple\"><rect fill=\"#FFFFFF\" height=\"66.7422\" id=\"E5\" style=\"stroke: #383838; stroke-width: 1.5;\" width=\"117\" x=\"32.5\" y=\"483\"/><text fill=\"#000000\" font-family=\"sans-serif\" font-size=\"12\" font-style=\"italic\" lengthAdjust=\"spacingAndGlyphs\" textLength=\"115\" x=\"33.5\" y=\"499.1387\">«requirement def»</text><text fill=\"#000000\" font-family=\"sans-serif\" font-size=\"12\" lengthAdjust=\"spacingAndGlyphs\" textLength=\"5\" x=\"78\" y=\"513.1074\">[</text><text fill=\"#000000\" font-family=\"sans-serif\" font-size=\"12\" font-weight=\"bold\" lengthAdjust=\"spacingAndGlyphs\" textLength=\"8\" x=\"83\" y=\"513.1074\">1</text><text fill=\"#000000\" font-family=\"sans-serif\" font-size=\"12\" lengthAdjust=\"spacingAndGlyphs\" textLength=\"17\" x=\"91\" y=\"513.1074\">] A</text><line style=\"stroke: #383838; stroke-width: 1.5;\" x1=\"33.5\" x2=\"148.5\" y1=\"520.9375\" y2=\"520.9375\"/><text fill=\"#000000\" font-family=\"sans-serif\" font-size=\"11\" lengthAdjust=\"spacingAndGlyphs\" textLength=\"24\" x=\"38.5\" y=\"535.1479\">Text</text><line style=\"stroke: #383838; stroke-width: 1.0;\" x1=\"33.5\" x2=\"148.5\" y1=\"541.7422\" y2=\"541.7422\"/></a><!--MD5=[b9389687b975829384b498ac4b7476b2]\n",
       "class E8--><a href=\"psysml:165156c7-6d13-47e8-9214-4efd9fbee902\" target=\"_top\" title=\"psysml:165156c7-6d13-47e8-9214-4efd9fbee902\" xlink:actuate=\"onRequest\" xlink:href=\"psysml:165156c7-6d13-47e8-9214-4efd9fbee902\" xlink:show=\"new\" xlink:title=\"psysml:165156c7-6d13-47e8-9214-4efd9fbee902\" xlink:type=\"simple\"><rect fill=\"#FFFFFF\" height=\"45.9375\" id=\"E8\" rx=\"10\" ry=\"10\" style=\"stroke: #383838; stroke-width: 1.5;\" width=\"93\" x=\"184.5\" y=\"493.5\"/><text fill=\"#000000\" font-family=\"sans-serif\" font-size=\"12\" font-style=\"italic\" lengthAdjust=\"spacingAndGlyphs\" textLength=\"91\" x=\"185.5\" y=\"509.6387\">«requirement»</text><text fill=\"#000000\" font-family=\"sans-serif\" font-size=\"12\" lengthAdjust=\"spacingAndGlyphs\" text-decoration=\"line-through\" textLength=\"51\" x=\"205.5\" y=\"523.6074\">noname</text><line style=\"stroke: #383838; stroke-width: 1.5;\" x1=\"185.5\" x2=\"276.5\" y1=\"531.4375\" y2=\"531.4375\"/></a><!--MD5=[fd4143e9d270a159db93a4ea2a975926]\n",
       "class E9--><a href=\"psysml:5b4d3eaf-f72e-4f96-998b-f4a0a57df239\" target=\"_top\" title=\"psysml:5b4d3eaf-f72e-4f96-998b-f4a0a57df239\" xlink:actuate=\"onRequest\" xlink:href=\"psysml:5b4d3eaf-f72e-4f96-998b-f4a0a57df239\" xlink:show=\"new\" xlink:title=\"psysml:5b4d3eaf-f72e-4f96-998b-f4a0a57df239\" xlink:type=\"simple\"><rect fill=\"#FFFFFF\" height=\"88.3516\" id=\"E9\" style=\"stroke: #383838; stroke-width: 1.5;\" width=\"145\" x=\"109.5\" y=\"41\"/><text fill=\"#000000\" font-family=\"sans-serif\" font-size=\"12\" font-style=\"italic\" lengthAdjust=\"spacingAndGlyphs\" textLength=\"115\" x=\"124.5\" y=\"57.1387\">«requirement def»</text><text fill=\"#000000\" font-family=\"sans-serif\" font-size=\"12\" lengthAdjust=\"spacingAndGlyphs\" textLength=\"16\" x=\"174\" y=\"71.1074\">R1</text><line style=\"stroke: #383838; stroke-width: 1.5;\" x1=\"110.5\" x2=\"253.5\" y1=\"78.9375\" y2=\"78.9375\"/><text fill=\"#000000\" font-family=\"sans-serif\" font-size=\"11\" font-weight=\"bold\" lengthAdjust=\"spacingAndGlyphs\" textLength=\"46\" x=\"115.5\" y=\"109.9526\">require</text><text fill=\"#000000\" font-family=\"sans-serif\" font-size=\"11\" lengthAdjust=\"spacingAndGlyphs\" textLength=\"13\" x=\"165.5\" y=\"109.9526\">c1</text><text fill=\"#000000\" font-family=\"sans-serif\" font-size=\"11\" font-style=\"italic\" lengthAdjust=\"spacingAndGlyphs\" textLength=\"133\" x=\"115.5\" y=\"122.7573\">:&gt;&gt;RequirementTest::c</text><line style=\"stroke: #383838; stroke-width: 1.0;\" x1=\"110.5\" x2=\"150\" y1=\"93.3398\" y2=\"93.3398\"/><text fill=\"#000000\" font-family=\"sans-serif\" font-size=\"11\" lengthAdjust=\"spacingAndGlyphs\" textLength=\"64\" x=\"150\" y=\"96.6479\">constraints</text><line style=\"stroke: #383838; stroke-width: 1.0;\" x1=\"214\" x2=\"253.5\" y1=\"93.3398\" y2=\"93.3398\"/></a><!--MD5=[1dd1bfd58a279cf63c5f349dbc8fc6a1]\n",
       "class E11--><a href=\"psysml:8fb932f6-fc92-43ad-aa0e-8cfa7b71c9b3\" target=\"_top\" title=\"psysml:8fb932f6-fc92-43ad-aa0e-8cfa7b71c9b3\" xlink:actuate=\"onRequest\" xlink:href=\"psysml:8fb932f6-fc92-43ad-aa0e-8cfa7b71c9b3\" xlink:show=\"new\" xlink:title=\"psysml:8fb932f6-fc92-43ad-aa0e-8cfa7b71c9b3\" xlink:type=\"simple\"><rect fill=\"#FFFFFF\" height=\"45.9375\" id=\"E11\" rx=\"10\" ry=\"10\" style=\"stroke: #383838; stroke-width: 1.5;\" width=\"42\" x=\"185\" y=\"344.5\"/><text fill=\"#000000\" font-family=\"sans-serif\" font-size=\"12\" font-style=\"italic\" lengthAdjust=\"spacingAndGlyphs\" textLength=\"40\" x=\"186\" y=\"360.6387\">«part»</text><text fill=\"#000000\" font-family=\"sans-serif\" font-size=\"12\" lengthAdjust=\"spacingAndGlyphs\" textLength=\"8\" x=\"202\" y=\"374.6074\">p</text><line style=\"stroke: #383838; stroke-width: 1.5;\" x1=\"186\" x2=\"226\" y1=\"382.4375\" y2=\"382.4375\"/></a><!--MD5=[49a0ec8f00dab7302a31f22d0f0fe584]\n",
       "class E12--><a href=\"psysml:9b734dfd-0e44-4ae0-bd37-d0a03d4a12cd\" target=\"_top\" title=\"psysml:9b734dfd-0e44-4ae0-bd37-d0a03d4a12cd\" xlink:actuate=\"onRequest\" xlink:href=\"psysml:9b734dfd-0e44-4ae0-bd37-d0a03d4a12cd\" xlink:show=\"new\" xlink:title=\"psysml:9b734dfd-0e44-4ae0-bd37-d0a03d4a12cd\" xlink:type=\"simple\"><rect fill=\"#FFFFFF\" height=\"45.9375\" id=\"E12\" rx=\"10\" ry=\"10\" style=\"stroke: #383838; stroke-width: 1.5;\" width=\"42\" x=\"32\" y=\"62\"/><text fill=\"#000000\" font-family=\"sans-serif\" font-size=\"12\" font-style=\"italic\" lengthAdjust=\"spacingAndGlyphs\" textLength=\"40\" x=\"33\" y=\"78.1387\">«part»</text><text fill=\"#000000\" font-family=\"sans-serif\" font-size=\"12\" lengthAdjust=\"spacingAndGlyphs\" textLength=\"8\" x=\"49\" y=\"92.1074\">q</text><line style=\"stroke: #383838; stroke-width: 1.5;\" x1=\"33\" x2=\"73\" y1=\"99.9375\" y2=\"99.9375\"/></a><!--MD5=[ee3c913d1a06f366521f9ef512b67efe]\n",
       "class E13--><a href=\"psysml:5a1cae69-7149-47dc-88a9-208fdbfbba4b\" target=\"_top\" title=\"psysml:5a1cae69-7149-47dc-88a9-208fdbfbba4b\" xlink:actuate=\"onRequest\" xlink:href=\"psysml:5a1cae69-7149-47dc-88a9-208fdbfbba4b\" xlink:show=\"new\" xlink:title=\"psysml:5a1cae69-7149-47dc-88a9-208fdbfbba4b\" xlink:type=\"simple\"><rect fill=\"#FFFFFF\" height=\"45.9375\" id=\"E13\" rx=\"10\" ry=\"10\" style=\"stroke: #383838; stroke-width: 1.5;\" width=\"93\" x=\"44.5\" y=\"190\"/><text fill=\"#000000\" font-family=\"sans-serif\" font-size=\"12\" font-style=\"italic\" lengthAdjust=\"spacingAndGlyphs\" textLength=\"91\" x=\"45.5\" y=\"206.1387\">«requirement»</text><text fill=\"#000000\" font-family=\"sans-serif\" font-size=\"12\" lengthAdjust=\"spacingAndGlyphs\" textLength=\"21\" x=\"80.5\" y=\"220.1074\">r: R</text><line style=\"stroke: #383838; stroke-width: 1.5;\" x1=\"45.5\" x2=\"136.5\" y1=\"227.9375\" y2=\"227.9375\"/></a><!--MD5=[05d275557350bfb9b23a4ef7222b4c39]\n",
       "link E3 to E2--><a href=\"psysml:bb92853b-9a42-4685-9891-57f30cbf18f8\" target=\"_top\" title=\"psysml:bb92853b-9a42-4685-9891-57f30cbf18f8\" xlink:actuate=\"onRequest\" xlink:href=\"psysml:bb92853b-9a42-4685-9891-57f30cbf18f8\" xlink:show=\"new\" xlink:title=\"psysml:bb92853b-9a42-4685-9891-57f30cbf18f8\" xlink:type=\"simple\"><path d=\"M327.88,108.24 C326.26,125.24 323.98,149.19 322.02,169.79 \" fill=\"none\" id=\"E3-&gt;E2\" style=\"stroke: #383838; stroke-width: 1.0;\"/><polygon fill=\"#FFFFFF\" points=\"320.1,189.99,314.9362,170.411,328.8729,171.7407,320.1,189.99\" style=\"stroke: #383838; stroke-width: 1.0;\"/><ellipse cx=\"317.4685\" cy=\"164.9268\" fill=\"#383838\" rx=\"2\" ry=\"2\" style=\"stroke: #383838; stroke-width: 1.0;\"/><ellipse cx=\"327.4233\" cy=\"165.8765\" fill=\"#383838\" rx=\"2\" ry=\"2\" style=\"stroke: #383838; stroke-width: 1.0;\"/></a><!--MD5=[62aa6af11e70f752912c1cb0466f24f7]\n",
       "reverse link E4 to E5--><a href=\"psysml:c7a4f64d-f76e-4f11-bab9-561a5696e580\" target=\"_top\" title=\"psysml:c7a4f64d-f76e-4f11-bab9-561a5696e580\" xlink:actuate=\"onRequest\" xlink:href=\"psysml:c7a4f64d-f76e-4f11-bab9-561a5696e580\" xlink:show=\"new\" xlink:title=\"psysml:c7a4f64d-f76e-4f11-bab9-561a5696e580\" xlink:type=\"simple\"><path d=\"M91,437.45 C91,453.34 91,469.51 91,482.98 \" fill=\"none\" id=\"E4&lt;-E5\" style=\"stroke: #383838; stroke-width: 1.0;\"/><ellipse cx=\"91\" cy=\"430.4\" fill=\"#FFFFFF\" rx=\"8\" ry=\"8\" style=\"stroke: #383838; stroke-width: 1.0;\"/><line style=\"stroke: #383838; stroke-width: 1.0;\" x1=\"91\" x2=\"91\" y1=\"438.4\" y2=\"422.4\"/><line style=\"stroke: #383838; stroke-width: 1.0;\" x1=\"83\" x2=\"99\" y1=\"430.4\" y2=\"430.4\"/></a><!--MD5=[c6fc7cdb0cabde04948078cf183fa696]\n",
       "reverse link E4 to E8--><a href=\"psysml:165156c7-6d13-47e8-9214-4efd9fbee902\" target=\"_top\" title=\"psysml:165156c7-6d13-47e8-9214-4efd9fbee902\" xlink:actuate=\"onRequest\" xlink:href=\"psysml:165156c7-6d13-47e8-9214-4efd9fbee902\" xlink:show=\"new\" xlink:title=\"psysml:165156c7-6d13-47e8-9214-4efd9fbee902\" xlink:type=\"simple\"><path d=\"M151.51,432.04 C172.42,453.99 194.47,477.14 210.03,493.48 \" fill=\"none\" id=\"E4&lt;-E8\" style=\"stroke: #383838; stroke-width: 1.0;\"/><polygon fill=\"#383838\" points=\"142.34,422.4,143.5779,429.5041,150.6116,431.0937,149.3737,423.9897,142.34,422.4\" style=\"stroke: #383838; stroke-width: 1.0;\"/></a><!--MD5=[062ed86c389d1a88f61c6380d0491e17]\n",
       "reverse link E12 to E13--><a href=\"psysml:5a1cae69-7149-47dc-88a9-208fdbfbba4b\" target=\"_top\" title=\"psysml:5a1cae69-7149-47dc-88a9-208fdbfbba4b\" xlink:actuate=\"onRequest\" xlink:href=\"psysml:5a1cae69-7149-47dc-88a9-208fdbfbba4b\" xlink:show=\"new\" xlink:title=\"psysml:5a1cae69-7149-47dc-88a9-208fdbfbba4b\" xlink:type=\"simple\"><path d=\"M63.49,120.8 C70.17,142.92 78.6,170.89 84.36,189.99 \" fill=\"none\" id=\"E12&lt;-E13\" style=\"stroke: #383838; stroke-width: 1.0;\"/><polygon fill=\"#383838\" points=\"59.71,108.24,57.6129,115.1394,63.1751,119.7288,65.2722,112.8294,59.71,108.24\" style=\"stroke: #383838; stroke-width: 1.0;\"/></a><!--MD5=[017847e01ff9a8bd19f247411074f987]\n",
       "link E13 to E4--><a href=\"psysml:9a693856-e1d7-4623-99b4-c4529bf04054\" target=\"_top\" title=\"psysml:9a693856-e1d7-4623-99b4-c4529bf04054\" xlink:actuate=\"onRequest\" xlink:href=\"psysml:9a693856-e1d7-4623-99b4-c4529bf04054\" xlink:show=\"new\" xlink:title=\"psysml:9a693856-e1d7-4623-99b4-c4529bf04054\" xlink:type=\"simple\"><path d=\"M91,236.17 C91,251.17 91,271.91 91,292.44 \" fill=\"none\" id=\"E13-&gt;E4\" style=\"stroke: #383838; stroke-width: 1.0;\"/><polygon fill=\"#FFFFFF\" points=\"91,312.68,84,293.68,98,293.68,91,312.68\" style=\"stroke: #383838; stroke-width: 1.0;\"/><ellipse cx=\"86\" cy=\"287.98\" fill=\"#383838\" rx=\"2\" ry=\"2\" style=\"stroke: #383838; stroke-width: 1.0;\"/><ellipse cx=\"96\" cy=\"287.98\" fill=\"#383838\" rx=\"2\" ry=\"2\" style=\"stroke: #383838; stroke-width: 1.0;\"/></a><!--MD5=[2cfe899c895462254056921bfb67315f]\n",
       "link E13 to E11--><a href=\"psysml:69852053-465c-4b3e-807c-2facd65a229c\" target=\"_top\" title=\"psysml:69852053-465c-4b3e-807c-2facd65a229c\" xlink:actuate=\"onRequest\" xlink:href=\"psysml:69852053-465c-4b3e-807c-2facd65a229c\" xlink:show=\"new\" xlink:title=\"psysml:69852053-465c-4b3e-807c-2facd65a229c\" xlink:type=\"simple\"><path d=\"M108.25,236.46 C130.67,265.67 167,313 167,313 C167,313 176.99,326.71 186.86,340.25 \" fill=\"none\" id=\"E13-&gt;E11\" style=\"stroke: #383838; stroke-width: 1.0; stroke-dasharray: 7.0,7.0;\"/><polygon fill=\"#383838\" points=\"189.91,344.43,187.8474,334.7996,186.9674,340.3876,181.3794,339.5076,189.91,344.43\" style=\"stroke: #383838; stroke-width: 1.0;\"/><text fill=\"#000000\" font-family=\"sans-serif\" font-size=\"13\" lengthAdjust=\"spacingAndGlyphs\" textLength=\"57\" x=\"143\" y=\"279.0669\">«satisfy»</text></a><!--MD5=[a3d6fa2980ed3cf6b961144df6eea77d]\n",
       "@startuml\r\n",
       "skinparam linetype polyline\r\n",
       "skinparam monochrome true\r\n",
       "skinparam classbackgroundcolor white\r\n",
       "skinparam shadowing false\r\n",
       "skinparam wrapWidth 300\r\n",
       "hide circle\r\n",
       "\r\n",
       "package \"RequirementTest\" as E1  [[psysml:7a32e4ca-d886-48d1-a22e-a4337a6af1e2 ]]  {\r\n",
       "comp def \"C\" as E2  <<(T,blue)constraint def>> [[psysml:c5fd5931-ea17-4576-af97-a79679b06835 ]] {\r\n",
       "}\r\n",
       "comp usage \"c: C\" as E3  <<(T,blue)constraint>> [[psysml:23e87db0-b26a-4449-ad29-18415d83eb38 ]] {\r\n",
       "}\r\n",
       "comp def \"R\" as E4  <<(T,blue)requirement def>> [[psysml:aa32b181-0a7a-45c2-8d8e-c84b0489ed31 ]] {\r\n",
       "\r\n",
       "- -\r\n",
       "- - constraints - -\r\n",
       "<b>require</b> c\r\n",
       "<i>assume</i> c1: C\r\n",
       "}\r\n",
       "comp def \" [<b>1</b>] A\" as E5  <<(T,blue)requirement def>> [[psysml:c7a4f64d-f76e-4f11-bab9-561a5696e580 ]] {\r\n",
       "Text\r\n",
       "- -\r\n",
       "}\r\n",
       "comp usage \"<s>noname</s>\" as E8  <<(T,blue)requirement>> [[psysml:165156c7-6d13-47e8-9214-4efd9fbee902 ]] {\r\n",
       "}\r\n",
       "comp def \"R1\" as E9  <<(T,blue)requirement def>> [[psysml:5b4d3eaf-f72e-4f96-998b-f4a0a57df239 ]] {\r\n",
       "- - constraints - -\r\n",
       "<b>require</b> c1\\n//:>>RequirementTest::c// \r\n",
       "}\r\n",
       "comp usage \"p\" as E11  <<(T,blue)part>> [[psysml:8fb932f6-fc92-43ad-aa0e-8cfa7b71c9b3 ]] {\r\n",
       "}\r\n",
       "comp usage \"q\" as E12  <<(T,blue)part>> [[psysml:9b734dfd-0e44-4ae0-bd37-d0a03d4a12cd ]] {\r\n",
       "}\r\n",
       "comp usage \"r: R\" as E13  <<(T,blue)requirement>> [[psysml:5a1cae69-7149-47dc-88a9-208fdbfbba4b ]] {\r\n",
       "}\r\n",
       "E3 - -:|> E2 [[psysml:bb92853b-9a42-4685-9891-57f30cbf18f8 ]] \r\n",
       "E4 +- - E5 [[psysml:c7a4f64d-f76e-4f11-bab9-561a5696e580 ]] \r\n",
       "E4 *- - E8 [[psysml:165156c7-6d13-47e8-9214-4efd9fbee902 ]] \r\n",
       "E12 *- - E13 [[psysml:5a1cae69-7149-47dc-88a9-208fdbfbba4b ]] \r\n",
       "E13 - -:|> E4 [[psysml:9a693856-e1d7-4623-99b4-c4529bf04054 ]] \r\n",
       "E13 ..> E11 [[psysml:69852053-465c-4b3e-807c-2facd65a229c ]] : <<satisfy>>\r\n",
       "}\r\n",
       "@enduml\r\n",
       "\n",
       "PlantUML version 1.2020.13(Sat Jun 13 12:26:38 UTC 2020)\n",
       "(EPL source distribution)\n",
       "Java Runtime: OpenJDK Runtime Environment\n",
       "JVM: OpenJDK 64-Bit Server VM\n",
       "Default Encoding: UTF-8\n",
       "Language: en\n",
       "Country: null\n",
       "--></g></svg>"
      ]
     },
     "execution_count": 15,
     "metadata": {},
     "output_type": "execute_result"
    }
   ],
   "source": [
    "%viz --style=\"POLYLINE\" --view=\"MIXED\" \"RequirementTest\""
   ]
  },
  {
   "cell_type": "code",
   "execution_count": 16,
   "id": "narrative-frederick",
   "metadata": {
    "execution": {
     "iopub.execute_input": "2021-03-25T09:26:58.811670Z",
     "iopub.status.busy": "2021-03-25T09:26:58.811109Z",
     "iopub.status.idle": "2021-03-25T09:26:59.672943Z",
     "shell.execute_reply": "2021-03-25T09:26:59.673454Z"
    }
   },
   "outputs": [
    {
     "data": {
      "image/svg+xml": [
       "<?xml version=\"1.0\" encoding=\"UTF-8\" standalone=\"no\"?><svg xmlns=\"http://www.w3.org/2000/svg\" xmlns:xlink=\"http://www.w3.org/1999/xlink\" contentScriptType=\"application/ecmascript\" contentStyleType=\"text/css\" height=\"319px\" preserveAspectRatio=\"none\" style=\"width:794px;height:319px;\" version=\"1.1\" viewBox=\"0 0 794 319\" width=\"794px\" zoomAndPan=\"magnify\"><defs/><g><!--MD5=[fbc87193dbaf4d95561dea2c320d4a47]\n",
       "cluster E1--><a href=\"psysml:7a32e4ca-d886-48d1-a22e-a4337a6af1e2\" target=\"_top\" title=\"psysml:7a32e4ca-d886-48d1-a22e-a4337a6af1e2\" xlink:actuate=\"onRequest\" xlink:href=\"psysml:7a32e4ca-d886-48d1-a22e-a4337a6af1e2\" xlink:show=\"new\" xlink:title=\"psysml:7a32e4ca-d886-48d1-a22e-a4337a6af1e2\" xlink:type=\"simple\"><polygon fill=\"#FFFFFF\" points=\"16,6,158,6,165,28.2969,772,28.2969,772,307,16,307,16,6\" style=\"stroke: #000000; stroke-width: 1.5;\"/><line style=\"stroke: #000000; stroke-width: 1.5;\" x1=\"16\" x2=\"165\" y1=\"28.2969\" y2=\"28.2969\"/><text fill=\"#000000\" font-family=\"sans-serif\" font-size=\"14\" font-weight=\"bold\" lengthAdjust=\"spacingAndGlyphs\" textLength=\"136\" x=\"20\" y=\"20.9951\">RequirementTest</text></a><!--MD5=[b4997ac47864f28c2f74865a473b2911]\n",
       "class E2--><a href=\"psysml:c5fd5931-ea17-4576-af97-a79679b06835\" target=\"_top\" title=\"psysml:c5fd5931-ea17-4576-af97-a79679b06835\" xlink:actuate=\"onRequest\" xlink:href=\"psysml:c5fd5931-ea17-4576-af97-a79679b06835\" xlink:show=\"new\" xlink:title=\"psysml:c5fd5931-ea17-4576-af97-a79679b06835\" xlink:type=\"simple\"><rect fill=\"#FFFFFF\" height=\"45.9375\" id=\"E2\" style=\"stroke: #383838; stroke-width: 1.5;\" width=\"104\" x=\"238\" y=\"41\"/><text fill=\"#000000\" font-family=\"sans-serif\" font-size=\"12\" font-style=\"italic\" lengthAdjust=\"spacingAndGlyphs\" textLength=\"102\" x=\"239\" y=\"57.1387\">«constraint def»</text><text fill=\"#000000\" font-family=\"sans-serif\" font-size=\"12\" lengthAdjust=\"spacingAndGlyphs\" textLength=\"8\" x=\"286\" y=\"71.1074\">C</text><line style=\"stroke: #383838; stroke-width: 1.5;\" x1=\"239\" x2=\"341\" y1=\"78.9375\" y2=\"78.9375\"/></a><!--MD5=[09b614a08d8cba4a07c9adeb5e0fee81]\n",
       "class E3--><a href=\"psysml:23e87db0-b26a-4449-ad29-18415d83eb38\" target=\"_top\" title=\"psysml:23e87db0-b26a-4449-ad29-18415d83eb38\" xlink:actuate=\"onRequest\" xlink:href=\"psysml:23e87db0-b26a-4449-ad29-18415d83eb38\" xlink:show=\"new\" xlink:title=\"psysml:23e87db0-b26a-4449-ad29-18415d83eb38\" xlink:type=\"simple\"><rect fill=\"#FFFFFF\" height=\"45.9375\" id=\"E3\" rx=\"10\" ry=\"10\" style=\"stroke: #383838; stroke-width: 1.5;\" width=\"80\" x=\"64.5\" y=\"41\"/><text fill=\"#000000\" font-family=\"sans-serif\" font-size=\"12\" font-style=\"italic\" lengthAdjust=\"spacingAndGlyphs\" textLength=\"78\" x=\"65.5\" y=\"57.1387\">«constraint»</text><text fill=\"#000000\" font-family=\"sans-serif\" font-size=\"12\" lengthAdjust=\"spacingAndGlyphs\" textLength=\"23\" x=\"93\" y=\"71.1074\">c: C</text><line style=\"stroke: #383838; stroke-width: 1.5;\" x1=\"65.5\" x2=\"143.5\" y1=\"78.9375\" y2=\"78.9375\"/></a><!--MD5=[ebbe1d658d1005bcc118a6aa81145e00]\n",
       "class E4--><a href=\"psysml:aa32b181-0a7a-45c2-8d8e-c84b0489ed31\" target=\"_top\" title=\"psysml:aa32b181-0a7a-45c2-8d8e-c84b0489ed31\" xlink:actuate=\"onRequest\" xlink:href=\"psysml:aa32b181-0a7a-45c2-8d8e-c84b0489ed31\" xlink:show=\"new\" xlink:title=\"psysml:aa32b181-0a7a-45c2-8d8e-c84b0489ed31\" xlink:type=\"simple\"><rect fill=\"#FFFFFF\" height=\"109.1563\" id=\"E4\" style=\"stroke: #383838; stroke-width: 1.5;\" width=\"117\" x=\"461\" y=\"181.5\"/><text fill=\"#000000\" font-family=\"sans-serif\" font-size=\"12\" font-style=\"italic\" lengthAdjust=\"spacingAndGlyphs\" textLength=\"115\" x=\"462\" y=\"197.6387\">«requirement def»</text><text fill=\"#000000\" font-family=\"sans-serif\" font-size=\"12\" lengthAdjust=\"spacingAndGlyphs\" textLength=\"8\" x=\"515.5\" y=\"211.6074\">R</text><line style=\"stroke: #383838; stroke-width: 1.5;\" x1=\"462\" x2=\"577\" y1=\"219.4375\" y2=\"219.4375\"/><text fill=\"#000000\" font-family=\"sans-serif\" font-size=\"11\" lengthAdjust=\"spacingAndGlyphs\" textLength=\"0\" x=\"471\" y=\"233.6479\"/><line style=\"stroke: #383838; stroke-width: 1.0;\" x1=\"462\" x2=\"577\" y1=\"240.2422\" y2=\"240.2422\"/><text fill=\"#000000\" font-family=\"sans-serif\" font-size=\"11\" font-weight=\"bold\" lengthAdjust=\"spacingAndGlyphs\" textLength=\"46\" x=\"467\" y=\"271.2573\">require</text><text fill=\"#000000\" font-family=\"sans-serif\" font-size=\"11\" lengthAdjust=\"spacingAndGlyphs\" textLength=\"6\" x=\"517\" y=\"271.2573\">c</text><text fill=\"#000000\" font-family=\"sans-serif\" font-size=\"11\" font-style=\"italic\" lengthAdjust=\"spacingAndGlyphs\" textLength=\"46\" x=\"467\" y=\"284.062\">assume</text><text fill=\"#000000\" font-family=\"sans-serif\" font-size=\"11\" lengthAdjust=\"spacingAndGlyphs\" textLength=\"29\" x=\"517\" y=\"284.062\">c1: C</text><line style=\"stroke: #383838; stroke-width: 1.0;\" x1=\"462\" x2=\"487.5\" y1=\"254.6445\" y2=\"254.6445\"/><text fill=\"#000000\" font-family=\"sans-serif\" font-size=\"11\" lengthAdjust=\"spacingAndGlyphs\" textLength=\"64\" x=\"487.5\" y=\"257.9526\">constraints</text><line style=\"stroke: #383838; stroke-width: 1.0;\" x1=\"551.5\" x2=\"577\" y1=\"254.6445\" y2=\"254.6445\"/></a><!--MD5=[270fce915f116d4de14055a7c1d9a0f3]\n",
       "class E5--><a href=\"psysml:c7a4f64d-f76e-4f11-bab9-561a5696e580\" target=\"_top\" title=\"psysml:c7a4f64d-f76e-4f11-bab9-561a5696e580\" xlink:actuate=\"onRequest\" xlink:href=\"psysml:c7a4f64d-f76e-4f11-bab9-561a5696e580\" xlink:show=\"new\" xlink:title=\"psysml:c7a4f64d-f76e-4f11-bab9-561a5696e580\" xlink:type=\"simple\"><rect fill=\"#FFFFFF\" height=\"66.7422\" id=\"E5\" style=\"stroke: #383838; stroke-width: 1.5;\" width=\"117\" x=\"639\" y=\"216.5\"/><text fill=\"#000000\" font-family=\"sans-serif\" font-size=\"12\" font-style=\"italic\" lengthAdjust=\"spacingAndGlyphs\" textLength=\"115\" x=\"640\" y=\"232.6387\">«requirement def»</text><text fill=\"#000000\" font-family=\"sans-serif\" font-size=\"12\" lengthAdjust=\"spacingAndGlyphs\" textLength=\"5\" x=\"684.5\" y=\"246.6074\">[</text><text fill=\"#000000\" font-family=\"sans-serif\" font-size=\"12\" font-weight=\"bold\" lengthAdjust=\"spacingAndGlyphs\" textLength=\"8\" x=\"689.5\" y=\"246.6074\">1</text><text fill=\"#000000\" font-family=\"sans-serif\" font-size=\"12\" lengthAdjust=\"spacingAndGlyphs\" textLength=\"17\" x=\"697.5\" y=\"246.6074\">] A</text><line style=\"stroke: #383838; stroke-width: 1.5;\" x1=\"640\" x2=\"755\" y1=\"254.4375\" y2=\"254.4375\"/><text fill=\"#000000\" font-family=\"sans-serif\" font-size=\"11\" lengthAdjust=\"spacingAndGlyphs\" textLength=\"24\" x=\"645\" y=\"268.6479\">Text</text><line style=\"stroke: #383838; stroke-width: 1.0;\" x1=\"640\" x2=\"755\" y1=\"275.2422\" y2=\"275.2422\"/></a><!--MD5=[b9389687b975829384b498ac4b7476b2]\n",
       "class E8--><a href=\"psysml:165156c7-6d13-47e8-9214-4efd9fbee902\" target=\"_top\" title=\"psysml:165156c7-6d13-47e8-9214-4efd9fbee902\" xlink:actuate=\"onRequest\" xlink:href=\"psysml:165156c7-6d13-47e8-9214-4efd9fbee902\" xlink:show=\"new\" xlink:title=\"psysml:165156c7-6d13-47e8-9214-4efd9fbee902\" xlink:type=\"simple\"><rect fill=\"#FFFFFF\" height=\"45.9375\" id=\"E8\" rx=\"10\" ry=\"10\" style=\"stroke: #383838; stroke-width: 1.5;\" width=\"93\" x=\"651\" y=\"135\"/><text fill=\"#000000\" font-family=\"sans-serif\" font-size=\"12\" font-style=\"italic\" lengthAdjust=\"spacingAndGlyphs\" textLength=\"91\" x=\"652\" y=\"151.1387\">«requirement»</text><text fill=\"#000000\" font-family=\"sans-serif\" font-size=\"12\" lengthAdjust=\"spacingAndGlyphs\" text-decoration=\"line-through\" textLength=\"51\" x=\"672\" y=\"165.1074\">noname</text><line style=\"stroke: #383838; stroke-width: 1.5;\" x1=\"652\" x2=\"743\" y1=\"172.9375\" y2=\"172.9375\"/></a><!--MD5=[fd4143e9d270a159db93a4ea2a975926]\n",
       "class E9--><a href=\"psysml:5b4d3eaf-f72e-4f96-998b-f4a0a57df239\" target=\"_top\" title=\"psysml:5b4d3eaf-f72e-4f96-998b-f4a0a57df239\" xlink:actuate=\"onRequest\" xlink:href=\"psysml:5b4d3eaf-f72e-4f96-998b-f4a0a57df239\" xlink:show=\"new\" xlink:title=\"psysml:5b4d3eaf-f72e-4f96-998b-f4a0a57df239\" xlink:type=\"simple\"><rect fill=\"#FFFFFF\" height=\"88.3516\" id=\"E9\" style=\"stroke: #383838; stroke-width: 1.5;\" width=\"145\" x=\"32\" y=\"122\"/><text fill=\"#000000\" font-family=\"sans-serif\" font-size=\"12\" font-style=\"italic\" lengthAdjust=\"spacingAndGlyphs\" textLength=\"115\" x=\"47\" y=\"138.1387\">«requirement def»</text><text fill=\"#000000\" font-family=\"sans-serif\" font-size=\"12\" lengthAdjust=\"spacingAndGlyphs\" textLength=\"16\" x=\"96.5\" y=\"152.1074\">R1</text><line style=\"stroke: #383838; stroke-width: 1.5;\" x1=\"33\" x2=\"176\" y1=\"159.9375\" y2=\"159.9375\"/><text fill=\"#000000\" font-family=\"sans-serif\" font-size=\"11\" font-weight=\"bold\" lengthAdjust=\"spacingAndGlyphs\" textLength=\"46\" x=\"38\" y=\"190.9526\">require</text><text fill=\"#000000\" font-family=\"sans-serif\" font-size=\"11\" lengthAdjust=\"spacingAndGlyphs\" textLength=\"13\" x=\"88\" y=\"190.9526\">c1</text><text fill=\"#000000\" font-family=\"sans-serif\" font-size=\"11\" font-style=\"italic\" lengthAdjust=\"spacingAndGlyphs\" textLength=\"133\" x=\"38\" y=\"203.7573\">:&gt;&gt;RequirementTest::c</text><line style=\"stroke: #383838; stroke-width: 1.0;\" x1=\"33\" x2=\"72.5\" y1=\"174.3398\" y2=\"174.3398\"/><text fill=\"#000000\" font-family=\"sans-serif\" font-size=\"11\" lengthAdjust=\"spacingAndGlyphs\" textLength=\"64\" x=\"72.5\" y=\"177.6479\">constraints</text><line style=\"stroke: #383838; stroke-width: 1.0;\" x1=\"136.5\" x2=\"176\" y1=\"174.3398\" y2=\"174.3398\"/></a><!--MD5=[1dd1bfd58a279cf63c5f349dbc8fc6a1]\n",
       "class E11--><a href=\"psysml:8fb932f6-fc92-43ad-aa0e-8cfa7b71c9b3\" target=\"_top\" title=\"psysml:8fb932f6-fc92-43ad-aa0e-8cfa7b71c9b3\" xlink:actuate=\"onRequest\" xlink:href=\"psysml:8fb932f6-fc92-43ad-aa0e-8cfa7b71c9b3\" xlink:show=\"new\" xlink:title=\"psysml:8fb932f6-fc92-43ad-aa0e-8cfa7b71c9b3\" xlink:type=\"simple\"><rect fill=\"#FFFFFF\" height=\"45.9375\" id=\"E11\" rx=\"10\" ry=\"10\" style=\"stroke: #383838; stroke-width: 1.5;\" width=\"42\" x=\"498.5\" y=\"100\"/><text fill=\"#000000\" font-family=\"sans-serif\" font-size=\"12\" font-style=\"italic\" lengthAdjust=\"spacingAndGlyphs\" textLength=\"40\" x=\"499.5\" y=\"116.1387\">«part»</text><text fill=\"#000000\" font-family=\"sans-serif\" font-size=\"12\" lengthAdjust=\"spacingAndGlyphs\" textLength=\"8\" x=\"515.5\" y=\"130.1074\">p</text><line style=\"stroke: #383838; stroke-width: 1.5;\" x1=\"499.5\" x2=\"539.5\" y1=\"137.9375\" y2=\"137.9375\"/></a><!--MD5=[49a0ec8f00dab7302a31f22d0f0fe584]\n",
       "class E12--><a href=\"psysml:9b734dfd-0e44-4ae0-bd37-d0a03d4a12cd\" target=\"_top\" title=\"psysml:9b734dfd-0e44-4ae0-bd37-d0a03d4a12cd\" xlink:actuate=\"onRequest\" xlink:href=\"psysml:9b734dfd-0e44-4ae0-bd37-d0a03d4a12cd\" xlink:show=\"new\" xlink:title=\"psysml:9b734dfd-0e44-4ae0-bd37-d0a03d4a12cd\" xlink:type=\"simple\"><rect fill=\"#FFFFFF\" height=\"45.9375\" id=\"E12\" rx=\"10\" ry=\"10\" style=\"stroke: #383838; stroke-width: 1.5;\" width=\"42\" x=\"83.5\" y=\"245\"/><text fill=\"#000000\" font-family=\"sans-serif\" font-size=\"12\" font-style=\"italic\" lengthAdjust=\"spacingAndGlyphs\" textLength=\"40\" x=\"84.5\" y=\"261.1387\">«part»</text><text fill=\"#000000\" font-family=\"sans-serif\" font-size=\"12\" lengthAdjust=\"spacingAndGlyphs\" textLength=\"8\" x=\"100.5\" y=\"275.1074\">q</text><line style=\"stroke: #383838; stroke-width: 1.5;\" x1=\"84.5\" x2=\"124.5\" y1=\"282.9375\" y2=\"282.9375\"/></a><!--MD5=[ee3c913d1a06f366521f9ef512b67efe]\n",
       "class E13--><a href=\"psysml:5a1cae69-7149-47dc-88a9-208fdbfbba4b\" target=\"_top\" title=\"psysml:5a1cae69-7149-47dc-88a9-208fdbfbba4b\" xlink:actuate=\"onRequest\" xlink:href=\"psysml:5a1cae69-7149-47dc-88a9-208fdbfbba4b\" xlink:show=\"new\" xlink:title=\"psysml:5a1cae69-7149-47dc-88a9-208fdbfbba4b\" xlink:type=\"simple\"><rect fill=\"#FFFFFF\" height=\"45.9375\" id=\"E13\" rx=\"10\" ry=\"10\" style=\"stroke: #383838; stroke-width: 1.5;\" width=\"93\" x=\"243.5\" y=\"213\"/><text fill=\"#000000\" font-family=\"sans-serif\" font-size=\"12\" font-style=\"italic\" lengthAdjust=\"spacingAndGlyphs\" textLength=\"91\" x=\"244.5\" y=\"229.1387\">«requirement»</text><text fill=\"#000000\" font-family=\"sans-serif\" font-size=\"12\" lengthAdjust=\"spacingAndGlyphs\" textLength=\"21\" x=\"279.5\" y=\"243.1074\">r: R</text><line style=\"stroke: #383838; stroke-width: 1.5;\" x1=\"244.5\" x2=\"335.5\" y1=\"250.9375\" y2=\"250.9375\"/></a><!--MD5=[05d275557350bfb9b23a4ef7222b4c39]\n",
       "link E3 to E2--><a href=\"psysml:bb92853b-9a42-4685-9891-57f30cbf18f8\" target=\"_top\" title=\"psysml:bb92853b-9a42-4685-9891-57f30cbf18f8\" xlink:actuate=\"onRequest\" xlink:href=\"psysml:bb92853b-9a42-4685-9891-57f30cbf18f8\" xlink:show=\"new\" xlink:title=\"psysml:bb92853b-9a42-4685-9891-57f30cbf18f8\" xlink:type=\"simple\"><path d=\"M144.87,64 C166.09,64 192.94,64 217.7,64 \" fill=\"none\" id=\"E3-&gt;E2\" style=\"stroke: #383838; stroke-width: 1.0;\"/><polygon fill=\"#FFFFFF\" points=\"237.84,64,218.84,71,218.84,57,237.84,64\" style=\"stroke: #383838; stroke-width: 1.0;\"/><ellipse cx=\"213.14\" cy=\"69\" fill=\"#383838\" rx=\"2\" ry=\"2\" style=\"stroke: #383838; stroke-width: 1.0;\"/><ellipse cx=\"213.14\" cy=\"59\" fill=\"#383838\" rx=\"2\" ry=\"2\" style=\"stroke: #383838; stroke-width: 1.0;\"/></a><!--MD5=[62aa6af11e70f752912c1cb0466f24f7]\n",
       "reverse link E4 to E5--><a href=\"psysml:c7a4f64d-f76e-4f11-bab9-561a5696e580\" target=\"_top\" title=\"psysml:c7a4f64d-f76e-4f11-bab9-561a5696e580\" xlink:actuate=\"onRequest\" xlink:href=\"psysml:c7a4f64d-f76e-4f11-bab9-561a5696e580\" xlink:show=\"new\" xlink:title=\"psysml:c7a4f64d-f76e-4f11-bab9-561a5696e580\" xlink:type=\"simple\"><path d=\"M593.54,241.81 C608.62,243.01 624.3,244.26 638.74,245.41 \" fill=\"none\" id=\"E4&lt;-E5\" style=\"stroke: #383838; stroke-width: 1.0;\"/><ellipse cx=\"586.105\" cy=\"241.2122\" fill=\"#FFFFFF\" rx=\"8\" ry=\"8\" style=\"stroke: #383838; stroke-width: 1.0;\"/><line style=\"stroke: #383838; stroke-width: 1.0;\" x1=\"594.08\" x2=\"578.13\" y1=\"241.8444\" y2=\"240.58\"/><line style=\"stroke: #383838; stroke-width: 1.0;\" x1=\"585.4728\" x2=\"586.7372\" y1=\"249.1872\" y2=\"233.2372\"/></a><!--MD5=[c6fc7cdb0cabde04948078cf183fa696]\n",
       "reverse link E4 to E8--><a href=\"psysml:165156c7-6d13-47e8-9214-4efd9fbee902\" target=\"_top\" title=\"psysml:165156c7-6d13-47e8-9214-4efd9fbee902\" xlink:actuate=\"onRequest\" xlink:href=\"psysml:165156c7-6d13-47e8-9214-4efd9fbee902\" xlink:show=\"new\" xlink:title=\"psysml:165156c7-6d13-47e8-9214-4efd9fbee902\" xlink:type=\"simple\"><path d=\"M590.24,205.09 C610.58,196.08 632.28,186.46 650.74,178.28 \" fill=\"none\" id=\"E4&lt;-E8\" style=\"stroke: #383838; stroke-width: 1.0;\"/><polygon fill=\"#383838\" points=\"578.13,210.46,585.2365,211.684,589.0995,205.5949,581.9931,204.3709,578.13,210.46\" style=\"stroke: #383838; stroke-width: 1.0;\"/></a><!--MD5=[062ed86c389d1a88f61c6380d0491e17]\n",
       "reverse link E12 to E13--><a href=\"psysml:5a1cae69-7149-47dc-88a9-208fdbfbba4b\" target=\"_top\" title=\"psysml:5a1cae69-7149-47dc-88a9-208fdbfbba4b\" xlink:actuate=\"onRequest\" xlink:href=\"psysml:5a1cae69-7149-47dc-88a9-208fdbfbba4b\" xlink:show=\"new\" xlink:title=\"psysml:5a1cae69-7149-47dc-88a9-208fdbfbba4b\" xlink:type=\"simple\"><path d=\"M139.02,262.15 C168.28,257.05 211.02,249.6 243.39,243.95 \" fill=\"none\" id=\"E12&lt;-E13\" style=\"stroke: #383838; stroke-width: 1.0;\"/><polygon fill=\"#383838\" points=\"125.84,264.45,132.4403,267.3544,137.6599,262.3789,131.0596,259.4745,125.84,264.45\" style=\"stroke: #383838; stroke-width: 1.0;\"/></a><!--MD5=[017847e01ff9a8bd19f247411074f987]\n",
       "link E13 to E4--><a href=\"psysml:9a693856-e1d7-4623-99b4-c4529bf04054\" target=\"_top\" title=\"psysml:9a693856-e1d7-4623-99b4-c4529bf04054\" xlink:actuate=\"onRequest\" xlink:href=\"psysml:9a693856-e1d7-4623-99b4-c4529bf04054\" xlink:show=\"new\" xlink:title=\"psysml:9a693856-e1d7-4623-99b4-c4529bf04054\" xlink:type=\"simple\"><path d=\"M336.76,236 C366.45,236 405.9,236 440.46,236 \" fill=\"none\" id=\"E13-&gt;E4\" style=\"stroke: #383838; stroke-width: 1.0;\"/><polygon fill=\"#FFFFFF\" points=\"460.67,236,441.67,243,441.67,229,460.67,236\" style=\"stroke: #383838; stroke-width: 1.0;\"/><ellipse cx=\"435.97\" cy=\"241\" fill=\"#383838\" rx=\"2\" ry=\"2\" style=\"stroke: #383838; stroke-width: 1.0;\"/><ellipse cx=\"435.97\" cy=\"231\" fill=\"#383838\" rx=\"2\" ry=\"2\" style=\"stroke: #383838; stroke-width: 1.0;\"/></a><!--MD5=[2cfe899c895462254056921bfb67315f]\n",
       "link E13 to E11--><a href=\"psysml:69852053-465c-4b3e-807c-2facd65a229c\" target=\"_top\" title=\"psysml:69852053-465c-4b3e-807c-2facd65a229c\" xlink:actuate=\"onRequest\" xlink:href=\"psysml:69852053-465c-4b3e-807c-2facd65a229c\" xlink:show=\"new\" xlink:title=\"psysml:69852053-465c-4b3e-807c-2facd65a229c\" xlink:type=\"simple\"><path d=\"M336.76,213.27 C383.95,189.83 455.79,154.15 493.46,135.44 \" fill=\"none\" id=\"E13-&gt;E11\" style=\"stroke: #383838; stroke-width: 1.0; stroke-dasharray: 7.0,7.0;\"/><polygon fill=\"#383838\" points=\"498.32,133.02,488.4797,133.4294,493.8393,135.2389,492.0299,140.5985,498.32,133.02\" style=\"stroke: #383838; stroke-width: 1.0;\"/><text fill=\"#000000\" font-family=\"sans-serif\" font-size=\"13\" lengthAdjust=\"spacingAndGlyphs\" textLength=\"57\" x=\"373\" y=\"166.0669\">«satisfy»</text></a><!--MD5=[4bdff4814a6ef0643ba617ddbdd6bd16]\n",
       "@startuml\r\n",
       "left to right direction\r\n",
       "skinparam monochrome true\r\n",
       "skinparam classbackgroundcolor white\r\n",
       "skinparam shadowing false\r\n",
       "skinparam wrapWidth 300\r\n",
       "hide circle\r\n",
       "\r\n",
       "package \"RequirementTest\" as E1  [[psysml:7a32e4ca-d886-48d1-a22e-a4337a6af1e2 ]]  {\r\n",
       "comp def \"C\" as E2  <<(T,blue)constraint def>> [[psysml:c5fd5931-ea17-4576-af97-a79679b06835 ]] {\r\n",
       "}\r\n",
       "comp usage \"c: C\" as E3  <<(T,blue)constraint>> [[psysml:23e87db0-b26a-4449-ad29-18415d83eb38 ]] {\r\n",
       "}\r\n",
       "comp def \"R\" as E4  <<(T,blue)requirement def>> [[psysml:aa32b181-0a7a-45c2-8d8e-c84b0489ed31 ]] {\r\n",
       "\r\n",
       "- -\r\n",
       "- - constraints - -\r\n",
       "<b>require</b> c\r\n",
       "<i>assume</i> c1: C\r\n",
       "}\r\n",
       "comp def \" [<b>1</b>] A\" as E5  <<(T,blue)requirement def>> [[psysml:c7a4f64d-f76e-4f11-bab9-561a5696e580 ]] {\r\n",
       "Text\r\n",
       "- -\r\n",
       "}\r\n",
       "comp usage \"<s>noname</s>\" as E8  <<(T,blue)requirement>> [[psysml:165156c7-6d13-47e8-9214-4efd9fbee902 ]] {\r\n",
       "}\r\n",
       "comp def \"R1\" as E9  <<(T,blue)requirement def>> [[psysml:5b4d3eaf-f72e-4f96-998b-f4a0a57df239 ]] {\r\n",
       "- - constraints - -\r\n",
       "<b>require</b> c1\\n//:>>RequirementTest::c// \r\n",
       "}\r\n",
       "comp usage \"p\" as E11  <<(T,blue)part>> [[psysml:8fb932f6-fc92-43ad-aa0e-8cfa7b71c9b3 ]] {\r\n",
       "}\r\n",
       "comp usage \"q\" as E12  <<(T,blue)part>> [[psysml:9b734dfd-0e44-4ae0-bd37-d0a03d4a12cd ]] {\r\n",
       "}\r\n",
       "comp usage \"r: R\" as E13  <<(T,blue)requirement>> [[psysml:5a1cae69-7149-47dc-88a9-208fdbfbba4b ]] {\r\n",
       "}\r\n",
       "E3 - -:|> E2 [[psysml:bb92853b-9a42-4685-9891-57f30cbf18f8 ]] \r\n",
       "E4 +- - E5 [[psysml:c7a4f64d-f76e-4f11-bab9-561a5696e580 ]] \r\n",
       "E4 *- - E8 [[psysml:165156c7-6d13-47e8-9214-4efd9fbee902 ]] \r\n",
       "E12 *- - E13 [[psysml:5a1cae69-7149-47dc-88a9-208fdbfbba4b ]] \r\n",
       "E13 - -:|> E4 [[psysml:9a693856-e1d7-4623-99b4-c4529bf04054 ]] \r\n",
       "E13 ..> E11 [[psysml:69852053-465c-4b3e-807c-2facd65a229c ]] : <<satisfy>>\r\n",
       "}\r\n",
       "@enduml\r\n",
       "\n",
       "PlantUML version 1.2020.13(Sat Jun 13 12:26:38 UTC 2020)\n",
       "(EPL source distribution)\n",
       "Java Runtime: OpenJDK Runtime Environment\n",
       "JVM: OpenJDK 64-Bit Server VM\n",
       "Default Encoding: UTF-8\n",
       "Language: en\n",
       "Country: null\n",
       "--></g></svg>"
      ]
     },
     "execution_count": 16,
     "metadata": {},
     "output_type": "execute_result"
    }
   ],
   "source": [
    "%viz --style=\"LR\" --view=\"Default\" \"RequirementTest\""
   ]
  },
  {
   "cell_type": "code",
   "execution_count": 17,
   "id": "changed-dream",
   "metadata": {
    "execution": {
     "iopub.execute_input": "2021-03-25T09:26:59.724209Z",
     "iopub.status.busy": "2021-03-25T09:26:59.723615Z",
     "iopub.status.idle": "2021-03-25T09:27:00.577711Z",
     "shell.execute_reply": "2021-03-25T09:27:00.578387Z"
    }
   },
   "outputs": [
    {
     "data": {
      "image/svg+xml": [
       "<?xml version=\"1.0\" encoding=\"UTF-8\" standalone=\"no\"?><svg xmlns=\"http://www.w3.org/2000/svg\" xmlns:xlink=\"http://www.w3.org/1999/xlink\" contentScriptType=\"application/ecmascript\" contentStyleType=\"text/css\" height=\"319px\" preserveAspectRatio=\"none\" style=\"width:794px;height:319px;\" version=\"1.1\" viewBox=\"0 0 794 319\" width=\"794px\" zoomAndPan=\"magnify\"><defs/><g><!--MD5=[fbc87193dbaf4d95561dea2c320d4a47]\n",
       "cluster E1--><a href=\"psysml:7a32e4ca-d886-48d1-a22e-a4337a6af1e2\" target=\"_top\" title=\"psysml:7a32e4ca-d886-48d1-a22e-a4337a6af1e2\" xlink:actuate=\"onRequest\" xlink:href=\"psysml:7a32e4ca-d886-48d1-a22e-a4337a6af1e2\" xlink:show=\"new\" xlink:title=\"psysml:7a32e4ca-d886-48d1-a22e-a4337a6af1e2\" xlink:type=\"simple\"><polygon fill=\"#FFFFFF\" points=\"16,6,158,6,165,28.2969,772,28.2969,772,307,16,307,16,6\" style=\"stroke: #000000; stroke-width: 1.5;\"/><line style=\"stroke: #000000; stroke-width: 1.5;\" x1=\"16\" x2=\"165\" y1=\"28.2969\" y2=\"28.2969\"/><text fill=\"#000000\" font-family=\"sans-serif\" font-size=\"14\" font-weight=\"bold\" lengthAdjust=\"spacingAndGlyphs\" textLength=\"136\" x=\"20\" y=\"20.9951\">RequirementTest</text></a><!--MD5=[b4997ac47864f28c2f74865a473b2911]\n",
       "class E2--><a href=\"psysml:c5fd5931-ea17-4576-af97-a79679b06835\" target=\"_top\" title=\"psysml:c5fd5931-ea17-4576-af97-a79679b06835\" xlink:actuate=\"onRequest\" xlink:href=\"psysml:c5fd5931-ea17-4576-af97-a79679b06835\" xlink:show=\"new\" xlink:title=\"psysml:c5fd5931-ea17-4576-af97-a79679b06835\" xlink:type=\"simple\"><rect fill=\"#FFFFFF\" height=\"45.9375\" id=\"E2\" style=\"stroke: #383838; stroke-width: 1.5;\" width=\"104\" x=\"238\" y=\"41\"/><text fill=\"#000000\" font-family=\"sans-serif\" font-size=\"12\" font-style=\"italic\" lengthAdjust=\"spacingAndGlyphs\" textLength=\"102\" x=\"239\" y=\"57.1387\">«constraint def»</text><text fill=\"#000000\" font-family=\"sans-serif\" font-size=\"12\" lengthAdjust=\"spacingAndGlyphs\" textLength=\"8\" x=\"286\" y=\"71.1074\">C</text><line style=\"stroke: #383838; stroke-width: 1.5;\" x1=\"239\" x2=\"341\" y1=\"78.9375\" y2=\"78.9375\"/></a><!--MD5=[09b614a08d8cba4a07c9adeb5e0fee81]\n",
       "class E3--><a href=\"psysml:23e87db0-b26a-4449-ad29-18415d83eb38\" target=\"_top\" title=\"psysml:23e87db0-b26a-4449-ad29-18415d83eb38\" xlink:actuate=\"onRequest\" xlink:href=\"psysml:23e87db0-b26a-4449-ad29-18415d83eb38\" xlink:show=\"new\" xlink:title=\"psysml:23e87db0-b26a-4449-ad29-18415d83eb38\" xlink:type=\"simple\"><rect fill=\"#FFFFFF\" height=\"45.9375\" id=\"E3\" rx=\"10\" ry=\"10\" style=\"stroke: #383838; stroke-width: 1.5;\" width=\"80\" x=\"64.5\" y=\"41\"/><text fill=\"#000000\" font-family=\"sans-serif\" font-size=\"12\" font-style=\"italic\" lengthAdjust=\"spacingAndGlyphs\" textLength=\"78\" x=\"65.5\" y=\"57.1387\">«constraint»</text><text fill=\"#000000\" font-family=\"sans-serif\" font-size=\"12\" lengthAdjust=\"spacingAndGlyphs\" textLength=\"23\" x=\"93\" y=\"71.1074\">c: C</text><line style=\"stroke: #383838; stroke-width: 1.5;\" x1=\"65.5\" x2=\"143.5\" y1=\"78.9375\" y2=\"78.9375\"/></a><!--MD5=[ebbe1d658d1005bcc118a6aa81145e00]\n",
       "class E4--><a href=\"psysml:aa32b181-0a7a-45c2-8d8e-c84b0489ed31\" target=\"_top\" title=\"psysml:aa32b181-0a7a-45c2-8d8e-c84b0489ed31\" xlink:actuate=\"onRequest\" xlink:href=\"psysml:aa32b181-0a7a-45c2-8d8e-c84b0489ed31\" xlink:show=\"new\" xlink:title=\"psysml:aa32b181-0a7a-45c2-8d8e-c84b0489ed31\" xlink:type=\"simple\"><rect fill=\"#FFFFFF\" height=\"109.1563\" id=\"E4\" style=\"stroke: #383838; stroke-width: 1.5;\" width=\"117\" x=\"461\" y=\"181.5\"/><text fill=\"#000000\" font-family=\"sans-serif\" font-size=\"12\" font-style=\"italic\" lengthAdjust=\"spacingAndGlyphs\" textLength=\"115\" x=\"462\" y=\"197.6387\">«requirement def»</text><text fill=\"#000000\" font-family=\"sans-serif\" font-size=\"12\" lengthAdjust=\"spacingAndGlyphs\" textLength=\"8\" x=\"515.5\" y=\"211.6074\">R</text><line style=\"stroke: #383838; stroke-width: 1.5;\" x1=\"462\" x2=\"577\" y1=\"219.4375\" y2=\"219.4375\"/><text fill=\"#000000\" font-family=\"sans-serif\" font-size=\"11\" lengthAdjust=\"spacingAndGlyphs\" textLength=\"0\" x=\"471\" y=\"233.6479\"/><line style=\"stroke: #383838; stroke-width: 1.0;\" x1=\"462\" x2=\"577\" y1=\"240.2422\" y2=\"240.2422\"/><text fill=\"#000000\" font-family=\"sans-serif\" font-size=\"11\" font-weight=\"bold\" lengthAdjust=\"spacingAndGlyphs\" textLength=\"46\" x=\"467\" y=\"271.2573\">require</text><text fill=\"#000000\" font-family=\"sans-serif\" font-size=\"11\" lengthAdjust=\"spacingAndGlyphs\" textLength=\"6\" x=\"517\" y=\"271.2573\">c</text><text fill=\"#000000\" font-family=\"sans-serif\" font-size=\"11\" font-style=\"italic\" lengthAdjust=\"spacingAndGlyphs\" textLength=\"46\" x=\"467\" y=\"284.062\">assume</text><text fill=\"#000000\" font-family=\"sans-serif\" font-size=\"11\" lengthAdjust=\"spacingAndGlyphs\" textLength=\"29\" x=\"517\" y=\"284.062\">c1: C</text><line style=\"stroke: #383838; stroke-width: 1.0;\" x1=\"462\" x2=\"487.5\" y1=\"254.6445\" y2=\"254.6445\"/><text fill=\"#000000\" font-family=\"sans-serif\" font-size=\"11\" lengthAdjust=\"spacingAndGlyphs\" textLength=\"64\" x=\"487.5\" y=\"257.9526\">constraints</text><line style=\"stroke: #383838; stroke-width: 1.0;\" x1=\"551.5\" x2=\"577\" y1=\"254.6445\" y2=\"254.6445\"/></a><!--MD5=[270fce915f116d4de14055a7c1d9a0f3]\n",
       "class E5--><a href=\"psysml:c7a4f64d-f76e-4f11-bab9-561a5696e580\" target=\"_top\" title=\"psysml:c7a4f64d-f76e-4f11-bab9-561a5696e580\" xlink:actuate=\"onRequest\" xlink:href=\"psysml:c7a4f64d-f76e-4f11-bab9-561a5696e580\" xlink:show=\"new\" xlink:title=\"psysml:c7a4f64d-f76e-4f11-bab9-561a5696e580\" xlink:type=\"simple\"><rect fill=\"#FFFFFF\" height=\"66.7422\" id=\"E5\" style=\"stroke: #383838; stroke-width: 1.5;\" width=\"117\" x=\"639\" y=\"216.5\"/><text fill=\"#000000\" font-family=\"sans-serif\" font-size=\"12\" font-style=\"italic\" lengthAdjust=\"spacingAndGlyphs\" textLength=\"115\" x=\"640\" y=\"232.6387\">«requirement def»</text><text fill=\"#000000\" font-family=\"sans-serif\" font-size=\"12\" lengthAdjust=\"spacingAndGlyphs\" textLength=\"5\" x=\"684.5\" y=\"246.6074\">[</text><text fill=\"#000000\" font-family=\"sans-serif\" font-size=\"12\" font-weight=\"bold\" lengthAdjust=\"spacingAndGlyphs\" textLength=\"8\" x=\"689.5\" y=\"246.6074\">1</text><text fill=\"#000000\" font-family=\"sans-serif\" font-size=\"12\" lengthAdjust=\"spacingAndGlyphs\" textLength=\"17\" x=\"697.5\" y=\"246.6074\">] A</text><line style=\"stroke: #383838; stroke-width: 1.5;\" x1=\"640\" x2=\"755\" y1=\"254.4375\" y2=\"254.4375\"/><text fill=\"#000000\" font-family=\"sans-serif\" font-size=\"11\" lengthAdjust=\"spacingAndGlyphs\" textLength=\"24\" x=\"645\" y=\"268.6479\">Text</text><line style=\"stroke: #383838; stroke-width: 1.0;\" x1=\"640\" x2=\"755\" y1=\"275.2422\" y2=\"275.2422\"/></a><!--MD5=[b9389687b975829384b498ac4b7476b2]\n",
       "class E8--><a href=\"psysml:165156c7-6d13-47e8-9214-4efd9fbee902\" target=\"_top\" title=\"psysml:165156c7-6d13-47e8-9214-4efd9fbee902\" xlink:actuate=\"onRequest\" xlink:href=\"psysml:165156c7-6d13-47e8-9214-4efd9fbee902\" xlink:show=\"new\" xlink:title=\"psysml:165156c7-6d13-47e8-9214-4efd9fbee902\" xlink:type=\"simple\"><rect fill=\"#FFFFFF\" height=\"45.9375\" id=\"E8\" rx=\"10\" ry=\"10\" style=\"stroke: #383838; stroke-width: 1.5;\" width=\"93\" x=\"651\" y=\"135\"/><text fill=\"#000000\" font-family=\"sans-serif\" font-size=\"12\" font-style=\"italic\" lengthAdjust=\"spacingAndGlyphs\" textLength=\"91\" x=\"652\" y=\"151.1387\">«requirement»</text><text fill=\"#000000\" font-family=\"sans-serif\" font-size=\"12\" lengthAdjust=\"spacingAndGlyphs\" text-decoration=\"line-through\" textLength=\"51\" x=\"672\" y=\"165.1074\">noname</text><line style=\"stroke: #383838; stroke-width: 1.5;\" x1=\"652\" x2=\"743\" y1=\"172.9375\" y2=\"172.9375\"/></a><!--MD5=[fd4143e9d270a159db93a4ea2a975926]\n",
       "class E9--><a href=\"psysml:5b4d3eaf-f72e-4f96-998b-f4a0a57df239\" target=\"_top\" title=\"psysml:5b4d3eaf-f72e-4f96-998b-f4a0a57df239\" xlink:actuate=\"onRequest\" xlink:href=\"psysml:5b4d3eaf-f72e-4f96-998b-f4a0a57df239\" xlink:show=\"new\" xlink:title=\"psysml:5b4d3eaf-f72e-4f96-998b-f4a0a57df239\" xlink:type=\"simple\"><rect fill=\"#FFFFFF\" height=\"88.3516\" id=\"E9\" style=\"stroke: #383838; stroke-width: 1.5;\" width=\"145\" x=\"32\" y=\"122\"/><text fill=\"#000000\" font-family=\"sans-serif\" font-size=\"12\" font-style=\"italic\" lengthAdjust=\"spacingAndGlyphs\" textLength=\"115\" x=\"47\" y=\"138.1387\">«requirement def»</text><text fill=\"#000000\" font-family=\"sans-serif\" font-size=\"12\" lengthAdjust=\"spacingAndGlyphs\" textLength=\"16\" x=\"96.5\" y=\"152.1074\">R1</text><line style=\"stroke: #383838; stroke-width: 1.5;\" x1=\"33\" x2=\"176\" y1=\"159.9375\" y2=\"159.9375\"/><text fill=\"#000000\" font-family=\"sans-serif\" font-size=\"11\" font-weight=\"bold\" lengthAdjust=\"spacingAndGlyphs\" textLength=\"46\" x=\"38\" y=\"190.9526\">require</text><text fill=\"#000000\" font-family=\"sans-serif\" font-size=\"11\" lengthAdjust=\"spacingAndGlyphs\" textLength=\"13\" x=\"88\" y=\"190.9526\">c1</text><text fill=\"#000000\" font-family=\"sans-serif\" font-size=\"11\" font-style=\"italic\" lengthAdjust=\"spacingAndGlyphs\" textLength=\"133\" x=\"38\" y=\"203.7573\">:&gt;&gt;RequirementTest::c</text><line style=\"stroke: #383838; stroke-width: 1.0;\" x1=\"33\" x2=\"72.5\" y1=\"174.3398\" y2=\"174.3398\"/><text fill=\"#000000\" font-family=\"sans-serif\" font-size=\"11\" lengthAdjust=\"spacingAndGlyphs\" textLength=\"64\" x=\"72.5\" y=\"177.6479\">constraints</text><line style=\"stroke: #383838; stroke-width: 1.0;\" x1=\"136.5\" x2=\"176\" y1=\"174.3398\" y2=\"174.3398\"/></a><!--MD5=[1dd1bfd58a279cf63c5f349dbc8fc6a1]\n",
       "class E11--><a href=\"psysml:8fb932f6-fc92-43ad-aa0e-8cfa7b71c9b3\" target=\"_top\" title=\"psysml:8fb932f6-fc92-43ad-aa0e-8cfa7b71c9b3\" xlink:actuate=\"onRequest\" xlink:href=\"psysml:8fb932f6-fc92-43ad-aa0e-8cfa7b71c9b3\" xlink:show=\"new\" xlink:title=\"psysml:8fb932f6-fc92-43ad-aa0e-8cfa7b71c9b3\" xlink:type=\"simple\"><rect fill=\"#FFFFFF\" height=\"45.9375\" id=\"E11\" rx=\"10\" ry=\"10\" style=\"stroke: #383838; stroke-width: 1.5;\" width=\"42\" x=\"498.5\" y=\"100\"/><text fill=\"#000000\" font-family=\"sans-serif\" font-size=\"12\" font-style=\"italic\" lengthAdjust=\"spacingAndGlyphs\" textLength=\"40\" x=\"499.5\" y=\"116.1387\">«part»</text><text fill=\"#000000\" font-family=\"sans-serif\" font-size=\"12\" lengthAdjust=\"spacingAndGlyphs\" textLength=\"8\" x=\"515.5\" y=\"130.1074\">p</text><line style=\"stroke: #383838; stroke-width: 1.5;\" x1=\"499.5\" x2=\"539.5\" y1=\"137.9375\" y2=\"137.9375\"/></a><!--MD5=[49a0ec8f00dab7302a31f22d0f0fe584]\n",
       "class E12--><a href=\"psysml:9b734dfd-0e44-4ae0-bd37-d0a03d4a12cd\" target=\"_top\" title=\"psysml:9b734dfd-0e44-4ae0-bd37-d0a03d4a12cd\" xlink:actuate=\"onRequest\" xlink:href=\"psysml:9b734dfd-0e44-4ae0-bd37-d0a03d4a12cd\" xlink:show=\"new\" xlink:title=\"psysml:9b734dfd-0e44-4ae0-bd37-d0a03d4a12cd\" xlink:type=\"simple\"><rect fill=\"#FFFFFF\" height=\"45.9375\" id=\"E12\" rx=\"10\" ry=\"10\" style=\"stroke: #383838; stroke-width: 1.5;\" width=\"42\" x=\"83.5\" y=\"245\"/><text fill=\"#000000\" font-family=\"sans-serif\" font-size=\"12\" font-style=\"italic\" lengthAdjust=\"spacingAndGlyphs\" textLength=\"40\" x=\"84.5\" y=\"261.1387\">«part»</text><text fill=\"#000000\" font-family=\"sans-serif\" font-size=\"12\" lengthAdjust=\"spacingAndGlyphs\" textLength=\"8\" x=\"100.5\" y=\"275.1074\">q</text><line style=\"stroke: #383838; stroke-width: 1.5;\" x1=\"84.5\" x2=\"124.5\" y1=\"282.9375\" y2=\"282.9375\"/></a><!--MD5=[ee3c913d1a06f366521f9ef512b67efe]\n",
       "class E13--><a href=\"psysml:5a1cae69-7149-47dc-88a9-208fdbfbba4b\" target=\"_top\" title=\"psysml:5a1cae69-7149-47dc-88a9-208fdbfbba4b\" xlink:actuate=\"onRequest\" xlink:href=\"psysml:5a1cae69-7149-47dc-88a9-208fdbfbba4b\" xlink:show=\"new\" xlink:title=\"psysml:5a1cae69-7149-47dc-88a9-208fdbfbba4b\" xlink:type=\"simple\"><rect fill=\"#FFFFFF\" height=\"45.9375\" id=\"E13\" rx=\"10\" ry=\"10\" style=\"stroke: #383838; stroke-width: 1.5;\" width=\"93\" x=\"243.5\" y=\"213\"/><text fill=\"#000000\" font-family=\"sans-serif\" font-size=\"12\" font-style=\"italic\" lengthAdjust=\"spacingAndGlyphs\" textLength=\"91\" x=\"244.5\" y=\"229.1387\">«requirement»</text><text fill=\"#000000\" font-family=\"sans-serif\" font-size=\"12\" lengthAdjust=\"spacingAndGlyphs\" textLength=\"21\" x=\"279.5\" y=\"243.1074\">r: R</text><line style=\"stroke: #383838; stroke-width: 1.5;\" x1=\"244.5\" x2=\"335.5\" y1=\"250.9375\" y2=\"250.9375\"/></a><!--MD5=[05d275557350bfb9b23a4ef7222b4c39]\n",
       "link E3 to E2--><a href=\"psysml:bb92853b-9a42-4685-9891-57f30cbf18f8\" target=\"_top\" title=\"psysml:bb92853b-9a42-4685-9891-57f30cbf18f8\" xlink:actuate=\"onRequest\" xlink:href=\"psysml:bb92853b-9a42-4685-9891-57f30cbf18f8\" xlink:show=\"new\" xlink:title=\"psysml:bb92853b-9a42-4685-9891-57f30cbf18f8\" xlink:type=\"simple\"><path d=\"M144.87,64 C166.09,64 192.94,64 217.7,64 \" fill=\"none\" id=\"E3-&gt;E2\" style=\"stroke: #383838; stroke-width: 1.0;\"/><polygon fill=\"#FFFFFF\" points=\"237.84,64,218.84,71,218.84,57,237.84,64\" style=\"stroke: #383838; stroke-width: 1.0;\"/><ellipse cx=\"213.14\" cy=\"69\" fill=\"#383838\" rx=\"2\" ry=\"2\" style=\"stroke: #383838; stroke-width: 1.0;\"/><ellipse cx=\"213.14\" cy=\"59\" fill=\"#383838\" rx=\"2\" ry=\"2\" style=\"stroke: #383838; stroke-width: 1.0;\"/></a><!--MD5=[62aa6af11e70f752912c1cb0466f24f7]\n",
       "reverse link E4 to E5--><a href=\"psysml:c7a4f64d-f76e-4f11-bab9-561a5696e580\" target=\"_top\" title=\"psysml:c7a4f64d-f76e-4f11-bab9-561a5696e580\" xlink:actuate=\"onRequest\" xlink:href=\"psysml:c7a4f64d-f76e-4f11-bab9-561a5696e580\" xlink:show=\"new\" xlink:title=\"psysml:c7a4f64d-f76e-4f11-bab9-561a5696e580\" xlink:type=\"simple\"><path d=\"M593.54,241.81 C608.62,243.01 624.3,244.26 638.74,245.41 \" fill=\"none\" id=\"E4&lt;-E5\" style=\"stroke: #383838; stroke-width: 1.0;\"/><ellipse cx=\"586.105\" cy=\"241.2122\" fill=\"#FFFFFF\" rx=\"8\" ry=\"8\" style=\"stroke: #383838; stroke-width: 1.0;\"/><line style=\"stroke: #383838; stroke-width: 1.0;\" x1=\"594.08\" x2=\"578.13\" y1=\"241.8444\" y2=\"240.58\"/><line style=\"stroke: #383838; stroke-width: 1.0;\" x1=\"585.4728\" x2=\"586.7372\" y1=\"249.1872\" y2=\"233.2372\"/></a><!--MD5=[c6fc7cdb0cabde04948078cf183fa696]\n",
       "reverse link E4 to E8--><a href=\"psysml:165156c7-6d13-47e8-9214-4efd9fbee902\" target=\"_top\" title=\"psysml:165156c7-6d13-47e8-9214-4efd9fbee902\" xlink:actuate=\"onRequest\" xlink:href=\"psysml:165156c7-6d13-47e8-9214-4efd9fbee902\" xlink:show=\"new\" xlink:title=\"psysml:165156c7-6d13-47e8-9214-4efd9fbee902\" xlink:type=\"simple\"><path d=\"M590.24,205.09 C610.58,196.08 632.28,186.46 650.74,178.28 \" fill=\"none\" id=\"E4&lt;-E8\" style=\"stroke: #383838; stroke-width: 1.0;\"/><polygon fill=\"#383838\" points=\"578.13,210.46,585.2365,211.684,589.0995,205.5949,581.9931,204.3709,578.13,210.46\" style=\"stroke: #383838; stroke-width: 1.0;\"/></a><!--MD5=[062ed86c389d1a88f61c6380d0491e17]\n",
       "reverse link E12 to E13--><a href=\"psysml:5a1cae69-7149-47dc-88a9-208fdbfbba4b\" target=\"_top\" title=\"psysml:5a1cae69-7149-47dc-88a9-208fdbfbba4b\" xlink:actuate=\"onRequest\" xlink:href=\"psysml:5a1cae69-7149-47dc-88a9-208fdbfbba4b\" xlink:show=\"new\" xlink:title=\"psysml:5a1cae69-7149-47dc-88a9-208fdbfbba4b\" xlink:type=\"simple\"><path d=\"M139.02,262.15 C168.28,257.05 211.02,249.6 243.39,243.95 \" fill=\"none\" id=\"E12&lt;-E13\" style=\"stroke: #383838; stroke-width: 1.0;\"/><polygon fill=\"#383838\" points=\"125.84,264.45,132.4403,267.3544,137.6599,262.3789,131.0596,259.4745,125.84,264.45\" style=\"stroke: #383838; stroke-width: 1.0;\"/></a><!--MD5=[017847e01ff9a8bd19f247411074f987]\n",
       "link E13 to E4--><a href=\"psysml:9a693856-e1d7-4623-99b4-c4529bf04054\" target=\"_top\" title=\"psysml:9a693856-e1d7-4623-99b4-c4529bf04054\" xlink:actuate=\"onRequest\" xlink:href=\"psysml:9a693856-e1d7-4623-99b4-c4529bf04054\" xlink:show=\"new\" xlink:title=\"psysml:9a693856-e1d7-4623-99b4-c4529bf04054\" xlink:type=\"simple\"><path d=\"M336.76,236 C366.45,236 405.9,236 440.46,236 \" fill=\"none\" id=\"E13-&gt;E4\" style=\"stroke: #383838; stroke-width: 1.0;\"/><polygon fill=\"#FFFFFF\" points=\"460.67,236,441.67,243,441.67,229,460.67,236\" style=\"stroke: #383838; stroke-width: 1.0;\"/><ellipse cx=\"435.97\" cy=\"241\" fill=\"#383838\" rx=\"2\" ry=\"2\" style=\"stroke: #383838; stroke-width: 1.0;\"/><ellipse cx=\"435.97\" cy=\"231\" fill=\"#383838\" rx=\"2\" ry=\"2\" style=\"stroke: #383838; stroke-width: 1.0;\"/></a><!--MD5=[2cfe899c895462254056921bfb67315f]\n",
       "link E13 to E11--><a href=\"psysml:69852053-465c-4b3e-807c-2facd65a229c\" target=\"_top\" title=\"psysml:69852053-465c-4b3e-807c-2facd65a229c\" xlink:actuate=\"onRequest\" xlink:href=\"psysml:69852053-465c-4b3e-807c-2facd65a229c\" xlink:show=\"new\" xlink:title=\"psysml:69852053-465c-4b3e-807c-2facd65a229c\" xlink:type=\"simple\"><path d=\"M336.76,213.27 C383.95,189.83 455.79,154.15 493.46,135.44 \" fill=\"none\" id=\"E13-&gt;E11\" style=\"stroke: #383838; stroke-width: 1.0; stroke-dasharray: 7.0,7.0;\"/><polygon fill=\"#383838\" points=\"498.32,133.02,488.4797,133.4294,493.8393,135.2389,492.0299,140.5985,498.32,133.02\" style=\"stroke: #383838; stroke-width: 1.0;\"/><text fill=\"#000000\" font-family=\"sans-serif\" font-size=\"13\" lengthAdjust=\"spacingAndGlyphs\" textLength=\"57\" x=\"373\" y=\"166.0669\">«satisfy»</text></a><!--MD5=[4bdff4814a6ef0643ba617ddbdd6bd16]\n",
       "@startuml\r\n",
       "left to right direction\r\n",
       "skinparam monochrome true\r\n",
       "skinparam classbackgroundcolor white\r\n",
       "skinparam shadowing false\r\n",
       "skinparam wrapWidth 300\r\n",
       "hide circle\r\n",
       "\r\n",
       "package \"RequirementTest\" as E1  [[psysml:7a32e4ca-d886-48d1-a22e-a4337a6af1e2 ]]  {\r\n",
       "comp def \"C\" as E2  <<(T,blue)constraint def>> [[psysml:c5fd5931-ea17-4576-af97-a79679b06835 ]] {\r\n",
       "}\r\n",
       "comp usage \"c: C\" as E3  <<(T,blue)constraint>> [[psysml:23e87db0-b26a-4449-ad29-18415d83eb38 ]] {\r\n",
       "}\r\n",
       "comp def \"R\" as E4  <<(T,blue)requirement def>> [[psysml:aa32b181-0a7a-45c2-8d8e-c84b0489ed31 ]] {\r\n",
       "\r\n",
       "- -\r\n",
       "- - constraints - -\r\n",
       "<b>require</b> c\r\n",
       "<i>assume</i> c1: C\r\n",
       "}\r\n",
       "comp def \" [<b>1</b>] A\" as E5  <<(T,blue)requirement def>> [[psysml:c7a4f64d-f76e-4f11-bab9-561a5696e580 ]] {\r\n",
       "Text\r\n",
       "- -\r\n",
       "}\r\n",
       "comp usage \"<s>noname</s>\" as E8  <<(T,blue)requirement>> [[psysml:165156c7-6d13-47e8-9214-4efd9fbee902 ]] {\r\n",
       "}\r\n",
       "comp def \"R1\" as E9  <<(T,blue)requirement def>> [[psysml:5b4d3eaf-f72e-4f96-998b-f4a0a57df239 ]] {\r\n",
       "- - constraints - -\r\n",
       "<b>require</b> c1\\n//:>>RequirementTest::c// \r\n",
       "}\r\n",
       "comp usage \"p\" as E11  <<(T,blue)part>> [[psysml:8fb932f6-fc92-43ad-aa0e-8cfa7b71c9b3 ]] {\r\n",
       "}\r\n",
       "comp usage \"q\" as E12  <<(T,blue)part>> [[psysml:9b734dfd-0e44-4ae0-bd37-d0a03d4a12cd ]] {\r\n",
       "}\r\n",
       "comp usage \"r: R\" as E13  <<(T,blue)requirement>> [[psysml:5a1cae69-7149-47dc-88a9-208fdbfbba4b ]] {\r\n",
       "}\r\n",
       "E3 - -:|> E2 [[psysml:bb92853b-9a42-4685-9891-57f30cbf18f8 ]] \r\n",
       "E4 +- - E5 [[psysml:c7a4f64d-f76e-4f11-bab9-561a5696e580 ]] \r\n",
       "E4 *- - E8 [[psysml:165156c7-6d13-47e8-9214-4efd9fbee902 ]] \r\n",
       "E12 *- - E13 [[psysml:5a1cae69-7149-47dc-88a9-208fdbfbba4b ]] \r\n",
       "E13 - -:|> E4 [[psysml:9a693856-e1d7-4623-99b4-c4529bf04054 ]] \r\n",
       "E13 ..> E11 [[psysml:69852053-465c-4b3e-807c-2facd65a229c ]] : <<satisfy>>\r\n",
       "}\r\n",
       "@enduml\r\n",
       "\n",
       "PlantUML version 1.2020.13(Sat Jun 13 12:26:38 UTC 2020)\n",
       "(EPL source distribution)\n",
       "Java Runtime: OpenJDK Runtime Environment\n",
       "JVM: OpenJDK 64-Bit Server VM\n",
       "Default Encoding: UTF-8\n",
       "Language: en\n",
       "Country: null\n",
       "--></g></svg>"
      ]
     },
     "execution_count": 17,
     "metadata": {},
     "output_type": "execute_result"
    }
   ],
   "source": [
    "%viz --style=\"LR\" --view=\"Tree\" \"RequirementTest\""
   ]
  },
  {
   "cell_type": "code",
   "execution_count": 18,
   "id": "fitted-indian",
   "metadata": {
    "execution": {
     "iopub.execute_input": "2021-03-25T09:27:00.630437Z",
     "iopub.status.busy": "2021-03-25T09:27:00.629710Z",
     "iopub.status.idle": "2021-03-25T09:27:00.636599Z",
     "shell.execute_reply": "2021-03-25T09:27:00.637052Z"
    }
   },
   "outputs": [
    {
     "data": {
      "image/svg+xml": [
       "<?xml version=\"1.0\" encoding=\"UTF-8\" standalone=\"no\"?><svg xmlns=\"http://www.w3.org/2000/svg\" xmlns:xlink=\"http://www.w3.org/1999/xlink\" contentScriptType=\"application/ecmascript\" contentStyleType=\"text/css\" height=\"12px\" preserveAspectRatio=\"none\" style=\"width:12px;height:12px;\" version=\"1.1\" viewBox=\"0 0 12 12\" width=\"12px\" zoomAndPan=\"magnify\"><defs/><g><!--MD5=[19d285c9d72a204eba4e2cd117d745e8]\n",
       "@startuml\r\n",
       "left to right direction\r\n",
       "skinparam monochrome true\r\n",
       "skinparam classbackgroundcolor white\r\n",
       "skinparam shadowing false\r\n",
       "skinparam wrapWidth 300\r\n",
       "hide circle\r\n",
       "\r\n",
       "@enduml\r\n",
       "\n",
       "PlantUML version 1.2020.13(Sat Jun 13 12:26:38 UTC 2020)\n",
       "(EPL source distribution)\n",
       "Java Runtime: OpenJDK Runtime Environment\n",
       "JVM: OpenJDK 64-Bit Server VM\n",
       "Default Encoding: UTF-8\n",
       "Language: en\n",
       "Country: null\n",
       "--></g></svg>"
      ]
     },
     "execution_count": 18,
     "metadata": {},
     "output_type": "execute_result"
    }
   ],
   "source": [
    "%viz --style=\"LR\" --view=\"State\" \"RequirementTest\""
   ]
  },
  {
   "cell_type": "code",
   "execution_count": 19,
   "id": "elementary-indianapolis",
   "metadata": {
    "execution": {
     "iopub.execute_input": "2021-03-25T09:27:00.688418Z",
     "iopub.status.busy": "2021-03-25T09:27:00.687837Z",
     "iopub.status.idle": "2021-03-25T09:27:00.815341Z",
     "shell.execute_reply": "2021-03-25T09:27:00.814911Z"
    }
   },
   "outputs": [
    {
     "data": {
      "image/svg+xml": [
       "<?xml version=\"1.0\" encoding=\"UTF-8\" standalone=\"no\"?><svg xmlns=\"http://www.w3.org/2000/svg\" xmlns:xlink=\"http://www.w3.org/1999/xlink\" contentScriptType=\"application/ecmascript\" contentStyleType=\"text/css\" height=\"600px\" preserveAspectRatio=\"none\" style=\"width:405px;height:600px;\" version=\"1.1\" viewBox=\"0 0 405 600\" width=\"405px\" zoomAndPan=\"magnify\"><defs/><g><!--MD5=[fbc87193dbaf4d95561dea2c320d4a47]\n",
       "cluster E1--><a href=\"psysml:7a32e4ca-d886-48d1-a22e-a4337a6af1e2\" target=\"_top\" title=\"psysml:7a32e4ca-d886-48d1-a22e-a4337a6af1e2\" xlink:actuate=\"onRequest\" xlink:href=\"psysml:7a32e4ca-d886-48d1-a22e-a4337a6af1e2\" xlink:show=\"new\" xlink:title=\"psysml:7a32e4ca-d886-48d1-a22e-a4337a6af1e2\" xlink:type=\"simple\"><polygon fill=\"#FFFFFF\" points=\"16,6,158,6,165,28.2969,383,28.2969,383,588,16,588,16,6\" style=\"stroke: #000000; stroke-width: 1.5;\"/><line style=\"stroke: #000000; stroke-width: 1.5;\" x1=\"16\" x2=\"165\" y1=\"28.2969\" y2=\"28.2969\"/><text fill=\"#000000\" font-family=\"sans-serif\" font-size=\"14\" font-weight=\"bold\" lengthAdjust=\"spacingAndGlyphs\" textLength=\"136\" x=\"20\" y=\"20.9951\">RequirementTest</text></a><!--MD5=[168fadf3d0c3fd93dd5d6da1b1d7ab76]\n",
       "cluster E7--><a href=\"psysml:9b734dfd-0e44-4ae0-bd37-d0a03d4a12cd\" target=\"_top\" title=\"psysml:9b734dfd-0e44-4ae0-bd37-d0a03d4a12cd\" xlink:actuate=\"onRequest\" xlink:href=\"psysml:9b734dfd-0e44-4ae0-bd37-d0a03d4a12cd\" xlink:show=\"new\" xlink:title=\"psysml:9b734dfd-0e44-4ae0-bd37-d0a03d4a12cd\" xlink:type=\"simple\"><rect fill=\"#FFFFFF\" height=\"229\" id=\"E7\" rx=\"10\" ry=\"10\" style=\"stroke: #383838; stroke-width: 1.5;\" width=\"194\" x=\"40\" y=\"49\"/><rect fill=\"#F8F8F8\" height=\"23.9688\" rx=\"10\" ry=\"10\" style=\"stroke: #F8F8F8; stroke-width: 1.5;\" width=\"194\" x=\"40\" y=\"49\"/><rect fill=\"#F8F8F8\" height=\"10\" style=\"stroke: #F8F8F8; stroke-width: 1.5;\" width=\"194\" x=\"40\" y=\"62.9688\"/><rect fill=\"none\" height=\"229\" id=\"E7\" rx=\"10\" ry=\"10\" style=\"stroke: #383838; stroke-width: 1.5;\" width=\"194\" x=\"40\" y=\"49\"/><text fill=\"#000000\" font-family=\"sans-serif\" font-size=\"12\" lengthAdjust=\"spacingAndGlyphs\" textLength=\"8\" x=\"133\" y=\"65.1387\">q</text><line style=\"stroke: #383838; stroke-width: 1.0;\" x1=\"40\" x2=\"234\" y1=\"72.9688\" y2=\"72.9688\"/></a><!--MD5=[55dfccfc6c49c2d10cd1bd2211a6c90c]\n",
       "cluster E8--><a href=\"psysml:5a1cae69-7149-47dc-88a9-208fdbfbba4b\" target=\"_top\" title=\"psysml:5a1cae69-7149-47dc-88a9-208fdbfbba4b\" xlink:actuate=\"onRequest\" xlink:href=\"psysml:5a1cae69-7149-47dc-88a9-208fdbfbba4b\" xlink:show=\"new\" xlink:title=\"psysml:5a1cae69-7149-47dc-88a9-208fdbfbba4b\" xlink:type=\"simple\"><rect fill=\"#FFFFFF\" height=\"146\" id=\"E8\" rx=\"10\" ry=\"10\" style=\"stroke: #383838; stroke-width: 1.5;\" width=\"130\" x=\"72\" y=\"100\"/><rect fill=\"#F8F8F8\" height=\"37.9375\" rx=\"10\" ry=\"10\" style=\"stroke: #F8F8F8; stroke-width: 1.5;\" width=\"130\" x=\"72\" y=\"100\"/><rect fill=\"#F8F8F8\" height=\"10\" style=\"stroke: #F8F8F8; stroke-width: 1.5;\" width=\"130\" x=\"72\" y=\"127.9375\"/><rect fill=\"none\" height=\"146\" id=\"E8\" rx=\"10\" ry=\"10\" style=\"stroke: #383838; stroke-width: 1.5;\" width=\"130\" x=\"72\" y=\"100\"/><text fill=\"#000000\" font-family=\"sans-serif\" font-size=\"12\" font-style=\"italic\" lengthAdjust=\"spacingAndGlyphs\" textLength=\"91\" x=\"91.5\" y=\"116.1387\">«requirement»</text><text fill=\"#000000\" font-family=\"sans-serif\" font-size=\"12\" lengthAdjust=\"spacingAndGlyphs\" textLength=\"21\" x=\"126.5\" y=\"130.1074\">r: R</text><line style=\"stroke: #383838; stroke-width: 1.0;\" x1=\"72\" x2=\"202\" y1=\"137.9375\" y2=\"137.9375\"/></a><g id=\"E1.E2\"><a href=\"psysml:c5fd5931-ea17-4576-af97-a79679b06835\" target=\"_top\" title=\"psysml:c5fd5931-ea17-4576-af97-a79679b06835\" xlink:actuate=\"onRequest\" xlink:href=\"psysml:c5fd5931-ea17-4576-af97-a79679b06835\" xlink:show=\"new\" xlink:title=\"psysml:c5fd5931-ea17-4576-af97-a79679b06835\" xlink:type=\"simple\"><rect fill=\"#FFFFFF\" height=\"42.9375\" id=\"E2\" style=\"stroke: #383838; stroke-width: 1.5;\" width=\"109\" x=\"82.5\" y=\"294.5\"/><rect fill=\"#F8F8F8\" height=\"37.9375\" style=\"stroke: #383838; stroke-width: 1.5;\" width=\"109\" x=\"82.5\" y=\"294.5\"/><text fill=\"#000000\" font-family=\"sans-serif\" font-size=\"12\" font-style=\"italic\" lengthAdjust=\"spacingAndGlyphs\" textLength=\"102\" x=\"86\" y=\"310.6387\">«constraint def»</text><text fill=\"#000000\" font-family=\"sans-serif\" font-size=\"12\" lengthAdjust=\"spacingAndGlyphs\" textLength=\"8\" x=\"133\" y=\"324.6074\">C</text></a></g><g id=\"E1.E4\"><a href=\"psysml:aa32b181-0a7a-45c2-8d8e-c84b0489ed31\" target=\"_top\" title=\"psysml:aa32b181-0a7a-45c2-8d8e-c84b0489ed31\" xlink:actuate=\"onRequest\" xlink:href=\"psysml:aa32b181-0a7a-45c2-8d8e-c84b0489ed31\" xlink:show=\"new\" xlink:title=\"psysml:aa32b181-0a7a-45c2-8d8e-c84b0489ed31\" xlink:type=\"simple\"><rect fill=\"#FFFFFF\" height=\"42.9375\" id=\"E4\" style=\"stroke: #383838; stroke-width: 1.5;\" width=\"122\" x=\"76\" y=\"372.5\"/><rect fill=\"#F8F8F8\" height=\"37.9375\" style=\"stroke: #383838; stroke-width: 1.5;\" width=\"122\" x=\"76\" y=\"372.5\"/><text fill=\"#000000\" font-family=\"sans-serif\" font-size=\"12\" font-style=\"italic\" lengthAdjust=\"spacingAndGlyphs\" textLength=\"115\" x=\"79.5\" y=\"388.6387\">«requirement def»</text><text fill=\"#000000\" font-family=\"sans-serif\" font-size=\"12\" lengthAdjust=\"spacingAndGlyphs\" textLength=\"8\" x=\"133\" y=\"402.6074\">R</text></a></g><g id=\"E1.E5\"><a href=\"psysml:5b4d3eaf-f72e-4f96-998b-f4a0a57df239\" target=\"_top\" title=\"psysml:5b4d3eaf-f72e-4f96-998b-f4a0a57df239\" xlink:actuate=\"onRequest\" xlink:href=\"psysml:5b4d3eaf-f72e-4f96-998b-f4a0a57df239\" xlink:show=\"new\" xlink:title=\"psysml:5b4d3eaf-f72e-4f96-998b-f4a0a57df239\" xlink:type=\"simple\"><rect fill=\"#FFFFFF\" height=\"42.9375\" id=\"E5\" style=\"stroke: #383838; stroke-width: 1.5;\" width=\"122\" x=\"76\" y=\"450.5\"/><rect fill=\"#F8F8F8\" height=\"37.9375\" style=\"stroke: #383838; stroke-width: 1.5;\" width=\"122\" x=\"76\" y=\"450.5\"/><text fill=\"#000000\" font-family=\"sans-serif\" font-size=\"12\" font-style=\"italic\" lengthAdjust=\"spacingAndGlyphs\" textLength=\"115\" x=\"79.5\" y=\"466.6387\">«requirement def»</text><text fill=\"#000000\" font-family=\"sans-serif\" font-size=\"12\" lengthAdjust=\"spacingAndGlyphs\" textLength=\"16\" x=\"129\" y=\"480.6074\">R1</text></a></g><g id=\"E1.E3\"><a href=\"psysml:23e87db0-b26a-4449-ad29-18415d83eb38\" target=\"_top\" title=\"psysml:23e87db0-b26a-4449-ad29-18415d83eb38\" xlink:actuate=\"onRequest\" xlink:href=\"psysml:23e87db0-b26a-4449-ad29-18415d83eb38\" xlink:show=\"new\" xlink:title=\"psysml:23e87db0-b26a-4449-ad29-18415d83eb38\" xlink:type=\"simple\"><rect fill=\"#FFFFFF\" height=\"42.9375\" id=\"E3\" rx=\"10\" ry=\"10\" style=\"stroke: #383838; stroke-width: 1.5;\" width=\"85\" x=\"94.5\" y=\"528.5\"/><rect fill=\"#F8F8F8\" height=\"37.9375\" rx=\"10\" ry=\"10\" style=\"stroke: #F8F8F8; stroke-width: 1.5;\" width=\"85\" x=\"94.5\" y=\"528.5\"/><rect fill=\"#F8F8F8\" height=\"10\" style=\"stroke: #F8F8F8; stroke-width: 1.5;\" width=\"85\" x=\"94.5\" y=\"556.4375\"/><rect fill=\"none\" height=\"42.9375\" id=\"E3\" rx=\"10\" ry=\"10\" style=\"stroke: #383838; stroke-width: 1.5;\" width=\"85\" x=\"94.5\" y=\"528.5\"/><text fill=\"#000000\" font-family=\"sans-serif\" font-size=\"12\" font-style=\"italic\" lengthAdjust=\"spacingAndGlyphs\" textLength=\"78\" x=\"98\" y=\"544.6387\">«constraint»</text><text fill=\"#000000\" font-family=\"sans-serif\" font-size=\"12\" lengthAdjust=\"spacingAndGlyphs\" textLength=\"23\" x=\"125.5\" y=\"558.6074\">c: C</text></a></g><g id=\"E1.E6\"><a href=\"psysml:8fb932f6-fc92-43ad-aa0e-8cfa7b71c9b3\" target=\"_top\" title=\"psysml:8fb932f6-fc92-43ad-aa0e-8cfa7b71c9b3\" xlink:actuate=\"onRequest\" xlink:href=\"psysml:8fb932f6-fc92-43ad-aa0e-8cfa7b71c9b3\" xlink:show=\"new\" xlink:title=\"psysml:8fb932f6-fc92-43ad-aa0e-8cfa7b71c9b3\" xlink:type=\"simple\"><rect fill=\"#FFFFFF\" height=\"40\" id=\"E6\" rx=\"10\" ry=\"10\" style=\"stroke: #383838; stroke-width: 1.5;\" width=\"50\" x=\"317\" y=\"218\"/><rect fill=\"#F8F8F8\" height=\"23.9688\" rx=\"10\" ry=\"10\" style=\"stroke: #F8F8F8; stroke-width: 1.5;\" width=\"50\" x=\"317\" y=\"218\"/><rect fill=\"#F8F8F8\" height=\"10\" style=\"stroke: #F8F8F8; stroke-width: 1.5;\" width=\"50\" x=\"317\" y=\"231.9688\"/><rect fill=\"none\" height=\"40\" id=\"E6\" rx=\"10\" ry=\"10\" style=\"stroke: #383838; stroke-width: 1.5;\" width=\"50\" x=\"317\" y=\"218\"/><text fill=\"#000000\" font-family=\"sans-serif\" font-size=\"12\" lengthAdjust=\"spacingAndGlyphs\" textLength=\"8\" x=\"338\" y=\"234.1387\">p</text></a></g><g id=\"E1.E7.E8.E9\"><a href=\"psysml:ebf9f55c-b0ce-46a7-820d-0de32b7e0555\" target=\"_top\" title=\"psysml:ebf9f55c-b0ce-46a7-820d-0de32b7e0555\" xlink:actuate=\"onRequest\" xlink:href=\"psysml:ebf9f55c-b0ce-46a7-820d-0de32b7e0555\" xlink:show=\"new\" xlink:title=\"psysml:ebf9f55c-b0ce-46a7-820d-0de32b7e0555\" xlink:type=\"simple\"><rect fill=\"#FFFFFF\" height=\"42.9375\" id=\"E9\" rx=\"10\" ry=\"10\" style=\"stroke: #383838; stroke-width: 1.5;\" width=\"82\" x=\"96\" y=\"159.5\"/><rect fill=\"#F8F8F8\" height=\"37.9375\" rx=\"10\" ry=\"10\" style=\"stroke: #F8F8F8; stroke-width: 1.5;\" width=\"82\" x=\"96\" y=\"159.5\"/><rect fill=\"#F8F8F8\" height=\"10\" style=\"stroke: #F8F8F8; stroke-width: 1.5;\" width=\"82\" x=\"96\" y=\"187.4375\"/><rect fill=\"none\" height=\"42.9375\" id=\"E9\" rx=\"10\" ry=\"10\" style=\"stroke: #383838; stroke-width: 1.5;\" width=\"82\" x=\"96\" y=\"159.5\"/><text fill=\"#000000\" font-family=\"sans-serif\" font-size=\"12\" font-style=\"italic\" lengthAdjust=\"spacingAndGlyphs\" textLength=\"75\" x=\"99.5\" y=\"175.6387\">«reference»</text><text fill=\"#000000\" font-family=\"sans-serif\" font-size=\"12\" lengthAdjust=\"spacingAndGlyphs\" textLength=\"26\" x=\"124\" y=\"189.6074\">subj</text></a></g><!--MD5=[c5e8897d989ce984f93528998a7150fe]\n",
       "link E8 to E6--><a href=\"psysml:69852053-465c-4b3e-807c-2facd65a229c\" target=\"_top\" title=\"psysml:69852053-465c-4b3e-807c-2facd65a229c\" xlink:actuate=\"onRequest\" xlink:href=\"psysml:69852053-465c-4b3e-807c-2facd65a229c\" xlink:show=\"new\" xlink:title=\"psysml:69852053-465c-4b3e-807c-2facd65a229c\" xlink:type=\"simple\"><path d=\"M202.6557,238 C203.7651,238 204.8814,238 206.0038,238 C241.92,238 284.14,238 311.68,238 \" fill=\"none\" id=\"E8-&gt;E6\" style=\"stroke: #383838; stroke-width: 1.0; stroke-dasharray: 7.0,7.0;\"/><polygon fill=\"#383838\" points=\"316.82,238,307.82,234,311.82,238,307.82,242,316.82,238\" style=\"stroke: #383838; stroke-width: 1.0;\"/><text fill=\"#000000\" font-family=\"sans-serif\" font-size=\"13\" lengthAdjust=\"spacingAndGlyphs\" textLength=\"57\" x=\"251\" y=\"234.0669\">«satisfy»</text></a><!--MD5=[6cdc228c155da8c1fa34769efe5c49e1]\n",
       "@startuml\r\n",
       "skinparam ranksep 8\r\n",
       "skinparam rectangle {\r\n",
       " backgroundColor<<block>> LightGreen\r\n",
       "}\r\n",
       "left to right direction\r\n",
       "skinparam monochrome true\r\n",
       "skinparam classbackgroundcolor white\r\n",
       "skinparam shadowing false\r\n",
       "skinparam wrapWidth 300\r\n",
       "hide circle\r\n",
       "\r\n",
       "package \"RequirementTest\" as E1  [[psysml:7a32e4ca-d886-48d1-a22e-a4337a6af1e2 ]]  {\r\n",
       "def \"C\" as E2  <<(T,blue)constraint def>> [[psysml:c5fd5931-ea17-4576-af97-a79679b06835 ]] \r\n",
       "rec usage \"c: C\" as E3  <<(T,blue)constraint>> [[psysml:23e87db0-b26a-4449-ad29-18415d83eb38 ]] {\r\n",
       "}\r\n",
       "def \"R\" as E4  <<(T,blue)requirement def>> [[psysml:aa32b181-0a7a-45c2-8d8e-c84b0489ed31 ]] \r\n",
       "def \"R1\" as E5  <<(T,blue)requirement def>> [[psysml:5b4d3eaf-f72e-4f96-998b-f4a0a57df239 ]] \r\n",
       "rec usage \"p\" as E6  [[psysml:8fb932f6-fc92-43ad-aa0e-8cfa7b71c9b3 ]] {\r\n",
       "}\r\n",
       "rec usage \"q\" as E7  [[psysml:9b734dfd-0e44-4ae0-bd37-d0a03d4a12cd ]] {\r\n",
       "rec usage \"r: R\" as E8  <<(T,blue)requirement>> [[psysml:5a1cae69-7149-47dc-88a9-208fdbfbba4b ]] {\r\n",
       "rec usage \"subj\" as E9  <<(T,blue)reference>> [[psysml:ebf9f55c-b0ce-46a7-820d-0de32b7e0555 ]] {\r\n",
       "}\r\n",
       "}\r\n",
       "}\r\n",
       "E8 ..> E6 [[psysml:69852053-465c-4b3e-807c-2facd65a229c ]] : <<satisfy>>\r\n",
       "}\r\n",
       "@enduml\r\n",
       "\n",
       "PlantUML version 1.2020.13(Sat Jun 13 12:26:38 UTC 2020)\n",
       "(EPL source distribution)\n",
       "Java Runtime: OpenJDK Runtime Environment\n",
       "JVM: OpenJDK 64-Bit Server VM\n",
       "Default Encoding: UTF-8\n",
       "Language: en\n",
       "Country: null\n",
       "--></g></svg>"
      ]
     },
     "execution_count": 19,
     "metadata": {},
     "output_type": "execute_result"
    }
   ],
   "source": [
    "%viz --style=\"LR\" --view=\"Interconnection\" \"RequirementTest\""
   ]
  },
  {
   "cell_type": "code",
   "execution_count": 20,
   "id": "several-sustainability",
   "metadata": {
    "execution": {
     "iopub.execute_input": "2021-03-25T09:27:00.867804Z",
     "iopub.status.busy": "2021-03-25T09:27:00.867338Z",
     "iopub.status.idle": "2021-03-25T09:27:00.875039Z",
     "shell.execute_reply": "2021-03-25T09:27:00.874671Z"
    }
   },
   "outputs": [
    {
     "data": {
      "image/svg+xml": [
       "<?xml version=\"1.0\" encoding=\"UTF-8\" standalone=\"no\"?><svg xmlns=\"http://www.w3.org/2000/svg\" xmlns:xlink=\"http://www.w3.org/1999/xlink\" contentScriptType=\"application/ecmascript\" contentStyleType=\"text/css\" height=\"12px\" preserveAspectRatio=\"none\" style=\"width:12px;height:12px;\" version=\"1.1\" viewBox=\"0 0 12 12\" width=\"12px\" zoomAndPan=\"magnify\"><defs/><g><!--MD5=[7aeb398939421629f6affaa4a1a7b125]\n",
       "@startuml\r\n",
       "skinparam ranksep 8\r\n",
       "left to right direction\r\n",
       "skinparam monochrome true\r\n",
       "skinparam classbackgroundcolor white\r\n",
       "skinparam shadowing false\r\n",
       "skinparam wrapWidth 300\r\n",
       "hide circle\r\n",
       "\r\n",
       "@enduml\r\n",
       "\n",
       "PlantUML version 1.2020.13(Sat Jun 13 12:26:38 UTC 2020)\n",
       "(EPL source distribution)\n",
       "Java Runtime: OpenJDK Runtime Environment\n",
       "JVM: OpenJDK 64-Bit Server VM\n",
       "Default Encoding: UTF-8\n",
       "Language: en\n",
       "Country: null\n",
       "--></g></svg>"
      ]
     },
     "execution_count": 20,
     "metadata": {},
     "output_type": "execute_result"
    }
   ],
   "source": [
    "%viz --style=\"LR\" --view=\"Action\" \"RequirementTest\""
   ]
  },
  {
   "cell_type": "code",
   "execution_count": 21,
   "id": "arbitrary-invention",
   "metadata": {
    "execution": {
     "iopub.execute_input": "2021-03-25T09:27:00.926681Z",
     "iopub.status.busy": "2021-03-25T09:27:00.926182Z",
     "iopub.status.idle": "2021-03-25T09:27:01.777541Z",
     "shell.execute_reply": "2021-03-25T09:27:01.776045Z"
    }
   },
   "outputs": [
    {
     "data": {
      "image/svg+xml": [
       "<?xml version=\"1.0\" encoding=\"UTF-8\" standalone=\"no\"?><svg xmlns=\"http://www.w3.org/2000/svg\" xmlns:xlink=\"http://www.w3.org/1999/xlink\" contentScriptType=\"application/ecmascript\" contentStyleType=\"text/css\" height=\"319px\" preserveAspectRatio=\"none\" style=\"width:794px;height:319px;\" version=\"1.1\" viewBox=\"0 0 794 319\" width=\"794px\" zoomAndPan=\"magnify\"><defs/><g><!--MD5=[fbc87193dbaf4d95561dea2c320d4a47]\n",
       "cluster E1--><a href=\"psysml:7a32e4ca-d886-48d1-a22e-a4337a6af1e2\" target=\"_top\" title=\"psysml:7a32e4ca-d886-48d1-a22e-a4337a6af1e2\" xlink:actuate=\"onRequest\" xlink:href=\"psysml:7a32e4ca-d886-48d1-a22e-a4337a6af1e2\" xlink:show=\"new\" xlink:title=\"psysml:7a32e4ca-d886-48d1-a22e-a4337a6af1e2\" xlink:type=\"simple\"><polygon fill=\"#FFFFFF\" points=\"16,6,158,6,165,28.2969,772,28.2969,772,307,16,307,16,6\" style=\"stroke: #000000; stroke-width: 1.5;\"/><line style=\"stroke: #000000; stroke-width: 1.5;\" x1=\"16\" x2=\"165\" y1=\"28.2969\" y2=\"28.2969\"/><text fill=\"#000000\" font-family=\"sans-serif\" font-size=\"14\" font-weight=\"bold\" lengthAdjust=\"spacingAndGlyphs\" textLength=\"136\" x=\"20\" y=\"20.9951\">RequirementTest</text></a><!--MD5=[b4997ac47864f28c2f74865a473b2911]\n",
       "class E2--><a href=\"psysml:c5fd5931-ea17-4576-af97-a79679b06835\" target=\"_top\" title=\"psysml:c5fd5931-ea17-4576-af97-a79679b06835\" xlink:actuate=\"onRequest\" xlink:href=\"psysml:c5fd5931-ea17-4576-af97-a79679b06835\" xlink:show=\"new\" xlink:title=\"psysml:c5fd5931-ea17-4576-af97-a79679b06835\" xlink:type=\"simple\"><rect fill=\"#FFFFFF\" height=\"45.9375\" id=\"E2\" style=\"stroke: #383838; stroke-width: 1.5;\" width=\"104\" x=\"238\" y=\"41\"/><text fill=\"#000000\" font-family=\"sans-serif\" font-size=\"12\" font-style=\"italic\" lengthAdjust=\"spacingAndGlyphs\" textLength=\"102\" x=\"239\" y=\"57.1387\">«constraint def»</text><text fill=\"#000000\" font-family=\"sans-serif\" font-size=\"12\" lengthAdjust=\"spacingAndGlyphs\" textLength=\"8\" x=\"286\" y=\"71.1074\">C</text><line style=\"stroke: #383838; stroke-width: 1.5;\" x1=\"239\" x2=\"341\" y1=\"78.9375\" y2=\"78.9375\"/></a><!--MD5=[09b614a08d8cba4a07c9adeb5e0fee81]\n",
       "class E3--><a href=\"psysml:23e87db0-b26a-4449-ad29-18415d83eb38\" target=\"_top\" title=\"psysml:23e87db0-b26a-4449-ad29-18415d83eb38\" xlink:actuate=\"onRequest\" xlink:href=\"psysml:23e87db0-b26a-4449-ad29-18415d83eb38\" xlink:show=\"new\" xlink:title=\"psysml:23e87db0-b26a-4449-ad29-18415d83eb38\" xlink:type=\"simple\"><rect fill=\"#FFFFFF\" height=\"45.9375\" id=\"E3\" rx=\"10\" ry=\"10\" style=\"stroke: #383838; stroke-width: 1.5;\" width=\"80\" x=\"64.5\" y=\"41\"/><text fill=\"#000000\" font-family=\"sans-serif\" font-size=\"12\" font-style=\"italic\" lengthAdjust=\"spacingAndGlyphs\" textLength=\"78\" x=\"65.5\" y=\"57.1387\">«constraint»</text><text fill=\"#000000\" font-family=\"sans-serif\" font-size=\"12\" lengthAdjust=\"spacingAndGlyphs\" textLength=\"23\" x=\"93\" y=\"71.1074\">c: C</text><line style=\"stroke: #383838; stroke-width: 1.5;\" x1=\"65.5\" x2=\"143.5\" y1=\"78.9375\" y2=\"78.9375\"/></a><!--MD5=[ebbe1d658d1005bcc118a6aa81145e00]\n",
       "class E4--><a href=\"psysml:aa32b181-0a7a-45c2-8d8e-c84b0489ed31\" target=\"_top\" title=\"psysml:aa32b181-0a7a-45c2-8d8e-c84b0489ed31\" xlink:actuate=\"onRequest\" xlink:href=\"psysml:aa32b181-0a7a-45c2-8d8e-c84b0489ed31\" xlink:show=\"new\" xlink:title=\"psysml:aa32b181-0a7a-45c2-8d8e-c84b0489ed31\" xlink:type=\"simple\"><rect fill=\"#FFFFFF\" height=\"109.1563\" id=\"E4\" style=\"stroke: #383838; stroke-width: 1.5;\" width=\"117\" x=\"461\" y=\"181.5\"/><text fill=\"#000000\" font-family=\"sans-serif\" font-size=\"12\" font-style=\"italic\" lengthAdjust=\"spacingAndGlyphs\" textLength=\"115\" x=\"462\" y=\"197.6387\">«requirement def»</text><text fill=\"#000000\" font-family=\"sans-serif\" font-size=\"12\" lengthAdjust=\"spacingAndGlyphs\" textLength=\"8\" x=\"515.5\" y=\"211.6074\">R</text><line style=\"stroke: #383838; stroke-width: 1.5;\" x1=\"462\" x2=\"577\" y1=\"219.4375\" y2=\"219.4375\"/><text fill=\"#000000\" font-family=\"sans-serif\" font-size=\"11\" lengthAdjust=\"spacingAndGlyphs\" textLength=\"0\" x=\"471\" y=\"233.6479\"/><line style=\"stroke: #383838; stroke-width: 1.0;\" x1=\"462\" x2=\"577\" y1=\"240.2422\" y2=\"240.2422\"/><text fill=\"#000000\" font-family=\"sans-serif\" font-size=\"11\" font-weight=\"bold\" lengthAdjust=\"spacingAndGlyphs\" textLength=\"46\" x=\"467\" y=\"271.2573\">require</text><text fill=\"#000000\" font-family=\"sans-serif\" font-size=\"11\" lengthAdjust=\"spacingAndGlyphs\" textLength=\"6\" x=\"517\" y=\"271.2573\">c</text><text fill=\"#000000\" font-family=\"sans-serif\" font-size=\"11\" font-style=\"italic\" lengthAdjust=\"spacingAndGlyphs\" textLength=\"46\" x=\"467\" y=\"284.062\">assume</text><text fill=\"#000000\" font-family=\"sans-serif\" font-size=\"11\" lengthAdjust=\"spacingAndGlyphs\" textLength=\"29\" x=\"517\" y=\"284.062\">c1: C</text><line style=\"stroke: #383838; stroke-width: 1.0;\" x1=\"462\" x2=\"487.5\" y1=\"254.6445\" y2=\"254.6445\"/><text fill=\"#000000\" font-family=\"sans-serif\" font-size=\"11\" lengthAdjust=\"spacingAndGlyphs\" textLength=\"64\" x=\"487.5\" y=\"257.9526\">constraints</text><line style=\"stroke: #383838; stroke-width: 1.0;\" x1=\"551.5\" x2=\"577\" y1=\"254.6445\" y2=\"254.6445\"/></a><!--MD5=[270fce915f116d4de14055a7c1d9a0f3]\n",
       "class E5--><a href=\"psysml:c7a4f64d-f76e-4f11-bab9-561a5696e580\" target=\"_top\" title=\"psysml:c7a4f64d-f76e-4f11-bab9-561a5696e580\" xlink:actuate=\"onRequest\" xlink:href=\"psysml:c7a4f64d-f76e-4f11-bab9-561a5696e580\" xlink:show=\"new\" xlink:title=\"psysml:c7a4f64d-f76e-4f11-bab9-561a5696e580\" xlink:type=\"simple\"><rect fill=\"#FFFFFF\" height=\"66.7422\" id=\"E5\" style=\"stroke: #383838; stroke-width: 1.5;\" width=\"117\" x=\"639\" y=\"216.5\"/><text fill=\"#000000\" font-family=\"sans-serif\" font-size=\"12\" font-style=\"italic\" lengthAdjust=\"spacingAndGlyphs\" textLength=\"115\" x=\"640\" y=\"232.6387\">«requirement def»</text><text fill=\"#000000\" font-family=\"sans-serif\" font-size=\"12\" lengthAdjust=\"spacingAndGlyphs\" textLength=\"5\" x=\"684.5\" y=\"246.6074\">[</text><text fill=\"#000000\" font-family=\"sans-serif\" font-size=\"12\" font-weight=\"bold\" lengthAdjust=\"spacingAndGlyphs\" textLength=\"8\" x=\"689.5\" y=\"246.6074\">1</text><text fill=\"#000000\" font-family=\"sans-serif\" font-size=\"12\" lengthAdjust=\"spacingAndGlyphs\" textLength=\"17\" x=\"697.5\" y=\"246.6074\">] A</text><line style=\"stroke: #383838; stroke-width: 1.5;\" x1=\"640\" x2=\"755\" y1=\"254.4375\" y2=\"254.4375\"/><text fill=\"#000000\" font-family=\"sans-serif\" font-size=\"11\" lengthAdjust=\"spacingAndGlyphs\" textLength=\"24\" x=\"645\" y=\"268.6479\">Text</text><line style=\"stroke: #383838; stroke-width: 1.0;\" x1=\"640\" x2=\"755\" y1=\"275.2422\" y2=\"275.2422\"/></a><!--MD5=[b9389687b975829384b498ac4b7476b2]\n",
       "class E8--><a href=\"psysml:165156c7-6d13-47e8-9214-4efd9fbee902\" target=\"_top\" title=\"psysml:165156c7-6d13-47e8-9214-4efd9fbee902\" xlink:actuate=\"onRequest\" xlink:href=\"psysml:165156c7-6d13-47e8-9214-4efd9fbee902\" xlink:show=\"new\" xlink:title=\"psysml:165156c7-6d13-47e8-9214-4efd9fbee902\" xlink:type=\"simple\"><rect fill=\"#FFFFFF\" height=\"45.9375\" id=\"E8\" rx=\"10\" ry=\"10\" style=\"stroke: #383838; stroke-width: 1.5;\" width=\"93\" x=\"651\" y=\"135\"/><text fill=\"#000000\" font-family=\"sans-serif\" font-size=\"12\" font-style=\"italic\" lengthAdjust=\"spacingAndGlyphs\" textLength=\"91\" x=\"652\" y=\"151.1387\">«requirement»</text><text fill=\"#000000\" font-family=\"sans-serif\" font-size=\"12\" lengthAdjust=\"spacingAndGlyphs\" text-decoration=\"line-through\" textLength=\"51\" x=\"672\" y=\"165.1074\">noname</text><line style=\"stroke: #383838; stroke-width: 1.5;\" x1=\"652\" x2=\"743\" y1=\"172.9375\" y2=\"172.9375\"/></a><!--MD5=[fd4143e9d270a159db93a4ea2a975926]\n",
       "class E9--><a href=\"psysml:5b4d3eaf-f72e-4f96-998b-f4a0a57df239\" target=\"_top\" title=\"psysml:5b4d3eaf-f72e-4f96-998b-f4a0a57df239\" xlink:actuate=\"onRequest\" xlink:href=\"psysml:5b4d3eaf-f72e-4f96-998b-f4a0a57df239\" xlink:show=\"new\" xlink:title=\"psysml:5b4d3eaf-f72e-4f96-998b-f4a0a57df239\" xlink:type=\"simple\"><rect fill=\"#FFFFFF\" height=\"88.3516\" id=\"E9\" style=\"stroke: #383838; stroke-width: 1.5;\" width=\"145\" x=\"32\" y=\"122\"/><text fill=\"#000000\" font-family=\"sans-serif\" font-size=\"12\" font-style=\"italic\" lengthAdjust=\"spacingAndGlyphs\" textLength=\"115\" x=\"47\" y=\"138.1387\">«requirement def»</text><text fill=\"#000000\" font-family=\"sans-serif\" font-size=\"12\" lengthAdjust=\"spacingAndGlyphs\" textLength=\"16\" x=\"96.5\" y=\"152.1074\">R1</text><line style=\"stroke: #383838; stroke-width: 1.5;\" x1=\"33\" x2=\"176\" y1=\"159.9375\" y2=\"159.9375\"/><text fill=\"#000000\" font-family=\"sans-serif\" font-size=\"11\" font-weight=\"bold\" lengthAdjust=\"spacingAndGlyphs\" textLength=\"46\" x=\"38\" y=\"190.9526\">require</text><text fill=\"#000000\" font-family=\"sans-serif\" font-size=\"11\" lengthAdjust=\"spacingAndGlyphs\" textLength=\"13\" x=\"88\" y=\"190.9526\">c1</text><text fill=\"#000000\" font-family=\"sans-serif\" font-size=\"11\" font-style=\"italic\" lengthAdjust=\"spacingAndGlyphs\" textLength=\"133\" x=\"38\" y=\"203.7573\">:&gt;&gt;RequirementTest::c</text><line style=\"stroke: #383838; stroke-width: 1.0;\" x1=\"33\" x2=\"72.5\" y1=\"174.3398\" y2=\"174.3398\"/><text fill=\"#000000\" font-family=\"sans-serif\" font-size=\"11\" lengthAdjust=\"spacingAndGlyphs\" textLength=\"64\" x=\"72.5\" y=\"177.6479\">constraints</text><line style=\"stroke: #383838; stroke-width: 1.0;\" x1=\"136.5\" x2=\"176\" y1=\"174.3398\" y2=\"174.3398\"/></a><!--MD5=[1dd1bfd58a279cf63c5f349dbc8fc6a1]\n",
       "class E11--><a href=\"psysml:8fb932f6-fc92-43ad-aa0e-8cfa7b71c9b3\" target=\"_top\" title=\"psysml:8fb932f6-fc92-43ad-aa0e-8cfa7b71c9b3\" xlink:actuate=\"onRequest\" xlink:href=\"psysml:8fb932f6-fc92-43ad-aa0e-8cfa7b71c9b3\" xlink:show=\"new\" xlink:title=\"psysml:8fb932f6-fc92-43ad-aa0e-8cfa7b71c9b3\" xlink:type=\"simple\"><rect fill=\"#FFFFFF\" height=\"45.9375\" id=\"E11\" rx=\"10\" ry=\"10\" style=\"stroke: #383838; stroke-width: 1.5;\" width=\"42\" x=\"498.5\" y=\"100\"/><text fill=\"#000000\" font-family=\"sans-serif\" font-size=\"12\" font-style=\"italic\" lengthAdjust=\"spacingAndGlyphs\" textLength=\"40\" x=\"499.5\" y=\"116.1387\">«part»</text><text fill=\"#000000\" font-family=\"sans-serif\" font-size=\"12\" lengthAdjust=\"spacingAndGlyphs\" textLength=\"8\" x=\"515.5\" y=\"130.1074\">p</text><line style=\"stroke: #383838; stroke-width: 1.5;\" x1=\"499.5\" x2=\"539.5\" y1=\"137.9375\" y2=\"137.9375\"/></a><!--MD5=[49a0ec8f00dab7302a31f22d0f0fe584]\n",
       "class E12--><a href=\"psysml:9b734dfd-0e44-4ae0-bd37-d0a03d4a12cd\" target=\"_top\" title=\"psysml:9b734dfd-0e44-4ae0-bd37-d0a03d4a12cd\" xlink:actuate=\"onRequest\" xlink:href=\"psysml:9b734dfd-0e44-4ae0-bd37-d0a03d4a12cd\" xlink:show=\"new\" xlink:title=\"psysml:9b734dfd-0e44-4ae0-bd37-d0a03d4a12cd\" xlink:type=\"simple\"><rect fill=\"#FFFFFF\" height=\"45.9375\" id=\"E12\" rx=\"10\" ry=\"10\" style=\"stroke: #383838; stroke-width: 1.5;\" width=\"42\" x=\"83.5\" y=\"245\"/><text fill=\"#000000\" font-family=\"sans-serif\" font-size=\"12\" font-style=\"italic\" lengthAdjust=\"spacingAndGlyphs\" textLength=\"40\" x=\"84.5\" y=\"261.1387\">«part»</text><text fill=\"#000000\" font-family=\"sans-serif\" font-size=\"12\" lengthAdjust=\"spacingAndGlyphs\" textLength=\"8\" x=\"100.5\" y=\"275.1074\">q</text><line style=\"stroke: #383838; stroke-width: 1.5;\" x1=\"84.5\" x2=\"124.5\" y1=\"282.9375\" y2=\"282.9375\"/></a><!--MD5=[ee3c913d1a06f366521f9ef512b67efe]\n",
       "class E13--><a href=\"psysml:5a1cae69-7149-47dc-88a9-208fdbfbba4b\" target=\"_top\" title=\"psysml:5a1cae69-7149-47dc-88a9-208fdbfbba4b\" xlink:actuate=\"onRequest\" xlink:href=\"psysml:5a1cae69-7149-47dc-88a9-208fdbfbba4b\" xlink:show=\"new\" xlink:title=\"psysml:5a1cae69-7149-47dc-88a9-208fdbfbba4b\" xlink:type=\"simple\"><rect fill=\"#FFFFFF\" height=\"45.9375\" id=\"E13\" rx=\"10\" ry=\"10\" style=\"stroke: #383838; stroke-width: 1.5;\" width=\"93\" x=\"243.5\" y=\"213\"/><text fill=\"#000000\" font-family=\"sans-serif\" font-size=\"12\" font-style=\"italic\" lengthAdjust=\"spacingAndGlyphs\" textLength=\"91\" x=\"244.5\" y=\"229.1387\">«requirement»</text><text fill=\"#000000\" font-family=\"sans-serif\" font-size=\"12\" lengthAdjust=\"spacingAndGlyphs\" textLength=\"21\" x=\"279.5\" y=\"243.1074\">r: R</text><line style=\"stroke: #383838; stroke-width: 1.5;\" x1=\"244.5\" x2=\"335.5\" y1=\"250.9375\" y2=\"250.9375\"/></a><!--MD5=[05d275557350bfb9b23a4ef7222b4c39]\n",
       "link E3 to E2--><a href=\"psysml:bb92853b-9a42-4685-9891-57f30cbf18f8\" target=\"_top\" title=\"psysml:bb92853b-9a42-4685-9891-57f30cbf18f8\" xlink:actuate=\"onRequest\" xlink:href=\"psysml:bb92853b-9a42-4685-9891-57f30cbf18f8\" xlink:show=\"new\" xlink:title=\"psysml:bb92853b-9a42-4685-9891-57f30cbf18f8\" xlink:type=\"simple\"><path d=\"M144.87,64 C166.09,64 192.94,64 217.7,64 \" fill=\"none\" id=\"E3-&gt;E2\" style=\"stroke: #383838; stroke-width: 1.0;\"/><polygon fill=\"#FFFFFF\" points=\"237.84,64,218.84,71,218.84,57,237.84,64\" style=\"stroke: #383838; stroke-width: 1.0;\"/><ellipse cx=\"213.14\" cy=\"69\" fill=\"#383838\" rx=\"2\" ry=\"2\" style=\"stroke: #383838; stroke-width: 1.0;\"/><ellipse cx=\"213.14\" cy=\"59\" fill=\"#383838\" rx=\"2\" ry=\"2\" style=\"stroke: #383838; stroke-width: 1.0;\"/></a><!--MD5=[62aa6af11e70f752912c1cb0466f24f7]\n",
       "reverse link E4 to E5--><a href=\"psysml:c7a4f64d-f76e-4f11-bab9-561a5696e580\" target=\"_top\" title=\"psysml:c7a4f64d-f76e-4f11-bab9-561a5696e580\" xlink:actuate=\"onRequest\" xlink:href=\"psysml:c7a4f64d-f76e-4f11-bab9-561a5696e580\" xlink:show=\"new\" xlink:title=\"psysml:c7a4f64d-f76e-4f11-bab9-561a5696e580\" xlink:type=\"simple\"><path d=\"M593.54,241.81 C608.62,243.01 624.3,244.26 638.74,245.41 \" fill=\"none\" id=\"E4&lt;-E5\" style=\"stroke: #383838; stroke-width: 1.0;\"/><ellipse cx=\"586.105\" cy=\"241.2122\" fill=\"#FFFFFF\" rx=\"8\" ry=\"8\" style=\"stroke: #383838; stroke-width: 1.0;\"/><line style=\"stroke: #383838; stroke-width: 1.0;\" x1=\"594.08\" x2=\"578.13\" y1=\"241.8444\" y2=\"240.58\"/><line style=\"stroke: #383838; stroke-width: 1.0;\" x1=\"585.4728\" x2=\"586.7372\" y1=\"249.1872\" y2=\"233.2372\"/></a><!--MD5=[c6fc7cdb0cabde04948078cf183fa696]\n",
       "reverse link E4 to E8--><a href=\"psysml:165156c7-6d13-47e8-9214-4efd9fbee902\" target=\"_top\" title=\"psysml:165156c7-6d13-47e8-9214-4efd9fbee902\" xlink:actuate=\"onRequest\" xlink:href=\"psysml:165156c7-6d13-47e8-9214-4efd9fbee902\" xlink:show=\"new\" xlink:title=\"psysml:165156c7-6d13-47e8-9214-4efd9fbee902\" xlink:type=\"simple\"><path d=\"M590.24,205.09 C610.58,196.08 632.28,186.46 650.74,178.28 \" fill=\"none\" id=\"E4&lt;-E8\" style=\"stroke: #383838; stroke-width: 1.0;\"/><polygon fill=\"#383838\" points=\"578.13,210.46,585.2365,211.684,589.0995,205.5949,581.9931,204.3709,578.13,210.46\" style=\"stroke: #383838; stroke-width: 1.0;\"/></a><!--MD5=[062ed86c389d1a88f61c6380d0491e17]\n",
       "reverse link E12 to E13--><a href=\"psysml:5a1cae69-7149-47dc-88a9-208fdbfbba4b\" target=\"_top\" title=\"psysml:5a1cae69-7149-47dc-88a9-208fdbfbba4b\" xlink:actuate=\"onRequest\" xlink:href=\"psysml:5a1cae69-7149-47dc-88a9-208fdbfbba4b\" xlink:show=\"new\" xlink:title=\"psysml:5a1cae69-7149-47dc-88a9-208fdbfbba4b\" xlink:type=\"simple\"><path d=\"M139.02,262.15 C168.28,257.05 211.02,249.6 243.39,243.95 \" fill=\"none\" id=\"E12&lt;-E13\" style=\"stroke: #383838; stroke-width: 1.0;\"/><polygon fill=\"#383838\" points=\"125.84,264.45,132.4403,267.3544,137.6599,262.3789,131.0596,259.4745,125.84,264.45\" style=\"stroke: #383838; stroke-width: 1.0;\"/></a><!--MD5=[017847e01ff9a8bd19f247411074f987]\n",
       "link E13 to E4--><a href=\"psysml:9a693856-e1d7-4623-99b4-c4529bf04054\" target=\"_top\" title=\"psysml:9a693856-e1d7-4623-99b4-c4529bf04054\" xlink:actuate=\"onRequest\" xlink:href=\"psysml:9a693856-e1d7-4623-99b4-c4529bf04054\" xlink:show=\"new\" xlink:title=\"psysml:9a693856-e1d7-4623-99b4-c4529bf04054\" xlink:type=\"simple\"><path d=\"M336.76,236 C366.45,236 405.9,236 440.46,236 \" fill=\"none\" id=\"E13-&gt;E4\" style=\"stroke: #383838; stroke-width: 1.0;\"/><polygon fill=\"#FFFFFF\" points=\"460.67,236,441.67,243,441.67,229,460.67,236\" style=\"stroke: #383838; stroke-width: 1.0;\"/><ellipse cx=\"435.97\" cy=\"241\" fill=\"#383838\" rx=\"2\" ry=\"2\" style=\"stroke: #383838; stroke-width: 1.0;\"/><ellipse cx=\"435.97\" cy=\"231\" fill=\"#383838\" rx=\"2\" ry=\"2\" style=\"stroke: #383838; stroke-width: 1.0;\"/></a><!--MD5=[2cfe899c895462254056921bfb67315f]\n",
       "link E13 to E11--><a href=\"psysml:69852053-465c-4b3e-807c-2facd65a229c\" target=\"_top\" title=\"psysml:69852053-465c-4b3e-807c-2facd65a229c\" xlink:actuate=\"onRequest\" xlink:href=\"psysml:69852053-465c-4b3e-807c-2facd65a229c\" xlink:show=\"new\" xlink:title=\"psysml:69852053-465c-4b3e-807c-2facd65a229c\" xlink:type=\"simple\"><path d=\"M336.76,213.27 C383.95,189.83 455.79,154.15 493.46,135.44 \" fill=\"none\" id=\"E13-&gt;E11\" style=\"stroke: #383838; stroke-width: 1.0; stroke-dasharray: 7.0,7.0;\"/><polygon fill=\"#383838\" points=\"498.32,133.02,488.4797,133.4294,493.8393,135.2389,492.0299,140.5985,498.32,133.02\" style=\"stroke: #383838; stroke-width: 1.0;\"/><text fill=\"#000000\" font-family=\"sans-serif\" font-size=\"13\" lengthAdjust=\"spacingAndGlyphs\" textLength=\"57\" x=\"373\" y=\"166.0669\">«satisfy»</text></a><!--MD5=[4bdff4814a6ef0643ba617ddbdd6bd16]\n",
       "@startuml\r\n",
       "left to right direction\r\n",
       "skinparam monochrome true\r\n",
       "skinparam classbackgroundcolor white\r\n",
       "skinparam shadowing false\r\n",
       "skinparam wrapWidth 300\r\n",
       "hide circle\r\n",
       "\r\n",
       "package \"RequirementTest\" as E1  [[psysml:7a32e4ca-d886-48d1-a22e-a4337a6af1e2 ]]  {\r\n",
       "comp def \"C\" as E2  <<(T,blue)constraint def>> [[psysml:c5fd5931-ea17-4576-af97-a79679b06835 ]] {\r\n",
       "}\r\n",
       "comp usage \"c: C\" as E3  <<(T,blue)constraint>> [[psysml:23e87db0-b26a-4449-ad29-18415d83eb38 ]] {\r\n",
       "}\r\n",
       "comp def \"R\" as E4  <<(T,blue)requirement def>> [[psysml:aa32b181-0a7a-45c2-8d8e-c84b0489ed31 ]] {\r\n",
       "\r\n",
       "- -\r\n",
       "- - constraints - -\r\n",
       "<b>require</b> c\r\n",
       "<i>assume</i> c1: C\r\n",
       "}\r\n",
       "comp def \" [<b>1</b>] A\" as E5  <<(T,blue)requirement def>> [[psysml:c7a4f64d-f76e-4f11-bab9-561a5696e580 ]] {\r\n",
       "Text\r\n",
       "- -\r\n",
       "}\r\n",
       "comp usage \"<s>noname</s>\" as E8  <<(T,blue)requirement>> [[psysml:165156c7-6d13-47e8-9214-4efd9fbee902 ]] {\r\n",
       "}\r\n",
       "comp def \"R1\" as E9  <<(T,blue)requirement def>> [[psysml:5b4d3eaf-f72e-4f96-998b-f4a0a57df239 ]] {\r\n",
       "- - constraints - -\r\n",
       "<b>require</b> c1\\n//:>>RequirementTest::c// \r\n",
       "}\r\n",
       "comp usage \"p\" as E11  <<(T,blue)part>> [[psysml:8fb932f6-fc92-43ad-aa0e-8cfa7b71c9b3 ]] {\r\n",
       "}\r\n",
       "comp usage \"q\" as E12  <<(T,blue)part>> [[psysml:9b734dfd-0e44-4ae0-bd37-d0a03d4a12cd ]] {\r\n",
       "}\r\n",
       "comp usage \"r: R\" as E13  <<(T,blue)requirement>> [[psysml:5a1cae69-7149-47dc-88a9-208fdbfbba4b ]] {\r\n",
       "}\r\n",
       "E3 - -:|> E2 [[psysml:bb92853b-9a42-4685-9891-57f30cbf18f8 ]] \r\n",
       "E4 +- - E5 [[psysml:c7a4f64d-f76e-4f11-bab9-561a5696e580 ]] \r\n",
       "E4 *- - E8 [[psysml:165156c7-6d13-47e8-9214-4efd9fbee902 ]] \r\n",
       "E12 *- - E13 [[psysml:5a1cae69-7149-47dc-88a9-208fdbfbba4b ]] \r\n",
       "E13 - -:|> E4 [[psysml:9a693856-e1d7-4623-99b4-c4529bf04054 ]] \r\n",
       "E13 ..> E11 [[psysml:69852053-465c-4b3e-807c-2facd65a229c ]] : <<satisfy>>\r\n",
       "}\r\n",
       "@enduml\r\n",
       "\n",
       "PlantUML version 1.2020.13(Sat Jun 13 12:26:38 UTC 2020)\n",
       "(EPL source distribution)\n",
       "Java Runtime: OpenJDK Runtime Environment\n",
       "JVM: OpenJDK 64-Bit Server VM\n",
       "Default Encoding: UTF-8\n",
       "Language: en\n",
       "Country: null\n",
       "--></g></svg>"
      ]
     },
     "execution_count": 21,
     "metadata": {},
     "output_type": "execute_result"
    }
   ],
   "source": [
    "%viz --style=\"LR\" --view=\"Sequence\" \"RequirementTest\""
   ]
  },
  {
   "cell_type": "code",
   "execution_count": 22,
   "id": "defined-rendering",
   "metadata": {
    "execution": {
     "iopub.execute_input": "2021-03-25T09:27:01.829525Z",
     "iopub.status.busy": "2021-03-25T09:27:01.828880Z",
     "iopub.status.idle": "2021-03-25T09:27:02.679980Z",
     "shell.execute_reply": "2021-03-25T09:27:02.678467Z"
    }
   },
   "outputs": [
    {
     "data": {
      "image/svg+xml": [
       "<?xml version=\"1.0\" encoding=\"UTF-8\" standalone=\"no\"?><svg xmlns=\"http://www.w3.org/2000/svg\" xmlns:xlink=\"http://www.w3.org/1999/xlink\" contentScriptType=\"application/ecmascript\" contentStyleType=\"text/css\" height=\"319px\" preserveAspectRatio=\"none\" style=\"width:794px;height:319px;\" version=\"1.1\" viewBox=\"0 0 794 319\" width=\"794px\" zoomAndPan=\"magnify\"><defs/><g><!--MD5=[fbc87193dbaf4d95561dea2c320d4a47]\n",
       "cluster E1--><a href=\"psysml:7a32e4ca-d886-48d1-a22e-a4337a6af1e2\" target=\"_top\" title=\"psysml:7a32e4ca-d886-48d1-a22e-a4337a6af1e2\" xlink:actuate=\"onRequest\" xlink:href=\"psysml:7a32e4ca-d886-48d1-a22e-a4337a6af1e2\" xlink:show=\"new\" xlink:title=\"psysml:7a32e4ca-d886-48d1-a22e-a4337a6af1e2\" xlink:type=\"simple\"><polygon fill=\"#FFFFFF\" points=\"16,6,158,6,165,28.2969,772,28.2969,772,307,16,307,16,6\" style=\"stroke: #000000; stroke-width: 1.5;\"/><line style=\"stroke: #000000; stroke-width: 1.5;\" x1=\"16\" x2=\"165\" y1=\"28.2969\" y2=\"28.2969\"/><text fill=\"#000000\" font-family=\"sans-serif\" font-size=\"14\" font-weight=\"bold\" lengthAdjust=\"spacingAndGlyphs\" textLength=\"136\" x=\"20\" y=\"20.9951\">RequirementTest</text></a><!--MD5=[b4997ac47864f28c2f74865a473b2911]\n",
       "class E2--><a href=\"psysml:c5fd5931-ea17-4576-af97-a79679b06835\" target=\"_top\" title=\"psysml:c5fd5931-ea17-4576-af97-a79679b06835\" xlink:actuate=\"onRequest\" xlink:href=\"psysml:c5fd5931-ea17-4576-af97-a79679b06835\" xlink:show=\"new\" xlink:title=\"psysml:c5fd5931-ea17-4576-af97-a79679b06835\" xlink:type=\"simple\"><rect fill=\"#FFFFFF\" height=\"45.9375\" id=\"E2\" style=\"stroke: #383838; stroke-width: 1.5;\" width=\"104\" x=\"238\" y=\"41\"/><text fill=\"#000000\" font-family=\"sans-serif\" font-size=\"12\" font-style=\"italic\" lengthAdjust=\"spacingAndGlyphs\" textLength=\"102\" x=\"239\" y=\"57.1387\">«constraint def»</text><text fill=\"#000000\" font-family=\"sans-serif\" font-size=\"12\" lengthAdjust=\"spacingAndGlyphs\" textLength=\"8\" x=\"286\" y=\"71.1074\">C</text><line style=\"stroke: #383838; stroke-width: 1.5;\" x1=\"239\" x2=\"341\" y1=\"78.9375\" y2=\"78.9375\"/></a><!--MD5=[09b614a08d8cba4a07c9adeb5e0fee81]\n",
       "class E3--><a href=\"psysml:23e87db0-b26a-4449-ad29-18415d83eb38\" target=\"_top\" title=\"psysml:23e87db0-b26a-4449-ad29-18415d83eb38\" xlink:actuate=\"onRequest\" xlink:href=\"psysml:23e87db0-b26a-4449-ad29-18415d83eb38\" xlink:show=\"new\" xlink:title=\"psysml:23e87db0-b26a-4449-ad29-18415d83eb38\" xlink:type=\"simple\"><rect fill=\"#FFFFFF\" height=\"45.9375\" id=\"E3\" rx=\"10\" ry=\"10\" style=\"stroke: #383838; stroke-width: 1.5;\" width=\"80\" x=\"64.5\" y=\"41\"/><text fill=\"#000000\" font-family=\"sans-serif\" font-size=\"12\" font-style=\"italic\" lengthAdjust=\"spacingAndGlyphs\" textLength=\"78\" x=\"65.5\" y=\"57.1387\">«constraint»</text><text fill=\"#000000\" font-family=\"sans-serif\" font-size=\"12\" lengthAdjust=\"spacingAndGlyphs\" textLength=\"23\" x=\"93\" y=\"71.1074\">c: C</text><line style=\"stroke: #383838; stroke-width: 1.5;\" x1=\"65.5\" x2=\"143.5\" y1=\"78.9375\" y2=\"78.9375\"/></a><!--MD5=[ebbe1d658d1005bcc118a6aa81145e00]\n",
       "class E4--><a href=\"psysml:aa32b181-0a7a-45c2-8d8e-c84b0489ed31\" target=\"_top\" title=\"psysml:aa32b181-0a7a-45c2-8d8e-c84b0489ed31\" xlink:actuate=\"onRequest\" xlink:href=\"psysml:aa32b181-0a7a-45c2-8d8e-c84b0489ed31\" xlink:show=\"new\" xlink:title=\"psysml:aa32b181-0a7a-45c2-8d8e-c84b0489ed31\" xlink:type=\"simple\"><rect fill=\"#FFFFFF\" height=\"109.1563\" id=\"E4\" style=\"stroke: #383838; stroke-width: 1.5;\" width=\"117\" x=\"461\" y=\"181.5\"/><text fill=\"#000000\" font-family=\"sans-serif\" font-size=\"12\" font-style=\"italic\" lengthAdjust=\"spacingAndGlyphs\" textLength=\"115\" x=\"462\" y=\"197.6387\">«requirement def»</text><text fill=\"#000000\" font-family=\"sans-serif\" font-size=\"12\" lengthAdjust=\"spacingAndGlyphs\" textLength=\"8\" x=\"515.5\" y=\"211.6074\">R</text><line style=\"stroke: #383838; stroke-width: 1.5;\" x1=\"462\" x2=\"577\" y1=\"219.4375\" y2=\"219.4375\"/><text fill=\"#000000\" font-family=\"sans-serif\" font-size=\"11\" lengthAdjust=\"spacingAndGlyphs\" textLength=\"0\" x=\"471\" y=\"233.6479\"/><line style=\"stroke: #383838; stroke-width: 1.0;\" x1=\"462\" x2=\"577\" y1=\"240.2422\" y2=\"240.2422\"/><text fill=\"#000000\" font-family=\"sans-serif\" font-size=\"11\" font-weight=\"bold\" lengthAdjust=\"spacingAndGlyphs\" textLength=\"46\" x=\"467\" y=\"271.2573\">require</text><text fill=\"#000000\" font-family=\"sans-serif\" font-size=\"11\" lengthAdjust=\"spacingAndGlyphs\" textLength=\"6\" x=\"517\" y=\"271.2573\">c</text><text fill=\"#000000\" font-family=\"sans-serif\" font-size=\"11\" font-style=\"italic\" lengthAdjust=\"spacingAndGlyphs\" textLength=\"46\" x=\"467\" y=\"284.062\">assume</text><text fill=\"#000000\" font-family=\"sans-serif\" font-size=\"11\" lengthAdjust=\"spacingAndGlyphs\" textLength=\"29\" x=\"517\" y=\"284.062\">c1: C</text><line style=\"stroke: #383838; stroke-width: 1.0;\" x1=\"462\" x2=\"487.5\" y1=\"254.6445\" y2=\"254.6445\"/><text fill=\"#000000\" font-family=\"sans-serif\" font-size=\"11\" lengthAdjust=\"spacingAndGlyphs\" textLength=\"64\" x=\"487.5\" y=\"257.9526\">constraints</text><line style=\"stroke: #383838; stroke-width: 1.0;\" x1=\"551.5\" x2=\"577\" y1=\"254.6445\" y2=\"254.6445\"/></a><!--MD5=[270fce915f116d4de14055a7c1d9a0f3]\n",
       "class E5--><a href=\"psysml:c7a4f64d-f76e-4f11-bab9-561a5696e580\" target=\"_top\" title=\"psysml:c7a4f64d-f76e-4f11-bab9-561a5696e580\" xlink:actuate=\"onRequest\" xlink:href=\"psysml:c7a4f64d-f76e-4f11-bab9-561a5696e580\" xlink:show=\"new\" xlink:title=\"psysml:c7a4f64d-f76e-4f11-bab9-561a5696e580\" xlink:type=\"simple\"><rect fill=\"#FFFFFF\" height=\"66.7422\" id=\"E5\" style=\"stroke: #383838; stroke-width: 1.5;\" width=\"117\" x=\"639\" y=\"216.5\"/><text fill=\"#000000\" font-family=\"sans-serif\" font-size=\"12\" font-style=\"italic\" lengthAdjust=\"spacingAndGlyphs\" textLength=\"115\" x=\"640\" y=\"232.6387\">«requirement def»</text><text fill=\"#000000\" font-family=\"sans-serif\" font-size=\"12\" lengthAdjust=\"spacingAndGlyphs\" textLength=\"5\" x=\"684.5\" y=\"246.6074\">[</text><text fill=\"#000000\" font-family=\"sans-serif\" font-size=\"12\" font-weight=\"bold\" lengthAdjust=\"spacingAndGlyphs\" textLength=\"8\" x=\"689.5\" y=\"246.6074\">1</text><text fill=\"#000000\" font-family=\"sans-serif\" font-size=\"12\" lengthAdjust=\"spacingAndGlyphs\" textLength=\"17\" x=\"697.5\" y=\"246.6074\">] A</text><line style=\"stroke: #383838; stroke-width: 1.5;\" x1=\"640\" x2=\"755\" y1=\"254.4375\" y2=\"254.4375\"/><text fill=\"#000000\" font-family=\"sans-serif\" font-size=\"11\" lengthAdjust=\"spacingAndGlyphs\" textLength=\"24\" x=\"645\" y=\"268.6479\">Text</text><line style=\"stroke: #383838; stroke-width: 1.0;\" x1=\"640\" x2=\"755\" y1=\"275.2422\" y2=\"275.2422\"/></a><!--MD5=[b9389687b975829384b498ac4b7476b2]\n",
       "class E8--><a href=\"psysml:165156c7-6d13-47e8-9214-4efd9fbee902\" target=\"_top\" title=\"psysml:165156c7-6d13-47e8-9214-4efd9fbee902\" xlink:actuate=\"onRequest\" xlink:href=\"psysml:165156c7-6d13-47e8-9214-4efd9fbee902\" xlink:show=\"new\" xlink:title=\"psysml:165156c7-6d13-47e8-9214-4efd9fbee902\" xlink:type=\"simple\"><rect fill=\"#FFFFFF\" height=\"45.9375\" id=\"E8\" rx=\"10\" ry=\"10\" style=\"stroke: #383838; stroke-width: 1.5;\" width=\"93\" x=\"651\" y=\"135\"/><text fill=\"#000000\" font-family=\"sans-serif\" font-size=\"12\" font-style=\"italic\" lengthAdjust=\"spacingAndGlyphs\" textLength=\"91\" x=\"652\" y=\"151.1387\">«requirement»</text><text fill=\"#000000\" font-family=\"sans-serif\" font-size=\"12\" lengthAdjust=\"spacingAndGlyphs\" text-decoration=\"line-through\" textLength=\"51\" x=\"672\" y=\"165.1074\">noname</text><line style=\"stroke: #383838; stroke-width: 1.5;\" x1=\"652\" x2=\"743\" y1=\"172.9375\" y2=\"172.9375\"/></a><!--MD5=[fd4143e9d270a159db93a4ea2a975926]\n",
       "class E9--><a href=\"psysml:5b4d3eaf-f72e-4f96-998b-f4a0a57df239\" target=\"_top\" title=\"psysml:5b4d3eaf-f72e-4f96-998b-f4a0a57df239\" xlink:actuate=\"onRequest\" xlink:href=\"psysml:5b4d3eaf-f72e-4f96-998b-f4a0a57df239\" xlink:show=\"new\" xlink:title=\"psysml:5b4d3eaf-f72e-4f96-998b-f4a0a57df239\" xlink:type=\"simple\"><rect fill=\"#FFFFFF\" height=\"88.3516\" id=\"E9\" style=\"stroke: #383838; stroke-width: 1.5;\" width=\"145\" x=\"32\" y=\"122\"/><text fill=\"#000000\" font-family=\"sans-serif\" font-size=\"12\" font-style=\"italic\" lengthAdjust=\"spacingAndGlyphs\" textLength=\"115\" x=\"47\" y=\"138.1387\">«requirement def»</text><text fill=\"#000000\" font-family=\"sans-serif\" font-size=\"12\" lengthAdjust=\"spacingAndGlyphs\" textLength=\"16\" x=\"96.5\" y=\"152.1074\">R1</text><line style=\"stroke: #383838; stroke-width: 1.5;\" x1=\"33\" x2=\"176\" y1=\"159.9375\" y2=\"159.9375\"/><text fill=\"#000000\" font-family=\"sans-serif\" font-size=\"11\" font-weight=\"bold\" lengthAdjust=\"spacingAndGlyphs\" textLength=\"46\" x=\"38\" y=\"190.9526\">require</text><text fill=\"#000000\" font-family=\"sans-serif\" font-size=\"11\" lengthAdjust=\"spacingAndGlyphs\" textLength=\"13\" x=\"88\" y=\"190.9526\">c1</text><text fill=\"#000000\" font-family=\"sans-serif\" font-size=\"11\" font-style=\"italic\" lengthAdjust=\"spacingAndGlyphs\" textLength=\"133\" x=\"38\" y=\"203.7573\">:&gt;&gt;RequirementTest::c</text><line style=\"stroke: #383838; stroke-width: 1.0;\" x1=\"33\" x2=\"72.5\" y1=\"174.3398\" y2=\"174.3398\"/><text fill=\"#000000\" font-family=\"sans-serif\" font-size=\"11\" lengthAdjust=\"spacingAndGlyphs\" textLength=\"64\" x=\"72.5\" y=\"177.6479\">constraints</text><line style=\"stroke: #383838; stroke-width: 1.0;\" x1=\"136.5\" x2=\"176\" y1=\"174.3398\" y2=\"174.3398\"/></a><!--MD5=[1dd1bfd58a279cf63c5f349dbc8fc6a1]\n",
       "class E11--><a href=\"psysml:8fb932f6-fc92-43ad-aa0e-8cfa7b71c9b3\" target=\"_top\" title=\"psysml:8fb932f6-fc92-43ad-aa0e-8cfa7b71c9b3\" xlink:actuate=\"onRequest\" xlink:href=\"psysml:8fb932f6-fc92-43ad-aa0e-8cfa7b71c9b3\" xlink:show=\"new\" xlink:title=\"psysml:8fb932f6-fc92-43ad-aa0e-8cfa7b71c9b3\" xlink:type=\"simple\"><rect fill=\"#FFFFFF\" height=\"45.9375\" id=\"E11\" rx=\"10\" ry=\"10\" style=\"stroke: #383838; stroke-width: 1.5;\" width=\"42\" x=\"498.5\" y=\"100\"/><text fill=\"#000000\" font-family=\"sans-serif\" font-size=\"12\" font-style=\"italic\" lengthAdjust=\"spacingAndGlyphs\" textLength=\"40\" x=\"499.5\" y=\"116.1387\">«part»</text><text fill=\"#000000\" font-family=\"sans-serif\" font-size=\"12\" lengthAdjust=\"spacingAndGlyphs\" textLength=\"8\" x=\"515.5\" y=\"130.1074\">p</text><line style=\"stroke: #383838; stroke-width: 1.5;\" x1=\"499.5\" x2=\"539.5\" y1=\"137.9375\" y2=\"137.9375\"/></a><!--MD5=[49a0ec8f00dab7302a31f22d0f0fe584]\n",
       "class E12--><a href=\"psysml:9b734dfd-0e44-4ae0-bd37-d0a03d4a12cd\" target=\"_top\" title=\"psysml:9b734dfd-0e44-4ae0-bd37-d0a03d4a12cd\" xlink:actuate=\"onRequest\" xlink:href=\"psysml:9b734dfd-0e44-4ae0-bd37-d0a03d4a12cd\" xlink:show=\"new\" xlink:title=\"psysml:9b734dfd-0e44-4ae0-bd37-d0a03d4a12cd\" xlink:type=\"simple\"><rect fill=\"#FFFFFF\" height=\"45.9375\" id=\"E12\" rx=\"10\" ry=\"10\" style=\"stroke: #383838; stroke-width: 1.5;\" width=\"42\" x=\"83.5\" y=\"245\"/><text fill=\"#000000\" font-family=\"sans-serif\" font-size=\"12\" font-style=\"italic\" lengthAdjust=\"spacingAndGlyphs\" textLength=\"40\" x=\"84.5\" y=\"261.1387\">«part»</text><text fill=\"#000000\" font-family=\"sans-serif\" font-size=\"12\" lengthAdjust=\"spacingAndGlyphs\" textLength=\"8\" x=\"100.5\" y=\"275.1074\">q</text><line style=\"stroke: #383838; stroke-width: 1.5;\" x1=\"84.5\" x2=\"124.5\" y1=\"282.9375\" y2=\"282.9375\"/></a><!--MD5=[ee3c913d1a06f366521f9ef512b67efe]\n",
       "class E13--><a href=\"psysml:5a1cae69-7149-47dc-88a9-208fdbfbba4b\" target=\"_top\" title=\"psysml:5a1cae69-7149-47dc-88a9-208fdbfbba4b\" xlink:actuate=\"onRequest\" xlink:href=\"psysml:5a1cae69-7149-47dc-88a9-208fdbfbba4b\" xlink:show=\"new\" xlink:title=\"psysml:5a1cae69-7149-47dc-88a9-208fdbfbba4b\" xlink:type=\"simple\"><rect fill=\"#FFFFFF\" height=\"45.9375\" id=\"E13\" rx=\"10\" ry=\"10\" style=\"stroke: #383838; stroke-width: 1.5;\" width=\"93\" x=\"243.5\" y=\"213\"/><text fill=\"#000000\" font-family=\"sans-serif\" font-size=\"12\" font-style=\"italic\" lengthAdjust=\"spacingAndGlyphs\" textLength=\"91\" x=\"244.5\" y=\"229.1387\">«requirement»</text><text fill=\"#000000\" font-family=\"sans-serif\" font-size=\"12\" lengthAdjust=\"spacingAndGlyphs\" textLength=\"21\" x=\"279.5\" y=\"243.1074\">r: R</text><line style=\"stroke: #383838; stroke-width: 1.5;\" x1=\"244.5\" x2=\"335.5\" y1=\"250.9375\" y2=\"250.9375\"/></a><!--MD5=[05d275557350bfb9b23a4ef7222b4c39]\n",
       "link E3 to E2--><a href=\"psysml:bb92853b-9a42-4685-9891-57f30cbf18f8\" target=\"_top\" title=\"psysml:bb92853b-9a42-4685-9891-57f30cbf18f8\" xlink:actuate=\"onRequest\" xlink:href=\"psysml:bb92853b-9a42-4685-9891-57f30cbf18f8\" xlink:show=\"new\" xlink:title=\"psysml:bb92853b-9a42-4685-9891-57f30cbf18f8\" xlink:type=\"simple\"><path d=\"M144.87,64 C166.09,64 192.94,64 217.7,64 \" fill=\"none\" id=\"E3-&gt;E2\" style=\"stroke: #383838; stroke-width: 1.0;\"/><polygon fill=\"#FFFFFF\" points=\"237.84,64,218.84,71,218.84,57,237.84,64\" style=\"stroke: #383838; stroke-width: 1.0;\"/><ellipse cx=\"213.14\" cy=\"69\" fill=\"#383838\" rx=\"2\" ry=\"2\" style=\"stroke: #383838; stroke-width: 1.0;\"/><ellipse cx=\"213.14\" cy=\"59\" fill=\"#383838\" rx=\"2\" ry=\"2\" style=\"stroke: #383838; stroke-width: 1.0;\"/></a><!--MD5=[62aa6af11e70f752912c1cb0466f24f7]\n",
       "reverse link E4 to E5--><a href=\"psysml:c7a4f64d-f76e-4f11-bab9-561a5696e580\" target=\"_top\" title=\"psysml:c7a4f64d-f76e-4f11-bab9-561a5696e580\" xlink:actuate=\"onRequest\" xlink:href=\"psysml:c7a4f64d-f76e-4f11-bab9-561a5696e580\" xlink:show=\"new\" xlink:title=\"psysml:c7a4f64d-f76e-4f11-bab9-561a5696e580\" xlink:type=\"simple\"><path d=\"M593.54,241.81 C608.62,243.01 624.3,244.26 638.74,245.41 \" fill=\"none\" id=\"E4&lt;-E5\" style=\"stroke: #383838; stroke-width: 1.0;\"/><ellipse cx=\"586.105\" cy=\"241.2122\" fill=\"#FFFFFF\" rx=\"8\" ry=\"8\" style=\"stroke: #383838; stroke-width: 1.0;\"/><line style=\"stroke: #383838; stroke-width: 1.0;\" x1=\"594.08\" x2=\"578.13\" y1=\"241.8444\" y2=\"240.58\"/><line style=\"stroke: #383838; stroke-width: 1.0;\" x1=\"585.4728\" x2=\"586.7372\" y1=\"249.1872\" y2=\"233.2372\"/></a><!--MD5=[c6fc7cdb0cabde04948078cf183fa696]\n",
       "reverse link E4 to E8--><a href=\"psysml:165156c7-6d13-47e8-9214-4efd9fbee902\" target=\"_top\" title=\"psysml:165156c7-6d13-47e8-9214-4efd9fbee902\" xlink:actuate=\"onRequest\" xlink:href=\"psysml:165156c7-6d13-47e8-9214-4efd9fbee902\" xlink:show=\"new\" xlink:title=\"psysml:165156c7-6d13-47e8-9214-4efd9fbee902\" xlink:type=\"simple\"><path d=\"M590.24,205.09 C610.58,196.08 632.28,186.46 650.74,178.28 \" fill=\"none\" id=\"E4&lt;-E8\" style=\"stroke: #383838; stroke-width: 1.0;\"/><polygon fill=\"#383838\" points=\"578.13,210.46,585.2365,211.684,589.0995,205.5949,581.9931,204.3709,578.13,210.46\" style=\"stroke: #383838; stroke-width: 1.0;\"/></a><!--MD5=[062ed86c389d1a88f61c6380d0491e17]\n",
       "reverse link E12 to E13--><a href=\"psysml:5a1cae69-7149-47dc-88a9-208fdbfbba4b\" target=\"_top\" title=\"psysml:5a1cae69-7149-47dc-88a9-208fdbfbba4b\" xlink:actuate=\"onRequest\" xlink:href=\"psysml:5a1cae69-7149-47dc-88a9-208fdbfbba4b\" xlink:show=\"new\" xlink:title=\"psysml:5a1cae69-7149-47dc-88a9-208fdbfbba4b\" xlink:type=\"simple\"><path d=\"M139.02,262.15 C168.28,257.05 211.02,249.6 243.39,243.95 \" fill=\"none\" id=\"E12&lt;-E13\" style=\"stroke: #383838; stroke-width: 1.0;\"/><polygon fill=\"#383838\" points=\"125.84,264.45,132.4403,267.3544,137.6599,262.3789,131.0596,259.4745,125.84,264.45\" style=\"stroke: #383838; stroke-width: 1.0;\"/></a><!--MD5=[017847e01ff9a8bd19f247411074f987]\n",
       "link E13 to E4--><a href=\"psysml:9a693856-e1d7-4623-99b4-c4529bf04054\" target=\"_top\" title=\"psysml:9a693856-e1d7-4623-99b4-c4529bf04054\" xlink:actuate=\"onRequest\" xlink:href=\"psysml:9a693856-e1d7-4623-99b4-c4529bf04054\" xlink:show=\"new\" xlink:title=\"psysml:9a693856-e1d7-4623-99b4-c4529bf04054\" xlink:type=\"simple\"><path d=\"M336.76,236 C366.45,236 405.9,236 440.46,236 \" fill=\"none\" id=\"E13-&gt;E4\" style=\"stroke: #383838; stroke-width: 1.0;\"/><polygon fill=\"#FFFFFF\" points=\"460.67,236,441.67,243,441.67,229,460.67,236\" style=\"stroke: #383838; stroke-width: 1.0;\"/><ellipse cx=\"435.97\" cy=\"241\" fill=\"#383838\" rx=\"2\" ry=\"2\" style=\"stroke: #383838; stroke-width: 1.0;\"/><ellipse cx=\"435.97\" cy=\"231\" fill=\"#383838\" rx=\"2\" ry=\"2\" style=\"stroke: #383838; stroke-width: 1.0;\"/></a><!--MD5=[2cfe899c895462254056921bfb67315f]\n",
       "link E13 to E11--><a href=\"psysml:69852053-465c-4b3e-807c-2facd65a229c\" target=\"_top\" title=\"psysml:69852053-465c-4b3e-807c-2facd65a229c\" xlink:actuate=\"onRequest\" xlink:href=\"psysml:69852053-465c-4b3e-807c-2facd65a229c\" xlink:show=\"new\" xlink:title=\"psysml:69852053-465c-4b3e-807c-2facd65a229c\" xlink:type=\"simple\"><path d=\"M336.76,213.27 C383.95,189.83 455.79,154.15 493.46,135.44 \" fill=\"none\" id=\"E13-&gt;E11\" style=\"stroke: #383838; stroke-width: 1.0; stroke-dasharray: 7.0,7.0;\"/><polygon fill=\"#383838\" points=\"498.32,133.02,488.4797,133.4294,493.8393,135.2389,492.0299,140.5985,498.32,133.02\" style=\"stroke: #383838; stroke-width: 1.0;\"/><text fill=\"#000000\" font-family=\"sans-serif\" font-size=\"13\" lengthAdjust=\"spacingAndGlyphs\" textLength=\"57\" x=\"373\" y=\"166.0669\">«satisfy»</text></a><!--MD5=[4bdff4814a6ef0643ba617ddbdd6bd16]\n",
       "@startuml\r\n",
       "left to right direction\r\n",
       "skinparam monochrome true\r\n",
       "skinparam classbackgroundcolor white\r\n",
       "skinparam shadowing false\r\n",
       "skinparam wrapWidth 300\r\n",
       "hide circle\r\n",
       "\r\n",
       "package \"RequirementTest\" as E1  [[psysml:7a32e4ca-d886-48d1-a22e-a4337a6af1e2 ]]  {\r\n",
       "comp def \"C\" as E2  <<(T,blue)constraint def>> [[psysml:c5fd5931-ea17-4576-af97-a79679b06835 ]] {\r\n",
       "}\r\n",
       "comp usage \"c: C\" as E3  <<(T,blue)constraint>> [[psysml:23e87db0-b26a-4449-ad29-18415d83eb38 ]] {\r\n",
       "}\r\n",
       "comp def \"R\" as E4  <<(T,blue)requirement def>> [[psysml:aa32b181-0a7a-45c2-8d8e-c84b0489ed31 ]] {\r\n",
       "\r\n",
       "- -\r\n",
       "- - constraints - -\r\n",
       "<b>require</b> c\r\n",
       "<i>assume</i> c1: C\r\n",
       "}\r\n",
       "comp def \" [<b>1</b>] A\" as E5  <<(T,blue)requirement def>> [[psysml:c7a4f64d-f76e-4f11-bab9-561a5696e580 ]] {\r\n",
       "Text\r\n",
       "- -\r\n",
       "}\r\n",
       "comp usage \"<s>noname</s>\" as E8  <<(T,blue)requirement>> [[psysml:165156c7-6d13-47e8-9214-4efd9fbee902 ]] {\r\n",
       "}\r\n",
       "comp def \"R1\" as E9  <<(T,blue)requirement def>> [[psysml:5b4d3eaf-f72e-4f96-998b-f4a0a57df239 ]] {\r\n",
       "- - constraints - -\r\n",
       "<b>require</b> c1\\n//:>>RequirementTest::c// \r\n",
       "}\r\n",
       "comp usage \"p\" as E11  <<(T,blue)part>> [[psysml:8fb932f6-fc92-43ad-aa0e-8cfa7b71c9b3 ]] {\r\n",
       "}\r\n",
       "comp usage \"q\" as E12  <<(T,blue)part>> [[psysml:9b734dfd-0e44-4ae0-bd37-d0a03d4a12cd ]] {\r\n",
       "}\r\n",
       "comp usage \"r: R\" as E13  <<(T,blue)requirement>> [[psysml:5a1cae69-7149-47dc-88a9-208fdbfbba4b ]] {\r\n",
       "}\r\n",
       "E3 - -:|> E2 [[psysml:bb92853b-9a42-4685-9891-57f30cbf18f8 ]] \r\n",
       "E4 +- - E5 [[psysml:c7a4f64d-f76e-4f11-bab9-561a5696e580 ]] \r\n",
       "E4 *- - E8 [[psysml:165156c7-6d13-47e8-9214-4efd9fbee902 ]] \r\n",
       "E12 *- - E13 [[psysml:5a1cae69-7149-47dc-88a9-208fdbfbba4b ]] \r\n",
       "E13 - -:|> E4 [[psysml:9a693856-e1d7-4623-99b4-c4529bf04054 ]] \r\n",
       "E13 ..> E11 [[psysml:69852053-465c-4b3e-807c-2facd65a229c ]] : <<satisfy>>\r\n",
       "}\r\n",
       "@enduml\r\n",
       "\n",
       "PlantUML version 1.2020.13(Sat Jun 13 12:26:38 UTC 2020)\n",
       "(EPL source distribution)\n",
       "Java Runtime: OpenJDK Runtime Environment\n",
       "JVM: OpenJDK 64-Bit Server VM\n",
       "Default Encoding: UTF-8\n",
       "Language: en\n",
       "Country: null\n",
       "--></g></svg>"
      ]
     },
     "execution_count": 22,
     "metadata": {},
     "output_type": "execute_result"
    }
   ],
   "source": [
    "%viz --style=\"LR\" --view=\"MIXED\" \"RequirementTest\""
   ]
  },
  {
   "cell_type": "code",
   "execution_count": 23,
   "id": "assisted-internship",
   "metadata": {
    "execution": {
     "iopub.execute_input": "2021-03-25T09:27:02.735048Z",
     "iopub.status.busy": "2021-03-25T09:27:02.733044Z",
     "iopub.status.idle": "2021-03-25T09:27:03.600955Z",
     "shell.execute_reply": "2021-03-25T09:27:03.599187Z"
    }
   },
   "outputs": [
    {
     "data": {
      "image/svg+xml": [
       "<?xml version=\"1.0\" encoding=\"UTF-8\" standalone=\"no\"?><svg xmlns=\"http://www.w3.org/2000/svg\" xmlns:xlink=\"http://www.w3.org/1999/xlink\" contentScriptType=\"application/ecmascript\" contentStyleType=\"text/css\" height=\"566px\" preserveAspectRatio=\"none\" style=\"width:470px;height:566px;\" version=\"1.1\" viewBox=\"0 0 470 566\" width=\"470px\" zoomAndPan=\"magnify\"><defs><filter height=\"300%\" id=\"f1dt5nks8p84qq\" width=\"300%\" x=\"-1\" y=\"-1\"><feGaussianBlur result=\"blurOut\" stdDeviation=\"2.0\"/><feColorMatrix in=\"blurOut\" result=\"blurOut2\" type=\"matrix\" values=\"0 0 0 0 0 0 0 0 0 0 0 0 0 0 0 0 0 0 .4 0\"/><feOffset dx=\"4.0\" dy=\"4.0\" in=\"blurOut2\" result=\"blurOut3\"/><feBlend in=\"SourceGraphic\" in2=\"blurOut3\" mode=\"normal\"/></filter></defs><g><!--MD5=[fbc87193dbaf4d95561dea2c320d4a47]\n",
       "cluster E1--><a href=\"psysml:7a32e4ca-d886-48d1-a22e-a4337a6af1e2\" target=\"_top\" title=\"psysml:7a32e4ca-d886-48d1-a22e-a4337a6af1e2\" xlink:actuate=\"onRequest\" xlink:href=\"psysml:7a32e4ca-d886-48d1-a22e-a4337a6af1e2\" xlink:show=\"new\" xlink:title=\"psysml:7a32e4ca-d886-48d1-a22e-a4337a6af1e2\" xlink:type=\"simple\"><polygon fill=\"#FFFFFF\" filter=\"url(#f1dt5nks8p84qq)\" points=\"16,6,158,6,165,28.2969,448,28.2969,448,554,16,554,16,6\" style=\"stroke: #000000; stroke-width: 1.5;\"/><line style=\"stroke: #000000; stroke-width: 1.5;\" x1=\"16\" x2=\"165\" y1=\"28.2969\" y2=\"28.2969\"/><text fill=\"#000000\" font-family=\"sans-serif\" font-size=\"14\" font-weight=\"bold\" lengthAdjust=\"spacingAndGlyphs\" textLength=\"136\" x=\"20\" y=\"20.9951\">RequirementTest</text></a><!--MD5=[b4997ac47864f28c2f74865a473b2911]\n",
       "class E2--><a href=\"psysml:c5fd5931-ea17-4576-af97-a79679b06835\" target=\"_top\" title=\"psysml:c5fd5931-ea17-4576-af97-a79679b06835\" xlink:actuate=\"onRequest\" xlink:href=\"psysml:c5fd5931-ea17-4576-af97-a79679b06835\" xlink:show=\"new\" xlink:title=\"psysml:c5fd5931-ea17-4576-af97-a79679b06835\" xlink:type=\"simple\"><rect fill=\"#FEFECE\" filter=\"url(#f1dt5nks8p84qq)\" height=\"45.9375\" id=\"E2\" style=\"stroke: #A80036; stroke-width: 1.5;\" width=\"104\" x=\"328\" y=\"178\"/><text fill=\"#000000\" font-family=\"sans-serif\" font-size=\"12\" font-style=\"italic\" lengthAdjust=\"spacingAndGlyphs\" textLength=\"102\" x=\"329\" y=\"194.1387\">«constraint def»</text><text fill=\"#000000\" font-family=\"sans-serif\" font-size=\"12\" lengthAdjust=\"spacingAndGlyphs\" textLength=\"8\" x=\"376\" y=\"208.1074\">C</text><line style=\"stroke: #A80036; stroke-width: 1.5;\" x1=\"329\" x2=\"431\" y1=\"215.9375\" y2=\"215.9375\"/></a><!--MD5=[09b614a08d8cba4a07c9adeb5e0fee81]\n",
       "class E3--><a href=\"psysml:23e87db0-b26a-4449-ad29-18415d83eb38\" target=\"_top\" title=\"psysml:23e87db0-b26a-4449-ad29-18415d83eb38\" xlink:actuate=\"onRequest\" xlink:href=\"psysml:23e87db0-b26a-4449-ad29-18415d83eb38\" xlink:show=\"new\" xlink:title=\"psysml:23e87db0-b26a-4449-ad29-18415d83eb38\" xlink:type=\"simple\"><rect fill=\"#FEFECE\" filter=\"url(#f1dt5nks8p84qq)\" height=\"45.9375\" id=\"E3\" rx=\"10\" ry=\"10\" style=\"stroke: #A80036; stroke-width: 1.5;\" width=\"80\" x=\"352\" y=\"56\"/><text fill=\"#000000\" font-family=\"sans-serif\" font-size=\"12\" font-style=\"italic\" lengthAdjust=\"spacingAndGlyphs\" textLength=\"78\" x=\"353\" y=\"72.1387\">«constraint»</text><text fill=\"#000000\" font-family=\"sans-serif\" font-size=\"12\" lengthAdjust=\"spacingAndGlyphs\" textLength=\"23\" x=\"380.5\" y=\"86.1074\">c: C</text><line style=\"stroke: #A80036; stroke-width: 1.5;\" x1=\"353\" x2=\"431\" y1=\"93.9375\" y2=\"93.9375\"/></a><!--MD5=[ebbe1d658d1005bcc118a6aa81145e00]\n",
       "class E4--><a href=\"psysml:aa32b181-0a7a-45c2-8d8e-c84b0489ed31\" target=\"_top\" title=\"psysml:aa32b181-0a7a-45c2-8d8e-c84b0489ed31\" xlink:actuate=\"onRequest\" xlink:href=\"psysml:aa32b181-0a7a-45c2-8d8e-c84b0489ed31\" xlink:show=\"new\" xlink:title=\"psysml:aa32b181-0a7a-45c2-8d8e-c84b0489ed31\" xlink:type=\"simple\"><rect fill=\"#FEFECE\" filter=\"url(#f1dt5nks8p84qq)\" height=\"109.1563\" id=\"E4\" style=\"stroke: #A80036; stroke-width: 1.5;\" width=\"117\" x=\"32.5\" y=\"301\"/><text fill=\"#000000\" font-family=\"sans-serif\" font-size=\"12\" font-style=\"italic\" lengthAdjust=\"spacingAndGlyphs\" textLength=\"115\" x=\"33.5\" y=\"317.1387\">«requirement def»</text><text fill=\"#000000\" font-family=\"sans-serif\" font-size=\"12\" lengthAdjust=\"spacingAndGlyphs\" textLength=\"8\" x=\"87\" y=\"331.1074\">R</text><line style=\"stroke: #A80036; stroke-width: 1.5;\" x1=\"33.5\" x2=\"148.5\" y1=\"338.9375\" y2=\"338.9375\"/><text fill=\"#000000\" font-family=\"sans-serif\" font-size=\"11\" lengthAdjust=\"spacingAndGlyphs\" textLength=\"0\" x=\"42.5\" y=\"353.1479\"/><line style=\"stroke: #A80036; stroke-width: 1.0;\" x1=\"33.5\" x2=\"148.5\" y1=\"359.7422\" y2=\"359.7422\"/><text fill=\"#000000\" font-family=\"sans-serif\" font-size=\"11\" font-weight=\"bold\" lengthAdjust=\"spacingAndGlyphs\" textLength=\"46\" x=\"38.5\" y=\"390.7573\">require</text><text fill=\"#000000\" font-family=\"sans-serif\" font-size=\"11\" lengthAdjust=\"spacingAndGlyphs\" textLength=\"6\" x=\"88.5\" y=\"390.7573\">c</text><text fill=\"#000000\" font-family=\"sans-serif\" font-size=\"11\" font-style=\"italic\" lengthAdjust=\"spacingAndGlyphs\" textLength=\"46\" x=\"38.5\" y=\"403.562\">assume</text><text fill=\"#000000\" font-family=\"sans-serif\" font-size=\"11\" lengthAdjust=\"spacingAndGlyphs\" textLength=\"29\" x=\"88.5\" y=\"403.562\">c1: C</text><line style=\"stroke: #A80036; stroke-width: 1.0;\" x1=\"33.5\" x2=\"59\" y1=\"374.1445\" y2=\"374.1445\"/><text fill=\"#000000\" font-family=\"sans-serif\" font-size=\"11\" lengthAdjust=\"spacingAndGlyphs\" textLength=\"64\" x=\"59\" y=\"377.4526\">constraints</text><line style=\"stroke: #A80036; stroke-width: 1.0;\" x1=\"123\" x2=\"148.5\" y1=\"374.1445\" y2=\"374.1445\"/></a><!--MD5=[270fce915f116d4de14055a7c1d9a0f3]\n",
       "class E5--><a href=\"psysml:c7a4f64d-f76e-4f11-bab9-561a5696e580\" target=\"_top\" title=\"psysml:c7a4f64d-f76e-4f11-bab9-561a5696e580\" xlink:actuate=\"onRequest\" xlink:href=\"psysml:c7a4f64d-f76e-4f11-bab9-561a5696e580\" xlink:show=\"new\" xlink:title=\"psysml:c7a4f64d-f76e-4f11-bab9-561a5696e580\" xlink:type=\"simple\"><rect fill=\"#FEFECE\" filter=\"url(#f1dt5nks8p84qq)\" height=\"66.7422\" id=\"E5\" style=\"stroke: #A80036; stroke-width: 1.5;\" width=\"117\" x=\"32.5\" y=\"471\"/><text fill=\"#000000\" font-family=\"sans-serif\" font-size=\"12\" font-style=\"italic\" lengthAdjust=\"spacingAndGlyphs\" textLength=\"115\" x=\"33.5\" y=\"487.1387\">«requirement def»</text><text fill=\"#000000\" font-family=\"sans-serif\" font-size=\"12\" lengthAdjust=\"spacingAndGlyphs\" textLength=\"5\" x=\"78\" y=\"501.1074\">[</text><text fill=\"#000000\" font-family=\"sans-serif\" font-size=\"12\" font-weight=\"bold\" lengthAdjust=\"spacingAndGlyphs\" textLength=\"8\" x=\"83\" y=\"501.1074\">1</text><text fill=\"#000000\" font-family=\"sans-serif\" font-size=\"12\" lengthAdjust=\"spacingAndGlyphs\" textLength=\"17\" x=\"91\" y=\"501.1074\">] A</text><line style=\"stroke: #A80036; stroke-width: 1.5;\" x1=\"33.5\" x2=\"148.5\" y1=\"508.9375\" y2=\"508.9375\"/><text fill=\"#000000\" font-family=\"sans-serif\" font-size=\"11\" lengthAdjust=\"spacingAndGlyphs\" textLength=\"24\" x=\"38.5\" y=\"523.1479\">Text</text><line style=\"stroke: #A80036; stroke-width: 1.0;\" x1=\"33.5\" x2=\"148.5\" y1=\"529.7422\" y2=\"529.7422\"/></a><!--MD5=[b9389687b975829384b498ac4b7476b2]\n",
       "class E8--><a href=\"psysml:165156c7-6d13-47e8-9214-4efd9fbee902\" target=\"_top\" title=\"psysml:165156c7-6d13-47e8-9214-4efd9fbee902\" xlink:actuate=\"onRequest\" xlink:href=\"psysml:165156c7-6d13-47e8-9214-4efd9fbee902\" xlink:show=\"new\" xlink:title=\"psysml:165156c7-6d13-47e8-9214-4efd9fbee902\" xlink:type=\"simple\"><rect fill=\"#FEFECE\" filter=\"url(#f1dt5nks8p84qq)\" height=\"45.9375\" id=\"E8\" rx=\"10\" ry=\"10\" style=\"stroke: #A80036; stroke-width: 1.5;\" width=\"93\" x=\"184.5\" y=\"481.5\"/><text fill=\"#000000\" font-family=\"sans-serif\" font-size=\"12\" font-style=\"italic\" lengthAdjust=\"spacingAndGlyphs\" textLength=\"91\" x=\"185.5\" y=\"497.6387\">«requirement»</text><text fill=\"#000000\" font-family=\"sans-serif\" font-size=\"12\" lengthAdjust=\"spacingAndGlyphs\" text-decoration=\"line-through\" textLength=\"51\" x=\"205.5\" y=\"511.6074\">noname</text><line style=\"stroke: #A80036; stroke-width: 1.5;\" x1=\"185.5\" x2=\"276.5\" y1=\"519.4375\" y2=\"519.4375\"/></a><!--MD5=[fd4143e9d270a159db93a4ea2a975926]\n",
       "class E9--><a href=\"psysml:5b4d3eaf-f72e-4f96-998b-f4a0a57df239\" target=\"_top\" title=\"psysml:5b4d3eaf-f72e-4f96-998b-f4a0a57df239\" xlink:actuate=\"onRequest\" xlink:href=\"psysml:5b4d3eaf-f72e-4f96-998b-f4a0a57df239\" xlink:show=\"new\" xlink:title=\"psysml:5b4d3eaf-f72e-4f96-998b-f4a0a57df239\" xlink:type=\"simple\"><rect fill=\"#FEFECE\" filter=\"url(#f1dt5nks8p84qq)\" height=\"76.4922\" id=\"E9\" style=\"stroke: #A80036; stroke-width: 1.5;\" width=\"207\" x=\"109.5\" y=\"41\"/><text fill=\"#000000\" font-family=\"sans-serif\" font-size=\"12\" font-style=\"italic\" lengthAdjust=\"spacingAndGlyphs\" textLength=\"115\" x=\"155.5\" y=\"57.1387\">«requirement def»</text><text fill=\"#000000\" font-family=\"sans-serif\" font-size=\"12\" lengthAdjust=\"spacingAndGlyphs\" textLength=\"16\" x=\"205\" y=\"71.1074\">R1</text><line style=\"stroke: #A80036; stroke-width: 1.5;\" x1=\"110.5\" x2=\"315.5\" y1=\"78.9375\" y2=\"78.9375\"/><text fill=\"#000000\" font-family=\"sans-serif\" font-size=\"11\" font-weight=\"bold\" lengthAdjust=\"spacingAndGlyphs\" textLength=\"46\" x=\"115.5\" y=\"110.8979\">require</text><text fill=\"#000000\" font-family=\"sans-serif\" font-size=\"11\" lengthAdjust=\"spacingAndGlyphs\" textLength=\"0\" x=\"165.5\" y=\"110.8979\"/><path d=\"M167.4167,100.6589 L167.4167,109.8255 L168.3333,109.8255 L168.3333,100.6589 M171.0833,100.6589 L171.0833,109.8255 L178.4167,105.2422 L171.0833,100.6589 L172,102.0339 L177.0417,105.2422 L172,108.4505 L172,102.0339 \" fill=\"#000000\" style=\"stroke: ; stroke-width: 0.0; stroke-dasharray: ;\"/><text fill=\"#000000\" font-family=\"sans-serif\" font-size=\"11\" lengthAdjust=\"spacingAndGlyphs\" textLength=\"13\" x=\"182.5\" y=\"110.8979\">c1</text><text fill=\"#000000\" font-family=\"sans-serif\" font-size=\"11\" lengthAdjust=\"spacingAndGlyphs\" text-decoration=\"line-through\" textLength=\"111\" x=\"199.5\" y=\"110.8979\">RequirementTest::c</text><line style=\"stroke: #A80036; stroke-width: 1.0;\" x1=\"110.5\" x2=\"181\" y1=\"93.3398\" y2=\"93.3398\"/><text fill=\"#000000\" font-family=\"sans-serif\" font-size=\"11\" lengthAdjust=\"spacingAndGlyphs\" textLength=\"64\" x=\"181\" y=\"96.6479\">constraints</text><line style=\"stroke: #A80036; stroke-width: 1.0;\" x1=\"245\" x2=\"315.5\" y1=\"93.3398\" y2=\"93.3398\"/></a><!--MD5=[1dd1bfd58a279cf63c5f349dbc8fc6a1]\n",
       "class E11--><a href=\"psysml:8fb932f6-fc92-43ad-aa0e-8cfa7b71c9b3\" target=\"_top\" title=\"psysml:8fb932f6-fc92-43ad-aa0e-8cfa7b71c9b3\" xlink:actuate=\"onRequest\" xlink:href=\"psysml:8fb932f6-fc92-43ad-aa0e-8cfa7b71c9b3\" xlink:show=\"new\" xlink:title=\"psysml:8fb932f6-fc92-43ad-aa0e-8cfa7b71c9b3\" xlink:type=\"simple\"><rect fill=\"#FEFECE\" filter=\"url(#f1dt5nks8p84qq)\" height=\"45.9375\" id=\"E11\" rx=\"10\" ry=\"10\" style=\"stroke: #A80036; stroke-width: 1.5;\" width=\"42\" x=\"185\" y=\"332.5\"/><text fill=\"#000000\" font-family=\"sans-serif\" font-size=\"12\" font-style=\"italic\" lengthAdjust=\"spacingAndGlyphs\" textLength=\"40\" x=\"186\" y=\"348.6387\">«part»</text><text fill=\"#000000\" font-family=\"sans-serif\" font-size=\"12\" lengthAdjust=\"spacingAndGlyphs\" textLength=\"8\" x=\"202\" y=\"362.6074\">p</text><line style=\"stroke: #A80036; stroke-width: 1.5;\" x1=\"186\" x2=\"226\" y1=\"370.4375\" y2=\"370.4375\"/></a><!--MD5=[49a0ec8f00dab7302a31f22d0f0fe584]\n",
       "class E12--><a href=\"psysml:9b734dfd-0e44-4ae0-bd37-d0a03d4a12cd\" target=\"_top\" title=\"psysml:9b734dfd-0e44-4ae0-bd37-d0a03d4a12cd\" xlink:actuate=\"onRequest\" xlink:href=\"psysml:9b734dfd-0e44-4ae0-bd37-d0a03d4a12cd\" xlink:show=\"new\" xlink:title=\"psysml:9b734dfd-0e44-4ae0-bd37-d0a03d4a12cd\" xlink:type=\"simple\"><rect fill=\"#FEFECE\" filter=\"url(#f1dt5nks8p84qq)\" height=\"45.9375\" id=\"E12\" rx=\"10\" ry=\"10\" style=\"stroke: #A80036; stroke-width: 1.5;\" width=\"42\" x=\"32\" y=\"56\"/><text fill=\"#000000\" font-family=\"sans-serif\" font-size=\"12\" font-style=\"italic\" lengthAdjust=\"spacingAndGlyphs\" textLength=\"40\" x=\"33\" y=\"72.1387\">«part»</text><text fill=\"#000000\" font-family=\"sans-serif\" font-size=\"12\" lengthAdjust=\"spacingAndGlyphs\" textLength=\"8\" x=\"49\" y=\"86.1074\">q</text><line style=\"stroke: #A80036; stroke-width: 1.5;\" x1=\"33\" x2=\"73\" y1=\"93.9375\" y2=\"93.9375\"/></a><!--MD5=[ee3c913d1a06f366521f9ef512b67efe]\n",
       "class E13--><a href=\"psysml:5a1cae69-7149-47dc-88a9-208fdbfbba4b\" target=\"_top\" title=\"psysml:5a1cae69-7149-47dc-88a9-208fdbfbba4b\" xlink:actuate=\"onRequest\" xlink:href=\"psysml:5a1cae69-7149-47dc-88a9-208fdbfbba4b\" xlink:show=\"new\" xlink:title=\"psysml:5a1cae69-7149-47dc-88a9-208fdbfbba4b\" xlink:type=\"simple\"><rect fill=\"#FEFECE\" filter=\"url(#f1dt5nks8p84qq)\" height=\"45.9375\" id=\"E13\" rx=\"10\" ry=\"10\" style=\"stroke: #A80036; stroke-width: 1.5;\" width=\"93\" x=\"44.5\" y=\"178\"/><text fill=\"#000000\" font-family=\"sans-serif\" font-size=\"12\" font-style=\"italic\" lengthAdjust=\"spacingAndGlyphs\" textLength=\"91\" x=\"45.5\" y=\"194.1387\">«requirement»</text><text fill=\"#000000\" font-family=\"sans-serif\" font-size=\"12\" lengthAdjust=\"spacingAndGlyphs\" textLength=\"21\" x=\"80.5\" y=\"208.1074\">r: R</text><line style=\"stroke: #A80036; stroke-width: 1.5;\" x1=\"45.5\" x2=\"136.5\" y1=\"215.9375\" y2=\"215.9375\"/></a><!--MD5=[05d275557350bfb9b23a4ef7222b4c39]\n",
       "link E3 to E2--><a href=\"psysml:bb92853b-9a42-4685-9891-57f30cbf18f8\" target=\"_top\" title=\"psysml:bb92853b-9a42-4685-9891-57f30cbf18f8\" xlink:actuate=\"onRequest\" xlink:href=\"psysml:bb92853b-9a42-4685-9891-57f30cbf18f8\" xlink:show=\"new\" xlink:title=\"psysml:bb92853b-9a42-4685-9891-57f30cbf18f8\" xlink:type=\"simple\"><path d=\"M389.8,102.01 C388.24,117.56 386.11,138.89 384.23,157.68 \" fill=\"none\" id=\"E3-&gt;E2\" style=\"stroke: #A80036; stroke-width: 1.0;\"/><polygon fill=\"#FFFFFF\" points=\"382.23,177.72,377.1511,158.1188,391.0819,159.5089,382.23,177.72\" style=\"stroke: #A80036; stroke-width: 1.0;\"/><ellipse cx=\"379.7072\" cy=\"152.6456\" fill=\"#A80036\" rx=\"2\" ry=\"2\" style=\"stroke: #A80036; stroke-width: 1.0;\"/><ellipse cx=\"389.6578\" cy=\"153.6385\" fill=\"#A80036\" rx=\"2\" ry=\"2\" style=\"stroke: #A80036; stroke-width: 1.0;\"/></a><!--MD5=[62aa6af11e70f752912c1cb0466f24f7]\n",
       "reverse link E4 to E5--><a href=\"psysml:c7a4f64d-f76e-4f11-bab9-561a5696e580\" target=\"_top\" title=\"psysml:c7a4f64d-f76e-4f11-bab9-561a5696e580\" xlink:actuate=\"onRequest\" xlink:href=\"psysml:c7a4f64d-f76e-4f11-bab9-561a5696e580\" xlink:show=\"new\" xlink:title=\"psysml:c7a4f64d-f76e-4f11-bab9-561a5696e580\" xlink:type=\"simple\"><path d=\"M91,425.45 C91,441.34 91,457.51 91,470.98 \" fill=\"none\" id=\"E4&lt;-E5\" style=\"stroke: #A80036; stroke-width: 1.0;\"/><ellipse cx=\"91\" cy=\"418.4\" fill=\"#FFFFFF\" rx=\"8\" ry=\"8\" style=\"stroke: #A80036; stroke-width: 1.0;\"/><line style=\"stroke: #A80036; stroke-width: 1.0;\" x1=\"91\" x2=\"91\" y1=\"426.4\" y2=\"410.4\"/><line style=\"stroke: #A80036; stroke-width: 1.0;\" x1=\"83\" x2=\"99\" y1=\"418.4\" y2=\"418.4\"/></a><!--MD5=[c6fc7cdb0cabde04948078cf183fa696]\n",
       "reverse link E4 to E8--><a href=\"psysml:165156c7-6d13-47e8-9214-4efd9fbee902\" target=\"_top\" title=\"psysml:165156c7-6d13-47e8-9214-4efd9fbee902\" xlink:actuate=\"onRequest\" xlink:href=\"psysml:165156c7-6d13-47e8-9214-4efd9fbee902\" xlink:show=\"new\" xlink:title=\"psysml:165156c7-6d13-47e8-9214-4efd9fbee902\" xlink:type=\"simple\"><path d=\"M151.51,420.04 C172.42,441.99 194.47,465.14 210.03,481.48 \" fill=\"none\" id=\"E4&lt;-E8\" style=\"stroke: #A80036; stroke-width: 1.0;\"/><polygon fill=\"#A80036\" points=\"142.34,410.4,143.5779,417.5041,150.6116,419.0937,149.3737,411.9897,142.34,410.4\" style=\"stroke: #A80036; stroke-width: 1.0;\"/></a><!--MD5=[062ed86c389d1a88f61c6380d0491e17]\n",
       "reverse link E12 to E13--><a href=\"psysml:5a1cae69-7149-47dc-88a9-208fdbfbba4b\" target=\"_top\" title=\"psysml:5a1cae69-7149-47dc-88a9-208fdbfbba4b\" xlink:actuate=\"onRequest\" xlink:href=\"psysml:5a1cae69-7149-47dc-88a9-208fdbfbba4b\" xlink:show=\"new\" xlink:title=\"psysml:5a1cae69-7149-47dc-88a9-208fdbfbba4b\" xlink:type=\"simple\"><path d=\"M63.94,114.55 C70.38,134.88 78.33,160 83.95,177.72 \" fill=\"none\" id=\"E12&lt;-E13\" style=\"stroke: #A80036; stroke-width: 1.0;\"/><polygon fill=\"#A80036\" points=\"59.97,102.01,57.9712,108.9386,63.5981,113.4484,65.5968,106.5198,59.97,102.01\" style=\"stroke: #A80036; stroke-width: 1.0;\"/></a><!--MD5=[017847e01ff9a8bd19f247411074f987]\n",
       "link E13 to E4--><a href=\"psysml:9a693856-e1d7-4623-99b4-c4529bf04054\" target=\"_top\" title=\"psysml:9a693856-e1d7-4623-99b4-c4529bf04054\" xlink:actuate=\"onRequest\" xlink:href=\"psysml:9a693856-e1d7-4623-99b4-c4529bf04054\" xlink:show=\"new\" xlink:title=\"psysml:9a693856-e1d7-4623-99b4-c4529bf04054\" xlink:type=\"simple\"><path d=\"M91,224.17 C91,239.17 91,259.91 91,280.44 \" fill=\"none\" id=\"E13-&gt;E4\" style=\"stroke: #A80036; stroke-width: 1.0;\"/><polygon fill=\"#FFFFFF\" points=\"91,300.68,84,281.68,98,281.68,91,300.68\" style=\"stroke: #A80036; stroke-width: 1.0;\"/><ellipse cx=\"86\" cy=\"275.98\" fill=\"#A80036\" rx=\"2\" ry=\"2\" style=\"stroke: #A80036; stroke-width: 1.0;\"/><ellipse cx=\"96\" cy=\"275.98\" fill=\"#A80036\" rx=\"2\" ry=\"2\" style=\"stroke: #A80036; stroke-width: 1.0;\"/></a><!--MD5=[2cfe899c895462254056921bfb67315f]\n",
       "link E13 to E11--><a href=\"psysml:69852053-465c-4b3e-807c-2facd65a229c\" target=\"_top\" title=\"psysml:69852053-465c-4b3e-807c-2facd65a229c\" xlink:actuate=\"onRequest\" xlink:href=\"psysml:69852053-465c-4b3e-807c-2facd65a229c\" xlink:show=\"new\" xlink:title=\"psysml:69852053-465c-4b3e-807c-2facd65a229c\" xlink:type=\"simple\"><path d=\"M108.36,224.29 C123.87,244.28 147.14,274.45 167,301 C173.57,309.78 180.66,319.44 186.97,328.12 \" fill=\"none\" id=\"E13-&gt;E11\" style=\"stroke: #A80036; stroke-width: 1.0; stroke-dasharray: 7.0,7.0;\"/><polygon fill=\"#A80036\" points=\"189.99,332.28,187.9274,322.6496,187.0474,328.2376,181.4594,327.3576,189.99,332.28\" style=\"stroke: #A80036; stroke-width: 1.0;\"/><text fill=\"#000000\" font-family=\"sans-serif\" font-size=\"13\" lengthAdjust=\"spacingAndGlyphs\" textLength=\"57\" x=\"145\" y=\"267.0669\">«satisfy»</text></a><!--MD5=[dd1a68726d385f3c8860ac66c4f98a90]\n",
       "@startuml\r\n",
       "skinparam wrapWidth 300\r\n",
       "hide circle\r\n",
       "\r\n",
       "package \"RequirementTest\" as E1  [[psysml:7a32e4ca-d886-48d1-a22e-a4337a6af1e2 ]]  {\r\n",
       "comp def \"C\" as E2  <<(T,blue)constraint def>> [[psysml:c5fd5931-ea17-4576-af97-a79679b06835 ]] {\r\n",
       "}\r\n",
       "comp usage \"c: C\" as E3  <<(T,blue)constraint>> [[psysml:23e87db0-b26a-4449-ad29-18415d83eb38 ]] {\r\n",
       "}\r\n",
       "comp def \"R\" as E4  <<(T,blue)requirement def>> [[psysml:aa32b181-0a7a-45c2-8d8e-c84b0489ed31 ]] {\r\n",
       "\r\n",
       "- -\r\n",
       "- - constraints - -\r\n",
       "<b>require</b> c\r\n",
       "<i>assume</i> c1: C\r\n",
       "}\r\n",
       "comp def \" [<b>1</b>] A\" as E5  <<(T,blue)requirement def>> [[psysml:c7a4f64d-f76e-4f11-bab9-561a5696e580 ]] {\r\n",
       "Text\r\n",
       "- -\r\n",
       "}\r\n",
       "comp usage \"<s>noname</s>\" as E8  <<(T,blue)requirement>> [[psysml:165156c7-6d13-47e8-9214-4efd9fbee902 ]] {\r\n",
       "}\r\n",
       "comp def \"R1\" as E9  <<(T,blue)requirement def>> [[psysml:5b4d3eaf-f72e-4f96-998b-f4a0a57df239 ]] {\r\n",
       "- - constraints - -\r\n",
       "<b>require</b> <&bar-trig> c1 <s>RequirementTest::c</s>\r\n",
       "}\r\n",
       "comp usage \"p\" as E11  <<(T,blue)part>> [[psysml:8fb932f6-fc92-43ad-aa0e-8cfa7b71c9b3 ]] {\r\n",
       "}\r\n",
       "comp usage \"q\" as E12  <<(T,blue)part>> [[psysml:9b734dfd-0e44-4ae0-bd37-d0a03d4a12cd ]] {\r\n",
       "}\r\n",
       "comp usage \"r: R\" as E13  <<(T,blue)requirement>> [[psysml:5a1cae69-7149-47dc-88a9-208fdbfbba4b ]] {\r\n",
       "}\r\n",
       "E3 - -:|> E2 [[psysml:bb92853b-9a42-4685-9891-57f30cbf18f8 ]] \r\n",
       "E4 +- - E5 [[psysml:c7a4f64d-f76e-4f11-bab9-561a5696e580 ]] \r\n",
       "E4 *- - E8 [[psysml:165156c7-6d13-47e8-9214-4efd9fbee902 ]] \r\n",
       "E12 *- - E13 [[psysml:5a1cae69-7149-47dc-88a9-208fdbfbba4b ]] \r\n",
       "E13 - -:|> E4 [[psysml:9a693856-e1d7-4623-99b4-c4529bf04054 ]] \r\n",
       "E13 ..> E11 [[psysml:69852053-465c-4b3e-807c-2facd65a229c ]] : <<satisfy>>\r\n",
       "}\r\n",
       "@enduml\r\n",
       "\n",
       "PlantUML version 1.2020.13(Sat Jun 13 12:26:38 UTC 2020)\n",
       "(EPL source distribution)\n",
       "Java Runtime: OpenJDK Runtime Environment\n",
       "JVM: OpenJDK 64-Bit Server VM\n",
       "Default Encoding: UTF-8\n",
       "Language: en\n",
       "Country: null\n",
       "--></g></svg>"
      ]
     },
     "execution_count": 23,
     "metadata": {},
     "output_type": "execute_result"
    }
   ],
   "source": [
    "%viz --style=\"STDCOLOR\" --view=\"Default\" \"RequirementTest\""
   ]
  },
  {
   "cell_type": "code",
   "execution_count": 24,
   "id": "dressed-outdoors",
   "metadata": {
    "execution": {
     "iopub.execute_input": "2021-03-25T09:27:03.655331Z",
     "iopub.status.busy": "2021-03-25T09:27:03.650685Z",
     "iopub.status.idle": "2021-03-25T09:27:04.512492Z",
     "shell.execute_reply": "2021-03-25T09:27:04.512885Z"
    }
   },
   "outputs": [
    {
     "data": {
      "image/svg+xml": [
       "<?xml version=\"1.0\" encoding=\"UTF-8\" standalone=\"no\"?><svg xmlns=\"http://www.w3.org/2000/svg\" xmlns:xlink=\"http://www.w3.org/1999/xlink\" contentScriptType=\"application/ecmascript\" contentStyleType=\"text/css\" height=\"566px\" preserveAspectRatio=\"none\" style=\"width:470px;height:566px;\" version=\"1.1\" viewBox=\"0 0 470 566\" width=\"470px\" zoomAndPan=\"magnify\"><defs><filter height=\"300%\" id=\"f1dt5nks8p84qq\" width=\"300%\" x=\"-1\" y=\"-1\"><feGaussianBlur result=\"blurOut\" stdDeviation=\"2.0\"/><feColorMatrix in=\"blurOut\" result=\"blurOut2\" type=\"matrix\" values=\"0 0 0 0 0 0 0 0 0 0 0 0 0 0 0 0 0 0 .4 0\"/><feOffset dx=\"4.0\" dy=\"4.0\" in=\"blurOut2\" result=\"blurOut3\"/><feBlend in=\"SourceGraphic\" in2=\"blurOut3\" mode=\"normal\"/></filter></defs><g><!--MD5=[fbc87193dbaf4d95561dea2c320d4a47]\n",
       "cluster E1--><a href=\"psysml:7a32e4ca-d886-48d1-a22e-a4337a6af1e2\" target=\"_top\" title=\"psysml:7a32e4ca-d886-48d1-a22e-a4337a6af1e2\" xlink:actuate=\"onRequest\" xlink:href=\"psysml:7a32e4ca-d886-48d1-a22e-a4337a6af1e2\" xlink:show=\"new\" xlink:title=\"psysml:7a32e4ca-d886-48d1-a22e-a4337a6af1e2\" xlink:type=\"simple\"><polygon fill=\"#FFFFFF\" filter=\"url(#f1dt5nks8p84qq)\" points=\"16,6,158,6,165,28.2969,448,28.2969,448,554,16,554,16,6\" style=\"stroke: #000000; stroke-width: 1.5;\"/><line style=\"stroke: #000000; stroke-width: 1.5;\" x1=\"16\" x2=\"165\" y1=\"28.2969\" y2=\"28.2969\"/><text fill=\"#000000\" font-family=\"sans-serif\" font-size=\"14\" font-weight=\"bold\" lengthAdjust=\"spacingAndGlyphs\" textLength=\"136\" x=\"20\" y=\"20.9951\">RequirementTest</text></a><!--MD5=[b4997ac47864f28c2f74865a473b2911]\n",
       "class E2--><a href=\"psysml:c5fd5931-ea17-4576-af97-a79679b06835\" target=\"_top\" title=\"psysml:c5fd5931-ea17-4576-af97-a79679b06835\" xlink:actuate=\"onRequest\" xlink:href=\"psysml:c5fd5931-ea17-4576-af97-a79679b06835\" xlink:show=\"new\" xlink:title=\"psysml:c5fd5931-ea17-4576-af97-a79679b06835\" xlink:type=\"simple\"><rect fill=\"#FEFECE\" filter=\"url(#f1dt5nks8p84qq)\" height=\"45.9375\" id=\"E2\" style=\"stroke: #A80036; stroke-width: 1.5;\" width=\"104\" x=\"328\" y=\"178\"/><text fill=\"#000000\" font-family=\"sans-serif\" font-size=\"12\" font-style=\"italic\" lengthAdjust=\"spacingAndGlyphs\" textLength=\"102\" x=\"329\" y=\"194.1387\">«constraint def»</text><text fill=\"#000000\" font-family=\"sans-serif\" font-size=\"12\" lengthAdjust=\"spacingAndGlyphs\" textLength=\"8\" x=\"376\" y=\"208.1074\">C</text><line style=\"stroke: #A80036; stroke-width: 1.5;\" x1=\"329\" x2=\"431\" y1=\"215.9375\" y2=\"215.9375\"/></a><!--MD5=[09b614a08d8cba4a07c9adeb5e0fee81]\n",
       "class E3--><a href=\"psysml:23e87db0-b26a-4449-ad29-18415d83eb38\" target=\"_top\" title=\"psysml:23e87db0-b26a-4449-ad29-18415d83eb38\" xlink:actuate=\"onRequest\" xlink:href=\"psysml:23e87db0-b26a-4449-ad29-18415d83eb38\" xlink:show=\"new\" xlink:title=\"psysml:23e87db0-b26a-4449-ad29-18415d83eb38\" xlink:type=\"simple\"><rect fill=\"#FEFECE\" filter=\"url(#f1dt5nks8p84qq)\" height=\"45.9375\" id=\"E3\" rx=\"10\" ry=\"10\" style=\"stroke: #A80036; stroke-width: 1.5;\" width=\"80\" x=\"352\" y=\"56\"/><text fill=\"#000000\" font-family=\"sans-serif\" font-size=\"12\" font-style=\"italic\" lengthAdjust=\"spacingAndGlyphs\" textLength=\"78\" x=\"353\" y=\"72.1387\">«constraint»</text><text fill=\"#000000\" font-family=\"sans-serif\" font-size=\"12\" lengthAdjust=\"spacingAndGlyphs\" textLength=\"23\" x=\"380.5\" y=\"86.1074\">c: C</text><line style=\"stroke: #A80036; stroke-width: 1.5;\" x1=\"353\" x2=\"431\" y1=\"93.9375\" y2=\"93.9375\"/></a><!--MD5=[ebbe1d658d1005bcc118a6aa81145e00]\n",
       "class E4--><a href=\"psysml:aa32b181-0a7a-45c2-8d8e-c84b0489ed31\" target=\"_top\" title=\"psysml:aa32b181-0a7a-45c2-8d8e-c84b0489ed31\" xlink:actuate=\"onRequest\" xlink:href=\"psysml:aa32b181-0a7a-45c2-8d8e-c84b0489ed31\" xlink:show=\"new\" xlink:title=\"psysml:aa32b181-0a7a-45c2-8d8e-c84b0489ed31\" xlink:type=\"simple\"><rect fill=\"#FEFECE\" filter=\"url(#f1dt5nks8p84qq)\" height=\"109.1563\" id=\"E4\" style=\"stroke: #A80036; stroke-width: 1.5;\" width=\"117\" x=\"32.5\" y=\"301\"/><text fill=\"#000000\" font-family=\"sans-serif\" font-size=\"12\" font-style=\"italic\" lengthAdjust=\"spacingAndGlyphs\" textLength=\"115\" x=\"33.5\" y=\"317.1387\">«requirement def»</text><text fill=\"#000000\" font-family=\"sans-serif\" font-size=\"12\" lengthAdjust=\"spacingAndGlyphs\" textLength=\"8\" x=\"87\" y=\"331.1074\">R</text><line style=\"stroke: #A80036; stroke-width: 1.5;\" x1=\"33.5\" x2=\"148.5\" y1=\"338.9375\" y2=\"338.9375\"/><text fill=\"#000000\" font-family=\"sans-serif\" font-size=\"11\" lengthAdjust=\"spacingAndGlyphs\" textLength=\"0\" x=\"42.5\" y=\"353.1479\"/><line style=\"stroke: #A80036; stroke-width: 1.0;\" x1=\"33.5\" x2=\"148.5\" y1=\"359.7422\" y2=\"359.7422\"/><text fill=\"#000000\" font-family=\"sans-serif\" font-size=\"11\" font-weight=\"bold\" lengthAdjust=\"spacingAndGlyphs\" textLength=\"46\" x=\"38.5\" y=\"390.7573\">require</text><text fill=\"#000000\" font-family=\"sans-serif\" font-size=\"11\" lengthAdjust=\"spacingAndGlyphs\" textLength=\"6\" x=\"88.5\" y=\"390.7573\">c</text><text fill=\"#000000\" font-family=\"sans-serif\" font-size=\"11\" font-style=\"italic\" lengthAdjust=\"spacingAndGlyphs\" textLength=\"46\" x=\"38.5\" y=\"403.562\">assume</text><text fill=\"#000000\" font-family=\"sans-serif\" font-size=\"11\" lengthAdjust=\"spacingAndGlyphs\" textLength=\"29\" x=\"88.5\" y=\"403.562\">c1: C</text><line style=\"stroke: #A80036; stroke-width: 1.0;\" x1=\"33.5\" x2=\"59\" y1=\"374.1445\" y2=\"374.1445\"/><text fill=\"#000000\" font-family=\"sans-serif\" font-size=\"11\" lengthAdjust=\"spacingAndGlyphs\" textLength=\"64\" x=\"59\" y=\"377.4526\">constraints</text><line style=\"stroke: #A80036; stroke-width: 1.0;\" x1=\"123\" x2=\"148.5\" y1=\"374.1445\" y2=\"374.1445\"/></a><!--MD5=[270fce915f116d4de14055a7c1d9a0f3]\n",
       "class E5--><a href=\"psysml:c7a4f64d-f76e-4f11-bab9-561a5696e580\" target=\"_top\" title=\"psysml:c7a4f64d-f76e-4f11-bab9-561a5696e580\" xlink:actuate=\"onRequest\" xlink:href=\"psysml:c7a4f64d-f76e-4f11-bab9-561a5696e580\" xlink:show=\"new\" xlink:title=\"psysml:c7a4f64d-f76e-4f11-bab9-561a5696e580\" xlink:type=\"simple\"><rect fill=\"#FEFECE\" filter=\"url(#f1dt5nks8p84qq)\" height=\"66.7422\" id=\"E5\" style=\"stroke: #A80036; stroke-width: 1.5;\" width=\"117\" x=\"32.5\" y=\"471\"/><text fill=\"#000000\" font-family=\"sans-serif\" font-size=\"12\" font-style=\"italic\" lengthAdjust=\"spacingAndGlyphs\" textLength=\"115\" x=\"33.5\" y=\"487.1387\">«requirement def»</text><text fill=\"#000000\" font-family=\"sans-serif\" font-size=\"12\" lengthAdjust=\"spacingAndGlyphs\" textLength=\"5\" x=\"78\" y=\"501.1074\">[</text><text fill=\"#000000\" font-family=\"sans-serif\" font-size=\"12\" font-weight=\"bold\" lengthAdjust=\"spacingAndGlyphs\" textLength=\"8\" x=\"83\" y=\"501.1074\">1</text><text fill=\"#000000\" font-family=\"sans-serif\" font-size=\"12\" lengthAdjust=\"spacingAndGlyphs\" textLength=\"17\" x=\"91\" y=\"501.1074\">] A</text><line style=\"stroke: #A80036; stroke-width: 1.5;\" x1=\"33.5\" x2=\"148.5\" y1=\"508.9375\" y2=\"508.9375\"/><text fill=\"#000000\" font-family=\"sans-serif\" font-size=\"11\" lengthAdjust=\"spacingAndGlyphs\" textLength=\"24\" x=\"38.5\" y=\"523.1479\">Text</text><line style=\"stroke: #A80036; stroke-width: 1.0;\" x1=\"33.5\" x2=\"148.5\" y1=\"529.7422\" y2=\"529.7422\"/></a><!--MD5=[b9389687b975829384b498ac4b7476b2]\n",
       "class E8--><a href=\"psysml:165156c7-6d13-47e8-9214-4efd9fbee902\" target=\"_top\" title=\"psysml:165156c7-6d13-47e8-9214-4efd9fbee902\" xlink:actuate=\"onRequest\" xlink:href=\"psysml:165156c7-6d13-47e8-9214-4efd9fbee902\" xlink:show=\"new\" xlink:title=\"psysml:165156c7-6d13-47e8-9214-4efd9fbee902\" xlink:type=\"simple\"><rect fill=\"#FEFECE\" filter=\"url(#f1dt5nks8p84qq)\" height=\"45.9375\" id=\"E8\" rx=\"10\" ry=\"10\" style=\"stroke: #A80036; stroke-width: 1.5;\" width=\"93\" x=\"184.5\" y=\"481.5\"/><text fill=\"#000000\" font-family=\"sans-serif\" font-size=\"12\" font-style=\"italic\" lengthAdjust=\"spacingAndGlyphs\" textLength=\"91\" x=\"185.5\" y=\"497.6387\">«requirement»</text><text fill=\"#000000\" font-family=\"sans-serif\" font-size=\"12\" lengthAdjust=\"spacingAndGlyphs\" text-decoration=\"line-through\" textLength=\"51\" x=\"205.5\" y=\"511.6074\">noname</text><line style=\"stroke: #A80036; stroke-width: 1.5;\" x1=\"185.5\" x2=\"276.5\" y1=\"519.4375\" y2=\"519.4375\"/></a><!--MD5=[fd4143e9d270a159db93a4ea2a975926]\n",
       "class E9--><a href=\"psysml:5b4d3eaf-f72e-4f96-998b-f4a0a57df239\" target=\"_top\" title=\"psysml:5b4d3eaf-f72e-4f96-998b-f4a0a57df239\" xlink:actuate=\"onRequest\" xlink:href=\"psysml:5b4d3eaf-f72e-4f96-998b-f4a0a57df239\" xlink:show=\"new\" xlink:title=\"psysml:5b4d3eaf-f72e-4f96-998b-f4a0a57df239\" xlink:type=\"simple\"><rect fill=\"#FEFECE\" filter=\"url(#f1dt5nks8p84qq)\" height=\"76.4922\" id=\"E9\" style=\"stroke: #A80036; stroke-width: 1.5;\" width=\"207\" x=\"109.5\" y=\"41\"/><text fill=\"#000000\" font-family=\"sans-serif\" font-size=\"12\" font-style=\"italic\" lengthAdjust=\"spacingAndGlyphs\" textLength=\"115\" x=\"155.5\" y=\"57.1387\">«requirement def»</text><text fill=\"#000000\" font-family=\"sans-serif\" font-size=\"12\" lengthAdjust=\"spacingAndGlyphs\" textLength=\"16\" x=\"205\" y=\"71.1074\">R1</text><line style=\"stroke: #A80036; stroke-width: 1.5;\" x1=\"110.5\" x2=\"315.5\" y1=\"78.9375\" y2=\"78.9375\"/><text fill=\"#000000\" font-family=\"sans-serif\" font-size=\"11\" font-weight=\"bold\" lengthAdjust=\"spacingAndGlyphs\" textLength=\"46\" x=\"115.5\" y=\"110.8979\">require</text><text fill=\"#000000\" font-family=\"sans-serif\" font-size=\"11\" lengthAdjust=\"spacingAndGlyphs\" textLength=\"0\" x=\"165.5\" y=\"110.8979\"/><path d=\"M167.4167,100.6589 L167.4167,109.8255 L168.3333,109.8255 L168.3333,100.6589 M171.0833,100.6589 L171.0833,109.8255 L178.4167,105.2422 L171.0833,100.6589 L172,102.0339 L177.0417,105.2422 L172,108.4505 L172,102.0339 \" fill=\"#000000\" style=\"stroke: ; stroke-width: 0.0; stroke-dasharray: ;\"/><text fill=\"#000000\" font-family=\"sans-serif\" font-size=\"11\" lengthAdjust=\"spacingAndGlyphs\" textLength=\"13\" x=\"182.5\" y=\"110.8979\">c1</text><text fill=\"#000000\" font-family=\"sans-serif\" font-size=\"11\" lengthAdjust=\"spacingAndGlyphs\" text-decoration=\"line-through\" textLength=\"111\" x=\"199.5\" y=\"110.8979\">RequirementTest::c</text><line style=\"stroke: #A80036; stroke-width: 1.0;\" x1=\"110.5\" x2=\"181\" y1=\"93.3398\" y2=\"93.3398\"/><text fill=\"#000000\" font-family=\"sans-serif\" font-size=\"11\" lengthAdjust=\"spacingAndGlyphs\" textLength=\"64\" x=\"181\" y=\"96.6479\">constraints</text><line style=\"stroke: #A80036; stroke-width: 1.0;\" x1=\"245\" x2=\"315.5\" y1=\"93.3398\" y2=\"93.3398\"/></a><!--MD5=[1dd1bfd58a279cf63c5f349dbc8fc6a1]\n",
       "class E11--><a href=\"psysml:8fb932f6-fc92-43ad-aa0e-8cfa7b71c9b3\" target=\"_top\" title=\"psysml:8fb932f6-fc92-43ad-aa0e-8cfa7b71c9b3\" xlink:actuate=\"onRequest\" xlink:href=\"psysml:8fb932f6-fc92-43ad-aa0e-8cfa7b71c9b3\" xlink:show=\"new\" xlink:title=\"psysml:8fb932f6-fc92-43ad-aa0e-8cfa7b71c9b3\" xlink:type=\"simple\"><rect fill=\"#FEFECE\" filter=\"url(#f1dt5nks8p84qq)\" height=\"45.9375\" id=\"E11\" rx=\"10\" ry=\"10\" style=\"stroke: #A80036; stroke-width: 1.5;\" width=\"42\" x=\"185\" y=\"332.5\"/><text fill=\"#000000\" font-family=\"sans-serif\" font-size=\"12\" font-style=\"italic\" lengthAdjust=\"spacingAndGlyphs\" textLength=\"40\" x=\"186\" y=\"348.6387\">«part»</text><text fill=\"#000000\" font-family=\"sans-serif\" font-size=\"12\" lengthAdjust=\"spacingAndGlyphs\" textLength=\"8\" x=\"202\" y=\"362.6074\">p</text><line style=\"stroke: #A80036; stroke-width: 1.5;\" x1=\"186\" x2=\"226\" y1=\"370.4375\" y2=\"370.4375\"/></a><!--MD5=[49a0ec8f00dab7302a31f22d0f0fe584]\n",
       "class E12--><a href=\"psysml:9b734dfd-0e44-4ae0-bd37-d0a03d4a12cd\" target=\"_top\" title=\"psysml:9b734dfd-0e44-4ae0-bd37-d0a03d4a12cd\" xlink:actuate=\"onRequest\" xlink:href=\"psysml:9b734dfd-0e44-4ae0-bd37-d0a03d4a12cd\" xlink:show=\"new\" xlink:title=\"psysml:9b734dfd-0e44-4ae0-bd37-d0a03d4a12cd\" xlink:type=\"simple\"><rect fill=\"#FEFECE\" filter=\"url(#f1dt5nks8p84qq)\" height=\"45.9375\" id=\"E12\" rx=\"10\" ry=\"10\" style=\"stroke: #A80036; stroke-width: 1.5;\" width=\"42\" x=\"32\" y=\"56\"/><text fill=\"#000000\" font-family=\"sans-serif\" font-size=\"12\" font-style=\"italic\" lengthAdjust=\"spacingAndGlyphs\" textLength=\"40\" x=\"33\" y=\"72.1387\">«part»</text><text fill=\"#000000\" font-family=\"sans-serif\" font-size=\"12\" lengthAdjust=\"spacingAndGlyphs\" textLength=\"8\" x=\"49\" y=\"86.1074\">q</text><line style=\"stroke: #A80036; stroke-width: 1.5;\" x1=\"33\" x2=\"73\" y1=\"93.9375\" y2=\"93.9375\"/></a><!--MD5=[ee3c913d1a06f366521f9ef512b67efe]\n",
       "class E13--><a href=\"psysml:5a1cae69-7149-47dc-88a9-208fdbfbba4b\" target=\"_top\" title=\"psysml:5a1cae69-7149-47dc-88a9-208fdbfbba4b\" xlink:actuate=\"onRequest\" xlink:href=\"psysml:5a1cae69-7149-47dc-88a9-208fdbfbba4b\" xlink:show=\"new\" xlink:title=\"psysml:5a1cae69-7149-47dc-88a9-208fdbfbba4b\" xlink:type=\"simple\"><rect fill=\"#FEFECE\" filter=\"url(#f1dt5nks8p84qq)\" height=\"45.9375\" id=\"E13\" rx=\"10\" ry=\"10\" style=\"stroke: #A80036; stroke-width: 1.5;\" width=\"93\" x=\"44.5\" y=\"178\"/><text fill=\"#000000\" font-family=\"sans-serif\" font-size=\"12\" font-style=\"italic\" lengthAdjust=\"spacingAndGlyphs\" textLength=\"91\" x=\"45.5\" y=\"194.1387\">«requirement»</text><text fill=\"#000000\" font-family=\"sans-serif\" font-size=\"12\" lengthAdjust=\"spacingAndGlyphs\" textLength=\"21\" x=\"80.5\" y=\"208.1074\">r: R</text><line style=\"stroke: #A80036; stroke-width: 1.5;\" x1=\"45.5\" x2=\"136.5\" y1=\"215.9375\" y2=\"215.9375\"/></a><!--MD5=[05d275557350bfb9b23a4ef7222b4c39]\n",
       "link E3 to E2--><a href=\"psysml:bb92853b-9a42-4685-9891-57f30cbf18f8\" target=\"_top\" title=\"psysml:bb92853b-9a42-4685-9891-57f30cbf18f8\" xlink:actuate=\"onRequest\" xlink:href=\"psysml:bb92853b-9a42-4685-9891-57f30cbf18f8\" xlink:show=\"new\" xlink:title=\"psysml:bb92853b-9a42-4685-9891-57f30cbf18f8\" xlink:type=\"simple\"><path d=\"M389.8,102.01 C388.24,117.56 386.11,138.89 384.23,157.68 \" fill=\"none\" id=\"E3-&gt;E2\" style=\"stroke: #A80036; stroke-width: 1.0;\"/><polygon fill=\"#FFFFFF\" points=\"382.23,177.72,377.1511,158.1188,391.0819,159.5089,382.23,177.72\" style=\"stroke: #A80036; stroke-width: 1.0;\"/><ellipse cx=\"379.7072\" cy=\"152.6456\" fill=\"#A80036\" rx=\"2\" ry=\"2\" style=\"stroke: #A80036; stroke-width: 1.0;\"/><ellipse cx=\"389.6578\" cy=\"153.6385\" fill=\"#A80036\" rx=\"2\" ry=\"2\" style=\"stroke: #A80036; stroke-width: 1.0;\"/></a><!--MD5=[62aa6af11e70f752912c1cb0466f24f7]\n",
       "reverse link E4 to E5--><a href=\"psysml:c7a4f64d-f76e-4f11-bab9-561a5696e580\" target=\"_top\" title=\"psysml:c7a4f64d-f76e-4f11-bab9-561a5696e580\" xlink:actuate=\"onRequest\" xlink:href=\"psysml:c7a4f64d-f76e-4f11-bab9-561a5696e580\" xlink:show=\"new\" xlink:title=\"psysml:c7a4f64d-f76e-4f11-bab9-561a5696e580\" xlink:type=\"simple\"><path d=\"M91,425.45 C91,441.34 91,457.51 91,470.98 \" fill=\"none\" id=\"E4&lt;-E5\" style=\"stroke: #A80036; stroke-width: 1.0;\"/><ellipse cx=\"91\" cy=\"418.4\" fill=\"#FFFFFF\" rx=\"8\" ry=\"8\" style=\"stroke: #A80036; stroke-width: 1.0;\"/><line style=\"stroke: #A80036; stroke-width: 1.0;\" x1=\"91\" x2=\"91\" y1=\"426.4\" y2=\"410.4\"/><line style=\"stroke: #A80036; stroke-width: 1.0;\" x1=\"83\" x2=\"99\" y1=\"418.4\" y2=\"418.4\"/></a><!--MD5=[c6fc7cdb0cabde04948078cf183fa696]\n",
       "reverse link E4 to E8--><a href=\"psysml:165156c7-6d13-47e8-9214-4efd9fbee902\" target=\"_top\" title=\"psysml:165156c7-6d13-47e8-9214-4efd9fbee902\" xlink:actuate=\"onRequest\" xlink:href=\"psysml:165156c7-6d13-47e8-9214-4efd9fbee902\" xlink:show=\"new\" xlink:title=\"psysml:165156c7-6d13-47e8-9214-4efd9fbee902\" xlink:type=\"simple\"><path d=\"M151.51,420.04 C172.42,441.99 194.47,465.14 210.03,481.48 \" fill=\"none\" id=\"E4&lt;-E8\" style=\"stroke: #A80036; stroke-width: 1.0;\"/><polygon fill=\"#A80036\" points=\"142.34,410.4,143.5779,417.5041,150.6116,419.0937,149.3737,411.9897,142.34,410.4\" style=\"stroke: #A80036; stroke-width: 1.0;\"/></a><!--MD5=[062ed86c389d1a88f61c6380d0491e17]\n",
       "reverse link E12 to E13--><a href=\"psysml:5a1cae69-7149-47dc-88a9-208fdbfbba4b\" target=\"_top\" title=\"psysml:5a1cae69-7149-47dc-88a9-208fdbfbba4b\" xlink:actuate=\"onRequest\" xlink:href=\"psysml:5a1cae69-7149-47dc-88a9-208fdbfbba4b\" xlink:show=\"new\" xlink:title=\"psysml:5a1cae69-7149-47dc-88a9-208fdbfbba4b\" xlink:type=\"simple\"><path d=\"M63.94,114.55 C70.38,134.88 78.33,160 83.95,177.72 \" fill=\"none\" id=\"E12&lt;-E13\" style=\"stroke: #A80036; stroke-width: 1.0;\"/><polygon fill=\"#A80036\" points=\"59.97,102.01,57.9712,108.9386,63.5981,113.4484,65.5968,106.5198,59.97,102.01\" style=\"stroke: #A80036; stroke-width: 1.0;\"/></a><!--MD5=[017847e01ff9a8bd19f247411074f987]\n",
       "link E13 to E4--><a href=\"psysml:9a693856-e1d7-4623-99b4-c4529bf04054\" target=\"_top\" title=\"psysml:9a693856-e1d7-4623-99b4-c4529bf04054\" xlink:actuate=\"onRequest\" xlink:href=\"psysml:9a693856-e1d7-4623-99b4-c4529bf04054\" xlink:show=\"new\" xlink:title=\"psysml:9a693856-e1d7-4623-99b4-c4529bf04054\" xlink:type=\"simple\"><path d=\"M91,224.17 C91,239.17 91,259.91 91,280.44 \" fill=\"none\" id=\"E13-&gt;E4\" style=\"stroke: #A80036; stroke-width: 1.0;\"/><polygon fill=\"#FFFFFF\" points=\"91,300.68,84,281.68,98,281.68,91,300.68\" style=\"stroke: #A80036; stroke-width: 1.0;\"/><ellipse cx=\"86\" cy=\"275.98\" fill=\"#A80036\" rx=\"2\" ry=\"2\" style=\"stroke: #A80036; stroke-width: 1.0;\"/><ellipse cx=\"96\" cy=\"275.98\" fill=\"#A80036\" rx=\"2\" ry=\"2\" style=\"stroke: #A80036; stroke-width: 1.0;\"/></a><!--MD5=[2cfe899c895462254056921bfb67315f]\n",
       "link E13 to E11--><a href=\"psysml:69852053-465c-4b3e-807c-2facd65a229c\" target=\"_top\" title=\"psysml:69852053-465c-4b3e-807c-2facd65a229c\" xlink:actuate=\"onRequest\" xlink:href=\"psysml:69852053-465c-4b3e-807c-2facd65a229c\" xlink:show=\"new\" xlink:title=\"psysml:69852053-465c-4b3e-807c-2facd65a229c\" xlink:type=\"simple\"><path d=\"M108.36,224.29 C123.87,244.28 147.14,274.45 167,301 C173.57,309.78 180.66,319.44 186.97,328.12 \" fill=\"none\" id=\"E13-&gt;E11\" style=\"stroke: #A80036; stroke-width: 1.0; stroke-dasharray: 7.0,7.0;\"/><polygon fill=\"#A80036\" points=\"189.99,332.28,187.9274,322.6496,187.0474,328.2376,181.4594,327.3576,189.99,332.28\" style=\"stroke: #A80036; stroke-width: 1.0;\"/><text fill=\"#000000\" font-family=\"sans-serif\" font-size=\"13\" lengthAdjust=\"spacingAndGlyphs\" textLength=\"57\" x=\"145\" y=\"267.0669\">«satisfy»</text></a><!--MD5=[dd1a68726d385f3c8860ac66c4f98a90]\n",
       "@startuml\r\n",
       "skinparam wrapWidth 300\r\n",
       "hide circle\r\n",
       "\r\n",
       "package \"RequirementTest\" as E1  [[psysml:7a32e4ca-d886-48d1-a22e-a4337a6af1e2 ]]  {\r\n",
       "comp def \"C\" as E2  <<(T,blue)constraint def>> [[psysml:c5fd5931-ea17-4576-af97-a79679b06835 ]] {\r\n",
       "}\r\n",
       "comp usage \"c: C\" as E3  <<(T,blue)constraint>> [[psysml:23e87db0-b26a-4449-ad29-18415d83eb38 ]] {\r\n",
       "}\r\n",
       "comp def \"R\" as E4  <<(T,blue)requirement def>> [[psysml:aa32b181-0a7a-45c2-8d8e-c84b0489ed31 ]] {\r\n",
       "\r\n",
       "- -\r\n",
       "- - constraints - -\r\n",
       "<b>require</b> c\r\n",
       "<i>assume</i> c1: C\r\n",
       "}\r\n",
       "comp def \" [<b>1</b>] A\" as E5  <<(T,blue)requirement def>> [[psysml:c7a4f64d-f76e-4f11-bab9-561a5696e580 ]] {\r\n",
       "Text\r\n",
       "- -\r\n",
       "}\r\n",
       "comp usage \"<s>noname</s>\" as E8  <<(T,blue)requirement>> [[psysml:165156c7-6d13-47e8-9214-4efd9fbee902 ]] {\r\n",
       "}\r\n",
       "comp def \"R1\" as E9  <<(T,blue)requirement def>> [[psysml:5b4d3eaf-f72e-4f96-998b-f4a0a57df239 ]] {\r\n",
       "- - constraints - -\r\n",
       "<b>require</b> <&bar-trig> c1 <s>RequirementTest::c</s>\r\n",
       "}\r\n",
       "comp usage \"p\" as E11  <<(T,blue)part>> [[psysml:8fb932f6-fc92-43ad-aa0e-8cfa7b71c9b3 ]] {\r\n",
       "}\r\n",
       "comp usage \"q\" as E12  <<(T,blue)part>> [[psysml:9b734dfd-0e44-4ae0-bd37-d0a03d4a12cd ]] {\r\n",
       "}\r\n",
       "comp usage \"r: R\" as E13  <<(T,blue)requirement>> [[psysml:5a1cae69-7149-47dc-88a9-208fdbfbba4b ]] {\r\n",
       "}\r\n",
       "E3 - -:|> E2 [[psysml:bb92853b-9a42-4685-9891-57f30cbf18f8 ]] \r\n",
       "E4 +- - E5 [[psysml:c7a4f64d-f76e-4f11-bab9-561a5696e580 ]] \r\n",
       "E4 *- - E8 [[psysml:165156c7-6d13-47e8-9214-4efd9fbee902 ]] \r\n",
       "E12 *- - E13 [[psysml:5a1cae69-7149-47dc-88a9-208fdbfbba4b ]] \r\n",
       "E13 - -:|> E4 [[psysml:9a693856-e1d7-4623-99b4-c4529bf04054 ]] \r\n",
       "E13 ..> E11 [[psysml:69852053-465c-4b3e-807c-2facd65a229c ]] : <<satisfy>>\r\n",
       "}\r\n",
       "@enduml\r\n",
       "\n",
       "PlantUML version 1.2020.13(Sat Jun 13 12:26:38 UTC 2020)\n",
       "(EPL source distribution)\n",
       "Java Runtime: OpenJDK Runtime Environment\n",
       "JVM: OpenJDK 64-Bit Server VM\n",
       "Default Encoding: UTF-8\n",
       "Language: en\n",
       "Country: null\n",
       "--></g></svg>"
      ]
     },
     "execution_count": 24,
     "metadata": {},
     "output_type": "execute_result"
    }
   ],
   "source": [
    "%viz --style=\"STDCOLOR\" --view=\"Tree\" \"RequirementTest\""
   ]
  },
  {
   "cell_type": "code",
   "execution_count": 25,
   "id": "catholic-makeup",
   "metadata": {
    "execution": {
     "iopub.execute_input": "2021-03-25T09:27:04.565528Z",
     "iopub.status.busy": "2021-03-25T09:27:04.564649Z",
     "iopub.status.idle": "2021-03-25T09:27:04.572143Z",
     "shell.execute_reply": "2021-03-25T09:27:04.572575Z"
    }
   },
   "outputs": [
    {
     "data": {
      "image/svg+xml": [
       "<?xml version=\"1.0\" encoding=\"UTF-8\" standalone=\"no\"?><svg xmlns=\"http://www.w3.org/2000/svg\" xmlns:xlink=\"http://www.w3.org/1999/xlink\" contentScriptType=\"application/ecmascript\" contentStyleType=\"text/css\" height=\"12px\" preserveAspectRatio=\"none\" style=\"width:12px;height:12px;\" version=\"1.1\" viewBox=\"0 0 12 12\" width=\"12px\" zoomAndPan=\"magnify\"><defs/><g><!--MD5=[aeeef50f102b80d730deb6443d14f702]\n",
       "@startuml\r\n",
       "skinparam wrapWidth 300\r\n",
       "hide circle\r\n",
       "\r\n",
       "@enduml\r\n",
       "\n",
       "PlantUML version 1.2020.13(Sat Jun 13 12:26:38 UTC 2020)\n",
       "(EPL source distribution)\n",
       "Java Runtime: OpenJDK Runtime Environment\n",
       "JVM: OpenJDK 64-Bit Server VM\n",
       "Default Encoding: UTF-8\n",
       "Language: en\n",
       "Country: null\n",
       "--></g></svg>"
      ]
     },
     "execution_count": 25,
     "metadata": {},
     "output_type": "execute_result"
    }
   ],
   "source": [
    "%viz --style=\"STDCOLOR\" --view=\"State\" \"RequirementTest\""
   ]
  },
  {
   "cell_type": "code",
   "execution_count": 26,
   "id": "toxic-voice",
   "metadata": {
    "execution": {
     "iopub.execute_input": "2021-03-25T09:27:04.624620Z",
     "iopub.status.busy": "2021-03-25T09:27:04.624082Z",
     "iopub.status.idle": "2021-03-25T09:27:04.741890Z",
     "shell.execute_reply": "2021-03-25T09:27:04.740531Z"
    }
   },
   "outputs": [
    {
     "data": {
      "image/svg+xml": [
       "<?xml version=\"1.0\" encoding=\"UTF-8\" standalone=\"no\"?><svg xmlns=\"http://www.w3.org/2000/svg\" xmlns:xlink=\"http://www.w3.org/1999/xlink\" contentScriptType=\"application/ecmascript\" contentStyleType=\"text/css\" height=\"367px\" preserveAspectRatio=\"none\" style=\"width:852px;height:367px;\" version=\"1.1\" viewBox=\"0 0 852 367\" width=\"852px\" zoomAndPan=\"magnify\"><defs><filter height=\"300%\" id=\"f1dxac2qm7s4ak\" width=\"300%\" x=\"-1\" y=\"-1\"><feGaussianBlur result=\"blurOut\" stdDeviation=\"2.0\"/><feColorMatrix in=\"blurOut\" result=\"blurOut2\" type=\"matrix\" values=\"0 0 0 0 0 0 0 0 0 0 0 0 0 0 0 0 0 0 .4 0\"/><feOffset dx=\"4.0\" dy=\"4.0\" in=\"blurOut2\" result=\"blurOut3\"/><feBlend in=\"SourceGraphic\" in2=\"blurOut3\" mode=\"normal\"/></filter></defs><g><!--MD5=[fbc87193dbaf4d95561dea2c320d4a47]\n",
       "cluster E1--><a href=\"psysml:7a32e4ca-d886-48d1-a22e-a4337a6af1e2\" target=\"_top\" title=\"psysml:7a32e4ca-d886-48d1-a22e-a4337a6af1e2\" xlink:actuate=\"onRequest\" xlink:href=\"psysml:7a32e4ca-d886-48d1-a22e-a4337a6af1e2\" xlink:show=\"new\" xlink:title=\"psysml:7a32e4ca-d886-48d1-a22e-a4337a6af1e2\" xlink:type=\"simple\"><polygon fill=\"#FFFFFF\" filter=\"url(#f1dxac2qm7s4ak)\" points=\"16,6,158,6,165,28.2969,830,28.2969,830,355,16,355,16,6\" style=\"stroke: #000000; stroke-width: 1.5;\"/><line style=\"stroke: #000000; stroke-width: 1.5;\" x1=\"16\" x2=\"165\" y1=\"28.2969\" y2=\"28.2969\"/><text fill=\"#000000\" font-family=\"sans-serif\" font-size=\"14\" font-weight=\"bold\" lengthAdjust=\"spacingAndGlyphs\" textLength=\"136\" x=\"20\" y=\"20.9951\">RequirementTest</text></a><!--MD5=[168fadf3d0c3fd93dd5d6da1b1d7ab76]\n",
       "cluster E7--><a href=\"psysml:9b734dfd-0e44-4ae0-bd37-d0a03d4a12cd\" target=\"_top\" title=\"psysml:9b734dfd-0e44-4ae0-bd37-d0a03d4a12cd\" xlink:actuate=\"onRequest\" xlink:href=\"psysml:9b734dfd-0e44-4ae0-bd37-d0a03d4a12cd\" xlink:show=\"new\" xlink:title=\"psysml:9b734dfd-0e44-4ae0-bd37-d0a03d4a12cd\" xlink:type=\"simple\"><rect fill=\"#FFFFFF\" filter=\"url(#f1dxac2qm7s4ak)\" height=\"209\" id=\"E7\" rx=\"10\" ry=\"10\" style=\"stroke: #A80036; stroke-width: 1.5;\" width=\"213\" x=\"593\" y=\"49\"/><rect fill=\"#FEFECE\" height=\"23.9688\" rx=\"10\" ry=\"10\" style=\"stroke: #FEFECE; stroke-width: 1.5;\" width=\"213\" x=\"593\" y=\"49\"/><rect fill=\"#FEFECE\" height=\"10\" style=\"stroke: #FEFECE; stroke-width: 1.5;\" width=\"213\" x=\"593\" y=\"62.9688\"/><rect fill=\"none\" height=\"209\" id=\"E7\" rx=\"10\" ry=\"10\" style=\"stroke: #A80036; stroke-width: 1.5;\" width=\"213\" x=\"593\" y=\"49\"/><text fill=\"#000000\" font-family=\"sans-serif\" font-size=\"12\" lengthAdjust=\"spacingAndGlyphs\" textLength=\"8\" x=\"695.5\" y=\"65.1387\">q</text><line style=\"stroke: #A80036; stroke-width: 1.0;\" x1=\"593\" x2=\"806\" y1=\"72.9688\" y2=\"72.9688\"/></a><!--MD5=[55dfccfc6c49c2d10cd1bd2211a6c90c]\n",
       "cluster E8--><a href=\"psysml:5a1cae69-7149-47dc-88a9-208fdbfbba4b\" target=\"_top\" title=\"psysml:5a1cae69-7149-47dc-88a9-208fdbfbba4b\" xlink:actuate=\"onRequest\" xlink:href=\"psysml:5a1cae69-7149-47dc-88a9-208fdbfbba4b\" xlink:show=\"new\" xlink:title=\"psysml:5a1cae69-7149-47dc-88a9-208fdbfbba4b\" xlink:type=\"simple\"><rect fill=\"#FFFFFF\" filter=\"url(#f1dxac2qm7s4ak)\" height=\"126\" id=\"E8\" rx=\"10\" ry=\"10\" style=\"stroke: #A80036; stroke-width: 1.5;\" width=\"149\" x=\"625\" y=\"100\"/><rect fill=\"#FEFECE\" height=\"37.9375\" rx=\"10\" ry=\"10\" style=\"stroke: #FEFECE; stroke-width: 1.5;\" width=\"149\" x=\"625\" y=\"100\"/><rect fill=\"#FEFECE\" height=\"10\" style=\"stroke: #FEFECE; stroke-width: 1.5;\" width=\"149\" x=\"625\" y=\"127.9375\"/><rect fill=\"none\" height=\"126\" id=\"E8\" rx=\"10\" ry=\"10\" style=\"stroke: #A80036; stroke-width: 1.5;\" width=\"149\" x=\"625\" y=\"100\"/><text fill=\"#000000\" font-family=\"sans-serif\" font-size=\"12\" font-style=\"italic\" lengthAdjust=\"spacingAndGlyphs\" textLength=\"91\" x=\"654\" y=\"116.1387\">«requirement»</text><text fill=\"#000000\" font-family=\"sans-serif\" font-size=\"12\" lengthAdjust=\"spacingAndGlyphs\" textLength=\"21\" x=\"689\" y=\"130.1074\">r: R</text><line style=\"stroke: #A80036; stroke-width: 1.0;\" x1=\"625\" x2=\"774\" y1=\"137.9375\" y2=\"137.9375\"/></a><g id=\"E1.E2\"><a href=\"psysml:c5fd5931-ea17-4576-af97-a79679b06835\" target=\"_top\" title=\"psysml:c5fd5931-ea17-4576-af97-a79679b06835\" xlink:actuate=\"onRequest\" xlink:href=\"psysml:c5fd5931-ea17-4576-af97-a79679b06835\" xlink:show=\"new\" xlink:title=\"psysml:c5fd5931-ea17-4576-af97-a79679b06835\" xlink:type=\"simple\"><rect fill=\"#FEFECE\" filter=\"url(#f1dxac2qm7s4ak)\" height=\"42.9375\" id=\"E2\" style=\"stroke: #A80036; stroke-width: 1.5;\" width=\"109\" x=\"467.5\" y=\"159\"/><text fill=\"#000000\" font-family=\"sans-serif\" font-size=\"12\" font-style=\"italic\" lengthAdjust=\"spacingAndGlyphs\" textLength=\"102\" x=\"471\" y=\"175.1387\">«constraint def»</text><text fill=\"#000000\" font-family=\"sans-serif\" font-size=\"12\" lengthAdjust=\"spacingAndGlyphs\" textLength=\"8\" x=\"518\" y=\"189.1074\">C</text></a></g><g id=\"E1.E4\"><a href=\"psysml:aa32b181-0a7a-45c2-8d8e-c84b0489ed31\" target=\"_top\" title=\"psysml:aa32b181-0a7a-45c2-8d8e-c84b0489ed31\" xlink:actuate=\"onRequest\" xlink:href=\"psysml:aa32b181-0a7a-45c2-8d8e-c84b0489ed31\" xlink:show=\"new\" xlink:title=\"psysml:aa32b181-0a7a-45c2-8d8e-c84b0489ed31\" xlink:type=\"simple\"><rect fill=\"#FEFECE\" filter=\"url(#f1dxac2qm7s4ak)\" height=\"42.9375\" id=\"E4\" style=\"stroke: #A80036; stroke-width: 1.5;\" width=\"122\" x=\"310\" y=\"159\"/><text fill=\"#000000\" font-family=\"sans-serif\" font-size=\"12\" font-style=\"italic\" lengthAdjust=\"spacingAndGlyphs\" textLength=\"115\" x=\"313.5\" y=\"175.1387\">«requirement def»</text><text fill=\"#000000\" font-family=\"sans-serif\" font-size=\"12\" lengthAdjust=\"spacingAndGlyphs\" textLength=\"8\" x=\"367\" y=\"189.1074\">R</text></a></g><g id=\"E1.E5\"><a href=\"psysml:5b4d3eaf-f72e-4f96-998b-f4a0a57df239\" target=\"_top\" title=\"psysml:5b4d3eaf-f72e-4f96-998b-f4a0a57df239\" xlink:actuate=\"onRequest\" xlink:href=\"psysml:5b4d3eaf-f72e-4f96-998b-f4a0a57df239\" xlink:show=\"new\" xlink:title=\"psysml:5b4d3eaf-f72e-4f96-998b-f4a0a57df239\" xlink:type=\"simple\"><rect fill=\"#FEFECE\" filter=\"url(#f1dxac2qm7s4ak)\" height=\"42.9375\" id=\"E5\" style=\"stroke: #A80036; stroke-width: 1.5;\" width=\"122\" x=\"153\" y=\"159\"/><text fill=\"#000000\" font-family=\"sans-serif\" font-size=\"12\" font-style=\"italic\" lengthAdjust=\"spacingAndGlyphs\" textLength=\"115\" x=\"156.5\" y=\"175.1387\">«requirement def»</text><text fill=\"#000000\" font-family=\"sans-serif\" font-size=\"12\" lengthAdjust=\"spacingAndGlyphs\" textLength=\"16\" x=\"206\" y=\"189.1074\">R1</text></a></g><g id=\"E1.E3\"><a href=\"psysml:23e87db0-b26a-4449-ad29-18415d83eb38\" target=\"_top\" title=\"psysml:23e87db0-b26a-4449-ad29-18415d83eb38\" xlink:actuate=\"onRequest\" xlink:href=\"psysml:23e87db0-b26a-4449-ad29-18415d83eb38\" xlink:show=\"new\" xlink:title=\"psysml:23e87db0-b26a-4449-ad29-18415d83eb38\" xlink:type=\"simple\"><rect fill=\"#FEFECE\" filter=\"url(#f1dxac2qm7s4ak)\" height=\"42.9375\" id=\"E3\" rx=\"10\" ry=\"10\" style=\"stroke: #A80036; stroke-width: 1.5;\" width=\"85\" x=\"32.5\" y=\"159\"/><text fill=\"#000000\" font-family=\"sans-serif\" font-size=\"12\" font-style=\"italic\" lengthAdjust=\"spacingAndGlyphs\" textLength=\"78\" x=\"36\" y=\"175.1387\">«constraint»</text><text fill=\"#000000\" font-family=\"sans-serif\" font-size=\"12\" lengthAdjust=\"spacingAndGlyphs\" textLength=\"23\" x=\"63.5\" y=\"189.1074\">c: C</text></a></g><g id=\"E1.E6\"><a href=\"psysml:8fb932f6-fc92-43ad-aa0e-8cfa7b71c9b3\" target=\"_top\" title=\"psysml:8fb932f6-fc92-43ad-aa0e-8cfa7b71c9b3\" xlink:actuate=\"onRequest\" xlink:href=\"psysml:8fb932f6-fc92-43ad-aa0e-8cfa7b71c9b3\" xlink:show=\"new\" xlink:title=\"psysml:8fb932f6-fc92-43ad-aa0e-8cfa7b71c9b3\" xlink:type=\"simple\"><rect fill=\"#FEFECE\" filter=\"url(#f1dxac2qm7s4ak)\" height=\"40\" id=\"E6\" rx=\"10\" ry=\"10\" style=\"stroke: #A80036; stroke-width: 1.5;\" width=\"50\" x=\"608\" y=\"299\"/><text fill=\"#000000\" font-family=\"sans-serif\" font-size=\"12\" lengthAdjust=\"spacingAndGlyphs\" textLength=\"8\" x=\"629\" y=\"315.1387\">p</text></a></g><g id=\"E1.E7.E8.E9\"><a href=\"psysml:ebf9f55c-b0ce-46a7-820d-0de32b7e0555\" target=\"_top\" title=\"psysml:ebf9f55c-b0ce-46a7-820d-0de32b7e0555\" xlink:actuate=\"onRequest\" xlink:href=\"psysml:ebf9f55c-b0ce-46a7-820d-0de32b7e0555\" xlink:show=\"new\" xlink:title=\"psysml:ebf9f55c-b0ce-46a7-820d-0de32b7e0555\" xlink:type=\"simple\"><rect fill=\"#FEFECE\" filter=\"url(#f1dxac2qm7s4ak)\" height=\"42.9375\" id=\"E9\" rx=\"10\" ry=\"10\" style=\"stroke: #A80036; stroke-width: 1.5;\" width=\"82\" x=\"668\" y=\"159\"/><text fill=\"#000000\" font-family=\"sans-serif\" font-size=\"12\" font-style=\"italic\" lengthAdjust=\"spacingAndGlyphs\" textLength=\"75\" x=\"671.5\" y=\"175.1387\">«reference»</text><text fill=\"#000000\" font-family=\"sans-serif\" font-size=\"12\" lengthAdjust=\"spacingAndGlyphs\" textLength=\"26\" x=\"696\" y=\"189.1074\">subj</text></a></g><!--MD5=[c5e8897d989ce984f93528998a7150fe]\n",
       "link E8 to E6--><a href=\"psysml:69852053-465c-4b3e-807c-2facd65a229c\" target=\"_top\" title=\"psysml:69852053-465c-4b3e-807c-2facd65a229c\" xlink:actuate=\"onRequest\" xlink:href=\"psysml:69852053-465c-4b3e-807c-2facd65a229c\" xlink:show=\"new\" xlink:title=\"psysml:69852053-465c-4b3e-807c-2facd65a229c\" xlink:type=\"simple\"><path d=\"M633,226.4501 C633,227.1713 633,227.8965 633,228.6252 C633,230.0826 633,231.5543 633,233.0372 C633,236.003 633,239.0136 633,242.0448 C633,248.1072 633,254.2518 633,260.2839 C633,272.3481 633,283.9625 633,293.57 \" fill=\"none\" id=\"E8-&gt;E6\" style=\"stroke: #A80036; stroke-width: 1.0; stroke-dasharray: 7.0,7.0;\"/><polygon fill=\"#A80036\" points=\"633,298.99,637,289.99,633,293.99,629,289.99,633,298.99\" style=\"stroke: #A80036; stroke-width: 1.0;\"/><text fill=\"#000000\" font-family=\"sans-serif\" font-size=\"13\" lengthAdjust=\"spacingAndGlyphs\" textLength=\"57\" x=\"634\" y=\"287.0669\">«satisfy»</text></a><!--MD5=[42b75ff49975a38c6a870ea4e8fefa43]\n",
       "@startuml\r\n",
       "skinparam ranksep 8\r\n",
       "skinparam rectangle {\r\n",
       " backgroundColor<<block>> LightGreen\r\n",
       "}\r\n",
       "skinparam wrapWidth 300\r\n",
       "hide circle\r\n",
       "\r\n",
       "package \"RequirementTest\" as E1  [[psysml:7a32e4ca-d886-48d1-a22e-a4337a6af1e2 ]]  {\r\n",
       "def \"C\" as E2  <<(T,blue)constraint def>> [[psysml:c5fd5931-ea17-4576-af97-a79679b06835 ]] \r\n",
       "rec usage \"c: C\" as E3  <<(T,blue)constraint>> [[psysml:23e87db0-b26a-4449-ad29-18415d83eb38 ]] {\r\n",
       "}\r\n",
       "def \"R\" as E4  <<(T,blue)requirement def>> [[psysml:aa32b181-0a7a-45c2-8d8e-c84b0489ed31 ]] \r\n",
       "def \"R1\" as E5  <<(T,blue)requirement def>> [[psysml:5b4d3eaf-f72e-4f96-998b-f4a0a57df239 ]] \r\n",
       "rec usage \"p\" as E6  [[psysml:8fb932f6-fc92-43ad-aa0e-8cfa7b71c9b3 ]] {\r\n",
       "}\r\n",
       "rec usage \"q\" as E7  [[psysml:9b734dfd-0e44-4ae0-bd37-d0a03d4a12cd ]] {\r\n",
       "rec usage \"r: R\" as E8  <<(T,blue)requirement>> [[psysml:5a1cae69-7149-47dc-88a9-208fdbfbba4b ]] {\r\n",
       "rec usage \"subj\" as E9  <<(T,blue)reference>> [[psysml:ebf9f55c-b0ce-46a7-820d-0de32b7e0555 ]] {\r\n",
       "}\r\n",
       "}\r\n",
       "}\r\n",
       "E8 ..> E6 [[psysml:69852053-465c-4b3e-807c-2facd65a229c ]] : <<satisfy>>\r\n",
       "}\r\n",
       "@enduml\r\n",
       "\n",
       "PlantUML version 1.2020.13(Sat Jun 13 12:26:38 UTC 2020)\n",
       "(EPL source distribution)\n",
       "Java Runtime: OpenJDK Runtime Environment\n",
       "JVM: OpenJDK 64-Bit Server VM\n",
       "Default Encoding: UTF-8\n",
       "Language: en\n",
       "Country: null\n",
       "--></g></svg>"
      ]
     },
     "execution_count": 26,
     "metadata": {},
     "output_type": "execute_result"
    }
   ],
   "source": [
    "%viz --style=\"STDCOLOR\" --view=\"Interconnection\" \"RequirementTest\""
   ]
  },
  {
   "cell_type": "code",
   "execution_count": 27,
   "id": "focused-entry",
   "metadata": {
    "execution": {
     "iopub.execute_input": "2021-03-25T09:27:04.793053Z",
     "iopub.status.busy": "2021-03-25T09:27:04.792423Z",
     "iopub.status.idle": "2021-03-25T09:27:04.799035Z",
     "shell.execute_reply": "2021-03-25T09:27:04.798630Z"
    }
   },
   "outputs": [
    {
     "data": {
      "image/svg+xml": [
       "<?xml version=\"1.0\" encoding=\"UTF-8\" standalone=\"no\"?><svg xmlns=\"http://www.w3.org/2000/svg\" xmlns:xlink=\"http://www.w3.org/1999/xlink\" contentScriptType=\"application/ecmascript\" contentStyleType=\"text/css\" height=\"12px\" preserveAspectRatio=\"none\" style=\"width:12px;height:12px;\" version=\"1.1\" viewBox=\"0 0 12 12\" width=\"12px\" zoomAndPan=\"magnify\"><defs/><g><!--MD5=[9863325348a96a77dacc89509d8ee65e]\n",
       "@startuml\r\n",
       "skinparam ranksep 8\r\n",
       "skinparam wrapWidth 300\r\n",
       "hide circle\r\n",
       "\r\n",
       "@enduml\r\n",
       "\n",
       "PlantUML version 1.2020.13(Sat Jun 13 12:26:38 UTC 2020)\n",
       "(EPL source distribution)\n",
       "Java Runtime: OpenJDK Runtime Environment\n",
       "JVM: OpenJDK 64-Bit Server VM\n",
       "Default Encoding: UTF-8\n",
       "Language: en\n",
       "Country: null\n",
       "--></g></svg>"
      ]
     },
     "execution_count": 27,
     "metadata": {},
     "output_type": "execute_result"
    }
   ],
   "source": [
    "%viz --style=\"STDCOLOR\" --view=\"Action\" \"RequirementTest\""
   ]
  },
  {
   "cell_type": "code",
   "execution_count": 28,
   "id": "married-ranking",
   "metadata": {
    "execution": {
     "iopub.execute_input": "2021-03-25T09:27:04.852300Z",
     "iopub.status.busy": "2021-03-25T09:27:04.851459Z",
     "iopub.status.idle": "2021-03-25T09:27:05.709801Z",
     "shell.execute_reply": "2021-03-25T09:27:05.708135Z"
    }
   },
   "outputs": [
    {
     "data": {
      "image/svg+xml": [
       "<?xml version=\"1.0\" encoding=\"UTF-8\" standalone=\"no\"?><svg xmlns=\"http://www.w3.org/2000/svg\" xmlns:xlink=\"http://www.w3.org/1999/xlink\" contentScriptType=\"application/ecmascript\" contentStyleType=\"text/css\" height=\"566px\" preserveAspectRatio=\"none\" style=\"width:470px;height:566px;\" version=\"1.1\" viewBox=\"0 0 470 566\" width=\"470px\" zoomAndPan=\"magnify\"><defs><filter height=\"300%\" id=\"f1dt5nks8p84qq\" width=\"300%\" x=\"-1\" y=\"-1\"><feGaussianBlur result=\"blurOut\" stdDeviation=\"2.0\"/><feColorMatrix in=\"blurOut\" result=\"blurOut2\" type=\"matrix\" values=\"0 0 0 0 0 0 0 0 0 0 0 0 0 0 0 0 0 0 .4 0\"/><feOffset dx=\"4.0\" dy=\"4.0\" in=\"blurOut2\" result=\"blurOut3\"/><feBlend in=\"SourceGraphic\" in2=\"blurOut3\" mode=\"normal\"/></filter></defs><g><!--MD5=[fbc87193dbaf4d95561dea2c320d4a47]\n",
       "cluster E1--><a href=\"psysml:7a32e4ca-d886-48d1-a22e-a4337a6af1e2\" target=\"_top\" title=\"psysml:7a32e4ca-d886-48d1-a22e-a4337a6af1e2\" xlink:actuate=\"onRequest\" xlink:href=\"psysml:7a32e4ca-d886-48d1-a22e-a4337a6af1e2\" xlink:show=\"new\" xlink:title=\"psysml:7a32e4ca-d886-48d1-a22e-a4337a6af1e2\" xlink:type=\"simple\"><polygon fill=\"#FFFFFF\" filter=\"url(#f1dt5nks8p84qq)\" points=\"16,6,158,6,165,28.2969,448,28.2969,448,554,16,554,16,6\" style=\"stroke: #000000; stroke-width: 1.5;\"/><line style=\"stroke: #000000; stroke-width: 1.5;\" x1=\"16\" x2=\"165\" y1=\"28.2969\" y2=\"28.2969\"/><text fill=\"#000000\" font-family=\"sans-serif\" font-size=\"14\" font-weight=\"bold\" lengthAdjust=\"spacingAndGlyphs\" textLength=\"136\" x=\"20\" y=\"20.9951\">RequirementTest</text></a><!--MD5=[b4997ac47864f28c2f74865a473b2911]\n",
       "class E2--><a href=\"psysml:c5fd5931-ea17-4576-af97-a79679b06835\" target=\"_top\" title=\"psysml:c5fd5931-ea17-4576-af97-a79679b06835\" xlink:actuate=\"onRequest\" xlink:href=\"psysml:c5fd5931-ea17-4576-af97-a79679b06835\" xlink:show=\"new\" xlink:title=\"psysml:c5fd5931-ea17-4576-af97-a79679b06835\" xlink:type=\"simple\"><rect fill=\"#FEFECE\" filter=\"url(#f1dt5nks8p84qq)\" height=\"45.9375\" id=\"E2\" style=\"stroke: #A80036; stroke-width: 1.5;\" width=\"104\" x=\"328\" y=\"178\"/><text fill=\"#000000\" font-family=\"sans-serif\" font-size=\"12\" font-style=\"italic\" lengthAdjust=\"spacingAndGlyphs\" textLength=\"102\" x=\"329\" y=\"194.1387\">«constraint def»</text><text fill=\"#000000\" font-family=\"sans-serif\" font-size=\"12\" lengthAdjust=\"spacingAndGlyphs\" textLength=\"8\" x=\"376\" y=\"208.1074\">C</text><line style=\"stroke: #A80036; stroke-width: 1.5;\" x1=\"329\" x2=\"431\" y1=\"215.9375\" y2=\"215.9375\"/></a><!--MD5=[09b614a08d8cba4a07c9adeb5e0fee81]\n",
       "class E3--><a href=\"psysml:23e87db0-b26a-4449-ad29-18415d83eb38\" target=\"_top\" title=\"psysml:23e87db0-b26a-4449-ad29-18415d83eb38\" xlink:actuate=\"onRequest\" xlink:href=\"psysml:23e87db0-b26a-4449-ad29-18415d83eb38\" xlink:show=\"new\" xlink:title=\"psysml:23e87db0-b26a-4449-ad29-18415d83eb38\" xlink:type=\"simple\"><rect fill=\"#FEFECE\" filter=\"url(#f1dt5nks8p84qq)\" height=\"45.9375\" id=\"E3\" rx=\"10\" ry=\"10\" style=\"stroke: #A80036; stroke-width: 1.5;\" width=\"80\" x=\"352\" y=\"56\"/><text fill=\"#000000\" font-family=\"sans-serif\" font-size=\"12\" font-style=\"italic\" lengthAdjust=\"spacingAndGlyphs\" textLength=\"78\" x=\"353\" y=\"72.1387\">«constraint»</text><text fill=\"#000000\" font-family=\"sans-serif\" font-size=\"12\" lengthAdjust=\"spacingAndGlyphs\" textLength=\"23\" x=\"380.5\" y=\"86.1074\">c: C</text><line style=\"stroke: #A80036; stroke-width: 1.5;\" x1=\"353\" x2=\"431\" y1=\"93.9375\" y2=\"93.9375\"/></a><!--MD5=[ebbe1d658d1005bcc118a6aa81145e00]\n",
       "class E4--><a href=\"psysml:aa32b181-0a7a-45c2-8d8e-c84b0489ed31\" target=\"_top\" title=\"psysml:aa32b181-0a7a-45c2-8d8e-c84b0489ed31\" xlink:actuate=\"onRequest\" xlink:href=\"psysml:aa32b181-0a7a-45c2-8d8e-c84b0489ed31\" xlink:show=\"new\" xlink:title=\"psysml:aa32b181-0a7a-45c2-8d8e-c84b0489ed31\" xlink:type=\"simple\"><rect fill=\"#FEFECE\" filter=\"url(#f1dt5nks8p84qq)\" height=\"109.1563\" id=\"E4\" style=\"stroke: #A80036; stroke-width: 1.5;\" width=\"117\" x=\"32.5\" y=\"301\"/><text fill=\"#000000\" font-family=\"sans-serif\" font-size=\"12\" font-style=\"italic\" lengthAdjust=\"spacingAndGlyphs\" textLength=\"115\" x=\"33.5\" y=\"317.1387\">«requirement def»</text><text fill=\"#000000\" font-family=\"sans-serif\" font-size=\"12\" lengthAdjust=\"spacingAndGlyphs\" textLength=\"8\" x=\"87\" y=\"331.1074\">R</text><line style=\"stroke: #A80036; stroke-width: 1.5;\" x1=\"33.5\" x2=\"148.5\" y1=\"338.9375\" y2=\"338.9375\"/><text fill=\"#000000\" font-family=\"sans-serif\" font-size=\"11\" lengthAdjust=\"spacingAndGlyphs\" textLength=\"0\" x=\"42.5\" y=\"353.1479\"/><line style=\"stroke: #A80036; stroke-width: 1.0;\" x1=\"33.5\" x2=\"148.5\" y1=\"359.7422\" y2=\"359.7422\"/><text fill=\"#000000\" font-family=\"sans-serif\" font-size=\"11\" font-weight=\"bold\" lengthAdjust=\"spacingAndGlyphs\" textLength=\"46\" x=\"38.5\" y=\"390.7573\">require</text><text fill=\"#000000\" font-family=\"sans-serif\" font-size=\"11\" lengthAdjust=\"spacingAndGlyphs\" textLength=\"6\" x=\"88.5\" y=\"390.7573\">c</text><text fill=\"#000000\" font-family=\"sans-serif\" font-size=\"11\" font-style=\"italic\" lengthAdjust=\"spacingAndGlyphs\" textLength=\"46\" x=\"38.5\" y=\"403.562\">assume</text><text fill=\"#000000\" font-family=\"sans-serif\" font-size=\"11\" lengthAdjust=\"spacingAndGlyphs\" textLength=\"29\" x=\"88.5\" y=\"403.562\">c1: C</text><line style=\"stroke: #A80036; stroke-width: 1.0;\" x1=\"33.5\" x2=\"59\" y1=\"374.1445\" y2=\"374.1445\"/><text fill=\"#000000\" font-family=\"sans-serif\" font-size=\"11\" lengthAdjust=\"spacingAndGlyphs\" textLength=\"64\" x=\"59\" y=\"377.4526\">constraints</text><line style=\"stroke: #A80036; stroke-width: 1.0;\" x1=\"123\" x2=\"148.5\" y1=\"374.1445\" y2=\"374.1445\"/></a><!--MD5=[270fce915f116d4de14055a7c1d9a0f3]\n",
       "class E5--><a href=\"psysml:c7a4f64d-f76e-4f11-bab9-561a5696e580\" target=\"_top\" title=\"psysml:c7a4f64d-f76e-4f11-bab9-561a5696e580\" xlink:actuate=\"onRequest\" xlink:href=\"psysml:c7a4f64d-f76e-4f11-bab9-561a5696e580\" xlink:show=\"new\" xlink:title=\"psysml:c7a4f64d-f76e-4f11-bab9-561a5696e580\" xlink:type=\"simple\"><rect fill=\"#FEFECE\" filter=\"url(#f1dt5nks8p84qq)\" height=\"66.7422\" id=\"E5\" style=\"stroke: #A80036; stroke-width: 1.5;\" width=\"117\" x=\"32.5\" y=\"471\"/><text fill=\"#000000\" font-family=\"sans-serif\" font-size=\"12\" font-style=\"italic\" lengthAdjust=\"spacingAndGlyphs\" textLength=\"115\" x=\"33.5\" y=\"487.1387\">«requirement def»</text><text fill=\"#000000\" font-family=\"sans-serif\" font-size=\"12\" lengthAdjust=\"spacingAndGlyphs\" textLength=\"5\" x=\"78\" y=\"501.1074\">[</text><text fill=\"#000000\" font-family=\"sans-serif\" font-size=\"12\" font-weight=\"bold\" lengthAdjust=\"spacingAndGlyphs\" textLength=\"8\" x=\"83\" y=\"501.1074\">1</text><text fill=\"#000000\" font-family=\"sans-serif\" font-size=\"12\" lengthAdjust=\"spacingAndGlyphs\" textLength=\"17\" x=\"91\" y=\"501.1074\">] A</text><line style=\"stroke: #A80036; stroke-width: 1.5;\" x1=\"33.5\" x2=\"148.5\" y1=\"508.9375\" y2=\"508.9375\"/><text fill=\"#000000\" font-family=\"sans-serif\" font-size=\"11\" lengthAdjust=\"spacingAndGlyphs\" textLength=\"24\" x=\"38.5\" y=\"523.1479\">Text</text><line style=\"stroke: #A80036; stroke-width: 1.0;\" x1=\"33.5\" x2=\"148.5\" y1=\"529.7422\" y2=\"529.7422\"/></a><!--MD5=[b9389687b975829384b498ac4b7476b2]\n",
       "class E8--><a href=\"psysml:165156c7-6d13-47e8-9214-4efd9fbee902\" target=\"_top\" title=\"psysml:165156c7-6d13-47e8-9214-4efd9fbee902\" xlink:actuate=\"onRequest\" xlink:href=\"psysml:165156c7-6d13-47e8-9214-4efd9fbee902\" xlink:show=\"new\" xlink:title=\"psysml:165156c7-6d13-47e8-9214-4efd9fbee902\" xlink:type=\"simple\"><rect fill=\"#FEFECE\" filter=\"url(#f1dt5nks8p84qq)\" height=\"45.9375\" id=\"E8\" rx=\"10\" ry=\"10\" style=\"stroke: #A80036; stroke-width: 1.5;\" width=\"93\" x=\"184.5\" y=\"481.5\"/><text fill=\"#000000\" font-family=\"sans-serif\" font-size=\"12\" font-style=\"italic\" lengthAdjust=\"spacingAndGlyphs\" textLength=\"91\" x=\"185.5\" y=\"497.6387\">«requirement»</text><text fill=\"#000000\" font-family=\"sans-serif\" font-size=\"12\" lengthAdjust=\"spacingAndGlyphs\" text-decoration=\"line-through\" textLength=\"51\" x=\"205.5\" y=\"511.6074\">noname</text><line style=\"stroke: #A80036; stroke-width: 1.5;\" x1=\"185.5\" x2=\"276.5\" y1=\"519.4375\" y2=\"519.4375\"/></a><!--MD5=[fd4143e9d270a159db93a4ea2a975926]\n",
       "class E9--><a href=\"psysml:5b4d3eaf-f72e-4f96-998b-f4a0a57df239\" target=\"_top\" title=\"psysml:5b4d3eaf-f72e-4f96-998b-f4a0a57df239\" xlink:actuate=\"onRequest\" xlink:href=\"psysml:5b4d3eaf-f72e-4f96-998b-f4a0a57df239\" xlink:show=\"new\" xlink:title=\"psysml:5b4d3eaf-f72e-4f96-998b-f4a0a57df239\" xlink:type=\"simple\"><rect fill=\"#FEFECE\" filter=\"url(#f1dt5nks8p84qq)\" height=\"76.4922\" id=\"E9\" style=\"stroke: #A80036; stroke-width: 1.5;\" width=\"207\" x=\"109.5\" y=\"41\"/><text fill=\"#000000\" font-family=\"sans-serif\" font-size=\"12\" font-style=\"italic\" lengthAdjust=\"spacingAndGlyphs\" textLength=\"115\" x=\"155.5\" y=\"57.1387\">«requirement def»</text><text fill=\"#000000\" font-family=\"sans-serif\" font-size=\"12\" lengthAdjust=\"spacingAndGlyphs\" textLength=\"16\" x=\"205\" y=\"71.1074\">R1</text><line style=\"stroke: #A80036; stroke-width: 1.5;\" x1=\"110.5\" x2=\"315.5\" y1=\"78.9375\" y2=\"78.9375\"/><text fill=\"#000000\" font-family=\"sans-serif\" font-size=\"11\" font-weight=\"bold\" lengthAdjust=\"spacingAndGlyphs\" textLength=\"46\" x=\"115.5\" y=\"110.8979\">require</text><text fill=\"#000000\" font-family=\"sans-serif\" font-size=\"11\" lengthAdjust=\"spacingAndGlyphs\" textLength=\"0\" x=\"165.5\" y=\"110.8979\"/><path d=\"M167.4167,100.6589 L167.4167,109.8255 L168.3333,109.8255 L168.3333,100.6589 M171.0833,100.6589 L171.0833,109.8255 L178.4167,105.2422 L171.0833,100.6589 L172,102.0339 L177.0417,105.2422 L172,108.4505 L172,102.0339 \" fill=\"#000000\" style=\"stroke: ; stroke-width: 0.0; stroke-dasharray: ;\"/><text fill=\"#000000\" font-family=\"sans-serif\" font-size=\"11\" lengthAdjust=\"spacingAndGlyphs\" textLength=\"13\" x=\"182.5\" y=\"110.8979\">c1</text><text fill=\"#000000\" font-family=\"sans-serif\" font-size=\"11\" lengthAdjust=\"spacingAndGlyphs\" text-decoration=\"line-through\" textLength=\"111\" x=\"199.5\" y=\"110.8979\">RequirementTest::c</text><line style=\"stroke: #A80036; stroke-width: 1.0;\" x1=\"110.5\" x2=\"181\" y1=\"93.3398\" y2=\"93.3398\"/><text fill=\"#000000\" font-family=\"sans-serif\" font-size=\"11\" lengthAdjust=\"spacingAndGlyphs\" textLength=\"64\" x=\"181\" y=\"96.6479\">constraints</text><line style=\"stroke: #A80036; stroke-width: 1.0;\" x1=\"245\" x2=\"315.5\" y1=\"93.3398\" y2=\"93.3398\"/></a><!--MD5=[1dd1bfd58a279cf63c5f349dbc8fc6a1]\n",
       "class E11--><a href=\"psysml:8fb932f6-fc92-43ad-aa0e-8cfa7b71c9b3\" target=\"_top\" title=\"psysml:8fb932f6-fc92-43ad-aa0e-8cfa7b71c9b3\" xlink:actuate=\"onRequest\" xlink:href=\"psysml:8fb932f6-fc92-43ad-aa0e-8cfa7b71c9b3\" xlink:show=\"new\" xlink:title=\"psysml:8fb932f6-fc92-43ad-aa0e-8cfa7b71c9b3\" xlink:type=\"simple\"><rect fill=\"#FEFECE\" filter=\"url(#f1dt5nks8p84qq)\" height=\"45.9375\" id=\"E11\" rx=\"10\" ry=\"10\" style=\"stroke: #A80036; stroke-width: 1.5;\" width=\"42\" x=\"185\" y=\"332.5\"/><text fill=\"#000000\" font-family=\"sans-serif\" font-size=\"12\" font-style=\"italic\" lengthAdjust=\"spacingAndGlyphs\" textLength=\"40\" x=\"186\" y=\"348.6387\">«part»</text><text fill=\"#000000\" font-family=\"sans-serif\" font-size=\"12\" lengthAdjust=\"spacingAndGlyphs\" textLength=\"8\" x=\"202\" y=\"362.6074\">p</text><line style=\"stroke: #A80036; stroke-width: 1.5;\" x1=\"186\" x2=\"226\" y1=\"370.4375\" y2=\"370.4375\"/></a><!--MD5=[49a0ec8f00dab7302a31f22d0f0fe584]\n",
       "class E12--><a href=\"psysml:9b734dfd-0e44-4ae0-bd37-d0a03d4a12cd\" target=\"_top\" title=\"psysml:9b734dfd-0e44-4ae0-bd37-d0a03d4a12cd\" xlink:actuate=\"onRequest\" xlink:href=\"psysml:9b734dfd-0e44-4ae0-bd37-d0a03d4a12cd\" xlink:show=\"new\" xlink:title=\"psysml:9b734dfd-0e44-4ae0-bd37-d0a03d4a12cd\" xlink:type=\"simple\"><rect fill=\"#FEFECE\" filter=\"url(#f1dt5nks8p84qq)\" height=\"45.9375\" id=\"E12\" rx=\"10\" ry=\"10\" style=\"stroke: #A80036; stroke-width: 1.5;\" width=\"42\" x=\"32\" y=\"56\"/><text fill=\"#000000\" font-family=\"sans-serif\" font-size=\"12\" font-style=\"italic\" lengthAdjust=\"spacingAndGlyphs\" textLength=\"40\" x=\"33\" y=\"72.1387\">«part»</text><text fill=\"#000000\" font-family=\"sans-serif\" font-size=\"12\" lengthAdjust=\"spacingAndGlyphs\" textLength=\"8\" x=\"49\" y=\"86.1074\">q</text><line style=\"stroke: #A80036; stroke-width: 1.5;\" x1=\"33\" x2=\"73\" y1=\"93.9375\" y2=\"93.9375\"/></a><!--MD5=[ee3c913d1a06f366521f9ef512b67efe]\n",
       "class E13--><a href=\"psysml:5a1cae69-7149-47dc-88a9-208fdbfbba4b\" target=\"_top\" title=\"psysml:5a1cae69-7149-47dc-88a9-208fdbfbba4b\" xlink:actuate=\"onRequest\" xlink:href=\"psysml:5a1cae69-7149-47dc-88a9-208fdbfbba4b\" xlink:show=\"new\" xlink:title=\"psysml:5a1cae69-7149-47dc-88a9-208fdbfbba4b\" xlink:type=\"simple\"><rect fill=\"#FEFECE\" filter=\"url(#f1dt5nks8p84qq)\" height=\"45.9375\" id=\"E13\" rx=\"10\" ry=\"10\" style=\"stroke: #A80036; stroke-width: 1.5;\" width=\"93\" x=\"44.5\" y=\"178\"/><text fill=\"#000000\" font-family=\"sans-serif\" font-size=\"12\" font-style=\"italic\" lengthAdjust=\"spacingAndGlyphs\" textLength=\"91\" x=\"45.5\" y=\"194.1387\">«requirement»</text><text fill=\"#000000\" font-family=\"sans-serif\" font-size=\"12\" lengthAdjust=\"spacingAndGlyphs\" textLength=\"21\" x=\"80.5\" y=\"208.1074\">r: R</text><line style=\"stroke: #A80036; stroke-width: 1.5;\" x1=\"45.5\" x2=\"136.5\" y1=\"215.9375\" y2=\"215.9375\"/></a><!--MD5=[05d275557350bfb9b23a4ef7222b4c39]\n",
       "link E3 to E2--><a href=\"psysml:bb92853b-9a42-4685-9891-57f30cbf18f8\" target=\"_top\" title=\"psysml:bb92853b-9a42-4685-9891-57f30cbf18f8\" xlink:actuate=\"onRequest\" xlink:href=\"psysml:bb92853b-9a42-4685-9891-57f30cbf18f8\" xlink:show=\"new\" xlink:title=\"psysml:bb92853b-9a42-4685-9891-57f30cbf18f8\" xlink:type=\"simple\"><path d=\"M389.8,102.01 C388.24,117.56 386.11,138.89 384.23,157.68 \" fill=\"none\" id=\"E3-&gt;E2\" style=\"stroke: #A80036; stroke-width: 1.0;\"/><polygon fill=\"#FFFFFF\" points=\"382.23,177.72,377.1511,158.1188,391.0819,159.5089,382.23,177.72\" style=\"stroke: #A80036; stroke-width: 1.0;\"/><ellipse cx=\"379.7072\" cy=\"152.6456\" fill=\"#A80036\" rx=\"2\" ry=\"2\" style=\"stroke: #A80036; stroke-width: 1.0;\"/><ellipse cx=\"389.6578\" cy=\"153.6385\" fill=\"#A80036\" rx=\"2\" ry=\"2\" style=\"stroke: #A80036; stroke-width: 1.0;\"/></a><!--MD5=[62aa6af11e70f752912c1cb0466f24f7]\n",
       "reverse link E4 to E5--><a href=\"psysml:c7a4f64d-f76e-4f11-bab9-561a5696e580\" target=\"_top\" title=\"psysml:c7a4f64d-f76e-4f11-bab9-561a5696e580\" xlink:actuate=\"onRequest\" xlink:href=\"psysml:c7a4f64d-f76e-4f11-bab9-561a5696e580\" xlink:show=\"new\" xlink:title=\"psysml:c7a4f64d-f76e-4f11-bab9-561a5696e580\" xlink:type=\"simple\"><path d=\"M91,425.45 C91,441.34 91,457.51 91,470.98 \" fill=\"none\" id=\"E4&lt;-E5\" style=\"stroke: #A80036; stroke-width: 1.0;\"/><ellipse cx=\"91\" cy=\"418.4\" fill=\"#FFFFFF\" rx=\"8\" ry=\"8\" style=\"stroke: #A80036; stroke-width: 1.0;\"/><line style=\"stroke: #A80036; stroke-width: 1.0;\" x1=\"91\" x2=\"91\" y1=\"426.4\" y2=\"410.4\"/><line style=\"stroke: #A80036; stroke-width: 1.0;\" x1=\"83\" x2=\"99\" y1=\"418.4\" y2=\"418.4\"/></a><!--MD5=[c6fc7cdb0cabde04948078cf183fa696]\n",
       "reverse link E4 to E8--><a href=\"psysml:165156c7-6d13-47e8-9214-4efd9fbee902\" target=\"_top\" title=\"psysml:165156c7-6d13-47e8-9214-4efd9fbee902\" xlink:actuate=\"onRequest\" xlink:href=\"psysml:165156c7-6d13-47e8-9214-4efd9fbee902\" xlink:show=\"new\" xlink:title=\"psysml:165156c7-6d13-47e8-9214-4efd9fbee902\" xlink:type=\"simple\"><path d=\"M151.51,420.04 C172.42,441.99 194.47,465.14 210.03,481.48 \" fill=\"none\" id=\"E4&lt;-E8\" style=\"stroke: #A80036; stroke-width: 1.0;\"/><polygon fill=\"#A80036\" points=\"142.34,410.4,143.5779,417.5041,150.6116,419.0937,149.3737,411.9897,142.34,410.4\" style=\"stroke: #A80036; stroke-width: 1.0;\"/></a><!--MD5=[062ed86c389d1a88f61c6380d0491e17]\n",
       "reverse link E12 to E13--><a href=\"psysml:5a1cae69-7149-47dc-88a9-208fdbfbba4b\" target=\"_top\" title=\"psysml:5a1cae69-7149-47dc-88a9-208fdbfbba4b\" xlink:actuate=\"onRequest\" xlink:href=\"psysml:5a1cae69-7149-47dc-88a9-208fdbfbba4b\" xlink:show=\"new\" xlink:title=\"psysml:5a1cae69-7149-47dc-88a9-208fdbfbba4b\" xlink:type=\"simple\"><path d=\"M63.94,114.55 C70.38,134.88 78.33,160 83.95,177.72 \" fill=\"none\" id=\"E12&lt;-E13\" style=\"stroke: #A80036; stroke-width: 1.0;\"/><polygon fill=\"#A80036\" points=\"59.97,102.01,57.9712,108.9386,63.5981,113.4484,65.5968,106.5198,59.97,102.01\" style=\"stroke: #A80036; stroke-width: 1.0;\"/></a><!--MD5=[017847e01ff9a8bd19f247411074f987]\n",
       "link E13 to E4--><a href=\"psysml:9a693856-e1d7-4623-99b4-c4529bf04054\" target=\"_top\" title=\"psysml:9a693856-e1d7-4623-99b4-c4529bf04054\" xlink:actuate=\"onRequest\" xlink:href=\"psysml:9a693856-e1d7-4623-99b4-c4529bf04054\" xlink:show=\"new\" xlink:title=\"psysml:9a693856-e1d7-4623-99b4-c4529bf04054\" xlink:type=\"simple\"><path d=\"M91,224.17 C91,239.17 91,259.91 91,280.44 \" fill=\"none\" id=\"E13-&gt;E4\" style=\"stroke: #A80036; stroke-width: 1.0;\"/><polygon fill=\"#FFFFFF\" points=\"91,300.68,84,281.68,98,281.68,91,300.68\" style=\"stroke: #A80036; stroke-width: 1.0;\"/><ellipse cx=\"86\" cy=\"275.98\" fill=\"#A80036\" rx=\"2\" ry=\"2\" style=\"stroke: #A80036; stroke-width: 1.0;\"/><ellipse cx=\"96\" cy=\"275.98\" fill=\"#A80036\" rx=\"2\" ry=\"2\" style=\"stroke: #A80036; stroke-width: 1.0;\"/></a><!--MD5=[2cfe899c895462254056921bfb67315f]\n",
       "link E13 to E11--><a href=\"psysml:69852053-465c-4b3e-807c-2facd65a229c\" target=\"_top\" title=\"psysml:69852053-465c-4b3e-807c-2facd65a229c\" xlink:actuate=\"onRequest\" xlink:href=\"psysml:69852053-465c-4b3e-807c-2facd65a229c\" xlink:show=\"new\" xlink:title=\"psysml:69852053-465c-4b3e-807c-2facd65a229c\" xlink:type=\"simple\"><path d=\"M108.36,224.29 C123.87,244.28 147.14,274.45 167,301 C173.57,309.78 180.66,319.44 186.97,328.12 \" fill=\"none\" id=\"E13-&gt;E11\" style=\"stroke: #A80036; stroke-width: 1.0; stroke-dasharray: 7.0,7.0;\"/><polygon fill=\"#A80036\" points=\"189.99,332.28,187.9274,322.6496,187.0474,328.2376,181.4594,327.3576,189.99,332.28\" style=\"stroke: #A80036; stroke-width: 1.0;\"/><text fill=\"#000000\" font-family=\"sans-serif\" font-size=\"13\" lengthAdjust=\"spacingAndGlyphs\" textLength=\"57\" x=\"145\" y=\"267.0669\">«satisfy»</text></a><!--MD5=[dd1a68726d385f3c8860ac66c4f98a90]\n",
       "@startuml\r\n",
       "skinparam wrapWidth 300\r\n",
       "hide circle\r\n",
       "\r\n",
       "package \"RequirementTest\" as E1  [[psysml:7a32e4ca-d886-48d1-a22e-a4337a6af1e2 ]]  {\r\n",
       "comp def \"C\" as E2  <<(T,blue)constraint def>> [[psysml:c5fd5931-ea17-4576-af97-a79679b06835 ]] {\r\n",
       "}\r\n",
       "comp usage \"c: C\" as E3  <<(T,blue)constraint>> [[psysml:23e87db0-b26a-4449-ad29-18415d83eb38 ]] {\r\n",
       "}\r\n",
       "comp def \"R\" as E4  <<(T,blue)requirement def>> [[psysml:aa32b181-0a7a-45c2-8d8e-c84b0489ed31 ]] {\r\n",
       "\r\n",
       "- -\r\n",
       "- - constraints - -\r\n",
       "<b>require</b> c\r\n",
       "<i>assume</i> c1: C\r\n",
       "}\r\n",
       "comp def \" [<b>1</b>] A\" as E5  <<(T,blue)requirement def>> [[psysml:c7a4f64d-f76e-4f11-bab9-561a5696e580 ]] {\r\n",
       "Text\r\n",
       "- -\r\n",
       "}\r\n",
       "comp usage \"<s>noname</s>\" as E8  <<(T,blue)requirement>> [[psysml:165156c7-6d13-47e8-9214-4efd9fbee902 ]] {\r\n",
       "}\r\n",
       "comp def \"R1\" as E9  <<(T,blue)requirement def>> [[psysml:5b4d3eaf-f72e-4f96-998b-f4a0a57df239 ]] {\r\n",
       "- - constraints - -\r\n",
       "<b>require</b> <&bar-trig> c1 <s>RequirementTest::c</s>\r\n",
       "}\r\n",
       "comp usage \"p\" as E11  <<(T,blue)part>> [[psysml:8fb932f6-fc92-43ad-aa0e-8cfa7b71c9b3 ]] {\r\n",
       "}\r\n",
       "comp usage \"q\" as E12  <<(T,blue)part>> [[psysml:9b734dfd-0e44-4ae0-bd37-d0a03d4a12cd ]] {\r\n",
       "}\r\n",
       "comp usage \"r: R\" as E13  <<(T,blue)requirement>> [[psysml:5a1cae69-7149-47dc-88a9-208fdbfbba4b ]] {\r\n",
       "}\r\n",
       "E3 - -:|> E2 [[psysml:bb92853b-9a42-4685-9891-57f30cbf18f8 ]] \r\n",
       "E4 +- - E5 [[psysml:c7a4f64d-f76e-4f11-bab9-561a5696e580 ]] \r\n",
       "E4 *- - E8 [[psysml:165156c7-6d13-47e8-9214-4efd9fbee902 ]] \r\n",
       "E12 *- - E13 [[psysml:5a1cae69-7149-47dc-88a9-208fdbfbba4b ]] \r\n",
       "E13 - -:|> E4 [[psysml:9a693856-e1d7-4623-99b4-c4529bf04054 ]] \r\n",
       "E13 ..> E11 [[psysml:69852053-465c-4b3e-807c-2facd65a229c ]] : <<satisfy>>\r\n",
       "}\r\n",
       "@enduml\r\n",
       "\n",
       "PlantUML version 1.2020.13(Sat Jun 13 12:26:38 UTC 2020)\n",
       "(EPL source distribution)\n",
       "Java Runtime: OpenJDK Runtime Environment\n",
       "JVM: OpenJDK 64-Bit Server VM\n",
       "Default Encoding: UTF-8\n",
       "Language: en\n",
       "Country: null\n",
       "--></g></svg>"
      ]
     },
     "execution_count": 28,
     "metadata": {},
     "output_type": "execute_result"
    }
   ],
   "source": [
    "%viz --style=\"STDCOLOR\" --view=\"Sequence\" \"RequirementTest\""
   ]
  },
  {
   "cell_type": "code",
   "execution_count": 29,
   "id": "promising-variation",
   "metadata": {
    "execution": {
     "iopub.execute_input": "2021-03-25T09:27:05.759599Z",
     "iopub.status.busy": "2021-03-25T09:27:05.759231Z",
     "iopub.status.idle": "2021-03-25T09:27:06.617003Z",
     "shell.execute_reply": "2021-03-25T09:27:06.615500Z"
    }
   },
   "outputs": [
    {
     "data": {
      "image/svg+xml": [
       "<?xml version=\"1.0\" encoding=\"UTF-8\" standalone=\"no\"?><svg xmlns=\"http://www.w3.org/2000/svg\" xmlns:xlink=\"http://www.w3.org/1999/xlink\" contentScriptType=\"application/ecmascript\" contentStyleType=\"text/css\" height=\"566px\" preserveAspectRatio=\"none\" style=\"width:470px;height:566px;\" version=\"1.1\" viewBox=\"0 0 470 566\" width=\"470px\" zoomAndPan=\"magnify\"><defs><filter height=\"300%\" id=\"f1dt5nks8p84qq\" width=\"300%\" x=\"-1\" y=\"-1\"><feGaussianBlur result=\"blurOut\" stdDeviation=\"2.0\"/><feColorMatrix in=\"blurOut\" result=\"blurOut2\" type=\"matrix\" values=\"0 0 0 0 0 0 0 0 0 0 0 0 0 0 0 0 0 0 .4 0\"/><feOffset dx=\"4.0\" dy=\"4.0\" in=\"blurOut2\" result=\"blurOut3\"/><feBlend in=\"SourceGraphic\" in2=\"blurOut3\" mode=\"normal\"/></filter></defs><g><!--MD5=[fbc87193dbaf4d95561dea2c320d4a47]\n",
       "cluster E1--><a href=\"psysml:7a32e4ca-d886-48d1-a22e-a4337a6af1e2\" target=\"_top\" title=\"psysml:7a32e4ca-d886-48d1-a22e-a4337a6af1e2\" xlink:actuate=\"onRequest\" xlink:href=\"psysml:7a32e4ca-d886-48d1-a22e-a4337a6af1e2\" xlink:show=\"new\" xlink:title=\"psysml:7a32e4ca-d886-48d1-a22e-a4337a6af1e2\" xlink:type=\"simple\"><polygon fill=\"#FFFFFF\" filter=\"url(#f1dt5nks8p84qq)\" points=\"16,6,158,6,165,28.2969,448,28.2969,448,554,16,554,16,6\" style=\"stroke: #000000; stroke-width: 1.5;\"/><line style=\"stroke: #000000; stroke-width: 1.5;\" x1=\"16\" x2=\"165\" y1=\"28.2969\" y2=\"28.2969\"/><text fill=\"#000000\" font-family=\"sans-serif\" font-size=\"14\" font-weight=\"bold\" lengthAdjust=\"spacingAndGlyphs\" textLength=\"136\" x=\"20\" y=\"20.9951\">RequirementTest</text></a><!--MD5=[b4997ac47864f28c2f74865a473b2911]\n",
       "class E2--><a href=\"psysml:c5fd5931-ea17-4576-af97-a79679b06835\" target=\"_top\" title=\"psysml:c5fd5931-ea17-4576-af97-a79679b06835\" xlink:actuate=\"onRequest\" xlink:href=\"psysml:c5fd5931-ea17-4576-af97-a79679b06835\" xlink:show=\"new\" xlink:title=\"psysml:c5fd5931-ea17-4576-af97-a79679b06835\" xlink:type=\"simple\"><rect fill=\"#FEFECE\" filter=\"url(#f1dt5nks8p84qq)\" height=\"45.9375\" id=\"E2\" style=\"stroke: #A80036; stroke-width: 1.5;\" width=\"104\" x=\"328\" y=\"178\"/><text fill=\"#000000\" font-family=\"sans-serif\" font-size=\"12\" font-style=\"italic\" lengthAdjust=\"spacingAndGlyphs\" textLength=\"102\" x=\"329\" y=\"194.1387\">«constraint def»</text><text fill=\"#000000\" font-family=\"sans-serif\" font-size=\"12\" lengthAdjust=\"spacingAndGlyphs\" textLength=\"8\" x=\"376\" y=\"208.1074\">C</text><line style=\"stroke: #A80036; stroke-width: 1.5;\" x1=\"329\" x2=\"431\" y1=\"215.9375\" y2=\"215.9375\"/></a><!--MD5=[09b614a08d8cba4a07c9adeb5e0fee81]\n",
       "class E3--><a href=\"psysml:23e87db0-b26a-4449-ad29-18415d83eb38\" target=\"_top\" title=\"psysml:23e87db0-b26a-4449-ad29-18415d83eb38\" xlink:actuate=\"onRequest\" xlink:href=\"psysml:23e87db0-b26a-4449-ad29-18415d83eb38\" xlink:show=\"new\" xlink:title=\"psysml:23e87db0-b26a-4449-ad29-18415d83eb38\" xlink:type=\"simple\"><rect fill=\"#FEFECE\" filter=\"url(#f1dt5nks8p84qq)\" height=\"45.9375\" id=\"E3\" rx=\"10\" ry=\"10\" style=\"stroke: #A80036; stroke-width: 1.5;\" width=\"80\" x=\"352\" y=\"56\"/><text fill=\"#000000\" font-family=\"sans-serif\" font-size=\"12\" font-style=\"italic\" lengthAdjust=\"spacingAndGlyphs\" textLength=\"78\" x=\"353\" y=\"72.1387\">«constraint»</text><text fill=\"#000000\" font-family=\"sans-serif\" font-size=\"12\" lengthAdjust=\"spacingAndGlyphs\" textLength=\"23\" x=\"380.5\" y=\"86.1074\">c: C</text><line style=\"stroke: #A80036; stroke-width: 1.5;\" x1=\"353\" x2=\"431\" y1=\"93.9375\" y2=\"93.9375\"/></a><!--MD5=[ebbe1d658d1005bcc118a6aa81145e00]\n",
       "class E4--><a href=\"psysml:aa32b181-0a7a-45c2-8d8e-c84b0489ed31\" target=\"_top\" title=\"psysml:aa32b181-0a7a-45c2-8d8e-c84b0489ed31\" xlink:actuate=\"onRequest\" xlink:href=\"psysml:aa32b181-0a7a-45c2-8d8e-c84b0489ed31\" xlink:show=\"new\" xlink:title=\"psysml:aa32b181-0a7a-45c2-8d8e-c84b0489ed31\" xlink:type=\"simple\"><rect fill=\"#FEFECE\" filter=\"url(#f1dt5nks8p84qq)\" height=\"109.1563\" id=\"E4\" style=\"stroke: #A80036; stroke-width: 1.5;\" width=\"117\" x=\"32.5\" y=\"301\"/><text fill=\"#000000\" font-family=\"sans-serif\" font-size=\"12\" font-style=\"italic\" lengthAdjust=\"spacingAndGlyphs\" textLength=\"115\" x=\"33.5\" y=\"317.1387\">«requirement def»</text><text fill=\"#000000\" font-family=\"sans-serif\" font-size=\"12\" lengthAdjust=\"spacingAndGlyphs\" textLength=\"8\" x=\"87\" y=\"331.1074\">R</text><line style=\"stroke: #A80036; stroke-width: 1.5;\" x1=\"33.5\" x2=\"148.5\" y1=\"338.9375\" y2=\"338.9375\"/><text fill=\"#000000\" font-family=\"sans-serif\" font-size=\"11\" lengthAdjust=\"spacingAndGlyphs\" textLength=\"0\" x=\"42.5\" y=\"353.1479\"/><line style=\"stroke: #A80036; stroke-width: 1.0;\" x1=\"33.5\" x2=\"148.5\" y1=\"359.7422\" y2=\"359.7422\"/><text fill=\"#000000\" font-family=\"sans-serif\" font-size=\"11\" font-weight=\"bold\" lengthAdjust=\"spacingAndGlyphs\" textLength=\"46\" x=\"38.5\" y=\"390.7573\">require</text><text fill=\"#000000\" font-family=\"sans-serif\" font-size=\"11\" lengthAdjust=\"spacingAndGlyphs\" textLength=\"6\" x=\"88.5\" y=\"390.7573\">c</text><text fill=\"#000000\" font-family=\"sans-serif\" font-size=\"11\" font-style=\"italic\" lengthAdjust=\"spacingAndGlyphs\" textLength=\"46\" x=\"38.5\" y=\"403.562\">assume</text><text fill=\"#000000\" font-family=\"sans-serif\" font-size=\"11\" lengthAdjust=\"spacingAndGlyphs\" textLength=\"29\" x=\"88.5\" y=\"403.562\">c1: C</text><line style=\"stroke: #A80036; stroke-width: 1.0;\" x1=\"33.5\" x2=\"59\" y1=\"374.1445\" y2=\"374.1445\"/><text fill=\"#000000\" font-family=\"sans-serif\" font-size=\"11\" lengthAdjust=\"spacingAndGlyphs\" textLength=\"64\" x=\"59\" y=\"377.4526\">constraints</text><line style=\"stroke: #A80036; stroke-width: 1.0;\" x1=\"123\" x2=\"148.5\" y1=\"374.1445\" y2=\"374.1445\"/></a><!--MD5=[270fce915f116d4de14055a7c1d9a0f3]\n",
       "class E5--><a href=\"psysml:c7a4f64d-f76e-4f11-bab9-561a5696e580\" target=\"_top\" title=\"psysml:c7a4f64d-f76e-4f11-bab9-561a5696e580\" xlink:actuate=\"onRequest\" xlink:href=\"psysml:c7a4f64d-f76e-4f11-bab9-561a5696e580\" xlink:show=\"new\" xlink:title=\"psysml:c7a4f64d-f76e-4f11-bab9-561a5696e580\" xlink:type=\"simple\"><rect fill=\"#FEFECE\" filter=\"url(#f1dt5nks8p84qq)\" height=\"66.7422\" id=\"E5\" style=\"stroke: #A80036; stroke-width: 1.5;\" width=\"117\" x=\"32.5\" y=\"471\"/><text fill=\"#000000\" font-family=\"sans-serif\" font-size=\"12\" font-style=\"italic\" lengthAdjust=\"spacingAndGlyphs\" textLength=\"115\" x=\"33.5\" y=\"487.1387\">«requirement def»</text><text fill=\"#000000\" font-family=\"sans-serif\" font-size=\"12\" lengthAdjust=\"spacingAndGlyphs\" textLength=\"5\" x=\"78\" y=\"501.1074\">[</text><text fill=\"#000000\" font-family=\"sans-serif\" font-size=\"12\" font-weight=\"bold\" lengthAdjust=\"spacingAndGlyphs\" textLength=\"8\" x=\"83\" y=\"501.1074\">1</text><text fill=\"#000000\" font-family=\"sans-serif\" font-size=\"12\" lengthAdjust=\"spacingAndGlyphs\" textLength=\"17\" x=\"91\" y=\"501.1074\">] A</text><line style=\"stroke: #A80036; stroke-width: 1.5;\" x1=\"33.5\" x2=\"148.5\" y1=\"508.9375\" y2=\"508.9375\"/><text fill=\"#000000\" font-family=\"sans-serif\" font-size=\"11\" lengthAdjust=\"spacingAndGlyphs\" textLength=\"24\" x=\"38.5\" y=\"523.1479\">Text</text><line style=\"stroke: #A80036; stroke-width: 1.0;\" x1=\"33.5\" x2=\"148.5\" y1=\"529.7422\" y2=\"529.7422\"/></a><!--MD5=[b9389687b975829384b498ac4b7476b2]\n",
       "class E8--><a href=\"psysml:165156c7-6d13-47e8-9214-4efd9fbee902\" target=\"_top\" title=\"psysml:165156c7-6d13-47e8-9214-4efd9fbee902\" xlink:actuate=\"onRequest\" xlink:href=\"psysml:165156c7-6d13-47e8-9214-4efd9fbee902\" xlink:show=\"new\" xlink:title=\"psysml:165156c7-6d13-47e8-9214-4efd9fbee902\" xlink:type=\"simple\"><rect fill=\"#FEFECE\" filter=\"url(#f1dt5nks8p84qq)\" height=\"45.9375\" id=\"E8\" rx=\"10\" ry=\"10\" style=\"stroke: #A80036; stroke-width: 1.5;\" width=\"93\" x=\"184.5\" y=\"481.5\"/><text fill=\"#000000\" font-family=\"sans-serif\" font-size=\"12\" font-style=\"italic\" lengthAdjust=\"spacingAndGlyphs\" textLength=\"91\" x=\"185.5\" y=\"497.6387\">«requirement»</text><text fill=\"#000000\" font-family=\"sans-serif\" font-size=\"12\" lengthAdjust=\"spacingAndGlyphs\" text-decoration=\"line-through\" textLength=\"51\" x=\"205.5\" y=\"511.6074\">noname</text><line style=\"stroke: #A80036; stroke-width: 1.5;\" x1=\"185.5\" x2=\"276.5\" y1=\"519.4375\" y2=\"519.4375\"/></a><!--MD5=[fd4143e9d270a159db93a4ea2a975926]\n",
       "class E9--><a href=\"psysml:5b4d3eaf-f72e-4f96-998b-f4a0a57df239\" target=\"_top\" title=\"psysml:5b4d3eaf-f72e-4f96-998b-f4a0a57df239\" xlink:actuate=\"onRequest\" xlink:href=\"psysml:5b4d3eaf-f72e-4f96-998b-f4a0a57df239\" xlink:show=\"new\" xlink:title=\"psysml:5b4d3eaf-f72e-4f96-998b-f4a0a57df239\" xlink:type=\"simple\"><rect fill=\"#FEFECE\" filter=\"url(#f1dt5nks8p84qq)\" height=\"76.4922\" id=\"E9\" style=\"stroke: #A80036; stroke-width: 1.5;\" width=\"207\" x=\"109.5\" y=\"41\"/><text fill=\"#000000\" font-family=\"sans-serif\" font-size=\"12\" font-style=\"italic\" lengthAdjust=\"spacingAndGlyphs\" textLength=\"115\" x=\"155.5\" y=\"57.1387\">«requirement def»</text><text fill=\"#000000\" font-family=\"sans-serif\" font-size=\"12\" lengthAdjust=\"spacingAndGlyphs\" textLength=\"16\" x=\"205\" y=\"71.1074\">R1</text><line style=\"stroke: #A80036; stroke-width: 1.5;\" x1=\"110.5\" x2=\"315.5\" y1=\"78.9375\" y2=\"78.9375\"/><text fill=\"#000000\" font-family=\"sans-serif\" font-size=\"11\" font-weight=\"bold\" lengthAdjust=\"spacingAndGlyphs\" textLength=\"46\" x=\"115.5\" y=\"110.8979\">require</text><text fill=\"#000000\" font-family=\"sans-serif\" font-size=\"11\" lengthAdjust=\"spacingAndGlyphs\" textLength=\"0\" x=\"165.5\" y=\"110.8979\"/><path d=\"M167.4167,100.6589 L167.4167,109.8255 L168.3333,109.8255 L168.3333,100.6589 M171.0833,100.6589 L171.0833,109.8255 L178.4167,105.2422 L171.0833,100.6589 L172,102.0339 L177.0417,105.2422 L172,108.4505 L172,102.0339 \" fill=\"#000000\" style=\"stroke: ; stroke-width: 0.0; stroke-dasharray: ;\"/><text fill=\"#000000\" font-family=\"sans-serif\" font-size=\"11\" lengthAdjust=\"spacingAndGlyphs\" textLength=\"13\" x=\"182.5\" y=\"110.8979\">c1</text><text fill=\"#000000\" font-family=\"sans-serif\" font-size=\"11\" lengthAdjust=\"spacingAndGlyphs\" text-decoration=\"line-through\" textLength=\"111\" x=\"199.5\" y=\"110.8979\">RequirementTest::c</text><line style=\"stroke: #A80036; stroke-width: 1.0;\" x1=\"110.5\" x2=\"181\" y1=\"93.3398\" y2=\"93.3398\"/><text fill=\"#000000\" font-family=\"sans-serif\" font-size=\"11\" lengthAdjust=\"spacingAndGlyphs\" textLength=\"64\" x=\"181\" y=\"96.6479\">constraints</text><line style=\"stroke: #A80036; stroke-width: 1.0;\" x1=\"245\" x2=\"315.5\" y1=\"93.3398\" y2=\"93.3398\"/></a><!--MD5=[1dd1bfd58a279cf63c5f349dbc8fc6a1]\n",
       "class E11--><a href=\"psysml:8fb932f6-fc92-43ad-aa0e-8cfa7b71c9b3\" target=\"_top\" title=\"psysml:8fb932f6-fc92-43ad-aa0e-8cfa7b71c9b3\" xlink:actuate=\"onRequest\" xlink:href=\"psysml:8fb932f6-fc92-43ad-aa0e-8cfa7b71c9b3\" xlink:show=\"new\" xlink:title=\"psysml:8fb932f6-fc92-43ad-aa0e-8cfa7b71c9b3\" xlink:type=\"simple\"><rect fill=\"#FEFECE\" filter=\"url(#f1dt5nks8p84qq)\" height=\"45.9375\" id=\"E11\" rx=\"10\" ry=\"10\" style=\"stroke: #A80036; stroke-width: 1.5;\" width=\"42\" x=\"185\" y=\"332.5\"/><text fill=\"#000000\" font-family=\"sans-serif\" font-size=\"12\" font-style=\"italic\" lengthAdjust=\"spacingAndGlyphs\" textLength=\"40\" x=\"186\" y=\"348.6387\">«part»</text><text fill=\"#000000\" font-family=\"sans-serif\" font-size=\"12\" lengthAdjust=\"spacingAndGlyphs\" textLength=\"8\" x=\"202\" y=\"362.6074\">p</text><line style=\"stroke: #A80036; stroke-width: 1.5;\" x1=\"186\" x2=\"226\" y1=\"370.4375\" y2=\"370.4375\"/></a><!--MD5=[49a0ec8f00dab7302a31f22d0f0fe584]\n",
       "class E12--><a href=\"psysml:9b734dfd-0e44-4ae0-bd37-d0a03d4a12cd\" target=\"_top\" title=\"psysml:9b734dfd-0e44-4ae0-bd37-d0a03d4a12cd\" xlink:actuate=\"onRequest\" xlink:href=\"psysml:9b734dfd-0e44-4ae0-bd37-d0a03d4a12cd\" xlink:show=\"new\" xlink:title=\"psysml:9b734dfd-0e44-4ae0-bd37-d0a03d4a12cd\" xlink:type=\"simple\"><rect fill=\"#FEFECE\" filter=\"url(#f1dt5nks8p84qq)\" height=\"45.9375\" id=\"E12\" rx=\"10\" ry=\"10\" style=\"stroke: #A80036; stroke-width: 1.5;\" width=\"42\" x=\"32\" y=\"56\"/><text fill=\"#000000\" font-family=\"sans-serif\" font-size=\"12\" font-style=\"italic\" lengthAdjust=\"spacingAndGlyphs\" textLength=\"40\" x=\"33\" y=\"72.1387\">«part»</text><text fill=\"#000000\" font-family=\"sans-serif\" font-size=\"12\" lengthAdjust=\"spacingAndGlyphs\" textLength=\"8\" x=\"49\" y=\"86.1074\">q</text><line style=\"stroke: #A80036; stroke-width: 1.5;\" x1=\"33\" x2=\"73\" y1=\"93.9375\" y2=\"93.9375\"/></a><!--MD5=[ee3c913d1a06f366521f9ef512b67efe]\n",
       "class E13--><a href=\"psysml:5a1cae69-7149-47dc-88a9-208fdbfbba4b\" target=\"_top\" title=\"psysml:5a1cae69-7149-47dc-88a9-208fdbfbba4b\" xlink:actuate=\"onRequest\" xlink:href=\"psysml:5a1cae69-7149-47dc-88a9-208fdbfbba4b\" xlink:show=\"new\" xlink:title=\"psysml:5a1cae69-7149-47dc-88a9-208fdbfbba4b\" xlink:type=\"simple\"><rect fill=\"#FEFECE\" filter=\"url(#f1dt5nks8p84qq)\" height=\"45.9375\" id=\"E13\" rx=\"10\" ry=\"10\" style=\"stroke: #A80036; stroke-width: 1.5;\" width=\"93\" x=\"44.5\" y=\"178\"/><text fill=\"#000000\" font-family=\"sans-serif\" font-size=\"12\" font-style=\"italic\" lengthAdjust=\"spacingAndGlyphs\" textLength=\"91\" x=\"45.5\" y=\"194.1387\">«requirement»</text><text fill=\"#000000\" font-family=\"sans-serif\" font-size=\"12\" lengthAdjust=\"spacingAndGlyphs\" textLength=\"21\" x=\"80.5\" y=\"208.1074\">r: R</text><line style=\"stroke: #A80036; stroke-width: 1.5;\" x1=\"45.5\" x2=\"136.5\" y1=\"215.9375\" y2=\"215.9375\"/></a><!--MD5=[05d275557350bfb9b23a4ef7222b4c39]\n",
       "link E3 to E2--><a href=\"psysml:bb92853b-9a42-4685-9891-57f30cbf18f8\" target=\"_top\" title=\"psysml:bb92853b-9a42-4685-9891-57f30cbf18f8\" xlink:actuate=\"onRequest\" xlink:href=\"psysml:bb92853b-9a42-4685-9891-57f30cbf18f8\" xlink:show=\"new\" xlink:title=\"psysml:bb92853b-9a42-4685-9891-57f30cbf18f8\" xlink:type=\"simple\"><path d=\"M389.8,102.01 C388.24,117.56 386.11,138.89 384.23,157.68 \" fill=\"none\" id=\"E3-&gt;E2\" style=\"stroke: #A80036; stroke-width: 1.0;\"/><polygon fill=\"#FFFFFF\" points=\"382.23,177.72,377.1511,158.1188,391.0819,159.5089,382.23,177.72\" style=\"stroke: #A80036; stroke-width: 1.0;\"/><ellipse cx=\"379.7072\" cy=\"152.6456\" fill=\"#A80036\" rx=\"2\" ry=\"2\" style=\"stroke: #A80036; stroke-width: 1.0;\"/><ellipse cx=\"389.6578\" cy=\"153.6385\" fill=\"#A80036\" rx=\"2\" ry=\"2\" style=\"stroke: #A80036; stroke-width: 1.0;\"/></a><!--MD5=[62aa6af11e70f752912c1cb0466f24f7]\n",
       "reverse link E4 to E5--><a href=\"psysml:c7a4f64d-f76e-4f11-bab9-561a5696e580\" target=\"_top\" title=\"psysml:c7a4f64d-f76e-4f11-bab9-561a5696e580\" xlink:actuate=\"onRequest\" xlink:href=\"psysml:c7a4f64d-f76e-4f11-bab9-561a5696e580\" xlink:show=\"new\" xlink:title=\"psysml:c7a4f64d-f76e-4f11-bab9-561a5696e580\" xlink:type=\"simple\"><path d=\"M91,425.45 C91,441.34 91,457.51 91,470.98 \" fill=\"none\" id=\"E4&lt;-E5\" style=\"stroke: #A80036; stroke-width: 1.0;\"/><ellipse cx=\"91\" cy=\"418.4\" fill=\"#FFFFFF\" rx=\"8\" ry=\"8\" style=\"stroke: #A80036; stroke-width: 1.0;\"/><line style=\"stroke: #A80036; stroke-width: 1.0;\" x1=\"91\" x2=\"91\" y1=\"426.4\" y2=\"410.4\"/><line style=\"stroke: #A80036; stroke-width: 1.0;\" x1=\"83\" x2=\"99\" y1=\"418.4\" y2=\"418.4\"/></a><!--MD5=[c6fc7cdb0cabde04948078cf183fa696]\n",
       "reverse link E4 to E8--><a href=\"psysml:165156c7-6d13-47e8-9214-4efd9fbee902\" target=\"_top\" title=\"psysml:165156c7-6d13-47e8-9214-4efd9fbee902\" xlink:actuate=\"onRequest\" xlink:href=\"psysml:165156c7-6d13-47e8-9214-4efd9fbee902\" xlink:show=\"new\" xlink:title=\"psysml:165156c7-6d13-47e8-9214-4efd9fbee902\" xlink:type=\"simple\"><path d=\"M151.51,420.04 C172.42,441.99 194.47,465.14 210.03,481.48 \" fill=\"none\" id=\"E4&lt;-E8\" style=\"stroke: #A80036; stroke-width: 1.0;\"/><polygon fill=\"#A80036\" points=\"142.34,410.4,143.5779,417.5041,150.6116,419.0937,149.3737,411.9897,142.34,410.4\" style=\"stroke: #A80036; stroke-width: 1.0;\"/></a><!--MD5=[062ed86c389d1a88f61c6380d0491e17]\n",
       "reverse link E12 to E13--><a href=\"psysml:5a1cae69-7149-47dc-88a9-208fdbfbba4b\" target=\"_top\" title=\"psysml:5a1cae69-7149-47dc-88a9-208fdbfbba4b\" xlink:actuate=\"onRequest\" xlink:href=\"psysml:5a1cae69-7149-47dc-88a9-208fdbfbba4b\" xlink:show=\"new\" xlink:title=\"psysml:5a1cae69-7149-47dc-88a9-208fdbfbba4b\" xlink:type=\"simple\"><path d=\"M63.94,114.55 C70.38,134.88 78.33,160 83.95,177.72 \" fill=\"none\" id=\"E12&lt;-E13\" style=\"stroke: #A80036; stroke-width: 1.0;\"/><polygon fill=\"#A80036\" points=\"59.97,102.01,57.9712,108.9386,63.5981,113.4484,65.5968,106.5198,59.97,102.01\" style=\"stroke: #A80036; stroke-width: 1.0;\"/></a><!--MD5=[017847e01ff9a8bd19f247411074f987]\n",
       "link E13 to E4--><a href=\"psysml:9a693856-e1d7-4623-99b4-c4529bf04054\" target=\"_top\" title=\"psysml:9a693856-e1d7-4623-99b4-c4529bf04054\" xlink:actuate=\"onRequest\" xlink:href=\"psysml:9a693856-e1d7-4623-99b4-c4529bf04054\" xlink:show=\"new\" xlink:title=\"psysml:9a693856-e1d7-4623-99b4-c4529bf04054\" xlink:type=\"simple\"><path d=\"M91,224.17 C91,239.17 91,259.91 91,280.44 \" fill=\"none\" id=\"E13-&gt;E4\" style=\"stroke: #A80036; stroke-width: 1.0;\"/><polygon fill=\"#FFFFFF\" points=\"91,300.68,84,281.68,98,281.68,91,300.68\" style=\"stroke: #A80036; stroke-width: 1.0;\"/><ellipse cx=\"86\" cy=\"275.98\" fill=\"#A80036\" rx=\"2\" ry=\"2\" style=\"stroke: #A80036; stroke-width: 1.0;\"/><ellipse cx=\"96\" cy=\"275.98\" fill=\"#A80036\" rx=\"2\" ry=\"2\" style=\"stroke: #A80036; stroke-width: 1.0;\"/></a><!--MD5=[2cfe899c895462254056921bfb67315f]\n",
       "link E13 to E11--><a href=\"psysml:69852053-465c-4b3e-807c-2facd65a229c\" target=\"_top\" title=\"psysml:69852053-465c-4b3e-807c-2facd65a229c\" xlink:actuate=\"onRequest\" xlink:href=\"psysml:69852053-465c-4b3e-807c-2facd65a229c\" xlink:show=\"new\" xlink:title=\"psysml:69852053-465c-4b3e-807c-2facd65a229c\" xlink:type=\"simple\"><path d=\"M108.36,224.29 C123.87,244.28 147.14,274.45 167,301 C173.57,309.78 180.66,319.44 186.97,328.12 \" fill=\"none\" id=\"E13-&gt;E11\" style=\"stroke: #A80036; stroke-width: 1.0; stroke-dasharray: 7.0,7.0;\"/><polygon fill=\"#A80036\" points=\"189.99,332.28,187.9274,322.6496,187.0474,328.2376,181.4594,327.3576,189.99,332.28\" style=\"stroke: #A80036; stroke-width: 1.0;\"/><text fill=\"#000000\" font-family=\"sans-serif\" font-size=\"13\" lengthAdjust=\"spacingAndGlyphs\" textLength=\"57\" x=\"145\" y=\"267.0669\">«satisfy»</text></a><!--MD5=[dd1a68726d385f3c8860ac66c4f98a90]\n",
       "@startuml\r\n",
       "skinparam wrapWidth 300\r\n",
       "hide circle\r\n",
       "\r\n",
       "package \"RequirementTest\" as E1  [[psysml:7a32e4ca-d886-48d1-a22e-a4337a6af1e2 ]]  {\r\n",
       "comp def \"C\" as E2  <<(T,blue)constraint def>> [[psysml:c5fd5931-ea17-4576-af97-a79679b06835 ]] {\r\n",
       "}\r\n",
       "comp usage \"c: C\" as E3  <<(T,blue)constraint>> [[psysml:23e87db0-b26a-4449-ad29-18415d83eb38 ]] {\r\n",
       "}\r\n",
       "comp def \"R\" as E4  <<(T,blue)requirement def>> [[psysml:aa32b181-0a7a-45c2-8d8e-c84b0489ed31 ]] {\r\n",
       "\r\n",
       "- -\r\n",
       "- - constraints - -\r\n",
       "<b>require</b> c\r\n",
       "<i>assume</i> c1: C\r\n",
       "}\r\n",
       "comp def \" [<b>1</b>] A\" as E5  <<(T,blue)requirement def>> [[psysml:c7a4f64d-f76e-4f11-bab9-561a5696e580 ]] {\r\n",
       "Text\r\n",
       "- -\r\n",
       "}\r\n",
       "comp usage \"<s>noname</s>\" as E8  <<(T,blue)requirement>> [[psysml:165156c7-6d13-47e8-9214-4efd9fbee902 ]] {\r\n",
       "}\r\n",
       "comp def \"R1\" as E9  <<(T,blue)requirement def>> [[psysml:5b4d3eaf-f72e-4f96-998b-f4a0a57df239 ]] {\r\n",
       "- - constraints - -\r\n",
       "<b>require</b> <&bar-trig> c1 <s>RequirementTest::c</s>\r\n",
       "}\r\n",
       "comp usage \"p\" as E11  <<(T,blue)part>> [[psysml:8fb932f6-fc92-43ad-aa0e-8cfa7b71c9b3 ]] {\r\n",
       "}\r\n",
       "comp usage \"q\" as E12  <<(T,blue)part>> [[psysml:9b734dfd-0e44-4ae0-bd37-d0a03d4a12cd ]] {\r\n",
       "}\r\n",
       "comp usage \"r: R\" as E13  <<(T,blue)requirement>> [[psysml:5a1cae69-7149-47dc-88a9-208fdbfbba4b ]] {\r\n",
       "}\r\n",
       "E3 - -:|> E2 [[psysml:bb92853b-9a42-4685-9891-57f30cbf18f8 ]] \r\n",
       "E4 +- - E5 [[psysml:c7a4f64d-f76e-4f11-bab9-561a5696e580 ]] \r\n",
       "E4 *- - E8 [[psysml:165156c7-6d13-47e8-9214-4efd9fbee902 ]] \r\n",
       "E12 *- - E13 [[psysml:5a1cae69-7149-47dc-88a9-208fdbfbba4b ]] \r\n",
       "E13 - -:|> E4 [[psysml:9a693856-e1d7-4623-99b4-c4529bf04054 ]] \r\n",
       "E13 ..> E11 [[psysml:69852053-465c-4b3e-807c-2facd65a229c ]] : <<satisfy>>\r\n",
       "}\r\n",
       "@enduml\r\n",
       "\n",
       "PlantUML version 1.2020.13(Sat Jun 13 12:26:38 UTC 2020)\n",
       "(EPL source distribution)\n",
       "Java Runtime: OpenJDK Runtime Environment\n",
       "JVM: OpenJDK 64-Bit Server VM\n",
       "Default Encoding: UTF-8\n",
       "Language: en\n",
       "Country: null\n",
       "--></g></svg>"
      ]
     },
     "execution_count": 29,
     "metadata": {},
     "output_type": "execute_result"
    }
   ],
   "source": [
    "%viz --style=\"STDCOLOR\" --view=\"MIXED\" \"RequirementTest\""
   ]
  },
  {
   "cell_type": "code",
   "execution_count": 30,
   "id": "practical-equivalent",
   "metadata": {
    "execution": {
     "iopub.execute_input": "2021-03-25T09:27:06.667711Z",
     "iopub.status.busy": "2021-03-25T09:27:06.667101Z",
     "iopub.status.idle": "2021-03-25T09:27:07.542973Z",
     "shell.execute_reply": "2021-03-25T09:27:07.541311Z"
    }
   },
   "outputs": [
    {
     "data": {
      "image/svg+xml": [
       "<?xml version=\"1.0\" encoding=\"UTF-8\" standalone=\"no\"?><svg xmlns=\"http://www.w3.org/2000/svg\" xmlns:xlink=\"http://www.w3.org/1999/xlink\" contentScriptType=\"application/ecmascript\" contentStyleType=\"text/css\" height=\"578px\" preserveAspectRatio=\"none\" style=\"width:460px;height:578px;\" version=\"1.1\" viewBox=\"0 0 460 578\" width=\"460px\" zoomAndPan=\"magnify\"><defs><filter height=\"300%\" id=\"f6x594iu05t13\" width=\"300%\" x=\"-1\" y=\"-1\"><feGaussianBlur result=\"blurOut\" stdDeviation=\"2.0\"/><feColorMatrix in=\"blurOut\" result=\"blurOut2\" type=\"matrix\" values=\"0 0 0 0 0 0 0 0 0 0 0 0 0 0 0 0 0 0 .4 0\"/><feOffset dx=\"4.0\" dy=\"4.0\" in=\"blurOut2\" result=\"blurOut3\"/><feBlend in=\"SourceGraphic\" in2=\"blurOut3\" mode=\"normal\"/></filter></defs><g><!--MD5=[fbc87193dbaf4d95561dea2c320d4a47]\n",
       "cluster E1--><a href=\"psysml:7a32e4ca-d886-48d1-a22e-a4337a6af1e2\" target=\"_top\" title=\"psysml:7a32e4ca-d886-48d1-a22e-a4337a6af1e2\" xlink:actuate=\"onRequest\" xlink:href=\"psysml:7a32e4ca-d886-48d1-a22e-a4337a6af1e2\" xlink:show=\"new\" xlink:title=\"psysml:7a32e4ca-d886-48d1-a22e-a4337a6af1e2\" xlink:type=\"simple\"><polygon fill=\"#FFFFFF\" filter=\"url(#f6x594iu05t13)\" points=\"16,6,158,6,165,28.2969,438,28.2969,438,566,16,566,16,6\" style=\"stroke: #000000; stroke-width: 1.5;\"/><line style=\"stroke: #000000; stroke-width: 1.5;\" x1=\"16\" x2=\"165\" y1=\"28.2969\" y2=\"28.2969\"/><text fill=\"#000000\" font-family=\"sans-serif\" font-size=\"14\" font-weight=\"bold\" lengthAdjust=\"spacingAndGlyphs\" textLength=\"136\" x=\"20\" y=\"20.9951\">RequirementTest</text></a><!--MD5=[b4997ac47864f28c2f74865a473b2911]\n",
       "class E2--><a href=\"psysml:c5fd5931-ea17-4576-af97-a79679b06835\" target=\"_top\" title=\"psysml:c5fd5931-ea17-4576-af97-a79679b06835\" xlink:actuate=\"onRequest\" xlink:href=\"psysml:c5fd5931-ea17-4576-af97-a79679b06835\" xlink:show=\"new\" xlink:title=\"psysml:c5fd5931-ea17-4576-af97-a79679b06835\" xlink:type=\"simple\"><rect fill=\"#FEFECE\" filter=\"url(#f6x594iu05t13)\" height=\"45.9375\" id=\"E2\" style=\"stroke: #A80036; stroke-width: 1.5;\" width=\"130\" x=\"292\" y=\"190\"/><ellipse cx=\"307\" cy=\"208.9688\" fill=\"#A52A2A\" rx=\"11\" ry=\"11\" style=\"stroke: #A80036; stroke-width: 1.0;\"/><path d=\"M306.5938,204.7813 L306.5938,212.7656 L307.25,212.7656 Q308.6875,212.7656 309.2969,211.8594 Q309.9219,210.9375 309.9219,208.7656 Q309.9219,206.5938 309.2969,205.6875 Q308.6875,204.7813 307.25,204.7813 L306.5938,204.7813 Z M304.1406,202.5781 L306.7656,202.5781 Q309.7969,202.5781 311.125,204.0313 Q312.4688,205.4688 312.4688,208.7656 Q312.4688,212.0625 311.125,213.5156 Q309.7969,214.9688 306.7656,214.9688 L304.1406,214.9688 L304.1406,202.5781 Z \"/><text fill=\"#000000\" font-family=\"sans-serif\" font-size=\"12\" font-style=\"italic\" lengthAdjust=\"spacingAndGlyphs\" textLength=\"102\" x=\"319\" y=\"206.1387\">«constraint def»</text><text fill=\"#000000\" font-family=\"sans-serif\" font-size=\"12\" lengthAdjust=\"spacingAndGlyphs\" textLength=\"8\" x=\"366\" y=\"220.1074\">C</text><line style=\"stroke: #A80036; stroke-width: 1.5;\" x1=\"293\" x2=\"421\" y1=\"227.9375\" y2=\"227.9375\"/></a><!--MD5=[09b614a08d8cba4a07c9adeb5e0fee81]\n",
       "class E3--><a href=\"psysml:23e87db0-b26a-4449-ad29-18415d83eb38\" target=\"_top\" title=\"psysml:23e87db0-b26a-4449-ad29-18415d83eb38\" xlink:actuate=\"onRequest\" xlink:href=\"psysml:23e87db0-b26a-4449-ad29-18415d83eb38\" xlink:show=\"new\" xlink:title=\"psysml:23e87db0-b26a-4449-ad29-18415d83eb38\" xlink:type=\"simple\"><rect fill=\"#FEFECE\" filter=\"url(#f6x594iu05t13)\" height=\"45.9375\" id=\"E3\" rx=\"10\" ry=\"10\" style=\"stroke: #A80036; stroke-width: 1.5;\" width=\"106\" x=\"316\" y=\"62\"/><ellipse cx=\"331\" cy=\"80.9688\" fill=\"#FFA500\" rx=\"11\" ry=\"11\" style=\"stroke: #A80036; stroke-width: 1.0;\"/><path d=\"M326.875,82.8906 L326.875,75.0781 L329.3281,75.0781 L329.3281,83.5156 Q329.3281,84.4375 329.7969,84.9688 Q330.2813,85.5 331.1094,85.5 Q331.9531,85.5 332.4219,84.9688 Q332.8906,84.4375 332.8906,83.5156 L332.8906,75.0781 L335.3438,75.0781 L335.3438,82.8906 Q335.3438,85.4219 334.3438,86.5625 Q333.3438,87.7031 331.1094,87.7031 Q328.8906,87.7031 327.875,86.5625 Q326.875,85.4219 326.875,82.8906 Z \"/><text fill=\"#000000\" font-family=\"sans-serif\" font-size=\"12\" font-style=\"italic\" lengthAdjust=\"spacingAndGlyphs\" textLength=\"78\" x=\"343\" y=\"78.1387\">«constraint»</text><text fill=\"#000000\" font-family=\"sans-serif\" font-size=\"12\" lengthAdjust=\"spacingAndGlyphs\" textLength=\"23\" x=\"370.5\" y=\"92.1074\">c: C</text><line style=\"stroke: #A80036; stroke-width: 1.5;\" x1=\"317\" x2=\"421\" y1=\"99.9375\" y2=\"99.9375\"/></a><!--MD5=[ebbe1d658d1005bcc118a6aa81145e00]\n",
       "class E4--><a href=\"psysml:aa32b181-0a7a-45c2-8d8e-c84b0489ed31\" target=\"_top\" title=\"psysml:aa32b181-0a7a-45c2-8d8e-c84b0489ed31\" xlink:actuate=\"onRequest\" xlink:href=\"psysml:aa32b181-0a7a-45c2-8d8e-c84b0489ed31\" xlink:show=\"new\" xlink:title=\"psysml:aa32b181-0a7a-45c2-8d8e-c84b0489ed31\" xlink:type=\"simple\"><rect fill=\"#FEFECE\" filter=\"url(#f6x594iu05t13)\" height=\"109.1563\" id=\"E4\" style=\"stroke: #A80036; stroke-width: 1.5;\" width=\"143\" x=\"32.5\" y=\"313\"/><ellipse cx=\"47.5\" cy=\"331.9688\" fill=\"#A52A2A\" rx=\"11\" ry=\"11\" style=\"stroke: #A80036; stroke-width: 1.0;\"/><path d=\"M47.0938,327.7813 L47.0938,335.7656 L47.75,335.7656 Q49.1875,335.7656 49.7969,334.8594 Q50.4219,333.9375 50.4219,331.7656 Q50.4219,329.5938 49.7969,328.6875 Q49.1875,327.7813 47.75,327.7813 L47.0938,327.7813 Z M44.6406,325.5781 L47.2656,325.5781 Q50.2969,325.5781 51.625,327.0313 Q52.9688,328.4688 52.9688,331.7656 Q52.9688,335.0625 51.625,336.5156 Q50.2969,337.9688 47.2656,337.9688 L44.6406,337.9688 L44.6406,325.5781 Z \"/><text fill=\"#000000\" font-family=\"sans-serif\" font-size=\"12\" font-style=\"italic\" lengthAdjust=\"spacingAndGlyphs\" textLength=\"115\" x=\"59.5\" y=\"329.1387\">«requirement def»</text><text fill=\"#000000\" font-family=\"sans-serif\" font-size=\"12\" lengthAdjust=\"spacingAndGlyphs\" textLength=\"8\" x=\"113\" y=\"343.1074\">R</text><line style=\"stroke: #A80036; stroke-width: 1.5;\" x1=\"33.5\" x2=\"174.5\" y1=\"350.9375\" y2=\"350.9375\"/><text fill=\"#000000\" font-family=\"sans-serif\" font-size=\"11\" lengthAdjust=\"spacingAndGlyphs\" textLength=\"0\" x=\"42.5\" y=\"365.1479\"/><line style=\"stroke: #A80036; stroke-width: 1.0;\" x1=\"33.5\" x2=\"174.5\" y1=\"371.7422\" y2=\"371.7422\"/><text fill=\"#000000\" font-family=\"sans-serif\" font-size=\"11\" font-weight=\"bold\" lengthAdjust=\"spacingAndGlyphs\" textLength=\"46\" x=\"38.5\" y=\"402.7573\">require</text><text fill=\"#000000\" font-family=\"sans-serif\" font-size=\"11\" lengthAdjust=\"spacingAndGlyphs\" textLength=\"6\" x=\"88.5\" y=\"402.7573\">c</text><text fill=\"#000000\" font-family=\"sans-serif\" font-size=\"11\" font-style=\"italic\" lengthAdjust=\"spacingAndGlyphs\" textLength=\"46\" x=\"38.5\" y=\"415.562\">assume</text><text fill=\"#000000\" font-family=\"sans-serif\" font-size=\"11\" lengthAdjust=\"spacingAndGlyphs\" textLength=\"29\" x=\"88.5\" y=\"415.562\">c1: C</text><line style=\"stroke: #A80036; stroke-width: 1.0;\" x1=\"33.5\" x2=\"72\" y1=\"386.1445\" y2=\"386.1445\"/><text fill=\"#000000\" font-family=\"sans-serif\" font-size=\"11\" lengthAdjust=\"spacingAndGlyphs\" textLength=\"64\" x=\"72\" y=\"389.4526\">constraints</text><line style=\"stroke: #A80036; stroke-width: 1.0;\" x1=\"136\" x2=\"174.5\" y1=\"386.1445\" y2=\"386.1445\"/></a><!--MD5=[270fce915f116d4de14055a7c1d9a0f3]\n",
       "class E5--><a href=\"psysml:c7a4f64d-f76e-4f11-bab9-561a5696e580\" target=\"_top\" title=\"psysml:c7a4f64d-f76e-4f11-bab9-561a5696e580\" xlink:actuate=\"onRequest\" xlink:href=\"psysml:c7a4f64d-f76e-4f11-bab9-561a5696e580\" xlink:show=\"new\" xlink:title=\"psysml:c7a4f64d-f76e-4f11-bab9-561a5696e580\" xlink:type=\"simple\"><rect fill=\"#FEFECE\" filter=\"url(#f6x594iu05t13)\" height=\"66.7422\" id=\"E5\" style=\"stroke: #A80036; stroke-width: 1.5;\" width=\"143\" x=\"32.5\" y=\"483\"/><ellipse cx=\"47.5\" cy=\"501.9688\" fill=\"#A52A2A\" rx=\"11\" ry=\"11\" style=\"stroke: #A80036; stroke-width: 1.0;\"/><path d=\"M47.0938,497.7813 L47.0938,505.7656 L47.75,505.7656 Q49.1875,505.7656 49.7969,504.8594 Q50.4219,503.9375 50.4219,501.7656 Q50.4219,499.5938 49.7969,498.6875 Q49.1875,497.7813 47.75,497.7813 L47.0938,497.7813 Z M44.6406,495.5781 L47.2656,495.5781 Q50.2969,495.5781 51.625,497.0313 Q52.9688,498.4688 52.9688,501.7656 Q52.9688,505.0625 51.625,506.5156 Q50.2969,507.9688 47.2656,507.9688 L44.6406,507.9688 L44.6406,495.5781 Z \"/><text fill=\"#000000\" font-family=\"sans-serif\" font-size=\"12\" font-style=\"italic\" lengthAdjust=\"spacingAndGlyphs\" textLength=\"115\" x=\"59.5\" y=\"499.1387\">«requirement def»</text><text fill=\"#000000\" font-family=\"sans-serif\" font-size=\"12\" lengthAdjust=\"spacingAndGlyphs\" textLength=\"5\" x=\"104\" y=\"513.1074\">[</text><text fill=\"#000000\" font-family=\"sans-serif\" font-size=\"12\" font-weight=\"bold\" lengthAdjust=\"spacingAndGlyphs\" textLength=\"8\" x=\"109\" y=\"513.1074\">1</text><text fill=\"#000000\" font-family=\"sans-serif\" font-size=\"12\" lengthAdjust=\"spacingAndGlyphs\" textLength=\"17\" x=\"117\" y=\"513.1074\">] A</text><line style=\"stroke: #A80036; stroke-width: 1.5;\" x1=\"33.5\" x2=\"174.5\" y1=\"520.9375\" y2=\"520.9375\"/><text fill=\"#000000\" font-family=\"sans-serif\" font-size=\"11\" lengthAdjust=\"spacingAndGlyphs\" textLength=\"24\" x=\"38.5\" y=\"535.1479\">Text</text><line style=\"stroke: #A80036; stroke-width: 1.0;\" x1=\"33.5\" x2=\"174.5\" y1=\"541.7422\" y2=\"541.7422\"/></a><!--MD5=[b9389687b975829384b498ac4b7476b2]\n",
       "class E8--><a href=\"psysml:165156c7-6d13-47e8-9214-4efd9fbee902\" target=\"_top\" title=\"psysml:165156c7-6d13-47e8-9214-4efd9fbee902\" xlink:actuate=\"onRequest\" xlink:href=\"psysml:165156c7-6d13-47e8-9214-4efd9fbee902\" xlink:show=\"new\" xlink:title=\"psysml:165156c7-6d13-47e8-9214-4efd9fbee902\" xlink:type=\"simple\"><rect fill=\"#FEFECE\" filter=\"url(#f6x594iu05t13)\" height=\"45.9375\" id=\"E8\" rx=\"10\" ry=\"10\" style=\"stroke: #A80036; stroke-width: 1.5;\" width=\"119\" x=\"210.5\" y=\"493.5\"/><ellipse cx=\"225.5\" cy=\"512.4688\" fill=\"#FFA500\" rx=\"11\" ry=\"11\" style=\"stroke: #A80036; stroke-width: 1.0;\"/><path d=\"M221.375,514.3906 L221.375,506.5781 L223.8281,506.5781 L223.8281,515.0156 Q223.8281,515.9375 224.2969,516.4688 Q224.7813,517 225.6094,517 Q226.4531,517 226.9219,516.4688 Q227.3906,515.9375 227.3906,515.0156 L227.3906,506.5781 L229.8438,506.5781 L229.8438,514.3906 Q229.8438,516.9219 228.8438,518.0625 Q227.8438,519.2031 225.6094,519.2031 Q223.3906,519.2031 222.375,518.0625 Q221.375,516.9219 221.375,514.3906 Z \"/><text fill=\"#000000\" font-family=\"sans-serif\" font-size=\"12\" font-style=\"italic\" lengthAdjust=\"spacingAndGlyphs\" textLength=\"91\" x=\"237.5\" y=\"509.6387\">«requirement»</text><text fill=\"#000000\" font-family=\"sans-serif\" font-size=\"12\" lengthAdjust=\"spacingAndGlyphs\" text-decoration=\"line-through\" textLength=\"51\" x=\"257.5\" y=\"523.6074\">noname</text><line style=\"stroke: #A80036; stroke-width: 1.5;\" x1=\"211.5\" x2=\"328.5\" y1=\"531.4375\" y2=\"531.4375\"/></a><!--MD5=[fd4143e9d270a159db93a4ea2a975926]\n",
       "class E9--><a href=\"psysml:5b4d3eaf-f72e-4f96-998b-f4a0a57df239\" target=\"_top\" title=\"psysml:5b4d3eaf-f72e-4f96-998b-f4a0a57df239\" xlink:actuate=\"onRequest\" xlink:href=\"psysml:5b4d3eaf-f72e-4f96-998b-f4a0a57df239\" xlink:show=\"new\" xlink:title=\"psysml:5b4d3eaf-f72e-4f96-998b-f4a0a57df239\" xlink:type=\"simple\"><rect fill=\"#FEFECE\" filter=\"url(#f6x594iu05t13)\" height=\"88.3516\" id=\"E9\" style=\"stroke: #A80036; stroke-width: 1.5;\" width=\"145\" x=\"135.5\" y=\"41\"/><ellipse cx=\"151.4\" cy=\"59.9688\" fill=\"#A52A2A\" rx=\"11\" ry=\"11\" style=\"stroke: #A80036; stroke-width: 1.0;\"/><path d=\"M150.9938,55.7813 L150.9938,63.7656 L151.65,63.7656 Q153.0875,63.7656 153.6969,62.8594 Q154.3219,61.9375 154.3219,59.7656 Q154.3219,57.5938 153.6969,56.6875 Q153.0875,55.7813 151.65,55.7813 L150.9938,55.7813 Z M148.5406,53.5781 L151.1656,53.5781 Q154.1969,53.5781 155.525,55.0313 Q156.8688,56.4688 156.8688,59.7656 Q156.8688,63.0625 155.525,64.5156 Q154.1969,65.9688 151.1656,65.9688 L148.5406,65.9688 L148.5406,53.5781 Z \"/><text fill=\"#000000\" font-family=\"sans-serif\" font-size=\"12\" font-style=\"italic\" lengthAdjust=\"spacingAndGlyphs\" textLength=\"115\" x=\"163.6\" y=\"57.1387\">«requirement def»</text><text fill=\"#000000\" font-family=\"sans-serif\" font-size=\"12\" lengthAdjust=\"spacingAndGlyphs\" textLength=\"16\" x=\"213.1\" y=\"71.1074\">R1</text><line style=\"stroke: #A80036; stroke-width: 1.5;\" x1=\"136.5\" x2=\"279.5\" y1=\"78.9375\" y2=\"78.9375\"/><text fill=\"#000000\" font-family=\"sans-serif\" font-size=\"11\" font-weight=\"bold\" lengthAdjust=\"spacingAndGlyphs\" textLength=\"46\" x=\"141.5\" y=\"109.9526\">require</text><text fill=\"#000000\" font-family=\"sans-serif\" font-size=\"11\" lengthAdjust=\"spacingAndGlyphs\" textLength=\"13\" x=\"191.5\" y=\"109.9526\">c1</text><text fill=\"#000000\" font-family=\"sans-serif\" font-size=\"11\" font-style=\"italic\" lengthAdjust=\"spacingAndGlyphs\" textLength=\"133\" x=\"141.5\" y=\"122.7573\">:&gt;&gt;RequirementTest::c</text><line style=\"stroke: #A80036; stroke-width: 1.0;\" x1=\"136.5\" x2=\"176\" y1=\"93.3398\" y2=\"93.3398\"/><text fill=\"#000000\" font-family=\"sans-serif\" font-size=\"11\" lengthAdjust=\"spacingAndGlyphs\" textLength=\"64\" x=\"176\" y=\"96.6479\">constraints</text><line style=\"stroke: #A80036; stroke-width: 1.0;\" x1=\"240\" x2=\"279.5\" y1=\"93.3398\" y2=\"93.3398\"/></a><!--MD5=[1dd1bfd58a279cf63c5f349dbc8fc6a1]\n",
       "class E11--><a href=\"psysml:8fb932f6-fc92-43ad-aa0e-8cfa7b71c9b3\" target=\"_top\" title=\"psysml:8fb932f6-fc92-43ad-aa0e-8cfa7b71c9b3\" xlink:actuate=\"onRequest\" xlink:href=\"psysml:8fb932f6-fc92-43ad-aa0e-8cfa7b71c9b3\" xlink:show=\"new\" xlink:title=\"psysml:8fb932f6-fc92-43ad-aa0e-8cfa7b71c9b3\" xlink:type=\"simple\"><rect fill=\"#FEFECE\" filter=\"url(#f6x594iu05t13)\" height=\"45.9375\" id=\"E11\" rx=\"10\" ry=\"10\" style=\"stroke: #A80036; stroke-width: 1.5;\" width=\"68\" x=\"211\" y=\"344.5\"/><ellipse cx=\"226\" cy=\"363.4688\" fill=\"#32CD32\" rx=\"11\" ry=\"11\" style=\"stroke: #A80036; stroke-width: 1.0;\"/><path d=\"M225.7969,359.1406 L225.7969,362.7656 L226.7969,362.7656 Q228,362.7656 228.4844,362.3594 Q228.9688,361.9531 228.9688,360.9531 Q228.9688,359.9531 228.4844,359.5469 Q228,359.1406 226.7969,359.1406 L225.7969,359.1406 Z M223.3438,357.0781 L226.7031,357.0781 Q229.2656,357.0781 230.3906,358 Q231.5156,358.9063 231.5156,360.9531 Q231.5156,363 230.3906,363.9219 Q229.2656,364.8281 226.7031,364.8281 L225.7969,364.8281 L225.7969,369.4688 L223.3438,369.4688 L223.3438,357.0781 Z \"/><text fill=\"#000000\" font-family=\"sans-serif\" font-size=\"12\" font-style=\"italic\" lengthAdjust=\"spacingAndGlyphs\" textLength=\"40\" x=\"238\" y=\"360.6387\">«part»</text><text fill=\"#000000\" font-family=\"sans-serif\" font-size=\"12\" lengthAdjust=\"spacingAndGlyphs\" textLength=\"8\" x=\"254\" y=\"374.6074\">p</text><line style=\"stroke: #A80036; stroke-width: 1.5;\" x1=\"212\" x2=\"278\" y1=\"382.4375\" y2=\"382.4375\"/></a><!--MD5=[49a0ec8f00dab7302a31f22d0f0fe584]\n",
       "class E12--><a href=\"psysml:9b734dfd-0e44-4ae0-bd37-d0a03d4a12cd\" target=\"_top\" title=\"psysml:9b734dfd-0e44-4ae0-bd37-d0a03d4a12cd\" xlink:actuate=\"onRequest\" xlink:href=\"psysml:9b734dfd-0e44-4ae0-bd37-d0a03d4a12cd\" xlink:show=\"new\" xlink:title=\"psysml:9b734dfd-0e44-4ae0-bd37-d0a03d4a12cd\" xlink:type=\"simple\"><rect fill=\"#FEFECE\" filter=\"url(#f6x594iu05t13)\" height=\"45.9375\" id=\"E12\" rx=\"10\" ry=\"10\" style=\"stroke: #A80036; stroke-width: 1.5;\" width=\"68\" x=\"32\" y=\"62\"/><ellipse cx=\"47\" cy=\"80.9688\" fill=\"#32CD32\" rx=\"11\" ry=\"11\" style=\"stroke: #A80036; stroke-width: 1.0;\"/><path d=\"M46.7969,76.6406 L46.7969,80.2656 L47.7969,80.2656 Q49,80.2656 49.4844,79.8594 Q49.9688,79.4531 49.9688,78.4531 Q49.9688,77.4531 49.4844,77.0469 Q49,76.6406 47.7969,76.6406 L46.7969,76.6406 Z M44.3438,74.5781 L47.7031,74.5781 Q50.2656,74.5781 51.3906,75.5 Q52.5156,76.4063 52.5156,78.4531 Q52.5156,80.5 51.3906,81.4219 Q50.2656,82.3281 47.7031,82.3281 L46.7969,82.3281 L46.7969,86.9688 L44.3438,86.9688 L44.3438,74.5781 Z \"/><text fill=\"#000000\" font-family=\"sans-serif\" font-size=\"12\" font-style=\"italic\" lengthAdjust=\"spacingAndGlyphs\" textLength=\"40\" x=\"59\" y=\"78.1387\">«part»</text><text fill=\"#000000\" font-family=\"sans-serif\" font-size=\"12\" lengthAdjust=\"spacingAndGlyphs\" textLength=\"8\" x=\"75\" y=\"92.1074\">q</text><line style=\"stroke: #A80036; stroke-width: 1.5;\" x1=\"33\" x2=\"99\" y1=\"99.9375\" y2=\"99.9375\"/></a><!--MD5=[ee3c913d1a06f366521f9ef512b67efe]\n",
       "class E13--><a href=\"psysml:5a1cae69-7149-47dc-88a9-208fdbfbba4b\" target=\"_top\" title=\"psysml:5a1cae69-7149-47dc-88a9-208fdbfbba4b\" xlink:actuate=\"onRequest\" xlink:href=\"psysml:5a1cae69-7149-47dc-88a9-208fdbfbba4b\" xlink:show=\"new\" xlink:title=\"psysml:5a1cae69-7149-47dc-88a9-208fdbfbba4b\" xlink:type=\"simple\"><rect fill=\"#FEFECE\" filter=\"url(#f6x594iu05t13)\" height=\"45.9375\" id=\"E13\" rx=\"10\" ry=\"10\" style=\"stroke: #A80036; stroke-width: 1.5;\" width=\"119\" x=\"44.5\" y=\"190\"/><ellipse cx=\"59.5\" cy=\"208.9688\" fill=\"#FFA500\" rx=\"11\" ry=\"11\" style=\"stroke: #A80036; stroke-width: 1.0;\"/><path d=\"M55.375,210.8906 L55.375,203.0781 L57.8281,203.0781 L57.8281,211.5156 Q57.8281,212.4375 58.2969,212.9688 Q58.7813,213.5 59.6094,213.5 Q60.4531,213.5 60.9219,212.9688 Q61.3906,212.4375 61.3906,211.5156 L61.3906,203.0781 L63.8438,203.0781 L63.8438,210.8906 Q63.8438,213.4219 62.8438,214.5625 Q61.8438,215.7031 59.6094,215.7031 Q57.3906,215.7031 56.375,214.5625 Q55.375,213.4219 55.375,210.8906 Z \"/><text fill=\"#000000\" font-family=\"sans-serif\" font-size=\"12\" font-style=\"italic\" lengthAdjust=\"spacingAndGlyphs\" textLength=\"91\" x=\"71.5\" y=\"206.1387\">«requirement»</text><text fill=\"#000000\" font-family=\"sans-serif\" font-size=\"12\" lengthAdjust=\"spacingAndGlyphs\" textLength=\"21\" x=\"106.5\" y=\"220.1074\">r: R</text><line style=\"stroke: #A80036; stroke-width: 1.5;\" x1=\"45.5\" x2=\"162.5\" y1=\"227.9375\" y2=\"227.9375\"/></a><!--MD5=[05d275557350bfb9b23a4ef7222b4c39]\n",
       "link E3 to E2--><a href=\"psysml:bb92853b-9a42-4685-9891-57f30cbf18f8\" target=\"_top\" title=\"psysml:bb92853b-9a42-4685-9891-57f30cbf18f8\" xlink:actuate=\"onRequest\" xlink:href=\"psysml:bb92853b-9a42-4685-9891-57f30cbf18f8\" xlink:show=\"new\" xlink:title=\"psysml:bb92853b-9a42-4685-9891-57f30cbf18f8\" xlink:type=\"simple\"><path d=\"M366.88,108.24 C365.26,125.24 362.98,149.19 361.02,169.79 \" fill=\"none\" id=\"E3-&gt;E2\" style=\"stroke: #A80036; stroke-width: 1.0;\"/><polygon fill=\"#FFFFFF\" points=\"359.1,189.99,353.9362,170.411,367.8729,171.7407,359.1,189.99\" style=\"stroke: #A80036; stroke-width: 1.0;\"/><ellipse cx=\"356.4685\" cy=\"164.9268\" fill=\"#A80036\" rx=\"2\" ry=\"2\" style=\"stroke: #A80036; stroke-width: 1.0;\"/><ellipse cx=\"366.4233\" cy=\"165.8765\" fill=\"#A80036\" rx=\"2\" ry=\"2\" style=\"stroke: #A80036; stroke-width: 1.0;\"/></a><!--MD5=[62aa6af11e70f752912c1cb0466f24f7]\n",
       "reverse link E4 to E5--><a href=\"psysml:c7a4f64d-f76e-4f11-bab9-561a5696e580\" target=\"_top\" title=\"psysml:c7a4f64d-f76e-4f11-bab9-561a5696e580\" xlink:actuate=\"onRequest\" xlink:href=\"psysml:c7a4f64d-f76e-4f11-bab9-561a5696e580\" xlink:show=\"new\" xlink:title=\"psysml:c7a4f64d-f76e-4f11-bab9-561a5696e580\" xlink:type=\"simple\"><path d=\"M104,437.45 C104,453.34 104,469.51 104,482.98 \" fill=\"none\" id=\"E4&lt;-E5\" style=\"stroke: #A80036; stroke-width: 1.0;\"/><ellipse cx=\"104\" cy=\"430.4\" fill=\"#FFFFFF\" rx=\"8\" ry=\"8\" style=\"stroke: #A80036; stroke-width: 1.0;\"/><line style=\"stroke: #A80036; stroke-width: 1.0;\" x1=\"104\" x2=\"104\" y1=\"438.4\" y2=\"422.4\"/><line style=\"stroke: #A80036; stroke-width: 1.0;\" x1=\"96\" x2=\"112\" y1=\"430.4\" y2=\"430.4\"/></a><!--MD5=[c6fc7cdb0cabde04948078cf183fa696]\n",
       "reverse link E4 to E8--><a href=\"psysml:165156c7-6d13-47e8-9214-4efd9fbee902\" target=\"_top\" title=\"psysml:165156c7-6d13-47e8-9214-4efd9fbee902\" xlink:actuate=\"onRequest\" xlink:href=\"psysml:165156c7-6d13-47e8-9214-4efd9fbee902\" xlink:show=\"new\" xlink:title=\"psysml:165156c7-6d13-47e8-9214-4efd9fbee902\" xlink:type=\"simple\"><path d=\"M174.75,431.16 C199.83,453.36 226.43,476.92 245.13,493.48 \" fill=\"none\" id=\"E4&lt;-E8\" style=\"stroke: #A80036; stroke-width: 1.0;\"/><polygon fill=\"#A80036\" points=\"164.87,422.4,166.7154,429.371,173.86,430.3486,172.0145,423.3776,164.87,422.4\" style=\"stroke: #A80036; stroke-width: 1.0;\"/></a><!--MD5=[062ed86c389d1a88f61c6380d0491e17]\n",
       "reverse link E12 to E13--><a href=\"psysml:5a1cae69-7149-47dc-88a9-208fdbfbba4b\" target=\"_top\" title=\"psysml:5a1cae69-7149-47dc-88a9-208fdbfbba4b\" xlink:actuate=\"onRequest\" xlink:href=\"psysml:5a1cae69-7149-47dc-88a9-208fdbfbba4b\" xlink:show=\"new\" xlink:title=\"psysml:5a1cae69-7149-47dc-88a9-208fdbfbba4b\" xlink:type=\"simple\"><path d=\"M76.49,120.8 C83.17,142.92 91.6,170.89 97.36,189.99 \" fill=\"none\" id=\"E12&lt;-E13\" style=\"stroke: #A80036; stroke-width: 1.0;\"/><polygon fill=\"#A80036\" points=\"72.71,108.24,70.6129,115.1394,76.1751,119.7288,78.2722,112.8294,72.71,108.24\" style=\"stroke: #A80036; stroke-width: 1.0;\"/></a><!--MD5=[017847e01ff9a8bd19f247411074f987]\n",
       "link E13 to E4--><a href=\"psysml:9a693856-e1d7-4623-99b4-c4529bf04054\" target=\"_top\" title=\"psysml:9a693856-e1d7-4623-99b4-c4529bf04054\" xlink:actuate=\"onRequest\" xlink:href=\"psysml:9a693856-e1d7-4623-99b4-c4529bf04054\" xlink:show=\"new\" xlink:title=\"psysml:9a693856-e1d7-4623-99b4-c4529bf04054\" xlink:type=\"simple\"><path d=\"M104,236.17 C104,251.17 104,271.91 104,292.44 \" fill=\"none\" id=\"E13-&gt;E4\" style=\"stroke: #A80036; stroke-width: 1.0;\"/><polygon fill=\"#FFFFFF\" points=\"104,312.68,97,293.68,111,293.68,104,312.68\" style=\"stroke: #A80036; stroke-width: 1.0;\"/><ellipse cx=\"99\" cy=\"287.98\" fill=\"#A80036\" rx=\"2\" ry=\"2\" style=\"stroke: #A80036; stroke-width: 1.0;\"/><ellipse cx=\"109\" cy=\"287.98\" fill=\"#A80036\" rx=\"2\" ry=\"2\" style=\"stroke: #A80036; stroke-width: 1.0;\"/></a><!--MD5=[2cfe899c895462254056921bfb67315f]\n",
       "link E13 to E11--><a href=\"psysml:69852053-465c-4b3e-807c-2facd65a229c\" target=\"_top\" title=\"psysml:69852053-465c-4b3e-807c-2facd65a229c\" xlink:actuate=\"onRequest\" xlink:href=\"psysml:69852053-465c-4b3e-807c-2facd65a229c\" xlink:show=\"new\" xlink:title=\"psysml:69852053-465c-4b3e-807c-2facd65a229c\" xlink:type=\"simple\"><path d=\"M124.5,236.17 C150.09,263.85 193.77,311.09 220.92,340.45 \" fill=\"none\" id=\"E13-&gt;E11\" style=\"stroke: #A80036; stroke-width: 1.0; stroke-dasharray: 7.0,7.0;\"/><polygon fill=\"#A80036\" points=\"224.47,344.3,221.2896,334.9788,221.0727,340.6315,215.42,340.4145,224.47,344.3\" style=\"stroke: #A80036; stroke-width: 1.0;\"/><text fill=\"#000000\" font-family=\"sans-serif\" font-size=\"13\" lengthAdjust=\"spacingAndGlyphs\" textLength=\"57\" x=\"167\" y=\"279.0669\">«satisfy»</text></a><!--MD5=[e753265980b239b4f572638fcfaf4d8d]\n",
       "@startuml\r\n",
       " \r\n",
       "package \"RequirementTest\" as E1  [[psysml:7a32e4ca-d886-48d1-a22e-a4337a6af1e2 ]]  {\r\n",
       "comp def \"C\" as E2  <<(D,brown)constraint def>> [[psysml:c5fd5931-ea17-4576-af97-a79679b06835 ]] {\r\n",
       "}\r\n",
       "comp usage \"c: C\" as E3  <<(U,orange)constraint>> [[psysml:23e87db0-b26a-4449-ad29-18415d83eb38 ]] {\r\n",
       "}\r\n",
       "comp def \"R\" as E4  <<(D,brown)requirement def>> [[psysml:aa32b181-0a7a-45c2-8d8e-c84b0489ed31 ]] {\r\n",
       "\r\n",
       "- -\r\n",
       "- - constraints - -\r\n",
       "<b>require</b> c\r\n",
       "<i>assume</i> c1: C\r\n",
       "}\r\n",
       "comp def \" [<b>1</b>] A\" as E5  <<(D,brown)requirement def>> [[psysml:c7a4f64d-f76e-4f11-bab9-561a5696e580 ]] {\r\n",
       "Text\r\n",
       "- -\r\n",
       "}\r\n",
       "comp usage \"<s>noname</s>\" as E8  <<(U,orange)requirement>> [[psysml:165156c7-6d13-47e8-9214-4efd9fbee902 ]] {\r\n",
       "}\r\n",
       "comp def \"R1\" as E9  <<(D,brown)requirement def>> [[psysml:5b4d3eaf-f72e-4f96-998b-f4a0a57df239 ]] {\r\n",
       "- - constraints - -\r\n",
       "<b>require</b> c1\\n//:>>RequirementTest::c// \r\n",
       "}\r\n",
       "comp usage \"p\" as E11  << (P,limegreen) part>> [[psysml:8fb932f6-fc92-43ad-aa0e-8cfa7b71c9b3 ]] {\r\n",
       "}\r\n",
       "comp usage \"q\" as E12  << (P,limegreen) part>> [[psysml:9b734dfd-0e44-4ae0-bd37-d0a03d4a12cd ]] {\r\n",
       "}\r\n",
       "comp usage \"r: R\" as E13  <<(U,orange)requirement>> [[psysml:5a1cae69-7149-47dc-88a9-208fdbfbba4b ]] {\r\n",
       "}\r\n",
       "E3 - -:|> E2 [[psysml:bb92853b-9a42-4685-9891-57f30cbf18f8 ]] \r\n",
       "E4 +- - E5 [[psysml:c7a4f64d-f76e-4f11-bab9-561a5696e580 ]] \r\n",
       "E4 *- - E8 [[psysml:165156c7-6d13-47e8-9214-4efd9fbee902 ]] \r\n",
       "E12 *- - E13 [[psysml:5a1cae69-7149-47dc-88a9-208fdbfbba4b ]] \r\n",
       "E13 - -:|> E4 [[psysml:9a693856-e1d7-4623-99b4-c4529bf04054 ]] \r\n",
       "E13 ..> E11 [[psysml:69852053-465c-4b3e-807c-2facd65a229c ]] : <<satisfy>>\r\n",
       "}\r\n",
       "@enduml\r\n",
       "\n",
       "PlantUML version 1.2020.13(Sat Jun 13 12:26:38 UTC 2020)\n",
       "(EPL source distribution)\n",
       "Java Runtime: OpenJDK Runtime Environment\n",
       "JVM: OpenJDK 64-Bit Server VM\n",
       "Default Encoding: UTF-8\n",
       "Language: en\n",
       "Country: null\n",
       "--></g></svg>"
      ]
     },
     "execution_count": 30,
     "metadata": {},
     "output_type": "execute_result"
    }
   ],
   "source": [
    "%viz --style=\"PLANTUML\" --view=\"Default\" \"RequirementTest\""
   ]
  },
  {
   "cell_type": "code",
   "execution_count": 31,
   "id": "chief-labor",
   "metadata": {
    "execution": {
     "iopub.execute_input": "2021-03-25T09:27:07.595277Z",
     "iopub.status.busy": "2021-03-25T09:27:07.594695Z",
     "iopub.status.idle": "2021-03-25T09:27:08.444156Z",
     "shell.execute_reply": "2021-03-25T09:27:08.442666Z"
    }
   },
   "outputs": [
    {
     "data": {
      "image/svg+xml": [
       "<?xml version=\"1.0\" encoding=\"UTF-8\" standalone=\"no\"?><svg xmlns=\"http://www.w3.org/2000/svg\" xmlns:xlink=\"http://www.w3.org/1999/xlink\" contentScriptType=\"application/ecmascript\" contentStyleType=\"text/css\" height=\"578px\" preserveAspectRatio=\"none\" style=\"width:460px;height:578px;\" version=\"1.1\" viewBox=\"0 0 460 578\" width=\"460px\" zoomAndPan=\"magnify\"><defs><filter height=\"300%\" id=\"f6x594iu05t13\" width=\"300%\" x=\"-1\" y=\"-1\"><feGaussianBlur result=\"blurOut\" stdDeviation=\"2.0\"/><feColorMatrix in=\"blurOut\" result=\"blurOut2\" type=\"matrix\" values=\"0 0 0 0 0 0 0 0 0 0 0 0 0 0 0 0 0 0 .4 0\"/><feOffset dx=\"4.0\" dy=\"4.0\" in=\"blurOut2\" result=\"blurOut3\"/><feBlend in=\"SourceGraphic\" in2=\"blurOut3\" mode=\"normal\"/></filter></defs><g><!--MD5=[fbc87193dbaf4d95561dea2c320d4a47]\n",
       "cluster E1--><a href=\"psysml:7a32e4ca-d886-48d1-a22e-a4337a6af1e2\" target=\"_top\" title=\"psysml:7a32e4ca-d886-48d1-a22e-a4337a6af1e2\" xlink:actuate=\"onRequest\" xlink:href=\"psysml:7a32e4ca-d886-48d1-a22e-a4337a6af1e2\" xlink:show=\"new\" xlink:title=\"psysml:7a32e4ca-d886-48d1-a22e-a4337a6af1e2\" xlink:type=\"simple\"><polygon fill=\"#FFFFFF\" filter=\"url(#f6x594iu05t13)\" points=\"16,6,158,6,165,28.2969,438,28.2969,438,566,16,566,16,6\" style=\"stroke: #000000; stroke-width: 1.5;\"/><line style=\"stroke: #000000; stroke-width: 1.5;\" x1=\"16\" x2=\"165\" y1=\"28.2969\" y2=\"28.2969\"/><text fill=\"#000000\" font-family=\"sans-serif\" font-size=\"14\" font-weight=\"bold\" lengthAdjust=\"spacingAndGlyphs\" textLength=\"136\" x=\"20\" y=\"20.9951\">RequirementTest</text></a><!--MD5=[b4997ac47864f28c2f74865a473b2911]\n",
       "class E2--><a href=\"psysml:c5fd5931-ea17-4576-af97-a79679b06835\" target=\"_top\" title=\"psysml:c5fd5931-ea17-4576-af97-a79679b06835\" xlink:actuate=\"onRequest\" xlink:href=\"psysml:c5fd5931-ea17-4576-af97-a79679b06835\" xlink:show=\"new\" xlink:title=\"psysml:c5fd5931-ea17-4576-af97-a79679b06835\" xlink:type=\"simple\"><rect fill=\"#FEFECE\" filter=\"url(#f6x594iu05t13)\" height=\"45.9375\" id=\"E2\" style=\"stroke: #A80036; stroke-width: 1.5;\" width=\"130\" x=\"292\" y=\"190\"/><ellipse cx=\"307\" cy=\"208.9688\" fill=\"#A52A2A\" rx=\"11\" ry=\"11\" style=\"stroke: #A80036; stroke-width: 1.0;\"/><path d=\"M306.5938,204.7813 L306.5938,212.7656 L307.25,212.7656 Q308.6875,212.7656 309.2969,211.8594 Q309.9219,210.9375 309.9219,208.7656 Q309.9219,206.5938 309.2969,205.6875 Q308.6875,204.7813 307.25,204.7813 L306.5938,204.7813 Z M304.1406,202.5781 L306.7656,202.5781 Q309.7969,202.5781 311.125,204.0313 Q312.4688,205.4688 312.4688,208.7656 Q312.4688,212.0625 311.125,213.5156 Q309.7969,214.9688 306.7656,214.9688 L304.1406,214.9688 L304.1406,202.5781 Z \"/><text fill=\"#000000\" font-family=\"sans-serif\" font-size=\"12\" font-style=\"italic\" lengthAdjust=\"spacingAndGlyphs\" textLength=\"102\" x=\"319\" y=\"206.1387\">«constraint def»</text><text fill=\"#000000\" font-family=\"sans-serif\" font-size=\"12\" lengthAdjust=\"spacingAndGlyphs\" textLength=\"8\" x=\"366\" y=\"220.1074\">C</text><line style=\"stroke: #A80036; stroke-width: 1.5;\" x1=\"293\" x2=\"421\" y1=\"227.9375\" y2=\"227.9375\"/></a><!--MD5=[09b614a08d8cba4a07c9adeb5e0fee81]\n",
       "class E3--><a href=\"psysml:23e87db0-b26a-4449-ad29-18415d83eb38\" target=\"_top\" title=\"psysml:23e87db0-b26a-4449-ad29-18415d83eb38\" xlink:actuate=\"onRequest\" xlink:href=\"psysml:23e87db0-b26a-4449-ad29-18415d83eb38\" xlink:show=\"new\" xlink:title=\"psysml:23e87db0-b26a-4449-ad29-18415d83eb38\" xlink:type=\"simple\"><rect fill=\"#FEFECE\" filter=\"url(#f6x594iu05t13)\" height=\"45.9375\" id=\"E3\" rx=\"10\" ry=\"10\" style=\"stroke: #A80036; stroke-width: 1.5;\" width=\"106\" x=\"316\" y=\"62\"/><ellipse cx=\"331\" cy=\"80.9688\" fill=\"#FFA500\" rx=\"11\" ry=\"11\" style=\"stroke: #A80036; stroke-width: 1.0;\"/><path d=\"M326.875,82.8906 L326.875,75.0781 L329.3281,75.0781 L329.3281,83.5156 Q329.3281,84.4375 329.7969,84.9688 Q330.2813,85.5 331.1094,85.5 Q331.9531,85.5 332.4219,84.9688 Q332.8906,84.4375 332.8906,83.5156 L332.8906,75.0781 L335.3438,75.0781 L335.3438,82.8906 Q335.3438,85.4219 334.3438,86.5625 Q333.3438,87.7031 331.1094,87.7031 Q328.8906,87.7031 327.875,86.5625 Q326.875,85.4219 326.875,82.8906 Z \"/><text fill=\"#000000\" font-family=\"sans-serif\" font-size=\"12\" font-style=\"italic\" lengthAdjust=\"spacingAndGlyphs\" textLength=\"78\" x=\"343\" y=\"78.1387\">«constraint»</text><text fill=\"#000000\" font-family=\"sans-serif\" font-size=\"12\" lengthAdjust=\"spacingAndGlyphs\" textLength=\"23\" x=\"370.5\" y=\"92.1074\">c: C</text><line style=\"stroke: #A80036; stroke-width: 1.5;\" x1=\"317\" x2=\"421\" y1=\"99.9375\" y2=\"99.9375\"/></a><!--MD5=[ebbe1d658d1005bcc118a6aa81145e00]\n",
       "class E4--><a href=\"psysml:aa32b181-0a7a-45c2-8d8e-c84b0489ed31\" target=\"_top\" title=\"psysml:aa32b181-0a7a-45c2-8d8e-c84b0489ed31\" xlink:actuate=\"onRequest\" xlink:href=\"psysml:aa32b181-0a7a-45c2-8d8e-c84b0489ed31\" xlink:show=\"new\" xlink:title=\"psysml:aa32b181-0a7a-45c2-8d8e-c84b0489ed31\" xlink:type=\"simple\"><rect fill=\"#FEFECE\" filter=\"url(#f6x594iu05t13)\" height=\"109.1563\" id=\"E4\" style=\"stroke: #A80036; stroke-width: 1.5;\" width=\"143\" x=\"32.5\" y=\"313\"/><ellipse cx=\"47.5\" cy=\"331.9688\" fill=\"#A52A2A\" rx=\"11\" ry=\"11\" style=\"stroke: #A80036; stroke-width: 1.0;\"/><path d=\"M47.0938,327.7813 L47.0938,335.7656 L47.75,335.7656 Q49.1875,335.7656 49.7969,334.8594 Q50.4219,333.9375 50.4219,331.7656 Q50.4219,329.5938 49.7969,328.6875 Q49.1875,327.7813 47.75,327.7813 L47.0938,327.7813 Z M44.6406,325.5781 L47.2656,325.5781 Q50.2969,325.5781 51.625,327.0313 Q52.9688,328.4688 52.9688,331.7656 Q52.9688,335.0625 51.625,336.5156 Q50.2969,337.9688 47.2656,337.9688 L44.6406,337.9688 L44.6406,325.5781 Z \"/><text fill=\"#000000\" font-family=\"sans-serif\" font-size=\"12\" font-style=\"italic\" lengthAdjust=\"spacingAndGlyphs\" textLength=\"115\" x=\"59.5\" y=\"329.1387\">«requirement def»</text><text fill=\"#000000\" font-family=\"sans-serif\" font-size=\"12\" lengthAdjust=\"spacingAndGlyphs\" textLength=\"8\" x=\"113\" y=\"343.1074\">R</text><line style=\"stroke: #A80036; stroke-width: 1.5;\" x1=\"33.5\" x2=\"174.5\" y1=\"350.9375\" y2=\"350.9375\"/><text fill=\"#000000\" font-family=\"sans-serif\" font-size=\"11\" lengthAdjust=\"spacingAndGlyphs\" textLength=\"0\" x=\"42.5\" y=\"365.1479\"/><line style=\"stroke: #A80036; stroke-width: 1.0;\" x1=\"33.5\" x2=\"174.5\" y1=\"371.7422\" y2=\"371.7422\"/><text fill=\"#000000\" font-family=\"sans-serif\" font-size=\"11\" font-weight=\"bold\" lengthAdjust=\"spacingAndGlyphs\" textLength=\"46\" x=\"38.5\" y=\"402.7573\">require</text><text fill=\"#000000\" font-family=\"sans-serif\" font-size=\"11\" lengthAdjust=\"spacingAndGlyphs\" textLength=\"6\" x=\"88.5\" y=\"402.7573\">c</text><text fill=\"#000000\" font-family=\"sans-serif\" font-size=\"11\" font-style=\"italic\" lengthAdjust=\"spacingAndGlyphs\" textLength=\"46\" x=\"38.5\" y=\"415.562\">assume</text><text fill=\"#000000\" font-family=\"sans-serif\" font-size=\"11\" lengthAdjust=\"spacingAndGlyphs\" textLength=\"29\" x=\"88.5\" y=\"415.562\">c1: C</text><line style=\"stroke: #A80036; stroke-width: 1.0;\" x1=\"33.5\" x2=\"72\" y1=\"386.1445\" y2=\"386.1445\"/><text fill=\"#000000\" font-family=\"sans-serif\" font-size=\"11\" lengthAdjust=\"spacingAndGlyphs\" textLength=\"64\" x=\"72\" y=\"389.4526\">constraints</text><line style=\"stroke: #A80036; stroke-width: 1.0;\" x1=\"136\" x2=\"174.5\" y1=\"386.1445\" y2=\"386.1445\"/></a><!--MD5=[270fce915f116d4de14055a7c1d9a0f3]\n",
       "class E5--><a href=\"psysml:c7a4f64d-f76e-4f11-bab9-561a5696e580\" target=\"_top\" title=\"psysml:c7a4f64d-f76e-4f11-bab9-561a5696e580\" xlink:actuate=\"onRequest\" xlink:href=\"psysml:c7a4f64d-f76e-4f11-bab9-561a5696e580\" xlink:show=\"new\" xlink:title=\"psysml:c7a4f64d-f76e-4f11-bab9-561a5696e580\" xlink:type=\"simple\"><rect fill=\"#FEFECE\" filter=\"url(#f6x594iu05t13)\" height=\"66.7422\" id=\"E5\" style=\"stroke: #A80036; stroke-width: 1.5;\" width=\"143\" x=\"32.5\" y=\"483\"/><ellipse cx=\"47.5\" cy=\"501.9688\" fill=\"#A52A2A\" rx=\"11\" ry=\"11\" style=\"stroke: #A80036; stroke-width: 1.0;\"/><path d=\"M47.0938,497.7813 L47.0938,505.7656 L47.75,505.7656 Q49.1875,505.7656 49.7969,504.8594 Q50.4219,503.9375 50.4219,501.7656 Q50.4219,499.5938 49.7969,498.6875 Q49.1875,497.7813 47.75,497.7813 L47.0938,497.7813 Z M44.6406,495.5781 L47.2656,495.5781 Q50.2969,495.5781 51.625,497.0313 Q52.9688,498.4688 52.9688,501.7656 Q52.9688,505.0625 51.625,506.5156 Q50.2969,507.9688 47.2656,507.9688 L44.6406,507.9688 L44.6406,495.5781 Z \"/><text fill=\"#000000\" font-family=\"sans-serif\" font-size=\"12\" font-style=\"italic\" lengthAdjust=\"spacingAndGlyphs\" textLength=\"115\" x=\"59.5\" y=\"499.1387\">«requirement def»</text><text fill=\"#000000\" font-family=\"sans-serif\" font-size=\"12\" lengthAdjust=\"spacingAndGlyphs\" textLength=\"5\" x=\"104\" y=\"513.1074\">[</text><text fill=\"#000000\" font-family=\"sans-serif\" font-size=\"12\" font-weight=\"bold\" lengthAdjust=\"spacingAndGlyphs\" textLength=\"8\" x=\"109\" y=\"513.1074\">1</text><text fill=\"#000000\" font-family=\"sans-serif\" font-size=\"12\" lengthAdjust=\"spacingAndGlyphs\" textLength=\"17\" x=\"117\" y=\"513.1074\">] A</text><line style=\"stroke: #A80036; stroke-width: 1.5;\" x1=\"33.5\" x2=\"174.5\" y1=\"520.9375\" y2=\"520.9375\"/><text fill=\"#000000\" font-family=\"sans-serif\" font-size=\"11\" lengthAdjust=\"spacingAndGlyphs\" textLength=\"24\" x=\"38.5\" y=\"535.1479\">Text</text><line style=\"stroke: #A80036; stroke-width: 1.0;\" x1=\"33.5\" x2=\"174.5\" y1=\"541.7422\" y2=\"541.7422\"/></a><!--MD5=[b9389687b975829384b498ac4b7476b2]\n",
       "class E8--><a href=\"psysml:165156c7-6d13-47e8-9214-4efd9fbee902\" target=\"_top\" title=\"psysml:165156c7-6d13-47e8-9214-4efd9fbee902\" xlink:actuate=\"onRequest\" xlink:href=\"psysml:165156c7-6d13-47e8-9214-4efd9fbee902\" xlink:show=\"new\" xlink:title=\"psysml:165156c7-6d13-47e8-9214-4efd9fbee902\" xlink:type=\"simple\"><rect fill=\"#FEFECE\" filter=\"url(#f6x594iu05t13)\" height=\"45.9375\" id=\"E8\" rx=\"10\" ry=\"10\" style=\"stroke: #A80036; stroke-width: 1.5;\" width=\"119\" x=\"210.5\" y=\"493.5\"/><ellipse cx=\"225.5\" cy=\"512.4688\" fill=\"#FFA500\" rx=\"11\" ry=\"11\" style=\"stroke: #A80036; stroke-width: 1.0;\"/><path d=\"M221.375,514.3906 L221.375,506.5781 L223.8281,506.5781 L223.8281,515.0156 Q223.8281,515.9375 224.2969,516.4688 Q224.7813,517 225.6094,517 Q226.4531,517 226.9219,516.4688 Q227.3906,515.9375 227.3906,515.0156 L227.3906,506.5781 L229.8438,506.5781 L229.8438,514.3906 Q229.8438,516.9219 228.8438,518.0625 Q227.8438,519.2031 225.6094,519.2031 Q223.3906,519.2031 222.375,518.0625 Q221.375,516.9219 221.375,514.3906 Z \"/><text fill=\"#000000\" font-family=\"sans-serif\" font-size=\"12\" font-style=\"italic\" lengthAdjust=\"spacingAndGlyphs\" textLength=\"91\" x=\"237.5\" y=\"509.6387\">«requirement»</text><text fill=\"#000000\" font-family=\"sans-serif\" font-size=\"12\" lengthAdjust=\"spacingAndGlyphs\" text-decoration=\"line-through\" textLength=\"51\" x=\"257.5\" y=\"523.6074\">noname</text><line style=\"stroke: #A80036; stroke-width: 1.5;\" x1=\"211.5\" x2=\"328.5\" y1=\"531.4375\" y2=\"531.4375\"/></a><!--MD5=[fd4143e9d270a159db93a4ea2a975926]\n",
       "class E9--><a href=\"psysml:5b4d3eaf-f72e-4f96-998b-f4a0a57df239\" target=\"_top\" title=\"psysml:5b4d3eaf-f72e-4f96-998b-f4a0a57df239\" xlink:actuate=\"onRequest\" xlink:href=\"psysml:5b4d3eaf-f72e-4f96-998b-f4a0a57df239\" xlink:show=\"new\" xlink:title=\"psysml:5b4d3eaf-f72e-4f96-998b-f4a0a57df239\" xlink:type=\"simple\"><rect fill=\"#FEFECE\" filter=\"url(#f6x594iu05t13)\" height=\"88.3516\" id=\"E9\" style=\"stroke: #A80036; stroke-width: 1.5;\" width=\"145\" x=\"135.5\" y=\"41\"/><ellipse cx=\"151.4\" cy=\"59.9688\" fill=\"#A52A2A\" rx=\"11\" ry=\"11\" style=\"stroke: #A80036; stroke-width: 1.0;\"/><path d=\"M150.9938,55.7813 L150.9938,63.7656 L151.65,63.7656 Q153.0875,63.7656 153.6969,62.8594 Q154.3219,61.9375 154.3219,59.7656 Q154.3219,57.5938 153.6969,56.6875 Q153.0875,55.7813 151.65,55.7813 L150.9938,55.7813 Z M148.5406,53.5781 L151.1656,53.5781 Q154.1969,53.5781 155.525,55.0313 Q156.8688,56.4688 156.8688,59.7656 Q156.8688,63.0625 155.525,64.5156 Q154.1969,65.9688 151.1656,65.9688 L148.5406,65.9688 L148.5406,53.5781 Z \"/><text fill=\"#000000\" font-family=\"sans-serif\" font-size=\"12\" font-style=\"italic\" lengthAdjust=\"spacingAndGlyphs\" textLength=\"115\" x=\"163.6\" y=\"57.1387\">«requirement def»</text><text fill=\"#000000\" font-family=\"sans-serif\" font-size=\"12\" lengthAdjust=\"spacingAndGlyphs\" textLength=\"16\" x=\"213.1\" y=\"71.1074\">R1</text><line style=\"stroke: #A80036; stroke-width: 1.5;\" x1=\"136.5\" x2=\"279.5\" y1=\"78.9375\" y2=\"78.9375\"/><text fill=\"#000000\" font-family=\"sans-serif\" font-size=\"11\" font-weight=\"bold\" lengthAdjust=\"spacingAndGlyphs\" textLength=\"46\" x=\"141.5\" y=\"109.9526\">require</text><text fill=\"#000000\" font-family=\"sans-serif\" font-size=\"11\" lengthAdjust=\"spacingAndGlyphs\" textLength=\"13\" x=\"191.5\" y=\"109.9526\">c1</text><text fill=\"#000000\" font-family=\"sans-serif\" font-size=\"11\" font-style=\"italic\" lengthAdjust=\"spacingAndGlyphs\" textLength=\"133\" x=\"141.5\" y=\"122.7573\">:&gt;&gt;RequirementTest::c</text><line style=\"stroke: #A80036; stroke-width: 1.0;\" x1=\"136.5\" x2=\"176\" y1=\"93.3398\" y2=\"93.3398\"/><text fill=\"#000000\" font-family=\"sans-serif\" font-size=\"11\" lengthAdjust=\"spacingAndGlyphs\" textLength=\"64\" x=\"176\" y=\"96.6479\">constraints</text><line style=\"stroke: #A80036; stroke-width: 1.0;\" x1=\"240\" x2=\"279.5\" y1=\"93.3398\" y2=\"93.3398\"/></a><!--MD5=[1dd1bfd58a279cf63c5f349dbc8fc6a1]\n",
       "class E11--><a href=\"psysml:8fb932f6-fc92-43ad-aa0e-8cfa7b71c9b3\" target=\"_top\" title=\"psysml:8fb932f6-fc92-43ad-aa0e-8cfa7b71c9b3\" xlink:actuate=\"onRequest\" xlink:href=\"psysml:8fb932f6-fc92-43ad-aa0e-8cfa7b71c9b3\" xlink:show=\"new\" xlink:title=\"psysml:8fb932f6-fc92-43ad-aa0e-8cfa7b71c9b3\" xlink:type=\"simple\"><rect fill=\"#FEFECE\" filter=\"url(#f6x594iu05t13)\" height=\"45.9375\" id=\"E11\" rx=\"10\" ry=\"10\" style=\"stroke: #A80036; stroke-width: 1.5;\" width=\"68\" x=\"211\" y=\"344.5\"/><ellipse cx=\"226\" cy=\"363.4688\" fill=\"#32CD32\" rx=\"11\" ry=\"11\" style=\"stroke: #A80036; stroke-width: 1.0;\"/><path d=\"M225.7969,359.1406 L225.7969,362.7656 L226.7969,362.7656 Q228,362.7656 228.4844,362.3594 Q228.9688,361.9531 228.9688,360.9531 Q228.9688,359.9531 228.4844,359.5469 Q228,359.1406 226.7969,359.1406 L225.7969,359.1406 Z M223.3438,357.0781 L226.7031,357.0781 Q229.2656,357.0781 230.3906,358 Q231.5156,358.9063 231.5156,360.9531 Q231.5156,363 230.3906,363.9219 Q229.2656,364.8281 226.7031,364.8281 L225.7969,364.8281 L225.7969,369.4688 L223.3438,369.4688 L223.3438,357.0781 Z \"/><text fill=\"#000000\" font-family=\"sans-serif\" font-size=\"12\" font-style=\"italic\" lengthAdjust=\"spacingAndGlyphs\" textLength=\"40\" x=\"238\" y=\"360.6387\">«part»</text><text fill=\"#000000\" font-family=\"sans-serif\" font-size=\"12\" lengthAdjust=\"spacingAndGlyphs\" textLength=\"8\" x=\"254\" y=\"374.6074\">p</text><line style=\"stroke: #A80036; stroke-width: 1.5;\" x1=\"212\" x2=\"278\" y1=\"382.4375\" y2=\"382.4375\"/></a><!--MD5=[49a0ec8f00dab7302a31f22d0f0fe584]\n",
       "class E12--><a href=\"psysml:9b734dfd-0e44-4ae0-bd37-d0a03d4a12cd\" target=\"_top\" title=\"psysml:9b734dfd-0e44-4ae0-bd37-d0a03d4a12cd\" xlink:actuate=\"onRequest\" xlink:href=\"psysml:9b734dfd-0e44-4ae0-bd37-d0a03d4a12cd\" xlink:show=\"new\" xlink:title=\"psysml:9b734dfd-0e44-4ae0-bd37-d0a03d4a12cd\" xlink:type=\"simple\"><rect fill=\"#FEFECE\" filter=\"url(#f6x594iu05t13)\" height=\"45.9375\" id=\"E12\" rx=\"10\" ry=\"10\" style=\"stroke: #A80036; stroke-width: 1.5;\" width=\"68\" x=\"32\" y=\"62\"/><ellipse cx=\"47\" cy=\"80.9688\" fill=\"#32CD32\" rx=\"11\" ry=\"11\" style=\"stroke: #A80036; stroke-width: 1.0;\"/><path d=\"M46.7969,76.6406 L46.7969,80.2656 L47.7969,80.2656 Q49,80.2656 49.4844,79.8594 Q49.9688,79.4531 49.9688,78.4531 Q49.9688,77.4531 49.4844,77.0469 Q49,76.6406 47.7969,76.6406 L46.7969,76.6406 Z M44.3438,74.5781 L47.7031,74.5781 Q50.2656,74.5781 51.3906,75.5 Q52.5156,76.4063 52.5156,78.4531 Q52.5156,80.5 51.3906,81.4219 Q50.2656,82.3281 47.7031,82.3281 L46.7969,82.3281 L46.7969,86.9688 L44.3438,86.9688 L44.3438,74.5781 Z \"/><text fill=\"#000000\" font-family=\"sans-serif\" font-size=\"12\" font-style=\"italic\" lengthAdjust=\"spacingAndGlyphs\" textLength=\"40\" x=\"59\" y=\"78.1387\">«part»</text><text fill=\"#000000\" font-family=\"sans-serif\" font-size=\"12\" lengthAdjust=\"spacingAndGlyphs\" textLength=\"8\" x=\"75\" y=\"92.1074\">q</text><line style=\"stroke: #A80036; stroke-width: 1.5;\" x1=\"33\" x2=\"99\" y1=\"99.9375\" y2=\"99.9375\"/></a><!--MD5=[ee3c913d1a06f366521f9ef512b67efe]\n",
       "class E13--><a href=\"psysml:5a1cae69-7149-47dc-88a9-208fdbfbba4b\" target=\"_top\" title=\"psysml:5a1cae69-7149-47dc-88a9-208fdbfbba4b\" xlink:actuate=\"onRequest\" xlink:href=\"psysml:5a1cae69-7149-47dc-88a9-208fdbfbba4b\" xlink:show=\"new\" xlink:title=\"psysml:5a1cae69-7149-47dc-88a9-208fdbfbba4b\" xlink:type=\"simple\"><rect fill=\"#FEFECE\" filter=\"url(#f6x594iu05t13)\" height=\"45.9375\" id=\"E13\" rx=\"10\" ry=\"10\" style=\"stroke: #A80036; stroke-width: 1.5;\" width=\"119\" x=\"44.5\" y=\"190\"/><ellipse cx=\"59.5\" cy=\"208.9688\" fill=\"#FFA500\" rx=\"11\" ry=\"11\" style=\"stroke: #A80036; stroke-width: 1.0;\"/><path d=\"M55.375,210.8906 L55.375,203.0781 L57.8281,203.0781 L57.8281,211.5156 Q57.8281,212.4375 58.2969,212.9688 Q58.7813,213.5 59.6094,213.5 Q60.4531,213.5 60.9219,212.9688 Q61.3906,212.4375 61.3906,211.5156 L61.3906,203.0781 L63.8438,203.0781 L63.8438,210.8906 Q63.8438,213.4219 62.8438,214.5625 Q61.8438,215.7031 59.6094,215.7031 Q57.3906,215.7031 56.375,214.5625 Q55.375,213.4219 55.375,210.8906 Z \"/><text fill=\"#000000\" font-family=\"sans-serif\" font-size=\"12\" font-style=\"italic\" lengthAdjust=\"spacingAndGlyphs\" textLength=\"91\" x=\"71.5\" y=\"206.1387\">«requirement»</text><text fill=\"#000000\" font-family=\"sans-serif\" font-size=\"12\" lengthAdjust=\"spacingAndGlyphs\" textLength=\"21\" x=\"106.5\" y=\"220.1074\">r: R</text><line style=\"stroke: #A80036; stroke-width: 1.5;\" x1=\"45.5\" x2=\"162.5\" y1=\"227.9375\" y2=\"227.9375\"/></a><!--MD5=[05d275557350bfb9b23a4ef7222b4c39]\n",
       "link E3 to E2--><a href=\"psysml:bb92853b-9a42-4685-9891-57f30cbf18f8\" target=\"_top\" title=\"psysml:bb92853b-9a42-4685-9891-57f30cbf18f8\" xlink:actuate=\"onRequest\" xlink:href=\"psysml:bb92853b-9a42-4685-9891-57f30cbf18f8\" xlink:show=\"new\" xlink:title=\"psysml:bb92853b-9a42-4685-9891-57f30cbf18f8\" xlink:type=\"simple\"><path d=\"M366.88,108.24 C365.26,125.24 362.98,149.19 361.02,169.79 \" fill=\"none\" id=\"E3-&gt;E2\" style=\"stroke: #A80036; stroke-width: 1.0;\"/><polygon fill=\"#FFFFFF\" points=\"359.1,189.99,353.9362,170.411,367.8729,171.7407,359.1,189.99\" style=\"stroke: #A80036; stroke-width: 1.0;\"/><ellipse cx=\"356.4685\" cy=\"164.9268\" fill=\"#A80036\" rx=\"2\" ry=\"2\" style=\"stroke: #A80036; stroke-width: 1.0;\"/><ellipse cx=\"366.4233\" cy=\"165.8765\" fill=\"#A80036\" rx=\"2\" ry=\"2\" style=\"stroke: #A80036; stroke-width: 1.0;\"/></a><!--MD5=[62aa6af11e70f752912c1cb0466f24f7]\n",
       "reverse link E4 to E5--><a href=\"psysml:c7a4f64d-f76e-4f11-bab9-561a5696e580\" target=\"_top\" title=\"psysml:c7a4f64d-f76e-4f11-bab9-561a5696e580\" xlink:actuate=\"onRequest\" xlink:href=\"psysml:c7a4f64d-f76e-4f11-bab9-561a5696e580\" xlink:show=\"new\" xlink:title=\"psysml:c7a4f64d-f76e-4f11-bab9-561a5696e580\" xlink:type=\"simple\"><path d=\"M104,437.45 C104,453.34 104,469.51 104,482.98 \" fill=\"none\" id=\"E4&lt;-E5\" style=\"stroke: #A80036; stroke-width: 1.0;\"/><ellipse cx=\"104\" cy=\"430.4\" fill=\"#FFFFFF\" rx=\"8\" ry=\"8\" style=\"stroke: #A80036; stroke-width: 1.0;\"/><line style=\"stroke: #A80036; stroke-width: 1.0;\" x1=\"104\" x2=\"104\" y1=\"438.4\" y2=\"422.4\"/><line style=\"stroke: #A80036; stroke-width: 1.0;\" x1=\"96\" x2=\"112\" y1=\"430.4\" y2=\"430.4\"/></a><!--MD5=[c6fc7cdb0cabde04948078cf183fa696]\n",
       "reverse link E4 to E8--><a href=\"psysml:165156c7-6d13-47e8-9214-4efd9fbee902\" target=\"_top\" title=\"psysml:165156c7-6d13-47e8-9214-4efd9fbee902\" xlink:actuate=\"onRequest\" xlink:href=\"psysml:165156c7-6d13-47e8-9214-4efd9fbee902\" xlink:show=\"new\" xlink:title=\"psysml:165156c7-6d13-47e8-9214-4efd9fbee902\" xlink:type=\"simple\"><path d=\"M174.75,431.16 C199.83,453.36 226.43,476.92 245.13,493.48 \" fill=\"none\" id=\"E4&lt;-E8\" style=\"stroke: #A80036; stroke-width: 1.0;\"/><polygon fill=\"#A80036\" points=\"164.87,422.4,166.7154,429.371,173.86,430.3486,172.0145,423.3776,164.87,422.4\" style=\"stroke: #A80036; stroke-width: 1.0;\"/></a><!--MD5=[062ed86c389d1a88f61c6380d0491e17]\n",
       "reverse link E12 to E13--><a href=\"psysml:5a1cae69-7149-47dc-88a9-208fdbfbba4b\" target=\"_top\" title=\"psysml:5a1cae69-7149-47dc-88a9-208fdbfbba4b\" xlink:actuate=\"onRequest\" xlink:href=\"psysml:5a1cae69-7149-47dc-88a9-208fdbfbba4b\" xlink:show=\"new\" xlink:title=\"psysml:5a1cae69-7149-47dc-88a9-208fdbfbba4b\" xlink:type=\"simple\"><path d=\"M76.49,120.8 C83.17,142.92 91.6,170.89 97.36,189.99 \" fill=\"none\" id=\"E12&lt;-E13\" style=\"stroke: #A80036; stroke-width: 1.0;\"/><polygon fill=\"#A80036\" points=\"72.71,108.24,70.6129,115.1394,76.1751,119.7288,78.2722,112.8294,72.71,108.24\" style=\"stroke: #A80036; stroke-width: 1.0;\"/></a><!--MD5=[017847e01ff9a8bd19f247411074f987]\n",
       "link E13 to E4--><a href=\"psysml:9a693856-e1d7-4623-99b4-c4529bf04054\" target=\"_top\" title=\"psysml:9a693856-e1d7-4623-99b4-c4529bf04054\" xlink:actuate=\"onRequest\" xlink:href=\"psysml:9a693856-e1d7-4623-99b4-c4529bf04054\" xlink:show=\"new\" xlink:title=\"psysml:9a693856-e1d7-4623-99b4-c4529bf04054\" xlink:type=\"simple\"><path d=\"M104,236.17 C104,251.17 104,271.91 104,292.44 \" fill=\"none\" id=\"E13-&gt;E4\" style=\"stroke: #A80036; stroke-width: 1.0;\"/><polygon fill=\"#FFFFFF\" points=\"104,312.68,97,293.68,111,293.68,104,312.68\" style=\"stroke: #A80036; stroke-width: 1.0;\"/><ellipse cx=\"99\" cy=\"287.98\" fill=\"#A80036\" rx=\"2\" ry=\"2\" style=\"stroke: #A80036; stroke-width: 1.0;\"/><ellipse cx=\"109\" cy=\"287.98\" fill=\"#A80036\" rx=\"2\" ry=\"2\" style=\"stroke: #A80036; stroke-width: 1.0;\"/></a><!--MD5=[2cfe899c895462254056921bfb67315f]\n",
       "link E13 to E11--><a href=\"psysml:69852053-465c-4b3e-807c-2facd65a229c\" target=\"_top\" title=\"psysml:69852053-465c-4b3e-807c-2facd65a229c\" xlink:actuate=\"onRequest\" xlink:href=\"psysml:69852053-465c-4b3e-807c-2facd65a229c\" xlink:show=\"new\" xlink:title=\"psysml:69852053-465c-4b3e-807c-2facd65a229c\" xlink:type=\"simple\"><path d=\"M124.5,236.17 C150.09,263.85 193.77,311.09 220.92,340.45 \" fill=\"none\" id=\"E13-&gt;E11\" style=\"stroke: #A80036; stroke-width: 1.0; stroke-dasharray: 7.0,7.0;\"/><polygon fill=\"#A80036\" points=\"224.47,344.3,221.2896,334.9788,221.0727,340.6315,215.42,340.4145,224.47,344.3\" style=\"stroke: #A80036; stroke-width: 1.0;\"/><text fill=\"#000000\" font-family=\"sans-serif\" font-size=\"13\" lengthAdjust=\"spacingAndGlyphs\" textLength=\"57\" x=\"167\" y=\"279.0669\">«satisfy»</text></a><!--MD5=[e753265980b239b4f572638fcfaf4d8d]\n",
       "@startuml\r\n",
       " \r\n",
       "package \"RequirementTest\" as E1  [[psysml:7a32e4ca-d886-48d1-a22e-a4337a6af1e2 ]]  {\r\n",
       "comp def \"C\" as E2  <<(D,brown)constraint def>> [[psysml:c5fd5931-ea17-4576-af97-a79679b06835 ]] {\r\n",
       "}\r\n",
       "comp usage \"c: C\" as E3  <<(U,orange)constraint>> [[psysml:23e87db0-b26a-4449-ad29-18415d83eb38 ]] {\r\n",
       "}\r\n",
       "comp def \"R\" as E4  <<(D,brown)requirement def>> [[psysml:aa32b181-0a7a-45c2-8d8e-c84b0489ed31 ]] {\r\n",
       "\r\n",
       "- -\r\n",
       "- - constraints - -\r\n",
       "<b>require</b> c\r\n",
       "<i>assume</i> c1: C\r\n",
       "}\r\n",
       "comp def \" [<b>1</b>] A\" as E5  <<(D,brown)requirement def>> [[psysml:c7a4f64d-f76e-4f11-bab9-561a5696e580 ]] {\r\n",
       "Text\r\n",
       "- -\r\n",
       "}\r\n",
       "comp usage \"<s>noname</s>\" as E8  <<(U,orange)requirement>> [[psysml:165156c7-6d13-47e8-9214-4efd9fbee902 ]] {\r\n",
       "}\r\n",
       "comp def \"R1\" as E9  <<(D,brown)requirement def>> [[psysml:5b4d3eaf-f72e-4f96-998b-f4a0a57df239 ]] {\r\n",
       "- - constraints - -\r\n",
       "<b>require</b> c1\\n//:>>RequirementTest::c// \r\n",
       "}\r\n",
       "comp usage \"p\" as E11  << (P,limegreen) part>> [[psysml:8fb932f6-fc92-43ad-aa0e-8cfa7b71c9b3 ]] {\r\n",
       "}\r\n",
       "comp usage \"q\" as E12  << (P,limegreen) part>> [[psysml:9b734dfd-0e44-4ae0-bd37-d0a03d4a12cd ]] {\r\n",
       "}\r\n",
       "comp usage \"r: R\" as E13  <<(U,orange)requirement>> [[psysml:5a1cae69-7149-47dc-88a9-208fdbfbba4b ]] {\r\n",
       "}\r\n",
       "E3 - -:|> E2 [[psysml:bb92853b-9a42-4685-9891-57f30cbf18f8 ]] \r\n",
       "E4 +- - E5 [[psysml:c7a4f64d-f76e-4f11-bab9-561a5696e580 ]] \r\n",
       "E4 *- - E8 [[psysml:165156c7-6d13-47e8-9214-4efd9fbee902 ]] \r\n",
       "E12 *- - E13 [[psysml:5a1cae69-7149-47dc-88a9-208fdbfbba4b ]] \r\n",
       "E13 - -:|> E4 [[psysml:9a693856-e1d7-4623-99b4-c4529bf04054 ]] \r\n",
       "E13 ..> E11 [[psysml:69852053-465c-4b3e-807c-2facd65a229c ]] : <<satisfy>>\r\n",
       "}\r\n",
       "@enduml\r\n",
       "\n",
       "PlantUML version 1.2020.13(Sat Jun 13 12:26:38 UTC 2020)\n",
       "(EPL source distribution)\n",
       "Java Runtime: OpenJDK Runtime Environment\n",
       "JVM: OpenJDK 64-Bit Server VM\n",
       "Default Encoding: UTF-8\n",
       "Language: en\n",
       "Country: null\n",
       "--></g></svg>"
      ]
     },
     "execution_count": 31,
     "metadata": {},
     "output_type": "execute_result"
    }
   ],
   "source": [
    "%viz --style=\"PLANTUML\" --view=\"Tree\" \"RequirementTest\""
   ]
  },
  {
   "cell_type": "code",
   "execution_count": 32,
   "id": "flush-arthritis",
   "metadata": {
    "execution": {
     "iopub.execute_input": "2021-03-25T09:27:08.496984Z",
     "iopub.status.busy": "2021-03-25T09:27:08.496182Z",
     "iopub.status.idle": "2021-03-25T09:27:09.371734Z",
     "shell.execute_reply": "2021-03-25T09:27:09.371421Z"
    }
   },
   "outputs": [
    {
     "data": {
      "image/svg+xml": [
       "<?xml version=\"1.0\" encoding=\"UTF-8\" standalone=\"no\"?><svg xmlns=\"http://www.w3.org/2000/svg\" xmlns:xlink=\"http://www.w3.org/1999/xlink\" contentScriptType=\"application/ecmascript\" contentStyleType=\"text/css\" height=\"303px\" preserveAspectRatio=\"none\" style=\"width:603px;height:303px;background:#000000;\" version=\"1.1\" viewBox=\"0 0 603 303\" width=\"603px\" zoomAndPan=\"magnify\"><defs/><g><rect fill=\"#181125\" height=\"1\" style=\"stroke: #181125; stroke-width: 1.0;\" width=\"1\" x=\"0\" y=\"0\"/><rect fill=\"#FFFFFF\" height=\"205.5625\" style=\"stroke: #FFFFFF; stroke-width: 1.0;\" width=\"602\" x=\"0\" y=\"0\"/><text fill=\"#000000\" font-family=\"sans-serif\" font-size=\"12\" font-weight=\"bold\" lengthAdjust=\"spacingAndGlyphs\" textLength=\"159\" x=\"5\" y=\"16.1387\">Welcome to PlantUML!</text><text fill=\"#000000\" font-family=\"sans-serif\" font-size=\"12\" lengthAdjust=\"spacingAndGlyphs\" textLength=\"0\" x=\"9\" y=\"30.1074\"/><text fill=\"#000000\" font-family=\"sans-serif\" font-size=\"12\" lengthAdjust=\"spacingAndGlyphs\" textLength=\"293\" x=\"5\" y=\"44.0762\">If you use this software, you accept its license.</text><text fill=\"#000000\" font-family=\"sans-serif\" font-size=\"12\" lengthAdjust=\"spacingAndGlyphs\" textLength=\"107\" x=\"5\" y=\"58.0449\">(details by typing</text><text fill=\"#000000\" font-family=\"monospace\" font-size=\"12\" lengthAdjust=\"spacingAndGlyphs\" textLength=\"49\" x=\"116\" y=\"58.0449\">license</text><text fill=\"#000000\" font-family=\"sans-serif\" font-size=\"12\" lengthAdjust=\"spacingAndGlyphs\" textLength=\"56\" x=\"169\" y=\"58.0449\">keyword)</text><text fill=\"#000000\" font-family=\"sans-serif\" font-size=\"12\" lengthAdjust=\"spacingAndGlyphs\" textLength=\"0\" x=\"9\" y=\"72.0137\"/><text fill=\"#000000\" font-family=\"sans-serif\" font-size=\"12\" lengthAdjust=\"spacingAndGlyphs\" textLength=\"283\" x=\"5\" y=\"85.9824\">You can start with a simple UML Diagram like:</text><text fill=\"#000000\" font-family=\"sans-serif\" font-size=\"12\" lengthAdjust=\"spacingAndGlyphs\" textLength=\"0\" x=\"9\" y=\"99.9512\"/><text fill=\"#000000\" font-family=\"monospace\" font-size=\"12\" lengthAdjust=\"spacingAndGlyphs\" textLength=\"119\" x=\"5\" y=\"113.9199\">Bob-&gt;Alice: Hello</text><text fill=\"#000000\" font-family=\"sans-serif\" font-size=\"12\" lengthAdjust=\"spacingAndGlyphs\" textLength=\"0\" x=\"9\" y=\"127.8887\"/><text fill=\"#000000\" font-family=\"sans-serif\" font-size=\"12\" lengthAdjust=\"spacingAndGlyphs\" textLength=\"14\" x=\"5\" y=\"141.8574\">Or</text><text fill=\"#000000\" font-family=\"sans-serif\" font-size=\"12\" lengthAdjust=\"spacingAndGlyphs\" textLength=\"0\" x=\"9\" y=\"155.8262\"/><text fill=\"#000000\" font-family=\"monospace\" font-size=\"12\" lengthAdjust=\"spacingAndGlyphs\" textLength=\"91\" x=\"5\" y=\"169.7949\">class Example</text><text fill=\"#000000\" font-family=\"sans-serif\" font-size=\"12\" lengthAdjust=\"spacingAndGlyphs\" textLength=\"0\" x=\"9\" y=\"183.7637\"/><text fill=\"#000000\" font-family=\"sans-serif\" font-size=\"12\" lengthAdjust=\"spacingAndGlyphs\" textLength=\"349\" x=\"5\" y=\"197.7324\">You will find more information about PlantUML syntax on</text><text fill=\"#000000\" font-family=\"sans-serif\" font-size=\"12\" lengthAdjust=\"spacingAndGlyphs\" text-decoration=\"underline\" textLength=\"129\" x=\"358\" y=\"197.7324\">https://plantuml.com</text><image height=\"71\" width=\"80\" x=\"516\" xlink:href=\"data:image/png;base64,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\" y=\"6\"/><rect fill=\"#000000\" height=\"96.4844\" style=\"stroke: #000000; stroke-width: 1.0;\" width=\"602\" x=\"0\" y=\"205.5625\"/><rect fill=\"#33FF02\" height=\"21.2969\" style=\"stroke: #33FF02; stroke-width: 1.0;\" width=\"170\" x=\"5\" y=\"210.5625\"/><text fill=\"#000000\" font-family=\"sans-serif\" font-size=\"14\" font-weight=\"bold\" lengthAdjust=\"spacingAndGlyphs\" textLength=\"168\" x=\"6\" y=\"225.5625\">[From string (line 2) ]</text><text fill=\"#33FF02\" font-family=\"sans-serif\" font-size=\"14\" font-weight=\"bold\" lengthAdjust=\"spacingAndGlyphs\" textLength=\"0\" x=\"10\" y=\"245.8594\"/><text fill=\"#33FF02\" font-family=\"sans-serif\" font-size=\"14\" font-weight=\"bold\" lengthAdjust=\"spacingAndGlyphs\" textLength=\"79\" x=\"5\" y=\"262.1563\">@startuml</text><text fill=\"#33FF02\" font-family=\"sans-serif\" font-size=\"14\" font-weight=\"bold\" lengthAdjust=\"spacingAndGlyphs\" textLength=\"0\" x=\"10\" y=\"278.4531\"/><text fill=\"#FF0000\" font-family=\"sans-serif\" font-size=\"14\" font-weight=\"bold\" lengthAdjust=\"spacingAndGlyphs\" textLength=\"142\" x=\"10\" y=\"294.75\">Empty description</text><!--MD5=[f59edd8218d337f74d0c332fc6737304]\n",
       "@startuml\r\n",
       " \r\n",
       "@enduml\r\n",
       "\n",
       "PlantUML version 1.2020.13(Sat Jun 13 12:26:38 UTC 2020)\n",
       "(EPL source distribution)\n",
       "Java Runtime: OpenJDK Runtime Environment\n",
       "JVM: OpenJDK 64-Bit Server VM\n",
       "Default Encoding: UTF-8\n",
       "Language: en\n",
       "Country: null\n",
       "--></g></svg>"
      ]
     },
     "execution_count": 32,
     "metadata": {},
     "output_type": "execute_result"
    }
   ],
   "source": [
    "%viz --style=\"PLANTUML\" --view=\"State\" \"RequirementTest\""
   ]
  },
  {
   "cell_type": "code",
   "execution_count": 33,
   "id": "pregnant-novel",
   "metadata": {
    "execution": {
     "iopub.execute_input": "2021-03-25T09:27:09.426401Z",
     "iopub.status.busy": "2021-03-25T09:27:09.424182Z",
     "iopub.status.idle": "2021-03-25T09:27:09.545316Z",
     "shell.execute_reply": "2021-03-25T09:27:09.543947Z"
    }
   },
   "outputs": [
    {
     "data": {
      "image/svg+xml": [
       "<?xml version=\"1.0\" encoding=\"UTF-8\" standalone=\"no\"?><svg xmlns=\"http://www.w3.org/2000/svg\" xmlns:xlink=\"http://www.w3.org/1999/xlink\" contentScriptType=\"application/ecmascript\" contentStyleType=\"text/css\" height=\"367px\" preserveAspectRatio=\"none\" style=\"width:981px;height:367px;\" version=\"1.1\" viewBox=\"0 0 981 367\" width=\"981px\" zoomAndPan=\"magnify\"><defs><filter height=\"300%\" id=\"f1hkbmyndqspny\" width=\"300%\" x=\"-1\" y=\"-1\"><feGaussianBlur result=\"blurOut\" stdDeviation=\"2.0\"/><feColorMatrix in=\"blurOut\" result=\"blurOut2\" type=\"matrix\" values=\"0 0 0 0 0 0 0 0 0 0 0 0 0 0 0 0 0 0 .4 0\"/><feOffset dx=\"4.0\" dy=\"4.0\" in=\"blurOut2\" result=\"blurOut3\"/><feBlend in=\"SourceGraphic\" in2=\"blurOut3\" mode=\"normal\"/></filter></defs><g><!--MD5=[fbc87193dbaf4d95561dea2c320d4a47]\n",
       "cluster E1--><a href=\"psysml:7a32e4ca-d886-48d1-a22e-a4337a6af1e2\" target=\"_top\" title=\"psysml:7a32e4ca-d886-48d1-a22e-a4337a6af1e2\" xlink:actuate=\"onRequest\" xlink:href=\"psysml:7a32e4ca-d886-48d1-a22e-a4337a6af1e2\" xlink:show=\"new\" xlink:title=\"psysml:7a32e4ca-d886-48d1-a22e-a4337a6af1e2\" xlink:type=\"simple\"><polygon fill=\"#FFFFFF\" filter=\"url(#f1hkbmyndqspny)\" points=\"16,6,158,6,165,28.2969,959,28.2969,959,355,16,355,16,6\" style=\"stroke: #000000; stroke-width: 1.5;\"/><line style=\"stroke: #000000; stroke-width: 1.5;\" x1=\"16\" x2=\"165\" y1=\"28.2969\" y2=\"28.2969\"/><text fill=\"#000000\" font-family=\"sans-serif\" font-size=\"14\" font-weight=\"bold\" lengthAdjust=\"spacingAndGlyphs\" textLength=\"136\" x=\"20\" y=\"20.9951\">RequirementTest</text></a><!--MD5=[168fadf3d0c3fd93dd5d6da1b1d7ab76]\n",
       "cluster E7--><a href=\"psysml:9b734dfd-0e44-4ae0-bd37-d0a03d4a12cd\" target=\"_top\" title=\"psysml:9b734dfd-0e44-4ae0-bd37-d0a03d4a12cd\" xlink:actuate=\"onRequest\" xlink:href=\"psysml:9b734dfd-0e44-4ae0-bd37-d0a03d4a12cd\" xlink:show=\"new\" xlink:title=\"psysml:9b734dfd-0e44-4ae0-bd37-d0a03d4a12cd\" xlink:type=\"simple\"><rect fill=\"#FFFFFF\" filter=\"url(#f1hkbmyndqspny)\" height=\"209\" id=\"E7\" rx=\"10\" ry=\"10\" style=\"stroke: #A80036; stroke-width: 1.5;\" width=\"239\" x=\"696\" y=\"49\"/><rect fill=\"#FEFECE\" height=\"23.9688\" rx=\"10\" ry=\"10\" style=\"stroke: #FEFECE; stroke-width: 1.5;\" width=\"239\" x=\"696\" y=\"49\"/><rect fill=\"#FEFECE\" height=\"10\" style=\"stroke: #FEFECE; stroke-width: 1.5;\" width=\"239\" x=\"696\" y=\"62.9688\"/><rect fill=\"none\" height=\"209\" id=\"E7\" rx=\"10\" ry=\"10\" style=\"stroke: #A80036; stroke-width: 1.5;\" width=\"239\" x=\"696\" y=\"49\"/><text fill=\"#000000\" font-family=\"sans-serif\" font-size=\"12\" lengthAdjust=\"spacingAndGlyphs\" textLength=\"8\" x=\"811.5\" y=\"65.1387\">q</text><line style=\"stroke: #A80036; stroke-width: 1.0;\" x1=\"696\" x2=\"935\" y1=\"72.9688\" y2=\"72.9688\"/></a><!--MD5=[55dfccfc6c49c2d10cd1bd2211a6c90c]\n",
       "cluster E8--><a href=\"psysml:5a1cae69-7149-47dc-88a9-208fdbfbba4b\" target=\"_top\" title=\"psysml:5a1cae69-7149-47dc-88a9-208fdbfbba4b\" xlink:actuate=\"onRequest\" xlink:href=\"psysml:5a1cae69-7149-47dc-88a9-208fdbfbba4b\" xlink:show=\"new\" xlink:title=\"psysml:5a1cae69-7149-47dc-88a9-208fdbfbba4b\" xlink:type=\"simple\"><rect fill=\"#FFFFFF\" filter=\"url(#f1hkbmyndqspny)\" height=\"126\" id=\"E8\" rx=\"10\" ry=\"10\" style=\"stroke: #A80036; stroke-width: 1.5;\" width=\"175\" x=\"728\" y=\"100\"/><rect fill=\"#FEFECE\" height=\"37.9375\" rx=\"10\" ry=\"10\" style=\"stroke: #FEFECE; stroke-width: 1.5;\" width=\"175\" x=\"728\" y=\"100\"/><rect fill=\"#FEFECE\" height=\"10\" style=\"stroke: #FEFECE; stroke-width: 1.5;\" width=\"175\" x=\"728\" y=\"127.9375\"/><rect fill=\"none\" height=\"126\" id=\"E8\" rx=\"10\" ry=\"10\" style=\"stroke: #A80036; stroke-width: 1.5;\" width=\"175\" x=\"728\" y=\"100\"/><text fill=\"#000000\" font-family=\"sans-serif\" font-size=\"12\" font-style=\"italic\" lengthAdjust=\"spacingAndGlyphs\" textLength=\"91\" x=\"770\" y=\"116.1387\">«requirement»</text><text fill=\"#000000\" font-family=\"sans-serif\" font-size=\"12\" lengthAdjust=\"spacingAndGlyphs\" textLength=\"21\" x=\"805\" y=\"130.1074\">r: R</text><line style=\"stroke: #A80036; stroke-width: 1.0;\" x1=\"728\" x2=\"903\" y1=\"137.9375\" y2=\"137.9375\"/></a><g id=\"E1.E2\"><a href=\"psysml:c5fd5931-ea17-4576-af97-a79679b06835\" target=\"_top\" title=\"psysml:c5fd5931-ea17-4576-af97-a79679b06835\" xlink:actuate=\"onRequest\" xlink:href=\"psysml:c5fd5931-ea17-4576-af97-a79679b06835\" xlink:show=\"new\" xlink:title=\"psysml:c5fd5931-ea17-4576-af97-a79679b06835\" xlink:type=\"simple\"><rect fill=\"#FEFECE\" filter=\"url(#f1hkbmyndqspny)\" height=\"42.9375\" id=\"E2\" style=\"stroke: #A80036; stroke-width: 1.5;\" width=\"135\" x=\"544.5\" y=\"159\"/><ellipse cx=\"561.75\" cy=\"177.9688\" fill=\"#A52A2A\" rx=\"11\" ry=\"11\" style=\"stroke: #A80036; stroke-width: 1.0;\"/><path d=\"M561.3438,173.7813 L561.3438,181.7656 L562,181.7656 Q563.4375,181.7656 564.0469,180.8594 Q564.6719,179.9375 564.6719,177.7656 Q564.6719,175.5938 564.0469,174.6875 Q563.4375,173.7813 562,173.7813 L561.3438,173.7813 Z M558.8906,171.5781 L561.5156,171.5781 Q564.5469,171.5781 565.875,173.0313 Q567.2188,174.4688 567.2188,177.7656 Q567.2188,181.0625 565.875,182.5156 Q564.5469,183.9688 561.5156,183.9688 L558.8906,183.9688 L558.8906,171.5781 Z \"/><text fill=\"#000000\" font-family=\"sans-serif\" font-size=\"12\" font-style=\"italic\" lengthAdjust=\"spacingAndGlyphs\" textLength=\"102\" x=\"574.25\" y=\"175.1387\">«constraint def»</text><text fill=\"#000000\" font-family=\"sans-serif\" font-size=\"12\" lengthAdjust=\"spacingAndGlyphs\" textLength=\"8\" x=\"621.25\" y=\"189.1074\">C</text></a></g><g id=\"E1.E4\"><a href=\"psysml:aa32b181-0a7a-45c2-8d8e-c84b0489ed31\" target=\"_top\" title=\"psysml:aa32b181-0a7a-45c2-8d8e-c84b0489ed31\" xlink:actuate=\"onRequest\" xlink:href=\"psysml:aa32b181-0a7a-45c2-8d8e-c84b0489ed31\" xlink:show=\"new\" xlink:title=\"psysml:aa32b181-0a7a-45c2-8d8e-c84b0489ed31\" xlink:type=\"simple\"><rect fill=\"#FEFECE\" filter=\"url(#f1hkbmyndqspny)\" height=\"42.9375\" id=\"E4\" style=\"stroke: #A80036; stroke-width: 1.5;\" width=\"148\" x=\"361\" y=\"159\"/><ellipse cx=\"378.25\" cy=\"177.9688\" fill=\"#A52A2A\" rx=\"11\" ry=\"11\" style=\"stroke: #A80036; stroke-width: 1.0;\"/><path d=\"M377.8438,173.7813 L377.8438,181.7656 L378.5,181.7656 Q379.9375,181.7656 380.5469,180.8594 Q381.1719,179.9375 381.1719,177.7656 Q381.1719,175.5938 380.5469,174.6875 Q379.9375,173.7813 378.5,173.7813 L377.8438,173.7813 Z M375.3906,171.5781 L378.0156,171.5781 Q381.0469,171.5781 382.375,173.0313 Q383.7188,174.4688 383.7188,177.7656 Q383.7188,181.0625 382.375,182.5156 Q381.0469,183.9688 378.0156,183.9688 L375.3906,183.9688 L375.3906,171.5781 Z \"/><text fill=\"#000000\" font-family=\"sans-serif\" font-size=\"12\" font-style=\"italic\" lengthAdjust=\"spacingAndGlyphs\" textLength=\"115\" x=\"390.75\" y=\"175.1387\">«requirement def»</text><text fill=\"#000000\" font-family=\"sans-serif\" font-size=\"12\" lengthAdjust=\"spacingAndGlyphs\" textLength=\"8\" x=\"444.25\" y=\"189.1074\">R</text></a></g><g id=\"E1.E5\"><a href=\"psysml:5b4d3eaf-f72e-4f96-998b-f4a0a57df239\" target=\"_top\" title=\"psysml:5b4d3eaf-f72e-4f96-998b-f4a0a57df239\" xlink:actuate=\"onRequest\" xlink:href=\"psysml:5b4d3eaf-f72e-4f96-998b-f4a0a57df239\" xlink:show=\"new\" xlink:title=\"psysml:5b4d3eaf-f72e-4f96-998b-f4a0a57df239\" xlink:type=\"simple\"><rect fill=\"#FEFECE\" filter=\"url(#f1hkbmyndqspny)\" height=\"42.9375\" id=\"E5\" style=\"stroke: #A80036; stroke-width: 1.5;\" width=\"148\" x=\"178\" y=\"159\"/><ellipse cx=\"195.25\" cy=\"177.9688\" fill=\"#A52A2A\" rx=\"11\" ry=\"11\" style=\"stroke: #A80036; stroke-width: 1.0;\"/><path d=\"M194.8438,173.7813 L194.8438,181.7656 L195.5,181.7656 Q196.9375,181.7656 197.5469,180.8594 Q198.1719,179.9375 198.1719,177.7656 Q198.1719,175.5938 197.5469,174.6875 Q196.9375,173.7813 195.5,173.7813 L194.8438,173.7813 Z M192.3906,171.5781 L195.0156,171.5781 Q198.0469,171.5781 199.375,173.0313 Q200.7188,174.4688 200.7188,177.7656 Q200.7188,181.0625 199.375,182.5156 Q198.0469,183.9688 195.0156,183.9688 L192.3906,183.9688 L192.3906,171.5781 Z \"/><text fill=\"#000000\" font-family=\"sans-serif\" font-size=\"12\" font-style=\"italic\" lengthAdjust=\"spacingAndGlyphs\" textLength=\"115\" x=\"207.75\" y=\"175.1387\">«requirement def»</text><text fill=\"#000000\" font-family=\"sans-serif\" font-size=\"12\" lengthAdjust=\"spacingAndGlyphs\" textLength=\"16\" x=\"257.25\" y=\"189.1074\">R1</text></a></g><g id=\"E1.E3\"><a href=\"psysml:23e87db0-b26a-4449-ad29-18415d83eb38\" target=\"_top\" title=\"psysml:23e87db0-b26a-4449-ad29-18415d83eb38\" xlink:actuate=\"onRequest\" xlink:href=\"psysml:23e87db0-b26a-4449-ad29-18415d83eb38\" xlink:show=\"new\" xlink:title=\"psysml:23e87db0-b26a-4449-ad29-18415d83eb38\" xlink:type=\"simple\"><rect fill=\"#FEFECE\" filter=\"url(#f1hkbmyndqspny)\" height=\"42.9375\" id=\"E3\" rx=\"10\" ry=\"10\" style=\"stroke: #A80036; stroke-width: 1.5;\" width=\"111\" x=\"31.5\" y=\"159\"/><ellipse cx=\"48.75\" cy=\"177.9688\" fill=\"#FFA500\" rx=\"11\" ry=\"11\" style=\"stroke: #A80036; stroke-width: 1.0;\"/><path d=\"M44.625,179.8906 L44.625,172.0781 L47.0781,172.0781 L47.0781,180.5156 Q47.0781,181.4375 47.5469,181.9688 Q48.0313,182.5 48.8594,182.5 Q49.7031,182.5 50.1719,181.9688 Q50.6406,181.4375 50.6406,180.5156 L50.6406,172.0781 L53.0938,172.0781 L53.0938,179.8906 Q53.0938,182.4219 52.0938,183.5625 Q51.0938,184.7031 48.8594,184.7031 Q46.6406,184.7031 45.625,183.5625 Q44.625,182.4219 44.625,179.8906 Z \"/><text fill=\"#000000\" font-family=\"sans-serif\" font-size=\"12\" font-style=\"italic\" lengthAdjust=\"spacingAndGlyphs\" textLength=\"78\" x=\"61.25\" y=\"175.1387\">«constraint»</text><text fill=\"#000000\" font-family=\"sans-serif\" font-size=\"12\" lengthAdjust=\"spacingAndGlyphs\" textLength=\"23\" x=\"88.75\" y=\"189.1074\">c: C</text></a></g><g id=\"E1.E6\"><a href=\"psysml:8fb932f6-fc92-43ad-aa0e-8cfa7b71c9b3\" target=\"_top\" title=\"psysml:8fb932f6-fc92-43ad-aa0e-8cfa7b71c9b3\" xlink:actuate=\"onRequest\" xlink:href=\"psysml:8fb932f6-fc92-43ad-aa0e-8cfa7b71c9b3\" xlink:show=\"new\" xlink:title=\"psysml:8fb932f6-fc92-43ad-aa0e-8cfa7b71c9b3\" xlink:type=\"simple\"><rect fill=\"#FEFECE\" filter=\"url(#f1hkbmyndqspny)\" height=\"40\" id=\"E6\" rx=\"10\" ry=\"10\" style=\"stroke: #A80036; stroke-width: 1.5;\" width=\"50\" x=\"711\" y=\"299\"/><ellipse cx=\"730.5\" cy=\"315\" fill=\"#B6DBBB\" rx=\"11\" ry=\"11\" style=\"stroke: #A80036; stroke-width: 1.0;\"/><path d=\"M726.375,316.9219 L726.375,309.1094 L728.8281,309.1094 L728.8281,317.5469 Q728.8281,318.4688 729.2969,319 Q729.7813,319.5313 730.6094,319.5313 Q731.4531,319.5313 731.9219,319 Q732.3906,318.4688 732.3906,317.5469 L732.3906,309.1094 L734.8438,309.1094 L734.8438,316.9219 Q734.8438,319.4531 733.8438,320.5938 Q732.8438,321.7344 730.6094,321.7344 Q728.3906,321.7344 727.375,320.5938 Q726.375,319.4531 726.375,316.9219 Z \"/><text fill=\"#000000\" font-family=\"sans-serif\" font-size=\"12\" lengthAdjust=\"spacingAndGlyphs\" textLength=\"8\" x=\"745.5\" y=\"319.1543\">p</text></a></g><g id=\"E1.E7.E8.E9\"><a href=\"psysml:ebf9f55c-b0ce-46a7-820d-0de32b7e0555\" target=\"_top\" title=\"psysml:ebf9f55c-b0ce-46a7-820d-0de32b7e0555\" xlink:actuate=\"onRequest\" xlink:href=\"psysml:ebf9f55c-b0ce-46a7-820d-0de32b7e0555\" xlink:show=\"new\" xlink:title=\"psysml:ebf9f55c-b0ce-46a7-820d-0de32b7e0555\" xlink:type=\"simple\"><rect fill=\"#FEFECE\" filter=\"url(#f1hkbmyndqspny)\" height=\"42.9375\" id=\"E9\" rx=\"10\" ry=\"10\" style=\"stroke: #A80036; stroke-width: 1.5;\" width=\"108\" x=\"771\" y=\"159\"/><ellipse cx=\"788.25\" cy=\"177.9688\" fill=\"#FFA500\" rx=\"11\" ry=\"11\" style=\"stroke: #A80036; stroke-width: 1.0;\"/><path d=\"M784.125,179.8906 L784.125,172.0781 L786.5781,172.0781 L786.5781,180.5156 Q786.5781,181.4375 787.0469,181.9688 Q787.5313,182.5 788.3594,182.5 Q789.2031,182.5 789.6719,181.9688 Q790.1406,181.4375 790.1406,180.5156 L790.1406,172.0781 L792.5938,172.0781 L792.5938,179.8906 Q792.5938,182.4219 791.5938,183.5625 Q790.5938,184.7031 788.3594,184.7031 Q786.1406,184.7031 785.125,183.5625 Q784.125,182.4219 784.125,179.8906 Z \"/><text fill=\"#000000\" font-family=\"sans-serif\" font-size=\"12\" font-style=\"italic\" lengthAdjust=\"spacingAndGlyphs\" textLength=\"75\" x=\"800.75\" y=\"175.1387\">«reference»</text><text fill=\"#000000\" font-family=\"sans-serif\" font-size=\"12\" lengthAdjust=\"spacingAndGlyphs\" textLength=\"26\" x=\"825.25\" y=\"189.1074\">subj</text></a></g><!--MD5=[c5e8897d989ce984f93528998a7150fe]\n",
       "link E8 to E6--><a href=\"psysml:69852053-465c-4b3e-807c-2facd65a229c\" target=\"_top\" title=\"psysml:69852053-465c-4b3e-807c-2facd65a229c\" xlink:actuate=\"onRequest\" xlink:href=\"psysml:69852053-465c-4b3e-807c-2facd65a229c\" xlink:show=\"new\" xlink:title=\"psysml:69852053-465c-4b3e-807c-2facd65a229c\" xlink:type=\"simple\"><path d=\"M736,226.4501 C736,227.1713 736,227.8965 736,228.6252 C736,230.0826 736,231.5543 736,233.0372 C736,236.003 736,239.0136 736,242.0448 C736,248.1072 736,254.2518 736,260.2839 C736,272.3481 736,283.9625 736,293.57 \" fill=\"none\" id=\"E8-&gt;E6\" style=\"stroke: #A80036; stroke-width: 1.0; stroke-dasharray: 7.0,7.0;\"/><polygon fill=\"#A80036\" points=\"736,298.99,740,289.99,736,293.99,732,289.99,736,298.99\" style=\"stroke: #A80036; stroke-width: 1.0;\"/><text fill=\"#000000\" font-family=\"sans-serif\" font-size=\"13\" lengthAdjust=\"spacingAndGlyphs\" textLength=\"57\" x=\"737\" y=\"287.0669\">«satisfy»</text></a><!--MD5=[275412b4ce414b7d0aa921019bd5cb24]\n",
       "@startuml\r\n",
       "skinparam ranksep 8\r\n",
       "skinparam rectangle {\r\n",
       " backgroundColor<<block>> LightGreen\r\n",
       "}\r\n",
       " \r\n",
       "package \"RequirementTest\" as E1  [[psysml:7a32e4ca-d886-48d1-a22e-a4337a6af1e2 ]]  {\r\n",
       "def \"C\" as E2  <<(D,brown)constraint def>> [[psysml:c5fd5931-ea17-4576-af97-a79679b06835 ]] \r\n",
       "rec usage \"c: C\" as E3  <<(U,orange)constraint>> [[psysml:23e87db0-b26a-4449-ad29-18415d83eb38 ]] {\r\n",
       "}\r\n",
       "def \"R\" as E4  <<(D,brown)requirement def>> [[psysml:aa32b181-0a7a-45c2-8d8e-c84b0489ed31 ]] \r\n",
       "def \"R1\" as E5  <<(D,brown)requirement def>> [[psysml:5b4d3eaf-f72e-4f96-998b-f4a0a57df239 ]] \r\n",
       "rec usage \"p\" as E6  [[psysml:8fb932f6-fc92-43ad-aa0e-8cfa7b71c9b3 ]] {\r\n",
       "}\r\n",
       "rec usage \"q\" as E7  [[psysml:9b734dfd-0e44-4ae0-bd37-d0a03d4a12cd ]] {\r\n",
       "rec usage \"r: R\" as E8  <<(U,orange)requirement>> [[psysml:5a1cae69-7149-47dc-88a9-208fdbfbba4b ]] {\r\n",
       "rec usage \"subj\" as E9  <<(U,orange)reference>> [[psysml:ebf9f55c-b0ce-46a7-820d-0de32b7e0555 ]] {\r\n",
       "}\r\n",
       "}\r\n",
       "}\r\n",
       "E8 ..> E6 [[psysml:69852053-465c-4b3e-807c-2facd65a229c ]] : <<satisfy>>\r\n",
       "}\r\n",
       "@enduml\r\n",
       "\n",
       "PlantUML version 1.2020.13(Sat Jun 13 12:26:38 UTC 2020)\n",
       "(EPL source distribution)\n",
       "Java Runtime: OpenJDK Runtime Environment\n",
       "JVM: OpenJDK 64-Bit Server VM\n",
       "Default Encoding: UTF-8\n",
       "Language: en\n",
       "Country: null\n",
       "--></g></svg>"
      ]
     },
     "execution_count": 33,
     "metadata": {},
     "output_type": "execute_result"
    }
   ],
   "source": [
    "%viz --style=\"PLANTUML\" --view=\"Interconnection\" \"RequirementTest\""
   ]
  },
  {
   "cell_type": "code",
   "execution_count": 34,
   "id": "seventh-ferry",
   "metadata": {
    "execution": {
     "iopub.execute_input": "2021-03-25T09:27:09.596234Z",
     "iopub.status.busy": "2021-03-25T09:27:09.595614Z",
     "iopub.status.idle": "2021-03-25T09:27:09.600799Z",
     "shell.execute_reply": "2021-03-25T09:27:09.600442Z"
    }
   },
   "outputs": [
    {
     "data": {
      "image/svg+xml": [
       "<?xml version=\"1.0\" encoding=\"UTF-8\" standalone=\"no\"?><svg xmlns=\"http://www.w3.org/2000/svg\" xmlns:xlink=\"http://www.w3.org/1999/xlink\" contentScriptType=\"application/ecmascript\" contentStyleType=\"text/css\" height=\"12px\" preserveAspectRatio=\"none\" style=\"width:12px;height:12px;\" version=\"1.1\" viewBox=\"0 0 12 12\" width=\"12px\" zoomAndPan=\"magnify\"><defs/><g><!--MD5=[6a4cb978cab31700e1ce5529f947a75d]\n",
       "@startuml\r\n",
       "skinparam ranksep 8\r\n",
       " \r\n",
       "@enduml\r\n",
       "\n",
       "PlantUML version 1.2020.13(Sat Jun 13 12:26:38 UTC 2020)\n",
       "(EPL source distribution)\n",
       "Java Runtime: OpenJDK Runtime Environment\n",
       "JVM: OpenJDK 64-Bit Server VM\n",
       "Default Encoding: UTF-8\n",
       "Language: en\n",
       "Country: null\n",
       "--></g></svg>"
      ]
     },
     "execution_count": 34,
     "metadata": {},
     "output_type": "execute_result"
    }
   ],
   "source": [
    "%viz --style=\"PLANTUML\" --view=\"Action\" \"RequirementTest\""
   ]
  },
  {
   "cell_type": "code",
   "execution_count": 35,
   "id": "concrete-inspiration",
   "metadata": {
    "execution": {
     "iopub.execute_input": "2021-03-25T09:27:09.651356Z",
     "iopub.status.busy": "2021-03-25T09:27:09.650852Z",
     "iopub.status.idle": "2021-03-25T09:27:10.495260Z",
     "shell.execute_reply": "2021-03-25T09:27:10.495721Z"
    }
   },
   "outputs": [
    {
     "data": {
      "image/svg+xml": [
       "<?xml version=\"1.0\" encoding=\"UTF-8\" standalone=\"no\"?><svg xmlns=\"http://www.w3.org/2000/svg\" xmlns:xlink=\"http://www.w3.org/1999/xlink\" contentScriptType=\"application/ecmascript\" contentStyleType=\"text/css\" height=\"578px\" preserveAspectRatio=\"none\" style=\"width:460px;height:578px;\" version=\"1.1\" viewBox=\"0 0 460 578\" width=\"460px\" zoomAndPan=\"magnify\"><defs><filter height=\"300%\" id=\"f6x594iu05t13\" width=\"300%\" x=\"-1\" y=\"-1\"><feGaussianBlur result=\"blurOut\" stdDeviation=\"2.0\"/><feColorMatrix in=\"blurOut\" result=\"blurOut2\" type=\"matrix\" values=\"0 0 0 0 0 0 0 0 0 0 0 0 0 0 0 0 0 0 .4 0\"/><feOffset dx=\"4.0\" dy=\"4.0\" in=\"blurOut2\" result=\"blurOut3\"/><feBlend in=\"SourceGraphic\" in2=\"blurOut3\" mode=\"normal\"/></filter></defs><g><!--MD5=[fbc87193dbaf4d95561dea2c320d4a47]\n",
       "cluster E1--><a href=\"psysml:7a32e4ca-d886-48d1-a22e-a4337a6af1e2\" target=\"_top\" title=\"psysml:7a32e4ca-d886-48d1-a22e-a4337a6af1e2\" xlink:actuate=\"onRequest\" xlink:href=\"psysml:7a32e4ca-d886-48d1-a22e-a4337a6af1e2\" xlink:show=\"new\" xlink:title=\"psysml:7a32e4ca-d886-48d1-a22e-a4337a6af1e2\" xlink:type=\"simple\"><polygon fill=\"#FFFFFF\" filter=\"url(#f6x594iu05t13)\" points=\"16,6,158,6,165,28.2969,438,28.2969,438,566,16,566,16,6\" style=\"stroke: #000000; stroke-width: 1.5;\"/><line style=\"stroke: #000000; stroke-width: 1.5;\" x1=\"16\" x2=\"165\" y1=\"28.2969\" y2=\"28.2969\"/><text fill=\"#000000\" font-family=\"sans-serif\" font-size=\"14\" font-weight=\"bold\" lengthAdjust=\"spacingAndGlyphs\" textLength=\"136\" x=\"20\" y=\"20.9951\">RequirementTest</text></a><!--MD5=[b4997ac47864f28c2f74865a473b2911]\n",
       "class E2--><a href=\"psysml:c5fd5931-ea17-4576-af97-a79679b06835\" target=\"_top\" title=\"psysml:c5fd5931-ea17-4576-af97-a79679b06835\" xlink:actuate=\"onRequest\" xlink:href=\"psysml:c5fd5931-ea17-4576-af97-a79679b06835\" xlink:show=\"new\" xlink:title=\"psysml:c5fd5931-ea17-4576-af97-a79679b06835\" xlink:type=\"simple\"><rect fill=\"#FEFECE\" filter=\"url(#f6x594iu05t13)\" height=\"45.9375\" id=\"E2\" style=\"stroke: #A80036; stroke-width: 1.5;\" width=\"130\" x=\"292\" y=\"190\"/><ellipse cx=\"307\" cy=\"208.9688\" fill=\"#A52A2A\" rx=\"11\" ry=\"11\" style=\"stroke: #A80036; stroke-width: 1.0;\"/><path d=\"M306.5938,204.7813 L306.5938,212.7656 L307.25,212.7656 Q308.6875,212.7656 309.2969,211.8594 Q309.9219,210.9375 309.9219,208.7656 Q309.9219,206.5938 309.2969,205.6875 Q308.6875,204.7813 307.25,204.7813 L306.5938,204.7813 Z M304.1406,202.5781 L306.7656,202.5781 Q309.7969,202.5781 311.125,204.0313 Q312.4688,205.4688 312.4688,208.7656 Q312.4688,212.0625 311.125,213.5156 Q309.7969,214.9688 306.7656,214.9688 L304.1406,214.9688 L304.1406,202.5781 Z \"/><text fill=\"#000000\" font-family=\"sans-serif\" font-size=\"12\" font-style=\"italic\" lengthAdjust=\"spacingAndGlyphs\" textLength=\"102\" x=\"319\" y=\"206.1387\">«constraint def»</text><text fill=\"#000000\" font-family=\"sans-serif\" font-size=\"12\" lengthAdjust=\"spacingAndGlyphs\" textLength=\"8\" x=\"366\" y=\"220.1074\">C</text><line style=\"stroke: #A80036; stroke-width: 1.5;\" x1=\"293\" x2=\"421\" y1=\"227.9375\" y2=\"227.9375\"/></a><!--MD5=[09b614a08d8cba4a07c9adeb5e0fee81]\n",
       "class E3--><a href=\"psysml:23e87db0-b26a-4449-ad29-18415d83eb38\" target=\"_top\" title=\"psysml:23e87db0-b26a-4449-ad29-18415d83eb38\" xlink:actuate=\"onRequest\" xlink:href=\"psysml:23e87db0-b26a-4449-ad29-18415d83eb38\" xlink:show=\"new\" xlink:title=\"psysml:23e87db0-b26a-4449-ad29-18415d83eb38\" xlink:type=\"simple\"><rect fill=\"#FEFECE\" filter=\"url(#f6x594iu05t13)\" height=\"45.9375\" id=\"E3\" rx=\"10\" ry=\"10\" style=\"stroke: #A80036; stroke-width: 1.5;\" width=\"106\" x=\"316\" y=\"62\"/><ellipse cx=\"331\" cy=\"80.9688\" fill=\"#FFA500\" rx=\"11\" ry=\"11\" style=\"stroke: #A80036; stroke-width: 1.0;\"/><path d=\"M326.875,82.8906 L326.875,75.0781 L329.3281,75.0781 L329.3281,83.5156 Q329.3281,84.4375 329.7969,84.9688 Q330.2813,85.5 331.1094,85.5 Q331.9531,85.5 332.4219,84.9688 Q332.8906,84.4375 332.8906,83.5156 L332.8906,75.0781 L335.3438,75.0781 L335.3438,82.8906 Q335.3438,85.4219 334.3438,86.5625 Q333.3438,87.7031 331.1094,87.7031 Q328.8906,87.7031 327.875,86.5625 Q326.875,85.4219 326.875,82.8906 Z \"/><text fill=\"#000000\" font-family=\"sans-serif\" font-size=\"12\" font-style=\"italic\" lengthAdjust=\"spacingAndGlyphs\" textLength=\"78\" x=\"343\" y=\"78.1387\">«constraint»</text><text fill=\"#000000\" font-family=\"sans-serif\" font-size=\"12\" lengthAdjust=\"spacingAndGlyphs\" textLength=\"23\" x=\"370.5\" y=\"92.1074\">c: C</text><line style=\"stroke: #A80036; stroke-width: 1.5;\" x1=\"317\" x2=\"421\" y1=\"99.9375\" y2=\"99.9375\"/></a><!--MD5=[ebbe1d658d1005bcc118a6aa81145e00]\n",
       "class E4--><a href=\"psysml:aa32b181-0a7a-45c2-8d8e-c84b0489ed31\" target=\"_top\" title=\"psysml:aa32b181-0a7a-45c2-8d8e-c84b0489ed31\" xlink:actuate=\"onRequest\" xlink:href=\"psysml:aa32b181-0a7a-45c2-8d8e-c84b0489ed31\" xlink:show=\"new\" xlink:title=\"psysml:aa32b181-0a7a-45c2-8d8e-c84b0489ed31\" xlink:type=\"simple\"><rect fill=\"#FEFECE\" filter=\"url(#f6x594iu05t13)\" height=\"109.1563\" id=\"E4\" style=\"stroke: #A80036; stroke-width: 1.5;\" width=\"143\" x=\"32.5\" y=\"313\"/><ellipse cx=\"47.5\" cy=\"331.9688\" fill=\"#A52A2A\" rx=\"11\" ry=\"11\" style=\"stroke: #A80036; stroke-width: 1.0;\"/><path d=\"M47.0938,327.7813 L47.0938,335.7656 L47.75,335.7656 Q49.1875,335.7656 49.7969,334.8594 Q50.4219,333.9375 50.4219,331.7656 Q50.4219,329.5938 49.7969,328.6875 Q49.1875,327.7813 47.75,327.7813 L47.0938,327.7813 Z M44.6406,325.5781 L47.2656,325.5781 Q50.2969,325.5781 51.625,327.0313 Q52.9688,328.4688 52.9688,331.7656 Q52.9688,335.0625 51.625,336.5156 Q50.2969,337.9688 47.2656,337.9688 L44.6406,337.9688 L44.6406,325.5781 Z \"/><text fill=\"#000000\" font-family=\"sans-serif\" font-size=\"12\" font-style=\"italic\" lengthAdjust=\"spacingAndGlyphs\" textLength=\"115\" x=\"59.5\" y=\"329.1387\">«requirement def»</text><text fill=\"#000000\" font-family=\"sans-serif\" font-size=\"12\" lengthAdjust=\"spacingAndGlyphs\" textLength=\"8\" x=\"113\" y=\"343.1074\">R</text><line style=\"stroke: #A80036; stroke-width: 1.5;\" x1=\"33.5\" x2=\"174.5\" y1=\"350.9375\" y2=\"350.9375\"/><text fill=\"#000000\" font-family=\"sans-serif\" font-size=\"11\" lengthAdjust=\"spacingAndGlyphs\" textLength=\"0\" x=\"42.5\" y=\"365.1479\"/><line style=\"stroke: #A80036; stroke-width: 1.0;\" x1=\"33.5\" x2=\"174.5\" y1=\"371.7422\" y2=\"371.7422\"/><text fill=\"#000000\" font-family=\"sans-serif\" font-size=\"11\" font-weight=\"bold\" lengthAdjust=\"spacingAndGlyphs\" textLength=\"46\" x=\"38.5\" y=\"402.7573\">require</text><text fill=\"#000000\" font-family=\"sans-serif\" font-size=\"11\" lengthAdjust=\"spacingAndGlyphs\" textLength=\"6\" x=\"88.5\" y=\"402.7573\">c</text><text fill=\"#000000\" font-family=\"sans-serif\" font-size=\"11\" font-style=\"italic\" lengthAdjust=\"spacingAndGlyphs\" textLength=\"46\" x=\"38.5\" y=\"415.562\">assume</text><text fill=\"#000000\" font-family=\"sans-serif\" font-size=\"11\" lengthAdjust=\"spacingAndGlyphs\" textLength=\"29\" x=\"88.5\" y=\"415.562\">c1: C</text><line style=\"stroke: #A80036; stroke-width: 1.0;\" x1=\"33.5\" x2=\"72\" y1=\"386.1445\" y2=\"386.1445\"/><text fill=\"#000000\" font-family=\"sans-serif\" font-size=\"11\" lengthAdjust=\"spacingAndGlyphs\" textLength=\"64\" x=\"72\" y=\"389.4526\">constraints</text><line style=\"stroke: #A80036; stroke-width: 1.0;\" x1=\"136\" x2=\"174.5\" y1=\"386.1445\" y2=\"386.1445\"/></a><!--MD5=[270fce915f116d4de14055a7c1d9a0f3]\n",
       "class E5--><a href=\"psysml:c7a4f64d-f76e-4f11-bab9-561a5696e580\" target=\"_top\" title=\"psysml:c7a4f64d-f76e-4f11-bab9-561a5696e580\" xlink:actuate=\"onRequest\" xlink:href=\"psysml:c7a4f64d-f76e-4f11-bab9-561a5696e580\" xlink:show=\"new\" xlink:title=\"psysml:c7a4f64d-f76e-4f11-bab9-561a5696e580\" xlink:type=\"simple\"><rect fill=\"#FEFECE\" filter=\"url(#f6x594iu05t13)\" height=\"66.7422\" id=\"E5\" style=\"stroke: #A80036; stroke-width: 1.5;\" width=\"143\" x=\"32.5\" y=\"483\"/><ellipse cx=\"47.5\" cy=\"501.9688\" fill=\"#A52A2A\" rx=\"11\" ry=\"11\" style=\"stroke: #A80036; stroke-width: 1.0;\"/><path d=\"M47.0938,497.7813 L47.0938,505.7656 L47.75,505.7656 Q49.1875,505.7656 49.7969,504.8594 Q50.4219,503.9375 50.4219,501.7656 Q50.4219,499.5938 49.7969,498.6875 Q49.1875,497.7813 47.75,497.7813 L47.0938,497.7813 Z M44.6406,495.5781 L47.2656,495.5781 Q50.2969,495.5781 51.625,497.0313 Q52.9688,498.4688 52.9688,501.7656 Q52.9688,505.0625 51.625,506.5156 Q50.2969,507.9688 47.2656,507.9688 L44.6406,507.9688 L44.6406,495.5781 Z \"/><text fill=\"#000000\" font-family=\"sans-serif\" font-size=\"12\" font-style=\"italic\" lengthAdjust=\"spacingAndGlyphs\" textLength=\"115\" x=\"59.5\" y=\"499.1387\">«requirement def»</text><text fill=\"#000000\" font-family=\"sans-serif\" font-size=\"12\" lengthAdjust=\"spacingAndGlyphs\" textLength=\"5\" x=\"104\" y=\"513.1074\">[</text><text fill=\"#000000\" font-family=\"sans-serif\" font-size=\"12\" font-weight=\"bold\" lengthAdjust=\"spacingAndGlyphs\" textLength=\"8\" x=\"109\" y=\"513.1074\">1</text><text fill=\"#000000\" font-family=\"sans-serif\" font-size=\"12\" lengthAdjust=\"spacingAndGlyphs\" textLength=\"17\" x=\"117\" y=\"513.1074\">] A</text><line style=\"stroke: #A80036; stroke-width: 1.5;\" x1=\"33.5\" x2=\"174.5\" y1=\"520.9375\" y2=\"520.9375\"/><text fill=\"#000000\" font-family=\"sans-serif\" font-size=\"11\" lengthAdjust=\"spacingAndGlyphs\" textLength=\"24\" x=\"38.5\" y=\"535.1479\">Text</text><line style=\"stroke: #A80036; stroke-width: 1.0;\" x1=\"33.5\" x2=\"174.5\" y1=\"541.7422\" y2=\"541.7422\"/></a><!--MD5=[b9389687b975829384b498ac4b7476b2]\n",
       "class E8--><a href=\"psysml:165156c7-6d13-47e8-9214-4efd9fbee902\" target=\"_top\" title=\"psysml:165156c7-6d13-47e8-9214-4efd9fbee902\" xlink:actuate=\"onRequest\" xlink:href=\"psysml:165156c7-6d13-47e8-9214-4efd9fbee902\" xlink:show=\"new\" xlink:title=\"psysml:165156c7-6d13-47e8-9214-4efd9fbee902\" xlink:type=\"simple\"><rect fill=\"#FEFECE\" filter=\"url(#f6x594iu05t13)\" height=\"45.9375\" id=\"E8\" rx=\"10\" ry=\"10\" style=\"stroke: #A80036; stroke-width: 1.5;\" width=\"119\" x=\"210.5\" y=\"493.5\"/><ellipse cx=\"225.5\" cy=\"512.4688\" fill=\"#FFA500\" rx=\"11\" ry=\"11\" style=\"stroke: #A80036; stroke-width: 1.0;\"/><path d=\"M221.375,514.3906 L221.375,506.5781 L223.8281,506.5781 L223.8281,515.0156 Q223.8281,515.9375 224.2969,516.4688 Q224.7813,517 225.6094,517 Q226.4531,517 226.9219,516.4688 Q227.3906,515.9375 227.3906,515.0156 L227.3906,506.5781 L229.8438,506.5781 L229.8438,514.3906 Q229.8438,516.9219 228.8438,518.0625 Q227.8438,519.2031 225.6094,519.2031 Q223.3906,519.2031 222.375,518.0625 Q221.375,516.9219 221.375,514.3906 Z \"/><text fill=\"#000000\" font-family=\"sans-serif\" font-size=\"12\" font-style=\"italic\" lengthAdjust=\"spacingAndGlyphs\" textLength=\"91\" x=\"237.5\" y=\"509.6387\">«requirement»</text><text fill=\"#000000\" font-family=\"sans-serif\" font-size=\"12\" lengthAdjust=\"spacingAndGlyphs\" text-decoration=\"line-through\" textLength=\"51\" x=\"257.5\" y=\"523.6074\">noname</text><line style=\"stroke: #A80036; stroke-width: 1.5;\" x1=\"211.5\" x2=\"328.5\" y1=\"531.4375\" y2=\"531.4375\"/></a><!--MD5=[fd4143e9d270a159db93a4ea2a975926]\n",
       "class E9--><a href=\"psysml:5b4d3eaf-f72e-4f96-998b-f4a0a57df239\" target=\"_top\" title=\"psysml:5b4d3eaf-f72e-4f96-998b-f4a0a57df239\" xlink:actuate=\"onRequest\" xlink:href=\"psysml:5b4d3eaf-f72e-4f96-998b-f4a0a57df239\" xlink:show=\"new\" xlink:title=\"psysml:5b4d3eaf-f72e-4f96-998b-f4a0a57df239\" xlink:type=\"simple\"><rect fill=\"#FEFECE\" filter=\"url(#f6x594iu05t13)\" height=\"88.3516\" id=\"E9\" style=\"stroke: #A80036; stroke-width: 1.5;\" width=\"145\" x=\"135.5\" y=\"41\"/><ellipse cx=\"151.4\" cy=\"59.9688\" fill=\"#A52A2A\" rx=\"11\" ry=\"11\" style=\"stroke: #A80036; stroke-width: 1.0;\"/><path d=\"M150.9938,55.7813 L150.9938,63.7656 L151.65,63.7656 Q153.0875,63.7656 153.6969,62.8594 Q154.3219,61.9375 154.3219,59.7656 Q154.3219,57.5938 153.6969,56.6875 Q153.0875,55.7813 151.65,55.7813 L150.9938,55.7813 Z M148.5406,53.5781 L151.1656,53.5781 Q154.1969,53.5781 155.525,55.0313 Q156.8688,56.4688 156.8688,59.7656 Q156.8688,63.0625 155.525,64.5156 Q154.1969,65.9688 151.1656,65.9688 L148.5406,65.9688 L148.5406,53.5781 Z \"/><text fill=\"#000000\" font-family=\"sans-serif\" font-size=\"12\" font-style=\"italic\" lengthAdjust=\"spacingAndGlyphs\" textLength=\"115\" x=\"163.6\" y=\"57.1387\">«requirement def»</text><text fill=\"#000000\" font-family=\"sans-serif\" font-size=\"12\" lengthAdjust=\"spacingAndGlyphs\" textLength=\"16\" x=\"213.1\" y=\"71.1074\">R1</text><line style=\"stroke: #A80036; stroke-width: 1.5;\" x1=\"136.5\" x2=\"279.5\" y1=\"78.9375\" y2=\"78.9375\"/><text fill=\"#000000\" font-family=\"sans-serif\" font-size=\"11\" font-weight=\"bold\" lengthAdjust=\"spacingAndGlyphs\" textLength=\"46\" x=\"141.5\" y=\"109.9526\">require</text><text fill=\"#000000\" font-family=\"sans-serif\" font-size=\"11\" lengthAdjust=\"spacingAndGlyphs\" textLength=\"13\" x=\"191.5\" y=\"109.9526\">c1</text><text fill=\"#000000\" font-family=\"sans-serif\" font-size=\"11\" font-style=\"italic\" lengthAdjust=\"spacingAndGlyphs\" textLength=\"133\" x=\"141.5\" y=\"122.7573\">:&gt;&gt;RequirementTest::c</text><line style=\"stroke: #A80036; stroke-width: 1.0;\" x1=\"136.5\" x2=\"176\" y1=\"93.3398\" y2=\"93.3398\"/><text fill=\"#000000\" font-family=\"sans-serif\" font-size=\"11\" lengthAdjust=\"spacingAndGlyphs\" textLength=\"64\" x=\"176\" y=\"96.6479\">constraints</text><line style=\"stroke: #A80036; stroke-width: 1.0;\" x1=\"240\" x2=\"279.5\" y1=\"93.3398\" y2=\"93.3398\"/></a><!--MD5=[1dd1bfd58a279cf63c5f349dbc8fc6a1]\n",
       "class E11--><a href=\"psysml:8fb932f6-fc92-43ad-aa0e-8cfa7b71c9b3\" target=\"_top\" title=\"psysml:8fb932f6-fc92-43ad-aa0e-8cfa7b71c9b3\" xlink:actuate=\"onRequest\" xlink:href=\"psysml:8fb932f6-fc92-43ad-aa0e-8cfa7b71c9b3\" xlink:show=\"new\" xlink:title=\"psysml:8fb932f6-fc92-43ad-aa0e-8cfa7b71c9b3\" xlink:type=\"simple\"><rect fill=\"#FEFECE\" filter=\"url(#f6x594iu05t13)\" height=\"45.9375\" id=\"E11\" rx=\"10\" ry=\"10\" style=\"stroke: #A80036; stroke-width: 1.5;\" width=\"68\" x=\"211\" y=\"344.5\"/><ellipse cx=\"226\" cy=\"363.4688\" fill=\"#32CD32\" rx=\"11\" ry=\"11\" style=\"stroke: #A80036; stroke-width: 1.0;\"/><path d=\"M225.7969,359.1406 L225.7969,362.7656 L226.7969,362.7656 Q228,362.7656 228.4844,362.3594 Q228.9688,361.9531 228.9688,360.9531 Q228.9688,359.9531 228.4844,359.5469 Q228,359.1406 226.7969,359.1406 L225.7969,359.1406 Z M223.3438,357.0781 L226.7031,357.0781 Q229.2656,357.0781 230.3906,358 Q231.5156,358.9063 231.5156,360.9531 Q231.5156,363 230.3906,363.9219 Q229.2656,364.8281 226.7031,364.8281 L225.7969,364.8281 L225.7969,369.4688 L223.3438,369.4688 L223.3438,357.0781 Z \"/><text fill=\"#000000\" font-family=\"sans-serif\" font-size=\"12\" font-style=\"italic\" lengthAdjust=\"spacingAndGlyphs\" textLength=\"40\" x=\"238\" y=\"360.6387\">«part»</text><text fill=\"#000000\" font-family=\"sans-serif\" font-size=\"12\" lengthAdjust=\"spacingAndGlyphs\" textLength=\"8\" x=\"254\" y=\"374.6074\">p</text><line style=\"stroke: #A80036; stroke-width: 1.5;\" x1=\"212\" x2=\"278\" y1=\"382.4375\" y2=\"382.4375\"/></a><!--MD5=[49a0ec8f00dab7302a31f22d0f0fe584]\n",
       "class E12--><a href=\"psysml:9b734dfd-0e44-4ae0-bd37-d0a03d4a12cd\" target=\"_top\" title=\"psysml:9b734dfd-0e44-4ae0-bd37-d0a03d4a12cd\" xlink:actuate=\"onRequest\" xlink:href=\"psysml:9b734dfd-0e44-4ae0-bd37-d0a03d4a12cd\" xlink:show=\"new\" xlink:title=\"psysml:9b734dfd-0e44-4ae0-bd37-d0a03d4a12cd\" xlink:type=\"simple\"><rect fill=\"#FEFECE\" filter=\"url(#f6x594iu05t13)\" height=\"45.9375\" id=\"E12\" rx=\"10\" ry=\"10\" style=\"stroke: #A80036; stroke-width: 1.5;\" width=\"68\" x=\"32\" y=\"62\"/><ellipse cx=\"47\" cy=\"80.9688\" fill=\"#32CD32\" rx=\"11\" ry=\"11\" style=\"stroke: #A80036; stroke-width: 1.0;\"/><path d=\"M46.7969,76.6406 L46.7969,80.2656 L47.7969,80.2656 Q49,80.2656 49.4844,79.8594 Q49.9688,79.4531 49.9688,78.4531 Q49.9688,77.4531 49.4844,77.0469 Q49,76.6406 47.7969,76.6406 L46.7969,76.6406 Z M44.3438,74.5781 L47.7031,74.5781 Q50.2656,74.5781 51.3906,75.5 Q52.5156,76.4063 52.5156,78.4531 Q52.5156,80.5 51.3906,81.4219 Q50.2656,82.3281 47.7031,82.3281 L46.7969,82.3281 L46.7969,86.9688 L44.3438,86.9688 L44.3438,74.5781 Z \"/><text fill=\"#000000\" font-family=\"sans-serif\" font-size=\"12\" font-style=\"italic\" lengthAdjust=\"spacingAndGlyphs\" textLength=\"40\" x=\"59\" y=\"78.1387\">«part»</text><text fill=\"#000000\" font-family=\"sans-serif\" font-size=\"12\" lengthAdjust=\"spacingAndGlyphs\" textLength=\"8\" x=\"75\" y=\"92.1074\">q</text><line style=\"stroke: #A80036; stroke-width: 1.5;\" x1=\"33\" x2=\"99\" y1=\"99.9375\" y2=\"99.9375\"/></a><!--MD5=[ee3c913d1a06f366521f9ef512b67efe]\n",
       "class E13--><a href=\"psysml:5a1cae69-7149-47dc-88a9-208fdbfbba4b\" target=\"_top\" title=\"psysml:5a1cae69-7149-47dc-88a9-208fdbfbba4b\" xlink:actuate=\"onRequest\" xlink:href=\"psysml:5a1cae69-7149-47dc-88a9-208fdbfbba4b\" xlink:show=\"new\" xlink:title=\"psysml:5a1cae69-7149-47dc-88a9-208fdbfbba4b\" xlink:type=\"simple\"><rect fill=\"#FEFECE\" filter=\"url(#f6x594iu05t13)\" height=\"45.9375\" id=\"E13\" rx=\"10\" ry=\"10\" style=\"stroke: #A80036; stroke-width: 1.5;\" width=\"119\" x=\"44.5\" y=\"190\"/><ellipse cx=\"59.5\" cy=\"208.9688\" fill=\"#FFA500\" rx=\"11\" ry=\"11\" style=\"stroke: #A80036; stroke-width: 1.0;\"/><path d=\"M55.375,210.8906 L55.375,203.0781 L57.8281,203.0781 L57.8281,211.5156 Q57.8281,212.4375 58.2969,212.9688 Q58.7813,213.5 59.6094,213.5 Q60.4531,213.5 60.9219,212.9688 Q61.3906,212.4375 61.3906,211.5156 L61.3906,203.0781 L63.8438,203.0781 L63.8438,210.8906 Q63.8438,213.4219 62.8438,214.5625 Q61.8438,215.7031 59.6094,215.7031 Q57.3906,215.7031 56.375,214.5625 Q55.375,213.4219 55.375,210.8906 Z \"/><text fill=\"#000000\" font-family=\"sans-serif\" font-size=\"12\" font-style=\"italic\" lengthAdjust=\"spacingAndGlyphs\" textLength=\"91\" x=\"71.5\" y=\"206.1387\">«requirement»</text><text fill=\"#000000\" font-family=\"sans-serif\" font-size=\"12\" lengthAdjust=\"spacingAndGlyphs\" textLength=\"21\" x=\"106.5\" y=\"220.1074\">r: R</text><line style=\"stroke: #A80036; stroke-width: 1.5;\" x1=\"45.5\" x2=\"162.5\" y1=\"227.9375\" y2=\"227.9375\"/></a><!--MD5=[05d275557350bfb9b23a4ef7222b4c39]\n",
       "link E3 to E2--><a href=\"psysml:bb92853b-9a42-4685-9891-57f30cbf18f8\" target=\"_top\" title=\"psysml:bb92853b-9a42-4685-9891-57f30cbf18f8\" xlink:actuate=\"onRequest\" xlink:href=\"psysml:bb92853b-9a42-4685-9891-57f30cbf18f8\" xlink:show=\"new\" xlink:title=\"psysml:bb92853b-9a42-4685-9891-57f30cbf18f8\" xlink:type=\"simple\"><path d=\"M366.88,108.24 C365.26,125.24 362.98,149.19 361.02,169.79 \" fill=\"none\" id=\"E3-&gt;E2\" style=\"stroke: #A80036; stroke-width: 1.0;\"/><polygon fill=\"#FFFFFF\" points=\"359.1,189.99,353.9362,170.411,367.8729,171.7407,359.1,189.99\" style=\"stroke: #A80036; stroke-width: 1.0;\"/><ellipse cx=\"356.4685\" cy=\"164.9268\" fill=\"#A80036\" rx=\"2\" ry=\"2\" style=\"stroke: #A80036; stroke-width: 1.0;\"/><ellipse cx=\"366.4233\" cy=\"165.8765\" fill=\"#A80036\" rx=\"2\" ry=\"2\" style=\"stroke: #A80036; stroke-width: 1.0;\"/></a><!--MD5=[62aa6af11e70f752912c1cb0466f24f7]\n",
       "reverse link E4 to E5--><a href=\"psysml:c7a4f64d-f76e-4f11-bab9-561a5696e580\" target=\"_top\" title=\"psysml:c7a4f64d-f76e-4f11-bab9-561a5696e580\" xlink:actuate=\"onRequest\" xlink:href=\"psysml:c7a4f64d-f76e-4f11-bab9-561a5696e580\" xlink:show=\"new\" xlink:title=\"psysml:c7a4f64d-f76e-4f11-bab9-561a5696e580\" xlink:type=\"simple\"><path d=\"M104,437.45 C104,453.34 104,469.51 104,482.98 \" fill=\"none\" id=\"E4&lt;-E5\" style=\"stroke: #A80036; stroke-width: 1.0;\"/><ellipse cx=\"104\" cy=\"430.4\" fill=\"#FFFFFF\" rx=\"8\" ry=\"8\" style=\"stroke: #A80036; stroke-width: 1.0;\"/><line style=\"stroke: #A80036; stroke-width: 1.0;\" x1=\"104\" x2=\"104\" y1=\"438.4\" y2=\"422.4\"/><line style=\"stroke: #A80036; stroke-width: 1.0;\" x1=\"96\" x2=\"112\" y1=\"430.4\" y2=\"430.4\"/></a><!--MD5=[c6fc7cdb0cabde04948078cf183fa696]\n",
       "reverse link E4 to E8--><a href=\"psysml:165156c7-6d13-47e8-9214-4efd9fbee902\" target=\"_top\" title=\"psysml:165156c7-6d13-47e8-9214-4efd9fbee902\" xlink:actuate=\"onRequest\" xlink:href=\"psysml:165156c7-6d13-47e8-9214-4efd9fbee902\" xlink:show=\"new\" xlink:title=\"psysml:165156c7-6d13-47e8-9214-4efd9fbee902\" xlink:type=\"simple\"><path d=\"M174.75,431.16 C199.83,453.36 226.43,476.92 245.13,493.48 \" fill=\"none\" id=\"E4&lt;-E8\" style=\"stroke: #A80036; stroke-width: 1.0;\"/><polygon fill=\"#A80036\" points=\"164.87,422.4,166.7154,429.371,173.86,430.3486,172.0145,423.3776,164.87,422.4\" style=\"stroke: #A80036; stroke-width: 1.0;\"/></a><!--MD5=[062ed86c389d1a88f61c6380d0491e17]\n",
       "reverse link E12 to E13--><a href=\"psysml:5a1cae69-7149-47dc-88a9-208fdbfbba4b\" target=\"_top\" title=\"psysml:5a1cae69-7149-47dc-88a9-208fdbfbba4b\" xlink:actuate=\"onRequest\" xlink:href=\"psysml:5a1cae69-7149-47dc-88a9-208fdbfbba4b\" xlink:show=\"new\" xlink:title=\"psysml:5a1cae69-7149-47dc-88a9-208fdbfbba4b\" xlink:type=\"simple\"><path d=\"M76.49,120.8 C83.17,142.92 91.6,170.89 97.36,189.99 \" fill=\"none\" id=\"E12&lt;-E13\" style=\"stroke: #A80036; stroke-width: 1.0;\"/><polygon fill=\"#A80036\" points=\"72.71,108.24,70.6129,115.1394,76.1751,119.7288,78.2722,112.8294,72.71,108.24\" style=\"stroke: #A80036; stroke-width: 1.0;\"/></a><!--MD5=[017847e01ff9a8bd19f247411074f987]\n",
       "link E13 to E4--><a href=\"psysml:9a693856-e1d7-4623-99b4-c4529bf04054\" target=\"_top\" title=\"psysml:9a693856-e1d7-4623-99b4-c4529bf04054\" xlink:actuate=\"onRequest\" xlink:href=\"psysml:9a693856-e1d7-4623-99b4-c4529bf04054\" xlink:show=\"new\" xlink:title=\"psysml:9a693856-e1d7-4623-99b4-c4529bf04054\" xlink:type=\"simple\"><path d=\"M104,236.17 C104,251.17 104,271.91 104,292.44 \" fill=\"none\" id=\"E13-&gt;E4\" style=\"stroke: #A80036; stroke-width: 1.0;\"/><polygon fill=\"#FFFFFF\" points=\"104,312.68,97,293.68,111,293.68,104,312.68\" style=\"stroke: #A80036; stroke-width: 1.0;\"/><ellipse cx=\"99\" cy=\"287.98\" fill=\"#A80036\" rx=\"2\" ry=\"2\" style=\"stroke: #A80036; stroke-width: 1.0;\"/><ellipse cx=\"109\" cy=\"287.98\" fill=\"#A80036\" rx=\"2\" ry=\"2\" style=\"stroke: #A80036; stroke-width: 1.0;\"/></a><!--MD5=[2cfe899c895462254056921bfb67315f]\n",
       "link E13 to E11--><a href=\"psysml:69852053-465c-4b3e-807c-2facd65a229c\" target=\"_top\" title=\"psysml:69852053-465c-4b3e-807c-2facd65a229c\" xlink:actuate=\"onRequest\" xlink:href=\"psysml:69852053-465c-4b3e-807c-2facd65a229c\" xlink:show=\"new\" xlink:title=\"psysml:69852053-465c-4b3e-807c-2facd65a229c\" xlink:type=\"simple\"><path d=\"M124.5,236.17 C150.09,263.85 193.77,311.09 220.92,340.45 \" fill=\"none\" id=\"E13-&gt;E11\" style=\"stroke: #A80036; stroke-width: 1.0; stroke-dasharray: 7.0,7.0;\"/><polygon fill=\"#A80036\" points=\"224.47,344.3,221.2896,334.9788,221.0727,340.6315,215.42,340.4145,224.47,344.3\" style=\"stroke: #A80036; stroke-width: 1.0;\"/><text fill=\"#000000\" font-family=\"sans-serif\" font-size=\"13\" lengthAdjust=\"spacingAndGlyphs\" textLength=\"57\" x=\"167\" y=\"279.0669\">«satisfy»</text></a><!--MD5=[e753265980b239b4f572638fcfaf4d8d]\n",
       "@startuml\r\n",
       " \r\n",
       "package \"RequirementTest\" as E1  [[psysml:7a32e4ca-d886-48d1-a22e-a4337a6af1e2 ]]  {\r\n",
       "comp def \"C\" as E2  <<(D,brown)constraint def>> [[psysml:c5fd5931-ea17-4576-af97-a79679b06835 ]] {\r\n",
       "}\r\n",
       "comp usage \"c: C\" as E3  <<(U,orange)constraint>> [[psysml:23e87db0-b26a-4449-ad29-18415d83eb38 ]] {\r\n",
       "}\r\n",
       "comp def \"R\" as E4  <<(D,brown)requirement def>> [[psysml:aa32b181-0a7a-45c2-8d8e-c84b0489ed31 ]] {\r\n",
       "\r\n",
       "- -\r\n",
       "- - constraints - -\r\n",
       "<b>require</b> c\r\n",
       "<i>assume</i> c1: C\r\n",
       "}\r\n",
       "comp def \" [<b>1</b>] A\" as E5  <<(D,brown)requirement def>> [[psysml:c7a4f64d-f76e-4f11-bab9-561a5696e580 ]] {\r\n",
       "Text\r\n",
       "- -\r\n",
       "}\r\n",
       "comp usage \"<s>noname</s>\" as E8  <<(U,orange)requirement>> [[psysml:165156c7-6d13-47e8-9214-4efd9fbee902 ]] {\r\n",
       "}\r\n",
       "comp def \"R1\" as E9  <<(D,brown)requirement def>> [[psysml:5b4d3eaf-f72e-4f96-998b-f4a0a57df239 ]] {\r\n",
       "- - constraints - -\r\n",
       "<b>require</b> c1\\n//:>>RequirementTest::c// \r\n",
       "}\r\n",
       "comp usage \"p\" as E11  << (P,limegreen) part>> [[psysml:8fb932f6-fc92-43ad-aa0e-8cfa7b71c9b3 ]] {\r\n",
       "}\r\n",
       "comp usage \"q\" as E12  << (P,limegreen) part>> [[psysml:9b734dfd-0e44-4ae0-bd37-d0a03d4a12cd ]] {\r\n",
       "}\r\n",
       "comp usage \"r: R\" as E13  <<(U,orange)requirement>> [[psysml:5a1cae69-7149-47dc-88a9-208fdbfbba4b ]] {\r\n",
       "}\r\n",
       "E3 - -:|> E2 [[psysml:bb92853b-9a42-4685-9891-57f30cbf18f8 ]] \r\n",
       "E4 +- - E5 [[psysml:c7a4f64d-f76e-4f11-bab9-561a5696e580 ]] \r\n",
       "E4 *- - E8 [[psysml:165156c7-6d13-47e8-9214-4efd9fbee902 ]] \r\n",
       "E12 *- - E13 [[psysml:5a1cae69-7149-47dc-88a9-208fdbfbba4b ]] \r\n",
       "E13 - -:|> E4 [[psysml:9a693856-e1d7-4623-99b4-c4529bf04054 ]] \r\n",
       "E13 ..> E11 [[psysml:69852053-465c-4b3e-807c-2facd65a229c ]] : <<satisfy>>\r\n",
       "}\r\n",
       "@enduml\r\n",
       "\n",
       "PlantUML version 1.2020.13(Sat Jun 13 12:26:38 UTC 2020)\n",
       "(EPL source distribution)\n",
       "Java Runtime: OpenJDK Runtime Environment\n",
       "JVM: OpenJDK 64-Bit Server VM\n",
       "Default Encoding: UTF-8\n",
       "Language: en\n",
       "Country: null\n",
       "--></g></svg>"
      ]
     },
     "execution_count": 35,
     "metadata": {},
     "output_type": "execute_result"
    }
   ],
   "source": [
    "%viz --style=\"PLANTUML\" --view=\"Sequence\" \"RequirementTest\""
   ]
  },
  {
   "cell_type": "code",
   "execution_count": 36,
   "id": "amended-primary",
   "metadata": {
    "execution": {
     "iopub.execute_input": "2021-03-25T09:27:10.545109Z",
     "iopub.status.busy": "2021-03-25T09:27:10.544542Z",
     "iopub.status.idle": "2021-03-25T09:27:11.388257Z",
     "shell.execute_reply": "2021-03-25T09:27:11.387763Z"
    }
   },
   "outputs": [
    {
     "data": {
      "image/svg+xml": [
       "<?xml version=\"1.0\" encoding=\"UTF-8\" standalone=\"no\"?><svg xmlns=\"http://www.w3.org/2000/svg\" xmlns:xlink=\"http://www.w3.org/1999/xlink\" contentScriptType=\"application/ecmascript\" contentStyleType=\"text/css\" height=\"578px\" preserveAspectRatio=\"none\" style=\"width:460px;height:578px;\" version=\"1.1\" viewBox=\"0 0 460 578\" width=\"460px\" zoomAndPan=\"magnify\"><defs><filter height=\"300%\" id=\"f6x594iu05t13\" width=\"300%\" x=\"-1\" y=\"-1\"><feGaussianBlur result=\"blurOut\" stdDeviation=\"2.0\"/><feColorMatrix in=\"blurOut\" result=\"blurOut2\" type=\"matrix\" values=\"0 0 0 0 0 0 0 0 0 0 0 0 0 0 0 0 0 0 .4 0\"/><feOffset dx=\"4.0\" dy=\"4.0\" in=\"blurOut2\" result=\"blurOut3\"/><feBlend in=\"SourceGraphic\" in2=\"blurOut3\" mode=\"normal\"/></filter></defs><g><!--MD5=[fbc87193dbaf4d95561dea2c320d4a47]\n",
       "cluster E1--><a href=\"psysml:7a32e4ca-d886-48d1-a22e-a4337a6af1e2\" target=\"_top\" title=\"psysml:7a32e4ca-d886-48d1-a22e-a4337a6af1e2\" xlink:actuate=\"onRequest\" xlink:href=\"psysml:7a32e4ca-d886-48d1-a22e-a4337a6af1e2\" xlink:show=\"new\" xlink:title=\"psysml:7a32e4ca-d886-48d1-a22e-a4337a6af1e2\" xlink:type=\"simple\"><polygon fill=\"#FFFFFF\" filter=\"url(#f6x594iu05t13)\" points=\"16,6,158,6,165,28.2969,438,28.2969,438,566,16,566,16,6\" style=\"stroke: #000000; stroke-width: 1.5;\"/><line style=\"stroke: #000000; stroke-width: 1.5;\" x1=\"16\" x2=\"165\" y1=\"28.2969\" y2=\"28.2969\"/><text fill=\"#000000\" font-family=\"sans-serif\" font-size=\"14\" font-weight=\"bold\" lengthAdjust=\"spacingAndGlyphs\" textLength=\"136\" x=\"20\" y=\"20.9951\">RequirementTest</text></a><!--MD5=[b4997ac47864f28c2f74865a473b2911]\n",
       "class E2--><a href=\"psysml:c5fd5931-ea17-4576-af97-a79679b06835\" target=\"_top\" title=\"psysml:c5fd5931-ea17-4576-af97-a79679b06835\" xlink:actuate=\"onRequest\" xlink:href=\"psysml:c5fd5931-ea17-4576-af97-a79679b06835\" xlink:show=\"new\" xlink:title=\"psysml:c5fd5931-ea17-4576-af97-a79679b06835\" xlink:type=\"simple\"><rect fill=\"#FEFECE\" filter=\"url(#f6x594iu05t13)\" height=\"45.9375\" id=\"E2\" style=\"stroke: #A80036; stroke-width: 1.5;\" width=\"130\" x=\"292\" y=\"190\"/><ellipse cx=\"307\" cy=\"208.9688\" fill=\"#A52A2A\" rx=\"11\" ry=\"11\" style=\"stroke: #A80036; stroke-width: 1.0;\"/><path d=\"M306.5938,204.7813 L306.5938,212.7656 L307.25,212.7656 Q308.6875,212.7656 309.2969,211.8594 Q309.9219,210.9375 309.9219,208.7656 Q309.9219,206.5938 309.2969,205.6875 Q308.6875,204.7813 307.25,204.7813 L306.5938,204.7813 Z M304.1406,202.5781 L306.7656,202.5781 Q309.7969,202.5781 311.125,204.0313 Q312.4688,205.4688 312.4688,208.7656 Q312.4688,212.0625 311.125,213.5156 Q309.7969,214.9688 306.7656,214.9688 L304.1406,214.9688 L304.1406,202.5781 Z \"/><text fill=\"#000000\" font-family=\"sans-serif\" font-size=\"12\" font-style=\"italic\" lengthAdjust=\"spacingAndGlyphs\" textLength=\"102\" x=\"319\" y=\"206.1387\">«constraint def»</text><text fill=\"#000000\" font-family=\"sans-serif\" font-size=\"12\" lengthAdjust=\"spacingAndGlyphs\" textLength=\"8\" x=\"366\" y=\"220.1074\">C</text><line style=\"stroke: #A80036; stroke-width: 1.5;\" x1=\"293\" x2=\"421\" y1=\"227.9375\" y2=\"227.9375\"/></a><!--MD5=[09b614a08d8cba4a07c9adeb5e0fee81]\n",
       "class E3--><a href=\"psysml:23e87db0-b26a-4449-ad29-18415d83eb38\" target=\"_top\" title=\"psysml:23e87db0-b26a-4449-ad29-18415d83eb38\" xlink:actuate=\"onRequest\" xlink:href=\"psysml:23e87db0-b26a-4449-ad29-18415d83eb38\" xlink:show=\"new\" xlink:title=\"psysml:23e87db0-b26a-4449-ad29-18415d83eb38\" xlink:type=\"simple\"><rect fill=\"#FEFECE\" filter=\"url(#f6x594iu05t13)\" height=\"45.9375\" id=\"E3\" rx=\"10\" ry=\"10\" style=\"stroke: #A80036; stroke-width: 1.5;\" width=\"106\" x=\"316\" y=\"62\"/><ellipse cx=\"331\" cy=\"80.9688\" fill=\"#FFA500\" rx=\"11\" ry=\"11\" style=\"stroke: #A80036; stroke-width: 1.0;\"/><path d=\"M326.875,82.8906 L326.875,75.0781 L329.3281,75.0781 L329.3281,83.5156 Q329.3281,84.4375 329.7969,84.9688 Q330.2813,85.5 331.1094,85.5 Q331.9531,85.5 332.4219,84.9688 Q332.8906,84.4375 332.8906,83.5156 L332.8906,75.0781 L335.3438,75.0781 L335.3438,82.8906 Q335.3438,85.4219 334.3438,86.5625 Q333.3438,87.7031 331.1094,87.7031 Q328.8906,87.7031 327.875,86.5625 Q326.875,85.4219 326.875,82.8906 Z \"/><text fill=\"#000000\" font-family=\"sans-serif\" font-size=\"12\" font-style=\"italic\" lengthAdjust=\"spacingAndGlyphs\" textLength=\"78\" x=\"343\" y=\"78.1387\">«constraint»</text><text fill=\"#000000\" font-family=\"sans-serif\" font-size=\"12\" lengthAdjust=\"spacingAndGlyphs\" textLength=\"23\" x=\"370.5\" y=\"92.1074\">c: C</text><line style=\"stroke: #A80036; stroke-width: 1.5;\" x1=\"317\" x2=\"421\" y1=\"99.9375\" y2=\"99.9375\"/></a><!--MD5=[ebbe1d658d1005bcc118a6aa81145e00]\n",
       "class E4--><a href=\"psysml:aa32b181-0a7a-45c2-8d8e-c84b0489ed31\" target=\"_top\" title=\"psysml:aa32b181-0a7a-45c2-8d8e-c84b0489ed31\" xlink:actuate=\"onRequest\" xlink:href=\"psysml:aa32b181-0a7a-45c2-8d8e-c84b0489ed31\" xlink:show=\"new\" xlink:title=\"psysml:aa32b181-0a7a-45c2-8d8e-c84b0489ed31\" xlink:type=\"simple\"><rect fill=\"#FEFECE\" filter=\"url(#f6x594iu05t13)\" height=\"109.1563\" id=\"E4\" style=\"stroke: #A80036; stroke-width: 1.5;\" width=\"143\" x=\"32.5\" y=\"313\"/><ellipse cx=\"47.5\" cy=\"331.9688\" fill=\"#A52A2A\" rx=\"11\" ry=\"11\" style=\"stroke: #A80036; stroke-width: 1.0;\"/><path d=\"M47.0938,327.7813 L47.0938,335.7656 L47.75,335.7656 Q49.1875,335.7656 49.7969,334.8594 Q50.4219,333.9375 50.4219,331.7656 Q50.4219,329.5938 49.7969,328.6875 Q49.1875,327.7813 47.75,327.7813 L47.0938,327.7813 Z M44.6406,325.5781 L47.2656,325.5781 Q50.2969,325.5781 51.625,327.0313 Q52.9688,328.4688 52.9688,331.7656 Q52.9688,335.0625 51.625,336.5156 Q50.2969,337.9688 47.2656,337.9688 L44.6406,337.9688 L44.6406,325.5781 Z \"/><text fill=\"#000000\" font-family=\"sans-serif\" font-size=\"12\" font-style=\"italic\" lengthAdjust=\"spacingAndGlyphs\" textLength=\"115\" x=\"59.5\" y=\"329.1387\">«requirement def»</text><text fill=\"#000000\" font-family=\"sans-serif\" font-size=\"12\" lengthAdjust=\"spacingAndGlyphs\" textLength=\"8\" x=\"113\" y=\"343.1074\">R</text><line style=\"stroke: #A80036; stroke-width: 1.5;\" x1=\"33.5\" x2=\"174.5\" y1=\"350.9375\" y2=\"350.9375\"/><text fill=\"#000000\" font-family=\"sans-serif\" font-size=\"11\" lengthAdjust=\"spacingAndGlyphs\" textLength=\"0\" x=\"42.5\" y=\"365.1479\"/><line style=\"stroke: #A80036; stroke-width: 1.0;\" x1=\"33.5\" x2=\"174.5\" y1=\"371.7422\" y2=\"371.7422\"/><text fill=\"#000000\" font-family=\"sans-serif\" font-size=\"11\" font-weight=\"bold\" lengthAdjust=\"spacingAndGlyphs\" textLength=\"46\" x=\"38.5\" y=\"402.7573\">require</text><text fill=\"#000000\" font-family=\"sans-serif\" font-size=\"11\" lengthAdjust=\"spacingAndGlyphs\" textLength=\"6\" x=\"88.5\" y=\"402.7573\">c</text><text fill=\"#000000\" font-family=\"sans-serif\" font-size=\"11\" font-style=\"italic\" lengthAdjust=\"spacingAndGlyphs\" textLength=\"46\" x=\"38.5\" y=\"415.562\">assume</text><text fill=\"#000000\" font-family=\"sans-serif\" font-size=\"11\" lengthAdjust=\"spacingAndGlyphs\" textLength=\"29\" x=\"88.5\" y=\"415.562\">c1: C</text><line style=\"stroke: #A80036; stroke-width: 1.0;\" x1=\"33.5\" x2=\"72\" y1=\"386.1445\" y2=\"386.1445\"/><text fill=\"#000000\" font-family=\"sans-serif\" font-size=\"11\" lengthAdjust=\"spacingAndGlyphs\" textLength=\"64\" x=\"72\" y=\"389.4526\">constraints</text><line style=\"stroke: #A80036; stroke-width: 1.0;\" x1=\"136\" x2=\"174.5\" y1=\"386.1445\" y2=\"386.1445\"/></a><!--MD5=[270fce915f116d4de14055a7c1d9a0f3]\n",
       "class E5--><a href=\"psysml:c7a4f64d-f76e-4f11-bab9-561a5696e580\" target=\"_top\" title=\"psysml:c7a4f64d-f76e-4f11-bab9-561a5696e580\" xlink:actuate=\"onRequest\" xlink:href=\"psysml:c7a4f64d-f76e-4f11-bab9-561a5696e580\" xlink:show=\"new\" xlink:title=\"psysml:c7a4f64d-f76e-4f11-bab9-561a5696e580\" xlink:type=\"simple\"><rect fill=\"#FEFECE\" filter=\"url(#f6x594iu05t13)\" height=\"66.7422\" id=\"E5\" style=\"stroke: #A80036; stroke-width: 1.5;\" width=\"143\" x=\"32.5\" y=\"483\"/><ellipse cx=\"47.5\" cy=\"501.9688\" fill=\"#A52A2A\" rx=\"11\" ry=\"11\" style=\"stroke: #A80036; stroke-width: 1.0;\"/><path d=\"M47.0938,497.7813 L47.0938,505.7656 L47.75,505.7656 Q49.1875,505.7656 49.7969,504.8594 Q50.4219,503.9375 50.4219,501.7656 Q50.4219,499.5938 49.7969,498.6875 Q49.1875,497.7813 47.75,497.7813 L47.0938,497.7813 Z M44.6406,495.5781 L47.2656,495.5781 Q50.2969,495.5781 51.625,497.0313 Q52.9688,498.4688 52.9688,501.7656 Q52.9688,505.0625 51.625,506.5156 Q50.2969,507.9688 47.2656,507.9688 L44.6406,507.9688 L44.6406,495.5781 Z \"/><text fill=\"#000000\" font-family=\"sans-serif\" font-size=\"12\" font-style=\"italic\" lengthAdjust=\"spacingAndGlyphs\" textLength=\"115\" x=\"59.5\" y=\"499.1387\">«requirement def»</text><text fill=\"#000000\" font-family=\"sans-serif\" font-size=\"12\" lengthAdjust=\"spacingAndGlyphs\" textLength=\"5\" x=\"104\" y=\"513.1074\">[</text><text fill=\"#000000\" font-family=\"sans-serif\" font-size=\"12\" font-weight=\"bold\" lengthAdjust=\"spacingAndGlyphs\" textLength=\"8\" x=\"109\" y=\"513.1074\">1</text><text fill=\"#000000\" font-family=\"sans-serif\" font-size=\"12\" lengthAdjust=\"spacingAndGlyphs\" textLength=\"17\" x=\"117\" y=\"513.1074\">] A</text><line style=\"stroke: #A80036; stroke-width: 1.5;\" x1=\"33.5\" x2=\"174.5\" y1=\"520.9375\" y2=\"520.9375\"/><text fill=\"#000000\" font-family=\"sans-serif\" font-size=\"11\" lengthAdjust=\"spacingAndGlyphs\" textLength=\"24\" x=\"38.5\" y=\"535.1479\">Text</text><line style=\"stroke: #A80036; stroke-width: 1.0;\" x1=\"33.5\" x2=\"174.5\" y1=\"541.7422\" y2=\"541.7422\"/></a><!--MD5=[b9389687b975829384b498ac4b7476b2]\n",
       "class E8--><a href=\"psysml:165156c7-6d13-47e8-9214-4efd9fbee902\" target=\"_top\" title=\"psysml:165156c7-6d13-47e8-9214-4efd9fbee902\" xlink:actuate=\"onRequest\" xlink:href=\"psysml:165156c7-6d13-47e8-9214-4efd9fbee902\" xlink:show=\"new\" xlink:title=\"psysml:165156c7-6d13-47e8-9214-4efd9fbee902\" xlink:type=\"simple\"><rect fill=\"#FEFECE\" filter=\"url(#f6x594iu05t13)\" height=\"45.9375\" id=\"E8\" rx=\"10\" ry=\"10\" style=\"stroke: #A80036; stroke-width: 1.5;\" width=\"119\" x=\"210.5\" y=\"493.5\"/><ellipse cx=\"225.5\" cy=\"512.4688\" fill=\"#FFA500\" rx=\"11\" ry=\"11\" style=\"stroke: #A80036; stroke-width: 1.0;\"/><path d=\"M221.375,514.3906 L221.375,506.5781 L223.8281,506.5781 L223.8281,515.0156 Q223.8281,515.9375 224.2969,516.4688 Q224.7813,517 225.6094,517 Q226.4531,517 226.9219,516.4688 Q227.3906,515.9375 227.3906,515.0156 L227.3906,506.5781 L229.8438,506.5781 L229.8438,514.3906 Q229.8438,516.9219 228.8438,518.0625 Q227.8438,519.2031 225.6094,519.2031 Q223.3906,519.2031 222.375,518.0625 Q221.375,516.9219 221.375,514.3906 Z \"/><text fill=\"#000000\" font-family=\"sans-serif\" font-size=\"12\" font-style=\"italic\" lengthAdjust=\"spacingAndGlyphs\" textLength=\"91\" x=\"237.5\" y=\"509.6387\">«requirement»</text><text fill=\"#000000\" font-family=\"sans-serif\" font-size=\"12\" lengthAdjust=\"spacingAndGlyphs\" text-decoration=\"line-through\" textLength=\"51\" x=\"257.5\" y=\"523.6074\">noname</text><line style=\"stroke: #A80036; stroke-width: 1.5;\" x1=\"211.5\" x2=\"328.5\" y1=\"531.4375\" y2=\"531.4375\"/></a><!--MD5=[fd4143e9d270a159db93a4ea2a975926]\n",
       "class E9--><a href=\"psysml:5b4d3eaf-f72e-4f96-998b-f4a0a57df239\" target=\"_top\" title=\"psysml:5b4d3eaf-f72e-4f96-998b-f4a0a57df239\" xlink:actuate=\"onRequest\" xlink:href=\"psysml:5b4d3eaf-f72e-4f96-998b-f4a0a57df239\" xlink:show=\"new\" xlink:title=\"psysml:5b4d3eaf-f72e-4f96-998b-f4a0a57df239\" xlink:type=\"simple\"><rect fill=\"#FEFECE\" filter=\"url(#f6x594iu05t13)\" height=\"88.3516\" id=\"E9\" style=\"stroke: #A80036; stroke-width: 1.5;\" width=\"145\" x=\"135.5\" y=\"41\"/><ellipse cx=\"151.4\" cy=\"59.9688\" fill=\"#A52A2A\" rx=\"11\" ry=\"11\" style=\"stroke: #A80036; stroke-width: 1.0;\"/><path d=\"M150.9938,55.7813 L150.9938,63.7656 L151.65,63.7656 Q153.0875,63.7656 153.6969,62.8594 Q154.3219,61.9375 154.3219,59.7656 Q154.3219,57.5938 153.6969,56.6875 Q153.0875,55.7813 151.65,55.7813 L150.9938,55.7813 Z M148.5406,53.5781 L151.1656,53.5781 Q154.1969,53.5781 155.525,55.0313 Q156.8688,56.4688 156.8688,59.7656 Q156.8688,63.0625 155.525,64.5156 Q154.1969,65.9688 151.1656,65.9688 L148.5406,65.9688 L148.5406,53.5781 Z \"/><text fill=\"#000000\" font-family=\"sans-serif\" font-size=\"12\" font-style=\"italic\" lengthAdjust=\"spacingAndGlyphs\" textLength=\"115\" x=\"163.6\" y=\"57.1387\">«requirement def»</text><text fill=\"#000000\" font-family=\"sans-serif\" font-size=\"12\" lengthAdjust=\"spacingAndGlyphs\" textLength=\"16\" x=\"213.1\" y=\"71.1074\">R1</text><line style=\"stroke: #A80036; stroke-width: 1.5;\" x1=\"136.5\" x2=\"279.5\" y1=\"78.9375\" y2=\"78.9375\"/><text fill=\"#000000\" font-family=\"sans-serif\" font-size=\"11\" font-weight=\"bold\" lengthAdjust=\"spacingAndGlyphs\" textLength=\"46\" x=\"141.5\" y=\"109.9526\">require</text><text fill=\"#000000\" font-family=\"sans-serif\" font-size=\"11\" lengthAdjust=\"spacingAndGlyphs\" textLength=\"13\" x=\"191.5\" y=\"109.9526\">c1</text><text fill=\"#000000\" font-family=\"sans-serif\" font-size=\"11\" font-style=\"italic\" lengthAdjust=\"spacingAndGlyphs\" textLength=\"133\" x=\"141.5\" y=\"122.7573\">:&gt;&gt;RequirementTest::c</text><line style=\"stroke: #A80036; stroke-width: 1.0;\" x1=\"136.5\" x2=\"176\" y1=\"93.3398\" y2=\"93.3398\"/><text fill=\"#000000\" font-family=\"sans-serif\" font-size=\"11\" lengthAdjust=\"spacingAndGlyphs\" textLength=\"64\" x=\"176\" y=\"96.6479\">constraints</text><line style=\"stroke: #A80036; stroke-width: 1.0;\" x1=\"240\" x2=\"279.5\" y1=\"93.3398\" y2=\"93.3398\"/></a><!--MD5=[1dd1bfd58a279cf63c5f349dbc8fc6a1]\n",
       "class E11--><a href=\"psysml:8fb932f6-fc92-43ad-aa0e-8cfa7b71c9b3\" target=\"_top\" title=\"psysml:8fb932f6-fc92-43ad-aa0e-8cfa7b71c9b3\" xlink:actuate=\"onRequest\" xlink:href=\"psysml:8fb932f6-fc92-43ad-aa0e-8cfa7b71c9b3\" xlink:show=\"new\" xlink:title=\"psysml:8fb932f6-fc92-43ad-aa0e-8cfa7b71c9b3\" xlink:type=\"simple\"><rect fill=\"#FEFECE\" filter=\"url(#f6x594iu05t13)\" height=\"45.9375\" id=\"E11\" rx=\"10\" ry=\"10\" style=\"stroke: #A80036; stroke-width: 1.5;\" width=\"68\" x=\"211\" y=\"344.5\"/><ellipse cx=\"226\" cy=\"363.4688\" fill=\"#32CD32\" rx=\"11\" ry=\"11\" style=\"stroke: #A80036; stroke-width: 1.0;\"/><path d=\"M225.7969,359.1406 L225.7969,362.7656 L226.7969,362.7656 Q228,362.7656 228.4844,362.3594 Q228.9688,361.9531 228.9688,360.9531 Q228.9688,359.9531 228.4844,359.5469 Q228,359.1406 226.7969,359.1406 L225.7969,359.1406 Z M223.3438,357.0781 L226.7031,357.0781 Q229.2656,357.0781 230.3906,358 Q231.5156,358.9063 231.5156,360.9531 Q231.5156,363 230.3906,363.9219 Q229.2656,364.8281 226.7031,364.8281 L225.7969,364.8281 L225.7969,369.4688 L223.3438,369.4688 L223.3438,357.0781 Z \"/><text fill=\"#000000\" font-family=\"sans-serif\" font-size=\"12\" font-style=\"italic\" lengthAdjust=\"spacingAndGlyphs\" textLength=\"40\" x=\"238\" y=\"360.6387\">«part»</text><text fill=\"#000000\" font-family=\"sans-serif\" font-size=\"12\" lengthAdjust=\"spacingAndGlyphs\" textLength=\"8\" x=\"254\" y=\"374.6074\">p</text><line style=\"stroke: #A80036; stroke-width: 1.5;\" x1=\"212\" x2=\"278\" y1=\"382.4375\" y2=\"382.4375\"/></a><!--MD5=[49a0ec8f00dab7302a31f22d0f0fe584]\n",
       "class E12--><a href=\"psysml:9b734dfd-0e44-4ae0-bd37-d0a03d4a12cd\" target=\"_top\" title=\"psysml:9b734dfd-0e44-4ae0-bd37-d0a03d4a12cd\" xlink:actuate=\"onRequest\" xlink:href=\"psysml:9b734dfd-0e44-4ae0-bd37-d0a03d4a12cd\" xlink:show=\"new\" xlink:title=\"psysml:9b734dfd-0e44-4ae0-bd37-d0a03d4a12cd\" xlink:type=\"simple\"><rect fill=\"#FEFECE\" filter=\"url(#f6x594iu05t13)\" height=\"45.9375\" id=\"E12\" rx=\"10\" ry=\"10\" style=\"stroke: #A80036; stroke-width: 1.5;\" width=\"68\" x=\"32\" y=\"62\"/><ellipse cx=\"47\" cy=\"80.9688\" fill=\"#32CD32\" rx=\"11\" ry=\"11\" style=\"stroke: #A80036; stroke-width: 1.0;\"/><path d=\"M46.7969,76.6406 L46.7969,80.2656 L47.7969,80.2656 Q49,80.2656 49.4844,79.8594 Q49.9688,79.4531 49.9688,78.4531 Q49.9688,77.4531 49.4844,77.0469 Q49,76.6406 47.7969,76.6406 L46.7969,76.6406 Z M44.3438,74.5781 L47.7031,74.5781 Q50.2656,74.5781 51.3906,75.5 Q52.5156,76.4063 52.5156,78.4531 Q52.5156,80.5 51.3906,81.4219 Q50.2656,82.3281 47.7031,82.3281 L46.7969,82.3281 L46.7969,86.9688 L44.3438,86.9688 L44.3438,74.5781 Z \"/><text fill=\"#000000\" font-family=\"sans-serif\" font-size=\"12\" font-style=\"italic\" lengthAdjust=\"spacingAndGlyphs\" textLength=\"40\" x=\"59\" y=\"78.1387\">«part»</text><text fill=\"#000000\" font-family=\"sans-serif\" font-size=\"12\" lengthAdjust=\"spacingAndGlyphs\" textLength=\"8\" x=\"75\" y=\"92.1074\">q</text><line style=\"stroke: #A80036; stroke-width: 1.5;\" x1=\"33\" x2=\"99\" y1=\"99.9375\" y2=\"99.9375\"/></a><!--MD5=[ee3c913d1a06f366521f9ef512b67efe]\n",
       "class E13--><a href=\"psysml:5a1cae69-7149-47dc-88a9-208fdbfbba4b\" target=\"_top\" title=\"psysml:5a1cae69-7149-47dc-88a9-208fdbfbba4b\" xlink:actuate=\"onRequest\" xlink:href=\"psysml:5a1cae69-7149-47dc-88a9-208fdbfbba4b\" xlink:show=\"new\" xlink:title=\"psysml:5a1cae69-7149-47dc-88a9-208fdbfbba4b\" xlink:type=\"simple\"><rect fill=\"#FEFECE\" filter=\"url(#f6x594iu05t13)\" height=\"45.9375\" id=\"E13\" rx=\"10\" ry=\"10\" style=\"stroke: #A80036; stroke-width: 1.5;\" width=\"119\" x=\"44.5\" y=\"190\"/><ellipse cx=\"59.5\" cy=\"208.9688\" fill=\"#FFA500\" rx=\"11\" ry=\"11\" style=\"stroke: #A80036; stroke-width: 1.0;\"/><path d=\"M55.375,210.8906 L55.375,203.0781 L57.8281,203.0781 L57.8281,211.5156 Q57.8281,212.4375 58.2969,212.9688 Q58.7813,213.5 59.6094,213.5 Q60.4531,213.5 60.9219,212.9688 Q61.3906,212.4375 61.3906,211.5156 L61.3906,203.0781 L63.8438,203.0781 L63.8438,210.8906 Q63.8438,213.4219 62.8438,214.5625 Q61.8438,215.7031 59.6094,215.7031 Q57.3906,215.7031 56.375,214.5625 Q55.375,213.4219 55.375,210.8906 Z \"/><text fill=\"#000000\" font-family=\"sans-serif\" font-size=\"12\" font-style=\"italic\" lengthAdjust=\"spacingAndGlyphs\" textLength=\"91\" x=\"71.5\" y=\"206.1387\">«requirement»</text><text fill=\"#000000\" font-family=\"sans-serif\" font-size=\"12\" lengthAdjust=\"spacingAndGlyphs\" textLength=\"21\" x=\"106.5\" y=\"220.1074\">r: R</text><line style=\"stroke: #A80036; stroke-width: 1.5;\" x1=\"45.5\" x2=\"162.5\" y1=\"227.9375\" y2=\"227.9375\"/></a><!--MD5=[05d275557350bfb9b23a4ef7222b4c39]\n",
       "link E3 to E2--><a href=\"psysml:bb92853b-9a42-4685-9891-57f30cbf18f8\" target=\"_top\" title=\"psysml:bb92853b-9a42-4685-9891-57f30cbf18f8\" xlink:actuate=\"onRequest\" xlink:href=\"psysml:bb92853b-9a42-4685-9891-57f30cbf18f8\" xlink:show=\"new\" xlink:title=\"psysml:bb92853b-9a42-4685-9891-57f30cbf18f8\" xlink:type=\"simple\"><path d=\"M366.88,108.24 C365.26,125.24 362.98,149.19 361.02,169.79 \" fill=\"none\" id=\"E3-&gt;E2\" style=\"stroke: #A80036; stroke-width: 1.0;\"/><polygon fill=\"#FFFFFF\" points=\"359.1,189.99,353.9362,170.411,367.8729,171.7407,359.1,189.99\" style=\"stroke: #A80036; stroke-width: 1.0;\"/><ellipse cx=\"356.4685\" cy=\"164.9268\" fill=\"#A80036\" rx=\"2\" ry=\"2\" style=\"stroke: #A80036; stroke-width: 1.0;\"/><ellipse cx=\"366.4233\" cy=\"165.8765\" fill=\"#A80036\" rx=\"2\" ry=\"2\" style=\"stroke: #A80036; stroke-width: 1.0;\"/></a><!--MD5=[62aa6af11e70f752912c1cb0466f24f7]\n",
       "reverse link E4 to E5--><a href=\"psysml:c7a4f64d-f76e-4f11-bab9-561a5696e580\" target=\"_top\" title=\"psysml:c7a4f64d-f76e-4f11-bab9-561a5696e580\" xlink:actuate=\"onRequest\" xlink:href=\"psysml:c7a4f64d-f76e-4f11-bab9-561a5696e580\" xlink:show=\"new\" xlink:title=\"psysml:c7a4f64d-f76e-4f11-bab9-561a5696e580\" xlink:type=\"simple\"><path d=\"M104,437.45 C104,453.34 104,469.51 104,482.98 \" fill=\"none\" id=\"E4&lt;-E5\" style=\"stroke: #A80036; stroke-width: 1.0;\"/><ellipse cx=\"104\" cy=\"430.4\" fill=\"#FFFFFF\" rx=\"8\" ry=\"8\" style=\"stroke: #A80036; stroke-width: 1.0;\"/><line style=\"stroke: #A80036; stroke-width: 1.0;\" x1=\"104\" x2=\"104\" y1=\"438.4\" y2=\"422.4\"/><line style=\"stroke: #A80036; stroke-width: 1.0;\" x1=\"96\" x2=\"112\" y1=\"430.4\" y2=\"430.4\"/></a><!--MD5=[c6fc7cdb0cabde04948078cf183fa696]\n",
       "reverse link E4 to E8--><a href=\"psysml:165156c7-6d13-47e8-9214-4efd9fbee902\" target=\"_top\" title=\"psysml:165156c7-6d13-47e8-9214-4efd9fbee902\" xlink:actuate=\"onRequest\" xlink:href=\"psysml:165156c7-6d13-47e8-9214-4efd9fbee902\" xlink:show=\"new\" xlink:title=\"psysml:165156c7-6d13-47e8-9214-4efd9fbee902\" xlink:type=\"simple\"><path d=\"M174.75,431.16 C199.83,453.36 226.43,476.92 245.13,493.48 \" fill=\"none\" id=\"E4&lt;-E8\" style=\"stroke: #A80036; stroke-width: 1.0;\"/><polygon fill=\"#A80036\" points=\"164.87,422.4,166.7154,429.371,173.86,430.3486,172.0145,423.3776,164.87,422.4\" style=\"stroke: #A80036; stroke-width: 1.0;\"/></a><!--MD5=[062ed86c389d1a88f61c6380d0491e17]\n",
       "reverse link E12 to E13--><a href=\"psysml:5a1cae69-7149-47dc-88a9-208fdbfbba4b\" target=\"_top\" title=\"psysml:5a1cae69-7149-47dc-88a9-208fdbfbba4b\" xlink:actuate=\"onRequest\" xlink:href=\"psysml:5a1cae69-7149-47dc-88a9-208fdbfbba4b\" xlink:show=\"new\" xlink:title=\"psysml:5a1cae69-7149-47dc-88a9-208fdbfbba4b\" xlink:type=\"simple\"><path d=\"M76.49,120.8 C83.17,142.92 91.6,170.89 97.36,189.99 \" fill=\"none\" id=\"E12&lt;-E13\" style=\"stroke: #A80036; stroke-width: 1.0;\"/><polygon fill=\"#A80036\" points=\"72.71,108.24,70.6129,115.1394,76.1751,119.7288,78.2722,112.8294,72.71,108.24\" style=\"stroke: #A80036; stroke-width: 1.0;\"/></a><!--MD5=[017847e01ff9a8bd19f247411074f987]\n",
       "link E13 to E4--><a href=\"psysml:9a693856-e1d7-4623-99b4-c4529bf04054\" target=\"_top\" title=\"psysml:9a693856-e1d7-4623-99b4-c4529bf04054\" xlink:actuate=\"onRequest\" xlink:href=\"psysml:9a693856-e1d7-4623-99b4-c4529bf04054\" xlink:show=\"new\" xlink:title=\"psysml:9a693856-e1d7-4623-99b4-c4529bf04054\" xlink:type=\"simple\"><path d=\"M104,236.17 C104,251.17 104,271.91 104,292.44 \" fill=\"none\" id=\"E13-&gt;E4\" style=\"stroke: #A80036; stroke-width: 1.0;\"/><polygon fill=\"#FFFFFF\" points=\"104,312.68,97,293.68,111,293.68,104,312.68\" style=\"stroke: #A80036; stroke-width: 1.0;\"/><ellipse cx=\"99\" cy=\"287.98\" fill=\"#A80036\" rx=\"2\" ry=\"2\" style=\"stroke: #A80036; stroke-width: 1.0;\"/><ellipse cx=\"109\" cy=\"287.98\" fill=\"#A80036\" rx=\"2\" ry=\"2\" style=\"stroke: #A80036; stroke-width: 1.0;\"/></a><!--MD5=[2cfe899c895462254056921bfb67315f]\n",
       "link E13 to E11--><a href=\"psysml:69852053-465c-4b3e-807c-2facd65a229c\" target=\"_top\" title=\"psysml:69852053-465c-4b3e-807c-2facd65a229c\" xlink:actuate=\"onRequest\" xlink:href=\"psysml:69852053-465c-4b3e-807c-2facd65a229c\" xlink:show=\"new\" xlink:title=\"psysml:69852053-465c-4b3e-807c-2facd65a229c\" xlink:type=\"simple\"><path d=\"M124.5,236.17 C150.09,263.85 193.77,311.09 220.92,340.45 \" fill=\"none\" id=\"E13-&gt;E11\" style=\"stroke: #A80036; stroke-width: 1.0; stroke-dasharray: 7.0,7.0;\"/><polygon fill=\"#A80036\" points=\"224.47,344.3,221.2896,334.9788,221.0727,340.6315,215.42,340.4145,224.47,344.3\" style=\"stroke: #A80036; stroke-width: 1.0;\"/><text fill=\"#000000\" font-family=\"sans-serif\" font-size=\"13\" lengthAdjust=\"spacingAndGlyphs\" textLength=\"57\" x=\"167\" y=\"279.0669\">«satisfy»</text></a><!--MD5=[e753265980b239b4f572638fcfaf4d8d]\n",
       "@startuml\r\n",
       " \r\n",
       "package \"RequirementTest\" as E1  [[psysml:7a32e4ca-d886-48d1-a22e-a4337a6af1e2 ]]  {\r\n",
       "comp def \"C\" as E2  <<(D,brown)constraint def>> [[psysml:c5fd5931-ea17-4576-af97-a79679b06835 ]] {\r\n",
       "}\r\n",
       "comp usage \"c: C\" as E3  <<(U,orange)constraint>> [[psysml:23e87db0-b26a-4449-ad29-18415d83eb38 ]] {\r\n",
       "}\r\n",
       "comp def \"R\" as E4  <<(D,brown)requirement def>> [[psysml:aa32b181-0a7a-45c2-8d8e-c84b0489ed31 ]] {\r\n",
       "\r\n",
       "- -\r\n",
       "- - constraints - -\r\n",
       "<b>require</b> c\r\n",
       "<i>assume</i> c1: C\r\n",
       "}\r\n",
       "comp def \" [<b>1</b>] A\" as E5  <<(D,brown)requirement def>> [[psysml:c7a4f64d-f76e-4f11-bab9-561a5696e580 ]] {\r\n",
       "Text\r\n",
       "- -\r\n",
       "}\r\n",
       "comp usage \"<s>noname</s>\" as E8  <<(U,orange)requirement>> [[psysml:165156c7-6d13-47e8-9214-4efd9fbee902 ]] {\r\n",
       "}\r\n",
       "comp def \"R1\" as E9  <<(D,brown)requirement def>> [[psysml:5b4d3eaf-f72e-4f96-998b-f4a0a57df239 ]] {\r\n",
       "- - constraints - -\r\n",
       "<b>require</b> c1\\n//:>>RequirementTest::c// \r\n",
       "}\r\n",
       "comp usage \"p\" as E11  << (P,limegreen) part>> [[psysml:8fb932f6-fc92-43ad-aa0e-8cfa7b71c9b3 ]] {\r\n",
       "}\r\n",
       "comp usage \"q\" as E12  << (P,limegreen) part>> [[psysml:9b734dfd-0e44-4ae0-bd37-d0a03d4a12cd ]] {\r\n",
       "}\r\n",
       "comp usage \"r: R\" as E13  <<(U,orange)requirement>> [[psysml:5a1cae69-7149-47dc-88a9-208fdbfbba4b ]] {\r\n",
       "}\r\n",
       "E3 - -:|> E2 [[psysml:bb92853b-9a42-4685-9891-57f30cbf18f8 ]] \r\n",
       "E4 +- - E5 [[psysml:c7a4f64d-f76e-4f11-bab9-561a5696e580 ]] \r\n",
       "E4 *- - E8 [[psysml:165156c7-6d13-47e8-9214-4efd9fbee902 ]] \r\n",
       "E12 *- - E13 [[psysml:5a1cae69-7149-47dc-88a9-208fdbfbba4b ]] \r\n",
       "E13 - -:|> E4 [[psysml:9a693856-e1d7-4623-99b4-c4529bf04054 ]] \r\n",
       "E13 ..> E11 [[psysml:69852053-465c-4b3e-807c-2facd65a229c ]] : <<satisfy>>\r\n",
       "}\r\n",
       "@enduml\r\n",
       "\n",
       "PlantUML version 1.2020.13(Sat Jun 13 12:26:38 UTC 2020)\n",
       "(EPL source distribution)\n",
       "Java Runtime: OpenJDK Runtime Environment\n",
       "JVM: OpenJDK 64-Bit Server VM\n",
       "Default Encoding: UTF-8\n",
       "Language: en\n",
       "Country: null\n",
       "--></g></svg>"
      ]
     },
     "execution_count": 36,
     "metadata": {},
     "output_type": "execute_result"
    }
   ],
   "source": [
    "%viz --style=\"PLANTUML\" --view=\"MIXED\" \"RequirementTest\""
   ]
  },
  {
   "cell_type": "code",
   "execution_count": 37,
   "id": "suburban-newspaper",
   "metadata": {
    "execution": {
     "iopub.execute_input": "2021-03-25T09:27:11.438229Z",
     "iopub.status.busy": "2021-03-25T09:27:11.437768Z",
     "iopub.status.idle": "2021-03-25T09:27:12.284116Z",
     "shell.execute_reply": "2021-03-25T09:27:12.282569Z"
    }
   },
   "outputs": [
    {
     "data": {
      "image/svg+xml": [
       "<?xml version=\"1.0\" encoding=\"UTF-8\" standalone=\"no\"?><svg xmlns=\"http://www.w3.org/2000/svg\" xmlns:xlink=\"http://www.w3.org/1999/xlink\" contentScriptType=\"application/ecmascript\" contentStyleType=\"text/css\" height=\"578px\" preserveAspectRatio=\"none\" style=\"width:408px;height:578px;\" version=\"1.1\" viewBox=\"0 0 408 578\" width=\"408px\" zoomAndPan=\"magnify\"><defs/><g><!--MD5=[fbc87193dbaf4d95561dea2c320d4a47]\n",
       "cluster E1--><a href=\"psysml:7a32e4ca-d886-48d1-a22e-a4337a6af1e2\" target=\"_top\" title=\"psysml:7a32e4ca-d886-48d1-a22e-a4337a6af1e2\" xlink:actuate=\"onRequest\" xlink:href=\"psysml:7a32e4ca-d886-48d1-a22e-a4337a6af1e2\" xlink:show=\"new\" xlink:title=\"psysml:7a32e4ca-d886-48d1-a22e-a4337a6af1e2\" xlink:type=\"simple\"><polygon fill=\"#FFFFFF\" points=\"16,6,158,6,165,28.2969,386,28.2969,386,566,16,566,16,6\" style=\"stroke: #000000; stroke-width: 1.5;\"/><line style=\"stroke: #000000; stroke-width: 1.5;\" x1=\"16\" x2=\"165\" y1=\"28.2969\" y2=\"28.2969\"/><text fill=\"#000000\" font-family=\"sans-serif\" font-size=\"14\" font-weight=\"bold\" lengthAdjust=\"spacingAndGlyphs\" textLength=\"136\" x=\"20\" y=\"20.9951\">RequirementTest</text></a><!--MD5=[b4997ac47864f28c2f74865a473b2911]\n",
       "class E2--><a href=\"psysml:c5fd5931-ea17-4576-af97-a79679b06835\" target=\"_top\" title=\"psysml:c5fd5931-ea17-4576-af97-a79679b06835\" xlink:actuate=\"onRequest\" xlink:href=\"psysml:c5fd5931-ea17-4576-af97-a79679b06835\" xlink:show=\"new\" xlink:title=\"psysml:c5fd5931-ea17-4576-af97-a79679b06835\" xlink:type=\"simple\"><rect fill=\"#FFFFFF\" height=\"45.9375\" id=\"E2\" style=\"stroke: #383838; stroke-width: 1.5;\" width=\"104\" x=\"266\" y=\"190\"/><text fill=\"#000000\" font-family=\"sans-serif\" font-size=\"12\" font-style=\"italic\" lengthAdjust=\"spacingAndGlyphs\" textLength=\"102\" x=\"267\" y=\"206.1387\">«constraint def»</text><text fill=\"#000000\" font-family=\"sans-serif\" font-size=\"12\" lengthAdjust=\"spacingAndGlyphs\" textLength=\"8\" x=\"314\" y=\"220.1074\">C</text><line style=\"stroke: #383838; stroke-width: 1.5;\" x1=\"267\" x2=\"369\" y1=\"227.9375\" y2=\"227.9375\"/></a><!--MD5=[09b614a08d8cba4a07c9adeb5e0fee81]\n",
       "class E3--><a href=\"psysml:23e87db0-b26a-4449-ad29-18415d83eb38\" target=\"_top\" title=\"psysml:23e87db0-b26a-4449-ad29-18415d83eb38\" xlink:actuate=\"onRequest\" xlink:href=\"psysml:23e87db0-b26a-4449-ad29-18415d83eb38\" xlink:show=\"new\" xlink:title=\"psysml:23e87db0-b26a-4449-ad29-18415d83eb38\" xlink:type=\"simple\"><rect fill=\"#FFFFFF\" height=\"45.9375\" id=\"E3\" rx=\"10\" ry=\"10\" style=\"stroke: #383838; stroke-width: 1.5;\" width=\"80\" x=\"290\" y=\"62\"/><text fill=\"#000000\" font-family=\"sans-serif\" font-size=\"12\" font-style=\"italic\" lengthAdjust=\"spacingAndGlyphs\" textLength=\"78\" x=\"291\" y=\"78.1387\">«constraint»</text><text fill=\"#000000\" font-family=\"sans-serif\" font-size=\"12\" lengthAdjust=\"spacingAndGlyphs\" textLength=\"23\" x=\"318.5\" y=\"92.1074\">c: C</text><line style=\"stroke: #383838; stroke-width: 1.5;\" x1=\"291\" x2=\"369\" y1=\"99.9375\" y2=\"99.9375\"/></a><!--MD5=[ebbe1d658d1005bcc118a6aa81145e00]\n",
       "class E4--><a href=\"psysml:aa32b181-0a7a-45c2-8d8e-c84b0489ed31\" target=\"_top\" title=\"psysml:aa32b181-0a7a-45c2-8d8e-c84b0489ed31\" xlink:actuate=\"onRequest\" xlink:href=\"psysml:aa32b181-0a7a-45c2-8d8e-c84b0489ed31\" xlink:show=\"new\" xlink:title=\"psysml:aa32b181-0a7a-45c2-8d8e-c84b0489ed31\" xlink:type=\"simple\"><rect fill=\"#FFFFFF\" height=\"109.1563\" id=\"E4\" style=\"stroke: #383838; stroke-width: 1.5;\" width=\"117\" x=\"32.5\" y=\"313\"/><text fill=\"#000000\" font-family=\"sans-serif\" font-size=\"12\" font-style=\"italic\" lengthAdjust=\"spacingAndGlyphs\" textLength=\"115\" x=\"33.5\" y=\"329.1387\">«requirement def»</text><text fill=\"#000000\" font-family=\"sans-serif\" font-size=\"12\" lengthAdjust=\"spacingAndGlyphs\" textLength=\"8\" x=\"87\" y=\"343.1074\">R</text><line style=\"stroke: #383838; stroke-width: 1.5;\" x1=\"33.5\" x2=\"148.5\" y1=\"350.9375\" y2=\"350.9375\"/><text fill=\"#000000\" font-family=\"sans-serif\" font-size=\"11\" lengthAdjust=\"spacingAndGlyphs\" textLength=\"0\" x=\"42.5\" y=\"365.1479\"/><line style=\"stroke: #383838; stroke-width: 1.0;\" x1=\"33.5\" x2=\"148.5\" y1=\"371.7422\" y2=\"371.7422\"/><text fill=\"#000000\" font-family=\"sans-serif\" font-size=\"11\" font-weight=\"bold\" lengthAdjust=\"spacingAndGlyphs\" textLength=\"46\" x=\"38.5\" y=\"402.7573\">require</text><text fill=\"#000000\" font-family=\"sans-serif\" font-size=\"11\" lengthAdjust=\"spacingAndGlyphs\" textLength=\"6\" x=\"88.5\" y=\"402.7573\">c</text><text fill=\"#000000\" font-family=\"sans-serif\" font-size=\"11\" font-style=\"italic\" lengthAdjust=\"spacingAndGlyphs\" textLength=\"46\" x=\"38.5\" y=\"415.562\">assume</text><text fill=\"#000000\" font-family=\"sans-serif\" font-size=\"11\" lengthAdjust=\"spacingAndGlyphs\" textLength=\"29\" x=\"88.5\" y=\"415.562\">c1: C</text><line style=\"stroke: #383838; stroke-width: 1.0;\" x1=\"33.5\" x2=\"59\" y1=\"386.1445\" y2=\"386.1445\"/><text fill=\"#000000\" font-family=\"sans-serif\" font-size=\"11\" lengthAdjust=\"spacingAndGlyphs\" textLength=\"64\" x=\"59\" y=\"389.4526\">constraints</text><line style=\"stroke: #383838; stroke-width: 1.0;\" x1=\"123\" x2=\"148.5\" y1=\"386.1445\" y2=\"386.1445\"/></a><!--MD5=[270fce915f116d4de14055a7c1d9a0f3]\n",
       "class E5--><a href=\"psysml:c7a4f64d-f76e-4f11-bab9-561a5696e580\" target=\"_top\" title=\"psysml:c7a4f64d-f76e-4f11-bab9-561a5696e580\" xlink:actuate=\"onRequest\" xlink:href=\"psysml:c7a4f64d-f76e-4f11-bab9-561a5696e580\" xlink:show=\"new\" xlink:title=\"psysml:c7a4f64d-f76e-4f11-bab9-561a5696e580\" xlink:type=\"simple\"><rect fill=\"#FFFFFF\" height=\"66.7422\" id=\"E5\" style=\"stroke: #383838; stroke-width: 1.5;\" width=\"117\" x=\"32.5\" y=\"483\"/><text fill=\"#000000\" font-family=\"sans-serif\" font-size=\"12\" font-style=\"italic\" lengthAdjust=\"spacingAndGlyphs\" textLength=\"115\" x=\"33.5\" y=\"499.1387\">«requirement def»</text><text fill=\"#000000\" font-family=\"sans-serif\" font-size=\"12\" lengthAdjust=\"spacingAndGlyphs\" textLength=\"5\" x=\"78\" y=\"513.1074\">[</text><text fill=\"#000000\" font-family=\"sans-serif\" font-size=\"12\" font-weight=\"bold\" lengthAdjust=\"spacingAndGlyphs\" textLength=\"8\" x=\"83\" y=\"513.1074\">1</text><text fill=\"#000000\" font-family=\"sans-serif\" font-size=\"12\" lengthAdjust=\"spacingAndGlyphs\" textLength=\"17\" x=\"91\" y=\"513.1074\">] A</text><line style=\"stroke: #383838; stroke-width: 1.5;\" x1=\"33.5\" x2=\"148.5\" y1=\"520.9375\" y2=\"520.9375\"/><text fill=\"#000000\" font-family=\"sans-serif\" font-size=\"11\" lengthAdjust=\"spacingAndGlyphs\" textLength=\"24\" x=\"38.5\" y=\"535.1479\">Text</text><line style=\"stroke: #383838; stroke-width: 1.0;\" x1=\"33.5\" x2=\"148.5\" y1=\"541.7422\" y2=\"541.7422\"/></a><!--MD5=[b9389687b975829384b498ac4b7476b2]\n",
       "class E8--><a href=\"psysml:165156c7-6d13-47e8-9214-4efd9fbee902\" target=\"_top\" title=\"psysml:165156c7-6d13-47e8-9214-4efd9fbee902\" xlink:actuate=\"onRequest\" xlink:href=\"psysml:165156c7-6d13-47e8-9214-4efd9fbee902\" xlink:show=\"new\" xlink:title=\"psysml:165156c7-6d13-47e8-9214-4efd9fbee902\" xlink:type=\"simple\"><rect fill=\"#FFFFFF\" height=\"45.9375\" id=\"E8\" rx=\"10\" ry=\"10\" style=\"stroke: #383838; stroke-width: 1.5;\" width=\"93\" x=\"184.5\" y=\"493.5\"/><text fill=\"#000000\" font-family=\"sans-serif\" font-size=\"12\" font-style=\"italic\" lengthAdjust=\"spacingAndGlyphs\" textLength=\"91\" x=\"185.5\" y=\"509.6387\">«requirement»</text><text fill=\"#000000\" font-family=\"sans-serif\" font-size=\"12\" lengthAdjust=\"spacingAndGlyphs\" text-decoration=\"line-through\" textLength=\"51\" x=\"205.5\" y=\"523.6074\">noname</text><line style=\"stroke: #383838; stroke-width: 1.5;\" x1=\"185.5\" x2=\"276.5\" y1=\"531.4375\" y2=\"531.4375\"/></a><!--MD5=[fd4143e9d270a159db93a4ea2a975926]\n",
       "class E9--><a href=\"psysml:5b4d3eaf-f72e-4f96-998b-f4a0a57df239\" target=\"_top\" title=\"psysml:5b4d3eaf-f72e-4f96-998b-f4a0a57df239\" xlink:actuate=\"onRequest\" xlink:href=\"psysml:5b4d3eaf-f72e-4f96-998b-f4a0a57df239\" xlink:show=\"new\" xlink:title=\"psysml:5b4d3eaf-f72e-4f96-998b-f4a0a57df239\" xlink:type=\"simple\"><rect fill=\"#FFFFFF\" height=\"88.3516\" id=\"E9\" style=\"stroke: #383838; stroke-width: 1.5;\" width=\"145\" x=\"109.5\" y=\"41\"/><text fill=\"#000000\" font-family=\"sans-serif\" font-size=\"12\" font-style=\"italic\" lengthAdjust=\"spacingAndGlyphs\" textLength=\"115\" x=\"124.5\" y=\"57.1387\">«requirement def»</text><text fill=\"#000000\" font-family=\"sans-serif\" font-size=\"12\" lengthAdjust=\"spacingAndGlyphs\" textLength=\"16\" x=\"174\" y=\"71.1074\">R1</text><line style=\"stroke: #383838; stroke-width: 1.5;\" x1=\"110.5\" x2=\"253.5\" y1=\"78.9375\" y2=\"78.9375\"/><text fill=\"#000000\" font-family=\"sans-serif\" font-size=\"11\" font-weight=\"bold\" lengthAdjust=\"spacingAndGlyphs\" textLength=\"46\" x=\"115.5\" y=\"109.9526\">require</text><text fill=\"#000000\" font-family=\"sans-serif\" font-size=\"11\" lengthAdjust=\"spacingAndGlyphs\" textLength=\"13\" x=\"165.5\" y=\"109.9526\">c1</text><text fill=\"#000000\" font-family=\"sans-serif\" font-size=\"11\" font-style=\"italic\" lengthAdjust=\"spacingAndGlyphs\" textLength=\"133\" x=\"115.5\" y=\"122.7573\">:&gt;&gt;RequirementTest::c</text><line style=\"stroke: #383838; stroke-width: 1.0;\" x1=\"110.5\" x2=\"150\" y1=\"93.3398\" y2=\"93.3398\"/><text fill=\"#000000\" font-family=\"sans-serif\" font-size=\"11\" lengthAdjust=\"spacingAndGlyphs\" textLength=\"64\" x=\"150\" y=\"96.6479\">constraints</text><line style=\"stroke: #383838; stroke-width: 1.0;\" x1=\"214\" x2=\"253.5\" y1=\"93.3398\" y2=\"93.3398\"/></a><!--MD5=[1dd1bfd58a279cf63c5f349dbc8fc6a1]\n",
       "class E11--><a href=\"psysml:8fb932f6-fc92-43ad-aa0e-8cfa7b71c9b3\" target=\"_top\" title=\"psysml:8fb932f6-fc92-43ad-aa0e-8cfa7b71c9b3\" xlink:actuate=\"onRequest\" xlink:href=\"psysml:8fb932f6-fc92-43ad-aa0e-8cfa7b71c9b3\" xlink:show=\"new\" xlink:title=\"psysml:8fb932f6-fc92-43ad-aa0e-8cfa7b71c9b3\" xlink:type=\"simple\"><rect fill=\"#FFFFFF\" height=\"45.9375\" id=\"E11\" rx=\"10\" ry=\"10\" style=\"stroke: #383838; stroke-width: 1.5;\" width=\"42\" x=\"185\" y=\"344.5\"/><text fill=\"#000000\" font-family=\"sans-serif\" font-size=\"12\" font-style=\"italic\" lengthAdjust=\"spacingAndGlyphs\" textLength=\"40\" x=\"186\" y=\"360.6387\">«part»</text><text fill=\"#000000\" font-family=\"sans-serif\" font-size=\"12\" lengthAdjust=\"spacingAndGlyphs\" textLength=\"8\" x=\"202\" y=\"374.6074\">p</text><line style=\"stroke: #383838; stroke-width: 1.5;\" x1=\"186\" x2=\"226\" y1=\"382.4375\" y2=\"382.4375\"/></a><!--MD5=[49a0ec8f00dab7302a31f22d0f0fe584]\n",
       "class E12--><a href=\"psysml:9b734dfd-0e44-4ae0-bd37-d0a03d4a12cd\" target=\"_top\" title=\"psysml:9b734dfd-0e44-4ae0-bd37-d0a03d4a12cd\" xlink:actuate=\"onRequest\" xlink:href=\"psysml:9b734dfd-0e44-4ae0-bd37-d0a03d4a12cd\" xlink:show=\"new\" xlink:title=\"psysml:9b734dfd-0e44-4ae0-bd37-d0a03d4a12cd\" xlink:type=\"simple\"><rect fill=\"#FFFFFF\" height=\"45.9375\" id=\"E12\" rx=\"10\" ry=\"10\" style=\"stroke: #383838; stroke-width: 1.5;\" width=\"42\" x=\"32\" y=\"62\"/><text fill=\"#000000\" font-family=\"sans-serif\" font-size=\"12\" font-style=\"italic\" lengthAdjust=\"spacingAndGlyphs\" textLength=\"40\" x=\"33\" y=\"78.1387\">«part»</text><text fill=\"#000000\" font-family=\"sans-serif\" font-size=\"12\" lengthAdjust=\"spacingAndGlyphs\" textLength=\"8\" x=\"49\" y=\"92.1074\">q</text><line style=\"stroke: #383838; stroke-width: 1.5;\" x1=\"33\" x2=\"73\" y1=\"99.9375\" y2=\"99.9375\"/></a><!--MD5=[ee3c913d1a06f366521f9ef512b67efe]\n",
       "class E13--><a href=\"psysml:5a1cae69-7149-47dc-88a9-208fdbfbba4b\" target=\"_top\" title=\"psysml:5a1cae69-7149-47dc-88a9-208fdbfbba4b\" xlink:actuate=\"onRequest\" xlink:href=\"psysml:5a1cae69-7149-47dc-88a9-208fdbfbba4b\" xlink:show=\"new\" xlink:title=\"psysml:5a1cae69-7149-47dc-88a9-208fdbfbba4b\" xlink:type=\"simple\"><rect fill=\"#FFFFFF\" height=\"45.9375\" id=\"E13\" rx=\"10\" ry=\"10\" style=\"stroke: #383838; stroke-width: 1.5;\" width=\"93\" x=\"44.5\" y=\"190\"/><text fill=\"#000000\" font-family=\"sans-serif\" font-size=\"12\" font-style=\"italic\" lengthAdjust=\"spacingAndGlyphs\" textLength=\"91\" x=\"45.5\" y=\"206.1387\">«requirement»</text><text fill=\"#000000\" font-family=\"sans-serif\" font-size=\"12\" lengthAdjust=\"spacingAndGlyphs\" textLength=\"21\" x=\"80.5\" y=\"220.1074\">r: R</text><line style=\"stroke: #383838; stroke-width: 1.5;\" x1=\"45.5\" x2=\"136.5\" y1=\"227.9375\" y2=\"227.9375\"/></a><!--MD5=[05d275557350bfb9b23a4ef7222b4c39]\n",
       "link E3 to E2--><a href=\"psysml:bb92853b-9a42-4685-9891-57f30cbf18f8\" target=\"_top\" title=\"psysml:bb92853b-9a42-4685-9891-57f30cbf18f8\" xlink:actuate=\"onRequest\" xlink:href=\"psysml:bb92853b-9a42-4685-9891-57f30cbf18f8\" xlink:show=\"new\" xlink:title=\"psysml:bb92853b-9a42-4685-9891-57f30cbf18f8\" xlink:type=\"simple\"><path d=\"M327.88,108.24 C326.26,125.24 323.98,149.19 322.02,169.79 \" fill=\"none\" id=\"E3-&gt;E2\" style=\"stroke: #383838; stroke-width: 1.0;\"/><polygon fill=\"#FFFFFF\" points=\"320.1,189.99,314.9362,170.411,328.8729,171.7407,320.1,189.99\" style=\"stroke: #383838; stroke-width: 1.0;\"/><ellipse cx=\"317.4685\" cy=\"164.9268\" fill=\"#383838\" rx=\"2\" ry=\"2\" style=\"stroke: #383838; stroke-width: 1.0;\"/><ellipse cx=\"327.4233\" cy=\"165.8765\" fill=\"#383838\" rx=\"2\" ry=\"2\" style=\"stroke: #383838; stroke-width: 1.0;\"/></a><!--MD5=[62aa6af11e70f752912c1cb0466f24f7]\n",
       "reverse link E4 to E5--><a href=\"psysml:c7a4f64d-f76e-4f11-bab9-561a5696e580\" target=\"_top\" title=\"psysml:c7a4f64d-f76e-4f11-bab9-561a5696e580\" xlink:actuate=\"onRequest\" xlink:href=\"psysml:c7a4f64d-f76e-4f11-bab9-561a5696e580\" xlink:show=\"new\" xlink:title=\"psysml:c7a4f64d-f76e-4f11-bab9-561a5696e580\" xlink:type=\"simple\"><path d=\"M91,437.45 C91,453.34 91,469.51 91,482.98 \" fill=\"none\" id=\"E4&lt;-E5\" style=\"stroke: #383838; stroke-width: 1.0;\"/><ellipse cx=\"91\" cy=\"430.4\" fill=\"#FFFFFF\" rx=\"8\" ry=\"8\" style=\"stroke: #383838; stroke-width: 1.0;\"/><line style=\"stroke: #383838; stroke-width: 1.0;\" x1=\"91\" x2=\"91\" y1=\"438.4\" y2=\"422.4\"/><line style=\"stroke: #383838; stroke-width: 1.0;\" x1=\"83\" x2=\"99\" y1=\"430.4\" y2=\"430.4\"/></a><!--MD5=[c6fc7cdb0cabde04948078cf183fa696]\n",
       "reverse link E4 to E8--><a href=\"psysml:165156c7-6d13-47e8-9214-4efd9fbee902\" target=\"_top\" title=\"psysml:165156c7-6d13-47e8-9214-4efd9fbee902\" xlink:actuate=\"onRequest\" xlink:href=\"psysml:165156c7-6d13-47e8-9214-4efd9fbee902\" xlink:show=\"new\" xlink:title=\"psysml:165156c7-6d13-47e8-9214-4efd9fbee902\" xlink:type=\"simple\"><path d=\"M151.51,432.04 C172.42,453.99 194.47,477.14 210.03,493.48 \" fill=\"none\" id=\"E4&lt;-E8\" style=\"stroke: #383838; stroke-width: 1.0;\"/><polygon fill=\"#383838\" points=\"142.34,422.4,143.5779,429.5041,150.6116,431.0937,149.3737,423.9897,142.34,422.4\" style=\"stroke: #383838; stroke-width: 1.0;\"/></a><!--MD5=[062ed86c389d1a88f61c6380d0491e17]\n",
       "reverse link E12 to E13--><a href=\"psysml:5a1cae69-7149-47dc-88a9-208fdbfbba4b\" target=\"_top\" title=\"psysml:5a1cae69-7149-47dc-88a9-208fdbfbba4b\" xlink:actuate=\"onRequest\" xlink:href=\"psysml:5a1cae69-7149-47dc-88a9-208fdbfbba4b\" xlink:show=\"new\" xlink:title=\"psysml:5a1cae69-7149-47dc-88a9-208fdbfbba4b\" xlink:type=\"simple\"><path d=\"M63.49,120.8 C70.17,142.92 78.6,170.89 84.36,189.99 \" fill=\"none\" id=\"E12&lt;-E13\" style=\"stroke: #383838; stroke-width: 1.0;\"/><polygon fill=\"#383838\" points=\"59.71,108.24,57.6129,115.1394,63.1751,119.7288,65.2722,112.8294,59.71,108.24\" style=\"stroke: #383838; stroke-width: 1.0;\"/></a><!--MD5=[017847e01ff9a8bd19f247411074f987]\n",
       "link E13 to E4--><a href=\"psysml:9a693856-e1d7-4623-99b4-c4529bf04054\" target=\"_top\" title=\"psysml:9a693856-e1d7-4623-99b4-c4529bf04054\" xlink:actuate=\"onRequest\" xlink:href=\"psysml:9a693856-e1d7-4623-99b4-c4529bf04054\" xlink:show=\"new\" xlink:title=\"psysml:9a693856-e1d7-4623-99b4-c4529bf04054\" xlink:type=\"simple\"><path d=\"M91,236.17 C91,251.17 91,271.91 91,292.44 \" fill=\"none\" id=\"E13-&gt;E4\" style=\"stroke: #383838; stroke-width: 1.0;\"/><polygon fill=\"#FFFFFF\" points=\"91,312.68,84,293.68,98,293.68,91,312.68\" style=\"stroke: #383838; stroke-width: 1.0;\"/><ellipse cx=\"86\" cy=\"287.98\" fill=\"#383838\" rx=\"2\" ry=\"2\" style=\"stroke: #383838; stroke-width: 1.0;\"/><ellipse cx=\"96\" cy=\"287.98\" fill=\"#383838\" rx=\"2\" ry=\"2\" style=\"stroke: #383838; stroke-width: 1.0;\"/></a><!--MD5=[2cfe899c895462254056921bfb67315f]\n",
       "link E13 to E11--><a href=\"psysml:69852053-465c-4b3e-807c-2facd65a229c\" target=\"_top\" title=\"psysml:69852053-465c-4b3e-807c-2facd65a229c\" xlink:actuate=\"onRequest\" xlink:href=\"psysml:69852053-465c-4b3e-807c-2facd65a229c\" xlink:show=\"new\" xlink:title=\"psysml:69852053-465c-4b3e-807c-2facd65a229c\" xlink:type=\"simple\"><path d=\"M108.36,236.29 C123.87,256.28 147.14,286.45 167,313 C173.57,321.78 180.66,331.44 186.97,340.12 \" fill=\"none\" id=\"E13-&gt;E11\" style=\"stroke: #383838; stroke-width: 1.0; stroke-dasharray: 7.0,7.0;\"/><polygon fill=\"#383838\" points=\"189.99,344.28,187.9274,334.6496,187.0474,340.2376,181.4594,339.3576,189.99,344.28\" style=\"stroke: #383838; stroke-width: 1.0;\"/><text fill=\"#000000\" font-family=\"sans-serif\" font-size=\"13\" lengthAdjust=\"spacingAndGlyphs\" textLength=\"57\" x=\"145\" y=\"279.0669\">«satisfy»</text></a><!--MD5=[e02360df1ece708f967c413acadaa16f]\n",
       "@startuml\r\n",
       "skinparam monochrome true\r\n",
       "skinparam classbackgroundcolor white\r\n",
       "skinparam shadowing false\r\n",
       "skinparam wrapWidth 300\r\n",
       "hide circle\r\n",
       "\r\n",
       "package \"RequirementTest\" as E1  [[psysml:7a32e4ca-d886-48d1-a22e-a4337a6af1e2 ]]  {\r\n",
       "comp def \"C\" as E2  <<(T,blue)constraint def>> [[psysml:c5fd5931-ea17-4576-af97-a79679b06835 ]] {\r\n",
       "}\r\n",
       "comp usage \"c: C\" as E3  <<(T,blue)constraint>> [[psysml:23e87db0-b26a-4449-ad29-18415d83eb38 ]] {\r\n",
       "}\r\n",
       "comp def \"R\" as E4  <<(T,blue)requirement def>> [[psysml:aa32b181-0a7a-45c2-8d8e-c84b0489ed31 ]] {\r\n",
       "\r\n",
       "- -\r\n",
       "- - constraints - -\r\n",
       "<b>require</b> c\r\n",
       "<i>assume</i> c1: C\r\n",
       "}\r\n",
       "comp def \" [<b>1</b>] A\" as E5  <<(T,blue)requirement def>> [[psysml:c7a4f64d-f76e-4f11-bab9-561a5696e580 ]] {\r\n",
       "Text\r\n",
       "- -\r\n",
       "}\r\n",
       "comp usage \"<s>noname</s>\" as E8  <<(T,blue)requirement>> [[psysml:165156c7-6d13-47e8-9214-4efd9fbee902 ]] {\r\n",
       "}\r\n",
       "comp def \"R1\" as E9  <<(T,blue)requirement def>> [[psysml:5b4d3eaf-f72e-4f96-998b-f4a0a57df239 ]] {\r\n",
       "- - constraints - -\r\n",
       "<b>require</b> c1\\n//:>>RequirementTest::c// \r\n",
       "}\r\n",
       "comp usage \"p\" as E11  <<(T,blue)part>> [[psysml:8fb932f6-fc92-43ad-aa0e-8cfa7b71c9b3 ]] {\r\n",
       "}\r\n",
       "comp usage \"q\" as E12  <<(T,blue)part>> [[psysml:9b734dfd-0e44-4ae0-bd37-d0a03d4a12cd ]] {\r\n",
       "}\r\n",
       "comp usage \"r: R\" as E13  <<(T,blue)requirement>> [[psysml:5a1cae69-7149-47dc-88a9-208fdbfbba4b ]] {\r\n",
       "}\r\n",
       "E3 - -:|> E2 [[psysml:bb92853b-9a42-4685-9891-57f30cbf18f8 ]] \r\n",
       "E4 +- - E5 [[psysml:c7a4f64d-f76e-4f11-bab9-561a5696e580 ]] \r\n",
       "E4 *- - E8 [[psysml:165156c7-6d13-47e8-9214-4efd9fbee902 ]] \r\n",
       "E12 *- - E13 [[psysml:5a1cae69-7149-47dc-88a9-208fdbfbba4b ]] \r\n",
       "E13 - -:|> E4 [[psysml:9a693856-e1d7-4623-99b4-c4529bf04054 ]] \r\n",
       "E13 ..> E11 [[psysml:69852053-465c-4b3e-807c-2facd65a229c ]] : <<satisfy>>\r\n",
       "}\r\n",
       "@enduml\r\n",
       "\n",
       "PlantUML version 1.2020.13(Sat Jun 13 12:26:38 UTC 2020)\n",
       "(EPL source distribution)\n",
       "Java Runtime: OpenJDK Runtime Environment\n",
       "JVM: OpenJDK 64-Bit Server VM\n",
       "Default Encoding: UTF-8\n",
       "Language: en\n",
       "Country: null\n",
       "--></g></svg>"
      ]
     },
     "execution_count": 37,
     "metadata": {},
     "output_type": "execute_result"
    }
   ],
   "source": [
    "%viz --style=\"DEFAULT\" --view=\"Default\" \"RequirementTest\""
   ]
  },
  {
   "cell_type": "code",
   "execution_count": 38,
   "id": "coordinate-venue",
   "metadata": {
    "execution": {
     "iopub.execute_input": "2021-03-25T09:27:12.334590Z",
     "iopub.status.busy": "2021-03-25T09:27:12.334161Z",
     "iopub.status.idle": "2021-03-25T09:27:13.180736Z",
     "shell.execute_reply": "2021-03-25T09:27:13.179257Z"
    }
   },
   "outputs": [
    {
     "data": {
      "image/svg+xml": [
       "<?xml version=\"1.0\" encoding=\"UTF-8\" standalone=\"no\"?><svg xmlns=\"http://www.w3.org/2000/svg\" xmlns:xlink=\"http://www.w3.org/1999/xlink\" contentScriptType=\"application/ecmascript\" contentStyleType=\"text/css\" height=\"578px\" preserveAspectRatio=\"none\" style=\"width:408px;height:578px;\" version=\"1.1\" viewBox=\"0 0 408 578\" width=\"408px\" zoomAndPan=\"magnify\"><defs/><g><!--MD5=[fbc87193dbaf4d95561dea2c320d4a47]\n",
       "cluster E1--><a href=\"psysml:7a32e4ca-d886-48d1-a22e-a4337a6af1e2\" target=\"_top\" title=\"psysml:7a32e4ca-d886-48d1-a22e-a4337a6af1e2\" xlink:actuate=\"onRequest\" xlink:href=\"psysml:7a32e4ca-d886-48d1-a22e-a4337a6af1e2\" xlink:show=\"new\" xlink:title=\"psysml:7a32e4ca-d886-48d1-a22e-a4337a6af1e2\" xlink:type=\"simple\"><polygon fill=\"#FFFFFF\" points=\"16,6,158,6,165,28.2969,386,28.2969,386,566,16,566,16,6\" style=\"stroke: #000000; stroke-width: 1.5;\"/><line style=\"stroke: #000000; stroke-width: 1.5;\" x1=\"16\" x2=\"165\" y1=\"28.2969\" y2=\"28.2969\"/><text fill=\"#000000\" font-family=\"sans-serif\" font-size=\"14\" font-weight=\"bold\" lengthAdjust=\"spacingAndGlyphs\" textLength=\"136\" x=\"20\" y=\"20.9951\">RequirementTest</text></a><!--MD5=[b4997ac47864f28c2f74865a473b2911]\n",
       "class E2--><a href=\"psysml:c5fd5931-ea17-4576-af97-a79679b06835\" target=\"_top\" title=\"psysml:c5fd5931-ea17-4576-af97-a79679b06835\" xlink:actuate=\"onRequest\" xlink:href=\"psysml:c5fd5931-ea17-4576-af97-a79679b06835\" xlink:show=\"new\" xlink:title=\"psysml:c5fd5931-ea17-4576-af97-a79679b06835\" xlink:type=\"simple\"><rect fill=\"#FFFFFF\" height=\"45.9375\" id=\"E2\" style=\"stroke: #383838; stroke-width: 1.5;\" width=\"104\" x=\"266\" y=\"190\"/><text fill=\"#000000\" font-family=\"sans-serif\" font-size=\"12\" font-style=\"italic\" lengthAdjust=\"spacingAndGlyphs\" textLength=\"102\" x=\"267\" y=\"206.1387\">«constraint def»</text><text fill=\"#000000\" font-family=\"sans-serif\" font-size=\"12\" lengthAdjust=\"spacingAndGlyphs\" textLength=\"8\" x=\"314\" y=\"220.1074\">C</text><line style=\"stroke: #383838; stroke-width: 1.5;\" x1=\"267\" x2=\"369\" y1=\"227.9375\" y2=\"227.9375\"/></a><!--MD5=[09b614a08d8cba4a07c9adeb5e0fee81]\n",
       "class E3--><a href=\"psysml:23e87db0-b26a-4449-ad29-18415d83eb38\" target=\"_top\" title=\"psysml:23e87db0-b26a-4449-ad29-18415d83eb38\" xlink:actuate=\"onRequest\" xlink:href=\"psysml:23e87db0-b26a-4449-ad29-18415d83eb38\" xlink:show=\"new\" xlink:title=\"psysml:23e87db0-b26a-4449-ad29-18415d83eb38\" xlink:type=\"simple\"><rect fill=\"#FFFFFF\" height=\"45.9375\" id=\"E3\" rx=\"10\" ry=\"10\" style=\"stroke: #383838; stroke-width: 1.5;\" width=\"80\" x=\"290\" y=\"62\"/><text fill=\"#000000\" font-family=\"sans-serif\" font-size=\"12\" font-style=\"italic\" lengthAdjust=\"spacingAndGlyphs\" textLength=\"78\" x=\"291\" y=\"78.1387\">«constraint»</text><text fill=\"#000000\" font-family=\"sans-serif\" font-size=\"12\" lengthAdjust=\"spacingAndGlyphs\" textLength=\"23\" x=\"318.5\" y=\"92.1074\">c: C</text><line style=\"stroke: #383838; stroke-width: 1.5;\" x1=\"291\" x2=\"369\" y1=\"99.9375\" y2=\"99.9375\"/></a><!--MD5=[ebbe1d658d1005bcc118a6aa81145e00]\n",
       "class E4--><a href=\"psysml:aa32b181-0a7a-45c2-8d8e-c84b0489ed31\" target=\"_top\" title=\"psysml:aa32b181-0a7a-45c2-8d8e-c84b0489ed31\" xlink:actuate=\"onRequest\" xlink:href=\"psysml:aa32b181-0a7a-45c2-8d8e-c84b0489ed31\" xlink:show=\"new\" xlink:title=\"psysml:aa32b181-0a7a-45c2-8d8e-c84b0489ed31\" xlink:type=\"simple\"><rect fill=\"#FFFFFF\" height=\"109.1563\" id=\"E4\" style=\"stroke: #383838; stroke-width: 1.5;\" width=\"117\" x=\"32.5\" y=\"313\"/><text fill=\"#000000\" font-family=\"sans-serif\" font-size=\"12\" font-style=\"italic\" lengthAdjust=\"spacingAndGlyphs\" textLength=\"115\" x=\"33.5\" y=\"329.1387\">«requirement def»</text><text fill=\"#000000\" font-family=\"sans-serif\" font-size=\"12\" lengthAdjust=\"spacingAndGlyphs\" textLength=\"8\" x=\"87\" y=\"343.1074\">R</text><line style=\"stroke: #383838; stroke-width: 1.5;\" x1=\"33.5\" x2=\"148.5\" y1=\"350.9375\" y2=\"350.9375\"/><text fill=\"#000000\" font-family=\"sans-serif\" font-size=\"11\" lengthAdjust=\"spacingAndGlyphs\" textLength=\"0\" x=\"42.5\" y=\"365.1479\"/><line style=\"stroke: #383838; stroke-width: 1.0;\" x1=\"33.5\" x2=\"148.5\" y1=\"371.7422\" y2=\"371.7422\"/><text fill=\"#000000\" font-family=\"sans-serif\" font-size=\"11\" font-weight=\"bold\" lengthAdjust=\"spacingAndGlyphs\" textLength=\"46\" x=\"38.5\" y=\"402.7573\">require</text><text fill=\"#000000\" font-family=\"sans-serif\" font-size=\"11\" lengthAdjust=\"spacingAndGlyphs\" textLength=\"6\" x=\"88.5\" y=\"402.7573\">c</text><text fill=\"#000000\" font-family=\"sans-serif\" font-size=\"11\" font-style=\"italic\" lengthAdjust=\"spacingAndGlyphs\" textLength=\"46\" x=\"38.5\" y=\"415.562\">assume</text><text fill=\"#000000\" font-family=\"sans-serif\" font-size=\"11\" lengthAdjust=\"spacingAndGlyphs\" textLength=\"29\" x=\"88.5\" y=\"415.562\">c1: C</text><line style=\"stroke: #383838; stroke-width: 1.0;\" x1=\"33.5\" x2=\"59\" y1=\"386.1445\" y2=\"386.1445\"/><text fill=\"#000000\" font-family=\"sans-serif\" font-size=\"11\" lengthAdjust=\"spacingAndGlyphs\" textLength=\"64\" x=\"59\" y=\"389.4526\">constraints</text><line style=\"stroke: #383838; stroke-width: 1.0;\" x1=\"123\" x2=\"148.5\" y1=\"386.1445\" y2=\"386.1445\"/></a><!--MD5=[270fce915f116d4de14055a7c1d9a0f3]\n",
       "class E5--><a href=\"psysml:c7a4f64d-f76e-4f11-bab9-561a5696e580\" target=\"_top\" title=\"psysml:c7a4f64d-f76e-4f11-bab9-561a5696e580\" xlink:actuate=\"onRequest\" xlink:href=\"psysml:c7a4f64d-f76e-4f11-bab9-561a5696e580\" xlink:show=\"new\" xlink:title=\"psysml:c7a4f64d-f76e-4f11-bab9-561a5696e580\" xlink:type=\"simple\"><rect fill=\"#FFFFFF\" height=\"66.7422\" id=\"E5\" style=\"stroke: #383838; stroke-width: 1.5;\" width=\"117\" x=\"32.5\" y=\"483\"/><text fill=\"#000000\" font-family=\"sans-serif\" font-size=\"12\" font-style=\"italic\" lengthAdjust=\"spacingAndGlyphs\" textLength=\"115\" x=\"33.5\" y=\"499.1387\">«requirement def»</text><text fill=\"#000000\" font-family=\"sans-serif\" font-size=\"12\" lengthAdjust=\"spacingAndGlyphs\" textLength=\"5\" x=\"78\" y=\"513.1074\">[</text><text fill=\"#000000\" font-family=\"sans-serif\" font-size=\"12\" font-weight=\"bold\" lengthAdjust=\"spacingAndGlyphs\" textLength=\"8\" x=\"83\" y=\"513.1074\">1</text><text fill=\"#000000\" font-family=\"sans-serif\" font-size=\"12\" lengthAdjust=\"spacingAndGlyphs\" textLength=\"17\" x=\"91\" y=\"513.1074\">] A</text><line style=\"stroke: #383838; stroke-width: 1.5;\" x1=\"33.5\" x2=\"148.5\" y1=\"520.9375\" y2=\"520.9375\"/><text fill=\"#000000\" font-family=\"sans-serif\" font-size=\"11\" lengthAdjust=\"spacingAndGlyphs\" textLength=\"24\" x=\"38.5\" y=\"535.1479\">Text</text><line style=\"stroke: #383838; stroke-width: 1.0;\" x1=\"33.5\" x2=\"148.5\" y1=\"541.7422\" y2=\"541.7422\"/></a><!--MD5=[b9389687b975829384b498ac4b7476b2]\n",
       "class E8--><a href=\"psysml:165156c7-6d13-47e8-9214-4efd9fbee902\" target=\"_top\" title=\"psysml:165156c7-6d13-47e8-9214-4efd9fbee902\" xlink:actuate=\"onRequest\" xlink:href=\"psysml:165156c7-6d13-47e8-9214-4efd9fbee902\" xlink:show=\"new\" xlink:title=\"psysml:165156c7-6d13-47e8-9214-4efd9fbee902\" xlink:type=\"simple\"><rect fill=\"#FFFFFF\" height=\"45.9375\" id=\"E8\" rx=\"10\" ry=\"10\" style=\"stroke: #383838; stroke-width: 1.5;\" width=\"93\" x=\"184.5\" y=\"493.5\"/><text fill=\"#000000\" font-family=\"sans-serif\" font-size=\"12\" font-style=\"italic\" lengthAdjust=\"spacingAndGlyphs\" textLength=\"91\" x=\"185.5\" y=\"509.6387\">«requirement»</text><text fill=\"#000000\" font-family=\"sans-serif\" font-size=\"12\" lengthAdjust=\"spacingAndGlyphs\" text-decoration=\"line-through\" textLength=\"51\" x=\"205.5\" y=\"523.6074\">noname</text><line style=\"stroke: #383838; stroke-width: 1.5;\" x1=\"185.5\" x2=\"276.5\" y1=\"531.4375\" y2=\"531.4375\"/></a><!--MD5=[fd4143e9d270a159db93a4ea2a975926]\n",
       "class E9--><a href=\"psysml:5b4d3eaf-f72e-4f96-998b-f4a0a57df239\" target=\"_top\" title=\"psysml:5b4d3eaf-f72e-4f96-998b-f4a0a57df239\" xlink:actuate=\"onRequest\" xlink:href=\"psysml:5b4d3eaf-f72e-4f96-998b-f4a0a57df239\" xlink:show=\"new\" xlink:title=\"psysml:5b4d3eaf-f72e-4f96-998b-f4a0a57df239\" xlink:type=\"simple\"><rect fill=\"#FFFFFF\" height=\"88.3516\" id=\"E9\" style=\"stroke: #383838; stroke-width: 1.5;\" width=\"145\" x=\"109.5\" y=\"41\"/><text fill=\"#000000\" font-family=\"sans-serif\" font-size=\"12\" font-style=\"italic\" lengthAdjust=\"spacingAndGlyphs\" textLength=\"115\" x=\"124.5\" y=\"57.1387\">«requirement def»</text><text fill=\"#000000\" font-family=\"sans-serif\" font-size=\"12\" lengthAdjust=\"spacingAndGlyphs\" textLength=\"16\" x=\"174\" y=\"71.1074\">R1</text><line style=\"stroke: #383838; stroke-width: 1.5;\" x1=\"110.5\" x2=\"253.5\" y1=\"78.9375\" y2=\"78.9375\"/><text fill=\"#000000\" font-family=\"sans-serif\" font-size=\"11\" font-weight=\"bold\" lengthAdjust=\"spacingAndGlyphs\" textLength=\"46\" x=\"115.5\" y=\"109.9526\">require</text><text fill=\"#000000\" font-family=\"sans-serif\" font-size=\"11\" lengthAdjust=\"spacingAndGlyphs\" textLength=\"13\" x=\"165.5\" y=\"109.9526\">c1</text><text fill=\"#000000\" font-family=\"sans-serif\" font-size=\"11\" font-style=\"italic\" lengthAdjust=\"spacingAndGlyphs\" textLength=\"133\" x=\"115.5\" y=\"122.7573\">:&gt;&gt;RequirementTest::c</text><line style=\"stroke: #383838; stroke-width: 1.0;\" x1=\"110.5\" x2=\"150\" y1=\"93.3398\" y2=\"93.3398\"/><text fill=\"#000000\" font-family=\"sans-serif\" font-size=\"11\" lengthAdjust=\"spacingAndGlyphs\" textLength=\"64\" x=\"150\" y=\"96.6479\">constraints</text><line style=\"stroke: #383838; stroke-width: 1.0;\" x1=\"214\" x2=\"253.5\" y1=\"93.3398\" y2=\"93.3398\"/></a><!--MD5=[1dd1bfd58a279cf63c5f349dbc8fc6a1]\n",
       "class E11--><a href=\"psysml:8fb932f6-fc92-43ad-aa0e-8cfa7b71c9b3\" target=\"_top\" title=\"psysml:8fb932f6-fc92-43ad-aa0e-8cfa7b71c9b3\" xlink:actuate=\"onRequest\" xlink:href=\"psysml:8fb932f6-fc92-43ad-aa0e-8cfa7b71c9b3\" xlink:show=\"new\" xlink:title=\"psysml:8fb932f6-fc92-43ad-aa0e-8cfa7b71c9b3\" xlink:type=\"simple\"><rect fill=\"#FFFFFF\" height=\"45.9375\" id=\"E11\" rx=\"10\" ry=\"10\" style=\"stroke: #383838; stroke-width: 1.5;\" width=\"42\" x=\"185\" y=\"344.5\"/><text fill=\"#000000\" font-family=\"sans-serif\" font-size=\"12\" font-style=\"italic\" lengthAdjust=\"spacingAndGlyphs\" textLength=\"40\" x=\"186\" y=\"360.6387\">«part»</text><text fill=\"#000000\" font-family=\"sans-serif\" font-size=\"12\" lengthAdjust=\"spacingAndGlyphs\" textLength=\"8\" x=\"202\" y=\"374.6074\">p</text><line style=\"stroke: #383838; stroke-width: 1.5;\" x1=\"186\" x2=\"226\" y1=\"382.4375\" y2=\"382.4375\"/></a><!--MD5=[49a0ec8f00dab7302a31f22d0f0fe584]\n",
       "class E12--><a href=\"psysml:9b734dfd-0e44-4ae0-bd37-d0a03d4a12cd\" target=\"_top\" title=\"psysml:9b734dfd-0e44-4ae0-bd37-d0a03d4a12cd\" xlink:actuate=\"onRequest\" xlink:href=\"psysml:9b734dfd-0e44-4ae0-bd37-d0a03d4a12cd\" xlink:show=\"new\" xlink:title=\"psysml:9b734dfd-0e44-4ae0-bd37-d0a03d4a12cd\" xlink:type=\"simple\"><rect fill=\"#FFFFFF\" height=\"45.9375\" id=\"E12\" rx=\"10\" ry=\"10\" style=\"stroke: #383838; stroke-width: 1.5;\" width=\"42\" x=\"32\" y=\"62\"/><text fill=\"#000000\" font-family=\"sans-serif\" font-size=\"12\" font-style=\"italic\" lengthAdjust=\"spacingAndGlyphs\" textLength=\"40\" x=\"33\" y=\"78.1387\">«part»</text><text fill=\"#000000\" font-family=\"sans-serif\" font-size=\"12\" lengthAdjust=\"spacingAndGlyphs\" textLength=\"8\" x=\"49\" y=\"92.1074\">q</text><line style=\"stroke: #383838; stroke-width: 1.5;\" x1=\"33\" x2=\"73\" y1=\"99.9375\" y2=\"99.9375\"/></a><!--MD5=[ee3c913d1a06f366521f9ef512b67efe]\n",
       "class E13--><a href=\"psysml:5a1cae69-7149-47dc-88a9-208fdbfbba4b\" target=\"_top\" title=\"psysml:5a1cae69-7149-47dc-88a9-208fdbfbba4b\" xlink:actuate=\"onRequest\" xlink:href=\"psysml:5a1cae69-7149-47dc-88a9-208fdbfbba4b\" xlink:show=\"new\" xlink:title=\"psysml:5a1cae69-7149-47dc-88a9-208fdbfbba4b\" xlink:type=\"simple\"><rect fill=\"#FFFFFF\" height=\"45.9375\" id=\"E13\" rx=\"10\" ry=\"10\" style=\"stroke: #383838; stroke-width: 1.5;\" width=\"93\" x=\"44.5\" y=\"190\"/><text fill=\"#000000\" font-family=\"sans-serif\" font-size=\"12\" font-style=\"italic\" lengthAdjust=\"spacingAndGlyphs\" textLength=\"91\" x=\"45.5\" y=\"206.1387\">«requirement»</text><text fill=\"#000000\" font-family=\"sans-serif\" font-size=\"12\" lengthAdjust=\"spacingAndGlyphs\" textLength=\"21\" x=\"80.5\" y=\"220.1074\">r: R</text><line style=\"stroke: #383838; stroke-width: 1.5;\" x1=\"45.5\" x2=\"136.5\" y1=\"227.9375\" y2=\"227.9375\"/></a><!--MD5=[05d275557350bfb9b23a4ef7222b4c39]\n",
       "link E3 to E2--><a href=\"psysml:bb92853b-9a42-4685-9891-57f30cbf18f8\" target=\"_top\" title=\"psysml:bb92853b-9a42-4685-9891-57f30cbf18f8\" xlink:actuate=\"onRequest\" xlink:href=\"psysml:bb92853b-9a42-4685-9891-57f30cbf18f8\" xlink:show=\"new\" xlink:title=\"psysml:bb92853b-9a42-4685-9891-57f30cbf18f8\" xlink:type=\"simple\"><path d=\"M327.88,108.24 C326.26,125.24 323.98,149.19 322.02,169.79 \" fill=\"none\" id=\"E3-&gt;E2\" style=\"stroke: #383838; stroke-width: 1.0;\"/><polygon fill=\"#FFFFFF\" points=\"320.1,189.99,314.9362,170.411,328.8729,171.7407,320.1,189.99\" style=\"stroke: #383838; stroke-width: 1.0;\"/><ellipse cx=\"317.4685\" cy=\"164.9268\" fill=\"#383838\" rx=\"2\" ry=\"2\" style=\"stroke: #383838; stroke-width: 1.0;\"/><ellipse cx=\"327.4233\" cy=\"165.8765\" fill=\"#383838\" rx=\"2\" ry=\"2\" style=\"stroke: #383838; stroke-width: 1.0;\"/></a><!--MD5=[62aa6af11e70f752912c1cb0466f24f7]\n",
       "reverse link E4 to E5--><a href=\"psysml:c7a4f64d-f76e-4f11-bab9-561a5696e580\" target=\"_top\" title=\"psysml:c7a4f64d-f76e-4f11-bab9-561a5696e580\" xlink:actuate=\"onRequest\" xlink:href=\"psysml:c7a4f64d-f76e-4f11-bab9-561a5696e580\" xlink:show=\"new\" xlink:title=\"psysml:c7a4f64d-f76e-4f11-bab9-561a5696e580\" xlink:type=\"simple\"><path d=\"M91,437.45 C91,453.34 91,469.51 91,482.98 \" fill=\"none\" id=\"E4&lt;-E5\" style=\"stroke: #383838; stroke-width: 1.0;\"/><ellipse cx=\"91\" cy=\"430.4\" fill=\"#FFFFFF\" rx=\"8\" ry=\"8\" style=\"stroke: #383838; stroke-width: 1.0;\"/><line style=\"stroke: #383838; stroke-width: 1.0;\" x1=\"91\" x2=\"91\" y1=\"438.4\" y2=\"422.4\"/><line style=\"stroke: #383838; stroke-width: 1.0;\" x1=\"83\" x2=\"99\" y1=\"430.4\" y2=\"430.4\"/></a><!--MD5=[c6fc7cdb0cabde04948078cf183fa696]\n",
       "reverse link E4 to E8--><a href=\"psysml:165156c7-6d13-47e8-9214-4efd9fbee902\" target=\"_top\" title=\"psysml:165156c7-6d13-47e8-9214-4efd9fbee902\" xlink:actuate=\"onRequest\" xlink:href=\"psysml:165156c7-6d13-47e8-9214-4efd9fbee902\" xlink:show=\"new\" xlink:title=\"psysml:165156c7-6d13-47e8-9214-4efd9fbee902\" xlink:type=\"simple\"><path d=\"M151.51,432.04 C172.42,453.99 194.47,477.14 210.03,493.48 \" fill=\"none\" id=\"E4&lt;-E8\" style=\"stroke: #383838; stroke-width: 1.0;\"/><polygon fill=\"#383838\" points=\"142.34,422.4,143.5779,429.5041,150.6116,431.0937,149.3737,423.9897,142.34,422.4\" style=\"stroke: #383838; stroke-width: 1.0;\"/></a><!--MD5=[062ed86c389d1a88f61c6380d0491e17]\n",
       "reverse link E12 to E13--><a href=\"psysml:5a1cae69-7149-47dc-88a9-208fdbfbba4b\" target=\"_top\" title=\"psysml:5a1cae69-7149-47dc-88a9-208fdbfbba4b\" xlink:actuate=\"onRequest\" xlink:href=\"psysml:5a1cae69-7149-47dc-88a9-208fdbfbba4b\" xlink:show=\"new\" xlink:title=\"psysml:5a1cae69-7149-47dc-88a9-208fdbfbba4b\" xlink:type=\"simple\"><path d=\"M63.49,120.8 C70.17,142.92 78.6,170.89 84.36,189.99 \" fill=\"none\" id=\"E12&lt;-E13\" style=\"stroke: #383838; stroke-width: 1.0;\"/><polygon fill=\"#383838\" points=\"59.71,108.24,57.6129,115.1394,63.1751,119.7288,65.2722,112.8294,59.71,108.24\" style=\"stroke: #383838; stroke-width: 1.0;\"/></a><!--MD5=[017847e01ff9a8bd19f247411074f987]\n",
       "link E13 to E4--><a href=\"psysml:9a693856-e1d7-4623-99b4-c4529bf04054\" target=\"_top\" title=\"psysml:9a693856-e1d7-4623-99b4-c4529bf04054\" xlink:actuate=\"onRequest\" xlink:href=\"psysml:9a693856-e1d7-4623-99b4-c4529bf04054\" xlink:show=\"new\" xlink:title=\"psysml:9a693856-e1d7-4623-99b4-c4529bf04054\" xlink:type=\"simple\"><path d=\"M91,236.17 C91,251.17 91,271.91 91,292.44 \" fill=\"none\" id=\"E13-&gt;E4\" style=\"stroke: #383838; stroke-width: 1.0;\"/><polygon fill=\"#FFFFFF\" points=\"91,312.68,84,293.68,98,293.68,91,312.68\" style=\"stroke: #383838; stroke-width: 1.0;\"/><ellipse cx=\"86\" cy=\"287.98\" fill=\"#383838\" rx=\"2\" ry=\"2\" style=\"stroke: #383838; stroke-width: 1.0;\"/><ellipse cx=\"96\" cy=\"287.98\" fill=\"#383838\" rx=\"2\" ry=\"2\" style=\"stroke: #383838; stroke-width: 1.0;\"/></a><!--MD5=[2cfe899c895462254056921bfb67315f]\n",
       "link E13 to E11--><a href=\"psysml:69852053-465c-4b3e-807c-2facd65a229c\" target=\"_top\" title=\"psysml:69852053-465c-4b3e-807c-2facd65a229c\" xlink:actuate=\"onRequest\" xlink:href=\"psysml:69852053-465c-4b3e-807c-2facd65a229c\" xlink:show=\"new\" xlink:title=\"psysml:69852053-465c-4b3e-807c-2facd65a229c\" xlink:type=\"simple\"><path d=\"M108.36,236.29 C123.87,256.28 147.14,286.45 167,313 C173.57,321.78 180.66,331.44 186.97,340.12 \" fill=\"none\" id=\"E13-&gt;E11\" style=\"stroke: #383838; stroke-width: 1.0; stroke-dasharray: 7.0,7.0;\"/><polygon fill=\"#383838\" points=\"189.99,344.28,187.9274,334.6496,187.0474,340.2376,181.4594,339.3576,189.99,344.28\" style=\"stroke: #383838; stroke-width: 1.0;\"/><text fill=\"#000000\" font-family=\"sans-serif\" font-size=\"13\" lengthAdjust=\"spacingAndGlyphs\" textLength=\"57\" x=\"145\" y=\"279.0669\">«satisfy»</text></a><!--MD5=[e02360df1ece708f967c413acadaa16f]\n",
       "@startuml\r\n",
       "skinparam monochrome true\r\n",
       "skinparam classbackgroundcolor white\r\n",
       "skinparam shadowing false\r\n",
       "skinparam wrapWidth 300\r\n",
       "hide circle\r\n",
       "\r\n",
       "package \"RequirementTest\" as E1  [[psysml:7a32e4ca-d886-48d1-a22e-a4337a6af1e2 ]]  {\r\n",
       "comp def \"C\" as E2  <<(T,blue)constraint def>> [[psysml:c5fd5931-ea17-4576-af97-a79679b06835 ]] {\r\n",
       "}\r\n",
       "comp usage \"c: C\" as E3  <<(T,blue)constraint>> [[psysml:23e87db0-b26a-4449-ad29-18415d83eb38 ]] {\r\n",
       "}\r\n",
       "comp def \"R\" as E4  <<(T,blue)requirement def>> [[psysml:aa32b181-0a7a-45c2-8d8e-c84b0489ed31 ]] {\r\n",
       "\r\n",
       "- -\r\n",
       "- - constraints - -\r\n",
       "<b>require</b> c\r\n",
       "<i>assume</i> c1: C\r\n",
       "}\r\n",
       "comp def \" [<b>1</b>] A\" as E5  <<(T,blue)requirement def>> [[psysml:c7a4f64d-f76e-4f11-bab9-561a5696e580 ]] {\r\n",
       "Text\r\n",
       "- -\r\n",
       "}\r\n",
       "comp usage \"<s>noname</s>\" as E8  <<(T,blue)requirement>> [[psysml:165156c7-6d13-47e8-9214-4efd9fbee902 ]] {\r\n",
       "}\r\n",
       "comp def \"R1\" as E9  <<(T,blue)requirement def>> [[psysml:5b4d3eaf-f72e-4f96-998b-f4a0a57df239 ]] {\r\n",
       "- - constraints - -\r\n",
       "<b>require</b> c1\\n//:>>RequirementTest::c// \r\n",
       "}\r\n",
       "comp usage \"p\" as E11  <<(T,blue)part>> [[psysml:8fb932f6-fc92-43ad-aa0e-8cfa7b71c9b3 ]] {\r\n",
       "}\r\n",
       "comp usage \"q\" as E12  <<(T,blue)part>> [[psysml:9b734dfd-0e44-4ae0-bd37-d0a03d4a12cd ]] {\r\n",
       "}\r\n",
       "comp usage \"r: R\" as E13  <<(T,blue)requirement>> [[psysml:5a1cae69-7149-47dc-88a9-208fdbfbba4b ]] {\r\n",
       "}\r\n",
       "E3 - -:|> E2 [[psysml:bb92853b-9a42-4685-9891-57f30cbf18f8 ]] \r\n",
       "E4 +- - E5 [[psysml:c7a4f64d-f76e-4f11-bab9-561a5696e580 ]] \r\n",
       "E4 *- - E8 [[psysml:165156c7-6d13-47e8-9214-4efd9fbee902 ]] \r\n",
       "E12 *- - E13 [[psysml:5a1cae69-7149-47dc-88a9-208fdbfbba4b ]] \r\n",
       "E13 - -:|> E4 [[psysml:9a693856-e1d7-4623-99b4-c4529bf04054 ]] \r\n",
       "E13 ..> E11 [[psysml:69852053-465c-4b3e-807c-2facd65a229c ]] : <<satisfy>>\r\n",
       "}\r\n",
       "@enduml\r\n",
       "\n",
       "PlantUML version 1.2020.13(Sat Jun 13 12:26:38 UTC 2020)\n",
       "(EPL source distribution)\n",
       "Java Runtime: OpenJDK Runtime Environment\n",
       "JVM: OpenJDK 64-Bit Server VM\n",
       "Default Encoding: UTF-8\n",
       "Language: en\n",
       "Country: null\n",
       "--></g></svg>"
      ]
     },
     "execution_count": 38,
     "metadata": {},
     "output_type": "execute_result"
    }
   ],
   "source": [
    "%viz --style=\"DEFAULT\" --view=\"Tree\" \"RequirementTest\""
   ]
  },
  {
   "cell_type": "code",
   "execution_count": 39,
   "id": "flying-dispatch",
   "metadata": {
    "execution": {
     "iopub.execute_input": "2021-03-25T09:27:13.230925Z",
     "iopub.status.busy": "2021-03-25T09:27:13.230418Z",
     "iopub.status.idle": "2021-03-25T09:27:13.237771Z",
     "shell.execute_reply": "2021-03-25T09:27:13.237426Z"
    }
   },
   "outputs": [
    {
     "data": {
      "image/svg+xml": [
       "<?xml version=\"1.0\" encoding=\"UTF-8\" standalone=\"no\"?><svg xmlns=\"http://www.w3.org/2000/svg\" xmlns:xlink=\"http://www.w3.org/1999/xlink\" contentScriptType=\"application/ecmascript\" contentStyleType=\"text/css\" height=\"12px\" preserveAspectRatio=\"none\" style=\"width:12px;height:12px;\" version=\"1.1\" viewBox=\"0 0 12 12\" width=\"12px\" zoomAndPan=\"magnify\"><defs/><g><!--MD5=[c5f280e076d0d61ccf4b0f27871bda1d]\n",
       "@startuml\r\n",
       "skinparam monochrome true\r\n",
       "skinparam classbackgroundcolor white\r\n",
       "skinparam shadowing false\r\n",
       "skinparam wrapWidth 300\r\n",
       "hide circle\r\n",
       "\r\n",
       "@enduml\r\n",
       "\n",
       "PlantUML version 1.2020.13(Sat Jun 13 12:26:38 UTC 2020)\n",
       "(EPL source distribution)\n",
       "Java Runtime: OpenJDK Runtime Environment\n",
       "JVM: OpenJDK 64-Bit Server VM\n",
       "Default Encoding: UTF-8\n",
       "Language: en\n",
       "Country: null\n",
       "--></g></svg>"
      ]
     },
     "execution_count": 39,
     "metadata": {},
     "output_type": "execute_result"
    }
   ],
   "source": [
    "%viz --style=\"DEFAULT\" --view=\"State\" \"RequirementTest\""
   ]
  },
  {
   "cell_type": "code",
   "execution_count": 40,
   "id": "about-consequence",
   "metadata": {
    "execution": {
     "iopub.execute_input": "2021-03-25T09:27:13.287825Z",
     "iopub.status.busy": "2021-03-25T09:27:13.287453Z",
     "iopub.status.idle": "2021-03-25T09:27:13.403579Z",
     "shell.execute_reply": "2021-03-25T09:27:13.402307Z"
    }
   },
   "outputs": [
    {
     "data": {
      "image/svg+xml": [
       "<?xml version=\"1.0\" encoding=\"UTF-8\" standalone=\"no\"?><svg xmlns=\"http://www.w3.org/2000/svg\" xmlns:xlink=\"http://www.w3.org/1999/xlink\" contentScriptType=\"application/ecmascript\" contentStyleType=\"text/css\" height=\"367px\" preserveAspectRatio=\"none\" style=\"width:852px;height:367px;\" version=\"1.1\" viewBox=\"0 0 852 367\" width=\"852px\" zoomAndPan=\"magnify\"><defs/><g><!--MD5=[fbc87193dbaf4d95561dea2c320d4a47]\n",
       "cluster E1--><a href=\"psysml:7a32e4ca-d886-48d1-a22e-a4337a6af1e2\" target=\"_top\" title=\"psysml:7a32e4ca-d886-48d1-a22e-a4337a6af1e2\" xlink:actuate=\"onRequest\" xlink:href=\"psysml:7a32e4ca-d886-48d1-a22e-a4337a6af1e2\" xlink:show=\"new\" xlink:title=\"psysml:7a32e4ca-d886-48d1-a22e-a4337a6af1e2\" xlink:type=\"simple\"><polygon fill=\"#FFFFFF\" points=\"16,6,158,6,165,28.2969,830,28.2969,830,355,16,355,16,6\" style=\"stroke: #000000; stroke-width: 1.5;\"/><line style=\"stroke: #000000; stroke-width: 1.5;\" x1=\"16\" x2=\"165\" y1=\"28.2969\" y2=\"28.2969\"/><text fill=\"#000000\" font-family=\"sans-serif\" font-size=\"14\" font-weight=\"bold\" lengthAdjust=\"spacingAndGlyphs\" textLength=\"136\" x=\"20\" y=\"20.9951\">RequirementTest</text></a><!--MD5=[168fadf3d0c3fd93dd5d6da1b1d7ab76]\n",
       "cluster E7--><a href=\"psysml:9b734dfd-0e44-4ae0-bd37-d0a03d4a12cd\" target=\"_top\" title=\"psysml:9b734dfd-0e44-4ae0-bd37-d0a03d4a12cd\" xlink:actuate=\"onRequest\" xlink:href=\"psysml:9b734dfd-0e44-4ae0-bd37-d0a03d4a12cd\" xlink:show=\"new\" xlink:title=\"psysml:9b734dfd-0e44-4ae0-bd37-d0a03d4a12cd\" xlink:type=\"simple\"><rect fill=\"#FFFFFF\" height=\"209\" id=\"E7\" rx=\"10\" ry=\"10\" style=\"stroke: #383838; stroke-width: 1.5;\" width=\"213\" x=\"593\" y=\"49\"/><rect fill=\"#F8F8F8\" height=\"23.9688\" rx=\"10\" ry=\"10\" style=\"stroke: #F8F8F8; stroke-width: 1.5;\" width=\"213\" x=\"593\" y=\"49\"/><rect fill=\"#F8F8F8\" height=\"10\" style=\"stroke: #F8F8F8; stroke-width: 1.5;\" width=\"213\" x=\"593\" y=\"62.9688\"/><rect fill=\"none\" height=\"209\" id=\"E7\" rx=\"10\" ry=\"10\" style=\"stroke: #383838; stroke-width: 1.5;\" width=\"213\" x=\"593\" y=\"49\"/><text fill=\"#000000\" font-family=\"sans-serif\" font-size=\"12\" lengthAdjust=\"spacingAndGlyphs\" textLength=\"8\" x=\"695.5\" y=\"65.1387\">q</text><line style=\"stroke: #383838; stroke-width: 1.0;\" x1=\"593\" x2=\"806\" y1=\"72.9688\" y2=\"72.9688\"/></a><!--MD5=[55dfccfc6c49c2d10cd1bd2211a6c90c]\n",
       "cluster E8--><a href=\"psysml:5a1cae69-7149-47dc-88a9-208fdbfbba4b\" target=\"_top\" title=\"psysml:5a1cae69-7149-47dc-88a9-208fdbfbba4b\" xlink:actuate=\"onRequest\" xlink:href=\"psysml:5a1cae69-7149-47dc-88a9-208fdbfbba4b\" xlink:show=\"new\" xlink:title=\"psysml:5a1cae69-7149-47dc-88a9-208fdbfbba4b\" xlink:type=\"simple\"><rect fill=\"#FFFFFF\" height=\"126\" id=\"E8\" rx=\"10\" ry=\"10\" style=\"stroke: #383838; stroke-width: 1.5;\" width=\"149\" x=\"625\" y=\"100\"/><rect fill=\"#F8F8F8\" height=\"37.9375\" rx=\"10\" ry=\"10\" style=\"stroke: #F8F8F8; stroke-width: 1.5;\" width=\"149\" x=\"625\" y=\"100\"/><rect fill=\"#F8F8F8\" height=\"10\" style=\"stroke: #F8F8F8; stroke-width: 1.5;\" width=\"149\" x=\"625\" y=\"127.9375\"/><rect fill=\"none\" height=\"126\" id=\"E8\" rx=\"10\" ry=\"10\" style=\"stroke: #383838; stroke-width: 1.5;\" width=\"149\" x=\"625\" y=\"100\"/><text fill=\"#000000\" font-family=\"sans-serif\" font-size=\"12\" font-style=\"italic\" lengthAdjust=\"spacingAndGlyphs\" textLength=\"91\" x=\"654\" y=\"116.1387\">«requirement»</text><text fill=\"#000000\" font-family=\"sans-serif\" font-size=\"12\" lengthAdjust=\"spacingAndGlyphs\" textLength=\"21\" x=\"689\" y=\"130.1074\">r: R</text><line style=\"stroke: #383838; stroke-width: 1.0;\" x1=\"625\" x2=\"774\" y1=\"137.9375\" y2=\"137.9375\"/></a><g id=\"E1.E2\"><a href=\"psysml:c5fd5931-ea17-4576-af97-a79679b06835\" target=\"_top\" title=\"psysml:c5fd5931-ea17-4576-af97-a79679b06835\" xlink:actuate=\"onRequest\" xlink:href=\"psysml:c5fd5931-ea17-4576-af97-a79679b06835\" xlink:show=\"new\" xlink:title=\"psysml:c5fd5931-ea17-4576-af97-a79679b06835\" xlink:type=\"simple\"><rect fill=\"#FFFFFF\" height=\"42.9375\" id=\"E2\" style=\"stroke: #383838; stroke-width: 1.5;\" width=\"109\" x=\"467.5\" y=\"159\"/><rect fill=\"#F8F8F8\" height=\"37.9375\" style=\"stroke: #383838; stroke-width: 1.5;\" width=\"109\" x=\"467.5\" y=\"159\"/><text fill=\"#000000\" font-family=\"sans-serif\" font-size=\"12\" font-style=\"italic\" lengthAdjust=\"spacingAndGlyphs\" textLength=\"102\" x=\"471\" y=\"175.1387\">«constraint def»</text><text fill=\"#000000\" font-family=\"sans-serif\" font-size=\"12\" lengthAdjust=\"spacingAndGlyphs\" textLength=\"8\" x=\"518\" y=\"189.1074\">C</text></a></g><g id=\"E1.E4\"><a href=\"psysml:aa32b181-0a7a-45c2-8d8e-c84b0489ed31\" target=\"_top\" title=\"psysml:aa32b181-0a7a-45c2-8d8e-c84b0489ed31\" xlink:actuate=\"onRequest\" xlink:href=\"psysml:aa32b181-0a7a-45c2-8d8e-c84b0489ed31\" xlink:show=\"new\" xlink:title=\"psysml:aa32b181-0a7a-45c2-8d8e-c84b0489ed31\" xlink:type=\"simple\"><rect fill=\"#FFFFFF\" height=\"42.9375\" id=\"E4\" style=\"stroke: #383838; stroke-width: 1.5;\" width=\"122\" x=\"310\" y=\"159\"/><rect fill=\"#F8F8F8\" height=\"37.9375\" style=\"stroke: #383838; stroke-width: 1.5;\" width=\"122\" x=\"310\" y=\"159\"/><text fill=\"#000000\" font-family=\"sans-serif\" font-size=\"12\" font-style=\"italic\" lengthAdjust=\"spacingAndGlyphs\" textLength=\"115\" x=\"313.5\" y=\"175.1387\">«requirement def»</text><text fill=\"#000000\" font-family=\"sans-serif\" font-size=\"12\" lengthAdjust=\"spacingAndGlyphs\" textLength=\"8\" x=\"367\" y=\"189.1074\">R</text></a></g><g id=\"E1.E5\"><a href=\"psysml:5b4d3eaf-f72e-4f96-998b-f4a0a57df239\" target=\"_top\" title=\"psysml:5b4d3eaf-f72e-4f96-998b-f4a0a57df239\" xlink:actuate=\"onRequest\" xlink:href=\"psysml:5b4d3eaf-f72e-4f96-998b-f4a0a57df239\" xlink:show=\"new\" xlink:title=\"psysml:5b4d3eaf-f72e-4f96-998b-f4a0a57df239\" xlink:type=\"simple\"><rect fill=\"#FFFFFF\" height=\"42.9375\" id=\"E5\" style=\"stroke: #383838; stroke-width: 1.5;\" width=\"122\" x=\"153\" y=\"159\"/><rect fill=\"#F8F8F8\" height=\"37.9375\" style=\"stroke: #383838; stroke-width: 1.5;\" width=\"122\" x=\"153\" y=\"159\"/><text fill=\"#000000\" font-family=\"sans-serif\" font-size=\"12\" font-style=\"italic\" lengthAdjust=\"spacingAndGlyphs\" textLength=\"115\" x=\"156.5\" y=\"175.1387\">«requirement def»</text><text fill=\"#000000\" font-family=\"sans-serif\" font-size=\"12\" lengthAdjust=\"spacingAndGlyphs\" textLength=\"16\" x=\"206\" y=\"189.1074\">R1</text></a></g><g id=\"E1.E3\"><a href=\"psysml:23e87db0-b26a-4449-ad29-18415d83eb38\" target=\"_top\" title=\"psysml:23e87db0-b26a-4449-ad29-18415d83eb38\" xlink:actuate=\"onRequest\" xlink:href=\"psysml:23e87db0-b26a-4449-ad29-18415d83eb38\" xlink:show=\"new\" xlink:title=\"psysml:23e87db0-b26a-4449-ad29-18415d83eb38\" xlink:type=\"simple\"><rect fill=\"#FFFFFF\" height=\"42.9375\" id=\"E3\" rx=\"10\" ry=\"10\" style=\"stroke: #383838; stroke-width: 1.5;\" width=\"85\" x=\"32.5\" y=\"159\"/><rect fill=\"#F8F8F8\" height=\"37.9375\" rx=\"10\" ry=\"10\" style=\"stroke: #F8F8F8; stroke-width: 1.5;\" width=\"85\" x=\"32.5\" y=\"159\"/><rect fill=\"#F8F8F8\" height=\"10\" style=\"stroke: #F8F8F8; stroke-width: 1.5;\" width=\"85\" x=\"32.5\" y=\"186.9375\"/><rect fill=\"none\" height=\"42.9375\" id=\"E3\" rx=\"10\" ry=\"10\" style=\"stroke: #383838; stroke-width: 1.5;\" width=\"85\" x=\"32.5\" y=\"159\"/><text fill=\"#000000\" font-family=\"sans-serif\" font-size=\"12\" font-style=\"italic\" lengthAdjust=\"spacingAndGlyphs\" textLength=\"78\" x=\"36\" y=\"175.1387\">«constraint»</text><text fill=\"#000000\" font-family=\"sans-serif\" font-size=\"12\" lengthAdjust=\"spacingAndGlyphs\" textLength=\"23\" x=\"63.5\" y=\"189.1074\">c: C</text></a></g><g id=\"E1.E6\"><a href=\"psysml:8fb932f6-fc92-43ad-aa0e-8cfa7b71c9b3\" target=\"_top\" title=\"psysml:8fb932f6-fc92-43ad-aa0e-8cfa7b71c9b3\" xlink:actuate=\"onRequest\" xlink:href=\"psysml:8fb932f6-fc92-43ad-aa0e-8cfa7b71c9b3\" xlink:show=\"new\" xlink:title=\"psysml:8fb932f6-fc92-43ad-aa0e-8cfa7b71c9b3\" xlink:type=\"simple\"><rect fill=\"#FFFFFF\" height=\"40\" id=\"E6\" rx=\"10\" ry=\"10\" style=\"stroke: #383838; stroke-width: 1.5;\" width=\"50\" x=\"608\" y=\"299\"/><rect fill=\"#F8F8F8\" height=\"23.9688\" rx=\"10\" ry=\"10\" style=\"stroke: #F8F8F8; stroke-width: 1.5;\" width=\"50\" x=\"608\" y=\"299\"/><rect fill=\"#F8F8F8\" height=\"10\" style=\"stroke: #F8F8F8; stroke-width: 1.5;\" width=\"50\" x=\"608\" y=\"312.9688\"/><rect fill=\"none\" height=\"40\" id=\"E6\" rx=\"10\" ry=\"10\" style=\"stroke: #383838; stroke-width: 1.5;\" width=\"50\" x=\"608\" y=\"299\"/><text fill=\"#000000\" font-family=\"sans-serif\" font-size=\"12\" lengthAdjust=\"spacingAndGlyphs\" textLength=\"8\" x=\"629\" y=\"315.1387\">p</text></a></g><g id=\"E1.E7.E8.E9\"><a href=\"psysml:ebf9f55c-b0ce-46a7-820d-0de32b7e0555\" target=\"_top\" title=\"psysml:ebf9f55c-b0ce-46a7-820d-0de32b7e0555\" xlink:actuate=\"onRequest\" xlink:href=\"psysml:ebf9f55c-b0ce-46a7-820d-0de32b7e0555\" xlink:show=\"new\" xlink:title=\"psysml:ebf9f55c-b0ce-46a7-820d-0de32b7e0555\" xlink:type=\"simple\"><rect fill=\"#FFFFFF\" height=\"42.9375\" id=\"E9\" rx=\"10\" ry=\"10\" style=\"stroke: #383838; stroke-width: 1.5;\" width=\"82\" x=\"668\" y=\"159\"/><rect fill=\"#F8F8F8\" height=\"37.9375\" rx=\"10\" ry=\"10\" style=\"stroke: #F8F8F8; stroke-width: 1.5;\" width=\"82\" x=\"668\" y=\"159\"/><rect fill=\"#F8F8F8\" height=\"10\" style=\"stroke: #F8F8F8; stroke-width: 1.5;\" width=\"82\" x=\"668\" y=\"186.9375\"/><rect fill=\"none\" height=\"42.9375\" id=\"E9\" rx=\"10\" ry=\"10\" style=\"stroke: #383838; stroke-width: 1.5;\" width=\"82\" x=\"668\" y=\"159\"/><text fill=\"#000000\" font-family=\"sans-serif\" font-size=\"12\" font-style=\"italic\" lengthAdjust=\"spacingAndGlyphs\" textLength=\"75\" x=\"671.5\" y=\"175.1387\">«reference»</text><text fill=\"#000000\" font-family=\"sans-serif\" font-size=\"12\" lengthAdjust=\"spacingAndGlyphs\" textLength=\"26\" x=\"696\" y=\"189.1074\">subj</text></a></g><!--MD5=[c5e8897d989ce984f93528998a7150fe]\n",
       "link E8 to E6--><a href=\"psysml:69852053-465c-4b3e-807c-2facd65a229c\" target=\"_top\" title=\"psysml:69852053-465c-4b3e-807c-2facd65a229c\" xlink:actuate=\"onRequest\" xlink:href=\"psysml:69852053-465c-4b3e-807c-2facd65a229c\" xlink:show=\"new\" xlink:title=\"psysml:69852053-465c-4b3e-807c-2facd65a229c\" xlink:type=\"simple\"><path d=\"M633,226.4501 C633,227.1713 633,227.8965 633,228.6252 C633,230.0826 633,231.5543 633,233.0372 C633,236.003 633,239.0136 633,242.0448 C633,248.1072 633,254.2518 633,260.2839 C633,272.3481 633,283.9625 633,293.57 \" fill=\"none\" id=\"E8-&gt;E6\" style=\"stroke: #383838; stroke-width: 1.0; stroke-dasharray: 7.0,7.0;\"/><polygon fill=\"#383838\" points=\"633,298.99,637,289.99,633,293.99,629,289.99,633,298.99\" style=\"stroke: #383838; stroke-width: 1.0;\"/><text fill=\"#000000\" font-family=\"sans-serif\" font-size=\"13\" lengthAdjust=\"spacingAndGlyphs\" textLength=\"57\" x=\"634\" y=\"287.0669\">«satisfy»</text></a><!--MD5=[9c25e298250a1fa10f98811e944f2037]\n",
       "@startuml\r\n",
       "skinparam ranksep 8\r\n",
       "skinparam rectangle {\r\n",
       " backgroundColor<<block>> LightGreen\r\n",
       "}\r\n",
       "skinparam monochrome true\r\n",
       "skinparam classbackgroundcolor white\r\n",
       "skinparam shadowing false\r\n",
       "skinparam wrapWidth 300\r\n",
       "hide circle\r\n",
       "\r\n",
       "package \"RequirementTest\" as E1  [[psysml:7a32e4ca-d886-48d1-a22e-a4337a6af1e2 ]]  {\r\n",
       "def \"C\" as E2  <<(T,blue)constraint def>> [[psysml:c5fd5931-ea17-4576-af97-a79679b06835 ]] \r\n",
       "rec usage \"c: C\" as E3  <<(T,blue)constraint>> [[psysml:23e87db0-b26a-4449-ad29-18415d83eb38 ]] {\r\n",
       "}\r\n",
       "def \"R\" as E4  <<(T,blue)requirement def>> [[psysml:aa32b181-0a7a-45c2-8d8e-c84b0489ed31 ]] \r\n",
       "def \"R1\" as E5  <<(T,blue)requirement def>> [[psysml:5b4d3eaf-f72e-4f96-998b-f4a0a57df239 ]] \r\n",
       "rec usage \"p\" as E6  [[psysml:8fb932f6-fc92-43ad-aa0e-8cfa7b71c9b3 ]] {\r\n",
       "}\r\n",
       "rec usage \"q\" as E7  [[psysml:9b734dfd-0e44-4ae0-bd37-d0a03d4a12cd ]] {\r\n",
       "rec usage \"r: R\" as E8  <<(T,blue)requirement>> [[psysml:5a1cae69-7149-47dc-88a9-208fdbfbba4b ]] {\r\n",
       "rec usage \"subj\" as E9  <<(T,blue)reference>> [[psysml:ebf9f55c-b0ce-46a7-820d-0de32b7e0555 ]] {\r\n",
       "}\r\n",
       "}\r\n",
       "}\r\n",
       "E8 ..> E6 [[psysml:69852053-465c-4b3e-807c-2facd65a229c ]] : <<satisfy>>\r\n",
       "}\r\n",
       "@enduml\r\n",
       "\n",
       "PlantUML version 1.2020.13(Sat Jun 13 12:26:38 UTC 2020)\n",
       "(EPL source distribution)\n",
       "Java Runtime: OpenJDK Runtime Environment\n",
       "JVM: OpenJDK 64-Bit Server VM\n",
       "Default Encoding: UTF-8\n",
       "Language: en\n",
       "Country: null\n",
       "--></g></svg>"
      ]
     },
     "execution_count": 40,
     "metadata": {},
     "output_type": "execute_result"
    }
   ],
   "source": [
    "%viz --style=\"DEFAULT\" --view=\"Interconnection\" \"RequirementTest\""
   ]
  },
  {
   "cell_type": "code",
   "execution_count": 41,
   "id": "sensitive-personal",
   "metadata": {
    "execution": {
     "iopub.execute_input": "2021-03-25T09:27:13.454799Z",
     "iopub.status.busy": "2021-03-25T09:27:13.454066Z",
     "iopub.status.idle": "2021-03-25T09:27:13.460292Z",
     "shell.execute_reply": "2021-03-25T09:27:13.459930Z"
    }
   },
   "outputs": [
    {
     "data": {
      "image/svg+xml": [
       "<?xml version=\"1.0\" encoding=\"UTF-8\" standalone=\"no\"?><svg xmlns=\"http://www.w3.org/2000/svg\" xmlns:xlink=\"http://www.w3.org/1999/xlink\" contentScriptType=\"application/ecmascript\" contentStyleType=\"text/css\" height=\"12px\" preserveAspectRatio=\"none\" style=\"width:12px;height:12px;\" version=\"1.1\" viewBox=\"0 0 12 12\" width=\"12px\" zoomAndPan=\"magnify\"><defs/><g><!--MD5=[388f21188e31bfdd97050473b19af356]\n",
       "@startuml\r\n",
       "skinparam ranksep 8\r\n",
       "skinparam monochrome true\r\n",
       "skinparam classbackgroundcolor white\r\n",
       "skinparam shadowing false\r\n",
       "skinparam wrapWidth 300\r\n",
       "hide circle\r\n",
       "\r\n",
       "@enduml\r\n",
       "\n",
       "PlantUML version 1.2020.13(Sat Jun 13 12:26:38 UTC 2020)\n",
       "(EPL source distribution)\n",
       "Java Runtime: OpenJDK Runtime Environment\n",
       "JVM: OpenJDK 64-Bit Server VM\n",
       "Default Encoding: UTF-8\n",
       "Language: en\n",
       "Country: null\n",
       "--></g></svg>"
      ]
     },
     "execution_count": 41,
     "metadata": {},
     "output_type": "execute_result"
    }
   ],
   "source": [
    "%viz --style=\"DEFAULT\" --view=\"Action\" \"RequirementTest\""
   ]
  },
  {
   "cell_type": "code",
   "execution_count": 42,
   "id": "iraqi-mailman",
   "metadata": {
    "execution": {
     "iopub.execute_input": "2021-03-25T09:27:13.511875Z",
     "iopub.status.busy": "2021-03-25T09:27:13.511202Z",
     "iopub.status.idle": "2021-03-25T09:27:14.369163Z",
     "shell.execute_reply": "2021-03-25T09:27:14.367051Z"
    }
   },
   "outputs": [
    {
     "data": {
      "image/svg+xml": [
       "<?xml version=\"1.0\" encoding=\"UTF-8\" standalone=\"no\"?><svg xmlns=\"http://www.w3.org/2000/svg\" xmlns:xlink=\"http://www.w3.org/1999/xlink\" contentScriptType=\"application/ecmascript\" contentStyleType=\"text/css\" height=\"578px\" preserveAspectRatio=\"none\" style=\"width:408px;height:578px;\" version=\"1.1\" viewBox=\"0 0 408 578\" width=\"408px\" zoomAndPan=\"magnify\"><defs/><g><!--MD5=[fbc87193dbaf4d95561dea2c320d4a47]\n",
       "cluster E1--><a href=\"psysml:7a32e4ca-d886-48d1-a22e-a4337a6af1e2\" target=\"_top\" title=\"psysml:7a32e4ca-d886-48d1-a22e-a4337a6af1e2\" xlink:actuate=\"onRequest\" xlink:href=\"psysml:7a32e4ca-d886-48d1-a22e-a4337a6af1e2\" xlink:show=\"new\" xlink:title=\"psysml:7a32e4ca-d886-48d1-a22e-a4337a6af1e2\" xlink:type=\"simple\"><polygon fill=\"#FFFFFF\" points=\"16,6,158,6,165,28.2969,386,28.2969,386,566,16,566,16,6\" style=\"stroke: #000000; stroke-width: 1.5;\"/><line style=\"stroke: #000000; stroke-width: 1.5;\" x1=\"16\" x2=\"165\" y1=\"28.2969\" y2=\"28.2969\"/><text fill=\"#000000\" font-family=\"sans-serif\" font-size=\"14\" font-weight=\"bold\" lengthAdjust=\"spacingAndGlyphs\" textLength=\"136\" x=\"20\" y=\"20.9951\">RequirementTest</text></a><!--MD5=[b4997ac47864f28c2f74865a473b2911]\n",
       "class E2--><a href=\"psysml:c5fd5931-ea17-4576-af97-a79679b06835\" target=\"_top\" title=\"psysml:c5fd5931-ea17-4576-af97-a79679b06835\" xlink:actuate=\"onRequest\" xlink:href=\"psysml:c5fd5931-ea17-4576-af97-a79679b06835\" xlink:show=\"new\" xlink:title=\"psysml:c5fd5931-ea17-4576-af97-a79679b06835\" xlink:type=\"simple\"><rect fill=\"#FFFFFF\" height=\"45.9375\" id=\"E2\" style=\"stroke: #383838; stroke-width: 1.5;\" width=\"104\" x=\"266\" y=\"190\"/><text fill=\"#000000\" font-family=\"sans-serif\" font-size=\"12\" font-style=\"italic\" lengthAdjust=\"spacingAndGlyphs\" textLength=\"102\" x=\"267\" y=\"206.1387\">«constraint def»</text><text fill=\"#000000\" font-family=\"sans-serif\" font-size=\"12\" lengthAdjust=\"spacingAndGlyphs\" textLength=\"8\" x=\"314\" y=\"220.1074\">C</text><line style=\"stroke: #383838; stroke-width: 1.5;\" x1=\"267\" x2=\"369\" y1=\"227.9375\" y2=\"227.9375\"/></a><!--MD5=[09b614a08d8cba4a07c9adeb5e0fee81]\n",
       "class E3--><a href=\"psysml:23e87db0-b26a-4449-ad29-18415d83eb38\" target=\"_top\" title=\"psysml:23e87db0-b26a-4449-ad29-18415d83eb38\" xlink:actuate=\"onRequest\" xlink:href=\"psysml:23e87db0-b26a-4449-ad29-18415d83eb38\" xlink:show=\"new\" xlink:title=\"psysml:23e87db0-b26a-4449-ad29-18415d83eb38\" xlink:type=\"simple\"><rect fill=\"#FFFFFF\" height=\"45.9375\" id=\"E3\" rx=\"10\" ry=\"10\" style=\"stroke: #383838; stroke-width: 1.5;\" width=\"80\" x=\"290\" y=\"62\"/><text fill=\"#000000\" font-family=\"sans-serif\" font-size=\"12\" font-style=\"italic\" lengthAdjust=\"spacingAndGlyphs\" textLength=\"78\" x=\"291\" y=\"78.1387\">«constraint»</text><text fill=\"#000000\" font-family=\"sans-serif\" font-size=\"12\" lengthAdjust=\"spacingAndGlyphs\" textLength=\"23\" x=\"318.5\" y=\"92.1074\">c: C</text><line style=\"stroke: #383838; stroke-width: 1.5;\" x1=\"291\" x2=\"369\" y1=\"99.9375\" y2=\"99.9375\"/></a><!--MD5=[ebbe1d658d1005bcc118a6aa81145e00]\n",
       "class E4--><a href=\"psysml:aa32b181-0a7a-45c2-8d8e-c84b0489ed31\" target=\"_top\" title=\"psysml:aa32b181-0a7a-45c2-8d8e-c84b0489ed31\" xlink:actuate=\"onRequest\" xlink:href=\"psysml:aa32b181-0a7a-45c2-8d8e-c84b0489ed31\" xlink:show=\"new\" xlink:title=\"psysml:aa32b181-0a7a-45c2-8d8e-c84b0489ed31\" xlink:type=\"simple\"><rect fill=\"#FFFFFF\" height=\"109.1563\" id=\"E4\" style=\"stroke: #383838; stroke-width: 1.5;\" width=\"117\" x=\"32.5\" y=\"313\"/><text fill=\"#000000\" font-family=\"sans-serif\" font-size=\"12\" font-style=\"italic\" lengthAdjust=\"spacingAndGlyphs\" textLength=\"115\" x=\"33.5\" y=\"329.1387\">«requirement def»</text><text fill=\"#000000\" font-family=\"sans-serif\" font-size=\"12\" lengthAdjust=\"spacingAndGlyphs\" textLength=\"8\" x=\"87\" y=\"343.1074\">R</text><line style=\"stroke: #383838; stroke-width: 1.5;\" x1=\"33.5\" x2=\"148.5\" y1=\"350.9375\" y2=\"350.9375\"/><text fill=\"#000000\" font-family=\"sans-serif\" font-size=\"11\" lengthAdjust=\"spacingAndGlyphs\" textLength=\"0\" x=\"42.5\" y=\"365.1479\"/><line style=\"stroke: #383838; stroke-width: 1.0;\" x1=\"33.5\" x2=\"148.5\" y1=\"371.7422\" y2=\"371.7422\"/><text fill=\"#000000\" font-family=\"sans-serif\" font-size=\"11\" font-weight=\"bold\" lengthAdjust=\"spacingAndGlyphs\" textLength=\"46\" x=\"38.5\" y=\"402.7573\">require</text><text fill=\"#000000\" font-family=\"sans-serif\" font-size=\"11\" lengthAdjust=\"spacingAndGlyphs\" textLength=\"6\" x=\"88.5\" y=\"402.7573\">c</text><text fill=\"#000000\" font-family=\"sans-serif\" font-size=\"11\" font-style=\"italic\" lengthAdjust=\"spacingAndGlyphs\" textLength=\"46\" x=\"38.5\" y=\"415.562\">assume</text><text fill=\"#000000\" font-family=\"sans-serif\" font-size=\"11\" lengthAdjust=\"spacingAndGlyphs\" textLength=\"29\" x=\"88.5\" y=\"415.562\">c1: C</text><line style=\"stroke: #383838; stroke-width: 1.0;\" x1=\"33.5\" x2=\"59\" y1=\"386.1445\" y2=\"386.1445\"/><text fill=\"#000000\" font-family=\"sans-serif\" font-size=\"11\" lengthAdjust=\"spacingAndGlyphs\" textLength=\"64\" x=\"59\" y=\"389.4526\">constraints</text><line style=\"stroke: #383838; stroke-width: 1.0;\" x1=\"123\" x2=\"148.5\" y1=\"386.1445\" y2=\"386.1445\"/></a><!--MD5=[270fce915f116d4de14055a7c1d9a0f3]\n",
       "class E5--><a href=\"psysml:c7a4f64d-f76e-4f11-bab9-561a5696e580\" target=\"_top\" title=\"psysml:c7a4f64d-f76e-4f11-bab9-561a5696e580\" xlink:actuate=\"onRequest\" xlink:href=\"psysml:c7a4f64d-f76e-4f11-bab9-561a5696e580\" xlink:show=\"new\" xlink:title=\"psysml:c7a4f64d-f76e-4f11-bab9-561a5696e580\" xlink:type=\"simple\"><rect fill=\"#FFFFFF\" height=\"66.7422\" id=\"E5\" style=\"stroke: #383838; stroke-width: 1.5;\" width=\"117\" x=\"32.5\" y=\"483\"/><text fill=\"#000000\" font-family=\"sans-serif\" font-size=\"12\" font-style=\"italic\" lengthAdjust=\"spacingAndGlyphs\" textLength=\"115\" x=\"33.5\" y=\"499.1387\">«requirement def»</text><text fill=\"#000000\" font-family=\"sans-serif\" font-size=\"12\" lengthAdjust=\"spacingAndGlyphs\" textLength=\"5\" x=\"78\" y=\"513.1074\">[</text><text fill=\"#000000\" font-family=\"sans-serif\" font-size=\"12\" font-weight=\"bold\" lengthAdjust=\"spacingAndGlyphs\" textLength=\"8\" x=\"83\" y=\"513.1074\">1</text><text fill=\"#000000\" font-family=\"sans-serif\" font-size=\"12\" lengthAdjust=\"spacingAndGlyphs\" textLength=\"17\" x=\"91\" y=\"513.1074\">] A</text><line style=\"stroke: #383838; stroke-width: 1.5;\" x1=\"33.5\" x2=\"148.5\" y1=\"520.9375\" y2=\"520.9375\"/><text fill=\"#000000\" font-family=\"sans-serif\" font-size=\"11\" lengthAdjust=\"spacingAndGlyphs\" textLength=\"24\" x=\"38.5\" y=\"535.1479\">Text</text><line style=\"stroke: #383838; stroke-width: 1.0;\" x1=\"33.5\" x2=\"148.5\" y1=\"541.7422\" y2=\"541.7422\"/></a><!--MD5=[b9389687b975829384b498ac4b7476b2]\n",
       "class E8--><a href=\"psysml:165156c7-6d13-47e8-9214-4efd9fbee902\" target=\"_top\" title=\"psysml:165156c7-6d13-47e8-9214-4efd9fbee902\" xlink:actuate=\"onRequest\" xlink:href=\"psysml:165156c7-6d13-47e8-9214-4efd9fbee902\" xlink:show=\"new\" xlink:title=\"psysml:165156c7-6d13-47e8-9214-4efd9fbee902\" xlink:type=\"simple\"><rect fill=\"#FFFFFF\" height=\"45.9375\" id=\"E8\" rx=\"10\" ry=\"10\" style=\"stroke: #383838; stroke-width: 1.5;\" width=\"93\" x=\"184.5\" y=\"493.5\"/><text fill=\"#000000\" font-family=\"sans-serif\" font-size=\"12\" font-style=\"italic\" lengthAdjust=\"spacingAndGlyphs\" textLength=\"91\" x=\"185.5\" y=\"509.6387\">«requirement»</text><text fill=\"#000000\" font-family=\"sans-serif\" font-size=\"12\" lengthAdjust=\"spacingAndGlyphs\" text-decoration=\"line-through\" textLength=\"51\" x=\"205.5\" y=\"523.6074\">noname</text><line style=\"stroke: #383838; stroke-width: 1.5;\" x1=\"185.5\" x2=\"276.5\" y1=\"531.4375\" y2=\"531.4375\"/></a><!--MD5=[fd4143e9d270a159db93a4ea2a975926]\n",
       "class E9--><a href=\"psysml:5b4d3eaf-f72e-4f96-998b-f4a0a57df239\" target=\"_top\" title=\"psysml:5b4d3eaf-f72e-4f96-998b-f4a0a57df239\" xlink:actuate=\"onRequest\" xlink:href=\"psysml:5b4d3eaf-f72e-4f96-998b-f4a0a57df239\" xlink:show=\"new\" xlink:title=\"psysml:5b4d3eaf-f72e-4f96-998b-f4a0a57df239\" xlink:type=\"simple\"><rect fill=\"#FFFFFF\" height=\"88.3516\" id=\"E9\" style=\"stroke: #383838; stroke-width: 1.5;\" width=\"145\" x=\"109.5\" y=\"41\"/><text fill=\"#000000\" font-family=\"sans-serif\" font-size=\"12\" font-style=\"italic\" lengthAdjust=\"spacingAndGlyphs\" textLength=\"115\" x=\"124.5\" y=\"57.1387\">«requirement def»</text><text fill=\"#000000\" font-family=\"sans-serif\" font-size=\"12\" lengthAdjust=\"spacingAndGlyphs\" textLength=\"16\" x=\"174\" y=\"71.1074\">R1</text><line style=\"stroke: #383838; stroke-width: 1.5;\" x1=\"110.5\" x2=\"253.5\" y1=\"78.9375\" y2=\"78.9375\"/><text fill=\"#000000\" font-family=\"sans-serif\" font-size=\"11\" font-weight=\"bold\" lengthAdjust=\"spacingAndGlyphs\" textLength=\"46\" x=\"115.5\" y=\"109.9526\">require</text><text fill=\"#000000\" font-family=\"sans-serif\" font-size=\"11\" lengthAdjust=\"spacingAndGlyphs\" textLength=\"13\" x=\"165.5\" y=\"109.9526\">c1</text><text fill=\"#000000\" font-family=\"sans-serif\" font-size=\"11\" font-style=\"italic\" lengthAdjust=\"spacingAndGlyphs\" textLength=\"133\" x=\"115.5\" y=\"122.7573\">:&gt;&gt;RequirementTest::c</text><line style=\"stroke: #383838; stroke-width: 1.0;\" x1=\"110.5\" x2=\"150\" y1=\"93.3398\" y2=\"93.3398\"/><text fill=\"#000000\" font-family=\"sans-serif\" font-size=\"11\" lengthAdjust=\"spacingAndGlyphs\" textLength=\"64\" x=\"150\" y=\"96.6479\">constraints</text><line style=\"stroke: #383838; stroke-width: 1.0;\" x1=\"214\" x2=\"253.5\" y1=\"93.3398\" y2=\"93.3398\"/></a><!--MD5=[1dd1bfd58a279cf63c5f349dbc8fc6a1]\n",
       "class E11--><a href=\"psysml:8fb932f6-fc92-43ad-aa0e-8cfa7b71c9b3\" target=\"_top\" title=\"psysml:8fb932f6-fc92-43ad-aa0e-8cfa7b71c9b3\" xlink:actuate=\"onRequest\" xlink:href=\"psysml:8fb932f6-fc92-43ad-aa0e-8cfa7b71c9b3\" xlink:show=\"new\" xlink:title=\"psysml:8fb932f6-fc92-43ad-aa0e-8cfa7b71c9b3\" xlink:type=\"simple\"><rect fill=\"#FFFFFF\" height=\"45.9375\" id=\"E11\" rx=\"10\" ry=\"10\" style=\"stroke: #383838; stroke-width: 1.5;\" width=\"42\" x=\"185\" y=\"344.5\"/><text fill=\"#000000\" font-family=\"sans-serif\" font-size=\"12\" font-style=\"italic\" lengthAdjust=\"spacingAndGlyphs\" textLength=\"40\" x=\"186\" y=\"360.6387\">«part»</text><text fill=\"#000000\" font-family=\"sans-serif\" font-size=\"12\" lengthAdjust=\"spacingAndGlyphs\" textLength=\"8\" x=\"202\" y=\"374.6074\">p</text><line style=\"stroke: #383838; stroke-width: 1.5;\" x1=\"186\" x2=\"226\" y1=\"382.4375\" y2=\"382.4375\"/></a><!--MD5=[49a0ec8f00dab7302a31f22d0f0fe584]\n",
       "class E12--><a href=\"psysml:9b734dfd-0e44-4ae0-bd37-d0a03d4a12cd\" target=\"_top\" title=\"psysml:9b734dfd-0e44-4ae0-bd37-d0a03d4a12cd\" xlink:actuate=\"onRequest\" xlink:href=\"psysml:9b734dfd-0e44-4ae0-bd37-d0a03d4a12cd\" xlink:show=\"new\" xlink:title=\"psysml:9b734dfd-0e44-4ae0-bd37-d0a03d4a12cd\" xlink:type=\"simple\"><rect fill=\"#FFFFFF\" height=\"45.9375\" id=\"E12\" rx=\"10\" ry=\"10\" style=\"stroke: #383838; stroke-width: 1.5;\" width=\"42\" x=\"32\" y=\"62\"/><text fill=\"#000000\" font-family=\"sans-serif\" font-size=\"12\" font-style=\"italic\" lengthAdjust=\"spacingAndGlyphs\" textLength=\"40\" x=\"33\" y=\"78.1387\">«part»</text><text fill=\"#000000\" font-family=\"sans-serif\" font-size=\"12\" lengthAdjust=\"spacingAndGlyphs\" textLength=\"8\" x=\"49\" y=\"92.1074\">q</text><line style=\"stroke: #383838; stroke-width: 1.5;\" x1=\"33\" x2=\"73\" y1=\"99.9375\" y2=\"99.9375\"/></a><!--MD5=[ee3c913d1a06f366521f9ef512b67efe]\n",
       "class E13--><a href=\"psysml:5a1cae69-7149-47dc-88a9-208fdbfbba4b\" target=\"_top\" title=\"psysml:5a1cae69-7149-47dc-88a9-208fdbfbba4b\" xlink:actuate=\"onRequest\" xlink:href=\"psysml:5a1cae69-7149-47dc-88a9-208fdbfbba4b\" xlink:show=\"new\" xlink:title=\"psysml:5a1cae69-7149-47dc-88a9-208fdbfbba4b\" xlink:type=\"simple\"><rect fill=\"#FFFFFF\" height=\"45.9375\" id=\"E13\" rx=\"10\" ry=\"10\" style=\"stroke: #383838; stroke-width: 1.5;\" width=\"93\" x=\"44.5\" y=\"190\"/><text fill=\"#000000\" font-family=\"sans-serif\" font-size=\"12\" font-style=\"italic\" lengthAdjust=\"spacingAndGlyphs\" textLength=\"91\" x=\"45.5\" y=\"206.1387\">«requirement»</text><text fill=\"#000000\" font-family=\"sans-serif\" font-size=\"12\" lengthAdjust=\"spacingAndGlyphs\" textLength=\"21\" x=\"80.5\" y=\"220.1074\">r: R</text><line style=\"stroke: #383838; stroke-width: 1.5;\" x1=\"45.5\" x2=\"136.5\" y1=\"227.9375\" y2=\"227.9375\"/></a><!--MD5=[05d275557350bfb9b23a4ef7222b4c39]\n",
       "link E3 to E2--><a href=\"psysml:bb92853b-9a42-4685-9891-57f30cbf18f8\" target=\"_top\" title=\"psysml:bb92853b-9a42-4685-9891-57f30cbf18f8\" xlink:actuate=\"onRequest\" xlink:href=\"psysml:bb92853b-9a42-4685-9891-57f30cbf18f8\" xlink:show=\"new\" xlink:title=\"psysml:bb92853b-9a42-4685-9891-57f30cbf18f8\" xlink:type=\"simple\"><path d=\"M327.88,108.24 C326.26,125.24 323.98,149.19 322.02,169.79 \" fill=\"none\" id=\"E3-&gt;E2\" style=\"stroke: #383838; stroke-width: 1.0;\"/><polygon fill=\"#FFFFFF\" points=\"320.1,189.99,314.9362,170.411,328.8729,171.7407,320.1,189.99\" style=\"stroke: #383838; stroke-width: 1.0;\"/><ellipse cx=\"317.4685\" cy=\"164.9268\" fill=\"#383838\" rx=\"2\" ry=\"2\" style=\"stroke: #383838; stroke-width: 1.0;\"/><ellipse cx=\"327.4233\" cy=\"165.8765\" fill=\"#383838\" rx=\"2\" ry=\"2\" style=\"stroke: #383838; stroke-width: 1.0;\"/></a><!--MD5=[62aa6af11e70f752912c1cb0466f24f7]\n",
       "reverse link E4 to E5--><a href=\"psysml:c7a4f64d-f76e-4f11-bab9-561a5696e580\" target=\"_top\" title=\"psysml:c7a4f64d-f76e-4f11-bab9-561a5696e580\" xlink:actuate=\"onRequest\" xlink:href=\"psysml:c7a4f64d-f76e-4f11-bab9-561a5696e580\" xlink:show=\"new\" xlink:title=\"psysml:c7a4f64d-f76e-4f11-bab9-561a5696e580\" xlink:type=\"simple\"><path d=\"M91,437.45 C91,453.34 91,469.51 91,482.98 \" fill=\"none\" id=\"E4&lt;-E5\" style=\"stroke: #383838; stroke-width: 1.0;\"/><ellipse cx=\"91\" cy=\"430.4\" fill=\"#FFFFFF\" rx=\"8\" ry=\"8\" style=\"stroke: #383838; stroke-width: 1.0;\"/><line style=\"stroke: #383838; stroke-width: 1.0;\" x1=\"91\" x2=\"91\" y1=\"438.4\" y2=\"422.4\"/><line style=\"stroke: #383838; stroke-width: 1.0;\" x1=\"83\" x2=\"99\" y1=\"430.4\" y2=\"430.4\"/></a><!--MD5=[c6fc7cdb0cabde04948078cf183fa696]\n",
       "reverse link E4 to E8--><a href=\"psysml:165156c7-6d13-47e8-9214-4efd9fbee902\" target=\"_top\" title=\"psysml:165156c7-6d13-47e8-9214-4efd9fbee902\" xlink:actuate=\"onRequest\" xlink:href=\"psysml:165156c7-6d13-47e8-9214-4efd9fbee902\" xlink:show=\"new\" xlink:title=\"psysml:165156c7-6d13-47e8-9214-4efd9fbee902\" xlink:type=\"simple\"><path d=\"M151.51,432.04 C172.42,453.99 194.47,477.14 210.03,493.48 \" fill=\"none\" id=\"E4&lt;-E8\" style=\"stroke: #383838; stroke-width: 1.0;\"/><polygon fill=\"#383838\" points=\"142.34,422.4,143.5779,429.5041,150.6116,431.0937,149.3737,423.9897,142.34,422.4\" style=\"stroke: #383838; stroke-width: 1.0;\"/></a><!--MD5=[062ed86c389d1a88f61c6380d0491e17]\n",
       "reverse link E12 to E13--><a href=\"psysml:5a1cae69-7149-47dc-88a9-208fdbfbba4b\" target=\"_top\" title=\"psysml:5a1cae69-7149-47dc-88a9-208fdbfbba4b\" xlink:actuate=\"onRequest\" xlink:href=\"psysml:5a1cae69-7149-47dc-88a9-208fdbfbba4b\" xlink:show=\"new\" xlink:title=\"psysml:5a1cae69-7149-47dc-88a9-208fdbfbba4b\" xlink:type=\"simple\"><path d=\"M63.49,120.8 C70.17,142.92 78.6,170.89 84.36,189.99 \" fill=\"none\" id=\"E12&lt;-E13\" style=\"stroke: #383838; stroke-width: 1.0;\"/><polygon fill=\"#383838\" points=\"59.71,108.24,57.6129,115.1394,63.1751,119.7288,65.2722,112.8294,59.71,108.24\" style=\"stroke: #383838; stroke-width: 1.0;\"/></a><!--MD5=[017847e01ff9a8bd19f247411074f987]\n",
       "link E13 to E4--><a href=\"psysml:9a693856-e1d7-4623-99b4-c4529bf04054\" target=\"_top\" title=\"psysml:9a693856-e1d7-4623-99b4-c4529bf04054\" xlink:actuate=\"onRequest\" xlink:href=\"psysml:9a693856-e1d7-4623-99b4-c4529bf04054\" xlink:show=\"new\" xlink:title=\"psysml:9a693856-e1d7-4623-99b4-c4529bf04054\" xlink:type=\"simple\"><path d=\"M91,236.17 C91,251.17 91,271.91 91,292.44 \" fill=\"none\" id=\"E13-&gt;E4\" style=\"stroke: #383838; stroke-width: 1.0;\"/><polygon fill=\"#FFFFFF\" points=\"91,312.68,84,293.68,98,293.68,91,312.68\" style=\"stroke: #383838; stroke-width: 1.0;\"/><ellipse cx=\"86\" cy=\"287.98\" fill=\"#383838\" rx=\"2\" ry=\"2\" style=\"stroke: #383838; stroke-width: 1.0;\"/><ellipse cx=\"96\" cy=\"287.98\" fill=\"#383838\" rx=\"2\" ry=\"2\" style=\"stroke: #383838; stroke-width: 1.0;\"/></a><!--MD5=[2cfe899c895462254056921bfb67315f]\n",
       "link E13 to E11--><a href=\"psysml:69852053-465c-4b3e-807c-2facd65a229c\" target=\"_top\" title=\"psysml:69852053-465c-4b3e-807c-2facd65a229c\" xlink:actuate=\"onRequest\" xlink:href=\"psysml:69852053-465c-4b3e-807c-2facd65a229c\" xlink:show=\"new\" xlink:title=\"psysml:69852053-465c-4b3e-807c-2facd65a229c\" xlink:type=\"simple\"><path d=\"M108.36,236.29 C123.87,256.28 147.14,286.45 167,313 C173.57,321.78 180.66,331.44 186.97,340.12 \" fill=\"none\" id=\"E13-&gt;E11\" style=\"stroke: #383838; stroke-width: 1.0; stroke-dasharray: 7.0,7.0;\"/><polygon fill=\"#383838\" points=\"189.99,344.28,187.9274,334.6496,187.0474,340.2376,181.4594,339.3576,189.99,344.28\" style=\"stroke: #383838; stroke-width: 1.0;\"/><text fill=\"#000000\" font-family=\"sans-serif\" font-size=\"13\" lengthAdjust=\"spacingAndGlyphs\" textLength=\"57\" x=\"145\" y=\"279.0669\">«satisfy»</text></a><!--MD5=[e02360df1ece708f967c413acadaa16f]\n",
       "@startuml\r\n",
       "skinparam monochrome true\r\n",
       "skinparam classbackgroundcolor white\r\n",
       "skinparam shadowing false\r\n",
       "skinparam wrapWidth 300\r\n",
       "hide circle\r\n",
       "\r\n",
       "package \"RequirementTest\" as E1  [[psysml:7a32e4ca-d886-48d1-a22e-a4337a6af1e2 ]]  {\r\n",
       "comp def \"C\" as E2  <<(T,blue)constraint def>> [[psysml:c5fd5931-ea17-4576-af97-a79679b06835 ]] {\r\n",
       "}\r\n",
       "comp usage \"c: C\" as E3  <<(T,blue)constraint>> [[psysml:23e87db0-b26a-4449-ad29-18415d83eb38 ]] {\r\n",
       "}\r\n",
       "comp def \"R\" as E4  <<(T,blue)requirement def>> [[psysml:aa32b181-0a7a-45c2-8d8e-c84b0489ed31 ]] {\r\n",
       "\r\n",
       "- -\r\n",
       "- - constraints - -\r\n",
       "<b>require</b> c\r\n",
       "<i>assume</i> c1: C\r\n",
       "}\r\n",
       "comp def \" [<b>1</b>] A\" as E5  <<(T,blue)requirement def>> [[psysml:c7a4f64d-f76e-4f11-bab9-561a5696e580 ]] {\r\n",
       "Text\r\n",
       "- -\r\n",
       "}\r\n",
       "comp usage \"<s>noname</s>\" as E8  <<(T,blue)requirement>> [[psysml:165156c7-6d13-47e8-9214-4efd9fbee902 ]] {\r\n",
       "}\r\n",
       "comp def \"R1\" as E9  <<(T,blue)requirement def>> [[psysml:5b4d3eaf-f72e-4f96-998b-f4a0a57df239 ]] {\r\n",
       "- - constraints - -\r\n",
       "<b>require</b> c1\\n//:>>RequirementTest::c// \r\n",
       "}\r\n",
       "comp usage \"p\" as E11  <<(T,blue)part>> [[psysml:8fb932f6-fc92-43ad-aa0e-8cfa7b71c9b3 ]] {\r\n",
       "}\r\n",
       "comp usage \"q\" as E12  <<(T,blue)part>> [[psysml:9b734dfd-0e44-4ae0-bd37-d0a03d4a12cd ]] {\r\n",
       "}\r\n",
       "comp usage \"r: R\" as E13  <<(T,blue)requirement>> [[psysml:5a1cae69-7149-47dc-88a9-208fdbfbba4b ]] {\r\n",
       "}\r\n",
       "E3 - -:|> E2 [[psysml:bb92853b-9a42-4685-9891-57f30cbf18f8 ]] \r\n",
       "E4 +- - E5 [[psysml:c7a4f64d-f76e-4f11-bab9-561a5696e580 ]] \r\n",
       "E4 *- - E8 [[psysml:165156c7-6d13-47e8-9214-4efd9fbee902 ]] \r\n",
       "E12 *- - E13 [[psysml:5a1cae69-7149-47dc-88a9-208fdbfbba4b ]] \r\n",
       "E13 - -:|> E4 [[psysml:9a693856-e1d7-4623-99b4-c4529bf04054 ]] \r\n",
       "E13 ..> E11 [[psysml:69852053-465c-4b3e-807c-2facd65a229c ]] : <<satisfy>>\r\n",
       "}\r\n",
       "@enduml\r\n",
       "\n",
       "PlantUML version 1.2020.13(Sat Jun 13 12:26:38 UTC 2020)\n",
       "(EPL source distribution)\n",
       "Java Runtime: OpenJDK Runtime Environment\n",
       "JVM: OpenJDK 64-Bit Server VM\n",
       "Default Encoding: UTF-8\n",
       "Language: en\n",
       "Country: null\n",
       "--></g></svg>"
      ]
     },
     "execution_count": 42,
     "metadata": {},
     "output_type": "execute_result"
    }
   ],
   "source": [
    "%viz --style=\"DEFAULT\" --view=\"Sequence\" \"RequirementTest\""
   ]
  },
  {
   "cell_type": "code",
   "execution_count": 43,
   "id": "guided-wallpaper",
   "metadata": {
    "execution": {
     "iopub.execute_input": "2021-03-25T09:27:14.420045Z",
     "iopub.status.busy": "2021-03-25T09:27:14.418973Z",
     "iopub.status.idle": "2021-03-25T09:27:15.261667Z",
     "shell.execute_reply": "2021-03-25T09:27:15.257898Z"
    }
   },
   "outputs": [
    {
     "data": {
      "image/svg+xml": [
       "<?xml version=\"1.0\" encoding=\"UTF-8\" standalone=\"no\"?><svg xmlns=\"http://www.w3.org/2000/svg\" xmlns:xlink=\"http://www.w3.org/1999/xlink\" contentScriptType=\"application/ecmascript\" contentStyleType=\"text/css\" height=\"578px\" preserveAspectRatio=\"none\" style=\"width:408px;height:578px;\" version=\"1.1\" viewBox=\"0 0 408 578\" width=\"408px\" zoomAndPan=\"magnify\"><defs/><g><!--MD5=[fbc87193dbaf4d95561dea2c320d4a47]\n",
       "cluster E1--><a href=\"psysml:7a32e4ca-d886-48d1-a22e-a4337a6af1e2\" target=\"_top\" title=\"psysml:7a32e4ca-d886-48d1-a22e-a4337a6af1e2\" xlink:actuate=\"onRequest\" xlink:href=\"psysml:7a32e4ca-d886-48d1-a22e-a4337a6af1e2\" xlink:show=\"new\" xlink:title=\"psysml:7a32e4ca-d886-48d1-a22e-a4337a6af1e2\" xlink:type=\"simple\"><polygon fill=\"#FFFFFF\" points=\"16,6,158,6,165,28.2969,386,28.2969,386,566,16,566,16,6\" style=\"stroke: #000000; stroke-width: 1.5;\"/><line style=\"stroke: #000000; stroke-width: 1.5;\" x1=\"16\" x2=\"165\" y1=\"28.2969\" y2=\"28.2969\"/><text fill=\"#000000\" font-family=\"sans-serif\" font-size=\"14\" font-weight=\"bold\" lengthAdjust=\"spacingAndGlyphs\" textLength=\"136\" x=\"20\" y=\"20.9951\">RequirementTest</text></a><!--MD5=[b4997ac47864f28c2f74865a473b2911]\n",
       "class E2--><a href=\"psysml:c5fd5931-ea17-4576-af97-a79679b06835\" target=\"_top\" title=\"psysml:c5fd5931-ea17-4576-af97-a79679b06835\" xlink:actuate=\"onRequest\" xlink:href=\"psysml:c5fd5931-ea17-4576-af97-a79679b06835\" xlink:show=\"new\" xlink:title=\"psysml:c5fd5931-ea17-4576-af97-a79679b06835\" xlink:type=\"simple\"><rect fill=\"#FFFFFF\" height=\"45.9375\" id=\"E2\" style=\"stroke: #383838; stroke-width: 1.5;\" width=\"104\" x=\"266\" y=\"190\"/><text fill=\"#000000\" font-family=\"sans-serif\" font-size=\"12\" font-style=\"italic\" lengthAdjust=\"spacingAndGlyphs\" textLength=\"102\" x=\"267\" y=\"206.1387\">«constraint def»</text><text fill=\"#000000\" font-family=\"sans-serif\" font-size=\"12\" lengthAdjust=\"spacingAndGlyphs\" textLength=\"8\" x=\"314\" y=\"220.1074\">C</text><line style=\"stroke: #383838; stroke-width: 1.5;\" x1=\"267\" x2=\"369\" y1=\"227.9375\" y2=\"227.9375\"/></a><!--MD5=[09b614a08d8cba4a07c9adeb5e0fee81]\n",
       "class E3--><a href=\"psysml:23e87db0-b26a-4449-ad29-18415d83eb38\" target=\"_top\" title=\"psysml:23e87db0-b26a-4449-ad29-18415d83eb38\" xlink:actuate=\"onRequest\" xlink:href=\"psysml:23e87db0-b26a-4449-ad29-18415d83eb38\" xlink:show=\"new\" xlink:title=\"psysml:23e87db0-b26a-4449-ad29-18415d83eb38\" xlink:type=\"simple\"><rect fill=\"#FFFFFF\" height=\"45.9375\" id=\"E3\" rx=\"10\" ry=\"10\" style=\"stroke: #383838; stroke-width: 1.5;\" width=\"80\" x=\"290\" y=\"62\"/><text fill=\"#000000\" font-family=\"sans-serif\" font-size=\"12\" font-style=\"italic\" lengthAdjust=\"spacingAndGlyphs\" textLength=\"78\" x=\"291\" y=\"78.1387\">«constraint»</text><text fill=\"#000000\" font-family=\"sans-serif\" font-size=\"12\" lengthAdjust=\"spacingAndGlyphs\" textLength=\"23\" x=\"318.5\" y=\"92.1074\">c: C</text><line style=\"stroke: #383838; stroke-width: 1.5;\" x1=\"291\" x2=\"369\" y1=\"99.9375\" y2=\"99.9375\"/></a><!--MD5=[ebbe1d658d1005bcc118a6aa81145e00]\n",
       "class E4--><a href=\"psysml:aa32b181-0a7a-45c2-8d8e-c84b0489ed31\" target=\"_top\" title=\"psysml:aa32b181-0a7a-45c2-8d8e-c84b0489ed31\" xlink:actuate=\"onRequest\" xlink:href=\"psysml:aa32b181-0a7a-45c2-8d8e-c84b0489ed31\" xlink:show=\"new\" xlink:title=\"psysml:aa32b181-0a7a-45c2-8d8e-c84b0489ed31\" xlink:type=\"simple\"><rect fill=\"#FFFFFF\" height=\"109.1563\" id=\"E4\" style=\"stroke: #383838; stroke-width: 1.5;\" width=\"117\" x=\"32.5\" y=\"313\"/><text fill=\"#000000\" font-family=\"sans-serif\" font-size=\"12\" font-style=\"italic\" lengthAdjust=\"spacingAndGlyphs\" textLength=\"115\" x=\"33.5\" y=\"329.1387\">«requirement def»</text><text fill=\"#000000\" font-family=\"sans-serif\" font-size=\"12\" lengthAdjust=\"spacingAndGlyphs\" textLength=\"8\" x=\"87\" y=\"343.1074\">R</text><line style=\"stroke: #383838; stroke-width: 1.5;\" x1=\"33.5\" x2=\"148.5\" y1=\"350.9375\" y2=\"350.9375\"/><text fill=\"#000000\" font-family=\"sans-serif\" font-size=\"11\" lengthAdjust=\"spacingAndGlyphs\" textLength=\"0\" x=\"42.5\" y=\"365.1479\"/><line style=\"stroke: #383838; stroke-width: 1.0;\" x1=\"33.5\" x2=\"148.5\" y1=\"371.7422\" y2=\"371.7422\"/><text fill=\"#000000\" font-family=\"sans-serif\" font-size=\"11\" font-weight=\"bold\" lengthAdjust=\"spacingAndGlyphs\" textLength=\"46\" x=\"38.5\" y=\"402.7573\">require</text><text fill=\"#000000\" font-family=\"sans-serif\" font-size=\"11\" lengthAdjust=\"spacingAndGlyphs\" textLength=\"6\" x=\"88.5\" y=\"402.7573\">c</text><text fill=\"#000000\" font-family=\"sans-serif\" font-size=\"11\" font-style=\"italic\" lengthAdjust=\"spacingAndGlyphs\" textLength=\"46\" x=\"38.5\" y=\"415.562\">assume</text><text fill=\"#000000\" font-family=\"sans-serif\" font-size=\"11\" lengthAdjust=\"spacingAndGlyphs\" textLength=\"29\" x=\"88.5\" y=\"415.562\">c1: C</text><line style=\"stroke: #383838; stroke-width: 1.0;\" x1=\"33.5\" x2=\"59\" y1=\"386.1445\" y2=\"386.1445\"/><text fill=\"#000000\" font-family=\"sans-serif\" font-size=\"11\" lengthAdjust=\"spacingAndGlyphs\" textLength=\"64\" x=\"59\" y=\"389.4526\">constraints</text><line style=\"stroke: #383838; stroke-width: 1.0;\" x1=\"123\" x2=\"148.5\" y1=\"386.1445\" y2=\"386.1445\"/></a><!--MD5=[270fce915f116d4de14055a7c1d9a0f3]\n",
       "class E5--><a href=\"psysml:c7a4f64d-f76e-4f11-bab9-561a5696e580\" target=\"_top\" title=\"psysml:c7a4f64d-f76e-4f11-bab9-561a5696e580\" xlink:actuate=\"onRequest\" xlink:href=\"psysml:c7a4f64d-f76e-4f11-bab9-561a5696e580\" xlink:show=\"new\" xlink:title=\"psysml:c7a4f64d-f76e-4f11-bab9-561a5696e580\" xlink:type=\"simple\"><rect fill=\"#FFFFFF\" height=\"66.7422\" id=\"E5\" style=\"stroke: #383838; stroke-width: 1.5;\" width=\"117\" x=\"32.5\" y=\"483\"/><text fill=\"#000000\" font-family=\"sans-serif\" font-size=\"12\" font-style=\"italic\" lengthAdjust=\"spacingAndGlyphs\" textLength=\"115\" x=\"33.5\" y=\"499.1387\">«requirement def»</text><text fill=\"#000000\" font-family=\"sans-serif\" font-size=\"12\" lengthAdjust=\"spacingAndGlyphs\" textLength=\"5\" x=\"78\" y=\"513.1074\">[</text><text fill=\"#000000\" font-family=\"sans-serif\" font-size=\"12\" font-weight=\"bold\" lengthAdjust=\"spacingAndGlyphs\" textLength=\"8\" x=\"83\" y=\"513.1074\">1</text><text fill=\"#000000\" font-family=\"sans-serif\" font-size=\"12\" lengthAdjust=\"spacingAndGlyphs\" textLength=\"17\" x=\"91\" y=\"513.1074\">] A</text><line style=\"stroke: #383838; stroke-width: 1.5;\" x1=\"33.5\" x2=\"148.5\" y1=\"520.9375\" y2=\"520.9375\"/><text fill=\"#000000\" font-family=\"sans-serif\" font-size=\"11\" lengthAdjust=\"spacingAndGlyphs\" textLength=\"24\" x=\"38.5\" y=\"535.1479\">Text</text><line style=\"stroke: #383838; stroke-width: 1.0;\" x1=\"33.5\" x2=\"148.5\" y1=\"541.7422\" y2=\"541.7422\"/></a><!--MD5=[b9389687b975829384b498ac4b7476b2]\n",
       "class E8--><a href=\"psysml:165156c7-6d13-47e8-9214-4efd9fbee902\" target=\"_top\" title=\"psysml:165156c7-6d13-47e8-9214-4efd9fbee902\" xlink:actuate=\"onRequest\" xlink:href=\"psysml:165156c7-6d13-47e8-9214-4efd9fbee902\" xlink:show=\"new\" xlink:title=\"psysml:165156c7-6d13-47e8-9214-4efd9fbee902\" xlink:type=\"simple\"><rect fill=\"#FFFFFF\" height=\"45.9375\" id=\"E8\" rx=\"10\" ry=\"10\" style=\"stroke: #383838; stroke-width: 1.5;\" width=\"93\" x=\"184.5\" y=\"493.5\"/><text fill=\"#000000\" font-family=\"sans-serif\" font-size=\"12\" font-style=\"italic\" lengthAdjust=\"spacingAndGlyphs\" textLength=\"91\" x=\"185.5\" y=\"509.6387\">«requirement»</text><text fill=\"#000000\" font-family=\"sans-serif\" font-size=\"12\" lengthAdjust=\"spacingAndGlyphs\" text-decoration=\"line-through\" textLength=\"51\" x=\"205.5\" y=\"523.6074\">noname</text><line style=\"stroke: #383838; stroke-width: 1.5;\" x1=\"185.5\" x2=\"276.5\" y1=\"531.4375\" y2=\"531.4375\"/></a><!--MD5=[fd4143e9d270a159db93a4ea2a975926]\n",
       "class E9--><a href=\"psysml:5b4d3eaf-f72e-4f96-998b-f4a0a57df239\" target=\"_top\" title=\"psysml:5b4d3eaf-f72e-4f96-998b-f4a0a57df239\" xlink:actuate=\"onRequest\" xlink:href=\"psysml:5b4d3eaf-f72e-4f96-998b-f4a0a57df239\" xlink:show=\"new\" xlink:title=\"psysml:5b4d3eaf-f72e-4f96-998b-f4a0a57df239\" xlink:type=\"simple\"><rect fill=\"#FFFFFF\" height=\"88.3516\" id=\"E9\" style=\"stroke: #383838; stroke-width: 1.5;\" width=\"145\" x=\"109.5\" y=\"41\"/><text fill=\"#000000\" font-family=\"sans-serif\" font-size=\"12\" font-style=\"italic\" lengthAdjust=\"spacingAndGlyphs\" textLength=\"115\" x=\"124.5\" y=\"57.1387\">«requirement def»</text><text fill=\"#000000\" font-family=\"sans-serif\" font-size=\"12\" lengthAdjust=\"spacingAndGlyphs\" textLength=\"16\" x=\"174\" y=\"71.1074\">R1</text><line style=\"stroke: #383838; stroke-width: 1.5;\" x1=\"110.5\" x2=\"253.5\" y1=\"78.9375\" y2=\"78.9375\"/><text fill=\"#000000\" font-family=\"sans-serif\" font-size=\"11\" font-weight=\"bold\" lengthAdjust=\"spacingAndGlyphs\" textLength=\"46\" x=\"115.5\" y=\"109.9526\">require</text><text fill=\"#000000\" font-family=\"sans-serif\" font-size=\"11\" lengthAdjust=\"spacingAndGlyphs\" textLength=\"13\" x=\"165.5\" y=\"109.9526\">c1</text><text fill=\"#000000\" font-family=\"sans-serif\" font-size=\"11\" font-style=\"italic\" lengthAdjust=\"spacingAndGlyphs\" textLength=\"133\" x=\"115.5\" y=\"122.7573\">:&gt;&gt;RequirementTest::c</text><line style=\"stroke: #383838; stroke-width: 1.0;\" x1=\"110.5\" x2=\"150\" y1=\"93.3398\" y2=\"93.3398\"/><text fill=\"#000000\" font-family=\"sans-serif\" font-size=\"11\" lengthAdjust=\"spacingAndGlyphs\" textLength=\"64\" x=\"150\" y=\"96.6479\">constraints</text><line style=\"stroke: #383838; stroke-width: 1.0;\" x1=\"214\" x2=\"253.5\" y1=\"93.3398\" y2=\"93.3398\"/></a><!--MD5=[1dd1bfd58a279cf63c5f349dbc8fc6a1]\n",
       "class E11--><a href=\"psysml:8fb932f6-fc92-43ad-aa0e-8cfa7b71c9b3\" target=\"_top\" title=\"psysml:8fb932f6-fc92-43ad-aa0e-8cfa7b71c9b3\" xlink:actuate=\"onRequest\" xlink:href=\"psysml:8fb932f6-fc92-43ad-aa0e-8cfa7b71c9b3\" xlink:show=\"new\" xlink:title=\"psysml:8fb932f6-fc92-43ad-aa0e-8cfa7b71c9b3\" xlink:type=\"simple\"><rect fill=\"#FFFFFF\" height=\"45.9375\" id=\"E11\" rx=\"10\" ry=\"10\" style=\"stroke: #383838; stroke-width: 1.5;\" width=\"42\" x=\"185\" y=\"344.5\"/><text fill=\"#000000\" font-family=\"sans-serif\" font-size=\"12\" font-style=\"italic\" lengthAdjust=\"spacingAndGlyphs\" textLength=\"40\" x=\"186\" y=\"360.6387\">«part»</text><text fill=\"#000000\" font-family=\"sans-serif\" font-size=\"12\" lengthAdjust=\"spacingAndGlyphs\" textLength=\"8\" x=\"202\" y=\"374.6074\">p</text><line style=\"stroke: #383838; stroke-width: 1.5;\" x1=\"186\" x2=\"226\" y1=\"382.4375\" y2=\"382.4375\"/></a><!--MD5=[49a0ec8f00dab7302a31f22d0f0fe584]\n",
       "class E12--><a href=\"psysml:9b734dfd-0e44-4ae0-bd37-d0a03d4a12cd\" target=\"_top\" title=\"psysml:9b734dfd-0e44-4ae0-bd37-d0a03d4a12cd\" xlink:actuate=\"onRequest\" xlink:href=\"psysml:9b734dfd-0e44-4ae0-bd37-d0a03d4a12cd\" xlink:show=\"new\" xlink:title=\"psysml:9b734dfd-0e44-4ae0-bd37-d0a03d4a12cd\" xlink:type=\"simple\"><rect fill=\"#FFFFFF\" height=\"45.9375\" id=\"E12\" rx=\"10\" ry=\"10\" style=\"stroke: #383838; stroke-width: 1.5;\" width=\"42\" x=\"32\" y=\"62\"/><text fill=\"#000000\" font-family=\"sans-serif\" font-size=\"12\" font-style=\"italic\" lengthAdjust=\"spacingAndGlyphs\" textLength=\"40\" x=\"33\" y=\"78.1387\">«part»</text><text fill=\"#000000\" font-family=\"sans-serif\" font-size=\"12\" lengthAdjust=\"spacingAndGlyphs\" textLength=\"8\" x=\"49\" y=\"92.1074\">q</text><line style=\"stroke: #383838; stroke-width: 1.5;\" x1=\"33\" x2=\"73\" y1=\"99.9375\" y2=\"99.9375\"/></a><!--MD5=[ee3c913d1a06f366521f9ef512b67efe]\n",
       "class E13--><a href=\"psysml:5a1cae69-7149-47dc-88a9-208fdbfbba4b\" target=\"_top\" title=\"psysml:5a1cae69-7149-47dc-88a9-208fdbfbba4b\" xlink:actuate=\"onRequest\" xlink:href=\"psysml:5a1cae69-7149-47dc-88a9-208fdbfbba4b\" xlink:show=\"new\" xlink:title=\"psysml:5a1cae69-7149-47dc-88a9-208fdbfbba4b\" xlink:type=\"simple\"><rect fill=\"#FFFFFF\" height=\"45.9375\" id=\"E13\" rx=\"10\" ry=\"10\" style=\"stroke: #383838; stroke-width: 1.5;\" width=\"93\" x=\"44.5\" y=\"190\"/><text fill=\"#000000\" font-family=\"sans-serif\" font-size=\"12\" font-style=\"italic\" lengthAdjust=\"spacingAndGlyphs\" textLength=\"91\" x=\"45.5\" y=\"206.1387\">«requirement»</text><text fill=\"#000000\" font-family=\"sans-serif\" font-size=\"12\" lengthAdjust=\"spacingAndGlyphs\" textLength=\"21\" x=\"80.5\" y=\"220.1074\">r: R</text><line style=\"stroke: #383838; stroke-width: 1.5;\" x1=\"45.5\" x2=\"136.5\" y1=\"227.9375\" y2=\"227.9375\"/></a><!--MD5=[05d275557350bfb9b23a4ef7222b4c39]\n",
       "link E3 to E2--><a href=\"psysml:bb92853b-9a42-4685-9891-57f30cbf18f8\" target=\"_top\" title=\"psysml:bb92853b-9a42-4685-9891-57f30cbf18f8\" xlink:actuate=\"onRequest\" xlink:href=\"psysml:bb92853b-9a42-4685-9891-57f30cbf18f8\" xlink:show=\"new\" xlink:title=\"psysml:bb92853b-9a42-4685-9891-57f30cbf18f8\" xlink:type=\"simple\"><path d=\"M327.88,108.24 C326.26,125.24 323.98,149.19 322.02,169.79 \" fill=\"none\" id=\"E3-&gt;E2\" style=\"stroke: #383838; stroke-width: 1.0;\"/><polygon fill=\"#FFFFFF\" points=\"320.1,189.99,314.9362,170.411,328.8729,171.7407,320.1,189.99\" style=\"stroke: #383838; stroke-width: 1.0;\"/><ellipse cx=\"317.4685\" cy=\"164.9268\" fill=\"#383838\" rx=\"2\" ry=\"2\" style=\"stroke: #383838; stroke-width: 1.0;\"/><ellipse cx=\"327.4233\" cy=\"165.8765\" fill=\"#383838\" rx=\"2\" ry=\"2\" style=\"stroke: #383838; stroke-width: 1.0;\"/></a><!--MD5=[62aa6af11e70f752912c1cb0466f24f7]\n",
       "reverse link E4 to E5--><a href=\"psysml:c7a4f64d-f76e-4f11-bab9-561a5696e580\" target=\"_top\" title=\"psysml:c7a4f64d-f76e-4f11-bab9-561a5696e580\" xlink:actuate=\"onRequest\" xlink:href=\"psysml:c7a4f64d-f76e-4f11-bab9-561a5696e580\" xlink:show=\"new\" xlink:title=\"psysml:c7a4f64d-f76e-4f11-bab9-561a5696e580\" xlink:type=\"simple\"><path d=\"M91,437.45 C91,453.34 91,469.51 91,482.98 \" fill=\"none\" id=\"E4&lt;-E5\" style=\"stroke: #383838; stroke-width: 1.0;\"/><ellipse cx=\"91\" cy=\"430.4\" fill=\"#FFFFFF\" rx=\"8\" ry=\"8\" style=\"stroke: #383838; stroke-width: 1.0;\"/><line style=\"stroke: #383838; stroke-width: 1.0;\" x1=\"91\" x2=\"91\" y1=\"438.4\" y2=\"422.4\"/><line style=\"stroke: #383838; stroke-width: 1.0;\" x1=\"83\" x2=\"99\" y1=\"430.4\" y2=\"430.4\"/></a><!--MD5=[c6fc7cdb0cabde04948078cf183fa696]\n",
       "reverse link E4 to E8--><a href=\"psysml:165156c7-6d13-47e8-9214-4efd9fbee902\" target=\"_top\" title=\"psysml:165156c7-6d13-47e8-9214-4efd9fbee902\" xlink:actuate=\"onRequest\" xlink:href=\"psysml:165156c7-6d13-47e8-9214-4efd9fbee902\" xlink:show=\"new\" xlink:title=\"psysml:165156c7-6d13-47e8-9214-4efd9fbee902\" xlink:type=\"simple\"><path d=\"M151.51,432.04 C172.42,453.99 194.47,477.14 210.03,493.48 \" fill=\"none\" id=\"E4&lt;-E8\" style=\"stroke: #383838; stroke-width: 1.0;\"/><polygon fill=\"#383838\" points=\"142.34,422.4,143.5779,429.5041,150.6116,431.0937,149.3737,423.9897,142.34,422.4\" style=\"stroke: #383838; stroke-width: 1.0;\"/></a><!--MD5=[062ed86c389d1a88f61c6380d0491e17]\n",
       "reverse link E12 to E13--><a href=\"psysml:5a1cae69-7149-47dc-88a9-208fdbfbba4b\" target=\"_top\" title=\"psysml:5a1cae69-7149-47dc-88a9-208fdbfbba4b\" xlink:actuate=\"onRequest\" xlink:href=\"psysml:5a1cae69-7149-47dc-88a9-208fdbfbba4b\" xlink:show=\"new\" xlink:title=\"psysml:5a1cae69-7149-47dc-88a9-208fdbfbba4b\" xlink:type=\"simple\"><path d=\"M63.49,120.8 C70.17,142.92 78.6,170.89 84.36,189.99 \" fill=\"none\" id=\"E12&lt;-E13\" style=\"stroke: #383838; stroke-width: 1.0;\"/><polygon fill=\"#383838\" points=\"59.71,108.24,57.6129,115.1394,63.1751,119.7288,65.2722,112.8294,59.71,108.24\" style=\"stroke: #383838; stroke-width: 1.0;\"/></a><!--MD5=[017847e01ff9a8bd19f247411074f987]\n",
       "link E13 to E4--><a href=\"psysml:9a693856-e1d7-4623-99b4-c4529bf04054\" target=\"_top\" title=\"psysml:9a693856-e1d7-4623-99b4-c4529bf04054\" xlink:actuate=\"onRequest\" xlink:href=\"psysml:9a693856-e1d7-4623-99b4-c4529bf04054\" xlink:show=\"new\" xlink:title=\"psysml:9a693856-e1d7-4623-99b4-c4529bf04054\" xlink:type=\"simple\"><path d=\"M91,236.17 C91,251.17 91,271.91 91,292.44 \" fill=\"none\" id=\"E13-&gt;E4\" style=\"stroke: #383838; stroke-width: 1.0;\"/><polygon fill=\"#FFFFFF\" points=\"91,312.68,84,293.68,98,293.68,91,312.68\" style=\"stroke: #383838; stroke-width: 1.0;\"/><ellipse cx=\"86\" cy=\"287.98\" fill=\"#383838\" rx=\"2\" ry=\"2\" style=\"stroke: #383838; stroke-width: 1.0;\"/><ellipse cx=\"96\" cy=\"287.98\" fill=\"#383838\" rx=\"2\" ry=\"2\" style=\"stroke: #383838; stroke-width: 1.0;\"/></a><!--MD5=[2cfe899c895462254056921bfb67315f]\n",
       "link E13 to E11--><a href=\"psysml:69852053-465c-4b3e-807c-2facd65a229c\" target=\"_top\" title=\"psysml:69852053-465c-4b3e-807c-2facd65a229c\" xlink:actuate=\"onRequest\" xlink:href=\"psysml:69852053-465c-4b3e-807c-2facd65a229c\" xlink:show=\"new\" xlink:title=\"psysml:69852053-465c-4b3e-807c-2facd65a229c\" xlink:type=\"simple\"><path d=\"M108.36,236.29 C123.87,256.28 147.14,286.45 167,313 C173.57,321.78 180.66,331.44 186.97,340.12 \" fill=\"none\" id=\"E13-&gt;E11\" style=\"stroke: #383838; stroke-width: 1.0; stroke-dasharray: 7.0,7.0;\"/><polygon fill=\"#383838\" points=\"189.99,344.28,187.9274,334.6496,187.0474,340.2376,181.4594,339.3576,189.99,344.28\" style=\"stroke: #383838; stroke-width: 1.0;\"/><text fill=\"#000000\" font-family=\"sans-serif\" font-size=\"13\" lengthAdjust=\"spacingAndGlyphs\" textLength=\"57\" x=\"145\" y=\"279.0669\">«satisfy»</text></a><!--MD5=[e02360df1ece708f967c413acadaa16f]\n",
       "@startuml\r\n",
       "skinparam monochrome true\r\n",
       "skinparam classbackgroundcolor white\r\n",
       "skinparam shadowing false\r\n",
       "skinparam wrapWidth 300\r\n",
       "hide circle\r\n",
       "\r\n",
       "package \"RequirementTest\" as E1  [[psysml:7a32e4ca-d886-48d1-a22e-a4337a6af1e2 ]]  {\r\n",
       "comp def \"C\" as E2  <<(T,blue)constraint def>> [[psysml:c5fd5931-ea17-4576-af97-a79679b06835 ]] {\r\n",
       "}\r\n",
       "comp usage \"c: C\" as E3  <<(T,blue)constraint>> [[psysml:23e87db0-b26a-4449-ad29-18415d83eb38 ]] {\r\n",
       "}\r\n",
       "comp def \"R\" as E4  <<(T,blue)requirement def>> [[psysml:aa32b181-0a7a-45c2-8d8e-c84b0489ed31 ]] {\r\n",
       "\r\n",
       "- -\r\n",
       "- - constraints - -\r\n",
       "<b>require</b> c\r\n",
       "<i>assume</i> c1: C\r\n",
       "}\r\n",
       "comp def \" [<b>1</b>] A\" as E5  <<(T,blue)requirement def>> [[psysml:c7a4f64d-f76e-4f11-bab9-561a5696e580 ]] {\r\n",
       "Text\r\n",
       "- -\r\n",
       "}\r\n",
       "comp usage \"<s>noname</s>\" as E8  <<(T,blue)requirement>> [[psysml:165156c7-6d13-47e8-9214-4efd9fbee902 ]] {\r\n",
       "}\r\n",
       "comp def \"R1\" as E9  <<(T,blue)requirement def>> [[psysml:5b4d3eaf-f72e-4f96-998b-f4a0a57df239 ]] {\r\n",
       "- - constraints - -\r\n",
       "<b>require</b> c1\\n//:>>RequirementTest::c// \r\n",
       "}\r\n",
       "comp usage \"p\" as E11  <<(T,blue)part>> [[psysml:8fb932f6-fc92-43ad-aa0e-8cfa7b71c9b3 ]] {\r\n",
       "}\r\n",
       "comp usage \"q\" as E12  <<(T,blue)part>> [[psysml:9b734dfd-0e44-4ae0-bd37-d0a03d4a12cd ]] {\r\n",
       "}\r\n",
       "comp usage \"r: R\" as E13  <<(T,blue)requirement>> [[psysml:5a1cae69-7149-47dc-88a9-208fdbfbba4b ]] {\r\n",
       "}\r\n",
       "E3 - -:|> E2 [[psysml:bb92853b-9a42-4685-9891-57f30cbf18f8 ]] \r\n",
       "E4 +- - E5 [[psysml:c7a4f64d-f76e-4f11-bab9-561a5696e580 ]] \r\n",
       "E4 *- - E8 [[psysml:165156c7-6d13-47e8-9214-4efd9fbee902 ]] \r\n",
       "E12 *- - E13 [[psysml:5a1cae69-7149-47dc-88a9-208fdbfbba4b ]] \r\n",
       "E13 - -:|> E4 [[psysml:9a693856-e1d7-4623-99b4-c4529bf04054 ]] \r\n",
       "E13 ..> E11 [[psysml:69852053-465c-4b3e-807c-2facd65a229c ]] : <<satisfy>>\r\n",
       "}\r\n",
       "@enduml\r\n",
       "\n",
       "PlantUML version 1.2020.13(Sat Jun 13 12:26:38 UTC 2020)\n",
       "(EPL source distribution)\n",
       "Java Runtime: OpenJDK Runtime Environment\n",
       "JVM: OpenJDK 64-Bit Server VM\n",
       "Default Encoding: UTF-8\n",
       "Language: en\n",
       "Country: null\n",
       "--></g></svg>"
      ]
     },
     "execution_count": 43,
     "metadata": {},
     "output_type": "execute_result"
    }
   ],
   "source": [
    "%viz --style=\"DEFAULT\" --view=\"MIXED\" \"RequirementTest\""
   ]
  },
  {
   "cell_type": "code",
   "execution_count": 44,
   "id": "labeled-order",
   "metadata": {
    "execution": {
     "iopub.execute_input": "2021-03-25T09:27:15.314832Z",
     "iopub.status.busy": "2021-03-25T09:27:15.314229Z",
     "iopub.status.idle": "2021-03-25T09:27:16.158254Z",
     "shell.execute_reply": "2021-03-25T09:27:16.156356Z"
    }
   },
   "outputs": [
    {
     "data": {
      "image/svg+xml": [
       "<?xml version=\"1.0\" encoding=\"UTF-8\" standalone=\"no\"?><svg xmlns=\"http://www.w3.org/2000/svg\" xmlns:xlink=\"http://www.w3.org/1999/xlink\" contentScriptType=\"application/ecmascript\" contentStyleType=\"text/css\" height=\"578px\" preserveAspectRatio=\"none\" style=\"width:408px;height:578px;\" version=\"1.1\" viewBox=\"0 0 408 578\" width=\"408px\" zoomAndPan=\"magnify\"><defs/><g><!--MD5=[fbc87193dbaf4d95561dea2c320d4a47]\n",
       "cluster E1--><a href=\"psysml:7a32e4ca-d886-48d1-a22e-a4337a6af1e2\" target=\"_top\" title=\"psysml:7a32e4ca-d886-48d1-a22e-a4337a6af1e2\" xlink:actuate=\"onRequest\" xlink:href=\"psysml:7a32e4ca-d886-48d1-a22e-a4337a6af1e2\" xlink:show=\"new\" xlink:title=\"psysml:7a32e4ca-d886-48d1-a22e-a4337a6af1e2\" xlink:type=\"simple\"><polygon fill=\"#FFFFFF\" points=\"16,6,158,6,165,28.2969,386,28.2969,386,566,16,566,16,6\" style=\"stroke: #000000; stroke-width: 1.5;\"/><line style=\"stroke: #000000; stroke-width: 1.5;\" x1=\"16\" x2=\"165\" y1=\"28.2969\" y2=\"28.2969\"/><text fill=\"#000000\" font-family=\"sans-serif\" font-size=\"14\" font-weight=\"bold\" lengthAdjust=\"spacingAndGlyphs\" textLength=\"136\" x=\"20\" y=\"20.9951\">RequirementTest</text></a><!--MD5=[b4997ac47864f28c2f74865a473b2911]\n",
       "class E2--><a href=\"psysml:c5fd5931-ea17-4576-af97-a79679b06835\" target=\"_top\" title=\"psysml:c5fd5931-ea17-4576-af97-a79679b06835\" xlink:actuate=\"onRequest\" xlink:href=\"psysml:c5fd5931-ea17-4576-af97-a79679b06835\" xlink:show=\"new\" xlink:title=\"psysml:c5fd5931-ea17-4576-af97-a79679b06835\" xlink:type=\"simple\"><rect fill=\"#FFFFFF\" height=\"45.9375\" id=\"E2\" style=\"stroke: #383838; stroke-width: 1.5;\" width=\"104\" x=\"266\" y=\"190\"/><text fill=\"#000000\" font-family=\"sans-serif\" font-size=\"12\" font-style=\"italic\" lengthAdjust=\"spacingAndGlyphs\" textLength=\"102\" x=\"267\" y=\"206.1387\">«constraint def»</text><text fill=\"#000000\" font-family=\"sans-serif\" font-size=\"12\" lengthAdjust=\"spacingAndGlyphs\" textLength=\"8\" x=\"314\" y=\"220.1074\">C</text><line style=\"stroke: #383838; stroke-width: 1.5;\" x1=\"267\" x2=\"369\" y1=\"227.9375\" y2=\"227.9375\"/></a><!--MD5=[09b614a08d8cba4a07c9adeb5e0fee81]\n",
       "class E3--><a href=\"psysml:23e87db0-b26a-4449-ad29-18415d83eb38\" target=\"_top\" title=\"psysml:23e87db0-b26a-4449-ad29-18415d83eb38\" xlink:actuate=\"onRequest\" xlink:href=\"psysml:23e87db0-b26a-4449-ad29-18415d83eb38\" xlink:show=\"new\" xlink:title=\"psysml:23e87db0-b26a-4449-ad29-18415d83eb38\" xlink:type=\"simple\"><rect fill=\"#FFFFFF\" height=\"45.9375\" id=\"E3\" rx=\"10\" ry=\"10\" style=\"stroke: #383838; stroke-width: 1.5;\" width=\"80\" x=\"290\" y=\"62\"/><text fill=\"#000000\" font-family=\"sans-serif\" font-size=\"12\" font-style=\"italic\" lengthAdjust=\"spacingAndGlyphs\" textLength=\"78\" x=\"291\" y=\"78.1387\">«constraint»</text><text fill=\"#000000\" font-family=\"sans-serif\" font-size=\"12\" lengthAdjust=\"spacingAndGlyphs\" textLength=\"23\" x=\"318.5\" y=\"92.1074\">c: C</text><line style=\"stroke: #383838; stroke-width: 1.5;\" x1=\"291\" x2=\"369\" y1=\"99.9375\" y2=\"99.9375\"/></a><!--MD5=[ebbe1d658d1005bcc118a6aa81145e00]\n",
       "class E4--><a href=\"psysml:aa32b181-0a7a-45c2-8d8e-c84b0489ed31\" target=\"_top\" title=\"psysml:aa32b181-0a7a-45c2-8d8e-c84b0489ed31\" xlink:actuate=\"onRequest\" xlink:href=\"psysml:aa32b181-0a7a-45c2-8d8e-c84b0489ed31\" xlink:show=\"new\" xlink:title=\"psysml:aa32b181-0a7a-45c2-8d8e-c84b0489ed31\" xlink:type=\"simple\"><rect fill=\"#FFFFFF\" height=\"109.1563\" id=\"E4\" style=\"stroke: #383838; stroke-width: 1.5;\" width=\"117\" x=\"32.5\" y=\"313\"/><text fill=\"#000000\" font-family=\"sans-serif\" font-size=\"12\" font-style=\"italic\" lengthAdjust=\"spacingAndGlyphs\" textLength=\"115\" x=\"33.5\" y=\"329.1387\">«requirement def»</text><text fill=\"#000000\" font-family=\"sans-serif\" font-size=\"12\" lengthAdjust=\"spacingAndGlyphs\" textLength=\"8\" x=\"87\" y=\"343.1074\">R</text><line style=\"stroke: #383838; stroke-width: 1.5;\" x1=\"33.5\" x2=\"148.5\" y1=\"350.9375\" y2=\"350.9375\"/><text fill=\"#000000\" font-family=\"sans-serif\" font-size=\"11\" lengthAdjust=\"spacingAndGlyphs\" textLength=\"0\" x=\"42.5\" y=\"365.1479\"/><line style=\"stroke: #383838; stroke-width: 1.0;\" x1=\"33.5\" x2=\"148.5\" y1=\"371.7422\" y2=\"371.7422\"/><text fill=\"#000000\" font-family=\"sans-serif\" font-size=\"11\" font-weight=\"bold\" lengthAdjust=\"spacingAndGlyphs\" textLength=\"46\" x=\"38.5\" y=\"402.7573\">require</text><text fill=\"#000000\" font-family=\"sans-serif\" font-size=\"11\" lengthAdjust=\"spacingAndGlyphs\" textLength=\"6\" x=\"88.5\" y=\"402.7573\">c</text><text fill=\"#000000\" font-family=\"sans-serif\" font-size=\"11\" font-style=\"italic\" lengthAdjust=\"spacingAndGlyphs\" textLength=\"46\" x=\"38.5\" y=\"415.562\">assume</text><text fill=\"#000000\" font-family=\"sans-serif\" font-size=\"11\" lengthAdjust=\"spacingAndGlyphs\" textLength=\"29\" x=\"88.5\" y=\"415.562\">c1: C</text><line style=\"stroke: #383838; stroke-width: 1.0;\" x1=\"33.5\" x2=\"59\" y1=\"386.1445\" y2=\"386.1445\"/><text fill=\"#000000\" font-family=\"sans-serif\" font-size=\"11\" lengthAdjust=\"spacingAndGlyphs\" textLength=\"64\" x=\"59\" y=\"389.4526\">constraints</text><line style=\"stroke: #383838; stroke-width: 1.0;\" x1=\"123\" x2=\"148.5\" y1=\"386.1445\" y2=\"386.1445\"/></a><!--MD5=[270fce915f116d4de14055a7c1d9a0f3]\n",
       "class E5--><a href=\"psysml:c7a4f64d-f76e-4f11-bab9-561a5696e580\" target=\"_top\" title=\"psysml:c7a4f64d-f76e-4f11-bab9-561a5696e580\" xlink:actuate=\"onRequest\" xlink:href=\"psysml:c7a4f64d-f76e-4f11-bab9-561a5696e580\" xlink:show=\"new\" xlink:title=\"psysml:c7a4f64d-f76e-4f11-bab9-561a5696e580\" xlink:type=\"simple\"><rect fill=\"#FFFFFF\" height=\"66.7422\" id=\"E5\" style=\"stroke: #383838; stroke-width: 1.5;\" width=\"117\" x=\"32.5\" y=\"483\"/><text fill=\"#000000\" font-family=\"sans-serif\" font-size=\"12\" font-style=\"italic\" lengthAdjust=\"spacingAndGlyphs\" textLength=\"115\" x=\"33.5\" y=\"499.1387\">«requirement def»</text><text fill=\"#000000\" font-family=\"sans-serif\" font-size=\"12\" lengthAdjust=\"spacingAndGlyphs\" textLength=\"5\" x=\"78\" y=\"513.1074\">[</text><text fill=\"#000000\" font-family=\"sans-serif\" font-size=\"12\" font-weight=\"bold\" lengthAdjust=\"spacingAndGlyphs\" textLength=\"8\" x=\"83\" y=\"513.1074\">1</text><text fill=\"#000000\" font-family=\"sans-serif\" font-size=\"12\" lengthAdjust=\"spacingAndGlyphs\" textLength=\"17\" x=\"91\" y=\"513.1074\">] A</text><line style=\"stroke: #383838; stroke-width: 1.5;\" x1=\"33.5\" x2=\"148.5\" y1=\"520.9375\" y2=\"520.9375\"/><text fill=\"#000000\" font-family=\"sans-serif\" font-size=\"11\" lengthAdjust=\"spacingAndGlyphs\" textLength=\"24\" x=\"38.5\" y=\"535.1479\">Text</text><line style=\"stroke: #383838; stroke-width: 1.0;\" x1=\"33.5\" x2=\"148.5\" y1=\"541.7422\" y2=\"541.7422\"/></a><!--MD5=[b9389687b975829384b498ac4b7476b2]\n",
       "class E8--><a href=\"psysml:165156c7-6d13-47e8-9214-4efd9fbee902\" target=\"_top\" title=\"psysml:165156c7-6d13-47e8-9214-4efd9fbee902\" xlink:actuate=\"onRequest\" xlink:href=\"psysml:165156c7-6d13-47e8-9214-4efd9fbee902\" xlink:show=\"new\" xlink:title=\"psysml:165156c7-6d13-47e8-9214-4efd9fbee902\" xlink:type=\"simple\"><rect fill=\"#FFFFFF\" height=\"45.9375\" id=\"E8\" rx=\"10\" ry=\"10\" style=\"stroke: #383838; stroke-width: 1.5;\" width=\"93\" x=\"184.5\" y=\"493.5\"/><text fill=\"#000000\" font-family=\"sans-serif\" font-size=\"12\" font-style=\"italic\" lengthAdjust=\"spacingAndGlyphs\" textLength=\"91\" x=\"185.5\" y=\"509.6387\">«requirement»</text><text fill=\"#000000\" font-family=\"sans-serif\" font-size=\"12\" lengthAdjust=\"spacingAndGlyphs\" text-decoration=\"line-through\" textLength=\"51\" x=\"205.5\" y=\"523.6074\">noname</text><line style=\"stroke: #383838; stroke-width: 1.5;\" x1=\"185.5\" x2=\"276.5\" y1=\"531.4375\" y2=\"531.4375\"/></a><!--MD5=[fd4143e9d270a159db93a4ea2a975926]\n",
       "class E9--><a href=\"psysml:5b4d3eaf-f72e-4f96-998b-f4a0a57df239\" target=\"_top\" title=\"psysml:5b4d3eaf-f72e-4f96-998b-f4a0a57df239\" xlink:actuate=\"onRequest\" xlink:href=\"psysml:5b4d3eaf-f72e-4f96-998b-f4a0a57df239\" xlink:show=\"new\" xlink:title=\"psysml:5b4d3eaf-f72e-4f96-998b-f4a0a57df239\" xlink:type=\"simple\"><rect fill=\"#FFFFFF\" height=\"88.3516\" id=\"E9\" style=\"stroke: #383838; stroke-width: 1.5;\" width=\"145\" x=\"109.5\" y=\"41\"/><text fill=\"#000000\" font-family=\"sans-serif\" font-size=\"12\" font-style=\"italic\" lengthAdjust=\"spacingAndGlyphs\" textLength=\"115\" x=\"124.5\" y=\"57.1387\">«requirement def»</text><text fill=\"#000000\" font-family=\"sans-serif\" font-size=\"12\" lengthAdjust=\"spacingAndGlyphs\" textLength=\"16\" x=\"174\" y=\"71.1074\">R1</text><line style=\"stroke: #383838; stroke-width: 1.5;\" x1=\"110.5\" x2=\"253.5\" y1=\"78.9375\" y2=\"78.9375\"/><text fill=\"#000000\" font-family=\"sans-serif\" font-size=\"11\" font-weight=\"bold\" lengthAdjust=\"spacingAndGlyphs\" textLength=\"46\" x=\"115.5\" y=\"109.9526\">require</text><text fill=\"#000000\" font-family=\"sans-serif\" font-size=\"11\" lengthAdjust=\"spacingAndGlyphs\" textLength=\"13\" x=\"165.5\" y=\"109.9526\">c1</text><text fill=\"#000000\" font-family=\"sans-serif\" font-size=\"11\" font-style=\"italic\" lengthAdjust=\"spacingAndGlyphs\" textLength=\"133\" x=\"115.5\" y=\"122.7573\">:&gt;&gt;RequirementTest::c</text><line style=\"stroke: #383838; stroke-width: 1.0;\" x1=\"110.5\" x2=\"150\" y1=\"93.3398\" y2=\"93.3398\"/><text fill=\"#000000\" font-family=\"sans-serif\" font-size=\"11\" lengthAdjust=\"spacingAndGlyphs\" textLength=\"64\" x=\"150\" y=\"96.6479\">constraints</text><line style=\"stroke: #383838; stroke-width: 1.0;\" x1=\"214\" x2=\"253.5\" y1=\"93.3398\" y2=\"93.3398\"/></a><!--MD5=[1dd1bfd58a279cf63c5f349dbc8fc6a1]\n",
       "class E11--><a href=\"psysml:8fb932f6-fc92-43ad-aa0e-8cfa7b71c9b3\" target=\"_top\" title=\"psysml:8fb932f6-fc92-43ad-aa0e-8cfa7b71c9b3\" xlink:actuate=\"onRequest\" xlink:href=\"psysml:8fb932f6-fc92-43ad-aa0e-8cfa7b71c9b3\" xlink:show=\"new\" xlink:title=\"psysml:8fb932f6-fc92-43ad-aa0e-8cfa7b71c9b3\" xlink:type=\"simple\"><rect fill=\"#FFFFFF\" height=\"45.9375\" id=\"E11\" rx=\"10\" ry=\"10\" style=\"stroke: #383838; stroke-width: 1.5;\" width=\"42\" x=\"185\" y=\"344.5\"/><text fill=\"#000000\" font-family=\"sans-serif\" font-size=\"12\" font-style=\"italic\" lengthAdjust=\"spacingAndGlyphs\" textLength=\"40\" x=\"186\" y=\"360.6387\">«part»</text><text fill=\"#000000\" font-family=\"sans-serif\" font-size=\"12\" lengthAdjust=\"spacingAndGlyphs\" textLength=\"8\" x=\"202\" y=\"374.6074\">p</text><line style=\"stroke: #383838; stroke-width: 1.5;\" x1=\"186\" x2=\"226\" y1=\"382.4375\" y2=\"382.4375\"/></a><!--MD5=[49a0ec8f00dab7302a31f22d0f0fe584]\n",
       "class E12--><a href=\"psysml:9b734dfd-0e44-4ae0-bd37-d0a03d4a12cd\" target=\"_top\" title=\"psysml:9b734dfd-0e44-4ae0-bd37-d0a03d4a12cd\" xlink:actuate=\"onRequest\" xlink:href=\"psysml:9b734dfd-0e44-4ae0-bd37-d0a03d4a12cd\" xlink:show=\"new\" xlink:title=\"psysml:9b734dfd-0e44-4ae0-bd37-d0a03d4a12cd\" xlink:type=\"simple\"><rect fill=\"#FFFFFF\" height=\"45.9375\" id=\"E12\" rx=\"10\" ry=\"10\" style=\"stroke: #383838; stroke-width: 1.5;\" width=\"42\" x=\"32\" y=\"62\"/><text fill=\"#000000\" font-family=\"sans-serif\" font-size=\"12\" font-style=\"italic\" lengthAdjust=\"spacingAndGlyphs\" textLength=\"40\" x=\"33\" y=\"78.1387\">«part»</text><text fill=\"#000000\" font-family=\"sans-serif\" font-size=\"12\" lengthAdjust=\"spacingAndGlyphs\" textLength=\"8\" x=\"49\" y=\"92.1074\">q</text><line style=\"stroke: #383838; stroke-width: 1.5;\" x1=\"33\" x2=\"73\" y1=\"99.9375\" y2=\"99.9375\"/></a><!--MD5=[ee3c913d1a06f366521f9ef512b67efe]\n",
       "class E13--><a href=\"psysml:5a1cae69-7149-47dc-88a9-208fdbfbba4b\" target=\"_top\" title=\"psysml:5a1cae69-7149-47dc-88a9-208fdbfbba4b\" xlink:actuate=\"onRequest\" xlink:href=\"psysml:5a1cae69-7149-47dc-88a9-208fdbfbba4b\" xlink:show=\"new\" xlink:title=\"psysml:5a1cae69-7149-47dc-88a9-208fdbfbba4b\" xlink:type=\"simple\"><rect fill=\"#FFFFFF\" height=\"45.9375\" id=\"E13\" rx=\"10\" ry=\"10\" style=\"stroke: #383838; stroke-width: 1.5;\" width=\"93\" x=\"44.5\" y=\"190\"/><text fill=\"#000000\" font-family=\"sans-serif\" font-size=\"12\" font-style=\"italic\" lengthAdjust=\"spacingAndGlyphs\" textLength=\"91\" x=\"45.5\" y=\"206.1387\">«requirement»</text><text fill=\"#000000\" font-family=\"sans-serif\" font-size=\"12\" lengthAdjust=\"spacingAndGlyphs\" textLength=\"21\" x=\"80.5\" y=\"220.1074\">r: R</text><line style=\"stroke: #383838; stroke-width: 1.5;\" x1=\"45.5\" x2=\"136.5\" y1=\"227.9375\" y2=\"227.9375\"/></a><!--MD5=[05d275557350bfb9b23a4ef7222b4c39]\n",
       "link E3 to E2--><a href=\"psysml:bb92853b-9a42-4685-9891-57f30cbf18f8\" target=\"_top\" title=\"psysml:bb92853b-9a42-4685-9891-57f30cbf18f8\" xlink:actuate=\"onRequest\" xlink:href=\"psysml:bb92853b-9a42-4685-9891-57f30cbf18f8\" xlink:show=\"new\" xlink:title=\"psysml:bb92853b-9a42-4685-9891-57f30cbf18f8\" xlink:type=\"simple\"><path d=\"M327.88,108.24 C326.26,125.24 323.98,149.19 322.02,169.79 \" fill=\"none\" id=\"E3-&gt;E2\" style=\"stroke: #383838; stroke-width: 1.0;\"/><polygon fill=\"#FFFFFF\" points=\"320.1,189.99,314.9362,170.411,328.8729,171.7407,320.1,189.99\" style=\"stroke: #383838; stroke-width: 1.0;\"/><ellipse cx=\"317.4685\" cy=\"164.9268\" fill=\"#383838\" rx=\"2\" ry=\"2\" style=\"stroke: #383838; stroke-width: 1.0;\"/><ellipse cx=\"327.4233\" cy=\"165.8765\" fill=\"#383838\" rx=\"2\" ry=\"2\" style=\"stroke: #383838; stroke-width: 1.0;\"/></a><!--MD5=[62aa6af11e70f752912c1cb0466f24f7]\n",
       "reverse link E4 to E5--><a href=\"psysml:c7a4f64d-f76e-4f11-bab9-561a5696e580\" target=\"_top\" title=\"psysml:c7a4f64d-f76e-4f11-bab9-561a5696e580\" xlink:actuate=\"onRequest\" xlink:href=\"psysml:c7a4f64d-f76e-4f11-bab9-561a5696e580\" xlink:show=\"new\" xlink:title=\"psysml:c7a4f64d-f76e-4f11-bab9-561a5696e580\" xlink:type=\"simple\"><path d=\"M91,437.45 C91,453.34 91,469.51 91,482.98 \" fill=\"none\" id=\"E4&lt;-E5\" style=\"stroke: #383838; stroke-width: 1.0;\"/><ellipse cx=\"91\" cy=\"430.4\" fill=\"#FFFFFF\" rx=\"8\" ry=\"8\" style=\"stroke: #383838; stroke-width: 1.0;\"/><line style=\"stroke: #383838; stroke-width: 1.0;\" x1=\"91\" x2=\"91\" y1=\"438.4\" y2=\"422.4\"/><line style=\"stroke: #383838; stroke-width: 1.0;\" x1=\"83\" x2=\"99\" y1=\"430.4\" y2=\"430.4\"/></a><!--MD5=[c6fc7cdb0cabde04948078cf183fa696]\n",
       "reverse link E4 to E8--><a href=\"psysml:165156c7-6d13-47e8-9214-4efd9fbee902\" target=\"_top\" title=\"psysml:165156c7-6d13-47e8-9214-4efd9fbee902\" xlink:actuate=\"onRequest\" xlink:href=\"psysml:165156c7-6d13-47e8-9214-4efd9fbee902\" xlink:show=\"new\" xlink:title=\"psysml:165156c7-6d13-47e8-9214-4efd9fbee902\" xlink:type=\"simple\"><path d=\"M151.51,432.04 C172.42,453.99 194.47,477.14 210.03,493.48 \" fill=\"none\" id=\"E4&lt;-E8\" style=\"stroke: #383838; stroke-width: 1.0;\"/><polygon fill=\"#383838\" points=\"142.34,422.4,143.5779,429.5041,150.6116,431.0937,149.3737,423.9897,142.34,422.4\" style=\"stroke: #383838; stroke-width: 1.0;\"/></a><!--MD5=[062ed86c389d1a88f61c6380d0491e17]\n",
       "reverse link E12 to E13--><a href=\"psysml:5a1cae69-7149-47dc-88a9-208fdbfbba4b\" target=\"_top\" title=\"psysml:5a1cae69-7149-47dc-88a9-208fdbfbba4b\" xlink:actuate=\"onRequest\" xlink:href=\"psysml:5a1cae69-7149-47dc-88a9-208fdbfbba4b\" xlink:show=\"new\" xlink:title=\"psysml:5a1cae69-7149-47dc-88a9-208fdbfbba4b\" xlink:type=\"simple\"><path d=\"M63.49,120.8 C70.17,142.92 78.6,170.89 84.36,189.99 \" fill=\"none\" id=\"E12&lt;-E13\" style=\"stroke: #383838; stroke-width: 1.0;\"/><polygon fill=\"#383838\" points=\"59.71,108.24,57.6129,115.1394,63.1751,119.7288,65.2722,112.8294,59.71,108.24\" style=\"stroke: #383838; stroke-width: 1.0;\"/></a><!--MD5=[017847e01ff9a8bd19f247411074f987]\n",
       "link E13 to E4--><a href=\"psysml:9a693856-e1d7-4623-99b4-c4529bf04054\" target=\"_top\" title=\"psysml:9a693856-e1d7-4623-99b4-c4529bf04054\" xlink:actuate=\"onRequest\" xlink:href=\"psysml:9a693856-e1d7-4623-99b4-c4529bf04054\" xlink:show=\"new\" xlink:title=\"psysml:9a693856-e1d7-4623-99b4-c4529bf04054\" xlink:type=\"simple\"><path d=\"M91,236.17 C91,251.17 91,271.91 91,292.44 \" fill=\"none\" id=\"E13-&gt;E4\" style=\"stroke: #383838; stroke-width: 1.0;\"/><polygon fill=\"#FFFFFF\" points=\"91,312.68,84,293.68,98,293.68,91,312.68\" style=\"stroke: #383838; stroke-width: 1.0;\"/><ellipse cx=\"86\" cy=\"287.98\" fill=\"#383838\" rx=\"2\" ry=\"2\" style=\"stroke: #383838; stroke-width: 1.0;\"/><ellipse cx=\"96\" cy=\"287.98\" fill=\"#383838\" rx=\"2\" ry=\"2\" style=\"stroke: #383838; stroke-width: 1.0;\"/></a><!--MD5=[2cfe899c895462254056921bfb67315f]\n",
       "link E13 to E11--><a href=\"psysml:69852053-465c-4b3e-807c-2facd65a229c\" target=\"_top\" title=\"psysml:69852053-465c-4b3e-807c-2facd65a229c\" xlink:actuate=\"onRequest\" xlink:href=\"psysml:69852053-465c-4b3e-807c-2facd65a229c\" xlink:show=\"new\" xlink:title=\"psysml:69852053-465c-4b3e-807c-2facd65a229c\" xlink:type=\"simple\"><path d=\"M108.36,236.29 C123.87,256.28 147.14,286.45 167,313 C173.57,321.78 180.66,331.44 186.97,340.12 \" fill=\"none\" id=\"E13-&gt;E11\" style=\"stroke: #383838; stroke-width: 1.0; stroke-dasharray: 7.0,7.0;\"/><polygon fill=\"#383838\" points=\"189.99,344.28,187.9274,334.6496,187.0474,340.2376,181.4594,339.3576,189.99,344.28\" style=\"stroke: #383838; stroke-width: 1.0;\"/><text fill=\"#000000\" font-family=\"sans-serif\" font-size=\"13\" lengthAdjust=\"spacingAndGlyphs\" textLength=\"57\" x=\"145\" y=\"279.0669\">«satisfy»</text></a><!--MD5=[80f0e6a433337866075736df662167f1]\n",
       "@startuml\r\n",
       "top to bottom direction\r\n",
       "skinparam monochrome true\r\n",
       "skinparam classbackgroundcolor white\r\n",
       "skinparam shadowing false\r\n",
       "skinparam wrapWidth 300\r\n",
       "hide circle\r\n",
       "\r\n",
       "package \"RequirementTest\" as E1  [[psysml:7a32e4ca-d886-48d1-a22e-a4337a6af1e2 ]]  {\r\n",
       "comp def \"C\" as E2  <<(T,blue)constraint def>> [[psysml:c5fd5931-ea17-4576-af97-a79679b06835 ]] {\r\n",
       "}\r\n",
       "comp usage \"c: C\" as E3  <<(T,blue)constraint>> [[psysml:23e87db0-b26a-4449-ad29-18415d83eb38 ]] {\r\n",
       "}\r\n",
       "comp def \"R\" as E4  <<(T,blue)requirement def>> [[psysml:aa32b181-0a7a-45c2-8d8e-c84b0489ed31 ]] {\r\n",
       "\r\n",
       "- -\r\n",
       "- - constraints - -\r\n",
       "<b>require</b> c\r\n",
       "<i>assume</i> c1: C\r\n",
       "}\r\n",
       "comp def \" [<b>1</b>] A\" as E5  <<(T,blue)requirement def>> [[psysml:c7a4f64d-f76e-4f11-bab9-561a5696e580 ]] {\r\n",
       "Text\r\n",
       "- -\r\n",
       "}\r\n",
       "comp usage \"<s>noname</s>\" as E8  <<(T,blue)requirement>> [[psysml:165156c7-6d13-47e8-9214-4efd9fbee902 ]] {\r\n",
       "}\r\n",
       "comp def \"R1\" as E9  <<(T,blue)requirement def>> [[psysml:5b4d3eaf-f72e-4f96-998b-f4a0a57df239 ]] {\r\n",
       "- - constraints - -\r\n",
       "<b>require</b> c1\\n//:>>RequirementTest::c// \r\n",
       "}\r\n",
       "comp usage \"p\" as E11  <<(T,blue)part>> [[psysml:8fb932f6-fc92-43ad-aa0e-8cfa7b71c9b3 ]] {\r\n",
       "}\r\n",
       "comp usage \"q\" as E12  <<(T,blue)part>> [[psysml:9b734dfd-0e44-4ae0-bd37-d0a03d4a12cd ]] {\r\n",
       "}\r\n",
       "comp usage \"r: R\" as E13  <<(T,blue)requirement>> [[psysml:5a1cae69-7149-47dc-88a9-208fdbfbba4b ]] {\r\n",
       "}\r\n",
       "E3 - -:|> E2 [[psysml:bb92853b-9a42-4685-9891-57f30cbf18f8 ]] \r\n",
       "E4 +- - E5 [[psysml:c7a4f64d-f76e-4f11-bab9-561a5696e580 ]] \r\n",
       "E4 *- - E8 [[psysml:165156c7-6d13-47e8-9214-4efd9fbee902 ]] \r\n",
       "E12 *- - E13 [[psysml:5a1cae69-7149-47dc-88a9-208fdbfbba4b ]] \r\n",
       "E13 - -:|> E4 [[psysml:9a693856-e1d7-4623-99b4-c4529bf04054 ]] \r\n",
       "E13 ..> E11 [[psysml:69852053-465c-4b3e-807c-2facd65a229c ]] : <<satisfy>>\r\n",
       "}\r\n",
       "@enduml\r\n",
       "\n",
       "PlantUML version 1.2020.13(Sat Jun 13 12:26:38 UTC 2020)\n",
       "(EPL source distribution)\n",
       "Java Runtime: OpenJDK Runtime Environment\n",
       "JVM: OpenJDK 64-Bit Server VM\n",
       "Default Encoding: UTF-8\n",
       "Language: en\n",
       "Country: null\n",
       "--></g></svg>"
      ]
     },
     "execution_count": 44,
     "metadata": {},
     "output_type": "execute_result"
    }
   ],
   "source": [
    "%viz --style=\"TB\" --view=\"Default\" \"RequirementTest\""
   ]
  },
  {
   "cell_type": "code",
   "execution_count": 45,
   "id": "diverse-catch",
   "metadata": {
    "execution": {
     "iopub.execute_input": "2021-03-25T09:27:16.209329Z",
     "iopub.status.busy": "2021-03-25T09:27:16.208718Z",
     "iopub.status.idle": "2021-03-25T09:27:17.049626Z",
     "shell.execute_reply": "2021-03-25T09:27:17.048209Z"
    }
   },
   "outputs": [
    {
     "data": {
      "image/svg+xml": [
       "<?xml version=\"1.0\" encoding=\"UTF-8\" standalone=\"no\"?><svg xmlns=\"http://www.w3.org/2000/svg\" xmlns:xlink=\"http://www.w3.org/1999/xlink\" contentScriptType=\"application/ecmascript\" contentStyleType=\"text/css\" height=\"578px\" preserveAspectRatio=\"none\" style=\"width:408px;height:578px;\" version=\"1.1\" viewBox=\"0 0 408 578\" width=\"408px\" zoomAndPan=\"magnify\"><defs/><g><!--MD5=[fbc87193dbaf4d95561dea2c320d4a47]\n",
       "cluster E1--><a href=\"psysml:7a32e4ca-d886-48d1-a22e-a4337a6af1e2\" target=\"_top\" title=\"psysml:7a32e4ca-d886-48d1-a22e-a4337a6af1e2\" xlink:actuate=\"onRequest\" xlink:href=\"psysml:7a32e4ca-d886-48d1-a22e-a4337a6af1e2\" xlink:show=\"new\" xlink:title=\"psysml:7a32e4ca-d886-48d1-a22e-a4337a6af1e2\" xlink:type=\"simple\"><polygon fill=\"#FFFFFF\" points=\"16,6,158,6,165,28.2969,386,28.2969,386,566,16,566,16,6\" style=\"stroke: #000000; stroke-width: 1.5;\"/><line style=\"stroke: #000000; stroke-width: 1.5;\" x1=\"16\" x2=\"165\" y1=\"28.2969\" y2=\"28.2969\"/><text fill=\"#000000\" font-family=\"sans-serif\" font-size=\"14\" font-weight=\"bold\" lengthAdjust=\"spacingAndGlyphs\" textLength=\"136\" x=\"20\" y=\"20.9951\">RequirementTest</text></a><!--MD5=[b4997ac47864f28c2f74865a473b2911]\n",
       "class E2--><a href=\"psysml:c5fd5931-ea17-4576-af97-a79679b06835\" target=\"_top\" title=\"psysml:c5fd5931-ea17-4576-af97-a79679b06835\" xlink:actuate=\"onRequest\" xlink:href=\"psysml:c5fd5931-ea17-4576-af97-a79679b06835\" xlink:show=\"new\" xlink:title=\"psysml:c5fd5931-ea17-4576-af97-a79679b06835\" xlink:type=\"simple\"><rect fill=\"#FFFFFF\" height=\"45.9375\" id=\"E2\" style=\"stroke: #383838; stroke-width: 1.5;\" width=\"104\" x=\"266\" y=\"190\"/><text fill=\"#000000\" font-family=\"sans-serif\" font-size=\"12\" font-style=\"italic\" lengthAdjust=\"spacingAndGlyphs\" textLength=\"102\" x=\"267\" y=\"206.1387\">«constraint def»</text><text fill=\"#000000\" font-family=\"sans-serif\" font-size=\"12\" lengthAdjust=\"spacingAndGlyphs\" textLength=\"8\" x=\"314\" y=\"220.1074\">C</text><line style=\"stroke: #383838; stroke-width: 1.5;\" x1=\"267\" x2=\"369\" y1=\"227.9375\" y2=\"227.9375\"/></a><!--MD5=[09b614a08d8cba4a07c9adeb5e0fee81]\n",
       "class E3--><a href=\"psysml:23e87db0-b26a-4449-ad29-18415d83eb38\" target=\"_top\" title=\"psysml:23e87db0-b26a-4449-ad29-18415d83eb38\" xlink:actuate=\"onRequest\" xlink:href=\"psysml:23e87db0-b26a-4449-ad29-18415d83eb38\" xlink:show=\"new\" xlink:title=\"psysml:23e87db0-b26a-4449-ad29-18415d83eb38\" xlink:type=\"simple\"><rect fill=\"#FFFFFF\" height=\"45.9375\" id=\"E3\" rx=\"10\" ry=\"10\" style=\"stroke: #383838; stroke-width: 1.5;\" width=\"80\" x=\"290\" y=\"62\"/><text fill=\"#000000\" font-family=\"sans-serif\" font-size=\"12\" font-style=\"italic\" lengthAdjust=\"spacingAndGlyphs\" textLength=\"78\" x=\"291\" y=\"78.1387\">«constraint»</text><text fill=\"#000000\" font-family=\"sans-serif\" font-size=\"12\" lengthAdjust=\"spacingAndGlyphs\" textLength=\"23\" x=\"318.5\" y=\"92.1074\">c: C</text><line style=\"stroke: #383838; stroke-width: 1.5;\" x1=\"291\" x2=\"369\" y1=\"99.9375\" y2=\"99.9375\"/></a><!--MD5=[ebbe1d658d1005bcc118a6aa81145e00]\n",
       "class E4--><a href=\"psysml:aa32b181-0a7a-45c2-8d8e-c84b0489ed31\" target=\"_top\" title=\"psysml:aa32b181-0a7a-45c2-8d8e-c84b0489ed31\" xlink:actuate=\"onRequest\" xlink:href=\"psysml:aa32b181-0a7a-45c2-8d8e-c84b0489ed31\" xlink:show=\"new\" xlink:title=\"psysml:aa32b181-0a7a-45c2-8d8e-c84b0489ed31\" xlink:type=\"simple\"><rect fill=\"#FFFFFF\" height=\"109.1563\" id=\"E4\" style=\"stroke: #383838; stroke-width: 1.5;\" width=\"117\" x=\"32.5\" y=\"313\"/><text fill=\"#000000\" font-family=\"sans-serif\" font-size=\"12\" font-style=\"italic\" lengthAdjust=\"spacingAndGlyphs\" textLength=\"115\" x=\"33.5\" y=\"329.1387\">«requirement def»</text><text fill=\"#000000\" font-family=\"sans-serif\" font-size=\"12\" lengthAdjust=\"spacingAndGlyphs\" textLength=\"8\" x=\"87\" y=\"343.1074\">R</text><line style=\"stroke: #383838; stroke-width: 1.5;\" x1=\"33.5\" x2=\"148.5\" y1=\"350.9375\" y2=\"350.9375\"/><text fill=\"#000000\" font-family=\"sans-serif\" font-size=\"11\" lengthAdjust=\"spacingAndGlyphs\" textLength=\"0\" x=\"42.5\" y=\"365.1479\"/><line style=\"stroke: #383838; stroke-width: 1.0;\" x1=\"33.5\" x2=\"148.5\" y1=\"371.7422\" y2=\"371.7422\"/><text fill=\"#000000\" font-family=\"sans-serif\" font-size=\"11\" font-weight=\"bold\" lengthAdjust=\"spacingAndGlyphs\" textLength=\"46\" x=\"38.5\" y=\"402.7573\">require</text><text fill=\"#000000\" font-family=\"sans-serif\" font-size=\"11\" lengthAdjust=\"spacingAndGlyphs\" textLength=\"6\" x=\"88.5\" y=\"402.7573\">c</text><text fill=\"#000000\" font-family=\"sans-serif\" font-size=\"11\" font-style=\"italic\" lengthAdjust=\"spacingAndGlyphs\" textLength=\"46\" x=\"38.5\" y=\"415.562\">assume</text><text fill=\"#000000\" font-family=\"sans-serif\" font-size=\"11\" lengthAdjust=\"spacingAndGlyphs\" textLength=\"29\" x=\"88.5\" y=\"415.562\">c1: C</text><line style=\"stroke: #383838; stroke-width: 1.0;\" x1=\"33.5\" x2=\"59\" y1=\"386.1445\" y2=\"386.1445\"/><text fill=\"#000000\" font-family=\"sans-serif\" font-size=\"11\" lengthAdjust=\"spacingAndGlyphs\" textLength=\"64\" x=\"59\" y=\"389.4526\">constraints</text><line style=\"stroke: #383838; stroke-width: 1.0;\" x1=\"123\" x2=\"148.5\" y1=\"386.1445\" y2=\"386.1445\"/></a><!--MD5=[270fce915f116d4de14055a7c1d9a0f3]\n",
       "class E5--><a href=\"psysml:c7a4f64d-f76e-4f11-bab9-561a5696e580\" target=\"_top\" title=\"psysml:c7a4f64d-f76e-4f11-bab9-561a5696e580\" xlink:actuate=\"onRequest\" xlink:href=\"psysml:c7a4f64d-f76e-4f11-bab9-561a5696e580\" xlink:show=\"new\" xlink:title=\"psysml:c7a4f64d-f76e-4f11-bab9-561a5696e580\" xlink:type=\"simple\"><rect fill=\"#FFFFFF\" height=\"66.7422\" id=\"E5\" style=\"stroke: #383838; stroke-width: 1.5;\" width=\"117\" x=\"32.5\" y=\"483\"/><text fill=\"#000000\" font-family=\"sans-serif\" font-size=\"12\" font-style=\"italic\" lengthAdjust=\"spacingAndGlyphs\" textLength=\"115\" x=\"33.5\" y=\"499.1387\">«requirement def»</text><text fill=\"#000000\" font-family=\"sans-serif\" font-size=\"12\" lengthAdjust=\"spacingAndGlyphs\" textLength=\"5\" x=\"78\" y=\"513.1074\">[</text><text fill=\"#000000\" font-family=\"sans-serif\" font-size=\"12\" font-weight=\"bold\" lengthAdjust=\"spacingAndGlyphs\" textLength=\"8\" x=\"83\" y=\"513.1074\">1</text><text fill=\"#000000\" font-family=\"sans-serif\" font-size=\"12\" lengthAdjust=\"spacingAndGlyphs\" textLength=\"17\" x=\"91\" y=\"513.1074\">] A</text><line style=\"stroke: #383838; stroke-width: 1.5;\" x1=\"33.5\" x2=\"148.5\" y1=\"520.9375\" y2=\"520.9375\"/><text fill=\"#000000\" font-family=\"sans-serif\" font-size=\"11\" lengthAdjust=\"spacingAndGlyphs\" textLength=\"24\" x=\"38.5\" y=\"535.1479\">Text</text><line style=\"stroke: #383838; stroke-width: 1.0;\" x1=\"33.5\" x2=\"148.5\" y1=\"541.7422\" y2=\"541.7422\"/></a><!--MD5=[b9389687b975829384b498ac4b7476b2]\n",
       "class E8--><a href=\"psysml:165156c7-6d13-47e8-9214-4efd9fbee902\" target=\"_top\" title=\"psysml:165156c7-6d13-47e8-9214-4efd9fbee902\" xlink:actuate=\"onRequest\" xlink:href=\"psysml:165156c7-6d13-47e8-9214-4efd9fbee902\" xlink:show=\"new\" xlink:title=\"psysml:165156c7-6d13-47e8-9214-4efd9fbee902\" xlink:type=\"simple\"><rect fill=\"#FFFFFF\" height=\"45.9375\" id=\"E8\" rx=\"10\" ry=\"10\" style=\"stroke: #383838; stroke-width: 1.5;\" width=\"93\" x=\"184.5\" y=\"493.5\"/><text fill=\"#000000\" font-family=\"sans-serif\" font-size=\"12\" font-style=\"italic\" lengthAdjust=\"spacingAndGlyphs\" textLength=\"91\" x=\"185.5\" y=\"509.6387\">«requirement»</text><text fill=\"#000000\" font-family=\"sans-serif\" font-size=\"12\" lengthAdjust=\"spacingAndGlyphs\" text-decoration=\"line-through\" textLength=\"51\" x=\"205.5\" y=\"523.6074\">noname</text><line style=\"stroke: #383838; stroke-width: 1.5;\" x1=\"185.5\" x2=\"276.5\" y1=\"531.4375\" y2=\"531.4375\"/></a><!--MD5=[fd4143e9d270a159db93a4ea2a975926]\n",
       "class E9--><a href=\"psysml:5b4d3eaf-f72e-4f96-998b-f4a0a57df239\" target=\"_top\" title=\"psysml:5b4d3eaf-f72e-4f96-998b-f4a0a57df239\" xlink:actuate=\"onRequest\" xlink:href=\"psysml:5b4d3eaf-f72e-4f96-998b-f4a0a57df239\" xlink:show=\"new\" xlink:title=\"psysml:5b4d3eaf-f72e-4f96-998b-f4a0a57df239\" xlink:type=\"simple\"><rect fill=\"#FFFFFF\" height=\"88.3516\" id=\"E9\" style=\"stroke: #383838; stroke-width: 1.5;\" width=\"145\" x=\"109.5\" y=\"41\"/><text fill=\"#000000\" font-family=\"sans-serif\" font-size=\"12\" font-style=\"italic\" lengthAdjust=\"spacingAndGlyphs\" textLength=\"115\" x=\"124.5\" y=\"57.1387\">«requirement def»</text><text fill=\"#000000\" font-family=\"sans-serif\" font-size=\"12\" lengthAdjust=\"spacingAndGlyphs\" textLength=\"16\" x=\"174\" y=\"71.1074\">R1</text><line style=\"stroke: #383838; stroke-width: 1.5;\" x1=\"110.5\" x2=\"253.5\" y1=\"78.9375\" y2=\"78.9375\"/><text fill=\"#000000\" font-family=\"sans-serif\" font-size=\"11\" font-weight=\"bold\" lengthAdjust=\"spacingAndGlyphs\" textLength=\"46\" x=\"115.5\" y=\"109.9526\">require</text><text fill=\"#000000\" font-family=\"sans-serif\" font-size=\"11\" lengthAdjust=\"spacingAndGlyphs\" textLength=\"13\" x=\"165.5\" y=\"109.9526\">c1</text><text fill=\"#000000\" font-family=\"sans-serif\" font-size=\"11\" font-style=\"italic\" lengthAdjust=\"spacingAndGlyphs\" textLength=\"133\" x=\"115.5\" y=\"122.7573\">:&gt;&gt;RequirementTest::c</text><line style=\"stroke: #383838; stroke-width: 1.0;\" x1=\"110.5\" x2=\"150\" y1=\"93.3398\" y2=\"93.3398\"/><text fill=\"#000000\" font-family=\"sans-serif\" font-size=\"11\" lengthAdjust=\"spacingAndGlyphs\" textLength=\"64\" x=\"150\" y=\"96.6479\">constraints</text><line style=\"stroke: #383838; stroke-width: 1.0;\" x1=\"214\" x2=\"253.5\" y1=\"93.3398\" y2=\"93.3398\"/></a><!--MD5=[1dd1bfd58a279cf63c5f349dbc8fc6a1]\n",
       "class E11--><a href=\"psysml:8fb932f6-fc92-43ad-aa0e-8cfa7b71c9b3\" target=\"_top\" title=\"psysml:8fb932f6-fc92-43ad-aa0e-8cfa7b71c9b3\" xlink:actuate=\"onRequest\" xlink:href=\"psysml:8fb932f6-fc92-43ad-aa0e-8cfa7b71c9b3\" xlink:show=\"new\" xlink:title=\"psysml:8fb932f6-fc92-43ad-aa0e-8cfa7b71c9b3\" xlink:type=\"simple\"><rect fill=\"#FFFFFF\" height=\"45.9375\" id=\"E11\" rx=\"10\" ry=\"10\" style=\"stroke: #383838; stroke-width: 1.5;\" width=\"42\" x=\"185\" y=\"344.5\"/><text fill=\"#000000\" font-family=\"sans-serif\" font-size=\"12\" font-style=\"italic\" lengthAdjust=\"spacingAndGlyphs\" textLength=\"40\" x=\"186\" y=\"360.6387\">«part»</text><text fill=\"#000000\" font-family=\"sans-serif\" font-size=\"12\" lengthAdjust=\"spacingAndGlyphs\" textLength=\"8\" x=\"202\" y=\"374.6074\">p</text><line style=\"stroke: #383838; stroke-width: 1.5;\" x1=\"186\" x2=\"226\" y1=\"382.4375\" y2=\"382.4375\"/></a><!--MD5=[49a0ec8f00dab7302a31f22d0f0fe584]\n",
       "class E12--><a href=\"psysml:9b734dfd-0e44-4ae0-bd37-d0a03d4a12cd\" target=\"_top\" title=\"psysml:9b734dfd-0e44-4ae0-bd37-d0a03d4a12cd\" xlink:actuate=\"onRequest\" xlink:href=\"psysml:9b734dfd-0e44-4ae0-bd37-d0a03d4a12cd\" xlink:show=\"new\" xlink:title=\"psysml:9b734dfd-0e44-4ae0-bd37-d0a03d4a12cd\" xlink:type=\"simple\"><rect fill=\"#FFFFFF\" height=\"45.9375\" id=\"E12\" rx=\"10\" ry=\"10\" style=\"stroke: #383838; stroke-width: 1.5;\" width=\"42\" x=\"32\" y=\"62\"/><text fill=\"#000000\" font-family=\"sans-serif\" font-size=\"12\" font-style=\"italic\" lengthAdjust=\"spacingAndGlyphs\" textLength=\"40\" x=\"33\" y=\"78.1387\">«part»</text><text fill=\"#000000\" font-family=\"sans-serif\" font-size=\"12\" lengthAdjust=\"spacingAndGlyphs\" textLength=\"8\" x=\"49\" y=\"92.1074\">q</text><line style=\"stroke: #383838; stroke-width: 1.5;\" x1=\"33\" x2=\"73\" y1=\"99.9375\" y2=\"99.9375\"/></a><!--MD5=[ee3c913d1a06f366521f9ef512b67efe]\n",
       "class E13--><a href=\"psysml:5a1cae69-7149-47dc-88a9-208fdbfbba4b\" target=\"_top\" title=\"psysml:5a1cae69-7149-47dc-88a9-208fdbfbba4b\" xlink:actuate=\"onRequest\" xlink:href=\"psysml:5a1cae69-7149-47dc-88a9-208fdbfbba4b\" xlink:show=\"new\" xlink:title=\"psysml:5a1cae69-7149-47dc-88a9-208fdbfbba4b\" xlink:type=\"simple\"><rect fill=\"#FFFFFF\" height=\"45.9375\" id=\"E13\" rx=\"10\" ry=\"10\" style=\"stroke: #383838; stroke-width: 1.5;\" width=\"93\" x=\"44.5\" y=\"190\"/><text fill=\"#000000\" font-family=\"sans-serif\" font-size=\"12\" font-style=\"italic\" lengthAdjust=\"spacingAndGlyphs\" textLength=\"91\" x=\"45.5\" y=\"206.1387\">«requirement»</text><text fill=\"#000000\" font-family=\"sans-serif\" font-size=\"12\" lengthAdjust=\"spacingAndGlyphs\" textLength=\"21\" x=\"80.5\" y=\"220.1074\">r: R</text><line style=\"stroke: #383838; stroke-width: 1.5;\" x1=\"45.5\" x2=\"136.5\" y1=\"227.9375\" y2=\"227.9375\"/></a><!--MD5=[05d275557350bfb9b23a4ef7222b4c39]\n",
       "link E3 to E2--><a href=\"psysml:bb92853b-9a42-4685-9891-57f30cbf18f8\" target=\"_top\" title=\"psysml:bb92853b-9a42-4685-9891-57f30cbf18f8\" xlink:actuate=\"onRequest\" xlink:href=\"psysml:bb92853b-9a42-4685-9891-57f30cbf18f8\" xlink:show=\"new\" xlink:title=\"psysml:bb92853b-9a42-4685-9891-57f30cbf18f8\" xlink:type=\"simple\"><path d=\"M327.88,108.24 C326.26,125.24 323.98,149.19 322.02,169.79 \" fill=\"none\" id=\"E3-&gt;E2\" style=\"stroke: #383838; stroke-width: 1.0;\"/><polygon fill=\"#FFFFFF\" points=\"320.1,189.99,314.9362,170.411,328.8729,171.7407,320.1,189.99\" style=\"stroke: #383838; stroke-width: 1.0;\"/><ellipse cx=\"317.4685\" cy=\"164.9268\" fill=\"#383838\" rx=\"2\" ry=\"2\" style=\"stroke: #383838; stroke-width: 1.0;\"/><ellipse cx=\"327.4233\" cy=\"165.8765\" fill=\"#383838\" rx=\"2\" ry=\"2\" style=\"stroke: #383838; stroke-width: 1.0;\"/></a><!--MD5=[62aa6af11e70f752912c1cb0466f24f7]\n",
       "reverse link E4 to E5--><a href=\"psysml:c7a4f64d-f76e-4f11-bab9-561a5696e580\" target=\"_top\" title=\"psysml:c7a4f64d-f76e-4f11-bab9-561a5696e580\" xlink:actuate=\"onRequest\" xlink:href=\"psysml:c7a4f64d-f76e-4f11-bab9-561a5696e580\" xlink:show=\"new\" xlink:title=\"psysml:c7a4f64d-f76e-4f11-bab9-561a5696e580\" xlink:type=\"simple\"><path d=\"M91,437.45 C91,453.34 91,469.51 91,482.98 \" fill=\"none\" id=\"E4&lt;-E5\" style=\"stroke: #383838; stroke-width: 1.0;\"/><ellipse cx=\"91\" cy=\"430.4\" fill=\"#FFFFFF\" rx=\"8\" ry=\"8\" style=\"stroke: #383838; stroke-width: 1.0;\"/><line style=\"stroke: #383838; stroke-width: 1.0;\" x1=\"91\" x2=\"91\" y1=\"438.4\" y2=\"422.4\"/><line style=\"stroke: #383838; stroke-width: 1.0;\" x1=\"83\" x2=\"99\" y1=\"430.4\" y2=\"430.4\"/></a><!--MD5=[c6fc7cdb0cabde04948078cf183fa696]\n",
       "reverse link E4 to E8--><a href=\"psysml:165156c7-6d13-47e8-9214-4efd9fbee902\" target=\"_top\" title=\"psysml:165156c7-6d13-47e8-9214-4efd9fbee902\" xlink:actuate=\"onRequest\" xlink:href=\"psysml:165156c7-6d13-47e8-9214-4efd9fbee902\" xlink:show=\"new\" xlink:title=\"psysml:165156c7-6d13-47e8-9214-4efd9fbee902\" xlink:type=\"simple\"><path d=\"M151.51,432.04 C172.42,453.99 194.47,477.14 210.03,493.48 \" fill=\"none\" id=\"E4&lt;-E8\" style=\"stroke: #383838; stroke-width: 1.0;\"/><polygon fill=\"#383838\" points=\"142.34,422.4,143.5779,429.5041,150.6116,431.0937,149.3737,423.9897,142.34,422.4\" style=\"stroke: #383838; stroke-width: 1.0;\"/></a><!--MD5=[062ed86c389d1a88f61c6380d0491e17]\n",
       "reverse link E12 to E13--><a href=\"psysml:5a1cae69-7149-47dc-88a9-208fdbfbba4b\" target=\"_top\" title=\"psysml:5a1cae69-7149-47dc-88a9-208fdbfbba4b\" xlink:actuate=\"onRequest\" xlink:href=\"psysml:5a1cae69-7149-47dc-88a9-208fdbfbba4b\" xlink:show=\"new\" xlink:title=\"psysml:5a1cae69-7149-47dc-88a9-208fdbfbba4b\" xlink:type=\"simple\"><path d=\"M63.49,120.8 C70.17,142.92 78.6,170.89 84.36,189.99 \" fill=\"none\" id=\"E12&lt;-E13\" style=\"stroke: #383838; stroke-width: 1.0;\"/><polygon fill=\"#383838\" points=\"59.71,108.24,57.6129,115.1394,63.1751,119.7288,65.2722,112.8294,59.71,108.24\" style=\"stroke: #383838; stroke-width: 1.0;\"/></a><!--MD5=[017847e01ff9a8bd19f247411074f987]\n",
       "link E13 to E4--><a href=\"psysml:9a693856-e1d7-4623-99b4-c4529bf04054\" target=\"_top\" title=\"psysml:9a693856-e1d7-4623-99b4-c4529bf04054\" xlink:actuate=\"onRequest\" xlink:href=\"psysml:9a693856-e1d7-4623-99b4-c4529bf04054\" xlink:show=\"new\" xlink:title=\"psysml:9a693856-e1d7-4623-99b4-c4529bf04054\" xlink:type=\"simple\"><path d=\"M91,236.17 C91,251.17 91,271.91 91,292.44 \" fill=\"none\" id=\"E13-&gt;E4\" style=\"stroke: #383838; stroke-width: 1.0;\"/><polygon fill=\"#FFFFFF\" points=\"91,312.68,84,293.68,98,293.68,91,312.68\" style=\"stroke: #383838; stroke-width: 1.0;\"/><ellipse cx=\"86\" cy=\"287.98\" fill=\"#383838\" rx=\"2\" ry=\"2\" style=\"stroke: #383838; stroke-width: 1.0;\"/><ellipse cx=\"96\" cy=\"287.98\" fill=\"#383838\" rx=\"2\" ry=\"2\" style=\"stroke: #383838; stroke-width: 1.0;\"/></a><!--MD5=[2cfe899c895462254056921bfb67315f]\n",
       "link E13 to E11--><a href=\"psysml:69852053-465c-4b3e-807c-2facd65a229c\" target=\"_top\" title=\"psysml:69852053-465c-4b3e-807c-2facd65a229c\" xlink:actuate=\"onRequest\" xlink:href=\"psysml:69852053-465c-4b3e-807c-2facd65a229c\" xlink:show=\"new\" xlink:title=\"psysml:69852053-465c-4b3e-807c-2facd65a229c\" xlink:type=\"simple\"><path d=\"M108.36,236.29 C123.87,256.28 147.14,286.45 167,313 C173.57,321.78 180.66,331.44 186.97,340.12 \" fill=\"none\" id=\"E13-&gt;E11\" style=\"stroke: #383838; stroke-width: 1.0; stroke-dasharray: 7.0,7.0;\"/><polygon fill=\"#383838\" points=\"189.99,344.28,187.9274,334.6496,187.0474,340.2376,181.4594,339.3576,189.99,344.28\" style=\"stroke: #383838; stroke-width: 1.0;\"/><text fill=\"#000000\" font-family=\"sans-serif\" font-size=\"13\" lengthAdjust=\"spacingAndGlyphs\" textLength=\"57\" x=\"145\" y=\"279.0669\">«satisfy»</text></a><!--MD5=[80f0e6a433337866075736df662167f1]\n",
       "@startuml\r\n",
       "top to bottom direction\r\n",
       "skinparam monochrome true\r\n",
       "skinparam classbackgroundcolor white\r\n",
       "skinparam shadowing false\r\n",
       "skinparam wrapWidth 300\r\n",
       "hide circle\r\n",
       "\r\n",
       "package \"RequirementTest\" as E1  [[psysml:7a32e4ca-d886-48d1-a22e-a4337a6af1e2 ]]  {\r\n",
       "comp def \"C\" as E2  <<(T,blue)constraint def>> [[psysml:c5fd5931-ea17-4576-af97-a79679b06835 ]] {\r\n",
       "}\r\n",
       "comp usage \"c: C\" as E3  <<(T,blue)constraint>> [[psysml:23e87db0-b26a-4449-ad29-18415d83eb38 ]] {\r\n",
       "}\r\n",
       "comp def \"R\" as E4  <<(T,blue)requirement def>> [[psysml:aa32b181-0a7a-45c2-8d8e-c84b0489ed31 ]] {\r\n",
       "\r\n",
       "- -\r\n",
       "- - constraints - -\r\n",
       "<b>require</b> c\r\n",
       "<i>assume</i> c1: C\r\n",
       "}\r\n",
       "comp def \" [<b>1</b>] A\" as E5  <<(T,blue)requirement def>> [[psysml:c7a4f64d-f76e-4f11-bab9-561a5696e580 ]] {\r\n",
       "Text\r\n",
       "- -\r\n",
       "}\r\n",
       "comp usage \"<s>noname</s>\" as E8  <<(T,blue)requirement>> [[psysml:165156c7-6d13-47e8-9214-4efd9fbee902 ]] {\r\n",
       "}\r\n",
       "comp def \"R1\" as E9  <<(T,blue)requirement def>> [[psysml:5b4d3eaf-f72e-4f96-998b-f4a0a57df239 ]] {\r\n",
       "- - constraints - -\r\n",
       "<b>require</b> c1\\n//:>>RequirementTest::c// \r\n",
       "}\r\n",
       "comp usage \"p\" as E11  <<(T,blue)part>> [[psysml:8fb932f6-fc92-43ad-aa0e-8cfa7b71c9b3 ]] {\r\n",
       "}\r\n",
       "comp usage \"q\" as E12  <<(T,blue)part>> [[psysml:9b734dfd-0e44-4ae0-bd37-d0a03d4a12cd ]] {\r\n",
       "}\r\n",
       "comp usage \"r: R\" as E13  <<(T,blue)requirement>> [[psysml:5a1cae69-7149-47dc-88a9-208fdbfbba4b ]] {\r\n",
       "}\r\n",
       "E3 - -:|> E2 [[psysml:bb92853b-9a42-4685-9891-57f30cbf18f8 ]] \r\n",
       "E4 +- - E5 [[psysml:c7a4f64d-f76e-4f11-bab9-561a5696e580 ]] \r\n",
       "E4 *- - E8 [[psysml:165156c7-6d13-47e8-9214-4efd9fbee902 ]] \r\n",
       "E12 *- - E13 [[psysml:5a1cae69-7149-47dc-88a9-208fdbfbba4b ]] \r\n",
       "E13 - -:|> E4 [[psysml:9a693856-e1d7-4623-99b4-c4529bf04054 ]] \r\n",
       "E13 ..> E11 [[psysml:69852053-465c-4b3e-807c-2facd65a229c ]] : <<satisfy>>\r\n",
       "}\r\n",
       "@enduml\r\n",
       "\n",
       "PlantUML version 1.2020.13(Sat Jun 13 12:26:38 UTC 2020)\n",
       "(EPL source distribution)\n",
       "Java Runtime: OpenJDK Runtime Environment\n",
       "JVM: OpenJDK 64-Bit Server VM\n",
       "Default Encoding: UTF-8\n",
       "Language: en\n",
       "Country: null\n",
       "--></g></svg>"
      ]
     },
     "execution_count": 45,
     "metadata": {},
     "output_type": "execute_result"
    }
   ],
   "source": [
    "%viz --style=\"TB\" --view=\"Tree\" \"RequirementTest\""
   ]
  },
  {
   "cell_type": "code",
   "execution_count": 46,
   "id": "automotive-comedy",
   "metadata": {
    "execution": {
     "iopub.execute_input": "2021-03-25T09:27:17.099746Z",
     "iopub.status.busy": "2021-03-25T09:27:17.099336Z",
     "iopub.status.idle": "2021-03-25T09:27:17.105268Z",
     "shell.execute_reply": "2021-03-25T09:27:17.104928Z"
    }
   },
   "outputs": [
    {
     "data": {
      "image/svg+xml": [
       "<?xml version=\"1.0\" encoding=\"UTF-8\" standalone=\"no\"?><svg xmlns=\"http://www.w3.org/2000/svg\" xmlns:xlink=\"http://www.w3.org/1999/xlink\" contentScriptType=\"application/ecmascript\" contentStyleType=\"text/css\" height=\"12px\" preserveAspectRatio=\"none\" style=\"width:12px;height:12px;\" version=\"1.1\" viewBox=\"0 0 12 12\" width=\"12px\" zoomAndPan=\"magnify\"><defs/><g><!--MD5=[f4ee21bc66e489b5061b7c3e9601fdef]\n",
       "@startuml\r\n",
       "top to bottom direction\r\n",
       "skinparam monochrome true\r\n",
       "skinparam classbackgroundcolor white\r\n",
       "skinparam shadowing false\r\n",
       "skinparam wrapWidth 300\r\n",
       "hide circle\r\n",
       "\r\n",
       "@enduml\r\n",
       "\n",
       "PlantUML version 1.2020.13(Sat Jun 13 12:26:38 UTC 2020)\n",
       "(EPL source distribution)\n",
       "Java Runtime: OpenJDK Runtime Environment\n",
       "JVM: OpenJDK 64-Bit Server VM\n",
       "Default Encoding: UTF-8\n",
       "Language: en\n",
       "Country: null\n",
       "--></g></svg>"
      ]
     },
     "execution_count": 46,
     "metadata": {},
     "output_type": "execute_result"
    }
   ],
   "source": [
    "%viz --style=\"TB\" --view=\"State\" \"RequirementTest\""
   ]
  },
  {
   "cell_type": "code",
   "execution_count": 47,
   "id": "tamil-qualification",
   "metadata": {
    "execution": {
     "iopub.execute_input": "2021-03-25T09:27:17.156181Z",
     "iopub.status.busy": "2021-03-25T09:27:17.155730Z",
     "iopub.status.idle": "2021-03-25T09:27:17.274526Z",
     "shell.execute_reply": "2021-03-25T09:27:17.274114Z"
    }
   },
   "outputs": [
    {
     "data": {
      "image/svg+xml": [
       "<?xml version=\"1.0\" encoding=\"UTF-8\" standalone=\"no\"?><svg xmlns=\"http://www.w3.org/2000/svg\" xmlns:xlink=\"http://www.w3.org/1999/xlink\" contentScriptType=\"application/ecmascript\" contentStyleType=\"text/css\" height=\"367px\" preserveAspectRatio=\"none\" style=\"width:852px;height:367px;\" version=\"1.1\" viewBox=\"0 0 852 367\" width=\"852px\" zoomAndPan=\"magnify\"><defs/><g><!--MD5=[fbc87193dbaf4d95561dea2c320d4a47]\n",
       "cluster E1--><a href=\"psysml:7a32e4ca-d886-48d1-a22e-a4337a6af1e2\" target=\"_top\" title=\"psysml:7a32e4ca-d886-48d1-a22e-a4337a6af1e2\" xlink:actuate=\"onRequest\" xlink:href=\"psysml:7a32e4ca-d886-48d1-a22e-a4337a6af1e2\" xlink:show=\"new\" xlink:title=\"psysml:7a32e4ca-d886-48d1-a22e-a4337a6af1e2\" xlink:type=\"simple\"><polygon fill=\"#FFFFFF\" points=\"16,6,158,6,165,28.2969,830,28.2969,830,355,16,355,16,6\" style=\"stroke: #000000; stroke-width: 1.5;\"/><line style=\"stroke: #000000; stroke-width: 1.5;\" x1=\"16\" x2=\"165\" y1=\"28.2969\" y2=\"28.2969\"/><text fill=\"#000000\" font-family=\"sans-serif\" font-size=\"14\" font-weight=\"bold\" lengthAdjust=\"spacingAndGlyphs\" textLength=\"136\" x=\"20\" y=\"20.9951\">RequirementTest</text></a><!--MD5=[168fadf3d0c3fd93dd5d6da1b1d7ab76]\n",
       "cluster E7--><a href=\"psysml:9b734dfd-0e44-4ae0-bd37-d0a03d4a12cd\" target=\"_top\" title=\"psysml:9b734dfd-0e44-4ae0-bd37-d0a03d4a12cd\" xlink:actuate=\"onRequest\" xlink:href=\"psysml:9b734dfd-0e44-4ae0-bd37-d0a03d4a12cd\" xlink:show=\"new\" xlink:title=\"psysml:9b734dfd-0e44-4ae0-bd37-d0a03d4a12cd\" xlink:type=\"simple\"><rect fill=\"#FFFFFF\" height=\"209\" id=\"E7\" rx=\"10\" ry=\"10\" style=\"stroke: #383838; stroke-width: 1.5;\" width=\"213\" x=\"593\" y=\"49\"/><rect fill=\"#F8F8F8\" height=\"23.9688\" rx=\"10\" ry=\"10\" style=\"stroke: #F8F8F8; stroke-width: 1.5;\" width=\"213\" x=\"593\" y=\"49\"/><rect fill=\"#F8F8F8\" height=\"10\" style=\"stroke: #F8F8F8; stroke-width: 1.5;\" width=\"213\" x=\"593\" y=\"62.9688\"/><rect fill=\"none\" height=\"209\" id=\"E7\" rx=\"10\" ry=\"10\" style=\"stroke: #383838; stroke-width: 1.5;\" width=\"213\" x=\"593\" y=\"49\"/><text fill=\"#000000\" font-family=\"sans-serif\" font-size=\"12\" lengthAdjust=\"spacingAndGlyphs\" textLength=\"8\" x=\"695.5\" y=\"65.1387\">q</text><line style=\"stroke: #383838; stroke-width: 1.0;\" x1=\"593\" x2=\"806\" y1=\"72.9688\" y2=\"72.9688\"/></a><!--MD5=[55dfccfc6c49c2d10cd1bd2211a6c90c]\n",
       "cluster E8--><a href=\"psysml:5a1cae69-7149-47dc-88a9-208fdbfbba4b\" target=\"_top\" title=\"psysml:5a1cae69-7149-47dc-88a9-208fdbfbba4b\" xlink:actuate=\"onRequest\" xlink:href=\"psysml:5a1cae69-7149-47dc-88a9-208fdbfbba4b\" xlink:show=\"new\" xlink:title=\"psysml:5a1cae69-7149-47dc-88a9-208fdbfbba4b\" xlink:type=\"simple\"><rect fill=\"#FFFFFF\" height=\"126\" id=\"E8\" rx=\"10\" ry=\"10\" style=\"stroke: #383838; stroke-width: 1.5;\" width=\"149\" x=\"625\" y=\"100\"/><rect fill=\"#F8F8F8\" height=\"37.9375\" rx=\"10\" ry=\"10\" style=\"stroke: #F8F8F8; stroke-width: 1.5;\" width=\"149\" x=\"625\" y=\"100\"/><rect fill=\"#F8F8F8\" height=\"10\" style=\"stroke: #F8F8F8; stroke-width: 1.5;\" width=\"149\" x=\"625\" y=\"127.9375\"/><rect fill=\"none\" height=\"126\" id=\"E8\" rx=\"10\" ry=\"10\" style=\"stroke: #383838; stroke-width: 1.5;\" width=\"149\" x=\"625\" y=\"100\"/><text fill=\"#000000\" font-family=\"sans-serif\" font-size=\"12\" font-style=\"italic\" lengthAdjust=\"spacingAndGlyphs\" textLength=\"91\" x=\"654\" y=\"116.1387\">«requirement»</text><text fill=\"#000000\" font-family=\"sans-serif\" font-size=\"12\" lengthAdjust=\"spacingAndGlyphs\" textLength=\"21\" x=\"689\" y=\"130.1074\">r: R</text><line style=\"stroke: #383838; stroke-width: 1.0;\" x1=\"625\" x2=\"774\" y1=\"137.9375\" y2=\"137.9375\"/></a><g id=\"E1.E2\"><a href=\"psysml:c5fd5931-ea17-4576-af97-a79679b06835\" target=\"_top\" title=\"psysml:c5fd5931-ea17-4576-af97-a79679b06835\" xlink:actuate=\"onRequest\" xlink:href=\"psysml:c5fd5931-ea17-4576-af97-a79679b06835\" xlink:show=\"new\" xlink:title=\"psysml:c5fd5931-ea17-4576-af97-a79679b06835\" xlink:type=\"simple\"><rect fill=\"#FFFFFF\" height=\"42.9375\" id=\"E2\" style=\"stroke: #383838; stroke-width: 1.5;\" width=\"109\" x=\"467.5\" y=\"159\"/><rect fill=\"#F8F8F8\" height=\"37.9375\" style=\"stroke: #383838; stroke-width: 1.5;\" width=\"109\" x=\"467.5\" y=\"159\"/><text fill=\"#000000\" font-family=\"sans-serif\" font-size=\"12\" font-style=\"italic\" lengthAdjust=\"spacingAndGlyphs\" textLength=\"102\" x=\"471\" y=\"175.1387\">«constraint def»</text><text fill=\"#000000\" font-family=\"sans-serif\" font-size=\"12\" lengthAdjust=\"spacingAndGlyphs\" textLength=\"8\" x=\"518\" y=\"189.1074\">C</text></a></g><g id=\"E1.E4\"><a href=\"psysml:aa32b181-0a7a-45c2-8d8e-c84b0489ed31\" target=\"_top\" title=\"psysml:aa32b181-0a7a-45c2-8d8e-c84b0489ed31\" xlink:actuate=\"onRequest\" xlink:href=\"psysml:aa32b181-0a7a-45c2-8d8e-c84b0489ed31\" xlink:show=\"new\" xlink:title=\"psysml:aa32b181-0a7a-45c2-8d8e-c84b0489ed31\" xlink:type=\"simple\"><rect fill=\"#FFFFFF\" height=\"42.9375\" id=\"E4\" style=\"stroke: #383838; stroke-width: 1.5;\" width=\"122\" x=\"310\" y=\"159\"/><rect fill=\"#F8F8F8\" height=\"37.9375\" style=\"stroke: #383838; stroke-width: 1.5;\" width=\"122\" x=\"310\" y=\"159\"/><text fill=\"#000000\" font-family=\"sans-serif\" font-size=\"12\" font-style=\"italic\" lengthAdjust=\"spacingAndGlyphs\" textLength=\"115\" x=\"313.5\" y=\"175.1387\">«requirement def»</text><text fill=\"#000000\" font-family=\"sans-serif\" font-size=\"12\" lengthAdjust=\"spacingAndGlyphs\" textLength=\"8\" x=\"367\" y=\"189.1074\">R</text></a></g><g id=\"E1.E5\"><a href=\"psysml:5b4d3eaf-f72e-4f96-998b-f4a0a57df239\" target=\"_top\" title=\"psysml:5b4d3eaf-f72e-4f96-998b-f4a0a57df239\" xlink:actuate=\"onRequest\" xlink:href=\"psysml:5b4d3eaf-f72e-4f96-998b-f4a0a57df239\" xlink:show=\"new\" xlink:title=\"psysml:5b4d3eaf-f72e-4f96-998b-f4a0a57df239\" xlink:type=\"simple\"><rect fill=\"#FFFFFF\" height=\"42.9375\" id=\"E5\" style=\"stroke: #383838; stroke-width: 1.5;\" width=\"122\" x=\"153\" y=\"159\"/><rect fill=\"#F8F8F8\" height=\"37.9375\" style=\"stroke: #383838; stroke-width: 1.5;\" width=\"122\" x=\"153\" y=\"159\"/><text fill=\"#000000\" font-family=\"sans-serif\" font-size=\"12\" font-style=\"italic\" lengthAdjust=\"spacingAndGlyphs\" textLength=\"115\" x=\"156.5\" y=\"175.1387\">«requirement def»</text><text fill=\"#000000\" font-family=\"sans-serif\" font-size=\"12\" lengthAdjust=\"spacingAndGlyphs\" textLength=\"16\" x=\"206\" y=\"189.1074\">R1</text></a></g><g id=\"E1.E3\"><a href=\"psysml:23e87db0-b26a-4449-ad29-18415d83eb38\" target=\"_top\" title=\"psysml:23e87db0-b26a-4449-ad29-18415d83eb38\" xlink:actuate=\"onRequest\" xlink:href=\"psysml:23e87db0-b26a-4449-ad29-18415d83eb38\" xlink:show=\"new\" xlink:title=\"psysml:23e87db0-b26a-4449-ad29-18415d83eb38\" xlink:type=\"simple\"><rect fill=\"#FFFFFF\" height=\"42.9375\" id=\"E3\" rx=\"10\" ry=\"10\" style=\"stroke: #383838; stroke-width: 1.5;\" width=\"85\" x=\"32.5\" y=\"159\"/><rect fill=\"#F8F8F8\" height=\"37.9375\" rx=\"10\" ry=\"10\" style=\"stroke: #F8F8F8; stroke-width: 1.5;\" width=\"85\" x=\"32.5\" y=\"159\"/><rect fill=\"#F8F8F8\" height=\"10\" style=\"stroke: #F8F8F8; stroke-width: 1.5;\" width=\"85\" x=\"32.5\" y=\"186.9375\"/><rect fill=\"none\" height=\"42.9375\" id=\"E3\" rx=\"10\" ry=\"10\" style=\"stroke: #383838; stroke-width: 1.5;\" width=\"85\" x=\"32.5\" y=\"159\"/><text fill=\"#000000\" font-family=\"sans-serif\" font-size=\"12\" font-style=\"italic\" lengthAdjust=\"spacingAndGlyphs\" textLength=\"78\" x=\"36\" y=\"175.1387\">«constraint»</text><text fill=\"#000000\" font-family=\"sans-serif\" font-size=\"12\" lengthAdjust=\"spacingAndGlyphs\" textLength=\"23\" x=\"63.5\" y=\"189.1074\">c: C</text></a></g><g id=\"E1.E6\"><a href=\"psysml:8fb932f6-fc92-43ad-aa0e-8cfa7b71c9b3\" target=\"_top\" title=\"psysml:8fb932f6-fc92-43ad-aa0e-8cfa7b71c9b3\" xlink:actuate=\"onRequest\" xlink:href=\"psysml:8fb932f6-fc92-43ad-aa0e-8cfa7b71c9b3\" xlink:show=\"new\" xlink:title=\"psysml:8fb932f6-fc92-43ad-aa0e-8cfa7b71c9b3\" xlink:type=\"simple\"><rect fill=\"#FFFFFF\" height=\"40\" id=\"E6\" rx=\"10\" ry=\"10\" style=\"stroke: #383838; stroke-width: 1.5;\" width=\"50\" x=\"608\" y=\"299\"/><rect fill=\"#F8F8F8\" height=\"23.9688\" rx=\"10\" ry=\"10\" style=\"stroke: #F8F8F8; stroke-width: 1.5;\" width=\"50\" x=\"608\" y=\"299\"/><rect fill=\"#F8F8F8\" height=\"10\" style=\"stroke: #F8F8F8; stroke-width: 1.5;\" width=\"50\" x=\"608\" y=\"312.9688\"/><rect fill=\"none\" height=\"40\" id=\"E6\" rx=\"10\" ry=\"10\" style=\"stroke: #383838; stroke-width: 1.5;\" width=\"50\" x=\"608\" y=\"299\"/><text fill=\"#000000\" font-family=\"sans-serif\" font-size=\"12\" lengthAdjust=\"spacingAndGlyphs\" textLength=\"8\" x=\"629\" y=\"315.1387\">p</text></a></g><g id=\"E1.E7.E8.E9\"><a href=\"psysml:ebf9f55c-b0ce-46a7-820d-0de32b7e0555\" target=\"_top\" title=\"psysml:ebf9f55c-b0ce-46a7-820d-0de32b7e0555\" xlink:actuate=\"onRequest\" xlink:href=\"psysml:ebf9f55c-b0ce-46a7-820d-0de32b7e0555\" xlink:show=\"new\" xlink:title=\"psysml:ebf9f55c-b0ce-46a7-820d-0de32b7e0555\" xlink:type=\"simple\"><rect fill=\"#FFFFFF\" height=\"42.9375\" id=\"E9\" rx=\"10\" ry=\"10\" style=\"stroke: #383838; stroke-width: 1.5;\" width=\"82\" x=\"668\" y=\"159\"/><rect fill=\"#F8F8F8\" height=\"37.9375\" rx=\"10\" ry=\"10\" style=\"stroke: #F8F8F8; stroke-width: 1.5;\" width=\"82\" x=\"668\" y=\"159\"/><rect fill=\"#F8F8F8\" height=\"10\" style=\"stroke: #F8F8F8; stroke-width: 1.5;\" width=\"82\" x=\"668\" y=\"186.9375\"/><rect fill=\"none\" height=\"42.9375\" id=\"E9\" rx=\"10\" ry=\"10\" style=\"stroke: #383838; stroke-width: 1.5;\" width=\"82\" x=\"668\" y=\"159\"/><text fill=\"#000000\" font-family=\"sans-serif\" font-size=\"12\" font-style=\"italic\" lengthAdjust=\"spacingAndGlyphs\" textLength=\"75\" x=\"671.5\" y=\"175.1387\">«reference»</text><text fill=\"#000000\" font-family=\"sans-serif\" font-size=\"12\" lengthAdjust=\"spacingAndGlyphs\" textLength=\"26\" x=\"696\" y=\"189.1074\">subj</text></a></g><!--MD5=[c5e8897d989ce984f93528998a7150fe]\n",
       "link E8 to E6--><a href=\"psysml:69852053-465c-4b3e-807c-2facd65a229c\" target=\"_top\" title=\"psysml:69852053-465c-4b3e-807c-2facd65a229c\" xlink:actuate=\"onRequest\" xlink:href=\"psysml:69852053-465c-4b3e-807c-2facd65a229c\" xlink:show=\"new\" xlink:title=\"psysml:69852053-465c-4b3e-807c-2facd65a229c\" xlink:type=\"simple\"><path d=\"M633,226.4501 C633,227.1713 633,227.8965 633,228.6252 C633,230.0826 633,231.5543 633,233.0372 C633,236.003 633,239.0136 633,242.0448 C633,248.1072 633,254.2518 633,260.2839 C633,272.3481 633,283.9625 633,293.57 \" fill=\"none\" id=\"E8-&gt;E6\" style=\"stroke: #383838; stroke-width: 1.0; stroke-dasharray: 7.0,7.0;\"/><polygon fill=\"#383838\" points=\"633,298.99,637,289.99,633,293.99,629,289.99,633,298.99\" style=\"stroke: #383838; stroke-width: 1.0;\"/><text fill=\"#000000\" font-family=\"sans-serif\" font-size=\"13\" lengthAdjust=\"spacingAndGlyphs\" textLength=\"57\" x=\"634\" y=\"287.0669\">«satisfy»</text></a><!--MD5=[04262048b7854068661b0efad79a9d1c]\n",
       "@startuml\r\n",
       "skinparam ranksep 8\r\n",
       "skinparam rectangle {\r\n",
       " backgroundColor<<block>> LightGreen\r\n",
       "}\r\n",
       "top to bottom direction\r\n",
       "skinparam monochrome true\r\n",
       "skinparam classbackgroundcolor white\r\n",
       "skinparam shadowing false\r\n",
       "skinparam wrapWidth 300\r\n",
       "hide circle\r\n",
       "\r\n",
       "package \"RequirementTest\" as E1  [[psysml:7a32e4ca-d886-48d1-a22e-a4337a6af1e2 ]]  {\r\n",
       "def \"C\" as E2  <<(T,blue)constraint def>> [[psysml:c5fd5931-ea17-4576-af97-a79679b06835 ]] \r\n",
       "rec usage \"c: C\" as E3  <<(T,blue)constraint>> [[psysml:23e87db0-b26a-4449-ad29-18415d83eb38 ]] {\r\n",
       "}\r\n",
       "def \"R\" as E4  <<(T,blue)requirement def>> [[psysml:aa32b181-0a7a-45c2-8d8e-c84b0489ed31 ]] \r\n",
       "def \"R1\" as E5  <<(T,blue)requirement def>> [[psysml:5b4d3eaf-f72e-4f96-998b-f4a0a57df239 ]] \r\n",
       "rec usage \"p\" as E6  [[psysml:8fb932f6-fc92-43ad-aa0e-8cfa7b71c9b3 ]] {\r\n",
       "}\r\n",
       "rec usage \"q\" as E7  [[psysml:9b734dfd-0e44-4ae0-bd37-d0a03d4a12cd ]] {\r\n",
       "rec usage \"r: R\" as E8  <<(T,blue)requirement>> [[psysml:5a1cae69-7149-47dc-88a9-208fdbfbba4b ]] {\r\n",
       "rec usage \"subj\" as E9  <<(T,blue)reference>> [[psysml:ebf9f55c-b0ce-46a7-820d-0de32b7e0555 ]] {\r\n",
       "}\r\n",
       "}\r\n",
       "}\r\n",
       "E8 ..> E6 [[psysml:69852053-465c-4b3e-807c-2facd65a229c ]] : <<satisfy>>\r\n",
       "}\r\n",
       "@enduml\r\n",
       "\n",
       "PlantUML version 1.2020.13(Sat Jun 13 12:26:38 UTC 2020)\n",
       "(EPL source distribution)\n",
       "Java Runtime: OpenJDK Runtime Environment\n",
       "JVM: OpenJDK 64-Bit Server VM\n",
       "Default Encoding: UTF-8\n",
       "Language: en\n",
       "Country: null\n",
       "--></g></svg>"
      ]
     },
     "execution_count": 47,
     "metadata": {},
     "output_type": "execute_result"
    }
   ],
   "source": [
    "%viz --style=\"TB\" --view=\"Interconnection\" \"RequirementTest\""
   ]
  },
  {
   "cell_type": "code",
   "execution_count": 48,
   "id": "exact-rehabilitation",
   "metadata": {
    "execution": {
     "iopub.execute_input": "2021-03-25T09:27:17.329805Z",
     "iopub.status.busy": "2021-03-25T09:27:17.325478Z",
     "iopub.status.idle": "2021-03-25T09:27:17.336512Z",
     "shell.execute_reply": "2021-03-25T09:27:17.336120Z"
    }
   },
   "outputs": [
    {
     "data": {
      "image/svg+xml": [
       "<?xml version=\"1.0\" encoding=\"UTF-8\" standalone=\"no\"?><svg xmlns=\"http://www.w3.org/2000/svg\" xmlns:xlink=\"http://www.w3.org/1999/xlink\" contentScriptType=\"application/ecmascript\" contentStyleType=\"text/css\" height=\"12px\" preserveAspectRatio=\"none\" style=\"width:12px;height:12px;\" version=\"1.1\" viewBox=\"0 0 12 12\" width=\"12px\" zoomAndPan=\"magnify\"><defs/><g><!--MD5=[06afc254b03ac5e9d9fb7773b07d0800]\n",
       "@startuml\r\n",
       "skinparam ranksep 8\r\n",
       "top to bottom direction\r\n",
       "skinparam monochrome true\r\n",
       "skinparam classbackgroundcolor white\r\n",
       "skinparam shadowing false\r\n",
       "skinparam wrapWidth 300\r\n",
       "hide circle\r\n",
       "\r\n",
       "@enduml\r\n",
       "\n",
       "PlantUML version 1.2020.13(Sat Jun 13 12:26:38 UTC 2020)\n",
       "(EPL source distribution)\n",
       "Java Runtime: OpenJDK Runtime Environment\n",
       "JVM: OpenJDK 64-Bit Server VM\n",
       "Default Encoding: UTF-8\n",
       "Language: en\n",
       "Country: null\n",
       "--></g></svg>"
      ]
     },
     "execution_count": 48,
     "metadata": {},
     "output_type": "execute_result"
    }
   ],
   "source": [
    "%viz --style=\"TB\" --view=\"Action\" \"RequirementTest\""
   ]
  },
  {
   "cell_type": "code",
   "execution_count": 49,
   "id": "legislative-resident",
   "metadata": {
    "execution": {
     "iopub.execute_input": "2021-03-25T09:27:17.388465Z",
     "iopub.status.busy": "2021-03-25T09:27:17.387815Z",
     "iopub.status.idle": "2021-03-25T09:27:18.237401Z",
     "shell.execute_reply": "2021-03-25T09:27:18.235366Z"
    }
   },
   "outputs": [
    {
     "data": {
      "image/svg+xml": [
       "<?xml version=\"1.0\" encoding=\"UTF-8\" standalone=\"no\"?><svg xmlns=\"http://www.w3.org/2000/svg\" xmlns:xlink=\"http://www.w3.org/1999/xlink\" contentScriptType=\"application/ecmascript\" contentStyleType=\"text/css\" height=\"578px\" preserveAspectRatio=\"none\" style=\"width:408px;height:578px;\" version=\"1.1\" viewBox=\"0 0 408 578\" width=\"408px\" zoomAndPan=\"magnify\"><defs/><g><!--MD5=[fbc87193dbaf4d95561dea2c320d4a47]\n",
       "cluster E1--><a href=\"psysml:7a32e4ca-d886-48d1-a22e-a4337a6af1e2\" target=\"_top\" title=\"psysml:7a32e4ca-d886-48d1-a22e-a4337a6af1e2\" xlink:actuate=\"onRequest\" xlink:href=\"psysml:7a32e4ca-d886-48d1-a22e-a4337a6af1e2\" xlink:show=\"new\" xlink:title=\"psysml:7a32e4ca-d886-48d1-a22e-a4337a6af1e2\" xlink:type=\"simple\"><polygon fill=\"#FFFFFF\" points=\"16,6,158,6,165,28.2969,386,28.2969,386,566,16,566,16,6\" style=\"stroke: #000000; stroke-width: 1.5;\"/><line style=\"stroke: #000000; stroke-width: 1.5;\" x1=\"16\" x2=\"165\" y1=\"28.2969\" y2=\"28.2969\"/><text fill=\"#000000\" font-family=\"sans-serif\" font-size=\"14\" font-weight=\"bold\" lengthAdjust=\"spacingAndGlyphs\" textLength=\"136\" x=\"20\" y=\"20.9951\">RequirementTest</text></a><!--MD5=[b4997ac47864f28c2f74865a473b2911]\n",
       "class E2--><a href=\"psysml:c5fd5931-ea17-4576-af97-a79679b06835\" target=\"_top\" title=\"psysml:c5fd5931-ea17-4576-af97-a79679b06835\" xlink:actuate=\"onRequest\" xlink:href=\"psysml:c5fd5931-ea17-4576-af97-a79679b06835\" xlink:show=\"new\" xlink:title=\"psysml:c5fd5931-ea17-4576-af97-a79679b06835\" xlink:type=\"simple\"><rect fill=\"#FFFFFF\" height=\"45.9375\" id=\"E2\" style=\"stroke: #383838; stroke-width: 1.5;\" width=\"104\" x=\"266\" y=\"190\"/><text fill=\"#000000\" font-family=\"sans-serif\" font-size=\"12\" font-style=\"italic\" lengthAdjust=\"spacingAndGlyphs\" textLength=\"102\" x=\"267\" y=\"206.1387\">«constraint def»</text><text fill=\"#000000\" font-family=\"sans-serif\" font-size=\"12\" lengthAdjust=\"spacingAndGlyphs\" textLength=\"8\" x=\"314\" y=\"220.1074\">C</text><line style=\"stroke: #383838; stroke-width: 1.5;\" x1=\"267\" x2=\"369\" y1=\"227.9375\" y2=\"227.9375\"/></a><!--MD5=[09b614a08d8cba4a07c9adeb5e0fee81]\n",
       "class E3--><a href=\"psysml:23e87db0-b26a-4449-ad29-18415d83eb38\" target=\"_top\" title=\"psysml:23e87db0-b26a-4449-ad29-18415d83eb38\" xlink:actuate=\"onRequest\" xlink:href=\"psysml:23e87db0-b26a-4449-ad29-18415d83eb38\" xlink:show=\"new\" xlink:title=\"psysml:23e87db0-b26a-4449-ad29-18415d83eb38\" xlink:type=\"simple\"><rect fill=\"#FFFFFF\" height=\"45.9375\" id=\"E3\" rx=\"10\" ry=\"10\" style=\"stroke: #383838; stroke-width: 1.5;\" width=\"80\" x=\"290\" y=\"62\"/><text fill=\"#000000\" font-family=\"sans-serif\" font-size=\"12\" font-style=\"italic\" lengthAdjust=\"spacingAndGlyphs\" textLength=\"78\" x=\"291\" y=\"78.1387\">«constraint»</text><text fill=\"#000000\" font-family=\"sans-serif\" font-size=\"12\" lengthAdjust=\"spacingAndGlyphs\" textLength=\"23\" x=\"318.5\" y=\"92.1074\">c: C</text><line style=\"stroke: #383838; stroke-width: 1.5;\" x1=\"291\" x2=\"369\" y1=\"99.9375\" y2=\"99.9375\"/></a><!--MD5=[ebbe1d658d1005bcc118a6aa81145e00]\n",
       "class E4--><a href=\"psysml:aa32b181-0a7a-45c2-8d8e-c84b0489ed31\" target=\"_top\" title=\"psysml:aa32b181-0a7a-45c2-8d8e-c84b0489ed31\" xlink:actuate=\"onRequest\" xlink:href=\"psysml:aa32b181-0a7a-45c2-8d8e-c84b0489ed31\" xlink:show=\"new\" xlink:title=\"psysml:aa32b181-0a7a-45c2-8d8e-c84b0489ed31\" xlink:type=\"simple\"><rect fill=\"#FFFFFF\" height=\"109.1563\" id=\"E4\" style=\"stroke: #383838; stroke-width: 1.5;\" width=\"117\" x=\"32.5\" y=\"313\"/><text fill=\"#000000\" font-family=\"sans-serif\" font-size=\"12\" font-style=\"italic\" lengthAdjust=\"spacingAndGlyphs\" textLength=\"115\" x=\"33.5\" y=\"329.1387\">«requirement def»</text><text fill=\"#000000\" font-family=\"sans-serif\" font-size=\"12\" lengthAdjust=\"spacingAndGlyphs\" textLength=\"8\" x=\"87\" y=\"343.1074\">R</text><line style=\"stroke: #383838; stroke-width: 1.5;\" x1=\"33.5\" x2=\"148.5\" y1=\"350.9375\" y2=\"350.9375\"/><text fill=\"#000000\" font-family=\"sans-serif\" font-size=\"11\" lengthAdjust=\"spacingAndGlyphs\" textLength=\"0\" x=\"42.5\" y=\"365.1479\"/><line style=\"stroke: #383838; stroke-width: 1.0;\" x1=\"33.5\" x2=\"148.5\" y1=\"371.7422\" y2=\"371.7422\"/><text fill=\"#000000\" font-family=\"sans-serif\" font-size=\"11\" font-weight=\"bold\" lengthAdjust=\"spacingAndGlyphs\" textLength=\"46\" x=\"38.5\" y=\"402.7573\">require</text><text fill=\"#000000\" font-family=\"sans-serif\" font-size=\"11\" lengthAdjust=\"spacingAndGlyphs\" textLength=\"6\" x=\"88.5\" y=\"402.7573\">c</text><text fill=\"#000000\" font-family=\"sans-serif\" font-size=\"11\" font-style=\"italic\" lengthAdjust=\"spacingAndGlyphs\" textLength=\"46\" x=\"38.5\" y=\"415.562\">assume</text><text fill=\"#000000\" font-family=\"sans-serif\" font-size=\"11\" lengthAdjust=\"spacingAndGlyphs\" textLength=\"29\" x=\"88.5\" y=\"415.562\">c1: C</text><line style=\"stroke: #383838; stroke-width: 1.0;\" x1=\"33.5\" x2=\"59\" y1=\"386.1445\" y2=\"386.1445\"/><text fill=\"#000000\" font-family=\"sans-serif\" font-size=\"11\" lengthAdjust=\"spacingAndGlyphs\" textLength=\"64\" x=\"59\" y=\"389.4526\">constraints</text><line style=\"stroke: #383838; stroke-width: 1.0;\" x1=\"123\" x2=\"148.5\" y1=\"386.1445\" y2=\"386.1445\"/></a><!--MD5=[270fce915f116d4de14055a7c1d9a0f3]\n",
       "class E5--><a href=\"psysml:c7a4f64d-f76e-4f11-bab9-561a5696e580\" target=\"_top\" title=\"psysml:c7a4f64d-f76e-4f11-bab9-561a5696e580\" xlink:actuate=\"onRequest\" xlink:href=\"psysml:c7a4f64d-f76e-4f11-bab9-561a5696e580\" xlink:show=\"new\" xlink:title=\"psysml:c7a4f64d-f76e-4f11-bab9-561a5696e580\" xlink:type=\"simple\"><rect fill=\"#FFFFFF\" height=\"66.7422\" id=\"E5\" style=\"stroke: #383838; stroke-width: 1.5;\" width=\"117\" x=\"32.5\" y=\"483\"/><text fill=\"#000000\" font-family=\"sans-serif\" font-size=\"12\" font-style=\"italic\" lengthAdjust=\"spacingAndGlyphs\" textLength=\"115\" x=\"33.5\" y=\"499.1387\">«requirement def»</text><text fill=\"#000000\" font-family=\"sans-serif\" font-size=\"12\" lengthAdjust=\"spacingAndGlyphs\" textLength=\"5\" x=\"78\" y=\"513.1074\">[</text><text fill=\"#000000\" font-family=\"sans-serif\" font-size=\"12\" font-weight=\"bold\" lengthAdjust=\"spacingAndGlyphs\" textLength=\"8\" x=\"83\" y=\"513.1074\">1</text><text fill=\"#000000\" font-family=\"sans-serif\" font-size=\"12\" lengthAdjust=\"spacingAndGlyphs\" textLength=\"17\" x=\"91\" y=\"513.1074\">] A</text><line style=\"stroke: #383838; stroke-width: 1.5;\" x1=\"33.5\" x2=\"148.5\" y1=\"520.9375\" y2=\"520.9375\"/><text fill=\"#000000\" font-family=\"sans-serif\" font-size=\"11\" lengthAdjust=\"spacingAndGlyphs\" textLength=\"24\" x=\"38.5\" y=\"535.1479\">Text</text><line style=\"stroke: #383838; stroke-width: 1.0;\" x1=\"33.5\" x2=\"148.5\" y1=\"541.7422\" y2=\"541.7422\"/></a><!--MD5=[b9389687b975829384b498ac4b7476b2]\n",
       "class E8--><a href=\"psysml:165156c7-6d13-47e8-9214-4efd9fbee902\" target=\"_top\" title=\"psysml:165156c7-6d13-47e8-9214-4efd9fbee902\" xlink:actuate=\"onRequest\" xlink:href=\"psysml:165156c7-6d13-47e8-9214-4efd9fbee902\" xlink:show=\"new\" xlink:title=\"psysml:165156c7-6d13-47e8-9214-4efd9fbee902\" xlink:type=\"simple\"><rect fill=\"#FFFFFF\" height=\"45.9375\" id=\"E8\" rx=\"10\" ry=\"10\" style=\"stroke: #383838; stroke-width: 1.5;\" width=\"93\" x=\"184.5\" y=\"493.5\"/><text fill=\"#000000\" font-family=\"sans-serif\" font-size=\"12\" font-style=\"italic\" lengthAdjust=\"spacingAndGlyphs\" textLength=\"91\" x=\"185.5\" y=\"509.6387\">«requirement»</text><text fill=\"#000000\" font-family=\"sans-serif\" font-size=\"12\" lengthAdjust=\"spacingAndGlyphs\" text-decoration=\"line-through\" textLength=\"51\" x=\"205.5\" y=\"523.6074\">noname</text><line style=\"stroke: #383838; stroke-width: 1.5;\" x1=\"185.5\" x2=\"276.5\" y1=\"531.4375\" y2=\"531.4375\"/></a><!--MD5=[fd4143e9d270a159db93a4ea2a975926]\n",
       "class E9--><a href=\"psysml:5b4d3eaf-f72e-4f96-998b-f4a0a57df239\" target=\"_top\" title=\"psysml:5b4d3eaf-f72e-4f96-998b-f4a0a57df239\" xlink:actuate=\"onRequest\" xlink:href=\"psysml:5b4d3eaf-f72e-4f96-998b-f4a0a57df239\" xlink:show=\"new\" xlink:title=\"psysml:5b4d3eaf-f72e-4f96-998b-f4a0a57df239\" xlink:type=\"simple\"><rect fill=\"#FFFFFF\" height=\"88.3516\" id=\"E9\" style=\"stroke: #383838; stroke-width: 1.5;\" width=\"145\" x=\"109.5\" y=\"41\"/><text fill=\"#000000\" font-family=\"sans-serif\" font-size=\"12\" font-style=\"italic\" lengthAdjust=\"spacingAndGlyphs\" textLength=\"115\" x=\"124.5\" y=\"57.1387\">«requirement def»</text><text fill=\"#000000\" font-family=\"sans-serif\" font-size=\"12\" lengthAdjust=\"spacingAndGlyphs\" textLength=\"16\" x=\"174\" y=\"71.1074\">R1</text><line style=\"stroke: #383838; stroke-width: 1.5;\" x1=\"110.5\" x2=\"253.5\" y1=\"78.9375\" y2=\"78.9375\"/><text fill=\"#000000\" font-family=\"sans-serif\" font-size=\"11\" font-weight=\"bold\" lengthAdjust=\"spacingAndGlyphs\" textLength=\"46\" x=\"115.5\" y=\"109.9526\">require</text><text fill=\"#000000\" font-family=\"sans-serif\" font-size=\"11\" lengthAdjust=\"spacingAndGlyphs\" textLength=\"13\" x=\"165.5\" y=\"109.9526\">c1</text><text fill=\"#000000\" font-family=\"sans-serif\" font-size=\"11\" font-style=\"italic\" lengthAdjust=\"spacingAndGlyphs\" textLength=\"133\" x=\"115.5\" y=\"122.7573\">:&gt;&gt;RequirementTest::c</text><line style=\"stroke: #383838; stroke-width: 1.0;\" x1=\"110.5\" x2=\"150\" y1=\"93.3398\" y2=\"93.3398\"/><text fill=\"#000000\" font-family=\"sans-serif\" font-size=\"11\" lengthAdjust=\"spacingAndGlyphs\" textLength=\"64\" x=\"150\" y=\"96.6479\">constraints</text><line style=\"stroke: #383838; stroke-width: 1.0;\" x1=\"214\" x2=\"253.5\" y1=\"93.3398\" y2=\"93.3398\"/></a><!--MD5=[1dd1bfd58a279cf63c5f349dbc8fc6a1]\n",
       "class E11--><a href=\"psysml:8fb932f6-fc92-43ad-aa0e-8cfa7b71c9b3\" target=\"_top\" title=\"psysml:8fb932f6-fc92-43ad-aa0e-8cfa7b71c9b3\" xlink:actuate=\"onRequest\" xlink:href=\"psysml:8fb932f6-fc92-43ad-aa0e-8cfa7b71c9b3\" xlink:show=\"new\" xlink:title=\"psysml:8fb932f6-fc92-43ad-aa0e-8cfa7b71c9b3\" xlink:type=\"simple\"><rect fill=\"#FFFFFF\" height=\"45.9375\" id=\"E11\" rx=\"10\" ry=\"10\" style=\"stroke: #383838; stroke-width: 1.5;\" width=\"42\" x=\"185\" y=\"344.5\"/><text fill=\"#000000\" font-family=\"sans-serif\" font-size=\"12\" font-style=\"italic\" lengthAdjust=\"spacingAndGlyphs\" textLength=\"40\" x=\"186\" y=\"360.6387\">«part»</text><text fill=\"#000000\" font-family=\"sans-serif\" font-size=\"12\" lengthAdjust=\"spacingAndGlyphs\" textLength=\"8\" x=\"202\" y=\"374.6074\">p</text><line style=\"stroke: #383838; stroke-width: 1.5;\" x1=\"186\" x2=\"226\" y1=\"382.4375\" y2=\"382.4375\"/></a><!--MD5=[49a0ec8f00dab7302a31f22d0f0fe584]\n",
       "class E12--><a href=\"psysml:9b734dfd-0e44-4ae0-bd37-d0a03d4a12cd\" target=\"_top\" title=\"psysml:9b734dfd-0e44-4ae0-bd37-d0a03d4a12cd\" xlink:actuate=\"onRequest\" xlink:href=\"psysml:9b734dfd-0e44-4ae0-bd37-d0a03d4a12cd\" xlink:show=\"new\" xlink:title=\"psysml:9b734dfd-0e44-4ae0-bd37-d0a03d4a12cd\" xlink:type=\"simple\"><rect fill=\"#FFFFFF\" height=\"45.9375\" id=\"E12\" rx=\"10\" ry=\"10\" style=\"stroke: #383838; stroke-width: 1.5;\" width=\"42\" x=\"32\" y=\"62\"/><text fill=\"#000000\" font-family=\"sans-serif\" font-size=\"12\" font-style=\"italic\" lengthAdjust=\"spacingAndGlyphs\" textLength=\"40\" x=\"33\" y=\"78.1387\">«part»</text><text fill=\"#000000\" font-family=\"sans-serif\" font-size=\"12\" lengthAdjust=\"spacingAndGlyphs\" textLength=\"8\" x=\"49\" y=\"92.1074\">q</text><line style=\"stroke: #383838; stroke-width: 1.5;\" x1=\"33\" x2=\"73\" y1=\"99.9375\" y2=\"99.9375\"/></a><!--MD5=[ee3c913d1a06f366521f9ef512b67efe]\n",
       "class E13--><a href=\"psysml:5a1cae69-7149-47dc-88a9-208fdbfbba4b\" target=\"_top\" title=\"psysml:5a1cae69-7149-47dc-88a9-208fdbfbba4b\" xlink:actuate=\"onRequest\" xlink:href=\"psysml:5a1cae69-7149-47dc-88a9-208fdbfbba4b\" xlink:show=\"new\" xlink:title=\"psysml:5a1cae69-7149-47dc-88a9-208fdbfbba4b\" xlink:type=\"simple\"><rect fill=\"#FFFFFF\" height=\"45.9375\" id=\"E13\" rx=\"10\" ry=\"10\" style=\"stroke: #383838; stroke-width: 1.5;\" width=\"93\" x=\"44.5\" y=\"190\"/><text fill=\"#000000\" font-family=\"sans-serif\" font-size=\"12\" font-style=\"italic\" lengthAdjust=\"spacingAndGlyphs\" textLength=\"91\" x=\"45.5\" y=\"206.1387\">«requirement»</text><text fill=\"#000000\" font-family=\"sans-serif\" font-size=\"12\" lengthAdjust=\"spacingAndGlyphs\" textLength=\"21\" x=\"80.5\" y=\"220.1074\">r: R</text><line style=\"stroke: #383838; stroke-width: 1.5;\" x1=\"45.5\" x2=\"136.5\" y1=\"227.9375\" y2=\"227.9375\"/></a><!--MD5=[05d275557350bfb9b23a4ef7222b4c39]\n",
       "link E3 to E2--><a href=\"psysml:bb92853b-9a42-4685-9891-57f30cbf18f8\" target=\"_top\" title=\"psysml:bb92853b-9a42-4685-9891-57f30cbf18f8\" xlink:actuate=\"onRequest\" xlink:href=\"psysml:bb92853b-9a42-4685-9891-57f30cbf18f8\" xlink:show=\"new\" xlink:title=\"psysml:bb92853b-9a42-4685-9891-57f30cbf18f8\" xlink:type=\"simple\"><path d=\"M327.88,108.24 C326.26,125.24 323.98,149.19 322.02,169.79 \" fill=\"none\" id=\"E3-&gt;E2\" style=\"stroke: #383838; stroke-width: 1.0;\"/><polygon fill=\"#FFFFFF\" points=\"320.1,189.99,314.9362,170.411,328.8729,171.7407,320.1,189.99\" style=\"stroke: #383838; stroke-width: 1.0;\"/><ellipse cx=\"317.4685\" cy=\"164.9268\" fill=\"#383838\" rx=\"2\" ry=\"2\" style=\"stroke: #383838; stroke-width: 1.0;\"/><ellipse cx=\"327.4233\" cy=\"165.8765\" fill=\"#383838\" rx=\"2\" ry=\"2\" style=\"stroke: #383838; stroke-width: 1.0;\"/></a><!--MD5=[62aa6af11e70f752912c1cb0466f24f7]\n",
       "reverse link E4 to E5--><a href=\"psysml:c7a4f64d-f76e-4f11-bab9-561a5696e580\" target=\"_top\" title=\"psysml:c7a4f64d-f76e-4f11-bab9-561a5696e580\" xlink:actuate=\"onRequest\" xlink:href=\"psysml:c7a4f64d-f76e-4f11-bab9-561a5696e580\" xlink:show=\"new\" xlink:title=\"psysml:c7a4f64d-f76e-4f11-bab9-561a5696e580\" xlink:type=\"simple\"><path d=\"M91,437.45 C91,453.34 91,469.51 91,482.98 \" fill=\"none\" id=\"E4&lt;-E5\" style=\"stroke: #383838; stroke-width: 1.0;\"/><ellipse cx=\"91\" cy=\"430.4\" fill=\"#FFFFFF\" rx=\"8\" ry=\"8\" style=\"stroke: #383838; stroke-width: 1.0;\"/><line style=\"stroke: #383838; stroke-width: 1.0;\" x1=\"91\" x2=\"91\" y1=\"438.4\" y2=\"422.4\"/><line style=\"stroke: #383838; stroke-width: 1.0;\" x1=\"83\" x2=\"99\" y1=\"430.4\" y2=\"430.4\"/></a><!--MD5=[c6fc7cdb0cabde04948078cf183fa696]\n",
       "reverse link E4 to E8--><a href=\"psysml:165156c7-6d13-47e8-9214-4efd9fbee902\" target=\"_top\" title=\"psysml:165156c7-6d13-47e8-9214-4efd9fbee902\" xlink:actuate=\"onRequest\" xlink:href=\"psysml:165156c7-6d13-47e8-9214-4efd9fbee902\" xlink:show=\"new\" xlink:title=\"psysml:165156c7-6d13-47e8-9214-4efd9fbee902\" xlink:type=\"simple\"><path d=\"M151.51,432.04 C172.42,453.99 194.47,477.14 210.03,493.48 \" fill=\"none\" id=\"E4&lt;-E8\" style=\"stroke: #383838; stroke-width: 1.0;\"/><polygon fill=\"#383838\" points=\"142.34,422.4,143.5779,429.5041,150.6116,431.0937,149.3737,423.9897,142.34,422.4\" style=\"stroke: #383838; stroke-width: 1.0;\"/></a><!--MD5=[062ed86c389d1a88f61c6380d0491e17]\n",
       "reverse link E12 to E13--><a href=\"psysml:5a1cae69-7149-47dc-88a9-208fdbfbba4b\" target=\"_top\" title=\"psysml:5a1cae69-7149-47dc-88a9-208fdbfbba4b\" xlink:actuate=\"onRequest\" xlink:href=\"psysml:5a1cae69-7149-47dc-88a9-208fdbfbba4b\" xlink:show=\"new\" xlink:title=\"psysml:5a1cae69-7149-47dc-88a9-208fdbfbba4b\" xlink:type=\"simple\"><path d=\"M63.49,120.8 C70.17,142.92 78.6,170.89 84.36,189.99 \" fill=\"none\" id=\"E12&lt;-E13\" style=\"stroke: #383838; stroke-width: 1.0;\"/><polygon fill=\"#383838\" points=\"59.71,108.24,57.6129,115.1394,63.1751,119.7288,65.2722,112.8294,59.71,108.24\" style=\"stroke: #383838; stroke-width: 1.0;\"/></a><!--MD5=[017847e01ff9a8bd19f247411074f987]\n",
       "link E13 to E4--><a href=\"psysml:9a693856-e1d7-4623-99b4-c4529bf04054\" target=\"_top\" title=\"psysml:9a693856-e1d7-4623-99b4-c4529bf04054\" xlink:actuate=\"onRequest\" xlink:href=\"psysml:9a693856-e1d7-4623-99b4-c4529bf04054\" xlink:show=\"new\" xlink:title=\"psysml:9a693856-e1d7-4623-99b4-c4529bf04054\" xlink:type=\"simple\"><path d=\"M91,236.17 C91,251.17 91,271.91 91,292.44 \" fill=\"none\" id=\"E13-&gt;E4\" style=\"stroke: #383838; stroke-width: 1.0;\"/><polygon fill=\"#FFFFFF\" points=\"91,312.68,84,293.68,98,293.68,91,312.68\" style=\"stroke: #383838; stroke-width: 1.0;\"/><ellipse cx=\"86\" cy=\"287.98\" fill=\"#383838\" rx=\"2\" ry=\"2\" style=\"stroke: #383838; stroke-width: 1.0;\"/><ellipse cx=\"96\" cy=\"287.98\" fill=\"#383838\" rx=\"2\" ry=\"2\" style=\"stroke: #383838; stroke-width: 1.0;\"/></a><!--MD5=[2cfe899c895462254056921bfb67315f]\n",
       "link E13 to E11--><a href=\"psysml:69852053-465c-4b3e-807c-2facd65a229c\" target=\"_top\" title=\"psysml:69852053-465c-4b3e-807c-2facd65a229c\" xlink:actuate=\"onRequest\" xlink:href=\"psysml:69852053-465c-4b3e-807c-2facd65a229c\" xlink:show=\"new\" xlink:title=\"psysml:69852053-465c-4b3e-807c-2facd65a229c\" xlink:type=\"simple\"><path d=\"M108.36,236.29 C123.87,256.28 147.14,286.45 167,313 C173.57,321.78 180.66,331.44 186.97,340.12 \" fill=\"none\" id=\"E13-&gt;E11\" style=\"stroke: #383838; stroke-width: 1.0; stroke-dasharray: 7.0,7.0;\"/><polygon fill=\"#383838\" points=\"189.99,344.28,187.9274,334.6496,187.0474,340.2376,181.4594,339.3576,189.99,344.28\" style=\"stroke: #383838; stroke-width: 1.0;\"/><text fill=\"#000000\" font-family=\"sans-serif\" font-size=\"13\" lengthAdjust=\"spacingAndGlyphs\" textLength=\"57\" x=\"145\" y=\"279.0669\">«satisfy»</text></a><!--MD5=[80f0e6a433337866075736df662167f1]\n",
       "@startuml\r\n",
       "top to bottom direction\r\n",
       "skinparam monochrome true\r\n",
       "skinparam classbackgroundcolor white\r\n",
       "skinparam shadowing false\r\n",
       "skinparam wrapWidth 300\r\n",
       "hide circle\r\n",
       "\r\n",
       "package \"RequirementTest\" as E1  [[psysml:7a32e4ca-d886-48d1-a22e-a4337a6af1e2 ]]  {\r\n",
       "comp def \"C\" as E2  <<(T,blue)constraint def>> [[psysml:c5fd5931-ea17-4576-af97-a79679b06835 ]] {\r\n",
       "}\r\n",
       "comp usage \"c: C\" as E3  <<(T,blue)constraint>> [[psysml:23e87db0-b26a-4449-ad29-18415d83eb38 ]] {\r\n",
       "}\r\n",
       "comp def \"R\" as E4  <<(T,blue)requirement def>> [[psysml:aa32b181-0a7a-45c2-8d8e-c84b0489ed31 ]] {\r\n",
       "\r\n",
       "- -\r\n",
       "- - constraints - -\r\n",
       "<b>require</b> c\r\n",
       "<i>assume</i> c1: C\r\n",
       "}\r\n",
       "comp def \" [<b>1</b>] A\" as E5  <<(T,blue)requirement def>> [[psysml:c7a4f64d-f76e-4f11-bab9-561a5696e580 ]] {\r\n",
       "Text\r\n",
       "- -\r\n",
       "}\r\n",
       "comp usage \"<s>noname</s>\" as E8  <<(T,blue)requirement>> [[psysml:165156c7-6d13-47e8-9214-4efd9fbee902 ]] {\r\n",
       "}\r\n",
       "comp def \"R1\" as E9  <<(T,blue)requirement def>> [[psysml:5b4d3eaf-f72e-4f96-998b-f4a0a57df239 ]] {\r\n",
       "- - constraints - -\r\n",
       "<b>require</b> c1\\n//:>>RequirementTest::c// \r\n",
       "}\r\n",
       "comp usage \"p\" as E11  <<(T,blue)part>> [[psysml:8fb932f6-fc92-43ad-aa0e-8cfa7b71c9b3 ]] {\r\n",
       "}\r\n",
       "comp usage \"q\" as E12  <<(T,blue)part>> [[psysml:9b734dfd-0e44-4ae0-bd37-d0a03d4a12cd ]] {\r\n",
       "}\r\n",
       "comp usage \"r: R\" as E13  <<(T,blue)requirement>> [[psysml:5a1cae69-7149-47dc-88a9-208fdbfbba4b ]] {\r\n",
       "}\r\n",
       "E3 - -:|> E2 [[psysml:bb92853b-9a42-4685-9891-57f30cbf18f8 ]] \r\n",
       "E4 +- - E5 [[psysml:c7a4f64d-f76e-4f11-bab9-561a5696e580 ]] \r\n",
       "E4 *- - E8 [[psysml:165156c7-6d13-47e8-9214-4efd9fbee902 ]] \r\n",
       "E12 *- - E13 [[psysml:5a1cae69-7149-47dc-88a9-208fdbfbba4b ]] \r\n",
       "E13 - -:|> E4 [[psysml:9a693856-e1d7-4623-99b4-c4529bf04054 ]] \r\n",
       "E13 ..> E11 [[psysml:69852053-465c-4b3e-807c-2facd65a229c ]] : <<satisfy>>\r\n",
       "}\r\n",
       "@enduml\r\n",
       "\n",
       "PlantUML version 1.2020.13(Sat Jun 13 12:26:38 UTC 2020)\n",
       "(EPL source distribution)\n",
       "Java Runtime: OpenJDK Runtime Environment\n",
       "JVM: OpenJDK 64-Bit Server VM\n",
       "Default Encoding: UTF-8\n",
       "Language: en\n",
       "Country: null\n",
       "--></g></svg>"
      ]
     },
     "execution_count": 49,
     "metadata": {},
     "output_type": "execute_result"
    }
   ],
   "source": [
    "%viz --style=\"TB\" --view=\"Sequence\" \"RequirementTest\""
   ]
  },
  {
   "cell_type": "code",
   "execution_count": 50,
   "id": "placed-scientist",
   "metadata": {
    "execution": {
     "iopub.execute_input": "2021-03-25T09:27:18.288531Z",
     "iopub.status.busy": "2021-03-25T09:27:18.287795Z",
     "iopub.status.idle": "2021-03-25T09:27:19.136291Z",
     "shell.execute_reply": "2021-03-25T09:27:19.134710Z"
    }
   },
   "outputs": [
    {
     "data": {
      "image/svg+xml": [
       "<?xml version=\"1.0\" encoding=\"UTF-8\" standalone=\"no\"?><svg xmlns=\"http://www.w3.org/2000/svg\" xmlns:xlink=\"http://www.w3.org/1999/xlink\" contentScriptType=\"application/ecmascript\" contentStyleType=\"text/css\" height=\"578px\" preserveAspectRatio=\"none\" style=\"width:408px;height:578px;\" version=\"1.1\" viewBox=\"0 0 408 578\" width=\"408px\" zoomAndPan=\"magnify\"><defs/><g><!--MD5=[fbc87193dbaf4d95561dea2c320d4a47]\n",
       "cluster E1--><a href=\"psysml:7a32e4ca-d886-48d1-a22e-a4337a6af1e2\" target=\"_top\" title=\"psysml:7a32e4ca-d886-48d1-a22e-a4337a6af1e2\" xlink:actuate=\"onRequest\" xlink:href=\"psysml:7a32e4ca-d886-48d1-a22e-a4337a6af1e2\" xlink:show=\"new\" xlink:title=\"psysml:7a32e4ca-d886-48d1-a22e-a4337a6af1e2\" xlink:type=\"simple\"><polygon fill=\"#FFFFFF\" points=\"16,6,158,6,165,28.2969,386,28.2969,386,566,16,566,16,6\" style=\"stroke: #000000; stroke-width: 1.5;\"/><line style=\"stroke: #000000; stroke-width: 1.5;\" x1=\"16\" x2=\"165\" y1=\"28.2969\" y2=\"28.2969\"/><text fill=\"#000000\" font-family=\"sans-serif\" font-size=\"14\" font-weight=\"bold\" lengthAdjust=\"spacingAndGlyphs\" textLength=\"136\" x=\"20\" y=\"20.9951\">RequirementTest</text></a><!--MD5=[b4997ac47864f28c2f74865a473b2911]\n",
       "class E2--><a href=\"psysml:c5fd5931-ea17-4576-af97-a79679b06835\" target=\"_top\" title=\"psysml:c5fd5931-ea17-4576-af97-a79679b06835\" xlink:actuate=\"onRequest\" xlink:href=\"psysml:c5fd5931-ea17-4576-af97-a79679b06835\" xlink:show=\"new\" xlink:title=\"psysml:c5fd5931-ea17-4576-af97-a79679b06835\" xlink:type=\"simple\"><rect fill=\"#FFFFFF\" height=\"45.9375\" id=\"E2\" style=\"stroke: #383838; stroke-width: 1.5;\" width=\"104\" x=\"266\" y=\"190\"/><text fill=\"#000000\" font-family=\"sans-serif\" font-size=\"12\" font-style=\"italic\" lengthAdjust=\"spacingAndGlyphs\" textLength=\"102\" x=\"267\" y=\"206.1387\">«constraint def»</text><text fill=\"#000000\" font-family=\"sans-serif\" font-size=\"12\" lengthAdjust=\"spacingAndGlyphs\" textLength=\"8\" x=\"314\" y=\"220.1074\">C</text><line style=\"stroke: #383838; stroke-width: 1.5;\" x1=\"267\" x2=\"369\" y1=\"227.9375\" y2=\"227.9375\"/></a><!--MD5=[09b614a08d8cba4a07c9adeb5e0fee81]\n",
       "class E3--><a href=\"psysml:23e87db0-b26a-4449-ad29-18415d83eb38\" target=\"_top\" title=\"psysml:23e87db0-b26a-4449-ad29-18415d83eb38\" xlink:actuate=\"onRequest\" xlink:href=\"psysml:23e87db0-b26a-4449-ad29-18415d83eb38\" xlink:show=\"new\" xlink:title=\"psysml:23e87db0-b26a-4449-ad29-18415d83eb38\" xlink:type=\"simple\"><rect fill=\"#FFFFFF\" height=\"45.9375\" id=\"E3\" rx=\"10\" ry=\"10\" style=\"stroke: #383838; stroke-width: 1.5;\" width=\"80\" x=\"290\" y=\"62\"/><text fill=\"#000000\" font-family=\"sans-serif\" font-size=\"12\" font-style=\"italic\" lengthAdjust=\"spacingAndGlyphs\" textLength=\"78\" x=\"291\" y=\"78.1387\">«constraint»</text><text fill=\"#000000\" font-family=\"sans-serif\" font-size=\"12\" lengthAdjust=\"spacingAndGlyphs\" textLength=\"23\" x=\"318.5\" y=\"92.1074\">c: C</text><line style=\"stroke: #383838; stroke-width: 1.5;\" x1=\"291\" x2=\"369\" y1=\"99.9375\" y2=\"99.9375\"/></a><!--MD5=[ebbe1d658d1005bcc118a6aa81145e00]\n",
       "class E4--><a href=\"psysml:aa32b181-0a7a-45c2-8d8e-c84b0489ed31\" target=\"_top\" title=\"psysml:aa32b181-0a7a-45c2-8d8e-c84b0489ed31\" xlink:actuate=\"onRequest\" xlink:href=\"psysml:aa32b181-0a7a-45c2-8d8e-c84b0489ed31\" xlink:show=\"new\" xlink:title=\"psysml:aa32b181-0a7a-45c2-8d8e-c84b0489ed31\" xlink:type=\"simple\"><rect fill=\"#FFFFFF\" height=\"109.1563\" id=\"E4\" style=\"stroke: #383838; stroke-width: 1.5;\" width=\"117\" x=\"32.5\" y=\"313\"/><text fill=\"#000000\" font-family=\"sans-serif\" font-size=\"12\" font-style=\"italic\" lengthAdjust=\"spacingAndGlyphs\" textLength=\"115\" x=\"33.5\" y=\"329.1387\">«requirement def»</text><text fill=\"#000000\" font-family=\"sans-serif\" font-size=\"12\" lengthAdjust=\"spacingAndGlyphs\" textLength=\"8\" x=\"87\" y=\"343.1074\">R</text><line style=\"stroke: #383838; stroke-width: 1.5;\" x1=\"33.5\" x2=\"148.5\" y1=\"350.9375\" y2=\"350.9375\"/><text fill=\"#000000\" font-family=\"sans-serif\" font-size=\"11\" lengthAdjust=\"spacingAndGlyphs\" textLength=\"0\" x=\"42.5\" y=\"365.1479\"/><line style=\"stroke: #383838; stroke-width: 1.0;\" x1=\"33.5\" x2=\"148.5\" y1=\"371.7422\" y2=\"371.7422\"/><text fill=\"#000000\" font-family=\"sans-serif\" font-size=\"11\" font-weight=\"bold\" lengthAdjust=\"spacingAndGlyphs\" textLength=\"46\" x=\"38.5\" y=\"402.7573\">require</text><text fill=\"#000000\" font-family=\"sans-serif\" font-size=\"11\" lengthAdjust=\"spacingAndGlyphs\" textLength=\"6\" x=\"88.5\" y=\"402.7573\">c</text><text fill=\"#000000\" font-family=\"sans-serif\" font-size=\"11\" font-style=\"italic\" lengthAdjust=\"spacingAndGlyphs\" textLength=\"46\" x=\"38.5\" y=\"415.562\">assume</text><text fill=\"#000000\" font-family=\"sans-serif\" font-size=\"11\" lengthAdjust=\"spacingAndGlyphs\" textLength=\"29\" x=\"88.5\" y=\"415.562\">c1: C</text><line style=\"stroke: #383838; stroke-width: 1.0;\" x1=\"33.5\" x2=\"59\" y1=\"386.1445\" y2=\"386.1445\"/><text fill=\"#000000\" font-family=\"sans-serif\" font-size=\"11\" lengthAdjust=\"spacingAndGlyphs\" textLength=\"64\" x=\"59\" y=\"389.4526\">constraints</text><line style=\"stroke: #383838; stroke-width: 1.0;\" x1=\"123\" x2=\"148.5\" y1=\"386.1445\" y2=\"386.1445\"/></a><!--MD5=[270fce915f116d4de14055a7c1d9a0f3]\n",
       "class E5--><a href=\"psysml:c7a4f64d-f76e-4f11-bab9-561a5696e580\" target=\"_top\" title=\"psysml:c7a4f64d-f76e-4f11-bab9-561a5696e580\" xlink:actuate=\"onRequest\" xlink:href=\"psysml:c7a4f64d-f76e-4f11-bab9-561a5696e580\" xlink:show=\"new\" xlink:title=\"psysml:c7a4f64d-f76e-4f11-bab9-561a5696e580\" xlink:type=\"simple\"><rect fill=\"#FFFFFF\" height=\"66.7422\" id=\"E5\" style=\"stroke: #383838; stroke-width: 1.5;\" width=\"117\" x=\"32.5\" y=\"483\"/><text fill=\"#000000\" font-family=\"sans-serif\" font-size=\"12\" font-style=\"italic\" lengthAdjust=\"spacingAndGlyphs\" textLength=\"115\" x=\"33.5\" y=\"499.1387\">«requirement def»</text><text fill=\"#000000\" font-family=\"sans-serif\" font-size=\"12\" lengthAdjust=\"spacingAndGlyphs\" textLength=\"5\" x=\"78\" y=\"513.1074\">[</text><text fill=\"#000000\" font-family=\"sans-serif\" font-size=\"12\" font-weight=\"bold\" lengthAdjust=\"spacingAndGlyphs\" textLength=\"8\" x=\"83\" y=\"513.1074\">1</text><text fill=\"#000000\" font-family=\"sans-serif\" font-size=\"12\" lengthAdjust=\"spacingAndGlyphs\" textLength=\"17\" x=\"91\" y=\"513.1074\">] A</text><line style=\"stroke: #383838; stroke-width: 1.5;\" x1=\"33.5\" x2=\"148.5\" y1=\"520.9375\" y2=\"520.9375\"/><text fill=\"#000000\" font-family=\"sans-serif\" font-size=\"11\" lengthAdjust=\"spacingAndGlyphs\" textLength=\"24\" x=\"38.5\" y=\"535.1479\">Text</text><line style=\"stroke: #383838; stroke-width: 1.0;\" x1=\"33.5\" x2=\"148.5\" y1=\"541.7422\" y2=\"541.7422\"/></a><!--MD5=[b9389687b975829384b498ac4b7476b2]\n",
       "class E8--><a href=\"psysml:165156c7-6d13-47e8-9214-4efd9fbee902\" target=\"_top\" title=\"psysml:165156c7-6d13-47e8-9214-4efd9fbee902\" xlink:actuate=\"onRequest\" xlink:href=\"psysml:165156c7-6d13-47e8-9214-4efd9fbee902\" xlink:show=\"new\" xlink:title=\"psysml:165156c7-6d13-47e8-9214-4efd9fbee902\" xlink:type=\"simple\"><rect fill=\"#FFFFFF\" height=\"45.9375\" id=\"E8\" rx=\"10\" ry=\"10\" style=\"stroke: #383838; stroke-width: 1.5;\" width=\"93\" x=\"184.5\" y=\"493.5\"/><text fill=\"#000000\" font-family=\"sans-serif\" font-size=\"12\" font-style=\"italic\" lengthAdjust=\"spacingAndGlyphs\" textLength=\"91\" x=\"185.5\" y=\"509.6387\">«requirement»</text><text fill=\"#000000\" font-family=\"sans-serif\" font-size=\"12\" lengthAdjust=\"spacingAndGlyphs\" text-decoration=\"line-through\" textLength=\"51\" x=\"205.5\" y=\"523.6074\">noname</text><line style=\"stroke: #383838; stroke-width: 1.5;\" x1=\"185.5\" x2=\"276.5\" y1=\"531.4375\" y2=\"531.4375\"/></a><!--MD5=[fd4143e9d270a159db93a4ea2a975926]\n",
       "class E9--><a href=\"psysml:5b4d3eaf-f72e-4f96-998b-f4a0a57df239\" target=\"_top\" title=\"psysml:5b4d3eaf-f72e-4f96-998b-f4a0a57df239\" xlink:actuate=\"onRequest\" xlink:href=\"psysml:5b4d3eaf-f72e-4f96-998b-f4a0a57df239\" xlink:show=\"new\" xlink:title=\"psysml:5b4d3eaf-f72e-4f96-998b-f4a0a57df239\" xlink:type=\"simple\"><rect fill=\"#FFFFFF\" height=\"88.3516\" id=\"E9\" style=\"stroke: #383838; stroke-width: 1.5;\" width=\"145\" x=\"109.5\" y=\"41\"/><text fill=\"#000000\" font-family=\"sans-serif\" font-size=\"12\" font-style=\"italic\" lengthAdjust=\"spacingAndGlyphs\" textLength=\"115\" x=\"124.5\" y=\"57.1387\">«requirement def»</text><text fill=\"#000000\" font-family=\"sans-serif\" font-size=\"12\" lengthAdjust=\"spacingAndGlyphs\" textLength=\"16\" x=\"174\" y=\"71.1074\">R1</text><line style=\"stroke: #383838; stroke-width: 1.5;\" x1=\"110.5\" x2=\"253.5\" y1=\"78.9375\" y2=\"78.9375\"/><text fill=\"#000000\" font-family=\"sans-serif\" font-size=\"11\" font-weight=\"bold\" lengthAdjust=\"spacingAndGlyphs\" textLength=\"46\" x=\"115.5\" y=\"109.9526\">require</text><text fill=\"#000000\" font-family=\"sans-serif\" font-size=\"11\" lengthAdjust=\"spacingAndGlyphs\" textLength=\"13\" x=\"165.5\" y=\"109.9526\">c1</text><text fill=\"#000000\" font-family=\"sans-serif\" font-size=\"11\" font-style=\"italic\" lengthAdjust=\"spacingAndGlyphs\" textLength=\"133\" x=\"115.5\" y=\"122.7573\">:&gt;&gt;RequirementTest::c</text><line style=\"stroke: #383838; stroke-width: 1.0;\" x1=\"110.5\" x2=\"150\" y1=\"93.3398\" y2=\"93.3398\"/><text fill=\"#000000\" font-family=\"sans-serif\" font-size=\"11\" lengthAdjust=\"spacingAndGlyphs\" textLength=\"64\" x=\"150\" y=\"96.6479\">constraints</text><line style=\"stroke: #383838; stroke-width: 1.0;\" x1=\"214\" x2=\"253.5\" y1=\"93.3398\" y2=\"93.3398\"/></a><!--MD5=[1dd1bfd58a279cf63c5f349dbc8fc6a1]\n",
       "class E11--><a href=\"psysml:8fb932f6-fc92-43ad-aa0e-8cfa7b71c9b3\" target=\"_top\" title=\"psysml:8fb932f6-fc92-43ad-aa0e-8cfa7b71c9b3\" xlink:actuate=\"onRequest\" xlink:href=\"psysml:8fb932f6-fc92-43ad-aa0e-8cfa7b71c9b3\" xlink:show=\"new\" xlink:title=\"psysml:8fb932f6-fc92-43ad-aa0e-8cfa7b71c9b3\" xlink:type=\"simple\"><rect fill=\"#FFFFFF\" height=\"45.9375\" id=\"E11\" rx=\"10\" ry=\"10\" style=\"stroke: #383838; stroke-width: 1.5;\" width=\"42\" x=\"185\" y=\"344.5\"/><text fill=\"#000000\" font-family=\"sans-serif\" font-size=\"12\" font-style=\"italic\" lengthAdjust=\"spacingAndGlyphs\" textLength=\"40\" x=\"186\" y=\"360.6387\">«part»</text><text fill=\"#000000\" font-family=\"sans-serif\" font-size=\"12\" lengthAdjust=\"spacingAndGlyphs\" textLength=\"8\" x=\"202\" y=\"374.6074\">p</text><line style=\"stroke: #383838; stroke-width: 1.5;\" x1=\"186\" x2=\"226\" y1=\"382.4375\" y2=\"382.4375\"/></a><!--MD5=[49a0ec8f00dab7302a31f22d0f0fe584]\n",
       "class E12--><a href=\"psysml:9b734dfd-0e44-4ae0-bd37-d0a03d4a12cd\" target=\"_top\" title=\"psysml:9b734dfd-0e44-4ae0-bd37-d0a03d4a12cd\" xlink:actuate=\"onRequest\" xlink:href=\"psysml:9b734dfd-0e44-4ae0-bd37-d0a03d4a12cd\" xlink:show=\"new\" xlink:title=\"psysml:9b734dfd-0e44-4ae0-bd37-d0a03d4a12cd\" xlink:type=\"simple\"><rect fill=\"#FFFFFF\" height=\"45.9375\" id=\"E12\" rx=\"10\" ry=\"10\" style=\"stroke: #383838; stroke-width: 1.5;\" width=\"42\" x=\"32\" y=\"62\"/><text fill=\"#000000\" font-family=\"sans-serif\" font-size=\"12\" font-style=\"italic\" lengthAdjust=\"spacingAndGlyphs\" textLength=\"40\" x=\"33\" y=\"78.1387\">«part»</text><text fill=\"#000000\" font-family=\"sans-serif\" font-size=\"12\" lengthAdjust=\"spacingAndGlyphs\" textLength=\"8\" x=\"49\" y=\"92.1074\">q</text><line style=\"stroke: #383838; stroke-width: 1.5;\" x1=\"33\" x2=\"73\" y1=\"99.9375\" y2=\"99.9375\"/></a><!--MD5=[ee3c913d1a06f366521f9ef512b67efe]\n",
       "class E13--><a href=\"psysml:5a1cae69-7149-47dc-88a9-208fdbfbba4b\" target=\"_top\" title=\"psysml:5a1cae69-7149-47dc-88a9-208fdbfbba4b\" xlink:actuate=\"onRequest\" xlink:href=\"psysml:5a1cae69-7149-47dc-88a9-208fdbfbba4b\" xlink:show=\"new\" xlink:title=\"psysml:5a1cae69-7149-47dc-88a9-208fdbfbba4b\" xlink:type=\"simple\"><rect fill=\"#FFFFFF\" height=\"45.9375\" id=\"E13\" rx=\"10\" ry=\"10\" style=\"stroke: #383838; stroke-width: 1.5;\" width=\"93\" x=\"44.5\" y=\"190\"/><text fill=\"#000000\" font-family=\"sans-serif\" font-size=\"12\" font-style=\"italic\" lengthAdjust=\"spacingAndGlyphs\" textLength=\"91\" x=\"45.5\" y=\"206.1387\">«requirement»</text><text fill=\"#000000\" font-family=\"sans-serif\" font-size=\"12\" lengthAdjust=\"spacingAndGlyphs\" textLength=\"21\" x=\"80.5\" y=\"220.1074\">r: R</text><line style=\"stroke: #383838; stroke-width: 1.5;\" x1=\"45.5\" x2=\"136.5\" y1=\"227.9375\" y2=\"227.9375\"/></a><!--MD5=[05d275557350bfb9b23a4ef7222b4c39]\n",
       "link E3 to E2--><a href=\"psysml:bb92853b-9a42-4685-9891-57f30cbf18f8\" target=\"_top\" title=\"psysml:bb92853b-9a42-4685-9891-57f30cbf18f8\" xlink:actuate=\"onRequest\" xlink:href=\"psysml:bb92853b-9a42-4685-9891-57f30cbf18f8\" xlink:show=\"new\" xlink:title=\"psysml:bb92853b-9a42-4685-9891-57f30cbf18f8\" xlink:type=\"simple\"><path d=\"M327.88,108.24 C326.26,125.24 323.98,149.19 322.02,169.79 \" fill=\"none\" id=\"E3-&gt;E2\" style=\"stroke: #383838; stroke-width: 1.0;\"/><polygon fill=\"#FFFFFF\" points=\"320.1,189.99,314.9362,170.411,328.8729,171.7407,320.1,189.99\" style=\"stroke: #383838; stroke-width: 1.0;\"/><ellipse cx=\"317.4685\" cy=\"164.9268\" fill=\"#383838\" rx=\"2\" ry=\"2\" style=\"stroke: #383838; stroke-width: 1.0;\"/><ellipse cx=\"327.4233\" cy=\"165.8765\" fill=\"#383838\" rx=\"2\" ry=\"2\" style=\"stroke: #383838; stroke-width: 1.0;\"/></a><!--MD5=[62aa6af11e70f752912c1cb0466f24f7]\n",
       "reverse link E4 to E5--><a href=\"psysml:c7a4f64d-f76e-4f11-bab9-561a5696e580\" target=\"_top\" title=\"psysml:c7a4f64d-f76e-4f11-bab9-561a5696e580\" xlink:actuate=\"onRequest\" xlink:href=\"psysml:c7a4f64d-f76e-4f11-bab9-561a5696e580\" xlink:show=\"new\" xlink:title=\"psysml:c7a4f64d-f76e-4f11-bab9-561a5696e580\" xlink:type=\"simple\"><path d=\"M91,437.45 C91,453.34 91,469.51 91,482.98 \" fill=\"none\" id=\"E4&lt;-E5\" style=\"stroke: #383838; stroke-width: 1.0;\"/><ellipse cx=\"91\" cy=\"430.4\" fill=\"#FFFFFF\" rx=\"8\" ry=\"8\" style=\"stroke: #383838; stroke-width: 1.0;\"/><line style=\"stroke: #383838; stroke-width: 1.0;\" x1=\"91\" x2=\"91\" y1=\"438.4\" y2=\"422.4\"/><line style=\"stroke: #383838; stroke-width: 1.0;\" x1=\"83\" x2=\"99\" y1=\"430.4\" y2=\"430.4\"/></a><!--MD5=[c6fc7cdb0cabde04948078cf183fa696]\n",
       "reverse link E4 to E8--><a href=\"psysml:165156c7-6d13-47e8-9214-4efd9fbee902\" target=\"_top\" title=\"psysml:165156c7-6d13-47e8-9214-4efd9fbee902\" xlink:actuate=\"onRequest\" xlink:href=\"psysml:165156c7-6d13-47e8-9214-4efd9fbee902\" xlink:show=\"new\" xlink:title=\"psysml:165156c7-6d13-47e8-9214-4efd9fbee902\" xlink:type=\"simple\"><path d=\"M151.51,432.04 C172.42,453.99 194.47,477.14 210.03,493.48 \" fill=\"none\" id=\"E4&lt;-E8\" style=\"stroke: #383838; stroke-width: 1.0;\"/><polygon fill=\"#383838\" points=\"142.34,422.4,143.5779,429.5041,150.6116,431.0937,149.3737,423.9897,142.34,422.4\" style=\"stroke: #383838; stroke-width: 1.0;\"/></a><!--MD5=[062ed86c389d1a88f61c6380d0491e17]\n",
       "reverse link E12 to E13--><a href=\"psysml:5a1cae69-7149-47dc-88a9-208fdbfbba4b\" target=\"_top\" title=\"psysml:5a1cae69-7149-47dc-88a9-208fdbfbba4b\" xlink:actuate=\"onRequest\" xlink:href=\"psysml:5a1cae69-7149-47dc-88a9-208fdbfbba4b\" xlink:show=\"new\" xlink:title=\"psysml:5a1cae69-7149-47dc-88a9-208fdbfbba4b\" xlink:type=\"simple\"><path d=\"M63.49,120.8 C70.17,142.92 78.6,170.89 84.36,189.99 \" fill=\"none\" id=\"E12&lt;-E13\" style=\"stroke: #383838; stroke-width: 1.0;\"/><polygon fill=\"#383838\" points=\"59.71,108.24,57.6129,115.1394,63.1751,119.7288,65.2722,112.8294,59.71,108.24\" style=\"stroke: #383838; stroke-width: 1.0;\"/></a><!--MD5=[017847e01ff9a8bd19f247411074f987]\n",
       "link E13 to E4--><a href=\"psysml:9a693856-e1d7-4623-99b4-c4529bf04054\" target=\"_top\" title=\"psysml:9a693856-e1d7-4623-99b4-c4529bf04054\" xlink:actuate=\"onRequest\" xlink:href=\"psysml:9a693856-e1d7-4623-99b4-c4529bf04054\" xlink:show=\"new\" xlink:title=\"psysml:9a693856-e1d7-4623-99b4-c4529bf04054\" xlink:type=\"simple\"><path d=\"M91,236.17 C91,251.17 91,271.91 91,292.44 \" fill=\"none\" id=\"E13-&gt;E4\" style=\"stroke: #383838; stroke-width: 1.0;\"/><polygon fill=\"#FFFFFF\" points=\"91,312.68,84,293.68,98,293.68,91,312.68\" style=\"stroke: #383838; stroke-width: 1.0;\"/><ellipse cx=\"86\" cy=\"287.98\" fill=\"#383838\" rx=\"2\" ry=\"2\" style=\"stroke: #383838; stroke-width: 1.0;\"/><ellipse cx=\"96\" cy=\"287.98\" fill=\"#383838\" rx=\"2\" ry=\"2\" style=\"stroke: #383838; stroke-width: 1.0;\"/></a><!--MD5=[2cfe899c895462254056921bfb67315f]\n",
       "link E13 to E11--><a href=\"psysml:69852053-465c-4b3e-807c-2facd65a229c\" target=\"_top\" title=\"psysml:69852053-465c-4b3e-807c-2facd65a229c\" xlink:actuate=\"onRequest\" xlink:href=\"psysml:69852053-465c-4b3e-807c-2facd65a229c\" xlink:show=\"new\" xlink:title=\"psysml:69852053-465c-4b3e-807c-2facd65a229c\" xlink:type=\"simple\"><path d=\"M108.36,236.29 C123.87,256.28 147.14,286.45 167,313 C173.57,321.78 180.66,331.44 186.97,340.12 \" fill=\"none\" id=\"E13-&gt;E11\" style=\"stroke: #383838; stroke-width: 1.0; stroke-dasharray: 7.0,7.0;\"/><polygon fill=\"#383838\" points=\"189.99,344.28,187.9274,334.6496,187.0474,340.2376,181.4594,339.3576,189.99,344.28\" style=\"stroke: #383838; stroke-width: 1.0;\"/><text fill=\"#000000\" font-family=\"sans-serif\" font-size=\"13\" lengthAdjust=\"spacingAndGlyphs\" textLength=\"57\" x=\"145\" y=\"279.0669\">«satisfy»</text></a><!--MD5=[80f0e6a433337866075736df662167f1]\n",
       "@startuml\r\n",
       "top to bottom direction\r\n",
       "skinparam monochrome true\r\n",
       "skinparam classbackgroundcolor white\r\n",
       "skinparam shadowing false\r\n",
       "skinparam wrapWidth 300\r\n",
       "hide circle\r\n",
       "\r\n",
       "package \"RequirementTest\" as E1  [[psysml:7a32e4ca-d886-48d1-a22e-a4337a6af1e2 ]]  {\r\n",
       "comp def \"C\" as E2  <<(T,blue)constraint def>> [[psysml:c5fd5931-ea17-4576-af97-a79679b06835 ]] {\r\n",
       "}\r\n",
       "comp usage \"c: C\" as E3  <<(T,blue)constraint>> [[psysml:23e87db0-b26a-4449-ad29-18415d83eb38 ]] {\r\n",
       "}\r\n",
       "comp def \"R\" as E4  <<(T,blue)requirement def>> [[psysml:aa32b181-0a7a-45c2-8d8e-c84b0489ed31 ]] {\r\n",
       "\r\n",
       "- -\r\n",
       "- - constraints - -\r\n",
       "<b>require</b> c\r\n",
       "<i>assume</i> c1: C\r\n",
       "}\r\n",
       "comp def \" [<b>1</b>] A\" as E5  <<(T,blue)requirement def>> [[psysml:c7a4f64d-f76e-4f11-bab9-561a5696e580 ]] {\r\n",
       "Text\r\n",
       "- -\r\n",
       "}\r\n",
       "comp usage \"<s>noname</s>\" as E8  <<(T,blue)requirement>> [[psysml:165156c7-6d13-47e8-9214-4efd9fbee902 ]] {\r\n",
       "}\r\n",
       "comp def \"R1\" as E9  <<(T,blue)requirement def>> [[psysml:5b4d3eaf-f72e-4f96-998b-f4a0a57df239 ]] {\r\n",
       "- - constraints - -\r\n",
       "<b>require</b> c1\\n//:>>RequirementTest::c// \r\n",
       "}\r\n",
       "comp usage \"p\" as E11  <<(T,blue)part>> [[psysml:8fb932f6-fc92-43ad-aa0e-8cfa7b71c9b3 ]] {\r\n",
       "}\r\n",
       "comp usage \"q\" as E12  <<(T,blue)part>> [[psysml:9b734dfd-0e44-4ae0-bd37-d0a03d4a12cd ]] {\r\n",
       "}\r\n",
       "comp usage \"r: R\" as E13  <<(T,blue)requirement>> [[psysml:5a1cae69-7149-47dc-88a9-208fdbfbba4b ]] {\r\n",
       "}\r\n",
       "E3 - -:|> E2 [[psysml:bb92853b-9a42-4685-9891-57f30cbf18f8 ]] \r\n",
       "E4 +- - E5 [[psysml:c7a4f64d-f76e-4f11-bab9-561a5696e580 ]] \r\n",
       "E4 *- - E8 [[psysml:165156c7-6d13-47e8-9214-4efd9fbee902 ]] \r\n",
       "E12 *- - E13 [[psysml:5a1cae69-7149-47dc-88a9-208fdbfbba4b ]] \r\n",
       "E13 - -:|> E4 [[psysml:9a693856-e1d7-4623-99b4-c4529bf04054 ]] \r\n",
       "E13 ..> E11 [[psysml:69852053-465c-4b3e-807c-2facd65a229c ]] : <<satisfy>>\r\n",
       "}\r\n",
       "@enduml\r\n",
       "\n",
       "PlantUML version 1.2020.13(Sat Jun 13 12:26:38 UTC 2020)\n",
       "(EPL source distribution)\n",
       "Java Runtime: OpenJDK Runtime Environment\n",
       "JVM: OpenJDK 64-Bit Server VM\n",
       "Default Encoding: UTF-8\n",
       "Language: en\n",
       "Country: null\n",
       "--></g></svg>"
      ]
     },
     "execution_count": 50,
     "metadata": {},
     "output_type": "execute_result"
    }
   ],
   "source": [
    "%viz --style=\"TB\" --view=\"MIXED\" \"RequirementTest\""
   ]
  },
  {
   "cell_type": "code",
   "execution_count": 51,
   "id": "postal-christianity",
   "metadata": {
    "execution": {
     "iopub.execute_input": "2021-03-25T09:27:19.187952Z",
     "iopub.status.busy": "2021-03-25T09:27:19.187160Z",
     "iopub.status.idle": "2021-03-25T09:27:20.033224Z",
     "shell.execute_reply": "2021-03-25T09:27:20.031246Z"
    }
   },
   "outputs": [
    {
     "data": {
      "image/svg+xml": [
       "<?xml version=\"1.0\" encoding=\"UTF-8\" standalone=\"no\"?><svg xmlns=\"http://www.w3.org/2000/svg\" xmlns:xlink=\"http://www.w3.org/1999/xlink\" contentScriptType=\"application/ecmascript\" contentStyleType=\"text/css\" height=\"578px\" preserveAspectRatio=\"none\" style=\"width:408px;height:578px;\" version=\"1.1\" viewBox=\"0 0 408 578\" width=\"408px\" zoomAndPan=\"magnify\"><defs/><g><!--MD5=[fbc87193dbaf4d95561dea2c320d4a47]\n",
       "cluster E1--><a href=\"psysml:7a32e4ca-d886-48d1-a22e-a4337a6af1e2\" target=\"_top\" title=\"psysml:7a32e4ca-d886-48d1-a22e-a4337a6af1e2\" xlink:actuate=\"onRequest\" xlink:href=\"psysml:7a32e4ca-d886-48d1-a22e-a4337a6af1e2\" xlink:show=\"new\" xlink:title=\"psysml:7a32e4ca-d886-48d1-a22e-a4337a6af1e2\" xlink:type=\"simple\"><polygon fill=\"#FFFFFF\" points=\"16,6,158,6,165,28.2969,386,28.2969,386,566,16,566,16,6\" style=\"stroke: #000000; stroke-width: 1.5;\"/><line style=\"stroke: #000000; stroke-width: 1.5;\" x1=\"16\" x2=\"165\" y1=\"28.2969\" y2=\"28.2969\"/><text fill=\"#000000\" font-family=\"sans-serif\" font-size=\"14\" font-weight=\"bold\" lengthAdjust=\"spacingAndGlyphs\" textLength=\"136\" x=\"20\" y=\"20.9951\">RequirementTest</text></a><!--MD5=[b4997ac47864f28c2f74865a473b2911]\n",
       "class E2--><a href=\"psysml:c5fd5931-ea17-4576-af97-a79679b06835\" target=\"_top\" title=\"psysml:c5fd5931-ea17-4576-af97-a79679b06835\" xlink:actuate=\"onRequest\" xlink:href=\"psysml:c5fd5931-ea17-4576-af97-a79679b06835\" xlink:show=\"new\" xlink:title=\"psysml:c5fd5931-ea17-4576-af97-a79679b06835\" xlink:type=\"simple\"><rect fill=\"#FFFFFF\" height=\"45.9375\" id=\"E2\" style=\"stroke: #383838; stroke-width: 1.5;\" width=\"104\" x=\"266\" y=\"190\"/><text fill=\"#000000\" font-family=\"sans-serif\" font-size=\"12\" font-style=\"italic\" lengthAdjust=\"spacingAndGlyphs\" textLength=\"102\" x=\"267\" y=\"206.1387\">«constraint def»</text><text fill=\"#000000\" font-family=\"sans-serif\" font-size=\"12\" lengthAdjust=\"spacingAndGlyphs\" textLength=\"8\" x=\"314\" y=\"220.1074\">C</text><line style=\"stroke: #383838; stroke-width: 1.5;\" x1=\"267\" x2=\"369\" y1=\"227.9375\" y2=\"227.9375\"/></a><!--MD5=[09b614a08d8cba4a07c9adeb5e0fee81]\n",
       "class E3--><a href=\"psysml:23e87db0-b26a-4449-ad29-18415d83eb38\" target=\"_top\" title=\"psysml:23e87db0-b26a-4449-ad29-18415d83eb38\" xlink:actuate=\"onRequest\" xlink:href=\"psysml:23e87db0-b26a-4449-ad29-18415d83eb38\" xlink:show=\"new\" xlink:title=\"psysml:23e87db0-b26a-4449-ad29-18415d83eb38\" xlink:type=\"simple\"><rect fill=\"#FFFFFF\" height=\"45.9375\" id=\"E3\" rx=\"10\" ry=\"10\" style=\"stroke: #383838; stroke-width: 1.5;\" width=\"80\" x=\"290\" y=\"62\"/><text fill=\"#000000\" font-family=\"sans-serif\" font-size=\"12\" font-style=\"italic\" lengthAdjust=\"spacingAndGlyphs\" textLength=\"78\" x=\"291\" y=\"78.1387\">«constraint»</text><text fill=\"#000000\" font-family=\"sans-serif\" font-size=\"12\" lengthAdjust=\"spacingAndGlyphs\" textLength=\"23\" x=\"318.5\" y=\"92.1074\">c: C</text><line style=\"stroke: #383838; stroke-width: 1.5;\" x1=\"291\" x2=\"369\" y1=\"99.9375\" y2=\"99.9375\"/></a><!--MD5=[ebbe1d658d1005bcc118a6aa81145e00]\n",
       "class E4--><a href=\"psysml:aa32b181-0a7a-45c2-8d8e-c84b0489ed31\" target=\"_top\" title=\"psysml:aa32b181-0a7a-45c2-8d8e-c84b0489ed31\" xlink:actuate=\"onRequest\" xlink:href=\"psysml:aa32b181-0a7a-45c2-8d8e-c84b0489ed31\" xlink:show=\"new\" xlink:title=\"psysml:aa32b181-0a7a-45c2-8d8e-c84b0489ed31\" xlink:type=\"simple\"><rect fill=\"#FFFFFF\" height=\"109.1563\" id=\"E4\" style=\"stroke: #383838; stroke-width: 1.5;\" width=\"117\" x=\"32.5\" y=\"313\"/><text fill=\"#000000\" font-family=\"sans-serif\" font-size=\"12\" font-style=\"italic\" lengthAdjust=\"spacingAndGlyphs\" textLength=\"115\" x=\"33.5\" y=\"329.1387\">«requirement def»</text><text fill=\"#000000\" font-family=\"sans-serif\" font-size=\"12\" lengthAdjust=\"spacingAndGlyphs\" textLength=\"8\" x=\"87\" y=\"343.1074\">R</text><line style=\"stroke: #383838; stroke-width: 1.5;\" x1=\"33.5\" x2=\"148.5\" y1=\"350.9375\" y2=\"350.9375\"/><text fill=\"#000000\" font-family=\"sans-serif\" font-size=\"11\" lengthAdjust=\"spacingAndGlyphs\" textLength=\"0\" x=\"42.5\" y=\"365.1479\"/><line style=\"stroke: #383838; stroke-width: 1.0;\" x1=\"33.5\" x2=\"148.5\" y1=\"371.7422\" y2=\"371.7422\"/><text fill=\"#000000\" font-family=\"sans-serif\" font-size=\"11\" font-weight=\"bold\" lengthAdjust=\"spacingAndGlyphs\" textLength=\"46\" x=\"38.5\" y=\"402.7573\">require</text><text fill=\"#000000\" font-family=\"sans-serif\" font-size=\"11\" lengthAdjust=\"spacingAndGlyphs\" textLength=\"6\" x=\"88.5\" y=\"402.7573\">c</text><text fill=\"#000000\" font-family=\"sans-serif\" font-size=\"11\" font-style=\"italic\" lengthAdjust=\"spacingAndGlyphs\" textLength=\"46\" x=\"38.5\" y=\"415.562\">assume</text><text fill=\"#000000\" font-family=\"sans-serif\" font-size=\"11\" lengthAdjust=\"spacingAndGlyphs\" textLength=\"29\" x=\"88.5\" y=\"415.562\">c1: C</text><line style=\"stroke: #383838; stroke-width: 1.0;\" x1=\"33.5\" x2=\"59\" y1=\"386.1445\" y2=\"386.1445\"/><text fill=\"#000000\" font-family=\"sans-serif\" font-size=\"11\" lengthAdjust=\"spacingAndGlyphs\" textLength=\"64\" x=\"59\" y=\"389.4526\">constraints</text><line style=\"stroke: #383838; stroke-width: 1.0;\" x1=\"123\" x2=\"148.5\" y1=\"386.1445\" y2=\"386.1445\"/></a><!--MD5=[270fce915f116d4de14055a7c1d9a0f3]\n",
       "class E5--><a href=\"psysml:c7a4f64d-f76e-4f11-bab9-561a5696e580\" target=\"_top\" title=\"psysml:c7a4f64d-f76e-4f11-bab9-561a5696e580\" xlink:actuate=\"onRequest\" xlink:href=\"psysml:c7a4f64d-f76e-4f11-bab9-561a5696e580\" xlink:show=\"new\" xlink:title=\"psysml:c7a4f64d-f76e-4f11-bab9-561a5696e580\" xlink:type=\"simple\"><rect fill=\"#FFFFFF\" height=\"66.7422\" id=\"E5\" style=\"stroke: #383838; stroke-width: 1.5;\" width=\"117\" x=\"32.5\" y=\"483\"/><text fill=\"#000000\" font-family=\"sans-serif\" font-size=\"12\" font-style=\"italic\" lengthAdjust=\"spacingAndGlyphs\" textLength=\"115\" x=\"33.5\" y=\"499.1387\">«requirement def»</text><text fill=\"#000000\" font-family=\"sans-serif\" font-size=\"12\" lengthAdjust=\"spacingAndGlyphs\" textLength=\"5\" x=\"78\" y=\"513.1074\">[</text><text fill=\"#000000\" font-family=\"sans-serif\" font-size=\"12\" font-weight=\"bold\" lengthAdjust=\"spacingAndGlyphs\" textLength=\"8\" x=\"83\" y=\"513.1074\">1</text><text fill=\"#000000\" font-family=\"sans-serif\" font-size=\"12\" lengthAdjust=\"spacingAndGlyphs\" textLength=\"17\" x=\"91\" y=\"513.1074\">] A</text><line style=\"stroke: #383838; stroke-width: 1.5;\" x1=\"33.5\" x2=\"148.5\" y1=\"520.9375\" y2=\"520.9375\"/><text fill=\"#000000\" font-family=\"sans-serif\" font-size=\"11\" lengthAdjust=\"spacingAndGlyphs\" textLength=\"24\" x=\"38.5\" y=\"535.1479\">Text</text><line style=\"stroke: #383838; stroke-width: 1.0;\" x1=\"33.5\" x2=\"148.5\" y1=\"541.7422\" y2=\"541.7422\"/></a><!--MD5=[b9389687b975829384b498ac4b7476b2]\n",
       "class E8--><a href=\"psysml:165156c7-6d13-47e8-9214-4efd9fbee902\" target=\"_top\" title=\"psysml:165156c7-6d13-47e8-9214-4efd9fbee902\" xlink:actuate=\"onRequest\" xlink:href=\"psysml:165156c7-6d13-47e8-9214-4efd9fbee902\" xlink:show=\"new\" xlink:title=\"psysml:165156c7-6d13-47e8-9214-4efd9fbee902\" xlink:type=\"simple\"><rect fill=\"#FFFFFF\" height=\"45.9375\" id=\"E8\" rx=\"10\" ry=\"10\" style=\"stroke: #383838; stroke-width: 1.5;\" width=\"93\" x=\"184.5\" y=\"493.5\"/><text fill=\"#000000\" font-family=\"sans-serif\" font-size=\"12\" font-style=\"italic\" lengthAdjust=\"spacingAndGlyphs\" textLength=\"91\" x=\"185.5\" y=\"509.6387\">«requirement»</text><text fill=\"#000000\" font-family=\"sans-serif\" font-size=\"12\" lengthAdjust=\"spacingAndGlyphs\" text-decoration=\"line-through\" textLength=\"51\" x=\"205.5\" y=\"523.6074\">noname</text><line style=\"stroke: #383838; stroke-width: 1.5;\" x1=\"185.5\" x2=\"276.5\" y1=\"531.4375\" y2=\"531.4375\"/></a><!--MD5=[fd4143e9d270a159db93a4ea2a975926]\n",
       "class E9--><a href=\"psysml:5b4d3eaf-f72e-4f96-998b-f4a0a57df239\" target=\"_top\" title=\"psysml:5b4d3eaf-f72e-4f96-998b-f4a0a57df239\" xlink:actuate=\"onRequest\" xlink:href=\"psysml:5b4d3eaf-f72e-4f96-998b-f4a0a57df239\" xlink:show=\"new\" xlink:title=\"psysml:5b4d3eaf-f72e-4f96-998b-f4a0a57df239\" xlink:type=\"simple\"><rect fill=\"#FFFFFF\" height=\"88.3516\" id=\"E9\" style=\"stroke: #383838; stroke-width: 1.5;\" width=\"145\" x=\"109.5\" y=\"41\"/><text fill=\"#000000\" font-family=\"sans-serif\" font-size=\"12\" font-style=\"italic\" lengthAdjust=\"spacingAndGlyphs\" textLength=\"115\" x=\"124.5\" y=\"57.1387\">«requirement def»</text><text fill=\"#000000\" font-family=\"sans-serif\" font-size=\"12\" lengthAdjust=\"spacingAndGlyphs\" textLength=\"16\" x=\"174\" y=\"71.1074\">R1</text><line style=\"stroke: #383838; stroke-width: 1.5;\" x1=\"110.5\" x2=\"253.5\" y1=\"78.9375\" y2=\"78.9375\"/><text fill=\"#000000\" font-family=\"sans-serif\" font-size=\"11\" font-weight=\"bold\" lengthAdjust=\"spacingAndGlyphs\" textLength=\"46\" x=\"115.5\" y=\"109.9526\">require</text><text fill=\"#000000\" font-family=\"sans-serif\" font-size=\"11\" lengthAdjust=\"spacingAndGlyphs\" textLength=\"13\" x=\"165.5\" y=\"109.9526\">c1</text><text fill=\"#000000\" font-family=\"sans-serif\" font-size=\"11\" font-style=\"italic\" lengthAdjust=\"spacingAndGlyphs\" textLength=\"133\" x=\"115.5\" y=\"122.7573\">:&gt;&gt;RequirementTest::c</text><line style=\"stroke: #383838; stroke-width: 1.0;\" x1=\"110.5\" x2=\"150\" y1=\"93.3398\" y2=\"93.3398\"/><text fill=\"#000000\" font-family=\"sans-serif\" font-size=\"11\" lengthAdjust=\"spacingAndGlyphs\" textLength=\"64\" x=\"150\" y=\"96.6479\">constraints</text><line style=\"stroke: #383838; stroke-width: 1.0;\" x1=\"214\" x2=\"253.5\" y1=\"93.3398\" y2=\"93.3398\"/></a><!--MD5=[1dd1bfd58a279cf63c5f349dbc8fc6a1]\n",
       "class E11--><a href=\"psysml:8fb932f6-fc92-43ad-aa0e-8cfa7b71c9b3\" target=\"_top\" title=\"psysml:8fb932f6-fc92-43ad-aa0e-8cfa7b71c9b3\" xlink:actuate=\"onRequest\" xlink:href=\"psysml:8fb932f6-fc92-43ad-aa0e-8cfa7b71c9b3\" xlink:show=\"new\" xlink:title=\"psysml:8fb932f6-fc92-43ad-aa0e-8cfa7b71c9b3\" xlink:type=\"simple\"><rect fill=\"#FFFFFF\" height=\"45.9375\" id=\"E11\" rx=\"10\" ry=\"10\" style=\"stroke: #383838; stroke-width: 1.5;\" width=\"42\" x=\"185\" y=\"344.5\"/><text fill=\"#000000\" font-family=\"sans-serif\" font-size=\"12\" font-style=\"italic\" lengthAdjust=\"spacingAndGlyphs\" textLength=\"40\" x=\"186\" y=\"360.6387\">«part»</text><text fill=\"#000000\" font-family=\"sans-serif\" font-size=\"12\" lengthAdjust=\"spacingAndGlyphs\" textLength=\"8\" x=\"202\" y=\"374.6074\">p</text><line style=\"stroke: #383838; stroke-width: 1.5;\" x1=\"186\" x2=\"226\" y1=\"382.4375\" y2=\"382.4375\"/></a><!--MD5=[49a0ec8f00dab7302a31f22d0f0fe584]\n",
       "class E12--><a href=\"psysml:9b734dfd-0e44-4ae0-bd37-d0a03d4a12cd\" target=\"_top\" title=\"psysml:9b734dfd-0e44-4ae0-bd37-d0a03d4a12cd\" xlink:actuate=\"onRequest\" xlink:href=\"psysml:9b734dfd-0e44-4ae0-bd37-d0a03d4a12cd\" xlink:show=\"new\" xlink:title=\"psysml:9b734dfd-0e44-4ae0-bd37-d0a03d4a12cd\" xlink:type=\"simple\"><rect fill=\"#FFFFFF\" height=\"45.9375\" id=\"E12\" rx=\"10\" ry=\"10\" style=\"stroke: #383838; stroke-width: 1.5;\" width=\"42\" x=\"32\" y=\"62\"/><text fill=\"#000000\" font-family=\"sans-serif\" font-size=\"12\" font-style=\"italic\" lengthAdjust=\"spacingAndGlyphs\" textLength=\"40\" x=\"33\" y=\"78.1387\">«part»</text><text fill=\"#000000\" font-family=\"sans-serif\" font-size=\"12\" lengthAdjust=\"spacingAndGlyphs\" textLength=\"8\" x=\"49\" y=\"92.1074\">q</text><line style=\"stroke: #383838; stroke-width: 1.5;\" x1=\"33\" x2=\"73\" y1=\"99.9375\" y2=\"99.9375\"/></a><!--MD5=[ee3c913d1a06f366521f9ef512b67efe]\n",
       "class E13--><a href=\"psysml:5a1cae69-7149-47dc-88a9-208fdbfbba4b\" target=\"_top\" title=\"psysml:5a1cae69-7149-47dc-88a9-208fdbfbba4b\" xlink:actuate=\"onRequest\" xlink:href=\"psysml:5a1cae69-7149-47dc-88a9-208fdbfbba4b\" xlink:show=\"new\" xlink:title=\"psysml:5a1cae69-7149-47dc-88a9-208fdbfbba4b\" xlink:type=\"simple\"><rect fill=\"#FFFFFF\" height=\"45.9375\" id=\"E13\" rx=\"10\" ry=\"10\" style=\"stroke: #383838; stroke-width: 1.5;\" width=\"93\" x=\"44.5\" y=\"190\"/><text fill=\"#000000\" font-family=\"sans-serif\" font-size=\"12\" font-style=\"italic\" lengthAdjust=\"spacingAndGlyphs\" textLength=\"91\" x=\"45.5\" y=\"206.1387\">«requirement»</text><text fill=\"#000000\" font-family=\"sans-serif\" font-size=\"12\" lengthAdjust=\"spacingAndGlyphs\" textLength=\"21\" x=\"80.5\" y=\"220.1074\">r: R</text><line style=\"stroke: #383838; stroke-width: 1.5;\" x1=\"45.5\" x2=\"136.5\" y1=\"227.9375\" y2=\"227.9375\"/></a><!--MD5=[05d275557350bfb9b23a4ef7222b4c39]\n",
       "link E3 to E2--><a href=\"psysml:bb92853b-9a42-4685-9891-57f30cbf18f8\" target=\"_top\" title=\"psysml:bb92853b-9a42-4685-9891-57f30cbf18f8\" xlink:actuate=\"onRequest\" xlink:href=\"psysml:bb92853b-9a42-4685-9891-57f30cbf18f8\" xlink:show=\"new\" xlink:title=\"psysml:bb92853b-9a42-4685-9891-57f30cbf18f8\" xlink:type=\"simple\"><path d=\"M330,108.18 C330,108.18 330,169.99 330,169.99 \" fill=\"none\" id=\"E3-&gt;E2\" style=\"stroke: #383838; stroke-width: 1.0;\"/><polygon fill=\"#FFFFFF\" points=\"330,189.99,323,170.99,337,170.99,330,189.99\" style=\"stroke: #383838; stroke-width: 1.0;\"/><ellipse cx=\"325\" cy=\"165.29\" fill=\"#383838\" rx=\"2\" ry=\"2\" style=\"stroke: #383838; stroke-width: 1.0;\"/><ellipse cx=\"335\" cy=\"165.29\" fill=\"#383838\" rx=\"2\" ry=\"2\" style=\"stroke: #383838; stroke-width: 1.0;\"/></a><!--MD5=[62aa6af11e70f752912c1cb0466f24f7]\n",
       "reverse link E4 to E5--><a href=\"psysml:c7a4f64d-f76e-4f11-bab9-561a5696e580\" target=\"_top\" title=\"psysml:c7a4f64d-f76e-4f11-bab9-561a5696e580\" xlink:actuate=\"onRequest\" xlink:href=\"psysml:c7a4f64d-f76e-4f11-bab9-561a5696e580\" xlink:show=\"new\" xlink:title=\"psysml:c7a4f64d-f76e-4f11-bab9-561a5696e580\" xlink:type=\"simple\"><path d=\"M91,437.14 C91,437.14 91,482.66 91,482.66 \" fill=\"none\" id=\"E4&lt;-E5\" style=\"stroke: #383838; stroke-width: 1.0;\"/><ellipse cx=\"91\" cy=\"430.14\" fill=\"#FFFFFF\" rx=\"8\" ry=\"8\" style=\"stroke: #383838; stroke-width: 1.0;\"/><line style=\"stroke: #383838; stroke-width: 1.0;\" x1=\"91\" x2=\"91\" y1=\"438.14\" y2=\"422.14\"/><line style=\"stroke: #383838; stroke-width: 1.0;\" x1=\"83\" x2=\"99\" y1=\"430.14\" y2=\"430.14\"/></a><!--MD5=[c6fc7cdb0cabde04948078cf183fa696]\n",
       "reverse link E4 to E8--><a href=\"psysml:165156c7-6d13-47e8-9214-4efd9fbee902\" target=\"_top\" title=\"psysml:165156c7-6d13-47e8-9214-4efd9fbee902\" xlink:actuate=\"onRequest\" xlink:href=\"psysml:165156c7-6d13-47e8-9214-4efd9fbee902\" xlink:show=\"new\" xlink:title=\"psysml:165156c7-6d13-47e8-9214-4efd9fbee902\" xlink:type=\"simple\"><path d=\"M162.51,407 C162.51,407 206,407 206,407 C206,407 206,461.14 206,493.28 \" fill=\"none\" id=\"E4&lt;-E8\" style=\"stroke: #383838; stroke-width: 1.0;\"/><polygon fill=\"#383838\" points=\"149.51,407,155.51,411,161.51,407,155.51,403,149.51,407\" style=\"stroke: #383838; stroke-width: 1.0;\"/></a><!--MD5=[062ed86c389d1a88f61c6380d0491e17]\n",
       "reverse link E12 to E13--><a href=\"psysml:5a1cae69-7149-47dc-88a9-208fdbfbba4b\" target=\"_top\" title=\"psysml:5a1cae69-7149-47dc-88a9-208fdbfbba4b\" xlink:actuate=\"onRequest\" xlink:href=\"psysml:5a1cae69-7149-47dc-88a9-208fdbfbba4b\" xlink:show=\"new\" xlink:title=\"psysml:5a1cae69-7149-47dc-88a9-208fdbfbba4b\" xlink:type=\"simple\"><path d=\"M59.25,121.18 C59.25,121.18 59.25,189.99 59.25,189.99 \" fill=\"none\" id=\"E12&lt;-E13\" style=\"stroke: #383838; stroke-width: 1.0;\"/><polygon fill=\"#383838\" points=\"59.25,108.18,55.25,114.18,59.25,120.18,63.25,114.18,59.25,108.18\" style=\"stroke: #383838; stroke-width: 1.0;\"/></a><!--MD5=[017847e01ff9a8bd19f247411074f987]\n",
       "link E13 to E4--><a href=\"psysml:9a693856-e1d7-4623-99b4-c4529bf04054\" target=\"_top\" title=\"psysml:9a693856-e1d7-4623-99b4-c4529bf04054\" xlink:actuate=\"onRequest\" xlink:href=\"psysml:9a693856-e1d7-4623-99b4-c4529bf04054\" xlink:show=\"new\" xlink:title=\"psysml:9a693856-e1d7-4623-99b4-c4529bf04054\" xlink:type=\"simple\"><path d=\"M91,236.13 C91,236.13 91,292.77 91,292.77 \" fill=\"none\" id=\"E13-&gt;E4\" style=\"stroke: #383838; stroke-width: 1.0;\"/><polygon fill=\"#FFFFFF\" points=\"91,312.77,84,293.77,98,293.77,91,312.77\" style=\"stroke: #383838; stroke-width: 1.0;\"/><ellipse cx=\"86\" cy=\"288.07\" fill=\"#383838\" rx=\"2\" ry=\"2\" style=\"stroke: #383838; stroke-width: 1.0;\"/><ellipse cx=\"96\" cy=\"288.07\" fill=\"#383838\" rx=\"2\" ry=\"2\" style=\"stroke: #383838; stroke-width: 1.0;\"/></a><!--MD5=[2cfe899c895462254056921bfb67315f]\n",
       "link E13 to E11--><a href=\"psysml:69852053-465c-4b3e-807c-2facd65a229c\" target=\"_top\" title=\"psysml:69852053-465c-4b3e-807c-2facd65a229c\" xlink:actuate=\"onRequest\" xlink:href=\"psysml:69852053-465c-4b3e-807c-2facd65a229c\" xlink:show=\"new\" xlink:title=\"psysml:69852053-465c-4b3e-807c-2facd65a229c\" xlink:type=\"simple\"><path d=\"M137.77,213 C169.61,213 206,213 206,213 C206,213 206,339.37 206,339.37 \" fill=\"none\" id=\"E13-&gt;E11\" style=\"stroke: #383838; stroke-width: 1.0; stroke-dasharray: 7.0,7.0;\"/><polygon fill=\"#383838\" points=\"206,344.37,210,335.37,206,339.37,202,335.37,206,344.37\" style=\"stroke: #383838; stroke-width: 1.0;\"/><text fill=\"#000000\" font-family=\"sans-serif\" font-size=\"13\" lengthAdjust=\"spacingAndGlyphs\" textLength=\"57\" x=\"170\" y=\"279.0669\">«satisfy»</text></a><!--MD5=[1058781d27cb2de37085dba01c65a0e6]\n",
       "@startuml\r\n",
       "skinparam linetype ortho\r\n",
       "skinparam monochrome true\r\n",
       "skinparam classbackgroundcolor white\r\n",
       "skinparam shadowing false\r\n",
       "skinparam wrapWidth 300\r\n",
       "hide circle\r\n",
       "\r\n",
       "package \"RequirementTest\" as E1  [[psysml:7a32e4ca-d886-48d1-a22e-a4337a6af1e2 ]]  {\r\n",
       "comp def \"C\" as E2  <<(T,blue)constraint def>> [[psysml:c5fd5931-ea17-4576-af97-a79679b06835 ]] {\r\n",
       "}\r\n",
       "comp usage \"c: C\" as E3  <<(T,blue)constraint>> [[psysml:23e87db0-b26a-4449-ad29-18415d83eb38 ]] {\r\n",
       "}\r\n",
       "comp def \"R\" as E4  <<(T,blue)requirement def>> [[psysml:aa32b181-0a7a-45c2-8d8e-c84b0489ed31 ]] {\r\n",
       "\r\n",
       "- -\r\n",
       "- - constraints - -\r\n",
       "<b>require</b> c\r\n",
       "<i>assume</i> c1: C\r\n",
       "}\r\n",
       "comp def \" [<b>1</b>] A\" as E5  <<(T,blue)requirement def>> [[psysml:c7a4f64d-f76e-4f11-bab9-561a5696e580 ]] {\r\n",
       "Text\r\n",
       "- -\r\n",
       "}\r\n",
       "comp usage \"<s>noname</s>\" as E8  <<(T,blue)requirement>> [[psysml:165156c7-6d13-47e8-9214-4efd9fbee902 ]] {\r\n",
       "}\r\n",
       "comp def \"R1\" as E9  <<(T,blue)requirement def>> [[psysml:5b4d3eaf-f72e-4f96-998b-f4a0a57df239 ]] {\r\n",
       "- - constraints - -\r\n",
       "<b>require</b> c1\\n//:>>RequirementTest::c// \r\n",
       "}\r\n",
       "comp usage \"p\" as E11  <<(T,blue)part>> [[psysml:8fb932f6-fc92-43ad-aa0e-8cfa7b71c9b3 ]] {\r\n",
       "}\r\n",
       "comp usage \"q\" as E12  <<(T,blue)part>> [[psysml:9b734dfd-0e44-4ae0-bd37-d0a03d4a12cd ]] {\r\n",
       "}\r\n",
       "comp usage \"r: R\" as E13  <<(T,blue)requirement>> [[psysml:5a1cae69-7149-47dc-88a9-208fdbfbba4b ]] {\r\n",
       "}\r\n",
       "E3 - -:|> E2 [[psysml:bb92853b-9a42-4685-9891-57f30cbf18f8 ]] \r\n",
       "E4 +- - E5 [[psysml:c7a4f64d-f76e-4f11-bab9-561a5696e580 ]] \r\n",
       "E4 *- - E8 [[psysml:165156c7-6d13-47e8-9214-4efd9fbee902 ]] \r\n",
       "E12 *- - E13 [[psysml:5a1cae69-7149-47dc-88a9-208fdbfbba4b ]] \r\n",
       "E13 - -:|> E4 [[psysml:9a693856-e1d7-4623-99b4-c4529bf04054 ]] \r\n",
       "E13 ..> E11 [[psysml:69852053-465c-4b3e-807c-2facd65a229c ]] : <<satisfy>>\r\n",
       "}\r\n",
       "@enduml\r\n",
       "\n",
       "PlantUML version 1.2020.13(Sat Jun 13 12:26:38 UTC 2020)\n",
       "(EPL source distribution)\n",
       "Java Runtime: OpenJDK Runtime Environment\n",
       "JVM: OpenJDK 64-Bit Server VM\n",
       "Default Encoding: UTF-8\n",
       "Language: en\n",
       "Country: null\n",
       "--></g></svg>"
      ]
     },
     "execution_count": 51,
     "metadata": {},
     "output_type": "execute_result"
    }
   ],
   "source": [
    "%viz --style=\"ORTHOLINE\" --view=\"Default\" \"RequirementTest\""
   ]
  },
  {
   "cell_type": "code",
   "execution_count": 52,
   "id": "supposed-blend",
   "metadata": {
    "execution": {
     "iopub.execute_input": "2021-03-25T09:27:20.083640Z",
     "iopub.status.busy": "2021-03-25T09:27:20.083093Z",
     "iopub.status.idle": "2021-03-25T09:27:20.942533Z",
     "shell.execute_reply": "2021-03-25T09:27:20.940843Z"
    }
   },
   "outputs": [
    {
     "data": {
      "image/svg+xml": [
       "<?xml version=\"1.0\" encoding=\"UTF-8\" standalone=\"no\"?><svg xmlns=\"http://www.w3.org/2000/svg\" xmlns:xlink=\"http://www.w3.org/1999/xlink\" contentScriptType=\"application/ecmascript\" contentStyleType=\"text/css\" height=\"578px\" preserveAspectRatio=\"none\" style=\"width:408px;height:578px;\" version=\"1.1\" viewBox=\"0 0 408 578\" width=\"408px\" zoomAndPan=\"magnify\"><defs/><g><!--MD5=[fbc87193dbaf4d95561dea2c320d4a47]\n",
       "cluster E1--><a href=\"psysml:7a32e4ca-d886-48d1-a22e-a4337a6af1e2\" target=\"_top\" title=\"psysml:7a32e4ca-d886-48d1-a22e-a4337a6af1e2\" xlink:actuate=\"onRequest\" xlink:href=\"psysml:7a32e4ca-d886-48d1-a22e-a4337a6af1e2\" xlink:show=\"new\" xlink:title=\"psysml:7a32e4ca-d886-48d1-a22e-a4337a6af1e2\" xlink:type=\"simple\"><polygon fill=\"#FFFFFF\" points=\"16,6,158,6,165,28.2969,386,28.2969,386,566,16,566,16,6\" style=\"stroke: #000000; stroke-width: 1.5;\"/><line style=\"stroke: #000000; stroke-width: 1.5;\" x1=\"16\" x2=\"165\" y1=\"28.2969\" y2=\"28.2969\"/><text fill=\"#000000\" font-family=\"sans-serif\" font-size=\"14\" font-weight=\"bold\" lengthAdjust=\"spacingAndGlyphs\" textLength=\"136\" x=\"20\" y=\"20.9951\">RequirementTest</text></a><!--MD5=[b4997ac47864f28c2f74865a473b2911]\n",
       "class E2--><a href=\"psysml:c5fd5931-ea17-4576-af97-a79679b06835\" target=\"_top\" title=\"psysml:c5fd5931-ea17-4576-af97-a79679b06835\" xlink:actuate=\"onRequest\" xlink:href=\"psysml:c5fd5931-ea17-4576-af97-a79679b06835\" xlink:show=\"new\" xlink:title=\"psysml:c5fd5931-ea17-4576-af97-a79679b06835\" xlink:type=\"simple\"><rect fill=\"#FFFFFF\" height=\"45.9375\" id=\"E2\" style=\"stroke: #383838; stroke-width: 1.5;\" width=\"104\" x=\"266\" y=\"190\"/><text fill=\"#000000\" font-family=\"sans-serif\" font-size=\"12\" font-style=\"italic\" lengthAdjust=\"spacingAndGlyphs\" textLength=\"102\" x=\"267\" y=\"206.1387\">«constraint def»</text><text fill=\"#000000\" font-family=\"sans-serif\" font-size=\"12\" lengthAdjust=\"spacingAndGlyphs\" textLength=\"8\" x=\"314\" y=\"220.1074\">C</text><line style=\"stroke: #383838; stroke-width: 1.5;\" x1=\"267\" x2=\"369\" y1=\"227.9375\" y2=\"227.9375\"/></a><!--MD5=[09b614a08d8cba4a07c9adeb5e0fee81]\n",
       "class E3--><a href=\"psysml:23e87db0-b26a-4449-ad29-18415d83eb38\" target=\"_top\" title=\"psysml:23e87db0-b26a-4449-ad29-18415d83eb38\" xlink:actuate=\"onRequest\" xlink:href=\"psysml:23e87db0-b26a-4449-ad29-18415d83eb38\" xlink:show=\"new\" xlink:title=\"psysml:23e87db0-b26a-4449-ad29-18415d83eb38\" xlink:type=\"simple\"><rect fill=\"#FFFFFF\" height=\"45.9375\" id=\"E3\" rx=\"10\" ry=\"10\" style=\"stroke: #383838; stroke-width: 1.5;\" width=\"80\" x=\"290\" y=\"62\"/><text fill=\"#000000\" font-family=\"sans-serif\" font-size=\"12\" font-style=\"italic\" lengthAdjust=\"spacingAndGlyphs\" textLength=\"78\" x=\"291\" y=\"78.1387\">«constraint»</text><text fill=\"#000000\" font-family=\"sans-serif\" font-size=\"12\" lengthAdjust=\"spacingAndGlyphs\" textLength=\"23\" x=\"318.5\" y=\"92.1074\">c: C</text><line style=\"stroke: #383838; stroke-width: 1.5;\" x1=\"291\" x2=\"369\" y1=\"99.9375\" y2=\"99.9375\"/></a><!--MD5=[ebbe1d658d1005bcc118a6aa81145e00]\n",
       "class E4--><a href=\"psysml:aa32b181-0a7a-45c2-8d8e-c84b0489ed31\" target=\"_top\" title=\"psysml:aa32b181-0a7a-45c2-8d8e-c84b0489ed31\" xlink:actuate=\"onRequest\" xlink:href=\"psysml:aa32b181-0a7a-45c2-8d8e-c84b0489ed31\" xlink:show=\"new\" xlink:title=\"psysml:aa32b181-0a7a-45c2-8d8e-c84b0489ed31\" xlink:type=\"simple\"><rect fill=\"#FFFFFF\" height=\"109.1563\" id=\"E4\" style=\"stroke: #383838; stroke-width: 1.5;\" width=\"117\" x=\"32.5\" y=\"313\"/><text fill=\"#000000\" font-family=\"sans-serif\" font-size=\"12\" font-style=\"italic\" lengthAdjust=\"spacingAndGlyphs\" textLength=\"115\" x=\"33.5\" y=\"329.1387\">«requirement def»</text><text fill=\"#000000\" font-family=\"sans-serif\" font-size=\"12\" lengthAdjust=\"spacingAndGlyphs\" textLength=\"8\" x=\"87\" y=\"343.1074\">R</text><line style=\"stroke: #383838; stroke-width: 1.5;\" x1=\"33.5\" x2=\"148.5\" y1=\"350.9375\" y2=\"350.9375\"/><text fill=\"#000000\" font-family=\"sans-serif\" font-size=\"11\" lengthAdjust=\"spacingAndGlyphs\" textLength=\"0\" x=\"42.5\" y=\"365.1479\"/><line style=\"stroke: #383838; stroke-width: 1.0;\" x1=\"33.5\" x2=\"148.5\" y1=\"371.7422\" y2=\"371.7422\"/><text fill=\"#000000\" font-family=\"sans-serif\" font-size=\"11\" font-weight=\"bold\" lengthAdjust=\"spacingAndGlyphs\" textLength=\"46\" x=\"38.5\" y=\"402.7573\">require</text><text fill=\"#000000\" font-family=\"sans-serif\" font-size=\"11\" lengthAdjust=\"spacingAndGlyphs\" textLength=\"6\" x=\"88.5\" y=\"402.7573\">c</text><text fill=\"#000000\" font-family=\"sans-serif\" font-size=\"11\" font-style=\"italic\" lengthAdjust=\"spacingAndGlyphs\" textLength=\"46\" x=\"38.5\" y=\"415.562\">assume</text><text fill=\"#000000\" font-family=\"sans-serif\" font-size=\"11\" lengthAdjust=\"spacingAndGlyphs\" textLength=\"29\" x=\"88.5\" y=\"415.562\">c1: C</text><line style=\"stroke: #383838; stroke-width: 1.0;\" x1=\"33.5\" x2=\"59\" y1=\"386.1445\" y2=\"386.1445\"/><text fill=\"#000000\" font-family=\"sans-serif\" font-size=\"11\" lengthAdjust=\"spacingAndGlyphs\" textLength=\"64\" x=\"59\" y=\"389.4526\">constraints</text><line style=\"stroke: #383838; stroke-width: 1.0;\" x1=\"123\" x2=\"148.5\" y1=\"386.1445\" y2=\"386.1445\"/></a><!--MD5=[270fce915f116d4de14055a7c1d9a0f3]\n",
       "class E5--><a href=\"psysml:c7a4f64d-f76e-4f11-bab9-561a5696e580\" target=\"_top\" title=\"psysml:c7a4f64d-f76e-4f11-bab9-561a5696e580\" xlink:actuate=\"onRequest\" xlink:href=\"psysml:c7a4f64d-f76e-4f11-bab9-561a5696e580\" xlink:show=\"new\" xlink:title=\"psysml:c7a4f64d-f76e-4f11-bab9-561a5696e580\" xlink:type=\"simple\"><rect fill=\"#FFFFFF\" height=\"66.7422\" id=\"E5\" style=\"stroke: #383838; stroke-width: 1.5;\" width=\"117\" x=\"32.5\" y=\"483\"/><text fill=\"#000000\" font-family=\"sans-serif\" font-size=\"12\" font-style=\"italic\" lengthAdjust=\"spacingAndGlyphs\" textLength=\"115\" x=\"33.5\" y=\"499.1387\">«requirement def»</text><text fill=\"#000000\" font-family=\"sans-serif\" font-size=\"12\" lengthAdjust=\"spacingAndGlyphs\" textLength=\"5\" x=\"78\" y=\"513.1074\">[</text><text fill=\"#000000\" font-family=\"sans-serif\" font-size=\"12\" font-weight=\"bold\" lengthAdjust=\"spacingAndGlyphs\" textLength=\"8\" x=\"83\" y=\"513.1074\">1</text><text fill=\"#000000\" font-family=\"sans-serif\" font-size=\"12\" lengthAdjust=\"spacingAndGlyphs\" textLength=\"17\" x=\"91\" y=\"513.1074\">] A</text><line style=\"stroke: #383838; stroke-width: 1.5;\" x1=\"33.5\" x2=\"148.5\" y1=\"520.9375\" y2=\"520.9375\"/><text fill=\"#000000\" font-family=\"sans-serif\" font-size=\"11\" lengthAdjust=\"spacingAndGlyphs\" textLength=\"24\" x=\"38.5\" y=\"535.1479\">Text</text><line style=\"stroke: #383838; stroke-width: 1.0;\" x1=\"33.5\" x2=\"148.5\" y1=\"541.7422\" y2=\"541.7422\"/></a><!--MD5=[b9389687b975829384b498ac4b7476b2]\n",
       "class E8--><a href=\"psysml:165156c7-6d13-47e8-9214-4efd9fbee902\" target=\"_top\" title=\"psysml:165156c7-6d13-47e8-9214-4efd9fbee902\" xlink:actuate=\"onRequest\" xlink:href=\"psysml:165156c7-6d13-47e8-9214-4efd9fbee902\" xlink:show=\"new\" xlink:title=\"psysml:165156c7-6d13-47e8-9214-4efd9fbee902\" xlink:type=\"simple\"><rect fill=\"#FFFFFF\" height=\"45.9375\" id=\"E8\" rx=\"10\" ry=\"10\" style=\"stroke: #383838; stroke-width: 1.5;\" width=\"93\" x=\"184.5\" y=\"493.5\"/><text fill=\"#000000\" font-family=\"sans-serif\" font-size=\"12\" font-style=\"italic\" lengthAdjust=\"spacingAndGlyphs\" textLength=\"91\" x=\"185.5\" y=\"509.6387\">«requirement»</text><text fill=\"#000000\" font-family=\"sans-serif\" font-size=\"12\" lengthAdjust=\"spacingAndGlyphs\" text-decoration=\"line-through\" textLength=\"51\" x=\"205.5\" y=\"523.6074\">noname</text><line style=\"stroke: #383838; stroke-width: 1.5;\" x1=\"185.5\" x2=\"276.5\" y1=\"531.4375\" y2=\"531.4375\"/></a><!--MD5=[fd4143e9d270a159db93a4ea2a975926]\n",
       "class E9--><a href=\"psysml:5b4d3eaf-f72e-4f96-998b-f4a0a57df239\" target=\"_top\" title=\"psysml:5b4d3eaf-f72e-4f96-998b-f4a0a57df239\" xlink:actuate=\"onRequest\" xlink:href=\"psysml:5b4d3eaf-f72e-4f96-998b-f4a0a57df239\" xlink:show=\"new\" xlink:title=\"psysml:5b4d3eaf-f72e-4f96-998b-f4a0a57df239\" xlink:type=\"simple\"><rect fill=\"#FFFFFF\" height=\"88.3516\" id=\"E9\" style=\"stroke: #383838; stroke-width: 1.5;\" width=\"145\" x=\"109.5\" y=\"41\"/><text fill=\"#000000\" font-family=\"sans-serif\" font-size=\"12\" font-style=\"italic\" lengthAdjust=\"spacingAndGlyphs\" textLength=\"115\" x=\"124.5\" y=\"57.1387\">«requirement def»</text><text fill=\"#000000\" font-family=\"sans-serif\" font-size=\"12\" lengthAdjust=\"spacingAndGlyphs\" textLength=\"16\" x=\"174\" y=\"71.1074\">R1</text><line style=\"stroke: #383838; stroke-width: 1.5;\" x1=\"110.5\" x2=\"253.5\" y1=\"78.9375\" y2=\"78.9375\"/><text fill=\"#000000\" font-family=\"sans-serif\" font-size=\"11\" font-weight=\"bold\" lengthAdjust=\"spacingAndGlyphs\" textLength=\"46\" x=\"115.5\" y=\"109.9526\">require</text><text fill=\"#000000\" font-family=\"sans-serif\" font-size=\"11\" lengthAdjust=\"spacingAndGlyphs\" textLength=\"13\" x=\"165.5\" y=\"109.9526\">c1</text><text fill=\"#000000\" font-family=\"sans-serif\" font-size=\"11\" font-style=\"italic\" lengthAdjust=\"spacingAndGlyphs\" textLength=\"133\" x=\"115.5\" y=\"122.7573\">:&gt;&gt;RequirementTest::c</text><line style=\"stroke: #383838; stroke-width: 1.0;\" x1=\"110.5\" x2=\"150\" y1=\"93.3398\" y2=\"93.3398\"/><text fill=\"#000000\" font-family=\"sans-serif\" font-size=\"11\" lengthAdjust=\"spacingAndGlyphs\" textLength=\"64\" x=\"150\" y=\"96.6479\">constraints</text><line style=\"stroke: #383838; stroke-width: 1.0;\" x1=\"214\" x2=\"253.5\" y1=\"93.3398\" y2=\"93.3398\"/></a><!--MD5=[1dd1bfd58a279cf63c5f349dbc8fc6a1]\n",
       "class E11--><a href=\"psysml:8fb932f6-fc92-43ad-aa0e-8cfa7b71c9b3\" target=\"_top\" title=\"psysml:8fb932f6-fc92-43ad-aa0e-8cfa7b71c9b3\" xlink:actuate=\"onRequest\" xlink:href=\"psysml:8fb932f6-fc92-43ad-aa0e-8cfa7b71c9b3\" xlink:show=\"new\" xlink:title=\"psysml:8fb932f6-fc92-43ad-aa0e-8cfa7b71c9b3\" xlink:type=\"simple\"><rect fill=\"#FFFFFF\" height=\"45.9375\" id=\"E11\" rx=\"10\" ry=\"10\" style=\"stroke: #383838; stroke-width: 1.5;\" width=\"42\" x=\"185\" y=\"344.5\"/><text fill=\"#000000\" font-family=\"sans-serif\" font-size=\"12\" font-style=\"italic\" lengthAdjust=\"spacingAndGlyphs\" textLength=\"40\" x=\"186\" y=\"360.6387\">«part»</text><text fill=\"#000000\" font-family=\"sans-serif\" font-size=\"12\" lengthAdjust=\"spacingAndGlyphs\" textLength=\"8\" x=\"202\" y=\"374.6074\">p</text><line style=\"stroke: #383838; stroke-width: 1.5;\" x1=\"186\" x2=\"226\" y1=\"382.4375\" y2=\"382.4375\"/></a><!--MD5=[49a0ec8f00dab7302a31f22d0f0fe584]\n",
       "class E12--><a href=\"psysml:9b734dfd-0e44-4ae0-bd37-d0a03d4a12cd\" target=\"_top\" title=\"psysml:9b734dfd-0e44-4ae0-bd37-d0a03d4a12cd\" xlink:actuate=\"onRequest\" xlink:href=\"psysml:9b734dfd-0e44-4ae0-bd37-d0a03d4a12cd\" xlink:show=\"new\" xlink:title=\"psysml:9b734dfd-0e44-4ae0-bd37-d0a03d4a12cd\" xlink:type=\"simple\"><rect fill=\"#FFFFFF\" height=\"45.9375\" id=\"E12\" rx=\"10\" ry=\"10\" style=\"stroke: #383838; stroke-width: 1.5;\" width=\"42\" x=\"32\" y=\"62\"/><text fill=\"#000000\" font-family=\"sans-serif\" font-size=\"12\" font-style=\"italic\" lengthAdjust=\"spacingAndGlyphs\" textLength=\"40\" x=\"33\" y=\"78.1387\">«part»</text><text fill=\"#000000\" font-family=\"sans-serif\" font-size=\"12\" lengthAdjust=\"spacingAndGlyphs\" textLength=\"8\" x=\"49\" y=\"92.1074\">q</text><line style=\"stroke: #383838; stroke-width: 1.5;\" x1=\"33\" x2=\"73\" y1=\"99.9375\" y2=\"99.9375\"/></a><!--MD5=[ee3c913d1a06f366521f9ef512b67efe]\n",
       "class E13--><a href=\"psysml:5a1cae69-7149-47dc-88a9-208fdbfbba4b\" target=\"_top\" title=\"psysml:5a1cae69-7149-47dc-88a9-208fdbfbba4b\" xlink:actuate=\"onRequest\" xlink:href=\"psysml:5a1cae69-7149-47dc-88a9-208fdbfbba4b\" xlink:show=\"new\" xlink:title=\"psysml:5a1cae69-7149-47dc-88a9-208fdbfbba4b\" xlink:type=\"simple\"><rect fill=\"#FFFFFF\" height=\"45.9375\" id=\"E13\" rx=\"10\" ry=\"10\" style=\"stroke: #383838; stroke-width: 1.5;\" width=\"93\" x=\"44.5\" y=\"190\"/><text fill=\"#000000\" font-family=\"sans-serif\" font-size=\"12\" font-style=\"italic\" lengthAdjust=\"spacingAndGlyphs\" textLength=\"91\" x=\"45.5\" y=\"206.1387\">«requirement»</text><text fill=\"#000000\" font-family=\"sans-serif\" font-size=\"12\" lengthAdjust=\"spacingAndGlyphs\" textLength=\"21\" x=\"80.5\" y=\"220.1074\">r: R</text><line style=\"stroke: #383838; stroke-width: 1.5;\" x1=\"45.5\" x2=\"136.5\" y1=\"227.9375\" y2=\"227.9375\"/></a><!--MD5=[05d275557350bfb9b23a4ef7222b4c39]\n",
       "link E3 to E2--><a href=\"psysml:bb92853b-9a42-4685-9891-57f30cbf18f8\" target=\"_top\" title=\"psysml:bb92853b-9a42-4685-9891-57f30cbf18f8\" xlink:actuate=\"onRequest\" xlink:href=\"psysml:bb92853b-9a42-4685-9891-57f30cbf18f8\" xlink:show=\"new\" xlink:title=\"psysml:bb92853b-9a42-4685-9891-57f30cbf18f8\" xlink:type=\"simple\"><path d=\"M330,108.18 C330,108.18 330,169.99 330,169.99 \" fill=\"none\" id=\"E3-&gt;E2\" style=\"stroke: #383838; stroke-width: 1.0;\"/><polygon fill=\"#FFFFFF\" points=\"330,189.99,323,170.99,337,170.99,330,189.99\" style=\"stroke: #383838; stroke-width: 1.0;\"/><ellipse cx=\"325\" cy=\"165.29\" fill=\"#383838\" rx=\"2\" ry=\"2\" style=\"stroke: #383838; stroke-width: 1.0;\"/><ellipse cx=\"335\" cy=\"165.29\" fill=\"#383838\" rx=\"2\" ry=\"2\" style=\"stroke: #383838; stroke-width: 1.0;\"/></a><!--MD5=[62aa6af11e70f752912c1cb0466f24f7]\n",
       "reverse link E4 to E5--><a href=\"psysml:c7a4f64d-f76e-4f11-bab9-561a5696e580\" target=\"_top\" title=\"psysml:c7a4f64d-f76e-4f11-bab9-561a5696e580\" xlink:actuate=\"onRequest\" xlink:href=\"psysml:c7a4f64d-f76e-4f11-bab9-561a5696e580\" xlink:show=\"new\" xlink:title=\"psysml:c7a4f64d-f76e-4f11-bab9-561a5696e580\" xlink:type=\"simple\"><path d=\"M91,437.14 C91,437.14 91,482.66 91,482.66 \" fill=\"none\" id=\"E4&lt;-E5\" style=\"stroke: #383838; stroke-width: 1.0;\"/><ellipse cx=\"91\" cy=\"430.14\" fill=\"#FFFFFF\" rx=\"8\" ry=\"8\" style=\"stroke: #383838; stroke-width: 1.0;\"/><line style=\"stroke: #383838; stroke-width: 1.0;\" x1=\"91\" x2=\"91\" y1=\"438.14\" y2=\"422.14\"/><line style=\"stroke: #383838; stroke-width: 1.0;\" x1=\"83\" x2=\"99\" y1=\"430.14\" y2=\"430.14\"/></a><!--MD5=[c6fc7cdb0cabde04948078cf183fa696]\n",
       "reverse link E4 to E8--><a href=\"psysml:165156c7-6d13-47e8-9214-4efd9fbee902\" target=\"_top\" title=\"psysml:165156c7-6d13-47e8-9214-4efd9fbee902\" xlink:actuate=\"onRequest\" xlink:href=\"psysml:165156c7-6d13-47e8-9214-4efd9fbee902\" xlink:show=\"new\" xlink:title=\"psysml:165156c7-6d13-47e8-9214-4efd9fbee902\" xlink:type=\"simple\"><path d=\"M162.51,407 C162.51,407 206,407 206,407 C206,407 206,461.14 206,493.28 \" fill=\"none\" id=\"E4&lt;-E8\" style=\"stroke: #383838; stroke-width: 1.0;\"/><polygon fill=\"#383838\" points=\"149.51,407,155.51,411,161.51,407,155.51,403,149.51,407\" style=\"stroke: #383838; stroke-width: 1.0;\"/></a><!--MD5=[062ed86c389d1a88f61c6380d0491e17]\n",
       "reverse link E12 to E13--><a href=\"psysml:5a1cae69-7149-47dc-88a9-208fdbfbba4b\" target=\"_top\" title=\"psysml:5a1cae69-7149-47dc-88a9-208fdbfbba4b\" xlink:actuate=\"onRequest\" xlink:href=\"psysml:5a1cae69-7149-47dc-88a9-208fdbfbba4b\" xlink:show=\"new\" xlink:title=\"psysml:5a1cae69-7149-47dc-88a9-208fdbfbba4b\" xlink:type=\"simple\"><path d=\"M59.25,121.18 C59.25,121.18 59.25,189.99 59.25,189.99 \" fill=\"none\" id=\"E12&lt;-E13\" style=\"stroke: #383838; stroke-width: 1.0;\"/><polygon fill=\"#383838\" points=\"59.25,108.18,55.25,114.18,59.25,120.18,63.25,114.18,59.25,108.18\" style=\"stroke: #383838; stroke-width: 1.0;\"/></a><!--MD5=[017847e01ff9a8bd19f247411074f987]\n",
       "link E13 to E4--><a href=\"psysml:9a693856-e1d7-4623-99b4-c4529bf04054\" target=\"_top\" title=\"psysml:9a693856-e1d7-4623-99b4-c4529bf04054\" xlink:actuate=\"onRequest\" xlink:href=\"psysml:9a693856-e1d7-4623-99b4-c4529bf04054\" xlink:show=\"new\" xlink:title=\"psysml:9a693856-e1d7-4623-99b4-c4529bf04054\" xlink:type=\"simple\"><path d=\"M91,236.13 C91,236.13 91,292.77 91,292.77 \" fill=\"none\" id=\"E13-&gt;E4\" style=\"stroke: #383838; stroke-width: 1.0;\"/><polygon fill=\"#FFFFFF\" points=\"91,312.77,84,293.77,98,293.77,91,312.77\" style=\"stroke: #383838; stroke-width: 1.0;\"/><ellipse cx=\"86\" cy=\"288.07\" fill=\"#383838\" rx=\"2\" ry=\"2\" style=\"stroke: #383838; stroke-width: 1.0;\"/><ellipse cx=\"96\" cy=\"288.07\" fill=\"#383838\" rx=\"2\" ry=\"2\" style=\"stroke: #383838; stroke-width: 1.0;\"/></a><!--MD5=[2cfe899c895462254056921bfb67315f]\n",
       "link E13 to E11--><a href=\"psysml:69852053-465c-4b3e-807c-2facd65a229c\" target=\"_top\" title=\"psysml:69852053-465c-4b3e-807c-2facd65a229c\" xlink:actuate=\"onRequest\" xlink:href=\"psysml:69852053-465c-4b3e-807c-2facd65a229c\" xlink:show=\"new\" xlink:title=\"psysml:69852053-465c-4b3e-807c-2facd65a229c\" xlink:type=\"simple\"><path d=\"M137.77,213 C169.61,213 206,213 206,213 C206,213 206,339.37 206,339.37 \" fill=\"none\" id=\"E13-&gt;E11\" style=\"stroke: #383838; stroke-width: 1.0; stroke-dasharray: 7.0,7.0;\"/><polygon fill=\"#383838\" points=\"206,344.37,210,335.37,206,339.37,202,335.37,206,344.37\" style=\"stroke: #383838; stroke-width: 1.0;\"/><text fill=\"#000000\" font-family=\"sans-serif\" font-size=\"13\" lengthAdjust=\"spacingAndGlyphs\" textLength=\"57\" x=\"170\" y=\"279.0669\">«satisfy»</text></a><!--MD5=[1058781d27cb2de37085dba01c65a0e6]\n",
       "@startuml\r\n",
       "skinparam linetype ortho\r\n",
       "skinparam monochrome true\r\n",
       "skinparam classbackgroundcolor white\r\n",
       "skinparam shadowing false\r\n",
       "skinparam wrapWidth 300\r\n",
       "hide circle\r\n",
       "\r\n",
       "package \"RequirementTest\" as E1  [[psysml:7a32e4ca-d886-48d1-a22e-a4337a6af1e2 ]]  {\r\n",
       "comp def \"C\" as E2  <<(T,blue)constraint def>> [[psysml:c5fd5931-ea17-4576-af97-a79679b06835 ]] {\r\n",
       "}\r\n",
       "comp usage \"c: C\" as E3  <<(T,blue)constraint>> [[psysml:23e87db0-b26a-4449-ad29-18415d83eb38 ]] {\r\n",
       "}\r\n",
       "comp def \"R\" as E4  <<(T,blue)requirement def>> [[psysml:aa32b181-0a7a-45c2-8d8e-c84b0489ed31 ]] {\r\n",
       "\r\n",
       "- -\r\n",
       "- - constraints - -\r\n",
       "<b>require</b> c\r\n",
       "<i>assume</i> c1: C\r\n",
       "}\r\n",
       "comp def \" [<b>1</b>] A\" as E5  <<(T,blue)requirement def>> [[psysml:c7a4f64d-f76e-4f11-bab9-561a5696e580 ]] {\r\n",
       "Text\r\n",
       "- -\r\n",
       "}\r\n",
       "comp usage \"<s>noname</s>\" as E8  <<(T,blue)requirement>> [[psysml:165156c7-6d13-47e8-9214-4efd9fbee902 ]] {\r\n",
       "}\r\n",
       "comp def \"R1\" as E9  <<(T,blue)requirement def>> [[psysml:5b4d3eaf-f72e-4f96-998b-f4a0a57df239 ]] {\r\n",
       "- - constraints - -\r\n",
       "<b>require</b> c1\\n//:>>RequirementTest::c// \r\n",
       "}\r\n",
       "comp usage \"p\" as E11  <<(T,blue)part>> [[psysml:8fb932f6-fc92-43ad-aa0e-8cfa7b71c9b3 ]] {\r\n",
       "}\r\n",
       "comp usage \"q\" as E12  <<(T,blue)part>> [[psysml:9b734dfd-0e44-4ae0-bd37-d0a03d4a12cd ]] {\r\n",
       "}\r\n",
       "comp usage \"r: R\" as E13  <<(T,blue)requirement>> [[psysml:5a1cae69-7149-47dc-88a9-208fdbfbba4b ]] {\r\n",
       "}\r\n",
       "E3 - -:|> E2 [[psysml:bb92853b-9a42-4685-9891-57f30cbf18f8 ]] \r\n",
       "E4 +- - E5 [[psysml:c7a4f64d-f76e-4f11-bab9-561a5696e580 ]] \r\n",
       "E4 *- - E8 [[psysml:165156c7-6d13-47e8-9214-4efd9fbee902 ]] \r\n",
       "E12 *- - E13 [[psysml:5a1cae69-7149-47dc-88a9-208fdbfbba4b ]] \r\n",
       "E13 - -:|> E4 [[psysml:9a693856-e1d7-4623-99b4-c4529bf04054 ]] \r\n",
       "E13 ..> E11 [[psysml:69852053-465c-4b3e-807c-2facd65a229c ]] : <<satisfy>>\r\n",
       "}\r\n",
       "@enduml\r\n",
       "\n",
       "PlantUML version 1.2020.13(Sat Jun 13 12:26:38 UTC 2020)\n",
       "(EPL source distribution)\n",
       "Java Runtime: OpenJDK Runtime Environment\n",
       "JVM: OpenJDK 64-Bit Server VM\n",
       "Default Encoding: UTF-8\n",
       "Language: en\n",
       "Country: null\n",
       "--></g></svg>"
      ]
     },
     "execution_count": 52,
     "metadata": {},
     "output_type": "execute_result"
    }
   ],
   "source": [
    "%viz --style=\"ORTHOLINE\" --view=\"Tree\" \"RequirementTest\""
   ]
  },
  {
   "cell_type": "code",
   "execution_count": 53,
   "id": "legendary-terrace",
   "metadata": {
    "execution": {
     "iopub.execute_input": "2021-03-25T09:27:20.992609Z",
     "iopub.status.busy": "2021-03-25T09:27:20.992194Z",
     "iopub.status.idle": "2021-03-25T09:27:21.000133Z",
     "shell.execute_reply": "2021-03-25T09:27:20.999612Z"
    }
   },
   "outputs": [
    {
     "data": {
      "image/svg+xml": [
       "<?xml version=\"1.0\" encoding=\"UTF-8\" standalone=\"no\"?><svg xmlns=\"http://www.w3.org/2000/svg\" xmlns:xlink=\"http://www.w3.org/1999/xlink\" contentScriptType=\"application/ecmascript\" contentStyleType=\"text/css\" height=\"12px\" preserveAspectRatio=\"none\" style=\"width:12px;height:12px;\" version=\"1.1\" viewBox=\"0 0 12 12\" width=\"12px\" zoomAndPan=\"magnify\"><defs/><g><!--MD5=[97d6f38768b311333d388e66b2b27985]\n",
       "@startuml\r\n",
       "skinparam linetype ortho\r\n",
       "skinparam monochrome true\r\n",
       "skinparam classbackgroundcolor white\r\n",
       "skinparam shadowing false\r\n",
       "skinparam wrapWidth 300\r\n",
       "hide circle\r\n",
       "\r\n",
       "@enduml\r\n",
       "\n",
       "PlantUML version 1.2020.13(Sat Jun 13 12:26:38 UTC 2020)\n",
       "(EPL source distribution)\n",
       "Java Runtime: OpenJDK Runtime Environment\n",
       "JVM: OpenJDK 64-Bit Server VM\n",
       "Default Encoding: UTF-8\n",
       "Language: en\n",
       "Country: null\n",
       "--></g></svg>"
      ]
     },
     "execution_count": 53,
     "metadata": {},
     "output_type": "execute_result"
    }
   ],
   "source": [
    "%viz --style=\"ORTHOLINE\" --view=\"State\" \"RequirementTest\""
   ]
  },
  {
   "cell_type": "code",
   "execution_count": 54,
   "id": "acquired-portable",
   "metadata": {
    "execution": {
     "iopub.execute_input": "2021-03-25T09:27:21.052156Z",
     "iopub.status.busy": "2021-03-25T09:27:21.051306Z",
     "iopub.status.idle": "2021-03-25T09:27:21.176306Z",
     "shell.execute_reply": "2021-03-25T09:27:21.174105Z"
    }
   },
   "outputs": [
    {
     "data": {
      "image/svg+xml": [
       "<?xml version=\"1.0\" encoding=\"UTF-8\" standalone=\"no\"?><svg xmlns=\"http://www.w3.org/2000/svg\" xmlns:xlink=\"http://www.w3.org/1999/xlink\" contentScriptType=\"application/ecmascript\" contentStyleType=\"text/css\" height=\"367px\" preserveAspectRatio=\"none\" style=\"width:852px;height:367px;\" version=\"1.1\" viewBox=\"0 0 852 367\" width=\"852px\" zoomAndPan=\"magnify\"><defs/><g><!--MD5=[fbc87193dbaf4d95561dea2c320d4a47]\n",
       "cluster E1--><a href=\"psysml:7a32e4ca-d886-48d1-a22e-a4337a6af1e2\" target=\"_top\" title=\"psysml:7a32e4ca-d886-48d1-a22e-a4337a6af1e2\" xlink:actuate=\"onRequest\" xlink:href=\"psysml:7a32e4ca-d886-48d1-a22e-a4337a6af1e2\" xlink:show=\"new\" xlink:title=\"psysml:7a32e4ca-d886-48d1-a22e-a4337a6af1e2\" xlink:type=\"simple\"><polygon fill=\"#FFFFFF\" points=\"16,6,158,6,165,28.2969,830,28.2969,830,355,16,355,16,6\" style=\"stroke: #000000; stroke-width: 1.5;\"/><line style=\"stroke: #000000; stroke-width: 1.5;\" x1=\"16\" x2=\"165\" y1=\"28.2969\" y2=\"28.2969\"/><text fill=\"#000000\" font-family=\"sans-serif\" font-size=\"14\" font-weight=\"bold\" lengthAdjust=\"spacingAndGlyphs\" textLength=\"136\" x=\"20\" y=\"20.9951\">RequirementTest</text></a><!--MD5=[168fadf3d0c3fd93dd5d6da1b1d7ab76]\n",
       "cluster E7--><a href=\"psysml:9b734dfd-0e44-4ae0-bd37-d0a03d4a12cd\" target=\"_top\" title=\"psysml:9b734dfd-0e44-4ae0-bd37-d0a03d4a12cd\" xlink:actuate=\"onRequest\" xlink:href=\"psysml:9b734dfd-0e44-4ae0-bd37-d0a03d4a12cd\" xlink:show=\"new\" xlink:title=\"psysml:9b734dfd-0e44-4ae0-bd37-d0a03d4a12cd\" xlink:type=\"simple\"><rect fill=\"#FFFFFF\" height=\"209\" id=\"E7\" rx=\"10\" ry=\"10\" style=\"stroke: #383838; stroke-width: 1.5;\" width=\"213\" x=\"593\" y=\"49\"/><rect fill=\"#F8F8F8\" height=\"23.9688\" rx=\"10\" ry=\"10\" style=\"stroke: #F8F8F8; stroke-width: 1.5;\" width=\"213\" x=\"593\" y=\"49\"/><rect fill=\"#F8F8F8\" height=\"10\" style=\"stroke: #F8F8F8; stroke-width: 1.5;\" width=\"213\" x=\"593\" y=\"62.9688\"/><rect fill=\"none\" height=\"209\" id=\"E7\" rx=\"10\" ry=\"10\" style=\"stroke: #383838; stroke-width: 1.5;\" width=\"213\" x=\"593\" y=\"49\"/><text fill=\"#000000\" font-family=\"sans-serif\" font-size=\"12\" lengthAdjust=\"spacingAndGlyphs\" textLength=\"8\" x=\"695.5\" y=\"65.1387\">q</text><line style=\"stroke: #383838; stroke-width: 1.0;\" x1=\"593\" x2=\"806\" y1=\"72.9688\" y2=\"72.9688\"/></a><!--MD5=[55dfccfc6c49c2d10cd1bd2211a6c90c]\n",
       "cluster E8--><a href=\"psysml:5a1cae69-7149-47dc-88a9-208fdbfbba4b\" target=\"_top\" title=\"psysml:5a1cae69-7149-47dc-88a9-208fdbfbba4b\" xlink:actuate=\"onRequest\" xlink:href=\"psysml:5a1cae69-7149-47dc-88a9-208fdbfbba4b\" xlink:show=\"new\" xlink:title=\"psysml:5a1cae69-7149-47dc-88a9-208fdbfbba4b\" xlink:type=\"simple\"><rect fill=\"#FFFFFF\" height=\"126\" id=\"E8\" rx=\"10\" ry=\"10\" style=\"stroke: #383838; stroke-width: 1.5;\" width=\"149\" x=\"625\" y=\"100\"/><rect fill=\"#F8F8F8\" height=\"37.9375\" rx=\"10\" ry=\"10\" style=\"stroke: #F8F8F8; stroke-width: 1.5;\" width=\"149\" x=\"625\" y=\"100\"/><rect fill=\"#F8F8F8\" height=\"10\" style=\"stroke: #F8F8F8; stroke-width: 1.5;\" width=\"149\" x=\"625\" y=\"127.9375\"/><rect fill=\"none\" height=\"126\" id=\"E8\" rx=\"10\" ry=\"10\" style=\"stroke: #383838; stroke-width: 1.5;\" width=\"149\" x=\"625\" y=\"100\"/><text fill=\"#000000\" font-family=\"sans-serif\" font-size=\"12\" font-style=\"italic\" lengthAdjust=\"spacingAndGlyphs\" textLength=\"91\" x=\"654\" y=\"116.1387\">«requirement»</text><text fill=\"#000000\" font-family=\"sans-serif\" font-size=\"12\" lengthAdjust=\"spacingAndGlyphs\" textLength=\"21\" x=\"689\" y=\"130.1074\">r: R</text><line style=\"stroke: #383838; stroke-width: 1.0;\" x1=\"625\" x2=\"774\" y1=\"137.9375\" y2=\"137.9375\"/></a><g id=\"E1.E2\"><a href=\"psysml:c5fd5931-ea17-4576-af97-a79679b06835\" target=\"_top\" title=\"psysml:c5fd5931-ea17-4576-af97-a79679b06835\" xlink:actuate=\"onRequest\" xlink:href=\"psysml:c5fd5931-ea17-4576-af97-a79679b06835\" xlink:show=\"new\" xlink:title=\"psysml:c5fd5931-ea17-4576-af97-a79679b06835\" xlink:type=\"simple\"><rect fill=\"#FFFFFF\" height=\"42.9375\" id=\"E2\" style=\"stroke: #383838; stroke-width: 1.5;\" width=\"109\" x=\"467.5\" y=\"159\"/><rect fill=\"#F8F8F8\" height=\"37.9375\" style=\"stroke: #383838; stroke-width: 1.5;\" width=\"109\" x=\"467.5\" y=\"159\"/><text fill=\"#000000\" font-family=\"sans-serif\" font-size=\"12\" font-style=\"italic\" lengthAdjust=\"spacingAndGlyphs\" textLength=\"102\" x=\"471\" y=\"175.1387\">«constraint def»</text><text fill=\"#000000\" font-family=\"sans-serif\" font-size=\"12\" lengthAdjust=\"spacingAndGlyphs\" textLength=\"8\" x=\"518\" y=\"189.1074\">C</text></a></g><g id=\"E1.E4\"><a href=\"psysml:aa32b181-0a7a-45c2-8d8e-c84b0489ed31\" target=\"_top\" title=\"psysml:aa32b181-0a7a-45c2-8d8e-c84b0489ed31\" xlink:actuate=\"onRequest\" xlink:href=\"psysml:aa32b181-0a7a-45c2-8d8e-c84b0489ed31\" xlink:show=\"new\" xlink:title=\"psysml:aa32b181-0a7a-45c2-8d8e-c84b0489ed31\" xlink:type=\"simple\"><rect fill=\"#FFFFFF\" height=\"42.9375\" id=\"E4\" style=\"stroke: #383838; stroke-width: 1.5;\" width=\"122\" x=\"310\" y=\"159\"/><rect fill=\"#F8F8F8\" height=\"37.9375\" style=\"stroke: #383838; stroke-width: 1.5;\" width=\"122\" x=\"310\" y=\"159\"/><text fill=\"#000000\" font-family=\"sans-serif\" font-size=\"12\" font-style=\"italic\" lengthAdjust=\"spacingAndGlyphs\" textLength=\"115\" x=\"313.5\" y=\"175.1387\">«requirement def»</text><text fill=\"#000000\" font-family=\"sans-serif\" font-size=\"12\" lengthAdjust=\"spacingAndGlyphs\" textLength=\"8\" x=\"367\" y=\"189.1074\">R</text></a></g><g id=\"E1.E5\"><a href=\"psysml:5b4d3eaf-f72e-4f96-998b-f4a0a57df239\" target=\"_top\" title=\"psysml:5b4d3eaf-f72e-4f96-998b-f4a0a57df239\" xlink:actuate=\"onRequest\" xlink:href=\"psysml:5b4d3eaf-f72e-4f96-998b-f4a0a57df239\" xlink:show=\"new\" xlink:title=\"psysml:5b4d3eaf-f72e-4f96-998b-f4a0a57df239\" xlink:type=\"simple\"><rect fill=\"#FFFFFF\" height=\"42.9375\" id=\"E5\" style=\"stroke: #383838; stroke-width: 1.5;\" width=\"122\" x=\"153\" y=\"159\"/><rect fill=\"#F8F8F8\" height=\"37.9375\" style=\"stroke: #383838; stroke-width: 1.5;\" width=\"122\" x=\"153\" y=\"159\"/><text fill=\"#000000\" font-family=\"sans-serif\" font-size=\"12\" font-style=\"italic\" lengthAdjust=\"spacingAndGlyphs\" textLength=\"115\" x=\"156.5\" y=\"175.1387\">«requirement def»</text><text fill=\"#000000\" font-family=\"sans-serif\" font-size=\"12\" lengthAdjust=\"spacingAndGlyphs\" textLength=\"16\" x=\"206\" y=\"189.1074\">R1</text></a></g><g id=\"E1.E3\"><a href=\"psysml:23e87db0-b26a-4449-ad29-18415d83eb38\" target=\"_top\" title=\"psysml:23e87db0-b26a-4449-ad29-18415d83eb38\" xlink:actuate=\"onRequest\" xlink:href=\"psysml:23e87db0-b26a-4449-ad29-18415d83eb38\" xlink:show=\"new\" xlink:title=\"psysml:23e87db0-b26a-4449-ad29-18415d83eb38\" xlink:type=\"simple\"><rect fill=\"#FFFFFF\" height=\"42.9375\" id=\"E3\" rx=\"10\" ry=\"10\" style=\"stroke: #383838; stroke-width: 1.5;\" width=\"85\" x=\"32.5\" y=\"159\"/><rect fill=\"#F8F8F8\" height=\"37.9375\" rx=\"10\" ry=\"10\" style=\"stroke: #F8F8F8; stroke-width: 1.5;\" width=\"85\" x=\"32.5\" y=\"159\"/><rect fill=\"#F8F8F8\" height=\"10\" style=\"stroke: #F8F8F8; stroke-width: 1.5;\" width=\"85\" x=\"32.5\" y=\"186.9375\"/><rect fill=\"none\" height=\"42.9375\" id=\"E3\" rx=\"10\" ry=\"10\" style=\"stroke: #383838; stroke-width: 1.5;\" width=\"85\" x=\"32.5\" y=\"159\"/><text fill=\"#000000\" font-family=\"sans-serif\" font-size=\"12\" font-style=\"italic\" lengthAdjust=\"spacingAndGlyphs\" textLength=\"78\" x=\"36\" y=\"175.1387\">«constraint»</text><text fill=\"#000000\" font-family=\"sans-serif\" font-size=\"12\" lengthAdjust=\"spacingAndGlyphs\" textLength=\"23\" x=\"63.5\" y=\"189.1074\">c: C</text></a></g><g id=\"E1.E6\"><a href=\"psysml:8fb932f6-fc92-43ad-aa0e-8cfa7b71c9b3\" target=\"_top\" title=\"psysml:8fb932f6-fc92-43ad-aa0e-8cfa7b71c9b3\" xlink:actuate=\"onRequest\" xlink:href=\"psysml:8fb932f6-fc92-43ad-aa0e-8cfa7b71c9b3\" xlink:show=\"new\" xlink:title=\"psysml:8fb932f6-fc92-43ad-aa0e-8cfa7b71c9b3\" xlink:type=\"simple\"><rect fill=\"#FFFFFF\" height=\"40\" id=\"E6\" rx=\"10\" ry=\"10\" style=\"stroke: #383838; stroke-width: 1.5;\" width=\"50\" x=\"608\" y=\"299\"/><rect fill=\"#F8F8F8\" height=\"23.9688\" rx=\"10\" ry=\"10\" style=\"stroke: #F8F8F8; stroke-width: 1.5;\" width=\"50\" x=\"608\" y=\"299\"/><rect fill=\"#F8F8F8\" height=\"10\" style=\"stroke: #F8F8F8; stroke-width: 1.5;\" width=\"50\" x=\"608\" y=\"312.9688\"/><rect fill=\"none\" height=\"40\" id=\"E6\" rx=\"10\" ry=\"10\" style=\"stroke: #383838; stroke-width: 1.5;\" width=\"50\" x=\"608\" y=\"299\"/><text fill=\"#000000\" font-family=\"sans-serif\" font-size=\"12\" lengthAdjust=\"spacingAndGlyphs\" textLength=\"8\" x=\"629\" y=\"315.1387\">p</text></a></g><g id=\"E1.E7.E8.E9\"><a href=\"psysml:ebf9f55c-b0ce-46a7-820d-0de32b7e0555\" target=\"_top\" title=\"psysml:ebf9f55c-b0ce-46a7-820d-0de32b7e0555\" xlink:actuate=\"onRequest\" xlink:href=\"psysml:ebf9f55c-b0ce-46a7-820d-0de32b7e0555\" xlink:show=\"new\" xlink:title=\"psysml:ebf9f55c-b0ce-46a7-820d-0de32b7e0555\" xlink:type=\"simple\"><rect fill=\"#FFFFFF\" height=\"42.9375\" id=\"E9\" rx=\"10\" ry=\"10\" style=\"stroke: #383838; stroke-width: 1.5;\" width=\"82\" x=\"668\" y=\"159\"/><rect fill=\"#F8F8F8\" height=\"37.9375\" rx=\"10\" ry=\"10\" style=\"stroke: #F8F8F8; stroke-width: 1.5;\" width=\"82\" x=\"668\" y=\"159\"/><rect fill=\"#F8F8F8\" height=\"10\" style=\"stroke: #F8F8F8; stroke-width: 1.5;\" width=\"82\" x=\"668\" y=\"186.9375\"/><rect fill=\"none\" height=\"42.9375\" id=\"E9\" rx=\"10\" ry=\"10\" style=\"stroke: #383838; stroke-width: 1.5;\" width=\"82\" x=\"668\" y=\"159\"/><text fill=\"#000000\" font-family=\"sans-serif\" font-size=\"12\" font-style=\"italic\" lengthAdjust=\"spacingAndGlyphs\" textLength=\"75\" x=\"671.5\" y=\"175.1387\">«reference»</text><text fill=\"#000000\" font-family=\"sans-serif\" font-size=\"12\" lengthAdjust=\"spacingAndGlyphs\" textLength=\"26\" x=\"696\" y=\"189.1074\">subj</text></a></g><!--MD5=[c5e8897d989ce984f93528998a7150fe]\n",
       "link E8 to E6--><a href=\"psysml:69852053-465c-4b3e-807c-2facd65a229c\" target=\"_top\" title=\"psysml:69852053-465c-4b3e-807c-2facd65a229c\" xlink:actuate=\"onRequest\" xlink:href=\"psysml:69852053-465c-4b3e-807c-2facd65a229c\" xlink:show=\"new\" xlink:title=\"psysml:69852053-465c-4b3e-807c-2facd65a229c\" xlink:type=\"simple\"><path d=\"M633,226.1903 C633,226.407 633,226.6239 633,226.8411 C633,230.3156 633,233.8453 633,237.375 C633,265.6125 633,293.85 633,293.85 \" fill=\"none\" id=\"E8-&gt;E6\" style=\"stroke: #383838; stroke-width: 1.0; stroke-dasharray: 7.0,7.0;\"/><polygon fill=\"#383838\" points=\"633,298.85,637,289.85,633,293.85,629,289.85,633,298.85\" style=\"stroke: #383838; stroke-width: 1.0;\"/><text fill=\"#000000\" font-family=\"sans-serif\" font-size=\"13\" lengthAdjust=\"spacingAndGlyphs\" textLength=\"57\" x=\"634\" y=\"287.0669\">«satisfy»</text></a><!--MD5=[f6ba89b16bb699bbaf73f066cc1f9905]\n",
       "@startuml\r\n",
       "skinparam ranksep 8\r\n",
       "skinparam rectangle {\r\n",
       " backgroundColor<<block>> LightGreen\r\n",
       "}\r\n",
       "skinparam linetype ortho\r\n",
       "skinparam monochrome true\r\n",
       "skinparam classbackgroundcolor white\r\n",
       "skinparam shadowing false\r\n",
       "skinparam wrapWidth 300\r\n",
       "hide circle\r\n",
       "\r\n",
       "package \"RequirementTest\" as E1  [[psysml:7a32e4ca-d886-48d1-a22e-a4337a6af1e2 ]]  {\r\n",
       "def \"C\" as E2  <<(T,blue)constraint def>> [[psysml:c5fd5931-ea17-4576-af97-a79679b06835 ]] \r\n",
       "rec usage \"c: C\" as E3  <<(T,blue)constraint>> [[psysml:23e87db0-b26a-4449-ad29-18415d83eb38 ]] {\r\n",
       "}\r\n",
       "def \"R\" as E4  <<(T,blue)requirement def>> [[psysml:aa32b181-0a7a-45c2-8d8e-c84b0489ed31 ]] \r\n",
       "def \"R1\" as E5  <<(T,blue)requirement def>> [[psysml:5b4d3eaf-f72e-4f96-998b-f4a0a57df239 ]] \r\n",
       "rec usage \"p\" as E6  [[psysml:8fb932f6-fc92-43ad-aa0e-8cfa7b71c9b3 ]] {\r\n",
       "}\r\n",
       "rec usage \"q\" as E7  [[psysml:9b734dfd-0e44-4ae0-bd37-d0a03d4a12cd ]] {\r\n",
       "rec usage \"r: R\" as E8  <<(T,blue)requirement>> [[psysml:5a1cae69-7149-47dc-88a9-208fdbfbba4b ]] {\r\n",
       "rec usage \"subj\" as E9  <<(T,blue)reference>> [[psysml:ebf9f55c-b0ce-46a7-820d-0de32b7e0555 ]] {\r\n",
       "}\r\n",
       "}\r\n",
       "}\r\n",
       "E8 ..> E6 [[psysml:69852053-465c-4b3e-807c-2facd65a229c ]] : <<satisfy>>\r\n",
       "}\r\n",
       "@enduml\r\n",
       "\n",
       "PlantUML version 1.2020.13(Sat Jun 13 12:26:38 UTC 2020)\n",
       "(EPL source distribution)\n",
       "Java Runtime: OpenJDK Runtime Environment\n",
       "JVM: OpenJDK 64-Bit Server VM\n",
       "Default Encoding: UTF-8\n",
       "Language: en\n",
       "Country: null\n",
       "--></g></svg>"
      ]
     },
     "execution_count": 54,
     "metadata": {},
     "output_type": "execute_result"
    }
   ],
   "source": [
    "%viz --style=\"ORTHOLINE\" --view=\"Interconnection\" \"RequirementTest\""
   ]
  },
  {
   "cell_type": "code",
   "execution_count": 55,
   "id": "positive-preliminary",
   "metadata": {
    "execution": {
     "iopub.execute_input": "2021-03-25T09:27:21.226195Z",
     "iopub.status.busy": "2021-03-25T09:27:21.225585Z",
     "iopub.status.idle": "2021-03-25T09:27:21.233129Z",
     "shell.execute_reply": "2021-03-25T09:27:21.232723Z"
    }
   },
   "outputs": [
    {
     "data": {
      "image/svg+xml": [
       "<?xml version=\"1.0\" encoding=\"UTF-8\" standalone=\"no\"?><svg xmlns=\"http://www.w3.org/2000/svg\" xmlns:xlink=\"http://www.w3.org/1999/xlink\" contentScriptType=\"application/ecmascript\" contentStyleType=\"text/css\" height=\"12px\" preserveAspectRatio=\"none\" style=\"width:12px;height:12px;\" version=\"1.1\" viewBox=\"0 0 12 12\" width=\"12px\" zoomAndPan=\"magnify\"><defs/><g><!--MD5=[72934c63077099a26744516a776b4749]\n",
       "@startuml\r\n",
       "skinparam ranksep 8\r\n",
       "skinparam linetype ortho\r\n",
       "skinparam monochrome true\r\n",
       "skinparam classbackgroundcolor white\r\n",
       "skinparam shadowing false\r\n",
       "skinparam wrapWidth 300\r\n",
       "hide circle\r\n",
       "\r\n",
       "@enduml\r\n",
       "\n",
       "PlantUML version 1.2020.13(Sat Jun 13 12:26:38 UTC 2020)\n",
       "(EPL source distribution)\n",
       "Java Runtime: OpenJDK Runtime Environment\n",
       "JVM: OpenJDK 64-Bit Server VM\n",
       "Default Encoding: UTF-8\n",
       "Language: en\n",
       "Country: null\n",
       "--></g></svg>"
      ]
     },
     "execution_count": 55,
     "metadata": {},
     "output_type": "execute_result"
    }
   ],
   "source": [
    "%viz --style=\"ORTHOLINE\" --view=\"Action\" \"RequirementTest\""
   ]
  },
  {
   "cell_type": "code",
   "execution_count": 56,
   "id": "forward-prototype",
   "metadata": {
    "execution": {
     "iopub.execute_input": "2021-03-25T09:27:21.283557Z",
     "iopub.status.busy": "2021-03-25T09:27:21.283152Z",
     "iopub.status.idle": "2021-03-25T09:27:22.104017Z",
     "shell.execute_reply": "2021-03-25T09:27:22.102374Z"
    }
   },
   "outputs": [
    {
     "data": {
      "image/svg+xml": [
       "<?xml version=\"1.0\" encoding=\"UTF-8\" standalone=\"no\"?><svg xmlns=\"http://www.w3.org/2000/svg\" xmlns:xlink=\"http://www.w3.org/1999/xlink\" contentScriptType=\"application/ecmascript\" contentStyleType=\"text/css\" height=\"578px\" preserveAspectRatio=\"none\" style=\"width:408px;height:578px;\" version=\"1.1\" viewBox=\"0 0 408 578\" width=\"408px\" zoomAndPan=\"magnify\"><defs/><g><!--MD5=[fbc87193dbaf4d95561dea2c320d4a47]\n",
       "cluster E1--><a href=\"psysml:7a32e4ca-d886-48d1-a22e-a4337a6af1e2\" target=\"_top\" title=\"psysml:7a32e4ca-d886-48d1-a22e-a4337a6af1e2\" xlink:actuate=\"onRequest\" xlink:href=\"psysml:7a32e4ca-d886-48d1-a22e-a4337a6af1e2\" xlink:show=\"new\" xlink:title=\"psysml:7a32e4ca-d886-48d1-a22e-a4337a6af1e2\" xlink:type=\"simple\"><polygon fill=\"#FFFFFF\" points=\"16,6,158,6,165,28.2969,386,28.2969,386,566,16,566,16,6\" style=\"stroke: #000000; stroke-width: 1.5;\"/><line style=\"stroke: #000000; stroke-width: 1.5;\" x1=\"16\" x2=\"165\" y1=\"28.2969\" y2=\"28.2969\"/><text fill=\"#000000\" font-family=\"sans-serif\" font-size=\"14\" font-weight=\"bold\" lengthAdjust=\"spacingAndGlyphs\" textLength=\"136\" x=\"20\" y=\"20.9951\">RequirementTest</text></a><!--MD5=[b4997ac47864f28c2f74865a473b2911]\n",
       "class E2--><a href=\"psysml:c5fd5931-ea17-4576-af97-a79679b06835\" target=\"_top\" title=\"psysml:c5fd5931-ea17-4576-af97-a79679b06835\" xlink:actuate=\"onRequest\" xlink:href=\"psysml:c5fd5931-ea17-4576-af97-a79679b06835\" xlink:show=\"new\" xlink:title=\"psysml:c5fd5931-ea17-4576-af97-a79679b06835\" xlink:type=\"simple\"><rect fill=\"#FFFFFF\" height=\"45.9375\" id=\"E2\" style=\"stroke: #383838; stroke-width: 1.5;\" width=\"104\" x=\"266\" y=\"190\"/><text fill=\"#000000\" font-family=\"sans-serif\" font-size=\"12\" font-style=\"italic\" lengthAdjust=\"spacingAndGlyphs\" textLength=\"102\" x=\"267\" y=\"206.1387\">«constraint def»</text><text fill=\"#000000\" font-family=\"sans-serif\" font-size=\"12\" lengthAdjust=\"spacingAndGlyphs\" textLength=\"8\" x=\"314\" y=\"220.1074\">C</text><line style=\"stroke: #383838; stroke-width: 1.5;\" x1=\"267\" x2=\"369\" y1=\"227.9375\" y2=\"227.9375\"/></a><!--MD5=[09b614a08d8cba4a07c9adeb5e0fee81]\n",
       "class E3--><a href=\"psysml:23e87db0-b26a-4449-ad29-18415d83eb38\" target=\"_top\" title=\"psysml:23e87db0-b26a-4449-ad29-18415d83eb38\" xlink:actuate=\"onRequest\" xlink:href=\"psysml:23e87db0-b26a-4449-ad29-18415d83eb38\" xlink:show=\"new\" xlink:title=\"psysml:23e87db0-b26a-4449-ad29-18415d83eb38\" xlink:type=\"simple\"><rect fill=\"#FFFFFF\" height=\"45.9375\" id=\"E3\" rx=\"10\" ry=\"10\" style=\"stroke: #383838; stroke-width: 1.5;\" width=\"80\" x=\"290\" y=\"62\"/><text fill=\"#000000\" font-family=\"sans-serif\" font-size=\"12\" font-style=\"italic\" lengthAdjust=\"spacingAndGlyphs\" textLength=\"78\" x=\"291\" y=\"78.1387\">«constraint»</text><text fill=\"#000000\" font-family=\"sans-serif\" font-size=\"12\" lengthAdjust=\"spacingAndGlyphs\" textLength=\"23\" x=\"318.5\" y=\"92.1074\">c: C</text><line style=\"stroke: #383838; stroke-width: 1.5;\" x1=\"291\" x2=\"369\" y1=\"99.9375\" y2=\"99.9375\"/></a><!--MD5=[ebbe1d658d1005bcc118a6aa81145e00]\n",
       "class E4--><a href=\"psysml:aa32b181-0a7a-45c2-8d8e-c84b0489ed31\" target=\"_top\" title=\"psysml:aa32b181-0a7a-45c2-8d8e-c84b0489ed31\" xlink:actuate=\"onRequest\" xlink:href=\"psysml:aa32b181-0a7a-45c2-8d8e-c84b0489ed31\" xlink:show=\"new\" xlink:title=\"psysml:aa32b181-0a7a-45c2-8d8e-c84b0489ed31\" xlink:type=\"simple\"><rect fill=\"#FFFFFF\" height=\"109.1563\" id=\"E4\" style=\"stroke: #383838; stroke-width: 1.5;\" width=\"117\" x=\"32.5\" y=\"313\"/><text fill=\"#000000\" font-family=\"sans-serif\" font-size=\"12\" font-style=\"italic\" lengthAdjust=\"spacingAndGlyphs\" textLength=\"115\" x=\"33.5\" y=\"329.1387\">«requirement def»</text><text fill=\"#000000\" font-family=\"sans-serif\" font-size=\"12\" lengthAdjust=\"spacingAndGlyphs\" textLength=\"8\" x=\"87\" y=\"343.1074\">R</text><line style=\"stroke: #383838; stroke-width: 1.5;\" x1=\"33.5\" x2=\"148.5\" y1=\"350.9375\" y2=\"350.9375\"/><text fill=\"#000000\" font-family=\"sans-serif\" font-size=\"11\" lengthAdjust=\"spacingAndGlyphs\" textLength=\"0\" x=\"42.5\" y=\"365.1479\"/><line style=\"stroke: #383838; stroke-width: 1.0;\" x1=\"33.5\" x2=\"148.5\" y1=\"371.7422\" y2=\"371.7422\"/><text fill=\"#000000\" font-family=\"sans-serif\" font-size=\"11\" font-weight=\"bold\" lengthAdjust=\"spacingAndGlyphs\" textLength=\"46\" x=\"38.5\" y=\"402.7573\">require</text><text fill=\"#000000\" font-family=\"sans-serif\" font-size=\"11\" lengthAdjust=\"spacingAndGlyphs\" textLength=\"6\" x=\"88.5\" y=\"402.7573\">c</text><text fill=\"#000000\" font-family=\"sans-serif\" font-size=\"11\" font-style=\"italic\" lengthAdjust=\"spacingAndGlyphs\" textLength=\"46\" x=\"38.5\" y=\"415.562\">assume</text><text fill=\"#000000\" font-family=\"sans-serif\" font-size=\"11\" lengthAdjust=\"spacingAndGlyphs\" textLength=\"29\" x=\"88.5\" y=\"415.562\">c1: C</text><line style=\"stroke: #383838; stroke-width: 1.0;\" x1=\"33.5\" x2=\"59\" y1=\"386.1445\" y2=\"386.1445\"/><text fill=\"#000000\" font-family=\"sans-serif\" font-size=\"11\" lengthAdjust=\"spacingAndGlyphs\" textLength=\"64\" x=\"59\" y=\"389.4526\">constraints</text><line style=\"stroke: #383838; stroke-width: 1.0;\" x1=\"123\" x2=\"148.5\" y1=\"386.1445\" y2=\"386.1445\"/></a><!--MD5=[270fce915f116d4de14055a7c1d9a0f3]\n",
       "class E5--><a href=\"psysml:c7a4f64d-f76e-4f11-bab9-561a5696e580\" target=\"_top\" title=\"psysml:c7a4f64d-f76e-4f11-bab9-561a5696e580\" xlink:actuate=\"onRequest\" xlink:href=\"psysml:c7a4f64d-f76e-4f11-bab9-561a5696e580\" xlink:show=\"new\" xlink:title=\"psysml:c7a4f64d-f76e-4f11-bab9-561a5696e580\" xlink:type=\"simple\"><rect fill=\"#FFFFFF\" height=\"66.7422\" id=\"E5\" style=\"stroke: #383838; stroke-width: 1.5;\" width=\"117\" x=\"32.5\" y=\"483\"/><text fill=\"#000000\" font-family=\"sans-serif\" font-size=\"12\" font-style=\"italic\" lengthAdjust=\"spacingAndGlyphs\" textLength=\"115\" x=\"33.5\" y=\"499.1387\">«requirement def»</text><text fill=\"#000000\" font-family=\"sans-serif\" font-size=\"12\" lengthAdjust=\"spacingAndGlyphs\" textLength=\"5\" x=\"78\" y=\"513.1074\">[</text><text fill=\"#000000\" font-family=\"sans-serif\" font-size=\"12\" font-weight=\"bold\" lengthAdjust=\"spacingAndGlyphs\" textLength=\"8\" x=\"83\" y=\"513.1074\">1</text><text fill=\"#000000\" font-family=\"sans-serif\" font-size=\"12\" lengthAdjust=\"spacingAndGlyphs\" textLength=\"17\" x=\"91\" y=\"513.1074\">] A</text><line style=\"stroke: #383838; stroke-width: 1.5;\" x1=\"33.5\" x2=\"148.5\" y1=\"520.9375\" y2=\"520.9375\"/><text fill=\"#000000\" font-family=\"sans-serif\" font-size=\"11\" lengthAdjust=\"spacingAndGlyphs\" textLength=\"24\" x=\"38.5\" y=\"535.1479\">Text</text><line style=\"stroke: #383838; stroke-width: 1.0;\" x1=\"33.5\" x2=\"148.5\" y1=\"541.7422\" y2=\"541.7422\"/></a><!--MD5=[b9389687b975829384b498ac4b7476b2]\n",
       "class E8--><a href=\"psysml:165156c7-6d13-47e8-9214-4efd9fbee902\" target=\"_top\" title=\"psysml:165156c7-6d13-47e8-9214-4efd9fbee902\" xlink:actuate=\"onRequest\" xlink:href=\"psysml:165156c7-6d13-47e8-9214-4efd9fbee902\" xlink:show=\"new\" xlink:title=\"psysml:165156c7-6d13-47e8-9214-4efd9fbee902\" xlink:type=\"simple\"><rect fill=\"#FFFFFF\" height=\"45.9375\" id=\"E8\" rx=\"10\" ry=\"10\" style=\"stroke: #383838; stroke-width: 1.5;\" width=\"93\" x=\"184.5\" y=\"493.5\"/><text fill=\"#000000\" font-family=\"sans-serif\" font-size=\"12\" font-style=\"italic\" lengthAdjust=\"spacingAndGlyphs\" textLength=\"91\" x=\"185.5\" y=\"509.6387\">«requirement»</text><text fill=\"#000000\" font-family=\"sans-serif\" font-size=\"12\" lengthAdjust=\"spacingAndGlyphs\" text-decoration=\"line-through\" textLength=\"51\" x=\"205.5\" y=\"523.6074\">noname</text><line style=\"stroke: #383838; stroke-width: 1.5;\" x1=\"185.5\" x2=\"276.5\" y1=\"531.4375\" y2=\"531.4375\"/></a><!--MD5=[fd4143e9d270a159db93a4ea2a975926]\n",
       "class E9--><a href=\"psysml:5b4d3eaf-f72e-4f96-998b-f4a0a57df239\" target=\"_top\" title=\"psysml:5b4d3eaf-f72e-4f96-998b-f4a0a57df239\" xlink:actuate=\"onRequest\" xlink:href=\"psysml:5b4d3eaf-f72e-4f96-998b-f4a0a57df239\" xlink:show=\"new\" xlink:title=\"psysml:5b4d3eaf-f72e-4f96-998b-f4a0a57df239\" xlink:type=\"simple\"><rect fill=\"#FFFFFF\" height=\"88.3516\" id=\"E9\" style=\"stroke: #383838; stroke-width: 1.5;\" width=\"145\" x=\"109.5\" y=\"41\"/><text fill=\"#000000\" font-family=\"sans-serif\" font-size=\"12\" font-style=\"italic\" lengthAdjust=\"spacingAndGlyphs\" textLength=\"115\" x=\"124.5\" y=\"57.1387\">«requirement def»</text><text fill=\"#000000\" font-family=\"sans-serif\" font-size=\"12\" lengthAdjust=\"spacingAndGlyphs\" textLength=\"16\" x=\"174\" y=\"71.1074\">R1</text><line style=\"stroke: #383838; stroke-width: 1.5;\" x1=\"110.5\" x2=\"253.5\" y1=\"78.9375\" y2=\"78.9375\"/><text fill=\"#000000\" font-family=\"sans-serif\" font-size=\"11\" font-weight=\"bold\" lengthAdjust=\"spacingAndGlyphs\" textLength=\"46\" x=\"115.5\" y=\"109.9526\">require</text><text fill=\"#000000\" font-family=\"sans-serif\" font-size=\"11\" lengthAdjust=\"spacingAndGlyphs\" textLength=\"13\" x=\"165.5\" y=\"109.9526\">c1</text><text fill=\"#000000\" font-family=\"sans-serif\" font-size=\"11\" font-style=\"italic\" lengthAdjust=\"spacingAndGlyphs\" textLength=\"133\" x=\"115.5\" y=\"122.7573\">:&gt;&gt;RequirementTest::c</text><line style=\"stroke: #383838; stroke-width: 1.0;\" x1=\"110.5\" x2=\"150\" y1=\"93.3398\" y2=\"93.3398\"/><text fill=\"#000000\" font-family=\"sans-serif\" font-size=\"11\" lengthAdjust=\"spacingAndGlyphs\" textLength=\"64\" x=\"150\" y=\"96.6479\">constraints</text><line style=\"stroke: #383838; stroke-width: 1.0;\" x1=\"214\" x2=\"253.5\" y1=\"93.3398\" y2=\"93.3398\"/></a><!--MD5=[1dd1bfd58a279cf63c5f349dbc8fc6a1]\n",
       "class E11--><a href=\"psysml:8fb932f6-fc92-43ad-aa0e-8cfa7b71c9b3\" target=\"_top\" title=\"psysml:8fb932f6-fc92-43ad-aa0e-8cfa7b71c9b3\" xlink:actuate=\"onRequest\" xlink:href=\"psysml:8fb932f6-fc92-43ad-aa0e-8cfa7b71c9b3\" xlink:show=\"new\" xlink:title=\"psysml:8fb932f6-fc92-43ad-aa0e-8cfa7b71c9b3\" xlink:type=\"simple\"><rect fill=\"#FFFFFF\" height=\"45.9375\" id=\"E11\" rx=\"10\" ry=\"10\" style=\"stroke: #383838; stroke-width: 1.5;\" width=\"42\" x=\"185\" y=\"344.5\"/><text fill=\"#000000\" font-family=\"sans-serif\" font-size=\"12\" font-style=\"italic\" lengthAdjust=\"spacingAndGlyphs\" textLength=\"40\" x=\"186\" y=\"360.6387\">«part»</text><text fill=\"#000000\" font-family=\"sans-serif\" font-size=\"12\" lengthAdjust=\"spacingAndGlyphs\" textLength=\"8\" x=\"202\" y=\"374.6074\">p</text><line style=\"stroke: #383838; stroke-width: 1.5;\" x1=\"186\" x2=\"226\" y1=\"382.4375\" y2=\"382.4375\"/></a><!--MD5=[49a0ec8f00dab7302a31f22d0f0fe584]\n",
       "class E12--><a href=\"psysml:9b734dfd-0e44-4ae0-bd37-d0a03d4a12cd\" target=\"_top\" title=\"psysml:9b734dfd-0e44-4ae0-bd37-d0a03d4a12cd\" xlink:actuate=\"onRequest\" xlink:href=\"psysml:9b734dfd-0e44-4ae0-bd37-d0a03d4a12cd\" xlink:show=\"new\" xlink:title=\"psysml:9b734dfd-0e44-4ae0-bd37-d0a03d4a12cd\" xlink:type=\"simple\"><rect fill=\"#FFFFFF\" height=\"45.9375\" id=\"E12\" rx=\"10\" ry=\"10\" style=\"stroke: #383838; stroke-width: 1.5;\" width=\"42\" x=\"32\" y=\"62\"/><text fill=\"#000000\" font-family=\"sans-serif\" font-size=\"12\" font-style=\"italic\" lengthAdjust=\"spacingAndGlyphs\" textLength=\"40\" x=\"33\" y=\"78.1387\">«part»</text><text fill=\"#000000\" font-family=\"sans-serif\" font-size=\"12\" lengthAdjust=\"spacingAndGlyphs\" textLength=\"8\" x=\"49\" y=\"92.1074\">q</text><line style=\"stroke: #383838; stroke-width: 1.5;\" x1=\"33\" x2=\"73\" y1=\"99.9375\" y2=\"99.9375\"/></a><!--MD5=[ee3c913d1a06f366521f9ef512b67efe]\n",
       "class E13--><a href=\"psysml:5a1cae69-7149-47dc-88a9-208fdbfbba4b\" target=\"_top\" title=\"psysml:5a1cae69-7149-47dc-88a9-208fdbfbba4b\" xlink:actuate=\"onRequest\" xlink:href=\"psysml:5a1cae69-7149-47dc-88a9-208fdbfbba4b\" xlink:show=\"new\" xlink:title=\"psysml:5a1cae69-7149-47dc-88a9-208fdbfbba4b\" xlink:type=\"simple\"><rect fill=\"#FFFFFF\" height=\"45.9375\" id=\"E13\" rx=\"10\" ry=\"10\" style=\"stroke: #383838; stroke-width: 1.5;\" width=\"93\" x=\"44.5\" y=\"190\"/><text fill=\"#000000\" font-family=\"sans-serif\" font-size=\"12\" font-style=\"italic\" lengthAdjust=\"spacingAndGlyphs\" textLength=\"91\" x=\"45.5\" y=\"206.1387\">«requirement»</text><text fill=\"#000000\" font-family=\"sans-serif\" font-size=\"12\" lengthAdjust=\"spacingAndGlyphs\" textLength=\"21\" x=\"80.5\" y=\"220.1074\">r: R</text><line style=\"stroke: #383838; stroke-width: 1.5;\" x1=\"45.5\" x2=\"136.5\" y1=\"227.9375\" y2=\"227.9375\"/></a><!--MD5=[05d275557350bfb9b23a4ef7222b4c39]\n",
       "link E3 to E2--><a href=\"psysml:bb92853b-9a42-4685-9891-57f30cbf18f8\" target=\"_top\" title=\"psysml:bb92853b-9a42-4685-9891-57f30cbf18f8\" xlink:actuate=\"onRequest\" xlink:href=\"psysml:bb92853b-9a42-4685-9891-57f30cbf18f8\" xlink:show=\"new\" xlink:title=\"psysml:bb92853b-9a42-4685-9891-57f30cbf18f8\" xlink:type=\"simple\"><path d=\"M330,108.18 C330,108.18 330,169.99 330,169.99 \" fill=\"none\" id=\"E3-&gt;E2\" style=\"stroke: #383838; stroke-width: 1.0;\"/><polygon fill=\"#FFFFFF\" points=\"330,189.99,323,170.99,337,170.99,330,189.99\" style=\"stroke: #383838; stroke-width: 1.0;\"/><ellipse cx=\"325\" cy=\"165.29\" fill=\"#383838\" rx=\"2\" ry=\"2\" style=\"stroke: #383838; stroke-width: 1.0;\"/><ellipse cx=\"335\" cy=\"165.29\" fill=\"#383838\" rx=\"2\" ry=\"2\" style=\"stroke: #383838; stroke-width: 1.0;\"/></a><!--MD5=[62aa6af11e70f752912c1cb0466f24f7]\n",
       "reverse link E4 to E5--><a href=\"psysml:c7a4f64d-f76e-4f11-bab9-561a5696e580\" target=\"_top\" title=\"psysml:c7a4f64d-f76e-4f11-bab9-561a5696e580\" xlink:actuate=\"onRequest\" xlink:href=\"psysml:c7a4f64d-f76e-4f11-bab9-561a5696e580\" xlink:show=\"new\" xlink:title=\"psysml:c7a4f64d-f76e-4f11-bab9-561a5696e580\" xlink:type=\"simple\"><path d=\"M91,437.14 C91,437.14 91,482.66 91,482.66 \" fill=\"none\" id=\"E4&lt;-E5\" style=\"stroke: #383838; stroke-width: 1.0;\"/><ellipse cx=\"91\" cy=\"430.14\" fill=\"#FFFFFF\" rx=\"8\" ry=\"8\" style=\"stroke: #383838; stroke-width: 1.0;\"/><line style=\"stroke: #383838; stroke-width: 1.0;\" x1=\"91\" x2=\"91\" y1=\"438.14\" y2=\"422.14\"/><line style=\"stroke: #383838; stroke-width: 1.0;\" x1=\"83\" x2=\"99\" y1=\"430.14\" y2=\"430.14\"/></a><!--MD5=[c6fc7cdb0cabde04948078cf183fa696]\n",
       "reverse link E4 to E8--><a href=\"psysml:165156c7-6d13-47e8-9214-4efd9fbee902\" target=\"_top\" title=\"psysml:165156c7-6d13-47e8-9214-4efd9fbee902\" xlink:actuate=\"onRequest\" xlink:href=\"psysml:165156c7-6d13-47e8-9214-4efd9fbee902\" xlink:show=\"new\" xlink:title=\"psysml:165156c7-6d13-47e8-9214-4efd9fbee902\" xlink:type=\"simple\"><path d=\"M162.51,407 C162.51,407 206,407 206,407 C206,407 206,461.14 206,493.28 \" fill=\"none\" id=\"E4&lt;-E8\" style=\"stroke: #383838; stroke-width: 1.0;\"/><polygon fill=\"#383838\" points=\"149.51,407,155.51,411,161.51,407,155.51,403,149.51,407\" style=\"stroke: #383838; stroke-width: 1.0;\"/></a><!--MD5=[062ed86c389d1a88f61c6380d0491e17]\n",
       "reverse link E12 to E13--><a href=\"psysml:5a1cae69-7149-47dc-88a9-208fdbfbba4b\" target=\"_top\" title=\"psysml:5a1cae69-7149-47dc-88a9-208fdbfbba4b\" xlink:actuate=\"onRequest\" xlink:href=\"psysml:5a1cae69-7149-47dc-88a9-208fdbfbba4b\" xlink:show=\"new\" xlink:title=\"psysml:5a1cae69-7149-47dc-88a9-208fdbfbba4b\" xlink:type=\"simple\"><path d=\"M59.25,121.18 C59.25,121.18 59.25,189.99 59.25,189.99 \" fill=\"none\" id=\"E12&lt;-E13\" style=\"stroke: #383838; stroke-width: 1.0;\"/><polygon fill=\"#383838\" points=\"59.25,108.18,55.25,114.18,59.25,120.18,63.25,114.18,59.25,108.18\" style=\"stroke: #383838; stroke-width: 1.0;\"/></a><!--MD5=[017847e01ff9a8bd19f247411074f987]\n",
       "link E13 to E4--><a href=\"psysml:9a693856-e1d7-4623-99b4-c4529bf04054\" target=\"_top\" title=\"psysml:9a693856-e1d7-4623-99b4-c4529bf04054\" xlink:actuate=\"onRequest\" xlink:href=\"psysml:9a693856-e1d7-4623-99b4-c4529bf04054\" xlink:show=\"new\" xlink:title=\"psysml:9a693856-e1d7-4623-99b4-c4529bf04054\" xlink:type=\"simple\"><path d=\"M91,236.13 C91,236.13 91,292.77 91,292.77 \" fill=\"none\" id=\"E13-&gt;E4\" style=\"stroke: #383838; stroke-width: 1.0;\"/><polygon fill=\"#FFFFFF\" points=\"91,312.77,84,293.77,98,293.77,91,312.77\" style=\"stroke: #383838; stroke-width: 1.0;\"/><ellipse cx=\"86\" cy=\"288.07\" fill=\"#383838\" rx=\"2\" ry=\"2\" style=\"stroke: #383838; stroke-width: 1.0;\"/><ellipse cx=\"96\" cy=\"288.07\" fill=\"#383838\" rx=\"2\" ry=\"2\" style=\"stroke: #383838; stroke-width: 1.0;\"/></a><!--MD5=[2cfe899c895462254056921bfb67315f]\n",
       "link E13 to E11--><a href=\"psysml:69852053-465c-4b3e-807c-2facd65a229c\" target=\"_top\" title=\"psysml:69852053-465c-4b3e-807c-2facd65a229c\" xlink:actuate=\"onRequest\" xlink:href=\"psysml:69852053-465c-4b3e-807c-2facd65a229c\" xlink:show=\"new\" xlink:title=\"psysml:69852053-465c-4b3e-807c-2facd65a229c\" xlink:type=\"simple\"><path d=\"M137.77,213 C169.61,213 206,213 206,213 C206,213 206,339.37 206,339.37 \" fill=\"none\" id=\"E13-&gt;E11\" style=\"stroke: #383838; stroke-width: 1.0; stroke-dasharray: 7.0,7.0;\"/><polygon fill=\"#383838\" points=\"206,344.37,210,335.37,206,339.37,202,335.37,206,344.37\" style=\"stroke: #383838; stroke-width: 1.0;\"/><text fill=\"#000000\" font-family=\"sans-serif\" font-size=\"13\" lengthAdjust=\"spacingAndGlyphs\" textLength=\"57\" x=\"170\" y=\"279.0669\">«satisfy»</text></a><!--MD5=[1058781d27cb2de37085dba01c65a0e6]\n",
       "@startuml\r\n",
       "skinparam linetype ortho\r\n",
       "skinparam monochrome true\r\n",
       "skinparam classbackgroundcolor white\r\n",
       "skinparam shadowing false\r\n",
       "skinparam wrapWidth 300\r\n",
       "hide circle\r\n",
       "\r\n",
       "package \"RequirementTest\" as E1  [[psysml:7a32e4ca-d886-48d1-a22e-a4337a6af1e2 ]]  {\r\n",
       "comp def \"C\" as E2  <<(T,blue)constraint def>> [[psysml:c5fd5931-ea17-4576-af97-a79679b06835 ]] {\r\n",
       "}\r\n",
       "comp usage \"c: C\" as E3  <<(T,blue)constraint>> [[psysml:23e87db0-b26a-4449-ad29-18415d83eb38 ]] {\r\n",
       "}\r\n",
       "comp def \"R\" as E4  <<(T,blue)requirement def>> [[psysml:aa32b181-0a7a-45c2-8d8e-c84b0489ed31 ]] {\r\n",
       "\r\n",
       "- -\r\n",
       "- - constraints - -\r\n",
       "<b>require</b> c\r\n",
       "<i>assume</i> c1: C\r\n",
       "}\r\n",
       "comp def \" [<b>1</b>] A\" as E5  <<(T,blue)requirement def>> [[psysml:c7a4f64d-f76e-4f11-bab9-561a5696e580 ]] {\r\n",
       "Text\r\n",
       "- -\r\n",
       "}\r\n",
       "comp usage \"<s>noname</s>\" as E8  <<(T,blue)requirement>> [[psysml:165156c7-6d13-47e8-9214-4efd9fbee902 ]] {\r\n",
       "}\r\n",
       "comp def \"R1\" as E9  <<(T,blue)requirement def>> [[psysml:5b4d3eaf-f72e-4f96-998b-f4a0a57df239 ]] {\r\n",
       "- - constraints - -\r\n",
       "<b>require</b> c1\\n//:>>RequirementTest::c// \r\n",
       "}\r\n",
       "comp usage \"p\" as E11  <<(T,blue)part>> [[psysml:8fb932f6-fc92-43ad-aa0e-8cfa7b71c9b3 ]] {\r\n",
       "}\r\n",
       "comp usage \"q\" as E12  <<(T,blue)part>> [[psysml:9b734dfd-0e44-4ae0-bd37-d0a03d4a12cd ]] {\r\n",
       "}\r\n",
       "comp usage \"r: R\" as E13  <<(T,blue)requirement>> [[psysml:5a1cae69-7149-47dc-88a9-208fdbfbba4b ]] {\r\n",
       "}\r\n",
       "E3 - -:|> E2 [[psysml:bb92853b-9a42-4685-9891-57f30cbf18f8 ]] \r\n",
       "E4 +- - E5 [[psysml:c7a4f64d-f76e-4f11-bab9-561a5696e580 ]] \r\n",
       "E4 *- - E8 [[psysml:165156c7-6d13-47e8-9214-4efd9fbee902 ]] \r\n",
       "E12 *- - E13 [[psysml:5a1cae69-7149-47dc-88a9-208fdbfbba4b ]] \r\n",
       "E13 - -:|> E4 [[psysml:9a693856-e1d7-4623-99b4-c4529bf04054 ]] \r\n",
       "E13 ..> E11 [[psysml:69852053-465c-4b3e-807c-2facd65a229c ]] : <<satisfy>>\r\n",
       "}\r\n",
       "@enduml\r\n",
       "\n",
       "PlantUML version 1.2020.13(Sat Jun 13 12:26:38 UTC 2020)\n",
       "(EPL source distribution)\n",
       "Java Runtime: OpenJDK Runtime Environment\n",
       "JVM: OpenJDK 64-Bit Server VM\n",
       "Default Encoding: UTF-8\n",
       "Language: en\n",
       "Country: null\n",
       "--></g></svg>"
      ]
     },
     "execution_count": 56,
     "metadata": {},
     "output_type": "execute_result"
    }
   ],
   "source": [
    "%viz --style=\"ORTHOLINE\" --view=\"Sequence\" \"RequirementTest\""
   ]
  },
  {
   "cell_type": "code",
   "execution_count": 57,
   "id": "charming-senator",
   "metadata": {
    "execution": {
     "iopub.execute_input": "2021-03-25T09:27:22.157719Z",
     "iopub.status.busy": "2021-03-25T09:27:22.157201Z",
     "iopub.status.idle": "2021-03-25T09:27:23.010290Z",
     "shell.execute_reply": "2021-03-25T09:27:23.008731Z"
    }
   },
   "outputs": [
    {
     "data": {
      "image/svg+xml": [
       "<?xml version=\"1.0\" encoding=\"UTF-8\" standalone=\"no\"?><svg xmlns=\"http://www.w3.org/2000/svg\" xmlns:xlink=\"http://www.w3.org/1999/xlink\" contentScriptType=\"application/ecmascript\" contentStyleType=\"text/css\" height=\"578px\" preserveAspectRatio=\"none\" style=\"width:408px;height:578px;\" version=\"1.1\" viewBox=\"0 0 408 578\" width=\"408px\" zoomAndPan=\"magnify\"><defs/><g><!--MD5=[fbc87193dbaf4d95561dea2c320d4a47]\n",
       "cluster E1--><a href=\"psysml:7a32e4ca-d886-48d1-a22e-a4337a6af1e2\" target=\"_top\" title=\"psysml:7a32e4ca-d886-48d1-a22e-a4337a6af1e2\" xlink:actuate=\"onRequest\" xlink:href=\"psysml:7a32e4ca-d886-48d1-a22e-a4337a6af1e2\" xlink:show=\"new\" xlink:title=\"psysml:7a32e4ca-d886-48d1-a22e-a4337a6af1e2\" xlink:type=\"simple\"><polygon fill=\"#FFFFFF\" points=\"16,6,158,6,165,28.2969,386,28.2969,386,566,16,566,16,6\" style=\"stroke: #000000; stroke-width: 1.5;\"/><line style=\"stroke: #000000; stroke-width: 1.5;\" x1=\"16\" x2=\"165\" y1=\"28.2969\" y2=\"28.2969\"/><text fill=\"#000000\" font-family=\"sans-serif\" font-size=\"14\" font-weight=\"bold\" lengthAdjust=\"spacingAndGlyphs\" textLength=\"136\" x=\"20\" y=\"20.9951\">RequirementTest</text></a><!--MD5=[b4997ac47864f28c2f74865a473b2911]\n",
       "class E2--><a href=\"psysml:c5fd5931-ea17-4576-af97-a79679b06835\" target=\"_top\" title=\"psysml:c5fd5931-ea17-4576-af97-a79679b06835\" xlink:actuate=\"onRequest\" xlink:href=\"psysml:c5fd5931-ea17-4576-af97-a79679b06835\" xlink:show=\"new\" xlink:title=\"psysml:c5fd5931-ea17-4576-af97-a79679b06835\" xlink:type=\"simple\"><rect fill=\"#FFFFFF\" height=\"45.9375\" id=\"E2\" style=\"stroke: #383838; stroke-width: 1.5;\" width=\"104\" x=\"266\" y=\"190\"/><text fill=\"#000000\" font-family=\"sans-serif\" font-size=\"12\" font-style=\"italic\" lengthAdjust=\"spacingAndGlyphs\" textLength=\"102\" x=\"267\" y=\"206.1387\">«constraint def»</text><text fill=\"#000000\" font-family=\"sans-serif\" font-size=\"12\" lengthAdjust=\"spacingAndGlyphs\" textLength=\"8\" x=\"314\" y=\"220.1074\">C</text><line style=\"stroke: #383838; stroke-width: 1.5;\" x1=\"267\" x2=\"369\" y1=\"227.9375\" y2=\"227.9375\"/></a><!--MD5=[09b614a08d8cba4a07c9adeb5e0fee81]\n",
       "class E3--><a href=\"psysml:23e87db0-b26a-4449-ad29-18415d83eb38\" target=\"_top\" title=\"psysml:23e87db0-b26a-4449-ad29-18415d83eb38\" xlink:actuate=\"onRequest\" xlink:href=\"psysml:23e87db0-b26a-4449-ad29-18415d83eb38\" xlink:show=\"new\" xlink:title=\"psysml:23e87db0-b26a-4449-ad29-18415d83eb38\" xlink:type=\"simple\"><rect fill=\"#FFFFFF\" height=\"45.9375\" id=\"E3\" rx=\"10\" ry=\"10\" style=\"stroke: #383838; stroke-width: 1.5;\" width=\"80\" x=\"290\" y=\"62\"/><text fill=\"#000000\" font-family=\"sans-serif\" font-size=\"12\" font-style=\"italic\" lengthAdjust=\"spacingAndGlyphs\" textLength=\"78\" x=\"291\" y=\"78.1387\">«constraint»</text><text fill=\"#000000\" font-family=\"sans-serif\" font-size=\"12\" lengthAdjust=\"spacingAndGlyphs\" textLength=\"23\" x=\"318.5\" y=\"92.1074\">c: C</text><line style=\"stroke: #383838; stroke-width: 1.5;\" x1=\"291\" x2=\"369\" y1=\"99.9375\" y2=\"99.9375\"/></a><!--MD5=[ebbe1d658d1005bcc118a6aa81145e00]\n",
       "class E4--><a href=\"psysml:aa32b181-0a7a-45c2-8d8e-c84b0489ed31\" target=\"_top\" title=\"psysml:aa32b181-0a7a-45c2-8d8e-c84b0489ed31\" xlink:actuate=\"onRequest\" xlink:href=\"psysml:aa32b181-0a7a-45c2-8d8e-c84b0489ed31\" xlink:show=\"new\" xlink:title=\"psysml:aa32b181-0a7a-45c2-8d8e-c84b0489ed31\" xlink:type=\"simple\"><rect fill=\"#FFFFFF\" height=\"109.1563\" id=\"E4\" style=\"stroke: #383838; stroke-width: 1.5;\" width=\"117\" x=\"32.5\" y=\"313\"/><text fill=\"#000000\" font-family=\"sans-serif\" font-size=\"12\" font-style=\"italic\" lengthAdjust=\"spacingAndGlyphs\" textLength=\"115\" x=\"33.5\" y=\"329.1387\">«requirement def»</text><text fill=\"#000000\" font-family=\"sans-serif\" font-size=\"12\" lengthAdjust=\"spacingAndGlyphs\" textLength=\"8\" x=\"87\" y=\"343.1074\">R</text><line style=\"stroke: #383838; stroke-width: 1.5;\" x1=\"33.5\" x2=\"148.5\" y1=\"350.9375\" y2=\"350.9375\"/><text fill=\"#000000\" font-family=\"sans-serif\" font-size=\"11\" lengthAdjust=\"spacingAndGlyphs\" textLength=\"0\" x=\"42.5\" y=\"365.1479\"/><line style=\"stroke: #383838; stroke-width: 1.0;\" x1=\"33.5\" x2=\"148.5\" y1=\"371.7422\" y2=\"371.7422\"/><text fill=\"#000000\" font-family=\"sans-serif\" font-size=\"11\" font-weight=\"bold\" lengthAdjust=\"spacingAndGlyphs\" textLength=\"46\" x=\"38.5\" y=\"402.7573\">require</text><text fill=\"#000000\" font-family=\"sans-serif\" font-size=\"11\" lengthAdjust=\"spacingAndGlyphs\" textLength=\"6\" x=\"88.5\" y=\"402.7573\">c</text><text fill=\"#000000\" font-family=\"sans-serif\" font-size=\"11\" font-style=\"italic\" lengthAdjust=\"spacingAndGlyphs\" textLength=\"46\" x=\"38.5\" y=\"415.562\">assume</text><text fill=\"#000000\" font-family=\"sans-serif\" font-size=\"11\" lengthAdjust=\"spacingAndGlyphs\" textLength=\"29\" x=\"88.5\" y=\"415.562\">c1: C</text><line style=\"stroke: #383838; stroke-width: 1.0;\" x1=\"33.5\" x2=\"59\" y1=\"386.1445\" y2=\"386.1445\"/><text fill=\"#000000\" font-family=\"sans-serif\" font-size=\"11\" lengthAdjust=\"spacingAndGlyphs\" textLength=\"64\" x=\"59\" y=\"389.4526\">constraints</text><line style=\"stroke: #383838; stroke-width: 1.0;\" x1=\"123\" x2=\"148.5\" y1=\"386.1445\" y2=\"386.1445\"/></a><!--MD5=[270fce915f116d4de14055a7c1d9a0f3]\n",
       "class E5--><a href=\"psysml:c7a4f64d-f76e-4f11-bab9-561a5696e580\" target=\"_top\" title=\"psysml:c7a4f64d-f76e-4f11-bab9-561a5696e580\" xlink:actuate=\"onRequest\" xlink:href=\"psysml:c7a4f64d-f76e-4f11-bab9-561a5696e580\" xlink:show=\"new\" xlink:title=\"psysml:c7a4f64d-f76e-4f11-bab9-561a5696e580\" xlink:type=\"simple\"><rect fill=\"#FFFFFF\" height=\"66.7422\" id=\"E5\" style=\"stroke: #383838; stroke-width: 1.5;\" width=\"117\" x=\"32.5\" y=\"483\"/><text fill=\"#000000\" font-family=\"sans-serif\" font-size=\"12\" font-style=\"italic\" lengthAdjust=\"spacingAndGlyphs\" textLength=\"115\" x=\"33.5\" y=\"499.1387\">«requirement def»</text><text fill=\"#000000\" font-family=\"sans-serif\" font-size=\"12\" lengthAdjust=\"spacingAndGlyphs\" textLength=\"5\" x=\"78\" y=\"513.1074\">[</text><text fill=\"#000000\" font-family=\"sans-serif\" font-size=\"12\" font-weight=\"bold\" lengthAdjust=\"spacingAndGlyphs\" textLength=\"8\" x=\"83\" y=\"513.1074\">1</text><text fill=\"#000000\" font-family=\"sans-serif\" font-size=\"12\" lengthAdjust=\"spacingAndGlyphs\" textLength=\"17\" x=\"91\" y=\"513.1074\">] A</text><line style=\"stroke: #383838; stroke-width: 1.5;\" x1=\"33.5\" x2=\"148.5\" y1=\"520.9375\" y2=\"520.9375\"/><text fill=\"#000000\" font-family=\"sans-serif\" font-size=\"11\" lengthAdjust=\"spacingAndGlyphs\" textLength=\"24\" x=\"38.5\" y=\"535.1479\">Text</text><line style=\"stroke: #383838; stroke-width: 1.0;\" x1=\"33.5\" x2=\"148.5\" y1=\"541.7422\" y2=\"541.7422\"/></a><!--MD5=[b9389687b975829384b498ac4b7476b2]\n",
       "class E8--><a href=\"psysml:165156c7-6d13-47e8-9214-4efd9fbee902\" target=\"_top\" title=\"psysml:165156c7-6d13-47e8-9214-4efd9fbee902\" xlink:actuate=\"onRequest\" xlink:href=\"psysml:165156c7-6d13-47e8-9214-4efd9fbee902\" xlink:show=\"new\" xlink:title=\"psysml:165156c7-6d13-47e8-9214-4efd9fbee902\" xlink:type=\"simple\"><rect fill=\"#FFFFFF\" height=\"45.9375\" id=\"E8\" rx=\"10\" ry=\"10\" style=\"stroke: #383838; stroke-width: 1.5;\" width=\"93\" x=\"184.5\" y=\"493.5\"/><text fill=\"#000000\" font-family=\"sans-serif\" font-size=\"12\" font-style=\"italic\" lengthAdjust=\"spacingAndGlyphs\" textLength=\"91\" x=\"185.5\" y=\"509.6387\">«requirement»</text><text fill=\"#000000\" font-family=\"sans-serif\" font-size=\"12\" lengthAdjust=\"spacingAndGlyphs\" text-decoration=\"line-through\" textLength=\"51\" x=\"205.5\" y=\"523.6074\">noname</text><line style=\"stroke: #383838; stroke-width: 1.5;\" x1=\"185.5\" x2=\"276.5\" y1=\"531.4375\" y2=\"531.4375\"/></a><!--MD5=[fd4143e9d270a159db93a4ea2a975926]\n",
       "class E9--><a href=\"psysml:5b4d3eaf-f72e-4f96-998b-f4a0a57df239\" target=\"_top\" title=\"psysml:5b4d3eaf-f72e-4f96-998b-f4a0a57df239\" xlink:actuate=\"onRequest\" xlink:href=\"psysml:5b4d3eaf-f72e-4f96-998b-f4a0a57df239\" xlink:show=\"new\" xlink:title=\"psysml:5b4d3eaf-f72e-4f96-998b-f4a0a57df239\" xlink:type=\"simple\"><rect fill=\"#FFFFFF\" height=\"88.3516\" id=\"E9\" style=\"stroke: #383838; stroke-width: 1.5;\" width=\"145\" x=\"109.5\" y=\"41\"/><text fill=\"#000000\" font-family=\"sans-serif\" font-size=\"12\" font-style=\"italic\" lengthAdjust=\"spacingAndGlyphs\" textLength=\"115\" x=\"124.5\" y=\"57.1387\">«requirement def»</text><text fill=\"#000000\" font-family=\"sans-serif\" font-size=\"12\" lengthAdjust=\"spacingAndGlyphs\" textLength=\"16\" x=\"174\" y=\"71.1074\">R1</text><line style=\"stroke: #383838; stroke-width: 1.5;\" x1=\"110.5\" x2=\"253.5\" y1=\"78.9375\" y2=\"78.9375\"/><text fill=\"#000000\" font-family=\"sans-serif\" font-size=\"11\" font-weight=\"bold\" lengthAdjust=\"spacingAndGlyphs\" textLength=\"46\" x=\"115.5\" y=\"109.9526\">require</text><text fill=\"#000000\" font-family=\"sans-serif\" font-size=\"11\" lengthAdjust=\"spacingAndGlyphs\" textLength=\"13\" x=\"165.5\" y=\"109.9526\">c1</text><text fill=\"#000000\" font-family=\"sans-serif\" font-size=\"11\" font-style=\"italic\" lengthAdjust=\"spacingAndGlyphs\" textLength=\"133\" x=\"115.5\" y=\"122.7573\">:&gt;&gt;RequirementTest::c</text><line style=\"stroke: #383838; stroke-width: 1.0;\" x1=\"110.5\" x2=\"150\" y1=\"93.3398\" y2=\"93.3398\"/><text fill=\"#000000\" font-family=\"sans-serif\" font-size=\"11\" lengthAdjust=\"spacingAndGlyphs\" textLength=\"64\" x=\"150\" y=\"96.6479\">constraints</text><line style=\"stroke: #383838; stroke-width: 1.0;\" x1=\"214\" x2=\"253.5\" y1=\"93.3398\" y2=\"93.3398\"/></a><!--MD5=[1dd1bfd58a279cf63c5f349dbc8fc6a1]\n",
       "class E11--><a href=\"psysml:8fb932f6-fc92-43ad-aa0e-8cfa7b71c9b3\" target=\"_top\" title=\"psysml:8fb932f6-fc92-43ad-aa0e-8cfa7b71c9b3\" xlink:actuate=\"onRequest\" xlink:href=\"psysml:8fb932f6-fc92-43ad-aa0e-8cfa7b71c9b3\" xlink:show=\"new\" xlink:title=\"psysml:8fb932f6-fc92-43ad-aa0e-8cfa7b71c9b3\" xlink:type=\"simple\"><rect fill=\"#FFFFFF\" height=\"45.9375\" id=\"E11\" rx=\"10\" ry=\"10\" style=\"stroke: #383838; stroke-width: 1.5;\" width=\"42\" x=\"185\" y=\"344.5\"/><text fill=\"#000000\" font-family=\"sans-serif\" font-size=\"12\" font-style=\"italic\" lengthAdjust=\"spacingAndGlyphs\" textLength=\"40\" x=\"186\" y=\"360.6387\">«part»</text><text fill=\"#000000\" font-family=\"sans-serif\" font-size=\"12\" lengthAdjust=\"spacingAndGlyphs\" textLength=\"8\" x=\"202\" y=\"374.6074\">p</text><line style=\"stroke: #383838; stroke-width: 1.5;\" x1=\"186\" x2=\"226\" y1=\"382.4375\" y2=\"382.4375\"/></a><!--MD5=[49a0ec8f00dab7302a31f22d0f0fe584]\n",
       "class E12--><a href=\"psysml:9b734dfd-0e44-4ae0-bd37-d0a03d4a12cd\" target=\"_top\" title=\"psysml:9b734dfd-0e44-4ae0-bd37-d0a03d4a12cd\" xlink:actuate=\"onRequest\" xlink:href=\"psysml:9b734dfd-0e44-4ae0-bd37-d0a03d4a12cd\" xlink:show=\"new\" xlink:title=\"psysml:9b734dfd-0e44-4ae0-bd37-d0a03d4a12cd\" xlink:type=\"simple\"><rect fill=\"#FFFFFF\" height=\"45.9375\" id=\"E12\" rx=\"10\" ry=\"10\" style=\"stroke: #383838; stroke-width: 1.5;\" width=\"42\" x=\"32\" y=\"62\"/><text fill=\"#000000\" font-family=\"sans-serif\" font-size=\"12\" font-style=\"italic\" lengthAdjust=\"spacingAndGlyphs\" textLength=\"40\" x=\"33\" y=\"78.1387\">«part»</text><text fill=\"#000000\" font-family=\"sans-serif\" font-size=\"12\" lengthAdjust=\"spacingAndGlyphs\" textLength=\"8\" x=\"49\" y=\"92.1074\">q</text><line style=\"stroke: #383838; stroke-width: 1.5;\" x1=\"33\" x2=\"73\" y1=\"99.9375\" y2=\"99.9375\"/></a><!--MD5=[ee3c913d1a06f366521f9ef512b67efe]\n",
       "class E13--><a href=\"psysml:5a1cae69-7149-47dc-88a9-208fdbfbba4b\" target=\"_top\" title=\"psysml:5a1cae69-7149-47dc-88a9-208fdbfbba4b\" xlink:actuate=\"onRequest\" xlink:href=\"psysml:5a1cae69-7149-47dc-88a9-208fdbfbba4b\" xlink:show=\"new\" xlink:title=\"psysml:5a1cae69-7149-47dc-88a9-208fdbfbba4b\" xlink:type=\"simple\"><rect fill=\"#FFFFFF\" height=\"45.9375\" id=\"E13\" rx=\"10\" ry=\"10\" style=\"stroke: #383838; stroke-width: 1.5;\" width=\"93\" x=\"44.5\" y=\"190\"/><text fill=\"#000000\" font-family=\"sans-serif\" font-size=\"12\" font-style=\"italic\" lengthAdjust=\"spacingAndGlyphs\" textLength=\"91\" x=\"45.5\" y=\"206.1387\">«requirement»</text><text fill=\"#000000\" font-family=\"sans-serif\" font-size=\"12\" lengthAdjust=\"spacingAndGlyphs\" textLength=\"21\" x=\"80.5\" y=\"220.1074\">r: R</text><line style=\"stroke: #383838; stroke-width: 1.5;\" x1=\"45.5\" x2=\"136.5\" y1=\"227.9375\" y2=\"227.9375\"/></a><!--MD5=[05d275557350bfb9b23a4ef7222b4c39]\n",
       "link E3 to E2--><a href=\"psysml:bb92853b-9a42-4685-9891-57f30cbf18f8\" target=\"_top\" title=\"psysml:bb92853b-9a42-4685-9891-57f30cbf18f8\" xlink:actuate=\"onRequest\" xlink:href=\"psysml:bb92853b-9a42-4685-9891-57f30cbf18f8\" xlink:show=\"new\" xlink:title=\"psysml:bb92853b-9a42-4685-9891-57f30cbf18f8\" xlink:type=\"simple\"><path d=\"M330,108.18 C330,108.18 330,169.99 330,169.99 \" fill=\"none\" id=\"E3-&gt;E2\" style=\"stroke: #383838; stroke-width: 1.0;\"/><polygon fill=\"#FFFFFF\" points=\"330,189.99,323,170.99,337,170.99,330,189.99\" style=\"stroke: #383838; stroke-width: 1.0;\"/><ellipse cx=\"325\" cy=\"165.29\" fill=\"#383838\" rx=\"2\" ry=\"2\" style=\"stroke: #383838; stroke-width: 1.0;\"/><ellipse cx=\"335\" cy=\"165.29\" fill=\"#383838\" rx=\"2\" ry=\"2\" style=\"stroke: #383838; stroke-width: 1.0;\"/></a><!--MD5=[62aa6af11e70f752912c1cb0466f24f7]\n",
       "reverse link E4 to E5--><a href=\"psysml:c7a4f64d-f76e-4f11-bab9-561a5696e580\" target=\"_top\" title=\"psysml:c7a4f64d-f76e-4f11-bab9-561a5696e580\" xlink:actuate=\"onRequest\" xlink:href=\"psysml:c7a4f64d-f76e-4f11-bab9-561a5696e580\" xlink:show=\"new\" xlink:title=\"psysml:c7a4f64d-f76e-4f11-bab9-561a5696e580\" xlink:type=\"simple\"><path d=\"M91,437.14 C91,437.14 91,482.66 91,482.66 \" fill=\"none\" id=\"E4&lt;-E5\" style=\"stroke: #383838; stroke-width: 1.0;\"/><ellipse cx=\"91\" cy=\"430.14\" fill=\"#FFFFFF\" rx=\"8\" ry=\"8\" style=\"stroke: #383838; stroke-width: 1.0;\"/><line style=\"stroke: #383838; stroke-width: 1.0;\" x1=\"91\" x2=\"91\" y1=\"438.14\" y2=\"422.14\"/><line style=\"stroke: #383838; stroke-width: 1.0;\" x1=\"83\" x2=\"99\" y1=\"430.14\" y2=\"430.14\"/></a><!--MD5=[c6fc7cdb0cabde04948078cf183fa696]\n",
       "reverse link E4 to E8--><a href=\"psysml:165156c7-6d13-47e8-9214-4efd9fbee902\" target=\"_top\" title=\"psysml:165156c7-6d13-47e8-9214-4efd9fbee902\" xlink:actuate=\"onRequest\" xlink:href=\"psysml:165156c7-6d13-47e8-9214-4efd9fbee902\" xlink:show=\"new\" xlink:title=\"psysml:165156c7-6d13-47e8-9214-4efd9fbee902\" xlink:type=\"simple\"><path d=\"M162.51,407 C162.51,407 206,407 206,407 C206,407 206,461.14 206,493.28 \" fill=\"none\" id=\"E4&lt;-E8\" style=\"stroke: #383838; stroke-width: 1.0;\"/><polygon fill=\"#383838\" points=\"149.51,407,155.51,411,161.51,407,155.51,403,149.51,407\" style=\"stroke: #383838; stroke-width: 1.0;\"/></a><!--MD5=[062ed86c389d1a88f61c6380d0491e17]\n",
       "reverse link E12 to E13--><a href=\"psysml:5a1cae69-7149-47dc-88a9-208fdbfbba4b\" target=\"_top\" title=\"psysml:5a1cae69-7149-47dc-88a9-208fdbfbba4b\" xlink:actuate=\"onRequest\" xlink:href=\"psysml:5a1cae69-7149-47dc-88a9-208fdbfbba4b\" xlink:show=\"new\" xlink:title=\"psysml:5a1cae69-7149-47dc-88a9-208fdbfbba4b\" xlink:type=\"simple\"><path d=\"M59.25,121.18 C59.25,121.18 59.25,189.99 59.25,189.99 \" fill=\"none\" id=\"E12&lt;-E13\" style=\"stroke: #383838; stroke-width: 1.0;\"/><polygon fill=\"#383838\" points=\"59.25,108.18,55.25,114.18,59.25,120.18,63.25,114.18,59.25,108.18\" style=\"stroke: #383838; stroke-width: 1.0;\"/></a><!--MD5=[017847e01ff9a8bd19f247411074f987]\n",
       "link E13 to E4--><a href=\"psysml:9a693856-e1d7-4623-99b4-c4529bf04054\" target=\"_top\" title=\"psysml:9a693856-e1d7-4623-99b4-c4529bf04054\" xlink:actuate=\"onRequest\" xlink:href=\"psysml:9a693856-e1d7-4623-99b4-c4529bf04054\" xlink:show=\"new\" xlink:title=\"psysml:9a693856-e1d7-4623-99b4-c4529bf04054\" xlink:type=\"simple\"><path d=\"M91,236.13 C91,236.13 91,292.77 91,292.77 \" fill=\"none\" id=\"E13-&gt;E4\" style=\"stroke: #383838; stroke-width: 1.0;\"/><polygon fill=\"#FFFFFF\" points=\"91,312.77,84,293.77,98,293.77,91,312.77\" style=\"stroke: #383838; stroke-width: 1.0;\"/><ellipse cx=\"86\" cy=\"288.07\" fill=\"#383838\" rx=\"2\" ry=\"2\" style=\"stroke: #383838; stroke-width: 1.0;\"/><ellipse cx=\"96\" cy=\"288.07\" fill=\"#383838\" rx=\"2\" ry=\"2\" style=\"stroke: #383838; stroke-width: 1.0;\"/></a><!--MD5=[2cfe899c895462254056921bfb67315f]\n",
       "link E13 to E11--><a href=\"psysml:69852053-465c-4b3e-807c-2facd65a229c\" target=\"_top\" title=\"psysml:69852053-465c-4b3e-807c-2facd65a229c\" xlink:actuate=\"onRequest\" xlink:href=\"psysml:69852053-465c-4b3e-807c-2facd65a229c\" xlink:show=\"new\" xlink:title=\"psysml:69852053-465c-4b3e-807c-2facd65a229c\" xlink:type=\"simple\"><path d=\"M137.77,213 C169.61,213 206,213 206,213 C206,213 206,339.37 206,339.37 \" fill=\"none\" id=\"E13-&gt;E11\" style=\"stroke: #383838; stroke-width: 1.0; stroke-dasharray: 7.0,7.0;\"/><polygon fill=\"#383838\" points=\"206,344.37,210,335.37,206,339.37,202,335.37,206,344.37\" style=\"stroke: #383838; stroke-width: 1.0;\"/><text fill=\"#000000\" font-family=\"sans-serif\" font-size=\"13\" lengthAdjust=\"spacingAndGlyphs\" textLength=\"57\" x=\"170\" y=\"279.0669\">«satisfy»</text></a><!--MD5=[1058781d27cb2de37085dba01c65a0e6]\n",
       "@startuml\r\n",
       "skinparam linetype ortho\r\n",
       "skinparam monochrome true\r\n",
       "skinparam classbackgroundcolor white\r\n",
       "skinparam shadowing false\r\n",
       "skinparam wrapWidth 300\r\n",
       "hide circle\r\n",
       "\r\n",
       "package \"RequirementTest\" as E1  [[psysml:7a32e4ca-d886-48d1-a22e-a4337a6af1e2 ]]  {\r\n",
       "comp def \"C\" as E2  <<(T,blue)constraint def>> [[psysml:c5fd5931-ea17-4576-af97-a79679b06835 ]] {\r\n",
       "}\r\n",
       "comp usage \"c: C\" as E3  <<(T,blue)constraint>> [[psysml:23e87db0-b26a-4449-ad29-18415d83eb38 ]] {\r\n",
       "}\r\n",
       "comp def \"R\" as E4  <<(T,blue)requirement def>> [[psysml:aa32b181-0a7a-45c2-8d8e-c84b0489ed31 ]] {\r\n",
       "\r\n",
       "- -\r\n",
       "- - constraints - -\r\n",
       "<b>require</b> c\r\n",
       "<i>assume</i> c1: C\r\n",
       "}\r\n",
       "comp def \" [<b>1</b>] A\" as E5  <<(T,blue)requirement def>> [[psysml:c7a4f64d-f76e-4f11-bab9-561a5696e580 ]] {\r\n",
       "Text\r\n",
       "- -\r\n",
       "}\r\n",
       "comp usage \"<s>noname</s>\" as E8  <<(T,blue)requirement>> [[psysml:165156c7-6d13-47e8-9214-4efd9fbee902 ]] {\r\n",
       "}\r\n",
       "comp def \"R1\" as E9  <<(T,blue)requirement def>> [[psysml:5b4d3eaf-f72e-4f96-998b-f4a0a57df239 ]] {\r\n",
       "- - constraints - -\r\n",
       "<b>require</b> c1\\n//:>>RequirementTest::c// \r\n",
       "}\r\n",
       "comp usage \"p\" as E11  <<(T,blue)part>> [[psysml:8fb932f6-fc92-43ad-aa0e-8cfa7b71c9b3 ]] {\r\n",
       "}\r\n",
       "comp usage \"q\" as E12  <<(T,blue)part>> [[psysml:9b734dfd-0e44-4ae0-bd37-d0a03d4a12cd ]] {\r\n",
       "}\r\n",
       "comp usage \"r: R\" as E13  <<(T,blue)requirement>> [[psysml:5a1cae69-7149-47dc-88a9-208fdbfbba4b ]] {\r\n",
       "}\r\n",
       "E3 - -:|> E2 [[psysml:bb92853b-9a42-4685-9891-57f30cbf18f8 ]] \r\n",
       "E4 +- - E5 [[psysml:c7a4f64d-f76e-4f11-bab9-561a5696e580 ]] \r\n",
       "E4 *- - E8 [[psysml:165156c7-6d13-47e8-9214-4efd9fbee902 ]] \r\n",
       "E12 *- - E13 [[psysml:5a1cae69-7149-47dc-88a9-208fdbfbba4b ]] \r\n",
       "E13 - -:|> E4 [[psysml:9a693856-e1d7-4623-99b4-c4529bf04054 ]] \r\n",
       "E13 ..> E11 [[psysml:69852053-465c-4b3e-807c-2facd65a229c ]] : <<satisfy>>\r\n",
       "}\r\n",
       "@enduml\r\n",
       "\n",
       "PlantUML version 1.2020.13(Sat Jun 13 12:26:38 UTC 2020)\n",
       "(EPL source distribution)\n",
       "Java Runtime: OpenJDK Runtime Environment\n",
       "JVM: OpenJDK 64-Bit Server VM\n",
       "Default Encoding: UTF-8\n",
       "Language: en\n",
       "Country: null\n",
       "--></g></svg>"
      ]
     },
     "execution_count": 57,
     "metadata": {},
     "output_type": "execute_result"
    }
   ],
   "source": [
    "%viz --style=\"ORTHOLINE\" --view=\"MIXED\" \"RequirementTest\""
   ]
  }
 ],
 "metadata": {
  "kernelspec": {
   "display_name": "SysML",
   "language": "sysml",
   "name": "sysml"
  },
  "language_info": {
   "codemirror_mode": "sysml",
   "file_extension": ".sysml",
   "mimetype": "text/x-sysml",
   "name": "SysML",
   "pygments_lexer": "java",
   "version": "1.0.0"
  }
 },
 "nbformat": 4,
 "nbformat_minor": 5
}
