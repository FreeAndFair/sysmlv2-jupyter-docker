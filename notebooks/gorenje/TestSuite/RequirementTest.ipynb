{
 "cells": [
  {
   "cell_type": "markdown",
   "id": "entire-analysis",
   "metadata": {},
   "source": [
    "# SysML v2 Test Suite\n",
    "\n",
    "This can notebook can be cleared using menu `Edit --> Clear All Outputs` and then all cells can be\n",
    "run using menu `Run --> Run All Cells`.\n",
    "\n",
    "**WARNING**: This file is generated, all modifications here will be ignored.\n"
   ]
  },
  {
   "cell_type": "markdown",
   "id": "sized-approval",
   "metadata": {},
   "source": [
    "## File: ../../sysml/src/examples/Simple Tests/RequirementTest.sysml"
   ]
  },
  {
   "cell_type": "code",
   "execution_count": 1,
   "id": "assigned-latter",
   "metadata": {
    "execution": {
     "iopub.execute_input": "2021-03-26T13:01:04.921449Z",
     "iopub.status.busy": "2021-03-26T13:01:04.920254Z",
     "iopub.status.idle": "2021-03-26T13:01:05.250734Z",
     "shell.execute_reply": "2021-03-26T13:01:05.250201Z"
    }
   },
   "outputs": [
    {
     "data": {
      "text/plain": [
       "Package RequirementTest (8d1027ce-cb5b-4036-b197-c1f1744744ce)\n"
      ]
     },
     "execution_count": 1,
     "metadata": {},
     "output_type": "execute_result"
    }
   ],
   "source": [
    "package RequirementTest {\n",
    "\tconstraint def C;\n",
    "\tconstraint c : C;\n",
    "\trequirement def R {\n",
    "\t\tassume constraint c1 : C;\n",
    "\t\trequire c;\n",
    "\t\tdoc /* */\n",
    "    \trequirement;\n",
    "    \trequirement def id '1' A {\n",
    "    \t\tdoc /* Text */\n",
    "    \t\tsubject s;\n",
    "    \t}\n",
    "\t}\n",
    "\trequirement def R1 {\n",
    "\t\trequire constraint c1 :>> c;\n",
    "\t}\n",
    "\tpart p;\n",
    "\tpart q {\n",
    "\t\trequirement r : R;\n",
    "\t\tsatisfy r by p;\n",
    "\t}\n",
    "}"
   ]
  },
  {
   "cell_type": "code",
   "execution_count": 2,
   "id": "driving-transsexual",
   "metadata": {
    "execution": {
     "iopub.execute_input": "2021-03-26T13:01:05.301934Z",
     "iopub.status.busy": "2021-03-26T13:01:05.301209Z",
     "iopub.status.idle": "2021-03-26T13:01:05.973091Z",
     "shell.execute_reply": "2021-03-26T13:01:05.972750Z"
    }
   },
   "outputs": [
    {
     "data": {
      "image/svg+xml": [
       "<?xml version=\"1.0\" encoding=\"UTF-8\" standalone=\"no\"?><svg xmlns=\"http://www.w3.org/2000/svg\" xmlns:xlink=\"http://www.w3.org/1999/xlink\" contentScriptType=\"application/ecmascript\" contentStyleType=\"text/css\" height=\"578px\" preserveAspectRatio=\"none\" style=\"width:408px;height:578px;\" version=\"1.1\" viewBox=\"0 0 408 578\" width=\"408px\" zoomAndPan=\"magnify\"><defs/><g><!--MD5=[fbc87193dbaf4d95561dea2c320d4a47]\n",
       "cluster E1--><a href=\"psysml:32d2418d-b451-4172-b0c3-f203713ef4c8\" target=\"_top\" title=\"psysml:32d2418d-b451-4172-b0c3-f203713ef4c8\" xlink:actuate=\"onRequest\" xlink:href=\"psysml:32d2418d-b451-4172-b0c3-f203713ef4c8\" xlink:show=\"new\" xlink:title=\"psysml:32d2418d-b451-4172-b0c3-f203713ef4c8\" xlink:type=\"simple\"><polygon fill=\"#FFFFFF\" points=\"16,6,158,6,165,28.2969,386,28.2969,386,566,16,566,16,6\" style=\"stroke: #000000; stroke-width: 1.5;\"/><line style=\"stroke: #000000; stroke-width: 1.5;\" x1=\"16\" x2=\"165\" y1=\"28.2969\" y2=\"28.2969\"/><text fill=\"#000000\" font-family=\"sans-serif\" font-size=\"14\" font-weight=\"bold\" lengthAdjust=\"spacingAndGlyphs\" textLength=\"136\" x=\"20\" y=\"20.9951\">RequirementTest</text></a><!--MD5=[b4997ac47864f28c2f74865a473b2911]\n",
       "class E2--><a href=\"psysml:a1b28860-c9a8-4d37-931e-31ae0c14540e\" target=\"_top\" title=\"psysml:a1b28860-c9a8-4d37-931e-31ae0c14540e\" xlink:actuate=\"onRequest\" xlink:href=\"psysml:a1b28860-c9a8-4d37-931e-31ae0c14540e\" xlink:show=\"new\" xlink:title=\"psysml:a1b28860-c9a8-4d37-931e-31ae0c14540e\" xlink:type=\"simple\"><rect fill=\"#FFFFFF\" height=\"45.9375\" id=\"E2\" style=\"stroke: #383838; stroke-width: 1.5;\" width=\"104\" x=\"266\" y=\"190\"/><text fill=\"#000000\" font-family=\"sans-serif\" font-size=\"12\" font-style=\"italic\" lengthAdjust=\"spacingAndGlyphs\" textLength=\"102\" x=\"267\" y=\"206.1387\">«constraint def»</text><text fill=\"#000000\" font-family=\"sans-serif\" font-size=\"12\" lengthAdjust=\"spacingAndGlyphs\" textLength=\"8\" x=\"314\" y=\"220.1074\">C</text><line style=\"stroke: #383838; stroke-width: 1.5;\" x1=\"267\" x2=\"369\" y1=\"227.9375\" y2=\"227.9375\"/></a><!--MD5=[09b614a08d8cba4a07c9adeb5e0fee81]\n",
       "class E3--><a href=\"psysml:4f6724e1-6261-429d-9c16-1831387bac9b\" target=\"_top\" title=\"psysml:4f6724e1-6261-429d-9c16-1831387bac9b\" xlink:actuate=\"onRequest\" xlink:href=\"psysml:4f6724e1-6261-429d-9c16-1831387bac9b\" xlink:show=\"new\" xlink:title=\"psysml:4f6724e1-6261-429d-9c16-1831387bac9b\" xlink:type=\"simple\"><rect fill=\"#FFFFFF\" height=\"45.9375\" id=\"E3\" rx=\"10\" ry=\"10\" style=\"stroke: #383838; stroke-width: 1.5;\" width=\"80\" x=\"290\" y=\"62\"/><text fill=\"#000000\" font-family=\"sans-serif\" font-size=\"12\" font-style=\"italic\" lengthAdjust=\"spacingAndGlyphs\" textLength=\"78\" x=\"291\" y=\"78.1387\">«constraint»</text><text fill=\"#000000\" font-family=\"sans-serif\" font-size=\"12\" lengthAdjust=\"spacingAndGlyphs\" textLength=\"23\" x=\"318.5\" y=\"92.1074\">c: C</text><line style=\"stroke: #383838; stroke-width: 1.5;\" x1=\"291\" x2=\"369\" y1=\"99.9375\" y2=\"99.9375\"/></a><!--MD5=[ebbe1d658d1005bcc118a6aa81145e00]\n",
       "class E4--><a href=\"psysml:a2742730-9bdb-48ea-a333-70a51cef011c\" target=\"_top\" title=\"psysml:a2742730-9bdb-48ea-a333-70a51cef011c\" xlink:actuate=\"onRequest\" xlink:href=\"psysml:a2742730-9bdb-48ea-a333-70a51cef011c\" xlink:show=\"new\" xlink:title=\"psysml:a2742730-9bdb-48ea-a333-70a51cef011c\" xlink:type=\"simple\"><rect fill=\"#FFFFFF\" height=\"109.1563\" id=\"E4\" style=\"stroke: #383838; stroke-width: 1.5;\" width=\"117\" x=\"32.5\" y=\"313\"/><text fill=\"#000000\" font-family=\"sans-serif\" font-size=\"12\" font-style=\"italic\" lengthAdjust=\"spacingAndGlyphs\" textLength=\"115\" x=\"33.5\" y=\"329.1387\">«requirement def»</text><text fill=\"#000000\" font-family=\"sans-serif\" font-size=\"12\" lengthAdjust=\"spacingAndGlyphs\" textLength=\"8\" x=\"87\" y=\"343.1074\">R</text><line style=\"stroke: #383838; stroke-width: 1.5;\" x1=\"33.5\" x2=\"148.5\" y1=\"350.9375\" y2=\"350.9375\"/><text fill=\"#000000\" font-family=\"sans-serif\" font-size=\"11\" lengthAdjust=\"spacingAndGlyphs\" textLength=\"0\" x=\"42.5\" y=\"365.1479\"/><line style=\"stroke: #383838; stroke-width: 1.0;\" x1=\"33.5\" x2=\"148.5\" y1=\"371.7422\" y2=\"371.7422\"/><text fill=\"#000000\" font-family=\"sans-serif\" font-size=\"11\" font-weight=\"bold\" lengthAdjust=\"spacingAndGlyphs\" textLength=\"46\" x=\"38.5\" y=\"402.7573\">require</text><text fill=\"#000000\" font-family=\"sans-serif\" font-size=\"11\" lengthAdjust=\"spacingAndGlyphs\" textLength=\"6\" x=\"88.5\" y=\"402.7573\">c</text><text fill=\"#000000\" font-family=\"sans-serif\" font-size=\"11\" font-style=\"italic\" lengthAdjust=\"spacingAndGlyphs\" textLength=\"46\" x=\"38.5\" y=\"415.562\">assume</text><text fill=\"#000000\" font-family=\"sans-serif\" font-size=\"11\" lengthAdjust=\"spacingAndGlyphs\" textLength=\"29\" x=\"88.5\" y=\"415.562\">c1: C</text><line style=\"stroke: #383838; stroke-width: 1.0;\" x1=\"33.5\" x2=\"59\" y1=\"386.1445\" y2=\"386.1445\"/><text fill=\"#000000\" font-family=\"sans-serif\" font-size=\"11\" lengthAdjust=\"spacingAndGlyphs\" textLength=\"64\" x=\"59\" y=\"389.4526\">constraints</text><line style=\"stroke: #383838; stroke-width: 1.0;\" x1=\"123\" x2=\"148.5\" y1=\"386.1445\" y2=\"386.1445\"/></a><!--MD5=[270fce915f116d4de14055a7c1d9a0f3]\n",
       "class E5--><a href=\"psysml:56458fbc-ce11-45ea-8fa2-2092e0cfc05c\" target=\"_top\" title=\"psysml:56458fbc-ce11-45ea-8fa2-2092e0cfc05c\" xlink:actuate=\"onRequest\" xlink:href=\"psysml:56458fbc-ce11-45ea-8fa2-2092e0cfc05c\" xlink:show=\"new\" xlink:title=\"psysml:56458fbc-ce11-45ea-8fa2-2092e0cfc05c\" xlink:type=\"simple\"><rect fill=\"#FFFFFF\" height=\"66.7422\" id=\"E5\" style=\"stroke: #383838; stroke-width: 1.5;\" width=\"117\" x=\"32.5\" y=\"483\"/><text fill=\"#000000\" font-family=\"sans-serif\" font-size=\"12\" font-style=\"italic\" lengthAdjust=\"spacingAndGlyphs\" textLength=\"115\" x=\"33.5\" y=\"499.1387\">«requirement def»</text><text fill=\"#000000\" font-family=\"sans-serif\" font-size=\"12\" lengthAdjust=\"spacingAndGlyphs\" textLength=\"5\" x=\"78\" y=\"513.1074\">[</text><text fill=\"#000000\" font-family=\"sans-serif\" font-size=\"12\" font-weight=\"bold\" lengthAdjust=\"spacingAndGlyphs\" textLength=\"8\" x=\"83\" y=\"513.1074\">1</text><text fill=\"#000000\" font-family=\"sans-serif\" font-size=\"12\" lengthAdjust=\"spacingAndGlyphs\" textLength=\"17\" x=\"91\" y=\"513.1074\">] A</text><line style=\"stroke: #383838; stroke-width: 1.5;\" x1=\"33.5\" x2=\"148.5\" y1=\"520.9375\" y2=\"520.9375\"/><text fill=\"#000000\" font-family=\"sans-serif\" font-size=\"11\" lengthAdjust=\"spacingAndGlyphs\" textLength=\"24\" x=\"38.5\" y=\"535.1479\">Text</text><line style=\"stroke: #383838; stroke-width: 1.0;\" x1=\"33.5\" x2=\"148.5\" y1=\"541.7422\" y2=\"541.7422\"/></a><!--MD5=[b9389687b975829384b498ac4b7476b2]\n",
       "class E8--><a href=\"psysml:72b41e7b-9298-4fd0-92ac-738cc777b35a\" target=\"_top\" title=\"psysml:72b41e7b-9298-4fd0-92ac-738cc777b35a\" xlink:actuate=\"onRequest\" xlink:href=\"psysml:72b41e7b-9298-4fd0-92ac-738cc777b35a\" xlink:show=\"new\" xlink:title=\"psysml:72b41e7b-9298-4fd0-92ac-738cc777b35a\" xlink:type=\"simple\"><rect fill=\"#FFFFFF\" height=\"45.9375\" id=\"E8\" rx=\"10\" ry=\"10\" style=\"stroke: #383838; stroke-width: 1.5;\" width=\"93\" x=\"184.5\" y=\"493.5\"/><text fill=\"#000000\" font-family=\"sans-serif\" font-size=\"12\" font-style=\"italic\" lengthAdjust=\"spacingAndGlyphs\" textLength=\"91\" x=\"185.5\" y=\"509.6387\">«requirement»</text><text fill=\"#000000\" font-family=\"sans-serif\" font-size=\"12\" lengthAdjust=\"spacingAndGlyphs\" text-decoration=\"line-through\" textLength=\"51\" x=\"205.5\" y=\"523.6074\">noname</text><line style=\"stroke: #383838; stroke-width: 1.5;\" x1=\"185.5\" x2=\"276.5\" y1=\"531.4375\" y2=\"531.4375\"/></a><!--MD5=[fd4143e9d270a159db93a4ea2a975926]\n",
       "class E9--><a href=\"psysml:ec52d3df-f8e8-4ac5-95c0-bf3447feb8a5\" target=\"_top\" title=\"psysml:ec52d3df-f8e8-4ac5-95c0-bf3447feb8a5\" xlink:actuate=\"onRequest\" xlink:href=\"psysml:ec52d3df-f8e8-4ac5-95c0-bf3447feb8a5\" xlink:show=\"new\" xlink:title=\"psysml:ec52d3df-f8e8-4ac5-95c0-bf3447feb8a5\" xlink:type=\"simple\"><rect fill=\"#FFFFFF\" height=\"88.3516\" id=\"E9\" style=\"stroke: #383838; stroke-width: 1.5;\" width=\"145\" x=\"109.5\" y=\"41\"/><text fill=\"#000000\" font-family=\"sans-serif\" font-size=\"12\" font-style=\"italic\" lengthAdjust=\"spacingAndGlyphs\" textLength=\"115\" x=\"124.5\" y=\"57.1387\">«requirement def»</text><text fill=\"#000000\" font-family=\"sans-serif\" font-size=\"12\" lengthAdjust=\"spacingAndGlyphs\" textLength=\"16\" x=\"174\" y=\"71.1074\">R1</text><line style=\"stroke: #383838; stroke-width: 1.5;\" x1=\"110.5\" x2=\"253.5\" y1=\"78.9375\" y2=\"78.9375\"/><text fill=\"#000000\" font-family=\"sans-serif\" font-size=\"11\" font-weight=\"bold\" lengthAdjust=\"spacingAndGlyphs\" textLength=\"46\" x=\"115.5\" y=\"109.9526\">require</text><text fill=\"#000000\" font-family=\"sans-serif\" font-size=\"11\" lengthAdjust=\"spacingAndGlyphs\" textLength=\"13\" x=\"165.5\" y=\"109.9526\">c1</text><text fill=\"#000000\" font-family=\"sans-serif\" font-size=\"11\" font-style=\"italic\" lengthAdjust=\"spacingAndGlyphs\" textLength=\"133\" x=\"115.5\" y=\"122.7573\">:&gt;&gt;RequirementTest::c</text><line style=\"stroke: #383838; stroke-width: 1.0;\" x1=\"110.5\" x2=\"150\" y1=\"93.3398\" y2=\"93.3398\"/><text fill=\"#000000\" font-family=\"sans-serif\" font-size=\"11\" lengthAdjust=\"spacingAndGlyphs\" textLength=\"64\" x=\"150\" y=\"96.6479\">constraints</text><line style=\"stroke: #383838; stroke-width: 1.0;\" x1=\"214\" x2=\"253.5\" y1=\"93.3398\" y2=\"93.3398\"/></a><!--MD5=[1dd1bfd58a279cf63c5f349dbc8fc6a1]\n",
       "class E11--><a href=\"psysml:b85d82e7-3bb2-4c49-b03c-5a9b3c771643\" target=\"_top\" title=\"psysml:b85d82e7-3bb2-4c49-b03c-5a9b3c771643\" xlink:actuate=\"onRequest\" xlink:href=\"psysml:b85d82e7-3bb2-4c49-b03c-5a9b3c771643\" xlink:show=\"new\" xlink:title=\"psysml:b85d82e7-3bb2-4c49-b03c-5a9b3c771643\" xlink:type=\"simple\"><rect fill=\"#FFFFFF\" height=\"45.9375\" id=\"E11\" rx=\"10\" ry=\"10\" style=\"stroke: #383838; stroke-width: 1.5;\" width=\"42\" x=\"185\" y=\"344.5\"/><text fill=\"#000000\" font-family=\"sans-serif\" font-size=\"12\" font-style=\"italic\" lengthAdjust=\"spacingAndGlyphs\" textLength=\"40\" x=\"186\" y=\"360.6387\">«part»</text><text fill=\"#000000\" font-family=\"sans-serif\" font-size=\"12\" lengthAdjust=\"spacingAndGlyphs\" textLength=\"8\" x=\"202\" y=\"374.6074\">p</text><line style=\"stroke: #383838; stroke-width: 1.5;\" x1=\"186\" x2=\"226\" y1=\"382.4375\" y2=\"382.4375\"/></a><!--MD5=[49a0ec8f00dab7302a31f22d0f0fe584]\n",
       "class E12--><a href=\"psysml:f6ed6b0e-7205-4bca-ba49-af9a51c8942a\" target=\"_top\" title=\"psysml:f6ed6b0e-7205-4bca-ba49-af9a51c8942a\" xlink:actuate=\"onRequest\" xlink:href=\"psysml:f6ed6b0e-7205-4bca-ba49-af9a51c8942a\" xlink:show=\"new\" xlink:title=\"psysml:f6ed6b0e-7205-4bca-ba49-af9a51c8942a\" xlink:type=\"simple\"><rect fill=\"#FFFFFF\" height=\"45.9375\" id=\"E12\" rx=\"10\" ry=\"10\" style=\"stroke: #383838; stroke-width: 1.5;\" width=\"42\" x=\"32\" y=\"62\"/><text fill=\"#000000\" font-family=\"sans-serif\" font-size=\"12\" font-style=\"italic\" lengthAdjust=\"spacingAndGlyphs\" textLength=\"40\" x=\"33\" y=\"78.1387\">«part»</text><text fill=\"#000000\" font-family=\"sans-serif\" font-size=\"12\" lengthAdjust=\"spacingAndGlyphs\" textLength=\"8\" x=\"49\" y=\"92.1074\">q</text><line style=\"stroke: #383838; stroke-width: 1.5;\" x1=\"33\" x2=\"73\" y1=\"99.9375\" y2=\"99.9375\"/></a><!--MD5=[ee3c913d1a06f366521f9ef512b67efe]\n",
       "class E13--><a href=\"psysml:dc92139c-b950-485f-92a5-3d6f837d8293\" target=\"_top\" title=\"psysml:dc92139c-b950-485f-92a5-3d6f837d8293\" xlink:actuate=\"onRequest\" xlink:href=\"psysml:dc92139c-b950-485f-92a5-3d6f837d8293\" xlink:show=\"new\" xlink:title=\"psysml:dc92139c-b950-485f-92a5-3d6f837d8293\" xlink:type=\"simple\"><rect fill=\"#FFFFFF\" height=\"45.9375\" id=\"E13\" rx=\"10\" ry=\"10\" style=\"stroke: #383838; stroke-width: 1.5;\" width=\"93\" x=\"44.5\" y=\"190\"/><text fill=\"#000000\" font-family=\"sans-serif\" font-size=\"12\" font-style=\"italic\" lengthAdjust=\"spacingAndGlyphs\" textLength=\"91\" x=\"45.5\" y=\"206.1387\">«requirement»</text><text fill=\"#000000\" font-family=\"sans-serif\" font-size=\"12\" lengthAdjust=\"spacingAndGlyphs\" textLength=\"21\" x=\"80.5\" y=\"220.1074\">r: R</text><line style=\"stroke: #383838; stroke-width: 1.5;\" x1=\"45.5\" x2=\"136.5\" y1=\"227.9375\" y2=\"227.9375\"/></a><!--MD5=[05d275557350bfb9b23a4ef7222b4c39]\n",
       "link E3 to E2--><a href=\"psysml:9201001b-4e3f-46f0-8224-89e70f802e39\" target=\"_top\" title=\"psysml:9201001b-4e3f-46f0-8224-89e70f802e39\" xlink:actuate=\"onRequest\" xlink:href=\"psysml:9201001b-4e3f-46f0-8224-89e70f802e39\" xlink:show=\"new\" xlink:title=\"psysml:9201001b-4e3f-46f0-8224-89e70f802e39\" xlink:type=\"simple\"><path d=\"M327.88,108.24 C326.26,125.24 323.98,149.19 322.02,169.79 \" fill=\"none\" id=\"E3-&gt;E2\" style=\"stroke: #383838; stroke-width: 1.0;\"/><polygon fill=\"#FFFFFF\" points=\"320.1,189.99,314.9362,170.411,328.8729,171.7407,320.1,189.99\" style=\"stroke: #383838; stroke-width: 1.0;\"/><ellipse cx=\"317.4685\" cy=\"164.9268\" fill=\"#383838\" rx=\"2\" ry=\"2\" style=\"stroke: #383838; stroke-width: 1.0;\"/><ellipse cx=\"327.4233\" cy=\"165.8765\" fill=\"#383838\" rx=\"2\" ry=\"2\" style=\"stroke: #383838; stroke-width: 1.0;\"/></a><!--MD5=[62aa6af11e70f752912c1cb0466f24f7]\n",
       "reverse link E4 to E5--><a href=\"psysml:56458fbc-ce11-45ea-8fa2-2092e0cfc05c\" target=\"_top\" title=\"psysml:56458fbc-ce11-45ea-8fa2-2092e0cfc05c\" xlink:actuate=\"onRequest\" xlink:href=\"psysml:56458fbc-ce11-45ea-8fa2-2092e0cfc05c\" xlink:show=\"new\" xlink:title=\"psysml:56458fbc-ce11-45ea-8fa2-2092e0cfc05c\" xlink:type=\"simple\"><path d=\"M91,437.45 C91,453.34 91,469.51 91,482.98 \" fill=\"none\" id=\"E4&lt;-E5\" style=\"stroke: #383838; stroke-width: 1.0;\"/><ellipse cx=\"91\" cy=\"430.4\" fill=\"#FFFFFF\" rx=\"8\" ry=\"8\" style=\"stroke: #383838; stroke-width: 1.0;\"/><line style=\"stroke: #383838; stroke-width: 1.0;\" x1=\"91\" x2=\"91\" y1=\"438.4\" y2=\"422.4\"/><line style=\"stroke: #383838; stroke-width: 1.0;\" x1=\"83\" x2=\"99\" y1=\"430.4\" y2=\"430.4\"/></a><!--MD5=[c6fc7cdb0cabde04948078cf183fa696]\n",
       "reverse link E4 to E8--><a href=\"psysml:72b41e7b-9298-4fd0-92ac-738cc777b35a\" target=\"_top\" title=\"psysml:72b41e7b-9298-4fd0-92ac-738cc777b35a\" xlink:actuate=\"onRequest\" xlink:href=\"psysml:72b41e7b-9298-4fd0-92ac-738cc777b35a\" xlink:show=\"new\" xlink:title=\"psysml:72b41e7b-9298-4fd0-92ac-738cc777b35a\" xlink:type=\"simple\"><path d=\"M151.51,432.04 C172.42,453.99 194.47,477.14 210.03,493.48 \" fill=\"none\" id=\"E4&lt;-E8\" style=\"stroke: #383838; stroke-width: 1.0;\"/><polygon fill=\"#383838\" points=\"142.34,422.4,143.5779,429.5041,150.6116,431.0937,149.3737,423.9897,142.34,422.4\" style=\"stroke: #383838; stroke-width: 1.0;\"/></a><!--MD5=[062ed86c389d1a88f61c6380d0491e17]\n",
       "reverse link E12 to E13--><a href=\"psysml:dc92139c-b950-485f-92a5-3d6f837d8293\" target=\"_top\" title=\"psysml:dc92139c-b950-485f-92a5-3d6f837d8293\" xlink:actuate=\"onRequest\" xlink:href=\"psysml:dc92139c-b950-485f-92a5-3d6f837d8293\" xlink:show=\"new\" xlink:title=\"psysml:dc92139c-b950-485f-92a5-3d6f837d8293\" xlink:type=\"simple\"><path d=\"M63.49,120.8 C70.17,142.92 78.6,170.89 84.36,189.99 \" fill=\"none\" id=\"E12&lt;-E13\" style=\"stroke: #383838; stroke-width: 1.0;\"/><polygon fill=\"#383838\" points=\"59.71,108.24,57.6129,115.1394,63.1751,119.7288,65.2722,112.8294,59.71,108.24\" style=\"stroke: #383838; stroke-width: 1.0;\"/></a><!--MD5=[017847e01ff9a8bd19f247411074f987]\n",
       "link E13 to E4--><a href=\"psysml:84833459-b0b4-497f-8a66-9d75104fb430\" target=\"_top\" title=\"psysml:84833459-b0b4-497f-8a66-9d75104fb430\" xlink:actuate=\"onRequest\" xlink:href=\"psysml:84833459-b0b4-497f-8a66-9d75104fb430\" xlink:show=\"new\" xlink:title=\"psysml:84833459-b0b4-497f-8a66-9d75104fb430\" xlink:type=\"simple\"><path d=\"M91,236.17 C91,251.17 91,271.91 91,292.44 \" fill=\"none\" id=\"E13-&gt;E4\" style=\"stroke: #383838; stroke-width: 1.0;\"/><polygon fill=\"#FFFFFF\" points=\"91,312.68,84,293.68,98,293.68,91,312.68\" style=\"stroke: #383838; stroke-width: 1.0;\"/><ellipse cx=\"86\" cy=\"287.98\" fill=\"#383838\" rx=\"2\" ry=\"2\" style=\"stroke: #383838; stroke-width: 1.0;\"/><ellipse cx=\"96\" cy=\"287.98\" fill=\"#383838\" rx=\"2\" ry=\"2\" style=\"stroke: #383838; stroke-width: 1.0;\"/></a><!--MD5=[2cfe899c895462254056921bfb67315f]\n",
       "link E13 to E11--><a href=\"psysml:ed40ce07-1501-496b-adae-3639fe39f1e8\" target=\"_top\" title=\"psysml:ed40ce07-1501-496b-adae-3639fe39f1e8\" xlink:actuate=\"onRequest\" xlink:href=\"psysml:ed40ce07-1501-496b-adae-3639fe39f1e8\" xlink:show=\"new\" xlink:title=\"psysml:ed40ce07-1501-496b-adae-3639fe39f1e8\" xlink:type=\"simple\"><path d=\"M108.36,236.29 C123.87,256.28 147.14,286.45 167,313 C173.57,321.78 180.66,331.44 186.97,340.12 \" fill=\"none\" id=\"E13-&gt;E11\" style=\"stroke: #383838; stroke-width: 1.0; stroke-dasharray: 7.0,7.0;\"/><polygon fill=\"#383838\" points=\"189.99,344.28,187.9274,334.6496,187.0474,340.2376,181.4594,339.3576,189.99,344.28\" style=\"stroke: #383838; stroke-width: 1.0;\"/><text fill=\"#000000\" font-family=\"sans-serif\" font-size=\"13\" lengthAdjust=\"spacingAndGlyphs\" textLength=\"57\" x=\"145\" y=\"279.0669\">«satisfy»</text></a><!--MD5=[ae8623df8e09f3fc0786010d17a90dc0]\n",
       "@startuml\r\n",
       " skinparam monochrome true\r\n",
       "skinparam classbackgroundcolor white\r\n",
       "skinparam shadowing false\r\n",
       "skinparam wrapWidth 300\r\n",
       "hide circle\r\n",
       "\r\n",
       "package \"RequirementTest\" as E1  [[psysml:32d2418d-b451-4172-b0c3-f203713ef4c8 ]]  {\r\n",
       "comp def \"C\" as E2  <<(T,blue)constraint def>> [[psysml:a1b28860-c9a8-4d37-931e-31ae0c14540e ]] {\r\n",
       "}\r\n",
       "comp usage \"c: C\" as E3  <<(T,blue)constraint>> [[psysml:4f6724e1-6261-429d-9c16-1831387bac9b ]] {\r\n",
       "}\r\n",
       "comp def \"R\" as E4  <<(T,blue)requirement def>> [[psysml:a2742730-9bdb-48ea-a333-70a51cef011c ]] {\r\n",
       "\r\n",
       "- -\r\n",
       "- - constraints - -\r\n",
       "<b>require</b> c\r\n",
       "<i>assume</i> c1: C\r\n",
       "}\r\n",
       "comp def \" [<b>1</b>] A\" as E5  <<(T,blue)requirement def>> [[psysml:56458fbc-ce11-45ea-8fa2-2092e0cfc05c ]] {\r\n",
       "Text\r\n",
       "- -\r\n",
       "}\r\n",
       "comp usage \"<s>noname</s>\" as E8  <<(T,blue)requirement>> [[psysml:72b41e7b-9298-4fd0-92ac-738cc777b35a ]] {\r\n",
       "}\r\n",
       "comp def \"R1\" as E9  <<(T,blue)requirement def>> [[psysml:ec52d3df-f8e8-4ac5-95c0-bf3447feb8a5 ]] {\r\n",
       "- - constraints - -\r\n",
       "<b>require</b> c1\\n//:>>RequirementTest::c// \r\n",
       "}\r\n",
       "comp usage \"p\" as E11  <<(T,blue)part>> [[psysml:b85d82e7-3bb2-4c49-b03c-5a9b3c771643 ]] {\r\n",
       "}\r\n",
       "comp usage \"q\" as E12  <<(T,blue)part>> [[psysml:f6ed6b0e-7205-4bca-ba49-af9a51c8942a ]] {\r\n",
       "}\r\n",
       "comp usage \"r: R\" as E13  <<(T,blue)requirement>> [[psysml:dc92139c-b950-485f-92a5-3d6f837d8293 ]] {\r\n",
       "}\r\n",
       "E3 - -:|> E2 [[psysml:9201001b-4e3f-46f0-8224-89e70f802e39 ]] \r\n",
       "E4 +- - E5 [[psysml:56458fbc-ce11-45ea-8fa2-2092e0cfc05c ]] \r\n",
       "E4 *- - E8 [[psysml:72b41e7b-9298-4fd0-92ac-738cc777b35a ]] \r\n",
       "E12 *- - E13 [[psysml:dc92139c-b950-485f-92a5-3d6f837d8293 ]] \r\n",
       "E13 - -:|> E4 [[psysml:84833459-b0b4-497f-8a66-9d75104fb430 ]] \r\n",
       "E13 ..> E11 [[psysml:ed40ce07-1501-496b-adae-3639fe39f1e8 ]] : <<satisfy>>\r\n",
       "}\r\n",
       "@enduml\r\n",
       "\n",
       "PlantUML version 1.2020.13(Sat Jun 13 12:26:38 UTC 2020)\n",
       "(EPL source distribution)\n",
       "Java Runtime: OpenJDK Runtime Environment\n",
       "JVM: OpenJDK 64-Bit Server VM\n",
       "Default Encoding: UTF-8\n",
       "Language: en\n",
       "Country: null\n",
       "--></g></svg>"
      ]
     },
     "execution_count": 2,
     "metadata": {},
     "output_type": "execute_result"
    }
   ],
   "source": [
    "%viz --style=\"COMPTREE\" --view=\"Default\" \"RequirementTest\""
   ]
  },
  {
   "cell_type": "code",
   "execution_count": 3,
   "id": "amazing-johnston",
   "metadata": {
    "execution": {
     "iopub.execute_input": "2021-03-26T13:01:06.025301Z",
     "iopub.status.busy": "2021-03-26T13:01:06.024149Z",
     "iopub.status.idle": "2021-03-26T13:01:06.183892Z",
     "shell.execute_reply": "2021-03-26T13:01:06.184210Z"
    }
   },
   "outputs": [
    {
     "data": {
      "image/svg+xml": [
       "<?xml version=\"1.0\" encoding=\"UTF-8\" standalone=\"no\"?><svg xmlns=\"http://www.w3.org/2000/svg\" xmlns:xlink=\"http://www.w3.org/1999/xlink\" contentScriptType=\"application/ecmascript\" contentStyleType=\"text/css\" height=\"578px\" preserveAspectRatio=\"none\" style=\"width:408px;height:578px;\" version=\"1.1\" viewBox=\"0 0 408 578\" width=\"408px\" zoomAndPan=\"magnify\"><defs/><g><!--MD5=[fbc87193dbaf4d95561dea2c320d4a47]\n",
       "cluster E1--><a href=\"psysml:32d2418d-b451-4172-b0c3-f203713ef4c8\" target=\"_top\" title=\"psysml:32d2418d-b451-4172-b0c3-f203713ef4c8\" xlink:actuate=\"onRequest\" xlink:href=\"psysml:32d2418d-b451-4172-b0c3-f203713ef4c8\" xlink:show=\"new\" xlink:title=\"psysml:32d2418d-b451-4172-b0c3-f203713ef4c8\" xlink:type=\"simple\"><polygon fill=\"#FFFFFF\" points=\"16,6,158,6,165,28.2969,386,28.2969,386,566,16,566,16,6\" style=\"stroke: #000000; stroke-width: 1.5;\"/><line style=\"stroke: #000000; stroke-width: 1.5;\" x1=\"16\" x2=\"165\" y1=\"28.2969\" y2=\"28.2969\"/><text fill=\"#000000\" font-family=\"sans-serif\" font-size=\"14\" font-weight=\"bold\" lengthAdjust=\"spacingAndGlyphs\" textLength=\"136\" x=\"20\" y=\"20.9951\">RequirementTest</text></a><!--MD5=[b4997ac47864f28c2f74865a473b2911]\n",
       "class E2--><a href=\"psysml:a1b28860-c9a8-4d37-931e-31ae0c14540e\" target=\"_top\" title=\"psysml:a1b28860-c9a8-4d37-931e-31ae0c14540e\" xlink:actuate=\"onRequest\" xlink:href=\"psysml:a1b28860-c9a8-4d37-931e-31ae0c14540e\" xlink:show=\"new\" xlink:title=\"psysml:a1b28860-c9a8-4d37-931e-31ae0c14540e\" xlink:type=\"simple\"><rect fill=\"#FFFFFF\" height=\"45.9375\" id=\"E2\" style=\"stroke: #383838; stroke-width: 1.5;\" width=\"104\" x=\"266\" y=\"190\"/><text fill=\"#000000\" font-family=\"sans-serif\" font-size=\"12\" font-style=\"italic\" lengthAdjust=\"spacingAndGlyphs\" textLength=\"102\" x=\"267\" y=\"206.1387\">«constraint def»</text><text fill=\"#000000\" font-family=\"sans-serif\" font-size=\"12\" lengthAdjust=\"spacingAndGlyphs\" textLength=\"8\" x=\"314\" y=\"220.1074\">C</text><line style=\"stroke: #383838; stroke-width: 1.5;\" x1=\"267\" x2=\"369\" y1=\"227.9375\" y2=\"227.9375\"/></a><!--MD5=[09b614a08d8cba4a07c9adeb5e0fee81]\n",
       "class E3--><a href=\"psysml:4f6724e1-6261-429d-9c16-1831387bac9b\" target=\"_top\" title=\"psysml:4f6724e1-6261-429d-9c16-1831387bac9b\" xlink:actuate=\"onRequest\" xlink:href=\"psysml:4f6724e1-6261-429d-9c16-1831387bac9b\" xlink:show=\"new\" xlink:title=\"psysml:4f6724e1-6261-429d-9c16-1831387bac9b\" xlink:type=\"simple\"><rect fill=\"#FFFFFF\" height=\"45.9375\" id=\"E3\" rx=\"10\" ry=\"10\" style=\"stroke: #383838; stroke-width: 1.5;\" width=\"80\" x=\"290\" y=\"62\"/><text fill=\"#000000\" font-family=\"sans-serif\" font-size=\"12\" font-style=\"italic\" lengthAdjust=\"spacingAndGlyphs\" textLength=\"78\" x=\"291\" y=\"78.1387\">«constraint»</text><text fill=\"#000000\" font-family=\"sans-serif\" font-size=\"12\" lengthAdjust=\"spacingAndGlyphs\" textLength=\"23\" x=\"318.5\" y=\"92.1074\">c: C</text><line style=\"stroke: #383838; stroke-width: 1.5;\" x1=\"291\" x2=\"369\" y1=\"99.9375\" y2=\"99.9375\"/></a><!--MD5=[ebbe1d658d1005bcc118a6aa81145e00]\n",
       "class E4--><a href=\"psysml:a2742730-9bdb-48ea-a333-70a51cef011c\" target=\"_top\" title=\"psysml:a2742730-9bdb-48ea-a333-70a51cef011c\" xlink:actuate=\"onRequest\" xlink:href=\"psysml:a2742730-9bdb-48ea-a333-70a51cef011c\" xlink:show=\"new\" xlink:title=\"psysml:a2742730-9bdb-48ea-a333-70a51cef011c\" xlink:type=\"simple\"><rect fill=\"#FFFFFF\" height=\"109.1563\" id=\"E4\" style=\"stroke: #383838; stroke-width: 1.5;\" width=\"117\" x=\"32.5\" y=\"313\"/><text fill=\"#000000\" font-family=\"sans-serif\" font-size=\"12\" font-style=\"italic\" lengthAdjust=\"spacingAndGlyphs\" textLength=\"115\" x=\"33.5\" y=\"329.1387\">«requirement def»</text><text fill=\"#000000\" font-family=\"sans-serif\" font-size=\"12\" lengthAdjust=\"spacingAndGlyphs\" textLength=\"8\" x=\"87\" y=\"343.1074\">R</text><line style=\"stroke: #383838; stroke-width: 1.5;\" x1=\"33.5\" x2=\"148.5\" y1=\"350.9375\" y2=\"350.9375\"/><text fill=\"#000000\" font-family=\"sans-serif\" font-size=\"11\" lengthAdjust=\"spacingAndGlyphs\" textLength=\"0\" x=\"42.5\" y=\"365.1479\"/><line style=\"stroke: #383838; stroke-width: 1.0;\" x1=\"33.5\" x2=\"148.5\" y1=\"371.7422\" y2=\"371.7422\"/><text fill=\"#000000\" font-family=\"sans-serif\" font-size=\"11\" font-weight=\"bold\" lengthAdjust=\"spacingAndGlyphs\" textLength=\"46\" x=\"38.5\" y=\"402.7573\">require</text><text fill=\"#000000\" font-family=\"sans-serif\" font-size=\"11\" lengthAdjust=\"spacingAndGlyphs\" textLength=\"6\" x=\"88.5\" y=\"402.7573\">c</text><text fill=\"#000000\" font-family=\"sans-serif\" font-size=\"11\" font-style=\"italic\" lengthAdjust=\"spacingAndGlyphs\" textLength=\"46\" x=\"38.5\" y=\"415.562\">assume</text><text fill=\"#000000\" font-family=\"sans-serif\" font-size=\"11\" lengthAdjust=\"spacingAndGlyphs\" textLength=\"29\" x=\"88.5\" y=\"415.562\">c1: C</text><line style=\"stroke: #383838; stroke-width: 1.0;\" x1=\"33.5\" x2=\"59\" y1=\"386.1445\" y2=\"386.1445\"/><text fill=\"#000000\" font-family=\"sans-serif\" font-size=\"11\" lengthAdjust=\"spacingAndGlyphs\" textLength=\"64\" x=\"59\" y=\"389.4526\">constraints</text><line style=\"stroke: #383838; stroke-width: 1.0;\" x1=\"123\" x2=\"148.5\" y1=\"386.1445\" y2=\"386.1445\"/></a><!--MD5=[270fce915f116d4de14055a7c1d9a0f3]\n",
       "class E5--><a href=\"psysml:56458fbc-ce11-45ea-8fa2-2092e0cfc05c\" target=\"_top\" title=\"psysml:56458fbc-ce11-45ea-8fa2-2092e0cfc05c\" xlink:actuate=\"onRequest\" xlink:href=\"psysml:56458fbc-ce11-45ea-8fa2-2092e0cfc05c\" xlink:show=\"new\" xlink:title=\"psysml:56458fbc-ce11-45ea-8fa2-2092e0cfc05c\" xlink:type=\"simple\"><rect fill=\"#FFFFFF\" height=\"66.7422\" id=\"E5\" style=\"stroke: #383838; stroke-width: 1.5;\" width=\"117\" x=\"32.5\" y=\"483\"/><text fill=\"#000000\" font-family=\"sans-serif\" font-size=\"12\" font-style=\"italic\" lengthAdjust=\"spacingAndGlyphs\" textLength=\"115\" x=\"33.5\" y=\"499.1387\">«requirement def»</text><text fill=\"#000000\" font-family=\"sans-serif\" font-size=\"12\" lengthAdjust=\"spacingAndGlyphs\" textLength=\"5\" x=\"78\" y=\"513.1074\">[</text><text fill=\"#000000\" font-family=\"sans-serif\" font-size=\"12\" font-weight=\"bold\" lengthAdjust=\"spacingAndGlyphs\" textLength=\"8\" x=\"83\" y=\"513.1074\">1</text><text fill=\"#000000\" font-family=\"sans-serif\" font-size=\"12\" lengthAdjust=\"spacingAndGlyphs\" textLength=\"17\" x=\"91\" y=\"513.1074\">] A</text><line style=\"stroke: #383838; stroke-width: 1.5;\" x1=\"33.5\" x2=\"148.5\" y1=\"520.9375\" y2=\"520.9375\"/><text fill=\"#000000\" font-family=\"sans-serif\" font-size=\"11\" lengthAdjust=\"spacingAndGlyphs\" textLength=\"24\" x=\"38.5\" y=\"535.1479\">Text</text><line style=\"stroke: #383838; stroke-width: 1.0;\" x1=\"33.5\" x2=\"148.5\" y1=\"541.7422\" y2=\"541.7422\"/></a><!--MD5=[b9389687b975829384b498ac4b7476b2]\n",
       "class E8--><a href=\"psysml:72b41e7b-9298-4fd0-92ac-738cc777b35a\" target=\"_top\" title=\"psysml:72b41e7b-9298-4fd0-92ac-738cc777b35a\" xlink:actuate=\"onRequest\" xlink:href=\"psysml:72b41e7b-9298-4fd0-92ac-738cc777b35a\" xlink:show=\"new\" xlink:title=\"psysml:72b41e7b-9298-4fd0-92ac-738cc777b35a\" xlink:type=\"simple\"><rect fill=\"#FFFFFF\" height=\"45.9375\" id=\"E8\" rx=\"10\" ry=\"10\" style=\"stroke: #383838; stroke-width: 1.5;\" width=\"93\" x=\"184.5\" y=\"493.5\"/><text fill=\"#000000\" font-family=\"sans-serif\" font-size=\"12\" font-style=\"italic\" lengthAdjust=\"spacingAndGlyphs\" textLength=\"91\" x=\"185.5\" y=\"509.6387\">«requirement»</text><text fill=\"#000000\" font-family=\"sans-serif\" font-size=\"12\" lengthAdjust=\"spacingAndGlyphs\" text-decoration=\"line-through\" textLength=\"51\" x=\"205.5\" y=\"523.6074\">noname</text><line style=\"stroke: #383838; stroke-width: 1.5;\" x1=\"185.5\" x2=\"276.5\" y1=\"531.4375\" y2=\"531.4375\"/></a><!--MD5=[fd4143e9d270a159db93a4ea2a975926]\n",
       "class E9--><a href=\"psysml:ec52d3df-f8e8-4ac5-95c0-bf3447feb8a5\" target=\"_top\" title=\"psysml:ec52d3df-f8e8-4ac5-95c0-bf3447feb8a5\" xlink:actuate=\"onRequest\" xlink:href=\"psysml:ec52d3df-f8e8-4ac5-95c0-bf3447feb8a5\" xlink:show=\"new\" xlink:title=\"psysml:ec52d3df-f8e8-4ac5-95c0-bf3447feb8a5\" xlink:type=\"simple\"><rect fill=\"#FFFFFF\" height=\"88.3516\" id=\"E9\" style=\"stroke: #383838; stroke-width: 1.5;\" width=\"145\" x=\"109.5\" y=\"41\"/><text fill=\"#000000\" font-family=\"sans-serif\" font-size=\"12\" font-style=\"italic\" lengthAdjust=\"spacingAndGlyphs\" textLength=\"115\" x=\"124.5\" y=\"57.1387\">«requirement def»</text><text fill=\"#000000\" font-family=\"sans-serif\" font-size=\"12\" lengthAdjust=\"spacingAndGlyphs\" textLength=\"16\" x=\"174\" y=\"71.1074\">R1</text><line style=\"stroke: #383838; stroke-width: 1.5;\" x1=\"110.5\" x2=\"253.5\" y1=\"78.9375\" y2=\"78.9375\"/><text fill=\"#000000\" font-family=\"sans-serif\" font-size=\"11\" font-weight=\"bold\" lengthAdjust=\"spacingAndGlyphs\" textLength=\"46\" x=\"115.5\" y=\"109.9526\">require</text><text fill=\"#000000\" font-family=\"sans-serif\" font-size=\"11\" lengthAdjust=\"spacingAndGlyphs\" textLength=\"13\" x=\"165.5\" y=\"109.9526\">c1</text><text fill=\"#000000\" font-family=\"sans-serif\" font-size=\"11\" font-style=\"italic\" lengthAdjust=\"spacingAndGlyphs\" textLength=\"133\" x=\"115.5\" y=\"122.7573\">:&gt;&gt;RequirementTest::c</text><line style=\"stroke: #383838; stroke-width: 1.0;\" x1=\"110.5\" x2=\"150\" y1=\"93.3398\" y2=\"93.3398\"/><text fill=\"#000000\" font-family=\"sans-serif\" font-size=\"11\" lengthAdjust=\"spacingAndGlyphs\" textLength=\"64\" x=\"150\" y=\"96.6479\">constraints</text><line style=\"stroke: #383838; stroke-width: 1.0;\" x1=\"214\" x2=\"253.5\" y1=\"93.3398\" y2=\"93.3398\"/></a><!--MD5=[1dd1bfd58a279cf63c5f349dbc8fc6a1]\n",
       "class E11--><a href=\"psysml:b85d82e7-3bb2-4c49-b03c-5a9b3c771643\" target=\"_top\" title=\"psysml:b85d82e7-3bb2-4c49-b03c-5a9b3c771643\" xlink:actuate=\"onRequest\" xlink:href=\"psysml:b85d82e7-3bb2-4c49-b03c-5a9b3c771643\" xlink:show=\"new\" xlink:title=\"psysml:b85d82e7-3bb2-4c49-b03c-5a9b3c771643\" xlink:type=\"simple\"><rect fill=\"#FFFFFF\" height=\"45.9375\" id=\"E11\" rx=\"10\" ry=\"10\" style=\"stroke: #383838; stroke-width: 1.5;\" width=\"42\" x=\"185\" y=\"344.5\"/><text fill=\"#000000\" font-family=\"sans-serif\" font-size=\"12\" font-style=\"italic\" lengthAdjust=\"spacingAndGlyphs\" textLength=\"40\" x=\"186\" y=\"360.6387\">«part»</text><text fill=\"#000000\" font-family=\"sans-serif\" font-size=\"12\" lengthAdjust=\"spacingAndGlyphs\" textLength=\"8\" x=\"202\" y=\"374.6074\">p</text><line style=\"stroke: #383838; stroke-width: 1.5;\" x1=\"186\" x2=\"226\" y1=\"382.4375\" y2=\"382.4375\"/></a><!--MD5=[49a0ec8f00dab7302a31f22d0f0fe584]\n",
       "class E12--><a href=\"psysml:f6ed6b0e-7205-4bca-ba49-af9a51c8942a\" target=\"_top\" title=\"psysml:f6ed6b0e-7205-4bca-ba49-af9a51c8942a\" xlink:actuate=\"onRequest\" xlink:href=\"psysml:f6ed6b0e-7205-4bca-ba49-af9a51c8942a\" xlink:show=\"new\" xlink:title=\"psysml:f6ed6b0e-7205-4bca-ba49-af9a51c8942a\" xlink:type=\"simple\"><rect fill=\"#FFFFFF\" height=\"45.9375\" id=\"E12\" rx=\"10\" ry=\"10\" style=\"stroke: #383838; stroke-width: 1.5;\" width=\"42\" x=\"32\" y=\"62\"/><text fill=\"#000000\" font-family=\"sans-serif\" font-size=\"12\" font-style=\"italic\" lengthAdjust=\"spacingAndGlyphs\" textLength=\"40\" x=\"33\" y=\"78.1387\">«part»</text><text fill=\"#000000\" font-family=\"sans-serif\" font-size=\"12\" lengthAdjust=\"spacingAndGlyphs\" textLength=\"8\" x=\"49\" y=\"92.1074\">q</text><line style=\"stroke: #383838; stroke-width: 1.5;\" x1=\"33\" x2=\"73\" y1=\"99.9375\" y2=\"99.9375\"/></a><!--MD5=[ee3c913d1a06f366521f9ef512b67efe]\n",
       "class E13--><a href=\"psysml:dc92139c-b950-485f-92a5-3d6f837d8293\" target=\"_top\" title=\"psysml:dc92139c-b950-485f-92a5-3d6f837d8293\" xlink:actuate=\"onRequest\" xlink:href=\"psysml:dc92139c-b950-485f-92a5-3d6f837d8293\" xlink:show=\"new\" xlink:title=\"psysml:dc92139c-b950-485f-92a5-3d6f837d8293\" xlink:type=\"simple\"><rect fill=\"#FFFFFF\" height=\"45.9375\" id=\"E13\" rx=\"10\" ry=\"10\" style=\"stroke: #383838; stroke-width: 1.5;\" width=\"93\" x=\"44.5\" y=\"190\"/><text fill=\"#000000\" font-family=\"sans-serif\" font-size=\"12\" font-style=\"italic\" lengthAdjust=\"spacingAndGlyphs\" textLength=\"91\" x=\"45.5\" y=\"206.1387\">«requirement»</text><text fill=\"#000000\" font-family=\"sans-serif\" font-size=\"12\" lengthAdjust=\"spacingAndGlyphs\" textLength=\"21\" x=\"80.5\" y=\"220.1074\">r: R</text><line style=\"stroke: #383838; stroke-width: 1.5;\" x1=\"45.5\" x2=\"136.5\" y1=\"227.9375\" y2=\"227.9375\"/></a><!--MD5=[05d275557350bfb9b23a4ef7222b4c39]\n",
       "link E3 to E2--><a href=\"psysml:9201001b-4e3f-46f0-8224-89e70f802e39\" target=\"_top\" title=\"psysml:9201001b-4e3f-46f0-8224-89e70f802e39\" xlink:actuate=\"onRequest\" xlink:href=\"psysml:9201001b-4e3f-46f0-8224-89e70f802e39\" xlink:show=\"new\" xlink:title=\"psysml:9201001b-4e3f-46f0-8224-89e70f802e39\" xlink:type=\"simple\"><path d=\"M327.88,108.24 C326.26,125.24 323.98,149.19 322.02,169.79 \" fill=\"none\" id=\"E3-&gt;E2\" style=\"stroke: #383838; stroke-width: 1.0;\"/><polygon fill=\"#FFFFFF\" points=\"320.1,189.99,314.9362,170.411,328.8729,171.7407,320.1,189.99\" style=\"stroke: #383838; stroke-width: 1.0;\"/><ellipse cx=\"317.4685\" cy=\"164.9268\" fill=\"#383838\" rx=\"2\" ry=\"2\" style=\"stroke: #383838; stroke-width: 1.0;\"/><ellipse cx=\"327.4233\" cy=\"165.8765\" fill=\"#383838\" rx=\"2\" ry=\"2\" style=\"stroke: #383838; stroke-width: 1.0;\"/></a><!--MD5=[62aa6af11e70f752912c1cb0466f24f7]\n",
       "reverse link E4 to E5--><a href=\"psysml:56458fbc-ce11-45ea-8fa2-2092e0cfc05c\" target=\"_top\" title=\"psysml:56458fbc-ce11-45ea-8fa2-2092e0cfc05c\" xlink:actuate=\"onRequest\" xlink:href=\"psysml:56458fbc-ce11-45ea-8fa2-2092e0cfc05c\" xlink:show=\"new\" xlink:title=\"psysml:56458fbc-ce11-45ea-8fa2-2092e0cfc05c\" xlink:type=\"simple\"><path d=\"M91,437.45 C91,453.34 91,469.51 91,482.98 \" fill=\"none\" id=\"E4&lt;-E5\" style=\"stroke: #383838; stroke-width: 1.0;\"/><ellipse cx=\"91\" cy=\"430.4\" fill=\"#FFFFFF\" rx=\"8\" ry=\"8\" style=\"stroke: #383838; stroke-width: 1.0;\"/><line style=\"stroke: #383838; stroke-width: 1.0;\" x1=\"91\" x2=\"91\" y1=\"438.4\" y2=\"422.4\"/><line style=\"stroke: #383838; stroke-width: 1.0;\" x1=\"83\" x2=\"99\" y1=\"430.4\" y2=\"430.4\"/></a><!--MD5=[c6fc7cdb0cabde04948078cf183fa696]\n",
       "reverse link E4 to E8--><a href=\"psysml:72b41e7b-9298-4fd0-92ac-738cc777b35a\" target=\"_top\" title=\"psysml:72b41e7b-9298-4fd0-92ac-738cc777b35a\" xlink:actuate=\"onRequest\" xlink:href=\"psysml:72b41e7b-9298-4fd0-92ac-738cc777b35a\" xlink:show=\"new\" xlink:title=\"psysml:72b41e7b-9298-4fd0-92ac-738cc777b35a\" xlink:type=\"simple\"><path d=\"M151.51,432.04 C172.42,453.99 194.47,477.14 210.03,493.48 \" fill=\"none\" id=\"E4&lt;-E8\" style=\"stroke: #383838; stroke-width: 1.0;\"/><polygon fill=\"#383838\" points=\"142.34,422.4,143.5779,429.5041,150.6116,431.0937,149.3737,423.9897,142.34,422.4\" style=\"stroke: #383838; stroke-width: 1.0;\"/></a><!--MD5=[062ed86c389d1a88f61c6380d0491e17]\n",
       "reverse link E12 to E13--><a href=\"psysml:dc92139c-b950-485f-92a5-3d6f837d8293\" target=\"_top\" title=\"psysml:dc92139c-b950-485f-92a5-3d6f837d8293\" xlink:actuate=\"onRequest\" xlink:href=\"psysml:dc92139c-b950-485f-92a5-3d6f837d8293\" xlink:show=\"new\" xlink:title=\"psysml:dc92139c-b950-485f-92a5-3d6f837d8293\" xlink:type=\"simple\"><path d=\"M63.49,120.8 C70.17,142.92 78.6,170.89 84.36,189.99 \" fill=\"none\" id=\"E12&lt;-E13\" style=\"stroke: #383838; stroke-width: 1.0;\"/><polygon fill=\"#383838\" points=\"59.71,108.24,57.6129,115.1394,63.1751,119.7288,65.2722,112.8294,59.71,108.24\" style=\"stroke: #383838; stroke-width: 1.0;\"/></a><!--MD5=[017847e01ff9a8bd19f247411074f987]\n",
       "link E13 to E4--><a href=\"psysml:84833459-b0b4-497f-8a66-9d75104fb430\" target=\"_top\" title=\"psysml:84833459-b0b4-497f-8a66-9d75104fb430\" xlink:actuate=\"onRequest\" xlink:href=\"psysml:84833459-b0b4-497f-8a66-9d75104fb430\" xlink:show=\"new\" xlink:title=\"psysml:84833459-b0b4-497f-8a66-9d75104fb430\" xlink:type=\"simple\"><path d=\"M91,236.17 C91,251.17 91,271.91 91,292.44 \" fill=\"none\" id=\"E13-&gt;E4\" style=\"stroke: #383838; stroke-width: 1.0;\"/><polygon fill=\"#FFFFFF\" points=\"91,312.68,84,293.68,98,293.68,91,312.68\" style=\"stroke: #383838; stroke-width: 1.0;\"/><ellipse cx=\"86\" cy=\"287.98\" fill=\"#383838\" rx=\"2\" ry=\"2\" style=\"stroke: #383838; stroke-width: 1.0;\"/><ellipse cx=\"96\" cy=\"287.98\" fill=\"#383838\" rx=\"2\" ry=\"2\" style=\"stroke: #383838; stroke-width: 1.0;\"/></a><!--MD5=[2cfe899c895462254056921bfb67315f]\n",
       "link E13 to E11--><a href=\"psysml:ed40ce07-1501-496b-adae-3639fe39f1e8\" target=\"_top\" title=\"psysml:ed40ce07-1501-496b-adae-3639fe39f1e8\" xlink:actuate=\"onRequest\" xlink:href=\"psysml:ed40ce07-1501-496b-adae-3639fe39f1e8\" xlink:show=\"new\" xlink:title=\"psysml:ed40ce07-1501-496b-adae-3639fe39f1e8\" xlink:type=\"simple\"><path d=\"M108.36,236.29 C123.87,256.28 147.14,286.45 167,313 C173.57,321.78 180.66,331.44 186.97,340.12 \" fill=\"none\" id=\"E13-&gt;E11\" style=\"stroke: #383838; stroke-width: 1.0; stroke-dasharray: 7.0,7.0;\"/><polygon fill=\"#383838\" points=\"189.99,344.28,187.9274,334.6496,187.0474,340.2376,181.4594,339.3576,189.99,344.28\" style=\"stroke: #383838; stroke-width: 1.0;\"/><text fill=\"#000000\" font-family=\"sans-serif\" font-size=\"13\" lengthAdjust=\"spacingAndGlyphs\" textLength=\"57\" x=\"145\" y=\"279.0669\">«satisfy»</text></a><!--MD5=[ae8623df8e09f3fc0786010d17a90dc0]\n",
       "@startuml\r\n",
       " skinparam monochrome true\r\n",
       "skinparam classbackgroundcolor white\r\n",
       "skinparam shadowing false\r\n",
       "skinparam wrapWidth 300\r\n",
       "hide circle\r\n",
       "\r\n",
       "package \"RequirementTest\" as E1  [[psysml:32d2418d-b451-4172-b0c3-f203713ef4c8 ]]  {\r\n",
       "comp def \"C\" as E2  <<(T,blue)constraint def>> [[psysml:a1b28860-c9a8-4d37-931e-31ae0c14540e ]] {\r\n",
       "}\r\n",
       "comp usage \"c: C\" as E3  <<(T,blue)constraint>> [[psysml:4f6724e1-6261-429d-9c16-1831387bac9b ]] {\r\n",
       "}\r\n",
       "comp def \"R\" as E4  <<(T,blue)requirement def>> [[psysml:a2742730-9bdb-48ea-a333-70a51cef011c ]] {\r\n",
       "\r\n",
       "- -\r\n",
       "- - constraints - -\r\n",
       "<b>require</b> c\r\n",
       "<i>assume</i> c1: C\r\n",
       "}\r\n",
       "comp def \" [<b>1</b>] A\" as E5  <<(T,blue)requirement def>> [[psysml:56458fbc-ce11-45ea-8fa2-2092e0cfc05c ]] {\r\n",
       "Text\r\n",
       "- -\r\n",
       "}\r\n",
       "comp usage \"<s>noname</s>\" as E8  <<(T,blue)requirement>> [[psysml:72b41e7b-9298-4fd0-92ac-738cc777b35a ]] {\r\n",
       "}\r\n",
       "comp def \"R1\" as E9  <<(T,blue)requirement def>> [[psysml:ec52d3df-f8e8-4ac5-95c0-bf3447feb8a5 ]] {\r\n",
       "- - constraints - -\r\n",
       "<b>require</b> c1\\n//:>>RequirementTest::c// \r\n",
       "}\r\n",
       "comp usage \"p\" as E11  <<(T,blue)part>> [[psysml:b85d82e7-3bb2-4c49-b03c-5a9b3c771643 ]] {\r\n",
       "}\r\n",
       "comp usage \"q\" as E12  <<(T,blue)part>> [[psysml:f6ed6b0e-7205-4bca-ba49-af9a51c8942a ]] {\r\n",
       "}\r\n",
       "comp usage \"r: R\" as E13  <<(T,blue)requirement>> [[psysml:dc92139c-b950-485f-92a5-3d6f837d8293 ]] {\r\n",
       "}\r\n",
       "E3 - -:|> E2 [[psysml:9201001b-4e3f-46f0-8224-89e70f802e39 ]] \r\n",
       "E4 +- - E5 [[psysml:56458fbc-ce11-45ea-8fa2-2092e0cfc05c ]] \r\n",
       "E4 *- - E8 [[psysml:72b41e7b-9298-4fd0-92ac-738cc777b35a ]] \r\n",
       "E12 *- - E13 [[psysml:dc92139c-b950-485f-92a5-3d6f837d8293 ]] \r\n",
       "E13 - -:|> E4 [[psysml:84833459-b0b4-497f-8a66-9d75104fb430 ]] \r\n",
       "E13 ..> E11 [[psysml:ed40ce07-1501-496b-adae-3639fe39f1e8 ]] : <<satisfy>>\r\n",
       "}\r\n",
       "@enduml\r\n",
       "\n",
       "PlantUML version 1.2020.13(Sat Jun 13 12:26:38 UTC 2020)\n",
       "(EPL source distribution)\n",
       "Java Runtime: OpenJDK Runtime Environment\n",
       "JVM: OpenJDK 64-Bit Server VM\n",
       "Default Encoding: UTF-8\n",
       "Language: en\n",
       "Country: null\n",
       "--></g></svg>"
      ]
     },
     "execution_count": 3,
     "metadata": {},
     "output_type": "execute_result"
    }
   ],
   "source": [
    "%viz --style=\"COMPTREE\" --view=\"Tree\" \"RequirementTest\""
   ]
  },
  {
   "cell_type": "code",
   "execution_count": 4,
   "id": "sustainable-registrar",
   "metadata": {
    "execution": {
     "iopub.execute_input": "2021-03-26T13:01:06.234831Z",
     "iopub.status.busy": "2021-03-26T13:01:06.234291Z",
     "iopub.status.idle": "2021-03-26T13:01:06.241592Z",
     "shell.execute_reply": "2021-03-26T13:01:06.242037Z"
    }
   },
   "outputs": [
    {
     "data": {
      "image/svg+xml": [
       "<?xml version=\"1.0\" encoding=\"UTF-8\" standalone=\"no\"?><svg xmlns=\"http://www.w3.org/2000/svg\" xmlns:xlink=\"http://www.w3.org/1999/xlink\" contentScriptType=\"application/ecmascript\" contentStyleType=\"text/css\" height=\"12px\" preserveAspectRatio=\"none\" style=\"width:12px;height:12px;\" version=\"1.1\" viewBox=\"0 0 12 12\" width=\"12px\" zoomAndPan=\"magnify\"><defs/><g><!--MD5=[f19188ef49e11757b5c46753f95d9edc]\n",
       "@startuml\r\n",
       " skinparam monochrome true\r\n",
       "skinparam classbackgroundcolor white\r\n",
       "skinparam shadowing false\r\n",
       "skinparam wrapWidth 300\r\n",
       "hide circle\r\n",
       "\r\n",
       "@enduml\r\n",
       "\n",
       "PlantUML version 1.2020.13(Sat Jun 13 12:26:38 UTC 2020)\n",
       "(EPL source distribution)\n",
       "Java Runtime: OpenJDK Runtime Environment\n",
       "JVM: OpenJDK 64-Bit Server VM\n",
       "Default Encoding: UTF-8\n",
       "Language: en\n",
       "Country: null\n",
       "--></g></svg>"
      ]
     },
     "execution_count": 4,
     "metadata": {},
     "output_type": "execute_result"
    }
   ],
   "source": [
    "%viz --style=\"COMPTREE\" --view=\"State\" \"RequirementTest\""
   ]
  },
  {
   "cell_type": "code",
   "execution_count": 5,
   "id": "precious-organic",
   "metadata": {
    "execution": {
     "iopub.execute_input": "2021-03-26T13:01:06.294915Z",
     "iopub.status.busy": "2021-03-26T13:01:06.294393Z",
     "iopub.status.idle": "2021-03-26T13:01:06.346376Z",
     "shell.execute_reply": "2021-03-26T13:01:06.344667Z"
    }
   },
   "outputs": [
    {
     "data": {
      "image/svg+xml": [
       "<?xml version=\"1.0\" encoding=\"UTF-8\" standalone=\"no\"?><svg xmlns=\"http://www.w3.org/2000/svg\" xmlns:xlink=\"http://www.w3.org/1999/xlink\" contentScriptType=\"application/ecmascript\" contentStyleType=\"text/css\" height=\"367px\" preserveAspectRatio=\"none\" style=\"width:852px;height:367px;\" version=\"1.1\" viewBox=\"0 0 852 367\" width=\"852px\" zoomAndPan=\"magnify\"><defs/><g><!--MD5=[fbc87193dbaf4d95561dea2c320d4a47]\n",
       "cluster E1--><a href=\"psysml:32d2418d-b451-4172-b0c3-f203713ef4c8\" target=\"_top\" title=\"psysml:32d2418d-b451-4172-b0c3-f203713ef4c8\" xlink:actuate=\"onRequest\" xlink:href=\"psysml:32d2418d-b451-4172-b0c3-f203713ef4c8\" xlink:show=\"new\" xlink:title=\"psysml:32d2418d-b451-4172-b0c3-f203713ef4c8\" xlink:type=\"simple\"><polygon fill=\"#FFFFFF\" points=\"16,6,158,6,165,28.2969,830,28.2969,830,355,16,355,16,6\" style=\"stroke: #000000; stroke-width: 1.5;\"/><line style=\"stroke: #000000; stroke-width: 1.5;\" x1=\"16\" x2=\"165\" y1=\"28.2969\" y2=\"28.2969\"/><text fill=\"#000000\" font-family=\"sans-serif\" font-size=\"14\" font-weight=\"bold\" lengthAdjust=\"spacingAndGlyphs\" textLength=\"136\" x=\"20\" y=\"20.9951\">RequirementTest</text></a><!--MD5=[168fadf3d0c3fd93dd5d6da1b1d7ab76]\n",
       "cluster E7--><a href=\"psysml:f6ed6b0e-7205-4bca-ba49-af9a51c8942a\" target=\"_top\" title=\"psysml:f6ed6b0e-7205-4bca-ba49-af9a51c8942a\" xlink:actuate=\"onRequest\" xlink:href=\"psysml:f6ed6b0e-7205-4bca-ba49-af9a51c8942a\" xlink:show=\"new\" xlink:title=\"psysml:f6ed6b0e-7205-4bca-ba49-af9a51c8942a\" xlink:type=\"simple\"><rect fill=\"#FFFFFF\" height=\"209\" id=\"E7\" rx=\"10\" ry=\"10\" style=\"stroke: #383838; stroke-width: 1.5;\" width=\"213\" x=\"593\" y=\"49\"/><rect fill=\"#F8F8F8\" height=\"23.9688\" rx=\"10\" ry=\"10\" style=\"stroke: #F8F8F8; stroke-width: 1.5;\" width=\"213\" x=\"593\" y=\"49\"/><rect fill=\"#F8F8F8\" height=\"10\" style=\"stroke: #F8F8F8; stroke-width: 1.5;\" width=\"213\" x=\"593\" y=\"62.9688\"/><rect fill=\"none\" height=\"209\" id=\"E7\" rx=\"10\" ry=\"10\" style=\"stroke: #383838; stroke-width: 1.5;\" width=\"213\" x=\"593\" y=\"49\"/><text fill=\"#000000\" font-family=\"sans-serif\" font-size=\"12\" lengthAdjust=\"spacingAndGlyphs\" textLength=\"8\" x=\"695.5\" y=\"65.1387\">q</text><line style=\"stroke: #383838; stroke-width: 1.0;\" x1=\"593\" x2=\"806\" y1=\"72.9688\" y2=\"72.9688\"/></a><!--MD5=[55dfccfc6c49c2d10cd1bd2211a6c90c]\n",
       "cluster E8--><a href=\"psysml:dc92139c-b950-485f-92a5-3d6f837d8293\" target=\"_top\" title=\"psysml:dc92139c-b950-485f-92a5-3d6f837d8293\" xlink:actuate=\"onRequest\" xlink:href=\"psysml:dc92139c-b950-485f-92a5-3d6f837d8293\" xlink:show=\"new\" xlink:title=\"psysml:dc92139c-b950-485f-92a5-3d6f837d8293\" xlink:type=\"simple\"><rect fill=\"#FFFFFF\" height=\"126\" id=\"E8\" rx=\"10\" ry=\"10\" style=\"stroke: #383838; stroke-width: 1.5;\" width=\"149\" x=\"625\" y=\"100\"/><rect fill=\"#F8F8F8\" height=\"37.9375\" rx=\"10\" ry=\"10\" style=\"stroke: #F8F8F8; stroke-width: 1.5;\" width=\"149\" x=\"625\" y=\"100\"/><rect fill=\"#F8F8F8\" height=\"10\" style=\"stroke: #F8F8F8; stroke-width: 1.5;\" width=\"149\" x=\"625\" y=\"127.9375\"/><rect fill=\"none\" height=\"126\" id=\"E8\" rx=\"10\" ry=\"10\" style=\"stroke: #383838; stroke-width: 1.5;\" width=\"149\" x=\"625\" y=\"100\"/><text fill=\"#000000\" font-family=\"sans-serif\" font-size=\"12\" font-style=\"italic\" lengthAdjust=\"spacingAndGlyphs\" textLength=\"91\" x=\"654\" y=\"116.1387\">«requirement»</text><text fill=\"#000000\" font-family=\"sans-serif\" font-size=\"12\" lengthAdjust=\"spacingAndGlyphs\" textLength=\"21\" x=\"689\" y=\"130.1074\">r: R</text><line style=\"stroke: #383838; stroke-width: 1.0;\" x1=\"625\" x2=\"774\" y1=\"137.9375\" y2=\"137.9375\"/></a><g id=\"E1.E2\"><a href=\"psysml:a1b28860-c9a8-4d37-931e-31ae0c14540e\" target=\"_top\" title=\"psysml:a1b28860-c9a8-4d37-931e-31ae0c14540e\" xlink:actuate=\"onRequest\" xlink:href=\"psysml:a1b28860-c9a8-4d37-931e-31ae0c14540e\" xlink:show=\"new\" xlink:title=\"psysml:a1b28860-c9a8-4d37-931e-31ae0c14540e\" xlink:type=\"simple\"><rect fill=\"#FFFFFF\" height=\"42.9375\" id=\"E2\" style=\"stroke: #383838; stroke-width: 1.5;\" width=\"109\" x=\"467.5\" y=\"159\"/><rect fill=\"#F8F8F8\" height=\"37.9375\" style=\"stroke: #383838; stroke-width: 1.5;\" width=\"109\" x=\"467.5\" y=\"159\"/><text fill=\"#000000\" font-family=\"sans-serif\" font-size=\"12\" font-style=\"italic\" lengthAdjust=\"spacingAndGlyphs\" textLength=\"102\" x=\"471\" y=\"175.1387\">«constraint def»</text><text fill=\"#000000\" font-family=\"sans-serif\" font-size=\"12\" lengthAdjust=\"spacingAndGlyphs\" textLength=\"8\" x=\"518\" y=\"189.1074\">C</text></a></g><g id=\"E1.E4\"><a href=\"psysml:a2742730-9bdb-48ea-a333-70a51cef011c\" target=\"_top\" title=\"psysml:a2742730-9bdb-48ea-a333-70a51cef011c\" xlink:actuate=\"onRequest\" xlink:href=\"psysml:a2742730-9bdb-48ea-a333-70a51cef011c\" xlink:show=\"new\" xlink:title=\"psysml:a2742730-9bdb-48ea-a333-70a51cef011c\" xlink:type=\"simple\"><rect fill=\"#FFFFFF\" height=\"42.9375\" id=\"E4\" style=\"stroke: #383838; stroke-width: 1.5;\" width=\"122\" x=\"310\" y=\"159\"/><rect fill=\"#F8F8F8\" height=\"37.9375\" style=\"stroke: #383838; stroke-width: 1.5;\" width=\"122\" x=\"310\" y=\"159\"/><text fill=\"#000000\" font-family=\"sans-serif\" font-size=\"12\" font-style=\"italic\" lengthAdjust=\"spacingAndGlyphs\" textLength=\"115\" x=\"313.5\" y=\"175.1387\">«requirement def»</text><text fill=\"#000000\" font-family=\"sans-serif\" font-size=\"12\" lengthAdjust=\"spacingAndGlyphs\" textLength=\"8\" x=\"367\" y=\"189.1074\">R</text></a></g><g id=\"E1.E5\"><a href=\"psysml:ec52d3df-f8e8-4ac5-95c0-bf3447feb8a5\" target=\"_top\" title=\"psysml:ec52d3df-f8e8-4ac5-95c0-bf3447feb8a5\" xlink:actuate=\"onRequest\" xlink:href=\"psysml:ec52d3df-f8e8-4ac5-95c0-bf3447feb8a5\" xlink:show=\"new\" xlink:title=\"psysml:ec52d3df-f8e8-4ac5-95c0-bf3447feb8a5\" xlink:type=\"simple\"><rect fill=\"#FFFFFF\" height=\"42.9375\" id=\"E5\" style=\"stroke: #383838; stroke-width: 1.5;\" width=\"122\" x=\"153\" y=\"159\"/><rect fill=\"#F8F8F8\" height=\"37.9375\" style=\"stroke: #383838; stroke-width: 1.5;\" width=\"122\" x=\"153\" y=\"159\"/><text fill=\"#000000\" font-family=\"sans-serif\" font-size=\"12\" font-style=\"italic\" lengthAdjust=\"spacingAndGlyphs\" textLength=\"115\" x=\"156.5\" y=\"175.1387\">«requirement def»</text><text fill=\"#000000\" font-family=\"sans-serif\" font-size=\"12\" lengthAdjust=\"spacingAndGlyphs\" textLength=\"16\" x=\"206\" y=\"189.1074\">R1</text></a></g><g id=\"E1.E3\"><a href=\"psysml:4f6724e1-6261-429d-9c16-1831387bac9b\" target=\"_top\" title=\"psysml:4f6724e1-6261-429d-9c16-1831387bac9b\" xlink:actuate=\"onRequest\" xlink:href=\"psysml:4f6724e1-6261-429d-9c16-1831387bac9b\" xlink:show=\"new\" xlink:title=\"psysml:4f6724e1-6261-429d-9c16-1831387bac9b\" xlink:type=\"simple\"><rect fill=\"#FFFFFF\" height=\"42.9375\" id=\"E3\" rx=\"10\" ry=\"10\" style=\"stroke: #383838; stroke-width: 1.5;\" width=\"85\" x=\"32.5\" y=\"159\"/><rect fill=\"#F8F8F8\" height=\"37.9375\" rx=\"10\" ry=\"10\" style=\"stroke: #F8F8F8; stroke-width: 1.5;\" width=\"85\" x=\"32.5\" y=\"159\"/><rect fill=\"#F8F8F8\" height=\"10\" style=\"stroke: #F8F8F8; stroke-width: 1.5;\" width=\"85\" x=\"32.5\" y=\"186.9375\"/><rect fill=\"none\" height=\"42.9375\" id=\"E3\" rx=\"10\" ry=\"10\" style=\"stroke: #383838; stroke-width: 1.5;\" width=\"85\" x=\"32.5\" y=\"159\"/><text fill=\"#000000\" font-family=\"sans-serif\" font-size=\"12\" font-style=\"italic\" lengthAdjust=\"spacingAndGlyphs\" textLength=\"78\" x=\"36\" y=\"175.1387\">«constraint»</text><text fill=\"#000000\" font-family=\"sans-serif\" font-size=\"12\" lengthAdjust=\"spacingAndGlyphs\" textLength=\"23\" x=\"63.5\" y=\"189.1074\">c: C</text></a></g><g id=\"E1.E6\"><a href=\"psysml:b85d82e7-3bb2-4c49-b03c-5a9b3c771643\" target=\"_top\" title=\"psysml:b85d82e7-3bb2-4c49-b03c-5a9b3c771643\" xlink:actuate=\"onRequest\" xlink:href=\"psysml:b85d82e7-3bb2-4c49-b03c-5a9b3c771643\" xlink:show=\"new\" xlink:title=\"psysml:b85d82e7-3bb2-4c49-b03c-5a9b3c771643\" xlink:type=\"simple\"><rect fill=\"#FFFFFF\" height=\"40\" id=\"E6\" rx=\"10\" ry=\"10\" style=\"stroke: #383838; stroke-width: 1.5;\" width=\"50\" x=\"608\" y=\"299\"/><rect fill=\"#F8F8F8\" height=\"23.9688\" rx=\"10\" ry=\"10\" style=\"stroke: #F8F8F8; stroke-width: 1.5;\" width=\"50\" x=\"608\" y=\"299\"/><rect fill=\"#F8F8F8\" height=\"10\" style=\"stroke: #F8F8F8; stroke-width: 1.5;\" width=\"50\" x=\"608\" y=\"312.9688\"/><rect fill=\"none\" height=\"40\" id=\"E6\" rx=\"10\" ry=\"10\" style=\"stroke: #383838; stroke-width: 1.5;\" width=\"50\" x=\"608\" y=\"299\"/><text fill=\"#000000\" font-family=\"sans-serif\" font-size=\"12\" lengthAdjust=\"spacingAndGlyphs\" textLength=\"8\" x=\"629\" y=\"315.1387\">p</text></a></g><g id=\"E1.E7.E8.E9\"><a href=\"psysml:aab203df-2e20-42f3-8553-8efa379fea2d\" target=\"_top\" title=\"psysml:aab203df-2e20-42f3-8553-8efa379fea2d\" xlink:actuate=\"onRequest\" xlink:href=\"psysml:aab203df-2e20-42f3-8553-8efa379fea2d\" xlink:show=\"new\" xlink:title=\"psysml:aab203df-2e20-42f3-8553-8efa379fea2d\" xlink:type=\"simple\"><rect fill=\"#FFFFFF\" height=\"42.9375\" id=\"E9\" rx=\"10\" ry=\"10\" style=\"stroke: #383838; stroke-width: 1.5;\" width=\"82\" x=\"668\" y=\"159\"/><rect fill=\"#F8F8F8\" height=\"37.9375\" rx=\"10\" ry=\"10\" style=\"stroke: #F8F8F8; stroke-width: 1.5;\" width=\"82\" x=\"668\" y=\"159\"/><rect fill=\"#F8F8F8\" height=\"10\" style=\"stroke: #F8F8F8; stroke-width: 1.5;\" width=\"82\" x=\"668\" y=\"186.9375\"/><rect fill=\"none\" height=\"42.9375\" id=\"E9\" rx=\"10\" ry=\"10\" style=\"stroke: #383838; stroke-width: 1.5;\" width=\"82\" x=\"668\" y=\"159\"/><text fill=\"#000000\" font-family=\"sans-serif\" font-size=\"12\" font-style=\"italic\" lengthAdjust=\"spacingAndGlyphs\" textLength=\"75\" x=\"671.5\" y=\"175.1387\">«reference»</text><text fill=\"#000000\" font-family=\"sans-serif\" font-size=\"12\" lengthAdjust=\"spacingAndGlyphs\" textLength=\"26\" x=\"696\" y=\"189.1074\">subj</text></a></g><!--MD5=[c5e8897d989ce984f93528998a7150fe]\n",
       "link E8 to E6--><a href=\"psysml:ed40ce07-1501-496b-adae-3639fe39f1e8\" target=\"_top\" title=\"psysml:ed40ce07-1501-496b-adae-3639fe39f1e8\" xlink:actuate=\"onRequest\" xlink:href=\"psysml:ed40ce07-1501-496b-adae-3639fe39f1e8\" xlink:show=\"new\" xlink:title=\"psysml:ed40ce07-1501-496b-adae-3639fe39f1e8\" xlink:type=\"simple\"><path d=\"M633,226.4501 C633,227.1713 633,227.8965 633,228.6252 C633,230.0826 633,231.5543 633,233.0372 C633,236.003 633,239.0136 633,242.0448 C633,248.1072 633,254.2518 633,260.2839 C633,272.3481 633,283.9625 633,293.57 \" fill=\"none\" id=\"E8-&gt;E6\" style=\"stroke: #383838; stroke-width: 1.0; stroke-dasharray: 7.0,7.0;\"/><polygon fill=\"#383838\" points=\"633,298.99,637,289.99,633,293.99,629,289.99,633,298.99\" style=\"stroke: #383838; stroke-width: 1.0;\"/><text fill=\"#000000\" font-family=\"sans-serif\" font-size=\"13\" lengthAdjust=\"spacingAndGlyphs\" textLength=\"57\" x=\"634\" y=\"287.0669\">«satisfy»</text></a><!--MD5=[15b5c9805742e4db222e140dfb4b51ad]\n",
       "@startuml\r\n",
       "skinparam ranksep 8\r\n",
       "skinparam rectangle {\r\n",
       " backgroundColor<<block>> LightGreen\r\n",
       "}\r\n",
       " skinparam monochrome true\r\n",
       "skinparam classbackgroundcolor white\r\n",
       "skinparam shadowing false\r\n",
       "skinparam wrapWidth 300\r\n",
       "hide circle\r\n",
       "\r\n",
       "package \"RequirementTest\" as E1  [[psysml:32d2418d-b451-4172-b0c3-f203713ef4c8 ]]  {\r\n",
       "def \"C\" as E2  <<(T,blue)constraint def>> [[psysml:a1b28860-c9a8-4d37-931e-31ae0c14540e ]] \r\n",
       "rec usage \"c: C\" as E3  <<(T,blue)constraint>> [[psysml:4f6724e1-6261-429d-9c16-1831387bac9b ]] {\r\n",
       "}\r\n",
       "def \"R\" as E4  <<(T,blue)requirement def>> [[psysml:a2742730-9bdb-48ea-a333-70a51cef011c ]] \r\n",
       "def \"R1\" as E5  <<(T,blue)requirement def>> [[psysml:ec52d3df-f8e8-4ac5-95c0-bf3447feb8a5 ]] \r\n",
       "rec usage \"p\" as E6  [[psysml:b85d82e7-3bb2-4c49-b03c-5a9b3c771643 ]] {\r\n",
       "}\r\n",
       "rec usage \"q\" as E7  [[psysml:f6ed6b0e-7205-4bca-ba49-af9a51c8942a ]] {\r\n",
       "rec usage \"r: R\" as E8  <<(T,blue)requirement>> [[psysml:dc92139c-b950-485f-92a5-3d6f837d8293 ]] {\r\n",
       "rec usage \"subj\" as E9  <<(T,blue)reference>> [[psysml:aab203df-2e20-42f3-8553-8efa379fea2d ]] {\r\n",
       "}\r\n",
       "}\r\n",
       "}\r\n",
       "E8 ..> E6 [[psysml:ed40ce07-1501-496b-adae-3639fe39f1e8 ]] : <<satisfy>>\r\n",
       "}\r\n",
       "@enduml\r\n",
       "\n",
       "PlantUML version 1.2020.13(Sat Jun 13 12:26:38 UTC 2020)\n",
       "(EPL source distribution)\n",
       "Java Runtime: OpenJDK Runtime Environment\n",
       "JVM: OpenJDK 64-Bit Server VM\n",
       "Default Encoding: UTF-8\n",
       "Language: en\n",
       "Country: null\n",
       "--></g></svg>"
      ]
     },
     "execution_count": 5,
     "metadata": {},
     "output_type": "execute_result"
    }
   ],
   "source": [
    "%viz --style=\"COMPTREE\" --view=\"Interconnection\" \"RequirementTest\""
   ]
  },
  {
   "cell_type": "code",
   "execution_count": 6,
   "id": "fluid-setting",
   "metadata": {
    "execution": {
     "iopub.execute_input": "2021-03-26T13:01:06.396774Z",
     "iopub.status.busy": "2021-03-26T13:01:06.396406Z",
     "iopub.status.idle": "2021-03-26T13:01:06.403005Z",
     "shell.execute_reply": "2021-03-26T13:01:06.402628Z"
    }
   },
   "outputs": [
    {
     "data": {
      "image/svg+xml": [
       "<?xml version=\"1.0\" encoding=\"UTF-8\" standalone=\"no\"?><svg xmlns=\"http://www.w3.org/2000/svg\" xmlns:xlink=\"http://www.w3.org/1999/xlink\" contentScriptType=\"application/ecmascript\" contentStyleType=\"text/css\" height=\"12px\" preserveAspectRatio=\"none\" style=\"width:12px;height:12px;\" version=\"1.1\" viewBox=\"0 0 12 12\" width=\"12px\" zoomAndPan=\"magnify\"><defs/><g><!--MD5=[655b888544ca4751ea36af1068543f84]\n",
       "@startuml\r\n",
       "skinparam ranksep 8\r\n",
       " skinparam monochrome true\r\n",
       "skinparam classbackgroundcolor white\r\n",
       "skinparam shadowing false\r\n",
       "skinparam wrapWidth 300\r\n",
       "hide circle\r\n",
       "\r\n",
       "@enduml\r\n",
       "\n",
       "PlantUML version 1.2020.13(Sat Jun 13 12:26:38 UTC 2020)\n",
       "(EPL source distribution)\n",
       "Java Runtime: OpenJDK Runtime Environment\n",
       "JVM: OpenJDK 64-Bit Server VM\n",
       "Default Encoding: UTF-8\n",
       "Language: en\n",
       "Country: null\n",
       "--></g></svg>"
      ]
     },
     "execution_count": 6,
     "metadata": {},
     "output_type": "execute_result"
    }
   ],
   "source": [
    "%viz --style=\"COMPTREE\" --view=\"Action\" \"RequirementTest\""
   ]
  },
  {
   "cell_type": "code",
   "execution_count": 7,
   "id": "boolean-antigua",
   "metadata": {
    "execution": {
     "iopub.execute_input": "2021-03-26T13:01:06.455389Z",
     "iopub.status.busy": "2021-03-26T13:01:06.454843Z",
     "iopub.status.idle": "2021-03-26T13:01:06.576665Z",
     "shell.execute_reply": "2021-03-26T13:01:06.575232Z"
    }
   },
   "outputs": [
    {
     "data": {
      "image/svg+xml": [
       "<?xml version=\"1.0\" encoding=\"UTF-8\" standalone=\"no\"?><svg xmlns=\"http://www.w3.org/2000/svg\" xmlns:xlink=\"http://www.w3.org/1999/xlink\" contentScriptType=\"application/ecmascript\" contentStyleType=\"text/css\" height=\"578px\" preserveAspectRatio=\"none\" style=\"width:408px;height:578px;\" version=\"1.1\" viewBox=\"0 0 408 578\" width=\"408px\" zoomAndPan=\"magnify\"><defs/><g><!--MD5=[fbc87193dbaf4d95561dea2c320d4a47]\n",
       "cluster E1--><a href=\"psysml:32d2418d-b451-4172-b0c3-f203713ef4c8\" target=\"_top\" title=\"psysml:32d2418d-b451-4172-b0c3-f203713ef4c8\" xlink:actuate=\"onRequest\" xlink:href=\"psysml:32d2418d-b451-4172-b0c3-f203713ef4c8\" xlink:show=\"new\" xlink:title=\"psysml:32d2418d-b451-4172-b0c3-f203713ef4c8\" xlink:type=\"simple\"><polygon fill=\"#FFFFFF\" points=\"16,6,158,6,165,28.2969,386,28.2969,386,566,16,566,16,6\" style=\"stroke: #000000; stroke-width: 1.5;\"/><line style=\"stroke: #000000; stroke-width: 1.5;\" x1=\"16\" x2=\"165\" y1=\"28.2969\" y2=\"28.2969\"/><text fill=\"#000000\" font-family=\"sans-serif\" font-size=\"14\" font-weight=\"bold\" lengthAdjust=\"spacingAndGlyphs\" textLength=\"136\" x=\"20\" y=\"20.9951\">RequirementTest</text></a><!--MD5=[b4997ac47864f28c2f74865a473b2911]\n",
       "class E2--><a href=\"psysml:a1b28860-c9a8-4d37-931e-31ae0c14540e\" target=\"_top\" title=\"psysml:a1b28860-c9a8-4d37-931e-31ae0c14540e\" xlink:actuate=\"onRequest\" xlink:href=\"psysml:a1b28860-c9a8-4d37-931e-31ae0c14540e\" xlink:show=\"new\" xlink:title=\"psysml:a1b28860-c9a8-4d37-931e-31ae0c14540e\" xlink:type=\"simple\"><rect fill=\"#FFFFFF\" height=\"45.9375\" id=\"E2\" style=\"stroke: #383838; stroke-width: 1.5;\" width=\"104\" x=\"266\" y=\"190\"/><text fill=\"#000000\" font-family=\"sans-serif\" font-size=\"12\" font-style=\"italic\" lengthAdjust=\"spacingAndGlyphs\" textLength=\"102\" x=\"267\" y=\"206.1387\">«constraint def»</text><text fill=\"#000000\" font-family=\"sans-serif\" font-size=\"12\" lengthAdjust=\"spacingAndGlyphs\" textLength=\"8\" x=\"314\" y=\"220.1074\">C</text><line style=\"stroke: #383838; stroke-width: 1.5;\" x1=\"267\" x2=\"369\" y1=\"227.9375\" y2=\"227.9375\"/></a><!--MD5=[09b614a08d8cba4a07c9adeb5e0fee81]\n",
       "class E3--><a href=\"psysml:4f6724e1-6261-429d-9c16-1831387bac9b\" target=\"_top\" title=\"psysml:4f6724e1-6261-429d-9c16-1831387bac9b\" xlink:actuate=\"onRequest\" xlink:href=\"psysml:4f6724e1-6261-429d-9c16-1831387bac9b\" xlink:show=\"new\" xlink:title=\"psysml:4f6724e1-6261-429d-9c16-1831387bac9b\" xlink:type=\"simple\"><rect fill=\"#FFFFFF\" height=\"45.9375\" id=\"E3\" rx=\"10\" ry=\"10\" style=\"stroke: #383838; stroke-width: 1.5;\" width=\"80\" x=\"290\" y=\"62\"/><text fill=\"#000000\" font-family=\"sans-serif\" font-size=\"12\" font-style=\"italic\" lengthAdjust=\"spacingAndGlyphs\" textLength=\"78\" x=\"291\" y=\"78.1387\">«constraint»</text><text fill=\"#000000\" font-family=\"sans-serif\" font-size=\"12\" lengthAdjust=\"spacingAndGlyphs\" textLength=\"23\" x=\"318.5\" y=\"92.1074\">c: C</text><line style=\"stroke: #383838; stroke-width: 1.5;\" x1=\"291\" x2=\"369\" y1=\"99.9375\" y2=\"99.9375\"/></a><!--MD5=[ebbe1d658d1005bcc118a6aa81145e00]\n",
       "class E4--><a href=\"psysml:a2742730-9bdb-48ea-a333-70a51cef011c\" target=\"_top\" title=\"psysml:a2742730-9bdb-48ea-a333-70a51cef011c\" xlink:actuate=\"onRequest\" xlink:href=\"psysml:a2742730-9bdb-48ea-a333-70a51cef011c\" xlink:show=\"new\" xlink:title=\"psysml:a2742730-9bdb-48ea-a333-70a51cef011c\" xlink:type=\"simple\"><rect fill=\"#FFFFFF\" height=\"109.1563\" id=\"E4\" style=\"stroke: #383838; stroke-width: 1.5;\" width=\"117\" x=\"32.5\" y=\"313\"/><text fill=\"#000000\" font-family=\"sans-serif\" font-size=\"12\" font-style=\"italic\" lengthAdjust=\"spacingAndGlyphs\" textLength=\"115\" x=\"33.5\" y=\"329.1387\">«requirement def»</text><text fill=\"#000000\" font-family=\"sans-serif\" font-size=\"12\" lengthAdjust=\"spacingAndGlyphs\" textLength=\"8\" x=\"87\" y=\"343.1074\">R</text><line style=\"stroke: #383838; stroke-width: 1.5;\" x1=\"33.5\" x2=\"148.5\" y1=\"350.9375\" y2=\"350.9375\"/><text fill=\"#000000\" font-family=\"sans-serif\" font-size=\"11\" lengthAdjust=\"spacingAndGlyphs\" textLength=\"0\" x=\"42.5\" y=\"365.1479\"/><line style=\"stroke: #383838; stroke-width: 1.0;\" x1=\"33.5\" x2=\"148.5\" y1=\"371.7422\" y2=\"371.7422\"/><text fill=\"#000000\" font-family=\"sans-serif\" font-size=\"11\" font-weight=\"bold\" lengthAdjust=\"spacingAndGlyphs\" textLength=\"46\" x=\"38.5\" y=\"402.7573\">require</text><text fill=\"#000000\" font-family=\"sans-serif\" font-size=\"11\" lengthAdjust=\"spacingAndGlyphs\" textLength=\"6\" x=\"88.5\" y=\"402.7573\">c</text><text fill=\"#000000\" font-family=\"sans-serif\" font-size=\"11\" font-style=\"italic\" lengthAdjust=\"spacingAndGlyphs\" textLength=\"46\" x=\"38.5\" y=\"415.562\">assume</text><text fill=\"#000000\" font-family=\"sans-serif\" font-size=\"11\" lengthAdjust=\"spacingAndGlyphs\" textLength=\"29\" x=\"88.5\" y=\"415.562\">c1: C</text><line style=\"stroke: #383838; stroke-width: 1.0;\" x1=\"33.5\" x2=\"59\" y1=\"386.1445\" y2=\"386.1445\"/><text fill=\"#000000\" font-family=\"sans-serif\" font-size=\"11\" lengthAdjust=\"spacingAndGlyphs\" textLength=\"64\" x=\"59\" y=\"389.4526\">constraints</text><line style=\"stroke: #383838; stroke-width: 1.0;\" x1=\"123\" x2=\"148.5\" y1=\"386.1445\" y2=\"386.1445\"/></a><!--MD5=[270fce915f116d4de14055a7c1d9a0f3]\n",
       "class E5--><a href=\"psysml:56458fbc-ce11-45ea-8fa2-2092e0cfc05c\" target=\"_top\" title=\"psysml:56458fbc-ce11-45ea-8fa2-2092e0cfc05c\" xlink:actuate=\"onRequest\" xlink:href=\"psysml:56458fbc-ce11-45ea-8fa2-2092e0cfc05c\" xlink:show=\"new\" xlink:title=\"psysml:56458fbc-ce11-45ea-8fa2-2092e0cfc05c\" xlink:type=\"simple\"><rect fill=\"#FFFFFF\" height=\"66.7422\" id=\"E5\" style=\"stroke: #383838; stroke-width: 1.5;\" width=\"117\" x=\"32.5\" y=\"483\"/><text fill=\"#000000\" font-family=\"sans-serif\" font-size=\"12\" font-style=\"italic\" lengthAdjust=\"spacingAndGlyphs\" textLength=\"115\" x=\"33.5\" y=\"499.1387\">«requirement def»</text><text fill=\"#000000\" font-family=\"sans-serif\" font-size=\"12\" lengthAdjust=\"spacingAndGlyphs\" textLength=\"5\" x=\"78\" y=\"513.1074\">[</text><text fill=\"#000000\" font-family=\"sans-serif\" font-size=\"12\" font-weight=\"bold\" lengthAdjust=\"spacingAndGlyphs\" textLength=\"8\" x=\"83\" y=\"513.1074\">1</text><text fill=\"#000000\" font-family=\"sans-serif\" font-size=\"12\" lengthAdjust=\"spacingAndGlyphs\" textLength=\"17\" x=\"91\" y=\"513.1074\">] A</text><line style=\"stroke: #383838; stroke-width: 1.5;\" x1=\"33.5\" x2=\"148.5\" y1=\"520.9375\" y2=\"520.9375\"/><text fill=\"#000000\" font-family=\"sans-serif\" font-size=\"11\" lengthAdjust=\"spacingAndGlyphs\" textLength=\"24\" x=\"38.5\" y=\"535.1479\">Text</text><line style=\"stroke: #383838; stroke-width: 1.0;\" x1=\"33.5\" x2=\"148.5\" y1=\"541.7422\" y2=\"541.7422\"/></a><!--MD5=[b9389687b975829384b498ac4b7476b2]\n",
       "class E8--><a href=\"psysml:72b41e7b-9298-4fd0-92ac-738cc777b35a\" target=\"_top\" title=\"psysml:72b41e7b-9298-4fd0-92ac-738cc777b35a\" xlink:actuate=\"onRequest\" xlink:href=\"psysml:72b41e7b-9298-4fd0-92ac-738cc777b35a\" xlink:show=\"new\" xlink:title=\"psysml:72b41e7b-9298-4fd0-92ac-738cc777b35a\" xlink:type=\"simple\"><rect fill=\"#FFFFFF\" height=\"45.9375\" id=\"E8\" rx=\"10\" ry=\"10\" style=\"stroke: #383838; stroke-width: 1.5;\" width=\"93\" x=\"184.5\" y=\"493.5\"/><text fill=\"#000000\" font-family=\"sans-serif\" font-size=\"12\" font-style=\"italic\" lengthAdjust=\"spacingAndGlyphs\" textLength=\"91\" x=\"185.5\" y=\"509.6387\">«requirement»</text><text fill=\"#000000\" font-family=\"sans-serif\" font-size=\"12\" lengthAdjust=\"spacingAndGlyphs\" text-decoration=\"line-through\" textLength=\"51\" x=\"205.5\" y=\"523.6074\">noname</text><line style=\"stroke: #383838; stroke-width: 1.5;\" x1=\"185.5\" x2=\"276.5\" y1=\"531.4375\" y2=\"531.4375\"/></a><!--MD5=[fd4143e9d270a159db93a4ea2a975926]\n",
       "class E9--><a href=\"psysml:ec52d3df-f8e8-4ac5-95c0-bf3447feb8a5\" target=\"_top\" title=\"psysml:ec52d3df-f8e8-4ac5-95c0-bf3447feb8a5\" xlink:actuate=\"onRequest\" xlink:href=\"psysml:ec52d3df-f8e8-4ac5-95c0-bf3447feb8a5\" xlink:show=\"new\" xlink:title=\"psysml:ec52d3df-f8e8-4ac5-95c0-bf3447feb8a5\" xlink:type=\"simple\"><rect fill=\"#FFFFFF\" height=\"88.3516\" id=\"E9\" style=\"stroke: #383838; stroke-width: 1.5;\" width=\"145\" x=\"109.5\" y=\"41\"/><text fill=\"#000000\" font-family=\"sans-serif\" font-size=\"12\" font-style=\"italic\" lengthAdjust=\"spacingAndGlyphs\" textLength=\"115\" x=\"124.5\" y=\"57.1387\">«requirement def»</text><text fill=\"#000000\" font-family=\"sans-serif\" font-size=\"12\" lengthAdjust=\"spacingAndGlyphs\" textLength=\"16\" x=\"174\" y=\"71.1074\">R1</text><line style=\"stroke: #383838; stroke-width: 1.5;\" x1=\"110.5\" x2=\"253.5\" y1=\"78.9375\" y2=\"78.9375\"/><text fill=\"#000000\" font-family=\"sans-serif\" font-size=\"11\" font-weight=\"bold\" lengthAdjust=\"spacingAndGlyphs\" textLength=\"46\" x=\"115.5\" y=\"109.9526\">require</text><text fill=\"#000000\" font-family=\"sans-serif\" font-size=\"11\" lengthAdjust=\"spacingAndGlyphs\" textLength=\"13\" x=\"165.5\" y=\"109.9526\">c1</text><text fill=\"#000000\" font-family=\"sans-serif\" font-size=\"11\" font-style=\"italic\" lengthAdjust=\"spacingAndGlyphs\" textLength=\"133\" x=\"115.5\" y=\"122.7573\">:&gt;&gt;RequirementTest::c</text><line style=\"stroke: #383838; stroke-width: 1.0;\" x1=\"110.5\" x2=\"150\" y1=\"93.3398\" y2=\"93.3398\"/><text fill=\"#000000\" font-family=\"sans-serif\" font-size=\"11\" lengthAdjust=\"spacingAndGlyphs\" textLength=\"64\" x=\"150\" y=\"96.6479\">constraints</text><line style=\"stroke: #383838; stroke-width: 1.0;\" x1=\"214\" x2=\"253.5\" y1=\"93.3398\" y2=\"93.3398\"/></a><!--MD5=[1dd1bfd58a279cf63c5f349dbc8fc6a1]\n",
       "class E11--><a href=\"psysml:b85d82e7-3bb2-4c49-b03c-5a9b3c771643\" target=\"_top\" title=\"psysml:b85d82e7-3bb2-4c49-b03c-5a9b3c771643\" xlink:actuate=\"onRequest\" xlink:href=\"psysml:b85d82e7-3bb2-4c49-b03c-5a9b3c771643\" xlink:show=\"new\" xlink:title=\"psysml:b85d82e7-3bb2-4c49-b03c-5a9b3c771643\" xlink:type=\"simple\"><rect fill=\"#FFFFFF\" height=\"45.9375\" id=\"E11\" rx=\"10\" ry=\"10\" style=\"stroke: #383838; stroke-width: 1.5;\" width=\"42\" x=\"185\" y=\"344.5\"/><text fill=\"#000000\" font-family=\"sans-serif\" font-size=\"12\" font-style=\"italic\" lengthAdjust=\"spacingAndGlyphs\" textLength=\"40\" x=\"186\" y=\"360.6387\">«part»</text><text fill=\"#000000\" font-family=\"sans-serif\" font-size=\"12\" lengthAdjust=\"spacingAndGlyphs\" textLength=\"8\" x=\"202\" y=\"374.6074\">p</text><line style=\"stroke: #383838; stroke-width: 1.5;\" x1=\"186\" x2=\"226\" y1=\"382.4375\" y2=\"382.4375\"/></a><!--MD5=[49a0ec8f00dab7302a31f22d0f0fe584]\n",
       "class E12--><a href=\"psysml:f6ed6b0e-7205-4bca-ba49-af9a51c8942a\" target=\"_top\" title=\"psysml:f6ed6b0e-7205-4bca-ba49-af9a51c8942a\" xlink:actuate=\"onRequest\" xlink:href=\"psysml:f6ed6b0e-7205-4bca-ba49-af9a51c8942a\" xlink:show=\"new\" xlink:title=\"psysml:f6ed6b0e-7205-4bca-ba49-af9a51c8942a\" xlink:type=\"simple\"><rect fill=\"#FFFFFF\" height=\"45.9375\" id=\"E12\" rx=\"10\" ry=\"10\" style=\"stroke: #383838; stroke-width: 1.5;\" width=\"42\" x=\"32\" y=\"62\"/><text fill=\"#000000\" font-family=\"sans-serif\" font-size=\"12\" font-style=\"italic\" lengthAdjust=\"spacingAndGlyphs\" textLength=\"40\" x=\"33\" y=\"78.1387\">«part»</text><text fill=\"#000000\" font-family=\"sans-serif\" font-size=\"12\" lengthAdjust=\"spacingAndGlyphs\" textLength=\"8\" x=\"49\" y=\"92.1074\">q</text><line style=\"stroke: #383838; stroke-width: 1.5;\" x1=\"33\" x2=\"73\" y1=\"99.9375\" y2=\"99.9375\"/></a><!--MD5=[ee3c913d1a06f366521f9ef512b67efe]\n",
       "class E13--><a href=\"psysml:dc92139c-b950-485f-92a5-3d6f837d8293\" target=\"_top\" title=\"psysml:dc92139c-b950-485f-92a5-3d6f837d8293\" xlink:actuate=\"onRequest\" xlink:href=\"psysml:dc92139c-b950-485f-92a5-3d6f837d8293\" xlink:show=\"new\" xlink:title=\"psysml:dc92139c-b950-485f-92a5-3d6f837d8293\" xlink:type=\"simple\"><rect fill=\"#FFFFFF\" height=\"45.9375\" id=\"E13\" rx=\"10\" ry=\"10\" style=\"stroke: #383838; stroke-width: 1.5;\" width=\"93\" x=\"44.5\" y=\"190\"/><text fill=\"#000000\" font-family=\"sans-serif\" font-size=\"12\" font-style=\"italic\" lengthAdjust=\"spacingAndGlyphs\" textLength=\"91\" x=\"45.5\" y=\"206.1387\">«requirement»</text><text fill=\"#000000\" font-family=\"sans-serif\" font-size=\"12\" lengthAdjust=\"spacingAndGlyphs\" textLength=\"21\" x=\"80.5\" y=\"220.1074\">r: R</text><line style=\"stroke: #383838; stroke-width: 1.5;\" x1=\"45.5\" x2=\"136.5\" y1=\"227.9375\" y2=\"227.9375\"/></a><!--MD5=[05d275557350bfb9b23a4ef7222b4c39]\n",
       "link E3 to E2--><a href=\"psysml:9201001b-4e3f-46f0-8224-89e70f802e39\" target=\"_top\" title=\"psysml:9201001b-4e3f-46f0-8224-89e70f802e39\" xlink:actuate=\"onRequest\" xlink:href=\"psysml:9201001b-4e3f-46f0-8224-89e70f802e39\" xlink:show=\"new\" xlink:title=\"psysml:9201001b-4e3f-46f0-8224-89e70f802e39\" xlink:type=\"simple\"><path d=\"M327.88,108.24 C326.26,125.24 323.98,149.19 322.02,169.79 \" fill=\"none\" id=\"E3-&gt;E2\" style=\"stroke: #383838; stroke-width: 1.0;\"/><polygon fill=\"#FFFFFF\" points=\"320.1,189.99,314.9362,170.411,328.8729,171.7407,320.1,189.99\" style=\"stroke: #383838; stroke-width: 1.0;\"/><ellipse cx=\"317.4685\" cy=\"164.9268\" fill=\"#383838\" rx=\"2\" ry=\"2\" style=\"stroke: #383838; stroke-width: 1.0;\"/><ellipse cx=\"327.4233\" cy=\"165.8765\" fill=\"#383838\" rx=\"2\" ry=\"2\" style=\"stroke: #383838; stroke-width: 1.0;\"/></a><!--MD5=[62aa6af11e70f752912c1cb0466f24f7]\n",
       "reverse link E4 to E5--><a href=\"psysml:56458fbc-ce11-45ea-8fa2-2092e0cfc05c\" target=\"_top\" title=\"psysml:56458fbc-ce11-45ea-8fa2-2092e0cfc05c\" xlink:actuate=\"onRequest\" xlink:href=\"psysml:56458fbc-ce11-45ea-8fa2-2092e0cfc05c\" xlink:show=\"new\" xlink:title=\"psysml:56458fbc-ce11-45ea-8fa2-2092e0cfc05c\" xlink:type=\"simple\"><path d=\"M91,437.45 C91,453.34 91,469.51 91,482.98 \" fill=\"none\" id=\"E4&lt;-E5\" style=\"stroke: #383838; stroke-width: 1.0;\"/><ellipse cx=\"91\" cy=\"430.4\" fill=\"#FFFFFF\" rx=\"8\" ry=\"8\" style=\"stroke: #383838; stroke-width: 1.0;\"/><line style=\"stroke: #383838; stroke-width: 1.0;\" x1=\"91\" x2=\"91\" y1=\"438.4\" y2=\"422.4\"/><line style=\"stroke: #383838; stroke-width: 1.0;\" x1=\"83\" x2=\"99\" y1=\"430.4\" y2=\"430.4\"/></a><!--MD5=[c6fc7cdb0cabde04948078cf183fa696]\n",
       "reverse link E4 to E8--><a href=\"psysml:72b41e7b-9298-4fd0-92ac-738cc777b35a\" target=\"_top\" title=\"psysml:72b41e7b-9298-4fd0-92ac-738cc777b35a\" xlink:actuate=\"onRequest\" xlink:href=\"psysml:72b41e7b-9298-4fd0-92ac-738cc777b35a\" xlink:show=\"new\" xlink:title=\"psysml:72b41e7b-9298-4fd0-92ac-738cc777b35a\" xlink:type=\"simple\"><path d=\"M151.51,432.04 C172.42,453.99 194.47,477.14 210.03,493.48 \" fill=\"none\" id=\"E4&lt;-E8\" style=\"stroke: #383838; stroke-width: 1.0;\"/><polygon fill=\"#383838\" points=\"142.34,422.4,143.5779,429.5041,150.6116,431.0937,149.3737,423.9897,142.34,422.4\" style=\"stroke: #383838; stroke-width: 1.0;\"/></a><!--MD5=[062ed86c389d1a88f61c6380d0491e17]\n",
       "reverse link E12 to E13--><a href=\"psysml:dc92139c-b950-485f-92a5-3d6f837d8293\" target=\"_top\" title=\"psysml:dc92139c-b950-485f-92a5-3d6f837d8293\" xlink:actuate=\"onRequest\" xlink:href=\"psysml:dc92139c-b950-485f-92a5-3d6f837d8293\" xlink:show=\"new\" xlink:title=\"psysml:dc92139c-b950-485f-92a5-3d6f837d8293\" xlink:type=\"simple\"><path d=\"M63.49,120.8 C70.17,142.92 78.6,170.89 84.36,189.99 \" fill=\"none\" id=\"E12&lt;-E13\" style=\"stroke: #383838; stroke-width: 1.0;\"/><polygon fill=\"#383838\" points=\"59.71,108.24,57.6129,115.1394,63.1751,119.7288,65.2722,112.8294,59.71,108.24\" style=\"stroke: #383838; stroke-width: 1.0;\"/></a><!--MD5=[017847e01ff9a8bd19f247411074f987]\n",
       "link E13 to E4--><a href=\"psysml:84833459-b0b4-497f-8a66-9d75104fb430\" target=\"_top\" title=\"psysml:84833459-b0b4-497f-8a66-9d75104fb430\" xlink:actuate=\"onRequest\" xlink:href=\"psysml:84833459-b0b4-497f-8a66-9d75104fb430\" xlink:show=\"new\" xlink:title=\"psysml:84833459-b0b4-497f-8a66-9d75104fb430\" xlink:type=\"simple\"><path d=\"M91,236.17 C91,251.17 91,271.91 91,292.44 \" fill=\"none\" id=\"E13-&gt;E4\" style=\"stroke: #383838; stroke-width: 1.0;\"/><polygon fill=\"#FFFFFF\" points=\"91,312.68,84,293.68,98,293.68,91,312.68\" style=\"stroke: #383838; stroke-width: 1.0;\"/><ellipse cx=\"86\" cy=\"287.98\" fill=\"#383838\" rx=\"2\" ry=\"2\" style=\"stroke: #383838; stroke-width: 1.0;\"/><ellipse cx=\"96\" cy=\"287.98\" fill=\"#383838\" rx=\"2\" ry=\"2\" style=\"stroke: #383838; stroke-width: 1.0;\"/></a><!--MD5=[2cfe899c895462254056921bfb67315f]\n",
       "link E13 to E11--><a href=\"psysml:ed40ce07-1501-496b-adae-3639fe39f1e8\" target=\"_top\" title=\"psysml:ed40ce07-1501-496b-adae-3639fe39f1e8\" xlink:actuate=\"onRequest\" xlink:href=\"psysml:ed40ce07-1501-496b-adae-3639fe39f1e8\" xlink:show=\"new\" xlink:title=\"psysml:ed40ce07-1501-496b-adae-3639fe39f1e8\" xlink:type=\"simple\"><path d=\"M108.36,236.29 C123.87,256.28 147.14,286.45 167,313 C173.57,321.78 180.66,331.44 186.97,340.12 \" fill=\"none\" id=\"E13-&gt;E11\" style=\"stroke: #383838; stroke-width: 1.0; stroke-dasharray: 7.0,7.0;\"/><polygon fill=\"#383838\" points=\"189.99,344.28,187.9274,334.6496,187.0474,340.2376,181.4594,339.3576,189.99,344.28\" style=\"stroke: #383838; stroke-width: 1.0;\"/><text fill=\"#000000\" font-family=\"sans-serif\" font-size=\"13\" lengthAdjust=\"spacingAndGlyphs\" textLength=\"57\" x=\"145\" y=\"279.0669\">«satisfy»</text></a><!--MD5=[ae8623df8e09f3fc0786010d17a90dc0]\n",
       "@startuml\r\n",
       " skinparam monochrome true\r\n",
       "skinparam classbackgroundcolor white\r\n",
       "skinparam shadowing false\r\n",
       "skinparam wrapWidth 300\r\n",
       "hide circle\r\n",
       "\r\n",
       "package \"RequirementTest\" as E1  [[psysml:32d2418d-b451-4172-b0c3-f203713ef4c8 ]]  {\r\n",
       "comp def \"C\" as E2  <<(T,blue)constraint def>> [[psysml:a1b28860-c9a8-4d37-931e-31ae0c14540e ]] {\r\n",
       "}\r\n",
       "comp usage \"c: C\" as E3  <<(T,blue)constraint>> [[psysml:4f6724e1-6261-429d-9c16-1831387bac9b ]] {\r\n",
       "}\r\n",
       "comp def \"R\" as E4  <<(T,blue)requirement def>> [[psysml:a2742730-9bdb-48ea-a333-70a51cef011c ]] {\r\n",
       "\r\n",
       "- -\r\n",
       "- - constraints - -\r\n",
       "<b>require</b> c\r\n",
       "<i>assume</i> c1: C\r\n",
       "}\r\n",
       "comp def \" [<b>1</b>] A\" as E5  <<(T,blue)requirement def>> [[psysml:56458fbc-ce11-45ea-8fa2-2092e0cfc05c ]] {\r\n",
       "Text\r\n",
       "- -\r\n",
       "}\r\n",
       "comp usage \"<s>noname</s>\" as E8  <<(T,blue)requirement>> [[psysml:72b41e7b-9298-4fd0-92ac-738cc777b35a ]] {\r\n",
       "}\r\n",
       "comp def \"R1\" as E9  <<(T,blue)requirement def>> [[psysml:ec52d3df-f8e8-4ac5-95c0-bf3447feb8a5 ]] {\r\n",
       "- - constraints - -\r\n",
       "<b>require</b> c1\\n//:>>RequirementTest::c// \r\n",
       "}\r\n",
       "comp usage \"p\" as E11  <<(T,blue)part>> [[psysml:b85d82e7-3bb2-4c49-b03c-5a9b3c771643 ]] {\r\n",
       "}\r\n",
       "comp usage \"q\" as E12  <<(T,blue)part>> [[psysml:f6ed6b0e-7205-4bca-ba49-af9a51c8942a ]] {\r\n",
       "}\r\n",
       "comp usage \"r: R\" as E13  <<(T,blue)requirement>> [[psysml:dc92139c-b950-485f-92a5-3d6f837d8293 ]] {\r\n",
       "}\r\n",
       "E3 - -:|> E2 [[psysml:9201001b-4e3f-46f0-8224-89e70f802e39 ]] \r\n",
       "E4 +- - E5 [[psysml:56458fbc-ce11-45ea-8fa2-2092e0cfc05c ]] \r\n",
       "E4 *- - E8 [[psysml:72b41e7b-9298-4fd0-92ac-738cc777b35a ]] \r\n",
       "E12 *- - E13 [[psysml:dc92139c-b950-485f-92a5-3d6f837d8293 ]] \r\n",
       "E13 - -:|> E4 [[psysml:84833459-b0b4-497f-8a66-9d75104fb430 ]] \r\n",
       "E13 ..> E11 [[psysml:ed40ce07-1501-496b-adae-3639fe39f1e8 ]] : <<satisfy>>\r\n",
       "}\r\n",
       "@enduml\r\n",
       "\n",
       "PlantUML version 1.2020.13(Sat Jun 13 12:26:38 UTC 2020)\n",
       "(EPL source distribution)\n",
       "Java Runtime: OpenJDK Runtime Environment\n",
       "JVM: OpenJDK 64-Bit Server VM\n",
       "Default Encoding: UTF-8\n",
       "Language: en\n",
       "Country: null\n",
       "--></g></svg>"
      ]
     },
     "execution_count": 7,
     "metadata": {},
     "output_type": "execute_result"
    }
   ],
   "source": [
    "%viz --style=\"COMPTREE\" --view=\"Sequence\" \"RequirementTest\""
   ]
  },
  {
   "cell_type": "code",
   "execution_count": 8,
   "id": "perceived-briefing",
   "metadata": {
    "execution": {
     "iopub.execute_input": "2021-03-26T13:01:06.629751Z",
     "iopub.status.busy": "2021-03-26T13:01:06.629162Z",
     "iopub.status.idle": "2021-03-26T13:01:06.738439Z",
     "shell.execute_reply": "2021-03-26T13:01:06.736467Z"
    }
   },
   "outputs": [
    {
     "data": {
      "image/svg+xml": [
       "<?xml version=\"1.0\" encoding=\"UTF-8\" standalone=\"no\"?><svg xmlns=\"http://www.w3.org/2000/svg\" xmlns:xlink=\"http://www.w3.org/1999/xlink\" contentScriptType=\"application/ecmascript\" contentStyleType=\"text/css\" height=\"578px\" preserveAspectRatio=\"none\" style=\"width:408px;height:578px;\" version=\"1.1\" viewBox=\"0 0 408 578\" width=\"408px\" zoomAndPan=\"magnify\"><defs/><g><!--MD5=[fbc87193dbaf4d95561dea2c320d4a47]\n",
       "cluster E1--><a href=\"psysml:32d2418d-b451-4172-b0c3-f203713ef4c8\" target=\"_top\" title=\"psysml:32d2418d-b451-4172-b0c3-f203713ef4c8\" xlink:actuate=\"onRequest\" xlink:href=\"psysml:32d2418d-b451-4172-b0c3-f203713ef4c8\" xlink:show=\"new\" xlink:title=\"psysml:32d2418d-b451-4172-b0c3-f203713ef4c8\" xlink:type=\"simple\"><polygon fill=\"#FFFFFF\" points=\"16,6,158,6,165,28.2969,386,28.2969,386,566,16,566,16,6\" style=\"stroke: #000000; stroke-width: 1.5;\"/><line style=\"stroke: #000000; stroke-width: 1.5;\" x1=\"16\" x2=\"165\" y1=\"28.2969\" y2=\"28.2969\"/><text fill=\"#000000\" font-family=\"sans-serif\" font-size=\"14\" font-weight=\"bold\" lengthAdjust=\"spacingAndGlyphs\" textLength=\"136\" x=\"20\" y=\"20.9951\">RequirementTest</text></a><!--MD5=[b4997ac47864f28c2f74865a473b2911]\n",
       "class E2--><a href=\"psysml:a1b28860-c9a8-4d37-931e-31ae0c14540e\" target=\"_top\" title=\"psysml:a1b28860-c9a8-4d37-931e-31ae0c14540e\" xlink:actuate=\"onRequest\" xlink:href=\"psysml:a1b28860-c9a8-4d37-931e-31ae0c14540e\" xlink:show=\"new\" xlink:title=\"psysml:a1b28860-c9a8-4d37-931e-31ae0c14540e\" xlink:type=\"simple\"><rect fill=\"#FFFFFF\" height=\"45.9375\" id=\"E2\" style=\"stroke: #383838; stroke-width: 1.5;\" width=\"104\" x=\"266\" y=\"190\"/><text fill=\"#000000\" font-family=\"sans-serif\" font-size=\"12\" font-style=\"italic\" lengthAdjust=\"spacingAndGlyphs\" textLength=\"102\" x=\"267\" y=\"206.1387\">«constraint def»</text><text fill=\"#000000\" font-family=\"sans-serif\" font-size=\"12\" lengthAdjust=\"spacingAndGlyphs\" textLength=\"8\" x=\"314\" y=\"220.1074\">C</text><line style=\"stroke: #383838; stroke-width: 1.5;\" x1=\"267\" x2=\"369\" y1=\"227.9375\" y2=\"227.9375\"/></a><!--MD5=[09b614a08d8cba4a07c9adeb5e0fee81]\n",
       "class E3--><a href=\"psysml:4f6724e1-6261-429d-9c16-1831387bac9b\" target=\"_top\" title=\"psysml:4f6724e1-6261-429d-9c16-1831387bac9b\" xlink:actuate=\"onRequest\" xlink:href=\"psysml:4f6724e1-6261-429d-9c16-1831387bac9b\" xlink:show=\"new\" xlink:title=\"psysml:4f6724e1-6261-429d-9c16-1831387bac9b\" xlink:type=\"simple\"><rect fill=\"#FFFFFF\" height=\"45.9375\" id=\"E3\" rx=\"10\" ry=\"10\" style=\"stroke: #383838; stroke-width: 1.5;\" width=\"80\" x=\"290\" y=\"62\"/><text fill=\"#000000\" font-family=\"sans-serif\" font-size=\"12\" font-style=\"italic\" lengthAdjust=\"spacingAndGlyphs\" textLength=\"78\" x=\"291\" y=\"78.1387\">«constraint»</text><text fill=\"#000000\" font-family=\"sans-serif\" font-size=\"12\" lengthAdjust=\"spacingAndGlyphs\" textLength=\"23\" x=\"318.5\" y=\"92.1074\">c: C</text><line style=\"stroke: #383838; stroke-width: 1.5;\" x1=\"291\" x2=\"369\" y1=\"99.9375\" y2=\"99.9375\"/></a><!--MD5=[ebbe1d658d1005bcc118a6aa81145e00]\n",
       "class E4--><a href=\"psysml:a2742730-9bdb-48ea-a333-70a51cef011c\" target=\"_top\" title=\"psysml:a2742730-9bdb-48ea-a333-70a51cef011c\" xlink:actuate=\"onRequest\" xlink:href=\"psysml:a2742730-9bdb-48ea-a333-70a51cef011c\" xlink:show=\"new\" xlink:title=\"psysml:a2742730-9bdb-48ea-a333-70a51cef011c\" xlink:type=\"simple\"><rect fill=\"#FFFFFF\" height=\"109.1563\" id=\"E4\" style=\"stroke: #383838; stroke-width: 1.5;\" width=\"117\" x=\"32.5\" y=\"313\"/><text fill=\"#000000\" font-family=\"sans-serif\" font-size=\"12\" font-style=\"italic\" lengthAdjust=\"spacingAndGlyphs\" textLength=\"115\" x=\"33.5\" y=\"329.1387\">«requirement def»</text><text fill=\"#000000\" font-family=\"sans-serif\" font-size=\"12\" lengthAdjust=\"spacingAndGlyphs\" textLength=\"8\" x=\"87\" y=\"343.1074\">R</text><line style=\"stroke: #383838; stroke-width: 1.5;\" x1=\"33.5\" x2=\"148.5\" y1=\"350.9375\" y2=\"350.9375\"/><text fill=\"#000000\" font-family=\"sans-serif\" font-size=\"11\" lengthAdjust=\"spacingAndGlyphs\" textLength=\"0\" x=\"42.5\" y=\"365.1479\"/><line style=\"stroke: #383838; stroke-width: 1.0;\" x1=\"33.5\" x2=\"148.5\" y1=\"371.7422\" y2=\"371.7422\"/><text fill=\"#000000\" font-family=\"sans-serif\" font-size=\"11\" font-weight=\"bold\" lengthAdjust=\"spacingAndGlyphs\" textLength=\"46\" x=\"38.5\" y=\"402.7573\">require</text><text fill=\"#000000\" font-family=\"sans-serif\" font-size=\"11\" lengthAdjust=\"spacingAndGlyphs\" textLength=\"6\" x=\"88.5\" y=\"402.7573\">c</text><text fill=\"#000000\" font-family=\"sans-serif\" font-size=\"11\" font-style=\"italic\" lengthAdjust=\"spacingAndGlyphs\" textLength=\"46\" x=\"38.5\" y=\"415.562\">assume</text><text fill=\"#000000\" font-family=\"sans-serif\" font-size=\"11\" lengthAdjust=\"spacingAndGlyphs\" textLength=\"29\" x=\"88.5\" y=\"415.562\">c1: C</text><line style=\"stroke: #383838; stroke-width: 1.0;\" x1=\"33.5\" x2=\"59\" y1=\"386.1445\" y2=\"386.1445\"/><text fill=\"#000000\" font-family=\"sans-serif\" font-size=\"11\" lengthAdjust=\"spacingAndGlyphs\" textLength=\"64\" x=\"59\" y=\"389.4526\">constraints</text><line style=\"stroke: #383838; stroke-width: 1.0;\" x1=\"123\" x2=\"148.5\" y1=\"386.1445\" y2=\"386.1445\"/></a><!--MD5=[270fce915f116d4de14055a7c1d9a0f3]\n",
       "class E5--><a href=\"psysml:56458fbc-ce11-45ea-8fa2-2092e0cfc05c\" target=\"_top\" title=\"psysml:56458fbc-ce11-45ea-8fa2-2092e0cfc05c\" xlink:actuate=\"onRequest\" xlink:href=\"psysml:56458fbc-ce11-45ea-8fa2-2092e0cfc05c\" xlink:show=\"new\" xlink:title=\"psysml:56458fbc-ce11-45ea-8fa2-2092e0cfc05c\" xlink:type=\"simple\"><rect fill=\"#FFFFFF\" height=\"66.7422\" id=\"E5\" style=\"stroke: #383838; stroke-width: 1.5;\" width=\"117\" x=\"32.5\" y=\"483\"/><text fill=\"#000000\" font-family=\"sans-serif\" font-size=\"12\" font-style=\"italic\" lengthAdjust=\"spacingAndGlyphs\" textLength=\"115\" x=\"33.5\" y=\"499.1387\">«requirement def»</text><text fill=\"#000000\" font-family=\"sans-serif\" font-size=\"12\" lengthAdjust=\"spacingAndGlyphs\" textLength=\"5\" x=\"78\" y=\"513.1074\">[</text><text fill=\"#000000\" font-family=\"sans-serif\" font-size=\"12\" font-weight=\"bold\" lengthAdjust=\"spacingAndGlyphs\" textLength=\"8\" x=\"83\" y=\"513.1074\">1</text><text fill=\"#000000\" font-family=\"sans-serif\" font-size=\"12\" lengthAdjust=\"spacingAndGlyphs\" textLength=\"17\" x=\"91\" y=\"513.1074\">] A</text><line style=\"stroke: #383838; stroke-width: 1.5;\" x1=\"33.5\" x2=\"148.5\" y1=\"520.9375\" y2=\"520.9375\"/><text fill=\"#000000\" font-family=\"sans-serif\" font-size=\"11\" lengthAdjust=\"spacingAndGlyphs\" textLength=\"24\" x=\"38.5\" y=\"535.1479\">Text</text><line style=\"stroke: #383838; stroke-width: 1.0;\" x1=\"33.5\" x2=\"148.5\" y1=\"541.7422\" y2=\"541.7422\"/></a><!--MD5=[b9389687b975829384b498ac4b7476b2]\n",
       "class E8--><a href=\"psysml:72b41e7b-9298-4fd0-92ac-738cc777b35a\" target=\"_top\" title=\"psysml:72b41e7b-9298-4fd0-92ac-738cc777b35a\" xlink:actuate=\"onRequest\" xlink:href=\"psysml:72b41e7b-9298-4fd0-92ac-738cc777b35a\" xlink:show=\"new\" xlink:title=\"psysml:72b41e7b-9298-4fd0-92ac-738cc777b35a\" xlink:type=\"simple\"><rect fill=\"#FFFFFF\" height=\"45.9375\" id=\"E8\" rx=\"10\" ry=\"10\" style=\"stroke: #383838; stroke-width: 1.5;\" width=\"93\" x=\"184.5\" y=\"493.5\"/><text fill=\"#000000\" font-family=\"sans-serif\" font-size=\"12\" font-style=\"italic\" lengthAdjust=\"spacingAndGlyphs\" textLength=\"91\" x=\"185.5\" y=\"509.6387\">«requirement»</text><text fill=\"#000000\" font-family=\"sans-serif\" font-size=\"12\" lengthAdjust=\"spacingAndGlyphs\" text-decoration=\"line-through\" textLength=\"51\" x=\"205.5\" y=\"523.6074\">noname</text><line style=\"stroke: #383838; stroke-width: 1.5;\" x1=\"185.5\" x2=\"276.5\" y1=\"531.4375\" y2=\"531.4375\"/></a><!--MD5=[fd4143e9d270a159db93a4ea2a975926]\n",
       "class E9--><a href=\"psysml:ec52d3df-f8e8-4ac5-95c0-bf3447feb8a5\" target=\"_top\" title=\"psysml:ec52d3df-f8e8-4ac5-95c0-bf3447feb8a5\" xlink:actuate=\"onRequest\" xlink:href=\"psysml:ec52d3df-f8e8-4ac5-95c0-bf3447feb8a5\" xlink:show=\"new\" xlink:title=\"psysml:ec52d3df-f8e8-4ac5-95c0-bf3447feb8a5\" xlink:type=\"simple\"><rect fill=\"#FFFFFF\" height=\"88.3516\" id=\"E9\" style=\"stroke: #383838; stroke-width: 1.5;\" width=\"145\" x=\"109.5\" y=\"41\"/><text fill=\"#000000\" font-family=\"sans-serif\" font-size=\"12\" font-style=\"italic\" lengthAdjust=\"spacingAndGlyphs\" textLength=\"115\" x=\"124.5\" y=\"57.1387\">«requirement def»</text><text fill=\"#000000\" font-family=\"sans-serif\" font-size=\"12\" lengthAdjust=\"spacingAndGlyphs\" textLength=\"16\" x=\"174\" y=\"71.1074\">R1</text><line style=\"stroke: #383838; stroke-width: 1.5;\" x1=\"110.5\" x2=\"253.5\" y1=\"78.9375\" y2=\"78.9375\"/><text fill=\"#000000\" font-family=\"sans-serif\" font-size=\"11\" font-weight=\"bold\" lengthAdjust=\"spacingAndGlyphs\" textLength=\"46\" x=\"115.5\" y=\"109.9526\">require</text><text fill=\"#000000\" font-family=\"sans-serif\" font-size=\"11\" lengthAdjust=\"spacingAndGlyphs\" textLength=\"13\" x=\"165.5\" y=\"109.9526\">c1</text><text fill=\"#000000\" font-family=\"sans-serif\" font-size=\"11\" font-style=\"italic\" lengthAdjust=\"spacingAndGlyphs\" textLength=\"133\" x=\"115.5\" y=\"122.7573\">:&gt;&gt;RequirementTest::c</text><line style=\"stroke: #383838; stroke-width: 1.0;\" x1=\"110.5\" x2=\"150\" y1=\"93.3398\" y2=\"93.3398\"/><text fill=\"#000000\" font-family=\"sans-serif\" font-size=\"11\" lengthAdjust=\"spacingAndGlyphs\" textLength=\"64\" x=\"150\" y=\"96.6479\">constraints</text><line style=\"stroke: #383838; stroke-width: 1.0;\" x1=\"214\" x2=\"253.5\" y1=\"93.3398\" y2=\"93.3398\"/></a><!--MD5=[1dd1bfd58a279cf63c5f349dbc8fc6a1]\n",
       "class E11--><a href=\"psysml:b85d82e7-3bb2-4c49-b03c-5a9b3c771643\" target=\"_top\" title=\"psysml:b85d82e7-3bb2-4c49-b03c-5a9b3c771643\" xlink:actuate=\"onRequest\" xlink:href=\"psysml:b85d82e7-3bb2-4c49-b03c-5a9b3c771643\" xlink:show=\"new\" xlink:title=\"psysml:b85d82e7-3bb2-4c49-b03c-5a9b3c771643\" xlink:type=\"simple\"><rect fill=\"#FFFFFF\" height=\"45.9375\" id=\"E11\" rx=\"10\" ry=\"10\" style=\"stroke: #383838; stroke-width: 1.5;\" width=\"42\" x=\"185\" y=\"344.5\"/><text fill=\"#000000\" font-family=\"sans-serif\" font-size=\"12\" font-style=\"italic\" lengthAdjust=\"spacingAndGlyphs\" textLength=\"40\" x=\"186\" y=\"360.6387\">«part»</text><text fill=\"#000000\" font-family=\"sans-serif\" font-size=\"12\" lengthAdjust=\"spacingAndGlyphs\" textLength=\"8\" x=\"202\" y=\"374.6074\">p</text><line style=\"stroke: #383838; stroke-width: 1.5;\" x1=\"186\" x2=\"226\" y1=\"382.4375\" y2=\"382.4375\"/></a><!--MD5=[49a0ec8f00dab7302a31f22d0f0fe584]\n",
       "class E12--><a href=\"psysml:f6ed6b0e-7205-4bca-ba49-af9a51c8942a\" target=\"_top\" title=\"psysml:f6ed6b0e-7205-4bca-ba49-af9a51c8942a\" xlink:actuate=\"onRequest\" xlink:href=\"psysml:f6ed6b0e-7205-4bca-ba49-af9a51c8942a\" xlink:show=\"new\" xlink:title=\"psysml:f6ed6b0e-7205-4bca-ba49-af9a51c8942a\" xlink:type=\"simple\"><rect fill=\"#FFFFFF\" height=\"45.9375\" id=\"E12\" rx=\"10\" ry=\"10\" style=\"stroke: #383838; stroke-width: 1.5;\" width=\"42\" x=\"32\" y=\"62\"/><text fill=\"#000000\" font-family=\"sans-serif\" font-size=\"12\" font-style=\"italic\" lengthAdjust=\"spacingAndGlyphs\" textLength=\"40\" x=\"33\" y=\"78.1387\">«part»</text><text fill=\"#000000\" font-family=\"sans-serif\" font-size=\"12\" lengthAdjust=\"spacingAndGlyphs\" textLength=\"8\" x=\"49\" y=\"92.1074\">q</text><line style=\"stroke: #383838; stroke-width: 1.5;\" x1=\"33\" x2=\"73\" y1=\"99.9375\" y2=\"99.9375\"/></a><!--MD5=[ee3c913d1a06f366521f9ef512b67efe]\n",
       "class E13--><a href=\"psysml:dc92139c-b950-485f-92a5-3d6f837d8293\" target=\"_top\" title=\"psysml:dc92139c-b950-485f-92a5-3d6f837d8293\" xlink:actuate=\"onRequest\" xlink:href=\"psysml:dc92139c-b950-485f-92a5-3d6f837d8293\" xlink:show=\"new\" xlink:title=\"psysml:dc92139c-b950-485f-92a5-3d6f837d8293\" xlink:type=\"simple\"><rect fill=\"#FFFFFF\" height=\"45.9375\" id=\"E13\" rx=\"10\" ry=\"10\" style=\"stroke: #383838; stroke-width: 1.5;\" width=\"93\" x=\"44.5\" y=\"190\"/><text fill=\"#000000\" font-family=\"sans-serif\" font-size=\"12\" font-style=\"italic\" lengthAdjust=\"spacingAndGlyphs\" textLength=\"91\" x=\"45.5\" y=\"206.1387\">«requirement»</text><text fill=\"#000000\" font-family=\"sans-serif\" font-size=\"12\" lengthAdjust=\"spacingAndGlyphs\" textLength=\"21\" x=\"80.5\" y=\"220.1074\">r: R</text><line style=\"stroke: #383838; stroke-width: 1.5;\" x1=\"45.5\" x2=\"136.5\" y1=\"227.9375\" y2=\"227.9375\"/></a><!--MD5=[05d275557350bfb9b23a4ef7222b4c39]\n",
       "link E3 to E2--><a href=\"psysml:9201001b-4e3f-46f0-8224-89e70f802e39\" target=\"_top\" title=\"psysml:9201001b-4e3f-46f0-8224-89e70f802e39\" xlink:actuate=\"onRequest\" xlink:href=\"psysml:9201001b-4e3f-46f0-8224-89e70f802e39\" xlink:show=\"new\" xlink:title=\"psysml:9201001b-4e3f-46f0-8224-89e70f802e39\" xlink:type=\"simple\"><path d=\"M327.88,108.24 C326.26,125.24 323.98,149.19 322.02,169.79 \" fill=\"none\" id=\"E3-&gt;E2\" style=\"stroke: #383838; stroke-width: 1.0;\"/><polygon fill=\"#FFFFFF\" points=\"320.1,189.99,314.9362,170.411,328.8729,171.7407,320.1,189.99\" style=\"stroke: #383838; stroke-width: 1.0;\"/><ellipse cx=\"317.4685\" cy=\"164.9268\" fill=\"#383838\" rx=\"2\" ry=\"2\" style=\"stroke: #383838; stroke-width: 1.0;\"/><ellipse cx=\"327.4233\" cy=\"165.8765\" fill=\"#383838\" rx=\"2\" ry=\"2\" style=\"stroke: #383838; stroke-width: 1.0;\"/></a><!--MD5=[62aa6af11e70f752912c1cb0466f24f7]\n",
       "reverse link E4 to E5--><a href=\"psysml:56458fbc-ce11-45ea-8fa2-2092e0cfc05c\" target=\"_top\" title=\"psysml:56458fbc-ce11-45ea-8fa2-2092e0cfc05c\" xlink:actuate=\"onRequest\" xlink:href=\"psysml:56458fbc-ce11-45ea-8fa2-2092e0cfc05c\" xlink:show=\"new\" xlink:title=\"psysml:56458fbc-ce11-45ea-8fa2-2092e0cfc05c\" xlink:type=\"simple\"><path d=\"M91,437.45 C91,453.34 91,469.51 91,482.98 \" fill=\"none\" id=\"E4&lt;-E5\" style=\"stroke: #383838; stroke-width: 1.0;\"/><ellipse cx=\"91\" cy=\"430.4\" fill=\"#FFFFFF\" rx=\"8\" ry=\"8\" style=\"stroke: #383838; stroke-width: 1.0;\"/><line style=\"stroke: #383838; stroke-width: 1.0;\" x1=\"91\" x2=\"91\" y1=\"438.4\" y2=\"422.4\"/><line style=\"stroke: #383838; stroke-width: 1.0;\" x1=\"83\" x2=\"99\" y1=\"430.4\" y2=\"430.4\"/></a><!--MD5=[c6fc7cdb0cabde04948078cf183fa696]\n",
       "reverse link E4 to E8--><a href=\"psysml:72b41e7b-9298-4fd0-92ac-738cc777b35a\" target=\"_top\" title=\"psysml:72b41e7b-9298-4fd0-92ac-738cc777b35a\" xlink:actuate=\"onRequest\" xlink:href=\"psysml:72b41e7b-9298-4fd0-92ac-738cc777b35a\" xlink:show=\"new\" xlink:title=\"psysml:72b41e7b-9298-4fd0-92ac-738cc777b35a\" xlink:type=\"simple\"><path d=\"M151.51,432.04 C172.42,453.99 194.47,477.14 210.03,493.48 \" fill=\"none\" id=\"E4&lt;-E8\" style=\"stroke: #383838; stroke-width: 1.0;\"/><polygon fill=\"#383838\" points=\"142.34,422.4,143.5779,429.5041,150.6116,431.0937,149.3737,423.9897,142.34,422.4\" style=\"stroke: #383838; stroke-width: 1.0;\"/></a><!--MD5=[062ed86c389d1a88f61c6380d0491e17]\n",
       "reverse link E12 to E13--><a href=\"psysml:dc92139c-b950-485f-92a5-3d6f837d8293\" target=\"_top\" title=\"psysml:dc92139c-b950-485f-92a5-3d6f837d8293\" xlink:actuate=\"onRequest\" xlink:href=\"psysml:dc92139c-b950-485f-92a5-3d6f837d8293\" xlink:show=\"new\" xlink:title=\"psysml:dc92139c-b950-485f-92a5-3d6f837d8293\" xlink:type=\"simple\"><path d=\"M63.49,120.8 C70.17,142.92 78.6,170.89 84.36,189.99 \" fill=\"none\" id=\"E12&lt;-E13\" style=\"stroke: #383838; stroke-width: 1.0;\"/><polygon fill=\"#383838\" points=\"59.71,108.24,57.6129,115.1394,63.1751,119.7288,65.2722,112.8294,59.71,108.24\" style=\"stroke: #383838; stroke-width: 1.0;\"/></a><!--MD5=[017847e01ff9a8bd19f247411074f987]\n",
       "link E13 to E4--><a href=\"psysml:84833459-b0b4-497f-8a66-9d75104fb430\" target=\"_top\" title=\"psysml:84833459-b0b4-497f-8a66-9d75104fb430\" xlink:actuate=\"onRequest\" xlink:href=\"psysml:84833459-b0b4-497f-8a66-9d75104fb430\" xlink:show=\"new\" xlink:title=\"psysml:84833459-b0b4-497f-8a66-9d75104fb430\" xlink:type=\"simple\"><path d=\"M91,236.17 C91,251.17 91,271.91 91,292.44 \" fill=\"none\" id=\"E13-&gt;E4\" style=\"stroke: #383838; stroke-width: 1.0;\"/><polygon fill=\"#FFFFFF\" points=\"91,312.68,84,293.68,98,293.68,91,312.68\" style=\"stroke: #383838; stroke-width: 1.0;\"/><ellipse cx=\"86\" cy=\"287.98\" fill=\"#383838\" rx=\"2\" ry=\"2\" style=\"stroke: #383838; stroke-width: 1.0;\"/><ellipse cx=\"96\" cy=\"287.98\" fill=\"#383838\" rx=\"2\" ry=\"2\" style=\"stroke: #383838; stroke-width: 1.0;\"/></a><!--MD5=[2cfe899c895462254056921bfb67315f]\n",
       "link E13 to E11--><a href=\"psysml:ed40ce07-1501-496b-adae-3639fe39f1e8\" target=\"_top\" title=\"psysml:ed40ce07-1501-496b-adae-3639fe39f1e8\" xlink:actuate=\"onRequest\" xlink:href=\"psysml:ed40ce07-1501-496b-adae-3639fe39f1e8\" xlink:show=\"new\" xlink:title=\"psysml:ed40ce07-1501-496b-adae-3639fe39f1e8\" xlink:type=\"simple\"><path d=\"M108.36,236.29 C123.87,256.28 147.14,286.45 167,313 C173.57,321.78 180.66,331.44 186.97,340.12 \" fill=\"none\" id=\"E13-&gt;E11\" style=\"stroke: #383838; stroke-width: 1.0; stroke-dasharray: 7.0,7.0;\"/><polygon fill=\"#383838\" points=\"189.99,344.28,187.9274,334.6496,187.0474,340.2376,181.4594,339.3576,189.99,344.28\" style=\"stroke: #383838; stroke-width: 1.0;\"/><text fill=\"#000000\" font-family=\"sans-serif\" font-size=\"13\" lengthAdjust=\"spacingAndGlyphs\" textLength=\"57\" x=\"145\" y=\"279.0669\">«satisfy»</text></a><!--MD5=[ae8623df8e09f3fc0786010d17a90dc0]\n",
       "@startuml\r\n",
       " skinparam monochrome true\r\n",
       "skinparam classbackgroundcolor white\r\n",
       "skinparam shadowing false\r\n",
       "skinparam wrapWidth 300\r\n",
       "hide circle\r\n",
       "\r\n",
       "package \"RequirementTest\" as E1  [[psysml:32d2418d-b451-4172-b0c3-f203713ef4c8 ]]  {\r\n",
       "comp def \"C\" as E2  <<(T,blue)constraint def>> [[psysml:a1b28860-c9a8-4d37-931e-31ae0c14540e ]] {\r\n",
       "}\r\n",
       "comp usage \"c: C\" as E3  <<(T,blue)constraint>> [[psysml:4f6724e1-6261-429d-9c16-1831387bac9b ]] {\r\n",
       "}\r\n",
       "comp def \"R\" as E4  <<(T,blue)requirement def>> [[psysml:a2742730-9bdb-48ea-a333-70a51cef011c ]] {\r\n",
       "\r\n",
       "- -\r\n",
       "- - constraints - -\r\n",
       "<b>require</b> c\r\n",
       "<i>assume</i> c1: C\r\n",
       "}\r\n",
       "comp def \" [<b>1</b>] A\" as E5  <<(T,blue)requirement def>> [[psysml:56458fbc-ce11-45ea-8fa2-2092e0cfc05c ]] {\r\n",
       "Text\r\n",
       "- -\r\n",
       "}\r\n",
       "comp usage \"<s>noname</s>\" as E8  <<(T,blue)requirement>> [[psysml:72b41e7b-9298-4fd0-92ac-738cc777b35a ]] {\r\n",
       "}\r\n",
       "comp def \"R1\" as E9  <<(T,blue)requirement def>> [[psysml:ec52d3df-f8e8-4ac5-95c0-bf3447feb8a5 ]] {\r\n",
       "- - constraints - -\r\n",
       "<b>require</b> c1\\n//:>>RequirementTest::c// \r\n",
       "}\r\n",
       "comp usage \"p\" as E11  <<(T,blue)part>> [[psysml:b85d82e7-3bb2-4c49-b03c-5a9b3c771643 ]] {\r\n",
       "}\r\n",
       "comp usage \"q\" as E12  <<(T,blue)part>> [[psysml:f6ed6b0e-7205-4bca-ba49-af9a51c8942a ]] {\r\n",
       "}\r\n",
       "comp usage \"r: R\" as E13  <<(T,blue)requirement>> [[psysml:dc92139c-b950-485f-92a5-3d6f837d8293 ]] {\r\n",
       "}\r\n",
       "E3 - -:|> E2 [[psysml:9201001b-4e3f-46f0-8224-89e70f802e39 ]] \r\n",
       "E4 +- - E5 [[psysml:56458fbc-ce11-45ea-8fa2-2092e0cfc05c ]] \r\n",
       "E4 *- - E8 [[psysml:72b41e7b-9298-4fd0-92ac-738cc777b35a ]] \r\n",
       "E12 *- - E13 [[psysml:dc92139c-b950-485f-92a5-3d6f837d8293 ]] \r\n",
       "E13 - -:|> E4 [[psysml:84833459-b0b4-497f-8a66-9d75104fb430 ]] \r\n",
       "E13 ..> E11 [[psysml:ed40ce07-1501-496b-adae-3639fe39f1e8 ]] : <<satisfy>>\r\n",
       "}\r\n",
       "@enduml\r\n",
       "\n",
       "PlantUML version 1.2020.13(Sat Jun 13 12:26:38 UTC 2020)\n",
       "(EPL source distribution)\n",
       "Java Runtime: OpenJDK Runtime Environment\n",
       "JVM: OpenJDK 64-Bit Server VM\n",
       "Default Encoding: UTF-8\n",
       "Language: en\n",
       "Country: null\n",
       "--></g></svg>"
      ]
     },
     "execution_count": 8,
     "metadata": {},
     "output_type": "execute_result"
    }
   ],
   "source": [
    "%viz --style=\"COMPTREE\" --view=\"MIXED\" \"RequirementTest\""
   ]
  },
  {
   "cell_type": "code",
   "execution_count": 9,
   "id": "adjusted-virus",
   "metadata": {
    "execution": {
     "iopub.execute_input": "2021-03-26T13:01:06.789557Z",
     "iopub.status.busy": "2021-03-26T13:01:06.789018Z",
     "iopub.status.idle": "2021-03-26T13:01:06.894677Z",
     "shell.execute_reply": "2021-03-26T13:01:06.895066Z"
    }
   },
   "outputs": [
    {
     "data": {
      "image/svg+xml": [
       "<?xml version=\"1.0\" encoding=\"UTF-8\" standalone=\"no\"?><svg xmlns=\"http://www.w3.org/2000/svg\" xmlns:xlink=\"http://www.w3.org/1999/xlink\" contentScriptType=\"application/ecmascript\" contentStyleType=\"text/css\" height=\"578px\" preserveAspectRatio=\"none\" style=\"width:408px;height:578px;\" version=\"1.1\" viewBox=\"0 0 408 578\" width=\"408px\" zoomAndPan=\"magnify\"><defs/><g><!--MD5=[fbc87193dbaf4d95561dea2c320d4a47]\n",
       "cluster E1--><a href=\"psysml:32d2418d-b451-4172-b0c3-f203713ef4c8\" target=\"_top\" title=\"psysml:32d2418d-b451-4172-b0c3-f203713ef4c8\" xlink:actuate=\"onRequest\" xlink:href=\"psysml:32d2418d-b451-4172-b0c3-f203713ef4c8\" xlink:show=\"new\" xlink:title=\"psysml:32d2418d-b451-4172-b0c3-f203713ef4c8\" xlink:type=\"simple\"><polygon fill=\"#FFFFFF\" points=\"16,6,158,6,165,28.2969,386,28.2969,386,566,16,566,16,6\" style=\"stroke: #000000; stroke-width: 1.5;\"/><line style=\"stroke: #000000; stroke-width: 1.5;\" x1=\"16\" x2=\"165\" y1=\"28.2969\" y2=\"28.2969\"/><text fill=\"#000000\" font-family=\"sans-serif\" font-size=\"14\" font-weight=\"bold\" lengthAdjust=\"spacingAndGlyphs\" textLength=\"136\" x=\"20\" y=\"20.9951\">RequirementTest</text></a><!--MD5=[b4997ac47864f28c2f74865a473b2911]\n",
       "class E2--><a href=\"psysml:a1b28860-c9a8-4d37-931e-31ae0c14540e\" target=\"_top\" title=\"psysml:a1b28860-c9a8-4d37-931e-31ae0c14540e\" xlink:actuate=\"onRequest\" xlink:href=\"psysml:a1b28860-c9a8-4d37-931e-31ae0c14540e\" xlink:show=\"new\" xlink:title=\"psysml:a1b28860-c9a8-4d37-931e-31ae0c14540e\" xlink:type=\"simple\"><rect fill=\"#FFFFFF\" height=\"45.9375\" id=\"E2\" style=\"stroke: #383838; stroke-width: 1.5;\" width=\"104\" x=\"266\" y=\"190\"/><text fill=\"#000000\" font-family=\"sans-serif\" font-size=\"12\" font-style=\"italic\" lengthAdjust=\"spacingAndGlyphs\" textLength=\"102\" x=\"267\" y=\"206.1387\">«constraint def»</text><text fill=\"#000000\" font-family=\"sans-serif\" font-size=\"12\" lengthAdjust=\"spacingAndGlyphs\" textLength=\"8\" x=\"314\" y=\"220.1074\">C</text><line style=\"stroke: #383838; stroke-width: 1.5;\" x1=\"267\" x2=\"369\" y1=\"227.9375\" y2=\"227.9375\"/></a><!--MD5=[09b614a08d8cba4a07c9adeb5e0fee81]\n",
       "class E3--><a href=\"psysml:4f6724e1-6261-429d-9c16-1831387bac9b\" target=\"_top\" title=\"psysml:4f6724e1-6261-429d-9c16-1831387bac9b\" xlink:actuate=\"onRequest\" xlink:href=\"psysml:4f6724e1-6261-429d-9c16-1831387bac9b\" xlink:show=\"new\" xlink:title=\"psysml:4f6724e1-6261-429d-9c16-1831387bac9b\" xlink:type=\"simple\"><rect fill=\"#FFFFFF\" height=\"45.9375\" id=\"E3\" rx=\"10\" ry=\"10\" style=\"stroke: #383838; stroke-width: 1.5;\" width=\"80\" x=\"290\" y=\"62\"/><text fill=\"#000000\" font-family=\"sans-serif\" font-size=\"12\" font-style=\"italic\" lengthAdjust=\"spacingAndGlyphs\" textLength=\"78\" x=\"291\" y=\"78.1387\">«constraint»</text><text fill=\"#000000\" font-family=\"sans-serif\" font-size=\"12\" lengthAdjust=\"spacingAndGlyphs\" textLength=\"23\" x=\"318.5\" y=\"92.1074\">c: C</text><line style=\"stroke: #383838; stroke-width: 1.5;\" x1=\"291\" x2=\"369\" y1=\"99.9375\" y2=\"99.9375\"/></a><!--MD5=[ebbe1d658d1005bcc118a6aa81145e00]\n",
       "class E4--><a href=\"psysml:a2742730-9bdb-48ea-a333-70a51cef011c\" target=\"_top\" title=\"psysml:a2742730-9bdb-48ea-a333-70a51cef011c\" xlink:actuate=\"onRequest\" xlink:href=\"psysml:a2742730-9bdb-48ea-a333-70a51cef011c\" xlink:show=\"new\" xlink:title=\"psysml:a2742730-9bdb-48ea-a333-70a51cef011c\" xlink:type=\"simple\"><rect fill=\"#FFFFFF\" height=\"109.1563\" id=\"E4\" style=\"stroke: #383838; stroke-width: 1.5;\" width=\"117\" x=\"32.5\" y=\"313\"/><text fill=\"#000000\" font-family=\"sans-serif\" font-size=\"12\" font-style=\"italic\" lengthAdjust=\"spacingAndGlyphs\" textLength=\"115\" x=\"33.5\" y=\"329.1387\">«requirement def»</text><text fill=\"#000000\" font-family=\"sans-serif\" font-size=\"12\" lengthAdjust=\"spacingAndGlyphs\" textLength=\"8\" x=\"87\" y=\"343.1074\">R</text><line style=\"stroke: #383838; stroke-width: 1.5;\" x1=\"33.5\" x2=\"148.5\" y1=\"350.9375\" y2=\"350.9375\"/><text fill=\"#000000\" font-family=\"sans-serif\" font-size=\"11\" lengthAdjust=\"spacingAndGlyphs\" textLength=\"0\" x=\"42.5\" y=\"365.1479\"/><line style=\"stroke: #383838; stroke-width: 1.0;\" x1=\"33.5\" x2=\"148.5\" y1=\"371.7422\" y2=\"371.7422\"/><text fill=\"#000000\" font-family=\"sans-serif\" font-size=\"11\" font-weight=\"bold\" lengthAdjust=\"spacingAndGlyphs\" textLength=\"46\" x=\"38.5\" y=\"402.7573\">require</text><text fill=\"#000000\" font-family=\"sans-serif\" font-size=\"11\" lengthAdjust=\"spacingAndGlyphs\" textLength=\"6\" x=\"88.5\" y=\"402.7573\">c</text><text fill=\"#000000\" font-family=\"sans-serif\" font-size=\"11\" font-style=\"italic\" lengthAdjust=\"spacingAndGlyphs\" textLength=\"46\" x=\"38.5\" y=\"415.562\">assume</text><text fill=\"#000000\" font-family=\"sans-serif\" font-size=\"11\" lengthAdjust=\"spacingAndGlyphs\" textLength=\"29\" x=\"88.5\" y=\"415.562\">c1: C</text><line style=\"stroke: #383838; stroke-width: 1.0;\" x1=\"33.5\" x2=\"59\" y1=\"386.1445\" y2=\"386.1445\"/><text fill=\"#000000\" font-family=\"sans-serif\" font-size=\"11\" lengthAdjust=\"spacingAndGlyphs\" textLength=\"64\" x=\"59\" y=\"389.4526\">constraints</text><line style=\"stroke: #383838; stroke-width: 1.0;\" x1=\"123\" x2=\"148.5\" y1=\"386.1445\" y2=\"386.1445\"/></a><!--MD5=[270fce915f116d4de14055a7c1d9a0f3]\n",
       "class E5--><a href=\"psysml:56458fbc-ce11-45ea-8fa2-2092e0cfc05c\" target=\"_top\" title=\"psysml:56458fbc-ce11-45ea-8fa2-2092e0cfc05c\" xlink:actuate=\"onRequest\" xlink:href=\"psysml:56458fbc-ce11-45ea-8fa2-2092e0cfc05c\" xlink:show=\"new\" xlink:title=\"psysml:56458fbc-ce11-45ea-8fa2-2092e0cfc05c\" xlink:type=\"simple\"><rect fill=\"#FFFFFF\" height=\"66.7422\" id=\"E5\" style=\"stroke: #383838; stroke-width: 1.5;\" width=\"117\" x=\"32.5\" y=\"483\"/><text fill=\"#000000\" font-family=\"sans-serif\" font-size=\"12\" font-style=\"italic\" lengthAdjust=\"spacingAndGlyphs\" textLength=\"115\" x=\"33.5\" y=\"499.1387\">«requirement def»</text><text fill=\"#000000\" font-family=\"sans-serif\" font-size=\"12\" lengthAdjust=\"spacingAndGlyphs\" textLength=\"5\" x=\"78\" y=\"513.1074\">[</text><text fill=\"#000000\" font-family=\"sans-serif\" font-size=\"12\" font-weight=\"bold\" lengthAdjust=\"spacingAndGlyphs\" textLength=\"8\" x=\"83\" y=\"513.1074\">1</text><text fill=\"#000000\" font-family=\"sans-serif\" font-size=\"12\" lengthAdjust=\"spacingAndGlyphs\" textLength=\"17\" x=\"91\" y=\"513.1074\">] A</text><line style=\"stroke: #383838; stroke-width: 1.5;\" x1=\"33.5\" x2=\"148.5\" y1=\"520.9375\" y2=\"520.9375\"/><text fill=\"#000000\" font-family=\"sans-serif\" font-size=\"11\" lengthAdjust=\"spacingAndGlyphs\" textLength=\"24\" x=\"38.5\" y=\"535.1479\">Text</text><line style=\"stroke: #383838; stroke-width: 1.0;\" x1=\"33.5\" x2=\"148.5\" y1=\"541.7422\" y2=\"541.7422\"/></a><!--MD5=[b9389687b975829384b498ac4b7476b2]\n",
       "class E8--><a href=\"psysml:72b41e7b-9298-4fd0-92ac-738cc777b35a\" target=\"_top\" title=\"psysml:72b41e7b-9298-4fd0-92ac-738cc777b35a\" xlink:actuate=\"onRequest\" xlink:href=\"psysml:72b41e7b-9298-4fd0-92ac-738cc777b35a\" xlink:show=\"new\" xlink:title=\"psysml:72b41e7b-9298-4fd0-92ac-738cc777b35a\" xlink:type=\"simple\"><rect fill=\"#FFFFFF\" height=\"45.9375\" id=\"E8\" rx=\"10\" ry=\"10\" style=\"stroke: #383838; stroke-width: 1.5;\" width=\"93\" x=\"184.5\" y=\"493.5\"/><text fill=\"#000000\" font-family=\"sans-serif\" font-size=\"12\" font-style=\"italic\" lengthAdjust=\"spacingAndGlyphs\" textLength=\"91\" x=\"185.5\" y=\"509.6387\">«requirement»</text><text fill=\"#000000\" font-family=\"sans-serif\" font-size=\"12\" lengthAdjust=\"spacingAndGlyphs\" text-decoration=\"line-through\" textLength=\"51\" x=\"205.5\" y=\"523.6074\">noname</text><line style=\"stroke: #383838; stroke-width: 1.5;\" x1=\"185.5\" x2=\"276.5\" y1=\"531.4375\" y2=\"531.4375\"/></a><!--MD5=[fd4143e9d270a159db93a4ea2a975926]\n",
       "class E9--><a href=\"psysml:ec52d3df-f8e8-4ac5-95c0-bf3447feb8a5\" target=\"_top\" title=\"psysml:ec52d3df-f8e8-4ac5-95c0-bf3447feb8a5\" xlink:actuate=\"onRequest\" xlink:href=\"psysml:ec52d3df-f8e8-4ac5-95c0-bf3447feb8a5\" xlink:show=\"new\" xlink:title=\"psysml:ec52d3df-f8e8-4ac5-95c0-bf3447feb8a5\" xlink:type=\"simple\"><rect fill=\"#FFFFFF\" height=\"88.3516\" id=\"E9\" style=\"stroke: #383838; stroke-width: 1.5;\" width=\"145\" x=\"109.5\" y=\"41\"/><text fill=\"#000000\" font-family=\"sans-serif\" font-size=\"12\" font-style=\"italic\" lengthAdjust=\"spacingAndGlyphs\" textLength=\"115\" x=\"124.5\" y=\"57.1387\">«requirement def»</text><text fill=\"#000000\" font-family=\"sans-serif\" font-size=\"12\" lengthAdjust=\"spacingAndGlyphs\" textLength=\"16\" x=\"174\" y=\"71.1074\">R1</text><line style=\"stroke: #383838; stroke-width: 1.5;\" x1=\"110.5\" x2=\"253.5\" y1=\"78.9375\" y2=\"78.9375\"/><text fill=\"#000000\" font-family=\"sans-serif\" font-size=\"11\" font-weight=\"bold\" lengthAdjust=\"spacingAndGlyphs\" textLength=\"46\" x=\"115.5\" y=\"109.9526\">require</text><text fill=\"#000000\" font-family=\"sans-serif\" font-size=\"11\" lengthAdjust=\"spacingAndGlyphs\" textLength=\"13\" x=\"165.5\" y=\"109.9526\">c1</text><text fill=\"#000000\" font-family=\"sans-serif\" font-size=\"11\" font-style=\"italic\" lengthAdjust=\"spacingAndGlyphs\" textLength=\"133\" x=\"115.5\" y=\"122.7573\">:&gt;&gt;RequirementTest::c</text><line style=\"stroke: #383838; stroke-width: 1.0;\" x1=\"110.5\" x2=\"150\" y1=\"93.3398\" y2=\"93.3398\"/><text fill=\"#000000\" font-family=\"sans-serif\" font-size=\"11\" lengthAdjust=\"spacingAndGlyphs\" textLength=\"64\" x=\"150\" y=\"96.6479\">constraints</text><line style=\"stroke: #383838; stroke-width: 1.0;\" x1=\"214\" x2=\"253.5\" y1=\"93.3398\" y2=\"93.3398\"/></a><!--MD5=[1dd1bfd58a279cf63c5f349dbc8fc6a1]\n",
       "class E11--><a href=\"psysml:b85d82e7-3bb2-4c49-b03c-5a9b3c771643\" target=\"_top\" title=\"psysml:b85d82e7-3bb2-4c49-b03c-5a9b3c771643\" xlink:actuate=\"onRequest\" xlink:href=\"psysml:b85d82e7-3bb2-4c49-b03c-5a9b3c771643\" xlink:show=\"new\" xlink:title=\"psysml:b85d82e7-3bb2-4c49-b03c-5a9b3c771643\" xlink:type=\"simple\"><rect fill=\"#FFFFFF\" height=\"45.9375\" id=\"E11\" rx=\"10\" ry=\"10\" style=\"stroke: #383838; stroke-width: 1.5;\" width=\"42\" x=\"185\" y=\"344.5\"/><text fill=\"#000000\" font-family=\"sans-serif\" font-size=\"12\" font-style=\"italic\" lengthAdjust=\"spacingAndGlyphs\" textLength=\"40\" x=\"186\" y=\"360.6387\">«part»</text><text fill=\"#000000\" font-family=\"sans-serif\" font-size=\"12\" lengthAdjust=\"spacingAndGlyphs\" textLength=\"8\" x=\"202\" y=\"374.6074\">p</text><line style=\"stroke: #383838; stroke-width: 1.5;\" x1=\"186\" x2=\"226\" y1=\"382.4375\" y2=\"382.4375\"/></a><!--MD5=[49a0ec8f00dab7302a31f22d0f0fe584]\n",
       "class E12--><a href=\"psysml:f6ed6b0e-7205-4bca-ba49-af9a51c8942a\" target=\"_top\" title=\"psysml:f6ed6b0e-7205-4bca-ba49-af9a51c8942a\" xlink:actuate=\"onRequest\" xlink:href=\"psysml:f6ed6b0e-7205-4bca-ba49-af9a51c8942a\" xlink:show=\"new\" xlink:title=\"psysml:f6ed6b0e-7205-4bca-ba49-af9a51c8942a\" xlink:type=\"simple\"><rect fill=\"#FFFFFF\" height=\"45.9375\" id=\"E12\" rx=\"10\" ry=\"10\" style=\"stroke: #383838; stroke-width: 1.5;\" width=\"42\" x=\"32\" y=\"62\"/><text fill=\"#000000\" font-family=\"sans-serif\" font-size=\"12\" font-style=\"italic\" lengthAdjust=\"spacingAndGlyphs\" textLength=\"40\" x=\"33\" y=\"78.1387\">«part»</text><text fill=\"#000000\" font-family=\"sans-serif\" font-size=\"12\" lengthAdjust=\"spacingAndGlyphs\" textLength=\"8\" x=\"49\" y=\"92.1074\">q</text><line style=\"stroke: #383838; stroke-width: 1.5;\" x1=\"33\" x2=\"73\" y1=\"99.9375\" y2=\"99.9375\"/></a><!--MD5=[ee3c913d1a06f366521f9ef512b67efe]\n",
       "class E13--><a href=\"psysml:dc92139c-b950-485f-92a5-3d6f837d8293\" target=\"_top\" title=\"psysml:dc92139c-b950-485f-92a5-3d6f837d8293\" xlink:actuate=\"onRequest\" xlink:href=\"psysml:dc92139c-b950-485f-92a5-3d6f837d8293\" xlink:show=\"new\" xlink:title=\"psysml:dc92139c-b950-485f-92a5-3d6f837d8293\" xlink:type=\"simple\"><rect fill=\"#FFFFFF\" height=\"45.9375\" id=\"E13\" rx=\"10\" ry=\"10\" style=\"stroke: #383838; stroke-width: 1.5;\" width=\"93\" x=\"44.5\" y=\"190\"/><text fill=\"#000000\" font-family=\"sans-serif\" font-size=\"12\" font-style=\"italic\" lengthAdjust=\"spacingAndGlyphs\" textLength=\"91\" x=\"45.5\" y=\"206.1387\">«requirement»</text><text fill=\"#000000\" font-family=\"sans-serif\" font-size=\"12\" lengthAdjust=\"spacingAndGlyphs\" textLength=\"21\" x=\"80.5\" y=\"220.1074\">r: R</text><line style=\"stroke: #383838; stroke-width: 1.5;\" x1=\"45.5\" x2=\"136.5\" y1=\"227.9375\" y2=\"227.9375\"/></a><!--MD5=[05d275557350bfb9b23a4ef7222b4c39]\n",
       "link E3 to E2--><a href=\"psysml:9201001b-4e3f-46f0-8224-89e70f802e39\" target=\"_top\" title=\"psysml:9201001b-4e3f-46f0-8224-89e70f802e39\" xlink:actuate=\"onRequest\" xlink:href=\"psysml:9201001b-4e3f-46f0-8224-89e70f802e39\" xlink:show=\"new\" xlink:title=\"psysml:9201001b-4e3f-46f0-8224-89e70f802e39\" xlink:type=\"simple\"><path d=\"M327.88,108.24 C326.26,125.24 323.98,149.19 322.02,169.79 \" fill=\"none\" id=\"E3-&gt;E2\" style=\"stroke: #383838; stroke-width: 1.0;\"/><polygon fill=\"#FFFFFF\" points=\"320.1,189.99,314.9362,170.411,328.8729,171.7407,320.1,189.99\" style=\"stroke: #383838; stroke-width: 1.0;\"/><ellipse cx=\"317.4685\" cy=\"164.9268\" fill=\"#383838\" rx=\"2\" ry=\"2\" style=\"stroke: #383838; stroke-width: 1.0;\"/><ellipse cx=\"327.4233\" cy=\"165.8765\" fill=\"#383838\" rx=\"2\" ry=\"2\" style=\"stroke: #383838; stroke-width: 1.0;\"/></a><!--MD5=[62aa6af11e70f752912c1cb0466f24f7]\n",
       "reverse link E4 to E5--><a href=\"psysml:56458fbc-ce11-45ea-8fa2-2092e0cfc05c\" target=\"_top\" title=\"psysml:56458fbc-ce11-45ea-8fa2-2092e0cfc05c\" xlink:actuate=\"onRequest\" xlink:href=\"psysml:56458fbc-ce11-45ea-8fa2-2092e0cfc05c\" xlink:show=\"new\" xlink:title=\"psysml:56458fbc-ce11-45ea-8fa2-2092e0cfc05c\" xlink:type=\"simple\"><path d=\"M91,437.45 C91,453.34 91,469.51 91,482.98 \" fill=\"none\" id=\"E4&lt;-E5\" style=\"stroke: #383838; stroke-width: 1.0;\"/><ellipse cx=\"91\" cy=\"430.4\" fill=\"#FFFFFF\" rx=\"8\" ry=\"8\" style=\"stroke: #383838; stroke-width: 1.0;\"/><line style=\"stroke: #383838; stroke-width: 1.0;\" x1=\"91\" x2=\"91\" y1=\"438.4\" y2=\"422.4\"/><line style=\"stroke: #383838; stroke-width: 1.0;\" x1=\"83\" x2=\"99\" y1=\"430.4\" y2=\"430.4\"/></a><!--MD5=[c6fc7cdb0cabde04948078cf183fa696]\n",
       "reverse link E4 to E8--><a href=\"psysml:72b41e7b-9298-4fd0-92ac-738cc777b35a\" target=\"_top\" title=\"psysml:72b41e7b-9298-4fd0-92ac-738cc777b35a\" xlink:actuate=\"onRequest\" xlink:href=\"psysml:72b41e7b-9298-4fd0-92ac-738cc777b35a\" xlink:show=\"new\" xlink:title=\"psysml:72b41e7b-9298-4fd0-92ac-738cc777b35a\" xlink:type=\"simple\"><path d=\"M151.51,432.04 C172.42,453.99 194.47,477.14 210.03,493.48 \" fill=\"none\" id=\"E4&lt;-E8\" style=\"stroke: #383838; stroke-width: 1.0;\"/><polygon fill=\"#383838\" points=\"142.34,422.4,143.5779,429.5041,150.6116,431.0937,149.3737,423.9897,142.34,422.4\" style=\"stroke: #383838; stroke-width: 1.0;\"/></a><!--MD5=[062ed86c389d1a88f61c6380d0491e17]\n",
       "reverse link E12 to E13--><a href=\"psysml:dc92139c-b950-485f-92a5-3d6f837d8293\" target=\"_top\" title=\"psysml:dc92139c-b950-485f-92a5-3d6f837d8293\" xlink:actuate=\"onRequest\" xlink:href=\"psysml:dc92139c-b950-485f-92a5-3d6f837d8293\" xlink:show=\"new\" xlink:title=\"psysml:dc92139c-b950-485f-92a5-3d6f837d8293\" xlink:type=\"simple\"><path d=\"M63.49,120.8 C70.17,142.92 78.6,170.89 84.36,189.99 \" fill=\"none\" id=\"E12&lt;-E13\" style=\"stroke: #383838; stroke-width: 1.0;\"/><polygon fill=\"#383838\" points=\"59.71,108.24,57.6129,115.1394,63.1751,119.7288,65.2722,112.8294,59.71,108.24\" style=\"stroke: #383838; stroke-width: 1.0;\"/></a><!--MD5=[017847e01ff9a8bd19f247411074f987]\n",
       "link E13 to E4--><a href=\"psysml:84833459-b0b4-497f-8a66-9d75104fb430\" target=\"_top\" title=\"psysml:84833459-b0b4-497f-8a66-9d75104fb430\" xlink:actuate=\"onRequest\" xlink:href=\"psysml:84833459-b0b4-497f-8a66-9d75104fb430\" xlink:show=\"new\" xlink:title=\"psysml:84833459-b0b4-497f-8a66-9d75104fb430\" xlink:type=\"simple\"><path d=\"M91,236.17 C91,251.17 91,271.91 91,292.44 \" fill=\"none\" id=\"E13-&gt;E4\" style=\"stroke: #383838; stroke-width: 1.0;\"/><polygon fill=\"#FFFFFF\" points=\"91,312.68,84,293.68,98,293.68,91,312.68\" style=\"stroke: #383838; stroke-width: 1.0;\"/><ellipse cx=\"86\" cy=\"287.98\" fill=\"#383838\" rx=\"2\" ry=\"2\" style=\"stroke: #383838; stroke-width: 1.0;\"/><ellipse cx=\"96\" cy=\"287.98\" fill=\"#383838\" rx=\"2\" ry=\"2\" style=\"stroke: #383838; stroke-width: 1.0;\"/></a><!--MD5=[2cfe899c895462254056921bfb67315f]\n",
       "link E13 to E11--><a href=\"psysml:ed40ce07-1501-496b-adae-3639fe39f1e8\" target=\"_top\" title=\"psysml:ed40ce07-1501-496b-adae-3639fe39f1e8\" xlink:actuate=\"onRequest\" xlink:href=\"psysml:ed40ce07-1501-496b-adae-3639fe39f1e8\" xlink:show=\"new\" xlink:title=\"psysml:ed40ce07-1501-496b-adae-3639fe39f1e8\" xlink:type=\"simple\"><path d=\"M108.25,236.46 C130.67,265.67 167,313 167,313 C167,313 176.99,326.71 186.86,340.25 \" fill=\"none\" id=\"E13-&gt;E11\" style=\"stroke: #383838; stroke-width: 1.0; stroke-dasharray: 7.0,7.0;\"/><polygon fill=\"#383838\" points=\"189.91,344.43,187.8474,334.7996,186.9674,340.3876,181.3794,339.5076,189.91,344.43\" style=\"stroke: #383838; stroke-width: 1.0;\"/><text fill=\"#000000\" font-family=\"sans-serif\" font-size=\"13\" lengthAdjust=\"spacingAndGlyphs\" textLength=\"57\" x=\"143\" y=\"279.0669\">«satisfy»</text></a><!--MD5=[dcbd7cb514dfa56e0b6360d26f1c916c]\n",
       "@startuml\r\n",
       "skinparam linetype polyline\r\n",
       "skinparam monochrome true\r\n",
       "skinparam classbackgroundcolor white\r\n",
       "skinparam shadowing false\r\n",
       "skinparam wrapWidth 300\r\n",
       "hide circle\r\n",
       "\r\n",
       "package \"RequirementTest\" as E1  [[psysml:32d2418d-b451-4172-b0c3-f203713ef4c8 ]]  {\r\n",
       "comp def \"C\" as E2  <<(T,blue)constraint def>> [[psysml:a1b28860-c9a8-4d37-931e-31ae0c14540e ]] {\r\n",
       "}\r\n",
       "comp usage \"c: C\" as E3  <<(T,blue)constraint>> [[psysml:4f6724e1-6261-429d-9c16-1831387bac9b ]] {\r\n",
       "}\r\n",
       "comp def \"R\" as E4  <<(T,blue)requirement def>> [[psysml:a2742730-9bdb-48ea-a333-70a51cef011c ]] {\r\n",
       "\r\n",
       "- -\r\n",
       "- - constraints - -\r\n",
       "<b>require</b> c\r\n",
       "<i>assume</i> c1: C\r\n",
       "}\r\n",
       "comp def \" [<b>1</b>] A\" as E5  <<(T,blue)requirement def>> [[psysml:56458fbc-ce11-45ea-8fa2-2092e0cfc05c ]] {\r\n",
       "Text\r\n",
       "- -\r\n",
       "}\r\n",
       "comp usage \"<s>noname</s>\" as E8  <<(T,blue)requirement>> [[psysml:72b41e7b-9298-4fd0-92ac-738cc777b35a ]] {\r\n",
       "}\r\n",
       "comp def \"R1\" as E9  <<(T,blue)requirement def>> [[psysml:ec52d3df-f8e8-4ac5-95c0-bf3447feb8a5 ]] {\r\n",
       "- - constraints - -\r\n",
       "<b>require</b> c1\\n//:>>RequirementTest::c// \r\n",
       "}\r\n",
       "comp usage \"p\" as E11  <<(T,blue)part>> [[psysml:b85d82e7-3bb2-4c49-b03c-5a9b3c771643 ]] {\r\n",
       "}\r\n",
       "comp usage \"q\" as E12  <<(T,blue)part>> [[psysml:f6ed6b0e-7205-4bca-ba49-af9a51c8942a ]] {\r\n",
       "}\r\n",
       "comp usage \"r: R\" as E13  <<(T,blue)requirement>> [[psysml:dc92139c-b950-485f-92a5-3d6f837d8293 ]] {\r\n",
       "}\r\n",
       "E3 - -:|> E2 [[psysml:9201001b-4e3f-46f0-8224-89e70f802e39 ]] \r\n",
       "E4 +- - E5 [[psysml:56458fbc-ce11-45ea-8fa2-2092e0cfc05c ]] \r\n",
       "E4 *- - E8 [[psysml:72b41e7b-9298-4fd0-92ac-738cc777b35a ]] \r\n",
       "E12 *- - E13 [[psysml:dc92139c-b950-485f-92a5-3d6f837d8293 ]] \r\n",
       "E13 - -:|> E4 [[psysml:84833459-b0b4-497f-8a66-9d75104fb430 ]] \r\n",
       "E13 ..> E11 [[psysml:ed40ce07-1501-496b-adae-3639fe39f1e8 ]] : <<satisfy>>\r\n",
       "}\r\n",
       "@enduml\r\n",
       "\n",
       "PlantUML version 1.2020.13(Sat Jun 13 12:26:38 UTC 2020)\n",
       "(EPL source distribution)\n",
       "Java Runtime: OpenJDK Runtime Environment\n",
       "JVM: OpenJDK 64-Bit Server VM\n",
       "Default Encoding: UTF-8\n",
       "Language: en\n",
       "Country: null\n",
       "--></g></svg>"
      ]
     },
     "execution_count": 9,
     "metadata": {},
     "output_type": "execute_result"
    }
   ],
   "source": [
    "%viz --style=\"POLYLINE\" --view=\"Default\" \"RequirementTest\""
   ]
  },
  {
   "cell_type": "code",
   "execution_count": 10,
   "id": "disturbed-active",
   "metadata": {
    "execution": {
     "iopub.execute_input": "2021-03-26T13:01:06.947933Z",
     "iopub.status.busy": "2021-03-26T13:01:06.947167Z",
     "iopub.status.idle": "2021-03-26T13:01:07.057392Z",
     "shell.execute_reply": "2021-03-26T13:01:07.057760Z"
    }
   },
   "outputs": [
    {
     "data": {
      "image/svg+xml": [
       "<?xml version=\"1.0\" encoding=\"UTF-8\" standalone=\"no\"?><svg xmlns=\"http://www.w3.org/2000/svg\" xmlns:xlink=\"http://www.w3.org/1999/xlink\" contentScriptType=\"application/ecmascript\" contentStyleType=\"text/css\" height=\"578px\" preserveAspectRatio=\"none\" style=\"width:408px;height:578px;\" version=\"1.1\" viewBox=\"0 0 408 578\" width=\"408px\" zoomAndPan=\"magnify\"><defs/><g><!--MD5=[fbc87193dbaf4d95561dea2c320d4a47]\n",
       "cluster E1--><a href=\"psysml:32d2418d-b451-4172-b0c3-f203713ef4c8\" target=\"_top\" title=\"psysml:32d2418d-b451-4172-b0c3-f203713ef4c8\" xlink:actuate=\"onRequest\" xlink:href=\"psysml:32d2418d-b451-4172-b0c3-f203713ef4c8\" xlink:show=\"new\" xlink:title=\"psysml:32d2418d-b451-4172-b0c3-f203713ef4c8\" xlink:type=\"simple\"><polygon fill=\"#FFFFFF\" points=\"16,6,158,6,165,28.2969,386,28.2969,386,566,16,566,16,6\" style=\"stroke: #000000; stroke-width: 1.5;\"/><line style=\"stroke: #000000; stroke-width: 1.5;\" x1=\"16\" x2=\"165\" y1=\"28.2969\" y2=\"28.2969\"/><text fill=\"#000000\" font-family=\"sans-serif\" font-size=\"14\" font-weight=\"bold\" lengthAdjust=\"spacingAndGlyphs\" textLength=\"136\" x=\"20\" y=\"20.9951\">RequirementTest</text></a><!--MD5=[b4997ac47864f28c2f74865a473b2911]\n",
       "class E2--><a href=\"psysml:a1b28860-c9a8-4d37-931e-31ae0c14540e\" target=\"_top\" title=\"psysml:a1b28860-c9a8-4d37-931e-31ae0c14540e\" xlink:actuate=\"onRequest\" xlink:href=\"psysml:a1b28860-c9a8-4d37-931e-31ae0c14540e\" xlink:show=\"new\" xlink:title=\"psysml:a1b28860-c9a8-4d37-931e-31ae0c14540e\" xlink:type=\"simple\"><rect fill=\"#FFFFFF\" height=\"45.9375\" id=\"E2\" style=\"stroke: #383838; stroke-width: 1.5;\" width=\"104\" x=\"266\" y=\"190\"/><text fill=\"#000000\" font-family=\"sans-serif\" font-size=\"12\" font-style=\"italic\" lengthAdjust=\"spacingAndGlyphs\" textLength=\"102\" x=\"267\" y=\"206.1387\">«constraint def»</text><text fill=\"#000000\" font-family=\"sans-serif\" font-size=\"12\" lengthAdjust=\"spacingAndGlyphs\" textLength=\"8\" x=\"314\" y=\"220.1074\">C</text><line style=\"stroke: #383838; stroke-width: 1.5;\" x1=\"267\" x2=\"369\" y1=\"227.9375\" y2=\"227.9375\"/></a><!--MD5=[09b614a08d8cba4a07c9adeb5e0fee81]\n",
       "class E3--><a href=\"psysml:4f6724e1-6261-429d-9c16-1831387bac9b\" target=\"_top\" title=\"psysml:4f6724e1-6261-429d-9c16-1831387bac9b\" xlink:actuate=\"onRequest\" xlink:href=\"psysml:4f6724e1-6261-429d-9c16-1831387bac9b\" xlink:show=\"new\" xlink:title=\"psysml:4f6724e1-6261-429d-9c16-1831387bac9b\" xlink:type=\"simple\"><rect fill=\"#FFFFFF\" height=\"45.9375\" id=\"E3\" rx=\"10\" ry=\"10\" style=\"stroke: #383838; stroke-width: 1.5;\" width=\"80\" x=\"290\" y=\"62\"/><text fill=\"#000000\" font-family=\"sans-serif\" font-size=\"12\" font-style=\"italic\" lengthAdjust=\"spacingAndGlyphs\" textLength=\"78\" x=\"291\" y=\"78.1387\">«constraint»</text><text fill=\"#000000\" font-family=\"sans-serif\" font-size=\"12\" lengthAdjust=\"spacingAndGlyphs\" textLength=\"23\" x=\"318.5\" y=\"92.1074\">c: C</text><line style=\"stroke: #383838; stroke-width: 1.5;\" x1=\"291\" x2=\"369\" y1=\"99.9375\" y2=\"99.9375\"/></a><!--MD5=[ebbe1d658d1005bcc118a6aa81145e00]\n",
       "class E4--><a href=\"psysml:a2742730-9bdb-48ea-a333-70a51cef011c\" target=\"_top\" title=\"psysml:a2742730-9bdb-48ea-a333-70a51cef011c\" xlink:actuate=\"onRequest\" xlink:href=\"psysml:a2742730-9bdb-48ea-a333-70a51cef011c\" xlink:show=\"new\" xlink:title=\"psysml:a2742730-9bdb-48ea-a333-70a51cef011c\" xlink:type=\"simple\"><rect fill=\"#FFFFFF\" height=\"109.1563\" id=\"E4\" style=\"stroke: #383838; stroke-width: 1.5;\" width=\"117\" x=\"32.5\" y=\"313\"/><text fill=\"#000000\" font-family=\"sans-serif\" font-size=\"12\" font-style=\"italic\" lengthAdjust=\"spacingAndGlyphs\" textLength=\"115\" x=\"33.5\" y=\"329.1387\">«requirement def»</text><text fill=\"#000000\" font-family=\"sans-serif\" font-size=\"12\" lengthAdjust=\"spacingAndGlyphs\" textLength=\"8\" x=\"87\" y=\"343.1074\">R</text><line style=\"stroke: #383838; stroke-width: 1.5;\" x1=\"33.5\" x2=\"148.5\" y1=\"350.9375\" y2=\"350.9375\"/><text fill=\"#000000\" font-family=\"sans-serif\" font-size=\"11\" lengthAdjust=\"spacingAndGlyphs\" textLength=\"0\" x=\"42.5\" y=\"365.1479\"/><line style=\"stroke: #383838; stroke-width: 1.0;\" x1=\"33.5\" x2=\"148.5\" y1=\"371.7422\" y2=\"371.7422\"/><text fill=\"#000000\" font-family=\"sans-serif\" font-size=\"11\" font-weight=\"bold\" lengthAdjust=\"spacingAndGlyphs\" textLength=\"46\" x=\"38.5\" y=\"402.7573\">require</text><text fill=\"#000000\" font-family=\"sans-serif\" font-size=\"11\" lengthAdjust=\"spacingAndGlyphs\" textLength=\"6\" x=\"88.5\" y=\"402.7573\">c</text><text fill=\"#000000\" font-family=\"sans-serif\" font-size=\"11\" font-style=\"italic\" lengthAdjust=\"spacingAndGlyphs\" textLength=\"46\" x=\"38.5\" y=\"415.562\">assume</text><text fill=\"#000000\" font-family=\"sans-serif\" font-size=\"11\" lengthAdjust=\"spacingAndGlyphs\" textLength=\"29\" x=\"88.5\" y=\"415.562\">c1: C</text><line style=\"stroke: #383838; stroke-width: 1.0;\" x1=\"33.5\" x2=\"59\" y1=\"386.1445\" y2=\"386.1445\"/><text fill=\"#000000\" font-family=\"sans-serif\" font-size=\"11\" lengthAdjust=\"spacingAndGlyphs\" textLength=\"64\" x=\"59\" y=\"389.4526\">constraints</text><line style=\"stroke: #383838; stroke-width: 1.0;\" x1=\"123\" x2=\"148.5\" y1=\"386.1445\" y2=\"386.1445\"/></a><!--MD5=[270fce915f116d4de14055a7c1d9a0f3]\n",
       "class E5--><a href=\"psysml:56458fbc-ce11-45ea-8fa2-2092e0cfc05c\" target=\"_top\" title=\"psysml:56458fbc-ce11-45ea-8fa2-2092e0cfc05c\" xlink:actuate=\"onRequest\" xlink:href=\"psysml:56458fbc-ce11-45ea-8fa2-2092e0cfc05c\" xlink:show=\"new\" xlink:title=\"psysml:56458fbc-ce11-45ea-8fa2-2092e0cfc05c\" xlink:type=\"simple\"><rect fill=\"#FFFFFF\" height=\"66.7422\" id=\"E5\" style=\"stroke: #383838; stroke-width: 1.5;\" width=\"117\" x=\"32.5\" y=\"483\"/><text fill=\"#000000\" font-family=\"sans-serif\" font-size=\"12\" font-style=\"italic\" lengthAdjust=\"spacingAndGlyphs\" textLength=\"115\" x=\"33.5\" y=\"499.1387\">«requirement def»</text><text fill=\"#000000\" font-family=\"sans-serif\" font-size=\"12\" lengthAdjust=\"spacingAndGlyphs\" textLength=\"5\" x=\"78\" y=\"513.1074\">[</text><text fill=\"#000000\" font-family=\"sans-serif\" font-size=\"12\" font-weight=\"bold\" lengthAdjust=\"spacingAndGlyphs\" textLength=\"8\" x=\"83\" y=\"513.1074\">1</text><text fill=\"#000000\" font-family=\"sans-serif\" font-size=\"12\" lengthAdjust=\"spacingAndGlyphs\" textLength=\"17\" x=\"91\" y=\"513.1074\">] A</text><line style=\"stroke: #383838; stroke-width: 1.5;\" x1=\"33.5\" x2=\"148.5\" y1=\"520.9375\" y2=\"520.9375\"/><text fill=\"#000000\" font-family=\"sans-serif\" font-size=\"11\" lengthAdjust=\"spacingAndGlyphs\" textLength=\"24\" x=\"38.5\" y=\"535.1479\">Text</text><line style=\"stroke: #383838; stroke-width: 1.0;\" x1=\"33.5\" x2=\"148.5\" y1=\"541.7422\" y2=\"541.7422\"/></a><!--MD5=[b9389687b975829384b498ac4b7476b2]\n",
       "class E8--><a href=\"psysml:72b41e7b-9298-4fd0-92ac-738cc777b35a\" target=\"_top\" title=\"psysml:72b41e7b-9298-4fd0-92ac-738cc777b35a\" xlink:actuate=\"onRequest\" xlink:href=\"psysml:72b41e7b-9298-4fd0-92ac-738cc777b35a\" xlink:show=\"new\" xlink:title=\"psysml:72b41e7b-9298-4fd0-92ac-738cc777b35a\" xlink:type=\"simple\"><rect fill=\"#FFFFFF\" height=\"45.9375\" id=\"E8\" rx=\"10\" ry=\"10\" style=\"stroke: #383838; stroke-width: 1.5;\" width=\"93\" x=\"184.5\" y=\"493.5\"/><text fill=\"#000000\" font-family=\"sans-serif\" font-size=\"12\" font-style=\"italic\" lengthAdjust=\"spacingAndGlyphs\" textLength=\"91\" x=\"185.5\" y=\"509.6387\">«requirement»</text><text fill=\"#000000\" font-family=\"sans-serif\" font-size=\"12\" lengthAdjust=\"spacingAndGlyphs\" text-decoration=\"line-through\" textLength=\"51\" x=\"205.5\" y=\"523.6074\">noname</text><line style=\"stroke: #383838; stroke-width: 1.5;\" x1=\"185.5\" x2=\"276.5\" y1=\"531.4375\" y2=\"531.4375\"/></a><!--MD5=[fd4143e9d270a159db93a4ea2a975926]\n",
       "class E9--><a href=\"psysml:ec52d3df-f8e8-4ac5-95c0-bf3447feb8a5\" target=\"_top\" title=\"psysml:ec52d3df-f8e8-4ac5-95c0-bf3447feb8a5\" xlink:actuate=\"onRequest\" xlink:href=\"psysml:ec52d3df-f8e8-4ac5-95c0-bf3447feb8a5\" xlink:show=\"new\" xlink:title=\"psysml:ec52d3df-f8e8-4ac5-95c0-bf3447feb8a5\" xlink:type=\"simple\"><rect fill=\"#FFFFFF\" height=\"88.3516\" id=\"E9\" style=\"stroke: #383838; stroke-width: 1.5;\" width=\"145\" x=\"109.5\" y=\"41\"/><text fill=\"#000000\" font-family=\"sans-serif\" font-size=\"12\" font-style=\"italic\" lengthAdjust=\"spacingAndGlyphs\" textLength=\"115\" x=\"124.5\" y=\"57.1387\">«requirement def»</text><text fill=\"#000000\" font-family=\"sans-serif\" font-size=\"12\" lengthAdjust=\"spacingAndGlyphs\" textLength=\"16\" x=\"174\" y=\"71.1074\">R1</text><line style=\"stroke: #383838; stroke-width: 1.5;\" x1=\"110.5\" x2=\"253.5\" y1=\"78.9375\" y2=\"78.9375\"/><text fill=\"#000000\" font-family=\"sans-serif\" font-size=\"11\" font-weight=\"bold\" lengthAdjust=\"spacingAndGlyphs\" textLength=\"46\" x=\"115.5\" y=\"109.9526\">require</text><text fill=\"#000000\" font-family=\"sans-serif\" font-size=\"11\" lengthAdjust=\"spacingAndGlyphs\" textLength=\"13\" x=\"165.5\" y=\"109.9526\">c1</text><text fill=\"#000000\" font-family=\"sans-serif\" font-size=\"11\" font-style=\"italic\" lengthAdjust=\"spacingAndGlyphs\" textLength=\"133\" x=\"115.5\" y=\"122.7573\">:&gt;&gt;RequirementTest::c</text><line style=\"stroke: #383838; stroke-width: 1.0;\" x1=\"110.5\" x2=\"150\" y1=\"93.3398\" y2=\"93.3398\"/><text fill=\"#000000\" font-family=\"sans-serif\" font-size=\"11\" lengthAdjust=\"spacingAndGlyphs\" textLength=\"64\" x=\"150\" y=\"96.6479\">constraints</text><line style=\"stroke: #383838; stroke-width: 1.0;\" x1=\"214\" x2=\"253.5\" y1=\"93.3398\" y2=\"93.3398\"/></a><!--MD5=[1dd1bfd58a279cf63c5f349dbc8fc6a1]\n",
       "class E11--><a href=\"psysml:b85d82e7-3bb2-4c49-b03c-5a9b3c771643\" target=\"_top\" title=\"psysml:b85d82e7-3bb2-4c49-b03c-5a9b3c771643\" xlink:actuate=\"onRequest\" xlink:href=\"psysml:b85d82e7-3bb2-4c49-b03c-5a9b3c771643\" xlink:show=\"new\" xlink:title=\"psysml:b85d82e7-3bb2-4c49-b03c-5a9b3c771643\" xlink:type=\"simple\"><rect fill=\"#FFFFFF\" height=\"45.9375\" id=\"E11\" rx=\"10\" ry=\"10\" style=\"stroke: #383838; stroke-width: 1.5;\" width=\"42\" x=\"185\" y=\"344.5\"/><text fill=\"#000000\" font-family=\"sans-serif\" font-size=\"12\" font-style=\"italic\" lengthAdjust=\"spacingAndGlyphs\" textLength=\"40\" x=\"186\" y=\"360.6387\">«part»</text><text fill=\"#000000\" font-family=\"sans-serif\" font-size=\"12\" lengthAdjust=\"spacingAndGlyphs\" textLength=\"8\" x=\"202\" y=\"374.6074\">p</text><line style=\"stroke: #383838; stroke-width: 1.5;\" x1=\"186\" x2=\"226\" y1=\"382.4375\" y2=\"382.4375\"/></a><!--MD5=[49a0ec8f00dab7302a31f22d0f0fe584]\n",
       "class E12--><a href=\"psysml:f6ed6b0e-7205-4bca-ba49-af9a51c8942a\" target=\"_top\" title=\"psysml:f6ed6b0e-7205-4bca-ba49-af9a51c8942a\" xlink:actuate=\"onRequest\" xlink:href=\"psysml:f6ed6b0e-7205-4bca-ba49-af9a51c8942a\" xlink:show=\"new\" xlink:title=\"psysml:f6ed6b0e-7205-4bca-ba49-af9a51c8942a\" xlink:type=\"simple\"><rect fill=\"#FFFFFF\" height=\"45.9375\" id=\"E12\" rx=\"10\" ry=\"10\" style=\"stroke: #383838; stroke-width: 1.5;\" width=\"42\" x=\"32\" y=\"62\"/><text fill=\"#000000\" font-family=\"sans-serif\" font-size=\"12\" font-style=\"italic\" lengthAdjust=\"spacingAndGlyphs\" textLength=\"40\" x=\"33\" y=\"78.1387\">«part»</text><text fill=\"#000000\" font-family=\"sans-serif\" font-size=\"12\" lengthAdjust=\"spacingAndGlyphs\" textLength=\"8\" x=\"49\" y=\"92.1074\">q</text><line style=\"stroke: #383838; stroke-width: 1.5;\" x1=\"33\" x2=\"73\" y1=\"99.9375\" y2=\"99.9375\"/></a><!--MD5=[ee3c913d1a06f366521f9ef512b67efe]\n",
       "class E13--><a href=\"psysml:dc92139c-b950-485f-92a5-3d6f837d8293\" target=\"_top\" title=\"psysml:dc92139c-b950-485f-92a5-3d6f837d8293\" xlink:actuate=\"onRequest\" xlink:href=\"psysml:dc92139c-b950-485f-92a5-3d6f837d8293\" xlink:show=\"new\" xlink:title=\"psysml:dc92139c-b950-485f-92a5-3d6f837d8293\" xlink:type=\"simple\"><rect fill=\"#FFFFFF\" height=\"45.9375\" id=\"E13\" rx=\"10\" ry=\"10\" style=\"stroke: #383838; stroke-width: 1.5;\" width=\"93\" x=\"44.5\" y=\"190\"/><text fill=\"#000000\" font-family=\"sans-serif\" font-size=\"12\" font-style=\"italic\" lengthAdjust=\"spacingAndGlyphs\" textLength=\"91\" x=\"45.5\" y=\"206.1387\">«requirement»</text><text fill=\"#000000\" font-family=\"sans-serif\" font-size=\"12\" lengthAdjust=\"spacingAndGlyphs\" textLength=\"21\" x=\"80.5\" y=\"220.1074\">r: R</text><line style=\"stroke: #383838; stroke-width: 1.5;\" x1=\"45.5\" x2=\"136.5\" y1=\"227.9375\" y2=\"227.9375\"/></a><!--MD5=[05d275557350bfb9b23a4ef7222b4c39]\n",
       "link E3 to E2--><a href=\"psysml:9201001b-4e3f-46f0-8224-89e70f802e39\" target=\"_top\" title=\"psysml:9201001b-4e3f-46f0-8224-89e70f802e39\" xlink:actuate=\"onRequest\" xlink:href=\"psysml:9201001b-4e3f-46f0-8224-89e70f802e39\" xlink:show=\"new\" xlink:title=\"psysml:9201001b-4e3f-46f0-8224-89e70f802e39\" xlink:type=\"simple\"><path d=\"M327.88,108.24 C326.26,125.24 323.98,149.19 322.02,169.79 \" fill=\"none\" id=\"E3-&gt;E2\" style=\"stroke: #383838; stroke-width: 1.0;\"/><polygon fill=\"#FFFFFF\" points=\"320.1,189.99,314.9362,170.411,328.8729,171.7407,320.1,189.99\" style=\"stroke: #383838; stroke-width: 1.0;\"/><ellipse cx=\"317.4685\" cy=\"164.9268\" fill=\"#383838\" rx=\"2\" ry=\"2\" style=\"stroke: #383838; stroke-width: 1.0;\"/><ellipse cx=\"327.4233\" cy=\"165.8765\" fill=\"#383838\" rx=\"2\" ry=\"2\" style=\"stroke: #383838; stroke-width: 1.0;\"/></a><!--MD5=[62aa6af11e70f752912c1cb0466f24f7]\n",
       "reverse link E4 to E5--><a href=\"psysml:56458fbc-ce11-45ea-8fa2-2092e0cfc05c\" target=\"_top\" title=\"psysml:56458fbc-ce11-45ea-8fa2-2092e0cfc05c\" xlink:actuate=\"onRequest\" xlink:href=\"psysml:56458fbc-ce11-45ea-8fa2-2092e0cfc05c\" xlink:show=\"new\" xlink:title=\"psysml:56458fbc-ce11-45ea-8fa2-2092e0cfc05c\" xlink:type=\"simple\"><path d=\"M91,437.45 C91,453.34 91,469.51 91,482.98 \" fill=\"none\" id=\"E4&lt;-E5\" style=\"stroke: #383838; stroke-width: 1.0;\"/><ellipse cx=\"91\" cy=\"430.4\" fill=\"#FFFFFF\" rx=\"8\" ry=\"8\" style=\"stroke: #383838; stroke-width: 1.0;\"/><line style=\"stroke: #383838; stroke-width: 1.0;\" x1=\"91\" x2=\"91\" y1=\"438.4\" y2=\"422.4\"/><line style=\"stroke: #383838; stroke-width: 1.0;\" x1=\"83\" x2=\"99\" y1=\"430.4\" y2=\"430.4\"/></a><!--MD5=[c6fc7cdb0cabde04948078cf183fa696]\n",
       "reverse link E4 to E8--><a href=\"psysml:72b41e7b-9298-4fd0-92ac-738cc777b35a\" target=\"_top\" title=\"psysml:72b41e7b-9298-4fd0-92ac-738cc777b35a\" xlink:actuate=\"onRequest\" xlink:href=\"psysml:72b41e7b-9298-4fd0-92ac-738cc777b35a\" xlink:show=\"new\" xlink:title=\"psysml:72b41e7b-9298-4fd0-92ac-738cc777b35a\" xlink:type=\"simple\"><path d=\"M151.51,432.04 C172.42,453.99 194.47,477.14 210.03,493.48 \" fill=\"none\" id=\"E4&lt;-E8\" style=\"stroke: #383838; stroke-width: 1.0;\"/><polygon fill=\"#383838\" points=\"142.34,422.4,143.5779,429.5041,150.6116,431.0937,149.3737,423.9897,142.34,422.4\" style=\"stroke: #383838; stroke-width: 1.0;\"/></a><!--MD5=[062ed86c389d1a88f61c6380d0491e17]\n",
       "reverse link E12 to E13--><a href=\"psysml:dc92139c-b950-485f-92a5-3d6f837d8293\" target=\"_top\" title=\"psysml:dc92139c-b950-485f-92a5-3d6f837d8293\" xlink:actuate=\"onRequest\" xlink:href=\"psysml:dc92139c-b950-485f-92a5-3d6f837d8293\" xlink:show=\"new\" xlink:title=\"psysml:dc92139c-b950-485f-92a5-3d6f837d8293\" xlink:type=\"simple\"><path d=\"M63.49,120.8 C70.17,142.92 78.6,170.89 84.36,189.99 \" fill=\"none\" id=\"E12&lt;-E13\" style=\"stroke: #383838; stroke-width: 1.0;\"/><polygon fill=\"#383838\" points=\"59.71,108.24,57.6129,115.1394,63.1751,119.7288,65.2722,112.8294,59.71,108.24\" style=\"stroke: #383838; stroke-width: 1.0;\"/></a><!--MD5=[017847e01ff9a8bd19f247411074f987]\n",
       "link E13 to E4--><a href=\"psysml:84833459-b0b4-497f-8a66-9d75104fb430\" target=\"_top\" title=\"psysml:84833459-b0b4-497f-8a66-9d75104fb430\" xlink:actuate=\"onRequest\" xlink:href=\"psysml:84833459-b0b4-497f-8a66-9d75104fb430\" xlink:show=\"new\" xlink:title=\"psysml:84833459-b0b4-497f-8a66-9d75104fb430\" xlink:type=\"simple\"><path d=\"M91,236.17 C91,251.17 91,271.91 91,292.44 \" fill=\"none\" id=\"E13-&gt;E4\" style=\"stroke: #383838; stroke-width: 1.0;\"/><polygon fill=\"#FFFFFF\" points=\"91,312.68,84,293.68,98,293.68,91,312.68\" style=\"stroke: #383838; stroke-width: 1.0;\"/><ellipse cx=\"86\" cy=\"287.98\" fill=\"#383838\" rx=\"2\" ry=\"2\" style=\"stroke: #383838; stroke-width: 1.0;\"/><ellipse cx=\"96\" cy=\"287.98\" fill=\"#383838\" rx=\"2\" ry=\"2\" style=\"stroke: #383838; stroke-width: 1.0;\"/></a><!--MD5=[2cfe899c895462254056921bfb67315f]\n",
       "link E13 to E11--><a href=\"psysml:ed40ce07-1501-496b-adae-3639fe39f1e8\" target=\"_top\" title=\"psysml:ed40ce07-1501-496b-adae-3639fe39f1e8\" xlink:actuate=\"onRequest\" xlink:href=\"psysml:ed40ce07-1501-496b-adae-3639fe39f1e8\" xlink:show=\"new\" xlink:title=\"psysml:ed40ce07-1501-496b-adae-3639fe39f1e8\" xlink:type=\"simple\"><path d=\"M108.25,236.46 C130.67,265.67 167,313 167,313 C167,313 176.99,326.71 186.86,340.25 \" fill=\"none\" id=\"E13-&gt;E11\" style=\"stroke: #383838; stroke-width: 1.0; stroke-dasharray: 7.0,7.0;\"/><polygon fill=\"#383838\" points=\"189.91,344.43,187.8474,334.7996,186.9674,340.3876,181.3794,339.5076,189.91,344.43\" style=\"stroke: #383838; stroke-width: 1.0;\"/><text fill=\"#000000\" font-family=\"sans-serif\" font-size=\"13\" lengthAdjust=\"spacingAndGlyphs\" textLength=\"57\" x=\"143\" y=\"279.0669\">«satisfy»</text></a><!--MD5=[dcbd7cb514dfa56e0b6360d26f1c916c]\n",
       "@startuml\r\n",
       "skinparam linetype polyline\r\n",
       "skinparam monochrome true\r\n",
       "skinparam classbackgroundcolor white\r\n",
       "skinparam shadowing false\r\n",
       "skinparam wrapWidth 300\r\n",
       "hide circle\r\n",
       "\r\n",
       "package \"RequirementTest\" as E1  [[psysml:32d2418d-b451-4172-b0c3-f203713ef4c8 ]]  {\r\n",
       "comp def \"C\" as E2  <<(T,blue)constraint def>> [[psysml:a1b28860-c9a8-4d37-931e-31ae0c14540e ]] {\r\n",
       "}\r\n",
       "comp usage \"c: C\" as E3  <<(T,blue)constraint>> [[psysml:4f6724e1-6261-429d-9c16-1831387bac9b ]] {\r\n",
       "}\r\n",
       "comp def \"R\" as E4  <<(T,blue)requirement def>> [[psysml:a2742730-9bdb-48ea-a333-70a51cef011c ]] {\r\n",
       "\r\n",
       "- -\r\n",
       "- - constraints - -\r\n",
       "<b>require</b> c\r\n",
       "<i>assume</i> c1: C\r\n",
       "}\r\n",
       "comp def \" [<b>1</b>] A\" as E5  <<(T,blue)requirement def>> [[psysml:56458fbc-ce11-45ea-8fa2-2092e0cfc05c ]] {\r\n",
       "Text\r\n",
       "- -\r\n",
       "}\r\n",
       "comp usage \"<s>noname</s>\" as E8  <<(T,blue)requirement>> [[psysml:72b41e7b-9298-4fd0-92ac-738cc777b35a ]] {\r\n",
       "}\r\n",
       "comp def \"R1\" as E9  <<(T,blue)requirement def>> [[psysml:ec52d3df-f8e8-4ac5-95c0-bf3447feb8a5 ]] {\r\n",
       "- - constraints - -\r\n",
       "<b>require</b> c1\\n//:>>RequirementTest::c// \r\n",
       "}\r\n",
       "comp usage \"p\" as E11  <<(T,blue)part>> [[psysml:b85d82e7-3bb2-4c49-b03c-5a9b3c771643 ]] {\r\n",
       "}\r\n",
       "comp usage \"q\" as E12  <<(T,blue)part>> [[psysml:f6ed6b0e-7205-4bca-ba49-af9a51c8942a ]] {\r\n",
       "}\r\n",
       "comp usage \"r: R\" as E13  <<(T,blue)requirement>> [[psysml:dc92139c-b950-485f-92a5-3d6f837d8293 ]] {\r\n",
       "}\r\n",
       "E3 - -:|> E2 [[psysml:9201001b-4e3f-46f0-8224-89e70f802e39 ]] \r\n",
       "E4 +- - E5 [[psysml:56458fbc-ce11-45ea-8fa2-2092e0cfc05c ]] \r\n",
       "E4 *- - E8 [[psysml:72b41e7b-9298-4fd0-92ac-738cc777b35a ]] \r\n",
       "E12 *- - E13 [[psysml:dc92139c-b950-485f-92a5-3d6f837d8293 ]] \r\n",
       "E13 - -:|> E4 [[psysml:84833459-b0b4-497f-8a66-9d75104fb430 ]] \r\n",
       "E13 ..> E11 [[psysml:ed40ce07-1501-496b-adae-3639fe39f1e8 ]] : <<satisfy>>\r\n",
       "}\r\n",
       "@enduml\r\n",
       "\n",
       "PlantUML version 1.2020.13(Sat Jun 13 12:26:38 UTC 2020)\n",
       "(EPL source distribution)\n",
       "Java Runtime: OpenJDK Runtime Environment\n",
       "JVM: OpenJDK 64-Bit Server VM\n",
       "Default Encoding: UTF-8\n",
       "Language: en\n",
       "Country: null\n",
       "--></g></svg>"
      ]
     },
     "execution_count": 10,
     "metadata": {},
     "output_type": "execute_result"
    }
   ],
   "source": [
    "%viz --style=\"POLYLINE\" --view=\"Tree\" \"RequirementTest\""
   ]
  },
  {
   "cell_type": "code",
   "execution_count": 11,
   "id": "tribal-steel",
   "metadata": {
    "execution": {
     "iopub.execute_input": "2021-03-26T13:01:07.110553Z",
     "iopub.status.busy": "2021-03-26T13:01:07.109700Z",
     "iopub.status.idle": "2021-03-26T13:01:07.117961Z",
     "shell.execute_reply": "2021-03-26T13:01:07.118381Z"
    }
   },
   "outputs": [
    {
     "data": {
      "image/svg+xml": [
       "<?xml version=\"1.0\" encoding=\"UTF-8\" standalone=\"no\"?><svg xmlns=\"http://www.w3.org/2000/svg\" xmlns:xlink=\"http://www.w3.org/1999/xlink\" contentScriptType=\"application/ecmascript\" contentStyleType=\"text/css\" height=\"12px\" preserveAspectRatio=\"none\" style=\"width:12px;height:12px;\" version=\"1.1\" viewBox=\"0 0 12 12\" width=\"12px\" zoomAndPan=\"magnify\"><defs/><g><!--MD5=[896ac0e7a515d8dd7765a661cb4ee08b]\n",
       "@startuml\r\n",
       "skinparam linetype polyline\r\n",
       "skinparam monochrome true\r\n",
       "skinparam classbackgroundcolor white\r\n",
       "skinparam shadowing false\r\n",
       "skinparam wrapWidth 300\r\n",
       "hide circle\r\n",
       "\r\n",
       "@enduml\r\n",
       "\n",
       "PlantUML version 1.2020.13(Sat Jun 13 12:26:38 UTC 2020)\n",
       "(EPL source distribution)\n",
       "Java Runtime: OpenJDK Runtime Environment\n",
       "JVM: OpenJDK 64-Bit Server VM\n",
       "Default Encoding: UTF-8\n",
       "Language: en\n",
       "Country: null\n",
       "--></g></svg>"
      ]
     },
     "execution_count": 11,
     "metadata": {},
     "output_type": "execute_result"
    }
   ],
   "source": [
    "%viz --style=\"POLYLINE\" --view=\"State\" \"RequirementTest\""
   ]
  },
  {
   "cell_type": "code",
   "execution_count": 12,
   "id": "broken-oliver",
   "metadata": {
    "execution": {
     "iopub.execute_input": "2021-03-26T13:01:07.173130Z",
     "iopub.status.busy": "2021-03-26T13:01:07.172387Z",
     "iopub.status.idle": "2021-03-26T13:01:07.216788Z",
     "shell.execute_reply": "2021-03-26T13:01:07.217130Z"
    }
   },
   "outputs": [
    {
     "data": {
      "image/svg+xml": [
       "<?xml version=\"1.0\" encoding=\"UTF-8\" standalone=\"no\"?><svg xmlns=\"http://www.w3.org/2000/svg\" xmlns:xlink=\"http://www.w3.org/1999/xlink\" contentScriptType=\"application/ecmascript\" contentStyleType=\"text/css\" height=\"367px\" preserveAspectRatio=\"none\" style=\"width:852px;height:367px;\" version=\"1.1\" viewBox=\"0 0 852 367\" width=\"852px\" zoomAndPan=\"magnify\"><defs/><g><!--MD5=[fbc87193dbaf4d95561dea2c320d4a47]\n",
       "cluster E1--><a href=\"psysml:32d2418d-b451-4172-b0c3-f203713ef4c8\" target=\"_top\" title=\"psysml:32d2418d-b451-4172-b0c3-f203713ef4c8\" xlink:actuate=\"onRequest\" xlink:href=\"psysml:32d2418d-b451-4172-b0c3-f203713ef4c8\" xlink:show=\"new\" xlink:title=\"psysml:32d2418d-b451-4172-b0c3-f203713ef4c8\" xlink:type=\"simple\"><polygon fill=\"#FFFFFF\" points=\"16,6,158,6,165,28.2969,830,28.2969,830,355,16,355,16,6\" style=\"stroke: #000000; stroke-width: 1.5;\"/><line style=\"stroke: #000000; stroke-width: 1.5;\" x1=\"16\" x2=\"165\" y1=\"28.2969\" y2=\"28.2969\"/><text fill=\"#000000\" font-family=\"sans-serif\" font-size=\"14\" font-weight=\"bold\" lengthAdjust=\"spacingAndGlyphs\" textLength=\"136\" x=\"20\" y=\"20.9951\">RequirementTest</text></a><!--MD5=[168fadf3d0c3fd93dd5d6da1b1d7ab76]\n",
       "cluster E7--><a href=\"psysml:f6ed6b0e-7205-4bca-ba49-af9a51c8942a\" target=\"_top\" title=\"psysml:f6ed6b0e-7205-4bca-ba49-af9a51c8942a\" xlink:actuate=\"onRequest\" xlink:href=\"psysml:f6ed6b0e-7205-4bca-ba49-af9a51c8942a\" xlink:show=\"new\" xlink:title=\"psysml:f6ed6b0e-7205-4bca-ba49-af9a51c8942a\" xlink:type=\"simple\"><rect fill=\"#FFFFFF\" height=\"209\" id=\"E7\" rx=\"10\" ry=\"10\" style=\"stroke: #383838; stroke-width: 1.5;\" width=\"213\" x=\"593\" y=\"49\"/><rect fill=\"#F8F8F8\" height=\"23.9688\" rx=\"10\" ry=\"10\" style=\"stroke: #F8F8F8; stroke-width: 1.5;\" width=\"213\" x=\"593\" y=\"49\"/><rect fill=\"#F8F8F8\" height=\"10\" style=\"stroke: #F8F8F8; stroke-width: 1.5;\" width=\"213\" x=\"593\" y=\"62.9688\"/><rect fill=\"none\" height=\"209\" id=\"E7\" rx=\"10\" ry=\"10\" style=\"stroke: #383838; stroke-width: 1.5;\" width=\"213\" x=\"593\" y=\"49\"/><text fill=\"#000000\" font-family=\"sans-serif\" font-size=\"12\" lengthAdjust=\"spacingAndGlyphs\" textLength=\"8\" x=\"695.5\" y=\"65.1387\">q</text><line style=\"stroke: #383838; stroke-width: 1.0;\" x1=\"593\" x2=\"806\" y1=\"72.9688\" y2=\"72.9688\"/></a><!--MD5=[55dfccfc6c49c2d10cd1bd2211a6c90c]\n",
       "cluster E8--><a href=\"psysml:dc92139c-b950-485f-92a5-3d6f837d8293\" target=\"_top\" title=\"psysml:dc92139c-b950-485f-92a5-3d6f837d8293\" xlink:actuate=\"onRequest\" xlink:href=\"psysml:dc92139c-b950-485f-92a5-3d6f837d8293\" xlink:show=\"new\" xlink:title=\"psysml:dc92139c-b950-485f-92a5-3d6f837d8293\" xlink:type=\"simple\"><rect fill=\"#FFFFFF\" height=\"126\" id=\"E8\" rx=\"10\" ry=\"10\" style=\"stroke: #383838; stroke-width: 1.5;\" width=\"149\" x=\"625\" y=\"100\"/><rect fill=\"#F8F8F8\" height=\"37.9375\" rx=\"10\" ry=\"10\" style=\"stroke: #F8F8F8; stroke-width: 1.5;\" width=\"149\" x=\"625\" y=\"100\"/><rect fill=\"#F8F8F8\" height=\"10\" style=\"stroke: #F8F8F8; stroke-width: 1.5;\" width=\"149\" x=\"625\" y=\"127.9375\"/><rect fill=\"none\" height=\"126\" id=\"E8\" rx=\"10\" ry=\"10\" style=\"stroke: #383838; stroke-width: 1.5;\" width=\"149\" x=\"625\" y=\"100\"/><text fill=\"#000000\" font-family=\"sans-serif\" font-size=\"12\" font-style=\"italic\" lengthAdjust=\"spacingAndGlyphs\" textLength=\"91\" x=\"654\" y=\"116.1387\">«requirement»</text><text fill=\"#000000\" font-family=\"sans-serif\" font-size=\"12\" lengthAdjust=\"spacingAndGlyphs\" textLength=\"21\" x=\"689\" y=\"130.1074\">r: R</text><line style=\"stroke: #383838; stroke-width: 1.0;\" x1=\"625\" x2=\"774\" y1=\"137.9375\" y2=\"137.9375\"/></a><g id=\"E1.E2\"><a href=\"psysml:a1b28860-c9a8-4d37-931e-31ae0c14540e\" target=\"_top\" title=\"psysml:a1b28860-c9a8-4d37-931e-31ae0c14540e\" xlink:actuate=\"onRequest\" xlink:href=\"psysml:a1b28860-c9a8-4d37-931e-31ae0c14540e\" xlink:show=\"new\" xlink:title=\"psysml:a1b28860-c9a8-4d37-931e-31ae0c14540e\" xlink:type=\"simple\"><rect fill=\"#FFFFFF\" height=\"42.9375\" id=\"E2\" style=\"stroke: #383838; stroke-width: 1.5;\" width=\"109\" x=\"467.5\" y=\"159\"/><rect fill=\"#F8F8F8\" height=\"37.9375\" style=\"stroke: #383838; stroke-width: 1.5;\" width=\"109\" x=\"467.5\" y=\"159\"/><text fill=\"#000000\" font-family=\"sans-serif\" font-size=\"12\" font-style=\"italic\" lengthAdjust=\"spacingAndGlyphs\" textLength=\"102\" x=\"471\" y=\"175.1387\">«constraint def»</text><text fill=\"#000000\" font-family=\"sans-serif\" font-size=\"12\" lengthAdjust=\"spacingAndGlyphs\" textLength=\"8\" x=\"518\" y=\"189.1074\">C</text></a></g><g id=\"E1.E4\"><a href=\"psysml:a2742730-9bdb-48ea-a333-70a51cef011c\" target=\"_top\" title=\"psysml:a2742730-9bdb-48ea-a333-70a51cef011c\" xlink:actuate=\"onRequest\" xlink:href=\"psysml:a2742730-9bdb-48ea-a333-70a51cef011c\" xlink:show=\"new\" xlink:title=\"psysml:a2742730-9bdb-48ea-a333-70a51cef011c\" xlink:type=\"simple\"><rect fill=\"#FFFFFF\" height=\"42.9375\" id=\"E4\" style=\"stroke: #383838; stroke-width: 1.5;\" width=\"122\" x=\"310\" y=\"159\"/><rect fill=\"#F8F8F8\" height=\"37.9375\" style=\"stroke: #383838; stroke-width: 1.5;\" width=\"122\" x=\"310\" y=\"159\"/><text fill=\"#000000\" font-family=\"sans-serif\" font-size=\"12\" font-style=\"italic\" lengthAdjust=\"spacingAndGlyphs\" textLength=\"115\" x=\"313.5\" y=\"175.1387\">«requirement def»</text><text fill=\"#000000\" font-family=\"sans-serif\" font-size=\"12\" lengthAdjust=\"spacingAndGlyphs\" textLength=\"8\" x=\"367\" y=\"189.1074\">R</text></a></g><g id=\"E1.E5\"><a href=\"psysml:ec52d3df-f8e8-4ac5-95c0-bf3447feb8a5\" target=\"_top\" title=\"psysml:ec52d3df-f8e8-4ac5-95c0-bf3447feb8a5\" xlink:actuate=\"onRequest\" xlink:href=\"psysml:ec52d3df-f8e8-4ac5-95c0-bf3447feb8a5\" xlink:show=\"new\" xlink:title=\"psysml:ec52d3df-f8e8-4ac5-95c0-bf3447feb8a5\" xlink:type=\"simple\"><rect fill=\"#FFFFFF\" height=\"42.9375\" id=\"E5\" style=\"stroke: #383838; stroke-width: 1.5;\" width=\"122\" x=\"153\" y=\"159\"/><rect fill=\"#F8F8F8\" height=\"37.9375\" style=\"stroke: #383838; stroke-width: 1.5;\" width=\"122\" x=\"153\" y=\"159\"/><text fill=\"#000000\" font-family=\"sans-serif\" font-size=\"12\" font-style=\"italic\" lengthAdjust=\"spacingAndGlyphs\" textLength=\"115\" x=\"156.5\" y=\"175.1387\">«requirement def»</text><text fill=\"#000000\" font-family=\"sans-serif\" font-size=\"12\" lengthAdjust=\"spacingAndGlyphs\" textLength=\"16\" x=\"206\" y=\"189.1074\">R1</text></a></g><g id=\"E1.E3\"><a href=\"psysml:4f6724e1-6261-429d-9c16-1831387bac9b\" target=\"_top\" title=\"psysml:4f6724e1-6261-429d-9c16-1831387bac9b\" xlink:actuate=\"onRequest\" xlink:href=\"psysml:4f6724e1-6261-429d-9c16-1831387bac9b\" xlink:show=\"new\" xlink:title=\"psysml:4f6724e1-6261-429d-9c16-1831387bac9b\" xlink:type=\"simple\"><rect fill=\"#FFFFFF\" height=\"42.9375\" id=\"E3\" rx=\"10\" ry=\"10\" style=\"stroke: #383838; stroke-width: 1.5;\" width=\"85\" x=\"32.5\" y=\"159\"/><rect fill=\"#F8F8F8\" height=\"37.9375\" rx=\"10\" ry=\"10\" style=\"stroke: #F8F8F8; stroke-width: 1.5;\" width=\"85\" x=\"32.5\" y=\"159\"/><rect fill=\"#F8F8F8\" height=\"10\" style=\"stroke: #F8F8F8; stroke-width: 1.5;\" width=\"85\" x=\"32.5\" y=\"186.9375\"/><rect fill=\"none\" height=\"42.9375\" id=\"E3\" rx=\"10\" ry=\"10\" style=\"stroke: #383838; stroke-width: 1.5;\" width=\"85\" x=\"32.5\" y=\"159\"/><text fill=\"#000000\" font-family=\"sans-serif\" font-size=\"12\" font-style=\"italic\" lengthAdjust=\"spacingAndGlyphs\" textLength=\"78\" x=\"36\" y=\"175.1387\">«constraint»</text><text fill=\"#000000\" font-family=\"sans-serif\" font-size=\"12\" lengthAdjust=\"spacingAndGlyphs\" textLength=\"23\" x=\"63.5\" y=\"189.1074\">c: C</text></a></g><g id=\"E1.E6\"><a href=\"psysml:b85d82e7-3bb2-4c49-b03c-5a9b3c771643\" target=\"_top\" title=\"psysml:b85d82e7-3bb2-4c49-b03c-5a9b3c771643\" xlink:actuate=\"onRequest\" xlink:href=\"psysml:b85d82e7-3bb2-4c49-b03c-5a9b3c771643\" xlink:show=\"new\" xlink:title=\"psysml:b85d82e7-3bb2-4c49-b03c-5a9b3c771643\" xlink:type=\"simple\"><rect fill=\"#FFFFFF\" height=\"40\" id=\"E6\" rx=\"10\" ry=\"10\" style=\"stroke: #383838; stroke-width: 1.5;\" width=\"50\" x=\"608\" y=\"299\"/><rect fill=\"#F8F8F8\" height=\"23.9688\" rx=\"10\" ry=\"10\" style=\"stroke: #F8F8F8; stroke-width: 1.5;\" width=\"50\" x=\"608\" y=\"299\"/><rect fill=\"#F8F8F8\" height=\"10\" style=\"stroke: #F8F8F8; stroke-width: 1.5;\" width=\"50\" x=\"608\" y=\"312.9688\"/><rect fill=\"none\" height=\"40\" id=\"E6\" rx=\"10\" ry=\"10\" style=\"stroke: #383838; stroke-width: 1.5;\" width=\"50\" x=\"608\" y=\"299\"/><text fill=\"#000000\" font-family=\"sans-serif\" font-size=\"12\" lengthAdjust=\"spacingAndGlyphs\" textLength=\"8\" x=\"629\" y=\"315.1387\">p</text></a></g><g id=\"E1.E7.E8.E9\"><a href=\"psysml:aab203df-2e20-42f3-8553-8efa379fea2d\" target=\"_top\" title=\"psysml:aab203df-2e20-42f3-8553-8efa379fea2d\" xlink:actuate=\"onRequest\" xlink:href=\"psysml:aab203df-2e20-42f3-8553-8efa379fea2d\" xlink:show=\"new\" xlink:title=\"psysml:aab203df-2e20-42f3-8553-8efa379fea2d\" xlink:type=\"simple\"><rect fill=\"#FFFFFF\" height=\"42.9375\" id=\"E9\" rx=\"10\" ry=\"10\" style=\"stroke: #383838; stroke-width: 1.5;\" width=\"82\" x=\"668\" y=\"159\"/><rect fill=\"#F8F8F8\" height=\"37.9375\" rx=\"10\" ry=\"10\" style=\"stroke: #F8F8F8; stroke-width: 1.5;\" width=\"82\" x=\"668\" y=\"159\"/><rect fill=\"#F8F8F8\" height=\"10\" style=\"stroke: #F8F8F8; stroke-width: 1.5;\" width=\"82\" x=\"668\" y=\"186.9375\"/><rect fill=\"none\" height=\"42.9375\" id=\"E9\" rx=\"10\" ry=\"10\" style=\"stroke: #383838; stroke-width: 1.5;\" width=\"82\" x=\"668\" y=\"159\"/><text fill=\"#000000\" font-family=\"sans-serif\" font-size=\"12\" font-style=\"italic\" lengthAdjust=\"spacingAndGlyphs\" textLength=\"75\" x=\"671.5\" y=\"175.1387\">«reference»</text><text fill=\"#000000\" font-family=\"sans-serif\" font-size=\"12\" lengthAdjust=\"spacingAndGlyphs\" textLength=\"26\" x=\"696\" y=\"189.1074\">subj</text></a></g><!--MD5=[c5e8897d989ce984f93528998a7150fe]\n",
       "link E8 to E6--><a href=\"psysml:ed40ce07-1501-496b-adae-3639fe39f1e8\" target=\"_top\" title=\"psysml:ed40ce07-1501-496b-adae-3639fe39f1e8\" xlink:actuate=\"onRequest\" xlink:href=\"psysml:ed40ce07-1501-496b-adae-3639fe39f1e8\" xlink:show=\"new\" xlink:title=\"psysml:ed40ce07-1501-496b-adae-3639fe39f1e8\" xlink:type=\"simple\"><path d=\"M633,226.4501 C633,227.1713 633,227.8965 633,228.6252 C633,230.0826 633,231.5543 633,233.0372 C633,236.003 633,239.0136 633,242.0448 C633,248.1072 633,254.2518 633,260.2839 C633,272.3481 633,283.9625 633,293.57 \" fill=\"none\" id=\"E8-&gt;E6\" style=\"stroke: #383838; stroke-width: 1.0; stroke-dasharray: 7.0,7.0;\"/><polygon fill=\"#383838\" points=\"633,298.99,637,289.99,633,293.99,629,289.99,633,298.99\" style=\"stroke: #383838; stroke-width: 1.0;\"/><text fill=\"#000000\" font-family=\"sans-serif\" font-size=\"13\" lengthAdjust=\"spacingAndGlyphs\" textLength=\"57\" x=\"634\" y=\"287.0669\">«satisfy»</text></a><!--MD5=[bd585693d99f4d81a39a914b49c691a3]\n",
       "@startuml\r\n",
       "skinparam ranksep 8\r\n",
       "skinparam rectangle {\r\n",
       " backgroundColor<<block>> LightGreen\r\n",
       "}\r\n",
       "skinparam linetype polyline\r\n",
       "skinparam monochrome true\r\n",
       "skinparam classbackgroundcolor white\r\n",
       "skinparam shadowing false\r\n",
       "skinparam wrapWidth 300\r\n",
       "hide circle\r\n",
       "\r\n",
       "package \"RequirementTest\" as E1  [[psysml:32d2418d-b451-4172-b0c3-f203713ef4c8 ]]  {\r\n",
       "def \"C\" as E2  <<(T,blue)constraint def>> [[psysml:a1b28860-c9a8-4d37-931e-31ae0c14540e ]] \r\n",
       "rec usage \"c: C\" as E3  <<(T,blue)constraint>> [[psysml:4f6724e1-6261-429d-9c16-1831387bac9b ]] {\r\n",
       "}\r\n",
       "def \"R\" as E4  <<(T,blue)requirement def>> [[psysml:a2742730-9bdb-48ea-a333-70a51cef011c ]] \r\n",
       "def \"R1\" as E5  <<(T,blue)requirement def>> [[psysml:ec52d3df-f8e8-4ac5-95c0-bf3447feb8a5 ]] \r\n",
       "rec usage \"p\" as E6  [[psysml:b85d82e7-3bb2-4c49-b03c-5a9b3c771643 ]] {\r\n",
       "}\r\n",
       "rec usage \"q\" as E7  [[psysml:f6ed6b0e-7205-4bca-ba49-af9a51c8942a ]] {\r\n",
       "rec usage \"r: R\" as E8  <<(T,blue)requirement>> [[psysml:dc92139c-b950-485f-92a5-3d6f837d8293 ]] {\r\n",
       "rec usage \"subj\" as E9  <<(T,blue)reference>> [[psysml:aab203df-2e20-42f3-8553-8efa379fea2d ]] {\r\n",
       "}\r\n",
       "}\r\n",
       "}\r\n",
       "E8 ..> E6 [[psysml:ed40ce07-1501-496b-adae-3639fe39f1e8 ]] : <<satisfy>>\r\n",
       "}\r\n",
       "@enduml\r\n",
       "\n",
       "PlantUML version 1.2020.13(Sat Jun 13 12:26:38 UTC 2020)\n",
       "(EPL source distribution)\n",
       "Java Runtime: OpenJDK Runtime Environment\n",
       "JVM: OpenJDK 64-Bit Server VM\n",
       "Default Encoding: UTF-8\n",
       "Language: en\n",
       "Country: null\n",
       "--></g></svg>"
      ]
     },
     "execution_count": 12,
     "metadata": {},
     "output_type": "execute_result"
    }
   ],
   "source": [
    "%viz --style=\"POLYLINE\" --view=\"Interconnection\" \"RequirementTest\""
   ]
  },
  {
   "cell_type": "code",
   "execution_count": 13,
   "id": "loving-anniversary",
   "metadata": {
    "execution": {
     "iopub.execute_input": "2021-03-26T13:01:07.267355Z",
     "iopub.status.busy": "2021-03-26T13:01:07.266957Z",
     "iopub.status.idle": "2021-03-26T13:01:07.287064Z",
     "shell.execute_reply": "2021-03-26T13:01:07.287412Z"
    }
   },
   "outputs": [
    {
     "data": {
      "image/svg+xml": [
       "<?xml version=\"1.0\" encoding=\"UTF-8\" standalone=\"no\"?><svg xmlns=\"http://www.w3.org/2000/svg\" xmlns:xlink=\"http://www.w3.org/1999/xlink\" contentScriptType=\"application/ecmascript\" contentStyleType=\"text/css\" height=\"12px\" preserveAspectRatio=\"none\" style=\"width:12px;height:12px;\" version=\"1.1\" viewBox=\"0 0 12 12\" width=\"12px\" zoomAndPan=\"magnify\"><defs/><g><!--MD5=[97bbf32f66ccd50cbc40d92ea8f5a65e]\n",
       "@startuml\r\n",
       "skinparam ranksep 8\r\n",
       "skinparam linetype polyline\r\n",
       "skinparam monochrome true\r\n",
       "skinparam classbackgroundcolor white\r\n",
       "skinparam shadowing false\r\n",
       "skinparam wrapWidth 300\r\n",
       "hide circle\r\n",
       "\r\n",
       "@enduml\r\n",
       "\n",
       "PlantUML version 1.2020.13(Sat Jun 13 12:26:38 UTC 2020)\n",
       "(EPL source distribution)\n",
       "Java Runtime: OpenJDK Runtime Environment\n",
       "JVM: OpenJDK 64-Bit Server VM\n",
       "Default Encoding: UTF-8\n",
       "Language: en\n",
       "Country: null\n",
       "--></g></svg>"
      ]
     },
     "execution_count": 13,
     "metadata": {},
     "output_type": "execute_result"
    }
   ],
   "source": [
    "%viz --style=\"POLYLINE\" --view=\"Action\" \"RequirementTest\""
   ]
  },
  {
   "cell_type": "code",
   "execution_count": 14,
   "id": "pleasant-yugoslavia",
   "metadata": {
    "execution": {
     "iopub.execute_input": "2021-03-26T13:01:07.338829Z",
     "iopub.status.busy": "2021-03-26T13:01:07.338370Z",
     "iopub.status.idle": "2021-03-26T13:01:07.440349Z",
     "shell.execute_reply": "2021-03-26T13:01:07.439011Z"
    }
   },
   "outputs": [
    {
     "data": {
      "image/svg+xml": [
       "<?xml version=\"1.0\" encoding=\"UTF-8\" standalone=\"no\"?><svg xmlns=\"http://www.w3.org/2000/svg\" xmlns:xlink=\"http://www.w3.org/1999/xlink\" contentScriptType=\"application/ecmascript\" contentStyleType=\"text/css\" height=\"578px\" preserveAspectRatio=\"none\" style=\"width:408px;height:578px;\" version=\"1.1\" viewBox=\"0 0 408 578\" width=\"408px\" zoomAndPan=\"magnify\"><defs/><g><!--MD5=[fbc87193dbaf4d95561dea2c320d4a47]\n",
       "cluster E1--><a href=\"psysml:32d2418d-b451-4172-b0c3-f203713ef4c8\" target=\"_top\" title=\"psysml:32d2418d-b451-4172-b0c3-f203713ef4c8\" xlink:actuate=\"onRequest\" xlink:href=\"psysml:32d2418d-b451-4172-b0c3-f203713ef4c8\" xlink:show=\"new\" xlink:title=\"psysml:32d2418d-b451-4172-b0c3-f203713ef4c8\" xlink:type=\"simple\"><polygon fill=\"#FFFFFF\" points=\"16,6,158,6,165,28.2969,386,28.2969,386,566,16,566,16,6\" style=\"stroke: #000000; stroke-width: 1.5;\"/><line style=\"stroke: #000000; stroke-width: 1.5;\" x1=\"16\" x2=\"165\" y1=\"28.2969\" y2=\"28.2969\"/><text fill=\"#000000\" font-family=\"sans-serif\" font-size=\"14\" font-weight=\"bold\" lengthAdjust=\"spacingAndGlyphs\" textLength=\"136\" x=\"20\" y=\"20.9951\">RequirementTest</text></a><!--MD5=[b4997ac47864f28c2f74865a473b2911]\n",
       "class E2--><a href=\"psysml:a1b28860-c9a8-4d37-931e-31ae0c14540e\" target=\"_top\" title=\"psysml:a1b28860-c9a8-4d37-931e-31ae0c14540e\" xlink:actuate=\"onRequest\" xlink:href=\"psysml:a1b28860-c9a8-4d37-931e-31ae0c14540e\" xlink:show=\"new\" xlink:title=\"psysml:a1b28860-c9a8-4d37-931e-31ae0c14540e\" xlink:type=\"simple\"><rect fill=\"#FFFFFF\" height=\"45.9375\" id=\"E2\" style=\"stroke: #383838; stroke-width: 1.5;\" width=\"104\" x=\"266\" y=\"190\"/><text fill=\"#000000\" font-family=\"sans-serif\" font-size=\"12\" font-style=\"italic\" lengthAdjust=\"spacingAndGlyphs\" textLength=\"102\" x=\"267\" y=\"206.1387\">«constraint def»</text><text fill=\"#000000\" font-family=\"sans-serif\" font-size=\"12\" lengthAdjust=\"spacingAndGlyphs\" textLength=\"8\" x=\"314\" y=\"220.1074\">C</text><line style=\"stroke: #383838; stroke-width: 1.5;\" x1=\"267\" x2=\"369\" y1=\"227.9375\" y2=\"227.9375\"/></a><!--MD5=[09b614a08d8cba4a07c9adeb5e0fee81]\n",
       "class E3--><a href=\"psysml:4f6724e1-6261-429d-9c16-1831387bac9b\" target=\"_top\" title=\"psysml:4f6724e1-6261-429d-9c16-1831387bac9b\" xlink:actuate=\"onRequest\" xlink:href=\"psysml:4f6724e1-6261-429d-9c16-1831387bac9b\" xlink:show=\"new\" xlink:title=\"psysml:4f6724e1-6261-429d-9c16-1831387bac9b\" xlink:type=\"simple\"><rect fill=\"#FFFFFF\" height=\"45.9375\" id=\"E3\" rx=\"10\" ry=\"10\" style=\"stroke: #383838; stroke-width: 1.5;\" width=\"80\" x=\"290\" y=\"62\"/><text fill=\"#000000\" font-family=\"sans-serif\" font-size=\"12\" font-style=\"italic\" lengthAdjust=\"spacingAndGlyphs\" textLength=\"78\" x=\"291\" y=\"78.1387\">«constraint»</text><text fill=\"#000000\" font-family=\"sans-serif\" font-size=\"12\" lengthAdjust=\"spacingAndGlyphs\" textLength=\"23\" x=\"318.5\" y=\"92.1074\">c: C</text><line style=\"stroke: #383838; stroke-width: 1.5;\" x1=\"291\" x2=\"369\" y1=\"99.9375\" y2=\"99.9375\"/></a><!--MD5=[ebbe1d658d1005bcc118a6aa81145e00]\n",
       "class E4--><a href=\"psysml:a2742730-9bdb-48ea-a333-70a51cef011c\" target=\"_top\" title=\"psysml:a2742730-9bdb-48ea-a333-70a51cef011c\" xlink:actuate=\"onRequest\" xlink:href=\"psysml:a2742730-9bdb-48ea-a333-70a51cef011c\" xlink:show=\"new\" xlink:title=\"psysml:a2742730-9bdb-48ea-a333-70a51cef011c\" xlink:type=\"simple\"><rect fill=\"#FFFFFF\" height=\"109.1563\" id=\"E4\" style=\"stroke: #383838; stroke-width: 1.5;\" width=\"117\" x=\"32.5\" y=\"313\"/><text fill=\"#000000\" font-family=\"sans-serif\" font-size=\"12\" font-style=\"italic\" lengthAdjust=\"spacingAndGlyphs\" textLength=\"115\" x=\"33.5\" y=\"329.1387\">«requirement def»</text><text fill=\"#000000\" font-family=\"sans-serif\" font-size=\"12\" lengthAdjust=\"spacingAndGlyphs\" textLength=\"8\" x=\"87\" y=\"343.1074\">R</text><line style=\"stroke: #383838; stroke-width: 1.5;\" x1=\"33.5\" x2=\"148.5\" y1=\"350.9375\" y2=\"350.9375\"/><text fill=\"#000000\" font-family=\"sans-serif\" font-size=\"11\" lengthAdjust=\"spacingAndGlyphs\" textLength=\"0\" x=\"42.5\" y=\"365.1479\"/><line style=\"stroke: #383838; stroke-width: 1.0;\" x1=\"33.5\" x2=\"148.5\" y1=\"371.7422\" y2=\"371.7422\"/><text fill=\"#000000\" font-family=\"sans-serif\" font-size=\"11\" font-weight=\"bold\" lengthAdjust=\"spacingAndGlyphs\" textLength=\"46\" x=\"38.5\" y=\"402.7573\">require</text><text fill=\"#000000\" font-family=\"sans-serif\" font-size=\"11\" lengthAdjust=\"spacingAndGlyphs\" textLength=\"6\" x=\"88.5\" y=\"402.7573\">c</text><text fill=\"#000000\" font-family=\"sans-serif\" font-size=\"11\" font-style=\"italic\" lengthAdjust=\"spacingAndGlyphs\" textLength=\"46\" x=\"38.5\" y=\"415.562\">assume</text><text fill=\"#000000\" font-family=\"sans-serif\" font-size=\"11\" lengthAdjust=\"spacingAndGlyphs\" textLength=\"29\" x=\"88.5\" y=\"415.562\">c1: C</text><line style=\"stroke: #383838; stroke-width: 1.0;\" x1=\"33.5\" x2=\"59\" y1=\"386.1445\" y2=\"386.1445\"/><text fill=\"#000000\" font-family=\"sans-serif\" font-size=\"11\" lengthAdjust=\"spacingAndGlyphs\" textLength=\"64\" x=\"59\" y=\"389.4526\">constraints</text><line style=\"stroke: #383838; stroke-width: 1.0;\" x1=\"123\" x2=\"148.5\" y1=\"386.1445\" y2=\"386.1445\"/></a><!--MD5=[270fce915f116d4de14055a7c1d9a0f3]\n",
       "class E5--><a href=\"psysml:56458fbc-ce11-45ea-8fa2-2092e0cfc05c\" target=\"_top\" title=\"psysml:56458fbc-ce11-45ea-8fa2-2092e0cfc05c\" xlink:actuate=\"onRequest\" xlink:href=\"psysml:56458fbc-ce11-45ea-8fa2-2092e0cfc05c\" xlink:show=\"new\" xlink:title=\"psysml:56458fbc-ce11-45ea-8fa2-2092e0cfc05c\" xlink:type=\"simple\"><rect fill=\"#FFFFFF\" height=\"66.7422\" id=\"E5\" style=\"stroke: #383838; stroke-width: 1.5;\" width=\"117\" x=\"32.5\" y=\"483\"/><text fill=\"#000000\" font-family=\"sans-serif\" font-size=\"12\" font-style=\"italic\" lengthAdjust=\"spacingAndGlyphs\" textLength=\"115\" x=\"33.5\" y=\"499.1387\">«requirement def»</text><text fill=\"#000000\" font-family=\"sans-serif\" font-size=\"12\" lengthAdjust=\"spacingAndGlyphs\" textLength=\"5\" x=\"78\" y=\"513.1074\">[</text><text fill=\"#000000\" font-family=\"sans-serif\" font-size=\"12\" font-weight=\"bold\" lengthAdjust=\"spacingAndGlyphs\" textLength=\"8\" x=\"83\" y=\"513.1074\">1</text><text fill=\"#000000\" font-family=\"sans-serif\" font-size=\"12\" lengthAdjust=\"spacingAndGlyphs\" textLength=\"17\" x=\"91\" y=\"513.1074\">] A</text><line style=\"stroke: #383838; stroke-width: 1.5;\" x1=\"33.5\" x2=\"148.5\" y1=\"520.9375\" y2=\"520.9375\"/><text fill=\"#000000\" font-family=\"sans-serif\" font-size=\"11\" lengthAdjust=\"spacingAndGlyphs\" textLength=\"24\" x=\"38.5\" y=\"535.1479\">Text</text><line style=\"stroke: #383838; stroke-width: 1.0;\" x1=\"33.5\" x2=\"148.5\" y1=\"541.7422\" y2=\"541.7422\"/></a><!--MD5=[b9389687b975829384b498ac4b7476b2]\n",
       "class E8--><a href=\"psysml:72b41e7b-9298-4fd0-92ac-738cc777b35a\" target=\"_top\" title=\"psysml:72b41e7b-9298-4fd0-92ac-738cc777b35a\" xlink:actuate=\"onRequest\" xlink:href=\"psysml:72b41e7b-9298-4fd0-92ac-738cc777b35a\" xlink:show=\"new\" xlink:title=\"psysml:72b41e7b-9298-4fd0-92ac-738cc777b35a\" xlink:type=\"simple\"><rect fill=\"#FFFFFF\" height=\"45.9375\" id=\"E8\" rx=\"10\" ry=\"10\" style=\"stroke: #383838; stroke-width: 1.5;\" width=\"93\" x=\"184.5\" y=\"493.5\"/><text fill=\"#000000\" font-family=\"sans-serif\" font-size=\"12\" font-style=\"italic\" lengthAdjust=\"spacingAndGlyphs\" textLength=\"91\" x=\"185.5\" y=\"509.6387\">«requirement»</text><text fill=\"#000000\" font-family=\"sans-serif\" font-size=\"12\" lengthAdjust=\"spacingAndGlyphs\" text-decoration=\"line-through\" textLength=\"51\" x=\"205.5\" y=\"523.6074\">noname</text><line style=\"stroke: #383838; stroke-width: 1.5;\" x1=\"185.5\" x2=\"276.5\" y1=\"531.4375\" y2=\"531.4375\"/></a><!--MD5=[fd4143e9d270a159db93a4ea2a975926]\n",
       "class E9--><a href=\"psysml:ec52d3df-f8e8-4ac5-95c0-bf3447feb8a5\" target=\"_top\" title=\"psysml:ec52d3df-f8e8-4ac5-95c0-bf3447feb8a5\" xlink:actuate=\"onRequest\" xlink:href=\"psysml:ec52d3df-f8e8-4ac5-95c0-bf3447feb8a5\" xlink:show=\"new\" xlink:title=\"psysml:ec52d3df-f8e8-4ac5-95c0-bf3447feb8a5\" xlink:type=\"simple\"><rect fill=\"#FFFFFF\" height=\"88.3516\" id=\"E9\" style=\"stroke: #383838; stroke-width: 1.5;\" width=\"145\" x=\"109.5\" y=\"41\"/><text fill=\"#000000\" font-family=\"sans-serif\" font-size=\"12\" font-style=\"italic\" lengthAdjust=\"spacingAndGlyphs\" textLength=\"115\" x=\"124.5\" y=\"57.1387\">«requirement def»</text><text fill=\"#000000\" font-family=\"sans-serif\" font-size=\"12\" lengthAdjust=\"spacingAndGlyphs\" textLength=\"16\" x=\"174\" y=\"71.1074\">R1</text><line style=\"stroke: #383838; stroke-width: 1.5;\" x1=\"110.5\" x2=\"253.5\" y1=\"78.9375\" y2=\"78.9375\"/><text fill=\"#000000\" font-family=\"sans-serif\" font-size=\"11\" font-weight=\"bold\" lengthAdjust=\"spacingAndGlyphs\" textLength=\"46\" x=\"115.5\" y=\"109.9526\">require</text><text fill=\"#000000\" font-family=\"sans-serif\" font-size=\"11\" lengthAdjust=\"spacingAndGlyphs\" textLength=\"13\" x=\"165.5\" y=\"109.9526\">c1</text><text fill=\"#000000\" font-family=\"sans-serif\" font-size=\"11\" font-style=\"italic\" lengthAdjust=\"spacingAndGlyphs\" textLength=\"133\" x=\"115.5\" y=\"122.7573\">:&gt;&gt;RequirementTest::c</text><line style=\"stroke: #383838; stroke-width: 1.0;\" x1=\"110.5\" x2=\"150\" y1=\"93.3398\" y2=\"93.3398\"/><text fill=\"#000000\" font-family=\"sans-serif\" font-size=\"11\" lengthAdjust=\"spacingAndGlyphs\" textLength=\"64\" x=\"150\" y=\"96.6479\">constraints</text><line style=\"stroke: #383838; stroke-width: 1.0;\" x1=\"214\" x2=\"253.5\" y1=\"93.3398\" y2=\"93.3398\"/></a><!--MD5=[1dd1bfd58a279cf63c5f349dbc8fc6a1]\n",
       "class E11--><a href=\"psysml:b85d82e7-3bb2-4c49-b03c-5a9b3c771643\" target=\"_top\" title=\"psysml:b85d82e7-3bb2-4c49-b03c-5a9b3c771643\" xlink:actuate=\"onRequest\" xlink:href=\"psysml:b85d82e7-3bb2-4c49-b03c-5a9b3c771643\" xlink:show=\"new\" xlink:title=\"psysml:b85d82e7-3bb2-4c49-b03c-5a9b3c771643\" xlink:type=\"simple\"><rect fill=\"#FFFFFF\" height=\"45.9375\" id=\"E11\" rx=\"10\" ry=\"10\" style=\"stroke: #383838; stroke-width: 1.5;\" width=\"42\" x=\"185\" y=\"344.5\"/><text fill=\"#000000\" font-family=\"sans-serif\" font-size=\"12\" font-style=\"italic\" lengthAdjust=\"spacingAndGlyphs\" textLength=\"40\" x=\"186\" y=\"360.6387\">«part»</text><text fill=\"#000000\" font-family=\"sans-serif\" font-size=\"12\" lengthAdjust=\"spacingAndGlyphs\" textLength=\"8\" x=\"202\" y=\"374.6074\">p</text><line style=\"stroke: #383838; stroke-width: 1.5;\" x1=\"186\" x2=\"226\" y1=\"382.4375\" y2=\"382.4375\"/></a><!--MD5=[49a0ec8f00dab7302a31f22d0f0fe584]\n",
       "class E12--><a href=\"psysml:f6ed6b0e-7205-4bca-ba49-af9a51c8942a\" target=\"_top\" title=\"psysml:f6ed6b0e-7205-4bca-ba49-af9a51c8942a\" xlink:actuate=\"onRequest\" xlink:href=\"psysml:f6ed6b0e-7205-4bca-ba49-af9a51c8942a\" xlink:show=\"new\" xlink:title=\"psysml:f6ed6b0e-7205-4bca-ba49-af9a51c8942a\" xlink:type=\"simple\"><rect fill=\"#FFFFFF\" height=\"45.9375\" id=\"E12\" rx=\"10\" ry=\"10\" style=\"stroke: #383838; stroke-width: 1.5;\" width=\"42\" x=\"32\" y=\"62\"/><text fill=\"#000000\" font-family=\"sans-serif\" font-size=\"12\" font-style=\"italic\" lengthAdjust=\"spacingAndGlyphs\" textLength=\"40\" x=\"33\" y=\"78.1387\">«part»</text><text fill=\"#000000\" font-family=\"sans-serif\" font-size=\"12\" lengthAdjust=\"spacingAndGlyphs\" textLength=\"8\" x=\"49\" y=\"92.1074\">q</text><line style=\"stroke: #383838; stroke-width: 1.5;\" x1=\"33\" x2=\"73\" y1=\"99.9375\" y2=\"99.9375\"/></a><!--MD5=[ee3c913d1a06f366521f9ef512b67efe]\n",
       "class E13--><a href=\"psysml:dc92139c-b950-485f-92a5-3d6f837d8293\" target=\"_top\" title=\"psysml:dc92139c-b950-485f-92a5-3d6f837d8293\" xlink:actuate=\"onRequest\" xlink:href=\"psysml:dc92139c-b950-485f-92a5-3d6f837d8293\" xlink:show=\"new\" xlink:title=\"psysml:dc92139c-b950-485f-92a5-3d6f837d8293\" xlink:type=\"simple\"><rect fill=\"#FFFFFF\" height=\"45.9375\" id=\"E13\" rx=\"10\" ry=\"10\" style=\"stroke: #383838; stroke-width: 1.5;\" width=\"93\" x=\"44.5\" y=\"190\"/><text fill=\"#000000\" font-family=\"sans-serif\" font-size=\"12\" font-style=\"italic\" lengthAdjust=\"spacingAndGlyphs\" textLength=\"91\" x=\"45.5\" y=\"206.1387\">«requirement»</text><text fill=\"#000000\" font-family=\"sans-serif\" font-size=\"12\" lengthAdjust=\"spacingAndGlyphs\" textLength=\"21\" x=\"80.5\" y=\"220.1074\">r: R</text><line style=\"stroke: #383838; stroke-width: 1.5;\" x1=\"45.5\" x2=\"136.5\" y1=\"227.9375\" y2=\"227.9375\"/></a><!--MD5=[05d275557350bfb9b23a4ef7222b4c39]\n",
       "link E3 to E2--><a href=\"psysml:9201001b-4e3f-46f0-8224-89e70f802e39\" target=\"_top\" title=\"psysml:9201001b-4e3f-46f0-8224-89e70f802e39\" xlink:actuate=\"onRequest\" xlink:href=\"psysml:9201001b-4e3f-46f0-8224-89e70f802e39\" xlink:show=\"new\" xlink:title=\"psysml:9201001b-4e3f-46f0-8224-89e70f802e39\" xlink:type=\"simple\"><path d=\"M327.88,108.24 C326.26,125.24 323.98,149.19 322.02,169.79 \" fill=\"none\" id=\"E3-&gt;E2\" style=\"stroke: #383838; stroke-width: 1.0;\"/><polygon fill=\"#FFFFFF\" points=\"320.1,189.99,314.9362,170.411,328.8729,171.7407,320.1,189.99\" style=\"stroke: #383838; stroke-width: 1.0;\"/><ellipse cx=\"317.4685\" cy=\"164.9268\" fill=\"#383838\" rx=\"2\" ry=\"2\" style=\"stroke: #383838; stroke-width: 1.0;\"/><ellipse cx=\"327.4233\" cy=\"165.8765\" fill=\"#383838\" rx=\"2\" ry=\"2\" style=\"stroke: #383838; stroke-width: 1.0;\"/></a><!--MD5=[62aa6af11e70f752912c1cb0466f24f7]\n",
       "reverse link E4 to E5--><a href=\"psysml:56458fbc-ce11-45ea-8fa2-2092e0cfc05c\" target=\"_top\" title=\"psysml:56458fbc-ce11-45ea-8fa2-2092e0cfc05c\" xlink:actuate=\"onRequest\" xlink:href=\"psysml:56458fbc-ce11-45ea-8fa2-2092e0cfc05c\" xlink:show=\"new\" xlink:title=\"psysml:56458fbc-ce11-45ea-8fa2-2092e0cfc05c\" xlink:type=\"simple\"><path d=\"M91,437.45 C91,453.34 91,469.51 91,482.98 \" fill=\"none\" id=\"E4&lt;-E5\" style=\"stroke: #383838; stroke-width: 1.0;\"/><ellipse cx=\"91\" cy=\"430.4\" fill=\"#FFFFFF\" rx=\"8\" ry=\"8\" style=\"stroke: #383838; stroke-width: 1.0;\"/><line style=\"stroke: #383838; stroke-width: 1.0;\" x1=\"91\" x2=\"91\" y1=\"438.4\" y2=\"422.4\"/><line style=\"stroke: #383838; stroke-width: 1.0;\" x1=\"83\" x2=\"99\" y1=\"430.4\" y2=\"430.4\"/></a><!--MD5=[c6fc7cdb0cabde04948078cf183fa696]\n",
       "reverse link E4 to E8--><a href=\"psysml:72b41e7b-9298-4fd0-92ac-738cc777b35a\" target=\"_top\" title=\"psysml:72b41e7b-9298-4fd0-92ac-738cc777b35a\" xlink:actuate=\"onRequest\" xlink:href=\"psysml:72b41e7b-9298-4fd0-92ac-738cc777b35a\" xlink:show=\"new\" xlink:title=\"psysml:72b41e7b-9298-4fd0-92ac-738cc777b35a\" xlink:type=\"simple\"><path d=\"M151.51,432.04 C172.42,453.99 194.47,477.14 210.03,493.48 \" fill=\"none\" id=\"E4&lt;-E8\" style=\"stroke: #383838; stroke-width: 1.0;\"/><polygon fill=\"#383838\" points=\"142.34,422.4,143.5779,429.5041,150.6116,431.0937,149.3737,423.9897,142.34,422.4\" style=\"stroke: #383838; stroke-width: 1.0;\"/></a><!--MD5=[062ed86c389d1a88f61c6380d0491e17]\n",
       "reverse link E12 to E13--><a href=\"psysml:dc92139c-b950-485f-92a5-3d6f837d8293\" target=\"_top\" title=\"psysml:dc92139c-b950-485f-92a5-3d6f837d8293\" xlink:actuate=\"onRequest\" xlink:href=\"psysml:dc92139c-b950-485f-92a5-3d6f837d8293\" xlink:show=\"new\" xlink:title=\"psysml:dc92139c-b950-485f-92a5-3d6f837d8293\" xlink:type=\"simple\"><path d=\"M63.49,120.8 C70.17,142.92 78.6,170.89 84.36,189.99 \" fill=\"none\" id=\"E12&lt;-E13\" style=\"stroke: #383838; stroke-width: 1.0;\"/><polygon fill=\"#383838\" points=\"59.71,108.24,57.6129,115.1394,63.1751,119.7288,65.2722,112.8294,59.71,108.24\" style=\"stroke: #383838; stroke-width: 1.0;\"/></a><!--MD5=[017847e01ff9a8bd19f247411074f987]\n",
       "link E13 to E4--><a href=\"psysml:84833459-b0b4-497f-8a66-9d75104fb430\" target=\"_top\" title=\"psysml:84833459-b0b4-497f-8a66-9d75104fb430\" xlink:actuate=\"onRequest\" xlink:href=\"psysml:84833459-b0b4-497f-8a66-9d75104fb430\" xlink:show=\"new\" xlink:title=\"psysml:84833459-b0b4-497f-8a66-9d75104fb430\" xlink:type=\"simple\"><path d=\"M91,236.17 C91,251.17 91,271.91 91,292.44 \" fill=\"none\" id=\"E13-&gt;E4\" style=\"stroke: #383838; stroke-width: 1.0;\"/><polygon fill=\"#FFFFFF\" points=\"91,312.68,84,293.68,98,293.68,91,312.68\" style=\"stroke: #383838; stroke-width: 1.0;\"/><ellipse cx=\"86\" cy=\"287.98\" fill=\"#383838\" rx=\"2\" ry=\"2\" style=\"stroke: #383838; stroke-width: 1.0;\"/><ellipse cx=\"96\" cy=\"287.98\" fill=\"#383838\" rx=\"2\" ry=\"2\" style=\"stroke: #383838; stroke-width: 1.0;\"/></a><!--MD5=[2cfe899c895462254056921bfb67315f]\n",
       "link E13 to E11--><a href=\"psysml:ed40ce07-1501-496b-adae-3639fe39f1e8\" target=\"_top\" title=\"psysml:ed40ce07-1501-496b-adae-3639fe39f1e8\" xlink:actuate=\"onRequest\" xlink:href=\"psysml:ed40ce07-1501-496b-adae-3639fe39f1e8\" xlink:show=\"new\" xlink:title=\"psysml:ed40ce07-1501-496b-adae-3639fe39f1e8\" xlink:type=\"simple\"><path d=\"M108.25,236.46 C130.67,265.67 167,313 167,313 C167,313 176.99,326.71 186.86,340.25 \" fill=\"none\" id=\"E13-&gt;E11\" style=\"stroke: #383838; stroke-width: 1.0; stroke-dasharray: 7.0,7.0;\"/><polygon fill=\"#383838\" points=\"189.91,344.43,187.8474,334.7996,186.9674,340.3876,181.3794,339.5076,189.91,344.43\" style=\"stroke: #383838; stroke-width: 1.0;\"/><text fill=\"#000000\" font-family=\"sans-serif\" font-size=\"13\" lengthAdjust=\"spacingAndGlyphs\" textLength=\"57\" x=\"143\" y=\"279.0669\">«satisfy»</text></a><!--MD5=[dcbd7cb514dfa56e0b6360d26f1c916c]\n",
       "@startuml\r\n",
       "skinparam linetype polyline\r\n",
       "skinparam monochrome true\r\n",
       "skinparam classbackgroundcolor white\r\n",
       "skinparam shadowing false\r\n",
       "skinparam wrapWidth 300\r\n",
       "hide circle\r\n",
       "\r\n",
       "package \"RequirementTest\" as E1  [[psysml:32d2418d-b451-4172-b0c3-f203713ef4c8 ]]  {\r\n",
       "comp def \"C\" as E2  <<(T,blue)constraint def>> [[psysml:a1b28860-c9a8-4d37-931e-31ae0c14540e ]] {\r\n",
       "}\r\n",
       "comp usage \"c: C\" as E3  <<(T,blue)constraint>> [[psysml:4f6724e1-6261-429d-9c16-1831387bac9b ]] {\r\n",
       "}\r\n",
       "comp def \"R\" as E4  <<(T,blue)requirement def>> [[psysml:a2742730-9bdb-48ea-a333-70a51cef011c ]] {\r\n",
       "\r\n",
       "- -\r\n",
       "- - constraints - -\r\n",
       "<b>require</b> c\r\n",
       "<i>assume</i> c1: C\r\n",
       "}\r\n",
       "comp def \" [<b>1</b>] A\" as E5  <<(T,blue)requirement def>> [[psysml:56458fbc-ce11-45ea-8fa2-2092e0cfc05c ]] {\r\n",
       "Text\r\n",
       "- -\r\n",
       "}\r\n",
       "comp usage \"<s>noname</s>\" as E8  <<(T,blue)requirement>> [[psysml:72b41e7b-9298-4fd0-92ac-738cc777b35a ]] {\r\n",
       "}\r\n",
       "comp def \"R1\" as E9  <<(T,blue)requirement def>> [[psysml:ec52d3df-f8e8-4ac5-95c0-bf3447feb8a5 ]] {\r\n",
       "- - constraints - -\r\n",
       "<b>require</b> c1\\n//:>>RequirementTest::c// \r\n",
       "}\r\n",
       "comp usage \"p\" as E11  <<(T,blue)part>> [[psysml:b85d82e7-3bb2-4c49-b03c-5a9b3c771643 ]] {\r\n",
       "}\r\n",
       "comp usage \"q\" as E12  <<(T,blue)part>> [[psysml:f6ed6b0e-7205-4bca-ba49-af9a51c8942a ]] {\r\n",
       "}\r\n",
       "comp usage \"r: R\" as E13  <<(T,blue)requirement>> [[psysml:dc92139c-b950-485f-92a5-3d6f837d8293 ]] {\r\n",
       "}\r\n",
       "E3 - -:|> E2 [[psysml:9201001b-4e3f-46f0-8224-89e70f802e39 ]] \r\n",
       "E4 +- - E5 [[psysml:56458fbc-ce11-45ea-8fa2-2092e0cfc05c ]] \r\n",
       "E4 *- - E8 [[psysml:72b41e7b-9298-4fd0-92ac-738cc777b35a ]] \r\n",
       "E12 *- - E13 [[psysml:dc92139c-b950-485f-92a5-3d6f837d8293 ]] \r\n",
       "E13 - -:|> E4 [[psysml:84833459-b0b4-497f-8a66-9d75104fb430 ]] \r\n",
       "E13 ..> E11 [[psysml:ed40ce07-1501-496b-adae-3639fe39f1e8 ]] : <<satisfy>>\r\n",
       "}\r\n",
       "@enduml\r\n",
       "\n",
       "PlantUML version 1.2020.13(Sat Jun 13 12:26:38 UTC 2020)\n",
       "(EPL source distribution)\n",
       "Java Runtime: OpenJDK Runtime Environment\n",
       "JVM: OpenJDK 64-Bit Server VM\n",
       "Default Encoding: UTF-8\n",
       "Language: en\n",
       "Country: null\n",
       "--></g></svg>"
      ]
     },
     "execution_count": 14,
     "metadata": {},
     "output_type": "execute_result"
    }
   ],
   "source": [
    "%viz --style=\"POLYLINE\" --view=\"Sequence\" \"RequirementTest\""
   ]
  },
  {
   "cell_type": "code",
   "execution_count": 15,
   "id": "voluntary-football",
   "metadata": {
    "execution": {
     "iopub.execute_input": "2021-03-26T13:01:07.492789Z",
     "iopub.status.busy": "2021-03-26T13:01:07.491992Z",
     "iopub.status.idle": "2021-03-26T13:01:07.596652Z",
     "shell.execute_reply": "2021-03-26T13:01:07.595157Z"
    }
   },
   "outputs": [
    {
     "data": {
      "image/svg+xml": [
       "<?xml version=\"1.0\" encoding=\"UTF-8\" standalone=\"no\"?><svg xmlns=\"http://www.w3.org/2000/svg\" xmlns:xlink=\"http://www.w3.org/1999/xlink\" contentScriptType=\"application/ecmascript\" contentStyleType=\"text/css\" height=\"578px\" preserveAspectRatio=\"none\" style=\"width:408px;height:578px;\" version=\"1.1\" viewBox=\"0 0 408 578\" width=\"408px\" zoomAndPan=\"magnify\"><defs/><g><!--MD5=[fbc87193dbaf4d95561dea2c320d4a47]\n",
       "cluster E1--><a href=\"psysml:32d2418d-b451-4172-b0c3-f203713ef4c8\" target=\"_top\" title=\"psysml:32d2418d-b451-4172-b0c3-f203713ef4c8\" xlink:actuate=\"onRequest\" xlink:href=\"psysml:32d2418d-b451-4172-b0c3-f203713ef4c8\" xlink:show=\"new\" xlink:title=\"psysml:32d2418d-b451-4172-b0c3-f203713ef4c8\" xlink:type=\"simple\"><polygon fill=\"#FFFFFF\" points=\"16,6,158,6,165,28.2969,386,28.2969,386,566,16,566,16,6\" style=\"stroke: #000000; stroke-width: 1.5;\"/><line style=\"stroke: #000000; stroke-width: 1.5;\" x1=\"16\" x2=\"165\" y1=\"28.2969\" y2=\"28.2969\"/><text fill=\"#000000\" font-family=\"sans-serif\" font-size=\"14\" font-weight=\"bold\" lengthAdjust=\"spacingAndGlyphs\" textLength=\"136\" x=\"20\" y=\"20.9951\">RequirementTest</text></a><!--MD5=[b4997ac47864f28c2f74865a473b2911]\n",
       "class E2--><a href=\"psysml:a1b28860-c9a8-4d37-931e-31ae0c14540e\" target=\"_top\" title=\"psysml:a1b28860-c9a8-4d37-931e-31ae0c14540e\" xlink:actuate=\"onRequest\" xlink:href=\"psysml:a1b28860-c9a8-4d37-931e-31ae0c14540e\" xlink:show=\"new\" xlink:title=\"psysml:a1b28860-c9a8-4d37-931e-31ae0c14540e\" xlink:type=\"simple\"><rect fill=\"#FFFFFF\" height=\"45.9375\" id=\"E2\" style=\"stroke: #383838; stroke-width: 1.5;\" width=\"104\" x=\"266\" y=\"190\"/><text fill=\"#000000\" font-family=\"sans-serif\" font-size=\"12\" font-style=\"italic\" lengthAdjust=\"spacingAndGlyphs\" textLength=\"102\" x=\"267\" y=\"206.1387\">«constraint def»</text><text fill=\"#000000\" font-family=\"sans-serif\" font-size=\"12\" lengthAdjust=\"spacingAndGlyphs\" textLength=\"8\" x=\"314\" y=\"220.1074\">C</text><line style=\"stroke: #383838; stroke-width: 1.5;\" x1=\"267\" x2=\"369\" y1=\"227.9375\" y2=\"227.9375\"/></a><!--MD5=[09b614a08d8cba4a07c9adeb5e0fee81]\n",
       "class E3--><a href=\"psysml:4f6724e1-6261-429d-9c16-1831387bac9b\" target=\"_top\" title=\"psysml:4f6724e1-6261-429d-9c16-1831387bac9b\" xlink:actuate=\"onRequest\" xlink:href=\"psysml:4f6724e1-6261-429d-9c16-1831387bac9b\" xlink:show=\"new\" xlink:title=\"psysml:4f6724e1-6261-429d-9c16-1831387bac9b\" xlink:type=\"simple\"><rect fill=\"#FFFFFF\" height=\"45.9375\" id=\"E3\" rx=\"10\" ry=\"10\" style=\"stroke: #383838; stroke-width: 1.5;\" width=\"80\" x=\"290\" y=\"62\"/><text fill=\"#000000\" font-family=\"sans-serif\" font-size=\"12\" font-style=\"italic\" lengthAdjust=\"spacingAndGlyphs\" textLength=\"78\" x=\"291\" y=\"78.1387\">«constraint»</text><text fill=\"#000000\" font-family=\"sans-serif\" font-size=\"12\" lengthAdjust=\"spacingAndGlyphs\" textLength=\"23\" x=\"318.5\" y=\"92.1074\">c: C</text><line style=\"stroke: #383838; stroke-width: 1.5;\" x1=\"291\" x2=\"369\" y1=\"99.9375\" y2=\"99.9375\"/></a><!--MD5=[ebbe1d658d1005bcc118a6aa81145e00]\n",
       "class E4--><a href=\"psysml:a2742730-9bdb-48ea-a333-70a51cef011c\" target=\"_top\" title=\"psysml:a2742730-9bdb-48ea-a333-70a51cef011c\" xlink:actuate=\"onRequest\" xlink:href=\"psysml:a2742730-9bdb-48ea-a333-70a51cef011c\" xlink:show=\"new\" xlink:title=\"psysml:a2742730-9bdb-48ea-a333-70a51cef011c\" xlink:type=\"simple\"><rect fill=\"#FFFFFF\" height=\"109.1563\" id=\"E4\" style=\"stroke: #383838; stroke-width: 1.5;\" width=\"117\" x=\"32.5\" y=\"313\"/><text fill=\"#000000\" font-family=\"sans-serif\" font-size=\"12\" font-style=\"italic\" lengthAdjust=\"spacingAndGlyphs\" textLength=\"115\" x=\"33.5\" y=\"329.1387\">«requirement def»</text><text fill=\"#000000\" font-family=\"sans-serif\" font-size=\"12\" lengthAdjust=\"spacingAndGlyphs\" textLength=\"8\" x=\"87\" y=\"343.1074\">R</text><line style=\"stroke: #383838; stroke-width: 1.5;\" x1=\"33.5\" x2=\"148.5\" y1=\"350.9375\" y2=\"350.9375\"/><text fill=\"#000000\" font-family=\"sans-serif\" font-size=\"11\" lengthAdjust=\"spacingAndGlyphs\" textLength=\"0\" x=\"42.5\" y=\"365.1479\"/><line style=\"stroke: #383838; stroke-width: 1.0;\" x1=\"33.5\" x2=\"148.5\" y1=\"371.7422\" y2=\"371.7422\"/><text fill=\"#000000\" font-family=\"sans-serif\" font-size=\"11\" font-weight=\"bold\" lengthAdjust=\"spacingAndGlyphs\" textLength=\"46\" x=\"38.5\" y=\"402.7573\">require</text><text fill=\"#000000\" font-family=\"sans-serif\" font-size=\"11\" lengthAdjust=\"spacingAndGlyphs\" textLength=\"6\" x=\"88.5\" y=\"402.7573\">c</text><text fill=\"#000000\" font-family=\"sans-serif\" font-size=\"11\" font-style=\"italic\" lengthAdjust=\"spacingAndGlyphs\" textLength=\"46\" x=\"38.5\" y=\"415.562\">assume</text><text fill=\"#000000\" font-family=\"sans-serif\" font-size=\"11\" lengthAdjust=\"spacingAndGlyphs\" textLength=\"29\" x=\"88.5\" y=\"415.562\">c1: C</text><line style=\"stroke: #383838; stroke-width: 1.0;\" x1=\"33.5\" x2=\"59\" y1=\"386.1445\" y2=\"386.1445\"/><text fill=\"#000000\" font-family=\"sans-serif\" font-size=\"11\" lengthAdjust=\"spacingAndGlyphs\" textLength=\"64\" x=\"59\" y=\"389.4526\">constraints</text><line style=\"stroke: #383838; stroke-width: 1.0;\" x1=\"123\" x2=\"148.5\" y1=\"386.1445\" y2=\"386.1445\"/></a><!--MD5=[270fce915f116d4de14055a7c1d9a0f3]\n",
       "class E5--><a href=\"psysml:56458fbc-ce11-45ea-8fa2-2092e0cfc05c\" target=\"_top\" title=\"psysml:56458fbc-ce11-45ea-8fa2-2092e0cfc05c\" xlink:actuate=\"onRequest\" xlink:href=\"psysml:56458fbc-ce11-45ea-8fa2-2092e0cfc05c\" xlink:show=\"new\" xlink:title=\"psysml:56458fbc-ce11-45ea-8fa2-2092e0cfc05c\" xlink:type=\"simple\"><rect fill=\"#FFFFFF\" height=\"66.7422\" id=\"E5\" style=\"stroke: #383838; stroke-width: 1.5;\" width=\"117\" x=\"32.5\" y=\"483\"/><text fill=\"#000000\" font-family=\"sans-serif\" font-size=\"12\" font-style=\"italic\" lengthAdjust=\"spacingAndGlyphs\" textLength=\"115\" x=\"33.5\" y=\"499.1387\">«requirement def»</text><text fill=\"#000000\" font-family=\"sans-serif\" font-size=\"12\" lengthAdjust=\"spacingAndGlyphs\" textLength=\"5\" x=\"78\" y=\"513.1074\">[</text><text fill=\"#000000\" font-family=\"sans-serif\" font-size=\"12\" font-weight=\"bold\" lengthAdjust=\"spacingAndGlyphs\" textLength=\"8\" x=\"83\" y=\"513.1074\">1</text><text fill=\"#000000\" font-family=\"sans-serif\" font-size=\"12\" lengthAdjust=\"spacingAndGlyphs\" textLength=\"17\" x=\"91\" y=\"513.1074\">] A</text><line style=\"stroke: #383838; stroke-width: 1.5;\" x1=\"33.5\" x2=\"148.5\" y1=\"520.9375\" y2=\"520.9375\"/><text fill=\"#000000\" font-family=\"sans-serif\" font-size=\"11\" lengthAdjust=\"spacingAndGlyphs\" textLength=\"24\" x=\"38.5\" y=\"535.1479\">Text</text><line style=\"stroke: #383838; stroke-width: 1.0;\" x1=\"33.5\" x2=\"148.5\" y1=\"541.7422\" y2=\"541.7422\"/></a><!--MD5=[b9389687b975829384b498ac4b7476b2]\n",
       "class E8--><a href=\"psysml:72b41e7b-9298-4fd0-92ac-738cc777b35a\" target=\"_top\" title=\"psysml:72b41e7b-9298-4fd0-92ac-738cc777b35a\" xlink:actuate=\"onRequest\" xlink:href=\"psysml:72b41e7b-9298-4fd0-92ac-738cc777b35a\" xlink:show=\"new\" xlink:title=\"psysml:72b41e7b-9298-4fd0-92ac-738cc777b35a\" xlink:type=\"simple\"><rect fill=\"#FFFFFF\" height=\"45.9375\" id=\"E8\" rx=\"10\" ry=\"10\" style=\"stroke: #383838; stroke-width: 1.5;\" width=\"93\" x=\"184.5\" y=\"493.5\"/><text fill=\"#000000\" font-family=\"sans-serif\" font-size=\"12\" font-style=\"italic\" lengthAdjust=\"spacingAndGlyphs\" textLength=\"91\" x=\"185.5\" y=\"509.6387\">«requirement»</text><text fill=\"#000000\" font-family=\"sans-serif\" font-size=\"12\" lengthAdjust=\"spacingAndGlyphs\" text-decoration=\"line-through\" textLength=\"51\" x=\"205.5\" y=\"523.6074\">noname</text><line style=\"stroke: #383838; stroke-width: 1.5;\" x1=\"185.5\" x2=\"276.5\" y1=\"531.4375\" y2=\"531.4375\"/></a><!--MD5=[fd4143e9d270a159db93a4ea2a975926]\n",
       "class E9--><a href=\"psysml:ec52d3df-f8e8-4ac5-95c0-bf3447feb8a5\" target=\"_top\" title=\"psysml:ec52d3df-f8e8-4ac5-95c0-bf3447feb8a5\" xlink:actuate=\"onRequest\" xlink:href=\"psysml:ec52d3df-f8e8-4ac5-95c0-bf3447feb8a5\" xlink:show=\"new\" xlink:title=\"psysml:ec52d3df-f8e8-4ac5-95c0-bf3447feb8a5\" xlink:type=\"simple\"><rect fill=\"#FFFFFF\" height=\"88.3516\" id=\"E9\" style=\"stroke: #383838; stroke-width: 1.5;\" width=\"145\" x=\"109.5\" y=\"41\"/><text fill=\"#000000\" font-family=\"sans-serif\" font-size=\"12\" font-style=\"italic\" lengthAdjust=\"spacingAndGlyphs\" textLength=\"115\" x=\"124.5\" y=\"57.1387\">«requirement def»</text><text fill=\"#000000\" font-family=\"sans-serif\" font-size=\"12\" lengthAdjust=\"spacingAndGlyphs\" textLength=\"16\" x=\"174\" y=\"71.1074\">R1</text><line style=\"stroke: #383838; stroke-width: 1.5;\" x1=\"110.5\" x2=\"253.5\" y1=\"78.9375\" y2=\"78.9375\"/><text fill=\"#000000\" font-family=\"sans-serif\" font-size=\"11\" font-weight=\"bold\" lengthAdjust=\"spacingAndGlyphs\" textLength=\"46\" x=\"115.5\" y=\"109.9526\">require</text><text fill=\"#000000\" font-family=\"sans-serif\" font-size=\"11\" lengthAdjust=\"spacingAndGlyphs\" textLength=\"13\" x=\"165.5\" y=\"109.9526\">c1</text><text fill=\"#000000\" font-family=\"sans-serif\" font-size=\"11\" font-style=\"italic\" lengthAdjust=\"spacingAndGlyphs\" textLength=\"133\" x=\"115.5\" y=\"122.7573\">:&gt;&gt;RequirementTest::c</text><line style=\"stroke: #383838; stroke-width: 1.0;\" x1=\"110.5\" x2=\"150\" y1=\"93.3398\" y2=\"93.3398\"/><text fill=\"#000000\" font-family=\"sans-serif\" font-size=\"11\" lengthAdjust=\"spacingAndGlyphs\" textLength=\"64\" x=\"150\" y=\"96.6479\">constraints</text><line style=\"stroke: #383838; stroke-width: 1.0;\" x1=\"214\" x2=\"253.5\" y1=\"93.3398\" y2=\"93.3398\"/></a><!--MD5=[1dd1bfd58a279cf63c5f349dbc8fc6a1]\n",
       "class E11--><a href=\"psysml:b85d82e7-3bb2-4c49-b03c-5a9b3c771643\" target=\"_top\" title=\"psysml:b85d82e7-3bb2-4c49-b03c-5a9b3c771643\" xlink:actuate=\"onRequest\" xlink:href=\"psysml:b85d82e7-3bb2-4c49-b03c-5a9b3c771643\" xlink:show=\"new\" xlink:title=\"psysml:b85d82e7-3bb2-4c49-b03c-5a9b3c771643\" xlink:type=\"simple\"><rect fill=\"#FFFFFF\" height=\"45.9375\" id=\"E11\" rx=\"10\" ry=\"10\" style=\"stroke: #383838; stroke-width: 1.5;\" width=\"42\" x=\"185\" y=\"344.5\"/><text fill=\"#000000\" font-family=\"sans-serif\" font-size=\"12\" font-style=\"italic\" lengthAdjust=\"spacingAndGlyphs\" textLength=\"40\" x=\"186\" y=\"360.6387\">«part»</text><text fill=\"#000000\" font-family=\"sans-serif\" font-size=\"12\" lengthAdjust=\"spacingAndGlyphs\" textLength=\"8\" x=\"202\" y=\"374.6074\">p</text><line style=\"stroke: #383838; stroke-width: 1.5;\" x1=\"186\" x2=\"226\" y1=\"382.4375\" y2=\"382.4375\"/></a><!--MD5=[49a0ec8f00dab7302a31f22d0f0fe584]\n",
       "class E12--><a href=\"psysml:f6ed6b0e-7205-4bca-ba49-af9a51c8942a\" target=\"_top\" title=\"psysml:f6ed6b0e-7205-4bca-ba49-af9a51c8942a\" xlink:actuate=\"onRequest\" xlink:href=\"psysml:f6ed6b0e-7205-4bca-ba49-af9a51c8942a\" xlink:show=\"new\" xlink:title=\"psysml:f6ed6b0e-7205-4bca-ba49-af9a51c8942a\" xlink:type=\"simple\"><rect fill=\"#FFFFFF\" height=\"45.9375\" id=\"E12\" rx=\"10\" ry=\"10\" style=\"stroke: #383838; stroke-width: 1.5;\" width=\"42\" x=\"32\" y=\"62\"/><text fill=\"#000000\" font-family=\"sans-serif\" font-size=\"12\" font-style=\"italic\" lengthAdjust=\"spacingAndGlyphs\" textLength=\"40\" x=\"33\" y=\"78.1387\">«part»</text><text fill=\"#000000\" font-family=\"sans-serif\" font-size=\"12\" lengthAdjust=\"spacingAndGlyphs\" textLength=\"8\" x=\"49\" y=\"92.1074\">q</text><line style=\"stroke: #383838; stroke-width: 1.5;\" x1=\"33\" x2=\"73\" y1=\"99.9375\" y2=\"99.9375\"/></a><!--MD5=[ee3c913d1a06f366521f9ef512b67efe]\n",
       "class E13--><a href=\"psysml:dc92139c-b950-485f-92a5-3d6f837d8293\" target=\"_top\" title=\"psysml:dc92139c-b950-485f-92a5-3d6f837d8293\" xlink:actuate=\"onRequest\" xlink:href=\"psysml:dc92139c-b950-485f-92a5-3d6f837d8293\" xlink:show=\"new\" xlink:title=\"psysml:dc92139c-b950-485f-92a5-3d6f837d8293\" xlink:type=\"simple\"><rect fill=\"#FFFFFF\" height=\"45.9375\" id=\"E13\" rx=\"10\" ry=\"10\" style=\"stroke: #383838; stroke-width: 1.5;\" width=\"93\" x=\"44.5\" y=\"190\"/><text fill=\"#000000\" font-family=\"sans-serif\" font-size=\"12\" font-style=\"italic\" lengthAdjust=\"spacingAndGlyphs\" textLength=\"91\" x=\"45.5\" y=\"206.1387\">«requirement»</text><text fill=\"#000000\" font-family=\"sans-serif\" font-size=\"12\" lengthAdjust=\"spacingAndGlyphs\" textLength=\"21\" x=\"80.5\" y=\"220.1074\">r: R</text><line style=\"stroke: #383838; stroke-width: 1.5;\" x1=\"45.5\" x2=\"136.5\" y1=\"227.9375\" y2=\"227.9375\"/></a><!--MD5=[05d275557350bfb9b23a4ef7222b4c39]\n",
       "link E3 to E2--><a href=\"psysml:9201001b-4e3f-46f0-8224-89e70f802e39\" target=\"_top\" title=\"psysml:9201001b-4e3f-46f0-8224-89e70f802e39\" xlink:actuate=\"onRequest\" xlink:href=\"psysml:9201001b-4e3f-46f0-8224-89e70f802e39\" xlink:show=\"new\" xlink:title=\"psysml:9201001b-4e3f-46f0-8224-89e70f802e39\" xlink:type=\"simple\"><path d=\"M327.88,108.24 C326.26,125.24 323.98,149.19 322.02,169.79 \" fill=\"none\" id=\"E3-&gt;E2\" style=\"stroke: #383838; stroke-width: 1.0;\"/><polygon fill=\"#FFFFFF\" points=\"320.1,189.99,314.9362,170.411,328.8729,171.7407,320.1,189.99\" style=\"stroke: #383838; stroke-width: 1.0;\"/><ellipse cx=\"317.4685\" cy=\"164.9268\" fill=\"#383838\" rx=\"2\" ry=\"2\" style=\"stroke: #383838; stroke-width: 1.0;\"/><ellipse cx=\"327.4233\" cy=\"165.8765\" fill=\"#383838\" rx=\"2\" ry=\"2\" style=\"stroke: #383838; stroke-width: 1.0;\"/></a><!--MD5=[62aa6af11e70f752912c1cb0466f24f7]\n",
       "reverse link E4 to E5--><a href=\"psysml:56458fbc-ce11-45ea-8fa2-2092e0cfc05c\" target=\"_top\" title=\"psysml:56458fbc-ce11-45ea-8fa2-2092e0cfc05c\" xlink:actuate=\"onRequest\" xlink:href=\"psysml:56458fbc-ce11-45ea-8fa2-2092e0cfc05c\" xlink:show=\"new\" xlink:title=\"psysml:56458fbc-ce11-45ea-8fa2-2092e0cfc05c\" xlink:type=\"simple\"><path d=\"M91,437.45 C91,453.34 91,469.51 91,482.98 \" fill=\"none\" id=\"E4&lt;-E5\" style=\"stroke: #383838; stroke-width: 1.0;\"/><ellipse cx=\"91\" cy=\"430.4\" fill=\"#FFFFFF\" rx=\"8\" ry=\"8\" style=\"stroke: #383838; stroke-width: 1.0;\"/><line style=\"stroke: #383838; stroke-width: 1.0;\" x1=\"91\" x2=\"91\" y1=\"438.4\" y2=\"422.4\"/><line style=\"stroke: #383838; stroke-width: 1.0;\" x1=\"83\" x2=\"99\" y1=\"430.4\" y2=\"430.4\"/></a><!--MD5=[c6fc7cdb0cabde04948078cf183fa696]\n",
       "reverse link E4 to E8--><a href=\"psysml:72b41e7b-9298-4fd0-92ac-738cc777b35a\" target=\"_top\" title=\"psysml:72b41e7b-9298-4fd0-92ac-738cc777b35a\" xlink:actuate=\"onRequest\" xlink:href=\"psysml:72b41e7b-9298-4fd0-92ac-738cc777b35a\" xlink:show=\"new\" xlink:title=\"psysml:72b41e7b-9298-4fd0-92ac-738cc777b35a\" xlink:type=\"simple\"><path d=\"M151.51,432.04 C172.42,453.99 194.47,477.14 210.03,493.48 \" fill=\"none\" id=\"E4&lt;-E8\" style=\"stroke: #383838; stroke-width: 1.0;\"/><polygon fill=\"#383838\" points=\"142.34,422.4,143.5779,429.5041,150.6116,431.0937,149.3737,423.9897,142.34,422.4\" style=\"stroke: #383838; stroke-width: 1.0;\"/></a><!--MD5=[062ed86c389d1a88f61c6380d0491e17]\n",
       "reverse link E12 to E13--><a href=\"psysml:dc92139c-b950-485f-92a5-3d6f837d8293\" target=\"_top\" title=\"psysml:dc92139c-b950-485f-92a5-3d6f837d8293\" xlink:actuate=\"onRequest\" xlink:href=\"psysml:dc92139c-b950-485f-92a5-3d6f837d8293\" xlink:show=\"new\" xlink:title=\"psysml:dc92139c-b950-485f-92a5-3d6f837d8293\" xlink:type=\"simple\"><path d=\"M63.49,120.8 C70.17,142.92 78.6,170.89 84.36,189.99 \" fill=\"none\" id=\"E12&lt;-E13\" style=\"stroke: #383838; stroke-width: 1.0;\"/><polygon fill=\"#383838\" points=\"59.71,108.24,57.6129,115.1394,63.1751,119.7288,65.2722,112.8294,59.71,108.24\" style=\"stroke: #383838; stroke-width: 1.0;\"/></a><!--MD5=[017847e01ff9a8bd19f247411074f987]\n",
       "link E13 to E4--><a href=\"psysml:84833459-b0b4-497f-8a66-9d75104fb430\" target=\"_top\" title=\"psysml:84833459-b0b4-497f-8a66-9d75104fb430\" xlink:actuate=\"onRequest\" xlink:href=\"psysml:84833459-b0b4-497f-8a66-9d75104fb430\" xlink:show=\"new\" xlink:title=\"psysml:84833459-b0b4-497f-8a66-9d75104fb430\" xlink:type=\"simple\"><path d=\"M91,236.17 C91,251.17 91,271.91 91,292.44 \" fill=\"none\" id=\"E13-&gt;E4\" style=\"stroke: #383838; stroke-width: 1.0;\"/><polygon fill=\"#FFFFFF\" points=\"91,312.68,84,293.68,98,293.68,91,312.68\" style=\"stroke: #383838; stroke-width: 1.0;\"/><ellipse cx=\"86\" cy=\"287.98\" fill=\"#383838\" rx=\"2\" ry=\"2\" style=\"stroke: #383838; stroke-width: 1.0;\"/><ellipse cx=\"96\" cy=\"287.98\" fill=\"#383838\" rx=\"2\" ry=\"2\" style=\"stroke: #383838; stroke-width: 1.0;\"/></a><!--MD5=[2cfe899c895462254056921bfb67315f]\n",
       "link E13 to E11--><a href=\"psysml:ed40ce07-1501-496b-adae-3639fe39f1e8\" target=\"_top\" title=\"psysml:ed40ce07-1501-496b-adae-3639fe39f1e8\" xlink:actuate=\"onRequest\" xlink:href=\"psysml:ed40ce07-1501-496b-adae-3639fe39f1e8\" xlink:show=\"new\" xlink:title=\"psysml:ed40ce07-1501-496b-adae-3639fe39f1e8\" xlink:type=\"simple\"><path d=\"M108.25,236.46 C130.67,265.67 167,313 167,313 C167,313 176.99,326.71 186.86,340.25 \" fill=\"none\" id=\"E13-&gt;E11\" style=\"stroke: #383838; stroke-width: 1.0; stroke-dasharray: 7.0,7.0;\"/><polygon fill=\"#383838\" points=\"189.91,344.43,187.8474,334.7996,186.9674,340.3876,181.3794,339.5076,189.91,344.43\" style=\"stroke: #383838; stroke-width: 1.0;\"/><text fill=\"#000000\" font-family=\"sans-serif\" font-size=\"13\" lengthAdjust=\"spacingAndGlyphs\" textLength=\"57\" x=\"143\" y=\"279.0669\">«satisfy»</text></a><!--MD5=[dcbd7cb514dfa56e0b6360d26f1c916c]\n",
       "@startuml\r\n",
       "skinparam linetype polyline\r\n",
       "skinparam monochrome true\r\n",
       "skinparam classbackgroundcolor white\r\n",
       "skinparam shadowing false\r\n",
       "skinparam wrapWidth 300\r\n",
       "hide circle\r\n",
       "\r\n",
       "package \"RequirementTest\" as E1  [[psysml:32d2418d-b451-4172-b0c3-f203713ef4c8 ]]  {\r\n",
       "comp def \"C\" as E2  <<(T,blue)constraint def>> [[psysml:a1b28860-c9a8-4d37-931e-31ae0c14540e ]] {\r\n",
       "}\r\n",
       "comp usage \"c: C\" as E3  <<(T,blue)constraint>> [[psysml:4f6724e1-6261-429d-9c16-1831387bac9b ]] {\r\n",
       "}\r\n",
       "comp def \"R\" as E4  <<(T,blue)requirement def>> [[psysml:a2742730-9bdb-48ea-a333-70a51cef011c ]] {\r\n",
       "\r\n",
       "- -\r\n",
       "- - constraints - -\r\n",
       "<b>require</b> c\r\n",
       "<i>assume</i> c1: C\r\n",
       "}\r\n",
       "comp def \" [<b>1</b>] A\" as E5  <<(T,blue)requirement def>> [[psysml:56458fbc-ce11-45ea-8fa2-2092e0cfc05c ]] {\r\n",
       "Text\r\n",
       "- -\r\n",
       "}\r\n",
       "comp usage \"<s>noname</s>\" as E8  <<(T,blue)requirement>> [[psysml:72b41e7b-9298-4fd0-92ac-738cc777b35a ]] {\r\n",
       "}\r\n",
       "comp def \"R1\" as E9  <<(T,blue)requirement def>> [[psysml:ec52d3df-f8e8-4ac5-95c0-bf3447feb8a5 ]] {\r\n",
       "- - constraints - -\r\n",
       "<b>require</b> c1\\n//:>>RequirementTest::c// \r\n",
       "}\r\n",
       "comp usage \"p\" as E11  <<(T,blue)part>> [[psysml:b85d82e7-3bb2-4c49-b03c-5a9b3c771643 ]] {\r\n",
       "}\r\n",
       "comp usage \"q\" as E12  <<(T,blue)part>> [[psysml:f6ed6b0e-7205-4bca-ba49-af9a51c8942a ]] {\r\n",
       "}\r\n",
       "comp usage \"r: R\" as E13  <<(T,blue)requirement>> [[psysml:dc92139c-b950-485f-92a5-3d6f837d8293 ]] {\r\n",
       "}\r\n",
       "E3 - -:|> E2 [[psysml:9201001b-4e3f-46f0-8224-89e70f802e39 ]] \r\n",
       "E4 +- - E5 [[psysml:56458fbc-ce11-45ea-8fa2-2092e0cfc05c ]] \r\n",
       "E4 *- - E8 [[psysml:72b41e7b-9298-4fd0-92ac-738cc777b35a ]] \r\n",
       "E12 *- - E13 [[psysml:dc92139c-b950-485f-92a5-3d6f837d8293 ]] \r\n",
       "E13 - -:|> E4 [[psysml:84833459-b0b4-497f-8a66-9d75104fb430 ]] \r\n",
       "E13 ..> E11 [[psysml:ed40ce07-1501-496b-adae-3639fe39f1e8 ]] : <<satisfy>>\r\n",
       "}\r\n",
       "@enduml\r\n",
       "\n",
       "PlantUML version 1.2020.13(Sat Jun 13 12:26:38 UTC 2020)\n",
       "(EPL source distribution)\n",
       "Java Runtime: OpenJDK Runtime Environment\n",
       "JVM: OpenJDK 64-Bit Server VM\n",
       "Default Encoding: UTF-8\n",
       "Language: en\n",
       "Country: null\n",
       "--></g></svg>"
      ]
     },
     "execution_count": 15,
     "metadata": {},
     "output_type": "execute_result"
    }
   ],
   "source": [
    "%viz --style=\"POLYLINE\" --view=\"MIXED\" \"RequirementTest\""
   ]
  },
  {
   "cell_type": "code",
   "execution_count": 16,
   "id": "graphic-xerox",
   "metadata": {
    "execution": {
     "iopub.execute_input": "2021-03-26T13:01:07.648167Z",
     "iopub.status.busy": "2021-03-26T13:01:07.647142Z",
     "iopub.status.idle": "2021-03-26T13:01:07.739749Z",
     "shell.execute_reply": "2021-03-26T13:01:07.738237Z"
    }
   },
   "outputs": [
    {
     "data": {
      "image/svg+xml": [
       "<?xml version=\"1.0\" encoding=\"UTF-8\" standalone=\"no\"?><svg xmlns=\"http://www.w3.org/2000/svg\" xmlns:xlink=\"http://www.w3.org/1999/xlink\" contentScriptType=\"application/ecmascript\" contentStyleType=\"text/css\" height=\"319px\" preserveAspectRatio=\"none\" style=\"width:794px;height:319px;\" version=\"1.1\" viewBox=\"0 0 794 319\" width=\"794px\" zoomAndPan=\"magnify\"><defs/><g><!--MD5=[fbc87193dbaf4d95561dea2c320d4a47]\n",
       "cluster E1--><a href=\"psysml:32d2418d-b451-4172-b0c3-f203713ef4c8\" target=\"_top\" title=\"psysml:32d2418d-b451-4172-b0c3-f203713ef4c8\" xlink:actuate=\"onRequest\" xlink:href=\"psysml:32d2418d-b451-4172-b0c3-f203713ef4c8\" xlink:show=\"new\" xlink:title=\"psysml:32d2418d-b451-4172-b0c3-f203713ef4c8\" xlink:type=\"simple\"><polygon fill=\"#FFFFFF\" points=\"16,6,158,6,165,28.2969,772,28.2969,772,307,16,307,16,6\" style=\"stroke: #000000; stroke-width: 1.5;\"/><line style=\"stroke: #000000; stroke-width: 1.5;\" x1=\"16\" x2=\"165\" y1=\"28.2969\" y2=\"28.2969\"/><text fill=\"#000000\" font-family=\"sans-serif\" font-size=\"14\" font-weight=\"bold\" lengthAdjust=\"spacingAndGlyphs\" textLength=\"136\" x=\"20\" y=\"20.9951\">RequirementTest</text></a><!--MD5=[b4997ac47864f28c2f74865a473b2911]\n",
       "class E2--><a href=\"psysml:a1b28860-c9a8-4d37-931e-31ae0c14540e\" target=\"_top\" title=\"psysml:a1b28860-c9a8-4d37-931e-31ae0c14540e\" xlink:actuate=\"onRequest\" xlink:href=\"psysml:a1b28860-c9a8-4d37-931e-31ae0c14540e\" xlink:show=\"new\" xlink:title=\"psysml:a1b28860-c9a8-4d37-931e-31ae0c14540e\" xlink:type=\"simple\"><rect fill=\"#FFFFFF\" height=\"45.9375\" id=\"E2\" style=\"stroke: #383838; stroke-width: 1.5;\" width=\"104\" x=\"238\" y=\"41\"/><text fill=\"#000000\" font-family=\"sans-serif\" font-size=\"12\" font-style=\"italic\" lengthAdjust=\"spacingAndGlyphs\" textLength=\"102\" x=\"239\" y=\"57.1387\">«constraint def»</text><text fill=\"#000000\" font-family=\"sans-serif\" font-size=\"12\" lengthAdjust=\"spacingAndGlyphs\" textLength=\"8\" x=\"286\" y=\"71.1074\">C</text><line style=\"stroke: #383838; stroke-width: 1.5;\" x1=\"239\" x2=\"341\" y1=\"78.9375\" y2=\"78.9375\"/></a><!--MD5=[09b614a08d8cba4a07c9adeb5e0fee81]\n",
       "class E3--><a href=\"psysml:4f6724e1-6261-429d-9c16-1831387bac9b\" target=\"_top\" title=\"psysml:4f6724e1-6261-429d-9c16-1831387bac9b\" xlink:actuate=\"onRequest\" xlink:href=\"psysml:4f6724e1-6261-429d-9c16-1831387bac9b\" xlink:show=\"new\" xlink:title=\"psysml:4f6724e1-6261-429d-9c16-1831387bac9b\" xlink:type=\"simple\"><rect fill=\"#FFFFFF\" height=\"45.9375\" id=\"E3\" rx=\"10\" ry=\"10\" style=\"stroke: #383838; stroke-width: 1.5;\" width=\"80\" x=\"64.5\" y=\"41\"/><text fill=\"#000000\" font-family=\"sans-serif\" font-size=\"12\" font-style=\"italic\" lengthAdjust=\"spacingAndGlyphs\" textLength=\"78\" x=\"65.5\" y=\"57.1387\">«constraint»</text><text fill=\"#000000\" font-family=\"sans-serif\" font-size=\"12\" lengthAdjust=\"spacingAndGlyphs\" textLength=\"23\" x=\"93\" y=\"71.1074\">c: C</text><line style=\"stroke: #383838; stroke-width: 1.5;\" x1=\"65.5\" x2=\"143.5\" y1=\"78.9375\" y2=\"78.9375\"/></a><!--MD5=[ebbe1d658d1005bcc118a6aa81145e00]\n",
       "class E4--><a href=\"psysml:a2742730-9bdb-48ea-a333-70a51cef011c\" target=\"_top\" title=\"psysml:a2742730-9bdb-48ea-a333-70a51cef011c\" xlink:actuate=\"onRequest\" xlink:href=\"psysml:a2742730-9bdb-48ea-a333-70a51cef011c\" xlink:show=\"new\" xlink:title=\"psysml:a2742730-9bdb-48ea-a333-70a51cef011c\" xlink:type=\"simple\"><rect fill=\"#FFFFFF\" height=\"109.1563\" id=\"E4\" style=\"stroke: #383838; stroke-width: 1.5;\" width=\"117\" x=\"461\" y=\"181.5\"/><text fill=\"#000000\" font-family=\"sans-serif\" font-size=\"12\" font-style=\"italic\" lengthAdjust=\"spacingAndGlyphs\" textLength=\"115\" x=\"462\" y=\"197.6387\">«requirement def»</text><text fill=\"#000000\" font-family=\"sans-serif\" font-size=\"12\" lengthAdjust=\"spacingAndGlyphs\" textLength=\"8\" x=\"515.5\" y=\"211.6074\">R</text><line style=\"stroke: #383838; stroke-width: 1.5;\" x1=\"462\" x2=\"577\" y1=\"219.4375\" y2=\"219.4375\"/><text fill=\"#000000\" font-family=\"sans-serif\" font-size=\"11\" lengthAdjust=\"spacingAndGlyphs\" textLength=\"0\" x=\"471\" y=\"233.6479\"/><line style=\"stroke: #383838; stroke-width: 1.0;\" x1=\"462\" x2=\"577\" y1=\"240.2422\" y2=\"240.2422\"/><text fill=\"#000000\" font-family=\"sans-serif\" font-size=\"11\" font-weight=\"bold\" lengthAdjust=\"spacingAndGlyphs\" textLength=\"46\" x=\"467\" y=\"271.2573\">require</text><text fill=\"#000000\" font-family=\"sans-serif\" font-size=\"11\" lengthAdjust=\"spacingAndGlyphs\" textLength=\"6\" x=\"517\" y=\"271.2573\">c</text><text fill=\"#000000\" font-family=\"sans-serif\" font-size=\"11\" font-style=\"italic\" lengthAdjust=\"spacingAndGlyphs\" textLength=\"46\" x=\"467\" y=\"284.062\">assume</text><text fill=\"#000000\" font-family=\"sans-serif\" font-size=\"11\" lengthAdjust=\"spacingAndGlyphs\" textLength=\"29\" x=\"517\" y=\"284.062\">c1: C</text><line style=\"stroke: #383838; stroke-width: 1.0;\" x1=\"462\" x2=\"487.5\" y1=\"254.6445\" y2=\"254.6445\"/><text fill=\"#000000\" font-family=\"sans-serif\" font-size=\"11\" lengthAdjust=\"spacingAndGlyphs\" textLength=\"64\" x=\"487.5\" y=\"257.9526\">constraints</text><line style=\"stroke: #383838; stroke-width: 1.0;\" x1=\"551.5\" x2=\"577\" y1=\"254.6445\" y2=\"254.6445\"/></a><!--MD5=[270fce915f116d4de14055a7c1d9a0f3]\n",
       "class E5--><a href=\"psysml:56458fbc-ce11-45ea-8fa2-2092e0cfc05c\" target=\"_top\" title=\"psysml:56458fbc-ce11-45ea-8fa2-2092e0cfc05c\" xlink:actuate=\"onRequest\" xlink:href=\"psysml:56458fbc-ce11-45ea-8fa2-2092e0cfc05c\" xlink:show=\"new\" xlink:title=\"psysml:56458fbc-ce11-45ea-8fa2-2092e0cfc05c\" xlink:type=\"simple\"><rect fill=\"#FFFFFF\" height=\"66.7422\" id=\"E5\" style=\"stroke: #383838; stroke-width: 1.5;\" width=\"117\" x=\"639\" y=\"216.5\"/><text fill=\"#000000\" font-family=\"sans-serif\" font-size=\"12\" font-style=\"italic\" lengthAdjust=\"spacingAndGlyphs\" textLength=\"115\" x=\"640\" y=\"232.6387\">«requirement def»</text><text fill=\"#000000\" font-family=\"sans-serif\" font-size=\"12\" lengthAdjust=\"spacingAndGlyphs\" textLength=\"5\" x=\"684.5\" y=\"246.6074\">[</text><text fill=\"#000000\" font-family=\"sans-serif\" font-size=\"12\" font-weight=\"bold\" lengthAdjust=\"spacingAndGlyphs\" textLength=\"8\" x=\"689.5\" y=\"246.6074\">1</text><text fill=\"#000000\" font-family=\"sans-serif\" font-size=\"12\" lengthAdjust=\"spacingAndGlyphs\" textLength=\"17\" x=\"697.5\" y=\"246.6074\">] A</text><line style=\"stroke: #383838; stroke-width: 1.5;\" x1=\"640\" x2=\"755\" y1=\"254.4375\" y2=\"254.4375\"/><text fill=\"#000000\" font-family=\"sans-serif\" font-size=\"11\" lengthAdjust=\"spacingAndGlyphs\" textLength=\"24\" x=\"645\" y=\"268.6479\">Text</text><line style=\"stroke: #383838; stroke-width: 1.0;\" x1=\"640\" x2=\"755\" y1=\"275.2422\" y2=\"275.2422\"/></a><!--MD5=[b9389687b975829384b498ac4b7476b2]\n",
       "class E8--><a href=\"psysml:72b41e7b-9298-4fd0-92ac-738cc777b35a\" target=\"_top\" title=\"psysml:72b41e7b-9298-4fd0-92ac-738cc777b35a\" xlink:actuate=\"onRequest\" xlink:href=\"psysml:72b41e7b-9298-4fd0-92ac-738cc777b35a\" xlink:show=\"new\" xlink:title=\"psysml:72b41e7b-9298-4fd0-92ac-738cc777b35a\" xlink:type=\"simple\"><rect fill=\"#FFFFFF\" height=\"45.9375\" id=\"E8\" rx=\"10\" ry=\"10\" style=\"stroke: #383838; stroke-width: 1.5;\" width=\"93\" x=\"651\" y=\"135\"/><text fill=\"#000000\" font-family=\"sans-serif\" font-size=\"12\" font-style=\"italic\" lengthAdjust=\"spacingAndGlyphs\" textLength=\"91\" x=\"652\" y=\"151.1387\">«requirement»</text><text fill=\"#000000\" font-family=\"sans-serif\" font-size=\"12\" lengthAdjust=\"spacingAndGlyphs\" text-decoration=\"line-through\" textLength=\"51\" x=\"672\" y=\"165.1074\">noname</text><line style=\"stroke: #383838; stroke-width: 1.5;\" x1=\"652\" x2=\"743\" y1=\"172.9375\" y2=\"172.9375\"/></a><!--MD5=[fd4143e9d270a159db93a4ea2a975926]\n",
       "class E9--><a href=\"psysml:ec52d3df-f8e8-4ac5-95c0-bf3447feb8a5\" target=\"_top\" title=\"psysml:ec52d3df-f8e8-4ac5-95c0-bf3447feb8a5\" xlink:actuate=\"onRequest\" xlink:href=\"psysml:ec52d3df-f8e8-4ac5-95c0-bf3447feb8a5\" xlink:show=\"new\" xlink:title=\"psysml:ec52d3df-f8e8-4ac5-95c0-bf3447feb8a5\" xlink:type=\"simple\"><rect fill=\"#FFFFFF\" height=\"88.3516\" id=\"E9\" style=\"stroke: #383838; stroke-width: 1.5;\" width=\"145\" x=\"32\" y=\"122\"/><text fill=\"#000000\" font-family=\"sans-serif\" font-size=\"12\" font-style=\"italic\" lengthAdjust=\"spacingAndGlyphs\" textLength=\"115\" x=\"47\" y=\"138.1387\">«requirement def»</text><text fill=\"#000000\" font-family=\"sans-serif\" font-size=\"12\" lengthAdjust=\"spacingAndGlyphs\" textLength=\"16\" x=\"96.5\" y=\"152.1074\">R1</text><line style=\"stroke: #383838; stroke-width: 1.5;\" x1=\"33\" x2=\"176\" y1=\"159.9375\" y2=\"159.9375\"/><text fill=\"#000000\" font-family=\"sans-serif\" font-size=\"11\" font-weight=\"bold\" lengthAdjust=\"spacingAndGlyphs\" textLength=\"46\" x=\"38\" y=\"190.9526\">require</text><text fill=\"#000000\" font-family=\"sans-serif\" font-size=\"11\" lengthAdjust=\"spacingAndGlyphs\" textLength=\"13\" x=\"88\" y=\"190.9526\">c1</text><text fill=\"#000000\" font-family=\"sans-serif\" font-size=\"11\" font-style=\"italic\" lengthAdjust=\"spacingAndGlyphs\" textLength=\"133\" x=\"38\" y=\"203.7573\">:&gt;&gt;RequirementTest::c</text><line style=\"stroke: #383838; stroke-width: 1.0;\" x1=\"33\" x2=\"72.5\" y1=\"174.3398\" y2=\"174.3398\"/><text fill=\"#000000\" font-family=\"sans-serif\" font-size=\"11\" lengthAdjust=\"spacingAndGlyphs\" textLength=\"64\" x=\"72.5\" y=\"177.6479\">constraints</text><line style=\"stroke: #383838; stroke-width: 1.0;\" x1=\"136.5\" x2=\"176\" y1=\"174.3398\" y2=\"174.3398\"/></a><!--MD5=[1dd1bfd58a279cf63c5f349dbc8fc6a1]\n",
       "class E11--><a href=\"psysml:b85d82e7-3bb2-4c49-b03c-5a9b3c771643\" target=\"_top\" title=\"psysml:b85d82e7-3bb2-4c49-b03c-5a9b3c771643\" xlink:actuate=\"onRequest\" xlink:href=\"psysml:b85d82e7-3bb2-4c49-b03c-5a9b3c771643\" xlink:show=\"new\" xlink:title=\"psysml:b85d82e7-3bb2-4c49-b03c-5a9b3c771643\" xlink:type=\"simple\"><rect fill=\"#FFFFFF\" height=\"45.9375\" id=\"E11\" rx=\"10\" ry=\"10\" style=\"stroke: #383838; stroke-width: 1.5;\" width=\"42\" x=\"498.5\" y=\"100\"/><text fill=\"#000000\" font-family=\"sans-serif\" font-size=\"12\" font-style=\"italic\" lengthAdjust=\"spacingAndGlyphs\" textLength=\"40\" x=\"499.5\" y=\"116.1387\">«part»</text><text fill=\"#000000\" font-family=\"sans-serif\" font-size=\"12\" lengthAdjust=\"spacingAndGlyphs\" textLength=\"8\" x=\"515.5\" y=\"130.1074\">p</text><line style=\"stroke: #383838; stroke-width: 1.5;\" x1=\"499.5\" x2=\"539.5\" y1=\"137.9375\" y2=\"137.9375\"/></a><!--MD5=[49a0ec8f00dab7302a31f22d0f0fe584]\n",
       "class E12--><a href=\"psysml:f6ed6b0e-7205-4bca-ba49-af9a51c8942a\" target=\"_top\" title=\"psysml:f6ed6b0e-7205-4bca-ba49-af9a51c8942a\" xlink:actuate=\"onRequest\" xlink:href=\"psysml:f6ed6b0e-7205-4bca-ba49-af9a51c8942a\" xlink:show=\"new\" xlink:title=\"psysml:f6ed6b0e-7205-4bca-ba49-af9a51c8942a\" xlink:type=\"simple\"><rect fill=\"#FFFFFF\" height=\"45.9375\" id=\"E12\" rx=\"10\" ry=\"10\" style=\"stroke: #383838; stroke-width: 1.5;\" width=\"42\" x=\"83.5\" y=\"245\"/><text fill=\"#000000\" font-family=\"sans-serif\" font-size=\"12\" font-style=\"italic\" lengthAdjust=\"spacingAndGlyphs\" textLength=\"40\" x=\"84.5\" y=\"261.1387\">«part»</text><text fill=\"#000000\" font-family=\"sans-serif\" font-size=\"12\" lengthAdjust=\"spacingAndGlyphs\" textLength=\"8\" x=\"100.5\" y=\"275.1074\">q</text><line style=\"stroke: #383838; stroke-width: 1.5;\" x1=\"84.5\" x2=\"124.5\" y1=\"282.9375\" y2=\"282.9375\"/></a><!--MD5=[ee3c913d1a06f366521f9ef512b67efe]\n",
       "class E13--><a href=\"psysml:dc92139c-b950-485f-92a5-3d6f837d8293\" target=\"_top\" title=\"psysml:dc92139c-b950-485f-92a5-3d6f837d8293\" xlink:actuate=\"onRequest\" xlink:href=\"psysml:dc92139c-b950-485f-92a5-3d6f837d8293\" xlink:show=\"new\" xlink:title=\"psysml:dc92139c-b950-485f-92a5-3d6f837d8293\" xlink:type=\"simple\"><rect fill=\"#FFFFFF\" height=\"45.9375\" id=\"E13\" rx=\"10\" ry=\"10\" style=\"stroke: #383838; stroke-width: 1.5;\" width=\"93\" x=\"243.5\" y=\"213\"/><text fill=\"#000000\" font-family=\"sans-serif\" font-size=\"12\" font-style=\"italic\" lengthAdjust=\"spacingAndGlyphs\" textLength=\"91\" x=\"244.5\" y=\"229.1387\">«requirement»</text><text fill=\"#000000\" font-family=\"sans-serif\" font-size=\"12\" lengthAdjust=\"spacingAndGlyphs\" textLength=\"21\" x=\"279.5\" y=\"243.1074\">r: R</text><line style=\"stroke: #383838; stroke-width: 1.5;\" x1=\"244.5\" x2=\"335.5\" y1=\"250.9375\" y2=\"250.9375\"/></a><!--MD5=[05d275557350bfb9b23a4ef7222b4c39]\n",
       "link E3 to E2--><a href=\"psysml:9201001b-4e3f-46f0-8224-89e70f802e39\" target=\"_top\" title=\"psysml:9201001b-4e3f-46f0-8224-89e70f802e39\" xlink:actuate=\"onRequest\" xlink:href=\"psysml:9201001b-4e3f-46f0-8224-89e70f802e39\" xlink:show=\"new\" xlink:title=\"psysml:9201001b-4e3f-46f0-8224-89e70f802e39\" xlink:type=\"simple\"><path d=\"M144.87,64 C166.09,64 192.94,64 217.7,64 \" fill=\"none\" id=\"E3-&gt;E2\" style=\"stroke: #383838; stroke-width: 1.0;\"/><polygon fill=\"#FFFFFF\" points=\"237.84,64,218.84,71,218.84,57,237.84,64\" style=\"stroke: #383838; stroke-width: 1.0;\"/><ellipse cx=\"213.14\" cy=\"69\" fill=\"#383838\" rx=\"2\" ry=\"2\" style=\"stroke: #383838; stroke-width: 1.0;\"/><ellipse cx=\"213.14\" cy=\"59\" fill=\"#383838\" rx=\"2\" ry=\"2\" style=\"stroke: #383838; stroke-width: 1.0;\"/></a><!--MD5=[62aa6af11e70f752912c1cb0466f24f7]\n",
       "reverse link E4 to E5--><a href=\"psysml:56458fbc-ce11-45ea-8fa2-2092e0cfc05c\" target=\"_top\" title=\"psysml:56458fbc-ce11-45ea-8fa2-2092e0cfc05c\" xlink:actuate=\"onRequest\" xlink:href=\"psysml:56458fbc-ce11-45ea-8fa2-2092e0cfc05c\" xlink:show=\"new\" xlink:title=\"psysml:56458fbc-ce11-45ea-8fa2-2092e0cfc05c\" xlink:type=\"simple\"><path d=\"M593.54,241.81 C608.62,243.01 624.3,244.26 638.74,245.41 \" fill=\"none\" id=\"E4&lt;-E5\" style=\"stroke: #383838; stroke-width: 1.0;\"/><ellipse cx=\"586.105\" cy=\"241.2122\" fill=\"#FFFFFF\" rx=\"8\" ry=\"8\" style=\"stroke: #383838; stroke-width: 1.0;\"/><line style=\"stroke: #383838; stroke-width: 1.0;\" x1=\"594.08\" x2=\"578.13\" y1=\"241.8444\" y2=\"240.58\"/><line style=\"stroke: #383838; stroke-width: 1.0;\" x1=\"585.4728\" x2=\"586.7372\" y1=\"249.1872\" y2=\"233.2372\"/></a><!--MD5=[c6fc7cdb0cabde04948078cf183fa696]\n",
       "reverse link E4 to E8--><a href=\"psysml:72b41e7b-9298-4fd0-92ac-738cc777b35a\" target=\"_top\" title=\"psysml:72b41e7b-9298-4fd0-92ac-738cc777b35a\" xlink:actuate=\"onRequest\" xlink:href=\"psysml:72b41e7b-9298-4fd0-92ac-738cc777b35a\" xlink:show=\"new\" xlink:title=\"psysml:72b41e7b-9298-4fd0-92ac-738cc777b35a\" xlink:type=\"simple\"><path d=\"M590.24,205.09 C610.58,196.08 632.28,186.46 650.74,178.28 \" fill=\"none\" id=\"E4&lt;-E8\" style=\"stroke: #383838; stroke-width: 1.0;\"/><polygon fill=\"#383838\" points=\"578.13,210.46,585.2365,211.684,589.0995,205.5949,581.9931,204.3709,578.13,210.46\" style=\"stroke: #383838; stroke-width: 1.0;\"/></a><!--MD5=[062ed86c389d1a88f61c6380d0491e17]\n",
       "reverse link E12 to E13--><a href=\"psysml:dc92139c-b950-485f-92a5-3d6f837d8293\" target=\"_top\" title=\"psysml:dc92139c-b950-485f-92a5-3d6f837d8293\" xlink:actuate=\"onRequest\" xlink:href=\"psysml:dc92139c-b950-485f-92a5-3d6f837d8293\" xlink:show=\"new\" xlink:title=\"psysml:dc92139c-b950-485f-92a5-3d6f837d8293\" xlink:type=\"simple\"><path d=\"M139.02,262.15 C168.28,257.05 211.02,249.6 243.39,243.95 \" fill=\"none\" id=\"E12&lt;-E13\" style=\"stroke: #383838; stroke-width: 1.0;\"/><polygon fill=\"#383838\" points=\"125.84,264.45,132.4403,267.3544,137.6599,262.3789,131.0596,259.4745,125.84,264.45\" style=\"stroke: #383838; stroke-width: 1.0;\"/></a><!--MD5=[017847e01ff9a8bd19f247411074f987]\n",
       "link E13 to E4--><a href=\"psysml:84833459-b0b4-497f-8a66-9d75104fb430\" target=\"_top\" title=\"psysml:84833459-b0b4-497f-8a66-9d75104fb430\" xlink:actuate=\"onRequest\" xlink:href=\"psysml:84833459-b0b4-497f-8a66-9d75104fb430\" xlink:show=\"new\" xlink:title=\"psysml:84833459-b0b4-497f-8a66-9d75104fb430\" xlink:type=\"simple\"><path d=\"M336.76,236 C366.45,236 405.9,236 440.46,236 \" fill=\"none\" id=\"E13-&gt;E4\" style=\"stroke: #383838; stroke-width: 1.0;\"/><polygon fill=\"#FFFFFF\" points=\"460.67,236,441.67,243,441.67,229,460.67,236\" style=\"stroke: #383838; stroke-width: 1.0;\"/><ellipse cx=\"435.97\" cy=\"241\" fill=\"#383838\" rx=\"2\" ry=\"2\" style=\"stroke: #383838; stroke-width: 1.0;\"/><ellipse cx=\"435.97\" cy=\"231\" fill=\"#383838\" rx=\"2\" ry=\"2\" style=\"stroke: #383838; stroke-width: 1.0;\"/></a><!--MD5=[2cfe899c895462254056921bfb67315f]\n",
       "link E13 to E11--><a href=\"psysml:ed40ce07-1501-496b-adae-3639fe39f1e8\" target=\"_top\" title=\"psysml:ed40ce07-1501-496b-adae-3639fe39f1e8\" xlink:actuate=\"onRequest\" xlink:href=\"psysml:ed40ce07-1501-496b-adae-3639fe39f1e8\" xlink:show=\"new\" xlink:title=\"psysml:ed40ce07-1501-496b-adae-3639fe39f1e8\" xlink:type=\"simple\"><path d=\"M336.76,213.27 C383.95,189.83 455.79,154.15 493.46,135.44 \" fill=\"none\" id=\"E13-&gt;E11\" style=\"stroke: #383838; stroke-width: 1.0; stroke-dasharray: 7.0,7.0;\"/><polygon fill=\"#383838\" points=\"498.32,133.02,488.4797,133.4294,493.8393,135.2389,492.0299,140.5985,498.32,133.02\" style=\"stroke: #383838; stroke-width: 1.0;\"/><text fill=\"#000000\" font-family=\"sans-serif\" font-size=\"13\" lengthAdjust=\"spacingAndGlyphs\" textLength=\"57\" x=\"373\" y=\"166.0669\">«satisfy»</text></a><!--MD5=[e59b6a7aea40b6af8856fa11ff5137c2]\n",
       "@startuml\r\n",
       "left to right direction\r\n",
       "skinparam monochrome true\r\n",
       "skinparam classbackgroundcolor white\r\n",
       "skinparam shadowing false\r\n",
       "skinparam wrapWidth 300\r\n",
       "hide circle\r\n",
       "\r\n",
       "package \"RequirementTest\" as E1  [[psysml:32d2418d-b451-4172-b0c3-f203713ef4c8 ]]  {\r\n",
       "comp def \"C\" as E2  <<(T,blue)constraint def>> [[psysml:a1b28860-c9a8-4d37-931e-31ae0c14540e ]] {\r\n",
       "}\r\n",
       "comp usage \"c: C\" as E3  <<(T,blue)constraint>> [[psysml:4f6724e1-6261-429d-9c16-1831387bac9b ]] {\r\n",
       "}\r\n",
       "comp def \"R\" as E4  <<(T,blue)requirement def>> [[psysml:a2742730-9bdb-48ea-a333-70a51cef011c ]] {\r\n",
       "\r\n",
       "- -\r\n",
       "- - constraints - -\r\n",
       "<b>require</b> c\r\n",
       "<i>assume</i> c1: C\r\n",
       "}\r\n",
       "comp def \" [<b>1</b>] A\" as E5  <<(T,blue)requirement def>> [[psysml:56458fbc-ce11-45ea-8fa2-2092e0cfc05c ]] {\r\n",
       "Text\r\n",
       "- -\r\n",
       "}\r\n",
       "comp usage \"<s>noname</s>\" as E8  <<(T,blue)requirement>> [[psysml:72b41e7b-9298-4fd0-92ac-738cc777b35a ]] {\r\n",
       "}\r\n",
       "comp def \"R1\" as E9  <<(T,blue)requirement def>> [[psysml:ec52d3df-f8e8-4ac5-95c0-bf3447feb8a5 ]] {\r\n",
       "- - constraints - -\r\n",
       "<b>require</b> c1\\n//:>>RequirementTest::c// \r\n",
       "}\r\n",
       "comp usage \"p\" as E11  <<(T,blue)part>> [[psysml:b85d82e7-3bb2-4c49-b03c-5a9b3c771643 ]] {\r\n",
       "}\r\n",
       "comp usage \"q\" as E12  <<(T,blue)part>> [[psysml:f6ed6b0e-7205-4bca-ba49-af9a51c8942a ]] {\r\n",
       "}\r\n",
       "comp usage \"r: R\" as E13  <<(T,blue)requirement>> [[psysml:dc92139c-b950-485f-92a5-3d6f837d8293 ]] {\r\n",
       "}\r\n",
       "E3 - -:|> E2 [[psysml:9201001b-4e3f-46f0-8224-89e70f802e39 ]] \r\n",
       "E4 +- - E5 [[psysml:56458fbc-ce11-45ea-8fa2-2092e0cfc05c ]] \r\n",
       "E4 *- - E8 [[psysml:72b41e7b-9298-4fd0-92ac-738cc777b35a ]] \r\n",
       "E12 *- - E13 [[psysml:dc92139c-b950-485f-92a5-3d6f837d8293 ]] \r\n",
       "E13 - -:|> E4 [[psysml:84833459-b0b4-497f-8a66-9d75104fb430 ]] \r\n",
       "E13 ..> E11 [[psysml:ed40ce07-1501-496b-adae-3639fe39f1e8 ]] : <<satisfy>>\r\n",
       "}\r\n",
       "@enduml\r\n",
       "\n",
       "PlantUML version 1.2020.13(Sat Jun 13 12:26:38 UTC 2020)\n",
       "(EPL source distribution)\n",
       "Java Runtime: OpenJDK Runtime Environment\n",
       "JVM: OpenJDK 64-Bit Server VM\n",
       "Default Encoding: UTF-8\n",
       "Language: en\n",
       "Country: null\n",
       "--></g></svg>"
      ]
     },
     "execution_count": 16,
     "metadata": {},
     "output_type": "execute_result"
    }
   ],
   "source": [
    "%viz --style=\"LR\" --view=\"Default\" \"RequirementTest\""
   ]
  },
  {
   "cell_type": "code",
   "execution_count": 17,
   "id": "third-addition",
   "metadata": {
    "execution": {
     "iopub.execute_input": "2021-03-26T13:01:07.792257Z",
     "iopub.status.busy": "2021-03-26T13:01:07.791214Z",
     "iopub.status.idle": "2021-03-26T13:01:07.894671Z",
     "shell.execute_reply": "2021-03-26T13:01:07.895104Z"
    }
   },
   "outputs": [
    {
     "data": {
      "image/svg+xml": [
       "<?xml version=\"1.0\" encoding=\"UTF-8\" standalone=\"no\"?><svg xmlns=\"http://www.w3.org/2000/svg\" xmlns:xlink=\"http://www.w3.org/1999/xlink\" contentScriptType=\"application/ecmascript\" contentStyleType=\"text/css\" height=\"319px\" preserveAspectRatio=\"none\" style=\"width:794px;height:319px;\" version=\"1.1\" viewBox=\"0 0 794 319\" width=\"794px\" zoomAndPan=\"magnify\"><defs/><g><!--MD5=[fbc87193dbaf4d95561dea2c320d4a47]\n",
       "cluster E1--><a href=\"psysml:32d2418d-b451-4172-b0c3-f203713ef4c8\" target=\"_top\" title=\"psysml:32d2418d-b451-4172-b0c3-f203713ef4c8\" xlink:actuate=\"onRequest\" xlink:href=\"psysml:32d2418d-b451-4172-b0c3-f203713ef4c8\" xlink:show=\"new\" xlink:title=\"psysml:32d2418d-b451-4172-b0c3-f203713ef4c8\" xlink:type=\"simple\"><polygon fill=\"#FFFFFF\" points=\"16,6,158,6,165,28.2969,772,28.2969,772,307,16,307,16,6\" style=\"stroke: #000000; stroke-width: 1.5;\"/><line style=\"stroke: #000000; stroke-width: 1.5;\" x1=\"16\" x2=\"165\" y1=\"28.2969\" y2=\"28.2969\"/><text fill=\"#000000\" font-family=\"sans-serif\" font-size=\"14\" font-weight=\"bold\" lengthAdjust=\"spacingAndGlyphs\" textLength=\"136\" x=\"20\" y=\"20.9951\">RequirementTest</text></a><!--MD5=[b4997ac47864f28c2f74865a473b2911]\n",
       "class E2--><a href=\"psysml:a1b28860-c9a8-4d37-931e-31ae0c14540e\" target=\"_top\" title=\"psysml:a1b28860-c9a8-4d37-931e-31ae0c14540e\" xlink:actuate=\"onRequest\" xlink:href=\"psysml:a1b28860-c9a8-4d37-931e-31ae0c14540e\" xlink:show=\"new\" xlink:title=\"psysml:a1b28860-c9a8-4d37-931e-31ae0c14540e\" xlink:type=\"simple\"><rect fill=\"#FFFFFF\" height=\"45.9375\" id=\"E2\" style=\"stroke: #383838; stroke-width: 1.5;\" width=\"104\" x=\"238\" y=\"41\"/><text fill=\"#000000\" font-family=\"sans-serif\" font-size=\"12\" font-style=\"italic\" lengthAdjust=\"spacingAndGlyphs\" textLength=\"102\" x=\"239\" y=\"57.1387\">«constraint def»</text><text fill=\"#000000\" font-family=\"sans-serif\" font-size=\"12\" lengthAdjust=\"spacingAndGlyphs\" textLength=\"8\" x=\"286\" y=\"71.1074\">C</text><line style=\"stroke: #383838; stroke-width: 1.5;\" x1=\"239\" x2=\"341\" y1=\"78.9375\" y2=\"78.9375\"/></a><!--MD5=[09b614a08d8cba4a07c9adeb5e0fee81]\n",
       "class E3--><a href=\"psysml:4f6724e1-6261-429d-9c16-1831387bac9b\" target=\"_top\" title=\"psysml:4f6724e1-6261-429d-9c16-1831387bac9b\" xlink:actuate=\"onRequest\" xlink:href=\"psysml:4f6724e1-6261-429d-9c16-1831387bac9b\" xlink:show=\"new\" xlink:title=\"psysml:4f6724e1-6261-429d-9c16-1831387bac9b\" xlink:type=\"simple\"><rect fill=\"#FFFFFF\" height=\"45.9375\" id=\"E3\" rx=\"10\" ry=\"10\" style=\"stroke: #383838; stroke-width: 1.5;\" width=\"80\" x=\"64.5\" y=\"41\"/><text fill=\"#000000\" font-family=\"sans-serif\" font-size=\"12\" font-style=\"italic\" lengthAdjust=\"spacingAndGlyphs\" textLength=\"78\" x=\"65.5\" y=\"57.1387\">«constraint»</text><text fill=\"#000000\" font-family=\"sans-serif\" font-size=\"12\" lengthAdjust=\"spacingAndGlyphs\" textLength=\"23\" x=\"93\" y=\"71.1074\">c: C</text><line style=\"stroke: #383838; stroke-width: 1.5;\" x1=\"65.5\" x2=\"143.5\" y1=\"78.9375\" y2=\"78.9375\"/></a><!--MD5=[ebbe1d658d1005bcc118a6aa81145e00]\n",
       "class E4--><a href=\"psysml:a2742730-9bdb-48ea-a333-70a51cef011c\" target=\"_top\" title=\"psysml:a2742730-9bdb-48ea-a333-70a51cef011c\" xlink:actuate=\"onRequest\" xlink:href=\"psysml:a2742730-9bdb-48ea-a333-70a51cef011c\" xlink:show=\"new\" xlink:title=\"psysml:a2742730-9bdb-48ea-a333-70a51cef011c\" xlink:type=\"simple\"><rect fill=\"#FFFFFF\" height=\"109.1563\" id=\"E4\" style=\"stroke: #383838; stroke-width: 1.5;\" width=\"117\" x=\"461\" y=\"181.5\"/><text fill=\"#000000\" font-family=\"sans-serif\" font-size=\"12\" font-style=\"italic\" lengthAdjust=\"spacingAndGlyphs\" textLength=\"115\" x=\"462\" y=\"197.6387\">«requirement def»</text><text fill=\"#000000\" font-family=\"sans-serif\" font-size=\"12\" lengthAdjust=\"spacingAndGlyphs\" textLength=\"8\" x=\"515.5\" y=\"211.6074\">R</text><line style=\"stroke: #383838; stroke-width: 1.5;\" x1=\"462\" x2=\"577\" y1=\"219.4375\" y2=\"219.4375\"/><text fill=\"#000000\" font-family=\"sans-serif\" font-size=\"11\" lengthAdjust=\"spacingAndGlyphs\" textLength=\"0\" x=\"471\" y=\"233.6479\"/><line style=\"stroke: #383838; stroke-width: 1.0;\" x1=\"462\" x2=\"577\" y1=\"240.2422\" y2=\"240.2422\"/><text fill=\"#000000\" font-family=\"sans-serif\" font-size=\"11\" font-weight=\"bold\" lengthAdjust=\"spacingAndGlyphs\" textLength=\"46\" x=\"467\" y=\"271.2573\">require</text><text fill=\"#000000\" font-family=\"sans-serif\" font-size=\"11\" lengthAdjust=\"spacingAndGlyphs\" textLength=\"6\" x=\"517\" y=\"271.2573\">c</text><text fill=\"#000000\" font-family=\"sans-serif\" font-size=\"11\" font-style=\"italic\" lengthAdjust=\"spacingAndGlyphs\" textLength=\"46\" x=\"467\" y=\"284.062\">assume</text><text fill=\"#000000\" font-family=\"sans-serif\" font-size=\"11\" lengthAdjust=\"spacingAndGlyphs\" textLength=\"29\" x=\"517\" y=\"284.062\">c1: C</text><line style=\"stroke: #383838; stroke-width: 1.0;\" x1=\"462\" x2=\"487.5\" y1=\"254.6445\" y2=\"254.6445\"/><text fill=\"#000000\" font-family=\"sans-serif\" font-size=\"11\" lengthAdjust=\"spacingAndGlyphs\" textLength=\"64\" x=\"487.5\" y=\"257.9526\">constraints</text><line style=\"stroke: #383838; stroke-width: 1.0;\" x1=\"551.5\" x2=\"577\" y1=\"254.6445\" y2=\"254.6445\"/></a><!--MD5=[270fce915f116d4de14055a7c1d9a0f3]\n",
       "class E5--><a href=\"psysml:56458fbc-ce11-45ea-8fa2-2092e0cfc05c\" target=\"_top\" title=\"psysml:56458fbc-ce11-45ea-8fa2-2092e0cfc05c\" xlink:actuate=\"onRequest\" xlink:href=\"psysml:56458fbc-ce11-45ea-8fa2-2092e0cfc05c\" xlink:show=\"new\" xlink:title=\"psysml:56458fbc-ce11-45ea-8fa2-2092e0cfc05c\" xlink:type=\"simple\"><rect fill=\"#FFFFFF\" height=\"66.7422\" id=\"E5\" style=\"stroke: #383838; stroke-width: 1.5;\" width=\"117\" x=\"639\" y=\"216.5\"/><text fill=\"#000000\" font-family=\"sans-serif\" font-size=\"12\" font-style=\"italic\" lengthAdjust=\"spacingAndGlyphs\" textLength=\"115\" x=\"640\" y=\"232.6387\">«requirement def»</text><text fill=\"#000000\" font-family=\"sans-serif\" font-size=\"12\" lengthAdjust=\"spacingAndGlyphs\" textLength=\"5\" x=\"684.5\" y=\"246.6074\">[</text><text fill=\"#000000\" font-family=\"sans-serif\" font-size=\"12\" font-weight=\"bold\" lengthAdjust=\"spacingAndGlyphs\" textLength=\"8\" x=\"689.5\" y=\"246.6074\">1</text><text fill=\"#000000\" font-family=\"sans-serif\" font-size=\"12\" lengthAdjust=\"spacingAndGlyphs\" textLength=\"17\" x=\"697.5\" y=\"246.6074\">] A</text><line style=\"stroke: #383838; stroke-width: 1.5;\" x1=\"640\" x2=\"755\" y1=\"254.4375\" y2=\"254.4375\"/><text fill=\"#000000\" font-family=\"sans-serif\" font-size=\"11\" lengthAdjust=\"spacingAndGlyphs\" textLength=\"24\" x=\"645\" y=\"268.6479\">Text</text><line style=\"stroke: #383838; stroke-width: 1.0;\" x1=\"640\" x2=\"755\" y1=\"275.2422\" y2=\"275.2422\"/></a><!--MD5=[b9389687b975829384b498ac4b7476b2]\n",
       "class E8--><a href=\"psysml:72b41e7b-9298-4fd0-92ac-738cc777b35a\" target=\"_top\" title=\"psysml:72b41e7b-9298-4fd0-92ac-738cc777b35a\" xlink:actuate=\"onRequest\" xlink:href=\"psysml:72b41e7b-9298-4fd0-92ac-738cc777b35a\" xlink:show=\"new\" xlink:title=\"psysml:72b41e7b-9298-4fd0-92ac-738cc777b35a\" xlink:type=\"simple\"><rect fill=\"#FFFFFF\" height=\"45.9375\" id=\"E8\" rx=\"10\" ry=\"10\" style=\"stroke: #383838; stroke-width: 1.5;\" width=\"93\" x=\"651\" y=\"135\"/><text fill=\"#000000\" font-family=\"sans-serif\" font-size=\"12\" font-style=\"italic\" lengthAdjust=\"spacingAndGlyphs\" textLength=\"91\" x=\"652\" y=\"151.1387\">«requirement»</text><text fill=\"#000000\" font-family=\"sans-serif\" font-size=\"12\" lengthAdjust=\"spacingAndGlyphs\" text-decoration=\"line-through\" textLength=\"51\" x=\"672\" y=\"165.1074\">noname</text><line style=\"stroke: #383838; stroke-width: 1.5;\" x1=\"652\" x2=\"743\" y1=\"172.9375\" y2=\"172.9375\"/></a><!--MD5=[fd4143e9d270a159db93a4ea2a975926]\n",
       "class E9--><a href=\"psysml:ec52d3df-f8e8-4ac5-95c0-bf3447feb8a5\" target=\"_top\" title=\"psysml:ec52d3df-f8e8-4ac5-95c0-bf3447feb8a5\" xlink:actuate=\"onRequest\" xlink:href=\"psysml:ec52d3df-f8e8-4ac5-95c0-bf3447feb8a5\" xlink:show=\"new\" xlink:title=\"psysml:ec52d3df-f8e8-4ac5-95c0-bf3447feb8a5\" xlink:type=\"simple\"><rect fill=\"#FFFFFF\" height=\"88.3516\" id=\"E9\" style=\"stroke: #383838; stroke-width: 1.5;\" width=\"145\" x=\"32\" y=\"122\"/><text fill=\"#000000\" font-family=\"sans-serif\" font-size=\"12\" font-style=\"italic\" lengthAdjust=\"spacingAndGlyphs\" textLength=\"115\" x=\"47\" y=\"138.1387\">«requirement def»</text><text fill=\"#000000\" font-family=\"sans-serif\" font-size=\"12\" lengthAdjust=\"spacingAndGlyphs\" textLength=\"16\" x=\"96.5\" y=\"152.1074\">R1</text><line style=\"stroke: #383838; stroke-width: 1.5;\" x1=\"33\" x2=\"176\" y1=\"159.9375\" y2=\"159.9375\"/><text fill=\"#000000\" font-family=\"sans-serif\" font-size=\"11\" font-weight=\"bold\" lengthAdjust=\"spacingAndGlyphs\" textLength=\"46\" x=\"38\" y=\"190.9526\">require</text><text fill=\"#000000\" font-family=\"sans-serif\" font-size=\"11\" lengthAdjust=\"spacingAndGlyphs\" textLength=\"13\" x=\"88\" y=\"190.9526\">c1</text><text fill=\"#000000\" font-family=\"sans-serif\" font-size=\"11\" font-style=\"italic\" lengthAdjust=\"spacingAndGlyphs\" textLength=\"133\" x=\"38\" y=\"203.7573\">:&gt;&gt;RequirementTest::c</text><line style=\"stroke: #383838; stroke-width: 1.0;\" x1=\"33\" x2=\"72.5\" y1=\"174.3398\" y2=\"174.3398\"/><text fill=\"#000000\" font-family=\"sans-serif\" font-size=\"11\" lengthAdjust=\"spacingAndGlyphs\" textLength=\"64\" x=\"72.5\" y=\"177.6479\">constraints</text><line style=\"stroke: #383838; stroke-width: 1.0;\" x1=\"136.5\" x2=\"176\" y1=\"174.3398\" y2=\"174.3398\"/></a><!--MD5=[1dd1bfd58a279cf63c5f349dbc8fc6a1]\n",
       "class E11--><a href=\"psysml:b85d82e7-3bb2-4c49-b03c-5a9b3c771643\" target=\"_top\" title=\"psysml:b85d82e7-3bb2-4c49-b03c-5a9b3c771643\" xlink:actuate=\"onRequest\" xlink:href=\"psysml:b85d82e7-3bb2-4c49-b03c-5a9b3c771643\" xlink:show=\"new\" xlink:title=\"psysml:b85d82e7-3bb2-4c49-b03c-5a9b3c771643\" xlink:type=\"simple\"><rect fill=\"#FFFFFF\" height=\"45.9375\" id=\"E11\" rx=\"10\" ry=\"10\" style=\"stroke: #383838; stroke-width: 1.5;\" width=\"42\" x=\"498.5\" y=\"100\"/><text fill=\"#000000\" font-family=\"sans-serif\" font-size=\"12\" font-style=\"italic\" lengthAdjust=\"spacingAndGlyphs\" textLength=\"40\" x=\"499.5\" y=\"116.1387\">«part»</text><text fill=\"#000000\" font-family=\"sans-serif\" font-size=\"12\" lengthAdjust=\"spacingAndGlyphs\" textLength=\"8\" x=\"515.5\" y=\"130.1074\">p</text><line style=\"stroke: #383838; stroke-width: 1.5;\" x1=\"499.5\" x2=\"539.5\" y1=\"137.9375\" y2=\"137.9375\"/></a><!--MD5=[49a0ec8f00dab7302a31f22d0f0fe584]\n",
       "class E12--><a href=\"psysml:f6ed6b0e-7205-4bca-ba49-af9a51c8942a\" target=\"_top\" title=\"psysml:f6ed6b0e-7205-4bca-ba49-af9a51c8942a\" xlink:actuate=\"onRequest\" xlink:href=\"psysml:f6ed6b0e-7205-4bca-ba49-af9a51c8942a\" xlink:show=\"new\" xlink:title=\"psysml:f6ed6b0e-7205-4bca-ba49-af9a51c8942a\" xlink:type=\"simple\"><rect fill=\"#FFFFFF\" height=\"45.9375\" id=\"E12\" rx=\"10\" ry=\"10\" style=\"stroke: #383838; stroke-width: 1.5;\" width=\"42\" x=\"83.5\" y=\"245\"/><text fill=\"#000000\" font-family=\"sans-serif\" font-size=\"12\" font-style=\"italic\" lengthAdjust=\"spacingAndGlyphs\" textLength=\"40\" x=\"84.5\" y=\"261.1387\">«part»</text><text fill=\"#000000\" font-family=\"sans-serif\" font-size=\"12\" lengthAdjust=\"spacingAndGlyphs\" textLength=\"8\" x=\"100.5\" y=\"275.1074\">q</text><line style=\"stroke: #383838; stroke-width: 1.5;\" x1=\"84.5\" x2=\"124.5\" y1=\"282.9375\" y2=\"282.9375\"/></a><!--MD5=[ee3c913d1a06f366521f9ef512b67efe]\n",
       "class E13--><a href=\"psysml:dc92139c-b950-485f-92a5-3d6f837d8293\" target=\"_top\" title=\"psysml:dc92139c-b950-485f-92a5-3d6f837d8293\" xlink:actuate=\"onRequest\" xlink:href=\"psysml:dc92139c-b950-485f-92a5-3d6f837d8293\" xlink:show=\"new\" xlink:title=\"psysml:dc92139c-b950-485f-92a5-3d6f837d8293\" xlink:type=\"simple\"><rect fill=\"#FFFFFF\" height=\"45.9375\" id=\"E13\" rx=\"10\" ry=\"10\" style=\"stroke: #383838; stroke-width: 1.5;\" width=\"93\" x=\"243.5\" y=\"213\"/><text fill=\"#000000\" font-family=\"sans-serif\" font-size=\"12\" font-style=\"italic\" lengthAdjust=\"spacingAndGlyphs\" textLength=\"91\" x=\"244.5\" y=\"229.1387\">«requirement»</text><text fill=\"#000000\" font-family=\"sans-serif\" font-size=\"12\" lengthAdjust=\"spacingAndGlyphs\" textLength=\"21\" x=\"279.5\" y=\"243.1074\">r: R</text><line style=\"stroke: #383838; stroke-width: 1.5;\" x1=\"244.5\" x2=\"335.5\" y1=\"250.9375\" y2=\"250.9375\"/></a><!--MD5=[05d275557350bfb9b23a4ef7222b4c39]\n",
       "link E3 to E2--><a href=\"psysml:9201001b-4e3f-46f0-8224-89e70f802e39\" target=\"_top\" title=\"psysml:9201001b-4e3f-46f0-8224-89e70f802e39\" xlink:actuate=\"onRequest\" xlink:href=\"psysml:9201001b-4e3f-46f0-8224-89e70f802e39\" xlink:show=\"new\" xlink:title=\"psysml:9201001b-4e3f-46f0-8224-89e70f802e39\" xlink:type=\"simple\"><path d=\"M144.87,64 C166.09,64 192.94,64 217.7,64 \" fill=\"none\" id=\"E3-&gt;E2\" style=\"stroke: #383838; stroke-width: 1.0;\"/><polygon fill=\"#FFFFFF\" points=\"237.84,64,218.84,71,218.84,57,237.84,64\" style=\"stroke: #383838; stroke-width: 1.0;\"/><ellipse cx=\"213.14\" cy=\"69\" fill=\"#383838\" rx=\"2\" ry=\"2\" style=\"stroke: #383838; stroke-width: 1.0;\"/><ellipse cx=\"213.14\" cy=\"59\" fill=\"#383838\" rx=\"2\" ry=\"2\" style=\"stroke: #383838; stroke-width: 1.0;\"/></a><!--MD5=[62aa6af11e70f752912c1cb0466f24f7]\n",
       "reverse link E4 to E5--><a href=\"psysml:56458fbc-ce11-45ea-8fa2-2092e0cfc05c\" target=\"_top\" title=\"psysml:56458fbc-ce11-45ea-8fa2-2092e0cfc05c\" xlink:actuate=\"onRequest\" xlink:href=\"psysml:56458fbc-ce11-45ea-8fa2-2092e0cfc05c\" xlink:show=\"new\" xlink:title=\"psysml:56458fbc-ce11-45ea-8fa2-2092e0cfc05c\" xlink:type=\"simple\"><path d=\"M593.54,241.81 C608.62,243.01 624.3,244.26 638.74,245.41 \" fill=\"none\" id=\"E4&lt;-E5\" style=\"stroke: #383838; stroke-width: 1.0;\"/><ellipse cx=\"586.105\" cy=\"241.2122\" fill=\"#FFFFFF\" rx=\"8\" ry=\"8\" style=\"stroke: #383838; stroke-width: 1.0;\"/><line style=\"stroke: #383838; stroke-width: 1.0;\" x1=\"594.08\" x2=\"578.13\" y1=\"241.8444\" y2=\"240.58\"/><line style=\"stroke: #383838; stroke-width: 1.0;\" x1=\"585.4728\" x2=\"586.7372\" y1=\"249.1872\" y2=\"233.2372\"/></a><!--MD5=[c6fc7cdb0cabde04948078cf183fa696]\n",
       "reverse link E4 to E8--><a href=\"psysml:72b41e7b-9298-4fd0-92ac-738cc777b35a\" target=\"_top\" title=\"psysml:72b41e7b-9298-4fd0-92ac-738cc777b35a\" xlink:actuate=\"onRequest\" xlink:href=\"psysml:72b41e7b-9298-4fd0-92ac-738cc777b35a\" xlink:show=\"new\" xlink:title=\"psysml:72b41e7b-9298-4fd0-92ac-738cc777b35a\" xlink:type=\"simple\"><path d=\"M590.24,205.09 C610.58,196.08 632.28,186.46 650.74,178.28 \" fill=\"none\" id=\"E4&lt;-E8\" style=\"stroke: #383838; stroke-width: 1.0;\"/><polygon fill=\"#383838\" points=\"578.13,210.46,585.2365,211.684,589.0995,205.5949,581.9931,204.3709,578.13,210.46\" style=\"stroke: #383838; stroke-width: 1.0;\"/></a><!--MD5=[062ed86c389d1a88f61c6380d0491e17]\n",
       "reverse link E12 to E13--><a href=\"psysml:dc92139c-b950-485f-92a5-3d6f837d8293\" target=\"_top\" title=\"psysml:dc92139c-b950-485f-92a5-3d6f837d8293\" xlink:actuate=\"onRequest\" xlink:href=\"psysml:dc92139c-b950-485f-92a5-3d6f837d8293\" xlink:show=\"new\" xlink:title=\"psysml:dc92139c-b950-485f-92a5-3d6f837d8293\" xlink:type=\"simple\"><path d=\"M139.02,262.15 C168.28,257.05 211.02,249.6 243.39,243.95 \" fill=\"none\" id=\"E12&lt;-E13\" style=\"stroke: #383838; stroke-width: 1.0;\"/><polygon fill=\"#383838\" points=\"125.84,264.45,132.4403,267.3544,137.6599,262.3789,131.0596,259.4745,125.84,264.45\" style=\"stroke: #383838; stroke-width: 1.0;\"/></a><!--MD5=[017847e01ff9a8bd19f247411074f987]\n",
       "link E13 to E4--><a href=\"psysml:84833459-b0b4-497f-8a66-9d75104fb430\" target=\"_top\" title=\"psysml:84833459-b0b4-497f-8a66-9d75104fb430\" xlink:actuate=\"onRequest\" xlink:href=\"psysml:84833459-b0b4-497f-8a66-9d75104fb430\" xlink:show=\"new\" xlink:title=\"psysml:84833459-b0b4-497f-8a66-9d75104fb430\" xlink:type=\"simple\"><path d=\"M336.76,236 C366.45,236 405.9,236 440.46,236 \" fill=\"none\" id=\"E13-&gt;E4\" style=\"stroke: #383838; stroke-width: 1.0;\"/><polygon fill=\"#FFFFFF\" points=\"460.67,236,441.67,243,441.67,229,460.67,236\" style=\"stroke: #383838; stroke-width: 1.0;\"/><ellipse cx=\"435.97\" cy=\"241\" fill=\"#383838\" rx=\"2\" ry=\"2\" style=\"stroke: #383838; stroke-width: 1.0;\"/><ellipse cx=\"435.97\" cy=\"231\" fill=\"#383838\" rx=\"2\" ry=\"2\" style=\"stroke: #383838; stroke-width: 1.0;\"/></a><!--MD5=[2cfe899c895462254056921bfb67315f]\n",
       "link E13 to E11--><a href=\"psysml:ed40ce07-1501-496b-adae-3639fe39f1e8\" target=\"_top\" title=\"psysml:ed40ce07-1501-496b-adae-3639fe39f1e8\" xlink:actuate=\"onRequest\" xlink:href=\"psysml:ed40ce07-1501-496b-adae-3639fe39f1e8\" xlink:show=\"new\" xlink:title=\"psysml:ed40ce07-1501-496b-adae-3639fe39f1e8\" xlink:type=\"simple\"><path d=\"M336.76,213.27 C383.95,189.83 455.79,154.15 493.46,135.44 \" fill=\"none\" id=\"E13-&gt;E11\" style=\"stroke: #383838; stroke-width: 1.0; stroke-dasharray: 7.0,7.0;\"/><polygon fill=\"#383838\" points=\"498.32,133.02,488.4797,133.4294,493.8393,135.2389,492.0299,140.5985,498.32,133.02\" style=\"stroke: #383838; stroke-width: 1.0;\"/><text fill=\"#000000\" font-family=\"sans-serif\" font-size=\"13\" lengthAdjust=\"spacingAndGlyphs\" textLength=\"57\" x=\"373\" y=\"166.0669\">«satisfy»</text></a><!--MD5=[e59b6a7aea40b6af8856fa11ff5137c2]\n",
       "@startuml\r\n",
       "left to right direction\r\n",
       "skinparam monochrome true\r\n",
       "skinparam classbackgroundcolor white\r\n",
       "skinparam shadowing false\r\n",
       "skinparam wrapWidth 300\r\n",
       "hide circle\r\n",
       "\r\n",
       "package \"RequirementTest\" as E1  [[psysml:32d2418d-b451-4172-b0c3-f203713ef4c8 ]]  {\r\n",
       "comp def \"C\" as E2  <<(T,blue)constraint def>> [[psysml:a1b28860-c9a8-4d37-931e-31ae0c14540e ]] {\r\n",
       "}\r\n",
       "comp usage \"c: C\" as E3  <<(T,blue)constraint>> [[psysml:4f6724e1-6261-429d-9c16-1831387bac9b ]] {\r\n",
       "}\r\n",
       "comp def \"R\" as E4  <<(T,blue)requirement def>> [[psysml:a2742730-9bdb-48ea-a333-70a51cef011c ]] {\r\n",
       "\r\n",
       "- -\r\n",
       "- - constraints - -\r\n",
       "<b>require</b> c\r\n",
       "<i>assume</i> c1: C\r\n",
       "}\r\n",
       "comp def \" [<b>1</b>] A\" as E5  <<(T,blue)requirement def>> [[psysml:56458fbc-ce11-45ea-8fa2-2092e0cfc05c ]] {\r\n",
       "Text\r\n",
       "- -\r\n",
       "}\r\n",
       "comp usage \"<s>noname</s>\" as E8  <<(T,blue)requirement>> [[psysml:72b41e7b-9298-4fd0-92ac-738cc777b35a ]] {\r\n",
       "}\r\n",
       "comp def \"R1\" as E9  <<(T,blue)requirement def>> [[psysml:ec52d3df-f8e8-4ac5-95c0-bf3447feb8a5 ]] {\r\n",
       "- - constraints - -\r\n",
       "<b>require</b> c1\\n//:>>RequirementTest::c// \r\n",
       "}\r\n",
       "comp usage \"p\" as E11  <<(T,blue)part>> [[psysml:b85d82e7-3bb2-4c49-b03c-5a9b3c771643 ]] {\r\n",
       "}\r\n",
       "comp usage \"q\" as E12  <<(T,blue)part>> [[psysml:f6ed6b0e-7205-4bca-ba49-af9a51c8942a ]] {\r\n",
       "}\r\n",
       "comp usage \"r: R\" as E13  <<(T,blue)requirement>> [[psysml:dc92139c-b950-485f-92a5-3d6f837d8293 ]] {\r\n",
       "}\r\n",
       "E3 - -:|> E2 [[psysml:9201001b-4e3f-46f0-8224-89e70f802e39 ]] \r\n",
       "E4 +- - E5 [[psysml:56458fbc-ce11-45ea-8fa2-2092e0cfc05c ]] \r\n",
       "E4 *- - E8 [[psysml:72b41e7b-9298-4fd0-92ac-738cc777b35a ]] \r\n",
       "E12 *- - E13 [[psysml:dc92139c-b950-485f-92a5-3d6f837d8293 ]] \r\n",
       "E13 - -:|> E4 [[psysml:84833459-b0b4-497f-8a66-9d75104fb430 ]] \r\n",
       "E13 ..> E11 [[psysml:ed40ce07-1501-496b-adae-3639fe39f1e8 ]] : <<satisfy>>\r\n",
       "}\r\n",
       "@enduml\r\n",
       "\n",
       "PlantUML version 1.2020.13(Sat Jun 13 12:26:38 UTC 2020)\n",
       "(EPL source distribution)\n",
       "Java Runtime: OpenJDK Runtime Environment\n",
       "JVM: OpenJDK 64-Bit Server VM\n",
       "Default Encoding: UTF-8\n",
       "Language: en\n",
       "Country: null\n",
       "--></g></svg>"
      ]
     },
     "execution_count": 17,
     "metadata": {},
     "output_type": "execute_result"
    }
   ],
   "source": [
    "%viz --style=\"LR\" --view=\"Tree\" \"RequirementTest\""
   ]
  },
  {
   "cell_type": "code",
   "execution_count": 18,
   "id": "disabled-inside",
   "metadata": {
    "execution": {
     "iopub.execute_input": "2021-03-26T13:01:07.950107Z",
     "iopub.status.busy": "2021-03-26T13:01:07.949385Z",
     "iopub.status.idle": "2021-03-26T13:01:07.954163Z",
     "shell.execute_reply": "2021-03-26T13:01:07.953272Z"
    }
   },
   "outputs": [
    {
     "data": {
      "image/svg+xml": [
       "<?xml version=\"1.0\" encoding=\"UTF-8\" standalone=\"no\"?><svg xmlns=\"http://www.w3.org/2000/svg\" xmlns:xlink=\"http://www.w3.org/1999/xlink\" contentScriptType=\"application/ecmascript\" contentStyleType=\"text/css\" height=\"12px\" preserveAspectRatio=\"none\" style=\"width:12px;height:12px;\" version=\"1.1\" viewBox=\"0 0 12 12\" width=\"12px\" zoomAndPan=\"magnify\"><defs/><g><!--MD5=[19d285c9d72a204eba4e2cd117d745e8]\n",
       "@startuml\r\n",
       "left to right direction\r\n",
       "skinparam monochrome true\r\n",
       "skinparam classbackgroundcolor white\r\n",
       "skinparam shadowing false\r\n",
       "skinparam wrapWidth 300\r\n",
       "hide circle\r\n",
       "\r\n",
       "@enduml\r\n",
       "\n",
       "PlantUML version 1.2020.13(Sat Jun 13 12:26:38 UTC 2020)\n",
       "(EPL source distribution)\n",
       "Java Runtime: OpenJDK Runtime Environment\n",
       "JVM: OpenJDK 64-Bit Server VM\n",
       "Default Encoding: UTF-8\n",
       "Language: en\n",
       "Country: null\n",
       "--></g></svg>"
      ]
     },
     "execution_count": 18,
     "metadata": {},
     "output_type": "execute_result"
    }
   ],
   "source": [
    "%viz --style=\"LR\" --view=\"State\" \"RequirementTest\""
   ]
  },
  {
   "cell_type": "code",
   "execution_count": 19,
   "id": "meaning-atlanta",
   "metadata": {
    "execution": {
     "iopub.execute_input": "2021-03-26T13:01:08.007577Z",
     "iopub.status.busy": "2021-03-26T13:01:08.006911Z",
     "iopub.status.idle": "2021-03-26T13:01:08.044074Z",
     "shell.execute_reply": "2021-03-26T13:01:08.042753Z"
    }
   },
   "outputs": [
    {
     "data": {
      "image/svg+xml": [
       "<?xml version=\"1.0\" encoding=\"UTF-8\" standalone=\"no\"?><svg xmlns=\"http://www.w3.org/2000/svg\" xmlns:xlink=\"http://www.w3.org/1999/xlink\" contentScriptType=\"application/ecmascript\" contentStyleType=\"text/css\" height=\"600px\" preserveAspectRatio=\"none\" style=\"width:405px;height:600px;\" version=\"1.1\" viewBox=\"0 0 405 600\" width=\"405px\" zoomAndPan=\"magnify\"><defs/><g><!--MD5=[fbc87193dbaf4d95561dea2c320d4a47]\n",
       "cluster E1--><a href=\"psysml:32d2418d-b451-4172-b0c3-f203713ef4c8\" target=\"_top\" title=\"psysml:32d2418d-b451-4172-b0c3-f203713ef4c8\" xlink:actuate=\"onRequest\" xlink:href=\"psysml:32d2418d-b451-4172-b0c3-f203713ef4c8\" xlink:show=\"new\" xlink:title=\"psysml:32d2418d-b451-4172-b0c3-f203713ef4c8\" xlink:type=\"simple\"><polygon fill=\"#FFFFFF\" points=\"16,6,158,6,165,28.2969,383,28.2969,383,588,16,588,16,6\" style=\"stroke: #000000; stroke-width: 1.5;\"/><line style=\"stroke: #000000; stroke-width: 1.5;\" x1=\"16\" x2=\"165\" y1=\"28.2969\" y2=\"28.2969\"/><text fill=\"#000000\" font-family=\"sans-serif\" font-size=\"14\" font-weight=\"bold\" lengthAdjust=\"spacingAndGlyphs\" textLength=\"136\" x=\"20\" y=\"20.9951\">RequirementTest</text></a><!--MD5=[168fadf3d0c3fd93dd5d6da1b1d7ab76]\n",
       "cluster E7--><a href=\"psysml:f6ed6b0e-7205-4bca-ba49-af9a51c8942a\" target=\"_top\" title=\"psysml:f6ed6b0e-7205-4bca-ba49-af9a51c8942a\" xlink:actuate=\"onRequest\" xlink:href=\"psysml:f6ed6b0e-7205-4bca-ba49-af9a51c8942a\" xlink:show=\"new\" xlink:title=\"psysml:f6ed6b0e-7205-4bca-ba49-af9a51c8942a\" xlink:type=\"simple\"><rect fill=\"#FFFFFF\" height=\"229\" id=\"E7\" rx=\"10\" ry=\"10\" style=\"stroke: #383838; stroke-width: 1.5;\" width=\"194\" x=\"40\" y=\"49\"/><rect fill=\"#F8F8F8\" height=\"23.9688\" rx=\"10\" ry=\"10\" style=\"stroke: #F8F8F8; stroke-width: 1.5;\" width=\"194\" x=\"40\" y=\"49\"/><rect fill=\"#F8F8F8\" height=\"10\" style=\"stroke: #F8F8F8; stroke-width: 1.5;\" width=\"194\" x=\"40\" y=\"62.9688\"/><rect fill=\"none\" height=\"229\" id=\"E7\" rx=\"10\" ry=\"10\" style=\"stroke: #383838; stroke-width: 1.5;\" width=\"194\" x=\"40\" y=\"49\"/><text fill=\"#000000\" font-family=\"sans-serif\" font-size=\"12\" lengthAdjust=\"spacingAndGlyphs\" textLength=\"8\" x=\"133\" y=\"65.1387\">q</text><line style=\"stroke: #383838; stroke-width: 1.0;\" x1=\"40\" x2=\"234\" y1=\"72.9688\" y2=\"72.9688\"/></a><!--MD5=[55dfccfc6c49c2d10cd1bd2211a6c90c]\n",
       "cluster E8--><a href=\"psysml:dc92139c-b950-485f-92a5-3d6f837d8293\" target=\"_top\" title=\"psysml:dc92139c-b950-485f-92a5-3d6f837d8293\" xlink:actuate=\"onRequest\" xlink:href=\"psysml:dc92139c-b950-485f-92a5-3d6f837d8293\" xlink:show=\"new\" xlink:title=\"psysml:dc92139c-b950-485f-92a5-3d6f837d8293\" xlink:type=\"simple\"><rect fill=\"#FFFFFF\" height=\"146\" id=\"E8\" rx=\"10\" ry=\"10\" style=\"stroke: #383838; stroke-width: 1.5;\" width=\"130\" x=\"72\" y=\"100\"/><rect fill=\"#F8F8F8\" height=\"37.9375\" rx=\"10\" ry=\"10\" style=\"stroke: #F8F8F8; stroke-width: 1.5;\" width=\"130\" x=\"72\" y=\"100\"/><rect fill=\"#F8F8F8\" height=\"10\" style=\"stroke: #F8F8F8; stroke-width: 1.5;\" width=\"130\" x=\"72\" y=\"127.9375\"/><rect fill=\"none\" height=\"146\" id=\"E8\" rx=\"10\" ry=\"10\" style=\"stroke: #383838; stroke-width: 1.5;\" width=\"130\" x=\"72\" y=\"100\"/><text fill=\"#000000\" font-family=\"sans-serif\" font-size=\"12\" font-style=\"italic\" lengthAdjust=\"spacingAndGlyphs\" textLength=\"91\" x=\"91.5\" y=\"116.1387\">«requirement»</text><text fill=\"#000000\" font-family=\"sans-serif\" font-size=\"12\" lengthAdjust=\"spacingAndGlyphs\" textLength=\"21\" x=\"126.5\" y=\"130.1074\">r: R</text><line style=\"stroke: #383838; stroke-width: 1.0;\" x1=\"72\" x2=\"202\" y1=\"137.9375\" y2=\"137.9375\"/></a><g id=\"E1.E2\"><a href=\"psysml:a1b28860-c9a8-4d37-931e-31ae0c14540e\" target=\"_top\" title=\"psysml:a1b28860-c9a8-4d37-931e-31ae0c14540e\" xlink:actuate=\"onRequest\" xlink:href=\"psysml:a1b28860-c9a8-4d37-931e-31ae0c14540e\" xlink:show=\"new\" xlink:title=\"psysml:a1b28860-c9a8-4d37-931e-31ae0c14540e\" xlink:type=\"simple\"><rect fill=\"#FFFFFF\" height=\"42.9375\" id=\"E2\" style=\"stroke: #383838; stroke-width: 1.5;\" width=\"109\" x=\"82.5\" y=\"294.5\"/><rect fill=\"#F8F8F8\" height=\"37.9375\" style=\"stroke: #383838; stroke-width: 1.5;\" width=\"109\" x=\"82.5\" y=\"294.5\"/><text fill=\"#000000\" font-family=\"sans-serif\" font-size=\"12\" font-style=\"italic\" lengthAdjust=\"spacingAndGlyphs\" textLength=\"102\" x=\"86\" y=\"310.6387\">«constraint def»</text><text fill=\"#000000\" font-family=\"sans-serif\" font-size=\"12\" lengthAdjust=\"spacingAndGlyphs\" textLength=\"8\" x=\"133\" y=\"324.6074\">C</text></a></g><g id=\"E1.E4\"><a href=\"psysml:a2742730-9bdb-48ea-a333-70a51cef011c\" target=\"_top\" title=\"psysml:a2742730-9bdb-48ea-a333-70a51cef011c\" xlink:actuate=\"onRequest\" xlink:href=\"psysml:a2742730-9bdb-48ea-a333-70a51cef011c\" xlink:show=\"new\" xlink:title=\"psysml:a2742730-9bdb-48ea-a333-70a51cef011c\" xlink:type=\"simple\"><rect fill=\"#FFFFFF\" height=\"42.9375\" id=\"E4\" style=\"stroke: #383838; stroke-width: 1.5;\" width=\"122\" x=\"76\" y=\"372.5\"/><rect fill=\"#F8F8F8\" height=\"37.9375\" style=\"stroke: #383838; stroke-width: 1.5;\" width=\"122\" x=\"76\" y=\"372.5\"/><text fill=\"#000000\" font-family=\"sans-serif\" font-size=\"12\" font-style=\"italic\" lengthAdjust=\"spacingAndGlyphs\" textLength=\"115\" x=\"79.5\" y=\"388.6387\">«requirement def»</text><text fill=\"#000000\" font-family=\"sans-serif\" font-size=\"12\" lengthAdjust=\"spacingAndGlyphs\" textLength=\"8\" x=\"133\" y=\"402.6074\">R</text></a></g><g id=\"E1.E5\"><a href=\"psysml:ec52d3df-f8e8-4ac5-95c0-bf3447feb8a5\" target=\"_top\" title=\"psysml:ec52d3df-f8e8-4ac5-95c0-bf3447feb8a5\" xlink:actuate=\"onRequest\" xlink:href=\"psysml:ec52d3df-f8e8-4ac5-95c0-bf3447feb8a5\" xlink:show=\"new\" xlink:title=\"psysml:ec52d3df-f8e8-4ac5-95c0-bf3447feb8a5\" xlink:type=\"simple\"><rect fill=\"#FFFFFF\" height=\"42.9375\" id=\"E5\" style=\"stroke: #383838; stroke-width: 1.5;\" width=\"122\" x=\"76\" y=\"450.5\"/><rect fill=\"#F8F8F8\" height=\"37.9375\" style=\"stroke: #383838; stroke-width: 1.5;\" width=\"122\" x=\"76\" y=\"450.5\"/><text fill=\"#000000\" font-family=\"sans-serif\" font-size=\"12\" font-style=\"italic\" lengthAdjust=\"spacingAndGlyphs\" textLength=\"115\" x=\"79.5\" y=\"466.6387\">«requirement def»</text><text fill=\"#000000\" font-family=\"sans-serif\" font-size=\"12\" lengthAdjust=\"spacingAndGlyphs\" textLength=\"16\" x=\"129\" y=\"480.6074\">R1</text></a></g><g id=\"E1.E3\"><a href=\"psysml:4f6724e1-6261-429d-9c16-1831387bac9b\" target=\"_top\" title=\"psysml:4f6724e1-6261-429d-9c16-1831387bac9b\" xlink:actuate=\"onRequest\" xlink:href=\"psysml:4f6724e1-6261-429d-9c16-1831387bac9b\" xlink:show=\"new\" xlink:title=\"psysml:4f6724e1-6261-429d-9c16-1831387bac9b\" xlink:type=\"simple\"><rect fill=\"#FFFFFF\" height=\"42.9375\" id=\"E3\" rx=\"10\" ry=\"10\" style=\"stroke: #383838; stroke-width: 1.5;\" width=\"85\" x=\"94.5\" y=\"528.5\"/><rect fill=\"#F8F8F8\" height=\"37.9375\" rx=\"10\" ry=\"10\" style=\"stroke: #F8F8F8; stroke-width: 1.5;\" width=\"85\" x=\"94.5\" y=\"528.5\"/><rect fill=\"#F8F8F8\" height=\"10\" style=\"stroke: #F8F8F8; stroke-width: 1.5;\" width=\"85\" x=\"94.5\" y=\"556.4375\"/><rect fill=\"none\" height=\"42.9375\" id=\"E3\" rx=\"10\" ry=\"10\" style=\"stroke: #383838; stroke-width: 1.5;\" width=\"85\" x=\"94.5\" y=\"528.5\"/><text fill=\"#000000\" font-family=\"sans-serif\" font-size=\"12\" font-style=\"italic\" lengthAdjust=\"spacingAndGlyphs\" textLength=\"78\" x=\"98\" y=\"544.6387\">«constraint»</text><text fill=\"#000000\" font-family=\"sans-serif\" font-size=\"12\" lengthAdjust=\"spacingAndGlyphs\" textLength=\"23\" x=\"125.5\" y=\"558.6074\">c: C</text></a></g><g id=\"E1.E6\"><a href=\"psysml:b85d82e7-3bb2-4c49-b03c-5a9b3c771643\" target=\"_top\" title=\"psysml:b85d82e7-3bb2-4c49-b03c-5a9b3c771643\" xlink:actuate=\"onRequest\" xlink:href=\"psysml:b85d82e7-3bb2-4c49-b03c-5a9b3c771643\" xlink:show=\"new\" xlink:title=\"psysml:b85d82e7-3bb2-4c49-b03c-5a9b3c771643\" xlink:type=\"simple\"><rect fill=\"#FFFFFF\" height=\"40\" id=\"E6\" rx=\"10\" ry=\"10\" style=\"stroke: #383838; stroke-width: 1.5;\" width=\"50\" x=\"317\" y=\"218\"/><rect fill=\"#F8F8F8\" height=\"23.9688\" rx=\"10\" ry=\"10\" style=\"stroke: #F8F8F8; stroke-width: 1.5;\" width=\"50\" x=\"317\" y=\"218\"/><rect fill=\"#F8F8F8\" height=\"10\" style=\"stroke: #F8F8F8; stroke-width: 1.5;\" width=\"50\" x=\"317\" y=\"231.9688\"/><rect fill=\"none\" height=\"40\" id=\"E6\" rx=\"10\" ry=\"10\" style=\"stroke: #383838; stroke-width: 1.5;\" width=\"50\" x=\"317\" y=\"218\"/><text fill=\"#000000\" font-family=\"sans-serif\" font-size=\"12\" lengthAdjust=\"spacingAndGlyphs\" textLength=\"8\" x=\"338\" y=\"234.1387\">p</text></a></g><g id=\"E1.E7.E8.E9\"><a href=\"psysml:aab203df-2e20-42f3-8553-8efa379fea2d\" target=\"_top\" title=\"psysml:aab203df-2e20-42f3-8553-8efa379fea2d\" xlink:actuate=\"onRequest\" xlink:href=\"psysml:aab203df-2e20-42f3-8553-8efa379fea2d\" xlink:show=\"new\" xlink:title=\"psysml:aab203df-2e20-42f3-8553-8efa379fea2d\" xlink:type=\"simple\"><rect fill=\"#FFFFFF\" height=\"42.9375\" id=\"E9\" rx=\"10\" ry=\"10\" style=\"stroke: #383838; stroke-width: 1.5;\" width=\"82\" x=\"96\" y=\"159.5\"/><rect fill=\"#F8F8F8\" height=\"37.9375\" rx=\"10\" ry=\"10\" style=\"stroke: #F8F8F8; stroke-width: 1.5;\" width=\"82\" x=\"96\" y=\"159.5\"/><rect fill=\"#F8F8F8\" height=\"10\" style=\"stroke: #F8F8F8; stroke-width: 1.5;\" width=\"82\" x=\"96\" y=\"187.4375\"/><rect fill=\"none\" height=\"42.9375\" id=\"E9\" rx=\"10\" ry=\"10\" style=\"stroke: #383838; stroke-width: 1.5;\" width=\"82\" x=\"96\" y=\"159.5\"/><text fill=\"#000000\" font-family=\"sans-serif\" font-size=\"12\" font-style=\"italic\" lengthAdjust=\"spacingAndGlyphs\" textLength=\"75\" x=\"99.5\" y=\"175.6387\">«reference»</text><text fill=\"#000000\" font-family=\"sans-serif\" font-size=\"12\" lengthAdjust=\"spacingAndGlyphs\" textLength=\"26\" x=\"124\" y=\"189.6074\">subj</text></a></g><!--MD5=[c5e8897d989ce984f93528998a7150fe]\n",
       "link E8 to E6--><a href=\"psysml:ed40ce07-1501-496b-adae-3639fe39f1e8\" target=\"_top\" title=\"psysml:ed40ce07-1501-496b-adae-3639fe39f1e8\" xlink:actuate=\"onRequest\" xlink:href=\"psysml:ed40ce07-1501-496b-adae-3639fe39f1e8\" xlink:show=\"new\" xlink:title=\"psysml:ed40ce07-1501-496b-adae-3639fe39f1e8\" xlink:type=\"simple\"><path d=\"M202.6557,238 C203.7651,238 204.8814,238 206.0038,238 C241.92,238 284.14,238 311.68,238 \" fill=\"none\" id=\"E8-&gt;E6\" style=\"stroke: #383838; stroke-width: 1.0; stroke-dasharray: 7.0,7.0;\"/><polygon fill=\"#383838\" points=\"316.82,238,307.82,234,311.82,238,307.82,242,316.82,238\" style=\"stroke: #383838; stroke-width: 1.0;\"/><text fill=\"#000000\" font-family=\"sans-serif\" font-size=\"13\" lengthAdjust=\"spacingAndGlyphs\" textLength=\"57\" x=\"251\" y=\"234.0669\">«satisfy»</text></a><!--MD5=[79a837024320cd554c1129fe6eb18741]\n",
       "@startuml\r\n",
       "skinparam ranksep 8\r\n",
       "skinparam rectangle {\r\n",
       " backgroundColor<<block>> LightGreen\r\n",
       "}\r\n",
       "left to right direction\r\n",
       "skinparam monochrome true\r\n",
       "skinparam classbackgroundcolor white\r\n",
       "skinparam shadowing false\r\n",
       "skinparam wrapWidth 300\r\n",
       "hide circle\r\n",
       "\r\n",
       "package \"RequirementTest\" as E1  [[psysml:32d2418d-b451-4172-b0c3-f203713ef4c8 ]]  {\r\n",
       "def \"C\" as E2  <<(T,blue)constraint def>> [[psysml:a1b28860-c9a8-4d37-931e-31ae0c14540e ]] \r\n",
       "rec usage \"c: C\" as E3  <<(T,blue)constraint>> [[psysml:4f6724e1-6261-429d-9c16-1831387bac9b ]] {\r\n",
       "}\r\n",
       "def \"R\" as E4  <<(T,blue)requirement def>> [[psysml:a2742730-9bdb-48ea-a333-70a51cef011c ]] \r\n",
       "def \"R1\" as E5  <<(T,blue)requirement def>> [[psysml:ec52d3df-f8e8-4ac5-95c0-bf3447feb8a5 ]] \r\n",
       "rec usage \"p\" as E6  [[psysml:b85d82e7-3bb2-4c49-b03c-5a9b3c771643 ]] {\r\n",
       "}\r\n",
       "rec usage \"q\" as E7  [[psysml:f6ed6b0e-7205-4bca-ba49-af9a51c8942a ]] {\r\n",
       "rec usage \"r: R\" as E8  <<(T,blue)requirement>> [[psysml:dc92139c-b950-485f-92a5-3d6f837d8293 ]] {\r\n",
       "rec usage \"subj\" as E9  <<(T,blue)reference>> [[psysml:aab203df-2e20-42f3-8553-8efa379fea2d ]] {\r\n",
       "}\r\n",
       "}\r\n",
       "}\r\n",
       "E8 ..> E6 [[psysml:ed40ce07-1501-496b-adae-3639fe39f1e8 ]] : <<satisfy>>\r\n",
       "}\r\n",
       "@enduml\r\n",
       "\n",
       "PlantUML version 1.2020.13(Sat Jun 13 12:26:38 UTC 2020)\n",
       "(EPL source distribution)\n",
       "Java Runtime: OpenJDK Runtime Environment\n",
       "JVM: OpenJDK 64-Bit Server VM\n",
       "Default Encoding: UTF-8\n",
       "Language: en\n",
       "Country: null\n",
       "--></g></svg>"
      ]
     },
     "execution_count": 19,
     "metadata": {},
     "output_type": "execute_result"
    }
   ],
   "source": [
    "%viz --style=\"LR\" --view=\"Interconnection\" \"RequirementTest\""
   ]
  },
  {
   "cell_type": "code",
   "execution_count": 20,
   "id": "suburban-pound",
   "metadata": {
    "execution": {
     "iopub.execute_input": "2021-03-26T13:01:08.096066Z",
     "iopub.status.busy": "2021-03-26T13:01:08.095259Z",
     "iopub.status.idle": "2021-03-26T13:01:08.101525Z",
     "shell.execute_reply": "2021-03-26T13:01:08.101939Z"
    }
   },
   "outputs": [
    {
     "data": {
      "image/svg+xml": [
       "<?xml version=\"1.0\" encoding=\"UTF-8\" standalone=\"no\"?><svg xmlns=\"http://www.w3.org/2000/svg\" xmlns:xlink=\"http://www.w3.org/1999/xlink\" contentScriptType=\"application/ecmascript\" contentStyleType=\"text/css\" height=\"12px\" preserveAspectRatio=\"none\" style=\"width:12px;height:12px;\" version=\"1.1\" viewBox=\"0 0 12 12\" width=\"12px\" zoomAndPan=\"magnify\"><defs/><g><!--MD5=[7aeb398939421629f6affaa4a1a7b125]\n",
       "@startuml\r\n",
       "skinparam ranksep 8\r\n",
       "left to right direction\r\n",
       "skinparam monochrome true\r\n",
       "skinparam classbackgroundcolor white\r\n",
       "skinparam shadowing false\r\n",
       "skinparam wrapWidth 300\r\n",
       "hide circle\r\n",
       "\r\n",
       "@enduml\r\n",
       "\n",
       "PlantUML version 1.2020.13(Sat Jun 13 12:26:38 UTC 2020)\n",
       "(EPL source distribution)\n",
       "Java Runtime: OpenJDK Runtime Environment\n",
       "JVM: OpenJDK 64-Bit Server VM\n",
       "Default Encoding: UTF-8\n",
       "Language: en\n",
       "Country: null\n",
       "--></g></svg>"
      ]
     },
     "execution_count": 20,
     "metadata": {},
     "output_type": "execute_result"
    }
   ],
   "source": [
    "%viz --style=\"LR\" --view=\"Action\" \"RequirementTest\""
   ]
  },
  {
   "cell_type": "code",
   "execution_count": 21,
   "id": "arctic-creativity",
   "metadata": {
    "execution": {
     "iopub.execute_input": "2021-03-26T13:01:08.154285Z",
     "iopub.status.busy": "2021-03-26T13:01:08.153635Z",
     "iopub.status.idle": "2021-03-26T13:01:08.245543Z",
     "shell.execute_reply": "2021-03-26T13:01:08.244165Z"
    }
   },
   "outputs": [
    {
     "data": {
      "image/svg+xml": [
       "<?xml version=\"1.0\" encoding=\"UTF-8\" standalone=\"no\"?><svg xmlns=\"http://www.w3.org/2000/svg\" xmlns:xlink=\"http://www.w3.org/1999/xlink\" contentScriptType=\"application/ecmascript\" contentStyleType=\"text/css\" height=\"319px\" preserveAspectRatio=\"none\" style=\"width:794px;height:319px;\" version=\"1.1\" viewBox=\"0 0 794 319\" width=\"794px\" zoomAndPan=\"magnify\"><defs/><g><!--MD5=[fbc87193dbaf4d95561dea2c320d4a47]\n",
       "cluster E1--><a href=\"psysml:32d2418d-b451-4172-b0c3-f203713ef4c8\" target=\"_top\" title=\"psysml:32d2418d-b451-4172-b0c3-f203713ef4c8\" xlink:actuate=\"onRequest\" xlink:href=\"psysml:32d2418d-b451-4172-b0c3-f203713ef4c8\" xlink:show=\"new\" xlink:title=\"psysml:32d2418d-b451-4172-b0c3-f203713ef4c8\" xlink:type=\"simple\"><polygon fill=\"#FFFFFF\" points=\"16,6,158,6,165,28.2969,772,28.2969,772,307,16,307,16,6\" style=\"stroke: #000000; stroke-width: 1.5;\"/><line style=\"stroke: #000000; stroke-width: 1.5;\" x1=\"16\" x2=\"165\" y1=\"28.2969\" y2=\"28.2969\"/><text fill=\"#000000\" font-family=\"sans-serif\" font-size=\"14\" font-weight=\"bold\" lengthAdjust=\"spacingAndGlyphs\" textLength=\"136\" x=\"20\" y=\"20.9951\">RequirementTest</text></a><!--MD5=[b4997ac47864f28c2f74865a473b2911]\n",
       "class E2--><a href=\"psysml:a1b28860-c9a8-4d37-931e-31ae0c14540e\" target=\"_top\" title=\"psysml:a1b28860-c9a8-4d37-931e-31ae0c14540e\" xlink:actuate=\"onRequest\" xlink:href=\"psysml:a1b28860-c9a8-4d37-931e-31ae0c14540e\" xlink:show=\"new\" xlink:title=\"psysml:a1b28860-c9a8-4d37-931e-31ae0c14540e\" xlink:type=\"simple\"><rect fill=\"#FFFFFF\" height=\"45.9375\" id=\"E2\" style=\"stroke: #383838; stroke-width: 1.5;\" width=\"104\" x=\"238\" y=\"41\"/><text fill=\"#000000\" font-family=\"sans-serif\" font-size=\"12\" font-style=\"italic\" lengthAdjust=\"spacingAndGlyphs\" textLength=\"102\" x=\"239\" y=\"57.1387\">«constraint def»</text><text fill=\"#000000\" font-family=\"sans-serif\" font-size=\"12\" lengthAdjust=\"spacingAndGlyphs\" textLength=\"8\" x=\"286\" y=\"71.1074\">C</text><line style=\"stroke: #383838; stroke-width: 1.5;\" x1=\"239\" x2=\"341\" y1=\"78.9375\" y2=\"78.9375\"/></a><!--MD5=[09b614a08d8cba4a07c9adeb5e0fee81]\n",
       "class E3--><a href=\"psysml:4f6724e1-6261-429d-9c16-1831387bac9b\" target=\"_top\" title=\"psysml:4f6724e1-6261-429d-9c16-1831387bac9b\" xlink:actuate=\"onRequest\" xlink:href=\"psysml:4f6724e1-6261-429d-9c16-1831387bac9b\" xlink:show=\"new\" xlink:title=\"psysml:4f6724e1-6261-429d-9c16-1831387bac9b\" xlink:type=\"simple\"><rect fill=\"#FFFFFF\" height=\"45.9375\" id=\"E3\" rx=\"10\" ry=\"10\" style=\"stroke: #383838; stroke-width: 1.5;\" width=\"80\" x=\"64.5\" y=\"41\"/><text fill=\"#000000\" font-family=\"sans-serif\" font-size=\"12\" font-style=\"italic\" lengthAdjust=\"spacingAndGlyphs\" textLength=\"78\" x=\"65.5\" y=\"57.1387\">«constraint»</text><text fill=\"#000000\" font-family=\"sans-serif\" font-size=\"12\" lengthAdjust=\"spacingAndGlyphs\" textLength=\"23\" x=\"93\" y=\"71.1074\">c: C</text><line style=\"stroke: #383838; stroke-width: 1.5;\" x1=\"65.5\" x2=\"143.5\" y1=\"78.9375\" y2=\"78.9375\"/></a><!--MD5=[ebbe1d658d1005bcc118a6aa81145e00]\n",
       "class E4--><a href=\"psysml:a2742730-9bdb-48ea-a333-70a51cef011c\" target=\"_top\" title=\"psysml:a2742730-9bdb-48ea-a333-70a51cef011c\" xlink:actuate=\"onRequest\" xlink:href=\"psysml:a2742730-9bdb-48ea-a333-70a51cef011c\" xlink:show=\"new\" xlink:title=\"psysml:a2742730-9bdb-48ea-a333-70a51cef011c\" xlink:type=\"simple\"><rect fill=\"#FFFFFF\" height=\"109.1563\" id=\"E4\" style=\"stroke: #383838; stroke-width: 1.5;\" width=\"117\" x=\"461\" y=\"181.5\"/><text fill=\"#000000\" font-family=\"sans-serif\" font-size=\"12\" font-style=\"italic\" lengthAdjust=\"spacingAndGlyphs\" textLength=\"115\" x=\"462\" y=\"197.6387\">«requirement def»</text><text fill=\"#000000\" font-family=\"sans-serif\" font-size=\"12\" lengthAdjust=\"spacingAndGlyphs\" textLength=\"8\" x=\"515.5\" y=\"211.6074\">R</text><line style=\"stroke: #383838; stroke-width: 1.5;\" x1=\"462\" x2=\"577\" y1=\"219.4375\" y2=\"219.4375\"/><text fill=\"#000000\" font-family=\"sans-serif\" font-size=\"11\" lengthAdjust=\"spacingAndGlyphs\" textLength=\"0\" x=\"471\" y=\"233.6479\"/><line style=\"stroke: #383838; stroke-width: 1.0;\" x1=\"462\" x2=\"577\" y1=\"240.2422\" y2=\"240.2422\"/><text fill=\"#000000\" font-family=\"sans-serif\" font-size=\"11\" font-weight=\"bold\" lengthAdjust=\"spacingAndGlyphs\" textLength=\"46\" x=\"467\" y=\"271.2573\">require</text><text fill=\"#000000\" font-family=\"sans-serif\" font-size=\"11\" lengthAdjust=\"spacingAndGlyphs\" textLength=\"6\" x=\"517\" y=\"271.2573\">c</text><text fill=\"#000000\" font-family=\"sans-serif\" font-size=\"11\" font-style=\"italic\" lengthAdjust=\"spacingAndGlyphs\" textLength=\"46\" x=\"467\" y=\"284.062\">assume</text><text fill=\"#000000\" font-family=\"sans-serif\" font-size=\"11\" lengthAdjust=\"spacingAndGlyphs\" textLength=\"29\" x=\"517\" y=\"284.062\">c1: C</text><line style=\"stroke: #383838; stroke-width: 1.0;\" x1=\"462\" x2=\"487.5\" y1=\"254.6445\" y2=\"254.6445\"/><text fill=\"#000000\" font-family=\"sans-serif\" font-size=\"11\" lengthAdjust=\"spacingAndGlyphs\" textLength=\"64\" x=\"487.5\" y=\"257.9526\">constraints</text><line style=\"stroke: #383838; stroke-width: 1.0;\" x1=\"551.5\" x2=\"577\" y1=\"254.6445\" y2=\"254.6445\"/></a><!--MD5=[270fce915f116d4de14055a7c1d9a0f3]\n",
       "class E5--><a href=\"psysml:56458fbc-ce11-45ea-8fa2-2092e0cfc05c\" target=\"_top\" title=\"psysml:56458fbc-ce11-45ea-8fa2-2092e0cfc05c\" xlink:actuate=\"onRequest\" xlink:href=\"psysml:56458fbc-ce11-45ea-8fa2-2092e0cfc05c\" xlink:show=\"new\" xlink:title=\"psysml:56458fbc-ce11-45ea-8fa2-2092e0cfc05c\" xlink:type=\"simple\"><rect fill=\"#FFFFFF\" height=\"66.7422\" id=\"E5\" style=\"stroke: #383838; stroke-width: 1.5;\" width=\"117\" x=\"639\" y=\"216.5\"/><text fill=\"#000000\" font-family=\"sans-serif\" font-size=\"12\" font-style=\"italic\" lengthAdjust=\"spacingAndGlyphs\" textLength=\"115\" x=\"640\" y=\"232.6387\">«requirement def»</text><text fill=\"#000000\" font-family=\"sans-serif\" font-size=\"12\" lengthAdjust=\"spacingAndGlyphs\" textLength=\"5\" x=\"684.5\" y=\"246.6074\">[</text><text fill=\"#000000\" font-family=\"sans-serif\" font-size=\"12\" font-weight=\"bold\" lengthAdjust=\"spacingAndGlyphs\" textLength=\"8\" x=\"689.5\" y=\"246.6074\">1</text><text fill=\"#000000\" font-family=\"sans-serif\" font-size=\"12\" lengthAdjust=\"spacingAndGlyphs\" textLength=\"17\" x=\"697.5\" y=\"246.6074\">] A</text><line style=\"stroke: #383838; stroke-width: 1.5;\" x1=\"640\" x2=\"755\" y1=\"254.4375\" y2=\"254.4375\"/><text fill=\"#000000\" font-family=\"sans-serif\" font-size=\"11\" lengthAdjust=\"spacingAndGlyphs\" textLength=\"24\" x=\"645\" y=\"268.6479\">Text</text><line style=\"stroke: #383838; stroke-width: 1.0;\" x1=\"640\" x2=\"755\" y1=\"275.2422\" y2=\"275.2422\"/></a><!--MD5=[b9389687b975829384b498ac4b7476b2]\n",
       "class E8--><a href=\"psysml:72b41e7b-9298-4fd0-92ac-738cc777b35a\" target=\"_top\" title=\"psysml:72b41e7b-9298-4fd0-92ac-738cc777b35a\" xlink:actuate=\"onRequest\" xlink:href=\"psysml:72b41e7b-9298-4fd0-92ac-738cc777b35a\" xlink:show=\"new\" xlink:title=\"psysml:72b41e7b-9298-4fd0-92ac-738cc777b35a\" xlink:type=\"simple\"><rect fill=\"#FFFFFF\" height=\"45.9375\" id=\"E8\" rx=\"10\" ry=\"10\" style=\"stroke: #383838; stroke-width: 1.5;\" width=\"93\" x=\"651\" y=\"135\"/><text fill=\"#000000\" font-family=\"sans-serif\" font-size=\"12\" font-style=\"italic\" lengthAdjust=\"spacingAndGlyphs\" textLength=\"91\" x=\"652\" y=\"151.1387\">«requirement»</text><text fill=\"#000000\" font-family=\"sans-serif\" font-size=\"12\" lengthAdjust=\"spacingAndGlyphs\" text-decoration=\"line-through\" textLength=\"51\" x=\"672\" y=\"165.1074\">noname</text><line style=\"stroke: #383838; stroke-width: 1.5;\" x1=\"652\" x2=\"743\" y1=\"172.9375\" y2=\"172.9375\"/></a><!--MD5=[fd4143e9d270a159db93a4ea2a975926]\n",
       "class E9--><a href=\"psysml:ec52d3df-f8e8-4ac5-95c0-bf3447feb8a5\" target=\"_top\" title=\"psysml:ec52d3df-f8e8-4ac5-95c0-bf3447feb8a5\" xlink:actuate=\"onRequest\" xlink:href=\"psysml:ec52d3df-f8e8-4ac5-95c0-bf3447feb8a5\" xlink:show=\"new\" xlink:title=\"psysml:ec52d3df-f8e8-4ac5-95c0-bf3447feb8a5\" xlink:type=\"simple\"><rect fill=\"#FFFFFF\" height=\"88.3516\" id=\"E9\" style=\"stroke: #383838; stroke-width: 1.5;\" width=\"145\" x=\"32\" y=\"122\"/><text fill=\"#000000\" font-family=\"sans-serif\" font-size=\"12\" font-style=\"italic\" lengthAdjust=\"spacingAndGlyphs\" textLength=\"115\" x=\"47\" y=\"138.1387\">«requirement def»</text><text fill=\"#000000\" font-family=\"sans-serif\" font-size=\"12\" lengthAdjust=\"spacingAndGlyphs\" textLength=\"16\" x=\"96.5\" y=\"152.1074\">R1</text><line style=\"stroke: #383838; stroke-width: 1.5;\" x1=\"33\" x2=\"176\" y1=\"159.9375\" y2=\"159.9375\"/><text fill=\"#000000\" font-family=\"sans-serif\" font-size=\"11\" font-weight=\"bold\" lengthAdjust=\"spacingAndGlyphs\" textLength=\"46\" x=\"38\" y=\"190.9526\">require</text><text fill=\"#000000\" font-family=\"sans-serif\" font-size=\"11\" lengthAdjust=\"spacingAndGlyphs\" textLength=\"13\" x=\"88\" y=\"190.9526\">c1</text><text fill=\"#000000\" font-family=\"sans-serif\" font-size=\"11\" font-style=\"italic\" lengthAdjust=\"spacingAndGlyphs\" textLength=\"133\" x=\"38\" y=\"203.7573\">:&gt;&gt;RequirementTest::c</text><line style=\"stroke: #383838; stroke-width: 1.0;\" x1=\"33\" x2=\"72.5\" y1=\"174.3398\" y2=\"174.3398\"/><text fill=\"#000000\" font-family=\"sans-serif\" font-size=\"11\" lengthAdjust=\"spacingAndGlyphs\" textLength=\"64\" x=\"72.5\" y=\"177.6479\">constraints</text><line style=\"stroke: #383838; stroke-width: 1.0;\" x1=\"136.5\" x2=\"176\" y1=\"174.3398\" y2=\"174.3398\"/></a><!--MD5=[1dd1bfd58a279cf63c5f349dbc8fc6a1]\n",
       "class E11--><a href=\"psysml:b85d82e7-3bb2-4c49-b03c-5a9b3c771643\" target=\"_top\" title=\"psysml:b85d82e7-3bb2-4c49-b03c-5a9b3c771643\" xlink:actuate=\"onRequest\" xlink:href=\"psysml:b85d82e7-3bb2-4c49-b03c-5a9b3c771643\" xlink:show=\"new\" xlink:title=\"psysml:b85d82e7-3bb2-4c49-b03c-5a9b3c771643\" xlink:type=\"simple\"><rect fill=\"#FFFFFF\" height=\"45.9375\" id=\"E11\" rx=\"10\" ry=\"10\" style=\"stroke: #383838; stroke-width: 1.5;\" width=\"42\" x=\"498.5\" y=\"100\"/><text fill=\"#000000\" font-family=\"sans-serif\" font-size=\"12\" font-style=\"italic\" lengthAdjust=\"spacingAndGlyphs\" textLength=\"40\" x=\"499.5\" y=\"116.1387\">«part»</text><text fill=\"#000000\" font-family=\"sans-serif\" font-size=\"12\" lengthAdjust=\"spacingAndGlyphs\" textLength=\"8\" x=\"515.5\" y=\"130.1074\">p</text><line style=\"stroke: #383838; stroke-width: 1.5;\" x1=\"499.5\" x2=\"539.5\" y1=\"137.9375\" y2=\"137.9375\"/></a><!--MD5=[49a0ec8f00dab7302a31f22d0f0fe584]\n",
       "class E12--><a href=\"psysml:f6ed6b0e-7205-4bca-ba49-af9a51c8942a\" target=\"_top\" title=\"psysml:f6ed6b0e-7205-4bca-ba49-af9a51c8942a\" xlink:actuate=\"onRequest\" xlink:href=\"psysml:f6ed6b0e-7205-4bca-ba49-af9a51c8942a\" xlink:show=\"new\" xlink:title=\"psysml:f6ed6b0e-7205-4bca-ba49-af9a51c8942a\" xlink:type=\"simple\"><rect fill=\"#FFFFFF\" height=\"45.9375\" id=\"E12\" rx=\"10\" ry=\"10\" style=\"stroke: #383838; stroke-width: 1.5;\" width=\"42\" x=\"83.5\" y=\"245\"/><text fill=\"#000000\" font-family=\"sans-serif\" font-size=\"12\" font-style=\"italic\" lengthAdjust=\"spacingAndGlyphs\" textLength=\"40\" x=\"84.5\" y=\"261.1387\">«part»</text><text fill=\"#000000\" font-family=\"sans-serif\" font-size=\"12\" lengthAdjust=\"spacingAndGlyphs\" textLength=\"8\" x=\"100.5\" y=\"275.1074\">q</text><line style=\"stroke: #383838; stroke-width: 1.5;\" x1=\"84.5\" x2=\"124.5\" y1=\"282.9375\" y2=\"282.9375\"/></a><!--MD5=[ee3c913d1a06f366521f9ef512b67efe]\n",
       "class E13--><a href=\"psysml:dc92139c-b950-485f-92a5-3d6f837d8293\" target=\"_top\" title=\"psysml:dc92139c-b950-485f-92a5-3d6f837d8293\" xlink:actuate=\"onRequest\" xlink:href=\"psysml:dc92139c-b950-485f-92a5-3d6f837d8293\" xlink:show=\"new\" xlink:title=\"psysml:dc92139c-b950-485f-92a5-3d6f837d8293\" xlink:type=\"simple\"><rect fill=\"#FFFFFF\" height=\"45.9375\" id=\"E13\" rx=\"10\" ry=\"10\" style=\"stroke: #383838; stroke-width: 1.5;\" width=\"93\" x=\"243.5\" y=\"213\"/><text fill=\"#000000\" font-family=\"sans-serif\" font-size=\"12\" font-style=\"italic\" lengthAdjust=\"spacingAndGlyphs\" textLength=\"91\" x=\"244.5\" y=\"229.1387\">«requirement»</text><text fill=\"#000000\" font-family=\"sans-serif\" font-size=\"12\" lengthAdjust=\"spacingAndGlyphs\" textLength=\"21\" x=\"279.5\" y=\"243.1074\">r: R</text><line style=\"stroke: #383838; stroke-width: 1.5;\" x1=\"244.5\" x2=\"335.5\" y1=\"250.9375\" y2=\"250.9375\"/></a><!--MD5=[05d275557350bfb9b23a4ef7222b4c39]\n",
       "link E3 to E2--><a href=\"psysml:9201001b-4e3f-46f0-8224-89e70f802e39\" target=\"_top\" title=\"psysml:9201001b-4e3f-46f0-8224-89e70f802e39\" xlink:actuate=\"onRequest\" xlink:href=\"psysml:9201001b-4e3f-46f0-8224-89e70f802e39\" xlink:show=\"new\" xlink:title=\"psysml:9201001b-4e3f-46f0-8224-89e70f802e39\" xlink:type=\"simple\"><path d=\"M144.87,64 C166.09,64 192.94,64 217.7,64 \" fill=\"none\" id=\"E3-&gt;E2\" style=\"stroke: #383838; stroke-width: 1.0;\"/><polygon fill=\"#FFFFFF\" points=\"237.84,64,218.84,71,218.84,57,237.84,64\" style=\"stroke: #383838; stroke-width: 1.0;\"/><ellipse cx=\"213.14\" cy=\"69\" fill=\"#383838\" rx=\"2\" ry=\"2\" style=\"stroke: #383838; stroke-width: 1.0;\"/><ellipse cx=\"213.14\" cy=\"59\" fill=\"#383838\" rx=\"2\" ry=\"2\" style=\"stroke: #383838; stroke-width: 1.0;\"/></a><!--MD5=[62aa6af11e70f752912c1cb0466f24f7]\n",
       "reverse link E4 to E5--><a href=\"psysml:56458fbc-ce11-45ea-8fa2-2092e0cfc05c\" target=\"_top\" title=\"psysml:56458fbc-ce11-45ea-8fa2-2092e0cfc05c\" xlink:actuate=\"onRequest\" xlink:href=\"psysml:56458fbc-ce11-45ea-8fa2-2092e0cfc05c\" xlink:show=\"new\" xlink:title=\"psysml:56458fbc-ce11-45ea-8fa2-2092e0cfc05c\" xlink:type=\"simple\"><path d=\"M593.54,241.81 C608.62,243.01 624.3,244.26 638.74,245.41 \" fill=\"none\" id=\"E4&lt;-E5\" style=\"stroke: #383838; stroke-width: 1.0;\"/><ellipse cx=\"586.105\" cy=\"241.2122\" fill=\"#FFFFFF\" rx=\"8\" ry=\"8\" style=\"stroke: #383838; stroke-width: 1.0;\"/><line style=\"stroke: #383838; stroke-width: 1.0;\" x1=\"594.08\" x2=\"578.13\" y1=\"241.8444\" y2=\"240.58\"/><line style=\"stroke: #383838; stroke-width: 1.0;\" x1=\"585.4728\" x2=\"586.7372\" y1=\"249.1872\" y2=\"233.2372\"/></a><!--MD5=[c6fc7cdb0cabde04948078cf183fa696]\n",
       "reverse link E4 to E8--><a href=\"psysml:72b41e7b-9298-4fd0-92ac-738cc777b35a\" target=\"_top\" title=\"psysml:72b41e7b-9298-4fd0-92ac-738cc777b35a\" xlink:actuate=\"onRequest\" xlink:href=\"psysml:72b41e7b-9298-4fd0-92ac-738cc777b35a\" xlink:show=\"new\" xlink:title=\"psysml:72b41e7b-9298-4fd0-92ac-738cc777b35a\" xlink:type=\"simple\"><path d=\"M590.24,205.09 C610.58,196.08 632.28,186.46 650.74,178.28 \" fill=\"none\" id=\"E4&lt;-E8\" style=\"stroke: #383838; stroke-width: 1.0;\"/><polygon fill=\"#383838\" points=\"578.13,210.46,585.2365,211.684,589.0995,205.5949,581.9931,204.3709,578.13,210.46\" style=\"stroke: #383838; stroke-width: 1.0;\"/></a><!--MD5=[062ed86c389d1a88f61c6380d0491e17]\n",
       "reverse link E12 to E13--><a href=\"psysml:dc92139c-b950-485f-92a5-3d6f837d8293\" target=\"_top\" title=\"psysml:dc92139c-b950-485f-92a5-3d6f837d8293\" xlink:actuate=\"onRequest\" xlink:href=\"psysml:dc92139c-b950-485f-92a5-3d6f837d8293\" xlink:show=\"new\" xlink:title=\"psysml:dc92139c-b950-485f-92a5-3d6f837d8293\" xlink:type=\"simple\"><path d=\"M139.02,262.15 C168.28,257.05 211.02,249.6 243.39,243.95 \" fill=\"none\" id=\"E12&lt;-E13\" style=\"stroke: #383838; stroke-width: 1.0;\"/><polygon fill=\"#383838\" points=\"125.84,264.45,132.4403,267.3544,137.6599,262.3789,131.0596,259.4745,125.84,264.45\" style=\"stroke: #383838; stroke-width: 1.0;\"/></a><!--MD5=[017847e01ff9a8bd19f247411074f987]\n",
       "link E13 to E4--><a href=\"psysml:84833459-b0b4-497f-8a66-9d75104fb430\" target=\"_top\" title=\"psysml:84833459-b0b4-497f-8a66-9d75104fb430\" xlink:actuate=\"onRequest\" xlink:href=\"psysml:84833459-b0b4-497f-8a66-9d75104fb430\" xlink:show=\"new\" xlink:title=\"psysml:84833459-b0b4-497f-8a66-9d75104fb430\" xlink:type=\"simple\"><path d=\"M336.76,236 C366.45,236 405.9,236 440.46,236 \" fill=\"none\" id=\"E13-&gt;E4\" style=\"stroke: #383838; stroke-width: 1.0;\"/><polygon fill=\"#FFFFFF\" points=\"460.67,236,441.67,243,441.67,229,460.67,236\" style=\"stroke: #383838; stroke-width: 1.0;\"/><ellipse cx=\"435.97\" cy=\"241\" fill=\"#383838\" rx=\"2\" ry=\"2\" style=\"stroke: #383838; stroke-width: 1.0;\"/><ellipse cx=\"435.97\" cy=\"231\" fill=\"#383838\" rx=\"2\" ry=\"2\" style=\"stroke: #383838; stroke-width: 1.0;\"/></a><!--MD5=[2cfe899c895462254056921bfb67315f]\n",
       "link E13 to E11--><a href=\"psysml:ed40ce07-1501-496b-adae-3639fe39f1e8\" target=\"_top\" title=\"psysml:ed40ce07-1501-496b-adae-3639fe39f1e8\" xlink:actuate=\"onRequest\" xlink:href=\"psysml:ed40ce07-1501-496b-adae-3639fe39f1e8\" xlink:show=\"new\" xlink:title=\"psysml:ed40ce07-1501-496b-adae-3639fe39f1e8\" xlink:type=\"simple\"><path d=\"M336.76,213.27 C383.95,189.83 455.79,154.15 493.46,135.44 \" fill=\"none\" id=\"E13-&gt;E11\" style=\"stroke: #383838; stroke-width: 1.0; stroke-dasharray: 7.0,7.0;\"/><polygon fill=\"#383838\" points=\"498.32,133.02,488.4797,133.4294,493.8393,135.2389,492.0299,140.5985,498.32,133.02\" style=\"stroke: #383838; stroke-width: 1.0;\"/><text fill=\"#000000\" font-family=\"sans-serif\" font-size=\"13\" lengthAdjust=\"spacingAndGlyphs\" textLength=\"57\" x=\"373\" y=\"166.0669\">«satisfy»</text></a><!--MD5=[e59b6a7aea40b6af8856fa11ff5137c2]\n",
       "@startuml\r\n",
       "left to right direction\r\n",
       "skinparam monochrome true\r\n",
       "skinparam classbackgroundcolor white\r\n",
       "skinparam shadowing false\r\n",
       "skinparam wrapWidth 300\r\n",
       "hide circle\r\n",
       "\r\n",
       "package \"RequirementTest\" as E1  [[psysml:32d2418d-b451-4172-b0c3-f203713ef4c8 ]]  {\r\n",
       "comp def \"C\" as E2  <<(T,blue)constraint def>> [[psysml:a1b28860-c9a8-4d37-931e-31ae0c14540e ]] {\r\n",
       "}\r\n",
       "comp usage \"c: C\" as E3  <<(T,blue)constraint>> [[psysml:4f6724e1-6261-429d-9c16-1831387bac9b ]] {\r\n",
       "}\r\n",
       "comp def \"R\" as E4  <<(T,blue)requirement def>> [[psysml:a2742730-9bdb-48ea-a333-70a51cef011c ]] {\r\n",
       "\r\n",
       "- -\r\n",
       "- - constraints - -\r\n",
       "<b>require</b> c\r\n",
       "<i>assume</i> c1: C\r\n",
       "}\r\n",
       "comp def \" [<b>1</b>] A\" as E5  <<(T,blue)requirement def>> [[psysml:56458fbc-ce11-45ea-8fa2-2092e0cfc05c ]] {\r\n",
       "Text\r\n",
       "- -\r\n",
       "}\r\n",
       "comp usage \"<s>noname</s>\" as E8  <<(T,blue)requirement>> [[psysml:72b41e7b-9298-4fd0-92ac-738cc777b35a ]] {\r\n",
       "}\r\n",
       "comp def \"R1\" as E9  <<(T,blue)requirement def>> [[psysml:ec52d3df-f8e8-4ac5-95c0-bf3447feb8a5 ]] {\r\n",
       "- - constraints - -\r\n",
       "<b>require</b> c1\\n//:>>RequirementTest::c// \r\n",
       "}\r\n",
       "comp usage \"p\" as E11  <<(T,blue)part>> [[psysml:b85d82e7-3bb2-4c49-b03c-5a9b3c771643 ]] {\r\n",
       "}\r\n",
       "comp usage \"q\" as E12  <<(T,blue)part>> [[psysml:f6ed6b0e-7205-4bca-ba49-af9a51c8942a ]] {\r\n",
       "}\r\n",
       "comp usage \"r: R\" as E13  <<(T,blue)requirement>> [[psysml:dc92139c-b950-485f-92a5-3d6f837d8293 ]] {\r\n",
       "}\r\n",
       "E3 - -:|> E2 [[psysml:9201001b-4e3f-46f0-8224-89e70f802e39 ]] \r\n",
       "E4 +- - E5 [[psysml:56458fbc-ce11-45ea-8fa2-2092e0cfc05c ]] \r\n",
       "E4 *- - E8 [[psysml:72b41e7b-9298-4fd0-92ac-738cc777b35a ]] \r\n",
       "E12 *- - E13 [[psysml:dc92139c-b950-485f-92a5-3d6f837d8293 ]] \r\n",
       "E13 - -:|> E4 [[psysml:84833459-b0b4-497f-8a66-9d75104fb430 ]] \r\n",
       "E13 ..> E11 [[psysml:ed40ce07-1501-496b-adae-3639fe39f1e8 ]] : <<satisfy>>\r\n",
       "}\r\n",
       "@enduml\r\n",
       "\n",
       "PlantUML version 1.2020.13(Sat Jun 13 12:26:38 UTC 2020)\n",
       "(EPL source distribution)\n",
       "Java Runtime: OpenJDK Runtime Environment\n",
       "JVM: OpenJDK 64-Bit Server VM\n",
       "Default Encoding: UTF-8\n",
       "Language: en\n",
       "Country: null\n",
       "--></g></svg>"
      ]
     },
     "execution_count": 21,
     "metadata": {},
     "output_type": "execute_result"
    }
   ],
   "source": [
    "%viz --style=\"LR\" --view=\"Sequence\" \"RequirementTest\""
   ]
  },
  {
   "cell_type": "code",
   "execution_count": 22,
   "id": "worse-conducting",
   "metadata": {
    "execution": {
     "iopub.execute_input": "2021-03-26T13:01:08.296984Z",
     "iopub.status.busy": "2021-03-26T13:01:08.295641Z",
     "iopub.status.idle": "2021-03-26T13:01:08.380768Z",
     "shell.execute_reply": "2021-03-26T13:01:08.381102Z"
    }
   },
   "outputs": [
    {
     "data": {
      "image/svg+xml": [
       "<?xml version=\"1.0\" encoding=\"UTF-8\" standalone=\"no\"?><svg xmlns=\"http://www.w3.org/2000/svg\" xmlns:xlink=\"http://www.w3.org/1999/xlink\" contentScriptType=\"application/ecmascript\" contentStyleType=\"text/css\" height=\"319px\" preserveAspectRatio=\"none\" style=\"width:794px;height:319px;\" version=\"1.1\" viewBox=\"0 0 794 319\" width=\"794px\" zoomAndPan=\"magnify\"><defs/><g><!--MD5=[fbc87193dbaf4d95561dea2c320d4a47]\n",
       "cluster E1--><a href=\"psysml:32d2418d-b451-4172-b0c3-f203713ef4c8\" target=\"_top\" title=\"psysml:32d2418d-b451-4172-b0c3-f203713ef4c8\" xlink:actuate=\"onRequest\" xlink:href=\"psysml:32d2418d-b451-4172-b0c3-f203713ef4c8\" xlink:show=\"new\" xlink:title=\"psysml:32d2418d-b451-4172-b0c3-f203713ef4c8\" xlink:type=\"simple\"><polygon fill=\"#FFFFFF\" points=\"16,6,158,6,165,28.2969,772,28.2969,772,307,16,307,16,6\" style=\"stroke: #000000; stroke-width: 1.5;\"/><line style=\"stroke: #000000; stroke-width: 1.5;\" x1=\"16\" x2=\"165\" y1=\"28.2969\" y2=\"28.2969\"/><text fill=\"#000000\" font-family=\"sans-serif\" font-size=\"14\" font-weight=\"bold\" lengthAdjust=\"spacingAndGlyphs\" textLength=\"136\" x=\"20\" y=\"20.9951\">RequirementTest</text></a><!--MD5=[b4997ac47864f28c2f74865a473b2911]\n",
       "class E2--><a href=\"psysml:a1b28860-c9a8-4d37-931e-31ae0c14540e\" target=\"_top\" title=\"psysml:a1b28860-c9a8-4d37-931e-31ae0c14540e\" xlink:actuate=\"onRequest\" xlink:href=\"psysml:a1b28860-c9a8-4d37-931e-31ae0c14540e\" xlink:show=\"new\" xlink:title=\"psysml:a1b28860-c9a8-4d37-931e-31ae0c14540e\" xlink:type=\"simple\"><rect fill=\"#FFFFFF\" height=\"45.9375\" id=\"E2\" style=\"stroke: #383838; stroke-width: 1.5;\" width=\"104\" x=\"238\" y=\"41\"/><text fill=\"#000000\" font-family=\"sans-serif\" font-size=\"12\" font-style=\"italic\" lengthAdjust=\"spacingAndGlyphs\" textLength=\"102\" x=\"239\" y=\"57.1387\">«constraint def»</text><text fill=\"#000000\" font-family=\"sans-serif\" font-size=\"12\" lengthAdjust=\"spacingAndGlyphs\" textLength=\"8\" x=\"286\" y=\"71.1074\">C</text><line style=\"stroke: #383838; stroke-width: 1.5;\" x1=\"239\" x2=\"341\" y1=\"78.9375\" y2=\"78.9375\"/></a><!--MD5=[09b614a08d8cba4a07c9adeb5e0fee81]\n",
       "class E3--><a href=\"psysml:4f6724e1-6261-429d-9c16-1831387bac9b\" target=\"_top\" title=\"psysml:4f6724e1-6261-429d-9c16-1831387bac9b\" xlink:actuate=\"onRequest\" xlink:href=\"psysml:4f6724e1-6261-429d-9c16-1831387bac9b\" xlink:show=\"new\" xlink:title=\"psysml:4f6724e1-6261-429d-9c16-1831387bac9b\" xlink:type=\"simple\"><rect fill=\"#FFFFFF\" height=\"45.9375\" id=\"E3\" rx=\"10\" ry=\"10\" style=\"stroke: #383838; stroke-width: 1.5;\" width=\"80\" x=\"64.5\" y=\"41\"/><text fill=\"#000000\" font-family=\"sans-serif\" font-size=\"12\" font-style=\"italic\" lengthAdjust=\"spacingAndGlyphs\" textLength=\"78\" x=\"65.5\" y=\"57.1387\">«constraint»</text><text fill=\"#000000\" font-family=\"sans-serif\" font-size=\"12\" lengthAdjust=\"spacingAndGlyphs\" textLength=\"23\" x=\"93\" y=\"71.1074\">c: C</text><line style=\"stroke: #383838; stroke-width: 1.5;\" x1=\"65.5\" x2=\"143.5\" y1=\"78.9375\" y2=\"78.9375\"/></a><!--MD5=[ebbe1d658d1005bcc118a6aa81145e00]\n",
       "class E4--><a href=\"psysml:a2742730-9bdb-48ea-a333-70a51cef011c\" target=\"_top\" title=\"psysml:a2742730-9bdb-48ea-a333-70a51cef011c\" xlink:actuate=\"onRequest\" xlink:href=\"psysml:a2742730-9bdb-48ea-a333-70a51cef011c\" xlink:show=\"new\" xlink:title=\"psysml:a2742730-9bdb-48ea-a333-70a51cef011c\" xlink:type=\"simple\"><rect fill=\"#FFFFFF\" height=\"109.1563\" id=\"E4\" style=\"stroke: #383838; stroke-width: 1.5;\" width=\"117\" x=\"461\" y=\"181.5\"/><text fill=\"#000000\" font-family=\"sans-serif\" font-size=\"12\" font-style=\"italic\" lengthAdjust=\"spacingAndGlyphs\" textLength=\"115\" x=\"462\" y=\"197.6387\">«requirement def»</text><text fill=\"#000000\" font-family=\"sans-serif\" font-size=\"12\" lengthAdjust=\"spacingAndGlyphs\" textLength=\"8\" x=\"515.5\" y=\"211.6074\">R</text><line style=\"stroke: #383838; stroke-width: 1.5;\" x1=\"462\" x2=\"577\" y1=\"219.4375\" y2=\"219.4375\"/><text fill=\"#000000\" font-family=\"sans-serif\" font-size=\"11\" lengthAdjust=\"spacingAndGlyphs\" textLength=\"0\" x=\"471\" y=\"233.6479\"/><line style=\"stroke: #383838; stroke-width: 1.0;\" x1=\"462\" x2=\"577\" y1=\"240.2422\" y2=\"240.2422\"/><text fill=\"#000000\" font-family=\"sans-serif\" font-size=\"11\" font-weight=\"bold\" lengthAdjust=\"spacingAndGlyphs\" textLength=\"46\" x=\"467\" y=\"271.2573\">require</text><text fill=\"#000000\" font-family=\"sans-serif\" font-size=\"11\" lengthAdjust=\"spacingAndGlyphs\" textLength=\"6\" x=\"517\" y=\"271.2573\">c</text><text fill=\"#000000\" font-family=\"sans-serif\" font-size=\"11\" font-style=\"italic\" lengthAdjust=\"spacingAndGlyphs\" textLength=\"46\" x=\"467\" y=\"284.062\">assume</text><text fill=\"#000000\" font-family=\"sans-serif\" font-size=\"11\" lengthAdjust=\"spacingAndGlyphs\" textLength=\"29\" x=\"517\" y=\"284.062\">c1: C</text><line style=\"stroke: #383838; stroke-width: 1.0;\" x1=\"462\" x2=\"487.5\" y1=\"254.6445\" y2=\"254.6445\"/><text fill=\"#000000\" font-family=\"sans-serif\" font-size=\"11\" lengthAdjust=\"spacingAndGlyphs\" textLength=\"64\" x=\"487.5\" y=\"257.9526\">constraints</text><line style=\"stroke: #383838; stroke-width: 1.0;\" x1=\"551.5\" x2=\"577\" y1=\"254.6445\" y2=\"254.6445\"/></a><!--MD5=[270fce915f116d4de14055a7c1d9a0f3]\n",
       "class E5--><a href=\"psysml:56458fbc-ce11-45ea-8fa2-2092e0cfc05c\" target=\"_top\" title=\"psysml:56458fbc-ce11-45ea-8fa2-2092e0cfc05c\" xlink:actuate=\"onRequest\" xlink:href=\"psysml:56458fbc-ce11-45ea-8fa2-2092e0cfc05c\" xlink:show=\"new\" xlink:title=\"psysml:56458fbc-ce11-45ea-8fa2-2092e0cfc05c\" xlink:type=\"simple\"><rect fill=\"#FFFFFF\" height=\"66.7422\" id=\"E5\" style=\"stroke: #383838; stroke-width: 1.5;\" width=\"117\" x=\"639\" y=\"216.5\"/><text fill=\"#000000\" font-family=\"sans-serif\" font-size=\"12\" font-style=\"italic\" lengthAdjust=\"spacingAndGlyphs\" textLength=\"115\" x=\"640\" y=\"232.6387\">«requirement def»</text><text fill=\"#000000\" font-family=\"sans-serif\" font-size=\"12\" lengthAdjust=\"spacingAndGlyphs\" textLength=\"5\" x=\"684.5\" y=\"246.6074\">[</text><text fill=\"#000000\" font-family=\"sans-serif\" font-size=\"12\" font-weight=\"bold\" lengthAdjust=\"spacingAndGlyphs\" textLength=\"8\" x=\"689.5\" y=\"246.6074\">1</text><text fill=\"#000000\" font-family=\"sans-serif\" font-size=\"12\" lengthAdjust=\"spacingAndGlyphs\" textLength=\"17\" x=\"697.5\" y=\"246.6074\">] A</text><line style=\"stroke: #383838; stroke-width: 1.5;\" x1=\"640\" x2=\"755\" y1=\"254.4375\" y2=\"254.4375\"/><text fill=\"#000000\" font-family=\"sans-serif\" font-size=\"11\" lengthAdjust=\"spacingAndGlyphs\" textLength=\"24\" x=\"645\" y=\"268.6479\">Text</text><line style=\"stroke: #383838; stroke-width: 1.0;\" x1=\"640\" x2=\"755\" y1=\"275.2422\" y2=\"275.2422\"/></a><!--MD5=[b9389687b975829384b498ac4b7476b2]\n",
       "class E8--><a href=\"psysml:72b41e7b-9298-4fd0-92ac-738cc777b35a\" target=\"_top\" title=\"psysml:72b41e7b-9298-4fd0-92ac-738cc777b35a\" xlink:actuate=\"onRequest\" xlink:href=\"psysml:72b41e7b-9298-4fd0-92ac-738cc777b35a\" xlink:show=\"new\" xlink:title=\"psysml:72b41e7b-9298-4fd0-92ac-738cc777b35a\" xlink:type=\"simple\"><rect fill=\"#FFFFFF\" height=\"45.9375\" id=\"E8\" rx=\"10\" ry=\"10\" style=\"stroke: #383838; stroke-width: 1.5;\" width=\"93\" x=\"651\" y=\"135\"/><text fill=\"#000000\" font-family=\"sans-serif\" font-size=\"12\" font-style=\"italic\" lengthAdjust=\"spacingAndGlyphs\" textLength=\"91\" x=\"652\" y=\"151.1387\">«requirement»</text><text fill=\"#000000\" font-family=\"sans-serif\" font-size=\"12\" lengthAdjust=\"spacingAndGlyphs\" text-decoration=\"line-through\" textLength=\"51\" x=\"672\" y=\"165.1074\">noname</text><line style=\"stroke: #383838; stroke-width: 1.5;\" x1=\"652\" x2=\"743\" y1=\"172.9375\" y2=\"172.9375\"/></a><!--MD5=[fd4143e9d270a159db93a4ea2a975926]\n",
       "class E9--><a href=\"psysml:ec52d3df-f8e8-4ac5-95c0-bf3447feb8a5\" target=\"_top\" title=\"psysml:ec52d3df-f8e8-4ac5-95c0-bf3447feb8a5\" xlink:actuate=\"onRequest\" xlink:href=\"psysml:ec52d3df-f8e8-4ac5-95c0-bf3447feb8a5\" xlink:show=\"new\" xlink:title=\"psysml:ec52d3df-f8e8-4ac5-95c0-bf3447feb8a5\" xlink:type=\"simple\"><rect fill=\"#FFFFFF\" height=\"88.3516\" id=\"E9\" style=\"stroke: #383838; stroke-width: 1.5;\" width=\"145\" x=\"32\" y=\"122\"/><text fill=\"#000000\" font-family=\"sans-serif\" font-size=\"12\" font-style=\"italic\" lengthAdjust=\"spacingAndGlyphs\" textLength=\"115\" x=\"47\" y=\"138.1387\">«requirement def»</text><text fill=\"#000000\" font-family=\"sans-serif\" font-size=\"12\" lengthAdjust=\"spacingAndGlyphs\" textLength=\"16\" x=\"96.5\" y=\"152.1074\">R1</text><line style=\"stroke: #383838; stroke-width: 1.5;\" x1=\"33\" x2=\"176\" y1=\"159.9375\" y2=\"159.9375\"/><text fill=\"#000000\" font-family=\"sans-serif\" font-size=\"11\" font-weight=\"bold\" lengthAdjust=\"spacingAndGlyphs\" textLength=\"46\" x=\"38\" y=\"190.9526\">require</text><text fill=\"#000000\" font-family=\"sans-serif\" font-size=\"11\" lengthAdjust=\"spacingAndGlyphs\" textLength=\"13\" x=\"88\" y=\"190.9526\">c1</text><text fill=\"#000000\" font-family=\"sans-serif\" font-size=\"11\" font-style=\"italic\" lengthAdjust=\"spacingAndGlyphs\" textLength=\"133\" x=\"38\" y=\"203.7573\">:&gt;&gt;RequirementTest::c</text><line style=\"stroke: #383838; stroke-width: 1.0;\" x1=\"33\" x2=\"72.5\" y1=\"174.3398\" y2=\"174.3398\"/><text fill=\"#000000\" font-family=\"sans-serif\" font-size=\"11\" lengthAdjust=\"spacingAndGlyphs\" textLength=\"64\" x=\"72.5\" y=\"177.6479\">constraints</text><line style=\"stroke: #383838; stroke-width: 1.0;\" x1=\"136.5\" x2=\"176\" y1=\"174.3398\" y2=\"174.3398\"/></a><!--MD5=[1dd1bfd58a279cf63c5f349dbc8fc6a1]\n",
       "class E11--><a href=\"psysml:b85d82e7-3bb2-4c49-b03c-5a9b3c771643\" target=\"_top\" title=\"psysml:b85d82e7-3bb2-4c49-b03c-5a9b3c771643\" xlink:actuate=\"onRequest\" xlink:href=\"psysml:b85d82e7-3bb2-4c49-b03c-5a9b3c771643\" xlink:show=\"new\" xlink:title=\"psysml:b85d82e7-3bb2-4c49-b03c-5a9b3c771643\" xlink:type=\"simple\"><rect fill=\"#FFFFFF\" height=\"45.9375\" id=\"E11\" rx=\"10\" ry=\"10\" style=\"stroke: #383838; stroke-width: 1.5;\" width=\"42\" x=\"498.5\" y=\"100\"/><text fill=\"#000000\" font-family=\"sans-serif\" font-size=\"12\" font-style=\"italic\" lengthAdjust=\"spacingAndGlyphs\" textLength=\"40\" x=\"499.5\" y=\"116.1387\">«part»</text><text fill=\"#000000\" font-family=\"sans-serif\" font-size=\"12\" lengthAdjust=\"spacingAndGlyphs\" textLength=\"8\" x=\"515.5\" y=\"130.1074\">p</text><line style=\"stroke: #383838; stroke-width: 1.5;\" x1=\"499.5\" x2=\"539.5\" y1=\"137.9375\" y2=\"137.9375\"/></a><!--MD5=[49a0ec8f00dab7302a31f22d0f0fe584]\n",
       "class E12--><a href=\"psysml:f6ed6b0e-7205-4bca-ba49-af9a51c8942a\" target=\"_top\" title=\"psysml:f6ed6b0e-7205-4bca-ba49-af9a51c8942a\" xlink:actuate=\"onRequest\" xlink:href=\"psysml:f6ed6b0e-7205-4bca-ba49-af9a51c8942a\" xlink:show=\"new\" xlink:title=\"psysml:f6ed6b0e-7205-4bca-ba49-af9a51c8942a\" xlink:type=\"simple\"><rect fill=\"#FFFFFF\" height=\"45.9375\" id=\"E12\" rx=\"10\" ry=\"10\" style=\"stroke: #383838; stroke-width: 1.5;\" width=\"42\" x=\"83.5\" y=\"245\"/><text fill=\"#000000\" font-family=\"sans-serif\" font-size=\"12\" font-style=\"italic\" lengthAdjust=\"spacingAndGlyphs\" textLength=\"40\" x=\"84.5\" y=\"261.1387\">«part»</text><text fill=\"#000000\" font-family=\"sans-serif\" font-size=\"12\" lengthAdjust=\"spacingAndGlyphs\" textLength=\"8\" x=\"100.5\" y=\"275.1074\">q</text><line style=\"stroke: #383838; stroke-width: 1.5;\" x1=\"84.5\" x2=\"124.5\" y1=\"282.9375\" y2=\"282.9375\"/></a><!--MD5=[ee3c913d1a06f366521f9ef512b67efe]\n",
       "class E13--><a href=\"psysml:dc92139c-b950-485f-92a5-3d6f837d8293\" target=\"_top\" title=\"psysml:dc92139c-b950-485f-92a5-3d6f837d8293\" xlink:actuate=\"onRequest\" xlink:href=\"psysml:dc92139c-b950-485f-92a5-3d6f837d8293\" xlink:show=\"new\" xlink:title=\"psysml:dc92139c-b950-485f-92a5-3d6f837d8293\" xlink:type=\"simple\"><rect fill=\"#FFFFFF\" height=\"45.9375\" id=\"E13\" rx=\"10\" ry=\"10\" style=\"stroke: #383838; stroke-width: 1.5;\" width=\"93\" x=\"243.5\" y=\"213\"/><text fill=\"#000000\" font-family=\"sans-serif\" font-size=\"12\" font-style=\"italic\" lengthAdjust=\"spacingAndGlyphs\" textLength=\"91\" x=\"244.5\" y=\"229.1387\">«requirement»</text><text fill=\"#000000\" font-family=\"sans-serif\" font-size=\"12\" lengthAdjust=\"spacingAndGlyphs\" textLength=\"21\" x=\"279.5\" y=\"243.1074\">r: R</text><line style=\"stroke: #383838; stroke-width: 1.5;\" x1=\"244.5\" x2=\"335.5\" y1=\"250.9375\" y2=\"250.9375\"/></a><!--MD5=[05d275557350bfb9b23a4ef7222b4c39]\n",
       "link E3 to E2--><a href=\"psysml:9201001b-4e3f-46f0-8224-89e70f802e39\" target=\"_top\" title=\"psysml:9201001b-4e3f-46f0-8224-89e70f802e39\" xlink:actuate=\"onRequest\" xlink:href=\"psysml:9201001b-4e3f-46f0-8224-89e70f802e39\" xlink:show=\"new\" xlink:title=\"psysml:9201001b-4e3f-46f0-8224-89e70f802e39\" xlink:type=\"simple\"><path d=\"M144.87,64 C166.09,64 192.94,64 217.7,64 \" fill=\"none\" id=\"E3-&gt;E2\" style=\"stroke: #383838; stroke-width: 1.0;\"/><polygon fill=\"#FFFFFF\" points=\"237.84,64,218.84,71,218.84,57,237.84,64\" style=\"stroke: #383838; stroke-width: 1.0;\"/><ellipse cx=\"213.14\" cy=\"69\" fill=\"#383838\" rx=\"2\" ry=\"2\" style=\"stroke: #383838; stroke-width: 1.0;\"/><ellipse cx=\"213.14\" cy=\"59\" fill=\"#383838\" rx=\"2\" ry=\"2\" style=\"stroke: #383838; stroke-width: 1.0;\"/></a><!--MD5=[62aa6af11e70f752912c1cb0466f24f7]\n",
       "reverse link E4 to E5--><a href=\"psysml:56458fbc-ce11-45ea-8fa2-2092e0cfc05c\" target=\"_top\" title=\"psysml:56458fbc-ce11-45ea-8fa2-2092e0cfc05c\" xlink:actuate=\"onRequest\" xlink:href=\"psysml:56458fbc-ce11-45ea-8fa2-2092e0cfc05c\" xlink:show=\"new\" xlink:title=\"psysml:56458fbc-ce11-45ea-8fa2-2092e0cfc05c\" xlink:type=\"simple\"><path d=\"M593.54,241.81 C608.62,243.01 624.3,244.26 638.74,245.41 \" fill=\"none\" id=\"E4&lt;-E5\" style=\"stroke: #383838; stroke-width: 1.0;\"/><ellipse cx=\"586.105\" cy=\"241.2122\" fill=\"#FFFFFF\" rx=\"8\" ry=\"8\" style=\"stroke: #383838; stroke-width: 1.0;\"/><line style=\"stroke: #383838; stroke-width: 1.0;\" x1=\"594.08\" x2=\"578.13\" y1=\"241.8444\" y2=\"240.58\"/><line style=\"stroke: #383838; stroke-width: 1.0;\" x1=\"585.4728\" x2=\"586.7372\" y1=\"249.1872\" y2=\"233.2372\"/></a><!--MD5=[c6fc7cdb0cabde04948078cf183fa696]\n",
       "reverse link E4 to E8--><a href=\"psysml:72b41e7b-9298-4fd0-92ac-738cc777b35a\" target=\"_top\" title=\"psysml:72b41e7b-9298-4fd0-92ac-738cc777b35a\" xlink:actuate=\"onRequest\" xlink:href=\"psysml:72b41e7b-9298-4fd0-92ac-738cc777b35a\" xlink:show=\"new\" xlink:title=\"psysml:72b41e7b-9298-4fd0-92ac-738cc777b35a\" xlink:type=\"simple\"><path d=\"M590.24,205.09 C610.58,196.08 632.28,186.46 650.74,178.28 \" fill=\"none\" id=\"E4&lt;-E8\" style=\"stroke: #383838; stroke-width: 1.0;\"/><polygon fill=\"#383838\" points=\"578.13,210.46,585.2365,211.684,589.0995,205.5949,581.9931,204.3709,578.13,210.46\" style=\"stroke: #383838; stroke-width: 1.0;\"/></a><!--MD5=[062ed86c389d1a88f61c6380d0491e17]\n",
       "reverse link E12 to E13--><a href=\"psysml:dc92139c-b950-485f-92a5-3d6f837d8293\" target=\"_top\" title=\"psysml:dc92139c-b950-485f-92a5-3d6f837d8293\" xlink:actuate=\"onRequest\" xlink:href=\"psysml:dc92139c-b950-485f-92a5-3d6f837d8293\" xlink:show=\"new\" xlink:title=\"psysml:dc92139c-b950-485f-92a5-3d6f837d8293\" xlink:type=\"simple\"><path d=\"M139.02,262.15 C168.28,257.05 211.02,249.6 243.39,243.95 \" fill=\"none\" id=\"E12&lt;-E13\" style=\"stroke: #383838; stroke-width: 1.0;\"/><polygon fill=\"#383838\" points=\"125.84,264.45,132.4403,267.3544,137.6599,262.3789,131.0596,259.4745,125.84,264.45\" style=\"stroke: #383838; stroke-width: 1.0;\"/></a><!--MD5=[017847e01ff9a8bd19f247411074f987]\n",
       "link E13 to E4--><a href=\"psysml:84833459-b0b4-497f-8a66-9d75104fb430\" target=\"_top\" title=\"psysml:84833459-b0b4-497f-8a66-9d75104fb430\" xlink:actuate=\"onRequest\" xlink:href=\"psysml:84833459-b0b4-497f-8a66-9d75104fb430\" xlink:show=\"new\" xlink:title=\"psysml:84833459-b0b4-497f-8a66-9d75104fb430\" xlink:type=\"simple\"><path d=\"M336.76,236 C366.45,236 405.9,236 440.46,236 \" fill=\"none\" id=\"E13-&gt;E4\" style=\"stroke: #383838; stroke-width: 1.0;\"/><polygon fill=\"#FFFFFF\" points=\"460.67,236,441.67,243,441.67,229,460.67,236\" style=\"stroke: #383838; stroke-width: 1.0;\"/><ellipse cx=\"435.97\" cy=\"241\" fill=\"#383838\" rx=\"2\" ry=\"2\" style=\"stroke: #383838; stroke-width: 1.0;\"/><ellipse cx=\"435.97\" cy=\"231\" fill=\"#383838\" rx=\"2\" ry=\"2\" style=\"stroke: #383838; stroke-width: 1.0;\"/></a><!--MD5=[2cfe899c895462254056921bfb67315f]\n",
       "link E13 to E11--><a href=\"psysml:ed40ce07-1501-496b-adae-3639fe39f1e8\" target=\"_top\" title=\"psysml:ed40ce07-1501-496b-adae-3639fe39f1e8\" xlink:actuate=\"onRequest\" xlink:href=\"psysml:ed40ce07-1501-496b-adae-3639fe39f1e8\" xlink:show=\"new\" xlink:title=\"psysml:ed40ce07-1501-496b-adae-3639fe39f1e8\" xlink:type=\"simple\"><path d=\"M336.76,213.27 C383.95,189.83 455.79,154.15 493.46,135.44 \" fill=\"none\" id=\"E13-&gt;E11\" style=\"stroke: #383838; stroke-width: 1.0; stroke-dasharray: 7.0,7.0;\"/><polygon fill=\"#383838\" points=\"498.32,133.02,488.4797,133.4294,493.8393,135.2389,492.0299,140.5985,498.32,133.02\" style=\"stroke: #383838; stroke-width: 1.0;\"/><text fill=\"#000000\" font-family=\"sans-serif\" font-size=\"13\" lengthAdjust=\"spacingAndGlyphs\" textLength=\"57\" x=\"373\" y=\"166.0669\">«satisfy»</text></a><!--MD5=[e59b6a7aea40b6af8856fa11ff5137c2]\n",
       "@startuml\r\n",
       "left to right direction\r\n",
       "skinparam monochrome true\r\n",
       "skinparam classbackgroundcolor white\r\n",
       "skinparam shadowing false\r\n",
       "skinparam wrapWidth 300\r\n",
       "hide circle\r\n",
       "\r\n",
       "package \"RequirementTest\" as E1  [[psysml:32d2418d-b451-4172-b0c3-f203713ef4c8 ]]  {\r\n",
       "comp def \"C\" as E2  <<(T,blue)constraint def>> [[psysml:a1b28860-c9a8-4d37-931e-31ae0c14540e ]] {\r\n",
       "}\r\n",
       "comp usage \"c: C\" as E3  <<(T,blue)constraint>> [[psysml:4f6724e1-6261-429d-9c16-1831387bac9b ]] {\r\n",
       "}\r\n",
       "comp def \"R\" as E4  <<(T,blue)requirement def>> [[psysml:a2742730-9bdb-48ea-a333-70a51cef011c ]] {\r\n",
       "\r\n",
       "- -\r\n",
       "- - constraints - -\r\n",
       "<b>require</b> c\r\n",
       "<i>assume</i> c1: C\r\n",
       "}\r\n",
       "comp def \" [<b>1</b>] A\" as E5  <<(T,blue)requirement def>> [[psysml:56458fbc-ce11-45ea-8fa2-2092e0cfc05c ]] {\r\n",
       "Text\r\n",
       "- -\r\n",
       "}\r\n",
       "comp usage \"<s>noname</s>\" as E8  <<(T,blue)requirement>> [[psysml:72b41e7b-9298-4fd0-92ac-738cc777b35a ]] {\r\n",
       "}\r\n",
       "comp def \"R1\" as E9  <<(T,blue)requirement def>> [[psysml:ec52d3df-f8e8-4ac5-95c0-bf3447feb8a5 ]] {\r\n",
       "- - constraints - -\r\n",
       "<b>require</b> c1\\n//:>>RequirementTest::c// \r\n",
       "}\r\n",
       "comp usage \"p\" as E11  <<(T,blue)part>> [[psysml:b85d82e7-3bb2-4c49-b03c-5a9b3c771643 ]] {\r\n",
       "}\r\n",
       "comp usage \"q\" as E12  <<(T,blue)part>> [[psysml:f6ed6b0e-7205-4bca-ba49-af9a51c8942a ]] {\r\n",
       "}\r\n",
       "comp usage \"r: R\" as E13  <<(T,blue)requirement>> [[psysml:dc92139c-b950-485f-92a5-3d6f837d8293 ]] {\r\n",
       "}\r\n",
       "E3 - -:|> E2 [[psysml:9201001b-4e3f-46f0-8224-89e70f802e39 ]] \r\n",
       "E4 +- - E5 [[psysml:56458fbc-ce11-45ea-8fa2-2092e0cfc05c ]] \r\n",
       "E4 *- - E8 [[psysml:72b41e7b-9298-4fd0-92ac-738cc777b35a ]] \r\n",
       "E12 *- - E13 [[psysml:dc92139c-b950-485f-92a5-3d6f837d8293 ]] \r\n",
       "E13 - -:|> E4 [[psysml:84833459-b0b4-497f-8a66-9d75104fb430 ]] \r\n",
       "E13 ..> E11 [[psysml:ed40ce07-1501-496b-adae-3639fe39f1e8 ]] : <<satisfy>>\r\n",
       "}\r\n",
       "@enduml\r\n",
       "\n",
       "PlantUML version 1.2020.13(Sat Jun 13 12:26:38 UTC 2020)\n",
       "(EPL source distribution)\n",
       "Java Runtime: OpenJDK Runtime Environment\n",
       "JVM: OpenJDK 64-Bit Server VM\n",
       "Default Encoding: UTF-8\n",
       "Language: en\n",
       "Country: null\n",
       "--></g></svg>"
      ]
     },
     "execution_count": 22,
     "metadata": {},
     "output_type": "execute_result"
    }
   ],
   "source": [
    "%viz --style=\"LR\" --view=\"MIXED\" \"RequirementTest\""
   ]
  },
  {
   "cell_type": "code",
   "execution_count": 23,
   "id": "standard-worthy",
   "metadata": {
    "execution": {
     "iopub.execute_input": "2021-03-26T13:01:08.432147Z",
     "iopub.status.busy": "2021-03-26T13:01:08.431143Z",
     "iopub.status.idle": "2021-03-26T13:01:08.531850Z",
     "shell.execute_reply": "2021-03-26T13:01:08.531488Z"
    }
   },
   "outputs": [
    {
     "data": {
      "image/svg+xml": [
       "<?xml version=\"1.0\" encoding=\"UTF-8\" standalone=\"no\"?><svg xmlns=\"http://www.w3.org/2000/svg\" xmlns:xlink=\"http://www.w3.org/1999/xlink\" contentScriptType=\"application/ecmascript\" contentStyleType=\"text/css\" height=\"566px\" preserveAspectRatio=\"none\" style=\"width:470px;height:566px;\" version=\"1.1\" viewBox=\"0 0 470 566\" width=\"470px\" zoomAndPan=\"magnify\"><defs><filter height=\"300%\" id=\"ffq475fnt4c1a\" width=\"300%\" x=\"-1\" y=\"-1\"><feGaussianBlur result=\"blurOut\" stdDeviation=\"2.0\"/><feColorMatrix in=\"blurOut\" result=\"blurOut2\" type=\"matrix\" values=\"0 0 0 0 0 0 0 0 0 0 0 0 0 0 0 0 0 0 .4 0\"/><feOffset dx=\"4.0\" dy=\"4.0\" in=\"blurOut2\" result=\"blurOut3\"/><feBlend in=\"SourceGraphic\" in2=\"blurOut3\" mode=\"normal\"/></filter></defs><g><!--MD5=[fbc87193dbaf4d95561dea2c320d4a47]\n",
       "cluster E1--><a href=\"psysml:32d2418d-b451-4172-b0c3-f203713ef4c8\" target=\"_top\" title=\"psysml:32d2418d-b451-4172-b0c3-f203713ef4c8\" xlink:actuate=\"onRequest\" xlink:href=\"psysml:32d2418d-b451-4172-b0c3-f203713ef4c8\" xlink:show=\"new\" xlink:title=\"psysml:32d2418d-b451-4172-b0c3-f203713ef4c8\" xlink:type=\"simple\"><polygon fill=\"#FFFFFF\" filter=\"url(#ffq475fnt4c1a)\" points=\"16,6,158,6,165,28.2969,448,28.2969,448,554,16,554,16,6\" style=\"stroke: #000000; stroke-width: 1.5;\"/><line style=\"stroke: #000000; stroke-width: 1.5;\" x1=\"16\" x2=\"165\" y1=\"28.2969\" y2=\"28.2969\"/><text fill=\"#000000\" font-family=\"sans-serif\" font-size=\"14\" font-weight=\"bold\" lengthAdjust=\"spacingAndGlyphs\" textLength=\"136\" x=\"20\" y=\"20.9951\">RequirementTest</text></a><!--MD5=[b4997ac47864f28c2f74865a473b2911]\n",
       "class E2--><a href=\"psysml:a1b28860-c9a8-4d37-931e-31ae0c14540e\" target=\"_top\" title=\"psysml:a1b28860-c9a8-4d37-931e-31ae0c14540e\" xlink:actuate=\"onRequest\" xlink:href=\"psysml:a1b28860-c9a8-4d37-931e-31ae0c14540e\" xlink:show=\"new\" xlink:title=\"psysml:a1b28860-c9a8-4d37-931e-31ae0c14540e\" xlink:type=\"simple\"><rect fill=\"#FEFECE\" filter=\"url(#ffq475fnt4c1a)\" height=\"45.9375\" id=\"E2\" style=\"stroke: #A80036; stroke-width: 1.5;\" width=\"104\" x=\"328\" y=\"178\"/><text fill=\"#000000\" font-family=\"sans-serif\" font-size=\"12\" font-style=\"italic\" lengthAdjust=\"spacingAndGlyphs\" textLength=\"102\" x=\"329\" y=\"194.1387\">«constraint def»</text><text fill=\"#000000\" font-family=\"sans-serif\" font-size=\"12\" lengthAdjust=\"spacingAndGlyphs\" textLength=\"8\" x=\"376\" y=\"208.1074\">C</text><line style=\"stroke: #A80036; stroke-width: 1.5;\" x1=\"329\" x2=\"431\" y1=\"215.9375\" y2=\"215.9375\"/></a><!--MD5=[09b614a08d8cba4a07c9adeb5e0fee81]\n",
       "class E3--><a href=\"psysml:4f6724e1-6261-429d-9c16-1831387bac9b\" target=\"_top\" title=\"psysml:4f6724e1-6261-429d-9c16-1831387bac9b\" xlink:actuate=\"onRequest\" xlink:href=\"psysml:4f6724e1-6261-429d-9c16-1831387bac9b\" xlink:show=\"new\" xlink:title=\"psysml:4f6724e1-6261-429d-9c16-1831387bac9b\" xlink:type=\"simple\"><rect fill=\"#FEFECE\" filter=\"url(#ffq475fnt4c1a)\" height=\"45.9375\" id=\"E3\" rx=\"10\" ry=\"10\" style=\"stroke: #A80036; stroke-width: 1.5;\" width=\"80\" x=\"352\" y=\"56\"/><text fill=\"#000000\" font-family=\"sans-serif\" font-size=\"12\" font-style=\"italic\" lengthAdjust=\"spacingAndGlyphs\" textLength=\"78\" x=\"353\" y=\"72.1387\">«constraint»</text><text fill=\"#000000\" font-family=\"sans-serif\" font-size=\"12\" lengthAdjust=\"spacingAndGlyphs\" textLength=\"23\" x=\"380.5\" y=\"86.1074\">c: C</text><line style=\"stroke: #A80036; stroke-width: 1.5;\" x1=\"353\" x2=\"431\" y1=\"93.9375\" y2=\"93.9375\"/></a><!--MD5=[ebbe1d658d1005bcc118a6aa81145e00]\n",
       "class E4--><a href=\"psysml:a2742730-9bdb-48ea-a333-70a51cef011c\" target=\"_top\" title=\"psysml:a2742730-9bdb-48ea-a333-70a51cef011c\" xlink:actuate=\"onRequest\" xlink:href=\"psysml:a2742730-9bdb-48ea-a333-70a51cef011c\" xlink:show=\"new\" xlink:title=\"psysml:a2742730-9bdb-48ea-a333-70a51cef011c\" xlink:type=\"simple\"><rect fill=\"#FEFECE\" filter=\"url(#ffq475fnt4c1a)\" height=\"109.1563\" id=\"E4\" style=\"stroke: #A80036; stroke-width: 1.5;\" width=\"117\" x=\"32.5\" y=\"301\"/><text fill=\"#000000\" font-family=\"sans-serif\" font-size=\"12\" font-style=\"italic\" lengthAdjust=\"spacingAndGlyphs\" textLength=\"115\" x=\"33.5\" y=\"317.1387\">«requirement def»</text><text fill=\"#000000\" font-family=\"sans-serif\" font-size=\"12\" lengthAdjust=\"spacingAndGlyphs\" textLength=\"8\" x=\"87\" y=\"331.1074\">R</text><line style=\"stroke: #A80036; stroke-width: 1.5;\" x1=\"33.5\" x2=\"148.5\" y1=\"338.9375\" y2=\"338.9375\"/><text fill=\"#000000\" font-family=\"sans-serif\" font-size=\"11\" lengthAdjust=\"spacingAndGlyphs\" textLength=\"0\" x=\"42.5\" y=\"353.1479\"/><line style=\"stroke: #A80036; stroke-width: 1.0;\" x1=\"33.5\" x2=\"148.5\" y1=\"359.7422\" y2=\"359.7422\"/><text fill=\"#000000\" font-family=\"sans-serif\" font-size=\"11\" font-weight=\"bold\" lengthAdjust=\"spacingAndGlyphs\" textLength=\"46\" x=\"38.5\" y=\"390.7573\">require</text><text fill=\"#000000\" font-family=\"sans-serif\" font-size=\"11\" lengthAdjust=\"spacingAndGlyphs\" textLength=\"6\" x=\"88.5\" y=\"390.7573\">c</text><text fill=\"#000000\" font-family=\"sans-serif\" font-size=\"11\" font-style=\"italic\" lengthAdjust=\"spacingAndGlyphs\" textLength=\"46\" x=\"38.5\" y=\"403.562\">assume</text><text fill=\"#000000\" font-family=\"sans-serif\" font-size=\"11\" lengthAdjust=\"spacingAndGlyphs\" textLength=\"29\" x=\"88.5\" y=\"403.562\">c1: C</text><line style=\"stroke: #A80036; stroke-width: 1.0;\" x1=\"33.5\" x2=\"59\" y1=\"374.1445\" y2=\"374.1445\"/><text fill=\"#000000\" font-family=\"sans-serif\" font-size=\"11\" lengthAdjust=\"spacingAndGlyphs\" textLength=\"64\" x=\"59\" y=\"377.4526\">constraints</text><line style=\"stroke: #A80036; stroke-width: 1.0;\" x1=\"123\" x2=\"148.5\" y1=\"374.1445\" y2=\"374.1445\"/></a><!--MD5=[270fce915f116d4de14055a7c1d9a0f3]\n",
       "class E5--><a href=\"psysml:56458fbc-ce11-45ea-8fa2-2092e0cfc05c\" target=\"_top\" title=\"psysml:56458fbc-ce11-45ea-8fa2-2092e0cfc05c\" xlink:actuate=\"onRequest\" xlink:href=\"psysml:56458fbc-ce11-45ea-8fa2-2092e0cfc05c\" xlink:show=\"new\" xlink:title=\"psysml:56458fbc-ce11-45ea-8fa2-2092e0cfc05c\" xlink:type=\"simple\"><rect fill=\"#FEFECE\" filter=\"url(#ffq475fnt4c1a)\" height=\"66.7422\" id=\"E5\" style=\"stroke: #A80036; stroke-width: 1.5;\" width=\"117\" x=\"32.5\" y=\"471\"/><text fill=\"#000000\" font-family=\"sans-serif\" font-size=\"12\" font-style=\"italic\" lengthAdjust=\"spacingAndGlyphs\" textLength=\"115\" x=\"33.5\" y=\"487.1387\">«requirement def»</text><text fill=\"#000000\" font-family=\"sans-serif\" font-size=\"12\" lengthAdjust=\"spacingAndGlyphs\" textLength=\"5\" x=\"78\" y=\"501.1074\">[</text><text fill=\"#000000\" font-family=\"sans-serif\" font-size=\"12\" font-weight=\"bold\" lengthAdjust=\"spacingAndGlyphs\" textLength=\"8\" x=\"83\" y=\"501.1074\">1</text><text fill=\"#000000\" font-family=\"sans-serif\" font-size=\"12\" lengthAdjust=\"spacingAndGlyphs\" textLength=\"17\" x=\"91\" y=\"501.1074\">] A</text><line style=\"stroke: #A80036; stroke-width: 1.5;\" x1=\"33.5\" x2=\"148.5\" y1=\"508.9375\" y2=\"508.9375\"/><text fill=\"#000000\" font-family=\"sans-serif\" font-size=\"11\" lengthAdjust=\"spacingAndGlyphs\" textLength=\"24\" x=\"38.5\" y=\"523.1479\">Text</text><line style=\"stroke: #A80036; stroke-width: 1.0;\" x1=\"33.5\" x2=\"148.5\" y1=\"529.7422\" y2=\"529.7422\"/></a><!--MD5=[b9389687b975829384b498ac4b7476b2]\n",
       "class E8--><a href=\"psysml:72b41e7b-9298-4fd0-92ac-738cc777b35a\" target=\"_top\" title=\"psysml:72b41e7b-9298-4fd0-92ac-738cc777b35a\" xlink:actuate=\"onRequest\" xlink:href=\"psysml:72b41e7b-9298-4fd0-92ac-738cc777b35a\" xlink:show=\"new\" xlink:title=\"psysml:72b41e7b-9298-4fd0-92ac-738cc777b35a\" xlink:type=\"simple\"><rect fill=\"#FEFECE\" filter=\"url(#ffq475fnt4c1a)\" height=\"45.9375\" id=\"E8\" rx=\"10\" ry=\"10\" style=\"stroke: #A80036; stroke-width: 1.5;\" width=\"93\" x=\"184.5\" y=\"481.5\"/><text fill=\"#000000\" font-family=\"sans-serif\" font-size=\"12\" font-style=\"italic\" lengthAdjust=\"spacingAndGlyphs\" textLength=\"91\" x=\"185.5\" y=\"497.6387\">«requirement»</text><text fill=\"#000000\" font-family=\"sans-serif\" font-size=\"12\" lengthAdjust=\"spacingAndGlyphs\" text-decoration=\"line-through\" textLength=\"51\" x=\"205.5\" y=\"511.6074\">noname</text><line style=\"stroke: #A80036; stroke-width: 1.5;\" x1=\"185.5\" x2=\"276.5\" y1=\"519.4375\" y2=\"519.4375\"/></a><!--MD5=[fd4143e9d270a159db93a4ea2a975926]\n",
       "class E9--><a href=\"psysml:ec52d3df-f8e8-4ac5-95c0-bf3447feb8a5\" target=\"_top\" title=\"psysml:ec52d3df-f8e8-4ac5-95c0-bf3447feb8a5\" xlink:actuate=\"onRequest\" xlink:href=\"psysml:ec52d3df-f8e8-4ac5-95c0-bf3447feb8a5\" xlink:show=\"new\" xlink:title=\"psysml:ec52d3df-f8e8-4ac5-95c0-bf3447feb8a5\" xlink:type=\"simple\"><rect fill=\"#FEFECE\" filter=\"url(#ffq475fnt4c1a)\" height=\"76.4922\" id=\"E9\" style=\"stroke: #A80036; stroke-width: 1.5;\" width=\"207\" x=\"109.5\" y=\"41\"/><text fill=\"#000000\" font-family=\"sans-serif\" font-size=\"12\" font-style=\"italic\" lengthAdjust=\"spacingAndGlyphs\" textLength=\"115\" x=\"155.5\" y=\"57.1387\">«requirement def»</text><text fill=\"#000000\" font-family=\"sans-serif\" font-size=\"12\" lengthAdjust=\"spacingAndGlyphs\" textLength=\"16\" x=\"205\" y=\"71.1074\">R1</text><line style=\"stroke: #A80036; stroke-width: 1.5;\" x1=\"110.5\" x2=\"315.5\" y1=\"78.9375\" y2=\"78.9375\"/><text fill=\"#000000\" font-family=\"sans-serif\" font-size=\"11\" font-weight=\"bold\" lengthAdjust=\"spacingAndGlyphs\" textLength=\"46\" x=\"115.5\" y=\"110.8979\">require</text><text fill=\"#000000\" font-family=\"sans-serif\" font-size=\"11\" lengthAdjust=\"spacingAndGlyphs\" textLength=\"0\" x=\"165.5\" y=\"110.8979\"/><path d=\"M167.4167,100.6589 L167.4167,109.8255 L168.3333,109.8255 L168.3333,100.6589 M171.0833,100.6589 L171.0833,109.8255 L178.4167,105.2422 L171.0833,100.6589 L172,102.0339 L177.0417,105.2422 L172,108.4505 L172,102.0339 \" fill=\"#000000\" style=\"stroke: ; stroke-width: 0.0; stroke-dasharray: ;\"/><text fill=\"#000000\" font-family=\"sans-serif\" font-size=\"11\" lengthAdjust=\"spacingAndGlyphs\" textLength=\"13\" x=\"182.5\" y=\"110.8979\">c1</text><text fill=\"#000000\" font-family=\"sans-serif\" font-size=\"11\" lengthAdjust=\"spacingAndGlyphs\" text-decoration=\"line-through\" textLength=\"111\" x=\"199.5\" y=\"110.8979\">RequirementTest::c</text><line style=\"stroke: #A80036; stroke-width: 1.0;\" x1=\"110.5\" x2=\"181\" y1=\"93.3398\" y2=\"93.3398\"/><text fill=\"#000000\" font-family=\"sans-serif\" font-size=\"11\" lengthAdjust=\"spacingAndGlyphs\" textLength=\"64\" x=\"181\" y=\"96.6479\">constraints</text><line style=\"stroke: #A80036; stroke-width: 1.0;\" x1=\"245\" x2=\"315.5\" y1=\"93.3398\" y2=\"93.3398\"/></a><!--MD5=[1dd1bfd58a279cf63c5f349dbc8fc6a1]\n",
       "class E11--><a href=\"psysml:b85d82e7-3bb2-4c49-b03c-5a9b3c771643\" target=\"_top\" title=\"psysml:b85d82e7-3bb2-4c49-b03c-5a9b3c771643\" xlink:actuate=\"onRequest\" xlink:href=\"psysml:b85d82e7-3bb2-4c49-b03c-5a9b3c771643\" xlink:show=\"new\" xlink:title=\"psysml:b85d82e7-3bb2-4c49-b03c-5a9b3c771643\" xlink:type=\"simple\"><rect fill=\"#FEFECE\" filter=\"url(#ffq475fnt4c1a)\" height=\"45.9375\" id=\"E11\" rx=\"10\" ry=\"10\" style=\"stroke: #A80036; stroke-width: 1.5;\" width=\"42\" x=\"185\" y=\"332.5\"/><text fill=\"#000000\" font-family=\"sans-serif\" font-size=\"12\" font-style=\"italic\" lengthAdjust=\"spacingAndGlyphs\" textLength=\"40\" x=\"186\" y=\"348.6387\">«part»</text><text fill=\"#000000\" font-family=\"sans-serif\" font-size=\"12\" lengthAdjust=\"spacingAndGlyphs\" textLength=\"8\" x=\"202\" y=\"362.6074\">p</text><line style=\"stroke: #A80036; stroke-width: 1.5;\" x1=\"186\" x2=\"226\" y1=\"370.4375\" y2=\"370.4375\"/></a><!--MD5=[49a0ec8f00dab7302a31f22d0f0fe584]\n",
       "class E12--><a href=\"psysml:f6ed6b0e-7205-4bca-ba49-af9a51c8942a\" target=\"_top\" title=\"psysml:f6ed6b0e-7205-4bca-ba49-af9a51c8942a\" xlink:actuate=\"onRequest\" xlink:href=\"psysml:f6ed6b0e-7205-4bca-ba49-af9a51c8942a\" xlink:show=\"new\" xlink:title=\"psysml:f6ed6b0e-7205-4bca-ba49-af9a51c8942a\" xlink:type=\"simple\"><rect fill=\"#FEFECE\" filter=\"url(#ffq475fnt4c1a)\" height=\"45.9375\" id=\"E12\" rx=\"10\" ry=\"10\" style=\"stroke: #A80036; stroke-width: 1.5;\" width=\"42\" x=\"32\" y=\"56\"/><text fill=\"#000000\" font-family=\"sans-serif\" font-size=\"12\" font-style=\"italic\" lengthAdjust=\"spacingAndGlyphs\" textLength=\"40\" x=\"33\" y=\"72.1387\">«part»</text><text fill=\"#000000\" font-family=\"sans-serif\" font-size=\"12\" lengthAdjust=\"spacingAndGlyphs\" textLength=\"8\" x=\"49\" y=\"86.1074\">q</text><line style=\"stroke: #A80036; stroke-width: 1.5;\" x1=\"33\" x2=\"73\" y1=\"93.9375\" y2=\"93.9375\"/></a><!--MD5=[ee3c913d1a06f366521f9ef512b67efe]\n",
       "class E13--><a href=\"psysml:dc92139c-b950-485f-92a5-3d6f837d8293\" target=\"_top\" title=\"psysml:dc92139c-b950-485f-92a5-3d6f837d8293\" xlink:actuate=\"onRequest\" xlink:href=\"psysml:dc92139c-b950-485f-92a5-3d6f837d8293\" xlink:show=\"new\" xlink:title=\"psysml:dc92139c-b950-485f-92a5-3d6f837d8293\" xlink:type=\"simple\"><rect fill=\"#FEFECE\" filter=\"url(#ffq475fnt4c1a)\" height=\"45.9375\" id=\"E13\" rx=\"10\" ry=\"10\" style=\"stroke: #A80036; stroke-width: 1.5;\" width=\"93\" x=\"44.5\" y=\"178\"/><text fill=\"#000000\" font-family=\"sans-serif\" font-size=\"12\" font-style=\"italic\" lengthAdjust=\"spacingAndGlyphs\" textLength=\"91\" x=\"45.5\" y=\"194.1387\">«requirement»</text><text fill=\"#000000\" font-family=\"sans-serif\" font-size=\"12\" lengthAdjust=\"spacingAndGlyphs\" textLength=\"21\" x=\"80.5\" y=\"208.1074\">r: R</text><line style=\"stroke: #A80036; stroke-width: 1.5;\" x1=\"45.5\" x2=\"136.5\" y1=\"215.9375\" y2=\"215.9375\"/></a><!--MD5=[05d275557350bfb9b23a4ef7222b4c39]\n",
       "link E3 to E2--><a href=\"psysml:9201001b-4e3f-46f0-8224-89e70f802e39\" target=\"_top\" title=\"psysml:9201001b-4e3f-46f0-8224-89e70f802e39\" xlink:actuate=\"onRequest\" xlink:href=\"psysml:9201001b-4e3f-46f0-8224-89e70f802e39\" xlink:show=\"new\" xlink:title=\"psysml:9201001b-4e3f-46f0-8224-89e70f802e39\" xlink:type=\"simple\"><path d=\"M389.8,102.01 C388.24,117.56 386.11,138.89 384.23,157.68 \" fill=\"none\" id=\"E3-&gt;E2\" style=\"stroke: #A80036; stroke-width: 1.0;\"/><polygon fill=\"#FFFFFF\" points=\"382.23,177.72,377.1511,158.1188,391.0819,159.5089,382.23,177.72\" style=\"stroke: #A80036; stroke-width: 1.0;\"/><ellipse cx=\"379.7072\" cy=\"152.6456\" fill=\"#A80036\" rx=\"2\" ry=\"2\" style=\"stroke: #A80036; stroke-width: 1.0;\"/><ellipse cx=\"389.6578\" cy=\"153.6385\" fill=\"#A80036\" rx=\"2\" ry=\"2\" style=\"stroke: #A80036; stroke-width: 1.0;\"/></a><!--MD5=[62aa6af11e70f752912c1cb0466f24f7]\n",
       "reverse link E4 to E5--><a href=\"psysml:56458fbc-ce11-45ea-8fa2-2092e0cfc05c\" target=\"_top\" title=\"psysml:56458fbc-ce11-45ea-8fa2-2092e0cfc05c\" xlink:actuate=\"onRequest\" xlink:href=\"psysml:56458fbc-ce11-45ea-8fa2-2092e0cfc05c\" xlink:show=\"new\" xlink:title=\"psysml:56458fbc-ce11-45ea-8fa2-2092e0cfc05c\" xlink:type=\"simple\"><path d=\"M91,425.45 C91,441.34 91,457.51 91,470.98 \" fill=\"none\" id=\"E4&lt;-E5\" style=\"stroke: #A80036; stroke-width: 1.0;\"/><ellipse cx=\"91\" cy=\"418.4\" fill=\"#FFFFFF\" rx=\"8\" ry=\"8\" style=\"stroke: #A80036; stroke-width: 1.0;\"/><line style=\"stroke: #A80036; stroke-width: 1.0;\" x1=\"91\" x2=\"91\" y1=\"426.4\" y2=\"410.4\"/><line style=\"stroke: #A80036; stroke-width: 1.0;\" x1=\"83\" x2=\"99\" y1=\"418.4\" y2=\"418.4\"/></a><!--MD5=[c6fc7cdb0cabde04948078cf183fa696]\n",
       "reverse link E4 to E8--><a href=\"psysml:72b41e7b-9298-4fd0-92ac-738cc777b35a\" target=\"_top\" title=\"psysml:72b41e7b-9298-4fd0-92ac-738cc777b35a\" xlink:actuate=\"onRequest\" xlink:href=\"psysml:72b41e7b-9298-4fd0-92ac-738cc777b35a\" xlink:show=\"new\" xlink:title=\"psysml:72b41e7b-9298-4fd0-92ac-738cc777b35a\" xlink:type=\"simple\"><path d=\"M151.51,420.04 C172.42,441.99 194.47,465.14 210.03,481.48 \" fill=\"none\" id=\"E4&lt;-E8\" style=\"stroke: #A80036; stroke-width: 1.0;\"/><polygon fill=\"#A80036\" points=\"142.34,410.4,143.5779,417.5041,150.6116,419.0937,149.3737,411.9897,142.34,410.4\" style=\"stroke: #A80036; stroke-width: 1.0;\"/></a><!--MD5=[062ed86c389d1a88f61c6380d0491e17]\n",
       "reverse link E12 to E13--><a href=\"psysml:dc92139c-b950-485f-92a5-3d6f837d8293\" target=\"_top\" title=\"psysml:dc92139c-b950-485f-92a5-3d6f837d8293\" xlink:actuate=\"onRequest\" xlink:href=\"psysml:dc92139c-b950-485f-92a5-3d6f837d8293\" xlink:show=\"new\" xlink:title=\"psysml:dc92139c-b950-485f-92a5-3d6f837d8293\" xlink:type=\"simple\"><path d=\"M63.94,114.55 C70.38,134.88 78.33,160 83.95,177.72 \" fill=\"none\" id=\"E12&lt;-E13\" style=\"stroke: #A80036; stroke-width: 1.0;\"/><polygon fill=\"#A80036\" points=\"59.97,102.01,57.9712,108.9386,63.5981,113.4484,65.5968,106.5198,59.97,102.01\" style=\"stroke: #A80036; stroke-width: 1.0;\"/></a><!--MD5=[017847e01ff9a8bd19f247411074f987]\n",
       "link E13 to E4--><a href=\"psysml:84833459-b0b4-497f-8a66-9d75104fb430\" target=\"_top\" title=\"psysml:84833459-b0b4-497f-8a66-9d75104fb430\" xlink:actuate=\"onRequest\" xlink:href=\"psysml:84833459-b0b4-497f-8a66-9d75104fb430\" xlink:show=\"new\" xlink:title=\"psysml:84833459-b0b4-497f-8a66-9d75104fb430\" xlink:type=\"simple\"><path d=\"M91,224.17 C91,239.17 91,259.91 91,280.44 \" fill=\"none\" id=\"E13-&gt;E4\" style=\"stroke: #A80036; stroke-width: 1.0;\"/><polygon fill=\"#FFFFFF\" points=\"91,300.68,84,281.68,98,281.68,91,300.68\" style=\"stroke: #A80036; stroke-width: 1.0;\"/><ellipse cx=\"86\" cy=\"275.98\" fill=\"#A80036\" rx=\"2\" ry=\"2\" style=\"stroke: #A80036; stroke-width: 1.0;\"/><ellipse cx=\"96\" cy=\"275.98\" fill=\"#A80036\" rx=\"2\" ry=\"2\" style=\"stroke: #A80036; stroke-width: 1.0;\"/></a><!--MD5=[2cfe899c895462254056921bfb67315f]\n",
       "link E13 to E11--><a href=\"psysml:ed40ce07-1501-496b-adae-3639fe39f1e8\" target=\"_top\" title=\"psysml:ed40ce07-1501-496b-adae-3639fe39f1e8\" xlink:actuate=\"onRequest\" xlink:href=\"psysml:ed40ce07-1501-496b-adae-3639fe39f1e8\" xlink:show=\"new\" xlink:title=\"psysml:ed40ce07-1501-496b-adae-3639fe39f1e8\" xlink:type=\"simple\"><path d=\"M108.36,224.29 C123.87,244.28 147.14,274.45 167,301 C173.57,309.78 180.66,319.44 186.97,328.12 \" fill=\"none\" id=\"E13-&gt;E11\" style=\"stroke: #A80036; stroke-width: 1.0; stroke-dasharray: 7.0,7.0;\"/><polygon fill=\"#A80036\" points=\"189.99,332.28,187.9274,322.6496,187.0474,328.2376,181.4594,327.3576,189.99,332.28\" style=\"stroke: #A80036; stroke-width: 1.0;\"/><text fill=\"#000000\" font-family=\"sans-serif\" font-size=\"13\" lengthAdjust=\"spacingAndGlyphs\" textLength=\"57\" x=\"145\" y=\"267.0669\">«satisfy»</text></a><!--MD5=[4d96ad0968ec293d55c4a0a88aa45d0d]\n",
       "@startuml\r\n",
       "skinparam wrapWidth 300\r\n",
       "hide circle\r\n",
       "\r\n",
       "package \"RequirementTest\" as E1  [[psysml:32d2418d-b451-4172-b0c3-f203713ef4c8 ]]  {\r\n",
       "comp def \"C\" as E2  <<(T,blue)constraint def>> [[psysml:a1b28860-c9a8-4d37-931e-31ae0c14540e ]] {\r\n",
       "}\r\n",
       "comp usage \"c: C\" as E3  <<(T,blue)constraint>> [[psysml:4f6724e1-6261-429d-9c16-1831387bac9b ]] {\r\n",
       "}\r\n",
       "comp def \"R\" as E4  <<(T,blue)requirement def>> [[psysml:a2742730-9bdb-48ea-a333-70a51cef011c ]] {\r\n",
       "\r\n",
       "- -\r\n",
       "- - constraints - -\r\n",
       "<b>require</b> c\r\n",
       "<i>assume</i> c1: C\r\n",
       "}\r\n",
       "comp def \" [<b>1</b>] A\" as E5  <<(T,blue)requirement def>> [[psysml:56458fbc-ce11-45ea-8fa2-2092e0cfc05c ]] {\r\n",
       "Text\r\n",
       "- -\r\n",
       "}\r\n",
       "comp usage \"<s>noname</s>\" as E8  <<(T,blue)requirement>> [[psysml:72b41e7b-9298-4fd0-92ac-738cc777b35a ]] {\r\n",
       "}\r\n",
       "comp def \"R1\" as E9  <<(T,blue)requirement def>> [[psysml:ec52d3df-f8e8-4ac5-95c0-bf3447feb8a5 ]] {\r\n",
       "- - constraints - -\r\n",
       "<b>require</b> <&bar-trig> c1 <s>RequirementTest::c</s>\r\n",
       "}\r\n",
       "comp usage \"p\" as E11  <<(T,blue)part>> [[psysml:b85d82e7-3bb2-4c49-b03c-5a9b3c771643 ]] {\r\n",
       "}\r\n",
       "comp usage \"q\" as E12  <<(T,blue)part>> [[psysml:f6ed6b0e-7205-4bca-ba49-af9a51c8942a ]] {\r\n",
       "}\r\n",
       "comp usage \"r: R\" as E13  <<(T,blue)requirement>> [[psysml:dc92139c-b950-485f-92a5-3d6f837d8293 ]] {\r\n",
       "}\r\n",
       "E3 - -:|> E2 [[psysml:9201001b-4e3f-46f0-8224-89e70f802e39 ]] \r\n",
       "E4 +- - E5 [[psysml:56458fbc-ce11-45ea-8fa2-2092e0cfc05c ]] \r\n",
       "E4 *- - E8 [[psysml:72b41e7b-9298-4fd0-92ac-738cc777b35a ]] \r\n",
       "E12 *- - E13 [[psysml:dc92139c-b950-485f-92a5-3d6f837d8293 ]] \r\n",
       "E13 - -:|> E4 [[psysml:84833459-b0b4-497f-8a66-9d75104fb430 ]] \r\n",
       "E13 ..> E11 [[psysml:ed40ce07-1501-496b-adae-3639fe39f1e8 ]] : <<satisfy>>\r\n",
       "}\r\n",
       "@enduml\r\n",
       "\n",
       "PlantUML version 1.2020.13(Sat Jun 13 12:26:38 UTC 2020)\n",
       "(EPL source distribution)\n",
       "Java Runtime: OpenJDK Runtime Environment\n",
       "JVM: OpenJDK 64-Bit Server VM\n",
       "Default Encoding: UTF-8\n",
       "Language: en\n",
       "Country: null\n",
       "--></g></svg>"
      ]
     },
     "execution_count": 23,
     "metadata": {},
     "output_type": "execute_result"
    }
   ],
   "source": [
    "%viz --style=\"STDCOLOR\" --view=\"Default\" \"RequirementTest\""
   ]
  },
  {
   "cell_type": "code",
   "execution_count": 24,
   "id": "desperate-cleaner",
   "metadata": {
    "execution": {
     "iopub.execute_input": "2021-03-26T13:01:08.582337Z",
     "iopub.status.busy": "2021-03-26T13:01:08.581828Z",
     "iopub.status.idle": "2021-03-26T13:01:08.673339Z",
     "shell.execute_reply": "2021-03-26T13:01:08.673656Z"
    }
   },
   "outputs": [
    {
     "data": {
      "image/svg+xml": [
       "<?xml version=\"1.0\" encoding=\"UTF-8\" standalone=\"no\"?><svg xmlns=\"http://www.w3.org/2000/svg\" xmlns:xlink=\"http://www.w3.org/1999/xlink\" contentScriptType=\"application/ecmascript\" contentStyleType=\"text/css\" height=\"566px\" preserveAspectRatio=\"none\" style=\"width:470px;height:566px;\" version=\"1.1\" viewBox=\"0 0 470 566\" width=\"470px\" zoomAndPan=\"magnify\"><defs><filter height=\"300%\" id=\"ffq475fnt4c1a\" width=\"300%\" x=\"-1\" y=\"-1\"><feGaussianBlur result=\"blurOut\" stdDeviation=\"2.0\"/><feColorMatrix in=\"blurOut\" result=\"blurOut2\" type=\"matrix\" values=\"0 0 0 0 0 0 0 0 0 0 0 0 0 0 0 0 0 0 .4 0\"/><feOffset dx=\"4.0\" dy=\"4.0\" in=\"blurOut2\" result=\"blurOut3\"/><feBlend in=\"SourceGraphic\" in2=\"blurOut3\" mode=\"normal\"/></filter></defs><g><!--MD5=[fbc87193dbaf4d95561dea2c320d4a47]\n",
       "cluster E1--><a href=\"psysml:32d2418d-b451-4172-b0c3-f203713ef4c8\" target=\"_top\" title=\"psysml:32d2418d-b451-4172-b0c3-f203713ef4c8\" xlink:actuate=\"onRequest\" xlink:href=\"psysml:32d2418d-b451-4172-b0c3-f203713ef4c8\" xlink:show=\"new\" xlink:title=\"psysml:32d2418d-b451-4172-b0c3-f203713ef4c8\" xlink:type=\"simple\"><polygon fill=\"#FFFFFF\" filter=\"url(#ffq475fnt4c1a)\" points=\"16,6,158,6,165,28.2969,448,28.2969,448,554,16,554,16,6\" style=\"stroke: #000000; stroke-width: 1.5;\"/><line style=\"stroke: #000000; stroke-width: 1.5;\" x1=\"16\" x2=\"165\" y1=\"28.2969\" y2=\"28.2969\"/><text fill=\"#000000\" font-family=\"sans-serif\" font-size=\"14\" font-weight=\"bold\" lengthAdjust=\"spacingAndGlyphs\" textLength=\"136\" x=\"20\" y=\"20.9951\">RequirementTest</text></a><!--MD5=[b4997ac47864f28c2f74865a473b2911]\n",
       "class E2--><a href=\"psysml:a1b28860-c9a8-4d37-931e-31ae0c14540e\" target=\"_top\" title=\"psysml:a1b28860-c9a8-4d37-931e-31ae0c14540e\" xlink:actuate=\"onRequest\" xlink:href=\"psysml:a1b28860-c9a8-4d37-931e-31ae0c14540e\" xlink:show=\"new\" xlink:title=\"psysml:a1b28860-c9a8-4d37-931e-31ae0c14540e\" xlink:type=\"simple\"><rect fill=\"#FEFECE\" filter=\"url(#ffq475fnt4c1a)\" height=\"45.9375\" id=\"E2\" style=\"stroke: #A80036; stroke-width: 1.5;\" width=\"104\" x=\"328\" y=\"178\"/><text fill=\"#000000\" font-family=\"sans-serif\" font-size=\"12\" font-style=\"italic\" lengthAdjust=\"spacingAndGlyphs\" textLength=\"102\" x=\"329\" y=\"194.1387\">«constraint def»</text><text fill=\"#000000\" font-family=\"sans-serif\" font-size=\"12\" lengthAdjust=\"spacingAndGlyphs\" textLength=\"8\" x=\"376\" y=\"208.1074\">C</text><line style=\"stroke: #A80036; stroke-width: 1.5;\" x1=\"329\" x2=\"431\" y1=\"215.9375\" y2=\"215.9375\"/></a><!--MD5=[09b614a08d8cba4a07c9adeb5e0fee81]\n",
       "class E3--><a href=\"psysml:4f6724e1-6261-429d-9c16-1831387bac9b\" target=\"_top\" title=\"psysml:4f6724e1-6261-429d-9c16-1831387bac9b\" xlink:actuate=\"onRequest\" xlink:href=\"psysml:4f6724e1-6261-429d-9c16-1831387bac9b\" xlink:show=\"new\" xlink:title=\"psysml:4f6724e1-6261-429d-9c16-1831387bac9b\" xlink:type=\"simple\"><rect fill=\"#FEFECE\" filter=\"url(#ffq475fnt4c1a)\" height=\"45.9375\" id=\"E3\" rx=\"10\" ry=\"10\" style=\"stroke: #A80036; stroke-width: 1.5;\" width=\"80\" x=\"352\" y=\"56\"/><text fill=\"#000000\" font-family=\"sans-serif\" font-size=\"12\" font-style=\"italic\" lengthAdjust=\"spacingAndGlyphs\" textLength=\"78\" x=\"353\" y=\"72.1387\">«constraint»</text><text fill=\"#000000\" font-family=\"sans-serif\" font-size=\"12\" lengthAdjust=\"spacingAndGlyphs\" textLength=\"23\" x=\"380.5\" y=\"86.1074\">c: C</text><line style=\"stroke: #A80036; stroke-width: 1.5;\" x1=\"353\" x2=\"431\" y1=\"93.9375\" y2=\"93.9375\"/></a><!--MD5=[ebbe1d658d1005bcc118a6aa81145e00]\n",
       "class E4--><a href=\"psysml:a2742730-9bdb-48ea-a333-70a51cef011c\" target=\"_top\" title=\"psysml:a2742730-9bdb-48ea-a333-70a51cef011c\" xlink:actuate=\"onRequest\" xlink:href=\"psysml:a2742730-9bdb-48ea-a333-70a51cef011c\" xlink:show=\"new\" xlink:title=\"psysml:a2742730-9bdb-48ea-a333-70a51cef011c\" xlink:type=\"simple\"><rect fill=\"#FEFECE\" filter=\"url(#ffq475fnt4c1a)\" height=\"109.1563\" id=\"E4\" style=\"stroke: #A80036; stroke-width: 1.5;\" width=\"117\" x=\"32.5\" y=\"301\"/><text fill=\"#000000\" font-family=\"sans-serif\" font-size=\"12\" font-style=\"italic\" lengthAdjust=\"spacingAndGlyphs\" textLength=\"115\" x=\"33.5\" y=\"317.1387\">«requirement def»</text><text fill=\"#000000\" font-family=\"sans-serif\" font-size=\"12\" lengthAdjust=\"spacingAndGlyphs\" textLength=\"8\" x=\"87\" y=\"331.1074\">R</text><line style=\"stroke: #A80036; stroke-width: 1.5;\" x1=\"33.5\" x2=\"148.5\" y1=\"338.9375\" y2=\"338.9375\"/><text fill=\"#000000\" font-family=\"sans-serif\" font-size=\"11\" lengthAdjust=\"spacingAndGlyphs\" textLength=\"0\" x=\"42.5\" y=\"353.1479\"/><line style=\"stroke: #A80036; stroke-width: 1.0;\" x1=\"33.5\" x2=\"148.5\" y1=\"359.7422\" y2=\"359.7422\"/><text fill=\"#000000\" font-family=\"sans-serif\" font-size=\"11\" font-weight=\"bold\" lengthAdjust=\"spacingAndGlyphs\" textLength=\"46\" x=\"38.5\" y=\"390.7573\">require</text><text fill=\"#000000\" font-family=\"sans-serif\" font-size=\"11\" lengthAdjust=\"spacingAndGlyphs\" textLength=\"6\" x=\"88.5\" y=\"390.7573\">c</text><text fill=\"#000000\" font-family=\"sans-serif\" font-size=\"11\" font-style=\"italic\" lengthAdjust=\"spacingAndGlyphs\" textLength=\"46\" x=\"38.5\" y=\"403.562\">assume</text><text fill=\"#000000\" font-family=\"sans-serif\" font-size=\"11\" lengthAdjust=\"spacingAndGlyphs\" textLength=\"29\" x=\"88.5\" y=\"403.562\">c1: C</text><line style=\"stroke: #A80036; stroke-width: 1.0;\" x1=\"33.5\" x2=\"59\" y1=\"374.1445\" y2=\"374.1445\"/><text fill=\"#000000\" font-family=\"sans-serif\" font-size=\"11\" lengthAdjust=\"spacingAndGlyphs\" textLength=\"64\" x=\"59\" y=\"377.4526\">constraints</text><line style=\"stroke: #A80036; stroke-width: 1.0;\" x1=\"123\" x2=\"148.5\" y1=\"374.1445\" y2=\"374.1445\"/></a><!--MD5=[270fce915f116d4de14055a7c1d9a0f3]\n",
       "class E5--><a href=\"psysml:56458fbc-ce11-45ea-8fa2-2092e0cfc05c\" target=\"_top\" title=\"psysml:56458fbc-ce11-45ea-8fa2-2092e0cfc05c\" xlink:actuate=\"onRequest\" xlink:href=\"psysml:56458fbc-ce11-45ea-8fa2-2092e0cfc05c\" xlink:show=\"new\" xlink:title=\"psysml:56458fbc-ce11-45ea-8fa2-2092e0cfc05c\" xlink:type=\"simple\"><rect fill=\"#FEFECE\" filter=\"url(#ffq475fnt4c1a)\" height=\"66.7422\" id=\"E5\" style=\"stroke: #A80036; stroke-width: 1.5;\" width=\"117\" x=\"32.5\" y=\"471\"/><text fill=\"#000000\" font-family=\"sans-serif\" font-size=\"12\" font-style=\"italic\" lengthAdjust=\"spacingAndGlyphs\" textLength=\"115\" x=\"33.5\" y=\"487.1387\">«requirement def»</text><text fill=\"#000000\" font-family=\"sans-serif\" font-size=\"12\" lengthAdjust=\"spacingAndGlyphs\" textLength=\"5\" x=\"78\" y=\"501.1074\">[</text><text fill=\"#000000\" font-family=\"sans-serif\" font-size=\"12\" font-weight=\"bold\" lengthAdjust=\"spacingAndGlyphs\" textLength=\"8\" x=\"83\" y=\"501.1074\">1</text><text fill=\"#000000\" font-family=\"sans-serif\" font-size=\"12\" lengthAdjust=\"spacingAndGlyphs\" textLength=\"17\" x=\"91\" y=\"501.1074\">] A</text><line style=\"stroke: #A80036; stroke-width: 1.5;\" x1=\"33.5\" x2=\"148.5\" y1=\"508.9375\" y2=\"508.9375\"/><text fill=\"#000000\" font-family=\"sans-serif\" font-size=\"11\" lengthAdjust=\"spacingAndGlyphs\" textLength=\"24\" x=\"38.5\" y=\"523.1479\">Text</text><line style=\"stroke: #A80036; stroke-width: 1.0;\" x1=\"33.5\" x2=\"148.5\" y1=\"529.7422\" y2=\"529.7422\"/></a><!--MD5=[b9389687b975829384b498ac4b7476b2]\n",
       "class E8--><a href=\"psysml:72b41e7b-9298-4fd0-92ac-738cc777b35a\" target=\"_top\" title=\"psysml:72b41e7b-9298-4fd0-92ac-738cc777b35a\" xlink:actuate=\"onRequest\" xlink:href=\"psysml:72b41e7b-9298-4fd0-92ac-738cc777b35a\" xlink:show=\"new\" xlink:title=\"psysml:72b41e7b-9298-4fd0-92ac-738cc777b35a\" xlink:type=\"simple\"><rect fill=\"#FEFECE\" filter=\"url(#ffq475fnt4c1a)\" height=\"45.9375\" id=\"E8\" rx=\"10\" ry=\"10\" style=\"stroke: #A80036; stroke-width: 1.5;\" width=\"93\" x=\"184.5\" y=\"481.5\"/><text fill=\"#000000\" font-family=\"sans-serif\" font-size=\"12\" font-style=\"italic\" lengthAdjust=\"spacingAndGlyphs\" textLength=\"91\" x=\"185.5\" y=\"497.6387\">«requirement»</text><text fill=\"#000000\" font-family=\"sans-serif\" font-size=\"12\" lengthAdjust=\"spacingAndGlyphs\" text-decoration=\"line-through\" textLength=\"51\" x=\"205.5\" y=\"511.6074\">noname</text><line style=\"stroke: #A80036; stroke-width: 1.5;\" x1=\"185.5\" x2=\"276.5\" y1=\"519.4375\" y2=\"519.4375\"/></a><!--MD5=[fd4143e9d270a159db93a4ea2a975926]\n",
       "class E9--><a href=\"psysml:ec52d3df-f8e8-4ac5-95c0-bf3447feb8a5\" target=\"_top\" title=\"psysml:ec52d3df-f8e8-4ac5-95c0-bf3447feb8a5\" xlink:actuate=\"onRequest\" xlink:href=\"psysml:ec52d3df-f8e8-4ac5-95c0-bf3447feb8a5\" xlink:show=\"new\" xlink:title=\"psysml:ec52d3df-f8e8-4ac5-95c0-bf3447feb8a5\" xlink:type=\"simple\"><rect fill=\"#FEFECE\" filter=\"url(#ffq475fnt4c1a)\" height=\"76.4922\" id=\"E9\" style=\"stroke: #A80036; stroke-width: 1.5;\" width=\"207\" x=\"109.5\" y=\"41\"/><text fill=\"#000000\" font-family=\"sans-serif\" font-size=\"12\" font-style=\"italic\" lengthAdjust=\"spacingAndGlyphs\" textLength=\"115\" x=\"155.5\" y=\"57.1387\">«requirement def»</text><text fill=\"#000000\" font-family=\"sans-serif\" font-size=\"12\" lengthAdjust=\"spacingAndGlyphs\" textLength=\"16\" x=\"205\" y=\"71.1074\">R1</text><line style=\"stroke: #A80036; stroke-width: 1.5;\" x1=\"110.5\" x2=\"315.5\" y1=\"78.9375\" y2=\"78.9375\"/><text fill=\"#000000\" font-family=\"sans-serif\" font-size=\"11\" font-weight=\"bold\" lengthAdjust=\"spacingAndGlyphs\" textLength=\"46\" x=\"115.5\" y=\"110.8979\">require</text><text fill=\"#000000\" font-family=\"sans-serif\" font-size=\"11\" lengthAdjust=\"spacingAndGlyphs\" textLength=\"0\" x=\"165.5\" y=\"110.8979\"/><path d=\"M167.4167,100.6589 L167.4167,109.8255 L168.3333,109.8255 L168.3333,100.6589 M171.0833,100.6589 L171.0833,109.8255 L178.4167,105.2422 L171.0833,100.6589 L172,102.0339 L177.0417,105.2422 L172,108.4505 L172,102.0339 \" fill=\"#000000\" style=\"stroke: ; stroke-width: 0.0; stroke-dasharray: ;\"/><text fill=\"#000000\" font-family=\"sans-serif\" font-size=\"11\" lengthAdjust=\"spacingAndGlyphs\" textLength=\"13\" x=\"182.5\" y=\"110.8979\">c1</text><text fill=\"#000000\" font-family=\"sans-serif\" font-size=\"11\" lengthAdjust=\"spacingAndGlyphs\" text-decoration=\"line-through\" textLength=\"111\" x=\"199.5\" y=\"110.8979\">RequirementTest::c</text><line style=\"stroke: #A80036; stroke-width: 1.0;\" x1=\"110.5\" x2=\"181\" y1=\"93.3398\" y2=\"93.3398\"/><text fill=\"#000000\" font-family=\"sans-serif\" font-size=\"11\" lengthAdjust=\"spacingAndGlyphs\" textLength=\"64\" x=\"181\" y=\"96.6479\">constraints</text><line style=\"stroke: #A80036; stroke-width: 1.0;\" x1=\"245\" x2=\"315.5\" y1=\"93.3398\" y2=\"93.3398\"/></a><!--MD5=[1dd1bfd58a279cf63c5f349dbc8fc6a1]\n",
       "class E11--><a href=\"psysml:b85d82e7-3bb2-4c49-b03c-5a9b3c771643\" target=\"_top\" title=\"psysml:b85d82e7-3bb2-4c49-b03c-5a9b3c771643\" xlink:actuate=\"onRequest\" xlink:href=\"psysml:b85d82e7-3bb2-4c49-b03c-5a9b3c771643\" xlink:show=\"new\" xlink:title=\"psysml:b85d82e7-3bb2-4c49-b03c-5a9b3c771643\" xlink:type=\"simple\"><rect fill=\"#FEFECE\" filter=\"url(#ffq475fnt4c1a)\" height=\"45.9375\" id=\"E11\" rx=\"10\" ry=\"10\" style=\"stroke: #A80036; stroke-width: 1.5;\" width=\"42\" x=\"185\" y=\"332.5\"/><text fill=\"#000000\" font-family=\"sans-serif\" font-size=\"12\" font-style=\"italic\" lengthAdjust=\"spacingAndGlyphs\" textLength=\"40\" x=\"186\" y=\"348.6387\">«part»</text><text fill=\"#000000\" font-family=\"sans-serif\" font-size=\"12\" lengthAdjust=\"spacingAndGlyphs\" textLength=\"8\" x=\"202\" y=\"362.6074\">p</text><line style=\"stroke: #A80036; stroke-width: 1.5;\" x1=\"186\" x2=\"226\" y1=\"370.4375\" y2=\"370.4375\"/></a><!--MD5=[49a0ec8f00dab7302a31f22d0f0fe584]\n",
       "class E12--><a href=\"psysml:f6ed6b0e-7205-4bca-ba49-af9a51c8942a\" target=\"_top\" title=\"psysml:f6ed6b0e-7205-4bca-ba49-af9a51c8942a\" xlink:actuate=\"onRequest\" xlink:href=\"psysml:f6ed6b0e-7205-4bca-ba49-af9a51c8942a\" xlink:show=\"new\" xlink:title=\"psysml:f6ed6b0e-7205-4bca-ba49-af9a51c8942a\" xlink:type=\"simple\"><rect fill=\"#FEFECE\" filter=\"url(#ffq475fnt4c1a)\" height=\"45.9375\" id=\"E12\" rx=\"10\" ry=\"10\" style=\"stroke: #A80036; stroke-width: 1.5;\" width=\"42\" x=\"32\" y=\"56\"/><text fill=\"#000000\" font-family=\"sans-serif\" font-size=\"12\" font-style=\"italic\" lengthAdjust=\"spacingAndGlyphs\" textLength=\"40\" x=\"33\" y=\"72.1387\">«part»</text><text fill=\"#000000\" font-family=\"sans-serif\" font-size=\"12\" lengthAdjust=\"spacingAndGlyphs\" textLength=\"8\" x=\"49\" y=\"86.1074\">q</text><line style=\"stroke: #A80036; stroke-width: 1.5;\" x1=\"33\" x2=\"73\" y1=\"93.9375\" y2=\"93.9375\"/></a><!--MD5=[ee3c913d1a06f366521f9ef512b67efe]\n",
       "class E13--><a href=\"psysml:dc92139c-b950-485f-92a5-3d6f837d8293\" target=\"_top\" title=\"psysml:dc92139c-b950-485f-92a5-3d6f837d8293\" xlink:actuate=\"onRequest\" xlink:href=\"psysml:dc92139c-b950-485f-92a5-3d6f837d8293\" xlink:show=\"new\" xlink:title=\"psysml:dc92139c-b950-485f-92a5-3d6f837d8293\" xlink:type=\"simple\"><rect fill=\"#FEFECE\" filter=\"url(#ffq475fnt4c1a)\" height=\"45.9375\" id=\"E13\" rx=\"10\" ry=\"10\" style=\"stroke: #A80036; stroke-width: 1.5;\" width=\"93\" x=\"44.5\" y=\"178\"/><text fill=\"#000000\" font-family=\"sans-serif\" font-size=\"12\" font-style=\"italic\" lengthAdjust=\"spacingAndGlyphs\" textLength=\"91\" x=\"45.5\" y=\"194.1387\">«requirement»</text><text fill=\"#000000\" font-family=\"sans-serif\" font-size=\"12\" lengthAdjust=\"spacingAndGlyphs\" textLength=\"21\" x=\"80.5\" y=\"208.1074\">r: R</text><line style=\"stroke: #A80036; stroke-width: 1.5;\" x1=\"45.5\" x2=\"136.5\" y1=\"215.9375\" y2=\"215.9375\"/></a><!--MD5=[05d275557350bfb9b23a4ef7222b4c39]\n",
       "link E3 to E2--><a href=\"psysml:9201001b-4e3f-46f0-8224-89e70f802e39\" target=\"_top\" title=\"psysml:9201001b-4e3f-46f0-8224-89e70f802e39\" xlink:actuate=\"onRequest\" xlink:href=\"psysml:9201001b-4e3f-46f0-8224-89e70f802e39\" xlink:show=\"new\" xlink:title=\"psysml:9201001b-4e3f-46f0-8224-89e70f802e39\" xlink:type=\"simple\"><path d=\"M389.8,102.01 C388.24,117.56 386.11,138.89 384.23,157.68 \" fill=\"none\" id=\"E3-&gt;E2\" style=\"stroke: #A80036; stroke-width: 1.0;\"/><polygon fill=\"#FFFFFF\" points=\"382.23,177.72,377.1511,158.1188,391.0819,159.5089,382.23,177.72\" style=\"stroke: #A80036; stroke-width: 1.0;\"/><ellipse cx=\"379.7072\" cy=\"152.6456\" fill=\"#A80036\" rx=\"2\" ry=\"2\" style=\"stroke: #A80036; stroke-width: 1.0;\"/><ellipse cx=\"389.6578\" cy=\"153.6385\" fill=\"#A80036\" rx=\"2\" ry=\"2\" style=\"stroke: #A80036; stroke-width: 1.0;\"/></a><!--MD5=[62aa6af11e70f752912c1cb0466f24f7]\n",
       "reverse link E4 to E5--><a href=\"psysml:56458fbc-ce11-45ea-8fa2-2092e0cfc05c\" target=\"_top\" title=\"psysml:56458fbc-ce11-45ea-8fa2-2092e0cfc05c\" xlink:actuate=\"onRequest\" xlink:href=\"psysml:56458fbc-ce11-45ea-8fa2-2092e0cfc05c\" xlink:show=\"new\" xlink:title=\"psysml:56458fbc-ce11-45ea-8fa2-2092e0cfc05c\" xlink:type=\"simple\"><path d=\"M91,425.45 C91,441.34 91,457.51 91,470.98 \" fill=\"none\" id=\"E4&lt;-E5\" style=\"stroke: #A80036; stroke-width: 1.0;\"/><ellipse cx=\"91\" cy=\"418.4\" fill=\"#FFFFFF\" rx=\"8\" ry=\"8\" style=\"stroke: #A80036; stroke-width: 1.0;\"/><line style=\"stroke: #A80036; stroke-width: 1.0;\" x1=\"91\" x2=\"91\" y1=\"426.4\" y2=\"410.4\"/><line style=\"stroke: #A80036; stroke-width: 1.0;\" x1=\"83\" x2=\"99\" y1=\"418.4\" y2=\"418.4\"/></a><!--MD5=[c6fc7cdb0cabde04948078cf183fa696]\n",
       "reverse link E4 to E8--><a href=\"psysml:72b41e7b-9298-4fd0-92ac-738cc777b35a\" target=\"_top\" title=\"psysml:72b41e7b-9298-4fd0-92ac-738cc777b35a\" xlink:actuate=\"onRequest\" xlink:href=\"psysml:72b41e7b-9298-4fd0-92ac-738cc777b35a\" xlink:show=\"new\" xlink:title=\"psysml:72b41e7b-9298-4fd0-92ac-738cc777b35a\" xlink:type=\"simple\"><path d=\"M151.51,420.04 C172.42,441.99 194.47,465.14 210.03,481.48 \" fill=\"none\" id=\"E4&lt;-E8\" style=\"stroke: #A80036; stroke-width: 1.0;\"/><polygon fill=\"#A80036\" points=\"142.34,410.4,143.5779,417.5041,150.6116,419.0937,149.3737,411.9897,142.34,410.4\" style=\"stroke: #A80036; stroke-width: 1.0;\"/></a><!--MD5=[062ed86c389d1a88f61c6380d0491e17]\n",
       "reverse link E12 to E13--><a href=\"psysml:dc92139c-b950-485f-92a5-3d6f837d8293\" target=\"_top\" title=\"psysml:dc92139c-b950-485f-92a5-3d6f837d8293\" xlink:actuate=\"onRequest\" xlink:href=\"psysml:dc92139c-b950-485f-92a5-3d6f837d8293\" xlink:show=\"new\" xlink:title=\"psysml:dc92139c-b950-485f-92a5-3d6f837d8293\" xlink:type=\"simple\"><path d=\"M63.94,114.55 C70.38,134.88 78.33,160 83.95,177.72 \" fill=\"none\" id=\"E12&lt;-E13\" style=\"stroke: #A80036; stroke-width: 1.0;\"/><polygon fill=\"#A80036\" points=\"59.97,102.01,57.9712,108.9386,63.5981,113.4484,65.5968,106.5198,59.97,102.01\" style=\"stroke: #A80036; stroke-width: 1.0;\"/></a><!--MD5=[017847e01ff9a8bd19f247411074f987]\n",
       "link E13 to E4--><a href=\"psysml:84833459-b0b4-497f-8a66-9d75104fb430\" target=\"_top\" title=\"psysml:84833459-b0b4-497f-8a66-9d75104fb430\" xlink:actuate=\"onRequest\" xlink:href=\"psysml:84833459-b0b4-497f-8a66-9d75104fb430\" xlink:show=\"new\" xlink:title=\"psysml:84833459-b0b4-497f-8a66-9d75104fb430\" xlink:type=\"simple\"><path d=\"M91,224.17 C91,239.17 91,259.91 91,280.44 \" fill=\"none\" id=\"E13-&gt;E4\" style=\"stroke: #A80036; stroke-width: 1.0;\"/><polygon fill=\"#FFFFFF\" points=\"91,300.68,84,281.68,98,281.68,91,300.68\" style=\"stroke: #A80036; stroke-width: 1.0;\"/><ellipse cx=\"86\" cy=\"275.98\" fill=\"#A80036\" rx=\"2\" ry=\"2\" style=\"stroke: #A80036; stroke-width: 1.0;\"/><ellipse cx=\"96\" cy=\"275.98\" fill=\"#A80036\" rx=\"2\" ry=\"2\" style=\"stroke: #A80036; stroke-width: 1.0;\"/></a><!--MD5=[2cfe899c895462254056921bfb67315f]\n",
       "link E13 to E11--><a href=\"psysml:ed40ce07-1501-496b-adae-3639fe39f1e8\" target=\"_top\" title=\"psysml:ed40ce07-1501-496b-adae-3639fe39f1e8\" xlink:actuate=\"onRequest\" xlink:href=\"psysml:ed40ce07-1501-496b-adae-3639fe39f1e8\" xlink:show=\"new\" xlink:title=\"psysml:ed40ce07-1501-496b-adae-3639fe39f1e8\" xlink:type=\"simple\"><path d=\"M108.36,224.29 C123.87,244.28 147.14,274.45 167,301 C173.57,309.78 180.66,319.44 186.97,328.12 \" fill=\"none\" id=\"E13-&gt;E11\" style=\"stroke: #A80036; stroke-width: 1.0; stroke-dasharray: 7.0,7.0;\"/><polygon fill=\"#A80036\" points=\"189.99,332.28,187.9274,322.6496,187.0474,328.2376,181.4594,327.3576,189.99,332.28\" style=\"stroke: #A80036; stroke-width: 1.0;\"/><text fill=\"#000000\" font-family=\"sans-serif\" font-size=\"13\" lengthAdjust=\"spacingAndGlyphs\" textLength=\"57\" x=\"145\" y=\"267.0669\">«satisfy»</text></a><!--MD5=[4d96ad0968ec293d55c4a0a88aa45d0d]\n",
       "@startuml\r\n",
       "skinparam wrapWidth 300\r\n",
       "hide circle\r\n",
       "\r\n",
       "package \"RequirementTest\" as E1  [[psysml:32d2418d-b451-4172-b0c3-f203713ef4c8 ]]  {\r\n",
       "comp def \"C\" as E2  <<(T,blue)constraint def>> [[psysml:a1b28860-c9a8-4d37-931e-31ae0c14540e ]] {\r\n",
       "}\r\n",
       "comp usage \"c: C\" as E3  <<(T,blue)constraint>> [[psysml:4f6724e1-6261-429d-9c16-1831387bac9b ]] {\r\n",
       "}\r\n",
       "comp def \"R\" as E4  <<(T,blue)requirement def>> [[psysml:a2742730-9bdb-48ea-a333-70a51cef011c ]] {\r\n",
       "\r\n",
       "- -\r\n",
       "- - constraints - -\r\n",
       "<b>require</b> c\r\n",
       "<i>assume</i> c1: C\r\n",
       "}\r\n",
       "comp def \" [<b>1</b>] A\" as E5  <<(T,blue)requirement def>> [[psysml:56458fbc-ce11-45ea-8fa2-2092e0cfc05c ]] {\r\n",
       "Text\r\n",
       "- -\r\n",
       "}\r\n",
       "comp usage \"<s>noname</s>\" as E8  <<(T,blue)requirement>> [[psysml:72b41e7b-9298-4fd0-92ac-738cc777b35a ]] {\r\n",
       "}\r\n",
       "comp def \"R1\" as E9  <<(T,blue)requirement def>> [[psysml:ec52d3df-f8e8-4ac5-95c0-bf3447feb8a5 ]] {\r\n",
       "- - constraints - -\r\n",
       "<b>require</b> <&bar-trig> c1 <s>RequirementTest::c</s>\r\n",
       "}\r\n",
       "comp usage \"p\" as E11  <<(T,blue)part>> [[psysml:b85d82e7-3bb2-4c49-b03c-5a9b3c771643 ]] {\r\n",
       "}\r\n",
       "comp usage \"q\" as E12  <<(T,blue)part>> [[psysml:f6ed6b0e-7205-4bca-ba49-af9a51c8942a ]] {\r\n",
       "}\r\n",
       "comp usage \"r: R\" as E13  <<(T,blue)requirement>> [[psysml:dc92139c-b950-485f-92a5-3d6f837d8293 ]] {\r\n",
       "}\r\n",
       "E3 - -:|> E2 [[psysml:9201001b-4e3f-46f0-8224-89e70f802e39 ]] \r\n",
       "E4 +- - E5 [[psysml:56458fbc-ce11-45ea-8fa2-2092e0cfc05c ]] \r\n",
       "E4 *- - E8 [[psysml:72b41e7b-9298-4fd0-92ac-738cc777b35a ]] \r\n",
       "E12 *- - E13 [[psysml:dc92139c-b950-485f-92a5-3d6f837d8293 ]] \r\n",
       "E13 - -:|> E4 [[psysml:84833459-b0b4-497f-8a66-9d75104fb430 ]] \r\n",
       "E13 ..> E11 [[psysml:ed40ce07-1501-496b-adae-3639fe39f1e8 ]] : <<satisfy>>\r\n",
       "}\r\n",
       "@enduml\r\n",
       "\n",
       "PlantUML version 1.2020.13(Sat Jun 13 12:26:38 UTC 2020)\n",
       "(EPL source distribution)\n",
       "Java Runtime: OpenJDK Runtime Environment\n",
       "JVM: OpenJDK 64-Bit Server VM\n",
       "Default Encoding: UTF-8\n",
       "Language: en\n",
       "Country: null\n",
       "--></g></svg>"
      ]
     },
     "execution_count": 24,
     "metadata": {},
     "output_type": "execute_result"
    }
   ],
   "source": [
    "%viz --style=\"STDCOLOR\" --view=\"Tree\" \"RequirementTest\""
   ]
  },
  {
   "cell_type": "code",
   "execution_count": 25,
   "id": "alive-advancement",
   "metadata": {
    "execution": {
     "iopub.execute_input": "2021-03-26T13:01:08.725068Z",
     "iopub.status.busy": "2021-03-26T13:01:08.724639Z",
     "iopub.status.idle": "2021-03-26T13:01:08.727511Z",
     "shell.execute_reply": "2021-03-26T13:01:08.727884Z"
    }
   },
   "outputs": [
    {
     "data": {
      "image/svg+xml": [
       "<?xml version=\"1.0\" encoding=\"UTF-8\" standalone=\"no\"?><svg xmlns=\"http://www.w3.org/2000/svg\" xmlns:xlink=\"http://www.w3.org/1999/xlink\" contentScriptType=\"application/ecmascript\" contentStyleType=\"text/css\" height=\"12px\" preserveAspectRatio=\"none\" style=\"width:12px;height:12px;\" version=\"1.1\" viewBox=\"0 0 12 12\" width=\"12px\" zoomAndPan=\"magnify\"><defs/><g><!--MD5=[aeeef50f102b80d730deb6443d14f702]\n",
       "@startuml\r\n",
       "skinparam wrapWidth 300\r\n",
       "hide circle\r\n",
       "\r\n",
       "@enduml\r\n",
       "\n",
       "PlantUML version 1.2020.13(Sat Jun 13 12:26:38 UTC 2020)\n",
       "(EPL source distribution)\n",
       "Java Runtime: OpenJDK Runtime Environment\n",
       "JVM: OpenJDK 64-Bit Server VM\n",
       "Default Encoding: UTF-8\n",
       "Language: en\n",
       "Country: null\n",
       "--></g></svg>"
      ]
     },
     "execution_count": 25,
     "metadata": {},
     "output_type": "execute_result"
    }
   ],
   "source": [
    "%viz --style=\"STDCOLOR\" --view=\"State\" \"RequirementTest\""
   ]
  },
  {
   "cell_type": "code",
   "execution_count": 26,
   "id": "collective-lincoln",
   "metadata": {
    "execution": {
     "iopub.execute_input": "2021-03-26T13:01:08.777959Z",
     "iopub.status.busy": "2021-03-26T13:01:08.777515Z",
     "iopub.status.idle": "2021-03-26T13:01:08.808988Z",
     "shell.execute_reply": "2021-03-26T13:01:08.807587Z"
    }
   },
   "outputs": [
    {
     "data": {
      "image/svg+xml": [
       "<?xml version=\"1.0\" encoding=\"UTF-8\" standalone=\"no\"?><svg xmlns=\"http://www.w3.org/2000/svg\" xmlns:xlink=\"http://www.w3.org/1999/xlink\" contentScriptType=\"application/ecmascript\" contentStyleType=\"text/css\" height=\"367px\" preserveAspectRatio=\"none\" style=\"width:852px;height:367px;\" version=\"1.1\" viewBox=\"0 0 852 367\" width=\"852px\" zoomAndPan=\"magnify\"><defs><filter height=\"300%\" id=\"f4vc7dxc9k4n5\" width=\"300%\" x=\"-1\" y=\"-1\"><feGaussianBlur result=\"blurOut\" stdDeviation=\"2.0\"/><feColorMatrix in=\"blurOut\" result=\"blurOut2\" type=\"matrix\" values=\"0 0 0 0 0 0 0 0 0 0 0 0 0 0 0 0 0 0 .4 0\"/><feOffset dx=\"4.0\" dy=\"4.0\" in=\"blurOut2\" result=\"blurOut3\"/><feBlend in=\"SourceGraphic\" in2=\"blurOut3\" mode=\"normal\"/></filter></defs><g><!--MD5=[fbc87193dbaf4d95561dea2c320d4a47]\n",
       "cluster E1--><a href=\"psysml:32d2418d-b451-4172-b0c3-f203713ef4c8\" target=\"_top\" title=\"psysml:32d2418d-b451-4172-b0c3-f203713ef4c8\" xlink:actuate=\"onRequest\" xlink:href=\"psysml:32d2418d-b451-4172-b0c3-f203713ef4c8\" xlink:show=\"new\" xlink:title=\"psysml:32d2418d-b451-4172-b0c3-f203713ef4c8\" xlink:type=\"simple\"><polygon fill=\"#FFFFFF\" filter=\"url(#f4vc7dxc9k4n5)\" points=\"16,6,158,6,165,28.2969,830,28.2969,830,355,16,355,16,6\" style=\"stroke: #000000; stroke-width: 1.5;\"/><line style=\"stroke: #000000; stroke-width: 1.5;\" x1=\"16\" x2=\"165\" y1=\"28.2969\" y2=\"28.2969\"/><text fill=\"#000000\" font-family=\"sans-serif\" font-size=\"14\" font-weight=\"bold\" lengthAdjust=\"spacingAndGlyphs\" textLength=\"136\" x=\"20\" y=\"20.9951\">RequirementTest</text></a><!--MD5=[168fadf3d0c3fd93dd5d6da1b1d7ab76]\n",
       "cluster E7--><a href=\"psysml:f6ed6b0e-7205-4bca-ba49-af9a51c8942a\" target=\"_top\" title=\"psysml:f6ed6b0e-7205-4bca-ba49-af9a51c8942a\" xlink:actuate=\"onRequest\" xlink:href=\"psysml:f6ed6b0e-7205-4bca-ba49-af9a51c8942a\" xlink:show=\"new\" xlink:title=\"psysml:f6ed6b0e-7205-4bca-ba49-af9a51c8942a\" xlink:type=\"simple\"><rect fill=\"#FFFFFF\" filter=\"url(#f4vc7dxc9k4n5)\" height=\"209\" id=\"E7\" rx=\"10\" ry=\"10\" style=\"stroke: #A80036; stroke-width: 1.5;\" width=\"213\" x=\"593\" y=\"49\"/><rect fill=\"#FEFECE\" height=\"23.9688\" rx=\"10\" ry=\"10\" style=\"stroke: #FEFECE; stroke-width: 1.5;\" width=\"213\" x=\"593\" y=\"49\"/><rect fill=\"#FEFECE\" height=\"10\" style=\"stroke: #FEFECE; stroke-width: 1.5;\" width=\"213\" x=\"593\" y=\"62.9688\"/><rect fill=\"none\" height=\"209\" id=\"E7\" rx=\"10\" ry=\"10\" style=\"stroke: #A80036; stroke-width: 1.5;\" width=\"213\" x=\"593\" y=\"49\"/><text fill=\"#000000\" font-family=\"sans-serif\" font-size=\"12\" lengthAdjust=\"spacingAndGlyphs\" textLength=\"8\" x=\"695.5\" y=\"65.1387\">q</text><line style=\"stroke: #A80036; stroke-width: 1.0;\" x1=\"593\" x2=\"806\" y1=\"72.9688\" y2=\"72.9688\"/></a><!--MD5=[55dfccfc6c49c2d10cd1bd2211a6c90c]\n",
       "cluster E8--><a href=\"psysml:dc92139c-b950-485f-92a5-3d6f837d8293\" target=\"_top\" title=\"psysml:dc92139c-b950-485f-92a5-3d6f837d8293\" xlink:actuate=\"onRequest\" xlink:href=\"psysml:dc92139c-b950-485f-92a5-3d6f837d8293\" xlink:show=\"new\" xlink:title=\"psysml:dc92139c-b950-485f-92a5-3d6f837d8293\" xlink:type=\"simple\"><rect fill=\"#FFFFFF\" filter=\"url(#f4vc7dxc9k4n5)\" height=\"126\" id=\"E8\" rx=\"10\" ry=\"10\" style=\"stroke: #A80036; stroke-width: 1.5;\" width=\"149\" x=\"625\" y=\"100\"/><rect fill=\"#FEFECE\" height=\"37.9375\" rx=\"10\" ry=\"10\" style=\"stroke: #FEFECE; stroke-width: 1.5;\" width=\"149\" x=\"625\" y=\"100\"/><rect fill=\"#FEFECE\" height=\"10\" style=\"stroke: #FEFECE; stroke-width: 1.5;\" width=\"149\" x=\"625\" y=\"127.9375\"/><rect fill=\"none\" height=\"126\" id=\"E8\" rx=\"10\" ry=\"10\" style=\"stroke: #A80036; stroke-width: 1.5;\" width=\"149\" x=\"625\" y=\"100\"/><text fill=\"#000000\" font-family=\"sans-serif\" font-size=\"12\" font-style=\"italic\" lengthAdjust=\"spacingAndGlyphs\" textLength=\"91\" x=\"654\" y=\"116.1387\">«requirement»</text><text fill=\"#000000\" font-family=\"sans-serif\" font-size=\"12\" lengthAdjust=\"spacingAndGlyphs\" textLength=\"21\" x=\"689\" y=\"130.1074\">r: R</text><line style=\"stroke: #A80036; stroke-width: 1.0;\" x1=\"625\" x2=\"774\" y1=\"137.9375\" y2=\"137.9375\"/></a><g id=\"E1.E2\"><a href=\"psysml:a1b28860-c9a8-4d37-931e-31ae0c14540e\" target=\"_top\" title=\"psysml:a1b28860-c9a8-4d37-931e-31ae0c14540e\" xlink:actuate=\"onRequest\" xlink:href=\"psysml:a1b28860-c9a8-4d37-931e-31ae0c14540e\" xlink:show=\"new\" xlink:title=\"psysml:a1b28860-c9a8-4d37-931e-31ae0c14540e\" xlink:type=\"simple\"><rect fill=\"#FEFECE\" filter=\"url(#f4vc7dxc9k4n5)\" height=\"42.9375\" id=\"E2\" style=\"stroke: #A80036; stroke-width: 1.5;\" width=\"109\" x=\"467.5\" y=\"159\"/><text fill=\"#000000\" font-family=\"sans-serif\" font-size=\"12\" font-style=\"italic\" lengthAdjust=\"spacingAndGlyphs\" textLength=\"102\" x=\"471\" y=\"175.1387\">«constraint def»</text><text fill=\"#000000\" font-family=\"sans-serif\" font-size=\"12\" lengthAdjust=\"spacingAndGlyphs\" textLength=\"8\" x=\"518\" y=\"189.1074\">C</text></a></g><g id=\"E1.E4\"><a href=\"psysml:a2742730-9bdb-48ea-a333-70a51cef011c\" target=\"_top\" title=\"psysml:a2742730-9bdb-48ea-a333-70a51cef011c\" xlink:actuate=\"onRequest\" xlink:href=\"psysml:a2742730-9bdb-48ea-a333-70a51cef011c\" xlink:show=\"new\" xlink:title=\"psysml:a2742730-9bdb-48ea-a333-70a51cef011c\" xlink:type=\"simple\"><rect fill=\"#FEFECE\" filter=\"url(#f4vc7dxc9k4n5)\" height=\"42.9375\" id=\"E4\" style=\"stroke: #A80036; stroke-width: 1.5;\" width=\"122\" x=\"310\" y=\"159\"/><text fill=\"#000000\" font-family=\"sans-serif\" font-size=\"12\" font-style=\"italic\" lengthAdjust=\"spacingAndGlyphs\" textLength=\"115\" x=\"313.5\" y=\"175.1387\">«requirement def»</text><text fill=\"#000000\" font-family=\"sans-serif\" font-size=\"12\" lengthAdjust=\"spacingAndGlyphs\" textLength=\"8\" x=\"367\" y=\"189.1074\">R</text></a></g><g id=\"E1.E5\"><a href=\"psysml:ec52d3df-f8e8-4ac5-95c0-bf3447feb8a5\" target=\"_top\" title=\"psysml:ec52d3df-f8e8-4ac5-95c0-bf3447feb8a5\" xlink:actuate=\"onRequest\" xlink:href=\"psysml:ec52d3df-f8e8-4ac5-95c0-bf3447feb8a5\" xlink:show=\"new\" xlink:title=\"psysml:ec52d3df-f8e8-4ac5-95c0-bf3447feb8a5\" xlink:type=\"simple\"><rect fill=\"#FEFECE\" filter=\"url(#f4vc7dxc9k4n5)\" height=\"42.9375\" id=\"E5\" style=\"stroke: #A80036; stroke-width: 1.5;\" width=\"122\" x=\"153\" y=\"159\"/><text fill=\"#000000\" font-family=\"sans-serif\" font-size=\"12\" font-style=\"italic\" lengthAdjust=\"spacingAndGlyphs\" textLength=\"115\" x=\"156.5\" y=\"175.1387\">«requirement def»</text><text fill=\"#000000\" font-family=\"sans-serif\" font-size=\"12\" lengthAdjust=\"spacingAndGlyphs\" textLength=\"16\" x=\"206\" y=\"189.1074\">R1</text></a></g><g id=\"E1.E3\"><a href=\"psysml:4f6724e1-6261-429d-9c16-1831387bac9b\" target=\"_top\" title=\"psysml:4f6724e1-6261-429d-9c16-1831387bac9b\" xlink:actuate=\"onRequest\" xlink:href=\"psysml:4f6724e1-6261-429d-9c16-1831387bac9b\" xlink:show=\"new\" xlink:title=\"psysml:4f6724e1-6261-429d-9c16-1831387bac9b\" xlink:type=\"simple\"><rect fill=\"#FEFECE\" filter=\"url(#f4vc7dxc9k4n5)\" height=\"42.9375\" id=\"E3\" rx=\"10\" ry=\"10\" style=\"stroke: #A80036; stroke-width: 1.5;\" width=\"85\" x=\"32.5\" y=\"159\"/><text fill=\"#000000\" font-family=\"sans-serif\" font-size=\"12\" font-style=\"italic\" lengthAdjust=\"spacingAndGlyphs\" textLength=\"78\" x=\"36\" y=\"175.1387\">«constraint»</text><text fill=\"#000000\" font-family=\"sans-serif\" font-size=\"12\" lengthAdjust=\"spacingAndGlyphs\" textLength=\"23\" x=\"63.5\" y=\"189.1074\">c: C</text></a></g><g id=\"E1.E6\"><a href=\"psysml:b85d82e7-3bb2-4c49-b03c-5a9b3c771643\" target=\"_top\" title=\"psysml:b85d82e7-3bb2-4c49-b03c-5a9b3c771643\" xlink:actuate=\"onRequest\" xlink:href=\"psysml:b85d82e7-3bb2-4c49-b03c-5a9b3c771643\" xlink:show=\"new\" xlink:title=\"psysml:b85d82e7-3bb2-4c49-b03c-5a9b3c771643\" xlink:type=\"simple\"><rect fill=\"#FEFECE\" filter=\"url(#f4vc7dxc9k4n5)\" height=\"40\" id=\"E6\" rx=\"10\" ry=\"10\" style=\"stroke: #A80036; stroke-width: 1.5;\" width=\"50\" x=\"608\" y=\"299\"/><text fill=\"#000000\" font-family=\"sans-serif\" font-size=\"12\" lengthAdjust=\"spacingAndGlyphs\" textLength=\"8\" x=\"629\" y=\"315.1387\">p</text></a></g><g id=\"E1.E7.E8.E9\"><a href=\"psysml:aab203df-2e20-42f3-8553-8efa379fea2d\" target=\"_top\" title=\"psysml:aab203df-2e20-42f3-8553-8efa379fea2d\" xlink:actuate=\"onRequest\" xlink:href=\"psysml:aab203df-2e20-42f3-8553-8efa379fea2d\" xlink:show=\"new\" xlink:title=\"psysml:aab203df-2e20-42f3-8553-8efa379fea2d\" xlink:type=\"simple\"><rect fill=\"#FEFECE\" filter=\"url(#f4vc7dxc9k4n5)\" height=\"42.9375\" id=\"E9\" rx=\"10\" ry=\"10\" style=\"stroke: #A80036; stroke-width: 1.5;\" width=\"82\" x=\"668\" y=\"159\"/><text fill=\"#000000\" font-family=\"sans-serif\" font-size=\"12\" font-style=\"italic\" lengthAdjust=\"spacingAndGlyphs\" textLength=\"75\" x=\"671.5\" y=\"175.1387\">«reference»</text><text fill=\"#000000\" font-family=\"sans-serif\" font-size=\"12\" lengthAdjust=\"spacingAndGlyphs\" textLength=\"26\" x=\"696\" y=\"189.1074\">subj</text></a></g><!--MD5=[c5e8897d989ce984f93528998a7150fe]\n",
       "link E8 to E6--><a href=\"psysml:ed40ce07-1501-496b-adae-3639fe39f1e8\" target=\"_top\" title=\"psysml:ed40ce07-1501-496b-adae-3639fe39f1e8\" xlink:actuate=\"onRequest\" xlink:href=\"psysml:ed40ce07-1501-496b-adae-3639fe39f1e8\" xlink:show=\"new\" xlink:title=\"psysml:ed40ce07-1501-496b-adae-3639fe39f1e8\" xlink:type=\"simple\"><path d=\"M633,226.4501 C633,227.1713 633,227.8965 633,228.6252 C633,230.0826 633,231.5543 633,233.0372 C633,236.003 633,239.0136 633,242.0448 C633,248.1072 633,254.2518 633,260.2839 C633,272.3481 633,283.9625 633,293.57 \" fill=\"none\" id=\"E8-&gt;E6\" style=\"stroke: #A80036; stroke-width: 1.0; stroke-dasharray: 7.0,7.0;\"/><polygon fill=\"#A80036\" points=\"633,298.99,637,289.99,633,293.99,629,289.99,633,298.99\" style=\"stroke: #A80036; stroke-width: 1.0;\"/><text fill=\"#000000\" font-family=\"sans-serif\" font-size=\"13\" lengthAdjust=\"spacingAndGlyphs\" textLength=\"57\" x=\"634\" y=\"287.0669\">«satisfy»</text></a><!--MD5=[6f81d5f6095b0a9ed604ecb3e34349d3]\n",
       "@startuml\r\n",
       "skinparam ranksep 8\r\n",
       "skinparam rectangle {\r\n",
       " backgroundColor<<block>> LightGreen\r\n",
       "}\r\n",
       "skinparam wrapWidth 300\r\n",
       "hide circle\r\n",
       "\r\n",
       "package \"RequirementTest\" as E1  [[psysml:32d2418d-b451-4172-b0c3-f203713ef4c8 ]]  {\r\n",
       "def \"C\" as E2  <<(T,blue)constraint def>> [[psysml:a1b28860-c9a8-4d37-931e-31ae0c14540e ]] \r\n",
       "rec usage \"c: C\" as E3  <<(T,blue)constraint>> [[psysml:4f6724e1-6261-429d-9c16-1831387bac9b ]] {\r\n",
       "}\r\n",
       "def \"R\" as E4  <<(T,blue)requirement def>> [[psysml:a2742730-9bdb-48ea-a333-70a51cef011c ]] \r\n",
       "def \"R1\" as E5  <<(T,blue)requirement def>> [[psysml:ec52d3df-f8e8-4ac5-95c0-bf3447feb8a5 ]] \r\n",
       "rec usage \"p\" as E6  [[psysml:b85d82e7-3bb2-4c49-b03c-5a9b3c771643 ]] {\r\n",
       "}\r\n",
       "rec usage \"q\" as E7  [[psysml:f6ed6b0e-7205-4bca-ba49-af9a51c8942a ]] {\r\n",
       "rec usage \"r: R\" as E8  <<(T,blue)requirement>> [[psysml:dc92139c-b950-485f-92a5-3d6f837d8293 ]] {\r\n",
       "rec usage \"subj\" as E9  <<(T,blue)reference>> [[psysml:aab203df-2e20-42f3-8553-8efa379fea2d ]] {\r\n",
       "}\r\n",
       "}\r\n",
       "}\r\n",
       "E8 ..> E6 [[psysml:ed40ce07-1501-496b-adae-3639fe39f1e8 ]] : <<satisfy>>\r\n",
       "}\r\n",
       "@enduml\r\n",
       "\n",
       "PlantUML version 1.2020.13(Sat Jun 13 12:26:38 UTC 2020)\n",
       "(EPL source distribution)\n",
       "Java Runtime: OpenJDK Runtime Environment\n",
       "JVM: OpenJDK 64-Bit Server VM\n",
       "Default Encoding: UTF-8\n",
       "Language: en\n",
       "Country: null\n",
       "--></g></svg>"
      ]
     },
     "execution_count": 26,
     "metadata": {},
     "output_type": "execute_result"
    }
   ],
   "source": [
    "%viz --style=\"STDCOLOR\" --view=\"Interconnection\" \"RequirementTest\""
   ]
  },
  {
   "cell_type": "code",
   "execution_count": 27,
   "id": "elect-choice",
   "metadata": {
    "execution": {
     "iopub.execute_input": "2021-03-26T13:01:08.858472Z",
     "iopub.status.busy": "2021-03-26T13:01:08.858072Z",
     "iopub.status.idle": "2021-03-26T13:01:08.861750Z",
     "shell.execute_reply": "2021-03-26T13:01:08.862123Z"
    }
   },
   "outputs": [
    {
     "data": {
      "image/svg+xml": [
       "<?xml version=\"1.0\" encoding=\"UTF-8\" standalone=\"no\"?><svg xmlns=\"http://www.w3.org/2000/svg\" xmlns:xlink=\"http://www.w3.org/1999/xlink\" contentScriptType=\"application/ecmascript\" contentStyleType=\"text/css\" height=\"12px\" preserveAspectRatio=\"none\" style=\"width:12px;height:12px;\" version=\"1.1\" viewBox=\"0 0 12 12\" width=\"12px\" zoomAndPan=\"magnify\"><defs/><g><!--MD5=[9863325348a96a77dacc89509d8ee65e]\n",
       "@startuml\r\n",
       "skinparam ranksep 8\r\n",
       "skinparam wrapWidth 300\r\n",
       "hide circle\r\n",
       "\r\n",
       "@enduml\r\n",
       "\n",
       "PlantUML version 1.2020.13(Sat Jun 13 12:26:38 UTC 2020)\n",
       "(EPL source distribution)\n",
       "Java Runtime: OpenJDK Runtime Environment\n",
       "JVM: OpenJDK 64-Bit Server VM\n",
       "Default Encoding: UTF-8\n",
       "Language: en\n",
       "Country: null\n",
       "--></g></svg>"
      ]
     },
     "execution_count": 27,
     "metadata": {},
     "output_type": "execute_result"
    }
   ],
   "source": [
    "%viz --style=\"STDCOLOR\" --view=\"Action\" \"RequirementTest\""
   ]
  },
  {
   "cell_type": "code",
   "execution_count": 28,
   "id": "standing-prague",
   "metadata": {
    "execution": {
     "iopub.execute_input": "2021-03-26T13:01:08.912611Z",
     "iopub.status.busy": "2021-03-26T13:01:08.912235Z",
     "iopub.status.idle": "2021-03-26T13:01:09.004491Z",
     "shell.execute_reply": "2021-03-26T13:01:09.002944Z"
    }
   },
   "outputs": [
    {
     "data": {
      "image/svg+xml": [
       "<?xml version=\"1.0\" encoding=\"UTF-8\" standalone=\"no\"?><svg xmlns=\"http://www.w3.org/2000/svg\" xmlns:xlink=\"http://www.w3.org/1999/xlink\" contentScriptType=\"application/ecmascript\" contentStyleType=\"text/css\" height=\"566px\" preserveAspectRatio=\"none\" style=\"width:470px;height:566px;\" version=\"1.1\" viewBox=\"0 0 470 566\" width=\"470px\" zoomAndPan=\"magnify\"><defs><filter height=\"300%\" id=\"ffq475fnt4c1a\" width=\"300%\" x=\"-1\" y=\"-1\"><feGaussianBlur result=\"blurOut\" stdDeviation=\"2.0\"/><feColorMatrix in=\"blurOut\" result=\"blurOut2\" type=\"matrix\" values=\"0 0 0 0 0 0 0 0 0 0 0 0 0 0 0 0 0 0 .4 0\"/><feOffset dx=\"4.0\" dy=\"4.0\" in=\"blurOut2\" result=\"blurOut3\"/><feBlend in=\"SourceGraphic\" in2=\"blurOut3\" mode=\"normal\"/></filter></defs><g><!--MD5=[fbc87193dbaf4d95561dea2c320d4a47]\n",
       "cluster E1--><a href=\"psysml:32d2418d-b451-4172-b0c3-f203713ef4c8\" target=\"_top\" title=\"psysml:32d2418d-b451-4172-b0c3-f203713ef4c8\" xlink:actuate=\"onRequest\" xlink:href=\"psysml:32d2418d-b451-4172-b0c3-f203713ef4c8\" xlink:show=\"new\" xlink:title=\"psysml:32d2418d-b451-4172-b0c3-f203713ef4c8\" xlink:type=\"simple\"><polygon fill=\"#FFFFFF\" filter=\"url(#ffq475fnt4c1a)\" points=\"16,6,158,6,165,28.2969,448,28.2969,448,554,16,554,16,6\" style=\"stroke: #000000; stroke-width: 1.5;\"/><line style=\"stroke: #000000; stroke-width: 1.5;\" x1=\"16\" x2=\"165\" y1=\"28.2969\" y2=\"28.2969\"/><text fill=\"#000000\" font-family=\"sans-serif\" font-size=\"14\" font-weight=\"bold\" lengthAdjust=\"spacingAndGlyphs\" textLength=\"136\" x=\"20\" y=\"20.9951\">RequirementTest</text></a><!--MD5=[b4997ac47864f28c2f74865a473b2911]\n",
       "class E2--><a href=\"psysml:a1b28860-c9a8-4d37-931e-31ae0c14540e\" target=\"_top\" title=\"psysml:a1b28860-c9a8-4d37-931e-31ae0c14540e\" xlink:actuate=\"onRequest\" xlink:href=\"psysml:a1b28860-c9a8-4d37-931e-31ae0c14540e\" xlink:show=\"new\" xlink:title=\"psysml:a1b28860-c9a8-4d37-931e-31ae0c14540e\" xlink:type=\"simple\"><rect fill=\"#FEFECE\" filter=\"url(#ffq475fnt4c1a)\" height=\"45.9375\" id=\"E2\" style=\"stroke: #A80036; stroke-width: 1.5;\" width=\"104\" x=\"328\" y=\"178\"/><text fill=\"#000000\" font-family=\"sans-serif\" font-size=\"12\" font-style=\"italic\" lengthAdjust=\"spacingAndGlyphs\" textLength=\"102\" x=\"329\" y=\"194.1387\">«constraint def»</text><text fill=\"#000000\" font-family=\"sans-serif\" font-size=\"12\" lengthAdjust=\"spacingAndGlyphs\" textLength=\"8\" x=\"376\" y=\"208.1074\">C</text><line style=\"stroke: #A80036; stroke-width: 1.5;\" x1=\"329\" x2=\"431\" y1=\"215.9375\" y2=\"215.9375\"/></a><!--MD5=[09b614a08d8cba4a07c9adeb5e0fee81]\n",
       "class E3--><a href=\"psysml:4f6724e1-6261-429d-9c16-1831387bac9b\" target=\"_top\" title=\"psysml:4f6724e1-6261-429d-9c16-1831387bac9b\" xlink:actuate=\"onRequest\" xlink:href=\"psysml:4f6724e1-6261-429d-9c16-1831387bac9b\" xlink:show=\"new\" xlink:title=\"psysml:4f6724e1-6261-429d-9c16-1831387bac9b\" xlink:type=\"simple\"><rect fill=\"#FEFECE\" filter=\"url(#ffq475fnt4c1a)\" height=\"45.9375\" id=\"E3\" rx=\"10\" ry=\"10\" style=\"stroke: #A80036; stroke-width: 1.5;\" width=\"80\" x=\"352\" y=\"56\"/><text fill=\"#000000\" font-family=\"sans-serif\" font-size=\"12\" font-style=\"italic\" lengthAdjust=\"spacingAndGlyphs\" textLength=\"78\" x=\"353\" y=\"72.1387\">«constraint»</text><text fill=\"#000000\" font-family=\"sans-serif\" font-size=\"12\" lengthAdjust=\"spacingAndGlyphs\" textLength=\"23\" x=\"380.5\" y=\"86.1074\">c: C</text><line style=\"stroke: #A80036; stroke-width: 1.5;\" x1=\"353\" x2=\"431\" y1=\"93.9375\" y2=\"93.9375\"/></a><!--MD5=[ebbe1d658d1005bcc118a6aa81145e00]\n",
       "class E4--><a href=\"psysml:a2742730-9bdb-48ea-a333-70a51cef011c\" target=\"_top\" title=\"psysml:a2742730-9bdb-48ea-a333-70a51cef011c\" xlink:actuate=\"onRequest\" xlink:href=\"psysml:a2742730-9bdb-48ea-a333-70a51cef011c\" xlink:show=\"new\" xlink:title=\"psysml:a2742730-9bdb-48ea-a333-70a51cef011c\" xlink:type=\"simple\"><rect fill=\"#FEFECE\" filter=\"url(#ffq475fnt4c1a)\" height=\"109.1563\" id=\"E4\" style=\"stroke: #A80036; stroke-width: 1.5;\" width=\"117\" x=\"32.5\" y=\"301\"/><text fill=\"#000000\" font-family=\"sans-serif\" font-size=\"12\" font-style=\"italic\" lengthAdjust=\"spacingAndGlyphs\" textLength=\"115\" x=\"33.5\" y=\"317.1387\">«requirement def»</text><text fill=\"#000000\" font-family=\"sans-serif\" font-size=\"12\" lengthAdjust=\"spacingAndGlyphs\" textLength=\"8\" x=\"87\" y=\"331.1074\">R</text><line style=\"stroke: #A80036; stroke-width: 1.5;\" x1=\"33.5\" x2=\"148.5\" y1=\"338.9375\" y2=\"338.9375\"/><text fill=\"#000000\" font-family=\"sans-serif\" font-size=\"11\" lengthAdjust=\"spacingAndGlyphs\" textLength=\"0\" x=\"42.5\" y=\"353.1479\"/><line style=\"stroke: #A80036; stroke-width: 1.0;\" x1=\"33.5\" x2=\"148.5\" y1=\"359.7422\" y2=\"359.7422\"/><text fill=\"#000000\" font-family=\"sans-serif\" font-size=\"11\" font-weight=\"bold\" lengthAdjust=\"spacingAndGlyphs\" textLength=\"46\" x=\"38.5\" y=\"390.7573\">require</text><text fill=\"#000000\" font-family=\"sans-serif\" font-size=\"11\" lengthAdjust=\"spacingAndGlyphs\" textLength=\"6\" x=\"88.5\" y=\"390.7573\">c</text><text fill=\"#000000\" font-family=\"sans-serif\" font-size=\"11\" font-style=\"italic\" lengthAdjust=\"spacingAndGlyphs\" textLength=\"46\" x=\"38.5\" y=\"403.562\">assume</text><text fill=\"#000000\" font-family=\"sans-serif\" font-size=\"11\" lengthAdjust=\"spacingAndGlyphs\" textLength=\"29\" x=\"88.5\" y=\"403.562\">c1: C</text><line style=\"stroke: #A80036; stroke-width: 1.0;\" x1=\"33.5\" x2=\"59\" y1=\"374.1445\" y2=\"374.1445\"/><text fill=\"#000000\" font-family=\"sans-serif\" font-size=\"11\" lengthAdjust=\"spacingAndGlyphs\" textLength=\"64\" x=\"59\" y=\"377.4526\">constraints</text><line style=\"stroke: #A80036; stroke-width: 1.0;\" x1=\"123\" x2=\"148.5\" y1=\"374.1445\" y2=\"374.1445\"/></a><!--MD5=[270fce915f116d4de14055a7c1d9a0f3]\n",
       "class E5--><a href=\"psysml:56458fbc-ce11-45ea-8fa2-2092e0cfc05c\" target=\"_top\" title=\"psysml:56458fbc-ce11-45ea-8fa2-2092e0cfc05c\" xlink:actuate=\"onRequest\" xlink:href=\"psysml:56458fbc-ce11-45ea-8fa2-2092e0cfc05c\" xlink:show=\"new\" xlink:title=\"psysml:56458fbc-ce11-45ea-8fa2-2092e0cfc05c\" xlink:type=\"simple\"><rect fill=\"#FEFECE\" filter=\"url(#ffq475fnt4c1a)\" height=\"66.7422\" id=\"E5\" style=\"stroke: #A80036; stroke-width: 1.5;\" width=\"117\" x=\"32.5\" y=\"471\"/><text fill=\"#000000\" font-family=\"sans-serif\" font-size=\"12\" font-style=\"italic\" lengthAdjust=\"spacingAndGlyphs\" textLength=\"115\" x=\"33.5\" y=\"487.1387\">«requirement def»</text><text fill=\"#000000\" font-family=\"sans-serif\" font-size=\"12\" lengthAdjust=\"spacingAndGlyphs\" textLength=\"5\" x=\"78\" y=\"501.1074\">[</text><text fill=\"#000000\" font-family=\"sans-serif\" font-size=\"12\" font-weight=\"bold\" lengthAdjust=\"spacingAndGlyphs\" textLength=\"8\" x=\"83\" y=\"501.1074\">1</text><text fill=\"#000000\" font-family=\"sans-serif\" font-size=\"12\" lengthAdjust=\"spacingAndGlyphs\" textLength=\"17\" x=\"91\" y=\"501.1074\">] A</text><line style=\"stroke: #A80036; stroke-width: 1.5;\" x1=\"33.5\" x2=\"148.5\" y1=\"508.9375\" y2=\"508.9375\"/><text fill=\"#000000\" font-family=\"sans-serif\" font-size=\"11\" lengthAdjust=\"spacingAndGlyphs\" textLength=\"24\" x=\"38.5\" y=\"523.1479\">Text</text><line style=\"stroke: #A80036; stroke-width: 1.0;\" x1=\"33.5\" x2=\"148.5\" y1=\"529.7422\" y2=\"529.7422\"/></a><!--MD5=[b9389687b975829384b498ac4b7476b2]\n",
       "class E8--><a href=\"psysml:72b41e7b-9298-4fd0-92ac-738cc777b35a\" target=\"_top\" title=\"psysml:72b41e7b-9298-4fd0-92ac-738cc777b35a\" xlink:actuate=\"onRequest\" xlink:href=\"psysml:72b41e7b-9298-4fd0-92ac-738cc777b35a\" xlink:show=\"new\" xlink:title=\"psysml:72b41e7b-9298-4fd0-92ac-738cc777b35a\" xlink:type=\"simple\"><rect fill=\"#FEFECE\" filter=\"url(#ffq475fnt4c1a)\" height=\"45.9375\" id=\"E8\" rx=\"10\" ry=\"10\" style=\"stroke: #A80036; stroke-width: 1.5;\" width=\"93\" x=\"184.5\" y=\"481.5\"/><text fill=\"#000000\" font-family=\"sans-serif\" font-size=\"12\" font-style=\"italic\" lengthAdjust=\"spacingAndGlyphs\" textLength=\"91\" x=\"185.5\" y=\"497.6387\">«requirement»</text><text fill=\"#000000\" font-family=\"sans-serif\" font-size=\"12\" lengthAdjust=\"spacingAndGlyphs\" text-decoration=\"line-through\" textLength=\"51\" x=\"205.5\" y=\"511.6074\">noname</text><line style=\"stroke: #A80036; stroke-width: 1.5;\" x1=\"185.5\" x2=\"276.5\" y1=\"519.4375\" y2=\"519.4375\"/></a><!--MD5=[fd4143e9d270a159db93a4ea2a975926]\n",
       "class E9--><a href=\"psysml:ec52d3df-f8e8-4ac5-95c0-bf3447feb8a5\" target=\"_top\" title=\"psysml:ec52d3df-f8e8-4ac5-95c0-bf3447feb8a5\" xlink:actuate=\"onRequest\" xlink:href=\"psysml:ec52d3df-f8e8-4ac5-95c0-bf3447feb8a5\" xlink:show=\"new\" xlink:title=\"psysml:ec52d3df-f8e8-4ac5-95c0-bf3447feb8a5\" xlink:type=\"simple\"><rect fill=\"#FEFECE\" filter=\"url(#ffq475fnt4c1a)\" height=\"76.4922\" id=\"E9\" style=\"stroke: #A80036; stroke-width: 1.5;\" width=\"207\" x=\"109.5\" y=\"41\"/><text fill=\"#000000\" font-family=\"sans-serif\" font-size=\"12\" font-style=\"italic\" lengthAdjust=\"spacingAndGlyphs\" textLength=\"115\" x=\"155.5\" y=\"57.1387\">«requirement def»</text><text fill=\"#000000\" font-family=\"sans-serif\" font-size=\"12\" lengthAdjust=\"spacingAndGlyphs\" textLength=\"16\" x=\"205\" y=\"71.1074\">R1</text><line style=\"stroke: #A80036; stroke-width: 1.5;\" x1=\"110.5\" x2=\"315.5\" y1=\"78.9375\" y2=\"78.9375\"/><text fill=\"#000000\" font-family=\"sans-serif\" font-size=\"11\" font-weight=\"bold\" lengthAdjust=\"spacingAndGlyphs\" textLength=\"46\" x=\"115.5\" y=\"110.8979\">require</text><text fill=\"#000000\" font-family=\"sans-serif\" font-size=\"11\" lengthAdjust=\"spacingAndGlyphs\" textLength=\"0\" x=\"165.5\" y=\"110.8979\"/><path d=\"M167.4167,100.6589 L167.4167,109.8255 L168.3333,109.8255 L168.3333,100.6589 M171.0833,100.6589 L171.0833,109.8255 L178.4167,105.2422 L171.0833,100.6589 L172,102.0339 L177.0417,105.2422 L172,108.4505 L172,102.0339 \" fill=\"#000000\" style=\"stroke: ; stroke-width: 0.0; stroke-dasharray: ;\"/><text fill=\"#000000\" font-family=\"sans-serif\" font-size=\"11\" lengthAdjust=\"spacingAndGlyphs\" textLength=\"13\" x=\"182.5\" y=\"110.8979\">c1</text><text fill=\"#000000\" font-family=\"sans-serif\" font-size=\"11\" lengthAdjust=\"spacingAndGlyphs\" text-decoration=\"line-through\" textLength=\"111\" x=\"199.5\" y=\"110.8979\">RequirementTest::c</text><line style=\"stroke: #A80036; stroke-width: 1.0;\" x1=\"110.5\" x2=\"181\" y1=\"93.3398\" y2=\"93.3398\"/><text fill=\"#000000\" font-family=\"sans-serif\" font-size=\"11\" lengthAdjust=\"spacingAndGlyphs\" textLength=\"64\" x=\"181\" y=\"96.6479\">constraints</text><line style=\"stroke: #A80036; stroke-width: 1.0;\" x1=\"245\" x2=\"315.5\" y1=\"93.3398\" y2=\"93.3398\"/></a><!--MD5=[1dd1bfd58a279cf63c5f349dbc8fc6a1]\n",
       "class E11--><a href=\"psysml:b85d82e7-3bb2-4c49-b03c-5a9b3c771643\" target=\"_top\" title=\"psysml:b85d82e7-3bb2-4c49-b03c-5a9b3c771643\" xlink:actuate=\"onRequest\" xlink:href=\"psysml:b85d82e7-3bb2-4c49-b03c-5a9b3c771643\" xlink:show=\"new\" xlink:title=\"psysml:b85d82e7-3bb2-4c49-b03c-5a9b3c771643\" xlink:type=\"simple\"><rect fill=\"#FEFECE\" filter=\"url(#ffq475fnt4c1a)\" height=\"45.9375\" id=\"E11\" rx=\"10\" ry=\"10\" style=\"stroke: #A80036; stroke-width: 1.5;\" width=\"42\" x=\"185\" y=\"332.5\"/><text fill=\"#000000\" font-family=\"sans-serif\" font-size=\"12\" font-style=\"italic\" lengthAdjust=\"spacingAndGlyphs\" textLength=\"40\" x=\"186\" y=\"348.6387\">«part»</text><text fill=\"#000000\" font-family=\"sans-serif\" font-size=\"12\" lengthAdjust=\"spacingAndGlyphs\" textLength=\"8\" x=\"202\" y=\"362.6074\">p</text><line style=\"stroke: #A80036; stroke-width: 1.5;\" x1=\"186\" x2=\"226\" y1=\"370.4375\" y2=\"370.4375\"/></a><!--MD5=[49a0ec8f00dab7302a31f22d0f0fe584]\n",
       "class E12--><a href=\"psysml:f6ed6b0e-7205-4bca-ba49-af9a51c8942a\" target=\"_top\" title=\"psysml:f6ed6b0e-7205-4bca-ba49-af9a51c8942a\" xlink:actuate=\"onRequest\" xlink:href=\"psysml:f6ed6b0e-7205-4bca-ba49-af9a51c8942a\" xlink:show=\"new\" xlink:title=\"psysml:f6ed6b0e-7205-4bca-ba49-af9a51c8942a\" xlink:type=\"simple\"><rect fill=\"#FEFECE\" filter=\"url(#ffq475fnt4c1a)\" height=\"45.9375\" id=\"E12\" rx=\"10\" ry=\"10\" style=\"stroke: #A80036; stroke-width: 1.5;\" width=\"42\" x=\"32\" y=\"56\"/><text fill=\"#000000\" font-family=\"sans-serif\" font-size=\"12\" font-style=\"italic\" lengthAdjust=\"spacingAndGlyphs\" textLength=\"40\" x=\"33\" y=\"72.1387\">«part»</text><text fill=\"#000000\" font-family=\"sans-serif\" font-size=\"12\" lengthAdjust=\"spacingAndGlyphs\" textLength=\"8\" x=\"49\" y=\"86.1074\">q</text><line style=\"stroke: #A80036; stroke-width: 1.5;\" x1=\"33\" x2=\"73\" y1=\"93.9375\" y2=\"93.9375\"/></a><!--MD5=[ee3c913d1a06f366521f9ef512b67efe]\n",
       "class E13--><a href=\"psysml:dc92139c-b950-485f-92a5-3d6f837d8293\" target=\"_top\" title=\"psysml:dc92139c-b950-485f-92a5-3d6f837d8293\" xlink:actuate=\"onRequest\" xlink:href=\"psysml:dc92139c-b950-485f-92a5-3d6f837d8293\" xlink:show=\"new\" xlink:title=\"psysml:dc92139c-b950-485f-92a5-3d6f837d8293\" xlink:type=\"simple\"><rect fill=\"#FEFECE\" filter=\"url(#ffq475fnt4c1a)\" height=\"45.9375\" id=\"E13\" rx=\"10\" ry=\"10\" style=\"stroke: #A80036; stroke-width: 1.5;\" width=\"93\" x=\"44.5\" y=\"178\"/><text fill=\"#000000\" font-family=\"sans-serif\" font-size=\"12\" font-style=\"italic\" lengthAdjust=\"spacingAndGlyphs\" textLength=\"91\" x=\"45.5\" y=\"194.1387\">«requirement»</text><text fill=\"#000000\" font-family=\"sans-serif\" font-size=\"12\" lengthAdjust=\"spacingAndGlyphs\" textLength=\"21\" x=\"80.5\" y=\"208.1074\">r: R</text><line style=\"stroke: #A80036; stroke-width: 1.5;\" x1=\"45.5\" x2=\"136.5\" y1=\"215.9375\" y2=\"215.9375\"/></a><!--MD5=[05d275557350bfb9b23a4ef7222b4c39]\n",
       "link E3 to E2--><a href=\"psysml:9201001b-4e3f-46f0-8224-89e70f802e39\" target=\"_top\" title=\"psysml:9201001b-4e3f-46f0-8224-89e70f802e39\" xlink:actuate=\"onRequest\" xlink:href=\"psysml:9201001b-4e3f-46f0-8224-89e70f802e39\" xlink:show=\"new\" xlink:title=\"psysml:9201001b-4e3f-46f0-8224-89e70f802e39\" xlink:type=\"simple\"><path d=\"M389.8,102.01 C388.24,117.56 386.11,138.89 384.23,157.68 \" fill=\"none\" id=\"E3-&gt;E2\" style=\"stroke: #A80036; stroke-width: 1.0;\"/><polygon fill=\"#FFFFFF\" points=\"382.23,177.72,377.1511,158.1188,391.0819,159.5089,382.23,177.72\" style=\"stroke: #A80036; stroke-width: 1.0;\"/><ellipse cx=\"379.7072\" cy=\"152.6456\" fill=\"#A80036\" rx=\"2\" ry=\"2\" style=\"stroke: #A80036; stroke-width: 1.0;\"/><ellipse cx=\"389.6578\" cy=\"153.6385\" fill=\"#A80036\" rx=\"2\" ry=\"2\" style=\"stroke: #A80036; stroke-width: 1.0;\"/></a><!--MD5=[62aa6af11e70f752912c1cb0466f24f7]\n",
       "reverse link E4 to E5--><a href=\"psysml:56458fbc-ce11-45ea-8fa2-2092e0cfc05c\" target=\"_top\" title=\"psysml:56458fbc-ce11-45ea-8fa2-2092e0cfc05c\" xlink:actuate=\"onRequest\" xlink:href=\"psysml:56458fbc-ce11-45ea-8fa2-2092e0cfc05c\" xlink:show=\"new\" xlink:title=\"psysml:56458fbc-ce11-45ea-8fa2-2092e0cfc05c\" xlink:type=\"simple\"><path d=\"M91,425.45 C91,441.34 91,457.51 91,470.98 \" fill=\"none\" id=\"E4&lt;-E5\" style=\"stroke: #A80036; stroke-width: 1.0;\"/><ellipse cx=\"91\" cy=\"418.4\" fill=\"#FFFFFF\" rx=\"8\" ry=\"8\" style=\"stroke: #A80036; stroke-width: 1.0;\"/><line style=\"stroke: #A80036; stroke-width: 1.0;\" x1=\"91\" x2=\"91\" y1=\"426.4\" y2=\"410.4\"/><line style=\"stroke: #A80036; stroke-width: 1.0;\" x1=\"83\" x2=\"99\" y1=\"418.4\" y2=\"418.4\"/></a><!--MD5=[c6fc7cdb0cabde04948078cf183fa696]\n",
       "reverse link E4 to E8--><a href=\"psysml:72b41e7b-9298-4fd0-92ac-738cc777b35a\" target=\"_top\" title=\"psysml:72b41e7b-9298-4fd0-92ac-738cc777b35a\" xlink:actuate=\"onRequest\" xlink:href=\"psysml:72b41e7b-9298-4fd0-92ac-738cc777b35a\" xlink:show=\"new\" xlink:title=\"psysml:72b41e7b-9298-4fd0-92ac-738cc777b35a\" xlink:type=\"simple\"><path d=\"M151.51,420.04 C172.42,441.99 194.47,465.14 210.03,481.48 \" fill=\"none\" id=\"E4&lt;-E8\" style=\"stroke: #A80036; stroke-width: 1.0;\"/><polygon fill=\"#A80036\" points=\"142.34,410.4,143.5779,417.5041,150.6116,419.0937,149.3737,411.9897,142.34,410.4\" style=\"stroke: #A80036; stroke-width: 1.0;\"/></a><!--MD5=[062ed86c389d1a88f61c6380d0491e17]\n",
       "reverse link E12 to E13--><a href=\"psysml:dc92139c-b950-485f-92a5-3d6f837d8293\" target=\"_top\" title=\"psysml:dc92139c-b950-485f-92a5-3d6f837d8293\" xlink:actuate=\"onRequest\" xlink:href=\"psysml:dc92139c-b950-485f-92a5-3d6f837d8293\" xlink:show=\"new\" xlink:title=\"psysml:dc92139c-b950-485f-92a5-3d6f837d8293\" xlink:type=\"simple\"><path d=\"M63.94,114.55 C70.38,134.88 78.33,160 83.95,177.72 \" fill=\"none\" id=\"E12&lt;-E13\" style=\"stroke: #A80036; stroke-width: 1.0;\"/><polygon fill=\"#A80036\" points=\"59.97,102.01,57.9712,108.9386,63.5981,113.4484,65.5968,106.5198,59.97,102.01\" style=\"stroke: #A80036; stroke-width: 1.0;\"/></a><!--MD5=[017847e01ff9a8bd19f247411074f987]\n",
       "link E13 to E4--><a href=\"psysml:84833459-b0b4-497f-8a66-9d75104fb430\" target=\"_top\" title=\"psysml:84833459-b0b4-497f-8a66-9d75104fb430\" xlink:actuate=\"onRequest\" xlink:href=\"psysml:84833459-b0b4-497f-8a66-9d75104fb430\" xlink:show=\"new\" xlink:title=\"psysml:84833459-b0b4-497f-8a66-9d75104fb430\" xlink:type=\"simple\"><path d=\"M91,224.17 C91,239.17 91,259.91 91,280.44 \" fill=\"none\" id=\"E13-&gt;E4\" style=\"stroke: #A80036; stroke-width: 1.0;\"/><polygon fill=\"#FFFFFF\" points=\"91,300.68,84,281.68,98,281.68,91,300.68\" style=\"stroke: #A80036; stroke-width: 1.0;\"/><ellipse cx=\"86\" cy=\"275.98\" fill=\"#A80036\" rx=\"2\" ry=\"2\" style=\"stroke: #A80036; stroke-width: 1.0;\"/><ellipse cx=\"96\" cy=\"275.98\" fill=\"#A80036\" rx=\"2\" ry=\"2\" style=\"stroke: #A80036; stroke-width: 1.0;\"/></a><!--MD5=[2cfe899c895462254056921bfb67315f]\n",
       "link E13 to E11--><a href=\"psysml:ed40ce07-1501-496b-adae-3639fe39f1e8\" target=\"_top\" title=\"psysml:ed40ce07-1501-496b-adae-3639fe39f1e8\" xlink:actuate=\"onRequest\" xlink:href=\"psysml:ed40ce07-1501-496b-adae-3639fe39f1e8\" xlink:show=\"new\" xlink:title=\"psysml:ed40ce07-1501-496b-adae-3639fe39f1e8\" xlink:type=\"simple\"><path d=\"M108.36,224.29 C123.87,244.28 147.14,274.45 167,301 C173.57,309.78 180.66,319.44 186.97,328.12 \" fill=\"none\" id=\"E13-&gt;E11\" style=\"stroke: #A80036; stroke-width: 1.0; stroke-dasharray: 7.0,7.0;\"/><polygon fill=\"#A80036\" points=\"189.99,332.28,187.9274,322.6496,187.0474,328.2376,181.4594,327.3576,189.99,332.28\" style=\"stroke: #A80036; stroke-width: 1.0;\"/><text fill=\"#000000\" font-family=\"sans-serif\" font-size=\"13\" lengthAdjust=\"spacingAndGlyphs\" textLength=\"57\" x=\"145\" y=\"267.0669\">«satisfy»</text></a><!--MD5=[4d96ad0968ec293d55c4a0a88aa45d0d]\n",
       "@startuml\r\n",
       "skinparam wrapWidth 300\r\n",
       "hide circle\r\n",
       "\r\n",
       "package \"RequirementTest\" as E1  [[psysml:32d2418d-b451-4172-b0c3-f203713ef4c8 ]]  {\r\n",
       "comp def \"C\" as E2  <<(T,blue)constraint def>> [[psysml:a1b28860-c9a8-4d37-931e-31ae0c14540e ]] {\r\n",
       "}\r\n",
       "comp usage \"c: C\" as E3  <<(T,blue)constraint>> [[psysml:4f6724e1-6261-429d-9c16-1831387bac9b ]] {\r\n",
       "}\r\n",
       "comp def \"R\" as E4  <<(T,blue)requirement def>> [[psysml:a2742730-9bdb-48ea-a333-70a51cef011c ]] {\r\n",
       "\r\n",
       "- -\r\n",
       "- - constraints - -\r\n",
       "<b>require</b> c\r\n",
       "<i>assume</i> c1: C\r\n",
       "}\r\n",
       "comp def \" [<b>1</b>] A\" as E5  <<(T,blue)requirement def>> [[psysml:56458fbc-ce11-45ea-8fa2-2092e0cfc05c ]] {\r\n",
       "Text\r\n",
       "- -\r\n",
       "}\r\n",
       "comp usage \"<s>noname</s>\" as E8  <<(T,blue)requirement>> [[psysml:72b41e7b-9298-4fd0-92ac-738cc777b35a ]] {\r\n",
       "}\r\n",
       "comp def \"R1\" as E9  <<(T,blue)requirement def>> [[psysml:ec52d3df-f8e8-4ac5-95c0-bf3447feb8a5 ]] {\r\n",
       "- - constraints - -\r\n",
       "<b>require</b> <&bar-trig> c1 <s>RequirementTest::c</s>\r\n",
       "}\r\n",
       "comp usage \"p\" as E11  <<(T,blue)part>> [[psysml:b85d82e7-3bb2-4c49-b03c-5a9b3c771643 ]] {\r\n",
       "}\r\n",
       "comp usage \"q\" as E12  <<(T,blue)part>> [[psysml:f6ed6b0e-7205-4bca-ba49-af9a51c8942a ]] {\r\n",
       "}\r\n",
       "comp usage \"r: R\" as E13  <<(T,blue)requirement>> [[psysml:dc92139c-b950-485f-92a5-3d6f837d8293 ]] {\r\n",
       "}\r\n",
       "E3 - -:|> E2 [[psysml:9201001b-4e3f-46f0-8224-89e70f802e39 ]] \r\n",
       "E4 +- - E5 [[psysml:56458fbc-ce11-45ea-8fa2-2092e0cfc05c ]] \r\n",
       "E4 *- - E8 [[psysml:72b41e7b-9298-4fd0-92ac-738cc777b35a ]] \r\n",
       "E12 *- - E13 [[psysml:dc92139c-b950-485f-92a5-3d6f837d8293 ]] \r\n",
       "E13 - -:|> E4 [[psysml:84833459-b0b4-497f-8a66-9d75104fb430 ]] \r\n",
       "E13 ..> E11 [[psysml:ed40ce07-1501-496b-adae-3639fe39f1e8 ]] : <<satisfy>>\r\n",
       "}\r\n",
       "@enduml\r\n",
       "\n",
       "PlantUML version 1.2020.13(Sat Jun 13 12:26:38 UTC 2020)\n",
       "(EPL source distribution)\n",
       "Java Runtime: OpenJDK Runtime Environment\n",
       "JVM: OpenJDK 64-Bit Server VM\n",
       "Default Encoding: UTF-8\n",
       "Language: en\n",
       "Country: null\n",
       "--></g></svg>"
      ]
     },
     "execution_count": 28,
     "metadata": {},
     "output_type": "execute_result"
    }
   ],
   "source": [
    "%viz --style=\"STDCOLOR\" --view=\"Sequence\" \"RequirementTest\""
   ]
  },
  {
   "cell_type": "code",
   "execution_count": 29,
   "id": "frank-handling",
   "metadata": {
    "execution": {
     "iopub.execute_input": "2021-03-26T13:01:09.056098Z",
     "iopub.status.busy": "2021-03-26T13:01:09.055412Z",
     "iopub.status.idle": "2021-03-26T13:01:09.148184Z",
     "shell.execute_reply": "2021-03-26T13:01:09.147872Z"
    }
   },
   "outputs": [
    {
     "data": {
      "image/svg+xml": [
       "<?xml version=\"1.0\" encoding=\"UTF-8\" standalone=\"no\"?><svg xmlns=\"http://www.w3.org/2000/svg\" xmlns:xlink=\"http://www.w3.org/1999/xlink\" contentScriptType=\"application/ecmascript\" contentStyleType=\"text/css\" height=\"566px\" preserveAspectRatio=\"none\" style=\"width:470px;height:566px;\" version=\"1.1\" viewBox=\"0 0 470 566\" width=\"470px\" zoomAndPan=\"magnify\"><defs><filter height=\"300%\" id=\"ffq475fnt4c1a\" width=\"300%\" x=\"-1\" y=\"-1\"><feGaussianBlur result=\"blurOut\" stdDeviation=\"2.0\"/><feColorMatrix in=\"blurOut\" result=\"blurOut2\" type=\"matrix\" values=\"0 0 0 0 0 0 0 0 0 0 0 0 0 0 0 0 0 0 .4 0\"/><feOffset dx=\"4.0\" dy=\"4.0\" in=\"blurOut2\" result=\"blurOut3\"/><feBlend in=\"SourceGraphic\" in2=\"blurOut3\" mode=\"normal\"/></filter></defs><g><!--MD5=[fbc87193dbaf4d95561dea2c320d4a47]\n",
       "cluster E1--><a href=\"psysml:32d2418d-b451-4172-b0c3-f203713ef4c8\" target=\"_top\" title=\"psysml:32d2418d-b451-4172-b0c3-f203713ef4c8\" xlink:actuate=\"onRequest\" xlink:href=\"psysml:32d2418d-b451-4172-b0c3-f203713ef4c8\" xlink:show=\"new\" xlink:title=\"psysml:32d2418d-b451-4172-b0c3-f203713ef4c8\" xlink:type=\"simple\"><polygon fill=\"#FFFFFF\" filter=\"url(#ffq475fnt4c1a)\" points=\"16,6,158,6,165,28.2969,448,28.2969,448,554,16,554,16,6\" style=\"stroke: #000000; stroke-width: 1.5;\"/><line style=\"stroke: #000000; stroke-width: 1.5;\" x1=\"16\" x2=\"165\" y1=\"28.2969\" y2=\"28.2969\"/><text fill=\"#000000\" font-family=\"sans-serif\" font-size=\"14\" font-weight=\"bold\" lengthAdjust=\"spacingAndGlyphs\" textLength=\"136\" x=\"20\" y=\"20.9951\">RequirementTest</text></a><!--MD5=[b4997ac47864f28c2f74865a473b2911]\n",
       "class E2--><a href=\"psysml:a1b28860-c9a8-4d37-931e-31ae0c14540e\" target=\"_top\" title=\"psysml:a1b28860-c9a8-4d37-931e-31ae0c14540e\" xlink:actuate=\"onRequest\" xlink:href=\"psysml:a1b28860-c9a8-4d37-931e-31ae0c14540e\" xlink:show=\"new\" xlink:title=\"psysml:a1b28860-c9a8-4d37-931e-31ae0c14540e\" xlink:type=\"simple\"><rect fill=\"#FEFECE\" filter=\"url(#ffq475fnt4c1a)\" height=\"45.9375\" id=\"E2\" style=\"stroke: #A80036; stroke-width: 1.5;\" width=\"104\" x=\"328\" y=\"178\"/><text fill=\"#000000\" font-family=\"sans-serif\" font-size=\"12\" font-style=\"italic\" lengthAdjust=\"spacingAndGlyphs\" textLength=\"102\" x=\"329\" y=\"194.1387\">«constraint def»</text><text fill=\"#000000\" font-family=\"sans-serif\" font-size=\"12\" lengthAdjust=\"spacingAndGlyphs\" textLength=\"8\" x=\"376\" y=\"208.1074\">C</text><line style=\"stroke: #A80036; stroke-width: 1.5;\" x1=\"329\" x2=\"431\" y1=\"215.9375\" y2=\"215.9375\"/></a><!--MD5=[09b614a08d8cba4a07c9adeb5e0fee81]\n",
       "class E3--><a href=\"psysml:4f6724e1-6261-429d-9c16-1831387bac9b\" target=\"_top\" title=\"psysml:4f6724e1-6261-429d-9c16-1831387bac9b\" xlink:actuate=\"onRequest\" xlink:href=\"psysml:4f6724e1-6261-429d-9c16-1831387bac9b\" xlink:show=\"new\" xlink:title=\"psysml:4f6724e1-6261-429d-9c16-1831387bac9b\" xlink:type=\"simple\"><rect fill=\"#FEFECE\" filter=\"url(#ffq475fnt4c1a)\" height=\"45.9375\" id=\"E3\" rx=\"10\" ry=\"10\" style=\"stroke: #A80036; stroke-width: 1.5;\" width=\"80\" x=\"352\" y=\"56\"/><text fill=\"#000000\" font-family=\"sans-serif\" font-size=\"12\" font-style=\"italic\" lengthAdjust=\"spacingAndGlyphs\" textLength=\"78\" x=\"353\" y=\"72.1387\">«constraint»</text><text fill=\"#000000\" font-family=\"sans-serif\" font-size=\"12\" lengthAdjust=\"spacingAndGlyphs\" textLength=\"23\" x=\"380.5\" y=\"86.1074\">c: C</text><line style=\"stroke: #A80036; stroke-width: 1.5;\" x1=\"353\" x2=\"431\" y1=\"93.9375\" y2=\"93.9375\"/></a><!--MD5=[ebbe1d658d1005bcc118a6aa81145e00]\n",
       "class E4--><a href=\"psysml:a2742730-9bdb-48ea-a333-70a51cef011c\" target=\"_top\" title=\"psysml:a2742730-9bdb-48ea-a333-70a51cef011c\" xlink:actuate=\"onRequest\" xlink:href=\"psysml:a2742730-9bdb-48ea-a333-70a51cef011c\" xlink:show=\"new\" xlink:title=\"psysml:a2742730-9bdb-48ea-a333-70a51cef011c\" xlink:type=\"simple\"><rect fill=\"#FEFECE\" filter=\"url(#ffq475fnt4c1a)\" height=\"109.1563\" id=\"E4\" style=\"stroke: #A80036; stroke-width: 1.5;\" width=\"117\" x=\"32.5\" y=\"301\"/><text fill=\"#000000\" font-family=\"sans-serif\" font-size=\"12\" font-style=\"italic\" lengthAdjust=\"spacingAndGlyphs\" textLength=\"115\" x=\"33.5\" y=\"317.1387\">«requirement def»</text><text fill=\"#000000\" font-family=\"sans-serif\" font-size=\"12\" lengthAdjust=\"spacingAndGlyphs\" textLength=\"8\" x=\"87\" y=\"331.1074\">R</text><line style=\"stroke: #A80036; stroke-width: 1.5;\" x1=\"33.5\" x2=\"148.5\" y1=\"338.9375\" y2=\"338.9375\"/><text fill=\"#000000\" font-family=\"sans-serif\" font-size=\"11\" lengthAdjust=\"spacingAndGlyphs\" textLength=\"0\" x=\"42.5\" y=\"353.1479\"/><line style=\"stroke: #A80036; stroke-width: 1.0;\" x1=\"33.5\" x2=\"148.5\" y1=\"359.7422\" y2=\"359.7422\"/><text fill=\"#000000\" font-family=\"sans-serif\" font-size=\"11\" font-weight=\"bold\" lengthAdjust=\"spacingAndGlyphs\" textLength=\"46\" x=\"38.5\" y=\"390.7573\">require</text><text fill=\"#000000\" font-family=\"sans-serif\" font-size=\"11\" lengthAdjust=\"spacingAndGlyphs\" textLength=\"6\" x=\"88.5\" y=\"390.7573\">c</text><text fill=\"#000000\" font-family=\"sans-serif\" font-size=\"11\" font-style=\"italic\" lengthAdjust=\"spacingAndGlyphs\" textLength=\"46\" x=\"38.5\" y=\"403.562\">assume</text><text fill=\"#000000\" font-family=\"sans-serif\" font-size=\"11\" lengthAdjust=\"spacingAndGlyphs\" textLength=\"29\" x=\"88.5\" y=\"403.562\">c1: C</text><line style=\"stroke: #A80036; stroke-width: 1.0;\" x1=\"33.5\" x2=\"59\" y1=\"374.1445\" y2=\"374.1445\"/><text fill=\"#000000\" font-family=\"sans-serif\" font-size=\"11\" lengthAdjust=\"spacingAndGlyphs\" textLength=\"64\" x=\"59\" y=\"377.4526\">constraints</text><line style=\"stroke: #A80036; stroke-width: 1.0;\" x1=\"123\" x2=\"148.5\" y1=\"374.1445\" y2=\"374.1445\"/></a><!--MD5=[270fce915f116d4de14055a7c1d9a0f3]\n",
       "class E5--><a href=\"psysml:56458fbc-ce11-45ea-8fa2-2092e0cfc05c\" target=\"_top\" title=\"psysml:56458fbc-ce11-45ea-8fa2-2092e0cfc05c\" xlink:actuate=\"onRequest\" xlink:href=\"psysml:56458fbc-ce11-45ea-8fa2-2092e0cfc05c\" xlink:show=\"new\" xlink:title=\"psysml:56458fbc-ce11-45ea-8fa2-2092e0cfc05c\" xlink:type=\"simple\"><rect fill=\"#FEFECE\" filter=\"url(#ffq475fnt4c1a)\" height=\"66.7422\" id=\"E5\" style=\"stroke: #A80036; stroke-width: 1.5;\" width=\"117\" x=\"32.5\" y=\"471\"/><text fill=\"#000000\" font-family=\"sans-serif\" font-size=\"12\" font-style=\"italic\" lengthAdjust=\"spacingAndGlyphs\" textLength=\"115\" x=\"33.5\" y=\"487.1387\">«requirement def»</text><text fill=\"#000000\" font-family=\"sans-serif\" font-size=\"12\" lengthAdjust=\"spacingAndGlyphs\" textLength=\"5\" x=\"78\" y=\"501.1074\">[</text><text fill=\"#000000\" font-family=\"sans-serif\" font-size=\"12\" font-weight=\"bold\" lengthAdjust=\"spacingAndGlyphs\" textLength=\"8\" x=\"83\" y=\"501.1074\">1</text><text fill=\"#000000\" font-family=\"sans-serif\" font-size=\"12\" lengthAdjust=\"spacingAndGlyphs\" textLength=\"17\" x=\"91\" y=\"501.1074\">] A</text><line style=\"stroke: #A80036; stroke-width: 1.5;\" x1=\"33.5\" x2=\"148.5\" y1=\"508.9375\" y2=\"508.9375\"/><text fill=\"#000000\" font-family=\"sans-serif\" font-size=\"11\" lengthAdjust=\"spacingAndGlyphs\" textLength=\"24\" x=\"38.5\" y=\"523.1479\">Text</text><line style=\"stroke: #A80036; stroke-width: 1.0;\" x1=\"33.5\" x2=\"148.5\" y1=\"529.7422\" y2=\"529.7422\"/></a><!--MD5=[b9389687b975829384b498ac4b7476b2]\n",
       "class E8--><a href=\"psysml:72b41e7b-9298-4fd0-92ac-738cc777b35a\" target=\"_top\" title=\"psysml:72b41e7b-9298-4fd0-92ac-738cc777b35a\" xlink:actuate=\"onRequest\" xlink:href=\"psysml:72b41e7b-9298-4fd0-92ac-738cc777b35a\" xlink:show=\"new\" xlink:title=\"psysml:72b41e7b-9298-4fd0-92ac-738cc777b35a\" xlink:type=\"simple\"><rect fill=\"#FEFECE\" filter=\"url(#ffq475fnt4c1a)\" height=\"45.9375\" id=\"E8\" rx=\"10\" ry=\"10\" style=\"stroke: #A80036; stroke-width: 1.5;\" width=\"93\" x=\"184.5\" y=\"481.5\"/><text fill=\"#000000\" font-family=\"sans-serif\" font-size=\"12\" font-style=\"italic\" lengthAdjust=\"spacingAndGlyphs\" textLength=\"91\" x=\"185.5\" y=\"497.6387\">«requirement»</text><text fill=\"#000000\" font-family=\"sans-serif\" font-size=\"12\" lengthAdjust=\"spacingAndGlyphs\" text-decoration=\"line-through\" textLength=\"51\" x=\"205.5\" y=\"511.6074\">noname</text><line style=\"stroke: #A80036; stroke-width: 1.5;\" x1=\"185.5\" x2=\"276.5\" y1=\"519.4375\" y2=\"519.4375\"/></a><!--MD5=[fd4143e9d270a159db93a4ea2a975926]\n",
       "class E9--><a href=\"psysml:ec52d3df-f8e8-4ac5-95c0-bf3447feb8a5\" target=\"_top\" title=\"psysml:ec52d3df-f8e8-4ac5-95c0-bf3447feb8a5\" xlink:actuate=\"onRequest\" xlink:href=\"psysml:ec52d3df-f8e8-4ac5-95c0-bf3447feb8a5\" xlink:show=\"new\" xlink:title=\"psysml:ec52d3df-f8e8-4ac5-95c0-bf3447feb8a5\" xlink:type=\"simple\"><rect fill=\"#FEFECE\" filter=\"url(#ffq475fnt4c1a)\" height=\"76.4922\" id=\"E9\" style=\"stroke: #A80036; stroke-width: 1.5;\" width=\"207\" x=\"109.5\" y=\"41\"/><text fill=\"#000000\" font-family=\"sans-serif\" font-size=\"12\" font-style=\"italic\" lengthAdjust=\"spacingAndGlyphs\" textLength=\"115\" x=\"155.5\" y=\"57.1387\">«requirement def»</text><text fill=\"#000000\" font-family=\"sans-serif\" font-size=\"12\" lengthAdjust=\"spacingAndGlyphs\" textLength=\"16\" x=\"205\" y=\"71.1074\">R1</text><line style=\"stroke: #A80036; stroke-width: 1.5;\" x1=\"110.5\" x2=\"315.5\" y1=\"78.9375\" y2=\"78.9375\"/><text fill=\"#000000\" font-family=\"sans-serif\" font-size=\"11\" font-weight=\"bold\" lengthAdjust=\"spacingAndGlyphs\" textLength=\"46\" x=\"115.5\" y=\"110.8979\">require</text><text fill=\"#000000\" font-family=\"sans-serif\" font-size=\"11\" lengthAdjust=\"spacingAndGlyphs\" textLength=\"0\" x=\"165.5\" y=\"110.8979\"/><path d=\"M167.4167,100.6589 L167.4167,109.8255 L168.3333,109.8255 L168.3333,100.6589 M171.0833,100.6589 L171.0833,109.8255 L178.4167,105.2422 L171.0833,100.6589 L172,102.0339 L177.0417,105.2422 L172,108.4505 L172,102.0339 \" fill=\"#000000\" style=\"stroke: ; stroke-width: 0.0; stroke-dasharray: ;\"/><text fill=\"#000000\" font-family=\"sans-serif\" font-size=\"11\" lengthAdjust=\"spacingAndGlyphs\" textLength=\"13\" x=\"182.5\" y=\"110.8979\">c1</text><text fill=\"#000000\" font-family=\"sans-serif\" font-size=\"11\" lengthAdjust=\"spacingAndGlyphs\" text-decoration=\"line-through\" textLength=\"111\" x=\"199.5\" y=\"110.8979\">RequirementTest::c</text><line style=\"stroke: #A80036; stroke-width: 1.0;\" x1=\"110.5\" x2=\"181\" y1=\"93.3398\" y2=\"93.3398\"/><text fill=\"#000000\" font-family=\"sans-serif\" font-size=\"11\" lengthAdjust=\"spacingAndGlyphs\" textLength=\"64\" x=\"181\" y=\"96.6479\">constraints</text><line style=\"stroke: #A80036; stroke-width: 1.0;\" x1=\"245\" x2=\"315.5\" y1=\"93.3398\" y2=\"93.3398\"/></a><!--MD5=[1dd1bfd58a279cf63c5f349dbc8fc6a1]\n",
       "class E11--><a href=\"psysml:b85d82e7-3bb2-4c49-b03c-5a9b3c771643\" target=\"_top\" title=\"psysml:b85d82e7-3bb2-4c49-b03c-5a9b3c771643\" xlink:actuate=\"onRequest\" xlink:href=\"psysml:b85d82e7-3bb2-4c49-b03c-5a9b3c771643\" xlink:show=\"new\" xlink:title=\"psysml:b85d82e7-3bb2-4c49-b03c-5a9b3c771643\" xlink:type=\"simple\"><rect fill=\"#FEFECE\" filter=\"url(#ffq475fnt4c1a)\" height=\"45.9375\" id=\"E11\" rx=\"10\" ry=\"10\" style=\"stroke: #A80036; stroke-width: 1.5;\" width=\"42\" x=\"185\" y=\"332.5\"/><text fill=\"#000000\" font-family=\"sans-serif\" font-size=\"12\" font-style=\"italic\" lengthAdjust=\"spacingAndGlyphs\" textLength=\"40\" x=\"186\" y=\"348.6387\">«part»</text><text fill=\"#000000\" font-family=\"sans-serif\" font-size=\"12\" lengthAdjust=\"spacingAndGlyphs\" textLength=\"8\" x=\"202\" y=\"362.6074\">p</text><line style=\"stroke: #A80036; stroke-width: 1.5;\" x1=\"186\" x2=\"226\" y1=\"370.4375\" y2=\"370.4375\"/></a><!--MD5=[49a0ec8f00dab7302a31f22d0f0fe584]\n",
       "class E12--><a href=\"psysml:f6ed6b0e-7205-4bca-ba49-af9a51c8942a\" target=\"_top\" title=\"psysml:f6ed6b0e-7205-4bca-ba49-af9a51c8942a\" xlink:actuate=\"onRequest\" xlink:href=\"psysml:f6ed6b0e-7205-4bca-ba49-af9a51c8942a\" xlink:show=\"new\" xlink:title=\"psysml:f6ed6b0e-7205-4bca-ba49-af9a51c8942a\" xlink:type=\"simple\"><rect fill=\"#FEFECE\" filter=\"url(#ffq475fnt4c1a)\" height=\"45.9375\" id=\"E12\" rx=\"10\" ry=\"10\" style=\"stroke: #A80036; stroke-width: 1.5;\" width=\"42\" x=\"32\" y=\"56\"/><text fill=\"#000000\" font-family=\"sans-serif\" font-size=\"12\" font-style=\"italic\" lengthAdjust=\"spacingAndGlyphs\" textLength=\"40\" x=\"33\" y=\"72.1387\">«part»</text><text fill=\"#000000\" font-family=\"sans-serif\" font-size=\"12\" lengthAdjust=\"spacingAndGlyphs\" textLength=\"8\" x=\"49\" y=\"86.1074\">q</text><line style=\"stroke: #A80036; stroke-width: 1.5;\" x1=\"33\" x2=\"73\" y1=\"93.9375\" y2=\"93.9375\"/></a><!--MD5=[ee3c913d1a06f366521f9ef512b67efe]\n",
       "class E13--><a href=\"psysml:dc92139c-b950-485f-92a5-3d6f837d8293\" target=\"_top\" title=\"psysml:dc92139c-b950-485f-92a5-3d6f837d8293\" xlink:actuate=\"onRequest\" xlink:href=\"psysml:dc92139c-b950-485f-92a5-3d6f837d8293\" xlink:show=\"new\" xlink:title=\"psysml:dc92139c-b950-485f-92a5-3d6f837d8293\" xlink:type=\"simple\"><rect fill=\"#FEFECE\" filter=\"url(#ffq475fnt4c1a)\" height=\"45.9375\" id=\"E13\" rx=\"10\" ry=\"10\" style=\"stroke: #A80036; stroke-width: 1.5;\" width=\"93\" x=\"44.5\" y=\"178\"/><text fill=\"#000000\" font-family=\"sans-serif\" font-size=\"12\" font-style=\"italic\" lengthAdjust=\"spacingAndGlyphs\" textLength=\"91\" x=\"45.5\" y=\"194.1387\">«requirement»</text><text fill=\"#000000\" font-family=\"sans-serif\" font-size=\"12\" lengthAdjust=\"spacingAndGlyphs\" textLength=\"21\" x=\"80.5\" y=\"208.1074\">r: R</text><line style=\"stroke: #A80036; stroke-width: 1.5;\" x1=\"45.5\" x2=\"136.5\" y1=\"215.9375\" y2=\"215.9375\"/></a><!--MD5=[05d275557350bfb9b23a4ef7222b4c39]\n",
       "link E3 to E2--><a href=\"psysml:9201001b-4e3f-46f0-8224-89e70f802e39\" target=\"_top\" title=\"psysml:9201001b-4e3f-46f0-8224-89e70f802e39\" xlink:actuate=\"onRequest\" xlink:href=\"psysml:9201001b-4e3f-46f0-8224-89e70f802e39\" xlink:show=\"new\" xlink:title=\"psysml:9201001b-4e3f-46f0-8224-89e70f802e39\" xlink:type=\"simple\"><path d=\"M389.8,102.01 C388.24,117.56 386.11,138.89 384.23,157.68 \" fill=\"none\" id=\"E3-&gt;E2\" style=\"stroke: #A80036; stroke-width: 1.0;\"/><polygon fill=\"#FFFFFF\" points=\"382.23,177.72,377.1511,158.1188,391.0819,159.5089,382.23,177.72\" style=\"stroke: #A80036; stroke-width: 1.0;\"/><ellipse cx=\"379.7072\" cy=\"152.6456\" fill=\"#A80036\" rx=\"2\" ry=\"2\" style=\"stroke: #A80036; stroke-width: 1.0;\"/><ellipse cx=\"389.6578\" cy=\"153.6385\" fill=\"#A80036\" rx=\"2\" ry=\"2\" style=\"stroke: #A80036; stroke-width: 1.0;\"/></a><!--MD5=[62aa6af11e70f752912c1cb0466f24f7]\n",
       "reverse link E4 to E5--><a href=\"psysml:56458fbc-ce11-45ea-8fa2-2092e0cfc05c\" target=\"_top\" title=\"psysml:56458fbc-ce11-45ea-8fa2-2092e0cfc05c\" xlink:actuate=\"onRequest\" xlink:href=\"psysml:56458fbc-ce11-45ea-8fa2-2092e0cfc05c\" xlink:show=\"new\" xlink:title=\"psysml:56458fbc-ce11-45ea-8fa2-2092e0cfc05c\" xlink:type=\"simple\"><path d=\"M91,425.45 C91,441.34 91,457.51 91,470.98 \" fill=\"none\" id=\"E4&lt;-E5\" style=\"stroke: #A80036; stroke-width: 1.0;\"/><ellipse cx=\"91\" cy=\"418.4\" fill=\"#FFFFFF\" rx=\"8\" ry=\"8\" style=\"stroke: #A80036; stroke-width: 1.0;\"/><line style=\"stroke: #A80036; stroke-width: 1.0;\" x1=\"91\" x2=\"91\" y1=\"426.4\" y2=\"410.4\"/><line style=\"stroke: #A80036; stroke-width: 1.0;\" x1=\"83\" x2=\"99\" y1=\"418.4\" y2=\"418.4\"/></a><!--MD5=[c6fc7cdb0cabde04948078cf183fa696]\n",
       "reverse link E4 to E8--><a href=\"psysml:72b41e7b-9298-4fd0-92ac-738cc777b35a\" target=\"_top\" title=\"psysml:72b41e7b-9298-4fd0-92ac-738cc777b35a\" xlink:actuate=\"onRequest\" xlink:href=\"psysml:72b41e7b-9298-4fd0-92ac-738cc777b35a\" xlink:show=\"new\" xlink:title=\"psysml:72b41e7b-9298-4fd0-92ac-738cc777b35a\" xlink:type=\"simple\"><path d=\"M151.51,420.04 C172.42,441.99 194.47,465.14 210.03,481.48 \" fill=\"none\" id=\"E4&lt;-E8\" style=\"stroke: #A80036; stroke-width: 1.0;\"/><polygon fill=\"#A80036\" points=\"142.34,410.4,143.5779,417.5041,150.6116,419.0937,149.3737,411.9897,142.34,410.4\" style=\"stroke: #A80036; stroke-width: 1.0;\"/></a><!--MD5=[062ed86c389d1a88f61c6380d0491e17]\n",
       "reverse link E12 to E13--><a href=\"psysml:dc92139c-b950-485f-92a5-3d6f837d8293\" target=\"_top\" title=\"psysml:dc92139c-b950-485f-92a5-3d6f837d8293\" xlink:actuate=\"onRequest\" xlink:href=\"psysml:dc92139c-b950-485f-92a5-3d6f837d8293\" xlink:show=\"new\" xlink:title=\"psysml:dc92139c-b950-485f-92a5-3d6f837d8293\" xlink:type=\"simple\"><path d=\"M63.94,114.55 C70.38,134.88 78.33,160 83.95,177.72 \" fill=\"none\" id=\"E12&lt;-E13\" style=\"stroke: #A80036; stroke-width: 1.0;\"/><polygon fill=\"#A80036\" points=\"59.97,102.01,57.9712,108.9386,63.5981,113.4484,65.5968,106.5198,59.97,102.01\" style=\"stroke: #A80036; stroke-width: 1.0;\"/></a><!--MD5=[017847e01ff9a8bd19f247411074f987]\n",
       "link E13 to E4--><a href=\"psysml:84833459-b0b4-497f-8a66-9d75104fb430\" target=\"_top\" title=\"psysml:84833459-b0b4-497f-8a66-9d75104fb430\" xlink:actuate=\"onRequest\" xlink:href=\"psysml:84833459-b0b4-497f-8a66-9d75104fb430\" xlink:show=\"new\" xlink:title=\"psysml:84833459-b0b4-497f-8a66-9d75104fb430\" xlink:type=\"simple\"><path d=\"M91,224.17 C91,239.17 91,259.91 91,280.44 \" fill=\"none\" id=\"E13-&gt;E4\" style=\"stroke: #A80036; stroke-width: 1.0;\"/><polygon fill=\"#FFFFFF\" points=\"91,300.68,84,281.68,98,281.68,91,300.68\" style=\"stroke: #A80036; stroke-width: 1.0;\"/><ellipse cx=\"86\" cy=\"275.98\" fill=\"#A80036\" rx=\"2\" ry=\"2\" style=\"stroke: #A80036; stroke-width: 1.0;\"/><ellipse cx=\"96\" cy=\"275.98\" fill=\"#A80036\" rx=\"2\" ry=\"2\" style=\"stroke: #A80036; stroke-width: 1.0;\"/></a><!--MD5=[2cfe899c895462254056921bfb67315f]\n",
       "link E13 to E11--><a href=\"psysml:ed40ce07-1501-496b-adae-3639fe39f1e8\" target=\"_top\" title=\"psysml:ed40ce07-1501-496b-adae-3639fe39f1e8\" xlink:actuate=\"onRequest\" xlink:href=\"psysml:ed40ce07-1501-496b-adae-3639fe39f1e8\" xlink:show=\"new\" xlink:title=\"psysml:ed40ce07-1501-496b-adae-3639fe39f1e8\" xlink:type=\"simple\"><path d=\"M108.36,224.29 C123.87,244.28 147.14,274.45 167,301 C173.57,309.78 180.66,319.44 186.97,328.12 \" fill=\"none\" id=\"E13-&gt;E11\" style=\"stroke: #A80036; stroke-width: 1.0; stroke-dasharray: 7.0,7.0;\"/><polygon fill=\"#A80036\" points=\"189.99,332.28,187.9274,322.6496,187.0474,328.2376,181.4594,327.3576,189.99,332.28\" style=\"stroke: #A80036; stroke-width: 1.0;\"/><text fill=\"#000000\" font-family=\"sans-serif\" font-size=\"13\" lengthAdjust=\"spacingAndGlyphs\" textLength=\"57\" x=\"145\" y=\"267.0669\">«satisfy»</text></a><!--MD5=[4d96ad0968ec293d55c4a0a88aa45d0d]\n",
       "@startuml\r\n",
       "skinparam wrapWidth 300\r\n",
       "hide circle\r\n",
       "\r\n",
       "package \"RequirementTest\" as E1  [[psysml:32d2418d-b451-4172-b0c3-f203713ef4c8 ]]  {\r\n",
       "comp def \"C\" as E2  <<(T,blue)constraint def>> [[psysml:a1b28860-c9a8-4d37-931e-31ae0c14540e ]] {\r\n",
       "}\r\n",
       "comp usage \"c: C\" as E3  <<(T,blue)constraint>> [[psysml:4f6724e1-6261-429d-9c16-1831387bac9b ]] {\r\n",
       "}\r\n",
       "comp def \"R\" as E4  <<(T,blue)requirement def>> [[psysml:a2742730-9bdb-48ea-a333-70a51cef011c ]] {\r\n",
       "\r\n",
       "- -\r\n",
       "- - constraints - -\r\n",
       "<b>require</b> c\r\n",
       "<i>assume</i> c1: C\r\n",
       "}\r\n",
       "comp def \" [<b>1</b>] A\" as E5  <<(T,blue)requirement def>> [[psysml:56458fbc-ce11-45ea-8fa2-2092e0cfc05c ]] {\r\n",
       "Text\r\n",
       "- -\r\n",
       "}\r\n",
       "comp usage \"<s>noname</s>\" as E8  <<(T,blue)requirement>> [[psysml:72b41e7b-9298-4fd0-92ac-738cc777b35a ]] {\r\n",
       "}\r\n",
       "comp def \"R1\" as E9  <<(T,blue)requirement def>> [[psysml:ec52d3df-f8e8-4ac5-95c0-bf3447feb8a5 ]] {\r\n",
       "- - constraints - -\r\n",
       "<b>require</b> <&bar-trig> c1 <s>RequirementTest::c</s>\r\n",
       "}\r\n",
       "comp usage \"p\" as E11  <<(T,blue)part>> [[psysml:b85d82e7-3bb2-4c49-b03c-5a9b3c771643 ]] {\r\n",
       "}\r\n",
       "comp usage \"q\" as E12  <<(T,blue)part>> [[psysml:f6ed6b0e-7205-4bca-ba49-af9a51c8942a ]] {\r\n",
       "}\r\n",
       "comp usage \"r: R\" as E13  <<(T,blue)requirement>> [[psysml:dc92139c-b950-485f-92a5-3d6f837d8293 ]] {\r\n",
       "}\r\n",
       "E3 - -:|> E2 [[psysml:9201001b-4e3f-46f0-8224-89e70f802e39 ]] \r\n",
       "E4 +- - E5 [[psysml:56458fbc-ce11-45ea-8fa2-2092e0cfc05c ]] \r\n",
       "E4 *- - E8 [[psysml:72b41e7b-9298-4fd0-92ac-738cc777b35a ]] \r\n",
       "E12 *- - E13 [[psysml:dc92139c-b950-485f-92a5-3d6f837d8293 ]] \r\n",
       "E13 - -:|> E4 [[psysml:84833459-b0b4-497f-8a66-9d75104fb430 ]] \r\n",
       "E13 ..> E11 [[psysml:ed40ce07-1501-496b-adae-3639fe39f1e8 ]] : <<satisfy>>\r\n",
       "}\r\n",
       "@enduml\r\n",
       "\n",
       "PlantUML version 1.2020.13(Sat Jun 13 12:26:38 UTC 2020)\n",
       "(EPL source distribution)\n",
       "Java Runtime: OpenJDK Runtime Environment\n",
       "JVM: OpenJDK 64-Bit Server VM\n",
       "Default Encoding: UTF-8\n",
       "Language: en\n",
       "Country: null\n",
       "--></g></svg>"
      ]
     },
     "execution_count": 29,
     "metadata": {},
     "output_type": "execute_result"
    }
   ],
   "source": [
    "%viz --style=\"STDCOLOR\" --view=\"MIXED\" \"RequirementTest\""
   ]
  },
  {
   "cell_type": "code",
   "execution_count": 30,
   "id": "moved-leone",
   "metadata": {
    "execution": {
     "iopub.execute_input": "2021-03-26T13:01:09.200485Z",
     "iopub.status.busy": "2021-03-26T13:01:09.199683Z",
     "iopub.status.idle": "2021-03-26T13:01:09.310585Z",
     "shell.execute_reply": "2021-03-26T13:01:09.310256Z"
    }
   },
   "outputs": [
    {
     "data": {
      "image/svg+xml": [
       "<?xml version=\"1.0\" encoding=\"UTF-8\" standalone=\"no\"?><svg xmlns=\"http://www.w3.org/2000/svg\" xmlns:xlink=\"http://www.w3.org/1999/xlink\" contentScriptType=\"application/ecmascript\" contentStyleType=\"text/css\" height=\"578px\" preserveAspectRatio=\"none\" style=\"width:460px;height:578px;\" version=\"1.1\" viewBox=\"0 0 460 578\" width=\"460px\" zoomAndPan=\"magnify\"><defs><filter height=\"300%\" id=\"fssvuh9doakyd\" width=\"300%\" x=\"-1\" y=\"-1\"><feGaussianBlur result=\"blurOut\" stdDeviation=\"2.0\"/><feColorMatrix in=\"blurOut\" result=\"blurOut2\" type=\"matrix\" values=\"0 0 0 0 0 0 0 0 0 0 0 0 0 0 0 0 0 0 .4 0\"/><feOffset dx=\"4.0\" dy=\"4.0\" in=\"blurOut2\" result=\"blurOut3\"/><feBlend in=\"SourceGraphic\" in2=\"blurOut3\" mode=\"normal\"/></filter></defs><g><!--MD5=[fbc87193dbaf4d95561dea2c320d4a47]\n",
       "cluster E1--><a href=\"psysml:32d2418d-b451-4172-b0c3-f203713ef4c8\" target=\"_top\" title=\"psysml:32d2418d-b451-4172-b0c3-f203713ef4c8\" xlink:actuate=\"onRequest\" xlink:href=\"psysml:32d2418d-b451-4172-b0c3-f203713ef4c8\" xlink:show=\"new\" xlink:title=\"psysml:32d2418d-b451-4172-b0c3-f203713ef4c8\" xlink:type=\"simple\"><polygon fill=\"#FFFFFF\" filter=\"url(#fssvuh9doakyd)\" points=\"16,6,158,6,165,28.2969,438,28.2969,438,566,16,566,16,6\" style=\"stroke: #000000; stroke-width: 1.5;\"/><line style=\"stroke: #000000; stroke-width: 1.5;\" x1=\"16\" x2=\"165\" y1=\"28.2969\" y2=\"28.2969\"/><text fill=\"#000000\" font-family=\"sans-serif\" font-size=\"14\" font-weight=\"bold\" lengthAdjust=\"spacingAndGlyphs\" textLength=\"136\" x=\"20\" y=\"20.9951\">RequirementTest</text></a><!--MD5=[b4997ac47864f28c2f74865a473b2911]\n",
       "class E2--><a href=\"psysml:a1b28860-c9a8-4d37-931e-31ae0c14540e\" target=\"_top\" title=\"psysml:a1b28860-c9a8-4d37-931e-31ae0c14540e\" xlink:actuate=\"onRequest\" xlink:href=\"psysml:a1b28860-c9a8-4d37-931e-31ae0c14540e\" xlink:show=\"new\" xlink:title=\"psysml:a1b28860-c9a8-4d37-931e-31ae0c14540e\" xlink:type=\"simple\"><rect fill=\"#FEFECE\" filter=\"url(#fssvuh9doakyd)\" height=\"45.9375\" id=\"E2\" style=\"stroke: #A80036; stroke-width: 1.5;\" width=\"130\" x=\"292\" y=\"190\"/><ellipse cx=\"307\" cy=\"208.9688\" fill=\"#A52A2A\" rx=\"11\" ry=\"11\" style=\"stroke: #A80036; stroke-width: 1.0;\"/><path d=\"M306.5938,204.7813 L306.5938,212.7656 L307.25,212.7656 Q308.6875,212.7656 309.2969,211.8594 Q309.9219,210.9375 309.9219,208.7656 Q309.9219,206.5938 309.2969,205.6875 Q308.6875,204.7813 307.25,204.7813 L306.5938,204.7813 Z M304.1406,202.5781 L306.7656,202.5781 Q309.7969,202.5781 311.125,204.0313 Q312.4688,205.4688 312.4688,208.7656 Q312.4688,212.0625 311.125,213.5156 Q309.7969,214.9688 306.7656,214.9688 L304.1406,214.9688 L304.1406,202.5781 Z \"/><text fill=\"#000000\" font-family=\"sans-serif\" font-size=\"12\" font-style=\"italic\" lengthAdjust=\"spacingAndGlyphs\" textLength=\"102\" x=\"319\" y=\"206.1387\">«constraint def»</text><text fill=\"#000000\" font-family=\"sans-serif\" font-size=\"12\" lengthAdjust=\"spacingAndGlyphs\" textLength=\"8\" x=\"366\" y=\"220.1074\">C</text><line style=\"stroke: #A80036; stroke-width: 1.5;\" x1=\"293\" x2=\"421\" y1=\"227.9375\" y2=\"227.9375\"/></a><!--MD5=[09b614a08d8cba4a07c9adeb5e0fee81]\n",
       "class E3--><a href=\"psysml:4f6724e1-6261-429d-9c16-1831387bac9b\" target=\"_top\" title=\"psysml:4f6724e1-6261-429d-9c16-1831387bac9b\" xlink:actuate=\"onRequest\" xlink:href=\"psysml:4f6724e1-6261-429d-9c16-1831387bac9b\" xlink:show=\"new\" xlink:title=\"psysml:4f6724e1-6261-429d-9c16-1831387bac9b\" xlink:type=\"simple\"><rect fill=\"#FEFECE\" filter=\"url(#fssvuh9doakyd)\" height=\"45.9375\" id=\"E3\" rx=\"10\" ry=\"10\" style=\"stroke: #A80036; stroke-width: 1.5;\" width=\"106\" x=\"316\" y=\"62\"/><ellipse cx=\"331\" cy=\"80.9688\" fill=\"#FFA500\" rx=\"11\" ry=\"11\" style=\"stroke: #A80036; stroke-width: 1.0;\"/><path d=\"M326.875,82.8906 L326.875,75.0781 L329.3281,75.0781 L329.3281,83.5156 Q329.3281,84.4375 329.7969,84.9688 Q330.2813,85.5 331.1094,85.5 Q331.9531,85.5 332.4219,84.9688 Q332.8906,84.4375 332.8906,83.5156 L332.8906,75.0781 L335.3438,75.0781 L335.3438,82.8906 Q335.3438,85.4219 334.3438,86.5625 Q333.3438,87.7031 331.1094,87.7031 Q328.8906,87.7031 327.875,86.5625 Q326.875,85.4219 326.875,82.8906 Z \"/><text fill=\"#000000\" font-family=\"sans-serif\" font-size=\"12\" font-style=\"italic\" lengthAdjust=\"spacingAndGlyphs\" textLength=\"78\" x=\"343\" y=\"78.1387\">«constraint»</text><text fill=\"#000000\" font-family=\"sans-serif\" font-size=\"12\" lengthAdjust=\"spacingAndGlyphs\" textLength=\"23\" x=\"370.5\" y=\"92.1074\">c: C</text><line style=\"stroke: #A80036; stroke-width: 1.5;\" x1=\"317\" x2=\"421\" y1=\"99.9375\" y2=\"99.9375\"/></a><!--MD5=[ebbe1d658d1005bcc118a6aa81145e00]\n",
       "class E4--><a href=\"psysml:a2742730-9bdb-48ea-a333-70a51cef011c\" target=\"_top\" title=\"psysml:a2742730-9bdb-48ea-a333-70a51cef011c\" xlink:actuate=\"onRequest\" xlink:href=\"psysml:a2742730-9bdb-48ea-a333-70a51cef011c\" xlink:show=\"new\" xlink:title=\"psysml:a2742730-9bdb-48ea-a333-70a51cef011c\" xlink:type=\"simple\"><rect fill=\"#FEFECE\" filter=\"url(#fssvuh9doakyd)\" height=\"109.1563\" id=\"E4\" style=\"stroke: #A80036; stroke-width: 1.5;\" width=\"143\" x=\"32.5\" y=\"313\"/><ellipse cx=\"47.5\" cy=\"331.9688\" fill=\"#A52A2A\" rx=\"11\" ry=\"11\" style=\"stroke: #A80036; stroke-width: 1.0;\"/><path d=\"M47.0938,327.7813 L47.0938,335.7656 L47.75,335.7656 Q49.1875,335.7656 49.7969,334.8594 Q50.4219,333.9375 50.4219,331.7656 Q50.4219,329.5938 49.7969,328.6875 Q49.1875,327.7813 47.75,327.7813 L47.0938,327.7813 Z M44.6406,325.5781 L47.2656,325.5781 Q50.2969,325.5781 51.625,327.0313 Q52.9688,328.4688 52.9688,331.7656 Q52.9688,335.0625 51.625,336.5156 Q50.2969,337.9688 47.2656,337.9688 L44.6406,337.9688 L44.6406,325.5781 Z \"/><text fill=\"#000000\" font-family=\"sans-serif\" font-size=\"12\" font-style=\"italic\" lengthAdjust=\"spacingAndGlyphs\" textLength=\"115\" x=\"59.5\" y=\"329.1387\">«requirement def»</text><text fill=\"#000000\" font-family=\"sans-serif\" font-size=\"12\" lengthAdjust=\"spacingAndGlyphs\" textLength=\"8\" x=\"113\" y=\"343.1074\">R</text><line style=\"stroke: #A80036; stroke-width: 1.5;\" x1=\"33.5\" x2=\"174.5\" y1=\"350.9375\" y2=\"350.9375\"/><text fill=\"#000000\" font-family=\"sans-serif\" font-size=\"11\" lengthAdjust=\"spacingAndGlyphs\" textLength=\"0\" x=\"42.5\" y=\"365.1479\"/><line style=\"stroke: #A80036; stroke-width: 1.0;\" x1=\"33.5\" x2=\"174.5\" y1=\"371.7422\" y2=\"371.7422\"/><text fill=\"#000000\" font-family=\"sans-serif\" font-size=\"11\" font-weight=\"bold\" lengthAdjust=\"spacingAndGlyphs\" textLength=\"46\" x=\"38.5\" y=\"402.7573\">require</text><text fill=\"#000000\" font-family=\"sans-serif\" font-size=\"11\" lengthAdjust=\"spacingAndGlyphs\" textLength=\"6\" x=\"88.5\" y=\"402.7573\">c</text><text fill=\"#000000\" font-family=\"sans-serif\" font-size=\"11\" font-style=\"italic\" lengthAdjust=\"spacingAndGlyphs\" textLength=\"46\" x=\"38.5\" y=\"415.562\">assume</text><text fill=\"#000000\" font-family=\"sans-serif\" font-size=\"11\" lengthAdjust=\"spacingAndGlyphs\" textLength=\"29\" x=\"88.5\" y=\"415.562\">c1: C</text><line style=\"stroke: #A80036; stroke-width: 1.0;\" x1=\"33.5\" x2=\"72\" y1=\"386.1445\" y2=\"386.1445\"/><text fill=\"#000000\" font-family=\"sans-serif\" font-size=\"11\" lengthAdjust=\"spacingAndGlyphs\" textLength=\"64\" x=\"72\" y=\"389.4526\">constraints</text><line style=\"stroke: #A80036; stroke-width: 1.0;\" x1=\"136\" x2=\"174.5\" y1=\"386.1445\" y2=\"386.1445\"/></a><!--MD5=[270fce915f116d4de14055a7c1d9a0f3]\n",
       "class E5--><a href=\"psysml:56458fbc-ce11-45ea-8fa2-2092e0cfc05c\" target=\"_top\" title=\"psysml:56458fbc-ce11-45ea-8fa2-2092e0cfc05c\" xlink:actuate=\"onRequest\" xlink:href=\"psysml:56458fbc-ce11-45ea-8fa2-2092e0cfc05c\" xlink:show=\"new\" xlink:title=\"psysml:56458fbc-ce11-45ea-8fa2-2092e0cfc05c\" xlink:type=\"simple\"><rect fill=\"#FEFECE\" filter=\"url(#fssvuh9doakyd)\" height=\"66.7422\" id=\"E5\" style=\"stroke: #A80036; stroke-width: 1.5;\" width=\"143\" x=\"32.5\" y=\"483\"/><ellipse cx=\"47.5\" cy=\"501.9688\" fill=\"#A52A2A\" rx=\"11\" ry=\"11\" style=\"stroke: #A80036; stroke-width: 1.0;\"/><path d=\"M47.0938,497.7813 L47.0938,505.7656 L47.75,505.7656 Q49.1875,505.7656 49.7969,504.8594 Q50.4219,503.9375 50.4219,501.7656 Q50.4219,499.5938 49.7969,498.6875 Q49.1875,497.7813 47.75,497.7813 L47.0938,497.7813 Z M44.6406,495.5781 L47.2656,495.5781 Q50.2969,495.5781 51.625,497.0313 Q52.9688,498.4688 52.9688,501.7656 Q52.9688,505.0625 51.625,506.5156 Q50.2969,507.9688 47.2656,507.9688 L44.6406,507.9688 L44.6406,495.5781 Z \"/><text fill=\"#000000\" font-family=\"sans-serif\" font-size=\"12\" font-style=\"italic\" lengthAdjust=\"spacingAndGlyphs\" textLength=\"115\" x=\"59.5\" y=\"499.1387\">«requirement def»</text><text fill=\"#000000\" font-family=\"sans-serif\" font-size=\"12\" lengthAdjust=\"spacingAndGlyphs\" textLength=\"5\" x=\"104\" y=\"513.1074\">[</text><text fill=\"#000000\" font-family=\"sans-serif\" font-size=\"12\" font-weight=\"bold\" lengthAdjust=\"spacingAndGlyphs\" textLength=\"8\" x=\"109\" y=\"513.1074\">1</text><text fill=\"#000000\" font-family=\"sans-serif\" font-size=\"12\" lengthAdjust=\"spacingAndGlyphs\" textLength=\"17\" x=\"117\" y=\"513.1074\">] A</text><line style=\"stroke: #A80036; stroke-width: 1.5;\" x1=\"33.5\" x2=\"174.5\" y1=\"520.9375\" y2=\"520.9375\"/><text fill=\"#000000\" font-family=\"sans-serif\" font-size=\"11\" lengthAdjust=\"spacingAndGlyphs\" textLength=\"24\" x=\"38.5\" y=\"535.1479\">Text</text><line style=\"stroke: #A80036; stroke-width: 1.0;\" x1=\"33.5\" x2=\"174.5\" y1=\"541.7422\" y2=\"541.7422\"/></a><!--MD5=[b9389687b975829384b498ac4b7476b2]\n",
       "class E8--><a href=\"psysml:72b41e7b-9298-4fd0-92ac-738cc777b35a\" target=\"_top\" title=\"psysml:72b41e7b-9298-4fd0-92ac-738cc777b35a\" xlink:actuate=\"onRequest\" xlink:href=\"psysml:72b41e7b-9298-4fd0-92ac-738cc777b35a\" xlink:show=\"new\" xlink:title=\"psysml:72b41e7b-9298-4fd0-92ac-738cc777b35a\" xlink:type=\"simple\"><rect fill=\"#FEFECE\" filter=\"url(#fssvuh9doakyd)\" height=\"45.9375\" id=\"E8\" rx=\"10\" ry=\"10\" style=\"stroke: #A80036; stroke-width: 1.5;\" width=\"119\" x=\"210.5\" y=\"493.5\"/><ellipse cx=\"225.5\" cy=\"512.4688\" fill=\"#FFA500\" rx=\"11\" ry=\"11\" style=\"stroke: #A80036; stroke-width: 1.0;\"/><path d=\"M221.375,514.3906 L221.375,506.5781 L223.8281,506.5781 L223.8281,515.0156 Q223.8281,515.9375 224.2969,516.4688 Q224.7813,517 225.6094,517 Q226.4531,517 226.9219,516.4688 Q227.3906,515.9375 227.3906,515.0156 L227.3906,506.5781 L229.8438,506.5781 L229.8438,514.3906 Q229.8438,516.9219 228.8438,518.0625 Q227.8438,519.2031 225.6094,519.2031 Q223.3906,519.2031 222.375,518.0625 Q221.375,516.9219 221.375,514.3906 Z \"/><text fill=\"#000000\" font-family=\"sans-serif\" font-size=\"12\" font-style=\"italic\" lengthAdjust=\"spacingAndGlyphs\" textLength=\"91\" x=\"237.5\" y=\"509.6387\">«requirement»</text><text fill=\"#000000\" font-family=\"sans-serif\" font-size=\"12\" lengthAdjust=\"spacingAndGlyphs\" text-decoration=\"line-through\" textLength=\"51\" x=\"257.5\" y=\"523.6074\">noname</text><line style=\"stroke: #A80036; stroke-width: 1.5;\" x1=\"211.5\" x2=\"328.5\" y1=\"531.4375\" y2=\"531.4375\"/></a><!--MD5=[fd4143e9d270a159db93a4ea2a975926]\n",
       "class E9--><a href=\"psysml:ec52d3df-f8e8-4ac5-95c0-bf3447feb8a5\" target=\"_top\" title=\"psysml:ec52d3df-f8e8-4ac5-95c0-bf3447feb8a5\" xlink:actuate=\"onRequest\" xlink:href=\"psysml:ec52d3df-f8e8-4ac5-95c0-bf3447feb8a5\" xlink:show=\"new\" xlink:title=\"psysml:ec52d3df-f8e8-4ac5-95c0-bf3447feb8a5\" xlink:type=\"simple\"><rect fill=\"#FEFECE\" filter=\"url(#fssvuh9doakyd)\" height=\"88.3516\" id=\"E9\" style=\"stroke: #A80036; stroke-width: 1.5;\" width=\"145\" x=\"135.5\" y=\"41\"/><ellipse cx=\"151.4\" cy=\"59.9688\" fill=\"#A52A2A\" rx=\"11\" ry=\"11\" style=\"stroke: #A80036; stroke-width: 1.0;\"/><path d=\"M150.9938,55.7813 L150.9938,63.7656 L151.65,63.7656 Q153.0875,63.7656 153.6969,62.8594 Q154.3219,61.9375 154.3219,59.7656 Q154.3219,57.5938 153.6969,56.6875 Q153.0875,55.7813 151.65,55.7813 L150.9938,55.7813 Z M148.5406,53.5781 L151.1656,53.5781 Q154.1969,53.5781 155.525,55.0313 Q156.8688,56.4688 156.8688,59.7656 Q156.8688,63.0625 155.525,64.5156 Q154.1969,65.9688 151.1656,65.9688 L148.5406,65.9688 L148.5406,53.5781 Z \"/><text fill=\"#000000\" font-family=\"sans-serif\" font-size=\"12\" font-style=\"italic\" lengthAdjust=\"spacingAndGlyphs\" textLength=\"115\" x=\"163.6\" y=\"57.1387\">«requirement def»</text><text fill=\"#000000\" font-family=\"sans-serif\" font-size=\"12\" lengthAdjust=\"spacingAndGlyphs\" textLength=\"16\" x=\"213.1\" y=\"71.1074\">R1</text><line style=\"stroke: #A80036; stroke-width: 1.5;\" x1=\"136.5\" x2=\"279.5\" y1=\"78.9375\" y2=\"78.9375\"/><text fill=\"#000000\" font-family=\"sans-serif\" font-size=\"11\" font-weight=\"bold\" lengthAdjust=\"spacingAndGlyphs\" textLength=\"46\" x=\"141.5\" y=\"109.9526\">require</text><text fill=\"#000000\" font-family=\"sans-serif\" font-size=\"11\" lengthAdjust=\"spacingAndGlyphs\" textLength=\"13\" x=\"191.5\" y=\"109.9526\">c1</text><text fill=\"#000000\" font-family=\"sans-serif\" font-size=\"11\" font-style=\"italic\" lengthAdjust=\"spacingAndGlyphs\" textLength=\"133\" x=\"141.5\" y=\"122.7573\">:&gt;&gt;RequirementTest::c</text><line style=\"stroke: #A80036; stroke-width: 1.0;\" x1=\"136.5\" x2=\"176\" y1=\"93.3398\" y2=\"93.3398\"/><text fill=\"#000000\" font-family=\"sans-serif\" font-size=\"11\" lengthAdjust=\"spacingAndGlyphs\" textLength=\"64\" x=\"176\" y=\"96.6479\">constraints</text><line style=\"stroke: #A80036; stroke-width: 1.0;\" x1=\"240\" x2=\"279.5\" y1=\"93.3398\" y2=\"93.3398\"/></a><!--MD5=[1dd1bfd58a279cf63c5f349dbc8fc6a1]\n",
       "class E11--><a href=\"psysml:b85d82e7-3bb2-4c49-b03c-5a9b3c771643\" target=\"_top\" title=\"psysml:b85d82e7-3bb2-4c49-b03c-5a9b3c771643\" xlink:actuate=\"onRequest\" xlink:href=\"psysml:b85d82e7-3bb2-4c49-b03c-5a9b3c771643\" xlink:show=\"new\" xlink:title=\"psysml:b85d82e7-3bb2-4c49-b03c-5a9b3c771643\" xlink:type=\"simple\"><rect fill=\"#FEFECE\" filter=\"url(#fssvuh9doakyd)\" height=\"45.9375\" id=\"E11\" rx=\"10\" ry=\"10\" style=\"stroke: #A80036; stroke-width: 1.5;\" width=\"68\" x=\"211\" y=\"344.5\"/><ellipse cx=\"226\" cy=\"363.4688\" fill=\"#32CD32\" rx=\"11\" ry=\"11\" style=\"stroke: #A80036; stroke-width: 1.0;\"/><path d=\"M225.7969,359.1406 L225.7969,362.7656 L226.7969,362.7656 Q228,362.7656 228.4844,362.3594 Q228.9688,361.9531 228.9688,360.9531 Q228.9688,359.9531 228.4844,359.5469 Q228,359.1406 226.7969,359.1406 L225.7969,359.1406 Z M223.3438,357.0781 L226.7031,357.0781 Q229.2656,357.0781 230.3906,358 Q231.5156,358.9063 231.5156,360.9531 Q231.5156,363 230.3906,363.9219 Q229.2656,364.8281 226.7031,364.8281 L225.7969,364.8281 L225.7969,369.4688 L223.3438,369.4688 L223.3438,357.0781 Z \"/><text fill=\"#000000\" font-family=\"sans-serif\" font-size=\"12\" font-style=\"italic\" lengthAdjust=\"spacingAndGlyphs\" textLength=\"40\" x=\"238\" y=\"360.6387\">«part»</text><text fill=\"#000000\" font-family=\"sans-serif\" font-size=\"12\" lengthAdjust=\"spacingAndGlyphs\" textLength=\"8\" x=\"254\" y=\"374.6074\">p</text><line style=\"stroke: #A80036; stroke-width: 1.5;\" x1=\"212\" x2=\"278\" y1=\"382.4375\" y2=\"382.4375\"/></a><!--MD5=[49a0ec8f00dab7302a31f22d0f0fe584]\n",
       "class E12--><a href=\"psysml:f6ed6b0e-7205-4bca-ba49-af9a51c8942a\" target=\"_top\" title=\"psysml:f6ed6b0e-7205-4bca-ba49-af9a51c8942a\" xlink:actuate=\"onRequest\" xlink:href=\"psysml:f6ed6b0e-7205-4bca-ba49-af9a51c8942a\" xlink:show=\"new\" xlink:title=\"psysml:f6ed6b0e-7205-4bca-ba49-af9a51c8942a\" xlink:type=\"simple\"><rect fill=\"#FEFECE\" filter=\"url(#fssvuh9doakyd)\" height=\"45.9375\" id=\"E12\" rx=\"10\" ry=\"10\" style=\"stroke: #A80036; stroke-width: 1.5;\" width=\"68\" x=\"32\" y=\"62\"/><ellipse cx=\"47\" cy=\"80.9688\" fill=\"#32CD32\" rx=\"11\" ry=\"11\" style=\"stroke: #A80036; stroke-width: 1.0;\"/><path d=\"M46.7969,76.6406 L46.7969,80.2656 L47.7969,80.2656 Q49,80.2656 49.4844,79.8594 Q49.9688,79.4531 49.9688,78.4531 Q49.9688,77.4531 49.4844,77.0469 Q49,76.6406 47.7969,76.6406 L46.7969,76.6406 Z M44.3438,74.5781 L47.7031,74.5781 Q50.2656,74.5781 51.3906,75.5 Q52.5156,76.4063 52.5156,78.4531 Q52.5156,80.5 51.3906,81.4219 Q50.2656,82.3281 47.7031,82.3281 L46.7969,82.3281 L46.7969,86.9688 L44.3438,86.9688 L44.3438,74.5781 Z \"/><text fill=\"#000000\" font-family=\"sans-serif\" font-size=\"12\" font-style=\"italic\" lengthAdjust=\"spacingAndGlyphs\" textLength=\"40\" x=\"59\" y=\"78.1387\">«part»</text><text fill=\"#000000\" font-family=\"sans-serif\" font-size=\"12\" lengthAdjust=\"spacingAndGlyphs\" textLength=\"8\" x=\"75\" y=\"92.1074\">q</text><line style=\"stroke: #A80036; stroke-width: 1.5;\" x1=\"33\" x2=\"99\" y1=\"99.9375\" y2=\"99.9375\"/></a><!--MD5=[ee3c913d1a06f366521f9ef512b67efe]\n",
       "class E13--><a href=\"psysml:dc92139c-b950-485f-92a5-3d6f837d8293\" target=\"_top\" title=\"psysml:dc92139c-b950-485f-92a5-3d6f837d8293\" xlink:actuate=\"onRequest\" xlink:href=\"psysml:dc92139c-b950-485f-92a5-3d6f837d8293\" xlink:show=\"new\" xlink:title=\"psysml:dc92139c-b950-485f-92a5-3d6f837d8293\" xlink:type=\"simple\"><rect fill=\"#FEFECE\" filter=\"url(#fssvuh9doakyd)\" height=\"45.9375\" id=\"E13\" rx=\"10\" ry=\"10\" style=\"stroke: #A80036; stroke-width: 1.5;\" width=\"119\" x=\"44.5\" y=\"190\"/><ellipse cx=\"59.5\" cy=\"208.9688\" fill=\"#FFA500\" rx=\"11\" ry=\"11\" style=\"stroke: #A80036; stroke-width: 1.0;\"/><path d=\"M55.375,210.8906 L55.375,203.0781 L57.8281,203.0781 L57.8281,211.5156 Q57.8281,212.4375 58.2969,212.9688 Q58.7813,213.5 59.6094,213.5 Q60.4531,213.5 60.9219,212.9688 Q61.3906,212.4375 61.3906,211.5156 L61.3906,203.0781 L63.8438,203.0781 L63.8438,210.8906 Q63.8438,213.4219 62.8438,214.5625 Q61.8438,215.7031 59.6094,215.7031 Q57.3906,215.7031 56.375,214.5625 Q55.375,213.4219 55.375,210.8906 Z \"/><text fill=\"#000000\" font-family=\"sans-serif\" font-size=\"12\" font-style=\"italic\" lengthAdjust=\"spacingAndGlyphs\" textLength=\"91\" x=\"71.5\" y=\"206.1387\">«requirement»</text><text fill=\"#000000\" font-family=\"sans-serif\" font-size=\"12\" lengthAdjust=\"spacingAndGlyphs\" textLength=\"21\" x=\"106.5\" y=\"220.1074\">r: R</text><line style=\"stroke: #A80036; stroke-width: 1.5;\" x1=\"45.5\" x2=\"162.5\" y1=\"227.9375\" y2=\"227.9375\"/></a><!--MD5=[05d275557350bfb9b23a4ef7222b4c39]\n",
       "link E3 to E2--><a href=\"psysml:9201001b-4e3f-46f0-8224-89e70f802e39\" target=\"_top\" title=\"psysml:9201001b-4e3f-46f0-8224-89e70f802e39\" xlink:actuate=\"onRequest\" xlink:href=\"psysml:9201001b-4e3f-46f0-8224-89e70f802e39\" xlink:show=\"new\" xlink:title=\"psysml:9201001b-4e3f-46f0-8224-89e70f802e39\" xlink:type=\"simple\"><path d=\"M366.88,108.24 C365.26,125.24 362.98,149.19 361.02,169.79 \" fill=\"none\" id=\"E3-&gt;E2\" style=\"stroke: #A80036; stroke-width: 1.0;\"/><polygon fill=\"#FFFFFF\" points=\"359.1,189.99,353.9362,170.411,367.8729,171.7407,359.1,189.99\" style=\"stroke: #A80036; stroke-width: 1.0;\"/><ellipse cx=\"356.4685\" cy=\"164.9268\" fill=\"#A80036\" rx=\"2\" ry=\"2\" style=\"stroke: #A80036; stroke-width: 1.0;\"/><ellipse cx=\"366.4233\" cy=\"165.8765\" fill=\"#A80036\" rx=\"2\" ry=\"2\" style=\"stroke: #A80036; stroke-width: 1.0;\"/></a><!--MD5=[62aa6af11e70f752912c1cb0466f24f7]\n",
       "reverse link E4 to E5--><a href=\"psysml:56458fbc-ce11-45ea-8fa2-2092e0cfc05c\" target=\"_top\" title=\"psysml:56458fbc-ce11-45ea-8fa2-2092e0cfc05c\" xlink:actuate=\"onRequest\" xlink:href=\"psysml:56458fbc-ce11-45ea-8fa2-2092e0cfc05c\" xlink:show=\"new\" xlink:title=\"psysml:56458fbc-ce11-45ea-8fa2-2092e0cfc05c\" xlink:type=\"simple\"><path d=\"M104,437.45 C104,453.34 104,469.51 104,482.98 \" fill=\"none\" id=\"E4&lt;-E5\" style=\"stroke: #A80036; stroke-width: 1.0;\"/><ellipse cx=\"104\" cy=\"430.4\" fill=\"#FFFFFF\" rx=\"8\" ry=\"8\" style=\"stroke: #A80036; stroke-width: 1.0;\"/><line style=\"stroke: #A80036; stroke-width: 1.0;\" x1=\"104\" x2=\"104\" y1=\"438.4\" y2=\"422.4\"/><line style=\"stroke: #A80036; stroke-width: 1.0;\" x1=\"96\" x2=\"112\" y1=\"430.4\" y2=\"430.4\"/></a><!--MD5=[c6fc7cdb0cabde04948078cf183fa696]\n",
       "reverse link E4 to E8--><a href=\"psysml:72b41e7b-9298-4fd0-92ac-738cc777b35a\" target=\"_top\" title=\"psysml:72b41e7b-9298-4fd0-92ac-738cc777b35a\" xlink:actuate=\"onRequest\" xlink:href=\"psysml:72b41e7b-9298-4fd0-92ac-738cc777b35a\" xlink:show=\"new\" xlink:title=\"psysml:72b41e7b-9298-4fd0-92ac-738cc777b35a\" xlink:type=\"simple\"><path d=\"M174.75,431.16 C199.83,453.36 226.43,476.92 245.13,493.48 \" fill=\"none\" id=\"E4&lt;-E8\" style=\"stroke: #A80036; stroke-width: 1.0;\"/><polygon fill=\"#A80036\" points=\"164.87,422.4,166.7154,429.371,173.86,430.3486,172.0145,423.3776,164.87,422.4\" style=\"stroke: #A80036; stroke-width: 1.0;\"/></a><!--MD5=[062ed86c389d1a88f61c6380d0491e17]\n",
       "reverse link E12 to E13--><a href=\"psysml:dc92139c-b950-485f-92a5-3d6f837d8293\" target=\"_top\" title=\"psysml:dc92139c-b950-485f-92a5-3d6f837d8293\" xlink:actuate=\"onRequest\" xlink:href=\"psysml:dc92139c-b950-485f-92a5-3d6f837d8293\" xlink:show=\"new\" xlink:title=\"psysml:dc92139c-b950-485f-92a5-3d6f837d8293\" xlink:type=\"simple\"><path d=\"M76.49,120.8 C83.17,142.92 91.6,170.89 97.36,189.99 \" fill=\"none\" id=\"E12&lt;-E13\" style=\"stroke: #A80036; stroke-width: 1.0;\"/><polygon fill=\"#A80036\" points=\"72.71,108.24,70.6129,115.1394,76.1751,119.7288,78.2722,112.8294,72.71,108.24\" style=\"stroke: #A80036; stroke-width: 1.0;\"/></a><!--MD5=[017847e01ff9a8bd19f247411074f987]\n",
       "link E13 to E4--><a href=\"psysml:84833459-b0b4-497f-8a66-9d75104fb430\" target=\"_top\" title=\"psysml:84833459-b0b4-497f-8a66-9d75104fb430\" xlink:actuate=\"onRequest\" xlink:href=\"psysml:84833459-b0b4-497f-8a66-9d75104fb430\" xlink:show=\"new\" xlink:title=\"psysml:84833459-b0b4-497f-8a66-9d75104fb430\" xlink:type=\"simple\"><path d=\"M104,236.17 C104,251.17 104,271.91 104,292.44 \" fill=\"none\" id=\"E13-&gt;E4\" style=\"stroke: #A80036; stroke-width: 1.0;\"/><polygon fill=\"#FFFFFF\" points=\"104,312.68,97,293.68,111,293.68,104,312.68\" style=\"stroke: #A80036; stroke-width: 1.0;\"/><ellipse cx=\"99\" cy=\"287.98\" fill=\"#A80036\" rx=\"2\" ry=\"2\" style=\"stroke: #A80036; stroke-width: 1.0;\"/><ellipse cx=\"109\" cy=\"287.98\" fill=\"#A80036\" rx=\"2\" ry=\"2\" style=\"stroke: #A80036; stroke-width: 1.0;\"/></a><!--MD5=[2cfe899c895462254056921bfb67315f]\n",
       "link E13 to E11--><a href=\"psysml:ed40ce07-1501-496b-adae-3639fe39f1e8\" target=\"_top\" title=\"psysml:ed40ce07-1501-496b-adae-3639fe39f1e8\" xlink:actuate=\"onRequest\" xlink:href=\"psysml:ed40ce07-1501-496b-adae-3639fe39f1e8\" xlink:show=\"new\" xlink:title=\"psysml:ed40ce07-1501-496b-adae-3639fe39f1e8\" xlink:type=\"simple\"><path d=\"M124.5,236.17 C150.09,263.85 193.77,311.09 220.92,340.45 \" fill=\"none\" id=\"E13-&gt;E11\" style=\"stroke: #A80036; stroke-width: 1.0; stroke-dasharray: 7.0,7.0;\"/><polygon fill=\"#A80036\" points=\"224.47,344.3,221.2896,334.9788,221.0727,340.6315,215.42,340.4145,224.47,344.3\" style=\"stroke: #A80036; stroke-width: 1.0;\"/><text fill=\"#000000\" font-family=\"sans-serif\" font-size=\"13\" lengthAdjust=\"spacingAndGlyphs\" textLength=\"57\" x=\"167\" y=\"279.0669\">«satisfy»</text></a><!--MD5=[3649d7ace99d1b8c6c6714739cd31281]\n",
       "@startuml\r\n",
       " \r\n",
       "package \"RequirementTest\" as E1  [[psysml:32d2418d-b451-4172-b0c3-f203713ef4c8 ]]  {\r\n",
       "comp def \"C\" as E2  <<(D,brown)constraint def>> [[psysml:a1b28860-c9a8-4d37-931e-31ae0c14540e ]] {\r\n",
       "}\r\n",
       "comp usage \"c: C\" as E3  <<(U,orange)constraint>> [[psysml:4f6724e1-6261-429d-9c16-1831387bac9b ]] {\r\n",
       "}\r\n",
       "comp def \"R\" as E4  <<(D,brown)requirement def>> [[psysml:a2742730-9bdb-48ea-a333-70a51cef011c ]] {\r\n",
       "\r\n",
       "- -\r\n",
       "- - constraints - -\r\n",
       "<b>require</b> c\r\n",
       "<i>assume</i> c1: C\r\n",
       "}\r\n",
       "comp def \" [<b>1</b>] A\" as E5  <<(D,brown)requirement def>> [[psysml:56458fbc-ce11-45ea-8fa2-2092e0cfc05c ]] {\r\n",
       "Text\r\n",
       "- -\r\n",
       "}\r\n",
       "comp usage \"<s>noname</s>\" as E8  <<(U,orange)requirement>> [[psysml:72b41e7b-9298-4fd0-92ac-738cc777b35a ]] {\r\n",
       "}\r\n",
       "comp def \"R1\" as E9  <<(D,brown)requirement def>> [[psysml:ec52d3df-f8e8-4ac5-95c0-bf3447feb8a5 ]] {\r\n",
       "- - constraints - -\r\n",
       "<b>require</b> c1\\n//:>>RequirementTest::c// \r\n",
       "}\r\n",
       "comp usage \"p\" as E11  << (P,limegreen) part>> [[psysml:b85d82e7-3bb2-4c49-b03c-5a9b3c771643 ]] {\r\n",
       "}\r\n",
       "comp usage \"q\" as E12  << (P,limegreen) part>> [[psysml:f6ed6b0e-7205-4bca-ba49-af9a51c8942a ]] {\r\n",
       "}\r\n",
       "comp usage \"r: R\" as E13  <<(U,orange)requirement>> [[psysml:dc92139c-b950-485f-92a5-3d6f837d8293 ]] {\r\n",
       "}\r\n",
       "E3 - -:|> E2 [[psysml:9201001b-4e3f-46f0-8224-89e70f802e39 ]] \r\n",
       "E4 +- - E5 [[psysml:56458fbc-ce11-45ea-8fa2-2092e0cfc05c ]] \r\n",
       "E4 *- - E8 [[psysml:72b41e7b-9298-4fd0-92ac-738cc777b35a ]] \r\n",
       "E12 *- - E13 [[psysml:dc92139c-b950-485f-92a5-3d6f837d8293 ]] \r\n",
       "E13 - -:|> E4 [[psysml:84833459-b0b4-497f-8a66-9d75104fb430 ]] \r\n",
       "E13 ..> E11 [[psysml:ed40ce07-1501-496b-adae-3639fe39f1e8 ]] : <<satisfy>>\r\n",
       "}\r\n",
       "@enduml\r\n",
       "\n",
       "PlantUML version 1.2020.13(Sat Jun 13 12:26:38 UTC 2020)\n",
       "(EPL source distribution)\n",
       "Java Runtime: OpenJDK Runtime Environment\n",
       "JVM: OpenJDK 64-Bit Server VM\n",
       "Default Encoding: UTF-8\n",
       "Language: en\n",
       "Country: null\n",
       "--></g></svg>"
      ]
     },
     "execution_count": 30,
     "metadata": {},
     "output_type": "execute_result"
    }
   ],
   "source": [
    "%viz --style=\"PLANTUML\" --view=\"Default\" \"RequirementTest\""
   ]
  },
  {
   "cell_type": "code",
   "execution_count": 31,
   "id": "several-aging",
   "metadata": {
    "execution": {
     "iopub.execute_input": "2021-03-26T13:01:09.360618Z",
     "iopub.status.busy": "2021-03-26T13:01:09.360222Z",
     "iopub.status.idle": "2021-03-26T13:01:09.446539Z",
     "shell.execute_reply": "2021-03-26T13:01:09.446195Z"
    }
   },
   "outputs": [
    {
     "data": {
      "image/svg+xml": [
       "<?xml version=\"1.0\" encoding=\"UTF-8\" standalone=\"no\"?><svg xmlns=\"http://www.w3.org/2000/svg\" xmlns:xlink=\"http://www.w3.org/1999/xlink\" contentScriptType=\"application/ecmascript\" contentStyleType=\"text/css\" height=\"578px\" preserveAspectRatio=\"none\" style=\"width:460px;height:578px;\" version=\"1.1\" viewBox=\"0 0 460 578\" width=\"460px\" zoomAndPan=\"magnify\"><defs><filter height=\"300%\" id=\"fssvuh9doakyd\" width=\"300%\" x=\"-1\" y=\"-1\"><feGaussianBlur result=\"blurOut\" stdDeviation=\"2.0\"/><feColorMatrix in=\"blurOut\" result=\"blurOut2\" type=\"matrix\" values=\"0 0 0 0 0 0 0 0 0 0 0 0 0 0 0 0 0 0 .4 0\"/><feOffset dx=\"4.0\" dy=\"4.0\" in=\"blurOut2\" result=\"blurOut3\"/><feBlend in=\"SourceGraphic\" in2=\"blurOut3\" mode=\"normal\"/></filter></defs><g><!--MD5=[fbc87193dbaf4d95561dea2c320d4a47]\n",
       "cluster E1--><a href=\"psysml:32d2418d-b451-4172-b0c3-f203713ef4c8\" target=\"_top\" title=\"psysml:32d2418d-b451-4172-b0c3-f203713ef4c8\" xlink:actuate=\"onRequest\" xlink:href=\"psysml:32d2418d-b451-4172-b0c3-f203713ef4c8\" xlink:show=\"new\" xlink:title=\"psysml:32d2418d-b451-4172-b0c3-f203713ef4c8\" xlink:type=\"simple\"><polygon fill=\"#FFFFFF\" filter=\"url(#fssvuh9doakyd)\" points=\"16,6,158,6,165,28.2969,438,28.2969,438,566,16,566,16,6\" style=\"stroke: #000000; stroke-width: 1.5;\"/><line style=\"stroke: #000000; stroke-width: 1.5;\" x1=\"16\" x2=\"165\" y1=\"28.2969\" y2=\"28.2969\"/><text fill=\"#000000\" font-family=\"sans-serif\" font-size=\"14\" font-weight=\"bold\" lengthAdjust=\"spacingAndGlyphs\" textLength=\"136\" x=\"20\" y=\"20.9951\">RequirementTest</text></a><!--MD5=[b4997ac47864f28c2f74865a473b2911]\n",
       "class E2--><a href=\"psysml:a1b28860-c9a8-4d37-931e-31ae0c14540e\" target=\"_top\" title=\"psysml:a1b28860-c9a8-4d37-931e-31ae0c14540e\" xlink:actuate=\"onRequest\" xlink:href=\"psysml:a1b28860-c9a8-4d37-931e-31ae0c14540e\" xlink:show=\"new\" xlink:title=\"psysml:a1b28860-c9a8-4d37-931e-31ae0c14540e\" xlink:type=\"simple\"><rect fill=\"#FEFECE\" filter=\"url(#fssvuh9doakyd)\" height=\"45.9375\" id=\"E2\" style=\"stroke: #A80036; stroke-width: 1.5;\" width=\"130\" x=\"292\" y=\"190\"/><ellipse cx=\"307\" cy=\"208.9688\" fill=\"#A52A2A\" rx=\"11\" ry=\"11\" style=\"stroke: #A80036; stroke-width: 1.0;\"/><path d=\"M306.5938,204.7813 L306.5938,212.7656 L307.25,212.7656 Q308.6875,212.7656 309.2969,211.8594 Q309.9219,210.9375 309.9219,208.7656 Q309.9219,206.5938 309.2969,205.6875 Q308.6875,204.7813 307.25,204.7813 L306.5938,204.7813 Z M304.1406,202.5781 L306.7656,202.5781 Q309.7969,202.5781 311.125,204.0313 Q312.4688,205.4688 312.4688,208.7656 Q312.4688,212.0625 311.125,213.5156 Q309.7969,214.9688 306.7656,214.9688 L304.1406,214.9688 L304.1406,202.5781 Z \"/><text fill=\"#000000\" font-family=\"sans-serif\" font-size=\"12\" font-style=\"italic\" lengthAdjust=\"spacingAndGlyphs\" textLength=\"102\" x=\"319\" y=\"206.1387\">«constraint def»</text><text fill=\"#000000\" font-family=\"sans-serif\" font-size=\"12\" lengthAdjust=\"spacingAndGlyphs\" textLength=\"8\" x=\"366\" y=\"220.1074\">C</text><line style=\"stroke: #A80036; stroke-width: 1.5;\" x1=\"293\" x2=\"421\" y1=\"227.9375\" y2=\"227.9375\"/></a><!--MD5=[09b614a08d8cba4a07c9adeb5e0fee81]\n",
       "class E3--><a href=\"psysml:4f6724e1-6261-429d-9c16-1831387bac9b\" target=\"_top\" title=\"psysml:4f6724e1-6261-429d-9c16-1831387bac9b\" xlink:actuate=\"onRequest\" xlink:href=\"psysml:4f6724e1-6261-429d-9c16-1831387bac9b\" xlink:show=\"new\" xlink:title=\"psysml:4f6724e1-6261-429d-9c16-1831387bac9b\" xlink:type=\"simple\"><rect fill=\"#FEFECE\" filter=\"url(#fssvuh9doakyd)\" height=\"45.9375\" id=\"E3\" rx=\"10\" ry=\"10\" style=\"stroke: #A80036; stroke-width: 1.5;\" width=\"106\" x=\"316\" y=\"62\"/><ellipse cx=\"331\" cy=\"80.9688\" fill=\"#FFA500\" rx=\"11\" ry=\"11\" style=\"stroke: #A80036; stroke-width: 1.0;\"/><path d=\"M326.875,82.8906 L326.875,75.0781 L329.3281,75.0781 L329.3281,83.5156 Q329.3281,84.4375 329.7969,84.9688 Q330.2813,85.5 331.1094,85.5 Q331.9531,85.5 332.4219,84.9688 Q332.8906,84.4375 332.8906,83.5156 L332.8906,75.0781 L335.3438,75.0781 L335.3438,82.8906 Q335.3438,85.4219 334.3438,86.5625 Q333.3438,87.7031 331.1094,87.7031 Q328.8906,87.7031 327.875,86.5625 Q326.875,85.4219 326.875,82.8906 Z \"/><text fill=\"#000000\" font-family=\"sans-serif\" font-size=\"12\" font-style=\"italic\" lengthAdjust=\"spacingAndGlyphs\" textLength=\"78\" x=\"343\" y=\"78.1387\">«constraint»</text><text fill=\"#000000\" font-family=\"sans-serif\" font-size=\"12\" lengthAdjust=\"spacingAndGlyphs\" textLength=\"23\" x=\"370.5\" y=\"92.1074\">c: C</text><line style=\"stroke: #A80036; stroke-width: 1.5;\" x1=\"317\" x2=\"421\" y1=\"99.9375\" y2=\"99.9375\"/></a><!--MD5=[ebbe1d658d1005bcc118a6aa81145e00]\n",
       "class E4--><a href=\"psysml:a2742730-9bdb-48ea-a333-70a51cef011c\" target=\"_top\" title=\"psysml:a2742730-9bdb-48ea-a333-70a51cef011c\" xlink:actuate=\"onRequest\" xlink:href=\"psysml:a2742730-9bdb-48ea-a333-70a51cef011c\" xlink:show=\"new\" xlink:title=\"psysml:a2742730-9bdb-48ea-a333-70a51cef011c\" xlink:type=\"simple\"><rect fill=\"#FEFECE\" filter=\"url(#fssvuh9doakyd)\" height=\"109.1563\" id=\"E4\" style=\"stroke: #A80036; stroke-width: 1.5;\" width=\"143\" x=\"32.5\" y=\"313\"/><ellipse cx=\"47.5\" cy=\"331.9688\" fill=\"#A52A2A\" rx=\"11\" ry=\"11\" style=\"stroke: #A80036; stroke-width: 1.0;\"/><path d=\"M47.0938,327.7813 L47.0938,335.7656 L47.75,335.7656 Q49.1875,335.7656 49.7969,334.8594 Q50.4219,333.9375 50.4219,331.7656 Q50.4219,329.5938 49.7969,328.6875 Q49.1875,327.7813 47.75,327.7813 L47.0938,327.7813 Z M44.6406,325.5781 L47.2656,325.5781 Q50.2969,325.5781 51.625,327.0313 Q52.9688,328.4688 52.9688,331.7656 Q52.9688,335.0625 51.625,336.5156 Q50.2969,337.9688 47.2656,337.9688 L44.6406,337.9688 L44.6406,325.5781 Z \"/><text fill=\"#000000\" font-family=\"sans-serif\" font-size=\"12\" font-style=\"italic\" lengthAdjust=\"spacingAndGlyphs\" textLength=\"115\" x=\"59.5\" y=\"329.1387\">«requirement def»</text><text fill=\"#000000\" font-family=\"sans-serif\" font-size=\"12\" lengthAdjust=\"spacingAndGlyphs\" textLength=\"8\" x=\"113\" y=\"343.1074\">R</text><line style=\"stroke: #A80036; stroke-width: 1.5;\" x1=\"33.5\" x2=\"174.5\" y1=\"350.9375\" y2=\"350.9375\"/><text fill=\"#000000\" font-family=\"sans-serif\" font-size=\"11\" lengthAdjust=\"spacingAndGlyphs\" textLength=\"0\" x=\"42.5\" y=\"365.1479\"/><line style=\"stroke: #A80036; stroke-width: 1.0;\" x1=\"33.5\" x2=\"174.5\" y1=\"371.7422\" y2=\"371.7422\"/><text fill=\"#000000\" font-family=\"sans-serif\" font-size=\"11\" font-weight=\"bold\" lengthAdjust=\"spacingAndGlyphs\" textLength=\"46\" x=\"38.5\" y=\"402.7573\">require</text><text fill=\"#000000\" font-family=\"sans-serif\" font-size=\"11\" lengthAdjust=\"spacingAndGlyphs\" textLength=\"6\" x=\"88.5\" y=\"402.7573\">c</text><text fill=\"#000000\" font-family=\"sans-serif\" font-size=\"11\" font-style=\"italic\" lengthAdjust=\"spacingAndGlyphs\" textLength=\"46\" x=\"38.5\" y=\"415.562\">assume</text><text fill=\"#000000\" font-family=\"sans-serif\" font-size=\"11\" lengthAdjust=\"spacingAndGlyphs\" textLength=\"29\" x=\"88.5\" y=\"415.562\">c1: C</text><line style=\"stroke: #A80036; stroke-width: 1.0;\" x1=\"33.5\" x2=\"72\" y1=\"386.1445\" y2=\"386.1445\"/><text fill=\"#000000\" font-family=\"sans-serif\" font-size=\"11\" lengthAdjust=\"spacingAndGlyphs\" textLength=\"64\" x=\"72\" y=\"389.4526\">constraints</text><line style=\"stroke: #A80036; stroke-width: 1.0;\" x1=\"136\" x2=\"174.5\" y1=\"386.1445\" y2=\"386.1445\"/></a><!--MD5=[270fce915f116d4de14055a7c1d9a0f3]\n",
       "class E5--><a href=\"psysml:56458fbc-ce11-45ea-8fa2-2092e0cfc05c\" target=\"_top\" title=\"psysml:56458fbc-ce11-45ea-8fa2-2092e0cfc05c\" xlink:actuate=\"onRequest\" xlink:href=\"psysml:56458fbc-ce11-45ea-8fa2-2092e0cfc05c\" xlink:show=\"new\" xlink:title=\"psysml:56458fbc-ce11-45ea-8fa2-2092e0cfc05c\" xlink:type=\"simple\"><rect fill=\"#FEFECE\" filter=\"url(#fssvuh9doakyd)\" height=\"66.7422\" id=\"E5\" style=\"stroke: #A80036; stroke-width: 1.5;\" width=\"143\" x=\"32.5\" y=\"483\"/><ellipse cx=\"47.5\" cy=\"501.9688\" fill=\"#A52A2A\" rx=\"11\" ry=\"11\" style=\"stroke: #A80036; stroke-width: 1.0;\"/><path d=\"M47.0938,497.7813 L47.0938,505.7656 L47.75,505.7656 Q49.1875,505.7656 49.7969,504.8594 Q50.4219,503.9375 50.4219,501.7656 Q50.4219,499.5938 49.7969,498.6875 Q49.1875,497.7813 47.75,497.7813 L47.0938,497.7813 Z M44.6406,495.5781 L47.2656,495.5781 Q50.2969,495.5781 51.625,497.0313 Q52.9688,498.4688 52.9688,501.7656 Q52.9688,505.0625 51.625,506.5156 Q50.2969,507.9688 47.2656,507.9688 L44.6406,507.9688 L44.6406,495.5781 Z \"/><text fill=\"#000000\" font-family=\"sans-serif\" font-size=\"12\" font-style=\"italic\" lengthAdjust=\"spacingAndGlyphs\" textLength=\"115\" x=\"59.5\" y=\"499.1387\">«requirement def»</text><text fill=\"#000000\" font-family=\"sans-serif\" font-size=\"12\" lengthAdjust=\"spacingAndGlyphs\" textLength=\"5\" x=\"104\" y=\"513.1074\">[</text><text fill=\"#000000\" font-family=\"sans-serif\" font-size=\"12\" font-weight=\"bold\" lengthAdjust=\"spacingAndGlyphs\" textLength=\"8\" x=\"109\" y=\"513.1074\">1</text><text fill=\"#000000\" font-family=\"sans-serif\" font-size=\"12\" lengthAdjust=\"spacingAndGlyphs\" textLength=\"17\" x=\"117\" y=\"513.1074\">] A</text><line style=\"stroke: #A80036; stroke-width: 1.5;\" x1=\"33.5\" x2=\"174.5\" y1=\"520.9375\" y2=\"520.9375\"/><text fill=\"#000000\" font-family=\"sans-serif\" font-size=\"11\" lengthAdjust=\"spacingAndGlyphs\" textLength=\"24\" x=\"38.5\" y=\"535.1479\">Text</text><line style=\"stroke: #A80036; stroke-width: 1.0;\" x1=\"33.5\" x2=\"174.5\" y1=\"541.7422\" y2=\"541.7422\"/></a><!--MD5=[b9389687b975829384b498ac4b7476b2]\n",
       "class E8--><a href=\"psysml:72b41e7b-9298-4fd0-92ac-738cc777b35a\" target=\"_top\" title=\"psysml:72b41e7b-9298-4fd0-92ac-738cc777b35a\" xlink:actuate=\"onRequest\" xlink:href=\"psysml:72b41e7b-9298-4fd0-92ac-738cc777b35a\" xlink:show=\"new\" xlink:title=\"psysml:72b41e7b-9298-4fd0-92ac-738cc777b35a\" xlink:type=\"simple\"><rect fill=\"#FEFECE\" filter=\"url(#fssvuh9doakyd)\" height=\"45.9375\" id=\"E8\" rx=\"10\" ry=\"10\" style=\"stroke: #A80036; stroke-width: 1.5;\" width=\"119\" x=\"210.5\" y=\"493.5\"/><ellipse cx=\"225.5\" cy=\"512.4688\" fill=\"#FFA500\" rx=\"11\" ry=\"11\" style=\"stroke: #A80036; stroke-width: 1.0;\"/><path d=\"M221.375,514.3906 L221.375,506.5781 L223.8281,506.5781 L223.8281,515.0156 Q223.8281,515.9375 224.2969,516.4688 Q224.7813,517 225.6094,517 Q226.4531,517 226.9219,516.4688 Q227.3906,515.9375 227.3906,515.0156 L227.3906,506.5781 L229.8438,506.5781 L229.8438,514.3906 Q229.8438,516.9219 228.8438,518.0625 Q227.8438,519.2031 225.6094,519.2031 Q223.3906,519.2031 222.375,518.0625 Q221.375,516.9219 221.375,514.3906 Z \"/><text fill=\"#000000\" font-family=\"sans-serif\" font-size=\"12\" font-style=\"italic\" lengthAdjust=\"spacingAndGlyphs\" textLength=\"91\" x=\"237.5\" y=\"509.6387\">«requirement»</text><text fill=\"#000000\" font-family=\"sans-serif\" font-size=\"12\" lengthAdjust=\"spacingAndGlyphs\" text-decoration=\"line-through\" textLength=\"51\" x=\"257.5\" y=\"523.6074\">noname</text><line style=\"stroke: #A80036; stroke-width: 1.5;\" x1=\"211.5\" x2=\"328.5\" y1=\"531.4375\" y2=\"531.4375\"/></a><!--MD5=[fd4143e9d270a159db93a4ea2a975926]\n",
       "class E9--><a href=\"psysml:ec52d3df-f8e8-4ac5-95c0-bf3447feb8a5\" target=\"_top\" title=\"psysml:ec52d3df-f8e8-4ac5-95c0-bf3447feb8a5\" xlink:actuate=\"onRequest\" xlink:href=\"psysml:ec52d3df-f8e8-4ac5-95c0-bf3447feb8a5\" xlink:show=\"new\" xlink:title=\"psysml:ec52d3df-f8e8-4ac5-95c0-bf3447feb8a5\" xlink:type=\"simple\"><rect fill=\"#FEFECE\" filter=\"url(#fssvuh9doakyd)\" height=\"88.3516\" id=\"E9\" style=\"stroke: #A80036; stroke-width: 1.5;\" width=\"145\" x=\"135.5\" y=\"41\"/><ellipse cx=\"151.4\" cy=\"59.9688\" fill=\"#A52A2A\" rx=\"11\" ry=\"11\" style=\"stroke: #A80036; stroke-width: 1.0;\"/><path d=\"M150.9938,55.7813 L150.9938,63.7656 L151.65,63.7656 Q153.0875,63.7656 153.6969,62.8594 Q154.3219,61.9375 154.3219,59.7656 Q154.3219,57.5938 153.6969,56.6875 Q153.0875,55.7813 151.65,55.7813 L150.9938,55.7813 Z M148.5406,53.5781 L151.1656,53.5781 Q154.1969,53.5781 155.525,55.0313 Q156.8688,56.4688 156.8688,59.7656 Q156.8688,63.0625 155.525,64.5156 Q154.1969,65.9688 151.1656,65.9688 L148.5406,65.9688 L148.5406,53.5781 Z \"/><text fill=\"#000000\" font-family=\"sans-serif\" font-size=\"12\" font-style=\"italic\" lengthAdjust=\"spacingAndGlyphs\" textLength=\"115\" x=\"163.6\" y=\"57.1387\">«requirement def»</text><text fill=\"#000000\" font-family=\"sans-serif\" font-size=\"12\" lengthAdjust=\"spacingAndGlyphs\" textLength=\"16\" x=\"213.1\" y=\"71.1074\">R1</text><line style=\"stroke: #A80036; stroke-width: 1.5;\" x1=\"136.5\" x2=\"279.5\" y1=\"78.9375\" y2=\"78.9375\"/><text fill=\"#000000\" font-family=\"sans-serif\" font-size=\"11\" font-weight=\"bold\" lengthAdjust=\"spacingAndGlyphs\" textLength=\"46\" x=\"141.5\" y=\"109.9526\">require</text><text fill=\"#000000\" font-family=\"sans-serif\" font-size=\"11\" lengthAdjust=\"spacingAndGlyphs\" textLength=\"13\" x=\"191.5\" y=\"109.9526\">c1</text><text fill=\"#000000\" font-family=\"sans-serif\" font-size=\"11\" font-style=\"italic\" lengthAdjust=\"spacingAndGlyphs\" textLength=\"133\" x=\"141.5\" y=\"122.7573\">:&gt;&gt;RequirementTest::c</text><line style=\"stroke: #A80036; stroke-width: 1.0;\" x1=\"136.5\" x2=\"176\" y1=\"93.3398\" y2=\"93.3398\"/><text fill=\"#000000\" font-family=\"sans-serif\" font-size=\"11\" lengthAdjust=\"spacingAndGlyphs\" textLength=\"64\" x=\"176\" y=\"96.6479\">constraints</text><line style=\"stroke: #A80036; stroke-width: 1.0;\" x1=\"240\" x2=\"279.5\" y1=\"93.3398\" y2=\"93.3398\"/></a><!--MD5=[1dd1bfd58a279cf63c5f349dbc8fc6a1]\n",
       "class E11--><a href=\"psysml:b85d82e7-3bb2-4c49-b03c-5a9b3c771643\" target=\"_top\" title=\"psysml:b85d82e7-3bb2-4c49-b03c-5a9b3c771643\" xlink:actuate=\"onRequest\" xlink:href=\"psysml:b85d82e7-3bb2-4c49-b03c-5a9b3c771643\" xlink:show=\"new\" xlink:title=\"psysml:b85d82e7-3bb2-4c49-b03c-5a9b3c771643\" xlink:type=\"simple\"><rect fill=\"#FEFECE\" filter=\"url(#fssvuh9doakyd)\" height=\"45.9375\" id=\"E11\" rx=\"10\" ry=\"10\" style=\"stroke: #A80036; stroke-width: 1.5;\" width=\"68\" x=\"211\" y=\"344.5\"/><ellipse cx=\"226\" cy=\"363.4688\" fill=\"#32CD32\" rx=\"11\" ry=\"11\" style=\"stroke: #A80036; stroke-width: 1.0;\"/><path d=\"M225.7969,359.1406 L225.7969,362.7656 L226.7969,362.7656 Q228,362.7656 228.4844,362.3594 Q228.9688,361.9531 228.9688,360.9531 Q228.9688,359.9531 228.4844,359.5469 Q228,359.1406 226.7969,359.1406 L225.7969,359.1406 Z M223.3438,357.0781 L226.7031,357.0781 Q229.2656,357.0781 230.3906,358 Q231.5156,358.9063 231.5156,360.9531 Q231.5156,363 230.3906,363.9219 Q229.2656,364.8281 226.7031,364.8281 L225.7969,364.8281 L225.7969,369.4688 L223.3438,369.4688 L223.3438,357.0781 Z \"/><text fill=\"#000000\" font-family=\"sans-serif\" font-size=\"12\" font-style=\"italic\" lengthAdjust=\"spacingAndGlyphs\" textLength=\"40\" x=\"238\" y=\"360.6387\">«part»</text><text fill=\"#000000\" font-family=\"sans-serif\" font-size=\"12\" lengthAdjust=\"spacingAndGlyphs\" textLength=\"8\" x=\"254\" y=\"374.6074\">p</text><line style=\"stroke: #A80036; stroke-width: 1.5;\" x1=\"212\" x2=\"278\" y1=\"382.4375\" y2=\"382.4375\"/></a><!--MD5=[49a0ec8f00dab7302a31f22d0f0fe584]\n",
       "class E12--><a href=\"psysml:f6ed6b0e-7205-4bca-ba49-af9a51c8942a\" target=\"_top\" title=\"psysml:f6ed6b0e-7205-4bca-ba49-af9a51c8942a\" xlink:actuate=\"onRequest\" xlink:href=\"psysml:f6ed6b0e-7205-4bca-ba49-af9a51c8942a\" xlink:show=\"new\" xlink:title=\"psysml:f6ed6b0e-7205-4bca-ba49-af9a51c8942a\" xlink:type=\"simple\"><rect fill=\"#FEFECE\" filter=\"url(#fssvuh9doakyd)\" height=\"45.9375\" id=\"E12\" rx=\"10\" ry=\"10\" style=\"stroke: #A80036; stroke-width: 1.5;\" width=\"68\" x=\"32\" y=\"62\"/><ellipse cx=\"47\" cy=\"80.9688\" fill=\"#32CD32\" rx=\"11\" ry=\"11\" style=\"stroke: #A80036; stroke-width: 1.0;\"/><path d=\"M46.7969,76.6406 L46.7969,80.2656 L47.7969,80.2656 Q49,80.2656 49.4844,79.8594 Q49.9688,79.4531 49.9688,78.4531 Q49.9688,77.4531 49.4844,77.0469 Q49,76.6406 47.7969,76.6406 L46.7969,76.6406 Z M44.3438,74.5781 L47.7031,74.5781 Q50.2656,74.5781 51.3906,75.5 Q52.5156,76.4063 52.5156,78.4531 Q52.5156,80.5 51.3906,81.4219 Q50.2656,82.3281 47.7031,82.3281 L46.7969,82.3281 L46.7969,86.9688 L44.3438,86.9688 L44.3438,74.5781 Z \"/><text fill=\"#000000\" font-family=\"sans-serif\" font-size=\"12\" font-style=\"italic\" lengthAdjust=\"spacingAndGlyphs\" textLength=\"40\" x=\"59\" y=\"78.1387\">«part»</text><text fill=\"#000000\" font-family=\"sans-serif\" font-size=\"12\" lengthAdjust=\"spacingAndGlyphs\" textLength=\"8\" x=\"75\" y=\"92.1074\">q</text><line style=\"stroke: #A80036; stroke-width: 1.5;\" x1=\"33\" x2=\"99\" y1=\"99.9375\" y2=\"99.9375\"/></a><!--MD5=[ee3c913d1a06f366521f9ef512b67efe]\n",
       "class E13--><a href=\"psysml:dc92139c-b950-485f-92a5-3d6f837d8293\" target=\"_top\" title=\"psysml:dc92139c-b950-485f-92a5-3d6f837d8293\" xlink:actuate=\"onRequest\" xlink:href=\"psysml:dc92139c-b950-485f-92a5-3d6f837d8293\" xlink:show=\"new\" xlink:title=\"psysml:dc92139c-b950-485f-92a5-3d6f837d8293\" xlink:type=\"simple\"><rect fill=\"#FEFECE\" filter=\"url(#fssvuh9doakyd)\" height=\"45.9375\" id=\"E13\" rx=\"10\" ry=\"10\" style=\"stroke: #A80036; stroke-width: 1.5;\" width=\"119\" x=\"44.5\" y=\"190\"/><ellipse cx=\"59.5\" cy=\"208.9688\" fill=\"#FFA500\" rx=\"11\" ry=\"11\" style=\"stroke: #A80036; stroke-width: 1.0;\"/><path d=\"M55.375,210.8906 L55.375,203.0781 L57.8281,203.0781 L57.8281,211.5156 Q57.8281,212.4375 58.2969,212.9688 Q58.7813,213.5 59.6094,213.5 Q60.4531,213.5 60.9219,212.9688 Q61.3906,212.4375 61.3906,211.5156 L61.3906,203.0781 L63.8438,203.0781 L63.8438,210.8906 Q63.8438,213.4219 62.8438,214.5625 Q61.8438,215.7031 59.6094,215.7031 Q57.3906,215.7031 56.375,214.5625 Q55.375,213.4219 55.375,210.8906 Z \"/><text fill=\"#000000\" font-family=\"sans-serif\" font-size=\"12\" font-style=\"italic\" lengthAdjust=\"spacingAndGlyphs\" textLength=\"91\" x=\"71.5\" y=\"206.1387\">«requirement»</text><text fill=\"#000000\" font-family=\"sans-serif\" font-size=\"12\" lengthAdjust=\"spacingAndGlyphs\" textLength=\"21\" x=\"106.5\" y=\"220.1074\">r: R</text><line style=\"stroke: #A80036; stroke-width: 1.5;\" x1=\"45.5\" x2=\"162.5\" y1=\"227.9375\" y2=\"227.9375\"/></a><!--MD5=[05d275557350bfb9b23a4ef7222b4c39]\n",
       "link E3 to E2--><a href=\"psysml:9201001b-4e3f-46f0-8224-89e70f802e39\" target=\"_top\" title=\"psysml:9201001b-4e3f-46f0-8224-89e70f802e39\" xlink:actuate=\"onRequest\" xlink:href=\"psysml:9201001b-4e3f-46f0-8224-89e70f802e39\" xlink:show=\"new\" xlink:title=\"psysml:9201001b-4e3f-46f0-8224-89e70f802e39\" xlink:type=\"simple\"><path d=\"M366.88,108.24 C365.26,125.24 362.98,149.19 361.02,169.79 \" fill=\"none\" id=\"E3-&gt;E2\" style=\"stroke: #A80036; stroke-width: 1.0;\"/><polygon fill=\"#FFFFFF\" points=\"359.1,189.99,353.9362,170.411,367.8729,171.7407,359.1,189.99\" style=\"stroke: #A80036; stroke-width: 1.0;\"/><ellipse cx=\"356.4685\" cy=\"164.9268\" fill=\"#A80036\" rx=\"2\" ry=\"2\" style=\"stroke: #A80036; stroke-width: 1.0;\"/><ellipse cx=\"366.4233\" cy=\"165.8765\" fill=\"#A80036\" rx=\"2\" ry=\"2\" style=\"stroke: #A80036; stroke-width: 1.0;\"/></a><!--MD5=[62aa6af11e70f752912c1cb0466f24f7]\n",
       "reverse link E4 to E5--><a href=\"psysml:56458fbc-ce11-45ea-8fa2-2092e0cfc05c\" target=\"_top\" title=\"psysml:56458fbc-ce11-45ea-8fa2-2092e0cfc05c\" xlink:actuate=\"onRequest\" xlink:href=\"psysml:56458fbc-ce11-45ea-8fa2-2092e0cfc05c\" xlink:show=\"new\" xlink:title=\"psysml:56458fbc-ce11-45ea-8fa2-2092e0cfc05c\" xlink:type=\"simple\"><path d=\"M104,437.45 C104,453.34 104,469.51 104,482.98 \" fill=\"none\" id=\"E4&lt;-E5\" style=\"stroke: #A80036; stroke-width: 1.0;\"/><ellipse cx=\"104\" cy=\"430.4\" fill=\"#FFFFFF\" rx=\"8\" ry=\"8\" style=\"stroke: #A80036; stroke-width: 1.0;\"/><line style=\"stroke: #A80036; stroke-width: 1.0;\" x1=\"104\" x2=\"104\" y1=\"438.4\" y2=\"422.4\"/><line style=\"stroke: #A80036; stroke-width: 1.0;\" x1=\"96\" x2=\"112\" y1=\"430.4\" y2=\"430.4\"/></a><!--MD5=[c6fc7cdb0cabde04948078cf183fa696]\n",
       "reverse link E4 to E8--><a href=\"psysml:72b41e7b-9298-4fd0-92ac-738cc777b35a\" target=\"_top\" title=\"psysml:72b41e7b-9298-4fd0-92ac-738cc777b35a\" xlink:actuate=\"onRequest\" xlink:href=\"psysml:72b41e7b-9298-4fd0-92ac-738cc777b35a\" xlink:show=\"new\" xlink:title=\"psysml:72b41e7b-9298-4fd0-92ac-738cc777b35a\" xlink:type=\"simple\"><path d=\"M174.75,431.16 C199.83,453.36 226.43,476.92 245.13,493.48 \" fill=\"none\" id=\"E4&lt;-E8\" style=\"stroke: #A80036; stroke-width: 1.0;\"/><polygon fill=\"#A80036\" points=\"164.87,422.4,166.7154,429.371,173.86,430.3486,172.0145,423.3776,164.87,422.4\" style=\"stroke: #A80036; stroke-width: 1.0;\"/></a><!--MD5=[062ed86c389d1a88f61c6380d0491e17]\n",
       "reverse link E12 to E13--><a href=\"psysml:dc92139c-b950-485f-92a5-3d6f837d8293\" target=\"_top\" title=\"psysml:dc92139c-b950-485f-92a5-3d6f837d8293\" xlink:actuate=\"onRequest\" xlink:href=\"psysml:dc92139c-b950-485f-92a5-3d6f837d8293\" xlink:show=\"new\" xlink:title=\"psysml:dc92139c-b950-485f-92a5-3d6f837d8293\" xlink:type=\"simple\"><path d=\"M76.49,120.8 C83.17,142.92 91.6,170.89 97.36,189.99 \" fill=\"none\" id=\"E12&lt;-E13\" style=\"stroke: #A80036; stroke-width: 1.0;\"/><polygon fill=\"#A80036\" points=\"72.71,108.24,70.6129,115.1394,76.1751,119.7288,78.2722,112.8294,72.71,108.24\" style=\"stroke: #A80036; stroke-width: 1.0;\"/></a><!--MD5=[017847e01ff9a8bd19f247411074f987]\n",
       "link E13 to E4--><a href=\"psysml:84833459-b0b4-497f-8a66-9d75104fb430\" target=\"_top\" title=\"psysml:84833459-b0b4-497f-8a66-9d75104fb430\" xlink:actuate=\"onRequest\" xlink:href=\"psysml:84833459-b0b4-497f-8a66-9d75104fb430\" xlink:show=\"new\" xlink:title=\"psysml:84833459-b0b4-497f-8a66-9d75104fb430\" xlink:type=\"simple\"><path d=\"M104,236.17 C104,251.17 104,271.91 104,292.44 \" fill=\"none\" id=\"E13-&gt;E4\" style=\"stroke: #A80036; stroke-width: 1.0;\"/><polygon fill=\"#FFFFFF\" points=\"104,312.68,97,293.68,111,293.68,104,312.68\" style=\"stroke: #A80036; stroke-width: 1.0;\"/><ellipse cx=\"99\" cy=\"287.98\" fill=\"#A80036\" rx=\"2\" ry=\"2\" style=\"stroke: #A80036; stroke-width: 1.0;\"/><ellipse cx=\"109\" cy=\"287.98\" fill=\"#A80036\" rx=\"2\" ry=\"2\" style=\"stroke: #A80036; stroke-width: 1.0;\"/></a><!--MD5=[2cfe899c895462254056921bfb67315f]\n",
       "link E13 to E11--><a href=\"psysml:ed40ce07-1501-496b-adae-3639fe39f1e8\" target=\"_top\" title=\"psysml:ed40ce07-1501-496b-adae-3639fe39f1e8\" xlink:actuate=\"onRequest\" xlink:href=\"psysml:ed40ce07-1501-496b-adae-3639fe39f1e8\" xlink:show=\"new\" xlink:title=\"psysml:ed40ce07-1501-496b-adae-3639fe39f1e8\" xlink:type=\"simple\"><path d=\"M124.5,236.17 C150.09,263.85 193.77,311.09 220.92,340.45 \" fill=\"none\" id=\"E13-&gt;E11\" style=\"stroke: #A80036; stroke-width: 1.0; stroke-dasharray: 7.0,7.0;\"/><polygon fill=\"#A80036\" points=\"224.47,344.3,221.2896,334.9788,221.0727,340.6315,215.42,340.4145,224.47,344.3\" style=\"stroke: #A80036; stroke-width: 1.0;\"/><text fill=\"#000000\" font-family=\"sans-serif\" font-size=\"13\" lengthAdjust=\"spacingAndGlyphs\" textLength=\"57\" x=\"167\" y=\"279.0669\">«satisfy»</text></a><!--MD5=[3649d7ace99d1b8c6c6714739cd31281]\n",
       "@startuml\r\n",
       " \r\n",
       "package \"RequirementTest\" as E1  [[psysml:32d2418d-b451-4172-b0c3-f203713ef4c8 ]]  {\r\n",
       "comp def \"C\" as E2  <<(D,brown)constraint def>> [[psysml:a1b28860-c9a8-4d37-931e-31ae0c14540e ]] {\r\n",
       "}\r\n",
       "comp usage \"c: C\" as E3  <<(U,orange)constraint>> [[psysml:4f6724e1-6261-429d-9c16-1831387bac9b ]] {\r\n",
       "}\r\n",
       "comp def \"R\" as E4  <<(D,brown)requirement def>> [[psysml:a2742730-9bdb-48ea-a333-70a51cef011c ]] {\r\n",
       "\r\n",
       "- -\r\n",
       "- - constraints - -\r\n",
       "<b>require</b> c\r\n",
       "<i>assume</i> c1: C\r\n",
       "}\r\n",
       "comp def \" [<b>1</b>] A\" as E5  <<(D,brown)requirement def>> [[psysml:56458fbc-ce11-45ea-8fa2-2092e0cfc05c ]] {\r\n",
       "Text\r\n",
       "- -\r\n",
       "}\r\n",
       "comp usage \"<s>noname</s>\" as E8  <<(U,orange)requirement>> [[psysml:72b41e7b-9298-4fd0-92ac-738cc777b35a ]] {\r\n",
       "}\r\n",
       "comp def \"R1\" as E9  <<(D,brown)requirement def>> [[psysml:ec52d3df-f8e8-4ac5-95c0-bf3447feb8a5 ]] {\r\n",
       "- - constraints - -\r\n",
       "<b>require</b> c1\\n//:>>RequirementTest::c// \r\n",
       "}\r\n",
       "comp usage \"p\" as E11  << (P,limegreen) part>> [[psysml:b85d82e7-3bb2-4c49-b03c-5a9b3c771643 ]] {\r\n",
       "}\r\n",
       "comp usage \"q\" as E12  << (P,limegreen) part>> [[psysml:f6ed6b0e-7205-4bca-ba49-af9a51c8942a ]] {\r\n",
       "}\r\n",
       "comp usage \"r: R\" as E13  <<(U,orange)requirement>> [[psysml:dc92139c-b950-485f-92a5-3d6f837d8293 ]] {\r\n",
       "}\r\n",
       "E3 - -:|> E2 [[psysml:9201001b-4e3f-46f0-8224-89e70f802e39 ]] \r\n",
       "E4 +- - E5 [[psysml:56458fbc-ce11-45ea-8fa2-2092e0cfc05c ]] \r\n",
       "E4 *- - E8 [[psysml:72b41e7b-9298-4fd0-92ac-738cc777b35a ]] \r\n",
       "E12 *- - E13 [[psysml:dc92139c-b950-485f-92a5-3d6f837d8293 ]] \r\n",
       "E13 - -:|> E4 [[psysml:84833459-b0b4-497f-8a66-9d75104fb430 ]] \r\n",
       "E13 ..> E11 [[psysml:ed40ce07-1501-496b-adae-3639fe39f1e8 ]] : <<satisfy>>\r\n",
       "}\r\n",
       "@enduml\r\n",
       "\n",
       "PlantUML version 1.2020.13(Sat Jun 13 12:26:38 UTC 2020)\n",
       "(EPL source distribution)\n",
       "Java Runtime: OpenJDK Runtime Environment\n",
       "JVM: OpenJDK 64-Bit Server VM\n",
       "Default Encoding: UTF-8\n",
       "Language: en\n",
       "Country: null\n",
       "--></g></svg>"
      ]
     },
     "execution_count": 31,
     "metadata": {},
     "output_type": "execute_result"
    }
   ],
   "source": [
    "%viz --style=\"PLANTUML\" --view=\"Tree\" \"RequirementTest\""
   ]
  },
  {
   "cell_type": "code",
   "execution_count": 32,
   "id": "comparative-anthony",
   "metadata": {
    "execution": {
     "iopub.execute_input": "2021-03-26T13:01:09.498325Z",
     "iopub.status.busy": "2021-03-26T13:01:09.497757Z",
     "iopub.status.idle": "2021-03-26T13:01:09.627962Z",
     "shell.execute_reply": "2021-03-26T13:01:09.626555Z"
    }
   },
   "outputs": [
    {
     "data": {
      "image/svg+xml": [
       "<?xml version=\"1.0\" encoding=\"UTF-8\" standalone=\"no\"?><svg xmlns=\"http://www.w3.org/2000/svg\" xmlns:xlink=\"http://www.w3.org/1999/xlink\" contentScriptType=\"application/ecmascript\" contentStyleType=\"text/css\" height=\"410px\" preserveAspectRatio=\"none\" style=\"width:603px;height:410px;background:#000000;\" version=\"1.1\" viewBox=\"0 0 603 410\" width=\"603px\" zoomAndPan=\"magnify\"><defs/><g><rect fill=\"#040C15\" height=\"1\" style=\"stroke: #040C15; stroke-width: 1.0;\" width=\"1\" x=\"0\" y=\"0\"/><rect fill=\"#FFFFFF\" height=\"53\" style=\"stroke: #FFFFFF; stroke-width: 1.0;\" width=\"602\" x=\"0\" y=\"0\"/><image height=\"53\" width=\"450\" x=\"1\" xlink:href=\"data:image/png;base64,iVBORw0KGgoAAAANSUhEUgAAAcIAAAA1CAMAAADlJhtiAAADAFBMVEX4Z1QAOpD//9tmtv/b//8AADo6AAD///8AAAAALEnbkDqQ2/+QOgA6kNu2ZgBmAAD/tmb//7b/25AAZrYAAGa2////aVQAJ0j5Z1T/alSvVVAAI0ZmOgA6ZpD3Z1Q6Zrbbtma22/+2Zjr3ZlMAOmb+////27YAOjrbtpD4ZlS229tmtts6kLYAZpC2kDpmkNv4ZlP/bVSQZjrb/9sAKkg6ADr4Z1P3VkH3ZlT3VT/3VkD3WEMQMEmhUk86kJA6OgC2kGY6Zmb3YEz3Xkn3ZVH3XEf3Y0/3W0b3V0L3ZVL3ZFH/tpBmZmaQ29vb25BmkLaQttu225Db/7YAZmb+9fT3XUj5gXH3Xkr3Vj/3WEL7vLP3XEj3VUD3X0v4ZFD3X0r///73YU33ZFD7Z1TbkGaQZgCQkDpmtpBmOjrb27b4W0b5g3P5lIX3Yk795+T3X0n3WUX5i3v6loj6n5L4bVr7x8D3YU73ZE/7vbX8vLT3Uz7++/v3Z1P6lYf3XUf939r+7Or+9PL++fj3VD/6koP+9vX7q5/6l4n7ua/8xb74Xkn95uP2VkD+/Pv3Wkb2WEP7sKb7u7L92tX94t35hHX8w7z92dP6pZn80Mn4aFP5f2/3aVX//v/7r6T5nI/4aFX+//73YUz+/v73WkX8zsf5Z1P5dGL7urH93Nf97+3+/Pr3WUT7v7b+7uv2VT/96uf6npH5hnb+aFMAIkb99vT3V0EAKEj3cF4AJkf7ubDfYVGzVlD4hnatVFCXT08AH0b/aVP8y8T++/qaUE/+7+0AIkeoU1D4YU33XUn4cmD3Y1D4bVv4emi2tpCQtv//29vb2/+2kJDb29u2ttu227Y6AGY6OpC2/9tmtraQkGYAAAAAAAAAAAAAAAAAAAAAAAAAAAAAAAAAAAAAAAAAAAAAAAAAAAAAAAAAAAAAAAAAAAAAAAAAAAAAAAAAAAAAAAAAAAAAAAAAAAAAAAAAAAAAAAAAAAAAAAAAAAAAAAAAAAAAAAAAAAAAAAAAAAAAAAAmvaTnAAANRklEQVR4Xu2ca4wkRR3Aq58z0zOzA7e7zL5uNseyx/tiIsKehGDC4+CQ6CdECCJBjYbwwYSESDSaGI2JgolfkOAH4gNjVPjAQzQoJIJ3EXIPPLgHd9ztws3uLbO3u7Pz6q5+WNVVXd1d0zM9u7nZRzK/5Larq+pf///Uv7oeM/8+IQF6bG3k0J0euuuU3ijYUEQ+o8dWo+fCLU/PhVueLrowPShcYvGZPS443XOhZpXApw6fG03KloEkZMCoEedzXLNHiK64cHgX6mddV7Rrk3xRJNB0L4a2wBVQ9u9+aEoQ7CHLq9kKOgTSDqo2LKhunjaIMxNGX6jmpkTKrsVIIXQiYIeKwoz/lzIF9rt56aOhbBBxqEjUVRNqScF6a5fEl0Wh2WUJV0xXshW+DOBsOtB0KUtr8mi2baChgHSW0Z1kKwb6o+OqUDMzQlmzFbdk4yGWRuKZv0qk0LzkTWOF3x4eRmhPvsCKpnYOPFbvH3tsWZtQpOXrz7IC/myJTJEzqp4VxBX4TGcPuVq7yH26ZItZEKSWhJN/exaMNzIph9bkkXUJSWKd+E61dBH9ERI26rLG7mO6qDhLeme2dBtiaSRZYU1GRos0oJRG/OS7QzRj4vaLbpqqTm3fbu667fP3Xn39f68P1Q+TkxYWgVDnBpuEVzF4tWAjH6SEkCNscYlm1QB4AM+C6C+dB11y8zcAcNJaWMQ13Va4RdO2kLd8nVYSQHtcQB8uZfzv0DYJlWxrenjbGNREUKMrR9gxiBZwJptClqOcoWCKKXBMOIrbIJZSAabVbUioZ5qM7IDoifSSP8Lvo8sPv+XMufcTQ4+ID7JaT504cgYGJlN+Ik1XEoaGVy3rqmM0A02QEsSzK85VTcmGaP+iedMGLsJZ5IrKwWjRrUeKoVZFU+J4UbfdGkBLlwBAs2NiRcrUHFt2Wx0/7ahKA+LedSekdGXnzIrUV8k6WDk3RccZlFCFBQ2pA8NFiGdjTyOTI9Uk5I30surJovnb9Q/6ICzlKUBri0THF7aUNMC0koYyxPzV0sKFsoU/zDabuPDWoS/fDwqPP8LqPTJ/5BC7aXJhqoGXIvZBqal4gZRs/IkVA3VR2VsAgdtjZfwPfZqqPSgXUQtj1jnWoZpd+INzV2ls1nRrol7JDxyvSraWvOkV0fUl7pzB7CmsAlAXphowYU9MJwWIrXFN8ok1qH7HGyZaevsqIh5InkaJybm10pW+bJFY78pK9q2vD8rn8FgMpDwFIyfS9zzvdjCylKqhkn2koWCXrYLotTAtOlhZygF47O79xjX3PfPy8qt+vXfu2FlcZHf80HEcvBSZeGi5QLUuiniBrKiaCDVdTgC0Zsl6znvK5GXdQv9EdWmipJRXAJQ0vd7As6qLWlt89jeDA6dITTFjpM9XhLRpKwMz0li1YttWWt85X18EclrFZrtrimQkkvoSdOqKiaxxTWLEGQTkxs0HLytDUaqP1Qw0SqhGJkeGumxdPIsGGJMVnY+Q9aqRsFlKpwoacv5kpnLQBNRSFyZJGgKiYUeva+3pwIUTwtT94OVgNQD2jYwcYTe8C0UT7SNod2KyguKAsbIqoPGLbLYkqSZY40LNU5cVdLEP95AsLmQUJNVXz4NllT02sjX596fL50VSM+OkRN02VSMrLK44C0BAfSxbK/gEKiN3ArI70oCmVpKGjQcU6hgR/2HEGQTlHW9mPlbgF48Bx0xamq+RypFPVk+sbL/xpMpkVStdByk92/BTfVQBVBazIpailrowSdIQ6jdxLS6Ml7ky/+jX+DwA/nrNV/BqGYm7HtkL7DEV6gCOzgG8GTHozqOWPnNpaP4lOxHrcKVk4e3NtDAcnPg+uM5f5x1dL6dNYOBmkyZQ0WAGBtkjmFIDXxoiLnTKQBe90SVbwRNqnEE5abpPVESQh4JoqyGNRI5UU2pTM6+pQdkleHkj43YpTfkKgO4uC9RSCpWkDVnqWnYzHbhw6vGHn+XzED/+7P4Cn+eBejIXsgaqHz9IPiQcNfpMbDSsWoEtJ0JFMn271IQ1gm5G5os7BjO0JLy1NUBtR+XuhIq6R6+jD2DDbB/y1PigCZK2eCeAwybqJrfvGNDOje92BIHtAGMNwh2e+J0oOanyZUxjUA6j7LsUediThTZQ1BNWvRxIYRGigLqOWuo1QLW6DWmDmVbHjbbEunDimAS+yWdiDrUcMmZoyANQvQKMjf0ZbetRd6tFfRlUZTAoHbHLgRl4IDWMBzmoyInZjGifE4QzSWYb155yBjpAGLnRFpEJS6o1WgaSNXNWANWk9JqgzjloFy983RvtuOdzUuWj/SJrKN6gTBIPjstkUIPSDNPI5Nw6UEFGiktMNifttq08PhL5KU+BIo5rpGViqYsneTtpSJg3WnZpO+J2pOqfqncFawT4zkvexiqc70IOAgFSeMc8XBTzZ5vshFpiGWfiwwjav5+z5VRNtPa+0lTRrWmj7eFZabQ4cdLPT2ulwVlcHSkAeEvLgXYUez+k1nq0MUiDieARBG9IfY2uHM22hgK6WAFKdfjd8AUhzoVze564PVjDp7Dng3+RVJQLeVAnrmnH3DXWalBrucB5EcZObheQOF2fWaFPfRMz269ouRiG0JKTFiiY5tqiOrrAWg1qLwfFHJ0rUSpc1F3iXDj81G18lsdZ/2TYllr/SVmYA3jh2hys1aAYOZHtwcUWv7h0h1gXCi0ftYHpGT4rmrNDNwDrcv70uIGs1aC2corunQlQKlzUXVrYw/i22NJPeuE/fFYLZmeBSL4t3SSs1aC1ynWVuKfwR07Lp1C7js/psRHEfcFWfutosEKQ3a8Ky24i7knu0VXinkI1+08+yyM10nKO7bGOxLnwqFXlszwOeL8H99hQYidBIfi1bJCf1p7js3psBHFPIfjY/iWfRSiegHxWj40gbjtTKSUn3suRbUuIJ944doYmY5/kHt0k9ikE+17/efO2pQBWslk+s8eGEO/Cowfs50Dhq+HMmScP/iMQPdNjA4mdSAEoHT/wg+fL4bn0S4de92+aJtJEqh4/NDCa1CAVWYKQMpRWu6g2rEKK07el6cCFYC7x4ffuerGwl0bLFJZ/cZV+OPAdN+9CDSx1FgQCJUhCWljCy7dY7FTnrEKK07e14bs/klNq4smnc/fRu0ePPz/5Nvf7aQj86zuBRp+3CkJPmmny0ypLEHK26UT9HNCqHUIrqQg4fT7tNWxOOnIhOPoz441Tv/qkf264+ukn+7Y7bzZvcALY4jbaQY6uBC48+EWHcIIi1L0GwrRoh9JKqhlen097DZuTTiZSRGnxvf7i6RNzS7PW+dPvvB9eGPlh4Dg1OktJhoinNnJJQUvcodSHKkDKDOB3H0SjSo6WJOGXyxZuAO4qGeHtFm3HMiMnQSKFGV4p4AAE1IBtRVXl9fm6mKVWoYIzHjgsqlabljYDsYEXweIrq/jp419sagq8SNTVhFZSqiRO3v3kOAjdYVHqiTp+LYFFWNNEIJ69bdi944Wxc2HzLPAh1QAAtchi4bno+mZ9VNe/P0c1SCR6Hsr0vQDWEjXF1bJpWNXQOuo6j/dgM+YtlRKouFua6fyl+PfP6fwk6oWb7cFhnOnGd2oOjiEEgQQrl3MagLCUv1peWIR2/901Ubq4TyHNTZpyZhvQFPwT+fKUht/BSBdFOUGkMOla5l0cMYgWPFOURL5ahD6q61pPA8hNGOmHEiBVHBvG4RS0JWYKkd4sdDiRtoUblVC+/KCpKNlUjUSfe+Hyfry6W02s09BCL+FHsbcNu/cD4MNh826wvtsOdH4tWRaksfAWF13frM/2dFENkEbPW/S9AK8lyEwhhm8SuuDCrDCPp7SabXtx8uTix6tjUnqCLIQswcrbh92zMHYubB5LYRdqeCK1LODFwjfC1SL0sYB7qsGm0fPeewFeS5pvymaiC9Yg7+NAeSnpRZ+zIHQapQ4T9r6IaTQYz94u7N4LY+fC5j0cHb+CiPfFJBaeqxahj+nyLXWj5733AryWAqZsJrrgQgOk0UcuXyWMyCT6nFwCUeq2uUfXaSAYS4Si2NuF3QeC54Nh8/j+Vic7YoBrANx9AC9YNBY+VC1Cnx9w72nwPMneC3Bb8k3pNGhoXWjhwr+80If4PZ/dEZdYeKpU3l8petHn7sWPUlfQPKvo9EjoJQJR7IRWYfeB4HkubB6At8V0UQXHBXX/PWUvFj5crT9SH9VFLfWi5733AryWfFNuoTZuCqLXwnt3yof6+/u/sCfqhZgmuLWwwn4lTuZqg1WJXmT9tCR4//GBOklmOz8B/PKanNXRZJuvnMwv5N/Fr1ujA4BQ8ppzQBVNfoKtmBI6XZrCeVTuAAtLWWjtNkdXwFh6GsCRspCvSCBcbSlCn+HpOk81WGX3dAU1Q7DufAd6LX3ETIkO594gos+F4OGX3Ms8K2kHfy6MJu4d1rjyC8166+saLVy4KjpyYdz/yBFXfqFZb33dY/2+aRAXIv/HGEZc+YVmvfV1jXV7Cnt0ixY70h5bh54LtzzhibTHFuT/mGwAUijVTY4AAAAASUVORK5CYII=\" y=\"1\"/><rect fill=\"#FFFFFF\" height=\"205.5625\" style=\"stroke: #FFFFFF; stroke-width: 1.0;\" width=\"602\" x=\"0\" y=\"53\"/><text fill=\"#000000\" font-family=\"sans-serif\" font-size=\"12\" font-weight=\"bold\" lengthAdjust=\"spacingAndGlyphs\" textLength=\"159\" x=\"5\" y=\"69.1387\">Welcome to PlantUML!</text><text fill=\"#000000\" font-family=\"sans-serif\" font-size=\"12\" lengthAdjust=\"spacingAndGlyphs\" textLength=\"0\" x=\"9\" y=\"83.1074\"/><text fill=\"#000000\" font-family=\"sans-serif\" font-size=\"12\" lengthAdjust=\"spacingAndGlyphs\" textLength=\"293\" x=\"5\" y=\"97.0762\">If you use this software, you accept its license.</text><text fill=\"#000000\" font-family=\"sans-serif\" font-size=\"12\" lengthAdjust=\"spacingAndGlyphs\" textLength=\"107\" x=\"5\" y=\"111.0449\">(details by typing</text><text fill=\"#000000\" font-family=\"monospace\" font-size=\"12\" lengthAdjust=\"spacingAndGlyphs\" textLength=\"49\" x=\"116\" y=\"111.0449\">license</text><text fill=\"#000000\" font-family=\"sans-serif\" font-size=\"12\" lengthAdjust=\"spacingAndGlyphs\" textLength=\"56\" x=\"169\" y=\"111.0449\">keyword)</text><text fill=\"#000000\" font-family=\"sans-serif\" font-size=\"12\" lengthAdjust=\"spacingAndGlyphs\" textLength=\"0\" x=\"9\" y=\"125.0137\"/><text fill=\"#000000\" font-family=\"sans-serif\" font-size=\"12\" lengthAdjust=\"spacingAndGlyphs\" textLength=\"283\" x=\"5\" y=\"138.9824\">You can start with a simple UML Diagram like:</text><text fill=\"#000000\" font-family=\"sans-serif\" font-size=\"12\" lengthAdjust=\"spacingAndGlyphs\" textLength=\"0\" x=\"9\" y=\"152.9512\"/><text fill=\"#000000\" font-family=\"monospace\" font-size=\"12\" lengthAdjust=\"spacingAndGlyphs\" textLength=\"119\" x=\"5\" y=\"166.9199\">Bob-&gt;Alice: Hello</text><text fill=\"#000000\" font-family=\"sans-serif\" font-size=\"12\" lengthAdjust=\"spacingAndGlyphs\" textLength=\"0\" x=\"9\" y=\"180.8887\"/><text fill=\"#000000\" font-family=\"sans-serif\" font-size=\"12\" lengthAdjust=\"spacingAndGlyphs\" textLength=\"14\" x=\"5\" y=\"194.8574\">Or</text><text fill=\"#000000\" font-family=\"sans-serif\" font-size=\"12\" lengthAdjust=\"spacingAndGlyphs\" textLength=\"0\" x=\"9\" y=\"208.8262\"/><text fill=\"#000000\" font-family=\"monospace\" font-size=\"12\" lengthAdjust=\"spacingAndGlyphs\" textLength=\"91\" x=\"5\" y=\"222.7949\">class Example</text><text fill=\"#000000\" font-family=\"sans-serif\" font-size=\"12\" lengthAdjust=\"spacingAndGlyphs\" textLength=\"0\" x=\"9\" y=\"236.7637\"/><text fill=\"#000000\" font-family=\"sans-serif\" font-size=\"12\" lengthAdjust=\"spacingAndGlyphs\" textLength=\"349\" x=\"5\" y=\"250.7324\">You will find more information about PlantUML syntax on</text><text fill=\"#000000\" font-family=\"sans-serif\" font-size=\"12\" lengthAdjust=\"spacingAndGlyphs\" text-decoration=\"underline\" textLength=\"129\" x=\"358\" y=\"250.7324\">https://plantuml.com</text><image height=\"71\" width=\"80\" x=\"516\" xlink:href=\"data:image/png;base64,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\" y=\"59\"/><rect fill=\"#000000\" height=\"96.4844\" style=\"stroke: #000000; stroke-width: 1.0;\" width=\"602\" x=\"0\" y=\"258.5625\"/><rect fill=\"#33FF02\" height=\"21.2969\" style=\"stroke: #33FF02; stroke-width: 1.0;\" width=\"170\" x=\"5\" y=\"263.5625\"/><text fill=\"#000000\" font-family=\"sans-serif\" font-size=\"14\" font-weight=\"bold\" lengthAdjust=\"spacingAndGlyphs\" textLength=\"168\" x=\"6\" y=\"278.5625\">[From string (line 2) ]</text><text fill=\"#33FF02\" font-family=\"sans-serif\" font-size=\"14\" font-weight=\"bold\" lengthAdjust=\"spacingAndGlyphs\" textLength=\"0\" x=\"10\" y=\"298.8594\"/><text fill=\"#33FF02\" font-family=\"sans-serif\" font-size=\"14\" font-weight=\"bold\" lengthAdjust=\"spacingAndGlyphs\" textLength=\"79\" x=\"5\" y=\"315.1563\">@startuml</text><text fill=\"#33FF02\" font-family=\"sans-serif\" font-size=\"14\" font-weight=\"bold\" lengthAdjust=\"spacingAndGlyphs\" textLength=\"0\" x=\"10\" y=\"331.4531\"/><text fill=\"#FF0000\" font-family=\"sans-serif\" font-size=\"14\" font-weight=\"bold\" lengthAdjust=\"spacingAndGlyphs\" textLength=\"142\" x=\"10\" y=\"347.75\">Empty description</text><rect fill=\"#FFFFFF\" height=\"53\" style=\"stroke: #FFFFFF; stroke-width: 1.0;\" width=\"602\" x=\"0\" y=\"355.0469\"/><image height=\"53\" width=\"450\" x=\"1\" xlink:href=\"data:image/png;base64,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\" y=\"356.0469\"/><!--MD5=[f59edd8218d337f74d0c332fc6737304]\n",
       "@startuml\r\n",
       " \r\n",
       "@enduml\r\n",
       "\n",
       "PlantUML version 1.2020.13(Sat Jun 13 12:26:38 UTC 2020)\n",
       "(EPL source distribution)\n",
       "Java Runtime: OpenJDK Runtime Environment\n",
       "JVM: OpenJDK 64-Bit Server VM\n",
       "Default Encoding: UTF-8\n",
       "Language: en\n",
       "Country: null\n",
       "--></g></svg>"
      ]
     },
     "execution_count": 32,
     "metadata": {},
     "output_type": "execute_result"
    }
   ],
   "source": [
    "%viz --style=\"PLANTUML\" --view=\"State\" \"RequirementTest\""
   ]
  },
  {
   "cell_type": "code",
   "execution_count": 33,
   "id": "maritime-indian",
   "metadata": {
    "execution": {
     "iopub.execute_input": "2021-03-26T13:01:09.680046Z",
     "iopub.status.busy": "2021-03-26T13:01:09.679097Z",
     "iopub.status.idle": "2021-03-26T13:01:09.721172Z",
     "shell.execute_reply": "2021-03-26T13:01:09.719864Z"
    }
   },
   "outputs": [
    {
     "data": {
      "image/svg+xml": [
       "<?xml version=\"1.0\" encoding=\"UTF-8\" standalone=\"no\"?><svg xmlns=\"http://www.w3.org/2000/svg\" xmlns:xlink=\"http://www.w3.org/1999/xlink\" contentScriptType=\"application/ecmascript\" contentStyleType=\"text/css\" height=\"367px\" preserveAspectRatio=\"none\" style=\"width:981px;height:367px;\" version=\"1.1\" viewBox=\"0 0 981 367\" width=\"981px\" zoomAndPan=\"magnify\"><defs><filter height=\"300%\" id=\"feqrzedi2cirt\" width=\"300%\" x=\"-1\" y=\"-1\"><feGaussianBlur result=\"blurOut\" stdDeviation=\"2.0\"/><feColorMatrix in=\"blurOut\" result=\"blurOut2\" type=\"matrix\" values=\"0 0 0 0 0 0 0 0 0 0 0 0 0 0 0 0 0 0 .4 0\"/><feOffset dx=\"4.0\" dy=\"4.0\" in=\"blurOut2\" result=\"blurOut3\"/><feBlend in=\"SourceGraphic\" in2=\"blurOut3\" mode=\"normal\"/></filter></defs><g><!--MD5=[fbc87193dbaf4d95561dea2c320d4a47]\n",
       "cluster E1--><a href=\"psysml:32d2418d-b451-4172-b0c3-f203713ef4c8\" target=\"_top\" title=\"psysml:32d2418d-b451-4172-b0c3-f203713ef4c8\" xlink:actuate=\"onRequest\" xlink:href=\"psysml:32d2418d-b451-4172-b0c3-f203713ef4c8\" xlink:show=\"new\" xlink:title=\"psysml:32d2418d-b451-4172-b0c3-f203713ef4c8\" xlink:type=\"simple\"><polygon fill=\"#FFFFFF\" filter=\"url(#feqrzedi2cirt)\" points=\"16,6,158,6,165,28.2969,959,28.2969,959,355,16,355,16,6\" style=\"stroke: #000000; stroke-width: 1.5;\"/><line style=\"stroke: #000000; stroke-width: 1.5;\" x1=\"16\" x2=\"165\" y1=\"28.2969\" y2=\"28.2969\"/><text fill=\"#000000\" font-family=\"sans-serif\" font-size=\"14\" font-weight=\"bold\" lengthAdjust=\"spacingAndGlyphs\" textLength=\"136\" x=\"20\" y=\"20.9951\">RequirementTest</text></a><!--MD5=[168fadf3d0c3fd93dd5d6da1b1d7ab76]\n",
       "cluster E7--><a href=\"psysml:f6ed6b0e-7205-4bca-ba49-af9a51c8942a\" target=\"_top\" title=\"psysml:f6ed6b0e-7205-4bca-ba49-af9a51c8942a\" xlink:actuate=\"onRequest\" xlink:href=\"psysml:f6ed6b0e-7205-4bca-ba49-af9a51c8942a\" xlink:show=\"new\" xlink:title=\"psysml:f6ed6b0e-7205-4bca-ba49-af9a51c8942a\" xlink:type=\"simple\"><rect fill=\"#FFFFFF\" filter=\"url(#feqrzedi2cirt)\" height=\"209\" id=\"E7\" rx=\"10\" ry=\"10\" style=\"stroke: #A80036; stroke-width: 1.5;\" width=\"239\" x=\"696\" y=\"49\"/><rect fill=\"#FEFECE\" height=\"23.9688\" rx=\"10\" ry=\"10\" style=\"stroke: #FEFECE; stroke-width: 1.5;\" width=\"239\" x=\"696\" y=\"49\"/><rect fill=\"#FEFECE\" height=\"10\" style=\"stroke: #FEFECE; stroke-width: 1.5;\" width=\"239\" x=\"696\" y=\"62.9688\"/><rect fill=\"none\" height=\"209\" id=\"E7\" rx=\"10\" ry=\"10\" style=\"stroke: #A80036; stroke-width: 1.5;\" width=\"239\" x=\"696\" y=\"49\"/><text fill=\"#000000\" font-family=\"sans-serif\" font-size=\"12\" lengthAdjust=\"spacingAndGlyphs\" textLength=\"8\" x=\"811.5\" y=\"65.1387\">q</text><line style=\"stroke: #A80036; stroke-width: 1.0;\" x1=\"696\" x2=\"935\" y1=\"72.9688\" y2=\"72.9688\"/></a><!--MD5=[55dfccfc6c49c2d10cd1bd2211a6c90c]\n",
       "cluster E8--><a href=\"psysml:dc92139c-b950-485f-92a5-3d6f837d8293\" target=\"_top\" title=\"psysml:dc92139c-b950-485f-92a5-3d6f837d8293\" xlink:actuate=\"onRequest\" xlink:href=\"psysml:dc92139c-b950-485f-92a5-3d6f837d8293\" xlink:show=\"new\" xlink:title=\"psysml:dc92139c-b950-485f-92a5-3d6f837d8293\" xlink:type=\"simple\"><rect fill=\"#FFFFFF\" filter=\"url(#feqrzedi2cirt)\" height=\"126\" id=\"E8\" rx=\"10\" ry=\"10\" style=\"stroke: #A80036; stroke-width: 1.5;\" width=\"175\" x=\"728\" y=\"100\"/><rect fill=\"#FEFECE\" height=\"37.9375\" rx=\"10\" ry=\"10\" style=\"stroke: #FEFECE; stroke-width: 1.5;\" width=\"175\" x=\"728\" y=\"100\"/><rect fill=\"#FEFECE\" height=\"10\" style=\"stroke: #FEFECE; stroke-width: 1.5;\" width=\"175\" x=\"728\" y=\"127.9375\"/><rect fill=\"none\" height=\"126\" id=\"E8\" rx=\"10\" ry=\"10\" style=\"stroke: #A80036; stroke-width: 1.5;\" width=\"175\" x=\"728\" y=\"100\"/><text fill=\"#000000\" font-family=\"sans-serif\" font-size=\"12\" font-style=\"italic\" lengthAdjust=\"spacingAndGlyphs\" textLength=\"91\" x=\"770\" y=\"116.1387\">«requirement»</text><text fill=\"#000000\" font-family=\"sans-serif\" font-size=\"12\" lengthAdjust=\"spacingAndGlyphs\" textLength=\"21\" x=\"805\" y=\"130.1074\">r: R</text><line style=\"stroke: #A80036; stroke-width: 1.0;\" x1=\"728\" x2=\"903\" y1=\"137.9375\" y2=\"137.9375\"/></a><g id=\"E1.E2\"><a href=\"psysml:a1b28860-c9a8-4d37-931e-31ae0c14540e\" target=\"_top\" title=\"psysml:a1b28860-c9a8-4d37-931e-31ae0c14540e\" xlink:actuate=\"onRequest\" xlink:href=\"psysml:a1b28860-c9a8-4d37-931e-31ae0c14540e\" xlink:show=\"new\" xlink:title=\"psysml:a1b28860-c9a8-4d37-931e-31ae0c14540e\" xlink:type=\"simple\"><rect fill=\"#FEFECE\" filter=\"url(#feqrzedi2cirt)\" height=\"42.9375\" id=\"E2\" style=\"stroke: #A80036; stroke-width: 1.5;\" width=\"135\" x=\"544.5\" y=\"159\"/><ellipse cx=\"561.75\" cy=\"177.9688\" fill=\"#A52A2A\" rx=\"11\" ry=\"11\" style=\"stroke: #A80036; stroke-width: 1.0;\"/><path d=\"M561.3438,173.7813 L561.3438,181.7656 L562,181.7656 Q563.4375,181.7656 564.0469,180.8594 Q564.6719,179.9375 564.6719,177.7656 Q564.6719,175.5938 564.0469,174.6875 Q563.4375,173.7813 562,173.7813 L561.3438,173.7813 Z M558.8906,171.5781 L561.5156,171.5781 Q564.5469,171.5781 565.875,173.0313 Q567.2188,174.4688 567.2188,177.7656 Q567.2188,181.0625 565.875,182.5156 Q564.5469,183.9688 561.5156,183.9688 L558.8906,183.9688 L558.8906,171.5781 Z \"/><text fill=\"#000000\" font-family=\"sans-serif\" font-size=\"12\" font-style=\"italic\" lengthAdjust=\"spacingAndGlyphs\" textLength=\"102\" x=\"574.25\" y=\"175.1387\">«constraint def»</text><text fill=\"#000000\" font-family=\"sans-serif\" font-size=\"12\" lengthAdjust=\"spacingAndGlyphs\" textLength=\"8\" x=\"621.25\" y=\"189.1074\">C</text></a></g><g id=\"E1.E4\"><a href=\"psysml:a2742730-9bdb-48ea-a333-70a51cef011c\" target=\"_top\" title=\"psysml:a2742730-9bdb-48ea-a333-70a51cef011c\" xlink:actuate=\"onRequest\" xlink:href=\"psysml:a2742730-9bdb-48ea-a333-70a51cef011c\" xlink:show=\"new\" xlink:title=\"psysml:a2742730-9bdb-48ea-a333-70a51cef011c\" xlink:type=\"simple\"><rect fill=\"#FEFECE\" filter=\"url(#feqrzedi2cirt)\" height=\"42.9375\" id=\"E4\" style=\"stroke: #A80036; stroke-width: 1.5;\" width=\"148\" x=\"361\" y=\"159\"/><ellipse cx=\"378.25\" cy=\"177.9688\" fill=\"#A52A2A\" rx=\"11\" ry=\"11\" style=\"stroke: #A80036; stroke-width: 1.0;\"/><path d=\"M377.8438,173.7813 L377.8438,181.7656 L378.5,181.7656 Q379.9375,181.7656 380.5469,180.8594 Q381.1719,179.9375 381.1719,177.7656 Q381.1719,175.5938 380.5469,174.6875 Q379.9375,173.7813 378.5,173.7813 L377.8438,173.7813 Z M375.3906,171.5781 L378.0156,171.5781 Q381.0469,171.5781 382.375,173.0313 Q383.7188,174.4688 383.7188,177.7656 Q383.7188,181.0625 382.375,182.5156 Q381.0469,183.9688 378.0156,183.9688 L375.3906,183.9688 L375.3906,171.5781 Z \"/><text fill=\"#000000\" font-family=\"sans-serif\" font-size=\"12\" font-style=\"italic\" lengthAdjust=\"spacingAndGlyphs\" textLength=\"115\" x=\"390.75\" y=\"175.1387\">«requirement def»</text><text fill=\"#000000\" font-family=\"sans-serif\" font-size=\"12\" lengthAdjust=\"spacingAndGlyphs\" textLength=\"8\" x=\"444.25\" y=\"189.1074\">R</text></a></g><g id=\"E1.E5\"><a href=\"psysml:ec52d3df-f8e8-4ac5-95c0-bf3447feb8a5\" target=\"_top\" title=\"psysml:ec52d3df-f8e8-4ac5-95c0-bf3447feb8a5\" xlink:actuate=\"onRequest\" xlink:href=\"psysml:ec52d3df-f8e8-4ac5-95c0-bf3447feb8a5\" xlink:show=\"new\" xlink:title=\"psysml:ec52d3df-f8e8-4ac5-95c0-bf3447feb8a5\" xlink:type=\"simple\"><rect fill=\"#FEFECE\" filter=\"url(#feqrzedi2cirt)\" height=\"42.9375\" id=\"E5\" style=\"stroke: #A80036; stroke-width: 1.5;\" width=\"148\" x=\"178\" y=\"159\"/><ellipse cx=\"195.25\" cy=\"177.9688\" fill=\"#A52A2A\" rx=\"11\" ry=\"11\" style=\"stroke: #A80036; stroke-width: 1.0;\"/><path d=\"M194.8438,173.7813 L194.8438,181.7656 L195.5,181.7656 Q196.9375,181.7656 197.5469,180.8594 Q198.1719,179.9375 198.1719,177.7656 Q198.1719,175.5938 197.5469,174.6875 Q196.9375,173.7813 195.5,173.7813 L194.8438,173.7813 Z M192.3906,171.5781 L195.0156,171.5781 Q198.0469,171.5781 199.375,173.0313 Q200.7188,174.4688 200.7188,177.7656 Q200.7188,181.0625 199.375,182.5156 Q198.0469,183.9688 195.0156,183.9688 L192.3906,183.9688 L192.3906,171.5781 Z \"/><text fill=\"#000000\" font-family=\"sans-serif\" font-size=\"12\" font-style=\"italic\" lengthAdjust=\"spacingAndGlyphs\" textLength=\"115\" x=\"207.75\" y=\"175.1387\">«requirement def»</text><text fill=\"#000000\" font-family=\"sans-serif\" font-size=\"12\" lengthAdjust=\"spacingAndGlyphs\" textLength=\"16\" x=\"257.25\" y=\"189.1074\">R1</text></a></g><g id=\"E1.E3\"><a href=\"psysml:4f6724e1-6261-429d-9c16-1831387bac9b\" target=\"_top\" title=\"psysml:4f6724e1-6261-429d-9c16-1831387bac9b\" xlink:actuate=\"onRequest\" xlink:href=\"psysml:4f6724e1-6261-429d-9c16-1831387bac9b\" xlink:show=\"new\" xlink:title=\"psysml:4f6724e1-6261-429d-9c16-1831387bac9b\" xlink:type=\"simple\"><rect fill=\"#FEFECE\" filter=\"url(#feqrzedi2cirt)\" height=\"42.9375\" id=\"E3\" rx=\"10\" ry=\"10\" style=\"stroke: #A80036; stroke-width: 1.5;\" width=\"111\" x=\"31.5\" y=\"159\"/><ellipse cx=\"48.75\" cy=\"177.9688\" fill=\"#FFA500\" rx=\"11\" ry=\"11\" style=\"stroke: #A80036; stroke-width: 1.0;\"/><path d=\"M44.625,179.8906 L44.625,172.0781 L47.0781,172.0781 L47.0781,180.5156 Q47.0781,181.4375 47.5469,181.9688 Q48.0313,182.5 48.8594,182.5 Q49.7031,182.5 50.1719,181.9688 Q50.6406,181.4375 50.6406,180.5156 L50.6406,172.0781 L53.0938,172.0781 L53.0938,179.8906 Q53.0938,182.4219 52.0938,183.5625 Q51.0938,184.7031 48.8594,184.7031 Q46.6406,184.7031 45.625,183.5625 Q44.625,182.4219 44.625,179.8906 Z \"/><text fill=\"#000000\" font-family=\"sans-serif\" font-size=\"12\" font-style=\"italic\" lengthAdjust=\"spacingAndGlyphs\" textLength=\"78\" x=\"61.25\" y=\"175.1387\">«constraint»</text><text fill=\"#000000\" font-family=\"sans-serif\" font-size=\"12\" lengthAdjust=\"spacingAndGlyphs\" textLength=\"23\" x=\"88.75\" y=\"189.1074\">c: C</text></a></g><g id=\"E1.E6\"><a href=\"psysml:b85d82e7-3bb2-4c49-b03c-5a9b3c771643\" target=\"_top\" title=\"psysml:b85d82e7-3bb2-4c49-b03c-5a9b3c771643\" xlink:actuate=\"onRequest\" xlink:href=\"psysml:b85d82e7-3bb2-4c49-b03c-5a9b3c771643\" xlink:show=\"new\" xlink:title=\"psysml:b85d82e7-3bb2-4c49-b03c-5a9b3c771643\" xlink:type=\"simple\"><rect fill=\"#FEFECE\" filter=\"url(#feqrzedi2cirt)\" height=\"40\" id=\"E6\" rx=\"10\" ry=\"10\" style=\"stroke: #A80036; stroke-width: 1.5;\" width=\"50\" x=\"711\" y=\"299\"/><ellipse cx=\"730.5\" cy=\"315\" fill=\"#B6DBBB\" rx=\"11\" ry=\"11\" style=\"stroke: #A80036; stroke-width: 1.0;\"/><path d=\"M726.375,316.9219 L726.375,309.1094 L728.8281,309.1094 L728.8281,317.5469 Q728.8281,318.4688 729.2969,319 Q729.7813,319.5313 730.6094,319.5313 Q731.4531,319.5313 731.9219,319 Q732.3906,318.4688 732.3906,317.5469 L732.3906,309.1094 L734.8438,309.1094 L734.8438,316.9219 Q734.8438,319.4531 733.8438,320.5938 Q732.8438,321.7344 730.6094,321.7344 Q728.3906,321.7344 727.375,320.5938 Q726.375,319.4531 726.375,316.9219 Z \"/><text fill=\"#000000\" font-family=\"sans-serif\" font-size=\"12\" lengthAdjust=\"spacingAndGlyphs\" textLength=\"8\" x=\"745.5\" y=\"319.1543\">p</text></a></g><g id=\"E1.E7.E8.E9\"><a href=\"psysml:aab203df-2e20-42f3-8553-8efa379fea2d\" target=\"_top\" title=\"psysml:aab203df-2e20-42f3-8553-8efa379fea2d\" xlink:actuate=\"onRequest\" xlink:href=\"psysml:aab203df-2e20-42f3-8553-8efa379fea2d\" xlink:show=\"new\" xlink:title=\"psysml:aab203df-2e20-42f3-8553-8efa379fea2d\" xlink:type=\"simple\"><rect fill=\"#FEFECE\" filter=\"url(#feqrzedi2cirt)\" height=\"42.9375\" id=\"E9\" rx=\"10\" ry=\"10\" style=\"stroke: #A80036; stroke-width: 1.5;\" width=\"108\" x=\"771\" y=\"159\"/><ellipse cx=\"788.25\" cy=\"177.9688\" fill=\"#FFA500\" rx=\"11\" ry=\"11\" style=\"stroke: #A80036; stroke-width: 1.0;\"/><path d=\"M784.125,179.8906 L784.125,172.0781 L786.5781,172.0781 L786.5781,180.5156 Q786.5781,181.4375 787.0469,181.9688 Q787.5313,182.5 788.3594,182.5 Q789.2031,182.5 789.6719,181.9688 Q790.1406,181.4375 790.1406,180.5156 L790.1406,172.0781 L792.5938,172.0781 L792.5938,179.8906 Q792.5938,182.4219 791.5938,183.5625 Q790.5938,184.7031 788.3594,184.7031 Q786.1406,184.7031 785.125,183.5625 Q784.125,182.4219 784.125,179.8906 Z \"/><text fill=\"#000000\" font-family=\"sans-serif\" font-size=\"12\" font-style=\"italic\" lengthAdjust=\"spacingAndGlyphs\" textLength=\"75\" x=\"800.75\" y=\"175.1387\">«reference»</text><text fill=\"#000000\" font-family=\"sans-serif\" font-size=\"12\" lengthAdjust=\"spacingAndGlyphs\" textLength=\"26\" x=\"825.25\" y=\"189.1074\">subj</text></a></g><!--MD5=[c5e8897d989ce984f93528998a7150fe]\n",
       "link E8 to E6--><a href=\"psysml:ed40ce07-1501-496b-adae-3639fe39f1e8\" target=\"_top\" title=\"psysml:ed40ce07-1501-496b-adae-3639fe39f1e8\" xlink:actuate=\"onRequest\" xlink:href=\"psysml:ed40ce07-1501-496b-adae-3639fe39f1e8\" xlink:show=\"new\" xlink:title=\"psysml:ed40ce07-1501-496b-adae-3639fe39f1e8\" xlink:type=\"simple\"><path d=\"M736,226.4501 C736,227.1713 736,227.8965 736,228.6252 C736,230.0826 736,231.5543 736,233.0372 C736,236.003 736,239.0136 736,242.0448 C736,248.1072 736,254.2518 736,260.2839 C736,272.3481 736,283.9625 736,293.57 \" fill=\"none\" id=\"E8-&gt;E6\" style=\"stroke: #A80036; stroke-width: 1.0; stroke-dasharray: 7.0,7.0;\"/><polygon fill=\"#A80036\" points=\"736,298.99,740,289.99,736,293.99,732,289.99,736,298.99\" style=\"stroke: #A80036; stroke-width: 1.0;\"/><text fill=\"#000000\" font-family=\"sans-serif\" font-size=\"13\" lengthAdjust=\"spacingAndGlyphs\" textLength=\"57\" x=\"737\" y=\"287.0669\">«satisfy»</text></a><!--MD5=[410e29a3b6d919d915bb1008c7b8370c]\n",
       "@startuml\r\n",
       "skinparam ranksep 8\r\n",
       "skinparam rectangle {\r\n",
       " backgroundColor<<block>> LightGreen\r\n",
       "}\r\n",
       " \r\n",
       "package \"RequirementTest\" as E1  [[psysml:32d2418d-b451-4172-b0c3-f203713ef4c8 ]]  {\r\n",
       "def \"C\" as E2  <<(D,brown)constraint def>> [[psysml:a1b28860-c9a8-4d37-931e-31ae0c14540e ]] \r\n",
       "rec usage \"c: C\" as E3  <<(U,orange)constraint>> [[psysml:4f6724e1-6261-429d-9c16-1831387bac9b ]] {\r\n",
       "}\r\n",
       "def \"R\" as E4  <<(D,brown)requirement def>> [[psysml:a2742730-9bdb-48ea-a333-70a51cef011c ]] \r\n",
       "def \"R1\" as E5  <<(D,brown)requirement def>> [[psysml:ec52d3df-f8e8-4ac5-95c0-bf3447feb8a5 ]] \r\n",
       "rec usage \"p\" as E6  [[psysml:b85d82e7-3bb2-4c49-b03c-5a9b3c771643 ]] {\r\n",
       "}\r\n",
       "rec usage \"q\" as E7  [[psysml:f6ed6b0e-7205-4bca-ba49-af9a51c8942a ]] {\r\n",
       "rec usage \"r: R\" as E8  <<(U,orange)requirement>> [[psysml:dc92139c-b950-485f-92a5-3d6f837d8293 ]] {\r\n",
       "rec usage \"subj\" as E9  <<(U,orange)reference>> [[psysml:aab203df-2e20-42f3-8553-8efa379fea2d ]] {\r\n",
       "}\r\n",
       "}\r\n",
       "}\r\n",
       "E8 ..> E6 [[psysml:ed40ce07-1501-496b-adae-3639fe39f1e8 ]] : <<satisfy>>\r\n",
       "}\r\n",
       "@enduml\r\n",
       "\n",
       "PlantUML version 1.2020.13(Sat Jun 13 12:26:38 UTC 2020)\n",
       "(EPL source distribution)\n",
       "Java Runtime: OpenJDK Runtime Environment\n",
       "JVM: OpenJDK 64-Bit Server VM\n",
       "Default Encoding: UTF-8\n",
       "Language: en\n",
       "Country: null\n",
       "--></g></svg>"
      ]
     },
     "execution_count": 33,
     "metadata": {},
     "output_type": "execute_result"
    }
   ],
   "source": [
    "%viz --style=\"PLANTUML\" --view=\"Interconnection\" \"RequirementTest\""
   ]
  },
  {
   "cell_type": "code",
   "execution_count": 34,
   "id": "empirical-exposure",
   "metadata": {
    "execution": {
     "iopub.execute_input": "2021-03-26T13:01:09.764876Z",
     "iopub.status.busy": "2021-03-26T13:01:09.764483Z",
     "iopub.status.idle": "2021-03-26T13:01:09.769237Z",
     "shell.execute_reply": "2021-03-26T13:01:09.768909Z"
    }
   },
   "outputs": [
    {
     "data": {
      "image/svg+xml": [
       "<?xml version=\"1.0\" encoding=\"UTF-8\" standalone=\"no\"?><svg xmlns=\"http://www.w3.org/2000/svg\" xmlns:xlink=\"http://www.w3.org/1999/xlink\" contentScriptType=\"application/ecmascript\" contentStyleType=\"text/css\" height=\"12px\" preserveAspectRatio=\"none\" style=\"width:12px;height:12px;\" version=\"1.1\" viewBox=\"0 0 12 12\" width=\"12px\" zoomAndPan=\"magnify\"><defs/><g><!--MD5=[6a4cb978cab31700e1ce5529f947a75d]\n",
       "@startuml\r\n",
       "skinparam ranksep 8\r\n",
       " \r\n",
       "@enduml\r\n",
       "\n",
       "PlantUML version 1.2020.13(Sat Jun 13 12:26:38 UTC 2020)\n",
       "(EPL source distribution)\n",
       "Java Runtime: OpenJDK Runtime Environment\n",
       "JVM: OpenJDK 64-Bit Server VM\n",
       "Default Encoding: UTF-8\n",
       "Language: en\n",
       "Country: null\n",
       "--></g></svg>"
      ]
     },
     "execution_count": 34,
     "metadata": {},
     "output_type": "execute_result"
    }
   ],
   "source": [
    "%viz --style=\"PLANTUML\" --view=\"Action\" \"RequirementTest\""
   ]
  },
  {
   "cell_type": "code",
   "execution_count": 35,
   "id": "chemical-dispatch",
   "metadata": {
    "execution": {
     "iopub.execute_input": "2021-03-26T13:01:09.821082Z",
     "iopub.status.busy": "2021-03-26T13:01:09.820614Z",
     "iopub.status.idle": "2021-03-26T13:01:09.906117Z",
     "shell.execute_reply": "2021-03-26T13:01:09.904297Z"
    }
   },
   "outputs": [
    {
     "data": {
      "image/svg+xml": [
       "<?xml version=\"1.0\" encoding=\"UTF-8\" standalone=\"no\"?><svg xmlns=\"http://www.w3.org/2000/svg\" xmlns:xlink=\"http://www.w3.org/1999/xlink\" contentScriptType=\"application/ecmascript\" contentStyleType=\"text/css\" height=\"578px\" preserveAspectRatio=\"none\" style=\"width:460px;height:578px;\" version=\"1.1\" viewBox=\"0 0 460 578\" width=\"460px\" zoomAndPan=\"magnify\"><defs><filter height=\"300%\" id=\"fssvuh9doakyd\" width=\"300%\" x=\"-1\" y=\"-1\"><feGaussianBlur result=\"blurOut\" stdDeviation=\"2.0\"/><feColorMatrix in=\"blurOut\" result=\"blurOut2\" type=\"matrix\" values=\"0 0 0 0 0 0 0 0 0 0 0 0 0 0 0 0 0 0 .4 0\"/><feOffset dx=\"4.0\" dy=\"4.0\" in=\"blurOut2\" result=\"blurOut3\"/><feBlend in=\"SourceGraphic\" in2=\"blurOut3\" mode=\"normal\"/></filter></defs><g><!--MD5=[fbc87193dbaf4d95561dea2c320d4a47]\n",
       "cluster E1--><a href=\"psysml:32d2418d-b451-4172-b0c3-f203713ef4c8\" target=\"_top\" title=\"psysml:32d2418d-b451-4172-b0c3-f203713ef4c8\" xlink:actuate=\"onRequest\" xlink:href=\"psysml:32d2418d-b451-4172-b0c3-f203713ef4c8\" xlink:show=\"new\" xlink:title=\"psysml:32d2418d-b451-4172-b0c3-f203713ef4c8\" xlink:type=\"simple\"><polygon fill=\"#FFFFFF\" filter=\"url(#fssvuh9doakyd)\" points=\"16,6,158,6,165,28.2969,438,28.2969,438,566,16,566,16,6\" style=\"stroke: #000000; stroke-width: 1.5;\"/><line style=\"stroke: #000000; stroke-width: 1.5;\" x1=\"16\" x2=\"165\" y1=\"28.2969\" y2=\"28.2969\"/><text fill=\"#000000\" font-family=\"sans-serif\" font-size=\"14\" font-weight=\"bold\" lengthAdjust=\"spacingAndGlyphs\" textLength=\"136\" x=\"20\" y=\"20.9951\">RequirementTest</text></a><!--MD5=[b4997ac47864f28c2f74865a473b2911]\n",
       "class E2--><a href=\"psysml:a1b28860-c9a8-4d37-931e-31ae0c14540e\" target=\"_top\" title=\"psysml:a1b28860-c9a8-4d37-931e-31ae0c14540e\" xlink:actuate=\"onRequest\" xlink:href=\"psysml:a1b28860-c9a8-4d37-931e-31ae0c14540e\" xlink:show=\"new\" xlink:title=\"psysml:a1b28860-c9a8-4d37-931e-31ae0c14540e\" xlink:type=\"simple\"><rect fill=\"#FEFECE\" filter=\"url(#fssvuh9doakyd)\" height=\"45.9375\" id=\"E2\" style=\"stroke: #A80036; stroke-width: 1.5;\" width=\"130\" x=\"292\" y=\"190\"/><ellipse cx=\"307\" cy=\"208.9688\" fill=\"#A52A2A\" rx=\"11\" ry=\"11\" style=\"stroke: #A80036; stroke-width: 1.0;\"/><path d=\"M306.5938,204.7813 L306.5938,212.7656 L307.25,212.7656 Q308.6875,212.7656 309.2969,211.8594 Q309.9219,210.9375 309.9219,208.7656 Q309.9219,206.5938 309.2969,205.6875 Q308.6875,204.7813 307.25,204.7813 L306.5938,204.7813 Z M304.1406,202.5781 L306.7656,202.5781 Q309.7969,202.5781 311.125,204.0313 Q312.4688,205.4688 312.4688,208.7656 Q312.4688,212.0625 311.125,213.5156 Q309.7969,214.9688 306.7656,214.9688 L304.1406,214.9688 L304.1406,202.5781 Z \"/><text fill=\"#000000\" font-family=\"sans-serif\" font-size=\"12\" font-style=\"italic\" lengthAdjust=\"spacingAndGlyphs\" textLength=\"102\" x=\"319\" y=\"206.1387\">«constraint def»</text><text fill=\"#000000\" font-family=\"sans-serif\" font-size=\"12\" lengthAdjust=\"spacingAndGlyphs\" textLength=\"8\" x=\"366\" y=\"220.1074\">C</text><line style=\"stroke: #A80036; stroke-width: 1.5;\" x1=\"293\" x2=\"421\" y1=\"227.9375\" y2=\"227.9375\"/></a><!--MD5=[09b614a08d8cba4a07c9adeb5e0fee81]\n",
       "class E3--><a href=\"psysml:4f6724e1-6261-429d-9c16-1831387bac9b\" target=\"_top\" title=\"psysml:4f6724e1-6261-429d-9c16-1831387bac9b\" xlink:actuate=\"onRequest\" xlink:href=\"psysml:4f6724e1-6261-429d-9c16-1831387bac9b\" xlink:show=\"new\" xlink:title=\"psysml:4f6724e1-6261-429d-9c16-1831387bac9b\" xlink:type=\"simple\"><rect fill=\"#FEFECE\" filter=\"url(#fssvuh9doakyd)\" height=\"45.9375\" id=\"E3\" rx=\"10\" ry=\"10\" style=\"stroke: #A80036; stroke-width: 1.5;\" width=\"106\" x=\"316\" y=\"62\"/><ellipse cx=\"331\" cy=\"80.9688\" fill=\"#FFA500\" rx=\"11\" ry=\"11\" style=\"stroke: #A80036; stroke-width: 1.0;\"/><path d=\"M326.875,82.8906 L326.875,75.0781 L329.3281,75.0781 L329.3281,83.5156 Q329.3281,84.4375 329.7969,84.9688 Q330.2813,85.5 331.1094,85.5 Q331.9531,85.5 332.4219,84.9688 Q332.8906,84.4375 332.8906,83.5156 L332.8906,75.0781 L335.3438,75.0781 L335.3438,82.8906 Q335.3438,85.4219 334.3438,86.5625 Q333.3438,87.7031 331.1094,87.7031 Q328.8906,87.7031 327.875,86.5625 Q326.875,85.4219 326.875,82.8906 Z \"/><text fill=\"#000000\" font-family=\"sans-serif\" font-size=\"12\" font-style=\"italic\" lengthAdjust=\"spacingAndGlyphs\" textLength=\"78\" x=\"343\" y=\"78.1387\">«constraint»</text><text fill=\"#000000\" font-family=\"sans-serif\" font-size=\"12\" lengthAdjust=\"spacingAndGlyphs\" textLength=\"23\" x=\"370.5\" y=\"92.1074\">c: C</text><line style=\"stroke: #A80036; stroke-width: 1.5;\" x1=\"317\" x2=\"421\" y1=\"99.9375\" y2=\"99.9375\"/></a><!--MD5=[ebbe1d658d1005bcc118a6aa81145e00]\n",
       "class E4--><a href=\"psysml:a2742730-9bdb-48ea-a333-70a51cef011c\" target=\"_top\" title=\"psysml:a2742730-9bdb-48ea-a333-70a51cef011c\" xlink:actuate=\"onRequest\" xlink:href=\"psysml:a2742730-9bdb-48ea-a333-70a51cef011c\" xlink:show=\"new\" xlink:title=\"psysml:a2742730-9bdb-48ea-a333-70a51cef011c\" xlink:type=\"simple\"><rect fill=\"#FEFECE\" filter=\"url(#fssvuh9doakyd)\" height=\"109.1563\" id=\"E4\" style=\"stroke: #A80036; stroke-width: 1.5;\" width=\"143\" x=\"32.5\" y=\"313\"/><ellipse cx=\"47.5\" cy=\"331.9688\" fill=\"#A52A2A\" rx=\"11\" ry=\"11\" style=\"stroke: #A80036; stroke-width: 1.0;\"/><path d=\"M47.0938,327.7813 L47.0938,335.7656 L47.75,335.7656 Q49.1875,335.7656 49.7969,334.8594 Q50.4219,333.9375 50.4219,331.7656 Q50.4219,329.5938 49.7969,328.6875 Q49.1875,327.7813 47.75,327.7813 L47.0938,327.7813 Z M44.6406,325.5781 L47.2656,325.5781 Q50.2969,325.5781 51.625,327.0313 Q52.9688,328.4688 52.9688,331.7656 Q52.9688,335.0625 51.625,336.5156 Q50.2969,337.9688 47.2656,337.9688 L44.6406,337.9688 L44.6406,325.5781 Z \"/><text fill=\"#000000\" font-family=\"sans-serif\" font-size=\"12\" font-style=\"italic\" lengthAdjust=\"spacingAndGlyphs\" textLength=\"115\" x=\"59.5\" y=\"329.1387\">«requirement def»</text><text fill=\"#000000\" font-family=\"sans-serif\" font-size=\"12\" lengthAdjust=\"spacingAndGlyphs\" textLength=\"8\" x=\"113\" y=\"343.1074\">R</text><line style=\"stroke: #A80036; stroke-width: 1.5;\" x1=\"33.5\" x2=\"174.5\" y1=\"350.9375\" y2=\"350.9375\"/><text fill=\"#000000\" font-family=\"sans-serif\" font-size=\"11\" lengthAdjust=\"spacingAndGlyphs\" textLength=\"0\" x=\"42.5\" y=\"365.1479\"/><line style=\"stroke: #A80036; stroke-width: 1.0;\" x1=\"33.5\" x2=\"174.5\" y1=\"371.7422\" y2=\"371.7422\"/><text fill=\"#000000\" font-family=\"sans-serif\" font-size=\"11\" font-weight=\"bold\" lengthAdjust=\"spacingAndGlyphs\" textLength=\"46\" x=\"38.5\" y=\"402.7573\">require</text><text fill=\"#000000\" font-family=\"sans-serif\" font-size=\"11\" lengthAdjust=\"spacingAndGlyphs\" textLength=\"6\" x=\"88.5\" y=\"402.7573\">c</text><text fill=\"#000000\" font-family=\"sans-serif\" font-size=\"11\" font-style=\"italic\" lengthAdjust=\"spacingAndGlyphs\" textLength=\"46\" x=\"38.5\" y=\"415.562\">assume</text><text fill=\"#000000\" font-family=\"sans-serif\" font-size=\"11\" lengthAdjust=\"spacingAndGlyphs\" textLength=\"29\" x=\"88.5\" y=\"415.562\">c1: C</text><line style=\"stroke: #A80036; stroke-width: 1.0;\" x1=\"33.5\" x2=\"72\" y1=\"386.1445\" y2=\"386.1445\"/><text fill=\"#000000\" font-family=\"sans-serif\" font-size=\"11\" lengthAdjust=\"spacingAndGlyphs\" textLength=\"64\" x=\"72\" y=\"389.4526\">constraints</text><line style=\"stroke: #A80036; stroke-width: 1.0;\" x1=\"136\" x2=\"174.5\" y1=\"386.1445\" y2=\"386.1445\"/></a><!--MD5=[270fce915f116d4de14055a7c1d9a0f3]\n",
       "class E5--><a href=\"psysml:56458fbc-ce11-45ea-8fa2-2092e0cfc05c\" target=\"_top\" title=\"psysml:56458fbc-ce11-45ea-8fa2-2092e0cfc05c\" xlink:actuate=\"onRequest\" xlink:href=\"psysml:56458fbc-ce11-45ea-8fa2-2092e0cfc05c\" xlink:show=\"new\" xlink:title=\"psysml:56458fbc-ce11-45ea-8fa2-2092e0cfc05c\" xlink:type=\"simple\"><rect fill=\"#FEFECE\" filter=\"url(#fssvuh9doakyd)\" height=\"66.7422\" id=\"E5\" style=\"stroke: #A80036; stroke-width: 1.5;\" width=\"143\" x=\"32.5\" y=\"483\"/><ellipse cx=\"47.5\" cy=\"501.9688\" fill=\"#A52A2A\" rx=\"11\" ry=\"11\" style=\"stroke: #A80036; stroke-width: 1.0;\"/><path d=\"M47.0938,497.7813 L47.0938,505.7656 L47.75,505.7656 Q49.1875,505.7656 49.7969,504.8594 Q50.4219,503.9375 50.4219,501.7656 Q50.4219,499.5938 49.7969,498.6875 Q49.1875,497.7813 47.75,497.7813 L47.0938,497.7813 Z M44.6406,495.5781 L47.2656,495.5781 Q50.2969,495.5781 51.625,497.0313 Q52.9688,498.4688 52.9688,501.7656 Q52.9688,505.0625 51.625,506.5156 Q50.2969,507.9688 47.2656,507.9688 L44.6406,507.9688 L44.6406,495.5781 Z \"/><text fill=\"#000000\" font-family=\"sans-serif\" font-size=\"12\" font-style=\"italic\" lengthAdjust=\"spacingAndGlyphs\" textLength=\"115\" x=\"59.5\" y=\"499.1387\">«requirement def»</text><text fill=\"#000000\" font-family=\"sans-serif\" font-size=\"12\" lengthAdjust=\"spacingAndGlyphs\" textLength=\"5\" x=\"104\" y=\"513.1074\">[</text><text fill=\"#000000\" font-family=\"sans-serif\" font-size=\"12\" font-weight=\"bold\" lengthAdjust=\"spacingAndGlyphs\" textLength=\"8\" x=\"109\" y=\"513.1074\">1</text><text fill=\"#000000\" font-family=\"sans-serif\" font-size=\"12\" lengthAdjust=\"spacingAndGlyphs\" textLength=\"17\" x=\"117\" y=\"513.1074\">] A</text><line style=\"stroke: #A80036; stroke-width: 1.5;\" x1=\"33.5\" x2=\"174.5\" y1=\"520.9375\" y2=\"520.9375\"/><text fill=\"#000000\" font-family=\"sans-serif\" font-size=\"11\" lengthAdjust=\"spacingAndGlyphs\" textLength=\"24\" x=\"38.5\" y=\"535.1479\">Text</text><line style=\"stroke: #A80036; stroke-width: 1.0;\" x1=\"33.5\" x2=\"174.5\" y1=\"541.7422\" y2=\"541.7422\"/></a><!--MD5=[b9389687b975829384b498ac4b7476b2]\n",
       "class E8--><a href=\"psysml:72b41e7b-9298-4fd0-92ac-738cc777b35a\" target=\"_top\" title=\"psysml:72b41e7b-9298-4fd0-92ac-738cc777b35a\" xlink:actuate=\"onRequest\" xlink:href=\"psysml:72b41e7b-9298-4fd0-92ac-738cc777b35a\" xlink:show=\"new\" xlink:title=\"psysml:72b41e7b-9298-4fd0-92ac-738cc777b35a\" xlink:type=\"simple\"><rect fill=\"#FEFECE\" filter=\"url(#fssvuh9doakyd)\" height=\"45.9375\" id=\"E8\" rx=\"10\" ry=\"10\" style=\"stroke: #A80036; stroke-width: 1.5;\" width=\"119\" x=\"210.5\" y=\"493.5\"/><ellipse cx=\"225.5\" cy=\"512.4688\" fill=\"#FFA500\" rx=\"11\" ry=\"11\" style=\"stroke: #A80036; stroke-width: 1.0;\"/><path d=\"M221.375,514.3906 L221.375,506.5781 L223.8281,506.5781 L223.8281,515.0156 Q223.8281,515.9375 224.2969,516.4688 Q224.7813,517 225.6094,517 Q226.4531,517 226.9219,516.4688 Q227.3906,515.9375 227.3906,515.0156 L227.3906,506.5781 L229.8438,506.5781 L229.8438,514.3906 Q229.8438,516.9219 228.8438,518.0625 Q227.8438,519.2031 225.6094,519.2031 Q223.3906,519.2031 222.375,518.0625 Q221.375,516.9219 221.375,514.3906 Z \"/><text fill=\"#000000\" font-family=\"sans-serif\" font-size=\"12\" font-style=\"italic\" lengthAdjust=\"spacingAndGlyphs\" textLength=\"91\" x=\"237.5\" y=\"509.6387\">«requirement»</text><text fill=\"#000000\" font-family=\"sans-serif\" font-size=\"12\" lengthAdjust=\"spacingAndGlyphs\" text-decoration=\"line-through\" textLength=\"51\" x=\"257.5\" y=\"523.6074\">noname</text><line style=\"stroke: #A80036; stroke-width: 1.5;\" x1=\"211.5\" x2=\"328.5\" y1=\"531.4375\" y2=\"531.4375\"/></a><!--MD5=[fd4143e9d270a159db93a4ea2a975926]\n",
       "class E9--><a href=\"psysml:ec52d3df-f8e8-4ac5-95c0-bf3447feb8a5\" target=\"_top\" title=\"psysml:ec52d3df-f8e8-4ac5-95c0-bf3447feb8a5\" xlink:actuate=\"onRequest\" xlink:href=\"psysml:ec52d3df-f8e8-4ac5-95c0-bf3447feb8a5\" xlink:show=\"new\" xlink:title=\"psysml:ec52d3df-f8e8-4ac5-95c0-bf3447feb8a5\" xlink:type=\"simple\"><rect fill=\"#FEFECE\" filter=\"url(#fssvuh9doakyd)\" height=\"88.3516\" id=\"E9\" style=\"stroke: #A80036; stroke-width: 1.5;\" width=\"145\" x=\"135.5\" y=\"41\"/><ellipse cx=\"151.4\" cy=\"59.9688\" fill=\"#A52A2A\" rx=\"11\" ry=\"11\" style=\"stroke: #A80036; stroke-width: 1.0;\"/><path d=\"M150.9938,55.7813 L150.9938,63.7656 L151.65,63.7656 Q153.0875,63.7656 153.6969,62.8594 Q154.3219,61.9375 154.3219,59.7656 Q154.3219,57.5938 153.6969,56.6875 Q153.0875,55.7813 151.65,55.7813 L150.9938,55.7813 Z M148.5406,53.5781 L151.1656,53.5781 Q154.1969,53.5781 155.525,55.0313 Q156.8688,56.4688 156.8688,59.7656 Q156.8688,63.0625 155.525,64.5156 Q154.1969,65.9688 151.1656,65.9688 L148.5406,65.9688 L148.5406,53.5781 Z \"/><text fill=\"#000000\" font-family=\"sans-serif\" font-size=\"12\" font-style=\"italic\" lengthAdjust=\"spacingAndGlyphs\" textLength=\"115\" x=\"163.6\" y=\"57.1387\">«requirement def»</text><text fill=\"#000000\" font-family=\"sans-serif\" font-size=\"12\" lengthAdjust=\"spacingAndGlyphs\" textLength=\"16\" x=\"213.1\" y=\"71.1074\">R1</text><line style=\"stroke: #A80036; stroke-width: 1.5;\" x1=\"136.5\" x2=\"279.5\" y1=\"78.9375\" y2=\"78.9375\"/><text fill=\"#000000\" font-family=\"sans-serif\" font-size=\"11\" font-weight=\"bold\" lengthAdjust=\"spacingAndGlyphs\" textLength=\"46\" x=\"141.5\" y=\"109.9526\">require</text><text fill=\"#000000\" font-family=\"sans-serif\" font-size=\"11\" lengthAdjust=\"spacingAndGlyphs\" textLength=\"13\" x=\"191.5\" y=\"109.9526\">c1</text><text fill=\"#000000\" font-family=\"sans-serif\" font-size=\"11\" font-style=\"italic\" lengthAdjust=\"spacingAndGlyphs\" textLength=\"133\" x=\"141.5\" y=\"122.7573\">:&gt;&gt;RequirementTest::c</text><line style=\"stroke: #A80036; stroke-width: 1.0;\" x1=\"136.5\" x2=\"176\" y1=\"93.3398\" y2=\"93.3398\"/><text fill=\"#000000\" font-family=\"sans-serif\" font-size=\"11\" lengthAdjust=\"spacingAndGlyphs\" textLength=\"64\" x=\"176\" y=\"96.6479\">constraints</text><line style=\"stroke: #A80036; stroke-width: 1.0;\" x1=\"240\" x2=\"279.5\" y1=\"93.3398\" y2=\"93.3398\"/></a><!--MD5=[1dd1bfd58a279cf63c5f349dbc8fc6a1]\n",
       "class E11--><a href=\"psysml:b85d82e7-3bb2-4c49-b03c-5a9b3c771643\" target=\"_top\" title=\"psysml:b85d82e7-3bb2-4c49-b03c-5a9b3c771643\" xlink:actuate=\"onRequest\" xlink:href=\"psysml:b85d82e7-3bb2-4c49-b03c-5a9b3c771643\" xlink:show=\"new\" xlink:title=\"psysml:b85d82e7-3bb2-4c49-b03c-5a9b3c771643\" xlink:type=\"simple\"><rect fill=\"#FEFECE\" filter=\"url(#fssvuh9doakyd)\" height=\"45.9375\" id=\"E11\" rx=\"10\" ry=\"10\" style=\"stroke: #A80036; stroke-width: 1.5;\" width=\"68\" x=\"211\" y=\"344.5\"/><ellipse cx=\"226\" cy=\"363.4688\" fill=\"#32CD32\" rx=\"11\" ry=\"11\" style=\"stroke: #A80036; stroke-width: 1.0;\"/><path d=\"M225.7969,359.1406 L225.7969,362.7656 L226.7969,362.7656 Q228,362.7656 228.4844,362.3594 Q228.9688,361.9531 228.9688,360.9531 Q228.9688,359.9531 228.4844,359.5469 Q228,359.1406 226.7969,359.1406 L225.7969,359.1406 Z M223.3438,357.0781 L226.7031,357.0781 Q229.2656,357.0781 230.3906,358 Q231.5156,358.9063 231.5156,360.9531 Q231.5156,363 230.3906,363.9219 Q229.2656,364.8281 226.7031,364.8281 L225.7969,364.8281 L225.7969,369.4688 L223.3438,369.4688 L223.3438,357.0781 Z \"/><text fill=\"#000000\" font-family=\"sans-serif\" font-size=\"12\" font-style=\"italic\" lengthAdjust=\"spacingAndGlyphs\" textLength=\"40\" x=\"238\" y=\"360.6387\">«part»</text><text fill=\"#000000\" font-family=\"sans-serif\" font-size=\"12\" lengthAdjust=\"spacingAndGlyphs\" textLength=\"8\" x=\"254\" y=\"374.6074\">p</text><line style=\"stroke: #A80036; stroke-width: 1.5;\" x1=\"212\" x2=\"278\" y1=\"382.4375\" y2=\"382.4375\"/></a><!--MD5=[49a0ec8f00dab7302a31f22d0f0fe584]\n",
       "class E12--><a href=\"psysml:f6ed6b0e-7205-4bca-ba49-af9a51c8942a\" target=\"_top\" title=\"psysml:f6ed6b0e-7205-4bca-ba49-af9a51c8942a\" xlink:actuate=\"onRequest\" xlink:href=\"psysml:f6ed6b0e-7205-4bca-ba49-af9a51c8942a\" xlink:show=\"new\" xlink:title=\"psysml:f6ed6b0e-7205-4bca-ba49-af9a51c8942a\" xlink:type=\"simple\"><rect fill=\"#FEFECE\" filter=\"url(#fssvuh9doakyd)\" height=\"45.9375\" id=\"E12\" rx=\"10\" ry=\"10\" style=\"stroke: #A80036; stroke-width: 1.5;\" width=\"68\" x=\"32\" y=\"62\"/><ellipse cx=\"47\" cy=\"80.9688\" fill=\"#32CD32\" rx=\"11\" ry=\"11\" style=\"stroke: #A80036; stroke-width: 1.0;\"/><path d=\"M46.7969,76.6406 L46.7969,80.2656 L47.7969,80.2656 Q49,80.2656 49.4844,79.8594 Q49.9688,79.4531 49.9688,78.4531 Q49.9688,77.4531 49.4844,77.0469 Q49,76.6406 47.7969,76.6406 L46.7969,76.6406 Z M44.3438,74.5781 L47.7031,74.5781 Q50.2656,74.5781 51.3906,75.5 Q52.5156,76.4063 52.5156,78.4531 Q52.5156,80.5 51.3906,81.4219 Q50.2656,82.3281 47.7031,82.3281 L46.7969,82.3281 L46.7969,86.9688 L44.3438,86.9688 L44.3438,74.5781 Z \"/><text fill=\"#000000\" font-family=\"sans-serif\" font-size=\"12\" font-style=\"italic\" lengthAdjust=\"spacingAndGlyphs\" textLength=\"40\" x=\"59\" y=\"78.1387\">«part»</text><text fill=\"#000000\" font-family=\"sans-serif\" font-size=\"12\" lengthAdjust=\"spacingAndGlyphs\" textLength=\"8\" x=\"75\" y=\"92.1074\">q</text><line style=\"stroke: #A80036; stroke-width: 1.5;\" x1=\"33\" x2=\"99\" y1=\"99.9375\" y2=\"99.9375\"/></a><!--MD5=[ee3c913d1a06f366521f9ef512b67efe]\n",
       "class E13--><a href=\"psysml:dc92139c-b950-485f-92a5-3d6f837d8293\" target=\"_top\" title=\"psysml:dc92139c-b950-485f-92a5-3d6f837d8293\" xlink:actuate=\"onRequest\" xlink:href=\"psysml:dc92139c-b950-485f-92a5-3d6f837d8293\" xlink:show=\"new\" xlink:title=\"psysml:dc92139c-b950-485f-92a5-3d6f837d8293\" xlink:type=\"simple\"><rect fill=\"#FEFECE\" filter=\"url(#fssvuh9doakyd)\" height=\"45.9375\" id=\"E13\" rx=\"10\" ry=\"10\" style=\"stroke: #A80036; stroke-width: 1.5;\" width=\"119\" x=\"44.5\" y=\"190\"/><ellipse cx=\"59.5\" cy=\"208.9688\" fill=\"#FFA500\" rx=\"11\" ry=\"11\" style=\"stroke: #A80036; stroke-width: 1.0;\"/><path d=\"M55.375,210.8906 L55.375,203.0781 L57.8281,203.0781 L57.8281,211.5156 Q57.8281,212.4375 58.2969,212.9688 Q58.7813,213.5 59.6094,213.5 Q60.4531,213.5 60.9219,212.9688 Q61.3906,212.4375 61.3906,211.5156 L61.3906,203.0781 L63.8438,203.0781 L63.8438,210.8906 Q63.8438,213.4219 62.8438,214.5625 Q61.8438,215.7031 59.6094,215.7031 Q57.3906,215.7031 56.375,214.5625 Q55.375,213.4219 55.375,210.8906 Z \"/><text fill=\"#000000\" font-family=\"sans-serif\" font-size=\"12\" font-style=\"italic\" lengthAdjust=\"spacingAndGlyphs\" textLength=\"91\" x=\"71.5\" y=\"206.1387\">«requirement»</text><text fill=\"#000000\" font-family=\"sans-serif\" font-size=\"12\" lengthAdjust=\"spacingAndGlyphs\" textLength=\"21\" x=\"106.5\" y=\"220.1074\">r: R</text><line style=\"stroke: #A80036; stroke-width: 1.5;\" x1=\"45.5\" x2=\"162.5\" y1=\"227.9375\" y2=\"227.9375\"/></a><!--MD5=[05d275557350bfb9b23a4ef7222b4c39]\n",
       "link E3 to E2--><a href=\"psysml:9201001b-4e3f-46f0-8224-89e70f802e39\" target=\"_top\" title=\"psysml:9201001b-4e3f-46f0-8224-89e70f802e39\" xlink:actuate=\"onRequest\" xlink:href=\"psysml:9201001b-4e3f-46f0-8224-89e70f802e39\" xlink:show=\"new\" xlink:title=\"psysml:9201001b-4e3f-46f0-8224-89e70f802e39\" xlink:type=\"simple\"><path d=\"M366.88,108.24 C365.26,125.24 362.98,149.19 361.02,169.79 \" fill=\"none\" id=\"E3-&gt;E2\" style=\"stroke: #A80036; stroke-width: 1.0;\"/><polygon fill=\"#FFFFFF\" points=\"359.1,189.99,353.9362,170.411,367.8729,171.7407,359.1,189.99\" style=\"stroke: #A80036; stroke-width: 1.0;\"/><ellipse cx=\"356.4685\" cy=\"164.9268\" fill=\"#A80036\" rx=\"2\" ry=\"2\" style=\"stroke: #A80036; stroke-width: 1.0;\"/><ellipse cx=\"366.4233\" cy=\"165.8765\" fill=\"#A80036\" rx=\"2\" ry=\"2\" style=\"stroke: #A80036; stroke-width: 1.0;\"/></a><!--MD5=[62aa6af11e70f752912c1cb0466f24f7]\n",
       "reverse link E4 to E5--><a href=\"psysml:56458fbc-ce11-45ea-8fa2-2092e0cfc05c\" target=\"_top\" title=\"psysml:56458fbc-ce11-45ea-8fa2-2092e0cfc05c\" xlink:actuate=\"onRequest\" xlink:href=\"psysml:56458fbc-ce11-45ea-8fa2-2092e0cfc05c\" xlink:show=\"new\" xlink:title=\"psysml:56458fbc-ce11-45ea-8fa2-2092e0cfc05c\" xlink:type=\"simple\"><path d=\"M104,437.45 C104,453.34 104,469.51 104,482.98 \" fill=\"none\" id=\"E4&lt;-E5\" style=\"stroke: #A80036; stroke-width: 1.0;\"/><ellipse cx=\"104\" cy=\"430.4\" fill=\"#FFFFFF\" rx=\"8\" ry=\"8\" style=\"stroke: #A80036; stroke-width: 1.0;\"/><line style=\"stroke: #A80036; stroke-width: 1.0;\" x1=\"104\" x2=\"104\" y1=\"438.4\" y2=\"422.4\"/><line style=\"stroke: #A80036; stroke-width: 1.0;\" x1=\"96\" x2=\"112\" y1=\"430.4\" y2=\"430.4\"/></a><!--MD5=[c6fc7cdb0cabde04948078cf183fa696]\n",
       "reverse link E4 to E8--><a href=\"psysml:72b41e7b-9298-4fd0-92ac-738cc777b35a\" target=\"_top\" title=\"psysml:72b41e7b-9298-4fd0-92ac-738cc777b35a\" xlink:actuate=\"onRequest\" xlink:href=\"psysml:72b41e7b-9298-4fd0-92ac-738cc777b35a\" xlink:show=\"new\" xlink:title=\"psysml:72b41e7b-9298-4fd0-92ac-738cc777b35a\" xlink:type=\"simple\"><path d=\"M174.75,431.16 C199.83,453.36 226.43,476.92 245.13,493.48 \" fill=\"none\" id=\"E4&lt;-E8\" style=\"stroke: #A80036; stroke-width: 1.0;\"/><polygon fill=\"#A80036\" points=\"164.87,422.4,166.7154,429.371,173.86,430.3486,172.0145,423.3776,164.87,422.4\" style=\"stroke: #A80036; stroke-width: 1.0;\"/></a><!--MD5=[062ed86c389d1a88f61c6380d0491e17]\n",
       "reverse link E12 to E13--><a href=\"psysml:dc92139c-b950-485f-92a5-3d6f837d8293\" target=\"_top\" title=\"psysml:dc92139c-b950-485f-92a5-3d6f837d8293\" xlink:actuate=\"onRequest\" xlink:href=\"psysml:dc92139c-b950-485f-92a5-3d6f837d8293\" xlink:show=\"new\" xlink:title=\"psysml:dc92139c-b950-485f-92a5-3d6f837d8293\" xlink:type=\"simple\"><path d=\"M76.49,120.8 C83.17,142.92 91.6,170.89 97.36,189.99 \" fill=\"none\" id=\"E12&lt;-E13\" style=\"stroke: #A80036; stroke-width: 1.0;\"/><polygon fill=\"#A80036\" points=\"72.71,108.24,70.6129,115.1394,76.1751,119.7288,78.2722,112.8294,72.71,108.24\" style=\"stroke: #A80036; stroke-width: 1.0;\"/></a><!--MD5=[017847e01ff9a8bd19f247411074f987]\n",
       "link E13 to E4--><a href=\"psysml:84833459-b0b4-497f-8a66-9d75104fb430\" target=\"_top\" title=\"psysml:84833459-b0b4-497f-8a66-9d75104fb430\" xlink:actuate=\"onRequest\" xlink:href=\"psysml:84833459-b0b4-497f-8a66-9d75104fb430\" xlink:show=\"new\" xlink:title=\"psysml:84833459-b0b4-497f-8a66-9d75104fb430\" xlink:type=\"simple\"><path d=\"M104,236.17 C104,251.17 104,271.91 104,292.44 \" fill=\"none\" id=\"E13-&gt;E4\" style=\"stroke: #A80036; stroke-width: 1.0;\"/><polygon fill=\"#FFFFFF\" points=\"104,312.68,97,293.68,111,293.68,104,312.68\" style=\"stroke: #A80036; stroke-width: 1.0;\"/><ellipse cx=\"99\" cy=\"287.98\" fill=\"#A80036\" rx=\"2\" ry=\"2\" style=\"stroke: #A80036; stroke-width: 1.0;\"/><ellipse cx=\"109\" cy=\"287.98\" fill=\"#A80036\" rx=\"2\" ry=\"2\" style=\"stroke: #A80036; stroke-width: 1.0;\"/></a><!--MD5=[2cfe899c895462254056921bfb67315f]\n",
       "link E13 to E11--><a href=\"psysml:ed40ce07-1501-496b-adae-3639fe39f1e8\" target=\"_top\" title=\"psysml:ed40ce07-1501-496b-adae-3639fe39f1e8\" xlink:actuate=\"onRequest\" xlink:href=\"psysml:ed40ce07-1501-496b-adae-3639fe39f1e8\" xlink:show=\"new\" xlink:title=\"psysml:ed40ce07-1501-496b-adae-3639fe39f1e8\" xlink:type=\"simple\"><path d=\"M124.5,236.17 C150.09,263.85 193.77,311.09 220.92,340.45 \" fill=\"none\" id=\"E13-&gt;E11\" style=\"stroke: #A80036; stroke-width: 1.0; stroke-dasharray: 7.0,7.0;\"/><polygon fill=\"#A80036\" points=\"224.47,344.3,221.2896,334.9788,221.0727,340.6315,215.42,340.4145,224.47,344.3\" style=\"stroke: #A80036; stroke-width: 1.0;\"/><text fill=\"#000000\" font-family=\"sans-serif\" font-size=\"13\" lengthAdjust=\"spacingAndGlyphs\" textLength=\"57\" x=\"167\" y=\"279.0669\">«satisfy»</text></a><!--MD5=[3649d7ace99d1b8c6c6714739cd31281]\n",
       "@startuml\r\n",
       " \r\n",
       "package \"RequirementTest\" as E1  [[psysml:32d2418d-b451-4172-b0c3-f203713ef4c8 ]]  {\r\n",
       "comp def \"C\" as E2  <<(D,brown)constraint def>> [[psysml:a1b28860-c9a8-4d37-931e-31ae0c14540e ]] {\r\n",
       "}\r\n",
       "comp usage \"c: C\" as E3  <<(U,orange)constraint>> [[psysml:4f6724e1-6261-429d-9c16-1831387bac9b ]] {\r\n",
       "}\r\n",
       "comp def \"R\" as E4  <<(D,brown)requirement def>> [[psysml:a2742730-9bdb-48ea-a333-70a51cef011c ]] {\r\n",
       "\r\n",
       "- -\r\n",
       "- - constraints - -\r\n",
       "<b>require</b> c\r\n",
       "<i>assume</i> c1: C\r\n",
       "}\r\n",
       "comp def \" [<b>1</b>] A\" as E5  <<(D,brown)requirement def>> [[psysml:56458fbc-ce11-45ea-8fa2-2092e0cfc05c ]] {\r\n",
       "Text\r\n",
       "- -\r\n",
       "}\r\n",
       "comp usage \"<s>noname</s>\" as E8  <<(U,orange)requirement>> [[psysml:72b41e7b-9298-4fd0-92ac-738cc777b35a ]] {\r\n",
       "}\r\n",
       "comp def \"R1\" as E9  <<(D,brown)requirement def>> [[psysml:ec52d3df-f8e8-4ac5-95c0-bf3447feb8a5 ]] {\r\n",
       "- - constraints - -\r\n",
       "<b>require</b> c1\\n//:>>RequirementTest::c// \r\n",
       "}\r\n",
       "comp usage \"p\" as E11  << (P,limegreen) part>> [[psysml:b85d82e7-3bb2-4c49-b03c-5a9b3c771643 ]] {\r\n",
       "}\r\n",
       "comp usage \"q\" as E12  << (P,limegreen) part>> [[psysml:f6ed6b0e-7205-4bca-ba49-af9a51c8942a ]] {\r\n",
       "}\r\n",
       "comp usage \"r: R\" as E13  <<(U,orange)requirement>> [[psysml:dc92139c-b950-485f-92a5-3d6f837d8293 ]] {\r\n",
       "}\r\n",
       "E3 - -:|> E2 [[psysml:9201001b-4e3f-46f0-8224-89e70f802e39 ]] \r\n",
       "E4 +- - E5 [[psysml:56458fbc-ce11-45ea-8fa2-2092e0cfc05c ]] \r\n",
       "E4 *- - E8 [[psysml:72b41e7b-9298-4fd0-92ac-738cc777b35a ]] \r\n",
       "E12 *- - E13 [[psysml:dc92139c-b950-485f-92a5-3d6f837d8293 ]] \r\n",
       "E13 - -:|> E4 [[psysml:84833459-b0b4-497f-8a66-9d75104fb430 ]] \r\n",
       "E13 ..> E11 [[psysml:ed40ce07-1501-496b-adae-3639fe39f1e8 ]] : <<satisfy>>\r\n",
       "}\r\n",
       "@enduml\r\n",
       "\n",
       "PlantUML version 1.2020.13(Sat Jun 13 12:26:38 UTC 2020)\n",
       "(EPL source distribution)\n",
       "Java Runtime: OpenJDK Runtime Environment\n",
       "JVM: OpenJDK 64-Bit Server VM\n",
       "Default Encoding: UTF-8\n",
       "Language: en\n",
       "Country: null\n",
       "--></g></svg>"
      ]
     },
     "execution_count": 35,
     "metadata": {},
     "output_type": "execute_result"
    }
   ],
   "source": [
    "%viz --style=\"PLANTUML\" --view=\"Sequence\" \"RequirementTest\""
   ]
  },
  {
   "cell_type": "code",
   "execution_count": 36,
   "id": "durable-paste",
   "metadata": {
    "execution": {
     "iopub.execute_input": "2021-03-26T13:01:09.956393Z",
     "iopub.status.busy": "2021-03-26T13:01:09.955941Z",
     "iopub.status.idle": "2021-03-26T13:01:10.039345Z",
     "shell.execute_reply": "2021-03-26T13:01:10.037862Z"
    }
   },
   "outputs": [
    {
     "data": {
      "image/svg+xml": [
       "<?xml version=\"1.0\" encoding=\"UTF-8\" standalone=\"no\"?><svg xmlns=\"http://www.w3.org/2000/svg\" xmlns:xlink=\"http://www.w3.org/1999/xlink\" contentScriptType=\"application/ecmascript\" contentStyleType=\"text/css\" height=\"578px\" preserveAspectRatio=\"none\" style=\"width:460px;height:578px;\" version=\"1.1\" viewBox=\"0 0 460 578\" width=\"460px\" zoomAndPan=\"magnify\"><defs><filter height=\"300%\" id=\"fssvuh9doakyd\" width=\"300%\" x=\"-1\" y=\"-1\"><feGaussianBlur result=\"blurOut\" stdDeviation=\"2.0\"/><feColorMatrix in=\"blurOut\" result=\"blurOut2\" type=\"matrix\" values=\"0 0 0 0 0 0 0 0 0 0 0 0 0 0 0 0 0 0 .4 0\"/><feOffset dx=\"4.0\" dy=\"4.0\" in=\"blurOut2\" result=\"blurOut3\"/><feBlend in=\"SourceGraphic\" in2=\"blurOut3\" mode=\"normal\"/></filter></defs><g><!--MD5=[fbc87193dbaf4d95561dea2c320d4a47]\n",
       "cluster E1--><a href=\"psysml:32d2418d-b451-4172-b0c3-f203713ef4c8\" target=\"_top\" title=\"psysml:32d2418d-b451-4172-b0c3-f203713ef4c8\" xlink:actuate=\"onRequest\" xlink:href=\"psysml:32d2418d-b451-4172-b0c3-f203713ef4c8\" xlink:show=\"new\" xlink:title=\"psysml:32d2418d-b451-4172-b0c3-f203713ef4c8\" xlink:type=\"simple\"><polygon fill=\"#FFFFFF\" filter=\"url(#fssvuh9doakyd)\" points=\"16,6,158,6,165,28.2969,438,28.2969,438,566,16,566,16,6\" style=\"stroke: #000000; stroke-width: 1.5;\"/><line style=\"stroke: #000000; stroke-width: 1.5;\" x1=\"16\" x2=\"165\" y1=\"28.2969\" y2=\"28.2969\"/><text fill=\"#000000\" font-family=\"sans-serif\" font-size=\"14\" font-weight=\"bold\" lengthAdjust=\"spacingAndGlyphs\" textLength=\"136\" x=\"20\" y=\"20.9951\">RequirementTest</text></a><!--MD5=[b4997ac47864f28c2f74865a473b2911]\n",
       "class E2--><a href=\"psysml:a1b28860-c9a8-4d37-931e-31ae0c14540e\" target=\"_top\" title=\"psysml:a1b28860-c9a8-4d37-931e-31ae0c14540e\" xlink:actuate=\"onRequest\" xlink:href=\"psysml:a1b28860-c9a8-4d37-931e-31ae0c14540e\" xlink:show=\"new\" xlink:title=\"psysml:a1b28860-c9a8-4d37-931e-31ae0c14540e\" xlink:type=\"simple\"><rect fill=\"#FEFECE\" filter=\"url(#fssvuh9doakyd)\" height=\"45.9375\" id=\"E2\" style=\"stroke: #A80036; stroke-width: 1.5;\" width=\"130\" x=\"292\" y=\"190\"/><ellipse cx=\"307\" cy=\"208.9688\" fill=\"#A52A2A\" rx=\"11\" ry=\"11\" style=\"stroke: #A80036; stroke-width: 1.0;\"/><path d=\"M306.5938,204.7813 L306.5938,212.7656 L307.25,212.7656 Q308.6875,212.7656 309.2969,211.8594 Q309.9219,210.9375 309.9219,208.7656 Q309.9219,206.5938 309.2969,205.6875 Q308.6875,204.7813 307.25,204.7813 L306.5938,204.7813 Z M304.1406,202.5781 L306.7656,202.5781 Q309.7969,202.5781 311.125,204.0313 Q312.4688,205.4688 312.4688,208.7656 Q312.4688,212.0625 311.125,213.5156 Q309.7969,214.9688 306.7656,214.9688 L304.1406,214.9688 L304.1406,202.5781 Z \"/><text fill=\"#000000\" font-family=\"sans-serif\" font-size=\"12\" font-style=\"italic\" lengthAdjust=\"spacingAndGlyphs\" textLength=\"102\" x=\"319\" y=\"206.1387\">«constraint def»</text><text fill=\"#000000\" font-family=\"sans-serif\" font-size=\"12\" lengthAdjust=\"spacingAndGlyphs\" textLength=\"8\" x=\"366\" y=\"220.1074\">C</text><line style=\"stroke: #A80036; stroke-width: 1.5;\" x1=\"293\" x2=\"421\" y1=\"227.9375\" y2=\"227.9375\"/></a><!--MD5=[09b614a08d8cba4a07c9adeb5e0fee81]\n",
       "class E3--><a href=\"psysml:4f6724e1-6261-429d-9c16-1831387bac9b\" target=\"_top\" title=\"psysml:4f6724e1-6261-429d-9c16-1831387bac9b\" xlink:actuate=\"onRequest\" xlink:href=\"psysml:4f6724e1-6261-429d-9c16-1831387bac9b\" xlink:show=\"new\" xlink:title=\"psysml:4f6724e1-6261-429d-9c16-1831387bac9b\" xlink:type=\"simple\"><rect fill=\"#FEFECE\" filter=\"url(#fssvuh9doakyd)\" height=\"45.9375\" id=\"E3\" rx=\"10\" ry=\"10\" style=\"stroke: #A80036; stroke-width: 1.5;\" width=\"106\" x=\"316\" y=\"62\"/><ellipse cx=\"331\" cy=\"80.9688\" fill=\"#FFA500\" rx=\"11\" ry=\"11\" style=\"stroke: #A80036; stroke-width: 1.0;\"/><path d=\"M326.875,82.8906 L326.875,75.0781 L329.3281,75.0781 L329.3281,83.5156 Q329.3281,84.4375 329.7969,84.9688 Q330.2813,85.5 331.1094,85.5 Q331.9531,85.5 332.4219,84.9688 Q332.8906,84.4375 332.8906,83.5156 L332.8906,75.0781 L335.3438,75.0781 L335.3438,82.8906 Q335.3438,85.4219 334.3438,86.5625 Q333.3438,87.7031 331.1094,87.7031 Q328.8906,87.7031 327.875,86.5625 Q326.875,85.4219 326.875,82.8906 Z \"/><text fill=\"#000000\" font-family=\"sans-serif\" font-size=\"12\" font-style=\"italic\" lengthAdjust=\"spacingAndGlyphs\" textLength=\"78\" x=\"343\" y=\"78.1387\">«constraint»</text><text fill=\"#000000\" font-family=\"sans-serif\" font-size=\"12\" lengthAdjust=\"spacingAndGlyphs\" textLength=\"23\" x=\"370.5\" y=\"92.1074\">c: C</text><line style=\"stroke: #A80036; stroke-width: 1.5;\" x1=\"317\" x2=\"421\" y1=\"99.9375\" y2=\"99.9375\"/></a><!--MD5=[ebbe1d658d1005bcc118a6aa81145e00]\n",
       "class E4--><a href=\"psysml:a2742730-9bdb-48ea-a333-70a51cef011c\" target=\"_top\" title=\"psysml:a2742730-9bdb-48ea-a333-70a51cef011c\" xlink:actuate=\"onRequest\" xlink:href=\"psysml:a2742730-9bdb-48ea-a333-70a51cef011c\" xlink:show=\"new\" xlink:title=\"psysml:a2742730-9bdb-48ea-a333-70a51cef011c\" xlink:type=\"simple\"><rect fill=\"#FEFECE\" filter=\"url(#fssvuh9doakyd)\" height=\"109.1563\" id=\"E4\" style=\"stroke: #A80036; stroke-width: 1.5;\" width=\"143\" x=\"32.5\" y=\"313\"/><ellipse cx=\"47.5\" cy=\"331.9688\" fill=\"#A52A2A\" rx=\"11\" ry=\"11\" style=\"stroke: #A80036; stroke-width: 1.0;\"/><path d=\"M47.0938,327.7813 L47.0938,335.7656 L47.75,335.7656 Q49.1875,335.7656 49.7969,334.8594 Q50.4219,333.9375 50.4219,331.7656 Q50.4219,329.5938 49.7969,328.6875 Q49.1875,327.7813 47.75,327.7813 L47.0938,327.7813 Z M44.6406,325.5781 L47.2656,325.5781 Q50.2969,325.5781 51.625,327.0313 Q52.9688,328.4688 52.9688,331.7656 Q52.9688,335.0625 51.625,336.5156 Q50.2969,337.9688 47.2656,337.9688 L44.6406,337.9688 L44.6406,325.5781 Z \"/><text fill=\"#000000\" font-family=\"sans-serif\" font-size=\"12\" font-style=\"italic\" lengthAdjust=\"spacingAndGlyphs\" textLength=\"115\" x=\"59.5\" y=\"329.1387\">«requirement def»</text><text fill=\"#000000\" font-family=\"sans-serif\" font-size=\"12\" lengthAdjust=\"spacingAndGlyphs\" textLength=\"8\" x=\"113\" y=\"343.1074\">R</text><line style=\"stroke: #A80036; stroke-width: 1.5;\" x1=\"33.5\" x2=\"174.5\" y1=\"350.9375\" y2=\"350.9375\"/><text fill=\"#000000\" font-family=\"sans-serif\" font-size=\"11\" lengthAdjust=\"spacingAndGlyphs\" textLength=\"0\" x=\"42.5\" y=\"365.1479\"/><line style=\"stroke: #A80036; stroke-width: 1.0;\" x1=\"33.5\" x2=\"174.5\" y1=\"371.7422\" y2=\"371.7422\"/><text fill=\"#000000\" font-family=\"sans-serif\" font-size=\"11\" font-weight=\"bold\" lengthAdjust=\"spacingAndGlyphs\" textLength=\"46\" x=\"38.5\" y=\"402.7573\">require</text><text fill=\"#000000\" font-family=\"sans-serif\" font-size=\"11\" lengthAdjust=\"spacingAndGlyphs\" textLength=\"6\" x=\"88.5\" y=\"402.7573\">c</text><text fill=\"#000000\" font-family=\"sans-serif\" font-size=\"11\" font-style=\"italic\" lengthAdjust=\"spacingAndGlyphs\" textLength=\"46\" x=\"38.5\" y=\"415.562\">assume</text><text fill=\"#000000\" font-family=\"sans-serif\" font-size=\"11\" lengthAdjust=\"spacingAndGlyphs\" textLength=\"29\" x=\"88.5\" y=\"415.562\">c1: C</text><line style=\"stroke: #A80036; stroke-width: 1.0;\" x1=\"33.5\" x2=\"72\" y1=\"386.1445\" y2=\"386.1445\"/><text fill=\"#000000\" font-family=\"sans-serif\" font-size=\"11\" lengthAdjust=\"spacingAndGlyphs\" textLength=\"64\" x=\"72\" y=\"389.4526\">constraints</text><line style=\"stroke: #A80036; stroke-width: 1.0;\" x1=\"136\" x2=\"174.5\" y1=\"386.1445\" y2=\"386.1445\"/></a><!--MD5=[270fce915f116d4de14055a7c1d9a0f3]\n",
       "class E5--><a href=\"psysml:56458fbc-ce11-45ea-8fa2-2092e0cfc05c\" target=\"_top\" title=\"psysml:56458fbc-ce11-45ea-8fa2-2092e0cfc05c\" xlink:actuate=\"onRequest\" xlink:href=\"psysml:56458fbc-ce11-45ea-8fa2-2092e0cfc05c\" xlink:show=\"new\" xlink:title=\"psysml:56458fbc-ce11-45ea-8fa2-2092e0cfc05c\" xlink:type=\"simple\"><rect fill=\"#FEFECE\" filter=\"url(#fssvuh9doakyd)\" height=\"66.7422\" id=\"E5\" style=\"stroke: #A80036; stroke-width: 1.5;\" width=\"143\" x=\"32.5\" y=\"483\"/><ellipse cx=\"47.5\" cy=\"501.9688\" fill=\"#A52A2A\" rx=\"11\" ry=\"11\" style=\"stroke: #A80036; stroke-width: 1.0;\"/><path d=\"M47.0938,497.7813 L47.0938,505.7656 L47.75,505.7656 Q49.1875,505.7656 49.7969,504.8594 Q50.4219,503.9375 50.4219,501.7656 Q50.4219,499.5938 49.7969,498.6875 Q49.1875,497.7813 47.75,497.7813 L47.0938,497.7813 Z M44.6406,495.5781 L47.2656,495.5781 Q50.2969,495.5781 51.625,497.0313 Q52.9688,498.4688 52.9688,501.7656 Q52.9688,505.0625 51.625,506.5156 Q50.2969,507.9688 47.2656,507.9688 L44.6406,507.9688 L44.6406,495.5781 Z \"/><text fill=\"#000000\" font-family=\"sans-serif\" font-size=\"12\" font-style=\"italic\" lengthAdjust=\"spacingAndGlyphs\" textLength=\"115\" x=\"59.5\" y=\"499.1387\">«requirement def»</text><text fill=\"#000000\" font-family=\"sans-serif\" font-size=\"12\" lengthAdjust=\"spacingAndGlyphs\" textLength=\"5\" x=\"104\" y=\"513.1074\">[</text><text fill=\"#000000\" font-family=\"sans-serif\" font-size=\"12\" font-weight=\"bold\" lengthAdjust=\"spacingAndGlyphs\" textLength=\"8\" x=\"109\" y=\"513.1074\">1</text><text fill=\"#000000\" font-family=\"sans-serif\" font-size=\"12\" lengthAdjust=\"spacingAndGlyphs\" textLength=\"17\" x=\"117\" y=\"513.1074\">] A</text><line style=\"stroke: #A80036; stroke-width: 1.5;\" x1=\"33.5\" x2=\"174.5\" y1=\"520.9375\" y2=\"520.9375\"/><text fill=\"#000000\" font-family=\"sans-serif\" font-size=\"11\" lengthAdjust=\"spacingAndGlyphs\" textLength=\"24\" x=\"38.5\" y=\"535.1479\">Text</text><line style=\"stroke: #A80036; stroke-width: 1.0;\" x1=\"33.5\" x2=\"174.5\" y1=\"541.7422\" y2=\"541.7422\"/></a><!--MD5=[b9389687b975829384b498ac4b7476b2]\n",
       "class E8--><a href=\"psysml:72b41e7b-9298-4fd0-92ac-738cc777b35a\" target=\"_top\" title=\"psysml:72b41e7b-9298-4fd0-92ac-738cc777b35a\" xlink:actuate=\"onRequest\" xlink:href=\"psysml:72b41e7b-9298-4fd0-92ac-738cc777b35a\" xlink:show=\"new\" xlink:title=\"psysml:72b41e7b-9298-4fd0-92ac-738cc777b35a\" xlink:type=\"simple\"><rect fill=\"#FEFECE\" filter=\"url(#fssvuh9doakyd)\" height=\"45.9375\" id=\"E8\" rx=\"10\" ry=\"10\" style=\"stroke: #A80036; stroke-width: 1.5;\" width=\"119\" x=\"210.5\" y=\"493.5\"/><ellipse cx=\"225.5\" cy=\"512.4688\" fill=\"#FFA500\" rx=\"11\" ry=\"11\" style=\"stroke: #A80036; stroke-width: 1.0;\"/><path d=\"M221.375,514.3906 L221.375,506.5781 L223.8281,506.5781 L223.8281,515.0156 Q223.8281,515.9375 224.2969,516.4688 Q224.7813,517 225.6094,517 Q226.4531,517 226.9219,516.4688 Q227.3906,515.9375 227.3906,515.0156 L227.3906,506.5781 L229.8438,506.5781 L229.8438,514.3906 Q229.8438,516.9219 228.8438,518.0625 Q227.8438,519.2031 225.6094,519.2031 Q223.3906,519.2031 222.375,518.0625 Q221.375,516.9219 221.375,514.3906 Z \"/><text fill=\"#000000\" font-family=\"sans-serif\" font-size=\"12\" font-style=\"italic\" lengthAdjust=\"spacingAndGlyphs\" textLength=\"91\" x=\"237.5\" y=\"509.6387\">«requirement»</text><text fill=\"#000000\" font-family=\"sans-serif\" font-size=\"12\" lengthAdjust=\"spacingAndGlyphs\" text-decoration=\"line-through\" textLength=\"51\" x=\"257.5\" y=\"523.6074\">noname</text><line style=\"stroke: #A80036; stroke-width: 1.5;\" x1=\"211.5\" x2=\"328.5\" y1=\"531.4375\" y2=\"531.4375\"/></a><!--MD5=[fd4143e9d270a159db93a4ea2a975926]\n",
       "class E9--><a href=\"psysml:ec52d3df-f8e8-4ac5-95c0-bf3447feb8a5\" target=\"_top\" title=\"psysml:ec52d3df-f8e8-4ac5-95c0-bf3447feb8a5\" xlink:actuate=\"onRequest\" xlink:href=\"psysml:ec52d3df-f8e8-4ac5-95c0-bf3447feb8a5\" xlink:show=\"new\" xlink:title=\"psysml:ec52d3df-f8e8-4ac5-95c0-bf3447feb8a5\" xlink:type=\"simple\"><rect fill=\"#FEFECE\" filter=\"url(#fssvuh9doakyd)\" height=\"88.3516\" id=\"E9\" style=\"stroke: #A80036; stroke-width: 1.5;\" width=\"145\" x=\"135.5\" y=\"41\"/><ellipse cx=\"151.4\" cy=\"59.9688\" fill=\"#A52A2A\" rx=\"11\" ry=\"11\" style=\"stroke: #A80036; stroke-width: 1.0;\"/><path d=\"M150.9938,55.7813 L150.9938,63.7656 L151.65,63.7656 Q153.0875,63.7656 153.6969,62.8594 Q154.3219,61.9375 154.3219,59.7656 Q154.3219,57.5938 153.6969,56.6875 Q153.0875,55.7813 151.65,55.7813 L150.9938,55.7813 Z M148.5406,53.5781 L151.1656,53.5781 Q154.1969,53.5781 155.525,55.0313 Q156.8688,56.4688 156.8688,59.7656 Q156.8688,63.0625 155.525,64.5156 Q154.1969,65.9688 151.1656,65.9688 L148.5406,65.9688 L148.5406,53.5781 Z \"/><text fill=\"#000000\" font-family=\"sans-serif\" font-size=\"12\" font-style=\"italic\" lengthAdjust=\"spacingAndGlyphs\" textLength=\"115\" x=\"163.6\" y=\"57.1387\">«requirement def»</text><text fill=\"#000000\" font-family=\"sans-serif\" font-size=\"12\" lengthAdjust=\"spacingAndGlyphs\" textLength=\"16\" x=\"213.1\" y=\"71.1074\">R1</text><line style=\"stroke: #A80036; stroke-width: 1.5;\" x1=\"136.5\" x2=\"279.5\" y1=\"78.9375\" y2=\"78.9375\"/><text fill=\"#000000\" font-family=\"sans-serif\" font-size=\"11\" font-weight=\"bold\" lengthAdjust=\"spacingAndGlyphs\" textLength=\"46\" x=\"141.5\" y=\"109.9526\">require</text><text fill=\"#000000\" font-family=\"sans-serif\" font-size=\"11\" lengthAdjust=\"spacingAndGlyphs\" textLength=\"13\" x=\"191.5\" y=\"109.9526\">c1</text><text fill=\"#000000\" font-family=\"sans-serif\" font-size=\"11\" font-style=\"italic\" lengthAdjust=\"spacingAndGlyphs\" textLength=\"133\" x=\"141.5\" y=\"122.7573\">:&gt;&gt;RequirementTest::c</text><line style=\"stroke: #A80036; stroke-width: 1.0;\" x1=\"136.5\" x2=\"176\" y1=\"93.3398\" y2=\"93.3398\"/><text fill=\"#000000\" font-family=\"sans-serif\" font-size=\"11\" lengthAdjust=\"spacingAndGlyphs\" textLength=\"64\" x=\"176\" y=\"96.6479\">constraints</text><line style=\"stroke: #A80036; stroke-width: 1.0;\" x1=\"240\" x2=\"279.5\" y1=\"93.3398\" y2=\"93.3398\"/></a><!--MD5=[1dd1bfd58a279cf63c5f349dbc8fc6a1]\n",
       "class E11--><a href=\"psysml:b85d82e7-3bb2-4c49-b03c-5a9b3c771643\" target=\"_top\" title=\"psysml:b85d82e7-3bb2-4c49-b03c-5a9b3c771643\" xlink:actuate=\"onRequest\" xlink:href=\"psysml:b85d82e7-3bb2-4c49-b03c-5a9b3c771643\" xlink:show=\"new\" xlink:title=\"psysml:b85d82e7-3bb2-4c49-b03c-5a9b3c771643\" xlink:type=\"simple\"><rect fill=\"#FEFECE\" filter=\"url(#fssvuh9doakyd)\" height=\"45.9375\" id=\"E11\" rx=\"10\" ry=\"10\" style=\"stroke: #A80036; stroke-width: 1.5;\" width=\"68\" x=\"211\" y=\"344.5\"/><ellipse cx=\"226\" cy=\"363.4688\" fill=\"#32CD32\" rx=\"11\" ry=\"11\" style=\"stroke: #A80036; stroke-width: 1.0;\"/><path d=\"M225.7969,359.1406 L225.7969,362.7656 L226.7969,362.7656 Q228,362.7656 228.4844,362.3594 Q228.9688,361.9531 228.9688,360.9531 Q228.9688,359.9531 228.4844,359.5469 Q228,359.1406 226.7969,359.1406 L225.7969,359.1406 Z M223.3438,357.0781 L226.7031,357.0781 Q229.2656,357.0781 230.3906,358 Q231.5156,358.9063 231.5156,360.9531 Q231.5156,363 230.3906,363.9219 Q229.2656,364.8281 226.7031,364.8281 L225.7969,364.8281 L225.7969,369.4688 L223.3438,369.4688 L223.3438,357.0781 Z \"/><text fill=\"#000000\" font-family=\"sans-serif\" font-size=\"12\" font-style=\"italic\" lengthAdjust=\"spacingAndGlyphs\" textLength=\"40\" x=\"238\" y=\"360.6387\">«part»</text><text fill=\"#000000\" font-family=\"sans-serif\" font-size=\"12\" lengthAdjust=\"spacingAndGlyphs\" textLength=\"8\" x=\"254\" y=\"374.6074\">p</text><line style=\"stroke: #A80036; stroke-width: 1.5;\" x1=\"212\" x2=\"278\" y1=\"382.4375\" y2=\"382.4375\"/></a><!--MD5=[49a0ec8f00dab7302a31f22d0f0fe584]\n",
       "class E12--><a href=\"psysml:f6ed6b0e-7205-4bca-ba49-af9a51c8942a\" target=\"_top\" title=\"psysml:f6ed6b0e-7205-4bca-ba49-af9a51c8942a\" xlink:actuate=\"onRequest\" xlink:href=\"psysml:f6ed6b0e-7205-4bca-ba49-af9a51c8942a\" xlink:show=\"new\" xlink:title=\"psysml:f6ed6b0e-7205-4bca-ba49-af9a51c8942a\" xlink:type=\"simple\"><rect fill=\"#FEFECE\" filter=\"url(#fssvuh9doakyd)\" height=\"45.9375\" id=\"E12\" rx=\"10\" ry=\"10\" style=\"stroke: #A80036; stroke-width: 1.5;\" width=\"68\" x=\"32\" y=\"62\"/><ellipse cx=\"47\" cy=\"80.9688\" fill=\"#32CD32\" rx=\"11\" ry=\"11\" style=\"stroke: #A80036; stroke-width: 1.0;\"/><path d=\"M46.7969,76.6406 L46.7969,80.2656 L47.7969,80.2656 Q49,80.2656 49.4844,79.8594 Q49.9688,79.4531 49.9688,78.4531 Q49.9688,77.4531 49.4844,77.0469 Q49,76.6406 47.7969,76.6406 L46.7969,76.6406 Z M44.3438,74.5781 L47.7031,74.5781 Q50.2656,74.5781 51.3906,75.5 Q52.5156,76.4063 52.5156,78.4531 Q52.5156,80.5 51.3906,81.4219 Q50.2656,82.3281 47.7031,82.3281 L46.7969,82.3281 L46.7969,86.9688 L44.3438,86.9688 L44.3438,74.5781 Z \"/><text fill=\"#000000\" font-family=\"sans-serif\" font-size=\"12\" font-style=\"italic\" lengthAdjust=\"spacingAndGlyphs\" textLength=\"40\" x=\"59\" y=\"78.1387\">«part»</text><text fill=\"#000000\" font-family=\"sans-serif\" font-size=\"12\" lengthAdjust=\"spacingAndGlyphs\" textLength=\"8\" x=\"75\" y=\"92.1074\">q</text><line style=\"stroke: #A80036; stroke-width: 1.5;\" x1=\"33\" x2=\"99\" y1=\"99.9375\" y2=\"99.9375\"/></a><!--MD5=[ee3c913d1a06f366521f9ef512b67efe]\n",
       "class E13--><a href=\"psysml:dc92139c-b950-485f-92a5-3d6f837d8293\" target=\"_top\" title=\"psysml:dc92139c-b950-485f-92a5-3d6f837d8293\" xlink:actuate=\"onRequest\" xlink:href=\"psysml:dc92139c-b950-485f-92a5-3d6f837d8293\" xlink:show=\"new\" xlink:title=\"psysml:dc92139c-b950-485f-92a5-3d6f837d8293\" xlink:type=\"simple\"><rect fill=\"#FEFECE\" filter=\"url(#fssvuh9doakyd)\" height=\"45.9375\" id=\"E13\" rx=\"10\" ry=\"10\" style=\"stroke: #A80036; stroke-width: 1.5;\" width=\"119\" x=\"44.5\" y=\"190\"/><ellipse cx=\"59.5\" cy=\"208.9688\" fill=\"#FFA500\" rx=\"11\" ry=\"11\" style=\"stroke: #A80036; stroke-width: 1.0;\"/><path d=\"M55.375,210.8906 L55.375,203.0781 L57.8281,203.0781 L57.8281,211.5156 Q57.8281,212.4375 58.2969,212.9688 Q58.7813,213.5 59.6094,213.5 Q60.4531,213.5 60.9219,212.9688 Q61.3906,212.4375 61.3906,211.5156 L61.3906,203.0781 L63.8438,203.0781 L63.8438,210.8906 Q63.8438,213.4219 62.8438,214.5625 Q61.8438,215.7031 59.6094,215.7031 Q57.3906,215.7031 56.375,214.5625 Q55.375,213.4219 55.375,210.8906 Z \"/><text fill=\"#000000\" font-family=\"sans-serif\" font-size=\"12\" font-style=\"italic\" lengthAdjust=\"spacingAndGlyphs\" textLength=\"91\" x=\"71.5\" y=\"206.1387\">«requirement»</text><text fill=\"#000000\" font-family=\"sans-serif\" font-size=\"12\" lengthAdjust=\"spacingAndGlyphs\" textLength=\"21\" x=\"106.5\" y=\"220.1074\">r: R</text><line style=\"stroke: #A80036; stroke-width: 1.5;\" x1=\"45.5\" x2=\"162.5\" y1=\"227.9375\" y2=\"227.9375\"/></a><!--MD5=[05d275557350bfb9b23a4ef7222b4c39]\n",
       "link E3 to E2--><a href=\"psysml:9201001b-4e3f-46f0-8224-89e70f802e39\" target=\"_top\" title=\"psysml:9201001b-4e3f-46f0-8224-89e70f802e39\" xlink:actuate=\"onRequest\" xlink:href=\"psysml:9201001b-4e3f-46f0-8224-89e70f802e39\" xlink:show=\"new\" xlink:title=\"psysml:9201001b-4e3f-46f0-8224-89e70f802e39\" xlink:type=\"simple\"><path d=\"M366.88,108.24 C365.26,125.24 362.98,149.19 361.02,169.79 \" fill=\"none\" id=\"E3-&gt;E2\" style=\"stroke: #A80036; stroke-width: 1.0;\"/><polygon fill=\"#FFFFFF\" points=\"359.1,189.99,353.9362,170.411,367.8729,171.7407,359.1,189.99\" style=\"stroke: #A80036; stroke-width: 1.0;\"/><ellipse cx=\"356.4685\" cy=\"164.9268\" fill=\"#A80036\" rx=\"2\" ry=\"2\" style=\"stroke: #A80036; stroke-width: 1.0;\"/><ellipse cx=\"366.4233\" cy=\"165.8765\" fill=\"#A80036\" rx=\"2\" ry=\"2\" style=\"stroke: #A80036; stroke-width: 1.0;\"/></a><!--MD5=[62aa6af11e70f752912c1cb0466f24f7]\n",
       "reverse link E4 to E5--><a href=\"psysml:56458fbc-ce11-45ea-8fa2-2092e0cfc05c\" target=\"_top\" title=\"psysml:56458fbc-ce11-45ea-8fa2-2092e0cfc05c\" xlink:actuate=\"onRequest\" xlink:href=\"psysml:56458fbc-ce11-45ea-8fa2-2092e0cfc05c\" xlink:show=\"new\" xlink:title=\"psysml:56458fbc-ce11-45ea-8fa2-2092e0cfc05c\" xlink:type=\"simple\"><path d=\"M104,437.45 C104,453.34 104,469.51 104,482.98 \" fill=\"none\" id=\"E4&lt;-E5\" style=\"stroke: #A80036; stroke-width: 1.0;\"/><ellipse cx=\"104\" cy=\"430.4\" fill=\"#FFFFFF\" rx=\"8\" ry=\"8\" style=\"stroke: #A80036; stroke-width: 1.0;\"/><line style=\"stroke: #A80036; stroke-width: 1.0;\" x1=\"104\" x2=\"104\" y1=\"438.4\" y2=\"422.4\"/><line style=\"stroke: #A80036; stroke-width: 1.0;\" x1=\"96\" x2=\"112\" y1=\"430.4\" y2=\"430.4\"/></a><!--MD5=[c6fc7cdb0cabde04948078cf183fa696]\n",
       "reverse link E4 to E8--><a href=\"psysml:72b41e7b-9298-4fd0-92ac-738cc777b35a\" target=\"_top\" title=\"psysml:72b41e7b-9298-4fd0-92ac-738cc777b35a\" xlink:actuate=\"onRequest\" xlink:href=\"psysml:72b41e7b-9298-4fd0-92ac-738cc777b35a\" xlink:show=\"new\" xlink:title=\"psysml:72b41e7b-9298-4fd0-92ac-738cc777b35a\" xlink:type=\"simple\"><path d=\"M174.75,431.16 C199.83,453.36 226.43,476.92 245.13,493.48 \" fill=\"none\" id=\"E4&lt;-E8\" style=\"stroke: #A80036; stroke-width: 1.0;\"/><polygon fill=\"#A80036\" points=\"164.87,422.4,166.7154,429.371,173.86,430.3486,172.0145,423.3776,164.87,422.4\" style=\"stroke: #A80036; stroke-width: 1.0;\"/></a><!--MD5=[062ed86c389d1a88f61c6380d0491e17]\n",
       "reverse link E12 to E13--><a href=\"psysml:dc92139c-b950-485f-92a5-3d6f837d8293\" target=\"_top\" title=\"psysml:dc92139c-b950-485f-92a5-3d6f837d8293\" xlink:actuate=\"onRequest\" xlink:href=\"psysml:dc92139c-b950-485f-92a5-3d6f837d8293\" xlink:show=\"new\" xlink:title=\"psysml:dc92139c-b950-485f-92a5-3d6f837d8293\" xlink:type=\"simple\"><path d=\"M76.49,120.8 C83.17,142.92 91.6,170.89 97.36,189.99 \" fill=\"none\" id=\"E12&lt;-E13\" style=\"stroke: #A80036; stroke-width: 1.0;\"/><polygon fill=\"#A80036\" points=\"72.71,108.24,70.6129,115.1394,76.1751,119.7288,78.2722,112.8294,72.71,108.24\" style=\"stroke: #A80036; stroke-width: 1.0;\"/></a><!--MD5=[017847e01ff9a8bd19f247411074f987]\n",
       "link E13 to E4--><a href=\"psysml:84833459-b0b4-497f-8a66-9d75104fb430\" target=\"_top\" title=\"psysml:84833459-b0b4-497f-8a66-9d75104fb430\" xlink:actuate=\"onRequest\" xlink:href=\"psysml:84833459-b0b4-497f-8a66-9d75104fb430\" xlink:show=\"new\" xlink:title=\"psysml:84833459-b0b4-497f-8a66-9d75104fb430\" xlink:type=\"simple\"><path d=\"M104,236.17 C104,251.17 104,271.91 104,292.44 \" fill=\"none\" id=\"E13-&gt;E4\" style=\"stroke: #A80036; stroke-width: 1.0;\"/><polygon fill=\"#FFFFFF\" points=\"104,312.68,97,293.68,111,293.68,104,312.68\" style=\"stroke: #A80036; stroke-width: 1.0;\"/><ellipse cx=\"99\" cy=\"287.98\" fill=\"#A80036\" rx=\"2\" ry=\"2\" style=\"stroke: #A80036; stroke-width: 1.0;\"/><ellipse cx=\"109\" cy=\"287.98\" fill=\"#A80036\" rx=\"2\" ry=\"2\" style=\"stroke: #A80036; stroke-width: 1.0;\"/></a><!--MD5=[2cfe899c895462254056921bfb67315f]\n",
       "link E13 to E11--><a href=\"psysml:ed40ce07-1501-496b-adae-3639fe39f1e8\" target=\"_top\" title=\"psysml:ed40ce07-1501-496b-adae-3639fe39f1e8\" xlink:actuate=\"onRequest\" xlink:href=\"psysml:ed40ce07-1501-496b-adae-3639fe39f1e8\" xlink:show=\"new\" xlink:title=\"psysml:ed40ce07-1501-496b-adae-3639fe39f1e8\" xlink:type=\"simple\"><path d=\"M124.5,236.17 C150.09,263.85 193.77,311.09 220.92,340.45 \" fill=\"none\" id=\"E13-&gt;E11\" style=\"stroke: #A80036; stroke-width: 1.0; stroke-dasharray: 7.0,7.0;\"/><polygon fill=\"#A80036\" points=\"224.47,344.3,221.2896,334.9788,221.0727,340.6315,215.42,340.4145,224.47,344.3\" style=\"stroke: #A80036; stroke-width: 1.0;\"/><text fill=\"#000000\" font-family=\"sans-serif\" font-size=\"13\" lengthAdjust=\"spacingAndGlyphs\" textLength=\"57\" x=\"167\" y=\"279.0669\">«satisfy»</text></a><!--MD5=[3649d7ace99d1b8c6c6714739cd31281]\n",
       "@startuml\r\n",
       " \r\n",
       "package \"RequirementTest\" as E1  [[psysml:32d2418d-b451-4172-b0c3-f203713ef4c8 ]]  {\r\n",
       "comp def \"C\" as E2  <<(D,brown)constraint def>> [[psysml:a1b28860-c9a8-4d37-931e-31ae0c14540e ]] {\r\n",
       "}\r\n",
       "comp usage \"c: C\" as E3  <<(U,orange)constraint>> [[psysml:4f6724e1-6261-429d-9c16-1831387bac9b ]] {\r\n",
       "}\r\n",
       "comp def \"R\" as E4  <<(D,brown)requirement def>> [[psysml:a2742730-9bdb-48ea-a333-70a51cef011c ]] {\r\n",
       "\r\n",
       "- -\r\n",
       "- - constraints - -\r\n",
       "<b>require</b> c\r\n",
       "<i>assume</i> c1: C\r\n",
       "}\r\n",
       "comp def \" [<b>1</b>] A\" as E5  <<(D,brown)requirement def>> [[psysml:56458fbc-ce11-45ea-8fa2-2092e0cfc05c ]] {\r\n",
       "Text\r\n",
       "- -\r\n",
       "}\r\n",
       "comp usage \"<s>noname</s>\" as E8  <<(U,orange)requirement>> [[psysml:72b41e7b-9298-4fd0-92ac-738cc777b35a ]] {\r\n",
       "}\r\n",
       "comp def \"R1\" as E9  <<(D,brown)requirement def>> [[psysml:ec52d3df-f8e8-4ac5-95c0-bf3447feb8a5 ]] {\r\n",
       "- - constraints - -\r\n",
       "<b>require</b> c1\\n//:>>RequirementTest::c// \r\n",
       "}\r\n",
       "comp usage \"p\" as E11  << (P,limegreen) part>> [[psysml:b85d82e7-3bb2-4c49-b03c-5a9b3c771643 ]] {\r\n",
       "}\r\n",
       "comp usage \"q\" as E12  << (P,limegreen) part>> [[psysml:f6ed6b0e-7205-4bca-ba49-af9a51c8942a ]] {\r\n",
       "}\r\n",
       "comp usage \"r: R\" as E13  <<(U,orange)requirement>> [[psysml:dc92139c-b950-485f-92a5-3d6f837d8293 ]] {\r\n",
       "}\r\n",
       "E3 - -:|> E2 [[psysml:9201001b-4e3f-46f0-8224-89e70f802e39 ]] \r\n",
       "E4 +- - E5 [[psysml:56458fbc-ce11-45ea-8fa2-2092e0cfc05c ]] \r\n",
       "E4 *- - E8 [[psysml:72b41e7b-9298-4fd0-92ac-738cc777b35a ]] \r\n",
       "E12 *- - E13 [[psysml:dc92139c-b950-485f-92a5-3d6f837d8293 ]] \r\n",
       "E13 - -:|> E4 [[psysml:84833459-b0b4-497f-8a66-9d75104fb430 ]] \r\n",
       "E13 ..> E11 [[psysml:ed40ce07-1501-496b-adae-3639fe39f1e8 ]] : <<satisfy>>\r\n",
       "}\r\n",
       "@enduml\r\n",
       "\n",
       "PlantUML version 1.2020.13(Sat Jun 13 12:26:38 UTC 2020)\n",
       "(EPL source distribution)\n",
       "Java Runtime: OpenJDK Runtime Environment\n",
       "JVM: OpenJDK 64-Bit Server VM\n",
       "Default Encoding: UTF-8\n",
       "Language: en\n",
       "Country: null\n",
       "--></g></svg>"
      ]
     },
     "execution_count": 36,
     "metadata": {},
     "output_type": "execute_result"
    }
   ],
   "source": [
    "%viz --style=\"PLANTUML\" --view=\"MIXED\" \"RequirementTest\""
   ]
  },
  {
   "cell_type": "code",
   "execution_count": 37,
   "id": "supposed-moscow",
   "metadata": {
    "execution": {
     "iopub.execute_input": "2021-03-26T13:01:10.091766Z",
     "iopub.status.busy": "2021-03-26T13:01:10.091095Z",
     "iopub.status.idle": "2021-03-26T13:01:10.188073Z",
     "shell.execute_reply": "2021-03-26T13:01:10.186573Z"
    }
   },
   "outputs": [
    {
     "data": {
      "image/svg+xml": [
       "<?xml version=\"1.0\" encoding=\"UTF-8\" standalone=\"no\"?><svg xmlns=\"http://www.w3.org/2000/svg\" xmlns:xlink=\"http://www.w3.org/1999/xlink\" contentScriptType=\"application/ecmascript\" contentStyleType=\"text/css\" height=\"578px\" preserveAspectRatio=\"none\" style=\"width:408px;height:578px;\" version=\"1.1\" viewBox=\"0 0 408 578\" width=\"408px\" zoomAndPan=\"magnify\"><defs/><g><!--MD5=[fbc87193dbaf4d95561dea2c320d4a47]\n",
       "cluster E1--><a href=\"psysml:32d2418d-b451-4172-b0c3-f203713ef4c8\" target=\"_top\" title=\"psysml:32d2418d-b451-4172-b0c3-f203713ef4c8\" xlink:actuate=\"onRequest\" xlink:href=\"psysml:32d2418d-b451-4172-b0c3-f203713ef4c8\" xlink:show=\"new\" xlink:title=\"psysml:32d2418d-b451-4172-b0c3-f203713ef4c8\" xlink:type=\"simple\"><polygon fill=\"#FFFFFF\" points=\"16,6,158,6,165,28.2969,386,28.2969,386,566,16,566,16,6\" style=\"stroke: #000000; stroke-width: 1.5;\"/><line style=\"stroke: #000000; stroke-width: 1.5;\" x1=\"16\" x2=\"165\" y1=\"28.2969\" y2=\"28.2969\"/><text fill=\"#000000\" font-family=\"sans-serif\" font-size=\"14\" font-weight=\"bold\" lengthAdjust=\"spacingAndGlyphs\" textLength=\"136\" x=\"20\" y=\"20.9951\">RequirementTest</text></a><!--MD5=[b4997ac47864f28c2f74865a473b2911]\n",
       "class E2--><a href=\"psysml:a1b28860-c9a8-4d37-931e-31ae0c14540e\" target=\"_top\" title=\"psysml:a1b28860-c9a8-4d37-931e-31ae0c14540e\" xlink:actuate=\"onRequest\" xlink:href=\"psysml:a1b28860-c9a8-4d37-931e-31ae0c14540e\" xlink:show=\"new\" xlink:title=\"psysml:a1b28860-c9a8-4d37-931e-31ae0c14540e\" xlink:type=\"simple\"><rect fill=\"#FFFFFF\" height=\"45.9375\" id=\"E2\" style=\"stroke: #383838; stroke-width: 1.5;\" width=\"104\" x=\"266\" y=\"190\"/><text fill=\"#000000\" font-family=\"sans-serif\" font-size=\"12\" font-style=\"italic\" lengthAdjust=\"spacingAndGlyphs\" textLength=\"102\" x=\"267\" y=\"206.1387\">«constraint def»</text><text fill=\"#000000\" font-family=\"sans-serif\" font-size=\"12\" lengthAdjust=\"spacingAndGlyphs\" textLength=\"8\" x=\"314\" y=\"220.1074\">C</text><line style=\"stroke: #383838; stroke-width: 1.5;\" x1=\"267\" x2=\"369\" y1=\"227.9375\" y2=\"227.9375\"/></a><!--MD5=[09b614a08d8cba4a07c9adeb5e0fee81]\n",
       "class E3--><a href=\"psysml:4f6724e1-6261-429d-9c16-1831387bac9b\" target=\"_top\" title=\"psysml:4f6724e1-6261-429d-9c16-1831387bac9b\" xlink:actuate=\"onRequest\" xlink:href=\"psysml:4f6724e1-6261-429d-9c16-1831387bac9b\" xlink:show=\"new\" xlink:title=\"psysml:4f6724e1-6261-429d-9c16-1831387bac9b\" xlink:type=\"simple\"><rect fill=\"#FFFFFF\" height=\"45.9375\" id=\"E3\" rx=\"10\" ry=\"10\" style=\"stroke: #383838; stroke-width: 1.5;\" width=\"80\" x=\"290\" y=\"62\"/><text fill=\"#000000\" font-family=\"sans-serif\" font-size=\"12\" font-style=\"italic\" lengthAdjust=\"spacingAndGlyphs\" textLength=\"78\" x=\"291\" y=\"78.1387\">«constraint»</text><text fill=\"#000000\" font-family=\"sans-serif\" font-size=\"12\" lengthAdjust=\"spacingAndGlyphs\" textLength=\"23\" x=\"318.5\" y=\"92.1074\">c: C</text><line style=\"stroke: #383838; stroke-width: 1.5;\" x1=\"291\" x2=\"369\" y1=\"99.9375\" y2=\"99.9375\"/></a><!--MD5=[ebbe1d658d1005bcc118a6aa81145e00]\n",
       "class E4--><a href=\"psysml:a2742730-9bdb-48ea-a333-70a51cef011c\" target=\"_top\" title=\"psysml:a2742730-9bdb-48ea-a333-70a51cef011c\" xlink:actuate=\"onRequest\" xlink:href=\"psysml:a2742730-9bdb-48ea-a333-70a51cef011c\" xlink:show=\"new\" xlink:title=\"psysml:a2742730-9bdb-48ea-a333-70a51cef011c\" xlink:type=\"simple\"><rect fill=\"#FFFFFF\" height=\"109.1563\" id=\"E4\" style=\"stroke: #383838; stroke-width: 1.5;\" width=\"117\" x=\"32.5\" y=\"313\"/><text fill=\"#000000\" font-family=\"sans-serif\" font-size=\"12\" font-style=\"italic\" lengthAdjust=\"spacingAndGlyphs\" textLength=\"115\" x=\"33.5\" y=\"329.1387\">«requirement def»</text><text fill=\"#000000\" font-family=\"sans-serif\" font-size=\"12\" lengthAdjust=\"spacingAndGlyphs\" textLength=\"8\" x=\"87\" y=\"343.1074\">R</text><line style=\"stroke: #383838; stroke-width: 1.5;\" x1=\"33.5\" x2=\"148.5\" y1=\"350.9375\" y2=\"350.9375\"/><text fill=\"#000000\" font-family=\"sans-serif\" font-size=\"11\" lengthAdjust=\"spacingAndGlyphs\" textLength=\"0\" x=\"42.5\" y=\"365.1479\"/><line style=\"stroke: #383838; stroke-width: 1.0;\" x1=\"33.5\" x2=\"148.5\" y1=\"371.7422\" y2=\"371.7422\"/><text fill=\"#000000\" font-family=\"sans-serif\" font-size=\"11\" font-weight=\"bold\" lengthAdjust=\"spacingAndGlyphs\" textLength=\"46\" x=\"38.5\" y=\"402.7573\">require</text><text fill=\"#000000\" font-family=\"sans-serif\" font-size=\"11\" lengthAdjust=\"spacingAndGlyphs\" textLength=\"6\" x=\"88.5\" y=\"402.7573\">c</text><text fill=\"#000000\" font-family=\"sans-serif\" font-size=\"11\" font-style=\"italic\" lengthAdjust=\"spacingAndGlyphs\" textLength=\"46\" x=\"38.5\" y=\"415.562\">assume</text><text fill=\"#000000\" font-family=\"sans-serif\" font-size=\"11\" lengthAdjust=\"spacingAndGlyphs\" textLength=\"29\" x=\"88.5\" y=\"415.562\">c1: C</text><line style=\"stroke: #383838; stroke-width: 1.0;\" x1=\"33.5\" x2=\"59\" y1=\"386.1445\" y2=\"386.1445\"/><text fill=\"#000000\" font-family=\"sans-serif\" font-size=\"11\" lengthAdjust=\"spacingAndGlyphs\" textLength=\"64\" x=\"59\" y=\"389.4526\">constraints</text><line style=\"stroke: #383838; stroke-width: 1.0;\" x1=\"123\" x2=\"148.5\" y1=\"386.1445\" y2=\"386.1445\"/></a><!--MD5=[270fce915f116d4de14055a7c1d9a0f3]\n",
       "class E5--><a href=\"psysml:56458fbc-ce11-45ea-8fa2-2092e0cfc05c\" target=\"_top\" title=\"psysml:56458fbc-ce11-45ea-8fa2-2092e0cfc05c\" xlink:actuate=\"onRequest\" xlink:href=\"psysml:56458fbc-ce11-45ea-8fa2-2092e0cfc05c\" xlink:show=\"new\" xlink:title=\"psysml:56458fbc-ce11-45ea-8fa2-2092e0cfc05c\" xlink:type=\"simple\"><rect fill=\"#FFFFFF\" height=\"66.7422\" id=\"E5\" style=\"stroke: #383838; stroke-width: 1.5;\" width=\"117\" x=\"32.5\" y=\"483\"/><text fill=\"#000000\" font-family=\"sans-serif\" font-size=\"12\" font-style=\"italic\" lengthAdjust=\"spacingAndGlyphs\" textLength=\"115\" x=\"33.5\" y=\"499.1387\">«requirement def»</text><text fill=\"#000000\" font-family=\"sans-serif\" font-size=\"12\" lengthAdjust=\"spacingAndGlyphs\" textLength=\"5\" x=\"78\" y=\"513.1074\">[</text><text fill=\"#000000\" font-family=\"sans-serif\" font-size=\"12\" font-weight=\"bold\" lengthAdjust=\"spacingAndGlyphs\" textLength=\"8\" x=\"83\" y=\"513.1074\">1</text><text fill=\"#000000\" font-family=\"sans-serif\" font-size=\"12\" lengthAdjust=\"spacingAndGlyphs\" textLength=\"17\" x=\"91\" y=\"513.1074\">] A</text><line style=\"stroke: #383838; stroke-width: 1.5;\" x1=\"33.5\" x2=\"148.5\" y1=\"520.9375\" y2=\"520.9375\"/><text fill=\"#000000\" font-family=\"sans-serif\" font-size=\"11\" lengthAdjust=\"spacingAndGlyphs\" textLength=\"24\" x=\"38.5\" y=\"535.1479\">Text</text><line style=\"stroke: #383838; stroke-width: 1.0;\" x1=\"33.5\" x2=\"148.5\" y1=\"541.7422\" y2=\"541.7422\"/></a><!--MD5=[b9389687b975829384b498ac4b7476b2]\n",
       "class E8--><a href=\"psysml:72b41e7b-9298-4fd0-92ac-738cc777b35a\" target=\"_top\" title=\"psysml:72b41e7b-9298-4fd0-92ac-738cc777b35a\" xlink:actuate=\"onRequest\" xlink:href=\"psysml:72b41e7b-9298-4fd0-92ac-738cc777b35a\" xlink:show=\"new\" xlink:title=\"psysml:72b41e7b-9298-4fd0-92ac-738cc777b35a\" xlink:type=\"simple\"><rect fill=\"#FFFFFF\" height=\"45.9375\" id=\"E8\" rx=\"10\" ry=\"10\" style=\"stroke: #383838; stroke-width: 1.5;\" width=\"93\" x=\"184.5\" y=\"493.5\"/><text fill=\"#000000\" font-family=\"sans-serif\" font-size=\"12\" font-style=\"italic\" lengthAdjust=\"spacingAndGlyphs\" textLength=\"91\" x=\"185.5\" y=\"509.6387\">«requirement»</text><text fill=\"#000000\" font-family=\"sans-serif\" font-size=\"12\" lengthAdjust=\"spacingAndGlyphs\" text-decoration=\"line-through\" textLength=\"51\" x=\"205.5\" y=\"523.6074\">noname</text><line style=\"stroke: #383838; stroke-width: 1.5;\" x1=\"185.5\" x2=\"276.5\" y1=\"531.4375\" y2=\"531.4375\"/></a><!--MD5=[fd4143e9d270a159db93a4ea2a975926]\n",
       "class E9--><a href=\"psysml:ec52d3df-f8e8-4ac5-95c0-bf3447feb8a5\" target=\"_top\" title=\"psysml:ec52d3df-f8e8-4ac5-95c0-bf3447feb8a5\" xlink:actuate=\"onRequest\" xlink:href=\"psysml:ec52d3df-f8e8-4ac5-95c0-bf3447feb8a5\" xlink:show=\"new\" xlink:title=\"psysml:ec52d3df-f8e8-4ac5-95c0-bf3447feb8a5\" xlink:type=\"simple\"><rect fill=\"#FFFFFF\" height=\"88.3516\" id=\"E9\" style=\"stroke: #383838; stroke-width: 1.5;\" width=\"145\" x=\"109.5\" y=\"41\"/><text fill=\"#000000\" font-family=\"sans-serif\" font-size=\"12\" font-style=\"italic\" lengthAdjust=\"spacingAndGlyphs\" textLength=\"115\" x=\"124.5\" y=\"57.1387\">«requirement def»</text><text fill=\"#000000\" font-family=\"sans-serif\" font-size=\"12\" lengthAdjust=\"spacingAndGlyphs\" textLength=\"16\" x=\"174\" y=\"71.1074\">R1</text><line style=\"stroke: #383838; stroke-width: 1.5;\" x1=\"110.5\" x2=\"253.5\" y1=\"78.9375\" y2=\"78.9375\"/><text fill=\"#000000\" font-family=\"sans-serif\" font-size=\"11\" font-weight=\"bold\" lengthAdjust=\"spacingAndGlyphs\" textLength=\"46\" x=\"115.5\" y=\"109.9526\">require</text><text fill=\"#000000\" font-family=\"sans-serif\" font-size=\"11\" lengthAdjust=\"spacingAndGlyphs\" textLength=\"13\" x=\"165.5\" y=\"109.9526\">c1</text><text fill=\"#000000\" font-family=\"sans-serif\" font-size=\"11\" font-style=\"italic\" lengthAdjust=\"spacingAndGlyphs\" textLength=\"133\" x=\"115.5\" y=\"122.7573\">:&gt;&gt;RequirementTest::c</text><line style=\"stroke: #383838; stroke-width: 1.0;\" x1=\"110.5\" x2=\"150\" y1=\"93.3398\" y2=\"93.3398\"/><text fill=\"#000000\" font-family=\"sans-serif\" font-size=\"11\" lengthAdjust=\"spacingAndGlyphs\" textLength=\"64\" x=\"150\" y=\"96.6479\">constraints</text><line style=\"stroke: #383838; stroke-width: 1.0;\" x1=\"214\" x2=\"253.5\" y1=\"93.3398\" y2=\"93.3398\"/></a><!--MD5=[1dd1bfd58a279cf63c5f349dbc8fc6a1]\n",
       "class E11--><a href=\"psysml:b85d82e7-3bb2-4c49-b03c-5a9b3c771643\" target=\"_top\" title=\"psysml:b85d82e7-3bb2-4c49-b03c-5a9b3c771643\" xlink:actuate=\"onRequest\" xlink:href=\"psysml:b85d82e7-3bb2-4c49-b03c-5a9b3c771643\" xlink:show=\"new\" xlink:title=\"psysml:b85d82e7-3bb2-4c49-b03c-5a9b3c771643\" xlink:type=\"simple\"><rect fill=\"#FFFFFF\" height=\"45.9375\" id=\"E11\" rx=\"10\" ry=\"10\" style=\"stroke: #383838; stroke-width: 1.5;\" width=\"42\" x=\"185\" y=\"344.5\"/><text fill=\"#000000\" font-family=\"sans-serif\" font-size=\"12\" font-style=\"italic\" lengthAdjust=\"spacingAndGlyphs\" textLength=\"40\" x=\"186\" y=\"360.6387\">«part»</text><text fill=\"#000000\" font-family=\"sans-serif\" font-size=\"12\" lengthAdjust=\"spacingAndGlyphs\" textLength=\"8\" x=\"202\" y=\"374.6074\">p</text><line style=\"stroke: #383838; stroke-width: 1.5;\" x1=\"186\" x2=\"226\" y1=\"382.4375\" y2=\"382.4375\"/></a><!--MD5=[49a0ec8f00dab7302a31f22d0f0fe584]\n",
       "class E12--><a href=\"psysml:f6ed6b0e-7205-4bca-ba49-af9a51c8942a\" target=\"_top\" title=\"psysml:f6ed6b0e-7205-4bca-ba49-af9a51c8942a\" xlink:actuate=\"onRequest\" xlink:href=\"psysml:f6ed6b0e-7205-4bca-ba49-af9a51c8942a\" xlink:show=\"new\" xlink:title=\"psysml:f6ed6b0e-7205-4bca-ba49-af9a51c8942a\" xlink:type=\"simple\"><rect fill=\"#FFFFFF\" height=\"45.9375\" id=\"E12\" rx=\"10\" ry=\"10\" style=\"stroke: #383838; stroke-width: 1.5;\" width=\"42\" x=\"32\" y=\"62\"/><text fill=\"#000000\" font-family=\"sans-serif\" font-size=\"12\" font-style=\"italic\" lengthAdjust=\"spacingAndGlyphs\" textLength=\"40\" x=\"33\" y=\"78.1387\">«part»</text><text fill=\"#000000\" font-family=\"sans-serif\" font-size=\"12\" lengthAdjust=\"spacingAndGlyphs\" textLength=\"8\" x=\"49\" y=\"92.1074\">q</text><line style=\"stroke: #383838; stroke-width: 1.5;\" x1=\"33\" x2=\"73\" y1=\"99.9375\" y2=\"99.9375\"/></a><!--MD5=[ee3c913d1a06f366521f9ef512b67efe]\n",
       "class E13--><a href=\"psysml:dc92139c-b950-485f-92a5-3d6f837d8293\" target=\"_top\" title=\"psysml:dc92139c-b950-485f-92a5-3d6f837d8293\" xlink:actuate=\"onRequest\" xlink:href=\"psysml:dc92139c-b950-485f-92a5-3d6f837d8293\" xlink:show=\"new\" xlink:title=\"psysml:dc92139c-b950-485f-92a5-3d6f837d8293\" xlink:type=\"simple\"><rect fill=\"#FFFFFF\" height=\"45.9375\" id=\"E13\" rx=\"10\" ry=\"10\" style=\"stroke: #383838; stroke-width: 1.5;\" width=\"93\" x=\"44.5\" y=\"190\"/><text fill=\"#000000\" font-family=\"sans-serif\" font-size=\"12\" font-style=\"italic\" lengthAdjust=\"spacingAndGlyphs\" textLength=\"91\" x=\"45.5\" y=\"206.1387\">«requirement»</text><text fill=\"#000000\" font-family=\"sans-serif\" font-size=\"12\" lengthAdjust=\"spacingAndGlyphs\" textLength=\"21\" x=\"80.5\" y=\"220.1074\">r: R</text><line style=\"stroke: #383838; stroke-width: 1.5;\" x1=\"45.5\" x2=\"136.5\" y1=\"227.9375\" y2=\"227.9375\"/></a><!--MD5=[05d275557350bfb9b23a4ef7222b4c39]\n",
       "link E3 to E2--><a href=\"psysml:9201001b-4e3f-46f0-8224-89e70f802e39\" target=\"_top\" title=\"psysml:9201001b-4e3f-46f0-8224-89e70f802e39\" xlink:actuate=\"onRequest\" xlink:href=\"psysml:9201001b-4e3f-46f0-8224-89e70f802e39\" xlink:show=\"new\" xlink:title=\"psysml:9201001b-4e3f-46f0-8224-89e70f802e39\" xlink:type=\"simple\"><path d=\"M327.88,108.24 C326.26,125.24 323.98,149.19 322.02,169.79 \" fill=\"none\" id=\"E3-&gt;E2\" style=\"stroke: #383838; stroke-width: 1.0;\"/><polygon fill=\"#FFFFFF\" points=\"320.1,189.99,314.9362,170.411,328.8729,171.7407,320.1,189.99\" style=\"stroke: #383838; stroke-width: 1.0;\"/><ellipse cx=\"317.4685\" cy=\"164.9268\" fill=\"#383838\" rx=\"2\" ry=\"2\" style=\"stroke: #383838; stroke-width: 1.0;\"/><ellipse cx=\"327.4233\" cy=\"165.8765\" fill=\"#383838\" rx=\"2\" ry=\"2\" style=\"stroke: #383838; stroke-width: 1.0;\"/></a><!--MD5=[62aa6af11e70f752912c1cb0466f24f7]\n",
       "reverse link E4 to E5--><a href=\"psysml:56458fbc-ce11-45ea-8fa2-2092e0cfc05c\" target=\"_top\" title=\"psysml:56458fbc-ce11-45ea-8fa2-2092e0cfc05c\" xlink:actuate=\"onRequest\" xlink:href=\"psysml:56458fbc-ce11-45ea-8fa2-2092e0cfc05c\" xlink:show=\"new\" xlink:title=\"psysml:56458fbc-ce11-45ea-8fa2-2092e0cfc05c\" xlink:type=\"simple\"><path d=\"M91,437.45 C91,453.34 91,469.51 91,482.98 \" fill=\"none\" id=\"E4&lt;-E5\" style=\"stroke: #383838; stroke-width: 1.0;\"/><ellipse cx=\"91\" cy=\"430.4\" fill=\"#FFFFFF\" rx=\"8\" ry=\"8\" style=\"stroke: #383838; stroke-width: 1.0;\"/><line style=\"stroke: #383838; stroke-width: 1.0;\" x1=\"91\" x2=\"91\" y1=\"438.4\" y2=\"422.4\"/><line style=\"stroke: #383838; stroke-width: 1.0;\" x1=\"83\" x2=\"99\" y1=\"430.4\" y2=\"430.4\"/></a><!--MD5=[c6fc7cdb0cabde04948078cf183fa696]\n",
       "reverse link E4 to E8--><a href=\"psysml:72b41e7b-9298-4fd0-92ac-738cc777b35a\" target=\"_top\" title=\"psysml:72b41e7b-9298-4fd0-92ac-738cc777b35a\" xlink:actuate=\"onRequest\" xlink:href=\"psysml:72b41e7b-9298-4fd0-92ac-738cc777b35a\" xlink:show=\"new\" xlink:title=\"psysml:72b41e7b-9298-4fd0-92ac-738cc777b35a\" xlink:type=\"simple\"><path d=\"M151.51,432.04 C172.42,453.99 194.47,477.14 210.03,493.48 \" fill=\"none\" id=\"E4&lt;-E8\" style=\"stroke: #383838; stroke-width: 1.0;\"/><polygon fill=\"#383838\" points=\"142.34,422.4,143.5779,429.5041,150.6116,431.0937,149.3737,423.9897,142.34,422.4\" style=\"stroke: #383838; stroke-width: 1.0;\"/></a><!--MD5=[062ed86c389d1a88f61c6380d0491e17]\n",
       "reverse link E12 to E13--><a href=\"psysml:dc92139c-b950-485f-92a5-3d6f837d8293\" target=\"_top\" title=\"psysml:dc92139c-b950-485f-92a5-3d6f837d8293\" xlink:actuate=\"onRequest\" xlink:href=\"psysml:dc92139c-b950-485f-92a5-3d6f837d8293\" xlink:show=\"new\" xlink:title=\"psysml:dc92139c-b950-485f-92a5-3d6f837d8293\" xlink:type=\"simple\"><path d=\"M63.49,120.8 C70.17,142.92 78.6,170.89 84.36,189.99 \" fill=\"none\" id=\"E12&lt;-E13\" style=\"stroke: #383838; stroke-width: 1.0;\"/><polygon fill=\"#383838\" points=\"59.71,108.24,57.6129,115.1394,63.1751,119.7288,65.2722,112.8294,59.71,108.24\" style=\"stroke: #383838; stroke-width: 1.0;\"/></a><!--MD5=[017847e01ff9a8bd19f247411074f987]\n",
       "link E13 to E4--><a href=\"psysml:84833459-b0b4-497f-8a66-9d75104fb430\" target=\"_top\" title=\"psysml:84833459-b0b4-497f-8a66-9d75104fb430\" xlink:actuate=\"onRequest\" xlink:href=\"psysml:84833459-b0b4-497f-8a66-9d75104fb430\" xlink:show=\"new\" xlink:title=\"psysml:84833459-b0b4-497f-8a66-9d75104fb430\" xlink:type=\"simple\"><path d=\"M91,236.17 C91,251.17 91,271.91 91,292.44 \" fill=\"none\" id=\"E13-&gt;E4\" style=\"stroke: #383838; stroke-width: 1.0;\"/><polygon fill=\"#FFFFFF\" points=\"91,312.68,84,293.68,98,293.68,91,312.68\" style=\"stroke: #383838; stroke-width: 1.0;\"/><ellipse cx=\"86\" cy=\"287.98\" fill=\"#383838\" rx=\"2\" ry=\"2\" style=\"stroke: #383838; stroke-width: 1.0;\"/><ellipse cx=\"96\" cy=\"287.98\" fill=\"#383838\" rx=\"2\" ry=\"2\" style=\"stroke: #383838; stroke-width: 1.0;\"/></a><!--MD5=[2cfe899c895462254056921bfb67315f]\n",
       "link E13 to E11--><a href=\"psysml:ed40ce07-1501-496b-adae-3639fe39f1e8\" target=\"_top\" title=\"psysml:ed40ce07-1501-496b-adae-3639fe39f1e8\" xlink:actuate=\"onRequest\" xlink:href=\"psysml:ed40ce07-1501-496b-adae-3639fe39f1e8\" xlink:show=\"new\" xlink:title=\"psysml:ed40ce07-1501-496b-adae-3639fe39f1e8\" xlink:type=\"simple\"><path d=\"M108.36,236.29 C123.87,256.28 147.14,286.45 167,313 C173.57,321.78 180.66,331.44 186.97,340.12 \" fill=\"none\" id=\"E13-&gt;E11\" style=\"stroke: #383838; stroke-width: 1.0; stroke-dasharray: 7.0,7.0;\"/><polygon fill=\"#383838\" points=\"189.99,344.28,187.9274,334.6496,187.0474,340.2376,181.4594,339.3576,189.99,344.28\" style=\"stroke: #383838; stroke-width: 1.0;\"/><text fill=\"#000000\" font-family=\"sans-serif\" font-size=\"13\" lengthAdjust=\"spacingAndGlyphs\" textLength=\"57\" x=\"145\" y=\"279.0669\">«satisfy»</text></a><!--MD5=[85e477dcf8f536ae77c980c0b2e02f8f]\n",
       "@startuml\r\n",
       "skinparam monochrome true\r\n",
       "skinparam classbackgroundcolor white\r\n",
       "skinparam shadowing false\r\n",
       "skinparam wrapWidth 300\r\n",
       "hide circle\r\n",
       "\r\n",
       "package \"RequirementTest\" as E1  [[psysml:32d2418d-b451-4172-b0c3-f203713ef4c8 ]]  {\r\n",
       "comp def \"C\" as E2  <<(T,blue)constraint def>> [[psysml:a1b28860-c9a8-4d37-931e-31ae0c14540e ]] {\r\n",
       "}\r\n",
       "comp usage \"c: C\" as E3  <<(T,blue)constraint>> [[psysml:4f6724e1-6261-429d-9c16-1831387bac9b ]] {\r\n",
       "}\r\n",
       "comp def \"R\" as E4  <<(T,blue)requirement def>> [[psysml:a2742730-9bdb-48ea-a333-70a51cef011c ]] {\r\n",
       "\r\n",
       "- -\r\n",
       "- - constraints - -\r\n",
       "<b>require</b> c\r\n",
       "<i>assume</i> c1: C\r\n",
       "}\r\n",
       "comp def \" [<b>1</b>] A\" as E5  <<(T,blue)requirement def>> [[psysml:56458fbc-ce11-45ea-8fa2-2092e0cfc05c ]] {\r\n",
       "Text\r\n",
       "- -\r\n",
       "}\r\n",
       "comp usage \"<s>noname</s>\" as E8  <<(T,blue)requirement>> [[psysml:72b41e7b-9298-4fd0-92ac-738cc777b35a ]] {\r\n",
       "}\r\n",
       "comp def \"R1\" as E9  <<(T,blue)requirement def>> [[psysml:ec52d3df-f8e8-4ac5-95c0-bf3447feb8a5 ]] {\r\n",
       "- - constraints - -\r\n",
       "<b>require</b> c1\\n//:>>RequirementTest::c// \r\n",
       "}\r\n",
       "comp usage \"p\" as E11  <<(T,blue)part>> [[psysml:b85d82e7-3bb2-4c49-b03c-5a9b3c771643 ]] {\r\n",
       "}\r\n",
       "comp usage \"q\" as E12  <<(T,blue)part>> [[psysml:f6ed6b0e-7205-4bca-ba49-af9a51c8942a ]] {\r\n",
       "}\r\n",
       "comp usage \"r: R\" as E13  <<(T,blue)requirement>> [[psysml:dc92139c-b950-485f-92a5-3d6f837d8293 ]] {\r\n",
       "}\r\n",
       "E3 - -:|> E2 [[psysml:9201001b-4e3f-46f0-8224-89e70f802e39 ]] \r\n",
       "E4 +- - E5 [[psysml:56458fbc-ce11-45ea-8fa2-2092e0cfc05c ]] \r\n",
       "E4 *- - E8 [[psysml:72b41e7b-9298-4fd0-92ac-738cc777b35a ]] \r\n",
       "E12 *- - E13 [[psysml:dc92139c-b950-485f-92a5-3d6f837d8293 ]] \r\n",
       "E13 - -:|> E4 [[psysml:84833459-b0b4-497f-8a66-9d75104fb430 ]] \r\n",
       "E13 ..> E11 [[psysml:ed40ce07-1501-496b-adae-3639fe39f1e8 ]] : <<satisfy>>\r\n",
       "}\r\n",
       "@enduml\r\n",
       "\n",
       "PlantUML version 1.2020.13(Sat Jun 13 12:26:38 UTC 2020)\n",
       "(EPL source distribution)\n",
       "Java Runtime: OpenJDK Runtime Environment\n",
       "JVM: OpenJDK 64-Bit Server VM\n",
       "Default Encoding: UTF-8\n",
       "Language: en\n",
       "Country: null\n",
       "--></g></svg>"
      ]
     },
     "execution_count": 37,
     "metadata": {},
     "output_type": "execute_result"
    }
   ],
   "source": [
    "%viz --style=\"DEFAULT\" --view=\"Default\" \"RequirementTest\""
   ]
  },
  {
   "cell_type": "code",
   "execution_count": 38,
   "id": "electoral-console",
   "metadata": {
    "execution": {
     "iopub.execute_input": "2021-03-26T13:01:10.239162Z",
     "iopub.status.busy": "2021-03-26T13:01:10.237399Z",
     "iopub.status.idle": "2021-03-26T13:01:10.321018Z",
     "shell.execute_reply": "2021-03-26T13:01:10.321390Z"
    }
   },
   "outputs": [
    {
     "data": {
      "image/svg+xml": [
       "<?xml version=\"1.0\" encoding=\"UTF-8\" standalone=\"no\"?><svg xmlns=\"http://www.w3.org/2000/svg\" xmlns:xlink=\"http://www.w3.org/1999/xlink\" contentScriptType=\"application/ecmascript\" contentStyleType=\"text/css\" height=\"578px\" preserveAspectRatio=\"none\" style=\"width:408px;height:578px;\" version=\"1.1\" viewBox=\"0 0 408 578\" width=\"408px\" zoomAndPan=\"magnify\"><defs/><g><!--MD5=[fbc87193dbaf4d95561dea2c320d4a47]\n",
       "cluster E1--><a href=\"psysml:32d2418d-b451-4172-b0c3-f203713ef4c8\" target=\"_top\" title=\"psysml:32d2418d-b451-4172-b0c3-f203713ef4c8\" xlink:actuate=\"onRequest\" xlink:href=\"psysml:32d2418d-b451-4172-b0c3-f203713ef4c8\" xlink:show=\"new\" xlink:title=\"psysml:32d2418d-b451-4172-b0c3-f203713ef4c8\" xlink:type=\"simple\"><polygon fill=\"#FFFFFF\" points=\"16,6,158,6,165,28.2969,386,28.2969,386,566,16,566,16,6\" style=\"stroke: #000000; stroke-width: 1.5;\"/><line style=\"stroke: #000000; stroke-width: 1.5;\" x1=\"16\" x2=\"165\" y1=\"28.2969\" y2=\"28.2969\"/><text fill=\"#000000\" font-family=\"sans-serif\" font-size=\"14\" font-weight=\"bold\" lengthAdjust=\"spacingAndGlyphs\" textLength=\"136\" x=\"20\" y=\"20.9951\">RequirementTest</text></a><!--MD5=[b4997ac47864f28c2f74865a473b2911]\n",
       "class E2--><a href=\"psysml:a1b28860-c9a8-4d37-931e-31ae0c14540e\" target=\"_top\" title=\"psysml:a1b28860-c9a8-4d37-931e-31ae0c14540e\" xlink:actuate=\"onRequest\" xlink:href=\"psysml:a1b28860-c9a8-4d37-931e-31ae0c14540e\" xlink:show=\"new\" xlink:title=\"psysml:a1b28860-c9a8-4d37-931e-31ae0c14540e\" xlink:type=\"simple\"><rect fill=\"#FFFFFF\" height=\"45.9375\" id=\"E2\" style=\"stroke: #383838; stroke-width: 1.5;\" width=\"104\" x=\"266\" y=\"190\"/><text fill=\"#000000\" font-family=\"sans-serif\" font-size=\"12\" font-style=\"italic\" lengthAdjust=\"spacingAndGlyphs\" textLength=\"102\" x=\"267\" y=\"206.1387\">«constraint def»</text><text fill=\"#000000\" font-family=\"sans-serif\" font-size=\"12\" lengthAdjust=\"spacingAndGlyphs\" textLength=\"8\" x=\"314\" y=\"220.1074\">C</text><line style=\"stroke: #383838; stroke-width: 1.5;\" x1=\"267\" x2=\"369\" y1=\"227.9375\" y2=\"227.9375\"/></a><!--MD5=[09b614a08d8cba4a07c9adeb5e0fee81]\n",
       "class E3--><a href=\"psysml:4f6724e1-6261-429d-9c16-1831387bac9b\" target=\"_top\" title=\"psysml:4f6724e1-6261-429d-9c16-1831387bac9b\" xlink:actuate=\"onRequest\" xlink:href=\"psysml:4f6724e1-6261-429d-9c16-1831387bac9b\" xlink:show=\"new\" xlink:title=\"psysml:4f6724e1-6261-429d-9c16-1831387bac9b\" xlink:type=\"simple\"><rect fill=\"#FFFFFF\" height=\"45.9375\" id=\"E3\" rx=\"10\" ry=\"10\" style=\"stroke: #383838; stroke-width: 1.5;\" width=\"80\" x=\"290\" y=\"62\"/><text fill=\"#000000\" font-family=\"sans-serif\" font-size=\"12\" font-style=\"italic\" lengthAdjust=\"spacingAndGlyphs\" textLength=\"78\" x=\"291\" y=\"78.1387\">«constraint»</text><text fill=\"#000000\" font-family=\"sans-serif\" font-size=\"12\" lengthAdjust=\"spacingAndGlyphs\" textLength=\"23\" x=\"318.5\" y=\"92.1074\">c: C</text><line style=\"stroke: #383838; stroke-width: 1.5;\" x1=\"291\" x2=\"369\" y1=\"99.9375\" y2=\"99.9375\"/></a><!--MD5=[ebbe1d658d1005bcc118a6aa81145e00]\n",
       "class E4--><a href=\"psysml:a2742730-9bdb-48ea-a333-70a51cef011c\" target=\"_top\" title=\"psysml:a2742730-9bdb-48ea-a333-70a51cef011c\" xlink:actuate=\"onRequest\" xlink:href=\"psysml:a2742730-9bdb-48ea-a333-70a51cef011c\" xlink:show=\"new\" xlink:title=\"psysml:a2742730-9bdb-48ea-a333-70a51cef011c\" xlink:type=\"simple\"><rect fill=\"#FFFFFF\" height=\"109.1563\" id=\"E4\" style=\"stroke: #383838; stroke-width: 1.5;\" width=\"117\" x=\"32.5\" y=\"313\"/><text fill=\"#000000\" font-family=\"sans-serif\" font-size=\"12\" font-style=\"italic\" lengthAdjust=\"spacingAndGlyphs\" textLength=\"115\" x=\"33.5\" y=\"329.1387\">«requirement def»</text><text fill=\"#000000\" font-family=\"sans-serif\" font-size=\"12\" lengthAdjust=\"spacingAndGlyphs\" textLength=\"8\" x=\"87\" y=\"343.1074\">R</text><line style=\"stroke: #383838; stroke-width: 1.5;\" x1=\"33.5\" x2=\"148.5\" y1=\"350.9375\" y2=\"350.9375\"/><text fill=\"#000000\" font-family=\"sans-serif\" font-size=\"11\" lengthAdjust=\"spacingAndGlyphs\" textLength=\"0\" x=\"42.5\" y=\"365.1479\"/><line style=\"stroke: #383838; stroke-width: 1.0;\" x1=\"33.5\" x2=\"148.5\" y1=\"371.7422\" y2=\"371.7422\"/><text fill=\"#000000\" font-family=\"sans-serif\" font-size=\"11\" font-weight=\"bold\" lengthAdjust=\"spacingAndGlyphs\" textLength=\"46\" x=\"38.5\" y=\"402.7573\">require</text><text fill=\"#000000\" font-family=\"sans-serif\" font-size=\"11\" lengthAdjust=\"spacingAndGlyphs\" textLength=\"6\" x=\"88.5\" y=\"402.7573\">c</text><text fill=\"#000000\" font-family=\"sans-serif\" font-size=\"11\" font-style=\"italic\" lengthAdjust=\"spacingAndGlyphs\" textLength=\"46\" x=\"38.5\" y=\"415.562\">assume</text><text fill=\"#000000\" font-family=\"sans-serif\" font-size=\"11\" lengthAdjust=\"spacingAndGlyphs\" textLength=\"29\" x=\"88.5\" y=\"415.562\">c1: C</text><line style=\"stroke: #383838; stroke-width: 1.0;\" x1=\"33.5\" x2=\"59\" y1=\"386.1445\" y2=\"386.1445\"/><text fill=\"#000000\" font-family=\"sans-serif\" font-size=\"11\" lengthAdjust=\"spacingAndGlyphs\" textLength=\"64\" x=\"59\" y=\"389.4526\">constraints</text><line style=\"stroke: #383838; stroke-width: 1.0;\" x1=\"123\" x2=\"148.5\" y1=\"386.1445\" y2=\"386.1445\"/></a><!--MD5=[270fce915f116d4de14055a7c1d9a0f3]\n",
       "class E5--><a href=\"psysml:56458fbc-ce11-45ea-8fa2-2092e0cfc05c\" target=\"_top\" title=\"psysml:56458fbc-ce11-45ea-8fa2-2092e0cfc05c\" xlink:actuate=\"onRequest\" xlink:href=\"psysml:56458fbc-ce11-45ea-8fa2-2092e0cfc05c\" xlink:show=\"new\" xlink:title=\"psysml:56458fbc-ce11-45ea-8fa2-2092e0cfc05c\" xlink:type=\"simple\"><rect fill=\"#FFFFFF\" height=\"66.7422\" id=\"E5\" style=\"stroke: #383838; stroke-width: 1.5;\" width=\"117\" x=\"32.5\" y=\"483\"/><text fill=\"#000000\" font-family=\"sans-serif\" font-size=\"12\" font-style=\"italic\" lengthAdjust=\"spacingAndGlyphs\" textLength=\"115\" x=\"33.5\" y=\"499.1387\">«requirement def»</text><text fill=\"#000000\" font-family=\"sans-serif\" font-size=\"12\" lengthAdjust=\"spacingAndGlyphs\" textLength=\"5\" x=\"78\" y=\"513.1074\">[</text><text fill=\"#000000\" font-family=\"sans-serif\" font-size=\"12\" font-weight=\"bold\" lengthAdjust=\"spacingAndGlyphs\" textLength=\"8\" x=\"83\" y=\"513.1074\">1</text><text fill=\"#000000\" font-family=\"sans-serif\" font-size=\"12\" lengthAdjust=\"spacingAndGlyphs\" textLength=\"17\" x=\"91\" y=\"513.1074\">] A</text><line style=\"stroke: #383838; stroke-width: 1.5;\" x1=\"33.5\" x2=\"148.5\" y1=\"520.9375\" y2=\"520.9375\"/><text fill=\"#000000\" font-family=\"sans-serif\" font-size=\"11\" lengthAdjust=\"spacingAndGlyphs\" textLength=\"24\" x=\"38.5\" y=\"535.1479\">Text</text><line style=\"stroke: #383838; stroke-width: 1.0;\" x1=\"33.5\" x2=\"148.5\" y1=\"541.7422\" y2=\"541.7422\"/></a><!--MD5=[b9389687b975829384b498ac4b7476b2]\n",
       "class E8--><a href=\"psysml:72b41e7b-9298-4fd0-92ac-738cc777b35a\" target=\"_top\" title=\"psysml:72b41e7b-9298-4fd0-92ac-738cc777b35a\" xlink:actuate=\"onRequest\" xlink:href=\"psysml:72b41e7b-9298-4fd0-92ac-738cc777b35a\" xlink:show=\"new\" xlink:title=\"psysml:72b41e7b-9298-4fd0-92ac-738cc777b35a\" xlink:type=\"simple\"><rect fill=\"#FFFFFF\" height=\"45.9375\" id=\"E8\" rx=\"10\" ry=\"10\" style=\"stroke: #383838; stroke-width: 1.5;\" width=\"93\" x=\"184.5\" y=\"493.5\"/><text fill=\"#000000\" font-family=\"sans-serif\" font-size=\"12\" font-style=\"italic\" lengthAdjust=\"spacingAndGlyphs\" textLength=\"91\" x=\"185.5\" y=\"509.6387\">«requirement»</text><text fill=\"#000000\" font-family=\"sans-serif\" font-size=\"12\" lengthAdjust=\"spacingAndGlyphs\" text-decoration=\"line-through\" textLength=\"51\" x=\"205.5\" y=\"523.6074\">noname</text><line style=\"stroke: #383838; stroke-width: 1.5;\" x1=\"185.5\" x2=\"276.5\" y1=\"531.4375\" y2=\"531.4375\"/></a><!--MD5=[fd4143e9d270a159db93a4ea2a975926]\n",
       "class E9--><a href=\"psysml:ec52d3df-f8e8-4ac5-95c0-bf3447feb8a5\" target=\"_top\" title=\"psysml:ec52d3df-f8e8-4ac5-95c0-bf3447feb8a5\" xlink:actuate=\"onRequest\" xlink:href=\"psysml:ec52d3df-f8e8-4ac5-95c0-bf3447feb8a5\" xlink:show=\"new\" xlink:title=\"psysml:ec52d3df-f8e8-4ac5-95c0-bf3447feb8a5\" xlink:type=\"simple\"><rect fill=\"#FFFFFF\" height=\"88.3516\" id=\"E9\" style=\"stroke: #383838; stroke-width: 1.5;\" width=\"145\" x=\"109.5\" y=\"41\"/><text fill=\"#000000\" font-family=\"sans-serif\" font-size=\"12\" font-style=\"italic\" lengthAdjust=\"spacingAndGlyphs\" textLength=\"115\" x=\"124.5\" y=\"57.1387\">«requirement def»</text><text fill=\"#000000\" font-family=\"sans-serif\" font-size=\"12\" lengthAdjust=\"spacingAndGlyphs\" textLength=\"16\" x=\"174\" y=\"71.1074\">R1</text><line style=\"stroke: #383838; stroke-width: 1.5;\" x1=\"110.5\" x2=\"253.5\" y1=\"78.9375\" y2=\"78.9375\"/><text fill=\"#000000\" font-family=\"sans-serif\" font-size=\"11\" font-weight=\"bold\" lengthAdjust=\"spacingAndGlyphs\" textLength=\"46\" x=\"115.5\" y=\"109.9526\">require</text><text fill=\"#000000\" font-family=\"sans-serif\" font-size=\"11\" lengthAdjust=\"spacingAndGlyphs\" textLength=\"13\" x=\"165.5\" y=\"109.9526\">c1</text><text fill=\"#000000\" font-family=\"sans-serif\" font-size=\"11\" font-style=\"italic\" lengthAdjust=\"spacingAndGlyphs\" textLength=\"133\" x=\"115.5\" y=\"122.7573\">:&gt;&gt;RequirementTest::c</text><line style=\"stroke: #383838; stroke-width: 1.0;\" x1=\"110.5\" x2=\"150\" y1=\"93.3398\" y2=\"93.3398\"/><text fill=\"#000000\" font-family=\"sans-serif\" font-size=\"11\" lengthAdjust=\"spacingAndGlyphs\" textLength=\"64\" x=\"150\" y=\"96.6479\">constraints</text><line style=\"stroke: #383838; stroke-width: 1.0;\" x1=\"214\" x2=\"253.5\" y1=\"93.3398\" y2=\"93.3398\"/></a><!--MD5=[1dd1bfd58a279cf63c5f349dbc8fc6a1]\n",
       "class E11--><a href=\"psysml:b85d82e7-3bb2-4c49-b03c-5a9b3c771643\" target=\"_top\" title=\"psysml:b85d82e7-3bb2-4c49-b03c-5a9b3c771643\" xlink:actuate=\"onRequest\" xlink:href=\"psysml:b85d82e7-3bb2-4c49-b03c-5a9b3c771643\" xlink:show=\"new\" xlink:title=\"psysml:b85d82e7-3bb2-4c49-b03c-5a9b3c771643\" xlink:type=\"simple\"><rect fill=\"#FFFFFF\" height=\"45.9375\" id=\"E11\" rx=\"10\" ry=\"10\" style=\"stroke: #383838; stroke-width: 1.5;\" width=\"42\" x=\"185\" y=\"344.5\"/><text fill=\"#000000\" font-family=\"sans-serif\" font-size=\"12\" font-style=\"italic\" lengthAdjust=\"spacingAndGlyphs\" textLength=\"40\" x=\"186\" y=\"360.6387\">«part»</text><text fill=\"#000000\" font-family=\"sans-serif\" font-size=\"12\" lengthAdjust=\"spacingAndGlyphs\" textLength=\"8\" x=\"202\" y=\"374.6074\">p</text><line style=\"stroke: #383838; stroke-width: 1.5;\" x1=\"186\" x2=\"226\" y1=\"382.4375\" y2=\"382.4375\"/></a><!--MD5=[49a0ec8f00dab7302a31f22d0f0fe584]\n",
       "class E12--><a href=\"psysml:f6ed6b0e-7205-4bca-ba49-af9a51c8942a\" target=\"_top\" title=\"psysml:f6ed6b0e-7205-4bca-ba49-af9a51c8942a\" xlink:actuate=\"onRequest\" xlink:href=\"psysml:f6ed6b0e-7205-4bca-ba49-af9a51c8942a\" xlink:show=\"new\" xlink:title=\"psysml:f6ed6b0e-7205-4bca-ba49-af9a51c8942a\" xlink:type=\"simple\"><rect fill=\"#FFFFFF\" height=\"45.9375\" id=\"E12\" rx=\"10\" ry=\"10\" style=\"stroke: #383838; stroke-width: 1.5;\" width=\"42\" x=\"32\" y=\"62\"/><text fill=\"#000000\" font-family=\"sans-serif\" font-size=\"12\" font-style=\"italic\" lengthAdjust=\"spacingAndGlyphs\" textLength=\"40\" x=\"33\" y=\"78.1387\">«part»</text><text fill=\"#000000\" font-family=\"sans-serif\" font-size=\"12\" lengthAdjust=\"spacingAndGlyphs\" textLength=\"8\" x=\"49\" y=\"92.1074\">q</text><line style=\"stroke: #383838; stroke-width: 1.5;\" x1=\"33\" x2=\"73\" y1=\"99.9375\" y2=\"99.9375\"/></a><!--MD5=[ee3c913d1a06f366521f9ef512b67efe]\n",
       "class E13--><a href=\"psysml:dc92139c-b950-485f-92a5-3d6f837d8293\" target=\"_top\" title=\"psysml:dc92139c-b950-485f-92a5-3d6f837d8293\" xlink:actuate=\"onRequest\" xlink:href=\"psysml:dc92139c-b950-485f-92a5-3d6f837d8293\" xlink:show=\"new\" xlink:title=\"psysml:dc92139c-b950-485f-92a5-3d6f837d8293\" xlink:type=\"simple\"><rect fill=\"#FFFFFF\" height=\"45.9375\" id=\"E13\" rx=\"10\" ry=\"10\" style=\"stroke: #383838; stroke-width: 1.5;\" width=\"93\" x=\"44.5\" y=\"190\"/><text fill=\"#000000\" font-family=\"sans-serif\" font-size=\"12\" font-style=\"italic\" lengthAdjust=\"spacingAndGlyphs\" textLength=\"91\" x=\"45.5\" y=\"206.1387\">«requirement»</text><text fill=\"#000000\" font-family=\"sans-serif\" font-size=\"12\" lengthAdjust=\"spacingAndGlyphs\" textLength=\"21\" x=\"80.5\" y=\"220.1074\">r: R</text><line style=\"stroke: #383838; stroke-width: 1.5;\" x1=\"45.5\" x2=\"136.5\" y1=\"227.9375\" y2=\"227.9375\"/></a><!--MD5=[05d275557350bfb9b23a4ef7222b4c39]\n",
       "link E3 to E2--><a href=\"psysml:9201001b-4e3f-46f0-8224-89e70f802e39\" target=\"_top\" title=\"psysml:9201001b-4e3f-46f0-8224-89e70f802e39\" xlink:actuate=\"onRequest\" xlink:href=\"psysml:9201001b-4e3f-46f0-8224-89e70f802e39\" xlink:show=\"new\" xlink:title=\"psysml:9201001b-4e3f-46f0-8224-89e70f802e39\" xlink:type=\"simple\"><path d=\"M327.88,108.24 C326.26,125.24 323.98,149.19 322.02,169.79 \" fill=\"none\" id=\"E3-&gt;E2\" style=\"stroke: #383838; stroke-width: 1.0;\"/><polygon fill=\"#FFFFFF\" points=\"320.1,189.99,314.9362,170.411,328.8729,171.7407,320.1,189.99\" style=\"stroke: #383838; stroke-width: 1.0;\"/><ellipse cx=\"317.4685\" cy=\"164.9268\" fill=\"#383838\" rx=\"2\" ry=\"2\" style=\"stroke: #383838; stroke-width: 1.0;\"/><ellipse cx=\"327.4233\" cy=\"165.8765\" fill=\"#383838\" rx=\"2\" ry=\"2\" style=\"stroke: #383838; stroke-width: 1.0;\"/></a><!--MD5=[62aa6af11e70f752912c1cb0466f24f7]\n",
       "reverse link E4 to E5--><a href=\"psysml:56458fbc-ce11-45ea-8fa2-2092e0cfc05c\" target=\"_top\" title=\"psysml:56458fbc-ce11-45ea-8fa2-2092e0cfc05c\" xlink:actuate=\"onRequest\" xlink:href=\"psysml:56458fbc-ce11-45ea-8fa2-2092e0cfc05c\" xlink:show=\"new\" xlink:title=\"psysml:56458fbc-ce11-45ea-8fa2-2092e0cfc05c\" xlink:type=\"simple\"><path d=\"M91,437.45 C91,453.34 91,469.51 91,482.98 \" fill=\"none\" id=\"E4&lt;-E5\" style=\"stroke: #383838; stroke-width: 1.0;\"/><ellipse cx=\"91\" cy=\"430.4\" fill=\"#FFFFFF\" rx=\"8\" ry=\"8\" style=\"stroke: #383838; stroke-width: 1.0;\"/><line style=\"stroke: #383838; stroke-width: 1.0;\" x1=\"91\" x2=\"91\" y1=\"438.4\" y2=\"422.4\"/><line style=\"stroke: #383838; stroke-width: 1.0;\" x1=\"83\" x2=\"99\" y1=\"430.4\" y2=\"430.4\"/></a><!--MD5=[c6fc7cdb0cabde04948078cf183fa696]\n",
       "reverse link E4 to E8--><a href=\"psysml:72b41e7b-9298-4fd0-92ac-738cc777b35a\" target=\"_top\" title=\"psysml:72b41e7b-9298-4fd0-92ac-738cc777b35a\" xlink:actuate=\"onRequest\" xlink:href=\"psysml:72b41e7b-9298-4fd0-92ac-738cc777b35a\" xlink:show=\"new\" xlink:title=\"psysml:72b41e7b-9298-4fd0-92ac-738cc777b35a\" xlink:type=\"simple\"><path d=\"M151.51,432.04 C172.42,453.99 194.47,477.14 210.03,493.48 \" fill=\"none\" id=\"E4&lt;-E8\" style=\"stroke: #383838; stroke-width: 1.0;\"/><polygon fill=\"#383838\" points=\"142.34,422.4,143.5779,429.5041,150.6116,431.0937,149.3737,423.9897,142.34,422.4\" style=\"stroke: #383838; stroke-width: 1.0;\"/></a><!--MD5=[062ed86c389d1a88f61c6380d0491e17]\n",
       "reverse link E12 to E13--><a href=\"psysml:dc92139c-b950-485f-92a5-3d6f837d8293\" target=\"_top\" title=\"psysml:dc92139c-b950-485f-92a5-3d6f837d8293\" xlink:actuate=\"onRequest\" xlink:href=\"psysml:dc92139c-b950-485f-92a5-3d6f837d8293\" xlink:show=\"new\" xlink:title=\"psysml:dc92139c-b950-485f-92a5-3d6f837d8293\" xlink:type=\"simple\"><path d=\"M63.49,120.8 C70.17,142.92 78.6,170.89 84.36,189.99 \" fill=\"none\" id=\"E12&lt;-E13\" style=\"stroke: #383838; stroke-width: 1.0;\"/><polygon fill=\"#383838\" points=\"59.71,108.24,57.6129,115.1394,63.1751,119.7288,65.2722,112.8294,59.71,108.24\" style=\"stroke: #383838; stroke-width: 1.0;\"/></a><!--MD5=[017847e01ff9a8bd19f247411074f987]\n",
       "link E13 to E4--><a href=\"psysml:84833459-b0b4-497f-8a66-9d75104fb430\" target=\"_top\" title=\"psysml:84833459-b0b4-497f-8a66-9d75104fb430\" xlink:actuate=\"onRequest\" xlink:href=\"psysml:84833459-b0b4-497f-8a66-9d75104fb430\" xlink:show=\"new\" xlink:title=\"psysml:84833459-b0b4-497f-8a66-9d75104fb430\" xlink:type=\"simple\"><path d=\"M91,236.17 C91,251.17 91,271.91 91,292.44 \" fill=\"none\" id=\"E13-&gt;E4\" style=\"stroke: #383838; stroke-width: 1.0;\"/><polygon fill=\"#FFFFFF\" points=\"91,312.68,84,293.68,98,293.68,91,312.68\" style=\"stroke: #383838; stroke-width: 1.0;\"/><ellipse cx=\"86\" cy=\"287.98\" fill=\"#383838\" rx=\"2\" ry=\"2\" style=\"stroke: #383838; stroke-width: 1.0;\"/><ellipse cx=\"96\" cy=\"287.98\" fill=\"#383838\" rx=\"2\" ry=\"2\" style=\"stroke: #383838; stroke-width: 1.0;\"/></a><!--MD5=[2cfe899c895462254056921bfb67315f]\n",
       "link E13 to E11--><a href=\"psysml:ed40ce07-1501-496b-adae-3639fe39f1e8\" target=\"_top\" title=\"psysml:ed40ce07-1501-496b-adae-3639fe39f1e8\" xlink:actuate=\"onRequest\" xlink:href=\"psysml:ed40ce07-1501-496b-adae-3639fe39f1e8\" xlink:show=\"new\" xlink:title=\"psysml:ed40ce07-1501-496b-adae-3639fe39f1e8\" xlink:type=\"simple\"><path d=\"M108.36,236.29 C123.87,256.28 147.14,286.45 167,313 C173.57,321.78 180.66,331.44 186.97,340.12 \" fill=\"none\" id=\"E13-&gt;E11\" style=\"stroke: #383838; stroke-width: 1.0; stroke-dasharray: 7.0,7.0;\"/><polygon fill=\"#383838\" points=\"189.99,344.28,187.9274,334.6496,187.0474,340.2376,181.4594,339.3576,189.99,344.28\" style=\"stroke: #383838; stroke-width: 1.0;\"/><text fill=\"#000000\" font-family=\"sans-serif\" font-size=\"13\" lengthAdjust=\"spacingAndGlyphs\" textLength=\"57\" x=\"145\" y=\"279.0669\">«satisfy»</text></a><!--MD5=[85e477dcf8f536ae77c980c0b2e02f8f]\n",
       "@startuml\r\n",
       "skinparam monochrome true\r\n",
       "skinparam classbackgroundcolor white\r\n",
       "skinparam shadowing false\r\n",
       "skinparam wrapWidth 300\r\n",
       "hide circle\r\n",
       "\r\n",
       "package \"RequirementTest\" as E1  [[psysml:32d2418d-b451-4172-b0c3-f203713ef4c8 ]]  {\r\n",
       "comp def \"C\" as E2  <<(T,blue)constraint def>> [[psysml:a1b28860-c9a8-4d37-931e-31ae0c14540e ]] {\r\n",
       "}\r\n",
       "comp usage \"c: C\" as E3  <<(T,blue)constraint>> [[psysml:4f6724e1-6261-429d-9c16-1831387bac9b ]] {\r\n",
       "}\r\n",
       "comp def \"R\" as E4  <<(T,blue)requirement def>> [[psysml:a2742730-9bdb-48ea-a333-70a51cef011c ]] {\r\n",
       "\r\n",
       "- -\r\n",
       "- - constraints - -\r\n",
       "<b>require</b> c\r\n",
       "<i>assume</i> c1: C\r\n",
       "}\r\n",
       "comp def \" [<b>1</b>] A\" as E5  <<(T,blue)requirement def>> [[psysml:56458fbc-ce11-45ea-8fa2-2092e0cfc05c ]] {\r\n",
       "Text\r\n",
       "- -\r\n",
       "}\r\n",
       "comp usage \"<s>noname</s>\" as E8  <<(T,blue)requirement>> [[psysml:72b41e7b-9298-4fd0-92ac-738cc777b35a ]] {\r\n",
       "}\r\n",
       "comp def \"R1\" as E9  <<(T,blue)requirement def>> [[psysml:ec52d3df-f8e8-4ac5-95c0-bf3447feb8a5 ]] {\r\n",
       "- - constraints - -\r\n",
       "<b>require</b> c1\\n//:>>RequirementTest::c// \r\n",
       "}\r\n",
       "comp usage \"p\" as E11  <<(T,blue)part>> [[psysml:b85d82e7-3bb2-4c49-b03c-5a9b3c771643 ]] {\r\n",
       "}\r\n",
       "comp usage \"q\" as E12  <<(T,blue)part>> [[psysml:f6ed6b0e-7205-4bca-ba49-af9a51c8942a ]] {\r\n",
       "}\r\n",
       "comp usage \"r: R\" as E13  <<(T,blue)requirement>> [[psysml:dc92139c-b950-485f-92a5-3d6f837d8293 ]] {\r\n",
       "}\r\n",
       "E3 - -:|> E2 [[psysml:9201001b-4e3f-46f0-8224-89e70f802e39 ]] \r\n",
       "E4 +- - E5 [[psysml:56458fbc-ce11-45ea-8fa2-2092e0cfc05c ]] \r\n",
       "E4 *- - E8 [[psysml:72b41e7b-9298-4fd0-92ac-738cc777b35a ]] \r\n",
       "E12 *- - E13 [[psysml:dc92139c-b950-485f-92a5-3d6f837d8293 ]] \r\n",
       "E13 - -:|> E4 [[psysml:84833459-b0b4-497f-8a66-9d75104fb430 ]] \r\n",
       "E13 ..> E11 [[psysml:ed40ce07-1501-496b-adae-3639fe39f1e8 ]] : <<satisfy>>\r\n",
       "}\r\n",
       "@enduml\r\n",
       "\n",
       "PlantUML version 1.2020.13(Sat Jun 13 12:26:38 UTC 2020)\n",
       "(EPL source distribution)\n",
       "Java Runtime: OpenJDK Runtime Environment\n",
       "JVM: OpenJDK 64-Bit Server VM\n",
       "Default Encoding: UTF-8\n",
       "Language: en\n",
       "Country: null\n",
       "--></g></svg>"
      ]
     },
     "execution_count": 38,
     "metadata": {},
     "output_type": "execute_result"
    }
   ],
   "source": [
    "%viz --style=\"DEFAULT\" --view=\"Tree\" \"RequirementTest\""
   ]
  },
  {
   "cell_type": "code",
   "execution_count": 39,
   "id": "incorporate-clock",
   "metadata": {
    "execution": {
     "iopub.execute_input": "2021-03-26T13:01:10.372379Z",
     "iopub.status.busy": "2021-03-26T13:01:10.372001Z",
     "iopub.status.idle": "2021-03-26T13:01:10.375097Z",
     "shell.execute_reply": "2021-03-26T13:01:10.375510Z"
    }
   },
   "outputs": [
    {
     "data": {
      "image/svg+xml": [
       "<?xml version=\"1.0\" encoding=\"UTF-8\" standalone=\"no\"?><svg xmlns=\"http://www.w3.org/2000/svg\" xmlns:xlink=\"http://www.w3.org/1999/xlink\" contentScriptType=\"application/ecmascript\" contentStyleType=\"text/css\" height=\"12px\" preserveAspectRatio=\"none\" style=\"width:12px;height:12px;\" version=\"1.1\" viewBox=\"0 0 12 12\" width=\"12px\" zoomAndPan=\"magnify\"><defs/><g><!--MD5=[c5f280e076d0d61ccf4b0f27871bda1d]\n",
       "@startuml\r\n",
       "skinparam monochrome true\r\n",
       "skinparam classbackgroundcolor white\r\n",
       "skinparam shadowing false\r\n",
       "skinparam wrapWidth 300\r\n",
       "hide circle\r\n",
       "\r\n",
       "@enduml\r\n",
       "\n",
       "PlantUML version 1.2020.13(Sat Jun 13 12:26:38 UTC 2020)\n",
       "(EPL source distribution)\n",
       "Java Runtime: OpenJDK Runtime Environment\n",
       "JVM: OpenJDK 64-Bit Server VM\n",
       "Default Encoding: UTF-8\n",
       "Language: en\n",
       "Country: null\n",
       "--></g></svg>"
      ]
     },
     "execution_count": 39,
     "metadata": {},
     "output_type": "execute_result"
    }
   ],
   "source": [
    "%viz --style=\"DEFAULT\" --view=\"State\" \"RequirementTest\""
   ]
  },
  {
   "cell_type": "code",
   "execution_count": 40,
   "id": "junior-tower",
   "metadata": {
    "execution": {
     "iopub.execute_input": "2021-03-26T13:01:10.426320Z",
     "iopub.status.busy": "2021-03-26T13:01:10.425936Z",
     "iopub.status.idle": "2021-03-26T13:01:10.460559Z",
     "shell.execute_reply": "2021-03-26T13:01:10.459181Z"
    }
   },
   "outputs": [
    {
     "data": {
      "image/svg+xml": [
       "<?xml version=\"1.0\" encoding=\"UTF-8\" standalone=\"no\"?><svg xmlns=\"http://www.w3.org/2000/svg\" xmlns:xlink=\"http://www.w3.org/1999/xlink\" contentScriptType=\"application/ecmascript\" contentStyleType=\"text/css\" height=\"367px\" preserveAspectRatio=\"none\" style=\"width:852px;height:367px;\" version=\"1.1\" viewBox=\"0 0 852 367\" width=\"852px\" zoomAndPan=\"magnify\"><defs/><g><!--MD5=[fbc87193dbaf4d95561dea2c320d4a47]\n",
       "cluster E1--><a href=\"psysml:32d2418d-b451-4172-b0c3-f203713ef4c8\" target=\"_top\" title=\"psysml:32d2418d-b451-4172-b0c3-f203713ef4c8\" xlink:actuate=\"onRequest\" xlink:href=\"psysml:32d2418d-b451-4172-b0c3-f203713ef4c8\" xlink:show=\"new\" xlink:title=\"psysml:32d2418d-b451-4172-b0c3-f203713ef4c8\" xlink:type=\"simple\"><polygon fill=\"#FFFFFF\" points=\"16,6,158,6,165,28.2969,830,28.2969,830,355,16,355,16,6\" style=\"stroke: #000000; stroke-width: 1.5;\"/><line style=\"stroke: #000000; stroke-width: 1.5;\" x1=\"16\" x2=\"165\" y1=\"28.2969\" y2=\"28.2969\"/><text fill=\"#000000\" font-family=\"sans-serif\" font-size=\"14\" font-weight=\"bold\" lengthAdjust=\"spacingAndGlyphs\" textLength=\"136\" x=\"20\" y=\"20.9951\">RequirementTest</text></a><!--MD5=[168fadf3d0c3fd93dd5d6da1b1d7ab76]\n",
       "cluster E7--><a href=\"psysml:f6ed6b0e-7205-4bca-ba49-af9a51c8942a\" target=\"_top\" title=\"psysml:f6ed6b0e-7205-4bca-ba49-af9a51c8942a\" xlink:actuate=\"onRequest\" xlink:href=\"psysml:f6ed6b0e-7205-4bca-ba49-af9a51c8942a\" xlink:show=\"new\" xlink:title=\"psysml:f6ed6b0e-7205-4bca-ba49-af9a51c8942a\" xlink:type=\"simple\"><rect fill=\"#FFFFFF\" height=\"209\" id=\"E7\" rx=\"10\" ry=\"10\" style=\"stroke: #383838; stroke-width: 1.5;\" width=\"213\" x=\"593\" y=\"49\"/><rect fill=\"#F8F8F8\" height=\"23.9688\" rx=\"10\" ry=\"10\" style=\"stroke: #F8F8F8; stroke-width: 1.5;\" width=\"213\" x=\"593\" y=\"49\"/><rect fill=\"#F8F8F8\" height=\"10\" style=\"stroke: #F8F8F8; stroke-width: 1.5;\" width=\"213\" x=\"593\" y=\"62.9688\"/><rect fill=\"none\" height=\"209\" id=\"E7\" rx=\"10\" ry=\"10\" style=\"stroke: #383838; stroke-width: 1.5;\" width=\"213\" x=\"593\" y=\"49\"/><text fill=\"#000000\" font-family=\"sans-serif\" font-size=\"12\" lengthAdjust=\"spacingAndGlyphs\" textLength=\"8\" x=\"695.5\" y=\"65.1387\">q</text><line style=\"stroke: #383838; stroke-width: 1.0;\" x1=\"593\" x2=\"806\" y1=\"72.9688\" y2=\"72.9688\"/></a><!--MD5=[55dfccfc6c49c2d10cd1bd2211a6c90c]\n",
       "cluster E8--><a href=\"psysml:dc92139c-b950-485f-92a5-3d6f837d8293\" target=\"_top\" title=\"psysml:dc92139c-b950-485f-92a5-3d6f837d8293\" xlink:actuate=\"onRequest\" xlink:href=\"psysml:dc92139c-b950-485f-92a5-3d6f837d8293\" xlink:show=\"new\" xlink:title=\"psysml:dc92139c-b950-485f-92a5-3d6f837d8293\" xlink:type=\"simple\"><rect fill=\"#FFFFFF\" height=\"126\" id=\"E8\" rx=\"10\" ry=\"10\" style=\"stroke: #383838; stroke-width: 1.5;\" width=\"149\" x=\"625\" y=\"100\"/><rect fill=\"#F8F8F8\" height=\"37.9375\" rx=\"10\" ry=\"10\" style=\"stroke: #F8F8F8; stroke-width: 1.5;\" width=\"149\" x=\"625\" y=\"100\"/><rect fill=\"#F8F8F8\" height=\"10\" style=\"stroke: #F8F8F8; stroke-width: 1.5;\" width=\"149\" x=\"625\" y=\"127.9375\"/><rect fill=\"none\" height=\"126\" id=\"E8\" rx=\"10\" ry=\"10\" style=\"stroke: #383838; stroke-width: 1.5;\" width=\"149\" x=\"625\" y=\"100\"/><text fill=\"#000000\" font-family=\"sans-serif\" font-size=\"12\" font-style=\"italic\" lengthAdjust=\"spacingAndGlyphs\" textLength=\"91\" x=\"654\" y=\"116.1387\">«requirement»</text><text fill=\"#000000\" font-family=\"sans-serif\" font-size=\"12\" lengthAdjust=\"spacingAndGlyphs\" textLength=\"21\" x=\"689\" y=\"130.1074\">r: R</text><line style=\"stroke: #383838; stroke-width: 1.0;\" x1=\"625\" x2=\"774\" y1=\"137.9375\" y2=\"137.9375\"/></a><g id=\"E1.E2\"><a href=\"psysml:a1b28860-c9a8-4d37-931e-31ae0c14540e\" target=\"_top\" title=\"psysml:a1b28860-c9a8-4d37-931e-31ae0c14540e\" xlink:actuate=\"onRequest\" xlink:href=\"psysml:a1b28860-c9a8-4d37-931e-31ae0c14540e\" xlink:show=\"new\" xlink:title=\"psysml:a1b28860-c9a8-4d37-931e-31ae0c14540e\" xlink:type=\"simple\"><rect fill=\"#FFFFFF\" height=\"42.9375\" id=\"E2\" style=\"stroke: #383838; stroke-width: 1.5;\" width=\"109\" x=\"467.5\" y=\"159\"/><rect fill=\"#F8F8F8\" height=\"37.9375\" style=\"stroke: #383838; stroke-width: 1.5;\" width=\"109\" x=\"467.5\" y=\"159\"/><text fill=\"#000000\" font-family=\"sans-serif\" font-size=\"12\" font-style=\"italic\" lengthAdjust=\"spacingAndGlyphs\" textLength=\"102\" x=\"471\" y=\"175.1387\">«constraint def»</text><text fill=\"#000000\" font-family=\"sans-serif\" font-size=\"12\" lengthAdjust=\"spacingAndGlyphs\" textLength=\"8\" x=\"518\" y=\"189.1074\">C</text></a></g><g id=\"E1.E4\"><a href=\"psysml:a2742730-9bdb-48ea-a333-70a51cef011c\" target=\"_top\" title=\"psysml:a2742730-9bdb-48ea-a333-70a51cef011c\" xlink:actuate=\"onRequest\" xlink:href=\"psysml:a2742730-9bdb-48ea-a333-70a51cef011c\" xlink:show=\"new\" xlink:title=\"psysml:a2742730-9bdb-48ea-a333-70a51cef011c\" xlink:type=\"simple\"><rect fill=\"#FFFFFF\" height=\"42.9375\" id=\"E4\" style=\"stroke: #383838; stroke-width: 1.5;\" width=\"122\" x=\"310\" y=\"159\"/><rect fill=\"#F8F8F8\" height=\"37.9375\" style=\"stroke: #383838; stroke-width: 1.5;\" width=\"122\" x=\"310\" y=\"159\"/><text fill=\"#000000\" font-family=\"sans-serif\" font-size=\"12\" font-style=\"italic\" lengthAdjust=\"spacingAndGlyphs\" textLength=\"115\" x=\"313.5\" y=\"175.1387\">«requirement def»</text><text fill=\"#000000\" font-family=\"sans-serif\" font-size=\"12\" lengthAdjust=\"spacingAndGlyphs\" textLength=\"8\" x=\"367\" y=\"189.1074\">R</text></a></g><g id=\"E1.E5\"><a href=\"psysml:ec52d3df-f8e8-4ac5-95c0-bf3447feb8a5\" target=\"_top\" title=\"psysml:ec52d3df-f8e8-4ac5-95c0-bf3447feb8a5\" xlink:actuate=\"onRequest\" xlink:href=\"psysml:ec52d3df-f8e8-4ac5-95c0-bf3447feb8a5\" xlink:show=\"new\" xlink:title=\"psysml:ec52d3df-f8e8-4ac5-95c0-bf3447feb8a5\" xlink:type=\"simple\"><rect fill=\"#FFFFFF\" height=\"42.9375\" id=\"E5\" style=\"stroke: #383838; stroke-width: 1.5;\" width=\"122\" x=\"153\" y=\"159\"/><rect fill=\"#F8F8F8\" height=\"37.9375\" style=\"stroke: #383838; stroke-width: 1.5;\" width=\"122\" x=\"153\" y=\"159\"/><text fill=\"#000000\" font-family=\"sans-serif\" font-size=\"12\" font-style=\"italic\" lengthAdjust=\"spacingAndGlyphs\" textLength=\"115\" x=\"156.5\" y=\"175.1387\">«requirement def»</text><text fill=\"#000000\" font-family=\"sans-serif\" font-size=\"12\" lengthAdjust=\"spacingAndGlyphs\" textLength=\"16\" x=\"206\" y=\"189.1074\">R1</text></a></g><g id=\"E1.E3\"><a href=\"psysml:4f6724e1-6261-429d-9c16-1831387bac9b\" target=\"_top\" title=\"psysml:4f6724e1-6261-429d-9c16-1831387bac9b\" xlink:actuate=\"onRequest\" xlink:href=\"psysml:4f6724e1-6261-429d-9c16-1831387bac9b\" xlink:show=\"new\" xlink:title=\"psysml:4f6724e1-6261-429d-9c16-1831387bac9b\" xlink:type=\"simple\"><rect fill=\"#FFFFFF\" height=\"42.9375\" id=\"E3\" rx=\"10\" ry=\"10\" style=\"stroke: #383838; stroke-width: 1.5;\" width=\"85\" x=\"32.5\" y=\"159\"/><rect fill=\"#F8F8F8\" height=\"37.9375\" rx=\"10\" ry=\"10\" style=\"stroke: #F8F8F8; stroke-width: 1.5;\" width=\"85\" x=\"32.5\" y=\"159\"/><rect fill=\"#F8F8F8\" height=\"10\" style=\"stroke: #F8F8F8; stroke-width: 1.5;\" width=\"85\" x=\"32.5\" y=\"186.9375\"/><rect fill=\"none\" height=\"42.9375\" id=\"E3\" rx=\"10\" ry=\"10\" style=\"stroke: #383838; stroke-width: 1.5;\" width=\"85\" x=\"32.5\" y=\"159\"/><text fill=\"#000000\" font-family=\"sans-serif\" font-size=\"12\" font-style=\"italic\" lengthAdjust=\"spacingAndGlyphs\" textLength=\"78\" x=\"36\" y=\"175.1387\">«constraint»</text><text fill=\"#000000\" font-family=\"sans-serif\" font-size=\"12\" lengthAdjust=\"spacingAndGlyphs\" textLength=\"23\" x=\"63.5\" y=\"189.1074\">c: C</text></a></g><g id=\"E1.E6\"><a href=\"psysml:b85d82e7-3bb2-4c49-b03c-5a9b3c771643\" target=\"_top\" title=\"psysml:b85d82e7-3bb2-4c49-b03c-5a9b3c771643\" xlink:actuate=\"onRequest\" xlink:href=\"psysml:b85d82e7-3bb2-4c49-b03c-5a9b3c771643\" xlink:show=\"new\" xlink:title=\"psysml:b85d82e7-3bb2-4c49-b03c-5a9b3c771643\" xlink:type=\"simple\"><rect fill=\"#FFFFFF\" height=\"40\" id=\"E6\" rx=\"10\" ry=\"10\" style=\"stroke: #383838; stroke-width: 1.5;\" width=\"50\" x=\"608\" y=\"299\"/><rect fill=\"#F8F8F8\" height=\"23.9688\" rx=\"10\" ry=\"10\" style=\"stroke: #F8F8F8; stroke-width: 1.5;\" width=\"50\" x=\"608\" y=\"299\"/><rect fill=\"#F8F8F8\" height=\"10\" style=\"stroke: #F8F8F8; stroke-width: 1.5;\" width=\"50\" x=\"608\" y=\"312.9688\"/><rect fill=\"none\" height=\"40\" id=\"E6\" rx=\"10\" ry=\"10\" style=\"stroke: #383838; stroke-width: 1.5;\" width=\"50\" x=\"608\" y=\"299\"/><text fill=\"#000000\" font-family=\"sans-serif\" font-size=\"12\" lengthAdjust=\"spacingAndGlyphs\" textLength=\"8\" x=\"629\" y=\"315.1387\">p</text></a></g><g id=\"E1.E7.E8.E9\"><a href=\"psysml:aab203df-2e20-42f3-8553-8efa379fea2d\" target=\"_top\" title=\"psysml:aab203df-2e20-42f3-8553-8efa379fea2d\" xlink:actuate=\"onRequest\" xlink:href=\"psysml:aab203df-2e20-42f3-8553-8efa379fea2d\" xlink:show=\"new\" xlink:title=\"psysml:aab203df-2e20-42f3-8553-8efa379fea2d\" xlink:type=\"simple\"><rect fill=\"#FFFFFF\" height=\"42.9375\" id=\"E9\" rx=\"10\" ry=\"10\" style=\"stroke: #383838; stroke-width: 1.5;\" width=\"82\" x=\"668\" y=\"159\"/><rect fill=\"#F8F8F8\" height=\"37.9375\" rx=\"10\" ry=\"10\" style=\"stroke: #F8F8F8; stroke-width: 1.5;\" width=\"82\" x=\"668\" y=\"159\"/><rect fill=\"#F8F8F8\" height=\"10\" style=\"stroke: #F8F8F8; stroke-width: 1.5;\" width=\"82\" x=\"668\" y=\"186.9375\"/><rect fill=\"none\" height=\"42.9375\" id=\"E9\" rx=\"10\" ry=\"10\" style=\"stroke: #383838; stroke-width: 1.5;\" width=\"82\" x=\"668\" y=\"159\"/><text fill=\"#000000\" font-family=\"sans-serif\" font-size=\"12\" font-style=\"italic\" lengthAdjust=\"spacingAndGlyphs\" textLength=\"75\" x=\"671.5\" y=\"175.1387\">«reference»</text><text fill=\"#000000\" font-family=\"sans-serif\" font-size=\"12\" lengthAdjust=\"spacingAndGlyphs\" textLength=\"26\" x=\"696\" y=\"189.1074\">subj</text></a></g><!--MD5=[c5e8897d989ce984f93528998a7150fe]\n",
       "link E8 to E6--><a href=\"psysml:ed40ce07-1501-496b-adae-3639fe39f1e8\" target=\"_top\" title=\"psysml:ed40ce07-1501-496b-adae-3639fe39f1e8\" xlink:actuate=\"onRequest\" xlink:href=\"psysml:ed40ce07-1501-496b-adae-3639fe39f1e8\" xlink:show=\"new\" xlink:title=\"psysml:ed40ce07-1501-496b-adae-3639fe39f1e8\" xlink:type=\"simple\"><path d=\"M633,226.4501 C633,227.1713 633,227.8965 633,228.6252 C633,230.0826 633,231.5543 633,233.0372 C633,236.003 633,239.0136 633,242.0448 C633,248.1072 633,254.2518 633,260.2839 C633,272.3481 633,283.9625 633,293.57 \" fill=\"none\" id=\"E8-&gt;E6\" style=\"stroke: #383838; stroke-width: 1.0; stroke-dasharray: 7.0,7.0;\"/><polygon fill=\"#383838\" points=\"633,298.99,637,289.99,633,293.99,629,289.99,633,298.99\" style=\"stroke: #383838; stroke-width: 1.0;\"/><text fill=\"#000000\" font-family=\"sans-serif\" font-size=\"13\" lengthAdjust=\"spacingAndGlyphs\" textLength=\"57\" x=\"634\" y=\"287.0669\">«satisfy»</text></a><!--MD5=[15ba09a26be1269a183879830a44d446]\n",
       "@startuml\r\n",
       "skinparam ranksep 8\r\n",
       "skinparam rectangle {\r\n",
       " backgroundColor<<block>> LightGreen\r\n",
       "}\r\n",
       "skinparam monochrome true\r\n",
       "skinparam classbackgroundcolor white\r\n",
       "skinparam shadowing false\r\n",
       "skinparam wrapWidth 300\r\n",
       "hide circle\r\n",
       "\r\n",
       "package \"RequirementTest\" as E1  [[psysml:32d2418d-b451-4172-b0c3-f203713ef4c8 ]]  {\r\n",
       "def \"C\" as E2  <<(T,blue)constraint def>> [[psysml:a1b28860-c9a8-4d37-931e-31ae0c14540e ]] \r\n",
       "rec usage \"c: C\" as E3  <<(T,blue)constraint>> [[psysml:4f6724e1-6261-429d-9c16-1831387bac9b ]] {\r\n",
       "}\r\n",
       "def \"R\" as E4  <<(T,blue)requirement def>> [[psysml:a2742730-9bdb-48ea-a333-70a51cef011c ]] \r\n",
       "def \"R1\" as E5  <<(T,blue)requirement def>> [[psysml:ec52d3df-f8e8-4ac5-95c0-bf3447feb8a5 ]] \r\n",
       "rec usage \"p\" as E6  [[psysml:b85d82e7-3bb2-4c49-b03c-5a9b3c771643 ]] {\r\n",
       "}\r\n",
       "rec usage \"q\" as E7  [[psysml:f6ed6b0e-7205-4bca-ba49-af9a51c8942a ]] {\r\n",
       "rec usage \"r: R\" as E8  <<(T,blue)requirement>> [[psysml:dc92139c-b950-485f-92a5-3d6f837d8293 ]] {\r\n",
       "rec usage \"subj\" as E9  <<(T,blue)reference>> [[psysml:aab203df-2e20-42f3-8553-8efa379fea2d ]] {\r\n",
       "}\r\n",
       "}\r\n",
       "}\r\n",
       "E8 ..> E6 [[psysml:ed40ce07-1501-496b-adae-3639fe39f1e8 ]] : <<satisfy>>\r\n",
       "}\r\n",
       "@enduml\r\n",
       "\n",
       "PlantUML version 1.2020.13(Sat Jun 13 12:26:38 UTC 2020)\n",
       "(EPL source distribution)\n",
       "Java Runtime: OpenJDK Runtime Environment\n",
       "JVM: OpenJDK 64-Bit Server VM\n",
       "Default Encoding: UTF-8\n",
       "Language: en\n",
       "Country: null\n",
       "--></g></svg>"
      ]
     },
     "execution_count": 40,
     "metadata": {},
     "output_type": "execute_result"
    }
   ],
   "source": [
    "%viz --style=\"DEFAULT\" --view=\"Interconnection\" \"RequirementTest\""
   ]
  },
  {
   "cell_type": "code",
   "execution_count": 41,
   "id": "intelligent-arkansas",
   "metadata": {
    "execution": {
     "iopub.execute_input": "2021-03-26T13:01:10.510922Z",
     "iopub.status.busy": "2021-03-26T13:01:10.510364Z",
     "iopub.status.idle": "2021-03-26T13:01:10.516592Z",
     "shell.execute_reply": "2021-03-26T13:01:10.515935Z"
    }
   },
   "outputs": [
    {
     "data": {
      "image/svg+xml": [
       "<?xml version=\"1.0\" encoding=\"UTF-8\" standalone=\"no\"?><svg xmlns=\"http://www.w3.org/2000/svg\" xmlns:xlink=\"http://www.w3.org/1999/xlink\" contentScriptType=\"application/ecmascript\" contentStyleType=\"text/css\" height=\"12px\" preserveAspectRatio=\"none\" style=\"width:12px;height:12px;\" version=\"1.1\" viewBox=\"0 0 12 12\" width=\"12px\" zoomAndPan=\"magnify\"><defs/><g><!--MD5=[388f21188e31bfdd97050473b19af356]\n",
       "@startuml\r\n",
       "skinparam ranksep 8\r\n",
       "skinparam monochrome true\r\n",
       "skinparam classbackgroundcolor white\r\n",
       "skinparam shadowing false\r\n",
       "skinparam wrapWidth 300\r\n",
       "hide circle\r\n",
       "\r\n",
       "@enduml\r\n",
       "\n",
       "PlantUML version 1.2020.13(Sat Jun 13 12:26:38 UTC 2020)\n",
       "(EPL source distribution)\n",
       "Java Runtime: OpenJDK Runtime Environment\n",
       "JVM: OpenJDK 64-Bit Server VM\n",
       "Default Encoding: UTF-8\n",
       "Language: en\n",
       "Country: null\n",
       "--></g></svg>"
      ]
     },
     "execution_count": 41,
     "metadata": {},
     "output_type": "execute_result"
    }
   ],
   "source": [
    "%viz --style=\"DEFAULT\" --view=\"Action\" \"RequirementTest\""
   ]
  },
  {
   "cell_type": "code",
   "execution_count": 42,
   "id": "suspected-liberty",
   "metadata": {
    "execution": {
     "iopub.execute_input": "2021-03-26T13:01:10.570393Z",
     "iopub.status.busy": "2021-03-26T13:01:10.569819Z",
     "iopub.status.idle": "2021-03-26T13:01:10.656417Z",
     "shell.execute_reply": "2021-03-26T13:01:10.654473Z"
    }
   },
   "outputs": [
    {
     "data": {
      "image/svg+xml": [
       "<?xml version=\"1.0\" encoding=\"UTF-8\" standalone=\"no\"?><svg xmlns=\"http://www.w3.org/2000/svg\" xmlns:xlink=\"http://www.w3.org/1999/xlink\" contentScriptType=\"application/ecmascript\" contentStyleType=\"text/css\" height=\"578px\" preserveAspectRatio=\"none\" style=\"width:408px;height:578px;\" version=\"1.1\" viewBox=\"0 0 408 578\" width=\"408px\" zoomAndPan=\"magnify\"><defs/><g><!--MD5=[fbc87193dbaf4d95561dea2c320d4a47]\n",
       "cluster E1--><a href=\"psysml:32d2418d-b451-4172-b0c3-f203713ef4c8\" target=\"_top\" title=\"psysml:32d2418d-b451-4172-b0c3-f203713ef4c8\" xlink:actuate=\"onRequest\" xlink:href=\"psysml:32d2418d-b451-4172-b0c3-f203713ef4c8\" xlink:show=\"new\" xlink:title=\"psysml:32d2418d-b451-4172-b0c3-f203713ef4c8\" xlink:type=\"simple\"><polygon fill=\"#FFFFFF\" points=\"16,6,158,6,165,28.2969,386,28.2969,386,566,16,566,16,6\" style=\"stroke: #000000; stroke-width: 1.5;\"/><line style=\"stroke: #000000; stroke-width: 1.5;\" x1=\"16\" x2=\"165\" y1=\"28.2969\" y2=\"28.2969\"/><text fill=\"#000000\" font-family=\"sans-serif\" font-size=\"14\" font-weight=\"bold\" lengthAdjust=\"spacingAndGlyphs\" textLength=\"136\" x=\"20\" y=\"20.9951\">RequirementTest</text></a><!--MD5=[b4997ac47864f28c2f74865a473b2911]\n",
       "class E2--><a href=\"psysml:a1b28860-c9a8-4d37-931e-31ae0c14540e\" target=\"_top\" title=\"psysml:a1b28860-c9a8-4d37-931e-31ae0c14540e\" xlink:actuate=\"onRequest\" xlink:href=\"psysml:a1b28860-c9a8-4d37-931e-31ae0c14540e\" xlink:show=\"new\" xlink:title=\"psysml:a1b28860-c9a8-4d37-931e-31ae0c14540e\" xlink:type=\"simple\"><rect fill=\"#FFFFFF\" height=\"45.9375\" id=\"E2\" style=\"stroke: #383838; stroke-width: 1.5;\" width=\"104\" x=\"266\" y=\"190\"/><text fill=\"#000000\" font-family=\"sans-serif\" font-size=\"12\" font-style=\"italic\" lengthAdjust=\"spacingAndGlyphs\" textLength=\"102\" x=\"267\" y=\"206.1387\">«constraint def»</text><text fill=\"#000000\" font-family=\"sans-serif\" font-size=\"12\" lengthAdjust=\"spacingAndGlyphs\" textLength=\"8\" x=\"314\" y=\"220.1074\">C</text><line style=\"stroke: #383838; stroke-width: 1.5;\" x1=\"267\" x2=\"369\" y1=\"227.9375\" y2=\"227.9375\"/></a><!--MD5=[09b614a08d8cba4a07c9adeb5e0fee81]\n",
       "class E3--><a href=\"psysml:4f6724e1-6261-429d-9c16-1831387bac9b\" target=\"_top\" title=\"psysml:4f6724e1-6261-429d-9c16-1831387bac9b\" xlink:actuate=\"onRequest\" xlink:href=\"psysml:4f6724e1-6261-429d-9c16-1831387bac9b\" xlink:show=\"new\" xlink:title=\"psysml:4f6724e1-6261-429d-9c16-1831387bac9b\" xlink:type=\"simple\"><rect fill=\"#FFFFFF\" height=\"45.9375\" id=\"E3\" rx=\"10\" ry=\"10\" style=\"stroke: #383838; stroke-width: 1.5;\" width=\"80\" x=\"290\" y=\"62\"/><text fill=\"#000000\" font-family=\"sans-serif\" font-size=\"12\" font-style=\"italic\" lengthAdjust=\"spacingAndGlyphs\" textLength=\"78\" x=\"291\" y=\"78.1387\">«constraint»</text><text fill=\"#000000\" font-family=\"sans-serif\" font-size=\"12\" lengthAdjust=\"spacingAndGlyphs\" textLength=\"23\" x=\"318.5\" y=\"92.1074\">c: C</text><line style=\"stroke: #383838; stroke-width: 1.5;\" x1=\"291\" x2=\"369\" y1=\"99.9375\" y2=\"99.9375\"/></a><!--MD5=[ebbe1d658d1005bcc118a6aa81145e00]\n",
       "class E4--><a href=\"psysml:a2742730-9bdb-48ea-a333-70a51cef011c\" target=\"_top\" title=\"psysml:a2742730-9bdb-48ea-a333-70a51cef011c\" xlink:actuate=\"onRequest\" xlink:href=\"psysml:a2742730-9bdb-48ea-a333-70a51cef011c\" xlink:show=\"new\" xlink:title=\"psysml:a2742730-9bdb-48ea-a333-70a51cef011c\" xlink:type=\"simple\"><rect fill=\"#FFFFFF\" height=\"109.1563\" id=\"E4\" style=\"stroke: #383838; stroke-width: 1.5;\" width=\"117\" x=\"32.5\" y=\"313\"/><text fill=\"#000000\" font-family=\"sans-serif\" font-size=\"12\" font-style=\"italic\" lengthAdjust=\"spacingAndGlyphs\" textLength=\"115\" x=\"33.5\" y=\"329.1387\">«requirement def»</text><text fill=\"#000000\" font-family=\"sans-serif\" font-size=\"12\" lengthAdjust=\"spacingAndGlyphs\" textLength=\"8\" x=\"87\" y=\"343.1074\">R</text><line style=\"stroke: #383838; stroke-width: 1.5;\" x1=\"33.5\" x2=\"148.5\" y1=\"350.9375\" y2=\"350.9375\"/><text fill=\"#000000\" font-family=\"sans-serif\" font-size=\"11\" lengthAdjust=\"spacingAndGlyphs\" textLength=\"0\" x=\"42.5\" y=\"365.1479\"/><line style=\"stroke: #383838; stroke-width: 1.0;\" x1=\"33.5\" x2=\"148.5\" y1=\"371.7422\" y2=\"371.7422\"/><text fill=\"#000000\" font-family=\"sans-serif\" font-size=\"11\" font-weight=\"bold\" lengthAdjust=\"spacingAndGlyphs\" textLength=\"46\" x=\"38.5\" y=\"402.7573\">require</text><text fill=\"#000000\" font-family=\"sans-serif\" font-size=\"11\" lengthAdjust=\"spacingAndGlyphs\" textLength=\"6\" x=\"88.5\" y=\"402.7573\">c</text><text fill=\"#000000\" font-family=\"sans-serif\" font-size=\"11\" font-style=\"italic\" lengthAdjust=\"spacingAndGlyphs\" textLength=\"46\" x=\"38.5\" y=\"415.562\">assume</text><text fill=\"#000000\" font-family=\"sans-serif\" font-size=\"11\" lengthAdjust=\"spacingAndGlyphs\" textLength=\"29\" x=\"88.5\" y=\"415.562\">c1: C</text><line style=\"stroke: #383838; stroke-width: 1.0;\" x1=\"33.5\" x2=\"59\" y1=\"386.1445\" y2=\"386.1445\"/><text fill=\"#000000\" font-family=\"sans-serif\" font-size=\"11\" lengthAdjust=\"spacingAndGlyphs\" textLength=\"64\" x=\"59\" y=\"389.4526\">constraints</text><line style=\"stroke: #383838; stroke-width: 1.0;\" x1=\"123\" x2=\"148.5\" y1=\"386.1445\" y2=\"386.1445\"/></a><!--MD5=[270fce915f116d4de14055a7c1d9a0f3]\n",
       "class E5--><a href=\"psysml:56458fbc-ce11-45ea-8fa2-2092e0cfc05c\" target=\"_top\" title=\"psysml:56458fbc-ce11-45ea-8fa2-2092e0cfc05c\" xlink:actuate=\"onRequest\" xlink:href=\"psysml:56458fbc-ce11-45ea-8fa2-2092e0cfc05c\" xlink:show=\"new\" xlink:title=\"psysml:56458fbc-ce11-45ea-8fa2-2092e0cfc05c\" xlink:type=\"simple\"><rect fill=\"#FFFFFF\" height=\"66.7422\" id=\"E5\" style=\"stroke: #383838; stroke-width: 1.5;\" width=\"117\" x=\"32.5\" y=\"483\"/><text fill=\"#000000\" font-family=\"sans-serif\" font-size=\"12\" font-style=\"italic\" lengthAdjust=\"spacingAndGlyphs\" textLength=\"115\" x=\"33.5\" y=\"499.1387\">«requirement def»</text><text fill=\"#000000\" font-family=\"sans-serif\" font-size=\"12\" lengthAdjust=\"spacingAndGlyphs\" textLength=\"5\" x=\"78\" y=\"513.1074\">[</text><text fill=\"#000000\" font-family=\"sans-serif\" font-size=\"12\" font-weight=\"bold\" lengthAdjust=\"spacingAndGlyphs\" textLength=\"8\" x=\"83\" y=\"513.1074\">1</text><text fill=\"#000000\" font-family=\"sans-serif\" font-size=\"12\" lengthAdjust=\"spacingAndGlyphs\" textLength=\"17\" x=\"91\" y=\"513.1074\">] A</text><line style=\"stroke: #383838; stroke-width: 1.5;\" x1=\"33.5\" x2=\"148.5\" y1=\"520.9375\" y2=\"520.9375\"/><text fill=\"#000000\" font-family=\"sans-serif\" font-size=\"11\" lengthAdjust=\"spacingAndGlyphs\" textLength=\"24\" x=\"38.5\" y=\"535.1479\">Text</text><line style=\"stroke: #383838; stroke-width: 1.0;\" x1=\"33.5\" x2=\"148.5\" y1=\"541.7422\" y2=\"541.7422\"/></a><!--MD5=[b9389687b975829384b498ac4b7476b2]\n",
       "class E8--><a href=\"psysml:72b41e7b-9298-4fd0-92ac-738cc777b35a\" target=\"_top\" title=\"psysml:72b41e7b-9298-4fd0-92ac-738cc777b35a\" xlink:actuate=\"onRequest\" xlink:href=\"psysml:72b41e7b-9298-4fd0-92ac-738cc777b35a\" xlink:show=\"new\" xlink:title=\"psysml:72b41e7b-9298-4fd0-92ac-738cc777b35a\" xlink:type=\"simple\"><rect fill=\"#FFFFFF\" height=\"45.9375\" id=\"E8\" rx=\"10\" ry=\"10\" style=\"stroke: #383838; stroke-width: 1.5;\" width=\"93\" x=\"184.5\" y=\"493.5\"/><text fill=\"#000000\" font-family=\"sans-serif\" font-size=\"12\" font-style=\"italic\" lengthAdjust=\"spacingAndGlyphs\" textLength=\"91\" x=\"185.5\" y=\"509.6387\">«requirement»</text><text fill=\"#000000\" font-family=\"sans-serif\" font-size=\"12\" lengthAdjust=\"spacingAndGlyphs\" text-decoration=\"line-through\" textLength=\"51\" x=\"205.5\" y=\"523.6074\">noname</text><line style=\"stroke: #383838; stroke-width: 1.5;\" x1=\"185.5\" x2=\"276.5\" y1=\"531.4375\" y2=\"531.4375\"/></a><!--MD5=[fd4143e9d270a159db93a4ea2a975926]\n",
       "class E9--><a href=\"psysml:ec52d3df-f8e8-4ac5-95c0-bf3447feb8a5\" target=\"_top\" title=\"psysml:ec52d3df-f8e8-4ac5-95c0-bf3447feb8a5\" xlink:actuate=\"onRequest\" xlink:href=\"psysml:ec52d3df-f8e8-4ac5-95c0-bf3447feb8a5\" xlink:show=\"new\" xlink:title=\"psysml:ec52d3df-f8e8-4ac5-95c0-bf3447feb8a5\" xlink:type=\"simple\"><rect fill=\"#FFFFFF\" height=\"88.3516\" id=\"E9\" style=\"stroke: #383838; stroke-width: 1.5;\" width=\"145\" x=\"109.5\" y=\"41\"/><text fill=\"#000000\" font-family=\"sans-serif\" font-size=\"12\" font-style=\"italic\" lengthAdjust=\"spacingAndGlyphs\" textLength=\"115\" x=\"124.5\" y=\"57.1387\">«requirement def»</text><text fill=\"#000000\" font-family=\"sans-serif\" font-size=\"12\" lengthAdjust=\"spacingAndGlyphs\" textLength=\"16\" x=\"174\" y=\"71.1074\">R1</text><line style=\"stroke: #383838; stroke-width: 1.5;\" x1=\"110.5\" x2=\"253.5\" y1=\"78.9375\" y2=\"78.9375\"/><text fill=\"#000000\" font-family=\"sans-serif\" font-size=\"11\" font-weight=\"bold\" lengthAdjust=\"spacingAndGlyphs\" textLength=\"46\" x=\"115.5\" y=\"109.9526\">require</text><text fill=\"#000000\" font-family=\"sans-serif\" font-size=\"11\" lengthAdjust=\"spacingAndGlyphs\" textLength=\"13\" x=\"165.5\" y=\"109.9526\">c1</text><text fill=\"#000000\" font-family=\"sans-serif\" font-size=\"11\" font-style=\"italic\" lengthAdjust=\"spacingAndGlyphs\" textLength=\"133\" x=\"115.5\" y=\"122.7573\">:&gt;&gt;RequirementTest::c</text><line style=\"stroke: #383838; stroke-width: 1.0;\" x1=\"110.5\" x2=\"150\" y1=\"93.3398\" y2=\"93.3398\"/><text fill=\"#000000\" font-family=\"sans-serif\" font-size=\"11\" lengthAdjust=\"spacingAndGlyphs\" textLength=\"64\" x=\"150\" y=\"96.6479\">constraints</text><line style=\"stroke: #383838; stroke-width: 1.0;\" x1=\"214\" x2=\"253.5\" y1=\"93.3398\" y2=\"93.3398\"/></a><!--MD5=[1dd1bfd58a279cf63c5f349dbc8fc6a1]\n",
       "class E11--><a href=\"psysml:b85d82e7-3bb2-4c49-b03c-5a9b3c771643\" target=\"_top\" title=\"psysml:b85d82e7-3bb2-4c49-b03c-5a9b3c771643\" xlink:actuate=\"onRequest\" xlink:href=\"psysml:b85d82e7-3bb2-4c49-b03c-5a9b3c771643\" xlink:show=\"new\" xlink:title=\"psysml:b85d82e7-3bb2-4c49-b03c-5a9b3c771643\" xlink:type=\"simple\"><rect fill=\"#FFFFFF\" height=\"45.9375\" id=\"E11\" rx=\"10\" ry=\"10\" style=\"stroke: #383838; stroke-width: 1.5;\" width=\"42\" x=\"185\" y=\"344.5\"/><text fill=\"#000000\" font-family=\"sans-serif\" font-size=\"12\" font-style=\"italic\" lengthAdjust=\"spacingAndGlyphs\" textLength=\"40\" x=\"186\" y=\"360.6387\">«part»</text><text fill=\"#000000\" font-family=\"sans-serif\" font-size=\"12\" lengthAdjust=\"spacingAndGlyphs\" textLength=\"8\" x=\"202\" y=\"374.6074\">p</text><line style=\"stroke: #383838; stroke-width: 1.5;\" x1=\"186\" x2=\"226\" y1=\"382.4375\" y2=\"382.4375\"/></a><!--MD5=[49a0ec8f00dab7302a31f22d0f0fe584]\n",
       "class E12--><a href=\"psysml:f6ed6b0e-7205-4bca-ba49-af9a51c8942a\" target=\"_top\" title=\"psysml:f6ed6b0e-7205-4bca-ba49-af9a51c8942a\" xlink:actuate=\"onRequest\" xlink:href=\"psysml:f6ed6b0e-7205-4bca-ba49-af9a51c8942a\" xlink:show=\"new\" xlink:title=\"psysml:f6ed6b0e-7205-4bca-ba49-af9a51c8942a\" xlink:type=\"simple\"><rect fill=\"#FFFFFF\" height=\"45.9375\" id=\"E12\" rx=\"10\" ry=\"10\" style=\"stroke: #383838; stroke-width: 1.5;\" width=\"42\" x=\"32\" y=\"62\"/><text fill=\"#000000\" font-family=\"sans-serif\" font-size=\"12\" font-style=\"italic\" lengthAdjust=\"spacingAndGlyphs\" textLength=\"40\" x=\"33\" y=\"78.1387\">«part»</text><text fill=\"#000000\" font-family=\"sans-serif\" font-size=\"12\" lengthAdjust=\"spacingAndGlyphs\" textLength=\"8\" x=\"49\" y=\"92.1074\">q</text><line style=\"stroke: #383838; stroke-width: 1.5;\" x1=\"33\" x2=\"73\" y1=\"99.9375\" y2=\"99.9375\"/></a><!--MD5=[ee3c913d1a06f366521f9ef512b67efe]\n",
       "class E13--><a href=\"psysml:dc92139c-b950-485f-92a5-3d6f837d8293\" target=\"_top\" title=\"psysml:dc92139c-b950-485f-92a5-3d6f837d8293\" xlink:actuate=\"onRequest\" xlink:href=\"psysml:dc92139c-b950-485f-92a5-3d6f837d8293\" xlink:show=\"new\" xlink:title=\"psysml:dc92139c-b950-485f-92a5-3d6f837d8293\" xlink:type=\"simple\"><rect fill=\"#FFFFFF\" height=\"45.9375\" id=\"E13\" rx=\"10\" ry=\"10\" style=\"stroke: #383838; stroke-width: 1.5;\" width=\"93\" x=\"44.5\" y=\"190\"/><text fill=\"#000000\" font-family=\"sans-serif\" font-size=\"12\" font-style=\"italic\" lengthAdjust=\"spacingAndGlyphs\" textLength=\"91\" x=\"45.5\" y=\"206.1387\">«requirement»</text><text fill=\"#000000\" font-family=\"sans-serif\" font-size=\"12\" lengthAdjust=\"spacingAndGlyphs\" textLength=\"21\" x=\"80.5\" y=\"220.1074\">r: R</text><line style=\"stroke: #383838; stroke-width: 1.5;\" x1=\"45.5\" x2=\"136.5\" y1=\"227.9375\" y2=\"227.9375\"/></a><!--MD5=[05d275557350bfb9b23a4ef7222b4c39]\n",
       "link E3 to E2--><a href=\"psysml:9201001b-4e3f-46f0-8224-89e70f802e39\" target=\"_top\" title=\"psysml:9201001b-4e3f-46f0-8224-89e70f802e39\" xlink:actuate=\"onRequest\" xlink:href=\"psysml:9201001b-4e3f-46f0-8224-89e70f802e39\" xlink:show=\"new\" xlink:title=\"psysml:9201001b-4e3f-46f0-8224-89e70f802e39\" xlink:type=\"simple\"><path d=\"M327.88,108.24 C326.26,125.24 323.98,149.19 322.02,169.79 \" fill=\"none\" id=\"E3-&gt;E2\" style=\"stroke: #383838; stroke-width: 1.0;\"/><polygon fill=\"#FFFFFF\" points=\"320.1,189.99,314.9362,170.411,328.8729,171.7407,320.1,189.99\" style=\"stroke: #383838; stroke-width: 1.0;\"/><ellipse cx=\"317.4685\" cy=\"164.9268\" fill=\"#383838\" rx=\"2\" ry=\"2\" style=\"stroke: #383838; stroke-width: 1.0;\"/><ellipse cx=\"327.4233\" cy=\"165.8765\" fill=\"#383838\" rx=\"2\" ry=\"2\" style=\"stroke: #383838; stroke-width: 1.0;\"/></a><!--MD5=[62aa6af11e70f752912c1cb0466f24f7]\n",
       "reverse link E4 to E5--><a href=\"psysml:56458fbc-ce11-45ea-8fa2-2092e0cfc05c\" target=\"_top\" title=\"psysml:56458fbc-ce11-45ea-8fa2-2092e0cfc05c\" xlink:actuate=\"onRequest\" xlink:href=\"psysml:56458fbc-ce11-45ea-8fa2-2092e0cfc05c\" xlink:show=\"new\" xlink:title=\"psysml:56458fbc-ce11-45ea-8fa2-2092e0cfc05c\" xlink:type=\"simple\"><path d=\"M91,437.45 C91,453.34 91,469.51 91,482.98 \" fill=\"none\" id=\"E4&lt;-E5\" style=\"stroke: #383838; stroke-width: 1.0;\"/><ellipse cx=\"91\" cy=\"430.4\" fill=\"#FFFFFF\" rx=\"8\" ry=\"8\" style=\"stroke: #383838; stroke-width: 1.0;\"/><line style=\"stroke: #383838; stroke-width: 1.0;\" x1=\"91\" x2=\"91\" y1=\"438.4\" y2=\"422.4\"/><line style=\"stroke: #383838; stroke-width: 1.0;\" x1=\"83\" x2=\"99\" y1=\"430.4\" y2=\"430.4\"/></a><!--MD5=[c6fc7cdb0cabde04948078cf183fa696]\n",
       "reverse link E4 to E8--><a href=\"psysml:72b41e7b-9298-4fd0-92ac-738cc777b35a\" target=\"_top\" title=\"psysml:72b41e7b-9298-4fd0-92ac-738cc777b35a\" xlink:actuate=\"onRequest\" xlink:href=\"psysml:72b41e7b-9298-4fd0-92ac-738cc777b35a\" xlink:show=\"new\" xlink:title=\"psysml:72b41e7b-9298-4fd0-92ac-738cc777b35a\" xlink:type=\"simple\"><path d=\"M151.51,432.04 C172.42,453.99 194.47,477.14 210.03,493.48 \" fill=\"none\" id=\"E4&lt;-E8\" style=\"stroke: #383838; stroke-width: 1.0;\"/><polygon fill=\"#383838\" points=\"142.34,422.4,143.5779,429.5041,150.6116,431.0937,149.3737,423.9897,142.34,422.4\" style=\"stroke: #383838; stroke-width: 1.0;\"/></a><!--MD5=[062ed86c389d1a88f61c6380d0491e17]\n",
       "reverse link E12 to E13--><a href=\"psysml:dc92139c-b950-485f-92a5-3d6f837d8293\" target=\"_top\" title=\"psysml:dc92139c-b950-485f-92a5-3d6f837d8293\" xlink:actuate=\"onRequest\" xlink:href=\"psysml:dc92139c-b950-485f-92a5-3d6f837d8293\" xlink:show=\"new\" xlink:title=\"psysml:dc92139c-b950-485f-92a5-3d6f837d8293\" xlink:type=\"simple\"><path d=\"M63.49,120.8 C70.17,142.92 78.6,170.89 84.36,189.99 \" fill=\"none\" id=\"E12&lt;-E13\" style=\"stroke: #383838; stroke-width: 1.0;\"/><polygon fill=\"#383838\" points=\"59.71,108.24,57.6129,115.1394,63.1751,119.7288,65.2722,112.8294,59.71,108.24\" style=\"stroke: #383838; stroke-width: 1.0;\"/></a><!--MD5=[017847e01ff9a8bd19f247411074f987]\n",
       "link E13 to E4--><a href=\"psysml:84833459-b0b4-497f-8a66-9d75104fb430\" target=\"_top\" title=\"psysml:84833459-b0b4-497f-8a66-9d75104fb430\" xlink:actuate=\"onRequest\" xlink:href=\"psysml:84833459-b0b4-497f-8a66-9d75104fb430\" xlink:show=\"new\" xlink:title=\"psysml:84833459-b0b4-497f-8a66-9d75104fb430\" xlink:type=\"simple\"><path d=\"M91,236.17 C91,251.17 91,271.91 91,292.44 \" fill=\"none\" id=\"E13-&gt;E4\" style=\"stroke: #383838; stroke-width: 1.0;\"/><polygon fill=\"#FFFFFF\" points=\"91,312.68,84,293.68,98,293.68,91,312.68\" style=\"stroke: #383838; stroke-width: 1.0;\"/><ellipse cx=\"86\" cy=\"287.98\" fill=\"#383838\" rx=\"2\" ry=\"2\" style=\"stroke: #383838; stroke-width: 1.0;\"/><ellipse cx=\"96\" cy=\"287.98\" fill=\"#383838\" rx=\"2\" ry=\"2\" style=\"stroke: #383838; stroke-width: 1.0;\"/></a><!--MD5=[2cfe899c895462254056921bfb67315f]\n",
       "link E13 to E11--><a href=\"psysml:ed40ce07-1501-496b-adae-3639fe39f1e8\" target=\"_top\" title=\"psysml:ed40ce07-1501-496b-adae-3639fe39f1e8\" xlink:actuate=\"onRequest\" xlink:href=\"psysml:ed40ce07-1501-496b-adae-3639fe39f1e8\" xlink:show=\"new\" xlink:title=\"psysml:ed40ce07-1501-496b-adae-3639fe39f1e8\" xlink:type=\"simple\"><path d=\"M108.36,236.29 C123.87,256.28 147.14,286.45 167,313 C173.57,321.78 180.66,331.44 186.97,340.12 \" fill=\"none\" id=\"E13-&gt;E11\" style=\"stroke: #383838; stroke-width: 1.0; stroke-dasharray: 7.0,7.0;\"/><polygon fill=\"#383838\" points=\"189.99,344.28,187.9274,334.6496,187.0474,340.2376,181.4594,339.3576,189.99,344.28\" style=\"stroke: #383838; stroke-width: 1.0;\"/><text fill=\"#000000\" font-family=\"sans-serif\" font-size=\"13\" lengthAdjust=\"spacingAndGlyphs\" textLength=\"57\" x=\"145\" y=\"279.0669\">«satisfy»</text></a><!--MD5=[85e477dcf8f536ae77c980c0b2e02f8f]\n",
       "@startuml\r\n",
       "skinparam monochrome true\r\n",
       "skinparam classbackgroundcolor white\r\n",
       "skinparam shadowing false\r\n",
       "skinparam wrapWidth 300\r\n",
       "hide circle\r\n",
       "\r\n",
       "package \"RequirementTest\" as E1  [[psysml:32d2418d-b451-4172-b0c3-f203713ef4c8 ]]  {\r\n",
       "comp def \"C\" as E2  <<(T,blue)constraint def>> [[psysml:a1b28860-c9a8-4d37-931e-31ae0c14540e ]] {\r\n",
       "}\r\n",
       "comp usage \"c: C\" as E3  <<(T,blue)constraint>> [[psysml:4f6724e1-6261-429d-9c16-1831387bac9b ]] {\r\n",
       "}\r\n",
       "comp def \"R\" as E4  <<(T,blue)requirement def>> [[psysml:a2742730-9bdb-48ea-a333-70a51cef011c ]] {\r\n",
       "\r\n",
       "- -\r\n",
       "- - constraints - -\r\n",
       "<b>require</b> c\r\n",
       "<i>assume</i> c1: C\r\n",
       "}\r\n",
       "comp def \" [<b>1</b>] A\" as E5  <<(T,blue)requirement def>> [[psysml:56458fbc-ce11-45ea-8fa2-2092e0cfc05c ]] {\r\n",
       "Text\r\n",
       "- -\r\n",
       "}\r\n",
       "comp usage \"<s>noname</s>\" as E8  <<(T,blue)requirement>> [[psysml:72b41e7b-9298-4fd0-92ac-738cc777b35a ]] {\r\n",
       "}\r\n",
       "comp def \"R1\" as E9  <<(T,blue)requirement def>> [[psysml:ec52d3df-f8e8-4ac5-95c0-bf3447feb8a5 ]] {\r\n",
       "- - constraints - -\r\n",
       "<b>require</b> c1\\n//:>>RequirementTest::c// \r\n",
       "}\r\n",
       "comp usage \"p\" as E11  <<(T,blue)part>> [[psysml:b85d82e7-3bb2-4c49-b03c-5a9b3c771643 ]] {\r\n",
       "}\r\n",
       "comp usage \"q\" as E12  <<(T,blue)part>> [[psysml:f6ed6b0e-7205-4bca-ba49-af9a51c8942a ]] {\r\n",
       "}\r\n",
       "comp usage \"r: R\" as E13  <<(T,blue)requirement>> [[psysml:dc92139c-b950-485f-92a5-3d6f837d8293 ]] {\r\n",
       "}\r\n",
       "E3 - -:|> E2 [[psysml:9201001b-4e3f-46f0-8224-89e70f802e39 ]] \r\n",
       "E4 +- - E5 [[psysml:56458fbc-ce11-45ea-8fa2-2092e0cfc05c ]] \r\n",
       "E4 *- - E8 [[psysml:72b41e7b-9298-4fd0-92ac-738cc777b35a ]] \r\n",
       "E12 *- - E13 [[psysml:dc92139c-b950-485f-92a5-3d6f837d8293 ]] \r\n",
       "E13 - -:|> E4 [[psysml:84833459-b0b4-497f-8a66-9d75104fb430 ]] \r\n",
       "E13 ..> E11 [[psysml:ed40ce07-1501-496b-adae-3639fe39f1e8 ]] : <<satisfy>>\r\n",
       "}\r\n",
       "@enduml\r\n",
       "\n",
       "PlantUML version 1.2020.13(Sat Jun 13 12:26:38 UTC 2020)\n",
       "(EPL source distribution)\n",
       "Java Runtime: OpenJDK Runtime Environment\n",
       "JVM: OpenJDK 64-Bit Server VM\n",
       "Default Encoding: UTF-8\n",
       "Language: en\n",
       "Country: null\n",
       "--></g></svg>"
      ]
     },
     "execution_count": 42,
     "metadata": {},
     "output_type": "execute_result"
    }
   ],
   "source": [
    "%viz --style=\"DEFAULT\" --view=\"Sequence\" \"RequirementTest\""
   ]
  },
  {
   "cell_type": "code",
   "execution_count": 43,
   "id": "measured-herald",
   "metadata": {
    "execution": {
     "iopub.execute_input": "2021-03-26T13:01:10.707470Z",
     "iopub.status.busy": "2021-03-26T13:01:10.706629Z",
     "iopub.status.idle": "2021-03-26T13:01:10.793159Z",
     "shell.execute_reply": "2021-03-26T13:01:10.791651Z"
    }
   },
   "outputs": [
    {
     "data": {
      "image/svg+xml": [
       "<?xml version=\"1.0\" encoding=\"UTF-8\" standalone=\"no\"?><svg xmlns=\"http://www.w3.org/2000/svg\" xmlns:xlink=\"http://www.w3.org/1999/xlink\" contentScriptType=\"application/ecmascript\" contentStyleType=\"text/css\" height=\"578px\" preserveAspectRatio=\"none\" style=\"width:408px;height:578px;\" version=\"1.1\" viewBox=\"0 0 408 578\" width=\"408px\" zoomAndPan=\"magnify\"><defs/><g><!--MD5=[fbc87193dbaf4d95561dea2c320d4a47]\n",
       "cluster E1--><a href=\"psysml:32d2418d-b451-4172-b0c3-f203713ef4c8\" target=\"_top\" title=\"psysml:32d2418d-b451-4172-b0c3-f203713ef4c8\" xlink:actuate=\"onRequest\" xlink:href=\"psysml:32d2418d-b451-4172-b0c3-f203713ef4c8\" xlink:show=\"new\" xlink:title=\"psysml:32d2418d-b451-4172-b0c3-f203713ef4c8\" xlink:type=\"simple\"><polygon fill=\"#FFFFFF\" points=\"16,6,158,6,165,28.2969,386,28.2969,386,566,16,566,16,6\" style=\"stroke: #000000; stroke-width: 1.5;\"/><line style=\"stroke: #000000; stroke-width: 1.5;\" x1=\"16\" x2=\"165\" y1=\"28.2969\" y2=\"28.2969\"/><text fill=\"#000000\" font-family=\"sans-serif\" font-size=\"14\" font-weight=\"bold\" lengthAdjust=\"spacingAndGlyphs\" textLength=\"136\" x=\"20\" y=\"20.9951\">RequirementTest</text></a><!--MD5=[b4997ac47864f28c2f74865a473b2911]\n",
       "class E2--><a href=\"psysml:a1b28860-c9a8-4d37-931e-31ae0c14540e\" target=\"_top\" title=\"psysml:a1b28860-c9a8-4d37-931e-31ae0c14540e\" xlink:actuate=\"onRequest\" xlink:href=\"psysml:a1b28860-c9a8-4d37-931e-31ae0c14540e\" xlink:show=\"new\" xlink:title=\"psysml:a1b28860-c9a8-4d37-931e-31ae0c14540e\" xlink:type=\"simple\"><rect fill=\"#FFFFFF\" height=\"45.9375\" id=\"E2\" style=\"stroke: #383838; stroke-width: 1.5;\" width=\"104\" x=\"266\" y=\"190\"/><text fill=\"#000000\" font-family=\"sans-serif\" font-size=\"12\" font-style=\"italic\" lengthAdjust=\"spacingAndGlyphs\" textLength=\"102\" x=\"267\" y=\"206.1387\">«constraint def»</text><text fill=\"#000000\" font-family=\"sans-serif\" font-size=\"12\" lengthAdjust=\"spacingAndGlyphs\" textLength=\"8\" x=\"314\" y=\"220.1074\">C</text><line style=\"stroke: #383838; stroke-width: 1.5;\" x1=\"267\" x2=\"369\" y1=\"227.9375\" y2=\"227.9375\"/></a><!--MD5=[09b614a08d8cba4a07c9adeb5e0fee81]\n",
       "class E3--><a href=\"psysml:4f6724e1-6261-429d-9c16-1831387bac9b\" target=\"_top\" title=\"psysml:4f6724e1-6261-429d-9c16-1831387bac9b\" xlink:actuate=\"onRequest\" xlink:href=\"psysml:4f6724e1-6261-429d-9c16-1831387bac9b\" xlink:show=\"new\" xlink:title=\"psysml:4f6724e1-6261-429d-9c16-1831387bac9b\" xlink:type=\"simple\"><rect fill=\"#FFFFFF\" height=\"45.9375\" id=\"E3\" rx=\"10\" ry=\"10\" style=\"stroke: #383838; stroke-width: 1.5;\" width=\"80\" x=\"290\" y=\"62\"/><text fill=\"#000000\" font-family=\"sans-serif\" font-size=\"12\" font-style=\"italic\" lengthAdjust=\"spacingAndGlyphs\" textLength=\"78\" x=\"291\" y=\"78.1387\">«constraint»</text><text fill=\"#000000\" font-family=\"sans-serif\" font-size=\"12\" lengthAdjust=\"spacingAndGlyphs\" textLength=\"23\" x=\"318.5\" y=\"92.1074\">c: C</text><line style=\"stroke: #383838; stroke-width: 1.5;\" x1=\"291\" x2=\"369\" y1=\"99.9375\" y2=\"99.9375\"/></a><!--MD5=[ebbe1d658d1005bcc118a6aa81145e00]\n",
       "class E4--><a href=\"psysml:a2742730-9bdb-48ea-a333-70a51cef011c\" target=\"_top\" title=\"psysml:a2742730-9bdb-48ea-a333-70a51cef011c\" xlink:actuate=\"onRequest\" xlink:href=\"psysml:a2742730-9bdb-48ea-a333-70a51cef011c\" xlink:show=\"new\" xlink:title=\"psysml:a2742730-9bdb-48ea-a333-70a51cef011c\" xlink:type=\"simple\"><rect fill=\"#FFFFFF\" height=\"109.1563\" id=\"E4\" style=\"stroke: #383838; stroke-width: 1.5;\" width=\"117\" x=\"32.5\" y=\"313\"/><text fill=\"#000000\" font-family=\"sans-serif\" font-size=\"12\" font-style=\"italic\" lengthAdjust=\"spacingAndGlyphs\" textLength=\"115\" x=\"33.5\" y=\"329.1387\">«requirement def»</text><text fill=\"#000000\" font-family=\"sans-serif\" font-size=\"12\" lengthAdjust=\"spacingAndGlyphs\" textLength=\"8\" x=\"87\" y=\"343.1074\">R</text><line style=\"stroke: #383838; stroke-width: 1.5;\" x1=\"33.5\" x2=\"148.5\" y1=\"350.9375\" y2=\"350.9375\"/><text fill=\"#000000\" font-family=\"sans-serif\" font-size=\"11\" lengthAdjust=\"spacingAndGlyphs\" textLength=\"0\" x=\"42.5\" y=\"365.1479\"/><line style=\"stroke: #383838; stroke-width: 1.0;\" x1=\"33.5\" x2=\"148.5\" y1=\"371.7422\" y2=\"371.7422\"/><text fill=\"#000000\" font-family=\"sans-serif\" font-size=\"11\" font-weight=\"bold\" lengthAdjust=\"spacingAndGlyphs\" textLength=\"46\" x=\"38.5\" y=\"402.7573\">require</text><text fill=\"#000000\" font-family=\"sans-serif\" font-size=\"11\" lengthAdjust=\"spacingAndGlyphs\" textLength=\"6\" x=\"88.5\" y=\"402.7573\">c</text><text fill=\"#000000\" font-family=\"sans-serif\" font-size=\"11\" font-style=\"italic\" lengthAdjust=\"spacingAndGlyphs\" textLength=\"46\" x=\"38.5\" y=\"415.562\">assume</text><text fill=\"#000000\" font-family=\"sans-serif\" font-size=\"11\" lengthAdjust=\"spacingAndGlyphs\" textLength=\"29\" x=\"88.5\" y=\"415.562\">c1: C</text><line style=\"stroke: #383838; stroke-width: 1.0;\" x1=\"33.5\" x2=\"59\" y1=\"386.1445\" y2=\"386.1445\"/><text fill=\"#000000\" font-family=\"sans-serif\" font-size=\"11\" lengthAdjust=\"spacingAndGlyphs\" textLength=\"64\" x=\"59\" y=\"389.4526\">constraints</text><line style=\"stroke: #383838; stroke-width: 1.0;\" x1=\"123\" x2=\"148.5\" y1=\"386.1445\" y2=\"386.1445\"/></a><!--MD5=[270fce915f116d4de14055a7c1d9a0f3]\n",
       "class E5--><a href=\"psysml:56458fbc-ce11-45ea-8fa2-2092e0cfc05c\" target=\"_top\" title=\"psysml:56458fbc-ce11-45ea-8fa2-2092e0cfc05c\" xlink:actuate=\"onRequest\" xlink:href=\"psysml:56458fbc-ce11-45ea-8fa2-2092e0cfc05c\" xlink:show=\"new\" xlink:title=\"psysml:56458fbc-ce11-45ea-8fa2-2092e0cfc05c\" xlink:type=\"simple\"><rect fill=\"#FFFFFF\" height=\"66.7422\" id=\"E5\" style=\"stroke: #383838; stroke-width: 1.5;\" width=\"117\" x=\"32.5\" y=\"483\"/><text fill=\"#000000\" font-family=\"sans-serif\" font-size=\"12\" font-style=\"italic\" lengthAdjust=\"spacingAndGlyphs\" textLength=\"115\" x=\"33.5\" y=\"499.1387\">«requirement def»</text><text fill=\"#000000\" font-family=\"sans-serif\" font-size=\"12\" lengthAdjust=\"spacingAndGlyphs\" textLength=\"5\" x=\"78\" y=\"513.1074\">[</text><text fill=\"#000000\" font-family=\"sans-serif\" font-size=\"12\" font-weight=\"bold\" lengthAdjust=\"spacingAndGlyphs\" textLength=\"8\" x=\"83\" y=\"513.1074\">1</text><text fill=\"#000000\" font-family=\"sans-serif\" font-size=\"12\" lengthAdjust=\"spacingAndGlyphs\" textLength=\"17\" x=\"91\" y=\"513.1074\">] A</text><line style=\"stroke: #383838; stroke-width: 1.5;\" x1=\"33.5\" x2=\"148.5\" y1=\"520.9375\" y2=\"520.9375\"/><text fill=\"#000000\" font-family=\"sans-serif\" font-size=\"11\" lengthAdjust=\"spacingAndGlyphs\" textLength=\"24\" x=\"38.5\" y=\"535.1479\">Text</text><line style=\"stroke: #383838; stroke-width: 1.0;\" x1=\"33.5\" x2=\"148.5\" y1=\"541.7422\" y2=\"541.7422\"/></a><!--MD5=[b9389687b975829384b498ac4b7476b2]\n",
       "class E8--><a href=\"psysml:72b41e7b-9298-4fd0-92ac-738cc777b35a\" target=\"_top\" title=\"psysml:72b41e7b-9298-4fd0-92ac-738cc777b35a\" xlink:actuate=\"onRequest\" xlink:href=\"psysml:72b41e7b-9298-4fd0-92ac-738cc777b35a\" xlink:show=\"new\" xlink:title=\"psysml:72b41e7b-9298-4fd0-92ac-738cc777b35a\" xlink:type=\"simple\"><rect fill=\"#FFFFFF\" height=\"45.9375\" id=\"E8\" rx=\"10\" ry=\"10\" style=\"stroke: #383838; stroke-width: 1.5;\" width=\"93\" x=\"184.5\" y=\"493.5\"/><text fill=\"#000000\" font-family=\"sans-serif\" font-size=\"12\" font-style=\"italic\" lengthAdjust=\"spacingAndGlyphs\" textLength=\"91\" x=\"185.5\" y=\"509.6387\">«requirement»</text><text fill=\"#000000\" font-family=\"sans-serif\" font-size=\"12\" lengthAdjust=\"spacingAndGlyphs\" text-decoration=\"line-through\" textLength=\"51\" x=\"205.5\" y=\"523.6074\">noname</text><line style=\"stroke: #383838; stroke-width: 1.5;\" x1=\"185.5\" x2=\"276.5\" y1=\"531.4375\" y2=\"531.4375\"/></a><!--MD5=[fd4143e9d270a159db93a4ea2a975926]\n",
       "class E9--><a href=\"psysml:ec52d3df-f8e8-4ac5-95c0-bf3447feb8a5\" target=\"_top\" title=\"psysml:ec52d3df-f8e8-4ac5-95c0-bf3447feb8a5\" xlink:actuate=\"onRequest\" xlink:href=\"psysml:ec52d3df-f8e8-4ac5-95c0-bf3447feb8a5\" xlink:show=\"new\" xlink:title=\"psysml:ec52d3df-f8e8-4ac5-95c0-bf3447feb8a5\" xlink:type=\"simple\"><rect fill=\"#FFFFFF\" height=\"88.3516\" id=\"E9\" style=\"stroke: #383838; stroke-width: 1.5;\" width=\"145\" x=\"109.5\" y=\"41\"/><text fill=\"#000000\" font-family=\"sans-serif\" font-size=\"12\" font-style=\"italic\" lengthAdjust=\"spacingAndGlyphs\" textLength=\"115\" x=\"124.5\" y=\"57.1387\">«requirement def»</text><text fill=\"#000000\" font-family=\"sans-serif\" font-size=\"12\" lengthAdjust=\"spacingAndGlyphs\" textLength=\"16\" x=\"174\" y=\"71.1074\">R1</text><line style=\"stroke: #383838; stroke-width: 1.5;\" x1=\"110.5\" x2=\"253.5\" y1=\"78.9375\" y2=\"78.9375\"/><text fill=\"#000000\" font-family=\"sans-serif\" font-size=\"11\" font-weight=\"bold\" lengthAdjust=\"spacingAndGlyphs\" textLength=\"46\" x=\"115.5\" y=\"109.9526\">require</text><text fill=\"#000000\" font-family=\"sans-serif\" font-size=\"11\" lengthAdjust=\"spacingAndGlyphs\" textLength=\"13\" x=\"165.5\" y=\"109.9526\">c1</text><text fill=\"#000000\" font-family=\"sans-serif\" font-size=\"11\" font-style=\"italic\" lengthAdjust=\"spacingAndGlyphs\" textLength=\"133\" x=\"115.5\" y=\"122.7573\">:&gt;&gt;RequirementTest::c</text><line style=\"stroke: #383838; stroke-width: 1.0;\" x1=\"110.5\" x2=\"150\" y1=\"93.3398\" y2=\"93.3398\"/><text fill=\"#000000\" font-family=\"sans-serif\" font-size=\"11\" lengthAdjust=\"spacingAndGlyphs\" textLength=\"64\" x=\"150\" y=\"96.6479\">constraints</text><line style=\"stroke: #383838; stroke-width: 1.0;\" x1=\"214\" x2=\"253.5\" y1=\"93.3398\" y2=\"93.3398\"/></a><!--MD5=[1dd1bfd58a279cf63c5f349dbc8fc6a1]\n",
       "class E11--><a href=\"psysml:b85d82e7-3bb2-4c49-b03c-5a9b3c771643\" target=\"_top\" title=\"psysml:b85d82e7-3bb2-4c49-b03c-5a9b3c771643\" xlink:actuate=\"onRequest\" xlink:href=\"psysml:b85d82e7-3bb2-4c49-b03c-5a9b3c771643\" xlink:show=\"new\" xlink:title=\"psysml:b85d82e7-3bb2-4c49-b03c-5a9b3c771643\" xlink:type=\"simple\"><rect fill=\"#FFFFFF\" height=\"45.9375\" id=\"E11\" rx=\"10\" ry=\"10\" style=\"stroke: #383838; stroke-width: 1.5;\" width=\"42\" x=\"185\" y=\"344.5\"/><text fill=\"#000000\" font-family=\"sans-serif\" font-size=\"12\" font-style=\"italic\" lengthAdjust=\"spacingAndGlyphs\" textLength=\"40\" x=\"186\" y=\"360.6387\">«part»</text><text fill=\"#000000\" font-family=\"sans-serif\" font-size=\"12\" lengthAdjust=\"spacingAndGlyphs\" textLength=\"8\" x=\"202\" y=\"374.6074\">p</text><line style=\"stroke: #383838; stroke-width: 1.5;\" x1=\"186\" x2=\"226\" y1=\"382.4375\" y2=\"382.4375\"/></a><!--MD5=[49a0ec8f00dab7302a31f22d0f0fe584]\n",
       "class E12--><a href=\"psysml:f6ed6b0e-7205-4bca-ba49-af9a51c8942a\" target=\"_top\" title=\"psysml:f6ed6b0e-7205-4bca-ba49-af9a51c8942a\" xlink:actuate=\"onRequest\" xlink:href=\"psysml:f6ed6b0e-7205-4bca-ba49-af9a51c8942a\" xlink:show=\"new\" xlink:title=\"psysml:f6ed6b0e-7205-4bca-ba49-af9a51c8942a\" xlink:type=\"simple\"><rect fill=\"#FFFFFF\" height=\"45.9375\" id=\"E12\" rx=\"10\" ry=\"10\" style=\"stroke: #383838; stroke-width: 1.5;\" width=\"42\" x=\"32\" y=\"62\"/><text fill=\"#000000\" font-family=\"sans-serif\" font-size=\"12\" font-style=\"italic\" lengthAdjust=\"spacingAndGlyphs\" textLength=\"40\" x=\"33\" y=\"78.1387\">«part»</text><text fill=\"#000000\" font-family=\"sans-serif\" font-size=\"12\" lengthAdjust=\"spacingAndGlyphs\" textLength=\"8\" x=\"49\" y=\"92.1074\">q</text><line style=\"stroke: #383838; stroke-width: 1.5;\" x1=\"33\" x2=\"73\" y1=\"99.9375\" y2=\"99.9375\"/></a><!--MD5=[ee3c913d1a06f366521f9ef512b67efe]\n",
       "class E13--><a href=\"psysml:dc92139c-b950-485f-92a5-3d6f837d8293\" target=\"_top\" title=\"psysml:dc92139c-b950-485f-92a5-3d6f837d8293\" xlink:actuate=\"onRequest\" xlink:href=\"psysml:dc92139c-b950-485f-92a5-3d6f837d8293\" xlink:show=\"new\" xlink:title=\"psysml:dc92139c-b950-485f-92a5-3d6f837d8293\" xlink:type=\"simple\"><rect fill=\"#FFFFFF\" height=\"45.9375\" id=\"E13\" rx=\"10\" ry=\"10\" style=\"stroke: #383838; stroke-width: 1.5;\" width=\"93\" x=\"44.5\" y=\"190\"/><text fill=\"#000000\" font-family=\"sans-serif\" font-size=\"12\" font-style=\"italic\" lengthAdjust=\"spacingAndGlyphs\" textLength=\"91\" x=\"45.5\" y=\"206.1387\">«requirement»</text><text fill=\"#000000\" font-family=\"sans-serif\" font-size=\"12\" lengthAdjust=\"spacingAndGlyphs\" textLength=\"21\" x=\"80.5\" y=\"220.1074\">r: R</text><line style=\"stroke: #383838; stroke-width: 1.5;\" x1=\"45.5\" x2=\"136.5\" y1=\"227.9375\" y2=\"227.9375\"/></a><!--MD5=[05d275557350bfb9b23a4ef7222b4c39]\n",
       "link E3 to E2--><a href=\"psysml:9201001b-4e3f-46f0-8224-89e70f802e39\" target=\"_top\" title=\"psysml:9201001b-4e3f-46f0-8224-89e70f802e39\" xlink:actuate=\"onRequest\" xlink:href=\"psysml:9201001b-4e3f-46f0-8224-89e70f802e39\" xlink:show=\"new\" xlink:title=\"psysml:9201001b-4e3f-46f0-8224-89e70f802e39\" xlink:type=\"simple\"><path d=\"M327.88,108.24 C326.26,125.24 323.98,149.19 322.02,169.79 \" fill=\"none\" id=\"E3-&gt;E2\" style=\"stroke: #383838; stroke-width: 1.0;\"/><polygon fill=\"#FFFFFF\" points=\"320.1,189.99,314.9362,170.411,328.8729,171.7407,320.1,189.99\" style=\"stroke: #383838; stroke-width: 1.0;\"/><ellipse cx=\"317.4685\" cy=\"164.9268\" fill=\"#383838\" rx=\"2\" ry=\"2\" style=\"stroke: #383838; stroke-width: 1.0;\"/><ellipse cx=\"327.4233\" cy=\"165.8765\" fill=\"#383838\" rx=\"2\" ry=\"2\" style=\"stroke: #383838; stroke-width: 1.0;\"/></a><!--MD5=[62aa6af11e70f752912c1cb0466f24f7]\n",
       "reverse link E4 to E5--><a href=\"psysml:56458fbc-ce11-45ea-8fa2-2092e0cfc05c\" target=\"_top\" title=\"psysml:56458fbc-ce11-45ea-8fa2-2092e0cfc05c\" xlink:actuate=\"onRequest\" xlink:href=\"psysml:56458fbc-ce11-45ea-8fa2-2092e0cfc05c\" xlink:show=\"new\" xlink:title=\"psysml:56458fbc-ce11-45ea-8fa2-2092e0cfc05c\" xlink:type=\"simple\"><path d=\"M91,437.45 C91,453.34 91,469.51 91,482.98 \" fill=\"none\" id=\"E4&lt;-E5\" style=\"stroke: #383838; stroke-width: 1.0;\"/><ellipse cx=\"91\" cy=\"430.4\" fill=\"#FFFFFF\" rx=\"8\" ry=\"8\" style=\"stroke: #383838; stroke-width: 1.0;\"/><line style=\"stroke: #383838; stroke-width: 1.0;\" x1=\"91\" x2=\"91\" y1=\"438.4\" y2=\"422.4\"/><line style=\"stroke: #383838; stroke-width: 1.0;\" x1=\"83\" x2=\"99\" y1=\"430.4\" y2=\"430.4\"/></a><!--MD5=[c6fc7cdb0cabde04948078cf183fa696]\n",
       "reverse link E4 to E8--><a href=\"psysml:72b41e7b-9298-4fd0-92ac-738cc777b35a\" target=\"_top\" title=\"psysml:72b41e7b-9298-4fd0-92ac-738cc777b35a\" xlink:actuate=\"onRequest\" xlink:href=\"psysml:72b41e7b-9298-4fd0-92ac-738cc777b35a\" xlink:show=\"new\" xlink:title=\"psysml:72b41e7b-9298-4fd0-92ac-738cc777b35a\" xlink:type=\"simple\"><path d=\"M151.51,432.04 C172.42,453.99 194.47,477.14 210.03,493.48 \" fill=\"none\" id=\"E4&lt;-E8\" style=\"stroke: #383838; stroke-width: 1.0;\"/><polygon fill=\"#383838\" points=\"142.34,422.4,143.5779,429.5041,150.6116,431.0937,149.3737,423.9897,142.34,422.4\" style=\"stroke: #383838; stroke-width: 1.0;\"/></a><!--MD5=[062ed86c389d1a88f61c6380d0491e17]\n",
       "reverse link E12 to E13--><a href=\"psysml:dc92139c-b950-485f-92a5-3d6f837d8293\" target=\"_top\" title=\"psysml:dc92139c-b950-485f-92a5-3d6f837d8293\" xlink:actuate=\"onRequest\" xlink:href=\"psysml:dc92139c-b950-485f-92a5-3d6f837d8293\" xlink:show=\"new\" xlink:title=\"psysml:dc92139c-b950-485f-92a5-3d6f837d8293\" xlink:type=\"simple\"><path d=\"M63.49,120.8 C70.17,142.92 78.6,170.89 84.36,189.99 \" fill=\"none\" id=\"E12&lt;-E13\" style=\"stroke: #383838; stroke-width: 1.0;\"/><polygon fill=\"#383838\" points=\"59.71,108.24,57.6129,115.1394,63.1751,119.7288,65.2722,112.8294,59.71,108.24\" style=\"stroke: #383838; stroke-width: 1.0;\"/></a><!--MD5=[017847e01ff9a8bd19f247411074f987]\n",
       "link E13 to E4--><a href=\"psysml:84833459-b0b4-497f-8a66-9d75104fb430\" target=\"_top\" title=\"psysml:84833459-b0b4-497f-8a66-9d75104fb430\" xlink:actuate=\"onRequest\" xlink:href=\"psysml:84833459-b0b4-497f-8a66-9d75104fb430\" xlink:show=\"new\" xlink:title=\"psysml:84833459-b0b4-497f-8a66-9d75104fb430\" xlink:type=\"simple\"><path d=\"M91,236.17 C91,251.17 91,271.91 91,292.44 \" fill=\"none\" id=\"E13-&gt;E4\" style=\"stroke: #383838; stroke-width: 1.0;\"/><polygon fill=\"#FFFFFF\" points=\"91,312.68,84,293.68,98,293.68,91,312.68\" style=\"stroke: #383838; stroke-width: 1.0;\"/><ellipse cx=\"86\" cy=\"287.98\" fill=\"#383838\" rx=\"2\" ry=\"2\" style=\"stroke: #383838; stroke-width: 1.0;\"/><ellipse cx=\"96\" cy=\"287.98\" fill=\"#383838\" rx=\"2\" ry=\"2\" style=\"stroke: #383838; stroke-width: 1.0;\"/></a><!--MD5=[2cfe899c895462254056921bfb67315f]\n",
       "link E13 to E11--><a href=\"psysml:ed40ce07-1501-496b-adae-3639fe39f1e8\" target=\"_top\" title=\"psysml:ed40ce07-1501-496b-adae-3639fe39f1e8\" xlink:actuate=\"onRequest\" xlink:href=\"psysml:ed40ce07-1501-496b-adae-3639fe39f1e8\" xlink:show=\"new\" xlink:title=\"psysml:ed40ce07-1501-496b-adae-3639fe39f1e8\" xlink:type=\"simple\"><path d=\"M108.36,236.29 C123.87,256.28 147.14,286.45 167,313 C173.57,321.78 180.66,331.44 186.97,340.12 \" fill=\"none\" id=\"E13-&gt;E11\" style=\"stroke: #383838; stroke-width: 1.0; stroke-dasharray: 7.0,7.0;\"/><polygon fill=\"#383838\" points=\"189.99,344.28,187.9274,334.6496,187.0474,340.2376,181.4594,339.3576,189.99,344.28\" style=\"stroke: #383838; stroke-width: 1.0;\"/><text fill=\"#000000\" font-family=\"sans-serif\" font-size=\"13\" lengthAdjust=\"spacingAndGlyphs\" textLength=\"57\" x=\"145\" y=\"279.0669\">«satisfy»</text></a><!--MD5=[85e477dcf8f536ae77c980c0b2e02f8f]\n",
       "@startuml\r\n",
       "skinparam monochrome true\r\n",
       "skinparam classbackgroundcolor white\r\n",
       "skinparam shadowing false\r\n",
       "skinparam wrapWidth 300\r\n",
       "hide circle\r\n",
       "\r\n",
       "package \"RequirementTest\" as E1  [[psysml:32d2418d-b451-4172-b0c3-f203713ef4c8 ]]  {\r\n",
       "comp def \"C\" as E2  <<(T,blue)constraint def>> [[psysml:a1b28860-c9a8-4d37-931e-31ae0c14540e ]] {\r\n",
       "}\r\n",
       "comp usage \"c: C\" as E3  <<(T,blue)constraint>> [[psysml:4f6724e1-6261-429d-9c16-1831387bac9b ]] {\r\n",
       "}\r\n",
       "comp def \"R\" as E4  <<(T,blue)requirement def>> [[psysml:a2742730-9bdb-48ea-a333-70a51cef011c ]] {\r\n",
       "\r\n",
       "- -\r\n",
       "- - constraints - -\r\n",
       "<b>require</b> c\r\n",
       "<i>assume</i> c1: C\r\n",
       "}\r\n",
       "comp def \" [<b>1</b>] A\" as E5  <<(T,blue)requirement def>> [[psysml:56458fbc-ce11-45ea-8fa2-2092e0cfc05c ]] {\r\n",
       "Text\r\n",
       "- -\r\n",
       "}\r\n",
       "comp usage \"<s>noname</s>\" as E8  <<(T,blue)requirement>> [[psysml:72b41e7b-9298-4fd0-92ac-738cc777b35a ]] {\r\n",
       "}\r\n",
       "comp def \"R1\" as E9  <<(T,blue)requirement def>> [[psysml:ec52d3df-f8e8-4ac5-95c0-bf3447feb8a5 ]] {\r\n",
       "- - constraints - -\r\n",
       "<b>require</b> c1\\n//:>>RequirementTest::c// \r\n",
       "}\r\n",
       "comp usage \"p\" as E11  <<(T,blue)part>> [[psysml:b85d82e7-3bb2-4c49-b03c-5a9b3c771643 ]] {\r\n",
       "}\r\n",
       "comp usage \"q\" as E12  <<(T,blue)part>> [[psysml:f6ed6b0e-7205-4bca-ba49-af9a51c8942a ]] {\r\n",
       "}\r\n",
       "comp usage \"r: R\" as E13  <<(T,blue)requirement>> [[psysml:dc92139c-b950-485f-92a5-3d6f837d8293 ]] {\r\n",
       "}\r\n",
       "E3 - -:|> E2 [[psysml:9201001b-4e3f-46f0-8224-89e70f802e39 ]] \r\n",
       "E4 +- - E5 [[psysml:56458fbc-ce11-45ea-8fa2-2092e0cfc05c ]] \r\n",
       "E4 *- - E8 [[psysml:72b41e7b-9298-4fd0-92ac-738cc777b35a ]] \r\n",
       "E12 *- - E13 [[psysml:dc92139c-b950-485f-92a5-3d6f837d8293 ]] \r\n",
       "E13 - -:|> E4 [[psysml:84833459-b0b4-497f-8a66-9d75104fb430 ]] \r\n",
       "E13 ..> E11 [[psysml:ed40ce07-1501-496b-adae-3639fe39f1e8 ]] : <<satisfy>>\r\n",
       "}\r\n",
       "@enduml\r\n",
       "\n",
       "PlantUML version 1.2020.13(Sat Jun 13 12:26:38 UTC 2020)\n",
       "(EPL source distribution)\n",
       "Java Runtime: OpenJDK Runtime Environment\n",
       "JVM: OpenJDK 64-Bit Server VM\n",
       "Default Encoding: UTF-8\n",
       "Language: en\n",
       "Country: null\n",
       "--></g></svg>"
      ]
     },
     "execution_count": 43,
     "metadata": {},
     "output_type": "execute_result"
    }
   ],
   "source": [
    "%viz --style=\"DEFAULT\" --view=\"MIXED\" \"RequirementTest\""
   ]
  },
  {
   "cell_type": "code",
   "execution_count": 44,
   "id": "auburn-bargain",
   "metadata": {
    "execution": {
     "iopub.execute_input": "2021-03-26T13:01:10.844851Z",
     "iopub.status.busy": "2021-03-26T13:01:10.844115Z",
     "iopub.status.idle": "2021-03-26T13:01:10.927111Z",
     "shell.execute_reply": "2021-03-26T13:01:10.925557Z"
    }
   },
   "outputs": [
    {
     "data": {
      "image/svg+xml": [
       "<?xml version=\"1.0\" encoding=\"UTF-8\" standalone=\"no\"?><svg xmlns=\"http://www.w3.org/2000/svg\" xmlns:xlink=\"http://www.w3.org/1999/xlink\" contentScriptType=\"application/ecmascript\" contentStyleType=\"text/css\" height=\"578px\" preserveAspectRatio=\"none\" style=\"width:408px;height:578px;\" version=\"1.1\" viewBox=\"0 0 408 578\" width=\"408px\" zoomAndPan=\"magnify\"><defs/><g><!--MD5=[fbc87193dbaf4d95561dea2c320d4a47]\n",
       "cluster E1--><a href=\"psysml:32d2418d-b451-4172-b0c3-f203713ef4c8\" target=\"_top\" title=\"psysml:32d2418d-b451-4172-b0c3-f203713ef4c8\" xlink:actuate=\"onRequest\" xlink:href=\"psysml:32d2418d-b451-4172-b0c3-f203713ef4c8\" xlink:show=\"new\" xlink:title=\"psysml:32d2418d-b451-4172-b0c3-f203713ef4c8\" xlink:type=\"simple\"><polygon fill=\"#FFFFFF\" points=\"16,6,158,6,165,28.2969,386,28.2969,386,566,16,566,16,6\" style=\"stroke: #000000; stroke-width: 1.5;\"/><line style=\"stroke: #000000; stroke-width: 1.5;\" x1=\"16\" x2=\"165\" y1=\"28.2969\" y2=\"28.2969\"/><text fill=\"#000000\" font-family=\"sans-serif\" font-size=\"14\" font-weight=\"bold\" lengthAdjust=\"spacingAndGlyphs\" textLength=\"136\" x=\"20\" y=\"20.9951\">RequirementTest</text></a><!--MD5=[b4997ac47864f28c2f74865a473b2911]\n",
       "class E2--><a href=\"psysml:a1b28860-c9a8-4d37-931e-31ae0c14540e\" target=\"_top\" title=\"psysml:a1b28860-c9a8-4d37-931e-31ae0c14540e\" xlink:actuate=\"onRequest\" xlink:href=\"psysml:a1b28860-c9a8-4d37-931e-31ae0c14540e\" xlink:show=\"new\" xlink:title=\"psysml:a1b28860-c9a8-4d37-931e-31ae0c14540e\" xlink:type=\"simple\"><rect fill=\"#FFFFFF\" height=\"45.9375\" id=\"E2\" style=\"stroke: #383838; stroke-width: 1.5;\" width=\"104\" x=\"266\" y=\"190\"/><text fill=\"#000000\" font-family=\"sans-serif\" font-size=\"12\" font-style=\"italic\" lengthAdjust=\"spacingAndGlyphs\" textLength=\"102\" x=\"267\" y=\"206.1387\">«constraint def»</text><text fill=\"#000000\" font-family=\"sans-serif\" font-size=\"12\" lengthAdjust=\"spacingAndGlyphs\" textLength=\"8\" x=\"314\" y=\"220.1074\">C</text><line style=\"stroke: #383838; stroke-width: 1.5;\" x1=\"267\" x2=\"369\" y1=\"227.9375\" y2=\"227.9375\"/></a><!--MD5=[09b614a08d8cba4a07c9adeb5e0fee81]\n",
       "class E3--><a href=\"psysml:4f6724e1-6261-429d-9c16-1831387bac9b\" target=\"_top\" title=\"psysml:4f6724e1-6261-429d-9c16-1831387bac9b\" xlink:actuate=\"onRequest\" xlink:href=\"psysml:4f6724e1-6261-429d-9c16-1831387bac9b\" xlink:show=\"new\" xlink:title=\"psysml:4f6724e1-6261-429d-9c16-1831387bac9b\" xlink:type=\"simple\"><rect fill=\"#FFFFFF\" height=\"45.9375\" id=\"E3\" rx=\"10\" ry=\"10\" style=\"stroke: #383838; stroke-width: 1.5;\" width=\"80\" x=\"290\" y=\"62\"/><text fill=\"#000000\" font-family=\"sans-serif\" font-size=\"12\" font-style=\"italic\" lengthAdjust=\"spacingAndGlyphs\" textLength=\"78\" x=\"291\" y=\"78.1387\">«constraint»</text><text fill=\"#000000\" font-family=\"sans-serif\" font-size=\"12\" lengthAdjust=\"spacingAndGlyphs\" textLength=\"23\" x=\"318.5\" y=\"92.1074\">c: C</text><line style=\"stroke: #383838; stroke-width: 1.5;\" x1=\"291\" x2=\"369\" y1=\"99.9375\" y2=\"99.9375\"/></a><!--MD5=[ebbe1d658d1005bcc118a6aa81145e00]\n",
       "class E4--><a href=\"psysml:a2742730-9bdb-48ea-a333-70a51cef011c\" target=\"_top\" title=\"psysml:a2742730-9bdb-48ea-a333-70a51cef011c\" xlink:actuate=\"onRequest\" xlink:href=\"psysml:a2742730-9bdb-48ea-a333-70a51cef011c\" xlink:show=\"new\" xlink:title=\"psysml:a2742730-9bdb-48ea-a333-70a51cef011c\" xlink:type=\"simple\"><rect fill=\"#FFFFFF\" height=\"109.1563\" id=\"E4\" style=\"stroke: #383838; stroke-width: 1.5;\" width=\"117\" x=\"32.5\" y=\"313\"/><text fill=\"#000000\" font-family=\"sans-serif\" font-size=\"12\" font-style=\"italic\" lengthAdjust=\"spacingAndGlyphs\" textLength=\"115\" x=\"33.5\" y=\"329.1387\">«requirement def»</text><text fill=\"#000000\" font-family=\"sans-serif\" font-size=\"12\" lengthAdjust=\"spacingAndGlyphs\" textLength=\"8\" x=\"87\" y=\"343.1074\">R</text><line style=\"stroke: #383838; stroke-width: 1.5;\" x1=\"33.5\" x2=\"148.5\" y1=\"350.9375\" y2=\"350.9375\"/><text fill=\"#000000\" font-family=\"sans-serif\" font-size=\"11\" lengthAdjust=\"spacingAndGlyphs\" textLength=\"0\" x=\"42.5\" y=\"365.1479\"/><line style=\"stroke: #383838; stroke-width: 1.0;\" x1=\"33.5\" x2=\"148.5\" y1=\"371.7422\" y2=\"371.7422\"/><text fill=\"#000000\" font-family=\"sans-serif\" font-size=\"11\" font-weight=\"bold\" lengthAdjust=\"spacingAndGlyphs\" textLength=\"46\" x=\"38.5\" y=\"402.7573\">require</text><text fill=\"#000000\" font-family=\"sans-serif\" font-size=\"11\" lengthAdjust=\"spacingAndGlyphs\" textLength=\"6\" x=\"88.5\" y=\"402.7573\">c</text><text fill=\"#000000\" font-family=\"sans-serif\" font-size=\"11\" font-style=\"italic\" lengthAdjust=\"spacingAndGlyphs\" textLength=\"46\" x=\"38.5\" y=\"415.562\">assume</text><text fill=\"#000000\" font-family=\"sans-serif\" font-size=\"11\" lengthAdjust=\"spacingAndGlyphs\" textLength=\"29\" x=\"88.5\" y=\"415.562\">c1: C</text><line style=\"stroke: #383838; stroke-width: 1.0;\" x1=\"33.5\" x2=\"59\" y1=\"386.1445\" y2=\"386.1445\"/><text fill=\"#000000\" font-family=\"sans-serif\" font-size=\"11\" lengthAdjust=\"spacingAndGlyphs\" textLength=\"64\" x=\"59\" y=\"389.4526\">constraints</text><line style=\"stroke: #383838; stroke-width: 1.0;\" x1=\"123\" x2=\"148.5\" y1=\"386.1445\" y2=\"386.1445\"/></a><!--MD5=[270fce915f116d4de14055a7c1d9a0f3]\n",
       "class E5--><a href=\"psysml:56458fbc-ce11-45ea-8fa2-2092e0cfc05c\" target=\"_top\" title=\"psysml:56458fbc-ce11-45ea-8fa2-2092e0cfc05c\" xlink:actuate=\"onRequest\" xlink:href=\"psysml:56458fbc-ce11-45ea-8fa2-2092e0cfc05c\" xlink:show=\"new\" xlink:title=\"psysml:56458fbc-ce11-45ea-8fa2-2092e0cfc05c\" xlink:type=\"simple\"><rect fill=\"#FFFFFF\" height=\"66.7422\" id=\"E5\" style=\"stroke: #383838; stroke-width: 1.5;\" width=\"117\" x=\"32.5\" y=\"483\"/><text fill=\"#000000\" font-family=\"sans-serif\" font-size=\"12\" font-style=\"italic\" lengthAdjust=\"spacingAndGlyphs\" textLength=\"115\" x=\"33.5\" y=\"499.1387\">«requirement def»</text><text fill=\"#000000\" font-family=\"sans-serif\" font-size=\"12\" lengthAdjust=\"spacingAndGlyphs\" textLength=\"5\" x=\"78\" y=\"513.1074\">[</text><text fill=\"#000000\" font-family=\"sans-serif\" font-size=\"12\" font-weight=\"bold\" lengthAdjust=\"spacingAndGlyphs\" textLength=\"8\" x=\"83\" y=\"513.1074\">1</text><text fill=\"#000000\" font-family=\"sans-serif\" font-size=\"12\" lengthAdjust=\"spacingAndGlyphs\" textLength=\"17\" x=\"91\" y=\"513.1074\">] A</text><line style=\"stroke: #383838; stroke-width: 1.5;\" x1=\"33.5\" x2=\"148.5\" y1=\"520.9375\" y2=\"520.9375\"/><text fill=\"#000000\" font-family=\"sans-serif\" font-size=\"11\" lengthAdjust=\"spacingAndGlyphs\" textLength=\"24\" x=\"38.5\" y=\"535.1479\">Text</text><line style=\"stroke: #383838; stroke-width: 1.0;\" x1=\"33.5\" x2=\"148.5\" y1=\"541.7422\" y2=\"541.7422\"/></a><!--MD5=[b9389687b975829384b498ac4b7476b2]\n",
       "class E8--><a href=\"psysml:72b41e7b-9298-4fd0-92ac-738cc777b35a\" target=\"_top\" title=\"psysml:72b41e7b-9298-4fd0-92ac-738cc777b35a\" xlink:actuate=\"onRequest\" xlink:href=\"psysml:72b41e7b-9298-4fd0-92ac-738cc777b35a\" xlink:show=\"new\" xlink:title=\"psysml:72b41e7b-9298-4fd0-92ac-738cc777b35a\" xlink:type=\"simple\"><rect fill=\"#FFFFFF\" height=\"45.9375\" id=\"E8\" rx=\"10\" ry=\"10\" style=\"stroke: #383838; stroke-width: 1.5;\" width=\"93\" x=\"184.5\" y=\"493.5\"/><text fill=\"#000000\" font-family=\"sans-serif\" font-size=\"12\" font-style=\"italic\" lengthAdjust=\"spacingAndGlyphs\" textLength=\"91\" x=\"185.5\" y=\"509.6387\">«requirement»</text><text fill=\"#000000\" font-family=\"sans-serif\" font-size=\"12\" lengthAdjust=\"spacingAndGlyphs\" text-decoration=\"line-through\" textLength=\"51\" x=\"205.5\" y=\"523.6074\">noname</text><line style=\"stroke: #383838; stroke-width: 1.5;\" x1=\"185.5\" x2=\"276.5\" y1=\"531.4375\" y2=\"531.4375\"/></a><!--MD5=[fd4143e9d270a159db93a4ea2a975926]\n",
       "class E9--><a href=\"psysml:ec52d3df-f8e8-4ac5-95c0-bf3447feb8a5\" target=\"_top\" title=\"psysml:ec52d3df-f8e8-4ac5-95c0-bf3447feb8a5\" xlink:actuate=\"onRequest\" xlink:href=\"psysml:ec52d3df-f8e8-4ac5-95c0-bf3447feb8a5\" xlink:show=\"new\" xlink:title=\"psysml:ec52d3df-f8e8-4ac5-95c0-bf3447feb8a5\" xlink:type=\"simple\"><rect fill=\"#FFFFFF\" height=\"88.3516\" id=\"E9\" style=\"stroke: #383838; stroke-width: 1.5;\" width=\"145\" x=\"109.5\" y=\"41\"/><text fill=\"#000000\" font-family=\"sans-serif\" font-size=\"12\" font-style=\"italic\" lengthAdjust=\"spacingAndGlyphs\" textLength=\"115\" x=\"124.5\" y=\"57.1387\">«requirement def»</text><text fill=\"#000000\" font-family=\"sans-serif\" font-size=\"12\" lengthAdjust=\"spacingAndGlyphs\" textLength=\"16\" x=\"174\" y=\"71.1074\">R1</text><line style=\"stroke: #383838; stroke-width: 1.5;\" x1=\"110.5\" x2=\"253.5\" y1=\"78.9375\" y2=\"78.9375\"/><text fill=\"#000000\" font-family=\"sans-serif\" font-size=\"11\" font-weight=\"bold\" lengthAdjust=\"spacingAndGlyphs\" textLength=\"46\" x=\"115.5\" y=\"109.9526\">require</text><text fill=\"#000000\" font-family=\"sans-serif\" font-size=\"11\" lengthAdjust=\"spacingAndGlyphs\" textLength=\"13\" x=\"165.5\" y=\"109.9526\">c1</text><text fill=\"#000000\" font-family=\"sans-serif\" font-size=\"11\" font-style=\"italic\" lengthAdjust=\"spacingAndGlyphs\" textLength=\"133\" x=\"115.5\" y=\"122.7573\">:&gt;&gt;RequirementTest::c</text><line style=\"stroke: #383838; stroke-width: 1.0;\" x1=\"110.5\" x2=\"150\" y1=\"93.3398\" y2=\"93.3398\"/><text fill=\"#000000\" font-family=\"sans-serif\" font-size=\"11\" lengthAdjust=\"spacingAndGlyphs\" textLength=\"64\" x=\"150\" y=\"96.6479\">constraints</text><line style=\"stroke: #383838; stroke-width: 1.0;\" x1=\"214\" x2=\"253.5\" y1=\"93.3398\" y2=\"93.3398\"/></a><!--MD5=[1dd1bfd58a279cf63c5f349dbc8fc6a1]\n",
       "class E11--><a href=\"psysml:b85d82e7-3bb2-4c49-b03c-5a9b3c771643\" target=\"_top\" title=\"psysml:b85d82e7-3bb2-4c49-b03c-5a9b3c771643\" xlink:actuate=\"onRequest\" xlink:href=\"psysml:b85d82e7-3bb2-4c49-b03c-5a9b3c771643\" xlink:show=\"new\" xlink:title=\"psysml:b85d82e7-3bb2-4c49-b03c-5a9b3c771643\" xlink:type=\"simple\"><rect fill=\"#FFFFFF\" height=\"45.9375\" id=\"E11\" rx=\"10\" ry=\"10\" style=\"stroke: #383838; stroke-width: 1.5;\" width=\"42\" x=\"185\" y=\"344.5\"/><text fill=\"#000000\" font-family=\"sans-serif\" font-size=\"12\" font-style=\"italic\" lengthAdjust=\"spacingAndGlyphs\" textLength=\"40\" x=\"186\" y=\"360.6387\">«part»</text><text fill=\"#000000\" font-family=\"sans-serif\" font-size=\"12\" lengthAdjust=\"spacingAndGlyphs\" textLength=\"8\" x=\"202\" y=\"374.6074\">p</text><line style=\"stroke: #383838; stroke-width: 1.5;\" x1=\"186\" x2=\"226\" y1=\"382.4375\" y2=\"382.4375\"/></a><!--MD5=[49a0ec8f00dab7302a31f22d0f0fe584]\n",
       "class E12--><a href=\"psysml:f6ed6b0e-7205-4bca-ba49-af9a51c8942a\" target=\"_top\" title=\"psysml:f6ed6b0e-7205-4bca-ba49-af9a51c8942a\" xlink:actuate=\"onRequest\" xlink:href=\"psysml:f6ed6b0e-7205-4bca-ba49-af9a51c8942a\" xlink:show=\"new\" xlink:title=\"psysml:f6ed6b0e-7205-4bca-ba49-af9a51c8942a\" xlink:type=\"simple\"><rect fill=\"#FFFFFF\" height=\"45.9375\" id=\"E12\" rx=\"10\" ry=\"10\" style=\"stroke: #383838; stroke-width: 1.5;\" width=\"42\" x=\"32\" y=\"62\"/><text fill=\"#000000\" font-family=\"sans-serif\" font-size=\"12\" font-style=\"italic\" lengthAdjust=\"spacingAndGlyphs\" textLength=\"40\" x=\"33\" y=\"78.1387\">«part»</text><text fill=\"#000000\" font-family=\"sans-serif\" font-size=\"12\" lengthAdjust=\"spacingAndGlyphs\" textLength=\"8\" x=\"49\" y=\"92.1074\">q</text><line style=\"stroke: #383838; stroke-width: 1.5;\" x1=\"33\" x2=\"73\" y1=\"99.9375\" y2=\"99.9375\"/></a><!--MD5=[ee3c913d1a06f366521f9ef512b67efe]\n",
       "class E13--><a href=\"psysml:dc92139c-b950-485f-92a5-3d6f837d8293\" target=\"_top\" title=\"psysml:dc92139c-b950-485f-92a5-3d6f837d8293\" xlink:actuate=\"onRequest\" xlink:href=\"psysml:dc92139c-b950-485f-92a5-3d6f837d8293\" xlink:show=\"new\" xlink:title=\"psysml:dc92139c-b950-485f-92a5-3d6f837d8293\" xlink:type=\"simple\"><rect fill=\"#FFFFFF\" height=\"45.9375\" id=\"E13\" rx=\"10\" ry=\"10\" style=\"stroke: #383838; stroke-width: 1.5;\" width=\"93\" x=\"44.5\" y=\"190\"/><text fill=\"#000000\" font-family=\"sans-serif\" font-size=\"12\" font-style=\"italic\" lengthAdjust=\"spacingAndGlyphs\" textLength=\"91\" x=\"45.5\" y=\"206.1387\">«requirement»</text><text fill=\"#000000\" font-family=\"sans-serif\" font-size=\"12\" lengthAdjust=\"spacingAndGlyphs\" textLength=\"21\" x=\"80.5\" y=\"220.1074\">r: R</text><line style=\"stroke: #383838; stroke-width: 1.5;\" x1=\"45.5\" x2=\"136.5\" y1=\"227.9375\" y2=\"227.9375\"/></a><!--MD5=[05d275557350bfb9b23a4ef7222b4c39]\n",
       "link E3 to E2--><a href=\"psysml:9201001b-4e3f-46f0-8224-89e70f802e39\" target=\"_top\" title=\"psysml:9201001b-4e3f-46f0-8224-89e70f802e39\" xlink:actuate=\"onRequest\" xlink:href=\"psysml:9201001b-4e3f-46f0-8224-89e70f802e39\" xlink:show=\"new\" xlink:title=\"psysml:9201001b-4e3f-46f0-8224-89e70f802e39\" xlink:type=\"simple\"><path d=\"M327.88,108.24 C326.26,125.24 323.98,149.19 322.02,169.79 \" fill=\"none\" id=\"E3-&gt;E2\" style=\"stroke: #383838; stroke-width: 1.0;\"/><polygon fill=\"#FFFFFF\" points=\"320.1,189.99,314.9362,170.411,328.8729,171.7407,320.1,189.99\" style=\"stroke: #383838; stroke-width: 1.0;\"/><ellipse cx=\"317.4685\" cy=\"164.9268\" fill=\"#383838\" rx=\"2\" ry=\"2\" style=\"stroke: #383838; stroke-width: 1.0;\"/><ellipse cx=\"327.4233\" cy=\"165.8765\" fill=\"#383838\" rx=\"2\" ry=\"2\" style=\"stroke: #383838; stroke-width: 1.0;\"/></a><!--MD5=[62aa6af11e70f752912c1cb0466f24f7]\n",
       "reverse link E4 to E5--><a href=\"psysml:56458fbc-ce11-45ea-8fa2-2092e0cfc05c\" target=\"_top\" title=\"psysml:56458fbc-ce11-45ea-8fa2-2092e0cfc05c\" xlink:actuate=\"onRequest\" xlink:href=\"psysml:56458fbc-ce11-45ea-8fa2-2092e0cfc05c\" xlink:show=\"new\" xlink:title=\"psysml:56458fbc-ce11-45ea-8fa2-2092e0cfc05c\" xlink:type=\"simple\"><path d=\"M91,437.45 C91,453.34 91,469.51 91,482.98 \" fill=\"none\" id=\"E4&lt;-E5\" style=\"stroke: #383838; stroke-width: 1.0;\"/><ellipse cx=\"91\" cy=\"430.4\" fill=\"#FFFFFF\" rx=\"8\" ry=\"8\" style=\"stroke: #383838; stroke-width: 1.0;\"/><line style=\"stroke: #383838; stroke-width: 1.0;\" x1=\"91\" x2=\"91\" y1=\"438.4\" y2=\"422.4\"/><line style=\"stroke: #383838; stroke-width: 1.0;\" x1=\"83\" x2=\"99\" y1=\"430.4\" y2=\"430.4\"/></a><!--MD5=[c6fc7cdb0cabde04948078cf183fa696]\n",
       "reverse link E4 to E8--><a href=\"psysml:72b41e7b-9298-4fd0-92ac-738cc777b35a\" target=\"_top\" title=\"psysml:72b41e7b-9298-4fd0-92ac-738cc777b35a\" xlink:actuate=\"onRequest\" xlink:href=\"psysml:72b41e7b-9298-4fd0-92ac-738cc777b35a\" xlink:show=\"new\" xlink:title=\"psysml:72b41e7b-9298-4fd0-92ac-738cc777b35a\" xlink:type=\"simple\"><path d=\"M151.51,432.04 C172.42,453.99 194.47,477.14 210.03,493.48 \" fill=\"none\" id=\"E4&lt;-E8\" style=\"stroke: #383838; stroke-width: 1.0;\"/><polygon fill=\"#383838\" points=\"142.34,422.4,143.5779,429.5041,150.6116,431.0937,149.3737,423.9897,142.34,422.4\" style=\"stroke: #383838; stroke-width: 1.0;\"/></a><!--MD5=[062ed86c389d1a88f61c6380d0491e17]\n",
       "reverse link E12 to E13--><a href=\"psysml:dc92139c-b950-485f-92a5-3d6f837d8293\" target=\"_top\" title=\"psysml:dc92139c-b950-485f-92a5-3d6f837d8293\" xlink:actuate=\"onRequest\" xlink:href=\"psysml:dc92139c-b950-485f-92a5-3d6f837d8293\" xlink:show=\"new\" xlink:title=\"psysml:dc92139c-b950-485f-92a5-3d6f837d8293\" xlink:type=\"simple\"><path d=\"M63.49,120.8 C70.17,142.92 78.6,170.89 84.36,189.99 \" fill=\"none\" id=\"E12&lt;-E13\" style=\"stroke: #383838; stroke-width: 1.0;\"/><polygon fill=\"#383838\" points=\"59.71,108.24,57.6129,115.1394,63.1751,119.7288,65.2722,112.8294,59.71,108.24\" style=\"stroke: #383838; stroke-width: 1.0;\"/></a><!--MD5=[017847e01ff9a8bd19f247411074f987]\n",
       "link E13 to E4--><a href=\"psysml:84833459-b0b4-497f-8a66-9d75104fb430\" target=\"_top\" title=\"psysml:84833459-b0b4-497f-8a66-9d75104fb430\" xlink:actuate=\"onRequest\" xlink:href=\"psysml:84833459-b0b4-497f-8a66-9d75104fb430\" xlink:show=\"new\" xlink:title=\"psysml:84833459-b0b4-497f-8a66-9d75104fb430\" xlink:type=\"simple\"><path d=\"M91,236.17 C91,251.17 91,271.91 91,292.44 \" fill=\"none\" id=\"E13-&gt;E4\" style=\"stroke: #383838; stroke-width: 1.0;\"/><polygon fill=\"#FFFFFF\" points=\"91,312.68,84,293.68,98,293.68,91,312.68\" style=\"stroke: #383838; stroke-width: 1.0;\"/><ellipse cx=\"86\" cy=\"287.98\" fill=\"#383838\" rx=\"2\" ry=\"2\" style=\"stroke: #383838; stroke-width: 1.0;\"/><ellipse cx=\"96\" cy=\"287.98\" fill=\"#383838\" rx=\"2\" ry=\"2\" style=\"stroke: #383838; stroke-width: 1.0;\"/></a><!--MD5=[2cfe899c895462254056921bfb67315f]\n",
       "link E13 to E11--><a href=\"psysml:ed40ce07-1501-496b-adae-3639fe39f1e8\" target=\"_top\" title=\"psysml:ed40ce07-1501-496b-adae-3639fe39f1e8\" xlink:actuate=\"onRequest\" xlink:href=\"psysml:ed40ce07-1501-496b-adae-3639fe39f1e8\" xlink:show=\"new\" xlink:title=\"psysml:ed40ce07-1501-496b-adae-3639fe39f1e8\" xlink:type=\"simple\"><path d=\"M108.36,236.29 C123.87,256.28 147.14,286.45 167,313 C173.57,321.78 180.66,331.44 186.97,340.12 \" fill=\"none\" id=\"E13-&gt;E11\" style=\"stroke: #383838; stroke-width: 1.0; stroke-dasharray: 7.0,7.0;\"/><polygon fill=\"#383838\" points=\"189.99,344.28,187.9274,334.6496,187.0474,340.2376,181.4594,339.3576,189.99,344.28\" style=\"stroke: #383838; stroke-width: 1.0;\"/><text fill=\"#000000\" font-family=\"sans-serif\" font-size=\"13\" lengthAdjust=\"spacingAndGlyphs\" textLength=\"57\" x=\"145\" y=\"279.0669\">«satisfy»</text></a><!--MD5=[1cde08fe17e5939272f1b7f597bd8afe]\n",
       "@startuml\r\n",
       "top to bottom direction\r\n",
       "skinparam monochrome true\r\n",
       "skinparam classbackgroundcolor white\r\n",
       "skinparam shadowing false\r\n",
       "skinparam wrapWidth 300\r\n",
       "hide circle\r\n",
       "\r\n",
       "package \"RequirementTest\" as E1  [[psysml:32d2418d-b451-4172-b0c3-f203713ef4c8 ]]  {\r\n",
       "comp def \"C\" as E2  <<(T,blue)constraint def>> [[psysml:a1b28860-c9a8-4d37-931e-31ae0c14540e ]] {\r\n",
       "}\r\n",
       "comp usage \"c: C\" as E3  <<(T,blue)constraint>> [[psysml:4f6724e1-6261-429d-9c16-1831387bac9b ]] {\r\n",
       "}\r\n",
       "comp def \"R\" as E4  <<(T,blue)requirement def>> [[psysml:a2742730-9bdb-48ea-a333-70a51cef011c ]] {\r\n",
       "\r\n",
       "- -\r\n",
       "- - constraints - -\r\n",
       "<b>require</b> c\r\n",
       "<i>assume</i> c1: C\r\n",
       "}\r\n",
       "comp def \" [<b>1</b>] A\" as E5  <<(T,blue)requirement def>> [[psysml:56458fbc-ce11-45ea-8fa2-2092e0cfc05c ]] {\r\n",
       "Text\r\n",
       "- -\r\n",
       "}\r\n",
       "comp usage \"<s>noname</s>\" as E8  <<(T,blue)requirement>> [[psysml:72b41e7b-9298-4fd0-92ac-738cc777b35a ]] {\r\n",
       "}\r\n",
       "comp def \"R1\" as E9  <<(T,blue)requirement def>> [[psysml:ec52d3df-f8e8-4ac5-95c0-bf3447feb8a5 ]] {\r\n",
       "- - constraints - -\r\n",
       "<b>require</b> c1\\n//:>>RequirementTest::c// \r\n",
       "}\r\n",
       "comp usage \"p\" as E11  <<(T,blue)part>> [[psysml:b85d82e7-3bb2-4c49-b03c-5a9b3c771643 ]] {\r\n",
       "}\r\n",
       "comp usage \"q\" as E12  <<(T,blue)part>> [[psysml:f6ed6b0e-7205-4bca-ba49-af9a51c8942a ]] {\r\n",
       "}\r\n",
       "comp usage \"r: R\" as E13  <<(T,blue)requirement>> [[psysml:dc92139c-b950-485f-92a5-3d6f837d8293 ]] {\r\n",
       "}\r\n",
       "E3 - -:|> E2 [[psysml:9201001b-4e3f-46f0-8224-89e70f802e39 ]] \r\n",
       "E4 +- - E5 [[psysml:56458fbc-ce11-45ea-8fa2-2092e0cfc05c ]] \r\n",
       "E4 *- - E8 [[psysml:72b41e7b-9298-4fd0-92ac-738cc777b35a ]] \r\n",
       "E12 *- - E13 [[psysml:dc92139c-b950-485f-92a5-3d6f837d8293 ]] \r\n",
       "E13 - -:|> E4 [[psysml:84833459-b0b4-497f-8a66-9d75104fb430 ]] \r\n",
       "E13 ..> E11 [[psysml:ed40ce07-1501-496b-adae-3639fe39f1e8 ]] : <<satisfy>>\r\n",
       "}\r\n",
       "@enduml\r\n",
       "\n",
       "PlantUML version 1.2020.13(Sat Jun 13 12:26:38 UTC 2020)\n",
       "(EPL source distribution)\n",
       "Java Runtime: OpenJDK Runtime Environment\n",
       "JVM: OpenJDK 64-Bit Server VM\n",
       "Default Encoding: UTF-8\n",
       "Language: en\n",
       "Country: null\n",
       "--></g></svg>"
      ]
     },
     "execution_count": 44,
     "metadata": {},
     "output_type": "execute_result"
    }
   ],
   "source": [
    "%viz --style=\"TB\" --view=\"Default\" \"RequirementTest\""
   ]
  },
  {
   "cell_type": "code",
   "execution_count": 45,
   "id": "bright-masters",
   "metadata": {
    "execution": {
     "iopub.execute_input": "2021-03-26T13:01:10.979357Z",
     "iopub.status.busy": "2021-03-26T13:01:10.978795Z",
     "iopub.status.idle": "2021-03-26T13:01:11.061972Z",
     "shell.execute_reply": "2021-03-26T13:01:11.060496Z"
    }
   },
   "outputs": [
    {
     "data": {
      "image/svg+xml": [
       "<?xml version=\"1.0\" encoding=\"UTF-8\" standalone=\"no\"?><svg xmlns=\"http://www.w3.org/2000/svg\" xmlns:xlink=\"http://www.w3.org/1999/xlink\" contentScriptType=\"application/ecmascript\" contentStyleType=\"text/css\" height=\"578px\" preserveAspectRatio=\"none\" style=\"width:408px;height:578px;\" version=\"1.1\" viewBox=\"0 0 408 578\" width=\"408px\" zoomAndPan=\"magnify\"><defs/><g><!--MD5=[fbc87193dbaf4d95561dea2c320d4a47]\n",
       "cluster E1--><a href=\"psysml:32d2418d-b451-4172-b0c3-f203713ef4c8\" target=\"_top\" title=\"psysml:32d2418d-b451-4172-b0c3-f203713ef4c8\" xlink:actuate=\"onRequest\" xlink:href=\"psysml:32d2418d-b451-4172-b0c3-f203713ef4c8\" xlink:show=\"new\" xlink:title=\"psysml:32d2418d-b451-4172-b0c3-f203713ef4c8\" xlink:type=\"simple\"><polygon fill=\"#FFFFFF\" points=\"16,6,158,6,165,28.2969,386,28.2969,386,566,16,566,16,6\" style=\"stroke: #000000; stroke-width: 1.5;\"/><line style=\"stroke: #000000; stroke-width: 1.5;\" x1=\"16\" x2=\"165\" y1=\"28.2969\" y2=\"28.2969\"/><text fill=\"#000000\" font-family=\"sans-serif\" font-size=\"14\" font-weight=\"bold\" lengthAdjust=\"spacingAndGlyphs\" textLength=\"136\" x=\"20\" y=\"20.9951\">RequirementTest</text></a><!--MD5=[b4997ac47864f28c2f74865a473b2911]\n",
       "class E2--><a href=\"psysml:a1b28860-c9a8-4d37-931e-31ae0c14540e\" target=\"_top\" title=\"psysml:a1b28860-c9a8-4d37-931e-31ae0c14540e\" xlink:actuate=\"onRequest\" xlink:href=\"psysml:a1b28860-c9a8-4d37-931e-31ae0c14540e\" xlink:show=\"new\" xlink:title=\"psysml:a1b28860-c9a8-4d37-931e-31ae0c14540e\" xlink:type=\"simple\"><rect fill=\"#FFFFFF\" height=\"45.9375\" id=\"E2\" style=\"stroke: #383838; stroke-width: 1.5;\" width=\"104\" x=\"266\" y=\"190\"/><text fill=\"#000000\" font-family=\"sans-serif\" font-size=\"12\" font-style=\"italic\" lengthAdjust=\"spacingAndGlyphs\" textLength=\"102\" x=\"267\" y=\"206.1387\">«constraint def»</text><text fill=\"#000000\" font-family=\"sans-serif\" font-size=\"12\" lengthAdjust=\"spacingAndGlyphs\" textLength=\"8\" x=\"314\" y=\"220.1074\">C</text><line style=\"stroke: #383838; stroke-width: 1.5;\" x1=\"267\" x2=\"369\" y1=\"227.9375\" y2=\"227.9375\"/></a><!--MD5=[09b614a08d8cba4a07c9adeb5e0fee81]\n",
       "class E3--><a href=\"psysml:4f6724e1-6261-429d-9c16-1831387bac9b\" target=\"_top\" title=\"psysml:4f6724e1-6261-429d-9c16-1831387bac9b\" xlink:actuate=\"onRequest\" xlink:href=\"psysml:4f6724e1-6261-429d-9c16-1831387bac9b\" xlink:show=\"new\" xlink:title=\"psysml:4f6724e1-6261-429d-9c16-1831387bac9b\" xlink:type=\"simple\"><rect fill=\"#FFFFFF\" height=\"45.9375\" id=\"E3\" rx=\"10\" ry=\"10\" style=\"stroke: #383838; stroke-width: 1.5;\" width=\"80\" x=\"290\" y=\"62\"/><text fill=\"#000000\" font-family=\"sans-serif\" font-size=\"12\" font-style=\"italic\" lengthAdjust=\"spacingAndGlyphs\" textLength=\"78\" x=\"291\" y=\"78.1387\">«constraint»</text><text fill=\"#000000\" font-family=\"sans-serif\" font-size=\"12\" lengthAdjust=\"spacingAndGlyphs\" textLength=\"23\" x=\"318.5\" y=\"92.1074\">c: C</text><line style=\"stroke: #383838; stroke-width: 1.5;\" x1=\"291\" x2=\"369\" y1=\"99.9375\" y2=\"99.9375\"/></a><!--MD5=[ebbe1d658d1005bcc118a6aa81145e00]\n",
       "class E4--><a href=\"psysml:a2742730-9bdb-48ea-a333-70a51cef011c\" target=\"_top\" title=\"psysml:a2742730-9bdb-48ea-a333-70a51cef011c\" xlink:actuate=\"onRequest\" xlink:href=\"psysml:a2742730-9bdb-48ea-a333-70a51cef011c\" xlink:show=\"new\" xlink:title=\"psysml:a2742730-9bdb-48ea-a333-70a51cef011c\" xlink:type=\"simple\"><rect fill=\"#FFFFFF\" height=\"109.1563\" id=\"E4\" style=\"stroke: #383838; stroke-width: 1.5;\" width=\"117\" x=\"32.5\" y=\"313\"/><text fill=\"#000000\" font-family=\"sans-serif\" font-size=\"12\" font-style=\"italic\" lengthAdjust=\"spacingAndGlyphs\" textLength=\"115\" x=\"33.5\" y=\"329.1387\">«requirement def»</text><text fill=\"#000000\" font-family=\"sans-serif\" font-size=\"12\" lengthAdjust=\"spacingAndGlyphs\" textLength=\"8\" x=\"87\" y=\"343.1074\">R</text><line style=\"stroke: #383838; stroke-width: 1.5;\" x1=\"33.5\" x2=\"148.5\" y1=\"350.9375\" y2=\"350.9375\"/><text fill=\"#000000\" font-family=\"sans-serif\" font-size=\"11\" lengthAdjust=\"spacingAndGlyphs\" textLength=\"0\" x=\"42.5\" y=\"365.1479\"/><line style=\"stroke: #383838; stroke-width: 1.0;\" x1=\"33.5\" x2=\"148.5\" y1=\"371.7422\" y2=\"371.7422\"/><text fill=\"#000000\" font-family=\"sans-serif\" font-size=\"11\" font-weight=\"bold\" lengthAdjust=\"spacingAndGlyphs\" textLength=\"46\" x=\"38.5\" y=\"402.7573\">require</text><text fill=\"#000000\" font-family=\"sans-serif\" font-size=\"11\" lengthAdjust=\"spacingAndGlyphs\" textLength=\"6\" x=\"88.5\" y=\"402.7573\">c</text><text fill=\"#000000\" font-family=\"sans-serif\" font-size=\"11\" font-style=\"italic\" lengthAdjust=\"spacingAndGlyphs\" textLength=\"46\" x=\"38.5\" y=\"415.562\">assume</text><text fill=\"#000000\" font-family=\"sans-serif\" font-size=\"11\" lengthAdjust=\"spacingAndGlyphs\" textLength=\"29\" x=\"88.5\" y=\"415.562\">c1: C</text><line style=\"stroke: #383838; stroke-width: 1.0;\" x1=\"33.5\" x2=\"59\" y1=\"386.1445\" y2=\"386.1445\"/><text fill=\"#000000\" font-family=\"sans-serif\" font-size=\"11\" lengthAdjust=\"spacingAndGlyphs\" textLength=\"64\" x=\"59\" y=\"389.4526\">constraints</text><line style=\"stroke: #383838; stroke-width: 1.0;\" x1=\"123\" x2=\"148.5\" y1=\"386.1445\" y2=\"386.1445\"/></a><!--MD5=[270fce915f116d4de14055a7c1d9a0f3]\n",
       "class E5--><a href=\"psysml:56458fbc-ce11-45ea-8fa2-2092e0cfc05c\" target=\"_top\" title=\"psysml:56458fbc-ce11-45ea-8fa2-2092e0cfc05c\" xlink:actuate=\"onRequest\" xlink:href=\"psysml:56458fbc-ce11-45ea-8fa2-2092e0cfc05c\" xlink:show=\"new\" xlink:title=\"psysml:56458fbc-ce11-45ea-8fa2-2092e0cfc05c\" xlink:type=\"simple\"><rect fill=\"#FFFFFF\" height=\"66.7422\" id=\"E5\" style=\"stroke: #383838; stroke-width: 1.5;\" width=\"117\" x=\"32.5\" y=\"483\"/><text fill=\"#000000\" font-family=\"sans-serif\" font-size=\"12\" font-style=\"italic\" lengthAdjust=\"spacingAndGlyphs\" textLength=\"115\" x=\"33.5\" y=\"499.1387\">«requirement def»</text><text fill=\"#000000\" font-family=\"sans-serif\" font-size=\"12\" lengthAdjust=\"spacingAndGlyphs\" textLength=\"5\" x=\"78\" y=\"513.1074\">[</text><text fill=\"#000000\" font-family=\"sans-serif\" font-size=\"12\" font-weight=\"bold\" lengthAdjust=\"spacingAndGlyphs\" textLength=\"8\" x=\"83\" y=\"513.1074\">1</text><text fill=\"#000000\" font-family=\"sans-serif\" font-size=\"12\" lengthAdjust=\"spacingAndGlyphs\" textLength=\"17\" x=\"91\" y=\"513.1074\">] A</text><line style=\"stroke: #383838; stroke-width: 1.5;\" x1=\"33.5\" x2=\"148.5\" y1=\"520.9375\" y2=\"520.9375\"/><text fill=\"#000000\" font-family=\"sans-serif\" font-size=\"11\" lengthAdjust=\"spacingAndGlyphs\" textLength=\"24\" x=\"38.5\" y=\"535.1479\">Text</text><line style=\"stroke: #383838; stroke-width: 1.0;\" x1=\"33.5\" x2=\"148.5\" y1=\"541.7422\" y2=\"541.7422\"/></a><!--MD5=[b9389687b975829384b498ac4b7476b2]\n",
       "class E8--><a href=\"psysml:72b41e7b-9298-4fd0-92ac-738cc777b35a\" target=\"_top\" title=\"psysml:72b41e7b-9298-4fd0-92ac-738cc777b35a\" xlink:actuate=\"onRequest\" xlink:href=\"psysml:72b41e7b-9298-4fd0-92ac-738cc777b35a\" xlink:show=\"new\" xlink:title=\"psysml:72b41e7b-9298-4fd0-92ac-738cc777b35a\" xlink:type=\"simple\"><rect fill=\"#FFFFFF\" height=\"45.9375\" id=\"E8\" rx=\"10\" ry=\"10\" style=\"stroke: #383838; stroke-width: 1.5;\" width=\"93\" x=\"184.5\" y=\"493.5\"/><text fill=\"#000000\" font-family=\"sans-serif\" font-size=\"12\" font-style=\"italic\" lengthAdjust=\"spacingAndGlyphs\" textLength=\"91\" x=\"185.5\" y=\"509.6387\">«requirement»</text><text fill=\"#000000\" font-family=\"sans-serif\" font-size=\"12\" lengthAdjust=\"spacingAndGlyphs\" text-decoration=\"line-through\" textLength=\"51\" x=\"205.5\" y=\"523.6074\">noname</text><line style=\"stroke: #383838; stroke-width: 1.5;\" x1=\"185.5\" x2=\"276.5\" y1=\"531.4375\" y2=\"531.4375\"/></a><!--MD5=[fd4143e9d270a159db93a4ea2a975926]\n",
       "class E9--><a href=\"psysml:ec52d3df-f8e8-4ac5-95c0-bf3447feb8a5\" target=\"_top\" title=\"psysml:ec52d3df-f8e8-4ac5-95c0-bf3447feb8a5\" xlink:actuate=\"onRequest\" xlink:href=\"psysml:ec52d3df-f8e8-4ac5-95c0-bf3447feb8a5\" xlink:show=\"new\" xlink:title=\"psysml:ec52d3df-f8e8-4ac5-95c0-bf3447feb8a5\" xlink:type=\"simple\"><rect fill=\"#FFFFFF\" height=\"88.3516\" id=\"E9\" style=\"stroke: #383838; stroke-width: 1.5;\" width=\"145\" x=\"109.5\" y=\"41\"/><text fill=\"#000000\" font-family=\"sans-serif\" font-size=\"12\" font-style=\"italic\" lengthAdjust=\"spacingAndGlyphs\" textLength=\"115\" x=\"124.5\" y=\"57.1387\">«requirement def»</text><text fill=\"#000000\" font-family=\"sans-serif\" font-size=\"12\" lengthAdjust=\"spacingAndGlyphs\" textLength=\"16\" x=\"174\" y=\"71.1074\">R1</text><line style=\"stroke: #383838; stroke-width: 1.5;\" x1=\"110.5\" x2=\"253.5\" y1=\"78.9375\" y2=\"78.9375\"/><text fill=\"#000000\" font-family=\"sans-serif\" font-size=\"11\" font-weight=\"bold\" lengthAdjust=\"spacingAndGlyphs\" textLength=\"46\" x=\"115.5\" y=\"109.9526\">require</text><text fill=\"#000000\" font-family=\"sans-serif\" font-size=\"11\" lengthAdjust=\"spacingAndGlyphs\" textLength=\"13\" x=\"165.5\" y=\"109.9526\">c1</text><text fill=\"#000000\" font-family=\"sans-serif\" font-size=\"11\" font-style=\"italic\" lengthAdjust=\"spacingAndGlyphs\" textLength=\"133\" x=\"115.5\" y=\"122.7573\">:&gt;&gt;RequirementTest::c</text><line style=\"stroke: #383838; stroke-width: 1.0;\" x1=\"110.5\" x2=\"150\" y1=\"93.3398\" y2=\"93.3398\"/><text fill=\"#000000\" font-family=\"sans-serif\" font-size=\"11\" lengthAdjust=\"spacingAndGlyphs\" textLength=\"64\" x=\"150\" y=\"96.6479\">constraints</text><line style=\"stroke: #383838; stroke-width: 1.0;\" x1=\"214\" x2=\"253.5\" y1=\"93.3398\" y2=\"93.3398\"/></a><!--MD5=[1dd1bfd58a279cf63c5f349dbc8fc6a1]\n",
       "class E11--><a href=\"psysml:b85d82e7-3bb2-4c49-b03c-5a9b3c771643\" target=\"_top\" title=\"psysml:b85d82e7-3bb2-4c49-b03c-5a9b3c771643\" xlink:actuate=\"onRequest\" xlink:href=\"psysml:b85d82e7-3bb2-4c49-b03c-5a9b3c771643\" xlink:show=\"new\" xlink:title=\"psysml:b85d82e7-3bb2-4c49-b03c-5a9b3c771643\" xlink:type=\"simple\"><rect fill=\"#FFFFFF\" height=\"45.9375\" id=\"E11\" rx=\"10\" ry=\"10\" style=\"stroke: #383838; stroke-width: 1.5;\" width=\"42\" x=\"185\" y=\"344.5\"/><text fill=\"#000000\" font-family=\"sans-serif\" font-size=\"12\" font-style=\"italic\" lengthAdjust=\"spacingAndGlyphs\" textLength=\"40\" x=\"186\" y=\"360.6387\">«part»</text><text fill=\"#000000\" font-family=\"sans-serif\" font-size=\"12\" lengthAdjust=\"spacingAndGlyphs\" textLength=\"8\" x=\"202\" y=\"374.6074\">p</text><line style=\"stroke: #383838; stroke-width: 1.5;\" x1=\"186\" x2=\"226\" y1=\"382.4375\" y2=\"382.4375\"/></a><!--MD5=[49a0ec8f00dab7302a31f22d0f0fe584]\n",
       "class E12--><a href=\"psysml:f6ed6b0e-7205-4bca-ba49-af9a51c8942a\" target=\"_top\" title=\"psysml:f6ed6b0e-7205-4bca-ba49-af9a51c8942a\" xlink:actuate=\"onRequest\" xlink:href=\"psysml:f6ed6b0e-7205-4bca-ba49-af9a51c8942a\" xlink:show=\"new\" xlink:title=\"psysml:f6ed6b0e-7205-4bca-ba49-af9a51c8942a\" xlink:type=\"simple\"><rect fill=\"#FFFFFF\" height=\"45.9375\" id=\"E12\" rx=\"10\" ry=\"10\" style=\"stroke: #383838; stroke-width: 1.5;\" width=\"42\" x=\"32\" y=\"62\"/><text fill=\"#000000\" font-family=\"sans-serif\" font-size=\"12\" font-style=\"italic\" lengthAdjust=\"spacingAndGlyphs\" textLength=\"40\" x=\"33\" y=\"78.1387\">«part»</text><text fill=\"#000000\" font-family=\"sans-serif\" font-size=\"12\" lengthAdjust=\"spacingAndGlyphs\" textLength=\"8\" x=\"49\" y=\"92.1074\">q</text><line style=\"stroke: #383838; stroke-width: 1.5;\" x1=\"33\" x2=\"73\" y1=\"99.9375\" y2=\"99.9375\"/></a><!--MD5=[ee3c913d1a06f366521f9ef512b67efe]\n",
       "class E13--><a href=\"psysml:dc92139c-b950-485f-92a5-3d6f837d8293\" target=\"_top\" title=\"psysml:dc92139c-b950-485f-92a5-3d6f837d8293\" xlink:actuate=\"onRequest\" xlink:href=\"psysml:dc92139c-b950-485f-92a5-3d6f837d8293\" xlink:show=\"new\" xlink:title=\"psysml:dc92139c-b950-485f-92a5-3d6f837d8293\" xlink:type=\"simple\"><rect fill=\"#FFFFFF\" height=\"45.9375\" id=\"E13\" rx=\"10\" ry=\"10\" style=\"stroke: #383838; stroke-width: 1.5;\" width=\"93\" x=\"44.5\" y=\"190\"/><text fill=\"#000000\" font-family=\"sans-serif\" font-size=\"12\" font-style=\"italic\" lengthAdjust=\"spacingAndGlyphs\" textLength=\"91\" x=\"45.5\" y=\"206.1387\">«requirement»</text><text fill=\"#000000\" font-family=\"sans-serif\" font-size=\"12\" lengthAdjust=\"spacingAndGlyphs\" textLength=\"21\" x=\"80.5\" y=\"220.1074\">r: R</text><line style=\"stroke: #383838; stroke-width: 1.5;\" x1=\"45.5\" x2=\"136.5\" y1=\"227.9375\" y2=\"227.9375\"/></a><!--MD5=[05d275557350bfb9b23a4ef7222b4c39]\n",
       "link E3 to E2--><a href=\"psysml:9201001b-4e3f-46f0-8224-89e70f802e39\" target=\"_top\" title=\"psysml:9201001b-4e3f-46f0-8224-89e70f802e39\" xlink:actuate=\"onRequest\" xlink:href=\"psysml:9201001b-4e3f-46f0-8224-89e70f802e39\" xlink:show=\"new\" xlink:title=\"psysml:9201001b-4e3f-46f0-8224-89e70f802e39\" xlink:type=\"simple\"><path d=\"M327.88,108.24 C326.26,125.24 323.98,149.19 322.02,169.79 \" fill=\"none\" id=\"E3-&gt;E2\" style=\"stroke: #383838; stroke-width: 1.0;\"/><polygon fill=\"#FFFFFF\" points=\"320.1,189.99,314.9362,170.411,328.8729,171.7407,320.1,189.99\" style=\"stroke: #383838; stroke-width: 1.0;\"/><ellipse cx=\"317.4685\" cy=\"164.9268\" fill=\"#383838\" rx=\"2\" ry=\"2\" style=\"stroke: #383838; stroke-width: 1.0;\"/><ellipse cx=\"327.4233\" cy=\"165.8765\" fill=\"#383838\" rx=\"2\" ry=\"2\" style=\"stroke: #383838; stroke-width: 1.0;\"/></a><!--MD5=[62aa6af11e70f752912c1cb0466f24f7]\n",
       "reverse link E4 to E5--><a href=\"psysml:56458fbc-ce11-45ea-8fa2-2092e0cfc05c\" target=\"_top\" title=\"psysml:56458fbc-ce11-45ea-8fa2-2092e0cfc05c\" xlink:actuate=\"onRequest\" xlink:href=\"psysml:56458fbc-ce11-45ea-8fa2-2092e0cfc05c\" xlink:show=\"new\" xlink:title=\"psysml:56458fbc-ce11-45ea-8fa2-2092e0cfc05c\" xlink:type=\"simple\"><path d=\"M91,437.45 C91,453.34 91,469.51 91,482.98 \" fill=\"none\" id=\"E4&lt;-E5\" style=\"stroke: #383838; stroke-width: 1.0;\"/><ellipse cx=\"91\" cy=\"430.4\" fill=\"#FFFFFF\" rx=\"8\" ry=\"8\" style=\"stroke: #383838; stroke-width: 1.0;\"/><line style=\"stroke: #383838; stroke-width: 1.0;\" x1=\"91\" x2=\"91\" y1=\"438.4\" y2=\"422.4\"/><line style=\"stroke: #383838; stroke-width: 1.0;\" x1=\"83\" x2=\"99\" y1=\"430.4\" y2=\"430.4\"/></a><!--MD5=[c6fc7cdb0cabde04948078cf183fa696]\n",
       "reverse link E4 to E8--><a href=\"psysml:72b41e7b-9298-4fd0-92ac-738cc777b35a\" target=\"_top\" title=\"psysml:72b41e7b-9298-4fd0-92ac-738cc777b35a\" xlink:actuate=\"onRequest\" xlink:href=\"psysml:72b41e7b-9298-4fd0-92ac-738cc777b35a\" xlink:show=\"new\" xlink:title=\"psysml:72b41e7b-9298-4fd0-92ac-738cc777b35a\" xlink:type=\"simple\"><path d=\"M151.51,432.04 C172.42,453.99 194.47,477.14 210.03,493.48 \" fill=\"none\" id=\"E4&lt;-E8\" style=\"stroke: #383838; stroke-width: 1.0;\"/><polygon fill=\"#383838\" points=\"142.34,422.4,143.5779,429.5041,150.6116,431.0937,149.3737,423.9897,142.34,422.4\" style=\"stroke: #383838; stroke-width: 1.0;\"/></a><!--MD5=[062ed86c389d1a88f61c6380d0491e17]\n",
       "reverse link E12 to E13--><a href=\"psysml:dc92139c-b950-485f-92a5-3d6f837d8293\" target=\"_top\" title=\"psysml:dc92139c-b950-485f-92a5-3d6f837d8293\" xlink:actuate=\"onRequest\" xlink:href=\"psysml:dc92139c-b950-485f-92a5-3d6f837d8293\" xlink:show=\"new\" xlink:title=\"psysml:dc92139c-b950-485f-92a5-3d6f837d8293\" xlink:type=\"simple\"><path d=\"M63.49,120.8 C70.17,142.92 78.6,170.89 84.36,189.99 \" fill=\"none\" id=\"E12&lt;-E13\" style=\"stroke: #383838; stroke-width: 1.0;\"/><polygon fill=\"#383838\" points=\"59.71,108.24,57.6129,115.1394,63.1751,119.7288,65.2722,112.8294,59.71,108.24\" style=\"stroke: #383838; stroke-width: 1.0;\"/></a><!--MD5=[017847e01ff9a8bd19f247411074f987]\n",
       "link E13 to E4--><a href=\"psysml:84833459-b0b4-497f-8a66-9d75104fb430\" target=\"_top\" title=\"psysml:84833459-b0b4-497f-8a66-9d75104fb430\" xlink:actuate=\"onRequest\" xlink:href=\"psysml:84833459-b0b4-497f-8a66-9d75104fb430\" xlink:show=\"new\" xlink:title=\"psysml:84833459-b0b4-497f-8a66-9d75104fb430\" xlink:type=\"simple\"><path d=\"M91,236.17 C91,251.17 91,271.91 91,292.44 \" fill=\"none\" id=\"E13-&gt;E4\" style=\"stroke: #383838; stroke-width: 1.0;\"/><polygon fill=\"#FFFFFF\" points=\"91,312.68,84,293.68,98,293.68,91,312.68\" style=\"stroke: #383838; stroke-width: 1.0;\"/><ellipse cx=\"86\" cy=\"287.98\" fill=\"#383838\" rx=\"2\" ry=\"2\" style=\"stroke: #383838; stroke-width: 1.0;\"/><ellipse cx=\"96\" cy=\"287.98\" fill=\"#383838\" rx=\"2\" ry=\"2\" style=\"stroke: #383838; stroke-width: 1.0;\"/></a><!--MD5=[2cfe899c895462254056921bfb67315f]\n",
       "link E13 to E11--><a href=\"psysml:ed40ce07-1501-496b-adae-3639fe39f1e8\" target=\"_top\" title=\"psysml:ed40ce07-1501-496b-adae-3639fe39f1e8\" xlink:actuate=\"onRequest\" xlink:href=\"psysml:ed40ce07-1501-496b-adae-3639fe39f1e8\" xlink:show=\"new\" xlink:title=\"psysml:ed40ce07-1501-496b-adae-3639fe39f1e8\" xlink:type=\"simple\"><path d=\"M108.36,236.29 C123.87,256.28 147.14,286.45 167,313 C173.57,321.78 180.66,331.44 186.97,340.12 \" fill=\"none\" id=\"E13-&gt;E11\" style=\"stroke: #383838; stroke-width: 1.0; stroke-dasharray: 7.0,7.0;\"/><polygon fill=\"#383838\" points=\"189.99,344.28,187.9274,334.6496,187.0474,340.2376,181.4594,339.3576,189.99,344.28\" style=\"stroke: #383838; stroke-width: 1.0;\"/><text fill=\"#000000\" font-family=\"sans-serif\" font-size=\"13\" lengthAdjust=\"spacingAndGlyphs\" textLength=\"57\" x=\"145\" y=\"279.0669\">«satisfy»</text></a><!--MD5=[1cde08fe17e5939272f1b7f597bd8afe]\n",
       "@startuml\r\n",
       "top to bottom direction\r\n",
       "skinparam monochrome true\r\n",
       "skinparam classbackgroundcolor white\r\n",
       "skinparam shadowing false\r\n",
       "skinparam wrapWidth 300\r\n",
       "hide circle\r\n",
       "\r\n",
       "package \"RequirementTest\" as E1  [[psysml:32d2418d-b451-4172-b0c3-f203713ef4c8 ]]  {\r\n",
       "comp def \"C\" as E2  <<(T,blue)constraint def>> [[psysml:a1b28860-c9a8-4d37-931e-31ae0c14540e ]] {\r\n",
       "}\r\n",
       "comp usage \"c: C\" as E3  <<(T,blue)constraint>> [[psysml:4f6724e1-6261-429d-9c16-1831387bac9b ]] {\r\n",
       "}\r\n",
       "comp def \"R\" as E4  <<(T,blue)requirement def>> [[psysml:a2742730-9bdb-48ea-a333-70a51cef011c ]] {\r\n",
       "\r\n",
       "- -\r\n",
       "- - constraints - -\r\n",
       "<b>require</b> c\r\n",
       "<i>assume</i> c1: C\r\n",
       "}\r\n",
       "comp def \" [<b>1</b>] A\" as E5  <<(T,blue)requirement def>> [[psysml:56458fbc-ce11-45ea-8fa2-2092e0cfc05c ]] {\r\n",
       "Text\r\n",
       "- -\r\n",
       "}\r\n",
       "comp usage \"<s>noname</s>\" as E8  <<(T,blue)requirement>> [[psysml:72b41e7b-9298-4fd0-92ac-738cc777b35a ]] {\r\n",
       "}\r\n",
       "comp def \"R1\" as E9  <<(T,blue)requirement def>> [[psysml:ec52d3df-f8e8-4ac5-95c0-bf3447feb8a5 ]] {\r\n",
       "- - constraints - -\r\n",
       "<b>require</b> c1\\n//:>>RequirementTest::c// \r\n",
       "}\r\n",
       "comp usage \"p\" as E11  <<(T,blue)part>> [[psysml:b85d82e7-3bb2-4c49-b03c-5a9b3c771643 ]] {\r\n",
       "}\r\n",
       "comp usage \"q\" as E12  <<(T,blue)part>> [[psysml:f6ed6b0e-7205-4bca-ba49-af9a51c8942a ]] {\r\n",
       "}\r\n",
       "comp usage \"r: R\" as E13  <<(T,blue)requirement>> [[psysml:dc92139c-b950-485f-92a5-3d6f837d8293 ]] {\r\n",
       "}\r\n",
       "E3 - -:|> E2 [[psysml:9201001b-4e3f-46f0-8224-89e70f802e39 ]] \r\n",
       "E4 +- - E5 [[psysml:56458fbc-ce11-45ea-8fa2-2092e0cfc05c ]] \r\n",
       "E4 *- - E8 [[psysml:72b41e7b-9298-4fd0-92ac-738cc777b35a ]] \r\n",
       "E12 *- - E13 [[psysml:dc92139c-b950-485f-92a5-3d6f837d8293 ]] \r\n",
       "E13 - -:|> E4 [[psysml:84833459-b0b4-497f-8a66-9d75104fb430 ]] \r\n",
       "E13 ..> E11 [[psysml:ed40ce07-1501-496b-adae-3639fe39f1e8 ]] : <<satisfy>>\r\n",
       "}\r\n",
       "@enduml\r\n",
       "\n",
       "PlantUML version 1.2020.13(Sat Jun 13 12:26:38 UTC 2020)\n",
       "(EPL source distribution)\n",
       "Java Runtime: OpenJDK Runtime Environment\n",
       "JVM: OpenJDK 64-Bit Server VM\n",
       "Default Encoding: UTF-8\n",
       "Language: en\n",
       "Country: null\n",
       "--></g></svg>"
      ]
     },
     "execution_count": 45,
     "metadata": {},
     "output_type": "execute_result"
    }
   ],
   "source": [
    "%viz --style=\"TB\" --view=\"Tree\" \"RequirementTest\""
   ]
  },
  {
   "cell_type": "code",
   "execution_count": 46,
   "id": "precious-editor",
   "metadata": {
    "execution": {
     "iopub.execute_input": "2021-03-26T13:01:11.111646Z",
     "iopub.status.busy": "2021-03-26T13:01:11.111236Z",
     "iopub.status.idle": "2021-03-26T13:01:11.115474Z",
     "shell.execute_reply": "2021-03-26T13:01:11.115178Z"
    }
   },
   "outputs": [
    {
     "data": {
      "image/svg+xml": [
       "<?xml version=\"1.0\" encoding=\"UTF-8\" standalone=\"no\"?><svg xmlns=\"http://www.w3.org/2000/svg\" xmlns:xlink=\"http://www.w3.org/1999/xlink\" contentScriptType=\"application/ecmascript\" contentStyleType=\"text/css\" height=\"12px\" preserveAspectRatio=\"none\" style=\"width:12px;height:12px;\" version=\"1.1\" viewBox=\"0 0 12 12\" width=\"12px\" zoomAndPan=\"magnify\"><defs/><g><!--MD5=[f4ee21bc66e489b5061b7c3e9601fdef]\n",
       "@startuml\r\n",
       "top to bottom direction\r\n",
       "skinparam monochrome true\r\n",
       "skinparam classbackgroundcolor white\r\n",
       "skinparam shadowing false\r\n",
       "skinparam wrapWidth 300\r\n",
       "hide circle\r\n",
       "\r\n",
       "@enduml\r\n",
       "\n",
       "PlantUML version 1.2020.13(Sat Jun 13 12:26:38 UTC 2020)\n",
       "(EPL source distribution)\n",
       "Java Runtime: OpenJDK Runtime Environment\n",
       "JVM: OpenJDK 64-Bit Server VM\n",
       "Default Encoding: UTF-8\n",
       "Language: en\n",
       "Country: null\n",
       "--></g></svg>"
      ]
     },
     "execution_count": 46,
     "metadata": {},
     "output_type": "execute_result"
    }
   ],
   "source": [
    "%viz --style=\"TB\" --view=\"State\" \"RequirementTest\""
   ]
  },
  {
   "cell_type": "code",
   "execution_count": 47,
   "id": "mexican-costa",
   "metadata": {
    "execution": {
     "iopub.execute_input": "2021-03-26T13:01:11.166463Z",
     "iopub.status.busy": "2021-03-26T13:01:11.165847Z",
     "iopub.status.idle": "2021-03-26T13:01:11.196468Z",
     "shell.execute_reply": "2021-03-26T13:01:11.196164Z"
    }
   },
   "outputs": [
    {
     "data": {
      "image/svg+xml": [
       "<?xml version=\"1.0\" encoding=\"UTF-8\" standalone=\"no\"?><svg xmlns=\"http://www.w3.org/2000/svg\" xmlns:xlink=\"http://www.w3.org/1999/xlink\" contentScriptType=\"application/ecmascript\" contentStyleType=\"text/css\" height=\"367px\" preserveAspectRatio=\"none\" style=\"width:852px;height:367px;\" version=\"1.1\" viewBox=\"0 0 852 367\" width=\"852px\" zoomAndPan=\"magnify\"><defs/><g><!--MD5=[fbc87193dbaf4d95561dea2c320d4a47]\n",
       "cluster E1--><a href=\"psysml:32d2418d-b451-4172-b0c3-f203713ef4c8\" target=\"_top\" title=\"psysml:32d2418d-b451-4172-b0c3-f203713ef4c8\" xlink:actuate=\"onRequest\" xlink:href=\"psysml:32d2418d-b451-4172-b0c3-f203713ef4c8\" xlink:show=\"new\" xlink:title=\"psysml:32d2418d-b451-4172-b0c3-f203713ef4c8\" xlink:type=\"simple\"><polygon fill=\"#FFFFFF\" points=\"16,6,158,6,165,28.2969,830,28.2969,830,355,16,355,16,6\" style=\"stroke: #000000; stroke-width: 1.5;\"/><line style=\"stroke: #000000; stroke-width: 1.5;\" x1=\"16\" x2=\"165\" y1=\"28.2969\" y2=\"28.2969\"/><text fill=\"#000000\" font-family=\"sans-serif\" font-size=\"14\" font-weight=\"bold\" lengthAdjust=\"spacingAndGlyphs\" textLength=\"136\" x=\"20\" y=\"20.9951\">RequirementTest</text></a><!--MD5=[168fadf3d0c3fd93dd5d6da1b1d7ab76]\n",
       "cluster E7--><a href=\"psysml:f6ed6b0e-7205-4bca-ba49-af9a51c8942a\" target=\"_top\" title=\"psysml:f6ed6b0e-7205-4bca-ba49-af9a51c8942a\" xlink:actuate=\"onRequest\" xlink:href=\"psysml:f6ed6b0e-7205-4bca-ba49-af9a51c8942a\" xlink:show=\"new\" xlink:title=\"psysml:f6ed6b0e-7205-4bca-ba49-af9a51c8942a\" xlink:type=\"simple\"><rect fill=\"#FFFFFF\" height=\"209\" id=\"E7\" rx=\"10\" ry=\"10\" style=\"stroke: #383838; stroke-width: 1.5;\" width=\"213\" x=\"593\" y=\"49\"/><rect fill=\"#F8F8F8\" height=\"23.9688\" rx=\"10\" ry=\"10\" style=\"stroke: #F8F8F8; stroke-width: 1.5;\" width=\"213\" x=\"593\" y=\"49\"/><rect fill=\"#F8F8F8\" height=\"10\" style=\"stroke: #F8F8F8; stroke-width: 1.5;\" width=\"213\" x=\"593\" y=\"62.9688\"/><rect fill=\"none\" height=\"209\" id=\"E7\" rx=\"10\" ry=\"10\" style=\"stroke: #383838; stroke-width: 1.5;\" width=\"213\" x=\"593\" y=\"49\"/><text fill=\"#000000\" font-family=\"sans-serif\" font-size=\"12\" lengthAdjust=\"spacingAndGlyphs\" textLength=\"8\" x=\"695.5\" y=\"65.1387\">q</text><line style=\"stroke: #383838; stroke-width: 1.0;\" x1=\"593\" x2=\"806\" y1=\"72.9688\" y2=\"72.9688\"/></a><!--MD5=[55dfccfc6c49c2d10cd1bd2211a6c90c]\n",
       "cluster E8--><a href=\"psysml:dc92139c-b950-485f-92a5-3d6f837d8293\" target=\"_top\" title=\"psysml:dc92139c-b950-485f-92a5-3d6f837d8293\" xlink:actuate=\"onRequest\" xlink:href=\"psysml:dc92139c-b950-485f-92a5-3d6f837d8293\" xlink:show=\"new\" xlink:title=\"psysml:dc92139c-b950-485f-92a5-3d6f837d8293\" xlink:type=\"simple\"><rect fill=\"#FFFFFF\" height=\"126\" id=\"E8\" rx=\"10\" ry=\"10\" style=\"stroke: #383838; stroke-width: 1.5;\" width=\"149\" x=\"625\" y=\"100\"/><rect fill=\"#F8F8F8\" height=\"37.9375\" rx=\"10\" ry=\"10\" style=\"stroke: #F8F8F8; stroke-width: 1.5;\" width=\"149\" x=\"625\" y=\"100\"/><rect fill=\"#F8F8F8\" height=\"10\" style=\"stroke: #F8F8F8; stroke-width: 1.5;\" width=\"149\" x=\"625\" y=\"127.9375\"/><rect fill=\"none\" height=\"126\" id=\"E8\" rx=\"10\" ry=\"10\" style=\"stroke: #383838; stroke-width: 1.5;\" width=\"149\" x=\"625\" y=\"100\"/><text fill=\"#000000\" font-family=\"sans-serif\" font-size=\"12\" font-style=\"italic\" lengthAdjust=\"spacingAndGlyphs\" textLength=\"91\" x=\"654\" y=\"116.1387\">«requirement»</text><text fill=\"#000000\" font-family=\"sans-serif\" font-size=\"12\" lengthAdjust=\"spacingAndGlyphs\" textLength=\"21\" x=\"689\" y=\"130.1074\">r: R</text><line style=\"stroke: #383838; stroke-width: 1.0;\" x1=\"625\" x2=\"774\" y1=\"137.9375\" y2=\"137.9375\"/></a><g id=\"E1.E2\"><a href=\"psysml:a1b28860-c9a8-4d37-931e-31ae0c14540e\" target=\"_top\" title=\"psysml:a1b28860-c9a8-4d37-931e-31ae0c14540e\" xlink:actuate=\"onRequest\" xlink:href=\"psysml:a1b28860-c9a8-4d37-931e-31ae0c14540e\" xlink:show=\"new\" xlink:title=\"psysml:a1b28860-c9a8-4d37-931e-31ae0c14540e\" xlink:type=\"simple\"><rect fill=\"#FFFFFF\" height=\"42.9375\" id=\"E2\" style=\"stroke: #383838; stroke-width: 1.5;\" width=\"109\" x=\"467.5\" y=\"159\"/><rect fill=\"#F8F8F8\" height=\"37.9375\" style=\"stroke: #383838; stroke-width: 1.5;\" width=\"109\" x=\"467.5\" y=\"159\"/><text fill=\"#000000\" font-family=\"sans-serif\" font-size=\"12\" font-style=\"italic\" lengthAdjust=\"spacingAndGlyphs\" textLength=\"102\" x=\"471\" y=\"175.1387\">«constraint def»</text><text fill=\"#000000\" font-family=\"sans-serif\" font-size=\"12\" lengthAdjust=\"spacingAndGlyphs\" textLength=\"8\" x=\"518\" y=\"189.1074\">C</text></a></g><g id=\"E1.E4\"><a href=\"psysml:a2742730-9bdb-48ea-a333-70a51cef011c\" target=\"_top\" title=\"psysml:a2742730-9bdb-48ea-a333-70a51cef011c\" xlink:actuate=\"onRequest\" xlink:href=\"psysml:a2742730-9bdb-48ea-a333-70a51cef011c\" xlink:show=\"new\" xlink:title=\"psysml:a2742730-9bdb-48ea-a333-70a51cef011c\" xlink:type=\"simple\"><rect fill=\"#FFFFFF\" height=\"42.9375\" id=\"E4\" style=\"stroke: #383838; stroke-width: 1.5;\" width=\"122\" x=\"310\" y=\"159\"/><rect fill=\"#F8F8F8\" height=\"37.9375\" style=\"stroke: #383838; stroke-width: 1.5;\" width=\"122\" x=\"310\" y=\"159\"/><text fill=\"#000000\" font-family=\"sans-serif\" font-size=\"12\" font-style=\"italic\" lengthAdjust=\"spacingAndGlyphs\" textLength=\"115\" x=\"313.5\" y=\"175.1387\">«requirement def»</text><text fill=\"#000000\" font-family=\"sans-serif\" font-size=\"12\" lengthAdjust=\"spacingAndGlyphs\" textLength=\"8\" x=\"367\" y=\"189.1074\">R</text></a></g><g id=\"E1.E5\"><a href=\"psysml:ec52d3df-f8e8-4ac5-95c0-bf3447feb8a5\" target=\"_top\" title=\"psysml:ec52d3df-f8e8-4ac5-95c0-bf3447feb8a5\" xlink:actuate=\"onRequest\" xlink:href=\"psysml:ec52d3df-f8e8-4ac5-95c0-bf3447feb8a5\" xlink:show=\"new\" xlink:title=\"psysml:ec52d3df-f8e8-4ac5-95c0-bf3447feb8a5\" xlink:type=\"simple\"><rect fill=\"#FFFFFF\" height=\"42.9375\" id=\"E5\" style=\"stroke: #383838; stroke-width: 1.5;\" width=\"122\" x=\"153\" y=\"159\"/><rect fill=\"#F8F8F8\" height=\"37.9375\" style=\"stroke: #383838; stroke-width: 1.5;\" width=\"122\" x=\"153\" y=\"159\"/><text fill=\"#000000\" font-family=\"sans-serif\" font-size=\"12\" font-style=\"italic\" lengthAdjust=\"spacingAndGlyphs\" textLength=\"115\" x=\"156.5\" y=\"175.1387\">«requirement def»</text><text fill=\"#000000\" font-family=\"sans-serif\" font-size=\"12\" lengthAdjust=\"spacingAndGlyphs\" textLength=\"16\" x=\"206\" y=\"189.1074\">R1</text></a></g><g id=\"E1.E3\"><a href=\"psysml:4f6724e1-6261-429d-9c16-1831387bac9b\" target=\"_top\" title=\"psysml:4f6724e1-6261-429d-9c16-1831387bac9b\" xlink:actuate=\"onRequest\" xlink:href=\"psysml:4f6724e1-6261-429d-9c16-1831387bac9b\" xlink:show=\"new\" xlink:title=\"psysml:4f6724e1-6261-429d-9c16-1831387bac9b\" xlink:type=\"simple\"><rect fill=\"#FFFFFF\" height=\"42.9375\" id=\"E3\" rx=\"10\" ry=\"10\" style=\"stroke: #383838; stroke-width: 1.5;\" width=\"85\" x=\"32.5\" y=\"159\"/><rect fill=\"#F8F8F8\" height=\"37.9375\" rx=\"10\" ry=\"10\" style=\"stroke: #F8F8F8; stroke-width: 1.5;\" width=\"85\" x=\"32.5\" y=\"159\"/><rect fill=\"#F8F8F8\" height=\"10\" style=\"stroke: #F8F8F8; stroke-width: 1.5;\" width=\"85\" x=\"32.5\" y=\"186.9375\"/><rect fill=\"none\" height=\"42.9375\" id=\"E3\" rx=\"10\" ry=\"10\" style=\"stroke: #383838; stroke-width: 1.5;\" width=\"85\" x=\"32.5\" y=\"159\"/><text fill=\"#000000\" font-family=\"sans-serif\" font-size=\"12\" font-style=\"italic\" lengthAdjust=\"spacingAndGlyphs\" textLength=\"78\" x=\"36\" y=\"175.1387\">«constraint»</text><text fill=\"#000000\" font-family=\"sans-serif\" font-size=\"12\" lengthAdjust=\"spacingAndGlyphs\" textLength=\"23\" x=\"63.5\" y=\"189.1074\">c: C</text></a></g><g id=\"E1.E6\"><a href=\"psysml:b85d82e7-3bb2-4c49-b03c-5a9b3c771643\" target=\"_top\" title=\"psysml:b85d82e7-3bb2-4c49-b03c-5a9b3c771643\" xlink:actuate=\"onRequest\" xlink:href=\"psysml:b85d82e7-3bb2-4c49-b03c-5a9b3c771643\" xlink:show=\"new\" xlink:title=\"psysml:b85d82e7-3bb2-4c49-b03c-5a9b3c771643\" xlink:type=\"simple\"><rect fill=\"#FFFFFF\" height=\"40\" id=\"E6\" rx=\"10\" ry=\"10\" style=\"stroke: #383838; stroke-width: 1.5;\" width=\"50\" x=\"608\" y=\"299\"/><rect fill=\"#F8F8F8\" height=\"23.9688\" rx=\"10\" ry=\"10\" style=\"stroke: #F8F8F8; stroke-width: 1.5;\" width=\"50\" x=\"608\" y=\"299\"/><rect fill=\"#F8F8F8\" height=\"10\" style=\"stroke: #F8F8F8; stroke-width: 1.5;\" width=\"50\" x=\"608\" y=\"312.9688\"/><rect fill=\"none\" height=\"40\" id=\"E6\" rx=\"10\" ry=\"10\" style=\"stroke: #383838; stroke-width: 1.5;\" width=\"50\" x=\"608\" y=\"299\"/><text fill=\"#000000\" font-family=\"sans-serif\" font-size=\"12\" lengthAdjust=\"spacingAndGlyphs\" textLength=\"8\" x=\"629\" y=\"315.1387\">p</text></a></g><g id=\"E1.E7.E8.E9\"><a href=\"psysml:aab203df-2e20-42f3-8553-8efa379fea2d\" target=\"_top\" title=\"psysml:aab203df-2e20-42f3-8553-8efa379fea2d\" xlink:actuate=\"onRequest\" xlink:href=\"psysml:aab203df-2e20-42f3-8553-8efa379fea2d\" xlink:show=\"new\" xlink:title=\"psysml:aab203df-2e20-42f3-8553-8efa379fea2d\" xlink:type=\"simple\"><rect fill=\"#FFFFFF\" height=\"42.9375\" id=\"E9\" rx=\"10\" ry=\"10\" style=\"stroke: #383838; stroke-width: 1.5;\" width=\"82\" x=\"668\" y=\"159\"/><rect fill=\"#F8F8F8\" height=\"37.9375\" rx=\"10\" ry=\"10\" style=\"stroke: #F8F8F8; stroke-width: 1.5;\" width=\"82\" x=\"668\" y=\"159\"/><rect fill=\"#F8F8F8\" height=\"10\" style=\"stroke: #F8F8F8; stroke-width: 1.5;\" width=\"82\" x=\"668\" y=\"186.9375\"/><rect fill=\"none\" height=\"42.9375\" id=\"E9\" rx=\"10\" ry=\"10\" style=\"stroke: #383838; stroke-width: 1.5;\" width=\"82\" x=\"668\" y=\"159\"/><text fill=\"#000000\" font-family=\"sans-serif\" font-size=\"12\" font-style=\"italic\" lengthAdjust=\"spacingAndGlyphs\" textLength=\"75\" x=\"671.5\" y=\"175.1387\">«reference»</text><text fill=\"#000000\" font-family=\"sans-serif\" font-size=\"12\" lengthAdjust=\"spacingAndGlyphs\" textLength=\"26\" x=\"696\" y=\"189.1074\">subj</text></a></g><!--MD5=[c5e8897d989ce984f93528998a7150fe]\n",
       "link E8 to E6--><a href=\"psysml:ed40ce07-1501-496b-adae-3639fe39f1e8\" target=\"_top\" title=\"psysml:ed40ce07-1501-496b-adae-3639fe39f1e8\" xlink:actuate=\"onRequest\" xlink:href=\"psysml:ed40ce07-1501-496b-adae-3639fe39f1e8\" xlink:show=\"new\" xlink:title=\"psysml:ed40ce07-1501-496b-adae-3639fe39f1e8\" xlink:type=\"simple\"><path d=\"M633,226.4501 C633,227.1713 633,227.8965 633,228.6252 C633,230.0826 633,231.5543 633,233.0372 C633,236.003 633,239.0136 633,242.0448 C633,248.1072 633,254.2518 633,260.2839 C633,272.3481 633,283.9625 633,293.57 \" fill=\"none\" id=\"E8-&gt;E6\" style=\"stroke: #383838; stroke-width: 1.0; stroke-dasharray: 7.0,7.0;\"/><polygon fill=\"#383838\" points=\"633,298.99,637,289.99,633,293.99,629,289.99,633,298.99\" style=\"stroke: #383838; stroke-width: 1.0;\"/><text fill=\"#000000\" font-family=\"sans-serif\" font-size=\"13\" lengthAdjust=\"spacingAndGlyphs\" textLength=\"57\" x=\"634\" y=\"287.0669\">«satisfy»</text></a><!--MD5=[d5176453d12d36c2ce139a9320d6a4ad]\n",
       "@startuml\r\n",
       "skinparam ranksep 8\r\n",
       "skinparam rectangle {\r\n",
       " backgroundColor<<block>> LightGreen\r\n",
       "}\r\n",
       "top to bottom direction\r\n",
       "skinparam monochrome true\r\n",
       "skinparam classbackgroundcolor white\r\n",
       "skinparam shadowing false\r\n",
       "skinparam wrapWidth 300\r\n",
       "hide circle\r\n",
       "\r\n",
       "package \"RequirementTest\" as E1  [[psysml:32d2418d-b451-4172-b0c3-f203713ef4c8 ]]  {\r\n",
       "def \"C\" as E2  <<(T,blue)constraint def>> [[psysml:a1b28860-c9a8-4d37-931e-31ae0c14540e ]] \r\n",
       "rec usage \"c: C\" as E3  <<(T,blue)constraint>> [[psysml:4f6724e1-6261-429d-9c16-1831387bac9b ]] {\r\n",
       "}\r\n",
       "def \"R\" as E4  <<(T,blue)requirement def>> [[psysml:a2742730-9bdb-48ea-a333-70a51cef011c ]] \r\n",
       "def \"R1\" as E5  <<(T,blue)requirement def>> [[psysml:ec52d3df-f8e8-4ac5-95c0-bf3447feb8a5 ]] \r\n",
       "rec usage \"p\" as E6  [[psysml:b85d82e7-3bb2-4c49-b03c-5a9b3c771643 ]] {\r\n",
       "}\r\n",
       "rec usage \"q\" as E7  [[psysml:f6ed6b0e-7205-4bca-ba49-af9a51c8942a ]] {\r\n",
       "rec usage \"r: R\" as E8  <<(T,blue)requirement>> [[psysml:dc92139c-b950-485f-92a5-3d6f837d8293 ]] {\r\n",
       "rec usage \"subj\" as E9  <<(T,blue)reference>> [[psysml:aab203df-2e20-42f3-8553-8efa379fea2d ]] {\r\n",
       "}\r\n",
       "}\r\n",
       "}\r\n",
       "E8 ..> E6 [[psysml:ed40ce07-1501-496b-adae-3639fe39f1e8 ]] : <<satisfy>>\r\n",
       "}\r\n",
       "@enduml\r\n",
       "\n",
       "PlantUML version 1.2020.13(Sat Jun 13 12:26:38 UTC 2020)\n",
       "(EPL source distribution)\n",
       "Java Runtime: OpenJDK Runtime Environment\n",
       "JVM: OpenJDK 64-Bit Server VM\n",
       "Default Encoding: UTF-8\n",
       "Language: en\n",
       "Country: null\n",
       "--></g></svg>"
      ]
     },
     "execution_count": 47,
     "metadata": {},
     "output_type": "execute_result"
    }
   ],
   "source": [
    "%viz --style=\"TB\" --view=\"Interconnection\" \"RequirementTest\""
   ]
  },
  {
   "cell_type": "code",
   "execution_count": 48,
   "id": "discrete-portsmouth",
   "metadata": {
    "execution": {
     "iopub.execute_input": "2021-03-26T13:01:11.246997Z",
     "iopub.status.busy": "2021-03-26T13:01:11.246553Z",
     "iopub.status.idle": "2021-03-26T13:01:11.251324Z",
     "shell.execute_reply": "2021-03-26T13:01:11.251024Z"
    }
   },
   "outputs": [
    {
     "data": {
      "image/svg+xml": [
       "<?xml version=\"1.0\" encoding=\"UTF-8\" standalone=\"no\"?><svg xmlns=\"http://www.w3.org/2000/svg\" xmlns:xlink=\"http://www.w3.org/1999/xlink\" contentScriptType=\"application/ecmascript\" contentStyleType=\"text/css\" height=\"12px\" preserveAspectRatio=\"none\" style=\"width:12px;height:12px;\" version=\"1.1\" viewBox=\"0 0 12 12\" width=\"12px\" zoomAndPan=\"magnify\"><defs/><g><!--MD5=[06afc254b03ac5e9d9fb7773b07d0800]\n",
       "@startuml\r\n",
       "skinparam ranksep 8\r\n",
       "top to bottom direction\r\n",
       "skinparam monochrome true\r\n",
       "skinparam classbackgroundcolor white\r\n",
       "skinparam shadowing false\r\n",
       "skinparam wrapWidth 300\r\n",
       "hide circle\r\n",
       "\r\n",
       "@enduml\r\n",
       "\n",
       "PlantUML version 1.2020.13(Sat Jun 13 12:26:38 UTC 2020)\n",
       "(EPL source distribution)\n",
       "Java Runtime: OpenJDK Runtime Environment\n",
       "JVM: OpenJDK 64-Bit Server VM\n",
       "Default Encoding: UTF-8\n",
       "Language: en\n",
       "Country: null\n",
       "--></g></svg>"
      ]
     },
     "execution_count": 48,
     "metadata": {},
     "output_type": "execute_result"
    }
   ],
   "source": [
    "%viz --style=\"TB\" --view=\"Action\" \"RequirementTest\""
   ]
  },
  {
   "cell_type": "code",
   "execution_count": 49,
   "id": "wanted-internship",
   "metadata": {
    "execution": {
     "iopub.execute_input": "2021-03-26T13:01:11.302110Z",
     "iopub.status.busy": "2021-03-26T13:01:11.301780Z",
     "iopub.status.idle": "2021-03-26T13:01:11.380191Z",
     "shell.execute_reply": "2021-03-26T13:01:11.378498Z"
    }
   },
   "outputs": [
    {
     "data": {
      "image/svg+xml": [
       "<?xml version=\"1.0\" encoding=\"UTF-8\" standalone=\"no\"?><svg xmlns=\"http://www.w3.org/2000/svg\" xmlns:xlink=\"http://www.w3.org/1999/xlink\" contentScriptType=\"application/ecmascript\" contentStyleType=\"text/css\" height=\"578px\" preserveAspectRatio=\"none\" style=\"width:408px;height:578px;\" version=\"1.1\" viewBox=\"0 0 408 578\" width=\"408px\" zoomAndPan=\"magnify\"><defs/><g><!--MD5=[fbc87193dbaf4d95561dea2c320d4a47]\n",
       "cluster E1--><a href=\"psysml:32d2418d-b451-4172-b0c3-f203713ef4c8\" target=\"_top\" title=\"psysml:32d2418d-b451-4172-b0c3-f203713ef4c8\" xlink:actuate=\"onRequest\" xlink:href=\"psysml:32d2418d-b451-4172-b0c3-f203713ef4c8\" xlink:show=\"new\" xlink:title=\"psysml:32d2418d-b451-4172-b0c3-f203713ef4c8\" xlink:type=\"simple\"><polygon fill=\"#FFFFFF\" points=\"16,6,158,6,165,28.2969,386,28.2969,386,566,16,566,16,6\" style=\"stroke: #000000; stroke-width: 1.5;\"/><line style=\"stroke: #000000; stroke-width: 1.5;\" x1=\"16\" x2=\"165\" y1=\"28.2969\" y2=\"28.2969\"/><text fill=\"#000000\" font-family=\"sans-serif\" font-size=\"14\" font-weight=\"bold\" lengthAdjust=\"spacingAndGlyphs\" textLength=\"136\" x=\"20\" y=\"20.9951\">RequirementTest</text></a><!--MD5=[b4997ac47864f28c2f74865a473b2911]\n",
       "class E2--><a href=\"psysml:a1b28860-c9a8-4d37-931e-31ae0c14540e\" target=\"_top\" title=\"psysml:a1b28860-c9a8-4d37-931e-31ae0c14540e\" xlink:actuate=\"onRequest\" xlink:href=\"psysml:a1b28860-c9a8-4d37-931e-31ae0c14540e\" xlink:show=\"new\" xlink:title=\"psysml:a1b28860-c9a8-4d37-931e-31ae0c14540e\" xlink:type=\"simple\"><rect fill=\"#FFFFFF\" height=\"45.9375\" id=\"E2\" style=\"stroke: #383838; stroke-width: 1.5;\" width=\"104\" x=\"266\" y=\"190\"/><text fill=\"#000000\" font-family=\"sans-serif\" font-size=\"12\" font-style=\"italic\" lengthAdjust=\"spacingAndGlyphs\" textLength=\"102\" x=\"267\" y=\"206.1387\">«constraint def»</text><text fill=\"#000000\" font-family=\"sans-serif\" font-size=\"12\" lengthAdjust=\"spacingAndGlyphs\" textLength=\"8\" x=\"314\" y=\"220.1074\">C</text><line style=\"stroke: #383838; stroke-width: 1.5;\" x1=\"267\" x2=\"369\" y1=\"227.9375\" y2=\"227.9375\"/></a><!--MD5=[09b614a08d8cba4a07c9adeb5e0fee81]\n",
       "class E3--><a href=\"psysml:4f6724e1-6261-429d-9c16-1831387bac9b\" target=\"_top\" title=\"psysml:4f6724e1-6261-429d-9c16-1831387bac9b\" xlink:actuate=\"onRequest\" xlink:href=\"psysml:4f6724e1-6261-429d-9c16-1831387bac9b\" xlink:show=\"new\" xlink:title=\"psysml:4f6724e1-6261-429d-9c16-1831387bac9b\" xlink:type=\"simple\"><rect fill=\"#FFFFFF\" height=\"45.9375\" id=\"E3\" rx=\"10\" ry=\"10\" style=\"stroke: #383838; stroke-width: 1.5;\" width=\"80\" x=\"290\" y=\"62\"/><text fill=\"#000000\" font-family=\"sans-serif\" font-size=\"12\" font-style=\"italic\" lengthAdjust=\"spacingAndGlyphs\" textLength=\"78\" x=\"291\" y=\"78.1387\">«constraint»</text><text fill=\"#000000\" font-family=\"sans-serif\" font-size=\"12\" lengthAdjust=\"spacingAndGlyphs\" textLength=\"23\" x=\"318.5\" y=\"92.1074\">c: C</text><line style=\"stroke: #383838; stroke-width: 1.5;\" x1=\"291\" x2=\"369\" y1=\"99.9375\" y2=\"99.9375\"/></a><!--MD5=[ebbe1d658d1005bcc118a6aa81145e00]\n",
       "class E4--><a href=\"psysml:a2742730-9bdb-48ea-a333-70a51cef011c\" target=\"_top\" title=\"psysml:a2742730-9bdb-48ea-a333-70a51cef011c\" xlink:actuate=\"onRequest\" xlink:href=\"psysml:a2742730-9bdb-48ea-a333-70a51cef011c\" xlink:show=\"new\" xlink:title=\"psysml:a2742730-9bdb-48ea-a333-70a51cef011c\" xlink:type=\"simple\"><rect fill=\"#FFFFFF\" height=\"109.1563\" id=\"E4\" style=\"stroke: #383838; stroke-width: 1.5;\" width=\"117\" x=\"32.5\" y=\"313\"/><text fill=\"#000000\" font-family=\"sans-serif\" font-size=\"12\" font-style=\"italic\" lengthAdjust=\"spacingAndGlyphs\" textLength=\"115\" x=\"33.5\" y=\"329.1387\">«requirement def»</text><text fill=\"#000000\" font-family=\"sans-serif\" font-size=\"12\" lengthAdjust=\"spacingAndGlyphs\" textLength=\"8\" x=\"87\" y=\"343.1074\">R</text><line style=\"stroke: #383838; stroke-width: 1.5;\" x1=\"33.5\" x2=\"148.5\" y1=\"350.9375\" y2=\"350.9375\"/><text fill=\"#000000\" font-family=\"sans-serif\" font-size=\"11\" lengthAdjust=\"spacingAndGlyphs\" textLength=\"0\" x=\"42.5\" y=\"365.1479\"/><line style=\"stroke: #383838; stroke-width: 1.0;\" x1=\"33.5\" x2=\"148.5\" y1=\"371.7422\" y2=\"371.7422\"/><text fill=\"#000000\" font-family=\"sans-serif\" font-size=\"11\" font-weight=\"bold\" lengthAdjust=\"spacingAndGlyphs\" textLength=\"46\" x=\"38.5\" y=\"402.7573\">require</text><text fill=\"#000000\" font-family=\"sans-serif\" font-size=\"11\" lengthAdjust=\"spacingAndGlyphs\" textLength=\"6\" x=\"88.5\" y=\"402.7573\">c</text><text fill=\"#000000\" font-family=\"sans-serif\" font-size=\"11\" font-style=\"italic\" lengthAdjust=\"spacingAndGlyphs\" textLength=\"46\" x=\"38.5\" y=\"415.562\">assume</text><text fill=\"#000000\" font-family=\"sans-serif\" font-size=\"11\" lengthAdjust=\"spacingAndGlyphs\" textLength=\"29\" x=\"88.5\" y=\"415.562\">c1: C</text><line style=\"stroke: #383838; stroke-width: 1.0;\" x1=\"33.5\" x2=\"59\" y1=\"386.1445\" y2=\"386.1445\"/><text fill=\"#000000\" font-family=\"sans-serif\" font-size=\"11\" lengthAdjust=\"spacingAndGlyphs\" textLength=\"64\" x=\"59\" y=\"389.4526\">constraints</text><line style=\"stroke: #383838; stroke-width: 1.0;\" x1=\"123\" x2=\"148.5\" y1=\"386.1445\" y2=\"386.1445\"/></a><!--MD5=[270fce915f116d4de14055a7c1d9a0f3]\n",
       "class E5--><a href=\"psysml:56458fbc-ce11-45ea-8fa2-2092e0cfc05c\" target=\"_top\" title=\"psysml:56458fbc-ce11-45ea-8fa2-2092e0cfc05c\" xlink:actuate=\"onRequest\" xlink:href=\"psysml:56458fbc-ce11-45ea-8fa2-2092e0cfc05c\" xlink:show=\"new\" xlink:title=\"psysml:56458fbc-ce11-45ea-8fa2-2092e0cfc05c\" xlink:type=\"simple\"><rect fill=\"#FFFFFF\" height=\"66.7422\" id=\"E5\" style=\"stroke: #383838; stroke-width: 1.5;\" width=\"117\" x=\"32.5\" y=\"483\"/><text fill=\"#000000\" font-family=\"sans-serif\" font-size=\"12\" font-style=\"italic\" lengthAdjust=\"spacingAndGlyphs\" textLength=\"115\" x=\"33.5\" y=\"499.1387\">«requirement def»</text><text fill=\"#000000\" font-family=\"sans-serif\" font-size=\"12\" lengthAdjust=\"spacingAndGlyphs\" textLength=\"5\" x=\"78\" y=\"513.1074\">[</text><text fill=\"#000000\" font-family=\"sans-serif\" font-size=\"12\" font-weight=\"bold\" lengthAdjust=\"spacingAndGlyphs\" textLength=\"8\" x=\"83\" y=\"513.1074\">1</text><text fill=\"#000000\" font-family=\"sans-serif\" font-size=\"12\" lengthAdjust=\"spacingAndGlyphs\" textLength=\"17\" x=\"91\" y=\"513.1074\">] A</text><line style=\"stroke: #383838; stroke-width: 1.5;\" x1=\"33.5\" x2=\"148.5\" y1=\"520.9375\" y2=\"520.9375\"/><text fill=\"#000000\" font-family=\"sans-serif\" font-size=\"11\" lengthAdjust=\"spacingAndGlyphs\" textLength=\"24\" x=\"38.5\" y=\"535.1479\">Text</text><line style=\"stroke: #383838; stroke-width: 1.0;\" x1=\"33.5\" x2=\"148.5\" y1=\"541.7422\" y2=\"541.7422\"/></a><!--MD5=[b9389687b975829384b498ac4b7476b2]\n",
       "class E8--><a href=\"psysml:72b41e7b-9298-4fd0-92ac-738cc777b35a\" target=\"_top\" title=\"psysml:72b41e7b-9298-4fd0-92ac-738cc777b35a\" xlink:actuate=\"onRequest\" xlink:href=\"psysml:72b41e7b-9298-4fd0-92ac-738cc777b35a\" xlink:show=\"new\" xlink:title=\"psysml:72b41e7b-9298-4fd0-92ac-738cc777b35a\" xlink:type=\"simple\"><rect fill=\"#FFFFFF\" height=\"45.9375\" id=\"E8\" rx=\"10\" ry=\"10\" style=\"stroke: #383838; stroke-width: 1.5;\" width=\"93\" x=\"184.5\" y=\"493.5\"/><text fill=\"#000000\" font-family=\"sans-serif\" font-size=\"12\" font-style=\"italic\" lengthAdjust=\"spacingAndGlyphs\" textLength=\"91\" x=\"185.5\" y=\"509.6387\">«requirement»</text><text fill=\"#000000\" font-family=\"sans-serif\" font-size=\"12\" lengthAdjust=\"spacingAndGlyphs\" text-decoration=\"line-through\" textLength=\"51\" x=\"205.5\" y=\"523.6074\">noname</text><line style=\"stroke: #383838; stroke-width: 1.5;\" x1=\"185.5\" x2=\"276.5\" y1=\"531.4375\" y2=\"531.4375\"/></a><!--MD5=[fd4143e9d270a159db93a4ea2a975926]\n",
       "class E9--><a href=\"psysml:ec52d3df-f8e8-4ac5-95c0-bf3447feb8a5\" target=\"_top\" title=\"psysml:ec52d3df-f8e8-4ac5-95c0-bf3447feb8a5\" xlink:actuate=\"onRequest\" xlink:href=\"psysml:ec52d3df-f8e8-4ac5-95c0-bf3447feb8a5\" xlink:show=\"new\" xlink:title=\"psysml:ec52d3df-f8e8-4ac5-95c0-bf3447feb8a5\" xlink:type=\"simple\"><rect fill=\"#FFFFFF\" height=\"88.3516\" id=\"E9\" style=\"stroke: #383838; stroke-width: 1.5;\" width=\"145\" x=\"109.5\" y=\"41\"/><text fill=\"#000000\" font-family=\"sans-serif\" font-size=\"12\" font-style=\"italic\" lengthAdjust=\"spacingAndGlyphs\" textLength=\"115\" x=\"124.5\" y=\"57.1387\">«requirement def»</text><text fill=\"#000000\" font-family=\"sans-serif\" font-size=\"12\" lengthAdjust=\"spacingAndGlyphs\" textLength=\"16\" x=\"174\" y=\"71.1074\">R1</text><line style=\"stroke: #383838; stroke-width: 1.5;\" x1=\"110.5\" x2=\"253.5\" y1=\"78.9375\" y2=\"78.9375\"/><text fill=\"#000000\" font-family=\"sans-serif\" font-size=\"11\" font-weight=\"bold\" lengthAdjust=\"spacingAndGlyphs\" textLength=\"46\" x=\"115.5\" y=\"109.9526\">require</text><text fill=\"#000000\" font-family=\"sans-serif\" font-size=\"11\" lengthAdjust=\"spacingAndGlyphs\" textLength=\"13\" x=\"165.5\" y=\"109.9526\">c1</text><text fill=\"#000000\" font-family=\"sans-serif\" font-size=\"11\" font-style=\"italic\" lengthAdjust=\"spacingAndGlyphs\" textLength=\"133\" x=\"115.5\" y=\"122.7573\">:&gt;&gt;RequirementTest::c</text><line style=\"stroke: #383838; stroke-width: 1.0;\" x1=\"110.5\" x2=\"150\" y1=\"93.3398\" y2=\"93.3398\"/><text fill=\"#000000\" font-family=\"sans-serif\" font-size=\"11\" lengthAdjust=\"spacingAndGlyphs\" textLength=\"64\" x=\"150\" y=\"96.6479\">constraints</text><line style=\"stroke: #383838; stroke-width: 1.0;\" x1=\"214\" x2=\"253.5\" y1=\"93.3398\" y2=\"93.3398\"/></a><!--MD5=[1dd1bfd58a279cf63c5f349dbc8fc6a1]\n",
       "class E11--><a href=\"psysml:b85d82e7-3bb2-4c49-b03c-5a9b3c771643\" target=\"_top\" title=\"psysml:b85d82e7-3bb2-4c49-b03c-5a9b3c771643\" xlink:actuate=\"onRequest\" xlink:href=\"psysml:b85d82e7-3bb2-4c49-b03c-5a9b3c771643\" xlink:show=\"new\" xlink:title=\"psysml:b85d82e7-3bb2-4c49-b03c-5a9b3c771643\" xlink:type=\"simple\"><rect fill=\"#FFFFFF\" height=\"45.9375\" id=\"E11\" rx=\"10\" ry=\"10\" style=\"stroke: #383838; stroke-width: 1.5;\" width=\"42\" x=\"185\" y=\"344.5\"/><text fill=\"#000000\" font-family=\"sans-serif\" font-size=\"12\" font-style=\"italic\" lengthAdjust=\"spacingAndGlyphs\" textLength=\"40\" x=\"186\" y=\"360.6387\">«part»</text><text fill=\"#000000\" font-family=\"sans-serif\" font-size=\"12\" lengthAdjust=\"spacingAndGlyphs\" textLength=\"8\" x=\"202\" y=\"374.6074\">p</text><line style=\"stroke: #383838; stroke-width: 1.5;\" x1=\"186\" x2=\"226\" y1=\"382.4375\" y2=\"382.4375\"/></a><!--MD5=[49a0ec8f00dab7302a31f22d0f0fe584]\n",
       "class E12--><a href=\"psysml:f6ed6b0e-7205-4bca-ba49-af9a51c8942a\" target=\"_top\" title=\"psysml:f6ed6b0e-7205-4bca-ba49-af9a51c8942a\" xlink:actuate=\"onRequest\" xlink:href=\"psysml:f6ed6b0e-7205-4bca-ba49-af9a51c8942a\" xlink:show=\"new\" xlink:title=\"psysml:f6ed6b0e-7205-4bca-ba49-af9a51c8942a\" xlink:type=\"simple\"><rect fill=\"#FFFFFF\" height=\"45.9375\" id=\"E12\" rx=\"10\" ry=\"10\" style=\"stroke: #383838; stroke-width: 1.5;\" width=\"42\" x=\"32\" y=\"62\"/><text fill=\"#000000\" font-family=\"sans-serif\" font-size=\"12\" font-style=\"italic\" lengthAdjust=\"spacingAndGlyphs\" textLength=\"40\" x=\"33\" y=\"78.1387\">«part»</text><text fill=\"#000000\" font-family=\"sans-serif\" font-size=\"12\" lengthAdjust=\"spacingAndGlyphs\" textLength=\"8\" x=\"49\" y=\"92.1074\">q</text><line style=\"stroke: #383838; stroke-width: 1.5;\" x1=\"33\" x2=\"73\" y1=\"99.9375\" y2=\"99.9375\"/></a><!--MD5=[ee3c913d1a06f366521f9ef512b67efe]\n",
       "class E13--><a href=\"psysml:dc92139c-b950-485f-92a5-3d6f837d8293\" target=\"_top\" title=\"psysml:dc92139c-b950-485f-92a5-3d6f837d8293\" xlink:actuate=\"onRequest\" xlink:href=\"psysml:dc92139c-b950-485f-92a5-3d6f837d8293\" xlink:show=\"new\" xlink:title=\"psysml:dc92139c-b950-485f-92a5-3d6f837d8293\" xlink:type=\"simple\"><rect fill=\"#FFFFFF\" height=\"45.9375\" id=\"E13\" rx=\"10\" ry=\"10\" style=\"stroke: #383838; stroke-width: 1.5;\" width=\"93\" x=\"44.5\" y=\"190\"/><text fill=\"#000000\" font-family=\"sans-serif\" font-size=\"12\" font-style=\"italic\" lengthAdjust=\"spacingAndGlyphs\" textLength=\"91\" x=\"45.5\" y=\"206.1387\">«requirement»</text><text fill=\"#000000\" font-family=\"sans-serif\" font-size=\"12\" lengthAdjust=\"spacingAndGlyphs\" textLength=\"21\" x=\"80.5\" y=\"220.1074\">r: R</text><line style=\"stroke: #383838; stroke-width: 1.5;\" x1=\"45.5\" x2=\"136.5\" y1=\"227.9375\" y2=\"227.9375\"/></a><!--MD5=[05d275557350bfb9b23a4ef7222b4c39]\n",
       "link E3 to E2--><a href=\"psysml:9201001b-4e3f-46f0-8224-89e70f802e39\" target=\"_top\" title=\"psysml:9201001b-4e3f-46f0-8224-89e70f802e39\" xlink:actuate=\"onRequest\" xlink:href=\"psysml:9201001b-4e3f-46f0-8224-89e70f802e39\" xlink:show=\"new\" xlink:title=\"psysml:9201001b-4e3f-46f0-8224-89e70f802e39\" xlink:type=\"simple\"><path d=\"M327.88,108.24 C326.26,125.24 323.98,149.19 322.02,169.79 \" fill=\"none\" id=\"E3-&gt;E2\" style=\"stroke: #383838; stroke-width: 1.0;\"/><polygon fill=\"#FFFFFF\" points=\"320.1,189.99,314.9362,170.411,328.8729,171.7407,320.1,189.99\" style=\"stroke: #383838; stroke-width: 1.0;\"/><ellipse cx=\"317.4685\" cy=\"164.9268\" fill=\"#383838\" rx=\"2\" ry=\"2\" style=\"stroke: #383838; stroke-width: 1.0;\"/><ellipse cx=\"327.4233\" cy=\"165.8765\" fill=\"#383838\" rx=\"2\" ry=\"2\" style=\"stroke: #383838; stroke-width: 1.0;\"/></a><!--MD5=[62aa6af11e70f752912c1cb0466f24f7]\n",
       "reverse link E4 to E5--><a href=\"psysml:56458fbc-ce11-45ea-8fa2-2092e0cfc05c\" target=\"_top\" title=\"psysml:56458fbc-ce11-45ea-8fa2-2092e0cfc05c\" xlink:actuate=\"onRequest\" xlink:href=\"psysml:56458fbc-ce11-45ea-8fa2-2092e0cfc05c\" xlink:show=\"new\" xlink:title=\"psysml:56458fbc-ce11-45ea-8fa2-2092e0cfc05c\" xlink:type=\"simple\"><path d=\"M91,437.45 C91,453.34 91,469.51 91,482.98 \" fill=\"none\" id=\"E4&lt;-E5\" style=\"stroke: #383838; stroke-width: 1.0;\"/><ellipse cx=\"91\" cy=\"430.4\" fill=\"#FFFFFF\" rx=\"8\" ry=\"8\" style=\"stroke: #383838; stroke-width: 1.0;\"/><line style=\"stroke: #383838; stroke-width: 1.0;\" x1=\"91\" x2=\"91\" y1=\"438.4\" y2=\"422.4\"/><line style=\"stroke: #383838; stroke-width: 1.0;\" x1=\"83\" x2=\"99\" y1=\"430.4\" y2=\"430.4\"/></a><!--MD5=[c6fc7cdb0cabde04948078cf183fa696]\n",
       "reverse link E4 to E8--><a href=\"psysml:72b41e7b-9298-4fd0-92ac-738cc777b35a\" target=\"_top\" title=\"psysml:72b41e7b-9298-4fd0-92ac-738cc777b35a\" xlink:actuate=\"onRequest\" xlink:href=\"psysml:72b41e7b-9298-4fd0-92ac-738cc777b35a\" xlink:show=\"new\" xlink:title=\"psysml:72b41e7b-9298-4fd0-92ac-738cc777b35a\" xlink:type=\"simple\"><path d=\"M151.51,432.04 C172.42,453.99 194.47,477.14 210.03,493.48 \" fill=\"none\" id=\"E4&lt;-E8\" style=\"stroke: #383838; stroke-width: 1.0;\"/><polygon fill=\"#383838\" points=\"142.34,422.4,143.5779,429.5041,150.6116,431.0937,149.3737,423.9897,142.34,422.4\" style=\"stroke: #383838; stroke-width: 1.0;\"/></a><!--MD5=[062ed86c389d1a88f61c6380d0491e17]\n",
       "reverse link E12 to E13--><a href=\"psysml:dc92139c-b950-485f-92a5-3d6f837d8293\" target=\"_top\" title=\"psysml:dc92139c-b950-485f-92a5-3d6f837d8293\" xlink:actuate=\"onRequest\" xlink:href=\"psysml:dc92139c-b950-485f-92a5-3d6f837d8293\" xlink:show=\"new\" xlink:title=\"psysml:dc92139c-b950-485f-92a5-3d6f837d8293\" xlink:type=\"simple\"><path d=\"M63.49,120.8 C70.17,142.92 78.6,170.89 84.36,189.99 \" fill=\"none\" id=\"E12&lt;-E13\" style=\"stroke: #383838; stroke-width: 1.0;\"/><polygon fill=\"#383838\" points=\"59.71,108.24,57.6129,115.1394,63.1751,119.7288,65.2722,112.8294,59.71,108.24\" style=\"stroke: #383838; stroke-width: 1.0;\"/></a><!--MD5=[017847e01ff9a8bd19f247411074f987]\n",
       "link E13 to E4--><a href=\"psysml:84833459-b0b4-497f-8a66-9d75104fb430\" target=\"_top\" title=\"psysml:84833459-b0b4-497f-8a66-9d75104fb430\" xlink:actuate=\"onRequest\" xlink:href=\"psysml:84833459-b0b4-497f-8a66-9d75104fb430\" xlink:show=\"new\" xlink:title=\"psysml:84833459-b0b4-497f-8a66-9d75104fb430\" xlink:type=\"simple\"><path d=\"M91,236.17 C91,251.17 91,271.91 91,292.44 \" fill=\"none\" id=\"E13-&gt;E4\" style=\"stroke: #383838; stroke-width: 1.0;\"/><polygon fill=\"#FFFFFF\" points=\"91,312.68,84,293.68,98,293.68,91,312.68\" style=\"stroke: #383838; stroke-width: 1.0;\"/><ellipse cx=\"86\" cy=\"287.98\" fill=\"#383838\" rx=\"2\" ry=\"2\" style=\"stroke: #383838; stroke-width: 1.0;\"/><ellipse cx=\"96\" cy=\"287.98\" fill=\"#383838\" rx=\"2\" ry=\"2\" style=\"stroke: #383838; stroke-width: 1.0;\"/></a><!--MD5=[2cfe899c895462254056921bfb67315f]\n",
       "link E13 to E11--><a href=\"psysml:ed40ce07-1501-496b-adae-3639fe39f1e8\" target=\"_top\" title=\"psysml:ed40ce07-1501-496b-adae-3639fe39f1e8\" xlink:actuate=\"onRequest\" xlink:href=\"psysml:ed40ce07-1501-496b-adae-3639fe39f1e8\" xlink:show=\"new\" xlink:title=\"psysml:ed40ce07-1501-496b-adae-3639fe39f1e8\" xlink:type=\"simple\"><path d=\"M108.36,236.29 C123.87,256.28 147.14,286.45 167,313 C173.57,321.78 180.66,331.44 186.97,340.12 \" fill=\"none\" id=\"E13-&gt;E11\" style=\"stroke: #383838; stroke-width: 1.0; stroke-dasharray: 7.0,7.0;\"/><polygon fill=\"#383838\" points=\"189.99,344.28,187.9274,334.6496,187.0474,340.2376,181.4594,339.3576,189.99,344.28\" style=\"stroke: #383838; stroke-width: 1.0;\"/><text fill=\"#000000\" font-family=\"sans-serif\" font-size=\"13\" lengthAdjust=\"spacingAndGlyphs\" textLength=\"57\" x=\"145\" y=\"279.0669\">«satisfy»</text></a><!--MD5=[1cde08fe17e5939272f1b7f597bd8afe]\n",
       "@startuml\r\n",
       "top to bottom direction\r\n",
       "skinparam monochrome true\r\n",
       "skinparam classbackgroundcolor white\r\n",
       "skinparam shadowing false\r\n",
       "skinparam wrapWidth 300\r\n",
       "hide circle\r\n",
       "\r\n",
       "package \"RequirementTest\" as E1  [[psysml:32d2418d-b451-4172-b0c3-f203713ef4c8 ]]  {\r\n",
       "comp def \"C\" as E2  <<(T,blue)constraint def>> [[psysml:a1b28860-c9a8-4d37-931e-31ae0c14540e ]] {\r\n",
       "}\r\n",
       "comp usage \"c: C\" as E3  <<(T,blue)constraint>> [[psysml:4f6724e1-6261-429d-9c16-1831387bac9b ]] {\r\n",
       "}\r\n",
       "comp def \"R\" as E4  <<(T,blue)requirement def>> [[psysml:a2742730-9bdb-48ea-a333-70a51cef011c ]] {\r\n",
       "\r\n",
       "- -\r\n",
       "- - constraints - -\r\n",
       "<b>require</b> c\r\n",
       "<i>assume</i> c1: C\r\n",
       "}\r\n",
       "comp def \" [<b>1</b>] A\" as E5  <<(T,blue)requirement def>> [[psysml:56458fbc-ce11-45ea-8fa2-2092e0cfc05c ]] {\r\n",
       "Text\r\n",
       "- -\r\n",
       "}\r\n",
       "comp usage \"<s>noname</s>\" as E8  <<(T,blue)requirement>> [[psysml:72b41e7b-9298-4fd0-92ac-738cc777b35a ]] {\r\n",
       "}\r\n",
       "comp def \"R1\" as E9  <<(T,blue)requirement def>> [[psysml:ec52d3df-f8e8-4ac5-95c0-bf3447feb8a5 ]] {\r\n",
       "- - constraints - -\r\n",
       "<b>require</b> c1\\n//:>>RequirementTest::c// \r\n",
       "}\r\n",
       "comp usage \"p\" as E11  <<(T,blue)part>> [[psysml:b85d82e7-3bb2-4c49-b03c-5a9b3c771643 ]] {\r\n",
       "}\r\n",
       "comp usage \"q\" as E12  <<(T,blue)part>> [[psysml:f6ed6b0e-7205-4bca-ba49-af9a51c8942a ]] {\r\n",
       "}\r\n",
       "comp usage \"r: R\" as E13  <<(T,blue)requirement>> [[psysml:dc92139c-b950-485f-92a5-3d6f837d8293 ]] {\r\n",
       "}\r\n",
       "E3 - -:|> E2 [[psysml:9201001b-4e3f-46f0-8224-89e70f802e39 ]] \r\n",
       "E4 +- - E5 [[psysml:56458fbc-ce11-45ea-8fa2-2092e0cfc05c ]] \r\n",
       "E4 *- - E8 [[psysml:72b41e7b-9298-4fd0-92ac-738cc777b35a ]] \r\n",
       "E12 *- - E13 [[psysml:dc92139c-b950-485f-92a5-3d6f837d8293 ]] \r\n",
       "E13 - -:|> E4 [[psysml:84833459-b0b4-497f-8a66-9d75104fb430 ]] \r\n",
       "E13 ..> E11 [[psysml:ed40ce07-1501-496b-adae-3639fe39f1e8 ]] : <<satisfy>>\r\n",
       "}\r\n",
       "@enduml\r\n",
       "\n",
       "PlantUML version 1.2020.13(Sat Jun 13 12:26:38 UTC 2020)\n",
       "(EPL source distribution)\n",
       "Java Runtime: OpenJDK Runtime Environment\n",
       "JVM: OpenJDK 64-Bit Server VM\n",
       "Default Encoding: UTF-8\n",
       "Language: en\n",
       "Country: null\n",
       "--></g></svg>"
      ]
     },
     "execution_count": 49,
     "metadata": {},
     "output_type": "execute_result"
    }
   ],
   "source": [
    "%viz --style=\"TB\" --view=\"Sequence\" \"RequirementTest\""
   ]
  },
  {
   "cell_type": "code",
   "execution_count": 50,
   "id": "tender-hearts",
   "metadata": {
    "execution": {
     "iopub.execute_input": "2021-03-26T13:01:11.430040Z",
     "iopub.status.busy": "2021-03-26T13:01:11.429628Z",
     "iopub.status.idle": "2021-03-26T13:01:11.512953Z",
     "shell.execute_reply": "2021-03-26T13:01:11.513272Z"
    }
   },
   "outputs": [
    {
     "data": {
      "image/svg+xml": [
       "<?xml version=\"1.0\" encoding=\"UTF-8\" standalone=\"no\"?><svg xmlns=\"http://www.w3.org/2000/svg\" xmlns:xlink=\"http://www.w3.org/1999/xlink\" contentScriptType=\"application/ecmascript\" contentStyleType=\"text/css\" height=\"578px\" preserveAspectRatio=\"none\" style=\"width:408px;height:578px;\" version=\"1.1\" viewBox=\"0 0 408 578\" width=\"408px\" zoomAndPan=\"magnify\"><defs/><g><!--MD5=[fbc87193dbaf4d95561dea2c320d4a47]\n",
       "cluster E1--><a href=\"psysml:32d2418d-b451-4172-b0c3-f203713ef4c8\" target=\"_top\" title=\"psysml:32d2418d-b451-4172-b0c3-f203713ef4c8\" xlink:actuate=\"onRequest\" xlink:href=\"psysml:32d2418d-b451-4172-b0c3-f203713ef4c8\" xlink:show=\"new\" xlink:title=\"psysml:32d2418d-b451-4172-b0c3-f203713ef4c8\" xlink:type=\"simple\"><polygon fill=\"#FFFFFF\" points=\"16,6,158,6,165,28.2969,386,28.2969,386,566,16,566,16,6\" style=\"stroke: #000000; stroke-width: 1.5;\"/><line style=\"stroke: #000000; stroke-width: 1.5;\" x1=\"16\" x2=\"165\" y1=\"28.2969\" y2=\"28.2969\"/><text fill=\"#000000\" font-family=\"sans-serif\" font-size=\"14\" font-weight=\"bold\" lengthAdjust=\"spacingAndGlyphs\" textLength=\"136\" x=\"20\" y=\"20.9951\">RequirementTest</text></a><!--MD5=[b4997ac47864f28c2f74865a473b2911]\n",
       "class E2--><a href=\"psysml:a1b28860-c9a8-4d37-931e-31ae0c14540e\" target=\"_top\" title=\"psysml:a1b28860-c9a8-4d37-931e-31ae0c14540e\" xlink:actuate=\"onRequest\" xlink:href=\"psysml:a1b28860-c9a8-4d37-931e-31ae0c14540e\" xlink:show=\"new\" xlink:title=\"psysml:a1b28860-c9a8-4d37-931e-31ae0c14540e\" xlink:type=\"simple\"><rect fill=\"#FFFFFF\" height=\"45.9375\" id=\"E2\" style=\"stroke: #383838; stroke-width: 1.5;\" width=\"104\" x=\"266\" y=\"190\"/><text fill=\"#000000\" font-family=\"sans-serif\" font-size=\"12\" font-style=\"italic\" lengthAdjust=\"spacingAndGlyphs\" textLength=\"102\" x=\"267\" y=\"206.1387\">«constraint def»</text><text fill=\"#000000\" font-family=\"sans-serif\" font-size=\"12\" lengthAdjust=\"spacingAndGlyphs\" textLength=\"8\" x=\"314\" y=\"220.1074\">C</text><line style=\"stroke: #383838; stroke-width: 1.5;\" x1=\"267\" x2=\"369\" y1=\"227.9375\" y2=\"227.9375\"/></a><!--MD5=[09b614a08d8cba4a07c9adeb5e0fee81]\n",
       "class E3--><a href=\"psysml:4f6724e1-6261-429d-9c16-1831387bac9b\" target=\"_top\" title=\"psysml:4f6724e1-6261-429d-9c16-1831387bac9b\" xlink:actuate=\"onRequest\" xlink:href=\"psysml:4f6724e1-6261-429d-9c16-1831387bac9b\" xlink:show=\"new\" xlink:title=\"psysml:4f6724e1-6261-429d-9c16-1831387bac9b\" xlink:type=\"simple\"><rect fill=\"#FFFFFF\" height=\"45.9375\" id=\"E3\" rx=\"10\" ry=\"10\" style=\"stroke: #383838; stroke-width: 1.5;\" width=\"80\" x=\"290\" y=\"62\"/><text fill=\"#000000\" font-family=\"sans-serif\" font-size=\"12\" font-style=\"italic\" lengthAdjust=\"spacingAndGlyphs\" textLength=\"78\" x=\"291\" y=\"78.1387\">«constraint»</text><text fill=\"#000000\" font-family=\"sans-serif\" font-size=\"12\" lengthAdjust=\"spacingAndGlyphs\" textLength=\"23\" x=\"318.5\" y=\"92.1074\">c: C</text><line style=\"stroke: #383838; stroke-width: 1.5;\" x1=\"291\" x2=\"369\" y1=\"99.9375\" y2=\"99.9375\"/></a><!--MD5=[ebbe1d658d1005bcc118a6aa81145e00]\n",
       "class E4--><a href=\"psysml:a2742730-9bdb-48ea-a333-70a51cef011c\" target=\"_top\" title=\"psysml:a2742730-9bdb-48ea-a333-70a51cef011c\" xlink:actuate=\"onRequest\" xlink:href=\"psysml:a2742730-9bdb-48ea-a333-70a51cef011c\" xlink:show=\"new\" xlink:title=\"psysml:a2742730-9bdb-48ea-a333-70a51cef011c\" xlink:type=\"simple\"><rect fill=\"#FFFFFF\" height=\"109.1563\" id=\"E4\" style=\"stroke: #383838; stroke-width: 1.5;\" width=\"117\" x=\"32.5\" y=\"313\"/><text fill=\"#000000\" font-family=\"sans-serif\" font-size=\"12\" font-style=\"italic\" lengthAdjust=\"spacingAndGlyphs\" textLength=\"115\" x=\"33.5\" y=\"329.1387\">«requirement def»</text><text fill=\"#000000\" font-family=\"sans-serif\" font-size=\"12\" lengthAdjust=\"spacingAndGlyphs\" textLength=\"8\" x=\"87\" y=\"343.1074\">R</text><line style=\"stroke: #383838; stroke-width: 1.5;\" x1=\"33.5\" x2=\"148.5\" y1=\"350.9375\" y2=\"350.9375\"/><text fill=\"#000000\" font-family=\"sans-serif\" font-size=\"11\" lengthAdjust=\"spacingAndGlyphs\" textLength=\"0\" x=\"42.5\" y=\"365.1479\"/><line style=\"stroke: #383838; stroke-width: 1.0;\" x1=\"33.5\" x2=\"148.5\" y1=\"371.7422\" y2=\"371.7422\"/><text fill=\"#000000\" font-family=\"sans-serif\" font-size=\"11\" font-weight=\"bold\" lengthAdjust=\"spacingAndGlyphs\" textLength=\"46\" x=\"38.5\" y=\"402.7573\">require</text><text fill=\"#000000\" font-family=\"sans-serif\" font-size=\"11\" lengthAdjust=\"spacingAndGlyphs\" textLength=\"6\" x=\"88.5\" y=\"402.7573\">c</text><text fill=\"#000000\" font-family=\"sans-serif\" font-size=\"11\" font-style=\"italic\" lengthAdjust=\"spacingAndGlyphs\" textLength=\"46\" x=\"38.5\" y=\"415.562\">assume</text><text fill=\"#000000\" font-family=\"sans-serif\" font-size=\"11\" lengthAdjust=\"spacingAndGlyphs\" textLength=\"29\" x=\"88.5\" y=\"415.562\">c1: C</text><line style=\"stroke: #383838; stroke-width: 1.0;\" x1=\"33.5\" x2=\"59\" y1=\"386.1445\" y2=\"386.1445\"/><text fill=\"#000000\" font-family=\"sans-serif\" font-size=\"11\" lengthAdjust=\"spacingAndGlyphs\" textLength=\"64\" x=\"59\" y=\"389.4526\">constraints</text><line style=\"stroke: #383838; stroke-width: 1.0;\" x1=\"123\" x2=\"148.5\" y1=\"386.1445\" y2=\"386.1445\"/></a><!--MD5=[270fce915f116d4de14055a7c1d9a0f3]\n",
       "class E5--><a href=\"psysml:56458fbc-ce11-45ea-8fa2-2092e0cfc05c\" target=\"_top\" title=\"psysml:56458fbc-ce11-45ea-8fa2-2092e0cfc05c\" xlink:actuate=\"onRequest\" xlink:href=\"psysml:56458fbc-ce11-45ea-8fa2-2092e0cfc05c\" xlink:show=\"new\" xlink:title=\"psysml:56458fbc-ce11-45ea-8fa2-2092e0cfc05c\" xlink:type=\"simple\"><rect fill=\"#FFFFFF\" height=\"66.7422\" id=\"E5\" style=\"stroke: #383838; stroke-width: 1.5;\" width=\"117\" x=\"32.5\" y=\"483\"/><text fill=\"#000000\" font-family=\"sans-serif\" font-size=\"12\" font-style=\"italic\" lengthAdjust=\"spacingAndGlyphs\" textLength=\"115\" x=\"33.5\" y=\"499.1387\">«requirement def»</text><text fill=\"#000000\" font-family=\"sans-serif\" font-size=\"12\" lengthAdjust=\"spacingAndGlyphs\" textLength=\"5\" x=\"78\" y=\"513.1074\">[</text><text fill=\"#000000\" font-family=\"sans-serif\" font-size=\"12\" font-weight=\"bold\" lengthAdjust=\"spacingAndGlyphs\" textLength=\"8\" x=\"83\" y=\"513.1074\">1</text><text fill=\"#000000\" font-family=\"sans-serif\" font-size=\"12\" lengthAdjust=\"spacingAndGlyphs\" textLength=\"17\" x=\"91\" y=\"513.1074\">] A</text><line style=\"stroke: #383838; stroke-width: 1.5;\" x1=\"33.5\" x2=\"148.5\" y1=\"520.9375\" y2=\"520.9375\"/><text fill=\"#000000\" font-family=\"sans-serif\" font-size=\"11\" lengthAdjust=\"spacingAndGlyphs\" textLength=\"24\" x=\"38.5\" y=\"535.1479\">Text</text><line style=\"stroke: #383838; stroke-width: 1.0;\" x1=\"33.5\" x2=\"148.5\" y1=\"541.7422\" y2=\"541.7422\"/></a><!--MD5=[b9389687b975829384b498ac4b7476b2]\n",
       "class E8--><a href=\"psysml:72b41e7b-9298-4fd0-92ac-738cc777b35a\" target=\"_top\" title=\"psysml:72b41e7b-9298-4fd0-92ac-738cc777b35a\" xlink:actuate=\"onRequest\" xlink:href=\"psysml:72b41e7b-9298-4fd0-92ac-738cc777b35a\" xlink:show=\"new\" xlink:title=\"psysml:72b41e7b-9298-4fd0-92ac-738cc777b35a\" xlink:type=\"simple\"><rect fill=\"#FFFFFF\" height=\"45.9375\" id=\"E8\" rx=\"10\" ry=\"10\" style=\"stroke: #383838; stroke-width: 1.5;\" width=\"93\" x=\"184.5\" y=\"493.5\"/><text fill=\"#000000\" font-family=\"sans-serif\" font-size=\"12\" font-style=\"italic\" lengthAdjust=\"spacingAndGlyphs\" textLength=\"91\" x=\"185.5\" y=\"509.6387\">«requirement»</text><text fill=\"#000000\" font-family=\"sans-serif\" font-size=\"12\" lengthAdjust=\"spacingAndGlyphs\" text-decoration=\"line-through\" textLength=\"51\" x=\"205.5\" y=\"523.6074\">noname</text><line style=\"stroke: #383838; stroke-width: 1.5;\" x1=\"185.5\" x2=\"276.5\" y1=\"531.4375\" y2=\"531.4375\"/></a><!--MD5=[fd4143e9d270a159db93a4ea2a975926]\n",
       "class E9--><a href=\"psysml:ec52d3df-f8e8-4ac5-95c0-bf3447feb8a5\" target=\"_top\" title=\"psysml:ec52d3df-f8e8-4ac5-95c0-bf3447feb8a5\" xlink:actuate=\"onRequest\" xlink:href=\"psysml:ec52d3df-f8e8-4ac5-95c0-bf3447feb8a5\" xlink:show=\"new\" xlink:title=\"psysml:ec52d3df-f8e8-4ac5-95c0-bf3447feb8a5\" xlink:type=\"simple\"><rect fill=\"#FFFFFF\" height=\"88.3516\" id=\"E9\" style=\"stroke: #383838; stroke-width: 1.5;\" width=\"145\" x=\"109.5\" y=\"41\"/><text fill=\"#000000\" font-family=\"sans-serif\" font-size=\"12\" font-style=\"italic\" lengthAdjust=\"spacingAndGlyphs\" textLength=\"115\" x=\"124.5\" y=\"57.1387\">«requirement def»</text><text fill=\"#000000\" font-family=\"sans-serif\" font-size=\"12\" lengthAdjust=\"spacingAndGlyphs\" textLength=\"16\" x=\"174\" y=\"71.1074\">R1</text><line style=\"stroke: #383838; stroke-width: 1.5;\" x1=\"110.5\" x2=\"253.5\" y1=\"78.9375\" y2=\"78.9375\"/><text fill=\"#000000\" font-family=\"sans-serif\" font-size=\"11\" font-weight=\"bold\" lengthAdjust=\"spacingAndGlyphs\" textLength=\"46\" x=\"115.5\" y=\"109.9526\">require</text><text fill=\"#000000\" font-family=\"sans-serif\" font-size=\"11\" lengthAdjust=\"spacingAndGlyphs\" textLength=\"13\" x=\"165.5\" y=\"109.9526\">c1</text><text fill=\"#000000\" font-family=\"sans-serif\" font-size=\"11\" font-style=\"italic\" lengthAdjust=\"spacingAndGlyphs\" textLength=\"133\" x=\"115.5\" y=\"122.7573\">:&gt;&gt;RequirementTest::c</text><line style=\"stroke: #383838; stroke-width: 1.0;\" x1=\"110.5\" x2=\"150\" y1=\"93.3398\" y2=\"93.3398\"/><text fill=\"#000000\" font-family=\"sans-serif\" font-size=\"11\" lengthAdjust=\"spacingAndGlyphs\" textLength=\"64\" x=\"150\" y=\"96.6479\">constraints</text><line style=\"stroke: #383838; stroke-width: 1.0;\" x1=\"214\" x2=\"253.5\" y1=\"93.3398\" y2=\"93.3398\"/></a><!--MD5=[1dd1bfd58a279cf63c5f349dbc8fc6a1]\n",
       "class E11--><a href=\"psysml:b85d82e7-3bb2-4c49-b03c-5a9b3c771643\" target=\"_top\" title=\"psysml:b85d82e7-3bb2-4c49-b03c-5a9b3c771643\" xlink:actuate=\"onRequest\" xlink:href=\"psysml:b85d82e7-3bb2-4c49-b03c-5a9b3c771643\" xlink:show=\"new\" xlink:title=\"psysml:b85d82e7-3bb2-4c49-b03c-5a9b3c771643\" xlink:type=\"simple\"><rect fill=\"#FFFFFF\" height=\"45.9375\" id=\"E11\" rx=\"10\" ry=\"10\" style=\"stroke: #383838; stroke-width: 1.5;\" width=\"42\" x=\"185\" y=\"344.5\"/><text fill=\"#000000\" font-family=\"sans-serif\" font-size=\"12\" font-style=\"italic\" lengthAdjust=\"spacingAndGlyphs\" textLength=\"40\" x=\"186\" y=\"360.6387\">«part»</text><text fill=\"#000000\" font-family=\"sans-serif\" font-size=\"12\" lengthAdjust=\"spacingAndGlyphs\" textLength=\"8\" x=\"202\" y=\"374.6074\">p</text><line style=\"stroke: #383838; stroke-width: 1.5;\" x1=\"186\" x2=\"226\" y1=\"382.4375\" y2=\"382.4375\"/></a><!--MD5=[49a0ec8f00dab7302a31f22d0f0fe584]\n",
       "class E12--><a href=\"psysml:f6ed6b0e-7205-4bca-ba49-af9a51c8942a\" target=\"_top\" title=\"psysml:f6ed6b0e-7205-4bca-ba49-af9a51c8942a\" xlink:actuate=\"onRequest\" xlink:href=\"psysml:f6ed6b0e-7205-4bca-ba49-af9a51c8942a\" xlink:show=\"new\" xlink:title=\"psysml:f6ed6b0e-7205-4bca-ba49-af9a51c8942a\" xlink:type=\"simple\"><rect fill=\"#FFFFFF\" height=\"45.9375\" id=\"E12\" rx=\"10\" ry=\"10\" style=\"stroke: #383838; stroke-width: 1.5;\" width=\"42\" x=\"32\" y=\"62\"/><text fill=\"#000000\" font-family=\"sans-serif\" font-size=\"12\" font-style=\"italic\" lengthAdjust=\"spacingAndGlyphs\" textLength=\"40\" x=\"33\" y=\"78.1387\">«part»</text><text fill=\"#000000\" font-family=\"sans-serif\" font-size=\"12\" lengthAdjust=\"spacingAndGlyphs\" textLength=\"8\" x=\"49\" y=\"92.1074\">q</text><line style=\"stroke: #383838; stroke-width: 1.5;\" x1=\"33\" x2=\"73\" y1=\"99.9375\" y2=\"99.9375\"/></a><!--MD5=[ee3c913d1a06f366521f9ef512b67efe]\n",
       "class E13--><a href=\"psysml:dc92139c-b950-485f-92a5-3d6f837d8293\" target=\"_top\" title=\"psysml:dc92139c-b950-485f-92a5-3d6f837d8293\" xlink:actuate=\"onRequest\" xlink:href=\"psysml:dc92139c-b950-485f-92a5-3d6f837d8293\" xlink:show=\"new\" xlink:title=\"psysml:dc92139c-b950-485f-92a5-3d6f837d8293\" xlink:type=\"simple\"><rect fill=\"#FFFFFF\" height=\"45.9375\" id=\"E13\" rx=\"10\" ry=\"10\" style=\"stroke: #383838; stroke-width: 1.5;\" width=\"93\" x=\"44.5\" y=\"190\"/><text fill=\"#000000\" font-family=\"sans-serif\" font-size=\"12\" font-style=\"italic\" lengthAdjust=\"spacingAndGlyphs\" textLength=\"91\" x=\"45.5\" y=\"206.1387\">«requirement»</text><text fill=\"#000000\" font-family=\"sans-serif\" font-size=\"12\" lengthAdjust=\"spacingAndGlyphs\" textLength=\"21\" x=\"80.5\" y=\"220.1074\">r: R</text><line style=\"stroke: #383838; stroke-width: 1.5;\" x1=\"45.5\" x2=\"136.5\" y1=\"227.9375\" y2=\"227.9375\"/></a><!--MD5=[05d275557350bfb9b23a4ef7222b4c39]\n",
       "link E3 to E2--><a href=\"psysml:9201001b-4e3f-46f0-8224-89e70f802e39\" target=\"_top\" title=\"psysml:9201001b-4e3f-46f0-8224-89e70f802e39\" xlink:actuate=\"onRequest\" xlink:href=\"psysml:9201001b-4e3f-46f0-8224-89e70f802e39\" xlink:show=\"new\" xlink:title=\"psysml:9201001b-4e3f-46f0-8224-89e70f802e39\" xlink:type=\"simple\"><path d=\"M327.88,108.24 C326.26,125.24 323.98,149.19 322.02,169.79 \" fill=\"none\" id=\"E3-&gt;E2\" style=\"stroke: #383838; stroke-width: 1.0;\"/><polygon fill=\"#FFFFFF\" points=\"320.1,189.99,314.9362,170.411,328.8729,171.7407,320.1,189.99\" style=\"stroke: #383838; stroke-width: 1.0;\"/><ellipse cx=\"317.4685\" cy=\"164.9268\" fill=\"#383838\" rx=\"2\" ry=\"2\" style=\"stroke: #383838; stroke-width: 1.0;\"/><ellipse cx=\"327.4233\" cy=\"165.8765\" fill=\"#383838\" rx=\"2\" ry=\"2\" style=\"stroke: #383838; stroke-width: 1.0;\"/></a><!--MD5=[62aa6af11e70f752912c1cb0466f24f7]\n",
       "reverse link E4 to E5--><a href=\"psysml:56458fbc-ce11-45ea-8fa2-2092e0cfc05c\" target=\"_top\" title=\"psysml:56458fbc-ce11-45ea-8fa2-2092e0cfc05c\" xlink:actuate=\"onRequest\" xlink:href=\"psysml:56458fbc-ce11-45ea-8fa2-2092e0cfc05c\" xlink:show=\"new\" xlink:title=\"psysml:56458fbc-ce11-45ea-8fa2-2092e0cfc05c\" xlink:type=\"simple\"><path d=\"M91,437.45 C91,453.34 91,469.51 91,482.98 \" fill=\"none\" id=\"E4&lt;-E5\" style=\"stroke: #383838; stroke-width: 1.0;\"/><ellipse cx=\"91\" cy=\"430.4\" fill=\"#FFFFFF\" rx=\"8\" ry=\"8\" style=\"stroke: #383838; stroke-width: 1.0;\"/><line style=\"stroke: #383838; stroke-width: 1.0;\" x1=\"91\" x2=\"91\" y1=\"438.4\" y2=\"422.4\"/><line style=\"stroke: #383838; stroke-width: 1.0;\" x1=\"83\" x2=\"99\" y1=\"430.4\" y2=\"430.4\"/></a><!--MD5=[c6fc7cdb0cabde04948078cf183fa696]\n",
       "reverse link E4 to E8--><a href=\"psysml:72b41e7b-9298-4fd0-92ac-738cc777b35a\" target=\"_top\" title=\"psysml:72b41e7b-9298-4fd0-92ac-738cc777b35a\" xlink:actuate=\"onRequest\" xlink:href=\"psysml:72b41e7b-9298-4fd0-92ac-738cc777b35a\" xlink:show=\"new\" xlink:title=\"psysml:72b41e7b-9298-4fd0-92ac-738cc777b35a\" xlink:type=\"simple\"><path d=\"M151.51,432.04 C172.42,453.99 194.47,477.14 210.03,493.48 \" fill=\"none\" id=\"E4&lt;-E8\" style=\"stroke: #383838; stroke-width: 1.0;\"/><polygon fill=\"#383838\" points=\"142.34,422.4,143.5779,429.5041,150.6116,431.0937,149.3737,423.9897,142.34,422.4\" style=\"stroke: #383838; stroke-width: 1.0;\"/></a><!--MD5=[062ed86c389d1a88f61c6380d0491e17]\n",
       "reverse link E12 to E13--><a href=\"psysml:dc92139c-b950-485f-92a5-3d6f837d8293\" target=\"_top\" title=\"psysml:dc92139c-b950-485f-92a5-3d6f837d8293\" xlink:actuate=\"onRequest\" xlink:href=\"psysml:dc92139c-b950-485f-92a5-3d6f837d8293\" xlink:show=\"new\" xlink:title=\"psysml:dc92139c-b950-485f-92a5-3d6f837d8293\" xlink:type=\"simple\"><path d=\"M63.49,120.8 C70.17,142.92 78.6,170.89 84.36,189.99 \" fill=\"none\" id=\"E12&lt;-E13\" style=\"stroke: #383838; stroke-width: 1.0;\"/><polygon fill=\"#383838\" points=\"59.71,108.24,57.6129,115.1394,63.1751,119.7288,65.2722,112.8294,59.71,108.24\" style=\"stroke: #383838; stroke-width: 1.0;\"/></a><!--MD5=[017847e01ff9a8bd19f247411074f987]\n",
       "link E13 to E4--><a href=\"psysml:84833459-b0b4-497f-8a66-9d75104fb430\" target=\"_top\" title=\"psysml:84833459-b0b4-497f-8a66-9d75104fb430\" xlink:actuate=\"onRequest\" xlink:href=\"psysml:84833459-b0b4-497f-8a66-9d75104fb430\" xlink:show=\"new\" xlink:title=\"psysml:84833459-b0b4-497f-8a66-9d75104fb430\" xlink:type=\"simple\"><path d=\"M91,236.17 C91,251.17 91,271.91 91,292.44 \" fill=\"none\" id=\"E13-&gt;E4\" style=\"stroke: #383838; stroke-width: 1.0;\"/><polygon fill=\"#FFFFFF\" points=\"91,312.68,84,293.68,98,293.68,91,312.68\" style=\"stroke: #383838; stroke-width: 1.0;\"/><ellipse cx=\"86\" cy=\"287.98\" fill=\"#383838\" rx=\"2\" ry=\"2\" style=\"stroke: #383838; stroke-width: 1.0;\"/><ellipse cx=\"96\" cy=\"287.98\" fill=\"#383838\" rx=\"2\" ry=\"2\" style=\"stroke: #383838; stroke-width: 1.0;\"/></a><!--MD5=[2cfe899c895462254056921bfb67315f]\n",
       "link E13 to E11--><a href=\"psysml:ed40ce07-1501-496b-adae-3639fe39f1e8\" target=\"_top\" title=\"psysml:ed40ce07-1501-496b-adae-3639fe39f1e8\" xlink:actuate=\"onRequest\" xlink:href=\"psysml:ed40ce07-1501-496b-adae-3639fe39f1e8\" xlink:show=\"new\" xlink:title=\"psysml:ed40ce07-1501-496b-adae-3639fe39f1e8\" xlink:type=\"simple\"><path d=\"M108.36,236.29 C123.87,256.28 147.14,286.45 167,313 C173.57,321.78 180.66,331.44 186.97,340.12 \" fill=\"none\" id=\"E13-&gt;E11\" style=\"stroke: #383838; stroke-width: 1.0; stroke-dasharray: 7.0,7.0;\"/><polygon fill=\"#383838\" points=\"189.99,344.28,187.9274,334.6496,187.0474,340.2376,181.4594,339.3576,189.99,344.28\" style=\"stroke: #383838; stroke-width: 1.0;\"/><text fill=\"#000000\" font-family=\"sans-serif\" font-size=\"13\" lengthAdjust=\"spacingAndGlyphs\" textLength=\"57\" x=\"145\" y=\"279.0669\">«satisfy»</text></a><!--MD5=[1cde08fe17e5939272f1b7f597bd8afe]\n",
       "@startuml\r\n",
       "top to bottom direction\r\n",
       "skinparam monochrome true\r\n",
       "skinparam classbackgroundcolor white\r\n",
       "skinparam shadowing false\r\n",
       "skinparam wrapWidth 300\r\n",
       "hide circle\r\n",
       "\r\n",
       "package \"RequirementTest\" as E1  [[psysml:32d2418d-b451-4172-b0c3-f203713ef4c8 ]]  {\r\n",
       "comp def \"C\" as E2  <<(T,blue)constraint def>> [[psysml:a1b28860-c9a8-4d37-931e-31ae0c14540e ]] {\r\n",
       "}\r\n",
       "comp usage \"c: C\" as E3  <<(T,blue)constraint>> [[psysml:4f6724e1-6261-429d-9c16-1831387bac9b ]] {\r\n",
       "}\r\n",
       "comp def \"R\" as E4  <<(T,blue)requirement def>> [[psysml:a2742730-9bdb-48ea-a333-70a51cef011c ]] {\r\n",
       "\r\n",
       "- -\r\n",
       "- - constraints - -\r\n",
       "<b>require</b> c\r\n",
       "<i>assume</i> c1: C\r\n",
       "}\r\n",
       "comp def \" [<b>1</b>] A\" as E5  <<(T,blue)requirement def>> [[psysml:56458fbc-ce11-45ea-8fa2-2092e0cfc05c ]] {\r\n",
       "Text\r\n",
       "- -\r\n",
       "}\r\n",
       "comp usage \"<s>noname</s>\" as E8  <<(T,blue)requirement>> [[psysml:72b41e7b-9298-4fd0-92ac-738cc777b35a ]] {\r\n",
       "}\r\n",
       "comp def \"R1\" as E9  <<(T,blue)requirement def>> [[psysml:ec52d3df-f8e8-4ac5-95c0-bf3447feb8a5 ]] {\r\n",
       "- - constraints - -\r\n",
       "<b>require</b> c1\\n//:>>RequirementTest::c// \r\n",
       "}\r\n",
       "comp usage \"p\" as E11  <<(T,blue)part>> [[psysml:b85d82e7-3bb2-4c49-b03c-5a9b3c771643 ]] {\r\n",
       "}\r\n",
       "comp usage \"q\" as E12  <<(T,blue)part>> [[psysml:f6ed6b0e-7205-4bca-ba49-af9a51c8942a ]] {\r\n",
       "}\r\n",
       "comp usage \"r: R\" as E13  <<(T,blue)requirement>> [[psysml:dc92139c-b950-485f-92a5-3d6f837d8293 ]] {\r\n",
       "}\r\n",
       "E3 - -:|> E2 [[psysml:9201001b-4e3f-46f0-8224-89e70f802e39 ]] \r\n",
       "E4 +- - E5 [[psysml:56458fbc-ce11-45ea-8fa2-2092e0cfc05c ]] \r\n",
       "E4 *- - E8 [[psysml:72b41e7b-9298-4fd0-92ac-738cc777b35a ]] \r\n",
       "E12 *- - E13 [[psysml:dc92139c-b950-485f-92a5-3d6f837d8293 ]] \r\n",
       "E13 - -:|> E4 [[psysml:84833459-b0b4-497f-8a66-9d75104fb430 ]] \r\n",
       "E13 ..> E11 [[psysml:ed40ce07-1501-496b-adae-3639fe39f1e8 ]] : <<satisfy>>\r\n",
       "}\r\n",
       "@enduml\r\n",
       "\n",
       "PlantUML version 1.2020.13(Sat Jun 13 12:26:38 UTC 2020)\n",
       "(EPL source distribution)\n",
       "Java Runtime: OpenJDK Runtime Environment\n",
       "JVM: OpenJDK 64-Bit Server VM\n",
       "Default Encoding: UTF-8\n",
       "Language: en\n",
       "Country: null\n",
       "--></g></svg>"
      ]
     },
     "execution_count": 50,
     "metadata": {},
     "output_type": "execute_result"
    }
   ],
   "source": [
    "%viz --style=\"TB\" --view=\"MIXED\" \"RequirementTest\""
   ]
  },
  {
   "cell_type": "code",
   "execution_count": 51,
   "id": "undefined-nursing",
   "metadata": {
    "execution": {
     "iopub.execute_input": "2021-03-26T13:01:11.571473Z",
     "iopub.status.busy": "2021-03-26T13:01:11.571039Z",
     "iopub.status.idle": "2021-03-26T13:01:11.644152Z",
     "shell.execute_reply": "2021-03-26T13:01:11.643492Z"
    }
   },
   "outputs": [
    {
     "data": {
      "image/svg+xml": [
       "<?xml version=\"1.0\" encoding=\"UTF-8\" standalone=\"no\"?><svg xmlns=\"http://www.w3.org/2000/svg\" xmlns:xlink=\"http://www.w3.org/1999/xlink\" contentScriptType=\"application/ecmascript\" contentStyleType=\"text/css\" height=\"578px\" preserveAspectRatio=\"none\" style=\"width:408px;height:578px;\" version=\"1.1\" viewBox=\"0 0 408 578\" width=\"408px\" zoomAndPan=\"magnify\"><defs/><g><!--MD5=[fbc87193dbaf4d95561dea2c320d4a47]\n",
       "cluster E1--><a href=\"psysml:32d2418d-b451-4172-b0c3-f203713ef4c8\" target=\"_top\" title=\"psysml:32d2418d-b451-4172-b0c3-f203713ef4c8\" xlink:actuate=\"onRequest\" xlink:href=\"psysml:32d2418d-b451-4172-b0c3-f203713ef4c8\" xlink:show=\"new\" xlink:title=\"psysml:32d2418d-b451-4172-b0c3-f203713ef4c8\" xlink:type=\"simple\"><polygon fill=\"#FFFFFF\" points=\"16,6,158,6,165,28.2969,386,28.2969,386,566,16,566,16,6\" style=\"stroke: #000000; stroke-width: 1.5;\"/><line style=\"stroke: #000000; stroke-width: 1.5;\" x1=\"16\" x2=\"165\" y1=\"28.2969\" y2=\"28.2969\"/><text fill=\"#000000\" font-family=\"sans-serif\" font-size=\"14\" font-weight=\"bold\" lengthAdjust=\"spacingAndGlyphs\" textLength=\"136\" x=\"20\" y=\"20.9951\">RequirementTest</text></a><!--MD5=[b4997ac47864f28c2f74865a473b2911]\n",
       "class E2--><a href=\"psysml:a1b28860-c9a8-4d37-931e-31ae0c14540e\" target=\"_top\" title=\"psysml:a1b28860-c9a8-4d37-931e-31ae0c14540e\" xlink:actuate=\"onRequest\" xlink:href=\"psysml:a1b28860-c9a8-4d37-931e-31ae0c14540e\" xlink:show=\"new\" xlink:title=\"psysml:a1b28860-c9a8-4d37-931e-31ae0c14540e\" xlink:type=\"simple\"><rect fill=\"#FFFFFF\" height=\"45.9375\" id=\"E2\" style=\"stroke: #383838; stroke-width: 1.5;\" width=\"104\" x=\"266\" y=\"190\"/><text fill=\"#000000\" font-family=\"sans-serif\" font-size=\"12\" font-style=\"italic\" lengthAdjust=\"spacingAndGlyphs\" textLength=\"102\" x=\"267\" y=\"206.1387\">«constraint def»</text><text fill=\"#000000\" font-family=\"sans-serif\" font-size=\"12\" lengthAdjust=\"spacingAndGlyphs\" textLength=\"8\" x=\"314\" y=\"220.1074\">C</text><line style=\"stroke: #383838; stroke-width: 1.5;\" x1=\"267\" x2=\"369\" y1=\"227.9375\" y2=\"227.9375\"/></a><!--MD5=[09b614a08d8cba4a07c9adeb5e0fee81]\n",
       "class E3--><a href=\"psysml:4f6724e1-6261-429d-9c16-1831387bac9b\" target=\"_top\" title=\"psysml:4f6724e1-6261-429d-9c16-1831387bac9b\" xlink:actuate=\"onRequest\" xlink:href=\"psysml:4f6724e1-6261-429d-9c16-1831387bac9b\" xlink:show=\"new\" xlink:title=\"psysml:4f6724e1-6261-429d-9c16-1831387bac9b\" xlink:type=\"simple\"><rect fill=\"#FFFFFF\" height=\"45.9375\" id=\"E3\" rx=\"10\" ry=\"10\" style=\"stroke: #383838; stroke-width: 1.5;\" width=\"80\" x=\"290\" y=\"62\"/><text fill=\"#000000\" font-family=\"sans-serif\" font-size=\"12\" font-style=\"italic\" lengthAdjust=\"spacingAndGlyphs\" textLength=\"78\" x=\"291\" y=\"78.1387\">«constraint»</text><text fill=\"#000000\" font-family=\"sans-serif\" font-size=\"12\" lengthAdjust=\"spacingAndGlyphs\" textLength=\"23\" x=\"318.5\" y=\"92.1074\">c: C</text><line style=\"stroke: #383838; stroke-width: 1.5;\" x1=\"291\" x2=\"369\" y1=\"99.9375\" y2=\"99.9375\"/></a><!--MD5=[ebbe1d658d1005bcc118a6aa81145e00]\n",
       "class E4--><a href=\"psysml:a2742730-9bdb-48ea-a333-70a51cef011c\" target=\"_top\" title=\"psysml:a2742730-9bdb-48ea-a333-70a51cef011c\" xlink:actuate=\"onRequest\" xlink:href=\"psysml:a2742730-9bdb-48ea-a333-70a51cef011c\" xlink:show=\"new\" xlink:title=\"psysml:a2742730-9bdb-48ea-a333-70a51cef011c\" xlink:type=\"simple\"><rect fill=\"#FFFFFF\" height=\"109.1563\" id=\"E4\" style=\"stroke: #383838; stroke-width: 1.5;\" width=\"117\" x=\"32.5\" y=\"313\"/><text fill=\"#000000\" font-family=\"sans-serif\" font-size=\"12\" font-style=\"italic\" lengthAdjust=\"spacingAndGlyphs\" textLength=\"115\" x=\"33.5\" y=\"329.1387\">«requirement def»</text><text fill=\"#000000\" font-family=\"sans-serif\" font-size=\"12\" lengthAdjust=\"spacingAndGlyphs\" textLength=\"8\" x=\"87\" y=\"343.1074\">R</text><line style=\"stroke: #383838; stroke-width: 1.5;\" x1=\"33.5\" x2=\"148.5\" y1=\"350.9375\" y2=\"350.9375\"/><text fill=\"#000000\" font-family=\"sans-serif\" font-size=\"11\" lengthAdjust=\"spacingAndGlyphs\" textLength=\"0\" x=\"42.5\" y=\"365.1479\"/><line style=\"stroke: #383838; stroke-width: 1.0;\" x1=\"33.5\" x2=\"148.5\" y1=\"371.7422\" y2=\"371.7422\"/><text fill=\"#000000\" font-family=\"sans-serif\" font-size=\"11\" font-weight=\"bold\" lengthAdjust=\"spacingAndGlyphs\" textLength=\"46\" x=\"38.5\" y=\"402.7573\">require</text><text fill=\"#000000\" font-family=\"sans-serif\" font-size=\"11\" lengthAdjust=\"spacingAndGlyphs\" textLength=\"6\" x=\"88.5\" y=\"402.7573\">c</text><text fill=\"#000000\" font-family=\"sans-serif\" font-size=\"11\" font-style=\"italic\" lengthAdjust=\"spacingAndGlyphs\" textLength=\"46\" x=\"38.5\" y=\"415.562\">assume</text><text fill=\"#000000\" font-family=\"sans-serif\" font-size=\"11\" lengthAdjust=\"spacingAndGlyphs\" textLength=\"29\" x=\"88.5\" y=\"415.562\">c1: C</text><line style=\"stroke: #383838; stroke-width: 1.0;\" x1=\"33.5\" x2=\"59\" y1=\"386.1445\" y2=\"386.1445\"/><text fill=\"#000000\" font-family=\"sans-serif\" font-size=\"11\" lengthAdjust=\"spacingAndGlyphs\" textLength=\"64\" x=\"59\" y=\"389.4526\">constraints</text><line style=\"stroke: #383838; stroke-width: 1.0;\" x1=\"123\" x2=\"148.5\" y1=\"386.1445\" y2=\"386.1445\"/></a><!--MD5=[270fce915f116d4de14055a7c1d9a0f3]\n",
       "class E5--><a href=\"psysml:56458fbc-ce11-45ea-8fa2-2092e0cfc05c\" target=\"_top\" title=\"psysml:56458fbc-ce11-45ea-8fa2-2092e0cfc05c\" xlink:actuate=\"onRequest\" xlink:href=\"psysml:56458fbc-ce11-45ea-8fa2-2092e0cfc05c\" xlink:show=\"new\" xlink:title=\"psysml:56458fbc-ce11-45ea-8fa2-2092e0cfc05c\" xlink:type=\"simple\"><rect fill=\"#FFFFFF\" height=\"66.7422\" id=\"E5\" style=\"stroke: #383838; stroke-width: 1.5;\" width=\"117\" x=\"32.5\" y=\"483\"/><text fill=\"#000000\" font-family=\"sans-serif\" font-size=\"12\" font-style=\"italic\" lengthAdjust=\"spacingAndGlyphs\" textLength=\"115\" x=\"33.5\" y=\"499.1387\">«requirement def»</text><text fill=\"#000000\" font-family=\"sans-serif\" font-size=\"12\" lengthAdjust=\"spacingAndGlyphs\" textLength=\"5\" x=\"78\" y=\"513.1074\">[</text><text fill=\"#000000\" font-family=\"sans-serif\" font-size=\"12\" font-weight=\"bold\" lengthAdjust=\"spacingAndGlyphs\" textLength=\"8\" x=\"83\" y=\"513.1074\">1</text><text fill=\"#000000\" font-family=\"sans-serif\" font-size=\"12\" lengthAdjust=\"spacingAndGlyphs\" textLength=\"17\" x=\"91\" y=\"513.1074\">] A</text><line style=\"stroke: #383838; stroke-width: 1.5;\" x1=\"33.5\" x2=\"148.5\" y1=\"520.9375\" y2=\"520.9375\"/><text fill=\"#000000\" font-family=\"sans-serif\" font-size=\"11\" lengthAdjust=\"spacingAndGlyphs\" textLength=\"24\" x=\"38.5\" y=\"535.1479\">Text</text><line style=\"stroke: #383838; stroke-width: 1.0;\" x1=\"33.5\" x2=\"148.5\" y1=\"541.7422\" y2=\"541.7422\"/></a><!--MD5=[b9389687b975829384b498ac4b7476b2]\n",
       "class E8--><a href=\"psysml:72b41e7b-9298-4fd0-92ac-738cc777b35a\" target=\"_top\" title=\"psysml:72b41e7b-9298-4fd0-92ac-738cc777b35a\" xlink:actuate=\"onRequest\" xlink:href=\"psysml:72b41e7b-9298-4fd0-92ac-738cc777b35a\" xlink:show=\"new\" xlink:title=\"psysml:72b41e7b-9298-4fd0-92ac-738cc777b35a\" xlink:type=\"simple\"><rect fill=\"#FFFFFF\" height=\"45.9375\" id=\"E8\" rx=\"10\" ry=\"10\" style=\"stroke: #383838; stroke-width: 1.5;\" width=\"93\" x=\"184.5\" y=\"493.5\"/><text fill=\"#000000\" font-family=\"sans-serif\" font-size=\"12\" font-style=\"italic\" lengthAdjust=\"spacingAndGlyphs\" textLength=\"91\" x=\"185.5\" y=\"509.6387\">«requirement»</text><text fill=\"#000000\" font-family=\"sans-serif\" font-size=\"12\" lengthAdjust=\"spacingAndGlyphs\" text-decoration=\"line-through\" textLength=\"51\" x=\"205.5\" y=\"523.6074\">noname</text><line style=\"stroke: #383838; stroke-width: 1.5;\" x1=\"185.5\" x2=\"276.5\" y1=\"531.4375\" y2=\"531.4375\"/></a><!--MD5=[fd4143e9d270a159db93a4ea2a975926]\n",
       "class E9--><a href=\"psysml:ec52d3df-f8e8-4ac5-95c0-bf3447feb8a5\" target=\"_top\" title=\"psysml:ec52d3df-f8e8-4ac5-95c0-bf3447feb8a5\" xlink:actuate=\"onRequest\" xlink:href=\"psysml:ec52d3df-f8e8-4ac5-95c0-bf3447feb8a5\" xlink:show=\"new\" xlink:title=\"psysml:ec52d3df-f8e8-4ac5-95c0-bf3447feb8a5\" xlink:type=\"simple\"><rect fill=\"#FFFFFF\" height=\"88.3516\" id=\"E9\" style=\"stroke: #383838; stroke-width: 1.5;\" width=\"145\" x=\"109.5\" y=\"41\"/><text fill=\"#000000\" font-family=\"sans-serif\" font-size=\"12\" font-style=\"italic\" lengthAdjust=\"spacingAndGlyphs\" textLength=\"115\" x=\"124.5\" y=\"57.1387\">«requirement def»</text><text fill=\"#000000\" font-family=\"sans-serif\" font-size=\"12\" lengthAdjust=\"spacingAndGlyphs\" textLength=\"16\" x=\"174\" y=\"71.1074\">R1</text><line style=\"stroke: #383838; stroke-width: 1.5;\" x1=\"110.5\" x2=\"253.5\" y1=\"78.9375\" y2=\"78.9375\"/><text fill=\"#000000\" font-family=\"sans-serif\" font-size=\"11\" font-weight=\"bold\" lengthAdjust=\"spacingAndGlyphs\" textLength=\"46\" x=\"115.5\" y=\"109.9526\">require</text><text fill=\"#000000\" font-family=\"sans-serif\" font-size=\"11\" lengthAdjust=\"spacingAndGlyphs\" textLength=\"13\" x=\"165.5\" y=\"109.9526\">c1</text><text fill=\"#000000\" font-family=\"sans-serif\" font-size=\"11\" font-style=\"italic\" lengthAdjust=\"spacingAndGlyphs\" textLength=\"133\" x=\"115.5\" y=\"122.7573\">:&gt;&gt;RequirementTest::c</text><line style=\"stroke: #383838; stroke-width: 1.0;\" x1=\"110.5\" x2=\"150\" y1=\"93.3398\" y2=\"93.3398\"/><text fill=\"#000000\" font-family=\"sans-serif\" font-size=\"11\" lengthAdjust=\"spacingAndGlyphs\" textLength=\"64\" x=\"150\" y=\"96.6479\">constraints</text><line style=\"stroke: #383838; stroke-width: 1.0;\" x1=\"214\" x2=\"253.5\" y1=\"93.3398\" y2=\"93.3398\"/></a><!--MD5=[1dd1bfd58a279cf63c5f349dbc8fc6a1]\n",
       "class E11--><a href=\"psysml:b85d82e7-3bb2-4c49-b03c-5a9b3c771643\" target=\"_top\" title=\"psysml:b85d82e7-3bb2-4c49-b03c-5a9b3c771643\" xlink:actuate=\"onRequest\" xlink:href=\"psysml:b85d82e7-3bb2-4c49-b03c-5a9b3c771643\" xlink:show=\"new\" xlink:title=\"psysml:b85d82e7-3bb2-4c49-b03c-5a9b3c771643\" xlink:type=\"simple\"><rect fill=\"#FFFFFF\" height=\"45.9375\" id=\"E11\" rx=\"10\" ry=\"10\" style=\"stroke: #383838; stroke-width: 1.5;\" width=\"42\" x=\"185\" y=\"344.5\"/><text fill=\"#000000\" font-family=\"sans-serif\" font-size=\"12\" font-style=\"italic\" lengthAdjust=\"spacingAndGlyphs\" textLength=\"40\" x=\"186\" y=\"360.6387\">«part»</text><text fill=\"#000000\" font-family=\"sans-serif\" font-size=\"12\" lengthAdjust=\"spacingAndGlyphs\" textLength=\"8\" x=\"202\" y=\"374.6074\">p</text><line style=\"stroke: #383838; stroke-width: 1.5;\" x1=\"186\" x2=\"226\" y1=\"382.4375\" y2=\"382.4375\"/></a><!--MD5=[49a0ec8f00dab7302a31f22d0f0fe584]\n",
       "class E12--><a href=\"psysml:f6ed6b0e-7205-4bca-ba49-af9a51c8942a\" target=\"_top\" title=\"psysml:f6ed6b0e-7205-4bca-ba49-af9a51c8942a\" xlink:actuate=\"onRequest\" xlink:href=\"psysml:f6ed6b0e-7205-4bca-ba49-af9a51c8942a\" xlink:show=\"new\" xlink:title=\"psysml:f6ed6b0e-7205-4bca-ba49-af9a51c8942a\" xlink:type=\"simple\"><rect fill=\"#FFFFFF\" height=\"45.9375\" id=\"E12\" rx=\"10\" ry=\"10\" style=\"stroke: #383838; stroke-width: 1.5;\" width=\"42\" x=\"32\" y=\"62\"/><text fill=\"#000000\" font-family=\"sans-serif\" font-size=\"12\" font-style=\"italic\" lengthAdjust=\"spacingAndGlyphs\" textLength=\"40\" x=\"33\" y=\"78.1387\">«part»</text><text fill=\"#000000\" font-family=\"sans-serif\" font-size=\"12\" lengthAdjust=\"spacingAndGlyphs\" textLength=\"8\" x=\"49\" y=\"92.1074\">q</text><line style=\"stroke: #383838; stroke-width: 1.5;\" x1=\"33\" x2=\"73\" y1=\"99.9375\" y2=\"99.9375\"/></a><!--MD5=[ee3c913d1a06f366521f9ef512b67efe]\n",
       "class E13--><a href=\"psysml:dc92139c-b950-485f-92a5-3d6f837d8293\" target=\"_top\" title=\"psysml:dc92139c-b950-485f-92a5-3d6f837d8293\" xlink:actuate=\"onRequest\" xlink:href=\"psysml:dc92139c-b950-485f-92a5-3d6f837d8293\" xlink:show=\"new\" xlink:title=\"psysml:dc92139c-b950-485f-92a5-3d6f837d8293\" xlink:type=\"simple\"><rect fill=\"#FFFFFF\" height=\"45.9375\" id=\"E13\" rx=\"10\" ry=\"10\" style=\"stroke: #383838; stroke-width: 1.5;\" width=\"93\" x=\"44.5\" y=\"190\"/><text fill=\"#000000\" font-family=\"sans-serif\" font-size=\"12\" font-style=\"italic\" lengthAdjust=\"spacingAndGlyphs\" textLength=\"91\" x=\"45.5\" y=\"206.1387\">«requirement»</text><text fill=\"#000000\" font-family=\"sans-serif\" font-size=\"12\" lengthAdjust=\"spacingAndGlyphs\" textLength=\"21\" x=\"80.5\" y=\"220.1074\">r: R</text><line style=\"stroke: #383838; stroke-width: 1.5;\" x1=\"45.5\" x2=\"136.5\" y1=\"227.9375\" y2=\"227.9375\"/></a><!--MD5=[05d275557350bfb9b23a4ef7222b4c39]\n",
       "link E3 to E2--><a href=\"psysml:9201001b-4e3f-46f0-8224-89e70f802e39\" target=\"_top\" title=\"psysml:9201001b-4e3f-46f0-8224-89e70f802e39\" xlink:actuate=\"onRequest\" xlink:href=\"psysml:9201001b-4e3f-46f0-8224-89e70f802e39\" xlink:show=\"new\" xlink:title=\"psysml:9201001b-4e3f-46f0-8224-89e70f802e39\" xlink:type=\"simple\"><path d=\"M330,108.18 C330,108.18 330,169.99 330,169.99 \" fill=\"none\" id=\"E3-&gt;E2\" style=\"stroke: #383838; stroke-width: 1.0;\"/><polygon fill=\"#FFFFFF\" points=\"330,189.99,323,170.99,337,170.99,330,189.99\" style=\"stroke: #383838; stroke-width: 1.0;\"/><ellipse cx=\"325\" cy=\"165.29\" fill=\"#383838\" rx=\"2\" ry=\"2\" style=\"stroke: #383838; stroke-width: 1.0;\"/><ellipse cx=\"335\" cy=\"165.29\" fill=\"#383838\" rx=\"2\" ry=\"2\" style=\"stroke: #383838; stroke-width: 1.0;\"/></a><!--MD5=[62aa6af11e70f752912c1cb0466f24f7]\n",
       "reverse link E4 to E5--><a href=\"psysml:56458fbc-ce11-45ea-8fa2-2092e0cfc05c\" target=\"_top\" title=\"psysml:56458fbc-ce11-45ea-8fa2-2092e0cfc05c\" xlink:actuate=\"onRequest\" xlink:href=\"psysml:56458fbc-ce11-45ea-8fa2-2092e0cfc05c\" xlink:show=\"new\" xlink:title=\"psysml:56458fbc-ce11-45ea-8fa2-2092e0cfc05c\" xlink:type=\"simple\"><path d=\"M91,437.14 C91,437.14 91,482.66 91,482.66 \" fill=\"none\" id=\"E4&lt;-E5\" style=\"stroke: #383838; stroke-width: 1.0;\"/><ellipse cx=\"91\" cy=\"430.14\" fill=\"#FFFFFF\" rx=\"8\" ry=\"8\" style=\"stroke: #383838; stroke-width: 1.0;\"/><line style=\"stroke: #383838; stroke-width: 1.0;\" x1=\"91\" x2=\"91\" y1=\"438.14\" y2=\"422.14\"/><line style=\"stroke: #383838; stroke-width: 1.0;\" x1=\"83\" x2=\"99\" y1=\"430.14\" y2=\"430.14\"/></a><!--MD5=[c6fc7cdb0cabde04948078cf183fa696]\n",
       "reverse link E4 to E8--><a href=\"psysml:72b41e7b-9298-4fd0-92ac-738cc777b35a\" target=\"_top\" title=\"psysml:72b41e7b-9298-4fd0-92ac-738cc777b35a\" xlink:actuate=\"onRequest\" xlink:href=\"psysml:72b41e7b-9298-4fd0-92ac-738cc777b35a\" xlink:show=\"new\" xlink:title=\"psysml:72b41e7b-9298-4fd0-92ac-738cc777b35a\" xlink:type=\"simple\"><path d=\"M162.51,407 C162.51,407 206,407 206,407 C206,407 206,461.14 206,493.28 \" fill=\"none\" id=\"E4&lt;-E8\" style=\"stroke: #383838; stroke-width: 1.0;\"/><polygon fill=\"#383838\" points=\"149.51,407,155.51,411,161.51,407,155.51,403,149.51,407\" style=\"stroke: #383838; stroke-width: 1.0;\"/></a><!--MD5=[062ed86c389d1a88f61c6380d0491e17]\n",
       "reverse link E12 to E13--><a href=\"psysml:dc92139c-b950-485f-92a5-3d6f837d8293\" target=\"_top\" title=\"psysml:dc92139c-b950-485f-92a5-3d6f837d8293\" xlink:actuate=\"onRequest\" xlink:href=\"psysml:dc92139c-b950-485f-92a5-3d6f837d8293\" xlink:show=\"new\" xlink:title=\"psysml:dc92139c-b950-485f-92a5-3d6f837d8293\" xlink:type=\"simple\"><path d=\"M59.25,121.18 C59.25,121.18 59.25,189.99 59.25,189.99 \" fill=\"none\" id=\"E12&lt;-E13\" style=\"stroke: #383838; stroke-width: 1.0;\"/><polygon fill=\"#383838\" points=\"59.25,108.18,55.25,114.18,59.25,120.18,63.25,114.18,59.25,108.18\" style=\"stroke: #383838; stroke-width: 1.0;\"/></a><!--MD5=[017847e01ff9a8bd19f247411074f987]\n",
       "link E13 to E4--><a href=\"psysml:84833459-b0b4-497f-8a66-9d75104fb430\" target=\"_top\" title=\"psysml:84833459-b0b4-497f-8a66-9d75104fb430\" xlink:actuate=\"onRequest\" xlink:href=\"psysml:84833459-b0b4-497f-8a66-9d75104fb430\" xlink:show=\"new\" xlink:title=\"psysml:84833459-b0b4-497f-8a66-9d75104fb430\" xlink:type=\"simple\"><path d=\"M91,236.13 C91,236.13 91,292.77 91,292.77 \" fill=\"none\" id=\"E13-&gt;E4\" style=\"stroke: #383838; stroke-width: 1.0;\"/><polygon fill=\"#FFFFFF\" points=\"91,312.77,84,293.77,98,293.77,91,312.77\" style=\"stroke: #383838; stroke-width: 1.0;\"/><ellipse cx=\"86\" cy=\"288.07\" fill=\"#383838\" rx=\"2\" ry=\"2\" style=\"stroke: #383838; stroke-width: 1.0;\"/><ellipse cx=\"96\" cy=\"288.07\" fill=\"#383838\" rx=\"2\" ry=\"2\" style=\"stroke: #383838; stroke-width: 1.0;\"/></a><!--MD5=[2cfe899c895462254056921bfb67315f]\n",
       "link E13 to E11--><a href=\"psysml:ed40ce07-1501-496b-adae-3639fe39f1e8\" target=\"_top\" title=\"psysml:ed40ce07-1501-496b-adae-3639fe39f1e8\" xlink:actuate=\"onRequest\" xlink:href=\"psysml:ed40ce07-1501-496b-adae-3639fe39f1e8\" xlink:show=\"new\" xlink:title=\"psysml:ed40ce07-1501-496b-adae-3639fe39f1e8\" xlink:type=\"simple\"><path d=\"M137.77,213 C169.61,213 206,213 206,213 C206,213 206,339.37 206,339.37 \" fill=\"none\" id=\"E13-&gt;E11\" style=\"stroke: #383838; stroke-width: 1.0; stroke-dasharray: 7.0,7.0;\"/><polygon fill=\"#383838\" points=\"206,344.37,210,335.37,206,339.37,202,335.37,206,344.37\" style=\"stroke: #383838; stroke-width: 1.0;\"/><text fill=\"#000000\" font-family=\"sans-serif\" font-size=\"13\" lengthAdjust=\"spacingAndGlyphs\" textLength=\"57\" x=\"170\" y=\"279.0669\">«satisfy»</text></a><!--MD5=[3729655e7c3d3f50529155863bcdc622]\n",
       "@startuml\r\n",
       "skinparam linetype ortho\r\n",
       "skinparam monochrome true\r\n",
       "skinparam classbackgroundcolor white\r\n",
       "skinparam shadowing false\r\n",
       "skinparam wrapWidth 300\r\n",
       "hide circle\r\n",
       "\r\n",
       "package \"RequirementTest\" as E1  [[psysml:32d2418d-b451-4172-b0c3-f203713ef4c8 ]]  {\r\n",
       "comp def \"C\" as E2  <<(T,blue)constraint def>> [[psysml:a1b28860-c9a8-4d37-931e-31ae0c14540e ]] {\r\n",
       "}\r\n",
       "comp usage \"c: C\" as E3  <<(T,blue)constraint>> [[psysml:4f6724e1-6261-429d-9c16-1831387bac9b ]] {\r\n",
       "}\r\n",
       "comp def \"R\" as E4  <<(T,blue)requirement def>> [[psysml:a2742730-9bdb-48ea-a333-70a51cef011c ]] {\r\n",
       "\r\n",
       "- -\r\n",
       "- - constraints - -\r\n",
       "<b>require</b> c\r\n",
       "<i>assume</i> c1: C\r\n",
       "}\r\n",
       "comp def \" [<b>1</b>] A\" as E5  <<(T,blue)requirement def>> [[psysml:56458fbc-ce11-45ea-8fa2-2092e0cfc05c ]] {\r\n",
       "Text\r\n",
       "- -\r\n",
       "}\r\n",
       "comp usage \"<s>noname</s>\" as E8  <<(T,blue)requirement>> [[psysml:72b41e7b-9298-4fd0-92ac-738cc777b35a ]] {\r\n",
       "}\r\n",
       "comp def \"R1\" as E9  <<(T,blue)requirement def>> [[psysml:ec52d3df-f8e8-4ac5-95c0-bf3447feb8a5 ]] {\r\n",
       "- - constraints - -\r\n",
       "<b>require</b> c1\\n//:>>RequirementTest::c// \r\n",
       "}\r\n",
       "comp usage \"p\" as E11  <<(T,blue)part>> [[psysml:b85d82e7-3bb2-4c49-b03c-5a9b3c771643 ]] {\r\n",
       "}\r\n",
       "comp usage \"q\" as E12  <<(T,blue)part>> [[psysml:f6ed6b0e-7205-4bca-ba49-af9a51c8942a ]] {\r\n",
       "}\r\n",
       "comp usage \"r: R\" as E13  <<(T,blue)requirement>> [[psysml:dc92139c-b950-485f-92a5-3d6f837d8293 ]] {\r\n",
       "}\r\n",
       "E3 - -:|> E2 [[psysml:9201001b-4e3f-46f0-8224-89e70f802e39 ]] \r\n",
       "E4 +- - E5 [[psysml:56458fbc-ce11-45ea-8fa2-2092e0cfc05c ]] \r\n",
       "E4 *- - E8 [[psysml:72b41e7b-9298-4fd0-92ac-738cc777b35a ]] \r\n",
       "E12 *- - E13 [[psysml:dc92139c-b950-485f-92a5-3d6f837d8293 ]] \r\n",
       "E13 - -:|> E4 [[psysml:84833459-b0b4-497f-8a66-9d75104fb430 ]] \r\n",
       "E13 ..> E11 [[psysml:ed40ce07-1501-496b-adae-3639fe39f1e8 ]] : <<satisfy>>\r\n",
       "}\r\n",
       "@enduml\r\n",
       "\n",
       "PlantUML version 1.2020.13(Sat Jun 13 12:26:38 UTC 2020)\n",
       "(EPL source distribution)\n",
       "Java Runtime: OpenJDK Runtime Environment\n",
       "JVM: OpenJDK 64-Bit Server VM\n",
       "Default Encoding: UTF-8\n",
       "Language: en\n",
       "Country: null\n",
       "--></g></svg>"
      ]
     },
     "execution_count": 51,
     "metadata": {},
     "output_type": "execute_result"
    }
   ],
   "source": [
    "%viz --style=\"ORTHOLINE\" --view=\"Default\" \"RequirementTest\""
   ]
  },
  {
   "cell_type": "code",
   "execution_count": 52,
   "id": "administrative-aging",
   "metadata": {
    "execution": {
     "iopub.execute_input": "2021-03-26T13:01:11.697380Z",
     "iopub.status.busy": "2021-03-26T13:01:11.696635Z",
     "iopub.status.idle": "2021-03-26T13:01:11.785298Z",
     "shell.execute_reply": "2021-03-26T13:01:11.781860Z"
    }
   },
   "outputs": [
    {
     "data": {
      "image/svg+xml": [
       "<?xml version=\"1.0\" encoding=\"UTF-8\" standalone=\"no\"?><svg xmlns=\"http://www.w3.org/2000/svg\" xmlns:xlink=\"http://www.w3.org/1999/xlink\" contentScriptType=\"application/ecmascript\" contentStyleType=\"text/css\" height=\"578px\" preserveAspectRatio=\"none\" style=\"width:408px;height:578px;\" version=\"1.1\" viewBox=\"0 0 408 578\" width=\"408px\" zoomAndPan=\"magnify\"><defs/><g><!--MD5=[fbc87193dbaf4d95561dea2c320d4a47]\n",
       "cluster E1--><a href=\"psysml:32d2418d-b451-4172-b0c3-f203713ef4c8\" target=\"_top\" title=\"psysml:32d2418d-b451-4172-b0c3-f203713ef4c8\" xlink:actuate=\"onRequest\" xlink:href=\"psysml:32d2418d-b451-4172-b0c3-f203713ef4c8\" xlink:show=\"new\" xlink:title=\"psysml:32d2418d-b451-4172-b0c3-f203713ef4c8\" xlink:type=\"simple\"><polygon fill=\"#FFFFFF\" points=\"16,6,158,6,165,28.2969,386,28.2969,386,566,16,566,16,6\" style=\"stroke: #000000; stroke-width: 1.5;\"/><line style=\"stroke: #000000; stroke-width: 1.5;\" x1=\"16\" x2=\"165\" y1=\"28.2969\" y2=\"28.2969\"/><text fill=\"#000000\" font-family=\"sans-serif\" font-size=\"14\" font-weight=\"bold\" lengthAdjust=\"spacingAndGlyphs\" textLength=\"136\" x=\"20\" y=\"20.9951\">RequirementTest</text></a><!--MD5=[b4997ac47864f28c2f74865a473b2911]\n",
       "class E2--><a href=\"psysml:a1b28860-c9a8-4d37-931e-31ae0c14540e\" target=\"_top\" title=\"psysml:a1b28860-c9a8-4d37-931e-31ae0c14540e\" xlink:actuate=\"onRequest\" xlink:href=\"psysml:a1b28860-c9a8-4d37-931e-31ae0c14540e\" xlink:show=\"new\" xlink:title=\"psysml:a1b28860-c9a8-4d37-931e-31ae0c14540e\" xlink:type=\"simple\"><rect fill=\"#FFFFFF\" height=\"45.9375\" id=\"E2\" style=\"stroke: #383838; stroke-width: 1.5;\" width=\"104\" x=\"266\" y=\"190\"/><text fill=\"#000000\" font-family=\"sans-serif\" font-size=\"12\" font-style=\"italic\" lengthAdjust=\"spacingAndGlyphs\" textLength=\"102\" x=\"267\" y=\"206.1387\">«constraint def»</text><text fill=\"#000000\" font-family=\"sans-serif\" font-size=\"12\" lengthAdjust=\"spacingAndGlyphs\" textLength=\"8\" x=\"314\" y=\"220.1074\">C</text><line style=\"stroke: #383838; stroke-width: 1.5;\" x1=\"267\" x2=\"369\" y1=\"227.9375\" y2=\"227.9375\"/></a><!--MD5=[09b614a08d8cba4a07c9adeb5e0fee81]\n",
       "class E3--><a href=\"psysml:4f6724e1-6261-429d-9c16-1831387bac9b\" target=\"_top\" title=\"psysml:4f6724e1-6261-429d-9c16-1831387bac9b\" xlink:actuate=\"onRequest\" xlink:href=\"psysml:4f6724e1-6261-429d-9c16-1831387bac9b\" xlink:show=\"new\" xlink:title=\"psysml:4f6724e1-6261-429d-9c16-1831387bac9b\" xlink:type=\"simple\"><rect fill=\"#FFFFFF\" height=\"45.9375\" id=\"E3\" rx=\"10\" ry=\"10\" style=\"stroke: #383838; stroke-width: 1.5;\" width=\"80\" x=\"290\" y=\"62\"/><text fill=\"#000000\" font-family=\"sans-serif\" font-size=\"12\" font-style=\"italic\" lengthAdjust=\"spacingAndGlyphs\" textLength=\"78\" x=\"291\" y=\"78.1387\">«constraint»</text><text fill=\"#000000\" font-family=\"sans-serif\" font-size=\"12\" lengthAdjust=\"spacingAndGlyphs\" textLength=\"23\" x=\"318.5\" y=\"92.1074\">c: C</text><line style=\"stroke: #383838; stroke-width: 1.5;\" x1=\"291\" x2=\"369\" y1=\"99.9375\" y2=\"99.9375\"/></a><!--MD5=[ebbe1d658d1005bcc118a6aa81145e00]\n",
       "class E4--><a href=\"psysml:a2742730-9bdb-48ea-a333-70a51cef011c\" target=\"_top\" title=\"psysml:a2742730-9bdb-48ea-a333-70a51cef011c\" xlink:actuate=\"onRequest\" xlink:href=\"psysml:a2742730-9bdb-48ea-a333-70a51cef011c\" xlink:show=\"new\" xlink:title=\"psysml:a2742730-9bdb-48ea-a333-70a51cef011c\" xlink:type=\"simple\"><rect fill=\"#FFFFFF\" height=\"109.1563\" id=\"E4\" style=\"stroke: #383838; stroke-width: 1.5;\" width=\"117\" x=\"32.5\" y=\"313\"/><text fill=\"#000000\" font-family=\"sans-serif\" font-size=\"12\" font-style=\"italic\" lengthAdjust=\"spacingAndGlyphs\" textLength=\"115\" x=\"33.5\" y=\"329.1387\">«requirement def»</text><text fill=\"#000000\" font-family=\"sans-serif\" font-size=\"12\" lengthAdjust=\"spacingAndGlyphs\" textLength=\"8\" x=\"87\" y=\"343.1074\">R</text><line style=\"stroke: #383838; stroke-width: 1.5;\" x1=\"33.5\" x2=\"148.5\" y1=\"350.9375\" y2=\"350.9375\"/><text fill=\"#000000\" font-family=\"sans-serif\" font-size=\"11\" lengthAdjust=\"spacingAndGlyphs\" textLength=\"0\" x=\"42.5\" y=\"365.1479\"/><line style=\"stroke: #383838; stroke-width: 1.0;\" x1=\"33.5\" x2=\"148.5\" y1=\"371.7422\" y2=\"371.7422\"/><text fill=\"#000000\" font-family=\"sans-serif\" font-size=\"11\" font-weight=\"bold\" lengthAdjust=\"spacingAndGlyphs\" textLength=\"46\" x=\"38.5\" y=\"402.7573\">require</text><text fill=\"#000000\" font-family=\"sans-serif\" font-size=\"11\" lengthAdjust=\"spacingAndGlyphs\" textLength=\"6\" x=\"88.5\" y=\"402.7573\">c</text><text fill=\"#000000\" font-family=\"sans-serif\" font-size=\"11\" font-style=\"italic\" lengthAdjust=\"spacingAndGlyphs\" textLength=\"46\" x=\"38.5\" y=\"415.562\">assume</text><text fill=\"#000000\" font-family=\"sans-serif\" font-size=\"11\" lengthAdjust=\"spacingAndGlyphs\" textLength=\"29\" x=\"88.5\" y=\"415.562\">c1: C</text><line style=\"stroke: #383838; stroke-width: 1.0;\" x1=\"33.5\" x2=\"59\" y1=\"386.1445\" y2=\"386.1445\"/><text fill=\"#000000\" font-family=\"sans-serif\" font-size=\"11\" lengthAdjust=\"spacingAndGlyphs\" textLength=\"64\" x=\"59\" y=\"389.4526\">constraints</text><line style=\"stroke: #383838; stroke-width: 1.0;\" x1=\"123\" x2=\"148.5\" y1=\"386.1445\" y2=\"386.1445\"/></a><!--MD5=[270fce915f116d4de14055a7c1d9a0f3]\n",
       "class E5--><a href=\"psysml:56458fbc-ce11-45ea-8fa2-2092e0cfc05c\" target=\"_top\" title=\"psysml:56458fbc-ce11-45ea-8fa2-2092e0cfc05c\" xlink:actuate=\"onRequest\" xlink:href=\"psysml:56458fbc-ce11-45ea-8fa2-2092e0cfc05c\" xlink:show=\"new\" xlink:title=\"psysml:56458fbc-ce11-45ea-8fa2-2092e0cfc05c\" xlink:type=\"simple\"><rect fill=\"#FFFFFF\" height=\"66.7422\" id=\"E5\" style=\"stroke: #383838; stroke-width: 1.5;\" width=\"117\" x=\"32.5\" y=\"483\"/><text fill=\"#000000\" font-family=\"sans-serif\" font-size=\"12\" font-style=\"italic\" lengthAdjust=\"spacingAndGlyphs\" textLength=\"115\" x=\"33.5\" y=\"499.1387\">«requirement def»</text><text fill=\"#000000\" font-family=\"sans-serif\" font-size=\"12\" lengthAdjust=\"spacingAndGlyphs\" textLength=\"5\" x=\"78\" y=\"513.1074\">[</text><text fill=\"#000000\" font-family=\"sans-serif\" font-size=\"12\" font-weight=\"bold\" lengthAdjust=\"spacingAndGlyphs\" textLength=\"8\" x=\"83\" y=\"513.1074\">1</text><text fill=\"#000000\" font-family=\"sans-serif\" font-size=\"12\" lengthAdjust=\"spacingAndGlyphs\" textLength=\"17\" x=\"91\" y=\"513.1074\">] A</text><line style=\"stroke: #383838; stroke-width: 1.5;\" x1=\"33.5\" x2=\"148.5\" y1=\"520.9375\" y2=\"520.9375\"/><text fill=\"#000000\" font-family=\"sans-serif\" font-size=\"11\" lengthAdjust=\"spacingAndGlyphs\" textLength=\"24\" x=\"38.5\" y=\"535.1479\">Text</text><line style=\"stroke: #383838; stroke-width: 1.0;\" x1=\"33.5\" x2=\"148.5\" y1=\"541.7422\" y2=\"541.7422\"/></a><!--MD5=[b9389687b975829384b498ac4b7476b2]\n",
       "class E8--><a href=\"psysml:72b41e7b-9298-4fd0-92ac-738cc777b35a\" target=\"_top\" title=\"psysml:72b41e7b-9298-4fd0-92ac-738cc777b35a\" xlink:actuate=\"onRequest\" xlink:href=\"psysml:72b41e7b-9298-4fd0-92ac-738cc777b35a\" xlink:show=\"new\" xlink:title=\"psysml:72b41e7b-9298-4fd0-92ac-738cc777b35a\" xlink:type=\"simple\"><rect fill=\"#FFFFFF\" height=\"45.9375\" id=\"E8\" rx=\"10\" ry=\"10\" style=\"stroke: #383838; stroke-width: 1.5;\" width=\"93\" x=\"184.5\" y=\"493.5\"/><text fill=\"#000000\" font-family=\"sans-serif\" font-size=\"12\" font-style=\"italic\" lengthAdjust=\"spacingAndGlyphs\" textLength=\"91\" x=\"185.5\" y=\"509.6387\">«requirement»</text><text fill=\"#000000\" font-family=\"sans-serif\" font-size=\"12\" lengthAdjust=\"spacingAndGlyphs\" text-decoration=\"line-through\" textLength=\"51\" x=\"205.5\" y=\"523.6074\">noname</text><line style=\"stroke: #383838; stroke-width: 1.5;\" x1=\"185.5\" x2=\"276.5\" y1=\"531.4375\" y2=\"531.4375\"/></a><!--MD5=[fd4143e9d270a159db93a4ea2a975926]\n",
       "class E9--><a href=\"psysml:ec52d3df-f8e8-4ac5-95c0-bf3447feb8a5\" target=\"_top\" title=\"psysml:ec52d3df-f8e8-4ac5-95c0-bf3447feb8a5\" xlink:actuate=\"onRequest\" xlink:href=\"psysml:ec52d3df-f8e8-4ac5-95c0-bf3447feb8a5\" xlink:show=\"new\" xlink:title=\"psysml:ec52d3df-f8e8-4ac5-95c0-bf3447feb8a5\" xlink:type=\"simple\"><rect fill=\"#FFFFFF\" height=\"88.3516\" id=\"E9\" style=\"stroke: #383838; stroke-width: 1.5;\" width=\"145\" x=\"109.5\" y=\"41\"/><text fill=\"#000000\" font-family=\"sans-serif\" font-size=\"12\" font-style=\"italic\" lengthAdjust=\"spacingAndGlyphs\" textLength=\"115\" x=\"124.5\" y=\"57.1387\">«requirement def»</text><text fill=\"#000000\" font-family=\"sans-serif\" font-size=\"12\" lengthAdjust=\"spacingAndGlyphs\" textLength=\"16\" x=\"174\" y=\"71.1074\">R1</text><line style=\"stroke: #383838; stroke-width: 1.5;\" x1=\"110.5\" x2=\"253.5\" y1=\"78.9375\" y2=\"78.9375\"/><text fill=\"#000000\" font-family=\"sans-serif\" font-size=\"11\" font-weight=\"bold\" lengthAdjust=\"spacingAndGlyphs\" textLength=\"46\" x=\"115.5\" y=\"109.9526\">require</text><text fill=\"#000000\" font-family=\"sans-serif\" font-size=\"11\" lengthAdjust=\"spacingAndGlyphs\" textLength=\"13\" x=\"165.5\" y=\"109.9526\">c1</text><text fill=\"#000000\" font-family=\"sans-serif\" font-size=\"11\" font-style=\"italic\" lengthAdjust=\"spacingAndGlyphs\" textLength=\"133\" x=\"115.5\" y=\"122.7573\">:&gt;&gt;RequirementTest::c</text><line style=\"stroke: #383838; stroke-width: 1.0;\" x1=\"110.5\" x2=\"150\" y1=\"93.3398\" y2=\"93.3398\"/><text fill=\"#000000\" font-family=\"sans-serif\" font-size=\"11\" lengthAdjust=\"spacingAndGlyphs\" textLength=\"64\" x=\"150\" y=\"96.6479\">constraints</text><line style=\"stroke: #383838; stroke-width: 1.0;\" x1=\"214\" x2=\"253.5\" y1=\"93.3398\" y2=\"93.3398\"/></a><!--MD5=[1dd1bfd58a279cf63c5f349dbc8fc6a1]\n",
       "class E11--><a href=\"psysml:b85d82e7-3bb2-4c49-b03c-5a9b3c771643\" target=\"_top\" title=\"psysml:b85d82e7-3bb2-4c49-b03c-5a9b3c771643\" xlink:actuate=\"onRequest\" xlink:href=\"psysml:b85d82e7-3bb2-4c49-b03c-5a9b3c771643\" xlink:show=\"new\" xlink:title=\"psysml:b85d82e7-3bb2-4c49-b03c-5a9b3c771643\" xlink:type=\"simple\"><rect fill=\"#FFFFFF\" height=\"45.9375\" id=\"E11\" rx=\"10\" ry=\"10\" style=\"stroke: #383838; stroke-width: 1.5;\" width=\"42\" x=\"185\" y=\"344.5\"/><text fill=\"#000000\" font-family=\"sans-serif\" font-size=\"12\" font-style=\"italic\" lengthAdjust=\"spacingAndGlyphs\" textLength=\"40\" x=\"186\" y=\"360.6387\">«part»</text><text fill=\"#000000\" font-family=\"sans-serif\" font-size=\"12\" lengthAdjust=\"spacingAndGlyphs\" textLength=\"8\" x=\"202\" y=\"374.6074\">p</text><line style=\"stroke: #383838; stroke-width: 1.5;\" x1=\"186\" x2=\"226\" y1=\"382.4375\" y2=\"382.4375\"/></a><!--MD5=[49a0ec8f00dab7302a31f22d0f0fe584]\n",
       "class E12--><a href=\"psysml:f6ed6b0e-7205-4bca-ba49-af9a51c8942a\" target=\"_top\" title=\"psysml:f6ed6b0e-7205-4bca-ba49-af9a51c8942a\" xlink:actuate=\"onRequest\" xlink:href=\"psysml:f6ed6b0e-7205-4bca-ba49-af9a51c8942a\" xlink:show=\"new\" xlink:title=\"psysml:f6ed6b0e-7205-4bca-ba49-af9a51c8942a\" xlink:type=\"simple\"><rect fill=\"#FFFFFF\" height=\"45.9375\" id=\"E12\" rx=\"10\" ry=\"10\" style=\"stroke: #383838; stroke-width: 1.5;\" width=\"42\" x=\"32\" y=\"62\"/><text fill=\"#000000\" font-family=\"sans-serif\" font-size=\"12\" font-style=\"italic\" lengthAdjust=\"spacingAndGlyphs\" textLength=\"40\" x=\"33\" y=\"78.1387\">«part»</text><text fill=\"#000000\" font-family=\"sans-serif\" font-size=\"12\" lengthAdjust=\"spacingAndGlyphs\" textLength=\"8\" x=\"49\" y=\"92.1074\">q</text><line style=\"stroke: #383838; stroke-width: 1.5;\" x1=\"33\" x2=\"73\" y1=\"99.9375\" y2=\"99.9375\"/></a><!--MD5=[ee3c913d1a06f366521f9ef512b67efe]\n",
       "class E13--><a href=\"psysml:dc92139c-b950-485f-92a5-3d6f837d8293\" target=\"_top\" title=\"psysml:dc92139c-b950-485f-92a5-3d6f837d8293\" xlink:actuate=\"onRequest\" xlink:href=\"psysml:dc92139c-b950-485f-92a5-3d6f837d8293\" xlink:show=\"new\" xlink:title=\"psysml:dc92139c-b950-485f-92a5-3d6f837d8293\" xlink:type=\"simple\"><rect fill=\"#FFFFFF\" height=\"45.9375\" id=\"E13\" rx=\"10\" ry=\"10\" style=\"stroke: #383838; stroke-width: 1.5;\" width=\"93\" x=\"44.5\" y=\"190\"/><text fill=\"#000000\" font-family=\"sans-serif\" font-size=\"12\" font-style=\"italic\" lengthAdjust=\"spacingAndGlyphs\" textLength=\"91\" x=\"45.5\" y=\"206.1387\">«requirement»</text><text fill=\"#000000\" font-family=\"sans-serif\" font-size=\"12\" lengthAdjust=\"spacingAndGlyphs\" textLength=\"21\" x=\"80.5\" y=\"220.1074\">r: R</text><line style=\"stroke: #383838; stroke-width: 1.5;\" x1=\"45.5\" x2=\"136.5\" y1=\"227.9375\" y2=\"227.9375\"/></a><!--MD5=[05d275557350bfb9b23a4ef7222b4c39]\n",
       "link E3 to E2--><a href=\"psysml:9201001b-4e3f-46f0-8224-89e70f802e39\" target=\"_top\" title=\"psysml:9201001b-4e3f-46f0-8224-89e70f802e39\" xlink:actuate=\"onRequest\" xlink:href=\"psysml:9201001b-4e3f-46f0-8224-89e70f802e39\" xlink:show=\"new\" xlink:title=\"psysml:9201001b-4e3f-46f0-8224-89e70f802e39\" xlink:type=\"simple\"><path d=\"M330,108.18 C330,108.18 330,169.99 330,169.99 \" fill=\"none\" id=\"E3-&gt;E2\" style=\"stroke: #383838; stroke-width: 1.0;\"/><polygon fill=\"#FFFFFF\" points=\"330,189.99,323,170.99,337,170.99,330,189.99\" style=\"stroke: #383838; stroke-width: 1.0;\"/><ellipse cx=\"325\" cy=\"165.29\" fill=\"#383838\" rx=\"2\" ry=\"2\" style=\"stroke: #383838; stroke-width: 1.0;\"/><ellipse cx=\"335\" cy=\"165.29\" fill=\"#383838\" rx=\"2\" ry=\"2\" style=\"stroke: #383838; stroke-width: 1.0;\"/></a><!--MD5=[62aa6af11e70f752912c1cb0466f24f7]\n",
       "reverse link E4 to E5--><a href=\"psysml:56458fbc-ce11-45ea-8fa2-2092e0cfc05c\" target=\"_top\" title=\"psysml:56458fbc-ce11-45ea-8fa2-2092e0cfc05c\" xlink:actuate=\"onRequest\" xlink:href=\"psysml:56458fbc-ce11-45ea-8fa2-2092e0cfc05c\" xlink:show=\"new\" xlink:title=\"psysml:56458fbc-ce11-45ea-8fa2-2092e0cfc05c\" xlink:type=\"simple\"><path d=\"M91,437.14 C91,437.14 91,482.66 91,482.66 \" fill=\"none\" id=\"E4&lt;-E5\" style=\"stroke: #383838; stroke-width: 1.0;\"/><ellipse cx=\"91\" cy=\"430.14\" fill=\"#FFFFFF\" rx=\"8\" ry=\"8\" style=\"stroke: #383838; stroke-width: 1.0;\"/><line style=\"stroke: #383838; stroke-width: 1.0;\" x1=\"91\" x2=\"91\" y1=\"438.14\" y2=\"422.14\"/><line style=\"stroke: #383838; stroke-width: 1.0;\" x1=\"83\" x2=\"99\" y1=\"430.14\" y2=\"430.14\"/></a><!--MD5=[c6fc7cdb0cabde04948078cf183fa696]\n",
       "reverse link E4 to E8--><a href=\"psysml:72b41e7b-9298-4fd0-92ac-738cc777b35a\" target=\"_top\" title=\"psysml:72b41e7b-9298-4fd0-92ac-738cc777b35a\" xlink:actuate=\"onRequest\" xlink:href=\"psysml:72b41e7b-9298-4fd0-92ac-738cc777b35a\" xlink:show=\"new\" xlink:title=\"psysml:72b41e7b-9298-4fd0-92ac-738cc777b35a\" xlink:type=\"simple\"><path d=\"M162.51,407 C162.51,407 206,407 206,407 C206,407 206,461.14 206,493.28 \" fill=\"none\" id=\"E4&lt;-E8\" style=\"stroke: #383838; stroke-width: 1.0;\"/><polygon fill=\"#383838\" points=\"149.51,407,155.51,411,161.51,407,155.51,403,149.51,407\" style=\"stroke: #383838; stroke-width: 1.0;\"/></a><!--MD5=[062ed86c389d1a88f61c6380d0491e17]\n",
       "reverse link E12 to E13--><a href=\"psysml:dc92139c-b950-485f-92a5-3d6f837d8293\" target=\"_top\" title=\"psysml:dc92139c-b950-485f-92a5-3d6f837d8293\" xlink:actuate=\"onRequest\" xlink:href=\"psysml:dc92139c-b950-485f-92a5-3d6f837d8293\" xlink:show=\"new\" xlink:title=\"psysml:dc92139c-b950-485f-92a5-3d6f837d8293\" xlink:type=\"simple\"><path d=\"M59.25,121.18 C59.25,121.18 59.25,189.99 59.25,189.99 \" fill=\"none\" id=\"E12&lt;-E13\" style=\"stroke: #383838; stroke-width: 1.0;\"/><polygon fill=\"#383838\" points=\"59.25,108.18,55.25,114.18,59.25,120.18,63.25,114.18,59.25,108.18\" style=\"stroke: #383838; stroke-width: 1.0;\"/></a><!--MD5=[017847e01ff9a8bd19f247411074f987]\n",
       "link E13 to E4--><a href=\"psysml:84833459-b0b4-497f-8a66-9d75104fb430\" target=\"_top\" title=\"psysml:84833459-b0b4-497f-8a66-9d75104fb430\" xlink:actuate=\"onRequest\" xlink:href=\"psysml:84833459-b0b4-497f-8a66-9d75104fb430\" xlink:show=\"new\" xlink:title=\"psysml:84833459-b0b4-497f-8a66-9d75104fb430\" xlink:type=\"simple\"><path d=\"M91,236.13 C91,236.13 91,292.77 91,292.77 \" fill=\"none\" id=\"E13-&gt;E4\" style=\"stroke: #383838; stroke-width: 1.0;\"/><polygon fill=\"#FFFFFF\" points=\"91,312.77,84,293.77,98,293.77,91,312.77\" style=\"stroke: #383838; stroke-width: 1.0;\"/><ellipse cx=\"86\" cy=\"288.07\" fill=\"#383838\" rx=\"2\" ry=\"2\" style=\"stroke: #383838; stroke-width: 1.0;\"/><ellipse cx=\"96\" cy=\"288.07\" fill=\"#383838\" rx=\"2\" ry=\"2\" style=\"stroke: #383838; stroke-width: 1.0;\"/></a><!--MD5=[2cfe899c895462254056921bfb67315f]\n",
       "link E13 to E11--><a href=\"psysml:ed40ce07-1501-496b-adae-3639fe39f1e8\" target=\"_top\" title=\"psysml:ed40ce07-1501-496b-adae-3639fe39f1e8\" xlink:actuate=\"onRequest\" xlink:href=\"psysml:ed40ce07-1501-496b-adae-3639fe39f1e8\" xlink:show=\"new\" xlink:title=\"psysml:ed40ce07-1501-496b-adae-3639fe39f1e8\" xlink:type=\"simple\"><path d=\"M137.77,213 C169.61,213 206,213 206,213 C206,213 206,339.37 206,339.37 \" fill=\"none\" id=\"E13-&gt;E11\" style=\"stroke: #383838; stroke-width: 1.0; stroke-dasharray: 7.0,7.0;\"/><polygon fill=\"#383838\" points=\"206,344.37,210,335.37,206,339.37,202,335.37,206,344.37\" style=\"stroke: #383838; stroke-width: 1.0;\"/><text fill=\"#000000\" font-family=\"sans-serif\" font-size=\"13\" lengthAdjust=\"spacingAndGlyphs\" textLength=\"57\" x=\"170\" y=\"279.0669\">«satisfy»</text></a><!--MD5=[3729655e7c3d3f50529155863bcdc622]\n",
       "@startuml\r\n",
       "skinparam linetype ortho\r\n",
       "skinparam monochrome true\r\n",
       "skinparam classbackgroundcolor white\r\n",
       "skinparam shadowing false\r\n",
       "skinparam wrapWidth 300\r\n",
       "hide circle\r\n",
       "\r\n",
       "package \"RequirementTest\" as E1  [[psysml:32d2418d-b451-4172-b0c3-f203713ef4c8 ]]  {\r\n",
       "comp def \"C\" as E2  <<(T,blue)constraint def>> [[psysml:a1b28860-c9a8-4d37-931e-31ae0c14540e ]] {\r\n",
       "}\r\n",
       "comp usage \"c: C\" as E3  <<(T,blue)constraint>> [[psysml:4f6724e1-6261-429d-9c16-1831387bac9b ]] {\r\n",
       "}\r\n",
       "comp def \"R\" as E4  <<(T,blue)requirement def>> [[psysml:a2742730-9bdb-48ea-a333-70a51cef011c ]] {\r\n",
       "\r\n",
       "- -\r\n",
       "- - constraints - -\r\n",
       "<b>require</b> c\r\n",
       "<i>assume</i> c1: C\r\n",
       "}\r\n",
       "comp def \" [<b>1</b>] A\" as E5  <<(T,blue)requirement def>> [[psysml:56458fbc-ce11-45ea-8fa2-2092e0cfc05c ]] {\r\n",
       "Text\r\n",
       "- -\r\n",
       "}\r\n",
       "comp usage \"<s>noname</s>\" as E8  <<(T,blue)requirement>> [[psysml:72b41e7b-9298-4fd0-92ac-738cc777b35a ]] {\r\n",
       "}\r\n",
       "comp def \"R1\" as E9  <<(T,blue)requirement def>> [[psysml:ec52d3df-f8e8-4ac5-95c0-bf3447feb8a5 ]] {\r\n",
       "- - constraints - -\r\n",
       "<b>require</b> c1\\n//:>>RequirementTest::c// \r\n",
       "}\r\n",
       "comp usage \"p\" as E11  <<(T,blue)part>> [[psysml:b85d82e7-3bb2-4c49-b03c-5a9b3c771643 ]] {\r\n",
       "}\r\n",
       "comp usage \"q\" as E12  <<(T,blue)part>> [[psysml:f6ed6b0e-7205-4bca-ba49-af9a51c8942a ]] {\r\n",
       "}\r\n",
       "comp usage \"r: R\" as E13  <<(T,blue)requirement>> [[psysml:dc92139c-b950-485f-92a5-3d6f837d8293 ]] {\r\n",
       "}\r\n",
       "E3 - -:|> E2 [[psysml:9201001b-4e3f-46f0-8224-89e70f802e39 ]] \r\n",
       "E4 +- - E5 [[psysml:56458fbc-ce11-45ea-8fa2-2092e0cfc05c ]] \r\n",
       "E4 *- - E8 [[psysml:72b41e7b-9298-4fd0-92ac-738cc777b35a ]] \r\n",
       "E12 *- - E13 [[psysml:dc92139c-b950-485f-92a5-3d6f837d8293 ]] \r\n",
       "E13 - -:|> E4 [[psysml:84833459-b0b4-497f-8a66-9d75104fb430 ]] \r\n",
       "E13 ..> E11 [[psysml:ed40ce07-1501-496b-adae-3639fe39f1e8 ]] : <<satisfy>>\r\n",
       "}\r\n",
       "@enduml\r\n",
       "\n",
       "PlantUML version 1.2020.13(Sat Jun 13 12:26:38 UTC 2020)\n",
       "(EPL source distribution)\n",
       "Java Runtime: OpenJDK Runtime Environment\n",
       "JVM: OpenJDK 64-Bit Server VM\n",
       "Default Encoding: UTF-8\n",
       "Language: en\n",
       "Country: null\n",
       "--></g></svg>"
      ]
     },
     "execution_count": 52,
     "metadata": {},
     "output_type": "execute_result"
    }
   ],
   "source": [
    "%viz --style=\"ORTHOLINE\" --view=\"Tree\" \"RequirementTest\""
   ]
  },
  {
   "cell_type": "code",
   "execution_count": 53,
   "id": "acceptable-ballot",
   "metadata": {
    "execution": {
     "iopub.execute_input": "2021-03-26T13:01:11.836595Z",
     "iopub.status.busy": "2021-03-26T13:01:11.836250Z",
     "iopub.status.idle": "2021-03-26T13:01:11.847294Z",
     "shell.execute_reply": "2021-03-26T13:01:11.847003Z"
    }
   },
   "outputs": [
    {
     "data": {
      "image/svg+xml": [
       "<?xml version=\"1.0\" encoding=\"UTF-8\" standalone=\"no\"?><svg xmlns=\"http://www.w3.org/2000/svg\" xmlns:xlink=\"http://www.w3.org/1999/xlink\" contentScriptType=\"application/ecmascript\" contentStyleType=\"text/css\" height=\"12px\" preserveAspectRatio=\"none\" style=\"width:12px;height:12px;\" version=\"1.1\" viewBox=\"0 0 12 12\" width=\"12px\" zoomAndPan=\"magnify\"><defs/><g><!--MD5=[97d6f38768b311333d388e66b2b27985]\n",
       "@startuml\r\n",
       "skinparam linetype ortho\r\n",
       "skinparam monochrome true\r\n",
       "skinparam classbackgroundcolor white\r\n",
       "skinparam shadowing false\r\n",
       "skinparam wrapWidth 300\r\n",
       "hide circle\r\n",
       "\r\n",
       "@enduml\r\n",
       "\n",
       "PlantUML version 1.2020.13(Sat Jun 13 12:26:38 UTC 2020)\n",
       "(EPL source distribution)\n",
       "Java Runtime: OpenJDK Runtime Environment\n",
       "JVM: OpenJDK 64-Bit Server VM\n",
       "Default Encoding: UTF-8\n",
       "Language: en\n",
       "Country: null\n",
       "--></g></svg>"
      ]
     },
     "execution_count": 53,
     "metadata": {},
     "output_type": "execute_result"
    }
   ],
   "source": [
    "%viz --style=\"ORTHOLINE\" --view=\"State\" \"RequirementTest\""
   ]
  },
  {
   "cell_type": "code",
   "execution_count": 54,
   "id": "infinite-tsunami",
   "metadata": {
    "execution": {
     "iopub.execute_input": "2021-03-26T13:01:11.897631Z",
     "iopub.status.busy": "2021-03-26T13:01:11.897201Z",
     "iopub.status.idle": "2021-03-26T13:01:11.927897Z",
     "shell.execute_reply": "2021-03-26T13:01:11.926661Z"
    }
   },
   "outputs": [
    {
     "data": {
      "image/svg+xml": [
       "<?xml version=\"1.0\" encoding=\"UTF-8\" standalone=\"no\"?><svg xmlns=\"http://www.w3.org/2000/svg\" xmlns:xlink=\"http://www.w3.org/1999/xlink\" contentScriptType=\"application/ecmascript\" contentStyleType=\"text/css\" height=\"367px\" preserveAspectRatio=\"none\" style=\"width:852px;height:367px;\" version=\"1.1\" viewBox=\"0 0 852 367\" width=\"852px\" zoomAndPan=\"magnify\"><defs/><g><!--MD5=[fbc87193dbaf4d95561dea2c320d4a47]\n",
       "cluster E1--><a href=\"psysml:32d2418d-b451-4172-b0c3-f203713ef4c8\" target=\"_top\" title=\"psysml:32d2418d-b451-4172-b0c3-f203713ef4c8\" xlink:actuate=\"onRequest\" xlink:href=\"psysml:32d2418d-b451-4172-b0c3-f203713ef4c8\" xlink:show=\"new\" xlink:title=\"psysml:32d2418d-b451-4172-b0c3-f203713ef4c8\" xlink:type=\"simple\"><polygon fill=\"#FFFFFF\" points=\"16,6,158,6,165,28.2969,830,28.2969,830,355,16,355,16,6\" style=\"stroke: #000000; stroke-width: 1.5;\"/><line style=\"stroke: #000000; stroke-width: 1.5;\" x1=\"16\" x2=\"165\" y1=\"28.2969\" y2=\"28.2969\"/><text fill=\"#000000\" font-family=\"sans-serif\" font-size=\"14\" font-weight=\"bold\" lengthAdjust=\"spacingAndGlyphs\" textLength=\"136\" x=\"20\" y=\"20.9951\">RequirementTest</text></a><!--MD5=[168fadf3d0c3fd93dd5d6da1b1d7ab76]\n",
       "cluster E7--><a href=\"psysml:f6ed6b0e-7205-4bca-ba49-af9a51c8942a\" target=\"_top\" title=\"psysml:f6ed6b0e-7205-4bca-ba49-af9a51c8942a\" xlink:actuate=\"onRequest\" xlink:href=\"psysml:f6ed6b0e-7205-4bca-ba49-af9a51c8942a\" xlink:show=\"new\" xlink:title=\"psysml:f6ed6b0e-7205-4bca-ba49-af9a51c8942a\" xlink:type=\"simple\"><rect fill=\"#FFFFFF\" height=\"209\" id=\"E7\" rx=\"10\" ry=\"10\" style=\"stroke: #383838; stroke-width: 1.5;\" width=\"213\" x=\"593\" y=\"49\"/><rect fill=\"#F8F8F8\" height=\"23.9688\" rx=\"10\" ry=\"10\" style=\"stroke: #F8F8F8; stroke-width: 1.5;\" width=\"213\" x=\"593\" y=\"49\"/><rect fill=\"#F8F8F8\" height=\"10\" style=\"stroke: #F8F8F8; stroke-width: 1.5;\" width=\"213\" x=\"593\" y=\"62.9688\"/><rect fill=\"none\" height=\"209\" id=\"E7\" rx=\"10\" ry=\"10\" style=\"stroke: #383838; stroke-width: 1.5;\" width=\"213\" x=\"593\" y=\"49\"/><text fill=\"#000000\" font-family=\"sans-serif\" font-size=\"12\" lengthAdjust=\"spacingAndGlyphs\" textLength=\"8\" x=\"695.5\" y=\"65.1387\">q</text><line style=\"stroke: #383838; stroke-width: 1.0;\" x1=\"593\" x2=\"806\" y1=\"72.9688\" y2=\"72.9688\"/></a><!--MD5=[55dfccfc6c49c2d10cd1bd2211a6c90c]\n",
       "cluster E8--><a href=\"psysml:dc92139c-b950-485f-92a5-3d6f837d8293\" target=\"_top\" title=\"psysml:dc92139c-b950-485f-92a5-3d6f837d8293\" xlink:actuate=\"onRequest\" xlink:href=\"psysml:dc92139c-b950-485f-92a5-3d6f837d8293\" xlink:show=\"new\" xlink:title=\"psysml:dc92139c-b950-485f-92a5-3d6f837d8293\" xlink:type=\"simple\"><rect fill=\"#FFFFFF\" height=\"126\" id=\"E8\" rx=\"10\" ry=\"10\" style=\"stroke: #383838; stroke-width: 1.5;\" width=\"149\" x=\"625\" y=\"100\"/><rect fill=\"#F8F8F8\" height=\"37.9375\" rx=\"10\" ry=\"10\" style=\"stroke: #F8F8F8; stroke-width: 1.5;\" width=\"149\" x=\"625\" y=\"100\"/><rect fill=\"#F8F8F8\" height=\"10\" style=\"stroke: #F8F8F8; stroke-width: 1.5;\" width=\"149\" x=\"625\" y=\"127.9375\"/><rect fill=\"none\" height=\"126\" id=\"E8\" rx=\"10\" ry=\"10\" style=\"stroke: #383838; stroke-width: 1.5;\" width=\"149\" x=\"625\" y=\"100\"/><text fill=\"#000000\" font-family=\"sans-serif\" font-size=\"12\" font-style=\"italic\" lengthAdjust=\"spacingAndGlyphs\" textLength=\"91\" x=\"654\" y=\"116.1387\">«requirement»</text><text fill=\"#000000\" font-family=\"sans-serif\" font-size=\"12\" lengthAdjust=\"spacingAndGlyphs\" textLength=\"21\" x=\"689\" y=\"130.1074\">r: R</text><line style=\"stroke: #383838; stroke-width: 1.0;\" x1=\"625\" x2=\"774\" y1=\"137.9375\" y2=\"137.9375\"/></a><g id=\"E1.E2\"><a href=\"psysml:a1b28860-c9a8-4d37-931e-31ae0c14540e\" target=\"_top\" title=\"psysml:a1b28860-c9a8-4d37-931e-31ae0c14540e\" xlink:actuate=\"onRequest\" xlink:href=\"psysml:a1b28860-c9a8-4d37-931e-31ae0c14540e\" xlink:show=\"new\" xlink:title=\"psysml:a1b28860-c9a8-4d37-931e-31ae0c14540e\" xlink:type=\"simple\"><rect fill=\"#FFFFFF\" height=\"42.9375\" id=\"E2\" style=\"stroke: #383838; stroke-width: 1.5;\" width=\"109\" x=\"467.5\" y=\"159\"/><rect fill=\"#F8F8F8\" height=\"37.9375\" style=\"stroke: #383838; stroke-width: 1.5;\" width=\"109\" x=\"467.5\" y=\"159\"/><text fill=\"#000000\" font-family=\"sans-serif\" font-size=\"12\" font-style=\"italic\" lengthAdjust=\"spacingAndGlyphs\" textLength=\"102\" x=\"471\" y=\"175.1387\">«constraint def»</text><text fill=\"#000000\" font-family=\"sans-serif\" font-size=\"12\" lengthAdjust=\"spacingAndGlyphs\" textLength=\"8\" x=\"518\" y=\"189.1074\">C</text></a></g><g id=\"E1.E4\"><a href=\"psysml:a2742730-9bdb-48ea-a333-70a51cef011c\" target=\"_top\" title=\"psysml:a2742730-9bdb-48ea-a333-70a51cef011c\" xlink:actuate=\"onRequest\" xlink:href=\"psysml:a2742730-9bdb-48ea-a333-70a51cef011c\" xlink:show=\"new\" xlink:title=\"psysml:a2742730-9bdb-48ea-a333-70a51cef011c\" xlink:type=\"simple\"><rect fill=\"#FFFFFF\" height=\"42.9375\" id=\"E4\" style=\"stroke: #383838; stroke-width: 1.5;\" width=\"122\" x=\"310\" y=\"159\"/><rect fill=\"#F8F8F8\" height=\"37.9375\" style=\"stroke: #383838; stroke-width: 1.5;\" width=\"122\" x=\"310\" y=\"159\"/><text fill=\"#000000\" font-family=\"sans-serif\" font-size=\"12\" font-style=\"italic\" lengthAdjust=\"spacingAndGlyphs\" textLength=\"115\" x=\"313.5\" y=\"175.1387\">«requirement def»</text><text fill=\"#000000\" font-family=\"sans-serif\" font-size=\"12\" lengthAdjust=\"spacingAndGlyphs\" textLength=\"8\" x=\"367\" y=\"189.1074\">R</text></a></g><g id=\"E1.E5\"><a href=\"psysml:ec52d3df-f8e8-4ac5-95c0-bf3447feb8a5\" target=\"_top\" title=\"psysml:ec52d3df-f8e8-4ac5-95c0-bf3447feb8a5\" xlink:actuate=\"onRequest\" xlink:href=\"psysml:ec52d3df-f8e8-4ac5-95c0-bf3447feb8a5\" xlink:show=\"new\" xlink:title=\"psysml:ec52d3df-f8e8-4ac5-95c0-bf3447feb8a5\" xlink:type=\"simple\"><rect fill=\"#FFFFFF\" height=\"42.9375\" id=\"E5\" style=\"stroke: #383838; stroke-width: 1.5;\" width=\"122\" x=\"153\" y=\"159\"/><rect fill=\"#F8F8F8\" height=\"37.9375\" style=\"stroke: #383838; stroke-width: 1.5;\" width=\"122\" x=\"153\" y=\"159\"/><text fill=\"#000000\" font-family=\"sans-serif\" font-size=\"12\" font-style=\"italic\" lengthAdjust=\"spacingAndGlyphs\" textLength=\"115\" x=\"156.5\" y=\"175.1387\">«requirement def»</text><text fill=\"#000000\" font-family=\"sans-serif\" font-size=\"12\" lengthAdjust=\"spacingAndGlyphs\" textLength=\"16\" x=\"206\" y=\"189.1074\">R1</text></a></g><g id=\"E1.E3\"><a href=\"psysml:4f6724e1-6261-429d-9c16-1831387bac9b\" target=\"_top\" title=\"psysml:4f6724e1-6261-429d-9c16-1831387bac9b\" xlink:actuate=\"onRequest\" xlink:href=\"psysml:4f6724e1-6261-429d-9c16-1831387bac9b\" xlink:show=\"new\" xlink:title=\"psysml:4f6724e1-6261-429d-9c16-1831387bac9b\" xlink:type=\"simple\"><rect fill=\"#FFFFFF\" height=\"42.9375\" id=\"E3\" rx=\"10\" ry=\"10\" style=\"stroke: #383838; stroke-width: 1.5;\" width=\"85\" x=\"32.5\" y=\"159\"/><rect fill=\"#F8F8F8\" height=\"37.9375\" rx=\"10\" ry=\"10\" style=\"stroke: #F8F8F8; stroke-width: 1.5;\" width=\"85\" x=\"32.5\" y=\"159\"/><rect fill=\"#F8F8F8\" height=\"10\" style=\"stroke: #F8F8F8; stroke-width: 1.5;\" width=\"85\" x=\"32.5\" y=\"186.9375\"/><rect fill=\"none\" height=\"42.9375\" id=\"E3\" rx=\"10\" ry=\"10\" style=\"stroke: #383838; stroke-width: 1.5;\" width=\"85\" x=\"32.5\" y=\"159\"/><text fill=\"#000000\" font-family=\"sans-serif\" font-size=\"12\" font-style=\"italic\" lengthAdjust=\"spacingAndGlyphs\" textLength=\"78\" x=\"36\" y=\"175.1387\">«constraint»</text><text fill=\"#000000\" font-family=\"sans-serif\" font-size=\"12\" lengthAdjust=\"spacingAndGlyphs\" textLength=\"23\" x=\"63.5\" y=\"189.1074\">c: C</text></a></g><g id=\"E1.E6\"><a href=\"psysml:b85d82e7-3bb2-4c49-b03c-5a9b3c771643\" target=\"_top\" title=\"psysml:b85d82e7-3bb2-4c49-b03c-5a9b3c771643\" xlink:actuate=\"onRequest\" xlink:href=\"psysml:b85d82e7-3bb2-4c49-b03c-5a9b3c771643\" xlink:show=\"new\" xlink:title=\"psysml:b85d82e7-3bb2-4c49-b03c-5a9b3c771643\" xlink:type=\"simple\"><rect fill=\"#FFFFFF\" height=\"40\" id=\"E6\" rx=\"10\" ry=\"10\" style=\"stroke: #383838; stroke-width: 1.5;\" width=\"50\" x=\"608\" y=\"299\"/><rect fill=\"#F8F8F8\" height=\"23.9688\" rx=\"10\" ry=\"10\" style=\"stroke: #F8F8F8; stroke-width: 1.5;\" width=\"50\" x=\"608\" y=\"299\"/><rect fill=\"#F8F8F8\" height=\"10\" style=\"stroke: #F8F8F8; stroke-width: 1.5;\" width=\"50\" x=\"608\" y=\"312.9688\"/><rect fill=\"none\" height=\"40\" id=\"E6\" rx=\"10\" ry=\"10\" style=\"stroke: #383838; stroke-width: 1.5;\" width=\"50\" x=\"608\" y=\"299\"/><text fill=\"#000000\" font-family=\"sans-serif\" font-size=\"12\" lengthAdjust=\"spacingAndGlyphs\" textLength=\"8\" x=\"629\" y=\"315.1387\">p</text></a></g><g id=\"E1.E7.E8.E9\"><a href=\"psysml:aab203df-2e20-42f3-8553-8efa379fea2d\" target=\"_top\" title=\"psysml:aab203df-2e20-42f3-8553-8efa379fea2d\" xlink:actuate=\"onRequest\" xlink:href=\"psysml:aab203df-2e20-42f3-8553-8efa379fea2d\" xlink:show=\"new\" xlink:title=\"psysml:aab203df-2e20-42f3-8553-8efa379fea2d\" xlink:type=\"simple\"><rect fill=\"#FFFFFF\" height=\"42.9375\" id=\"E9\" rx=\"10\" ry=\"10\" style=\"stroke: #383838; stroke-width: 1.5;\" width=\"82\" x=\"668\" y=\"159\"/><rect fill=\"#F8F8F8\" height=\"37.9375\" rx=\"10\" ry=\"10\" style=\"stroke: #F8F8F8; stroke-width: 1.5;\" width=\"82\" x=\"668\" y=\"159\"/><rect fill=\"#F8F8F8\" height=\"10\" style=\"stroke: #F8F8F8; stroke-width: 1.5;\" width=\"82\" x=\"668\" y=\"186.9375\"/><rect fill=\"none\" height=\"42.9375\" id=\"E9\" rx=\"10\" ry=\"10\" style=\"stroke: #383838; stroke-width: 1.5;\" width=\"82\" x=\"668\" y=\"159\"/><text fill=\"#000000\" font-family=\"sans-serif\" font-size=\"12\" font-style=\"italic\" lengthAdjust=\"spacingAndGlyphs\" textLength=\"75\" x=\"671.5\" y=\"175.1387\">«reference»</text><text fill=\"#000000\" font-family=\"sans-serif\" font-size=\"12\" lengthAdjust=\"spacingAndGlyphs\" textLength=\"26\" x=\"696\" y=\"189.1074\">subj</text></a></g><!--MD5=[c5e8897d989ce984f93528998a7150fe]\n",
       "link E8 to E6--><a href=\"psysml:ed40ce07-1501-496b-adae-3639fe39f1e8\" target=\"_top\" title=\"psysml:ed40ce07-1501-496b-adae-3639fe39f1e8\" xlink:actuate=\"onRequest\" xlink:href=\"psysml:ed40ce07-1501-496b-adae-3639fe39f1e8\" xlink:show=\"new\" xlink:title=\"psysml:ed40ce07-1501-496b-adae-3639fe39f1e8\" xlink:type=\"simple\"><path d=\"M633,226.1903 C633,226.407 633,226.6239 633,226.8411 C633,230.3156 633,233.8453 633,237.375 C633,265.6125 633,293.85 633,293.85 \" fill=\"none\" id=\"E8-&gt;E6\" style=\"stroke: #383838; stroke-width: 1.0; stroke-dasharray: 7.0,7.0;\"/><polygon fill=\"#383838\" points=\"633,298.85,637,289.85,633,293.85,629,289.85,633,298.85\" style=\"stroke: #383838; stroke-width: 1.0;\"/><text fill=\"#000000\" font-family=\"sans-serif\" font-size=\"13\" lengthAdjust=\"spacingAndGlyphs\" textLength=\"57\" x=\"634\" y=\"287.0669\">«satisfy»</text></a><!--MD5=[0d30cfb3a68dcb9d6c86ca9167704be2]\n",
       "@startuml\r\n",
       "skinparam ranksep 8\r\n",
       "skinparam rectangle {\r\n",
       " backgroundColor<<block>> LightGreen\r\n",
       "}\r\n",
       "skinparam linetype ortho\r\n",
       "skinparam monochrome true\r\n",
       "skinparam classbackgroundcolor white\r\n",
       "skinparam shadowing false\r\n",
       "skinparam wrapWidth 300\r\n",
       "hide circle\r\n",
       "\r\n",
       "package \"RequirementTest\" as E1  [[psysml:32d2418d-b451-4172-b0c3-f203713ef4c8 ]]  {\r\n",
       "def \"C\" as E2  <<(T,blue)constraint def>> [[psysml:a1b28860-c9a8-4d37-931e-31ae0c14540e ]] \r\n",
       "rec usage \"c: C\" as E3  <<(T,blue)constraint>> [[psysml:4f6724e1-6261-429d-9c16-1831387bac9b ]] {\r\n",
       "}\r\n",
       "def \"R\" as E4  <<(T,blue)requirement def>> [[psysml:a2742730-9bdb-48ea-a333-70a51cef011c ]] \r\n",
       "def \"R1\" as E5  <<(T,blue)requirement def>> [[psysml:ec52d3df-f8e8-4ac5-95c0-bf3447feb8a5 ]] \r\n",
       "rec usage \"p\" as E6  [[psysml:b85d82e7-3bb2-4c49-b03c-5a9b3c771643 ]] {\r\n",
       "}\r\n",
       "rec usage \"q\" as E7  [[psysml:f6ed6b0e-7205-4bca-ba49-af9a51c8942a ]] {\r\n",
       "rec usage \"r: R\" as E8  <<(T,blue)requirement>> [[psysml:dc92139c-b950-485f-92a5-3d6f837d8293 ]] {\r\n",
       "rec usage \"subj\" as E9  <<(T,blue)reference>> [[psysml:aab203df-2e20-42f3-8553-8efa379fea2d ]] {\r\n",
       "}\r\n",
       "}\r\n",
       "}\r\n",
       "E8 ..> E6 [[psysml:ed40ce07-1501-496b-adae-3639fe39f1e8 ]] : <<satisfy>>\r\n",
       "}\r\n",
       "@enduml\r\n",
       "\n",
       "PlantUML version 1.2020.13(Sat Jun 13 12:26:38 UTC 2020)\n",
       "(EPL source distribution)\n",
       "Java Runtime: OpenJDK Runtime Environment\n",
       "JVM: OpenJDK 64-Bit Server VM\n",
       "Default Encoding: UTF-8\n",
       "Language: en\n",
       "Country: null\n",
       "--></g></svg>"
      ]
     },
     "execution_count": 54,
     "metadata": {},
     "output_type": "execute_result"
    }
   ],
   "source": [
    "%viz --style=\"ORTHOLINE\" --view=\"Interconnection\" \"RequirementTest\""
   ]
  },
  {
   "cell_type": "code",
   "execution_count": 55,
   "id": "fixed-knitting",
   "metadata": {
    "execution": {
     "iopub.execute_input": "2021-03-26T13:01:11.977922Z",
     "iopub.status.busy": "2021-03-26T13:01:11.977550Z",
     "iopub.status.idle": "2021-03-26T13:01:11.982962Z",
     "shell.execute_reply": "2021-03-26T13:01:11.982624Z"
    }
   },
   "outputs": [
    {
     "data": {
      "image/svg+xml": [
       "<?xml version=\"1.0\" encoding=\"UTF-8\" standalone=\"no\"?><svg xmlns=\"http://www.w3.org/2000/svg\" xmlns:xlink=\"http://www.w3.org/1999/xlink\" contentScriptType=\"application/ecmascript\" contentStyleType=\"text/css\" height=\"12px\" preserveAspectRatio=\"none\" style=\"width:12px;height:12px;\" version=\"1.1\" viewBox=\"0 0 12 12\" width=\"12px\" zoomAndPan=\"magnify\"><defs/><g><!--MD5=[72934c63077099a26744516a776b4749]\n",
       "@startuml\r\n",
       "skinparam ranksep 8\r\n",
       "skinparam linetype ortho\r\n",
       "skinparam monochrome true\r\n",
       "skinparam classbackgroundcolor white\r\n",
       "skinparam shadowing false\r\n",
       "skinparam wrapWidth 300\r\n",
       "hide circle\r\n",
       "\r\n",
       "@enduml\r\n",
       "\n",
       "PlantUML version 1.2020.13(Sat Jun 13 12:26:38 UTC 2020)\n",
       "(EPL source distribution)\n",
       "Java Runtime: OpenJDK Runtime Environment\n",
       "JVM: OpenJDK 64-Bit Server VM\n",
       "Default Encoding: UTF-8\n",
       "Language: en\n",
       "Country: null\n",
       "--></g></svg>"
      ]
     },
     "execution_count": 55,
     "metadata": {},
     "output_type": "execute_result"
    }
   ],
   "source": [
    "%viz --style=\"ORTHOLINE\" --view=\"Action\" \"RequirementTest\""
   ]
  },
  {
   "cell_type": "code",
   "execution_count": 56,
   "id": "experimental-technician",
   "metadata": {
    "execution": {
     "iopub.execute_input": "2021-03-26T13:01:12.035299Z",
     "iopub.status.busy": "2021-03-26T13:01:12.033688Z",
     "iopub.status.idle": "2021-03-26T13:01:12.119272Z",
     "shell.execute_reply": "2021-03-26T13:01:12.117861Z"
    }
   },
   "outputs": [
    {
     "data": {
      "image/svg+xml": [
       "<?xml version=\"1.0\" encoding=\"UTF-8\" standalone=\"no\"?><svg xmlns=\"http://www.w3.org/2000/svg\" xmlns:xlink=\"http://www.w3.org/1999/xlink\" contentScriptType=\"application/ecmascript\" contentStyleType=\"text/css\" height=\"578px\" preserveAspectRatio=\"none\" style=\"width:408px;height:578px;\" version=\"1.1\" viewBox=\"0 0 408 578\" width=\"408px\" zoomAndPan=\"magnify\"><defs/><g><!--MD5=[fbc87193dbaf4d95561dea2c320d4a47]\n",
       "cluster E1--><a href=\"psysml:32d2418d-b451-4172-b0c3-f203713ef4c8\" target=\"_top\" title=\"psysml:32d2418d-b451-4172-b0c3-f203713ef4c8\" xlink:actuate=\"onRequest\" xlink:href=\"psysml:32d2418d-b451-4172-b0c3-f203713ef4c8\" xlink:show=\"new\" xlink:title=\"psysml:32d2418d-b451-4172-b0c3-f203713ef4c8\" xlink:type=\"simple\"><polygon fill=\"#FFFFFF\" points=\"16,6,158,6,165,28.2969,386,28.2969,386,566,16,566,16,6\" style=\"stroke: #000000; stroke-width: 1.5;\"/><line style=\"stroke: #000000; stroke-width: 1.5;\" x1=\"16\" x2=\"165\" y1=\"28.2969\" y2=\"28.2969\"/><text fill=\"#000000\" font-family=\"sans-serif\" font-size=\"14\" font-weight=\"bold\" lengthAdjust=\"spacingAndGlyphs\" textLength=\"136\" x=\"20\" y=\"20.9951\">RequirementTest</text></a><!--MD5=[b4997ac47864f28c2f74865a473b2911]\n",
       "class E2--><a href=\"psysml:a1b28860-c9a8-4d37-931e-31ae0c14540e\" target=\"_top\" title=\"psysml:a1b28860-c9a8-4d37-931e-31ae0c14540e\" xlink:actuate=\"onRequest\" xlink:href=\"psysml:a1b28860-c9a8-4d37-931e-31ae0c14540e\" xlink:show=\"new\" xlink:title=\"psysml:a1b28860-c9a8-4d37-931e-31ae0c14540e\" xlink:type=\"simple\"><rect fill=\"#FFFFFF\" height=\"45.9375\" id=\"E2\" style=\"stroke: #383838; stroke-width: 1.5;\" width=\"104\" x=\"266\" y=\"190\"/><text fill=\"#000000\" font-family=\"sans-serif\" font-size=\"12\" font-style=\"italic\" lengthAdjust=\"spacingAndGlyphs\" textLength=\"102\" x=\"267\" y=\"206.1387\">«constraint def»</text><text fill=\"#000000\" font-family=\"sans-serif\" font-size=\"12\" lengthAdjust=\"spacingAndGlyphs\" textLength=\"8\" x=\"314\" y=\"220.1074\">C</text><line style=\"stroke: #383838; stroke-width: 1.5;\" x1=\"267\" x2=\"369\" y1=\"227.9375\" y2=\"227.9375\"/></a><!--MD5=[09b614a08d8cba4a07c9adeb5e0fee81]\n",
       "class E3--><a href=\"psysml:4f6724e1-6261-429d-9c16-1831387bac9b\" target=\"_top\" title=\"psysml:4f6724e1-6261-429d-9c16-1831387bac9b\" xlink:actuate=\"onRequest\" xlink:href=\"psysml:4f6724e1-6261-429d-9c16-1831387bac9b\" xlink:show=\"new\" xlink:title=\"psysml:4f6724e1-6261-429d-9c16-1831387bac9b\" xlink:type=\"simple\"><rect fill=\"#FFFFFF\" height=\"45.9375\" id=\"E3\" rx=\"10\" ry=\"10\" style=\"stroke: #383838; stroke-width: 1.5;\" width=\"80\" x=\"290\" y=\"62\"/><text fill=\"#000000\" font-family=\"sans-serif\" font-size=\"12\" font-style=\"italic\" lengthAdjust=\"spacingAndGlyphs\" textLength=\"78\" x=\"291\" y=\"78.1387\">«constraint»</text><text fill=\"#000000\" font-family=\"sans-serif\" font-size=\"12\" lengthAdjust=\"spacingAndGlyphs\" textLength=\"23\" x=\"318.5\" y=\"92.1074\">c: C</text><line style=\"stroke: #383838; stroke-width: 1.5;\" x1=\"291\" x2=\"369\" y1=\"99.9375\" y2=\"99.9375\"/></a><!--MD5=[ebbe1d658d1005bcc118a6aa81145e00]\n",
       "class E4--><a href=\"psysml:a2742730-9bdb-48ea-a333-70a51cef011c\" target=\"_top\" title=\"psysml:a2742730-9bdb-48ea-a333-70a51cef011c\" xlink:actuate=\"onRequest\" xlink:href=\"psysml:a2742730-9bdb-48ea-a333-70a51cef011c\" xlink:show=\"new\" xlink:title=\"psysml:a2742730-9bdb-48ea-a333-70a51cef011c\" xlink:type=\"simple\"><rect fill=\"#FFFFFF\" height=\"109.1563\" id=\"E4\" style=\"stroke: #383838; stroke-width: 1.5;\" width=\"117\" x=\"32.5\" y=\"313\"/><text fill=\"#000000\" font-family=\"sans-serif\" font-size=\"12\" font-style=\"italic\" lengthAdjust=\"spacingAndGlyphs\" textLength=\"115\" x=\"33.5\" y=\"329.1387\">«requirement def»</text><text fill=\"#000000\" font-family=\"sans-serif\" font-size=\"12\" lengthAdjust=\"spacingAndGlyphs\" textLength=\"8\" x=\"87\" y=\"343.1074\">R</text><line style=\"stroke: #383838; stroke-width: 1.5;\" x1=\"33.5\" x2=\"148.5\" y1=\"350.9375\" y2=\"350.9375\"/><text fill=\"#000000\" font-family=\"sans-serif\" font-size=\"11\" lengthAdjust=\"spacingAndGlyphs\" textLength=\"0\" x=\"42.5\" y=\"365.1479\"/><line style=\"stroke: #383838; stroke-width: 1.0;\" x1=\"33.5\" x2=\"148.5\" y1=\"371.7422\" y2=\"371.7422\"/><text fill=\"#000000\" font-family=\"sans-serif\" font-size=\"11\" font-weight=\"bold\" lengthAdjust=\"spacingAndGlyphs\" textLength=\"46\" x=\"38.5\" y=\"402.7573\">require</text><text fill=\"#000000\" font-family=\"sans-serif\" font-size=\"11\" lengthAdjust=\"spacingAndGlyphs\" textLength=\"6\" x=\"88.5\" y=\"402.7573\">c</text><text fill=\"#000000\" font-family=\"sans-serif\" font-size=\"11\" font-style=\"italic\" lengthAdjust=\"spacingAndGlyphs\" textLength=\"46\" x=\"38.5\" y=\"415.562\">assume</text><text fill=\"#000000\" font-family=\"sans-serif\" font-size=\"11\" lengthAdjust=\"spacingAndGlyphs\" textLength=\"29\" x=\"88.5\" y=\"415.562\">c1: C</text><line style=\"stroke: #383838; stroke-width: 1.0;\" x1=\"33.5\" x2=\"59\" y1=\"386.1445\" y2=\"386.1445\"/><text fill=\"#000000\" font-family=\"sans-serif\" font-size=\"11\" lengthAdjust=\"spacingAndGlyphs\" textLength=\"64\" x=\"59\" y=\"389.4526\">constraints</text><line style=\"stroke: #383838; stroke-width: 1.0;\" x1=\"123\" x2=\"148.5\" y1=\"386.1445\" y2=\"386.1445\"/></a><!--MD5=[270fce915f116d4de14055a7c1d9a0f3]\n",
       "class E5--><a href=\"psysml:56458fbc-ce11-45ea-8fa2-2092e0cfc05c\" target=\"_top\" title=\"psysml:56458fbc-ce11-45ea-8fa2-2092e0cfc05c\" xlink:actuate=\"onRequest\" xlink:href=\"psysml:56458fbc-ce11-45ea-8fa2-2092e0cfc05c\" xlink:show=\"new\" xlink:title=\"psysml:56458fbc-ce11-45ea-8fa2-2092e0cfc05c\" xlink:type=\"simple\"><rect fill=\"#FFFFFF\" height=\"66.7422\" id=\"E5\" style=\"stroke: #383838; stroke-width: 1.5;\" width=\"117\" x=\"32.5\" y=\"483\"/><text fill=\"#000000\" font-family=\"sans-serif\" font-size=\"12\" font-style=\"italic\" lengthAdjust=\"spacingAndGlyphs\" textLength=\"115\" x=\"33.5\" y=\"499.1387\">«requirement def»</text><text fill=\"#000000\" font-family=\"sans-serif\" font-size=\"12\" lengthAdjust=\"spacingAndGlyphs\" textLength=\"5\" x=\"78\" y=\"513.1074\">[</text><text fill=\"#000000\" font-family=\"sans-serif\" font-size=\"12\" font-weight=\"bold\" lengthAdjust=\"spacingAndGlyphs\" textLength=\"8\" x=\"83\" y=\"513.1074\">1</text><text fill=\"#000000\" font-family=\"sans-serif\" font-size=\"12\" lengthAdjust=\"spacingAndGlyphs\" textLength=\"17\" x=\"91\" y=\"513.1074\">] A</text><line style=\"stroke: #383838; stroke-width: 1.5;\" x1=\"33.5\" x2=\"148.5\" y1=\"520.9375\" y2=\"520.9375\"/><text fill=\"#000000\" font-family=\"sans-serif\" font-size=\"11\" lengthAdjust=\"spacingAndGlyphs\" textLength=\"24\" x=\"38.5\" y=\"535.1479\">Text</text><line style=\"stroke: #383838; stroke-width: 1.0;\" x1=\"33.5\" x2=\"148.5\" y1=\"541.7422\" y2=\"541.7422\"/></a><!--MD5=[b9389687b975829384b498ac4b7476b2]\n",
       "class E8--><a href=\"psysml:72b41e7b-9298-4fd0-92ac-738cc777b35a\" target=\"_top\" title=\"psysml:72b41e7b-9298-4fd0-92ac-738cc777b35a\" xlink:actuate=\"onRequest\" xlink:href=\"psysml:72b41e7b-9298-4fd0-92ac-738cc777b35a\" xlink:show=\"new\" xlink:title=\"psysml:72b41e7b-9298-4fd0-92ac-738cc777b35a\" xlink:type=\"simple\"><rect fill=\"#FFFFFF\" height=\"45.9375\" id=\"E8\" rx=\"10\" ry=\"10\" style=\"stroke: #383838; stroke-width: 1.5;\" width=\"93\" x=\"184.5\" y=\"493.5\"/><text fill=\"#000000\" font-family=\"sans-serif\" font-size=\"12\" font-style=\"italic\" lengthAdjust=\"spacingAndGlyphs\" textLength=\"91\" x=\"185.5\" y=\"509.6387\">«requirement»</text><text fill=\"#000000\" font-family=\"sans-serif\" font-size=\"12\" lengthAdjust=\"spacingAndGlyphs\" text-decoration=\"line-through\" textLength=\"51\" x=\"205.5\" y=\"523.6074\">noname</text><line style=\"stroke: #383838; stroke-width: 1.5;\" x1=\"185.5\" x2=\"276.5\" y1=\"531.4375\" y2=\"531.4375\"/></a><!--MD5=[fd4143e9d270a159db93a4ea2a975926]\n",
       "class E9--><a href=\"psysml:ec52d3df-f8e8-4ac5-95c0-bf3447feb8a5\" target=\"_top\" title=\"psysml:ec52d3df-f8e8-4ac5-95c0-bf3447feb8a5\" xlink:actuate=\"onRequest\" xlink:href=\"psysml:ec52d3df-f8e8-4ac5-95c0-bf3447feb8a5\" xlink:show=\"new\" xlink:title=\"psysml:ec52d3df-f8e8-4ac5-95c0-bf3447feb8a5\" xlink:type=\"simple\"><rect fill=\"#FFFFFF\" height=\"88.3516\" id=\"E9\" style=\"stroke: #383838; stroke-width: 1.5;\" width=\"145\" x=\"109.5\" y=\"41\"/><text fill=\"#000000\" font-family=\"sans-serif\" font-size=\"12\" font-style=\"italic\" lengthAdjust=\"spacingAndGlyphs\" textLength=\"115\" x=\"124.5\" y=\"57.1387\">«requirement def»</text><text fill=\"#000000\" font-family=\"sans-serif\" font-size=\"12\" lengthAdjust=\"spacingAndGlyphs\" textLength=\"16\" x=\"174\" y=\"71.1074\">R1</text><line style=\"stroke: #383838; stroke-width: 1.5;\" x1=\"110.5\" x2=\"253.5\" y1=\"78.9375\" y2=\"78.9375\"/><text fill=\"#000000\" font-family=\"sans-serif\" font-size=\"11\" font-weight=\"bold\" lengthAdjust=\"spacingAndGlyphs\" textLength=\"46\" x=\"115.5\" y=\"109.9526\">require</text><text fill=\"#000000\" font-family=\"sans-serif\" font-size=\"11\" lengthAdjust=\"spacingAndGlyphs\" textLength=\"13\" x=\"165.5\" y=\"109.9526\">c1</text><text fill=\"#000000\" font-family=\"sans-serif\" font-size=\"11\" font-style=\"italic\" lengthAdjust=\"spacingAndGlyphs\" textLength=\"133\" x=\"115.5\" y=\"122.7573\">:&gt;&gt;RequirementTest::c</text><line style=\"stroke: #383838; stroke-width: 1.0;\" x1=\"110.5\" x2=\"150\" y1=\"93.3398\" y2=\"93.3398\"/><text fill=\"#000000\" font-family=\"sans-serif\" font-size=\"11\" lengthAdjust=\"spacingAndGlyphs\" textLength=\"64\" x=\"150\" y=\"96.6479\">constraints</text><line style=\"stroke: #383838; stroke-width: 1.0;\" x1=\"214\" x2=\"253.5\" y1=\"93.3398\" y2=\"93.3398\"/></a><!--MD5=[1dd1bfd58a279cf63c5f349dbc8fc6a1]\n",
       "class E11--><a href=\"psysml:b85d82e7-3bb2-4c49-b03c-5a9b3c771643\" target=\"_top\" title=\"psysml:b85d82e7-3bb2-4c49-b03c-5a9b3c771643\" xlink:actuate=\"onRequest\" xlink:href=\"psysml:b85d82e7-3bb2-4c49-b03c-5a9b3c771643\" xlink:show=\"new\" xlink:title=\"psysml:b85d82e7-3bb2-4c49-b03c-5a9b3c771643\" xlink:type=\"simple\"><rect fill=\"#FFFFFF\" height=\"45.9375\" id=\"E11\" rx=\"10\" ry=\"10\" style=\"stroke: #383838; stroke-width: 1.5;\" width=\"42\" x=\"185\" y=\"344.5\"/><text fill=\"#000000\" font-family=\"sans-serif\" font-size=\"12\" font-style=\"italic\" lengthAdjust=\"spacingAndGlyphs\" textLength=\"40\" x=\"186\" y=\"360.6387\">«part»</text><text fill=\"#000000\" font-family=\"sans-serif\" font-size=\"12\" lengthAdjust=\"spacingAndGlyphs\" textLength=\"8\" x=\"202\" y=\"374.6074\">p</text><line style=\"stroke: #383838; stroke-width: 1.5;\" x1=\"186\" x2=\"226\" y1=\"382.4375\" y2=\"382.4375\"/></a><!--MD5=[49a0ec8f00dab7302a31f22d0f0fe584]\n",
       "class E12--><a href=\"psysml:f6ed6b0e-7205-4bca-ba49-af9a51c8942a\" target=\"_top\" title=\"psysml:f6ed6b0e-7205-4bca-ba49-af9a51c8942a\" xlink:actuate=\"onRequest\" xlink:href=\"psysml:f6ed6b0e-7205-4bca-ba49-af9a51c8942a\" xlink:show=\"new\" xlink:title=\"psysml:f6ed6b0e-7205-4bca-ba49-af9a51c8942a\" xlink:type=\"simple\"><rect fill=\"#FFFFFF\" height=\"45.9375\" id=\"E12\" rx=\"10\" ry=\"10\" style=\"stroke: #383838; stroke-width: 1.5;\" width=\"42\" x=\"32\" y=\"62\"/><text fill=\"#000000\" font-family=\"sans-serif\" font-size=\"12\" font-style=\"italic\" lengthAdjust=\"spacingAndGlyphs\" textLength=\"40\" x=\"33\" y=\"78.1387\">«part»</text><text fill=\"#000000\" font-family=\"sans-serif\" font-size=\"12\" lengthAdjust=\"spacingAndGlyphs\" textLength=\"8\" x=\"49\" y=\"92.1074\">q</text><line style=\"stroke: #383838; stroke-width: 1.5;\" x1=\"33\" x2=\"73\" y1=\"99.9375\" y2=\"99.9375\"/></a><!--MD5=[ee3c913d1a06f366521f9ef512b67efe]\n",
       "class E13--><a href=\"psysml:dc92139c-b950-485f-92a5-3d6f837d8293\" target=\"_top\" title=\"psysml:dc92139c-b950-485f-92a5-3d6f837d8293\" xlink:actuate=\"onRequest\" xlink:href=\"psysml:dc92139c-b950-485f-92a5-3d6f837d8293\" xlink:show=\"new\" xlink:title=\"psysml:dc92139c-b950-485f-92a5-3d6f837d8293\" xlink:type=\"simple\"><rect fill=\"#FFFFFF\" height=\"45.9375\" id=\"E13\" rx=\"10\" ry=\"10\" style=\"stroke: #383838; stroke-width: 1.5;\" width=\"93\" x=\"44.5\" y=\"190\"/><text fill=\"#000000\" font-family=\"sans-serif\" font-size=\"12\" font-style=\"italic\" lengthAdjust=\"spacingAndGlyphs\" textLength=\"91\" x=\"45.5\" y=\"206.1387\">«requirement»</text><text fill=\"#000000\" font-family=\"sans-serif\" font-size=\"12\" lengthAdjust=\"spacingAndGlyphs\" textLength=\"21\" x=\"80.5\" y=\"220.1074\">r: R</text><line style=\"stroke: #383838; stroke-width: 1.5;\" x1=\"45.5\" x2=\"136.5\" y1=\"227.9375\" y2=\"227.9375\"/></a><!--MD5=[05d275557350bfb9b23a4ef7222b4c39]\n",
       "link E3 to E2--><a href=\"psysml:9201001b-4e3f-46f0-8224-89e70f802e39\" target=\"_top\" title=\"psysml:9201001b-4e3f-46f0-8224-89e70f802e39\" xlink:actuate=\"onRequest\" xlink:href=\"psysml:9201001b-4e3f-46f0-8224-89e70f802e39\" xlink:show=\"new\" xlink:title=\"psysml:9201001b-4e3f-46f0-8224-89e70f802e39\" xlink:type=\"simple\"><path d=\"M330,108.18 C330,108.18 330,169.99 330,169.99 \" fill=\"none\" id=\"E3-&gt;E2\" style=\"stroke: #383838; stroke-width: 1.0;\"/><polygon fill=\"#FFFFFF\" points=\"330,189.99,323,170.99,337,170.99,330,189.99\" style=\"stroke: #383838; stroke-width: 1.0;\"/><ellipse cx=\"325\" cy=\"165.29\" fill=\"#383838\" rx=\"2\" ry=\"2\" style=\"stroke: #383838; stroke-width: 1.0;\"/><ellipse cx=\"335\" cy=\"165.29\" fill=\"#383838\" rx=\"2\" ry=\"2\" style=\"stroke: #383838; stroke-width: 1.0;\"/></a><!--MD5=[62aa6af11e70f752912c1cb0466f24f7]\n",
       "reverse link E4 to E5--><a href=\"psysml:56458fbc-ce11-45ea-8fa2-2092e0cfc05c\" target=\"_top\" title=\"psysml:56458fbc-ce11-45ea-8fa2-2092e0cfc05c\" xlink:actuate=\"onRequest\" xlink:href=\"psysml:56458fbc-ce11-45ea-8fa2-2092e0cfc05c\" xlink:show=\"new\" xlink:title=\"psysml:56458fbc-ce11-45ea-8fa2-2092e0cfc05c\" xlink:type=\"simple\"><path d=\"M91,437.14 C91,437.14 91,482.66 91,482.66 \" fill=\"none\" id=\"E4&lt;-E5\" style=\"stroke: #383838; stroke-width: 1.0;\"/><ellipse cx=\"91\" cy=\"430.14\" fill=\"#FFFFFF\" rx=\"8\" ry=\"8\" style=\"stroke: #383838; stroke-width: 1.0;\"/><line style=\"stroke: #383838; stroke-width: 1.0;\" x1=\"91\" x2=\"91\" y1=\"438.14\" y2=\"422.14\"/><line style=\"stroke: #383838; stroke-width: 1.0;\" x1=\"83\" x2=\"99\" y1=\"430.14\" y2=\"430.14\"/></a><!--MD5=[c6fc7cdb0cabde04948078cf183fa696]\n",
       "reverse link E4 to E8--><a href=\"psysml:72b41e7b-9298-4fd0-92ac-738cc777b35a\" target=\"_top\" title=\"psysml:72b41e7b-9298-4fd0-92ac-738cc777b35a\" xlink:actuate=\"onRequest\" xlink:href=\"psysml:72b41e7b-9298-4fd0-92ac-738cc777b35a\" xlink:show=\"new\" xlink:title=\"psysml:72b41e7b-9298-4fd0-92ac-738cc777b35a\" xlink:type=\"simple\"><path d=\"M162.51,407 C162.51,407 206,407 206,407 C206,407 206,461.14 206,493.28 \" fill=\"none\" id=\"E4&lt;-E8\" style=\"stroke: #383838; stroke-width: 1.0;\"/><polygon fill=\"#383838\" points=\"149.51,407,155.51,411,161.51,407,155.51,403,149.51,407\" style=\"stroke: #383838; stroke-width: 1.0;\"/></a><!--MD5=[062ed86c389d1a88f61c6380d0491e17]\n",
       "reverse link E12 to E13--><a href=\"psysml:dc92139c-b950-485f-92a5-3d6f837d8293\" target=\"_top\" title=\"psysml:dc92139c-b950-485f-92a5-3d6f837d8293\" xlink:actuate=\"onRequest\" xlink:href=\"psysml:dc92139c-b950-485f-92a5-3d6f837d8293\" xlink:show=\"new\" xlink:title=\"psysml:dc92139c-b950-485f-92a5-3d6f837d8293\" xlink:type=\"simple\"><path d=\"M59.25,121.18 C59.25,121.18 59.25,189.99 59.25,189.99 \" fill=\"none\" id=\"E12&lt;-E13\" style=\"stroke: #383838; stroke-width: 1.0;\"/><polygon fill=\"#383838\" points=\"59.25,108.18,55.25,114.18,59.25,120.18,63.25,114.18,59.25,108.18\" style=\"stroke: #383838; stroke-width: 1.0;\"/></a><!--MD5=[017847e01ff9a8bd19f247411074f987]\n",
       "link E13 to E4--><a href=\"psysml:84833459-b0b4-497f-8a66-9d75104fb430\" target=\"_top\" title=\"psysml:84833459-b0b4-497f-8a66-9d75104fb430\" xlink:actuate=\"onRequest\" xlink:href=\"psysml:84833459-b0b4-497f-8a66-9d75104fb430\" xlink:show=\"new\" xlink:title=\"psysml:84833459-b0b4-497f-8a66-9d75104fb430\" xlink:type=\"simple\"><path d=\"M91,236.13 C91,236.13 91,292.77 91,292.77 \" fill=\"none\" id=\"E13-&gt;E4\" style=\"stroke: #383838; stroke-width: 1.0;\"/><polygon fill=\"#FFFFFF\" points=\"91,312.77,84,293.77,98,293.77,91,312.77\" style=\"stroke: #383838; stroke-width: 1.0;\"/><ellipse cx=\"86\" cy=\"288.07\" fill=\"#383838\" rx=\"2\" ry=\"2\" style=\"stroke: #383838; stroke-width: 1.0;\"/><ellipse cx=\"96\" cy=\"288.07\" fill=\"#383838\" rx=\"2\" ry=\"2\" style=\"stroke: #383838; stroke-width: 1.0;\"/></a><!--MD5=[2cfe899c895462254056921bfb67315f]\n",
       "link E13 to E11--><a href=\"psysml:ed40ce07-1501-496b-adae-3639fe39f1e8\" target=\"_top\" title=\"psysml:ed40ce07-1501-496b-adae-3639fe39f1e8\" xlink:actuate=\"onRequest\" xlink:href=\"psysml:ed40ce07-1501-496b-adae-3639fe39f1e8\" xlink:show=\"new\" xlink:title=\"psysml:ed40ce07-1501-496b-adae-3639fe39f1e8\" xlink:type=\"simple\"><path d=\"M137.77,213 C169.61,213 206,213 206,213 C206,213 206,339.37 206,339.37 \" fill=\"none\" id=\"E13-&gt;E11\" style=\"stroke: #383838; stroke-width: 1.0; stroke-dasharray: 7.0,7.0;\"/><polygon fill=\"#383838\" points=\"206,344.37,210,335.37,206,339.37,202,335.37,206,344.37\" style=\"stroke: #383838; stroke-width: 1.0;\"/><text fill=\"#000000\" font-family=\"sans-serif\" font-size=\"13\" lengthAdjust=\"spacingAndGlyphs\" textLength=\"57\" x=\"170\" y=\"279.0669\">«satisfy»</text></a><!--MD5=[3729655e7c3d3f50529155863bcdc622]\n",
       "@startuml\r\n",
       "skinparam linetype ortho\r\n",
       "skinparam monochrome true\r\n",
       "skinparam classbackgroundcolor white\r\n",
       "skinparam shadowing false\r\n",
       "skinparam wrapWidth 300\r\n",
       "hide circle\r\n",
       "\r\n",
       "package \"RequirementTest\" as E1  [[psysml:32d2418d-b451-4172-b0c3-f203713ef4c8 ]]  {\r\n",
       "comp def \"C\" as E2  <<(T,blue)constraint def>> [[psysml:a1b28860-c9a8-4d37-931e-31ae0c14540e ]] {\r\n",
       "}\r\n",
       "comp usage \"c: C\" as E3  <<(T,blue)constraint>> [[psysml:4f6724e1-6261-429d-9c16-1831387bac9b ]] {\r\n",
       "}\r\n",
       "comp def \"R\" as E4  <<(T,blue)requirement def>> [[psysml:a2742730-9bdb-48ea-a333-70a51cef011c ]] {\r\n",
       "\r\n",
       "- -\r\n",
       "- - constraints - -\r\n",
       "<b>require</b> c\r\n",
       "<i>assume</i> c1: C\r\n",
       "}\r\n",
       "comp def \" [<b>1</b>] A\" as E5  <<(T,blue)requirement def>> [[psysml:56458fbc-ce11-45ea-8fa2-2092e0cfc05c ]] {\r\n",
       "Text\r\n",
       "- -\r\n",
       "}\r\n",
       "comp usage \"<s>noname</s>\" as E8  <<(T,blue)requirement>> [[psysml:72b41e7b-9298-4fd0-92ac-738cc777b35a ]] {\r\n",
       "}\r\n",
       "comp def \"R1\" as E9  <<(T,blue)requirement def>> [[psysml:ec52d3df-f8e8-4ac5-95c0-bf3447feb8a5 ]] {\r\n",
       "- - constraints - -\r\n",
       "<b>require</b> c1\\n//:>>RequirementTest::c// \r\n",
       "}\r\n",
       "comp usage \"p\" as E11  <<(T,blue)part>> [[psysml:b85d82e7-3bb2-4c49-b03c-5a9b3c771643 ]] {\r\n",
       "}\r\n",
       "comp usage \"q\" as E12  <<(T,blue)part>> [[psysml:f6ed6b0e-7205-4bca-ba49-af9a51c8942a ]] {\r\n",
       "}\r\n",
       "comp usage \"r: R\" as E13  <<(T,blue)requirement>> [[psysml:dc92139c-b950-485f-92a5-3d6f837d8293 ]] {\r\n",
       "}\r\n",
       "E3 - -:|> E2 [[psysml:9201001b-4e3f-46f0-8224-89e70f802e39 ]] \r\n",
       "E4 +- - E5 [[psysml:56458fbc-ce11-45ea-8fa2-2092e0cfc05c ]] \r\n",
       "E4 *- - E8 [[psysml:72b41e7b-9298-4fd0-92ac-738cc777b35a ]] \r\n",
       "E12 *- - E13 [[psysml:dc92139c-b950-485f-92a5-3d6f837d8293 ]] \r\n",
       "E13 - -:|> E4 [[psysml:84833459-b0b4-497f-8a66-9d75104fb430 ]] \r\n",
       "E13 ..> E11 [[psysml:ed40ce07-1501-496b-adae-3639fe39f1e8 ]] : <<satisfy>>\r\n",
       "}\r\n",
       "@enduml\r\n",
       "\n",
       "PlantUML version 1.2020.13(Sat Jun 13 12:26:38 UTC 2020)\n",
       "(EPL source distribution)\n",
       "Java Runtime: OpenJDK Runtime Environment\n",
       "JVM: OpenJDK 64-Bit Server VM\n",
       "Default Encoding: UTF-8\n",
       "Language: en\n",
       "Country: null\n",
       "--></g></svg>"
      ]
     },
     "execution_count": 56,
     "metadata": {},
     "output_type": "execute_result"
    }
   ],
   "source": [
    "%viz --style=\"ORTHOLINE\" --view=\"Sequence\" \"RequirementTest\""
   ]
  },
  {
   "cell_type": "code",
   "execution_count": 57,
   "id": "crude-mailing",
   "metadata": {
    "execution": {
     "iopub.execute_input": "2021-03-26T13:01:12.172110Z",
     "iopub.status.busy": "2021-03-26T13:01:12.171381Z",
     "iopub.status.idle": "2021-03-26T13:01:12.251100Z",
     "shell.execute_reply": "2021-03-26T13:01:12.251413Z"
    }
   },
   "outputs": [
    {
     "data": {
      "image/svg+xml": [
       "<?xml version=\"1.0\" encoding=\"UTF-8\" standalone=\"no\"?><svg xmlns=\"http://www.w3.org/2000/svg\" xmlns:xlink=\"http://www.w3.org/1999/xlink\" contentScriptType=\"application/ecmascript\" contentStyleType=\"text/css\" height=\"578px\" preserveAspectRatio=\"none\" style=\"width:408px;height:578px;\" version=\"1.1\" viewBox=\"0 0 408 578\" width=\"408px\" zoomAndPan=\"magnify\"><defs/><g><!--MD5=[fbc87193dbaf4d95561dea2c320d4a47]\n",
       "cluster E1--><a href=\"psysml:32d2418d-b451-4172-b0c3-f203713ef4c8\" target=\"_top\" title=\"psysml:32d2418d-b451-4172-b0c3-f203713ef4c8\" xlink:actuate=\"onRequest\" xlink:href=\"psysml:32d2418d-b451-4172-b0c3-f203713ef4c8\" xlink:show=\"new\" xlink:title=\"psysml:32d2418d-b451-4172-b0c3-f203713ef4c8\" xlink:type=\"simple\"><polygon fill=\"#FFFFFF\" points=\"16,6,158,6,165,28.2969,386,28.2969,386,566,16,566,16,6\" style=\"stroke: #000000; stroke-width: 1.5;\"/><line style=\"stroke: #000000; stroke-width: 1.5;\" x1=\"16\" x2=\"165\" y1=\"28.2969\" y2=\"28.2969\"/><text fill=\"#000000\" font-family=\"sans-serif\" font-size=\"14\" font-weight=\"bold\" lengthAdjust=\"spacingAndGlyphs\" textLength=\"136\" x=\"20\" y=\"20.9951\">RequirementTest</text></a><!--MD5=[b4997ac47864f28c2f74865a473b2911]\n",
       "class E2--><a href=\"psysml:a1b28860-c9a8-4d37-931e-31ae0c14540e\" target=\"_top\" title=\"psysml:a1b28860-c9a8-4d37-931e-31ae0c14540e\" xlink:actuate=\"onRequest\" xlink:href=\"psysml:a1b28860-c9a8-4d37-931e-31ae0c14540e\" xlink:show=\"new\" xlink:title=\"psysml:a1b28860-c9a8-4d37-931e-31ae0c14540e\" xlink:type=\"simple\"><rect fill=\"#FFFFFF\" height=\"45.9375\" id=\"E2\" style=\"stroke: #383838; stroke-width: 1.5;\" width=\"104\" x=\"266\" y=\"190\"/><text fill=\"#000000\" font-family=\"sans-serif\" font-size=\"12\" font-style=\"italic\" lengthAdjust=\"spacingAndGlyphs\" textLength=\"102\" x=\"267\" y=\"206.1387\">«constraint def»</text><text fill=\"#000000\" font-family=\"sans-serif\" font-size=\"12\" lengthAdjust=\"spacingAndGlyphs\" textLength=\"8\" x=\"314\" y=\"220.1074\">C</text><line style=\"stroke: #383838; stroke-width: 1.5;\" x1=\"267\" x2=\"369\" y1=\"227.9375\" y2=\"227.9375\"/></a><!--MD5=[09b614a08d8cba4a07c9adeb5e0fee81]\n",
       "class E3--><a href=\"psysml:4f6724e1-6261-429d-9c16-1831387bac9b\" target=\"_top\" title=\"psysml:4f6724e1-6261-429d-9c16-1831387bac9b\" xlink:actuate=\"onRequest\" xlink:href=\"psysml:4f6724e1-6261-429d-9c16-1831387bac9b\" xlink:show=\"new\" xlink:title=\"psysml:4f6724e1-6261-429d-9c16-1831387bac9b\" xlink:type=\"simple\"><rect fill=\"#FFFFFF\" height=\"45.9375\" id=\"E3\" rx=\"10\" ry=\"10\" style=\"stroke: #383838; stroke-width: 1.5;\" width=\"80\" x=\"290\" y=\"62\"/><text fill=\"#000000\" font-family=\"sans-serif\" font-size=\"12\" font-style=\"italic\" lengthAdjust=\"spacingAndGlyphs\" textLength=\"78\" x=\"291\" y=\"78.1387\">«constraint»</text><text fill=\"#000000\" font-family=\"sans-serif\" font-size=\"12\" lengthAdjust=\"spacingAndGlyphs\" textLength=\"23\" x=\"318.5\" y=\"92.1074\">c: C</text><line style=\"stroke: #383838; stroke-width: 1.5;\" x1=\"291\" x2=\"369\" y1=\"99.9375\" y2=\"99.9375\"/></a><!--MD5=[ebbe1d658d1005bcc118a6aa81145e00]\n",
       "class E4--><a href=\"psysml:a2742730-9bdb-48ea-a333-70a51cef011c\" target=\"_top\" title=\"psysml:a2742730-9bdb-48ea-a333-70a51cef011c\" xlink:actuate=\"onRequest\" xlink:href=\"psysml:a2742730-9bdb-48ea-a333-70a51cef011c\" xlink:show=\"new\" xlink:title=\"psysml:a2742730-9bdb-48ea-a333-70a51cef011c\" xlink:type=\"simple\"><rect fill=\"#FFFFFF\" height=\"109.1563\" id=\"E4\" style=\"stroke: #383838; stroke-width: 1.5;\" width=\"117\" x=\"32.5\" y=\"313\"/><text fill=\"#000000\" font-family=\"sans-serif\" font-size=\"12\" font-style=\"italic\" lengthAdjust=\"spacingAndGlyphs\" textLength=\"115\" x=\"33.5\" y=\"329.1387\">«requirement def»</text><text fill=\"#000000\" font-family=\"sans-serif\" font-size=\"12\" lengthAdjust=\"spacingAndGlyphs\" textLength=\"8\" x=\"87\" y=\"343.1074\">R</text><line style=\"stroke: #383838; stroke-width: 1.5;\" x1=\"33.5\" x2=\"148.5\" y1=\"350.9375\" y2=\"350.9375\"/><text fill=\"#000000\" font-family=\"sans-serif\" font-size=\"11\" lengthAdjust=\"spacingAndGlyphs\" textLength=\"0\" x=\"42.5\" y=\"365.1479\"/><line style=\"stroke: #383838; stroke-width: 1.0;\" x1=\"33.5\" x2=\"148.5\" y1=\"371.7422\" y2=\"371.7422\"/><text fill=\"#000000\" font-family=\"sans-serif\" font-size=\"11\" font-weight=\"bold\" lengthAdjust=\"spacingAndGlyphs\" textLength=\"46\" x=\"38.5\" y=\"402.7573\">require</text><text fill=\"#000000\" font-family=\"sans-serif\" font-size=\"11\" lengthAdjust=\"spacingAndGlyphs\" textLength=\"6\" x=\"88.5\" y=\"402.7573\">c</text><text fill=\"#000000\" font-family=\"sans-serif\" font-size=\"11\" font-style=\"italic\" lengthAdjust=\"spacingAndGlyphs\" textLength=\"46\" x=\"38.5\" y=\"415.562\">assume</text><text fill=\"#000000\" font-family=\"sans-serif\" font-size=\"11\" lengthAdjust=\"spacingAndGlyphs\" textLength=\"29\" x=\"88.5\" y=\"415.562\">c1: C</text><line style=\"stroke: #383838; stroke-width: 1.0;\" x1=\"33.5\" x2=\"59\" y1=\"386.1445\" y2=\"386.1445\"/><text fill=\"#000000\" font-family=\"sans-serif\" font-size=\"11\" lengthAdjust=\"spacingAndGlyphs\" textLength=\"64\" x=\"59\" y=\"389.4526\">constraints</text><line style=\"stroke: #383838; stroke-width: 1.0;\" x1=\"123\" x2=\"148.5\" y1=\"386.1445\" y2=\"386.1445\"/></a><!--MD5=[270fce915f116d4de14055a7c1d9a0f3]\n",
       "class E5--><a href=\"psysml:56458fbc-ce11-45ea-8fa2-2092e0cfc05c\" target=\"_top\" title=\"psysml:56458fbc-ce11-45ea-8fa2-2092e0cfc05c\" xlink:actuate=\"onRequest\" xlink:href=\"psysml:56458fbc-ce11-45ea-8fa2-2092e0cfc05c\" xlink:show=\"new\" xlink:title=\"psysml:56458fbc-ce11-45ea-8fa2-2092e0cfc05c\" xlink:type=\"simple\"><rect fill=\"#FFFFFF\" height=\"66.7422\" id=\"E5\" style=\"stroke: #383838; stroke-width: 1.5;\" width=\"117\" x=\"32.5\" y=\"483\"/><text fill=\"#000000\" font-family=\"sans-serif\" font-size=\"12\" font-style=\"italic\" lengthAdjust=\"spacingAndGlyphs\" textLength=\"115\" x=\"33.5\" y=\"499.1387\">«requirement def»</text><text fill=\"#000000\" font-family=\"sans-serif\" font-size=\"12\" lengthAdjust=\"spacingAndGlyphs\" textLength=\"5\" x=\"78\" y=\"513.1074\">[</text><text fill=\"#000000\" font-family=\"sans-serif\" font-size=\"12\" font-weight=\"bold\" lengthAdjust=\"spacingAndGlyphs\" textLength=\"8\" x=\"83\" y=\"513.1074\">1</text><text fill=\"#000000\" font-family=\"sans-serif\" font-size=\"12\" lengthAdjust=\"spacingAndGlyphs\" textLength=\"17\" x=\"91\" y=\"513.1074\">] A</text><line style=\"stroke: #383838; stroke-width: 1.5;\" x1=\"33.5\" x2=\"148.5\" y1=\"520.9375\" y2=\"520.9375\"/><text fill=\"#000000\" font-family=\"sans-serif\" font-size=\"11\" lengthAdjust=\"spacingAndGlyphs\" textLength=\"24\" x=\"38.5\" y=\"535.1479\">Text</text><line style=\"stroke: #383838; stroke-width: 1.0;\" x1=\"33.5\" x2=\"148.5\" y1=\"541.7422\" y2=\"541.7422\"/></a><!--MD5=[b9389687b975829384b498ac4b7476b2]\n",
       "class E8--><a href=\"psysml:72b41e7b-9298-4fd0-92ac-738cc777b35a\" target=\"_top\" title=\"psysml:72b41e7b-9298-4fd0-92ac-738cc777b35a\" xlink:actuate=\"onRequest\" xlink:href=\"psysml:72b41e7b-9298-4fd0-92ac-738cc777b35a\" xlink:show=\"new\" xlink:title=\"psysml:72b41e7b-9298-4fd0-92ac-738cc777b35a\" xlink:type=\"simple\"><rect fill=\"#FFFFFF\" height=\"45.9375\" id=\"E8\" rx=\"10\" ry=\"10\" style=\"stroke: #383838; stroke-width: 1.5;\" width=\"93\" x=\"184.5\" y=\"493.5\"/><text fill=\"#000000\" font-family=\"sans-serif\" font-size=\"12\" font-style=\"italic\" lengthAdjust=\"spacingAndGlyphs\" textLength=\"91\" x=\"185.5\" y=\"509.6387\">«requirement»</text><text fill=\"#000000\" font-family=\"sans-serif\" font-size=\"12\" lengthAdjust=\"spacingAndGlyphs\" text-decoration=\"line-through\" textLength=\"51\" x=\"205.5\" y=\"523.6074\">noname</text><line style=\"stroke: #383838; stroke-width: 1.5;\" x1=\"185.5\" x2=\"276.5\" y1=\"531.4375\" y2=\"531.4375\"/></a><!--MD5=[fd4143e9d270a159db93a4ea2a975926]\n",
       "class E9--><a href=\"psysml:ec52d3df-f8e8-4ac5-95c0-bf3447feb8a5\" target=\"_top\" title=\"psysml:ec52d3df-f8e8-4ac5-95c0-bf3447feb8a5\" xlink:actuate=\"onRequest\" xlink:href=\"psysml:ec52d3df-f8e8-4ac5-95c0-bf3447feb8a5\" xlink:show=\"new\" xlink:title=\"psysml:ec52d3df-f8e8-4ac5-95c0-bf3447feb8a5\" xlink:type=\"simple\"><rect fill=\"#FFFFFF\" height=\"88.3516\" id=\"E9\" style=\"stroke: #383838; stroke-width: 1.5;\" width=\"145\" x=\"109.5\" y=\"41\"/><text fill=\"#000000\" font-family=\"sans-serif\" font-size=\"12\" font-style=\"italic\" lengthAdjust=\"spacingAndGlyphs\" textLength=\"115\" x=\"124.5\" y=\"57.1387\">«requirement def»</text><text fill=\"#000000\" font-family=\"sans-serif\" font-size=\"12\" lengthAdjust=\"spacingAndGlyphs\" textLength=\"16\" x=\"174\" y=\"71.1074\">R1</text><line style=\"stroke: #383838; stroke-width: 1.5;\" x1=\"110.5\" x2=\"253.5\" y1=\"78.9375\" y2=\"78.9375\"/><text fill=\"#000000\" font-family=\"sans-serif\" font-size=\"11\" font-weight=\"bold\" lengthAdjust=\"spacingAndGlyphs\" textLength=\"46\" x=\"115.5\" y=\"109.9526\">require</text><text fill=\"#000000\" font-family=\"sans-serif\" font-size=\"11\" lengthAdjust=\"spacingAndGlyphs\" textLength=\"13\" x=\"165.5\" y=\"109.9526\">c1</text><text fill=\"#000000\" font-family=\"sans-serif\" font-size=\"11\" font-style=\"italic\" lengthAdjust=\"spacingAndGlyphs\" textLength=\"133\" x=\"115.5\" y=\"122.7573\">:&gt;&gt;RequirementTest::c</text><line style=\"stroke: #383838; stroke-width: 1.0;\" x1=\"110.5\" x2=\"150\" y1=\"93.3398\" y2=\"93.3398\"/><text fill=\"#000000\" font-family=\"sans-serif\" font-size=\"11\" lengthAdjust=\"spacingAndGlyphs\" textLength=\"64\" x=\"150\" y=\"96.6479\">constraints</text><line style=\"stroke: #383838; stroke-width: 1.0;\" x1=\"214\" x2=\"253.5\" y1=\"93.3398\" y2=\"93.3398\"/></a><!--MD5=[1dd1bfd58a279cf63c5f349dbc8fc6a1]\n",
       "class E11--><a href=\"psysml:b85d82e7-3bb2-4c49-b03c-5a9b3c771643\" target=\"_top\" title=\"psysml:b85d82e7-3bb2-4c49-b03c-5a9b3c771643\" xlink:actuate=\"onRequest\" xlink:href=\"psysml:b85d82e7-3bb2-4c49-b03c-5a9b3c771643\" xlink:show=\"new\" xlink:title=\"psysml:b85d82e7-3bb2-4c49-b03c-5a9b3c771643\" xlink:type=\"simple\"><rect fill=\"#FFFFFF\" height=\"45.9375\" id=\"E11\" rx=\"10\" ry=\"10\" style=\"stroke: #383838; stroke-width: 1.5;\" width=\"42\" x=\"185\" y=\"344.5\"/><text fill=\"#000000\" font-family=\"sans-serif\" font-size=\"12\" font-style=\"italic\" lengthAdjust=\"spacingAndGlyphs\" textLength=\"40\" x=\"186\" y=\"360.6387\">«part»</text><text fill=\"#000000\" font-family=\"sans-serif\" font-size=\"12\" lengthAdjust=\"spacingAndGlyphs\" textLength=\"8\" x=\"202\" y=\"374.6074\">p</text><line style=\"stroke: #383838; stroke-width: 1.5;\" x1=\"186\" x2=\"226\" y1=\"382.4375\" y2=\"382.4375\"/></a><!--MD5=[49a0ec8f00dab7302a31f22d0f0fe584]\n",
       "class E12--><a href=\"psysml:f6ed6b0e-7205-4bca-ba49-af9a51c8942a\" target=\"_top\" title=\"psysml:f6ed6b0e-7205-4bca-ba49-af9a51c8942a\" xlink:actuate=\"onRequest\" xlink:href=\"psysml:f6ed6b0e-7205-4bca-ba49-af9a51c8942a\" xlink:show=\"new\" xlink:title=\"psysml:f6ed6b0e-7205-4bca-ba49-af9a51c8942a\" xlink:type=\"simple\"><rect fill=\"#FFFFFF\" height=\"45.9375\" id=\"E12\" rx=\"10\" ry=\"10\" style=\"stroke: #383838; stroke-width: 1.5;\" width=\"42\" x=\"32\" y=\"62\"/><text fill=\"#000000\" font-family=\"sans-serif\" font-size=\"12\" font-style=\"italic\" lengthAdjust=\"spacingAndGlyphs\" textLength=\"40\" x=\"33\" y=\"78.1387\">«part»</text><text fill=\"#000000\" font-family=\"sans-serif\" font-size=\"12\" lengthAdjust=\"spacingAndGlyphs\" textLength=\"8\" x=\"49\" y=\"92.1074\">q</text><line style=\"stroke: #383838; stroke-width: 1.5;\" x1=\"33\" x2=\"73\" y1=\"99.9375\" y2=\"99.9375\"/></a><!--MD5=[ee3c913d1a06f366521f9ef512b67efe]\n",
       "class E13--><a href=\"psysml:dc92139c-b950-485f-92a5-3d6f837d8293\" target=\"_top\" title=\"psysml:dc92139c-b950-485f-92a5-3d6f837d8293\" xlink:actuate=\"onRequest\" xlink:href=\"psysml:dc92139c-b950-485f-92a5-3d6f837d8293\" xlink:show=\"new\" xlink:title=\"psysml:dc92139c-b950-485f-92a5-3d6f837d8293\" xlink:type=\"simple\"><rect fill=\"#FFFFFF\" height=\"45.9375\" id=\"E13\" rx=\"10\" ry=\"10\" style=\"stroke: #383838; stroke-width: 1.5;\" width=\"93\" x=\"44.5\" y=\"190\"/><text fill=\"#000000\" font-family=\"sans-serif\" font-size=\"12\" font-style=\"italic\" lengthAdjust=\"spacingAndGlyphs\" textLength=\"91\" x=\"45.5\" y=\"206.1387\">«requirement»</text><text fill=\"#000000\" font-family=\"sans-serif\" font-size=\"12\" lengthAdjust=\"spacingAndGlyphs\" textLength=\"21\" x=\"80.5\" y=\"220.1074\">r: R</text><line style=\"stroke: #383838; stroke-width: 1.5;\" x1=\"45.5\" x2=\"136.5\" y1=\"227.9375\" y2=\"227.9375\"/></a><!--MD5=[05d275557350bfb9b23a4ef7222b4c39]\n",
       "link E3 to E2--><a href=\"psysml:9201001b-4e3f-46f0-8224-89e70f802e39\" target=\"_top\" title=\"psysml:9201001b-4e3f-46f0-8224-89e70f802e39\" xlink:actuate=\"onRequest\" xlink:href=\"psysml:9201001b-4e3f-46f0-8224-89e70f802e39\" xlink:show=\"new\" xlink:title=\"psysml:9201001b-4e3f-46f0-8224-89e70f802e39\" xlink:type=\"simple\"><path d=\"M330,108.18 C330,108.18 330,169.99 330,169.99 \" fill=\"none\" id=\"E3-&gt;E2\" style=\"stroke: #383838; stroke-width: 1.0;\"/><polygon fill=\"#FFFFFF\" points=\"330,189.99,323,170.99,337,170.99,330,189.99\" style=\"stroke: #383838; stroke-width: 1.0;\"/><ellipse cx=\"325\" cy=\"165.29\" fill=\"#383838\" rx=\"2\" ry=\"2\" style=\"stroke: #383838; stroke-width: 1.0;\"/><ellipse cx=\"335\" cy=\"165.29\" fill=\"#383838\" rx=\"2\" ry=\"2\" style=\"stroke: #383838; stroke-width: 1.0;\"/></a><!--MD5=[62aa6af11e70f752912c1cb0466f24f7]\n",
       "reverse link E4 to E5--><a href=\"psysml:56458fbc-ce11-45ea-8fa2-2092e0cfc05c\" target=\"_top\" title=\"psysml:56458fbc-ce11-45ea-8fa2-2092e0cfc05c\" xlink:actuate=\"onRequest\" xlink:href=\"psysml:56458fbc-ce11-45ea-8fa2-2092e0cfc05c\" xlink:show=\"new\" xlink:title=\"psysml:56458fbc-ce11-45ea-8fa2-2092e0cfc05c\" xlink:type=\"simple\"><path d=\"M91,437.14 C91,437.14 91,482.66 91,482.66 \" fill=\"none\" id=\"E4&lt;-E5\" style=\"stroke: #383838; stroke-width: 1.0;\"/><ellipse cx=\"91\" cy=\"430.14\" fill=\"#FFFFFF\" rx=\"8\" ry=\"8\" style=\"stroke: #383838; stroke-width: 1.0;\"/><line style=\"stroke: #383838; stroke-width: 1.0;\" x1=\"91\" x2=\"91\" y1=\"438.14\" y2=\"422.14\"/><line style=\"stroke: #383838; stroke-width: 1.0;\" x1=\"83\" x2=\"99\" y1=\"430.14\" y2=\"430.14\"/></a><!--MD5=[c6fc7cdb0cabde04948078cf183fa696]\n",
       "reverse link E4 to E8--><a href=\"psysml:72b41e7b-9298-4fd0-92ac-738cc777b35a\" target=\"_top\" title=\"psysml:72b41e7b-9298-4fd0-92ac-738cc777b35a\" xlink:actuate=\"onRequest\" xlink:href=\"psysml:72b41e7b-9298-4fd0-92ac-738cc777b35a\" xlink:show=\"new\" xlink:title=\"psysml:72b41e7b-9298-4fd0-92ac-738cc777b35a\" xlink:type=\"simple\"><path d=\"M162.51,407 C162.51,407 206,407 206,407 C206,407 206,461.14 206,493.28 \" fill=\"none\" id=\"E4&lt;-E8\" style=\"stroke: #383838; stroke-width: 1.0;\"/><polygon fill=\"#383838\" points=\"149.51,407,155.51,411,161.51,407,155.51,403,149.51,407\" style=\"stroke: #383838; stroke-width: 1.0;\"/></a><!--MD5=[062ed86c389d1a88f61c6380d0491e17]\n",
       "reverse link E12 to E13--><a href=\"psysml:dc92139c-b950-485f-92a5-3d6f837d8293\" target=\"_top\" title=\"psysml:dc92139c-b950-485f-92a5-3d6f837d8293\" xlink:actuate=\"onRequest\" xlink:href=\"psysml:dc92139c-b950-485f-92a5-3d6f837d8293\" xlink:show=\"new\" xlink:title=\"psysml:dc92139c-b950-485f-92a5-3d6f837d8293\" xlink:type=\"simple\"><path d=\"M59.25,121.18 C59.25,121.18 59.25,189.99 59.25,189.99 \" fill=\"none\" id=\"E12&lt;-E13\" style=\"stroke: #383838; stroke-width: 1.0;\"/><polygon fill=\"#383838\" points=\"59.25,108.18,55.25,114.18,59.25,120.18,63.25,114.18,59.25,108.18\" style=\"stroke: #383838; stroke-width: 1.0;\"/></a><!--MD5=[017847e01ff9a8bd19f247411074f987]\n",
       "link E13 to E4--><a href=\"psysml:84833459-b0b4-497f-8a66-9d75104fb430\" target=\"_top\" title=\"psysml:84833459-b0b4-497f-8a66-9d75104fb430\" xlink:actuate=\"onRequest\" xlink:href=\"psysml:84833459-b0b4-497f-8a66-9d75104fb430\" xlink:show=\"new\" xlink:title=\"psysml:84833459-b0b4-497f-8a66-9d75104fb430\" xlink:type=\"simple\"><path d=\"M91,236.13 C91,236.13 91,292.77 91,292.77 \" fill=\"none\" id=\"E13-&gt;E4\" style=\"stroke: #383838; stroke-width: 1.0;\"/><polygon fill=\"#FFFFFF\" points=\"91,312.77,84,293.77,98,293.77,91,312.77\" style=\"stroke: #383838; stroke-width: 1.0;\"/><ellipse cx=\"86\" cy=\"288.07\" fill=\"#383838\" rx=\"2\" ry=\"2\" style=\"stroke: #383838; stroke-width: 1.0;\"/><ellipse cx=\"96\" cy=\"288.07\" fill=\"#383838\" rx=\"2\" ry=\"2\" style=\"stroke: #383838; stroke-width: 1.0;\"/></a><!--MD5=[2cfe899c895462254056921bfb67315f]\n",
       "link E13 to E11--><a href=\"psysml:ed40ce07-1501-496b-adae-3639fe39f1e8\" target=\"_top\" title=\"psysml:ed40ce07-1501-496b-adae-3639fe39f1e8\" xlink:actuate=\"onRequest\" xlink:href=\"psysml:ed40ce07-1501-496b-adae-3639fe39f1e8\" xlink:show=\"new\" xlink:title=\"psysml:ed40ce07-1501-496b-adae-3639fe39f1e8\" xlink:type=\"simple\"><path d=\"M137.77,213 C169.61,213 206,213 206,213 C206,213 206,339.37 206,339.37 \" fill=\"none\" id=\"E13-&gt;E11\" style=\"stroke: #383838; stroke-width: 1.0; stroke-dasharray: 7.0,7.0;\"/><polygon fill=\"#383838\" points=\"206,344.37,210,335.37,206,339.37,202,335.37,206,344.37\" style=\"stroke: #383838; stroke-width: 1.0;\"/><text fill=\"#000000\" font-family=\"sans-serif\" font-size=\"13\" lengthAdjust=\"spacingAndGlyphs\" textLength=\"57\" x=\"170\" y=\"279.0669\">«satisfy»</text></a><!--MD5=[3729655e7c3d3f50529155863bcdc622]\n",
       "@startuml\r\n",
       "skinparam linetype ortho\r\n",
       "skinparam monochrome true\r\n",
       "skinparam classbackgroundcolor white\r\n",
       "skinparam shadowing false\r\n",
       "skinparam wrapWidth 300\r\n",
       "hide circle\r\n",
       "\r\n",
       "package \"RequirementTest\" as E1  [[psysml:32d2418d-b451-4172-b0c3-f203713ef4c8 ]]  {\r\n",
       "comp def \"C\" as E2  <<(T,blue)constraint def>> [[psysml:a1b28860-c9a8-4d37-931e-31ae0c14540e ]] {\r\n",
       "}\r\n",
       "comp usage \"c: C\" as E3  <<(T,blue)constraint>> [[psysml:4f6724e1-6261-429d-9c16-1831387bac9b ]] {\r\n",
       "}\r\n",
       "comp def \"R\" as E4  <<(T,blue)requirement def>> [[psysml:a2742730-9bdb-48ea-a333-70a51cef011c ]] {\r\n",
       "\r\n",
       "- -\r\n",
       "- - constraints - -\r\n",
       "<b>require</b> c\r\n",
       "<i>assume</i> c1: C\r\n",
       "}\r\n",
       "comp def \" [<b>1</b>] A\" as E5  <<(T,blue)requirement def>> [[psysml:56458fbc-ce11-45ea-8fa2-2092e0cfc05c ]] {\r\n",
       "Text\r\n",
       "- -\r\n",
       "}\r\n",
       "comp usage \"<s>noname</s>\" as E8  <<(T,blue)requirement>> [[psysml:72b41e7b-9298-4fd0-92ac-738cc777b35a ]] {\r\n",
       "}\r\n",
       "comp def \"R1\" as E9  <<(T,blue)requirement def>> [[psysml:ec52d3df-f8e8-4ac5-95c0-bf3447feb8a5 ]] {\r\n",
       "- - constraints - -\r\n",
       "<b>require</b> c1\\n//:>>RequirementTest::c// \r\n",
       "}\r\n",
       "comp usage \"p\" as E11  <<(T,blue)part>> [[psysml:b85d82e7-3bb2-4c49-b03c-5a9b3c771643 ]] {\r\n",
       "}\r\n",
       "comp usage \"q\" as E12  <<(T,blue)part>> [[psysml:f6ed6b0e-7205-4bca-ba49-af9a51c8942a ]] {\r\n",
       "}\r\n",
       "comp usage \"r: R\" as E13  <<(T,blue)requirement>> [[psysml:dc92139c-b950-485f-92a5-3d6f837d8293 ]] {\r\n",
       "}\r\n",
       "E3 - -:|> E2 [[psysml:9201001b-4e3f-46f0-8224-89e70f802e39 ]] \r\n",
       "E4 +- - E5 [[psysml:56458fbc-ce11-45ea-8fa2-2092e0cfc05c ]] \r\n",
       "E4 *- - E8 [[psysml:72b41e7b-9298-4fd0-92ac-738cc777b35a ]] \r\n",
       "E12 *- - E13 [[psysml:dc92139c-b950-485f-92a5-3d6f837d8293 ]] \r\n",
       "E13 - -:|> E4 [[psysml:84833459-b0b4-497f-8a66-9d75104fb430 ]] \r\n",
       "E13 ..> E11 [[psysml:ed40ce07-1501-496b-adae-3639fe39f1e8 ]] : <<satisfy>>\r\n",
       "}\r\n",
       "@enduml\r\n",
       "\n",
       "PlantUML version 1.2020.13(Sat Jun 13 12:26:38 UTC 2020)\n",
       "(EPL source distribution)\n",
       "Java Runtime: OpenJDK Runtime Environment\n",
       "JVM: OpenJDK 64-Bit Server VM\n",
       "Default Encoding: UTF-8\n",
       "Language: en\n",
       "Country: null\n",
       "--></g></svg>"
      ]
     },
     "execution_count": 57,
     "metadata": {},
     "output_type": "execute_result"
    }
   ],
   "source": [
    "%viz --style=\"ORTHOLINE\" --view=\"MIXED\" \"RequirementTest\""
   ]
  }
 ],
 "metadata": {
  "kernelspec": {
   "display_name": "SysML",
   "language": "sysml",
   "name": "sysml"
  },
  "language_info": {
   "codemirror_mode": "sysml",
   "file_extension": ".sysml",
   "mimetype": "text/x-sysml",
   "name": "SysML",
   "pygments_lexer": "java",
   "version": "1.0.0"
  }
 },
 "nbformat": 4,
 "nbformat_minor": 5
}
