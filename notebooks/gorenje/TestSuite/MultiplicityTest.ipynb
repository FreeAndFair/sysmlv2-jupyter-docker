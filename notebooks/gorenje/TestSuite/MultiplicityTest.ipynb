{
 "cells": [
  {
   "cell_type": "markdown",
   "id": "8631955b",
   "metadata": {},
   "source": [
    "# SysML v2 Test Suite\n",
    "\n",
    "This can notebook can be cleared using menu `Edit --> Clear All Outputs` and then all cells can be\n",
    "run using menu `Run --> Run All Cells`.\n",
    "\n",
    "**WARNING**: This file is generated, all modifications here will be ignored.\n"
   ]
  },
  {
   "cell_type": "markdown",
   "id": "de9c052d",
   "metadata": {},
   "source": [
    "## File: ../../sysml/src/examples/Simple Tests/MultiplicityTest.sysml"
   ]
  },
  {
   "cell_type": "code",
   "execution_count": 1,
   "id": "fd1ee2f9",
   "metadata": {
    "execution": {
     "iopub.execute_input": "2024-12-16T03:27:03.450420Z",
     "iopub.status.busy": "2024-12-16T03:27:03.450059Z",
     "iopub.status.idle": "2024-12-16T03:27:03.738320Z",
     "shell.execute_reply": "2024-12-16T03:27:03.737759Z"
    }
   },
   "outputs": [
    {
     "data": {
      "text/plain": [
       "Package MultiplicityTest (26edc399-ba1b-4e26-98ec-184b2d561983)\n"
      ]
     },
     "execution_count": 1,
     "metadata": {},
     "output_type": "execute_result"
    }
   ],
   "source": [
    "package MultiplicityTest {\n",
    "\t\n",
    "\tpart def P;\n",
    "\tattribute n : ScalarValues::Integer = 5;\n",
    "\t\n",
    "\tpart a[1];\n",
    "\tpart b[0..2] : P;\n",
    "\tpart c : P[2..*];\n",
    "\tpart d[*];\n",
    "\t\n",
    "\tpart e[n];\n",
    "\tpart f[n..*];\n",
    "\tpart g[1..n];\n",
    "\n",
    "\tattribute def A {\n",
    "\t\tattribute i :ScalarValues::Integer;\n",
    "\t\tattribute x : A[i];\n",
    "\t}\n",
    "}"
   ]
  },
  {
   "cell_type": "code",
   "execution_count": 2,
   "id": "f1551101",
   "metadata": {
    "execution": {
     "iopub.execute_input": "2024-12-16T03:27:03.795963Z",
     "iopub.status.busy": "2024-12-16T03:27:03.795093Z",
     "iopub.status.idle": "2024-12-16T03:27:04.228445Z",
     "shell.execute_reply": "2024-12-16T03:27:04.228278Z"
    }
   },
   "outputs": [
    {
     "data": {
      "image/svg+xml": [
       "<?xml version=\"1.0\" encoding=\"UTF-8\" standalone=\"no\"?><svg xmlns=\"http://www.w3.org/2000/svg\" xmlns:xlink=\"http://www.w3.org/1999/xlink\" contentStyleType=\"text/css\" height=\"263px\" preserveAspectRatio=\"none\" style=\"width:821px;height:263px;background:#FFFFFF;\" version=\"1.1\" viewBox=\"0 0 821 263\" width=\"821px\" zoomAndPan=\"magnify\"><defs/><g><!--MD5=[fbc87193dbaf4d95561dea2c320d4a47]\n",
       "cluster E1--><g id=\"cluster_E1\"><a href=\"psysml:26edc399-ba1b-4e26-98ec-184b2d561983\" target=\"_top\" title=\"psysml:26edc399-ba1b-4e26-98ec-184b2d561983\" xlink:actuate=\"onRequest\" xlink:href=\"psysml:26edc399-ba1b-4e26-98ec-184b2d561983\" xlink:show=\"new\" xlink:title=\"psysml:26edc399-ba1b-4e26-98ec-184b2d561983\" xlink:type=\"simple\"><polygon fill=\"none\" points=\"16,6,130,6,137,28.2969,804,28.2969,804,256,16,256,16,6\" style=\"stroke:#000000;stroke-width:1.5;\"/><line style=\"stroke:#000000;stroke-width:1.5;\" x1=\"16\" x2=\"137\" y1=\"28.2969\" y2=\"28.2969\"/><text fill=\"#000000\" font-family=\"sans-serif\" font-size=\"14\" font-weight=\"bold\" lengthAdjust=\"spacing\" textLength=\"108\" x=\"20\" y=\"20.9951\">MultiplicityTest</text></a></g><!--MD5=[b4997ac47864f28c2f74865a473b2911]\n",
       "class E2--><a href=\"psysml:a78c9232-7355-4122-98e1-61ea033b6fbd\" target=\"_top\" title=\"psysml:a78c9232-7355-4122-98e1-61ea033b6fbd\" xlink:actuate=\"onRequest\" xlink:href=\"psysml:a78c9232-7355-4122-98e1-61ea033b6fbd\" xlink:show=\"new\" xlink:title=\"psysml:a78c9232-7355-4122-98e1-61ea033b6fbd\" xlink:type=\"simple\"><g id=\"elem_E2\"><rect fill=\"#FFFFFF\" height=\"48.2656\" id=\"E2\" style=\"stroke:#181818;stroke-width:0.5;\" width=\"70\" x=\"499\" y=\"192\"/><text fill=\"#000000\" font-family=\"sans-serif\" font-size=\"12\" font-style=\"italic\" lengthAdjust=\"spacing\" textLength=\"68\" x=\"500\" y=\"208.1387\">«part  def»</text><text fill=\"#000000\" font-family=\"sans-serif\" font-size=\"14\" lengthAdjust=\"spacing\" textLength=\"9\" x=\"529.5\" y=\"223.9639\">P</text><line style=\"stroke:#181818;stroke-width:0.5;\" x1=\"500\" x2=\"568\" y1=\"232.2656\" y2=\"232.2656\"/></g></a><!--MD5=[09b614a08d8cba4a07c9adeb5e0fee81]\n",
       "class E3--><a href=\"psysml:6e5bcad0-e721-42f0-8965-8cf810de127c\" target=\"_top\" title=\"psysml:6e5bcad0-e721-42f0-8965-8cf810de127c\" xlink:actuate=\"onRequest\" xlink:href=\"psysml:6e5bcad0-e721-42f0-8965-8cf810de127c\" xlink:show=\"new\" xlink:title=\"psysml:6e5bcad0-e721-42f0-8965-8cf810de127c\" xlink:type=\"simple\"><g id=\"elem_E3\"><rect fill=\"#FFFFFF\" height=\"75.0813\" id=\"E3\" rx=\"10\" ry=\"10\" style=\"stroke:#181818;stroke-width:0.5;\" width=\"81\" x=\"706.5\" y=\"49\"/><text fill=\"#000000\" font-family=\"sans-serif\" font-size=\"12\" font-style=\"italic\" lengthAdjust=\"spacing\" textLength=\"69\" x=\"712.5\" y=\"65.1387\">«attribute»</text><text fill=\"#000000\" font-family=\"sans-serif\" font-size=\"14\" lengthAdjust=\"spacing\" textLength=\"67\" x=\"709.5\" y=\"80.9639\">n: Integer</text><line style=\"stroke:#181818;stroke-width:0.5;\" x1=\"707.5\" x2=\"786.5\" y1=\"89.2656\" y2=\"89.2656\"/><text fill=\"#000000\" font-family=\"sans-serif\" font-size=\"14\" lengthAdjust=\"spacing\" textLength=\"25\" x=\"712.5\" y=\"116.7795\">= 5</text><text fill=\"#000000\" font-family=\"sans-serif\" font-size=\"14\" font-style=\"italic\" lengthAdjust=\"spacing\" textLength=\"44\" x=\"725\" y=\"101.6123\">values</text></g></a><!--MD5=[ebbe1d658d1005bcc118a6aa81145e00]\n",
       "class E4--><a href=\"psysml:58ca86c4-6609-462b-9948-87aadb08d281\" target=\"_top\" title=\"psysml:58ca86c4-6609-462b-9948-87aadb08d281\" xlink:actuate=\"onRequest\" xlink:href=\"psysml:58ca86c4-6609-462b-9948-87aadb08d281\" xlink:show=\"new\" xlink:title=\"psysml:58ca86c4-6609-462b-9948-87aadb08d281\" xlink:type=\"simple\"><g id=\"elem_E4\"><rect fill=\"#FFFFFF\" height=\"48.2656\" id=\"E4\" rx=\"10\" ry=\"10\" style=\"stroke:#181818;stroke-width:0.5;\" width=\"42\" x=\"629\" y=\"62.5\"/><text fill=\"#000000\" font-family=\"sans-serif\" font-size=\"12\" font-style=\"italic\" lengthAdjust=\"spacing\" textLength=\"40\" x=\"630\" y=\"78.6387\">«part»</text><text fill=\"#000000\" font-family=\"sans-serif\" font-size=\"14\" lengthAdjust=\"spacing\" textLength=\"8\" x=\"642\" y=\"94.4639\">a</text><line style=\"stroke:#181818;stroke-width:0.5;\" x1=\"630\" x2=\"670\" y1=\"102.7656\" y2=\"102.7656\"/></g></a><!--MD5=[270fce915f116d4de14055a7c1d9a0f3]\n",
       "class E5--><a href=\"psysml:8959fced-ddce-434c-832c-e17faa00a5de\" target=\"_top\" title=\"psysml:8959fced-ddce-434c-832c-e17faa00a5de\" xlink:actuate=\"onRequest\" xlink:href=\"psysml:8959fced-ddce-434c-832c-e17faa00a5de\" xlink:show=\"new\" xlink:title=\"psysml:8959fced-ddce-434c-832c-e17faa00a5de\" xlink:type=\"simple\"><g id=\"elem_E5\"><rect fill=\"#FFFFFF\" height=\"48.2656\" id=\"E5\" rx=\"10\" ry=\"10\" style=\"stroke:#181818;stroke-width:0.5;\" width=\"42\" x=\"552\" y=\"62.5\"/><text fill=\"#000000\" font-family=\"sans-serif\" font-size=\"12\" font-style=\"italic\" lengthAdjust=\"spacing\" textLength=\"40\" x=\"553\" y=\"78.6387\">«part»</text><text fill=\"#000000\" font-family=\"sans-serif\" font-size=\"14\" lengthAdjust=\"spacing\" textLength=\"27\" x=\"555.5\" y=\"94.4639\">b: P</text><line style=\"stroke:#181818;stroke-width:0.5;\" x1=\"553\" x2=\"593\" y1=\"102.7656\" y2=\"102.7656\"/></g></a><!--MD5=[60a26617385b1d2d0262a64233df1f8d]\n",
       "class E6--><a href=\"psysml:4ac8fd09-bbc3-4ec3-ba18-7592ef56bccd\" target=\"_top\" title=\"psysml:4ac8fd09-bbc3-4ec3-ba18-7592ef56bccd\" xlink:actuate=\"onRequest\" xlink:href=\"psysml:4ac8fd09-bbc3-4ec3-ba18-7592ef56bccd\" xlink:show=\"new\" xlink:title=\"psysml:4ac8fd09-bbc3-4ec3-ba18-7592ef56bccd\" xlink:type=\"simple\"><g id=\"elem_E6\"><rect fill=\"#FFFFFF\" height=\"48.2656\" id=\"E6\" rx=\"10\" ry=\"10\" style=\"stroke:#181818;stroke-width:0.5;\" width=\"42\" x=\"475\" y=\"62.5\"/><text fill=\"#000000\" font-family=\"sans-serif\" font-size=\"12\" font-style=\"italic\" lengthAdjust=\"spacing\" textLength=\"40\" x=\"476\" y=\"78.6387\">«part»</text><text fill=\"#000000\" font-family=\"sans-serif\" font-size=\"14\" lengthAdjust=\"spacing\" textLength=\"26\" x=\"479\" y=\"94.4639\">c: P</text><line style=\"stroke:#181818;stroke-width:0.5;\" x1=\"476\" x2=\"516\" y1=\"102.7656\" y2=\"102.7656\"/></g></a><!--MD5=[2156ba9850f5573cc1fc38a6a4b2f02b]\n",
       "class E7--><a href=\"psysml:58aa0206-e878-4c1d-8c3a-c879ca6e4b13\" target=\"_top\" title=\"psysml:58aa0206-e878-4c1d-8c3a-c879ca6e4b13\" xlink:actuate=\"onRequest\" xlink:href=\"psysml:58aa0206-e878-4c1d-8c3a-c879ca6e4b13\" xlink:show=\"new\" xlink:title=\"psysml:58aa0206-e878-4c1d-8c3a-c879ca6e4b13\" xlink:type=\"simple\"><g id=\"elem_E7\"><rect fill=\"#FFFFFF\" height=\"48.2656\" id=\"E7\" rx=\"10\" ry=\"10\" style=\"stroke:#181818;stroke-width:0.5;\" width=\"42\" x=\"398\" y=\"62.5\"/><text fill=\"#000000\" font-family=\"sans-serif\" font-size=\"12\" font-style=\"italic\" lengthAdjust=\"spacing\" textLength=\"40\" x=\"399\" y=\"78.6387\">«part»</text><text fill=\"#000000\" font-family=\"sans-serif\" font-size=\"14\" lengthAdjust=\"spacing\" textLength=\"9\" x=\"410.5\" y=\"94.4639\">d</text><line style=\"stroke:#181818;stroke-width:0.5;\" x1=\"399\" x2=\"439\" y1=\"102.7656\" y2=\"102.7656\"/></g></a><!--MD5=[b9389687b975829384b498ac4b7476b2]\n",
       "class E8--><a href=\"psysml:21978b5e-874b-4020-b12b-41f872f49c78\" target=\"_top\" title=\"psysml:21978b5e-874b-4020-b12b-41f872f49c78\" xlink:actuate=\"onRequest\" xlink:href=\"psysml:21978b5e-874b-4020-b12b-41f872f49c78\" xlink:show=\"new\" xlink:title=\"psysml:21978b5e-874b-4020-b12b-41f872f49c78\" xlink:type=\"simple\"><g id=\"elem_E8\"><rect fill=\"#FFFFFF\" height=\"48.2656\" id=\"E8\" rx=\"10\" ry=\"10\" style=\"stroke:#181818;stroke-width:0.5;\" width=\"42\" x=\"321\" y=\"62.5\"/><text fill=\"#000000\" font-family=\"sans-serif\" font-size=\"12\" font-style=\"italic\" lengthAdjust=\"spacing\" textLength=\"40\" x=\"322\" y=\"78.6387\">«part»</text><text fill=\"#000000\" font-family=\"sans-serif\" font-size=\"14\" lengthAdjust=\"spacing\" textLength=\"9\" x=\"333.5\" y=\"94.4639\">e</text><line style=\"stroke:#181818;stroke-width:0.5;\" x1=\"322\" x2=\"362\" y1=\"102.7656\" y2=\"102.7656\"/></g></a><!--MD5=[fd4143e9d270a159db93a4ea2a975926]\n",
       "class E9--><a href=\"psysml:79f00190-11a9-479d-9f29-e880a27768bf\" target=\"_top\" title=\"psysml:79f00190-11a9-479d-9f29-e880a27768bf\" xlink:actuate=\"onRequest\" xlink:href=\"psysml:79f00190-11a9-479d-9f29-e880a27768bf\" xlink:show=\"new\" xlink:title=\"psysml:79f00190-11a9-479d-9f29-e880a27768bf\" xlink:type=\"simple\"><g id=\"elem_E9\"><rect fill=\"#FFFFFF\" height=\"48.2656\" id=\"E9\" rx=\"10\" ry=\"10\" style=\"stroke:#181818;stroke-width:0.5;\" width=\"42\" x=\"244\" y=\"62.5\"/><text fill=\"#000000\" font-family=\"sans-serif\" font-size=\"12\" font-style=\"italic\" lengthAdjust=\"spacing\" textLength=\"40\" x=\"245\" y=\"78.6387\">«part»</text><text fill=\"#000000\" font-family=\"sans-serif\" font-size=\"14\" lengthAdjust=\"spacing\" textLength=\"4\" x=\"259\" y=\"94.4639\">f</text><line style=\"stroke:#181818;stroke-width:0.5;\" x1=\"245\" x2=\"285\" y1=\"102.7656\" y2=\"102.7656\"/></g></a><!--MD5=[96f4274e9e20536e775497830990834d]\n",
       "class E10--><a href=\"psysml:3e79cc57-1ff4-4d61-ad54-8c0f8362d5da\" target=\"_top\" title=\"psysml:3e79cc57-1ff4-4d61-ad54-8c0f8362d5da\" xlink:actuate=\"onRequest\" xlink:href=\"psysml:3e79cc57-1ff4-4d61-ad54-8c0f8362d5da\" xlink:show=\"new\" xlink:title=\"psysml:3e79cc57-1ff4-4d61-ad54-8c0f8362d5da\" xlink:type=\"simple\"><g id=\"elem_E10\"><rect fill=\"#FFFFFF\" height=\"48.2656\" id=\"E10\" rx=\"10\" ry=\"10\" style=\"stroke:#181818;stroke-width:0.5;\" width=\"42\" x=\"167\" y=\"62.5\"/><text fill=\"#000000\" font-family=\"sans-serif\" font-size=\"12\" font-style=\"italic\" lengthAdjust=\"spacing\" textLength=\"40\" x=\"168\" y=\"78.6387\">«part»</text><text fill=\"#000000\" font-family=\"sans-serif\" font-size=\"14\" lengthAdjust=\"spacing\" textLength=\"9\" x=\"179.5\" y=\"94.4639\">g</text><line style=\"stroke:#181818;stroke-width:0.5;\" x1=\"168\" x2=\"208\" y1=\"102.7656\" y2=\"102.7656\"/></g></a><!--MD5=[1dd1bfd58a279cf63c5f349dbc8fc6a1]\n",
       "class E11--><a href=\"psysml:cae84388-2b2f-4b61-9caf-e3201f6c4bb4\" target=\"_top\" title=\"psysml:cae84388-2b2f-4b61-9caf-e3201f6c4bb4\" xlink:actuate=\"onRequest\" xlink:href=\"psysml:cae84388-2b2f-4b61-9caf-e3201f6c4bb4\" xlink:show=\"new\" xlink:title=\"psysml:cae84388-2b2f-4b61-9caf-e3201f6c4bb4\" xlink:type=\"simple\"><g id=\"elem_E11\"><rect fill=\"#FFFFFF\" height=\"91.3781\" id=\"E11\" style=\"stroke:#181818;stroke-width:0.5;\" width=\"99\" x=\"32.5\" y=\"41\"/><text fill=\"#000000\" font-family=\"sans-serif\" font-size=\"12\" font-style=\"italic\" lengthAdjust=\"spacing\" textLength=\"97\" x=\"33.5\" y=\"57.1387\">«attribute  def»</text><text fill=\"#000000\" font-family=\"sans-serif\" font-size=\"14\" lengthAdjust=\"spacing\" textLength=\"9\" x=\"77.5\" y=\"72.9639\">A</text><line style=\"stroke:#181818;stroke-width:0.5;\" x1=\"33.5\" x2=\"130.5\" y1=\"81.2656\" y2=\"81.2656\"/><text fill=\"#000000\" font-family=\"sans-serif\" font-size=\"14\" lengthAdjust=\"spacing\" textLength=\"61\" x=\"38.5\" y=\"108.7795\">i: Integer</text><text fill=\"#000000\" font-family=\"sans-serif\" font-size=\"14\" lengthAdjust=\"spacing\" textLength=\"25\" x=\"38.5\" y=\"125.0764\">x: A</text><text fill=\"#000000\" font-family=\"sans-serif\" font-size=\"14\" font-style=\"italic\" lengthAdjust=\"spacing\" textLength=\"66\" x=\"49\" y=\"93.6123\">attributes</text></g></a><!--MD5=[15ebcb19ae302d9b601edb458606d402]\n",
       "link E5 to E2--><g id=\"link_E5_E2\"><a href=\"psysml:356b088d-f058-4498-8151-02a64d9c5f99\" target=\"_top\" title=\"psysml:356b088d-f058-4498-8151-02a64d9c5f99\" xlink:actuate=\"onRequest\" xlink:href=\"psysml:356b088d-f058-4498-8151-02a64d9c5f99\" xlink:show=\"new\" xlink:title=\"psysml:356b088d-f058-4498-8151-02a64d9c5f99\" xlink:type=\"simple\"><path d=\"M565.94,110.59 C560.67,127.81 553.32,151.83 547,172.49 \" fill=\"none\" id=\"E5-to-E2\" style=\"stroke:#181818;stroke-width:1.0;\"/><polygon fill=\"#FFFFFF\" points=\"541.14,191.65,539.9958,171.4339,553.3851,175.5237,541.14,191.65\" style=\"stroke:#181818;stroke-width:1.0;\"/><ellipse cx=\"543.5737\" cy=\"166.5668\" fill=\"#181818\" rx=\"2\" ry=\"2\" style=\"stroke:#181818;stroke-width:1.0;\"/><ellipse cx=\"553.1375\" cy=\"169.4881\" fill=\"#181818\" rx=\"2\" ry=\"2\" style=\"stroke:#181818;stroke-width:1.0;\"/></a></g><!--MD5=[2351f337d6de0f557b50152ba70847b5]\n",
       "link E6 to E2--><g id=\"link_E6_E2\"><a href=\"psysml:849948e9-2a63-47c9-a787-96ae36e28ef0\" target=\"_top\" title=\"psysml:849948e9-2a63-47c9-a787-96ae36e28ef0\" xlink:actuate=\"onRequest\" xlink:href=\"psysml:849948e9-2a63-47c9-a787-96ae36e28ef0\" xlink:show=\"new\" xlink:title=\"psysml:849948e9-2a63-47c9-a787-96ae36e28ef0\" xlink:type=\"simple\"><path d=\"M502.88,110.59 C507.99,127.72 515.1,151.58 521.23,172.17 \" fill=\"none\" id=\"E6-to-E2\" style=\"stroke:#181818;stroke-width:1.0;\"/><polygon fill=\"#FFFFFF\" points=\"527.04,191.65,514.9155,175.4328,528.3349,171.443,527.04,191.65\" style=\"stroke:#181818;stroke-width:1.0;\"/><ellipse cx=\"515.2081\" cy=\"169.3992\" fill=\"#181818\" rx=\"2\" ry=\"2\" style=\"stroke:#181818;stroke-width:1.0;\"/><ellipse cx=\"524.7935\" cy=\"166.5493\" fill=\"#181818\" rx=\"2\" ry=\"2\" style=\"stroke:#181818;stroke-width:1.0;\"/></a></g><!--MD5=[dd9b166d32beea1f5faa57d348dde91c]\n",
       "@startuml\r\n",
       "skin sysmlbw\r\n",
       "skinparam monochrome true\r\n",
       "skinparam wrapWidth 300\r\n",
       "hide circle\r\n",
       " \r\n",
       "package \"MultiplicityTest\" as E1  [[psysml:26edc399-ba1b-4e26-98ec-184b2d561983 ]]  {\r\n",
       "comp def \"P\" as E2  <<(T,blue) part  def>> [[psysml:a78c9232-7355-4122-98e1-61ea033b6fbd ]] {\r\n",
       "}\r\n",
       "comp usage \"n: Integer  \" as E3  <<(T,blue) attribute>> [[psysml:6e5bcad0-e721-42f0-8965-8cf810de127c ]] {\r\n",
       "##//values//##\r\n",
       " <U+003D> 5\r\n",
       "}\r\n",
       "comp usage \"a  \" as E4  <<(T,blue) part>> [[psysml:58ca86c4-6609-462b-9948-87aadb08d281 ]] {\r\n",
       "}\r\n",
       "comp usage \"b: P  \" as E5  <<(T,blue) part>> [[psysml:8959fced-ddce-434c-832c-e17faa00a5de ]] {\r\n",
       "}\r\n",
       "comp usage \"c: P  \" as E6  <<(T,blue) part>> [[psysml:4ac8fd09-bbc3-4ec3-ba18-7592ef56bccd ]] {\r\n",
       "}\r\n",
       "comp usage \"d  \" as E7  <<(T,blue) part>> [[psysml:58aa0206-e878-4c1d-8c3a-c879ca6e4b13 ]] {\r\n",
       "}\r\n",
       "comp usage \"e  \" as E8  <<(T,blue) part>> [[psysml:21978b5e-874b-4020-b12b-41f872f49c78 ]] {\r\n",
       "}\r\n",
       "comp usage \"f  \" as E9  <<(T,blue) part>> [[psysml:79f00190-11a9-479d-9f29-e880a27768bf ]] {\r\n",
       "}\r\n",
       "comp usage \"g  \" as E10  <<(T,blue) part>> [[psysml:3e79cc57-1ff4-4d61-ad54-8c0f8362d5da ]] {\r\n",
       "}\r\n",
       "comp def \"A\" as E11  <<(T,blue) attribute  def>> [[psysml:cae84388-2b2f-4b61-9caf-e3201f6c4bb4 ]] {\r\n",
       "##//attributes//##\r\n",
       "i: Integer\r\n",
       "x: A\r\n",
       "}\r\n",
       "}\r\n",
       "E5 - -:|> E2 [[psysml:356b088d-f058-4498-8151-02a64d9c5f99 ]] \r\n",
       "E6 - -:|> E2 [[psysml:849948e9-2a63-47c9-a787-96ae36e28ef0 ]] \r\n",
       "@enduml\r\n",
       "\n",
       "PlantUML version 1.2022.7(Mon Aug 22 17:01:30 UTC 2022)\n",
       "(EPL source distribution)\n",
       "Java Runtime: OpenJDK Runtime Environment\n",
       "JVM: OpenJDK 64-Bit Server VM\n",
       "Default Encoding: UTF-8\n",
       "Language: en\n",
       "Country: null\n",
       "--></g></svg>"
      ]
     },
     "execution_count": 2,
     "metadata": {},
     "output_type": "execute_result"
    }
   ],
   "source": [
    "%viz --style=\"COMPTREE\" --view=\"Default\" \"MultiplicityTest\""
   ]
  },
  {
   "cell_type": "code",
   "execution_count": 3,
   "id": "0947e65f",
   "metadata": {
    "execution": {
     "iopub.execute_input": "2024-12-16T03:27:04.284322Z",
     "iopub.status.busy": "2024-12-16T03:27:04.284096Z",
     "iopub.status.idle": "2024-12-16T03:27:04.345415Z",
     "shell.execute_reply": "2024-12-16T03:27:04.345569Z"
    }
   },
   "outputs": [
    {
     "data": {
      "image/svg+xml": [
       "<?xml version=\"1.0\" encoding=\"UTF-8\" standalone=\"no\"?><svg xmlns=\"http://www.w3.org/2000/svg\" xmlns:xlink=\"http://www.w3.org/1999/xlink\" contentStyleType=\"text/css\" height=\"263px\" preserveAspectRatio=\"none\" style=\"width:916px;height:263px;background:#FFFFFF;\" version=\"1.1\" viewBox=\"0 0 916 263\" width=\"916px\" zoomAndPan=\"magnify\"><defs/><g><!--MD5=[fbc87193dbaf4d95561dea2c320d4a47]\n",
       "cluster E1--><g id=\"cluster_E1\"><a href=\"psysml:26edc399-ba1b-4e26-98ec-184b2d561983\" target=\"_top\" title=\"psysml:26edc399-ba1b-4e26-98ec-184b2d561983\" xlink:actuate=\"onRequest\" xlink:href=\"psysml:26edc399-ba1b-4e26-98ec-184b2d561983\" xlink:show=\"new\" xlink:title=\"psysml:26edc399-ba1b-4e26-98ec-184b2d561983\" xlink:type=\"simple\"><polygon fill=\"none\" points=\"16,6,130,6,137,28.2969,899,28.2969,899,256,16,256,16,6\" style=\"stroke:#000000;stroke-width:1.5;\"/><line style=\"stroke:#000000;stroke-width:1.5;\" x1=\"16\" x2=\"137\" y1=\"28.2969\" y2=\"28.2969\"/><text fill=\"#000000\" font-family=\"sans-serif\" font-size=\"14\" font-weight=\"bold\" lengthAdjust=\"spacing\" textLength=\"108\" x=\"20\" y=\"20.9951\">MultiplicityTest</text></a></g><!--MD5=[b4997ac47864f28c2f74865a473b2911]\n",
       "class E2--><a href=\"psysml:a78c9232-7355-4122-98e1-61ea033b6fbd\" target=\"_top\" title=\"psysml:a78c9232-7355-4122-98e1-61ea033b6fbd\" xlink:actuate=\"onRequest\" xlink:href=\"psysml:a78c9232-7355-4122-98e1-61ea033b6fbd\" xlink:show=\"new\" xlink:title=\"psysml:a78c9232-7355-4122-98e1-61ea033b6fbd\" xlink:type=\"simple\"><g id=\"elem_E2\"><rect fill=\"#FFFFFF\" height=\"48.2656\" id=\"E2\" style=\"stroke:#181818;stroke-width:0.5;\" width=\"70\" x=\"559\" y=\"192\"/><text fill=\"#000000\" font-family=\"sans-serif\" font-size=\"12\" font-style=\"italic\" lengthAdjust=\"spacing\" textLength=\"68\" x=\"560\" y=\"208.1387\">«part  def»</text><text fill=\"#000000\" font-family=\"sans-serif\" font-size=\"14\" lengthAdjust=\"spacing\" textLength=\"9\" x=\"589.5\" y=\"223.9639\">P</text><line style=\"stroke:#181818;stroke-width:0.5;\" x1=\"560\" x2=\"628\" y1=\"232.2656\" y2=\"232.2656\"/></g></a><!--MD5=[09b614a08d8cba4a07c9adeb5e0fee81]\n",
       "class E3--><a href=\"psysml:6e5bcad0-e721-42f0-8965-8cf810de127c\" target=\"_top\" title=\"psysml:6e5bcad0-e721-42f0-8965-8cf810de127c\" xlink:actuate=\"onRequest\" xlink:href=\"psysml:6e5bcad0-e721-42f0-8965-8cf810de127c\" xlink:show=\"new\" xlink:title=\"psysml:6e5bcad0-e721-42f0-8965-8cf810de127c\" xlink:type=\"simple\"><g id=\"elem_E3\"><rect fill=\"#FFFFFF\" height=\"75.0813\" id=\"E3\" rx=\"10\" ry=\"10\" style=\"stroke:#181818;stroke-width:0.5;\" width=\"81\" x=\"801.5\" y=\"49\"/><text fill=\"#000000\" font-family=\"sans-serif\" font-size=\"12\" font-style=\"italic\" lengthAdjust=\"spacing\" textLength=\"69\" x=\"807.5\" y=\"65.1387\">«attribute»</text><text fill=\"#000000\" font-family=\"sans-serif\" font-size=\"14\" lengthAdjust=\"spacing\" textLength=\"67\" x=\"804.5\" y=\"80.9639\">n: Integer</text><line style=\"stroke:#181818;stroke-width:0.5;\" x1=\"802.5\" x2=\"881.5\" y1=\"89.2656\" y2=\"89.2656\"/><text fill=\"#000000\" font-family=\"sans-serif\" font-size=\"14\" lengthAdjust=\"spacing\" textLength=\"25\" x=\"807.5\" y=\"116.7795\">= 5</text><text fill=\"#000000\" font-family=\"sans-serif\" font-size=\"14\" font-style=\"italic\" lengthAdjust=\"spacing\" textLength=\"44\" x=\"820\" y=\"101.6123\">values</text></g></a><!--MD5=[ebbe1d658d1005bcc118a6aa81145e00]\n",
       "class E4--><a href=\"psysml:58ca86c4-6609-462b-9948-87aadb08d281\" target=\"_top\" title=\"psysml:58ca86c4-6609-462b-9948-87aadb08d281\" xlink:actuate=\"onRequest\" xlink:href=\"psysml:58ca86c4-6609-462b-9948-87aadb08d281\" xlink:show=\"new\" xlink:title=\"psysml:58ca86c4-6609-462b-9948-87aadb08d281\" xlink:type=\"simple\"><g id=\"elem_E4\"><rect fill=\"#FFFFFF\" height=\"48.2656\" id=\"E4\" rx=\"10\" ry=\"10\" style=\"stroke:#181818;stroke-width:0.5;\" width=\"42\" x=\"724\" y=\"62.5\"/><text fill=\"#000000\" font-family=\"sans-serif\" font-size=\"12\" font-style=\"italic\" lengthAdjust=\"spacing\" textLength=\"40\" x=\"725\" y=\"78.6387\">«part»</text><text fill=\"#000000\" font-family=\"sans-serif\" font-size=\"14\" lengthAdjust=\"spacing\" textLength=\"27\" x=\"727.5\" y=\"94.4639\">a[1]</text><line style=\"stroke:#181818;stroke-width:0.5;\" x1=\"725\" x2=\"765\" y1=\"102.7656\" y2=\"102.7656\"/></g></a><!--MD5=[270fce915f116d4de14055a7c1d9a0f3]\n",
       "class E5--><a href=\"psysml:8959fced-ddce-434c-832c-e17faa00a5de\" target=\"_top\" title=\"psysml:8959fced-ddce-434c-832c-e17faa00a5de\" xlink:actuate=\"onRequest\" xlink:href=\"psysml:8959fced-ddce-434c-832c-e17faa00a5de\" xlink:show=\"new\" xlink:title=\"psysml:8959fced-ddce-434c-832c-e17faa00a5de\" xlink:type=\"simple\"><g id=\"elem_E5\"><rect fill=\"#FFFFFF\" height=\"48.2656\" id=\"E5\" rx=\"10\" ry=\"10\" style=\"stroke:#181818;stroke-width:0.5;\" width=\"77\" x=\"611.5\" y=\"62.5\"/><text fill=\"#000000\" font-family=\"sans-serif\" font-size=\"12\" font-style=\"italic\" lengthAdjust=\"spacing\" textLength=\"40\" x=\"630\" y=\"78.6387\">«part»</text><text fill=\"#000000\" font-family=\"sans-serif\" font-size=\"14\" lengthAdjust=\"spacing\" textLength=\"63\" x=\"614.5\" y=\"94.4639\">b: P[0..2]</text><line style=\"stroke:#181818;stroke-width:0.5;\" x1=\"612.5\" x2=\"687.5\" y1=\"102.7656\" y2=\"102.7656\"/></g></a><!--MD5=[60a26617385b1d2d0262a64233df1f8d]\n",
       "class E6--><a href=\"psysml:4ac8fd09-bbc3-4ec3-ba18-7592ef56bccd\" target=\"_top\" title=\"psysml:4ac8fd09-bbc3-4ec3-ba18-7592ef56bccd\" xlink:actuate=\"onRequest\" xlink:href=\"psysml:4ac8fd09-bbc3-4ec3-ba18-7592ef56bccd\" xlink:show=\"new\" xlink:title=\"psysml:4ac8fd09-bbc3-4ec3-ba18-7592ef56bccd\" xlink:type=\"simple\"><g id=\"elem_E6\"><rect fill=\"#FFFFFF\" height=\"48.2656\" id=\"E6\" rx=\"10\" ry=\"10\" style=\"stroke:#181818;stroke-width:0.5;\" width=\"74\" x=\"502\" y=\"62.5\"/><text fill=\"#000000\" font-family=\"sans-serif\" font-size=\"12\" font-style=\"italic\" lengthAdjust=\"spacing\" textLength=\"40\" x=\"519\" y=\"78.6387\">«part»</text><text fill=\"#000000\" font-family=\"sans-serif\" font-size=\"14\" lengthAdjust=\"spacing\" textLength=\"60\" x=\"505\" y=\"94.4639\">c: P[2..*]</text><line style=\"stroke:#181818;stroke-width:0.5;\" x1=\"503\" x2=\"575\" y1=\"102.7656\" y2=\"102.7656\"/></g></a><!--MD5=[2156ba9850f5573cc1fc38a6a4b2f02b]\n",
       "class E7--><a href=\"psysml:58aa0206-e878-4c1d-8c3a-c879ca6e4b13\" target=\"_top\" title=\"psysml:58aa0206-e878-4c1d-8c3a-c879ca6e4b13\" xlink:actuate=\"onRequest\" xlink:href=\"psysml:58aa0206-e878-4c1d-8c3a-c879ca6e4b13\" xlink:show=\"new\" xlink:title=\"psysml:58aa0206-e878-4c1d-8c3a-c879ca6e4b13\" xlink:type=\"simple\"><g id=\"elem_E7\"><rect fill=\"#FFFFFF\" height=\"48.2656\" id=\"E7\" rx=\"10\" ry=\"10\" style=\"stroke:#181818;stroke-width:0.5;\" width=\"42\" x=\"425\" y=\"62.5\"/><text fill=\"#000000\" font-family=\"sans-serif\" font-size=\"12\" font-style=\"italic\" lengthAdjust=\"spacing\" textLength=\"40\" x=\"426\" y=\"78.6387\">«part»</text><text fill=\"#000000\" font-family=\"sans-serif\" font-size=\"14\" lengthAdjust=\"spacing\" textLength=\"26\" x=\"429\" y=\"94.4639\">d[*]</text><line style=\"stroke:#181818;stroke-width:0.5;\" x1=\"426\" x2=\"466\" y1=\"102.7656\" y2=\"102.7656\"/></g></a><!--MD5=[b9389687b975829384b498ac4b7476b2]\n",
       "class E8--><a href=\"psysml:21978b5e-874b-4020-b12b-41f872f49c78\" target=\"_top\" title=\"psysml:21978b5e-874b-4020-b12b-41f872f49c78\" xlink:actuate=\"onRequest\" xlink:href=\"psysml:21978b5e-874b-4020-b12b-41f872f49c78\" xlink:show=\"new\" xlink:title=\"psysml:21978b5e-874b-4020-b12b-41f872f49c78\" xlink:type=\"simple\"><g id=\"elem_E8\"><rect fill=\"#FFFFFF\" height=\"48.2656\" id=\"E8\" rx=\"10\" ry=\"10\" style=\"stroke:#181818;stroke-width:0.5;\" width=\"42\" x=\"348\" y=\"62.5\"/><text fill=\"#000000\" font-family=\"sans-serif\" font-size=\"12\" font-style=\"italic\" lengthAdjust=\"spacing\" textLength=\"40\" x=\"349\" y=\"78.6387\">«part»</text><text fill=\"#000000\" font-family=\"sans-serif\" font-size=\"14\" lengthAdjust=\"spacing\" textLength=\"28\" x=\"351\" y=\"94.4639\">e[n]</text><line style=\"stroke:#181818;stroke-width:0.5;\" x1=\"349\" x2=\"389\" y1=\"102.7656\" y2=\"102.7656\"/></g></a><!--MD5=[fd4143e9d270a159db93a4ea2a975926]\n",
       "class E9--><a href=\"psysml:79f00190-11a9-479d-9f29-e880a27768bf\" target=\"_top\" title=\"psysml:79f00190-11a9-479d-9f29-e880a27768bf\" xlink:actuate=\"onRequest\" xlink:href=\"psysml:79f00190-11a9-479d-9f29-e880a27768bf\" xlink:show=\"new\" xlink:title=\"psysml:79f00190-11a9-479d-9f29-e880a27768bf\" xlink:type=\"simple\"><g id=\"elem_E9\"><rect fill=\"#FFFFFF\" height=\"48.2656\" id=\"E9\" rx=\"10\" ry=\"10\" style=\"stroke:#181818;stroke-width:0.5;\" width=\"52\" x=\"261\" y=\"62.5\"/><text fill=\"#000000\" font-family=\"sans-serif\" font-size=\"12\" font-style=\"italic\" lengthAdjust=\"spacing\" textLength=\"40\" x=\"267\" y=\"78.6387\">«part»</text><text fill=\"#000000\" font-family=\"sans-serif\" font-size=\"14\" lengthAdjust=\"spacing\" textLength=\"38\" x=\"264\" y=\"94.4639\">f[n..*]</text><line style=\"stroke:#181818;stroke-width:0.5;\" x1=\"262\" x2=\"312\" y1=\"102.7656\" y2=\"102.7656\"/></g></a><!--MD5=[96f4274e9e20536e775497830990834d]\n",
       "class E10--><a href=\"psysml:3e79cc57-1ff4-4d61-ad54-8c0f8362d5da\" target=\"_top\" title=\"psysml:3e79cc57-1ff4-4d61-ad54-8c0f8362d5da\" xlink:actuate=\"onRequest\" xlink:href=\"psysml:3e79cc57-1ff4-4d61-ad54-8c0f8362d5da\" xlink:show=\"new\" xlink:title=\"psysml:3e79cc57-1ff4-4d61-ad54-8c0f8362d5da\" xlink:type=\"simple\"><g id=\"elem_E10\"><rect fill=\"#FFFFFF\" height=\"48.2656\" id=\"E10\" rx=\"10\" ry=\"10\" style=\"stroke:#181818;stroke-width:0.5;\" width=\"59\" x=\"166.5\" y=\"62.5\"/><text fill=\"#000000\" font-family=\"sans-serif\" font-size=\"12\" font-style=\"italic\" lengthAdjust=\"spacing\" textLength=\"40\" x=\"176\" y=\"78.6387\">«part»</text><text fill=\"#000000\" font-family=\"sans-serif\" font-size=\"14\" lengthAdjust=\"spacing\" textLength=\"45\" x=\"169.5\" y=\"94.4639\">g[1..n]</text><line style=\"stroke:#181818;stroke-width:0.5;\" x1=\"167.5\" x2=\"224.5\" y1=\"102.7656\" y2=\"102.7656\"/></g></a><!--MD5=[1dd1bfd58a279cf63c5f349dbc8fc6a1]\n",
       "class E11--><a href=\"psysml:cae84388-2b2f-4b61-9caf-e3201f6c4bb4\" target=\"_top\" title=\"psysml:cae84388-2b2f-4b61-9caf-e3201f6c4bb4\" xlink:actuate=\"onRequest\" xlink:href=\"psysml:cae84388-2b2f-4b61-9caf-e3201f6c4bb4\" xlink:show=\"new\" xlink:title=\"psysml:cae84388-2b2f-4b61-9caf-e3201f6c4bb4\" xlink:type=\"simple\"><g id=\"elem_E11\"><rect fill=\"#FFFFFF\" height=\"91.3781\" id=\"E11\" style=\"stroke:#181818;stroke-width:0.5;\" width=\"99\" x=\"32.5\" y=\"41\"/><text fill=\"#000000\" font-family=\"sans-serif\" font-size=\"12\" font-style=\"italic\" lengthAdjust=\"spacing\" textLength=\"97\" x=\"33.5\" y=\"57.1387\">«attribute  def»</text><text fill=\"#000000\" font-family=\"sans-serif\" font-size=\"14\" lengthAdjust=\"spacing\" textLength=\"9\" x=\"77.5\" y=\"72.9639\">A</text><line style=\"stroke:#181818;stroke-width:0.5;\" x1=\"33.5\" x2=\"130.5\" y1=\"81.2656\" y2=\"81.2656\"/><text fill=\"#000000\" font-family=\"sans-serif\" font-size=\"14\" lengthAdjust=\"spacing\" textLength=\"61\" x=\"38.5\" y=\"108.7795\">i: Integer</text><text fill=\"#000000\" font-family=\"sans-serif\" font-size=\"14\" lengthAdjust=\"spacing\" textLength=\"25\" x=\"38.5\" y=\"125.0764\">x: A</text><text fill=\"#000000\" font-family=\"sans-serif\" font-size=\"14\" font-style=\"italic\" lengthAdjust=\"spacing\" textLength=\"66\" x=\"49\" y=\"93.6123\">attributes</text></g></a><!--MD5=[15ebcb19ae302d9b601edb458606d402]\n",
       "link E5 to E2--><g id=\"link_E5_E2\"><a href=\"psysml:356b088d-f058-4498-8151-02a64d9c5f99\" target=\"_top\" title=\"psysml:356b088d-f058-4498-8151-02a64d9c5f99\" xlink:actuate=\"onRequest\" xlink:href=\"psysml:356b088d-f058-4498-8151-02a64d9c5f99\" xlink:show=\"new\" xlink:title=\"psysml:356b088d-f058-4498-8151-02a64d9c5f99\" xlink:type=\"simple\"><path d=\"M639.86,110.59 C632.22,127.99 621.53,152.33 612.39,173.13 \" fill=\"none\" id=\"E5-to-E2\" style=\"stroke:#181818;stroke-width:1.0;\"/><polygon fill=\"#FFFFFF\" points=\"604.25,191.65,605.4806,171.439,618.2989,177.0683,604.25,191.65\" style=\"stroke:#181818;stroke-width:1.0;\"/><ellipse cx=\"609.6037\" cy=\"167.0242\" fill=\"#181818\" rx=\"2\" ry=\"2\" style=\"stroke:#181818;stroke-width:1.0;\"/><ellipse cx=\"618.7597\" cy=\"171.0452\" fill=\"#181818\" rx=\"2\" ry=\"2\" style=\"stroke:#181818;stroke-width:1.0;\"/></a></g><!--MD5=[2351f337d6de0f557b50152ba70847b5]\n",
       "link E6 to E2--><g id=\"link_E6_E2\"><a href=\"psysml:849948e9-2a63-47c9-a787-96ae36e28ef0\" target=\"_top\" title=\"psysml:849948e9-2a63-47c9-a787-96ae36e28ef0\" xlink:actuate=\"onRequest\" xlink:href=\"psysml:849948e9-2a63-47c9-a787-96ae36e28ef0\" xlink:show=\"new\" xlink:title=\"psysml:849948e9-2a63-47c9-a787-96ae36e28ef0\" xlink:type=\"simple\"><path d=\"M548.96,110.59 C556.47,127.99 566.97,152.33 575.94,173.13 \" fill=\"none\" id=\"E6-to-E2\" style=\"stroke:#181818;stroke-width:1.0;\"/><polygon fill=\"#FFFFFF\" points=\"583.93,191.65,569.9702,176.9829,582.8226,171.4318,583.93,191.65\" style=\"stroke:#181818;stroke-width:1.0;\"/><ellipse cx=\"569.5462\" cy=\"170.9571\" fill=\"#181818\" rx=\"2\" ry=\"2\" style=\"stroke:#181818;stroke-width:1.0;\"/><ellipse cx=\"578.7265\" cy=\"166.9921\" fill=\"#181818\" rx=\"2\" ry=\"2\" style=\"stroke:#181818;stroke-width:1.0;\"/></a></g><!--MD5=[121b7c96b64258ddb8ba9a08c476feed]\n",
       "@startuml\r\n",
       "skin sysmlbw\r\n",
       "skinparam monochrome true\r\n",
       "skinparam wrapWidth 300\r\n",
       "hide circle\r\n",
       " \r\n",
       "package \"MultiplicityTest\" as E1  [[psysml:26edc399-ba1b-4e26-98ec-184b2d561983 ]]  {\r\n",
       "comp def \"P\" as E2  <<(T,blue) part  def>> [[psysml:a78c9232-7355-4122-98e1-61ea033b6fbd ]] {\r\n",
       "}\r\n",
       "comp usage \"n: Integer  \" as E3  <<(T,blue) attribute>> [[psysml:6e5bcad0-e721-42f0-8965-8cf810de127c ]] {\r\n",
       "##//values//##\r\n",
       " <U+003D> 5\r\n",
       "}\r\n",
       "comp usage \"a[1]  \" as E4  <<(T,blue) part>> [[psysml:58ca86c4-6609-462b-9948-87aadb08d281 ]] {\r\n",
       "}\r\n",
       "comp usage \"b: P[0..2]  \" as E5  <<(T,blue) part>> [[psysml:8959fced-ddce-434c-832c-e17faa00a5de ]] {\r\n",
       "}\r\n",
       "comp usage \"c: P[2..*]  \" as E6  <<(T,blue) part>> [[psysml:4ac8fd09-bbc3-4ec3-ba18-7592ef56bccd ]] {\r\n",
       "}\r\n",
       "comp usage \"d[*]  \" as E7  <<(T,blue) part>> [[psysml:58aa0206-e878-4c1d-8c3a-c879ca6e4b13 ]] {\r\n",
       "}\r\n",
       "comp usage \"e[n]  \" as E8  <<(T,blue) part>> [[psysml:21978b5e-874b-4020-b12b-41f872f49c78 ]] {\r\n",
       "}\r\n",
       "comp usage \"f[n..*]  \" as E9  <<(T,blue) part>> [[psysml:79f00190-11a9-479d-9f29-e880a27768bf ]] {\r\n",
       "}\r\n",
       "comp usage \"g[1..n]  \" as E10  <<(T,blue) part>> [[psysml:3e79cc57-1ff4-4d61-ad54-8c0f8362d5da ]] {\r\n",
       "}\r\n",
       "comp def \"A\" as E11  <<(T,blue) attribute  def>> [[psysml:cae84388-2b2f-4b61-9caf-e3201f6c4bb4 ]] {\r\n",
       "##//attributes//##\r\n",
       "i: Integer\r\n",
       "x: A\r\n",
       "}\r\n",
       "}\r\n",
       "E5 - -:|> E2 [[psysml:356b088d-f058-4498-8151-02a64d9c5f99 ]] \r\n",
       "E6 - -:|> E2 [[psysml:849948e9-2a63-47c9-a787-96ae36e28ef0 ]] \r\n",
       "@enduml\r\n",
       "\n",
       "PlantUML version 1.2022.7(Mon Aug 22 17:01:30 UTC 2022)\n",
       "(EPL source distribution)\n",
       "Java Runtime: OpenJDK Runtime Environment\n",
       "JVM: OpenJDK 64-Bit Server VM\n",
       "Default Encoding: UTF-8\n",
       "Language: en\n",
       "Country: null\n",
       "--></g></svg>"
      ]
     },
     "execution_count": 3,
     "metadata": {},
     "output_type": "execute_result"
    }
   ],
   "source": [
    "%viz --style=\"COMPTREE\" --view=\"Tree\" \"MultiplicityTest\""
   ]
  },
  {
   "cell_type": "code",
   "execution_count": 4,
   "id": "ffe4d844",
   "metadata": {
    "execution": {
     "iopub.execute_input": "2024-12-16T03:27:04.398834Z",
     "iopub.status.busy": "2024-12-16T03:27:04.398606Z",
     "iopub.status.idle": "2024-12-16T03:27:04.411965Z",
     "shell.execute_reply": "2024-12-16T03:27:04.412100Z"
    }
   },
   "outputs": [
    {
     "data": {
      "image/svg+xml": [
       "<?xml version=\"1.0\" encoding=\"UTF-8\" standalone=\"no\"?><svg xmlns=\"http://www.w3.org/2000/svg\" xmlns:xlink=\"http://www.w3.org/1999/xlink\" contentStyleType=\"text/css\" height=\"10px\" preserveAspectRatio=\"none\" style=\"width:10px;height:10px;background:#FFFFFF;\" version=\"1.1\" viewBox=\"0 0 10 10\" width=\"10px\" zoomAndPan=\"magnify\"><defs/><g><!--MD5=[ee07d3037018df61283447c7fdb4a44f]\n",
       "@startuml\r\n",
       "skin sysmlbw\r\n",
       "skinparam monochrome true\r\n",
       "skinparam wrapWidth 300\r\n",
       "hide circle\r\n",
       " \r\n",
       "@enduml\r\n",
       "\n",
       "PlantUML version 1.2022.7(Mon Aug 22 17:01:30 UTC 2022)\n",
       "(EPL source distribution)\n",
       "Java Runtime: OpenJDK Runtime Environment\n",
       "JVM: OpenJDK 64-Bit Server VM\n",
       "Default Encoding: UTF-8\n",
       "Language: en\n",
       "Country: null\n",
       "--></g></svg>"
      ]
     },
     "execution_count": 4,
     "metadata": {},
     "output_type": "execute_result"
    }
   ],
   "source": [
    "%viz --style=\"COMPTREE\" --view=\"State\" \"MultiplicityTest\""
   ]
  },
  {
   "cell_type": "code",
   "execution_count": 5,
   "id": "ee5d5fdc",
   "metadata": {
    "execution": {
     "iopub.execute_input": "2024-12-16T03:27:04.468561Z",
     "iopub.status.busy": "2024-12-16T03:27:04.467856Z",
     "iopub.status.idle": "2024-12-16T03:27:04.505177Z",
     "shell.execute_reply": "2024-12-16T03:27:04.505014Z"
    }
   },
   "outputs": [
    {
     "data": {
      "image/svg+xml": [
       "<?xml version=\"1.0\" encoding=\"UTF-8\" standalone=\"no\"?><svg xmlns=\"http://www.w3.org/2000/svg\" xmlns:xlink=\"http://www.w3.org/1999/xlink\" contentStyleType=\"text/css\" height=\"194px\" preserveAspectRatio=\"none\" style=\"width:881px;height:194px;background:#FFFFFF;\" version=\"1.1\" viewBox=\"0 0 881 194\" width=\"881px\" zoomAndPan=\"magnify\"><defs/><g><!--MD5=[fbc87193dbaf4d95561dea2c320d4a47]\n",
       "cluster E1--><g id=\"cluster_E1\"><a href=\"psysml:26edc399-ba1b-4e26-98ec-184b2d561983\" target=\"_top\" title=\"psysml:26edc399-ba1b-4e26-98ec-184b2d561983\" xlink:actuate=\"onRequest\" xlink:href=\"psysml:26edc399-ba1b-4e26-98ec-184b2d561983\" xlink:show=\"new\" xlink:title=\"psysml:26edc399-ba1b-4e26-98ec-184b2d561983\" xlink:type=\"simple\"><polygon fill=\"none\" points=\"16,6,130,6,137,28.2969,864,28.2969,864,187,16,187,16,6\" style=\"stroke:#000000;stroke-width:1.5;\"/><line style=\"stroke:#000000;stroke-width:1.5;\" x1=\"16\" x2=\"137\" y1=\"28.2969\" y2=\"28.2969\"/><text fill=\"#000000\" font-family=\"sans-serif\" font-size=\"14\" font-weight=\"bold\" lengthAdjust=\"spacing\" textLength=\"108\" x=\"20\" y=\"20.9951\">MultiplicityTest</text></a></g><!--MD5=[09b614a08d8cba4a07c9adeb5e0fee81]\n",
       "class E3--><a href=\"psysml:6e5bcad0-e721-42f0-8965-8cf810de127c\" target=\"_top\" title=\"psysml:6e5bcad0-e721-42f0-8965-8cf810de127c\" xlink:actuate=\"onRequest\" xlink:href=\"psysml:6e5bcad0-e721-42f0-8965-8cf810de127c\" xlink:show=\"new\" xlink:title=\"psysml:6e5bcad0-e721-42f0-8965-8cf810de127c\" xlink:type=\"simple\"><g id=\"elem_E3\"><rect fill=\"#FFFFFF\" height=\"75.0813\" id=\"E3\" rx=\"10\" ry=\"10\" style=\"stroke:#181818;stroke-width:0.5;\" width=\"81\" x=\"766.5\" y=\"41\"/><text fill=\"#000000\" font-family=\"sans-serif\" font-size=\"12\" font-style=\"italic\" lengthAdjust=\"spacing\" textLength=\"69\" x=\"772.5\" y=\"57.1387\">«attribute»</text><text fill=\"#000000\" font-family=\"sans-serif\" font-size=\"14\" lengthAdjust=\"spacing\" textLength=\"67\" x=\"769.5\" y=\"72.9639\">n: Integer</text><line style=\"stroke:#181818;stroke-width:0.5;\" x1=\"767.5\" x2=\"846.5\" y1=\"81.2656\" y2=\"81.2656\"/><text fill=\"#000000\" font-family=\"sans-serif\" font-size=\"14\" lengthAdjust=\"spacing\" textLength=\"25\" x=\"772.5\" y=\"108.7795\">= 5</text><text fill=\"#000000\" font-family=\"sans-serif\" font-size=\"14\" font-style=\"italic\" lengthAdjust=\"spacing\" textLength=\"44\" x=\"785\" y=\"93.6123\">values</text></g></a><g><a href=\"psysml:cae84388-2b2f-4b61-9caf-e3201f6c4bb4\" target=\"_top\" title=\"psysml:cae84388-2b2f-4b61-9caf-e3201f6c4bb4\" xlink:actuate=\"onRequest\" xlink:href=\"psysml:cae84388-2b2f-4b61-9caf-e3201f6c4bb4\" xlink:show=\"new\" xlink:title=\"psysml:cae84388-2b2f-4b61-9caf-e3201f6c4bb4\" xlink:type=\"simple\"><rect fill=\"#FFFFFF\" height=\"45.2656\" id=\"E11\" style=\"stroke:#383838;stroke-width:1.5;\" width=\"104\" x=\"627\" y=\"56\"/><text fill=\"#000000\" font-family=\"sans-serif\" font-size=\"12\" font-style=\"italic\" lengthAdjust=\"spacing\" textLength=\"97\" x=\"630.5\" y=\"72.1387\">«attribute  def»</text><text fill=\"#000000\" font-family=\"sans-serif\" font-size=\"14\" lengthAdjust=\"spacing\" textLength=\"9\" x=\"674.5\" y=\"87.9639\">A</text></a></g><g><a href=\"psysml:a78c9232-7355-4122-98e1-61ea033b6fbd\" target=\"_top\" title=\"psysml:a78c9232-7355-4122-98e1-61ea033b6fbd\" xlink:actuate=\"onRequest\" xlink:href=\"psysml:a78c9232-7355-4122-98e1-61ea033b6fbd\" xlink:show=\"new\" xlink:title=\"psysml:a78c9232-7355-4122-98e1-61ea033b6fbd\" xlink:type=\"simple\"><rect fill=\"#FFFFFF\" height=\"45.2656\" id=\"E2\" style=\"stroke:#383838;stroke-width:1.5;\" width=\"75\" x=\"401.5\" y=\"126\"/><text fill=\"#000000\" font-family=\"sans-serif\" font-size=\"12\" font-style=\"italic\" lengthAdjust=\"spacing\" textLength=\"68\" x=\"405\" y=\"142.1387\">«part  def»</text><text fill=\"#000000\" font-family=\"sans-serif\" font-size=\"14\" lengthAdjust=\"spacing\" textLength=\"9\" x=\"434.5\" y=\"157.9639\">P</text></a></g><g><a href=\"psysml:58ca86c4-6609-462b-9948-87aadb08d281\" target=\"_top\" title=\"psysml:58ca86c4-6609-462b-9948-87aadb08d281\" xlink:actuate=\"onRequest\" xlink:href=\"psysml:58ca86c4-6609-462b-9948-87aadb08d281\" xlink:show=\"new\" xlink:title=\"psysml:58ca86c4-6609-462b-9948-87aadb08d281\" xlink:type=\"simple\"><rect fill=\"#FFFFFF\" height=\"40\" id=\"E4\" rx=\"10\" ry=\"10\" style=\"stroke:#383838;stroke-width:1.5;\" width=\"50\" x=\"542\" y=\"58.5\"/><text fill=\"#000000\" font-family=\"sans-serif\" font-size=\"14\" lengthAdjust=\"spacing\" textLength=\"8\" x=\"563\" y=\"76.4951\">a</text></a></g><g><a href=\"psysml:8959fced-ddce-434c-832c-e17faa00a5de\" target=\"_top\" title=\"psysml:8959fced-ddce-434c-832c-e17faa00a5de\" xlink:actuate=\"onRequest\" xlink:href=\"psysml:8959fced-ddce-434c-832c-e17faa00a5de\" xlink:show=\"new\" xlink:title=\"psysml:8959fced-ddce-434c-832c-e17faa00a5de\" xlink:type=\"simple\"><rect fill=\"#FFFFFF\" height=\"40\" id=\"E5\" rx=\"10\" ry=\"10\" style=\"stroke:#383838;stroke-width:1.5;\" width=\"50\" x=\"457\" y=\"58.5\"/><text fill=\"#000000\" font-family=\"sans-serif\" font-size=\"14\" lengthAdjust=\"spacing\" textLength=\"27\" x=\"468.5\" y=\"76.4951\">b: P</text></a></g><g><a href=\"psysml:4ac8fd09-bbc3-4ec3-ba18-7592ef56bccd\" target=\"_top\" title=\"psysml:4ac8fd09-bbc3-4ec3-ba18-7592ef56bccd\" xlink:actuate=\"onRequest\" xlink:href=\"psysml:4ac8fd09-bbc3-4ec3-ba18-7592ef56bccd\" xlink:show=\"new\" xlink:title=\"psysml:4ac8fd09-bbc3-4ec3-ba18-7592ef56bccd\" xlink:type=\"simple\"><rect fill=\"#FFFFFF\" height=\"40\" id=\"E6\" rx=\"10\" ry=\"10\" style=\"stroke:#383838;stroke-width:1.5;\" width=\"50\" x=\"372\" y=\"58.5\"/><text fill=\"#000000\" font-family=\"sans-serif\" font-size=\"14\" lengthAdjust=\"spacing\" textLength=\"26\" x=\"384\" y=\"76.4951\">c: P</text></a></g><g><a href=\"psysml:58aa0206-e878-4c1d-8c3a-c879ca6e4b13\" target=\"_top\" title=\"psysml:58aa0206-e878-4c1d-8c3a-c879ca6e4b13\" xlink:actuate=\"onRequest\" xlink:href=\"psysml:58aa0206-e878-4c1d-8c3a-c879ca6e4b13\" xlink:show=\"new\" xlink:title=\"psysml:58aa0206-e878-4c1d-8c3a-c879ca6e4b13\" xlink:type=\"simple\"><rect fill=\"#FFFFFF\" height=\"40\" id=\"E7\" rx=\"10\" ry=\"10\" style=\"stroke:#383838;stroke-width:1.5;\" width=\"50\" x=\"287\" y=\"58.5\"/><text fill=\"#000000\" font-family=\"sans-serif\" font-size=\"14\" lengthAdjust=\"spacing\" textLength=\"9\" x=\"307.5\" y=\"76.4951\">d</text></a></g><g><a href=\"psysml:21978b5e-874b-4020-b12b-41f872f49c78\" target=\"_top\" title=\"psysml:21978b5e-874b-4020-b12b-41f872f49c78\" xlink:actuate=\"onRequest\" xlink:href=\"psysml:21978b5e-874b-4020-b12b-41f872f49c78\" xlink:show=\"new\" xlink:title=\"psysml:21978b5e-874b-4020-b12b-41f872f49c78\" xlink:type=\"simple\"><rect fill=\"#FFFFFF\" height=\"40\" id=\"E8\" rx=\"10\" ry=\"10\" style=\"stroke:#383838;stroke-width:1.5;\" width=\"50\" x=\"202\" y=\"58.5\"/><text fill=\"#000000\" font-family=\"sans-serif\" font-size=\"14\" lengthAdjust=\"spacing\" textLength=\"9\" x=\"222.5\" y=\"76.4951\">e</text></a></g><g><a href=\"psysml:79f00190-11a9-479d-9f29-e880a27768bf\" target=\"_top\" title=\"psysml:79f00190-11a9-479d-9f29-e880a27768bf\" xlink:actuate=\"onRequest\" xlink:href=\"psysml:79f00190-11a9-479d-9f29-e880a27768bf\" xlink:show=\"new\" xlink:title=\"psysml:79f00190-11a9-479d-9f29-e880a27768bf\" xlink:type=\"simple\"><rect fill=\"#FFFFFF\" height=\"40\" id=\"E9\" rx=\"10\" ry=\"10\" style=\"stroke:#383838;stroke-width:1.5;\" width=\"50\" x=\"117\" y=\"58.5\"/><text fill=\"#000000\" font-family=\"sans-serif\" font-size=\"14\" lengthAdjust=\"spacing\" textLength=\"4\" x=\"140\" y=\"76.4951\">f</text></a></g><g><a href=\"psysml:3e79cc57-1ff4-4d61-ad54-8c0f8362d5da\" target=\"_top\" title=\"psysml:3e79cc57-1ff4-4d61-ad54-8c0f8362d5da\" xlink:actuate=\"onRequest\" xlink:href=\"psysml:3e79cc57-1ff4-4d61-ad54-8c0f8362d5da\" xlink:show=\"new\" xlink:title=\"psysml:3e79cc57-1ff4-4d61-ad54-8c0f8362d5da\" xlink:type=\"simple\"><rect fill=\"#FFFFFF\" height=\"40\" id=\"E10\" rx=\"10\" ry=\"10\" style=\"stroke:#383838;stroke-width:1.5;\" width=\"50\" x=\"32\" y=\"58.5\"/><text fill=\"#000000\" font-family=\"sans-serif\" font-size=\"14\" lengthAdjust=\"spacing\" textLength=\"9\" x=\"52.5\" y=\"76.4951\">g</text></a></g><!--MD5=[15ebcb19ae302d9b601edb458606d402]\n",
       "link E5 to E2--><g id=\"link_E5_E2\"><a href=\"psysml:356b088d-f058-4498-8151-02a64d9c5f99\" target=\"_top\" title=\"psysml:356b088d-f058-4498-8151-02a64d9c5f99\" xlink:actuate=\"onRequest\" xlink:href=\"psysml:356b088d-f058-4498-8151-02a64d9c5f99\" xlink:show=\"new\" xlink:title=\"psysml:356b088d-f058-4498-8151-02a64d9c5f99\" xlink:type=\"simple\"><path d=\"M469.79,98.8 C467.78,101.98 465.64,105.38 463.45,108.84 \" fill=\"none\" id=\"E5-to-E2\" style=\"stroke:#181818;stroke-width:1.0;\"/><polygon fill=\"#FFFFFF\" points=\"452.6,126,456.8375,106.1999,468.6706,113.6818,452.6,126\" style=\"stroke:#181818;stroke-width:1.0;\"/><ellipse cx=\"461.5742\" cy=\"102.451\" fill=\"#181818\" rx=\"2\" ry=\"2\" style=\"stroke:#181818;stroke-width:1.0;\"/><ellipse cx=\"470.0263\" cy=\"107.7953\" fill=\"#181818\" rx=\"2\" ry=\"2\" style=\"stroke:#181818;stroke-width:1.0;\"/></a></g><!--MD5=[2351f337d6de0f557b50152ba70847b5]\n",
       "link E6 to E2--><g id=\"link_E6_E2\"><a href=\"psysml:849948e9-2a63-47c9-a787-96ae36e28ef0\" target=\"_top\" title=\"psysml:849948e9-2a63-47c9-a787-96ae36e28ef0\" xlink:actuate=\"onRequest\" xlink:href=\"psysml:849948e9-2a63-47c9-a787-96ae36e28ef0\" xlink:show=\"new\" xlink:title=\"psysml:849948e9-2a63-47c9-a787-96ae36e28ef0\" xlink:type=\"simple\"><path d=\"M408.92,98.8 C410.89,101.98 412.98,105.38 415.12,108.84 \" fill=\"none\" id=\"E6-to-E2\" style=\"stroke:#181818;stroke-width:1.0;\"/><polygon fill=\"#FFFFFF\" points=\"425.72,126,409.7771,113.517,421.6866,106.1573,425.72,126\" style=\"stroke:#181818;stroke-width:1.0;\"/><ellipse cx=\"408.4821\" cy=\"107.6168\" fill=\"#181818\" rx=\"2\" ry=\"2\" style=\"stroke:#181818;stroke-width:1.0;\"/><ellipse cx=\"416.9888\" cy=\"102.3599\" fill=\"#181818\" rx=\"2\" ry=\"2\" style=\"stroke:#181818;stroke-width:1.0;\"/></a></g><!--MD5=[d4b365a92b60f381462262132d062a65]\n",
       "@startuml\r\n",
       "skin sysmlbw\r\n",
       "skinparam monochrome true\r\n",
       "skinparam wrapWidth 300\r\n",
       "hide circle\r\n",
       " skinparam ranksep 10\r\n",
       "skinparam rectangle {\r\n",
       " backgroundColor<<block>> LightGreen\r\n",
       "}\r\n",
       "\r\n",
       "package \"MultiplicityTest\" as E1  [[psysml:26edc399-ba1b-4e26-98ec-184b2d561983 ]]  {\r\n",
       "rec def \"P\" as E2  <<(T,blue) part  def>> [[psysml:a78c9232-7355-4122-98e1-61ea033b6fbd ]] {\r\n",
       "}\r\n",
       "comp usage \"n: Integer  \" as E3  <<(T,blue) attribute>> [[psysml:6e5bcad0-e721-42f0-8965-8cf810de127c ]] {\r\n",
       "##//values//##\r\n",
       " <U+003D> 5\r\n",
       "}\r\n",
       "rec usage \"a\" as E4 [[psysml:58ca86c4-6609-462b-9948-87aadb08d281 ]] {\r\n",
       "}\r\n",
       "rec usage \"b: P\" as E5 [[psysml:8959fced-ddce-434c-832c-e17faa00a5de ]] {\r\n",
       "}\r\n",
       "rec usage \"c: P\" as E6 [[psysml:4ac8fd09-bbc3-4ec3-ba18-7592ef56bccd ]] {\r\n",
       "}\r\n",
       "rec usage \"d\" as E7 [[psysml:58aa0206-e878-4c1d-8c3a-c879ca6e4b13 ]] {\r\n",
       "}\r\n",
       "rec usage \"e\" as E8 [[psysml:21978b5e-874b-4020-b12b-41f872f49c78 ]] {\r\n",
       "}\r\n",
       "rec usage \"f\" as E9 [[psysml:79f00190-11a9-479d-9f29-e880a27768bf ]] {\r\n",
       "}\r\n",
       "rec usage \"g\" as E10 [[psysml:3e79cc57-1ff4-4d61-ad54-8c0f8362d5da ]] {\r\n",
       "}\r\n",
       "def \"A\" as E11  <<(T,blue) attribute  def>> [[psysml:cae84388-2b2f-4b61-9caf-e3201f6c4bb4 ]] \r\n",
       "}\r\n",
       "E5 - -:|> E2 [[psysml:356b088d-f058-4498-8151-02a64d9c5f99 ]] \r\n",
       "E6 - -:|> E2 [[psysml:849948e9-2a63-47c9-a787-96ae36e28ef0 ]] \r\n",
       "@enduml\r\n",
       "\n",
       "PlantUML version 1.2022.7(Mon Aug 22 17:01:30 UTC 2022)\n",
       "(EPL source distribution)\n",
       "Java Runtime: OpenJDK Runtime Environment\n",
       "JVM: OpenJDK 64-Bit Server VM\n",
       "Default Encoding: UTF-8\n",
       "Language: en\n",
       "Country: null\n",
       "--></g></svg>"
      ]
     },
     "execution_count": 5,
     "metadata": {},
     "output_type": "execute_result"
    }
   ],
   "source": [
    "%viz --style=\"COMPTREE\" --view=\"Interconnection\" \"MultiplicityTest\""
   ]
  },
  {
   "cell_type": "code",
   "execution_count": 6,
   "id": "408e3d6a",
   "metadata": {
    "execution": {
     "iopub.execute_input": "2024-12-16T03:27:04.561663Z",
     "iopub.status.busy": "2024-12-16T03:27:04.560733Z",
     "iopub.status.idle": "2024-12-16T03:27:04.570358Z",
     "shell.execute_reply": "2024-12-16T03:27:04.570191Z"
    }
   },
   "outputs": [
    {
     "data": {
      "image/svg+xml": [
       "<?xml version=\"1.0\" encoding=\"UTF-8\" standalone=\"no\"?><svg xmlns=\"http://www.w3.org/2000/svg\" xmlns:xlink=\"http://www.w3.org/1999/xlink\" contentStyleType=\"text/css\" height=\"10px\" preserveAspectRatio=\"none\" style=\"width:10px;height:10px;background:#FFFFFF;\" version=\"1.1\" viewBox=\"0 0 10 10\" width=\"10px\" zoomAndPan=\"magnify\"><defs/><g><!--MD5=[042b5323e4810735e2315f6f99dad39e]\n",
       "@startuml\r\n",
       "skin sysmlbw\r\n",
       "skinparam monochrome true\r\n",
       "skinparam wrapWidth 300\r\n",
       "hide circle\r\n",
       " skinparam ranksep 8\r\n",
       "\r\n",
       "@enduml\r\n",
       "\n",
       "PlantUML version 1.2022.7(Mon Aug 22 17:01:30 UTC 2022)\n",
       "(EPL source distribution)\n",
       "Java Runtime: OpenJDK Runtime Environment\n",
       "JVM: OpenJDK 64-Bit Server VM\n",
       "Default Encoding: UTF-8\n",
       "Language: en\n",
       "Country: null\n",
       "--></g></svg>"
      ]
     },
     "execution_count": 6,
     "metadata": {},
     "output_type": "execute_result"
    }
   ],
   "source": [
    "%viz --style=\"COMPTREE\" --view=\"Action\" \"MultiplicityTest\""
   ]
  },
  {
   "cell_type": "code",
   "execution_count": 7,
   "id": "7f9c5e5f",
   "metadata": {
    "execution": {
     "iopub.execute_input": "2024-12-16T03:27:04.623498Z",
     "iopub.status.busy": "2024-12-16T03:27:04.623230Z",
     "iopub.status.idle": "2024-12-16T03:27:04.636742Z",
     "shell.execute_reply": "2024-12-16T03:27:04.636874Z"
    }
   },
   "outputs": [
    {
     "data": {
      "image/svg+xml": [
       "<?xml version=\"1.0\" encoding=\"UTF-8\" standalone=\"no\"?><svg xmlns=\"http://www.w3.org/2000/svg\" xmlns:xlink=\"http://www.w3.org/1999/xlink\" contentStyleType=\"text/css\" height=\"10px\" preserveAspectRatio=\"none\" style=\"width:10px;height:10px;background:#FFFFFF;\" version=\"1.1\" viewBox=\"0 0 10 10\" width=\"10px\" zoomAndPan=\"magnify\"><defs/><g><!--MD5=[f5e9abf0a6c8dccaf40d0172f495ca0b]\n",
       "@startuml\r\n",
       "skin sysmlbw\r\n",
       "skinparam monochrome true\r\n",
       "skinparam wrapWidth 300\r\n",
       "hide circle\r\n",
       " skinparam roundcorner 20\r\n",
       "skinparam BoxPadding 20\r\n",
       "skinparam SequenceBoxBackgroundColor #white\r\n",
       "skinparam style strictuml\r\n",
       "skinparam maxMessageSize 100\r\n",
       "\r\n",
       "@enduml\r\n",
       "\n",
       "PlantUML version 1.2022.7(Mon Aug 22 17:01:30 UTC 2022)\n",
       "(EPL source distribution)\n",
       "Java Runtime: OpenJDK Runtime Environment\n",
       "JVM: OpenJDK 64-Bit Server VM\n",
       "Default Encoding: UTF-8\n",
       "Language: en\n",
       "Country: null\n",
       "--></g></svg>"
      ]
     },
     "execution_count": 7,
     "metadata": {},
     "output_type": "execute_result"
    }
   ],
   "source": [
    "%viz --style=\"COMPTREE\" --view=\"Sequence\" \"MultiplicityTest\""
   ]
  },
  {
   "cell_type": "code",
   "execution_count": 8,
   "id": "096daa81",
   "metadata": {
    "execution": {
     "iopub.execute_input": "2024-12-16T03:27:04.689966Z",
     "iopub.status.busy": "2024-12-16T03:27:04.689774Z",
     "iopub.status.idle": "2024-12-16T03:27:04.741258Z",
     "shell.execute_reply": "2024-12-16T03:27:04.740453Z"
    }
   },
   "outputs": [
    {
     "data": {
      "image/svg+xml": [
       "<?xml version=\"1.0\" encoding=\"UTF-8\" standalone=\"no\"?><svg xmlns=\"http://www.w3.org/2000/svg\" xmlns:xlink=\"http://www.w3.org/1999/xlink\" contentStyleType=\"text/css\" height=\"263px\" preserveAspectRatio=\"none\" style=\"width:821px;height:263px;background:#FFFFFF;\" version=\"1.1\" viewBox=\"0 0 821 263\" width=\"821px\" zoomAndPan=\"magnify\"><defs/><g><!--MD5=[fbc87193dbaf4d95561dea2c320d4a47]\n",
       "cluster E1--><g id=\"cluster_E1\"><a href=\"psysml:26edc399-ba1b-4e26-98ec-184b2d561983\" target=\"_top\" title=\"psysml:26edc399-ba1b-4e26-98ec-184b2d561983\" xlink:actuate=\"onRequest\" xlink:href=\"psysml:26edc399-ba1b-4e26-98ec-184b2d561983\" xlink:show=\"new\" xlink:title=\"psysml:26edc399-ba1b-4e26-98ec-184b2d561983\" xlink:type=\"simple\"><polygon fill=\"none\" points=\"16,6,130,6,137,28.2969,804,28.2969,804,256,16,256,16,6\" style=\"stroke:#000000;stroke-width:1.5;\"/><line style=\"stroke:#000000;stroke-width:1.5;\" x1=\"16\" x2=\"137\" y1=\"28.2969\" y2=\"28.2969\"/><text fill=\"#000000\" font-family=\"sans-serif\" font-size=\"14\" font-weight=\"bold\" lengthAdjust=\"spacing\" textLength=\"108\" x=\"20\" y=\"20.9951\">MultiplicityTest</text></a></g><!--MD5=[b4997ac47864f28c2f74865a473b2911]\n",
       "class E2--><a href=\"psysml:a78c9232-7355-4122-98e1-61ea033b6fbd\" target=\"_top\" title=\"psysml:a78c9232-7355-4122-98e1-61ea033b6fbd\" xlink:actuate=\"onRequest\" xlink:href=\"psysml:a78c9232-7355-4122-98e1-61ea033b6fbd\" xlink:show=\"new\" xlink:title=\"psysml:a78c9232-7355-4122-98e1-61ea033b6fbd\" xlink:type=\"simple\"><g id=\"elem_E2\"><rect fill=\"#FFFFFF\" height=\"48.2656\" id=\"E2\" style=\"stroke:#181818;stroke-width:0.5;\" width=\"70\" x=\"499\" y=\"192\"/><text fill=\"#000000\" font-family=\"sans-serif\" font-size=\"12\" font-style=\"italic\" lengthAdjust=\"spacing\" textLength=\"68\" x=\"500\" y=\"208.1387\">«part  def»</text><text fill=\"#000000\" font-family=\"sans-serif\" font-size=\"14\" lengthAdjust=\"spacing\" textLength=\"9\" x=\"529.5\" y=\"223.9639\">P</text><line style=\"stroke:#181818;stroke-width:0.5;\" x1=\"500\" x2=\"568\" y1=\"232.2656\" y2=\"232.2656\"/></g></a><!--MD5=[09b614a08d8cba4a07c9adeb5e0fee81]\n",
       "class E3--><a href=\"psysml:6e5bcad0-e721-42f0-8965-8cf810de127c\" target=\"_top\" title=\"psysml:6e5bcad0-e721-42f0-8965-8cf810de127c\" xlink:actuate=\"onRequest\" xlink:href=\"psysml:6e5bcad0-e721-42f0-8965-8cf810de127c\" xlink:show=\"new\" xlink:title=\"psysml:6e5bcad0-e721-42f0-8965-8cf810de127c\" xlink:type=\"simple\"><g id=\"elem_E3\"><rect fill=\"#FFFFFF\" height=\"75.0813\" id=\"E3\" rx=\"10\" ry=\"10\" style=\"stroke:#181818;stroke-width:0.5;\" width=\"81\" x=\"706.5\" y=\"49\"/><text fill=\"#000000\" font-family=\"sans-serif\" font-size=\"12\" font-style=\"italic\" lengthAdjust=\"spacing\" textLength=\"69\" x=\"712.5\" y=\"65.1387\">«attribute»</text><text fill=\"#000000\" font-family=\"sans-serif\" font-size=\"14\" lengthAdjust=\"spacing\" textLength=\"67\" x=\"709.5\" y=\"80.9639\">n: Integer</text><line style=\"stroke:#181818;stroke-width:0.5;\" x1=\"707.5\" x2=\"786.5\" y1=\"89.2656\" y2=\"89.2656\"/><text fill=\"#000000\" font-family=\"sans-serif\" font-size=\"14\" lengthAdjust=\"spacing\" textLength=\"25\" x=\"712.5\" y=\"116.7795\">= 5</text><text fill=\"#000000\" font-family=\"sans-serif\" font-size=\"14\" font-style=\"italic\" lengthAdjust=\"spacing\" textLength=\"44\" x=\"725\" y=\"101.6123\">values</text></g></a><!--MD5=[ebbe1d658d1005bcc118a6aa81145e00]\n",
       "class E4--><a href=\"psysml:58ca86c4-6609-462b-9948-87aadb08d281\" target=\"_top\" title=\"psysml:58ca86c4-6609-462b-9948-87aadb08d281\" xlink:actuate=\"onRequest\" xlink:href=\"psysml:58ca86c4-6609-462b-9948-87aadb08d281\" xlink:show=\"new\" xlink:title=\"psysml:58ca86c4-6609-462b-9948-87aadb08d281\" xlink:type=\"simple\"><g id=\"elem_E4\"><rect fill=\"#FFFFFF\" height=\"48.2656\" id=\"E4\" rx=\"10\" ry=\"10\" style=\"stroke:#181818;stroke-width:0.5;\" width=\"42\" x=\"629\" y=\"62.5\"/><text fill=\"#000000\" font-family=\"sans-serif\" font-size=\"12\" font-style=\"italic\" lengthAdjust=\"spacing\" textLength=\"40\" x=\"630\" y=\"78.6387\">«part»</text><text fill=\"#000000\" font-family=\"sans-serif\" font-size=\"14\" lengthAdjust=\"spacing\" textLength=\"8\" x=\"642\" y=\"94.4639\">a</text><line style=\"stroke:#181818;stroke-width:0.5;\" x1=\"630\" x2=\"670\" y1=\"102.7656\" y2=\"102.7656\"/></g></a><!--MD5=[270fce915f116d4de14055a7c1d9a0f3]\n",
       "class E5--><a href=\"psysml:8959fced-ddce-434c-832c-e17faa00a5de\" target=\"_top\" title=\"psysml:8959fced-ddce-434c-832c-e17faa00a5de\" xlink:actuate=\"onRequest\" xlink:href=\"psysml:8959fced-ddce-434c-832c-e17faa00a5de\" xlink:show=\"new\" xlink:title=\"psysml:8959fced-ddce-434c-832c-e17faa00a5de\" xlink:type=\"simple\"><g id=\"elem_E5\"><rect fill=\"#FFFFFF\" height=\"48.2656\" id=\"E5\" rx=\"10\" ry=\"10\" style=\"stroke:#181818;stroke-width:0.5;\" width=\"42\" x=\"552\" y=\"62.5\"/><text fill=\"#000000\" font-family=\"sans-serif\" font-size=\"12\" font-style=\"italic\" lengthAdjust=\"spacing\" textLength=\"40\" x=\"553\" y=\"78.6387\">«part»</text><text fill=\"#000000\" font-family=\"sans-serif\" font-size=\"14\" lengthAdjust=\"spacing\" textLength=\"27\" x=\"555.5\" y=\"94.4639\">b: P</text><line style=\"stroke:#181818;stroke-width:0.5;\" x1=\"553\" x2=\"593\" y1=\"102.7656\" y2=\"102.7656\"/></g></a><!--MD5=[60a26617385b1d2d0262a64233df1f8d]\n",
       "class E6--><a href=\"psysml:4ac8fd09-bbc3-4ec3-ba18-7592ef56bccd\" target=\"_top\" title=\"psysml:4ac8fd09-bbc3-4ec3-ba18-7592ef56bccd\" xlink:actuate=\"onRequest\" xlink:href=\"psysml:4ac8fd09-bbc3-4ec3-ba18-7592ef56bccd\" xlink:show=\"new\" xlink:title=\"psysml:4ac8fd09-bbc3-4ec3-ba18-7592ef56bccd\" xlink:type=\"simple\"><g id=\"elem_E6\"><rect fill=\"#FFFFFF\" height=\"48.2656\" id=\"E6\" rx=\"10\" ry=\"10\" style=\"stroke:#181818;stroke-width:0.5;\" width=\"42\" x=\"475\" y=\"62.5\"/><text fill=\"#000000\" font-family=\"sans-serif\" font-size=\"12\" font-style=\"italic\" lengthAdjust=\"spacing\" textLength=\"40\" x=\"476\" y=\"78.6387\">«part»</text><text fill=\"#000000\" font-family=\"sans-serif\" font-size=\"14\" lengthAdjust=\"spacing\" textLength=\"26\" x=\"479\" y=\"94.4639\">c: P</text><line style=\"stroke:#181818;stroke-width:0.5;\" x1=\"476\" x2=\"516\" y1=\"102.7656\" y2=\"102.7656\"/></g></a><!--MD5=[2156ba9850f5573cc1fc38a6a4b2f02b]\n",
       "class E7--><a href=\"psysml:58aa0206-e878-4c1d-8c3a-c879ca6e4b13\" target=\"_top\" title=\"psysml:58aa0206-e878-4c1d-8c3a-c879ca6e4b13\" xlink:actuate=\"onRequest\" xlink:href=\"psysml:58aa0206-e878-4c1d-8c3a-c879ca6e4b13\" xlink:show=\"new\" xlink:title=\"psysml:58aa0206-e878-4c1d-8c3a-c879ca6e4b13\" xlink:type=\"simple\"><g id=\"elem_E7\"><rect fill=\"#FFFFFF\" height=\"48.2656\" id=\"E7\" rx=\"10\" ry=\"10\" style=\"stroke:#181818;stroke-width:0.5;\" width=\"42\" x=\"398\" y=\"62.5\"/><text fill=\"#000000\" font-family=\"sans-serif\" font-size=\"12\" font-style=\"italic\" lengthAdjust=\"spacing\" textLength=\"40\" x=\"399\" y=\"78.6387\">«part»</text><text fill=\"#000000\" font-family=\"sans-serif\" font-size=\"14\" lengthAdjust=\"spacing\" textLength=\"9\" x=\"410.5\" y=\"94.4639\">d</text><line style=\"stroke:#181818;stroke-width:0.5;\" x1=\"399\" x2=\"439\" y1=\"102.7656\" y2=\"102.7656\"/></g></a><!--MD5=[b9389687b975829384b498ac4b7476b2]\n",
       "class E8--><a href=\"psysml:21978b5e-874b-4020-b12b-41f872f49c78\" target=\"_top\" title=\"psysml:21978b5e-874b-4020-b12b-41f872f49c78\" xlink:actuate=\"onRequest\" xlink:href=\"psysml:21978b5e-874b-4020-b12b-41f872f49c78\" xlink:show=\"new\" xlink:title=\"psysml:21978b5e-874b-4020-b12b-41f872f49c78\" xlink:type=\"simple\"><g id=\"elem_E8\"><rect fill=\"#FFFFFF\" height=\"48.2656\" id=\"E8\" rx=\"10\" ry=\"10\" style=\"stroke:#181818;stroke-width:0.5;\" width=\"42\" x=\"321\" y=\"62.5\"/><text fill=\"#000000\" font-family=\"sans-serif\" font-size=\"12\" font-style=\"italic\" lengthAdjust=\"spacing\" textLength=\"40\" x=\"322\" y=\"78.6387\">«part»</text><text fill=\"#000000\" font-family=\"sans-serif\" font-size=\"14\" lengthAdjust=\"spacing\" textLength=\"9\" x=\"333.5\" y=\"94.4639\">e</text><line style=\"stroke:#181818;stroke-width:0.5;\" x1=\"322\" x2=\"362\" y1=\"102.7656\" y2=\"102.7656\"/></g></a><!--MD5=[fd4143e9d270a159db93a4ea2a975926]\n",
       "class E9--><a href=\"psysml:79f00190-11a9-479d-9f29-e880a27768bf\" target=\"_top\" title=\"psysml:79f00190-11a9-479d-9f29-e880a27768bf\" xlink:actuate=\"onRequest\" xlink:href=\"psysml:79f00190-11a9-479d-9f29-e880a27768bf\" xlink:show=\"new\" xlink:title=\"psysml:79f00190-11a9-479d-9f29-e880a27768bf\" xlink:type=\"simple\"><g id=\"elem_E9\"><rect fill=\"#FFFFFF\" height=\"48.2656\" id=\"E9\" rx=\"10\" ry=\"10\" style=\"stroke:#181818;stroke-width:0.5;\" width=\"42\" x=\"244\" y=\"62.5\"/><text fill=\"#000000\" font-family=\"sans-serif\" font-size=\"12\" font-style=\"italic\" lengthAdjust=\"spacing\" textLength=\"40\" x=\"245\" y=\"78.6387\">«part»</text><text fill=\"#000000\" font-family=\"sans-serif\" font-size=\"14\" lengthAdjust=\"spacing\" textLength=\"4\" x=\"259\" y=\"94.4639\">f</text><line style=\"stroke:#181818;stroke-width:0.5;\" x1=\"245\" x2=\"285\" y1=\"102.7656\" y2=\"102.7656\"/></g></a><!--MD5=[96f4274e9e20536e775497830990834d]\n",
       "class E10--><a href=\"psysml:3e79cc57-1ff4-4d61-ad54-8c0f8362d5da\" target=\"_top\" title=\"psysml:3e79cc57-1ff4-4d61-ad54-8c0f8362d5da\" xlink:actuate=\"onRequest\" xlink:href=\"psysml:3e79cc57-1ff4-4d61-ad54-8c0f8362d5da\" xlink:show=\"new\" xlink:title=\"psysml:3e79cc57-1ff4-4d61-ad54-8c0f8362d5da\" xlink:type=\"simple\"><g id=\"elem_E10\"><rect fill=\"#FFFFFF\" height=\"48.2656\" id=\"E10\" rx=\"10\" ry=\"10\" style=\"stroke:#181818;stroke-width:0.5;\" width=\"42\" x=\"167\" y=\"62.5\"/><text fill=\"#000000\" font-family=\"sans-serif\" font-size=\"12\" font-style=\"italic\" lengthAdjust=\"spacing\" textLength=\"40\" x=\"168\" y=\"78.6387\">«part»</text><text fill=\"#000000\" font-family=\"sans-serif\" font-size=\"14\" lengthAdjust=\"spacing\" textLength=\"9\" x=\"179.5\" y=\"94.4639\">g</text><line style=\"stroke:#181818;stroke-width:0.5;\" x1=\"168\" x2=\"208\" y1=\"102.7656\" y2=\"102.7656\"/></g></a><!--MD5=[1dd1bfd58a279cf63c5f349dbc8fc6a1]\n",
       "class E11--><a href=\"psysml:cae84388-2b2f-4b61-9caf-e3201f6c4bb4\" target=\"_top\" title=\"psysml:cae84388-2b2f-4b61-9caf-e3201f6c4bb4\" xlink:actuate=\"onRequest\" xlink:href=\"psysml:cae84388-2b2f-4b61-9caf-e3201f6c4bb4\" xlink:show=\"new\" xlink:title=\"psysml:cae84388-2b2f-4b61-9caf-e3201f6c4bb4\" xlink:type=\"simple\"><g id=\"elem_E11\"><rect fill=\"#FFFFFF\" height=\"91.3781\" id=\"E11\" style=\"stroke:#181818;stroke-width:0.5;\" width=\"99\" x=\"32.5\" y=\"41\"/><text fill=\"#000000\" font-family=\"sans-serif\" font-size=\"12\" font-style=\"italic\" lengthAdjust=\"spacing\" textLength=\"97\" x=\"33.5\" y=\"57.1387\">«attribute  def»</text><text fill=\"#000000\" font-family=\"sans-serif\" font-size=\"14\" lengthAdjust=\"spacing\" textLength=\"9\" x=\"77.5\" y=\"72.9639\">A</text><line style=\"stroke:#181818;stroke-width:0.5;\" x1=\"33.5\" x2=\"130.5\" y1=\"81.2656\" y2=\"81.2656\"/><text fill=\"#000000\" font-family=\"sans-serif\" font-size=\"14\" lengthAdjust=\"spacing\" textLength=\"61\" x=\"38.5\" y=\"108.7795\">i: Integer</text><text fill=\"#000000\" font-family=\"sans-serif\" font-size=\"14\" lengthAdjust=\"spacing\" textLength=\"25\" x=\"38.5\" y=\"125.0764\">x: A</text><text fill=\"#000000\" font-family=\"sans-serif\" font-size=\"14\" font-style=\"italic\" lengthAdjust=\"spacing\" textLength=\"66\" x=\"49\" y=\"93.6123\">attributes</text></g></a><!--MD5=[15ebcb19ae302d9b601edb458606d402]\n",
       "link E5 to E2--><g id=\"link_E5_E2\"><a href=\"psysml:356b088d-f058-4498-8151-02a64d9c5f99\" target=\"_top\" title=\"psysml:356b088d-f058-4498-8151-02a64d9c5f99\" xlink:actuate=\"onRequest\" xlink:href=\"psysml:356b088d-f058-4498-8151-02a64d9c5f99\" xlink:show=\"new\" xlink:title=\"psysml:356b088d-f058-4498-8151-02a64d9c5f99\" xlink:type=\"simple\"><path d=\"M565.94,110.59 C560.67,127.81 553.32,151.83 547,172.49 \" fill=\"none\" id=\"E5-to-E2\" style=\"stroke:#181818;stroke-width:1.0;\"/><polygon fill=\"#FFFFFF\" points=\"541.14,191.65,539.9958,171.4339,553.3851,175.5237,541.14,191.65\" style=\"stroke:#181818;stroke-width:1.0;\"/><ellipse cx=\"543.5737\" cy=\"166.5668\" fill=\"#181818\" rx=\"2\" ry=\"2\" style=\"stroke:#181818;stroke-width:1.0;\"/><ellipse cx=\"553.1375\" cy=\"169.4881\" fill=\"#181818\" rx=\"2\" ry=\"2\" style=\"stroke:#181818;stroke-width:1.0;\"/></a></g><!--MD5=[2351f337d6de0f557b50152ba70847b5]\n",
       "link E6 to E2--><g id=\"link_E6_E2\"><a href=\"psysml:849948e9-2a63-47c9-a787-96ae36e28ef0\" target=\"_top\" title=\"psysml:849948e9-2a63-47c9-a787-96ae36e28ef0\" xlink:actuate=\"onRequest\" xlink:href=\"psysml:849948e9-2a63-47c9-a787-96ae36e28ef0\" xlink:show=\"new\" xlink:title=\"psysml:849948e9-2a63-47c9-a787-96ae36e28ef0\" xlink:type=\"simple\"><path d=\"M502.88,110.59 C507.99,127.72 515.1,151.58 521.23,172.17 \" fill=\"none\" id=\"E6-to-E2\" style=\"stroke:#181818;stroke-width:1.0;\"/><polygon fill=\"#FFFFFF\" points=\"527.04,191.65,514.9155,175.4328,528.3349,171.443,527.04,191.65\" style=\"stroke:#181818;stroke-width:1.0;\"/><ellipse cx=\"515.2081\" cy=\"169.3992\" fill=\"#181818\" rx=\"2\" ry=\"2\" style=\"stroke:#181818;stroke-width:1.0;\"/><ellipse cx=\"524.7935\" cy=\"166.5493\" fill=\"#181818\" rx=\"2\" ry=\"2\" style=\"stroke:#181818;stroke-width:1.0;\"/></a></g><!--MD5=[dd9b166d32beea1f5faa57d348dde91c]\n",
       "@startuml\r\n",
       "skin sysmlbw\r\n",
       "skinparam monochrome true\r\n",
       "skinparam wrapWidth 300\r\n",
       "hide circle\r\n",
       " \r\n",
       "package \"MultiplicityTest\" as E1  [[psysml:26edc399-ba1b-4e26-98ec-184b2d561983 ]]  {\r\n",
       "comp def \"P\" as E2  <<(T,blue) part  def>> [[psysml:a78c9232-7355-4122-98e1-61ea033b6fbd ]] {\r\n",
       "}\r\n",
       "comp usage \"n: Integer  \" as E3  <<(T,blue) attribute>> [[psysml:6e5bcad0-e721-42f0-8965-8cf810de127c ]] {\r\n",
       "##//values//##\r\n",
       " <U+003D> 5\r\n",
       "}\r\n",
       "comp usage \"a  \" as E4  <<(T,blue) part>> [[psysml:58ca86c4-6609-462b-9948-87aadb08d281 ]] {\r\n",
       "}\r\n",
       "comp usage \"b: P  \" as E5  <<(T,blue) part>> [[psysml:8959fced-ddce-434c-832c-e17faa00a5de ]] {\r\n",
       "}\r\n",
       "comp usage \"c: P  \" as E6  <<(T,blue) part>> [[psysml:4ac8fd09-bbc3-4ec3-ba18-7592ef56bccd ]] {\r\n",
       "}\r\n",
       "comp usage \"d  \" as E7  <<(T,blue) part>> [[psysml:58aa0206-e878-4c1d-8c3a-c879ca6e4b13 ]] {\r\n",
       "}\r\n",
       "comp usage \"e  \" as E8  <<(T,blue) part>> [[psysml:21978b5e-874b-4020-b12b-41f872f49c78 ]] {\r\n",
       "}\r\n",
       "comp usage \"f  \" as E9  <<(T,blue) part>> [[psysml:79f00190-11a9-479d-9f29-e880a27768bf ]] {\r\n",
       "}\r\n",
       "comp usage \"g  \" as E10  <<(T,blue) part>> [[psysml:3e79cc57-1ff4-4d61-ad54-8c0f8362d5da ]] {\r\n",
       "}\r\n",
       "comp def \"A\" as E11  <<(T,blue) attribute  def>> [[psysml:cae84388-2b2f-4b61-9caf-e3201f6c4bb4 ]] {\r\n",
       "##//attributes//##\r\n",
       "i: Integer\r\n",
       "x: A\r\n",
       "}\r\n",
       "}\r\n",
       "E5 - -:|> E2 [[psysml:356b088d-f058-4498-8151-02a64d9c5f99 ]] \r\n",
       "E6 - -:|> E2 [[psysml:849948e9-2a63-47c9-a787-96ae36e28ef0 ]] \r\n",
       "@enduml\r\n",
       "\n",
       "PlantUML version 1.2022.7(Mon Aug 22 17:01:30 UTC 2022)\n",
       "(EPL source distribution)\n",
       "Java Runtime: OpenJDK Runtime Environment\n",
       "JVM: OpenJDK 64-Bit Server VM\n",
       "Default Encoding: UTF-8\n",
       "Language: en\n",
       "Country: null\n",
       "--></g></svg>"
      ]
     },
     "execution_count": 8,
     "metadata": {},
     "output_type": "execute_result"
    }
   ],
   "source": [
    "%viz --style=\"COMPTREE\" --view=\"MIXED\" \"MultiplicityTest\""
   ]
  },
  {
   "cell_type": "code",
   "execution_count": 9,
   "id": "e83f2e29",
   "metadata": {
    "execution": {
     "iopub.execute_input": "2024-12-16T03:27:04.793344Z",
     "iopub.status.busy": "2024-12-16T03:27:04.793120Z",
     "iopub.status.idle": "2024-12-16T03:27:04.828650Z",
     "shell.execute_reply": "2024-12-16T03:27:04.828461Z"
    }
   },
   "outputs": [
    {
     "data": {
      "image/svg+xml": [
       "<?xml version=\"1.0\" encoding=\"UTF-8\" standalone=\"no\"?><svg xmlns=\"http://www.w3.org/2000/svg\" xmlns:xlink=\"http://www.w3.org/1999/xlink\" contentStyleType=\"text/css\" height=\"263px\" preserveAspectRatio=\"none\" style=\"width:821px;height:263px;background:#FFFFFF;\" version=\"1.1\" viewBox=\"0 0 821 263\" width=\"821px\" zoomAndPan=\"magnify\"><defs/><g><!--MD5=[fbc87193dbaf4d95561dea2c320d4a47]\n",
       "cluster E1--><g id=\"cluster_E1\"><a href=\"psysml:26edc399-ba1b-4e26-98ec-184b2d561983\" target=\"_top\" title=\"psysml:26edc399-ba1b-4e26-98ec-184b2d561983\" xlink:actuate=\"onRequest\" xlink:href=\"psysml:26edc399-ba1b-4e26-98ec-184b2d561983\" xlink:show=\"new\" xlink:title=\"psysml:26edc399-ba1b-4e26-98ec-184b2d561983\" xlink:type=\"simple\"><polygon fill=\"none\" points=\"16,6,130,6,137,28.2969,804,28.2969,804,256,16,256,16,6\" style=\"stroke:#000000;stroke-width:1.5;\"/><line style=\"stroke:#000000;stroke-width:1.5;\" x1=\"16\" x2=\"137\" y1=\"28.2969\" y2=\"28.2969\"/><text fill=\"#000000\" font-family=\"sans-serif\" font-size=\"14\" font-weight=\"bold\" lengthAdjust=\"spacing\" textLength=\"108\" x=\"20\" y=\"20.9951\">MultiplicityTest</text></a></g><!--MD5=[b4997ac47864f28c2f74865a473b2911]\n",
       "class E2--><a href=\"psysml:a78c9232-7355-4122-98e1-61ea033b6fbd\" target=\"_top\" title=\"psysml:a78c9232-7355-4122-98e1-61ea033b6fbd\" xlink:actuate=\"onRequest\" xlink:href=\"psysml:a78c9232-7355-4122-98e1-61ea033b6fbd\" xlink:show=\"new\" xlink:title=\"psysml:a78c9232-7355-4122-98e1-61ea033b6fbd\" xlink:type=\"simple\"><g id=\"elem_E2\"><rect fill=\"#FFFFFF\" height=\"48.2656\" id=\"E2\" style=\"stroke:#181818;stroke-width:0.5;\" width=\"70\" x=\"499\" y=\"192\"/><text fill=\"#000000\" font-family=\"sans-serif\" font-size=\"12\" font-style=\"italic\" lengthAdjust=\"spacing\" textLength=\"68\" x=\"500\" y=\"208.1387\">«part  def»</text><text fill=\"#000000\" font-family=\"sans-serif\" font-size=\"14\" lengthAdjust=\"spacing\" textLength=\"9\" x=\"529.5\" y=\"223.9639\">P</text><line style=\"stroke:#181818;stroke-width:0.5;\" x1=\"500\" x2=\"568\" y1=\"232.2656\" y2=\"232.2656\"/></g></a><!--MD5=[09b614a08d8cba4a07c9adeb5e0fee81]\n",
       "class E3--><a href=\"psysml:6e5bcad0-e721-42f0-8965-8cf810de127c\" target=\"_top\" title=\"psysml:6e5bcad0-e721-42f0-8965-8cf810de127c\" xlink:actuate=\"onRequest\" xlink:href=\"psysml:6e5bcad0-e721-42f0-8965-8cf810de127c\" xlink:show=\"new\" xlink:title=\"psysml:6e5bcad0-e721-42f0-8965-8cf810de127c\" xlink:type=\"simple\"><g id=\"elem_E3\"><rect fill=\"#FFFFFF\" height=\"75.0813\" id=\"E3\" rx=\"10\" ry=\"10\" style=\"stroke:#181818;stroke-width:0.5;\" width=\"81\" x=\"706.5\" y=\"49\"/><text fill=\"#000000\" font-family=\"sans-serif\" font-size=\"12\" font-style=\"italic\" lengthAdjust=\"spacing\" textLength=\"69\" x=\"712.5\" y=\"65.1387\">«attribute»</text><text fill=\"#000000\" font-family=\"sans-serif\" font-size=\"14\" lengthAdjust=\"spacing\" textLength=\"67\" x=\"709.5\" y=\"80.9639\">n: Integer</text><line style=\"stroke:#181818;stroke-width:0.5;\" x1=\"707.5\" x2=\"786.5\" y1=\"89.2656\" y2=\"89.2656\"/><text fill=\"#000000\" font-family=\"sans-serif\" font-size=\"14\" lengthAdjust=\"spacing\" textLength=\"25\" x=\"712.5\" y=\"116.7795\">= 5</text><text fill=\"#000000\" font-family=\"sans-serif\" font-size=\"14\" font-style=\"italic\" lengthAdjust=\"spacing\" textLength=\"44\" x=\"725\" y=\"101.6123\">values</text></g></a><!--MD5=[ebbe1d658d1005bcc118a6aa81145e00]\n",
       "class E4--><a href=\"psysml:58ca86c4-6609-462b-9948-87aadb08d281\" target=\"_top\" title=\"psysml:58ca86c4-6609-462b-9948-87aadb08d281\" xlink:actuate=\"onRequest\" xlink:href=\"psysml:58ca86c4-6609-462b-9948-87aadb08d281\" xlink:show=\"new\" xlink:title=\"psysml:58ca86c4-6609-462b-9948-87aadb08d281\" xlink:type=\"simple\"><g id=\"elem_E4\"><rect fill=\"#FFFFFF\" height=\"48.2656\" id=\"E4\" rx=\"10\" ry=\"10\" style=\"stroke:#181818;stroke-width:0.5;\" width=\"42\" x=\"629\" y=\"62.5\"/><text fill=\"#000000\" font-family=\"sans-serif\" font-size=\"12\" font-style=\"italic\" lengthAdjust=\"spacing\" textLength=\"40\" x=\"630\" y=\"78.6387\">«part»</text><text fill=\"#000000\" font-family=\"sans-serif\" font-size=\"14\" lengthAdjust=\"spacing\" textLength=\"8\" x=\"642\" y=\"94.4639\">a</text><line style=\"stroke:#181818;stroke-width:0.5;\" x1=\"630\" x2=\"670\" y1=\"102.7656\" y2=\"102.7656\"/></g></a><!--MD5=[270fce915f116d4de14055a7c1d9a0f3]\n",
       "class E5--><a href=\"psysml:8959fced-ddce-434c-832c-e17faa00a5de\" target=\"_top\" title=\"psysml:8959fced-ddce-434c-832c-e17faa00a5de\" xlink:actuate=\"onRequest\" xlink:href=\"psysml:8959fced-ddce-434c-832c-e17faa00a5de\" xlink:show=\"new\" xlink:title=\"psysml:8959fced-ddce-434c-832c-e17faa00a5de\" xlink:type=\"simple\"><g id=\"elem_E5\"><rect fill=\"#FFFFFF\" height=\"48.2656\" id=\"E5\" rx=\"10\" ry=\"10\" style=\"stroke:#181818;stroke-width:0.5;\" width=\"42\" x=\"552\" y=\"62.5\"/><text fill=\"#000000\" font-family=\"sans-serif\" font-size=\"12\" font-style=\"italic\" lengthAdjust=\"spacing\" textLength=\"40\" x=\"553\" y=\"78.6387\">«part»</text><text fill=\"#000000\" font-family=\"sans-serif\" font-size=\"14\" lengthAdjust=\"spacing\" textLength=\"27\" x=\"555.5\" y=\"94.4639\">b: P</text><line style=\"stroke:#181818;stroke-width:0.5;\" x1=\"553\" x2=\"593\" y1=\"102.7656\" y2=\"102.7656\"/></g></a><!--MD5=[60a26617385b1d2d0262a64233df1f8d]\n",
       "class E6--><a href=\"psysml:4ac8fd09-bbc3-4ec3-ba18-7592ef56bccd\" target=\"_top\" title=\"psysml:4ac8fd09-bbc3-4ec3-ba18-7592ef56bccd\" xlink:actuate=\"onRequest\" xlink:href=\"psysml:4ac8fd09-bbc3-4ec3-ba18-7592ef56bccd\" xlink:show=\"new\" xlink:title=\"psysml:4ac8fd09-bbc3-4ec3-ba18-7592ef56bccd\" xlink:type=\"simple\"><g id=\"elem_E6\"><rect fill=\"#FFFFFF\" height=\"48.2656\" id=\"E6\" rx=\"10\" ry=\"10\" style=\"stroke:#181818;stroke-width:0.5;\" width=\"42\" x=\"475\" y=\"62.5\"/><text fill=\"#000000\" font-family=\"sans-serif\" font-size=\"12\" font-style=\"italic\" lengthAdjust=\"spacing\" textLength=\"40\" x=\"476\" y=\"78.6387\">«part»</text><text fill=\"#000000\" font-family=\"sans-serif\" font-size=\"14\" lengthAdjust=\"spacing\" textLength=\"26\" x=\"479\" y=\"94.4639\">c: P</text><line style=\"stroke:#181818;stroke-width:0.5;\" x1=\"476\" x2=\"516\" y1=\"102.7656\" y2=\"102.7656\"/></g></a><!--MD5=[2156ba9850f5573cc1fc38a6a4b2f02b]\n",
       "class E7--><a href=\"psysml:58aa0206-e878-4c1d-8c3a-c879ca6e4b13\" target=\"_top\" title=\"psysml:58aa0206-e878-4c1d-8c3a-c879ca6e4b13\" xlink:actuate=\"onRequest\" xlink:href=\"psysml:58aa0206-e878-4c1d-8c3a-c879ca6e4b13\" xlink:show=\"new\" xlink:title=\"psysml:58aa0206-e878-4c1d-8c3a-c879ca6e4b13\" xlink:type=\"simple\"><g id=\"elem_E7\"><rect fill=\"#FFFFFF\" height=\"48.2656\" id=\"E7\" rx=\"10\" ry=\"10\" style=\"stroke:#181818;stroke-width:0.5;\" width=\"42\" x=\"398\" y=\"62.5\"/><text fill=\"#000000\" font-family=\"sans-serif\" font-size=\"12\" font-style=\"italic\" lengthAdjust=\"spacing\" textLength=\"40\" x=\"399\" y=\"78.6387\">«part»</text><text fill=\"#000000\" font-family=\"sans-serif\" font-size=\"14\" lengthAdjust=\"spacing\" textLength=\"9\" x=\"410.5\" y=\"94.4639\">d</text><line style=\"stroke:#181818;stroke-width:0.5;\" x1=\"399\" x2=\"439\" y1=\"102.7656\" y2=\"102.7656\"/></g></a><!--MD5=[b9389687b975829384b498ac4b7476b2]\n",
       "class E8--><a href=\"psysml:21978b5e-874b-4020-b12b-41f872f49c78\" target=\"_top\" title=\"psysml:21978b5e-874b-4020-b12b-41f872f49c78\" xlink:actuate=\"onRequest\" xlink:href=\"psysml:21978b5e-874b-4020-b12b-41f872f49c78\" xlink:show=\"new\" xlink:title=\"psysml:21978b5e-874b-4020-b12b-41f872f49c78\" xlink:type=\"simple\"><g id=\"elem_E8\"><rect fill=\"#FFFFFF\" height=\"48.2656\" id=\"E8\" rx=\"10\" ry=\"10\" style=\"stroke:#181818;stroke-width:0.5;\" width=\"42\" x=\"321\" y=\"62.5\"/><text fill=\"#000000\" font-family=\"sans-serif\" font-size=\"12\" font-style=\"italic\" lengthAdjust=\"spacing\" textLength=\"40\" x=\"322\" y=\"78.6387\">«part»</text><text fill=\"#000000\" font-family=\"sans-serif\" font-size=\"14\" lengthAdjust=\"spacing\" textLength=\"9\" x=\"333.5\" y=\"94.4639\">e</text><line style=\"stroke:#181818;stroke-width:0.5;\" x1=\"322\" x2=\"362\" y1=\"102.7656\" y2=\"102.7656\"/></g></a><!--MD5=[fd4143e9d270a159db93a4ea2a975926]\n",
       "class E9--><a href=\"psysml:79f00190-11a9-479d-9f29-e880a27768bf\" target=\"_top\" title=\"psysml:79f00190-11a9-479d-9f29-e880a27768bf\" xlink:actuate=\"onRequest\" xlink:href=\"psysml:79f00190-11a9-479d-9f29-e880a27768bf\" xlink:show=\"new\" xlink:title=\"psysml:79f00190-11a9-479d-9f29-e880a27768bf\" xlink:type=\"simple\"><g id=\"elem_E9\"><rect fill=\"#FFFFFF\" height=\"48.2656\" id=\"E9\" rx=\"10\" ry=\"10\" style=\"stroke:#181818;stroke-width:0.5;\" width=\"42\" x=\"244\" y=\"62.5\"/><text fill=\"#000000\" font-family=\"sans-serif\" font-size=\"12\" font-style=\"italic\" lengthAdjust=\"spacing\" textLength=\"40\" x=\"245\" y=\"78.6387\">«part»</text><text fill=\"#000000\" font-family=\"sans-serif\" font-size=\"14\" lengthAdjust=\"spacing\" textLength=\"4\" x=\"259\" y=\"94.4639\">f</text><line style=\"stroke:#181818;stroke-width:0.5;\" x1=\"245\" x2=\"285\" y1=\"102.7656\" y2=\"102.7656\"/></g></a><!--MD5=[96f4274e9e20536e775497830990834d]\n",
       "class E10--><a href=\"psysml:3e79cc57-1ff4-4d61-ad54-8c0f8362d5da\" target=\"_top\" title=\"psysml:3e79cc57-1ff4-4d61-ad54-8c0f8362d5da\" xlink:actuate=\"onRequest\" xlink:href=\"psysml:3e79cc57-1ff4-4d61-ad54-8c0f8362d5da\" xlink:show=\"new\" xlink:title=\"psysml:3e79cc57-1ff4-4d61-ad54-8c0f8362d5da\" xlink:type=\"simple\"><g id=\"elem_E10\"><rect fill=\"#FFFFFF\" height=\"48.2656\" id=\"E10\" rx=\"10\" ry=\"10\" style=\"stroke:#181818;stroke-width:0.5;\" width=\"42\" x=\"167\" y=\"62.5\"/><text fill=\"#000000\" font-family=\"sans-serif\" font-size=\"12\" font-style=\"italic\" lengthAdjust=\"spacing\" textLength=\"40\" x=\"168\" y=\"78.6387\">«part»</text><text fill=\"#000000\" font-family=\"sans-serif\" font-size=\"14\" lengthAdjust=\"spacing\" textLength=\"9\" x=\"179.5\" y=\"94.4639\">g</text><line style=\"stroke:#181818;stroke-width:0.5;\" x1=\"168\" x2=\"208\" y1=\"102.7656\" y2=\"102.7656\"/></g></a><!--MD5=[1dd1bfd58a279cf63c5f349dbc8fc6a1]\n",
       "class E11--><a href=\"psysml:cae84388-2b2f-4b61-9caf-e3201f6c4bb4\" target=\"_top\" title=\"psysml:cae84388-2b2f-4b61-9caf-e3201f6c4bb4\" xlink:actuate=\"onRequest\" xlink:href=\"psysml:cae84388-2b2f-4b61-9caf-e3201f6c4bb4\" xlink:show=\"new\" xlink:title=\"psysml:cae84388-2b2f-4b61-9caf-e3201f6c4bb4\" xlink:type=\"simple\"><g id=\"elem_E11\"><rect fill=\"#FFFFFF\" height=\"91.3781\" id=\"E11\" style=\"stroke:#181818;stroke-width:0.5;\" width=\"99\" x=\"32.5\" y=\"41\"/><text fill=\"#000000\" font-family=\"sans-serif\" font-size=\"12\" font-style=\"italic\" lengthAdjust=\"spacing\" textLength=\"97\" x=\"33.5\" y=\"57.1387\">«attribute  def»</text><text fill=\"#000000\" font-family=\"sans-serif\" font-size=\"14\" lengthAdjust=\"spacing\" textLength=\"9\" x=\"77.5\" y=\"72.9639\">A</text><line style=\"stroke:#181818;stroke-width:0.5;\" x1=\"33.5\" x2=\"130.5\" y1=\"81.2656\" y2=\"81.2656\"/><text fill=\"#000000\" font-family=\"sans-serif\" font-size=\"14\" lengthAdjust=\"spacing\" textLength=\"61\" x=\"38.5\" y=\"108.7795\">i: Integer</text><text fill=\"#000000\" font-family=\"sans-serif\" font-size=\"14\" lengthAdjust=\"spacing\" textLength=\"25\" x=\"38.5\" y=\"125.0764\">x: A</text><text fill=\"#000000\" font-family=\"sans-serif\" font-size=\"14\" font-style=\"italic\" lengthAdjust=\"spacing\" textLength=\"66\" x=\"49\" y=\"93.6123\">attributes</text></g></a><!--MD5=[15ebcb19ae302d9b601edb458606d402]\n",
       "link E5 to E2--><g id=\"link_E5_E2\"><a href=\"psysml:356b088d-f058-4498-8151-02a64d9c5f99\" target=\"_top\" title=\"psysml:356b088d-f058-4498-8151-02a64d9c5f99\" xlink:actuate=\"onRequest\" xlink:href=\"psysml:356b088d-f058-4498-8151-02a64d9c5f99\" xlink:show=\"new\" xlink:title=\"psysml:356b088d-f058-4498-8151-02a64d9c5f99\" xlink:type=\"simple\"><path d=\"M565.94,110.59 C560.67,127.81 553.32,151.83 547,172.49 \" fill=\"none\" id=\"E5-to-E2\" style=\"stroke:#181818;stroke-width:1.0;\"/><polygon fill=\"#FFFFFF\" points=\"541.14,191.65,539.9958,171.4339,553.3851,175.5237,541.14,191.65\" style=\"stroke:#181818;stroke-width:1.0;\"/><ellipse cx=\"543.5737\" cy=\"166.5668\" fill=\"#181818\" rx=\"2\" ry=\"2\" style=\"stroke:#181818;stroke-width:1.0;\"/><ellipse cx=\"553.1375\" cy=\"169.4881\" fill=\"#181818\" rx=\"2\" ry=\"2\" style=\"stroke:#181818;stroke-width:1.0;\"/></a></g><!--MD5=[2351f337d6de0f557b50152ba70847b5]\n",
       "link E6 to E2--><g id=\"link_E6_E2\"><a href=\"psysml:849948e9-2a63-47c9-a787-96ae36e28ef0\" target=\"_top\" title=\"psysml:849948e9-2a63-47c9-a787-96ae36e28ef0\" xlink:actuate=\"onRequest\" xlink:href=\"psysml:849948e9-2a63-47c9-a787-96ae36e28ef0\" xlink:show=\"new\" xlink:title=\"psysml:849948e9-2a63-47c9-a787-96ae36e28ef0\" xlink:type=\"simple\"><path d=\"M502.88,110.59 C507.99,127.72 515.1,151.58 521.23,172.17 \" fill=\"none\" id=\"E6-to-E2\" style=\"stroke:#181818;stroke-width:1.0;\"/><polygon fill=\"#FFFFFF\" points=\"527.04,191.65,514.9155,175.4328,528.3349,171.443,527.04,191.65\" style=\"stroke:#181818;stroke-width:1.0;\"/><ellipse cx=\"515.2081\" cy=\"169.3992\" fill=\"#181818\" rx=\"2\" ry=\"2\" style=\"stroke:#181818;stroke-width:1.0;\"/><ellipse cx=\"524.7935\" cy=\"166.5493\" fill=\"#181818\" rx=\"2\" ry=\"2\" style=\"stroke:#181818;stroke-width:1.0;\"/></a></g><!--MD5=[ca60064ce7871506f7f08a511fd1e58a]\n",
       "@startuml\r\n",
       "skin sysmlbw\r\n",
       "skinparam monochrome true\r\n",
       "skinparam wrapWidth 300\r\n",
       "hide circle\r\n",
       "skinparam linetype polyline\r\n",
       "\r\n",
       "package \"MultiplicityTest\" as E1  [[psysml:26edc399-ba1b-4e26-98ec-184b2d561983 ]]  {\r\n",
       "comp def \"P\" as E2  <<(T,blue) part  def>> [[psysml:a78c9232-7355-4122-98e1-61ea033b6fbd ]] {\r\n",
       "}\r\n",
       "comp usage \"n: Integer  \" as E3  <<(T,blue) attribute>> [[psysml:6e5bcad0-e721-42f0-8965-8cf810de127c ]] {\r\n",
       "##//values//##\r\n",
       " <U+003D> 5\r\n",
       "}\r\n",
       "comp usage \"a  \" as E4  <<(T,blue) part>> [[psysml:58ca86c4-6609-462b-9948-87aadb08d281 ]] {\r\n",
       "}\r\n",
       "comp usage \"b: P  \" as E5  <<(T,blue) part>> [[psysml:8959fced-ddce-434c-832c-e17faa00a5de ]] {\r\n",
       "}\r\n",
       "comp usage \"c: P  \" as E6  <<(T,blue) part>> [[psysml:4ac8fd09-bbc3-4ec3-ba18-7592ef56bccd ]] {\r\n",
       "}\r\n",
       "comp usage \"d  \" as E7  <<(T,blue) part>> [[psysml:58aa0206-e878-4c1d-8c3a-c879ca6e4b13 ]] {\r\n",
       "}\r\n",
       "comp usage \"e  \" as E8  <<(T,blue) part>> [[psysml:21978b5e-874b-4020-b12b-41f872f49c78 ]] {\r\n",
       "}\r\n",
       "comp usage \"f  \" as E9  <<(T,blue) part>> [[psysml:79f00190-11a9-479d-9f29-e880a27768bf ]] {\r\n",
       "}\r\n",
       "comp usage \"g  \" as E10  <<(T,blue) part>> [[psysml:3e79cc57-1ff4-4d61-ad54-8c0f8362d5da ]] {\r\n",
       "}\r\n",
       "comp def \"A\" as E11  <<(T,blue) attribute  def>> [[psysml:cae84388-2b2f-4b61-9caf-e3201f6c4bb4 ]] {\r\n",
       "##//attributes//##\r\n",
       "i: Integer\r\n",
       "x: A\r\n",
       "}\r\n",
       "}\r\n",
       "E5 - -:|> E2 [[psysml:356b088d-f058-4498-8151-02a64d9c5f99 ]] \r\n",
       "E6 - -:|> E2 [[psysml:849948e9-2a63-47c9-a787-96ae36e28ef0 ]] \r\n",
       "@enduml\r\n",
       "\n",
       "PlantUML version 1.2022.7(Mon Aug 22 17:01:30 UTC 2022)\n",
       "(EPL source distribution)\n",
       "Java Runtime: OpenJDK Runtime Environment\n",
       "JVM: OpenJDK 64-Bit Server VM\n",
       "Default Encoding: UTF-8\n",
       "Language: en\n",
       "Country: null\n",
       "--></g></svg>"
      ]
     },
     "execution_count": 9,
     "metadata": {},
     "output_type": "execute_result"
    }
   ],
   "source": [
    "%viz --style=\"POLYLINE\" --view=\"Default\" \"MultiplicityTest\""
   ]
  },
  {
   "cell_type": "code",
   "execution_count": 10,
   "id": "0932fa8f",
   "metadata": {
    "execution": {
     "iopub.execute_input": "2024-12-16T03:27:04.882568Z",
     "iopub.status.busy": "2024-12-16T03:27:04.882279Z",
     "iopub.status.idle": "2024-12-16T03:27:04.910782Z",
     "shell.execute_reply": "2024-12-16T03:27:04.910910Z"
    }
   },
   "outputs": [
    {
     "data": {
      "image/svg+xml": [
       "<?xml version=\"1.0\" encoding=\"UTF-8\" standalone=\"no\"?><svg xmlns=\"http://www.w3.org/2000/svg\" xmlns:xlink=\"http://www.w3.org/1999/xlink\" contentStyleType=\"text/css\" height=\"263px\" preserveAspectRatio=\"none\" style=\"width:916px;height:263px;background:#FFFFFF;\" version=\"1.1\" viewBox=\"0 0 916 263\" width=\"916px\" zoomAndPan=\"magnify\"><defs/><g><!--MD5=[fbc87193dbaf4d95561dea2c320d4a47]\n",
       "cluster E1--><g id=\"cluster_E1\"><a href=\"psysml:26edc399-ba1b-4e26-98ec-184b2d561983\" target=\"_top\" title=\"psysml:26edc399-ba1b-4e26-98ec-184b2d561983\" xlink:actuate=\"onRequest\" xlink:href=\"psysml:26edc399-ba1b-4e26-98ec-184b2d561983\" xlink:show=\"new\" xlink:title=\"psysml:26edc399-ba1b-4e26-98ec-184b2d561983\" xlink:type=\"simple\"><polygon fill=\"none\" points=\"16,6,130,6,137,28.2969,899,28.2969,899,256,16,256,16,6\" style=\"stroke:#000000;stroke-width:1.5;\"/><line style=\"stroke:#000000;stroke-width:1.5;\" x1=\"16\" x2=\"137\" y1=\"28.2969\" y2=\"28.2969\"/><text fill=\"#000000\" font-family=\"sans-serif\" font-size=\"14\" font-weight=\"bold\" lengthAdjust=\"spacing\" textLength=\"108\" x=\"20\" y=\"20.9951\">MultiplicityTest</text></a></g><!--MD5=[b4997ac47864f28c2f74865a473b2911]\n",
       "class E2--><a href=\"psysml:a78c9232-7355-4122-98e1-61ea033b6fbd\" target=\"_top\" title=\"psysml:a78c9232-7355-4122-98e1-61ea033b6fbd\" xlink:actuate=\"onRequest\" xlink:href=\"psysml:a78c9232-7355-4122-98e1-61ea033b6fbd\" xlink:show=\"new\" xlink:title=\"psysml:a78c9232-7355-4122-98e1-61ea033b6fbd\" xlink:type=\"simple\"><g id=\"elem_E2\"><rect fill=\"#FFFFFF\" height=\"48.2656\" id=\"E2\" style=\"stroke:#181818;stroke-width:0.5;\" width=\"70\" x=\"559\" y=\"192\"/><text fill=\"#000000\" font-family=\"sans-serif\" font-size=\"12\" font-style=\"italic\" lengthAdjust=\"spacing\" textLength=\"68\" x=\"560\" y=\"208.1387\">«part  def»</text><text fill=\"#000000\" font-family=\"sans-serif\" font-size=\"14\" lengthAdjust=\"spacing\" textLength=\"9\" x=\"589.5\" y=\"223.9639\">P</text><line style=\"stroke:#181818;stroke-width:0.5;\" x1=\"560\" x2=\"628\" y1=\"232.2656\" y2=\"232.2656\"/></g></a><!--MD5=[09b614a08d8cba4a07c9adeb5e0fee81]\n",
       "class E3--><a href=\"psysml:6e5bcad0-e721-42f0-8965-8cf810de127c\" target=\"_top\" title=\"psysml:6e5bcad0-e721-42f0-8965-8cf810de127c\" xlink:actuate=\"onRequest\" xlink:href=\"psysml:6e5bcad0-e721-42f0-8965-8cf810de127c\" xlink:show=\"new\" xlink:title=\"psysml:6e5bcad0-e721-42f0-8965-8cf810de127c\" xlink:type=\"simple\"><g id=\"elem_E3\"><rect fill=\"#FFFFFF\" height=\"75.0813\" id=\"E3\" rx=\"10\" ry=\"10\" style=\"stroke:#181818;stroke-width:0.5;\" width=\"81\" x=\"801.5\" y=\"49\"/><text fill=\"#000000\" font-family=\"sans-serif\" font-size=\"12\" font-style=\"italic\" lengthAdjust=\"spacing\" textLength=\"69\" x=\"807.5\" y=\"65.1387\">«attribute»</text><text fill=\"#000000\" font-family=\"sans-serif\" font-size=\"14\" lengthAdjust=\"spacing\" textLength=\"67\" x=\"804.5\" y=\"80.9639\">n: Integer</text><line style=\"stroke:#181818;stroke-width:0.5;\" x1=\"802.5\" x2=\"881.5\" y1=\"89.2656\" y2=\"89.2656\"/><text fill=\"#000000\" font-family=\"sans-serif\" font-size=\"14\" lengthAdjust=\"spacing\" textLength=\"25\" x=\"807.5\" y=\"116.7795\">= 5</text><text fill=\"#000000\" font-family=\"sans-serif\" font-size=\"14\" font-style=\"italic\" lengthAdjust=\"spacing\" textLength=\"44\" x=\"820\" y=\"101.6123\">values</text></g></a><!--MD5=[ebbe1d658d1005bcc118a6aa81145e00]\n",
       "class E4--><a href=\"psysml:58ca86c4-6609-462b-9948-87aadb08d281\" target=\"_top\" title=\"psysml:58ca86c4-6609-462b-9948-87aadb08d281\" xlink:actuate=\"onRequest\" xlink:href=\"psysml:58ca86c4-6609-462b-9948-87aadb08d281\" xlink:show=\"new\" xlink:title=\"psysml:58ca86c4-6609-462b-9948-87aadb08d281\" xlink:type=\"simple\"><g id=\"elem_E4\"><rect fill=\"#FFFFFF\" height=\"48.2656\" id=\"E4\" rx=\"10\" ry=\"10\" style=\"stroke:#181818;stroke-width:0.5;\" width=\"42\" x=\"724\" y=\"62.5\"/><text fill=\"#000000\" font-family=\"sans-serif\" font-size=\"12\" font-style=\"italic\" lengthAdjust=\"spacing\" textLength=\"40\" x=\"725\" y=\"78.6387\">«part»</text><text fill=\"#000000\" font-family=\"sans-serif\" font-size=\"14\" lengthAdjust=\"spacing\" textLength=\"27\" x=\"727.5\" y=\"94.4639\">a[1]</text><line style=\"stroke:#181818;stroke-width:0.5;\" x1=\"725\" x2=\"765\" y1=\"102.7656\" y2=\"102.7656\"/></g></a><!--MD5=[270fce915f116d4de14055a7c1d9a0f3]\n",
       "class E5--><a href=\"psysml:8959fced-ddce-434c-832c-e17faa00a5de\" target=\"_top\" title=\"psysml:8959fced-ddce-434c-832c-e17faa00a5de\" xlink:actuate=\"onRequest\" xlink:href=\"psysml:8959fced-ddce-434c-832c-e17faa00a5de\" xlink:show=\"new\" xlink:title=\"psysml:8959fced-ddce-434c-832c-e17faa00a5de\" xlink:type=\"simple\"><g id=\"elem_E5\"><rect fill=\"#FFFFFF\" height=\"48.2656\" id=\"E5\" rx=\"10\" ry=\"10\" style=\"stroke:#181818;stroke-width:0.5;\" width=\"77\" x=\"611.5\" y=\"62.5\"/><text fill=\"#000000\" font-family=\"sans-serif\" font-size=\"12\" font-style=\"italic\" lengthAdjust=\"spacing\" textLength=\"40\" x=\"630\" y=\"78.6387\">«part»</text><text fill=\"#000000\" font-family=\"sans-serif\" font-size=\"14\" lengthAdjust=\"spacing\" textLength=\"63\" x=\"614.5\" y=\"94.4639\">b: P[0..2]</text><line style=\"stroke:#181818;stroke-width:0.5;\" x1=\"612.5\" x2=\"687.5\" y1=\"102.7656\" y2=\"102.7656\"/></g></a><!--MD5=[60a26617385b1d2d0262a64233df1f8d]\n",
       "class E6--><a href=\"psysml:4ac8fd09-bbc3-4ec3-ba18-7592ef56bccd\" target=\"_top\" title=\"psysml:4ac8fd09-bbc3-4ec3-ba18-7592ef56bccd\" xlink:actuate=\"onRequest\" xlink:href=\"psysml:4ac8fd09-bbc3-4ec3-ba18-7592ef56bccd\" xlink:show=\"new\" xlink:title=\"psysml:4ac8fd09-bbc3-4ec3-ba18-7592ef56bccd\" xlink:type=\"simple\"><g id=\"elem_E6\"><rect fill=\"#FFFFFF\" height=\"48.2656\" id=\"E6\" rx=\"10\" ry=\"10\" style=\"stroke:#181818;stroke-width:0.5;\" width=\"74\" x=\"502\" y=\"62.5\"/><text fill=\"#000000\" font-family=\"sans-serif\" font-size=\"12\" font-style=\"italic\" lengthAdjust=\"spacing\" textLength=\"40\" x=\"519\" y=\"78.6387\">«part»</text><text fill=\"#000000\" font-family=\"sans-serif\" font-size=\"14\" lengthAdjust=\"spacing\" textLength=\"60\" x=\"505\" y=\"94.4639\">c: P[2..*]</text><line style=\"stroke:#181818;stroke-width:0.5;\" x1=\"503\" x2=\"575\" y1=\"102.7656\" y2=\"102.7656\"/></g></a><!--MD5=[2156ba9850f5573cc1fc38a6a4b2f02b]\n",
       "class E7--><a href=\"psysml:58aa0206-e878-4c1d-8c3a-c879ca6e4b13\" target=\"_top\" title=\"psysml:58aa0206-e878-4c1d-8c3a-c879ca6e4b13\" xlink:actuate=\"onRequest\" xlink:href=\"psysml:58aa0206-e878-4c1d-8c3a-c879ca6e4b13\" xlink:show=\"new\" xlink:title=\"psysml:58aa0206-e878-4c1d-8c3a-c879ca6e4b13\" xlink:type=\"simple\"><g id=\"elem_E7\"><rect fill=\"#FFFFFF\" height=\"48.2656\" id=\"E7\" rx=\"10\" ry=\"10\" style=\"stroke:#181818;stroke-width:0.5;\" width=\"42\" x=\"425\" y=\"62.5\"/><text fill=\"#000000\" font-family=\"sans-serif\" font-size=\"12\" font-style=\"italic\" lengthAdjust=\"spacing\" textLength=\"40\" x=\"426\" y=\"78.6387\">«part»</text><text fill=\"#000000\" font-family=\"sans-serif\" font-size=\"14\" lengthAdjust=\"spacing\" textLength=\"26\" x=\"429\" y=\"94.4639\">d[*]</text><line style=\"stroke:#181818;stroke-width:0.5;\" x1=\"426\" x2=\"466\" y1=\"102.7656\" y2=\"102.7656\"/></g></a><!--MD5=[b9389687b975829384b498ac4b7476b2]\n",
       "class E8--><a href=\"psysml:21978b5e-874b-4020-b12b-41f872f49c78\" target=\"_top\" title=\"psysml:21978b5e-874b-4020-b12b-41f872f49c78\" xlink:actuate=\"onRequest\" xlink:href=\"psysml:21978b5e-874b-4020-b12b-41f872f49c78\" xlink:show=\"new\" xlink:title=\"psysml:21978b5e-874b-4020-b12b-41f872f49c78\" xlink:type=\"simple\"><g id=\"elem_E8\"><rect fill=\"#FFFFFF\" height=\"48.2656\" id=\"E8\" rx=\"10\" ry=\"10\" style=\"stroke:#181818;stroke-width:0.5;\" width=\"42\" x=\"348\" y=\"62.5\"/><text fill=\"#000000\" font-family=\"sans-serif\" font-size=\"12\" font-style=\"italic\" lengthAdjust=\"spacing\" textLength=\"40\" x=\"349\" y=\"78.6387\">«part»</text><text fill=\"#000000\" font-family=\"sans-serif\" font-size=\"14\" lengthAdjust=\"spacing\" textLength=\"28\" x=\"351\" y=\"94.4639\">e[n]</text><line style=\"stroke:#181818;stroke-width:0.5;\" x1=\"349\" x2=\"389\" y1=\"102.7656\" y2=\"102.7656\"/></g></a><!--MD5=[fd4143e9d270a159db93a4ea2a975926]\n",
       "class E9--><a href=\"psysml:79f00190-11a9-479d-9f29-e880a27768bf\" target=\"_top\" title=\"psysml:79f00190-11a9-479d-9f29-e880a27768bf\" xlink:actuate=\"onRequest\" xlink:href=\"psysml:79f00190-11a9-479d-9f29-e880a27768bf\" xlink:show=\"new\" xlink:title=\"psysml:79f00190-11a9-479d-9f29-e880a27768bf\" xlink:type=\"simple\"><g id=\"elem_E9\"><rect fill=\"#FFFFFF\" height=\"48.2656\" id=\"E9\" rx=\"10\" ry=\"10\" style=\"stroke:#181818;stroke-width:0.5;\" width=\"52\" x=\"261\" y=\"62.5\"/><text fill=\"#000000\" font-family=\"sans-serif\" font-size=\"12\" font-style=\"italic\" lengthAdjust=\"spacing\" textLength=\"40\" x=\"267\" y=\"78.6387\">«part»</text><text fill=\"#000000\" font-family=\"sans-serif\" font-size=\"14\" lengthAdjust=\"spacing\" textLength=\"38\" x=\"264\" y=\"94.4639\">f[n..*]</text><line style=\"stroke:#181818;stroke-width:0.5;\" x1=\"262\" x2=\"312\" y1=\"102.7656\" y2=\"102.7656\"/></g></a><!--MD5=[96f4274e9e20536e775497830990834d]\n",
       "class E10--><a href=\"psysml:3e79cc57-1ff4-4d61-ad54-8c0f8362d5da\" target=\"_top\" title=\"psysml:3e79cc57-1ff4-4d61-ad54-8c0f8362d5da\" xlink:actuate=\"onRequest\" xlink:href=\"psysml:3e79cc57-1ff4-4d61-ad54-8c0f8362d5da\" xlink:show=\"new\" xlink:title=\"psysml:3e79cc57-1ff4-4d61-ad54-8c0f8362d5da\" xlink:type=\"simple\"><g id=\"elem_E10\"><rect fill=\"#FFFFFF\" height=\"48.2656\" id=\"E10\" rx=\"10\" ry=\"10\" style=\"stroke:#181818;stroke-width:0.5;\" width=\"59\" x=\"166.5\" y=\"62.5\"/><text fill=\"#000000\" font-family=\"sans-serif\" font-size=\"12\" font-style=\"italic\" lengthAdjust=\"spacing\" textLength=\"40\" x=\"176\" y=\"78.6387\">«part»</text><text fill=\"#000000\" font-family=\"sans-serif\" font-size=\"14\" lengthAdjust=\"spacing\" textLength=\"45\" x=\"169.5\" y=\"94.4639\">g[1..n]</text><line style=\"stroke:#181818;stroke-width:0.5;\" x1=\"167.5\" x2=\"224.5\" y1=\"102.7656\" y2=\"102.7656\"/></g></a><!--MD5=[1dd1bfd58a279cf63c5f349dbc8fc6a1]\n",
       "class E11--><a href=\"psysml:cae84388-2b2f-4b61-9caf-e3201f6c4bb4\" target=\"_top\" title=\"psysml:cae84388-2b2f-4b61-9caf-e3201f6c4bb4\" xlink:actuate=\"onRequest\" xlink:href=\"psysml:cae84388-2b2f-4b61-9caf-e3201f6c4bb4\" xlink:show=\"new\" xlink:title=\"psysml:cae84388-2b2f-4b61-9caf-e3201f6c4bb4\" xlink:type=\"simple\"><g id=\"elem_E11\"><rect fill=\"#FFFFFF\" height=\"91.3781\" id=\"E11\" style=\"stroke:#181818;stroke-width:0.5;\" width=\"99\" x=\"32.5\" y=\"41\"/><text fill=\"#000000\" font-family=\"sans-serif\" font-size=\"12\" font-style=\"italic\" lengthAdjust=\"spacing\" textLength=\"97\" x=\"33.5\" y=\"57.1387\">«attribute  def»</text><text fill=\"#000000\" font-family=\"sans-serif\" font-size=\"14\" lengthAdjust=\"spacing\" textLength=\"9\" x=\"77.5\" y=\"72.9639\">A</text><line style=\"stroke:#181818;stroke-width:0.5;\" x1=\"33.5\" x2=\"130.5\" y1=\"81.2656\" y2=\"81.2656\"/><text fill=\"#000000\" font-family=\"sans-serif\" font-size=\"14\" lengthAdjust=\"spacing\" textLength=\"61\" x=\"38.5\" y=\"108.7795\">i: Integer</text><text fill=\"#000000\" font-family=\"sans-serif\" font-size=\"14\" lengthAdjust=\"spacing\" textLength=\"25\" x=\"38.5\" y=\"125.0764\">x: A</text><text fill=\"#000000\" font-family=\"sans-serif\" font-size=\"14\" font-style=\"italic\" lengthAdjust=\"spacing\" textLength=\"66\" x=\"49\" y=\"93.6123\">attributes</text></g></a><!--MD5=[15ebcb19ae302d9b601edb458606d402]\n",
       "link E5 to E2--><g id=\"link_E5_E2\"><a href=\"psysml:356b088d-f058-4498-8151-02a64d9c5f99\" target=\"_top\" title=\"psysml:356b088d-f058-4498-8151-02a64d9c5f99\" xlink:actuate=\"onRequest\" xlink:href=\"psysml:356b088d-f058-4498-8151-02a64d9c5f99\" xlink:show=\"new\" xlink:title=\"psysml:356b088d-f058-4498-8151-02a64d9c5f99\" xlink:type=\"simple\"><path d=\"M639.86,110.59 C632.22,127.99 621.53,152.33 612.39,173.13 \" fill=\"none\" id=\"E5-to-E2\" style=\"stroke:#181818;stroke-width:1.0;\"/><polygon fill=\"#FFFFFF\" points=\"604.25,191.65,605.4806,171.439,618.2989,177.0683,604.25,191.65\" style=\"stroke:#181818;stroke-width:1.0;\"/><ellipse cx=\"609.6037\" cy=\"167.0242\" fill=\"#181818\" rx=\"2\" ry=\"2\" style=\"stroke:#181818;stroke-width:1.0;\"/><ellipse cx=\"618.7597\" cy=\"171.0452\" fill=\"#181818\" rx=\"2\" ry=\"2\" style=\"stroke:#181818;stroke-width:1.0;\"/></a></g><!--MD5=[2351f337d6de0f557b50152ba70847b5]\n",
       "link E6 to E2--><g id=\"link_E6_E2\"><a href=\"psysml:849948e9-2a63-47c9-a787-96ae36e28ef0\" target=\"_top\" title=\"psysml:849948e9-2a63-47c9-a787-96ae36e28ef0\" xlink:actuate=\"onRequest\" xlink:href=\"psysml:849948e9-2a63-47c9-a787-96ae36e28ef0\" xlink:show=\"new\" xlink:title=\"psysml:849948e9-2a63-47c9-a787-96ae36e28ef0\" xlink:type=\"simple\"><path d=\"M548.96,110.59 C556.47,127.99 566.97,152.33 575.94,173.13 \" fill=\"none\" id=\"E6-to-E2\" style=\"stroke:#181818;stroke-width:1.0;\"/><polygon fill=\"#FFFFFF\" points=\"583.93,191.65,569.9702,176.9829,582.8226,171.4318,583.93,191.65\" style=\"stroke:#181818;stroke-width:1.0;\"/><ellipse cx=\"569.5462\" cy=\"170.9571\" fill=\"#181818\" rx=\"2\" ry=\"2\" style=\"stroke:#181818;stroke-width:1.0;\"/><ellipse cx=\"578.7265\" cy=\"166.9921\" fill=\"#181818\" rx=\"2\" ry=\"2\" style=\"stroke:#181818;stroke-width:1.0;\"/></a></g><!--MD5=[b504e7b46a28ee4961bd448c5cd79fba]\n",
       "@startuml\r\n",
       "skin sysmlbw\r\n",
       "skinparam monochrome true\r\n",
       "skinparam wrapWidth 300\r\n",
       "hide circle\r\n",
       "skinparam linetype polyline\r\n",
       "\r\n",
       "package \"MultiplicityTest\" as E1  [[psysml:26edc399-ba1b-4e26-98ec-184b2d561983 ]]  {\r\n",
       "comp def \"P\" as E2  <<(T,blue) part  def>> [[psysml:a78c9232-7355-4122-98e1-61ea033b6fbd ]] {\r\n",
       "}\r\n",
       "comp usage \"n: Integer  \" as E3  <<(T,blue) attribute>> [[psysml:6e5bcad0-e721-42f0-8965-8cf810de127c ]] {\r\n",
       "##//values//##\r\n",
       " <U+003D> 5\r\n",
       "}\r\n",
       "comp usage \"a[1]  \" as E4  <<(T,blue) part>> [[psysml:58ca86c4-6609-462b-9948-87aadb08d281 ]] {\r\n",
       "}\r\n",
       "comp usage \"b: P[0..2]  \" as E5  <<(T,blue) part>> [[psysml:8959fced-ddce-434c-832c-e17faa00a5de ]] {\r\n",
       "}\r\n",
       "comp usage \"c: P[2..*]  \" as E6  <<(T,blue) part>> [[psysml:4ac8fd09-bbc3-4ec3-ba18-7592ef56bccd ]] {\r\n",
       "}\r\n",
       "comp usage \"d[*]  \" as E7  <<(T,blue) part>> [[psysml:58aa0206-e878-4c1d-8c3a-c879ca6e4b13 ]] {\r\n",
       "}\r\n",
       "comp usage \"e[n]  \" as E8  <<(T,blue) part>> [[psysml:21978b5e-874b-4020-b12b-41f872f49c78 ]] {\r\n",
       "}\r\n",
       "comp usage \"f[n..*]  \" as E9  <<(T,blue) part>> [[psysml:79f00190-11a9-479d-9f29-e880a27768bf ]] {\r\n",
       "}\r\n",
       "comp usage \"g[1..n]  \" as E10  <<(T,blue) part>> [[psysml:3e79cc57-1ff4-4d61-ad54-8c0f8362d5da ]] {\r\n",
       "}\r\n",
       "comp def \"A\" as E11  <<(T,blue) attribute  def>> [[psysml:cae84388-2b2f-4b61-9caf-e3201f6c4bb4 ]] {\r\n",
       "##//attributes//##\r\n",
       "i: Integer\r\n",
       "x: A\r\n",
       "}\r\n",
       "}\r\n",
       "E5 - -:|> E2 [[psysml:356b088d-f058-4498-8151-02a64d9c5f99 ]] \r\n",
       "E6 - -:|> E2 [[psysml:849948e9-2a63-47c9-a787-96ae36e28ef0 ]] \r\n",
       "@enduml\r\n",
       "\n",
       "PlantUML version 1.2022.7(Mon Aug 22 17:01:30 UTC 2022)\n",
       "(EPL source distribution)\n",
       "Java Runtime: OpenJDK Runtime Environment\n",
       "JVM: OpenJDK 64-Bit Server VM\n",
       "Default Encoding: UTF-8\n",
       "Language: en\n",
       "Country: null\n",
       "--></g></svg>"
      ]
     },
     "execution_count": 10,
     "metadata": {},
     "output_type": "execute_result"
    }
   ],
   "source": [
    "%viz --style=\"POLYLINE\" --view=\"Tree\" \"MultiplicityTest\""
   ]
  },
  {
   "cell_type": "code",
   "execution_count": 11,
   "id": "539bbf6a",
   "metadata": {
    "execution": {
     "iopub.execute_input": "2024-12-16T03:27:04.965558Z",
     "iopub.status.busy": "2024-12-16T03:27:04.965319Z",
     "iopub.status.idle": "2024-12-16T03:27:04.973655Z",
     "shell.execute_reply": "2024-12-16T03:27:04.973788Z"
    }
   },
   "outputs": [
    {
     "data": {
      "image/svg+xml": [
       "<?xml version=\"1.0\" encoding=\"UTF-8\" standalone=\"no\"?><svg xmlns=\"http://www.w3.org/2000/svg\" xmlns:xlink=\"http://www.w3.org/1999/xlink\" contentStyleType=\"text/css\" height=\"10px\" preserveAspectRatio=\"none\" style=\"width:10px;height:10px;background:#FFFFFF;\" version=\"1.1\" viewBox=\"0 0 10 10\" width=\"10px\" zoomAndPan=\"magnify\"><defs/><g><!--MD5=[20bed88d98f2aabbefdc8661420d403d]\n",
       "@startuml\r\n",
       "skin sysmlbw\r\n",
       "skinparam monochrome true\r\n",
       "skinparam wrapWidth 300\r\n",
       "hide circle\r\n",
       "skinparam linetype polyline\r\n",
       "\r\n",
       "@enduml\r\n",
       "\n",
       "PlantUML version 1.2022.7(Mon Aug 22 17:01:30 UTC 2022)\n",
       "(EPL source distribution)\n",
       "Java Runtime: OpenJDK Runtime Environment\n",
       "JVM: OpenJDK 64-Bit Server VM\n",
       "Default Encoding: UTF-8\n",
       "Language: en\n",
       "Country: null\n",
       "--></g></svg>"
      ]
     },
     "execution_count": 11,
     "metadata": {},
     "output_type": "execute_result"
    }
   ],
   "source": [
    "%viz --style=\"POLYLINE\" --view=\"State\" \"MultiplicityTest\""
   ]
  },
  {
   "cell_type": "code",
   "execution_count": 12,
   "id": "0e6ce591",
   "metadata": {
    "execution": {
     "iopub.execute_input": "2024-12-16T03:27:05.026130Z",
     "iopub.status.busy": "2024-12-16T03:27:05.025844Z",
     "iopub.status.idle": "2024-12-16T03:27:05.050937Z",
     "shell.execute_reply": "2024-12-16T03:27:05.050758Z"
    }
   },
   "outputs": [
    {
     "data": {
      "image/svg+xml": [
       "<?xml version=\"1.0\" encoding=\"UTF-8\" standalone=\"no\"?><svg xmlns=\"http://www.w3.org/2000/svg\" xmlns:xlink=\"http://www.w3.org/1999/xlink\" contentStyleType=\"text/css\" height=\"194px\" preserveAspectRatio=\"none\" style=\"width:881px;height:194px;background:#FFFFFF;\" version=\"1.1\" viewBox=\"0 0 881 194\" width=\"881px\" zoomAndPan=\"magnify\"><defs/><g><!--MD5=[fbc87193dbaf4d95561dea2c320d4a47]\n",
       "cluster E1--><g id=\"cluster_E1\"><a href=\"psysml:26edc399-ba1b-4e26-98ec-184b2d561983\" target=\"_top\" title=\"psysml:26edc399-ba1b-4e26-98ec-184b2d561983\" xlink:actuate=\"onRequest\" xlink:href=\"psysml:26edc399-ba1b-4e26-98ec-184b2d561983\" xlink:show=\"new\" xlink:title=\"psysml:26edc399-ba1b-4e26-98ec-184b2d561983\" xlink:type=\"simple\"><polygon fill=\"none\" points=\"16,6,130,6,137,28.2969,864,28.2969,864,187,16,187,16,6\" style=\"stroke:#000000;stroke-width:1.5;\"/><line style=\"stroke:#000000;stroke-width:1.5;\" x1=\"16\" x2=\"137\" y1=\"28.2969\" y2=\"28.2969\"/><text fill=\"#000000\" font-family=\"sans-serif\" font-size=\"14\" font-weight=\"bold\" lengthAdjust=\"spacing\" textLength=\"108\" x=\"20\" y=\"20.9951\">MultiplicityTest</text></a></g><!--MD5=[09b614a08d8cba4a07c9adeb5e0fee81]\n",
       "class E3--><a href=\"psysml:6e5bcad0-e721-42f0-8965-8cf810de127c\" target=\"_top\" title=\"psysml:6e5bcad0-e721-42f0-8965-8cf810de127c\" xlink:actuate=\"onRequest\" xlink:href=\"psysml:6e5bcad0-e721-42f0-8965-8cf810de127c\" xlink:show=\"new\" xlink:title=\"psysml:6e5bcad0-e721-42f0-8965-8cf810de127c\" xlink:type=\"simple\"><g id=\"elem_E3\"><rect fill=\"#FFFFFF\" height=\"75.0813\" id=\"E3\" rx=\"10\" ry=\"10\" style=\"stroke:#181818;stroke-width:0.5;\" width=\"81\" x=\"766.5\" y=\"41\"/><text fill=\"#000000\" font-family=\"sans-serif\" font-size=\"12\" font-style=\"italic\" lengthAdjust=\"spacing\" textLength=\"69\" x=\"772.5\" y=\"57.1387\">«attribute»</text><text fill=\"#000000\" font-family=\"sans-serif\" font-size=\"14\" lengthAdjust=\"spacing\" textLength=\"67\" x=\"769.5\" y=\"72.9639\">n: Integer</text><line style=\"stroke:#181818;stroke-width:0.5;\" x1=\"767.5\" x2=\"846.5\" y1=\"81.2656\" y2=\"81.2656\"/><text fill=\"#000000\" font-family=\"sans-serif\" font-size=\"14\" lengthAdjust=\"spacing\" textLength=\"25\" x=\"772.5\" y=\"108.7795\">= 5</text><text fill=\"#000000\" font-family=\"sans-serif\" font-size=\"14\" font-style=\"italic\" lengthAdjust=\"spacing\" textLength=\"44\" x=\"785\" y=\"93.6123\">values</text></g></a><g><a href=\"psysml:cae84388-2b2f-4b61-9caf-e3201f6c4bb4\" target=\"_top\" title=\"psysml:cae84388-2b2f-4b61-9caf-e3201f6c4bb4\" xlink:actuate=\"onRequest\" xlink:href=\"psysml:cae84388-2b2f-4b61-9caf-e3201f6c4bb4\" xlink:show=\"new\" xlink:title=\"psysml:cae84388-2b2f-4b61-9caf-e3201f6c4bb4\" xlink:type=\"simple\"><rect fill=\"#FFFFFF\" height=\"45.2656\" id=\"E11\" style=\"stroke:#383838;stroke-width:1.5;\" width=\"104\" x=\"627\" y=\"56\"/><text fill=\"#000000\" font-family=\"sans-serif\" font-size=\"12\" font-style=\"italic\" lengthAdjust=\"spacing\" textLength=\"97\" x=\"630.5\" y=\"72.1387\">«attribute  def»</text><text fill=\"#000000\" font-family=\"sans-serif\" font-size=\"14\" lengthAdjust=\"spacing\" textLength=\"9\" x=\"674.5\" y=\"87.9639\">A</text></a></g><g><a href=\"psysml:a78c9232-7355-4122-98e1-61ea033b6fbd\" target=\"_top\" title=\"psysml:a78c9232-7355-4122-98e1-61ea033b6fbd\" xlink:actuate=\"onRequest\" xlink:href=\"psysml:a78c9232-7355-4122-98e1-61ea033b6fbd\" xlink:show=\"new\" xlink:title=\"psysml:a78c9232-7355-4122-98e1-61ea033b6fbd\" xlink:type=\"simple\"><rect fill=\"#FFFFFF\" height=\"45.2656\" id=\"E2\" style=\"stroke:#383838;stroke-width:1.5;\" width=\"75\" x=\"401.5\" y=\"126\"/><text fill=\"#000000\" font-family=\"sans-serif\" font-size=\"12\" font-style=\"italic\" lengthAdjust=\"spacing\" textLength=\"68\" x=\"405\" y=\"142.1387\">«part  def»</text><text fill=\"#000000\" font-family=\"sans-serif\" font-size=\"14\" lengthAdjust=\"spacing\" textLength=\"9\" x=\"434.5\" y=\"157.9639\">P</text></a></g><g><a href=\"psysml:58ca86c4-6609-462b-9948-87aadb08d281\" target=\"_top\" title=\"psysml:58ca86c4-6609-462b-9948-87aadb08d281\" xlink:actuate=\"onRequest\" xlink:href=\"psysml:58ca86c4-6609-462b-9948-87aadb08d281\" xlink:show=\"new\" xlink:title=\"psysml:58ca86c4-6609-462b-9948-87aadb08d281\" xlink:type=\"simple\"><rect fill=\"#FFFFFF\" height=\"40\" id=\"E4\" rx=\"10\" ry=\"10\" style=\"stroke:#383838;stroke-width:1.5;\" width=\"50\" x=\"542\" y=\"58.5\"/><text fill=\"#000000\" font-family=\"sans-serif\" font-size=\"14\" lengthAdjust=\"spacing\" textLength=\"8\" x=\"563\" y=\"76.4951\">a</text></a></g><g><a href=\"psysml:8959fced-ddce-434c-832c-e17faa00a5de\" target=\"_top\" title=\"psysml:8959fced-ddce-434c-832c-e17faa00a5de\" xlink:actuate=\"onRequest\" xlink:href=\"psysml:8959fced-ddce-434c-832c-e17faa00a5de\" xlink:show=\"new\" xlink:title=\"psysml:8959fced-ddce-434c-832c-e17faa00a5de\" xlink:type=\"simple\"><rect fill=\"#FFFFFF\" height=\"40\" id=\"E5\" rx=\"10\" ry=\"10\" style=\"stroke:#383838;stroke-width:1.5;\" width=\"50\" x=\"457\" y=\"58.5\"/><text fill=\"#000000\" font-family=\"sans-serif\" font-size=\"14\" lengthAdjust=\"spacing\" textLength=\"27\" x=\"468.5\" y=\"76.4951\">b: P</text></a></g><g><a href=\"psysml:4ac8fd09-bbc3-4ec3-ba18-7592ef56bccd\" target=\"_top\" title=\"psysml:4ac8fd09-bbc3-4ec3-ba18-7592ef56bccd\" xlink:actuate=\"onRequest\" xlink:href=\"psysml:4ac8fd09-bbc3-4ec3-ba18-7592ef56bccd\" xlink:show=\"new\" xlink:title=\"psysml:4ac8fd09-bbc3-4ec3-ba18-7592ef56bccd\" xlink:type=\"simple\"><rect fill=\"#FFFFFF\" height=\"40\" id=\"E6\" rx=\"10\" ry=\"10\" style=\"stroke:#383838;stroke-width:1.5;\" width=\"50\" x=\"372\" y=\"58.5\"/><text fill=\"#000000\" font-family=\"sans-serif\" font-size=\"14\" lengthAdjust=\"spacing\" textLength=\"26\" x=\"384\" y=\"76.4951\">c: P</text></a></g><g><a href=\"psysml:58aa0206-e878-4c1d-8c3a-c879ca6e4b13\" target=\"_top\" title=\"psysml:58aa0206-e878-4c1d-8c3a-c879ca6e4b13\" xlink:actuate=\"onRequest\" xlink:href=\"psysml:58aa0206-e878-4c1d-8c3a-c879ca6e4b13\" xlink:show=\"new\" xlink:title=\"psysml:58aa0206-e878-4c1d-8c3a-c879ca6e4b13\" xlink:type=\"simple\"><rect fill=\"#FFFFFF\" height=\"40\" id=\"E7\" rx=\"10\" ry=\"10\" style=\"stroke:#383838;stroke-width:1.5;\" width=\"50\" x=\"287\" y=\"58.5\"/><text fill=\"#000000\" font-family=\"sans-serif\" font-size=\"14\" lengthAdjust=\"spacing\" textLength=\"9\" x=\"307.5\" y=\"76.4951\">d</text></a></g><g><a href=\"psysml:21978b5e-874b-4020-b12b-41f872f49c78\" target=\"_top\" title=\"psysml:21978b5e-874b-4020-b12b-41f872f49c78\" xlink:actuate=\"onRequest\" xlink:href=\"psysml:21978b5e-874b-4020-b12b-41f872f49c78\" xlink:show=\"new\" xlink:title=\"psysml:21978b5e-874b-4020-b12b-41f872f49c78\" xlink:type=\"simple\"><rect fill=\"#FFFFFF\" height=\"40\" id=\"E8\" rx=\"10\" ry=\"10\" style=\"stroke:#383838;stroke-width:1.5;\" width=\"50\" x=\"202\" y=\"58.5\"/><text fill=\"#000000\" font-family=\"sans-serif\" font-size=\"14\" lengthAdjust=\"spacing\" textLength=\"9\" x=\"222.5\" y=\"76.4951\">e</text></a></g><g><a href=\"psysml:79f00190-11a9-479d-9f29-e880a27768bf\" target=\"_top\" title=\"psysml:79f00190-11a9-479d-9f29-e880a27768bf\" xlink:actuate=\"onRequest\" xlink:href=\"psysml:79f00190-11a9-479d-9f29-e880a27768bf\" xlink:show=\"new\" xlink:title=\"psysml:79f00190-11a9-479d-9f29-e880a27768bf\" xlink:type=\"simple\"><rect fill=\"#FFFFFF\" height=\"40\" id=\"E9\" rx=\"10\" ry=\"10\" style=\"stroke:#383838;stroke-width:1.5;\" width=\"50\" x=\"117\" y=\"58.5\"/><text fill=\"#000000\" font-family=\"sans-serif\" font-size=\"14\" lengthAdjust=\"spacing\" textLength=\"4\" x=\"140\" y=\"76.4951\">f</text></a></g><g><a href=\"psysml:3e79cc57-1ff4-4d61-ad54-8c0f8362d5da\" target=\"_top\" title=\"psysml:3e79cc57-1ff4-4d61-ad54-8c0f8362d5da\" xlink:actuate=\"onRequest\" xlink:href=\"psysml:3e79cc57-1ff4-4d61-ad54-8c0f8362d5da\" xlink:show=\"new\" xlink:title=\"psysml:3e79cc57-1ff4-4d61-ad54-8c0f8362d5da\" xlink:type=\"simple\"><rect fill=\"#FFFFFF\" height=\"40\" id=\"E10\" rx=\"10\" ry=\"10\" style=\"stroke:#383838;stroke-width:1.5;\" width=\"50\" x=\"32\" y=\"58.5\"/><text fill=\"#000000\" font-family=\"sans-serif\" font-size=\"14\" lengthAdjust=\"spacing\" textLength=\"9\" x=\"52.5\" y=\"76.4951\">g</text></a></g><!--MD5=[15ebcb19ae302d9b601edb458606d402]\n",
       "link E5 to E2--><g id=\"link_E5_E2\"><a href=\"psysml:356b088d-f058-4498-8151-02a64d9c5f99\" target=\"_top\" title=\"psysml:356b088d-f058-4498-8151-02a64d9c5f99\" xlink:actuate=\"onRequest\" xlink:href=\"psysml:356b088d-f058-4498-8151-02a64d9c5f99\" xlink:show=\"new\" xlink:title=\"psysml:356b088d-f058-4498-8151-02a64d9c5f99\" xlink:type=\"simple\"><path d=\"M469.79,98.8 C467.78,101.98 465.64,105.38 463.45,108.84 \" fill=\"none\" id=\"E5-to-E2\" style=\"stroke:#181818;stroke-width:1.0;\"/><polygon fill=\"#FFFFFF\" points=\"452.6,126,456.8375,106.1999,468.6706,113.6818,452.6,126\" style=\"stroke:#181818;stroke-width:1.0;\"/><ellipse cx=\"461.5742\" cy=\"102.451\" fill=\"#181818\" rx=\"2\" ry=\"2\" style=\"stroke:#181818;stroke-width:1.0;\"/><ellipse cx=\"470.0263\" cy=\"107.7953\" fill=\"#181818\" rx=\"2\" ry=\"2\" style=\"stroke:#181818;stroke-width:1.0;\"/></a></g><!--MD5=[2351f337d6de0f557b50152ba70847b5]\n",
       "link E6 to E2--><g id=\"link_E6_E2\"><a href=\"psysml:849948e9-2a63-47c9-a787-96ae36e28ef0\" target=\"_top\" title=\"psysml:849948e9-2a63-47c9-a787-96ae36e28ef0\" xlink:actuate=\"onRequest\" xlink:href=\"psysml:849948e9-2a63-47c9-a787-96ae36e28ef0\" xlink:show=\"new\" xlink:title=\"psysml:849948e9-2a63-47c9-a787-96ae36e28ef0\" xlink:type=\"simple\"><path d=\"M408.92,98.8 C410.89,101.98 412.98,105.38 415.12,108.84 \" fill=\"none\" id=\"E6-to-E2\" style=\"stroke:#181818;stroke-width:1.0;\"/><polygon fill=\"#FFFFFF\" points=\"425.72,126,409.7771,113.517,421.6866,106.1573,425.72,126\" style=\"stroke:#181818;stroke-width:1.0;\"/><ellipse cx=\"408.4821\" cy=\"107.6168\" fill=\"#181818\" rx=\"2\" ry=\"2\" style=\"stroke:#181818;stroke-width:1.0;\"/><ellipse cx=\"416.9888\" cy=\"102.3599\" fill=\"#181818\" rx=\"2\" ry=\"2\" style=\"stroke:#181818;stroke-width:1.0;\"/></a></g><!--MD5=[f434a21e456101989ca8f7c798c4bb06]\n",
       "@startuml\r\n",
       "skin sysmlbw\r\n",
       "skinparam monochrome true\r\n",
       "skinparam wrapWidth 300\r\n",
       "hide circle\r\n",
       "skinparam linetype polyline\r\n",
       "skinparam ranksep 10\r\n",
       "skinparam rectangle {\r\n",
       " backgroundColor<<block>> LightGreen\r\n",
       "}\r\n",
       "\r\n",
       "package \"MultiplicityTest\" as E1  [[psysml:26edc399-ba1b-4e26-98ec-184b2d561983 ]]  {\r\n",
       "rec def \"P\" as E2  <<(T,blue) part  def>> [[psysml:a78c9232-7355-4122-98e1-61ea033b6fbd ]] {\r\n",
       "}\r\n",
       "comp usage \"n: Integer  \" as E3  <<(T,blue) attribute>> [[psysml:6e5bcad0-e721-42f0-8965-8cf810de127c ]] {\r\n",
       "##//values//##\r\n",
       " <U+003D> 5\r\n",
       "}\r\n",
       "rec usage \"a\" as E4 [[psysml:58ca86c4-6609-462b-9948-87aadb08d281 ]] {\r\n",
       "}\r\n",
       "rec usage \"b: P\" as E5 [[psysml:8959fced-ddce-434c-832c-e17faa00a5de ]] {\r\n",
       "}\r\n",
       "rec usage \"c: P\" as E6 [[psysml:4ac8fd09-bbc3-4ec3-ba18-7592ef56bccd ]] {\r\n",
       "}\r\n",
       "rec usage \"d\" as E7 [[psysml:58aa0206-e878-4c1d-8c3a-c879ca6e4b13 ]] {\r\n",
       "}\r\n",
       "rec usage \"e\" as E8 [[psysml:21978b5e-874b-4020-b12b-41f872f49c78 ]] {\r\n",
       "}\r\n",
       "rec usage \"f\" as E9 [[psysml:79f00190-11a9-479d-9f29-e880a27768bf ]] {\r\n",
       "}\r\n",
       "rec usage \"g\" as E10 [[psysml:3e79cc57-1ff4-4d61-ad54-8c0f8362d5da ]] {\r\n",
       "}\r\n",
       "def \"A\" as E11  <<(T,blue) attribute  def>> [[psysml:cae84388-2b2f-4b61-9caf-e3201f6c4bb4 ]] \r\n",
       "}\r\n",
       "E5 - -:|> E2 [[psysml:356b088d-f058-4498-8151-02a64d9c5f99 ]] \r\n",
       "E6 - -:|> E2 [[psysml:849948e9-2a63-47c9-a787-96ae36e28ef0 ]] \r\n",
       "@enduml\r\n",
       "\n",
       "PlantUML version 1.2022.7(Mon Aug 22 17:01:30 UTC 2022)\n",
       "(EPL source distribution)\n",
       "Java Runtime: OpenJDK Runtime Environment\n",
       "JVM: OpenJDK 64-Bit Server VM\n",
       "Default Encoding: UTF-8\n",
       "Language: en\n",
       "Country: null\n",
       "--></g></svg>"
      ]
     },
     "execution_count": 12,
     "metadata": {},
     "output_type": "execute_result"
    }
   ],
   "source": [
    "%viz --style=\"POLYLINE\" --view=\"Interconnection\" \"MultiplicityTest\""
   ]
  },
  {
   "cell_type": "code",
   "execution_count": 13,
   "id": "00f80ebb",
   "metadata": {
    "execution": {
     "iopub.execute_input": "2024-12-16T03:27:05.107157Z",
     "iopub.status.busy": "2024-12-16T03:27:05.106822Z",
     "iopub.status.idle": "2024-12-16T03:27:05.115060Z",
     "shell.execute_reply": "2024-12-16T03:27:05.115191Z"
    }
   },
   "outputs": [
    {
     "data": {
      "image/svg+xml": [
       "<?xml version=\"1.0\" encoding=\"UTF-8\" standalone=\"no\"?><svg xmlns=\"http://www.w3.org/2000/svg\" xmlns:xlink=\"http://www.w3.org/1999/xlink\" contentStyleType=\"text/css\" height=\"10px\" preserveAspectRatio=\"none\" style=\"width:10px;height:10px;background:#FFFFFF;\" version=\"1.1\" viewBox=\"0 0 10 10\" width=\"10px\" zoomAndPan=\"magnify\"><defs/><g><!--MD5=[ff8e7c24accf200c4355ceeab022c402]\n",
       "@startuml\r\n",
       "skin sysmlbw\r\n",
       "skinparam monochrome true\r\n",
       "skinparam wrapWidth 300\r\n",
       "hide circle\r\n",
       "skinparam linetype polyline\r\n",
       "skinparam ranksep 8\r\n",
       "\r\n",
       "@enduml\r\n",
       "\n",
       "PlantUML version 1.2022.7(Mon Aug 22 17:01:30 UTC 2022)\n",
       "(EPL source distribution)\n",
       "Java Runtime: OpenJDK Runtime Environment\n",
       "JVM: OpenJDK 64-Bit Server VM\n",
       "Default Encoding: UTF-8\n",
       "Language: en\n",
       "Country: null\n",
       "--></g></svg>"
      ]
     },
     "execution_count": 13,
     "metadata": {},
     "output_type": "execute_result"
    }
   ],
   "source": [
    "%viz --style=\"POLYLINE\" --view=\"Action\" \"MultiplicityTest\""
   ]
  },
  {
   "cell_type": "code",
   "execution_count": 14,
   "id": "c1409d92",
   "metadata": {
    "execution": {
     "iopub.execute_input": "2024-12-16T03:27:05.167945Z",
     "iopub.status.busy": "2024-12-16T03:27:05.167746Z",
     "iopub.status.idle": "2024-12-16T03:27:05.175109Z",
     "shell.execute_reply": "2024-12-16T03:27:05.174925Z"
    }
   },
   "outputs": [
    {
     "data": {
      "image/svg+xml": [
       "<?xml version=\"1.0\" encoding=\"UTF-8\" standalone=\"no\"?><svg xmlns=\"http://www.w3.org/2000/svg\" xmlns:xlink=\"http://www.w3.org/1999/xlink\" contentStyleType=\"text/css\" height=\"10px\" preserveAspectRatio=\"none\" style=\"width:10px;height:10px;background:#FFFFFF;\" version=\"1.1\" viewBox=\"0 0 10 10\" width=\"10px\" zoomAndPan=\"magnify\"><defs/><g><!--MD5=[efefafbf36b45173e0355713d9054f90]\n",
       "@startuml\r\n",
       "skin sysmlbw\r\n",
       "skinparam monochrome true\r\n",
       "skinparam wrapWidth 300\r\n",
       "hide circle\r\n",
       "skinparam linetype polyline\r\n",
       "skinparam roundcorner 20\r\n",
       "skinparam BoxPadding 20\r\n",
       "skinparam SequenceBoxBackgroundColor #white\r\n",
       "skinparam style strictuml\r\n",
       "skinparam maxMessageSize 100\r\n",
       "\r\n",
       "@enduml\r\n",
       "\n",
       "PlantUML version 1.2022.7(Mon Aug 22 17:01:30 UTC 2022)\n",
       "(EPL source distribution)\n",
       "Java Runtime: OpenJDK Runtime Environment\n",
       "JVM: OpenJDK 64-Bit Server VM\n",
       "Default Encoding: UTF-8\n",
       "Language: en\n",
       "Country: null\n",
       "--></g></svg>"
      ]
     },
     "execution_count": 14,
     "metadata": {},
     "output_type": "execute_result"
    }
   ],
   "source": [
    "%viz --style=\"POLYLINE\" --view=\"Sequence\" \"MultiplicityTest\""
   ]
  },
  {
   "cell_type": "code",
   "execution_count": 15,
   "id": "b020a603",
   "metadata": {
    "execution": {
     "iopub.execute_input": "2024-12-16T03:27:05.227691Z",
     "iopub.status.busy": "2024-12-16T03:27:05.227418Z",
     "iopub.status.idle": "2024-12-16T03:27:05.256649Z",
     "shell.execute_reply": "2024-12-16T03:27:05.255768Z"
    }
   },
   "outputs": [
    {
     "data": {
      "image/svg+xml": [
       "<?xml version=\"1.0\" encoding=\"UTF-8\" standalone=\"no\"?><svg xmlns=\"http://www.w3.org/2000/svg\" xmlns:xlink=\"http://www.w3.org/1999/xlink\" contentStyleType=\"text/css\" height=\"263px\" preserveAspectRatio=\"none\" style=\"width:821px;height:263px;background:#FFFFFF;\" version=\"1.1\" viewBox=\"0 0 821 263\" width=\"821px\" zoomAndPan=\"magnify\"><defs/><g><!--MD5=[fbc87193dbaf4d95561dea2c320d4a47]\n",
       "cluster E1--><g id=\"cluster_E1\"><a href=\"psysml:26edc399-ba1b-4e26-98ec-184b2d561983\" target=\"_top\" title=\"psysml:26edc399-ba1b-4e26-98ec-184b2d561983\" xlink:actuate=\"onRequest\" xlink:href=\"psysml:26edc399-ba1b-4e26-98ec-184b2d561983\" xlink:show=\"new\" xlink:title=\"psysml:26edc399-ba1b-4e26-98ec-184b2d561983\" xlink:type=\"simple\"><polygon fill=\"none\" points=\"16,6,130,6,137,28.2969,804,28.2969,804,256,16,256,16,6\" style=\"stroke:#000000;stroke-width:1.5;\"/><line style=\"stroke:#000000;stroke-width:1.5;\" x1=\"16\" x2=\"137\" y1=\"28.2969\" y2=\"28.2969\"/><text fill=\"#000000\" font-family=\"sans-serif\" font-size=\"14\" font-weight=\"bold\" lengthAdjust=\"spacing\" textLength=\"108\" x=\"20\" y=\"20.9951\">MultiplicityTest</text></a></g><!--MD5=[b4997ac47864f28c2f74865a473b2911]\n",
       "class E2--><a href=\"psysml:a78c9232-7355-4122-98e1-61ea033b6fbd\" target=\"_top\" title=\"psysml:a78c9232-7355-4122-98e1-61ea033b6fbd\" xlink:actuate=\"onRequest\" xlink:href=\"psysml:a78c9232-7355-4122-98e1-61ea033b6fbd\" xlink:show=\"new\" xlink:title=\"psysml:a78c9232-7355-4122-98e1-61ea033b6fbd\" xlink:type=\"simple\"><g id=\"elem_E2\"><rect fill=\"#FFFFFF\" height=\"48.2656\" id=\"E2\" style=\"stroke:#181818;stroke-width:0.5;\" width=\"70\" x=\"499\" y=\"192\"/><text fill=\"#000000\" font-family=\"sans-serif\" font-size=\"12\" font-style=\"italic\" lengthAdjust=\"spacing\" textLength=\"68\" x=\"500\" y=\"208.1387\">«part  def»</text><text fill=\"#000000\" font-family=\"sans-serif\" font-size=\"14\" lengthAdjust=\"spacing\" textLength=\"9\" x=\"529.5\" y=\"223.9639\">P</text><line style=\"stroke:#181818;stroke-width:0.5;\" x1=\"500\" x2=\"568\" y1=\"232.2656\" y2=\"232.2656\"/></g></a><!--MD5=[09b614a08d8cba4a07c9adeb5e0fee81]\n",
       "class E3--><a href=\"psysml:6e5bcad0-e721-42f0-8965-8cf810de127c\" target=\"_top\" title=\"psysml:6e5bcad0-e721-42f0-8965-8cf810de127c\" xlink:actuate=\"onRequest\" xlink:href=\"psysml:6e5bcad0-e721-42f0-8965-8cf810de127c\" xlink:show=\"new\" xlink:title=\"psysml:6e5bcad0-e721-42f0-8965-8cf810de127c\" xlink:type=\"simple\"><g id=\"elem_E3\"><rect fill=\"#FFFFFF\" height=\"75.0813\" id=\"E3\" rx=\"10\" ry=\"10\" style=\"stroke:#181818;stroke-width:0.5;\" width=\"81\" x=\"706.5\" y=\"49\"/><text fill=\"#000000\" font-family=\"sans-serif\" font-size=\"12\" font-style=\"italic\" lengthAdjust=\"spacing\" textLength=\"69\" x=\"712.5\" y=\"65.1387\">«attribute»</text><text fill=\"#000000\" font-family=\"sans-serif\" font-size=\"14\" lengthAdjust=\"spacing\" textLength=\"67\" x=\"709.5\" y=\"80.9639\">n: Integer</text><line style=\"stroke:#181818;stroke-width:0.5;\" x1=\"707.5\" x2=\"786.5\" y1=\"89.2656\" y2=\"89.2656\"/><text fill=\"#000000\" font-family=\"sans-serif\" font-size=\"14\" lengthAdjust=\"spacing\" textLength=\"25\" x=\"712.5\" y=\"116.7795\">= 5</text><text fill=\"#000000\" font-family=\"sans-serif\" font-size=\"14\" font-style=\"italic\" lengthAdjust=\"spacing\" textLength=\"44\" x=\"725\" y=\"101.6123\">values</text></g></a><!--MD5=[ebbe1d658d1005bcc118a6aa81145e00]\n",
       "class E4--><a href=\"psysml:58ca86c4-6609-462b-9948-87aadb08d281\" target=\"_top\" title=\"psysml:58ca86c4-6609-462b-9948-87aadb08d281\" xlink:actuate=\"onRequest\" xlink:href=\"psysml:58ca86c4-6609-462b-9948-87aadb08d281\" xlink:show=\"new\" xlink:title=\"psysml:58ca86c4-6609-462b-9948-87aadb08d281\" xlink:type=\"simple\"><g id=\"elem_E4\"><rect fill=\"#FFFFFF\" height=\"48.2656\" id=\"E4\" rx=\"10\" ry=\"10\" style=\"stroke:#181818;stroke-width:0.5;\" width=\"42\" x=\"629\" y=\"62.5\"/><text fill=\"#000000\" font-family=\"sans-serif\" font-size=\"12\" font-style=\"italic\" lengthAdjust=\"spacing\" textLength=\"40\" x=\"630\" y=\"78.6387\">«part»</text><text fill=\"#000000\" font-family=\"sans-serif\" font-size=\"14\" lengthAdjust=\"spacing\" textLength=\"8\" x=\"642\" y=\"94.4639\">a</text><line style=\"stroke:#181818;stroke-width:0.5;\" x1=\"630\" x2=\"670\" y1=\"102.7656\" y2=\"102.7656\"/></g></a><!--MD5=[270fce915f116d4de14055a7c1d9a0f3]\n",
       "class E5--><a href=\"psysml:8959fced-ddce-434c-832c-e17faa00a5de\" target=\"_top\" title=\"psysml:8959fced-ddce-434c-832c-e17faa00a5de\" xlink:actuate=\"onRequest\" xlink:href=\"psysml:8959fced-ddce-434c-832c-e17faa00a5de\" xlink:show=\"new\" xlink:title=\"psysml:8959fced-ddce-434c-832c-e17faa00a5de\" xlink:type=\"simple\"><g id=\"elem_E5\"><rect fill=\"#FFFFFF\" height=\"48.2656\" id=\"E5\" rx=\"10\" ry=\"10\" style=\"stroke:#181818;stroke-width:0.5;\" width=\"42\" x=\"552\" y=\"62.5\"/><text fill=\"#000000\" font-family=\"sans-serif\" font-size=\"12\" font-style=\"italic\" lengthAdjust=\"spacing\" textLength=\"40\" x=\"553\" y=\"78.6387\">«part»</text><text fill=\"#000000\" font-family=\"sans-serif\" font-size=\"14\" lengthAdjust=\"spacing\" textLength=\"27\" x=\"555.5\" y=\"94.4639\">b: P</text><line style=\"stroke:#181818;stroke-width:0.5;\" x1=\"553\" x2=\"593\" y1=\"102.7656\" y2=\"102.7656\"/></g></a><!--MD5=[60a26617385b1d2d0262a64233df1f8d]\n",
       "class E6--><a href=\"psysml:4ac8fd09-bbc3-4ec3-ba18-7592ef56bccd\" target=\"_top\" title=\"psysml:4ac8fd09-bbc3-4ec3-ba18-7592ef56bccd\" xlink:actuate=\"onRequest\" xlink:href=\"psysml:4ac8fd09-bbc3-4ec3-ba18-7592ef56bccd\" xlink:show=\"new\" xlink:title=\"psysml:4ac8fd09-bbc3-4ec3-ba18-7592ef56bccd\" xlink:type=\"simple\"><g id=\"elem_E6\"><rect fill=\"#FFFFFF\" height=\"48.2656\" id=\"E6\" rx=\"10\" ry=\"10\" style=\"stroke:#181818;stroke-width:0.5;\" width=\"42\" x=\"475\" y=\"62.5\"/><text fill=\"#000000\" font-family=\"sans-serif\" font-size=\"12\" font-style=\"italic\" lengthAdjust=\"spacing\" textLength=\"40\" x=\"476\" y=\"78.6387\">«part»</text><text fill=\"#000000\" font-family=\"sans-serif\" font-size=\"14\" lengthAdjust=\"spacing\" textLength=\"26\" x=\"479\" y=\"94.4639\">c: P</text><line style=\"stroke:#181818;stroke-width:0.5;\" x1=\"476\" x2=\"516\" y1=\"102.7656\" y2=\"102.7656\"/></g></a><!--MD5=[2156ba9850f5573cc1fc38a6a4b2f02b]\n",
       "class E7--><a href=\"psysml:58aa0206-e878-4c1d-8c3a-c879ca6e4b13\" target=\"_top\" title=\"psysml:58aa0206-e878-4c1d-8c3a-c879ca6e4b13\" xlink:actuate=\"onRequest\" xlink:href=\"psysml:58aa0206-e878-4c1d-8c3a-c879ca6e4b13\" xlink:show=\"new\" xlink:title=\"psysml:58aa0206-e878-4c1d-8c3a-c879ca6e4b13\" xlink:type=\"simple\"><g id=\"elem_E7\"><rect fill=\"#FFFFFF\" height=\"48.2656\" id=\"E7\" rx=\"10\" ry=\"10\" style=\"stroke:#181818;stroke-width:0.5;\" width=\"42\" x=\"398\" y=\"62.5\"/><text fill=\"#000000\" font-family=\"sans-serif\" font-size=\"12\" font-style=\"italic\" lengthAdjust=\"spacing\" textLength=\"40\" x=\"399\" y=\"78.6387\">«part»</text><text fill=\"#000000\" font-family=\"sans-serif\" font-size=\"14\" lengthAdjust=\"spacing\" textLength=\"9\" x=\"410.5\" y=\"94.4639\">d</text><line style=\"stroke:#181818;stroke-width:0.5;\" x1=\"399\" x2=\"439\" y1=\"102.7656\" y2=\"102.7656\"/></g></a><!--MD5=[b9389687b975829384b498ac4b7476b2]\n",
       "class E8--><a href=\"psysml:21978b5e-874b-4020-b12b-41f872f49c78\" target=\"_top\" title=\"psysml:21978b5e-874b-4020-b12b-41f872f49c78\" xlink:actuate=\"onRequest\" xlink:href=\"psysml:21978b5e-874b-4020-b12b-41f872f49c78\" xlink:show=\"new\" xlink:title=\"psysml:21978b5e-874b-4020-b12b-41f872f49c78\" xlink:type=\"simple\"><g id=\"elem_E8\"><rect fill=\"#FFFFFF\" height=\"48.2656\" id=\"E8\" rx=\"10\" ry=\"10\" style=\"stroke:#181818;stroke-width:0.5;\" width=\"42\" x=\"321\" y=\"62.5\"/><text fill=\"#000000\" font-family=\"sans-serif\" font-size=\"12\" font-style=\"italic\" lengthAdjust=\"spacing\" textLength=\"40\" x=\"322\" y=\"78.6387\">«part»</text><text fill=\"#000000\" font-family=\"sans-serif\" font-size=\"14\" lengthAdjust=\"spacing\" textLength=\"9\" x=\"333.5\" y=\"94.4639\">e</text><line style=\"stroke:#181818;stroke-width:0.5;\" x1=\"322\" x2=\"362\" y1=\"102.7656\" y2=\"102.7656\"/></g></a><!--MD5=[fd4143e9d270a159db93a4ea2a975926]\n",
       "class E9--><a href=\"psysml:79f00190-11a9-479d-9f29-e880a27768bf\" target=\"_top\" title=\"psysml:79f00190-11a9-479d-9f29-e880a27768bf\" xlink:actuate=\"onRequest\" xlink:href=\"psysml:79f00190-11a9-479d-9f29-e880a27768bf\" xlink:show=\"new\" xlink:title=\"psysml:79f00190-11a9-479d-9f29-e880a27768bf\" xlink:type=\"simple\"><g id=\"elem_E9\"><rect fill=\"#FFFFFF\" height=\"48.2656\" id=\"E9\" rx=\"10\" ry=\"10\" style=\"stroke:#181818;stroke-width:0.5;\" width=\"42\" x=\"244\" y=\"62.5\"/><text fill=\"#000000\" font-family=\"sans-serif\" font-size=\"12\" font-style=\"italic\" lengthAdjust=\"spacing\" textLength=\"40\" x=\"245\" y=\"78.6387\">«part»</text><text fill=\"#000000\" font-family=\"sans-serif\" font-size=\"14\" lengthAdjust=\"spacing\" textLength=\"4\" x=\"259\" y=\"94.4639\">f</text><line style=\"stroke:#181818;stroke-width:0.5;\" x1=\"245\" x2=\"285\" y1=\"102.7656\" y2=\"102.7656\"/></g></a><!--MD5=[96f4274e9e20536e775497830990834d]\n",
       "class E10--><a href=\"psysml:3e79cc57-1ff4-4d61-ad54-8c0f8362d5da\" target=\"_top\" title=\"psysml:3e79cc57-1ff4-4d61-ad54-8c0f8362d5da\" xlink:actuate=\"onRequest\" xlink:href=\"psysml:3e79cc57-1ff4-4d61-ad54-8c0f8362d5da\" xlink:show=\"new\" xlink:title=\"psysml:3e79cc57-1ff4-4d61-ad54-8c0f8362d5da\" xlink:type=\"simple\"><g id=\"elem_E10\"><rect fill=\"#FFFFFF\" height=\"48.2656\" id=\"E10\" rx=\"10\" ry=\"10\" style=\"stroke:#181818;stroke-width:0.5;\" width=\"42\" x=\"167\" y=\"62.5\"/><text fill=\"#000000\" font-family=\"sans-serif\" font-size=\"12\" font-style=\"italic\" lengthAdjust=\"spacing\" textLength=\"40\" x=\"168\" y=\"78.6387\">«part»</text><text fill=\"#000000\" font-family=\"sans-serif\" font-size=\"14\" lengthAdjust=\"spacing\" textLength=\"9\" x=\"179.5\" y=\"94.4639\">g</text><line style=\"stroke:#181818;stroke-width:0.5;\" x1=\"168\" x2=\"208\" y1=\"102.7656\" y2=\"102.7656\"/></g></a><!--MD5=[1dd1bfd58a279cf63c5f349dbc8fc6a1]\n",
       "class E11--><a href=\"psysml:cae84388-2b2f-4b61-9caf-e3201f6c4bb4\" target=\"_top\" title=\"psysml:cae84388-2b2f-4b61-9caf-e3201f6c4bb4\" xlink:actuate=\"onRequest\" xlink:href=\"psysml:cae84388-2b2f-4b61-9caf-e3201f6c4bb4\" xlink:show=\"new\" xlink:title=\"psysml:cae84388-2b2f-4b61-9caf-e3201f6c4bb4\" xlink:type=\"simple\"><g id=\"elem_E11\"><rect fill=\"#FFFFFF\" height=\"91.3781\" id=\"E11\" style=\"stroke:#181818;stroke-width:0.5;\" width=\"99\" x=\"32.5\" y=\"41\"/><text fill=\"#000000\" font-family=\"sans-serif\" font-size=\"12\" font-style=\"italic\" lengthAdjust=\"spacing\" textLength=\"97\" x=\"33.5\" y=\"57.1387\">«attribute  def»</text><text fill=\"#000000\" font-family=\"sans-serif\" font-size=\"14\" lengthAdjust=\"spacing\" textLength=\"9\" x=\"77.5\" y=\"72.9639\">A</text><line style=\"stroke:#181818;stroke-width:0.5;\" x1=\"33.5\" x2=\"130.5\" y1=\"81.2656\" y2=\"81.2656\"/><text fill=\"#000000\" font-family=\"sans-serif\" font-size=\"14\" lengthAdjust=\"spacing\" textLength=\"61\" x=\"38.5\" y=\"108.7795\">i: Integer</text><text fill=\"#000000\" font-family=\"sans-serif\" font-size=\"14\" lengthAdjust=\"spacing\" textLength=\"25\" x=\"38.5\" y=\"125.0764\">x: A</text><text fill=\"#000000\" font-family=\"sans-serif\" font-size=\"14\" font-style=\"italic\" lengthAdjust=\"spacing\" textLength=\"66\" x=\"49\" y=\"93.6123\">attributes</text></g></a><!--MD5=[15ebcb19ae302d9b601edb458606d402]\n",
       "link E5 to E2--><g id=\"link_E5_E2\"><a href=\"psysml:356b088d-f058-4498-8151-02a64d9c5f99\" target=\"_top\" title=\"psysml:356b088d-f058-4498-8151-02a64d9c5f99\" xlink:actuate=\"onRequest\" xlink:href=\"psysml:356b088d-f058-4498-8151-02a64d9c5f99\" xlink:show=\"new\" xlink:title=\"psysml:356b088d-f058-4498-8151-02a64d9c5f99\" xlink:type=\"simple\"><path d=\"M565.94,110.59 C560.67,127.81 553.32,151.83 547,172.49 \" fill=\"none\" id=\"E5-to-E2\" style=\"stroke:#181818;stroke-width:1.0;\"/><polygon fill=\"#FFFFFF\" points=\"541.14,191.65,539.9958,171.4339,553.3851,175.5237,541.14,191.65\" style=\"stroke:#181818;stroke-width:1.0;\"/><ellipse cx=\"543.5737\" cy=\"166.5668\" fill=\"#181818\" rx=\"2\" ry=\"2\" style=\"stroke:#181818;stroke-width:1.0;\"/><ellipse cx=\"553.1375\" cy=\"169.4881\" fill=\"#181818\" rx=\"2\" ry=\"2\" style=\"stroke:#181818;stroke-width:1.0;\"/></a></g><!--MD5=[2351f337d6de0f557b50152ba70847b5]\n",
       "link E6 to E2--><g id=\"link_E6_E2\"><a href=\"psysml:849948e9-2a63-47c9-a787-96ae36e28ef0\" target=\"_top\" title=\"psysml:849948e9-2a63-47c9-a787-96ae36e28ef0\" xlink:actuate=\"onRequest\" xlink:href=\"psysml:849948e9-2a63-47c9-a787-96ae36e28ef0\" xlink:show=\"new\" xlink:title=\"psysml:849948e9-2a63-47c9-a787-96ae36e28ef0\" xlink:type=\"simple\"><path d=\"M502.88,110.59 C507.99,127.72 515.1,151.58 521.23,172.17 \" fill=\"none\" id=\"E6-to-E2\" style=\"stroke:#181818;stroke-width:1.0;\"/><polygon fill=\"#FFFFFF\" points=\"527.04,191.65,514.9155,175.4328,528.3349,171.443,527.04,191.65\" style=\"stroke:#181818;stroke-width:1.0;\"/><ellipse cx=\"515.2081\" cy=\"169.3992\" fill=\"#181818\" rx=\"2\" ry=\"2\" style=\"stroke:#181818;stroke-width:1.0;\"/><ellipse cx=\"524.7935\" cy=\"166.5493\" fill=\"#181818\" rx=\"2\" ry=\"2\" style=\"stroke:#181818;stroke-width:1.0;\"/></a></g><!--MD5=[ca60064ce7871506f7f08a511fd1e58a]\n",
       "@startuml\r\n",
       "skin sysmlbw\r\n",
       "skinparam monochrome true\r\n",
       "skinparam wrapWidth 300\r\n",
       "hide circle\r\n",
       "skinparam linetype polyline\r\n",
       "\r\n",
       "package \"MultiplicityTest\" as E1  [[psysml:26edc399-ba1b-4e26-98ec-184b2d561983 ]]  {\r\n",
       "comp def \"P\" as E2  <<(T,blue) part  def>> [[psysml:a78c9232-7355-4122-98e1-61ea033b6fbd ]] {\r\n",
       "}\r\n",
       "comp usage \"n: Integer  \" as E3  <<(T,blue) attribute>> [[psysml:6e5bcad0-e721-42f0-8965-8cf810de127c ]] {\r\n",
       "##//values//##\r\n",
       " <U+003D> 5\r\n",
       "}\r\n",
       "comp usage \"a  \" as E4  <<(T,blue) part>> [[psysml:58ca86c4-6609-462b-9948-87aadb08d281 ]] {\r\n",
       "}\r\n",
       "comp usage \"b: P  \" as E5  <<(T,blue) part>> [[psysml:8959fced-ddce-434c-832c-e17faa00a5de ]] {\r\n",
       "}\r\n",
       "comp usage \"c: P  \" as E6  <<(T,blue) part>> [[psysml:4ac8fd09-bbc3-4ec3-ba18-7592ef56bccd ]] {\r\n",
       "}\r\n",
       "comp usage \"d  \" as E7  <<(T,blue) part>> [[psysml:58aa0206-e878-4c1d-8c3a-c879ca6e4b13 ]] {\r\n",
       "}\r\n",
       "comp usage \"e  \" as E8  <<(T,blue) part>> [[psysml:21978b5e-874b-4020-b12b-41f872f49c78 ]] {\r\n",
       "}\r\n",
       "comp usage \"f  \" as E9  <<(T,blue) part>> [[psysml:79f00190-11a9-479d-9f29-e880a27768bf ]] {\r\n",
       "}\r\n",
       "comp usage \"g  \" as E10  <<(T,blue) part>> [[psysml:3e79cc57-1ff4-4d61-ad54-8c0f8362d5da ]] {\r\n",
       "}\r\n",
       "comp def \"A\" as E11  <<(T,blue) attribute  def>> [[psysml:cae84388-2b2f-4b61-9caf-e3201f6c4bb4 ]] {\r\n",
       "##//attributes//##\r\n",
       "i: Integer\r\n",
       "x: A\r\n",
       "}\r\n",
       "}\r\n",
       "E5 - -:|> E2 [[psysml:356b088d-f058-4498-8151-02a64d9c5f99 ]] \r\n",
       "E6 - -:|> E2 [[psysml:849948e9-2a63-47c9-a787-96ae36e28ef0 ]] \r\n",
       "@enduml\r\n",
       "\n",
       "PlantUML version 1.2022.7(Mon Aug 22 17:01:30 UTC 2022)\n",
       "(EPL source distribution)\n",
       "Java Runtime: OpenJDK Runtime Environment\n",
       "JVM: OpenJDK 64-Bit Server VM\n",
       "Default Encoding: UTF-8\n",
       "Language: en\n",
       "Country: null\n",
       "--></g></svg>"
      ]
     },
     "execution_count": 15,
     "metadata": {},
     "output_type": "execute_result"
    }
   ],
   "source": [
    "%viz --style=\"POLYLINE\" --view=\"MIXED\" \"MultiplicityTest\""
   ]
  },
  {
   "cell_type": "code",
   "execution_count": 16,
   "id": "010f0cce",
   "metadata": {
    "execution": {
     "iopub.execute_input": "2024-12-16T03:27:05.309143Z",
     "iopub.status.busy": "2024-12-16T03:27:05.308916Z",
     "iopub.status.idle": "2024-12-16T03:27:05.336188Z",
     "shell.execute_reply": "2024-12-16T03:27:05.335318Z"
    }
   },
   "outputs": [
    {
     "data": {
      "image/svg+xml": [
       "<?xml version=\"1.0\" encoding=\"UTF-8\" standalone=\"no\"?><svg xmlns=\"http://www.w3.org/2000/svg\" xmlns:xlink=\"http://www.w3.org/1999/xlink\" contentStyleType=\"text/css\" height=\"847px\" preserveAspectRatio=\"none\" style=\"width:294px;height:847px;background:#FFFFFF;\" version=\"1.1\" viewBox=\"0 0 294 847\" width=\"294px\" zoomAndPan=\"magnify\"><defs/><g><!--MD5=[fbc87193dbaf4d95561dea2c320d4a47]\n",
       "cluster E1--><g id=\"cluster_E1\"><a href=\"psysml:26edc399-ba1b-4e26-98ec-184b2d561983\" target=\"_top\" title=\"psysml:26edc399-ba1b-4e26-98ec-184b2d561983\" xlink:actuate=\"onRequest\" xlink:href=\"psysml:26edc399-ba1b-4e26-98ec-184b2d561983\" xlink:show=\"new\" xlink:title=\"psysml:26edc399-ba1b-4e26-98ec-184b2d561983\" xlink:type=\"simple\"><polygon fill=\"none\" points=\"16,6,130,6,137,28.2969,277,28.2969,277,840,16,840,16,6\" style=\"stroke:#000000;stroke-width:1.5;\"/><line style=\"stroke:#000000;stroke-width:1.5;\" x1=\"16\" x2=\"137\" y1=\"28.2969\" y2=\"28.2969\"/><text fill=\"#000000\" font-family=\"sans-serif\" font-size=\"14\" font-weight=\"bold\" lengthAdjust=\"spacing\" textLength=\"108\" x=\"20\" y=\"20.9951\">MultiplicityTest</text></a></g><!--MD5=[b4997ac47864f28c2f74865a473b2911]\n",
       "class E2--><a href=\"psysml:a78c9232-7355-4122-98e1-61ea033b6fbd\" target=\"_top\" title=\"psysml:a78c9232-7355-4122-98e1-61ea033b6fbd\" xlink:actuate=\"onRequest\" xlink:href=\"psysml:a78c9232-7355-4122-98e1-61ea033b6fbd\" xlink:show=\"new\" xlink:title=\"psysml:a78c9232-7355-4122-98e1-61ea033b6fbd\" xlink:type=\"simple\"><g id=\"elem_E2\"><rect fill=\"#FFFFFF\" height=\"48.2656\" id=\"E2\" style=\"stroke:#181818;stroke-width:0.5;\" width=\"70\" x=\"191\" y=\"276\"/><text fill=\"#000000\" font-family=\"sans-serif\" font-size=\"12\" font-style=\"italic\" lengthAdjust=\"spacing\" textLength=\"68\" x=\"192\" y=\"292.1387\">«part  def»</text><text fill=\"#000000\" font-family=\"sans-serif\" font-size=\"14\" lengthAdjust=\"spacing\" textLength=\"9\" x=\"221.5\" y=\"307.9639\">P</text><line style=\"stroke:#181818;stroke-width:0.5;\" x1=\"192\" x2=\"260\" y1=\"316.2656\" y2=\"316.2656\"/></g></a><!--MD5=[09b614a08d8cba4a07c9adeb5e0fee81]\n",
       "class E3--><a href=\"psysml:6e5bcad0-e721-42f0-8965-8cf810de127c\" target=\"_top\" title=\"psysml:6e5bcad0-e721-42f0-8965-8cf810de127c\" xlink:actuate=\"onRequest\" xlink:href=\"psysml:6e5bcad0-e721-42f0-8965-8cf810de127c\" xlink:show=\"new\" xlink:title=\"psysml:6e5bcad0-e721-42f0-8965-8cf810de127c\" xlink:type=\"simple\"><g id=\"elem_E3\"><rect fill=\"#FFFFFF\" height=\"75.0813\" id=\"E3\" rx=\"10\" ry=\"10\" style=\"stroke:#181818;stroke-width:0.5;\" width=\"81\" x=\"41\" y=\"40.5\"/><text fill=\"#000000\" font-family=\"sans-serif\" font-size=\"12\" font-style=\"italic\" lengthAdjust=\"spacing\" textLength=\"69\" x=\"47\" y=\"56.6387\">«attribute»</text><text fill=\"#000000\" font-family=\"sans-serif\" font-size=\"14\" lengthAdjust=\"spacing\" textLength=\"67\" x=\"44\" y=\"72.4639\">n: Integer</text><line style=\"stroke:#181818;stroke-width:0.5;\" x1=\"42\" x2=\"121\" y1=\"80.7656\" y2=\"80.7656\"/><text fill=\"#000000\" font-family=\"sans-serif\" font-size=\"14\" lengthAdjust=\"spacing\" textLength=\"25\" x=\"47\" y=\"108.2795\">= 5</text><text fill=\"#000000\" font-family=\"sans-serif\" font-size=\"14\" font-style=\"italic\" lengthAdjust=\"spacing\" textLength=\"44\" x=\"59.5\" y=\"93.1123\">values</text></g></a><!--MD5=[ebbe1d658d1005bcc118a6aa81145e00]\n",
       "class E4--><a href=\"psysml:58ca86c4-6609-462b-9948-87aadb08d281\" target=\"_top\" title=\"psysml:58ca86c4-6609-462b-9948-87aadb08d281\" xlink:actuate=\"onRequest\" xlink:href=\"psysml:58ca86c4-6609-462b-9948-87aadb08d281\" xlink:show=\"new\" xlink:title=\"psysml:58ca86c4-6609-462b-9948-87aadb08d281\" xlink:type=\"simple\"><g id=\"elem_E4\"><rect fill=\"#FFFFFF\" height=\"48.2656\" id=\"E4\" rx=\"10\" ry=\"10\" style=\"stroke:#181818;stroke-width:0.5;\" width=\"42\" x=\"60.5\" y=\"151\"/><text fill=\"#000000\" font-family=\"sans-serif\" font-size=\"12\" font-style=\"italic\" lengthAdjust=\"spacing\" textLength=\"40\" x=\"61.5\" y=\"167.1387\">«part»</text><text fill=\"#000000\" font-family=\"sans-serif\" font-size=\"14\" lengthAdjust=\"spacing\" textLength=\"8\" x=\"73.5\" y=\"182.9639\">a</text><line style=\"stroke:#181818;stroke-width:0.5;\" x1=\"61.5\" x2=\"101.5\" y1=\"191.2656\" y2=\"191.2656\"/></g></a><!--MD5=[270fce915f116d4de14055a7c1d9a0f3]\n",
       "class E5--><a href=\"psysml:8959fced-ddce-434c-832c-e17faa00a5de\" target=\"_top\" title=\"psysml:8959fced-ddce-434c-832c-e17faa00a5de\" xlink:actuate=\"onRequest\" xlink:href=\"psysml:8959fced-ddce-434c-832c-e17faa00a5de\" xlink:show=\"new\" xlink:title=\"psysml:8959fced-ddce-434c-832c-e17faa00a5de\" xlink:type=\"simple\"><g id=\"elem_E5\"><rect fill=\"#FFFFFF\" height=\"48.2656\" id=\"E5\" rx=\"10\" ry=\"10\" style=\"stroke:#181818;stroke-width:0.5;\" width=\"42\" x=\"60.5\" y=\"234\"/><text fill=\"#000000\" font-family=\"sans-serif\" font-size=\"12\" font-style=\"italic\" lengthAdjust=\"spacing\" textLength=\"40\" x=\"61.5\" y=\"250.1387\">«part»</text><text fill=\"#000000\" font-family=\"sans-serif\" font-size=\"14\" lengthAdjust=\"spacing\" textLength=\"27\" x=\"64\" y=\"265.9639\">b: P</text><line style=\"stroke:#181818;stroke-width:0.5;\" x1=\"61.5\" x2=\"101.5\" y1=\"274.2656\" y2=\"274.2656\"/></g></a><!--MD5=[60a26617385b1d2d0262a64233df1f8d]\n",
       "class E6--><a href=\"psysml:4ac8fd09-bbc3-4ec3-ba18-7592ef56bccd\" target=\"_top\" title=\"psysml:4ac8fd09-bbc3-4ec3-ba18-7592ef56bccd\" xlink:actuate=\"onRequest\" xlink:href=\"psysml:4ac8fd09-bbc3-4ec3-ba18-7592ef56bccd\" xlink:show=\"new\" xlink:title=\"psysml:4ac8fd09-bbc3-4ec3-ba18-7592ef56bccd\" xlink:type=\"simple\"><g id=\"elem_E6\"><rect fill=\"#FFFFFF\" height=\"48.2656\" id=\"E6\" rx=\"10\" ry=\"10\" style=\"stroke:#181818;stroke-width:0.5;\" width=\"42\" x=\"60.5\" y=\"317\"/><text fill=\"#000000\" font-family=\"sans-serif\" font-size=\"12\" font-style=\"italic\" lengthAdjust=\"spacing\" textLength=\"40\" x=\"61.5\" y=\"333.1387\">«part»</text><text fill=\"#000000\" font-family=\"sans-serif\" font-size=\"14\" lengthAdjust=\"spacing\" textLength=\"26\" x=\"64.5\" y=\"348.9639\">c: P</text><line style=\"stroke:#181818;stroke-width:0.5;\" x1=\"61.5\" x2=\"101.5\" y1=\"357.2656\" y2=\"357.2656\"/></g></a><!--MD5=[2156ba9850f5573cc1fc38a6a4b2f02b]\n",
       "class E7--><a href=\"psysml:58aa0206-e878-4c1d-8c3a-c879ca6e4b13\" target=\"_top\" title=\"psysml:58aa0206-e878-4c1d-8c3a-c879ca6e4b13\" xlink:actuate=\"onRequest\" xlink:href=\"psysml:58aa0206-e878-4c1d-8c3a-c879ca6e4b13\" xlink:show=\"new\" xlink:title=\"psysml:58aa0206-e878-4c1d-8c3a-c879ca6e4b13\" xlink:type=\"simple\"><g id=\"elem_E7\"><rect fill=\"#FFFFFF\" height=\"48.2656\" id=\"E7\" rx=\"10\" ry=\"10\" style=\"stroke:#181818;stroke-width:0.5;\" width=\"42\" x=\"60.5\" y=\"400\"/><text fill=\"#000000\" font-family=\"sans-serif\" font-size=\"12\" font-style=\"italic\" lengthAdjust=\"spacing\" textLength=\"40\" x=\"61.5\" y=\"416.1387\">«part»</text><text fill=\"#000000\" font-family=\"sans-serif\" font-size=\"14\" lengthAdjust=\"spacing\" textLength=\"9\" x=\"73\" y=\"431.9639\">d</text><line style=\"stroke:#181818;stroke-width:0.5;\" x1=\"61.5\" x2=\"101.5\" y1=\"440.2656\" y2=\"440.2656\"/></g></a><!--MD5=[b9389687b975829384b498ac4b7476b2]\n",
       "class E8--><a href=\"psysml:21978b5e-874b-4020-b12b-41f872f49c78\" target=\"_top\" title=\"psysml:21978b5e-874b-4020-b12b-41f872f49c78\" xlink:actuate=\"onRequest\" xlink:href=\"psysml:21978b5e-874b-4020-b12b-41f872f49c78\" xlink:show=\"new\" xlink:title=\"psysml:21978b5e-874b-4020-b12b-41f872f49c78\" xlink:type=\"simple\"><g id=\"elem_E8\"><rect fill=\"#FFFFFF\" height=\"48.2656\" id=\"E8\" rx=\"10\" ry=\"10\" style=\"stroke:#181818;stroke-width:0.5;\" width=\"42\" x=\"60.5\" y=\"483\"/><text fill=\"#000000\" font-family=\"sans-serif\" font-size=\"12\" font-style=\"italic\" lengthAdjust=\"spacing\" textLength=\"40\" x=\"61.5\" y=\"499.1387\">«part»</text><text fill=\"#000000\" font-family=\"sans-serif\" font-size=\"14\" lengthAdjust=\"spacing\" textLength=\"9\" x=\"73\" y=\"514.9639\">e</text><line style=\"stroke:#181818;stroke-width:0.5;\" x1=\"61.5\" x2=\"101.5\" y1=\"523.2656\" y2=\"523.2656\"/></g></a><!--MD5=[fd4143e9d270a159db93a4ea2a975926]\n",
       "class E9--><a href=\"psysml:79f00190-11a9-479d-9f29-e880a27768bf\" target=\"_top\" title=\"psysml:79f00190-11a9-479d-9f29-e880a27768bf\" xlink:actuate=\"onRequest\" xlink:href=\"psysml:79f00190-11a9-479d-9f29-e880a27768bf\" xlink:show=\"new\" xlink:title=\"psysml:79f00190-11a9-479d-9f29-e880a27768bf\" xlink:type=\"simple\"><g id=\"elem_E9\"><rect fill=\"#FFFFFF\" height=\"48.2656\" id=\"E9\" rx=\"10\" ry=\"10\" style=\"stroke:#181818;stroke-width:0.5;\" width=\"42\" x=\"60.5\" y=\"566\"/><text fill=\"#000000\" font-family=\"sans-serif\" font-size=\"12\" font-style=\"italic\" lengthAdjust=\"spacing\" textLength=\"40\" x=\"61.5\" y=\"582.1387\">«part»</text><text fill=\"#000000\" font-family=\"sans-serif\" font-size=\"14\" lengthAdjust=\"spacing\" textLength=\"4\" x=\"75.5\" y=\"597.9639\">f</text><line style=\"stroke:#181818;stroke-width:0.5;\" x1=\"61.5\" x2=\"101.5\" y1=\"606.2656\" y2=\"606.2656\"/></g></a><!--MD5=[96f4274e9e20536e775497830990834d]\n",
       "class E10--><a href=\"psysml:3e79cc57-1ff4-4d61-ad54-8c0f8362d5da\" target=\"_top\" title=\"psysml:3e79cc57-1ff4-4d61-ad54-8c0f8362d5da\" xlink:actuate=\"onRequest\" xlink:href=\"psysml:3e79cc57-1ff4-4d61-ad54-8c0f8362d5da\" xlink:show=\"new\" xlink:title=\"psysml:3e79cc57-1ff4-4d61-ad54-8c0f8362d5da\" xlink:type=\"simple\"><g id=\"elem_E10\"><rect fill=\"#FFFFFF\" height=\"48.2656\" id=\"E10\" rx=\"10\" ry=\"10\" style=\"stroke:#181818;stroke-width:0.5;\" width=\"42\" x=\"60.5\" y=\"649\"/><text fill=\"#000000\" font-family=\"sans-serif\" font-size=\"12\" font-style=\"italic\" lengthAdjust=\"spacing\" textLength=\"40\" x=\"61.5\" y=\"665.1387\">«part»</text><text fill=\"#000000\" font-family=\"sans-serif\" font-size=\"14\" lengthAdjust=\"spacing\" textLength=\"9\" x=\"73\" y=\"680.9639\">g</text><line style=\"stroke:#181818;stroke-width:0.5;\" x1=\"61.5\" x2=\"101.5\" y1=\"689.2656\" y2=\"689.2656\"/></g></a><!--MD5=[1dd1bfd58a279cf63c5f349dbc8fc6a1]\n",
       "class E11--><a href=\"psysml:cae84388-2b2f-4b61-9caf-e3201f6c4bb4\" target=\"_top\" title=\"psysml:cae84388-2b2f-4b61-9caf-e3201f6c4bb4\" xlink:actuate=\"onRequest\" xlink:href=\"psysml:cae84388-2b2f-4b61-9caf-e3201f6c4bb4\" xlink:show=\"new\" xlink:title=\"psysml:cae84388-2b2f-4b61-9caf-e3201f6c4bb4\" xlink:type=\"simple\"><g id=\"elem_E11\"><rect fill=\"#FFFFFF\" height=\"91.3781\" id=\"E11\" style=\"stroke:#181818;stroke-width:0.5;\" width=\"99\" x=\"32\" y=\"732.5\"/><text fill=\"#000000\" font-family=\"sans-serif\" font-size=\"12\" font-style=\"italic\" lengthAdjust=\"spacing\" textLength=\"97\" x=\"33\" y=\"748.6387\">«attribute  def»</text><text fill=\"#000000\" font-family=\"sans-serif\" font-size=\"14\" lengthAdjust=\"spacing\" textLength=\"9\" x=\"77\" y=\"764.4639\">A</text><line style=\"stroke:#181818;stroke-width:0.5;\" x1=\"33\" x2=\"130\" y1=\"772.7656\" y2=\"772.7656\"/><text fill=\"#000000\" font-family=\"sans-serif\" font-size=\"14\" lengthAdjust=\"spacing\" textLength=\"61\" x=\"38\" y=\"800.2795\">i: Integer</text><text fill=\"#000000\" font-family=\"sans-serif\" font-size=\"14\" lengthAdjust=\"spacing\" textLength=\"25\" x=\"38\" y=\"816.5764\">x: A</text><text fill=\"#000000\" font-family=\"sans-serif\" font-size=\"14\" font-style=\"italic\" lengthAdjust=\"spacing\" textLength=\"66\" x=\"48.5\" y=\"785.1123\">attributes</text></g></a><!--MD5=[15ebcb19ae302d9b601edb458606d402]\n",
       "link E5 to E2--><g id=\"link_E5_E2\"><a href=\"psysml:356b088d-f058-4498-8151-02a64d9c5f99\" target=\"_top\" title=\"psysml:356b088d-f058-4498-8151-02a64d9c5f99\" xlink:actuate=\"onRequest\" xlink:href=\"psysml:356b088d-f058-4498-8151-02a64d9c5f99\" xlink:show=\"new\" xlink:title=\"psysml:356b088d-f058-4498-8151-02a64d9c5f99\" xlink:type=\"simple\"><path d=\"M102.61,263.93 C120.54,269.21 147.58,277.18 171.69,284.29 \" fill=\"none\" id=\"E5-to-E2\" style=\"stroke:#181818;stroke-width:1.0;\"/><polygon fill=\"#FFFFFF\" points=\"190.99,289.98,170.7869,291.3344,174.7372,277.9033,190.99,289.98\" style=\"stroke:#181818;stroke-width:1.0;\"/><ellipse cx=\"165.8828\" cy=\"287.8073\" fill=\"#181818\" rx=\"2\" ry=\"2\" style=\"stroke:#181818;stroke-width:1.0;\"/><ellipse cx=\"168.7045\" cy=\"278.2137\" fill=\"#181818\" rx=\"2\" ry=\"2\" style=\"stroke:#181818;stroke-width:1.0;\"/></a></g><!--MD5=[2351f337d6de0f557b50152ba70847b5]\n",
       "link E6 to E2--><g id=\"link_E6_E2\"><a href=\"psysml:849948e9-2a63-47c9-a787-96ae36e28ef0\" target=\"_top\" title=\"psysml:849948e9-2a63-47c9-a787-96ae36e28ef0\" xlink:actuate=\"onRequest\" xlink:href=\"psysml:849948e9-2a63-47c9-a787-96ae36e28ef0\" xlink:show=\"new\" xlink:title=\"psysml:849948e9-2a63-47c9-a787-96ae36e28ef0\" xlink:type=\"simple\"><path d=\"M102.61,335.21 C120.54,330.06 147.58,322.28 171.69,315.34 \" fill=\"none\" id=\"E6-to-E2\" style=\"stroke:#181818;stroke-width:1.0;\"/><polygon fill=\"#FFFFFF\" points=\"190.99,309.79,174.6746,321.782,170.7942,308.3306,190.99,309.79\" style=\"stroke:#181818;stroke-width:1.0;\"/><ellipse cx=\"168.6436\" cy=\"321.4403\" fill=\"#181818\" rx=\"2\" ry=\"2\" style=\"stroke:#181818;stroke-width:1.0;\"/><ellipse cx=\"165.8719\" cy=\"311.8321\" fill=\"#181818\" rx=\"2\" ry=\"2\" style=\"stroke:#181818;stroke-width:1.0;\"/></a></g><!--MD5=[b8dd0c7774bf2e43a4cbaab790f9f09c]\n",
       "@startuml\r\n",
       "skin sysmlbw\r\n",
       "skinparam monochrome true\r\n",
       "skinparam wrapWidth 300\r\n",
       "hide circle\r\n",
       "left to right direction\r\n",
       "\r\n",
       "package \"MultiplicityTest\" as E1  [[psysml:26edc399-ba1b-4e26-98ec-184b2d561983 ]]  {\r\n",
       "comp def \"P\" as E2  <<(T,blue) part  def>> [[psysml:a78c9232-7355-4122-98e1-61ea033b6fbd ]] {\r\n",
       "}\r\n",
       "comp usage \"n: Integer  \" as E3  <<(T,blue) attribute>> [[psysml:6e5bcad0-e721-42f0-8965-8cf810de127c ]] {\r\n",
       "##//values//##\r\n",
       " <U+003D> 5\r\n",
       "}\r\n",
       "comp usage \"a  \" as E4  <<(T,blue) part>> [[psysml:58ca86c4-6609-462b-9948-87aadb08d281 ]] {\r\n",
       "}\r\n",
       "comp usage \"b: P  \" as E5  <<(T,blue) part>> [[psysml:8959fced-ddce-434c-832c-e17faa00a5de ]] {\r\n",
       "}\r\n",
       "comp usage \"c: P  \" as E6  <<(T,blue) part>> [[psysml:4ac8fd09-bbc3-4ec3-ba18-7592ef56bccd ]] {\r\n",
       "}\r\n",
       "comp usage \"d  \" as E7  <<(T,blue) part>> [[psysml:58aa0206-e878-4c1d-8c3a-c879ca6e4b13 ]] {\r\n",
       "}\r\n",
       "comp usage \"e  \" as E8  <<(T,blue) part>> [[psysml:21978b5e-874b-4020-b12b-41f872f49c78 ]] {\r\n",
       "}\r\n",
       "comp usage \"f  \" as E9  <<(T,blue) part>> [[psysml:79f00190-11a9-479d-9f29-e880a27768bf ]] {\r\n",
       "}\r\n",
       "comp usage \"g  \" as E10  <<(T,blue) part>> [[psysml:3e79cc57-1ff4-4d61-ad54-8c0f8362d5da ]] {\r\n",
       "}\r\n",
       "comp def \"A\" as E11  <<(T,blue) attribute  def>> [[psysml:cae84388-2b2f-4b61-9caf-e3201f6c4bb4 ]] {\r\n",
       "##//attributes//##\r\n",
       "i: Integer\r\n",
       "x: A\r\n",
       "}\r\n",
       "}\r\n",
       "E5 - -:|> E2 [[psysml:356b088d-f058-4498-8151-02a64d9c5f99 ]] \r\n",
       "E6 - -:|> E2 [[psysml:849948e9-2a63-47c9-a787-96ae36e28ef0 ]] \r\n",
       "@enduml\r\n",
       "\n",
       "PlantUML version 1.2022.7(Mon Aug 22 17:01:30 UTC 2022)\n",
       "(EPL source distribution)\n",
       "Java Runtime: OpenJDK Runtime Environment\n",
       "JVM: OpenJDK 64-Bit Server VM\n",
       "Default Encoding: UTF-8\n",
       "Language: en\n",
       "Country: null\n",
       "--></g></svg>"
      ]
     },
     "execution_count": 16,
     "metadata": {},
     "output_type": "execute_result"
    }
   ],
   "source": [
    "%viz --style=\"LR\" --view=\"Default\" \"MultiplicityTest\""
   ]
  },
  {
   "cell_type": "code",
   "execution_count": 17,
   "id": "a7f33b0f",
   "metadata": {
    "execution": {
     "iopub.execute_input": "2024-12-16T03:27:05.388512Z",
     "iopub.status.busy": "2024-12-16T03:27:05.388267Z",
     "iopub.status.idle": "2024-12-16T03:27:05.414872Z",
     "shell.execute_reply": "2024-12-16T03:27:05.414059Z"
    }
   },
   "outputs": [
    {
     "data": {
      "image/svg+xml": [
       "<?xml version=\"1.0\" encoding=\"UTF-8\" standalone=\"no\"?><svg xmlns=\"http://www.w3.org/2000/svg\" xmlns:xlink=\"http://www.w3.org/1999/xlink\" contentStyleType=\"text/css\" height=\"847px\" preserveAspectRatio=\"none\" style=\"width:294px;height:847px;background:#FFFFFF;\" version=\"1.1\" viewBox=\"0 0 294 847\" width=\"294px\" zoomAndPan=\"magnify\"><defs/><g><!--MD5=[fbc87193dbaf4d95561dea2c320d4a47]\n",
       "cluster E1--><g id=\"cluster_E1\"><a href=\"psysml:26edc399-ba1b-4e26-98ec-184b2d561983\" target=\"_top\" title=\"psysml:26edc399-ba1b-4e26-98ec-184b2d561983\" xlink:actuate=\"onRequest\" xlink:href=\"psysml:26edc399-ba1b-4e26-98ec-184b2d561983\" xlink:show=\"new\" xlink:title=\"psysml:26edc399-ba1b-4e26-98ec-184b2d561983\" xlink:type=\"simple\"><polygon fill=\"none\" points=\"16,6,130,6,137,28.2969,277,28.2969,277,840,16,840,16,6\" style=\"stroke:#000000;stroke-width:1.5;\"/><line style=\"stroke:#000000;stroke-width:1.5;\" x1=\"16\" x2=\"137\" y1=\"28.2969\" y2=\"28.2969\"/><text fill=\"#000000\" font-family=\"sans-serif\" font-size=\"14\" font-weight=\"bold\" lengthAdjust=\"spacing\" textLength=\"108\" x=\"20\" y=\"20.9951\">MultiplicityTest</text></a></g><!--MD5=[b4997ac47864f28c2f74865a473b2911]\n",
       "class E2--><a href=\"psysml:a78c9232-7355-4122-98e1-61ea033b6fbd\" target=\"_top\" title=\"psysml:a78c9232-7355-4122-98e1-61ea033b6fbd\" xlink:actuate=\"onRequest\" xlink:href=\"psysml:a78c9232-7355-4122-98e1-61ea033b6fbd\" xlink:show=\"new\" xlink:title=\"psysml:a78c9232-7355-4122-98e1-61ea033b6fbd\" xlink:type=\"simple\"><g id=\"elem_E2\"><rect fill=\"#FFFFFF\" height=\"48.2656\" id=\"E2\" style=\"stroke:#181818;stroke-width:0.5;\" width=\"70\" x=\"191\" y=\"276\"/><text fill=\"#000000\" font-family=\"sans-serif\" font-size=\"12\" font-style=\"italic\" lengthAdjust=\"spacing\" textLength=\"68\" x=\"192\" y=\"292.1387\">«part  def»</text><text fill=\"#000000\" font-family=\"sans-serif\" font-size=\"14\" lengthAdjust=\"spacing\" textLength=\"9\" x=\"221.5\" y=\"307.9639\">P</text><line style=\"stroke:#181818;stroke-width:0.5;\" x1=\"192\" x2=\"260\" y1=\"316.2656\" y2=\"316.2656\"/></g></a><!--MD5=[09b614a08d8cba4a07c9adeb5e0fee81]\n",
       "class E3--><a href=\"psysml:6e5bcad0-e721-42f0-8965-8cf810de127c\" target=\"_top\" title=\"psysml:6e5bcad0-e721-42f0-8965-8cf810de127c\" xlink:actuate=\"onRequest\" xlink:href=\"psysml:6e5bcad0-e721-42f0-8965-8cf810de127c\" xlink:show=\"new\" xlink:title=\"psysml:6e5bcad0-e721-42f0-8965-8cf810de127c\" xlink:type=\"simple\"><g id=\"elem_E3\"><rect fill=\"#FFFFFF\" height=\"75.0813\" id=\"E3\" rx=\"10\" ry=\"10\" style=\"stroke:#181818;stroke-width:0.5;\" width=\"81\" x=\"41\" y=\"40.5\"/><text fill=\"#000000\" font-family=\"sans-serif\" font-size=\"12\" font-style=\"italic\" lengthAdjust=\"spacing\" textLength=\"69\" x=\"47\" y=\"56.6387\">«attribute»</text><text fill=\"#000000\" font-family=\"sans-serif\" font-size=\"14\" lengthAdjust=\"spacing\" textLength=\"67\" x=\"44\" y=\"72.4639\">n: Integer</text><line style=\"stroke:#181818;stroke-width:0.5;\" x1=\"42\" x2=\"121\" y1=\"80.7656\" y2=\"80.7656\"/><text fill=\"#000000\" font-family=\"sans-serif\" font-size=\"14\" lengthAdjust=\"spacing\" textLength=\"25\" x=\"47\" y=\"108.2795\">= 5</text><text fill=\"#000000\" font-family=\"sans-serif\" font-size=\"14\" font-style=\"italic\" lengthAdjust=\"spacing\" textLength=\"44\" x=\"59.5\" y=\"93.1123\">values</text></g></a><!--MD5=[ebbe1d658d1005bcc118a6aa81145e00]\n",
       "class E4--><a href=\"psysml:58ca86c4-6609-462b-9948-87aadb08d281\" target=\"_top\" title=\"psysml:58ca86c4-6609-462b-9948-87aadb08d281\" xlink:actuate=\"onRequest\" xlink:href=\"psysml:58ca86c4-6609-462b-9948-87aadb08d281\" xlink:show=\"new\" xlink:title=\"psysml:58ca86c4-6609-462b-9948-87aadb08d281\" xlink:type=\"simple\"><g id=\"elem_E4\"><rect fill=\"#FFFFFF\" height=\"48.2656\" id=\"E4\" rx=\"10\" ry=\"10\" style=\"stroke:#181818;stroke-width:0.5;\" width=\"42\" x=\"60.5\" y=\"151\"/><text fill=\"#000000\" font-family=\"sans-serif\" font-size=\"12\" font-style=\"italic\" lengthAdjust=\"spacing\" textLength=\"40\" x=\"61.5\" y=\"167.1387\">«part»</text><text fill=\"#000000\" font-family=\"sans-serif\" font-size=\"14\" lengthAdjust=\"spacing\" textLength=\"27\" x=\"64\" y=\"182.9639\">a[1]</text><line style=\"stroke:#181818;stroke-width:0.5;\" x1=\"61.5\" x2=\"101.5\" y1=\"191.2656\" y2=\"191.2656\"/></g></a><!--MD5=[270fce915f116d4de14055a7c1d9a0f3]\n",
       "class E5--><a href=\"psysml:8959fced-ddce-434c-832c-e17faa00a5de\" target=\"_top\" title=\"psysml:8959fced-ddce-434c-832c-e17faa00a5de\" xlink:actuate=\"onRequest\" xlink:href=\"psysml:8959fced-ddce-434c-832c-e17faa00a5de\" xlink:show=\"new\" xlink:title=\"psysml:8959fced-ddce-434c-832c-e17faa00a5de\" xlink:type=\"simple\"><g id=\"elem_E5\"><rect fill=\"#FFFFFF\" height=\"48.2656\" id=\"E5\" rx=\"10\" ry=\"10\" style=\"stroke:#181818;stroke-width:0.5;\" width=\"77\" x=\"43\" y=\"234\"/><text fill=\"#000000\" font-family=\"sans-serif\" font-size=\"12\" font-style=\"italic\" lengthAdjust=\"spacing\" textLength=\"40\" x=\"61.5\" y=\"250.1387\">«part»</text><text fill=\"#000000\" font-family=\"sans-serif\" font-size=\"14\" lengthAdjust=\"spacing\" textLength=\"63\" x=\"46\" y=\"265.9639\">b: P[0..2]</text><line style=\"stroke:#181818;stroke-width:0.5;\" x1=\"44\" x2=\"119\" y1=\"274.2656\" y2=\"274.2656\"/></g></a><!--MD5=[60a26617385b1d2d0262a64233df1f8d]\n",
       "class E6--><a href=\"psysml:4ac8fd09-bbc3-4ec3-ba18-7592ef56bccd\" target=\"_top\" title=\"psysml:4ac8fd09-bbc3-4ec3-ba18-7592ef56bccd\" xlink:actuate=\"onRequest\" xlink:href=\"psysml:4ac8fd09-bbc3-4ec3-ba18-7592ef56bccd\" xlink:show=\"new\" xlink:title=\"psysml:4ac8fd09-bbc3-4ec3-ba18-7592ef56bccd\" xlink:type=\"simple\"><g id=\"elem_E6\"><rect fill=\"#FFFFFF\" height=\"48.2656\" id=\"E6\" rx=\"10\" ry=\"10\" style=\"stroke:#181818;stroke-width:0.5;\" width=\"74\" x=\"44.5\" y=\"317\"/><text fill=\"#000000\" font-family=\"sans-serif\" font-size=\"12\" font-style=\"italic\" lengthAdjust=\"spacing\" textLength=\"40\" x=\"61.5\" y=\"333.1387\">«part»</text><text fill=\"#000000\" font-family=\"sans-serif\" font-size=\"14\" lengthAdjust=\"spacing\" textLength=\"60\" x=\"47.5\" y=\"348.9639\">c: P[2..*]</text><line style=\"stroke:#181818;stroke-width:0.5;\" x1=\"45.5\" x2=\"117.5\" y1=\"357.2656\" y2=\"357.2656\"/></g></a><!--MD5=[2156ba9850f5573cc1fc38a6a4b2f02b]\n",
       "class E7--><a href=\"psysml:58aa0206-e878-4c1d-8c3a-c879ca6e4b13\" target=\"_top\" title=\"psysml:58aa0206-e878-4c1d-8c3a-c879ca6e4b13\" xlink:actuate=\"onRequest\" xlink:href=\"psysml:58aa0206-e878-4c1d-8c3a-c879ca6e4b13\" xlink:show=\"new\" xlink:title=\"psysml:58aa0206-e878-4c1d-8c3a-c879ca6e4b13\" xlink:type=\"simple\"><g id=\"elem_E7\"><rect fill=\"#FFFFFF\" height=\"48.2656\" id=\"E7\" rx=\"10\" ry=\"10\" style=\"stroke:#181818;stroke-width:0.5;\" width=\"42\" x=\"60.5\" y=\"400\"/><text fill=\"#000000\" font-family=\"sans-serif\" font-size=\"12\" font-style=\"italic\" lengthAdjust=\"spacing\" textLength=\"40\" x=\"61.5\" y=\"416.1387\">«part»</text><text fill=\"#000000\" font-family=\"sans-serif\" font-size=\"14\" lengthAdjust=\"spacing\" textLength=\"26\" x=\"64.5\" y=\"431.9639\">d[*]</text><line style=\"stroke:#181818;stroke-width:0.5;\" x1=\"61.5\" x2=\"101.5\" y1=\"440.2656\" y2=\"440.2656\"/></g></a><!--MD5=[b9389687b975829384b498ac4b7476b2]\n",
       "class E8--><a href=\"psysml:21978b5e-874b-4020-b12b-41f872f49c78\" target=\"_top\" title=\"psysml:21978b5e-874b-4020-b12b-41f872f49c78\" xlink:actuate=\"onRequest\" xlink:href=\"psysml:21978b5e-874b-4020-b12b-41f872f49c78\" xlink:show=\"new\" xlink:title=\"psysml:21978b5e-874b-4020-b12b-41f872f49c78\" xlink:type=\"simple\"><g id=\"elem_E8\"><rect fill=\"#FFFFFF\" height=\"48.2656\" id=\"E8\" rx=\"10\" ry=\"10\" style=\"stroke:#181818;stroke-width:0.5;\" width=\"42\" x=\"60.5\" y=\"483\"/><text fill=\"#000000\" font-family=\"sans-serif\" font-size=\"12\" font-style=\"italic\" lengthAdjust=\"spacing\" textLength=\"40\" x=\"61.5\" y=\"499.1387\">«part»</text><text fill=\"#000000\" font-family=\"sans-serif\" font-size=\"14\" lengthAdjust=\"spacing\" textLength=\"28\" x=\"63.5\" y=\"514.9639\">e[n]</text><line style=\"stroke:#181818;stroke-width:0.5;\" x1=\"61.5\" x2=\"101.5\" y1=\"523.2656\" y2=\"523.2656\"/></g></a><!--MD5=[fd4143e9d270a159db93a4ea2a975926]\n",
       "class E9--><a href=\"psysml:79f00190-11a9-479d-9f29-e880a27768bf\" target=\"_top\" title=\"psysml:79f00190-11a9-479d-9f29-e880a27768bf\" xlink:actuate=\"onRequest\" xlink:href=\"psysml:79f00190-11a9-479d-9f29-e880a27768bf\" xlink:show=\"new\" xlink:title=\"psysml:79f00190-11a9-479d-9f29-e880a27768bf\" xlink:type=\"simple\"><g id=\"elem_E9\"><rect fill=\"#FFFFFF\" height=\"48.2656\" id=\"E9\" rx=\"10\" ry=\"10\" style=\"stroke:#181818;stroke-width:0.5;\" width=\"52\" x=\"55.5\" y=\"566\"/><text fill=\"#000000\" font-family=\"sans-serif\" font-size=\"12\" font-style=\"italic\" lengthAdjust=\"spacing\" textLength=\"40\" x=\"61.5\" y=\"582.1387\">«part»</text><text fill=\"#000000\" font-family=\"sans-serif\" font-size=\"14\" lengthAdjust=\"spacing\" textLength=\"38\" x=\"58.5\" y=\"597.9639\">f[n..*]</text><line style=\"stroke:#181818;stroke-width:0.5;\" x1=\"56.5\" x2=\"106.5\" y1=\"606.2656\" y2=\"606.2656\"/></g></a><!--MD5=[96f4274e9e20536e775497830990834d]\n",
       "class E10--><a href=\"psysml:3e79cc57-1ff4-4d61-ad54-8c0f8362d5da\" target=\"_top\" title=\"psysml:3e79cc57-1ff4-4d61-ad54-8c0f8362d5da\" xlink:actuate=\"onRequest\" xlink:href=\"psysml:3e79cc57-1ff4-4d61-ad54-8c0f8362d5da\" xlink:show=\"new\" xlink:title=\"psysml:3e79cc57-1ff4-4d61-ad54-8c0f8362d5da\" xlink:type=\"simple\"><g id=\"elem_E10\"><rect fill=\"#FFFFFF\" height=\"48.2656\" id=\"E10\" rx=\"10\" ry=\"10\" style=\"stroke:#181818;stroke-width:0.5;\" width=\"59\" x=\"52\" y=\"649\"/><text fill=\"#000000\" font-family=\"sans-serif\" font-size=\"12\" font-style=\"italic\" lengthAdjust=\"spacing\" textLength=\"40\" x=\"61.5\" y=\"665.1387\">«part»</text><text fill=\"#000000\" font-family=\"sans-serif\" font-size=\"14\" lengthAdjust=\"spacing\" textLength=\"45\" x=\"55\" y=\"680.9639\">g[1..n]</text><line style=\"stroke:#181818;stroke-width:0.5;\" x1=\"53\" x2=\"110\" y1=\"689.2656\" y2=\"689.2656\"/></g></a><!--MD5=[1dd1bfd58a279cf63c5f349dbc8fc6a1]\n",
       "class E11--><a href=\"psysml:cae84388-2b2f-4b61-9caf-e3201f6c4bb4\" target=\"_top\" title=\"psysml:cae84388-2b2f-4b61-9caf-e3201f6c4bb4\" xlink:actuate=\"onRequest\" xlink:href=\"psysml:cae84388-2b2f-4b61-9caf-e3201f6c4bb4\" xlink:show=\"new\" xlink:title=\"psysml:cae84388-2b2f-4b61-9caf-e3201f6c4bb4\" xlink:type=\"simple\"><g id=\"elem_E11\"><rect fill=\"#FFFFFF\" height=\"91.3781\" id=\"E11\" style=\"stroke:#181818;stroke-width:0.5;\" width=\"99\" x=\"32\" y=\"732.5\"/><text fill=\"#000000\" font-family=\"sans-serif\" font-size=\"12\" font-style=\"italic\" lengthAdjust=\"spacing\" textLength=\"97\" x=\"33\" y=\"748.6387\">«attribute  def»</text><text fill=\"#000000\" font-family=\"sans-serif\" font-size=\"14\" lengthAdjust=\"spacing\" textLength=\"9\" x=\"77\" y=\"764.4639\">A</text><line style=\"stroke:#181818;stroke-width:0.5;\" x1=\"33\" x2=\"130\" y1=\"772.7656\" y2=\"772.7656\"/><text fill=\"#000000\" font-family=\"sans-serif\" font-size=\"14\" lengthAdjust=\"spacing\" textLength=\"61\" x=\"38\" y=\"800.2795\">i: Integer</text><text fill=\"#000000\" font-family=\"sans-serif\" font-size=\"14\" lengthAdjust=\"spacing\" textLength=\"25\" x=\"38\" y=\"816.5764\">x: A</text><text fill=\"#000000\" font-family=\"sans-serif\" font-size=\"14\" font-style=\"italic\" lengthAdjust=\"spacing\" textLength=\"66\" x=\"48.5\" y=\"785.1123\">attributes</text></g></a><!--MD5=[15ebcb19ae302d9b601edb458606d402]\n",
       "link E5 to E2--><g id=\"link_E5_E2\"><a href=\"psysml:356b088d-f058-4498-8151-02a64d9c5f99\" target=\"_top\" title=\"psysml:356b088d-f058-4498-8151-02a64d9c5f99\" xlink:actuate=\"onRequest\" xlink:href=\"psysml:356b088d-f058-4498-8151-02a64d9c5f99\" xlink:show=\"new\" xlink:title=\"psysml:356b088d-f058-4498-8151-02a64d9c5f99\" xlink:type=\"simple\"><path d=\"M120.31,269.14 C135.99,273.77 154.46,279.21 171.49,284.23 \" fill=\"none\" id=\"E5-to-E2\" style=\"stroke:#181818;stroke-width:1.0;\"/><polygon fill=\"#FFFFFF\" points=\"190.91,289.95,170.706,291.2906,174.6655,277.8621,190.91,289.95\" style=\"stroke:#181818;stroke-width:1.0;\"/><ellipse cx=\"165.8043\" cy=\"287.7601\" fill=\"#181818\" rx=\"2\" ry=\"2\" style=\"stroke:#181818;stroke-width:1.0;\"/><ellipse cx=\"168.6326\" cy=\"278.1684\" fill=\"#181818\" rx=\"2\" ry=\"2\" style=\"stroke:#181818;stroke-width:1.0;\"/></a></g><!--MD5=[2351f337d6de0f557b50152ba70847b5]\n",
       "link E6 to E2--><g id=\"link_E6_E2\"><a href=\"psysml:849948e9-2a63-47c9-a787-96ae36e28ef0\" target=\"_top\" title=\"psysml:849948e9-2a63-47c9-a787-96ae36e28ef0\" xlink:actuate=\"onRequest\" xlink:href=\"psysml:849948e9-2a63-47c9-a787-96ae36e28ef0\" xlink:show=\"new\" xlink:title=\"psysml:849948e9-2a63-47c9-a787-96ae36e28ef0\" xlink:type=\"simple\"><path d=\"M118.83,330.55 C134.8,325.95 153.88,320.46 171.43,315.41 \" fill=\"none\" id=\"E6-to-E2\" style=\"stroke:#181818;stroke-width:1.0;\"/><polygon fill=\"#FFFFFF\" points=\"190.7,309.87,174.3823,321.8588,170.5045,308.4066,190.7,309.87\" style=\"stroke:#181818;stroke-width:1.0;\"/><ellipse cx=\"168.3513\" cy=\"321.5159\" fill=\"#181818\" rx=\"2\" ry=\"2\" style=\"stroke:#181818;stroke-width:1.0;\"/><ellipse cx=\"165.5815\" cy=\"311.9071\" fill=\"#181818\" rx=\"2\" ry=\"2\" style=\"stroke:#181818;stroke-width:1.0;\"/></a></g><!--MD5=[5af764e5373ffde7dd039a51e03e51c4]\n",
       "@startuml\r\n",
       "skin sysmlbw\r\n",
       "skinparam monochrome true\r\n",
       "skinparam wrapWidth 300\r\n",
       "hide circle\r\n",
       "left to right direction\r\n",
       "\r\n",
       "package \"MultiplicityTest\" as E1  [[psysml:26edc399-ba1b-4e26-98ec-184b2d561983 ]]  {\r\n",
       "comp def \"P\" as E2  <<(T,blue) part  def>> [[psysml:a78c9232-7355-4122-98e1-61ea033b6fbd ]] {\r\n",
       "}\r\n",
       "comp usage \"n: Integer  \" as E3  <<(T,blue) attribute>> [[psysml:6e5bcad0-e721-42f0-8965-8cf810de127c ]] {\r\n",
       "##//values//##\r\n",
       " <U+003D> 5\r\n",
       "}\r\n",
       "comp usage \"a[1]  \" as E4  <<(T,blue) part>> [[psysml:58ca86c4-6609-462b-9948-87aadb08d281 ]] {\r\n",
       "}\r\n",
       "comp usage \"b: P[0..2]  \" as E5  <<(T,blue) part>> [[psysml:8959fced-ddce-434c-832c-e17faa00a5de ]] {\r\n",
       "}\r\n",
       "comp usage \"c: P[2..*]  \" as E6  <<(T,blue) part>> [[psysml:4ac8fd09-bbc3-4ec3-ba18-7592ef56bccd ]] {\r\n",
       "}\r\n",
       "comp usage \"d[*]  \" as E7  <<(T,blue) part>> [[psysml:58aa0206-e878-4c1d-8c3a-c879ca6e4b13 ]] {\r\n",
       "}\r\n",
       "comp usage \"e[n]  \" as E8  <<(T,blue) part>> [[psysml:21978b5e-874b-4020-b12b-41f872f49c78 ]] {\r\n",
       "}\r\n",
       "comp usage \"f[n..*]  \" as E9  <<(T,blue) part>> [[psysml:79f00190-11a9-479d-9f29-e880a27768bf ]] {\r\n",
       "}\r\n",
       "comp usage \"g[1..n]  \" as E10  <<(T,blue) part>> [[psysml:3e79cc57-1ff4-4d61-ad54-8c0f8362d5da ]] {\r\n",
       "}\r\n",
       "comp def \"A\" as E11  <<(T,blue) attribute  def>> [[psysml:cae84388-2b2f-4b61-9caf-e3201f6c4bb4 ]] {\r\n",
       "##//attributes//##\r\n",
       "i: Integer\r\n",
       "x: A\r\n",
       "}\r\n",
       "}\r\n",
       "E5 - -:|> E2 [[psysml:356b088d-f058-4498-8151-02a64d9c5f99 ]] \r\n",
       "E6 - -:|> E2 [[psysml:849948e9-2a63-47c9-a787-96ae36e28ef0 ]] \r\n",
       "@enduml\r\n",
       "\n",
       "PlantUML version 1.2022.7(Mon Aug 22 17:01:30 UTC 2022)\n",
       "(EPL source distribution)\n",
       "Java Runtime: OpenJDK Runtime Environment\n",
       "JVM: OpenJDK 64-Bit Server VM\n",
       "Default Encoding: UTF-8\n",
       "Language: en\n",
       "Country: null\n",
       "--></g></svg>"
      ]
     },
     "execution_count": 17,
     "metadata": {},
     "output_type": "execute_result"
    }
   ],
   "source": [
    "%viz --style=\"LR\" --view=\"Tree\" \"MultiplicityTest\""
   ]
  },
  {
   "cell_type": "code",
   "execution_count": 18,
   "id": "e98cce43",
   "metadata": {
    "execution": {
     "iopub.execute_input": "2024-12-16T03:27:05.467485Z",
     "iopub.status.busy": "2024-12-16T03:27:05.467250Z",
     "iopub.status.idle": "2024-12-16T03:27:05.473360Z",
     "shell.execute_reply": "2024-12-16T03:27:05.473178Z"
    }
   },
   "outputs": [
    {
     "data": {
      "image/svg+xml": [
       "<?xml version=\"1.0\" encoding=\"UTF-8\" standalone=\"no\"?><svg xmlns=\"http://www.w3.org/2000/svg\" xmlns:xlink=\"http://www.w3.org/1999/xlink\" contentStyleType=\"text/css\" height=\"10px\" preserveAspectRatio=\"none\" style=\"width:10px;height:10px;background:#FFFFFF;\" version=\"1.1\" viewBox=\"0 0 10 10\" width=\"10px\" zoomAndPan=\"magnify\"><defs/><g><!--MD5=[fb420fbd7a91d32138f4344b927a323c]\n",
       "@startuml\r\n",
       "skin sysmlbw\r\n",
       "skinparam monochrome true\r\n",
       "skinparam wrapWidth 300\r\n",
       "hide circle\r\n",
       "left to right direction\r\n",
       "\r\n",
       "@enduml\r\n",
       "\n",
       "PlantUML version 1.2022.7(Mon Aug 22 17:01:30 UTC 2022)\n",
       "(EPL source distribution)\n",
       "Java Runtime: OpenJDK Runtime Environment\n",
       "JVM: OpenJDK 64-Bit Server VM\n",
       "Default Encoding: UTF-8\n",
       "Language: en\n",
       "Country: null\n",
       "--></g></svg>"
      ]
     },
     "execution_count": 18,
     "metadata": {},
     "output_type": "execute_result"
    }
   ],
   "source": [
    "%viz --style=\"LR\" --view=\"State\" \"MultiplicityTest\""
   ]
  },
  {
   "cell_type": "code",
   "execution_count": 19,
   "id": "731d9519",
   "metadata": {
    "execution": {
     "iopub.execute_input": "2024-12-16T03:27:05.525328Z",
     "iopub.status.busy": "2024-12-16T03:27:05.525084Z",
     "iopub.status.idle": "2024-12-16T03:27:05.546278Z",
     "shell.execute_reply": "2024-12-16T03:27:05.545516Z"
    }
   },
   "outputs": [
    {
     "data": {
      "image/svg+xml": [
       "<?xml version=\"1.0\" encoding=\"UTF-8\" standalone=\"no\"?><svg xmlns=\"http://www.w3.org/2000/svg\" xmlns:xlink=\"http://www.w3.org/1999/xlink\" contentStyleType=\"text/css\" height=\"744px\" preserveAspectRatio=\"none\" style=\"width:254px;height:744px;background:#FFFFFF;\" version=\"1.1\" viewBox=\"0 0 254 744\" width=\"254px\" zoomAndPan=\"magnify\"><defs/><g><!--MD5=[fbc87193dbaf4d95561dea2c320d4a47]\n",
       "cluster E1--><g id=\"cluster_E1\"><a href=\"psysml:26edc399-ba1b-4e26-98ec-184b2d561983\" target=\"_top\" title=\"psysml:26edc399-ba1b-4e26-98ec-184b2d561983\" xlink:actuate=\"onRequest\" xlink:href=\"psysml:26edc399-ba1b-4e26-98ec-184b2d561983\" xlink:show=\"new\" xlink:title=\"psysml:26edc399-ba1b-4e26-98ec-184b2d561983\" xlink:type=\"simple\"><polygon fill=\"none\" points=\"16,6,130,6,137,28.2969,237,28.2969,237,737,16,737,16,6\" style=\"stroke:#000000;stroke-width:1.5;\"/><line style=\"stroke:#000000;stroke-width:1.5;\" x1=\"16\" x2=\"137\" y1=\"28.2969\" y2=\"28.2969\"/><text fill=\"#000000\" font-family=\"sans-serif\" font-size=\"14\" font-weight=\"bold\" lengthAdjust=\"spacing\" textLength=\"108\" x=\"20\" y=\"20.9951\">MultiplicityTest</text></a></g><!--MD5=[09b614a08d8cba4a07c9adeb5e0fee81]\n",
       "class E3--><a href=\"psysml:6e5bcad0-e721-42f0-8965-8cf810de127c\" target=\"_top\" title=\"psysml:6e5bcad0-e721-42f0-8965-8cf810de127c\" xlink:actuate=\"onRequest\" xlink:href=\"psysml:6e5bcad0-e721-42f0-8965-8cf810de127c\" xlink:show=\"new\" xlink:title=\"psysml:6e5bcad0-e721-42f0-8965-8cf810de127c\" xlink:type=\"simple\"><g id=\"elem_E3\"><rect fill=\"#FFFFFF\" height=\"75.0813\" id=\"E3\" rx=\"10\" ry=\"10\" style=\"stroke:#181818;stroke-width:0.5;\" width=\"81\" x=\"43.5\" y=\"40.5\"/><text fill=\"#000000\" font-family=\"sans-serif\" font-size=\"12\" font-style=\"italic\" lengthAdjust=\"spacing\" textLength=\"69\" x=\"49.5\" y=\"56.6387\">«attribute»</text><text fill=\"#000000\" font-family=\"sans-serif\" font-size=\"14\" lengthAdjust=\"spacing\" textLength=\"67\" x=\"46.5\" y=\"72.4639\">n: Integer</text><line style=\"stroke:#181818;stroke-width:0.5;\" x1=\"44.5\" x2=\"123.5\" y1=\"80.7656\" y2=\"80.7656\"/><text fill=\"#000000\" font-family=\"sans-serif\" font-size=\"14\" lengthAdjust=\"spacing\" textLength=\"25\" x=\"49.5\" y=\"108.2795\">= 5</text><text fill=\"#000000\" font-family=\"sans-serif\" font-size=\"14\" font-style=\"italic\" lengthAdjust=\"spacing\" textLength=\"44\" x=\"62\" y=\"93.1123\">values</text></g></a><g><a href=\"psysml:cae84388-2b2f-4b61-9caf-e3201f6c4bb4\" target=\"_top\" title=\"psysml:cae84388-2b2f-4b61-9caf-e3201f6c4bb4\" xlink:actuate=\"onRequest\" xlink:href=\"psysml:cae84388-2b2f-4b61-9caf-e3201f6c4bb4\" xlink:show=\"new\" xlink:title=\"psysml:cae84388-2b2f-4b61-9caf-e3201f6c4bb4\" xlink:type=\"simple\"><rect fill=\"#FFFFFF\" height=\"45.2656\" id=\"E11\" style=\"stroke:#383838;stroke-width:1.5;\" width=\"104\" x=\"32\" y=\"150.5\"/><text fill=\"#000000\" font-family=\"sans-serif\" font-size=\"12\" font-style=\"italic\" lengthAdjust=\"spacing\" textLength=\"97\" x=\"35.5\" y=\"166.6387\">«attribute  def»</text><text fill=\"#000000\" font-family=\"sans-serif\" font-size=\"14\" lengthAdjust=\"spacing\" textLength=\"9\" x=\"79.5\" y=\"182.4639\">A</text></a></g><g><a href=\"psysml:a78c9232-7355-4122-98e1-61ea033b6fbd\" target=\"_top\" title=\"psysml:a78c9232-7355-4122-98e1-61ea033b6fbd\" xlink:actuate=\"onRequest\" xlink:href=\"psysml:a78c9232-7355-4122-98e1-61ea033b6fbd\" xlink:show=\"new\" xlink:title=\"psysml:a78c9232-7355-4122-98e1-61ea033b6fbd\" xlink:type=\"simple\"><rect fill=\"#FFFFFF\" height=\"45.2656\" id=\"E2\" style=\"stroke:#383838;stroke-width:1.5;\" width=\"75\" x=\"146\" y=\"341.5\"/><text fill=\"#000000\" font-family=\"sans-serif\" font-size=\"12\" font-style=\"italic\" lengthAdjust=\"spacing\" textLength=\"68\" x=\"149.5\" y=\"357.6387\">«part  def»</text><text fill=\"#000000\" font-family=\"sans-serif\" font-size=\"14\" lengthAdjust=\"spacing\" textLength=\"9\" x=\"179\" y=\"373.4639\">P</text></a></g><g><a href=\"psysml:58ca86c4-6609-462b-9948-87aadb08d281\" target=\"_top\" title=\"psysml:58ca86c4-6609-462b-9948-87aadb08d281\" xlink:actuate=\"onRequest\" xlink:href=\"psysml:58ca86c4-6609-462b-9948-87aadb08d281\" xlink:show=\"new\" xlink:title=\"psysml:58ca86c4-6609-462b-9948-87aadb08d281\" xlink:type=\"simple\"><rect fill=\"#FFFFFF\" height=\"40\" id=\"E4\" rx=\"10\" ry=\"10\" style=\"stroke:#383838;stroke-width:1.5;\" width=\"50\" x=\"59\" y=\"231\"/><text fill=\"#000000\" font-family=\"sans-serif\" font-size=\"14\" lengthAdjust=\"spacing\" textLength=\"8\" x=\"80\" y=\"248.9951\">a</text></a></g><g><a href=\"psysml:8959fced-ddce-434c-832c-e17faa00a5de\" target=\"_top\" title=\"psysml:8959fced-ddce-434c-832c-e17faa00a5de\" xlink:actuate=\"onRequest\" xlink:href=\"psysml:8959fced-ddce-434c-832c-e17faa00a5de\" xlink:show=\"new\" xlink:title=\"psysml:8959fced-ddce-434c-832c-e17faa00a5de\" xlink:type=\"simple\"><rect fill=\"#FFFFFF\" height=\"40\" id=\"E5\" rx=\"10\" ry=\"10\" style=\"stroke:#383838;stroke-width:1.5;\" width=\"50\" x=\"59\" y=\"306\"/><text fill=\"#000000\" font-family=\"sans-serif\" font-size=\"14\" lengthAdjust=\"spacing\" textLength=\"27\" x=\"70.5\" y=\"323.9951\">b: P</text></a></g><g><a href=\"psysml:4ac8fd09-bbc3-4ec3-ba18-7592ef56bccd\" target=\"_top\" title=\"psysml:4ac8fd09-bbc3-4ec3-ba18-7592ef56bccd\" xlink:actuate=\"onRequest\" xlink:href=\"psysml:4ac8fd09-bbc3-4ec3-ba18-7592ef56bccd\" xlink:show=\"new\" xlink:title=\"psysml:4ac8fd09-bbc3-4ec3-ba18-7592ef56bccd\" xlink:type=\"simple\"><rect fill=\"#FFFFFF\" height=\"40\" id=\"E6\" rx=\"10\" ry=\"10\" style=\"stroke:#383838;stroke-width:1.5;\" width=\"50\" x=\"59\" y=\"381\"/><text fill=\"#000000\" font-family=\"sans-serif\" font-size=\"14\" lengthAdjust=\"spacing\" textLength=\"26\" x=\"71\" y=\"398.9951\">c: P</text></a></g><g><a href=\"psysml:58aa0206-e878-4c1d-8c3a-c879ca6e4b13\" target=\"_top\" title=\"psysml:58aa0206-e878-4c1d-8c3a-c879ca6e4b13\" xlink:actuate=\"onRequest\" xlink:href=\"psysml:58aa0206-e878-4c1d-8c3a-c879ca6e4b13\" xlink:show=\"new\" xlink:title=\"psysml:58aa0206-e878-4c1d-8c3a-c879ca6e4b13\" xlink:type=\"simple\"><rect fill=\"#FFFFFF\" height=\"40\" id=\"E7\" rx=\"10\" ry=\"10\" style=\"stroke:#383838;stroke-width:1.5;\" width=\"50\" x=\"59\" y=\"456\"/><text fill=\"#000000\" font-family=\"sans-serif\" font-size=\"14\" lengthAdjust=\"spacing\" textLength=\"9\" x=\"79.5\" y=\"473.9951\">d</text></a></g><g><a href=\"psysml:21978b5e-874b-4020-b12b-41f872f49c78\" target=\"_top\" title=\"psysml:21978b5e-874b-4020-b12b-41f872f49c78\" xlink:actuate=\"onRequest\" xlink:href=\"psysml:21978b5e-874b-4020-b12b-41f872f49c78\" xlink:show=\"new\" xlink:title=\"psysml:21978b5e-874b-4020-b12b-41f872f49c78\" xlink:type=\"simple\"><rect fill=\"#FFFFFF\" height=\"40\" id=\"E8\" rx=\"10\" ry=\"10\" style=\"stroke:#383838;stroke-width:1.5;\" width=\"50\" x=\"59\" y=\"531\"/><text fill=\"#000000\" font-family=\"sans-serif\" font-size=\"14\" lengthAdjust=\"spacing\" textLength=\"9\" x=\"79.5\" y=\"548.9951\">e</text></a></g><g><a href=\"psysml:79f00190-11a9-479d-9f29-e880a27768bf\" target=\"_top\" title=\"psysml:79f00190-11a9-479d-9f29-e880a27768bf\" xlink:actuate=\"onRequest\" xlink:href=\"psysml:79f00190-11a9-479d-9f29-e880a27768bf\" xlink:show=\"new\" xlink:title=\"psysml:79f00190-11a9-479d-9f29-e880a27768bf\" xlink:type=\"simple\"><rect fill=\"#FFFFFF\" height=\"40\" id=\"E9\" rx=\"10\" ry=\"10\" style=\"stroke:#383838;stroke-width:1.5;\" width=\"50\" x=\"59\" y=\"606\"/><text fill=\"#000000\" font-family=\"sans-serif\" font-size=\"14\" lengthAdjust=\"spacing\" textLength=\"4\" x=\"82\" y=\"623.9951\">f</text></a></g><g><a href=\"psysml:3e79cc57-1ff4-4d61-ad54-8c0f8362d5da\" target=\"_top\" title=\"psysml:3e79cc57-1ff4-4d61-ad54-8c0f8362d5da\" xlink:actuate=\"onRequest\" xlink:href=\"psysml:3e79cc57-1ff4-4d61-ad54-8c0f8362d5da\" xlink:show=\"new\" xlink:title=\"psysml:3e79cc57-1ff4-4d61-ad54-8c0f8362d5da\" xlink:type=\"simple\"><rect fill=\"#FFFFFF\" height=\"40\" id=\"E10\" rx=\"10\" ry=\"10\" style=\"stroke:#383838;stroke-width:1.5;\" width=\"50\" x=\"59\" y=\"681\"/><text fill=\"#000000\" font-family=\"sans-serif\" font-size=\"14\" lengthAdjust=\"spacing\" textLength=\"9\" x=\"79.5\" y=\"698.9951\">g</text></a></g><!--MD5=[15ebcb19ae302d9b601edb458606d402]\n",
       "link E5 to E2--><g id=\"link_E5_E2\"><a href=\"psysml:356b088d-f058-4498-8151-02a64d9c5f99\" target=\"_top\" title=\"psysml:356b088d-f058-4498-8151-02a64d9c5f99\" xlink:actuate=\"onRequest\" xlink:href=\"psysml:356b088d-f058-4498-8151-02a64d9c5f99\" xlink:show=\"new\" xlink:title=\"psysml:356b088d-f058-4498-8151-02a64d9c5f99\" xlink:type=\"simple\"><path d=\"M109.1,335.39 C114.63,337.55 120.73,339.92 126.98,342.36 \" fill=\"none\" id=\"E5-to-E2\" style=\"stroke:#181818;stroke-width:1.0;\"/><polygon fill=\"#FFFFFF\" points=\"145.77,349.68,125.525,349.3056,130.607,336.2605,145.77,349.68\" style=\"stroke:#181818;stroke-width:1.0;\"/><ellipse cx=\"120.9398\" cy=\"345.3729\" fill=\"#181818\" rx=\"2\" ry=\"2\" style=\"stroke:#181818;stroke-width:1.0;\"/><ellipse cx=\"124.5698\" cy=\"336.055\" fill=\"#181818\" rx=\"2\" ry=\"2\" style=\"stroke:#181818;stroke-width:1.0;\"/></a></g><!--MD5=[2351f337d6de0f557b50152ba70847b5]\n",
       "link E6 to E2--><g id=\"link_E6_E2\"><a href=\"psysml:849948e9-2a63-47c9-a787-96ae36e28ef0\" target=\"_top\" title=\"psysml:849948e9-2a63-47c9-a787-96ae36e28ef0\" xlink:actuate=\"onRequest\" xlink:href=\"psysml:849948e9-2a63-47c9-a787-96ae36e28ef0\" xlink:show=\"new\" xlink:title=\"psysml:849948e9-2a63-47c9-a787-96ae36e28ef0\" xlink:type=\"simple\"><path d=\"M109.1,391.85 C114.63,389.76 120.73,387.44 126.98,385.07 \" fill=\"none\" id=\"E6-to-E2\" style=\"stroke:#181818;stroke-width:1.0;\"/><polygon fill=\"#FFFFFF\" points=\"145.77,377.94,130.4919,391.2283,125.5225,378.14,145.77,377.94\" style=\"stroke:#181818;stroke-width:1.0;\"/><ellipse cx=\"124.4532\" cy=\"391.3818\" fill=\"#181818\" rx=\"2\" ry=\"2\" style=\"stroke:#181818;stroke-width:1.0;\"/><ellipse cx=\"120.9036\" cy=\"382.033\" fill=\"#181818\" rx=\"2\" ry=\"2\" style=\"stroke:#181818;stroke-width:1.0;\"/></a></g><!--MD5=[c99a54892c1d8b74be963cc6fbf62d77]\n",
       "@startuml\r\n",
       "skin sysmlbw\r\n",
       "skinparam monochrome true\r\n",
       "skinparam wrapWidth 300\r\n",
       "hide circle\r\n",
       "left to right direction\r\n",
       "skinparam ranksep 10\r\n",
       "skinparam rectangle {\r\n",
       " backgroundColor<<block>> LightGreen\r\n",
       "}\r\n",
       "\r\n",
       "package \"MultiplicityTest\" as E1  [[psysml:26edc399-ba1b-4e26-98ec-184b2d561983 ]]  {\r\n",
       "rec def \"P\" as E2  <<(T,blue) part  def>> [[psysml:a78c9232-7355-4122-98e1-61ea033b6fbd ]] {\r\n",
       "}\r\n",
       "comp usage \"n: Integer  \" as E3  <<(T,blue) attribute>> [[psysml:6e5bcad0-e721-42f0-8965-8cf810de127c ]] {\r\n",
       "##//values//##\r\n",
       " <U+003D> 5\r\n",
       "}\r\n",
       "rec usage \"a\" as E4 [[psysml:58ca86c4-6609-462b-9948-87aadb08d281 ]] {\r\n",
       "}\r\n",
       "rec usage \"b: P\" as E5 [[psysml:8959fced-ddce-434c-832c-e17faa00a5de ]] {\r\n",
       "}\r\n",
       "rec usage \"c: P\" as E6 [[psysml:4ac8fd09-bbc3-4ec3-ba18-7592ef56bccd ]] {\r\n",
       "}\r\n",
       "rec usage \"d\" as E7 [[psysml:58aa0206-e878-4c1d-8c3a-c879ca6e4b13 ]] {\r\n",
       "}\r\n",
       "rec usage \"e\" as E8 [[psysml:21978b5e-874b-4020-b12b-41f872f49c78 ]] {\r\n",
       "}\r\n",
       "rec usage \"f\" as E9 [[psysml:79f00190-11a9-479d-9f29-e880a27768bf ]] {\r\n",
       "}\r\n",
       "rec usage \"g\" as E10 [[psysml:3e79cc57-1ff4-4d61-ad54-8c0f8362d5da ]] {\r\n",
       "}\r\n",
       "def \"A\" as E11  <<(T,blue) attribute  def>> [[psysml:cae84388-2b2f-4b61-9caf-e3201f6c4bb4 ]] \r\n",
       "}\r\n",
       "E5 - -:|> E2 [[psysml:356b088d-f058-4498-8151-02a64d9c5f99 ]] \r\n",
       "E6 - -:|> E2 [[psysml:849948e9-2a63-47c9-a787-96ae36e28ef0 ]] \r\n",
       "@enduml\r\n",
       "\n",
       "PlantUML version 1.2022.7(Mon Aug 22 17:01:30 UTC 2022)\n",
       "(EPL source distribution)\n",
       "Java Runtime: OpenJDK Runtime Environment\n",
       "JVM: OpenJDK 64-Bit Server VM\n",
       "Default Encoding: UTF-8\n",
       "Language: en\n",
       "Country: null\n",
       "--></g></svg>"
      ]
     },
     "execution_count": 19,
     "metadata": {},
     "output_type": "execute_result"
    }
   ],
   "source": [
    "%viz --style=\"LR\" --view=\"Interconnection\" \"MultiplicityTest\""
   ]
  },
  {
   "cell_type": "code",
   "execution_count": 20,
   "id": "5ae3a61b",
   "metadata": {
    "execution": {
     "iopub.execute_input": "2024-12-16T03:27:05.602251Z",
     "iopub.status.busy": "2024-12-16T03:27:05.602046Z",
     "iopub.status.idle": "2024-12-16T03:27:05.610462Z",
     "shell.execute_reply": "2024-12-16T03:27:05.610268Z"
    }
   },
   "outputs": [
    {
     "data": {
      "image/svg+xml": [
       "<?xml version=\"1.0\" encoding=\"UTF-8\" standalone=\"no\"?><svg xmlns=\"http://www.w3.org/2000/svg\" xmlns:xlink=\"http://www.w3.org/1999/xlink\" contentStyleType=\"text/css\" height=\"10px\" preserveAspectRatio=\"none\" style=\"width:10px;height:10px;background:#FFFFFF;\" version=\"1.1\" viewBox=\"0 0 10 10\" width=\"10px\" zoomAndPan=\"magnify\"><defs/><g><!--MD5=[a45826aa31d3f335355a0e6fe4d8f867]\n",
       "@startuml\r\n",
       "skin sysmlbw\r\n",
       "skinparam monochrome true\r\n",
       "skinparam wrapWidth 300\r\n",
       "hide circle\r\n",
       "left to right direction\r\n",
       "skinparam ranksep 8\r\n",
       "\r\n",
       "@enduml\r\n",
       "\n",
       "PlantUML version 1.2022.7(Mon Aug 22 17:01:30 UTC 2022)\n",
       "(EPL source distribution)\n",
       "Java Runtime: OpenJDK Runtime Environment\n",
       "JVM: OpenJDK 64-Bit Server VM\n",
       "Default Encoding: UTF-8\n",
       "Language: en\n",
       "Country: null\n",
       "--></g></svg>"
      ]
     },
     "execution_count": 20,
     "metadata": {},
     "output_type": "execute_result"
    }
   ],
   "source": [
    "%viz --style=\"LR\" --view=\"Action\" \"MultiplicityTest\""
   ]
  },
  {
   "cell_type": "code",
   "execution_count": 21,
   "id": "f7fad3c2",
   "metadata": {
    "execution": {
     "iopub.execute_input": "2024-12-16T03:27:05.661388Z",
     "iopub.status.busy": "2024-12-16T03:27:05.661130Z",
     "iopub.status.idle": "2024-12-16T03:27:05.668709Z",
     "shell.execute_reply": "2024-12-16T03:27:05.668513Z"
    }
   },
   "outputs": [
    {
     "data": {
      "image/svg+xml": [
       "<?xml version=\"1.0\" encoding=\"UTF-8\" standalone=\"no\"?><svg xmlns=\"http://www.w3.org/2000/svg\" xmlns:xlink=\"http://www.w3.org/1999/xlink\" contentStyleType=\"text/css\" height=\"10px\" preserveAspectRatio=\"none\" style=\"width:10px;height:10px;background:#FFFFFF;\" version=\"1.1\" viewBox=\"0 0 10 10\" width=\"10px\" zoomAndPan=\"magnify\"><defs/><g><!--MD5=[3d7abb46b795db4c9d99c7acf425de78]\n",
       "@startuml\r\n",
       "skin sysmlbw\r\n",
       "skinparam monochrome true\r\n",
       "skinparam wrapWidth 300\r\n",
       "hide circle\r\n",
       "left to right direction\r\n",
       "skinparam roundcorner 20\r\n",
       "skinparam BoxPadding 20\r\n",
       "skinparam SequenceBoxBackgroundColor #white\r\n",
       "skinparam style strictuml\r\n",
       "skinparam maxMessageSize 100\r\n",
       "\r\n",
       "@enduml\r\n",
       "\n",
       "PlantUML version 1.2022.7(Mon Aug 22 17:01:30 UTC 2022)\n",
       "(EPL source distribution)\n",
       "Java Runtime: OpenJDK Runtime Environment\n",
       "JVM: OpenJDK 64-Bit Server VM\n",
       "Default Encoding: UTF-8\n",
       "Language: en\n",
       "Country: null\n",
       "--></g></svg>"
      ]
     },
     "execution_count": 21,
     "metadata": {},
     "output_type": "execute_result"
    }
   ],
   "source": [
    "%viz --style=\"LR\" --view=\"Sequence\" \"MultiplicityTest\""
   ]
  },
  {
   "cell_type": "code",
   "execution_count": 22,
   "id": "9895becf",
   "metadata": {
    "execution": {
     "iopub.execute_input": "2024-12-16T03:27:05.725883Z",
     "iopub.status.busy": "2024-12-16T03:27:05.725640Z",
     "iopub.status.idle": "2024-12-16T03:27:05.758715Z",
     "shell.execute_reply": "2024-12-16T03:27:05.757813Z"
    }
   },
   "outputs": [
    {
     "data": {
      "image/svg+xml": [
       "<?xml version=\"1.0\" encoding=\"UTF-8\" standalone=\"no\"?><svg xmlns=\"http://www.w3.org/2000/svg\" xmlns:xlink=\"http://www.w3.org/1999/xlink\" contentStyleType=\"text/css\" height=\"847px\" preserveAspectRatio=\"none\" style=\"width:294px;height:847px;background:#FFFFFF;\" version=\"1.1\" viewBox=\"0 0 294 847\" width=\"294px\" zoomAndPan=\"magnify\"><defs/><g><!--MD5=[fbc87193dbaf4d95561dea2c320d4a47]\n",
       "cluster E1--><g id=\"cluster_E1\"><a href=\"psysml:26edc399-ba1b-4e26-98ec-184b2d561983\" target=\"_top\" title=\"psysml:26edc399-ba1b-4e26-98ec-184b2d561983\" xlink:actuate=\"onRequest\" xlink:href=\"psysml:26edc399-ba1b-4e26-98ec-184b2d561983\" xlink:show=\"new\" xlink:title=\"psysml:26edc399-ba1b-4e26-98ec-184b2d561983\" xlink:type=\"simple\"><polygon fill=\"none\" points=\"16,6,130,6,137,28.2969,277,28.2969,277,840,16,840,16,6\" style=\"stroke:#000000;stroke-width:1.5;\"/><line style=\"stroke:#000000;stroke-width:1.5;\" x1=\"16\" x2=\"137\" y1=\"28.2969\" y2=\"28.2969\"/><text fill=\"#000000\" font-family=\"sans-serif\" font-size=\"14\" font-weight=\"bold\" lengthAdjust=\"spacing\" textLength=\"108\" x=\"20\" y=\"20.9951\">MultiplicityTest</text></a></g><!--MD5=[b4997ac47864f28c2f74865a473b2911]\n",
       "class E2--><a href=\"psysml:a78c9232-7355-4122-98e1-61ea033b6fbd\" target=\"_top\" title=\"psysml:a78c9232-7355-4122-98e1-61ea033b6fbd\" xlink:actuate=\"onRequest\" xlink:href=\"psysml:a78c9232-7355-4122-98e1-61ea033b6fbd\" xlink:show=\"new\" xlink:title=\"psysml:a78c9232-7355-4122-98e1-61ea033b6fbd\" xlink:type=\"simple\"><g id=\"elem_E2\"><rect fill=\"#FFFFFF\" height=\"48.2656\" id=\"E2\" style=\"stroke:#181818;stroke-width:0.5;\" width=\"70\" x=\"191\" y=\"276\"/><text fill=\"#000000\" font-family=\"sans-serif\" font-size=\"12\" font-style=\"italic\" lengthAdjust=\"spacing\" textLength=\"68\" x=\"192\" y=\"292.1387\">«part  def»</text><text fill=\"#000000\" font-family=\"sans-serif\" font-size=\"14\" lengthAdjust=\"spacing\" textLength=\"9\" x=\"221.5\" y=\"307.9639\">P</text><line style=\"stroke:#181818;stroke-width:0.5;\" x1=\"192\" x2=\"260\" y1=\"316.2656\" y2=\"316.2656\"/></g></a><!--MD5=[09b614a08d8cba4a07c9adeb5e0fee81]\n",
       "class E3--><a href=\"psysml:6e5bcad0-e721-42f0-8965-8cf810de127c\" target=\"_top\" title=\"psysml:6e5bcad0-e721-42f0-8965-8cf810de127c\" xlink:actuate=\"onRequest\" xlink:href=\"psysml:6e5bcad0-e721-42f0-8965-8cf810de127c\" xlink:show=\"new\" xlink:title=\"psysml:6e5bcad0-e721-42f0-8965-8cf810de127c\" xlink:type=\"simple\"><g id=\"elem_E3\"><rect fill=\"#FFFFFF\" height=\"75.0813\" id=\"E3\" rx=\"10\" ry=\"10\" style=\"stroke:#181818;stroke-width:0.5;\" width=\"81\" x=\"41\" y=\"40.5\"/><text fill=\"#000000\" font-family=\"sans-serif\" font-size=\"12\" font-style=\"italic\" lengthAdjust=\"spacing\" textLength=\"69\" x=\"47\" y=\"56.6387\">«attribute»</text><text fill=\"#000000\" font-family=\"sans-serif\" font-size=\"14\" lengthAdjust=\"spacing\" textLength=\"67\" x=\"44\" y=\"72.4639\">n: Integer</text><line style=\"stroke:#181818;stroke-width:0.5;\" x1=\"42\" x2=\"121\" y1=\"80.7656\" y2=\"80.7656\"/><text fill=\"#000000\" font-family=\"sans-serif\" font-size=\"14\" lengthAdjust=\"spacing\" textLength=\"25\" x=\"47\" y=\"108.2795\">= 5</text><text fill=\"#000000\" font-family=\"sans-serif\" font-size=\"14\" font-style=\"italic\" lengthAdjust=\"spacing\" textLength=\"44\" x=\"59.5\" y=\"93.1123\">values</text></g></a><!--MD5=[ebbe1d658d1005bcc118a6aa81145e00]\n",
       "class E4--><a href=\"psysml:58ca86c4-6609-462b-9948-87aadb08d281\" target=\"_top\" title=\"psysml:58ca86c4-6609-462b-9948-87aadb08d281\" xlink:actuate=\"onRequest\" xlink:href=\"psysml:58ca86c4-6609-462b-9948-87aadb08d281\" xlink:show=\"new\" xlink:title=\"psysml:58ca86c4-6609-462b-9948-87aadb08d281\" xlink:type=\"simple\"><g id=\"elem_E4\"><rect fill=\"#FFFFFF\" height=\"48.2656\" id=\"E4\" rx=\"10\" ry=\"10\" style=\"stroke:#181818;stroke-width:0.5;\" width=\"42\" x=\"60.5\" y=\"151\"/><text fill=\"#000000\" font-family=\"sans-serif\" font-size=\"12\" font-style=\"italic\" lengthAdjust=\"spacing\" textLength=\"40\" x=\"61.5\" y=\"167.1387\">«part»</text><text fill=\"#000000\" font-family=\"sans-serif\" font-size=\"14\" lengthAdjust=\"spacing\" textLength=\"8\" x=\"73.5\" y=\"182.9639\">a</text><line style=\"stroke:#181818;stroke-width:0.5;\" x1=\"61.5\" x2=\"101.5\" y1=\"191.2656\" y2=\"191.2656\"/></g></a><!--MD5=[270fce915f116d4de14055a7c1d9a0f3]\n",
       "class E5--><a href=\"psysml:8959fced-ddce-434c-832c-e17faa00a5de\" target=\"_top\" title=\"psysml:8959fced-ddce-434c-832c-e17faa00a5de\" xlink:actuate=\"onRequest\" xlink:href=\"psysml:8959fced-ddce-434c-832c-e17faa00a5de\" xlink:show=\"new\" xlink:title=\"psysml:8959fced-ddce-434c-832c-e17faa00a5de\" xlink:type=\"simple\"><g id=\"elem_E5\"><rect fill=\"#FFFFFF\" height=\"48.2656\" id=\"E5\" rx=\"10\" ry=\"10\" style=\"stroke:#181818;stroke-width:0.5;\" width=\"42\" x=\"60.5\" y=\"234\"/><text fill=\"#000000\" font-family=\"sans-serif\" font-size=\"12\" font-style=\"italic\" lengthAdjust=\"spacing\" textLength=\"40\" x=\"61.5\" y=\"250.1387\">«part»</text><text fill=\"#000000\" font-family=\"sans-serif\" font-size=\"14\" lengthAdjust=\"spacing\" textLength=\"27\" x=\"64\" y=\"265.9639\">b: P</text><line style=\"stroke:#181818;stroke-width:0.5;\" x1=\"61.5\" x2=\"101.5\" y1=\"274.2656\" y2=\"274.2656\"/></g></a><!--MD5=[60a26617385b1d2d0262a64233df1f8d]\n",
       "class E6--><a href=\"psysml:4ac8fd09-bbc3-4ec3-ba18-7592ef56bccd\" target=\"_top\" title=\"psysml:4ac8fd09-bbc3-4ec3-ba18-7592ef56bccd\" xlink:actuate=\"onRequest\" xlink:href=\"psysml:4ac8fd09-bbc3-4ec3-ba18-7592ef56bccd\" xlink:show=\"new\" xlink:title=\"psysml:4ac8fd09-bbc3-4ec3-ba18-7592ef56bccd\" xlink:type=\"simple\"><g id=\"elem_E6\"><rect fill=\"#FFFFFF\" height=\"48.2656\" id=\"E6\" rx=\"10\" ry=\"10\" style=\"stroke:#181818;stroke-width:0.5;\" width=\"42\" x=\"60.5\" y=\"317\"/><text fill=\"#000000\" font-family=\"sans-serif\" font-size=\"12\" font-style=\"italic\" lengthAdjust=\"spacing\" textLength=\"40\" x=\"61.5\" y=\"333.1387\">«part»</text><text fill=\"#000000\" font-family=\"sans-serif\" font-size=\"14\" lengthAdjust=\"spacing\" textLength=\"26\" x=\"64.5\" y=\"348.9639\">c: P</text><line style=\"stroke:#181818;stroke-width:0.5;\" x1=\"61.5\" x2=\"101.5\" y1=\"357.2656\" y2=\"357.2656\"/></g></a><!--MD5=[2156ba9850f5573cc1fc38a6a4b2f02b]\n",
       "class E7--><a href=\"psysml:58aa0206-e878-4c1d-8c3a-c879ca6e4b13\" target=\"_top\" title=\"psysml:58aa0206-e878-4c1d-8c3a-c879ca6e4b13\" xlink:actuate=\"onRequest\" xlink:href=\"psysml:58aa0206-e878-4c1d-8c3a-c879ca6e4b13\" xlink:show=\"new\" xlink:title=\"psysml:58aa0206-e878-4c1d-8c3a-c879ca6e4b13\" xlink:type=\"simple\"><g id=\"elem_E7\"><rect fill=\"#FFFFFF\" height=\"48.2656\" id=\"E7\" rx=\"10\" ry=\"10\" style=\"stroke:#181818;stroke-width:0.5;\" width=\"42\" x=\"60.5\" y=\"400\"/><text fill=\"#000000\" font-family=\"sans-serif\" font-size=\"12\" font-style=\"italic\" lengthAdjust=\"spacing\" textLength=\"40\" x=\"61.5\" y=\"416.1387\">«part»</text><text fill=\"#000000\" font-family=\"sans-serif\" font-size=\"14\" lengthAdjust=\"spacing\" textLength=\"9\" x=\"73\" y=\"431.9639\">d</text><line style=\"stroke:#181818;stroke-width:0.5;\" x1=\"61.5\" x2=\"101.5\" y1=\"440.2656\" y2=\"440.2656\"/></g></a><!--MD5=[b9389687b975829384b498ac4b7476b2]\n",
       "class E8--><a href=\"psysml:21978b5e-874b-4020-b12b-41f872f49c78\" target=\"_top\" title=\"psysml:21978b5e-874b-4020-b12b-41f872f49c78\" xlink:actuate=\"onRequest\" xlink:href=\"psysml:21978b5e-874b-4020-b12b-41f872f49c78\" xlink:show=\"new\" xlink:title=\"psysml:21978b5e-874b-4020-b12b-41f872f49c78\" xlink:type=\"simple\"><g id=\"elem_E8\"><rect fill=\"#FFFFFF\" height=\"48.2656\" id=\"E8\" rx=\"10\" ry=\"10\" style=\"stroke:#181818;stroke-width:0.5;\" width=\"42\" x=\"60.5\" y=\"483\"/><text fill=\"#000000\" font-family=\"sans-serif\" font-size=\"12\" font-style=\"italic\" lengthAdjust=\"spacing\" textLength=\"40\" x=\"61.5\" y=\"499.1387\">«part»</text><text fill=\"#000000\" font-family=\"sans-serif\" font-size=\"14\" lengthAdjust=\"spacing\" textLength=\"9\" x=\"73\" y=\"514.9639\">e</text><line style=\"stroke:#181818;stroke-width:0.5;\" x1=\"61.5\" x2=\"101.5\" y1=\"523.2656\" y2=\"523.2656\"/></g></a><!--MD5=[fd4143e9d270a159db93a4ea2a975926]\n",
       "class E9--><a href=\"psysml:79f00190-11a9-479d-9f29-e880a27768bf\" target=\"_top\" title=\"psysml:79f00190-11a9-479d-9f29-e880a27768bf\" xlink:actuate=\"onRequest\" xlink:href=\"psysml:79f00190-11a9-479d-9f29-e880a27768bf\" xlink:show=\"new\" xlink:title=\"psysml:79f00190-11a9-479d-9f29-e880a27768bf\" xlink:type=\"simple\"><g id=\"elem_E9\"><rect fill=\"#FFFFFF\" height=\"48.2656\" id=\"E9\" rx=\"10\" ry=\"10\" style=\"stroke:#181818;stroke-width:0.5;\" width=\"42\" x=\"60.5\" y=\"566\"/><text fill=\"#000000\" font-family=\"sans-serif\" font-size=\"12\" font-style=\"italic\" lengthAdjust=\"spacing\" textLength=\"40\" x=\"61.5\" y=\"582.1387\">«part»</text><text fill=\"#000000\" font-family=\"sans-serif\" font-size=\"14\" lengthAdjust=\"spacing\" textLength=\"4\" x=\"75.5\" y=\"597.9639\">f</text><line style=\"stroke:#181818;stroke-width:0.5;\" x1=\"61.5\" x2=\"101.5\" y1=\"606.2656\" y2=\"606.2656\"/></g></a><!--MD5=[96f4274e9e20536e775497830990834d]\n",
       "class E10--><a href=\"psysml:3e79cc57-1ff4-4d61-ad54-8c0f8362d5da\" target=\"_top\" title=\"psysml:3e79cc57-1ff4-4d61-ad54-8c0f8362d5da\" xlink:actuate=\"onRequest\" xlink:href=\"psysml:3e79cc57-1ff4-4d61-ad54-8c0f8362d5da\" xlink:show=\"new\" xlink:title=\"psysml:3e79cc57-1ff4-4d61-ad54-8c0f8362d5da\" xlink:type=\"simple\"><g id=\"elem_E10\"><rect fill=\"#FFFFFF\" height=\"48.2656\" id=\"E10\" rx=\"10\" ry=\"10\" style=\"stroke:#181818;stroke-width:0.5;\" width=\"42\" x=\"60.5\" y=\"649\"/><text fill=\"#000000\" font-family=\"sans-serif\" font-size=\"12\" font-style=\"italic\" lengthAdjust=\"spacing\" textLength=\"40\" x=\"61.5\" y=\"665.1387\">«part»</text><text fill=\"#000000\" font-family=\"sans-serif\" font-size=\"14\" lengthAdjust=\"spacing\" textLength=\"9\" x=\"73\" y=\"680.9639\">g</text><line style=\"stroke:#181818;stroke-width:0.5;\" x1=\"61.5\" x2=\"101.5\" y1=\"689.2656\" y2=\"689.2656\"/></g></a><!--MD5=[1dd1bfd58a279cf63c5f349dbc8fc6a1]\n",
       "class E11--><a href=\"psysml:cae84388-2b2f-4b61-9caf-e3201f6c4bb4\" target=\"_top\" title=\"psysml:cae84388-2b2f-4b61-9caf-e3201f6c4bb4\" xlink:actuate=\"onRequest\" xlink:href=\"psysml:cae84388-2b2f-4b61-9caf-e3201f6c4bb4\" xlink:show=\"new\" xlink:title=\"psysml:cae84388-2b2f-4b61-9caf-e3201f6c4bb4\" xlink:type=\"simple\"><g id=\"elem_E11\"><rect fill=\"#FFFFFF\" height=\"91.3781\" id=\"E11\" style=\"stroke:#181818;stroke-width:0.5;\" width=\"99\" x=\"32\" y=\"732.5\"/><text fill=\"#000000\" font-family=\"sans-serif\" font-size=\"12\" font-style=\"italic\" lengthAdjust=\"spacing\" textLength=\"97\" x=\"33\" y=\"748.6387\">«attribute  def»</text><text fill=\"#000000\" font-family=\"sans-serif\" font-size=\"14\" lengthAdjust=\"spacing\" textLength=\"9\" x=\"77\" y=\"764.4639\">A</text><line style=\"stroke:#181818;stroke-width:0.5;\" x1=\"33\" x2=\"130\" y1=\"772.7656\" y2=\"772.7656\"/><text fill=\"#000000\" font-family=\"sans-serif\" font-size=\"14\" lengthAdjust=\"spacing\" textLength=\"61\" x=\"38\" y=\"800.2795\">i: Integer</text><text fill=\"#000000\" font-family=\"sans-serif\" font-size=\"14\" lengthAdjust=\"spacing\" textLength=\"25\" x=\"38\" y=\"816.5764\">x: A</text><text fill=\"#000000\" font-family=\"sans-serif\" font-size=\"14\" font-style=\"italic\" lengthAdjust=\"spacing\" textLength=\"66\" x=\"48.5\" y=\"785.1123\">attributes</text></g></a><!--MD5=[15ebcb19ae302d9b601edb458606d402]\n",
       "link E5 to E2--><g id=\"link_E5_E2\"><a href=\"psysml:356b088d-f058-4498-8151-02a64d9c5f99\" target=\"_top\" title=\"psysml:356b088d-f058-4498-8151-02a64d9c5f99\" xlink:actuate=\"onRequest\" xlink:href=\"psysml:356b088d-f058-4498-8151-02a64d9c5f99\" xlink:show=\"new\" xlink:title=\"psysml:356b088d-f058-4498-8151-02a64d9c5f99\" xlink:type=\"simple\"><path d=\"M102.61,263.93 C120.54,269.21 147.58,277.18 171.69,284.29 \" fill=\"none\" id=\"E5-to-E2\" style=\"stroke:#181818;stroke-width:1.0;\"/><polygon fill=\"#FFFFFF\" points=\"190.99,289.98,170.7869,291.3344,174.7372,277.9033,190.99,289.98\" style=\"stroke:#181818;stroke-width:1.0;\"/><ellipse cx=\"165.8828\" cy=\"287.8073\" fill=\"#181818\" rx=\"2\" ry=\"2\" style=\"stroke:#181818;stroke-width:1.0;\"/><ellipse cx=\"168.7045\" cy=\"278.2137\" fill=\"#181818\" rx=\"2\" ry=\"2\" style=\"stroke:#181818;stroke-width:1.0;\"/></a></g><!--MD5=[2351f337d6de0f557b50152ba70847b5]\n",
       "link E6 to E2--><g id=\"link_E6_E2\"><a href=\"psysml:849948e9-2a63-47c9-a787-96ae36e28ef0\" target=\"_top\" title=\"psysml:849948e9-2a63-47c9-a787-96ae36e28ef0\" xlink:actuate=\"onRequest\" xlink:href=\"psysml:849948e9-2a63-47c9-a787-96ae36e28ef0\" xlink:show=\"new\" xlink:title=\"psysml:849948e9-2a63-47c9-a787-96ae36e28ef0\" xlink:type=\"simple\"><path d=\"M102.61,335.21 C120.54,330.06 147.58,322.28 171.69,315.34 \" fill=\"none\" id=\"E6-to-E2\" style=\"stroke:#181818;stroke-width:1.0;\"/><polygon fill=\"#FFFFFF\" points=\"190.99,309.79,174.6746,321.782,170.7942,308.3306,190.99,309.79\" style=\"stroke:#181818;stroke-width:1.0;\"/><ellipse cx=\"168.6436\" cy=\"321.4403\" fill=\"#181818\" rx=\"2\" ry=\"2\" style=\"stroke:#181818;stroke-width:1.0;\"/><ellipse cx=\"165.8719\" cy=\"311.8321\" fill=\"#181818\" rx=\"2\" ry=\"2\" style=\"stroke:#181818;stroke-width:1.0;\"/></a></g><!--MD5=[b8dd0c7774bf2e43a4cbaab790f9f09c]\n",
       "@startuml\r\n",
       "skin sysmlbw\r\n",
       "skinparam monochrome true\r\n",
       "skinparam wrapWidth 300\r\n",
       "hide circle\r\n",
       "left to right direction\r\n",
       "\r\n",
       "package \"MultiplicityTest\" as E1  [[psysml:26edc399-ba1b-4e26-98ec-184b2d561983 ]]  {\r\n",
       "comp def \"P\" as E2  <<(T,blue) part  def>> [[psysml:a78c9232-7355-4122-98e1-61ea033b6fbd ]] {\r\n",
       "}\r\n",
       "comp usage \"n: Integer  \" as E3  <<(T,blue) attribute>> [[psysml:6e5bcad0-e721-42f0-8965-8cf810de127c ]] {\r\n",
       "##//values//##\r\n",
       " <U+003D> 5\r\n",
       "}\r\n",
       "comp usage \"a  \" as E4  <<(T,blue) part>> [[psysml:58ca86c4-6609-462b-9948-87aadb08d281 ]] {\r\n",
       "}\r\n",
       "comp usage \"b: P  \" as E5  <<(T,blue) part>> [[psysml:8959fced-ddce-434c-832c-e17faa00a5de ]] {\r\n",
       "}\r\n",
       "comp usage \"c: P  \" as E6  <<(T,blue) part>> [[psysml:4ac8fd09-bbc3-4ec3-ba18-7592ef56bccd ]] {\r\n",
       "}\r\n",
       "comp usage \"d  \" as E7  <<(T,blue) part>> [[psysml:58aa0206-e878-4c1d-8c3a-c879ca6e4b13 ]] {\r\n",
       "}\r\n",
       "comp usage \"e  \" as E8  <<(T,blue) part>> [[psysml:21978b5e-874b-4020-b12b-41f872f49c78 ]] {\r\n",
       "}\r\n",
       "comp usage \"f  \" as E9  <<(T,blue) part>> [[psysml:79f00190-11a9-479d-9f29-e880a27768bf ]] {\r\n",
       "}\r\n",
       "comp usage \"g  \" as E10  <<(T,blue) part>> [[psysml:3e79cc57-1ff4-4d61-ad54-8c0f8362d5da ]] {\r\n",
       "}\r\n",
       "comp def \"A\" as E11  <<(T,blue) attribute  def>> [[psysml:cae84388-2b2f-4b61-9caf-e3201f6c4bb4 ]] {\r\n",
       "##//attributes//##\r\n",
       "i: Integer\r\n",
       "x: A\r\n",
       "}\r\n",
       "}\r\n",
       "E5 - -:|> E2 [[psysml:356b088d-f058-4498-8151-02a64d9c5f99 ]] \r\n",
       "E6 - -:|> E2 [[psysml:849948e9-2a63-47c9-a787-96ae36e28ef0 ]] \r\n",
       "@enduml\r\n",
       "\n",
       "PlantUML version 1.2022.7(Mon Aug 22 17:01:30 UTC 2022)\n",
       "(EPL source distribution)\n",
       "Java Runtime: OpenJDK Runtime Environment\n",
       "JVM: OpenJDK 64-Bit Server VM\n",
       "Default Encoding: UTF-8\n",
       "Language: en\n",
       "Country: null\n",
       "--></g></svg>"
      ]
     },
     "execution_count": 22,
     "metadata": {},
     "output_type": "execute_result"
    }
   ],
   "source": [
    "%viz --style=\"LR\" --view=\"MIXED\" \"MultiplicityTest\""
   ]
  },
  {
   "cell_type": "code",
   "execution_count": 23,
   "id": "3f189c78",
   "metadata": {
    "execution": {
     "iopub.execute_input": "2024-12-16T03:27:05.814307Z",
     "iopub.status.busy": "2024-12-16T03:27:05.814083Z",
     "iopub.status.idle": "2024-12-16T03:27:05.843539Z",
     "shell.execute_reply": "2024-12-16T03:27:05.842680Z"
    }
   },
   "outputs": [
    {
     "data": {
      "image/svg+xml": [
       "<?xml version=\"1.0\" encoding=\"UTF-8\" standalone=\"no\"?><svg xmlns=\"http://www.w3.org/2000/svg\" xmlns:xlink=\"http://www.w3.org/1999/xlink\" contentStyleType=\"text/css\" height=\"263px\" preserveAspectRatio=\"none\" style=\"width:821px;height:263px;background:#FFFFFF;\" version=\"1.1\" viewBox=\"0 0 821 263\" width=\"821px\" zoomAndPan=\"magnify\"><defs><filter height=\"300%\" id=\"fhwomi4tyyr9q\" width=\"300%\" x=\"-1\" y=\"-1\"><feGaussianBlur result=\"blurOut\" stdDeviation=\"2.0\"/><feColorMatrix in=\"blurOut\" result=\"blurOut2\" type=\"matrix\" values=\"0 0 0 0 0 0 0 0 0 0 0 0 0 0 0 0 0 0 .4 0\"/><feOffset dx=\"4.0\" dy=\"4.0\" in=\"blurOut2\" result=\"blurOut3\"/><feBlend in=\"SourceGraphic\" in2=\"blurOut3\" mode=\"normal\"/></filter></defs><g><!--MD5=[fbc87193dbaf4d95561dea2c320d4a47]\n",
       "cluster E1--><g id=\"cluster_E1\"><a href=\"psysml:26edc399-ba1b-4e26-98ec-184b2d561983\" target=\"_top\" title=\"psysml:26edc399-ba1b-4e26-98ec-184b2d561983\" xlink:actuate=\"onRequest\" xlink:href=\"psysml:26edc399-ba1b-4e26-98ec-184b2d561983\" xlink:show=\"new\" xlink:title=\"psysml:26edc399-ba1b-4e26-98ec-184b2d561983\" xlink:type=\"simple\"><polygon fill=\"none\" filter=\"url(#fhwomi4tyyr9q)\" points=\"16,6,130,6,137,28.2969,804,28.2969,804,256,16,256,16,6\" style=\"stroke:#000000;stroke-width:1.5;\"/><line style=\"stroke:#000000;stroke-width:1.5;\" x1=\"16\" x2=\"137\" y1=\"28.2969\" y2=\"28.2969\"/><text fill=\"#000000\" font-family=\"sans-serif\" font-size=\"14\" font-weight=\"bold\" lengthAdjust=\"spacing\" textLength=\"108\" x=\"20\" y=\"20.9951\">MultiplicityTest</text></a></g><!--MD5=[b4997ac47864f28c2f74865a473b2911]\n",
       "class E2--><a href=\"psysml:a78c9232-7355-4122-98e1-61ea033b6fbd\" target=\"_top\" title=\"psysml:a78c9232-7355-4122-98e1-61ea033b6fbd\" xlink:actuate=\"onRequest\" xlink:href=\"psysml:a78c9232-7355-4122-98e1-61ea033b6fbd\" xlink:show=\"new\" xlink:title=\"psysml:a78c9232-7355-4122-98e1-61ea033b6fbd\" xlink:type=\"simple\"><g id=\"elem_E2\"><rect fill=\"#FFFACD\" filter=\"url(#fhwomi4tyyr9q)\" height=\"48.2656\" id=\"E2\" style=\"stroke:#181818;stroke-width:0.5;\" width=\"70\" x=\"499\" y=\"192\"/><text fill=\"#000000\" font-family=\"sans-serif\" font-size=\"12\" font-style=\"italic\" lengthAdjust=\"spacing\" textLength=\"68\" x=\"500\" y=\"208.1387\">«part  def»</text><text fill=\"#000000\" font-family=\"sans-serif\" font-size=\"14\" lengthAdjust=\"spacing\" textLength=\"9\" x=\"529.5\" y=\"223.9639\">P</text><line style=\"stroke:#181818;stroke-width:0.5;\" x1=\"500\" x2=\"568\" y1=\"232.2656\" y2=\"232.2656\"/></g></a><!--MD5=[09b614a08d8cba4a07c9adeb5e0fee81]\n",
       "class E3--><a href=\"psysml:6e5bcad0-e721-42f0-8965-8cf810de127c\" target=\"_top\" title=\"psysml:6e5bcad0-e721-42f0-8965-8cf810de127c\" xlink:actuate=\"onRequest\" xlink:href=\"psysml:6e5bcad0-e721-42f0-8965-8cf810de127c\" xlink:show=\"new\" xlink:title=\"psysml:6e5bcad0-e721-42f0-8965-8cf810de127c\" xlink:type=\"simple\"><g id=\"elem_E3\"><rect fill=\"#FFFACD\" filter=\"url(#fhwomi4tyyr9q)\" height=\"75.0813\" id=\"E3\" rx=\"10\" ry=\"10\" style=\"stroke:#181818;stroke-width:0.5;\" width=\"81\" x=\"706.5\" y=\"49\"/><text fill=\"#000000\" font-family=\"sans-serif\" font-size=\"12\" font-style=\"italic\" lengthAdjust=\"spacing\" textLength=\"69\" x=\"712.5\" y=\"65.1387\">«attribute»</text><text fill=\"#000000\" font-family=\"sans-serif\" font-size=\"14\" lengthAdjust=\"spacing\" textLength=\"67\" x=\"709.5\" y=\"80.9639\">n: Integer</text><line style=\"stroke:#181818;stroke-width:0.5;\" x1=\"707.5\" x2=\"786.5\" y1=\"89.2656\" y2=\"89.2656\"/><text fill=\"#000000\" font-family=\"sans-serif\" font-size=\"14\" lengthAdjust=\"spacing\" textLength=\"25\" x=\"712.5\" y=\"116.7795\">= 5</text><text fill=\"#000000\" font-family=\"sans-serif\" font-size=\"14\" font-style=\"italic\" lengthAdjust=\"spacing\" textLength=\"44\" x=\"725\" y=\"101.6123\">values</text></g></a><!--MD5=[ebbe1d658d1005bcc118a6aa81145e00]\n",
       "class E4--><a href=\"psysml:58ca86c4-6609-462b-9948-87aadb08d281\" target=\"_top\" title=\"psysml:58ca86c4-6609-462b-9948-87aadb08d281\" xlink:actuate=\"onRequest\" xlink:href=\"psysml:58ca86c4-6609-462b-9948-87aadb08d281\" xlink:show=\"new\" xlink:title=\"psysml:58ca86c4-6609-462b-9948-87aadb08d281\" xlink:type=\"simple\"><g id=\"elem_E4\"><rect fill=\"#FFFACD\" filter=\"url(#fhwomi4tyyr9q)\" height=\"48.2656\" id=\"E4\" rx=\"10\" ry=\"10\" style=\"stroke:#181818;stroke-width:0.5;\" width=\"42\" x=\"629\" y=\"62.5\"/><text fill=\"#000000\" font-family=\"sans-serif\" font-size=\"12\" font-style=\"italic\" lengthAdjust=\"spacing\" textLength=\"40\" x=\"630\" y=\"78.6387\">«part»</text><text fill=\"#000000\" font-family=\"sans-serif\" font-size=\"14\" lengthAdjust=\"spacing\" textLength=\"8\" x=\"642\" y=\"94.4639\">a</text><line style=\"stroke:#181818;stroke-width:0.5;\" x1=\"630\" x2=\"670\" y1=\"102.7656\" y2=\"102.7656\"/></g></a><!--MD5=[270fce915f116d4de14055a7c1d9a0f3]\n",
       "class E5--><a href=\"psysml:8959fced-ddce-434c-832c-e17faa00a5de\" target=\"_top\" title=\"psysml:8959fced-ddce-434c-832c-e17faa00a5de\" xlink:actuate=\"onRequest\" xlink:href=\"psysml:8959fced-ddce-434c-832c-e17faa00a5de\" xlink:show=\"new\" xlink:title=\"psysml:8959fced-ddce-434c-832c-e17faa00a5de\" xlink:type=\"simple\"><g id=\"elem_E5\"><rect fill=\"#FFFACD\" filter=\"url(#fhwomi4tyyr9q)\" height=\"48.2656\" id=\"E5\" rx=\"10\" ry=\"10\" style=\"stroke:#181818;stroke-width:0.5;\" width=\"42\" x=\"552\" y=\"62.5\"/><text fill=\"#000000\" font-family=\"sans-serif\" font-size=\"12\" font-style=\"italic\" lengthAdjust=\"spacing\" textLength=\"40\" x=\"553\" y=\"78.6387\">«part»</text><text fill=\"#000000\" font-family=\"sans-serif\" font-size=\"14\" lengthAdjust=\"spacing\" textLength=\"27\" x=\"555.5\" y=\"94.4639\">b: P</text><line style=\"stroke:#181818;stroke-width:0.5;\" x1=\"553\" x2=\"593\" y1=\"102.7656\" y2=\"102.7656\"/></g></a><!--MD5=[60a26617385b1d2d0262a64233df1f8d]\n",
       "class E6--><a href=\"psysml:4ac8fd09-bbc3-4ec3-ba18-7592ef56bccd\" target=\"_top\" title=\"psysml:4ac8fd09-bbc3-4ec3-ba18-7592ef56bccd\" xlink:actuate=\"onRequest\" xlink:href=\"psysml:4ac8fd09-bbc3-4ec3-ba18-7592ef56bccd\" xlink:show=\"new\" xlink:title=\"psysml:4ac8fd09-bbc3-4ec3-ba18-7592ef56bccd\" xlink:type=\"simple\"><g id=\"elem_E6\"><rect fill=\"#FFFACD\" filter=\"url(#fhwomi4tyyr9q)\" height=\"48.2656\" id=\"E6\" rx=\"10\" ry=\"10\" style=\"stroke:#181818;stroke-width:0.5;\" width=\"42\" x=\"475\" y=\"62.5\"/><text fill=\"#000000\" font-family=\"sans-serif\" font-size=\"12\" font-style=\"italic\" lengthAdjust=\"spacing\" textLength=\"40\" x=\"476\" y=\"78.6387\">«part»</text><text fill=\"#000000\" font-family=\"sans-serif\" font-size=\"14\" lengthAdjust=\"spacing\" textLength=\"26\" x=\"479\" y=\"94.4639\">c: P</text><line style=\"stroke:#181818;stroke-width:0.5;\" x1=\"476\" x2=\"516\" y1=\"102.7656\" y2=\"102.7656\"/></g></a><!--MD5=[2156ba9850f5573cc1fc38a6a4b2f02b]\n",
       "class E7--><a href=\"psysml:58aa0206-e878-4c1d-8c3a-c879ca6e4b13\" target=\"_top\" title=\"psysml:58aa0206-e878-4c1d-8c3a-c879ca6e4b13\" xlink:actuate=\"onRequest\" xlink:href=\"psysml:58aa0206-e878-4c1d-8c3a-c879ca6e4b13\" xlink:show=\"new\" xlink:title=\"psysml:58aa0206-e878-4c1d-8c3a-c879ca6e4b13\" xlink:type=\"simple\"><g id=\"elem_E7\"><rect fill=\"#FFFACD\" filter=\"url(#fhwomi4tyyr9q)\" height=\"48.2656\" id=\"E7\" rx=\"10\" ry=\"10\" style=\"stroke:#181818;stroke-width:0.5;\" width=\"42\" x=\"398\" y=\"62.5\"/><text fill=\"#000000\" font-family=\"sans-serif\" font-size=\"12\" font-style=\"italic\" lengthAdjust=\"spacing\" textLength=\"40\" x=\"399\" y=\"78.6387\">«part»</text><text fill=\"#000000\" font-family=\"sans-serif\" font-size=\"14\" lengthAdjust=\"spacing\" textLength=\"9\" x=\"410.5\" y=\"94.4639\">d</text><line style=\"stroke:#181818;stroke-width:0.5;\" x1=\"399\" x2=\"439\" y1=\"102.7656\" y2=\"102.7656\"/></g></a><!--MD5=[b9389687b975829384b498ac4b7476b2]\n",
       "class E8--><a href=\"psysml:21978b5e-874b-4020-b12b-41f872f49c78\" target=\"_top\" title=\"psysml:21978b5e-874b-4020-b12b-41f872f49c78\" xlink:actuate=\"onRequest\" xlink:href=\"psysml:21978b5e-874b-4020-b12b-41f872f49c78\" xlink:show=\"new\" xlink:title=\"psysml:21978b5e-874b-4020-b12b-41f872f49c78\" xlink:type=\"simple\"><g id=\"elem_E8\"><rect fill=\"#FFFACD\" filter=\"url(#fhwomi4tyyr9q)\" height=\"48.2656\" id=\"E8\" rx=\"10\" ry=\"10\" style=\"stroke:#181818;stroke-width:0.5;\" width=\"42\" x=\"321\" y=\"62.5\"/><text fill=\"#000000\" font-family=\"sans-serif\" font-size=\"12\" font-style=\"italic\" lengthAdjust=\"spacing\" textLength=\"40\" x=\"322\" y=\"78.6387\">«part»</text><text fill=\"#000000\" font-family=\"sans-serif\" font-size=\"14\" lengthAdjust=\"spacing\" textLength=\"9\" x=\"333.5\" y=\"94.4639\">e</text><line style=\"stroke:#181818;stroke-width:0.5;\" x1=\"322\" x2=\"362\" y1=\"102.7656\" y2=\"102.7656\"/></g></a><!--MD5=[fd4143e9d270a159db93a4ea2a975926]\n",
       "class E9--><a href=\"psysml:79f00190-11a9-479d-9f29-e880a27768bf\" target=\"_top\" title=\"psysml:79f00190-11a9-479d-9f29-e880a27768bf\" xlink:actuate=\"onRequest\" xlink:href=\"psysml:79f00190-11a9-479d-9f29-e880a27768bf\" xlink:show=\"new\" xlink:title=\"psysml:79f00190-11a9-479d-9f29-e880a27768bf\" xlink:type=\"simple\"><g id=\"elem_E9\"><rect fill=\"#FFFACD\" filter=\"url(#fhwomi4tyyr9q)\" height=\"48.2656\" id=\"E9\" rx=\"10\" ry=\"10\" style=\"stroke:#181818;stroke-width:0.5;\" width=\"42\" x=\"244\" y=\"62.5\"/><text fill=\"#000000\" font-family=\"sans-serif\" font-size=\"12\" font-style=\"italic\" lengthAdjust=\"spacing\" textLength=\"40\" x=\"245\" y=\"78.6387\">«part»</text><text fill=\"#000000\" font-family=\"sans-serif\" font-size=\"14\" lengthAdjust=\"spacing\" textLength=\"4\" x=\"259\" y=\"94.4639\">f</text><line style=\"stroke:#181818;stroke-width:0.5;\" x1=\"245\" x2=\"285\" y1=\"102.7656\" y2=\"102.7656\"/></g></a><!--MD5=[96f4274e9e20536e775497830990834d]\n",
       "class E10--><a href=\"psysml:3e79cc57-1ff4-4d61-ad54-8c0f8362d5da\" target=\"_top\" title=\"psysml:3e79cc57-1ff4-4d61-ad54-8c0f8362d5da\" xlink:actuate=\"onRequest\" xlink:href=\"psysml:3e79cc57-1ff4-4d61-ad54-8c0f8362d5da\" xlink:show=\"new\" xlink:title=\"psysml:3e79cc57-1ff4-4d61-ad54-8c0f8362d5da\" xlink:type=\"simple\"><g id=\"elem_E10\"><rect fill=\"#FFFACD\" filter=\"url(#fhwomi4tyyr9q)\" height=\"48.2656\" id=\"E10\" rx=\"10\" ry=\"10\" style=\"stroke:#181818;stroke-width:0.5;\" width=\"42\" x=\"167\" y=\"62.5\"/><text fill=\"#000000\" font-family=\"sans-serif\" font-size=\"12\" font-style=\"italic\" lengthAdjust=\"spacing\" textLength=\"40\" x=\"168\" y=\"78.6387\">«part»</text><text fill=\"#000000\" font-family=\"sans-serif\" font-size=\"14\" lengthAdjust=\"spacing\" textLength=\"9\" x=\"179.5\" y=\"94.4639\">g</text><line style=\"stroke:#181818;stroke-width:0.5;\" x1=\"168\" x2=\"208\" y1=\"102.7656\" y2=\"102.7656\"/></g></a><!--MD5=[1dd1bfd58a279cf63c5f349dbc8fc6a1]\n",
       "class E11--><a href=\"psysml:cae84388-2b2f-4b61-9caf-e3201f6c4bb4\" target=\"_top\" title=\"psysml:cae84388-2b2f-4b61-9caf-e3201f6c4bb4\" xlink:actuate=\"onRequest\" xlink:href=\"psysml:cae84388-2b2f-4b61-9caf-e3201f6c4bb4\" xlink:show=\"new\" xlink:title=\"psysml:cae84388-2b2f-4b61-9caf-e3201f6c4bb4\" xlink:type=\"simple\"><g id=\"elem_E11\"><rect fill=\"#FFFACD\" filter=\"url(#fhwomi4tyyr9q)\" height=\"91.3781\" id=\"E11\" style=\"stroke:#181818;stroke-width:0.5;\" width=\"99\" x=\"32.5\" y=\"41\"/><text fill=\"#000000\" font-family=\"sans-serif\" font-size=\"12\" font-style=\"italic\" lengthAdjust=\"spacing\" textLength=\"97\" x=\"33.5\" y=\"57.1387\">«attribute  def»</text><text fill=\"#000000\" font-family=\"sans-serif\" font-size=\"14\" lengthAdjust=\"spacing\" textLength=\"9\" x=\"77.5\" y=\"72.9639\">A</text><line style=\"stroke:#181818;stroke-width:0.5;\" x1=\"33.5\" x2=\"130.5\" y1=\"81.2656\" y2=\"81.2656\"/><text fill=\"#000000\" font-family=\"sans-serif\" font-size=\"14\" lengthAdjust=\"spacing\" textLength=\"61\" x=\"38.5\" y=\"108.7795\">i: Integer</text><text fill=\"#000000\" font-family=\"sans-serif\" font-size=\"14\" lengthAdjust=\"spacing\" textLength=\"25\" x=\"38.5\" y=\"125.0764\">x: A</text><text fill=\"#000000\" font-family=\"sans-serif\" font-size=\"14\" font-style=\"italic\" lengthAdjust=\"spacing\" textLength=\"66\" x=\"49\" y=\"93.6123\">attributes</text></g></a><!--MD5=[15ebcb19ae302d9b601edb458606d402]\n",
       "link E5 to E2--><g id=\"link_E5_E2\"><a href=\"psysml:356b088d-f058-4498-8151-02a64d9c5f99\" target=\"_top\" title=\"psysml:356b088d-f058-4498-8151-02a64d9c5f99\" xlink:actuate=\"onRequest\" xlink:href=\"psysml:356b088d-f058-4498-8151-02a64d9c5f99\" xlink:show=\"new\" xlink:title=\"psysml:356b088d-f058-4498-8151-02a64d9c5f99\" xlink:type=\"simple\"><path d=\"M565.94,110.59 C560.67,127.81 553.32,151.83 547,172.49 \" fill=\"none\" id=\"E5-to-E2\" style=\"stroke:#181818;stroke-width:1.0;\"/><polygon fill=\"#FFFFFF\" points=\"541.14,191.65,539.9958,171.4339,553.3851,175.5237,541.14,191.65\" style=\"stroke:#181818;stroke-width:1.0;\"/><ellipse cx=\"543.5737\" cy=\"166.5668\" fill=\"#181818\" rx=\"2\" ry=\"2\" style=\"stroke:#181818;stroke-width:1.0;\"/><ellipse cx=\"553.1375\" cy=\"169.4881\" fill=\"#181818\" rx=\"2\" ry=\"2\" style=\"stroke:#181818;stroke-width:1.0;\"/></a></g><!--MD5=[2351f337d6de0f557b50152ba70847b5]\n",
       "link E6 to E2--><g id=\"link_E6_E2\"><a href=\"psysml:849948e9-2a63-47c9-a787-96ae36e28ef0\" target=\"_top\" title=\"psysml:849948e9-2a63-47c9-a787-96ae36e28ef0\" xlink:actuate=\"onRequest\" xlink:href=\"psysml:849948e9-2a63-47c9-a787-96ae36e28ef0\" xlink:show=\"new\" xlink:title=\"psysml:849948e9-2a63-47c9-a787-96ae36e28ef0\" xlink:type=\"simple\"><path d=\"M502.88,110.59 C507.99,127.72 515.1,151.58 521.23,172.17 \" fill=\"none\" id=\"E6-to-E2\" style=\"stroke:#181818;stroke-width:1.0;\"/><polygon fill=\"#FFFFFF\" points=\"527.04,191.65,514.9155,175.4328,528.3349,171.443,527.04,191.65\" style=\"stroke:#181818;stroke-width:1.0;\"/><ellipse cx=\"515.2081\" cy=\"169.3992\" fill=\"#181818\" rx=\"2\" ry=\"2\" style=\"stroke:#181818;stroke-width:1.0;\"/><ellipse cx=\"524.7935\" cy=\"166.5493\" fill=\"#181818\" rx=\"2\" ry=\"2\" style=\"stroke:#181818;stroke-width:1.0;\"/></a></g><!--MD5=[4d1334d97430a4e200ca53290a921094]\n",
       "@startuml\r\n",
       "skin sysmlc\r\n",
       "skinparam wrapWidth 300\r\n",
       "hide circle\r\n",
       "\r\n",
       "package \"MultiplicityTest\" as E1  [[psysml:26edc399-ba1b-4e26-98ec-184b2d561983 ]]  {\r\n",
       "comp def \"P\" as E2  <<(T,blue) part  def>> [[psysml:a78c9232-7355-4122-98e1-61ea033b6fbd ]] {\r\n",
       "}\r\n",
       "comp usage \"n: Integer  \" as E3  <<(T,blue) attribute>> [[psysml:6e5bcad0-e721-42f0-8965-8cf810de127c ]] {\r\n",
       "##//values//##\r\n",
       " <U+003D> 5\r\n",
       "}\r\n",
       "comp usage \"a  \" as E4  <<(T,blue) part>> [[psysml:58ca86c4-6609-462b-9948-87aadb08d281 ]] {\r\n",
       "}\r\n",
       "comp usage \"b: P  \" as E5  <<(T,blue) part>> [[psysml:8959fced-ddce-434c-832c-e17faa00a5de ]] {\r\n",
       "}\r\n",
       "comp usage \"c: P  \" as E6  <<(T,blue) part>> [[psysml:4ac8fd09-bbc3-4ec3-ba18-7592ef56bccd ]] {\r\n",
       "}\r\n",
       "comp usage \"d  \" as E7  <<(T,blue) part>> [[psysml:58aa0206-e878-4c1d-8c3a-c879ca6e4b13 ]] {\r\n",
       "}\r\n",
       "comp usage \"e  \" as E8  <<(T,blue) part>> [[psysml:21978b5e-874b-4020-b12b-41f872f49c78 ]] {\r\n",
       "}\r\n",
       "comp usage \"f  \" as E9  <<(T,blue) part>> [[psysml:79f00190-11a9-479d-9f29-e880a27768bf ]] {\r\n",
       "}\r\n",
       "comp usage \"g  \" as E10  <<(T,blue) part>> [[psysml:3e79cc57-1ff4-4d61-ad54-8c0f8362d5da ]] {\r\n",
       "}\r\n",
       "comp def \"A\" as E11  <<(T,blue) attribute  def>> [[psysml:cae84388-2b2f-4b61-9caf-e3201f6c4bb4 ]] {\r\n",
       "##//attributes//##\r\n",
       "i: Integer\r\n",
       "x: A\r\n",
       "}\r\n",
       "}\r\n",
       "E5 - -:|> E2 [[psysml:356b088d-f058-4498-8151-02a64d9c5f99 ]] \r\n",
       "E6 - -:|> E2 [[psysml:849948e9-2a63-47c9-a787-96ae36e28ef0 ]] \r\n",
       "@enduml\r\n",
       "\n",
       "PlantUML version 1.2022.7(Mon Aug 22 17:01:30 UTC 2022)\n",
       "(EPL source distribution)\n",
       "Java Runtime: OpenJDK Runtime Environment\n",
       "JVM: OpenJDK 64-Bit Server VM\n",
       "Default Encoding: UTF-8\n",
       "Language: en\n",
       "Country: null\n",
       "--></g></svg>"
      ]
     },
     "execution_count": 23,
     "metadata": {},
     "output_type": "execute_result"
    }
   ],
   "source": [
    "%viz --style=\"STDCOLOR\" --view=\"Default\" \"MultiplicityTest\""
   ]
  },
  {
   "cell_type": "code",
   "execution_count": 24,
   "id": "488108ae",
   "metadata": {
    "execution": {
     "iopub.execute_input": "2024-12-16T03:27:05.896129Z",
     "iopub.status.busy": "2024-12-16T03:27:05.895908Z",
     "iopub.status.idle": "2024-12-16T03:27:05.924617Z",
     "shell.execute_reply": "2024-12-16T03:27:05.923631Z"
    }
   },
   "outputs": [
    {
     "data": {
      "image/svg+xml": [
       "<?xml version=\"1.0\" encoding=\"UTF-8\" standalone=\"no\"?><svg xmlns=\"http://www.w3.org/2000/svg\" xmlns:xlink=\"http://www.w3.org/1999/xlink\" contentStyleType=\"text/css\" height=\"263px\" preserveAspectRatio=\"none\" style=\"width:916px;height:263px;background:#FFFFFF;\" version=\"1.1\" viewBox=\"0 0 916 263\" width=\"916px\" zoomAndPan=\"magnify\"><defs><filter height=\"300%\" id=\"f1k37a9wua6n4y\" width=\"300%\" x=\"-1\" y=\"-1\"><feGaussianBlur result=\"blurOut\" stdDeviation=\"2.0\"/><feColorMatrix in=\"blurOut\" result=\"blurOut2\" type=\"matrix\" values=\"0 0 0 0 0 0 0 0 0 0 0 0 0 0 0 0 0 0 .4 0\"/><feOffset dx=\"4.0\" dy=\"4.0\" in=\"blurOut2\" result=\"blurOut3\"/><feBlend in=\"SourceGraphic\" in2=\"blurOut3\" mode=\"normal\"/></filter></defs><g><!--MD5=[fbc87193dbaf4d95561dea2c320d4a47]\n",
       "cluster E1--><g id=\"cluster_E1\"><a href=\"psysml:26edc399-ba1b-4e26-98ec-184b2d561983\" target=\"_top\" title=\"psysml:26edc399-ba1b-4e26-98ec-184b2d561983\" xlink:actuate=\"onRequest\" xlink:href=\"psysml:26edc399-ba1b-4e26-98ec-184b2d561983\" xlink:show=\"new\" xlink:title=\"psysml:26edc399-ba1b-4e26-98ec-184b2d561983\" xlink:type=\"simple\"><polygon fill=\"none\" filter=\"url(#f1k37a9wua6n4y)\" points=\"16,6,130,6,137,28.2969,899,28.2969,899,256,16,256,16,6\" style=\"stroke:#000000;stroke-width:1.5;\"/><line style=\"stroke:#000000;stroke-width:1.5;\" x1=\"16\" x2=\"137\" y1=\"28.2969\" y2=\"28.2969\"/><text fill=\"#000000\" font-family=\"sans-serif\" font-size=\"14\" font-weight=\"bold\" lengthAdjust=\"spacing\" textLength=\"108\" x=\"20\" y=\"20.9951\">MultiplicityTest</text></a></g><!--MD5=[b4997ac47864f28c2f74865a473b2911]\n",
       "class E2--><a href=\"psysml:a78c9232-7355-4122-98e1-61ea033b6fbd\" target=\"_top\" title=\"psysml:a78c9232-7355-4122-98e1-61ea033b6fbd\" xlink:actuate=\"onRequest\" xlink:href=\"psysml:a78c9232-7355-4122-98e1-61ea033b6fbd\" xlink:show=\"new\" xlink:title=\"psysml:a78c9232-7355-4122-98e1-61ea033b6fbd\" xlink:type=\"simple\"><g id=\"elem_E2\"><rect fill=\"#FFFACD\" filter=\"url(#f1k37a9wua6n4y)\" height=\"48.2656\" id=\"E2\" style=\"stroke:#181818;stroke-width:0.5;\" width=\"70\" x=\"559\" y=\"192\"/><text fill=\"#000000\" font-family=\"sans-serif\" font-size=\"12\" font-style=\"italic\" lengthAdjust=\"spacing\" textLength=\"68\" x=\"560\" y=\"208.1387\">«part  def»</text><text fill=\"#000000\" font-family=\"sans-serif\" font-size=\"14\" lengthAdjust=\"spacing\" textLength=\"9\" x=\"589.5\" y=\"223.9639\">P</text><line style=\"stroke:#181818;stroke-width:0.5;\" x1=\"560\" x2=\"628\" y1=\"232.2656\" y2=\"232.2656\"/></g></a><!--MD5=[09b614a08d8cba4a07c9adeb5e0fee81]\n",
       "class E3--><a href=\"psysml:6e5bcad0-e721-42f0-8965-8cf810de127c\" target=\"_top\" title=\"psysml:6e5bcad0-e721-42f0-8965-8cf810de127c\" xlink:actuate=\"onRequest\" xlink:href=\"psysml:6e5bcad0-e721-42f0-8965-8cf810de127c\" xlink:show=\"new\" xlink:title=\"psysml:6e5bcad0-e721-42f0-8965-8cf810de127c\" xlink:type=\"simple\"><g id=\"elem_E3\"><rect fill=\"#FFFACD\" filter=\"url(#f1k37a9wua6n4y)\" height=\"75.0813\" id=\"E3\" rx=\"10\" ry=\"10\" style=\"stroke:#181818;stroke-width:0.5;\" width=\"81\" x=\"801.5\" y=\"49\"/><text fill=\"#000000\" font-family=\"sans-serif\" font-size=\"12\" font-style=\"italic\" lengthAdjust=\"spacing\" textLength=\"69\" x=\"807.5\" y=\"65.1387\">«attribute»</text><text fill=\"#000000\" font-family=\"sans-serif\" font-size=\"14\" lengthAdjust=\"spacing\" textLength=\"67\" x=\"804.5\" y=\"80.9639\">n: Integer</text><line style=\"stroke:#181818;stroke-width:0.5;\" x1=\"802.5\" x2=\"881.5\" y1=\"89.2656\" y2=\"89.2656\"/><text fill=\"#000000\" font-family=\"sans-serif\" font-size=\"14\" lengthAdjust=\"spacing\" textLength=\"25\" x=\"807.5\" y=\"116.7795\">= 5</text><text fill=\"#000000\" font-family=\"sans-serif\" font-size=\"14\" font-style=\"italic\" lengthAdjust=\"spacing\" textLength=\"44\" x=\"820\" y=\"101.6123\">values</text></g></a><!--MD5=[ebbe1d658d1005bcc118a6aa81145e00]\n",
       "class E4--><a href=\"psysml:58ca86c4-6609-462b-9948-87aadb08d281\" target=\"_top\" title=\"psysml:58ca86c4-6609-462b-9948-87aadb08d281\" xlink:actuate=\"onRequest\" xlink:href=\"psysml:58ca86c4-6609-462b-9948-87aadb08d281\" xlink:show=\"new\" xlink:title=\"psysml:58ca86c4-6609-462b-9948-87aadb08d281\" xlink:type=\"simple\"><g id=\"elem_E4\"><rect fill=\"#FFFACD\" filter=\"url(#f1k37a9wua6n4y)\" height=\"48.2656\" id=\"E4\" rx=\"10\" ry=\"10\" style=\"stroke:#181818;stroke-width:0.5;\" width=\"42\" x=\"724\" y=\"62.5\"/><text fill=\"#000000\" font-family=\"sans-serif\" font-size=\"12\" font-style=\"italic\" lengthAdjust=\"spacing\" textLength=\"40\" x=\"725\" y=\"78.6387\">«part»</text><text fill=\"#000000\" font-family=\"sans-serif\" font-size=\"14\" lengthAdjust=\"spacing\" textLength=\"27\" x=\"727.5\" y=\"94.4639\">a[1]</text><line style=\"stroke:#181818;stroke-width:0.5;\" x1=\"725\" x2=\"765\" y1=\"102.7656\" y2=\"102.7656\"/></g></a><!--MD5=[270fce915f116d4de14055a7c1d9a0f3]\n",
       "class E5--><a href=\"psysml:8959fced-ddce-434c-832c-e17faa00a5de\" target=\"_top\" title=\"psysml:8959fced-ddce-434c-832c-e17faa00a5de\" xlink:actuate=\"onRequest\" xlink:href=\"psysml:8959fced-ddce-434c-832c-e17faa00a5de\" xlink:show=\"new\" xlink:title=\"psysml:8959fced-ddce-434c-832c-e17faa00a5de\" xlink:type=\"simple\"><g id=\"elem_E5\"><rect fill=\"#FFFACD\" filter=\"url(#f1k37a9wua6n4y)\" height=\"48.2656\" id=\"E5\" rx=\"10\" ry=\"10\" style=\"stroke:#181818;stroke-width:0.5;\" width=\"77\" x=\"611.5\" y=\"62.5\"/><text fill=\"#000000\" font-family=\"sans-serif\" font-size=\"12\" font-style=\"italic\" lengthAdjust=\"spacing\" textLength=\"40\" x=\"630\" y=\"78.6387\">«part»</text><text fill=\"#000000\" font-family=\"sans-serif\" font-size=\"14\" lengthAdjust=\"spacing\" textLength=\"63\" x=\"614.5\" y=\"94.4639\">b: P[0..2]</text><line style=\"stroke:#181818;stroke-width:0.5;\" x1=\"612.5\" x2=\"687.5\" y1=\"102.7656\" y2=\"102.7656\"/></g></a><!--MD5=[60a26617385b1d2d0262a64233df1f8d]\n",
       "class E6--><a href=\"psysml:4ac8fd09-bbc3-4ec3-ba18-7592ef56bccd\" target=\"_top\" title=\"psysml:4ac8fd09-bbc3-4ec3-ba18-7592ef56bccd\" xlink:actuate=\"onRequest\" xlink:href=\"psysml:4ac8fd09-bbc3-4ec3-ba18-7592ef56bccd\" xlink:show=\"new\" xlink:title=\"psysml:4ac8fd09-bbc3-4ec3-ba18-7592ef56bccd\" xlink:type=\"simple\"><g id=\"elem_E6\"><rect fill=\"#FFFACD\" filter=\"url(#f1k37a9wua6n4y)\" height=\"48.2656\" id=\"E6\" rx=\"10\" ry=\"10\" style=\"stroke:#181818;stroke-width:0.5;\" width=\"74\" x=\"502\" y=\"62.5\"/><text fill=\"#000000\" font-family=\"sans-serif\" font-size=\"12\" font-style=\"italic\" lengthAdjust=\"spacing\" textLength=\"40\" x=\"519\" y=\"78.6387\">«part»</text><text fill=\"#000000\" font-family=\"sans-serif\" font-size=\"14\" lengthAdjust=\"spacing\" textLength=\"60\" x=\"505\" y=\"94.4639\">c: P[2..*]</text><line style=\"stroke:#181818;stroke-width:0.5;\" x1=\"503\" x2=\"575\" y1=\"102.7656\" y2=\"102.7656\"/></g></a><!--MD5=[2156ba9850f5573cc1fc38a6a4b2f02b]\n",
       "class E7--><a href=\"psysml:58aa0206-e878-4c1d-8c3a-c879ca6e4b13\" target=\"_top\" title=\"psysml:58aa0206-e878-4c1d-8c3a-c879ca6e4b13\" xlink:actuate=\"onRequest\" xlink:href=\"psysml:58aa0206-e878-4c1d-8c3a-c879ca6e4b13\" xlink:show=\"new\" xlink:title=\"psysml:58aa0206-e878-4c1d-8c3a-c879ca6e4b13\" xlink:type=\"simple\"><g id=\"elem_E7\"><rect fill=\"#FFFACD\" filter=\"url(#f1k37a9wua6n4y)\" height=\"48.2656\" id=\"E7\" rx=\"10\" ry=\"10\" style=\"stroke:#181818;stroke-width:0.5;\" width=\"42\" x=\"425\" y=\"62.5\"/><text fill=\"#000000\" font-family=\"sans-serif\" font-size=\"12\" font-style=\"italic\" lengthAdjust=\"spacing\" textLength=\"40\" x=\"426\" y=\"78.6387\">«part»</text><text fill=\"#000000\" font-family=\"sans-serif\" font-size=\"14\" lengthAdjust=\"spacing\" textLength=\"26\" x=\"429\" y=\"94.4639\">d[*]</text><line style=\"stroke:#181818;stroke-width:0.5;\" x1=\"426\" x2=\"466\" y1=\"102.7656\" y2=\"102.7656\"/></g></a><!--MD5=[b9389687b975829384b498ac4b7476b2]\n",
       "class E8--><a href=\"psysml:21978b5e-874b-4020-b12b-41f872f49c78\" target=\"_top\" title=\"psysml:21978b5e-874b-4020-b12b-41f872f49c78\" xlink:actuate=\"onRequest\" xlink:href=\"psysml:21978b5e-874b-4020-b12b-41f872f49c78\" xlink:show=\"new\" xlink:title=\"psysml:21978b5e-874b-4020-b12b-41f872f49c78\" xlink:type=\"simple\"><g id=\"elem_E8\"><rect fill=\"#FFFACD\" filter=\"url(#f1k37a9wua6n4y)\" height=\"48.2656\" id=\"E8\" rx=\"10\" ry=\"10\" style=\"stroke:#181818;stroke-width:0.5;\" width=\"42\" x=\"348\" y=\"62.5\"/><text fill=\"#000000\" font-family=\"sans-serif\" font-size=\"12\" font-style=\"italic\" lengthAdjust=\"spacing\" textLength=\"40\" x=\"349\" y=\"78.6387\">«part»</text><text fill=\"#000000\" font-family=\"sans-serif\" font-size=\"14\" lengthAdjust=\"spacing\" textLength=\"28\" x=\"351\" y=\"94.4639\">e[n]</text><line style=\"stroke:#181818;stroke-width:0.5;\" x1=\"349\" x2=\"389\" y1=\"102.7656\" y2=\"102.7656\"/></g></a><!--MD5=[fd4143e9d270a159db93a4ea2a975926]\n",
       "class E9--><a href=\"psysml:79f00190-11a9-479d-9f29-e880a27768bf\" target=\"_top\" title=\"psysml:79f00190-11a9-479d-9f29-e880a27768bf\" xlink:actuate=\"onRequest\" xlink:href=\"psysml:79f00190-11a9-479d-9f29-e880a27768bf\" xlink:show=\"new\" xlink:title=\"psysml:79f00190-11a9-479d-9f29-e880a27768bf\" xlink:type=\"simple\"><g id=\"elem_E9\"><rect fill=\"#FFFACD\" filter=\"url(#f1k37a9wua6n4y)\" height=\"48.2656\" id=\"E9\" rx=\"10\" ry=\"10\" style=\"stroke:#181818;stroke-width:0.5;\" width=\"52\" x=\"261\" y=\"62.5\"/><text fill=\"#000000\" font-family=\"sans-serif\" font-size=\"12\" font-style=\"italic\" lengthAdjust=\"spacing\" textLength=\"40\" x=\"267\" y=\"78.6387\">«part»</text><text fill=\"#000000\" font-family=\"sans-serif\" font-size=\"14\" lengthAdjust=\"spacing\" textLength=\"38\" x=\"264\" y=\"94.4639\">f[n..*]</text><line style=\"stroke:#181818;stroke-width:0.5;\" x1=\"262\" x2=\"312\" y1=\"102.7656\" y2=\"102.7656\"/></g></a><!--MD5=[96f4274e9e20536e775497830990834d]\n",
       "class E10--><a href=\"psysml:3e79cc57-1ff4-4d61-ad54-8c0f8362d5da\" target=\"_top\" title=\"psysml:3e79cc57-1ff4-4d61-ad54-8c0f8362d5da\" xlink:actuate=\"onRequest\" xlink:href=\"psysml:3e79cc57-1ff4-4d61-ad54-8c0f8362d5da\" xlink:show=\"new\" xlink:title=\"psysml:3e79cc57-1ff4-4d61-ad54-8c0f8362d5da\" xlink:type=\"simple\"><g id=\"elem_E10\"><rect fill=\"#FFFACD\" filter=\"url(#f1k37a9wua6n4y)\" height=\"48.2656\" id=\"E10\" rx=\"10\" ry=\"10\" style=\"stroke:#181818;stroke-width:0.5;\" width=\"59\" x=\"166.5\" y=\"62.5\"/><text fill=\"#000000\" font-family=\"sans-serif\" font-size=\"12\" font-style=\"italic\" lengthAdjust=\"spacing\" textLength=\"40\" x=\"176\" y=\"78.6387\">«part»</text><text fill=\"#000000\" font-family=\"sans-serif\" font-size=\"14\" lengthAdjust=\"spacing\" textLength=\"45\" x=\"169.5\" y=\"94.4639\">g[1..n]</text><line style=\"stroke:#181818;stroke-width:0.5;\" x1=\"167.5\" x2=\"224.5\" y1=\"102.7656\" y2=\"102.7656\"/></g></a><!--MD5=[1dd1bfd58a279cf63c5f349dbc8fc6a1]\n",
       "class E11--><a href=\"psysml:cae84388-2b2f-4b61-9caf-e3201f6c4bb4\" target=\"_top\" title=\"psysml:cae84388-2b2f-4b61-9caf-e3201f6c4bb4\" xlink:actuate=\"onRequest\" xlink:href=\"psysml:cae84388-2b2f-4b61-9caf-e3201f6c4bb4\" xlink:show=\"new\" xlink:title=\"psysml:cae84388-2b2f-4b61-9caf-e3201f6c4bb4\" xlink:type=\"simple\"><g id=\"elem_E11\"><rect fill=\"#FFFACD\" filter=\"url(#f1k37a9wua6n4y)\" height=\"91.3781\" id=\"E11\" style=\"stroke:#181818;stroke-width:0.5;\" width=\"99\" x=\"32.5\" y=\"41\"/><text fill=\"#000000\" font-family=\"sans-serif\" font-size=\"12\" font-style=\"italic\" lengthAdjust=\"spacing\" textLength=\"97\" x=\"33.5\" y=\"57.1387\">«attribute  def»</text><text fill=\"#000000\" font-family=\"sans-serif\" font-size=\"14\" lengthAdjust=\"spacing\" textLength=\"9\" x=\"77.5\" y=\"72.9639\">A</text><line style=\"stroke:#181818;stroke-width:0.5;\" x1=\"33.5\" x2=\"130.5\" y1=\"81.2656\" y2=\"81.2656\"/><text fill=\"#000000\" font-family=\"sans-serif\" font-size=\"14\" lengthAdjust=\"spacing\" textLength=\"61\" x=\"38.5\" y=\"108.7795\">i: Integer</text><text fill=\"#000000\" font-family=\"sans-serif\" font-size=\"14\" lengthAdjust=\"spacing\" textLength=\"25\" x=\"38.5\" y=\"125.0764\">x: A</text><text fill=\"#000000\" font-family=\"sans-serif\" font-size=\"14\" font-style=\"italic\" lengthAdjust=\"spacing\" textLength=\"66\" x=\"49\" y=\"93.6123\">attributes</text></g></a><!--MD5=[15ebcb19ae302d9b601edb458606d402]\n",
       "link E5 to E2--><g id=\"link_E5_E2\"><a href=\"psysml:356b088d-f058-4498-8151-02a64d9c5f99\" target=\"_top\" title=\"psysml:356b088d-f058-4498-8151-02a64d9c5f99\" xlink:actuate=\"onRequest\" xlink:href=\"psysml:356b088d-f058-4498-8151-02a64d9c5f99\" xlink:show=\"new\" xlink:title=\"psysml:356b088d-f058-4498-8151-02a64d9c5f99\" xlink:type=\"simple\"><path d=\"M639.86,110.59 C632.22,127.99 621.53,152.33 612.39,173.13 \" fill=\"none\" id=\"E5-to-E2\" style=\"stroke:#181818;stroke-width:1.0;\"/><polygon fill=\"#FFFFFF\" points=\"604.25,191.65,605.4806,171.439,618.2989,177.0683,604.25,191.65\" style=\"stroke:#181818;stroke-width:1.0;\"/><ellipse cx=\"609.6037\" cy=\"167.0242\" fill=\"#181818\" rx=\"2\" ry=\"2\" style=\"stroke:#181818;stroke-width:1.0;\"/><ellipse cx=\"618.7597\" cy=\"171.0452\" fill=\"#181818\" rx=\"2\" ry=\"2\" style=\"stroke:#181818;stroke-width:1.0;\"/></a></g><!--MD5=[2351f337d6de0f557b50152ba70847b5]\n",
       "link E6 to E2--><g id=\"link_E6_E2\"><a href=\"psysml:849948e9-2a63-47c9-a787-96ae36e28ef0\" target=\"_top\" title=\"psysml:849948e9-2a63-47c9-a787-96ae36e28ef0\" xlink:actuate=\"onRequest\" xlink:href=\"psysml:849948e9-2a63-47c9-a787-96ae36e28ef0\" xlink:show=\"new\" xlink:title=\"psysml:849948e9-2a63-47c9-a787-96ae36e28ef0\" xlink:type=\"simple\"><path d=\"M548.96,110.59 C556.47,127.99 566.97,152.33 575.94,173.13 \" fill=\"none\" id=\"E6-to-E2\" style=\"stroke:#181818;stroke-width:1.0;\"/><polygon fill=\"#FFFFFF\" points=\"583.93,191.65,569.9702,176.9829,582.8226,171.4318,583.93,191.65\" style=\"stroke:#181818;stroke-width:1.0;\"/><ellipse cx=\"569.5462\" cy=\"170.9571\" fill=\"#181818\" rx=\"2\" ry=\"2\" style=\"stroke:#181818;stroke-width:1.0;\"/><ellipse cx=\"578.7265\" cy=\"166.9921\" fill=\"#181818\" rx=\"2\" ry=\"2\" style=\"stroke:#181818;stroke-width:1.0;\"/></a></g><!--MD5=[748f435ac2e78a28ab23814809e6bb54]\n",
       "@startuml\r\n",
       "skin sysmlc\r\n",
       "skinparam wrapWidth 300\r\n",
       "hide circle\r\n",
       "\r\n",
       "package \"MultiplicityTest\" as E1  [[psysml:26edc399-ba1b-4e26-98ec-184b2d561983 ]]  {\r\n",
       "comp def \"P\" as E2  <<(T,blue) part  def>> [[psysml:a78c9232-7355-4122-98e1-61ea033b6fbd ]] {\r\n",
       "}\r\n",
       "comp usage \"n: Integer  \" as E3  <<(T,blue) attribute>> [[psysml:6e5bcad0-e721-42f0-8965-8cf810de127c ]] {\r\n",
       "##//values//##\r\n",
       " <U+003D> 5\r\n",
       "}\r\n",
       "comp usage \"a[1]  \" as E4  <<(T,blue) part>> [[psysml:58ca86c4-6609-462b-9948-87aadb08d281 ]] {\r\n",
       "}\r\n",
       "comp usage \"b: P[0..2]  \" as E5  <<(T,blue) part>> [[psysml:8959fced-ddce-434c-832c-e17faa00a5de ]] {\r\n",
       "}\r\n",
       "comp usage \"c: P[2..*]  \" as E6  <<(T,blue) part>> [[psysml:4ac8fd09-bbc3-4ec3-ba18-7592ef56bccd ]] {\r\n",
       "}\r\n",
       "comp usage \"d[*]  \" as E7  <<(T,blue) part>> [[psysml:58aa0206-e878-4c1d-8c3a-c879ca6e4b13 ]] {\r\n",
       "}\r\n",
       "comp usage \"e[n]  \" as E8  <<(T,blue) part>> [[psysml:21978b5e-874b-4020-b12b-41f872f49c78 ]] {\r\n",
       "}\r\n",
       "comp usage \"f[n..*]  \" as E9  <<(T,blue) part>> [[psysml:79f00190-11a9-479d-9f29-e880a27768bf ]] {\r\n",
       "}\r\n",
       "comp usage \"g[1..n]  \" as E10  <<(T,blue) part>> [[psysml:3e79cc57-1ff4-4d61-ad54-8c0f8362d5da ]] {\r\n",
       "}\r\n",
       "comp def \"A\" as E11  <<(T,blue) attribute  def>> [[psysml:cae84388-2b2f-4b61-9caf-e3201f6c4bb4 ]] {\r\n",
       "##//attributes//##\r\n",
       "i: Integer\r\n",
       "x: A\r\n",
       "}\r\n",
       "}\r\n",
       "E5 - -:|> E2 [[psysml:356b088d-f058-4498-8151-02a64d9c5f99 ]] \r\n",
       "E6 - -:|> E2 [[psysml:849948e9-2a63-47c9-a787-96ae36e28ef0 ]] \r\n",
       "@enduml\r\n",
       "\n",
       "PlantUML version 1.2022.7(Mon Aug 22 17:01:30 UTC 2022)\n",
       "(EPL source distribution)\n",
       "Java Runtime: OpenJDK Runtime Environment\n",
       "JVM: OpenJDK 64-Bit Server VM\n",
       "Default Encoding: UTF-8\n",
       "Language: en\n",
       "Country: null\n",
       "--></g></svg>"
      ]
     },
     "execution_count": 24,
     "metadata": {},
     "output_type": "execute_result"
    }
   ],
   "source": [
    "%viz --style=\"STDCOLOR\" --view=\"Tree\" \"MultiplicityTest\""
   ]
  },
  {
   "cell_type": "code",
   "execution_count": 25,
   "id": "bb11a2c6",
   "metadata": {
    "execution": {
     "iopub.execute_input": "2024-12-16T03:27:05.975895Z",
     "iopub.status.busy": "2024-12-16T03:27:05.975693Z",
     "iopub.status.idle": "2024-12-16T03:27:05.982827Z",
     "shell.execute_reply": "2024-12-16T03:27:05.982668Z"
    }
   },
   "outputs": [
    {
     "data": {
      "image/svg+xml": [
       "<?xml version=\"1.0\" encoding=\"UTF-8\" standalone=\"no\"?><svg xmlns=\"http://www.w3.org/2000/svg\" xmlns:xlink=\"http://www.w3.org/1999/xlink\" contentStyleType=\"text/css\" height=\"10px\" preserveAspectRatio=\"none\" style=\"width:10px;height:10px;background:#FFFFFF;\" version=\"1.1\" viewBox=\"0 0 10 10\" width=\"10px\" zoomAndPan=\"magnify\"><defs/><g><!--MD5=[a1048f16c75022af837d4b7065e6f600]\n",
       "@startuml\r\n",
       "skin sysmlc\r\n",
       "skinparam wrapWidth 300\r\n",
       "hide circle\r\n",
       "\r\n",
       "@enduml\r\n",
       "\n",
       "PlantUML version 1.2022.7(Mon Aug 22 17:01:30 UTC 2022)\n",
       "(EPL source distribution)\n",
       "Java Runtime: OpenJDK Runtime Environment\n",
       "JVM: OpenJDK 64-Bit Server VM\n",
       "Default Encoding: UTF-8\n",
       "Language: en\n",
       "Country: null\n",
       "--></g></svg>"
      ]
     },
     "execution_count": 25,
     "metadata": {},
     "output_type": "execute_result"
    }
   ],
   "source": [
    "%viz --style=\"STDCOLOR\" --view=\"State\" \"MultiplicityTest\""
   ]
  },
  {
   "cell_type": "code",
   "execution_count": 26,
   "id": "604fdcc3",
   "metadata": {
    "execution": {
     "iopub.execute_input": "2024-12-16T03:27:06.034734Z",
     "iopub.status.busy": "2024-12-16T03:27:06.034560Z",
     "iopub.status.idle": "2024-12-16T03:27:06.056355Z",
     "shell.execute_reply": "2024-12-16T03:27:06.055594Z"
    }
   },
   "outputs": [
    {
     "data": {
      "image/svg+xml": [
       "<?xml version=\"1.0\" encoding=\"UTF-8\" standalone=\"no\"?><svg xmlns=\"http://www.w3.org/2000/svg\" xmlns:xlink=\"http://www.w3.org/1999/xlink\" contentStyleType=\"text/css\" height=\"194px\" preserveAspectRatio=\"none\" style=\"width:881px;height:194px;background:#FFFFFF;\" version=\"1.1\" viewBox=\"0 0 881 194\" width=\"881px\" zoomAndPan=\"magnify\"><defs><filter height=\"300%\" id=\"fzgfv41xsrd95\" width=\"300%\" x=\"-1\" y=\"-1\"><feGaussianBlur result=\"blurOut\" stdDeviation=\"2.0\"/><feColorMatrix in=\"blurOut\" result=\"blurOut2\" type=\"matrix\" values=\"0 0 0 0 0 0 0 0 0 0 0 0 0 0 0 0 0 0 .4 0\"/><feOffset dx=\"4.0\" dy=\"4.0\" in=\"blurOut2\" result=\"blurOut3\"/><feBlend in=\"SourceGraphic\" in2=\"blurOut3\" mode=\"normal\"/></filter></defs><g><!--MD5=[fbc87193dbaf4d95561dea2c320d4a47]\n",
       "cluster E1--><g id=\"cluster_E1\"><a href=\"psysml:26edc399-ba1b-4e26-98ec-184b2d561983\" target=\"_top\" title=\"psysml:26edc399-ba1b-4e26-98ec-184b2d561983\" xlink:actuate=\"onRequest\" xlink:href=\"psysml:26edc399-ba1b-4e26-98ec-184b2d561983\" xlink:show=\"new\" xlink:title=\"psysml:26edc399-ba1b-4e26-98ec-184b2d561983\" xlink:type=\"simple\"><polygon fill=\"none\" filter=\"url(#fzgfv41xsrd95)\" points=\"16,6,130,6,137,28.2969,864,28.2969,864,187,16,187,16,6\" style=\"stroke:#000000;stroke-width:1.5;\"/><line style=\"stroke:#000000;stroke-width:1.5;\" x1=\"16\" x2=\"137\" y1=\"28.2969\" y2=\"28.2969\"/><text fill=\"#000000\" font-family=\"sans-serif\" font-size=\"14\" font-weight=\"bold\" lengthAdjust=\"spacing\" textLength=\"108\" x=\"20\" y=\"20.9951\">MultiplicityTest</text></a></g><!--MD5=[09b614a08d8cba4a07c9adeb5e0fee81]\n",
       "class E3--><a href=\"psysml:6e5bcad0-e721-42f0-8965-8cf810de127c\" target=\"_top\" title=\"psysml:6e5bcad0-e721-42f0-8965-8cf810de127c\" xlink:actuate=\"onRequest\" xlink:href=\"psysml:6e5bcad0-e721-42f0-8965-8cf810de127c\" xlink:show=\"new\" xlink:title=\"psysml:6e5bcad0-e721-42f0-8965-8cf810de127c\" xlink:type=\"simple\"><g id=\"elem_E3\"><rect fill=\"#FFFACD\" filter=\"url(#fzgfv41xsrd95)\" height=\"75.0813\" id=\"E3\" rx=\"10\" ry=\"10\" style=\"stroke:#181818;stroke-width:0.5;\" width=\"81\" x=\"766.5\" y=\"41\"/><text fill=\"#000000\" font-family=\"sans-serif\" font-size=\"12\" font-style=\"italic\" lengthAdjust=\"spacing\" textLength=\"69\" x=\"772.5\" y=\"57.1387\">«attribute»</text><text fill=\"#000000\" font-family=\"sans-serif\" font-size=\"14\" lengthAdjust=\"spacing\" textLength=\"67\" x=\"769.5\" y=\"72.9639\">n: Integer</text><line style=\"stroke:#181818;stroke-width:0.5;\" x1=\"767.5\" x2=\"846.5\" y1=\"81.2656\" y2=\"81.2656\"/><text fill=\"#000000\" font-family=\"sans-serif\" font-size=\"14\" lengthAdjust=\"spacing\" textLength=\"25\" x=\"772.5\" y=\"108.7795\">= 5</text><text fill=\"#000000\" font-family=\"sans-serif\" font-size=\"14\" font-style=\"italic\" lengthAdjust=\"spacing\" textLength=\"44\" x=\"785\" y=\"93.6123\">values</text></g></a><g><a href=\"psysml:cae84388-2b2f-4b61-9caf-e3201f6c4bb4\" target=\"_top\" title=\"psysml:cae84388-2b2f-4b61-9caf-e3201f6c4bb4\" xlink:actuate=\"onRequest\" xlink:href=\"psysml:cae84388-2b2f-4b61-9caf-e3201f6c4bb4\" xlink:show=\"new\" xlink:title=\"psysml:cae84388-2b2f-4b61-9caf-e3201f6c4bb4\" xlink:type=\"simple\"><rect fill=\"#FFFACD\" filter=\"url(#fzgfv41xsrd95)\" height=\"45.2656\" id=\"E11\" style=\"stroke:#A80036;stroke-width:1.5;\" width=\"104\" x=\"627\" y=\"56\"/><text fill=\"#000000\" font-family=\"sans-serif\" font-size=\"12\" font-style=\"italic\" lengthAdjust=\"spacing\" textLength=\"97\" x=\"630.5\" y=\"72.1387\">«attribute  def»</text><text fill=\"#000000\" font-family=\"sans-serif\" font-size=\"14\" lengthAdjust=\"spacing\" textLength=\"9\" x=\"674.5\" y=\"87.9639\">A</text></a></g><g><a href=\"psysml:a78c9232-7355-4122-98e1-61ea033b6fbd\" target=\"_top\" title=\"psysml:a78c9232-7355-4122-98e1-61ea033b6fbd\" xlink:actuate=\"onRequest\" xlink:href=\"psysml:a78c9232-7355-4122-98e1-61ea033b6fbd\" xlink:show=\"new\" xlink:title=\"psysml:a78c9232-7355-4122-98e1-61ea033b6fbd\" xlink:type=\"simple\"><rect fill=\"#FFFACD\" filter=\"url(#fzgfv41xsrd95)\" height=\"45.2656\" id=\"E2\" style=\"stroke:#A80036;stroke-width:1.5;\" width=\"75\" x=\"401.5\" y=\"126\"/><text fill=\"#000000\" font-family=\"sans-serif\" font-size=\"12\" font-style=\"italic\" lengthAdjust=\"spacing\" textLength=\"68\" x=\"405\" y=\"142.1387\">«part  def»</text><text fill=\"#000000\" font-family=\"sans-serif\" font-size=\"14\" lengthAdjust=\"spacing\" textLength=\"9\" x=\"434.5\" y=\"157.9639\">P</text></a></g><g><a href=\"psysml:58ca86c4-6609-462b-9948-87aadb08d281\" target=\"_top\" title=\"psysml:58ca86c4-6609-462b-9948-87aadb08d281\" xlink:actuate=\"onRequest\" xlink:href=\"psysml:58ca86c4-6609-462b-9948-87aadb08d281\" xlink:show=\"new\" xlink:title=\"psysml:58ca86c4-6609-462b-9948-87aadb08d281\" xlink:type=\"simple\"><rect fill=\"#FFFACD\" filter=\"url(#fzgfv41xsrd95)\" height=\"40\" id=\"E4\" rx=\"10\" ry=\"10\" style=\"stroke:#A80036;stroke-width:1.5;\" width=\"50\" x=\"542\" y=\"58.5\"/><text fill=\"#000000\" font-family=\"sans-serif\" font-size=\"14\" lengthAdjust=\"spacing\" textLength=\"8\" x=\"563\" y=\"76.4951\">a</text></a></g><g><a href=\"psysml:8959fced-ddce-434c-832c-e17faa00a5de\" target=\"_top\" title=\"psysml:8959fced-ddce-434c-832c-e17faa00a5de\" xlink:actuate=\"onRequest\" xlink:href=\"psysml:8959fced-ddce-434c-832c-e17faa00a5de\" xlink:show=\"new\" xlink:title=\"psysml:8959fced-ddce-434c-832c-e17faa00a5de\" xlink:type=\"simple\"><rect fill=\"#FFFACD\" filter=\"url(#fzgfv41xsrd95)\" height=\"40\" id=\"E5\" rx=\"10\" ry=\"10\" style=\"stroke:#A80036;stroke-width:1.5;\" width=\"50\" x=\"457\" y=\"58.5\"/><text fill=\"#000000\" font-family=\"sans-serif\" font-size=\"14\" lengthAdjust=\"spacing\" textLength=\"27\" x=\"468.5\" y=\"76.4951\">b: P</text></a></g><g><a href=\"psysml:4ac8fd09-bbc3-4ec3-ba18-7592ef56bccd\" target=\"_top\" title=\"psysml:4ac8fd09-bbc3-4ec3-ba18-7592ef56bccd\" xlink:actuate=\"onRequest\" xlink:href=\"psysml:4ac8fd09-bbc3-4ec3-ba18-7592ef56bccd\" xlink:show=\"new\" xlink:title=\"psysml:4ac8fd09-bbc3-4ec3-ba18-7592ef56bccd\" xlink:type=\"simple\"><rect fill=\"#FFFACD\" filter=\"url(#fzgfv41xsrd95)\" height=\"40\" id=\"E6\" rx=\"10\" ry=\"10\" style=\"stroke:#A80036;stroke-width:1.5;\" width=\"50\" x=\"372\" y=\"58.5\"/><text fill=\"#000000\" font-family=\"sans-serif\" font-size=\"14\" lengthAdjust=\"spacing\" textLength=\"26\" x=\"384\" y=\"76.4951\">c: P</text></a></g><g><a href=\"psysml:58aa0206-e878-4c1d-8c3a-c879ca6e4b13\" target=\"_top\" title=\"psysml:58aa0206-e878-4c1d-8c3a-c879ca6e4b13\" xlink:actuate=\"onRequest\" xlink:href=\"psysml:58aa0206-e878-4c1d-8c3a-c879ca6e4b13\" xlink:show=\"new\" xlink:title=\"psysml:58aa0206-e878-4c1d-8c3a-c879ca6e4b13\" xlink:type=\"simple\"><rect fill=\"#FFFACD\" filter=\"url(#fzgfv41xsrd95)\" height=\"40\" id=\"E7\" rx=\"10\" ry=\"10\" style=\"stroke:#A80036;stroke-width:1.5;\" width=\"50\" x=\"287\" y=\"58.5\"/><text fill=\"#000000\" font-family=\"sans-serif\" font-size=\"14\" lengthAdjust=\"spacing\" textLength=\"9\" x=\"307.5\" y=\"76.4951\">d</text></a></g><g><a href=\"psysml:21978b5e-874b-4020-b12b-41f872f49c78\" target=\"_top\" title=\"psysml:21978b5e-874b-4020-b12b-41f872f49c78\" xlink:actuate=\"onRequest\" xlink:href=\"psysml:21978b5e-874b-4020-b12b-41f872f49c78\" xlink:show=\"new\" xlink:title=\"psysml:21978b5e-874b-4020-b12b-41f872f49c78\" xlink:type=\"simple\"><rect fill=\"#FFFACD\" filter=\"url(#fzgfv41xsrd95)\" height=\"40\" id=\"E8\" rx=\"10\" ry=\"10\" style=\"stroke:#A80036;stroke-width:1.5;\" width=\"50\" x=\"202\" y=\"58.5\"/><text fill=\"#000000\" font-family=\"sans-serif\" font-size=\"14\" lengthAdjust=\"spacing\" textLength=\"9\" x=\"222.5\" y=\"76.4951\">e</text></a></g><g><a href=\"psysml:79f00190-11a9-479d-9f29-e880a27768bf\" target=\"_top\" title=\"psysml:79f00190-11a9-479d-9f29-e880a27768bf\" xlink:actuate=\"onRequest\" xlink:href=\"psysml:79f00190-11a9-479d-9f29-e880a27768bf\" xlink:show=\"new\" xlink:title=\"psysml:79f00190-11a9-479d-9f29-e880a27768bf\" xlink:type=\"simple\"><rect fill=\"#FFFACD\" filter=\"url(#fzgfv41xsrd95)\" height=\"40\" id=\"E9\" rx=\"10\" ry=\"10\" style=\"stroke:#A80036;stroke-width:1.5;\" width=\"50\" x=\"117\" y=\"58.5\"/><text fill=\"#000000\" font-family=\"sans-serif\" font-size=\"14\" lengthAdjust=\"spacing\" textLength=\"4\" x=\"140\" y=\"76.4951\">f</text></a></g><g><a href=\"psysml:3e79cc57-1ff4-4d61-ad54-8c0f8362d5da\" target=\"_top\" title=\"psysml:3e79cc57-1ff4-4d61-ad54-8c0f8362d5da\" xlink:actuate=\"onRequest\" xlink:href=\"psysml:3e79cc57-1ff4-4d61-ad54-8c0f8362d5da\" xlink:show=\"new\" xlink:title=\"psysml:3e79cc57-1ff4-4d61-ad54-8c0f8362d5da\" xlink:type=\"simple\"><rect fill=\"#FFFACD\" filter=\"url(#fzgfv41xsrd95)\" height=\"40\" id=\"E10\" rx=\"10\" ry=\"10\" style=\"stroke:#A80036;stroke-width:1.5;\" width=\"50\" x=\"32\" y=\"58.5\"/><text fill=\"#000000\" font-family=\"sans-serif\" font-size=\"14\" lengthAdjust=\"spacing\" textLength=\"9\" x=\"52.5\" y=\"76.4951\">g</text></a></g><!--MD5=[15ebcb19ae302d9b601edb458606d402]\n",
       "link E5 to E2--><g id=\"link_E5_E2\"><a href=\"psysml:356b088d-f058-4498-8151-02a64d9c5f99\" target=\"_top\" title=\"psysml:356b088d-f058-4498-8151-02a64d9c5f99\" xlink:actuate=\"onRequest\" xlink:href=\"psysml:356b088d-f058-4498-8151-02a64d9c5f99\" xlink:show=\"new\" xlink:title=\"psysml:356b088d-f058-4498-8151-02a64d9c5f99\" xlink:type=\"simple\"><path d=\"M469.79,98.8 C467.78,101.98 465.64,105.38 463.45,108.84 \" fill=\"none\" id=\"E5-to-E2\" style=\"stroke:#181818;stroke-width:1.0;\"/><polygon fill=\"#FFFFFF\" points=\"452.6,126,456.8375,106.1999,468.6706,113.6818,452.6,126\" style=\"stroke:#181818;stroke-width:1.0;\"/><ellipse cx=\"461.5742\" cy=\"102.451\" fill=\"#181818\" rx=\"2\" ry=\"2\" style=\"stroke:#181818;stroke-width:1.0;\"/><ellipse cx=\"470.0263\" cy=\"107.7953\" fill=\"#181818\" rx=\"2\" ry=\"2\" style=\"stroke:#181818;stroke-width:1.0;\"/></a></g><!--MD5=[2351f337d6de0f557b50152ba70847b5]\n",
       "link E6 to E2--><g id=\"link_E6_E2\"><a href=\"psysml:849948e9-2a63-47c9-a787-96ae36e28ef0\" target=\"_top\" title=\"psysml:849948e9-2a63-47c9-a787-96ae36e28ef0\" xlink:actuate=\"onRequest\" xlink:href=\"psysml:849948e9-2a63-47c9-a787-96ae36e28ef0\" xlink:show=\"new\" xlink:title=\"psysml:849948e9-2a63-47c9-a787-96ae36e28ef0\" xlink:type=\"simple\"><path d=\"M408.92,98.8 C410.89,101.98 412.98,105.38 415.12,108.84 \" fill=\"none\" id=\"E6-to-E2\" style=\"stroke:#181818;stroke-width:1.0;\"/><polygon fill=\"#FFFFFF\" points=\"425.72,126,409.7771,113.517,421.6866,106.1573,425.72,126\" style=\"stroke:#181818;stroke-width:1.0;\"/><ellipse cx=\"408.4821\" cy=\"107.6168\" fill=\"#181818\" rx=\"2\" ry=\"2\" style=\"stroke:#181818;stroke-width:1.0;\"/><ellipse cx=\"416.9888\" cy=\"102.3599\" fill=\"#181818\" rx=\"2\" ry=\"2\" style=\"stroke:#181818;stroke-width:1.0;\"/></a></g><!--MD5=[1e380d751e69eb88ba5d2b31598daaaa]\n",
       "@startuml\r\n",
       "skin sysmlc\r\n",
       "skinparam wrapWidth 300\r\n",
       "hide circle\r\n",
       "skinparam ranksep 10\r\n",
       "skinparam rectangle {\r\n",
       " backgroundColor<<block>> LightGreen\r\n",
       "}\r\n",
       "\r\n",
       "package \"MultiplicityTest\" as E1  [[psysml:26edc399-ba1b-4e26-98ec-184b2d561983 ]]  {\r\n",
       "rec def \"P\" as E2  <<(T,blue) part  def>> [[psysml:a78c9232-7355-4122-98e1-61ea033b6fbd ]] {\r\n",
       "}\r\n",
       "comp usage \"n: Integer  \" as E3  <<(T,blue) attribute>> [[psysml:6e5bcad0-e721-42f0-8965-8cf810de127c ]] {\r\n",
       "##//values//##\r\n",
       " <U+003D> 5\r\n",
       "}\r\n",
       "rec usage \"a\" as E4 [[psysml:58ca86c4-6609-462b-9948-87aadb08d281 ]] {\r\n",
       "}\r\n",
       "rec usage \"b: P\" as E5 [[psysml:8959fced-ddce-434c-832c-e17faa00a5de ]] {\r\n",
       "}\r\n",
       "rec usage \"c: P\" as E6 [[psysml:4ac8fd09-bbc3-4ec3-ba18-7592ef56bccd ]] {\r\n",
       "}\r\n",
       "rec usage \"d\" as E7 [[psysml:58aa0206-e878-4c1d-8c3a-c879ca6e4b13 ]] {\r\n",
       "}\r\n",
       "rec usage \"e\" as E8 [[psysml:21978b5e-874b-4020-b12b-41f872f49c78 ]] {\r\n",
       "}\r\n",
       "rec usage \"f\" as E9 [[psysml:79f00190-11a9-479d-9f29-e880a27768bf ]] {\r\n",
       "}\r\n",
       "rec usage \"g\" as E10 [[psysml:3e79cc57-1ff4-4d61-ad54-8c0f8362d5da ]] {\r\n",
       "}\r\n",
       "def \"A\" as E11  <<(T,blue) attribute  def>> [[psysml:cae84388-2b2f-4b61-9caf-e3201f6c4bb4 ]] \r\n",
       "}\r\n",
       "E5 - -:|> E2 [[psysml:356b088d-f058-4498-8151-02a64d9c5f99 ]] \r\n",
       "E6 - -:|> E2 [[psysml:849948e9-2a63-47c9-a787-96ae36e28ef0 ]] \r\n",
       "@enduml\r\n",
       "\n",
       "PlantUML version 1.2022.7(Mon Aug 22 17:01:30 UTC 2022)\n",
       "(EPL source distribution)\n",
       "Java Runtime: OpenJDK Runtime Environment\n",
       "JVM: OpenJDK 64-Bit Server VM\n",
       "Default Encoding: UTF-8\n",
       "Language: en\n",
       "Country: null\n",
       "--></g></svg>"
      ]
     },
     "execution_count": 26,
     "metadata": {},
     "output_type": "execute_result"
    }
   ],
   "source": [
    "%viz --style=\"STDCOLOR\" --view=\"Interconnection\" \"MultiplicityTest\""
   ]
  },
  {
   "cell_type": "code",
   "execution_count": 27,
   "id": "89f40c06",
   "metadata": {
    "execution": {
     "iopub.execute_input": "2024-12-16T03:27:06.112759Z",
     "iopub.status.busy": "2024-12-16T03:27:06.112527Z",
     "iopub.status.idle": "2024-12-16T03:27:06.119754Z",
     "shell.execute_reply": "2024-12-16T03:27:06.119588Z"
    }
   },
   "outputs": [
    {
     "data": {
      "image/svg+xml": [
       "<?xml version=\"1.0\" encoding=\"UTF-8\" standalone=\"no\"?><svg xmlns=\"http://www.w3.org/2000/svg\" xmlns:xlink=\"http://www.w3.org/1999/xlink\" contentStyleType=\"text/css\" height=\"10px\" preserveAspectRatio=\"none\" style=\"width:10px;height:10px;background:#FFFFFF;\" version=\"1.1\" viewBox=\"0 0 10 10\" width=\"10px\" zoomAndPan=\"magnify\"><defs/><g><!--MD5=[f1e15a62785563bad28e840d677c8e75]\n",
       "@startuml\r\n",
       "skin sysmlc\r\n",
       "skinparam wrapWidth 300\r\n",
       "hide circle\r\n",
       "skinparam ranksep 8\r\n",
       "\r\n",
       "@enduml\r\n",
       "\n",
       "PlantUML version 1.2022.7(Mon Aug 22 17:01:30 UTC 2022)\n",
       "(EPL source distribution)\n",
       "Java Runtime: OpenJDK Runtime Environment\n",
       "JVM: OpenJDK 64-Bit Server VM\n",
       "Default Encoding: UTF-8\n",
       "Language: en\n",
       "Country: null\n",
       "--></g></svg>"
      ]
     },
     "execution_count": 27,
     "metadata": {},
     "output_type": "execute_result"
    }
   ],
   "source": [
    "%viz --style=\"STDCOLOR\" --view=\"Action\" \"MultiplicityTest\""
   ]
  },
  {
   "cell_type": "code",
   "execution_count": 28,
   "id": "5e2996a9",
   "metadata": {
    "execution": {
     "iopub.execute_input": "2024-12-16T03:27:06.175997Z",
     "iopub.status.busy": "2024-12-16T03:27:06.175774Z",
     "iopub.status.idle": "2024-12-16T03:27:06.183579Z",
     "shell.execute_reply": "2024-12-16T03:27:06.183358Z"
    }
   },
   "outputs": [
    {
     "data": {
      "image/svg+xml": [
       "<?xml version=\"1.0\" encoding=\"UTF-8\" standalone=\"no\"?><svg xmlns=\"http://www.w3.org/2000/svg\" xmlns:xlink=\"http://www.w3.org/1999/xlink\" contentStyleType=\"text/css\" height=\"10px\" preserveAspectRatio=\"none\" style=\"width:10px;height:10px;background:#FFFFFF;\" version=\"1.1\" viewBox=\"0 0 10 10\" width=\"10px\" zoomAndPan=\"magnify\"><defs/><g><!--MD5=[e54413e611bf323face5c486cd3a32bb]\n",
       "@startuml\r\n",
       "skin sysmlc\r\n",
       "skinparam wrapWidth 300\r\n",
       "hide circle\r\n",
       "skinparam roundcorner 20\r\n",
       "skinparam BoxPadding 20\r\n",
       "skinparam SequenceBoxBackgroundColor #white\r\n",
       "skinparam style strictuml\r\n",
       "skinparam maxMessageSize 100\r\n",
       "\r\n",
       "@enduml\r\n",
       "\n",
       "PlantUML version 1.2022.7(Mon Aug 22 17:01:30 UTC 2022)\n",
       "(EPL source distribution)\n",
       "Java Runtime: OpenJDK Runtime Environment\n",
       "JVM: OpenJDK 64-Bit Server VM\n",
       "Default Encoding: UTF-8\n",
       "Language: en\n",
       "Country: null\n",
       "--></g></svg>"
      ]
     },
     "execution_count": 28,
     "metadata": {},
     "output_type": "execute_result"
    }
   ],
   "source": [
    "%viz --style=\"STDCOLOR\" --view=\"Sequence\" \"MultiplicityTest\""
   ]
  },
  {
   "cell_type": "code",
   "execution_count": 29,
   "id": "4d6fdff5",
   "metadata": {
    "execution": {
     "iopub.execute_input": "2024-12-16T03:27:06.236693Z",
     "iopub.status.busy": "2024-12-16T03:27:06.236498Z",
     "iopub.status.idle": "2024-12-16T03:27:06.261125Z",
     "shell.execute_reply": "2024-12-16T03:27:06.260323Z"
    }
   },
   "outputs": [
    {
     "data": {
      "image/svg+xml": [
       "<?xml version=\"1.0\" encoding=\"UTF-8\" standalone=\"no\"?><svg xmlns=\"http://www.w3.org/2000/svg\" xmlns:xlink=\"http://www.w3.org/1999/xlink\" contentStyleType=\"text/css\" height=\"263px\" preserveAspectRatio=\"none\" style=\"width:821px;height:263px;background:#FFFFFF;\" version=\"1.1\" viewBox=\"0 0 821 263\" width=\"821px\" zoomAndPan=\"magnify\"><defs><filter height=\"300%\" id=\"fhwomi4tyyr9q\" width=\"300%\" x=\"-1\" y=\"-1\"><feGaussianBlur result=\"blurOut\" stdDeviation=\"2.0\"/><feColorMatrix in=\"blurOut\" result=\"blurOut2\" type=\"matrix\" values=\"0 0 0 0 0 0 0 0 0 0 0 0 0 0 0 0 0 0 .4 0\"/><feOffset dx=\"4.0\" dy=\"4.0\" in=\"blurOut2\" result=\"blurOut3\"/><feBlend in=\"SourceGraphic\" in2=\"blurOut3\" mode=\"normal\"/></filter></defs><g><!--MD5=[fbc87193dbaf4d95561dea2c320d4a47]\n",
       "cluster E1--><g id=\"cluster_E1\"><a href=\"psysml:26edc399-ba1b-4e26-98ec-184b2d561983\" target=\"_top\" title=\"psysml:26edc399-ba1b-4e26-98ec-184b2d561983\" xlink:actuate=\"onRequest\" xlink:href=\"psysml:26edc399-ba1b-4e26-98ec-184b2d561983\" xlink:show=\"new\" xlink:title=\"psysml:26edc399-ba1b-4e26-98ec-184b2d561983\" xlink:type=\"simple\"><polygon fill=\"none\" filter=\"url(#fhwomi4tyyr9q)\" points=\"16,6,130,6,137,28.2969,804,28.2969,804,256,16,256,16,6\" style=\"stroke:#000000;stroke-width:1.5;\"/><line style=\"stroke:#000000;stroke-width:1.5;\" x1=\"16\" x2=\"137\" y1=\"28.2969\" y2=\"28.2969\"/><text fill=\"#000000\" font-family=\"sans-serif\" font-size=\"14\" font-weight=\"bold\" lengthAdjust=\"spacing\" textLength=\"108\" x=\"20\" y=\"20.9951\">MultiplicityTest</text></a></g><!--MD5=[b4997ac47864f28c2f74865a473b2911]\n",
       "class E2--><a href=\"psysml:a78c9232-7355-4122-98e1-61ea033b6fbd\" target=\"_top\" title=\"psysml:a78c9232-7355-4122-98e1-61ea033b6fbd\" xlink:actuate=\"onRequest\" xlink:href=\"psysml:a78c9232-7355-4122-98e1-61ea033b6fbd\" xlink:show=\"new\" xlink:title=\"psysml:a78c9232-7355-4122-98e1-61ea033b6fbd\" xlink:type=\"simple\"><g id=\"elem_E2\"><rect fill=\"#FFFACD\" filter=\"url(#fhwomi4tyyr9q)\" height=\"48.2656\" id=\"E2\" style=\"stroke:#181818;stroke-width:0.5;\" width=\"70\" x=\"499\" y=\"192\"/><text fill=\"#000000\" font-family=\"sans-serif\" font-size=\"12\" font-style=\"italic\" lengthAdjust=\"spacing\" textLength=\"68\" x=\"500\" y=\"208.1387\">«part  def»</text><text fill=\"#000000\" font-family=\"sans-serif\" font-size=\"14\" lengthAdjust=\"spacing\" textLength=\"9\" x=\"529.5\" y=\"223.9639\">P</text><line style=\"stroke:#181818;stroke-width:0.5;\" x1=\"500\" x2=\"568\" y1=\"232.2656\" y2=\"232.2656\"/></g></a><!--MD5=[09b614a08d8cba4a07c9adeb5e0fee81]\n",
       "class E3--><a href=\"psysml:6e5bcad0-e721-42f0-8965-8cf810de127c\" target=\"_top\" title=\"psysml:6e5bcad0-e721-42f0-8965-8cf810de127c\" xlink:actuate=\"onRequest\" xlink:href=\"psysml:6e5bcad0-e721-42f0-8965-8cf810de127c\" xlink:show=\"new\" xlink:title=\"psysml:6e5bcad0-e721-42f0-8965-8cf810de127c\" xlink:type=\"simple\"><g id=\"elem_E3\"><rect fill=\"#FFFACD\" filter=\"url(#fhwomi4tyyr9q)\" height=\"75.0813\" id=\"E3\" rx=\"10\" ry=\"10\" style=\"stroke:#181818;stroke-width:0.5;\" width=\"81\" x=\"706.5\" y=\"49\"/><text fill=\"#000000\" font-family=\"sans-serif\" font-size=\"12\" font-style=\"italic\" lengthAdjust=\"spacing\" textLength=\"69\" x=\"712.5\" y=\"65.1387\">«attribute»</text><text fill=\"#000000\" font-family=\"sans-serif\" font-size=\"14\" lengthAdjust=\"spacing\" textLength=\"67\" x=\"709.5\" y=\"80.9639\">n: Integer</text><line style=\"stroke:#181818;stroke-width:0.5;\" x1=\"707.5\" x2=\"786.5\" y1=\"89.2656\" y2=\"89.2656\"/><text fill=\"#000000\" font-family=\"sans-serif\" font-size=\"14\" lengthAdjust=\"spacing\" textLength=\"25\" x=\"712.5\" y=\"116.7795\">= 5</text><text fill=\"#000000\" font-family=\"sans-serif\" font-size=\"14\" font-style=\"italic\" lengthAdjust=\"spacing\" textLength=\"44\" x=\"725\" y=\"101.6123\">values</text></g></a><!--MD5=[ebbe1d658d1005bcc118a6aa81145e00]\n",
       "class E4--><a href=\"psysml:58ca86c4-6609-462b-9948-87aadb08d281\" target=\"_top\" title=\"psysml:58ca86c4-6609-462b-9948-87aadb08d281\" xlink:actuate=\"onRequest\" xlink:href=\"psysml:58ca86c4-6609-462b-9948-87aadb08d281\" xlink:show=\"new\" xlink:title=\"psysml:58ca86c4-6609-462b-9948-87aadb08d281\" xlink:type=\"simple\"><g id=\"elem_E4\"><rect fill=\"#FFFACD\" filter=\"url(#fhwomi4tyyr9q)\" height=\"48.2656\" id=\"E4\" rx=\"10\" ry=\"10\" style=\"stroke:#181818;stroke-width:0.5;\" width=\"42\" x=\"629\" y=\"62.5\"/><text fill=\"#000000\" font-family=\"sans-serif\" font-size=\"12\" font-style=\"italic\" lengthAdjust=\"spacing\" textLength=\"40\" x=\"630\" y=\"78.6387\">«part»</text><text fill=\"#000000\" font-family=\"sans-serif\" font-size=\"14\" lengthAdjust=\"spacing\" textLength=\"8\" x=\"642\" y=\"94.4639\">a</text><line style=\"stroke:#181818;stroke-width:0.5;\" x1=\"630\" x2=\"670\" y1=\"102.7656\" y2=\"102.7656\"/></g></a><!--MD5=[270fce915f116d4de14055a7c1d9a0f3]\n",
       "class E5--><a href=\"psysml:8959fced-ddce-434c-832c-e17faa00a5de\" target=\"_top\" title=\"psysml:8959fced-ddce-434c-832c-e17faa00a5de\" xlink:actuate=\"onRequest\" xlink:href=\"psysml:8959fced-ddce-434c-832c-e17faa00a5de\" xlink:show=\"new\" xlink:title=\"psysml:8959fced-ddce-434c-832c-e17faa00a5de\" xlink:type=\"simple\"><g id=\"elem_E5\"><rect fill=\"#FFFACD\" filter=\"url(#fhwomi4tyyr9q)\" height=\"48.2656\" id=\"E5\" rx=\"10\" ry=\"10\" style=\"stroke:#181818;stroke-width:0.5;\" width=\"42\" x=\"552\" y=\"62.5\"/><text fill=\"#000000\" font-family=\"sans-serif\" font-size=\"12\" font-style=\"italic\" lengthAdjust=\"spacing\" textLength=\"40\" x=\"553\" y=\"78.6387\">«part»</text><text fill=\"#000000\" font-family=\"sans-serif\" font-size=\"14\" lengthAdjust=\"spacing\" textLength=\"27\" x=\"555.5\" y=\"94.4639\">b: P</text><line style=\"stroke:#181818;stroke-width:0.5;\" x1=\"553\" x2=\"593\" y1=\"102.7656\" y2=\"102.7656\"/></g></a><!--MD5=[60a26617385b1d2d0262a64233df1f8d]\n",
       "class E6--><a href=\"psysml:4ac8fd09-bbc3-4ec3-ba18-7592ef56bccd\" target=\"_top\" title=\"psysml:4ac8fd09-bbc3-4ec3-ba18-7592ef56bccd\" xlink:actuate=\"onRequest\" xlink:href=\"psysml:4ac8fd09-bbc3-4ec3-ba18-7592ef56bccd\" xlink:show=\"new\" xlink:title=\"psysml:4ac8fd09-bbc3-4ec3-ba18-7592ef56bccd\" xlink:type=\"simple\"><g id=\"elem_E6\"><rect fill=\"#FFFACD\" filter=\"url(#fhwomi4tyyr9q)\" height=\"48.2656\" id=\"E6\" rx=\"10\" ry=\"10\" style=\"stroke:#181818;stroke-width:0.5;\" width=\"42\" x=\"475\" y=\"62.5\"/><text fill=\"#000000\" font-family=\"sans-serif\" font-size=\"12\" font-style=\"italic\" lengthAdjust=\"spacing\" textLength=\"40\" x=\"476\" y=\"78.6387\">«part»</text><text fill=\"#000000\" font-family=\"sans-serif\" font-size=\"14\" lengthAdjust=\"spacing\" textLength=\"26\" x=\"479\" y=\"94.4639\">c: P</text><line style=\"stroke:#181818;stroke-width:0.5;\" x1=\"476\" x2=\"516\" y1=\"102.7656\" y2=\"102.7656\"/></g></a><!--MD5=[2156ba9850f5573cc1fc38a6a4b2f02b]\n",
       "class E7--><a href=\"psysml:58aa0206-e878-4c1d-8c3a-c879ca6e4b13\" target=\"_top\" title=\"psysml:58aa0206-e878-4c1d-8c3a-c879ca6e4b13\" xlink:actuate=\"onRequest\" xlink:href=\"psysml:58aa0206-e878-4c1d-8c3a-c879ca6e4b13\" xlink:show=\"new\" xlink:title=\"psysml:58aa0206-e878-4c1d-8c3a-c879ca6e4b13\" xlink:type=\"simple\"><g id=\"elem_E7\"><rect fill=\"#FFFACD\" filter=\"url(#fhwomi4tyyr9q)\" height=\"48.2656\" id=\"E7\" rx=\"10\" ry=\"10\" style=\"stroke:#181818;stroke-width:0.5;\" width=\"42\" x=\"398\" y=\"62.5\"/><text fill=\"#000000\" font-family=\"sans-serif\" font-size=\"12\" font-style=\"italic\" lengthAdjust=\"spacing\" textLength=\"40\" x=\"399\" y=\"78.6387\">«part»</text><text fill=\"#000000\" font-family=\"sans-serif\" font-size=\"14\" lengthAdjust=\"spacing\" textLength=\"9\" x=\"410.5\" y=\"94.4639\">d</text><line style=\"stroke:#181818;stroke-width:0.5;\" x1=\"399\" x2=\"439\" y1=\"102.7656\" y2=\"102.7656\"/></g></a><!--MD5=[b9389687b975829384b498ac4b7476b2]\n",
       "class E8--><a href=\"psysml:21978b5e-874b-4020-b12b-41f872f49c78\" target=\"_top\" title=\"psysml:21978b5e-874b-4020-b12b-41f872f49c78\" xlink:actuate=\"onRequest\" xlink:href=\"psysml:21978b5e-874b-4020-b12b-41f872f49c78\" xlink:show=\"new\" xlink:title=\"psysml:21978b5e-874b-4020-b12b-41f872f49c78\" xlink:type=\"simple\"><g id=\"elem_E8\"><rect fill=\"#FFFACD\" filter=\"url(#fhwomi4tyyr9q)\" height=\"48.2656\" id=\"E8\" rx=\"10\" ry=\"10\" style=\"stroke:#181818;stroke-width:0.5;\" width=\"42\" x=\"321\" y=\"62.5\"/><text fill=\"#000000\" font-family=\"sans-serif\" font-size=\"12\" font-style=\"italic\" lengthAdjust=\"spacing\" textLength=\"40\" x=\"322\" y=\"78.6387\">«part»</text><text fill=\"#000000\" font-family=\"sans-serif\" font-size=\"14\" lengthAdjust=\"spacing\" textLength=\"9\" x=\"333.5\" y=\"94.4639\">e</text><line style=\"stroke:#181818;stroke-width:0.5;\" x1=\"322\" x2=\"362\" y1=\"102.7656\" y2=\"102.7656\"/></g></a><!--MD5=[fd4143e9d270a159db93a4ea2a975926]\n",
       "class E9--><a href=\"psysml:79f00190-11a9-479d-9f29-e880a27768bf\" target=\"_top\" title=\"psysml:79f00190-11a9-479d-9f29-e880a27768bf\" xlink:actuate=\"onRequest\" xlink:href=\"psysml:79f00190-11a9-479d-9f29-e880a27768bf\" xlink:show=\"new\" xlink:title=\"psysml:79f00190-11a9-479d-9f29-e880a27768bf\" xlink:type=\"simple\"><g id=\"elem_E9\"><rect fill=\"#FFFACD\" filter=\"url(#fhwomi4tyyr9q)\" height=\"48.2656\" id=\"E9\" rx=\"10\" ry=\"10\" style=\"stroke:#181818;stroke-width:0.5;\" width=\"42\" x=\"244\" y=\"62.5\"/><text fill=\"#000000\" font-family=\"sans-serif\" font-size=\"12\" font-style=\"italic\" lengthAdjust=\"spacing\" textLength=\"40\" x=\"245\" y=\"78.6387\">«part»</text><text fill=\"#000000\" font-family=\"sans-serif\" font-size=\"14\" lengthAdjust=\"spacing\" textLength=\"4\" x=\"259\" y=\"94.4639\">f</text><line style=\"stroke:#181818;stroke-width:0.5;\" x1=\"245\" x2=\"285\" y1=\"102.7656\" y2=\"102.7656\"/></g></a><!--MD5=[96f4274e9e20536e775497830990834d]\n",
       "class E10--><a href=\"psysml:3e79cc57-1ff4-4d61-ad54-8c0f8362d5da\" target=\"_top\" title=\"psysml:3e79cc57-1ff4-4d61-ad54-8c0f8362d5da\" xlink:actuate=\"onRequest\" xlink:href=\"psysml:3e79cc57-1ff4-4d61-ad54-8c0f8362d5da\" xlink:show=\"new\" xlink:title=\"psysml:3e79cc57-1ff4-4d61-ad54-8c0f8362d5da\" xlink:type=\"simple\"><g id=\"elem_E10\"><rect fill=\"#FFFACD\" filter=\"url(#fhwomi4tyyr9q)\" height=\"48.2656\" id=\"E10\" rx=\"10\" ry=\"10\" style=\"stroke:#181818;stroke-width:0.5;\" width=\"42\" x=\"167\" y=\"62.5\"/><text fill=\"#000000\" font-family=\"sans-serif\" font-size=\"12\" font-style=\"italic\" lengthAdjust=\"spacing\" textLength=\"40\" x=\"168\" y=\"78.6387\">«part»</text><text fill=\"#000000\" font-family=\"sans-serif\" font-size=\"14\" lengthAdjust=\"spacing\" textLength=\"9\" x=\"179.5\" y=\"94.4639\">g</text><line style=\"stroke:#181818;stroke-width:0.5;\" x1=\"168\" x2=\"208\" y1=\"102.7656\" y2=\"102.7656\"/></g></a><!--MD5=[1dd1bfd58a279cf63c5f349dbc8fc6a1]\n",
       "class E11--><a href=\"psysml:cae84388-2b2f-4b61-9caf-e3201f6c4bb4\" target=\"_top\" title=\"psysml:cae84388-2b2f-4b61-9caf-e3201f6c4bb4\" xlink:actuate=\"onRequest\" xlink:href=\"psysml:cae84388-2b2f-4b61-9caf-e3201f6c4bb4\" xlink:show=\"new\" xlink:title=\"psysml:cae84388-2b2f-4b61-9caf-e3201f6c4bb4\" xlink:type=\"simple\"><g id=\"elem_E11\"><rect fill=\"#FFFACD\" filter=\"url(#fhwomi4tyyr9q)\" height=\"91.3781\" id=\"E11\" style=\"stroke:#181818;stroke-width:0.5;\" width=\"99\" x=\"32.5\" y=\"41\"/><text fill=\"#000000\" font-family=\"sans-serif\" font-size=\"12\" font-style=\"italic\" lengthAdjust=\"spacing\" textLength=\"97\" x=\"33.5\" y=\"57.1387\">«attribute  def»</text><text fill=\"#000000\" font-family=\"sans-serif\" font-size=\"14\" lengthAdjust=\"spacing\" textLength=\"9\" x=\"77.5\" y=\"72.9639\">A</text><line style=\"stroke:#181818;stroke-width:0.5;\" x1=\"33.5\" x2=\"130.5\" y1=\"81.2656\" y2=\"81.2656\"/><text fill=\"#000000\" font-family=\"sans-serif\" font-size=\"14\" lengthAdjust=\"spacing\" textLength=\"61\" x=\"38.5\" y=\"108.7795\">i: Integer</text><text fill=\"#000000\" font-family=\"sans-serif\" font-size=\"14\" lengthAdjust=\"spacing\" textLength=\"25\" x=\"38.5\" y=\"125.0764\">x: A</text><text fill=\"#000000\" font-family=\"sans-serif\" font-size=\"14\" font-style=\"italic\" lengthAdjust=\"spacing\" textLength=\"66\" x=\"49\" y=\"93.6123\">attributes</text></g></a><!--MD5=[15ebcb19ae302d9b601edb458606d402]\n",
       "link E5 to E2--><g id=\"link_E5_E2\"><a href=\"psysml:356b088d-f058-4498-8151-02a64d9c5f99\" target=\"_top\" title=\"psysml:356b088d-f058-4498-8151-02a64d9c5f99\" xlink:actuate=\"onRequest\" xlink:href=\"psysml:356b088d-f058-4498-8151-02a64d9c5f99\" xlink:show=\"new\" xlink:title=\"psysml:356b088d-f058-4498-8151-02a64d9c5f99\" xlink:type=\"simple\"><path d=\"M565.94,110.59 C560.67,127.81 553.32,151.83 547,172.49 \" fill=\"none\" id=\"E5-to-E2\" style=\"stroke:#181818;stroke-width:1.0;\"/><polygon fill=\"#FFFFFF\" points=\"541.14,191.65,539.9958,171.4339,553.3851,175.5237,541.14,191.65\" style=\"stroke:#181818;stroke-width:1.0;\"/><ellipse cx=\"543.5737\" cy=\"166.5668\" fill=\"#181818\" rx=\"2\" ry=\"2\" style=\"stroke:#181818;stroke-width:1.0;\"/><ellipse cx=\"553.1375\" cy=\"169.4881\" fill=\"#181818\" rx=\"2\" ry=\"2\" style=\"stroke:#181818;stroke-width:1.0;\"/></a></g><!--MD5=[2351f337d6de0f557b50152ba70847b5]\n",
       "link E6 to E2--><g id=\"link_E6_E2\"><a href=\"psysml:849948e9-2a63-47c9-a787-96ae36e28ef0\" target=\"_top\" title=\"psysml:849948e9-2a63-47c9-a787-96ae36e28ef0\" xlink:actuate=\"onRequest\" xlink:href=\"psysml:849948e9-2a63-47c9-a787-96ae36e28ef0\" xlink:show=\"new\" xlink:title=\"psysml:849948e9-2a63-47c9-a787-96ae36e28ef0\" xlink:type=\"simple\"><path d=\"M502.88,110.59 C507.99,127.72 515.1,151.58 521.23,172.17 \" fill=\"none\" id=\"E6-to-E2\" style=\"stroke:#181818;stroke-width:1.0;\"/><polygon fill=\"#FFFFFF\" points=\"527.04,191.65,514.9155,175.4328,528.3349,171.443,527.04,191.65\" style=\"stroke:#181818;stroke-width:1.0;\"/><ellipse cx=\"515.2081\" cy=\"169.3992\" fill=\"#181818\" rx=\"2\" ry=\"2\" style=\"stroke:#181818;stroke-width:1.0;\"/><ellipse cx=\"524.7935\" cy=\"166.5493\" fill=\"#181818\" rx=\"2\" ry=\"2\" style=\"stroke:#181818;stroke-width:1.0;\"/></a></g><!--MD5=[4d1334d97430a4e200ca53290a921094]\n",
       "@startuml\r\n",
       "skin sysmlc\r\n",
       "skinparam wrapWidth 300\r\n",
       "hide circle\r\n",
       "\r\n",
       "package \"MultiplicityTest\" as E1  [[psysml:26edc399-ba1b-4e26-98ec-184b2d561983 ]]  {\r\n",
       "comp def \"P\" as E2  <<(T,blue) part  def>> [[psysml:a78c9232-7355-4122-98e1-61ea033b6fbd ]] {\r\n",
       "}\r\n",
       "comp usage \"n: Integer  \" as E3  <<(T,blue) attribute>> [[psysml:6e5bcad0-e721-42f0-8965-8cf810de127c ]] {\r\n",
       "##//values//##\r\n",
       " <U+003D> 5\r\n",
       "}\r\n",
       "comp usage \"a  \" as E4  <<(T,blue) part>> [[psysml:58ca86c4-6609-462b-9948-87aadb08d281 ]] {\r\n",
       "}\r\n",
       "comp usage \"b: P  \" as E5  <<(T,blue) part>> [[psysml:8959fced-ddce-434c-832c-e17faa00a5de ]] {\r\n",
       "}\r\n",
       "comp usage \"c: P  \" as E6  <<(T,blue) part>> [[psysml:4ac8fd09-bbc3-4ec3-ba18-7592ef56bccd ]] {\r\n",
       "}\r\n",
       "comp usage \"d  \" as E7  <<(T,blue) part>> [[psysml:58aa0206-e878-4c1d-8c3a-c879ca6e4b13 ]] {\r\n",
       "}\r\n",
       "comp usage \"e  \" as E8  <<(T,blue) part>> [[psysml:21978b5e-874b-4020-b12b-41f872f49c78 ]] {\r\n",
       "}\r\n",
       "comp usage \"f  \" as E9  <<(T,blue) part>> [[psysml:79f00190-11a9-479d-9f29-e880a27768bf ]] {\r\n",
       "}\r\n",
       "comp usage \"g  \" as E10  <<(T,blue) part>> [[psysml:3e79cc57-1ff4-4d61-ad54-8c0f8362d5da ]] {\r\n",
       "}\r\n",
       "comp def \"A\" as E11  <<(T,blue) attribute  def>> [[psysml:cae84388-2b2f-4b61-9caf-e3201f6c4bb4 ]] {\r\n",
       "##//attributes//##\r\n",
       "i: Integer\r\n",
       "x: A\r\n",
       "}\r\n",
       "}\r\n",
       "E5 - -:|> E2 [[psysml:356b088d-f058-4498-8151-02a64d9c5f99 ]] \r\n",
       "E6 - -:|> E2 [[psysml:849948e9-2a63-47c9-a787-96ae36e28ef0 ]] \r\n",
       "@enduml\r\n",
       "\n",
       "PlantUML version 1.2022.7(Mon Aug 22 17:01:30 UTC 2022)\n",
       "(EPL source distribution)\n",
       "Java Runtime: OpenJDK Runtime Environment\n",
       "JVM: OpenJDK 64-Bit Server VM\n",
       "Default Encoding: UTF-8\n",
       "Language: en\n",
       "Country: null\n",
       "--></g></svg>"
      ]
     },
     "execution_count": 29,
     "metadata": {},
     "output_type": "execute_result"
    }
   ],
   "source": [
    "%viz --style=\"STDCOLOR\" --view=\"MIXED\" \"MultiplicityTest\""
   ]
  },
  {
   "cell_type": "code",
   "execution_count": 30,
   "id": "7f08a57c",
   "metadata": {
    "execution": {
     "iopub.execute_input": "2024-12-16T03:27:06.313818Z",
     "iopub.status.busy": "2024-12-16T03:27:06.313452Z",
     "iopub.status.idle": "2024-12-16T03:27:06.468146Z",
     "shell.execute_reply": "2024-12-16T03:27:06.467278Z"
    }
   },
   "outputs": [
    {
     "data": {
      "image/svg+xml": [
       "<?xml version=\"1.0\" encoding=\"UTF-8\" standalone=\"no\"?><svg xmlns=\"http://www.w3.org/2000/svg\" xmlns:xlink=\"http://www.w3.org/1999/xlink\" contentStyleType=\"text/css\" height=\"255px\" preserveAspectRatio=\"none\" style=\"width:1034px;height:255px;background:#FFFFFF;\" version=\"1.1\" viewBox=\"0 0 1034 255\" width=\"1034px\" zoomAndPan=\"magnify\"><defs/><g><!--MD5=[fbc87193dbaf4d95561dea2c320d4a47]\n",
       "cluster E1--><g id=\"cluster_E1\"><a href=\"psysml:26edc399-ba1b-4e26-98ec-184b2d561983\" target=\"_top\" title=\"psysml:26edc399-ba1b-4e26-98ec-184b2d561983\" xlink:actuate=\"onRequest\" xlink:href=\"psysml:26edc399-ba1b-4e26-98ec-184b2d561983\" xlink:show=\"new\" xlink:title=\"psysml:26edc399-ba1b-4e26-98ec-184b2d561983\" xlink:type=\"simple\"><path d=\"M8.5,6 L117.5,6 A3.75,3.75 0 0 1 120,8.5 L127,28.2969 L1024.5,28.2969 A2.5,2.5 0 0 1 1027,30.7969 L1027,245.5 A2.5,2.5 0 0 1 1024.5,248 L8.5,248 A2.5,2.5 0 0 1 6,245.5 L6,8.5 A2.5,2.5 0 0 1 8.5,6 \" fill=\"none\" style=\"stroke:#000000;stroke-width:1.5;\"/><line style=\"stroke:#000000;stroke-width:1.5;\" x1=\"6\" x2=\"127\" y1=\"28.2969\" y2=\"28.2969\"/><text fill=\"#000000\" font-family=\"sans-serif\" font-size=\"14\" font-weight=\"bold\" lengthAdjust=\"spacing\" textLength=\"108\" x=\"10\" y=\"20.9951\">MultiplicityTest</text></a></g><!--MD5=[b4997ac47864f28c2f74865a473b2911]\n",
       "class E2--><a href=\"psysml:a78c9232-7355-4122-98e1-61ea033b6fbd\" target=\"_top\" title=\"psysml:a78c9232-7355-4122-98e1-61ea033b6fbd\" xlink:actuate=\"onRequest\" xlink:href=\"psysml:a78c9232-7355-4122-98e1-61ea033b6fbd\" xlink:show=\"new\" xlink:title=\"psysml:a78c9232-7355-4122-98e1-61ea033b6fbd\" xlink:type=\"simple\"><g id=\"elem_E2\"><rect fill=\"#F1F1F1\" height=\"40\" id=\"E2\" rx=\"2.5\" ry=\"2.5\" style=\"stroke:#181818;stroke-width:0.5;\" width=\"41\" x=\"659.5\" y=\"192\"/><ellipse cx=\"674.5\" cy=\"208\" fill=\"#008000\" rx=\"11\" ry=\"11\" style=\"stroke:#181818;stroke-width:1.0;\"/><path d=\"M671.3594,214.5 L671.3594,202.3594 L675.1563,202.3594 Q677.1563,202.3594 678.2031,203.0625 Q679.2656,203.7656 679.2656,205.3438 Q679.2656,206.4375 678.7656,207.1563 Q678.2813,207.875 677.4531,208.0625 L677.4531,208.1406 Q678.375,208.3594 678.9375,209.0313 Q679.5156,209.6875 679.5156,210.9531 Q679.5156,212.6094 678.4688,213.5625 Q677.4219,214.5 675.5625,214.5 L671.3594,214.5 Z M675.1406,207.1406 Q676.0313,207.1406 676.3906,206.8125 Q676.7656,206.4688 676.7656,205.7656 Q676.7656,205.0313 676.375,204.7188 Q675.9844,204.3906 675.0469,204.3906 L673.6563,204.3906 L673.6563,207.1406 L675.1406,207.1406 Z M675.3281,212.4844 Q676.2344,212.4844 676.5938,212.0469 Q676.9531,211.5938 676.9531,210.8125 Q676.9531,210.0313 676.5781,209.6406 Q676.2188,209.2344 675.2344,209.2344 L673.6563,209.2344 L673.6563,212.4844 L675.3281,212.4844 Z \" fill=\"#000000\"/><text fill=\"#000000\" font-family=\"sans-serif\" font-size=\"14\" lengthAdjust=\"spacing\" textLength=\"9\" x=\"688.5\" y=\"212.8467\">P</text><line style=\"stroke:#181818;stroke-width:0.5;\" x1=\"660.5\" x2=\"699.5\" y1=\"224\" y2=\"224\"/></g></a><!--MD5=[09b614a08d8cba4a07c9adeb5e0fee81]\n",
       "class E3--><a href=\"psysml:6e5bcad0-e721-42f0-8965-8cf810de127c\" target=\"_top\" title=\"psysml:6e5bcad0-e721-42f0-8965-8cf810de127c\" xlink:actuate=\"onRequest\" xlink:href=\"psysml:6e5bcad0-e721-42f0-8965-8cf810de127c\" xlink:show=\"new\" xlink:title=\"psysml:6e5bcad0-e721-42f0-8965-8cf810de127c\" xlink:type=\"simple\"><g id=\"elem_E3\"><rect fill=\"#F1F1F1\" height=\"75.0813\" id=\"E3\" rx=\"10\" ry=\"10\" style=\"stroke:#181818;stroke-width:0.5;\" width=\"107\" x=\"904.5\" y=\"49\"/><ellipse cx=\"919.5\" cy=\"69.1328\" fill=\"#FFA500\" rx=\"11\" ry=\"11\" style=\"stroke:#181818;stroke-width:1.0;\"/><path d=\"M919.5625,76.3047 Q917.4531,76.3047 916.3594,75.1797 Q915.2656,74.0547 915.2656,72.0078 L915.2656,63.9922 L917.7344,63.9922 L917.7344,71.5703 Q917.7344,73.0078 918.1875,73.6016 Q918.6406,74.1797 919.5938,74.1797 Q920.6094,74.1797 921.0313,73.5703 Q921.4688,72.9609 921.4688,71.5547 L921.4688,63.9922 L923.9375,63.9922 L923.9375,71.9922 Q923.9375,73.9766 922.8438,75.1484 Q921.7656,76.3047 919.5625,76.3047 Z \" fill=\"#000000\"/><text fill=\"#000000\" font-family=\"sans-serif\" font-size=\"12\" font-style=\"italic\" lengthAdjust=\"spacing\" textLength=\"69\" x=\"936.5\" y=\"65.1387\">«attribute»</text><text fill=\"#000000\" font-family=\"sans-serif\" font-size=\"14\" lengthAdjust=\"spacing\" textLength=\"67\" x=\"933.5\" y=\"80.9639\">n: Integer</text><line style=\"stroke:#181818;stroke-width:0.5;\" x1=\"905.5\" x2=\"1010.5\" y1=\"89.2656\" y2=\"89.2656\"/><text fill=\"#000000\" font-family=\"sans-serif\" font-size=\"14\" lengthAdjust=\"spacing\" textLength=\"25\" x=\"910.5\" y=\"116.7795\">= 5</text><text fill=\"#000000\" font-family=\"sans-serif\" font-size=\"14\" font-style=\"italic\" lengthAdjust=\"spacing\" textLength=\"44\" x=\"936\" y=\"101.6123\">values</text></g></a><!--MD5=[ebbe1d658d1005bcc118a6aa81145e00]\n",
       "class E4--><a href=\"psysml:58ca86c4-6609-462b-9948-87aadb08d281\" target=\"_top\" title=\"psysml:58ca86c4-6609-462b-9948-87aadb08d281\" xlink:actuate=\"onRequest\" xlink:href=\"psysml:58ca86c4-6609-462b-9948-87aadb08d281\" xlink:show=\"new\" xlink:title=\"psysml:58ca86c4-6609-462b-9948-87aadb08d281\" xlink:type=\"simple\"><g id=\"elem_E4\"><rect fill=\"#F1F1F1\" height=\"48.2656\" id=\"E4\" rx=\"10\" ry=\"10\" style=\"stroke:#181818;stroke-width:0.5;\" width=\"68\" x=\"801\" y=\"62.5\"/><ellipse cx=\"816\" cy=\"82.6328\" fill=\"#32CD32\" rx=\"11\" ry=\"11\" style=\"stroke:#181818;stroke-width:1.0;\"/><path d=\"M812.8594,89.1328 L812.8594,76.9922 L816.8906,76.9922 Q818.9844,76.9922 820,77.9766 Q821.0156,78.9453 821.0156,80.7734 Q821.0156,81.9766 820.5781,82.8828 Q820.1563,83.7891 819.2031,84.3047 Q818.2656,84.8203 816.7344,84.8203 L815.2344,84.8203 L815.2344,89.1328 L812.8594,89.1328 Z M816.4844,82.7266 Q817.5313,82.7266 818.0469,82.2422 Q818.5781,81.7578 818.5781,80.8672 Q818.5781,79.9766 818.1406,79.5391 Q817.7188,79.0859 816.7969,79.0859 L815.2344,79.0859 L815.2344,82.7266 L816.4844,82.7266 Z \" fill=\"#000000\"/><text fill=\"#000000\" font-family=\"sans-serif\" font-size=\"12\" font-style=\"italic\" lengthAdjust=\"spacing\" textLength=\"40\" x=\"828\" y=\"78.6387\">«part»</text><text fill=\"#000000\" font-family=\"sans-serif\" font-size=\"14\" lengthAdjust=\"spacing\" textLength=\"8\" x=\"840\" y=\"94.4639\">a</text><line style=\"stroke:#181818;stroke-width:0.5;\" x1=\"802\" x2=\"868\" y1=\"102.7656\" y2=\"102.7656\"/></g></a><!--MD5=[270fce915f116d4de14055a7c1d9a0f3]\n",
       "class E5--><a href=\"psysml:8959fced-ddce-434c-832c-e17faa00a5de\" target=\"_top\" title=\"psysml:8959fced-ddce-434c-832c-e17faa00a5de\" xlink:actuate=\"onRequest\" xlink:href=\"psysml:8959fced-ddce-434c-832c-e17faa00a5de\" xlink:show=\"new\" xlink:title=\"psysml:8959fced-ddce-434c-832c-e17faa00a5de\" xlink:type=\"simple\"><g id=\"elem_E5\"><rect fill=\"#F1F1F1\" height=\"48.2656\" id=\"E5\" rx=\"10\" ry=\"10\" style=\"stroke:#181818;stroke-width:0.5;\" width=\"68\" x=\"698\" y=\"62.5\"/><ellipse cx=\"713\" cy=\"82.6328\" fill=\"#32CD32\" rx=\"11\" ry=\"11\" style=\"stroke:#181818;stroke-width:1.0;\"/><path d=\"M709.8594,89.1328 L709.8594,76.9922 L713.8906,76.9922 Q715.9844,76.9922 717,77.9766 Q718.0156,78.9453 718.0156,80.7734 Q718.0156,81.9766 717.5781,82.8828 Q717.1563,83.7891 716.2031,84.3047 Q715.2656,84.8203 713.7344,84.8203 L712.2344,84.8203 L712.2344,89.1328 L709.8594,89.1328 Z M713.4844,82.7266 Q714.5313,82.7266 715.0469,82.2422 Q715.5781,81.7578 715.5781,80.8672 Q715.5781,79.9766 715.1406,79.5391 Q714.7188,79.0859 713.7969,79.0859 L712.2344,79.0859 L712.2344,82.7266 L713.4844,82.7266 Z \" fill=\"#000000\"/><text fill=\"#000000\" font-family=\"sans-serif\" font-size=\"12\" font-style=\"italic\" lengthAdjust=\"spacing\" textLength=\"40\" x=\"725\" y=\"78.6387\">«part»</text><text fill=\"#000000\" font-family=\"sans-serif\" font-size=\"14\" lengthAdjust=\"spacing\" textLength=\"27\" x=\"727.5\" y=\"94.4639\">b: P</text><line style=\"stroke:#181818;stroke-width:0.5;\" x1=\"699\" x2=\"765\" y1=\"102.7656\" y2=\"102.7656\"/></g></a><!--MD5=[60a26617385b1d2d0262a64233df1f8d]\n",
       "class E6--><a href=\"psysml:4ac8fd09-bbc3-4ec3-ba18-7592ef56bccd\" target=\"_top\" title=\"psysml:4ac8fd09-bbc3-4ec3-ba18-7592ef56bccd\" xlink:actuate=\"onRequest\" xlink:href=\"psysml:4ac8fd09-bbc3-4ec3-ba18-7592ef56bccd\" xlink:show=\"new\" xlink:title=\"psysml:4ac8fd09-bbc3-4ec3-ba18-7592ef56bccd\" xlink:type=\"simple\"><g id=\"elem_E6\"><rect fill=\"#F1F1F1\" height=\"48.2656\" id=\"E6\" rx=\"10\" ry=\"10\" style=\"stroke:#181818;stroke-width:0.5;\" width=\"68\" x=\"595\" y=\"62.5\"/><ellipse cx=\"610\" cy=\"82.6328\" fill=\"#32CD32\" rx=\"11\" ry=\"11\" style=\"stroke:#181818;stroke-width:1.0;\"/><path d=\"M606.8594,89.1328 L606.8594,76.9922 L610.8906,76.9922 Q612.9844,76.9922 614,77.9766 Q615.0156,78.9453 615.0156,80.7734 Q615.0156,81.9766 614.5781,82.8828 Q614.1563,83.7891 613.2031,84.3047 Q612.2656,84.8203 610.7344,84.8203 L609.2344,84.8203 L609.2344,89.1328 L606.8594,89.1328 Z M610.4844,82.7266 Q611.5313,82.7266 612.0469,82.2422 Q612.5781,81.7578 612.5781,80.8672 Q612.5781,79.9766 612.1406,79.5391 Q611.7188,79.0859 610.7969,79.0859 L609.2344,79.0859 L609.2344,82.7266 L610.4844,82.7266 Z \" fill=\"#000000\"/><text fill=\"#000000\" font-family=\"sans-serif\" font-size=\"12\" font-style=\"italic\" lengthAdjust=\"spacing\" textLength=\"40\" x=\"622\" y=\"78.6387\">«part»</text><text fill=\"#000000\" font-family=\"sans-serif\" font-size=\"14\" lengthAdjust=\"spacing\" textLength=\"26\" x=\"625\" y=\"94.4639\">c: P</text><line style=\"stroke:#181818;stroke-width:0.5;\" x1=\"596\" x2=\"662\" y1=\"102.7656\" y2=\"102.7656\"/></g></a><!--MD5=[2156ba9850f5573cc1fc38a6a4b2f02b]\n",
       "class E7--><a href=\"psysml:58aa0206-e878-4c1d-8c3a-c879ca6e4b13\" target=\"_top\" title=\"psysml:58aa0206-e878-4c1d-8c3a-c879ca6e4b13\" xlink:actuate=\"onRequest\" xlink:href=\"psysml:58aa0206-e878-4c1d-8c3a-c879ca6e4b13\" xlink:show=\"new\" xlink:title=\"psysml:58aa0206-e878-4c1d-8c3a-c879ca6e4b13\" xlink:type=\"simple\"><g id=\"elem_E7\"><rect fill=\"#F1F1F1\" height=\"48.2656\" id=\"E7\" rx=\"10\" ry=\"10\" style=\"stroke:#181818;stroke-width:0.5;\" width=\"68\" x=\"492\" y=\"62.5\"/><ellipse cx=\"507\" cy=\"82.6328\" fill=\"#32CD32\" rx=\"11\" ry=\"11\" style=\"stroke:#181818;stroke-width:1.0;\"/><path d=\"M503.8594,89.1328 L503.8594,76.9922 L507.8906,76.9922 Q509.9844,76.9922 511,77.9766 Q512.0156,78.9453 512.0156,80.7734 Q512.0156,81.9766 511.5781,82.8828 Q511.1563,83.7891 510.2031,84.3047 Q509.2656,84.8203 507.7344,84.8203 L506.2344,84.8203 L506.2344,89.1328 L503.8594,89.1328 Z M507.4844,82.7266 Q508.5313,82.7266 509.0469,82.2422 Q509.5781,81.7578 509.5781,80.8672 Q509.5781,79.9766 509.1406,79.5391 Q508.7188,79.0859 507.7969,79.0859 L506.2344,79.0859 L506.2344,82.7266 L507.4844,82.7266 Z \" fill=\"#000000\"/><text fill=\"#000000\" font-family=\"sans-serif\" font-size=\"12\" font-style=\"italic\" lengthAdjust=\"spacing\" textLength=\"40\" x=\"519\" y=\"78.6387\">«part»</text><text fill=\"#000000\" font-family=\"sans-serif\" font-size=\"14\" lengthAdjust=\"spacing\" textLength=\"9\" x=\"530.5\" y=\"94.4639\">d</text><line style=\"stroke:#181818;stroke-width:0.5;\" x1=\"493\" x2=\"559\" y1=\"102.7656\" y2=\"102.7656\"/></g></a><!--MD5=[b9389687b975829384b498ac4b7476b2]\n",
       "class E8--><a href=\"psysml:21978b5e-874b-4020-b12b-41f872f49c78\" target=\"_top\" title=\"psysml:21978b5e-874b-4020-b12b-41f872f49c78\" xlink:actuate=\"onRequest\" xlink:href=\"psysml:21978b5e-874b-4020-b12b-41f872f49c78\" xlink:show=\"new\" xlink:title=\"psysml:21978b5e-874b-4020-b12b-41f872f49c78\" xlink:type=\"simple\"><g id=\"elem_E8\"><rect fill=\"#F1F1F1\" height=\"48.2656\" id=\"E8\" rx=\"10\" ry=\"10\" style=\"stroke:#181818;stroke-width:0.5;\" width=\"68\" x=\"389\" y=\"62.5\"/><ellipse cx=\"404\" cy=\"82.6328\" fill=\"#32CD32\" rx=\"11\" ry=\"11\" style=\"stroke:#181818;stroke-width:1.0;\"/><path d=\"M400.8594,89.1328 L400.8594,76.9922 L404.8906,76.9922 Q406.9844,76.9922 408,77.9766 Q409.0156,78.9453 409.0156,80.7734 Q409.0156,81.9766 408.5781,82.8828 Q408.1563,83.7891 407.2031,84.3047 Q406.2656,84.8203 404.7344,84.8203 L403.2344,84.8203 L403.2344,89.1328 L400.8594,89.1328 Z M404.4844,82.7266 Q405.5313,82.7266 406.0469,82.2422 Q406.5781,81.7578 406.5781,80.8672 Q406.5781,79.9766 406.1406,79.5391 Q405.7188,79.0859 404.7969,79.0859 L403.2344,79.0859 L403.2344,82.7266 L404.4844,82.7266 Z \" fill=\"#000000\"/><text fill=\"#000000\" font-family=\"sans-serif\" font-size=\"12\" font-style=\"italic\" lengthAdjust=\"spacing\" textLength=\"40\" x=\"416\" y=\"78.6387\">«part»</text><text fill=\"#000000\" font-family=\"sans-serif\" font-size=\"14\" lengthAdjust=\"spacing\" textLength=\"9\" x=\"427.5\" y=\"94.4639\">e</text><line style=\"stroke:#181818;stroke-width:0.5;\" x1=\"390\" x2=\"456\" y1=\"102.7656\" y2=\"102.7656\"/></g></a><!--MD5=[fd4143e9d270a159db93a4ea2a975926]\n",
       "class E9--><a href=\"psysml:79f00190-11a9-479d-9f29-e880a27768bf\" target=\"_top\" title=\"psysml:79f00190-11a9-479d-9f29-e880a27768bf\" xlink:actuate=\"onRequest\" xlink:href=\"psysml:79f00190-11a9-479d-9f29-e880a27768bf\" xlink:show=\"new\" xlink:title=\"psysml:79f00190-11a9-479d-9f29-e880a27768bf\" xlink:type=\"simple\"><g id=\"elem_E9\"><rect fill=\"#F1F1F1\" height=\"48.2656\" id=\"E9\" rx=\"10\" ry=\"10\" style=\"stroke:#181818;stroke-width:0.5;\" width=\"68\" x=\"286\" y=\"62.5\"/><ellipse cx=\"301\" cy=\"82.6328\" fill=\"#32CD32\" rx=\"11\" ry=\"11\" style=\"stroke:#181818;stroke-width:1.0;\"/><path d=\"M297.8594,89.1328 L297.8594,76.9922 L301.8906,76.9922 Q303.9844,76.9922 305,77.9766 Q306.0156,78.9453 306.0156,80.7734 Q306.0156,81.9766 305.5781,82.8828 Q305.1563,83.7891 304.2031,84.3047 Q303.2656,84.8203 301.7344,84.8203 L300.2344,84.8203 L300.2344,89.1328 L297.8594,89.1328 Z M301.4844,82.7266 Q302.5313,82.7266 303.0469,82.2422 Q303.5781,81.7578 303.5781,80.8672 Q303.5781,79.9766 303.1406,79.5391 Q302.7188,79.0859 301.7969,79.0859 L300.2344,79.0859 L300.2344,82.7266 L301.4844,82.7266 Z \" fill=\"#000000\"/><text fill=\"#000000\" font-family=\"sans-serif\" font-size=\"12\" font-style=\"italic\" lengthAdjust=\"spacing\" textLength=\"40\" x=\"313\" y=\"78.6387\">«part»</text><text fill=\"#000000\" font-family=\"sans-serif\" font-size=\"14\" lengthAdjust=\"spacing\" textLength=\"4\" x=\"327\" y=\"94.4639\">f</text><line style=\"stroke:#181818;stroke-width:0.5;\" x1=\"287\" x2=\"353\" y1=\"102.7656\" y2=\"102.7656\"/></g></a><!--MD5=[96f4274e9e20536e775497830990834d]\n",
       "class E10--><a href=\"psysml:3e79cc57-1ff4-4d61-ad54-8c0f8362d5da\" target=\"_top\" title=\"psysml:3e79cc57-1ff4-4d61-ad54-8c0f8362d5da\" xlink:actuate=\"onRequest\" xlink:href=\"psysml:3e79cc57-1ff4-4d61-ad54-8c0f8362d5da\" xlink:show=\"new\" xlink:title=\"psysml:3e79cc57-1ff4-4d61-ad54-8c0f8362d5da\" xlink:type=\"simple\"><g id=\"elem_E10\"><rect fill=\"#F1F1F1\" height=\"48.2656\" id=\"E10\" rx=\"10\" ry=\"10\" style=\"stroke:#181818;stroke-width:0.5;\" width=\"68\" x=\"183\" y=\"62.5\"/><ellipse cx=\"198\" cy=\"82.6328\" fill=\"#32CD32\" rx=\"11\" ry=\"11\" style=\"stroke:#181818;stroke-width:1.0;\"/><path d=\"M194.8594,89.1328 L194.8594,76.9922 L198.8906,76.9922 Q200.9844,76.9922 202,77.9766 Q203.0156,78.9453 203.0156,80.7734 Q203.0156,81.9766 202.5781,82.8828 Q202.1563,83.7891 201.2031,84.3047 Q200.2656,84.8203 198.7344,84.8203 L197.2344,84.8203 L197.2344,89.1328 L194.8594,89.1328 Z M198.4844,82.7266 Q199.5313,82.7266 200.0469,82.2422 Q200.5781,81.7578 200.5781,80.8672 Q200.5781,79.9766 200.1406,79.5391 Q199.7188,79.0859 198.7969,79.0859 L197.2344,79.0859 L197.2344,82.7266 L198.4844,82.7266 Z \" fill=\"#000000\"/><text fill=\"#000000\" font-family=\"sans-serif\" font-size=\"12\" font-style=\"italic\" lengthAdjust=\"spacing\" textLength=\"40\" x=\"210\" y=\"78.6387\">«part»</text><text fill=\"#000000\" font-family=\"sans-serif\" font-size=\"14\" lengthAdjust=\"spacing\" textLength=\"9\" x=\"221.5\" y=\"94.4639\">g</text><line style=\"stroke:#181818;stroke-width:0.5;\" x1=\"184\" x2=\"250\" y1=\"102.7656\" y2=\"102.7656\"/></g></a><!--MD5=[1dd1bfd58a279cf63c5f349dbc8fc6a1]\n",
       "class E11--><a href=\"psysml:cae84388-2b2f-4b61-9caf-e3201f6c4bb4\" target=\"_top\" title=\"psysml:cae84388-2b2f-4b61-9caf-e3201f6c4bb4\" xlink:actuate=\"onRequest\" xlink:href=\"psysml:cae84388-2b2f-4b61-9caf-e3201f6c4bb4\" xlink:show=\"new\" xlink:title=\"psysml:cae84388-2b2f-4b61-9caf-e3201f6c4bb4\" xlink:type=\"simple\"><g id=\"elem_E11\"><rect fill=\"#F1F1F1\" height=\"91.3781\" id=\"E11\" rx=\"2.5\" ry=\"2.5\" style=\"stroke:#181818;stroke-width:0.5;\" width=\"125\" x=\"22.5\" y=\"41\"/><ellipse cx=\"37.5\" cy=\"61.1328\" fill=\"#A52A2A\" rx=\"11\" ry=\"11\" style=\"stroke:#181818;stroke-width:1.0;\"/><path d=\"M34.2656,67.6328 L34.2656,55.4922 L38.0156,55.4922 Q40.3906,55.4922 41.7813,57.0078 Q43.1875,58.5078 43.1875,61.4609 Q43.1875,64.4297 41.75,66.0391 Q40.3125,67.6328 37.8281,67.6328 L34.2656,67.6328 Z M37.7031,65.5391 Q39.25,65.5391 39.9688,64.5391 Q40.6875,63.5391 40.6875,61.4766 Q40.6875,59.4453 39.9844,58.5234 Q39.2969,57.5859 37.9063,57.5859 L36.7031,57.5859 L36.7031,65.5391 L37.7031,65.5391 Z \" fill=\"#000000\"/><text fill=\"#000000\" font-family=\"sans-serif\" font-size=\"12\" font-style=\"italic\" lengthAdjust=\"spacing\" textLength=\"97\" x=\"49.5\" y=\"57.1387\">«attribute  def»</text><text fill=\"#000000\" font-family=\"sans-serif\" font-size=\"14\" lengthAdjust=\"spacing\" textLength=\"9\" x=\"93.5\" y=\"72.9639\">A</text><line style=\"stroke:#181818;stroke-width:0.5;\" x1=\"23.5\" x2=\"146.5\" y1=\"81.2656\" y2=\"81.2656\"/><text fill=\"#000000\" font-family=\"sans-serif\" font-size=\"14\" lengthAdjust=\"spacing\" textLength=\"61\" x=\"28.5\" y=\"108.7795\">i: Integer</text><text fill=\"#000000\" font-family=\"sans-serif\" font-size=\"14\" lengthAdjust=\"spacing\" textLength=\"25\" x=\"28.5\" y=\"125.0764\">x: A</text><text fill=\"#000000\" font-family=\"sans-serif\" font-size=\"14\" font-style=\"italic\" lengthAdjust=\"spacing\" textLength=\"66\" x=\"52\" y=\"93.6123\">attributes</text></g></a><!--MD5=[15ebcb19ae302d9b601edb458606d402]\n",
       "link E5 to E2--><g id=\"link_E5_E2\"><a href=\"psysml:356b088d-f058-4498-8151-02a64d9c5f99\" target=\"_top\" title=\"psysml:356b088d-f058-4498-8151-02a64d9c5f99\" xlink:actuate=\"onRequest\" xlink:href=\"psysml:356b088d-f058-4498-8151-02a64d9c5f99\" xlink:show=\"new\" xlink:title=\"psysml:356b088d-f058-4498-8151-02a64d9c5f99\" xlink:type=\"simple\"><path d=\"M722.22,110.73 C714.81,128.34 704.46,152.9 695.87,173.31 \" fill=\"none\" id=\"E5-to-E2\" style=\"stroke:#181818;stroke-width:1.0;\"/><polygon fill=\"#FFFFFF\" points=\"688.03,191.92,688.9572,171.6928,701.8586,177.1292,688.03,191.92\" style=\"stroke:#181818;stroke-width:1.0;\"/><ellipse cx=\"693.0137\" cy=\"167.2167\" fill=\"#181818\" rx=\"2\" ry=\"2\" style=\"stroke:#181818;stroke-width:1.0;\"/><ellipse cx=\"702.229\" cy=\"171.0998\" fill=\"#181818\" rx=\"2\" ry=\"2\" style=\"stroke:#181818;stroke-width:1.0;\"/></a></g><!--MD5=[2351f337d6de0f557b50152ba70847b5]\n",
       "link E6 to E2--><g id=\"link_E6_E2\"><a href=\"psysml:849948e9-2a63-47c9-a787-96ae36e28ef0\" target=\"_top\" title=\"psysml:849948e9-2a63-47c9-a787-96ae36e28ef0\" xlink:actuate=\"onRequest\" xlink:href=\"psysml:849948e9-2a63-47c9-a787-96ae36e28ef0\" xlink:show=\"new\" xlink:title=\"psysml:849948e9-2a63-47c9-a787-96ae36e28ef0\" xlink:type=\"simple\"><path d=\"M638.59,110.73 C645.86,128.34 656.01,152.9 664.44,173.31 \" fill=\"none\" id=\"E6-to-E2\" style=\"stroke:#181818;stroke-width:1.0;\"/><polygon fill=\"#FFFFFF\" points=\"672.12,191.92,658.4014,177.027,671.3428,171.6865,672.12,191.92\" style=\"stroke:#181818;stroke-width:1.0;\"/><ellipse cx=\"658.0758\" cy=\"170.9951\" fill=\"#181818\" rx=\"2\" ry=\"2\" style=\"stroke:#181818;stroke-width:1.0;\"/><ellipse cx=\"667.3196\" cy=\"167.1804\" fill=\"#181818\" rx=\"2\" ry=\"2\" style=\"stroke:#181818;stroke-width:1.0;\"/></a></g><!--MD5=[e22c4dee981e4aae85a58c15dd8c06bc]\n",
       "@startuml\r\n",
       " \r\n",
       "package \"MultiplicityTest\" as E1  [[psysml:26edc399-ba1b-4e26-98ec-184b2d561983 ]]  {\r\n",
       "comp def \"P\" as E2  << << (B,green) >> [[psysml:a78c9232-7355-4122-98e1-61ea033b6fbd ]] {\r\n",
       "}\r\n",
       "comp usage \"n: Integer  \" as E3  << <<(U,orange) attribute>> [[psysml:6e5bcad0-e721-42f0-8965-8cf810de127c ]] {\r\n",
       "##//values//##\r\n",
       " <U+003D> 5\r\n",
       "}\r\n",
       "comp usage \"a  \" as E4  << << (P,limegreen) part>> [[psysml:58ca86c4-6609-462b-9948-87aadb08d281 ]] {\r\n",
       "}\r\n",
       "comp usage \"b: P  \" as E5  << << (P,limegreen) part>> [[psysml:8959fced-ddce-434c-832c-e17faa00a5de ]] {\r\n",
       "}\r\n",
       "comp usage \"c: P  \" as E6  << << (P,limegreen) part>> [[psysml:4ac8fd09-bbc3-4ec3-ba18-7592ef56bccd ]] {\r\n",
       "}\r\n",
       "comp usage \"d  \" as E7  << << (P,limegreen) part>> [[psysml:58aa0206-e878-4c1d-8c3a-c879ca6e4b13 ]] {\r\n",
       "}\r\n",
       "comp usage \"e  \" as E8  << << (P,limegreen) part>> [[psysml:21978b5e-874b-4020-b12b-41f872f49c78 ]] {\r\n",
       "}\r\n",
       "comp usage \"f  \" as E9  << << (P,limegreen) part>> [[psysml:79f00190-11a9-479d-9f29-e880a27768bf ]] {\r\n",
       "}\r\n",
       "comp usage \"g  \" as E10  << << (P,limegreen) part>> [[psysml:3e79cc57-1ff4-4d61-ad54-8c0f8362d5da ]] {\r\n",
       "}\r\n",
       "comp def \"A\" as E11  << <<(D,brown) attribute  def>> [[psysml:cae84388-2b2f-4b61-9caf-e3201f6c4bb4 ]] {\r\n",
       "##//attributes//##\r\n",
       "i: Integer\r\n",
       "x: A\r\n",
       "}\r\n",
       "}\r\n",
       "E5 - -:|> E2 [[psysml:356b088d-f058-4498-8151-02a64d9c5f99 ]] \r\n",
       "E6 - -:|> E2 [[psysml:849948e9-2a63-47c9-a787-96ae36e28ef0 ]] \r\n",
       "@enduml\r\n",
       "\n",
       "PlantUML version 1.2022.7(Mon Aug 22 17:01:30 UTC 2022)\n",
       "(EPL source distribution)\n",
       "Java Runtime: OpenJDK Runtime Environment\n",
       "JVM: OpenJDK 64-Bit Server VM\n",
       "Default Encoding: UTF-8\n",
       "Language: en\n",
       "Country: null\n",
       "--></g></svg>"
      ]
     },
     "execution_count": 30,
     "metadata": {},
     "output_type": "execute_result"
    }
   ],
   "source": [
    "%viz --style=\"PLANTUML\" --view=\"Default\" \"MultiplicityTest\""
   ]
  },
  {
   "cell_type": "code",
   "execution_count": 31,
   "id": "fa01a206",
   "metadata": {
    "execution": {
     "iopub.execute_input": "2024-12-16T03:27:06.520165Z",
     "iopub.status.busy": "2024-12-16T03:27:06.519937Z",
     "iopub.status.idle": "2024-12-16T03:27:06.547636Z",
     "shell.execute_reply": "2024-12-16T03:27:06.546774Z"
    }
   },
   "outputs": [
    {
     "data": {
      "image/svg+xml": [
       "<?xml version=\"1.0\" encoding=\"UTF-8\" standalone=\"no\"?><svg xmlns=\"http://www.w3.org/2000/svg\" xmlns:xlink=\"http://www.w3.org/1999/xlink\" contentStyleType=\"text/css\" height=\"255px\" preserveAspectRatio=\"none\" style=\"width:1129px;height:255px;background:#FFFFFF;\" version=\"1.1\" viewBox=\"0 0 1129 255\" width=\"1129px\" zoomAndPan=\"magnify\"><defs/><g><!--MD5=[fbc87193dbaf4d95561dea2c320d4a47]\n",
       "cluster E1--><g id=\"cluster_E1\"><a href=\"psysml:26edc399-ba1b-4e26-98ec-184b2d561983\" target=\"_top\" title=\"psysml:26edc399-ba1b-4e26-98ec-184b2d561983\" xlink:actuate=\"onRequest\" xlink:href=\"psysml:26edc399-ba1b-4e26-98ec-184b2d561983\" xlink:show=\"new\" xlink:title=\"psysml:26edc399-ba1b-4e26-98ec-184b2d561983\" xlink:type=\"simple\"><path d=\"M8.5,6 L117.5,6 A3.75,3.75 0 0 1 120,8.5 L127,28.2969 L1119.5,28.2969 A2.5,2.5 0 0 1 1122,30.7969 L1122,245.5 A2.5,2.5 0 0 1 1119.5,248 L8.5,248 A2.5,2.5 0 0 1 6,245.5 L6,8.5 A2.5,2.5 0 0 1 8.5,6 \" fill=\"none\" style=\"stroke:#000000;stroke-width:1.5;\"/><line style=\"stroke:#000000;stroke-width:1.5;\" x1=\"6\" x2=\"127\" y1=\"28.2969\" y2=\"28.2969\"/><text fill=\"#000000\" font-family=\"sans-serif\" font-size=\"14\" font-weight=\"bold\" lengthAdjust=\"spacing\" textLength=\"108\" x=\"10\" y=\"20.9951\">MultiplicityTest</text></a></g><!--MD5=[b4997ac47864f28c2f74865a473b2911]\n",
       "class E2--><a href=\"psysml:a78c9232-7355-4122-98e1-61ea033b6fbd\" target=\"_top\" title=\"psysml:a78c9232-7355-4122-98e1-61ea033b6fbd\" xlink:actuate=\"onRequest\" xlink:href=\"psysml:a78c9232-7355-4122-98e1-61ea033b6fbd\" xlink:show=\"new\" xlink:title=\"psysml:a78c9232-7355-4122-98e1-61ea033b6fbd\" xlink:type=\"simple\"><g id=\"elem_E2\"><rect fill=\"#F1F1F1\" height=\"40\" id=\"E2\" rx=\"2.5\" ry=\"2.5\" style=\"stroke:#181818;stroke-width:0.5;\" width=\"41\" x=\"719.5\" y=\"192\"/><ellipse cx=\"734.5\" cy=\"208\" fill=\"#008000\" rx=\"11\" ry=\"11\" style=\"stroke:#181818;stroke-width:1.0;\"/><path d=\"M731.3594,214.5 L731.3594,202.3594 L735.1563,202.3594 Q737.1563,202.3594 738.2031,203.0625 Q739.2656,203.7656 739.2656,205.3438 Q739.2656,206.4375 738.7656,207.1563 Q738.2813,207.875 737.4531,208.0625 L737.4531,208.1406 Q738.375,208.3594 738.9375,209.0313 Q739.5156,209.6875 739.5156,210.9531 Q739.5156,212.6094 738.4688,213.5625 Q737.4219,214.5 735.5625,214.5 L731.3594,214.5 Z M735.1406,207.1406 Q736.0313,207.1406 736.3906,206.8125 Q736.7656,206.4688 736.7656,205.7656 Q736.7656,205.0313 736.375,204.7188 Q735.9844,204.3906 735.0469,204.3906 L733.6563,204.3906 L733.6563,207.1406 L735.1406,207.1406 Z M735.3281,212.4844 Q736.2344,212.4844 736.5938,212.0469 Q736.9531,211.5938 736.9531,210.8125 Q736.9531,210.0313 736.5781,209.6406 Q736.2188,209.2344 735.2344,209.2344 L733.6563,209.2344 L733.6563,212.4844 L735.3281,212.4844 Z \" fill=\"#000000\"/><text fill=\"#000000\" font-family=\"sans-serif\" font-size=\"14\" lengthAdjust=\"spacing\" textLength=\"9\" x=\"748.5\" y=\"212.8467\">P</text><line style=\"stroke:#181818;stroke-width:0.5;\" x1=\"720.5\" x2=\"759.5\" y1=\"224\" y2=\"224\"/></g></a><!--MD5=[09b614a08d8cba4a07c9adeb5e0fee81]\n",
       "class E3--><a href=\"psysml:6e5bcad0-e721-42f0-8965-8cf810de127c\" target=\"_top\" title=\"psysml:6e5bcad0-e721-42f0-8965-8cf810de127c\" xlink:actuate=\"onRequest\" xlink:href=\"psysml:6e5bcad0-e721-42f0-8965-8cf810de127c\" xlink:show=\"new\" xlink:title=\"psysml:6e5bcad0-e721-42f0-8965-8cf810de127c\" xlink:type=\"simple\"><g id=\"elem_E3\"><rect fill=\"#F1F1F1\" height=\"75.0813\" id=\"E3\" rx=\"10\" ry=\"10\" style=\"stroke:#181818;stroke-width:0.5;\" width=\"107\" x=\"999.5\" y=\"49\"/><ellipse cx=\"1014.5\" cy=\"69.1328\" fill=\"#FFA500\" rx=\"11\" ry=\"11\" style=\"stroke:#181818;stroke-width:1.0;\"/><path d=\"M1014.5625,76.3047 Q1012.4531,76.3047 1011.3594,75.1797 Q1010.2656,74.0547 1010.2656,72.0078 L1010.2656,63.9922 L1012.7344,63.9922 L1012.7344,71.5703 Q1012.7344,73.0078 1013.1875,73.6016 Q1013.6406,74.1797 1014.5938,74.1797 Q1015.6094,74.1797 1016.0313,73.5703 Q1016.4688,72.9609 1016.4688,71.5547 L1016.4688,63.9922 L1018.9375,63.9922 L1018.9375,71.9922 Q1018.9375,73.9766 1017.8438,75.1484 Q1016.7656,76.3047 1014.5625,76.3047 Z \" fill=\"#000000\"/><text fill=\"#000000\" font-family=\"sans-serif\" font-size=\"12\" font-style=\"italic\" lengthAdjust=\"spacing\" textLength=\"69\" x=\"1031.5\" y=\"65.1387\">«attribute»</text><text fill=\"#000000\" font-family=\"sans-serif\" font-size=\"14\" lengthAdjust=\"spacing\" textLength=\"67\" x=\"1028.5\" y=\"80.9639\">n: Integer</text><line style=\"stroke:#181818;stroke-width:0.5;\" x1=\"1000.5\" x2=\"1105.5\" y1=\"89.2656\" y2=\"89.2656\"/><text fill=\"#000000\" font-family=\"sans-serif\" font-size=\"14\" lengthAdjust=\"spacing\" textLength=\"25\" x=\"1005.5\" y=\"116.7795\">= 5</text><text fill=\"#000000\" font-family=\"sans-serif\" font-size=\"14\" font-style=\"italic\" lengthAdjust=\"spacing\" textLength=\"44\" x=\"1031\" y=\"101.6123\">values</text></g></a><!--MD5=[ebbe1d658d1005bcc118a6aa81145e00]\n",
       "class E4--><a href=\"psysml:58ca86c4-6609-462b-9948-87aadb08d281\" target=\"_top\" title=\"psysml:58ca86c4-6609-462b-9948-87aadb08d281\" xlink:actuate=\"onRequest\" xlink:href=\"psysml:58ca86c4-6609-462b-9948-87aadb08d281\" xlink:show=\"new\" xlink:title=\"psysml:58ca86c4-6609-462b-9948-87aadb08d281\" xlink:type=\"simple\"><g id=\"elem_E4\"><rect fill=\"#F1F1F1\" height=\"48.2656\" id=\"E4\" rx=\"10\" ry=\"10\" style=\"stroke:#181818;stroke-width:0.5;\" width=\"68\" x=\"896\" y=\"62.5\"/><ellipse cx=\"911\" cy=\"82.6328\" fill=\"#32CD32\" rx=\"11\" ry=\"11\" style=\"stroke:#181818;stroke-width:1.0;\"/><path d=\"M907.8594,89.1328 L907.8594,76.9922 L911.8906,76.9922 Q913.9844,76.9922 915,77.9766 Q916.0156,78.9453 916.0156,80.7734 Q916.0156,81.9766 915.5781,82.8828 Q915.1563,83.7891 914.2031,84.3047 Q913.2656,84.8203 911.7344,84.8203 L910.2344,84.8203 L910.2344,89.1328 L907.8594,89.1328 Z M911.4844,82.7266 Q912.5313,82.7266 913.0469,82.2422 Q913.5781,81.7578 913.5781,80.8672 Q913.5781,79.9766 913.1406,79.5391 Q912.7188,79.0859 911.7969,79.0859 L910.2344,79.0859 L910.2344,82.7266 L911.4844,82.7266 Z \" fill=\"#000000\"/><text fill=\"#000000\" font-family=\"sans-serif\" font-size=\"12\" font-style=\"italic\" lengthAdjust=\"spacing\" textLength=\"40\" x=\"923\" y=\"78.6387\">«part»</text><text fill=\"#000000\" font-family=\"sans-serif\" font-size=\"14\" lengthAdjust=\"spacing\" textLength=\"27\" x=\"925.5\" y=\"94.4639\">a[1]</text><line style=\"stroke:#181818;stroke-width:0.5;\" x1=\"897\" x2=\"963\" y1=\"102.7656\" y2=\"102.7656\"/></g></a><!--MD5=[270fce915f116d4de14055a7c1d9a0f3]\n",
       "class E5--><a href=\"psysml:8959fced-ddce-434c-832c-e17faa00a5de\" target=\"_top\" title=\"psysml:8959fced-ddce-434c-832c-e17faa00a5de\" xlink:actuate=\"onRequest\" xlink:href=\"psysml:8959fced-ddce-434c-832c-e17faa00a5de\" xlink:show=\"new\" xlink:title=\"psysml:8959fced-ddce-434c-832c-e17faa00a5de\" xlink:type=\"simple\"><g id=\"elem_E5\"><rect fill=\"#F1F1F1\" height=\"48.2656\" id=\"E5\" rx=\"10\" ry=\"10\" style=\"stroke:#181818;stroke-width:0.5;\" width=\"103\" x=\"757.5\" y=\"62.5\"/><ellipse cx=\"772.5\" cy=\"82.6328\" fill=\"#32CD32\" rx=\"11\" ry=\"11\" style=\"stroke:#181818;stroke-width:1.0;\"/><path d=\"M769.3594,89.1328 L769.3594,76.9922 L773.3906,76.9922 Q775.4844,76.9922 776.5,77.9766 Q777.5156,78.9453 777.5156,80.7734 Q777.5156,81.9766 777.0781,82.8828 Q776.6563,83.7891 775.7031,84.3047 Q774.7656,84.8203 773.2344,84.8203 L771.7344,84.8203 L771.7344,89.1328 L769.3594,89.1328 Z M772.9844,82.7266 Q774.0313,82.7266 774.5469,82.2422 Q775.0781,81.7578 775.0781,80.8672 Q775.0781,79.9766 774.6406,79.5391 Q774.2188,79.0859 773.2969,79.0859 L771.7344,79.0859 L771.7344,82.7266 L772.9844,82.7266 Z \" fill=\"#000000\"/><text fill=\"#000000\" font-family=\"sans-serif\" font-size=\"12\" font-style=\"italic\" lengthAdjust=\"spacing\" textLength=\"40\" x=\"802\" y=\"78.6387\">«part»</text><text fill=\"#000000\" font-family=\"sans-serif\" font-size=\"14\" lengthAdjust=\"spacing\" textLength=\"63\" x=\"786.5\" y=\"94.4639\">b: P[0..2]</text><line style=\"stroke:#181818;stroke-width:0.5;\" x1=\"758.5\" x2=\"859.5\" y1=\"102.7656\" y2=\"102.7656\"/></g></a><!--MD5=[60a26617385b1d2d0262a64233df1f8d]\n",
       "class E6--><a href=\"psysml:4ac8fd09-bbc3-4ec3-ba18-7592ef56bccd\" target=\"_top\" title=\"psysml:4ac8fd09-bbc3-4ec3-ba18-7592ef56bccd\" xlink:actuate=\"onRequest\" xlink:href=\"psysml:4ac8fd09-bbc3-4ec3-ba18-7592ef56bccd\" xlink:show=\"new\" xlink:title=\"psysml:4ac8fd09-bbc3-4ec3-ba18-7592ef56bccd\" xlink:type=\"simple\"><g id=\"elem_E6\"><rect fill=\"#F1F1F1\" height=\"48.2656\" id=\"E6\" rx=\"10\" ry=\"10\" style=\"stroke:#181818;stroke-width:0.5;\" width=\"100\" x=\"622\" y=\"62.5\"/><ellipse cx=\"637\" cy=\"82.6328\" fill=\"#32CD32\" rx=\"11\" ry=\"11\" style=\"stroke:#181818;stroke-width:1.0;\"/><path d=\"M633.8594,89.1328 L633.8594,76.9922 L637.8906,76.9922 Q639.9844,76.9922 641,77.9766 Q642.0156,78.9453 642.0156,80.7734 Q642.0156,81.9766 641.5781,82.8828 Q641.1563,83.7891 640.2031,84.3047 Q639.2656,84.8203 637.7344,84.8203 L636.2344,84.8203 L636.2344,89.1328 L633.8594,89.1328 Z M637.4844,82.7266 Q638.5313,82.7266 639.0469,82.2422 Q639.5781,81.7578 639.5781,80.8672 Q639.5781,79.9766 639.1406,79.5391 Q638.7188,79.0859 637.7969,79.0859 L636.2344,79.0859 L636.2344,82.7266 L637.4844,82.7266 Z \" fill=\"#000000\"/><text fill=\"#000000\" font-family=\"sans-serif\" font-size=\"12\" font-style=\"italic\" lengthAdjust=\"spacing\" textLength=\"40\" x=\"665\" y=\"78.6387\">«part»</text><text fill=\"#000000\" font-family=\"sans-serif\" font-size=\"14\" lengthAdjust=\"spacing\" textLength=\"60\" x=\"651\" y=\"94.4639\">c: P[2..*]</text><line style=\"stroke:#181818;stroke-width:0.5;\" x1=\"623\" x2=\"721\" y1=\"102.7656\" y2=\"102.7656\"/></g></a><!--MD5=[2156ba9850f5573cc1fc38a6a4b2f02b]\n",
       "class E7--><a href=\"psysml:58aa0206-e878-4c1d-8c3a-c879ca6e4b13\" target=\"_top\" title=\"psysml:58aa0206-e878-4c1d-8c3a-c879ca6e4b13\" xlink:actuate=\"onRequest\" xlink:href=\"psysml:58aa0206-e878-4c1d-8c3a-c879ca6e4b13\" xlink:show=\"new\" xlink:title=\"psysml:58aa0206-e878-4c1d-8c3a-c879ca6e4b13\" xlink:type=\"simple\"><g id=\"elem_E7\"><rect fill=\"#F1F1F1\" height=\"48.2656\" id=\"E7\" rx=\"10\" ry=\"10\" style=\"stroke:#181818;stroke-width:0.5;\" width=\"68\" x=\"519\" y=\"62.5\"/><ellipse cx=\"534\" cy=\"82.6328\" fill=\"#32CD32\" rx=\"11\" ry=\"11\" style=\"stroke:#181818;stroke-width:1.0;\"/><path d=\"M530.8594,89.1328 L530.8594,76.9922 L534.8906,76.9922 Q536.9844,76.9922 538,77.9766 Q539.0156,78.9453 539.0156,80.7734 Q539.0156,81.9766 538.5781,82.8828 Q538.1563,83.7891 537.2031,84.3047 Q536.2656,84.8203 534.7344,84.8203 L533.2344,84.8203 L533.2344,89.1328 L530.8594,89.1328 Z M534.4844,82.7266 Q535.5313,82.7266 536.0469,82.2422 Q536.5781,81.7578 536.5781,80.8672 Q536.5781,79.9766 536.1406,79.5391 Q535.7188,79.0859 534.7969,79.0859 L533.2344,79.0859 L533.2344,82.7266 L534.4844,82.7266 Z \" fill=\"#000000\"/><text fill=\"#000000\" font-family=\"sans-serif\" font-size=\"12\" font-style=\"italic\" lengthAdjust=\"spacing\" textLength=\"40\" x=\"546\" y=\"78.6387\">«part»</text><text fill=\"#000000\" font-family=\"sans-serif\" font-size=\"14\" lengthAdjust=\"spacing\" textLength=\"26\" x=\"549\" y=\"94.4639\">d[*]</text><line style=\"stroke:#181818;stroke-width:0.5;\" x1=\"520\" x2=\"586\" y1=\"102.7656\" y2=\"102.7656\"/></g></a><!--MD5=[b9389687b975829384b498ac4b7476b2]\n",
       "class E8--><a href=\"psysml:21978b5e-874b-4020-b12b-41f872f49c78\" target=\"_top\" title=\"psysml:21978b5e-874b-4020-b12b-41f872f49c78\" xlink:actuate=\"onRequest\" xlink:href=\"psysml:21978b5e-874b-4020-b12b-41f872f49c78\" xlink:show=\"new\" xlink:title=\"psysml:21978b5e-874b-4020-b12b-41f872f49c78\" xlink:type=\"simple\"><g id=\"elem_E8\"><rect fill=\"#F1F1F1\" height=\"48.2656\" id=\"E8\" rx=\"10\" ry=\"10\" style=\"stroke:#181818;stroke-width:0.5;\" width=\"68\" x=\"416\" y=\"62.5\"/><ellipse cx=\"431\" cy=\"82.6328\" fill=\"#32CD32\" rx=\"11\" ry=\"11\" style=\"stroke:#181818;stroke-width:1.0;\"/><path d=\"M427.8594,89.1328 L427.8594,76.9922 L431.8906,76.9922 Q433.9844,76.9922 435,77.9766 Q436.0156,78.9453 436.0156,80.7734 Q436.0156,81.9766 435.5781,82.8828 Q435.1563,83.7891 434.2031,84.3047 Q433.2656,84.8203 431.7344,84.8203 L430.2344,84.8203 L430.2344,89.1328 L427.8594,89.1328 Z M431.4844,82.7266 Q432.5313,82.7266 433.0469,82.2422 Q433.5781,81.7578 433.5781,80.8672 Q433.5781,79.9766 433.1406,79.5391 Q432.7188,79.0859 431.7969,79.0859 L430.2344,79.0859 L430.2344,82.7266 L431.4844,82.7266 Z \" fill=\"#000000\"/><text fill=\"#000000\" font-family=\"sans-serif\" font-size=\"12\" font-style=\"italic\" lengthAdjust=\"spacing\" textLength=\"40\" x=\"443\" y=\"78.6387\">«part»</text><text fill=\"#000000\" font-family=\"sans-serif\" font-size=\"14\" lengthAdjust=\"spacing\" textLength=\"28\" x=\"445\" y=\"94.4639\">e[n]</text><line style=\"stroke:#181818;stroke-width:0.5;\" x1=\"417\" x2=\"483\" y1=\"102.7656\" y2=\"102.7656\"/></g></a><!--MD5=[fd4143e9d270a159db93a4ea2a975926]\n",
       "class E9--><a href=\"psysml:79f00190-11a9-479d-9f29-e880a27768bf\" target=\"_top\" title=\"psysml:79f00190-11a9-479d-9f29-e880a27768bf\" xlink:actuate=\"onRequest\" xlink:href=\"psysml:79f00190-11a9-479d-9f29-e880a27768bf\" xlink:show=\"new\" xlink:title=\"psysml:79f00190-11a9-479d-9f29-e880a27768bf\" xlink:type=\"simple\"><g id=\"elem_E9\"><rect fill=\"#F1F1F1\" height=\"48.2656\" id=\"E9\" rx=\"10\" ry=\"10\" style=\"stroke:#181818;stroke-width:0.5;\" width=\"78\" x=\"303\" y=\"62.5\"/><ellipse cx=\"318\" cy=\"82.6328\" fill=\"#32CD32\" rx=\"11\" ry=\"11\" style=\"stroke:#181818;stroke-width:1.0;\"/><path d=\"M314.8594,89.1328 L314.8594,76.9922 L318.8906,76.9922 Q320.9844,76.9922 322,77.9766 Q323.0156,78.9453 323.0156,80.7734 Q323.0156,81.9766 322.5781,82.8828 Q322.1563,83.7891 321.2031,84.3047 Q320.2656,84.8203 318.7344,84.8203 L317.2344,84.8203 L317.2344,89.1328 L314.8594,89.1328 Z M318.4844,82.7266 Q319.5313,82.7266 320.0469,82.2422 Q320.5781,81.7578 320.5781,80.8672 Q320.5781,79.9766 320.1406,79.5391 Q319.7188,79.0859 318.7969,79.0859 L317.2344,79.0859 L317.2344,82.7266 L318.4844,82.7266 Z \" fill=\"#000000\"/><text fill=\"#000000\" font-family=\"sans-serif\" font-size=\"12\" font-style=\"italic\" lengthAdjust=\"spacing\" textLength=\"40\" x=\"335\" y=\"78.6387\">«part»</text><text fill=\"#000000\" font-family=\"sans-serif\" font-size=\"14\" lengthAdjust=\"spacing\" textLength=\"38\" x=\"332\" y=\"94.4639\">f[n..*]</text><line style=\"stroke:#181818;stroke-width:0.5;\" x1=\"304\" x2=\"380\" y1=\"102.7656\" y2=\"102.7656\"/></g></a><!--MD5=[96f4274e9e20536e775497830990834d]\n",
       "class E10--><a href=\"psysml:3e79cc57-1ff4-4d61-ad54-8c0f8362d5da\" target=\"_top\" title=\"psysml:3e79cc57-1ff4-4d61-ad54-8c0f8362d5da\" xlink:actuate=\"onRequest\" xlink:href=\"psysml:3e79cc57-1ff4-4d61-ad54-8c0f8362d5da\" xlink:show=\"new\" xlink:title=\"psysml:3e79cc57-1ff4-4d61-ad54-8c0f8362d5da\" xlink:type=\"simple\"><g id=\"elem_E10\"><rect fill=\"#F1F1F1\" height=\"48.2656\" id=\"E10\" rx=\"10\" ry=\"10\" style=\"stroke:#181818;stroke-width:0.5;\" width=\"85\" x=\"182.5\" y=\"62.5\"/><ellipse cx=\"197.5\" cy=\"82.6328\" fill=\"#32CD32\" rx=\"11\" ry=\"11\" style=\"stroke:#181818;stroke-width:1.0;\"/><path d=\"M194.3594,89.1328 L194.3594,76.9922 L198.3906,76.9922 Q200.4844,76.9922 201.5,77.9766 Q202.5156,78.9453 202.5156,80.7734 Q202.5156,81.9766 202.0781,82.8828 Q201.6563,83.7891 200.7031,84.3047 Q199.7656,84.8203 198.2344,84.8203 L196.7344,84.8203 L196.7344,89.1328 L194.3594,89.1328 Z M197.9844,82.7266 Q199.0313,82.7266 199.5469,82.2422 Q200.0781,81.7578 200.0781,80.8672 Q200.0781,79.9766 199.6406,79.5391 Q199.2188,79.0859 198.2969,79.0859 L196.7344,79.0859 L196.7344,82.7266 L197.9844,82.7266 Z \" fill=\"#000000\"/><text fill=\"#000000\" font-family=\"sans-serif\" font-size=\"12\" font-style=\"italic\" lengthAdjust=\"spacing\" textLength=\"40\" x=\"218\" y=\"78.6387\">«part»</text><text fill=\"#000000\" font-family=\"sans-serif\" font-size=\"14\" lengthAdjust=\"spacing\" textLength=\"45\" x=\"211.5\" y=\"94.4639\">g[1..n]</text><line style=\"stroke:#181818;stroke-width:0.5;\" x1=\"183.5\" x2=\"266.5\" y1=\"102.7656\" y2=\"102.7656\"/></g></a><!--MD5=[1dd1bfd58a279cf63c5f349dbc8fc6a1]\n",
       "class E11--><a href=\"psysml:cae84388-2b2f-4b61-9caf-e3201f6c4bb4\" target=\"_top\" title=\"psysml:cae84388-2b2f-4b61-9caf-e3201f6c4bb4\" xlink:actuate=\"onRequest\" xlink:href=\"psysml:cae84388-2b2f-4b61-9caf-e3201f6c4bb4\" xlink:show=\"new\" xlink:title=\"psysml:cae84388-2b2f-4b61-9caf-e3201f6c4bb4\" xlink:type=\"simple\"><g id=\"elem_E11\"><rect fill=\"#F1F1F1\" height=\"91.3781\" id=\"E11\" rx=\"2.5\" ry=\"2.5\" style=\"stroke:#181818;stroke-width:0.5;\" width=\"125\" x=\"22.5\" y=\"41\"/><ellipse cx=\"37.5\" cy=\"61.1328\" fill=\"#A52A2A\" rx=\"11\" ry=\"11\" style=\"stroke:#181818;stroke-width:1.0;\"/><path d=\"M34.2656,67.6328 L34.2656,55.4922 L38.0156,55.4922 Q40.3906,55.4922 41.7813,57.0078 Q43.1875,58.5078 43.1875,61.4609 Q43.1875,64.4297 41.75,66.0391 Q40.3125,67.6328 37.8281,67.6328 L34.2656,67.6328 Z M37.7031,65.5391 Q39.25,65.5391 39.9688,64.5391 Q40.6875,63.5391 40.6875,61.4766 Q40.6875,59.4453 39.9844,58.5234 Q39.2969,57.5859 37.9063,57.5859 L36.7031,57.5859 L36.7031,65.5391 L37.7031,65.5391 Z \" fill=\"#000000\"/><text fill=\"#000000\" font-family=\"sans-serif\" font-size=\"12\" font-style=\"italic\" lengthAdjust=\"spacing\" textLength=\"97\" x=\"49.5\" y=\"57.1387\">«attribute  def»</text><text fill=\"#000000\" font-family=\"sans-serif\" font-size=\"14\" lengthAdjust=\"spacing\" textLength=\"9\" x=\"93.5\" y=\"72.9639\">A</text><line style=\"stroke:#181818;stroke-width:0.5;\" x1=\"23.5\" x2=\"146.5\" y1=\"81.2656\" y2=\"81.2656\"/><text fill=\"#000000\" font-family=\"sans-serif\" font-size=\"14\" lengthAdjust=\"spacing\" textLength=\"61\" x=\"28.5\" y=\"108.7795\">i: Integer</text><text fill=\"#000000\" font-family=\"sans-serif\" font-size=\"14\" lengthAdjust=\"spacing\" textLength=\"25\" x=\"28.5\" y=\"125.0764\">x: A</text><text fill=\"#000000\" font-family=\"sans-serif\" font-size=\"14\" font-style=\"italic\" lengthAdjust=\"spacing\" textLength=\"66\" x=\"52\" y=\"93.6123\">attributes</text></g></a><!--MD5=[15ebcb19ae302d9b601edb458606d402]\n",
       "link E5 to E2--><g id=\"link_E5_E2\"><a href=\"psysml:356b088d-f058-4498-8151-02a64d9c5f99\" target=\"_top\" title=\"psysml:356b088d-f058-4498-8151-02a64d9c5f99\" xlink:actuate=\"onRequest\" xlink:href=\"psysml:356b088d-f058-4498-8151-02a64d9c5f99\" xlink:show=\"new\" xlink:title=\"psysml:356b088d-f058-4498-8151-02a64d9c5f99\" xlink:type=\"simple\"><path d=\"M796.02,110.73 C786.03,128.61 772.03,153.67 760.52,174.27 \" fill=\"none\" id=\"E5-to-E2\" style=\"stroke:#181818;stroke-width:1.0;\"/><polygon fill=\"#FFFFFF\" points=\"750.66,191.92,753.8195,171.9196,766.0402,178.75,750.66,191.92\" style=\"stroke:#181818;stroke-width:1.0;\"/><ellipse cx=\"758.3462\" cy=\"167.9198\" fill=\"#181818\" rx=\"2\" ry=\"2\" style=\"stroke:#181818;stroke-width:1.0;\"/><ellipse cx=\"767.0753\" cy=\"172.7986\" fill=\"#181818\" rx=\"2\" ry=\"2\" style=\"stroke:#181818;stroke-width:1.0;\"/></a></g><!--MD5=[2351f337d6de0f557b50152ba70847b5]\n",
       "link E6 to E2--><g id=\"link_E6_E2\"><a href=\"psysml:849948e9-2a63-47c9-a787-96ae36e28ef0\" target=\"_top\" title=\"psysml:849948e9-2a63-47c9-a787-96ae36e28ef0\" xlink:actuate=\"onRequest\" xlink:href=\"psysml:849948e9-2a63-47c9-a787-96ae36e28ef0\" xlink:show=\"new\" xlink:title=\"psysml:849948e9-2a63-47c9-a787-96ae36e28ef0\" xlink:type=\"simple\"><path d=\"M684.79,110.73 C694.64,128.61 708.43,153.67 719.77,174.27 \" fill=\"none\" id=\"E6-to-E2\" style=\"stroke:#181818;stroke-width:1.0;\"/><polygon fill=\"#FFFFFF\" points=\"729.5,191.92,714.2042,178.652,726.4683,171.8998,729.5,191.92\" style=\"stroke:#181818;stroke-width:1.0;\"/><ellipse cx=\"713.2071\" cy=\"172.6942\" fill=\"#181818\" rx=\"2\" ry=\"2\" style=\"stroke:#181818;stroke-width:1.0;\"/><ellipse cx=\"721.9671\" cy=\"167.8712\" fill=\"#181818\" rx=\"2\" ry=\"2\" style=\"stroke:#181818;stroke-width:1.0;\"/></a></g><!--MD5=[b4ddba8e5bd689fe4348268775b85476]\n",
       "@startuml\r\n",
       " \r\n",
       "package \"MultiplicityTest\" as E1  [[psysml:26edc399-ba1b-4e26-98ec-184b2d561983 ]]  {\r\n",
       "comp def \"P\" as E2  << << (B,green) >> [[psysml:a78c9232-7355-4122-98e1-61ea033b6fbd ]] {\r\n",
       "}\r\n",
       "comp usage \"n: Integer  \" as E3  << <<(U,orange) attribute>> [[psysml:6e5bcad0-e721-42f0-8965-8cf810de127c ]] {\r\n",
       "##//values//##\r\n",
       " <U+003D> 5\r\n",
       "}\r\n",
       "comp usage \"a[1]  \" as E4  << << (P,limegreen) part>> [[psysml:58ca86c4-6609-462b-9948-87aadb08d281 ]] {\r\n",
       "}\r\n",
       "comp usage \"b: P[0..2]  \" as E5  << << (P,limegreen) part>> [[psysml:8959fced-ddce-434c-832c-e17faa00a5de ]] {\r\n",
       "}\r\n",
       "comp usage \"c: P[2..*]  \" as E6  << << (P,limegreen) part>> [[psysml:4ac8fd09-bbc3-4ec3-ba18-7592ef56bccd ]] {\r\n",
       "}\r\n",
       "comp usage \"d[*]  \" as E7  << << (P,limegreen) part>> [[psysml:58aa0206-e878-4c1d-8c3a-c879ca6e4b13 ]] {\r\n",
       "}\r\n",
       "comp usage \"e[n]  \" as E8  << << (P,limegreen) part>> [[psysml:21978b5e-874b-4020-b12b-41f872f49c78 ]] {\r\n",
       "}\r\n",
       "comp usage \"f[n..*]  \" as E9  << << (P,limegreen) part>> [[psysml:79f00190-11a9-479d-9f29-e880a27768bf ]] {\r\n",
       "}\r\n",
       "comp usage \"g[1..n]  \" as E10  << << (P,limegreen) part>> [[psysml:3e79cc57-1ff4-4d61-ad54-8c0f8362d5da ]] {\r\n",
       "}\r\n",
       "comp def \"A\" as E11  << <<(D,brown) attribute  def>> [[psysml:cae84388-2b2f-4b61-9caf-e3201f6c4bb4 ]] {\r\n",
       "##//attributes//##\r\n",
       "i: Integer\r\n",
       "x: A\r\n",
       "}\r\n",
       "}\r\n",
       "E5 - -:|> E2 [[psysml:356b088d-f058-4498-8151-02a64d9c5f99 ]] \r\n",
       "E6 - -:|> E2 [[psysml:849948e9-2a63-47c9-a787-96ae36e28ef0 ]] \r\n",
       "@enduml\r\n",
       "\n",
       "PlantUML version 1.2022.7(Mon Aug 22 17:01:30 UTC 2022)\n",
       "(EPL source distribution)\n",
       "Java Runtime: OpenJDK Runtime Environment\n",
       "JVM: OpenJDK 64-Bit Server VM\n",
       "Default Encoding: UTF-8\n",
       "Language: en\n",
       "Country: null\n",
       "--></g></svg>"
      ]
     },
     "execution_count": 31,
     "metadata": {},
     "output_type": "execute_result"
    }
   ],
   "source": [
    "%viz --style=\"PLANTUML\" --view=\"Tree\" \"MultiplicityTest\""
   ]
  },
  {
   "cell_type": "code",
   "execution_count": 32,
   "id": "58503934",
   "metadata": {
    "execution": {
     "iopub.execute_input": "2024-12-16T03:27:06.598626Z",
     "iopub.status.busy": "2024-12-16T03:27:06.598388Z",
     "iopub.status.idle": "2024-12-16T03:27:06.635809Z",
     "shell.execute_reply": "2024-12-16T03:27:06.635114Z"
    }
   },
   "outputs": [
    {
     "data": {
      "image/svg+xml": [
       "<?xml version=\"1.0\" encoding=\"UTF-8\" standalone=\"no\"?><svg xmlns=\"http://www.w3.org/2000/svg\" xmlns:xlink=\"http://www.w3.org/1999/xlink\" contentStyleType=\"text/css\" height=\"389px\" preserveAspectRatio=\"none\" style=\"width:603px;height:389px;background:#000000;\" version=\"1.1\" viewBox=\"0 0 603 389\" width=\"603px\" zoomAndPan=\"magnify\"><defs/><g><rect fill=\"#09250B\" height=\"1\" style=\"stroke:#09250B;stroke-width:1.0;\" width=\"1\" x=\"0\" y=\"0\"/><rect fill=\"#FFFFFF\" height=\"226.6573\" style=\"stroke:#FFFFFF;stroke-width:1.0;\" width=\"602\" x=\"0\" y=\"0\"/><text fill=\"#000000\" font-family=\"sans-serif\" font-size=\"12\" font-weight=\"bold\" lengthAdjust=\"spacing\" textLength=\"145.75\" x=\"5\" y=\"16.1387\">Welcome to PlantUML!</text><text fill=\"#000000\" font-family=\"sans-serif\" font-size=\"12\" lengthAdjust=\"spacing\" textLength=\"4\" x=\"5\" y=\"30.1074\"> </text><text fill=\"#000000\" font-family=\"sans-serif\" font-size=\"12\" lengthAdjust=\"spacing\" textLength=\"283\" x=\"5\" y=\"44.0762\">You can start with a simple UML Diagram like:</text><text fill=\"#000000\" font-family=\"sans-serif\" font-size=\"12\" lengthAdjust=\"spacing\" textLength=\"4\" x=\"5\" y=\"58.0449\"> </text><text fill=\"#000000\" font-family=\"monospace\" font-size=\"12\" lengthAdjust=\"spacing\" textLength=\"119\" x=\"5\" y=\"73.7031\">Bob-&gt;Alice: Hello</text><text fill=\"#000000\" font-family=\"sans-serif\" font-size=\"12\" lengthAdjust=\"spacing\" textLength=\"4\" x=\"5\" y=\"88.3578\"> </text><text fill=\"#000000\" font-family=\"sans-serif\" font-size=\"12\" lengthAdjust=\"spacing\" textLength=\"14\" x=\"5\" y=\"102.3265\">Or</text><text fill=\"#000000\" font-family=\"sans-serif\" font-size=\"12\" lengthAdjust=\"spacing\" textLength=\"4\" x=\"5\" y=\"116.2953\"> </text><text fill=\"#000000\" font-family=\"monospace\" font-size=\"12\" lengthAdjust=\"spacing\" textLength=\"91\" x=\"5\" y=\"131.9535\">class Example</text><text fill=\"#000000\" font-family=\"sans-serif\" font-size=\"12\" lengthAdjust=\"spacing\" textLength=\"4\" x=\"5\" y=\"146.6082\"> </text><text fill=\"#000000\" font-family=\"sans-serif\" font-size=\"12\" lengthAdjust=\"spacing\" textLength=\"349\" x=\"5\" y=\"160.5769\">You will find more information about PlantUML syntax on</text><text fill=\"#000000\" font-family=\"sans-serif\" font-size=\"12\" lengthAdjust=\"spacing\" text-decoration=\"underline\" textLength=\"129\" x=\"358\" y=\"160.5769\">https://plantuml.com</text><text fill=\"#000000\" font-family=\"sans-serif\" font-size=\"12\" lengthAdjust=\"spacing\" textLength=\"4\" x=\"5\" y=\"174.5457\"> </text><text fill=\"#000000\" font-family=\"sans-serif\" font-size=\"12\" lengthAdjust=\"spacing\" textLength=\"299\" x=\"5\" y=\"188.5144\">(If you use this software, you accept its license)</text><text fill=\"#000000\" font-family=\"sans-serif\" font-size=\"12\" lengthAdjust=\"spacing\" textLength=\"108\" x=\"5\" y=\"204.8585\">(Details by typing</text><text fill=\"#000000\" font-family=\"monospace\" font-size=\"12\" lengthAdjust=\"spacing\" textLength=\"49\" x=\"117\" y=\"204.1726\">license</text><text fill=\"#000000\" font-family=\"sans-serif\" font-size=\"12\" lengthAdjust=\"spacing\" textLength=\"56\" x=\"170\" y=\"204.8585\">keyword)</text><text fill=\"#000000\" font-family=\"sans-serif\" font-size=\"12\" lengthAdjust=\"spacing\" textLength=\"4\" x=\"5\" y=\"218.8273\"> </text><image height=\"71\" width=\"80\" x=\"516\" xlink:href=\"data:image/png;base64,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\" y=\"6\"/><rect fill=\"#000000\" height=\"160.3594\" style=\"stroke:#000000;stroke-width:1.0;\" width=\"602\" x=\"0\" y=\"226.6573\"/><text fill=\"#33FF02\" font-family=\"sans-serif\" font-size=\"12\" font-style=\"italic\" font-weight=\"bold\" lengthAdjust=\"spacing\" textLength=\"123\" x=\"5\" y=\"243.6573\">PlantUML 1.2022.7</text><text fill=\"#33FF02\" font-family=\"sans-serif\" font-size=\"12\" font-style=\"italic\" font-weight=\"bold\" lengthAdjust=\"spacing\" textLength=\"4\" x=\"5\" y=\"257.6261\"> </text><text fill=\"#33FF02\" font-family=\"sans-serif\" font-size=\"12\" font-style=\"italic\" font-weight=\"bold\" lengthAdjust=\"spacing\" textLength=\"390\" x=\"5\" y=\"271.5948\">&lt;b&gt;This version of PlantUML is 846 days old, so you should</text><text fill=\"#33FF02\" font-family=\"sans-serif\" font-size=\"12\" font-style=\"italic\" font-weight=\"bold\" lengthAdjust=\"spacing\" textLength=\"398.875\" x=\"5\" y=\"285.5636\">&lt;b&gt;consider upgrading from https://plantuml.com/download</text><rect fill=\"#33FF02\" height=\"21.2969\" style=\"stroke:#33FF02;stroke-width:1.0;\" width=\"153.3125\" x=\"5\" y=\"295.5323\"/><text fill=\"#000000\" font-family=\"sans-serif\" font-size=\"14\" font-weight=\"bold\" lengthAdjust=\"spacing\" textLength=\"151.3125\" x=\"6\" y=\"310.5323\">[From string (line 2) ]</text><text fill=\"#33FF02\" font-family=\"sans-serif\" font-size=\"14\" font-weight=\"bold\" lengthAdjust=\"spacing\" textLength=\"4\" x=\"5\" y=\"330.8292\"> </text><text fill=\"#33FF02\" font-family=\"sans-serif\" font-size=\"14\" font-weight=\"bold\" lengthAdjust=\"spacing\" textLength=\"73.9375\" x=\"5\" y=\"347.1261\">@startuml</text><text fill=\"#33FF02\" font-family=\"sans-serif\" font-size=\"14\" font-weight=\"bold\" lengthAdjust=\"spacing\" text-decoration=\"wavy underline\" textLength=\"4\" x=\"5\" y=\"363.423\"> </text><text fill=\"#FF0000\" font-family=\"sans-serif\" font-size=\"14\" font-weight=\"bold\" lengthAdjust=\"spacing\" textLength=\"131\" x=\"9\" y=\"379.7198\">Empty description</text><!--MD5=[5b6570bdd48fecdb4121f0162c378f28]\n",
       "@startuml\r\n",
       " \r\n",
       "@enduml\r\n",
       "\n",
       "PlantUML version 1.2022.7(Mon Aug 22 17:01:30 UTC 2022)\n",
       "(EPL source distribution)\n",
       "Java Runtime: OpenJDK Runtime Environment\n",
       "JVM: OpenJDK 64-Bit Server VM\n",
       "Default Encoding: UTF-8\n",
       "Language: en\n",
       "Country: null\n",
       "--></g></svg>"
      ]
     },
     "execution_count": 32,
     "metadata": {},
     "output_type": "execute_result"
    }
   ],
   "source": [
    "%viz --style=\"PLANTUML\" --view=\"State\" \"MultiplicityTest\""
   ]
  },
  {
   "cell_type": "code",
   "execution_count": 33,
   "id": "0f871daf",
   "metadata": {
    "execution": {
     "iopub.execute_input": "2024-12-16T03:27:06.689358Z",
     "iopub.status.busy": "2024-12-16T03:27:06.689116Z",
     "iopub.status.idle": "2024-12-16T03:27:06.712827Z",
     "shell.execute_reply": "2024-12-16T03:27:06.712002Z"
    }
   },
   "outputs": [
    {
     "data": {
      "image/svg+xml": [
       "<?xml version=\"1.0\" encoding=\"UTF-8\" standalone=\"no\"?><svg xmlns=\"http://www.w3.org/2000/svg\" xmlns:xlink=\"http://www.w3.org/1999/xlink\" contentStyleType=\"text/css\" height=\"189px\" preserveAspectRatio=\"none\" style=\"width:940px;height:189px;background:#FFFFFF;\" version=\"1.1\" viewBox=\"0 0 940 189\" width=\"940px\" zoomAndPan=\"magnify\"><defs/><g><!--MD5=[fbc87193dbaf4d95561dea2c320d4a47]\n",
       "cluster E1--><g id=\"cluster_E1\"><a href=\"psysml:26edc399-ba1b-4e26-98ec-184b2d561983\" target=\"_top\" title=\"psysml:26edc399-ba1b-4e26-98ec-184b2d561983\" xlink:actuate=\"onRequest\" xlink:href=\"psysml:26edc399-ba1b-4e26-98ec-184b2d561983\" xlink:show=\"new\" xlink:title=\"psysml:26edc399-ba1b-4e26-98ec-184b2d561983\" xlink:type=\"simple\"><path d=\"M8.5,6 L117.5,6 A3.75,3.75 0 0 1 120,8.5 L127,28.2969 L930.5,28.2969 A2.5,2.5 0 0 1 933,30.7969 L933,179.5 A2.5,2.5 0 0 1 930.5,182 L8.5,182 A2.5,2.5 0 0 1 6,179.5 L6,8.5 A2.5,2.5 0 0 1 8.5,6 \" fill=\"none\" style=\"stroke:#000000;stroke-width:1.5;\"/><line style=\"stroke:#000000;stroke-width:1.5;\" x1=\"6\" x2=\"127\" y1=\"28.2969\" y2=\"28.2969\"/><text fill=\"#000000\" font-family=\"sans-serif\" font-size=\"14\" font-weight=\"bold\" lengthAdjust=\"spacing\" textLength=\"108\" x=\"10\" y=\"20.9951\">MultiplicityTest</text></a></g><!--MD5=[09b614a08d8cba4a07c9adeb5e0fee81]\n",
       "class E3--><a href=\"psysml:6e5bcad0-e721-42f0-8965-8cf810de127c\" target=\"_top\" title=\"psysml:6e5bcad0-e721-42f0-8965-8cf810de127c\" xlink:actuate=\"onRequest\" xlink:href=\"psysml:6e5bcad0-e721-42f0-8965-8cf810de127c\" xlink:show=\"new\" xlink:title=\"psysml:6e5bcad0-e721-42f0-8965-8cf810de127c\" xlink:type=\"simple\"><g id=\"elem_E3\"><rect fill=\"#F1F1F1\" height=\"75.0813\" id=\"E3\" rx=\"10\" ry=\"10\" style=\"stroke:#181818;stroke-width:0.5;\" width=\"107\" x=\"810.5\" y=\"41\"/><ellipse cx=\"825.5\" cy=\"61.1328\" fill=\"#FFA500\" rx=\"11\" ry=\"11\" style=\"stroke:#181818;stroke-width:1.0;\"/><path d=\"M825.5625,68.3047 Q823.4531,68.3047 822.3594,67.1797 Q821.2656,66.0547 821.2656,64.0078 L821.2656,55.9922 L823.7344,55.9922 L823.7344,63.5703 Q823.7344,65.0078 824.1875,65.6016 Q824.6406,66.1797 825.5938,66.1797 Q826.6094,66.1797 827.0313,65.5703 Q827.4688,64.9609 827.4688,63.5547 L827.4688,55.9922 L829.9375,55.9922 L829.9375,63.9922 Q829.9375,65.9766 828.8438,67.1484 Q827.7656,68.3047 825.5625,68.3047 Z \" fill=\"#000000\"/><text fill=\"#000000\" font-family=\"sans-serif\" font-size=\"12\" font-style=\"italic\" lengthAdjust=\"spacing\" textLength=\"69\" x=\"842.5\" y=\"57.1387\">«attribute»</text><text fill=\"#000000\" font-family=\"sans-serif\" font-size=\"14\" lengthAdjust=\"spacing\" textLength=\"67\" x=\"839.5\" y=\"72.9639\">n: Integer</text><line style=\"stroke:#181818;stroke-width:0.5;\" x1=\"811.5\" x2=\"916.5\" y1=\"81.2656\" y2=\"81.2656\"/><text fill=\"#000000\" font-family=\"sans-serif\" font-size=\"14\" lengthAdjust=\"spacing\" textLength=\"25\" x=\"816.5\" y=\"108.7795\">= 5</text><text fill=\"#000000\" font-family=\"sans-serif\" font-size=\"14\" font-style=\"italic\" lengthAdjust=\"spacing\" textLength=\"44\" x=\"842\" y=\"93.6123\">values</text></g></a><g><a href=\"psysml:cae84388-2b2f-4b61-9caf-e3201f6c4bb4\" target=\"_top\" title=\"psysml:cae84388-2b2f-4b61-9caf-e3201f6c4bb4\" xlink:actuate=\"onRequest\" xlink:href=\"psysml:cae84388-2b2f-4b61-9caf-e3201f6c4bb4\" xlink:show=\"new\" xlink:title=\"psysml:cae84388-2b2f-4b61-9caf-e3201f6c4bb4\" xlink:type=\"simple\"><rect fill=\"#F1F1F1\" height=\"45.2656\" id=\"E11\" style=\"stroke:#A80036;stroke-width:1.5;\" width=\"130\" x=\"645\" y=\"56\"/><ellipse cx=\"662.25\" cy=\"76.1328\" fill=\"#A52A2A\" rx=\"11\" ry=\"11\" style=\"stroke:#181818;stroke-width:1.0;\"/><path d=\"M659.0156,82.6328 L659.0156,70.4922 L662.7656,70.4922 Q665.1406,70.4922 666.5313,72.0078 Q667.9375,73.5078 667.9375,76.4609 Q667.9375,79.4297 666.5,81.0391 Q665.0625,82.6328 662.5781,82.6328 L659.0156,82.6328 Z M662.4531,80.5391 Q664,80.5391 664.7188,79.5391 Q665.4375,78.5391 665.4375,76.4766 Q665.4375,74.4453 664.7344,73.5234 Q664.0469,72.5859 662.6563,72.5859 L661.4531,72.5859 L661.4531,80.5391 L662.4531,80.5391 Z \" fill=\"#000000\"/><text fill=\"#000000\" font-family=\"sans-serif\" font-size=\"12\" font-style=\"italic\" lengthAdjust=\"spacing\" textLength=\"97\" x=\"674.75\" y=\"72.1387\">«attribute  def»</text><text fill=\"#000000\" font-family=\"sans-serif\" font-size=\"14\" lengthAdjust=\"spacing\" textLength=\"9\" x=\"718.75\" y=\"87.9639\">A</text></a></g><g><a href=\"psysml:a78c9232-7355-4122-98e1-61ea033b6fbd\" target=\"_top\" title=\"psysml:a78c9232-7355-4122-98e1-61ea033b6fbd\" xlink:actuate=\"onRequest\" xlink:href=\"psysml:a78c9232-7355-4122-98e1-61ea033b6fbd\" xlink:show=\"new\" xlink:title=\"psysml:a78c9232-7355-4122-98e1-61ea033b6fbd\" xlink:type=\"simple\"><rect fill=\"#F1F1F1\" height=\"40\" id=\"E2\" style=\"stroke:#A80036;stroke-width:1.5;\" width=\"50\" x=\"418\" y=\"126\"/><ellipse cx=\"437.05\" cy=\"142\" fill=\"#008000\" rx=\"11\" ry=\"11\" style=\"stroke:#181818;stroke-width:1.0;\"/><path d=\"M433.9094,148.5 L433.9094,136.3594 L437.7063,136.3594 Q439.7063,136.3594 440.7531,137.0625 Q441.8156,137.7656 441.8156,139.3438 Q441.8156,140.4375 441.3156,141.1563 Q440.8313,141.875 440.0031,142.0625 L440.0031,142.1406 Q440.925,142.3594 441.4875,143.0313 Q442.0656,143.6875 442.0656,144.9531 Q442.0656,146.6094 441.0188,147.5625 Q439.9719,148.5 438.1125,148.5 L433.9094,148.5 Z M437.6906,141.1406 Q438.5813,141.1406 438.9406,140.8125 Q439.3156,140.4688 439.3156,139.7656 Q439.3156,139.0313 438.925,138.7188 Q438.5344,138.3906 437.5969,138.3906 L436.2063,138.3906 L436.2063,141.1406 L437.6906,141.1406 Z M437.8781,146.4844 Q438.7844,146.4844 439.1438,146.0469 Q439.5031,145.5938 439.5031,144.8125 Q439.5031,144.0313 439.1281,143.6406 Q438.7688,143.2344 437.7844,143.2344 L436.2063,143.2344 L436.2063,146.4844 L437.8781,146.4844 Z \" fill=\"#000000\"/><text fill=\"#000000\" font-family=\"sans-serif\" font-size=\"14\" lengthAdjust=\"spacing\" textLength=\"9\" x=\"451.95\" y=\"146.8467\">P</text></a></g><g><a href=\"psysml:58ca86c4-6609-462b-9948-87aadb08d281\" target=\"_top\" title=\"psysml:58ca86c4-6609-462b-9948-87aadb08d281\" xlink:actuate=\"onRequest\" xlink:href=\"psysml:58ca86c4-6609-462b-9948-87aadb08d281\" xlink:show=\"new\" xlink:title=\"psysml:58ca86c4-6609-462b-9948-87aadb08d281\" xlink:type=\"simple\"><rect fill=\"#F1F1F1\" height=\"40\" id=\"E4\" rx=\"10\" ry=\"10\" style=\"stroke:#A80036;stroke-width:1.5;\" width=\"50\" x=\"560\" y=\"58.5\"/><ellipse cx=\"579.5\" cy=\"74.5\" fill=\"#F1F1F1\" rx=\"11\" ry=\"11\" style=\"stroke:#181818;stroke-width:1.0;\"/><path d=\"M579.5625,81.6719 Q577.4531,81.6719 576.3594,80.5469 Q575.2656,79.4219 575.2656,77.375 L575.2656,69.3594 L577.7344,69.3594 L577.7344,76.9375 Q577.7344,78.375 578.1875,78.9688 Q578.6406,79.5469 579.5938,79.5469 Q580.6094,79.5469 581.0313,78.9375 Q581.4688,78.3281 581.4688,76.9219 L581.4688,69.3594 L583.9375,69.3594 L583.9375,77.3594 Q583.9375,79.3438 582.8438,80.5156 Q581.7656,81.6719 579.5625,81.6719 Z \" fill=\"#000000\"/><text fill=\"#000000\" font-family=\"sans-serif\" font-size=\"14\" lengthAdjust=\"spacing\" textLength=\"8\" x=\"594.5\" y=\"79.3467\">a</text></a></g><g><a href=\"psysml:8959fced-ddce-434c-832c-e17faa00a5de\" target=\"_top\" title=\"psysml:8959fced-ddce-434c-832c-e17faa00a5de\" xlink:actuate=\"onRequest\" xlink:href=\"psysml:8959fced-ddce-434c-832c-e17faa00a5de\" xlink:show=\"new\" xlink:title=\"psysml:8959fced-ddce-434c-832c-e17faa00a5de\" xlink:type=\"simple\"><rect fill=\"#F1F1F1\" height=\"40\" id=\"E5\" rx=\"10\" ry=\"10\" style=\"stroke:#A80036;stroke-width:1.5;\" width=\"64\" x=\"461\" y=\"58.5\"/><ellipse cx=\"478.25\" cy=\"74.5\" fill=\"#F1F1F1\" rx=\"11\" ry=\"11\" style=\"stroke:#181818;stroke-width:1.0;\"/><path d=\"M478.3125,81.6719 Q476.2031,81.6719 475.1094,80.5469 Q474.0156,79.4219 474.0156,77.375 L474.0156,69.3594 L476.4844,69.3594 L476.4844,76.9375 Q476.4844,78.375 476.9375,78.9688 Q477.3906,79.5469 478.3438,79.5469 Q479.3594,79.5469 479.7813,78.9375 Q480.2188,78.3281 480.2188,76.9219 L480.2188,69.3594 L482.6875,69.3594 L482.6875,77.3594 Q482.6875,79.3438 481.5938,80.5156 Q480.5156,81.6719 478.3125,81.6719 Z \" fill=\"#000000\"/><text fill=\"#000000\" font-family=\"sans-serif\" font-size=\"14\" lengthAdjust=\"spacing\" textLength=\"27\" x=\"492.75\" y=\"79.3467\">b: P</text></a></g><g><a href=\"psysml:4ac8fd09-bbc3-4ec3-ba18-7592ef56bccd\" target=\"_top\" title=\"psysml:4ac8fd09-bbc3-4ec3-ba18-7592ef56bccd\" xlink:actuate=\"onRequest\" xlink:href=\"psysml:4ac8fd09-bbc3-4ec3-ba18-7592ef56bccd\" xlink:show=\"new\" xlink:title=\"psysml:4ac8fd09-bbc3-4ec3-ba18-7592ef56bccd\" xlink:type=\"simple\"><rect fill=\"#F1F1F1\" height=\"40\" id=\"E6\" rx=\"10\" ry=\"10\" style=\"stroke:#A80036;stroke-width:1.5;\" width=\"63\" x=\"362.5\" y=\"58.5\"/><ellipse cx=\"379.75\" cy=\"74.5\" fill=\"#F1F1F1\" rx=\"11\" ry=\"11\" style=\"stroke:#181818;stroke-width:1.0;\"/><path d=\"M379.8125,81.6719 Q377.7031,81.6719 376.6094,80.5469 Q375.5156,79.4219 375.5156,77.375 L375.5156,69.3594 L377.9844,69.3594 L377.9844,76.9375 Q377.9844,78.375 378.4375,78.9688 Q378.8906,79.5469 379.8438,79.5469 Q380.8594,79.5469 381.2813,78.9375 Q381.7188,78.3281 381.7188,76.9219 L381.7188,69.3594 L384.1875,69.3594 L384.1875,77.3594 Q384.1875,79.3438 383.0938,80.5156 Q382.0156,81.6719 379.8125,81.6719 Z \" fill=\"#000000\"/><text fill=\"#000000\" font-family=\"sans-serif\" font-size=\"14\" lengthAdjust=\"spacing\" textLength=\"26\" x=\"394.25\" y=\"79.3467\">c: P</text></a></g><g><a href=\"psysml:58aa0206-e878-4c1d-8c3a-c879ca6e4b13\" target=\"_top\" title=\"psysml:58aa0206-e878-4c1d-8c3a-c879ca6e4b13\" xlink:actuate=\"onRequest\" xlink:href=\"psysml:58aa0206-e878-4c1d-8c3a-c879ca6e4b13\" xlink:show=\"new\" xlink:title=\"psysml:58aa0206-e878-4c1d-8c3a-c879ca6e4b13\" xlink:type=\"simple\"><rect fill=\"#F1F1F1\" height=\"40\" id=\"E7\" rx=\"10\" ry=\"10\" style=\"stroke:#A80036;stroke-width:1.5;\" width=\"50\" x=\"277\" y=\"58.5\"/><ellipse cx=\"296.05\" cy=\"74.5\" fill=\"#F1F1F1\" rx=\"11\" ry=\"11\" style=\"stroke:#181818;stroke-width:1.0;\"/><path d=\"M296.1125,81.6719 Q294.0031,81.6719 292.9094,80.5469 Q291.8156,79.4219 291.8156,77.375 L291.8156,69.3594 L294.2844,69.3594 L294.2844,76.9375 Q294.2844,78.375 294.7375,78.9688 Q295.1906,79.5469 296.1438,79.5469 Q297.1594,79.5469 297.5813,78.9375 Q298.0188,78.3281 298.0188,76.9219 L298.0188,69.3594 L300.4875,69.3594 L300.4875,77.3594 Q300.4875,79.3438 299.3938,80.5156 Q298.3156,81.6719 296.1125,81.6719 Z \" fill=\"#000000\"/><text fill=\"#000000\" font-family=\"sans-serif\" font-size=\"14\" lengthAdjust=\"spacing\" textLength=\"9\" x=\"310.95\" y=\"79.3467\">d</text></a></g><g><a href=\"psysml:21978b5e-874b-4020-b12b-41f872f49c78\" target=\"_top\" title=\"psysml:21978b5e-874b-4020-b12b-41f872f49c78\" xlink:actuate=\"onRequest\" xlink:href=\"psysml:21978b5e-874b-4020-b12b-41f872f49c78\" xlink:show=\"new\" xlink:title=\"psysml:21978b5e-874b-4020-b12b-41f872f49c78\" xlink:type=\"simple\"><rect fill=\"#F1F1F1\" height=\"40\" id=\"E8\" rx=\"10\" ry=\"10\" style=\"stroke:#A80036;stroke-width:1.5;\" width=\"50\" x=\"192\" y=\"58.5\"/><ellipse cx=\"211.05\" cy=\"74.5\" fill=\"#F1F1F1\" rx=\"11\" ry=\"11\" style=\"stroke:#181818;stroke-width:1.0;\"/><path d=\"M211.1125,81.6719 Q209.0031,81.6719 207.9094,80.5469 Q206.8156,79.4219 206.8156,77.375 L206.8156,69.3594 L209.2844,69.3594 L209.2844,76.9375 Q209.2844,78.375 209.7375,78.9688 Q210.1906,79.5469 211.1438,79.5469 Q212.1594,79.5469 212.5813,78.9375 Q213.0188,78.3281 213.0188,76.9219 L213.0188,69.3594 L215.4875,69.3594 L215.4875,77.3594 Q215.4875,79.3438 214.3938,80.5156 Q213.3156,81.6719 211.1125,81.6719 Z \" fill=\"#000000\"/><text fill=\"#000000\" font-family=\"sans-serif\" font-size=\"14\" lengthAdjust=\"spacing\" textLength=\"9\" x=\"225.95\" y=\"79.3467\">e</text></a></g><g><a href=\"psysml:79f00190-11a9-479d-9f29-e880a27768bf\" target=\"_top\" title=\"psysml:79f00190-11a9-479d-9f29-e880a27768bf\" xlink:actuate=\"onRequest\" xlink:href=\"psysml:79f00190-11a9-479d-9f29-e880a27768bf\" xlink:show=\"new\" xlink:title=\"psysml:79f00190-11a9-479d-9f29-e880a27768bf\" xlink:type=\"simple\"><rect fill=\"#F1F1F1\" height=\"40\" id=\"E9\" rx=\"10\" ry=\"10\" style=\"stroke:#A80036;stroke-width:1.5;\" width=\"50\" x=\"107\" y=\"58.5\"/><ellipse cx=\"128.3\" cy=\"74.5\" fill=\"#F1F1F1\" rx=\"11\" ry=\"11\" style=\"stroke:#181818;stroke-width:1.0;\"/><path d=\"M128.3625,81.6719 Q126.2531,81.6719 125.1594,80.5469 Q124.0656,79.4219 124.0656,77.375 L124.0656,69.3594 L126.5344,69.3594 L126.5344,76.9375 Q126.5344,78.375 126.9875,78.9688 Q127.4406,79.5469 128.3938,79.5469 Q129.4094,79.5469 129.8313,78.9375 Q130.2688,78.3281 130.2688,76.9219 L130.2688,69.3594 L132.7375,69.3594 L132.7375,77.3594 Q132.7375,79.3438 131.6438,80.5156 Q130.5656,81.6719 128.3625,81.6719 Z \" fill=\"#000000\"/><text fill=\"#000000\" font-family=\"sans-serif\" font-size=\"14\" lengthAdjust=\"spacing\" textLength=\"4\" x=\"143.7\" y=\"79.3467\">f</text></a></g><g><a href=\"psysml:3e79cc57-1ff4-4d61-ad54-8c0f8362d5da\" target=\"_top\" title=\"psysml:3e79cc57-1ff4-4d61-ad54-8c0f8362d5da\" xlink:actuate=\"onRequest\" xlink:href=\"psysml:3e79cc57-1ff4-4d61-ad54-8c0f8362d5da\" xlink:show=\"new\" xlink:title=\"psysml:3e79cc57-1ff4-4d61-ad54-8c0f8362d5da\" xlink:type=\"simple\"><rect fill=\"#F1F1F1\" height=\"40\" id=\"E10\" rx=\"10\" ry=\"10\" style=\"stroke:#A80036;stroke-width:1.5;\" width=\"50\" x=\"22\" y=\"58.5\"/><ellipse cx=\"41.05\" cy=\"74.5\" fill=\"#F1F1F1\" rx=\"11\" ry=\"11\" style=\"stroke:#181818;stroke-width:1.0;\"/><path d=\"M41.1125,81.6719 Q39.0031,81.6719 37.9094,80.5469 Q36.8156,79.4219 36.8156,77.375 L36.8156,69.3594 L39.2844,69.3594 L39.2844,76.9375 Q39.2844,78.375 39.7375,78.9688 Q40.1906,79.5469 41.1438,79.5469 Q42.1594,79.5469 42.5813,78.9375 Q43.0188,78.3281 43.0188,76.9219 L43.0188,69.3594 L45.4875,69.3594 L45.4875,77.3594 Q45.4875,79.3438 44.3938,80.5156 Q43.3156,81.6719 41.1125,81.6719 Z \" fill=\"#000000\"/><text fill=\"#000000\" font-family=\"sans-serif\" font-size=\"14\" lengthAdjust=\"spacing\" textLength=\"9\" x=\"55.95\" y=\"79.3467\">g</text></a></g><!--MD5=[15ebcb19ae302d9b601edb458606d402]\n",
       "link E5 to E2--><g id=\"link_E5_E2\"><a href=\"psysml:356b088d-f058-4498-8151-02a64d9c5f99\" target=\"_top\" title=\"psysml:356b088d-f058-4498-8151-02a64d9c5f99\" xlink:actuate=\"onRequest\" xlink:href=\"psysml:356b088d-f058-4498-8151-02a64d9c5f99\" xlink:show=\"new\" xlink:title=\"psysml:356b088d-f058-4498-8151-02a64d9c5f99\" xlink:type=\"simple\"><path d=\"M478.27,98.8 C475.65,102.23 472.84,105.9 470.01,109.62 \" fill=\"none\" id=\"E5-to-E2\" style=\"stroke:#181818;stroke-width:1.0;\"/><polygon fill=\"#FFFFFF\" points=\"457.8,125.61,463.7578,106.2579,474.889,114.7488,457.8,125.61\" style=\"stroke:#181818;stroke-width:1.0;\"/><ellipse cx=\"468.805\" cy=\"102.9389\" fill=\"#181818\" rx=\"2\" ry=\"2\" style=\"stroke:#181818;stroke-width:1.0;\"/><ellipse cx=\"476.7559\" cy=\"109.0038\" fill=\"#181818\" rx=\"2\" ry=\"2\" style=\"stroke:#181818;stroke-width:1.0;\"/></a></g><!--MD5=[2351f337d6de0f557b50152ba70847b5]\n",
       "link E6 to E2--><g id=\"link_E6_E2\"><a href=\"psysml:849948e9-2a63-47c9-a787-96ae36e28ef0\" target=\"_top\" title=\"psysml:849948e9-2a63-47c9-a787-96ae36e28ef0\" xlink:actuate=\"onRequest\" xlink:href=\"psysml:849948e9-2a63-47c9-a787-96ae36e28ef0\" xlink:show=\"new\" xlink:title=\"psysml:849948e9-2a63-47c9-a787-96ae36e28ef0\" xlink:type=\"simple\"><path d=\"M408.44,98.8 C410.91,102.1 413.54,105.62 416.21,109.19 \" fill=\"none\" id=\"E6-to-E2\" style=\"stroke:#181818;stroke-width:1.0;\"/><polygon fill=\"#FFFFFF\" points=\"428.5,125.61,411.5173,114.5833,422.7305,106.2009,428.5,125.61\" style=\"stroke:#181818;stroke-width:1.0;\"/><ellipse cx=\"409.7064\" cy=\"108.8204\" fill=\"#181818\" rx=\"2\" ry=\"2\" style=\"stroke:#181818;stroke-width:1.0;\"/><ellipse cx=\"417.7158\" cy=\"102.833\" fill=\"#181818\" rx=\"2\" ry=\"2\" style=\"stroke:#181818;stroke-width:1.0;\"/></a></g><!--MD5=[479fe5cceda0aa58f674393006eb0e84]\n",
       "@startuml\r\n",
       " skinparam ranksep 10\r\n",
       "skinparam rectangle {\r\n",
       " backgroundColor<<block>> LightGreen\r\n",
       "}\r\n",
       "\r\n",
       "package \"MultiplicityTest\" as E1  [[psysml:26edc399-ba1b-4e26-98ec-184b2d561983 ]]  {\r\n",
       "rec def \"P\" as E2  << << (B,green) >> [[psysml:a78c9232-7355-4122-98e1-61ea033b6fbd ]] {\r\n",
       "}\r\n",
       "comp usage \"n: Integer  \" as E3  << <<(U,orange) attribute>> [[psysml:6e5bcad0-e721-42f0-8965-8cf810de127c ]] {\r\n",
       "##//values//##\r\n",
       " <U+003D> 5\r\n",
       "}\r\n",
       "rec usage \"a\" as E4 [[psysml:58ca86c4-6609-462b-9948-87aadb08d281 ]] {\r\n",
       "}\r\n",
       "rec usage \"b: P\" as E5 [[psysml:8959fced-ddce-434c-832c-e17faa00a5de ]] {\r\n",
       "}\r\n",
       "rec usage \"c: P\" as E6 [[psysml:4ac8fd09-bbc3-4ec3-ba18-7592ef56bccd ]] {\r\n",
       "}\r\n",
       "rec usage \"d\" as E7 [[psysml:58aa0206-e878-4c1d-8c3a-c879ca6e4b13 ]] {\r\n",
       "}\r\n",
       "rec usage \"e\" as E8 [[psysml:21978b5e-874b-4020-b12b-41f872f49c78 ]] {\r\n",
       "}\r\n",
       "rec usage \"f\" as E9 [[psysml:79f00190-11a9-479d-9f29-e880a27768bf ]] {\r\n",
       "}\r\n",
       "rec usage \"g\" as E10 [[psysml:3e79cc57-1ff4-4d61-ad54-8c0f8362d5da ]] {\r\n",
       "}\r\n",
       "def \"A\" as E11  << <<(D,brown) attribute  def>> [[psysml:cae84388-2b2f-4b61-9caf-e3201f6c4bb4 ]] \r\n",
       "}\r\n",
       "E5 - -:|> E2 [[psysml:356b088d-f058-4498-8151-02a64d9c5f99 ]] \r\n",
       "E6 - -:|> E2 [[psysml:849948e9-2a63-47c9-a787-96ae36e28ef0 ]] \r\n",
       "@enduml\r\n",
       "\n",
       "PlantUML version 1.2022.7(Mon Aug 22 17:01:30 UTC 2022)\n",
       "(EPL source distribution)\n",
       "Java Runtime: OpenJDK Runtime Environment\n",
       "JVM: OpenJDK 64-Bit Server VM\n",
       "Default Encoding: UTF-8\n",
       "Language: en\n",
       "Country: null\n",
       "--></g></svg>"
      ]
     },
     "execution_count": 33,
     "metadata": {},
     "output_type": "execute_result"
    }
   ],
   "source": [
    "%viz --style=\"PLANTUML\" --view=\"Interconnection\" \"MultiplicityTest\""
   ]
  },
  {
   "cell_type": "code",
   "execution_count": 34,
   "id": "4bf910ab",
   "metadata": {
    "execution": {
     "iopub.execute_input": "2024-12-16T03:27:06.765175Z",
     "iopub.status.busy": "2024-12-16T03:27:06.764952Z",
     "iopub.status.idle": "2024-12-16T03:27:06.771990Z",
     "shell.execute_reply": "2024-12-16T03:27:06.771808Z"
    }
   },
   "outputs": [
    {
     "data": {
      "image/svg+xml": [
       "<?xml version=\"1.0\" encoding=\"UTF-8\" standalone=\"no\"?><svg xmlns=\"http://www.w3.org/2000/svg\" xmlns:xlink=\"http://www.w3.org/1999/xlink\" contentStyleType=\"text/css\" height=\"10px\" preserveAspectRatio=\"none\" style=\"width:10px;height:10px;background:#FFFFFF;\" version=\"1.1\" viewBox=\"0 0 10 10\" width=\"10px\" zoomAndPan=\"magnify\"><defs/><g><!--MD5=[5b85ed15c012f432344d03f88cdcf85b]\n",
       "@startuml\r\n",
       " skinparam ranksep 8\r\n",
       "\r\n",
       "@enduml\r\n",
       "\n",
       "PlantUML version 1.2022.7(Mon Aug 22 17:01:30 UTC 2022)\n",
       "(EPL source distribution)\n",
       "Java Runtime: OpenJDK Runtime Environment\n",
       "JVM: OpenJDK 64-Bit Server VM\n",
       "Default Encoding: UTF-8\n",
       "Language: en\n",
       "Country: null\n",
       "--></g></svg>"
      ]
     },
     "execution_count": 34,
     "metadata": {},
     "output_type": "execute_result"
    }
   ],
   "source": [
    "%viz --style=\"PLANTUML\" --view=\"Action\" \"MultiplicityTest\""
   ]
  },
  {
   "cell_type": "code",
   "execution_count": 35,
   "id": "7a6f6125",
   "metadata": {
    "execution": {
     "iopub.execute_input": "2024-12-16T03:27:06.824396Z",
     "iopub.status.busy": "2024-12-16T03:27:06.824169Z",
     "iopub.status.idle": "2024-12-16T03:27:06.836754Z",
     "shell.execute_reply": "2024-12-16T03:27:06.836569Z"
    }
   },
   "outputs": [
    {
     "data": {
      "image/svg+xml": [
       "<?xml version=\"1.0\" encoding=\"UTF-8\" standalone=\"no\"?><svg xmlns=\"http://www.w3.org/2000/svg\" xmlns:xlink=\"http://www.w3.org/1999/xlink\" contentStyleType=\"text/css\" height=\"10px\" preserveAspectRatio=\"none\" style=\"width:10px;height:10px;background:#FFFFFF;\" version=\"1.1\" viewBox=\"0 0 10 10\" width=\"10px\" zoomAndPan=\"magnify\"><defs/><g><!--MD5=[395e82ba475bd2e80052467b56fa0251]\n",
       "@startuml\r\n",
       " skinparam roundcorner 20\r\n",
       "skinparam BoxPadding 20\r\n",
       "skinparam SequenceBoxBackgroundColor #white\r\n",
       "skinparam style strictuml\r\n",
       "skinparam maxMessageSize 100\r\n",
       "\r\n",
       "@enduml\r\n",
       "\n",
       "PlantUML version 1.2022.7(Mon Aug 22 17:01:30 UTC 2022)\n",
       "(EPL source distribution)\n",
       "Java Runtime: OpenJDK Runtime Environment\n",
       "JVM: OpenJDK 64-Bit Server VM\n",
       "Default Encoding: UTF-8\n",
       "Language: en\n",
       "Country: null\n",
       "--></g></svg>"
      ]
     },
     "execution_count": 35,
     "metadata": {},
     "output_type": "execute_result"
    }
   ],
   "source": [
    "%viz --style=\"PLANTUML\" --view=\"Sequence\" \"MultiplicityTest\""
   ]
  },
  {
   "cell_type": "code",
   "execution_count": 36,
   "id": "1fedcaef",
   "metadata": {
    "execution": {
     "iopub.execute_input": "2024-12-16T03:27:06.889419Z",
     "iopub.status.busy": "2024-12-16T03:27:06.889194Z",
     "iopub.status.idle": "2024-12-16T03:27:06.919896Z",
     "shell.execute_reply": "2024-12-16T03:27:06.920041Z"
    }
   },
   "outputs": [
    {
     "data": {
      "image/svg+xml": [
       "<?xml version=\"1.0\" encoding=\"UTF-8\" standalone=\"no\"?><svg xmlns=\"http://www.w3.org/2000/svg\" xmlns:xlink=\"http://www.w3.org/1999/xlink\" contentStyleType=\"text/css\" height=\"255px\" preserveAspectRatio=\"none\" style=\"width:1034px;height:255px;background:#FFFFFF;\" version=\"1.1\" viewBox=\"0 0 1034 255\" width=\"1034px\" zoomAndPan=\"magnify\"><defs/><g><!--MD5=[fbc87193dbaf4d95561dea2c320d4a47]\n",
       "cluster E1--><g id=\"cluster_E1\"><a href=\"psysml:26edc399-ba1b-4e26-98ec-184b2d561983\" target=\"_top\" title=\"psysml:26edc399-ba1b-4e26-98ec-184b2d561983\" xlink:actuate=\"onRequest\" xlink:href=\"psysml:26edc399-ba1b-4e26-98ec-184b2d561983\" xlink:show=\"new\" xlink:title=\"psysml:26edc399-ba1b-4e26-98ec-184b2d561983\" xlink:type=\"simple\"><path d=\"M8.5,6 L117.5,6 A3.75,3.75 0 0 1 120,8.5 L127,28.2969 L1024.5,28.2969 A2.5,2.5 0 0 1 1027,30.7969 L1027,245.5 A2.5,2.5 0 0 1 1024.5,248 L8.5,248 A2.5,2.5 0 0 1 6,245.5 L6,8.5 A2.5,2.5 0 0 1 8.5,6 \" fill=\"none\" style=\"stroke:#000000;stroke-width:1.5;\"/><line style=\"stroke:#000000;stroke-width:1.5;\" x1=\"6\" x2=\"127\" y1=\"28.2969\" y2=\"28.2969\"/><text fill=\"#000000\" font-family=\"sans-serif\" font-size=\"14\" font-weight=\"bold\" lengthAdjust=\"spacing\" textLength=\"108\" x=\"10\" y=\"20.9951\">MultiplicityTest</text></a></g><!--MD5=[b4997ac47864f28c2f74865a473b2911]\n",
       "class E2--><a href=\"psysml:a78c9232-7355-4122-98e1-61ea033b6fbd\" target=\"_top\" title=\"psysml:a78c9232-7355-4122-98e1-61ea033b6fbd\" xlink:actuate=\"onRequest\" xlink:href=\"psysml:a78c9232-7355-4122-98e1-61ea033b6fbd\" xlink:show=\"new\" xlink:title=\"psysml:a78c9232-7355-4122-98e1-61ea033b6fbd\" xlink:type=\"simple\"><g id=\"elem_E2\"><rect fill=\"#F1F1F1\" height=\"40\" id=\"E2\" rx=\"2.5\" ry=\"2.5\" style=\"stroke:#181818;stroke-width:0.5;\" width=\"41\" x=\"659.5\" y=\"192\"/><ellipse cx=\"674.5\" cy=\"208\" fill=\"#008000\" rx=\"11\" ry=\"11\" style=\"stroke:#181818;stroke-width:1.0;\"/><path d=\"M671.3594,214.5 L671.3594,202.3594 L675.1563,202.3594 Q677.1563,202.3594 678.2031,203.0625 Q679.2656,203.7656 679.2656,205.3438 Q679.2656,206.4375 678.7656,207.1563 Q678.2813,207.875 677.4531,208.0625 L677.4531,208.1406 Q678.375,208.3594 678.9375,209.0313 Q679.5156,209.6875 679.5156,210.9531 Q679.5156,212.6094 678.4688,213.5625 Q677.4219,214.5 675.5625,214.5 L671.3594,214.5 Z M675.1406,207.1406 Q676.0313,207.1406 676.3906,206.8125 Q676.7656,206.4688 676.7656,205.7656 Q676.7656,205.0313 676.375,204.7188 Q675.9844,204.3906 675.0469,204.3906 L673.6563,204.3906 L673.6563,207.1406 L675.1406,207.1406 Z M675.3281,212.4844 Q676.2344,212.4844 676.5938,212.0469 Q676.9531,211.5938 676.9531,210.8125 Q676.9531,210.0313 676.5781,209.6406 Q676.2188,209.2344 675.2344,209.2344 L673.6563,209.2344 L673.6563,212.4844 L675.3281,212.4844 Z \" fill=\"#000000\"/><text fill=\"#000000\" font-family=\"sans-serif\" font-size=\"14\" lengthAdjust=\"spacing\" textLength=\"9\" x=\"688.5\" y=\"212.8467\">P</text><line style=\"stroke:#181818;stroke-width:0.5;\" x1=\"660.5\" x2=\"699.5\" y1=\"224\" y2=\"224\"/></g></a><!--MD5=[09b614a08d8cba4a07c9adeb5e0fee81]\n",
       "class E3--><a href=\"psysml:6e5bcad0-e721-42f0-8965-8cf810de127c\" target=\"_top\" title=\"psysml:6e5bcad0-e721-42f0-8965-8cf810de127c\" xlink:actuate=\"onRequest\" xlink:href=\"psysml:6e5bcad0-e721-42f0-8965-8cf810de127c\" xlink:show=\"new\" xlink:title=\"psysml:6e5bcad0-e721-42f0-8965-8cf810de127c\" xlink:type=\"simple\"><g id=\"elem_E3\"><rect fill=\"#F1F1F1\" height=\"75.0813\" id=\"E3\" rx=\"10\" ry=\"10\" style=\"stroke:#181818;stroke-width:0.5;\" width=\"107\" x=\"904.5\" y=\"49\"/><ellipse cx=\"919.5\" cy=\"69.1328\" fill=\"#FFA500\" rx=\"11\" ry=\"11\" style=\"stroke:#181818;stroke-width:1.0;\"/><path d=\"M919.5625,76.3047 Q917.4531,76.3047 916.3594,75.1797 Q915.2656,74.0547 915.2656,72.0078 L915.2656,63.9922 L917.7344,63.9922 L917.7344,71.5703 Q917.7344,73.0078 918.1875,73.6016 Q918.6406,74.1797 919.5938,74.1797 Q920.6094,74.1797 921.0313,73.5703 Q921.4688,72.9609 921.4688,71.5547 L921.4688,63.9922 L923.9375,63.9922 L923.9375,71.9922 Q923.9375,73.9766 922.8438,75.1484 Q921.7656,76.3047 919.5625,76.3047 Z \" fill=\"#000000\"/><text fill=\"#000000\" font-family=\"sans-serif\" font-size=\"12\" font-style=\"italic\" lengthAdjust=\"spacing\" textLength=\"69\" x=\"936.5\" y=\"65.1387\">«attribute»</text><text fill=\"#000000\" font-family=\"sans-serif\" font-size=\"14\" lengthAdjust=\"spacing\" textLength=\"67\" x=\"933.5\" y=\"80.9639\">n: Integer</text><line style=\"stroke:#181818;stroke-width:0.5;\" x1=\"905.5\" x2=\"1010.5\" y1=\"89.2656\" y2=\"89.2656\"/><text fill=\"#000000\" font-family=\"sans-serif\" font-size=\"14\" lengthAdjust=\"spacing\" textLength=\"25\" x=\"910.5\" y=\"116.7795\">= 5</text><text fill=\"#000000\" font-family=\"sans-serif\" font-size=\"14\" font-style=\"italic\" lengthAdjust=\"spacing\" textLength=\"44\" x=\"936\" y=\"101.6123\">values</text></g></a><!--MD5=[ebbe1d658d1005bcc118a6aa81145e00]\n",
       "class E4--><a href=\"psysml:58ca86c4-6609-462b-9948-87aadb08d281\" target=\"_top\" title=\"psysml:58ca86c4-6609-462b-9948-87aadb08d281\" xlink:actuate=\"onRequest\" xlink:href=\"psysml:58ca86c4-6609-462b-9948-87aadb08d281\" xlink:show=\"new\" xlink:title=\"psysml:58ca86c4-6609-462b-9948-87aadb08d281\" xlink:type=\"simple\"><g id=\"elem_E4\"><rect fill=\"#F1F1F1\" height=\"48.2656\" id=\"E4\" rx=\"10\" ry=\"10\" style=\"stroke:#181818;stroke-width:0.5;\" width=\"68\" x=\"801\" y=\"62.5\"/><ellipse cx=\"816\" cy=\"82.6328\" fill=\"#32CD32\" rx=\"11\" ry=\"11\" style=\"stroke:#181818;stroke-width:1.0;\"/><path d=\"M812.8594,89.1328 L812.8594,76.9922 L816.8906,76.9922 Q818.9844,76.9922 820,77.9766 Q821.0156,78.9453 821.0156,80.7734 Q821.0156,81.9766 820.5781,82.8828 Q820.1563,83.7891 819.2031,84.3047 Q818.2656,84.8203 816.7344,84.8203 L815.2344,84.8203 L815.2344,89.1328 L812.8594,89.1328 Z M816.4844,82.7266 Q817.5313,82.7266 818.0469,82.2422 Q818.5781,81.7578 818.5781,80.8672 Q818.5781,79.9766 818.1406,79.5391 Q817.7188,79.0859 816.7969,79.0859 L815.2344,79.0859 L815.2344,82.7266 L816.4844,82.7266 Z \" fill=\"#000000\"/><text fill=\"#000000\" font-family=\"sans-serif\" font-size=\"12\" font-style=\"italic\" lengthAdjust=\"spacing\" textLength=\"40\" x=\"828\" y=\"78.6387\">«part»</text><text fill=\"#000000\" font-family=\"sans-serif\" font-size=\"14\" lengthAdjust=\"spacing\" textLength=\"8\" x=\"840\" y=\"94.4639\">a</text><line style=\"stroke:#181818;stroke-width:0.5;\" x1=\"802\" x2=\"868\" y1=\"102.7656\" y2=\"102.7656\"/></g></a><!--MD5=[270fce915f116d4de14055a7c1d9a0f3]\n",
       "class E5--><a href=\"psysml:8959fced-ddce-434c-832c-e17faa00a5de\" target=\"_top\" title=\"psysml:8959fced-ddce-434c-832c-e17faa00a5de\" xlink:actuate=\"onRequest\" xlink:href=\"psysml:8959fced-ddce-434c-832c-e17faa00a5de\" xlink:show=\"new\" xlink:title=\"psysml:8959fced-ddce-434c-832c-e17faa00a5de\" xlink:type=\"simple\"><g id=\"elem_E5\"><rect fill=\"#F1F1F1\" height=\"48.2656\" id=\"E5\" rx=\"10\" ry=\"10\" style=\"stroke:#181818;stroke-width:0.5;\" width=\"68\" x=\"698\" y=\"62.5\"/><ellipse cx=\"713\" cy=\"82.6328\" fill=\"#32CD32\" rx=\"11\" ry=\"11\" style=\"stroke:#181818;stroke-width:1.0;\"/><path d=\"M709.8594,89.1328 L709.8594,76.9922 L713.8906,76.9922 Q715.9844,76.9922 717,77.9766 Q718.0156,78.9453 718.0156,80.7734 Q718.0156,81.9766 717.5781,82.8828 Q717.1563,83.7891 716.2031,84.3047 Q715.2656,84.8203 713.7344,84.8203 L712.2344,84.8203 L712.2344,89.1328 L709.8594,89.1328 Z M713.4844,82.7266 Q714.5313,82.7266 715.0469,82.2422 Q715.5781,81.7578 715.5781,80.8672 Q715.5781,79.9766 715.1406,79.5391 Q714.7188,79.0859 713.7969,79.0859 L712.2344,79.0859 L712.2344,82.7266 L713.4844,82.7266 Z \" fill=\"#000000\"/><text fill=\"#000000\" font-family=\"sans-serif\" font-size=\"12\" font-style=\"italic\" lengthAdjust=\"spacing\" textLength=\"40\" x=\"725\" y=\"78.6387\">«part»</text><text fill=\"#000000\" font-family=\"sans-serif\" font-size=\"14\" lengthAdjust=\"spacing\" textLength=\"27\" x=\"727.5\" y=\"94.4639\">b: P</text><line style=\"stroke:#181818;stroke-width:0.5;\" x1=\"699\" x2=\"765\" y1=\"102.7656\" y2=\"102.7656\"/></g></a><!--MD5=[60a26617385b1d2d0262a64233df1f8d]\n",
       "class E6--><a href=\"psysml:4ac8fd09-bbc3-4ec3-ba18-7592ef56bccd\" target=\"_top\" title=\"psysml:4ac8fd09-bbc3-4ec3-ba18-7592ef56bccd\" xlink:actuate=\"onRequest\" xlink:href=\"psysml:4ac8fd09-bbc3-4ec3-ba18-7592ef56bccd\" xlink:show=\"new\" xlink:title=\"psysml:4ac8fd09-bbc3-4ec3-ba18-7592ef56bccd\" xlink:type=\"simple\"><g id=\"elem_E6\"><rect fill=\"#F1F1F1\" height=\"48.2656\" id=\"E6\" rx=\"10\" ry=\"10\" style=\"stroke:#181818;stroke-width:0.5;\" width=\"68\" x=\"595\" y=\"62.5\"/><ellipse cx=\"610\" cy=\"82.6328\" fill=\"#32CD32\" rx=\"11\" ry=\"11\" style=\"stroke:#181818;stroke-width:1.0;\"/><path d=\"M606.8594,89.1328 L606.8594,76.9922 L610.8906,76.9922 Q612.9844,76.9922 614,77.9766 Q615.0156,78.9453 615.0156,80.7734 Q615.0156,81.9766 614.5781,82.8828 Q614.1563,83.7891 613.2031,84.3047 Q612.2656,84.8203 610.7344,84.8203 L609.2344,84.8203 L609.2344,89.1328 L606.8594,89.1328 Z M610.4844,82.7266 Q611.5313,82.7266 612.0469,82.2422 Q612.5781,81.7578 612.5781,80.8672 Q612.5781,79.9766 612.1406,79.5391 Q611.7188,79.0859 610.7969,79.0859 L609.2344,79.0859 L609.2344,82.7266 L610.4844,82.7266 Z \" fill=\"#000000\"/><text fill=\"#000000\" font-family=\"sans-serif\" font-size=\"12\" font-style=\"italic\" lengthAdjust=\"spacing\" textLength=\"40\" x=\"622\" y=\"78.6387\">«part»</text><text fill=\"#000000\" font-family=\"sans-serif\" font-size=\"14\" lengthAdjust=\"spacing\" textLength=\"26\" x=\"625\" y=\"94.4639\">c: P</text><line style=\"stroke:#181818;stroke-width:0.5;\" x1=\"596\" x2=\"662\" y1=\"102.7656\" y2=\"102.7656\"/></g></a><!--MD5=[2156ba9850f5573cc1fc38a6a4b2f02b]\n",
       "class E7--><a href=\"psysml:58aa0206-e878-4c1d-8c3a-c879ca6e4b13\" target=\"_top\" title=\"psysml:58aa0206-e878-4c1d-8c3a-c879ca6e4b13\" xlink:actuate=\"onRequest\" xlink:href=\"psysml:58aa0206-e878-4c1d-8c3a-c879ca6e4b13\" xlink:show=\"new\" xlink:title=\"psysml:58aa0206-e878-4c1d-8c3a-c879ca6e4b13\" xlink:type=\"simple\"><g id=\"elem_E7\"><rect fill=\"#F1F1F1\" height=\"48.2656\" id=\"E7\" rx=\"10\" ry=\"10\" style=\"stroke:#181818;stroke-width:0.5;\" width=\"68\" x=\"492\" y=\"62.5\"/><ellipse cx=\"507\" cy=\"82.6328\" fill=\"#32CD32\" rx=\"11\" ry=\"11\" style=\"stroke:#181818;stroke-width:1.0;\"/><path d=\"M503.8594,89.1328 L503.8594,76.9922 L507.8906,76.9922 Q509.9844,76.9922 511,77.9766 Q512.0156,78.9453 512.0156,80.7734 Q512.0156,81.9766 511.5781,82.8828 Q511.1563,83.7891 510.2031,84.3047 Q509.2656,84.8203 507.7344,84.8203 L506.2344,84.8203 L506.2344,89.1328 L503.8594,89.1328 Z M507.4844,82.7266 Q508.5313,82.7266 509.0469,82.2422 Q509.5781,81.7578 509.5781,80.8672 Q509.5781,79.9766 509.1406,79.5391 Q508.7188,79.0859 507.7969,79.0859 L506.2344,79.0859 L506.2344,82.7266 L507.4844,82.7266 Z \" fill=\"#000000\"/><text fill=\"#000000\" font-family=\"sans-serif\" font-size=\"12\" font-style=\"italic\" lengthAdjust=\"spacing\" textLength=\"40\" x=\"519\" y=\"78.6387\">«part»</text><text fill=\"#000000\" font-family=\"sans-serif\" font-size=\"14\" lengthAdjust=\"spacing\" textLength=\"9\" x=\"530.5\" y=\"94.4639\">d</text><line style=\"stroke:#181818;stroke-width:0.5;\" x1=\"493\" x2=\"559\" y1=\"102.7656\" y2=\"102.7656\"/></g></a><!--MD5=[b9389687b975829384b498ac4b7476b2]\n",
       "class E8--><a href=\"psysml:21978b5e-874b-4020-b12b-41f872f49c78\" target=\"_top\" title=\"psysml:21978b5e-874b-4020-b12b-41f872f49c78\" xlink:actuate=\"onRequest\" xlink:href=\"psysml:21978b5e-874b-4020-b12b-41f872f49c78\" xlink:show=\"new\" xlink:title=\"psysml:21978b5e-874b-4020-b12b-41f872f49c78\" xlink:type=\"simple\"><g id=\"elem_E8\"><rect fill=\"#F1F1F1\" height=\"48.2656\" id=\"E8\" rx=\"10\" ry=\"10\" style=\"stroke:#181818;stroke-width:0.5;\" width=\"68\" x=\"389\" y=\"62.5\"/><ellipse cx=\"404\" cy=\"82.6328\" fill=\"#32CD32\" rx=\"11\" ry=\"11\" style=\"stroke:#181818;stroke-width:1.0;\"/><path d=\"M400.8594,89.1328 L400.8594,76.9922 L404.8906,76.9922 Q406.9844,76.9922 408,77.9766 Q409.0156,78.9453 409.0156,80.7734 Q409.0156,81.9766 408.5781,82.8828 Q408.1563,83.7891 407.2031,84.3047 Q406.2656,84.8203 404.7344,84.8203 L403.2344,84.8203 L403.2344,89.1328 L400.8594,89.1328 Z M404.4844,82.7266 Q405.5313,82.7266 406.0469,82.2422 Q406.5781,81.7578 406.5781,80.8672 Q406.5781,79.9766 406.1406,79.5391 Q405.7188,79.0859 404.7969,79.0859 L403.2344,79.0859 L403.2344,82.7266 L404.4844,82.7266 Z \" fill=\"#000000\"/><text fill=\"#000000\" font-family=\"sans-serif\" font-size=\"12\" font-style=\"italic\" lengthAdjust=\"spacing\" textLength=\"40\" x=\"416\" y=\"78.6387\">«part»</text><text fill=\"#000000\" font-family=\"sans-serif\" font-size=\"14\" lengthAdjust=\"spacing\" textLength=\"9\" x=\"427.5\" y=\"94.4639\">e</text><line style=\"stroke:#181818;stroke-width:0.5;\" x1=\"390\" x2=\"456\" y1=\"102.7656\" y2=\"102.7656\"/></g></a><!--MD5=[fd4143e9d270a159db93a4ea2a975926]\n",
       "class E9--><a href=\"psysml:79f00190-11a9-479d-9f29-e880a27768bf\" target=\"_top\" title=\"psysml:79f00190-11a9-479d-9f29-e880a27768bf\" xlink:actuate=\"onRequest\" xlink:href=\"psysml:79f00190-11a9-479d-9f29-e880a27768bf\" xlink:show=\"new\" xlink:title=\"psysml:79f00190-11a9-479d-9f29-e880a27768bf\" xlink:type=\"simple\"><g id=\"elem_E9\"><rect fill=\"#F1F1F1\" height=\"48.2656\" id=\"E9\" rx=\"10\" ry=\"10\" style=\"stroke:#181818;stroke-width:0.5;\" width=\"68\" x=\"286\" y=\"62.5\"/><ellipse cx=\"301\" cy=\"82.6328\" fill=\"#32CD32\" rx=\"11\" ry=\"11\" style=\"stroke:#181818;stroke-width:1.0;\"/><path d=\"M297.8594,89.1328 L297.8594,76.9922 L301.8906,76.9922 Q303.9844,76.9922 305,77.9766 Q306.0156,78.9453 306.0156,80.7734 Q306.0156,81.9766 305.5781,82.8828 Q305.1563,83.7891 304.2031,84.3047 Q303.2656,84.8203 301.7344,84.8203 L300.2344,84.8203 L300.2344,89.1328 L297.8594,89.1328 Z M301.4844,82.7266 Q302.5313,82.7266 303.0469,82.2422 Q303.5781,81.7578 303.5781,80.8672 Q303.5781,79.9766 303.1406,79.5391 Q302.7188,79.0859 301.7969,79.0859 L300.2344,79.0859 L300.2344,82.7266 L301.4844,82.7266 Z \" fill=\"#000000\"/><text fill=\"#000000\" font-family=\"sans-serif\" font-size=\"12\" font-style=\"italic\" lengthAdjust=\"spacing\" textLength=\"40\" x=\"313\" y=\"78.6387\">«part»</text><text fill=\"#000000\" font-family=\"sans-serif\" font-size=\"14\" lengthAdjust=\"spacing\" textLength=\"4\" x=\"327\" y=\"94.4639\">f</text><line style=\"stroke:#181818;stroke-width:0.5;\" x1=\"287\" x2=\"353\" y1=\"102.7656\" y2=\"102.7656\"/></g></a><!--MD5=[96f4274e9e20536e775497830990834d]\n",
       "class E10--><a href=\"psysml:3e79cc57-1ff4-4d61-ad54-8c0f8362d5da\" target=\"_top\" title=\"psysml:3e79cc57-1ff4-4d61-ad54-8c0f8362d5da\" xlink:actuate=\"onRequest\" xlink:href=\"psysml:3e79cc57-1ff4-4d61-ad54-8c0f8362d5da\" xlink:show=\"new\" xlink:title=\"psysml:3e79cc57-1ff4-4d61-ad54-8c0f8362d5da\" xlink:type=\"simple\"><g id=\"elem_E10\"><rect fill=\"#F1F1F1\" height=\"48.2656\" id=\"E10\" rx=\"10\" ry=\"10\" style=\"stroke:#181818;stroke-width:0.5;\" width=\"68\" x=\"183\" y=\"62.5\"/><ellipse cx=\"198\" cy=\"82.6328\" fill=\"#32CD32\" rx=\"11\" ry=\"11\" style=\"stroke:#181818;stroke-width:1.0;\"/><path d=\"M194.8594,89.1328 L194.8594,76.9922 L198.8906,76.9922 Q200.9844,76.9922 202,77.9766 Q203.0156,78.9453 203.0156,80.7734 Q203.0156,81.9766 202.5781,82.8828 Q202.1563,83.7891 201.2031,84.3047 Q200.2656,84.8203 198.7344,84.8203 L197.2344,84.8203 L197.2344,89.1328 L194.8594,89.1328 Z M198.4844,82.7266 Q199.5313,82.7266 200.0469,82.2422 Q200.5781,81.7578 200.5781,80.8672 Q200.5781,79.9766 200.1406,79.5391 Q199.7188,79.0859 198.7969,79.0859 L197.2344,79.0859 L197.2344,82.7266 L198.4844,82.7266 Z \" fill=\"#000000\"/><text fill=\"#000000\" font-family=\"sans-serif\" font-size=\"12\" font-style=\"italic\" lengthAdjust=\"spacing\" textLength=\"40\" x=\"210\" y=\"78.6387\">«part»</text><text fill=\"#000000\" font-family=\"sans-serif\" font-size=\"14\" lengthAdjust=\"spacing\" textLength=\"9\" x=\"221.5\" y=\"94.4639\">g</text><line style=\"stroke:#181818;stroke-width:0.5;\" x1=\"184\" x2=\"250\" y1=\"102.7656\" y2=\"102.7656\"/></g></a><!--MD5=[1dd1bfd58a279cf63c5f349dbc8fc6a1]\n",
       "class E11--><a href=\"psysml:cae84388-2b2f-4b61-9caf-e3201f6c4bb4\" target=\"_top\" title=\"psysml:cae84388-2b2f-4b61-9caf-e3201f6c4bb4\" xlink:actuate=\"onRequest\" xlink:href=\"psysml:cae84388-2b2f-4b61-9caf-e3201f6c4bb4\" xlink:show=\"new\" xlink:title=\"psysml:cae84388-2b2f-4b61-9caf-e3201f6c4bb4\" xlink:type=\"simple\"><g id=\"elem_E11\"><rect fill=\"#F1F1F1\" height=\"91.3781\" id=\"E11\" rx=\"2.5\" ry=\"2.5\" style=\"stroke:#181818;stroke-width:0.5;\" width=\"125\" x=\"22.5\" y=\"41\"/><ellipse cx=\"37.5\" cy=\"61.1328\" fill=\"#A52A2A\" rx=\"11\" ry=\"11\" style=\"stroke:#181818;stroke-width:1.0;\"/><path d=\"M34.2656,67.6328 L34.2656,55.4922 L38.0156,55.4922 Q40.3906,55.4922 41.7813,57.0078 Q43.1875,58.5078 43.1875,61.4609 Q43.1875,64.4297 41.75,66.0391 Q40.3125,67.6328 37.8281,67.6328 L34.2656,67.6328 Z M37.7031,65.5391 Q39.25,65.5391 39.9688,64.5391 Q40.6875,63.5391 40.6875,61.4766 Q40.6875,59.4453 39.9844,58.5234 Q39.2969,57.5859 37.9063,57.5859 L36.7031,57.5859 L36.7031,65.5391 L37.7031,65.5391 Z \" fill=\"#000000\"/><text fill=\"#000000\" font-family=\"sans-serif\" font-size=\"12\" font-style=\"italic\" lengthAdjust=\"spacing\" textLength=\"97\" x=\"49.5\" y=\"57.1387\">«attribute  def»</text><text fill=\"#000000\" font-family=\"sans-serif\" font-size=\"14\" lengthAdjust=\"spacing\" textLength=\"9\" x=\"93.5\" y=\"72.9639\">A</text><line style=\"stroke:#181818;stroke-width:0.5;\" x1=\"23.5\" x2=\"146.5\" y1=\"81.2656\" y2=\"81.2656\"/><text fill=\"#000000\" font-family=\"sans-serif\" font-size=\"14\" lengthAdjust=\"spacing\" textLength=\"61\" x=\"28.5\" y=\"108.7795\">i: Integer</text><text fill=\"#000000\" font-family=\"sans-serif\" font-size=\"14\" lengthAdjust=\"spacing\" textLength=\"25\" x=\"28.5\" y=\"125.0764\">x: A</text><text fill=\"#000000\" font-family=\"sans-serif\" font-size=\"14\" font-style=\"italic\" lengthAdjust=\"spacing\" textLength=\"66\" x=\"52\" y=\"93.6123\">attributes</text></g></a><!--MD5=[15ebcb19ae302d9b601edb458606d402]\n",
       "link E5 to E2--><g id=\"link_E5_E2\"><a href=\"psysml:356b088d-f058-4498-8151-02a64d9c5f99\" target=\"_top\" title=\"psysml:356b088d-f058-4498-8151-02a64d9c5f99\" xlink:actuate=\"onRequest\" xlink:href=\"psysml:356b088d-f058-4498-8151-02a64d9c5f99\" xlink:show=\"new\" xlink:title=\"psysml:356b088d-f058-4498-8151-02a64d9c5f99\" xlink:type=\"simple\"><path d=\"M722.22,110.73 C714.81,128.34 704.46,152.9 695.87,173.31 \" fill=\"none\" id=\"E5-to-E2\" style=\"stroke:#181818;stroke-width:1.0;\"/><polygon fill=\"#FFFFFF\" points=\"688.03,191.92,688.9572,171.6928,701.8586,177.1292,688.03,191.92\" style=\"stroke:#181818;stroke-width:1.0;\"/><ellipse cx=\"693.0137\" cy=\"167.2167\" fill=\"#181818\" rx=\"2\" ry=\"2\" style=\"stroke:#181818;stroke-width:1.0;\"/><ellipse cx=\"702.229\" cy=\"171.0998\" fill=\"#181818\" rx=\"2\" ry=\"2\" style=\"stroke:#181818;stroke-width:1.0;\"/></a></g><!--MD5=[2351f337d6de0f557b50152ba70847b5]\n",
       "link E6 to E2--><g id=\"link_E6_E2\"><a href=\"psysml:849948e9-2a63-47c9-a787-96ae36e28ef0\" target=\"_top\" title=\"psysml:849948e9-2a63-47c9-a787-96ae36e28ef0\" xlink:actuate=\"onRequest\" xlink:href=\"psysml:849948e9-2a63-47c9-a787-96ae36e28ef0\" xlink:show=\"new\" xlink:title=\"psysml:849948e9-2a63-47c9-a787-96ae36e28ef0\" xlink:type=\"simple\"><path d=\"M638.59,110.73 C645.86,128.34 656.01,152.9 664.44,173.31 \" fill=\"none\" id=\"E6-to-E2\" style=\"stroke:#181818;stroke-width:1.0;\"/><polygon fill=\"#FFFFFF\" points=\"672.12,191.92,658.4014,177.027,671.3428,171.6865,672.12,191.92\" style=\"stroke:#181818;stroke-width:1.0;\"/><ellipse cx=\"658.0758\" cy=\"170.9951\" fill=\"#181818\" rx=\"2\" ry=\"2\" style=\"stroke:#181818;stroke-width:1.0;\"/><ellipse cx=\"667.3196\" cy=\"167.1804\" fill=\"#181818\" rx=\"2\" ry=\"2\" style=\"stroke:#181818;stroke-width:1.0;\"/></a></g><!--MD5=[e22c4dee981e4aae85a58c15dd8c06bc]\n",
       "@startuml\r\n",
       " \r\n",
       "package \"MultiplicityTest\" as E1  [[psysml:26edc399-ba1b-4e26-98ec-184b2d561983 ]]  {\r\n",
       "comp def \"P\" as E2  << << (B,green) >> [[psysml:a78c9232-7355-4122-98e1-61ea033b6fbd ]] {\r\n",
       "}\r\n",
       "comp usage \"n: Integer  \" as E3  << <<(U,orange) attribute>> [[psysml:6e5bcad0-e721-42f0-8965-8cf810de127c ]] {\r\n",
       "##//values//##\r\n",
       " <U+003D> 5\r\n",
       "}\r\n",
       "comp usage \"a  \" as E4  << << (P,limegreen) part>> [[psysml:58ca86c4-6609-462b-9948-87aadb08d281 ]] {\r\n",
       "}\r\n",
       "comp usage \"b: P  \" as E5  << << (P,limegreen) part>> [[psysml:8959fced-ddce-434c-832c-e17faa00a5de ]] {\r\n",
       "}\r\n",
       "comp usage \"c: P  \" as E6  << << (P,limegreen) part>> [[psysml:4ac8fd09-bbc3-4ec3-ba18-7592ef56bccd ]] {\r\n",
       "}\r\n",
       "comp usage \"d  \" as E7  << << (P,limegreen) part>> [[psysml:58aa0206-e878-4c1d-8c3a-c879ca6e4b13 ]] {\r\n",
       "}\r\n",
       "comp usage \"e  \" as E8  << << (P,limegreen) part>> [[psysml:21978b5e-874b-4020-b12b-41f872f49c78 ]] {\r\n",
       "}\r\n",
       "comp usage \"f  \" as E9  << << (P,limegreen) part>> [[psysml:79f00190-11a9-479d-9f29-e880a27768bf ]] {\r\n",
       "}\r\n",
       "comp usage \"g  \" as E10  << << (P,limegreen) part>> [[psysml:3e79cc57-1ff4-4d61-ad54-8c0f8362d5da ]] {\r\n",
       "}\r\n",
       "comp def \"A\" as E11  << <<(D,brown) attribute  def>> [[psysml:cae84388-2b2f-4b61-9caf-e3201f6c4bb4 ]] {\r\n",
       "##//attributes//##\r\n",
       "i: Integer\r\n",
       "x: A\r\n",
       "}\r\n",
       "}\r\n",
       "E5 - -:|> E2 [[psysml:356b088d-f058-4498-8151-02a64d9c5f99 ]] \r\n",
       "E6 - -:|> E2 [[psysml:849948e9-2a63-47c9-a787-96ae36e28ef0 ]] \r\n",
       "@enduml\r\n",
       "\n",
       "PlantUML version 1.2022.7(Mon Aug 22 17:01:30 UTC 2022)\n",
       "(EPL source distribution)\n",
       "Java Runtime: OpenJDK Runtime Environment\n",
       "JVM: OpenJDK 64-Bit Server VM\n",
       "Default Encoding: UTF-8\n",
       "Language: en\n",
       "Country: null\n",
       "--></g></svg>"
      ]
     },
     "execution_count": 36,
     "metadata": {},
     "output_type": "execute_result"
    }
   ],
   "source": [
    "%viz --style=\"PLANTUML\" --view=\"MIXED\" \"MultiplicityTest\""
   ]
  },
  {
   "cell_type": "code",
   "execution_count": 37,
   "id": "7fd80888",
   "metadata": {
    "execution": {
     "iopub.execute_input": "2024-12-16T03:27:06.975919Z",
     "iopub.status.busy": "2024-12-16T03:27:06.975698Z",
     "iopub.status.idle": "2024-12-16T03:27:06.997421Z",
     "shell.execute_reply": "2024-12-16T03:27:06.997232Z"
    }
   },
   "outputs": [
    {
     "data": {
      "image/svg+xml": [
       "<?xml version=\"1.0\" encoding=\"UTF-8\" standalone=\"no\"?><svg xmlns=\"http://www.w3.org/2000/svg\" xmlns:xlink=\"http://www.w3.org/1999/xlink\" contentStyleType=\"text/css\" height=\"263px\" preserveAspectRatio=\"none\" style=\"width:821px;height:263px;background:#FFFFFF;\" version=\"1.1\" viewBox=\"0 0 821 263\" width=\"821px\" zoomAndPan=\"magnify\"><defs/><g><!--MD5=[fbc87193dbaf4d95561dea2c320d4a47]\n",
       "cluster E1--><g id=\"cluster_E1\"><a href=\"psysml:26edc399-ba1b-4e26-98ec-184b2d561983\" target=\"_top\" title=\"psysml:26edc399-ba1b-4e26-98ec-184b2d561983\" xlink:actuate=\"onRequest\" xlink:href=\"psysml:26edc399-ba1b-4e26-98ec-184b2d561983\" xlink:show=\"new\" xlink:title=\"psysml:26edc399-ba1b-4e26-98ec-184b2d561983\" xlink:type=\"simple\"><polygon fill=\"none\" points=\"16,6,130,6,137,28.2969,804,28.2969,804,256,16,256,16,6\" style=\"stroke:#000000;stroke-width:1.5;\"/><line style=\"stroke:#000000;stroke-width:1.5;\" x1=\"16\" x2=\"137\" y1=\"28.2969\" y2=\"28.2969\"/><text fill=\"#000000\" font-family=\"sans-serif\" font-size=\"14\" font-weight=\"bold\" lengthAdjust=\"spacing\" textLength=\"108\" x=\"20\" y=\"20.9951\">MultiplicityTest</text></a></g><!--MD5=[b4997ac47864f28c2f74865a473b2911]\n",
       "class E2--><a href=\"psysml:a78c9232-7355-4122-98e1-61ea033b6fbd\" target=\"_top\" title=\"psysml:a78c9232-7355-4122-98e1-61ea033b6fbd\" xlink:actuate=\"onRequest\" xlink:href=\"psysml:a78c9232-7355-4122-98e1-61ea033b6fbd\" xlink:show=\"new\" xlink:title=\"psysml:a78c9232-7355-4122-98e1-61ea033b6fbd\" xlink:type=\"simple\"><g id=\"elem_E2\"><rect fill=\"#FFFFFF\" height=\"48.2656\" id=\"E2\" style=\"stroke:#181818;stroke-width:0.5;\" width=\"70\" x=\"499\" y=\"192\"/><text fill=\"#000000\" font-family=\"sans-serif\" font-size=\"12\" font-style=\"italic\" lengthAdjust=\"spacing\" textLength=\"68\" x=\"500\" y=\"208.1387\">«part  def»</text><text fill=\"#000000\" font-family=\"sans-serif\" font-size=\"14\" lengthAdjust=\"spacing\" textLength=\"9\" x=\"529.5\" y=\"223.9639\">P</text><line style=\"stroke:#181818;stroke-width:0.5;\" x1=\"500\" x2=\"568\" y1=\"232.2656\" y2=\"232.2656\"/></g></a><!--MD5=[09b614a08d8cba4a07c9adeb5e0fee81]\n",
       "class E3--><a href=\"psysml:6e5bcad0-e721-42f0-8965-8cf810de127c\" target=\"_top\" title=\"psysml:6e5bcad0-e721-42f0-8965-8cf810de127c\" xlink:actuate=\"onRequest\" xlink:href=\"psysml:6e5bcad0-e721-42f0-8965-8cf810de127c\" xlink:show=\"new\" xlink:title=\"psysml:6e5bcad0-e721-42f0-8965-8cf810de127c\" xlink:type=\"simple\"><g id=\"elem_E3\"><rect fill=\"#FFFFFF\" height=\"75.0813\" id=\"E3\" rx=\"10\" ry=\"10\" style=\"stroke:#181818;stroke-width:0.5;\" width=\"81\" x=\"706.5\" y=\"49\"/><text fill=\"#000000\" font-family=\"sans-serif\" font-size=\"12\" font-style=\"italic\" lengthAdjust=\"spacing\" textLength=\"69\" x=\"712.5\" y=\"65.1387\">«attribute»</text><text fill=\"#000000\" font-family=\"sans-serif\" font-size=\"14\" lengthAdjust=\"spacing\" textLength=\"67\" x=\"709.5\" y=\"80.9639\">n: Integer</text><line style=\"stroke:#181818;stroke-width:0.5;\" x1=\"707.5\" x2=\"786.5\" y1=\"89.2656\" y2=\"89.2656\"/><text fill=\"#000000\" font-family=\"sans-serif\" font-size=\"14\" lengthAdjust=\"spacing\" textLength=\"25\" x=\"712.5\" y=\"116.7795\">= 5</text><text fill=\"#000000\" font-family=\"sans-serif\" font-size=\"14\" font-style=\"italic\" lengthAdjust=\"spacing\" textLength=\"44\" x=\"725\" y=\"101.6123\">values</text></g></a><!--MD5=[ebbe1d658d1005bcc118a6aa81145e00]\n",
       "class E4--><a href=\"psysml:58ca86c4-6609-462b-9948-87aadb08d281\" target=\"_top\" title=\"psysml:58ca86c4-6609-462b-9948-87aadb08d281\" xlink:actuate=\"onRequest\" xlink:href=\"psysml:58ca86c4-6609-462b-9948-87aadb08d281\" xlink:show=\"new\" xlink:title=\"psysml:58ca86c4-6609-462b-9948-87aadb08d281\" xlink:type=\"simple\"><g id=\"elem_E4\"><rect fill=\"#FFFFFF\" height=\"48.2656\" id=\"E4\" rx=\"10\" ry=\"10\" style=\"stroke:#181818;stroke-width:0.5;\" width=\"42\" x=\"629\" y=\"62.5\"/><text fill=\"#000000\" font-family=\"sans-serif\" font-size=\"12\" font-style=\"italic\" lengthAdjust=\"spacing\" textLength=\"40\" x=\"630\" y=\"78.6387\">«part»</text><text fill=\"#000000\" font-family=\"sans-serif\" font-size=\"14\" lengthAdjust=\"spacing\" textLength=\"8\" x=\"642\" y=\"94.4639\">a</text><line style=\"stroke:#181818;stroke-width:0.5;\" x1=\"630\" x2=\"670\" y1=\"102.7656\" y2=\"102.7656\"/></g></a><!--MD5=[270fce915f116d4de14055a7c1d9a0f3]\n",
       "class E5--><a href=\"psysml:8959fced-ddce-434c-832c-e17faa00a5de\" target=\"_top\" title=\"psysml:8959fced-ddce-434c-832c-e17faa00a5de\" xlink:actuate=\"onRequest\" xlink:href=\"psysml:8959fced-ddce-434c-832c-e17faa00a5de\" xlink:show=\"new\" xlink:title=\"psysml:8959fced-ddce-434c-832c-e17faa00a5de\" xlink:type=\"simple\"><g id=\"elem_E5\"><rect fill=\"#FFFFFF\" height=\"48.2656\" id=\"E5\" rx=\"10\" ry=\"10\" style=\"stroke:#181818;stroke-width:0.5;\" width=\"42\" x=\"552\" y=\"62.5\"/><text fill=\"#000000\" font-family=\"sans-serif\" font-size=\"12\" font-style=\"italic\" lengthAdjust=\"spacing\" textLength=\"40\" x=\"553\" y=\"78.6387\">«part»</text><text fill=\"#000000\" font-family=\"sans-serif\" font-size=\"14\" lengthAdjust=\"spacing\" textLength=\"27\" x=\"555.5\" y=\"94.4639\">b: P</text><line style=\"stroke:#181818;stroke-width:0.5;\" x1=\"553\" x2=\"593\" y1=\"102.7656\" y2=\"102.7656\"/></g></a><!--MD5=[60a26617385b1d2d0262a64233df1f8d]\n",
       "class E6--><a href=\"psysml:4ac8fd09-bbc3-4ec3-ba18-7592ef56bccd\" target=\"_top\" title=\"psysml:4ac8fd09-bbc3-4ec3-ba18-7592ef56bccd\" xlink:actuate=\"onRequest\" xlink:href=\"psysml:4ac8fd09-bbc3-4ec3-ba18-7592ef56bccd\" xlink:show=\"new\" xlink:title=\"psysml:4ac8fd09-bbc3-4ec3-ba18-7592ef56bccd\" xlink:type=\"simple\"><g id=\"elem_E6\"><rect fill=\"#FFFFFF\" height=\"48.2656\" id=\"E6\" rx=\"10\" ry=\"10\" style=\"stroke:#181818;stroke-width:0.5;\" width=\"42\" x=\"475\" y=\"62.5\"/><text fill=\"#000000\" font-family=\"sans-serif\" font-size=\"12\" font-style=\"italic\" lengthAdjust=\"spacing\" textLength=\"40\" x=\"476\" y=\"78.6387\">«part»</text><text fill=\"#000000\" font-family=\"sans-serif\" font-size=\"14\" lengthAdjust=\"spacing\" textLength=\"26\" x=\"479\" y=\"94.4639\">c: P</text><line style=\"stroke:#181818;stroke-width:0.5;\" x1=\"476\" x2=\"516\" y1=\"102.7656\" y2=\"102.7656\"/></g></a><!--MD5=[2156ba9850f5573cc1fc38a6a4b2f02b]\n",
       "class E7--><a href=\"psysml:58aa0206-e878-4c1d-8c3a-c879ca6e4b13\" target=\"_top\" title=\"psysml:58aa0206-e878-4c1d-8c3a-c879ca6e4b13\" xlink:actuate=\"onRequest\" xlink:href=\"psysml:58aa0206-e878-4c1d-8c3a-c879ca6e4b13\" xlink:show=\"new\" xlink:title=\"psysml:58aa0206-e878-4c1d-8c3a-c879ca6e4b13\" xlink:type=\"simple\"><g id=\"elem_E7\"><rect fill=\"#FFFFFF\" height=\"48.2656\" id=\"E7\" rx=\"10\" ry=\"10\" style=\"stroke:#181818;stroke-width:0.5;\" width=\"42\" x=\"398\" y=\"62.5\"/><text fill=\"#000000\" font-family=\"sans-serif\" font-size=\"12\" font-style=\"italic\" lengthAdjust=\"spacing\" textLength=\"40\" x=\"399\" y=\"78.6387\">«part»</text><text fill=\"#000000\" font-family=\"sans-serif\" font-size=\"14\" lengthAdjust=\"spacing\" textLength=\"9\" x=\"410.5\" y=\"94.4639\">d</text><line style=\"stroke:#181818;stroke-width:0.5;\" x1=\"399\" x2=\"439\" y1=\"102.7656\" y2=\"102.7656\"/></g></a><!--MD5=[b9389687b975829384b498ac4b7476b2]\n",
       "class E8--><a href=\"psysml:21978b5e-874b-4020-b12b-41f872f49c78\" target=\"_top\" title=\"psysml:21978b5e-874b-4020-b12b-41f872f49c78\" xlink:actuate=\"onRequest\" xlink:href=\"psysml:21978b5e-874b-4020-b12b-41f872f49c78\" xlink:show=\"new\" xlink:title=\"psysml:21978b5e-874b-4020-b12b-41f872f49c78\" xlink:type=\"simple\"><g id=\"elem_E8\"><rect fill=\"#FFFFFF\" height=\"48.2656\" id=\"E8\" rx=\"10\" ry=\"10\" style=\"stroke:#181818;stroke-width:0.5;\" width=\"42\" x=\"321\" y=\"62.5\"/><text fill=\"#000000\" font-family=\"sans-serif\" font-size=\"12\" font-style=\"italic\" lengthAdjust=\"spacing\" textLength=\"40\" x=\"322\" y=\"78.6387\">«part»</text><text fill=\"#000000\" font-family=\"sans-serif\" font-size=\"14\" lengthAdjust=\"spacing\" textLength=\"9\" x=\"333.5\" y=\"94.4639\">e</text><line style=\"stroke:#181818;stroke-width:0.5;\" x1=\"322\" x2=\"362\" y1=\"102.7656\" y2=\"102.7656\"/></g></a><!--MD5=[fd4143e9d270a159db93a4ea2a975926]\n",
       "class E9--><a href=\"psysml:79f00190-11a9-479d-9f29-e880a27768bf\" target=\"_top\" title=\"psysml:79f00190-11a9-479d-9f29-e880a27768bf\" xlink:actuate=\"onRequest\" xlink:href=\"psysml:79f00190-11a9-479d-9f29-e880a27768bf\" xlink:show=\"new\" xlink:title=\"psysml:79f00190-11a9-479d-9f29-e880a27768bf\" xlink:type=\"simple\"><g id=\"elem_E9\"><rect fill=\"#FFFFFF\" height=\"48.2656\" id=\"E9\" rx=\"10\" ry=\"10\" style=\"stroke:#181818;stroke-width:0.5;\" width=\"42\" x=\"244\" y=\"62.5\"/><text fill=\"#000000\" font-family=\"sans-serif\" font-size=\"12\" font-style=\"italic\" lengthAdjust=\"spacing\" textLength=\"40\" x=\"245\" y=\"78.6387\">«part»</text><text fill=\"#000000\" font-family=\"sans-serif\" font-size=\"14\" lengthAdjust=\"spacing\" textLength=\"4\" x=\"259\" y=\"94.4639\">f</text><line style=\"stroke:#181818;stroke-width:0.5;\" x1=\"245\" x2=\"285\" y1=\"102.7656\" y2=\"102.7656\"/></g></a><!--MD5=[96f4274e9e20536e775497830990834d]\n",
       "class E10--><a href=\"psysml:3e79cc57-1ff4-4d61-ad54-8c0f8362d5da\" target=\"_top\" title=\"psysml:3e79cc57-1ff4-4d61-ad54-8c0f8362d5da\" xlink:actuate=\"onRequest\" xlink:href=\"psysml:3e79cc57-1ff4-4d61-ad54-8c0f8362d5da\" xlink:show=\"new\" xlink:title=\"psysml:3e79cc57-1ff4-4d61-ad54-8c0f8362d5da\" xlink:type=\"simple\"><g id=\"elem_E10\"><rect fill=\"#FFFFFF\" height=\"48.2656\" id=\"E10\" rx=\"10\" ry=\"10\" style=\"stroke:#181818;stroke-width:0.5;\" width=\"42\" x=\"167\" y=\"62.5\"/><text fill=\"#000000\" font-family=\"sans-serif\" font-size=\"12\" font-style=\"italic\" lengthAdjust=\"spacing\" textLength=\"40\" x=\"168\" y=\"78.6387\">«part»</text><text fill=\"#000000\" font-family=\"sans-serif\" font-size=\"14\" lengthAdjust=\"spacing\" textLength=\"9\" x=\"179.5\" y=\"94.4639\">g</text><line style=\"stroke:#181818;stroke-width:0.5;\" x1=\"168\" x2=\"208\" y1=\"102.7656\" y2=\"102.7656\"/></g></a><!--MD5=[1dd1bfd58a279cf63c5f349dbc8fc6a1]\n",
       "class E11--><a href=\"psysml:cae84388-2b2f-4b61-9caf-e3201f6c4bb4\" target=\"_top\" title=\"psysml:cae84388-2b2f-4b61-9caf-e3201f6c4bb4\" xlink:actuate=\"onRequest\" xlink:href=\"psysml:cae84388-2b2f-4b61-9caf-e3201f6c4bb4\" xlink:show=\"new\" xlink:title=\"psysml:cae84388-2b2f-4b61-9caf-e3201f6c4bb4\" xlink:type=\"simple\"><g id=\"elem_E11\"><rect fill=\"#FFFFFF\" height=\"91.3781\" id=\"E11\" style=\"stroke:#181818;stroke-width:0.5;\" width=\"99\" x=\"32.5\" y=\"41\"/><text fill=\"#000000\" font-family=\"sans-serif\" font-size=\"12\" font-style=\"italic\" lengthAdjust=\"spacing\" textLength=\"97\" x=\"33.5\" y=\"57.1387\">«attribute  def»</text><text fill=\"#000000\" font-family=\"sans-serif\" font-size=\"14\" lengthAdjust=\"spacing\" textLength=\"9\" x=\"77.5\" y=\"72.9639\">A</text><line style=\"stroke:#181818;stroke-width:0.5;\" x1=\"33.5\" x2=\"130.5\" y1=\"81.2656\" y2=\"81.2656\"/><text fill=\"#000000\" font-family=\"sans-serif\" font-size=\"14\" lengthAdjust=\"spacing\" textLength=\"61\" x=\"38.5\" y=\"108.7795\">i: Integer</text><text fill=\"#000000\" font-family=\"sans-serif\" font-size=\"14\" lengthAdjust=\"spacing\" textLength=\"25\" x=\"38.5\" y=\"125.0764\">x: A</text><text fill=\"#000000\" font-family=\"sans-serif\" font-size=\"14\" font-style=\"italic\" lengthAdjust=\"spacing\" textLength=\"66\" x=\"49\" y=\"93.6123\">attributes</text></g></a><!--MD5=[15ebcb19ae302d9b601edb458606d402]\n",
       "link E5 to E2--><g id=\"link_E5_E2\"><a href=\"psysml:356b088d-f058-4498-8151-02a64d9c5f99\" target=\"_top\" title=\"psysml:356b088d-f058-4498-8151-02a64d9c5f99\" xlink:actuate=\"onRequest\" xlink:href=\"psysml:356b088d-f058-4498-8151-02a64d9c5f99\" xlink:show=\"new\" xlink:title=\"psysml:356b088d-f058-4498-8151-02a64d9c5f99\" xlink:type=\"simple\"><path d=\"M565.94,110.59 C560.67,127.81 553.32,151.83 547,172.49 \" fill=\"none\" id=\"E5-to-E2\" style=\"stroke:#181818;stroke-width:1.0;\"/><polygon fill=\"#FFFFFF\" points=\"541.14,191.65,539.9958,171.4339,553.3851,175.5237,541.14,191.65\" style=\"stroke:#181818;stroke-width:1.0;\"/><ellipse cx=\"543.5737\" cy=\"166.5668\" fill=\"#181818\" rx=\"2\" ry=\"2\" style=\"stroke:#181818;stroke-width:1.0;\"/><ellipse cx=\"553.1375\" cy=\"169.4881\" fill=\"#181818\" rx=\"2\" ry=\"2\" style=\"stroke:#181818;stroke-width:1.0;\"/></a></g><!--MD5=[2351f337d6de0f557b50152ba70847b5]\n",
       "link E6 to E2--><g id=\"link_E6_E2\"><a href=\"psysml:849948e9-2a63-47c9-a787-96ae36e28ef0\" target=\"_top\" title=\"psysml:849948e9-2a63-47c9-a787-96ae36e28ef0\" xlink:actuate=\"onRequest\" xlink:href=\"psysml:849948e9-2a63-47c9-a787-96ae36e28ef0\" xlink:show=\"new\" xlink:title=\"psysml:849948e9-2a63-47c9-a787-96ae36e28ef0\" xlink:type=\"simple\"><path d=\"M502.88,110.59 C507.99,127.72 515.1,151.58 521.23,172.17 \" fill=\"none\" id=\"E6-to-E2\" style=\"stroke:#181818;stroke-width:1.0;\"/><polygon fill=\"#FFFFFF\" points=\"527.04,191.65,514.9155,175.4328,528.3349,171.443,527.04,191.65\" style=\"stroke:#181818;stroke-width:1.0;\"/><ellipse cx=\"515.2081\" cy=\"169.3992\" fill=\"#181818\" rx=\"2\" ry=\"2\" style=\"stroke:#181818;stroke-width:1.0;\"/><ellipse cx=\"524.7935\" cy=\"166.5493\" fill=\"#181818\" rx=\"2\" ry=\"2\" style=\"stroke:#181818;stroke-width:1.0;\"/></a></g><!--MD5=[078e720b444fb4af020d537f8b7ce5ad]\n",
       "@startuml\r\n",
       "skin sysmlbw\r\n",
       "skinparam monochrome true\r\n",
       "skinparam wrapWidth 300\r\n",
       "hide circle\r\n",
       "\r\n",
       "package \"MultiplicityTest\" as E1  [[psysml:26edc399-ba1b-4e26-98ec-184b2d561983 ]]  {\r\n",
       "comp def \"P\" as E2  <<(T,blue) part  def>> [[psysml:a78c9232-7355-4122-98e1-61ea033b6fbd ]] {\r\n",
       "}\r\n",
       "comp usage \"n: Integer  \" as E3  <<(T,blue) attribute>> [[psysml:6e5bcad0-e721-42f0-8965-8cf810de127c ]] {\r\n",
       "##//values//##\r\n",
       " <U+003D> 5\r\n",
       "}\r\n",
       "comp usage \"a  \" as E4  <<(T,blue) part>> [[psysml:58ca86c4-6609-462b-9948-87aadb08d281 ]] {\r\n",
       "}\r\n",
       "comp usage \"b: P  \" as E5  <<(T,blue) part>> [[psysml:8959fced-ddce-434c-832c-e17faa00a5de ]] {\r\n",
       "}\r\n",
       "comp usage \"c: P  \" as E6  <<(T,blue) part>> [[psysml:4ac8fd09-bbc3-4ec3-ba18-7592ef56bccd ]] {\r\n",
       "}\r\n",
       "comp usage \"d  \" as E7  <<(T,blue) part>> [[psysml:58aa0206-e878-4c1d-8c3a-c879ca6e4b13 ]] {\r\n",
       "}\r\n",
       "comp usage \"e  \" as E8  <<(T,blue) part>> [[psysml:21978b5e-874b-4020-b12b-41f872f49c78 ]] {\r\n",
       "}\r\n",
       "comp usage \"f  \" as E9  <<(T,blue) part>> [[psysml:79f00190-11a9-479d-9f29-e880a27768bf ]] {\r\n",
       "}\r\n",
       "comp usage \"g  \" as E10  <<(T,blue) part>> [[psysml:3e79cc57-1ff4-4d61-ad54-8c0f8362d5da ]] {\r\n",
       "}\r\n",
       "comp def \"A\" as E11  <<(T,blue) attribute  def>> [[psysml:cae84388-2b2f-4b61-9caf-e3201f6c4bb4 ]] {\r\n",
       "##//attributes//##\r\n",
       "i: Integer\r\n",
       "x: A\r\n",
       "}\r\n",
       "}\r\n",
       "E5 - -:|> E2 [[psysml:356b088d-f058-4498-8151-02a64d9c5f99 ]] \r\n",
       "E6 - -:|> E2 [[psysml:849948e9-2a63-47c9-a787-96ae36e28ef0 ]] \r\n",
       "@enduml\r\n",
       "\n",
       "PlantUML version 1.2022.7(Mon Aug 22 17:01:30 UTC 2022)\n",
       "(EPL source distribution)\n",
       "Java Runtime: OpenJDK Runtime Environment\n",
       "JVM: OpenJDK 64-Bit Server VM\n",
       "Default Encoding: UTF-8\n",
       "Language: en\n",
       "Country: null\n",
       "--></g></svg>"
      ]
     },
     "execution_count": 37,
     "metadata": {},
     "output_type": "execute_result"
    }
   ],
   "source": [
    "%viz --style=\"DEFAULT\" --view=\"Default\" \"MultiplicityTest\""
   ]
  },
  {
   "cell_type": "code",
   "execution_count": 38,
   "id": "03d6e66d",
   "metadata": {
    "execution": {
     "iopub.execute_input": "2024-12-16T03:27:07.050362Z",
     "iopub.status.busy": "2024-12-16T03:27:07.050141Z",
     "iopub.status.idle": "2024-12-16T03:27:07.072152Z",
     "shell.execute_reply": "2024-12-16T03:27:07.071979Z"
    }
   },
   "outputs": [
    {
     "data": {
      "image/svg+xml": [
       "<?xml version=\"1.0\" encoding=\"UTF-8\" standalone=\"no\"?><svg xmlns=\"http://www.w3.org/2000/svg\" xmlns:xlink=\"http://www.w3.org/1999/xlink\" contentStyleType=\"text/css\" height=\"263px\" preserveAspectRatio=\"none\" style=\"width:916px;height:263px;background:#FFFFFF;\" version=\"1.1\" viewBox=\"0 0 916 263\" width=\"916px\" zoomAndPan=\"magnify\"><defs/><g><!--MD5=[fbc87193dbaf4d95561dea2c320d4a47]\n",
       "cluster E1--><g id=\"cluster_E1\"><a href=\"psysml:26edc399-ba1b-4e26-98ec-184b2d561983\" target=\"_top\" title=\"psysml:26edc399-ba1b-4e26-98ec-184b2d561983\" xlink:actuate=\"onRequest\" xlink:href=\"psysml:26edc399-ba1b-4e26-98ec-184b2d561983\" xlink:show=\"new\" xlink:title=\"psysml:26edc399-ba1b-4e26-98ec-184b2d561983\" xlink:type=\"simple\"><polygon fill=\"none\" points=\"16,6,130,6,137,28.2969,899,28.2969,899,256,16,256,16,6\" style=\"stroke:#000000;stroke-width:1.5;\"/><line style=\"stroke:#000000;stroke-width:1.5;\" x1=\"16\" x2=\"137\" y1=\"28.2969\" y2=\"28.2969\"/><text fill=\"#000000\" font-family=\"sans-serif\" font-size=\"14\" font-weight=\"bold\" lengthAdjust=\"spacing\" textLength=\"108\" x=\"20\" y=\"20.9951\">MultiplicityTest</text></a></g><!--MD5=[b4997ac47864f28c2f74865a473b2911]\n",
       "class E2--><a href=\"psysml:a78c9232-7355-4122-98e1-61ea033b6fbd\" target=\"_top\" title=\"psysml:a78c9232-7355-4122-98e1-61ea033b6fbd\" xlink:actuate=\"onRequest\" xlink:href=\"psysml:a78c9232-7355-4122-98e1-61ea033b6fbd\" xlink:show=\"new\" xlink:title=\"psysml:a78c9232-7355-4122-98e1-61ea033b6fbd\" xlink:type=\"simple\"><g id=\"elem_E2\"><rect fill=\"#FFFFFF\" height=\"48.2656\" id=\"E2\" style=\"stroke:#181818;stroke-width:0.5;\" width=\"70\" x=\"559\" y=\"192\"/><text fill=\"#000000\" font-family=\"sans-serif\" font-size=\"12\" font-style=\"italic\" lengthAdjust=\"spacing\" textLength=\"68\" x=\"560\" y=\"208.1387\">«part  def»</text><text fill=\"#000000\" font-family=\"sans-serif\" font-size=\"14\" lengthAdjust=\"spacing\" textLength=\"9\" x=\"589.5\" y=\"223.9639\">P</text><line style=\"stroke:#181818;stroke-width:0.5;\" x1=\"560\" x2=\"628\" y1=\"232.2656\" y2=\"232.2656\"/></g></a><!--MD5=[09b614a08d8cba4a07c9adeb5e0fee81]\n",
       "class E3--><a href=\"psysml:6e5bcad0-e721-42f0-8965-8cf810de127c\" target=\"_top\" title=\"psysml:6e5bcad0-e721-42f0-8965-8cf810de127c\" xlink:actuate=\"onRequest\" xlink:href=\"psysml:6e5bcad0-e721-42f0-8965-8cf810de127c\" xlink:show=\"new\" xlink:title=\"psysml:6e5bcad0-e721-42f0-8965-8cf810de127c\" xlink:type=\"simple\"><g id=\"elem_E3\"><rect fill=\"#FFFFFF\" height=\"75.0813\" id=\"E3\" rx=\"10\" ry=\"10\" style=\"stroke:#181818;stroke-width:0.5;\" width=\"81\" x=\"801.5\" y=\"49\"/><text fill=\"#000000\" font-family=\"sans-serif\" font-size=\"12\" font-style=\"italic\" lengthAdjust=\"spacing\" textLength=\"69\" x=\"807.5\" y=\"65.1387\">«attribute»</text><text fill=\"#000000\" font-family=\"sans-serif\" font-size=\"14\" lengthAdjust=\"spacing\" textLength=\"67\" x=\"804.5\" y=\"80.9639\">n: Integer</text><line style=\"stroke:#181818;stroke-width:0.5;\" x1=\"802.5\" x2=\"881.5\" y1=\"89.2656\" y2=\"89.2656\"/><text fill=\"#000000\" font-family=\"sans-serif\" font-size=\"14\" lengthAdjust=\"spacing\" textLength=\"25\" x=\"807.5\" y=\"116.7795\">= 5</text><text fill=\"#000000\" font-family=\"sans-serif\" font-size=\"14\" font-style=\"italic\" lengthAdjust=\"spacing\" textLength=\"44\" x=\"820\" y=\"101.6123\">values</text></g></a><!--MD5=[ebbe1d658d1005bcc118a6aa81145e00]\n",
       "class E4--><a href=\"psysml:58ca86c4-6609-462b-9948-87aadb08d281\" target=\"_top\" title=\"psysml:58ca86c4-6609-462b-9948-87aadb08d281\" xlink:actuate=\"onRequest\" xlink:href=\"psysml:58ca86c4-6609-462b-9948-87aadb08d281\" xlink:show=\"new\" xlink:title=\"psysml:58ca86c4-6609-462b-9948-87aadb08d281\" xlink:type=\"simple\"><g id=\"elem_E4\"><rect fill=\"#FFFFFF\" height=\"48.2656\" id=\"E4\" rx=\"10\" ry=\"10\" style=\"stroke:#181818;stroke-width:0.5;\" width=\"42\" x=\"724\" y=\"62.5\"/><text fill=\"#000000\" font-family=\"sans-serif\" font-size=\"12\" font-style=\"italic\" lengthAdjust=\"spacing\" textLength=\"40\" x=\"725\" y=\"78.6387\">«part»</text><text fill=\"#000000\" font-family=\"sans-serif\" font-size=\"14\" lengthAdjust=\"spacing\" textLength=\"27\" x=\"727.5\" y=\"94.4639\">a[1]</text><line style=\"stroke:#181818;stroke-width:0.5;\" x1=\"725\" x2=\"765\" y1=\"102.7656\" y2=\"102.7656\"/></g></a><!--MD5=[270fce915f116d4de14055a7c1d9a0f3]\n",
       "class E5--><a href=\"psysml:8959fced-ddce-434c-832c-e17faa00a5de\" target=\"_top\" title=\"psysml:8959fced-ddce-434c-832c-e17faa00a5de\" xlink:actuate=\"onRequest\" xlink:href=\"psysml:8959fced-ddce-434c-832c-e17faa00a5de\" xlink:show=\"new\" xlink:title=\"psysml:8959fced-ddce-434c-832c-e17faa00a5de\" xlink:type=\"simple\"><g id=\"elem_E5\"><rect fill=\"#FFFFFF\" height=\"48.2656\" id=\"E5\" rx=\"10\" ry=\"10\" style=\"stroke:#181818;stroke-width:0.5;\" width=\"77\" x=\"611.5\" y=\"62.5\"/><text fill=\"#000000\" font-family=\"sans-serif\" font-size=\"12\" font-style=\"italic\" lengthAdjust=\"spacing\" textLength=\"40\" x=\"630\" y=\"78.6387\">«part»</text><text fill=\"#000000\" font-family=\"sans-serif\" font-size=\"14\" lengthAdjust=\"spacing\" textLength=\"63\" x=\"614.5\" y=\"94.4639\">b: P[0..2]</text><line style=\"stroke:#181818;stroke-width:0.5;\" x1=\"612.5\" x2=\"687.5\" y1=\"102.7656\" y2=\"102.7656\"/></g></a><!--MD5=[60a26617385b1d2d0262a64233df1f8d]\n",
       "class E6--><a href=\"psysml:4ac8fd09-bbc3-4ec3-ba18-7592ef56bccd\" target=\"_top\" title=\"psysml:4ac8fd09-bbc3-4ec3-ba18-7592ef56bccd\" xlink:actuate=\"onRequest\" xlink:href=\"psysml:4ac8fd09-bbc3-4ec3-ba18-7592ef56bccd\" xlink:show=\"new\" xlink:title=\"psysml:4ac8fd09-bbc3-4ec3-ba18-7592ef56bccd\" xlink:type=\"simple\"><g id=\"elem_E6\"><rect fill=\"#FFFFFF\" height=\"48.2656\" id=\"E6\" rx=\"10\" ry=\"10\" style=\"stroke:#181818;stroke-width:0.5;\" width=\"74\" x=\"502\" y=\"62.5\"/><text fill=\"#000000\" font-family=\"sans-serif\" font-size=\"12\" font-style=\"italic\" lengthAdjust=\"spacing\" textLength=\"40\" x=\"519\" y=\"78.6387\">«part»</text><text fill=\"#000000\" font-family=\"sans-serif\" font-size=\"14\" lengthAdjust=\"spacing\" textLength=\"60\" x=\"505\" y=\"94.4639\">c: P[2..*]</text><line style=\"stroke:#181818;stroke-width:0.5;\" x1=\"503\" x2=\"575\" y1=\"102.7656\" y2=\"102.7656\"/></g></a><!--MD5=[2156ba9850f5573cc1fc38a6a4b2f02b]\n",
       "class E7--><a href=\"psysml:58aa0206-e878-4c1d-8c3a-c879ca6e4b13\" target=\"_top\" title=\"psysml:58aa0206-e878-4c1d-8c3a-c879ca6e4b13\" xlink:actuate=\"onRequest\" xlink:href=\"psysml:58aa0206-e878-4c1d-8c3a-c879ca6e4b13\" xlink:show=\"new\" xlink:title=\"psysml:58aa0206-e878-4c1d-8c3a-c879ca6e4b13\" xlink:type=\"simple\"><g id=\"elem_E7\"><rect fill=\"#FFFFFF\" height=\"48.2656\" id=\"E7\" rx=\"10\" ry=\"10\" style=\"stroke:#181818;stroke-width:0.5;\" width=\"42\" x=\"425\" y=\"62.5\"/><text fill=\"#000000\" font-family=\"sans-serif\" font-size=\"12\" font-style=\"italic\" lengthAdjust=\"spacing\" textLength=\"40\" x=\"426\" y=\"78.6387\">«part»</text><text fill=\"#000000\" font-family=\"sans-serif\" font-size=\"14\" lengthAdjust=\"spacing\" textLength=\"26\" x=\"429\" y=\"94.4639\">d[*]</text><line style=\"stroke:#181818;stroke-width:0.5;\" x1=\"426\" x2=\"466\" y1=\"102.7656\" y2=\"102.7656\"/></g></a><!--MD5=[b9389687b975829384b498ac4b7476b2]\n",
       "class E8--><a href=\"psysml:21978b5e-874b-4020-b12b-41f872f49c78\" target=\"_top\" title=\"psysml:21978b5e-874b-4020-b12b-41f872f49c78\" xlink:actuate=\"onRequest\" xlink:href=\"psysml:21978b5e-874b-4020-b12b-41f872f49c78\" xlink:show=\"new\" xlink:title=\"psysml:21978b5e-874b-4020-b12b-41f872f49c78\" xlink:type=\"simple\"><g id=\"elem_E8\"><rect fill=\"#FFFFFF\" height=\"48.2656\" id=\"E8\" rx=\"10\" ry=\"10\" style=\"stroke:#181818;stroke-width:0.5;\" width=\"42\" x=\"348\" y=\"62.5\"/><text fill=\"#000000\" font-family=\"sans-serif\" font-size=\"12\" font-style=\"italic\" lengthAdjust=\"spacing\" textLength=\"40\" x=\"349\" y=\"78.6387\">«part»</text><text fill=\"#000000\" font-family=\"sans-serif\" font-size=\"14\" lengthAdjust=\"spacing\" textLength=\"28\" x=\"351\" y=\"94.4639\">e[n]</text><line style=\"stroke:#181818;stroke-width:0.5;\" x1=\"349\" x2=\"389\" y1=\"102.7656\" y2=\"102.7656\"/></g></a><!--MD5=[fd4143e9d270a159db93a4ea2a975926]\n",
       "class E9--><a href=\"psysml:79f00190-11a9-479d-9f29-e880a27768bf\" target=\"_top\" title=\"psysml:79f00190-11a9-479d-9f29-e880a27768bf\" xlink:actuate=\"onRequest\" xlink:href=\"psysml:79f00190-11a9-479d-9f29-e880a27768bf\" xlink:show=\"new\" xlink:title=\"psysml:79f00190-11a9-479d-9f29-e880a27768bf\" xlink:type=\"simple\"><g id=\"elem_E9\"><rect fill=\"#FFFFFF\" height=\"48.2656\" id=\"E9\" rx=\"10\" ry=\"10\" style=\"stroke:#181818;stroke-width:0.5;\" width=\"52\" x=\"261\" y=\"62.5\"/><text fill=\"#000000\" font-family=\"sans-serif\" font-size=\"12\" font-style=\"italic\" lengthAdjust=\"spacing\" textLength=\"40\" x=\"267\" y=\"78.6387\">«part»</text><text fill=\"#000000\" font-family=\"sans-serif\" font-size=\"14\" lengthAdjust=\"spacing\" textLength=\"38\" x=\"264\" y=\"94.4639\">f[n..*]</text><line style=\"stroke:#181818;stroke-width:0.5;\" x1=\"262\" x2=\"312\" y1=\"102.7656\" y2=\"102.7656\"/></g></a><!--MD5=[96f4274e9e20536e775497830990834d]\n",
       "class E10--><a href=\"psysml:3e79cc57-1ff4-4d61-ad54-8c0f8362d5da\" target=\"_top\" title=\"psysml:3e79cc57-1ff4-4d61-ad54-8c0f8362d5da\" xlink:actuate=\"onRequest\" xlink:href=\"psysml:3e79cc57-1ff4-4d61-ad54-8c0f8362d5da\" xlink:show=\"new\" xlink:title=\"psysml:3e79cc57-1ff4-4d61-ad54-8c0f8362d5da\" xlink:type=\"simple\"><g id=\"elem_E10\"><rect fill=\"#FFFFFF\" height=\"48.2656\" id=\"E10\" rx=\"10\" ry=\"10\" style=\"stroke:#181818;stroke-width:0.5;\" width=\"59\" x=\"166.5\" y=\"62.5\"/><text fill=\"#000000\" font-family=\"sans-serif\" font-size=\"12\" font-style=\"italic\" lengthAdjust=\"spacing\" textLength=\"40\" x=\"176\" y=\"78.6387\">«part»</text><text fill=\"#000000\" font-family=\"sans-serif\" font-size=\"14\" lengthAdjust=\"spacing\" textLength=\"45\" x=\"169.5\" y=\"94.4639\">g[1..n]</text><line style=\"stroke:#181818;stroke-width:0.5;\" x1=\"167.5\" x2=\"224.5\" y1=\"102.7656\" y2=\"102.7656\"/></g></a><!--MD5=[1dd1bfd58a279cf63c5f349dbc8fc6a1]\n",
       "class E11--><a href=\"psysml:cae84388-2b2f-4b61-9caf-e3201f6c4bb4\" target=\"_top\" title=\"psysml:cae84388-2b2f-4b61-9caf-e3201f6c4bb4\" xlink:actuate=\"onRequest\" xlink:href=\"psysml:cae84388-2b2f-4b61-9caf-e3201f6c4bb4\" xlink:show=\"new\" xlink:title=\"psysml:cae84388-2b2f-4b61-9caf-e3201f6c4bb4\" xlink:type=\"simple\"><g id=\"elem_E11\"><rect fill=\"#FFFFFF\" height=\"91.3781\" id=\"E11\" style=\"stroke:#181818;stroke-width:0.5;\" width=\"99\" x=\"32.5\" y=\"41\"/><text fill=\"#000000\" font-family=\"sans-serif\" font-size=\"12\" font-style=\"italic\" lengthAdjust=\"spacing\" textLength=\"97\" x=\"33.5\" y=\"57.1387\">«attribute  def»</text><text fill=\"#000000\" font-family=\"sans-serif\" font-size=\"14\" lengthAdjust=\"spacing\" textLength=\"9\" x=\"77.5\" y=\"72.9639\">A</text><line style=\"stroke:#181818;stroke-width:0.5;\" x1=\"33.5\" x2=\"130.5\" y1=\"81.2656\" y2=\"81.2656\"/><text fill=\"#000000\" font-family=\"sans-serif\" font-size=\"14\" lengthAdjust=\"spacing\" textLength=\"61\" x=\"38.5\" y=\"108.7795\">i: Integer</text><text fill=\"#000000\" font-family=\"sans-serif\" font-size=\"14\" lengthAdjust=\"spacing\" textLength=\"25\" x=\"38.5\" y=\"125.0764\">x: A</text><text fill=\"#000000\" font-family=\"sans-serif\" font-size=\"14\" font-style=\"italic\" lengthAdjust=\"spacing\" textLength=\"66\" x=\"49\" y=\"93.6123\">attributes</text></g></a><!--MD5=[15ebcb19ae302d9b601edb458606d402]\n",
       "link E5 to E2--><g id=\"link_E5_E2\"><a href=\"psysml:356b088d-f058-4498-8151-02a64d9c5f99\" target=\"_top\" title=\"psysml:356b088d-f058-4498-8151-02a64d9c5f99\" xlink:actuate=\"onRequest\" xlink:href=\"psysml:356b088d-f058-4498-8151-02a64d9c5f99\" xlink:show=\"new\" xlink:title=\"psysml:356b088d-f058-4498-8151-02a64d9c5f99\" xlink:type=\"simple\"><path d=\"M639.86,110.59 C632.22,127.99 621.53,152.33 612.39,173.13 \" fill=\"none\" id=\"E5-to-E2\" style=\"stroke:#181818;stroke-width:1.0;\"/><polygon fill=\"#FFFFFF\" points=\"604.25,191.65,605.4806,171.439,618.2989,177.0683,604.25,191.65\" style=\"stroke:#181818;stroke-width:1.0;\"/><ellipse cx=\"609.6037\" cy=\"167.0242\" fill=\"#181818\" rx=\"2\" ry=\"2\" style=\"stroke:#181818;stroke-width:1.0;\"/><ellipse cx=\"618.7597\" cy=\"171.0452\" fill=\"#181818\" rx=\"2\" ry=\"2\" style=\"stroke:#181818;stroke-width:1.0;\"/></a></g><!--MD5=[2351f337d6de0f557b50152ba70847b5]\n",
       "link E6 to E2--><g id=\"link_E6_E2\"><a href=\"psysml:849948e9-2a63-47c9-a787-96ae36e28ef0\" target=\"_top\" title=\"psysml:849948e9-2a63-47c9-a787-96ae36e28ef0\" xlink:actuate=\"onRequest\" xlink:href=\"psysml:849948e9-2a63-47c9-a787-96ae36e28ef0\" xlink:show=\"new\" xlink:title=\"psysml:849948e9-2a63-47c9-a787-96ae36e28ef0\" xlink:type=\"simple\"><path d=\"M548.96,110.59 C556.47,127.99 566.97,152.33 575.94,173.13 \" fill=\"none\" id=\"E6-to-E2\" style=\"stroke:#181818;stroke-width:1.0;\"/><polygon fill=\"#FFFFFF\" points=\"583.93,191.65,569.9702,176.9829,582.8226,171.4318,583.93,191.65\" style=\"stroke:#181818;stroke-width:1.0;\"/><ellipse cx=\"569.5462\" cy=\"170.9571\" fill=\"#181818\" rx=\"2\" ry=\"2\" style=\"stroke:#181818;stroke-width:1.0;\"/><ellipse cx=\"578.7265\" cy=\"166.9921\" fill=\"#181818\" rx=\"2\" ry=\"2\" style=\"stroke:#181818;stroke-width:1.0;\"/></a></g><!--MD5=[24246d3433df8dd155ce5db5ad2a3783]\n",
       "@startuml\r\n",
       "skin sysmlbw\r\n",
       "skinparam monochrome true\r\n",
       "skinparam wrapWidth 300\r\n",
       "hide circle\r\n",
       "\r\n",
       "package \"MultiplicityTest\" as E1  [[psysml:26edc399-ba1b-4e26-98ec-184b2d561983 ]]  {\r\n",
       "comp def \"P\" as E2  <<(T,blue) part  def>> [[psysml:a78c9232-7355-4122-98e1-61ea033b6fbd ]] {\r\n",
       "}\r\n",
       "comp usage \"n: Integer  \" as E3  <<(T,blue) attribute>> [[psysml:6e5bcad0-e721-42f0-8965-8cf810de127c ]] {\r\n",
       "##//values//##\r\n",
       " <U+003D> 5\r\n",
       "}\r\n",
       "comp usage \"a[1]  \" as E4  <<(T,blue) part>> [[psysml:58ca86c4-6609-462b-9948-87aadb08d281 ]] {\r\n",
       "}\r\n",
       "comp usage \"b: P[0..2]  \" as E5  <<(T,blue) part>> [[psysml:8959fced-ddce-434c-832c-e17faa00a5de ]] {\r\n",
       "}\r\n",
       "comp usage \"c: P[2..*]  \" as E6  <<(T,blue) part>> [[psysml:4ac8fd09-bbc3-4ec3-ba18-7592ef56bccd ]] {\r\n",
       "}\r\n",
       "comp usage \"d[*]  \" as E7  <<(T,blue) part>> [[psysml:58aa0206-e878-4c1d-8c3a-c879ca6e4b13 ]] {\r\n",
       "}\r\n",
       "comp usage \"e[n]  \" as E8  <<(T,blue) part>> [[psysml:21978b5e-874b-4020-b12b-41f872f49c78 ]] {\r\n",
       "}\r\n",
       "comp usage \"f[n..*]  \" as E9  <<(T,blue) part>> [[psysml:79f00190-11a9-479d-9f29-e880a27768bf ]] {\r\n",
       "}\r\n",
       "comp usage \"g[1..n]  \" as E10  <<(T,blue) part>> [[psysml:3e79cc57-1ff4-4d61-ad54-8c0f8362d5da ]] {\r\n",
       "}\r\n",
       "comp def \"A\" as E11  <<(T,blue) attribute  def>> [[psysml:cae84388-2b2f-4b61-9caf-e3201f6c4bb4 ]] {\r\n",
       "##//attributes//##\r\n",
       "i: Integer\r\n",
       "x: A\r\n",
       "}\r\n",
       "}\r\n",
       "E5 - -:|> E2 [[psysml:356b088d-f058-4498-8151-02a64d9c5f99 ]] \r\n",
       "E6 - -:|> E2 [[psysml:849948e9-2a63-47c9-a787-96ae36e28ef0 ]] \r\n",
       "@enduml\r\n",
       "\n",
       "PlantUML version 1.2022.7(Mon Aug 22 17:01:30 UTC 2022)\n",
       "(EPL source distribution)\n",
       "Java Runtime: OpenJDK Runtime Environment\n",
       "JVM: OpenJDK 64-Bit Server VM\n",
       "Default Encoding: UTF-8\n",
       "Language: en\n",
       "Country: null\n",
       "--></g></svg>"
      ]
     },
     "execution_count": 38,
     "metadata": {},
     "output_type": "execute_result"
    }
   ],
   "source": [
    "%viz --style=\"DEFAULT\" --view=\"Tree\" \"MultiplicityTest\""
   ]
  },
  {
   "cell_type": "code",
   "execution_count": 39,
   "id": "8fb70ac2",
   "metadata": {
    "execution": {
     "iopub.execute_input": "2024-12-16T03:27:07.126372Z",
     "iopub.status.busy": "2024-12-16T03:27:07.126154Z",
     "iopub.status.idle": "2024-12-16T03:27:07.131754Z",
     "shell.execute_reply": "2024-12-16T03:27:07.131893Z"
    }
   },
   "outputs": [
    {
     "data": {
      "image/svg+xml": [
       "<?xml version=\"1.0\" encoding=\"UTF-8\" standalone=\"no\"?><svg xmlns=\"http://www.w3.org/2000/svg\" xmlns:xlink=\"http://www.w3.org/1999/xlink\" contentStyleType=\"text/css\" height=\"10px\" preserveAspectRatio=\"none\" style=\"width:10px;height:10px;background:#FFFFFF;\" version=\"1.1\" viewBox=\"0 0 10 10\" width=\"10px\" zoomAndPan=\"magnify\"><defs/><g><!--MD5=[ac12e6954f3af68464267ee74ddf8a9f]\n",
       "@startuml\r\n",
       "skin sysmlbw\r\n",
       "skinparam monochrome true\r\n",
       "skinparam wrapWidth 300\r\n",
       "hide circle\r\n",
       "\r\n",
       "@enduml\r\n",
       "\n",
       "PlantUML version 1.2022.7(Mon Aug 22 17:01:30 UTC 2022)\n",
       "(EPL source distribution)\n",
       "Java Runtime: OpenJDK Runtime Environment\n",
       "JVM: OpenJDK 64-Bit Server VM\n",
       "Default Encoding: UTF-8\n",
       "Language: en\n",
       "Country: null\n",
       "--></g></svg>"
      ]
     },
     "execution_count": 39,
     "metadata": {},
     "output_type": "execute_result"
    }
   ],
   "source": [
    "%viz --style=\"DEFAULT\" --view=\"State\" \"MultiplicityTest\""
   ]
  },
  {
   "cell_type": "code",
   "execution_count": 40,
   "id": "72007e12",
   "metadata": {
    "execution": {
     "iopub.execute_input": "2024-12-16T03:27:07.184830Z",
     "iopub.status.busy": "2024-12-16T03:27:07.184623Z",
     "iopub.status.idle": "2024-12-16T03:27:07.203965Z",
     "shell.execute_reply": "2024-12-16T03:27:07.203095Z"
    }
   },
   "outputs": [
    {
     "data": {
      "image/svg+xml": [
       "<?xml version=\"1.0\" encoding=\"UTF-8\" standalone=\"no\"?><svg xmlns=\"http://www.w3.org/2000/svg\" xmlns:xlink=\"http://www.w3.org/1999/xlink\" contentStyleType=\"text/css\" height=\"194px\" preserveAspectRatio=\"none\" style=\"width:881px;height:194px;background:#FFFFFF;\" version=\"1.1\" viewBox=\"0 0 881 194\" width=\"881px\" zoomAndPan=\"magnify\"><defs/><g><!--MD5=[fbc87193dbaf4d95561dea2c320d4a47]\n",
       "cluster E1--><g id=\"cluster_E1\"><a href=\"psysml:26edc399-ba1b-4e26-98ec-184b2d561983\" target=\"_top\" title=\"psysml:26edc399-ba1b-4e26-98ec-184b2d561983\" xlink:actuate=\"onRequest\" xlink:href=\"psysml:26edc399-ba1b-4e26-98ec-184b2d561983\" xlink:show=\"new\" xlink:title=\"psysml:26edc399-ba1b-4e26-98ec-184b2d561983\" xlink:type=\"simple\"><polygon fill=\"none\" points=\"16,6,130,6,137,28.2969,864,28.2969,864,187,16,187,16,6\" style=\"stroke:#000000;stroke-width:1.5;\"/><line style=\"stroke:#000000;stroke-width:1.5;\" x1=\"16\" x2=\"137\" y1=\"28.2969\" y2=\"28.2969\"/><text fill=\"#000000\" font-family=\"sans-serif\" font-size=\"14\" font-weight=\"bold\" lengthAdjust=\"spacing\" textLength=\"108\" x=\"20\" y=\"20.9951\">MultiplicityTest</text></a></g><!--MD5=[09b614a08d8cba4a07c9adeb5e0fee81]\n",
       "class E3--><a href=\"psysml:6e5bcad0-e721-42f0-8965-8cf810de127c\" target=\"_top\" title=\"psysml:6e5bcad0-e721-42f0-8965-8cf810de127c\" xlink:actuate=\"onRequest\" xlink:href=\"psysml:6e5bcad0-e721-42f0-8965-8cf810de127c\" xlink:show=\"new\" xlink:title=\"psysml:6e5bcad0-e721-42f0-8965-8cf810de127c\" xlink:type=\"simple\"><g id=\"elem_E3\"><rect fill=\"#FFFFFF\" height=\"75.0813\" id=\"E3\" rx=\"10\" ry=\"10\" style=\"stroke:#181818;stroke-width:0.5;\" width=\"81\" x=\"766.5\" y=\"41\"/><text fill=\"#000000\" font-family=\"sans-serif\" font-size=\"12\" font-style=\"italic\" lengthAdjust=\"spacing\" textLength=\"69\" x=\"772.5\" y=\"57.1387\">«attribute»</text><text fill=\"#000000\" font-family=\"sans-serif\" font-size=\"14\" lengthAdjust=\"spacing\" textLength=\"67\" x=\"769.5\" y=\"72.9639\">n: Integer</text><line style=\"stroke:#181818;stroke-width:0.5;\" x1=\"767.5\" x2=\"846.5\" y1=\"81.2656\" y2=\"81.2656\"/><text fill=\"#000000\" font-family=\"sans-serif\" font-size=\"14\" lengthAdjust=\"spacing\" textLength=\"25\" x=\"772.5\" y=\"108.7795\">= 5</text><text fill=\"#000000\" font-family=\"sans-serif\" font-size=\"14\" font-style=\"italic\" lengthAdjust=\"spacing\" textLength=\"44\" x=\"785\" y=\"93.6123\">values</text></g></a><g><a href=\"psysml:cae84388-2b2f-4b61-9caf-e3201f6c4bb4\" target=\"_top\" title=\"psysml:cae84388-2b2f-4b61-9caf-e3201f6c4bb4\" xlink:actuate=\"onRequest\" xlink:href=\"psysml:cae84388-2b2f-4b61-9caf-e3201f6c4bb4\" xlink:show=\"new\" xlink:title=\"psysml:cae84388-2b2f-4b61-9caf-e3201f6c4bb4\" xlink:type=\"simple\"><rect fill=\"#FFFFFF\" height=\"45.2656\" id=\"E11\" style=\"stroke:#383838;stroke-width:1.5;\" width=\"104\" x=\"627\" y=\"56\"/><text fill=\"#000000\" font-family=\"sans-serif\" font-size=\"12\" font-style=\"italic\" lengthAdjust=\"spacing\" textLength=\"97\" x=\"630.5\" y=\"72.1387\">«attribute  def»</text><text fill=\"#000000\" font-family=\"sans-serif\" font-size=\"14\" lengthAdjust=\"spacing\" textLength=\"9\" x=\"674.5\" y=\"87.9639\">A</text></a></g><g><a href=\"psysml:a78c9232-7355-4122-98e1-61ea033b6fbd\" target=\"_top\" title=\"psysml:a78c9232-7355-4122-98e1-61ea033b6fbd\" xlink:actuate=\"onRequest\" xlink:href=\"psysml:a78c9232-7355-4122-98e1-61ea033b6fbd\" xlink:show=\"new\" xlink:title=\"psysml:a78c9232-7355-4122-98e1-61ea033b6fbd\" xlink:type=\"simple\"><rect fill=\"#FFFFFF\" height=\"45.2656\" id=\"E2\" style=\"stroke:#383838;stroke-width:1.5;\" width=\"75\" x=\"401.5\" y=\"126\"/><text fill=\"#000000\" font-family=\"sans-serif\" font-size=\"12\" font-style=\"italic\" lengthAdjust=\"spacing\" textLength=\"68\" x=\"405\" y=\"142.1387\">«part  def»</text><text fill=\"#000000\" font-family=\"sans-serif\" font-size=\"14\" lengthAdjust=\"spacing\" textLength=\"9\" x=\"434.5\" y=\"157.9639\">P</text></a></g><g><a href=\"psysml:58ca86c4-6609-462b-9948-87aadb08d281\" target=\"_top\" title=\"psysml:58ca86c4-6609-462b-9948-87aadb08d281\" xlink:actuate=\"onRequest\" xlink:href=\"psysml:58ca86c4-6609-462b-9948-87aadb08d281\" xlink:show=\"new\" xlink:title=\"psysml:58ca86c4-6609-462b-9948-87aadb08d281\" xlink:type=\"simple\"><rect fill=\"#FFFFFF\" height=\"40\" id=\"E4\" rx=\"10\" ry=\"10\" style=\"stroke:#383838;stroke-width:1.5;\" width=\"50\" x=\"542\" y=\"58.5\"/><text fill=\"#000000\" font-family=\"sans-serif\" font-size=\"14\" lengthAdjust=\"spacing\" textLength=\"8\" x=\"563\" y=\"76.4951\">a</text></a></g><g><a href=\"psysml:8959fced-ddce-434c-832c-e17faa00a5de\" target=\"_top\" title=\"psysml:8959fced-ddce-434c-832c-e17faa00a5de\" xlink:actuate=\"onRequest\" xlink:href=\"psysml:8959fced-ddce-434c-832c-e17faa00a5de\" xlink:show=\"new\" xlink:title=\"psysml:8959fced-ddce-434c-832c-e17faa00a5de\" xlink:type=\"simple\"><rect fill=\"#FFFFFF\" height=\"40\" id=\"E5\" rx=\"10\" ry=\"10\" style=\"stroke:#383838;stroke-width:1.5;\" width=\"50\" x=\"457\" y=\"58.5\"/><text fill=\"#000000\" font-family=\"sans-serif\" font-size=\"14\" lengthAdjust=\"spacing\" textLength=\"27\" x=\"468.5\" y=\"76.4951\">b: P</text></a></g><g><a href=\"psysml:4ac8fd09-bbc3-4ec3-ba18-7592ef56bccd\" target=\"_top\" title=\"psysml:4ac8fd09-bbc3-4ec3-ba18-7592ef56bccd\" xlink:actuate=\"onRequest\" xlink:href=\"psysml:4ac8fd09-bbc3-4ec3-ba18-7592ef56bccd\" xlink:show=\"new\" xlink:title=\"psysml:4ac8fd09-bbc3-4ec3-ba18-7592ef56bccd\" xlink:type=\"simple\"><rect fill=\"#FFFFFF\" height=\"40\" id=\"E6\" rx=\"10\" ry=\"10\" style=\"stroke:#383838;stroke-width:1.5;\" width=\"50\" x=\"372\" y=\"58.5\"/><text fill=\"#000000\" font-family=\"sans-serif\" font-size=\"14\" lengthAdjust=\"spacing\" textLength=\"26\" x=\"384\" y=\"76.4951\">c: P</text></a></g><g><a href=\"psysml:58aa0206-e878-4c1d-8c3a-c879ca6e4b13\" target=\"_top\" title=\"psysml:58aa0206-e878-4c1d-8c3a-c879ca6e4b13\" xlink:actuate=\"onRequest\" xlink:href=\"psysml:58aa0206-e878-4c1d-8c3a-c879ca6e4b13\" xlink:show=\"new\" xlink:title=\"psysml:58aa0206-e878-4c1d-8c3a-c879ca6e4b13\" xlink:type=\"simple\"><rect fill=\"#FFFFFF\" height=\"40\" id=\"E7\" rx=\"10\" ry=\"10\" style=\"stroke:#383838;stroke-width:1.5;\" width=\"50\" x=\"287\" y=\"58.5\"/><text fill=\"#000000\" font-family=\"sans-serif\" font-size=\"14\" lengthAdjust=\"spacing\" textLength=\"9\" x=\"307.5\" y=\"76.4951\">d</text></a></g><g><a href=\"psysml:21978b5e-874b-4020-b12b-41f872f49c78\" target=\"_top\" title=\"psysml:21978b5e-874b-4020-b12b-41f872f49c78\" xlink:actuate=\"onRequest\" xlink:href=\"psysml:21978b5e-874b-4020-b12b-41f872f49c78\" xlink:show=\"new\" xlink:title=\"psysml:21978b5e-874b-4020-b12b-41f872f49c78\" xlink:type=\"simple\"><rect fill=\"#FFFFFF\" height=\"40\" id=\"E8\" rx=\"10\" ry=\"10\" style=\"stroke:#383838;stroke-width:1.5;\" width=\"50\" x=\"202\" y=\"58.5\"/><text fill=\"#000000\" font-family=\"sans-serif\" font-size=\"14\" lengthAdjust=\"spacing\" textLength=\"9\" x=\"222.5\" y=\"76.4951\">e</text></a></g><g><a href=\"psysml:79f00190-11a9-479d-9f29-e880a27768bf\" target=\"_top\" title=\"psysml:79f00190-11a9-479d-9f29-e880a27768bf\" xlink:actuate=\"onRequest\" xlink:href=\"psysml:79f00190-11a9-479d-9f29-e880a27768bf\" xlink:show=\"new\" xlink:title=\"psysml:79f00190-11a9-479d-9f29-e880a27768bf\" xlink:type=\"simple\"><rect fill=\"#FFFFFF\" height=\"40\" id=\"E9\" rx=\"10\" ry=\"10\" style=\"stroke:#383838;stroke-width:1.5;\" width=\"50\" x=\"117\" y=\"58.5\"/><text fill=\"#000000\" font-family=\"sans-serif\" font-size=\"14\" lengthAdjust=\"spacing\" textLength=\"4\" x=\"140\" y=\"76.4951\">f</text></a></g><g><a href=\"psysml:3e79cc57-1ff4-4d61-ad54-8c0f8362d5da\" target=\"_top\" title=\"psysml:3e79cc57-1ff4-4d61-ad54-8c0f8362d5da\" xlink:actuate=\"onRequest\" xlink:href=\"psysml:3e79cc57-1ff4-4d61-ad54-8c0f8362d5da\" xlink:show=\"new\" xlink:title=\"psysml:3e79cc57-1ff4-4d61-ad54-8c0f8362d5da\" xlink:type=\"simple\"><rect fill=\"#FFFFFF\" height=\"40\" id=\"E10\" rx=\"10\" ry=\"10\" style=\"stroke:#383838;stroke-width:1.5;\" width=\"50\" x=\"32\" y=\"58.5\"/><text fill=\"#000000\" font-family=\"sans-serif\" font-size=\"14\" lengthAdjust=\"spacing\" textLength=\"9\" x=\"52.5\" y=\"76.4951\">g</text></a></g><!--MD5=[15ebcb19ae302d9b601edb458606d402]\n",
       "link E5 to E2--><g id=\"link_E5_E2\"><a href=\"psysml:356b088d-f058-4498-8151-02a64d9c5f99\" target=\"_top\" title=\"psysml:356b088d-f058-4498-8151-02a64d9c5f99\" xlink:actuate=\"onRequest\" xlink:href=\"psysml:356b088d-f058-4498-8151-02a64d9c5f99\" xlink:show=\"new\" xlink:title=\"psysml:356b088d-f058-4498-8151-02a64d9c5f99\" xlink:type=\"simple\"><path d=\"M469.79,98.8 C467.78,101.98 465.64,105.38 463.45,108.84 \" fill=\"none\" id=\"E5-to-E2\" style=\"stroke:#181818;stroke-width:1.0;\"/><polygon fill=\"#FFFFFF\" points=\"452.6,126,456.8375,106.1999,468.6706,113.6818,452.6,126\" style=\"stroke:#181818;stroke-width:1.0;\"/><ellipse cx=\"461.5742\" cy=\"102.451\" fill=\"#181818\" rx=\"2\" ry=\"2\" style=\"stroke:#181818;stroke-width:1.0;\"/><ellipse cx=\"470.0263\" cy=\"107.7953\" fill=\"#181818\" rx=\"2\" ry=\"2\" style=\"stroke:#181818;stroke-width:1.0;\"/></a></g><!--MD5=[2351f337d6de0f557b50152ba70847b5]\n",
       "link E6 to E2--><g id=\"link_E6_E2\"><a href=\"psysml:849948e9-2a63-47c9-a787-96ae36e28ef0\" target=\"_top\" title=\"psysml:849948e9-2a63-47c9-a787-96ae36e28ef0\" xlink:actuate=\"onRequest\" xlink:href=\"psysml:849948e9-2a63-47c9-a787-96ae36e28ef0\" xlink:show=\"new\" xlink:title=\"psysml:849948e9-2a63-47c9-a787-96ae36e28ef0\" xlink:type=\"simple\"><path d=\"M408.92,98.8 C410.89,101.98 412.98,105.38 415.12,108.84 \" fill=\"none\" id=\"E6-to-E2\" style=\"stroke:#181818;stroke-width:1.0;\"/><polygon fill=\"#FFFFFF\" points=\"425.72,126,409.7771,113.517,421.6866,106.1573,425.72,126\" style=\"stroke:#181818;stroke-width:1.0;\"/><ellipse cx=\"408.4821\" cy=\"107.6168\" fill=\"#181818\" rx=\"2\" ry=\"2\" style=\"stroke:#181818;stroke-width:1.0;\"/><ellipse cx=\"416.9888\" cy=\"102.3599\" fill=\"#181818\" rx=\"2\" ry=\"2\" style=\"stroke:#181818;stroke-width:1.0;\"/></a></g><!--MD5=[3e1ebddba8482284e9ae3daa0bbc8ee7]\n",
       "@startuml\r\n",
       "skin sysmlbw\r\n",
       "skinparam monochrome true\r\n",
       "skinparam wrapWidth 300\r\n",
       "hide circle\r\n",
       "skinparam ranksep 10\r\n",
       "skinparam rectangle {\r\n",
       " backgroundColor<<block>> LightGreen\r\n",
       "}\r\n",
       "\r\n",
       "package \"MultiplicityTest\" as E1  [[psysml:26edc399-ba1b-4e26-98ec-184b2d561983 ]]  {\r\n",
       "rec def \"P\" as E2  <<(T,blue) part  def>> [[psysml:a78c9232-7355-4122-98e1-61ea033b6fbd ]] {\r\n",
       "}\r\n",
       "comp usage \"n: Integer  \" as E3  <<(T,blue) attribute>> [[psysml:6e5bcad0-e721-42f0-8965-8cf810de127c ]] {\r\n",
       "##//values//##\r\n",
       " <U+003D> 5\r\n",
       "}\r\n",
       "rec usage \"a\" as E4 [[psysml:58ca86c4-6609-462b-9948-87aadb08d281 ]] {\r\n",
       "}\r\n",
       "rec usage \"b: P\" as E5 [[psysml:8959fced-ddce-434c-832c-e17faa00a5de ]] {\r\n",
       "}\r\n",
       "rec usage \"c: P\" as E6 [[psysml:4ac8fd09-bbc3-4ec3-ba18-7592ef56bccd ]] {\r\n",
       "}\r\n",
       "rec usage \"d\" as E7 [[psysml:58aa0206-e878-4c1d-8c3a-c879ca6e4b13 ]] {\r\n",
       "}\r\n",
       "rec usage \"e\" as E8 [[psysml:21978b5e-874b-4020-b12b-41f872f49c78 ]] {\r\n",
       "}\r\n",
       "rec usage \"f\" as E9 [[psysml:79f00190-11a9-479d-9f29-e880a27768bf ]] {\r\n",
       "}\r\n",
       "rec usage \"g\" as E10 [[psysml:3e79cc57-1ff4-4d61-ad54-8c0f8362d5da ]] {\r\n",
       "}\r\n",
       "def \"A\" as E11  <<(T,blue) attribute  def>> [[psysml:cae84388-2b2f-4b61-9caf-e3201f6c4bb4 ]] \r\n",
       "}\r\n",
       "E5 - -:|> E2 [[psysml:356b088d-f058-4498-8151-02a64d9c5f99 ]] \r\n",
       "E6 - -:|> E2 [[psysml:849948e9-2a63-47c9-a787-96ae36e28ef0 ]] \r\n",
       "@enduml\r\n",
       "\n",
       "PlantUML version 1.2022.7(Mon Aug 22 17:01:30 UTC 2022)\n",
       "(EPL source distribution)\n",
       "Java Runtime: OpenJDK Runtime Environment\n",
       "JVM: OpenJDK 64-Bit Server VM\n",
       "Default Encoding: UTF-8\n",
       "Language: en\n",
       "Country: null\n",
       "--></g></svg>"
      ]
     },
     "execution_count": 40,
     "metadata": {},
     "output_type": "execute_result"
    }
   ],
   "source": [
    "%viz --style=\"DEFAULT\" --view=\"Interconnection\" \"MultiplicityTest\""
   ]
  },
  {
   "cell_type": "code",
   "execution_count": 41,
   "id": "bc9a3727",
   "metadata": {
    "execution": {
     "iopub.execute_input": "2024-12-16T03:27:07.259263Z",
     "iopub.status.busy": "2024-12-16T03:27:07.259047Z",
     "iopub.status.idle": "2024-12-16T03:27:07.264459Z",
     "shell.execute_reply": "2024-12-16T03:27:07.264292Z"
    }
   },
   "outputs": [
    {
     "data": {
      "image/svg+xml": [
       "<?xml version=\"1.0\" encoding=\"UTF-8\" standalone=\"no\"?><svg xmlns=\"http://www.w3.org/2000/svg\" xmlns:xlink=\"http://www.w3.org/1999/xlink\" contentStyleType=\"text/css\" height=\"10px\" preserveAspectRatio=\"none\" style=\"width:10px;height:10px;background:#FFFFFF;\" version=\"1.1\" viewBox=\"0 0 10 10\" width=\"10px\" zoomAndPan=\"magnify\"><defs/><g><!--MD5=[3d9597b1575ffc4802b0d6ba40297a8d]\n",
       "@startuml\r\n",
       "skin sysmlbw\r\n",
       "skinparam monochrome true\r\n",
       "skinparam wrapWidth 300\r\n",
       "hide circle\r\n",
       "skinparam ranksep 8\r\n",
       "\r\n",
       "@enduml\r\n",
       "\n",
       "PlantUML version 1.2022.7(Mon Aug 22 17:01:30 UTC 2022)\n",
       "(EPL source distribution)\n",
       "Java Runtime: OpenJDK Runtime Environment\n",
       "JVM: OpenJDK 64-Bit Server VM\n",
       "Default Encoding: UTF-8\n",
       "Language: en\n",
       "Country: null\n",
       "--></g></svg>"
      ]
     },
     "execution_count": 41,
     "metadata": {},
     "output_type": "execute_result"
    }
   ],
   "source": [
    "%viz --style=\"DEFAULT\" --view=\"Action\" \"MultiplicityTest\""
   ]
  },
  {
   "cell_type": "code",
   "execution_count": 42,
   "id": "702a8e58",
   "metadata": {
    "execution": {
     "iopub.execute_input": "2024-12-16T03:27:07.315721Z",
     "iopub.status.busy": "2024-12-16T03:27:07.315454Z",
     "iopub.status.idle": "2024-12-16T03:27:07.322131Z",
     "shell.execute_reply": "2024-12-16T03:27:07.321939Z"
    }
   },
   "outputs": [
    {
     "data": {
      "image/svg+xml": [
       "<?xml version=\"1.0\" encoding=\"UTF-8\" standalone=\"no\"?><svg xmlns=\"http://www.w3.org/2000/svg\" xmlns:xlink=\"http://www.w3.org/1999/xlink\" contentStyleType=\"text/css\" height=\"10px\" preserveAspectRatio=\"none\" style=\"width:10px;height:10px;background:#FFFFFF;\" version=\"1.1\" viewBox=\"0 0 10 10\" width=\"10px\" zoomAndPan=\"magnify\"><defs/><g><!--MD5=[075159388321915a295a256e9638f934]\n",
       "@startuml\r\n",
       "skin sysmlbw\r\n",
       "skinparam monochrome true\r\n",
       "skinparam wrapWidth 300\r\n",
       "hide circle\r\n",
       "skinparam roundcorner 20\r\n",
       "skinparam BoxPadding 20\r\n",
       "skinparam SequenceBoxBackgroundColor #white\r\n",
       "skinparam style strictuml\r\n",
       "skinparam maxMessageSize 100\r\n",
       "\r\n",
       "@enduml\r\n",
       "\n",
       "PlantUML version 1.2022.7(Mon Aug 22 17:01:30 UTC 2022)\n",
       "(EPL source distribution)\n",
       "Java Runtime: OpenJDK Runtime Environment\n",
       "JVM: OpenJDK 64-Bit Server VM\n",
       "Default Encoding: UTF-8\n",
       "Language: en\n",
       "Country: null\n",
       "--></g></svg>"
      ]
     },
     "execution_count": 42,
     "metadata": {},
     "output_type": "execute_result"
    }
   ],
   "source": [
    "%viz --style=\"DEFAULT\" --view=\"Sequence\" \"MultiplicityTest\""
   ]
  },
  {
   "cell_type": "code",
   "execution_count": 43,
   "id": "94747fba",
   "metadata": {
    "execution": {
     "iopub.execute_input": "2024-12-16T03:27:07.374491Z",
     "iopub.status.busy": "2024-12-16T03:27:07.374302Z",
     "iopub.status.idle": "2024-12-16T03:27:07.396526Z",
     "shell.execute_reply": "2024-12-16T03:27:07.395758Z"
    }
   },
   "outputs": [
    {
     "data": {
      "image/svg+xml": [
       "<?xml version=\"1.0\" encoding=\"UTF-8\" standalone=\"no\"?><svg xmlns=\"http://www.w3.org/2000/svg\" xmlns:xlink=\"http://www.w3.org/1999/xlink\" contentStyleType=\"text/css\" height=\"263px\" preserveAspectRatio=\"none\" style=\"width:821px;height:263px;background:#FFFFFF;\" version=\"1.1\" viewBox=\"0 0 821 263\" width=\"821px\" zoomAndPan=\"magnify\"><defs/><g><!--MD5=[fbc87193dbaf4d95561dea2c320d4a47]\n",
       "cluster E1--><g id=\"cluster_E1\"><a href=\"psysml:26edc399-ba1b-4e26-98ec-184b2d561983\" target=\"_top\" title=\"psysml:26edc399-ba1b-4e26-98ec-184b2d561983\" xlink:actuate=\"onRequest\" xlink:href=\"psysml:26edc399-ba1b-4e26-98ec-184b2d561983\" xlink:show=\"new\" xlink:title=\"psysml:26edc399-ba1b-4e26-98ec-184b2d561983\" xlink:type=\"simple\"><polygon fill=\"none\" points=\"16,6,130,6,137,28.2969,804,28.2969,804,256,16,256,16,6\" style=\"stroke:#000000;stroke-width:1.5;\"/><line style=\"stroke:#000000;stroke-width:1.5;\" x1=\"16\" x2=\"137\" y1=\"28.2969\" y2=\"28.2969\"/><text fill=\"#000000\" font-family=\"sans-serif\" font-size=\"14\" font-weight=\"bold\" lengthAdjust=\"spacing\" textLength=\"108\" x=\"20\" y=\"20.9951\">MultiplicityTest</text></a></g><!--MD5=[b4997ac47864f28c2f74865a473b2911]\n",
       "class E2--><a href=\"psysml:a78c9232-7355-4122-98e1-61ea033b6fbd\" target=\"_top\" title=\"psysml:a78c9232-7355-4122-98e1-61ea033b6fbd\" xlink:actuate=\"onRequest\" xlink:href=\"psysml:a78c9232-7355-4122-98e1-61ea033b6fbd\" xlink:show=\"new\" xlink:title=\"psysml:a78c9232-7355-4122-98e1-61ea033b6fbd\" xlink:type=\"simple\"><g id=\"elem_E2\"><rect fill=\"#FFFFFF\" height=\"48.2656\" id=\"E2\" style=\"stroke:#181818;stroke-width:0.5;\" width=\"70\" x=\"499\" y=\"192\"/><text fill=\"#000000\" font-family=\"sans-serif\" font-size=\"12\" font-style=\"italic\" lengthAdjust=\"spacing\" textLength=\"68\" x=\"500\" y=\"208.1387\">«part  def»</text><text fill=\"#000000\" font-family=\"sans-serif\" font-size=\"14\" lengthAdjust=\"spacing\" textLength=\"9\" x=\"529.5\" y=\"223.9639\">P</text><line style=\"stroke:#181818;stroke-width:0.5;\" x1=\"500\" x2=\"568\" y1=\"232.2656\" y2=\"232.2656\"/></g></a><!--MD5=[09b614a08d8cba4a07c9adeb5e0fee81]\n",
       "class E3--><a href=\"psysml:6e5bcad0-e721-42f0-8965-8cf810de127c\" target=\"_top\" title=\"psysml:6e5bcad0-e721-42f0-8965-8cf810de127c\" xlink:actuate=\"onRequest\" xlink:href=\"psysml:6e5bcad0-e721-42f0-8965-8cf810de127c\" xlink:show=\"new\" xlink:title=\"psysml:6e5bcad0-e721-42f0-8965-8cf810de127c\" xlink:type=\"simple\"><g id=\"elem_E3\"><rect fill=\"#FFFFFF\" height=\"75.0813\" id=\"E3\" rx=\"10\" ry=\"10\" style=\"stroke:#181818;stroke-width:0.5;\" width=\"81\" x=\"706.5\" y=\"49\"/><text fill=\"#000000\" font-family=\"sans-serif\" font-size=\"12\" font-style=\"italic\" lengthAdjust=\"spacing\" textLength=\"69\" x=\"712.5\" y=\"65.1387\">«attribute»</text><text fill=\"#000000\" font-family=\"sans-serif\" font-size=\"14\" lengthAdjust=\"spacing\" textLength=\"67\" x=\"709.5\" y=\"80.9639\">n: Integer</text><line style=\"stroke:#181818;stroke-width:0.5;\" x1=\"707.5\" x2=\"786.5\" y1=\"89.2656\" y2=\"89.2656\"/><text fill=\"#000000\" font-family=\"sans-serif\" font-size=\"14\" lengthAdjust=\"spacing\" textLength=\"25\" x=\"712.5\" y=\"116.7795\">= 5</text><text fill=\"#000000\" font-family=\"sans-serif\" font-size=\"14\" font-style=\"italic\" lengthAdjust=\"spacing\" textLength=\"44\" x=\"725\" y=\"101.6123\">values</text></g></a><!--MD5=[ebbe1d658d1005bcc118a6aa81145e00]\n",
       "class E4--><a href=\"psysml:58ca86c4-6609-462b-9948-87aadb08d281\" target=\"_top\" title=\"psysml:58ca86c4-6609-462b-9948-87aadb08d281\" xlink:actuate=\"onRequest\" xlink:href=\"psysml:58ca86c4-6609-462b-9948-87aadb08d281\" xlink:show=\"new\" xlink:title=\"psysml:58ca86c4-6609-462b-9948-87aadb08d281\" xlink:type=\"simple\"><g id=\"elem_E4\"><rect fill=\"#FFFFFF\" height=\"48.2656\" id=\"E4\" rx=\"10\" ry=\"10\" style=\"stroke:#181818;stroke-width:0.5;\" width=\"42\" x=\"629\" y=\"62.5\"/><text fill=\"#000000\" font-family=\"sans-serif\" font-size=\"12\" font-style=\"italic\" lengthAdjust=\"spacing\" textLength=\"40\" x=\"630\" y=\"78.6387\">«part»</text><text fill=\"#000000\" font-family=\"sans-serif\" font-size=\"14\" lengthAdjust=\"spacing\" textLength=\"8\" x=\"642\" y=\"94.4639\">a</text><line style=\"stroke:#181818;stroke-width:0.5;\" x1=\"630\" x2=\"670\" y1=\"102.7656\" y2=\"102.7656\"/></g></a><!--MD5=[270fce915f116d4de14055a7c1d9a0f3]\n",
       "class E5--><a href=\"psysml:8959fced-ddce-434c-832c-e17faa00a5de\" target=\"_top\" title=\"psysml:8959fced-ddce-434c-832c-e17faa00a5de\" xlink:actuate=\"onRequest\" xlink:href=\"psysml:8959fced-ddce-434c-832c-e17faa00a5de\" xlink:show=\"new\" xlink:title=\"psysml:8959fced-ddce-434c-832c-e17faa00a5de\" xlink:type=\"simple\"><g id=\"elem_E5\"><rect fill=\"#FFFFFF\" height=\"48.2656\" id=\"E5\" rx=\"10\" ry=\"10\" style=\"stroke:#181818;stroke-width:0.5;\" width=\"42\" x=\"552\" y=\"62.5\"/><text fill=\"#000000\" font-family=\"sans-serif\" font-size=\"12\" font-style=\"italic\" lengthAdjust=\"spacing\" textLength=\"40\" x=\"553\" y=\"78.6387\">«part»</text><text fill=\"#000000\" font-family=\"sans-serif\" font-size=\"14\" lengthAdjust=\"spacing\" textLength=\"27\" x=\"555.5\" y=\"94.4639\">b: P</text><line style=\"stroke:#181818;stroke-width:0.5;\" x1=\"553\" x2=\"593\" y1=\"102.7656\" y2=\"102.7656\"/></g></a><!--MD5=[60a26617385b1d2d0262a64233df1f8d]\n",
       "class E6--><a href=\"psysml:4ac8fd09-bbc3-4ec3-ba18-7592ef56bccd\" target=\"_top\" title=\"psysml:4ac8fd09-bbc3-4ec3-ba18-7592ef56bccd\" xlink:actuate=\"onRequest\" xlink:href=\"psysml:4ac8fd09-bbc3-4ec3-ba18-7592ef56bccd\" xlink:show=\"new\" xlink:title=\"psysml:4ac8fd09-bbc3-4ec3-ba18-7592ef56bccd\" xlink:type=\"simple\"><g id=\"elem_E6\"><rect fill=\"#FFFFFF\" height=\"48.2656\" id=\"E6\" rx=\"10\" ry=\"10\" style=\"stroke:#181818;stroke-width:0.5;\" width=\"42\" x=\"475\" y=\"62.5\"/><text fill=\"#000000\" font-family=\"sans-serif\" font-size=\"12\" font-style=\"italic\" lengthAdjust=\"spacing\" textLength=\"40\" x=\"476\" y=\"78.6387\">«part»</text><text fill=\"#000000\" font-family=\"sans-serif\" font-size=\"14\" lengthAdjust=\"spacing\" textLength=\"26\" x=\"479\" y=\"94.4639\">c: P</text><line style=\"stroke:#181818;stroke-width:0.5;\" x1=\"476\" x2=\"516\" y1=\"102.7656\" y2=\"102.7656\"/></g></a><!--MD5=[2156ba9850f5573cc1fc38a6a4b2f02b]\n",
       "class E7--><a href=\"psysml:58aa0206-e878-4c1d-8c3a-c879ca6e4b13\" target=\"_top\" title=\"psysml:58aa0206-e878-4c1d-8c3a-c879ca6e4b13\" xlink:actuate=\"onRequest\" xlink:href=\"psysml:58aa0206-e878-4c1d-8c3a-c879ca6e4b13\" xlink:show=\"new\" xlink:title=\"psysml:58aa0206-e878-4c1d-8c3a-c879ca6e4b13\" xlink:type=\"simple\"><g id=\"elem_E7\"><rect fill=\"#FFFFFF\" height=\"48.2656\" id=\"E7\" rx=\"10\" ry=\"10\" style=\"stroke:#181818;stroke-width:0.5;\" width=\"42\" x=\"398\" y=\"62.5\"/><text fill=\"#000000\" font-family=\"sans-serif\" font-size=\"12\" font-style=\"italic\" lengthAdjust=\"spacing\" textLength=\"40\" x=\"399\" y=\"78.6387\">«part»</text><text fill=\"#000000\" font-family=\"sans-serif\" font-size=\"14\" lengthAdjust=\"spacing\" textLength=\"9\" x=\"410.5\" y=\"94.4639\">d</text><line style=\"stroke:#181818;stroke-width:0.5;\" x1=\"399\" x2=\"439\" y1=\"102.7656\" y2=\"102.7656\"/></g></a><!--MD5=[b9389687b975829384b498ac4b7476b2]\n",
       "class E8--><a href=\"psysml:21978b5e-874b-4020-b12b-41f872f49c78\" target=\"_top\" title=\"psysml:21978b5e-874b-4020-b12b-41f872f49c78\" xlink:actuate=\"onRequest\" xlink:href=\"psysml:21978b5e-874b-4020-b12b-41f872f49c78\" xlink:show=\"new\" xlink:title=\"psysml:21978b5e-874b-4020-b12b-41f872f49c78\" xlink:type=\"simple\"><g id=\"elem_E8\"><rect fill=\"#FFFFFF\" height=\"48.2656\" id=\"E8\" rx=\"10\" ry=\"10\" style=\"stroke:#181818;stroke-width:0.5;\" width=\"42\" x=\"321\" y=\"62.5\"/><text fill=\"#000000\" font-family=\"sans-serif\" font-size=\"12\" font-style=\"italic\" lengthAdjust=\"spacing\" textLength=\"40\" x=\"322\" y=\"78.6387\">«part»</text><text fill=\"#000000\" font-family=\"sans-serif\" font-size=\"14\" lengthAdjust=\"spacing\" textLength=\"9\" x=\"333.5\" y=\"94.4639\">e</text><line style=\"stroke:#181818;stroke-width:0.5;\" x1=\"322\" x2=\"362\" y1=\"102.7656\" y2=\"102.7656\"/></g></a><!--MD5=[fd4143e9d270a159db93a4ea2a975926]\n",
       "class E9--><a href=\"psysml:79f00190-11a9-479d-9f29-e880a27768bf\" target=\"_top\" title=\"psysml:79f00190-11a9-479d-9f29-e880a27768bf\" xlink:actuate=\"onRequest\" xlink:href=\"psysml:79f00190-11a9-479d-9f29-e880a27768bf\" xlink:show=\"new\" xlink:title=\"psysml:79f00190-11a9-479d-9f29-e880a27768bf\" xlink:type=\"simple\"><g id=\"elem_E9\"><rect fill=\"#FFFFFF\" height=\"48.2656\" id=\"E9\" rx=\"10\" ry=\"10\" style=\"stroke:#181818;stroke-width:0.5;\" width=\"42\" x=\"244\" y=\"62.5\"/><text fill=\"#000000\" font-family=\"sans-serif\" font-size=\"12\" font-style=\"italic\" lengthAdjust=\"spacing\" textLength=\"40\" x=\"245\" y=\"78.6387\">«part»</text><text fill=\"#000000\" font-family=\"sans-serif\" font-size=\"14\" lengthAdjust=\"spacing\" textLength=\"4\" x=\"259\" y=\"94.4639\">f</text><line style=\"stroke:#181818;stroke-width:0.5;\" x1=\"245\" x2=\"285\" y1=\"102.7656\" y2=\"102.7656\"/></g></a><!--MD5=[96f4274e9e20536e775497830990834d]\n",
       "class E10--><a href=\"psysml:3e79cc57-1ff4-4d61-ad54-8c0f8362d5da\" target=\"_top\" title=\"psysml:3e79cc57-1ff4-4d61-ad54-8c0f8362d5da\" xlink:actuate=\"onRequest\" xlink:href=\"psysml:3e79cc57-1ff4-4d61-ad54-8c0f8362d5da\" xlink:show=\"new\" xlink:title=\"psysml:3e79cc57-1ff4-4d61-ad54-8c0f8362d5da\" xlink:type=\"simple\"><g id=\"elem_E10\"><rect fill=\"#FFFFFF\" height=\"48.2656\" id=\"E10\" rx=\"10\" ry=\"10\" style=\"stroke:#181818;stroke-width:0.5;\" width=\"42\" x=\"167\" y=\"62.5\"/><text fill=\"#000000\" font-family=\"sans-serif\" font-size=\"12\" font-style=\"italic\" lengthAdjust=\"spacing\" textLength=\"40\" x=\"168\" y=\"78.6387\">«part»</text><text fill=\"#000000\" font-family=\"sans-serif\" font-size=\"14\" lengthAdjust=\"spacing\" textLength=\"9\" x=\"179.5\" y=\"94.4639\">g</text><line style=\"stroke:#181818;stroke-width:0.5;\" x1=\"168\" x2=\"208\" y1=\"102.7656\" y2=\"102.7656\"/></g></a><!--MD5=[1dd1bfd58a279cf63c5f349dbc8fc6a1]\n",
       "class E11--><a href=\"psysml:cae84388-2b2f-4b61-9caf-e3201f6c4bb4\" target=\"_top\" title=\"psysml:cae84388-2b2f-4b61-9caf-e3201f6c4bb4\" xlink:actuate=\"onRequest\" xlink:href=\"psysml:cae84388-2b2f-4b61-9caf-e3201f6c4bb4\" xlink:show=\"new\" xlink:title=\"psysml:cae84388-2b2f-4b61-9caf-e3201f6c4bb4\" xlink:type=\"simple\"><g id=\"elem_E11\"><rect fill=\"#FFFFFF\" height=\"91.3781\" id=\"E11\" style=\"stroke:#181818;stroke-width:0.5;\" width=\"99\" x=\"32.5\" y=\"41\"/><text fill=\"#000000\" font-family=\"sans-serif\" font-size=\"12\" font-style=\"italic\" lengthAdjust=\"spacing\" textLength=\"97\" x=\"33.5\" y=\"57.1387\">«attribute  def»</text><text fill=\"#000000\" font-family=\"sans-serif\" font-size=\"14\" lengthAdjust=\"spacing\" textLength=\"9\" x=\"77.5\" y=\"72.9639\">A</text><line style=\"stroke:#181818;stroke-width:0.5;\" x1=\"33.5\" x2=\"130.5\" y1=\"81.2656\" y2=\"81.2656\"/><text fill=\"#000000\" font-family=\"sans-serif\" font-size=\"14\" lengthAdjust=\"spacing\" textLength=\"61\" x=\"38.5\" y=\"108.7795\">i: Integer</text><text fill=\"#000000\" font-family=\"sans-serif\" font-size=\"14\" lengthAdjust=\"spacing\" textLength=\"25\" x=\"38.5\" y=\"125.0764\">x: A</text><text fill=\"#000000\" font-family=\"sans-serif\" font-size=\"14\" font-style=\"italic\" lengthAdjust=\"spacing\" textLength=\"66\" x=\"49\" y=\"93.6123\">attributes</text></g></a><!--MD5=[15ebcb19ae302d9b601edb458606d402]\n",
       "link E5 to E2--><g id=\"link_E5_E2\"><a href=\"psysml:356b088d-f058-4498-8151-02a64d9c5f99\" target=\"_top\" title=\"psysml:356b088d-f058-4498-8151-02a64d9c5f99\" xlink:actuate=\"onRequest\" xlink:href=\"psysml:356b088d-f058-4498-8151-02a64d9c5f99\" xlink:show=\"new\" xlink:title=\"psysml:356b088d-f058-4498-8151-02a64d9c5f99\" xlink:type=\"simple\"><path d=\"M565.94,110.59 C560.67,127.81 553.32,151.83 547,172.49 \" fill=\"none\" id=\"E5-to-E2\" style=\"stroke:#181818;stroke-width:1.0;\"/><polygon fill=\"#FFFFFF\" points=\"541.14,191.65,539.9958,171.4339,553.3851,175.5237,541.14,191.65\" style=\"stroke:#181818;stroke-width:1.0;\"/><ellipse cx=\"543.5737\" cy=\"166.5668\" fill=\"#181818\" rx=\"2\" ry=\"2\" style=\"stroke:#181818;stroke-width:1.0;\"/><ellipse cx=\"553.1375\" cy=\"169.4881\" fill=\"#181818\" rx=\"2\" ry=\"2\" style=\"stroke:#181818;stroke-width:1.0;\"/></a></g><!--MD5=[2351f337d6de0f557b50152ba70847b5]\n",
       "link E6 to E2--><g id=\"link_E6_E2\"><a href=\"psysml:849948e9-2a63-47c9-a787-96ae36e28ef0\" target=\"_top\" title=\"psysml:849948e9-2a63-47c9-a787-96ae36e28ef0\" xlink:actuate=\"onRequest\" xlink:href=\"psysml:849948e9-2a63-47c9-a787-96ae36e28ef0\" xlink:show=\"new\" xlink:title=\"psysml:849948e9-2a63-47c9-a787-96ae36e28ef0\" xlink:type=\"simple\"><path d=\"M502.88,110.59 C507.99,127.72 515.1,151.58 521.23,172.17 \" fill=\"none\" id=\"E6-to-E2\" style=\"stroke:#181818;stroke-width:1.0;\"/><polygon fill=\"#FFFFFF\" points=\"527.04,191.65,514.9155,175.4328,528.3349,171.443,527.04,191.65\" style=\"stroke:#181818;stroke-width:1.0;\"/><ellipse cx=\"515.2081\" cy=\"169.3992\" fill=\"#181818\" rx=\"2\" ry=\"2\" style=\"stroke:#181818;stroke-width:1.0;\"/><ellipse cx=\"524.7935\" cy=\"166.5493\" fill=\"#181818\" rx=\"2\" ry=\"2\" style=\"stroke:#181818;stroke-width:1.0;\"/></a></g><!--MD5=[078e720b444fb4af020d537f8b7ce5ad]\n",
       "@startuml\r\n",
       "skin sysmlbw\r\n",
       "skinparam monochrome true\r\n",
       "skinparam wrapWidth 300\r\n",
       "hide circle\r\n",
       "\r\n",
       "package \"MultiplicityTest\" as E1  [[psysml:26edc399-ba1b-4e26-98ec-184b2d561983 ]]  {\r\n",
       "comp def \"P\" as E2  <<(T,blue) part  def>> [[psysml:a78c9232-7355-4122-98e1-61ea033b6fbd ]] {\r\n",
       "}\r\n",
       "comp usage \"n: Integer  \" as E3  <<(T,blue) attribute>> [[psysml:6e5bcad0-e721-42f0-8965-8cf810de127c ]] {\r\n",
       "##//values//##\r\n",
       " <U+003D> 5\r\n",
       "}\r\n",
       "comp usage \"a  \" as E4  <<(T,blue) part>> [[psysml:58ca86c4-6609-462b-9948-87aadb08d281 ]] {\r\n",
       "}\r\n",
       "comp usage \"b: P  \" as E5  <<(T,blue) part>> [[psysml:8959fced-ddce-434c-832c-e17faa00a5de ]] {\r\n",
       "}\r\n",
       "comp usage \"c: P  \" as E6  <<(T,blue) part>> [[psysml:4ac8fd09-bbc3-4ec3-ba18-7592ef56bccd ]] {\r\n",
       "}\r\n",
       "comp usage \"d  \" as E7  <<(T,blue) part>> [[psysml:58aa0206-e878-4c1d-8c3a-c879ca6e4b13 ]] {\r\n",
       "}\r\n",
       "comp usage \"e  \" as E8  <<(T,blue) part>> [[psysml:21978b5e-874b-4020-b12b-41f872f49c78 ]] {\r\n",
       "}\r\n",
       "comp usage \"f  \" as E9  <<(T,blue) part>> [[psysml:79f00190-11a9-479d-9f29-e880a27768bf ]] {\r\n",
       "}\r\n",
       "comp usage \"g  \" as E10  <<(T,blue) part>> [[psysml:3e79cc57-1ff4-4d61-ad54-8c0f8362d5da ]] {\r\n",
       "}\r\n",
       "comp def \"A\" as E11  <<(T,blue) attribute  def>> [[psysml:cae84388-2b2f-4b61-9caf-e3201f6c4bb4 ]] {\r\n",
       "##//attributes//##\r\n",
       "i: Integer\r\n",
       "x: A\r\n",
       "}\r\n",
       "}\r\n",
       "E5 - -:|> E2 [[psysml:356b088d-f058-4498-8151-02a64d9c5f99 ]] \r\n",
       "E6 - -:|> E2 [[psysml:849948e9-2a63-47c9-a787-96ae36e28ef0 ]] \r\n",
       "@enduml\r\n",
       "\n",
       "PlantUML version 1.2022.7(Mon Aug 22 17:01:30 UTC 2022)\n",
       "(EPL source distribution)\n",
       "Java Runtime: OpenJDK Runtime Environment\n",
       "JVM: OpenJDK 64-Bit Server VM\n",
       "Default Encoding: UTF-8\n",
       "Language: en\n",
       "Country: null\n",
       "--></g></svg>"
      ]
     },
     "execution_count": 43,
     "metadata": {},
     "output_type": "execute_result"
    }
   ],
   "source": [
    "%viz --style=\"DEFAULT\" --view=\"MIXED\" \"MultiplicityTest\""
   ]
  },
  {
   "cell_type": "code",
   "execution_count": 44,
   "id": "6f4b191f",
   "metadata": {
    "execution": {
     "iopub.execute_input": "2024-12-16T03:27:07.452105Z",
     "iopub.status.busy": "2024-12-16T03:27:07.451860Z",
     "iopub.status.idle": "2024-12-16T03:27:07.472685Z",
     "shell.execute_reply": "2024-12-16T03:27:07.471784Z"
    }
   },
   "outputs": [
    {
     "data": {
      "image/svg+xml": [
       "<?xml version=\"1.0\" encoding=\"UTF-8\" standalone=\"no\"?><svg xmlns=\"http://www.w3.org/2000/svg\" xmlns:xlink=\"http://www.w3.org/1999/xlink\" contentStyleType=\"text/css\" height=\"263px\" preserveAspectRatio=\"none\" style=\"width:821px;height:263px;background:#FFFFFF;\" version=\"1.1\" viewBox=\"0 0 821 263\" width=\"821px\" zoomAndPan=\"magnify\"><defs/><g><!--MD5=[fbc87193dbaf4d95561dea2c320d4a47]\n",
       "cluster E1--><g id=\"cluster_E1\"><a href=\"psysml:26edc399-ba1b-4e26-98ec-184b2d561983\" target=\"_top\" title=\"psysml:26edc399-ba1b-4e26-98ec-184b2d561983\" xlink:actuate=\"onRequest\" xlink:href=\"psysml:26edc399-ba1b-4e26-98ec-184b2d561983\" xlink:show=\"new\" xlink:title=\"psysml:26edc399-ba1b-4e26-98ec-184b2d561983\" xlink:type=\"simple\"><polygon fill=\"none\" points=\"16,6,130,6,137,28.2969,804,28.2969,804,256,16,256,16,6\" style=\"stroke:#000000;stroke-width:1.5;\"/><line style=\"stroke:#000000;stroke-width:1.5;\" x1=\"16\" x2=\"137\" y1=\"28.2969\" y2=\"28.2969\"/><text fill=\"#000000\" font-family=\"sans-serif\" font-size=\"14\" font-weight=\"bold\" lengthAdjust=\"spacing\" textLength=\"108\" x=\"20\" y=\"20.9951\">MultiplicityTest</text></a></g><!--MD5=[b4997ac47864f28c2f74865a473b2911]\n",
       "class E2--><a href=\"psysml:a78c9232-7355-4122-98e1-61ea033b6fbd\" target=\"_top\" title=\"psysml:a78c9232-7355-4122-98e1-61ea033b6fbd\" xlink:actuate=\"onRequest\" xlink:href=\"psysml:a78c9232-7355-4122-98e1-61ea033b6fbd\" xlink:show=\"new\" xlink:title=\"psysml:a78c9232-7355-4122-98e1-61ea033b6fbd\" xlink:type=\"simple\"><g id=\"elem_E2\"><rect fill=\"#FFFFFF\" height=\"48.2656\" id=\"E2\" style=\"stroke:#181818;stroke-width:0.5;\" width=\"70\" x=\"499\" y=\"192\"/><text fill=\"#000000\" font-family=\"sans-serif\" font-size=\"12\" font-style=\"italic\" lengthAdjust=\"spacing\" textLength=\"68\" x=\"500\" y=\"208.1387\">«part  def»</text><text fill=\"#000000\" font-family=\"sans-serif\" font-size=\"14\" lengthAdjust=\"spacing\" textLength=\"9\" x=\"529.5\" y=\"223.9639\">P</text><line style=\"stroke:#181818;stroke-width:0.5;\" x1=\"500\" x2=\"568\" y1=\"232.2656\" y2=\"232.2656\"/></g></a><!--MD5=[09b614a08d8cba4a07c9adeb5e0fee81]\n",
       "class E3--><a href=\"psysml:6e5bcad0-e721-42f0-8965-8cf810de127c\" target=\"_top\" title=\"psysml:6e5bcad0-e721-42f0-8965-8cf810de127c\" xlink:actuate=\"onRequest\" xlink:href=\"psysml:6e5bcad0-e721-42f0-8965-8cf810de127c\" xlink:show=\"new\" xlink:title=\"psysml:6e5bcad0-e721-42f0-8965-8cf810de127c\" xlink:type=\"simple\"><g id=\"elem_E3\"><rect fill=\"#FFFFFF\" height=\"75.0813\" id=\"E3\" rx=\"10\" ry=\"10\" style=\"stroke:#181818;stroke-width:0.5;\" width=\"81\" x=\"706.5\" y=\"49\"/><text fill=\"#000000\" font-family=\"sans-serif\" font-size=\"12\" font-style=\"italic\" lengthAdjust=\"spacing\" textLength=\"69\" x=\"712.5\" y=\"65.1387\">«attribute»</text><text fill=\"#000000\" font-family=\"sans-serif\" font-size=\"14\" lengthAdjust=\"spacing\" textLength=\"67\" x=\"709.5\" y=\"80.9639\">n: Integer</text><line style=\"stroke:#181818;stroke-width:0.5;\" x1=\"707.5\" x2=\"786.5\" y1=\"89.2656\" y2=\"89.2656\"/><text fill=\"#000000\" font-family=\"sans-serif\" font-size=\"14\" lengthAdjust=\"spacing\" textLength=\"25\" x=\"712.5\" y=\"116.7795\">= 5</text><text fill=\"#000000\" font-family=\"sans-serif\" font-size=\"14\" font-style=\"italic\" lengthAdjust=\"spacing\" textLength=\"44\" x=\"725\" y=\"101.6123\">values</text></g></a><!--MD5=[ebbe1d658d1005bcc118a6aa81145e00]\n",
       "class E4--><a href=\"psysml:58ca86c4-6609-462b-9948-87aadb08d281\" target=\"_top\" title=\"psysml:58ca86c4-6609-462b-9948-87aadb08d281\" xlink:actuate=\"onRequest\" xlink:href=\"psysml:58ca86c4-6609-462b-9948-87aadb08d281\" xlink:show=\"new\" xlink:title=\"psysml:58ca86c4-6609-462b-9948-87aadb08d281\" xlink:type=\"simple\"><g id=\"elem_E4\"><rect fill=\"#FFFFFF\" height=\"48.2656\" id=\"E4\" rx=\"10\" ry=\"10\" style=\"stroke:#181818;stroke-width:0.5;\" width=\"42\" x=\"629\" y=\"62.5\"/><text fill=\"#000000\" font-family=\"sans-serif\" font-size=\"12\" font-style=\"italic\" lengthAdjust=\"spacing\" textLength=\"40\" x=\"630\" y=\"78.6387\">«part»</text><text fill=\"#000000\" font-family=\"sans-serif\" font-size=\"14\" lengthAdjust=\"spacing\" textLength=\"8\" x=\"642\" y=\"94.4639\">a</text><line style=\"stroke:#181818;stroke-width:0.5;\" x1=\"630\" x2=\"670\" y1=\"102.7656\" y2=\"102.7656\"/></g></a><!--MD5=[270fce915f116d4de14055a7c1d9a0f3]\n",
       "class E5--><a href=\"psysml:8959fced-ddce-434c-832c-e17faa00a5de\" target=\"_top\" title=\"psysml:8959fced-ddce-434c-832c-e17faa00a5de\" xlink:actuate=\"onRequest\" xlink:href=\"psysml:8959fced-ddce-434c-832c-e17faa00a5de\" xlink:show=\"new\" xlink:title=\"psysml:8959fced-ddce-434c-832c-e17faa00a5de\" xlink:type=\"simple\"><g id=\"elem_E5\"><rect fill=\"#FFFFFF\" height=\"48.2656\" id=\"E5\" rx=\"10\" ry=\"10\" style=\"stroke:#181818;stroke-width:0.5;\" width=\"42\" x=\"552\" y=\"62.5\"/><text fill=\"#000000\" font-family=\"sans-serif\" font-size=\"12\" font-style=\"italic\" lengthAdjust=\"spacing\" textLength=\"40\" x=\"553\" y=\"78.6387\">«part»</text><text fill=\"#000000\" font-family=\"sans-serif\" font-size=\"14\" lengthAdjust=\"spacing\" textLength=\"27\" x=\"555.5\" y=\"94.4639\">b: P</text><line style=\"stroke:#181818;stroke-width:0.5;\" x1=\"553\" x2=\"593\" y1=\"102.7656\" y2=\"102.7656\"/></g></a><!--MD5=[60a26617385b1d2d0262a64233df1f8d]\n",
       "class E6--><a href=\"psysml:4ac8fd09-bbc3-4ec3-ba18-7592ef56bccd\" target=\"_top\" title=\"psysml:4ac8fd09-bbc3-4ec3-ba18-7592ef56bccd\" xlink:actuate=\"onRequest\" xlink:href=\"psysml:4ac8fd09-bbc3-4ec3-ba18-7592ef56bccd\" xlink:show=\"new\" xlink:title=\"psysml:4ac8fd09-bbc3-4ec3-ba18-7592ef56bccd\" xlink:type=\"simple\"><g id=\"elem_E6\"><rect fill=\"#FFFFFF\" height=\"48.2656\" id=\"E6\" rx=\"10\" ry=\"10\" style=\"stroke:#181818;stroke-width:0.5;\" width=\"42\" x=\"475\" y=\"62.5\"/><text fill=\"#000000\" font-family=\"sans-serif\" font-size=\"12\" font-style=\"italic\" lengthAdjust=\"spacing\" textLength=\"40\" x=\"476\" y=\"78.6387\">«part»</text><text fill=\"#000000\" font-family=\"sans-serif\" font-size=\"14\" lengthAdjust=\"spacing\" textLength=\"26\" x=\"479\" y=\"94.4639\">c: P</text><line style=\"stroke:#181818;stroke-width:0.5;\" x1=\"476\" x2=\"516\" y1=\"102.7656\" y2=\"102.7656\"/></g></a><!--MD5=[2156ba9850f5573cc1fc38a6a4b2f02b]\n",
       "class E7--><a href=\"psysml:58aa0206-e878-4c1d-8c3a-c879ca6e4b13\" target=\"_top\" title=\"psysml:58aa0206-e878-4c1d-8c3a-c879ca6e4b13\" xlink:actuate=\"onRequest\" xlink:href=\"psysml:58aa0206-e878-4c1d-8c3a-c879ca6e4b13\" xlink:show=\"new\" xlink:title=\"psysml:58aa0206-e878-4c1d-8c3a-c879ca6e4b13\" xlink:type=\"simple\"><g id=\"elem_E7\"><rect fill=\"#FFFFFF\" height=\"48.2656\" id=\"E7\" rx=\"10\" ry=\"10\" style=\"stroke:#181818;stroke-width:0.5;\" width=\"42\" x=\"398\" y=\"62.5\"/><text fill=\"#000000\" font-family=\"sans-serif\" font-size=\"12\" font-style=\"italic\" lengthAdjust=\"spacing\" textLength=\"40\" x=\"399\" y=\"78.6387\">«part»</text><text fill=\"#000000\" font-family=\"sans-serif\" font-size=\"14\" lengthAdjust=\"spacing\" textLength=\"9\" x=\"410.5\" y=\"94.4639\">d</text><line style=\"stroke:#181818;stroke-width:0.5;\" x1=\"399\" x2=\"439\" y1=\"102.7656\" y2=\"102.7656\"/></g></a><!--MD5=[b9389687b975829384b498ac4b7476b2]\n",
       "class E8--><a href=\"psysml:21978b5e-874b-4020-b12b-41f872f49c78\" target=\"_top\" title=\"psysml:21978b5e-874b-4020-b12b-41f872f49c78\" xlink:actuate=\"onRequest\" xlink:href=\"psysml:21978b5e-874b-4020-b12b-41f872f49c78\" xlink:show=\"new\" xlink:title=\"psysml:21978b5e-874b-4020-b12b-41f872f49c78\" xlink:type=\"simple\"><g id=\"elem_E8\"><rect fill=\"#FFFFFF\" height=\"48.2656\" id=\"E8\" rx=\"10\" ry=\"10\" style=\"stroke:#181818;stroke-width:0.5;\" width=\"42\" x=\"321\" y=\"62.5\"/><text fill=\"#000000\" font-family=\"sans-serif\" font-size=\"12\" font-style=\"italic\" lengthAdjust=\"spacing\" textLength=\"40\" x=\"322\" y=\"78.6387\">«part»</text><text fill=\"#000000\" font-family=\"sans-serif\" font-size=\"14\" lengthAdjust=\"spacing\" textLength=\"9\" x=\"333.5\" y=\"94.4639\">e</text><line style=\"stroke:#181818;stroke-width:0.5;\" x1=\"322\" x2=\"362\" y1=\"102.7656\" y2=\"102.7656\"/></g></a><!--MD5=[fd4143e9d270a159db93a4ea2a975926]\n",
       "class E9--><a href=\"psysml:79f00190-11a9-479d-9f29-e880a27768bf\" target=\"_top\" title=\"psysml:79f00190-11a9-479d-9f29-e880a27768bf\" xlink:actuate=\"onRequest\" xlink:href=\"psysml:79f00190-11a9-479d-9f29-e880a27768bf\" xlink:show=\"new\" xlink:title=\"psysml:79f00190-11a9-479d-9f29-e880a27768bf\" xlink:type=\"simple\"><g id=\"elem_E9\"><rect fill=\"#FFFFFF\" height=\"48.2656\" id=\"E9\" rx=\"10\" ry=\"10\" style=\"stroke:#181818;stroke-width:0.5;\" width=\"42\" x=\"244\" y=\"62.5\"/><text fill=\"#000000\" font-family=\"sans-serif\" font-size=\"12\" font-style=\"italic\" lengthAdjust=\"spacing\" textLength=\"40\" x=\"245\" y=\"78.6387\">«part»</text><text fill=\"#000000\" font-family=\"sans-serif\" font-size=\"14\" lengthAdjust=\"spacing\" textLength=\"4\" x=\"259\" y=\"94.4639\">f</text><line style=\"stroke:#181818;stroke-width:0.5;\" x1=\"245\" x2=\"285\" y1=\"102.7656\" y2=\"102.7656\"/></g></a><!--MD5=[96f4274e9e20536e775497830990834d]\n",
       "class E10--><a href=\"psysml:3e79cc57-1ff4-4d61-ad54-8c0f8362d5da\" target=\"_top\" title=\"psysml:3e79cc57-1ff4-4d61-ad54-8c0f8362d5da\" xlink:actuate=\"onRequest\" xlink:href=\"psysml:3e79cc57-1ff4-4d61-ad54-8c0f8362d5da\" xlink:show=\"new\" xlink:title=\"psysml:3e79cc57-1ff4-4d61-ad54-8c0f8362d5da\" xlink:type=\"simple\"><g id=\"elem_E10\"><rect fill=\"#FFFFFF\" height=\"48.2656\" id=\"E10\" rx=\"10\" ry=\"10\" style=\"stroke:#181818;stroke-width:0.5;\" width=\"42\" x=\"167\" y=\"62.5\"/><text fill=\"#000000\" font-family=\"sans-serif\" font-size=\"12\" font-style=\"italic\" lengthAdjust=\"spacing\" textLength=\"40\" x=\"168\" y=\"78.6387\">«part»</text><text fill=\"#000000\" font-family=\"sans-serif\" font-size=\"14\" lengthAdjust=\"spacing\" textLength=\"9\" x=\"179.5\" y=\"94.4639\">g</text><line style=\"stroke:#181818;stroke-width:0.5;\" x1=\"168\" x2=\"208\" y1=\"102.7656\" y2=\"102.7656\"/></g></a><!--MD5=[1dd1bfd58a279cf63c5f349dbc8fc6a1]\n",
       "class E11--><a href=\"psysml:cae84388-2b2f-4b61-9caf-e3201f6c4bb4\" target=\"_top\" title=\"psysml:cae84388-2b2f-4b61-9caf-e3201f6c4bb4\" xlink:actuate=\"onRequest\" xlink:href=\"psysml:cae84388-2b2f-4b61-9caf-e3201f6c4bb4\" xlink:show=\"new\" xlink:title=\"psysml:cae84388-2b2f-4b61-9caf-e3201f6c4bb4\" xlink:type=\"simple\"><g id=\"elem_E11\"><rect fill=\"#FFFFFF\" height=\"91.3781\" id=\"E11\" style=\"stroke:#181818;stroke-width:0.5;\" width=\"99\" x=\"32.5\" y=\"41\"/><text fill=\"#000000\" font-family=\"sans-serif\" font-size=\"12\" font-style=\"italic\" lengthAdjust=\"spacing\" textLength=\"97\" x=\"33.5\" y=\"57.1387\">«attribute  def»</text><text fill=\"#000000\" font-family=\"sans-serif\" font-size=\"14\" lengthAdjust=\"spacing\" textLength=\"9\" x=\"77.5\" y=\"72.9639\">A</text><line style=\"stroke:#181818;stroke-width:0.5;\" x1=\"33.5\" x2=\"130.5\" y1=\"81.2656\" y2=\"81.2656\"/><text fill=\"#000000\" font-family=\"sans-serif\" font-size=\"14\" lengthAdjust=\"spacing\" textLength=\"61\" x=\"38.5\" y=\"108.7795\">i: Integer</text><text fill=\"#000000\" font-family=\"sans-serif\" font-size=\"14\" lengthAdjust=\"spacing\" textLength=\"25\" x=\"38.5\" y=\"125.0764\">x: A</text><text fill=\"#000000\" font-family=\"sans-serif\" font-size=\"14\" font-style=\"italic\" lengthAdjust=\"spacing\" textLength=\"66\" x=\"49\" y=\"93.6123\">attributes</text></g></a><!--MD5=[15ebcb19ae302d9b601edb458606d402]\n",
       "link E5 to E2--><g id=\"link_E5_E2\"><a href=\"psysml:356b088d-f058-4498-8151-02a64d9c5f99\" target=\"_top\" title=\"psysml:356b088d-f058-4498-8151-02a64d9c5f99\" xlink:actuate=\"onRequest\" xlink:href=\"psysml:356b088d-f058-4498-8151-02a64d9c5f99\" xlink:show=\"new\" xlink:title=\"psysml:356b088d-f058-4498-8151-02a64d9c5f99\" xlink:type=\"simple\"><path d=\"M565.94,110.59 C560.67,127.81 553.32,151.83 547,172.49 \" fill=\"none\" id=\"E5-to-E2\" style=\"stroke:#181818;stroke-width:1.0;\"/><polygon fill=\"#FFFFFF\" points=\"541.14,191.65,539.9958,171.4339,553.3851,175.5237,541.14,191.65\" style=\"stroke:#181818;stroke-width:1.0;\"/><ellipse cx=\"543.5737\" cy=\"166.5668\" fill=\"#181818\" rx=\"2\" ry=\"2\" style=\"stroke:#181818;stroke-width:1.0;\"/><ellipse cx=\"553.1375\" cy=\"169.4881\" fill=\"#181818\" rx=\"2\" ry=\"2\" style=\"stroke:#181818;stroke-width:1.0;\"/></a></g><!--MD5=[2351f337d6de0f557b50152ba70847b5]\n",
       "link E6 to E2--><g id=\"link_E6_E2\"><a href=\"psysml:849948e9-2a63-47c9-a787-96ae36e28ef0\" target=\"_top\" title=\"psysml:849948e9-2a63-47c9-a787-96ae36e28ef0\" xlink:actuate=\"onRequest\" xlink:href=\"psysml:849948e9-2a63-47c9-a787-96ae36e28ef0\" xlink:show=\"new\" xlink:title=\"psysml:849948e9-2a63-47c9-a787-96ae36e28ef0\" xlink:type=\"simple\"><path d=\"M502.88,110.59 C507.99,127.72 515.1,151.58 521.23,172.17 \" fill=\"none\" id=\"E6-to-E2\" style=\"stroke:#181818;stroke-width:1.0;\"/><polygon fill=\"#FFFFFF\" points=\"527.04,191.65,514.9155,175.4328,528.3349,171.443,527.04,191.65\" style=\"stroke:#181818;stroke-width:1.0;\"/><ellipse cx=\"515.2081\" cy=\"169.3992\" fill=\"#181818\" rx=\"2\" ry=\"2\" style=\"stroke:#181818;stroke-width:1.0;\"/><ellipse cx=\"524.7935\" cy=\"166.5493\" fill=\"#181818\" rx=\"2\" ry=\"2\" style=\"stroke:#181818;stroke-width:1.0;\"/></a></g><!--MD5=[a619f5dda5edb2231f7b2774586e6e46]\n",
       "@startuml\r\n",
       "skin sysmlbw\r\n",
       "skinparam monochrome true\r\n",
       "skinparam wrapWidth 300\r\n",
       "hide circle\r\n",
       "top to bottom direction\r\n",
       "\r\n",
       "package \"MultiplicityTest\" as E1  [[psysml:26edc399-ba1b-4e26-98ec-184b2d561983 ]]  {\r\n",
       "comp def \"P\" as E2  <<(T,blue) part  def>> [[psysml:a78c9232-7355-4122-98e1-61ea033b6fbd ]] {\r\n",
       "}\r\n",
       "comp usage \"n: Integer  \" as E3  <<(T,blue) attribute>> [[psysml:6e5bcad0-e721-42f0-8965-8cf810de127c ]] {\r\n",
       "##//values//##\r\n",
       " <U+003D> 5\r\n",
       "}\r\n",
       "comp usage \"a  \" as E4  <<(T,blue) part>> [[psysml:58ca86c4-6609-462b-9948-87aadb08d281 ]] {\r\n",
       "}\r\n",
       "comp usage \"b: P  \" as E5  <<(T,blue) part>> [[psysml:8959fced-ddce-434c-832c-e17faa00a5de ]] {\r\n",
       "}\r\n",
       "comp usage \"c: P  \" as E6  <<(T,blue) part>> [[psysml:4ac8fd09-bbc3-4ec3-ba18-7592ef56bccd ]] {\r\n",
       "}\r\n",
       "comp usage \"d  \" as E7  <<(T,blue) part>> [[psysml:58aa0206-e878-4c1d-8c3a-c879ca6e4b13 ]] {\r\n",
       "}\r\n",
       "comp usage \"e  \" as E8  <<(T,blue) part>> [[psysml:21978b5e-874b-4020-b12b-41f872f49c78 ]] {\r\n",
       "}\r\n",
       "comp usage \"f  \" as E9  <<(T,blue) part>> [[psysml:79f00190-11a9-479d-9f29-e880a27768bf ]] {\r\n",
       "}\r\n",
       "comp usage \"g  \" as E10  <<(T,blue) part>> [[psysml:3e79cc57-1ff4-4d61-ad54-8c0f8362d5da ]] {\r\n",
       "}\r\n",
       "comp def \"A\" as E11  <<(T,blue) attribute  def>> [[psysml:cae84388-2b2f-4b61-9caf-e3201f6c4bb4 ]] {\r\n",
       "##//attributes//##\r\n",
       "i: Integer\r\n",
       "x: A\r\n",
       "}\r\n",
       "}\r\n",
       "E5 - -:|> E2 [[psysml:356b088d-f058-4498-8151-02a64d9c5f99 ]] \r\n",
       "E6 - -:|> E2 [[psysml:849948e9-2a63-47c9-a787-96ae36e28ef0 ]] \r\n",
       "@enduml\r\n",
       "\n",
       "PlantUML version 1.2022.7(Mon Aug 22 17:01:30 UTC 2022)\n",
       "(EPL source distribution)\n",
       "Java Runtime: OpenJDK Runtime Environment\n",
       "JVM: OpenJDK 64-Bit Server VM\n",
       "Default Encoding: UTF-8\n",
       "Language: en\n",
       "Country: null\n",
       "--></g></svg>"
      ]
     },
     "execution_count": 44,
     "metadata": {},
     "output_type": "execute_result"
    }
   ],
   "source": [
    "%viz --style=\"TB\" --view=\"Default\" \"MultiplicityTest\""
   ]
  },
  {
   "cell_type": "code",
   "execution_count": 45,
   "id": "2280eef3",
   "metadata": {
    "execution": {
     "iopub.execute_input": "2024-12-16T03:27:07.522797Z",
     "iopub.status.busy": "2024-12-16T03:27:07.522559Z",
     "iopub.status.idle": "2024-12-16T03:27:07.542668Z",
     "shell.execute_reply": "2024-12-16T03:27:07.541865Z"
    }
   },
   "outputs": [
    {
     "data": {
      "image/svg+xml": [
       "<?xml version=\"1.0\" encoding=\"UTF-8\" standalone=\"no\"?><svg xmlns=\"http://www.w3.org/2000/svg\" xmlns:xlink=\"http://www.w3.org/1999/xlink\" contentStyleType=\"text/css\" height=\"263px\" preserveAspectRatio=\"none\" style=\"width:916px;height:263px;background:#FFFFFF;\" version=\"1.1\" viewBox=\"0 0 916 263\" width=\"916px\" zoomAndPan=\"magnify\"><defs/><g><!--MD5=[fbc87193dbaf4d95561dea2c320d4a47]\n",
       "cluster E1--><g id=\"cluster_E1\"><a href=\"psysml:26edc399-ba1b-4e26-98ec-184b2d561983\" target=\"_top\" title=\"psysml:26edc399-ba1b-4e26-98ec-184b2d561983\" xlink:actuate=\"onRequest\" xlink:href=\"psysml:26edc399-ba1b-4e26-98ec-184b2d561983\" xlink:show=\"new\" xlink:title=\"psysml:26edc399-ba1b-4e26-98ec-184b2d561983\" xlink:type=\"simple\"><polygon fill=\"none\" points=\"16,6,130,6,137,28.2969,899,28.2969,899,256,16,256,16,6\" style=\"stroke:#000000;stroke-width:1.5;\"/><line style=\"stroke:#000000;stroke-width:1.5;\" x1=\"16\" x2=\"137\" y1=\"28.2969\" y2=\"28.2969\"/><text fill=\"#000000\" font-family=\"sans-serif\" font-size=\"14\" font-weight=\"bold\" lengthAdjust=\"spacing\" textLength=\"108\" x=\"20\" y=\"20.9951\">MultiplicityTest</text></a></g><!--MD5=[b4997ac47864f28c2f74865a473b2911]\n",
       "class E2--><a href=\"psysml:a78c9232-7355-4122-98e1-61ea033b6fbd\" target=\"_top\" title=\"psysml:a78c9232-7355-4122-98e1-61ea033b6fbd\" xlink:actuate=\"onRequest\" xlink:href=\"psysml:a78c9232-7355-4122-98e1-61ea033b6fbd\" xlink:show=\"new\" xlink:title=\"psysml:a78c9232-7355-4122-98e1-61ea033b6fbd\" xlink:type=\"simple\"><g id=\"elem_E2\"><rect fill=\"#FFFFFF\" height=\"48.2656\" id=\"E2\" style=\"stroke:#181818;stroke-width:0.5;\" width=\"70\" x=\"559\" y=\"192\"/><text fill=\"#000000\" font-family=\"sans-serif\" font-size=\"12\" font-style=\"italic\" lengthAdjust=\"spacing\" textLength=\"68\" x=\"560\" y=\"208.1387\">«part  def»</text><text fill=\"#000000\" font-family=\"sans-serif\" font-size=\"14\" lengthAdjust=\"spacing\" textLength=\"9\" x=\"589.5\" y=\"223.9639\">P</text><line style=\"stroke:#181818;stroke-width:0.5;\" x1=\"560\" x2=\"628\" y1=\"232.2656\" y2=\"232.2656\"/></g></a><!--MD5=[09b614a08d8cba4a07c9adeb5e0fee81]\n",
       "class E3--><a href=\"psysml:6e5bcad0-e721-42f0-8965-8cf810de127c\" target=\"_top\" title=\"psysml:6e5bcad0-e721-42f0-8965-8cf810de127c\" xlink:actuate=\"onRequest\" xlink:href=\"psysml:6e5bcad0-e721-42f0-8965-8cf810de127c\" xlink:show=\"new\" xlink:title=\"psysml:6e5bcad0-e721-42f0-8965-8cf810de127c\" xlink:type=\"simple\"><g id=\"elem_E3\"><rect fill=\"#FFFFFF\" height=\"75.0813\" id=\"E3\" rx=\"10\" ry=\"10\" style=\"stroke:#181818;stroke-width:0.5;\" width=\"81\" x=\"801.5\" y=\"49\"/><text fill=\"#000000\" font-family=\"sans-serif\" font-size=\"12\" font-style=\"italic\" lengthAdjust=\"spacing\" textLength=\"69\" x=\"807.5\" y=\"65.1387\">«attribute»</text><text fill=\"#000000\" font-family=\"sans-serif\" font-size=\"14\" lengthAdjust=\"spacing\" textLength=\"67\" x=\"804.5\" y=\"80.9639\">n: Integer</text><line style=\"stroke:#181818;stroke-width:0.5;\" x1=\"802.5\" x2=\"881.5\" y1=\"89.2656\" y2=\"89.2656\"/><text fill=\"#000000\" font-family=\"sans-serif\" font-size=\"14\" lengthAdjust=\"spacing\" textLength=\"25\" x=\"807.5\" y=\"116.7795\">= 5</text><text fill=\"#000000\" font-family=\"sans-serif\" font-size=\"14\" font-style=\"italic\" lengthAdjust=\"spacing\" textLength=\"44\" x=\"820\" y=\"101.6123\">values</text></g></a><!--MD5=[ebbe1d658d1005bcc118a6aa81145e00]\n",
       "class E4--><a href=\"psysml:58ca86c4-6609-462b-9948-87aadb08d281\" target=\"_top\" title=\"psysml:58ca86c4-6609-462b-9948-87aadb08d281\" xlink:actuate=\"onRequest\" xlink:href=\"psysml:58ca86c4-6609-462b-9948-87aadb08d281\" xlink:show=\"new\" xlink:title=\"psysml:58ca86c4-6609-462b-9948-87aadb08d281\" xlink:type=\"simple\"><g id=\"elem_E4\"><rect fill=\"#FFFFFF\" height=\"48.2656\" id=\"E4\" rx=\"10\" ry=\"10\" style=\"stroke:#181818;stroke-width:0.5;\" width=\"42\" x=\"724\" y=\"62.5\"/><text fill=\"#000000\" font-family=\"sans-serif\" font-size=\"12\" font-style=\"italic\" lengthAdjust=\"spacing\" textLength=\"40\" x=\"725\" y=\"78.6387\">«part»</text><text fill=\"#000000\" font-family=\"sans-serif\" font-size=\"14\" lengthAdjust=\"spacing\" textLength=\"27\" x=\"727.5\" y=\"94.4639\">a[1]</text><line style=\"stroke:#181818;stroke-width:0.5;\" x1=\"725\" x2=\"765\" y1=\"102.7656\" y2=\"102.7656\"/></g></a><!--MD5=[270fce915f116d4de14055a7c1d9a0f3]\n",
       "class E5--><a href=\"psysml:8959fced-ddce-434c-832c-e17faa00a5de\" target=\"_top\" title=\"psysml:8959fced-ddce-434c-832c-e17faa00a5de\" xlink:actuate=\"onRequest\" xlink:href=\"psysml:8959fced-ddce-434c-832c-e17faa00a5de\" xlink:show=\"new\" xlink:title=\"psysml:8959fced-ddce-434c-832c-e17faa00a5de\" xlink:type=\"simple\"><g id=\"elem_E5\"><rect fill=\"#FFFFFF\" height=\"48.2656\" id=\"E5\" rx=\"10\" ry=\"10\" style=\"stroke:#181818;stroke-width:0.5;\" width=\"77\" x=\"611.5\" y=\"62.5\"/><text fill=\"#000000\" font-family=\"sans-serif\" font-size=\"12\" font-style=\"italic\" lengthAdjust=\"spacing\" textLength=\"40\" x=\"630\" y=\"78.6387\">«part»</text><text fill=\"#000000\" font-family=\"sans-serif\" font-size=\"14\" lengthAdjust=\"spacing\" textLength=\"63\" x=\"614.5\" y=\"94.4639\">b: P[0..2]</text><line style=\"stroke:#181818;stroke-width:0.5;\" x1=\"612.5\" x2=\"687.5\" y1=\"102.7656\" y2=\"102.7656\"/></g></a><!--MD5=[60a26617385b1d2d0262a64233df1f8d]\n",
       "class E6--><a href=\"psysml:4ac8fd09-bbc3-4ec3-ba18-7592ef56bccd\" target=\"_top\" title=\"psysml:4ac8fd09-bbc3-4ec3-ba18-7592ef56bccd\" xlink:actuate=\"onRequest\" xlink:href=\"psysml:4ac8fd09-bbc3-4ec3-ba18-7592ef56bccd\" xlink:show=\"new\" xlink:title=\"psysml:4ac8fd09-bbc3-4ec3-ba18-7592ef56bccd\" xlink:type=\"simple\"><g id=\"elem_E6\"><rect fill=\"#FFFFFF\" height=\"48.2656\" id=\"E6\" rx=\"10\" ry=\"10\" style=\"stroke:#181818;stroke-width:0.5;\" width=\"74\" x=\"502\" y=\"62.5\"/><text fill=\"#000000\" font-family=\"sans-serif\" font-size=\"12\" font-style=\"italic\" lengthAdjust=\"spacing\" textLength=\"40\" x=\"519\" y=\"78.6387\">«part»</text><text fill=\"#000000\" font-family=\"sans-serif\" font-size=\"14\" lengthAdjust=\"spacing\" textLength=\"60\" x=\"505\" y=\"94.4639\">c: P[2..*]</text><line style=\"stroke:#181818;stroke-width:0.5;\" x1=\"503\" x2=\"575\" y1=\"102.7656\" y2=\"102.7656\"/></g></a><!--MD5=[2156ba9850f5573cc1fc38a6a4b2f02b]\n",
       "class E7--><a href=\"psysml:58aa0206-e878-4c1d-8c3a-c879ca6e4b13\" target=\"_top\" title=\"psysml:58aa0206-e878-4c1d-8c3a-c879ca6e4b13\" xlink:actuate=\"onRequest\" xlink:href=\"psysml:58aa0206-e878-4c1d-8c3a-c879ca6e4b13\" xlink:show=\"new\" xlink:title=\"psysml:58aa0206-e878-4c1d-8c3a-c879ca6e4b13\" xlink:type=\"simple\"><g id=\"elem_E7\"><rect fill=\"#FFFFFF\" height=\"48.2656\" id=\"E7\" rx=\"10\" ry=\"10\" style=\"stroke:#181818;stroke-width:0.5;\" width=\"42\" x=\"425\" y=\"62.5\"/><text fill=\"#000000\" font-family=\"sans-serif\" font-size=\"12\" font-style=\"italic\" lengthAdjust=\"spacing\" textLength=\"40\" x=\"426\" y=\"78.6387\">«part»</text><text fill=\"#000000\" font-family=\"sans-serif\" font-size=\"14\" lengthAdjust=\"spacing\" textLength=\"26\" x=\"429\" y=\"94.4639\">d[*]</text><line style=\"stroke:#181818;stroke-width:0.5;\" x1=\"426\" x2=\"466\" y1=\"102.7656\" y2=\"102.7656\"/></g></a><!--MD5=[b9389687b975829384b498ac4b7476b2]\n",
       "class E8--><a href=\"psysml:21978b5e-874b-4020-b12b-41f872f49c78\" target=\"_top\" title=\"psysml:21978b5e-874b-4020-b12b-41f872f49c78\" xlink:actuate=\"onRequest\" xlink:href=\"psysml:21978b5e-874b-4020-b12b-41f872f49c78\" xlink:show=\"new\" xlink:title=\"psysml:21978b5e-874b-4020-b12b-41f872f49c78\" xlink:type=\"simple\"><g id=\"elem_E8\"><rect fill=\"#FFFFFF\" height=\"48.2656\" id=\"E8\" rx=\"10\" ry=\"10\" style=\"stroke:#181818;stroke-width:0.5;\" width=\"42\" x=\"348\" y=\"62.5\"/><text fill=\"#000000\" font-family=\"sans-serif\" font-size=\"12\" font-style=\"italic\" lengthAdjust=\"spacing\" textLength=\"40\" x=\"349\" y=\"78.6387\">«part»</text><text fill=\"#000000\" font-family=\"sans-serif\" font-size=\"14\" lengthAdjust=\"spacing\" textLength=\"28\" x=\"351\" y=\"94.4639\">e[n]</text><line style=\"stroke:#181818;stroke-width:0.5;\" x1=\"349\" x2=\"389\" y1=\"102.7656\" y2=\"102.7656\"/></g></a><!--MD5=[fd4143e9d270a159db93a4ea2a975926]\n",
       "class E9--><a href=\"psysml:79f00190-11a9-479d-9f29-e880a27768bf\" target=\"_top\" title=\"psysml:79f00190-11a9-479d-9f29-e880a27768bf\" xlink:actuate=\"onRequest\" xlink:href=\"psysml:79f00190-11a9-479d-9f29-e880a27768bf\" xlink:show=\"new\" xlink:title=\"psysml:79f00190-11a9-479d-9f29-e880a27768bf\" xlink:type=\"simple\"><g id=\"elem_E9\"><rect fill=\"#FFFFFF\" height=\"48.2656\" id=\"E9\" rx=\"10\" ry=\"10\" style=\"stroke:#181818;stroke-width:0.5;\" width=\"52\" x=\"261\" y=\"62.5\"/><text fill=\"#000000\" font-family=\"sans-serif\" font-size=\"12\" font-style=\"italic\" lengthAdjust=\"spacing\" textLength=\"40\" x=\"267\" y=\"78.6387\">«part»</text><text fill=\"#000000\" font-family=\"sans-serif\" font-size=\"14\" lengthAdjust=\"spacing\" textLength=\"38\" x=\"264\" y=\"94.4639\">f[n..*]</text><line style=\"stroke:#181818;stroke-width:0.5;\" x1=\"262\" x2=\"312\" y1=\"102.7656\" y2=\"102.7656\"/></g></a><!--MD5=[96f4274e9e20536e775497830990834d]\n",
       "class E10--><a href=\"psysml:3e79cc57-1ff4-4d61-ad54-8c0f8362d5da\" target=\"_top\" title=\"psysml:3e79cc57-1ff4-4d61-ad54-8c0f8362d5da\" xlink:actuate=\"onRequest\" xlink:href=\"psysml:3e79cc57-1ff4-4d61-ad54-8c0f8362d5da\" xlink:show=\"new\" xlink:title=\"psysml:3e79cc57-1ff4-4d61-ad54-8c0f8362d5da\" xlink:type=\"simple\"><g id=\"elem_E10\"><rect fill=\"#FFFFFF\" height=\"48.2656\" id=\"E10\" rx=\"10\" ry=\"10\" style=\"stroke:#181818;stroke-width:0.5;\" width=\"59\" x=\"166.5\" y=\"62.5\"/><text fill=\"#000000\" font-family=\"sans-serif\" font-size=\"12\" font-style=\"italic\" lengthAdjust=\"spacing\" textLength=\"40\" x=\"176\" y=\"78.6387\">«part»</text><text fill=\"#000000\" font-family=\"sans-serif\" font-size=\"14\" lengthAdjust=\"spacing\" textLength=\"45\" x=\"169.5\" y=\"94.4639\">g[1..n]</text><line style=\"stroke:#181818;stroke-width:0.5;\" x1=\"167.5\" x2=\"224.5\" y1=\"102.7656\" y2=\"102.7656\"/></g></a><!--MD5=[1dd1bfd58a279cf63c5f349dbc8fc6a1]\n",
       "class E11--><a href=\"psysml:cae84388-2b2f-4b61-9caf-e3201f6c4bb4\" target=\"_top\" title=\"psysml:cae84388-2b2f-4b61-9caf-e3201f6c4bb4\" xlink:actuate=\"onRequest\" xlink:href=\"psysml:cae84388-2b2f-4b61-9caf-e3201f6c4bb4\" xlink:show=\"new\" xlink:title=\"psysml:cae84388-2b2f-4b61-9caf-e3201f6c4bb4\" xlink:type=\"simple\"><g id=\"elem_E11\"><rect fill=\"#FFFFFF\" height=\"91.3781\" id=\"E11\" style=\"stroke:#181818;stroke-width:0.5;\" width=\"99\" x=\"32.5\" y=\"41\"/><text fill=\"#000000\" font-family=\"sans-serif\" font-size=\"12\" font-style=\"italic\" lengthAdjust=\"spacing\" textLength=\"97\" x=\"33.5\" y=\"57.1387\">«attribute  def»</text><text fill=\"#000000\" font-family=\"sans-serif\" font-size=\"14\" lengthAdjust=\"spacing\" textLength=\"9\" x=\"77.5\" y=\"72.9639\">A</text><line style=\"stroke:#181818;stroke-width:0.5;\" x1=\"33.5\" x2=\"130.5\" y1=\"81.2656\" y2=\"81.2656\"/><text fill=\"#000000\" font-family=\"sans-serif\" font-size=\"14\" lengthAdjust=\"spacing\" textLength=\"61\" x=\"38.5\" y=\"108.7795\">i: Integer</text><text fill=\"#000000\" font-family=\"sans-serif\" font-size=\"14\" lengthAdjust=\"spacing\" textLength=\"25\" x=\"38.5\" y=\"125.0764\">x: A</text><text fill=\"#000000\" font-family=\"sans-serif\" font-size=\"14\" font-style=\"italic\" lengthAdjust=\"spacing\" textLength=\"66\" x=\"49\" y=\"93.6123\">attributes</text></g></a><!--MD5=[15ebcb19ae302d9b601edb458606d402]\n",
       "link E5 to E2--><g id=\"link_E5_E2\"><a href=\"psysml:356b088d-f058-4498-8151-02a64d9c5f99\" target=\"_top\" title=\"psysml:356b088d-f058-4498-8151-02a64d9c5f99\" xlink:actuate=\"onRequest\" xlink:href=\"psysml:356b088d-f058-4498-8151-02a64d9c5f99\" xlink:show=\"new\" xlink:title=\"psysml:356b088d-f058-4498-8151-02a64d9c5f99\" xlink:type=\"simple\"><path d=\"M639.86,110.59 C632.22,127.99 621.53,152.33 612.39,173.13 \" fill=\"none\" id=\"E5-to-E2\" style=\"stroke:#181818;stroke-width:1.0;\"/><polygon fill=\"#FFFFFF\" points=\"604.25,191.65,605.4806,171.439,618.2989,177.0683,604.25,191.65\" style=\"stroke:#181818;stroke-width:1.0;\"/><ellipse cx=\"609.6037\" cy=\"167.0242\" fill=\"#181818\" rx=\"2\" ry=\"2\" style=\"stroke:#181818;stroke-width:1.0;\"/><ellipse cx=\"618.7597\" cy=\"171.0452\" fill=\"#181818\" rx=\"2\" ry=\"2\" style=\"stroke:#181818;stroke-width:1.0;\"/></a></g><!--MD5=[2351f337d6de0f557b50152ba70847b5]\n",
       "link E6 to E2--><g id=\"link_E6_E2\"><a href=\"psysml:849948e9-2a63-47c9-a787-96ae36e28ef0\" target=\"_top\" title=\"psysml:849948e9-2a63-47c9-a787-96ae36e28ef0\" xlink:actuate=\"onRequest\" xlink:href=\"psysml:849948e9-2a63-47c9-a787-96ae36e28ef0\" xlink:show=\"new\" xlink:title=\"psysml:849948e9-2a63-47c9-a787-96ae36e28ef0\" xlink:type=\"simple\"><path d=\"M548.96,110.59 C556.47,127.99 566.97,152.33 575.94,173.13 \" fill=\"none\" id=\"E6-to-E2\" style=\"stroke:#181818;stroke-width:1.0;\"/><polygon fill=\"#FFFFFF\" points=\"583.93,191.65,569.9702,176.9829,582.8226,171.4318,583.93,191.65\" style=\"stroke:#181818;stroke-width:1.0;\"/><ellipse cx=\"569.5462\" cy=\"170.9571\" fill=\"#181818\" rx=\"2\" ry=\"2\" style=\"stroke:#181818;stroke-width:1.0;\"/><ellipse cx=\"578.7265\" cy=\"166.9921\" fill=\"#181818\" rx=\"2\" ry=\"2\" style=\"stroke:#181818;stroke-width:1.0;\"/></a></g><!--MD5=[9176d41ef0fc1546f486fc4ca6191aa4]\n",
       "@startuml\r\n",
       "skin sysmlbw\r\n",
       "skinparam monochrome true\r\n",
       "skinparam wrapWidth 300\r\n",
       "hide circle\r\n",
       "top to bottom direction\r\n",
       "\r\n",
       "package \"MultiplicityTest\" as E1  [[psysml:26edc399-ba1b-4e26-98ec-184b2d561983 ]]  {\r\n",
       "comp def \"P\" as E2  <<(T,blue) part  def>> [[psysml:a78c9232-7355-4122-98e1-61ea033b6fbd ]] {\r\n",
       "}\r\n",
       "comp usage \"n: Integer  \" as E3  <<(T,blue) attribute>> [[psysml:6e5bcad0-e721-42f0-8965-8cf810de127c ]] {\r\n",
       "##//values//##\r\n",
       " <U+003D> 5\r\n",
       "}\r\n",
       "comp usage \"a[1]  \" as E4  <<(T,blue) part>> [[psysml:58ca86c4-6609-462b-9948-87aadb08d281 ]] {\r\n",
       "}\r\n",
       "comp usage \"b: P[0..2]  \" as E5  <<(T,blue) part>> [[psysml:8959fced-ddce-434c-832c-e17faa00a5de ]] {\r\n",
       "}\r\n",
       "comp usage \"c: P[2..*]  \" as E6  <<(T,blue) part>> [[psysml:4ac8fd09-bbc3-4ec3-ba18-7592ef56bccd ]] {\r\n",
       "}\r\n",
       "comp usage \"d[*]  \" as E7  <<(T,blue) part>> [[psysml:58aa0206-e878-4c1d-8c3a-c879ca6e4b13 ]] {\r\n",
       "}\r\n",
       "comp usage \"e[n]  \" as E8  <<(T,blue) part>> [[psysml:21978b5e-874b-4020-b12b-41f872f49c78 ]] {\r\n",
       "}\r\n",
       "comp usage \"f[n..*]  \" as E9  <<(T,blue) part>> [[psysml:79f00190-11a9-479d-9f29-e880a27768bf ]] {\r\n",
       "}\r\n",
       "comp usage \"g[1..n]  \" as E10  <<(T,blue) part>> [[psysml:3e79cc57-1ff4-4d61-ad54-8c0f8362d5da ]] {\r\n",
       "}\r\n",
       "comp def \"A\" as E11  <<(T,blue) attribute  def>> [[psysml:cae84388-2b2f-4b61-9caf-e3201f6c4bb4 ]] {\r\n",
       "##//attributes//##\r\n",
       "i: Integer\r\n",
       "x: A\r\n",
       "}\r\n",
       "}\r\n",
       "E5 - -:|> E2 [[psysml:356b088d-f058-4498-8151-02a64d9c5f99 ]] \r\n",
       "E6 - -:|> E2 [[psysml:849948e9-2a63-47c9-a787-96ae36e28ef0 ]] \r\n",
       "@enduml\r\n",
       "\n",
       "PlantUML version 1.2022.7(Mon Aug 22 17:01:30 UTC 2022)\n",
       "(EPL source distribution)\n",
       "Java Runtime: OpenJDK Runtime Environment\n",
       "JVM: OpenJDK 64-Bit Server VM\n",
       "Default Encoding: UTF-8\n",
       "Language: en\n",
       "Country: null\n",
       "--></g></svg>"
      ]
     },
     "execution_count": 45,
     "metadata": {},
     "output_type": "execute_result"
    }
   ],
   "source": [
    "%viz --style=\"TB\" --view=\"Tree\" \"MultiplicityTest\""
   ]
  },
  {
   "cell_type": "code",
   "execution_count": 46,
   "id": "cd9bd41a",
   "metadata": {
    "execution": {
     "iopub.execute_input": "2024-12-16T03:27:07.598045Z",
     "iopub.status.busy": "2024-12-16T03:27:07.597812Z",
     "iopub.status.idle": "2024-12-16T03:27:07.603279Z",
     "shell.execute_reply": "2024-12-16T03:27:07.603097Z"
    }
   },
   "outputs": [
    {
     "data": {
      "image/svg+xml": [
       "<?xml version=\"1.0\" encoding=\"UTF-8\" standalone=\"no\"?><svg xmlns=\"http://www.w3.org/2000/svg\" xmlns:xlink=\"http://www.w3.org/1999/xlink\" contentStyleType=\"text/css\" height=\"10px\" preserveAspectRatio=\"none\" style=\"width:10px;height:10px;background:#FFFFFF;\" version=\"1.1\" viewBox=\"0 0 10 10\" width=\"10px\" zoomAndPan=\"magnify\"><defs/><g><!--MD5=[457d54036ad86991b1ebb71db2c9a3b1]\n",
       "@startuml\r\n",
       "skin sysmlbw\r\n",
       "skinparam monochrome true\r\n",
       "skinparam wrapWidth 300\r\n",
       "hide circle\r\n",
       "top to bottom direction\r\n",
       "\r\n",
       "@enduml\r\n",
       "\n",
       "PlantUML version 1.2022.7(Mon Aug 22 17:01:30 UTC 2022)\n",
       "(EPL source distribution)\n",
       "Java Runtime: OpenJDK Runtime Environment\n",
       "JVM: OpenJDK 64-Bit Server VM\n",
       "Default Encoding: UTF-8\n",
       "Language: en\n",
       "Country: null\n",
       "--></g></svg>"
      ]
     },
     "execution_count": 46,
     "metadata": {},
     "output_type": "execute_result"
    }
   ],
   "source": [
    "%viz --style=\"TB\" --view=\"State\" \"MultiplicityTest\""
   ]
  },
  {
   "cell_type": "code",
   "execution_count": 47,
   "id": "5c12bb52",
   "metadata": {
    "execution": {
     "iopub.execute_input": "2024-12-16T03:27:07.656838Z",
     "iopub.status.busy": "2024-12-16T03:27:07.656619Z",
     "iopub.status.idle": "2024-12-16T03:27:07.673665Z",
     "shell.execute_reply": "2024-12-16T03:27:07.672888Z"
    }
   },
   "outputs": [
    {
     "data": {
      "image/svg+xml": [
       "<?xml version=\"1.0\" encoding=\"UTF-8\" standalone=\"no\"?><svg xmlns=\"http://www.w3.org/2000/svg\" xmlns:xlink=\"http://www.w3.org/1999/xlink\" contentStyleType=\"text/css\" height=\"194px\" preserveAspectRatio=\"none\" style=\"width:881px;height:194px;background:#FFFFFF;\" version=\"1.1\" viewBox=\"0 0 881 194\" width=\"881px\" zoomAndPan=\"magnify\"><defs/><g><!--MD5=[fbc87193dbaf4d95561dea2c320d4a47]\n",
       "cluster E1--><g id=\"cluster_E1\"><a href=\"psysml:26edc399-ba1b-4e26-98ec-184b2d561983\" target=\"_top\" title=\"psysml:26edc399-ba1b-4e26-98ec-184b2d561983\" xlink:actuate=\"onRequest\" xlink:href=\"psysml:26edc399-ba1b-4e26-98ec-184b2d561983\" xlink:show=\"new\" xlink:title=\"psysml:26edc399-ba1b-4e26-98ec-184b2d561983\" xlink:type=\"simple\"><polygon fill=\"none\" points=\"16,6,130,6,137,28.2969,864,28.2969,864,187,16,187,16,6\" style=\"stroke:#000000;stroke-width:1.5;\"/><line style=\"stroke:#000000;stroke-width:1.5;\" x1=\"16\" x2=\"137\" y1=\"28.2969\" y2=\"28.2969\"/><text fill=\"#000000\" font-family=\"sans-serif\" font-size=\"14\" font-weight=\"bold\" lengthAdjust=\"spacing\" textLength=\"108\" x=\"20\" y=\"20.9951\">MultiplicityTest</text></a></g><!--MD5=[09b614a08d8cba4a07c9adeb5e0fee81]\n",
       "class E3--><a href=\"psysml:6e5bcad0-e721-42f0-8965-8cf810de127c\" target=\"_top\" title=\"psysml:6e5bcad0-e721-42f0-8965-8cf810de127c\" xlink:actuate=\"onRequest\" xlink:href=\"psysml:6e5bcad0-e721-42f0-8965-8cf810de127c\" xlink:show=\"new\" xlink:title=\"psysml:6e5bcad0-e721-42f0-8965-8cf810de127c\" xlink:type=\"simple\"><g id=\"elem_E3\"><rect fill=\"#FFFFFF\" height=\"75.0813\" id=\"E3\" rx=\"10\" ry=\"10\" style=\"stroke:#181818;stroke-width:0.5;\" width=\"81\" x=\"766.5\" y=\"41\"/><text fill=\"#000000\" font-family=\"sans-serif\" font-size=\"12\" font-style=\"italic\" lengthAdjust=\"spacing\" textLength=\"69\" x=\"772.5\" y=\"57.1387\">«attribute»</text><text fill=\"#000000\" font-family=\"sans-serif\" font-size=\"14\" lengthAdjust=\"spacing\" textLength=\"67\" x=\"769.5\" y=\"72.9639\">n: Integer</text><line style=\"stroke:#181818;stroke-width:0.5;\" x1=\"767.5\" x2=\"846.5\" y1=\"81.2656\" y2=\"81.2656\"/><text fill=\"#000000\" font-family=\"sans-serif\" font-size=\"14\" lengthAdjust=\"spacing\" textLength=\"25\" x=\"772.5\" y=\"108.7795\">= 5</text><text fill=\"#000000\" font-family=\"sans-serif\" font-size=\"14\" font-style=\"italic\" lengthAdjust=\"spacing\" textLength=\"44\" x=\"785\" y=\"93.6123\">values</text></g></a><g><a href=\"psysml:cae84388-2b2f-4b61-9caf-e3201f6c4bb4\" target=\"_top\" title=\"psysml:cae84388-2b2f-4b61-9caf-e3201f6c4bb4\" xlink:actuate=\"onRequest\" xlink:href=\"psysml:cae84388-2b2f-4b61-9caf-e3201f6c4bb4\" xlink:show=\"new\" xlink:title=\"psysml:cae84388-2b2f-4b61-9caf-e3201f6c4bb4\" xlink:type=\"simple\"><rect fill=\"#FFFFFF\" height=\"45.2656\" id=\"E11\" style=\"stroke:#383838;stroke-width:1.5;\" width=\"104\" x=\"627\" y=\"56\"/><text fill=\"#000000\" font-family=\"sans-serif\" font-size=\"12\" font-style=\"italic\" lengthAdjust=\"spacing\" textLength=\"97\" x=\"630.5\" y=\"72.1387\">«attribute  def»</text><text fill=\"#000000\" font-family=\"sans-serif\" font-size=\"14\" lengthAdjust=\"spacing\" textLength=\"9\" x=\"674.5\" y=\"87.9639\">A</text></a></g><g><a href=\"psysml:a78c9232-7355-4122-98e1-61ea033b6fbd\" target=\"_top\" title=\"psysml:a78c9232-7355-4122-98e1-61ea033b6fbd\" xlink:actuate=\"onRequest\" xlink:href=\"psysml:a78c9232-7355-4122-98e1-61ea033b6fbd\" xlink:show=\"new\" xlink:title=\"psysml:a78c9232-7355-4122-98e1-61ea033b6fbd\" xlink:type=\"simple\"><rect fill=\"#FFFFFF\" height=\"45.2656\" id=\"E2\" style=\"stroke:#383838;stroke-width:1.5;\" width=\"75\" x=\"401.5\" y=\"126\"/><text fill=\"#000000\" font-family=\"sans-serif\" font-size=\"12\" font-style=\"italic\" lengthAdjust=\"spacing\" textLength=\"68\" x=\"405\" y=\"142.1387\">«part  def»</text><text fill=\"#000000\" font-family=\"sans-serif\" font-size=\"14\" lengthAdjust=\"spacing\" textLength=\"9\" x=\"434.5\" y=\"157.9639\">P</text></a></g><g><a href=\"psysml:58ca86c4-6609-462b-9948-87aadb08d281\" target=\"_top\" title=\"psysml:58ca86c4-6609-462b-9948-87aadb08d281\" xlink:actuate=\"onRequest\" xlink:href=\"psysml:58ca86c4-6609-462b-9948-87aadb08d281\" xlink:show=\"new\" xlink:title=\"psysml:58ca86c4-6609-462b-9948-87aadb08d281\" xlink:type=\"simple\"><rect fill=\"#FFFFFF\" height=\"40\" id=\"E4\" rx=\"10\" ry=\"10\" style=\"stroke:#383838;stroke-width:1.5;\" width=\"50\" x=\"542\" y=\"58.5\"/><text fill=\"#000000\" font-family=\"sans-serif\" font-size=\"14\" lengthAdjust=\"spacing\" textLength=\"8\" x=\"563\" y=\"76.4951\">a</text></a></g><g><a href=\"psysml:8959fced-ddce-434c-832c-e17faa00a5de\" target=\"_top\" title=\"psysml:8959fced-ddce-434c-832c-e17faa00a5de\" xlink:actuate=\"onRequest\" xlink:href=\"psysml:8959fced-ddce-434c-832c-e17faa00a5de\" xlink:show=\"new\" xlink:title=\"psysml:8959fced-ddce-434c-832c-e17faa00a5de\" xlink:type=\"simple\"><rect fill=\"#FFFFFF\" height=\"40\" id=\"E5\" rx=\"10\" ry=\"10\" style=\"stroke:#383838;stroke-width:1.5;\" width=\"50\" x=\"457\" y=\"58.5\"/><text fill=\"#000000\" font-family=\"sans-serif\" font-size=\"14\" lengthAdjust=\"spacing\" textLength=\"27\" x=\"468.5\" y=\"76.4951\">b: P</text></a></g><g><a href=\"psysml:4ac8fd09-bbc3-4ec3-ba18-7592ef56bccd\" target=\"_top\" title=\"psysml:4ac8fd09-bbc3-4ec3-ba18-7592ef56bccd\" xlink:actuate=\"onRequest\" xlink:href=\"psysml:4ac8fd09-bbc3-4ec3-ba18-7592ef56bccd\" xlink:show=\"new\" xlink:title=\"psysml:4ac8fd09-bbc3-4ec3-ba18-7592ef56bccd\" xlink:type=\"simple\"><rect fill=\"#FFFFFF\" height=\"40\" id=\"E6\" rx=\"10\" ry=\"10\" style=\"stroke:#383838;stroke-width:1.5;\" width=\"50\" x=\"372\" y=\"58.5\"/><text fill=\"#000000\" font-family=\"sans-serif\" font-size=\"14\" lengthAdjust=\"spacing\" textLength=\"26\" x=\"384\" y=\"76.4951\">c: P</text></a></g><g><a href=\"psysml:58aa0206-e878-4c1d-8c3a-c879ca6e4b13\" target=\"_top\" title=\"psysml:58aa0206-e878-4c1d-8c3a-c879ca6e4b13\" xlink:actuate=\"onRequest\" xlink:href=\"psysml:58aa0206-e878-4c1d-8c3a-c879ca6e4b13\" xlink:show=\"new\" xlink:title=\"psysml:58aa0206-e878-4c1d-8c3a-c879ca6e4b13\" xlink:type=\"simple\"><rect fill=\"#FFFFFF\" height=\"40\" id=\"E7\" rx=\"10\" ry=\"10\" style=\"stroke:#383838;stroke-width:1.5;\" width=\"50\" x=\"287\" y=\"58.5\"/><text fill=\"#000000\" font-family=\"sans-serif\" font-size=\"14\" lengthAdjust=\"spacing\" textLength=\"9\" x=\"307.5\" y=\"76.4951\">d</text></a></g><g><a href=\"psysml:21978b5e-874b-4020-b12b-41f872f49c78\" target=\"_top\" title=\"psysml:21978b5e-874b-4020-b12b-41f872f49c78\" xlink:actuate=\"onRequest\" xlink:href=\"psysml:21978b5e-874b-4020-b12b-41f872f49c78\" xlink:show=\"new\" xlink:title=\"psysml:21978b5e-874b-4020-b12b-41f872f49c78\" xlink:type=\"simple\"><rect fill=\"#FFFFFF\" height=\"40\" id=\"E8\" rx=\"10\" ry=\"10\" style=\"stroke:#383838;stroke-width:1.5;\" width=\"50\" x=\"202\" y=\"58.5\"/><text fill=\"#000000\" font-family=\"sans-serif\" font-size=\"14\" lengthAdjust=\"spacing\" textLength=\"9\" x=\"222.5\" y=\"76.4951\">e</text></a></g><g><a href=\"psysml:79f00190-11a9-479d-9f29-e880a27768bf\" target=\"_top\" title=\"psysml:79f00190-11a9-479d-9f29-e880a27768bf\" xlink:actuate=\"onRequest\" xlink:href=\"psysml:79f00190-11a9-479d-9f29-e880a27768bf\" xlink:show=\"new\" xlink:title=\"psysml:79f00190-11a9-479d-9f29-e880a27768bf\" xlink:type=\"simple\"><rect fill=\"#FFFFFF\" height=\"40\" id=\"E9\" rx=\"10\" ry=\"10\" style=\"stroke:#383838;stroke-width:1.5;\" width=\"50\" x=\"117\" y=\"58.5\"/><text fill=\"#000000\" font-family=\"sans-serif\" font-size=\"14\" lengthAdjust=\"spacing\" textLength=\"4\" x=\"140\" y=\"76.4951\">f</text></a></g><g><a href=\"psysml:3e79cc57-1ff4-4d61-ad54-8c0f8362d5da\" target=\"_top\" title=\"psysml:3e79cc57-1ff4-4d61-ad54-8c0f8362d5da\" xlink:actuate=\"onRequest\" xlink:href=\"psysml:3e79cc57-1ff4-4d61-ad54-8c0f8362d5da\" xlink:show=\"new\" xlink:title=\"psysml:3e79cc57-1ff4-4d61-ad54-8c0f8362d5da\" xlink:type=\"simple\"><rect fill=\"#FFFFFF\" height=\"40\" id=\"E10\" rx=\"10\" ry=\"10\" style=\"stroke:#383838;stroke-width:1.5;\" width=\"50\" x=\"32\" y=\"58.5\"/><text fill=\"#000000\" font-family=\"sans-serif\" font-size=\"14\" lengthAdjust=\"spacing\" textLength=\"9\" x=\"52.5\" y=\"76.4951\">g</text></a></g><!--MD5=[15ebcb19ae302d9b601edb458606d402]\n",
       "link E5 to E2--><g id=\"link_E5_E2\"><a href=\"psysml:356b088d-f058-4498-8151-02a64d9c5f99\" target=\"_top\" title=\"psysml:356b088d-f058-4498-8151-02a64d9c5f99\" xlink:actuate=\"onRequest\" xlink:href=\"psysml:356b088d-f058-4498-8151-02a64d9c5f99\" xlink:show=\"new\" xlink:title=\"psysml:356b088d-f058-4498-8151-02a64d9c5f99\" xlink:type=\"simple\"><path d=\"M469.79,98.8 C467.78,101.98 465.64,105.38 463.45,108.84 \" fill=\"none\" id=\"E5-to-E2\" style=\"stroke:#181818;stroke-width:1.0;\"/><polygon fill=\"#FFFFFF\" points=\"452.6,126,456.8375,106.1999,468.6706,113.6818,452.6,126\" style=\"stroke:#181818;stroke-width:1.0;\"/><ellipse cx=\"461.5742\" cy=\"102.451\" fill=\"#181818\" rx=\"2\" ry=\"2\" style=\"stroke:#181818;stroke-width:1.0;\"/><ellipse cx=\"470.0263\" cy=\"107.7953\" fill=\"#181818\" rx=\"2\" ry=\"2\" style=\"stroke:#181818;stroke-width:1.0;\"/></a></g><!--MD5=[2351f337d6de0f557b50152ba70847b5]\n",
       "link E6 to E2--><g id=\"link_E6_E2\"><a href=\"psysml:849948e9-2a63-47c9-a787-96ae36e28ef0\" target=\"_top\" title=\"psysml:849948e9-2a63-47c9-a787-96ae36e28ef0\" xlink:actuate=\"onRequest\" xlink:href=\"psysml:849948e9-2a63-47c9-a787-96ae36e28ef0\" xlink:show=\"new\" xlink:title=\"psysml:849948e9-2a63-47c9-a787-96ae36e28ef0\" xlink:type=\"simple\"><path d=\"M408.92,98.8 C410.89,101.98 412.98,105.38 415.12,108.84 \" fill=\"none\" id=\"E6-to-E2\" style=\"stroke:#181818;stroke-width:1.0;\"/><polygon fill=\"#FFFFFF\" points=\"425.72,126,409.7771,113.517,421.6866,106.1573,425.72,126\" style=\"stroke:#181818;stroke-width:1.0;\"/><ellipse cx=\"408.4821\" cy=\"107.6168\" fill=\"#181818\" rx=\"2\" ry=\"2\" style=\"stroke:#181818;stroke-width:1.0;\"/><ellipse cx=\"416.9888\" cy=\"102.3599\" fill=\"#181818\" rx=\"2\" ry=\"2\" style=\"stroke:#181818;stroke-width:1.0;\"/></a></g><!--MD5=[4b4b10fc66cdecb2cbb5b7724a5e99ef]\n",
       "@startuml\r\n",
       "skin sysmlbw\r\n",
       "skinparam monochrome true\r\n",
       "skinparam wrapWidth 300\r\n",
       "hide circle\r\n",
       "top to bottom direction\r\n",
       "skinparam ranksep 10\r\n",
       "skinparam rectangle {\r\n",
       " backgroundColor<<block>> LightGreen\r\n",
       "}\r\n",
       "\r\n",
       "package \"MultiplicityTest\" as E1  [[psysml:26edc399-ba1b-4e26-98ec-184b2d561983 ]]  {\r\n",
       "rec def \"P\" as E2  <<(T,blue) part  def>> [[psysml:a78c9232-7355-4122-98e1-61ea033b6fbd ]] {\r\n",
       "}\r\n",
       "comp usage \"n: Integer  \" as E3  <<(T,blue) attribute>> [[psysml:6e5bcad0-e721-42f0-8965-8cf810de127c ]] {\r\n",
       "##//values//##\r\n",
       " <U+003D> 5\r\n",
       "}\r\n",
       "rec usage \"a\" as E4 [[psysml:58ca86c4-6609-462b-9948-87aadb08d281 ]] {\r\n",
       "}\r\n",
       "rec usage \"b: P\" as E5 [[psysml:8959fced-ddce-434c-832c-e17faa00a5de ]] {\r\n",
       "}\r\n",
       "rec usage \"c: P\" as E6 [[psysml:4ac8fd09-bbc3-4ec3-ba18-7592ef56bccd ]] {\r\n",
       "}\r\n",
       "rec usage \"d\" as E7 [[psysml:58aa0206-e878-4c1d-8c3a-c879ca6e4b13 ]] {\r\n",
       "}\r\n",
       "rec usage \"e\" as E8 [[psysml:21978b5e-874b-4020-b12b-41f872f49c78 ]] {\r\n",
       "}\r\n",
       "rec usage \"f\" as E9 [[psysml:79f00190-11a9-479d-9f29-e880a27768bf ]] {\r\n",
       "}\r\n",
       "rec usage \"g\" as E10 [[psysml:3e79cc57-1ff4-4d61-ad54-8c0f8362d5da ]] {\r\n",
       "}\r\n",
       "def \"A\" as E11  <<(T,blue) attribute  def>> [[psysml:cae84388-2b2f-4b61-9caf-e3201f6c4bb4 ]] \r\n",
       "}\r\n",
       "E5 - -:|> E2 [[psysml:356b088d-f058-4498-8151-02a64d9c5f99 ]] \r\n",
       "E6 - -:|> E2 [[psysml:849948e9-2a63-47c9-a787-96ae36e28ef0 ]] \r\n",
       "@enduml\r\n",
       "\n",
       "PlantUML version 1.2022.7(Mon Aug 22 17:01:30 UTC 2022)\n",
       "(EPL source distribution)\n",
       "Java Runtime: OpenJDK Runtime Environment\n",
       "JVM: OpenJDK 64-Bit Server VM\n",
       "Default Encoding: UTF-8\n",
       "Language: en\n",
       "Country: null\n",
       "--></g></svg>"
      ]
     },
     "execution_count": 47,
     "metadata": {},
     "output_type": "execute_result"
    }
   ],
   "source": [
    "%viz --style=\"TB\" --view=\"Interconnection\" \"MultiplicityTest\""
   ]
  },
  {
   "cell_type": "code",
   "execution_count": 48,
   "id": "9c4ee58f",
   "metadata": {
    "execution": {
     "iopub.execute_input": "2024-12-16T03:27:07.728745Z",
     "iopub.status.busy": "2024-12-16T03:27:07.728518Z",
     "iopub.status.idle": "2024-12-16T03:27:07.733917Z",
     "shell.execute_reply": "2024-12-16T03:27:07.733733Z"
    }
   },
   "outputs": [
    {
     "data": {
      "image/svg+xml": [
       "<?xml version=\"1.0\" encoding=\"UTF-8\" standalone=\"no\"?><svg xmlns=\"http://www.w3.org/2000/svg\" xmlns:xlink=\"http://www.w3.org/1999/xlink\" contentStyleType=\"text/css\" height=\"10px\" preserveAspectRatio=\"none\" style=\"width:10px;height:10px;background:#FFFFFF;\" version=\"1.1\" viewBox=\"0 0 10 10\" width=\"10px\" zoomAndPan=\"magnify\"><defs/><g><!--MD5=[c8dde5d066d102a500cd081cce1d9948]\n",
       "@startuml\r\n",
       "skin sysmlbw\r\n",
       "skinparam monochrome true\r\n",
       "skinparam wrapWidth 300\r\n",
       "hide circle\r\n",
       "top to bottom direction\r\n",
       "skinparam ranksep 8\r\n",
       "\r\n",
       "@enduml\r\n",
       "\n",
       "PlantUML version 1.2022.7(Mon Aug 22 17:01:30 UTC 2022)\n",
       "(EPL source distribution)\n",
       "Java Runtime: OpenJDK Runtime Environment\n",
       "JVM: OpenJDK 64-Bit Server VM\n",
       "Default Encoding: UTF-8\n",
       "Language: en\n",
       "Country: null\n",
       "--></g></svg>"
      ]
     },
     "execution_count": 48,
     "metadata": {},
     "output_type": "execute_result"
    }
   ],
   "source": [
    "%viz --style=\"TB\" --view=\"Action\" \"MultiplicityTest\""
   ]
  },
  {
   "cell_type": "code",
   "execution_count": 49,
   "id": "10a673ab",
   "metadata": {
    "execution": {
     "iopub.execute_input": "2024-12-16T03:27:07.785215Z",
     "iopub.status.busy": "2024-12-16T03:27:07.784983Z",
     "iopub.status.idle": "2024-12-16T03:27:07.791066Z",
     "shell.execute_reply": "2024-12-16T03:27:07.790888Z"
    }
   },
   "outputs": [
    {
     "data": {
      "image/svg+xml": [
       "<?xml version=\"1.0\" encoding=\"UTF-8\" standalone=\"no\"?><svg xmlns=\"http://www.w3.org/2000/svg\" xmlns:xlink=\"http://www.w3.org/1999/xlink\" contentStyleType=\"text/css\" height=\"10px\" preserveAspectRatio=\"none\" style=\"width:10px;height:10px;background:#FFFFFF;\" version=\"1.1\" viewBox=\"0 0 10 10\" width=\"10px\" zoomAndPan=\"magnify\"><defs/><g><!--MD5=[228a58293b408a2cee091b1559da5a28]\n",
       "@startuml\r\n",
       "skin sysmlbw\r\n",
       "skinparam monochrome true\r\n",
       "skinparam wrapWidth 300\r\n",
       "hide circle\r\n",
       "top to bottom direction\r\n",
       "skinparam roundcorner 20\r\n",
       "skinparam BoxPadding 20\r\n",
       "skinparam SequenceBoxBackgroundColor #white\r\n",
       "skinparam style strictuml\r\n",
       "skinparam maxMessageSize 100\r\n",
       "\r\n",
       "@enduml\r\n",
       "\n",
       "PlantUML version 1.2022.7(Mon Aug 22 17:01:30 UTC 2022)\n",
       "(EPL source distribution)\n",
       "Java Runtime: OpenJDK Runtime Environment\n",
       "JVM: OpenJDK 64-Bit Server VM\n",
       "Default Encoding: UTF-8\n",
       "Language: en\n",
       "Country: null\n",
       "--></g></svg>"
      ]
     },
     "execution_count": 49,
     "metadata": {},
     "output_type": "execute_result"
    }
   ],
   "source": [
    "%viz --style=\"TB\" --view=\"Sequence\" \"MultiplicityTest\""
   ]
  },
  {
   "cell_type": "code",
   "execution_count": 50,
   "id": "b3df28b7",
   "metadata": {
    "execution": {
     "iopub.execute_input": "2024-12-16T03:27:07.846466Z",
     "iopub.status.busy": "2024-12-16T03:27:07.846253Z",
     "iopub.status.idle": "2024-12-16T03:27:07.867998Z",
     "shell.execute_reply": "2024-12-16T03:27:07.867146Z"
    }
   },
   "outputs": [
    {
     "data": {
      "image/svg+xml": [
       "<?xml version=\"1.0\" encoding=\"UTF-8\" standalone=\"no\"?><svg xmlns=\"http://www.w3.org/2000/svg\" xmlns:xlink=\"http://www.w3.org/1999/xlink\" contentStyleType=\"text/css\" height=\"263px\" preserveAspectRatio=\"none\" style=\"width:821px;height:263px;background:#FFFFFF;\" version=\"1.1\" viewBox=\"0 0 821 263\" width=\"821px\" zoomAndPan=\"magnify\"><defs/><g><!--MD5=[fbc87193dbaf4d95561dea2c320d4a47]\n",
       "cluster E1--><g id=\"cluster_E1\"><a href=\"psysml:26edc399-ba1b-4e26-98ec-184b2d561983\" target=\"_top\" title=\"psysml:26edc399-ba1b-4e26-98ec-184b2d561983\" xlink:actuate=\"onRequest\" xlink:href=\"psysml:26edc399-ba1b-4e26-98ec-184b2d561983\" xlink:show=\"new\" xlink:title=\"psysml:26edc399-ba1b-4e26-98ec-184b2d561983\" xlink:type=\"simple\"><polygon fill=\"none\" points=\"16,6,130,6,137,28.2969,804,28.2969,804,256,16,256,16,6\" style=\"stroke:#000000;stroke-width:1.5;\"/><line style=\"stroke:#000000;stroke-width:1.5;\" x1=\"16\" x2=\"137\" y1=\"28.2969\" y2=\"28.2969\"/><text fill=\"#000000\" font-family=\"sans-serif\" font-size=\"14\" font-weight=\"bold\" lengthAdjust=\"spacing\" textLength=\"108\" x=\"20\" y=\"20.9951\">MultiplicityTest</text></a></g><!--MD5=[b4997ac47864f28c2f74865a473b2911]\n",
       "class E2--><a href=\"psysml:a78c9232-7355-4122-98e1-61ea033b6fbd\" target=\"_top\" title=\"psysml:a78c9232-7355-4122-98e1-61ea033b6fbd\" xlink:actuate=\"onRequest\" xlink:href=\"psysml:a78c9232-7355-4122-98e1-61ea033b6fbd\" xlink:show=\"new\" xlink:title=\"psysml:a78c9232-7355-4122-98e1-61ea033b6fbd\" xlink:type=\"simple\"><g id=\"elem_E2\"><rect fill=\"#FFFFFF\" height=\"48.2656\" id=\"E2\" style=\"stroke:#181818;stroke-width:0.5;\" width=\"70\" x=\"499\" y=\"192\"/><text fill=\"#000000\" font-family=\"sans-serif\" font-size=\"12\" font-style=\"italic\" lengthAdjust=\"spacing\" textLength=\"68\" x=\"500\" y=\"208.1387\">«part  def»</text><text fill=\"#000000\" font-family=\"sans-serif\" font-size=\"14\" lengthAdjust=\"spacing\" textLength=\"9\" x=\"529.5\" y=\"223.9639\">P</text><line style=\"stroke:#181818;stroke-width:0.5;\" x1=\"500\" x2=\"568\" y1=\"232.2656\" y2=\"232.2656\"/></g></a><!--MD5=[09b614a08d8cba4a07c9adeb5e0fee81]\n",
       "class E3--><a href=\"psysml:6e5bcad0-e721-42f0-8965-8cf810de127c\" target=\"_top\" title=\"psysml:6e5bcad0-e721-42f0-8965-8cf810de127c\" xlink:actuate=\"onRequest\" xlink:href=\"psysml:6e5bcad0-e721-42f0-8965-8cf810de127c\" xlink:show=\"new\" xlink:title=\"psysml:6e5bcad0-e721-42f0-8965-8cf810de127c\" xlink:type=\"simple\"><g id=\"elem_E3\"><rect fill=\"#FFFFFF\" height=\"75.0813\" id=\"E3\" rx=\"10\" ry=\"10\" style=\"stroke:#181818;stroke-width:0.5;\" width=\"81\" x=\"706.5\" y=\"49\"/><text fill=\"#000000\" font-family=\"sans-serif\" font-size=\"12\" font-style=\"italic\" lengthAdjust=\"spacing\" textLength=\"69\" x=\"712.5\" y=\"65.1387\">«attribute»</text><text fill=\"#000000\" font-family=\"sans-serif\" font-size=\"14\" lengthAdjust=\"spacing\" textLength=\"67\" x=\"709.5\" y=\"80.9639\">n: Integer</text><line style=\"stroke:#181818;stroke-width:0.5;\" x1=\"707.5\" x2=\"786.5\" y1=\"89.2656\" y2=\"89.2656\"/><text fill=\"#000000\" font-family=\"sans-serif\" font-size=\"14\" lengthAdjust=\"spacing\" textLength=\"25\" x=\"712.5\" y=\"116.7795\">= 5</text><text fill=\"#000000\" font-family=\"sans-serif\" font-size=\"14\" font-style=\"italic\" lengthAdjust=\"spacing\" textLength=\"44\" x=\"725\" y=\"101.6123\">values</text></g></a><!--MD5=[ebbe1d658d1005bcc118a6aa81145e00]\n",
       "class E4--><a href=\"psysml:58ca86c4-6609-462b-9948-87aadb08d281\" target=\"_top\" title=\"psysml:58ca86c4-6609-462b-9948-87aadb08d281\" xlink:actuate=\"onRequest\" xlink:href=\"psysml:58ca86c4-6609-462b-9948-87aadb08d281\" xlink:show=\"new\" xlink:title=\"psysml:58ca86c4-6609-462b-9948-87aadb08d281\" xlink:type=\"simple\"><g id=\"elem_E4\"><rect fill=\"#FFFFFF\" height=\"48.2656\" id=\"E4\" rx=\"10\" ry=\"10\" style=\"stroke:#181818;stroke-width:0.5;\" width=\"42\" x=\"629\" y=\"62.5\"/><text fill=\"#000000\" font-family=\"sans-serif\" font-size=\"12\" font-style=\"italic\" lengthAdjust=\"spacing\" textLength=\"40\" x=\"630\" y=\"78.6387\">«part»</text><text fill=\"#000000\" font-family=\"sans-serif\" font-size=\"14\" lengthAdjust=\"spacing\" textLength=\"8\" x=\"642\" y=\"94.4639\">a</text><line style=\"stroke:#181818;stroke-width:0.5;\" x1=\"630\" x2=\"670\" y1=\"102.7656\" y2=\"102.7656\"/></g></a><!--MD5=[270fce915f116d4de14055a7c1d9a0f3]\n",
       "class E5--><a href=\"psysml:8959fced-ddce-434c-832c-e17faa00a5de\" target=\"_top\" title=\"psysml:8959fced-ddce-434c-832c-e17faa00a5de\" xlink:actuate=\"onRequest\" xlink:href=\"psysml:8959fced-ddce-434c-832c-e17faa00a5de\" xlink:show=\"new\" xlink:title=\"psysml:8959fced-ddce-434c-832c-e17faa00a5de\" xlink:type=\"simple\"><g id=\"elem_E5\"><rect fill=\"#FFFFFF\" height=\"48.2656\" id=\"E5\" rx=\"10\" ry=\"10\" style=\"stroke:#181818;stroke-width:0.5;\" width=\"42\" x=\"552\" y=\"62.5\"/><text fill=\"#000000\" font-family=\"sans-serif\" font-size=\"12\" font-style=\"italic\" lengthAdjust=\"spacing\" textLength=\"40\" x=\"553\" y=\"78.6387\">«part»</text><text fill=\"#000000\" font-family=\"sans-serif\" font-size=\"14\" lengthAdjust=\"spacing\" textLength=\"27\" x=\"555.5\" y=\"94.4639\">b: P</text><line style=\"stroke:#181818;stroke-width:0.5;\" x1=\"553\" x2=\"593\" y1=\"102.7656\" y2=\"102.7656\"/></g></a><!--MD5=[60a26617385b1d2d0262a64233df1f8d]\n",
       "class E6--><a href=\"psysml:4ac8fd09-bbc3-4ec3-ba18-7592ef56bccd\" target=\"_top\" title=\"psysml:4ac8fd09-bbc3-4ec3-ba18-7592ef56bccd\" xlink:actuate=\"onRequest\" xlink:href=\"psysml:4ac8fd09-bbc3-4ec3-ba18-7592ef56bccd\" xlink:show=\"new\" xlink:title=\"psysml:4ac8fd09-bbc3-4ec3-ba18-7592ef56bccd\" xlink:type=\"simple\"><g id=\"elem_E6\"><rect fill=\"#FFFFFF\" height=\"48.2656\" id=\"E6\" rx=\"10\" ry=\"10\" style=\"stroke:#181818;stroke-width:0.5;\" width=\"42\" x=\"475\" y=\"62.5\"/><text fill=\"#000000\" font-family=\"sans-serif\" font-size=\"12\" font-style=\"italic\" lengthAdjust=\"spacing\" textLength=\"40\" x=\"476\" y=\"78.6387\">«part»</text><text fill=\"#000000\" font-family=\"sans-serif\" font-size=\"14\" lengthAdjust=\"spacing\" textLength=\"26\" x=\"479\" y=\"94.4639\">c: P</text><line style=\"stroke:#181818;stroke-width:0.5;\" x1=\"476\" x2=\"516\" y1=\"102.7656\" y2=\"102.7656\"/></g></a><!--MD5=[2156ba9850f5573cc1fc38a6a4b2f02b]\n",
       "class E7--><a href=\"psysml:58aa0206-e878-4c1d-8c3a-c879ca6e4b13\" target=\"_top\" title=\"psysml:58aa0206-e878-4c1d-8c3a-c879ca6e4b13\" xlink:actuate=\"onRequest\" xlink:href=\"psysml:58aa0206-e878-4c1d-8c3a-c879ca6e4b13\" xlink:show=\"new\" xlink:title=\"psysml:58aa0206-e878-4c1d-8c3a-c879ca6e4b13\" xlink:type=\"simple\"><g id=\"elem_E7\"><rect fill=\"#FFFFFF\" height=\"48.2656\" id=\"E7\" rx=\"10\" ry=\"10\" style=\"stroke:#181818;stroke-width:0.5;\" width=\"42\" x=\"398\" y=\"62.5\"/><text fill=\"#000000\" font-family=\"sans-serif\" font-size=\"12\" font-style=\"italic\" lengthAdjust=\"spacing\" textLength=\"40\" x=\"399\" y=\"78.6387\">«part»</text><text fill=\"#000000\" font-family=\"sans-serif\" font-size=\"14\" lengthAdjust=\"spacing\" textLength=\"9\" x=\"410.5\" y=\"94.4639\">d</text><line style=\"stroke:#181818;stroke-width:0.5;\" x1=\"399\" x2=\"439\" y1=\"102.7656\" y2=\"102.7656\"/></g></a><!--MD5=[b9389687b975829384b498ac4b7476b2]\n",
       "class E8--><a href=\"psysml:21978b5e-874b-4020-b12b-41f872f49c78\" target=\"_top\" title=\"psysml:21978b5e-874b-4020-b12b-41f872f49c78\" xlink:actuate=\"onRequest\" xlink:href=\"psysml:21978b5e-874b-4020-b12b-41f872f49c78\" xlink:show=\"new\" xlink:title=\"psysml:21978b5e-874b-4020-b12b-41f872f49c78\" xlink:type=\"simple\"><g id=\"elem_E8\"><rect fill=\"#FFFFFF\" height=\"48.2656\" id=\"E8\" rx=\"10\" ry=\"10\" style=\"stroke:#181818;stroke-width:0.5;\" width=\"42\" x=\"321\" y=\"62.5\"/><text fill=\"#000000\" font-family=\"sans-serif\" font-size=\"12\" font-style=\"italic\" lengthAdjust=\"spacing\" textLength=\"40\" x=\"322\" y=\"78.6387\">«part»</text><text fill=\"#000000\" font-family=\"sans-serif\" font-size=\"14\" lengthAdjust=\"spacing\" textLength=\"9\" x=\"333.5\" y=\"94.4639\">e</text><line style=\"stroke:#181818;stroke-width:0.5;\" x1=\"322\" x2=\"362\" y1=\"102.7656\" y2=\"102.7656\"/></g></a><!--MD5=[fd4143e9d270a159db93a4ea2a975926]\n",
       "class E9--><a href=\"psysml:79f00190-11a9-479d-9f29-e880a27768bf\" target=\"_top\" title=\"psysml:79f00190-11a9-479d-9f29-e880a27768bf\" xlink:actuate=\"onRequest\" xlink:href=\"psysml:79f00190-11a9-479d-9f29-e880a27768bf\" xlink:show=\"new\" xlink:title=\"psysml:79f00190-11a9-479d-9f29-e880a27768bf\" xlink:type=\"simple\"><g id=\"elem_E9\"><rect fill=\"#FFFFFF\" height=\"48.2656\" id=\"E9\" rx=\"10\" ry=\"10\" style=\"stroke:#181818;stroke-width:0.5;\" width=\"42\" x=\"244\" y=\"62.5\"/><text fill=\"#000000\" font-family=\"sans-serif\" font-size=\"12\" font-style=\"italic\" lengthAdjust=\"spacing\" textLength=\"40\" x=\"245\" y=\"78.6387\">«part»</text><text fill=\"#000000\" font-family=\"sans-serif\" font-size=\"14\" lengthAdjust=\"spacing\" textLength=\"4\" x=\"259\" y=\"94.4639\">f</text><line style=\"stroke:#181818;stroke-width:0.5;\" x1=\"245\" x2=\"285\" y1=\"102.7656\" y2=\"102.7656\"/></g></a><!--MD5=[96f4274e9e20536e775497830990834d]\n",
       "class E10--><a href=\"psysml:3e79cc57-1ff4-4d61-ad54-8c0f8362d5da\" target=\"_top\" title=\"psysml:3e79cc57-1ff4-4d61-ad54-8c0f8362d5da\" xlink:actuate=\"onRequest\" xlink:href=\"psysml:3e79cc57-1ff4-4d61-ad54-8c0f8362d5da\" xlink:show=\"new\" xlink:title=\"psysml:3e79cc57-1ff4-4d61-ad54-8c0f8362d5da\" xlink:type=\"simple\"><g id=\"elem_E10\"><rect fill=\"#FFFFFF\" height=\"48.2656\" id=\"E10\" rx=\"10\" ry=\"10\" style=\"stroke:#181818;stroke-width:0.5;\" width=\"42\" x=\"167\" y=\"62.5\"/><text fill=\"#000000\" font-family=\"sans-serif\" font-size=\"12\" font-style=\"italic\" lengthAdjust=\"spacing\" textLength=\"40\" x=\"168\" y=\"78.6387\">«part»</text><text fill=\"#000000\" font-family=\"sans-serif\" font-size=\"14\" lengthAdjust=\"spacing\" textLength=\"9\" x=\"179.5\" y=\"94.4639\">g</text><line style=\"stroke:#181818;stroke-width:0.5;\" x1=\"168\" x2=\"208\" y1=\"102.7656\" y2=\"102.7656\"/></g></a><!--MD5=[1dd1bfd58a279cf63c5f349dbc8fc6a1]\n",
       "class E11--><a href=\"psysml:cae84388-2b2f-4b61-9caf-e3201f6c4bb4\" target=\"_top\" title=\"psysml:cae84388-2b2f-4b61-9caf-e3201f6c4bb4\" xlink:actuate=\"onRequest\" xlink:href=\"psysml:cae84388-2b2f-4b61-9caf-e3201f6c4bb4\" xlink:show=\"new\" xlink:title=\"psysml:cae84388-2b2f-4b61-9caf-e3201f6c4bb4\" xlink:type=\"simple\"><g id=\"elem_E11\"><rect fill=\"#FFFFFF\" height=\"91.3781\" id=\"E11\" style=\"stroke:#181818;stroke-width:0.5;\" width=\"99\" x=\"32.5\" y=\"41\"/><text fill=\"#000000\" font-family=\"sans-serif\" font-size=\"12\" font-style=\"italic\" lengthAdjust=\"spacing\" textLength=\"97\" x=\"33.5\" y=\"57.1387\">«attribute  def»</text><text fill=\"#000000\" font-family=\"sans-serif\" font-size=\"14\" lengthAdjust=\"spacing\" textLength=\"9\" x=\"77.5\" y=\"72.9639\">A</text><line style=\"stroke:#181818;stroke-width:0.5;\" x1=\"33.5\" x2=\"130.5\" y1=\"81.2656\" y2=\"81.2656\"/><text fill=\"#000000\" font-family=\"sans-serif\" font-size=\"14\" lengthAdjust=\"spacing\" textLength=\"61\" x=\"38.5\" y=\"108.7795\">i: Integer</text><text fill=\"#000000\" font-family=\"sans-serif\" font-size=\"14\" lengthAdjust=\"spacing\" textLength=\"25\" x=\"38.5\" y=\"125.0764\">x: A</text><text fill=\"#000000\" font-family=\"sans-serif\" font-size=\"14\" font-style=\"italic\" lengthAdjust=\"spacing\" textLength=\"66\" x=\"49\" y=\"93.6123\">attributes</text></g></a><!--MD5=[15ebcb19ae302d9b601edb458606d402]\n",
       "link E5 to E2--><g id=\"link_E5_E2\"><a href=\"psysml:356b088d-f058-4498-8151-02a64d9c5f99\" target=\"_top\" title=\"psysml:356b088d-f058-4498-8151-02a64d9c5f99\" xlink:actuate=\"onRequest\" xlink:href=\"psysml:356b088d-f058-4498-8151-02a64d9c5f99\" xlink:show=\"new\" xlink:title=\"psysml:356b088d-f058-4498-8151-02a64d9c5f99\" xlink:type=\"simple\"><path d=\"M565.94,110.59 C560.67,127.81 553.32,151.83 547,172.49 \" fill=\"none\" id=\"E5-to-E2\" style=\"stroke:#181818;stroke-width:1.0;\"/><polygon fill=\"#FFFFFF\" points=\"541.14,191.65,539.9958,171.4339,553.3851,175.5237,541.14,191.65\" style=\"stroke:#181818;stroke-width:1.0;\"/><ellipse cx=\"543.5737\" cy=\"166.5668\" fill=\"#181818\" rx=\"2\" ry=\"2\" style=\"stroke:#181818;stroke-width:1.0;\"/><ellipse cx=\"553.1375\" cy=\"169.4881\" fill=\"#181818\" rx=\"2\" ry=\"2\" style=\"stroke:#181818;stroke-width:1.0;\"/></a></g><!--MD5=[2351f337d6de0f557b50152ba70847b5]\n",
       "link E6 to E2--><g id=\"link_E6_E2\"><a href=\"psysml:849948e9-2a63-47c9-a787-96ae36e28ef0\" target=\"_top\" title=\"psysml:849948e9-2a63-47c9-a787-96ae36e28ef0\" xlink:actuate=\"onRequest\" xlink:href=\"psysml:849948e9-2a63-47c9-a787-96ae36e28ef0\" xlink:show=\"new\" xlink:title=\"psysml:849948e9-2a63-47c9-a787-96ae36e28ef0\" xlink:type=\"simple\"><path d=\"M502.88,110.59 C507.99,127.72 515.1,151.58 521.23,172.17 \" fill=\"none\" id=\"E6-to-E2\" style=\"stroke:#181818;stroke-width:1.0;\"/><polygon fill=\"#FFFFFF\" points=\"527.04,191.65,514.9155,175.4328,528.3349,171.443,527.04,191.65\" style=\"stroke:#181818;stroke-width:1.0;\"/><ellipse cx=\"515.2081\" cy=\"169.3992\" fill=\"#181818\" rx=\"2\" ry=\"2\" style=\"stroke:#181818;stroke-width:1.0;\"/><ellipse cx=\"524.7935\" cy=\"166.5493\" fill=\"#181818\" rx=\"2\" ry=\"2\" style=\"stroke:#181818;stroke-width:1.0;\"/></a></g><!--MD5=[a619f5dda5edb2231f7b2774586e6e46]\n",
       "@startuml\r\n",
       "skin sysmlbw\r\n",
       "skinparam monochrome true\r\n",
       "skinparam wrapWidth 300\r\n",
       "hide circle\r\n",
       "top to bottom direction\r\n",
       "\r\n",
       "package \"MultiplicityTest\" as E1  [[psysml:26edc399-ba1b-4e26-98ec-184b2d561983 ]]  {\r\n",
       "comp def \"P\" as E2  <<(T,blue) part  def>> [[psysml:a78c9232-7355-4122-98e1-61ea033b6fbd ]] {\r\n",
       "}\r\n",
       "comp usage \"n: Integer  \" as E3  <<(T,blue) attribute>> [[psysml:6e5bcad0-e721-42f0-8965-8cf810de127c ]] {\r\n",
       "##//values//##\r\n",
       " <U+003D> 5\r\n",
       "}\r\n",
       "comp usage \"a  \" as E4  <<(T,blue) part>> [[psysml:58ca86c4-6609-462b-9948-87aadb08d281 ]] {\r\n",
       "}\r\n",
       "comp usage \"b: P  \" as E5  <<(T,blue) part>> [[psysml:8959fced-ddce-434c-832c-e17faa00a5de ]] {\r\n",
       "}\r\n",
       "comp usage \"c: P  \" as E6  <<(T,blue) part>> [[psysml:4ac8fd09-bbc3-4ec3-ba18-7592ef56bccd ]] {\r\n",
       "}\r\n",
       "comp usage \"d  \" as E7  <<(T,blue) part>> [[psysml:58aa0206-e878-4c1d-8c3a-c879ca6e4b13 ]] {\r\n",
       "}\r\n",
       "comp usage \"e  \" as E8  <<(T,blue) part>> [[psysml:21978b5e-874b-4020-b12b-41f872f49c78 ]] {\r\n",
       "}\r\n",
       "comp usage \"f  \" as E9  <<(T,blue) part>> [[psysml:79f00190-11a9-479d-9f29-e880a27768bf ]] {\r\n",
       "}\r\n",
       "comp usage \"g  \" as E10  <<(T,blue) part>> [[psysml:3e79cc57-1ff4-4d61-ad54-8c0f8362d5da ]] {\r\n",
       "}\r\n",
       "comp def \"A\" as E11  <<(T,blue) attribute  def>> [[psysml:cae84388-2b2f-4b61-9caf-e3201f6c4bb4 ]] {\r\n",
       "##//attributes//##\r\n",
       "i: Integer\r\n",
       "x: A\r\n",
       "}\r\n",
       "}\r\n",
       "E5 - -:|> E2 [[psysml:356b088d-f058-4498-8151-02a64d9c5f99 ]] \r\n",
       "E6 - -:|> E2 [[psysml:849948e9-2a63-47c9-a787-96ae36e28ef0 ]] \r\n",
       "@enduml\r\n",
       "\n",
       "PlantUML version 1.2022.7(Mon Aug 22 17:01:30 UTC 2022)\n",
       "(EPL source distribution)\n",
       "Java Runtime: OpenJDK Runtime Environment\n",
       "JVM: OpenJDK 64-Bit Server VM\n",
       "Default Encoding: UTF-8\n",
       "Language: en\n",
       "Country: null\n",
       "--></g></svg>"
      ]
     },
     "execution_count": 50,
     "metadata": {},
     "output_type": "execute_result"
    }
   ],
   "source": [
    "%viz --style=\"TB\" --view=\"MIXED\" \"MultiplicityTest\""
   ]
  },
  {
   "cell_type": "code",
   "execution_count": 51,
   "id": "772448ce",
   "metadata": {
    "execution": {
     "iopub.execute_input": "2024-12-16T03:27:07.923876Z",
     "iopub.status.busy": "2024-12-16T03:27:07.923611Z",
     "iopub.status.idle": "2024-12-16T03:27:07.947680Z",
     "shell.execute_reply": "2024-12-16T03:27:07.946841Z"
    }
   },
   "outputs": [
    {
     "data": {
      "image/svg+xml": [
       "<?xml version=\"1.0\" encoding=\"UTF-8\" standalone=\"no\"?><svg xmlns=\"http://www.w3.org/2000/svg\" xmlns:xlink=\"http://www.w3.org/1999/xlink\" contentStyleType=\"text/css\" height=\"263px\" preserveAspectRatio=\"none\" style=\"width:821px;height:263px;background:#FFFFFF;\" version=\"1.1\" viewBox=\"0 0 821 263\" width=\"821px\" zoomAndPan=\"magnify\"><defs/><g><!--MD5=[fbc87193dbaf4d95561dea2c320d4a47]\n",
       "cluster E1--><g id=\"cluster_E1\"><a href=\"psysml:26edc399-ba1b-4e26-98ec-184b2d561983\" target=\"_top\" title=\"psysml:26edc399-ba1b-4e26-98ec-184b2d561983\" xlink:actuate=\"onRequest\" xlink:href=\"psysml:26edc399-ba1b-4e26-98ec-184b2d561983\" xlink:show=\"new\" xlink:title=\"psysml:26edc399-ba1b-4e26-98ec-184b2d561983\" xlink:type=\"simple\"><polygon fill=\"none\" points=\"16,6,130,6,137,28.2969,804,28.2969,804,256,16,256,16,6\" style=\"stroke:#000000;stroke-width:1.5;\"/><line style=\"stroke:#000000;stroke-width:1.5;\" x1=\"16\" x2=\"137\" y1=\"28.2969\" y2=\"28.2969\"/><text fill=\"#000000\" font-family=\"sans-serif\" font-size=\"14\" font-weight=\"bold\" lengthAdjust=\"spacing\" textLength=\"108\" x=\"20\" y=\"20.9951\">MultiplicityTest</text></a></g><!--MD5=[b4997ac47864f28c2f74865a473b2911]\n",
       "class E2--><a href=\"psysml:a78c9232-7355-4122-98e1-61ea033b6fbd\" target=\"_top\" title=\"psysml:a78c9232-7355-4122-98e1-61ea033b6fbd\" xlink:actuate=\"onRequest\" xlink:href=\"psysml:a78c9232-7355-4122-98e1-61ea033b6fbd\" xlink:show=\"new\" xlink:title=\"psysml:a78c9232-7355-4122-98e1-61ea033b6fbd\" xlink:type=\"simple\"><g id=\"elem_E2\"><rect fill=\"#FFFFFF\" height=\"48.2656\" id=\"E2\" style=\"stroke:#181818;stroke-width:0.5;\" width=\"70\" x=\"499\" y=\"192\"/><text fill=\"#000000\" font-family=\"sans-serif\" font-size=\"12\" font-style=\"italic\" lengthAdjust=\"spacing\" textLength=\"68\" x=\"500\" y=\"208.1387\">«part  def»</text><text fill=\"#000000\" font-family=\"sans-serif\" font-size=\"14\" lengthAdjust=\"spacing\" textLength=\"9\" x=\"529.5\" y=\"223.9639\">P</text><line style=\"stroke:#181818;stroke-width:0.5;\" x1=\"500\" x2=\"568\" y1=\"232.2656\" y2=\"232.2656\"/></g></a><!--MD5=[09b614a08d8cba4a07c9adeb5e0fee81]\n",
       "class E3--><a href=\"psysml:6e5bcad0-e721-42f0-8965-8cf810de127c\" target=\"_top\" title=\"psysml:6e5bcad0-e721-42f0-8965-8cf810de127c\" xlink:actuate=\"onRequest\" xlink:href=\"psysml:6e5bcad0-e721-42f0-8965-8cf810de127c\" xlink:show=\"new\" xlink:title=\"psysml:6e5bcad0-e721-42f0-8965-8cf810de127c\" xlink:type=\"simple\"><g id=\"elem_E3\"><rect fill=\"#FFFFFF\" height=\"75.0813\" id=\"E3\" rx=\"10\" ry=\"10\" style=\"stroke:#181818;stroke-width:0.5;\" width=\"81\" x=\"706.5\" y=\"49\"/><text fill=\"#000000\" font-family=\"sans-serif\" font-size=\"12\" font-style=\"italic\" lengthAdjust=\"spacing\" textLength=\"69\" x=\"712.5\" y=\"65.1387\">«attribute»</text><text fill=\"#000000\" font-family=\"sans-serif\" font-size=\"14\" lengthAdjust=\"spacing\" textLength=\"67\" x=\"709.5\" y=\"80.9639\">n: Integer</text><line style=\"stroke:#181818;stroke-width:0.5;\" x1=\"707.5\" x2=\"786.5\" y1=\"89.2656\" y2=\"89.2656\"/><text fill=\"#000000\" font-family=\"sans-serif\" font-size=\"14\" lengthAdjust=\"spacing\" textLength=\"25\" x=\"712.5\" y=\"116.7795\">= 5</text><text fill=\"#000000\" font-family=\"sans-serif\" font-size=\"14\" font-style=\"italic\" lengthAdjust=\"spacing\" textLength=\"44\" x=\"725\" y=\"101.6123\">values</text></g></a><!--MD5=[ebbe1d658d1005bcc118a6aa81145e00]\n",
       "class E4--><a href=\"psysml:58ca86c4-6609-462b-9948-87aadb08d281\" target=\"_top\" title=\"psysml:58ca86c4-6609-462b-9948-87aadb08d281\" xlink:actuate=\"onRequest\" xlink:href=\"psysml:58ca86c4-6609-462b-9948-87aadb08d281\" xlink:show=\"new\" xlink:title=\"psysml:58ca86c4-6609-462b-9948-87aadb08d281\" xlink:type=\"simple\"><g id=\"elem_E4\"><rect fill=\"#FFFFFF\" height=\"48.2656\" id=\"E4\" rx=\"10\" ry=\"10\" style=\"stroke:#181818;stroke-width:0.5;\" width=\"42\" x=\"629\" y=\"62.5\"/><text fill=\"#000000\" font-family=\"sans-serif\" font-size=\"12\" font-style=\"italic\" lengthAdjust=\"spacing\" textLength=\"40\" x=\"630\" y=\"78.6387\">«part»</text><text fill=\"#000000\" font-family=\"sans-serif\" font-size=\"14\" lengthAdjust=\"spacing\" textLength=\"8\" x=\"642\" y=\"94.4639\">a</text><line style=\"stroke:#181818;stroke-width:0.5;\" x1=\"630\" x2=\"670\" y1=\"102.7656\" y2=\"102.7656\"/></g></a><!--MD5=[270fce915f116d4de14055a7c1d9a0f3]\n",
       "class E5--><a href=\"psysml:8959fced-ddce-434c-832c-e17faa00a5de\" target=\"_top\" title=\"psysml:8959fced-ddce-434c-832c-e17faa00a5de\" xlink:actuate=\"onRequest\" xlink:href=\"psysml:8959fced-ddce-434c-832c-e17faa00a5de\" xlink:show=\"new\" xlink:title=\"psysml:8959fced-ddce-434c-832c-e17faa00a5de\" xlink:type=\"simple\"><g id=\"elem_E5\"><rect fill=\"#FFFFFF\" height=\"48.2656\" id=\"E5\" rx=\"10\" ry=\"10\" style=\"stroke:#181818;stroke-width:0.5;\" width=\"42\" x=\"552\" y=\"62.5\"/><text fill=\"#000000\" font-family=\"sans-serif\" font-size=\"12\" font-style=\"italic\" lengthAdjust=\"spacing\" textLength=\"40\" x=\"553\" y=\"78.6387\">«part»</text><text fill=\"#000000\" font-family=\"sans-serif\" font-size=\"14\" lengthAdjust=\"spacing\" textLength=\"27\" x=\"555.5\" y=\"94.4639\">b: P</text><line style=\"stroke:#181818;stroke-width:0.5;\" x1=\"553\" x2=\"593\" y1=\"102.7656\" y2=\"102.7656\"/></g></a><!--MD5=[60a26617385b1d2d0262a64233df1f8d]\n",
       "class E6--><a href=\"psysml:4ac8fd09-bbc3-4ec3-ba18-7592ef56bccd\" target=\"_top\" title=\"psysml:4ac8fd09-bbc3-4ec3-ba18-7592ef56bccd\" xlink:actuate=\"onRequest\" xlink:href=\"psysml:4ac8fd09-bbc3-4ec3-ba18-7592ef56bccd\" xlink:show=\"new\" xlink:title=\"psysml:4ac8fd09-bbc3-4ec3-ba18-7592ef56bccd\" xlink:type=\"simple\"><g id=\"elem_E6\"><rect fill=\"#FFFFFF\" height=\"48.2656\" id=\"E6\" rx=\"10\" ry=\"10\" style=\"stroke:#181818;stroke-width:0.5;\" width=\"42\" x=\"475\" y=\"62.5\"/><text fill=\"#000000\" font-family=\"sans-serif\" font-size=\"12\" font-style=\"italic\" lengthAdjust=\"spacing\" textLength=\"40\" x=\"476\" y=\"78.6387\">«part»</text><text fill=\"#000000\" font-family=\"sans-serif\" font-size=\"14\" lengthAdjust=\"spacing\" textLength=\"26\" x=\"479\" y=\"94.4639\">c: P</text><line style=\"stroke:#181818;stroke-width:0.5;\" x1=\"476\" x2=\"516\" y1=\"102.7656\" y2=\"102.7656\"/></g></a><!--MD5=[2156ba9850f5573cc1fc38a6a4b2f02b]\n",
       "class E7--><a href=\"psysml:58aa0206-e878-4c1d-8c3a-c879ca6e4b13\" target=\"_top\" title=\"psysml:58aa0206-e878-4c1d-8c3a-c879ca6e4b13\" xlink:actuate=\"onRequest\" xlink:href=\"psysml:58aa0206-e878-4c1d-8c3a-c879ca6e4b13\" xlink:show=\"new\" xlink:title=\"psysml:58aa0206-e878-4c1d-8c3a-c879ca6e4b13\" xlink:type=\"simple\"><g id=\"elem_E7\"><rect fill=\"#FFFFFF\" height=\"48.2656\" id=\"E7\" rx=\"10\" ry=\"10\" style=\"stroke:#181818;stroke-width:0.5;\" width=\"42\" x=\"398\" y=\"62.5\"/><text fill=\"#000000\" font-family=\"sans-serif\" font-size=\"12\" font-style=\"italic\" lengthAdjust=\"spacing\" textLength=\"40\" x=\"399\" y=\"78.6387\">«part»</text><text fill=\"#000000\" font-family=\"sans-serif\" font-size=\"14\" lengthAdjust=\"spacing\" textLength=\"9\" x=\"410.5\" y=\"94.4639\">d</text><line style=\"stroke:#181818;stroke-width:0.5;\" x1=\"399\" x2=\"439\" y1=\"102.7656\" y2=\"102.7656\"/></g></a><!--MD5=[b9389687b975829384b498ac4b7476b2]\n",
       "class E8--><a href=\"psysml:21978b5e-874b-4020-b12b-41f872f49c78\" target=\"_top\" title=\"psysml:21978b5e-874b-4020-b12b-41f872f49c78\" xlink:actuate=\"onRequest\" xlink:href=\"psysml:21978b5e-874b-4020-b12b-41f872f49c78\" xlink:show=\"new\" xlink:title=\"psysml:21978b5e-874b-4020-b12b-41f872f49c78\" xlink:type=\"simple\"><g id=\"elem_E8\"><rect fill=\"#FFFFFF\" height=\"48.2656\" id=\"E8\" rx=\"10\" ry=\"10\" style=\"stroke:#181818;stroke-width:0.5;\" width=\"42\" x=\"321\" y=\"62.5\"/><text fill=\"#000000\" font-family=\"sans-serif\" font-size=\"12\" font-style=\"italic\" lengthAdjust=\"spacing\" textLength=\"40\" x=\"322\" y=\"78.6387\">«part»</text><text fill=\"#000000\" font-family=\"sans-serif\" font-size=\"14\" lengthAdjust=\"spacing\" textLength=\"9\" x=\"333.5\" y=\"94.4639\">e</text><line style=\"stroke:#181818;stroke-width:0.5;\" x1=\"322\" x2=\"362\" y1=\"102.7656\" y2=\"102.7656\"/></g></a><!--MD5=[fd4143e9d270a159db93a4ea2a975926]\n",
       "class E9--><a href=\"psysml:79f00190-11a9-479d-9f29-e880a27768bf\" target=\"_top\" title=\"psysml:79f00190-11a9-479d-9f29-e880a27768bf\" xlink:actuate=\"onRequest\" xlink:href=\"psysml:79f00190-11a9-479d-9f29-e880a27768bf\" xlink:show=\"new\" xlink:title=\"psysml:79f00190-11a9-479d-9f29-e880a27768bf\" xlink:type=\"simple\"><g id=\"elem_E9\"><rect fill=\"#FFFFFF\" height=\"48.2656\" id=\"E9\" rx=\"10\" ry=\"10\" style=\"stroke:#181818;stroke-width:0.5;\" width=\"42\" x=\"244\" y=\"62.5\"/><text fill=\"#000000\" font-family=\"sans-serif\" font-size=\"12\" font-style=\"italic\" lengthAdjust=\"spacing\" textLength=\"40\" x=\"245\" y=\"78.6387\">«part»</text><text fill=\"#000000\" font-family=\"sans-serif\" font-size=\"14\" lengthAdjust=\"spacing\" textLength=\"4\" x=\"259\" y=\"94.4639\">f</text><line style=\"stroke:#181818;stroke-width:0.5;\" x1=\"245\" x2=\"285\" y1=\"102.7656\" y2=\"102.7656\"/></g></a><!--MD5=[96f4274e9e20536e775497830990834d]\n",
       "class E10--><a href=\"psysml:3e79cc57-1ff4-4d61-ad54-8c0f8362d5da\" target=\"_top\" title=\"psysml:3e79cc57-1ff4-4d61-ad54-8c0f8362d5da\" xlink:actuate=\"onRequest\" xlink:href=\"psysml:3e79cc57-1ff4-4d61-ad54-8c0f8362d5da\" xlink:show=\"new\" xlink:title=\"psysml:3e79cc57-1ff4-4d61-ad54-8c0f8362d5da\" xlink:type=\"simple\"><g id=\"elem_E10\"><rect fill=\"#FFFFFF\" height=\"48.2656\" id=\"E10\" rx=\"10\" ry=\"10\" style=\"stroke:#181818;stroke-width:0.5;\" width=\"42\" x=\"167\" y=\"62.5\"/><text fill=\"#000000\" font-family=\"sans-serif\" font-size=\"12\" font-style=\"italic\" lengthAdjust=\"spacing\" textLength=\"40\" x=\"168\" y=\"78.6387\">«part»</text><text fill=\"#000000\" font-family=\"sans-serif\" font-size=\"14\" lengthAdjust=\"spacing\" textLength=\"9\" x=\"179.5\" y=\"94.4639\">g</text><line style=\"stroke:#181818;stroke-width:0.5;\" x1=\"168\" x2=\"208\" y1=\"102.7656\" y2=\"102.7656\"/></g></a><!--MD5=[1dd1bfd58a279cf63c5f349dbc8fc6a1]\n",
       "class E11--><a href=\"psysml:cae84388-2b2f-4b61-9caf-e3201f6c4bb4\" target=\"_top\" title=\"psysml:cae84388-2b2f-4b61-9caf-e3201f6c4bb4\" xlink:actuate=\"onRequest\" xlink:href=\"psysml:cae84388-2b2f-4b61-9caf-e3201f6c4bb4\" xlink:show=\"new\" xlink:title=\"psysml:cae84388-2b2f-4b61-9caf-e3201f6c4bb4\" xlink:type=\"simple\"><g id=\"elem_E11\"><rect fill=\"#FFFFFF\" height=\"91.3781\" id=\"E11\" style=\"stroke:#181818;stroke-width:0.5;\" width=\"99\" x=\"32.5\" y=\"41\"/><text fill=\"#000000\" font-family=\"sans-serif\" font-size=\"12\" font-style=\"italic\" lengthAdjust=\"spacing\" textLength=\"97\" x=\"33.5\" y=\"57.1387\">«attribute  def»</text><text fill=\"#000000\" font-family=\"sans-serif\" font-size=\"14\" lengthAdjust=\"spacing\" textLength=\"9\" x=\"77.5\" y=\"72.9639\">A</text><line style=\"stroke:#181818;stroke-width:0.5;\" x1=\"33.5\" x2=\"130.5\" y1=\"81.2656\" y2=\"81.2656\"/><text fill=\"#000000\" font-family=\"sans-serif\" font-size=\"14\" lengthAdjust=\"spacing\" textLength=\"61\" x=\"38.5\" y=\"108.7795\">i: Integer</text><text fill=\"#000000\" font-family=\"sans-serif\" font-size=\"14\" lengthAdjust=\"spacing\" textLength=\"25\" x=\"38.5\" y=\"125.0764\">x: A</text><text fill=\"#000000\" font-family=\"sans-serif\" font-size=\"14\" font-style=\"italic\" lengthAdjust=\"spacing\" textLength=\"66\" x=\"49\" y=\"93.6123\">attributes</text></g></a><!--MD5=[15ebcb19ae302d9b601edb458606d402]\n",
       "link E5 to E2--><g id=\"link_E5_E2\"><a href=\"psysml:356b088d-f058-4498-8151-02a64d9c5f99\" target=\"_top\" title=\"psysml:356b088d-f058-4498-8151-02a64d9c5f99\" xlink:actuate=\"onRequest\" xlink:href=\"psysml:356b088d-f058-4498-8151-02a64d9c5f99\" xlink:show=\"new\" xlink:title=\"psysml:356b088d-f058-4498-8151-02a64d9c5f99\" xlink:type=\"simple\"><path d=\"M560.5,110.55 C560.5,110.55 560.5,171.63 560.5,171.63 \" fill=\"none\" id=\"E5-to-E2\" style=\"stroke:#181818;stroke-width:1.0;\"/><polygon fill=\"#FFFFFF\" points=\"560.5,191.63,553.5,172.63,567.5,172.63,560.5,191.63\" style=\"stroke:#181818;stroke-width:1.0;\"/><ellipse cx=\"555.5\" cy=\"166.93\" fill=\"#181818\" rx=\"2\" ry=\"2\" style=\"stroke:#181818;stroke-width:1.0;\"/><ellipse cx=\"565.5\" cy=\"166.93\" fill=\"#181818\" rx=\"2\" ry=\"2\" style=\"stroke:#181818;stroke-width:1.0;\"/></a></g><!--MD5=[2351f337d6de0f557b50152ba70847b5]\n",
       "link E6 to E2--><g id=\"link_E6_E2\"><a href=\"psysml:849948e9-2a63-47c9-a787-96ae36e28ef0\" target=\"_top\" title=\"psysml:849948e9-2a63-47c9-a787-96ae36e28ef0\" xlink:actuate=\"onRequest\" xlink:href=\"psysml:849948e9-2a63-47c9-a787-96ae36e28ef0\" xlink:show=\"new\" xlink:title=\"psysml:849948e9-2a63-47c9-a787-96ae36e28ef0\" xlink:type=\"simple\"><path d=\"M508,110.55 C508,110.55 508,171.63 508,171.63 \" fill=\"none\" id=\"E6-to-E2\" style=\"stroke:#181818;stroke-width:1.0;\"/><polygon fill=\"#FFFFFF\" points=\"508,191.63,501,172.63,515,172.63,508,191.63\" style=\"stroke:#181818;stroke-width:1.0;\"/><ellipse cx=\"503\" cy=\"166.93\" fill=\"#181818\" rx=\"2\" ry=\"2\" style=\"stroke:#181818;stroke-width:1.0;\"/><ellipse cx=\"513\" cy=\"166.93\" fill=\"#181818\" rx=\"2\" ry=\"2\" style=\"stroke:#181818;stroke-width:1.0;\"/></a></g><!--MD5=[b41004fd24715359202d81d819259fa1]\n",
       "@startuml\r\n",
       "skin sysmlbw\r\n",
       "skinparam monochrome true\r\n",
       "skinparam wrapWidth 300\r\n",
       "hide circle\r\n",
       "skinparam linetype ortho\r\n",
       "\r\n",
       "package \"MultiplicityTest\" as E1  [[psysml:26edc399-ba1b-4e26-98ec-184b2d561983 ]]  {\r\n",
       "comp def \"P\" as E2  <<(T,blue) part  def>> [[psysml:a78c9232-7355-4122-98e1-61ea033b6fbd ]] {\r\n",
       "}\r\n",
       "comp usage \"n: Integer  \" as E3  <<(T,blue) attribute>> [[psysml:6e5bcad0-e721-42f0-8965-8cf810de127c ]] {\r\n",
       "##//values//##\r\n",
       " <U+003D> 5\r\n",
       "}\r\n",
       "comp usage \"a  \" as E4  <<(T,blue) part>> [[psysml:58ca86c4-6609-462b-9948-87aadb08d281 ]] {\r\n",
       "}\r\n",
       "comp usage \"b: P  \" as E5  <<(T,blue) part>> [[psysml:8959fced-ddce-434c-832c-e17faa00a5de ]] {\r\n",
       "}\r\n",
       "comp usage \"c: P  \" as E6  <<(T,blue) part>> [[psysml:4ac8fd09-bbc3-4ec3-ba18-7592ef56bccd ]] {\r\n",
       "}\r\n",
       "comp usage \"d  \" as E7  <<(T,blue) part>> [[psysml:58aa0206-e878-4c1d-8c3a-c879ca6e4b13 ]] {\r\n",
       "}\r\n",
       "comp usage \"e  \" as E8  <<(T,blue) part>> [[psysml:21978b5e-874b-4020-b12b-41f872f49c78 ]] {\r\n",
       "}\r\n",
       "comp usage \"f  \" as E9  <<(T,blue) part>> [[psysml:79f00190-11a9-479d-9f29-e880a27768bf ]] {\r\n",
       "}\r\n",
       "comp usage \"g  \" as E10  <<(T,blue) part>> [[psysml:3e79cc57-1ff4-4d61-ad54-8c0f8362d5da ]] {\r\n",
       "}\r\n",
       "comp def \"A\" as E11  <<(T,blue) attribute  def>> [[psysml:cae84388-2b2f-4b61-9caf-e3201f6c4bb4 ]] {\r\n",
       "##//attributes//##\r\n",
       "i: Integer\r\n",
       "x: A\r\n",
       "}\r\n",
       "}\r\n",
       "E5 - -:|> E2 [[psysml:356b088d-f058-4498-8151-02a64d9c5f99 ]] \r\n",
       "E6 - -:|> E2 [[psysml:849948e9-2a63-47c9-a787-96ae36e28ef0 ]] \r\n",
       "@enduml\r\n",
       "\n",
       "PlantUML version 1.2022.7(Mon Aug 22 17:01:30 UTC 2022)\n",
       "(EPL source distribution)\n",
       "Java Runtime: OpenJDK Runtime Environment\n",
       "JVM: OpenJDK 64-Bit Server VM\n",
       "Default Encoding: UTF-8\n",
       "Language: en\n",
       "Country: null\n",
       "--></g></svg>"
      ]
     },
     "execution_count": 51,
     "metadata": {},
     "output_type": "execute_result"
    }
   ],
   "source": [
    "%viz --style=\"ORTHOLINE\" --view=\"Default\" \"MultiplicityTest\""
   ]
  },
  {
   "cell_type": "code",
   "execution_count": 52,
   "id": "5204ac18",
   "metadata": {
    "execution": {
     "iopub.execute_input": "2024-12-16T03:27:07.999710Z",
     "iopub.status.busy": "2024-12-16T03:27:07.999491Z",
     "iopub.status.idle": "2024-12-16T03:27:08.029303Z",
     "shell.execute_reply": "2024-12-16T03:27:08.027895Z"
    }
   },
   "outputs": [
    {
     "data": {
      "image/svg+xml": [
       "<?xml version=\"1.0\" encoding=\"UTF-8\" standalone=\"no\"?><svg xmlns=\"http://www.w3.org/2000/svg\" xmlns:xlink=\"http://www.w3.org/1999/xlink\" contentStyleType=\"text/css\" height=\"263px\" preserveAspectRatio=\"none\" style=\"width:916px;height:263px;background:#FFFFFF;\" version=\"1.1\" viewBox=\"0 0 916 263\" width=\"916px\" zoomAndPan=\"magnify\"><defs/><g><!--MD5=[fbc87193dbaf4d95561dea2c320d4a47]\n",
       "cluster E1--><g id=\"cluster_E1\"><a href=\"psysml:26edc399-ba1b-4e26-98ec-184b2d561983\" target=\"_top\" title=\"psysml:26edc399-ba1b-4e26-98ec-184b2d561983\" xlink:actuate=\"onRequest\" xlink:href=\"psysml:26edc399-ba1b-4e26-98ec-184b2d561983\" xlink:show=\"new\" xlink:title=\"psysml:26edc399-ba1b-4e26-98ec-184b2d561983\" xlink:type=\"simple\"><polygon fill=\"none\" points=\"16,6,130,6,137,28.2969,899,28.2969,899,256,16,256,16,6\" style=\"stroke:#000000;stroke-width:1.5;\"/><line style=\"stroke:#000000;stroke-width:1.5;\" x1=\"16\" x2=\"137\" y1=\"28.2969\" y2=\"28.2969\"/><text fill=\"#000000\" font-family=\"sans-serif\" font-size=\"14\" font-weight=\"bold\" lengthAdjust=\"spacing\" textLength=\"108\" x=\"20\" y=\"20.9951\">MultiplicityTest</text></a></g><!--MD5=[b4997ac47864f28c2f74865a473b2911]\n",
       "class E2--><a href=\"psysml:a78c9232-7355-4122-98e1-61ea033b6fbd\" target=\"_top\" title=\"psysml:a78c9232-7355-4122-98e1-61ea033b6fbd\" xlink:actuate=\"onRequest\" xlink:href=\"psysml:a78c9232-7355-4122-98e1-61ea033b6fbd\" xlink:show=\"new\" xlink:title=\"psysml:a78c9232-7355-4122-98e1-61ea033b6fbd\" xlink:type=\"simple\"><g id=\"elem_E2\"><rect fill=\"#FFFFFF\" height=\"48.2656\" id=\"E2\" style=\"stroke:#181818;stroke-width:0.5;\" width=\"70\" x=\"559\" y=\"192\"/><text fill=\"#000000\" font-family=\"sans-serif\" font-size=\"12\" font-style=\"italic\" lengthAdjust=\"spacing\" textLength=\"68\" x=\"560\" y=\"208.1387\">«part  def»</text><text fill=\"#000000\" font-family=\"sans-serif\" font-size=\"14\" lengthAdjust=\"spacing\" textLength=\"9\" x=\"589.5\" y=\"223.9639\">P</text><line style=\"stroke:#181818;stroke-width:0.5;\" x1=\"560\" x2=\"628\" y1=\"232.2656\" y2=\"232.2656\"/></g></a><!--MD5=[09b614a08d8cba4a07c9adeb5e0fee81]\n",
       "class E3--><a href=\"psysml:6e5bcad0-e721-42f0-8965-8cf810de127c\" target=\"_top\" title=\"psysml:6e5bcad0-e721-42f0-8965-8cf810de127c\" xlink:actuate=\"onRequest\" xlink:href=\"psysml:6e5bcad0-e721-42f0-8965-8cf810de127c\" xlink:show=\"new\" xlink:title=\"psysml:6e5bcad0-e721-42f0-8965-8cf810de127c\" xlink:type=\"simple\"><g id=\"elem_E3\"><rect fill=\"#FFFFFF\" height=\"75.0813\" id=\"E3\" rx=\"10\" ry=\"10\" style=\"stroke:#181818;stroke-width:0.5;\" width=\"81\" x=\"801.5\" y=\"49\"/><text fill=\"#000000\" font-family=\"sans-serif\" font-size=\"12\" font-style=\"italic\" lengthAdjust=\"spacing\" textLength=\"69\" x=\"807.5\" y=\"65.1387\">«attribute»</text><text fill=\"#000000\" font-family=\"sans-serif\" font-size=\"14\" lengthAdjust=\"spacing\" textLength=\"67\" x=\"804.5\" y=\"80.9639\">n: Integer</text><line style=\"stroke:#181818;stroke-width:0.5;\" x1=\"802.5\" x2=\"881.5\" y1=\"89.2656\" y2=\"89.2656\"/><text fill=\"#000000\" font-family=\"sans-serif\" font-size=\"14\" lengthAdjust=\"spacing\" textLength=\"25\" x=\"807.5\" y=\"116.7795\">= 5</text><text fill=\"#000000\" font-family=\"sans-serif\" font-size=\"14\" font-style=\"italic\" lengthAdjust=\"spacing\" textLength=\"44\" x=\"820\" y=\"101.6123\">values</text></g></a><!--MD5=[ebbe1d658d1005bcc118a6aa81145e00]\n",
       "class E4--><a href=\"psysml:58ca86c4-6609-462b-9948-87aadb08d281\" target=\"_top\" title=\"psysml:58ca86c4-6609-462b-9948-87aadb08d281\" xlink:actuate=\"onRequest\" xlink:href=\"psysml:58ca86c4-6609-462b-9948-87aadb08d281\" xlink:show=\"new\" xlink:title=\"psysml:58ca86c4-6609-462b-9948-87aadb08d281\" xlink:type=\"simple\"><g id=\"elem_E4\"><rect fill=\"#FFFFFF\" height=\"48.2656\" id=\"E4\" rx=\"10\" ry=\"10\" style=\"stroke:#181818;stroke-width:0.5;\" width=\"42\" x=\"724\" y=\"62.5\"/><text fill=\"#000000\" font-family=\"sans-serif\" font-size=\"12\" font-style=\"italic\" lengthAdjust=\"spacing\" textLength=\"40\" x=\"725\" y=\"78.6387\">«part»</text><text fill=\"#000000\" font-family=\"sans-serif\" font-size=\"14\" lengthAdjust=\"spacing\" textLength=\"27\" x=\"727.5\" y=\"94.4639\">a[1]</text><line style=\"stroke:#181818;stroke-width:0.5;\" x1=\"725\" x2=\"765\" y1=\"102.7656\" y2=\"102.7656\"/></g></a><!--MD5=[270fce915f116d4de14055a7c1d9a0f3]\n",
       "class E5--><a href=\"psysml:8959fced-ddce-434c-832c-e17faa00a5de\" target=\"_top\" title=\"psysml:8959fced-ddce-434c-832c-e17faa00a5de\" xlink:actuate=\"onRequest\" xlink:href=\"psysml:8959fced-ddce-434c-832c-e17faa00a5de\" xlink:show=\"new\" xlink:title=\"psysml:8959fced-ddce-434c-832c-e17faa00a5de\" xlink:type=\"simple\"><g id=\"elem_E5\"><rect fill=\"#FFFFFF\" height=\"48.2656\" id=\"E5\" rx=\"10\" ry=\"10\" style=\"stroke:#181818;stroke-width:0.5;\" width=\"77\" x=\"611.5\" y=\"62.5\"/><text fill=\"#000000\" font-family=\"sans-serif\" font-size=\"12\" font-style=\"italic\" lengthAdjust=\"spacing\" textLength=\"40\" x=\"630\" y=\"78.6387\">«part»</text><text fill=\"#000000\" font-family=\"sans-serif\" font-size=\"14\" lengthAdjust=\"spacing\" textLength=\"63\" x=\"614.5\" y=\"94.4639\">b: P[0..2]</text><line style=\"stroke:#181818;stroke-width:0.5;\" x1=\"612.5\" x2=\"687.5\" y1=\"102.7656\" y2=\"102.7656\"/></g></a><!--MD5=[60a26617385b1d2d0262a64233df1f8d]\n",
       "class E6--><a href=\"psysml:4ac8fd09-bbc3-4ec3-ba18-7592ef56bccd\" target=\"_top\" title=\"psysml:4ac8fd09-bbc3-4ec3-ba18-7592ef56bccd\" xlink:actuate=\"onRequest\" xlink:href=\"psysml:4ac8fd09-bbc3-4ec3-ba18-7592ef56bccd\" xlink:show=\"new\" xlink:title=\"psysml:4ac8fd09-bbc3-4ec3-ba18-7592ef56bccd\" xlink:type=\"simple\"><g id=\"elem_E6\"><rect fill=\"#FFFFFF\" height=\"48.2656\" id=\"E6\" rx=\"10\" ry=\"10\" style=\"stroke:#181818;stroke-width:0.5;\" width=\"74\" x=\"502\" y=\"62.5\"/><text fill=\"#000000\" font-family=\"sans-serif\" font-size=\"12\" font-style=\"italic\" lengthAdjust=\"spacing\" textLength=\"40\" x=\"519\" y=\"78.6387\">«part»</text><text fill=\"#000000\" font-family=\"sans-serif\" font-size=\"14\" lengthAdjust=\"spacing\" textLength=\"60\" x=\"505\" y=\"94.4639\">c: P[2..*]</text><line style=\"stroke:#181818;stroke-width:0.5;\" x1=\"503\" x2=\"575\" y1=\"102.7656\" y2=\"102.7656\"/></g></a><!--MD5=[2156ba9850f5573cc1fc38a6a4b2f02b]\n",
       "class E7--><a href=\"psysml:58aa0206-e878-4c1d-8c3a-c879ca6e4b13\" target=\"_top\" title=\"psysml:58aa0206-e878-4c1d-8c3a-c879ca6e4b13\" xlink:actuate=\"onRequest\" xlink:href=\"psysml:58aa0206-e878-4c1d-8c3a-c879ca6e4b13\" xlink:show=\"new\" xlink:title=\"psysml:58aa0206-e878-4c1d-8c3a-c879ca6e4b13\" xlink:type=\"simple\"><g id=\"elem_E7\"><rect fill=\"#FFFFFF\" height=\"48.2656\" id=\"E7\" rx=\"10\" ry=\"10\" style=\"stroke:#181818;stroke-width:0.5;\" width=\"42\" x=\"425\" y=\"62.5\"/><text fill=\"#000000\" font-family=\"sans-serif\" font-size=\"12\" font-style=\"italic\" lengthAdjust=\"spacing\" textLength=\"40\" x=\"426\" y=\"78.6387\">«part»</text><text fill=\"#000000\" font-family=\"sans-serif\" font-size=\"14\" lengthAdjust=\"spacing\" textLength=\"26\" x=\"429\" y=\"94.4639\">d[*]</text><line style=\"stroke:#181818;stroke-width:0.5;\" x1=\"426\" x2=\"466\" y1=\"102.7656\" y2=\"102.7656\"/></g></a><!--MD5=[b9389687b975829384b498ac4b7476b2]\n",
       "class E8--><a href=\"psysml:21978b5e-874b-4020-b12b-41f872f49c78\" target=\"_top\" title=\"psysml:21978b5e-874b-4020-b12b-41f872f49c78\" xlink:actuate=\"onRequest\" xlink:href=\"psysml:21978b5e-874b-4020-b12b-41f872f49c78\" xlink:show=\"new\" xlink:title=\"psysml:21978b5e-874b-4020-b12b-41f872f49c78\" xlink:type=\"simple\"><g id=\"elem_E8\"><rect fill=\"#FFFFFF\" height=\"48.2656\" id=\"E8\" rx=\"10\" ry=\"10\" style=\"stroke:#181818;stroke-width:0.5;\" width=\"42\" x=\"348\" y=\"62.5\"/><text fill=\"#000000\" font-family=\"sans-serif\" font-size=\"12\" font-style=\"italic\" lengthAdjust=\"spacing\" textLength=\"40\" x=\"349\" y=\"78.6387\">«part»</text><text fill=\"#000000\" font-family=\"sans-serif\" font-size=\"14\" lengthAdjust=\"spacing\" textLength=\"28\" x=\"351\" y=\"94.4639\">e[n]</text><line style=\"stroke:#181818;stroke-width:0.5;\" x1=\"349\" x2=\"389\" y1=\"102.7656\" y2=\"102.7656\"/></g></a><!--MD5=[fd4143e9d270a159db93a4ea2a975926]\n",
       "class E9--><a href=\"psysml:79f00190-11a9-479d-9f29-e880a27768bf\" target=\"_top\" title=\"psysml:79f00190-11a9-479d-9f29-e880a27768bf\" xlink:actuate=\"onRequest\" xlink:href=\"psysml:79f00190-11a9-479d-9f29-e880a27768bf\" xlink:show=\"new\" xlink:title=\"psysml:79f00190-11a9-479d-9f29-e880a27768bf\" xlink:type=\"simple\"><g id=\"elem_E9\"><rect fill=\"#FFFFFF\" height=\"48.2656\" id=\"E9\" rx=\"10\" ry=\"10\" style=\"stroke:#181818;stroke-width:0.5;\" width=\"52\" x=\"261\" y=\"62.5\"/><text fill=\"#000000\" font-family=\"sans-serif\" font-size=\"12\" font-style=\"italic\" lengthAdjust=\"spacing\" textLength=\"40\" x=\"267\" y=\"78.6387\">«part»</text><text fill=\"#000000\" font-family=\"sans-serif\" font-size=\"14\" lengthAdjust=\"spacing\" textLength=\"38\" x=\"264\" y=\"94.4639\">f[n..*]</text><line style=\"stroke:#181818;stroke-width:0.5;\" x1=\"262\" x2=\"312\" y1=\"102.7656\" y2=\"102.7656\"/></g></a><!--MD5=[96f4274e9e20536e775497830990834d]\n",
       "class E10--><a href=\"psysml:3e79cc57-1ff4-4d61-ad54-8c0f8362d5da\" target=\"_top\" title=\"psysml:3e79cc57-1ff4-4d61-ad54-8c0f8362d5da\" xlink:actuate=\"onRequest\" xlink:href=\"psysml:3e79cc57-1ff4-4d61-ad54-8c0f8362d5da\" xlink:show=\"new\" xlink:title=\"psysml:3e79cc57-1ff4-4d61-ad54-8c0f8362d5da\" xlink:type=\"simple\"><g id=\"elem_E10\"><rect fill=\"#FFFFFF\" height=\"48.2656\" id=\"E10\" rx=\"10\" ry=\"10\" style=\"stroke:#181818;stroke-width:0.5;\" width=\"59\" x=\"166.5\" y=\"62.5\"/><text fill=\"#000000\" font-family=\"sans-serif\" font-size=\"12\" font-style=\"italic\" lengthAdjust=\"spacing\" textLength=\"40\" x=\"176\" y=\"78.6387\">«part»</text><text fill=\"#000000\" font-family=\"sans-serif\" font-size=\"14\" lengthAdjust=\"spacing\" textLength=\"45\" x=\"169.5\" y=\"94.4639\">g[1..n]</text><line style=\"stroke:#181818;stroke-width:0.5;\" x1=\"167.5\" x2=\"224.5\" y1=\"102.7656\" y2=\"102.7656\"/></g></a><!--MD5=[1dd1bfd58a279cf63c5f349dbc8fc6a1]\n",
       "class E11--><a href=\"psysml:cae84388-2b2f-4b61-9caf-e3201f6c4bb4\" target=\"_top\" title=\"psysml:cae84388-2b2f-4b61-9caf-e3201f6c4bb4\" xlink:actuate=\"onRequest\" xlink:href=\"psysml:cae84388-2b2f-4b61-9caf-e3201f6c4bb4\" xlink:show=\"new\" xlink:title=\"psysml:cae84388-2b2f-4b61-9caf-e3201f6c4bb4\" xlink:type=\"simple\"><g id=\"elem_E11\"><rect fill=\"#FFFFFF\" height=\"91.3781\" id=\"E11\" style=\"stroke:#181818;stroke-width:0.5;\" width=\"99\" x=\"32.5\" y=\"41\"/><text fill=\"#000000\" font-family=\"sans-serif\" font-size=\"12\" font-style=\"italic\" lengthAdjust=\"spacing\" textLength=\"97\" x=\"33.5\" y=\"57.1387\">«attribute  def»</text><text fill=\"#000000\" font-family=\"sans-serif\" font-size=\"14\" lengthAdjust=\"spacing\" textLength=\"9\" x=\"77.5\" y=\"72.9639\">A</text><line style=\"stroke:#181818;stroke-width:0.5;\" x1=\"33.5\" x2=\"130.5\" y1=\"81.2656\" y2=\"81.2656\"/><text fill=\"#000000\" font-family=\"sans-serif\" font-size=\"14\" lengthAdjust=\"spacing\" textLength=\"61\" x=\"38.5\" y=\"108.7795\">i: Integer</text><text fill=\"#000000\" font-family=\"sans-serif\" font-size=\"14\" lengthAdjust=\"spacing\" textLength=\"25\" x=\"38.5\" y=\"125.0764\">x: A</text><text fill=\"#000000\" font-family=\"sans-serif\" font-size=\"14\" font-style=\"italic\" lengthAdjust=\"spacing\" textLength=\"66\" x=\"49\" y=\"93.6123\">attributes</text></g></a><!--MD5=[15ebcb19ae302d9b601edb458606d402]\n",
       "link E5 to E2--><g id=\"link_E5_E2\"><a href=\"psysml:356b088d-f058-4498-8151-02a64d9c5f99\" target=\"_top\" title=\"psysml:356b088d-f058-4498-8151-02a64d9c5f99\" xlink:actuate=\"onRequest\" xlink:href=\"psysml:356b088d-f058-4498-8151-02a64d9c5f99\" xlink:show=\"new\" xlink:title=\"psysml:356b088d-f058-4498-8151-02a64d9c5f99\" xlink:type=\"simple\"><path d=\"M620.25,110.55 C620.25,110.55 620.25,171.63 620.25,171.63 \" fill=\"none\" id=\"E5-to-E2\" style=\"stroke:#181818;stroke-width:1.0;\"/><polygon fill=\"#FFFFFF\" points=\"620.25,191.63,613.25,172.63,627.25,172.63,620.25,191.63\" style=\"stroke:#181818;stroke-width:1.0;\"/><ellipse cx=\"615.25\" cy=\"166.93\" fill=\"#181818\" rx=\"2\" ry=\"2\" style=\"stroke:#181818;stroke-width:1.0;\"/><ellipse cx=\"625.25\" cy=\"166.93\" fill=\"#181818\" rx=\"2\" ry=\"2\" style=\"stroke:#181818;stroke-width:1.0;\"/></a></g><!--MD5=[2351f337d6de0f557b50152ba70847b5]\n",
       "link E6 to E2--><g id=\"link_E6_E2\"><a href=\"psysml:849948e9-2a63-47c9-a787-96ae36e28ef0\" target=\"_top\" title=\"psysml:849948e9-2a63-47c9-a787-96ae36e28ef0\" xlink:actuate=\"onRequest\" xlink:href=\"psysml:849948e9-2a63-47c9-a787-96ae36e28ef0\" xlink:show=\"new\" xlink:title=\"psysml:849948e9-2a63-47c9-a787-96ae36e28ef0\" xlink:type=\"simple\"><path d=\"M567.5,110.55 C567.5,110.55 567.5,171.63 567.5,171.63 \" fill=\"none\" id=\"E6-to-E2\" style=\"stroke:#181818;stroke-width:1.0;\"/><polygon fill=\"#FFFFFF\" points=\"567.5,191.63,560.5,172.63,574.5,172.63,567.5,191.63\" style=\"stroke:#181818;stroke-width:1.0;\"/><ellipse cx=\"562.5\" cy=\"166.93\" fill=\"#181818\" rx=\"2\" ry=\"2\" style=\"stroke:#181818;stroke-width:1.0;\"/><ellipse cx=\"572.5\" cy=\"166.93\" fill=\"#181818\" rx=\"2\" ry=\"2\" style=\"stroke:#181818;stroke-width:1.0;\"/></a></g><!--MD5=[c58bae33447490ed3cafbf3efb9dbc63]\n",
       "@startuml\r\n",
       "skin sysmlbw\r\n",
       "skinparam monochrome true\r\n",
       "skinparam wrapWidth 300\r\n",
       "hide circle\r\n",
       "skinparam linetype ortho\r\n",
       "\r\n",
       "package \"MultiplicityTest\" as E1  [[psysml:26edc399-ba1b-4e26-98ec-184b2d561983 ]]  {\r\n",
       "comp def \"P\" as E2  <<(T,blue) part  def>> [[psysml:a78c9232-7355-4122-98e1-61ea033b6fbd ]] {\r\n",
       "}\r\n",
       "comp usage \"n: Integer  \" as E3  <<(T,blue) attribute>> [[psysml:6e5bcad0-e721-42f0-8965-8cf810de127c ]] {\r\n",
       "##//values//##\r\n",
       " <U+003D> 5\r\n",
       "}\r\n",
       "comp usage \"a[1]  \" as E4  <<(T,blue) part>> [[psysml:58ca86c4-6609-462b-9948-87aadb08d281 ]] {\r\n",
       "}\r\n",
       "comp usage \"b: P[0..2]  \" as E5  <<(T,blue) part>> [[psysml:8959fced-ddce-434c-832c-e17faa00a5de ]] {\r\n",
       "}\r\n",
       "comp usage \"c: P[2..*]  \" as E6  <<(T,blue) part>> [[psysml:4ac8fd09-bbc3-4ec3-ba18-7592ef56bccd ]] {\r\n",
       "}\r\n",
       "comp usage \"d[*]  \" as E7  <<(T,blue) part>> [[psysml:58aa0206-e878-4c1d-8c3a-c879ca6e4b13 ]] {\r\n",
       "}\r\n",
       "comp usage \"e[n]  \" as E8  <<(T,blue) part>> [[psysml:21978b5e-874b-4020-b12b-41f872f49c78 ]] {\r\n",
       "}\r\n",
       "comp usage \"f[n..*]  \" as E9  <<(T,blue) part>> [[psysml:79f00190-11a9-479d-9f29-e880a27768bf ]] {\r\n",
       "}\r\n",
       "comp usage \"g[1..n]  \" as E10  <<(T,blue) part>> [[psysml:3e79cc57-1ff4-4d61-ad54-8c0f8362d5da ]] {\r\n",
       "}\r\n",
       "comp def \"A\" as E11  <<(T,blue) attribute  def>> [[psysml:cae84388-2b2f-4b61-9caf-e3201f6c4bb4 ]] {\r\n",
       "##//attributes//##\r\n",
       "i: Integer\r\n",
       "x: A\r\n",
       "}\r\n",
       "}\r\n",
       "E5 - -:|> E2 [[psysml:356b088d-f058-4498-8151-02a64d9c5f99 ]] \r\n",
       "E6 - -:|> E2 [[psysml:849948e9-2a63-47c9-a787-96ae36e28ef0 ]] \r\n",
       "@enduml\r\n",
       "\n",
       "PlantUML version 1.2022.7(Mon Aug 22 17:01:30 UTC 2022)\n",
       "(EPL source distribution)\n",
       "Java Runtime: OpenJDK Runtime Environment\n",
       "JVM: OpenJDK 64-Bit Server VM\n",
       "Default Encoding: UTF-8\n",
       "Language: en\n",
       "Country: null\n",
       "--></g></svg>"
      ]
     },
     "execution_count": 52,
     "metadata": {},
     "output_type": "execute_result"
    }
   ],
   "source": [
    "%viz --style=\"ORTHOLINE\" --view=\"Tree\" \"MultiplicityTest\""
   ]
  },
  {
   "cell_type": "code",
   "execution_count": 53,
   "id": "9cee9e39",
   "metadata": {
    "execution": {
     "iopub.execute_input": "2024-12-16T03:27:08.083048Z",
     "iopub.status.busy": "2024-12-16T03:27:08.082816Z",
     "iopub.status.idle": "2024-12-16T03:27:08.089938Z",
     "shell.execute_reply": "2024-12-16T03:27:08.089749Z"
    }
   },
   "outputs": [
    {
     "data": {
      "image/svg+xml": [
       "<?xml version=\"1.0\" encoding=\"UTF-8\" standalone=\"no\"?><svg xmlns=\"http://www.w3.org/2000/svg\" xmlns:xlink=\"http://www.w3.org/1999/xlink\" contentStyleType=\"text/css\" height=\"10px\" preserveAspectRatio=\"none\" style=\"width:10px;height:10px;background:#FFFFFF;\" version=\"1.1\" viewBox=\"0 0 10 10\" width=\"10px\" zoomAndPan=\"magnify\"><defs/><g><!--MD5=[db5337d1ba6fd3a35e07e04988169323]\n",
       "@startuml\r\n",
       "skin sysmlbw\r\n",
       "skinparam monochrome true\r\n",
       "skinparam wrapWidth 300\r\n",
       "hide circle\r\n",
       "skinparam linetype ortho\r\n",
       "\r\n",
       "@enduml\r\n",
       "\n",
       "PlantUML version 1.2022.7(Mon Aug 22 17:01:30 UTC 2022)\n",
       "(EPL source distribution)\n",
       "Java Runtime: OpenJDK Runtime Environment\n",
       "JVM: OpenJDK 64-Bit Server VM\n",
       "Default Encoding: UTF-8\n",
       "Language: en\n",
       "Country: null\n",
       "--></g></svg>"
      ]
     },
     "execution_count": 53,
     "metadata": {},
     "output_type": "execute_result"
    }
   ],
   "source": [
    "%viz --style=\"ORTHOLINE\" --view=\"State\" \"MultiplicityTest\""
   ]
  },
  {
   "cell_type": "code",
   "execution_count": 54,
   "id": "e95144a5",
   "metadata": {
    "execution": {
     "iopub.execute_input": "2024-12-16T03:27:08.145215Z",
     "iopub.status.busy": "2024-12-16T03:27:08.144987Z",
     "iopub.status.idle": "2024-12-16T03:27:08.163862Z",
     "shell.execute_reply": "2024-12-16T03:27:08.163023Z"
    }
   },
   "outputs": [
    {
     "data": {
      "image/svg+xml": [
       "<?xml version=\"1.0\" encoding=\"UTF-8\" standalone=\"no\"?><svg xmlns=\"http://www.w3.org/2000/svg\" xmlns:xlink=\"http://www.w3.org/1999/xlink\" contentStyleType=\"text/css\" height=\"194px\" preserveAspectRatio=\"none\" style=\"width:881px;height:194px;background:#FFFFFF;\" version=\"1.1\" viewBox=\"0 0 881 194\" width=\"881px\" zoomAndPan=\"magnify\"><defs/><g><!--MD5=[fbc87193dbaf4d95561dea2c320d4a47]\n",
       "cluster E1--><g id=\"cluster_E1\"><a href=\"psysml:26edc399-ba1b-4e26-98ec-184b2d561983\" target=\"_top\" title=\"psysml:26edc399-ba1b-4e26-98ec-184b2d561983\" xlink:actuate=\"onRequest\" xlink:href=\"psysml:26edc399-ba1b-4e26-98ec-184b2d561983\" xlink:show=\"new\" xlink:title=\"psysml:26edc399-ba1b-4e26-98ec-184b2d561983\" xlink:type=\"simple\"><polygon fill=\"none\" points=\"16,6,130,6,137,28.2969,864,28.2969,864,187,16,187,16,6\" style=\"stroke:#000000;stroke-width:1.5;\"/><line style=\"stroke:#000000;stroke-width:1.5;\" x1=\"16\" x2=\"137\" y1=\"28.2969\" y2=\"28.2969\"/><text fill=\"#000000\" font-family=\"sans-serif\" font-size=\"14\" font-weight=\"bold\" lengthAdjust=\"spacing\" textLength=\"108\" x=\"20\" y=\"20.9951\">MultiplicityTest</text></a></g><!--MD5=[09b614a08d8cba4a07c9adeb5e0fee81]\n",
       "class E3--><a href=\"psysml:6e5bcad0-e721-42f0-8965-8cf810de127c\" target=\"_top\" title=\"psysml:6e5bcad0-e721-42f0-8965-8cf810de127c\" xlink:actuate=\"onRequest\" xlink:href=\"psysml:6e5bcad0-e721-42f0-8965-8cf810de127c\" xlink:show=\"new\" xlink:title=\"psysml:6e5bcad0-e721-42f0-8965-8cf810de127c\" xlink:type=\"simple\"><g id=\"elem_E3\"><rect fill=\"#FFFFFF\" height=\"75.0813\" id=\"E3\" rx=\"10\" ry=\"10\" style=\"stroke:#181818;stroke-width:0.5;\" width=\"81\" x=\"766.5\" y=\"41\"/><text fill=\"#000000\" font-family=\"sans-serif\" font-size=\"12\" font-style=\"italic\" lengthAdjust=\"spacing\" textLength=\"69\" x=\"772.5\" y=\"57.1387\">«attribute»</text><text fill=\"#000000\" font-family=\"sans-serif\" font-size=\"14\" lengthAdjust=\"spacing\" textLength=\"67\" x=\"769.5\" y=\"72.9639\">n: Integer</text><line style=\"stroke:#181818;stroke-width:0.5;\" x1=\"767.5\" x2=\"846.5\" y1=\"81.2656\" y2=\"81.2656\"/><text fill=\"#000000\" font-family=\"sans-serif\" font-size=\"14\" lengthAdjust=\"spacing\" textLength=\"25\" x=\"772.5\" y=\"108.7795\">= 5</text><text fill=\"#000000\" font-family=\"sans-serif\" font-size=\"14\" font-style=\"italic\" lengthAdjust=\"spacing\" textLength=\"44\" x=\"785\" y=\"93.6123\">values</text></g></a><g><a href=\"psysml:cae84388-2b2f-4b61-9caf-e3201f6c4bb4\" target=\"_top\" title=\"psysml:cae84388-2b2f-4b61-9caf-e3201f6c4bb4\" xlink:actuate=\"onRequest\" xlink:href=\"psysml:cae84388-2b2f-4b61-9caf-e3201f6c4bb4\" xlink:show=\"new\" xlink:title=\"psysml:cae84388-2b2f-4b61-9caf-e3201f6c4bb4\" xlink:type=\"simple\"><rect fill=\"#FFFFFF\" height=\"45.2656\" id=\"E11\" style=\"stroke:#383838;stroke-width:1.5;\" width=\"104\" x=\"627\" y=\"56\"/><text fill=\"#000000\" font-family=\"sans-serif\" font-size=\"12\" font-style=\"italic\" lengthAdjust=\"spacing\" textLength=\"97\" x=\"630.5\" y=\"72.1387\">«attribute  def»</text><text fill=\"#000000\" font-family=\"sans-serif\" font-size=\"14\" lengthAdjust=\"spacing\" textLength=\"9\" x=\"674.5\" y=\"87.9639\">A</text></a></g><g><a href=\"psysml:a78c9232-7355-4122-98e1-61ea033b6fbd\" target=\"_top\" title=\"psysml:a78c9232-7355-4122-98e1-61ea033b6fbd\" xlink:actuate=\"onRequest\" xlink:href=\"psysml:a78c9232-7355-4122-98e1-61ea033b6fbd\" xlink:show=\"new\" xlink:title=\"psysml:a78c9232-7355-4122-98e1-61ea033b6fbd\" xlink:type=\"simple\"><rect fill=\"#FFFFFF\" height=\"45.2656\" id=\"E2\" style=\"stroke:#383838;stroke-width:1.5;\" width=\"75\" x=\"401.5\" y=\"126\"/><text fill=\"#000000\" font-family=\"sans-serif\" font-size=\"12\" font-style=\"italic\" lengthAdjust=\"spacing\" textLength=\"68\" x=\"405\" y=\"142.1387\">«part  def»</text><text fill=\"#000000\" font-family=\"sans-serif\" font-size=\"14\" lengthAdjust=\"spacing\" textLength=\"9\" x=\"434.5\" y=\"157.9639\">P</text></a></g><g><a href=\"psysml:58ca86c4-6609-462b-9948-87aadb08d281\" target=\"_top\" title=\"psysml:58ca86c4-6609-462b-9948-87aadb08d281\" xlink:actuate=\"onRequest\" xlink:href=\"psysml:58ca86c4-6609-462b-9948-87aadb08d281\" xlink:show=\"new\" xlink:title=\"psysml:58ca86c4-6609-462b-9948-87aadb08d281\" xlink:type=\"simple\"><rect fill=\"#FFFFFF\" height=\"40\" id=\"E4\" rx=\"10\" ry=\"10\" style=\"stroke:#383838;stroke-width:1.5;\" width=\"50\" x=\"542\" y=\"58.5\"/><text fill=\"#000000\" font-family=\"sans-serif\" font-size=\"14\" lengthAdjust=\"spacing\" textLength=\"8\" x=\"563\" y=\"76.4951\">a</text></a></g><g><a href=\"psysml:8959fced-ddce-434c-832c-e17faa00a5de\" target=\"_top\" title=\"psysml:8959fced-ddce-434c-832c-e17faa00a5de\" xlink:actuate=\"onRequest\" xlink:href=\"psysml:8959fced-ddce-434c-832c-e17faa00a5de\" xlink:show=\"new\" xlink:title=\"psysml:8959fced-ddce-434c-832c-e17faa00a5de\" xlink:type=\"simple\"><rect fill=\"#FFFFFF\" height=\"40\" id=\"E5\" rx=\"10\" ry=\"10\" style=\"stroke:#383838;stroke-width:1.5;\" width=\"50\" x=\"457\" y=\"58.5\"/><text fill=\"#000000\" font-family=\"sans-serif\" font-size=\"14\" lengthAdjust=\"spacing\" textLength=\"27\" x=\"468.5\" y=\"76.4951\">b: P</text></a></g><g><a href=\"psysml:4ac8fd09-bbc3-4ec3-ba18-7592ef56bccd\" target=\"_top\" title=\"psysml:4ac8fd09-bbc3-4ec3-ba18-7592ef56bccd\" xlink:actuate=\"onRequest\" xlink:href=\"psysml:4ac8fd09-bbc3-4ec3-ba18-7592ef56bccd\" xlink:show=\"new\" xlink:title=\"psysml:4ac8fd09-bbc3-4ec3-ba18-7592ef56bccd\" xlink:type=\"simple\"><rect fill=\"#FFFFFF\" height=\"40\" id=\"E6\" rx=\"10\" ry=\"10\" style=\"stroke:#383838;stroke-width:1.5;\" width=\"50\" x=\"372\" y=\"58.5\"/><text fill=\"#000000\" font-family=\"sans-serif\" font-size=\"14\" lengthAdjust=\"spacing\" textLength=\"26\" x=\"384\" y=\"76.4951\">c: P</text></a></g><g><a href=\"psysml:58aa0206-e878-4c1d-8c3a-c879ca6e4b13\" target=\"_top\" title=\"psysml:58aa0206-e878-4c1d-8c3a-c879ca6e4b13\" xlink:actuate=\"onRequest\" xlink:href=\"psysml:58aa0206-e878-4c1d-8c3a-c879ca6e4b13\" xlink:show=\"new\" xlink:title=\"psysml:58aa0206-e878-4c1d-8c3a-c879ca6e4b13\" xlink:type=\"simple\"><rect fill=\"#FFFFFF\" height=\"40\" id=\"E7\" rx=\"10\" ry=\"10\" style=\"stroke:#383838;stroke-width:1.5;\" width=\"50\" x=\"287\" y=\"58.5\"/><text fill=\"#000000\" font-family=\"sans-serif\" font-size=\"14\" lengthAdjust=\"spacing\" textLength=\"9\" x=\"307.5\" y=\"76.4951\">d</text></a></g><g><a href=\"psysml:21978b5e-874b-4020-b12b-41f872f49c78\" target=\"_top\" title=\"psysml:21978b5e-874b-4020-b12b-41f872f49c78\" xlink:actuate=\"onRequest\" xlink:href=\"psysml:21978b5e-874b-4020-b12b-41f872f49c78\" xlink:show=\"new\" xlink:title=\"psysml:21978b5e-874b-4020-b12b-41f872f49c78\" xlink:type=\"simple\"><rect fill=\"#FFFFFF\" height=\"40\" id=\"E8\" rx=\"10\" ry=\"10\" style=\"stroke:#383838;stroke-width:1.5;\" width=\"50\" x=\"202\" y=\"58.5\"/><text fill=\"#000000\" font-family=\"sans-serif\" font-size=\"14\" lengthAdjust=\"spacing\" textLength=\"9\" x=\"222.5\" y=\"76.4951\">e</text></a></g><g><a href=\"psysml:79f00190-11a9-479d-9f29-e880a27768bf\" target=\"_top\" title=\"psysml:79f00190-11a9-479d-9f29-e880a27768bf\" xlink:actuate=\"onRequest\" xlink:href=\"psysml:79f00190-11a9-479d-9f29-e880a27768bf\" xlink:show=\"new\" xlink:title=\"psysml:79f00190-11a9-479d-9f29-e880a27768bf\" xlink:type=\"simple\"><rect fill=\"#FFFFFF\" height=\"40\" id=\"E9\" rx=\"10\" ry=\"10\" style=\"stroke:#383838;stroke-width:1.5;\" width=\"50\" x=\"117\" y=\"58.5\"/><text fill=\"#000000\" font-family=\"sans-serif\" font-size=\"14\" lengthAdjust=\"spacing\" textLength=\"4\" x=\"140\" y=\"76.4951\">f</text></a></g><g><a href=\"psysml:3e79cc57-1ff4-4d61-ad54-8c0f8362d5da\" target=\"_top\" title=\"psysml:3e79cc57-1ff4-4d61-ad54-8c0f8362d5da\" xlink:actuate=\"onRequest\" xlink:href=\"psysml:3e79cc57-1ff4-4d61-ad54-8c0f8362d5da\" xlink:show=\"new\" xlink:title=\"psysml:3e79cc57-1ff4-4d61-ad54-8c0f8362d5da\" xlink:type=\"simple\"><rect fill=\"#FFFFFF\" height=\"40\" id=\"E10\" rx=\"10\" ry=\"10\" style=\"stroke:#383838;stroke-width:1.5;\" width=\"50\" x=\"32\" y=\"58.5\"/><text fill=\"#000000\" font-family=\"sans-serif\" font-size=\"14\" lengthAdjust=\"spacing\" textLength=\"9\" x=\"52.5\" y=\"76.4951\">g</text></a></g><!--MD5=[15ebcb19ae302d9b601edb458606d402]\n",
       "link E5 to E2--><g id=\"link_E5_E2\"><a href=\"psysml:356b088d-f058-4498-8151-02a64d9c5f99\" target=\"_top\" title=\"psysml:356b088d-f058-4498-8151-02a64d9c5f99\" xlink:actuate=\"onRequest\" xlink:href=\"psysml:356b088d-f058-4498-8151-02a64d9c5f99\" xlink:show=\"new\" xlink:title=\"psysml:356b088d-f058-4498-8151-02a64d9c5f99\" xlink:type=\"simple\"><path d=\"M466.75,98.75 C466.75,98.75 466.75,105.59 466.75,105.59 \" fill=\"none\" id=\"E5-to-E2\" style=\"stroke:#181818;stroke-width:1.0;\"/><polygon fill=\"#FFFFFF\" points=\"466.75,125.59,459.75,106.59,473.75,106.59,466.75,125.59\" style=\"stroke:#181818;stroke-width:1.0;\"/><ellipse cx=\"461.75\" cy=\"100.89\" fill=\"#181818\" rx=\"2\" ry=\"2\" style=\"stroke:#181818;stroke-width:1.0;\"/><ellipse cx=\"471.75\" cy=\"100.89\" fill=\"#181818\" rx=\"2\" ry=\"2\" style=\"stroke:#181818;stroke-width:1.0;\"/></a></g><!--MD5=[2351f337d6de0f557b50152ba70847b5]\n",
       "link E6 to E2--><g id=\"link_E6_E2\"><a href=\"psysml:849948e9-2a63-47c9-a787-96ae36e28ef0\" target=\"_top\" title=\"psysml:849948e9-2a63-47c9-a787-96ae36e28ef0\" xlink:actuate=\"onRequest\" xlink:href=\"psysml:849948e9-2a63-47c9-a787-96ae36e28ef0\" xlink:show=\"new\" xlink:title=\"psysml:849948e9-2a63-47c9-a787-96ae36e28ef0\" xlink:type=\"simple\"><path d=\"M411.75,98.75 C411.75,98.75 411.75,105.59 411.75,105.59 \" fill=\"none\" id=\"E6-to-E2\" style=\"stroke:#181818;stroke-width:1.0;\"/><polygon fill=\"#FFFFFF\" points=\"411.75,125.59,404.75,106.59,418.75,106.59,411.75,125.59\" style=\"stroke:#181818;stroke-width:1.0;\"/><ellipse cx=\"406.75\" cy=\"100.89\" fill=\"#181818\" rx=\"2\" ry=\"2\" style=\"stroke:#181818;stroke-width:1.0;\"/><ellipse cx=\"416.75\" cy=\"100.89\" fill=\"#181818\" rx=\"2\" ry=\"2\" style=\"stroke:#181818;stroke-width:1.0;\"/></a></g><!--MD5=[63aad6135f687035ba8e5e300e2c5ede]\n",
       "@startuml\r\n",
       "skin sysmlbw\r\n",
       "skinparam monochrome true\r\n",
       "skinparam wrapWidth 300\r\n",
       "hide circle\r\n",
       "skinparam linetype ortho\r\n",
       "skinparam ranksep 10\r\n",
       "skinparam rectangle {\r\n",
       " backgroundColor<<block>> LightGreen\r\n",
       "}\r\n",
       "\r\n",
       "package \"MultiplicityTest\" as E1  [[psysml:26edc399-ba1b-4e26-98ec-184b2d561983 ]]  {\r\n",
       "rec def \"P\" as E2  <<(T,blue) part  def>> [[psysml:a78c9232-7355-4122-98e1-61ea033b6fbd ]] {\r\n",
       "}\r\n",
       "comp usage \"n: Integer  \" as E3  <<(T,blue) attribute>> [[psysml:6e5bcad0-e721-42f0-8965-8cf810de127c ]] {\r\n",
       "##//values//##\r\n",
       " <U+003D> 5\r\n",
       "}\r\n",
       "rec usage \"a\" as E4 [[psysml:58ca86c4-6609-462b-9948-87aadb08d281 ]] {\r\n",
       "}\r\n",
       "rec usage \"b: P\" as E5 [[psysml:8959fced-ddce-434c-832c-e17faa00a5de ]] {\r\n",
       "}\r\n",
       "rec usage \"c: P\" as E6 [[psysml:4ac8fd09-bbc3-4ec3-ba18-7592ef56bccd ]] {\r\n",
       "}\r\n",
       "rec usage \"d\" as E7 [[psysml:58aa0206-e878-4c1d-8c3a-c879ca6e4b13 ]] {\r\n",
       "}\r\n",
       "rec usage \"e\" as E8 [[psysml:21978b5e-874b-4020-b12b-41f872f49c78 ]] {\r\n",
       "}\r\n",
       "rec usage \"f\" as E9 [[psysml:79f00190-11a9-479d-9f29-e880a27768bf ]] {\r\n",
       "}\r\n",
       "rec usage \"g\" as E10 [[psysml:3e79cc57-1ff4-4d61-ad54-8c0f8362d5da ]] {\r\n",
       "}\r\n",
       "def \"A\" as E11  <<(T,blue) attribute  def>> [[psysml:cae84388-2b2f-4b61-9caf-e3201f6c4bb4 ]] \r\n",
       "}\r\n",
       "E5 - -:|> E2 [[psysml:356b088d-f058-4498-8151-02a64d9c5f99 ]] \r\n",
       "E6 - -:|> E2 [[psysml:849948e9-2a63-47c9-a787-96ae36e28ef0 ]] \r\n",
       "@enduml\r\n",
       "\n",
       "PlantUML version 1.2022.7(Mon Aug 22 17:01:30 UTC 2022)\n",
       "(EPL source distribution)\n",
       "Java Runtime: OpenJDK Runtime Environment\n",
       "JVM: OpenJDK 64-Bit Server VM\n",
       "Default Encoding: UTF-8\n",
       "Language: en\n",
       "Country: null\n",
       "--></g></svg>"
      ]
     },
     "execution_count": 54,
     "metadata": {},
     "output_type": "execute_result"
    }
   ],
   "source": [
    "%viz --style=\"ORTHOLINE\" --view=\"Interconnection\" \"MultiplicityTest\""
   ]
  },
  {
   "cell_type": "code",
   "execution_count": 55,
   "id": "2522d5cb",
   "metadata": {
    "execution": {
     "iopub.execute_input": "2024-12-16T03:27:08.216392Z",
     "iopub.status.busy": "2024-12-16T03:27:08.216149Z",
     "iopub.status.idle": "2024-12-16T03:27:08.222034Z",
     "shell.execute_reply": "2024-12-16T03:27:08.221840Z"
    }
   },
   "outputs": [
    {
     "data": {
      "image/svg+xml": [
       "<?xml version=\"1.0\" encoding=\"UTF-8\" standalone=\"no\"?><svg xmlns=\"http://www.w3.org/2000/svg\" xmlns:xlink=\"http://www.w3.org/1999/xlink\" contentStyleType=\"text/css\" height=\"10px\" preserveAspectRatio=\"none\" style=\"width:10px;height:10px;background:#FFFFFF;\" version=\"1.1\" viewBox=\"0 0 10 10\" width=\"10px\" zoomAndPan=\"magnify\"><defs/><g><!--MD5=[13654d10b9e2b79db36f00fd31e63fb2]\n",
       "@startuml\r\n",
       "skin sysmlbw\r\n",
       "skinparam monochrome true\r\n",
       "skinparam wrapWidth 300\r\n",
       "hide circle\r\n",
       "skinparam linetype ortho\r\n",
       "skinparam ranksep 8\r\n",
       "\r\n",
       "@enduml\r\n",
       "\n",
       "PlantUML version 1.2022.7(Mon Aug 22 17:01:30 UTC 2022)\n",
       "(EPL source distribution)\n",
       "Java Runtime: OpenJDK Runtime Environment\n",
       "JVM: OpenJDK 64-Bit Server VM\n",
       "Default Encoding: UTF-8\n",
       "Language: en\n",
       "Country: null\n",
       "--></g></svg>"
      ]
     },
     "execution_count": 55,
     "metadata": {},
     "output_type": "execute_result"
    }
   ],
   "source": [
    "%viz --style=\"ORTHOLINE\" --view=\"Action\" \"MultiplicityTest\""
   ]
  },
  {
   "cell_type": "code",
   "execution_count": 56,
   "id": "08c74a26",
   "metadata": {
    "execution": {
     "iopub.execute_input": "2024-12-16T03:27:08.272762Z",
     "iopub.status.busy": "2024-12-16T03:27:08.272554Z",
     "iopub.status.idle": "2024-12-16T03:27:08.277683Z",
     "shell.execute_reply": "2024-12-16T03:27:08.277515Z"
    }
   },
   "outputs": [
    {
     "data": {
      "image/svg+xml": [
       "<?xml version=\"1.0\" encoding=\"UTF-8\" standalone=\"no\"?><svg xmlns=\"http://www.w3.org/2000/svg\" xmlns:xlink=\"http://www.w3.org/1999/xlink\" contentStyleType=\"text/css\" height=\"10px\" preserveAspectRatio=\"none\" style=\"width:10px;height:10px;background:#FFFFFF;\" version=\"1.1\" viewBox=\"0 0 10 10\" width=\"10px\" zoomAndPan=\"magnify\"><defs/><g><!--MD5=[5b6eb85285460e34b0e63326afe72cc5]\n",
       "@startuml\r\n",
       "skin sysmlbw\r\n",
       "skinparam monochrome true\r\n",
       "skinparam wrapWidth 300\r\n",
       "hide circle\r\n",
       "skinparam linetype ortho\r\n",
       "skinparam roundcorner 20\r\n",
       "skinparam BoxPadding 20\r\n",
       "skinparam SequenceBoxBackgroundColor #white\r\n",
       "skinparam style strictuml\r\n",
       "skinparam maxMessageSize 100\r\n",
       "\r\n",
       "@enduml\r\n",
       "\n",
       "PlantUML version 1.2022.7(Mon Aug 22 17:01:30 UTC 2022)\n",
       "(EPL source distribution)\n",
       "Java Runtime: OpenJDK Runtime Environment\n",
       "JVM: OpenJDK 64-Bit Server VM\n",
       "Default Encoding: UTF-8\n",
       "Language: en\n",
       "Country: null\n",
       "--></g></svg>"
      ]
     },
     "execution_count": 56,
     "metadata": {},
     "output_type": "execute_result"
    }
   ],
   "source": [
    "%viz --style=\"ORTHOLINE\" --view=\"Sequence\" \"MultiplicityTest\""
   ]
  },
  {
   "cell_type": "code",
   "execution_count": 57,
   "id": "bb8c7aba",
   "metadata": {
    "execution": {
     "iopub.execute_input": "2024-12-16T03:27:08.330771Z",
     "iopub.status.busy": "2024-12-16T03:27:08.330560Z",
     "iopub.status.idle": "2024-12-16T03:27:08.350686Z",
     "shell.execute_reply": "2024-12-16T03:27:08.349866Z"
    }
   },
   "outputs": [
    {
     "data": {
      "image/svg+xml": [
       "<?xml version=\"1.0\" encoding=\"UTF-8\" standalone=\"no\"?><svg xmlns=\"http://www.w3.org/2000/svg\" xmlns:xlink=\"http://www.w3.org/1999/xlink\" contentStyleType=\"text/css\" height=\"263px\" preserveAspectRatio=\"none\" style=\"width:821px;height:263px;background:#FFFFFF;\" version=\"1.1\" viewBox=\"0 0 821 263\" width=\"821px\" zoomAndPan=\"magnify\"><defs/><g><!--MD5=[fbc87193dbaf4d95561dea2c320d4a47]\n",
       "cluster E1--><g id=\"cluster_E1\"><a href=\"psysml:26edc399-ba1b-4e26-98ec-184b2d561983\" target=\"_top\" title=\"psysml:26edc399-ba1b-4e26-98ec-184b2d561983\" xlink:actuate=\"onRequest\" xlink:href=\"psysml:26edc399-ba1b-4e26-98ec-184b2d561983\" xlink:show=\"new\" xlink:title=\"psysml:26edc399-ba1b-4e26-98ec-184b2d561983\" xlink:type=\"simple\"><polygon fill=\"none\" points=\"16,6,130,6,137,28.2969,804,28.2969,804,256,16,256,16,6\" style=\"stroke:#000000;stroke-width:1.5;\"/><line style=\"stroke:#000000;stroke-width:1.5;\" x1=\"16\" x2=\"137\" y1=\"28.2969\" y2=\"28.2969\"/><text fill=\"#000000\" font-family=\"sans-serif\" font-size=\"14\" font-weight=\"bold\" lengthAdjust=\"spacing\" textLength=\"108\" x=\"20\" y=\"20.9951\">MultiplicityTest</text></a></g><!--MD5=[b4997ac47864f28c2f74865a473b2911]\n",
       "class E2--><a href=\"psysml:a78c9232-7355-4122-98e1-61ea033b6fbd\" target=\"_top\" title=\"psysml:a78c9232-7355-4122-98e1-61ea033b6fbd\" xlink:actuate=\"onRequest\" xlink:href=\"psysml:a78c9232-7355-4122-98e1-61ea033b6fbd\" xlink:show=\"new\" xlink:title=\"psysml:a78c9232-7355-4122-98e1-61ea033b6fbd\" xlink:type=\"simple\"><g id=\"elem_E2\"><rect fill=\"#FFFFFF\" height=\"48.2656\" id=\"E2\" style=\"stroke:#181818;stroke-width:0.5;\" width=\"70\" x=\"499\" y=\"192\"/><text fill=\"#000000\" font-family=\"sans-serif\" font-size=\"12\" font-style=\"italic\" lengthAdjust=\"spacing\" textLength=\"68\" x=\"500\" y=\"208.1387\">«part  def»</text><text fill=\"#000000\" font-family=\"sans-serif\" font-size=\"14\" lengthAdjust=\"spacing\" textLength=\"9\" x=\"529.5\" y=\"223.9639\">P</text><line style=\"stroke:#181818;stroke-width:0.5;\" x1=\"500\" x2=\"568\" y1=\"232.2656\" y2=\"232.2656\"/></g></a><!--MD5=[09b614a08d8cba4a07c9adeb5e0fee81]\n",
       "class E3--><a href=\"psysml:6e5bcad0-e721-42f0-8965-8cf810de127c\" target=\"_top\" title=\"psysml:6e5bcad0-e721-42f0-8965-8cf810de127c\" xlink:actuate=\"onRequest\" xlink:href=\"psysml:6e5bcad0-e721-42f0-8965-8cf810de127c\" xlink:show=\"new\" xlink:title=\"psysml:6e5bcad0-e721-42f0-8965-8cf810de127c\" xlink:type=\"simple\"><g id=\"elem_E3\"><rect fill=\"#FFFFFF\" height=\"75.0813\" id=\"E3\" rx=\"10\" ry=\"10\" style=\"stroke:#181818;stroke-width:0.5;\" width=\"81\" x=\"706.5\" y=\"49\"/><text fill=\"#000000\" font-family=\"sans-serif\" font-size=\"12\" font-style=\"italic\" lengthAdjust=\"spacing\" textLength=\"69\" x=\"712.5\" y=\"65.1387\">«attribute»</text><text fill=\"#000000\" font-family=\"sans-serif\" font-size=\"14\" lengthAdjust=\"spacing\" textLength=\"67\" x=\"709.5\" y=\"80.9639\">n: Integer</text><line style=\"stroke:#181818;stroke-width:0.5;\" x1=\"707.5\" x2=\"786.5\" y1=\"89.2656\" y2=\"89.2656\"/><text fill=\"#000000\" font-family=\"sans-serif\" font-size=\"14\" lengthAdjust=\"spacing\" textLength=\"25\" x=\"712.5\" y=\"116.7795\">= 5</text><text fill=\"#000000\" font-family=\"sans-serif\" font-size=\"14\" font-style=\"italic\" lengthAdjust=\"spacing\" textLength=\"44\" x=\"725\" y=\"101.6123\">values</text></g></a><!--MD5=[ebbe1d658d1005bcc118a6aa81145e00]\n",
       "class E4--><a href=\"psysml:58ca86c4-6609-462b-9948-87aadb08d281\" target=\"_top\" title=\"psysml:58ca86c4-6609-462b-9948-87aadb08d281\" xlink:actuate=\"onRequest\" xlink:href=\"psysml:58ca86c4-6609-462b-9948-87aadb08d281\" xlink:show=\"new\" xlink:title=\"psysml:58ca86c4-6609-462b-9948-87aadb08d281\" xlink:type=\"simple\"><g id=\"elem_E4\"><rect fill=\"#FFFFFF\" height=\"48.2656\" id=\"E4\" rx=\"10\" ry=\"10\" style=\"stroke:#181818;stroke-width:0.5;\" width=\"42\" x=\"629\" y=\"62.5\"/><text fill=\"#000000\" font-family=\"sans-serif\" font-size=\"12\" font-style=\"italic\" lengthAdjust=\"spacing\" textLength=\"40\" x=\"630\" y=\"78.6387\">«part»</text><text fill=\"#000000\" font-family=\"sans-serif\" font-size=\"14\" lengthAdjust=\"spacing\" textLength=\"8\" x=\"642\" y=\"94.4639\">a</text><line style=\"stroke:#181818;stroke-width:0.5;\" x1=\"630\" x2=\"670\" y1=\"102.7656\" y2=\"102.7656\"/></g></a><!--MD5=[270fce915f116d4de14055a7c1d9a0f3]\n",
       "class E5--><a href=\"psysml:8959fced-ddce-434c-832c-e17faa00a5de\" target=\"_top\" title=\"psysml:8959fced-ddce-434c-832c-e17faa00a5de\" xlink:actuate=\"onRequest\" xlink:href=\"psysml:8959fced-ddce-434c-832c-e17faa00a5de\" xlink:show=\"new\" xlink:title=\"psysml:8959fced-ddce-434c-832c-e17faa00a5de\" xlink:type=\"simple\"><g id=\"elem_E5\"><rect fill=\"#FFFFFF\" height=\"48.2656\" id=\"E5\" rx=\"10\" ry=\"10\" style=\"stroke:#181818;stroke-width:0.5;\" width=\"42\" x=\"552\" y=\"62.5\"/><text fill=\"#000000\" font-family=\"sans-serif\" font-size=\"12\" font-style=\"italic\" lengthAdjust=\"spacing\" textLength=\"40\" x=\"553\" y=\"78.6387\">«part»</text><text fill=\"#000000\" font-family=\"sans-serif\" font-size=\"14\" lengthAdjust=\"spacing\" textLength=\"27\" x=\"555.5\" y=\"94.4639\">b: P</text><line style=\"stroke:#181818;stroke-width:0.5;\" x1=\"553\" x2=\"593\" y1=\"102.7656\" y2=\"102.7656\"/></g></a><!--MD5=[60a26617385b1d2d0262a64233df1f8d]\n",
       "class E6--><a href=\"psysml:4ac8fd09-bbc3-4ec3-ba18-7592ef56bccd\" target=\"_top\" title=\"psysml:4ac8fd09-bbc3-4ec3-ba18-7592ef56bccd\" xlink:actuate=\"onRequest\" xlink:href=\"psysml:4ac8fd09-bbc3-4ec3-ba18-7592ef56bccd\" xlink:show=\"new\" xlink:title=\"psysml:4ac8fd09-bbc3-4ec3-ba18-7592ef56bccd\" xlink:type=\"simple\"><g id=\"elem_E6\"><rect fill=\"#FFFFFF\" height=\"48.2656\" id=\"E6\" rx=\"10\" ry=\"10\" style=\"stroke:#181818;stroke-width:0.5;\" width=\"42\" x=\"475\" y=\"62.5\"/><text fill=\"#000000\" font-family=\"sans-serif\" font-size=\"12\" font-style=\"italic\" lengthAdjust=\"spacing\" textLength=\"40\" x=\"476\" y=\"78.6387\">«part»</text><text fill=\"#000000\" font-family=\"sans-serif\" font-size=\"14\" lengthAdjust=\"spacing\" textLength=\"26\" x=\"479\" y=\"94.4639\">c: P</text><line style=\"stroke:#181818;stroke-width:0.5;\" x1=\"476\" x2=\"516\" y1=\"102.7656\" y2=\"102.7656\"/></g></a><!--MD5=[2156ba9850f5573cc1fc38a6a4b2f02b]\n",
       "class E7--><a href=\"psysml:58aa0206-e878-4c1d-8c3a-c879ca6e4b13\" target=\"_top\" title=\"psysml:58aa0206-e878-4c1d-8c3a-c879ca6e4b13\" xlink:actuate=\"onRequest\" xlink:href=\"psysml:58aa0206-e878-4c1d-8c3a-c879ca6e4b13\" xlink:show=\"new\" xlink:title=\"psysml:58aa0206-e878-4c1d-8c3a-c879ca6e4b13\" xlink:type=\"simple\"><g id=\"elem_E7\"><rect fill=\"#FFFFFF\" height=\"48.2656\" id=\"E7\" rx=\"10\" ry=\"10\" style=\"stroke:#181818;stroke-width:0.5;\" width=\"42\" x=\"398\" y=\"62.5\"/><text fill=\"#000000\" font-family=\"sans-serif\" font-size=\"12\" font-style=\"italic\" lengthAdjust=\"spacing\" textLength=\"40\" x=\"399\" y=\"78.6387\">«part»</text><text fill=\"#000000\" font-family=\"sans-serif\" font-size=\"14\" lengthAdjust=\"spacing\" textLength=\"9\" x=\"410.5\" y=\"94.4639\">d</text><line style=\"stroke:#181818;stroke-width:0.5;\" x1=\"399\" x2=\"439\" y1=\"102.7656\" y2=\"102.7656\"/></g></a><!--MD5=[b9389687b975829384b498ac4b7476b2]\n",
       "class E8--><a href=\"psysml:21978b5e-874b-4020-b12b-41f872f49c78\" target=\"_top\" title=\"psysml:21978b5e-874b-4020-b12b-41f872f49c78\" xlink:actuate=\"onRequest\" xlink:href=\"psysml:21978b5e-874b-4020-b12b-41f872f49c78\" xlink:show=\"new\" xlink:title=\"psysml:21978b5e-874b-4020-b12b-41f872f49c78\" xlink:type=\"simple\"><g id=\"elem_E8\"><rect fill=\"#FFFFFF\" height=\"48.2656\" id=\"E8\" rx=\"10\" ry=\"10\" style=\"stroke:#181818;stroke-width:0.5;\" width=\"42\" x=\"321\" y=\"62.5\"/><text fill=\"#000000\" font-family=\"sans-serif\" font-size=\"12\" font-style=\"italic\" lengthAdjust=\"spacing\" textLength=\"40\" x=\"322\" y=\"78.6387\">«part»</text><text fill=\"#000000\" font-family=\"sans-serif\" font-size=\"14\" lengthAdjust=\"spacing\" textLength=\"9\" x=\"333.5\" y=\"94.4639\">e</text><line style=\"stroke:#181818;stroke-width:0.5;\" x1=\"322\" x2=\"362\" y1=\"102.7656\" y2=\"102.7656\"/></g></a><!--MD5=[fd4143e9d270a159db93a4ea2a975926]\n",
       "class E9--><a href=\"psysml:79f00190-11a9-479d-9f29-e880a27768bf\" target=\"_top\" title=\"psysml:79f00190-11a9-479d-9f29-e880a27768bf\" xlink:actuate=\"onRequest\" xlink:href=\"psysml:79f00190-11a9-479d-9f29-e880a27768bf\" xlink:show=\"new\" xlink:title=\"psysml:79f00190-11a9-479d-9f29-e880a27768bf\" xlink:type=\"simple\"><g id=\"elem_E9\"><rect fill=\"#FFFFFF\" height=\"48.2656\" id=\"E9\" rx=\"10\" ry=\"10\" style=\"stroke:#181818;stroke-width:0.5;\" width=\"42\" x=\"244\" y=\"62.5\"/><text fill=\"#000000\" font-family=\"sans-serif\" font-size=\"12\" font-style=\"italic\" lengthAdjust=\"spacing\" textLength=\"40\" x=\"245\" y=\"78.6387\">«part»</text><text fill=\"#000000\" font-family=\"sans-serif\" font-size=\"14\" lengthAdjust=\"spacing\" textLength=\"4\" x=\"259\" y=\"94.4639\">f</text><line style=\"stroke:#181818;stroke-width:0.5;\" x1=\"245\" x2=\"285\" y1=\"102.7656\" y2=\"102.7656\"/></g></a><!--MD5=[96f4274e9e20536e775497830990834d]\n",
       "class E10--><a href=\"psysml:3e79cc57-1ff4-4d61-ad54-8c0f8362d5da\" target=\"_top\" title=\"psysml:3e79cc57-1ff4-4d61-ad54-8c0f8362d5da\" xlink:actuate=\"onRequest\" xlink:href=\"psysml:3e79cc57-1ff4-4d61-ad54-8c0f8362d5da\" xlink:show=\"new\" xlink:title=\"psysml:3e79cc57-1ff4-4d61-ad54-8c0f8362d5da\" xlink:type=\"simple\"><g id=\"elem_E10\"><rect fill=\"#FFFFFF\" height=\"48.2656\" id=\"E10\" rx=\"10\" ry=\"10\" style=\"stroke:#181818;stroke-width:0.5;\" width=\"42\" x=\"167\" y=\"62.5\"/><text fill=\"#000000\" font-family=\"sans-serif\" font-size=\"12\" font-style=\"italic\" lengthAdjust=\"spacing\" textLength=\"40\" x=\"168\" y=\"78.6387\">«part»</text><text fill=\"#000000\" font-family=\"sans-serif\" font-size=\"14\" lengthAdjust=\"spacing\" textLength=\"9\" x=\"179.5\" y=\"94.4639\">g</text><line style=\"stroke:#181818;stroke-width:0.5;\" x1=\"168\" x2=\"208\" y1=\"102.7656\" y2=\"102.7656\"/></g></a><!--MD5=[1dd1bfd58a279cf63c5f349dbc8fc6a1]\n",
       "class E11--><a href=\"psysml:cae84388-2b2f-4b61-9caf-e3201f6c4bb4\" target=\"_top\" title=\"psysml:cae84388-2b2f-4b61-9caf-e3201f6c4bb4\" xlink:actuate=\"onRequest\" xlink:href=\"psysml:cae84388-2b2f-4b61-9caf-e3201f6c4bb4\" xlink:show=\"new\" xlink:title=\"psysml:cae84388-2b2f-4b61-9caf-e3201f6c4bb4\" xlink:type=\"simple\"><g id=\"elem_E11\"><rect fill=\"#FFFFFF\" height=\"91.3781\" id=\"E11\" style=\"stroke:#181818;stroke-width:0.5;\" width=\"99\" x=\"32.5\" y=\"41\"/><text fill=\"#000000\" font-family=\"sans-serif\" font-size=\"12\" font-style=\"italic\" lengthAdjust=\"spacing\" textLength=\"97\" x=\"33.5\" y=\"57.1387\">«attribute  def»</text><text fill=\"#000000\" font-family=\"sans-serif\" font-size=\"14\" lengthAdjust=\"spacing\" textLength=\"9\" x=\"77.5\" y=\"72.9639\">A</text><line style=\"stroke:#181818;stroke-width:0.5;\" x1=\"33.5\" x2=\"130.5\" y1=\"81.2656\" y2=\"81.2656\"/><text fill=\"#000000\" font-family=\"sans-serif\" font-size=\"14\" lengthAdjust=\"spacing\" textLength=\"61\" x=\"38.5\" y=\"108.7795\">i: Integer</text><text fill=\"#000000\" font-family=\"sans-serif\" font-size=\"14\" lengthAdjust=\"spacing\" textLength=\"25\" x=\"38.5\" y=\"125.0764\">x: A</text><text fill=\"#000000\" font-family=\"sans-serif\" font-size=\"14\" font-style=\"italic\" lengthAdjust=\"spacing\" textLength=\"66\" x=\"49\" y=\"93.6123\">attributes</text></g></a><!--MD5=[15ebcb19ae302d9b601edb458606d402]\n",
       "link E5 to E2--><g id=\"link_E5_E2\"><a href=\"psysml:356b088d-f058-4498-8151-02a64d9c5f99\" target=\"_top\" title=\"psysml:356b088d-f058-4498-8151-02a64d9c5f99\" xlink:actuate=\"onRequest\" xlink:href=\"psysml:356b088d-f058-4498-8151-02a64d9c5f99\" xlink:show=\"new\" xlink:title=\"psysml:356b088d-f058-4498-8151-02a64d9c5f99\" xlink:type=\"simple\"><path d=\"M560.5,110.55 C560.5,110.55 560.5,171.63 560.5,171.63 \" fill=\"none\" id=\"E5-to-E2\" style=\"stroke:#181818;stroke-width:1.0;\"/><polygon fill=\"#FFFFFF\" points=\"560.5,191.63,553.5,172.63,567.5,172.63,560.5,191.63\" style=\"stroke:#181818;stroke-width:1.0;\"/><ellipse cx=\"555.5\" cy=\"166.93\" fill=\"#181818\" rx=\"2\" ry=\"2\" style=\"stroke:#181818;stroke-width:1.0;\"/><ellipse cx=\"565.5\" cy=\"166.93\" fill=\"#181818\" rx=\"2\" ry=\"2\" style=\"stroke:#181818;stroke-width:1.0;\"/></a></g><!--MD5=[2351f337d6de0f557b50152ba70847b5]\n",
       "link E6 to E2--><g id=\"link_E6_E2\"><a href=\"psysml:849948e9-2a63-47c9-a787-96ae36e28ef0\" target=\"_top\" title=\"psysml:849948e9-2a63-47c9-a787-96ae36e28ef0\" xlink:actuate=\"onRequest\" xlink:href=\"psysml:849948e9-2a63-47c9-a787-96ae36e28ef0\" xlink:show=\"new\" xlink:title=\"psysml:849948e9-2a63-47c9-a787-96ae36e28ef0\" xlink:type=\"simple\"><path d=\"M508,110.55 C508,110.55 508,171.63 508,171.63 \" fill=\"none\" id=\"E6-to-E2\" style=\"stroke:#181818;stroke-width:1.0;\"/><polygon fill=\"#FFFFFF\" points=\"508,191.63,501,172.63,515,172.63,508,191.63\" style=\"stroke:#181818;stroke-width:1.0;\"/><ellipse cx=\"503\" cy=\"166.93\" fill=\"#181818\" rx=\"2\" ry=\"2\" style=\"stroke:#181818;stroke-width:1.0;\"/><ellipse cx=\"513\" cy=\"166.93\" fill=\"#181818\" rx=\"2\" ry=\"2\" style=\"stroke:#181818;stroke-width:1.0;\"/></a></g><!--MD5=[b41004fd24715359202d81d819259fa1]\n",
       "@startuml\r\n",
       "skin sysmlbw\r\n",
       "skinparam monochrome true\r\n",
       "skinparam wrapWidth 300\r\n",
       "hide circle\r\n",
       "skinparam linetype ortho\r\n",
       "\r\n",
       "package \"MultiplicityTest\" as E1  [[psysml:26edc399-ba1b-4e26-98ec-184b2d561983 ]]  {\r\n",
       "comp def \"P\" as E2  <<(T,blue) part  def>> [[psysml:a78c9232-7355-4122-98e1-61ea033b6fbd ]] {\r\n",
       "}\r\n",
       "comp usage \"n: Integer  \" as E3  <<(T,blue) attribute>> [[psysml:6e5bcad0-e721-42f0-8965-8cf810de127c ]] {\r\n",
       "##//values//##\r\n",
       " <U+003D> 5\r\n",
       "}\r\n",
       "comp usage \"a  \" as E4  <<(T,blue) part>> [[psysml:58ca86c4-6609-462b-9948-87aadb08d281 ]] {\r\n",
       "}\r\n",
       "comp usage \"b: P  \" as E5  <<(T,blue) part>> [[psysml:8959fced-ddce-434c-832c-e17faa00a5de ]] {\r\n",
       "}\r\n",
       "comp usage \"c: P  \" as E6  <<(T,blue) part>> [[psysml:4ac8fd09-bbc3-4ec3-ba18-7592ef56bccd ]] {\r\n",
       "}\r\n",
       "comp usage \"d  \" as E7  <<(T,blue) part>> [[psysml:58aa0206-e878-4c1d-8c3a-c879ca6e4b13 ]] {\r\n",
       "}\r\n",
       "comp usage \"e  \" as E8  <<(T,blue) part>> [[psysml:21978b5e-874b-4020-b12b-41f872f49c78 ]] {\r\n",
       "}\r\n",
       "comp usage \"f  \" as E9  <<(T,blue) part>> [[psysml:79f00190-11a9-479d-9f29-e880a27768bf ]] {\r\n",
       "}\r\n",
       "comp usage \"g  \" as E10  <<(T,blue) part>> [[psysml:3e79cc57-1ff4-4d61-ad54-8c0f8362d5da ]] {\r\n",
       "}\r\n",
       "comp def \"A\" as E11  <<(T,blue) attribute  def>> [[psysml:cae84388-2b2f-4b61-9caf-e3201f6c4bb4 ]] {\r\n",
       "##//attributes//##\r\n",
       "i: Integer\r\n",
       "x: A\r\n",
       "}\r\n",
       "}\r\n",
       "E5 - -:|> E2 [[psysml:356b088d-f058-4498-8151-02a64d9c5f99 ]] \r\n",
       "E6 - -:|> E2 [[psysml:849948e9-2a63-47c9-a787-96ae36e28ef0 ]] \r\n",
       "@enduml\r\n",
       "\n",
       "PlantUML version 1.2022.7(Mon Aug 22 17:01:30 UTC 2022)\n",
       "(EPL source distribution)\n",
       "Java Runtime: OpenJDK Runtime Environment\n",
       "JVM: OpenJDK 64-Bit Server VM\n",
       "Default Encoding: UTF-8\n",
       "Language: en\n",
       "Country: null\n",
       "--></g></svg>"
      ]
     },
     "execution_count": 57,
     "metadata": {},
     "output_type": "execute_result"
    }
   ],
   "source": [
    "%viz --style=\"ORTHOLINE\" --view=\"MIXED\" \"MultiplicityTest\""
   ]
  }
 ],
 "metadata": {
  "kernelspec": {
   "display_name": "SysML",
   "language": "sysml",
   "name": "sysml"
  },
  "language_info": {
   "codemirror_mode": "sysml",
   "file_extension": ".sysml",
   "mimetype": "text/x-sysml",
   "name": "SysML",
   "pygments_lexer": "java",
   "version": "1.0.0"
  }
 },
 "nbformat": 4,
 "nbformat_minor": 5
}
