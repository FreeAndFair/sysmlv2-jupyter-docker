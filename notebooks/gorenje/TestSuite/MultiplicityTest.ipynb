{
 "cells": [
  {
   "cell_type": "markdown",
   "id": "5dd41262",
   "metadata": {},
   "source": [
    "# SysML v2 Test Suite\n",
    "\n",
    "This can notebook can be cleared using menu `Edit --> Clear All Outputs` and then all cells can be\n",
    "run using menu `Run --> Run All Cells`.\n",
    "\n",
    "**WARNING**: This file is generated, all modifications here will be ignored.\n"
   ]
  },
  {
   "cell_type": "markdown",
   "id": "5396e329",
   "metadata": {},
   "source": [
    "## File: ../../sysml/src/examples/Simple Tests/MultiplicityTest.sysml"
   ]
  },
  {
   "cell_type": "code",
   "execution_count": 1,
   "id": "13877f77",
   "metadata": {
    "execution": {
     "iopub.execute_input": "2021-04-21T20:26:39.850816Z",
     "iopub.status.busy": "2021-04-21T20:26:39.850171Z",
     "iopub.status.idle": "2021-04-21T20:26:40.179988Z",
     "shell.execute_reply": "2021-04-21T20:26:40.179069Z"
    }
   },
   "outputs": [
    {
     "data": {
      "text/plain": [
       "Package MultiplicityTest (f5c5f299-b402-4554-8841-8fc467c32815)\n"
      ]
     },
     "execution_count": 1,
     "metadata": {},
     "output_type": "execute_result"
    }
   ],
   "source": [
    "package MultiplicityTest {\n",
    "\t\n",
    "\tpart def P;\n",
    "\tattribute n : ScalarValues::Integer = 5;\n",
    "\t\n",
    "\tpart a[1];\n",
    "\tpart b[0..2] : P;\n",
    "\tpart c : P[2..*];\n",
    "\tpart d[*];\n",
    "\t\n",
    "\tpart e[n];\n",
    "\tpart f[n..*];\n",
    "\tpart g[1..n];\n",
    "\n",
    "\tattribute def A {\n",
    "\t\tattribute i :ScalarValues::Integer;\n",
    "\t\tattribute x : A[i];\n",
    "\t}\n",
    "}"
   ]
  },
  {
   "cell_type": "code",
   "execution_count": 2,
   "id": "6c468147",
   "metadata": {
    "execution": {
     "iopub.execute_input": "2021-04-21T20:26:40.231750Z",
     "iopub.status.busy": "2021-04-21T20:26:40.230843Z",
     "iopub.status.idle": "2021-04-21T20:26:41.072241Z",
     "shell.execute_reply": "2021-04-21T20:26:41.067276Z"
    }
   },
   "outputs": [
    {
     "data": {
      "image/svg+xml": [
       "<?xml version=\"1.0\" encoding=\"UTF-8\" standalone=\"no\"?><svg xmlns=\"http://www.w3.org/2000/svg\" xmlns:xlink=\"http://www.w3.org/1999/xlink\" contentScriptType=\"application/ecmascript\" contentStyleType=\"text/css\" height=\"263px\" preserveAspectRatio=\"none\" style=\"width:812px;height:263px;\" version=\"1.1\" viewBox=\"0 0 812 263\" width=\"812px\" zoomAndPan=\"magnify\"><defs/><g><!--MD5=[fbc87193dbaf4d95561dea2c320d4a47]\n",
       "cluster E1--><a href=\"psysml:0be6947d-aa66-4017-a009-04bc0f7b30c5\" target=\"_top\" title=\"psysml:0be6947d-aa66-4017-a009-04bc0f7b30c5\" xlink:actuate=\"onRequest\" xlink:href=\"psysml:0be6947d-aa66-4017-a009-04bc0f7b30c5\" xlink:show=\"new\" xlink:title=\"psysml:0be6947d-aa66-4017-a009-04bc0f7b30c5\" xlink:type=\"simple\"><polygon fill=\"#FFFFFF\" points=\"16,6,140,6,147,28.2969,790,28.2969,790,251,16,251,16,6\" style=\"stroke: #000000; stroke-width: 1.5;\"/><line style=\"stroke: #000000; stroke-width: 1.5;\" x1=\"16\" x2=\"147\" y1=\"28.2969\" y2=\"28.2969\"/><text fill=\"#000000\" font-family=\"sans-serif\" font-size=\"14\" font-weight=\"bold\" lengthAdjust=\"spacingAndGlyphs\" textLength=\"118\" x=\"20\" y=\"20.9951\">MultiplicityTest</text></a><!--MD5=[b4997ac47864f28c2f74865a473b2911]\n",
       "class E2--><a href=\"psysml:9ab3d3ff-483c-4e41-ada7-ab2d8c979da0\" target=\"_top\" title=\"psysml:9ab3d3ff-483c-4e41-ada7-ab2d8c979da0\" xlink:actuate=\"onRequest\" xlink:href=\"psysml:9ab3d3ff-483c-4e41-ada7-ab2d8c979da0\" xlink:show=\"new\" xlink:title=\"psysml:9ab3d3ff-483c-4e41-ada7-ab2d8c979da0\" xlink:type=\"simple\"><rect fill=\"#FFFFFF\" height=\"45.9375\" id=\"E2\" style=\"stroke: #383838; stroke-width: 1.5;\" width=\"66\" x=\"497\" y=\"189\"/><text fill=\"#000000\" font-family=\"sans-serif\" font-size=\"12\" font-style=\"italic\" lengthAdjust=\"spacingAndGlyphs\" textLength=\"64\" x=\"498\" y=\"205.1387\">«part def»</text><text fill=\"#000000\" font-family=\"sans-serif\" font-size=\"12\" lengthAdjust=\"spacingAndGlyphs\" textLength=\"8\" x=\"526\" y=\"219.1074\">P</text><line style=\"stroke: #383838; stroke-width: 1.5;\" x1=\"498\" x2=\"562\" y1=\"226.9375\" y2=\"226.9375\"/></a><!--MD5=[09b614a08d8cba4a07c9adeb5e0fee81]\n",
       "class E3--><a href=\"psysml:bb4f0587-9240-4f5c-8b68-755ceb30f0e1\" target=\"_top\" title=\"psysml:bb4f0587-9240-4f5c-8b68-755ceb30f0e1\" xlink:actuate=\"onRequest\" xlink:href=\"psysml:bb4f0587-9240-4f5c-8b68-755ceb30f0e1\" xlink:show=\"new\" xlink:title=\"psysml:bb4f0587-9240-4f5c-8b68-755ceb30f0e1\" xlink:type=\"simple\"><rect fill=\"#FFFFFF\" height=\"45.9375\" id=\"E3\" rx=\"10\" ry=\"10\" style=\"stroke: #383838; stroke-width: 1.5;\" width=\"71\" x=\"702.5\" y=\"62\"/><text fill=\"#000000\" font-family=\"sans-serif\" font-size=\"12\" font-style=\"italic\" lengthAdjust=\"spacingAndGlyphs\" textLength=\"69\" x=\"703.5\" y=\"78.1387\">«attribute»</text><text fill=\"#000000\" font-family=\"sans-serif\" font-size=\"12\" lengthAdjust=\"spacingAndGlyphs\" textLength=\"61\" x=\"707.5\" y=\"92.1074\">n: Integer</text><line style=\"stroke: #383838; stroke-width: 1.5;\" x1=\"703.5\" x2=\"772.5\" y1=\"99.9375\" y2=\"99.9375\"/></a><!--MD5=[ebbe1d658d1005bcc118a6aa81145e00]\n",
       "class E4--><a href=\"psysml:9d5a91ec-9b15-487c-8680-11258af91cb9\" target=\"_top\" title=\"psysml:9d5a91ec-9b15-487c-8680-11258af91cb9\" xlink:actuate=\"onRequest\" xlink:href=\"psysml:9d5a91ec-9b15-487c-8680-11258af91cb9\" xlink:show=\"new\" xlink:title=\"psysml:9d5a91ec-9b15-487c-8680-11258af91cb9\" xlink:type=\"simple\"><rect fill=\"#FFFFFF\" height=\"45.9375\" id=\"E4\" rx=\"10\" ry=\"10\" style=\"stroke: #383838; stroke-width: 1.5;\" width=\"42\" x=\"625\" y=\"62\"/><text fill=\"#000000\" font-family=\"sans-serif\" font-size=\"12\" font-style=\"italic\" lengthAdjust=\"spacingAndGlyphs\" textLength=\"40\" x=\"626\" y=\"78.1387\">«part»</text><text fill=\"#000000\" font-family=\"sans-serif\" font-size=\"12\" lengthAdjust=\"spacingAndGlyphs\" textLength=\"8\" x=\"642\" y=\"92.1074\">a</text><line style=\"stroke: #383838; stroke-width: 1.5;\" x1=\"626\" x2=\"666\" y1=\"99.9375\" y2=\"99.9375\"/></a><!--MD5=[270fce915f116d4de14055a7c1d9a0f3]\n",
       "class E5--><a href=\"psysml:0e6ddf84-4c23-42ff-8adf-60418e76591d\" target=\"_top\" title=\"psysml:0e6ddf84-4c23-42ff-8adf-60418e76591d\" xlink:actuate=\"onRequest\" xlink:href=\"psysml:0e6ddf84-4c23-42ff-8adf-60418e76591d\" xlink:show=\"new\" xlink:title=\"psysml:0e6ddf84-4c23-42ff-8adf-60418e76591d\" xlink:type=\"simple\"><rect fill=\"#FFFFFF\" height=\"45.9375\" id=\"E5\" rx=\"10\" ry=\"10\" style=\"stroke: #383838; stroke-width: 1.5;\" width=\"42\" x=\"548\" y=\"62\"/><text fill=\"#000000\" font-family=\"sans-serif\" font-size=\"12\" font-style=\"italic\" lengthAdjust=\"spacingAndGlyphs\" textLength=\"40\" x=\"549\" y=\"78.1387\">«part»</text><text fill=\"#000000\" font-family=\"sans-serif\" font-size=\"12\" lengthAdjust=\"spacingAndGlyphs\" textLength=\"24\" x=\"557\" y=\"92.1074\">b: P</text><line style=\"stroke: #383838; stroke-width: 1.5;\" x1=\"549\" x2=\"589\" y1=\"99.9375\" y2=\"99.9375\"/></a><!--MD5=[60a26617385b1d2d0262a64233df1f8d]\n",
       "class E6--><a href=\"psysml:7a390bd1-339b-4feb-982b-b3a6ee4de727\" target=\"_top\" title=\"psysml:7a390bd1-339b-4feb-982b-b3a6ee4de727\" xlink:actuate=\"onRequest\" xlink:href=\"psysml:7a390bd1-339b-4feb-982b-b3a6ee4de727\" xlink:show=\"new\" xlink:title=\"psysml:7a390bd1-339b-4feb-982b-b3a6ee4de727\" xlink:type=\"simple\"><rect fill=\"#FFFFFF\" height=\"45.9375\" id=\"E6\" rx=\"10\" ry=\"10\" style=\"stroke: #383838; stroke-width: 1.5;\" width=\"42\" x=\"471\" y=\"62\"/><text fill=\"#000000\" font-family=\"sans-serif\" font-size=\"12\" font-style=\"italic\" lengthAdjust=\"spacingAndGlyphs\" textLength=\"40\" x=\"472\" y=\"78.1387\">«part»</text><text fill=\"#000000\" font-family=\"sans-serif\" font-size=\"12\" lengthAdjust=\"spacingAndGlyphs\" textLength=\"23\" x=\"480.5\" y=\"92.1074\">c: P</text><line style=\"stroke: #383838; stroke-width: 1.5;\" x1=\"472\" x2=\"512\" y1=\"99.9375\" y2=\"99.9375\"/></a><!--MD5=[2156ba9850f5573cc1fc38a6a4b2f02b]\n",
       "class E7--><a href=\"psysml:c41308c3-3ab4-4c95-8873-b6daf8742442\" target=\"_top\" title=\"psysml:c41308c3-3ab4-4c95-8873-b6daf8742442\" xlink:actuate=\"onRequest\" xlink:href=\"psysml:c41308c3-3ab4-4c95-8873-b6daf8742442\" xlink:show=\"new\" xlink:title=\"psysml:c41308c3-3ab4-4c95-8873-b6daf8742442\" xlink:type=\"simple\"><rect fill=\"#FFFFFF\" height=\"45.9375\" id=\"E7\" rx=\"10\" ry=\"10\" style=\"stroke: #383838; stroke-width: 1.5;\" width=\"42\" x=\"394\" y=\"62\"/><text fill=\"#000000\" font-family=\"sans-serif\" font-size=\"12\" font-style=\"italic\" lengthAdjust=\"spacingAndGlyphs\" textLength=\"40\" x=\"395\" y=\"78.1387\">«part»</text><text fill=\"#000000\" font-family=\"sans-serif\" font-size=\"12\" lengthAdjust=\"spacingAndGlyphs\" textLength=\"8\" x=\"411\" y=\"92.1074\">d</text><line style=\"stroke: #383838; stroke-width: 1.5;\" x1=\"395\" x2=\"435\" y1=\"99.9375\" y2=\"99.9375\"/></a><!--MD5=[b9389687b975829384b498ac4b7476b2]\n",
       "class E8--><a href=\"psysml:4786ae2f-f4fb-4524-a996-e764bd48b2ea\" target=\"_top\" title=\"psysml:4786ae2f-f4fb-4524-a996-e764bd48b2ea\" xlink:actuate=\"onRequest\" xlink:href=\"psysml:4786ae2f-f4fb-4524-a996-e764bd48b2ea\" xlink:show=\"new\" xlink:title=\"psysml:4786ae2f-f4fb-4524-a996-e764bd48b2ea\" xlink:type=\"simple\"><rect fill=\"#FFFFFF\" height=\"45.9375\" id=\"E8\" rx=\"10\" ry=\"10\" style=\"stroke: #383838; stroke-width: 1.5;\" width=\"42\" x=\"317\" y=\"62\"/><text fill=\"#000000\" font-family=\"sans-serif\" font-size=\"12\" font-style=\"italic\" lengthAdjust=\"spacingAndGlyphs\" textLength=\"40\" x=\"318\" y=\"78.1387\">«part»</text><text fill=\"#000000\" font-family=\"sans-serif\" font-size=\"12\" lengthAdjust=\"spacingAndGlyphs\" textLength=\"8\" x=\"334\" y=\"92.1074\">e</text><line style=\"stroke: #383838; stroke-width: 1.5;\" x1=\"318\" x2=\"358\" y1=\"99.9375\" y2=\"99.9375\"/></a><!--MD5=[fd4143e9d270a159db93a4ea2a975926]\n",
       "class E9--><a href=\"psysml:f4778415-89ee-45ef-90f6-0fdee23f5f44\" target=\"_top\" title=\"psysml:f4778415-89ee-45ef-90f6-0fdee23f5f44\" xlink:actuate=\"onRequest\" xlink:href=\"psysml:f4778415-89ee-45ef-90f6-0fdee23f5f44\" xlink:show=\"new\" xlink:title=\"psysml:f4778415-89ee-45ef-90f6-0fdee23f5f44\" xlink:type=\"simple\"><rect fill=\"#FFFFFF\" height=\"45.9375\" id=\"E9\" rx=\"10\" ry=\"10\" style=\"stroke: #383838; stroke-width: 1.5;\" width=\"42\" x=\"240\" y=\"62\"/><text fill=\"#000000\" font-family=\"sans-serif\" font-size=\"12\" font-style=\"italic\" lengthAdjust=\"spacingAndGlyphs\" textLength=\"40\" x=\"241\" y=\"78.1387\">«part»</text><text fill=\"#000000\" font-family=\"sans-serif\" font-size=\"12\" lengthAdjust=\"spacingAndGlyphs\" textLength=\"4\" x=\"259\" y=\"92.1074\">f</text><line style=\"stroke: #383838; stroke-width: 1.5;\" x1=\"241\" x2=\"281\" y1=\"99.9375\" y2=\"99.9375\"/></a><!--MD5=[96f4274e9e20536e775497830990834d]\n",
       "class E10--><a href=\"psysml:54ce765f-cd4b-40e3-bd55-528058a48d88\" target=\"_top\" title=\"psysml:54ce765f-cd4b-40e3-bd55-528058a48d88\" xlink:actuate=\"onRequest\" xlink:href=\"psysml:54ce765f-cd4b-40e3-bd55-528058a48d88\" xlink:show=\"new\" xlink:title=\"psysml:54ce765f-cd4b-40e3-bd55-528058a48d88\" xlink:type=\"simple\"><rect fill=\"#FFFFFF\" height=\"45.9375\" id=\"E10\" rx=\"10\" ry=\"10\" style=\"stroke: #383838; stroke-width: 1.5;\" width=\"42\" x=\"163\" y=\"62\"/><text fill=\"#000000\" font-family=\"sans-serif\" font-size=\"12\" font-style=\"italic\" lengthAdjust=\"spacingAndGlyphs\" textLength=\"40\" x=\"164\" y=\"78.1387\">«part»</text><text fill=\"#000000\" font-family=\"sans-serif\" font-size=\"12\" lengthAdjust=\"spacingAndGlyphs\" textLength=\"8\" x=\"180\" y=\"92.1074\">g</text><line style=\"stroke: #383838; stroke-width: 1.5;\" x1=\"164\" x2=\"204\" y1=\"99.9375\" y2=\"99.9375\"/></a><!--MD5=[1dd1bfd58a279cf63c5f349dbc8fc6a1]\n",
       "class E11--><a href=\"psysml:39471be4-e308-48bc-96c2-d92b434b60c0\" target=\"_top\" title=\"psysml:39471be4-e308-48bc-96c2-d92b434b60c0\" xlink:actuate=\"onRequest\" xlink:href=\"psysml:39471be4-e308-48bc-96c2-d92b434b60c0\" xlink:show=\"new\" xlink:title=\"psysml:39471be4-e308-48bc-96c2-d92b434b60c0\" xlink:type=\"simple\"><rect fill=\"#FFFFFF\" height=\"88.3516\" id=\"E11\" style=\"stroke: #383838; stroke-width: 1.5;\" width=\"95\" x=\"32.5\" y=\"41\"/><text fill=\"#000000\" font-family=\"sans-serif\" font-size=\"12\" font-style=\"italic\" lengthAdjust=\"spacingAndGlyphs\" textLength=\"93\" x=\"33.5\" y=\"57.1387\">«attribute def»</text><text fill=\"#000000\" font-family=\"sans-serif\" font-size=\"12\" lengthAdjust=\"spacingAndGlyphs\" textLength=\"8\" x=\"76\" y=\"71.1074\">A</text><line style=\"stroke: #383838; stroke-width: 1.5;\" x1=\"33.5\" x2=\"126.5\" y1=\"78.9375\" y2=\"78.9375\"/><text fill=\"#000000\" font-family=\"sans-serif\" font-size=\"11\" lengthAdjust=\"spacingAndGlyphs\" textLength=\"51\" x=\"38.5\" y=\"109.9526\">i: Integer</text><text fill=\"#000000\" font-family=\"sans-serif\" font-size=\"11\" lengthAdjust=\"spacingAndGlyphs\" textLength=\"21\" x=\"38.5\" y=\"122.7573\">x: A</text><line style=\"stroke: #383838; stroke-width: 1.0;\" x1=\"33.5\" x2=\"52.5\" y1=\"93.3398\" y2=\"93.3398\"/><text fill=\"#000000\" font-family=\"sans-serif\" font-size=\"11\" lengthAdjust=\"spacingAndGlyphs\" textLength=\"55\" x=\"52.5\" y=\"96.6479\">attributes</text><line style=\"stroke: #383838; stroke-width: 1.0;\" x1=\"107.5\" x2=\"126.5\" y1=\"93.3398\" y2=\"93.3398\"/></a><!--MD5=[15ebcb19ae302d9b601edb458606d402]\n",
       "link E5 to E2--><a href=\"psysml:911f47bc-487d-4cbf-bcdd-94eeba00c89c\" target=\"_top\" title=\"psysml:911f47bc-487d-4cbf-bcdd-94eeba00c89c\" xlink:actuate=\"onRequest\" xlink:href=\"psysml:911f47bc-487d-4cbf-bcdd-94eeba00c89c\" xlink:show=\"new\" xlink:title=\"psysml:911f47bc-487d-4cbf-bcdd-94eeba00c89c\" xlink:type=\"simple\"><path d=\"M562.12,108.06 C556.83,125 549.38,148.89 542.98,169.39 \" fill=\"none\" id=\"E5-&gt;E2\" style=\"stroke: #383838; stroke-width: 1.0;\"/><polygon fill=\"#FFFFFF\" points=\"536.95,188.74,535.929,168.5173,549.2931,172.6886,536.95,188.74\" style=\"stroke: #383838; stroke-width: 1.0;\"/><ellipse cx=\"539.5364\" cy=\"163.6721\" fill=\"#383838\" rx=\"2\" ry=\"2\" style=\"stroke: #383838; stroke-width: 1.0;\"/><ellipse cx=\"549.0823\" cy=\"166.6516\" fill=\"#383838\" rx=\"2\" ry=\"2\" style=\"stroke: #383838; stroke-width: 1.0;\"/></a><!--MD5=[2351f337d6de0f557b50152ba70847b5]\n",
       "link E6 to E2--><a href=\"psysml:5d978d49-3aad-49b2-9a30-3bd5979ae9aa\" target=\"_top\" title=\"psysml:5d978d49-3aad-49b2-9a30-3bd5979ae9aa\" xlink:actuate=\"onRequest\" xlink:href=\"psysml:5d978d49-3aad-49b2-9a30-3bd5979ae9aa\" xlink:show=\"new\" xlink:title=\"psysml:5d978d49-3aad-49b2-9a30-3bd5979ae9aa\" xlink:type=\"simple\"><path d=\"M498.71,108.06 C503.86,125 511.12,148.89 517.35,169.39 \" fill=\"none\" id=\"E6-&gt;E2\" style=\"stroke: #383838; stroke-width: 1.0;\"/><polygon fill=\"#FFFFFF\" points=\"523.23,188.74,511.007,172.597,524.4019,168.5255,523.23,188.74\" style=\"stroke: #383838; stroke-width: 1.0;\"/><ellipse cx=\"511.2628\" cy=\"166.5617\" fill=\"#383838\" rx=\"2\" ry=\"2\" style=\"stroke: #383838; stroke-width: 1.0;\"/><ellipse cx=\"520.8306\" cy=\"163.6535\" fill=\"#383838\" rx=\"2\" ry=\"2\" style=\"stroke: #383838; stroke-width: 1.0;\"/></a><!--MD5=[5b5ee24b991c8485f8ac511d9d1d179c]\n",
       "@startuml\r\n",
       " skinparam monochrome true\r\n",
       "skinparam classbackgroundcolor white\r\n",
       "skinparam shadowing false\r\n",
       "skinparam wrapWidth 300\r\n",
       "hide circle\r\n",
       "\r\n",
       "package \"MultiplicityTest\" as E1  [[psysml:0be6947d-aa66-4017-a009-04bc0f7b30c5 ]]  {\r\n",
       "comp def \"P\" as E2  <<(T,blue)part def>> [[psysml:9ab3d3ff-483c-4e41-ada7-ab2d8c979da0 ]] {\r\n",
       "}\r\n",
       "comp usage \"n: Integer\" as E3  <<(T,blue)attribute>> [[psysml:bb4f0587-9240-4f5c-8b68-755ceb30f0e1 ]] {\r\n",
       "}\r\n",
       "comp usage \"a\" as E4  <<(T,blue)part>> [[psysml:9d5a91ec-9b15-487c-8680-11258af91cb9 ]] {\r\n",
       "}\r\n",
       "comp usage \"b: P\" as E5  <<(T,blue)part>> [[psysml:0e6ddf84-4c23-42ff-8adf-60418e76591d ]] {\r\n",
       "}\r\n",
       "comp usage \"c: P\" as E6  <<(T,blue)part>> [[psysml:7a390bd1-339b-4feb-982b-b3a6ee4de727 ]] {\r\n",
       "}\r\n",
       "comp usage \"d\" as E7  <<(T,blue)part>> [[psysml:c41308c3-3ab4-4c95-8873-b6daf8742442 ]] {\r\n",
       "}\r\n",
       "comp usage \"e\" as E8  <<(T,blue)part>> [[psysml:4786ae2f-f4fb-4524-a996-e764bd48b2ea ]] {\r\n",
       "}\r\n",
       "comp usage \"f\" as E9  <<(T,blue)part>> [[psysml:f4778415-89ee-45ef-90f6-0fdee23f5f44 ]] {\r\n",
       "}\r\n",
       "comp usage \"g\" as E10  <<(T,blue)part>> [[psysml:54ce765f-cd4b-40e3-bd55-528058a48d88 ]] {\r\n",
       "}\r\n",
       "comp def \"A\" as E11  <<(T,blue)attribute def>> [[psysml:39471be4-e308-48bc-96c2-d92b434b60c0 ]] {\r\n",
       "- - attributes - -\r\n",
       "i: Integer\r\n",
       "x: A\r\n",
       "}\r\n",
       "E5 - -:|> E2 [[psysml:911f47bc-487d-4cbf-bcdd-94eeba00c89c ]] \r\n",
       "E6 - -:|> E2 [[psysml:5d978d49-3aad-49b2-9a30-3bd5979ae9aa ]] \r\n",
       "}\r\n",
       "@enduml\r\n",
       "\n",
       "PlantUML version 1.2020.13(Sat Jun 13 12:26:38 UTC 2020)\n",
       "(EPL source distribution)\n",
       "Java Runtime: OpenJDK Runtime Environment\n",
       "JVM: OpenJDK 64-Bit Server VM\n",
       "Default Encoding: UTF-8\n",
       "Language: en\n",
       "Country: null\n",
       "--></g></svg>"
      ]
     },
     "execution_count": 2,
     "metadata": {},
     "output_type": "execute_result"
    }
   ],
   "source": [
    "%viz --style=\"COMPTREE\" --view=\"Default\" \"MultiplicityTest\""
   ]
  },
  {
   "cell_type": "code",
   "execution_count": 3,
   "id": "f542b3a9",
   "metadata": {
    "execution": {
     "iopub.execute_input": "2021-04-21T20:26:41.124921Z",
     "iopub.status.busy": "2021-04-21T20:26:41.123898Z",
     "iopub.status.idle": "2021-04-21T20:26:41.250859Z",
     "shell.execute_reply": "2021-04-21T20:26:41.251185Z"
    }
   },
   "outputs": [
    {
     "data": {
      "image/svg+xml": [
       "<?xml version=\"1.0\" encoding=\"UTF-8\" standalone=\"no\"?><svg xmlns=\"http://www.w3.org/2000/svg\" xmlns:xlink=\"http://www.w3.org/1999/xlink\" contentScriptType=\"application/ecmascript\" contentStyleType=\"text/css\" height=\"263px\" preserveAspectRatio=\"none\" style=\"width:812px;height:263px;\" version=\"1.1\" viewBox=\"0 0 812 263\" width=\"812px\" zoomAndPan=\"magnify\"><defs/><g><!--MD5=[fbc87193dbaf4d95561dea2c320d4a47]\n",
       "cluster E1--><a href=\"psysml:0be6947d-aa66-4017-a009-04bc0f7b30c5\" target=\"_top\" title=\"psysml:0be6947d-aa66-4017-a009-04bc0f7b30c5\" xlink:actuate=\"onRequest\" xlink:href=\"psysml:0be6947d-aa66-4017-a009-04bc0f7b30c5\" xlink:show=\"new\" xlink:title=\"psysml:0be6947d-aa66-4017-a009-04bc0f7b30c5\" xlink:type=\"simple\"><polygon fill=\"#FFFFFF\" points=\"16,6,140,6,147,28.2969,790,28.2969,790,251,16,251,16,6\" style=\"stroke: #000000; stroke-width: 1.5;\"/><line style=\"stroke: #000000; stroke-width: 1.5;\" x1=\"16\" x2=\"147\" y1=\"28.2969\" y2=\"28.2969\"/><text fill=\"#000000\" font-family=\"sans-serif\" font-size=\"14\" font-weight=\"bold\" lengthAdjust=\"spacingAndGlyphs\" textLength=\"118\" x=\"20\" y=\"20.9951\">MultiplicityTest</text></a><!--MD5=[b4997ac47864f28c2f74865a473b2911]\n",
       "class E2--><a href=\"psysml:9ab3d3ff-483c-4e41-ada7-ab2d8c979da0\" target=\"_top\" title=\"psysml:9ab3d3ff-483c-4e41-ada7-ab2d8c979da0\" xlink:actuate=\"onRequest\" xlink:href=\"psysml:9ab3d3ff-483c-4e41-ada7-ab2d8c979da0\" xlink:show=\"new\" xlink:title=\"psysml:9ab3d3ff-483c-4e41-ada7-ab2d8c979da0\" xlink:type=\"simple\"><rect fill=\"#FFFFFF\" height=\"45.9375\" id=\"E2\" style=\"stroke: #383838; stroke-width: 1.5;\" width=\"66\" x=\"497\" y=\"189\"/><text fill=\"#000000\" font-family=\"sans-serif\" font-size=\"12\" font-style=\"italic\" lengthAdjust=\"spacingAndGlyphs\" textLength=\"64\" x=\"498\" y=\"205.1387\">«part def»</text><text fill=\"#000000\" font-family=\"sans-serif\" font-size=\"12\" lengthAdjust=\"spacingAndGlyphs\" textLength=\"8\" x=\"526\" y=\"219.1074\">P</text><line style=\"stroke: #383838; stroke-width: 1.5;\" x1=\"498\" x2=\"562\" y1=\"226.9375\" y2=\"226.9375\"/></a><!--MD5=[09b614a08d8cba4a07c9adeb5e0fee81]\n",
       "class E3--><a href=\"psysml:bb4f0587-9240-4f5c-8b68-755ceb30f0e1\" target=\"_top\" title=\"psysml:bb4f0587-9240-4f5c-8b68-755ceb30f0e1\" xlink:actuate=\"onRequest\" xlink:href=\"psysml:bb4f0587-9240-4f5c-8b68-755ceb30f0e1\" xlink:show=\"new\" xlink:title=\"psysml:bb4f0587-9240-4f5c-8b68-755ceb30f0e1\" xlink:type=\"simple\"><rect fill=\"#FFFFFF\" height=\"45.9375\" id=\"E3\" rx=\"10\" ry=\"10\" style=\"stroke: #383838; stroke-width: 1.5;\" width=\"71\" x=\"702.5\" y=\"62\"/><text fill=\"#000000\" font-family=\"sans-serif\" font-size=\"12\" font-style=\"italic\" lengthAdjust=\"spacingAndGlyphs\" textLength=\"69\" x=\"703.5\" y=\"78.1387\">«attribute»</text><text fill=\"#000000\" font-family=\"sans-serif\" font-size=\"12\" lengthAdjust=\"spacingAndGlyphs\" textLength=\"61\" x=\"707.5\" y=\"92.1074\">n: Integer</text><line style=\"stroke: #383838; stroke-width: 1.5;\" x1=\"703.5\" x2=\"772.5\" y1=\"99.9375\" y2=\"99.9375\"/></a><!--MD5=[ebbe1d658d1005bcc118a6aa81145e00]\n",
       "class E4--><a href=\"psysml:9d5a91ec-9b15-487c-8680-11258af91cb9\" target=\"_top\" title=\"psysml:9d5a91ec-9b15-487c-8680-11258af91cb9\" xlink:actuate=\"onRequest\" xlink:href=\"psysml:9d5a91ec-9b15-487c-8680-11258af91cb9\" xlink:show=\"new\" xlink:title=\"psysml:9d5a91ec-9b15-487c-8680-11258af91cb9\" xlink:type=\"simple\"><rect fill=\"#FFFFFF\" height=\"45.9375\" id=\"E4\" rx=\"10\" ry=\"10\" style=\"stroke: #383838; stroke-width: 1.5;\" width=\"42\" x=\"625\" y=\"62\"/><text fill=\"#000000\" font-family=\"sans-serif\" font-size=\"12\" font-style=\"italic\" lengthAdjust=\"spacingAndGlyphs\" textLength=\"40\" x=\"626\" y=\"78.1387\">«part»</text><text fill=\"#000000\" font-family=\"sans-serif\" font-size=\"12\" lengthAdjust=\"spacingAndGlyphs\" textLength=\"8\" x=\"642\" y=\"92.1074\">a</text><line style=\"stroke: #383838; stroke-width: 1.5;\" x1=\"626\" x2=\"666\" y1=\"99.9375\" y2=\"99.9375\"/></a><!--MD5=[270fce915f116d4de14055a7c1d9a0f3]\n",
       "class E5--><a href=\"psysml:0e6ddf84-4c23-42ff-8adf-60418e76591d\" target=\"_top\" title=\"psysml:0e6ddf84-4c23-42ff-8adf-60418e76591d\" xlink:actuate=\"onRequest\" xlink:href=\"psysml:0e6ddf84-4c23-42ff-8adf-60418e76591d\" xlink:show=\"new\" xlink:title=\"psysml:0e6ddf84-4c23-42ff-8adf-60418e76591d\" xlink:type=\"simple\"><rect fill=\"#FFFFFF\" height=\"45.9375\" id=\"E5\" rx=\"10\" ry=\"10\" style=\"stroke: #383838; stroke-width: 1.5;\" width=\"42\" x=\"548\" y=\"62\"/><text fill=\"#000000\" font-family=\"sans-serif\" font-size=\"12\" font-style=\"italic\" lengthAdjust=\"spacingAndGlyphs\" textLength=\"40\" x=\"549\" y=\"78.1387\">«part»</text><text fill=\"#000000\" font-family=\"sans-serif\" font-size=\"12\" lengthAdjust=\"spacingAndGlyphs\" textLength=\"24\" x=\"557\" y=\"92.1074\">b: P</text><line style=\"stroke: #383838; stroke-width: 1.5;\" x1=\"549\" x2=\"589\" y1=\"99.9375\" y2=\"99.9375\"/></a><!--MD5=[60a26617385b1d2d0262a64233df1f8d]\n",
       "class E6--><a href=\"psysml:7a390bd1-339b-4feb-982b-b3a6ee4de727\" target=\"_top\" title=\"psysml:7a390bd1-339b-4feb-982b-b3a6ee4de727\" xlink:actuate=\"onRequest\" xlink:href=\"psysml:7a390bd1-339b-4feb-982b-b3a6ee4de727\" xlink:show=\"new\" xlink:title=\"psysml:7a390bd1-339b-4feb-982b-b3a6ee4de727\" xlink:type=\"simple\"><rect fill=\"#FFFFFF\" height=\"45.9375\" id=\"E6\" rx=\"10\" ry=\"10\" style=\"stroke: #383838; stroke-width: 1.5;\" width=\"42\" x=\"471\" y=\"62\"/><text fill=\"#000000\" font-family=\"sans-serif\" font-size=\"12\" font-style=\"italic\" lengthAdjust=\"spacingAndGlyphs\" textLength=\"40\" x=\"472\" y=\"78.1387\">«part»</text><text fill=\"#000000\" font-family=\"sans-serif\" font-size=\"12\" lengthAdjust=\"spacingAndGlyphs\" textLength=\"23\" x=\"480.5\" y=\"92.1074\">c: P</text><line style=\"stroke: #383838; stroke-width: 1.5;\" x1=\"472\" x2=\"512\" y1=\"99.9375\" y2=\"99.9375\"/></a><!--MD5=[2156ba9850f5573cc1fc38a6a4b2f02b]\n",
       "class E7--><a href=\"psysml:c41308c3-3ab4-4c95-8873-b6daf8742442\" target=\"_top\" title=\"psysml:c41308c3-3ab4-4c95-8873-b6daf8742442\" xlink:actuate=\"onRequest\" xlink:href=\"psysml:c41308c3-3ab4-4c95-8873-b6daf8742442\" xlink:show=\"new\" xlink:title=\"psysml:c41308c3-3ab4-4c95-8873-b6daf8742442\" xlink:type=\"simple\"><rect fill=\"#FFFFFF\" height=\"45.9375\" id=\"E7\" rx=\"10\" ry=\"10\" style=\"stroke: #383838; stroke-width: 1.5;\" width=\"42\" x=\"394\" y=\"62\"/><text fill=\"#000000\" font-family=\"sans-serif\" font-size=\"12\" font-style=\"italic\" lengthAdjust=\"spacingAndGlyphs\" textLength=\"40\" x=\"395\" y=\"78.1387\">«part»</text><text fill=\"#000000\" font-family=\"sans-serif\" font-size=\"12\" lengthAdjust=\"spacingAndGlyphs\" textLength=\"8\" x=\"411\" y=\"92.1074\">d</text><line style=\"stroke: #383838; stroke-width: 1.5;\" x1=\"395\" x2=\"435\" y1=\"99.9375\" y2=\"99.9375\"/></a><!--MD5=[b9389687b975829384b498ac4b7476b2]\n",
       "class E8--><a href=\"psysml:4786ae2f-f4fb-4524-a996-e764bd48b2ea\" target=\"_top\" title=\"psysml:4786ae2f-f4fb-4524-a996-e764bd48b2ea\" xlink:actuate=\"onRequest\" xlink:href=\"psysml:4786ae2f-f4fb-4524-a996-e764bd48b2ea\" xlink:show=\"new\" xlink:title=\"psysml:4786ae2f-f4fb-4524-a996-e764bd48b2ea\" xlink:type=\"simple\"><rect fill=\"#FFFFFF\" height=\"45.9375\" id=\"E8\" rx=\"10\" ry=\"10\" style=\"stroke: #383838; stroke-width: 1.5;\" width=\"42\" x=\"317\" y=\"62\"/><text fill=\"#000000\" font-family=\"sans-serif\" font-size=\"12\" font-style=\"italic\" lengthAdjust=\"spacingAndGlyphs\" textLength=\"40\" x=\"318\" y=\"78.1387\">«part»</text><text fill=\"#000000\" font-family=\"sans-serif\" font-size=\"12\" lengthAdjust=\"spacingAndGlyphs\" textLength=\"8\" x=\"334\" y=\"92.1074\">e</text><line style=\"stroke: #383838; stroke-width: 1.5;\" x1=\"318\" x2=\"358\" y1=\"99.9375\" y2=\"99.9375\"/></a><!--MD5=[fd4143e9d270a159db93a4ea2a975926]\n",
       "class E9--><a href=\"psysml:f4778415-89ee-45ef-90f6-0fdee23f5f44\" target=\"_top\" title=\"psysml:f4778415-89ee-45ef-90f6-0fdee23f5f44\" xlink:actuate=\"onRequest\" xlink:href=\"psysml:f4778415-89ee-45ef-90f6-0fdee23f5f44\" xlink:show=\"new\" xlink:title=\"psysml:f4778415-89ee-45ef-90f6-0fdee23f5f44\" xlink:type=\"simple\"><rect fill=\"#FFFFFF\" height=\"45.9375\" id=\"E9\" rx=\"10\" ry=\"10\" style=\"stroke: #383838; stroke-width: 1.5;\" width=\"42\" x=\"240\" y=\"62\"/><text fill=\"#000000\" font-family=\"sans-serif\" font-size=\"12\" font-style=\"italic\" lengthAdjust=\"spacingAndGlyphs\" textLength=\"40\" x=\"241\" y=\"78.1387\">«part»</text><text fill=\"#000000\" font-family=\"sans-serif\" font-size=\"12\" lengthAdjust=\"spacingAndGlyphs\" textLength=\"4\" x=\"259\" y=\"92.1074\">f</text><line style=\"stroke: #383838; stroke-width: 1.5;\" x1=\"241\" x2=\"281\" y1=\"99.9375\" y2=\"99.9375\"/></a><!--MD5=[96f4274e9e20536e775497830990834d]\n",
       "class E10--><a href=\"psysml:54ce765f-cd4b-40e3-bd55-528058a48d88\" target=\"_top\" title=\"psysml:54ce765f-cd4b-40e3-bd55-528058a48d88\" xlink:actuate=\"onRequest\" xlink:href=\"psysml:54ce765f-cd4b-40e3-bd55-528058a48d88\" xlink:show=\"new\" xlink:title=\"psysml:54ce765f-cd4b-40e3-bd55-528058a48d88\" xlink:type=\"simple\"><rect fill=\"#FFFFFF\" height=\"45.9375\" id=\"E10\" rx=\"10\" ry=\"10\" style=\"stroke: #383838; stroke-width: 1.5;\" width=\"42\" x=\"163\" y=\"62\"/><text fill=\"#000000\" font-family=\"sans-serif\" font-size=\"12\" font-style=\"italic\" lengthAdjust=\"spacingAndGlyphs\" textLength=\"40\" x=\"164\" y=\"78.1387\">«part»</text><text fill=\"#000000\" font-family=\"sans-serif\" font-size=\"12\" lengthAdjust=\"spacingAndGlyphs\" textLength=\"8\" x=\"180\" y=\"92.1074\">g</text><line style=\"stroke: #383838; stroke-width: 1.5;\" x1=\"164\" x2=\"204\" y1=\"99.9375\" y2=\"99.9375\"/></a><!--MD5=[1dd1bfd58a279cf63c5f349dbc8fc6a1]\n",
       "class E11--><a href=\"psysml:39471be4-e308-48bc-96c2-d92b434b60c0\" target=\"_top\" title=\"psysml:39471be4-e308-48bc-96c2-d92b434b60c0\" xlink:actuate=\"onRequest\" xlink:href=\"psysml:39471be4-e308-48bc-96c2-d92b434b60c0\" xlink:show=\"new\" xlink:title=\"psysml:39471be4-e308-48bc-96c2-d92b434b60c0\" xlink:type=\"simple\"><rect fill=\"#FFFFFF\" height=\"88.3516\" id=\"E11\" style=\"stroke: #383838; stroke-width: 1.5;\" width=\"95\" x=\"32.5\" y=\"41\"/><text fill=\"#000000\" font-family=\"sans-serif\" font-size=\"12\" font-style=\"italic\" lengthAdjust=\"spacingAndGlyphs\" textLength=\"93\" x=\"33.5\" y=\"57.1387\">«attribute def»</text><text fill=\"#000000\" font-family=\"sans-serif\" font-size=\"12\" lengthAdjust=\"spacingAndGlyphs\" textLength=\"8\" x=\"76\" y=\"71.1074\">A</text><line style=\"stroke: #383838; stroke-width: 1.5;\" x1=\"33.5\" x2=\"126.5\" y1=\"78.9375\" y2=\"78.9375\"/><text fill=\"#000000\" font-family=\"sans-serif\" font-size=\"11\" lengthAdjust=\"spacingAndGlyphs\" textLength=\"51\" x=\"38.5\" y=\"109.9526\">i: Integer</text><text fill=\"#000000\" font-family=\"sans-serif\" font-size=\"11\" lengthAdjust=\"spacingAndGlyphs\" textLength=\"21\" x=\"38.5\" y=\"122.7573\">x: A</text><line style=\"stroke: #383838; stroke-width: 1.0;\" x1=\"33.5\" x2=\"52.5\" y1=\"93.3398\" y2=\"93.3398\"/><text fill=\"#000000\" font-family=\"sans-serif\" font-size=\"11\" lengthAdjust=\"spacingAndGlyphs\" textLength=\"55\" x=\"52.5\" y=\"96.6479\">attributes</text><line style=\"stroke: #383838; stroke-width: 1.0;\" x1=\"107.5\" x2=\"126.5\" y1=\"93.3398\" y2=\"93.3398\"/></a><!--MD5=[15ebcb19ae302d9b601edb458606d402]\n",
       "link E5 to E2--><a href=\"psysml:911f47bc-487d-4cbf-bcdd-94eeba00c89c\" target=\"_top\" title=\"psysml:911f47bc-487d-4cbf-bcdd-94eeba00c89c\" xlink:actuate=\"onRequest\" xlink:href=\"psysml:911f47bc-487d-4cbf-bcdd-94eeba00c89c\" xlink:show=\"new\" xlink:title=\"psysml:911f47bc-487d-4cbf-bcdd-94eeba00c89c\" xlink:type=\"simple\"><path d=\"M562.12,108.06 C556.83,125 549.38,148.89 542.98,169.39 \" fill=\"none\" id=\"E5-&gt;E2\" style=\"stroke: #383838; stroke-width: 1.0;\"/><polygon fill=\"#FFFFFF\" points=\"536.95,188.74,535.929,168.5173,549.2931,172.6886,536.95,188.74\" style=\"stroke: #383838; stroke-width: 1.0;\"/><ellipse cx=\"539.5364\" cy=\"163.6721\" fill=\"#383838\" rx=\"2\" ry=\"2\" style=\"stroke: #383838; stroke-width: 1.0;\"/><ellipse cx=\"549.0823\" cy=\"166.6516\" fill=\"#383838\" rx=\"2\" ry=\"2\" style=\"stroke: #383838; stroke-width: 1.0;\"/></a><!--MD5=[2351f337d6de0f557b50152ba70847b5]\n",
       "link E6 to E2--><a href=\"psysml:5d978d49-3aad-49b2-9a30-3bd5979ae9aa\" target=\"_top\" title=\"psysml:5d978d49-3aad-49b2-9a30-3bd5979ae9aa\" xlink:actuate=\"onRequest\" xlink:href=\"psysml:5d978d49-3aad-49b2-9a30-3bd5979ae9aa\" xlink:show=\"new\" xlink:title=\"psysml:5d978d49-3aad-49b2-9a30-3bd5979ae9aa\" xlink:type=\"simple\"><path d=\"M498.71,108.06 C503.86,125 511.12,148.89 517.35,169.39 \" fill=\"none\" id=\"E6-&gt;E2\" style=\"stroke: #383838; stroke-width: 1.0;\"/><polygon fill=\"#FFFFFF\" points=\"523.23,188.74,511.007,172.597,524.4019,168.5255,523.23,188.74\" style=\"stroke: #383838; stroke-width: 1.0;\"/><ellipse cx=\"511.2628\" cy=\"166.5617\" fill=\"#383838\" rx=\"2\" ry=\"2\" style=\"stroke: #383838; stroke-width: 1.0;\"/><ellipse cx=\"520.8306\" cy=\"163.6535\" fill=\"#383838\" rx=\"2\" ry=\"2\" style=\"stroke: #383838; stroke-width: 1.0;\"/></a><!--MD5=[5b5ee24b991c8485f8ac511d9d1d179c]\n",
       "@startuml\r\n",
       " skinparam monochrome true\r\n",
       "skinparam classbackgroundcolor white\r\n",
       "skinparam shadowing false\r\n",
       "skinparam wrapWidth 300\r\n",
       "hide circle\r\n",
       "\r\n",
       "package \"MultiplicityTest\" as E1  [[psysml:0be6947d-aa66-4017-a009-04bc0f7b30c5 ]]  {\r\n",
       "comp def \"P\" as E2  <<(T,blue)part def>> [[psysml:9ab3d3ff-483c-4e41-ada7-ab2d8c979da0 ]] {\r\n",
       "}\r\n",
       "comp usage \"n: Integer\" as E3  <<(T,blue)attribute>> [[psysml:bb4f0587-9240-4f5c-8b68-755ceb30f0e1 ]] {\r\n",
       "}\r\n",
       "comp usage \"a\" as E4  <<(T,blue)part>> [[psysml:9d5a91ec-9b15-487c-8680-11258af91cb9 ]] {\r\n",
       "}\r\n",
       "comp usage \"b: P\" as E5  <<(T,blue)part>> [[psysml:0e6ddf84-4c23-42ff-8adf-60418e76591d ]] {\r\n",
       "}\r\n",
       "comp usage \"c: P\" as E6  <<(T,blue)part>> [[psysml:7a390bd1-339b-4feb-982b-b3a6ee4de727 ]] {\r\n",
       "}\r\n",
       "comp usage \"d\" as E7  <<(T,blue)part>> [[psysml:c41308c3-3ab4-4c95-8873-b6daf8742442 ]] {\r\n",
       "}\r\n",
       "comp usage \"e\" as E8  <<(T,blue)part>> [[psysml:4786ae2f-f4fb-4524-a996-e764bd48b2ea ]] {\r\n",
       "}\r\n",
       "comp usage \"f\" as E9  <<(T,blue)part>> [[psysml:f4778415-89ee-45ef-90f6-0fdee23f5f44 ]] {\r\n",
       "}\r\n",
       "comp usage \"g\" as E10  <<(T,blue)part>> [[psysml:54ce765f-cd4b-40e3-bd55-528058a48d88 ]] {\r\n",
       "}\r\n",
       "comp def \"A\" as E11  <<(T,blue)attribute def>> [[psysml:39471be4-e308-48bc-96c2-d92b434b60c0 ]] {\r\n",
       "- - attributes - -\r\n",
       "i: Integer\r\n",
       "x: A\r\n",
       "}\r\n",
       "E5 - -:|> E2 [[psysml:911f47bc-487d-4cbf-bcdd-94eeba00c89c ]] \r\n",
       "E6 - -:|> E2 [[psysml:5d978d49-3aad-49b2-9a30-3bd5979ae9aa ]] \r\n",
       "}\r\n",
       "@enduml\r\n",
       "\n",
       "PlantUML version 1.2020.13(Sat Jun 13 12:26:38 UTC 2020)\n",
       "(EPL source distribution)\n",
       "Java Runtime: OpenJDK Runtime Environment\n",
       "JVM: OpenJDK 64-Bit Server VM\n",
       "Default Encoding: UTF-8\n",
       "Language: en\n",
       "Country: null\n",
       "--></g></svg>"
      ]
     },
     "execution_count": 3,
     "metadata": {},
     "output_type": "execute_result"
    }
   ],
   "source": [
    "%viz --style=\"COMPTREE\" --view=\"Tree\" \"MultiplicityTest\""
   ]
  },
  {
   "cell_type": "code",
   "execution_count": 4,
   "id": "9b82720f",
   "metadata": {
    "execution": {
     "iopub.execute_input": "2021-04-21T20:26:41.301068Z",
     "iopub.status.busy": "2021-04-21T20:26:41.300343Z",
     "iopub.status.idle": "2021-04-21T20:26:41.309202Z",
     "shell.execute_reply": "2021-04-21T20:26:41.308913Z"
    }
   },
   "outputs": [
    {
     "data": {
      "image/svg+xml": [
       "<?xml version=\"1.0\" encoding=\"UTF-8\" standalone=\"no\"?><svg xmlns=\"http://www.w3.org/2000/svg\" xmlns:xlink=\"http://www.w3.org/1999/xlink\" contentScriptType=\"application/ecmascript\" contentStyleType=\"text/css\" height=\"12px\" preserveAspectRatio=\"none\" style=\"width:12px;height:12px;\" version=\"1.1\" viewBox=\"0 0 12 12\" width=\"12px\" zoomAndPan=\"magnify\"><defs/><g><!--MD5=[f19188ef49e11757b5c46753f95d9edc]\n",
       "@startuml\r\n",
       " skinparam monochrome true\r\n",
       "skinparam classbackgroundcolor white\r\n",
       "skinparam shadowing false\r\n",
       "skinparam wrapWidth 300\r\n",
       "hide circle\r\n",
       "\r\n",
       "@enduml\r\n",
       "\n",
       "PlantUML version 1.2020.13(Sat Jun 13 12:26:38 UTC 2020)\n",
       "(EPL source distribution)\n",
       "Java Runtime: OpenJDK Runtime Environment\n",
       "JVM: OpenJDK 64-Bit Server VM\n",
       "Default Encoding: UTF-8\n",
       "Language: en\n",
       "Country: null\n",
       "--></g></svg>"
      ]
     },
     "execution_count": 4,
     "metadata": {},
     "output_type": "execute_result"
    }
   ],
   "source": [
    "%viz --style=\"COMPTREE\" --view=\"State\" \"MultiplicityTest\""
   ]
  },
  {
   "cell_type": "code",
   "execution_count": 5,
   "id": "6c1218a1",
   "metadata": {
    "execution": {
     "iopub.execute_input": "2021-04-21T20:26:41.360309Z",
     "iopub.status.busy": "2021-04-21T20:26:41.359936Z",
     "iopub.status.idle": "2021-04-21T20:26:41.418731Z",
     "shell.execute_reply": "2021-04-21T20:26:41.419034Z"
    }
   },
   "outputs": [
    {
     "data": {
      "image/svg+xml": [
       "<?xml version=\"1.0\" encoding=\"UTF-8\" standalone=\"no\"?><svg xmlns=\"http://www.w3.org/2000/svg\" xmlns:xlink=\"http://www.w3.org/1999/xlink\" contentScriptType=\"application/ecmascript\" contentStyleType=\"text/css\" height=\"115px\" preserveAspectRatio=\"none\" style=\"width:979px;height:115px;\" version=\"1.1\" viewBox=\"0 0 979 115\" width=\"979px\" zoomAndPan=\"magnify\"><defs/><g><!--MD5=[fbc87193dbaf4d95561dea2c320d4a47]\n",
       "cluster E1--><a href=\"psysml:0be6947d-aa66-4017-a009-04bc0f7b30c5\" target=\"_top\" title=\"psysml:0be6947d-aa66-4017-a009-04bc0f7b30c5\" xlink:actuate=\"onRequest\" xlink:href=\"psysml:0be6947d-aa66-4017-a009-04bc0f7b30c5\" xlink:show=\"new\" xlink:title=\"psysml:0be6947d-aa66-4017-a009-04bc0f7b30c5\" xlink:type=\"simple\"><polygon fill=\"#FFFFFF\" points=\"16,6,140,6,147,28.2969,957,28.2969,957,103,16,103,16,6\" style=\"stroke: #000000; stroke-width: 1.5;\"/><line style=\"stroke: #000000; stroke-width: 1.5;\" x1=\"16\" x2=\"147\" y1=\"28.2969\" y2=\"28.2969\"/><text fill=\"#000000\" font-family=\"sans-serif\" font-size=\"14\" font-weight=\"bold\" lengthAdjust=\"spacingAndGlyphs\" textLength=\"118\" x=\"20\" y=\"20.9951\">MultiplicityTest</text></a><!--MD5=[09b614a08d8cba4a07c9adeb5e0fee81]\n",
       "class E3--><a href=\"psysml:bb4f0587-9240-4f5c-8b68-755ceb30f0e1\" target=\"_top\" title=\"psysml:bb4f0587-9240-4f5c-8b68-755ceb30f0e1\" xlink:actuate=\"onRequest\" xlink:href=\"psysml:bb4f0587-9240-4f5c-8b68-755ceb30f0e1\" xlink:show=\"new\" xlink:title=\"psysml:bb4f0587-9240-4f5c-8b68-755ceb30f0e1\" xlink:type=\"simple\"><rect fill=\"#FFFFFF\" height=\"45.9375\" id=\"E3\" rx=\"10\" ry=\"10\" style=\"stroke: #383838; stroke-width: 1.5;\" width=\"71\" x=\"869.5\" y=\"41\"/><text fill=\"#000000\" font-family=\"sans-serif\" font-size=\"12\" font-style=\"italic\" lengthAdjust=\"spacingAndGlyphs\" textLength=\"69\" x=\"870.5\" y=\"57.1387\">«attribute»</text><text fill=\"#000000\" font-family=\"sans-serif\" font-size=\"12\" lengthAdjust=\"spacingAndGlyphs\" textLength=\"61\" x=\"874.5\" y=\"71.1074\">n: Integer</text><line style=\"stroke: #383838; stroke-width: 1.5;\" x1=\"870.5\" x2=\"939.5\" y1=\"78.9375\" y2=\"78.9375\"/></a><g id=\"E1.E11\"><a href=\"psysml:39471be4-e308-48bc-96c2-d92b434b60c0\" target=\"_top\" title=\"psysml:39471be4-e308-48bc-96c2-d92b434b60c0\" xlink:actuate=\"onRequest\" xlink:href=\"psysml:39471be4-e308-48bc-96c2-d92b434b60c0\" xlink:show=\"new\" xlink:title=\"psysml:39471be4-e308-48bc-96c2-d92b434b60c0\" xlink:type=\"simple\"><rect fill=\"#FFFFFF\" height=\"42.9375\" id=\"E11\" style=\"stroke: #383838; stroke-width: 1.5;\" width=\"100\" x=\"734\" y=\"42.5\"/><rect fill=\"#F8F8F8\" height=\"37.9375\" style=\"stroke: #383838; stroke-width: 1.5;\" width=\"100\" x=\"734\" y=\"42.5\"/><text fill=\"#000000\" font-family=\"sans-serif\" font-size=\"12\" font-style=\"italic\" lengthAdjust=\"spacingAndGlyphs\" textLength=\"93\" x=\"737.5\" y=\"58.6387\">«attribute def»</text><text fill=\"#000000\" font-family=\"sans-serif\" font-size=\"12\" lengthAdjust=\"spacingAndGlyphs\" textLength=\"8\" x=\"780\" y=\"72.6074\">A</text></a></g><g id=\"E1.E2\"><a href=\"psysml:9ab3d3ff-483c-4e41-ada7-ab2d8c979da0\" target=\"_top\" title=\"psysml:9ab3d3ff-483c-4e41-ada7-ab2d8c979da0\" xlink:actuate=\"onRequest\" xlink:href=\"psysml:9ab3d3ff-483c-4e41-ada7-ab2d8c979da0\" xlink:show=\"new\" xlink:title=\"psysml:9ab3d3ff-483c-4e41-ada7-ab2d8c979da0\" xlink:type=\"simple\"><rect fill=\"#FFFFFF\" height=\"42.9375\" id=\"E2\" style=\"stroke: #383838; stroke-width: 1.5;\" width=\"71\" x=\"627.5\" y=\"42.5\"/><rect fill=\"#F8F8F8\" height=\"37.9375\" style=\"stroke: #383838; stroke-width: 1.5;\" width=\"71\" x=\"627.5\" y=\"42.5\"/><text fill=\"#000000\" font-family=\"sans-serif\" font-size=\"12\" font-style=\"italic\" lengthAdjust=\"spacingAndGlyphs\" textLength=\"64\" x=\"631\" y=\"58.6387\">«part def»</text><text fill=\"#000000\" font-family=\"sans-serif\" font-size=\"12\" lengthAdjust=\"spacingAndGlyphs\" textLength=\"8\" x=\"659\" y=\"72.6074\">P</text></a></g><g id=\"E1.E4\"><a href=\"psysml:9d5a91ec-9b15-487c-8680-11258af91cb9\" target=\"_top\" title=\"psysml:9d5a91ec-9b15-487c-8680-11258af91cb9\" xlink:actuate=\"onRequest\" xlink:href=\"psysml:9d5a91ec-9b15-487c-8680-11258af91cb9\" xlink:show=\"new\" xlink:title=\"psysml:9d5a91ec-9b15-487c-8680-11258af91cb9\" xlink:type=\"simple\"><rect fill=\"#FFFFFF\" height=\"40\" id=\"E4\" rx=\"10\" ry=\"10\" style=\"stroke: #383838; stroke-width: 1.5;\" width=\"50\" x=\"542\" y=\"44\"/><rect fill=\"#F8F8F8\" height=\"23.9688\" rx=\"10\" ry=\"10\" style=\"stroke: #F8F8F8; stroke-width: 1.5;\" width=\"50\" x=\"542\" y=\"44\"/><rect fill=\"#F8F8F8\" height=\"10\" style=\"stroke: #F8F8F8; stroke-width: 1.5;\" width=\"50\" x=\"542\" y=\"57.9688\"/><rect fill=\"none\" height=\"40\" id=\"E4\" rx=\"10\" ry=\"10\" style=\"stroke: #383838; stroke-width: 1.5;\" width=\"50\" x=\"542\" y=\"44\"/><text fill=\"#000000\" font-family=\"sans-serif\" font-size=\"12\" lengthAdjust=\"spacingAndGlyphs\" textLength=\"8\" x=\"563\" y=\"60.1387\">a</text></a></g><g id=\"E1.E5\"><a href=\"psysml:0e6ddf84-4c23-42ff-8adf-60418e76591d\" target=\"_top\" title=\"psysml:0e6ddf84-4c23-42ff-8adf-60418e76591d\" xlink:actuate=\"onRequest\" xlink:href=\"psysml:0e6ddf84-4c23-42ff-8adf-60418e76591d\" xlink:show=\"new\" xlink:title=\"psysml:0e6ddf84-4c23-42ff-8adf-60418e76591d\" xlink:type=\"simple\"><rect fill=\"#FFFFFF\" height=\"40\" id=\"E5\" rx=\"10\" ry=\"10\" style=\"stroke: #383838; stroke-width: 1.5;\" width=\"50\" x=\"457\" y=\"44\"/><rect fill=\"#F8F8F8\" height=\"23.9688\" rx=\"10\" ry=\"10\" style=\"stroke: #F8F8F8; stroke-width: 1.5;\" width=\"50\" x=\"457\" y=\"44\"/><rect fill=\"#F8F8F8\" height=\"10\" style=\"stroke: #F8F8F8; stroke-width: 1.5;\" width=\"50\" x=\"457\" y=\"57.9688\"/><rect fill=\"none\" height=\"40\" id=\"E5\" rx=\"10\" ry=\"10\" style=\"stroke: #383838; stroke-width: 1.5;\" width=\"50\" x=\"457\" y=\"44\"/><text fill=\"#000000\" font-family=\"sans-serif\" font-size=\"12\" lengthAdjust=\"spacingAndGlyphs\" textLength=\"24\" x=\"470\" y=\"60.1387\">b: P</text></a></g><g id=\"E1.E6\"><a href=\"psysml:7a390bd1-339b-4feb-982b-b3a6ee4de727\" target=\"_top\" title=\"psysml:7a390bd1-339b-4feb-982b-b3a6ee4de727\" xlink:actuate=\"onRequest\" xlink:href=\"psysml:7a390bd1-339b-4feb-982b-b3a6ee4de727\" xlink:show=\"new\" xlink:title=\"psysml:7a390bd1-339b-4feb-982b-b3a6ee4de727\" xlink:type=\"simple\"><rect fill=\"#FFFFFF\" height=\"40\" id=\"E6\" rx=\"10\" ry=\"10\" style=\"stroke: #383838; stroke-width: 1.5;\" width=\"50\" x=\"372\" y=\"44\"/><rect fill=\"#F8F8F8\" height=\"23.9688\" rx=\"10\" ry=\"10\" style=\"stroke: #F8F8F8; stroke-width: 1.5;\" width=\"50\" x=\"372\" y=\"44\"/><rect fill=\"#F8F8F8\" height=\"10\" style=\"stroke: #F8F8F8; stroke-width: 1.5;\" width=\"50\" x=\"372\" y=\"57.9688\"/><rect fill=\"none\" height=\"40\" id=\"E6\" rx=\"10\" ry=\"10\" style=\"stroke: #383838; stroke-width: 1.5;\" width=\"50\" x=\"372\" y=\"44\"/><text fill=\"#000000\" font-family=\"sans-serif\" font-size=\"12\" lengthAdjust=\"spacingAndGlyphs\" textLength=\"23\" x=\"385.5\" y=\"60.1387\">c: P</text></a></g><g id=\"E1.E7\"><a href=\"psysml:c41308c3-3ab4-4c95-8873-b6daf8742442\" target=\"_top\" title=\"psysml:c41308c3-3ab4-4c95-8873-b6daf8742442\" xlink:actuate=\"onRequest\" xlink:href=\"psysml:c41308c3-3ab4-4c95-8873-b6daf8742442\" xlink:show=\"new\" xlink:title=\"psysml:c41308c3-3ab4-4c95-8873-b6daf8742442\" xlink:type=\"simple\"><rect fill=\"#FFFFFF\" height=\"40\" id=\"E7\" rx=\"10\" ry=\"10\" style=\"stroke: #383838; stroke-width: 1.5;\" width=\"50\" x=\"287\" y=\"44\"/><rect fill=\"#F8F8F8\" height=\"23.9688\" rx=\"10\" ry=\"10\" style=\"stroke: #F8F8F8; stroke-width: 1.5;\" width=\"50\" x=\"287\" y=\"44\"/><rect fill=\"#F8F8F8\" height=\"10\" style=\"stroke: #F8F8F8; stroke-width: 1.5;\" width=\"50\" x=\"287\" y=\"57.9688\"/><rect fill=\"none\" height=\"40\" id=\"E7\" rx=\"10\" ry=\"10\" style=\"stroke: #383838; stroke-width: 1.5;\" width=\"50\" x=\"287\" y=\"44\"/><text fill=\"#000000\" font-family=\"sans-serif\" font-size=\"12\" lengthAdjust=\"spacingAndGlyphs\" textLength=\"8\" x=\"308\" y=\"60.1387\">d</text></a></g><g id=\"E1.E8\"><a href=\"psysml:4786ae2f-f4fb-4524-a996-e764bd48b2ea\" target=\"_top\" title=\"psysml:4786ae2f-f4fb-4524-a996-e764bd48b2ea\" xlink:actuate=\"onRequest\" xlink:href=\"psysml:4786ae2f-f4fb-4524-a996-e764bd48b2ea\" xlink:show=\"new\" xlink:title=\"psysml:4786ae2f-f4fb-4524-a996-e764bd48b2ea\" xlink:type=\"simple\"><rect fill=\"#FFFFFF\" height=\"40\" id=\"E8\" rx=\"10\" ry=\"10\" style=\"stroke: #383838; stroke-width: 1.5;\" width=\"50\" x=\"202\" y=\"44\"/><rect fill=\"#F8F8F8\" height=\"23.9688\" rx=\"10\" ry=\"10\" style=\"stroke: #F8F8F8; stroke-width: 1.5;\" width=\"50\" x=\"202\" y=\"44\"/><rect fill=\"#F8F8F8\" height=\"10\" style=\"stroke: #F8F8F8; stroke-width: 1.5;\" width=\"50\" x=\"202\" y=\"57.9688\"/><rect fill=\"none\" height=\"40\" id=\"E8\" rx=\"10\" ry=\"10\" style=\"stroke: #383838; stroke-width: 1.5;\" width=\"50\" x=\"202\" y=\"44\"/><text fill=\"#000000\" font-family=\"sans-serif\" font-size=\"12\" lengthAdjust=\"spacingAndGlyphs\" textLength=\"8\" x=\"223\" y=\"60.1387\">e</text></a></g><g id=\"E1.E9\"><a href=\"psysml:f4778415-89ee-45ef-90f6-0fdee23f5f44\" target=\"_top\" title=\"psysml:f4778415-89ee-45ef-90f6-0fdee23f5f44\" xlink:actuate=\"onRequest\" xlink:href=\"psysml:f4778415-89ee-45ef-90f6-0fdee23f5f44\" xlink:show=\"new\" xlink:title=\"psysml:f4778415-89ee-45ef-90f6-0fdee23f5f44\" xlink:type=\"simple\"><rect fill=\"#FFFFFF\" height=\"40\" id=\"E9\" rx=\"10\" ry=\"10\" style=\"stroke: #383838; stroke-width: 1.5;\" width=\"50\" x=\"117\" y=\"44\"/><rect fill=\"#F8F8F8\" height=\"23.9688\" rx=\"10\" ry=\"10\" style=\"stroke: #F8F8F8; stroke-width: 1.5;\" width=\"50\" x=\"117\" y=\"44\"/><rect fill=\"#F8F8F8\" height=\"10\" style=\"stroke: #F8F8F8; stroke-width: 1.5;\" width=\"50\" x=\"117\" y=\"57.9688\"/><rect fill=\"none\" height=\"40\" id=\"E9\" rx=\"10\" ry=\"10\" style=\"stroke: #383838; stroke-width: 1.5;\" width=\"50\" x=\"117\" y=\"44\"/><text fill=\"#000000\" font-family=\"sans-serif\" font-size=\"12\" lengthAdjust=\"spacingAndGlyphs\" textLength=\"4\" x=\"140\" y=\"60.1387\">f</text></a></g><g id=\"E1.E10\"><a href=\"psysml:54ce765f-cd4b-40e3-bd55-528058a48d88\" target=\"_top\" title=\"psysml:54ce765f-cd4b-40e3-bd55-528058a48d88\" xlink:actuate=\"onRequest\" xlink:href=\"psysml:54ce765f-cd4b-40e3-bd55-528058a48d88\" xlink:show=\"new\" xlink:title=\"psysml:54ce765f-cd4b-40e3-bd55-528058a48d88\" xlink:type=\"simple\"><rect fill=\"#FFFFFF\" height=\"40\" id=\"E10\" rx=\"10\" ry=\"10\" style=\"stroke: #383838; stroke-width: 1.5;\" width=\"50\" x=\"32\" y=\"44\"/><rect fill=\"#F8F8F8\" height=\"23.9688\" rx=\"10\" ry=\"10\" style=\"stroke: #F8F8F8; stroke-width: 1.5;\" width=\"50\" x=\"32\" y=\"44\"/><rect fill=\"#F8F8F8\" height=\"10\" style=\"stroke: #F8F8F8; stroke-width: 1.5;\" width=\"50\" x=\"32\" y=\"57.9688\"/><rect fill=\"none\" height=\"40\" id=\"E10\" rx=\"10\" ry=\"10\" style=\"stroke: #383838; stroke-width: 1.5;\" width=\"50\" x=\"32\" y=\"44\"/><text fill=\"#000000\" font-family=\"sans-serif\" font-size=\"12\" lengthAdjust=\"spacingAndGlyphs\" textLength=\"8\" x=\"53\" y=\"60.1387\">g</text></a></g><!--MD5=[9321597935321228e1f84816a64651f9]\n",
       "@startuml\r\n",
       "skinparam ranksep 10\r\n",
       "skinparam rectangle {\r\n",
       " backgroundColor<<block>> LightGreen\r\n",
       "}\r\n",
       " skinparam monochrome true\r\n",
       "skinparam classbackgroundcolor white\r\n",
       "skinparam shadowing false\r\n",
       "skinparam wrapWidth 300\r\n",
       "hide circle\r\n",
       "\r\n",
       "package \"MultiplicityTest\" as E1  [[psysml:0be6947d-aa66-4017-a009-04bc0f7b30c5 ]]  {\r\n",
       "rec def \"P\" as E2  <<(T,blue)part def>> [[psysml:9ab3d3ff-483c-4e41-ada7-ab2d8c979da0 ]] {\r\n",
       "}\r\n",
       "comp usage \"n: Integer\" as E3  <<(T,blue)attribute>> [[psysml:bb4f0587-9240-4f5c-8b68-755ceb30f0e1 ]] {\r\n",
       "}\r\n",
       "rec usage \"a\" as E4  [[psysml:9d5a91ec-9b15-487c-8680-11258af91cb9 ]] {\r\n",
       "}\r\n",
       "rec usage \"b: P\" as E5  [[psysml:0e6ddf84-4c23-42ff-8adf-60418e76591d ]] {\r\n",
       "}\r\n",
       "rec usage \"c: P\" as E6  [[psysml:7a390bd1-339b-4feb-982b-b3a6ee4de727 ]] {\r\n",
       "}\r\n",
       "rec usage \"d\" as E7  [[psysml:c41308c3-3ab4-4c95-8873-b6daf8742442 ]] {\r\n",
       "}\r\n",
       "rec usage \"e\" as E8  [[psysml:4786ae2f-f4fb-4524-a996-e764bd48b2ea ]] {\r\n",
       "}\r\n",
       "rec usage \"f\" as E9  [[psysml:f4778415-89ee-45ef-90f6-0fdee23f5f44 ]] {\r\n",
       "}\r\n",
       "rec usage \"g\" as E10  [[psysml:54ce765f-cd4b-40e3-bd55-528058a48d88 ]] {\r\n",
       "}\r\n",
       "def \"A\" as E11  <<(T,blue)attribute def>> [[psysml:39471be4-e308-48bc-96c2-d92b434b60c0 ]] \r\n",
       "}\r\n",
       "@enduml\r\n",
       "\n",
       "PlantUML version 1.2020.13(Sat Jun 13 12:26:38 UTC 2020)\n",
       "(EPL source distribution)\n",
       "Java Runtime: OpenJDK Runtime Environment\n",
       "JVM: OpenJDK 64-Bit Server VM\n",
       "Default Encoding: UTF-8\n",
       "Language: en\n",
       "Country: null\n",
       "--></g></svg>"
      ]
     },
     "execution_count": 5,
     "metadata": {},
     "output_type": "execute_result"
    }
   ],
   "source": [
    "%viz --style=\"COMPTREE\" --view=\"Interconnection\" \"MultiplicityTest\""
   ]
  },
  {
   "cell_type": "code",
   "execution_count": 6,
   "id": "c6ccc47e",
   "metadata": {
    "execution": {
     "iopub.execute_input": "2021-04-21T20:26:41.492086Z",
     "iopub.status.busy": "2021-04-21T20:26:41.469080Z",
     "iopub.status.idle": "2021-04-21T20:26:41.493439Z",
     "shell.execute_reply": "2021-04-21T20:26:41.492388Z"
    }
   },
   "outputs": [
    {
     "data": {
      "image/svg+xml": [
       "<?xml version=\"1.0\" encoding=\"UTF-8\" standalone=\"no\"?><svg xmlns=\"http://www.w3.org/2000/svg\" xmlns:xlink=\"http://www.w3.org/1999/xlink\" contentScriptType=\"application/ecmascript\" contentStyleType=\"text/css\" height=\"12px\" preserveAspectRatio=\"none\" style=\"width:12px;height:12px;\" version=\"1.1\" viewBox=\"0 0 12 12\" width=\"12px\" zoomAndPan=\"magnify\"><defs/><g><!--MD5=[655b888544ca4751ea36af1068543f84]\n",
       "@startuml\r\n",
       "skinparam ranksep 8\r\n",
       " skinparam monochrome true\r\n",
       "skinparam classbackgroundcolor white\r\n",
       "skinparam shadowing false\r\n",
       "skinparam wrapWidth 300\r\n",
       "hide circle\r\n",
       "\r\n",
       "@enduml\r\n",
       "\n",
       "PlantUML version 1.2020.13(Sat Jun 13 12:26:38 UTC 2020)\n",
       "(EPL source distribution)\n",
       "Java Runtime: OpenJDK Runtime Environment\n",
       "JVM: OpenJDK 64-Bit Server VM\n",
       "Default Encoding: UTF-8\n",
       "Language: en\n",
       "Country: null\n",
       "--></g></svg>"
      ]
     },
     "execution_count": 6,
     "metadata": {},
     "output_type": "execute_result"
    }
   ],
   "source": [
    "%viz --style=\"COMPTREE\" --view=\"Action\" \"MultiplicityTest\""
   ]
  },
  {
   "cell_type": "code",
   "execution_count": 7,
   "id": "0404d1af",
   "metadata": {
    "execution": {
     "iopub.execute_input": "2021-04-21T20:26:41.544828Z",
     "iopub.status.busy": "2021-04-21T20:26:41.544400Z",
     "iopub.status.idle": "2021-04-21T20:26:41.647202Z",
     "shell.execute_reply": "2021-04-21T20:26:41.646858Z"
    }
   },
   "outputs": [
    {
     "data": {
      "image/svg+xml": [
       "<?xml version=\"1.0\" encoding=\"UTF-8\" standalone=\"no\"?><svg xmlns=\"http://www.w3.org/2000/svg\" xmlns:xlink=\"http://www.w3.org/1999/xlink\" contentScriptType=\"application/ecmascript\" contentStyleType=\"text/css\" height=\"263px\" preserveAspectRatio=\"none\" style=\"width:812px;height:263px;\" version=\"1.1\" viewBox=\"0 0 812 263\" width=\"812px\" zoomAndPan=\"magnify\"><defs/><g><!--MD5=[fbc87193dbaf4d95561dea2c320d4a47]\n",
       "cluster E1--><a href=\"psysml:0be6947d-aa66-4017-a009-04bc0f7b30c5\" target=\"_top\" title=\"psysml:0be6947d-aa66-4017-a009-04bc0f7b30c5\" xlink:actuate=\"onRequest\" xlink:href=\"psysml:0be6947d-aa66-4017-a009-04bc0f7b30c5\" xlink:show=\"new\" xlink:title=\"psysml:0be6947d-aa66-4017-a009-04bc0f7b30c5\" xlink:type=\"simple\"><polygon fill=\"#FFFFFF\" points=\"16,6,140,6,147,28.2969,790,28.2969,790,251,16,251,16,6\" style=\"stroke: #000000; stroke-width: 1.5;\"/><line style=\"stroke: #000000; stroke-width: 1.5;\" x1=\"16\" x2=\"147\" y1=\"28.2969\" y2=\"28.2969\"/><text fill=\"#000000\" font-family=\"sans-serif\" font-size=\"14\" font-weight=\"bold\" lengthAdjust=\"spacingAndGlyphs\" textLength=\"118\" x=\"20\" y=\"20.9951\">MultiplicityTest</text></a><!--MD5=[b4997ac47864f28c2f74865a473b2911]\n",
       "class E2--><a href=\"psysml:9ab3d3ff-483c-4e41-ada7-ab2d8c979da0\" target=\"_top\" title=\"psysml:9ab3d3ff-483c-4e41-ada7-ab2d8c979da0\" xlink:actuate=\"onRequest\" xlink:href=\"psysml:9ab3d3ff-483c-4e41-ada7-ab2d8c979da0\" xlink:show=\"new\" xlink:title=\"psysml:9ab3d3ff-483c-4e41-ada7-ab2d8c979da0\" xlink:type=\"simple\"><rect fill=\"#FFFFFF\" height=\"45.9375\" id=\"E2\" style=\"stroke: #383838; stroke-width: 1.5;\" width=\"66\" x=\"497\" y=\"189\"/><text fill=\"#000000\" font-family=\"sans-serif\" font-size=\"12\" font-style=\"italic\" lengthAdjust=\"spacingAndGlyphs\" textLength=\"64\" x=\"498\" y=\"205.1387\">«part def»</text><text fill=\"#000000\" font-family=\"sans-serif\" font-size=\"12\" lengthAdjust=\"spacingAndGlyphs\" textLength=\"8\" x=\"526\" y=\"219.1074\">P</text><line style=\"stroke: #383838; stroke-width: 1.5;\" x1=\"498\" x2=\"562\" y1=\"226.9375\" y2=\"226.9375\"/></a><!--MD5=[09b614a08d8cba4a07c9adeb5e0fee81]\n",
       "class E3--><a href=\"psysml:bb4f0587-9240-4f5c-8b68-755ceb30f0e1\" target=\"_top\" title=\"psysml:bb4f0587-9240-4f5c-8b68-755ceb30f0e1\" xlink:actuate=\"onRequest\" xlink:href=\"psysml:bb4f0587-9240-4f5c-8b68-755ceb30f0e1\" xlink:show=\"new\" xlink:title=\"psysml:bb4f0587-9240-4f5c-8b68-755ceb30f0e1\" xlink:type=\"simple\"><rect fill=\"#FFFFFF\" height=\"45.9375\" id=\"E3\" rx=\"10\" ry=\"10\" style=\"stroke: #383838; stroke-width: 1.5;\" width=\"71\" x=\"702.5\" y=\"62\"/><text fill=\"#000000\" font-family=\"sans-serif\" font-size=\"12\" font-style=\"italic\" lengthAdjust=\"spacingAndGlyphs\" textLength=\"69\" x=\"703.5\" y=\"78.1387\">«attribute»</text><text fill=\"#000000\" font-family=\"sans-serif\" font-size=\"12\" lengthAdjust=\"spacingAndGlyphs\" textLength=\"61\" x=\"707.5\" y=\"92.1074\">n: Integer</text><line style=\"stroke: #383838; stroke-width: 1.5;\" x1=\"703.5\" x2=\"772.5\" y1=\"99.9375\" y2=\"99.9375\"/></a><!--MD5=[ebbe1d658d1005bcc118a6aa81145e00]\n",
       "class E4--><a href=\"psysml:9d5a91ec-9b15-487c-8680-11258af91cb9\" target=\"_top\" title=\"psysml:9d5a91ec-9b15-487c-8680-11258af91cb9\" xlink:actuate=\"onRequest\" xlink:href=\"psysml:9d5a91ec-9b15-487c-8680-11258af91cb9\" xlink:show=\"new\" xlink:title=\"psysml:9d5a91ec-9b15-487c-8680-11258af91cb9\" xlink:type=\"simple\"><rect fill=\"#FFFFFF\" height=\"45.9375\" id=\"E4\" rx=\"10\" ry=\"10\" style=\"stroke: #383838; stroke-width: 1.5;\" width=\"42\" x=\"625\" y=\"62\"/><text fill=\"#000000\" font-family=\"sans-serif\" font-size=\"12\" font-style=\"italic\" lengthAdjust=\"spacingAndGlyphs\" textLength=\"40\" x=\"626\" y=\"78.1387\">«part»</text><text fill=\"#000000\" font-family=\"sans-serif\" font-size=\"12\" lengthAdjust=\"spacingAndGlyphs\" textLength=\"8\" x=\"642\" y=\"92.1074\">a</text><line style=\"stroke: #383838; stroke-width: 1.5;\" x1=\"626\" x2=\"666\" y1=\"99.9375\" y2=\"99.9375\"/></a><!--MD5=[270fce915f116d4de14055a7c1d9a0f3]\n",
       "class E5--><a href=\"psysml:0e6ddf84-4c23-42ff-8adf-60418e76591d\" target=\"_top\" title=\"psysml:0e6ddf84-4c23-42ff-8adf-60418e76591d\" xlink:actuate=\"onRequest\" xlink:href=\"psysml:0e6ddf84-4c23-42ff-8adf-60418e76591d\" xlink:show=\"new\" xlink:title=\"psysml:0e6ddf84-4c23-42ff-8adf-60418e76591d\" xlink:type=\"simple\"><rect fill=\"#FFFFFF\" height=\"45.9375\" id=\"E5\" rx=\"10\" ry=\"10\" style=\"stroke: #383838; stroke-width: 1.5;\" width=\"42\" x=\"548\" y=\"62\"/><text fill=\"#000000\" font-family=\"sans-serif\" font-size=\"12\" font-style=\"italic\" lengthAdjust=\"spacingAndGlyphs\" textLength=\"40\" x=\"549\" y=\"78.1387\">«part»</text><text fill=\"#000000\" font-family=\"sans-serif\" font-size=\"12\" lengthAdjust=\"spacingAndGlyphs\" textLength=\"24\" x=\"557\" y=\"92.1074\">b: P</text><line style=\"stroke: #383838; stroke-width: 1.5;\" x1=\"549\" x2=\"589\" y1=\"99.9375\" y2=\"99.9375\"/></a><!--MD5=[60a26617385b1d2d0262a64233df1f8d]\n",
       "class E6--><a href=\"psysml:7a390bd1-339b-4feb-982b-b3a6ee4de727\" target=\"_top\" title=\"psysml:7a390bd1-339b-4feb-982b-b3a6ee4de727\" xlink:actuate=\"onRequest\" xlink:href=\"psysml:7a390bd1-339b-4feb-982b-b3a6ee4de727\" xlink:show=\"new\" xlink:title=\"psysml:7a390bd1-339b-4feb-982b-b3a6ee4de727\" xlink:type=\"simple\"><rect fill=\"#FFFFFF\" height=\"45.9375\" id=\"E6\" rx=\"10\" ry=\"10\" style=\"stroke: #383838; stroke-width: 1.5;\" width=\"42\" x=\"471\" y=\"62\"/><text fill=\"#000000\" font-family=\"sans-serif\" font-size=\"12\" font-style=\"italic\" lengthAdjust=\"spacingAndGlyphs\" textLength=\"40\" x=\"472\" y=\"78.1387\">«part»</text><text fill=\"#000000\" font-family=\"sans-serif\" font-size=\"12\" lengthAdjust=\"spacingAndGlyphs\" textLength=\"23\" x=\"480.5\" y=\"92.1074\">c: P</text><line style=\"stroke: #383838; stroke-width: 1.5;\" x1=\"472\" x2=\"512\" y1=\"99.9375\" y2=\"99.9375\"/></a><!--MD5=[2156ba9850f5573cc1fc38a6a4b2f02b]\n",
       "class E7--><a href=\"psysml:c41308c3-3ab4-4c95-8873-b6daf8742442\" target=\"_top\" title=\"psysml:c41308c3-3ab4-4c95-8873-b6daf8742442\" xlink:actuate=\"onRequest\" xlink:href=\"psysml:c41308c3-3ab4-4c95-8873-b6daf8742442\" xlink:show=\"new\" xlink:title=\"psysml:c41308c3-3ab4-4c95-8873-b6daf8742442\" xlink:type=\"simple\"><rect fill=\"#FFFFFF\" height=\"45.9375\" id=\"E7\" rx=\"10\" ry=\"10\" style=\"stroke: #383838; stroke-width: 1.5;\" width=\"42\" x=\"394\" y=\"62\"/><text fill=\"#000000\" font-family=\"sans-serif\" font-size=\"12\" font-style=\"italic\" lengthAdjust=\"spacingAndGlyphs\" textLength=\"40\" x=\"395\" y=\"78.1387\">«part»</text><text fill=\"#000000\" font-family=\"sans-serif\" font-size=\"12\" lengthAdjust=\"spacingAndGlyphs\" textLength=\"8\" x=\"411\" y=\"92.1074\">d</text><line style=\"stroke: #383838; stroke-width: 1.5;\" x1=\"395\" x2=\"435\" y1=\"99.9375\" y2=\"99.9375\"/></a><!--MD5=[b9389687b975829384b498ac4b7476b2]\n",
       "class E8--><a href=\"psysml:4786ae2f-f4fb-4524-a996-e764bd48b2ea\" target=\"_top\" title=\"psysml:4786ae2f-f4fb-4524-a996-e764bd48b2ea\" xlink:actuate=\"onRequest\" xlink:href=\"psysml:4786ae2f-f4fb-4524-a996-e764bd48b2ea\" xlink:show=\"new\" xlink:title=\"psysml:4786ae2f-f4fb-4524-a996-e764bd48b2ea\" xlink:type=\"simple\"><rect fill=\"#FFFFFF\" height=\"45.9375\" id=\"E8\" rx=\"10\" ry=\"10\" style=\"stroke: #383838; stroke-width: 1.5;\" width=\"42\" x=\"317\" y=\"62\"/><text fill=\"#000000\" font-family=\"sans-serif\" font-size=\"12\" font-style=\"italic\" lengthAdjust=\"spacingAndGlyphs\" textLength=\"40\" x=\"318\" y=\"78.1387\">«part»</text><text fill=\"#000000\" font-family=\"sans-serif\" font-size=\"12\" lengthAdjust=\"spacingAndGlyphs\" textLength=\"8\" x=\"334\" y=\"92.1074\">e</text><line style=\"stroke: #383838; stroke-width: 1.5;\" x1=\"318\" x2=\"358\" y1=\"99.9375\" y2=\"99.9375\"/></a><!--MD5=[fd4143e9d270a159db93a4ea2a975926]\n",
       "class E9--><a href=\"psysml:f4778415-89ee-45ef-90f6-0fdee23f5f44\" target=\"_top\" title=\"psysml:f4778415-89ee-45ef-90f6-0fdee23f5f44\" xlink:actuate=\"onRequest\" xlink:href=\"psysml:f4778415-89ee-45ef-90f6-0fdee23f5f44\" xlink:show=\"new\" xlink:title=\"psysml:f4778415-89ee-45ef-90f6-0fdee23f5f44\" xlink:type=\"simple\"><rect fill=\"#FFFFFF\" height=\"45.9375\" id=\"E9\" rx=\"10\" ry=\"10\" style=\"stroke: #383838; stroke-width: 1.5;\" width=\"42\" x=\"240\" y=\"62\"/><text fill=\"#000000\" font-family=\"sans-serif\" font-size=\"12\" font-style=\"italic\" lengthAdjust=\"spacingAndGlyphs\" textLength=\"40\" x=\"241\" y=\"78.1387\">«part»</text><text fill=\"#000000\" font-family=\"sans-serif\" font-size=\"12\" lengthAdjust=\"spacingAndGlyphs\" textLength=\"4\" x=\"259\" y=\"92.1074\">f</text><line style=\"stroke: #383838; stroke-width: 1.5;\" x1=\"241\" x2=\"281\" y1=\"99.9375\" y2=\"99.9375\"/></a><!--MD5=[96f4274e9e20536e775497830990834d]\n",
       "class E10--><a href=\"psysml:54ce765f-cd4b-40e3-bd55-528058a48d88\" target=\"_top\" title=\"psysml:54ce765f-cd4b-40e3-bd55-528058a48d88\" xlink:actuate=\"onRequest\" xlink:href=\"psysml:54ce765f-cd4b-40e3-bd55-528058a48d88\" xlink:show=\"new\" xlink:title=\"psysml:54ce765f-cd4b-40e3-bd55-528058a48d88\" xlink:type=\"simple\"><rect fill=\"#FFFFFF\" height=\"45.9375\" id=\"E10\" rx=\"10\" ry=\"10\" style=\"stroke: #383838; stroke-width: 1.5;\" width=\"42\" x=\"163\" y=\"62\"/><text fill=\"#000000\" font-family=\"sans-serif\" font-size=\"12\" font-style=\"italic\" lengthAdjust=\"spacingAndGlyphs\" textLength=\"40\" x=\"164\" y=\"78.1387\">«part»</text><text fill=\"#000000\" font-family=\"sans-serif\" font-size=\"12\" lengthAdjust=\"spacingAndGlyphs\" textLength=\"8\" x=\"180\" y=\"92.1074\">g</text><line style=\"stroke: #383838; stroke-width: 1.5;\" x1=\"164\" x2=\"204\" y1=\"99.9375\" y2=\"99.9375\"/></a><!--MD5=[1dd1bfd58a279cf63c5f349dbc8fc6a1]\n",
       "class E11--><a href=\"psysml:39471be4-e308-48bc-96c2-d92b434b60c0\" target=\"_top\" title=\"psysml:39471be4-e308-48bc-96c2-d92b434b60c0\" xlink:actuate=\"onRequest\" xlink:href=\"psysml:39471be4-e308-48bc-96c2-d92b434b60c0\" xlink:show=\"new\" xlink:title=\"psysml:39471be4-e308-48bc-96c2-d92b434b60c0\" xlink:type=\"simple\"><rect fill=\"#FFFFFF\" height=\"88.3516\" id=\"E11\" style=\"stroke: #383838; stroke-width: 1.5;\" width=\"95\" x=\"32.5\" y=\"41\"/><text fill=\"#000000\" font-family=\"sans-serif\" font-size=\"12\" font-style=\"italic\" lengthAdjust=\"spacingAndGlyphs\" textLength=\"93\" x=\"33.5\" y=\"57.1387\">«attribute def»</text><text fill=\"#000000\" font-family=\"sans-serif\" font-size=\"12\" lengthAdjust=\"spacingAndGlyphs\" textLength=\"8\" x=\"76\" y=\"71.1074\">A</text><line style=\"stroke: #383838; stroke-width: 1.5;\" x1=\"33.5\" x2=\"126.5\" y1=\"78.9375\" y2=\"78.9375\"/><text fill=\"#000000\" font-family=\"sans-serif\" font-size=\"11\" lengthAdjust=\"spacingAndGlyphs\" textLength=\"51\" x=\"38.5\" y=\"109.9526\">i: Integer</text><text fill=\"#000000\" font-family=\"sans-serif\" font-size=\"11\" lengthAdjust=\"spacingAndGlyphs\" textLength=\"21\" x=\"38.5\" y=\"122.7573\">x: A</text><line style=\"stroke: #383838; stroke-width: 1.0;\" x1=\"33.5\" x2=\"52.5\" y1=\"93.3398\" y2=\"93.3398\"/><text fill=\"#000000\" font-family=\"sans-serif\" font-size=\"11\" lengthAdjust=\"spacingAndGlyphs\" textLength=\"55\" x=\"52.5\" y=\"96.6479\">attributes</text><line style=\"stroke: #383838; stroke-width: 1.0;\" x1=\"107.5\" x2=\"126.5\" y1=\"93.3398\" y2=\"93.3398\"/></a><!--MD5=[15ebcb19ae302d9b601edb458606d402]\n",
       "link E5 to E2--><a href=\"psysml:911f47bc-487d-4cbf-bcdd-94eeba00c89c\" target=\"_top\" title=\"psysml:911f47bc-487d-4cbf-bcdd-94eeba00c89c\" xlink:actuate=\"onRequest\" xlink:href=\"psysml:911f47bc-487d-4cbf-bcdd-94eeba00c89c\" xlink:show=\"new\" xlink:title=\"psysml:911f47bc-487d-4cbf-bcdd-94eeba00c89c\" xlink:type=\"simple\"><path d=\"M562.12,108.06 C556.83,125 549.38,148.89 542.98,169.39 \" fill=\"none\" id=\"E5-&gt;E2\" style=\"stroke: #383838; stroke-width: 1.0;\"/><polygon fill=\"#FFFFFF\" points=\"536.95,188.74,535.929,168.5173,549.2931,172.6886,536.95,188.74\" style=\"stroke: #383838; stroke-width: 1.0;\"/><ellipse cx=\"539.5364\" cy=\"163.6721\" fill=\"#383838\" rx=\"2\" ry=\"2\" style=\"stroke: #383838; stroke-width: 1.0;\"/><ellipse cx=\"549.0823\" cy=\"166.6516\" fill=\"#383838\" rx=\"2\" ry=\"2\" style=\"stroke: #383838; stroke-width: 1.0;\"/></a><!--MD5=[2351f337d6de0f557b50152ba70847b5]\n",
       "link E6 to E2--><a href=\"psysml:5d978d49-3aad-49b2-9a30-3bd5979ae9aa\" target=\"_top\" title=\"psysml:5d978d49-3aad-49b2-9a30-3bd5979ae9aa\" xlink:actuate=\"onRequest\" xlink:href=\"psysml:5d978d49-3aad-49b2-9a30-3bd5979ae9aa\" xlink:show=\"new\" xlink:title=\"psysml:5d978d49-3aad-49b2-9a30-3bd5979ae9aa\" xlink:type=\"simple\"><path d=\"M498.71,108.06 C503.86,125 511.12,148.89 517.35,169.39 \" fill=\"none\" id=\"E6-&gt;E2\" style=\"stroke: #383838; stroke-width: 1.0;\"/><polygon fill=\"#FFFFFF\" points=\"523.23,188.74,511.007,172.597,524.4019,168.5255,523.23,188.74\" style=\"stroke: #383838; stroke-width: 1.0;\"/><ellipse cx=\"511.2628\" cy=\"166.5617\" fill=\"#383838\" rx=\"2\" ry=\"2\" style=\"stroke: #383838; stroke-width: 1.0;\"/><ellipse cx=\"520.8306\" cy=\"163.6535\" fill=\"#383838\" rx=\"2\" ry=\"2\" style=\"stroke: #383838; stroke-width: 1.0;\"/></a><!--MD5=[5b5ee24b991c8485f8ac511d9d1d179c]\n",
       "@startuml\r\n",
       " skinparam monochrome true\r\n",
       "skinparam classbackgroundcolor white\r\n",
       "skinparam shadowing false\r\n",
       "skinparam wrapWidth 300\r\n",
       "hide circle\r\n",
       "\r\n",
       "package \"MultiplicityTest\" as E1  [[psysml:0be6947d-aa66-4017-a009-04bc0f7b30c5 ]]  {\r\n",
       "comp def \"P\" as E2  <<(T,blue)part def>> [[psysml:9ab3d3ff-483c-4e41-ada7-ab2d8c979da0 ]] {\r\n",
       "}\r\n",
       "comp usage \"n: Integer\" as E3  <<(T,blue)attribute>> [[psysml:bb4f0587-9240-4f5c-8b68-755ceb30f0e1 ]] {\r\n",
       "}\r\n",
       "comp usage \"a\" as E4  <<(T,blue)part>> [[psysml:9d5a91ec-9b15-487c-8680-11258af91cb9 ]] {\r\n",
       "}\r\n",
       "comp usage \"b: P\" as E5  <<(T,blue)part>> [[psysml:0e6ddf84-4c23-42ff-8adf-60418e76591d ]] {\r\n",
       "}\r\n",
       "comp usage \"c: P\" as E6  <<(T,blue)part>> [[psysml:7a390bd1-339b-4feb-982b-b3a6ee4de727 ]] {\r\n",
       "}\r\n",
       "comp usage \"d\" as E7  <<(T,blue)part>> [[psysml:c41308c3-3ab4-4c95-8873-b6daf8742442 ]] {\r\n",
       "}\r\n",
       "comp usage \"e\" as E8  <<(T,blue)part>> [[psysml:4786ae2f-f4fb-4524-a996-e764bd48b2ea ]] {\r\n",
       "}\r\n",
       "comp usage \"f\" as E9  <<(T,blue)part>> [[psysml:f4778415-89ee-45ef-90f6-0fdee23f5f44 ]] {\r\n",
       "}\r\n",
       "comp usage \"g\" as E10  <<(T,blue)part>> [[psysml:54ce765f-cd4b-40e3-bd55-528058a48d88 ]] {\r\n",
       "}\r\n",
       "comp def \"A\" as E11  <<(T,blue)attribute def>> [[psysml:39471be4-e308-48bc-96c2-d92b434b60c0 ]] {\r\n",
       "- - attributes - -\r\n",
       "i: Integer\r\n",
       "x: A\r\n",
       "}\r\n",
       "E5 - -:|> E2 [[psysml:911f47bc-487d-4cbf-bcdd-94eeba00c89c ]] \r\n",
       "E6 - -:|> E2 [[psysml:5d978d49-3aad-49b2-9a30-3bd5979ae9aa ]] \r\n",
       "}\r\n",
       "@enduml\r\n",
       "\n",
       "PlantUML version 1.2020.13(Sat Jun 13 12:26:38 UTC 2020)\n",
       "(EPL source distribution)\n",
       "Java Runtime: OpenJDK Runtime Environment\n",
       "JVM: OpenJDK 64-Bit Server VM\n",
       "Default Encoding: UTF-8\n",
       "Language: en\n",
       "Country: null\n",
       "--></g></svg>"
      ]
     },
     "execution_count": 7,
     "metadata": {},
     "output_type": "execute_result"
    }
   ],
   "source": [
    "%viz --style=\"COMPTREE\" --view=\"Sequence\" \"MultiplicityTest\""
   ]
  },
  {
   "cell_type": "code",
   "execution_count": 8,
   "id": "a258e2b1",
   "metadata": {
    "execution": {
     "iopub.execute_input": "2021-04-21T20:26:41.697165Z",
     "iopub.status.busy": "2021-04-21T20:26:41.696727Z",
     "iopub.status.idle": "2021-04-21T20:26:41.810456Z",
     "shell.execute_reply": "2021-04-21T20:26:41.809850Z"
    }
   },
   "outputs": [
    {
     "data": {
      "image/svg+xml": [
       "<?xml version=\"1.0\" encoding=\"UTF-8\" standalone=\"no\"?><svg xmlns=\"http://www.w3.org/2000/svg\" xmlns:xlink=\"http://www.w3.org/1999/xlink\" contentScriptType=\"application/ecmascript\" contentStyleType=\"text/css\" height=\"263px\" preserveAspectRatio=\"none\" style=\"width:812px;height:263px;\" version=\"1.1\" viewBox=\"0 0 812 263\" width=\"812px\" zoomAndPan=\"magnify\"><defs/><g><!--MD5=[fbc87193dbaf4d95561dea2c320d4a47]\n",
       "cluster E1--><a href=\"psysml:0be6947d-aa66-4017-a009-04bc0f7b30c5\" target=\"_top\" title=\"psysml:0be6947d-aa66-4017-a009-04bc0f7b30c5\" xlink:actuate=\"onRequest\" xlink:href=\"psysml:0be6947d-aa66-4017-a009-04bc0f7b30c5\" xlink:show=\"new\" xlink:title=\"psysml:0be6947d-aa66-4017-a009-04bc0f7b30c5\" xlink:type=\"simple\"><polygon fill=\"#FFFFFF\" points=\"16,6,140,6,147,28.2969,790,28.2969,790,251,16,251,16,6\" style=\"stroke: #000000; stroke-width: 1.5;\"/><line style=\"stroke: #000000; stroke-width: 1.5;\" x1=\"16\" x2=\"147\" y1=\"28.2969\" y2=\"28.2969\"/><text fill=\"#000000\" font-family=\"sans-serif\" font-size=\"14\" font-weight=\"bold\" lengthAdjust=\"spacingAndGlyphs\" textLength=\"118\" x=\"20\" y=\"20.9951\">MultiplicityTest</text></a><!--MD5=[b4997ac47864f28c2f74865a473b2911]\n",
       "class E2--><a href=\"psysml:9ab3d3ff-483c-4e41-ada7-ab2d8c979da0\" target=\"_top\" title=\"psysml:9ab3d3ff-483c-4e41-ada7-ab2d8c979da0\" xlink:actuate=\"onRequest\" xlink:href=\"psysml:9ab3d3ff-483c-4e41-ada7-ab2d8c979da0\" xlink:show=\"new\" xlink:title=\"psysml:9ab3d3ff-483c-4e41-ada7-ab2d8c979da0\" xlink:type=\"simple\"><rect fill=\"#FFFFFF\" height=\"45.9375\" id=\"E2\" style=\"stroke: #383838; stroke-width: 1.5;\" width=\"66\" x=\"497\" y=\"189\"/><text fill=\"#000000\" font-family=\"sans-serif\" font-size=\"12\" font-style=\"italic\" lengthAdjust=\"spacingAndGlyphs\" textLength=\"64\" x=\"498\" y=\"205.1387\">«part def»</text><text fill=\"#000000\" font-family=\"sans-serif\" font-size=\"12\" lengthAdjust=\"spacingAndGlyphs\" textLength=\"8\" x=\"526\" y=\"219.1074\">P</text><line style=\"stroke: #383838; stroke-width: 1.5;\" x1=\"498\" x2=\"562\" y1=\"226.9375\" y2=\"226.9375\"/></a><!--MD5=[09b614a08d8cba4a07c9adeb5e0fee81]\n",
       "class E3--><a href=\"psysml:bb4f0587-9240-4f5c-8b68-755ceb30f0e1\" target=\"_top\" title=\"psysml:bb4f0587-9240-4f5c-8b68-755ceb30f0e1\" xlink:actuate=\"onRequest\" xlink:href=\"psysml:bb4f0587-9240-4f5c-8b68-755ceb30f0e1\" xlink:show=\"new\" xlink:title=\"psysml:bb4f0587-9240-4f5c-8b68-755ceb30f0e1\" xlink:type=\"simple\"><rect fill=\"#FFFFFF\" height=\"45.9375\" id=\"E3\" rx=\"10\" ry=\"10\" style=\"stroke: #383838; stroke-width: 1.5;\" width=\"71\" x=\"702.5\" y=\"62\"/><text fill=\"#000000\" font-family=\"sans-serif\" font-size=\"12\" font-style=\"italic\" lengthAdjust=\"spacingAndGlyphs\" textLength=\"69\" x=\"703.5\" y=\"78.1387\">«attribute»</text><text fill=\"#000000\" font-family=\"sans-serif\" font-size=\"12\" lengthAdjust=\"spacingAndGlyphs\" textLength=\"61\" x=\"707.5\" y=\"92.1074\">n: Integer</text><line style=\"stroke: #383838; stroke-width: 1.5;\" x1=\"703.5\" x2=\"772.5\" y1=\"99.9375\" y2=\"99.9375\"/></a><!--MD5=[ebbe1d658d1005bcc118a6aa81145e00]\n",
       "class E4--><a href=\"psysml:9d5a91ec-9b15-487c-8680-11258af91cb9\" target=\"_top\" title=\"psysml:9d5a91ec-9b15-487c-8680-11258af91cb9\" xlink:actuate=\"onRequest\" xlink:href=\"psysml:9d5a91ec-9b15-487c-8680-11258af91cb9\" xlink:show=\"new\" xlink:title=\"psysml:9d5a91ec-9b15-487c-8680-11258af91cb9\" xlink:type=\"simple\"><rect fill=\"#FFFFFF\" height=\"45.9375\" id=\"E4\" rx=\"10\" ry=\"10\" style=\"stroke: #383838; stroke-width: 1.5;\" width=\"42\" x=\"625\" y=\"62\"/><text fill=\"#000000\" font-family=\"sans-serif\" font-size=\"12\" font-style=\"italic\" lengthAdjust=\"spacingAndGlyphs\" textLength=\"40\" x=\"626\" y=\"78.1387\">«part»</text><text fill=\"#000000\" font-family=\"sans-serif\" font-size=\"12\" lengthAdjust=\"spacingAndGlyphs\" textLength=\"8\" x=\"642\" y=\"92.1074\">a</text><line style=\"stroke: #383838; stroke-width: 1.5;\" x1=\"626\" x2=\"666\" y1=\"99.9375\" y2=\"99.9375\"/></a><!--MD5=[270fce915f116d4de14055a7c1d9a0f3]\n",
       "class E5--><a href=\"psysml:0e6ddf84-4c23-42ff-8adf-60418e76591d\" target=\"_top\" title=\"psysml:0e6ddf84-4c23-42ff-8adf-60418e76591d\" xlink:actuate=\"onRequest\" xlink:href=\"psysml:0e6ddf84-4c23-42ff-8adf-60418e76591d\" xlink:show=\"new\" xlink:title=\"psysml:0e6ddf84-4c23-42ff-8adf-60418e76591d\" xlink:type=\"simple\"><rect fill=\"#FFFFFF\" height=\"45.9375\" id=\"E5\" rx=\"10\" ry=\"10\" style=\"stroke: #383838; stroke-width: 1.5;\" width=\"42\" x=\"548\" y=\"62\"/><text fill=\"#000000\" font-family=\"sans-serif\" font-size=\"12\" font-style=\"italic\" lengthAdjust=\"spacingAndGlyphs\" textLength=\"40\" x=\"549\" y=\"78.1387\">«part»</text><text fill=\"#000000\" font-family=\"sans-serif\" font-size=\"12\" lengthAdjust=\"spacingAndGlyphs\" textLength=\"24\" x=\"557\" y=\"92.1074\">b: P</text><line style=\"stroke: #383838; stroke-width: 1.5;\" x1=\"549\" x2=\"589\" y1=\"99.9375\" y2=\"99.9375\"/></a><!--MD5=[60a26617385b1d2d0262a64233df1f8d]\n",
       "class E6--><a href=\"psysml:7a390bd1-339b-4feb-982b-b3a6ee4de727\" target=\"_top\" title=\"psysml:7a390bd1-339b-4feb-982b-b3a6ee4de727\" xlink:actuate=\"onRequest\" xlink:href=\"psysml:7a390bd1-339b-4feb-982b-b3a6ee4de727\" xlink:show=\"new\" xlink:title=\"psysml:7a390bd1-339b-4feb-982b-b3a6ee4de727\" xlink:type=\"simple\"><rect fill=\"#FFFFFF\" height=\"45.9375\" id=\"E6\" rx=\"10\" ry=\"10\" style=\"stroke: #383838; stroke-width: 1.5;\" width=\"42\" x=\"471\" y=\"62\"/><text fill=\"#000000\" font-family=\"sans-serif\" font-size=\"12\" font-style=\"italic\" lengthAdjust=\"spacingAndGlyphs\" textLength=\"40\" x=\"472\" y=\"78.1387\">«part»</text><text fill=\"#000000\" font-family=\"sans-serif\" font-size=\"12\" lengthAdjust=\"spacingAndGlyphs\" textLength=\"23\" x=\"480.5\" y=\"92.1074\">c: P</text><line style=\"stroke: #383838; stroke-width: 1.5;\" x1=\"472\" x2=\"512\" y1=\"99.9375\" y2=\"99.9375\"/></a><!--MD5=[2156ba9850f5573cc1fc38a6a4b2f02b]\n",
       "class E7--><a href=\"psysml:c41308c3-3ab4-4c95-8873-b6daf8742442\" target=\"_top\" title=\"psysml:c41308c3-3ab4-4c95-8873-b6daf8742442\" xlink:actuate=\"onRequest\" xlink:href=\"psysml:c41308c3-3ab4-4c95-8873-b6daf8742442\" xlink:show=\"new\" xlink:title=\"psysml:c41308c3-3ab4-4c95-8873-b6daf8742442\" xlink:type=\"simple\"><rect fill=\"#FFFFFF\" height=\"45.9375\" id=\"E7\" rx=\"10\" ry=\"10\" style=\"stroke: #383838; stroke-width: 1.5;\" width=\"42\" x=\"394\" y=\"62\"/><text fill=\"#000000\" font-family=\"sans-serif\" font-size=\"12\" font-style=\"italic\" lengthAdjust=\"spacingAndGlyphs\" textLength=\"40\" x=\"395\" y=\"78.1387\">«part»</text><text fill=\"#000000\" font-family=\"sans-serif\" font-size=\"12\" lengthAdjust=\"spacingAndGlyphs\" textLength=\"8\" x=\"411\" y=\"92.1074\">d</text><line style=\"stroke: #383838; stroke-width: 1.5;\" x1=\"395\" x2=\"435\" y1=\"99.9375\" y2=\"99.9375\"/></a><!--MD5=[b9389687b975829384b498ac4b7476b2]\n",
       "class E8--><a href=\"psysml:4786ae2f-f4fb-4524-a996-e764bd48b2ea\" target=\"_top\" title=\"psysml:4786ae2f-f4fb-4524-a996-e764bd48b2ea\" xlink:actuate=\"onRequest\" xlink:href=\"psysml:4786ae2f-f4fb-4524-a996-e764bd48b2ea\" xlink:show=\"new\" xlink:title=\"psysml:4786ae2f-f4fb-4524-a996-e764bd48b2ea\" xlink:type=\"simple\"><rect fill=\"#FFFFFF\" height=\"45.9375\" id=\"E8\" rx=\"10\" ry=\"10\" style=\"stroke: #383838; stroke-width: 1.5;\" width=\"42\" x=\"317\" y=\"62\"/><text fill=\"#000000\" font-family=\"sans-serif\" font-size=\"12\" font-style=\"italic\" lengthAdjust=\"spacingAndGlyphs\" textLength=\"40\" x=\"318\" y=\"78.1387\">«part»</text><text fill=\"#000000\" font-family=\"sans-serif\" font-size=\"12\" lengthAdjust=\"spacingAndGlyphs\" textLength=\"8\" x=\"334\" y=\"92.1074\">e</text><line style=\"stroke: #383838; stroke-width: 1.5;\" x1=\"318\" x2=\"358\" y1=\"99.9375\" y2=\"99.9375\"/></a><!--MD5=[fd4143e9d270a159db93a4ea2a975926]\n",
       "class E9--><a href=\"psysml:f4778415-89ee-45ef-90f6-0fdee23f5f44\" target=\"_top\" title=\"psysml:f4778415-89ee-45ef-90f6-0fdee23f5f44\" xlink:actuate=\"onRequest\" xlink:href=\"psysml:f4778415-89ee-45ef-90f6-0fdee23f5f44\" xlink:show=\"new\" xlink:title=\"psysml:f4778415-89ee-45ef-90f6-0fdee23f5f44\" xlink:type=\"simple\"><rect fill=\"#FFFFFF\" height=\"45.9375\" id=\"E9\" rx=\"10\" ry=\"10\" style=\"stroke: #383838; stroke-width: 1.5;\" width=\"42\" x=\"240\" y=\"62\"/><text fill=\"#000000\" font-family=\"sans-serif\" font-size=\"12\" font-style=\"italic\" lengthAdjust=\"spacingAndGlyphs\" textLength=\"40\" x=\"241\" y=\"78.1387\">«part»</text><text fill=\"#000000\" font-family=\"sans-serif\" font-size=\"12\" lengthAdjust=\"spacingAndGlyphs\" textLength=\"4\" x=\"259\" y=\"92.1074\">f</text><line style=\"stroke: #383838; stroke-width: 1.5;\" x1=\"241\" x2=\"281\" y1=\"99.9375\" y2=\"99.9375\"/></a><!--MD5=[96f4274e9e20536e775497830990834d]\n",
       "class E10--><a href=\"psysml:54ce765f-cd4b-40e3-bd55-528058a48d88\" target=\"_top\" title=\"psysml:54ce765f-cd4b-40e3-bd55-528058a48d88\" xlink:actuate=\"onRequest\" xlink:href=\"psysml:54ce765f-cd4b-40e3-bd55-528058a48d88\" xlink:show=\"new\" xlink:title=\"psysml:54ce765f-cd4b-40e3-bd55-528058a48d88\" xlink:type=\"simple\"><rect fill=\"#FFFFFF\" height=\"45.9375\" id=\"E10\" rx=\"10\" ry=\"10\" style=\"stroke: #383838; stroke-width: 1.5;\" width=\"42\" x=\"163\" y=\"62\"/><text fill=\"#000000\" font-family=\"sans-serif\" font-size=\"12\" font-style=\"italic\" lengthAdjust=\"spacingAndGlyphs\" textLength=\"40\" x=\"164\" y=\"78.1387\">«part»</text><text fill=\"#000000\" font-family=\"sans-serif\" font-size=\"12\" lengthAdjust=\"spacingAndGlyphs\" textLength=\"8\" x=\"180\" y=\"92.1074\">g</text><line style=\"stroke: #383838; stroke-width: 1.5;\" x1=\"164\" x2=\"204\" y1=\"99.9375\" y2=\"99.9375\"/></a><!--MD5=[1dd1bfd58a279cf63c5f349dbc8fc6a1]\n",
       "class E11--><a href=\"psysml:39471be4-e308-48bc-96c2-d92b434b60c0\" target=\"_top\" title=\"psysml:39471be4-e308-48bc-96c2-d92b434b60c0\" xlink:actuate=\"onRequest\" xlink:href=\"psysml:39471be4-e308-48bc-96c2-d92b434b60c0\" xlink:show=\"new\" xlink:title=\"psysml:39471be4-e308-48bc-96c2-d92b434b60c0\" xlink:type=\"simple\"><rect fill=\"#FFFFFF\" height=\"88.3516\" id=\"E11\" style=\"stroke: #383838; stroke-width: 1.5;\" width=\"95\" x=\"32.5\" y=\"41\"/><text fill=\"#000000\" font-family=\"sans-serif\" font-size=\"12\" font-style=\"italic\" lengthAdjust=\"spacingAndGlyphs\" textLength=\"93\" x=\"33.5\" y=\"57.1387\">«attribute def»</text><text fill=\"#000000\" font-family=\"sans-serif\" font-size=\"12\" lengthAdjust=\"spacingAndGlyphs\" textLength=\"8\" x=\"76\" y=\"71.1074\">A</text><line style=\"stroke: #383838; stroke-width: 1.5;\" x1=\"33.5\" x2=\"126.5\" y1=\"78.9375\" y2=\"78.9375\"/><text fill=\"#000000\" font-family=\"sans-serif\" font-size=\"11\" lengthAdjust=\"spacingAndGlyphs\" textLength=\"51\" x=\"38.5\" y=\"109.9526\">i: Integer</text><text fill=\"#000000\" font-family=\"sans-serif\" font-size=\"11\" lengthAdjust=\"spacingAndGlyphs\" textLength=\"21\" x=\"38.5\" y=\"122.7573\">x: A</text><line style=\"stroke: #383838; stroke-width: 1.0;\" x1=\"33.5\" x2=\"52.5\" y1=\"93.3398\" y2=\"93.3398\"/><text fill=\"#000000\" font-family=\"sans-serif\" font-size=\"11\" lengthAdjust=\"spacingAndGlyphs\" textLength=\"55\" x=\"52.5\" y=\"96.6479\">attributes</text><line style=\"stroke: #383838; stroke-width: 1.0;\" x1=\"107.5\" x2=\"126.5\" y1=\"93.3398\" y2=\"93.3398\"/></a><!--MD5=[15ebcb19ae302d9b601edb458606d402]\n",
       "link E5 to E2--><a href=\"psysml:911f47bc-487d-4cbf-bcdd-94eeba00c89c\" target=\"_top\" title=\"psysml:911f47bc-487d-4cbf-bcdd-94eeba00c89c\" xlink:actuate=\"onRequest\" xlink:href=\"psysml:911f47bc-487d-4cbf-bcdd-94eeba00c89c\" xlink:show=\"new\" xlink:title=\"psysml:911f47bc-487d-4cbf-bcdd-94eeba00c89c\" xlink:type=\"simple\"><path d=\"M562.12,108.06 C556.83,125 549.38,148.89 542.98,169.39 \" fill=\"none\" id=\"E5-&gt;E2\" style=\"stroke: #383838; stroke-width: 1.0;\"/><polygon fill=\"#FFFFFF\" points=\"536.95,188.74,535.929,168.5173,549.2931,172.6886,536.95,188.74\" style=\"stroke: #383838; stroke-width: 1.0;\"/><ellipse cx=\"539.5364\" cy=\"163.6721\" fill=\"#383838\" rx=\"2\" ry=\"2\" style=\"stroke: #383838; stroke-width: 1.0;\"/><ellipse cx=\"549.0823\" cy=\"166.6516\" fill=\"#383838\" rx=\"2\" ry=\"2\" style=\"stroke: #383838; stroke-width: 1.0;\"/></a><!--MD5=[2351f337d6de0f557b50152ba70847b5]\n",
       "link E6 to E2--><a href=\"psysml:5d978d49-3aad-49b2-9a30-3bd5979ae9aa\" target=\"_top\" title=\"psysml:5d978d49-3aad-49b2-9a30-3bd5979ae9aa\" xlink:actuate=\"onRequest\" xlink:href=\"psysml:5d978d49-3aad-49b2-9a30-3bd5979ae9aa\" xlink:show=\"new\" xlink:title=\"psysml:5d978d49-3aad-49b2-9a30-3bd5979ae9aa\" xlink:type=\"simple\"><path d=\"M498.71,108.06 C503.86,125 511.12,148.89 517.35,169.39 \" fill=\"none\" id=\"E6-&gt;E2\" style=\"stroke: #383838; stroke-width: 1.0;\"/><polygon fill=\"#FFFFFF\" points=\"523.23,188.74,511.007,172.597,524.4019,168.5255,523.23,188.74\" style=\"stroke: #383838; stroke-width: 1.0;\"/><ellipse cx=\"511.2628\" cy=\"166.5617\" fill=\"#383838\" rx=\"2\" ry=\"2\" style=\"stroke: #383838; stroke-width: 1.0;\"/><ellipse cx=\"520.8306\" cy=\"163.6535\" fill=\"#383838\" rx=\"2\" ry=\"2\" style=\"stroke: #383838; stroke-width: 1.0;\"/></a><!--MD5=[5b5ee24b991c8485f8ac511d9d1d179c]\n",
       "@startuml\r\n",
       " skinparam monochrome true\r\n",
       "skinparam classbackgroundcolor white\r\n",
       "skinparam shadowing false\r\n",
       "skinparam wrapWidth 300\r\n",
       "hide circle\r\n",
       "\r\n",
       "package \"MultiplicityTest\" as E1  [[psysml:0be6947d-aa66-4017-a009-04bc0f7b30c5 ]]  {\r\n",
       "comp def \"P\" as E2  <<(T,blue)part def>> [[psysml:9ab3d3ff-483c-4e41-ada7-ab2d8c979da0 ]] {\r\n",
       "}\r\n",
       "comp usage \"n: Integer\" as E3  <<(T,blue)attribute>> [[psysml:bb4f0587-9240-4f5c-8b68-755ceb30f0e1 ]] {\r\n",
       "}\r\n",
       "comp usage \"a\" as E4  <<(T,blue)part>> [[psysml:9d5a91ec-9b15-487c-8680-11258af91cb9 ]] {\r\n",
       "}\r\n",
       "comp usage \"b: P\" as E5  <<(T,blue)part>> [[psysml:0e6ddf84-4c23-42ff-8adf-60418e76591d ]] {\r\n",
       "}\r\n",
       "comp usage \"c: P\" as E6  <<(T,blue)part>> [[psysml:7a390bd1-339b-4feb-982b-b3a6ee4de727 ]] {\r\n",
       "}\r\n",
       "comp usage \"d\" as E7  <<(T,blue)part>> [[psysml:c41308c3-3ab4-4c95-8873-b6daf8742442 ]] {\r\n",
       "}\r\n",
       "comp usage \"e\" as E8  <<(T,blue)part>> [[psysml:4786ae2f-f4fb-4524-a996-e764bd48b2ea ]] {\r\n",
       "}\r\n",
       "comp usage \"f\" as E9  <<(T,blue)part>> [[psysml:f4778415-89ee-45ef-90f6-0fdee23f5f44 ]] {\r\n",
       "}\r\n",
       "comp usage \"g\" as E10  <<(T,blue)part>> [[psysml:54ce765f-cd4b-40e3-bd55-528058a48d88 ]] {\r\n",
       "}\r\n",
       "comp def \"A\" as E11  <<(T,blue)attribute def>> [[psysml:39471be4-e308-48bc-96c2-d92b434b60c0 ]] {\r\n",
       "- - attributes - -\r\n",
       "i: Integer\r\n",
       "x: A\r\n",
       "}\r\n",
       "E5 - -:|> E2 [[psysml:911f47bc-487d-4cbf-bcdd-94eeba00c89c ]] \r\n",
       "E6 - -:|> E2 [[psysml:5d978d49-3aad-49b2-9a30-3bd5979ae9aa ]] \r\n",
       "}\r\n",
       "@enduml\r\n",
       "\n",
       "PlantUML version 1.2020.13(Sat Jun 13 12:26:38 UTC 2020)\n",
       "(EPL source distribution)\n",
       "Java Runtime: OpenJDK Runtime Environment\n",
       "JVM: OpenJDK 64-Bit Server VM\n",
       "Default Encoding: UTF-8\n",
       "Language: en\n",
       "Country: null\n",
       "--></g></svg>"
      ]
     },
     "execution_count": 8,
     "metadata": {},
     "output_type": "execute_result"
    }
   ],
   "source": [
    "%viz --style=\"COMPTREE\" --view=\"MIXED\" \"MultiplicityTest\""
   ]
  },
  {
   "cell_type": "code",
   "execution_count": 9,
   "id": "7c924f8a",
   "metadata": {
    "execution": {
     "iopub.execute_input": "2021-04-21T20:26:41.862078Z",
     "iopub.status.busy": "2021-04-21T20:26:41.861387Z",
     "iopub.status.idle": "2021-04-21T20:26:41.946807Z",
     "shell.execute_reply": "2021-04-21T20:26:41.946423Z"
    }
   },
   "outputs": [
    {
     "data": {
      "image/svg+xml": [
       "<?xml version=\"1.0\" encoding=\"UTF-8\" standalone=\"no\"?><svg xmlns=\"http://www.w3.org/2000/svg\" xmlns:xlink=\"http://www.w3.org/1999/xlink\" contentScriptType=\"application/ecmascript\" contentStyleType=\"text/css\" height=\"263px\" preserveAspectRatio=\"none\" style=\"width:812px;height:263px;\" version=\"1.1\" viewBox=\"0 0 812 263\" width=\"812px\" zoomAndPan=\"magnify\"><defs/><g><!--MD5=[fbc87193dbaf4d95561dea2c320d4a47]\n",
       "cluster E1--><a href=\"psysml:0be6947d-aa66-4017-a009-04bc0f7b30c5\" target=\"_top\" title=\"psysml:0be6947d-aa66-4017-a009-04bc0f7b30c5\" xlink:actuate=\"onRequest\" xlink:href=\"psysml:0be6947d-aa66-4017-a009-04bc0f7b30c5\" xlink:show=\"new\" xlink:title=\"psysml:0be6947d-aa66-4017-a009-04bc0f7b30c5\" xlink:type=\"simple\"><polygon fill=\"#FFFFFF\" points=\"16,6,140,6,147,28.2969,790,28.2969,790,251,16,251,16,6\" style=\"stroke: #000000; stroke-width: 1.5;\"/><line style=\"stroke: #000000; stroke-width: 1.5;\" x1=\"16\" x2=\"147\" y1=\"28.2969\" y2=\"28.2969\"/><text fill=\"#000000\" font-family=\"sans-serif\" font-size=\"14\" font-weight=\"bold\" lengthAdjust=\"spacingAndGlyphs\" textLength=\"118\" x=\"20\" y=\"20.9951\">MultiplicityTest</text></a><!--MD5=[b4997ac47864f28c2f74865a473b2911]\n",
       "class E2--><a href=\"psysml:9ab3d3ff-483c-4e41-ada7-ab2d8c979da0\" target=\"_top\" title=\"psysml:9ab3d3ff-483c-4e41-ada7-ab2d8c979da0\" xlink:actuate=\"onRequest\" xlink:href=\"psysml:9ab3d3ff-483c-4e41-ada7-ab2d8c979da0\" xlink:show=\"new\" xlink:title=\"psysml:9ab3d3ff-483c-4e41-ada7-ab2d8c979da0\" xlink:type=\"simple\"><rect fill=\"#FFFFFF\" height=\"45.9375\" id=\"E2\" style=\"stroke: #383838; stroke-width: 1.5;\" width=\"66\" x=\"497\" y=\"189\"/><text fill=\"#000000\" font-family=\"sans-serif\" font-size=\"12\" font-style=\"italic\" lengthAdjust=\"spacingAndGlyphs\" textLength=\"64\" x=\"498\" y=\"205.1387\">«part def»</text><text fill=\"#000000\" font-family=\"sans-serif\" font-size=\"12\" lengthAdjust=\"spacingAndGlyphs\" textLength=\"8\" x=\"526\" y=\"219.1074\">P</text><line style=\"stroke: #383838; stroke-width: 1.5;\" x1=\"498\" x2=\"562\" y1=\"226.9375\" y2=\"226.9375\"/></a><!--MD5=[09b614a08d8cba4a07c9adeb5e0fee81]\n",
       "class E3--><a href=\"psysml:bb4f0587-9240-4f5c-8b68-755ceb30f0e1\" target=\"_top\" title=\"psysml:bb4f0587-9240-4f5c-8b68-755ceb30f0e1\" xlink:actuate=\"onRequest\" xlink:href=\"psysml:bb4f0587-9240-4f5c-8b68-755ceb30f0e1\" xlink:show=\"new\" xlink:title=\"psysml:bb4f0587-9240-4f5c-8b68-755ceb30f0e1\" xlink:type=\"simple\"><rect fill=\"#FFFFFF\" height=\"45.9375\" id=\"E3\" rx=\"10\" ry=\"10\" style=\"stroke: #383838; stroke-width: 1.5;\" width=\"71\" x=\"702.5\" y=\"62\"/><text fill=\"#000000\" font-family=\"sans-serif\" font-size=\"12\" font-style=\"italic\" lengthAdjust=\"spacingAndGlyphs\" textLength=\"69\" x=\"703.5\" y=\"78.1387\">«attribute»</text><text fill=\"#000000\" font-family=\"sans-serif\" font-size=\"12\" lengthAdjust=\"spacingAndGlyphs\" textLength=\"61\" x=\"707.5\" y=\"92.1074\">n: Integer</text><line style=\"stroke: #383838; stroke-width: 1.5;\" x1=\"703.5\" x2=\"772.5\" y1=\"99.9375\" y2=\"99.9375\"/></a><!--MD5=[ebbe1d658d1005bcc118a6aa81145e00]\n",
       "class E4--><a href=\"psysml:9d5a91ec-9b15-487c-8680-11258af91cb9\" target=\"_top\" title=\"psysml:9d5a91ec-9b15-487c-8680-11258af91cb9\" xlink:actuate=\"onRequest\" xlink:href=\"psysml:9d5a91ec-9b15-487c-8680-11258af91cb9\" xlink:show=\"new\" xlink:title=\"psysml:9d5a91ec-9b15-487c-8680-11258af91cb9\" xlink:type=\"simple\"><rect fill=\"#FFFFFF\" height=\"45.9375\" id=\"E4\" rx=\"10\" ry=\"10\" style=\"stroke: #383838; stroke-width: 1.5;\" width=\"42\" x=\"625\" y=\"62\"/><text fill=\"#000000\" font-family=\"sans-serif\" font-size=\"12\" font-style=\"italic\" lengthAdjust=\"spacingAndGlyphs\" textLength=\"40\" x=\"626\" y=\"78.1387\">«part»</text><text fill=\"#000000\" font-family=\"sans-serif\" font-size=\"12\" lengthAdjust=\"spacingAndGlyphs\" textLength=\"8\" x=\"642\" y=\"92.1074\">a</text><line style=\"stroke: #383838; stroke-width: 1.5;\" x1=\"626\" x2=\"666\" y1=\"99.9375\" y2=\"99.9375\"/></a><!--MD5=[270fce915f116d4de14055a7c1d9a0f3]\n",
       "class E5--><a href=\"psysml:0e6ddf84-4c23-42ff-8adf-60418e76591d\" target=\"_top\" title=\"psysml:0e6ddf84-4c23-42ff-8adf-60418e76591d\" xlink:actuate=\"onRequest\" xlink:href=\"psysml:0e6ddf84-4c23-42ff-8adf-60418e76591d\" xlink:show=\"new\" xlink:title=\"psysml:0e6ddf84-4c23-42ff-8adf-60418e76591d\" xlink:type=\"simple\"><rect fill=\"#FFFFFF\" height=\"45.9375\" id=\"E5\" rx=\"10\" ry=\"10\" style=\"stroke: #383838; stroke-width: 1.5;\" width=\"42\" x=\"548\" y=\"62\"/><text fill=\"#000000\" font-family=\"sans-serif\" font-size=\"12\" font-style=\"italic\" lengthAdjust=\"spacingAndGlyphs\" textLength=\"40\" x=\"549\" y=\"78.1387\">«part»</text><text fill=\"#000000\" font-family=\"sans-serif\" font-size=\"12\" lengthAdjust=\"spacingAndGlyphs\" textLength=\"24\" x=\"557\" y=\"92.1074\">b: P</text><line style=\"stroke: #383838; stroke-width: 1.5;\" x1=\"549\" x2=\"589\" y1=\"99.9375\" y2=\"99.9375\"/></a><!--MD5=[60a26617385b1d2d0262a64233df1f8d]\n",
       "class E6--><a href=\"psysml:7a390bd1-339b-4feb-982b-b3a6ee4de727\" target=\"_top\" title=\"psysml:7a390bd1-339b-4feb-982b-b3a6ee4de727\" xlink:actuate=\"onRequest\" xlink:href=\"psysml:7a390bd1-339b-4feb-982b-b3a6ee4de727\" xlink:show=\"new\" xlink:title=\"psysml:7a390bd1-339b-4feb-982b-b3a6ee4de727\" xlink:type=\"simple\"><rect fill=\"#FFFFFF\" height=\"45.9375\" id=\"E6\" rx=\"10\" ry=\"10\" style=\"stroke: #383838; stroke-width: 1.5;\" width=\"42\" x=\"471\" y=\"62\"/><text fill=\"#000000\" font-family=\"sans-serif\" font-size=\"12\" font-style=\"italic\" lengthAdjust=\"spacingAndGlyphs\" textLength=\"40\" x=\"472\" y=\"78.1387\">«part»</text><text fill=\"#000000\" font-family=\"sans-serif\" font-size=\"12\" lengthAdjust=\"spacingAndGlyphs\" textLength=\"23\" x=\"480.5\" y=\"92.1074\">c: P</text><line style=\"stroke: #383838; stroke-width: 1.5;\" x1=\"472\" x2=\"512\" y1=\"99.9375\" y2=\"99.9375\"/></a><!--MD5=[2156ba9850f5573cc1fc38a6a4b2f02b]\n",
       "class E7--><a href=\"psysml:c41308c3-3ab4-4c95-8873-b6daf8742442\" target=\"_top\" title=\"psysml:c41308c3-3ab4-4c95-8873-b6daf8742442\" xlink:actuate=\"onRequest\" xlink:href=\"psysml:c41308c3-3ab4-4c95-8873-b6daf8742442\" xlink:show=\"new\" xlink:title=\"psysml:c41308c3-3ab4-4c95-8873-b6daf8742442\" xlink:type=\"simple\"><rect fill=\"#FFFFFF\" height=\"45.9375\" id=\"E7\" rx=\"10\" ry=\"10\" style=\"stroke: #383838; stroke-width: 1.5;\" width=\"42\" x=\"394\" y=\"62\"/><text fill=\"#000000\" font-family=\"sans-serif\" font-size=\"12\" font-style=\"italic\" lengthAdjust=\"spacingAndGlyphs\" textLength=\"40\" x=\"395\" y=\"78.1387\">«part»</text><text fill=\"#000000\" font-family=\"sans-serif\" font-size=\"12\" lengthAdjust=\"spacingAndGlyphs\" textLength=\"8\" x=\"411\" y=\"92.1074\">d</text><line style=\"stroke: #383838; stroke-width: 1.5;\" x1=\"395\" x2=\"435\" y1=\"99.9375\" y2=\"99.9375\"/></a><!--MD5=[b9389687b975829384b498ac4b7476b2]\n",
       "class E8--><a href=\"psysml:4786ae2f-f4fb-4524-a996-e764bd48b2ea\" target=\"_top\" title=\"psysml:4786ae2f-f4fb-4524-a996-e764bd48b2ea\" xlink:actuate=\"onRequest\" xlink:href=\"psysml:4786ae2f-f4fb-4524-a996-e764bd48b2ea\" xlink:show=\"new\" xlink:title=\"psysml:4786ae2f-f4fb-4524-a996-e764bd48b2ea\" xlink:type=\"simple\"><rect fill=\"#FFFFFF\" height=\"45.9375\" id=\"E8\" rx=\"10\" ry=\"10\" style=\"stroke: #383838; stroke-width: 1.5;\" width=\"42\" x=\"317\" y=\"62\"/><text fill=\"#000000\" font-family=\"sans-serif\" font-size=\"12\" font-style=\"italic\" lengthAdjust=\"spacingAndGlyphs\" textLength=\"40\" x=\"318\" y=\"78.1387\">«part»</text><text fill=\"#000000\" font-family=\"sans-serif\" font-size=\"12\" lengthAdjust=\"spacingAndGlyphs\" textLength=\"8\" x=\"334\" y=\"92.1074\">e</text><line style=\"stroke: #383838; stroke-width: 1.5;\" x1=\"318\" x2=\"358\" y1=\"99.9375\" y2=\"99.9375\"/></a><!--MD5=[fd4143e9d270a159db93a4ea2a975926]\n",
       "class E9--><a href=\"psysml:f4778415-89ee-45ef-90f6-0fdee23f5f44\" target=\"_top\" title=\"psysml:f4778415-89ee-45ef-90f6-0fdee23f5f44\" xlink:actuate=\"onRequest\" xlink:href=\"psysml:f4778415-89ee-45ef-90f6-0fdee23f5f44\" xlink:show=\"new\" xlink:title=\"psysml:f4778415-89ee-45ef-90f6-0fdee23f5f44\" xlink:type=\"simple\"><rect fill=\"#FFFFFF\" height=\"45.9375\" id=\"E9\" rx=\"10\" ry=\"10\" style=\"stroke: #383838; stroke-width: 1.5;\" width=\"42\" x=\"240\" y=\"62\"/><text fill=\"#000000\" font-family=\"sans-serif\" font-size=\"12\" font-style=\"italic\" lengthAdjust=\"spacingAndGlyphs\" textLength=\"40\" x=\"241\" y=\"78.1387\">«part»</text><text fill=\"#000000\" font-family=\"sans-serif\" font-size=\"12\" lengthAdjust=\"spacingAndGlyphs\" textLength=\"4\" x=\"259\" y=\"92.1074\">f</text><line style=\"stroke: #383838; stroke-width: 1.5;\" x1=\"241\" x2=\"281\" y1=\"99.9375\" y2=\"99.9375\"/></a><!--MD5=[96f4274e9e20536e775497830990834d]\n",
       "class E10--><a href=\"psysml:54ce765f-cd4b-40e3-bd55-528058a48d88\" target=\"_top\" title=\"psysml:54ce765f-cd4b-40e3-bd55-528058a48d88\" xlink:actuate=\"onRequest\" xlink:href=\"psysml:54ce765f-cd4b-40e3-bd55-528058a48d88\" xlink:show=\"new\" xlink:title=\"psysml:54ce765f-cd4b-40e3-bd55-528058a48d88\" xlink:type=\"simple\"><rect fill=\"#FFFFFF\" height=\"45.9375\" id=\"E10\" rx=\"10\" ry=\"10\" style=\"stroke: #383838; stroke-width: 1.5;\" width=\"42\" x=\"163\" y=\"62\"/><text fill=\"#000000\" font-family=\"sans-serif\" font-size=\"12\" font-style=\"italic\" lengthAdjust=\"spacingAndGlyphs\" textLength=\"40\" x=\"164\" y=\"78.1387\">«part»</text><text fill=\"#000000\" font-family=\"sans-serif\" font-size=\"12\" lengthAdjust=\"spacingAndGlyphs\" textLength=\"8\" x=\"180\" y=\"92.1074\">g</text><line style=\"stroke: #383838; stroke-width: 1.5;\" x1=\"164\" x2=\"204\" y1=\"99.9375\" y2=\"99.9375\"/></a><!--MD5=[1dd1bfd58a279cf63c5f349dbc8fc6a1]\n",
       "class E11--><a href=\"psysml:39471be4-e308-48bc-96c2-d92b434b60c0\" target=\"_top\" title=\"psysml:39471be4-e308-48bc-96c2-d92b434b60c0\" xlink:actuate=\"onRequest\" xlink:href=\"psysml:39471be4-e308-48bc-96c2-d92b434b60c0\" xlink:show=\"new\" xlink:title=\"psysml:39471be4-e308-48bc-96c2-d92b434b60c0\" xlink:type=\"simple\"><rect fill=\"#FFFFFF\" height=\"88.3516\" id=\"E11\" style=\"stroke: #383838; stroke-width: 1.5;\" width=\"95\" x=\"32.5\" y=\"41\"/><text fill=\"#000000\" font-family=\"sans-serif\" font-size=\"12\" font-style=\"italic\" lengthAdjust=\"spacingAndGlyphs\" textLength=\"93\" x=\"33.5\" y=\"57.1387\">«attribute def»</text><text fill=\"#000000\" font-family=\"sans-serif\" font-size=\"12\" lengthAdjust=\"spacingAndGlyphs\" textLength=\"8\" x=\"76\" y=\"71.1074\">A</text><line style=\"stroke: #383838; stroke-width: 1.5;\" x1=\"33.5\" x2=\"126.5\" y1=\"78.9375\" y2=\"78.9375\"/><text fill=\"#000000\" font-family=\"sans-serif\" font-size=\"11\" lengthAdjust=\"spacingAndGlyphs\" textLength=\"51\" x=\"38.5\" y=\"109.9526\">i: Integer</text><text fill=\"#000000\" font-family=\"sans-serif\" font-size=\"11\" lengthAdjust=\"spacingAndGlyphs\" textLength=\"21\" x=\"38.5\" y=\"122.7573\">x: A</text><line style=\"stroke: #383838; stroke-width: 1.0;\" x1=\"33.5\" x2=\"52.5\" y1=\"93.3398\" y2=\"93.3398\"/><text fill=\"#000000\" font-family=\"sans-serif\" font-size=\"11\" lengthAdjust=\"spacingAndGlyphs\" textLength=\"55\" x=\"52.5\" y=\"96.6479\">attributes</text><line style=\"stroke: #383838; stroke-width: 1.0;\" x1=\"107.5\" x2=\"126.5\" y1=\"93.3398\" y2=\"93.3398\"/></a><!--MD5=[15ebcb19ae302d9b601edb458606d402]\n",
       "link E5 to E2--><a href=\"psysml:911f47bc-487d-4cbf-bcdd-94eeba00c89c\" target=\"_top\" title=\"psysml:911f47bc-487d-4cbf-bcdd-94eeba00c89c\" xlink:actuate=\"onRequest\" xlink:href=\"psysml:911f47bc-487d-4cbf-bcdd-94eeba00c89c\" xlink:show=\"new\" xlink:title=\"psysml:911f47bc-487d-4cbf-bcdd-94eeba00c89c\" xlink:type=\"simple\"><path d=\"M562.12,108.06 C556.83,125 549.38,148.89 542.98,169.39 \" fill=\"none\" id=\"E5-&gt;E2\" style=\"stroke: #383838; stroke-width: 1.0;\"/><polygon fill=\"#FFFFFF\" points=\"536.95,188.74,535.929,168.5173,549.2931,172.6886,536.95,188.74\" style=\"stroke: #383838; stroke-width: 1.0;\"/><ellipse cx=\"539.5364\" cy=\"163.6721\" fill=\"#383838\" rx=\"2\" ry=\"2\" style=\"stroke: #383838; stroke-width: 1.0;\"/><ellipse cx=\"549.0823\" cy=\"166.6516\" fill=\"#383838\" rx=\"2\" ry=\"2\" style=\"stroke: #383838; stroke-width: 1.0;\"/></a><!--MD5=[2351f337d6de0f557b50152ba70847b5]\n",
       "link E6 to E2--><a href=\"psysml:5d978d49-3aad-49b2-9a30-3bd5979ae9aa\" target=\"_top\" title=\"psysml:5d978d49-3aad-49b2-9a30-3bd5979ae9aa\" xlink:actuate=\"onRequest\" xlink:href=\"psysml:5d978d49-3aad-49b2-9a30-3bd5979ae9aa\" xlink:show=\"new\" xlink:title=\"psysml:5d978d49-3aad-49b2-9a30-3bd5979ae9aa\" xlink:type=\"simple\"><path d=\"M498.71,108.06 C503.86,125 511.12,148.89 517.35,169.39 \" fill=\"none\" id=\"E6-&gt;E2\" style=\"stroke: #383838; stroke-width: 1.0;\"/><polygon fill=\"#FFFFFF\" points=\"523.23,188.74,511.007,172.597,524.4019,168.5255,523.23,188.74\" style=\"stroke: #383838; stroke-width: 1.0;\"/><ellipse cx=\"511.2628\" cy=\"166.5617\" fill=\"#383838\" rx=\"2\" ry=\"2\" style=\"stroke: #383838; stroke-width: 1.0;\"/><ellipse cx=\"520.8306\" cy=\"163.6535\" fill=\"#383838\" rx=\"2\" ry=\"2\" style=\"stroke: #383838; stroke-width: 1.0;\"/></a><!--MD5=[918c6582d18bd83753cffaef278e3495]\n",
       "@startuml\r\n",
       "skinparam linetype polyline\r\n",
       "skinparam monochrome true\r\n",
       "skinparam classbackgroundcolor white\r\n",
       "skinparam shadowing false\r\n",
       "skinparam wrapWidth 300\r\n",
       "hide circle\r\n",
       "\r\n",
       "package \"MultiplicityTest\" as E1  [[psysml:0be6947d-aa66-4017-a009-04bc0f7b30c5 ]]  {\r\n",
       "comp def \"P\" as E2  <<(T,blue)part def>> [[psysml:9ab3d3ff-483c-4e41-ada7-ab2d8c979da0 ]] {\r\n",
       "}\r\n",
       "comp usage \"n: Integer\" as E3  <<(T,blue)attribute>> [[psysml:bb4f0587-9240-4f5c-8b68-755ceb30f0e1 ]] {\r\n",
       "}\r\n",
       "comp usage \"a\" as E4  <<(T,blue)part>> [[psysml:9d5a91ec-9b15-487c-8680-11258af91cb9 ]] {\r\n",
       "}\r\n",
       "comp usage \"b: P\" as E5  <<(T,blue)part>> [[psysml:0e6ddf84-4c23-42ff-8adf-60418e76591d ]] {\r\n",
       "}\r\n",
       "comp usage \"c: P\" as E6  <<(T,blue)part>> [[psysml:7a390bd1-339b-4feb-982b-b3a6ee4de727 ]] {\r\n",
       "}\r\n",
       "comp usage \"d\" as E7  <<(T,blue)part>> [[psysml:c41308c3-3ab4-4c95-8873-b6daf8742442 ]] {\r\n",
       "}\r\n",
       "comp usage \"e\" as E8  <<(T,blue)part>> [[psysml:4786ae2f-f4fb-4524-a996-e764bd48b2ea ]] {\r\n",
       "}\r\n",
       "comp usage \"f\" as E9  <<(T,blue)part>> [[psysml:f4778415-89ee-45ef-90f6-0fdee23f5f44 ]] {\r\n",
       "}\r\n",
       "comp usage \"g\" as E10  <<(T,blue)part>> [[psysml:54ce765f-cd4b-40e3-bd55-528058a48d88 ]] {\r\n",
       "}\r\n",
       "comp def \"A\" as E11  <<(T,blue)attribute def>> [[psysml:39471be4-e308-48bc-96c2-d92b434b60c0 ]] {\r\n",
       "- - attributes - -\r\n",
       "i: Integer\r\n",
       "x: A\r\n",
       "}\r\n",
       "E5 - -:|> E2 [[psysml:911f47bc-487d-4cbf-bcdd-94eeba00c89c ]] \r\n",
       "E6 - -:|> E2 [[psysml:5d978d49-3aad-49b2-9a30-3bd5979ae9aa ]] \r\n",
       "}\r\n",
       "@enduml\r\n",
       "\n",
       "PlantUML version 1.2020.13(Sat Jun 13 12:26:38 UTC 2020)\n",
       "(EPL source distribution)\n",
       "Java Runtime: OpenJDK Runtime Environment\n",
       "JVM: OpenJDK 64-Bit Server VM\n",
       "Default Encoding: UTF-8\n",
       "Language: en\n",
       "Country: null\n",
       "--></g></svg>"
      ]
     },
     "execution_count": 9,
     "metadata": {},
     "output_type": "execute_result"
    }
   ],
   "source": [
    "%viz --style=\"POLYLINE\" --view=\"Default\" \"MultiplicityTest\""
   ]
  },
  {
   "cell_type": "code",
   "execution_count": 10,
   "id": "6663f602",
   "metadata": {
    "execution": {
     "iopub.execute_input": "2021-04-21T20:26:41.996809Z",
     "iopub.status.busy": "2021-04-21T20:26:41.996328Z",
     "iopub.status.idle": "2021-04-21T20:26:42.071561Z",
     "shell.execute_reply": "2021-04-21T20:26:42.070020Z"
    }
   },
   "outputs": [
    {
     "data": {
      "image/svg+xml": [
       "<?xml version=\"1.0\" encoding=\"UTF-8\" standalone=\"no\"?><svg xmlns=\"http://www.w3.org/2000/svg\" xmlns:xlink=\"http://www.w3.org/1999/xlink\" contentScriptType=\"application/ecmascript\" contentStyleType=\"text/css\" height=\"263px\" preserveAspectRatio=\"none\" style=\"width:812px;height:263px;\" version=\"1.1\" viewBox=\"0 0 812 263\" width=\"812px\" zoomAndPan=\"magnify\"><defs/><g><!--MD5=[fbc87193dbaf4d95561dea2c320d4a47]\n",
       "cluster E1--><a href=\"psysml:0be6947d-aa66-4017-a009-04bc0f7b30c5\" target=\"_top\" title=\"psysml:0be6947d-aa66-4017-a009-04bc0f7b30c5\" xlink:actuate=\"onRequest\" xlink:href=\"psysml:0be6947d-aa66-4017-a009-04bc0f7b30c5\" xlink:show=\"new\" xlink:title=\"psysml:0be6947d-aa66-4017-a009-04bc0f7b30c5\" xlink:type=\"simple\"><polygon fill=\"#FFFFFF\" points=\"16,6,140,6,147,28.2969,790,28.2969,790,251,16,251,16,6\" style=\"stroke: #000000; stroke-width: 1.5;\"/><line style=\"stroke: #000000; stroke-width: 1.5;\" x1=\"16\" x2=\"147\" y1=\"28.2969\" y2=\"28.2969\"/><text fill=\"#000000\" font-family=\"sans-serif\" font-size=\"14\" font-weight=\"bold\" lengthAdjust=\"spacingAndGlyphs\" textLength=\"118\" x=\"20\" y=\"20.9951\">MultiplicityTest</text></a><!--MD5=[b4997ac47864f28c2f74865a473b2911]\n",
       "class E2--><a href=\"psysml:9ab3d3ff-483c-4e41-ada7-ab2d8c979da0\" target=\"_top\" title=\"psysml:9ab3d3ff-483c-4e41-ada7-ab2d8c979da0\" xlink:actuate=\"onRequest\" xlink:href=\"psysml:9ab3d3ff-483c-4e41-ada7-ab2d8c979da0\" xlink:show=\"new\" xlink:title=\"psysml:9ab3d3ff-483c-4e41-ada7-ab2d8c979da0\" xlink:type=\"simple\"><rect fill=\"#FFFFFF\" height=\"45.9375\" id=\"E2\" style=\"stroke: #383838; stroke-width: 1.5;\" width=\"66\" x=\"497\" y=\"189\"/><text fill=\"#000000\" font-family=\"sans-serif\" font-size=\"12\" font-style=\"italic\" lengthAdjust=\"spacingAndGlyphs\" textLength=\"64\" x=\"498\" y=\"205.1387\">«part def»</text><text fill=\"#000000\" font-family=\"sans-serif\" font-size=\"12\" lengthAdjust=\"spacingAndGlyphs\" textLength=\"8\" x=\"526\" y=\"219.1074\">P</text><line style=\"stroke: #383838; stroke-width: 1.5;\" x1=\"498\" x2=\"562\" y1=\"226.9375\" y2=\"226.9375\"/></a><!--MD5=[09b614a08d8cba4a07c9adeb5e0fee81]\n",
       "class E3--><a href=\"psysml:bb4f0587-9240-4f5c-8b68-755ceb30f0e1\" target=\"_top\" title=\"psysml:bb4f0587-9240-4f5c-8b68-755ceb30f0e1\" xlink:actuate=\"onRequest\" xlink:href=\"psysml:bb4f0587-9240-4f5c-8b68-755ceb30f0e1\" xlink:show=\"new\" xlink:title=\"psysml:bb4f0587-9240-4f5c-8b68-755ceb30f0e1\" xlink:type=\"simple\"><rect fill=\"#FFFFFF\" height=\"45.9375\" id=\"E3\" rx=\"10\" ry=\"10\" style=\"stroke: #383838; stroke-width: 1.5;\" width=\"71\" x=\"702.5\" y=\"62\"/><text fill=\"#000000\" font-family=\"sans-serif\" font-size=\"12\" font-style=\"italic\" lengthAdjust=\"spacingAndGlyphs\" textLength=\"69\" x=\"703.5\" y=\"78.1387\">«attribute»</text><text fill=\"#000000\" font-family=\"sans-serif\" font-size=\"12\" lengthAdjust=\"spacingAndGlyphs\" textLength=\"61\" x=\"707.5\" y=\"92.1074\">n: Integer</text><line style=\"stroke: #383838; stroke-width: 1.5;\" x1=\"703.5\" x2=\"772.5\" y1=\"99.9375\" y2=\"99.9375\"/></a><!--MD5=[ebbe1d658d1005bcc118a6aa81145e00]\n",
       "class E4--><a href=\"psysml:9d5a91ec-9b15-487c-8680-11258af91cb9\" target=\"_top\" title=\"psysml:9d5a91ec-9b15-487c-8680-11258af91cb9\" xlink:actuate=\"onRequest\" xlink:href=\"psysml:9d5a91ec-9b15-487c-8680-11258af91cb9\" xlink:show=\"new\" xlink:title=\"psysml:9d5a91ec-9b15-487c-8680-11258af91cb9\" xlink:type=\"simple\"><rect fill=\"#FFFFFF\" height=\"45.9375\" id=\"E4\" rx=\"10\" ry=\"10\" style=\"stroke: #383838; stroke-width: 1.5;\" width=\"42\" x=\"625\" y=\"62\"/><text fill=\"#000000\" font-family=\"sans-serif\" font-size=\"12\" font-style=\"italic\" lengthAdjust=\"spacingAndGlyphs\" textLength=\"40\" x=\"626\" y=\"78.1387\">«part»</text><text fill=\"#000000\" font-family=\"sans-serif\" font-size=\"12\" lengthAdjust=\"spacingAndGlyphs\" textLength=\"8\" x=\"642\" y=\"92.1074\">a</text><line style=\"stroke: #383838; stroke-width: 1.5;\" x1=\"626\" x2=\"666\" y1=\"99.9375\" y2=\"99.9375\"/></a><!--MD5=[270fce915f116d4de14055a7c1d9a0f3]\n",
       "class E5--><a href=\"psysml:0e6ddf84-4c23-42ff-8adf-60418e76591d\" target=\"_top\" title=\"psysml:0e6ddf84-4c23-42ff-8adf-60418e76591d\" xlink:actuate=\"onRequest\" xlink:href=\"psysml:0e6ddf84-4c23-42ff-8adf-60418e76591d\" xlink:show=\"new\" xlink:title=\"psysml:0e6ddf84-4c23-42ff-8adf-60418e76591d\" xlink:type=\"simple\"><rect fill=\"#FFFFFF\" height=\"45.9375\" id=\"E5\" rx=\"10\" ry=\"10\" style=\"stroke: #383838; stroke-width: 1.5;\" width=\"42\" x=\"548\" y=\"62\"/><text fill=\"#000000\" font-family=\"sans-serif\" font-size=\"12\" font-style=\"italic\" lengthAdjust=\"spacingAndGlyphs\" textLength=\"40\" x=\"549\" y=\"78.1387\">«part»</text><text fill=\"#000000\" font-family=\"sans-serif\" font-size=\"12\" lengthAdjust=\"spacingAndGlyphs\" textLength=\"24\" x=\"557\" y=\"92.1074\">b: P</text><line style=\"stroke: #383838; stroke-width: 1.5;\" x1=\"549\" x2=\"589\" y1=\"99.9375\" y2=\"99.9375\"/></a><!--MD5=[60a26617385b1d2d0262a64233df1f8d]\n",
       "class E6--><a href=\"psysml:7a390bd1-339b-4feb-982b-b3a6ee4de727\" target=\"_top\" title=\"psysml:7a390bd1-339b-4feb-982b-b3a6ee4de727\" xlink:actuate=\"onRequest\" xlink:href=\"psysml:7a390bd1-339b-4feb-982b-b3a6ee4de727\" xlink:show=\"new\" xlink:title=\"psysml:7a390bd1-339b-4feb-982b-b3a6ee4de727\" xlink:type=\"simple\"><rect fill=\"#FFFFFF\" height=\"45.9375\" id=\"E6\" rx=\"10\" ry=\"10\" style=\"stroke: #383838; stroke-width: 1.5;\" width=\"42\" x=\"471\" y=\"62\"/><text fill=\"#000000\" font-family=\"sans-serif\" font-size=\"12\" font-style=\"italic\" lengthAdjust=\"spacingAndGlyphs\" textLength=\"40\" x=\"472\" y=\"78.1387\">«part»</text><text fill=\"#000000\" font-family=\"sans-serif\" font-size=\"12\" lengthAdjust=\"spacingAndGlyphs\" textLength=\"23\" x=\"480.5\" y=\"92.1074\">c: P</text><line style=\"stroke: #383838; stroke-width: 1.5;\" x1=\"472\" x2=\"512\" y1=\"99.9375\" y2=\"99.9375\"/></a><!--MD5=[2156ba9850f5573cc1fc38a6a4b2f02b]\n",
       "class E7--><a href=\"psysml:c41308c3-3ab4-4c95-8873-b6daf8742442\" target=\"_top\" title=\"psysml:c41308c3-3ab4-4c95-8873-b6daf8742442\" xlink:actuate=\"onRequest\" xlink:href=\"psysml:c41308c3-3ab4-4c95-8873-b6daf8742442\" xlink:show=\"new\" xlink:title=\"psysml:c41308c3-3ab4-4c95-8873-b6daf8742442\" xlink:type=\"simple\"><rect fill=\"#FFFFFF\" height=\"45.9375\" id=\"E7\" rx=\"10\" ry=\"10\" style=\"stroke: #383838; stroke-width: 1.5;\" width=\"42\" x=\"394\" y=\"62\"/><text fill=\"#000000\" font-family=\"sans-serif\" font-size=\"12\" font-style=\"italic\" lengthAdjust=\"spacingAndGlyphs\" textLength=\"40\" x=\"395\" y=\"78.1387\">«part»</text><text fill=\"#000000\" font-family=\"sans-serif\" font-size=\"12\" lengthAdjust=\"spacingAndGlyphs\" textLength=\"8\" x=\"411\" y=\"92.1074\">d</text><line style=\"stroke: #383838; stroke-width: 1.5;\" x1=\"395\" x2=\"435\" y1=\"99.9375\" y2=\"99.9375\"/></a><!--MD5=[b9389687b975829384b498ac4b7476b2]\n",
       "class E8--><a href=\"psysml:4786ae2f-f4fb-4524-a996-e764bd48b2ea\" target=\"_top\" title=\"psysml:4786ae2f-f4fb-4524-a996-e764bd48b2ea\" xlink:actuate=\"onRequest\" xlink:href=\"psysml:4786ae2f-f4fb-4524-a996-e764bd48b2ea\" xlink:show=\"new\" xlink:title=\"psysml:4786ae2f-f4fb-4524-a996-e764bd48b2ea\" xlink:type=\"simple\"><rect fill=\"#FFFFFF\" height=\"45.9375\" id=\"E8\" rx=\"10\" ry=\"10\" style=\"stroke: #383838; stroke-width: 1.5;\" width=\"42\" x=\"317\" y=\"62\"/><text fill=\"#000000\" font-family=\"sans-serif\" font-size=\"12\" font-style=\"italic\" lengthAdjust=\"spacingAndGlyphs\" textLength=\"40\" x=\"318\" y=\"78.1387\">«part»</text><text fill=\"#000000\" font-family=\"sans-serif\" font-size=\"12\" lengthAdjust=\"spacingAndGlyphs\" textLength=\"8\" x=\"334\" y=\"92.1074\">e</text><line style=\"stroke: #383838; stroke-width: 1.5;\" x1=\"318\" x2=\"358\" y1=\"99.9375\" y2=\"99.9375\"/></a><!--MD5=[fd4143e9d270a159db93a4ea2a975926]\n",
       "class E9--><a href=\"psysml:f4778415-89ee-45ef-90f6-0fdee23f5f44\" target=\"_top\" title=\"psysml:f4778415-89ee-45ef-90f6-0fdee23f5f44\" xlink:actuate=\"onRequest\" xlink:href=\"psysml:f4778415-89ee-45ef-90f6-0fdee23f5f44\" xlink:show=\"new\" xlink:title=\"psysml:f4778415-89ee-45ef-90f6-0fdee23f5f44\" xlink:type=\"simple\"><rect fill=\"#FFFFFF\" height=\"45.9375\" id=\"E9\" rx=\"10\" ry=\"10\" style=\"stroke: #383838; stroke-width: 1.5;\" width=\"42\" x=\"240\" y=\"62\"/><text fill=\"#000000\" font-family=\"sans-serif\" font-size=\"12\" font-style=\"italic\" lengthAdjust=\"spacingAndGlyphs\" textLength=\"40\" x=\"241\" y=\"78.1387\">«part»</text><text fill=\"#000000\" font-family=\"sans-serif\" font-size=\"12\" lengthAdjust=\"spacingAndGlyphs\" textLength=\"4\" x=\"259\" y=\"92.1074\">f</text><line style=\"stroke: #383838; stroke-width: 1.5;\" x1=\"241\" x2=\"281\" y1=\"99.9375\" y2=\"99.9375\"/></a><!--MD5=[96f4274e9e20536e775497830990834d]\n",
       "class E10--><a href=\"psysml:54ce765f-cd4b-40e3-bd55-528058a48d88\" target=\"_top\" title=\"psysml:54ce765f-cd4b-40e3-bd55-528058a48d88\" xlink:actuate=\"onRequest\" xlink:href=\"psysml:54ce765f-cd4b-40e3-bd55-528058a48d88\" xlink:show=\"new\" xlink:title=\"psysml:54ce765f-cd4b-40e3-bd55-528058a48d88\" xlink:type=\"simple\"><rect fill=\"#FFFFFF\" height=\"45.9375\" id=\"E10\" rx=\"10\" ry=\"10\" style=\"stroke: #383838; stroke-width: 1.5;\" width=\"42\" x=\"163\" y=\"62\"/><text fill=\"#000000\" font-family=\"sans-serif\" font-size=\"12\" font-style=\"italic\" lengthAdjust=\"spacingAndGlyphs\" textLength=\"40\" x=\"164\" y=\"78.1387\">«part»</text><text fill=\"#000000\" font-family=\"sans-serif\" font-size=\"12\" lengthAdjust=\"spacingAndGlyphs\" textLength=\"8\" x=\"180\" y=\"92.1074\">g</text><line style=\"stroke: #383838; stroke-width: 1.5;\" x1=\"164\" x2=\"204\" y1=\"99.9375\" y2=\"99.9375\"/></a><!--MD5=[1dd1bfd58a279cf63c5f349dbc8fc6a1]\n",
       "class E11--><a href=\"psysml:39471be4-e308-48bc-96c2-d92b434b60c0\" target=\"_top\" title=\"psysml:39471be4-e308-48bc-96c2-d92b434b60c0\" xlink:actuate=\"onRequest\" xlink:href=\"psysml:39471be4-e308-48bc-96c2-d92b434b60c0\" xlink:show=\"new\" xlink:title=\"psysml:39471be4-e308-48bc-96c2-d92b434b60c0\" xlink:type=\"simple\"><rect fill=\"#FFFFFF\" height=\"88.3516\" id=\"E11\" style=\"stroke: #383838; stroke-width: 1.5;\" width=\"95\" x=\"32.5\" y=\"41\"/><text fill=\"#000000\" font-family=\"sans-serif\" font-size=\"12\" font-style=\"italic\" lengthAdjust=\"spacingAndGlyphs\" textLength=\"93\" x=\"33.5\" y=\"57.1387\">«attribute def»</text><text fill=\"#000000\" font-family=\"sans-serif\" font-size=\"12\" lengthAdjust=\"spacingAndGlyphs\" textLength=\"8\" x=\"76\" y=\"71.1074\">A</text><line style=\"stroke: #383838; stroke-width: 1.5;\" x1=\"33.5\" x2=\"126.5\" y1=\"78.9375\" y2=\"78.9375\"/><text fill=\"#000000\" font-family=\"sans-serif\" font-size=\"11\" lengthAdjust=\"spacingAndGlyphs\" textLength=\"51\" x=\"38.5\" y=\"109.9526\">i: Integer</text><text fill=\"#000000\" font-family=\"sans-serif\" font-size=\"11\" lengthAdjust=\"spacingAndGlyphs\" textLength=\"21\" x=\"38.5\" y=\"122.7573\">x: A</text><line style=\"stroke: #383838; stroke-width: 1.0;\" x1=\"33.5\" x2=\"52.5\" y1=\"93.3398\" y2=\"93.3398\"/><text fill=\"#000000\" font-family=\"sans-serif\" font-size=\"11\" lengthAdjust=\"spacingAndGlyphs\" textLength=\"55\" x=\"52.5\" y=\"96.6479\">attributes</text><line style=\"stroke: #383838; stroke-width: 1.0;\" x1=\"107.5\" x2=\"126.5\" y1=\"93.3398\" y2=\"93.3398\"/></a><!--MD5=[15ebcb19ae302d9b601edb458606d402]\n",
       "link E5 to E2--><a href=\"psysml:911f47bc-487d-4cbf-bcdd-94eeba00c89c\" target=\"_top\" title=\"psysml:911f47bc-487d-4cbf-bcdd-94eeba00c89c\" xlink:actuate=\"onRequest\" xlink:href=\"psysml:911f47bc-487d-4cbf-bcdd-94eeba00c89c\" xlink:show=\"new\" xlink:title=\"psysml:911f47bc-487d-4cbf-bcdd-94eeba00c89c\" xlink:type=\"simple\"><path d=\"M562.12,108.06 C556.83,125 549.38,148.89 542.98,169.39 \" fill=\"none\" id=\"E5-&gt;E2\" style=\"stroke: #383838; stroke-width: 1.0;\"/><polygon fill=\"#FFFFFF\" points=\"536.95,188.74,535.929,168.5173,549.2931,172.6886,536.95,188.74\" style=\"stroke: #383838; stroke-width: 1.0;\"/><ellipse cx=\"539.5364\" cy=\"163.6721\" fill=\"#383838\" rx=\"2\" ry=\"2\" style=\"stroke: #383838; stroke-width: 1.0;\"/><ellipse cx=\"549.0823\" cy=\"166.6516\" fill=\"#383838\" rx=\"2\" ry=\"2\" style=\"stroke: #383838; stroke-width: 1.0;\"/></a><!--MD5=[2351f337d6de0f557b50152ba70847b5]\n",
       "link E6 to E2--><a href=\"psysml:5d978d49-3aad-49b2-9a30-3bd5979ae9aa\" target=\"_top\" title=\"psysml:5d978d49-3aad-49b2-9a30-3bd5979ae9aa\" xlink:actuate=\"onRequest\" xlink:href=\"psysml:5d978d49-3aad-49b2-9a30-3bd5979ae9aa\" xlink:show=\"new\" xlink:title=\"psysml:5d978d49-3aad-49b2-9a30-3bd5979ae9aa\" xlink:type=\"simple\"><path d=\"M498.71,108.06 C503.86,125 511.12,148.89 517.35,169.39 \" fill=\"none\" id=\"E6-&gt;E2\" style=\"stroke: #383838; stroke-width: 1.0;\"/><polygon fill=\"#FFFFFF\" points=\"523.23,188.74,511.007,172.597,524.4019,168.5255,523.23,188.74\" style=\"stroke: #383838; stroke-width: 1.0;\"/><ellipse cx=\"511.2628\" cy=\"166.5617\" fill=\"#383838\" rx=\"2\" ry=\"2\" style=\"stroke: #383838; stroke-width: 1.0;\"/><ellipse cx=\"520.8306\" cy=\"163.6535\" fill=\"#383838\" rx=\"2\" ry=\"2\" style=\"stroke: #383838; stroke-width: 1.0;\"/></a><!--MD5=[918c6582d18bd83753cffaef278e3495]\n",
       "@startuml\r\n",
       "skinparam linetype polyline\r\n",
       "skinparam monochrome true\r\n",
       "skinparam classbackgroundcolor white\r\n",
       "skinparam shadowing false\r\n",
       "skinparam wrapWidth 300\r\n",
       "hide circle\r\n",
       "\r\n",
       "package \"MultiplicityTest\" as E1  [[psysml:0be6947d-aa66-4017-a009-04bc0f7b30c5 ]]  {\r\n",
       "comp def \"P\" as E2  <<(T,blue)part def>> [[psysml:9ab3d3ff-483c-4e41-ada7-ab2d8c979da0 ]] {\r\n",
       "}\r\n",
       "comp usage \"n: Integer\" as E3  <<(T,blue)attribute>> [[psysml:bb4f0587-9240-4f5c-8b68-755ceb30f0e1 ]] {\r\n",
       "}\r\n",
       "comp usage \"a\" as E4  <<(T,blue)part>> [[psysml:9d5a91ec-9b15-487c-8680-11258af91cb9 ]] {\r\n",
       "}\r\n",
       "comp usage \"b: P\" as E5  <<(T,blue)part>> [[psysml:0e6ddf84-4c23-42ff-8adf-60418e76591d ]] {\r\n",
       "}\r\n",
       "comp usage \"c: P\" as E6  <<(T,blue)part>> [[psysml:7a390bd1-339b-4feb-982b-b3a6ee4de727 ]] {\r\n",
       "}\r\n",
       "comp usage \"d\" as E7  <<(T,blue)part>> [[psysml:c41308c3-3ab4-4c95-8873-b6daf8742442 ]] {\r\n",
       "}\r\n",
       "comp usage \"e\" as E8  <<(T,blue)part>> [[psysml:4786ae2f-f4fb-4524-a996-e764bd48b2ea ]] {\r\n",
       "}\r\n",
       "comp usage \"f\" as E9  <<(T,blue)part>> [[psysml:f4778415-89ee-45ef-90f6-0fdee23f5f44 ]] {\r\n",
       "}\r\n",
       "comp usage \"g\" as E10  <<(T,blue)part>> [[psysml:54ce765f-cd4b-40e3-bd55-528058a48d88 ]] {\r\n",
       "}\r\n",
       "comp def \"A\" as E11  <<(T,blue)attribute def>> [[psysml:39471be4-e308-48bc-96c2-d92b434b60c0 ]] {\r\n",
       "- - attributes - -\r\n",
       "i: Integer\r\n",
       "x: A\r\n",
       "}\r\n",
       "E5 - -:|> E2 [[psysml:911f47bc-487d-4cbf-bcdd-94eeba00c89c ]] \r\n",
       "E6 - -:|> E2 [[psysml:5d978d49-3aad-49b2-9a30-3bd5979ae9aa ]] \r\n",
       "}\r\n",
       "@enduml\r\n",
       "\n",
       "PlantUML version 1.2020.13(Sat Jun 13 12:26:38 UTC 2020)\n",
       "(EPL source distribution)\n",
       "Java Runtime: OpenJDK Runtime Environment\n",
       "JVM: OpenJDK 64-Bit Server VM\n",
       "Default Encoding: UTF-8\n",
       "Language: en\n",
       "Country: null\n",
       "--></g></svg>"
      ]
     },
     "execution_count": 10,
     "metadata": {},
     "output_type": "execute_result"
    }
   ],
   "source": [
    "%viz --style=\"POLYLINE\" --view=\"Tree\" \"MultiplicityTest\""
   ]
  },
  {
   "cell_type": "code",
   "execution_count": 11,
   "id": "6b77dfee",
   "metadata": {
    "execution": {
     "iopub.execute_input": "2021-04-21T20:26:42.122244Z",
     "iopub.status.busy": "2021-04-21T20:26:42.121524Z",
     "iopub.status.idle": "2021-04-21T20:26:42.128701Z",
     "shell.execute_reply": "2021-04-21T20:26:42.128368Z"
    }
   },
   "outputs": [
    {
     "data": {
      "image/svg+xml": [
       "<?xml version=\"1.0\" encoding=\"UTF-8\" standalone=\"no\"?><svg xmlns=\"http://www.w3.org/2000/svg\" xmlns:xlink=\"http://www.w3.org/1999/xlink\" contentScriptType=\"application/ecmascript\" contentStyleType=\"text/css\" height=\"12px\" preserveAspectRatio=\"none\" style=\"width:12px;height:12px;\" version=\"1.1\" viewBox=\"0 0 12 12\" width=\"12px\" zoomAndPan=\"magnify\"><defs/><g><!--MD5=[896ac0e7a515d8dd7765a661cb4ee08b]\n",
       "@startuml\r\n",
       "skinparam linetype polyline\r\n",
       "skinparam monochrome true\r\n",
       "skinparam classbackgroundcolor white\r\n",
       "skinparam shadowing false\r\n",
       "skinparam wrapWidth 300\r\n",
       "hide circle\r\n",
       "\r\n",
       "@enduml\r\n",
       "\n",
       "PlantUML version 1.2020.13(Sat Jun 13 12:26:38 UTC 2020)\n",
       "(EPL source distribution)\n",
       "Java Runtime: OpenJDK Runtime Environment\n",
       "JVM: OpenJDK 64-Bit Server VM\n",
       "Default Encoding: UTF-8\n",
       "Language: en\n",
       "Country: null\n",
       "--></g></svg>"
      ]
     },
     "execution_count": 11,
     "metadata": {},
     "output_type": "execute_result"
    }
   ],
   "source": [
    "%viz --style=\"POLYLINE\" --view=\"State\" \"MultiplicityTest\""
   ]
  },
  {
   "cell_type": "code",
   "execution_count": 12,
   "id": "f9ab7d66",
   "metadata": {
    "execution": {
     "iopub.execute_input": "2021-04-21T20:26:42.180669Z",
     "iopub.status.busy": "2021-04-21T20:26:42.180045Z",
     "iopub.status.idle": "2021-04-21T20:26:42.216693Z",
     "shell.execute_reply": "2021-04-21T20:26:42.214803Z"
    }
   },
   "outputs": [
    {
     "data": {
      "image/svg+xml": [
       "<?xml version=\"1.0\" encoding=\"UTF-8\" standalone=\"no\"?><svg xmlns=\"http://www.w3.org/2000/svg\" xmlns:xlink=\"http://www.w3.org/1999/xlink\" contentScriptType=\"application/ecmascript\" contentStyleType=\"text/css\" height=\"115px\" preserveAspectRatio=\"none\" style=\"width:979px;height:115px;\" version=\"1.1\" viewBox=\"0 0 979 115\" width=\"979px\" zoomAndPan=\"magnify\"><defs/><g><!--MD5=[fbc87193dbaf4d95561dea2c320d4a47]\n",
       "cluster E1--><a href=\"psysml:0be6947d-aa66-4017-a009-04bc0f7b30c5\" target=\"_top\" title=\"psysml:0be6947d-aa66-4017-a009-04bc0f7b30c5\" xlink:actuate=\"onRequest\" xlink:href=\"psysml:0be6947d-aa66-4017-a009-04bc0f7b30c5\" xlink:show=\"new\" xlink:title=\"psysml:0be6947d-aa66-4017-a009-04bc0f7b30c5\" xlink:type=\"simple\"><polygon fill=\"#FFFFFF\" points=\"16,6,140,6,147,28.2969,957,28.2969,957,103,16,103,16,6\" style=\"stroke: #000000; stroke-width: 1.5;\"/><line style=\"stroke: #000000; stroke-width: 1.5;\" x1=\"16\" x2=\"147\" y1=\"28.2969\" y2=\"28.2969\"/><text fill=\"#000000\" font-family=\"sans-serif\" font-size=\"14\" font-weight=\"bold\" lengthAdjust=\"spacingAndGlyphs\" textLength=\"118\" x=\"20\" y=\"20.9951\">MultiplicityTest</text></a><!--MD5=[09b614a08d8cba4a07c9adeb5e0fee81]\n",
       "class E3--><a href=\"psysml:bb4f0587-9240-4f5c-8b68-755ceb30f0e1\" target=\"_top\" title=\"psysml:bb4f0587-9240-4f5c-8b68-755ceb30f0e1\" xlink:actuate=\"onRequest\" xlink:href=\"psysml:bb4f0587-9240-4f5c-8b68-755ceb30f0e1\" xlink:show=\"new\" xlink:title=\"psysml:bb4f0587-9240-4f5c-8b68-755ceb30f0e1\" xlink:type=\"simple\"><rect fill=\"#FFFFFF\" height=\"45.9375\" id=\"E3\" rx=\"10\" ry=\"10\" style=\"stroke: #383838; stroke-width: 1.5;\" width=\"71\" x=\"869.5\" y=\"41\"/><text fill=\"#000000\" font-family=\"sans-serif\" font-size=\"12\" font-style=\"italic\" lengthAdjust=\"spacingAndGlyphs\" textLength=\"69\" x=\"870.5\" y=\"57.1387\">«attribute»</text><text fill=\"#000000\" font-family=\"sans-serif\" font-size=\"12\" lengthAdjust=\"spacingAndGlyphs\" textLength=\"61\" x=\"874.5\" y=\"71.1074\">n: Integer</text><line style=\"stroke: #383838; stroke-width: 1.5;\" x1=\"870.5\" x2=\"939.5\" y1=\"78.9375\" y2=\"78.9375\"/></a><g id=\"E1.E11\"><a href=\"psysml:39471be4-e308-48bc-96c2-d92b434b60c0\" target=\"_top\" title=\"psysml:39471be4-e308-48bc-96c2-d92b434b60c0\" xlink:actuate=\"onRequest\" xlink:href=\"psysml:39471be4-e308-48bc-96c2-d92b434b60c0\" xlink:show=\"new\" xlink:title=\"psysml:39471be4-e308-48bc-96c2-d92b434b60c0\" xlink:type=\"simple\"><rect fill=\"#FFFFFF\" height=\"42.9375\" id=\"E11\" style=\"stroke: #383838; stroke-width: 1.5;\" width=\"100\" x=\"734\" y=\"42.5\"/><rect fill=\"#F8F8F8\" height=\"37.9375\" style=\"stroke: #383838; stroke-width: 1.5;\" width=\"100\" x=\"734\" y=\"42.5\"/><text fill=\"#000000\" font-family=\"sans-serif\" font-size=\"12\" font-style=\"italic\" lengthAdjust=\"spacingAndGlyphs\" textLength=\"93\" x=\"737.5\" y=\"58.6387\">«attribute def»</text><text fill=\"#000000\" font-family=\"sans-serif\" font-size=\"12\" lengthAdjust=\"spacingAndGlyphs\" textLength=\"8\" x=\"780\" y=\"72.6074\">A</text></a></g><g id=\"E1.E2\"><a href=\"psysml:9ab3d3ff-483c-4e41-ada7-ab2d8c979da0\" target=\"_top\" title=\"psysml:9ab3d3ff-483c-4e41-ada7-ab2d8c979da0\" xlink:actuate=\"onRequest\" xlink:href=\"psysml:9ab3d3ff-483c-4e41-ada7-ab2d8c979da0\" xlink:show=\"new\" xlink:title=\"psysml:9ab3d3ff-483c-4e41-ada7-ab2d8c979da0\" xlink:type=\"simple\"><rect fill=\"#FFFFFF\" height=\"42.9375\" id=\"E2\" style=\"stroke: #383838; stroke-width: 1.5;\" width=\"71\" x=\"627.5\" y=\"42.5\"/><rect fill=\"#F8F8F8\" height=\"37.9375\" style=\"stroke: #383838; stroke-width: 1.5;\" width=\"71\" x=\"627.5\" y=\"42.5\"/><text fill=\"#000000\" font-family=\"sans-serif\" font-size=\"12\" font-style=\"italic\" lengthAdjust=\"spacingAndGlyphs\" textLength=\"64\" x=\"631\" y=\"58.6387\">«part def»</text><text fill=\"#000000\" font-family=\"sans-serif\" font-size=\"12\" lengthAdjust=\"spacingAndGlyphs\" textLength=\"8\" x=\"659\" y=\"72.6074\">P</text></a></g><g id=\"E1.E4\"><a href=\"psysml:9d5a91ec-9b15-487c-8680-11258af91cb9\" target=\"_top\" title=\"psysml:9d5a91ec-9b15-487c-8680-11258af91cb9\" xlink:actuate=\"onRequest\" xlink:href=\"psysml:9d5a91ec-9b15-487c-8680-11258af91cb9\" xlink:show=\"new\" xlink:title=\"psysml:9d5a91ec-9b15-487c-8680-11258af91cb9\" xlink:type=\"simple\"><rect fill=\"#FFFFFF\" height=\"40\" id=\"E4\" rx=\"10\" ry=\"10\" style=\"stroke: #383838; stroke-width: 1.5;\" width=\"50\" x=\"542\" y=\"44\"/><rect fill=\"#F8F8F8\" height=\"23.9688\" rx=\"10\" ry=\"10\" style=\"stroke: #F8F8F8; stroke-width: 1.5;\" width=\"50\" x=\"542\" y=\"44\"/><rect fill=\"#F8F8F8\" height=\"10\" style=\"stroke: #F8F8F8; stroke-width: 1.5;\" width=\"50\" x=\"542\" y=\"57.9688\"/><rect fill=\"none\" height=\"40\" id=\"E4\" rx=\"10\" ry=\"10\" style=\"stroke: #383838; stroke-width: 1.5;\" width=\"50\" x=\"542\" y=\"44\"/><text fill=\"#000000\" font-family=\"sans-serif\" font-size=\"12\" lengthAdjust=\"spacingAndGlyphs\" textLength=\"8\" x=\"563\" y=\"60.1387\">a</text></a></g><g id=\"E1.E5\"><a href=\"psysml:0e6ddf84-4c23-42ff-8adf-60418e76591d\" target=\"_top\" title=\"psysml:0e6ddf84-4c23-42ff-8adf-60418e76591d\" xlink:actuate=\"onRequest\" xlink:href=\"psysml:0e6ddf84-4c23-42ff-8adf-60418e76591d\" xlink:show=\"new\" xlink:title=\"psysml:0e6ddf84-4c23-42ff-8adf-60418e76591d\" xlink:type=\"simple\"><rect fill=\"#FFFFFF\" height=\"40\" id=\"E5\" rx=\"10\" ry=\"10\" style=\"stroke: #383838; stroke-width: 1.5;\" width=\"50\" x=\"457\" y=\"44\"/><rect fill=\"#F8F8F8\" height=\"23.9688\" rx=\"10\" ry=\"10\" style=\"stroke: #F8F8F8; stroke-width: 1.5;\" width=\"50\" x=\"457\" y=\"44\"/><rect fill=\"#F8F8F8\" height=\"10\" style=\"stroke: #F8F8F8; stroke-width: 1.5;\" width=\"50\" x=\"457\" y=\"57.9688\"/><rect fill=\"none\" height=\"40\" id=\"E5\" rx=\"10\" ry=\"10\" style=\"stroke: #383838; stroke-width: 1.5;\" width=\"50\" x=\"457\" y=\"44\"/><text fill=\"#000000\" font-family=\"sans-serif\" font-size=\"12\" lengthAdjust=\"spacingAndGlyphs\" textLength=\"24\" x=\"470\" y=\"60.1387\">b: P</text></a></g><g id=\"E1.E6\"><a href=\"psysml:7a390bd1-339b-4feb-982b-b3a6ee4de727\" target=\"_top\" title=\"psysml:7a390bd1-339b-4feb-982b-b3a6ee4de727\" xlink:actuate=\"onRequest\" xlink:href=\"psysml:7a390bd1-339b-4feb-982b-b3a6ee4de727\" xlink:show=\"new\" xlink:title=\"psysml:7a390bd1-339b-4feb-982b-b3a6ee4de727\" xlink:type=\"simple\"><rect fill=\"#FFFFFF\" height=\"40\" id=\"E6\" rx=\"10\" ry=\"10\" style=\"stroke: #383838; stroke-width: 1.5;\" width=\"50\" x=\"372\" y=\"44\"/><rect fill=\"#F8F8F8\" height=\"23.9688\" rx=\"10\" ry=\"10\" style=\"stroke: #F8F8F8; stroke-width: 1.5;\" width=\"50\" x=\"372\" y=\"44\"/><rect fill=\"#F8F8F8\" height=\"10\" style=\"stroke: #F8F8F8; stroke-width: 1.5;\" width=\"50\" x=\"372\" y=\"57.9688\"/><rect fill=\"none\" height=\"40\" id=\"E6\" rx=\"10\" ry=\"10\" style=\"stroke: #383838; stroke-width: 1.5;\" width=\"50\" x=\"372\" y=\"44\"/><text fill=\"#000000\" font-family=\"sans-serif\" font-size=\"12\" lengthAdjust=\"spacingAndGlyphs\" textLength=\"23\" x=\"385.5\" y=\"60.1387\">c: P</text></a></g><g id=\"E1.E7\"><a href=\"psysml:c41308c3-3ab4-4c95-8873-b6daf8742442\" target=\"_top\" title=\"psysml:c41308c3-3ab4-4c95-8873-b6daf8742442\" xlink:actuate=\"onRequest\" xlink:href=\"psysml:c41308c3-3ab4-4c95-8873-b6daf8742442\" xlink:show=\"new\" xlink:title=\"psysml:c41308c3-3ab4-4c95-8873-b6daf8742442\" xlink:type=\"simple\"><rect fill=\"#FFFFFF\" height=\"40\" id=\"E7\" rx=\"10\" ry=\"10\" style=\"stroke: #383838; stroke-width: 1.5;\" width=\"50\" x=\"287\" y=\"44\"/><rect fill=\"#F8F8F8\" height=\"23.9688\" rx=\"10\" ry=\"10\" style=\"stroke: #F8F8F8; stroke-width: 1.5;\" width=\"50\" x=\"287\" y=\"44\"/><rect fill=\"#F8F8F8\" height=\"10\" style=\"stroke: #F8F8F8; stroke-width: 1.5;\" width=\"50\" x=\"287\" y=\"57.9688\"/><rect fill=\"none\" height=\"40\" id=\"E7\" rx=\"10\" ry=\"10\" style=\"stroke: #383838; stroke-width: 1.5;\" width=\"50\" x=\"287\" y=\"44\"/><text fill=\"#000000\" font-family=\"sans-serif\" font-size=\"12\" lengthAdjust=\"spacingAndGlyphs\" textLength=\"8\" x=\"308\" y=\"60.1387\">d</text></a></g><g id=\"E1.E8\"><a href=\"psysml:4786ae2f-f4fb-4524-a996-e764bd48b2ea\" target=\"_top\" title=\"psysml:4786ae2f-f4fb-4524-a996-e764bd48b2ea\" xlink:actuate=\"onRequest\" xlink:href=\"psysml:4786ae2f-f4fb-4524-a996-e764bd48b2ea\" xlink:show=\"new\" xlink:title=\"psysml:4786ae2f-f4fb-4524-a996-e764bd48b2ea\" xlink:type=\"simple\"><rect fill=\"#FFFFFF\" height=\"40\" id=\"E8\" rx=\"10\" ry=\"10\" style=\"stroke: #383838; stroke-width: 1.5;\" width=\"50\" x=\"202\" y=\"44\"/><rect fill=\"#F8F8F8\" height=\"23.9688\" rx=\"10\" ry=\"10\" style=\"stroke: #F8F8F8; stroke-width: 1.5;\" width=\"50\" x=\"202\" y=\"44\"/><rect fill=\"#F8F8F8\" height=\"10\" style=\"stroke: #F8F8F8; stroke-width: 1.5;\" width=\"50\" x=\"202\" y=\"57.9688\"/><rect fill=\"none\" height=\"40\" id=\"E8\" rx=\"10\" ry=\"10\" style=\"stroke: #383838; stroke-width: 1.5;\" width=\"50\" x=\"202\" y=\"44\"/><text fill=\"#000000\" font-family=\"sans-serif\" font-size=\"12\" lengthAdjust=\"spacingAndGlyphs\" textLength=\"8\" x=\"223\" y=\"60.1387\">e</text></a></g><g id=\"E1.E9\"><a href=\"psysml:f4778415-89ee-45ef-90f6-0fdee23f5f44\" target=\"_top\" title=\"psysml:f4778415-89ee-45ef-90f6-0fdee23f5f44\" xlink:actuate=\"onRequest\" xlink:href=\"psysml:f4778415-89ee-45ef-90f6-0fdee23f5f44\" xlink:show=\"new\" xlink:title=\"psysml:f4778415-89ee-45ef-90f6-0fdee23f5f44\" xlink:type=\"simple\"><rect fill=\"#FFFFFF\" height=\"40\" id=\"E9\" rx=\"10\" ry=\"10\" style=\"stroke: #383838; stroke-width: 1.5;\" width=\"50\" x=\"117\" y=\"44\"/><rect fill=\"#F8F8F8\" height=\"23.9688\" rx=\"10\" ry=\"10\" style=\"stroke: #F8F8F8; stroke-width: 1.5;\" width=\"50\" x=\"117\" y=\"44\"/><rect fill=\"#F8F8F8\" height=\"10\" style=\"stroke: #F8F8F8; stroke-width: 1.5;\" width=\"50\" x=\"117\" y=\"57.9688\"/><rect fill=\"none\" height=\"40\" id=\"E9\" rx=\"10\" ry=\"10\" style=\"stroke: #383838; stroke-width: 1.5;\" width=\"50\" x=\"117\" y=\"44\"/><text fill=\"#000000\" font-family=\"sans-serif\" font-size=\"12\" lengthAdjust=\"spacingAndGlyphs\" textLength=\"4\" x=\"140\" y=\"60.1387\">f</text></a></g><g id=\"E1.E10\"><a href=\"psysml:54ce765f-cd4b-40e3-bd55-528058a48d88\" target=\"_top\" title=\"psysml:54ce765f-cd4b-40e3-bd55-528058a48d88\" xlink:actuate=\"onRequest\" xlink:href=\"psysml:54ce765f-cd4b-40e3-bd55-528058a48d88\" xlink:show=\"new\" xlink:title=\"psysml:54ce765f-cd4b-40e3-bd55-528058a48d88\" xlink:type=\"simple\"><rect fill=\"#FFFFFF\" height=\"40\" id=\"E10\" rx=\"10\" ry=\"10\" style=\"stroke: #383838; stroke-width: 1.5;\" width=\"50\" x=\"32\" y=\"44\"/><rect fill=\"#F8F8F8\" height=\"23.9688\" rx=\"10\" ry=\"10\" style=\"stroke: #F8F8F8; stroke-width: 1.5;\" width=\"50\" x=\"32\" y=\"44\"/><rect fill=\"#F8F8F8\" height=\"10\" style=\"stroke: #F8F8F8; stroke-width: 1.5;\" width=\"50\" x=\"32\" y=\"57.9688\"/><rect fill=\"none\" height=\"40\" id=\"E10\" rx=\"10\" ry=\"10\" style=\"stroke: #383838; stroke-width: 1.5;\" width=\"50\" x=\"32\" y=\"44\"/><text fill=\"#000000\" font-family=\"sans-serif\" font-size=\"12\" lengthAdjust=\"spacingAndGlyphs\" textLength=\"8\" x=\"53\" y=\"60.1387\">g</text></a></g><!--MD5=[78ae3bbb586ad224cd61c62c0d16885a]\n",
       "@startuml\r\n",
       "skinparam ranksep 10\r\n",
       "skinparam rectangle {\r\n",
       " backgroundColor<<block>> LightGreen\r\n",
       "}\r\n",
       "skinparam linetype polyline\r\n",
       "skinparam monochrome true\r\n",
       "skinparam classbackgroundcolor white\r\n",
       "skinparam shadowing false\r\n",
       "skinparam wrapWidth 300\r\n",
       "hide circle\r\n",
       "\r\n",
       "package \"MultiplicityTest\" as E1  [[psysml:0be6947d-aa66-4017-a009-04bc0f7b30c5 ]]  {\r\n",
       "rec def \"P\" as E2  <<(T,blue)part def>> [[psysml:9ab3d3ff-483c-4e41-ada7-ab2d8c979da0 ]] {\r\n",
       "}\r\n",
       "comp usage \"n: Integer\" as E3  <<(T,blue)attribute>> [[psysml:bb4f0587-9240-4f5c-8b68-755ceb30f0e1 ]] {\r\n",
       "}\r\n",
       "rec usage \"a\" as E4  [[psysml:9d5a91ec-9b15-487c-8680-11258af91cb9 ]] {\r\n",
       "}\r\n",
       "rec usage \"b: P\" as E5  [[psysml:0e6ddf84-4c23-42ff-8adf-60418e76591d ]] {\r\n",
       "}\r\n",
       "rec usage \"c: P\" as E6  [[psysml:7a390bd1-339b-4feb-982b-b3a6ee4de727 ]] {\r\n",
       "}\r\n",
       "rec usage \"d\" as E7  [[psysml:c41308c3-3ab4-4c95-8873-b6daf8742442 ]] {\r\n",
       "}\r\n",
       "rec usage \"e\" as E8  [[psysml:4786ae2f-f4fb-4524-a996-e764bd48b2ea ]] {\r\n",
       "}\r\n",
       "rec usage \"f\" as E9  [[psysml:f4778415-89ee-45ef-90f6-0fdee23f5f44 ]] {\r\n",
       "}\r\n",
       "rec usage \"g\" as E10  [[psysml:54ce765f-cd4b-40e3-bd55-528058a48d88 ]] {\r\n",
       "}\r\n",
       "def \"A\" as E11  <<(T,blue)attribute def>> [[psysml:39471be4-e308-48bc-96c2-d92b434b60c0 ]] \r\n",
       "}\r\n",
       "@enduml\r\n",
       "\n",
       "PlantUML version 1.2020.13(Sat Jun 13 12:26:38 UTC 2020)\n",
       "(EPL source distribution)\n",
       "Java Runtime: OpenJDK Runtime Environment\n",
       "JVM: OpenJDK 64-Bit Server VM\n",
       "Default Encoding: UTF-8\n",
       "Language: en\n",
       "Country: null\n",
       "--></g></svg>"
      ]
     },
     "execution_count": 12,
     "metadata": {},
     "output_type": "execute_result"
    }
   ],
   "source": [
    "%viz --style=\"POLYLINE\" --view=\"Interconnection\" \"MultiplicityTest\""
   ]
  },
  {
   "cell_type": "code",
   "execution_count": 13,
   "id": "153deb8a",
   "metadata": {
    "execution": {
     "iopub.execute_input": "2021-04-21T20:26:42.267008Z",
     "iopub.status.busy": "2021-04-21T20:26:42.266479Z",
     "iopub.status.idle": "2021-04-21T20:26:42.274169Z",
     "shell.execute_reply": "2021-04-21T20:26:42.273474Z"
    }
   },
   "outputs": [
    {
     "data": {
      "image/svg+xml": [
       "<?xml version=\"1.0\" encoding=\"UTF-8\" standalone=\"no\"?><svg xmlns=\"http://www.w3.org/2000/svg\" xmlns:xlink=\"http://www.w3.org/1999/xlink\" contentScriptType=\"application/ecmascript\" contentStyleType=\"text/css\" height=\"12px\" preserveAspectRatio=\"none\" style=\"width:12px;height:12px;\" version=\"1.1\" viewBox=\"0 0 12 12\" width=\"12px\" zoomAndPan=\"magnify\"><defs/><g><!--MD5=[97bbf32f66ccd50cbc40d92ea8f5a65e]\n",
       "@startuml\r\n",
       "skinparam ranksep 8\r\n",
       "skinparam linetype polyline\r\n",
       "skinparam monochrome true\r\n",
       "skinparam classbackgroundcolor white\r\n",
       "skinparam shadowing false\r\n",
       "skinparam wrapWidth 300\r\n",
       "hide circle\r\n",
       "\r\n",
       "@enduml\r\n",
       "\n",
       "PlantUML version 1.2020.13(Sat Jun 13 12:26:38 UTC 2020)\n",
       "(EPL source distribution)\n",
       "Java Runtime: OpenJDK Runtime Environment\n",
       "JVM: OpenJDK 64-Bit Server VM\n",
       "Default Encoding: UTF-8\n",
       "Language: en\n",
       "Country: null\n",
       "--></g></svg>"
      ]
     },
     "execution_count": 13,
     "metadata": {},
     "output_type": "execute_result"
    }
   ],
   "source": [
    "%viz --style=\"POLYLINE\" --view=\"Action\" \"MultiplicityTest\""
   ]
  },
  {
   "cell_type": "code",
   "execution_count": 14,
   "id": "bb23b19d",
   "metadata": {
    "execution": {
     "iopub.execute_input": "2021-04-21T20:26:42.325265Z",
     "iopub.status.busy": "2021-04-21T20:26:42.324797Z",
     "iopub.status.idle": "2021-04-21T20:26:42.388007Z",
     "shell.execute_reply": "2021-04-21T20:26:42.387201Z"
    }
   },
   "outputs": [
    {
     "data": {
      "image/svg+xml": [
       "<?xml version=\"1.0\" encoding=\"UTF-8\" standalone=\"no\"?><svg xmlns=\"http://www.w3.org/2000/svg\" xmlns:xlink=\"http://www.w3.org/1999/xlink\" contentScriptType=\"application/ecmascript\" contentStyleType=\"text/css\" height=\"263px\" preserveAspectRatio=\"none\" style=\"width:812px;height:263px;\" version=\"1.1\" viewBox=\"0 0 812 263\" width=\"812px\" zoomAndPan=\"magnify\"><defs/><g><!--MD5=[fbc87193dbaf4d95561dea2c320d4a47]\n",
       "cluster E1--><a href=\"psysml:0be6947d-aa66-4017-a009-04bc0f7b30c5\" target=\"_top\" title=\"psysml:0be6947d-aa66-4017-a009-04bc0f7b30c5\" xlink:actuate=\"onRequest\" xlink:href=\"psysml:0be6947d-aa66-4017-a009-04bc0f7b30c5\" xlink:show=\"new\" xlink:title=\"psysml:0be6947d-aa66-4017-a009-04bc0f7b30c5\" xlink:type=\"simple\"><polygon fill=\"#FFFFFF\" points=\"16,6,140,6,147,28.2969,790,28.2969,790,251,16,251,16,6\" style=\"stroke: #000000; stroke-width: 1.5;\"/><line style=\"stroke: #000000; stroke-width: 1.5;\" x1=\"16\" x2=\"147\" y1=\"28.2969\" y2=\"28.2969\"/><text fill=\"#000000\" font-family=\"sans-serif\" font-size=\"14\" font-weight=\"bold\" lengthAdjust=\"spacingAndGlyphs\" textLength=\"118\" x=\"20\" y=\"20.9951\">MultiplicityTest</text></a><!--MD5=[b4997ac47864f28c2f74865a473b2911]\n",
       "class E2--><a href=\"psysml:9ab3d3ff-483c-4e41-ada7-ab2d8c979da0\" target=\"_top\" title=\"psysml:9ab3d3ff-483c-4e41-ada7-ab2d8c979da0\" xlink:actuate=\"onRequest\" xlink:href=\"psysml:9ab3d3ff-483c-4e41-ada7-ab2d8c979da0\" xlink:show=\"new\" xlink:title=\"psysml:9ab3d3ff-483c-4e41-ada7-ab2d8c979da0\" xlink:type=\"simple\"><rect fill=\"#FFFFFF\" height=\"45.9375\" id=\"E2\" style=\"stroke: #383838; stroke-width: 1.5;\" width=\"66\" x=\"497\" y=\"189\"/><text fill=\"#000000\" font-family=\"sans-serif\" font-size=\"12\" font-style=\"italic\" lengthAdjust=\"spacingAndGlyphs\" textLength=\"64\" x=\"498\" y=\"205.1387\">«part def»</text><text fill=\"#000000\" font-family=\"sans-serif\" font-size=\"12\" lengthAdjust=\"spacingAndGlyphs\" textLength=\"8\" x=\"526\" y=\"219.1074\">P</text><line style=\"stroke: #383838; stroke-width: 1.5;\" x1=\"498\" x2=\"562\" y1=\"226.9375\" y2=\"226.9375\"/></a><!--MD5=[09b614a08d8cba4a07c9adeb5e0fee81]\n",
       "class E3--><a href=\"psysml:bb4f0587-9240-4f5c-8b68-755ceb30f0e1\" target=\"_top\" title=\"psysml:bb4f0587-9240-4f5c-8b68-755ceb30f0e1\" xlink:actuate=\"onRequest\" xlink:href=\"psysml:bb4f0587-9240-4f5c-8b68-755ceb30f0e1\" xlink:show=\"new\" xlink:title=\"psysml:bb4f0587-9240-4f5c-8b68-755ceb30f0e1\" xlink:type=\"simple\"><rect fill=\"#FFFFFF\" height=\"45.9375\" id=\"E3\" rx=\"10\" ry=\"10\" style=\"stroke: #383838; stroke-width: 1.5;\" width=\"71\" x=\"702.5\" y=\"62\"/><text fill=\"#000000\" font-family=\"sans-serif\" font-size=\"12\" font-style=\"italic\" lengthAdjust=\"spacingAndGlyphs\" textLength=\"69\" x=\"703.5\" y=\"78.1387\">«attribute»</text><text fill=\"#000000\" font-family=\"sans-serif\" font-size=\"12\" lengthAdjust=\"spacingAndGlyphs\" textLength=\"61\" x=\"707.5\" y=\"92.1074\">n: Integer</text><line style=\"stroke: #383838; stroke-width: 1.5;\" x1=\"703.5\" x2=\"772.5\" y1=\"99.9375\" y2=\"99.9375\"/></a><!--MD5=[ebbe1d658d1005bcc118a6aa81145e00]\n",
       "class E4--><a href=\"psysml:9d5a91ec-9b15-487c-8680-11258af91cb9\" target=\"_top\" title=\"psysml:9d5a91ec-9b15-487c-8680-11258af91cb9\" xlink:actuate=\"onRequest\" xlink:href=\"psysml:9d5a91ec-9b15-487c-8680-11258af91cb9\" xlink:show=\"new\" xlink:title=\"psysml:9d5a91ec-9b15-487c-8680-11258af91cb9\" xlink:type=\"simple\"><rect fill=\"#FFFFFF\" height=\"45.9375\" id=\"E4\" rx=\"10\" ry=\"10\" style=\"stroke: #383838; stroke-width: 1.5;\" width=\"42\" x=\"625\" y=\"62\"/><text fill=\"#000000\" font-family=\"sans-serif\" font-size=\"12\" font-style=\"italic\" lengthAdjust=\"spacingAndGlyphs\" textLength=\"40\" x=\"626\" y=\"78.1387\">«part»</text><text fill=\"#000000\" font-family=\"sans-serif\" font-size=\"12\" lengthAdjust=\"spacingAndGlyphs\" textLength=\"8\" x=\"642\" y=\"92.1074\">a</text><line style=\"stroke: #383838; stroke-width: 1.5;\" x1=\"626\" x2=\"666\" y1=\"99.9375\" y2=\"99.9375\"/></a><!--MD5=[270fce915f116d4de14055a7c1d9a0f3]\n",
       "class E5--><a href=\"psysml:0e6ddf84-4c23-42ff-8adf-60418e76591d\" target=\"_top\" title=\"psysml:0e6ddf84-4c23-42ff-8adf-60418e76591d\" xlink:actuate=\"onRequest\" xlink:href=\"psysml:0e6ddf84-4c23-42ff-8adf-60418e76591d\" xlink:show=\"new\" xlink:title=\"psysml:0e6ddf84-4c23-42ff-8adf-60418e76591d\" xlink:type=\"simple\"><rect fill=\"#FFFFFF\" height=\"45.9375\" id=\"E5\" rx=\"10\" ry=\"10\" style=\"stroke: #383838; stroke-width: 1.5;\" width=\"42\" x=\"548\" y=\"62\"/><text fill=\"#000000\" font-family=\"sans-serif\" font-size=\"12\" font-style=\"italic\" lengthAdjust=\"spacingAndGlyphs\" textLength=\"40\" x=\"549\" y=\"78.1387\">«part»</text><text fill=\"#000000\" font-family=\"sans-serif\" font-size=\"12\" lengthAdjust=\"spacingAndGlyphs\" textLength=\"24\" x=\"557\" y=\"92.1074\">b: P</text><line style=\"stroke: #383838; stroke-width: 1.5;\" x1=\"549\" x2=\"589\" y1=\"99.9375\" y2=\"99.9375\"/></a><!--MD5=[60a26617385b1d2d0262a64233df1f8d]\n",
       "class E6--><a href=\"psysml:7a390bd1-339b-4feb-982b-b3a6ee4de727\" target=\"_top\" title=\"psysml:7a390bd1-339b-4feb-982b-b3a6ee4de727\" xlink:actuate=\"onRequest\" xlink:href=\"psysml:7a390bd1-339b-4feb-982b-b3a6ee4de727\" xlink:show=\"new\" xlink:title=\"psysml:7a390bd1-339b-4feb-982b-b3a6ee4de727\" xlink:type=\"simple\"><rect fill=\"#FFFFFF\" height=\"45.9375\" id=\"E6\" rx=\"10\" ry=\"10\" style=\"stroke: #383838; stroke-width: 1.5;\" width=\"42\" x=\"471\" y=\"62\"/><text fill=\"#000000\" font-family=\"sans-serif\" font-size=\"12\" font-style=\"italic\" lengthAdjust=\"spacingAndGlyphs\" textLength=\"40\" x=\"472\" y=\"78.1387\">«part»</text><text fill=\"#000000\" font-family=\"sans-serif\" font-size=\"12\" lengthAdjust=\"spacingAndGlyphs\" textLength=\"23\" x=\"480.5\" y=\"92.1074\">c: P</text><line style=\"stroke: #383838; stroke-width: 1.5;\" x1=\"472\" x2=\"512\" y1=\"99.9375\" y2=\"99.9375\"/></a><!--MD5=[2156ba9850f5573cc1fc38a6a4b2f02b]\n",
       "class E7--><a href=\"psysml:c41308c3-3ab4-4c95-8873-b6daf8742442\" target=\"_top\" title=\"psysml:c41308c3-3ab4-4c95-8873-b6daf8742442\" xlink:actuate=\"onRequest\" xlink:href=\"psysml:c41308c3-3ab4-4c95-8873-b6daf8742442\" xlink:show=\"new\" xlink:title=\"psysml:c41308c3-3ab4-4c95-8873-b6daf8742442\" xlink:type=\"simple\"><rect fill=\"#FFFFFF\" height=\"45.9375\" id=\"E7\" rx=\"10\" ry=\"10\" style=\"stroke: #383838; stroke-width: 1.5;\" width=\"42\" x=\"394\" y=\"62\"/><text fill=\"#000000\" font-family=\"sans-serif\" font-size=\"12\" font-style=\"italic\" lengthAdjust=\"spacingAndGlyphs\" textLength=\"40\" x=\"395\" y=\"78.1387\">«part»</text><text fill=\"#000000\" font-family=\"sans-serif\" font-size=\"12\" lengthAdjust=\"spacingAndGlyphs\" textLength=\"8\" x=\"411\" y=\"92.1074\">d</text><line style=\"stroke: #383838; stroke-width: 1.5;\" x1=\"395\" x2=\"435\" y1=\"99.9375\" y2=\"99.9375\"/></a><!--MD5=[b9389687b975829384b498ac4b7476b2]\n",
       "class E8--><a href=\"psysml:4786ae2f-f4fb-4524-a996-e764bd48b2ea\" target=\"_top\" title=\"psysml:4786ae2f-f4fb-4524-a996-e764bd48b2ea\" xlink:actuate=\"onRequest\" xlink:href=\"psysml:4786ae2f-f4fb-4524-a996-e764bd48b2ea\" xlink:show=\"new\" xlink:title=\"psysml:4786ae2f-f4fb-4524-a996-e764bd48b2ea\" xlink:type=\"simple\"><rect fill=\"#FFFFFF\" height=\"45.9375\" id=\"E8\" rx=\"10\" ry=\"10\" style=\"stroke: #383838; stroke-width: 1.5;\" width=\"42\" x=\"317\" y=\"62\"/><text fill=\"#000000\" font-family=\"sans-serif\" font-size=\"12\" font-style=\"italic\" lengthAdjust=\"spacingAndGlyphs\" textLength=\"40\" x=\"318\" y=\"78.1387\">«part»</text><text fill=\"#000000\" font-family=\"sans-serif\" font-size=\"12\" lengthAdjust=\"spacingAndGlyphs\" textLength=\"8\" x=\"334\" y=\"92.1074\">e</text><line style=\"stroke: #383838; stroke-width: 1.5;\" x1=\"318\" x2=\"358\" y1=\"99.9375\" y2=\"99.9375\"/></a><!--MD5=[fd4143e9d270a159db93a4ea2a975926]\n",
       "class E9--><a href=\"psysml:f4778415-89ee-45ef-90f6-0fdee23f5f44\" target=\"_top\" title=\"psysml:f4778415-89ee-45ef-90f6-0fdee23f5f44\" xlink:actuate=\"onRequest\" xlink:href=\"psysml:f4778415-89ee-45ef-90f6-0fdee23f5f44\" xlink:show=\"new\" xlink:title=\"psysml:f4778415-89ee-45ef-90f6-0fdee23f5f44\" xlink:type=\"simple\"><rect fill=\"#FFFFFF\" height=\"45.9375\" id=\"E9\" rx=\"10\" ry=\"10\" style=\"stroke: #383838; stroke-width: 1.5;\" width=\"42\" x=\"240\" y=\"62\"/><text fill=\"#000000\" font-family=\"sans-serif\" font-size=\"12\" font-style=\"italic\" lengthAdjust=\"spacingAndGlyphs\" textLength=\"40\" x=\"241\" y=\"78.1387\">«part»</text><text fill=\"#000000\" font-family=\"sans-serif\" font-size=\"12\" lengthAdjust=\"spacingAndGlyphs\" textLength=\"4\" x=\"259\" y=\"92.1074\">f</text><line style=\"stroke: #383838; stroke-width: 1.5;\" x1=\"241\" x2=\"281\" y1=\"99.9375\" y2=\"99.9375\"/></a><!--MD5=[96f4274e9e20536e775497830990834d]\n",
       "class E10--><a href=\"psysml:54ce765f-cd4b-40e3-bd55-528058a48d88\" target=\"_top\" title=\"psysml:54ce765f-cd4b-40e3-bd55-528058a48d88\" xlink:actuate=\"onRequest\" xlink:href=\"psysml:54ce765f-cd4b-40e3-bd55-528058a48d88\" xlink:show=\"new\" xlink:title=\"psysml:54ce765f-cd4b-40e3-bd55-528058a48d88\" xlink:type=\"simple\"><rect fill=\"#FFFFFF\" height=\"45.9375\" id=\"E10\" rx=\"10\" ry=\"10\" style=\"stroke: #383838; stroke-width: 1.5;\" width=\"42\" x=\"163\" y=\"62\"/><text fill=\"#000000\" font-family=\"sans-serif\" font-size=\"12\" font-style=\"italic\" lengthAdjust=\"spacingAndGlyphs\" textLength=\"40\" x=\"164\" y=\"78.1387\">«part»</text><text fill=\"#000000\" font-family=\"sans-serif\" font-size=\"12\" lengthAdjust=\"spacingAndGlyphs\" textLength=\"8\" x=\"180\" y=\"92.1074\">g</text><line style=\"stroke: #383838; stroke-width: 1.5;\" x1=\"164\" x2=\"204\" y1=\"99.9375\" y2=\"99.9375\"/></a><!--MD5=[1dd1bfd58a279cf63c5f349dbc8fc6a1]\n",
       "class E11--><a href=\"psysml:39471be4-e308-48bc-96c2-d92b434b60c0\" target=\"_top\" title=\"psysml:39471be4-e308-48bc-96c2-d92b434b60c0\" xlink:actuate=\"onRequest\" xlink:href=\"psysml:39471be4-e308-48bc-96c2-d92b434b60c0\" xlink:show=\"new\" xlink:title=\"psysml:39471be4-e308-48bc-96c2-d92b434b60c0\" xlink:type=\"simple\"><rect fill=\"#FFFFFF\" height=\"88.3516\" id=\"E11\" style=\"stroke: #383838; stroke-width: 1.5;\" width=\"95\" x=\"32.5\" y=\"41\"/><text fill=\"#000000\" font-family=\"sans-serif\" font-size=\"12\" font-style=\"italic\" lengthAdjust=\"spacingAndGlyphs\" textLength=\"93\" x=\"33.5\" y=\"57.1387\">«attribute def»</text><text fill=\"#000000\" font-family=\"sans-serif\" font-size=\"12\" lengthAdjust=\"spacingAndGlyphs\" textLength=\"8\" x=\"76\" y=\"71.1074\">A</text><line style=\"stroke: #383838; stroke-width: 1.5;\" x1=\"33.5\" x2=\"126.5\" y1=\"78.9375\" y2=\"78.9375\"/><text fill=\"#000000\" font-family=\"sans-serif\" font-size=\"11\" lengthAdjust=\"spacingAndGlyphs\" textLength=\"51\" x=\"38.5\" y=\"109.9526\">i: Integer</text><text fill=\"#000000\" font-family=\"sans-serif\" font-size=\"11\" lengthAdjust=\"spacingAndGlyphs\" textLength=\"21\" x=\"38.5\" y=\"122.7573\">x: A</text><line style=\"stroke: #383838; stroke-width: 1.0;\" x1=\"33.5\" x2=\"52.5\" y1=\"93.3398\" y2=\"93.3398\"/><text fill=\"#000000\" font-family=\"sans-serif\" font-size=\"11\" lengthAdjust=\"spacingAndGlyphs\" textLength=\"55\" x=\"52.5\" y=\"96.6479\">attributes</text><line style=\"stroke: #383838; stroke-width: 1.0;\" x1=\"107.5\" x2=\"126.5\" y1=\"93.3398\" y2=\"93.3398\"/></a><!--MD5=[15ebcb19ae302d9b601edb458606d402]\n",
       "link E5 to E2--><a href=\"psysml:911f47bc-487d-4cbf-bcdd-94eeba00c89c\" target=\"_top\" title=\"psysml:911f47bc-487d-4cbf-bcdd-94eeba00c89c\" xlink:actuate=\"onRequest\" xlink:href=\"psysml:911f47bc-487d-4cbf-bcdd-94eeba00c89c\" xlink:show=\"new\" xlink:title=\"psysml:911f47bc-487d-4cbf-bcdd-94eeba00c89c\" xlink:type=\"simple\"><path d=\"M562.12,108.06 C556.83,125 549.38,148.89 542.98,169.39 \" fill=\"none\" id=\"E5-&gt;E2\" style=\"stroke: #383838; stroke-width: 1.0;\"/><polygon fill=\"#FFFFFF\" points=\"536.95,188.74,535.929,168.5173,549.2931,172.6886,536.95,188.74\" style=\"stroke: #383838; stroke-width: 1.0;\"/><ellipse cx=\"539.5364\" cy=\"163.6721\" fill=\"#383838\" rx=\"2\" ry=\"2\" style=\"stroke: #383838; stroke-width: 1.0;\"/><ellipse cx=\"549.0823\" cy=\"166.6516\" fill=\"#383838\" rx=\"2\" ry=\"2\" style=\"stroke: #383838; stroke-width: 1.0;\"/></a><!--MD5=[2351f337d6de0f557b50152ba70847b5]\n",
       "link E6 to E2--><a href=\"psysml:5d978d49-3aad-49b2-9a30-3bd5979ae9aa\" target=\"_top\" title=\"psysml:5d978d49-3aad-49b2-9a30-3bd5979ae9aa\" xlink:actuate=\"onRequest\" xlink:href=\"psysml:5d978d49-3aad-49b2-9a30-3bd5979ae9aa\" xlink:show=\"new\" xlink:title=\"psysml:5d978d49-3aad-49b2-9a30-3bd5979ae9aa\" xlink:type=\"simple\"><path d=\"M498.71,108.06 C503.86,125 511.12,148.89 517.35,169.39 \" fill=\"none\" id=\"E6-&gt;E2\" style=\"stroke: #383838; stroke-width: 1.0;\"/><polygon fill=\"#FFFFFF\" points=\"523.23,188.74,511.007,172.597,524.4019,168.5255,523.23,188.74\" style=\"stroke: #383838; stroke-width: 1.0;\"/><ellipse cx=\"511.2628\" cy=\"166.5617\" fill=\"#383838\" rx=\"2\" ry=\"2\" style=\"stroke: #383838; stroke-width: 1.0;\"/><ellipse cx=\"520.8306\" cy=\"163.6535\" fill=\"#383838\" rx=\"2\" ry=\"2\" style=\"stroke: #383838; stroke-width: 1.0;\"/></a><!--MD5=[918c6582d18bd83753cffaef278e3495]\n",
       "@startuml\r\n",
       "skinparam linetype polyline\r\n",
       "skinparam monochrome true\r\n",
       "skinparam classbackgroundcolor white\r\n",
       "skinparam shadowing false\r\n",
       "skinparam wrapWidth 300\r\n",
       "hide circle\r\n",
       "\r\n",
       "package \"MultiplicityTest\" as E1  [[psysml:0be6947d-aa66-4017-a009-04bc0f7b30c5 ]]  {\r\n",
       "comp def \"P\" as E2  <<(T,blue)part def>> [[psysml:9ab3d3ff-483c-4e41-ada7-ab2d8c979da0 ]] {\r\n",
       "}\r\n",
       "comp usage \"n: Integer\" as E3  <<(T,blue)attribute>> [[psysml:bb4f0587-9240-4f5c-8b68-755ceb30f0e1 ]] {\r\n",
       "}\r\n",
       "comp usage \"a\" as E4  <<(T,blue)part>> [[psysml:9d5a91ec-9b15-487c-8680-11258af91cb9 ]] {\r\n",
       "}\r\n",
       "comp usage \"b: P\" as E5  <<(T,blue)part>> [[psysml:0e6ddf84-4c23-42ff-8adf-60418e76591d ]] {\r\n",
       "}\r\n",
       "comp usage \"c: P\" as E6  <<(T,blue)part>> [[psysml:7a390bd1-339b-4feb-982b-b3a6ee4de727 ]] {\r\n",
       "}\r\n",
       "comp usage \"d\" as E7  <<(T,blue)part>> [[psysml:c41308c3-3ab4-4c95-8873-b6daf8742442 ]] {\r\n",
       "}\r\n",
       "comp usage \"e\" as E8  <<(T,blue)part>> [[psysml:4786ae2f-f4fb-4524-a996-e764bd48b2ea ]] {\r\n",
       "}\r\n",
       "comp usage \"f\" as E9  <<(T,blue)part>> [[psysml:f4778415-89ee-45ef-90f6-0fdee23f5f44 ]] {\r\n",
       "}\r\n",
       "comp usage \"g\" as E10  <<(T,blue)part>> [[psysml:54ce765f-cd4b-40e3-bd55-528058a48d88 ]] {\r\n",
       "}\r\n",
       "comp def \"A\" as E11  <<(T,blue)attribute def>> [[psysml:39471be4-e308-48bc-96c2-d92b434b60c0 ]] {\r\n",
       "- - attributes - -\r\n",
       "i: Integer\r\n",
       "x: A\r\n",
       "}\r\n",
       "E5 - -:|> E2 [[psysml:911f47bc-487d-4cbf-bcdd-94eeba00c89c ]] \r\n",
       "E6 - -:|> E2 [[psysml:5d978d49-3aad-49b2-9a30-3bd5979ae9aa ]] \r\n",
       "}\r\n",
       "@enduml\r\n",
       "\n",
       "PlantUML version 1.2020.13(Sat Jun 13 12:26:38 UTC 2020)\n",
       "(EPL source distribution)\n",
       "Java Runtime: OpenJDK Runtime Environment\n",
       "JVM: OpenJDK 64-Bit Server VM\n",
       "Default Encoding: UTF-8\n",
       "Language: en\n",
       "Country: null\n",
       "--></g></svg>"
      ]
     },
     "execution_count": 14,
     "metadata": {},
     "output_type": "execute_result"
    }
   ],
   "source": [
    "%viz --style=\"POLYLINE\" --view=\"Sequence\" \"MultiplicityTest\""
   ]
  },
  {
   "cell_type": "code",
   "execution_count": 15,
   "id": "2a5bc385",
   "metadata": {
    "execution": {
     "iopub.execute_input": "2021-04-21T20:26:42.439903Z",
     "iopub.status.busy": "2021-04-21T20:26:42.438811Z",
     "iopub.status.idle": "2021-04-21T20:26:42.501227Z",
     "shell.execute_reply": "2021-04-21T20:26:42.499753Z"
    }
   },
   "outputs": [
    {
     "data": {
      "image/svg+xml": [
       "<?xml version=\"1.0\" encoding=\"UTF-8\" standalone=\"no\"?><svg xmlns=\"http://www.w3.org/2000/svg\" xmlns:xlink=\"http://www.w3.org/1999/xlink\" contentScriptType=\"application/ecmascript\" contentStyleType=\"text/css\" height=\"263px\" preserveAspectRatio=\"none\" style=\"width:812px;height:263px;\" version=\"1.1\" viewBox=\"0 0 812 263\" width=\"812px\" zoomAndPan=\"magnify\"><defs/><g><!--MD5=[fbc87193dbaf4d95561dea2c320d4a47]\n",
       "cluster E1--><a href=\"psysml:0be6947d-aa66-4017-a009-04bc0f7b30c5\" target=\"_top\" title=\"psysml:0be6947d-aa66-4017-a009-04bc0f7b30c5\" xlink:actuate=\"onRequest\" xlink:href=\"psysml:0be6947d-aa66-4017-a009-04bc0f7b30c5\" xlink:show=\"new\" xlink:title=\"psysml:0be6947d-aa66-4017-a009-04bc0f7b30c5\" xlink:type=\"simple\"><polygon fill=\"#FFFFFF\" points=\"16,6,140,6,147,28.2969,790,28.2969,790,251,16,251,16,6\" style=\"stroke: #000000; stroke-width: 1.5;\"/><line style=\"stroke: #000000; stroke-width: 1.5;\" x1=\"16\" x2=\"147\" y1=\"28.2969\" y2=\"28.2969\"/><text fill=\"#000000\" font-family=\"sans-serif\" font-size=\"14\" font-weight=\"bold\" lengthAdjust=\"spacingAndGlyphs\" textLength=\"118\" x=\"20\" y=\"20.9951\">MultiplicityTest</text></a><!--MD5=[b4997ac47864f28c2f74865a473b2911]\n",
       "class E2--><a href=\"psysml:9ab3d3ff-483c-4e41-ada7-ab2d8c979da0\" target=\"_top\" title=\"psysml:9ab3d3ff-483c-4e41-ada7-ab2d8c979da0\" xlink:actuate=\"onRequest\" xlink:href=\"psysml:9ab3d3ff-483c-4e41-ada7-ab2d8c979da0\" xlink:show=\"new\" xlink:title=\"psysml:9ab3d3ff-483c-4e41-ada7-ab2d8c979da0\" xlink:type=\"simple\"><rect fill=\"#FFFFFF\" height=\"45.9375\" id=\"E2\" style=\"stroke: #383838; stroke-width: 1.5;\" width=\"66\" x=\"497\" y=\"189\"/><text fill=\"#000000\" font-family=\"sans-serif\" font-size=\"12\" font-style=\"italic\" lengthAdjust=\"spacingAndGlyphs\" textLength=\"64\" x=\"498\" y=\"205.1387\">«part def»</text><text fill=\"#000000\" font-family=\"sans-serif\" font-size=\"12\" lengthAdjust=\"spacingAndGlyphs\" textLength=\"8\" x=\"526\" y=\"219.1074\">P</text><line style=\"stroke: #383838; stroke-width: 1.5;\" x1=\"498\" x2=\"562\" y1=\"226.9375\" y2=\"226.9375\"/></a><!--MD5=[09b614a08d8cba4a07c9adeb5e0fee81]\n",
       "class E3--><a href=\"psysml:bb4f0587-9240-4f5c-8b68-755ceb30f0e1\" target=\"_top\" title=\"psysml:bb4f0587-9240-4f5c-8b68-755ceb30f0e1\" xlink:actuate=\"onRequest\" xlink:href=\"psysml:bb4f0587-9240-4f5c-8b68-755ceb30f0e1\" xlink:show=\"new\" xlink:title=\"psysml:bb4f0587-9240-4f5c-8b68-755ceb30f0e1\" xlink:type=\"simple\"><rect fill=\"#FFFFFF\" height=\"45.9375\" id=\"E3\" rx=\"10\" ry=\"10\" style=\"stroke: #383838; stroke-width: 1.5;\" width=\"71\" x=\"702.5\" y=\"62\"/><text fill=\"#000000\" font-family=\"sans-serif\" font-size=\"12\" font-style=\"italic\" lengthAdjust=\"spacingAndGlyphs\" textLength=\"69\" x=\"703.5\" y=\"78.1387\">«attribute»</text><text fill=\"#000000\" font-family=\"sans-serif\" font-size=\"12\" lengthAdjust=\"spacingAndGlyphs\" textLength=\"61\" x=\"707.5\" y=\"92.1074\">n: Integer</text><line style=\"stroke: #383838; stroke-width: 1.5;\" x1=\"703.5\" x2=\"772.5\" y1=\"99.9375\" y2=\"99.9375\"/></a><!--MD5=[ebbe1d658d1005bcc118a6aa81145e00]\n",
       "class E4--><a href=\"psysml:9d5a91ec-9b15-487c-8680-11258af91cb9\" target=\"_top\" title=\"psysml:9d5a91ec-9b15-487c-8680-11258af91cb9\" xlink:actuate=\"onRequest\" xlink:href=\"psysml:9d5a91ec-9b15-487c-8680-11258af91cb9\" xlink:show=\"new\" xlink:title=\"psysml:9d5a91ec-9b15-487c-8680-11258af91cb9\" xlink:type=\"simple\"><rect fill=\"#FFFFFF\" height=\"45.9375\" id=\"E4\" rx=\"10\" ry=\"10\" style=\"stroke: #383838; stroke-width: 1.5;\" width=\"42\" x=\"625\" y=\"62\"/><text fill=\"#000000\" font-family=\"sans-serif\" font-size=\"12\" font-style=\"italic\" lengthAdjust=\"spacingAndGlyphs\" textLength=\"40\" x=\"626\" y=\"78.1387\">«part»</text><text fill=\"#000000\" font-family=\"sans-serif\" font-size=\"12\" lengthAdjust=\"spacingAndGlyphs\" textLength=\"8\" x=\"642\" y=\"92.1074\">a</text><line style=\"stroke: #383838; stroke-width: 1.5;\" x1=\"626\" x2=\"666\" y1=\"99.9375\" y2=\"99.9375\"/></a><!--MD5=[270fce915f116d4de14055a7c1d9a0f3]\n",
       "class E5--><a href=\"psysml:0e6ddf84-4c23-42ff-8adf-60418e76591d\" target=\"_top\" title=\"psysml:0e6ddf84-4c23-42ff-8adf-60418e76591d\" xlink:actuate=\"onRequest\" xlink:href=\"psysml:0e6ddf84-4c23-42ff-8adf-60418e76591d\" xlink:show=\"new\" xlink:title=\"psysml:0e6ddf84-4c23-42ff-8adf-60418e76591d\" xlink:type=\"simple\"><rect fill=\"#FFFFFF\" height=\"45.9375\" id=\"E5\" rx=\"10\" ry=\"10\" style=\"stroke: #383838; stroke-width: 1.5;\" width=\"42\" x=\"548\" y=\"62\"/><text fill=\"#000000\" font-family=\"sans-serif\" font-size=\"12\" font-style=\"italic\" lengthAdjust=\"spacingAndGlyphs\" textLength=\"40\" x=\"549\" y=\"78.1387\">«part»</text><text fill=\"#000000\" font-family=\"sans-serif\" font-size=\"12\" lengthAdjust=\"spacingAndGlyphs\" textLength=\"24\" x=\"557\" y=\"92.1074\">b: P</text><line style=\"stroke: #383838; stroke-width: 1.5;\" x1=\"549\" x2=\"589\" y1=\"99.9375\" y2=\"99.9375\"/></a><!--MD5=[60a26617385b1d2d0262a64233df1f8d]\n",
       "class E6--><a href=\"psysml:7a390bd1-339b-4feb-982b-b3a6ee4de727\" target=\"_top\" title=\"psysml:7a390bd1-339b-4feb-982b-b3a6ee4de727\" xlink:actuate=\"onRequest\" xlink:href=\"psysml:7a390bd1-339b-4feb-982b-b3a6ee4de727\" xlink:show=\"new\" xlink:title=\"psysml:7a390bd1-339b-4feb-982b-b3a6ee4de727\" xlink:type=\"simple\"><rect fill=\"#FFFFFF\" height=\"45.9375\" id=\"E6\" rx=\"10\" ry=\"10\" style=\"stroke: #383838; stroke-width: 1.5;\" width=\"42\" x=\"471\" y=\"62\"/><text fill=\"#000000\" font-family=\"sans-serif\" font-size=\"12\" font-style=\"italic\" lengthAdjust=\"spacingAndGlyphs\" textLength=\"40\" x=\"472\" y=\"78.1387\">«part»</text><text fill=\"#000000\" font-family=\"sans-serif\" font-size=\"12\" lengthAdjust=\"spacingAndGlyphs\" textLength=\"23\" x=\"480.5\" y=\"92.1074\">c: P</text><line style=\"stroke: #383838; stroke-width: 1.5;\" x1=\"472\" x2=\"512\" y1=\"99.9375\" y2=\"99.9375\"/></a><!--MD5=[2156ba9850f5573cc1fc38a6a4b2f02b]\n",
       "class E7--><a href=\"psysml:c41308c3-3ab4-4c95-8873-b6daf8742442\" target=\"_top\" title=\"psysml:c41308c3-3ab4-4c95-8873-b6daf8742442\" xlink:actuate=\"onRequest\" xlink:href=\"psysml:c41308c3-3ab4-4c95-8873-b6daf8742442\" xlink:show=\"new\" xlink:title=\"psysml:c41308c3-3ab4-4c95-8873-b6daf8742442\" xlink:type=\"simple\"><rect fill=\"#FFFFFF\" height=\"45.9375\" id=\"E7\" rx=\"10\" ry=\"10\" style=\"stroke: #383838; stroke-width: 1.5;\" width=\"42\" x=\"394\" y=\"62\"/><text fill=\"#000000\" font-family=\"sans-serif\" font-size=\"12\" font-style=\"italic\" lengthAdjust=\"spacingAndGlyphs\" textLength=\"40\" x=\"395\" y=\"78.1387\">«part»</text><text fill=\"#000000\" font-family=\"sans-serif\" font-size=\"12\" lengthAdjust=\"spacingAndGlyphs\" textLength=\"8\" x=\"411\" y=\"92.1074\">d</text><line style=\"stroke: #383838; stroke-width: 1.5;\" x1=\"395\" x2=\"435\" y1=\"99.9375\" y2=\"99.9375\"/></a><!--MD5=[b9389687b975829384b498ac4b7476b2]\n",
       "class E8--><a href=\"psysml:4786ae2f-f4fb-4524-a996-e764bd48b2ea\" target=\"_top\" title=\"psysml:4786ae2f-f4fb-4524-a996-e764bd48b2ea\" xlink:actuate=\"onRequest\" xlink:href=\"psysml:4786ae2f-f4fb-4524-a996-e764bd48b2ea\" xlink:show=\"new\" xlink:title=\"psysml:4786ae2f-f4fb-4524-a996-e764bd48b2ea\" xlink:type=\"simple\"><rect fill=\"#FFFFFF\" height=\"45.9375\" id=\"E8\" rx=\"10\" ry=\"10\" style=\"stroke: #383838; stroke-width: 1.5;\" width=\"42\" x=\"317\" y=\"62\"/><text fill=\"#000000\" font-family=\"sans-serif\" font-size=\"12\" font-style=\"italic\" lengthAdjust=\"spacingAndGlyphs\" textLength=\"40\" x=\"318\" y=\"78.1387\">«part»</text><text fill=\"#000000\" font-family=\"sans-serif\" font-size=\"12\" lengthAdjust=\"spacingAndGlyphs\" textLength=\"8\" x=\"334\" y=\"92.1074\">e</text><line style=\"stroke: #383838; stroke-width: 1.5;\" x1=\"318\" x2=\"358\" y1=\"99.9375\" y2=\"99.9375\"/></a><!--MD5=[fd4143e9d270a159db93a4ea2a975926]\n",
       "class E9--><a href=\"psysml:f4778415-89ee-45ef-90f6-0fdee23f5f44\" target=\"_top\" title=\"psysml:f4778415-89ee-45ef-90f6-0fdee23f5f44\" xlink:actuate=\"onRequest\" xlink:href=\"psysml:f4778415-89ee-45ef-90f6-0fdee23f5f44\" xlink:show=\"new\" xlink:title=\"psysml:f4778415-89ee-45ef-90f6-0fdee23f5f44\" xlink:type=\"simple\"><rect fill=\"#FFFFFF\" height=\"45.9375\" id=\"E9\" rx=\"10\" ry=\"10\" style=\"stroke: #383838; stroke-width: 1.5;\" width=\"42\" x=\"240\" y=\"62\"/><text fill=\"#000000\" font-family=\"sans-serif\" font-size=\"12\" font-style=\"italic\" lengthAdjust=\"spacingAndGlyphs\" textLength=\"40\" x=\"241\" y=\"78.1387\">«part»</text><text fill=\"#000000\" font-family=\"sans-serif\" font-size=\"12\" lengthAdjust=\"spacingAndGlyphs\" textLength=\"4\" x=\"259\" y=\"92.1074\">f</text><line style=\"stroke: #383838; stroke-width: 1.5;\" x1=\"241\" x2=\"281\" y1=\"99.9375\" y2=\"99.9375\"/></a><!--MD5=[96f4274e9e20536e775497830990834d]\n",
       "class E10--><a href=\"psysml:54ce765f-cd4b-40e3-bd55-528058a48d88\" target=\"_top\" title=\"psysml:54ce765f-cd4b-40e3-bd55-528058a48d88\" xlink:actuate=\"onRequest\" xlink:href=\"psysml:54ce765f-cd4b-40e3-bd55-528058a48d88\" xlink:show=\"new\" xlink:title=\"psysml:54ce765f-cd4b-40e3-bd55-528058a48d88\" xlink:type=\"simple\"><rect fill=\"#FFFFFF\" height=\"45.9375\" id=\"E10\" rx=\"10\" ry=\"10\" style=\"stroke: #383838; stroke-width: 1.5;\" width=\"42\" x=\"163\" y=\"62\"/><text fill=\"#000000\" font-family=\"sans-serif\" font-size=\"12\" font-style=\"italic\" lengthAdjust=\"spacingAndGlyphs\" textLength=\"40\" x=\"164\" y=\"78.1387\">«part»</text><text fill=\"#000000\" font-family=\"sans-serif\" font-size=\"12\" lengthAdjust=\"spacingAndGlyphs\" textLength=\"8\" x=\"180\" y=\"92.1074\">g</text><line style=\"stroke: #383838; stroke-width: 1.5;\" x1=\"164\" x2=\"204\" y1=\"99.9375\" y2=\"99.9375\"/></a><!--MD5=[1dd1bfd58a279cf63c5f349dbc8fc6a1]\n",
       "class E11--><a href=\"psysml:39471be4-e308-48bc-96c2-d92b434b60c0\" target=\"_top\" title=\"psysml:39471be4-e308-48bc-96c2-d92b434b60c0\" xlink:actuate=\"onRequest\" xlink:href=\"psysml:39471be4-e308-48bc-96c2-d92b434b60c0\" xlink:show=\"new\" xlink:title=\"psysml:39471be4-e308-48bc-96c2-d92b434b60c0\" xlink:type=\"simple\"><rect fill=\"#FFFFFF\" height=\"88.3516\" id=\"E11\" style=\"stroke: #383838; stroke-width: 1.5;\" width=\"95\" x=\"32.5\" y=\"41\"/><text fill=\"#000000\" font-family=\"sans-serif\" font-size=\"12\" font-style=\"italic\" lengthAdjust=\"spacingAndGlyphs\" textLength=\"93\" x=\"33.5\" y=\"57.1387\">«attribute def»</text><text fill=\"#000000\" font-family=\"sans-serif\" font-size=\"12\" lengthAdjust=\"spacingAndGlyphs\" textLength=\"8\" x=\"76\" y=\"71.1074\">A</text><line style=\"stroke: #383838; stroke-width: 1.5;\" x1=\"33.5\" x2=\"126.5\" y1=\"78.9375\" y2=\"78.9375\"/><text fill=\"#000000\" font-family=\"sans-serif\" font-size=\"11\" lengthAdjust=\"spacingAndGlyphs\" textLength=\"51\" x=\"38.5\" y=\"109.9526\">i: Integer</text><text fill=\"#000000\" font-family=\"sans-serif\" font-size=\"11\" lengthAdjust=\"spacingAndGlyphs\" textLength=\"21\" x=\"38.5\" y=\"122.7573\">x: A</text><line style=\"stroke: #383838; stroke-width: 1.0;\" x1=\"33.5\" x2=\"52.5\" y1=\"93.3398\" y2=\"93.3398\"/><text fill=\"#000000\" font-family=\"sans-serif\" font-size=\"11\" lengthAdjust=\"spacingAndGlyphs\" textLength=\"55\" x=\"52.5\" y=\"96.6479\">attributes</text><line style=\"stroke: #383838; stroke-width: 1.0;\" x1=\"107.5\" x2=\"126.5\" y1=\"93.3398\" y2=\"93.3398\"/></a><!--MD5=[15ebcb19ae302d9b601edb458606d402]\n",
       "link E5 to E2--><a href=\"psysml:911f47bc-487d-4cbf-bcdd-94eeba00c89c\" target=\"_top\" title=\"psysml:911f47bc-487d-4cbf-bcdd-94eeba00c89c\" xlink:actuate=\"onRequest\" xlink:href=\"psysml:911f47bc-487d-4cbf-bcdd-94eeba00c89c\" xlink:show=\"new\" xlink:title=\"psysml:911f47bc-487d-4cbf-bcdd-94eeba00c89c\" xlink:type=\"simple\"><path d=\"M562.12,108.06 C556.83,125 549.38,148.89 542.98,169.39 \" fill=\"none\" id=\"E5-&gt;E2\" style=\"stroke: #383838; stroke-width: 1.0;\"/><polygon fill=\"#FFFFFF\" points=\"536.95,188.74,535.929,168.5173,549.2931,172.6886,536.95,188.74\" style=\"stroke: #383838; stroke-width: 1.0;\"/><ellipse cx=\"539.5364\" cy=\"163.6721\" fill=\"#383838\" rx=\"2\" ry=\"2\" style=\"stroke: #383838; stroke-width: 1.0;\"/><ellipse cx=\"549.0823\" cy=\"166.6516\" fill=\"#383838\" rx=\"2\" ry=\"2\" style=\"stroke: #383838; stroke-width: 1.0;\"/></a><!--MD5=[2351f337d6de0f557b50152ba70847b5]\n",
       "link E6 to E2--><a href=\"psysml:5d978d49-3aad-49b2-9a30-3bd5979ae9aa\" target=\"_top\" title=\"psysml:5d978d49-3aad-49b2-9a30-3bd5979ae9aa\" xlink:actuate=\"onRequest\" xlink:href=\"psysml:5d978d49-3aad-49b2-9a30-3bd5979ae9aa\" xlink:show=\"new\" xlink:title=\"psysml:5d978d49-3aad-49b2-9a30-3bd5979ae9aa\" xlink:type=\"simple\"><path d=\"M498.71,108.06 C503.86,125 511.12,148.89 517.35,169.39 \" fill=\"none\" id=\"E6-&gt;E2\" style=\"stroke: #383838; stroke-width: 1.0;\"/><polygon fill=\"#FFFFFF\" points=\"523.23,188.74,511.007,172.597,524.4019,168.5255,523.23,188.74\" style=\"stroke: #383838; stroke-width: 1.0;\"/><ellipse cx=\"511.2628\" cy=\"166.5617\" fill=\"#383838\" rx=\"2\" ry=\"2\" style=\"stroke: #383838; stroke-width: 1.0;\"/><ellipse cx=\"520.8306\" cy=\"163.6535\" fill=\"#383838\" rx=\"2\" ry=\"2\" style=\"stroke: #383838; stroke-width: 1.0;\"/></a><!--MD5=[918c6582d18bd83753cffaef278e3495]\n",
       "@startuml\r\n",
       "skinparam linetype polyline\r\n",
       "skinparam monochrome true\r\n",
       "skinparam classbackgroundcolor white\r\n",
       "skinparam shadowing false\r\n",
       "skinparam wrapWidth 300\r\n",
       "hide circle\r\n",
       "\r\n",
       "package \"MultiplicityTest\" as E1  [[psysml:0be6947d-aa66-4017-a009-04bc0f7b30c5 ]]  {\r\n",
       "comp def \"P\" as E2  <<(T,blue)part def>> [[psysml:9ab3d3ff-483c-4e41-ada7-ab2d8c979da0 ]] {\r\n",
       "}\r\n",
       "comp usage \"n: Integer\" as E3  <<(T,blue)attribute>> [[psysml:bb4f0587-9240-4f5c-8b68-755ceb30f0e1 ]] {\r\n",
       "}\r\n",
       "comp usage \"a\" as E4  <<(T,blue)part>> [[psysml:9d5a91ec-9b15-487c-8680-11258af91cb9 ]] {\r\n",
       "}\r\n",
       "comp usage \"b: P\" as E5  <<(T,blue)part>> [[psysml:0e6ddf84-4c23-42ff-8adf-60418e76591d ]] {\r\n",
       "}\r\n",
       "comp usage \"c: P\" as E6  <<(T,blue)part>> [[psysml:7a390bd1-339b-4feb-982b-b3a6ee4de727 ]] {\r\n",
       "}\r\n",
       "comp usage \"d\" as E7  <<(T,blue)part>> [[psysml:c41308c3-3ab4-4c95-8873-b6daf8742442 ]] {\r\n",
       "}\r\n",
       "comp usage \"e\" as E8  <<(T,blue)part>> [[psysml:4786ae2f-f4fb-4524-a996-e764bd48b2ea ]] {\r\n",
       "}\r\n",
       "comp usage \"f\" as E9  <<(T,blue)part>> [[psysml:f4778415-89ee-45ef-90f6-0fdee23f5f44 ]] {\r\n",
       "}\r\n",
       "comp usage \"g\" as E10  <<(T,blue)part>> [[psysml:54ce765f-cd4b-40e3-bd55-528058a48d88 ]] {\r\n",
       "}\r\n",
       "comp def \"A\" as E11  <<(T,blue)attribute def>> [[psysml:39471be4-e308-48bc-96c2-d92b434b60c0 ]] {\r\n",
       "- - attributes - -\r\n",
       "i: Integer\r\n",
       "x: A\r\n",
       "}\r\n",
       "E5 - -:|> E2 [[psysml:911f47bc-487d-4cbf-bcdd-94eeba00c89c ]] \r\n",
       "E6 - -:|> E2 [[psysml:5d978d49-3aad-49b2-9a30-3bd5979ae9aa ]] \r\n",
       "}\r\n",
       "@enduml\r\n",
       "\n",
       "PlantUML version 1.2020.13(Sat Jun 13 12:26:38 UTC 2020)\n",
       "(EPL source distribution)\n",
       "Java Runtime: OpenJDK Runtime Environment\n",
       "JVM: OpenJDK 64-Bit Server VM\n",
       "Default Encoding: UTF-8\n",
       "Language: en\n",
       "Country: null\n",
       "--></g></svg>"
      ]
     },
     "execution_count": 15,
     "metadata": {},
     "output_type": "execute_result"
    }
   ],
   "source": [
    "%viz --style=\"POLYLINE\" --view=\"MIXED\" \"MultiplicityTest\""
   ]
  },
  {
   "cell_type": "code",
   "execution_count": 16,
   "id": "2b7b725b",
   "metadata": {
    "execution": {
     "iopub.execute_input": "2021-04-21T20:26:42.553493Z",
     "iopub.status.busy": "2021-04-21T20:26:42.552506Z",
     "iopub.status.idle": "2021-04-21T20:26:42.616834Z",
     "shell.execute_reply": "2021-04-21T20:26:42.616369Z"
    }
   },
   "outputs": [
    {
     "data": {
      "image/svg+xml": [
       "<?xml version=\"1.0\" encoding=\"UTF-8\" standalone=\"no\"?><svg xmlns=\"http://www.w3.org/2000/svg\" xmlns:xlink=\"http://www.w3.org/1999/xlink\" contentScriptType=\"application/ecmascript\" contentStyleType=\"text/css\" height=\"805px\" preserveAspectRatio=\"none\" style=\"width:291px;height:805px;\" version=\"1.1\" viewBox=\"0 0 291 805\" width=\"291px\" zoomAndPan=\"magnify\"><defs/><g><!--MD5=[fbc87193dbaf4d95561dea2c320d4a47]\n",
       "cluster E1--><a href=\"psysml:0be6947d-aa66-4017-a009-04bc0f7b30c5\" target=\"_top\" title=\"psysml:0be6947d-aa66-4017-a009-04bc0f7b30c5\" xlink:actuate=\"onRequest\" xlink:href=\"psysml:0be6947d-aa66-4017-a009-04bc0f7b30c5\" xlink:show=\"new\" xlink:title=\"psysml:0be6947d-aa66-4017-a009-04bc0f7b30c5\" xlink:type=\"simple\"><polygon fill=\"#FFFFFF\" points=\"16,6,140,6,147,28.2969,269,28.2969,269,793,16,793,16,6\" style=\"stroke: #000000; stroke-width: 1.5;\"/><line style=\"stroke: #000000; stroke-width: 1.5;\" x1=\"16\" x2=\"147\" y1=\"28.2969\" y2=\"28.2969\"/><text fill=\"#000000\" font-family=\"sans-serif\" font-size=\"14\" font-weight=\"bold\" lengthAdjust=\"spacingAndGlyphs\" textLength=\"118\" x=\"20\" y=\"20.9951\">MultiplicityTest</text></a><!--MD5=[b4997ac47864f28c2f74865a473b2911]\n",
       "class E2--><a href=\"psysml:9ab3d3ff-483c-4e41-ada7-ab2d8c979da0\" target=\"_top\" title=\"psysml:9ab3d3ff-483c-4e41-ada7-ab2d8c979da0\" xlink:actuate=\"onRequest\" xlink:href=\"psysml:9ab3d3ff-483c-4e41-ada7-ab2d8c979da0\" xlink:show=\"new\" xlink:title=\"psysml:9ab3d3ff-483c-4e41-ada7-ab2d8c979da0\" xlink:type=\"simple\"><rect fill=\"#FFFFFF\" height=\"45.9375\" id=\"E2\" style=\"stroke: #383838; stroke-width: 1.5;\" width=\"66\" x=\"187\" y=\"244\"/><text fill=\"#000000\" font-family=\"sans-serif\" font-size=\"12\" font-style=\"italic\" lengthAdjust=\"spacingAndGlyphs\" textLength=\"64\" x=\"188\" y=\"260.1387\">«part def»</text><text fill=\"#000000\" font-family=\"sans-serif\" font-size=\"12\" lengthAdjust=\"spacingAndGlyphs\" textLength=\"8\" x=\"216\" y=\"274.1074\">P</text><line style=\"stroke: #383838; stroke-width: 1.5;\" x1=\"188\" x2=\"252\" y1=\"281.9375\" y2=\"281.9375\"/></a><!--MD5=[09b614a08d8cba4a07c9adeb5e0fee81]\n",
       "class E3--><a href=\"psysml:bb4f0587-9240-4f5c-8b68-755ceb30f0e1\" target=\"_top\" title=\"psysml:bb4f0587-9240-4f5c-8b68-755ceb30f0e1\" xlink:actuate=\"onRequest\" xlink:href=\"psysml:bb4f0587-9240-4f5c-8b68-755ceb30f0e1\" xlink:show=\"new\" xlink:title=\"psysml:bb4f0587-9240-4f5c-8b68-755ceb30f0e1\" xlink:type=\"simple\"><rect fill=\"#FFFFFF\" height=\"45.9375\" id=\"E3\" rx=\"10\" ry=\"10\" style=\"stroke: #383838; stroke-width: 1.5;\" width=\"71\" x=\"44\" y=\"41\"/><text fill=\"#000000\" font-family=\"sans-serif\" font-size=\"12\" font-style=\"italic\" lengthAdjust=\"spacingAndGlyphs\" textLength=\"69\" x=\"45\" y=\"57.1387\">«attribute»</text><text fill=\"#000000\" font-family=\"sans-serif\" font-size=\"12\" lengthAdjust=\"spacingAndGlyphs\" textLength=\"61\" x=\"49\" y=\"71.1074\">n: Integer</text><line style=\"stroke: #383838; stroke-width: 1.5;\" x1=\"45\" x2=\"114\" y1=\"78.9375\" y2=\"78.9375\"/></a><!--MD5=[ebbe1d658d1005bcc118a6aa81145e00]\n",
       "class E4--><a href=\"psysml:9d5a91ec-9b15-487c-8680-11258af91cb9\" target=\"_top\" title=\"psysml:9d5a91ec-9b15-487c-8680-11258af91cb9\" xlink:actuate=\"onRequest\" xlink:href=\"psysml:9d5a91ec-9b15-487c-8680-11258af91cb9\" xlink:show=\"new\" xlink:title=\"psysml:9d5a91ec-9b15-487c-8680-11258af91cb9\" xlink:type=\"simple\"><rect fill=\"#FFFFFF\" height=\"45.9375\" id=\"E4\" rx=\"10\" ry=\"10\" style=\"stroke: #383838; stroke-width: 1.5;\" width=\"42\" x=\"58.5\" y=\"122\"/><text fill=\"#000000\" font-family=\"sans-serif\" font-size=\"12\" font-style=\"italic\" lengthAdjust=\"spacingAndGlyphs\" textLength=\"40\" x=\"59.5\" y=\"138.1387\">«part»</text><text fill=\"#000000\" font-family=\"sans-serif\" font-size=\"12\" lengthAdjust=\"spacingAndGlyphs\" textLength=\"8\" x=\"75.5\" y=\"152.1074\">a</text><line style=\"stroke: #383838; stroke-width: 1.5;\" x1=\"59.5\" x2=\"99.5\" y1=\"159.9375\" y2=\"159.9375\"/></a><!--MD5=[270fce915f116d4de14055a7c1d9a0f3]\n",
       "class E5--><a href=\"psysml:0e6ddf84-4c23-42ff-8adf-60418e76591d\" target=\"_top\" title=\"psysml:0e6ddf84-4c23-42ff-8adf-60418e76591d\" xlink:actuate=\"onRequest\" xlink:href=\"psysml:0e6ddf84-4c23-42ff-8adf-60418e76591d\" xlink:show=\"new\" xlink:title=\"psysml:0e6ddf84-4c23-42ff-8adf-60418e76591d\" xlink:type=\"simple\"><rect fill=\"#FFFFFF\" height=\"45.9375\" id=\"E5\" rx=\"10\" ry=\"10\" style=\"stroke: #383838; stroke-width: 1.5;\" width=\"42\" x=\"58.5\" y=\"203\"/><text fill=\"#000000\" font-family=\"sans-serif\" font-size=\"12\" font-style=\"italic\" lengthAdjust=\"spacingAndGlyphs\" textLength=\"40\" x=\"59.5\" y=\"219.1387\">«part»</text><text fill=\"#000000\" font-family=\"sans-serif\" font-size=\"12\" lengthAdjust=\"spacingAndGlyphs\" textLength=\"24\" x=\"67.5\" y=\"233.1074\">b: P</text><line style=\"stroke: #383838; stroke-width: 1.5;\" x1=\"59.5\" x2=\"99.5\" y1=\"240.9375\" y2=\"240.9375\"/></a><!--MD5=[60a26617385b1d2d0262a64233df1f8d]\n",
       "class E6--><a href=\"psysml:7a390bd1-339b-4feb-982b-b3a6ee4de727\" target=\"_top\" title=\"psysml:7a390bd1-339b-4feb-982b-b3a6ee4de727\" xlink:actuate=\"onRequest\" xlink:href=\"psysml:7a390bd1-339b-4feb-982b-b3a6ee4de727\" xlink:show=\"new\" xlink:title=\"psysml:7a390bd1-339b-4feb-982b-b3a6ee4de727\" xlink:type=\"simple\"><rect fill=\"#FFFFFF\" height=\"45.9375\" id=\"E6\" rx=\"10\" ry=\"10\" style=\"stroke: #383838; stroke-width: 1.5;\" width=\"42\" x=\"58.5\" y=\"284\"/><text fill=\"#000000\" font-family=\"sans-serif\" font-size=\"12\" font-style=\"italic\" lengthAdjust=\"spacingAndGlyphs\" textLength=\"40\" x=\"59.5\" y=\"300.1387\">«part»</text><text fill=\"#000000\" font-family=\"sans-serif\" font-size=\"12\" lengthAdjust=\"spacingAndGlyphs\" textLength=\"23\" x=\"68\" y=\"314.1074\">c: P</text><line style=\"stroke: #383838; stroke-width: 1.5;\" x1=\"59.5\" x2=\"99.5\" y1=\"321.9375\" y2=\"321.9375\"/></a><!--MD5=[2156ba9850f5573cc1fc38a6a4b2f02b]\n",
       "class E7--><a href=\"psysml:c41308c3-3ab4-4c95-8873-b6daf8742442\" target=\"_top\" title=\"psysml:c41308c3-3ab4-4c95-8873-b6daf8742442\" xlink:actuate=\"onRequest\" xlink:href=\"psysml:c41308c3-3ab4-4c95-8873-b6daf8742442\" xlink:show=\"new\" xlink:title=\"psysml:c41308c3-3ab4-4c95-8873-b6daf8742442\" xlink:type=\"simple\"><rect fill=\"#FFFFFF\" height=\"45.9375\" id=\"E7\" rx=\"10\" ry=\"10\" style=\"stroke: #383838; stroke-width: 1.5;\" width=\"42\" x=\"58.5\" y=\"365\"/><text fill=\"#000000\" font-family=\"sans-serif\" font-size=\"12\" font-style=\"italic\" lengthAdjust=\"spacingAndGlyphs\" textLength=\"40\" x=\"59.5\" y=\"381.1387\">«part»</text><text fill=\"#000000\" font-family=\"sans-serif\" font-size=\"12\" lengthAdjust=\"spacingAndGlyphs\" textLength=\"8\" x=\"75.5\" y=\"395.1074\">d</text><line style=\"stroke: #383838; stroke-width: 1.5;\" x1=\"59.5\" x2=\"99.5\" y1=\"402.9375\" y2=\"402.9375\"/></a><!--MD5=[b9389687b975829384b498ac4b7476b2]\n",
       "class E8--><a href=\"psysml:4786ae2f-f4fb-4524-a996-e764bd48b2ea\" target=\"_top\" title=\"psysml:4786ae2f-f4fb-4524-a996-e764bd48b2ea\" xlink:actuate=\"onRequest\" xlink:href=\"psysml:4786ae2f-f4fb-4524-a996-e764bd48b2ea\" xlink:show=\"new\" xlink:title=\"psysml:4786ae2f-f4fb-4524-a996-e764bd48b2ea\" xlink:type=\"simple\"><rect fill=\"#FFFFFF\" height=\"45.9375\" id=\"E8\" rx=\"10\" ry=\"10\" style=\"stroke: #383838; stroke-width: 1.5;\" width=\"42\" x=\"58.5\" y=\"446\"/><text fill=\"#000000\" font-family=\"sans-serif\" font-size=\"12\" font-style=\"italic\" lengthAdjust=\"spacingAndGlyphs\" textLength=\"40\" x=\"59.5\" y=\"462.1387\">«part»</text><text fill=\"#000000\" font-family=\"sans-serif\" font-size=\"12\" lengthAdjust=\"spacingAndGlyphs\" textLength=\"8\" x=\"75.5\" y=\"476.1074\">e</text><line style=\"stroke: #383838; stroke-width: 1.5;\" x1=\"59.5\" x2=\"99.5\" y1=\"483.9375\" y2=\"483.9375\"/></a><!--MD5=[fd4143e9d270a159db93a4ea2a975926]\n",
       "class E9--><a href=\"psysml:f4778415-89ee-45ef-90f6-0fdee23f5f44\" target=\"_top\" title=\"psysml:f4778415-89ee-45ef-90f6-0fdee23f5f44\" xlink:actuate=\"onRequest\" xlink:href=\"psysml:f4778415-89ee-45ef-90f6-0fdee23f5f44\" xlink:show=\"new\" xlink:title=\"psysml:f4778415-89ee-45ef-90f6-0fdee23f5f44\" xlink:type=\"simple\"><rect fill=\"#FFFFFF\" height=\"45.9375\" id=\"E9\" rx=\"10\" ry=\"10\" style=\"stroke: #383838; stroke-width: 1.5;\" width=\"42\" x=\"58.5\" y=\"527\"/><text fill=\"#000000\" font-family=\"sans-serif\" font-size=\"12\" font-style=\"italic\" lengthAdjust=\"spacingAndGlyphs\" textLength=\"40\" x=\"59.5\" y=\"543.1387\">«part»</text><text fill=\"#000000\" font-family=\"sans-serif\" font-size=\"12\" lengthAdjust=\"spacingAndGlyphs\" textLength=\"4\" x=\"77.5\" y=\"557.1074\">f</text><line style=\"stroke: #383838; stroke-width: 1.5;\" x1=\"59.5\" x2=\"99.5\" y1=\"564.9375\" y2=\"564.9375\"/></a><!--MD5=[96f4274e9e20536e775497830990834d]\n",
       "class E10--><a href=\"psysml:54ce765f-cd4b-40e3-bd55-528058a48d88\" target=\"_top\" title=\"psysml:54ce765f-cd4b-40e3-bd55-528058a48d88\" xlink:actuate=\"onRequest\" xlink:href=\"psysml:54ce765f-cd4b-40e3-bd55-528058a48d88\" xlink:show=\"new\" xlink:title=\"psysml:54ce765f-cd4b-40e3-bd55-528058a48d88\" xlink:type=\"simple\"><rect fill=\"#FFFFFF\" height=\"45.9375\" id=\"E10\" rx=\"10\" ry=\"10\" style=\"stroke: #383838; stroke-width: 1.5;\" width=\"42\" x=\"58.5\" y=\"608\"/><text fill=\"#000000\" font-family=\"sans-serif\" font-size=\"12\" font-style=\"italic\" lengthAdjust=\"spacingAndGlyphs\" textLength=\"40\" x=\"59.5\" y=\"624.1387\">«part»</text><text fill=\"#000000\" font-family=\"sans-serif\" font-size=\"12\" lengthAdjust=\"spacingAndGlyphs\" textLength=\"8\" x=\"75.5\" y=\"638.1074\">g</text><line style=\"stroke: #383838; stroke-width: 1.5;\" x1=\"59.5\" x2=\"99.5\" y1=\"645.9375\" y2=\"645.9375\"/></a><!--MD5=[1dd1bfd58a279cf63c5f349dbc8fc6a1]\n",
       "class E11--><a href=\"psysml:39471be4-e308-48bc-96c2-d92b434b60c0\" target=\"_top\" title=\"psysml:39471be4-e308-48bc-96c2-d92b434b60c0\" xlink:actuate=\"onRequest\" xlink:href=\"psysml:39471be4-e308-48bc-96c2-d92b434b60c0\" xlink:show=\"new\" xlink:title=\"psysml:39471be4-e308-48bc-96c2-d92b434b60c0\" xlink:type=\"simple\"><rect fill=\"#FFFFFF\" height=\"88.3516\" id=\"E11\" style=\"stroke: #383838; stroke-width: 1.5;\" width=\"95\" x=\"32\" y=\"689\"/><text fill=\"#000000\" font-family=\"sans-serif\" font-size=\"12\" font-style=\"italic\" lengthAdjust=\"spacingAndGlyphs\" textLength=\"93\" x=\"33\" y=\"705.1387\">«attribute def»</text><text fill=\"#000000\" font-family=\"sans-serif\" font-size=\"12\" lengthAdjust=\"spacingAndGlyphs\" textLength=\"8\" x=\"75.5\" y=\"719.1074\">A</text><line style=\"stroke: #383838; stroke-width: 1.5;\" x1=\"33\" x2=\"126\" y1=\"726.9375\" y2=\"726.9375\"/><text fill=\"#000000\" font-family=\"sans-serif\" font-size=\"11\" lengthAdjust=\"spacingAndGlyphs\" textLength=\"51\" x=\"38\" y=\"757.9526\">i: Integer</text><text fill=\"#000000\" font-family=\"sans-serif\" font-size=\"11\" lengthAdjust=\"spacingAndGlyphs\" textLength=\"21\" x=\"38\" y=\"770.7573\">x: A</text><line style=\"stroke: #383838; stroke-width: 1.0;\" x1=\"33\" x2=\"52\" y1=\"741.3398\" y2=\"741.3398\"/><text fill=\"#000000\" font-family=\"sans-serif\" font-size=\"11\" lengthAdjust=\"spacingAndGlyphs\" textLength=\"55\" x=\"52\" y=\"744.6479\">attributes</text><line style=\"stroke: #383838; stroke-width: 1.0;\" x1=\"107\" x2=\"126\" y1=\"741.3398\" y2=\"741.3398\"/></a><!--MD5=[15ebcb19ae302d9b601edb458606d402]\n",
       "link E5 to E2--><a href=\"psysml:911f47bc-487d-4cbf-bcdd-94eeba00c89c\" target=\"_top\" title=\"psysml:911f47bc-487d-4cbf-bcdd-94eeba00c89c\" xlink:actuate=\"onRequest\" xlink:href=\"psysml:911f47bc-487d-4cbf-bcdd-94eeba00c89c\" xlink:show=\"new\" xlink:title=\"psysml:911f47bc-487d-4cbf-bcdd-94eeba00c89c\" xlink:type=\"simple\"><path d=\"M100.64,231.96 C118.11,237.13 144.16,244.84 167.38,251.72 \" fill=\"none\" id=\"E5-&gt;E2\" style=\"stroke: #383838; stroke-width: 1.0;\"/><polygon fill=\"#FFFFFF\" points=\"186.77,257.46,166.5639,258.7688,170.5445,245.3466,186.77,257.46\" style=\"stroke: #383838; stroke-width: 1.0;\"/><ellipse cx=\"161.6678\" cy=\"255.2306\" fill=\"#383838\" rx=\"2\" ry=\"2\" style=\"stroke: #383838; stroke-width: 1.0;\"/><ellipse cx=\"164.5111\" cy=\"245.6434\" fill=\"#383838\" rx=\"2\" ry=\"2\" style=\"stroke: #383838; stroke-width: 1.0;\"/></a><!--MD5=[2351f337d6de0f557b50152ba70847b5]\n",
       "link E6 to E2--><a href=\"psysml:5d978d49-3aad-49b2-9a30-3bd5979ae9aa\" target=\"_top\" title=\"psysml:5d978d49-3aad-49b2-9a30-3bd5979ae9aa\" xlink:actuate=\"onRequest\" xlink:href=\"psysml:5d978d49-3aad-49b2-9a30-3bd5979ae9aa\" xlink:show=\"new\" xlink:title=\"psysml:5d978d49-3aad-49b2-9a30-3bd5979ae9aa\" xlink:type=\"simple\"><path d=\"M100.64,301.18 C118.11,296.14 144.16,288.61 167.38,281.91 \" fill=\"none\" id=\"E6-&gt;E2\" style=\"stroke: #383838; stroke-width: 1.0;\"/><polygon fill=\"#FFFFFF\" points=\"186.77,276.31,170.4629,288.3132,166.5732,274.8644,186.77,276.31\" style=\"stroke: #383838; stroke-width: 1.0;\"/><ellipse cx=\"164.4316\" cy=\"287.9756\" fill=\"#383838\" rx=\"2\" ry=\"2\" style=\"stroke: #383838; stroke-width: 1.0;\"/><ellipse cx=\"161.6533\" cy=\"278.3693\" fill=\"#383838\" rx=\"2\" ry=\"2\" style=\"stroke: #383838; stroke-width: 1.0;\"/></a><!--MD5=[561349ecffe2ffbd0b63cae2cf4ce1c4]\n",
       "@startuml\r\n",
       "left to right direction\r\n",
       "skinparam monochrome true\r\n",
       "skinparam classbackgroundcolor white\r\n",
       "skinparam shadowing false\r\n",
       "skinparam wrapWidth 300\r\n",
       "hide circle\r\n",
       "\r\n",
       "package \"MultiplicityTest\" as E1  [[psysml:0be6947d-aa66-4017-a009-04bc0f7b30c5 ]]  {\r\n",
       "comp def \"P\" as E2  <<(T,blue)part def>> [[psysml:9ab3d3ff-483c-4e41-ada7-ab2d8c979da0 ]] {\r\n",
       "}\r\n",
       "comp usage \"n: Integer\" as E3  <<(T,blue)attribute>> [[psysml:bb4f0587-9240-4f5c-8b68-755ceb30f0e1 ]] {\r\n",
       "}\r\n",
       "comp usage \"a\" as E4  <<(T,blue)part>> [[psysml:9d5a91ec-9b15-487c-8680-11258af91cb9 ]] {\r\n",
       "}\r\n",
       "comp usage \"b: P\" as E5  <<(T,blue)part>> [[psysml:0e6ddf84-4c23-42ff-8adf-60418e76591d ]] {\r\n",
       "}\r\n",
       "comp usage \"c: P\" as E6  <<(T,blue)part>> [[psysml:7a390bd1-339b-4feb-982b-b3a6ee4de727 ]] {\r\n",
       "}\r\n",
       "comp usage \"d\" as E7  <<(T,blue)part>> [[psysml:c41308c3-3ab4-4c95-8873-b6daf8742442 ]] {\r\n",
       "}\r\n",
       "comp usage \"e\" as E8  <<(T,blue)part>> [[psysml:4786ae2f-f4fb-4524-a996-e764bd48b2ea ]] {\r\n",
       "}\r\n",
       "comp usage \"f\" as E9  <<(T,blue)part>> [[psysml:f4778415-89ee-45ef-90f6-0fdee23f5f44 ]] {\r\n",
       "}\r\n",
       "comp usage \"g\" as E10  <<(T,blue)part>> [[psysml:54ce765f-cd4b-40e3-bd55-528058a48d88 ]] {\r\n",
       "}\r\n",
       "comp def \"A\" as E11  <<(T,blue)attribute def>> [[psysml:39471be4-e308-48bc-96c2-d92b434b60c0 ]] {\r\n",
       "- - attributes - -\r\n",
       "i: Integer\r\n",
       "x: A\r\n",
       "}\r\n",
       "E5 - -:|> E2 [[psysml:911f47bc-487d-4cbf-bcdd-94eeba00c89c ]] \r\n",
       "E6 - -:|> E2 [[psysml:5d978d49-3aad-49b2-9a30-3bd5979ae9aa ]] \r\n",
       "}\r\n",
       "@enduml\r\n",
       "\n",
       "PlantUML version 1.2020.13(Sat Jun 13 12:26:38 UTC 2020)\n",
       "(EPL source distribution)\n",
       "Java Runtime: OpenJDK Runtime Environment\n",
       "JVM: OpenJDK 64-Bit Server VM\n",
       "Default Encoding: UTF-8\n",
       "Language: en\n",
       "Country: null\n",
       "--></g></svg>"
      ]
     },
     "execution_count": 16,
     "metadata": {},
     "output_type": "execute_result"
    }
   ],
   "source": [
    "%viz --style=\"LR\" --view=\"Default\" \"MultiplicityTest\""
   ]
  },
  {
   "cell_type": "code",
   "execution_count": 17,
   "id": "b5c7d76f",
   "metadata": {
    "execution": {
     "iopub.execute_input": "2021-04-21T20:26:42.666790Z",
     "iopub.status.busy": "2021-04-21T20:26:42.666093Z",
     "iopub.status.idle": "2021-04-21T20:26:42.723010Z",
     "shell.execute_reply": "2021-04-21T20:26:42.722731Z"
    }
   },
   "outputs": [
    {
     "data": {
      "image/svg+xml": [
       "<?xml version=\"1.0\" encoding=\"UTF-8\" standalone=\"no\"?><svg xmlns=\"http://www.w3.org/2000/svg\" xmlns:xlink=\"http://www.w3.org/1999/xlink\" contentScriptType=\"application/ecmascript\" contentStyleType=\"text/css\" height=\"805px\" preserveAspectRatio=\"none\" style=\"width:291px;height:805px;\" version=\"1.1\" viewBox=\"0 0 291 805\" width=\"291px\" zoomAndPan=\"magnify\"><defs/><g><!--MD5=[fbc87193dbaf4d95561dea2c320d4a47]\n",
       "cluster E1--><a href=\"psysml:0be6947d-aa66-4017-a009-04bc0f7b30c5\" target=\"_top\" title=\"psysml:0be6947d-aa66-4017-a009-04bc0f7b30c5\" xlink:actuate=\"onRequest\" xlink:href=\"psysml:0be6947d-aa66-4017-a009-04bc0f7b30c5\" xlink:show=\"new\" xlink:title=\"psysml:0be6947d-aa66-4017-a009-04bc0f7b30c5\" xlink:type=\"simple\"><polygon fill=\"#FFFFFF\" points=\"16,6,140,6,147,28.2969,269,28.2969,269,793,16,793,16,6\" style=\"stroke: #000000; stroke-width: 1.5;\"/><line style=\"stroke: #000000; stroke-width: 1.5;\" x1=\"16\" x2=\"147\" y1=\"28.2969\" y2=\"28.2969\"/><text fill=\"#000000\" font-family=\"sans-serif\" font-size=\"14\" font-weight=\"bold\" lengthAdjust=\"spacingAndGlyphs\" textLength=\"118\" x=\"20\" y=\"20.9951\">MultiplicityTest</text></a><!--MD5=[b4997ac47864f28c2f74865a473b2911]\n",
       "class E2--><a href=\"psysml:9ab3d3ff-483c-4e41-ada7-ab2d8c979da0\" target=\"_top\" title=\"psysml:9ab3d3ff-483c-4e41-ada7-ab2d8c979da0\" xlink:actuate=\"onRequest\" xlink:href=\"psysml:9ab3d3ff-483c-4e41-ada7-ab2d8c979da0\" xlink:show=\"new\" xlink:title=\"psysml:9ab3d3ff-483c-4e41-ada7-ab2d8c979da0\" xlink:type=\"simple\"><rect fill=\"#FFFFFF\" height=\"45.9375\" id=\"E2\" style=\"stroke: #383838; stroke-width: 1.5;\" width=\"66\" x=\"187\" y=\"244\"/><text fill=\"#000000\" font-family=\"sans-serif\" font-size=\"12\" font-style=\"italic\" lengthAdjust=\"spacingAndGlyphs\" textLength=\"64\" x=\"188\" y=\"260.1387\">«part def»</text><text fill=\"#000000\" font-family=\"sans-serif\" font-size=\"12\" lengthAdjust=\"spacingAndGlyphs\" textLength=\"8\" x=\"216\" y=\"274.1074\">P</text><line style=\"stroke: #383838; stroke-width: 1.5;\" x1=\"188\" x2=\"252\" y1=\"281.9375\" y2=\"281.9375\"/></a><!--MD5=[09b614a08d8cba4a07c9adeb5e0fee81]\n",
       "class E3--><a href=\"psysml:bb4f0587-9240-4f5c-8b68-755ceb30f0e1\" target=\"_top\" title=\"psysml:bb4f0587-9240-4f5c-8b68-755ceb30f0e1\" xlink:actuate=\"onRequest\" xlink:href=\"psysml:bb4f0587-9240-4f5c-8b68-755ceb30f0e1\" xlink:show=\"new\" xlink:title=\"psysml:bb4f0587-9240-4f5c-8b68-755ceb30f0e1\" xlink:type=\"simple\"><rect fill=\"#FFFFFF\" height=\"45.9375\" id=\"E3\" rx=\"10\" ry=\"10\" style=\"stroke: #383838; stroke-width: 1.5;\" width=\"71\" x=\"44\" y=\"41\"/><text fill=\"#000000\" font-family=\"sans-serif\" font-size=\"12\" font-style=\"italic\" lengthAdjust=\"spacingAndGlyphs\" textLength=\"69\" x=\"45\" y=\"57.1387\">«attribute»</text><text fill=\"#000000\" font-family=\"sans-serif\" font-size=\"12\" lengthAdjust=\"spacingAndGlyphs\" textLength=\"61\" x=\"49\" y=\"71.1074\">n: Integer</text><line style=\"stroke: #383838; stroke-width: 1.5;\" x1=\"45\" x2=\"114\" y1=\"78.9375\" y2=\"78.9375\"/></a><!--MD5=[ebbe1d658d1005bcc118a6aa81145e00]\n",
       "class E4--><a href=\"psysml:9d5a91ec-9b15-487c-8680-11258af91cb9\" target=\"_top\" title=\"psysml:9d5a91ec-9b15-487c-8680-11258af91cb9\" xlink:actuate=\"onRequest\" xlink:href=\"psysml:9d5a91ec-9b15-487c-8680-11258af91cb9\" xlink:show=\"new\" xlink:title=\"psysml:9d5a91ec-9b15-487c-8680-11258af91cb9\" xlink:type=\"simple\"><rect fill=\"#FFFFFF\" height=\"45.9375\" id=\"E4\" rx=\"10\" ry=\"10\" style=\"stroke: #383838; stroke-width: 1.5;\" width=\"42\" x=\"58.5\" y=\"122\"/><text fill=\"#000000\" font-family=\"sans-serif\" font-size=\"12\" font-style=\"italic\" lengthAdjust=\"spacingAndGlyphs\" textLength=\"40\" x=\"59.5\" y=\"138.1387\">«part»</text><text fill=\"#000000\" font-family=\"sans-serif\" font-size=\"12\" lengthAdjust=\"spacingAndGlyphs\" textLength=\"8\" x=\"75.5\" y=\"152.1074\">a</text><line style=\"stroke: #383838; stroke-width: 1.5;\" x1=\"59.5\" x2=\"99.5\" y1=\"159.9375\" y2=\"159.9375\"/></a><!--MD5=[270fce915f116d4de14055a7c1d9a0f3]\n",
       "class E5--><a href=\"psysml:0e6ddf84-4c23-42ff-8adf-60418e76591d\" target=\"_top\" title=\"psysml:0e6ddf84-4c23-42ff-8adf-60418e76591d\" xlink:actuate=\"onRequest\" xlink:href=\"psysml:0e6ddf84-4c23-42ff-8adf-60418e76591d\" xlink:show=\"new\" xlink:title=\"psysml:0e6ddf84-4c23-42ff-8adf-60418e76591d\" xlink:type=\"simple\"><rect fill=\"#FFFFFF\" height=\"45.9375\" id=\"E5\" rx=\"10\" ry=\"10\" style=\"stroke: #383838; stroke-width: 1.5;\" width=\"42\" x=\"58.5\" y=\"203\"/><text fill=\"#000000\" font-family=\"sans-serif\" font-size=\"12\" font-style=\"italic\" lengthAdjust=\"spacingAndGlyphs\" textLength=\"40\" x=\"59.5\" y=\"219.1387\">«part»</text><text fill=\"#000000\" font-family=\"sans-serif\" font-size=\"12\" lengthAdjust=\"spacingAndGlyphs\" textLength=\"24\" x=\"67.5\" y=\"233.1074\">b: P</text><line style=\"stroke: #383838; stroke-width: 1.5;\" x1=\"59.5\" x2=\"99.5\" y1=\"240.9375\" y2=\"240.9375\"/></a><!--MD5=[60a26617385b1d2d0262a64233df1f8d]\n",
       "class E6--><a href=\"psysml:7a390bd1-339b-4feb-982b-b3a6ee4de727\" target=\"_top\" title=\"psysml:7a390bd1-339b-4feb-982b-b3a6ee4de727\" xlink:actuate=\"onRequest\" xlink:href=\"psysml:7a390bd1-339b-4feb-982b-b3a6ee4de727\" xlink:show=\"new\" xlink:title=\"psysml:7a390bd1-339b-4feb-982b-b3a6ee4de727\" xlink:type=\"simple\"><rect fill=\"#FFFFFF\" height=\"45.9375\" id=\"E6\" rx=\"10\" ry=\"10\" style=\"stroke: #383838; stroke-width: 1.5;\" width=\"42\" x=\"58.5\" y=\"284\"/><text fill=\"#000000\" font-family=\"sans-serif\" font-size=\"12\" font-style=\"italic\" lengthAdjust=\"spacingAndGlyphs\" textLength=\"40\" x=\"59.5\" y=\"300.1387\">«part»</text><text fill=\"#000000\" font-family=\"sans-serif\" font-size=\"12\" lengthAdjust=\"spacingAndGlyphs\" textLength=\"23\" x=\"68\" y=\"314.1074\">c: P</text><line style=\"stroke: #383838; stroke-width: 1.5;\" x1=\"59.5\" x2=\"99.5\" y1=\"321.9375\" y2=\"321.9375\"/></a><!--MD5=[2156ba9850f5573cc1fc38a6a4b2f02b]\n",
       "class E7--><a href=\"psysml:c41308c3-3ab4-4c95-8873-b6daf8742442\" target=\"_top\" title=\"psysml:c41308c3-3ab4-4c95-8873-b6daf8742442\" xlink:actuate=\"onRequest\" xlink:href=\"psysml:c41308c3-3ab4-4c95-8873-b6daf8742442\" xlink:show=\"new\" xlink:title=\"psysml:c41308c3-3ab4-4c95-8873-b6daf8742442\" xlink:type=\"simple\"><rect fill=\"#FFFFFF\" height=\"45.9375\" id=\"E7\" rx=\"10\" ry=\"10\" style=\"stroke: #383838; stroke-width: 1.5;\" width=\"42\" x=\"58.5\" y=\"365\"/><text fill=\"#000000\" font-family=\"sans-serif\" font-size=\"12\" font-style=\"italic\" lengthAdjust=\"spacingAndGlyphs\" textLength=\"40\" x=\"59.5\" y=\"381.1387\">«part»</text><text fill=\"#000000\" font-family=\"sans-serif\" font-size=\"12\" lengthAdjust=\"spacingAndGlyphs\" textLength=\"8\" x=\"75.5\" y=\"395.1074\">d</text><line style=\"stroke: #383838; stroke-width: 1.5;\" x1=\"59.5\" x2=\"99.5\" y1=\"402.9375\" y2=\"402.9375\"/></a><!--MD5=[b9389687b975829384b498ac4b7476b2]\n",
       "class E8--><a href=\"psysml:4786ae2f-f4fb-4524-a996-e764bd48b2ea\" target=\"_top\" title=\"psysml:4786ae2f-f4fb-4524-a996-e764bd48b2ea\" xlink:actuate=\"onRequest\" xlink:href=\"psysml:4786ae2f-f4fb-4524-a996-e764bd48b2ea\" xlink:show=\"new\" xlink:title=\"psysml:4786ae2f-f4fb-4524-a996-e764bd48b2ea\" xlink:type=\"simple\"><rect fill=\"#FFFFFF\" height=\"45.9375\" id=\"E8\" rx=\"10\" ry=\"10\" style=\"stroke: #383838; stroke-width: 1.5;\" width=\"42\" x=\"58.5\" y=\"446\"/><text fill=\"#000000\" font-family=\"sans-serif\" font-size=\"12\" font-style=\"italic\" lengthAdjust=\"spacingAndGlyphs\" textLength=\"40\" x=\"59.5\" y=\"462.1387\">«part»</text><text fill=\"#000000\" font-family=\"sans-serif\" font-size=\"12\" lengthAdjust=\"spacingAndGlyphs\" textLength=\"8\" x=\"75.5\" y=\"476.1074\">e</text><line style=\"stroke: #383838; stroke-width: 1.5;\" x1=\"59.5\" x2=\"99.5\" y1=\"483.9375\" y2=\"483.9375\"/></a><!--MD5=[fd4143e9d270a159db93a4ea2a975926]\n",
       "class E9--><a href=\"psysml:f4778415-89ee-45ef-90f6-0fdee23f5f44\" target=\"_top\" title=\"psysml:f4778415-89ee-45ef-90f6-0fdee23f5f44\" xlink:actuate=\"onRequest\" xlink:href=\"psysml:f4778415-89ee-45ef-90f6-0fdee23f5f44\" xlink:show=\"new\" xlink:title=\"psysml:f4778415-89ee-45ef-90f6-0fdee23f5f44\" xlink:type=\"simple\"><rect fill=\"#FFFFFF\" height=\"45.9375\" id=\"E9\" rx=\"10\" ry=\"10\" style=\"stroke: #383838; stroke-width: 1.5;\" width=\"42\" x=\"58.5\" y=\"527\"/><text fill=\"#000000\" font-family=\"sans-serif\" font-size=\"12\" font-style=\"italic\" lengthAdjust=\"spacingAndGlyphs\" textLength=\"40\" x=\"59.5\" y=\"543.1387\">«part»</text><text fill=\"#000000\" font-family=\"sans-serif\" font-size=\"12\" lengthAdjust=\"spacingAndGlyphs\" textLength=\"4\" x=\"77.5\" y=\"557.1074\">f</text><line style=\"stroke: #383838; stroke-width: 1.5;\" x1=\"59.5\" x2=\"99.5\" y1=\"564.9375\" y2=\"564.9375\"/></a><!--MD5=[96f4274e9e20536e775497830990834d]\n",
       "class E10--><a href=\"psysml:54ce765f-cd4b-40e3-bd55-528058a48d88\" target=\"_top\" title=\"psysml:54ce765f-cd4b-40e3-bd55-528058a48d88\" xlink:actuate=\"onRequest\" xlink:href=\"psysml:54ce765f-cd4b-40e3-bd55-528058a48d88\" xlink:show=\"new\" xlink:title=\"psysml:54ce765f-cd4b-40e3-bd55-528058a48d88\" xlink:type=\"simple\"><rect fill=\"#FFFFFF\" height=\"45.9375\" id=\"E10\" rx=\"10\" ry=\"10\" style=\"stroke: #383838; stroke-width: 1.5;\" width=\"42\" x=\"58.5\" y=\"608\"/><text fill=\"#000000\" font-family=\"sans-serif\" font-size=\"12\" font-style=\"italic\" lengthAdjust=\"spacingAndGlyphs\" textLength=\"40\" x=\"59.5\" y=\"624.1387\">«part»</text><text fill=\"#000000\" font-family=\"sans-serif\" font-size=\"12\" lengthAdjust=\"spacingAndGlyphs\" textLength=\"8\" x=\"75.5\" y=\"638.1074\">g</text><line style=\"stroke: #383838; stroke-width: 1.5;\" x1=\"59.5\" x2=\"99.5\" y1=\"645.9375\" y2=\"645.9375\"/></a><!--MD5=[1dd1bfd58a279cf63c5f349dbc8fc6a1]\n",
       "class E11--><a href=\"psysml:39471be4-e308-48bc-96c2-d92b434b60c0\" target=\"_top\" title=\"psysml:39471be4-e308-48bc-96c2-d92b434b60c0\" xlink:actuate=\"onRequest\" xlink:href=\"psysml:39471be4-e308-48bc-96c2-d92b434b60c0\" xlink:show=\"new\" xlink:title=\"psysml:39471be4-e308-48bc-96c2-d92b434b60c0\" xlink:type=\"simple\"><rect fill=\"#FFFFFF\" height=\"88.3516\" id=\"E11\" style=\"stroke: #383838; stroke-width: 1.5;\" width=\"95\" x=\"32\" y=\"689\"/><text fill=\"#000000\" font-family=\"sans-serif\" font-size=\"12\" font-style=\"italic\" lengthAdjust=\"spacingAndGlyphs\" textLength=\"93\" x=\"33\" y=\"705.1387\">«attribute def»</text><text fill=\"#000000\" font-family=\"sans-serif\" font-size=\"12\" lengthAdjust=\"spacingAndGlyphs\" textLength=\"8\" x=\"75.5\" y=\"719.1074\">A</text><line style=\"stroke: #383838; stroke-width: 1.5;\" x1=\"33\" x2=\"126\" y1=\"726.9375\" y2=\"726.9375\"/><text fill=\"#000000\" font-family=\"sans-serif\" font-size=\"11\" lengthAdjust=\"spacingAndGlyphs\" textLength=\"51\" x=\"38\" y=\"757.9526\">i: Integer</text><text fill=\"#000000\" font-family=\"sans-serif\" font-size=\"11\" lengthAdjust=\"spacingAndGlyphs\" textLength=\"21\" x=\"38\" y=\"770.7573\">x: A</text><line style=\"stroke: #383838; stroke-width: 1.0;\" x1=\"33\" x2=\"52\" y1=\"741.3398\" y2=\"741.3398\"/><text fill=\"#000000\" font-family=\"sans-serif\" font-size=\"11\" lengthAdjust=\"spacingAndGlyphs\" textLength=\"55\" x=\"52\" y=\"744.6479\">attributes</text><line style=\"stroke: #383838; stroke-width: 1.0;\" x1=\"107\" x2=\"126\" y1=\"741.3398\" y2=\"741.3398\"/></a><!--MD5=[15ebcb19ae302d9b601edb458606d402]\n",
       "link E5 to E2--><a href=\"psysml:911f47bc-487d-4cbf-bcdd-94eeba00c89c\" target=\"_top\" title=\"psysml:911f47bc-487d-4cbf-bcdd-94eeba00c89c\" xlink:actuate=\"onRequest\" xlink:href=\"psysml:911f47bc-487d-4cbf-bcdd-94eeba00c89c\" xlink:show=\"new\" xlink:title=\"psysml:911f47bc-487d-4cbf-bcdd-94eeba00c89c\" xlink:type=\"simple\"><path d=\"M100.64,231.96 C118.11,237.13 144.16,244.84 167.38,251.72 \" fill=\"none\" id=\"E5-&gt;E2\" style=\"stroke: #383838; stroke-width: 1.0;\"/><polygon fill=\"#FFFFFF\" points=\"186.77,257.46,166.5639,258.7688,170.5445,245.3466,186.77,257.46\" style=\"stroke: #383838; stroke-width: 1.0;\"/><ellipse cx=\"161.6678\" cy=\"255.2306\" fill=\"#383838\" rx=\"2\" ry=\"2\" style=\"stroke: #383838; stroke-width: 1.0;\"/><ellipse cx=\"164.5111\" cy=\"245.6434\" fill=\"#383838\" rx=\"2\" ry=\"2\" style=\"stroke: #383838; stroke-width: 1.0;\"/></a><!--MD5=[2351f337d6de0f557b50152ba70847b5]\n",
       "link E6 to E2--><a href=\"psysml:5d978d49-3aad-49b2-9a30-3bd5979ae9aa\" target=\"_top\" title=\"psysml:5d978d49-3aad-49b2-9a30-3bd5979ae9aa\" xlink:actuate=\"onRequest\" xlink:href=\"psysml:5d978d49-3aad-49b2-9a30-3bd5979ae9aa\" xlink:show=\"new\" xlink:title=\"psysml:5d978d49-3aad-49b2-9a30-3bd5979ae9aa\" xlink:type=\"simple\"><path d=\"M100.64,301.18 C118.11,296.14 144.16,288.61 167.38,281.91 \" fill=\"none\" id=\"E6-&gt;E2\" style=\"stroke: #383838; stroke-width: 1.0;\"/><polygon fill=\"#FFFFFF\" points=\"186.77,276.31,170.4629,288.3132,166.5732,274.8644,186.77,276.31\" style=\"stroke: #383838; stroke-width: 1.0;\"/><ellipse cx=\"164.4316\" cy=\"287.9756\" fill=\"#383838\" rx=\"2\" ry=\"2\" style=\"stroke: #383838; stroke-width: 1.0;\"/><ellipse cx=\"161.6533\" cy=\"278.3693\" fill=\"#383838\" rx=\"2\" ry=\"2\" style=\"stroke: #383838; stroke-width: 1.0;\"/></a><!--MD5=[561349ecffe2ffbd0b63cae2cf4ce1c4]\n",
       "@startuml\r\n",
       "left to right direction\r\n",
       "skinparam monochrome true\r\n",
       "skinparam classbackgroundcolor white\r\n",
       "skinparam shadowing false\r\n",
       "skinparam wrapWidth 300\r\n",
       "hide circle\r\n",
       "\r\n",
       "package \"MultiplicityTest\" as E1  [[psysml:0be6947d-aa66-4017-a009-04bc0f7b30c5 ]]  {\r\n",
       "comp def \"P\" as E2  <<(T,blue)part def>> [[psysml:9ab3d3ff-483c-4e41-ada7-ab2d8c979da0 ]] {\r\n",
       "}\r\n",
       "comp usage \"n: Integer\" as E3  <<(T,blue)attribute>> [[psysml:bb4f0587-9240-4f5c-8b68-755ceb30f0e1 ]] {\r\n",
       "}\r\n",
       "comp usage \"a\" as E4  <<(T,blue)part>> [[psysml:9d5a91ec-9b15-487c-8680-11258af91cb9 ]] {\r\n",
       "}\r\n",
       "comp usage \"b: P\" as E5  <<(T,blue)part>> [[psysml:0e6ddf84-4c23-42ff-8adf-60418e76591d ]] {\r\n",
       "}\r\n",
       "comp usage \"c: P\" as E6  <<(T,blue)part>> [[psysml:7a390bd1-339b-4feb-982b-b3a6ee4de727 ]] {\r\n",
       "}\r\n",
       "comp usage \"d\" as E7  <<(T,blue)part>> [[psysml:c41308c3-3ab4-4c95-8873-b6daf8742442 ]] {\r\n",
       "}\r\n",
       "comp usage \"e\" as E8  <<(T,blue)part>> [[psysml:4786ae2f-f4fb-4524-a996-e764bd48b2ea ]] {\r\n",
       "}\r\n",
       "comp usage \"f\" as E9  <<(T,blue)part>> [[psysml:f4778415-89ee-45ef-90f6-0fdee23f5f44 ]] {\r\n",
       "}\r\n",
       "comp usage \"g\" as E10  <<(T,blue)part>> [[psysml:54ce765f-cd4b-40e3-bd55-528058a48d88 ]] {\r\n",
       "}\r\n",
       "comp def \"A\" as E11  <<(T,blue)attribute def>> [[psysml:39471be4-e308-48bc-96c2-d92b434b60c0 ]] {\r\n",
       "- - attributes - -\r\n",
       "i: Integer\r\n",
       "x: A\r\n",
       "}\r\n",
       "E5 - -:|> E2 [[psysml:911f47bc-487d-4cbf-bcdd-94eeba00c89c ]] \r\n",
       "E6 - -:|> E2 [[psysml:5d978d49-3aad-49b2-9a30-3bd5979ae9aa ]] \r\n",
       "}\r\n",
       "@enduml\r\n",
       "\n",
       "PlantUML version 1.2020.13(Sat Jun 13 12:26:38 UTC 2020)\n",
       "(EPL source distribution)\n",
       "Java Runtime: OpenJDK Runtime Environment\n",
       "JVM: OpenJDK 64-Bit Server VM\n",
       "Default Encoding: UTF-8\n",
       "Language: en\n",
       "Country: null\n",
       "--></g></svg>"
      ]
     },
     "execution_count": 17,
     "metadata": {},
     "output_type": "execute_result"
    }
   ],
   "source": [
    "%viz --style=\"LR\" --view=\"Tree\" \"MultiplicityTest\""
   ]
  },
  {
   "cell_type": "code",
   "execution_count": 18,
   "id": "0ac2202b",
   "metadata": {
    "execution": {
     "iopub.execute_input": "2021-04-21T20:26:42.773926Z",
     "iopub.status.busy": "2021-04-21T20:26:42.773223Z",
     "iopub.status.idle": "2021-04-21T20:26:42.779603Z",
     "shell.execute_reply": "2021-04-21T20:26:42.779955Z"
    }
   },
   "outputs": [
    {
     "data": {
      "image/svg+xml": [
       "<?xml version=\"1.0\" encoding=\"UTF-8\" standalone=\"no\"?><svg xmlns=\"http://www.w3.org/2000/svg\" xmlns:xlink=\"http://www.w3.org/1999/xlink\" contentScriptType=\"application/ecmascript\" contentStyleType=\"text/css\" height=\"12px\" preserveAspectRatio=\"none\" style=\"width:12px;height:12px;\" version=\"1.1\" viewBox=\"0 0 12 12\" width=\"12px\" zoomAndPan=\"magnify\"><defs/><g><!--MD5=[19d285c9d72a204eba4e2cd117d745e8]\n",
       "@startuml\r\n",
       "left to right direction\r\n",
       "skinparam monochrome true\r\n",
       "skinparam classbackgroundcolor white\r\n",
       "skinparam shadowing false\r\n",
       "skinparam wrapWidth 300\r\n",
       "hide circle\r\n",
       "\r\n",
       "@enduml\r\n",
       "\n",
       "PlantUML version 1.2020.13(Sat Jun 13 12:26:38 UTC 2020)\n",
       "(EPL source distribution)\n",
       "Java Runtime: OpenJDK Runtime Environment\n",
       "JVM: OpenJDK 64-Bit Server VM\n",
       "Default Encoding: UTF-8\n",
       "Language: en\n",
       "Country: null\n",
       "--></g></svg>"
      ]
     },
     "execution_count": 18,
     "metadata": {},
     "output_type": "execute_result"
    }
   ],
   "source": [
    "%viz --style=\"LR\" --view=\"State\" \"MultiplicityTest\""
   ]
  },
  {
   "cell_type": "code",
   "execution_count": 19,
   "id": "29f27852",
   "metadata": {
    "execution": {
     "iopub.execute_input": "2021-04-21T20:26:42.831187Z",
     "iopub.status.busy": "2021-04-21T20:26:42.830640Z",
     "iopub.status.idle": "2021-04-21T20:26:42.868762Z",
     "shell.execute_reply": "2021-04-21T20:26:42.867312Z"
    }
   },
   "outputs": [
    {
     "data": {
      "image/svg+xml": [
       "<?xml version=\"1.0\" encoding=\"UTF-8\" standalone=\"no\"?><svg xmlns=\"http://www.w3.org/2000/svg\" xmlns:xlink=\"http://www.w3.org/1999/xlink\" contentScriptType=\"application/ecmascript\" contentStyleType=\"text/css\" height=\"797px\" preserveAspectRatio=\"none\" style=\"width:172px;height:797px;\" version=\"1.1\" viewBox=\"0 0 172 797\" width=\"172px\" zoomAndPan=\"magnify\"><defs/><g><!--MD5=[fbc87193dbaf4d95561dea2c320d4a47]\n",
       "cluster E1--><a href=\"psysml:0be6947d-aa66-4017-a009-04bc0f7b30c5\" target=\"_top\" title=\"psysml:0be6947d-aa66-4017-a009-04bc0f7b30c5\" xlink:actuate=\"onRequest\" xlink:href=\"psysml:0be6947d-aa66-4017-a009-04bc0f7b30c5\" xlink:show=\"new\" xlink:title=\"psysml:0be6947d-aa66-4017-a009-04bc0f7b30c5\" xlink:type=\"simple\"><polygon fill=\"#FFFFFF\" points=\"16,6,140,6,147,28.2969,150,28.2969,150,785,16,785,16,6\" style=\"stroke: #000000; stroke-width: 1.5;\"/><line style=\"stroke: #000000; stroke-width: 1.5;\" x1=\"16\" x2=\"147\" y1=\"28.2969\" y2=\"28.2969\"/><text fill=\"#000000\" font-family=\"sans-serif\" font-size=\"14\" font-weight=\"bold\" lengthAdjust=\"spacingAndGlyphs\" textLength=\"118\" x=\"20\" y=\"20.9951\">MultiplicityTest</text></a><!--MD5=[09b614a08d8cba4a07c9adeb5e0fee81]\n",
       "class E3--><a href=\"psysml:bb4f0587-9240-4f5c-8b68-755ceb30f0e1\" target=\"_top\" title=\"psysml:bb4f0587-9240-4f5c-8b68-755ceb30f0e1\" xlink:actuate=\"onRequest\" xlink:href=\"psysml:bb4f0587-9240-4f5c-8b68-755ceb30f0e1\" xlink:show=\"new\" xlink:title=\"psysml:bb4f0587-9240-4f5c-8b68-755ceb30f0e1\" xlink:type=\"simple\"><rect fill=\"#FFFFFF\" height=\"45.9375\" id=\"E3\" rx=\"10\" ry=\"10\" style=\"stroke: #383838; stroke-width: 1.5;\" width=\"71\" x=\"47.5\" y=\"41\"/><text fill=\"#000000\" font-family=\"sans-serif\" font-size=\"12\" font-style=\"italic\" lengthAdjust=\"spacingAndGlyphs\" textLength=\"69\" x=\"48.5\" y=\"57.1387\">«attribute»</text><text fill=\"#000000\" font-family=\"sans-serif\" font-size=\"12\" lengthAdjust=\"spacingAndGlyphs\" textLength=\"61\" x=\"52.5\" y=\"71.1074\">n: Integer</text><line style=\"stroke: #383838; stroke-width: 1.5;\" x1=\"48.5\" x2=\"117.5\" y1=\"78.9375\" y2=\"78.9375\"/></a><g id=\"E1.E11\"><a href=\"psysml:39471be4-e308-48bc-96c2-d92b434b60c0\" target=\"_top\" title=\"psysml:39471be4-e308-48bc-96c2-d92b434b60c0\" xlink:actuate=\"onRequest\" xlink:href=\"psysml:39471be4-e308-48bc-96c2-d92b434b60c0\" xlink:show=\"new\" xlink:title=\"psysml:39471be4-e308-48bc-96c2-d92b434b60c0\" xlink:type=\"simple\"><rect fill=\"#FFFFFF\" height=\"42.9375\" id=\"E11\" style=\"stroke: #383838; stroke-width: 1.5;\" width=\"100\" x=\"33\" y=\"122.5\"/><rect fill=\"#F8F8F8\" height=\"37.9375\" style=\"stroke: #383838; stroke-width: 1.5;\" width=\"100\" x=\"33\" y=\"122.5\"/><text fill=\"#000000\" font-family=\"sans-serif\" font-size=\"12\" font-style=\"italic\" lengthAdjust=\"spacingAndGlyphs\" textLength=\"93\" x=\"36.5\" y=\"138.6387\">«attribute def»</text><text fill=\"#000000\" font-family=\"sans-serif\" font-size=\"12\" lengthAdjust=\"spacingAndGlyphs\" textLength=\"8\" x=\"79\" y=\"152.6074\">A</text></a></g><g id=\"E1.E2\"><a href=\"psysml:9ab3d3ff-483c-4e41-ada7-ab2d8c979da0\" target=\"_top\" title=\"psysml:9ab3d3ff-483c-4e41-ada7-ab2d8c979da0\" xlink:actuate=\"onRequest\" xlink:href=\"psysml:9ab3d3ff-483c-4e41-ada7-ab2d8c979da0\" xlink:show=\"new\" xlink:title=\"psysml:9ab3d3ff-483c-4e41-ada7-ab2d8c979da0\" xlink:type=\"simple\"><rect fill=\"#FFFFFF\" height=\"42.9375\" id=\"E2\" style=\"stroke: #383838; stroke-width: 1.5;\" width=\"71\" x=\"47.5\" y=\"200.5\"/><rect fill=\"#F8F8F8\" height=\"37.9375\" style=\"stroke: #383838; stroke-width: 1.5;\" width=\"71\" x=\"47.5\" y=\"200.5\"/><text fill=\"#000000\" font-family=\"sans-serif\" font-size=\"12\" font-style=\"italic\" lengthAdjust=\"spacingAndGlyphs\" textLength=\"64\" x=\"51\" y=\"216.6387\">«part def»</text><text fill=\"#000000\" font-family=\"sans-serif\" font-size=\"12\" lengthAdjust=\"spacingAndGlyphs\" textLength=\"8\" x=\"79\" y=\"230.6074\">P</text></a></g><g id=\"E1.E4\"><a href=\"psysml:9d5a91ec-9b15-487c-8680-11258af91cb9\" target=\"_top\" title=\"psysml:9d5a91ec-9b15-487c-8680-11258af91cb9\" xlink:actuate=\"onRequest\" xlink:href=\"psysml:9d5a91ec-9b15-487c-8680-11258af91cb9\" xlink:show=\"new\" xlink:title=\"psysml:9d5a91ec-9b15-487c-8680-11258af91cb9\" xlink:type=\"simple\"><rect fill=\"#FFFFFF\" height=\"40\" id=\"E4\" rx=\"10\" ry=\"10\" style=\"stroke: #383838; stroke-width: 1.5;\" width=\"50\" x=\"58\" y=\"279\"/><rect fill=\"#F8F8F8\" height=\"23.9688\" rx=\"10\" ry=\"10\" style=\"stroke: #F8F8F8; stroke-width: 1.5;\" width=\"50\" x=\"58\" y=\"279\"/><rect fill=\"#F8F8F8\" height=\"10\" style=\"stroke: #F8F8F8; stroke-width: 1.5;\" width=\"50\" x=\"58\" y=\"292.9688\"/><rect fill=\"none\" height=\"40\" id=\"E4\" rx=\"10\" ry=\"10\" style=\"stroke: #383838; stroke-width: 1.5;\" width=\"50\" x=\"58\" y=\"279\"/><text fill=\"#000000\" font-family=\"sans-serif\" font-size=\"12\" lengthAdjust=\"spacingAndGlyphs\" textLength=\"8\" x=\"79\" y=\"295.1387\">a</text></a></g><g id=\"E1.E5\"><a href=\"psysml:0e6ddf84-4c23-42ff-8adf-60418e76591d\" target=\"_top\" title=\"psysml:0e6ddf84-4c23-42ff-8adf-60418e76591d\" xlink:actuate=\"onRequest\" xlink:href=\"psysml:0e6ddf84-4c23-42ff-8adf-60418e76591d\" xlink:show=\"new\" xlink:title=\"psysml:0e6ddf84-4c23-42ff-8adf-60418e76591d\" xlink:type=\"simple\"><rect fill=\"#FFFFFF\" height=\"40\" id=\"E5\" rx=\"10\" ry=\"10\" style=\"stroke: #383838; stroke-width: 1.5;\" width=\"50\" x=\"58\" y=\"354\"/><rect fill=\"#F8F8F8\" height=\"23.9688\" rx=\"10\" ry=\"10\" style=\"stroke: #F8F8F8; stroke-width: 1.5;\" width=\"50\" x=\"58\" y=\"354\"/><rect fill=\"#F8F8F8\" height=\"10\" style=\"stroke: #F8F8F8; stroke-width: 1.5;\" width=\"50\" x=\"58\" y=\"367.9688\"/><rect fill=\"none\" height=\"40\" id=\"E5\" rx=\"10\" ry=\"10\" style=\"stroke: #383838; stroke-width: 1.5;\" width=\"50\" x=\"58\" y=\"354\"/><text fill=\"#000000\" font-family=\"sans-serif\" font-size=\"12\" lengthAdjust=\"spacingAndGlyphs\" textLength=\"24\" x=\"71\" y=\"370.1387\">b: P</text></a></g><g id=\"E1.E6\"><a href=\"psysml:7a390bd1-339b-4feb-982b-b3a6ee4de727\" target=\"_top\" title=\"psysml:7a390bd1-339b-4feb-982b-b3a6ee4de727\" xlink:actuate=\"onRequest\" xlink:href=\"psysml:7a390bd1-339b-4feb-982b-b3a6ee4de727\" xlink:show=\"new\" xlink:title=\"psysml:7a390bd1-339b-4feb-982b-b3a6ee4de727\" xlink:type=\"simple\"><rect fill=\"#FFFFFF\" height=\"40\" id=\"E6\" rx=\"10\" ry=\"10\" style=\"stroke: #383838; stroke-width: 1.5;\" width=\"50\" x=\"58\" y=\"429\"/><rect fill=\"#F8F8F8\" height=\"23.9688\" rx=\"10\" ry=\"10\" style=\"stroke: #F8F8F8; stroke-width: 1.5;\" width=\"50\" x=\"58\" y=\"429\"/><rect fill=\"#F8F8F8\" height=\"10\" style=\"stroke: #F8F8F8; stroke-width: 1.5;\" width=\"50\" x=\"58\" y=\"442.9688\"/><rect fill=\"none\" height=\"40\" id=\"E6\" rx=\"10\" ry=\"10\" style=\"stroke: #383838; stroke-width: 1.5;\" width=\"50\" x=\"58\" y=\"429\"/><text fill=\"#000000\" font-family=\"sans-serif\" font-size=\"12\" lengthAdjust=\"spacingAndGlyphs\" textLength=\"23\" x=\"71.5\" y=\"445.1387\">c: P</text></a></g><g id=\"E1.E7\"><a href=\"psysml:c41308c3-3ab4-4c95-8873-b6daf8742442\" target=\"_top\" title=\"psysml:c41308c3-3ab4-4c95-8873-b6daf8742442\" xlink:actuate=\"onRequest\" xlink:href=\"psysml:c41308c3-3ab4-4c95-8873-b6daf8742442\" xlink:show=\"new\" xlink:title=\"psysml:c41308c3-3ab4-4c95-8873-b6daf8742442\" xlink:type=\"simple\"><rect fill=\"#FFFFFF\" height=\"40\" id=\"E7\" rx=\"10\" ry=\"10\" style=\"stroke: #383838; stroke-width: 1.5;\" width=\"50\" x=\"58\" y=\"504\"/><rect fill=\"#F8F8F8\" height=\"23.9688\" rx=\"10\" ry=\"10\" style=\"stroke: #F8F8F8; stroke-width: 1.5;\" width=\"50\" x=\"58\" y=\"504\"/><rect fill=\"#F8F8F8\" height=\"10\" style=\"stroke: #F8F8F8; stroke-width: 1.5;\" width=\"50\" x=\"58\" y=\"517.9688\"/><rect fill=\"none\" height=\"40\" id=\"E7\" rx=\"10\" ry=\"10\" style=\"stroke: #383838; stroke-width: 1.5;\" width=\"50\" x=\"58\" y=\"504\"/><text fill=\"#000000\" font-family=\"sans-serif\" font-size=\"12\" lengthAdjust=\"spacingAndGlyphs\" textLength=\"8\" x=\"79\" y=\"520.1387\">d</text></a></g><g id=\"E1.E8\"><a href=\"psysml:4786ae2f-f4fb-4524-a996-e764bd48b2ea\" target=\"_top\" title=\"psysml:4786ae2f-f4fb-4524-a996-e764bd48b2ea\" xlink:actuate=\"onRequest\" xlink:href=\"psysml:4786ae2f-f4fb-4524-a996-e764bd48b2ea\" xlink:show=\"new\" xlink:title=\"psysml:4786ae2f-f4fb-4524-a996-e764bd48b2ea\" xlink:type=\"simple\"><rect fill=\"#FFFFFF\" height=\"40\" id=\"E8\" rx=\"10\" ry=\"10\" style=\"stroke: #383838; stroke-width: 1.5;\" width=\"50\" x=\"58\" y=\"579\"/><rect fill=\"#F8F8F8\" height=\"23.9688\" rx=\"10\" ry=\"10\" style=\"stroke: #F8F8F8; stroke-width: 1.5;\" width=\"50\" x=\"58\" y=\"579\"/><rect fill=\"#F8F8F8\" height=\"10\" style=\"stroke: #F8F8F8; stroke-width: 1.5;\" width=\"50\" x=\"58\" y=\"592.9688\"/><rect fill=\"none\" height=\"40\" id=\"E8\" rx=\"10\" ry=\"10\" style=\"stroke: #383838; stroke-width: 1.5;\" width=\"50\" x=\"58\" y=\"579\"/><text fill=\"#000000\" font-family=\"sans-serif\" font-size=\"12\" lengthAdjust=\"spacingAndGlyphs\" textLength=\"8\" x=\"79\" y=\"595.1387\">e</text></a></g><g id=\"E1.E9\"><a href=\"psysml:f4778415-89ee-45ef-90f6-0fdee23f5f44\" target=\"_top\" title=\"psysml:f4778415-89ee-45ef-90f6-0fdee23f5f44\" xlink:actuate=\"onRequest\" xlink:href=\"psysml:f4778415-89ee-45ef-90f6-0fdee23f5f44\" xlink:show=\"new\" xlink:title=\"psysml:f4778415-89ee-45ef-90f6-0fdee23f5f44\" xlink:type=\"simple\"><rect fill=\"#FFFFFF\" height=\"40\" id=\"E9\" rx=\"10\" ry=\"10\" style=\"stroke: #383838; stroke-width: 1.5;\" width=\"50\" x=\"58\" y=\"654\"/><rect fill=\"#F8F8F8\" height=\"23.9688\" rx=\"10\" ry=\"10\" style=\"stroke: #F8F8F8; stroke-width: 1.5;\" width=\"50\" x=\"58\" y=\"654\"/><rect fill=\"#F8F8F8\" height=\"10\" style=\"stroke: #F8F8F8; stroke-width: 1.5;\" width=\"50\" x=\"58\" y=\"667.9688\"/><rect fill=\"none\" height=\"40\" id=\"E9\" rx=\"10\" ry=\"10\" style=\"stroke: #383838; stroke-width: 1.5;\" width=\"50\" x=\"58\" y=\"654\"/><text fill=\"#000000\" font-family=\"sans-serif\" font-size=\"12\" lengthAdjust=\"spacingAndGlyphs\" textLength=\"4\" x=\"81\" y=\"670.1387\">f</text></a></g><g id=\"E1.E10\"><a href=\"psysml:54ce765f-cd4b-40e3-bd55-528058a48d88\" target=\"_top\" title=\"psysml:54ce765f-cd4b-40e3-bd55-528058a48d88\" xlink:actuate=\"onRequest\" xlink:href=\"psysml:54ce765f-cd4b-40e3-bd55-528058a48d88\" xlink:show=\"new\" xlink:title=\"psysml:54ce765f-cd4b-40e3-bd55-528058a48d88\" xlink:type=\"simple\"><rect fill=\"#FFFFFF\" height=\"40\" id=\"E10\" rx=\"10\" ry=\"10\" style=\"stroke: #383838; stroke-width: 1.5;\" width=\"50\" x=\"58\" y=\"729\"/><rect fill=\"#F8F8F8\" height=\"23.9688\" rx=\"10\" ry=\"10\" style=\"stroke: #F8F8F8; stroke-width: 1.5;\" width=\"50\" x=\"58\" y=\"729\"/><rect fill=\"#F8F8F8\" height=\"10\" style=\"stroke: #F8F8F8; stroke-width: 1.5;\" width=\"50\" x=\"58\" y=\"742.9688\"/><rect fill=\"none\" height=\"40\" id=\"E10\" rx=\"10\" ry=\"10\" style=\"stroke: #383838; stroke-width: 1.5;\" width=\"50\" x=\"58\" y=\"729\"/><text fill=\"#000000\" font-family=\"sans-serif\" font-size=\"12\" lengthAdjust=\"spacingAndGlyphs\" textLength=\"8\" x=\"79\" y=\"745.1387\">g</text></a></g><!--MD5=[50ed1140396fc10d34dbfedad67d3441]\n",
       "@startuml\r\n",
       "skinparam ranksep 10\r\n",
       "skinparam rectangle {\r\n",
       " backgroundColor<<block>> LightGreen\r\n",
       "}\r\n",
       "left to right direction\r\n",
       "skinparam monochrome true\r\n",
       "skinparam classbackgroundcolor white\r\n",
       "skinparam shadowing false\r\n",
       "skinparam wrapWidth 300\r\n",
       "hide circle\r\n",
       "\r\n",
       "package \"MultiplicityTest\" as E1  [[psysml:0be6947d-aa66-4017-a009-04bc0f7b30c5 ]]  {\r\n",
       "rec def \"P\" as E2  <<(T,blue)part def>> [[psysml:9ab3d3ff-483c-4e41-ada7-ab2d8c979da0 ]] {\r\n",
       "}\r\n",
       "comp usage \"n: Integer\" as E3  <<(T,blue)attribute>> [[psysml:bb4f0587-9240-4f5c-8b68-755ceb30f0e1 ]] {\r\n",
       "}\r\n",
       "rec usage \"a\" as E4  [[psysml:9d5a91ec-9b15-487c-8680-11258af91cb9 ]] {\r\n",
       "}\r\n",
       "rec usage \"b: P\" as E5  [[psysml:0e6ddf84-4c23-42ff-8adf-60418e76591d ]] {\r\n",
       "}\r\n",
       "rec usage \"c: P\" as E6  [[psysml:7a390bd1-339b-4feb-982b-b3a6ee4de727 ]] {\r\n",
       "}\r\n",
       "rec usage \"d\" as E7  [[psysml:c41308c3-3ab4-4c95-8873-b6daf8742442 ]] {\r\n",
       "}\r\n",
       "rec usage \"e\" as E8  [[psysml:4786ae2f-f4fb-4524-a996-e764bd48b2ea ]] {\r\n",
       "}\r\n",
       "rec usage \"f\" as E9  [[psysml:f4778415-89ee-45ef-90f6-0fdee23f5f44 ]] {\r\n",
       "}\r\n",
       "rec usage \"g\" as E10  [[psysml:54ce765f-cd4b-40e3-bd55-528058a48d88 ]] {\r\n",
       "}\r\n",
       "def \"A\" as E11  <<(T,blue)attribute def>> [[psysml:39471be4-e308-48bc-96c2-d92b434b60c0 ]] \r\n",
       "}\r\n",
       "@enduml\r\n",
       "\n",
       "PlantUML version 1.2020.13(Sat Jun 13 12:26:38 UTC 2020)\n",
       "(EPL source distribution)\n",
       "Java Runtime: OpenJDK Runtime Environment\n",
       "JVM: OpenJDK 64-Bit Server VM\n",
       "Default Encoding: UTF-8\n",
       "Language: en\n",
       "Country: null\n",
       "--></g></svg>"
      ]
     },
     "execution_count": 19,
     "metadata": {},
     "output_type": "execute_result"
    }
   ],
   "source": [
    "%viz --style=\"LR\" --view=\"Interconnection\" \"MultiplicityTest\""
   ]
  },
  {
   "cell_type": "code",
   "execution_count": 20,
   "id": "4a289227",
   "metadata": {
    "execution": {
     "iopub.execute_input": "2021-04-21T20:26:42.920654Z",
     "iopub.status.busy": "2021-04-21T20:26:42.920217Z",
     "iopub.status.idle": "2021-04-21T20:26:42.923489Z",
     "shell.execute_reply": "2021-04-21T20:26:42.923183Z"
    }
   },
   "outputs": [
    {
     "data": {
      "image/svg+xml": [
       "<?xml version=\"1.0\" encoding=\"UTF-8\" standalone=\"no\"?><svg xmlns=\"http://www.w3.org/2000/svg\" xmlns:xlink=\"http://www.w3.org/1999/xlink\" contentScriptType=\"application/ecmascript\" contentStyleType=\"text/css\" height=\"12px\" preserveAspectRatio=\"none\" style=\"width:12px;height:12px;\" version=\"1.1\" viewBox=\"0 0 12 12\" width=\"12px\" zoomAndPan=\"magnify\"><defs/><g><!--MD5=[7aeb398939421629f6affaa4a1a7b125]\n",
       "@startuml\r\n",
       "skinparam ranksep 8\r\n",
       "left to right direction\r\n",
       "skinparam monochrome true\r\n",
       "skinparam classbackgroundcolor white\r\n",
       "skinparam shadowing false\r\n",
       "skinparam wrapWidth 300\r\n",
       "hide circle\r\n",
       "\r\n",
       "@enduml\r\n",
       "\n",
       "PlantUML version 1.2020.13(Sat Jun 13 12:26:38 UTC 2020)\n",
       "(EPL source distribution)\n",
       "Java Runtime: OpenJDK Runtime Environment\n",
       "JVM: OpenJDK 64-Bit Server VM\n",
       "Default Encoding: UTF-8\n",
       "Language: en\n",
       "Country: null\n",
       "--></g></svg>"
      ]
     },
     "execution_count": 20,
     "metadata": {},
     "output_type": "execute_result"
    }
   ],
   "source": [
    "%viz --style=\"LR\" --view=\"Action\" \"MultiplicityTest\""
   ]
  },
  {
   "cell_type": "code",
   "execution_count": 21,
   "id": "326616e8",
   "metadata": {
    "execution": {
     "iopub.execute_input": "2021-04-21T20:26:42.974573Z",
     "iopub.status.busy": "2021-04-21T20:26:42.974151Z",
     "iopub.status.idle": "2021-04-21T20:26:43.029179Z",
     "shell.execute_reply": "2021-04-21T20:26:43.028781Z"
    }
   },
   "outputs": [
    {
     "data": {
      "image/svg+xml": [
       "<?xml version=\"1.0\" encoding=\"UTF-8\" standalone=\"no\"?><svg xmlns=\"http://www.w3.org/2000/svg\" xmlns:xlink=\"http://www.w3.org/1999/xlink\" contentScriptType=\"application/ecmascript\" contentStyleType=\"text/css\" height=\"805px\" preserveAspectRatio=\"none\" style=\"width:291px;height:805px;\" version=\"1.1\" viewBox=\"0 0 291 805\" width=\"291px\" zoomAndPan=\"magnify\"><defs/><g><!--MD5=[fbc87193dbaf4d95561dea2c320d4a47]\n",
       "cluster E1--><a href=\"psysml:0be6947d-aa66-4017-a009-04bc0f7b30c5\" target=\"_top\" title=\"psysml:0be6947d-aa66-4017-a009-04bc0f7b30c5\" xlink:actuate=\"onRequest\" xlink:href=\"psysml:0be6947d-aa66-4017-a009-04bc0f7b30c5\" xlink:show=\"new\" xlink:title=\"psysml:0be6947d-aa66-4017-a009-04bc0f7b30c5\" xlink:type=\"simple\"><polygon fill=\"#FFFFFF\" points=\"16,6,140,6,147,28.2969,269,28.2969,269,793,16,793,16,6\" style=\"stroke: #000000; stroke-width: 1.5;\"/><line style=\"stroke: #000000; stroke-width: 1.5;\" x1=\"16\" x2=\"147\" y1=\"28.2969\" y2=\"28.2969\"/><text fill=\"#000000\" font-family=\"sans-serif\" font-size=\"14\" font-weight=\"bold\" lengthAdjust=\"spacingAndGlyphs\" textLength=\"118\" x=\"20\" y=\"20.9951\">MultiplicityTest</text></a><!--MD5=[b4997ac47864f28c2f74865a473b2911]\n",
       "class E2--><a href=\"psysml:9ab3d3ff-483c-4e41-ada7-ab2d8c979da0\" target=\"_top\" title=\"psysml:9ab3d3ff-483c-4e41-ada7-ab2d8c979da0\" xlink:actuate=\"onRequest\" xlink:href=\"psysml:9ab3d3ff-483c-4e41-ada7-ab2d8c979da0\" xlink:show=\"new\" xlink:title=\"psysml:9ab3d3ff-483c-4e41-ada7-ab2d8c979da0\" xlink:type=\"simple\"><rect fill=\"#FFFFFF\" height=\"45.9375\" id=\"E2\" style=\"stroke: #383838; stroke-width: 1.5;\" width=\"66\" x=\"187\" y=\"244\"/><text fill=\"#000000\" font-family=\"sans-serif\" font-size=\"12\" font-style=\"italic\" lengthAdjust=\"spacingAndGlyphs\" textLength=\"64\" x=\"188\" y=\"260.1387\">«part def»</text><text fill=\"#000000\" font-family=\"sans-serif\" font-size=\"12\" lengthAdjust=\"spacingAndGlyphs\" textLength=\"8\" x=\"216\" y=\"274.1074\">P</text><line style=\"stroke: #383838; stroke-width: 1.5;\" x1=\"188\" x2=\"252\" y1=\"281.9375\" y2=\"281.9375\"/></a><!--MD5=[09b614a08d8cba4a07c9adeb5e0fee81]\n",
       "class E3--><a href=\"psysml:bb4f0587-9240-4f5c-8b68-755ceb30f0e1\" target=\"_top\" title=\"psysml:bb4f0587-9240-4f5c-8b68-755ceb30f0e1\" xlink:actuate=\"onRequest\" xlink:href=\"psysml:bb4f0587-9240-4f5c-8b68-755ceb30f0e1\" xlink:show=\"new\" xlink:title=\"psysml:bb4f0587-9240-4f5c-8b68-755ceb30f0e1\" xlink:type=\"simple\"><rect fill=\"#FFFFFF\" height=\"45.9375\" id=\"E3\" rx=\"10\" ry=\"10\" style=\"stroke: #383838; stroke-width: 1.5;\" width=\"71\" x=\"44\" y=\"41\"/><text fill=\"#000000\" font-family=\"sans-serif\" font-size=\"12\" font-style=\"italic\" lengthAdjust=\"spacingAndGlyphs\" textLength=\"69\" x=\"45\" y=\"57.1387\">«attribute»</text><text fill=\"#000000\" font-family=\"sans-serif\" font-size=\"12\" lengthAdjust=\"spacingAndGlyphs\" textLength=\"61\" x=\"49\" y=\"71.1074\">n: Integer</text><line style=\"stroke: #383838; stroke-width: 1.5;\" x1=\"45\" x2=\"114\" y1=\"78.9375\" y2=\"78.9375\"/></a><!--MD5=[ebbe1d658d1005bcc118a6aa81145e00]\n",
       "class E4--><a href=\"psysml:9d5a91ec-9b15-487c-8680-11258af91cb9\" target=\"_top\" title=\"psysml:9d5a91ec-9b15-487c-8680-11258af91cb9\" xlink:actuate=\"onRequest\" xlink:href=\"psysml:9d5a91ec-9b15-487c-8680-11258af91cb9\" xlink:show=\"new\" xlink:title=\"psysml:9d5a91ec-9b15-487c-8680-11258af91cb9\" xlink:type=\"simple\"><rect fill=\"#FFFFFF\" height=\"45.9375\" id=\"E4\" rx=\"10\" ry=\"10\" style=\"stroke: #383838; stroke-width: 1.5;\" width=\"42\" x=\"58.5\" y=\"122\"/><text fill=\"#000000\" font-family=\"sans-serif\" font-size=\"12\" font-style=\"italic\" lengthAdjust=\"spacingAndGlyphs\" textLength=\"40\" x=\"59.5\" y=\"138.1387\">«part»</text><text fill=\"#000000\" font-family=\"sans-serif\" font-size=\"12\" lengthAdjust=\"spacingAndGlyphs\" textLength=\"8\" x=\"75.5\" y=\"152.1074\">a</text><line style=\"stroke: #383838; stroke-width: 1.5;\" x1=\"59.5\" x2=\"99.5\" y1=\"159.9375\" y2=\"159.9375\"/></a><!--MD5=[270fce915f116d4de14055a7c1d9a0f3]\n",
       "class E5--><a href=\"psysml:0e6ddf84-4c23-42ff-8adf-60418e76591d\" target=\"_top\" title=\"psysml:0e6ddf84-4c23-42ff-8adf-60418e76591d\" xlink:actuate=\"onRequest\" xlink:href=\"psysml:0e6ddf84-4c23-42ff-8adf-60418e76591d\" xlink:show=\"new\" xlink:title=\"psysml:0e6ddf84-4c23-42ff-8adf-60418e76591d\" xlink:type=\"simple\"><rect fill=\"#FFFFFF\" height=\"45.9375\" id=\"E5\" rx=\"10\" ry=\"10\" style=\"stroke: #383838; stroke-width: 1.5;\" width=\"42\" x=\"58.5\" y=\"203\"/><text fill=\"#000000\" font-family=\"sans-serif\" font-size=\"12\" font-style=\"italic\" lengthAdjust=\"spacingAndGlyphs\" textLength=\"40\" x=\"59.5\" y=\"219.1387\">«part»</text><text fill=\"#000000\" font-family=\"sans-serif\" font-size=\"12\" lengthAdjust=\"spacingAndGlyphs\" textLength=\"24\" x=\"67.5\" y=\"233.1074\">b: P</text><line style=\"stroke: #383838; stroke-width: 1.5;\" x1=\"59.5\" x2=\"99.5\" y1=\"240.9375\" y2=\"240.9375\"/></a><!--MD5=[60a26617385b1d2d0262a64233df1f8d]\n",
       "class E6--><a href=\"psysml:7a390bd1-339b-4feb-982b-b3a6ee4de727\" target=\"_top\" title=\"psysml:7a390bd1-339b-4feb-982b-b3a6ee4de727\" xlink:actuate=\"onRequest\" xlink:href=\"psysml:7a390bd1-339b-4feb-982b-b3a6ee4de727\" xlink:show=\"new\" xlink:title=\"psysml:7a390bd1-339b-4feb-982b-b3a6ee4de727\" xlink:type=\"simple\"><rect fill=\"#FFFFFF\" height=\"45.9375\" id=\"E6\" rx=\"10\" ry=\"10\" style=\"stroke: #383838; stroke-width: 1.5;\" width=\"42\" x=\"58.5\" y=\"284\"/><text fill=\"#000000\" font-family=\"sans-serif\" font-size=\"12\" font-style=\"italic\" lengthAdjust=\"spacingAndGlyphs\" textLength=\"40\" x=\"59.5\" y=\"300.1387\">«part»</text><text fill=\"#000000\" font-family=\"sans-serif\" font-size=\"12\" lengthAdjust=\"spacingAndGlyphs\" textLength=\"23\" x=\"68\" y=\"314.1074\">c: P</text><line style=\"stroke: #383838; stroke-width: 1.5;\" x1=\"59.5\" x2=\"99.5\" y1=\"321.9375\" y2=\"321.9375\"/></a><!--MD5=[2156ba9850f5573cc1fc38a6a4b2f02b]\n",
       "class E7--><a href=\"psysml:c41308c3-3ab4-4c95-8873-b6daf8742442\" target=\"_top\" title=\"psysml:c41308c3-3ab4-4c95-8873-b6daf8742442\" xlink:actuate=\"onRequest\" xlink:href=\"psysml:c41308c3-3ab4-4c95-8873-b6daf8742442\" xlink:show=\"new\" xlink:title=\"psysml:c41308c3-3ab4-4c95-8873-b6daf8742442\" xlink:type=\"simple\"><rect fill=\"#FFFFFF\" height=\"45.9375\" id=\"E7\" rx=\"10\" ry=\"10\" style=\"stroke: #383838; stroke-width: 1.5;\" width=\"42\" x=\"58.5\" y=\"365\"/><text fill=\"#000000\" font-family=\"sans-serif\" font-size=\"12\" font-style=\"italic\" lengthAdjust=\"spacingAndGlyphs\" textLength=\"40\" x=\"59.5\" y=\"381.1387\">«part»</text><text fill=\"#000000\" font-family=\"sans-serif\" font-size=\"12\" lengthAdjust=\"spacingAndGlyphs\" textLength=\"8\" x=\"75.5\" y=\"395.1074\">d</text><line style=\"stroke: #383838; stroke-width: 1.5;\" x1=\"59.5\" x2=\"99.5\" y1=\"402.9375\" y2=\"402.9375\"/></a><!--MD5=[b9389687b975829384b498ac4b7476b2]\n",
       "class E8--><a href=\"psysml:4786ae2f-f4fb-4524-a996-e764bd48b2ea\" target=\"_top\" title=\"psysml:4786ae2f-f4fb-4524-a996-e764bd48b2ea\" xlink:actuate=\"onRequest\" xlink:href=\"psysml:4786ae2f-f4fb-4524-a996-e764bd48b2ea\" xlink:show=\"new\" xlink:title=\"psysml:4786ae2f-f4fb-4524-a996-e764bd48b2ea\" xlink:type=\"simple\"><rect fill=\"#FFFFFF\" height=\"45.9375\" id=\"E8\" rx=\"10\" ry=\"10\" style=\"stroke: #383838; stroke-width: 1.5;\" width=\"42\" x=\"58.5\" y=\"446\"/><text fill=\"#000000\" font-family=\"sans-serif\" font-size=\"12\" font-style=\"italic\" lengthAdjust=\"spacingAndGlyphs\" textLength=\"40\" x=\"59.5\" y=\"462.1387\">«part»</text><text fill=\"#000000\" font-family=\"sans-serif\" font-size=\"12\" lengthAdjust=\"spacingAndGlyphs\" textLength=\"8\" x=\"75.5\" y=\"476.1074\">e</text><line style=\"stroke: #383838; stroke-width: 1.5;\" x1=\"59.5\" x2=\"99.5\" y1=\"483.9375\" y2=\"483.9375\"/></a><!--MD5=[fd4143e9d270a159db93a4ea2a975926]\n",
       "class E9--><a href=\"psysml:f4778415-89ee-45ef-90f6-0fdee23f5f44\" target=\"_top\" title=\"psysml:f4778415-89ee-45ef-90f6-0fdee23f5f44\" xlink:actuate=\"onRequest\" xlink:href=\"psysml:f4778415-89ee-45ef-90f6-0fdee23f5f44\" xlink:show=\"new\" xlink:title=\"psysml:f4778415-89ee-45ef-90f6-0fdee23f5f44\" xlink:type=\"simple\"><rect fill=\"#FFFFFF\" height=\"45.9375\" id=\"E9\" rx=\"10\" ry=\"10\" style=\"stroke: #383838; stroke-width: 1.5;\" width=\"42\" x=\"58.5\" y=\"527\"/><text fill=\"#000000\" font-family=\"sans-serif\" font-size=\"12\" font-style=\"italic\" lengthAdjust=\"spacingAndGlyphs\" textLength=\"40\" x=\"59.5\" y=\"543.1387\">«part»</text><text fill=\"#000000\" font-family=\"sans-serif\" font-size=\"12\" lengthAdjust=\"spacingAndGlyphs\" textLength=\"4\" x=\"77.5\" y=\"557.1074\">f</text><line style=\"stroke: #383838; stroke-width: 1.5;\" x1=\"59.5\" x2=\"99.5\" y1=\"564.9375\" y2=\"564.9375\"/></a><!--MD5=[96f4274e9e20536e775497830990834d]\n",
       "class E10--><a href=\"psysml:54ce765f-cd4b-40e3-bd55-528058a48d88\" target=\"_top\" title=\"psysml:54ce765f-cd4b-40e3-bd55-528058a48d88\" xlink:actuate=\"onRequest\" xlink:href=\"psysml:54ce765f-cd4b-40e3-bd55-528058a48d88\" xlink:show=\"new\" xlink:title=\"psysml:54ce765f-cd4b-40e3-bd55-528058a48d88\" xlink:type=\"simple\"><rect fill=\"#FFFFFF\" height=\"45.9375\" id=\"E10\" rx=\"10\" ry=\"10\" style=\"stroke: #383838; stroke-width: 1.5;\" width=\"42\" x=\"58.5\" y=\"608\"/><text fill=\"#000000\" font-family=\"sans-serif\" font-size=\"12\" font-style=\"italic\" lengthAdjust=\"spacingAndGlyphs\" textLength=\"40\" x=\"59.5\" y=\"624.1387\">«part»</text><text fill=\"#000000\" font-family=\"sans-serif\" font-size=\"12\" lengthAdjust=\"spacingAndGlyphs\" textLength=\"8\" x=\"75.5\" y=\"638.1074\">g</text><line style=\"stroke: #383838; stroke-width: 1.5;\" x1=\"59.5\" x2=\"99.5\" y1=\"645.9375\" y2=\"645.9375\"/></a><!--MD5=[1dd1bfd58a279cf63c5f349dbc8fc6a1]\n",
       "class E11--><a href=\"psysml:39471be4-e308-48bc-96c2-d92b434b60c0\" target=\"_top\" title=\"psysml:39471be4-e308-48bc-96c2-d92b434b60c0\" xlink:actuate=\"onRequest\" xlink:href=\"psysml:39471be4-e308-48bc-96c2-d92b434b60c0\" xlink:show=\"new\" xlink:title=\"psysml:39471be4-e308-48bc-96c2-d92b434b60c0\" xlink:type=\"simple\"><rect fill=\"#FFFFFF\" height=\"88.3516\" id=\"E11\" style=\"stroke: #383838; stroke-width: 1.5;\" width=\"95\" x=\"32\" y=\"689\"/><text fill=\"#000000\" font-family=\"sans-serif\" font-size=\"12\" font-style=\"italic\" lengthAdjust=\"spacingAndGlyphs\" textLength=\"93\" x=\"33\" y=\"705.1387\">«attribute def»</text><text fill=\"#000000\" font-family=\"sans-serif\" font-size=\"12\" lengthAdjust=\"spacingAndGlyphs\" textLength=\"8\" x=\"75.5\" y=\"719.1074\">A</text><line style=\"stroke: #383838; stroke-width: 1.5;\" x1=\"33\" x2=\"126\" y1=\"726.9375\" y2=\"726.9375\"/><text fill=\"#000000\" font-family=\"sans-serif\" font-size=\"11\" lengthAdjust=\"spacingAndGlyphs\" textLength=\"51\" x=\"38\" y=\"757.9526\">i: Integer</text><text fill=\"#000000\" font-family=\"sans-serif\" font-size=\"11\" lengthAdjust=\"spacingAndGlyphs\" textLength=\"21\" x=\"38\" y=\"770.7573\">x: A</text><line style=\"stroke: #383838; stroke-width: 1.0;\" x1=\"33\" x2=\"52\" y1=\"741.3398\" y2=\"741.3398\"/><text fill=\"#000000\" font-family=\"sans-serif\" font-size=\"11\" lengthAdjust=\"spacingAndGlyphs\" textLength=\"55\" x=\"52\" y=\"744.6479\">attributes</text><line style=\"stroke: #383838; stroke-width: 1.0;\" x1=\"107\" x2=\"126\" y1=\"741.3398\" y2=\"741.3398\"/></a><!--MD5=[15ebcb19ae302d9b601edb458606d402]\n",
       "link E5 to E2--><a href=\"psysml:911f47bc-487d-4cbf-bcdd-94eeba00c89c\" target=\"_top\" title=\"psysml:911f47bc-487d-4cbf-bcdd-94eeba00c89c\" xlink:actuate=\"onRequest\" xlink:href=\"psysml:911f47bc-487d-4cbf-bcdd-94eeba00c89c\" xlink:show=\"new\" xlink:title=\"psysml:911f47bc-487d-4cbf-bcdd-94eeba00c89c\" xlink:type=\"simple\"><path d=\"M100.64,231.96 C118.11,237.13 144.16,244.84 167.38,251.72 \" fill=\"none\" id=\"E5-&gt;E2\" style=\"stroke: #383838; stroke-width: 1.0;\"/><polygon fill=\"#FFFFFF\" points=\"186.77,257.46,166.5639,258.7688,170.5445,245.3466,186.77,257.46\" style=\"stroke: #383838; stroke-width: 1.0;\"/><ellipse cx=\"161.6678\" cy=\"255.2306\" fill=\"#383838\" rx=\"2\" ry=\"2\" style=\"stroke: #383838; stroke-width: 1.0;\"/><ellipse cx=\"164.5111\" cy=\"245.6434\" fill=\"#383838\" rx=\"2\" ry=\"2\" style=\"stroke: #383838; stroke-width: 1.0;\"/></a><!--MD5=[2351f337d6de0f557b50152ba70847b5]\n",
       "link E6 to E2--><a href=\"psysml:5d978d49-3aad-49b2-9a30-3bd5979ae9aa\" target=\"_top\" title=\"psysml:5d978d49-3aad-49b2-9a30-3bd5979ae9aa\" xlink:actuate=\"onRequest\" xlink:href=\"psysml:5d978d49-3aad-49b2-9a30-3bd5979ae9aa\" xlink:show=\"new\" xlink:title=\"psysml:5d978d49-3aad-49b2-9a30-3bd5979ae9aa\" xlink:type=\"simple\"><path d=\"M100.64,301.18 C118.11,296.14 144.16,288.61 167.38,281.91 \" fill=\"none\" id=\"E6-&gt;E2\" style=\"stroke: #383838; stroke-width: 1.0;\"/><polygon fill=\"#FFFFFF\" points=\"186.77,276.31,170.4629,288.3132,166.5732,274.8644,186.77,276.31\" style=\"stroke: #383838; stroke-width: 1.0;\"/><ellipse cx=\"164.4316\" cy=\"287.9756\" fill=\"#383838\" rx=\"2\" ry=\"2\" style=\"stroke: #383838; stroke-width: 1.0;\"/><ellipse cx=\"161.6533\" cy=\"278.3693\" fill=\"#383838\" rx=\"2\" ry=\"2\" style=\"stroke: #383838; stroke-width: 1.0;\"/></a><!--MD5=[561349ecffe2ffbd0b63cae2cf4ce1c4]\n",
       "@startuml\r\n",
       "left to right direction\r\n",
       "skinparam monochrome true\r\n",
       "skinparam classbackgroundcolor white\r\n",
       "skinparam shadowing false\r\n",
       "skinparam wrapWidth 300\r\n",
       "hide circle\r\n",
       "\r\n",
       "package \"MultiplicityTest\" as E1  [[psysml:0be6947d-aa66-4017-a009-04bc0f7b30c5 ]]  {\r\n",
       "comp def \"P\" as E2  <<(T,blue)part def>> [[psysml:9ab3d3ff-483c-4e41-ada7-ab2d8c979da0 ]] {\r\n",
       "}\r\n",
       "comp usage \"n: Integer\" as E3  <<(T,blue)attribute>> [[psysml:bb4f0587-9240-4f5c-8b68-755ceb30f0e1 ]] {\r\n",
       "}\r\n",
       "comp usage \"a\" as E4  <<(T,blue)part>> [[psysml:9d5a91ec-9b15-487c-8680-11258af91cb9 ]] {\r\n",
       "}\r\n",
       "comp usage \"b: P\" as E5  <<(T,blue)part>> [[psysml:0e6ddf84-4c23-42ff-8adf-60418e76591d ]] {\r\n",
       "}\r\n",
       "comp usage \"c: P\" as E6  <<(T,blue)part>> [[psysml:7a390bd1-339b-4feb-982b-b3a6ee4de727 ]] {\r\n",
       "}\r\n",
       "comp usage \"d\" as E7  <<(T,blue)part>> [[psysml:c41308c3-3ab4-4c95-8873-b6daf8742442 ]] {\r\n",
       "}\r\n",
       "comp usage \"e\" as E8  <<(T,blue)part>> [[psysml:4786ae2f-f4fb-4524-a996-e764bd48b2ea ]] {\r\n",
       "}\r\n",
       "comp usage \"f\" as E9  <<(T,blue)part>> [[psysml:f4778415-89ee-45ef-90f6-0fdee23f5f44 ]] {\r\n",
       "}\r\n",
       "comp usage \"g\" as E10  <<(T,blue)part>> [[psysml:54ce765f-cd4b-40e3-bd55-528058a48d88 ]] {\r\n",
       "}\r\n",
       "comp def \"A\" as E11  <<(T,blue)attribute def>> [[psysml:39471be4-e308-48bc-96c2-d92b434b60c0 ]] {\r\n",
       "- - attributes - -\r\n",
       "i: Integer\r\n",
       "x: A\r\n",
       "}\r\n",
       "E5 - -:|> E2 [[psysml:911f47bc-487d-4cbf-bcdd-94eeba00c89c ]] \r\n",
       "E6 - -:|> E2 [[psysml:5d978d49-3aad-49b2-9a30-3bd5979ae9aa ]] \r\n",
       "}\r\n",
       "@enduml\r\n",
       "\n",
       "PlantUML version 1.2020.13(Sat Jun 13 12:26:38 UTC 2020)\n",
       "(EPL source distribution)\n",
       "Java Runtime: OpenJDK Runtime Environment\n",
       "JVM: OpenJDK 64-Bit Server VM\n",
       "Default Encoding: UTF-8\n",
       "Language: en\n",
       "Country: null\n",
       "--></g></svg>"
      ]
     },
     "execution_count": 21,
     "metadata": {},
     "output_type": "execute_result"
    }
   ],
   "source": [
    "%viz --style=\"LR\" --view=\"Sequence\" \"MultiplicityTest\""
   ]
  },
  {
   "cell_type": "code",
   "execution_count": 22,
   "id": "4a091b47",
   "metadata": {
    "execution": {
     "iopub.execute_input": "2021-04-21T20:26:43.079073Z",
     "iopub.status.busy": "2021-04-21T20:26:43.078415Z",
     "iopub.status.idle": "2021-04-21T20:26:43.134831Z",
     "shell.execute_reply": "2021-04-21T20:26:43.133882Z"
    }
   },
   "outputs": [
    {
     "data": {
      "image/svg+xml": [
       "<?xml version=\"1.0\" encoding=\"UTF-8\" standalone=\"no\"?><svg xmlns=\"http://www.w3.org/2000/svg\" xmlns:xlink=\"http://www.w3.org/1999/xlink\" contentScriptType=\"application/ecmascript\" contentStyleType=\"text/css\" height=\"805px\" preserveAspectRatio=\"none\" style=\"width:291px;height:805px;\" version=\"1.1\" viewBox=\"0 0 291 805\" width=\"291px\" zoomAndPan=\"magnify\"><defs/><g><!--MD5=[fbc87193dbaf4d95561dea2c320d4a47]\n",
       "cluster E1--><a href=\"psysml:0be6947d-aa66-4017-a009-04bc0f7b30c5\" target=\"_top\" title=\"psysml:0be6947d-aa66-4017-a009-04bc0f7b30c5\" xlink:actuate=\"onRequest\" xlink:href=\"psysml:0be6947d-aa66-4017-a009-04bc0f7b30c5\" xlink:show=\"new\" xlink:title=\"psysml:0be6947d-aa66-4017-a009-04bc0f7b30c5\" xlink:type=\"simple\"><polygon fill=\"#FFFFFF\" points=\"16,6,140,6,147,28.2969,269,28.2969,269,793,16,793,16,6\" style=\"stroke: #000000; stroke-width: 1.5;\"/><line style=\"stroke: #000000; stroke-width: 1.5;\" x1=\"16\" x2=\"147\" y1=\"28.2969\" y2=\"28.2969\"/><text fill=\"#000000\" font-family=\"sans-serif\" font-size=\"14\" font-weight=\"bold\" lengthAdjust=\"spacingAndGlyphs\" textLength=\"118\" x=\"20\" y=\"20.9951\">MultiplicityTest</text></a><!--MD5=[b4997ac47864f28c2f74865a473b2911]\n",
       "class E2--><a href=\"psysml:9ab3d3ff-483c-4e41-ada7-ab2d8c979da0\" target=\"_top\" title=\"psysml:9ab3d3ff-483c-4e41-ada7-ab2d8c979da0\" xlink:actuate=\"onRequest\" xlink:href=\"psysml:9ab3d3ff-483c-4e41-ada7-ab2d8c979da0\" xlink:show=\"new\" xlink:title=\"psysml:9ab3d3ff-483c-4e41-ada7-ab2d8c979da0\" xlink:type=\"simple\"><rect fill=\"#FFFFFF\" height=\"45.9375\" id=\"E2\" style=\"stroke: #383838; stroke-width: 1.5;\" width=\"66\" x=\"187\" y=\"244\"/><text fill=\"#000000\" font-family=\"sans-serif\" font-size=\"12\" font-style=\"italic\" lengthAdjust=\"spacingAndGlyphs\" textLength=\"64\" x=\"188\" y=\"260.1387\">«part def»</text><text fill=\"#000000\" font-family=\"sans-serif\" font-size=\"12\" lengthAdjust=\"spacingAndGlyphs\" textLength=\"8\" x=\"216\" y=\"274.1074\">P</text><line style=\"stroke: #383838; stroke-width: 1.5;\" x1=\"188\" x2=\"252\" y1=\"281.9375\" y2=\"281.9375\"/></a><!--MD5=[09b614a08d8cba4a07c9adeb5e0fee81]\n",
       "class E3--><a href=\"psysml:bb4f0587-9240-4f5c-8b68-755ceb30f0e1\" target=\"_top\" title=\"psysml:bb4f0587-9240-4f5c-8b68-755ceb30f0e1\" xlink:actuate=\"onRequest\" xlink:href=\"psysml:bb4f0587-9240-4f5c-8b68-755ceb30f0e1\" xlink:show=\"new\" xlink:title=\"psysml:bb4f0587-9240-4f5c-8b68-755ceb30f0e1\" xlink:type=\"simple\"><rect fill=\"#FFFFFF\" height=\"45.9375\" id=\"E3\" rx=\"10\" ry=\"10\" style=\"stroke: #383838; stroke-width: 1.5;\" width=\"71\" x=\"44\" y=\"41\"/><text fill=\"#000000\" font-family=\"sans-serif\" font-size=\"12\" font-style=\"italic\" lengthAdjust=\"spacingAndGlyphs\" textLength=\"69\" x=\"45\" y=\"57.1387\">«attribute»</text><text fill=\"#000000\" font-family=\"sans-serif\" font-size=\"12\" lengthAdjust=\"spacingAndGlyphs\" textLength=\"61\" x=\"49\" y=\"71.1074\">n: Integer</text><line style=\"stroke: #383838; stroke-width: 1.5;\" x1=\"45\" x2=\"114\" y1=\"78.9375\" y2=\"78.9375\"/></a><!--MD5=[ebbe1d658d1005bcc118a6aa81145e00]\n",
       "class E4--><a href=\"psysml:9d5a91ec-9b15-487c-8680-11258af91cb9\" target=\"_top\" title=\"psysml:9d5a91ec-9b15-487c-8680-11258af91cb9\" xlink:actuate=\"onRequest\" xlink:href=\"psysml:9d5a91ec-9b15-487c-8680-11258af91cb9\" xlink:show=\"new\" xlink:title=\"psysml:9d5a91ec-9b15-487c-8680-11258af91cb9\" xlink:type=\"simple\"><rect fill=\"#FFFFFF\" height=\"45.9375\" id=\"E4\" rx=\"10\" ry=\"10\" style=\"stroke: #383838; stroke-width: 1.5;\" width=\"42\" x=\"58.5\" y=\"122\"/><text fill=\"#000000\" font-family=\"sans-serif\" font-size=\"12\" font-style=\"italic\" lengthAdjust=\"spacingAndGlyphs\" textLength=\"40\" x=\"59.5\" y=\"138.1387\">«part»</text><text fill=\"#000000\" font-family=\"sans-serif\" font-size=\"12\" lengthAdjust=\"spacingAndGlyphs\" textLength=\"8\" x=\"75.5\" y=\"152.1074\">a</text><line style=\"stroke: #383838; stroke-width: 1.5;\" x1=\"59.5\" x2=\"99.5\" y1=\"159.9375\" y2=\"159.9375\"/></a><!--MD5=[270fce915f116d4de14055a7c1d9a0f3]\n",
       "class E5--><a href=\"psysml:0e6ddf84-4c23-42ff-8adf-60418e76591d\" target=\"_top\" title=\"psysml:0e6ddf84-4c23-42ff-8adf-60418e76591d\" xlink:actuate=\"onRequest\" xlink:href=\"psysml:0e6ddf84-4c23-42ff-8adf-60418e76591d\" xlink:show=\"new\" xlink:title=\"psysml:0e6ddf84-4c23-42ff-8adf-60418e76591d\" xlink:type=\"simple\"><rect fill=\"#FFFFFF\" height=\"45.9375\" id=\"E5\" rx=\"10\" ry=\"10\" style=\"stroke: #383838; stroke-width: 1.5;\" width=\"42\" x=\"58.5\" y=\"203\"/><text fill=\"#000000\" font-family=\"sans-serif\" font-size=\"12\" font-style=\"italic\" lengthAdjust=\"spacingAndGlyphs\" textLength=\"40\" x=\"59.5\" y=\"219.1387\">«part»</text><text fill=\"#000000\" font-family=\"sans-serif\" font-size=\"12\" lengthAdjust=\"spacingAndGlyphs\" textLength=\"24\" x=\"67.5\" y=\"233.1074\">b: P</text><line style=\"stroke: #383838; stroke-width: 1.5;\" x1=\"59.5\" x2=\"99.5\" y1=\"240.9375\" y2=\"240.9375\"/></a><!--MD5=[60a26617385b1d2d0262a64233df1f8d]\n",
       "class E6--><a href=\"psysml:7a390bd1-339b-4feb-982b-b3a6ee4de727\" target=\"_top\" title=\"psysml:7a390bd1-339b-4feb-982b-b3a6ee4de727\" xlink:actuate=\"onRequest\" xlink:href=\"psysml:7a390bd1-339b-4feb-982b-b3a6ee4de727\" xlink:show=\"new\" xlink:title=\"psysml:7a390bd1-339b-4feb-982b-b3a6ee4de727\" xlink:type=\"simple\"><rect fill=\"#FFFFFF\" height=\"45.9375\" id=\"E6\" rx=\"10\" ry=\"10\" style=\"stroke: #383838; stroke-width: 1.5;\" width=\"42\" x=\"58.5\" y=\"284\"/><text fill=\"#000000\" font-family=\"sans-serif\" font-size=\"12\" font-style=\"italic\" lengthAdjust=\"spacingAndGlyphs\" textLength=\"40\" x=\"59.5\" y=\"300.1387\">«part»</text><text fill=\"#000000\" font-family=\"sans-serif\" font-size=\"12\" lengthAdjust=\"spacingAndGlyphs\" textLength=\"23\" x=\"68\" y=\"314.1074\">c: P</text><line style=\"stroke: #383838; stroke-width: 1.5;\" x1=\"59.5\" x2=\"99.5\" y1=\"321.9375\" y2=\"321.9375\"/></a><!--MD5=[2156ba9850f5573cc1fc38a6a4b2f02b]\n",
       "class E7--><a href=\"psysml:c41308c3-3ab4-4c95-8873-b6daf8742442\" target=\"_top\" title=\"psysml:c41308c3-3ab4-4c95-8873-b6daf8742442\" xlink:actuate=\"onRequest\" xlink:href=\"psysml:c41308c3-3ab4-4c95-8873-b6daf8742442\" xlink:show=\"new\" xlink:title=\"psysml:c41308c3-3ab4-4c95-8873-b6daf8742442\" xlink:type=\"simple\"><rect fill=\"#FFFFFF\" height=\"45.9375\" id=\"E7\" rx=\"10\" ry=\"10\" style=\"stroke: #383838; stroke-width: 1.5;\" width=\"42\" x=\"58.5\" y=\"365\"/><text fill=\"#000000\" font-family=\"sans-serif\" font-size=\"12\" font-style=\"italic\" lengthAdjust=\"spacingAndGlyphs\" textLength=\"40\" x=\"59.5\" y=\"381.1387\">«part»</text><text fill=\"#000000\" font-family=\"sans-serif\" font-size=\"12\" lengthAdjust=\"spacingAndGlyphs\" textLength=\"8\" x=\"75.5\" y=\"395.1074\">d</text><line style=\"stroke: #383838; stroke-width: 1.5;\" x1=\"59.5\" x2=\"99.5\" y1=\"402.9375\" y2=\"402.9375\"/></a><!--MD5=[b9389687b975829384b498ac4b7476b2]\n",
       "class E8--><a href=\"psysml:4786ae2f-f4fb-4524-a996-e764bd48b2ea\" target=\"_top\" title=\"psysml:4786ae2f-f4fb-4524-a996-e764bd48b2ea\" xlink:actuate=\"onRequest\" xlink:href=\"psysml:4786ae2f-f4fb-4524-a996-e764bd48b2ea\" xlink:show=\"new\" xlink:title=\"psysml:4786ae2f-f4fb-4524-a996-e764bd48b2ea\" xlink:type=\"simple\"><rect fill=\"#FFFFFF\" height=\"45.9375\" id=\"E8\" rx=\"10\" ry=\"10\" style=\"stroke: #383838; stroke-width: 1.5;\" width=\"42\" x=\"58.5\" y=\"446\"/><text fill=\"#000000\" font-family=\"sans-serif\" font-size=\"12\" font-style=\"italic\" lengthAdjust=\"spacingAndGlyphs\" textLength=\"40\" x=\"59.5\" y=\"462.1387\">«part»</text><text fill=\"#000000\" font-family=\"sans-serif\" font-size=\"12\" lengthAdjust=\"spacingAndGlyphs\" textLength=\"8\" x=\"75.5\" y=\"476.1074\">e</text><line style=\"stroke: #383838; stroke-width: 1.5;\" x1=\"59.5\" x2=\"99.5\" y1=\"483.9375\" y2=\"483.9375\"/></a><!--MD5=[fd4143e9d270a159db93a4ea2a975926]\n",
       "class E9--><a href=\"psysml:f4778415-89ee-45ef-90f6-0fdee23f5f44\" target=\"_top\" title=\"psysml:f4778415-89ee-45ef-90f6-0fdee23f5f44\" xlink:actuate=\"onRequest\" xlink:href=\"psysml:f4778415-89ee-45ef-90f6-0fdee23f5f44\" xlink:show=\"new\" xlink:title=\"psysml:f4778415-89ee-45ef-90f6-0fdee23f5f44\" xlink:type=\"simple\"><rect fill=\"#FFFFFF\" height=\"45.9375\" id=\"E9\" rx=\"10\" ry=\"10\" style=\"stroke: #383838; stroke-width: 1.5;\" width=\"42\" x=\"58.5\" y=\"527\"/><text fill=\"#000000\" font-family=\"sans-serif\" font-size=\"12\" font-style=\"italic\" lengthAdjust=\"spacingAndGlyphs\" textLength=\"40\" x=\"59.5\" y=\"543.1387\">«part»</text><text fill=\"#000000\" font-family=\"sans-serif\" font-size=\"12\" lengthAdjust=\"spacingAndGlyphs\" textLength=\"4\" x=\"77.5\" y=\"557.1074\">f</text><line style=\"stroke: #383838; stroke-width: 1.5;\" x1=\"59.5\" x2=\"99.5\" y1=\"564.9375\" y2=\"564.9375\"/></a><!--MD5=[96f4274e9e20536e775497830990834d]\n",
       "class E10--><a href=\"psysml:54ce765f-cd4b-40e3-bd55-528058a48d88\" target=\"_top\" title=\"psysml:54ce765f-cd4b-40e3-bd55-528058a48d88\" xlink:actuate=\"onRequest\" xlink:href=\"psysml:54ce765f-cd4b-40e3-bd55-528058a48d88\" xlink:show=\"new\" xlink:title=\"psysml:54ce765f-cd4b-40e3-bd55-528058a48d88\" xlink:type=\"simple\"><rect fill=\"#FFFFFF\" height=\"45.9375\" id=\"E10\" rx=\"10\" ry=\"10\" style=\"stroke: #383838; stroke-width: 1.5;\" width=\"42\" x=\"58.5\" y=\"608\"/><text fill=\"#000000\" font-family=\"sans-serif\" font-size=\"12\" font-style=\"italic\" lengthAdjust=\"spacingAndGlyphs\" textLength=\"40\" x=\"59.5\" y=\"624.1387\">«part»</text><text fill=\"#000000\" font-family=\"sans-serif\" font-size=\"12\" lengthAdjust=\"spacingAndGlyphs\" textLength=\"8\" x=\"75.5\" y=\"638.1074\">g</text><line style=\"stroke: #383838; stroke-width: 1.5;\" x1=\"59.5\" x2=\"99.5\" y1=\"645.9375\" y2=\"645.9375\"/></a><!--MD5=[1dd1bfd58a279cf63c5f349dbc8fc6a1]\n",
       "class E11--><a href=\"psysml:39471be4-e308-48bc-96c2-d92b434b60c0\" target=\"_top\" title=\"psysml:39471be4-e308-48bc-96c2-d92b434b60c0\" xlink:actuate=\"onRequest\" xlink:href=\"psysml:39471be4-e308-48bc-96c2-d92b434b60c0\" xlink:show=\"new\" xlink:title=\"psysml:39471be4-e308-48bc-96c2-d92b434b60c0\" xlink:type=\"simple\"><rect fill=\"#FFFFFF\" height=\"88.3516\" id=\"E11\" style=\"stroke: #383838; stroke-width: 1.5;\" width=\"95\" x=\"32\" y=\"689\"/><text fill=\"#000000\" font-family=\"sans-serif\" font-size=\"12\" font-style=\"italic\" lengthAdjust=\"spacingAndGlyphs\" textLength=\"93\" x=\"33\" y=\"705.1387\">«attribute def»</text><text fill=\"#000000\" font-family=\"sans-serif\" font-size=\"12\" lengthAdjust=\"spacingAndGlyphs\" textLength=\"8\" x=\"75.5\" y=\"719.1074\">A</text><line style=\"stroke: #383838; stroke-width: 1.5;\" x1=\"33\" x2=\"126\" y1=\"726.9375\" y2=\"726.9375\"/><text fill=\"#000000\" font-family=\"sans-serif\" font-size=\"11\" lengthAdjust=\"spacingAndGlyphs\" textLength=\"51\" x=\"38\" y=\"757.9526\">i: Integer</text><text fill=\"#000000\" font-family=\"sans-serif\" font-size=\"11\" lengthAdjust=\"spacingAndGlyphs\" textLength=\"21\" x=\"38\" y=\"770.7573\">x: A</text><line style=\"stroke: #383838; stroke-width: 1.0;\" x1=\"33\" x2=\"52\" y1=\"741.3398\" y2=\"741.3398\"/><text fill=\"#000000\" font-family=\"sans-serif\" font-size=\"11\" lengthAdjust=\"spacingAndGlyphs\" textLength=\"55\" x=\"52\" y=\"744.6479\">attributes</text><line style=\"stroke: #383838; stroke-width: 1.0;\" x1=\"107\" x2=\"126\" y1=\"741.3398\" y2=\"741.3398\"/></a><!--MD5=[15ebcb19ae302d9b601edb458606d402]\n",
       "link E5 to E2--><a href=\"psysml:911f47bc-487d-4cbf-bcdd-94eeba00c89c\" target=\"_top\" title=\"psysml:911f47bc-487d-4cbf-bcdd-94eeba00c89c\" xlink:actuate=\"onRequest\" xlink:href=\"psysml:911f47bc-487d-4cbf-bcdd-94eeba00c89c\" xlink:show=\"new\" xlink:title=\"psysml:911f47bc-487d-4cbf-bcdd-94eeba00c89c\" xlink:type=\"simple\"><path d=\"M100.64,231.96 C118.11,237.13 144.16,244.84 167.38,251.72 \" fill=\"none\" id=\"E5-&gt;E2\" style=\"stroke: #383838; stroke-width: 1.0;\"/><polygon fill=\"#FFFFFF\" points=\"186.77,257.46,166.5639,258.7688,170.5445,245.3466,186.77,257.46\" style=\"stroke: #383838; stroke-width: 1.0;\"/><ellipse cx=\"161.6678\" cy=\"255.2306\" fill=\"#383838\" rx=\"2\" ry=\"2\" style=\"stroke: #383838; stroke-width: 1.0;\"/><ellipse cx=\"164.5111\" cy=\"245.6434\" fill=\"#383838\" rx=\"2\" ry=\"2\" style=\"stroke: #383838; stroke-width: 1.0;\"/></a><!--MD5=[2351f337d6de0f557b50152ba70847b5]\n",
       "link E6 to E2--><a href=\"psysml:5d978d49-3aad-49b2-9a30-3bd5979ae9aa\" target=\"_top\" title=\"psysml:5d978d49-3aad-49b2-9a30-3bd5979ae9aa\" xlink:actuate=\"onRequest\" xlink:href=\"psysml:5d978d49-3aad-49b2-9a30-3bd5979ae9aa\" xlink:show=\"new\" xlink:title=\"psysml:5d978d49-3aad-49b2-9a30-3bd5979ae9aa\" xlink:type=\"simple\"><path d=\"M100.64,301.18 C118.11,296.14 144.16,288.61 167.38,281.91 \" fill=\"none\" id=\"E6-&gt;E2\" style=\"stroke: #383838; stroke-width: 1.0;\"/><polygon fill=\"#FFFFFF\" points=\"186.77,276.31,170.4629,288.3132,166.5732,274.8644,186.77,276.31\" style=\"stroke: #383838; stroke-width: 1.0;\"/><ellipse cx=\"164.4316\" cy=\"287.9756\" fill=\"#383838\" rx=\"2\" ry=\"2\" style=\"stroke: #383838; stroke-width: 1.0;\"/><ellipse cx=\"161.6533\" cy=\"278.3693\" fill=\"#383838\" rx=\"2\" ry=\"2\" style=\"stroke: #383838; stroke-width: 1.0;\"/></a><!--MD5=[561349ecffe2ffbd0b63cae2cf4ce1c4]\n",
       "@startuml\r\n",
       "left to right direction\r\n",
       "skinparam monochrome true\r\n",
       "skinparam classbackgroundcolor white\r\n",
       "skinparam shadowing false\r\n",
       "skinparam wrapWidth 300\r\n",
       "hide circle\r\n",
       "\r\n",
       "package \"MultiplicityTest\" as E1  [[psysml:0be6947d-aa66-4017-a009-04bc0f7b30c5 ]]  {\r\n",
       "comp def \"P\" as E2  <<(T,blue)part def>> [[psysml:9ab3d3ff-483c-4e41-ada7-ab2d8c979da0 ]] {\r\n",
       "}\r\n",
       "comp usage \"n: Integer\" as E3  <<(T,blue)attribute>> [[psysml:bb4f0587-9240-4f5c-8b68-755ceb30f0e1 ]] {\r\n",
       "}\r\n",
       "comp usage \"a\" as E4  <<(T,blue)part>> [[psysml:9d5a91ec-9b15-487c-8680-11258af91cb9 ]] {\r\n",
       "}\r\n",
       "comp usage \"b: P\" as E5  <<(T,blue)part>> [[psysml:0e6ddf84-4c23-42ff-8adf-60418e76591d ]] {\r\n",
       "}\r\n",
       "comp usage \"c: P\" as E6  <<(T,blue)part>> [[psysml:7a390bd1-339b-4feb-982b-b3a6ee4de727 ]] {\r\n",
       "}\r\n",
       "comp usage \"d\" as E7  <<(T,blue)part>> [[psysml:c41308c3-3ab4-4c95-8873-b6daf8742442 ]] {\r\n",
       "}\r\n",
       "comp usage \"e\" as E8  <<(T,blue)part>> [[psysml:4786ae2f-f4fb-4524-a996-e764bd48b2ea ]] {\r\n",
       "}\r\n",
       "comp usage \"f\" as E9  <<(T,blue)part>> [[psysml:f4778415-89ee-45ef-90f6-0fdee23f5f44 ]] {\r\n",
       "}\r\n",
       "comp usage \"g\" as E10  <<(T,blue)part>> [[psysml:54ce765f-cd4b-40e3-bd55-528058a48d88 ]] {\r\n",
       "}\r\n",
       "comp def \"A\" as E11  <<(T,blue)attribute def>> [[psysml:39471be4-e308-48bc-96c2-d92b434b60c0 ]] {\r\n",
       "- - attributes - -\r\n",
       "i: Integer\r\n",
       "x: A\r\n",
       "}\r\n",
       "E5 - -:|> E2 [[psysml:911f47bc-487d-4cbf-bcdd-94eeba00c89c ]] \r\n",
       "E6 - -:|> E2 [[psysml:5d978d49-3aad-49b2-9a30-3bd5979ae9aa ]] \r\n",
       "}\r\n",
       "@enduml\r\n",
       "\n",
       "PlantUML version 1.2020.13(Sat Jun 13 12:26:38 UTC 2020)\n",
       "(EPL source distribution)\n",
       "Java Runtime: OpenJDK Runtime Environment\n",
       "JVM: OpenJDK 64-Bit Server VM\n",
       "Default Encoding: UTF-8\n",
       "Language: en\n",
       "Country: null\n",
       "--></g></svg>"
      ]
     },
     "execution_count": 22,
     "metadata": {},
     "output_type": "execute_result"
    }
   ],
   "source": [
    "%viz --style=\"LR\" --view=\"MIXED\" \"MultiplicityTest\""
   ]
  },
  {
   "cell_type": "code",
   "execution_count": 23,
   "id": "5ff29790",
   "metadata": {
    "execution": {
     "iopub.execute_input": "2021-04-21T20:26:43.187700Z",
     "iopub.status.busy": "2021-04-21T20:26:43.186964Z",
     "iopub.status.idle": "2021-04-21T20:26:43.234690Z",
     "shell.execute_reply": "2021-04-21T20:26:43.233279Z"
    }
   },
   "outputs": [
    {
     "data": {
      "image/svg+xml": [
       "<?xml version=\"1.0\" encoding=\"UTF-8\" standalone=\"no\"?><svg xmlns=\"http://www.w3.org/2000/svg\" xmlns:xlink=\"http://www.w3.org/1999/xlink\" contentScriptType=\"application/ecmascript\" contentStyleType=\"text/css\" height=\"247px\" preserveAspectRatio=\"none\" style=\"width:812px;height:247px;\" version=\"1.1\" viewBox=\"0 0 812 247\" width=\"812px\" zoomAndPan=\"magnify\"><defs><filter height=\"300%\" id=\"f5m9q3em8wu7s\" width=\"300%\" x=\"-1\" y=\"-1\"><feGaussianBlur result=\"blurOut\" stdDeviation=\"2.0\"/><feColorMatrix in=\"blurOut\" result=\"blurOut2\" type=\"matrix\" values=\"0 0 0 0 0 0 0 0 0 0 0 0 0 0 0 0 0 0 .4 0\"/><feOffset dx=\"4.0\" dy=\"4.0\" in=\"blurOut2\" result=\"blurOut3\"/><feBlend in=\"SourceGraphic\" in2=\"blurOut3\" mode=\"normal\"/></filter></defs><g><!--MD5=[fbc87193dbaf4d95561dea2c320d4a47]\n",
       "cluster E1--><a href=\"psysml:0be6947d-aa66-4017-a009-04bc0f7b30c5\" target=\"_top\" title=\"psysml:0be6947d-aa66-4017-a009-04bc0f7b30c5\" xlink:actuate=\"onRequest\" xlink:href=\"psysml:0be6947d-aa66-4017-a009-04bc0f7b30c5\" xlink:show=\"new\" xlink:title=\"psysml:0be6947d-aa66-4017-a009-04bc0f7b30c5\" xlink:type=\"simple\"><polygon fill=\"#FFFFFF\" filter=\"url(#f5m9q3em8wu7s)\" points=\"16,6,140,6,147,28.2969,790,28.2969,790,235,16,235,16,6\" style=\"stroke: #000000; stroke-width: 1.5;\"/><line style=\"stroke: #000000; stroke-width: 1.5;\" x1=\"16\" x2=\"147\" y1=\"28.2969\" y2=\"28.2969\"/><text fill=\"#000000\" font-family=\"sans-serif\" font-size=\"14\" font-weight=\"bold\" lengthAdjust=\"spacingAndGlyphs\" textLength=\"118\" x=\"20\" y=\"20.9951\">MultiplicityTest</text></a><!--MD5=[b4997ac47864f28c2f74865a473b2911]\n",
       "class E2--><a href=\"psysml:9ab3d3ff-483c-4e41-ada7-ab2d8c979da0\" target=\"_top\" title=\"psysml:9ab3d3ff-483c-4e41-ada7-ab2d8c979da0\" xlink:actuate=\"onRequest\" xlink:href=\"psysml:9ab3d3ff-483c-4e41-ada7-ab2d8c979da0\" xlink:show=\"new\" xlink:title=\"psysml:9ab3d3ff-483c-4e41-ada7-ab2d8c979da0\" xlink:type=\"simple\"><rect fill=\"#FEFECE\" filter=\"url(#f5m9q3em8wu7s)\" height=\"45.9375\" id=\"E2\" style=\"stroke: #A80036; stroke-width: 1.5;\" width=\"66\" x=\"497\" y=\"173\"/><text fill=\"#000000\" font-family=\"sans-serif\" font-size=\"12\" font-style=\"italic\" lengthAdjust=\"spacingAndGlyphs\" textLength=\"64\" x=\"498\" y=\"189.1387\">«part def»</text><text fill=\"#000000\" font-family=\"sans-serif\" font-size=\"12\" lengthAdjust=\"spacingAndGlyphs\" textLength=\"8\" x=\"526\" y=\"203.1074\">P</text><line style=\"stroke: #A80036; stroke-width: 1.5;\" x1=\"498\" x2=\"562\" y1=\"210.9375\" y2=\"210.9375\"/></a><!--MD5=[09b614a08d8cba4a07c9adeb5e0fee81]\n",
       "class E3--><a href=\"psysml:bb4f0587-9240-4f5c-8b68-755ceb30f0e1\" target=\"_top\" title=\"psysml:bb4f0587-9240-4f5c-8b68-755ceb30f0e1\" xlink:actuate=\"onRequest\" xlink:href=\"psysml:bb4f0587-9240-4f5c-8b68-755ceb30f0e1\" xlink:show=\"new\" xlink:title=\"psysml:bb4f0587-9240-4f5c-8b68-755ceb30f0e1\" xlink:type=\"simple\"><rect fill=\"#FEFECE\" filter=\"url(#f5m9q3em8wu7s)\" height=\"45.9375\" id=\"E3\" rx=\"10\" ry=\"10\" style=\"stroke: #A80036; stroke-width: 1.5;\" width=\"71\" x=\"702.5\" y=\"54\"/><text fill=\"#000000\" font-family=\"sans-serif\" font-size=\"12\" font-style=\"italic\" lengthAdjust=\"spacingAndGlyphs\" textLength=\"69\" x=\"703.5\" y=\"70.1387\">«attribute»</text><text fill=\"#000000\" font-family=\"sans-serif\" font-size=\"12\" lengthAdjust=\"spacingAndGlyphs\" textLength=\"61\" x=\"707.5\" y=\"84.1074\">n: Integer</text><line style=\"stroke: #A80036; stroke-width: 1.5;\" x1=\"703.5\" x2=\"772.5\" y1=\"91.9375\" y2=\"91.9375\"/></a><!--MD5=[ebbe1d658d1005bcc118a6aa81145e00]\n",
       "class E4--><a href=\"psysml:9d5a91ec-9b15-487c-8680-11258af91cb9\" target=\"_top\" title=\"psysml:9d5a91ec-9b15-487c-8680-11258af91cb9\" xlink:actuate=\"onRequest\" xlink:href=\"psysml:9d5a91ec-9b15-487c-8680-11258af91cb9\" xlink:show=\"new\" xlink:title=\"psysml:9d5a91ec-9b15-487c-8680-11258af91cb9\" xlink:type=\"simple\"><rect fill=\"#FEFECE\" filter=\"url(#f5m9q3em8wu7s)\" height=\"45.9375\" id=\"E4\" rx=\"10\" ry=\"10\" style=\"stroke: #A80036; stroke-width: 1.5;\" width=\"42\" x=\"625\" y=\"54\"/><text fill=\"#000000\" font-family=\"sans-serif\" font-size=\"12\" font-style=\"italic\" lengthAdjust=\"spacingAndGlyphs\" textLength=\"40\" x=\"626\" y=\"70.1387\">«part»</text><text fill=\"#000000\" font-family=\"sans-serif\" font-size=\"12\" lengthAdjust=\"spacingAndGlyphs\" textLength=\"8\" x=\"642\" y=\"84.1074\">a</text><line style=\"stroke: #A80036; stroke-width: 1.5;\" x1=\"626\" x2=\"666\" y1=\"91.9375\" y2=\"91.9375\"/></a><!--MD5=[270fce915f116d4de14055a7c1d9a0f3]\n",
       "class E5--><a href=\"psysml:0e6ddf84-4c23-42ff-8adf-60418e76591d\" target=\"_top\" title=\"psysml:0e6ddf84-4c23-42ff-8adf-60418e76591d\" xlink:actuate=\"onRequest\" xlink:href=\"psysml:0e6ddf84-4c23-42ff-8adf-60418e76591d\" xlink:show=\"new\" xlink:title=\"psysml:0e6ddf84-4c23-42ff-8adf-60418e76591d\" xlink:type=\"simple\"><rect fill=\"#FEFECE\" filter=\"url(#f5m9q3em8wu7s)\" height=\"45.9375\" id=\"E5\" rx=\"10\" ry=\"10\" style=\"stroke: #A80036; stroke-width: 1.5;\" width=\"42\" x=\"548\" y=\"54\"/><text fill=\"#000000\" font-family=\"sans-serif\" font-size=\"12\" font-style=\"italic\" lengthAdjust=\"spacingAndGlyphs\" textLength=\"40\" x=\"549\" y=\"70.1387\">«part»</text><text fill=\"#000000\" font-family=\"sans-serif\" font-size=\"12\" lengthAdjust=\"spacingAndGlyphs\" textLength=\"24\" x=\"557\" y=\"84.1074\">b: P</text><line style=\"stroke: #A80036; stroke-width: 1.5;\" x1=\"549\" x2=\"589\" y1=\"91.9375\" y2=\"91.9375\"/></a><!--MD5=[60a26617385b1d2d0262a64233df1f8d]\n",
       "class E6--><a href=\"psysml:7a390bd1-339b-4feb-982b-b3a6ee4de727\" target=\"_top\" title=\"psysml:7a390bd1-339b-4feb-982b-b3a6ee4de727\" xlink:actuate=\"onRequest\" xlink:href=\"psysml:7a390bd1-339b-4feb-982b-b3a6ee4de727\" xlink:show=\"new\" xlink:title=\"psysml:7a390bd1-339b-4feb-982b-b3a6ee4de727\" xlink:type=\"simple\"><rect fill=\"#FEFECE\" filter=\"url(#f5m9q3em8wu7s)\" height=\"45.9375\" id=\"E6\" rx=\"10\" ry=\"10\" style=\"stroke: #A80036; stroke-width: 1.5;\" width=\"42\" x=\"471\" y=\"54\"/><text fill=\"#000000\" font-family=\"sans-serif\" font-size=\"12\" font-style=\"italic\" lengthAdjust=\"spacingAndGlyphs\" textLength=\"40\" x=\"472\" y=\"70.1387\">«part»</text><text fill=\"#000000\" font-family=\"sans-serif\" font-size=\"12\" lengthAdjust=\"spacingAndGlyphs\" textLength=\"23\" x=\"480.5\" y=\"84.1074\">c: P</text><line style=\"stroke: #A80036; stroke-width: 1.5;\" x1=\"472\" x2=\"512\" y1=\"91.9375\" y2=\"91.9375\"/></a><!--MD5=[2156ba9850f5573cc1fc38a6a4b2f02b]\n",
       "class E7--><a href=\"psysml:c41308c3-3ab4-4c95-8873-b6daf8742442\" target=\"_top\" title=\"psysml:c41308c3-3ab4-4c95-8873-b6daf8742442\" xlink:actuate=\"onRequest\" xlink:href=\"psysml:c41308c3-3ab4-4c95-8873-b6daf8742442\" xlink:show=\"new\" xlink:title=\"psysml:c41308c3-3ab4-4c95-8873-b6daf8742442\" xlink:type=\"simple\"><rect fill=\"#FEFECE\" filter=\"url(#f5m9q3em8wu7s)\" height=\"45.9375\" id=\"E7\" rx=\"10\" ry=\"10\" style=\"stroke: #A80036; stroke-width: 1.5;\" width=\"42\" x=\"394\" y=\"54\"/><text fill=\"#000000\" font-family=\"sans-serif\" font-size=\"12\" font-style=\"italic\" lengthAdjust=\"spacingAndGlyphs\" textLength=\"40\" x=\"395\" y=\"70.1387\">«part»</text><text fill=\"#000000\" font-family=\"sans-serif\" font-size=\"12\" lengthAdjust=\"spacingAndGlyphs\" textLength=\"8\" x=\"411\" y=\"84.1074\">d</text><line style=\"stroke: #A80036; stroke-width: 1.5;\" x1=\"395\" x2=\"435\" y1=\"91.9375\" y2=\"91.9375\"/></a><!--MD5=[b9389687b975829384b498ac4b7476b2]\n",
       "class E8--><a href=\"psysml:4786ae2f-f4fb-4524-a996-e764bd48b2ea\" target=\"_top\" title=\"psysml:4786ae2f-f4fb-4524-a996-e764bd48b2ea\" xlink:actuate=\"onRequest\" xlink:href=\"psysml:4786ae2f-f4fb-4524-a996-e764bd48b2ea\" xlink:show=\"new\" xlink:title=\"psysml:4786ae2f-f4fb-4524-a996-e764bd48b2ea\" xlink:type=\"simple\"><rect fill=\"#FEFECE\" filter=\"url(#f5m9q3em8wu7s)\" height=\"45.9375\" id=\"E8\" rx=\"10\" ry=\"10\" style=\"stroke: #A80036; stroke-width: 1.5;\" width=\"42\" x=\"317\" y=\"54\"/><text fill=\"#000000\" font-family=\"sans-serif\" font-size=\"12\" font-style=\"italic\" lengthAdjust=\"spacingAndGlyphs\" textLength=\"40\" x=\"318\" y=\"70.1387\">«part»</text><text fill=\"#000000\" font-family=\"sans-serif\" font-size=\"12\" lengthAdjust=\"spacingAndGlyphs\" textLength=\"8\" x=\"334\" y=\"84.1074\">e</text><line style=\"stroke: #A80036; stroke-width: 1.5;\" x1=\"318\" x2=\"358\" y1=\"91.9375\" y2=\"91.9375\"/></a><!--MD5=[fd4143e9d270a159db93a4ea2a975926]\n",
       "class E9--><a href=\"psysml:f4778415-89ee-45ef-90f6-0fdee23f5f44\" target=\"_top\" title=\"psysml:f4778415-89ee-45ef-90f6-0fdee23f5f44\" xlink:actuate=\"onRequest\" xlink:href=\"psysml:f4778415-89ee-45ef-90f6-0fdee23f5f44\" xlink:show=\"new\" xlink:title=\"psysml:f4778415-89ee-45ef-90f6-0fdee23f5f44\" xlink:type=\"simple\"><rect fill=\"#FEFECE\" filter=\"url(#f5m9q3em8wu7s)\" height=\"45.9375\" id=\"E9\" rx=\"10\" ry=\"10\" style=\"stroke: #A80036; stroke-width: 1.5;\" width=\"42\" x=\"240\" y=\"54\"/><text fill=\"#000000\" font-family=\"sans-serif\" font-size=\"12\" font-style=\"italic\" lengthAdjust=\"spacingAndGlyphs\" textLength=\"40\" x=\"241\" y=\"70.1387\">«part»</text><text fill=\"#000000\" font-family=\"sans-serif\" font-size=\"12\" lengthAdjust=\"spacingAndGlyphs\" textLength=\"4\" x=\"259\" y=\"84.1074\">f</text><line style=\"stroke: #A80036; stroke-width: 1.5;\" x1=\"241\" x2=\"281\" y1=\"91.9375\" y2=\"91.9375\"/></a><!--MD5=[96f4274e9e20536e775497830990834d]\n",
       "class E10--><a href=\"psysml:54ce765f-cd4b-40e3-bd55-528058a48d88\" target=\"_top\" title=\"psysml:54ce765f-cd4b-40e3-bd55-528058a48d88\" xlink:actuate=\"onRequest\" xlink:href=\"psysml:54ce765f-cd4b-40e3-bd55-528058a48d88\" xlink:show=\"new\" xlink:title=\"psysml:54ce765f-cd4b-40e3-bd55-528058a48d88\" xlink:type=\"simple\"><rect fill=\"#FEFECE\" filter=\"url(#f5m9q3em8wu7s)\" height=\"45.9375\" id=\"E10\" rx=\"10\" ry=\"10\" style=\"stroke: #A80036; stroke-width: 1.5;\" width=\"42\" x=\"163\" y=\"54\"/><text fill=\"#000000\" font-family=\"sans-serif\" font-size=\"12\" font-style=\"italic\" lengthAdjust=\"spacingAndGlyphs\" textLength=\"40\" x=\"164\" y=\"70.1387\">«part»</text><text fill=\"#000000\" font-family=\"sans-serif\" font-size=\"12\" lengthAdjust=\"spacingAndGlyphs\" textLength=\"8\" x=\"180\" y=\"84.1074\">g</text><line style=\"stroke: #A80036; stroke-width: 1.5;\" x1=\"164\" x2=\"204\" y1=\"91.9375\" y2=\"91.9375\"/></a><!--MD5=[1dd1bfd58a279cf63c5f349dbc8fc6a1]\n",
       "class E11--><a href=\"psysml:39471be4-e308-48bc-96c2-d92b434b60c0\" target=\"_top\" title=\"psysml:39471be4-e308-48bc-96c2-d92b434b60c0\" xlink:actuate=\"onRequest\" xlink:href=\"psysml:39471be4-e308-48bc-96c2-d92b434b60c0\" xlink:show=\"new\" xlink:title=\"psysml:39471be4-e308-48bc-96c2-d92b434b60c0\" xlink:type=\"simple\"><rect fill=\"#FEFECE\" filter=\"url(#f5m9q3em8wu7s)\" height=\"71.5469\" id=\"E11\" style=\"stroke: #A80036; stroke-width: 1.5;\" width=\"95\" x=\"32.5\" y=\"41\"/><text fill=\"#000000\" font-family=\"sans-serif\" font-size=\"12\" font-style=\"italic\" lengthAdjust=\"spacingAndGlyphs\" textLength=\"93\" x=\"33.5\" y=\"57.1387\">«attribute def»</text><text fill=\"#000000\" font-family=\"sans-serif\" font-size=\"12\" lengthAdjust=\"spacingAndGlyphs\" textLength=\"8\" x=\"76\" y=\"71.1074\">A</text><line style=\"stroke: #A80036; stroke-width: 1.5;\" x1=\"33.5\" x2=\"126.5\" y1=\"78.9375\" y2=\"78.9375\"/><text fill=\"#000000\" font-family=\"sans-serif\" font-size=\"11\" lengthAdjust=\"spacingAndGlyphs\" textLength=\"51\" x=\"38.5\" y=\"93.1479\">i: Integer</text><text fill=\"#000000\" font-family=\"sans-serif\" font-size=\"11\" lengthAdjust=\"spacingAndGlyphs\" textLength=\"21\" x=\"38.5\" y=\"105.9526\">x: A</text></a><!--MD5=[15ebcb19ae302d9b601edb458606d402]\n",
       "link E5 to E2--><a href=\"psysml:911f47bc-487d-4cbf-bcdd-94eeba00c89c\" target=\"_top\" title=\"psysml:911f47bc-487d-4cbf-bcdd-94eeba00c89c\" xlink:actuate=\"onRequest\" xlink:href=\"psysml:911f47bc-487d-4cbf-bcdd-94eeba00c89c\" xlink:show=\"new\" xlink:title=\"psysml:911f47bc-487d-4cbf-bcdd-94eeba00c89c\" xlink:type=\"simple\"><path d=\"M561.66,100.01 C556.63,115.11 549.8,135.61 543.76,153.71 \" fill=\"none\" id=\"E5-&gt;E2\" style=\"stroke: #A80036; stroke-width: 1.0;\"/><polygon fill=\"#FFFFFF\" points=\"537.44,172.69,536.7984,152.4517,550.082,156.8729,537.44,172.69\" style=\"stroke: #A80036; stroke-width: 1.0;\"/><ellipse cx=\"540.4961\" cy=\"147.675\" fill=\"#A80036\" rx=\"2\" ry=\"2\" style=\"stroke: #A80036; stroke-width: 1.0;\"/><ellipse cx=\"549.9844\" cy=\"150.833\" fill=\"#A80036\" rx=\"2\" ry=\"2\" style=\"stroke: #A80036; stroke-width: 1.0;\"/></a><!--MD5=[2351f337d6de0f557b50152ba70847b5]\n",
       "link E6 to E2--><a href=\"psysml:5d978d49-3aad-49b2-9a30-3bd5979ae9aa\" target=\"_top\" title=\"psysml:5d978d49-3aad-49b2-9a30-3bd5979ae9aa\" xlink:actuate=\"onRequest\" xlink:href=\"psysml:5d978d49-3aad-49b2-9a30-3bd5979ae9aa\" xlink:show=\"new\" xlink:title=\"psysml:5d978d49-3aad-49b2-9a30-3bd5979ae9aa\" xlink:type=\"simple\"><path d=\"M499.15,100.01 C504.03,115.03 510.64,135.39 516.49,153.41 \" fill=\"none\" id=\"E6-&gt;E2\" style=\"stroke: #A80036; stroke-width: 1.0;\"/><polygon fill=\"#FFFFFF\" points=\"522.76,172.69,510.2363,156.7791,523.5525,152.4571,522.76,172.69\" style=\"stroke: #A80036; stroke-width: 1.0;\"/><ellipse cx=\"510.379\" cy=\"150.74\" fill=\"#A80036\" rx=\"2\" ry=\"2\" style=\"stroke: #A80036; stroke-width: 1.0;\"/><ellipse cx=\"519.8905\" cy=\"147.6529\" fill=\"#A80036\" rx=\"2\" ry=\"2\" style=\"stroke: #A80036; stroke-width: 1.0;\"/></a><!--MD5=[86b82f1b56c9a2ccaada8194c0ef3cb3]\n",
       "@startuml\r\n",
       "skinparam wrapWidth 300\r\n",
       "hide circle\r\n",
       "\r\n",
       "package \"MultiplicityTest\" as E1  [[psysml:0be6947d-aa66-4017-a009-04bc0f7b30c5 ]]  {\r\n",
       "comp def \"P\" as E2  <<(T,blue)part def>> [[psysml:9ab3d3ff-483c-4e41-ada7-ab2d8c979da0 ]] {\r\n",
       "}\r\n",
       "comp usage \"n: Integer\" as E3  <<(T,blue)attribute>> [[psysml:bb4f0587-9240-4f5c-8b68-755ceb30f0e1 ]] {\r\n",
       "}\r\n",
       "comp usage \"a\" as E4  <<(T,blue)part>> [[psysml:9d5a91ec-9b15-487c-8680-11258af91cb9 ]] {\r\n",
       "}\r\n",
       "comp usage \"b: P\" as E5  <<(T,blue)part>> [[psysml:0e6ddf84-4c23-42ff-8adf-60418e76591d ]] {\r\n",
       "}\r\n",
       "comp usage \"c: P\" as E6  <<(T,blue)part>> [[psysml:7a390bd1-339b-4feb-982b-b3a6ee4de727 ]] {\r\n",
       "}\r\n",
       "comp usage \"d\" as E7  <<(T,blue)part>> [[psysml:c41308c3-3ab4-4c95-8873-b6daf8742442 ]] {\r\n",
       "}\r\n",
       "comp usage \"e\" as E8  <<(T,blue)part>> [[psysml:4786ae2f-f4fb-4524-a996-e764bd48b2ea ]] {\r\n",
       "}\r\n",
       "comp usage \"f\" as E9  <<(T,blue)part>> [[psysml:f4778415-89ee-45ef-90f6-0fdee23f5f44 ]] {\r\n",
       "}\r\n",
       "comp usage \"g\" as E10  <<(T,blue)part>> [[psysml:54ce765f-cd4b-40e3-bd55-528058a48d88 ]] {\r\n",
       "}\r\n",
       "comp def \"A\" as E11  <<(T,blue)attribute def>> [[psysml:39471be4-e308-48bc-96c2-d92b434b60c0 ]] {\r\n",
       "i: Integer\r\n",
       "x: A\r\n",
       "}\r\n",
       "E5 - -:|> E2 [[psysml:911f47bc-487d-4cbf-bcdd-94eeba00c89c ]] \r\n",
       "E6 - -:|> E2 [[psysml:5d978d49-3aad-49b2-9a30-3bd5979ae9aa ]] \r\n",
       "}\r\n",
       "@enduml\r\n",
       "\n",
       "PlantUML version 1.2020.13(Sat Jun 13 12:26:38 UTC 2020)\n",
       "(EPL source distribution)\n",
       "Java Runtime: OpenJDK Runtime Environment\n",
       "JVM: OpenJDK 64-Bit Server VM\n",
       "Default Encoding: UTF-8\n",
       "Language: en\n",
       "Country: null\n",
       "--></g></svg>"
      ]
     },
     "execution_count": 23,
     "metadata": {},
     "output_type": "execute_result"
    }
   ],
   "source": [
    "%viz --style=\"STDCOLOR\" --view=\"Default\" \"MultiplicityTest\""
   ]
  },
  {
   "cell_type": "code",
   "execution_count": 24,
   "id": "c16f9343",
   "metadata": {
    "execution": {
     "iopub.execute_input": "2021-04-21T20:26:43.284904Z",
     "iopub.status.busy": "2021-04-21T20:26:43.284505Z",
     "iopub.status.idle": "2021-04-21T20:26:43.323542Z",
     "shell.execute_reply": "2021-04-21T20:26:43.323226Z"
    }
   },
   "outputs": [
    {
     "data": {
      "image/svg+xml": [
       "<?xml version=\"1.0\" encoding=\"UTF-8\" standalone=\"no\"?><svg xmlns=\"http://www.w3.org/2000/svg\" xmlns:xlink=\"http://www.w3.org/1999/xlink\" contentScriptType=\"application/ecmascript\" contentStyleType=\"text/css\" height=\"247px\" preserveAspectRatio=\"none\" style=\"width:812px;height:247px;\" version=\"1.1\" viewBox=\"0 0 812 247\" width=\"812px\" zoomAndPan=\"magnify\"><defs><filter height=\"300%\" id=\"f5m9q3em8wu7s\" width=\"300%\" x=\"-1\" y=\"-1\"><feGaussianBlur result=\"blurOut\" stdDeviation=\"2.0\"/><feColorMatrix in=\"blurOut\" result=\"blurOut2\" type=\"matrix\" values=\"0 0 0 0 0 0 0 0 0 0 0 0 0 0 0 0 0 0 .4 0\"/><feOffset dx=\"4.0\" dy=\"4.0\" in=\"blurOut2\" result=\"blurOut3\"/><feBlend in=\"SourceGraphic\" in2=\"blurOut3\" mode=\"normal\"/></filter></defs><g><!--MD5=[fbc87193dbaf4d95561dea2c320d4a47]\n",
       "cluster E1--><a href=\"psysml:0be6947d-aa66-4017-a009-04bc0f7b30c5\" target=\"_top\" title=\"psysml:0be6947d-aa66-4017-a009-04bc0f7b30c5\" xlink:actuate=\"onRequest\" xlink:href=\"psysml:0be6947d-aa66-4017-a009-04bc0f7b30c5\" xlink:show=\"new\" xlink:title=\"psysml:0be6947d-aa66-4017-a009-04bc0f7b30c5\" xlink:type=\"simple\"><polygon fill=\"#FFFFFF\" filter=\"url(#f5m9q3em8wu7s)\" points=\"16,6,140,6,147,28.2969,790,28.2969,790,235,16,235,16,6\" style=\"stroke: #000000; stroke-width: 1.5;\"/><line style=\"stroke: #000000; stroke-width: 1.5;\" x1=\"16\" x2=\"147\" y1=\"28.2969\" y2=\"28.2969\"/><text fill=\"#000000\" font-family=\"sans-serif\" font-size=\"14\" font-weight=\"bold\" lengthAdjust=\"spacingAndGlyphs\" textLength=\"118\" x=\"20\" y=\"20.9951\">MultiplicityTest</text></a><!--MD5=[b4997ac47864f28c2f74865a473b2911]\n",
       "class E2--><a href=\"psysml:9ab3d3ff-483c-4e41-ada7-ab2d8c979da0\" target=\"_top\" title=\"psysml:9ab3d3ff-483c-4e41-ada7-ab2d8c979da0\" xlink:actuate=\"onRequest\" xlink:href=\"psysml:9ab3d3ff-483c-4e41-ada7-ab2d8c979da0\" xlink:show=\"new\" xlink:title=\"psysml:9ab3d3ff-483c-4e41-ada7-ab2d8c979da0\" xlink:type=\"simple\"><rect fill=\"#FEFECE\" filter=\"url(#f5m9q3em8wu7s)\" height=\"45.9375\" id=\"E2\" style=\"stroke: #A80036; stroke-width: 1.5;\" width=\"66\" x=\"497\" y=\"173\"/><text fill=\"#000000\" font-family=\"sans-serif\" font-size=\"12\" font-style=\"italic\" lengthAdjust=\"spacingAndGlyphs\" textLength=\"64\" x=\"498\" y=\"189.1387\">«part def»</text><text fill=\"#000000\" font-family=\"sans-serif\" font-size=\"12\" lengthAdjust=\"spacingAndGlyphs\" textLength=\"8\" x=\"526\" y=\"203.1074\">P</text><line style=\"stroke: #A80036; stroke-width: 1.5;\" x1=\"498\" x2=\"562\" y1=\"210.9375\" y2=\"210.9375\"/></a><!--MD5=[09b614a08d8cba4a07c9adeb5e0fee81]\n",
       "class E3--><a href=\"psysml:bb4f0587-9240-4f5c-8b68-755ceb30f0e1\" target=\"_top\" title=\"psysml:bb4f0587-9240-4f5c-8b68-755ceb30f0e1\" xlink:actuate=\"onRequest\" xlink:href=\"psysml:bb4f0587-9240-4f5c-8b68-755ceb30f0e1\" xlink:show=\"new\" xlink:title=\"psysml:bb4f0587-9240-4f5c-8b68-755ceb30f0e1\" xlink:type=\"simple\"><rect fill=\"#FEFECE\" filter=\"url(#f5m9q3em8wu7s)\" height=\"45.9375\" id=\"E3\" rx=\"10\" ry=\"10\" style=\"stroke: #A80036; stroke-width: 1.5;\" width=\"71\" x=\"702.5\" y=\"54\"/><text fill=\"#000000\" font-family=\"sans-serif\" font-size=\"12\" font-style=\"italic\" lengthAdjust=\"spacingAndGlyphs\" textLength=\"69\" x=\"703.5\" y=\"70.1387\">«attribute»</text><text fill=\"#000000\" font-family=\"sans-serif\" font-size=\"12\" lengthAdjust=\"spacingAndGlyphs\" textLength=\"61\" x=\"707.5\" y=\"84.1074\">n: Integer</text><line style=\"stroke: #A80036; stroke-width: 1.5;\" x1=\"703.5\" x2=\"772.5\" y1=\"91.9375\" y2=\"91.9375\"/></a><!--MD5=[ebbe1d658d1005bcc118a6aa81145e00]\n",
       "class E4--><a href=\"psysml:9d5a91ec-9b15-487c-8680-11258af91cb9\" target=\"_top\" title=\"psysml:9d5a91ec-9b15-487c-8680-11258af91cb9\" xlink:actuate=\"onRequest\" xlink:href=\"psysml:9d5a91ec-9b15-487c-8680-11258af91cb9\" xlink:show=\"new\" xlink:title=\"psysml:9d5a91ec-9b15-487c-8680-11258af91cb9\" xlink:type=\"simple\"><rect fill=\"#FEFECE\" filter=\"url(#f5m9q3em8wu7s)\" height=\"45.9375\" id=\"E4\" rx=\"10\" ry=\"10\" style=\"stroke: #A80036; stroke-width: 1.5;\" width=\"42\" x=\"625\" y=\"54\"/><text fill=\"#000000\" font-family=\"sans-serif\" font-size=\"12\" font-style=\"italic\" lengthAdjust=\"spacingAndGlyphs\" textLength=\"40\" x=\"626\" y=\"70.1387\">«part»</text><text fill=\"#000000\" font-family=\"sans-serif\" font-size=\"12\" lengthAdjust=\"spacingAndGlyphs\" textLength=\"8\" x=\"642\" y=\"84.1074\">a</text><line style=\"stroke: #A80036; stroke-width: 1.5;\" x1=\"626\" x2=\"666\" y1=\"91.9375\" y2=\"91.9375\"/></a><!--MD5=[270fce915f116d4de14055a7c1d9a0f3]\n",
       "class E5--><a href=\"psysml:0e6ddf84-4c23-42ff-8adf-60418e76591d\" target=\"_top\" title=\"psysml:0e6ddf84-4c23-42ff-8adf-60418e76591d\" xlink:actuate=\"onRequest\" xlink:href=\"psysml:0e6ddf84-4c23-42ff-8adf-60418e76591d\" xlink:show=\"new\" xlink:title=\"psysml:0e6ddf84-4c23-42ff-8adf-60418e76591d\" xlink:type=\"simple\"><rect fill=\"#FEFECE\" filter=\"url(#f5m9q3em8wu7s)\" height=\"45.9375\" id=\"E5\" rx=\"10\" ry=\"10\" style=\"stroke: #A80036; stroke-width: 1.5;\" width=\"42\" x=\"548\" y=\"54\"/><text fill=\"#000000\" font-family=\"sans-serif\" font-size=\"12\" font-style=\"italic\" lengthAdjust=\"spacingAndGlyphs\" textLength=\"40\" x=\"549\" y=\"70.1387\">«part»</text><text fill=\"#000000\" font-family=\"sans-serif\" font-size=\"12\" lengthAdjust=\"spacingAndGlyphs\" textLength=\"24\" x=\"557\" y=\"84.1074\">b: P</text><line style=\"stroke: #A80036; stroke-width: 1.5;\" x1=\"549\" x2=\"589\" y1=\"91.9375\" y2=\"91.9375\"/></a><!--MD5=[60a26617385b1d2d0262a64233df1f8d]\n",
       "class E6--><a href=\"psysml:7a390bd1-339b-4feb-982b-b3a6ee4de727\" target=\"_top\" title=\"psysml:7a390bd1-339b-4feb-982b-b3a6ee4de727\" xlink:actuate=\"onRequest\" xlink:href=\"psysml:7a390bd1-339b-4feb-982b-b3a6ee4de727\" xlink:show=\"new\" xlink:title=\"psysml:7a390bd1-339b-4feb-982b-b3a6ee4de727\" xlink:type=\"simple\"><rect fill=\"#FEFECE\" filter=\"url(#f5m9q3em8wu7s)\" height=\"45.9375\" id=\"E6\" rx=\"10\" ry=\"10\" style=\"stroke: #A80036; stroke-width: 1.5;\" width=\"42\" x=\"471\" y=\"54\"/><text fill=\"#000000\" font-family=\"sans-serif\" font-size=\"12\" font-style=\"italic\" lengthAdjust=\"spacingAndGlyphs\" textLength=\"40\" x=\"472\" y=\"70.1387\">«part»</text><text fill=\"#000000\" font-family=\"sans-serif\" font-size=\"12\" lengthAdjust=\"spacingAndGlyphs\" textLength=\"23\" x=\"480.5\" y=\"84.1074\">c: P</text><line style=\"stroke: #A80036; stroke-width: 1.5;\" x1=\"472\" x2=\"512\" y1=\"91.9375\" y2=\"91.9375\"/></a><!--MD5=[2156ba9850f5573cc1fc38a6a4b2f02b]\n",
       "class E7--><a href=\"psysml:c41308c3-3ab4-4c95-8873-b6daf8742442\" target=\"_top\" title=\"psysml:c41308c3-3ab4-4c95-8873-b6daf8742442\" xlink:actuate=\"onRequest\" xlink:href=\"psysml:c41308c3-3ab4-4c95-8873-b6daf8742442\" xlink:show=\"new\" xlink:title=\"psysml:c41308c3-3ab4-4c95-8873-b6daf8742442\" xlink:type=\"simple\"><rect fill=\"#FEFECE\" filter=\"url(#f5m9q3em8wu7s)\" height=\"45.9375\" id=\"E7\" rx=\"10\" ry=\"10\" style=\"stroke: #A80036; stroke-width: 1.5;\" width=\"42\" x=\"394\" y=\"54\"/><text fill=\"#000000\" font-family=\"sans-serif\" font-size=\"12\" font-style=\"italic\" lengthAdjust=\"spacingAndGlyphs\" textLength=\"40\" x=\"395\" y=\"70.1387\">«part»</text><text fill=\"#000000\" font-family=\"sans-serif\" font-size=\"12\" lengthAdjust=\"spacingAndGlyphs\" textLength=\"8\" x=\"411\" y=\"84.1074\">d</text><line style=\"stroke: #A80036; stroke-width: 1.5;\" x1=\"395\" x2=\"435\" y1=\"91.9375\" y2=\"91.9375\"/></a><!--MD5=[b9389687b975829384b498ac4b7476b2]\n",
       "class E8--><a href=\"psysml:4786ae2f-f4fb-4524-a996-e764bd48b2ea\" target=\"_top\" title=\"psysml:4786ae2f-f4fb-4524-a996-e764bd48b2ea\" xlink:actuate=\"onRequest\" xlink:href=\"psysml:4786ae2f-f4fb-4524-a996-e764bd48b2ea\" xlink:show=\"new\" xlink:title=\"psysml:4786ae2f-f4fb-4524-a996-e764bd48b2ea\" xlink:type=\"simple\"><rect fill=\"#FEFECE\" filter=\"url(#f5m9q3em8wu7s)\" height=\"45.9375\" id=\"E8\" rx=\"10\" ry=\"10\" style=\"stroke: #A80036; stroke-width: 1.5;\" width=\"42\" x=\"317\" y=\"54\"/><text fill=\"#000000\" font-family=\"sans-serif\" font-size=\"12\" font-style=\"italic\" lengthAdjust=\"spacingAndGlyphs\" textLength=\"40\" x=\"318\" y=\"70.1387\">«part»</text><text fill=\"#000000\" font-family=\"sans-serif\" font-size=\"12\" lengthAdjust=\"spacingAndGlyphs\" textLength=\"8\" x=\"334\" y=\"84.1074\">e</text><line style=\"stroke: #A80036; stroke-width: 1.5;\" x1=\"318\" x2=\"358\" y1=\"91.9375\" y2=\"91.9375\"/></a><!--MD5=[fd4143e9d270a159db93a4ea2a975926]\n",
       "class E9--><a href=\"psysml:f4778415-89ee-45ef-90f6-0fdee23f5f44\" target=\"_top\" title=\"psysml:f4778415-89ee-45ef-90f6-0fdee23f5f44\" xlink:actuate=\"onRequest\" xlink:href=\"psysml:f4778415-89ee-45ef-90f6-0fdee23f5f44\" xlink:show=\"new\" xlink:title=\"psysml:f4778415-89ee-45ef-90f6-0fdee23f5f44\" xlink:type=\"simple\"><rect fill=\"#FEFECE\" filter=\"url(#f5m9q3em8wu7s)\" height=\"45.9375\" id=\"E9\" rx=\"10\" ry=\"10\" style=\"stroke: #A80036; stroke-width: 1.5;\" width=\"42\" x=\"240\" y=\"54\"/><text fill=\"#000000\" font-family=\"sans-serif\" font-size=\"12\" font-style=\"italic\" lengthAdjust=\"spacingAndGlyphs\" textLength=\"40\" x=\"241\" y=\"70.1387\">«part»</text><text fill=\"#000000\" font-family=\"sans-serif\" font-size=\"12\" lengthAdjust=\"spacingAndGlyphs\" textLength=\"4\" x=\"259\" y=\"84.1074\">f</text><line style=\"stroke: #A80036; stroke-width: 1.5;\" x1=\"241\" x2=\"281\" y1=\"91.9375\" y2=\"91.9375\"/></a><!--MD5=[96f4274e9e20536e775497830990834d]\n",
       "class E10--><a href=\"psysml:54ce765f-cd4b-40e3-bd55-528058a48d88\" target=\"_top\" title=\"psysml:54ce765f-cd4b-40e3-bd55-528058a48d88\" xlink:actuate=\"onRequest\" xlink:href=\"psysml:54ce765f-cd4b-40e3-bd55-528058a48d88\" xlink:show=\"new\" xlink:title=\"psysml:54ce765f-cd4b-40e3-bd55-528058a48d88\" xlink:type=\"simple\"><rect fill=\"#FEFECE\" filter=\"url(#f5m9q3em8wu7s)\" height=\"45.9375\" id=\"E10\" rx=\"10\" ry=\"10\" style=\"stroke: #A80036; stroke-width: 1.5;\" width=\"42\" x=\"163\" y=\"54\"/><text fill=\"#000000\" font-family=\"sans-serif\" font-size=\"12\" font-style=\"italic\" lengthAdjust=\"spacingAndGlyphs\" textLength=\"40\" x=\"164\" y=\"70.1387\">«part»</text><text fill=\"#000000\" font-family=\"sans-serif\" font-size=\"12\" lengthAdjust=\"spacingAndGlyphs\" textLength=\"8\" x=\"180\" y=\"84.1074\">g</text><line style=\"stroke: #A80036; stroke-width: 1.5;\" x1=\"164\" x2=\"204\" y1=\"91.9375\" y2=\"91.9375\"/></a><!--MD5=[1dd1bfd58a279cf63c5f349dbc8fc6a1]\n",
       "class E11--><a href=\"psysml:39471be4-e308-48bc-96c2-d92b434b60c0\" target=\"_top\" title=\"psysml:39471be4-e308-48bc-96c2-d92b434b60c0\" xlink:actuate=\"onRequest\" xlink:href=\"psysml:39471be4-e308-48bc-96c2-d92b434b60c0\" xlink:show=\"new\" xlink:title=\"psysml:39471be4-e308-48bc-96c2-d92b434b60c0\" xlink:type=\"simple\"><rect fill=\"#FEFECE\" filter=\"url(#f5m9q3em8wu7s)\" height=\"71.5469\" id=\"E11\" style=\"stroke: #A80036; stroke-width: 1.5;\" width=\"95\" x=\"32.5\" y=\"41\"/><text fill=\"#000000\" font-family=\"sans-serif\" font-size=\"12\" font-style=\"italic\" lengthAdjust=\"spacingAndGlyphs\" textLength=\"93\" x=\"33.5\" y=\"57.1387\">«attribute def»</text><text fill=\"#000000\" font-family=\"sans-serif\" font-size=\"12\" lengthAdjust=\"spacingAndGlyphs\" textLength=\"8\" x=\"76\" y=\"71.1074\">A</text><line style=\"stroke: #A80036; stroke-width: 1.5;\" x1=\"33.5\" x2=\"126.5\" y1=\"78.9375\" y2=\"78.9375\"/><text fill=\"#000000\" font-family=\"sans-serif\" font-size=\"11\" lengthAdjust=\"spacingAndGlyphs\" textLength=\"51\" x=\"38.5\" y=\"93.1479\">i: Integer</text><text fill=\"#000000\" font-family=\"sans-serif\" font-size=\"11\" lengthAdjust=\"spacingAndGlyphs\" textLength=\"21\" x=\"38.5\" y=\"105.9526\">x: A</text></a><!--MD5=[15ebcb19ae302d9b601edb458606d402]\n",
       "link E5 to E2--><a href=\"psysml:911f47bc-487d-4cbf-bcdd-94eeba00c89c\" target=\"_top\" title=\"psysml:911f47bc-487d-4cbf-bcdd-94eeba00c89c\" xlink:actuate=\"onRequest\" xlink:href=\"psysml:911f47bc-487d-4cbf-bcdd-94eeba00c89c\" xlink:show=\"new\" xlink:title=\"psysml:911f47bc-487d-4cbf-bcdd-94eeba00c89c\" xlink:type=\"simple\"><path d=\"M561.66,100.01 C556.63,115.11 549.8,135.61 543.76,153.71 \" fill=\"none\" id=\"E5-&gt;E2\" style=\"stroke: #A80036; stroke-width: 1.0;\"/><polygon fill=\"#FFFFFF\" points=\"537.44,172.69,536.7984,152.4517,550.082,156.8729,537.44,172.69\" style=\"stroke: #A80036; stroke-width: 1.0;\"/><ellipse cx=\"540.4961\" cy=\"147.675\" fill=\"#A80036\" rx=\"2\" ry=\"2\" style=\"stroke: #A80036; stroke-width: 1.0;\"/><ellipse cx=\"549.9844\" cy=\"150.833\" fill=\"#A80036\" rx=\"2\" ry=\"2\" style=\"stroke: #A80036; stroke-width: 1.0;\"/></a><!--MD5=[2351f337d6de0f557b50152ba70847b5]\n",
       "link E6 to E2--><a href=\"psysml:5d978d49-3aad-49b2-9a30-3bd5979ae9aa\" target=\"_top\" title=\"psysml:5d978d49-3aad-49b2-9a30-3bd5979ae9aa\" xlink:actuate=\"onRequest\" xlink:href=\"psysml:5d978d49-3aad-49b2-9a30-3bd5979ae9aa\" xlink:show=\"new\" xlink:title=\"psysml:5d978d49-3aad-49b2-9a30-3bd5979ae9aa\" xlink:type=\"simple\"><path d=\"M499.15,100.01 C504.03,115.03 510.64,135.39 516.49,153.41 \" fill=\"none\" id=\"E6-&gt;E2\" style=\"stroke: #A80036; stroke-width: 1.0;\"/><polygon fill=\"#FFFFFF\" points=\"522.76,172.69,510.2363,156.7791,523.5525,152.4571,522.76,172.69\" style=\"stroke: #A80036; stroke-width: 1.0;\"/><ellipse cx=\"510.379\" cy=\"150.74\" fill=\"#A80036\" rx=\"2\" ry=\"2\" style=\"stroke: #A80036; stroke-width: 1.0;\"/><ellipse cx=\"519.8905\" cy=\"147.6529\" fill=\"#A80036\" rx=\"2\" ry=\"2\" style=\"stroke: #A80036; stroke-width: 1.0;\"/></a><!--MD5=[86b82f1b56c9a2ccaada8194c0ef3cb3]\n",
       "@startuml\r\n",
       "skinparam wrapWidth 300\r\n",
       "hide circle\r\n",
       "\r\n",
       "package \"MultiplicityTest\" as E1  [[psysml:0be6947d-aa66-4017-a009-04bc0f7b30c5 ]]  {\r\n",
       "comp def \"P\" as E2  <<(T,blue)part def>> [[psysml:9ab3d3ff-483c-4e41-ada7-ab2d8c979da0 ]] {\r\n",
       "}\r\n",
       "comp usage \"n: Integer\" as E3  <<(T,blue)attribute>> [[psysml:bb4f0587-9240-4f5c-8b68-755ceb30f0e1 ]] {\r\n",
       "}\r\n",
       "comp usage \"a\" as E4  <<(T,blue)part>> [[psysml:9d5a91ec-9b15-487c-8680-11258af91cb9 ]] {\r\n",
       "}\r\n",
       "comp usage \"b: P\" as E5  <<(T,blue)part>> [[psysml:0e6ddf84-4c23-42ff-8adf-60418e76591d ]] {\r\n",
       "}\r\n",
       "comp usage \"c: P\" as E6  <<(T,blue)part>> [[psysml:7a390bd1-339b-4feb-982b-b3a6ee4de727 ]] {\r\n",
       "}\r\n",
       "comp usage \"d\" as E7  <<(T,blue)part>> [[psysml:c41308c3-3ab4-4c95-8873-b6daf8742442 ]] {\r\n",
       "}\r\n",
       "comp usage \"e\" as E8  <<(T,blue)part>> [[psysml:4786ae2f-f4fb-4524-a996-e764bd48b2ea ]] {\r\n",
       "}\r\n",
       "comp usage \"f\" as E9  <<(T,blue)part>> [[psysml:f4778415-89ee-45ef-90f6-0fdee23f5f44 ]] {\r\n",
       "}\r\n",
       "comp usage \"g\" as E10  <<(T,blue)part>> [[psysml:54ce765f-cd4b-40e3-bd55-528058a48d88 ]] {\r\n",
       "}\r\n",
       "comp def \"A\" as E11  <<(T,blue)attribute def>> [[psysml:39471be4-e308-48bc-96c2-d92b434b60c0 ]] {\r\n",
       "i: Integer\r\n",
       "x: A\r\n",
       "}\r\n",
       "E5 - -:|> E2 [[psysml:911f47bc-487d-4cbf-bcdd-94eeba00c89c ]] \r\n",
       "E6 - -:|> E2 [[psysml:5d978d49-3aad-49b2-9a30-3bd5979ae9aa ]] \r\n",
       "}\r\n",
       "@enduml\r\n",
       "\n",
       "PlantUML version 1.2020.13(Sat Jun 13 12:26:38 UTC 2020)\n",
       "(EPL source distribution)\n",
       "Java Runtime: OpenJDK Runtime Environment\n",
       "JVM: OpenJDK 64-Bit Server VM\n",
       "Default Encoding: UTF-8\n",
       "Language: en\n",
       "Country: null\n",
       "--></g></svg>"
      ]
     },
     "execution_count": 24,
     "metadata": {},
     "output_type": "execute_result"
    }
   ],
   "source": [
    "%viz --style=\"STDCOLOR\" --view=\"Tree\" \"MultiplicityTest\""
   ]
  },
  {
   "cell_type": "code",
   "execution_count": 25,
   "id": "1b4064cc",
   "metadata": {
    "execution": {
     "iopub.execute_input": "2021-04-21T20:26:43.374301Z",
     "iopub.status.busy": "2021-04-21T20:26:43.373911Z",
     "iopub.status.idle": "2021-04-21T20:26:43.379673Z",
     "shell.execute_reply": "2021-04-21T20:26:43.379348Z"
    }
   },
   "outputs": [
    {
     "data": {
      "image/svg+xml": [
       "<?xml version=\"1.0\" encoding=\"UTF-8\" standalone=\"no\"?><svg xmlns=\"http://www.w3.org/2000/svg\" xmlns:xlink=\"http://www.w3.org/1999/xlink\" contentScriptType=\"application/ecmascript\" contentStyleType=\"text/css\" height=\"12px\" preserveAspectRatio=\"none\" style=\"width:12px;height:12px;\" version=\"1.1\" viewBox=\"0 0 12 12\" width=\"12px\" zoomAndPan=\"magnify\"><defs/><g><!--MD5=[aeeef50f102b80d730deb6443d14f702]\n",
       "@startuml\r\n",
       "skinparam wrapWidth 300\r\n",
       "hide circle\r\n",
       "\r\n",
       "@enduml\r\n",
       "\n",
       "PlantUML version 1.2020.13(Sat Jun 13 12:26:38 UTC 2020)\n",
       "(EPL source distribution)\n",
       "Java Runtime: OpenJDK Runtime Environment\n",
       "JVM: OpenJDK 64-Bit Server VM\n",
       "Default Encoding: UTF-8\n",
       "Language: en\n",
       "Country: null\n",
       "--></g></svg>"
      ]
     },
     "execution_count": 25,
     "metadata": {},
     "output_type": "execute_result"
    }
   ],
   "source": [
    "%viz --style=\"STDCOLOR\" --view=\"State\" \"MultiplicityTest\""
   ]
  },
  {
   "cell_type": "code",
   "execution_count": 26,
   "id": "1a1c7b99",
   "metadata": {
    "execution": {
     "iopub.execute_input": "2021-04-21T20:26:43.430605Z",
     "iopub.status.busy": "2021-04-21T20:26:43.430204Z",
     "iopub.status.idle": "2021-04-21T20:26:43.460598Z",
     "shell.execute_reply": "2021-04-21T20:26:43.460178Z"
    }
   },
   "outputs": [
    {
     "data": {
      "image/svg+xml": [
       "<?xml version=\"1.0\" encoding=\"UTF-8\" standalone=\"no\"?><svg xmlns=\"http://www.w3.org/2000/svg\" xmlns:xlink=\"http://www.w3.org/1999/xlink\" contentScriptType=\"application/ecmascript\" contentStyleType=\"text/css\" height=\"115px\" preserveAspectRatio=\"none\" style=\"width:979px;height:115px;\" version=\"1.1\" viewBox=\"0 0 979 115\" width=\"979px\" zoomAndPan=\"magnify\"><defs><filter height=\"300%\" id=\"f4m81ght3vc8a\" width=\"300%\" x=\"-1\" y=\"-1\"><feGaussianBlur result=\"blurOut\" stdDeviation=\"2.0\"/><feColorMatrix in=\"blurOut\" result=\"blurOut2\" type=\"matrix\" values=\"0 0 0 0 0 0 0 0 0 0 0 0 0 0 0 0 0 0 .4 0\"/><feOffset dx=\"4.0\" dy=\"4.0\" in=\"blurOut2\" result=\"blurOut3\"/><feBlend in=\"SourceGraphic\" in2=\"blurOut3\" mode=\"normal\"/></filter></defs><g><!--MD5=[fbc87193dbaf4d95561dea2c320d4a47]\n",
       "cluster E1--><a href=\"psysml:0be6947d-aa66-4017-a009-04bc0f7b30c5\" target=\"_top\" title=\"psysml:0be6947d-aa66-4017-a009-04bc0f7b30c5\" xlink:actuate=\"onRequest\" xlink:href=\"psysml:0be6947d-aa66-4017-a009-04bc0f7b30c5\" xlink:show=\"new\" xlink:title=\"psysml:0be6947d-aa66-4017-a009-04bc0f7b30c5\" xlink:type=\"simple\"><polygon fill=\"#FFFFFF\" filter=\"url(#f4m81ght3vc8a)\" points=\"16,6,140,6,147,28.2969,957,28.2969,957,103,16,103,16,6\" style=\"stroke: #000000; stroke-width: 1.5;\"/><line style=\"stroke: #000000; stroke-width: 1.5;\" x1=\"16\" x2=\"147\" y1=\"28.2969\" y2=\"28.2969\"/><text fill=\"#000000\" font-family=\"sans-serif\" font-size=\"14\" font-weight=\"bold\" lengthAdjust=\"spacingAndGlyphs\" textLength=\"118\" x=\"20\" y=\"20.9951\">MultiplicityTest</text></a><!--MD5=[09b614a08d8cba4a07c9adeb5e0fee81]\n",
       "class E3--><a href=\"psysml:bb4f0587-9240-4f5c-8b68-755ceb30f0e1\" target=\"_top\" title=\"psysml:bb4f0587-9240-4f5c-8b68-755ceb30f0e1\" xlink:actuate=\"onRequest\" xlink:href=\"psysml:bb4f0587-9240-4f5c-8b68-755ceb30f0e1\" xlink:show=\"new\" xlink:title=\"psysml:bb4f0587-9240-4f5c-8b68-755ceb30f0e1\" xlink:type=\"simple\"><rect fill=\"#FEFECE\" filter=\"url(#f4m81ght3vc8a)\" height=\"45.9375\" id=\"E3\" rx=\"10\" ry=\"10\" style=\"stroke: #A80036; stroke-width: 1.5;\" width=\"71\" x=\"869.5\" y=\"41\"/><text fill=\"#000000\" font-family=\"sans-serif\" font-size=\"12\" font-style=\"italic\" lengthAdjust=\"spacingAndGlyphs\" textLength=\"69\" x=\"870.5\" y=\"57.1387\">«attribute»</text><text fill=\"#000000\" font-family=\"sans-serif\" font-size=\"12\" lengthAdjust=\"spacingAndGlyphs\" textLength=\"61\" x=\"874.5\" y=\"71.1074\">n: Integer</text><line style=\"stroke: #A80036; stroke-width: 1.5;\" x1=\"870.5\" x2=\"939.5\" y1=\"78.9375\" y2=\"78.9375\"/></a><g id=\"E1.E11\"><a href=\"psysml:39471be4-e308-48bc-96c2-d92b434b60c0\" target=\"_top\" title=\"psysml:39471be4-e308-48bc-96c2-d92b434b60c0\" xlink:actuate=\"onRequest\" xlink:href=\"psysml:39471be4-e308-48bc-96c2-d92b434b60c0\" xlink:show=\"new\" xlink:title=\"psysml:39471be4-e308-48bc-96c2-d92b434b60c0\" xlink:type=\"simple\"><rect fill=\"#FEFECE\" filter=\"url(#f4m81ght3vc8a)\" height=\"42.9375\" id=\"E11\" style=\"stroke: #A80036; stroke-width: 1.5;\" width=\"100\" x=\"734\" y=\"42.5\"/><text fill=\"#000000\" font-family=\"sans-serif\" font-size=\"12\" font-style=\"italic\" lengthAdjust=\"spacingAndGlyphs\" textLength=\"93\" x=\"737.5\" y=\"58.6387\">«attribute def»</text><text fill=\"#000000\" font-family=\"sans-serif\" font-size=\"12\" lengthAdjust=\"spacingAndGlyphs\" textLength=\"8\" x=\"780\" y=\"72.6074\">A</text></a></g><g id=\"E1.E2\"><a href=\"psysml:9ab3d3ff-483c-4e41-ada7-ab2d8c979da0\" target=\"_top\" title=\"psysml:9ab3d3ff-483c-4e41-ada7-ab2d8c979da0\" xlink:actuate=\"onRequest\" xlink:href=\"psysml:9ab3d3ff-483c-4e41-ada7-ab2d8c979da0\" xlink:show=\"new\" xlink:title=\"psysml:9ab3d3ff-483c-4e41-ada7-ab2d8c979da0\" xlink:type=\"simple\"><rect fill=\"#FEFECE\" filter=\"url(#f4m81ght3vc8a)\" height=\"42.9375\" id=\"E2\" style=\"stroke: #A80036; stroke-width: 1.5;\" width=\"71\" x=\"627.5\" y=\"42.5\"/><text fill=\"#000000\" font-family=\"sans-serif\" font-size=\"12\" font-style=\"italic\" lengthAdjust=\"spacingAndGlyphs\" textLength=\"64\" x=\"631\" y=\"58.6387\">«part def»</text><text fill=\"#000000\" font-family=\"sans-serif\" font-size=\"12\" lengthAdjust=\"spacingAndGlyphs\" textLength=\"8\" x=\"659\" y=\"72.6074\">P</text></a></g><g id=\"E1.E4\"><a href=\"psysml:9d5a91ec-9b15-487c-8680-11258af91cb9\" target=\"_top\" title=\"psysml:9d5a91ec-9b15-487c-8680-11258af91cb9\" xlink:actuate=\"onRequest\" xlink:href=\"psysml:9d5a91ec-9b15-487c-8680-11258af91cb9\" xlink:show=\"new\" xlink:title=\"psysml:9d5a91ec-9b15-487c-8680-11258af91cb9\" xlink:type=\"simple\"><rect fill=\"#FEFECE\" filter=\"url(#f4m81ght3vc8a)\" height=\"40\" id=\"E4\" rx=\"10\" ry=\"10\" style=\"stroke: #A80036; stroke-width: 1.5;\" width=\"50\" x=\"542\" y=\"44\"/><text fill=\"#000000\" font-family=\"sans-serif\" font-size=\"12\" lengthAdjust=\"spacingAndGlyphs\" textLength=\"8\" x=\"563\" y=\"60.1387\">a</text></a></g><g id=\"E1.E5\"><a href=\"psysml:0e6ddf84-4c23-42ff-8adf-60418e76591d\" target=\"_top\" title=\"psysml:0e6ddf84-4c23-42ff-8adf-60418e76591d\" xlink:actuate=\"onRequest\" xlink:href=\"psysml:0e6ddf84-4c23-42ff-8adf-60418e76591d\" xlink:show=\"new\" xlink:title=\"psysml:0e6ddf84-4c23-42ff-8adf-60418e76591d\" xlink:type=\"simple\"><rect fill=\"#FEFECE\" filter=\"url(#f4m81ght3vc8a)\" height=\"40\" id=\"E5\" rx=\"10\" ry=\"10\" style=\"stroke: #A80036; stroke-width: 1.5;\" width=\"50\" x=\"457\" y=\"44\"/><text fill=\"#000000\" font-family=\"sans-serif\" font-size=\"12\" lengthAdjust=\"spacingAndGlyphs\" textLength=\"24\" x=\"470\" y=\"60.1387\">b: P</text></a></g><g id=\"E1.E6\"><a href=\"psysml:7a390bd1-339b-4feb-982b-b3a6ee4de727\" target=\"_top\" title=\"psysml:7a390bd1-339b-4feb-982b-b3a6ee4de727\" xlink:actuate=\"onRequest\" xlink:href=\"psysml:7a390bd1-339b-4feb-982b-b3a6ee4de727\" xlink:show=\"new\" xlink:title=\"psysml:7a390bd1-339b-4feb-982b-b3a6ee4de727\" xlink:type=\"simple\"><rect fill=\"#FEFECE\" filter=\"url(#f4m81ght3vc8a)\" height=\"40\" id=\"E6\" rx=\"10\" ry=\"10\" style=\"stroke: #A80036; stroke-width: 1.5;\" width=\"50\" x=\"372\" y=\"44\"/><text fill=\"#000000\" font-family=\"sans-serif\" font-size=\"12\" lengthAdjust=\"spacingAndGlyphs\" textLength=\"23\" x=\"385.5\" y=\"60.1387\">c: P</text></a></g><g id=\"E1.E7\"><a href=\"psysml:c41308c3-3ab4-4c95-8873-b6daf8742442\" target=\"_top\" title=\"psysml:c41308c3-3ab4-4c95-8873-b6daf8742442\" xlink:actuate=\"onRequest\" xlink:href=\"psysml:c41308c3-3ab4-4c95-8873-b6daf8742442\" xlink:show=\"new\" xlink:title=\"psysml:c41308c3-3ab4-4c95-8873-b6daf8742442\" xlink:type=\"simple\"><rect fill=\"#FEFECE\" filter=\"url(#f4m81ght3vc8a)\" height=\"40\" id=\"E7\" rx=\"10\" ry=\"10\" style=\"stroke: #A80036; stroke-width: 1.5;\" width=\"50\" x=\"287\" y=\"44\"/><text fill=\"#000000\" font-family=\"sans-serif\" font-size=\"12\" lengthAdjust=\"spacingAndGlyphs\" textLength=\"8\" x=\"308\" y=\"60.1387\">d</text></a></g><g id=\"E1.E8\"><a href=\"psysml:4786ae2f-f4fb-4524-a996-e764bd48b2ea\" target=\"_top\" title=\"psysml:4786ae2f-f4fb-4524-a996-e764bd48b2ea\" xlink:actuate=\"onRequest\" xlink:href=\"psysml:4786ae2f-f4fb-4524-a996-e764bd48b2ea\" xlink:show=\"new\" xlink:title=\"psysml:4786ae2f-f4fb-4524-a996-e764bd48b2ea\" xlink:type=\"simple\"><rect fill=\"#FEFECE\" filter=\"url(#f4m81ght3vc8a)\" height=\"40\" id=\"E8\" rx=\"10\" ry=\"10\" style=\"stroke: #A80036; stroke-width: 1.5;\" width=\"50\" x=\"202\" y=\"44\"/><text fill=\"#000000\" font-family=\"sans-serif\" font-size=\"12\" lengthAdjust=\"spacingAndGlyphs\" textLength=\"8\" x=\"223\" y=\"60.1387\">e</text></a></g><g id=\"E1.E9\"><a href=\"psysml:f4778415-89ee-45ef-90f6-0fdee23f5f44\" target=\"_top\" title=\"psysml:f4778415-89ee-45ef-90f6-0fdee23f5f44\" xlink:actuate=\"onRequest\" xlink:href=\"psysml:f4778415-89ee-45ef-90f6-0fdee23f5f44\" xlink:show=\"new\" xlink:title=\"psysml:f4778415-89ee-45ef-90f6-0fdee23f5f44\" xlink:type=\"simple\"><rect fill=\"#FEFECE\" filter=\"url(#f4m81ght3vc8a)\" height=\"40\" id=\"E9\" rx=\"10\" ry=\"10\" style=\"stroke: #A80036; stroke-width: 1.5;\" width=\"50\" x=\"117\" y=\"44\"/><text fill=\"#000000\" font-family=\"sans-serif\" font-size=\"12\" lengthAdjust=\"spacingAndGlyphs\" textLength=\"4\" x=\"140\" y=\"60.1387\">f</text></a></g><g id=\"E1.E10\"><a href=\"psysml:54ce765f-cd4b-40e3-bd55-528058a48d88\" target=\"_top\" title=\"psysml:54ce765f-cd4b-40e3-bd55-528058a48d88\" xlink:actuate=\"onRequest\" xlink:href=\"psysml:54ce765f-cd4b-40e3-bd55-528058a48d88\" xlink:show=\"new\" xlink:title=\"psysml:54ce765f-cd4b-40e3-bd55-528058a48d88\" xlink:type=\"simple\"><rect fill=\"#FEFECE\" filter=\"url(#f4m81ght3vc8a)\" height=\"40\" id=\"E10\" rx=\"10\" ry=\"10\" style=\"stroke: #A80036; stroke-width: 1.5;\" width=\"50\" x=\"32\" y=\"44\"/><text fill=\"#000000\" font-family=\"sans-serif\" font-size=\"12\" lengthAdjust=\"spacingAndGlyphs\" textLength=\"8\" x=\"53\" y=\"60.1387\">g</text></a></g><!--MD5=[64ca3cb706c8459b74949de41545cca6]\n",
       "@startuml\r\n",
       "skinparam ranksep 10\r\n",
       "skinparam rectangle {\r\n",
       " backgroundColor<<block>> LightGreen\r\n",
       "}\r\n",
       "skinparam wrapWidth 300\r\n",
       "hide circle\r\n",
       "\r\n",
       "package \"MultiplicityTest\" as E1  [[psysml:0be6947d-aa66-4017-a009-04bc0f7b30c5 ]]  {\r\n",
       "rec def \"P\" as E2  <<(T,blue)part def>> [[psysml:9ab3d3ff-483c-4e41-ada7-ab2d8c979da0 ]] {\r\n",
       "}\r\n",
       "comp usage \"n: Integer\" as E3  <<(T,blue)attribute>> [[psysml:bb4f0587-9240-4f5c-8b68-755ceb30f0e1 ]] {\r\n",
       "}\r\n",
       "rec usage \"a\" as E4  [[psysml:9d5a91ec-9b15-487c-8680-11258af91cb9 ]] {\r\n",
       "}\r\n",
       "rec usage \"b: P\" as E5  [[psysml:0e6ddf84-4c23-42ff-8adf-60418e76591d ]] {\r\n",
       "}\r\n",
       "rec usage \"c: P\" as E6  [[psysml:7a390bd1-339b-4feb-982b-b3a6ee4de727 ]] {\r\n",
       "}\r\n",
       "rec usage \"d\" as E7  [[psysml:c41308c3-3ab4-4c95-8873-b6daf8742442 ]] {\r\n",
       "}\r\n",
       "rec usage \"e\" as E8  [[psysml:4786ae2f-f4fb-4524-a996-e764bd48b2ea ]] {\r\n",
       "}\r\n",
       "rec usage \"f\" as E9  [[psysml:f4778415-89ee-45ef-90f6-0fdee23f5f44 ]] {\r\n",
       "}\r\n",
       "rec usage \"g\" as E10  [[psysml:54ce765f-cd4b-40e3-bd55-528058a48d88 ]] {\r\n",
       "}\r\n",
       "def \"A\" as E11  <<(T,blue)attribute def>> [[psysml:39471be4-e308-48bc-96c2-d92b434b60c0 ]] \r\n",
       "}\r\n",
       "@enduml\r\n",
       "\n",
       "PlantUML version 1.2020.13(Sat Jun 13 12:26:38 UTC 2020)\n",
       "(EPL source distribution)\n",
       "Java Runtime: OpenJDK Runtime Environment\n",
       "JVM: OpenJDK 64-Bit Server VM\n",
       "Default Encoding: UTF-8\n",
       "Language: en\n",
       "Country: null\n",
       "--></g></svg>"
      ]
     },
     "execution_count": 26,
     "metadata": {},
     "output_type": "execute_result"
    }
   ],
   "source": [
    "%viz --style=\"STDCOLOR\" --view=\"Interconnection\" \"MultiplicityTest\""
   ]
  },
  {
   "cell_type": "code",
   "execution_count": 27,
   "id": "6470e93c",
   "metadata": {
    "execution": {
     "iopub.execute_input": "2021-04-21T20:26:43.509429Z",
     "iopub.status.busy": "2021-04-21T20:26:43.509046Z",
     "iopub.status.idle": "2021-04-21T20:26:43.514224Z",
     "shell.execute_reply": "2021-04-21T20:26:43.513887Z"
    }
   },
   "outputs": [
    {
     "data": {
      "image/svg+xml": [
       "<?xml version=\"1.0\" encoding=\"UTF-8\" standalone=\"no\"?><svg xmlns=\"http://www.w3.org/2000/svg\" xmlns:xlink=\"http://www.w3.org/1999/xlink\" contentScriptType=\"application/ecmascript\" contentStyleType=\"text/css\" height=\"12px\" preserveAspectRatio=\"none\" style=\"width:12px;height:12px;\" version=\"1.1\" viewBox=\"0 0 12 12\" width=\"12px\" zoomAndPan=\"magnify\"><defs/><g><!--MD5=[9863325348a96a77dacc89509d8ee65e]\n",
       "@startuml\r\n",
       "skinparam ranksep 8\r\n",
       "skinparam wrapWidth 300\r\n",
       "hide circle\r\n",
       "\r\n",
       "@enduml\r\n",
       "\n",
       "PlantUML version 1.2020.13(Sat Jun 13 12:26:38 UTC 2020)\n",
       "(EPL source distribution)\n",
       "Java Runtime: OpenJDK Runtime Environment\n",
       "JVM: OpenJDK 64-Bit Server VM\n",
       "Default Encoding: UTF-8\n",
       "Language: en\n",
       "Country: null\n",
       "--></g></svg>"
      ]
     },
     "execution_count": 27,
     "metadata": {},
     "output_type": "execute_result"
    }
   ],
   "source": [
    "%viz --style=\"STDCOLOR\" --view=\"Action\" \"MultiplicityTest\""
   ]
  },
  {
   "cell_type": "code",
   "execution_count": 28,
   "id": "45f16caf",
   "metadata": {
    "execution": {
     "iopub.execute_input": "2021-04-21T20:26:43.564867Z",
     "iopub.status.busy": "2021-04-21T20:26:43.564330Z",
     "iopub.status.idle": "2021-04-21T20:26:43.607303Z",
     "shell.execute_reply": "2021-04-21T20:26:43.606898Z"
    }
   },
   "outputs": [
    {
     "data": {
      "image/svg+xml": [
       "<?xml version=\"1.0\" encoding=\"UTF-8\" standalone=\"no\"?><svg xmlns=\"http://www.w3.org/2000/svg\" xmlns:xlink=\"http://www.w3.org/1999/xlink\" contentScriptType=\"application/ecmascript\" contentStyleType=\"text/css\" height=\"247px\" preserveAspectRatio=\"none\" style=\"width:812px;height:247px;\" version=\"1.1\" viewBox=\"0 0 812 247\" width=\"812px\" zoomAndPan=\"magnify\"><defs><filter height=\"300%\" id=\"f5m9q3em8wu7s\" width=\"300%\" x=\"-1\" y=\"-1\"><feGaussianBlur result=\"blurOut\" stdDeviation=\"2.0\"/><feColorMatrix in=\"blurOut\" result=\"blurOut2\" type=\"matrix\" values=\"0 0 0 0 0 0 0 0 0 0 0 0 0 0 0 0 0 0 .4 0\"/><feOffset dx=\"4.0\" dy=\"4.0\" in=\"blurOut2\" result=\"blurOut3\"/><feBlend in=\"SourceGraphic\" in2=\"blurOut3\" mode=\"normal\"/></filter></defs><g><!--MD5=[fbc87193dbaf4d95561dea2c320d4a47]\n",
       "cluster E1--><a href=\"psysml:0be6947d-aa66-4017-a009-04bc0f7b30c5\" target=\"_top\" title=\"psysml:0be6947d-aa66-4017-a009-04bc0f7b30c5\" xlink:actuate=\"onRequest\" xlink:href=\"psysml:0be6947d-aa66-4017-a009-04bc0f7b30c5\" xlink:show=\"new\" xlink:title=\"psysml:0be6947d-aa66-4017-a009-04bc0f7b30c5\" xlink:type=\"simple\"><polygon fill=\"#FFFFFF\" filter=\"url(#f5m9q3em8wu7s)\" points=\"16,6,140,6,147,28.2969,790,28.2969,790,235,16,235,16,6\" style=\"stroke: #000000; stroke-width: 1.5;\"/><line style=\"stroke: #000000; stroke-width: 1.5;\" x1=\"16\" x2=\"147\" y1=\"28.2969\" y2=\"28.2969\"/><text fill=\"#000000\" font-family=\"sans-serif\" font-size=\"14\" font-weight=\"bold\" lengthAdjust=\"spacingAndGlyphs\" textLength=\"118\" x=\"20\" y=\"20.9951\">MultiplicityTest</text></a><!--MD5=[b4997ac47864f28c2f74865a473b2911]\n",
       "class E2--><a href=\"psysml:9ab3d3ff-483c-4e41-ada7-ab2d8c979da0\" target=\"_top\" title=\"psysml:9ab3d3ff-483c-4e41-ada7-ab2d8c979da0\" xlink:actuate=\"onRequest\" xlink:href=\"psysml:9ab3d3ff-483c-4e41-ada7-ab2d8c979da0\" xlink:show=\"new\" xlink:title=\"psysml:9ab3d3ff-483c-4e41-ada7-ab2d8c979da0\" xlink:type=\"simple\"><rect fill=\"#FEFECE\" filter=\"url(#f5m9q3em8wu7s)\" height=\"45.9375\" id=\"E2\" style=\"stroke: #A80036; stroke-width: 1.5;\" width=\"66\" x=\"497\" y=\"173\"/><text fill=\"#000000\" font-family=\"sans-serif\" font-size=\"12\" font-style=\"italic\" lengthAdjust=\"spacingAndGlyphs\" textLength=\"64\" x=\"498\" y=\"189.1387\">«part def»</text><text fill=\"#000000\" font-family=\"sans-serif\" font-size=\"12\" lengthAdjust=\"spacingAndGlyphs\" textLength=\"8\" x=\"526\" y=\"203.1074\">P</text><line style=\"stroke: #A80036; stroke-width: 1.5;\" x1=\"498\" x2=\"562\" y1=\"210.9375\" y2=\"210.9375\"/></a><!--MD5=[09b614a08d8cba4a07c9adeb5e0fee81]\n",
       "class E3--><a href=\"psysml:bb4f0587-9240-4f5c-8b68-755ceb30f0e1\" target=\"_top\" title=\"psysml:bb4f0587-9240-4f5c-8b68-755ceb30f0e1\" xlink:actuate=\"onRequest\" xlink:href=\"psysml:bb4f0587-9240-4f5c-8b68-755ceb30f0e1\" xlink:show=\"new\" xlink:title=\"psysml:bb4f0587-9240-4f5c-8b68-755ceb30f0e1\" xlink:type=\"simple\"><rect fill=\"#FEFECE\" filter=\"url(#f5m9q3em8wu7s)\" height=\"45.9375\" id=\"E3\" rx=\"10\" ry=\"10\" style=\"stroke: #A80036; stroke-width: 1.5;\" width=\"71\" x=\"702.5\" y=\"54\"/><text fill=\"#000000\" font-family=\"sans-serif\" font-size=\"12\" font-style=\"italic\" lengthAdjust=\"spacingAndGlyphs\" textLength=\"69\" x=\"703.5\" y=\"70.1387\">«attribute»</text><text fill=\"#000000\" font-family=\"sans-serif\" font-size=\"12\" lengthAdjust=\"spacingAndGlyphs\" textLength=\"61\" x=\"707.5\" y=\"84.1074\">n: Integer</text><line style=\"stroke: #A80036; stroke-width: 1.5;\" x1=\"703.5\" x2=\"772.5\" y1=\"91.9375\" y2=\"91.9375\"/></a><!--MD5=[ebbe1d658d1005bcc118a6aa81145e00]\n",
       "class E4--><a href=\"psysml:9d5a91ec-9b15-487c-8680-11258af91cb9\" target=\"_top\" title=\"psysml:9d5a91ec-9b15-487c-8680-11258af91cb9\" xlink:actuate=\"onRequest\" xlink:href=\"psysml:9d5a91ec-9b15-487c-8680-11258af91cb9\" xlink:show=\"new\" xlink:title=\"psysml:9d5a91ec-9b15-487c-8680-11258af91cb9\" xlink:type=\"simple\"><rect fill=\"#FEFECE\" filter=\"url(#f5m9q3em8wu7s)\" height=\"45.9375\" id=\"E4\" rx=\"10\" ry=\"10\" style=\"stroke: #A80036; stroke-width: 1.5;\" width=\"42\" x=\"625\" y=\"54\"/><text fill=\"#000000\" font-family=\"sans-serif\" font-size=\"12\" font-style=\"italic\" lengthAdjust=\"spacingAndGlyphs\" textLength=\"40\" x=\"626\" y=\"70.1387\">«part»</text><text fill=\"#000000\" font-family=\"sans-serif\" font-size=\"12\" lengthAdjust=\"spacingAndGlyphs\" textLength=\"8\" x=\"642\" y=\"84.1074\">a</text><line style=\"stroke: #A80036; stroke-width: 1.5;\" x1=\"626\" x2=\"666\" y1=\"91.9375\" y2=\"91.9375\"/></a><!--MD5=[270fce915f116d4de14055a7c1d9a0f3]\n",
       "class E5--><a href=\"psysml:0e6ddf84-4c23-42ff-8adf-60418e76591d\" target=\"_top\" title=\"psysml:0e6ddf84-4c23-42ff-8adf-60418e76591d\" xlink:actuate=\"onRequest\" xlink:href=\"psysml:0e6ddf84-4c23-42ff-8adf-60418e76591d\" xlink:show=\"new\" xlink:title=\"psysml:0e6ddf84-4c23-42ff-8adf-60418e76591d\" xlink:type=\"simple\"><rect fill=\"#FEFECE\" filter=\"url(#f5m9q3em8wu7s)\" height=\"45.9375\" id=\"E5\" rx=\"10\" ry=\"10\" style=\"stroke: #A80036; stroke-width: 1.5;\" width=\"42\" x=\"548\" y=\"54\"/><text fill=\"#000000\" font-family=\"sans-serif\" font-size=\"12\" font-style=\"italic\" lengthAdjust=\"spacingAndGlyphs\" textLength=\"40\" x=\"549\" y=\"70.1387\">«part»</text><text fill=\"#000000\" font-family=\"sans-serif\" font-size=\"12\" lengthAdjust=\"spacingAndGlyphs\" textLength=\"24\" x=\"557\" y=\"84.1074\">b: P</text><line style=\"stroke: #A80036; stroke-width: 1.5;\" x1=\"549\" x2=\"589\" y1=\"91.9375\" y2=\"91.9375\"/></a><!--MD5=[60a26617385b1d2d0262a64233df1f8d]\n",
       "class E6--><a href=\"psysml:7a390bd1-339b-4feb-982b-b3a6ee4de727\" target=\"_top\" title=\"psysml:7a390bd1-339b-4feb-982b-b3a6ee4de727\" xlink:actuate=\"onRequest\" xlink:href=\"psysml:7a390bd1-339b-4feb-982b-b3a6ee4de727\" xlink:show=\"new\" xlink:title=\"psysml:7a390bd1-339b-4feb-982b-b3a6ee4de727\" xlink:type=\"simple\"><rect fill=\"#FEFECE\" filter=\"url(#f5m9q3em8wu7s)\" height=\"45.9375\" id=\"E6\" rx=\"10\" ry=\"10\" style=\"stroke: #A80036; stroke-width: 1.5;\" width=\"42\" x=\"471\" y=\"54\"/><text fill=\"#000000\" font-family=\"sans-serif\" font-size=\"12\" font-style=\"italic\" lengthAdjust=\"spacingAndGlyphs\" textLength=\"40\" x=\"472\" y=\"70.1387\">«part»</text><text fill=\"#000000\" font-family=\"sans-serif\" font-size=\"12\" lengthAdjust=\"spacingAndGlyphs\" textLength=\"23\" x=\"480.5\" y=\"84.1074\">c: P</text><line style=\"stroke: #A80036; stroke-width: 1.5;\" x1=\"472\" x2=\"512\" y1=\"91.9375\" y2=\"91.9375\"/></a><!--MD5=[2156ba9850f5573cc1fc38a6a4b2f02b]\n",
       "class E7--><a href=\"psysml:c41308c3-3ab4-4c95-8873-b6daf8742442\" target=\"_top\" title=\"psysml:c41308c3-3ab4-4c95-8873-b6daf8742442\" xlink:actuate=\"onRequest\" xlink:href=\"psysml:c41308c3-3ab4-4c95-8873-b6daf8742442\" xlink:show=\"new\" xlink:title=\"psysml:c41308c3-3ab4-4c95-8873-b6daf8742442\" xlink:type=\"simple\"><rect fill=\"#FEFECE\" filter=\"url(#f5m9q3em8wu7s)\" height=\"45.9375\" id=\"E7\" rx=\"10\" ry=\"10\" style=\"stroke: #A80036; stroke-width: 1.5;\" width=\"42\" x=\"394\" y=\"54\"/><text fill=\"#000000\" font-family=\"sans-serif\" font-size=\"12\" font-style=\"italic\" lengthAdjust=\"spacingAndGlyphs\" textLength=\"40\" x=\"395\" y=\"70.1387\">«part»</text><text fill=\"#000000\" font-family=\"sans-serif\" font-size=\"12\" lengthAdjust=\"spacingAndGlyphs\" textLength=\"8\" x=\"411\" y=\"84.1074\">d</text><line style=\"stroke: #A80036; stroke-width: 1.5;\" x1=\"395\" x2=\"435\" y1=\"91.9375\" y2=\"91.9375\"/></a><!--MD5=[b9389687b975829384b498ac4b7476b2]\n",
       "class E8--><a href=\"psysml:4786ae2f-f4fb-4524-a996-e764bd48b2ea\" target=\"_top\" title=\"psysml:4786ae2f-f4fb-4524-a996-e764bd48b2ea\" xlink:actuate=\"onRequest\" xlink:href=\"psysml:4786ae2f-f4fb-4524-a996-e764bd48b2ea\" xlink:show=\"new\" xlink:title=\"psysml:4786ae2f-f4fb-4524-a996-e764bd48b2ea\" xlink:type=\"simple\"><rect fill=\"#FEFECE\" filter=\"url(#f5m9q3em8wu7s)\" height=\"45.9375\" id=\"E8\" rx=\"10\" ry=\"10\" style=\"stroke: #A80036; stroke-width: 1.5;\" width=\"42\" x=\"317\" y=\"54\"/><text fill=\"#000000\" font-family=\"sans-serif\" font-size=\"12\" font-style=\"italic\" lengthAdjust=\"spacingAndGlyphs\" textLength=\"40\" x=\"318\" y=\"70.1387\">«part»</text><text fill=\"#000000\" font-family=\"sans-serif\" font-size=\"12\" lengthAdjust=\"spacingAndGlyphs\" textLength=\"8\" x=\"334\" y=\"84.1074\">e</text><line style=\"stroke: #A80036; stroke-width: 1.5;\" x1=\"318\" x2=\"358\" y1=\"91.9375\" y2=\"91.9375\"/></a><!--MD5=[fd4143e9d270a159db93a4ea2a975926]\n",
       "class E9--><a href=\"psysml:f4778415-89ee-45ef-90f6-0fdee23f5f44\" target=\"_top\" title=\"psysml:f4778415-89ee-45ef-90f6-0fdee23f5f44\" xlink:actuate=\"onRequest\" xlink:href=\"psysml:f4778415-89ee-45ef-90f6-0fdee23f5f44\" xlink:show=\"new\" xlink:title=\"psysml:f4778415-89ee-45ef-90f6-0fdee23f5f44\" xlink:type=\"simple\"><rect fill=\"#FEFECE\" filter=\"url(#f5m9q3em8wu7s)\" height=\"45.9375\" id=\"E9\" rx=\"10\" ry=\"10\" style=\"stroke: #A80036; stroke-width: 1.5;\" width=\"42\" x=\"240\" y=\"54\"/><text fill=\"#000000\" font-family=\"sans-serif\" font-size=\"12\" font-style=\"italic\" lengthAdjust=\"spacingAndGlyphs\" textLength=\"40\" x=\"241\" y=\"70.1387\">«part»</text><text fill=\"#000000\" font-family=\"sans-serif\" font-size=\"12\" lengthAdjust=\"spacingAndGlyphs\" textLength=\"4\" x=\"259\" y=\"84.1074\">f</text><line style=\"stroke: #A80036; stroke-width: 1.5;\" x1=\"241\" x2=\"281\" y1=\"91.9375\" y2=\"91.9375\"/></a><!--MD5=[96f4274e9e20536e775497830990834d]\n",
       "class E10--><a href=\"psysml:54ce765f-cd4b-40e3-bd55-528058a48d88\" target=\"_top\" title=\"psysml:54ce765f-cd4b-40e3-bd55-528058a48d88\" xlink:actuate=\"onRequest\" xlink:href=\"psysml:54ce765f-cd4b-40e3-bd55-528058a48d88\" xlink:show=\"new\" xlink:title=\"psysml:54ce765f-cd4b-40e3-bd55-528058a48d88\" xlink:type=\"simple\"><rect fill=\"#FEFECE\" filter=\"url(#f5m9q3em8wu7s)\" height=\"45.9375\" id=\"E10\" rx=\"10\" ry=\"10\" style=\"stroke: #A80036; stroke-width: 1.5;\" width=\"42\" x=\"163\" y=\"54\"/><text fill=\"#000000\" font-family=\"sans-serif\" font-size=\"12\" font-style=\"italic\" lengthAdjust=\"spacingAndGlyphs\" textLength=\"40\" x=\"164\" y=\"70.1387\">«part»</text><text fill=\"#000000\" font-family=\"sans-serif\" font-size=\"12\" lengthAdjust=\"spacingAndGlyphs\" textLength=\"8\" x=\"180\" y=\"84.1074\">g</text><line style=\"stroke: #A80036; stroke-width: 1.5;\" x1=\"164\" x2=\"204\" y1=\"91.9375\" y2=\"91.9375\"/></a><!--MD5=[1dd1bfd58a279cf63c5f349dbc8fc6a1]\n",
       "class E11--><a href=\"psysml:39471be4-e308-48bc-96c2-d92b434b60c0\" target=\"_top\" title=\"psysml:39471be4-e308-48bc-96c2-d92b434b60c0\" xlink:actuate=\"onRequest\" xlink:href=\"psysml:39471be4-e308-48bc-96c2-d92b434b60c0\" xlink:show=\"new\" xlink:title=\"psysml:39471be4-e308-48bc-96c2-d92b434b60c0\" xlink:type=\"simple\"><rect fill=\"#FEFECE\" filter=\"url(#f5m9q3em8wu7s)\" height=\"71.5469\" id=\"E11\" style=\"stroke: #A80036; stroke-width: 1.5;\" width=\"95\" x=\"32.5\" y=\"41\"/><text fill=\"#000000\" font-family=\"sans-serif\" font-size=\"12\" font-style=\"italic\" lengthAdjust=\"spacingAndGlyphs\" textLength=\"93\" x=\"33.5\" y=\"57.1387\">«attribute def»</text><text fill=\"#000000\" font-family=\"sans-serif\" font-size=\"12\" lengthAdjust=\"spacingAndGlyphs\" textLength=\"8\" x=\"76\" y=\"71.1074\">A</text><line style=\"stroke: #A80036; stroke-width: 1.5;\" x1=\"33.5\" x2=\"126.5\" y1=\"78.9375\" y2=\"78.9375\"/><text fill=\"#000000\" font-family=\"sans-serif\" font-size=\"11\" lengthAdjust=\"spacingAndGlyphs\" textLength=\"51\" x=\"38.5\" y=\"93.1479\">i: Integer</text><text fill=\"#000000\" font-family=\"sans-serif\" font-size=\"11\" lengthAdjust=\"spacingAndGlyphs\" textLength=\"21\" x=\"38.5\" y=\"105.9526\">x: A</text></a><!--MD5=[15ebcb19ae302d9b601edb458606d402]\n",
       "link E5 to E2--><a href=\"psysml:911f47bc-487d-4cbf-bcdd-94eeba00c89c\" target=\"_top\" title=\"psysml:911f47bc-487d-4cbf-bcdd-94eeba00c89c\" xlink:actuate=\"onRequest\" xlink:href=\"psysml:911f47bc-487d-4cbf-bcdd-94eeba00c89c\" xlink:show=\"new\" xlink:title=\"psysml:911f47bc-487d-4cbf-bcdd-94eeba00c89c\" xlink:type=\"simple\"><path d=\"M561.66,100.01 C556.63,115.11 549.8,135.61 543.76,153.71 \" fill=\"none\" id=\"E5-&gt;E2\" style=\"stroke: #A80036; stroke-width: 1.0;\"/><polygon fill=\"#FFFFFF\" points=\"537.44,172.69,536.7984,152.4517,550.082,156.8729,537.44,172.69\" style=\"stroke: #A80036; stroke-width: 1.0;\"/><ellipse cx=\"540.4961\" cy=\"147.675\" fill=\"#A80036\" rx=\"2\" ry=\"2\" style=\"stroke: #A80036; stroke-width: 1.0;\"/><ellipse cx=\"549.9844\" cy=\"150.833\" fill=\"#A80036\" rx=\"2\" ry=\"2\" style=\"stroke: #A80036; stroke-width: 1.0;\"/></a><!--MD5=[2351f337d6de0f557b50152ba70847b5]\n",
       "link E6 to E2--><a href=\"psysml:5d978d49-3aad-49b2-9a30-3bd5979ae9aa\" target=\"_top\" title=\"psysml:5d978d49-3aad-49b2-9a30-3bd5979ae9aa\" xlink:actuate=\"onRequest\" xlink:href=\"psysml:5d978d49-3aad-49b2-9a30-3bd5979ae9aa\" xlink:show=\"new\" xlink:title=\"psysml:5d978d49-3aad-49b2-9a30-3bd5979ae9aa\" xlink:type=\"simple\"><path d=\"M499.15,100.01 C504.03,115.03 510.64,135.39 516.49,153.41 \" fill=\"none\" id=\"E6-&gt;E2\" style=\"stroke: #A80036; stroke-width: 1.0;\"/><polygon fill=\"#FFFFFF\" points=\"522.76,172.69,510.2363,156.7791,523.5525,152.4571,522.76,172.69\" style=\"stroke: #A80036; stroke-width: 1.0;\"/><ellipse cx=\"510.379\" cy=\"150.74\" fill=\"#A80036\" rx=\"2\" ry=\"2\" style=\"stroke: #A80036; stroke-width: 1.0;\"/><ellipse cx=\"519.8905\" cy=\"147.6529\" fill=\"#A80036\" rx=\"2\" ry=\"2\" style=\"stroke: #A80036; stroke-width: 1.0;\"/></a><!--MD5=[86b82f1b56c9a2ccaada8194c0ef3cb3]\n",
       "@startuml\r\n",
       "skinparam wrapWidth 300\r\n",
       "hide circle\r\n",
       "\r\n",
       "package \"MultiplicityTest\" as E1  [[psysml:0be6947d-aa66-4017-a009-04bc0f7b30c5 ]]  {\r\n",
       "comp def \"P\" as E2  <<(T,blue)part def>> [[psysml:9ab3d3ff-483c-4e41-ada7-ab2d8c979da0 ]] {\r\n",
       "}\r\n",
       "comp usage \"n: Integer\" as E3  <<(T,blue)attribute>> [[psysml:bb4f0587-9240-4f5c-8b68-755ceb30f0e1 ]] {\r\n",
       "}\r\n",
       "comp usage \"a\" as E4  <<(T,blue)part>> [[psysml:9d5a91ec-9b15-487c-8680-11258af91cb9 ]] {\r\n",
       "}\r\n",
       "comp usage \"b: P\" as E5  <<(T,blue)part>> [[psysml:0e6ddf84-4c23-42ff-8adf-60418e76591d ]] {\r\n",
       "}\r\n",
       "comp usage \"c: P\" as E6  <<(T,blue)part>> [[psysml:7a390bd1-339b-4feb-982b-b3a6ee4de727 ]] {\r\n",
       "}\r\n",
       "comp usage \"d\" as E7  <<(T,blue)part>> [[psysml:c41308c3-3ab4-4c95-8873-b6daf8742442 ]] {\r\n",
       "}\r\n",
       "comp usage \"e\" as E8  <<(T,blue)part>> [[psysml:4786ae2f-f4fb-4524-a996-e764bd48b2ea ]] {\r\n",
       "}\r\n",
       "comp usage \"f\" as E9  <<(T,blue)part>> [[psysml:f4778415-89ee-45ef-90f6-0fdee23f5f44 ]] {\r\n",
       "}\r\n",
       "comp usage \"g\" as E10  <<(T,blue)part>> [[psysml:54ce765f-cd4b-40e3-bd55-528058a48d88 ]] {\r\n",
       "}\r\n",
       "comp def \"A\" as E11  <<(T,blue)attribute def>> [[psysml:39471be4-e308-48bc-96c2-d92b434b60c0 ]] {\r\n",
       "i: Integer\r\n",
       "x: A\r\n",
       "}\r\n",
       "E5 - -:|> E2 [[psysml:911f47bc-487d-4cbf-bcdd-94eeba00c89c ]] \r\n",
       "E6 - -:|> E2 [[psysml:5d978d49-3aad-49b2-9a30-3bd5979ae9aa ]] \r\n",
       "}\r\n",
       "@enduml\r\n",
       "\n",
       "PlantUML version 1.2020.13(Sat Jun 13 12:26:38 UTC 2020)\n",
       "(EPL source distribution)\n",
       "Java Runtime: OpenJDK Runtime Environment\n",
       "JVM: OpenJDK 64-Bit Server VM\n",
       "Default Encoding: UTF-8\n",
       "Language: en\n",
       "Country: null\n",
       "--></g></svg>"
      ]
     },
     "execution_count": 28,
     "metadata": {},
     "output_type": "execute_result"
    }
   ],
   "source": [
    "%viz --style=\"STDCOLOR\" --view=\"Sequence\" \"MultiplicityTest\""
   ]
  },
  {
   "cell_type": "code",
   "execution_count": 29,
   "id": "b39017a1",
   "metadata": {
    "execution": {
     "iopub.execute_input": "2021-04-21T20:26:43.658783Z",
     "iopub.status.busy": "2021-04-21T20:26:43.658282Z",
     "iopub.status.idle": "2021-04-21T20:26:43.700903Z",
     "shell.execute_reply": "2021-04-21T20:26:43.699453Z"
    }
   },
   "outputs": [
    {
     "data": {
      "image/svg+xml": [
       "<?xml version=\"1.0\" encoding=\"UTF-8\" standalone=\"no\"?><svg xmlns=\"http://www.w3.org/2000/svg\" xmlns:xlink=\"http://www.w3.org/1999/xlink\" contentScriptType=\"application/ecmascript\" contentStyleType=\"text/css\" height=\"247px\" preserveAspectRatio=\"none\" style=\"width:812px;height:247px;\" version=\"1.1\" viewBox=\"0 0 812 247\" width=\"812px\" zoomAndPan=\"magnify\"><defs><filter height=\"300%\" id=\"f5m9q3em8wu7s\" width=\"300%\" x=\"-1\" y=\"-1\"><feGaussianBlur result=\"blurOut\" stdDeviation=\"2.0\"/><feColorMatrix in=\"blurOut\" result=\"blurOut2\" type=\"matrix\" values=\"0 0 0 0 0 0 0 0 0 0 0 0 0 0 0 0 0 0 .4 0\"/><feOffset dx=\"4.0\" dy=\"4.0\" in=\"blurOut2\" result=\"blurOut3\"/><feBlend in=\"SourceGraphic\" in2=\"blurOut3\" mode=\"normal\"/></filter></defs><g><!--MD5=[fbc87193dbaf4d95561dea2c320d4a47]\n",
       "cluster E1--><a href=\"psysml:0be6947d-aa66-4017-a009-04bc0f7b30c5\" target=\"_top\" title=\"psysml:0be6947d-aa66-4017-a009-04bc0f7b30c5\" xlink:actuate=\"onRequest\" xlink:href=\"psysml:0be6947d-aa66-4017-a009-04bc0f7b30c5\" xlink:show=\"new\" xlink:title=\"psysml:0be6947d-aa66-4017-a009-04bc0f7b30c5\" xlink:type=\"simple\"><polygon fill=\"#FFFFFF\" filter=\"url(#f5m9q3em8wu7s)\" points=\"16,6,140,6,147,28.2969,790,28.2969,790,235,16,235,16,6\" style=\"stroke: #000000; stroke-width: 1.5;\"/><line style=\"stroke: #000000; stroke-width: 1.5;\" x1=\"16\" x2=\"147\" y1=\"28.2969\" y2=\"28.2969\"/><text fill=\"#000000\" font-family=\"sans-serif\" font-size=\"14\" font-weight=\"bold\" lengthAdjust=\"spacingAndGlyphs\" textLength=\"118\" x=\"20\" y=\"20.9951\">MultiplicityTest</text></a><!--MD5=[b4997ac47864f28c2f74865a473b2911]\n",
       "class E2--><a href=\"psysml:9ab3d3ff-483c-4e41-ada7-ab2d8c979da0\" target=\"_top\" title=\"psysml:9ab3d3ff-483c-4e41-ada7-ab2d8c979da0\" xlink:actuate=\"onRequest\" xlink:href=\"psysml:9ab3d3ff-483c-4e41-ada7-ab2d8c979da0\" xlink:show=\"new\" xlink:title=\"psysml:9ab3d3ff-483c-4e41-ada7-ab2d8c979da0\" xlink:type=\"simple\"><rect fill=\"#FEFECE\" filter=\"url(#f5m9q3em8wu7s)\" height=\"45.9375\" id=\"E2\" style=\"stroke: #A80036; stroke-width: 1.5;\" width=\"66\" x=\"497\" y=\"173\"/><text fill=\"#000000\" font-family=\"sans-serif\" font-size=\"12\" font-style=\"italic\" lengthAdjust=\"spacingAndGlyphs\" textLength=\"64\" x=\"498\" y=\"189.1387\">«part def»</text><text fill=\"#000000\" font-family=\"sans-serif\" font-size=\"12\" lengthAdjust=\"spacingAndGlyphs\" textLength=\"8\" x=\"526\" y=\"203.1074\">P</text><line style=\"stroke: #A80036; stroke-width: 1.5;\" x1=\"498\" x2=\"562\" y1=\"210.9375\" y2=\"210.9375\"/></a><!--MD5=[09b614a08d8cba4a07c9adeb5e0fee81]\n",
       "class E3--><a href=\"psysml:bb4f0587-9240-4f5c-8b68-755ceb30f0e1\" target=\"_top\" title=\"psysml:bb4f0587-9240-4f5c-8b68-755ceb30f0e1\" xlink:actuate=\"onRequest\" xlink:href=\"psysml:bb4f0587-9240-4f5c-8b68-755ceb30f0e1\" xlink:show=\"new\" xlink:title=\"psysml:bb4f0587-9240-4f5c-8b68-755ceb30f0e1\" xlink:type=\"simple\"><rect fill=\"#FEFECE\" filter=\"url(#f5m9q3em8wu7s)\" height=\"45.9375\" id=\"E3\" rx=\"10\" ry=\"10\" style=\"stroke: #A80036; stroke-width: 1.5;\" width=\"71\" x=\"702.5\" y=\"54\"/><text fill=\"#000000\" font-family=\"sans-serif\" font-size=\"12\" font-style=\"italic\" lengthAdjust=\"spacingAndGlyphs\" textLength=\"69\" x=\"703.5\" y=\"70.1387\">«attribute»</text><text fill=\"#000000\" font-family=\"sans-serif\" font-size=\"12\" lengthAdjust=\"spacingAndGlyphs\" textLength=\"61\" x=\"707.5\" y=\"84.1074\">n: Integer</text><line style=\"stroke: #A80036; stroke-width: 1.5;\" x1=\"703.5\" x2=\"772.5\" y1=\"91.9375\" y2=\"91.9375\"/></a><!--MD5=[ebbe1d658d1005bcc118a6aa81145e00]\n",
       "class E4--><a href=\"psysml:9d5a91ec-9b15-487c-8680-11258af91cb9\" target=\"_top\" title=\"psysml:9d5a91ec-9b15-487c-8680-11258af91cb9\" xlink:actuate=\"onRequest\" xlink:href=\"psysml:9d5a91ec-9b15-487c-8680-11258af91cb9\" xlink:show=\"new\" xlink:title=\"psysml:9d5a91ec-9b15-487c-8680-11258af91cb9\" xlink:type=\"simple\"><rect fill=\"#FEFECE\" filter=\"url(#f5m9q3em8wu7s)\" height=\"45.9375\" id=\"E4\" rx=\"10\" ry=\"10\" style=\"stroke: #A80036; stroke-width: 1.5;\" width=\"42\" x=\"625\" y=\"54\"/><text fill=\"#000000\" font-family=\"sans-serif\" font-size=\"12\" font-style=\"italic\" lengthAdjust=\"spacingAndGlyphs\" textLength=\"40\" x=\"626\" y=\"70.1387\">«part»</text><text fill=\"#000000\" font-family=\"sans-serif\" font-size=\"12\" lengthAdjust=\"spacingAndGlyphs\" textLength=\"8\" x=\"642\" y=\"84.1074\">a</text><line style=\"stroke: #A80036; stroke-width: 1.5;\" x1=\"626\" x2=\"666\" y1=\"91.9375\" y2=\"91.9375\"/></a><!--MD5=[270fce915f116d4de14055a7c1d9a0f3]\n",
       "class E5--><a href=\"psysml:0e6ddf84-4c23-42ff-8adf-60418e76591d\" target=\"_top\" title=\"psysml:0e6ddf84-4c23-42ff-8adf-60418e76591d\" xlink:actuate=\"onRequest\" xlink:href=\"psysml:0e6ddf84-4c23-42ff-8adf-60418e76591d\" xlink:show=\"new\" xlink:title=\"psysml:0e6ddf84-4c23-42ff-8adf-60418e76591d\" xlink:type=\"simple\"><rect fill=\"#FEFECE\" filter=\"url(#f5m9q3em8wu7s)\" height=\"45.9375\" id=\"E5\" rx=\"10\" ry=\"10\" style=\"stroke: #A80036; stroke-width: 1.5;\" width=\"42\" x=\"548\" y=\"54\"/><text fill=\"#000000\" font-family=\"sans-serif\" font-size=\"12\" font-style=\"italic\" lengthAdjust=\"spacingAndGlyphs\" textLength=\"40\" x=\"549\" y=\"70.1387\">«part»</text><text fill=\"#000000\" font-family=\"sans-serif\" font-size=\"12\" lengthAdjust=\"spacingAndGlyphs\" textLength=\"24\" x=\"557\" y=\"84.1074\">b: P</text><line style=\"stroke: #A80036; stroke-width: 1.5;\" x1=\"549\" x2=\"589\" y1=\"91.9375\" y2=\"91.9375\"/></a><!--MD5=[60a26617385b1d2d0262a64233df1f8d]\n",
       "class E6--><a href=\"psysml:7a390bd1-339b-4feb-982b-b3a6ee4de727\" target=\"_top\" title=\"psysml:7a390bd1-339b-4feb-982b-b3a6ee4de727\" xlink:actuate=\"onRequest\" xlink:href=\"psysml:7a390bd1-339b-4feb-982b-b3a6ee4de727\" xlink:show=\"new\" xlink:title=\"psysml:7a390bd1-339b-4feb-982b-b3a6ee4de727\" xlink:type=\"simple\"><rect fill=\"#FEFECE\" filter=\"url(#f5m9q3em8wu7s)\" height=\"45.9375\" id=\"E6\" rx=\"10\" ry=\"10\" style=\"stroke: #A80036; stroke-width: 1.5;\" width=\"42\" x=\"471\" y=\"54\"/><text fill=\"#000000\" font-family=\"sans-serif\" font-size=\"12\" font-style=\"italic\" lengthAdjust=\"spacingAndGlyphs\" textLength=\"40\" x=\"472\" y=\"70.1387\">«part»</text><text fill=\"#000000\" font-family=\"sans-serif\" font-size=\"12\" lengthAdjust=\"spacingAndGlyphs\" textLength=\"23\" x=\"480.5\" y=\"84.1074\">c: P</text><line style=\"stroke: #A80036; stroke-width: 1.5;\" x1=\"472\" x2=\"512\" y1=\"91.9375\" y2=\"91.9375\"/></a><!--MD5=[2156ba9850f5573cc1fc38a6a4b2f02b]\n",
       "class E7--><a href=\"psysml:c41308c3-3ab4-4c95-8873-b6daf8742442\" target=\"_top\" title=\"psysml:c41308c3-3ab4-4c95-8873-b6daf8742442\" xlink:actuate=\"onRequest\" xlink:href=\"psysml:c41308c3-3ab4-4c95-8873-b6daf8742442\" xlink:show=\"new\" xlink:title=\"psysml:c41308c3-3ab4-4c95-8873-b6daf8742442\" xlink:type=\"simple\"><rect fill=\"#FEFECE\" filter=\"url(#f5m9q3em8wu7s)\" height=\"45.9375\" id=\"E7\" rx=\"10\" ry=\"10\" style=\"stroke: #A80036; stroke-width: 1.5;\" width=\"42\" x=\"394\" y=\"54\"/><text fill=\"#000000\" font-family=\"sans-serif\" font-size=\"12\" font-style=\"italic\" lengthAdjust=\"spacingAndGlyphs\" textLength=\"40\" x=\"395\" y=\"70.1387\">«part»</text><text fill=\"#000000\" font-family=\"sans-serif\" font-size=\"12\" lengthAdjust=\"spacingAndGlyphs\" textLength=\"8\" x=\"411\" y=\"84.1074\">d</text><line style=\"stroke: #A80036; stroke-width: 1.5;\" x1=\"395\" x2=\"435\" y1=\"91.9375\" y2=\"91.9375\"/></a><!--MD5=[b9389687b975829384b498ac4b7476b2]\n",
       "class E8--><a href=\"psysml:4786ae2f-f4fb-4524-a996-e764bd48b2ea\" target=\"_top\" title=\"psysml:4786ae2f-f4fb-4524-a996-e764bd48b2ea\" xlink:actuate=\"onRequest\" xlink:href=\"psysml:4786ae2f-f4fb-4524-a996-e764bd48b2ea\" xlink:show=\"new\" xlink:title=\"psysml:4786ae2f-f4fb-4524-a996-e764bd48b2ea\" xlink:type=\"simple\"><rect fill=\"#FEFECE\" filter=\"url(#f5m9q3em8wu7s)\" height=\"45.9375\" id=\"E8\" rx=\"10\" ry=\"10\" style=\"stroke: #A80036; stroke-width: 1.5;\" width=\"42\" x=\"317\" y=\"54\"/><text fill=\"#000000\" font-family=\"sans-serif\" font-size=\"12\" font-style=\"italic\" lengthAdjust=\"spacingAndGlyphs\" textLength=\"40\" x=\"318\" y=\"70.1387\">«part»</text><text fill=\"#000000\" font-family=\"sans-serif\" font-size=\"12\" lengthAdjust=\"spacingAndGlyphs\" textLength=\"8\" x=\"334\" y=\"84.1074\">e</text><line style=\"stroke: #A80036; stroke-width: 1.5;\" x1=\"318\" x2=\"358\" y1=\"91.9375\" y2=\"91.9375\"/></a><!--MD5=[fd4143e9d270a159db93a4ea2a975926]\n",
       "class E9--><a href=\"psysml:f4778415-89ee-45ef-90f6-0fdee23f5f44\" target=\"_top\" title=\"psysml:f4778415-89ee-45ef-90f6-0fdee23f5f44\" xlink:actuate=\"onRequest\" xlink:href=\"psysml:f4778415-89ee-45ef-90f6-0fdee23f5f44\" xlink:show=\"new\" xlink:title=\"psysml:f4778415-89ee-45ef-90f6-0fdee23f5f44\" xlink:type=\"simple\"><rect fill=\"#FEFECE\" filter=\"url(#f5m9q3em8wu7s)\" height=\"45.9375\" id=\"E9\" rx=\"10\" ry=\"10\" style=\"stroke: #A80036; stroke-width: 1.5;\" width=\"42\" x=\"240\" y=\"54\"/><text fill=\"#000000\" font-family=\"sans-serif\" font-size=\"12\" font-style=\"italic\" lengthAdjust=\"spacingAndGlyphs\" textLength=\"40\" x=\"241\" y=\"70.1387\">«part»</text><text fill=\"#000000\" font-family=\"sans-serif\" font-size=\"12\" lengthAdjust=\"spacingAndGlyphs\" textLength=\"4\" x=\"259\" y=\"84.1074\">f</text><line style=\"stroke: #A80036; stroke-width: 1.5;\" x1=\"241\" x2=\"281\" y1=\"91.9375\" y2=\"91.9375\"/></a><!--MD5=[96f4274e9e20536e775497830990834d]\n",
       "class E10--><a href=\"psysml:54ce765f-cd4b-40e3-bd55-528058a48d88\" target=\"_top\" title=\"psysml:54ce765f-cd4b-40e3-bd55-528058a48d88\" xlink:actuate=\"onRequest\" xlink:href=\"psysml:54ce765f-cd4b-40e3-bd55-528058a48d88\" xlink:show=\"new\" xlink:title=\"psysml:54ce765f-cd4b-40e3-bd55-528058a48d88\" xlink:type=\"simple\"><rect fill=\"#FEFECE\" filter=\"url(#f5m9q3em8wu7s)\" height=\"45.9375\" id=\"E10\" rx=\"10\" ry=\"10\" style=\"stroke: #A80036; stroke-width: 1.5;\" width=\"42\" x=\"163\" y=\"54\"/><text fill=\"#000000\" font-family=\"sans-serif\" font-size=\"12\" font-style=\"italic\" lengthAdjust=\"spacingAndGlyphs\" textLength=\"40\" x=\"164\" y=\"70.1387\">«part»</text><text fill=\"#000000\" font-family=\"sans-serif\" font-size=\"12\" lengthAdjust=\"spacingAndGlyphs\" textLength=\"8\" x=\"180\" y=\"84.1074\">g</text><line style=\"stroke: #A80036; stroke-width: 1.5;\" x1=\"164\" x2=\"204\" y1=\"91.9375\" y2=\"91.9375\"/></a><!--MD5=[1dd1bfd58a279cf63c5f349dbc8fc6a1]\n",
       "class E11--><a href=\"psysml:39471be4-e308-48bc-96c2-d92b434b60c0\" target=\"_top\" title=\"psysml:39471be4-e308-48bc-96c2-d92b434b60c0\" xlink:actuate=\"onRequest\" xlink:href=\"psysml:39471be4-e308-48bc-96c2-d92b434b60c0\" xlink:show=\"new\" xlink:title=\"psysml:39471be4-e308-48bc-96c2-d92b434b60c0\" xlink:type=\"simple\"><rect fill=\"#FEFECE\" filter=\"url(#f5m9q3em8wu7s)\" height=\"71.5469\" id=\"E11\" style=\"stroke: #A80036; stroke-width: 1.5;\" width=\"95\" x=\"32.5\" y=\"41\"/><text fill=\"#000000\" font-family=\"sans-serif\" font-size=\"12\" font-style=\"italic\" lengthAdjust=\"spacingAndGlyphs\" textLength=\"93\" x=\"33.5\" y=\"57.1387\">«attribute def»</text><text fill=\"#000000\" font-family=\"sans-serif\" font-size=\"12\" lengthAdjust=\"spacingAndGlyphs\" textLength=\"8\" x=\"76\" y=\"71.1074\">A</text><line style=\"stroke: #A80036; stroke-width: 1.5;\" x1=\"33.5\" x2=\"126.5\" y1=\"78.9375\" y2=\"78.9375\"/><text fill=\"#000000\" font-family=\"sans-serif\" font-size=\"11\" lengthAdjust=\"spacingAndGlyphs\" textLength=\"51\" x=\"38.5\" y=\"93.1479\">i: Integer</text><text fill=\"#000000\" font-family=\"sans-serif\" font-size=\"11\" lengthAdjust=\"spacingAndGlyphs\" textLength=\"21\" x=\"38.5\" y=\"105.9526\">x: A</text></a><!--MD5=[15ebcb19ae302d9b601edb458606d402]\n",
       "link E5 to E2--><a href=\"psysml:911f47bc-487d-4cbf-bcdd-94eeba00c89c\" target=\"_top\" title=\"psysml:911f47bc-487d-4cbf-bcdd-94eeba00c89c\" xlink:actuate=\"onRequest\" xlink:href=\"psysml:911f47bc-487d-4cbf-bcdd-94eeba00c89c\" xlink:show=\"new\" xlink:title=\"psysml:911f47bc-487d-4cbf-bcdd-94eeba00c89c\" xlink:type=\"simple\"><path d=\"M561.66,100.01 C556.63,115.11 549.8,135.61 543.76,153.71 \" fill=\"none\" id=\"E5-&gt;E2\" style=\"stroke: #A80036; stroke-width: 1.0;\"/><polygon fill=\"#FFFFFF\" points=\"537.44,172.69,536.7984,152.4517,550.082,156.8729,537.44,172.69\" style=\"stroke: #A80036; stroke-width: 1.0;\"/><ellipse cx=\"540.4961\" cy=\"147.675\" fill=\"#A80036\" rx=\"2\" ry=\"2\" style=\"stroke: #A80036; stroke-width: 1.0;\"/><ellipse cx=\"549.9844\" cy=\"150.833\" fill=\"#A80036\" rx=\"2\" ry=\"2\" style=\"stroke: #A80036; stroke-width: 1.0;\"/></a><!--MD5=[2351f337d6de0f557b50152ba70847b5]\n",
       "link E6 to E2--><a href=\"psysml:5d978d49-3aad-49b2-9a30-3bd5979ae9aa\" target=\"_top\" title=\"psysml:5d978d49-3aad-49b2-9a30-3bd5979ae9aa\" xlink:actuate=\"onRequest\" xlink:href=\"psysml:5d978d49-3aad-49b2-9a30-3bd5979ae9aa\" xlink:show=\"new\" xlink:title=\"psysml:5d978d49-3aad-49b2-9a30-3bd5979ae9aa\" xlink:type=\"simple\"><path d=\"M499.15,100.01 C504.03,115.03 510.64,135.39 516.49,153.41 \" fill=\"none\" id=\"E6-&gt;E2\" style=\"stroke: #A80036; stroke-width: 1.0;\"/><polygon fill=\"#FFFFFF\" points=\"522.76,172.69,510.2363,156.7791,523.5525,152.4571,522.76,172.69\" style=\"stroke: #A80036; stroke-width: 1.0;\"/><ellipse cx=\"510.379\" cy=\"150.74\" fill=\"#A80036\" rx=\"2\" ry=\"2\" style=\"stroke: #A80036; stroke-width: 1.0;\"/><ellipse cx=\"519.8905\" cy=\"147.6529\" fill=\"#A80036\" rx=\"2\" ry=\"2\" style=\"stroke: #A80036; stroke-width: 1.0;\"/></a><!--MD5=[86b82f1b56c9a2ccaada8194c0ef3cb3]\n",
       "@startuml\r\n",
       "skinparam wrapWidth 300\r\n",
       "hide circle\r\n",
       "\r\n",
       "package \"MultiplicityTest\" as E1  [[psysml:0be6947d-aa66-4017-a009-04bc0f7b30c5 ]]  {\r\n",
       "comp def \"P\" as E2  <<(T,blue)part def>> [[psysml:9ab3d3ff-483c-4e41-ada7-ab2d8c979da0 ]] {\r\n",
       "}\r\n",
       "comp usage \"n: Integer\" as E3  <<(T,blue)attribute>> [[psysml:bb4f0587-9240-4f5c-8b68-755ceb30f0e1 ]] {\r\n",
       "}\r\n",
       "comp usage \"a\" as E4  <<(T,blue)part>> [[psysml:9d5a91ec-9b15-487c-8680-11258af91cb9 ]] {\r\n",
       "}\r\n",
       "comp usage \"b: P\" as E5  <<(T,blue)part>> [[psysml:0e6ddf84-4c23-42ff-8adf-60418e76591d ]] {\r\n",
       "}\r\n",
       "comp usage \"c: P\" as E6  <<(T,blue)part>> [[psysml:7a390bd1-339b-4feb-982b-b3a6ee4de727 ]] {\r\n",
       "}\r\n",
       "comp usage \"d\" as E7  <<(T,blue)part>> [[psysml:c41308c3-3ab4-4c95-8873-b6daf8742442 ]] {\r\n",
       "}\r\n",
       "comp usage \"e\" as E8  <<(T,blue)part>> [[psysml:4786ae2f-f4fb-4524-a996-e764bd48b2ea ]] {\r\n",
       "}\r\n",
       "comp usage \"f\" as E9  <<(T,blue)part>> [[psysml:f4778415-89ee-45ef-90f6-0fdee23f5f44 ]] {\r\n",
       "}\r\n",
       "comp usage \"g\" as E10  <<(T,blue)part>> [[psysml:54ce765f-cd4b-40e3-bd55-528058a48d88 ]] {\r\n",
       "}\r\n",
       "comp def \"A\" as E11  <<(T,blue)attribute def>> [[psysml:39471be4-e308-48bc-96c2-d92b434b60c0 ]] {\r\n",
       "i: Integer\r\n",
       "x: A\r\n",
       "}\r\n",
       "E5 - -:|> E2 [[psysml:911f47bc-487d-4cbf-bcdd-94eeba00c89c ]] \r\n",
       "E6 - -:|> E2 [[psysml:5d978d49-3aad-49b2-9a30-3bd5979ae9aa ]] \r\n",
       "}\r\n",
       "@enduml\r\n",
       "\n",
       "PlantUML version 1.2020.13(Sat Jun 13 12:26:38 UTC 2020)\n",
       "(EPL source distribution)\n",
       "Java Runtime: OpenJDK Runtime Environment\n",
       "JVM: OpenJDK 64-Bit Server VM\n",
       "Default Encoding: UTF-8\n",
       "Language: en\n",
       "Country: null\n",
       "--></g></svg>"
      ]
     },
     "execution_count": 29,
     "metadata": {},
     "output_type": "execute_result"
    }
   ],
   "source": [
    "%viz --style=\"STDCOLOR\" --view=\"MIXED\" \"MultiplicityTest\""
   ]
  },
  {
   "cell_type": "code",
   "execution_count": 30,
   "id": "e769d3e6",
   "metadata": {
    "execution": {
     "iopub.execute_input": "2021-04-21T20:26:43.752002Z",
     "iopub.status.busy": "2021-04-21T20:26:43.751301Z",
     "iopub.status.idle": "2021-04-21T20:26:43.832238Z",
     "shell.execute_reply": "2021-04-21T20:26:43.830785Z"
    }
   },
   "outputs": [
    {
     "data": {
      "image/svg+xml": [
       "<?xml version=\"1.0\" encoding=\"UTF-8\" standalone=\"no\"?><svg xmlns=\"http://www.w3.org/2000/svg\" xmlns:xlink=\"http://www.w3.org/1999/xlink\" contentScriptType=\"application/ecmascript\" contentStyleType=\"text/css\" height=\"241px\" preserveAspectRatio=\"none\" style=\"width:1045px;height:241px;\" version=\"1.1\" viewBox=\"0 0 1045 241\" width=\"1045px\" zoomAndPan=\"magnify\"><defs><filter height=\"300%\" id=\"fs2awtru0ej11\" width=\"300%\" x=\"-1\" y=\"-1\"><feGaussianBlur result=\"blurOut\" stdDeviation=\"2.0\"/><feColorMatrix in=\"blurOut\" result=\"blurOut2\" type=\"matrix\" values=\"0 0 0 0 0 0 0 0 0 0 0 0 0 0 0 0 0 0 .4 0\"/><feOffset dx=\"4.0\" dy=\"4.0\" in=\"blurOut2\" result=\"blurOut3\"/><feBlend in=\"SourceGraphic\" in2=\"blurOut3\" mode=\"normal\"/></filter></defs><g><!--MD5=[fbc87193dbaf4d95561dea2c320d4a47]\n",
       "cluster E1--><a href=\"psysml:0be6947d-aa66-4017-a009-04bc0f7b30c5\" target=\"_top\" title=\"psysml:0be6947d-aa66-4017-a009-04bc0f7b30c5\" xlink:actuate=\"onRequest\" xlink:href=\"psysml:0be6947d-aa66-4017-a009-04bc0f7b30c5\" xlink:show=\"new\" xlink:title=\"psysml:0be6947d-aa66-4017-a009-04bc0f7b30c5\" xlink:type=\"simple\"><polygon fill=\"#FFFFFF\" filter=\"url(#fs2awtru0ej11)\" points=\"16,6,140,6,147,28.2969,1023,28.2969,1023,229,16,229,16,6\" style=\"stroke: #000000; stroke-width: 1.5;\"/><line style=\"stroke: #000000; stroke-width: 1.5;\" x1=\"16\" x2=\"147\" y1=\"28.2969\" y2=\"28.2969\"/><text fill=\"#000000\" font-family=\"sans-serif\" font-size=\"14\" font-weight=\"bold\" lengthAdjust=\"spacingAndGlyphs\" textLength=\"118\" x=\"20\" y=\"20.9951\">MultiplicityTest</text></a><!--MD5=[b4997ac47864f28c2f74865a473b2911]\n",
       "class E2--><a href=\"psysml:9ab3d3ff-483c-4e41-ada7-ab2d8c979da0\" target=\"_top\" title=\"psysml:9ab3d3ff-483c-4e41-ada7-ab2d8c979da0\" xlink:actuate=\"onRequest\" xlink:href=\"psysml:9ab3d3ff-483c-4e41-ada7-ab2d8c979da0\" xlink:show=\"new\" xlink:title=\"psysml:9ab3d3ff-483c-4e41-ada7-ab2d8c979da0\" xlink:type=\"simple\"><rect fill=\"#FEFECE\" filter=\"url(#fs2awtru0ej11)\" height=\"40\" id=\"E2\" style=\"stroke: #A80036; stroke-width: 1.5;\" width=\"40\" x=\"666\" y=\"173\"/><ellipse cx=\"681\" cy=\"189\" fill=\"#008000\" rx=\"11\" ry=\"11\" style=\"stroke: #A80036; stroke-width: 1.0;\"/><path d=\"M679.9063,189.375 L679.9063,193.0469 L681.5313,193.0469 Q682.7031,193.0469 683.1719,192.6563 Q683.6406,192.25 683.6406,191.25 Q683.6406,190.25 683.1406,189.8125 Q682.6563,189.375 681.5313,189.375 L679.9063,189.375 Z M679.9063,184.5469 L679.9063,187.4219 L681.5313,187.4219 Q682.4531,187.4219 682.8438,187.0938 Q683.25,186.75 683.25,186 Q683.25,185.2344 682.8438,184.8906 Q682.4375,184.5469 681.5313,184.5469 L679.9063,184.5469 Z M677.5313,182.5938 L681.5313,182.5938 Q683.5938,182.5938 684.6406,183.375 Q685.6875,184.1563 685.6875,185.7188 Q685.6875,186.9219 685.0625,187.5938 Q684.4531,188.2656 683.2656,188.375 Q684.6875,188.5156 685.4063,189.3281 Q686.125,190.1406 686.125,191.5938 Q686.125,193.3906 685.0469,194.2031 Q683.9688,195 681.5313,195 L677.5313,195 L677.5313,182.5938 Z \"/><text fill=\"#000000\" font-family=\"sans-serif\" font-size=\"12\" lengthAdjust=\"spacingAndGlyphs\" textLength=\"8\" x=\"695\" y=\"193.1543\">P</text><line style=\"stroke: #A80036; stroke-width: 1.5;\" x1=\"667\" x2=\"705\" y1=\"205\" y2=\"205\"/></a><!--MD5=[09b614a08d8cba4a07c9adeb5e0fee81]\n",
       "class E3--><a href=\"psysml:bb4f0587-9240-4f5c-8b68-755ceb30f0e1\" target=\"_top\" title=\"psysml:bb4f0587-9240-4f5c-8b68-755ceb30f0e1\" xlink:actuate=\"onRequest\" xlink:href=\"psysml:bb4f0587-9240-4f5c-8b68-755ceb30f0e1\" xlink:show=\"new\" xlink:title=\"psysml:bb4f0587-9240-4f5c-8b68-755ceb30f0e1\" xlink:type=\"simple\"><rect fill=\"#FEFECE\" filter=\"url(#fs2awtru0ej11)\" height=\"45.9375\" id=\"E3\" rx=\"10\" ry=\"10\" style=\"stroke: #A80036; stroke-width: 1.5;\" width=\"97\" x=\"910.5\" y=\"54\"/><ellipse cx=\"925.5\" cy=\"72.9688\" fill=\"#FFA500\" rx=\"11\" ry=\"11\" style=\"stroke: #A80036; stroke-width: 1.0;\"/><path d=\"M921.375,74.8906 L921.375,67.0781 L923.8281,67.0781 L923.8281,75.5156 Q923.8281,76.4375 924.2969,76.9688 Q924.7813,77.5 925.6094,77.5 Q926.4531,77.5 926.9219,76.9688 Q927.3906,76.4375 927.3906,75.5156 L927.3906,67.0781 L929.8438,67.0781 L929.8438,74.8906 Q929.8438,77.4219 928.8438,78.5625 Q927.8438,79.7031 925.6094,79.7031 Q923.3906,79.7031 922.375,78.5625 Q921.375,77.4219 921.375,74.8906 Z \"/><text fill=\"#000000\" font-family=\"sans-serif\" font-size=\"12\" font-style=\"italic\" lengthAdjust=\"spacingAndGlyphs\" textLength=\"69\" x=\"937.5\" y=\"70.1387\">«attribute»</text><text fill=\"#000000\" font-family=\"sans-serif\" font-size=\"12\" lengthAdjust=\"spacingAndGlyphs\" textLength=\"61\" x=\"941.5\" y=\"84.1074\">n: Integer</text><line style=\"stroke: #A80036; stroke-width: 1.5;\" x1=\"911.5\" x2=\"1006.5\" y1=\"91.9375\" y2=\"91.9375\"/></a><!--MD5=[ebbe1d658d1005bcc118a6aa81145e00]\n",
       "class E4--><a href=\"psysml:9d5a91ec-9b15-487c-8680-11258af91cb9\" target=\"_top\" title=\"psysml:9d5a91ec-9b15-487c-8680-11258af91cb9\" xlink:actuate=\"onRequest\" xlink:href=\"psysml:9d5a91ec-9b15-487c-8680-11258af91cb9\" xlink:show=\"new\" xlink:title=\"psysml:9d5a91ec-9b15-487c-8680-11258af91cb9\" xlink:type=\"simple\"><rect fill=\"#FEFECE\" filter=\"url(#fs2awtru0ej11)\" height=\"45.9375\" id=\"E4\" rx=\"10\" ry=\"10\" style=\"stroke: #A80036; stroke-width: 1.5;\" width=\"68\" x=\"807\" y=\"54\"/><ellipse cx=\"822\" cy=\"72.9688\" fill=\"#32CD32\" rx=\"11\" ry=\"11\" style=\"stroke: #A80036; stroke-width: 1.0;\"/><path d=\"M821.7969,68.6406 L821.7969,72.2656 L822.7969,72.2656 Q824,72.2656 824.4844,71.8594 Q824.9688,71.4531 824.9688,70.4531 Q824.9688,69.4531 824.4844,69.0469 Q824,68.6406 822.7969,68.6406 L821.7969,68.6406 Z M819.3438,66.5781 L822.7031,66.5781 Q825.2656,66.5781 826.3906,67.5 Q827.5156,68.4063 827.5156,70.4531 Q827.5156,72.5 826.3906,73.4219 Q825.2656,74.3281 822.7031,74.3281 L821.7969,74.3281 L821.7969,78.9688 L819.3438,78.9688 L819.3438,66.5781 Z \"/><text fill=\"#000000\" font-family=\"sans-serif\" font-size=\"12\" font-style=\"italic\" lengthAdjust=\"spacingAndGlyphs\" textLength=\"40\" x=\"834\" y=\"70.1387\">«part»</text><text fill=\"#000000\" font-family=\"sans-serif\" font-size=\"12\" lengthAdjust=\"spacingAndGlyphs\" textLength=\"8\" x=\"850\" y=\"84.1074\">a</text><line style=\"stroke: #A80036; stroke-width: 1.5;\" x1=\"808\" x2=\"874\" y1=\"91.9375\" y2=\"91.9375\"/></a><!--MD5=[270fce915f116d4de14055a7c1d9a0f3]\n",
       "class E5--><a href=\"psysml:0e6ddf84-4c23-42ff-8adf-60418e76591d\" target=\"_top\" title=\"psysml:0e6ddf84-4c23-42ff-8adf-60418e76591d\" xlink:actuate=\"onRequest\" xlink:href=\"psysml:0e6ddf84-4c23-42ff-8adf-60418e76591d\" xlink:show=\"new\" xlink:title=\"psysml:0e6ddf84-4c23-42ff-8adf-60418e76591d\" xlink:type=\"simple\"><rect fill=\"#FEFECE\" filter=\"url(#fs2awtru0ej11)\" height=\"45.9375\" id=\"E5\" rx=\"10\" ry=\"10\" style=\"stroke: #A80036; stroke-width: 1.5;\" width=\"68\" x=\"704\" y=\"54\"/><ellipse cx=\"719\" cy=\"72.9688\" fill=\"#32CD32\" rx=\"11\" ry=\"11\" style=\"stroke: #A80036; stroke-width: 1.0;\"/><path d=\"M718.7969,68.6406 L718.7969,72.2656 L719.7969,72.2656 Q721,72.2656 721.4844,71.8594 Q721.9688,71.4531 721.9688,70.4531 Q721.9688,69.4531 721.4844,69.0469 Q721,68.6406 719.7969,68.6406 L718.7969,68.6406 Z M716.3438,66.5781 L719.7031,66.5781 Q722.2656,66.5781 723.3906,67.5 Q724.5156,68.4063 724.5156,70.4531 Q724.5156,72.5 723.3906,73.4219 Q722.2656,74.3281 719.7031,74.3281 L718.7969,74.3281 L718.7969,78.9688 L716.3438,78.9688 L716.3438,66.5781 Z \"/><text fill=\"#000000\" font-family=\"sans-serif\" font-size=\"12\" font-style=\"italic\" lengthAdjust=\"spacingAndGlyphs\" textLength=\"40\" x=\"731\" y=\"70.1387\">«part»</text><text fill=\"#000000\" font-family=\"sans-serif\" font-size=\"12\" lengthAdjust=\"spacingAndGlyphs\" textLength=\"24\" x=\"739\" y=\"84.1074\">b: P</text><line style=\"stroke: #A80036; stroke-width: 1.5;\" x1=\"705\" x2=\"771\" y1=\"91.9375\" y2=\"91.9375\"/></a><!--MD5=[60a26617385b1d2d0262a64233df1f8d]\n",
       "class E6--><a href=\"psysml:7a390bd1-339b-4feb-982b-b3a6ee4de727\" target=\"_top\" title=\"psysml:7a390bd1-339b-4feb-982b-b3a6ee4de727\" xlink:actuate=\"onRequest\" xlink:href=\"psysml:7a390bd1-339b-4feb-982b-b3a6ee4de727\" xlink:show=\"new\" xlink:title=\"psysml:7a390bd1-339b-4feb-982b-b3a6ee4de727\" xlink:type=\"simple\"><rect fill=\"#FEFECE\" filter=\"url(#fs2awtru0ej11)\" height=\"45.9375\" id=\"E6\" rx=\"10\" ry=\"10\" style=\"stroke: #A80036; stroke-width: 1.5;\" width=\"68\" x=\"601\" y=\"54\"/><ellipse cx=\"616\" cy=\"72.9688\" fill=\"#32CD32\" rx=\"11\" ry=\"11\" style=\"stroke: #A80036; stroke-width: 1.0;\"/><path d=\"M615.7969,68.6406 L615.7969,72.2656 L616.7969,72.2656 Q618,72.2656 618.4844,71.8594 Q618.9688,71.4531 618.9688,70.4531 Q618.9688,69.4531 618.4844,69.0469 Q618,68.6406 616.7969,68.6406 L615.7969,68.6406 Z M613.3438,66.5781 L616.7031,66.5781 Q619.2656,66.5781 620.3906,67.5 Q621.5156,68.4063 621.5156,70.4531 Q621.5156,72.5 620.3906,73.4219 Q619.2656,74.3281 616.7031,74.3281 L615.7969,74.3281 L615.7969,78.9688 L613.3438,78.9688 L613.3438,66.5781 Z \"/><text fill=\"#000000\" font-family=\"sans-serif\" font-size=\"12\" font-style=\"italic\" lengthAdjust=\"spacingAndGlyphs\" textLength=\"40\" x=\"628\" y=\"70.1387\">«part»</text><text fill=\"#000000\" font-family=\"sans-serif\" font-size=\"12\" lengthAdjust=\"spacingAndGlyphs\" textLength=\"23\" x=\"636.5\" y=\"84.1074\">c: P</text><line style=\"stroke: #A80036; stroke-width: 1.5;\" x1=\"602\" x2=\"668\" y1=\"91.9375\" y2=\"91.9375\"/></a><!--MD5=[2156ba9850f5573cc1fc38a6a4b2f02b]\n",
       "class E7--><a href=\"psysml:c41308c3-3ab4-4c95-8873-b6daf8742442\" target=\"_top\" title=\"psysml:c41308c3-3ab4-4c95-8873-b6daf8742442\" xlink:actuate=\"onRequest\" xlink:href=\"psysml:c41308c3-3ab4-4c95-8873-b6daf8742442\" xlink:show=\"new\" xlink:title=\"psysml:c41308c3-3ab4-4c95-8873-b6daf8742442\" xlink:type=\"simple\"><rect fill=\"#FEFECE\" filter=\"url(#fs2awtru0ej11)\" height=\"45.9375\" id=\"E7\" rx=\"10\" ry=\"10\" style=\"stroke: #A80036; stroke-width: 1.5;\" width=\"68\" x=\"498\" y=\"54\"/><ellipse cx=\"513\" cy=\"72.9688\" fill=\"#32CD32\" rx=\"11\" ry=\"11\" style=\"stroke: #A80036; stroke-width: 1.0;\"/><path d=\"M512.7969,68.6406 L512.7969,72.2656 L513.7969,72.2656 Q515,72.2656 515.4844,71.8594 Q515.9688,71.4531 515.9688,70.4531 Q515.9688,69.4531 515.4844,69.0469 Q515,68.6406 513.7969,68.6406 L512.7969,68.6406 Z M510.3438,66.5781 L513.7031,66.5781 Q516.2656,66.5781 517.3906,67.5 Q518.5156,68.4063 518.5156,70.4531 Q518.5156,72.5 517.3906,73.4219 Q516.2656,74.3281 513.7031,74.3281 L512.7969,74.3281 L512.7969,78.9688 L510.3438,78.9688 L510.3438,66.5781 Z \"/><text fill=\"#000000\" font-family=\"sans-serif\" font-size=\"12\" font-style=\"italic\" lengthAdjust=\"spacingAndGlyphs\" textLength=\"40\" x=\"525\" y=\"70.1387\">«part»</text><text fill=\"#000000\" font-family=\"sans-serif\" font-size=\"12\" lengthAdjust=\"spacingAndGlyphs\" textLength=\"8\" x=\"541\" y=\"84.1074\">d</text><line style=\"stroke: #A80036; stroke-width: 1.5;\" x1=\"499\" x2=\"565\" y1=\"91.9375\" y2=\"91.9375\"/></a><!--MD5=[b9389687b975829384b498ac4b7476b2]\n",
       "class E8--><a href=\"psysml:4786ae2f-f4fb-4524-a996-e764bd48b2ea\" target=\"_top\" title=\"psysml:4786ae2f-f4fb-4524-a996-e764bd48b2ea\" xlink:actuate=\"onRequest\" xlink:href=\"psysml:4786ae2f-f4fb-4524-a996-e764bd48b2ea\" xlink:show=\"new\" xlink:title=\"psysml:4786ae2f-f4fb-4524-a996-e764bd48b2ea\" xlink:type=\"simple\"><rect fill=\"#FEFECE\" filter=\"url(#fs2awtru0ej11)\" height=\"45.9375\" id=\"E8\" rx=\"10\" ry=\"10\" style=\"stroke: #A80036; stroke-width: 1.5;\" width=\"68\" x=\"395\" y=\"54\"/><ellipse cx=\"410\" cy=\"72.9688\" fill=\"#32CD32\" rx=\"11\" ry=\"11\" style=\"stroke: #A80036; stroke-width: 1.0;\"/><path d=\"M409.7969,68.6406 L409.7969,72.2656 L410.7969,72.2656 Q412,72.2656 412.4844,71.8594 Q412.9688,71.4531 412.9688,70.4531 Q412.9688,69.4531 412.4844,69.0469 Q412,68.6406 410.7969,68.6406 L409.7969,68.6406 Z M407.3438,66.5781 L410.7031,66.5781 Q413.2656,66.5781 414.3906,67.5 Q415.5156,68.4063 415.5156,70.4531 Q415.5156,72.5 414.3906,73.4219 Q413.2656,74.3281 410.7031,74.3281 L409.7969,74.3281 L409.7969,78.9688 L407.3438,78.9688 L407.3438,66.5781 Z \"/><text fill=\"#000000\" font-family=\"sans-serif\" font-size=\"12\" font-style=\"italic\" lengthAdjust=\"spacingAndGlyphs\" textLength=\"40\" x=\"422\" y=\"70.1387\">«part»</text><text fill=\"#000000\" font-family=\"sans-serif\" font-size=\"12\" lengthAdjust=\"spacingAndGlyphs\" textLength=\"8\" x=\"438\" y=\"84.1074\">e</text><line style=\"stroke: #A80036; stroke-width: 1.5;\" x1=\"396\" x2=\"462\" y1=\"91.9375\" y2=\"91.9375\"/></a><!--MD5=[fd4143e9d270a159db93a4ea2a975926]\n",
       "class E9--><a href=\"psysml:f4778415-89ee-45ef-90f6-0fdee23f5f44\" target=\"_top\" title=\"psysml:f4778415-89ee-45ef-90f6-0fdee23f5f44\" xlink:actuate=\"onRequest\" xlink:href=\"psysml:f4778415-89ee-45ef-90f6-0fdee23f5f44\" xlink:show=\"new\" xlink:title=\"psysml:f4778415-89ee-45ef-90f6-0fdee23f5f44\" xlink:type=\"simple\"><rect fill=\"#FEFECE\" filter=\"url(#fs2awtru0ej11)\" height=\"45.9375\" id=\"E9\" rx=\"10\" ry=\"10\" style=\"stroke: #A80036; stroke-width: 1.5;\" width=\"68\" x=\"292\" y=\"54\"/><ellipse cx=\"307\" cy=\"72.9688\" fill=\"#32CD32\" rx=\"11\" ry=\"11\" style=\"stroke: #A80036; stroke-width: 1.0;\"/><path d=\"M306.7969,68.6406 L306.7969,72.2656 L307.7969,72.2656 Q309,72.2656 309.4844,71.8594 Q309.9688,71.4531 309.9688,70.4531 Q309.9688,69.4531 309.4844,69.0469 Q309,68.6406 307.7969,68.6406 L306.7969,68.6406 Z M304.3438,66.5781 L307.7031,66.5781 Q310.2656,66.5781 311.3906,67.5 Q312.5156,68.4063 312.5156,70.4531 Q312.5156,72.5 311.3906,73.4219 Q310.2656,74.3281 307.7031,74.3281 L306.7969,74.3281 L306.7969,78.9688 L304.3438,78.9688 L304.3438,66.5781 Z \"/><text fill=\"#000000\" font-family=\"sans-serif\" font-size=\"12\" font-style=\"italic\" lengthAdjust=\"spacingAndGlyphs\" textLength=\"40\" x=\"319\" y=\"70.1387\">«part»</text><text fill=\"#000000\" font-family=\"sans-serif\" font-size=\"12\" lengthAdjust=\"spacingAndGlyphs\" textLength=\"4\" x=\"337\" y=\"84.1074\">f</text><line style=\"stroke: #A80036; stroke-width: 1.5;\" x1=\"293\" x2=\"359\" y1=\"91.9375\" y2=\"91.9375\"/></a><!--MD5=[96f4274e9e20536e775497830990834d]\n",
       "class E10--><a href=\"psysml:54ce765f-cd4b-40e3-bd55-528058a48d88\" target=\"_top\" title=\"psysml:54ce765f-cd4b-40e3-bd55-528058a48d88\" xlink:actuate=\"onRequest\" xlink:href=\"psysml:54ce765f-cd4b-40e3-bd55-528058a48d88\" xlink:show=\"new\" xlink:title=\"psysml:54ce765f-cd4b-40e3-bd55-528058a48d88\" xlink:type=\"simple\"><rect fill=\"#FEFECE\" filter=\"url(#fs2awtru0ej11)\" height=\"45.9375\" id=\"E10\" rx=\"10\" ry=\"10\" style=\"stroke: #A80036; stroke-width: 1.5;\" width=\"68\" x=\"189\" y=\"54\"/><ellipse cx=\"204\" cy=\"72.9688\" fill=\"#32CD32\" rx=\"11\" ry=\"11\" style=\"stroke: #A80036; stroke-width: 1.0;\"/><path d=\"M203.7969,68.6406 L203.7969,72.2656 L204.7969,72.2656 Q206,72.2656 206.4844,71.8594 Q206.9688,71.4531 206.9688,70.4531 Q206.9688,69.4531 206.4844,69.0469 Q206,68.6406 204.7969,68.6406 L203.7969,68.6406 Z M201.3438,66.5781 L204.7031,66.5781 Q207.2656,66.5781 208.3906,67.5 Q209.5156,68.4063 209.5156,70.4531 Q209.5156,72.5 208.3906,73.4219 Q207.2656,74.3281 204.7031,74.3281 L203.7969,74.3281 L203.7969,78.9688 L201.3438,78.9688 L201.3438,66.5781 Z \"/><text fill=\"#000000\" font-family=\"sans-serif\" font-size=\"12\" font-style=\"italic\" lengthAdjust=\"spacingAndGlyphs\" textLength=\"40\" x=\"216\" y=\"70.1387\">«part»</text><text fill=\"#000000\" font-family=\"sans-serif\" font-size=\"12\" lengthAdjust=\"spacingAndGlyphs\" textLength=\"8\" x=\"232\" y=\"84.1074\">g</text><line style=\"stroke: #A80036; stroke-width: 1.5;\" x1=\"190\" x2=\"256\" y1=\"91.9375\" y2=\"91.9375\"/></a><!--MD5=[1dd1bfd58a279cf63c5f349dbc8fc6a1]\n",
       "class E11--><a href=\"psysml:39471be4-e308-48bc-96c2-d92b434b60c0\" target=\"_top\" title=\"psysml:39471be4-e308-48bc-96c2-d92b434b60c0\" xlink:actuate=\"onRequest\" xlink:href=\"psysml:39471be4-e308-48bc-96c2-d92b434b60c0\" xlink:show=\"new\" xlink:title=\"psysml:39471be4-e308-48bc-96c2-d92b434b60c0\" xlink:type=\"simple\"><rect fill=\"#FEFECE\" filter=\"url(#fs2awtru0ej11)\" height=\"71.5469\" id=\"E11\" style=\"stroke: #A80036; stroke-width: 1.5;\" width=\"121\" x=\"32.5\" y=\"41\"/><ellipse cx=\"47.5\" cy=\"59.9688\" fill=\"#A52A2A\" rx=\"11\" ry=\"11\" style=\"stroke: #A80036; stroke-width: 1.0;\"/><path d=\"M47.0938,55.7813 L47.0938,63.7656 L47.75,63.7656 Q49.1875,63.7656 49.7969,62.8594 Q50.4219,61.9375 50.4219,59.7656 Q50.4219,57.5938 49.7969,56.6875 Q49.1875,55.7813 47.75,55.7813 L47.0938,55.7813 Z M44.6406,53.5781 L47.2656,53.5781 Q50.2969,53.5781 51.625,55.0313 Q52.9688,56.4688 52.9688,59.7656 Q52.9688,63.0625 51.625,64.5156 Q50.2969,65.9688 47.2656,65.9688 L44.6406,65.9688 L44.6406,53.5781 Z \"/><text fill=\"#000000\" font-family=\"sans-serif\" font-size=\"12\" font-style=\"italic\" lengthAdjust=\"spacingAndGlyphs\" textLength=\"93\" x=\"59.5\" y=\"57.1387\">«attribute def»</text><text fill=\"#000000\" font-family=\"sans-serif\" font-size=\"12\" lengthAdjust=\"spacingAndGlyphs\" textLength=\"8\" x=\"102\" y=\"71.1074\">A</text><line style=\"stroke: #A80036; stroke-width: 1.5;\" x1=\"33.5\" x2=\"152.5\" y1=\"78.9375\" y2=\"78.9375\"/><text fill=\"#000000\" font-family=\"sans-serif\" font-size=\"11\" lengthAdjust=\"spacingAndGlyphs\" textLength=\"51\" x=\"38.5\" y=\"93.1479\">i: Integer</text><text fill=\"#000000\" font-family=\"sans-serif\" font-size=\"11\" lengthAdjust=\"spacingAndGlyphs\" textLength=\"21\" x=\"38.5\" y=\"105.9526\">x: A</text></a><!--MD5=[15ebcb19ae302d9b601edb458606d402]\n",
       "link E5 to E2--><a href=\"psysml:911f47bc-487d-4cbf-bcdd-94eeba00c89c\" target=\"_top\" title=\"psysml:911f47bc-487d-4cbf-bcdd-94eeba00c89c\" xlink:actuate=\"onRequest\" xlink:href=\"psysml:911f47bc-487d-4cbf-bcdd-94eeba00c89c\" xlink:show=\"new\" xlink:title=\"psysml:911f47bc-487d-4cbf-bcdd-94eeba00c89c\" xlink:type=\"simple\"><path d=\"M727.85,100.25 C720.81,115.68 711.27,136.61 703.07,154.58 \" fill=\"none\" id=\"E5-&gt;E2\" style=\"stroke: #A80036; stroke-width: 1.0;\"/><polygon fill=\"#FFFFFF\" points=\"694.74,172.84,696.2548,152.6483,708.9927,158.4573,694.74,172.84\" style=\"stroke: #A80036; stroke-width: 1.0;\"/><ellipse cx=\"700.4396\" cy=\"148.292\" fill=\"#A80036\" rx=\"2\" ry=\"2\" style=\"stroke: #A80036; stroke-width: 1.0;\"/><ellipse cx=\"709.5381\" cy=\"152.4413\" fill=\"#A80036\" rx=\"2\" ry=\"2\" style=\"stroke: #A80036; stroke-width: 1.0;\"/></a><!--MD5=[2351f337d6de0f557b50152ba70847b5]\n",
       "link E6 to E2--><a href=\"psysml:5d978d49-3aad-49b2-9a30-3bd5979ae9aa\" target=\"_top\" title=\"psysml:5d978d49-3aad-49b2-9a30-3bd5979ae9aa\" xlink:actuate=\"onRequest\" xlink:href=\"psysml:5d978d49-3aad-49b2-9a30-3bd5979ae9aa\" xlink:show=\"new\" xlink:title=\"psysml:5d978d49-3aad-49b2-9a30-3bd5979ae9aa\" xlink:type=\"simple\"><path d=\"M644.95,100.25 C651.86,115.68 661.22,136.61 669.26,154.58 \" fill=\"none\" id=\"E6-&gt;E2\" style=\"stroke: #A80036; stroke-width: 1.0;\"/><polygon fill=\"#FFFFFF\" points=\"677.43,172.84,663.2788,158.3574,676.0573,152.6381,677.43,172.84\" style=\"stroke: #A80036; stroke-width: 1.0;\"/><ellipse cx=\"662.7757\" cy=\"152.3377\" fill=\"#A80036\" rx=\"2\" ry=\"2\" style=\"stroke: #A80036; stroke-width: 1.0;\"/><ellipse cx=\"671.9032\" cy=\"148.2525\" fill=\"#A80036\" rx=\"2\" ry=\"2\" style=\"stroke: #A80036; stroke-width: 1.0;\"/></a><!--MD5=[a91ebf9c03be96a1cfede097d4c9acfb]\n",
       "@startuml\r\n",
       " \r\n",
       "package \"MultiplicityTest\" as E1  [[psysml:0be6947d-aa66-4017-a009-04bc0f7b30c5 ]]  {\r\n",
       "comp def \"P\" as E2  << (B,green) >> [[psysml:9ab3d3ff-483c-4e41-ada7-ab2d8c979da0 ]] {\r\n",
       "}\r\n",
       "comp usage \"n: Integer\" as E3  <<(U,orange)attribute>> [[psysml:bb4f0587-9240-4f5c-8b68-755ceb30f0e1 ]] {\r\n",
       "}\r\n",
       "comp usage \"a\" as E4  << (P,limegreen) part>> [[psysml:9d5a91ec-9b15-487c-8680-11258af91cb9 ]] {\r\n",
       "}\r\n",
       "comp usage \"b: P\" as E5  << (P,limegreen) part>> [[psysml:0e6ddf84-4c23-42ff-8adf-60418e76591d ]] {\r\n",
       "}\r\n",
       "comp usage \"c: P\" as E6  << (P,limegreen) part>> [[psysml:7a390bd1-339b-4feb-982b-b3a6ee4de727 ]] {\r\n",
       "}\r\n",
       "comp usage \"d\" as E7  << (P,limegreen) part>> [[psysml:c41308c3-3ab4-4c95-8873-b6daf8742442 ]] {\r\n",
       "}\r\n",
       "comp usage \"e\" as E8  << (P,limegreen) part>> [[psysml:4786ae2f-f4fb-4524-a996-e764bd48b2ea ]] {\r\n",
       "}\r\n",
       "comp usage \"f\" as E9  << (P,limegreen) part>> [[psysml:f4778415-89ee-45ef-90f6-0fdee23f5f44 ]] {\r\n",
       "}\r\n",
       "comp usage \"g\" as E10  << (P,limegreen) part>> [[psysml:54ce765f-cd4b-40e3-bd55-528058a48d88 ]] {\r\n",
       "}\r\n",
       "comp def \"A\" as E11  <<(D,brown)attribute def>> [[psysml:39471be4-e308-48bc-96c2-d92b434b60c0 ]] {\r\n",
       "i: Integer\r\n",
       "x: A\r\n",
       "}\r\n",
       "E5 - -:|> E2 [[psysml:911f47bc-487d-4cbf-bcdd-94eeba00c89c ]] \r\n",
       "E6 - -:|> E2 [[psysml:5d978d49-3aad-49b2-9a30-3bd5979ae9aa ]] \r\n",
       "}\r\n",
       "@enduml\r\n",
       "\n",
       "PlantUML version 1.2020.13(Sat Jun 13 12:26:38 UTC 2020)\n",
       "(EPL source distribution)\n",
       "Java Runtime: OpenJDK Runtime Environment\n",
       "JVM: OpenJDK 64-Bit Server VM\n",
       "Default Encoding: UTF-8\n",
       "Language: en\n",
       "Country: null\n",
       "--></g></svg>"
      ]
     },
     "execution_count": 30,
     "metadata": {},
     "output_type": "execute_result"
    }
   ],
   "source": [
    "%viz --style=\"PLANTUML\" --view=\"Default\" \"MultiplicityTest\""
   ]
  },
  {
   "cell_type": "code",
   "execution_count": 31,
   "id": "00e94981",
   "metadata": {
    "execution": {
     "iopub.execute_input": "2021-04-21T20:26:43.882770Z",
     "iopub.status.busy": "2021-04-21T20:26:43.882310Z",
     "iopub.status.idle": "2021-04-21T20:26:43.924930Z",
     "shell.execute_reply": "2021-04-21T20:26:43.923494Z"
    }
   },
   "outputs": [
    {
     "data": {
      "image/svg+xml": [
       "<?xml version=\"1.0\" encoding=\"UTF-8\" standalone=\"no\"?><svg xmlns=\"http://www.w3.org/2000/svg\" xmlns:xlink=\"http://www.w3.org/1999/xlink\" contentScriptType=\"application/ecmascript\" contentStyleType=\"text/css\" height=\"241px\" preserveAspectRatio=\"none\" style=\"width:1045px;height:241px;\" version=\"1.1\" viewBox=\"0 0 1045 241\" width=\"1045px\" zoomAndPan=\"magnify\"><defs><filter height=\"300%\" id=\"fs2awtru0ej11\" width=\"300%\" x=\"-1\" y=\"-1\"><feGaussianBlur result=\"blurOut\" stdDeviation=\"2.0\"/><feColorMatrix in=\"blurOut\" result=\"blurOut2\" type=\"matrix\" values=\"0 0 0 0 0 0 0 0 0 0 0 0 0 0 0 0 0 0 .4 0\"/><feOffset dx=\"4.0\" dy=\"4.0\" in=\"blurOut2\" result=\"blurOut3\"/><feBlend in=\"SourceGraphic\" in2=\"blurOut3\" mode=\"normal\"/></filter></defs><g><!--MD5=[fbc87193dbaf4d95561dea2c320d4a47]\n",
       "cluster E1--><a href=\"psysml:0be6947d-aa66-4017-a009-04bc0f7b30c5\" target=\"_top\" title=\"psysml:0be6947d-aa66-4017-a009-04bc0f7b30c5\" xlink:actuate=\"onRequest\" xlink:href=\"psysml:0be6947d-aa66-4017-a009-04bc0f7b30c5\" xlink:show=\"new\" xlink:title=\"psysml:0be6947d-aa66-4017-a009-04bc0f7b30c5\" xlink:type=\"simple\"><polygon fill=\"#FFFFFF\" filter=\"url(#fs2awtru0ej11)\" points=\"16,6,140,6,147,28.2969,1023,28.2969,1023,229,16,229,16,6\" style=\"stroke: #000000; stroke-width: 1.5;\"/><line style=\"stroke: #000000; stroke-width: 1.5;\" x1=\"16\" x2=\"147\" y1=\"28.2969\" y2=\"28.2969\"/><text fill=\"#000000\" font-family=\"sans-serif\" font-size=\"14\" font-weight=\"bold\" lengthAdjust=\"spacingAndGlyphs\" textLength=\"118\" x=\"20\" y=\"20.9951\">MultiplicityTest</text></a><!--MD5=[b4997ac47864f28c2f74865a473b2911]\n",
       "class E2--><a href=\"psysml:9ab3d3ff-483c-4e41-ada7-ab2d8c979da0\" target=\"_top\" title=\"psysml:9ab3d3ff-483c-4e41-ada7-ab2d8c979da0\" xlink:actuate=\"onRequest\" xlink:href=\"psysml:9ab3d3ff-483c-4e41-ada7-ab2d8c979da0\" xlink:show=\"new\" xlink:title=\"psysml:9ab3d3ff-483c-4e41-ada7-ab2d8c979da0\" xlink:type=\"simple\"><rect fill=\"#FEFECE\" filter=\"url(#fs2awtru0ej11)\" height=\"40\" id=\"E2\" style=\"stroke: #A80036; stroke-width: 1.5;\" width=\"40\" x=\"666\" y=\"173\"/><ellipse cx=\"681\" cy=\"189\" fill=\"#008000\" rx=\"11\" ry=\"11\" style=\"stroke: #A80036; stroke-width: 1.0;\"/><path d=\"M679.9063,189.375 L679.9063,193.0469 L681.5313,193.0469 Q682.7031,193.0469 683.1719,192.6563 Q683.6406,192.25 683.6406,191.25 Q683.6406,190.25 683.1406,189.8125 Q682.6563,189.375 681.5313,189.375 L679.9063,189.375 Z M679.9063,184.5469 L679.9063,187.4219 L681.5313,187.4219 Q682.4531,187.4219 682.8438,187.0938 Q683.25,186.75 683.25,186 Q683.25,185.2344 682.8438,184.8906 Q682.4375,184.5469 681.5313,184.5469 L679.9063,184.5469 Z M677.5313,182.5938 L681.5313,182.5938 Q683.5938,182.5938 684.6406,183.375 Q685.6875,184.1563 685.6875,185.7188 Q685.6875,186.9219 685.0625,187.5938 Q684.4531,188.2656 683.2656,188.375 Q684.6875,188.5156 685.4063,189.3281 Q686.125,190.1406 686.125,191.5938 Q686.125,193.3906 685.0469,194.2031 Q683.9688,195 681.5313,195 L677.5313,195 L677.5313,182.5938 Z \"/><text fill=\"#000000\" font-family=\"sans-serif\" font-size=\"12\" lengthAdjust=\"spacingAndGlyphs\" textLength=\"8\" x=\"695\" y=\"193.1543\">P</text><line style=\"stroke: #A80036; stroke-width: 1.5;\" x1=\"667\" x2=\"705\" y1=\"205\" y2=\"205\"/></a><!--MD5=[09b614a08d8cba4a07c9adeb5e0fee81]\n",
       "class E3--><a href=\"psysml:bb4f0587-9240-4f5c-8b68-755ceb30f0e1\" target=\"_top\" title=\"psysml:bb4f0587-9240-4f5c-8b68-755ceb30f0e1\" xlink:actuate=\"onRequest\" xlink:href=\"psysml:bb4f0587-9240-4f5c-8b68-755ceb30f0e1\" xlink:show=\"new\" xlink:title=\"psysml:bb4f0587-9240-4f5c-8b68-755ceb30f0e1\" xlink:type=\"simple\"><rect fill=\"#FEFECE\" filter=\"url(#fs2awtru0ej11)\" height=\"45.9375\" id=\"E3\" rx=\"10\" ry=\"10\" style=\"stroke: #A80036; stroke-width: 1.5;\" width=\"97\" x=\"910.5\" y=\"54\"/><ellipse cx=\"925.5\" cy=\"72.9688\" fill=\"#FFA500\" rx=\"11\" ry=\"11\" style=\"stroke: #A80036; stroke-width: 1.0;\"/><path d=\"M921.375,74.8906 L921.375,67.0781 L923.8281,67.0781 L923.8281,75.5156 Q923.8281,76.4375 924.2969,76.9688 Q924.7813,77.5 925.6094,77.5 Q926.4531,77.5 926.9219,76.9688 Q927.3906,76.4375 927.3906,75.5156 L927.3906,67.0781 L929.8438,67.0781 L929.8438,74.8906 Q929.8438,77.4219 928.8438,78.5625 Q927.8438,79.7031 925.6094,79.7031 Q923.3906,79.7031 922.375,78.5625 Q921.375,77.4219 921.375,74.8906 Z \"/><text fill=\"#000000\" font-family=\"sans-serif\" font-size=\"12\" font-style=\"italic\" lengthAdjust=\"spacingAndGlyphs\" textLength=\"69\" x=\"937.5\" y=\"70.1387\">«attribute»</text><text fill=\"#000000\" font-family=\"sans-serif\" font-size=\"12\" lengthAdjust=\"spacingAndGlyphs\" textLength=\"61\" x=\"941.5\" y=\"84.1074\">n: Integer</text><line style=\"stroke: #A80036; stroke-width: 1.5;\" x1=\"911.5\" x2=\"1006.5\" y1=\"91.9375\" y2=\"91.9375\"/></a><!--MD5=[ebbe1d658d1005bcc118a6aa81145e00]\n",
       "class E4--><a href=\"psysml:9d5a91ec-9b15-487c-8680-11258af91cb9\" target=\"_top\" title=\"psysml:9d5a91ec-9b15-487c-8680-11258af91cb9\" xlink:actuate=\"onRequest\" xlink:href=\"psysml:9d5a91ec-9b15-487c-8680-11258af91cb9\" xlink:show=\"new\" xlink:title=\"psysml:9d5a91ec-9b15-487c-8680-11258af91cb9\" xlink:type=\"simple\"><rect fill=\"#FEFECE\" filter=\"url(#fs2awtru0ej11)\" height=\"45.9375\" id=\"E4\" rx=\"10\" ry=\"10\" style=\"stroke: #A80036; stroke-width: 1.5;\" width=\"68\" x=\"807\" y=\"54\"/><ellipse cx=\"822\" cy=\"72.9688\" fill=\"#32CD32\" rx=\"11\" ry=\"11\" style=\"stroke: #A80036; stroke-width: 1.0;\"/><path d=\"M821.7969,68.6406 L821.7969,72.2656 L822.7969,72.2656 Q824,72.2656 824.4844,71.8594 Q824.9688,71.4531 824.9688,70.4531 Q824.9688,69.4531 824.4844,69.0469 Q824,68.6406 822.7969,68.6406 L821.7969,68.6406 Z M819.3438,66.5781 L822.7031,66.5781 Q825.2656,66.5781 826.3906,67.5 Q827.5156,68.4063 827.5156,70.4531 Q827.5156,72.5 826.3906,73.4219 Q825.2656,74.3281 822.7031,74.3281 L821.7969,74.3281 L821.7969,78.9688 L819.3438,78.9688 L819.3438,66.5781 Z \"/><text fill=\"#000000\" font-family=\"sans-serif\" font-size=\"12\" font-style=\"italic\" lengthAdjust=\"spacingAndGlyphs\" textLength=\"40\" x=\"834\" y=\"70.1387\">«part»</text><text fill=\"#000000\" font-family=\"sans-serif\" font-size=\"12\" lengthAdjust=\"spacingAndGlyphs\" textLength=\"8\" x=\"850\" y=\"84.1074\">a</text><line style=\"stroke: #A80036; stroke-width: 1.5;\" x1=\"808\" x2=\"874\" y1=\"91.9375\" y2=\"91.9375\"/></a><!--MD5=[270fce915f116d4de14055a7c1d9a0f3]\n",
       "class E5--><a href=\"psysml:0e6ddf84-4c23-42ff-8adf-60418e76591d\" target=\"_top\" title=\"psysml:0e6ddf84-4c23-42ff-8adf-60418e76591d\" xlink:actuate=\"onRequest\" xlink:href=\"psysml:0e6ddf84-4c23-42ff-8adf-60418e76591d\" xlink:show=\"new\" xlink:title=\"psysml:0e6ddf84-4c23-42ff-8adf-60418e76591d\" xlink:type=\"simple\"><rect fill=\"#FEFECE\" filter=\"url(#fs2awtru0ej11)\" height=\"45.9375\" id=\"E5\" rx=\"10\" ry=\"10\" style=\"stroke: #A80036; stroke-width: 1.5;\" width=\"68\" x=\"704\" y=\"54\"/><ellipse cx=\"719\" cy=\"72.9688\" fill=\"#32CD32\" rx=\"11\" ry=\"11\" style=\"stroke: #A80036; stroke-width: 1.0;\"/><path d=\"M718.7969,68.6406 L718.7969,72.2656 L719.7969,72.2656 Q721,72.2656 721.4844,71.8594 Q721.9688,71.4531 721.9688,70.4531 Q721.9688,69.4531 721.4844,69.0469 Q721,68.6406 719.7969,68.6406 L718.7969,68.6406 Z M716.3438,66.5781 L719.7031,66.5781 Q722.2656,66.5781 723.3906,67.5 Q724.5156,68.4063 724.5156,70.4531 Q724.5156,72.5 723.3906,73.4219 Q722.2656,74.3281 719.7031,74.3281 L718.7969,74.3281 L718.7969,78.9688 L716.3438,78.9688 L716.3438,66.5781 Z \"/><text fill=\"#000000\" font-family=\"sans-serif\" font-size=\"12\" font-style=\"italic\" lengthAdjust=\"spacingAndGlyphs\" textLength=\"40\" x=\"731\" y=\"70.1387\">«part»</text><text fill=\"#000000\" font-family=\"sans-serif\" font-size=\"12\" lengthAdjust=\"spacingAndGlyphs\" textLength=\"24\" x=\"739\" y=\"84.1074\">b: P</text><line style=\"stroke: #A80036; stroke-width: 1.5;\" x1=\"705\" x2=\"771\" y1=\"91.9375\" y2=\"91.9375\"/></a><!--MD5=[60a26617385b1d2d0262a64233df1f8d]\n",
       "class E6--><a href=\"psysml:7a390bd1-339b-4feb-982b-b3a6ee4de727\" target=\"_top\" title=\"psysml:7a390bd1-339b-4feb-982b-b3a6ee4de727\" xlink:actuate=\"onRequest\" xlink:href=\"psysml:7a390bd1-339b-4feb-982b-b3a6ee4de727\" xlink:show=\"new\" xlink:title=\"psysml:7a390bd1-339b-4feb-982b-b3a6ee4de727\" xlink:type=\"simple\"><rect fill=\"#FEFECE\" filter=\"url(#fs2awtru0ej11)\" height=\"45.9375\" id=\"E6\" rx=\"10\" ry=\"10\" style=\"stroke: #A80036; stroke-width: 1.5;\" width=\"68\" x=\"601\" y=\"54\"/><ellipse cx=\"616\" cy=\"72.9688\" fill=\"#32CD32\" rx=\"11\" ry=\"11\" style=\"stroke: #A80036; stroke-width: 1.0;\"/><path d=\"M615.7969,68.6406 L615.7969,72.2656 L616.7969,72.2656 Q618,72.2656 618.4844,71.8594 Q618.9688,71.4531 618.9688,70.4531 Q618.9688,69.4531 618.4844,69.0469 Q618,68.6406 616.7969,68.6406 L615.7969,68.6406 Z M613.3438,66.5781 L616.7031,66.5781 Q619.2656,66.5781 620.3906,67.5 Q621.5156,68.4063 621.5156,70.4531 Q621.5156,72.5 620.3906,73.4219 Q619.2656,74.3281 616.7031,74.3281 L615.7969,74.3281 L615.7969,78.9688 L613.3438,78.9688 L613.3438,66.5781 Z \"/><text fill=\"#000000\" font-family=\"sans-serif\" font-size=\"12\" font-style=\"italic\" lengthAdjust=\"spacingAndGlyphs\" textLength=\"40\" x=\"628\" y=\"70.1387\">«part»</text><text fill=\"#000000\" font-family=\"sans-serif\" font-size=\"12\" lengthAdjust=\"spacingAndGlyphs\" textLength=\"23\" x=\"636.5\" y=\"84.1074\">c: P</text><line style=\"stroke: #A80036; stroke-width: 1.5;\" x1=\"602\" x2=\"668\" y1=\"91.9375\" y2=\"91.9375\"/></a><!--MD5=[2156ba9850f5573cc1fc38a6a4b2f02b]\n",
       "class E7--><a href=\"psysml:c41308c3-3ab4-4c95-8873-b6daf8742442\" target=\"_top\" title=\"psysml:c41308c3-3ab4-4c95-8873-b6daf8742442\" xlink:actuate=\"onRequest\" xlink:href=\"psysml:c41308c3-3ab4-4c95-8873-b6daf8742442\" xlink:show=\"new\" xlink:title=\"psysml:c41308c3-3ab4-4c95-8873-b6daf8742442\" xlink:type=\"simple\"><rect fill=\"#FEFECE\" filter=\"url(#fs2awtru0ej11)\" height=\"45.9375\" id=\"E7\" rx=\"10\" ry=\"10\" style=\"stroke: #A80036; stroke-width: 1.5;\" width=\"68\" x=\"498\" y=\"54\"/><ellipse cx=\"513\" cy=\"72.9688\" fill=\"#32CD32\" rx=\"11\" ry=\"11\" style=\"stroke: #A80036; stroke-width: 1.0;\"/><path d=\"M512.7969,68.6406 L512.7969,72.2656 L513.7969,72.2656 Q515,72.2656 515.4844,71.8594 Q515.9688,71.4531 515.9688,70.4531 Q515.9688,69.4531 515.4844,69.0469 Q515,68.6406 513.7969,68.6406 L512.7969,68.6406 Z M510.3438,66.5781 L513.7031,66.5781 Q516.2656,66.5781 517.3906,67.5 Q518.5156,68.4063 518.5156,70.4531 Q518.5156,72.5 517.3906,73.4219 Q516.2656,74.3281 513.7031,74.3281 L512.7969,74.3281 L512.7969,78.9688 L510.3438,78.9688 L510.3438,66.5781 Z \"/><text fill=\"#000000\" font-family=\"sans-serif\" font-size=\"12\" font-style=\"italic\" lengthAdjust=\"spacingAndGlyphs\" textLength=\"40\" x=\"525\" y=\"70.1387\">«part»</text><text fill=\"#000000\" font-family=\"sans-serif\" font-size=\"12\" lengthAdjust=\"spacingAndGlyphs\" textLength=\"8\" x=\"541\" y=\"84.1074\">d</text><line style=\"stroke: #A80036; stroke-width: 1.5;\" x1=\"499\" x2=\"565\" y1=\"91.9375\" y2=\"91.9375\"/></a><!--MD5=[b9389687b975829384b498ac4b7476b2]\n",
       "class E8--><a href=\"psysml:4786ae2f-f4fb-4524-a996-e764bd48b2ea\" target=\"_top\" title=\"psysml:4786ae2f-f4fb-4524-a996-e764bd48b2ea\" xlink:actuate=\"onRequest\" xlink:href=\"psysml:4786ae2f-f4fb-4524-a996-e764bd48b2ea\" xlink:show=\"new\" xlink:title=\"psysml:4786ae2f-f4fb-4524-a996-e764bd48b2ea\" xlink:type=\"simple\"><rect fill=\"#FEFECE\" filter=\"url(#fs2awtru0ej11)\" height=\"45.9375\" id=\"E8\" rx=\"10\" ry=\"10\" style=\"stroke: #A80036; stroke-width: 1.5;\" width=\"68\" x=\"395\" y=\"54\"/><ellipse cx=\"410\" cy=\"72.9688\" fill=\"#32CD32\" rx=\"11\" ry=\"11\" style=\"stroke: #A80036; stroke-width: 1.0;\"/><path d=\"M409.7969,68.6406 L409.7969,72.2656 L410.7969,72.2656 Q412,72.2656 412.4844,71.8594 Q412.9688,71.4531 412.9688,70.4531 Q412.9688,69.4531 412.4844,69.0469 Q412,68.6406 410.7969,68.6406 L409.7969,68.6406 Z M407.3438,66.5781 L410.7031,66.5781 Q413.2656,66.5781 414.3906,67.5 Q415.5156,68.4063 415.5156,70.4531 Q415.5156,72.5 414.3906,73.4219 Q413.2656,74.3281 410.7031,74.3281 L409.7969,74.3281 L409.7969,78.9688 L407.3438,78.9688 L407.3438,66.5781 Z \"/><text fill=\"#000000\" font-family=\"sans-serif\" font-size=\"12\" font-style=\"italic\" lengthAdjust=\"spacingAndGlyphs\" textLength=\"40\" x=\"422\" y=\"70.1387\">«part»</text><text fill=\"#000000\" font-family=\"sans-serif\" font-size=\"12\" lengthAdjust=\"spacingAndGlyphs\" textLength=\"8\" x=\"438\" y=\"84.1074\">e</text><line style=\"stroke: #A80036; stroke-width: 1.5;\" x1=\"396\" x2=\"462\" y1=\"91.9375\" y2=\"91.9375\"/></a><!--MD5=[fd4143e9d270a159db93a4ea2a975926]\n",
       "class E9--><a href=\"psysml:f4778415-89ee-45ef-90f6-0fdee23f5f44\" target=\"_top\" title=\"psysml:f4778415-89ee-45ef-90f6-0fdee23f5f44\" xlink:actuate=\"onRequest\" xlink:href=\"psysml:f4778415-89ee-45ef-90f6-0fdee23f5f44\" xlink:show=\"new\" xlink:title=\"psysml:f4778415-89ee-45ef-90f6-0fdee23f5f44\" xlink:type=\"simple\"><rect fill=\"#FEFECE\" filter=\"url(#fs2awtru0ej11)\" height=\"45.9375\" id=\"E9\" rx=\"10\" ry=\"10\" style=\"stroke: #A80036; stroke-width: 1.5;\" width=\"68\" x=\"292\" y=\"54\"/><ellipse cx=\"307\" cy=\"72.9688\" fill=\"#32CD32\" rx=\"11\" ry=\"11\" style=\"stroke: #A80036; stroke-width: 1.0;\"/><path d=\"M306.7969,68.6406 L306.7969,72.2656 L307.7969,72.2656 Q309,72.2656 309.4844,71.8594 Q309.9688,71.4531 309.9688,70.4531 Q309.9688,69.4531 309.4844,69.0469 Q309,68.6406 307.7969,68.6406 L306.7969,68.6406 Z M304.3438,66.5781 L307.7031,66.5781 Q310.2656,66.5781 311.3906,67.5 Q312.5156,68.4063 312.5156,70.4531 Q312.5156,72.5 311.3906,73.4219 Q310.2656,74.3281 307.7031,74.3281 L306.7969,74.3281 L306.7969,78.9688 L304.3438,78.9688 L304.3438,66.5781 Z \"/><text fill=\"#000000\" font-family=\"sans-serif\" font-size=\"12\" font-style=\"italic\" lengthAdjust=\"spacingAndGlyphs\" textLength=\"40\" x=\"319\" y=\"70.1387\">«part»</text><text fill=\"#000000\" font-family=\"sans-serif\" font-size=\"12\" lengthAdjust=\"spacingAndGlyphs\" textLength=\"4\" x=\"337\" y=\"84.1074\">f</text><line style=\"stroke: #A80036; stroke-width: 1.5;\" x1=\"293\" x2=\"359\" y1=\"91.9375\" y2=\"91.9375\"/></a><!--MD5=[96f4274e9e20536e775497830990834d]\n",
       "class E10--><a href=\"psysml:54ce765f-cd4b-40e3-bd55-528058a48d88\" target=\"_top\" title=\"psysml:54ce765f-cd4b-40e3-bd55-528058a48d88\" xlink:actuate=\"onRequest\" xlink:href=\"psysml:54ce765f-cd4b-40e3-bd55-528058a48d88\" xlink:show=\"new\" xlink:title=\"psysml:54ce765f-cd4b-40e3-bd55-528058a48d88\" xlink:type=\"simple\"><rect fill=\"#FEFECE\" filter=\"url(#fs2awtru0ej11)\" height=\"45.9375\" id=\"E10\" rx=\"10\" ry=\"10\" style=\"stroke: #A80036; stroke-width: 1.5;\" width=\"68\" x=\"189\" y=\"54\"/><ellipse cx=\"204\" cy=\"72.9688\" fill=\"#32CD32\" rx=\"11\" ry=\"11\" style=\"stroke: #A80036; stroke-width: 1.0;\"/><path d=\"M203.7969,68.6406 L203.7969,72.2656 L204.7969,72.2656 Q206,72.2656 206.4844,71.8594 Q206.9688,71.4531 206.9688,70.4531 Q206.9688,69.4531 206.4844,69.0469 Q206,68.6406 204.7969,68.6406 L203.7969,68.6406 Z M201.3438,66.5781 L204.7031,66.5781 Q207.2656,66.5781 208.3906,67.5 Q209.5156,68.4063 209.5156,70.4531 Q209.5156,72.5 208.3906,73.4219 Q207.2656,74.3281 204.7031,74.3281 L203.7969,74.3281 L203.7969,78.9688 L201.3438,78.9688 L201.3438,66.5781 Z \"/><text fill=\"#000000\" font-family=\"sans-serif\" font-size=\"12\" font-style=\"italic\" lengthAdjust=\"spacingAndGlyphs\" textLength=\"40\" x=\"216\" y=\"70.1387\">«part»</text><text fill=\"#000000\" font-family=\"sans-serif\" font-size=\"12\" lengthAdjust=\"spacingAndGlyphs\" textLength=\"8\" x=\"232\" y=\"84.1074\">g</text><line style=\"stroke: #A80036; stroke-width: 1.5;\" x1=\"190\" x2=\"256\" y1=\"91.9375\" y2=\"91.9375\"/></a><!--MD5=[1dd1bfd58a279cf63c5f349dbc8fc6a1]\n",
       "class E11--><a href=\"psysml:39471be4-e308-48bc-96c2-d92b434b60c0\" target=\"_top\" title=\"psysml:39471be4-e308-48bc-96c2-d92b434b60c0\" xlink:actuate=\"onRequest\" xlink:href=\"psysml:39471be4-e308-48bc-96c2-d92b434b60c0\" xlink:show=\"new\" xlink:title=\"psysml:39471be4-e308-48bc-96c2-d92b434b60c0\" xlink:type=\"simple\"><rect fill=\"#FEFECE\" filter=\"url(#fs2awtru0ej11)\" height=\"71.5469\" id=\"E11\" style=\"stroke: #A80036; stroke-width: 1.5;\" width=\"121\" x=\"32.5\" y=\"41\"/><ellipse cx=\"47.5\" cy=\"59.9688\" fill=\"#A52A2A\" rx=\"11\" ry=\"11\" style=\"stroke: #A80036; stroke-width: 1.0;\"/><path d=\"M47.0938,55.7813 L47.0938,63.7656 L47.75,63.7656 Q49.1875,63.7656 49.7969,62.8594 Q50.4219,61.9375 50.4219,59.7656 Q50.4219,57.5938 49.7969,56.6875 Q49.1875,55.7813 47.75,55.7813 L47.0938,55.7813 Z M44.6406,53.5781 L47.2656,53.5781 Q50.2969,53.5781 51.625,55.0313 Q52.9688,56.4688 52.9688,59.7656 Q52.9688,63.0625 51.625,64.5156 Q50.2969,65.9688 47.2656,65.9688 L44.6406,65.9688 L44.6406,53.5781 Z \"/><text fill=\"#000000\" font-family=\"sans-serif\" font-size=\"12\" font-style=\"italic\" lengthAdjust=\"spacingAndGlyphs\" textLength=\"93\" x=\"59.5\" y=\"57.1387\">«attribute def»</text><text fill=\"#000000\" font-family=\"sans-serif\" font-size=\"12\" lengthAdjust=\"spacingAndGlyphs\" textLength=\"8\" x=\"102\" y=\"71.1074\">A</text><line style=\"stroke: #A80036; stroke-width: 1.5;\" x1=\"33.5\" x2=\"152.5\" y1=\"78.9375\" y2=\"78.9375\"/><text fill=\"#000000\" font-family=\"sans-serif\" font-size=\"11\" lengthAdjust=\"spacingAndGlyphs\" textLength=\"51\" x=\"38.5\" y=\"93.1479\">i: Integer</text><text fill=\"#000000\" font-family=\"sans-serif\" font-size=\"11\" lengthAdjust=\"spacingAndGlyphs\" textLength=\"21\" x=\"38.5\" y=\"105.9526\">x: A</text></a><!--MD5=[15ebcb19ae302d9b601edb458606d402]\n",
       "link E5 to E2--><a href=\"psysml:911f47bc-487d-4cbf-bcdd-94eeba00c89c\" target=\"_top\" title=\"psysml:911f47bc-487d-4cbf-bcdd-94eeba00c89c\" xlink:actuate=\"onRequest\" xlink:href=\"psysml:911f47bc-487d-4cbf-bcdd-94eeba00c89c\" xlink:show=\"new\" xlink:title=\"psysml:911f47bc-487d-4cbf-bcdd-94eeba00c89c\" xlink:type=\"simple\"><path d=\"M727.85,100.25 C720.81,115.68 711.27,136.61 703.07,154.58 \" fill=\"none\" id=\"E5-&gt;E2\" style=\"stroke: #A80036; stroke-width: 1.0;\"/><polygon fill=\"#FFFFFF\" points=\"694.74,172.84,696.2548,152.6483,708.9927,158.4573,694.74,172.84\" style=\"stroke: #A80036; stroke-width: 1.0;\"/><ellipse cx=\"700.4396\" cy=\"148.292\" fill=\"#A80036\" rx=\"2\" ry=\"2\" style=\"stroke: #A80036; stroke-width: 1.0;\"/><ellipse cx=\"709.5381\" cy=\"152.4413\" fill=\"#A80036\" rx=\"2\" ry=\"2\" style=\"stroke: #A80036; stroke-width: 1.0;\"/></a><!--MD5=[2351f337d6de0f557b50152ba70847b5]\n",
       "link E6 to E2--><a href=\"psysml:5d978d49-3aad-49b2-9a30-3bd5979ae9aa\" target=\"_top\" title=\"psysml:5d978d49-3aad-49b2-9a30-3bd5979ae9aa\" xlink:actuate=\"onRequest\" xlink:href=\"psysml:5d978d49-3aad-49b2-9a30-3bd5979ae9aa\" xlink:show=\"new\" xlink:title=\"psysml:5d978d49-3aad-49b2-9a30-3bd5979ae9aa\" xlink:type=\"simple\"><path d=\"M644.95,100.25 C651.86,115.68 661.22,136.61 669.26,154.58 \" fill=\"none\" id=\"E6-&gt;E2\" style=\"stroke: #A80036; stroke-width: 1.0;\"/><polygon fill=\"#FFFFFF\" points=\"677.43,172.84,663.2788,158.3574,676.0573,152.6381,677.43,172.84\" style=\"stroke: #A80036; stroke-width: 1.0;\"/><ellipse cx=\"662.7757\" cy=\"152.3377\" fill=\"#A80036\" rx=\"2\" ry=\"2\" style=\"stroke: #A80036; stroke-width: 1.0;\"/><ellipse cx=\"671.9032\" cy=\"148.2525\" fill=\"#A80036\" rx=\"2\" ry=\"2\" style=\"stroke: #A80036; stroke-width: 1.0;\"/></a><!--MD5=[a91ebf9c03be96a1cfede097d4c9acfb]\n",
       "@startuml\r\n",
       " \r\n",
       "package \"MultiplicityTest\" as E1  [[psysml:0be6947d-aa66-4017-a009-04bc0f7b30c5 ]]  {\r\n",
       "comp def \"P\" as E2  << (B,green) >> [[psysml:9ab3d3ff-483c-4e41-ada7-ab2d8c979da0 ]] {\r\n",
       "}\r\n",
       "comp usage \"n: Integer\" as E3  <<(U,orange)attribute>> [[psysml:bb4f0587-9240-4f5c-8b68-755ceb30f0e1 ]] {\r\n",
       "}\r\n",
       "comp usage \"a\" as E4  << (P,limegreen) part>> [[psysml:9d5a91ec-9b15-487c-8680-11258af91cb9 ]] {\r\n",
       "}\r\n",
       "comp usage \"b: P\" as E5  << (P,limegreen) part>> [[psysml:0e6ddf84-4c23-42ff-8adf-60418e76591d ]] {\r\n",
       "}\r\n",
       "comp usage \"c: P\" as E6  << (P,limegreen) part>> [[psysml:7a390bd1-339b-4feb-982b-b3a6ee4de727 ]] {\r\n",
       "}\r\n",
       "comp usage \"d\" as E7  << (P,limegreen) part>> [[psysml:c41308c3-3ab4-4c95-8873-b6daf8742442 ]] {\r\n",
       "}\r\n",
       "comp usage \"e\" as E8  << (P,limegreen) part>> [[psysml:4786ae2f-f4fb-4524-a996-e764bd48b2ea ]] {\r\n",
       "}\r\n",
       "comp usage \"f\" as E9  << (P,limegreen) part>> [[psysml:f4778415-89ee-45ef-90f6-0fdee23f5f44 ]] {\r\n",
       "}\r\n",
       "comp usage \"g\" as E10  << (P,limegreen) part>> [[psysml:54ce765f-cd4b-40e3-bd55-528058a48d88 ]] {\r\n",
       "}\r\n",
       "comp def \"A\" as E11  <<(D,brown)attribute def>> [[psysml:39471be4-e308-48bc-96c2-d92b434b60c0 ]] {\r\n",
       "i: Integer\r\n",
       "x: A\r\n",
       "}\r\n",
       "E5 - -:|> E2 [[psysml:911f47bc-487d-4cbf-bcdd-94eeba00c89c ]] \r\n",
       "E6 - -:|> E2 [[psysml:5d978d49-3aad-49b2-9a30-3bd5979ae9aa ]] \r\n",
       "}\r\n",
       "@enduml\r\n",
       "\n",
       "PlantUML version 1.2020.13(Sat Jun 13 12:26:38 UTC 2020)\n",
       "(EPL source distribution)\n",
       "Java Runtime: OpenJDK Runtime Environment\n",
       "JVM: OpenJDK 64-Bit Server VM\n",
       "Default Encoding: UTF-8\n",
       "Language: en\n",
       "Country: null\n",
       "--></g></svg>"
      ]
     },
     "execution_count": 31,
     "metadata": {},
     "output_type": "execute_result"
    }
   ],
   "source": [
    "%viz --style=\"PLANTUML\" --view=\"Tree\" \"MultiplicityTest\""
   ]
  },
  {
   "cell_type": "code",
   "execution_count": 32,
   "id": "53c44d3e",
   "metadata": {
    "execution": {
     "iopub.execute_input": "2021-04-21T20:26:43.976302Z",
     "iopub.status.busy": "2021-04-21T20:26:43.975788Z",
     "iopub.status.idle": "2021-04-21T20:26:44.056022Z",
     "shell.execute_reply": "2021-04-21T20:26:44.055663Z"
    }
   },
   "outputs": [
    {
     "data": {
      "image/svg+xml": [
       "<?xml version=\"1.0\" encoding=\"UTF-8\" standalone=\"no\"?><svg xmlns=\"http://www.w3.org/2000/svg\" xmlns:xlink=\"http://www.w3.org/1999/xlink\" contentScriptType=\"application/ecmascript\" contentStyleType=\"text/css\" height=\"303px\" preserveAspectRatio=\"none\" style=\"width:603px;height:303px;background:#000000;\" version=\"1.1\" viewBox=\"0 0 603 303\" width=\"603px\" zoomAndPan=\"magnify\"><defs/><g><rect fill=\"#270722\" height=\"1\" style=\"stroke: #270722; stroke-width: 1.0;\" width=\"1\" x=\"0\" y=\"0\"/><rect fill=\"#FFFFFF\" height=\"205.5625\" style=\"stroke: #FFFFFF; stroke-width: 1.0;\" width=\"602\" x=\"0\" y=\"0\"/><text fill=\"#000000\" font-family=\"sans-serif\" font-size=\"12\" font-weight=\"bold\" lengthAdjust=\"spacingAndGlyphs\" textLength=\"159\" x=\"5\" y=\"16.1387\">Welcome to PlantUML!</text><text fill=\"#000000\" font-family=\"sans-serif\" font-size=\"12\" lengthAdjust=\"spacingAndGlyphs\" textLength=\"0\" x=\"9\" y=\"30.1074\"/><text fill=\"#000000\" font-family=\"sans-serif\" font-size=\"12\" lengthAdjust=\"spacingAndGlyphs\" textLength=\"293\" x=\"5\" y=\"44.0762\">If you use this software, you accept its license.</text><text fill=\"#000000\" font-family=\"sans-serif\" font-size=\"12\" lengthAdjust=\"spacingAndGlyphs\" textLength=\"107\" x=\"5\" y=\"58.0449\">(details by typing</text><text fill=\"#000000\" font-family=\"monospace\" font-size=\"12\" lengthAdjust=\"spacingAndGlyphs\" textLength=\"49\" x=\"116\" y=\"58.0449\">license</text><text fill=\"#000000\" font-family=\"sans-serif\" font-size=\"12\" lengthAdjust=\"spacingAndGlyphs\" textLength=\"56\" x=\"169\" y=\"58.0449\">keyword)</text><text fill=\"#000000\" font-family=\"sans-serif\" font-size=\"12\" lengthAdjust=\"spacingAndGlyphs\" textLength=\"0\" x=\"9\" y=\"72.0137\"/><text fill=\"#000000\" font-family=\"sans-serif\" font-size=\"12\" lengthAdjust=\"spacingAndGlyphs\" textLength=\"283\" x=\"5\" y=\"85.9824\">You can start with a simple UML Diagram like:</text><text fill=\"#000000\" font-family=\"sans-serif\" font-size=\"12\" lengthAdjust=\"spacingAndGlyphs\" textLength=\"0\" x=\"9\" y=\"99.9512\"/><text fill=\"#000000\" font-family=\"monospace\" font-size=\"12\" lengthAdjust=\"spacingAndGlyphs\" textLength=\"119\" x=\"5\" y=\"113.9199\">Bob-&gt;Alice: Hello</text><text fill=\"#000000\" font-family=\"sans-serif\" font-size=\"12\" lengthAdjust=\"spacingAndGlyphs\" textLength=\"0\" x=\"9\" y=\"127.8887\"/><text fill=\"#000000\" font-family=\"sans-serif\" font-size=\"12\" lengthAdjust=\"spacingAndGlyphs\" textLength=\"14\" x=\"5\" y=\"141.8574\">Or</text><text fill=\"#000000\" font-family=\"sans-serif\" font-size=\"12\" lengthAdjust=\"spacingAndGlyphs\" textLength=\"0\" x=\"9\" y=\"155.8262\"/><text fill=\"#000000\" font-family=\"monospace\" font-size=\"12\" lengthAdjust=\"spacingAndGlyphs\" textLength=\"91\" x=\"5\" y=\"169.7949\">class Example</text><text fill=\"#000000\" font-family=\"sans-serif\" font-size=\"12\" lengthAdjust=\"spacingAndGlyphs\" textLength=\"0\" x=\"9\" y=\"183.7637\"/><text fill=\"#000000\" font-family=\"sans-serif\" font-size=\"12\" lengthAdjust=\"spacingAndGlyphs\" textLength=\"349\" x=\"5\" y=\"197.7324\">You will find more information about PlantUML syntax on</text><text fill=\"#000000\" font-family=\"sans-serif\" font-size=\"12\" lengthAdjust=\"spacingAndGlyphs\" text-decoration=\"underline\" textLength=\"129\" x=\"358\" y=\"197.7324\">https://plantuml.com</text><image height=\"71\" width=\"80\" x=\"516\" xlink:href=\"data:image/png;base64,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\" y=\"6\"/><rect fill=\"#000000\" height=\"96.4844\" style=\"stroke: #000000; stroke-width: 1.0;\" width=\"602\" x=\"0\" y=\"205.5625\"/><rect fill=\"#33FF02\" height=\"21.2969\" style=\"stroke: #33FF02; stroke-width: 1.0;\" width=\"170\" x=\"5\" y=\"210.5625\"/><text fill=\"#000000\" font-family=\"sans-serif\" font-size=\"14\" font-weight=\"bold\" lengthAdjust=\"spacingAndGlyphs\" textLength=\"168\" x=\"6\" y=\"225.5625\">[From string (line 2) ]</text><text fill=\"#33FF02\" font-family=\"sans-serif\" font-size=\"14\" font-weight=\"bold\" lengthAdjust=\"spacingAndGlyphs\" textLength=\"0\" x=\"10\" y=\"245.8594\"/><text fill=\"#33FF02\" font-family=\"sans-serif\" font-size=\"14\" font-weight=\"bold\" lengthAdjust=\"spacingAndGlyphs\" textLength=\"79\" x=\"5\" y=\"262.1563\">@startuml</text><text fill=\"#33FF02\" font-family=\"sans-serif\" font-size=\"14\" font-weight=\"bold\" lengthAdjust=\"spacingAndGlyphs\" textLength=\"0\" x=\"10\" y=\"278.4531\"/><text fill=\"#FF0000\" font-family=\"sans-serif\" font-size=\"14\" font-weight=\"bold\" lengthAdjust=\"spacingAndGlyphs\" textLength=\"142\" x=\"10\" y=\"294.75\">Empty description</text><!--MD5=[f59edd8218d337f74d0c332fc6737304]\n",
       "@startuml\r\n",
       " \r\n",
       "@enduml\r\n",
       "\n",
       "PlantUML version 1.2020.13(Sat Jun 13 12:26:38 UTC 2020)\n",
       "(EPL source distribution)\n",
       "Java Runtime: OpenJDK Runtime Environment\n",
       "JVM: OpenJDK 64-Bit Server VM\n",
       "Default Encoding: UTF-8\n",
       "Language: en\n",
       "Country: null\n",
       "--></g></svg>"
      ]
     },
     "execution_count": 32,
     "metadata": {},
     "output_type": "execute_result"
    }
   ],
   "source": [
    "%viz --style=\"PLANTUML\" --view=\"State\" \"MultiplicityTest\""
   ]
  },
  {
   "cell_type": "code",
   "execution_count": 33,
   "id": "d0617767",
   "metadata": {
    "execution": {
     "iopub.execute_input": "2021-04-21T20:26:44.105906Z",
     "iopub.status.busy": "2021-04-21T20:26:44.105503Z",
     "iopub.status.idle": "2021-04-21T20:26:44.139505Z",
     "shell.execute_reply": "2021-04-21T20:26:44.139124Z"
    }
   },
   "outputs": [
    {
     "data": {
      "image/svg+xml": [
       "<?xml version=\"1.0\" encoding=\"UTF-8\" standalone=\"no\"?><svg xmlns=\"http://www.w3.org/2000/svg\" xmlns:xlink=\"http://www.w3.org/1999/xlink\" contentScriptType=\"application/ecmascript\" contentStyleType=\"text/css\" height=\"115px\" preserveAspectRatio=\"none\" style=\"width:1030px;height:115px;\" version=\"1.1\" viewBox=\"0 0 1030 115\" width=\"1030px\" zoomAndPan=\"magnify\"><defs><filter height=\"300%\" id=\"f1tdw1fwh6dj3\" width=\"300%\" x=\"-1\" y=\"-1\"><feGaussianBlur result=\"blurOut\" stdDeviation=\"2.0\"/><feColorMatrix in=\"blurOut\" result=\"blurOut2\" type=\"matrix\" values=\"0 0 0 0 0 0 0 0 0 0 0 0 0 0 0 0 0 0 .4 0\"/><feOffset dx=\"4.0\" dy=\"4.0\" in=\"blurOut2\" result=\"blurOut3\"/><feBlend in=\"SourceGraphic\" in2=\"blurOut3\" mode=\"normal\"/></filter></defs><g><!--MD5=[fbc87193dbaf4d95561dea2c320d4a47]\n",
       "cluster E1--><a href=\"psysml:0be6947d-aa66-4017-a009-04bc0f7b30c5\" target=\"_top\" title=\"psysml:0be6947d-aa66-4017-a009-04bc0f7b30c5\" xlink:actuate=\"onRequest\" xlink:href=\"psysml:0be6947d-aa66-4017-a009-04bc0f7b30c5\" xlink:show=\"new\" xlink:title=\"psysml:0be6947d-aa66-4017-a009-04bc0f7b30c5\" xlink:type=\"simple\"><polygon fill=\"#FFFFFF\" filter=\"url(#f1tdw1fwh6dj3)\" points=\"16,6,140,6,147,28.2969,1008,28.2969,1008,103,16,103,16,6\" style=\"stroke: #000000; stroke-width: 1.5;\"/><line style=\"stroke: #000000; stroke-width: 1.5;\" x1=\"16\" x2=\"147\" y1=\"28.2969\" y2=\"28.2969\"/><text fill=\"#000000\" font-family=\"sans-serif\" font-size=\"14\" font-weight=\"bold\" lengthAdjust=\"spacingAndGlyphs\" textLength=\"118\" x=\"20\" y=\"20.9951\">MultiplicityTest</text></a><!--MD5=[09b614a08d8cba4a07c9adeb5e0fee81]\n",
       "class E3--><a href=\"psysml:bb4f0587-9240-4f5c-8b68-755ceb30f0e1\" target=\"_top\" title=\"psysml:bb4f0587-9240-4f5c-8b68-755ceb30f0e1\" xlink:actuate=\"onRequest\" xlink:href=\"psysml:bb4f0587-9240-4f5c-8b68-755ceb30f0e1\" xlink:show=\"new\" xlink:title=\"psysml:bb4f0587-9240-4f5c-8b68-755ceb30f0e1\" xlink:type=\"simple\"><rect fill=\"#FEFECE\" filter=\"url(#f1tdw1fwh6dj3)\" height=\"45.9375\" id=\"E3\" rx=\"10\" ry=\"10\" style=\"stroke: #A80036; stroke-width: 1.5;\" width=\"97\" x=\"895.5\" y=\"41\"/><ellipse cx=\"910.5\" cy=\"59.9688\" fill=\"#FFA500\" rx=\"11\" ry=\"11\" style=\"stroke: #A80036; stroke-width: 1.0;\"/><path d=\"M906.375,61.8906 L906.375,54.0781 L908.8281,54.0781 L908.8281,62.5156 Q908.8281,63.4375 909.2969,63.9688 Q909.7813,64.5 910.6094,64.5 Q911.4531,64.5 911.9219,63.9688 Q912.3906,63.4375 912.3906,62.5156 L912.3906,54.0781 L914.8438,54.0781 L914.8438,61.8906 Q914.8438,64.4219 913.8438,65.5625 Q912.8438,66.7031 910.6094,66.7031 Q908.3906,66.7031 907.375,65.5625 Q906.375,64.4219 906.375,61.8906 Z \"/><text fill=\"#000000\" font-family=\"sans-serif\" font-size=\"12\" font-style=\"italic\" lengthAdjust=\"spacingAndGlyphs\" textLength=\"69\" x=\"922.5\" y=\"57.1387\">«attribute»</text><text fill=\"#000000\" font-family=\"sans-serif\" font-size=\"12\" lengthAdjust=\"spacingAndGlyphs\" textLength=\"61\" x=\"926.5\" y=\"71.1074\">n: Integer</text><line style=\"stroke: #A80036; stroke-width: 1.5;\" x1=\"896.5\" x2=\"991.5\" y1=\"78.9375\" y2=\"78.9375\"/></a><g id=\"E1.E11\"><a href=\"psysml:39471be4-e308-48bc-96c2-d92b434b60c0\" target=\"_top\" title=\"psysml:39471be4-e308-48bc-96c2-d92b434b60c0\" xlink:actuate=\"onRequest\" xlink:href=\"psysml:39471be4-e308-48bc-96c2-d92b434b60c0\" xlink:show=\"new\" xlink:title=\"psysml:39471be4-e308-48bc-96c2-d92b434b60c0\" xlink:type=\"simple\"><rect fill=\"#FEFECE\" filter=\"url(#f1tdw1fwh6dj3)\" height=\"42.9375\" id=\"E11\" style=\"stroke: #A80036; stroke-width: 1.5;\" width=\"126\" x=\"734\" y=\"42.5\"/><ellipse cx=\"751.25\" cy=\"61.4688\" fill=\"#A52A2A\" rx=\"11\" ry=\"11\" style=\"stroke: #A80036; stroke-width: 1.0;\"/><path d=\"M750.8438,57.2813 L750.8438,65.2656 L751.5,65.2656 Q752.9375,65.2656 753.5469,64.3594 Q754.1719,63.4375 754.1719,61.2656 Q754.1719,59.0938 753.5469,58.1875 Q752.9375,57.2813 751.5,57.2813 L750.8438,57.2813 Z M748.3906,55.0781 L751.0156,55.0781 Q754.0469,55.0781 755.375,56.5313 Q756.7188,57.9688 756.7188,61.2656 Q756.7188,64.5625 755.375,66.0156 Q754.0469,67.4688 751.0156,67.4688 L748.3906,67.4688 L748.3906,55.0781 Z \"/><text fill=\"#000000\" font-family=\"sans-serif\" font-size=\"12\" font-style=\"italic\" lengthAdjust=\"spacingAndGlyphs\" textLength=\"93\" x=\"763.75\" y=\"58.6387\">«attribute def»</text><text fill=\"#000000\" font-family=\"sans-serif\" font-size=\"12\" lengthAdjust=\"spacingAndGlyphs\" textLength=\"8\" x=\"806.25\" y=\"72.6074\">A</text></a></g><g id=\"E1.E2\"><a href=\"psysml:9ab3d3ff-483c-4e41-ada7-ab2d8c979da0\" target=\"_top\" title=\"psysml:9ab3d3ff-483c-4e41-ada7-ab2d8c979da0\" xlink:actuate=\"onRequest\" xlink:href=\"psysml:9ab3d3ff-483c-4e41-ada7-ab2d8c979da0\" xlink:show=\"new\" xlink:title=\"psysml:9ab3d3ff-483c-4e41-ada7-ab2d8c979da0\" xlink:type=\"simple\"><rect fill=\"#FEFECE\" filter=\"url(#f1tdw1fwh6dj3)\" height=\"40\" id=\"E2\" style=\"stroke: #A80036; stroke-width: 1.5;\" width=\"50\" x=\"649\" y=\"44\"/><ellipse cx=\"668.5\" cy=\"60\" fill=\"#008000\" rx=\"11\" ry=\"11\" style=\"stroke: #A80036; stroke-width: 1.0;\"/><path d=\"M667.4063,60.375 L667.4063,64.0469 L669.0313,64.0469 Q670.2031,64.0469 670.6719,63.6563 Q671.1406,63.25 671.1406,62.25 Q671.1406,61.25 670.6406,60.8125 Q670.1563,60.375 669.0313,60.375 L667.4063,60.375 Z M667.4063,55.5469 L667.4063,58.4219 L669.0313,58.4219 Q669.9531,58.4219 670.3438,58.0938 Q670.75,57.75 670.75,57 Q670.75,56.2344 670.3438,55.8906 Q669.9375,55.5469 669.0313,55.5469 L667.4063,55.5469 Z M665.0313,53.5938 L669.0313,53.5938 Q671.0938,53.5938 672.1406,54.375 Q673.1875,55.1563 673.1875,56.7188 Q673.1875,57.9219 672.5625,58.5938 Q671.9531,59.2656 670.7656,59.375 Q672.1875,59.5156 672.9063,60.3281 Q673.625,61.1406 673.625,62.5938 Q673.625,64.3906 672.5469,65.2031 Q671.4688,66 669.0313,66 L665.0313,66 L665.0313,53.5938 Z \"/><text fill=\"#000000\" font-family=\"sans-serif\" font-size=\"12\" lengthAdjust=\"spacingAndGlyphs\" textLength=\"8\" x=\"683.5\" y=\"64.1543\">P</text></a></g><g id=\"E1.E4\"><a href=\"psysml:9d5a91ec-9b15-487c-8680-11258af91cb9\" target=\"_top\" title=\"psysml:9d5a91ec-9b15-487c-8680-11258af91cb9\" xlink:actuate=\"onRequest\" xlink:href=\"psysml:9d5a91ec-9b15-487c-8680-11258af91cb9\" xlink:show=\"new\" xlink:title=\"psysml:9d5a91ec-9b15-487c-8680-11258af91cb9\" xlink:type=\"simple\"><rect fill=\"#FEFECE\" filter=\"url(#f1tdw1fwh6dj3)\" height=\"40\" id=\"E4\" rx=\"10\" ry=\"10\" style=\"stroke: #A80036; stroke-width: 1.5;\" width=\"50\" x=\"564\" y=\"44\"/><ellipse cx=\"583.5\" cy=\"60\" fill=\"#B6DBBB\" rx=\"11\" ry=\"11\" style=\"stroke: #A80036; stroke-width: 1.0;\"/><path d=\"M579.375,61.9219 L579.375,54.1094 L581.8281,54.1094 L581.8281,62.5469 Q581.8281,63.4688 582.2969,64 Q582.7813,64.5313 583.6094,64.5313 Q584.4531,64.5313 584.9219,64 Q585.3906,63.4688 585.3906,62.5469 L585.3906,54.1094 L587.8438,54.1094 L587.8438,61.9219 Q587.8438,64.4531 586.8438,65.5938 Q585.8438,66.7344 583.6094,66.7344 Q581.3906,66.7344 580.375,65.5938 Q579.375,64.4531 579.375,61.9219 Z \"/><text fill=\"#000000\" font-family=\"sans-serif\" font-size=\"12\" lengthAdjust=\"spacingAndGlyphs\" textLength=\"8\" x=\"598.5\" y=\"64.1543\">a</text></a></g><g id=\"E1.E5\"><a href=\"psysml:0e6ddf84-4c23-42ff-8adf-60418e76591d\" target=\"_top\" title=\"psysml:0e6ddf84-4c23-42ff-8adf-60418e76591d\" xlink:actuate=\"onRequest\" xlink:href=\"psysml:0e6ddf84-4c23-42ff-8adf-60418e76591d\" xlink:show=\"new\" xlink:title=\"psysml:0e6ddf84-4c23-42ff-8adf-60418e76591d\" xlink:type=\"simple\"><rect fill=\"#FEFECE\" filter=\"url(#f1tdw1fwh6dj3)\" height=\"40\" id=\"E5\" rx=\"10\" ry=\"10\" style=\"stroke: #A80036; stroke-width: 1.5;\" width=\"61\" x=\"467.5\" y=\"44\"/><ellipse cx=\"484.75\" cy=\"60\" fill=\"#B6DBBB\" rx=\"11\" ry=\"11\" style=\"stroke: #A80036; stroke-width: 1.0;\"/><path d=\"M480.625,61.9219 L480.625,54.1094 L483.0781,54.1094 L483.0781,62.5469 Q483.0781,63.4688 483.5469,64 Q484.0313,64.5313 484.8594,64.5313 Q485.7031,64.5313 486.1719,64 Q486.6406,63.4688 486.6406,62.5469 L486.6406,54.1094 L489.0938,54.1094 L489.0938,61.9219 Q489.0938,64.4531 488.0938,65.5938 Q487.0938,66.7344 484.8594,66.7344 Q482.6406,66.7344 481.625,65.5938 Q480.625,64.4531 480.625,61.9219 Z \"/><text fill=\"#000000\" font-family=\"sans-serif\" font-size=\"12\" lengthAdjust=\"spacingAndGlyphs\" textLength=\"24\" x=\"499.25\" y=\"64.1543\">b: P</text></a></g><g id=\"E1.E6\"><a href=\"psysml:7a390bd1-339b-4feb-982b-b3a6ee4de727\" target=\"_top\" title=\"psysml:7a390bd1-339b-4feb-982b-b3a6ee4de727\" xlink:actuate=\"onRequest\" xlink:href=\"psysml:7a390bd1-339b-4feb-982b-b3a6ee4de727\" xlink:show=\"new\" xlink:title=\"psysml:7a390bd1-339b-4feb-982b-b3a6ee4de727\" xlink:type=\"simple\"><rect fill=\"#FEFECE\" filter=\"url(#f1tdw1fwh6dj3)\" height=\"40\" id=\"E6\" rx=\"10\" ry=\"10\" style=\"stroke: #A80036; stroke-width: 1.5;\" width=\"60\" x=\"372\" y=\"44\"/><ellipse cx=\"389.25\" cy=\"60\" fill=\"#B6DBBB\" rx=\"11\" ry=\"11\" style=\"stroke: #A80036; stroke-width: 1.0;\"/><path d=\"M385.125,61.9219 L385.125,54.1094 L387.5781,54.1094 L387.5781,62.5469 Q387.5781,63.4688 388.0469,64 Q388.5313,64.5313 389.3594,64.5313 Q390.2031,64.5313 390.6719,64 Q391.1406,63.4688 391.1406,62.5469 L391.1406,54.1094 L393.5938,54.1094 L393.5938,61.9219 Q393.5938,64.4531 392.5938,65.5938 Q391.5938,66.7344 389.3594,66.7344 Q387.1406,66.7344 386.125,65.5938 Q385.125,64.4531 385.125,61.9219 Z \"/><text fill=\"#000000\" font-family=\"sans-serif\" font-size=\"12\" lengthAdjust=\"spacingAndGlyphs\" textLength=\"23\" x=\"403.75\" y=\"64.1543\">c: P</text></a></g><g id=\"E1.E7\"><a href=\"psysml:c41308c3-3ab4-4c95-8873-b6daf8742442\" target=\"_top\" title=\"psysml:c41308c3-3ab4-4c95-8873-b6daf8742442\" xlink:actuate=\"onRequest\" xlink:href=\"psysml:c41308c3-3ab4-4c95-8873-b6daf8742442\" xlink:show=\"new\" xlink:title=\"psysml:c41308c3-3ab4-4c95-8873-b6daf8742442\" xlink:type=\"simple\"><rect fill=\"#FEFECE\" filter=\"url(#f1tdw1fwh6dj3)\" height=\"40\" id=\"E7\" rx=\"10\" ry=\"10\" style=\"stroke: #A80036; stroke-width: 1.5;\" width=\"50\" x=\"287\" y=\"44\"/><ellipse cx=\"306.5\" cy=\"60\" fill=\"#B6DBBB\" rx=\"11\" ry=\"11\" style=\"stroke: #A80036; stroke-width: 1.0;\"/><path d=\"M302.375,61.9219 L302.375,54.1094 L304.8281,54.1094 L304.8281,62.5469 Q304.8281,63.4688 305.2969,64 Q305.7813,64.5313 306.6094,64.5313 Q307.4531,64.5313 307.9219,64 Q308.3906,63.4688 308.3906,62.5469 L308.3906,54.1094 L310.8438,54.1094 L310.8438,61.9219 Q310.8438,64.4531 309.8438,65.5938 Q308.8438,66.7344 306.6094,66.7344 Q304.3906,66.7344 303.375,65.5938 Q302.375,64.4531 302.375,61.9219 Z \"/><text fill=\"#000000\" font-family=\"sans-serif\" font-size=\"12\" lengthAdjust=\"spacingAndGlyphs\" textLength=\"8\" x=\"321.5\" y=\"64.1543\">d</text></a></g><g id=\"E1.E8\"><a href=\"psysml:4786ae2f-f4fb-4524-a996-e764bd48b2ea\" target=\"_top\" title=\"psysml:4786ae2f-f4fb-4524-a996-e764bd48b2ea\" xlink:actuate=\"onRequest\" xlink:href=\"psysml:4786ae2f-f4fb-4524-a996-e764bd48b2ea\" xlink:show=\"new\" xlink:title=\"psysml:4786ae2f-f4fb-4524-a996-e764bd48b2ea\" xlink:type=\"simple\"><rect fill=\"#FEFECE\" filter=\"url(#f1tdw1fwh6dj3)\" height=\"40\" id=\"E8\" rx=\"10\" ry=\"10\" style=\"stroke: #A80036; stroke-width: 1.5;\" width=\"50\" x=\"202\" y=\"44\"/><ellipse cx=\"221.5\" cy=\"60\" fill=\"#B6DBBB\" rx=\"11\" ry=\"11\" style=\"stroke: #A80036; stroke-width: 1.0;\"/><path d=\"M217.375,61.9219 L217.375,54.1094 L219.8281,54.1094 L219.8281,62.5469 Q219.8281,63.4688 220.2969,64 Q220.7813,64.5313 221.6094,64.5313 Q222.4531,64.5313 222.9219,64 Q223.3906,63.4688 223.3906,62.5469 L223.3906,54.1094 L225.8438,54.1094 L225.8438,61.9219 Q225.8438,64.4531 224.8438,65.5938 Q223.8438,66.7344 221.6094,66.7344 Q219.3906,66.7344 218.375,65.5938 Q217.375,64.4531 217.375,61.9219 Z \"/><text fill=\"#000000\" font-family=\"sans-serif\" font-size=\"12\" lengthAdjust=\"spacingAndGlyphs\" textLength=\"8\" x=\"236.5\" y=\"64.1543\">e</text></a></g><g id=\"E1.E9\"><a href=\"psysml:f4778415-89ee-45ef-90f6-0fdee23f5f44\" target=\"_top\" title=\"psysml:f4778415-89ee-45ef-90f6-0fdee23f5f44\" xlink:actuate=\"onRequest\" xlink:href=\"psysml:f4778415-89ee-45ef-90f6-0fdee23f5f44\" xlink:show=\"new\" xlink:title=\"psysml:f4778415-89ee-45ef-90f6-0fdee23f5f44\" xlink:type=\"simple\"><rect fill=\"#FEFECE\" filter=\"url(#f1tdw1fwh6dj3)\" height=\"40\" id=\"E9\" rx=\"10\" ry=\"10\" style=\"stroke: #A80036; stroke-width: 1.5;\" width=\"50\" x=\"117\" y=\"44\"/><ellipse cx=\"138.3\" cy=\"60\" fill=\"#B6DBBB\" rx=\"11\" ry=\"11\" style=\"stroke: #A80036; stroke-width: 1.0;\"/><path d=\"M134.175,61.9219 L134.175,54.1094 L136.6281,54.1094 L136.6281,62.5469 Q136.6281,63.4688 137.0969,64 Q137.5813,64.5313 138.4094,64.5313 Q139.2531,64.5313 139.7219,64 Q140.1906,63.4688 140.1906,62.5469 L140.1906,54.1094 L142.6438,54.1094 L142.6438,61.9219 Q142.6438,64.4531 141.6438,65.5938 Q140.6438,66.7344 138.4094,66.7344 Q136.1906,66.7344 135.175,65.5938 Q134.175,64.4531 134.175,61.9219 Z \"/><text fill=\"#000000\" font-family=\"sans-serif\" font-size=\"12\" lengthAdjust=\"spacingAndGlyphs\" textLength=\"4\" x=\"153.7\" y=\"64.1543\">f</text></a></g><g id=\"E1.E10\"><a href=\"psysml:54ce765f-cd4b-40e3-bd55-528058a48d88\" target=\"_top\" title=\"psysml:54ce765f-cd4b-40e3-bd55-528058a48d88\" xlink:actuate=\"onRequest\" xlink:href=\"psysml:54ce765f-cd4b-40e3-bd55-528058a48d88\" xlink:show=\"new\" xlink:title=\"psysml:54ce765f-cd4b-40e3-bd55-528058a48d88\" xlink:type=\"simple\"><rect fill=\"#FEFECE\" filter=\"url(#f1tdw1fwh6dj3)\" height=\"40\" id=\"E10\" rx=\"10\" ry=\"10\" style=\"stroke: #A80036; stroke-width: 1.5;\" width=\"50\" x=\"32\" y=\"44\"/><ellipse cx=\"51.5\" cy=\"60\" fill=\"#B6DBBB\" rx=\"11\" ry=\"11\" style=\"stroke: #A80036; stroke-width: 1.0;\"/><path d=\"M47.375,61.9219 L47.375,54.1094 L49.8281,54.1094 L49.8281,62.5469 Q49.8281,63.4688 50.2969,64 Q50.7813,64.5313 51.6094,64.5313 Q52.4531,64.5313 52.9219,64 Q53.3906,63.4688 53.3906,62.5469 L53.3906,54.1094 L55.8438,54.1094 L55.8438,61.9219 Q55.8438,64.4531 54.8438,65.5938 Q53.8438,66.7344 51.6094,66.7344 Q49.3906,66.7344 48.375,65.5938 Q47.375,64.4531 47.375,61.9219 Z \"/><text fill=\"#000000\" font-family=\"sans-serif\" font-size=\"12\" lengthAdjust=\"spacingAndGlyphs\" textLength=\"8\" x=\"66.5\" y=\"64.1543\">g</text></a></g><!--MD5=[e29e8f3f231eb052eda57034134dafb6]\n",
       "@startuml\r\n",
       "skinparam ranksep 10\r\n",
       "skinparam rectangle {\r\n",
       " backgroundColor<<block>> LightGreen\r\n",
       "}\r\n",
       " \r\n",
       "package \"MultiplicityTest\" as E1  [[psysml:0be6947d-aa66-4017-a009-04bc0f7b30c5 ]]  {\r\n",
       "rec def \"P\" as E2  << (B,green) >> [[psysml:9ab3d3ff-483c-4e41-ada7-ab2d8c979da0 ]] {\r\n",
       "}\r\n",
       "comp usage \"n: Integer\" as E3  <<(U,orange)attribute>> [[psysml:bb4f0587-9240-4f5c-8b68-755ceb30f0e1 ]] {\r\n",
       "}\r\n",
       "rec usage \"a\" as E4  [[psysml:9d5a91ec-9b15-487c-8680-11258af91cb9 ]] {\r\n",
       "}\r\n",
       "rec usage \"b: P\" as E5  [[psysml:0e6ddf84-4c23-42ff-8adf-60418e76591d ]] {\r\n",
       "}\r\n",
       "rec usage \"c: P\" as E6  [[psysml:7a390bd1-339b-4feb-982b-b3a6ee4de727 ]] {\r\n",
       "}\r\n",
       "rec usage \"d\" as E7  [[psysml:c41308c3-3ab4-4c95-8873-b6daf8742442 ]] {\r\n",
       "}\r\n",
       "rec usage \"e\" as E8  [[psysml:4786ae2f-f4fb-4524-a996-e764bd48b2ea ]] {\r\n",
       "}\r\n",
       "rec usage \"f\" as E9  [[psysml:f4778415-89ee-45ef-90f6-0fdee23f5f44 ]] {\r\n",
       "}\r\n",
       "rec usage \"g\" as E10  [[psysml:54ce765f-cd4b-40e3-bd55-528058a48d88 ]] {\r\n",
       "}\r\n",
       "def \"A\" as E11  <<(D,brown)attribute def>> [[psysml:39471be4-e308-48bc-96c2-d92b434b60c0 ]] \r\n",
       "}\r\n",
       "@enduml\r\n",
       "\n",
       "PlantUML version 1.2020.13(Sat Jun 13 12:26:38 UTC 2020)\n",
       "(EPL source distribution)\n",
       "Java Runtime: OpenJDK Runtime Environment\n",
       "JVM: OpenJDK 64-Bit Server VM\n",
       "Default Encoding: UTF-8\n",
       "Language: en\n",
       "Country: null\n",
       "--></g></svg>"
      ]
     },
     "execution_count": 33,
     "metadata": {},
     "output_type": "execute_result"
    }
   ],
   "source": [
    "%viz --style=\"PLANTUML\" --view=\"Interconnection\" \"MultiplicityTest\""
   ]
  },
  {
   "cell_type": "code",
   "execution_count": 34,
   "id": "3400e2e9",
   "metadata": {
    "execution": {
     "iopub.execute_input": "2021-04-21T20:26:44.190106Z",
     "iopub.status.busy": "2021-04-21T20:26:44.189662Z",
     "iopub.status.idle": "2021-04-21T20:26:44.194364Z",
     "shell.execute_reply": "2021-04-21T20:26:44.194039Z"
    }
   },
   "outputs": [
    {
     "data": {
      "image/svg+xml": [
       "<?xml version=\"1.0\" encoding=\"UTF-8\" standalone=\"no\"?><svg xmlns=\"http://www.w3.org/2000/svg\" xmlns:xlink=\"http://www.w3.org/1999/xlink\" contentScriptType=\"application/ecmascript\" contentStyleType=\"text/css\" height=\"12px\" preserveAspectRatio=\"none\" style=\"width:12px;height:12px;\" version=\"1.1\" viewBox=\"0 0 12 12\" width=\"12px\" zoomAndPan=\"magnify\"><defs/><g><!--MD5=[6a4cb978cab31700e1ce5529f947a75d]\n",
       "@startuml\r\n",
       "skinparam ranksep 8\r\n",
       " \r\n",
       "@enduml\r\n",
       "\n",
       "PlantUML version 1.2020.13(Sat Jun 13 12:26:38 UTC 2020)\n",
       "(EPL source distribution)\n",
       "Java Runtime: OpenJDK Runtime Environment\n",
       "JVM: OpenJDK 64-Bit Server VM\n",
       "Default Encoding: UTF-8\n",
       "Language: en\n",
       "Country: null\n",
       "--></g></svg>"
      ]
     },
     "execution_count": 34,
     "metadata": {},
     "output_type": "execute_result"
    }
   ],
   "source": [
    "%viz --style=\"PLANTUML\" --view=\"Action\" \"MultiplicityTest\""
   ]
  },
  {
   "cell_type": "code",
   "execution_count": 35,
   "id": "03c54fc2",
   "metadata": {
    "execution": {
     "iopub.execute_input": "2021-04-21T20:26:44.244550Z",
     "iopub.status.busy": "2021-04-21T20:26:44.244192Z",
     "iopub.status.idle": "2021-04-21T20:26:44.289934Z",
     "shell.execute_reply": "2021-04-21T20:26:44.287896Z"
    }
   },
   "outputs": [
    {
     "data": {
      "image/svg+xml": [
       "<?xml version=\"1.0\" encoding=\"UTF-8\" standalone=\"no\"?><svg xmlns=\"http://www.w3.org/2000/svg\" xmlns:xlink=\"http://www.w3.org/1999/xlink\" contentScriptType=\"application/ecmascript\" contentStyleType=\"text/css\" height=\"241px\" preserveAspectRatio=\"none\" style=\"width:1045px;height:241px;\" version=\"1.1\" viewBox=\"0 0 1045 241\" width=\"1045px\" zoomAndPan=\"magnify\"><defs><filter height=\"300%\" id=\"fs2awtru0ej11\" width=\"300%\" x=\"-1\" y=\"-1\"><feGaussianBlur result=\"blurOut\" stdDeviation=\"2.0\"/><feColorMatrix in=\"blurOut\" result=\"blurOut2\" type=\"matrix\" values=\"0 0 0 0 0 0 0 0 0 0 0 0 0 0 0 0 0 0 .4 0\"/><feOffset dx=\"4.0\" dy=\"4.0\" in=\"blurOut2\" result=\"blurOut3\"/><feBlend in=\"SourceGraphic\" in2=\"blurOut3\" mode=\"normal\"/></filter></defs><g><!--MD5=[fbc87193dbaf4d95561dea2c320d4a47]\n",
       "cluster E1--><a href=\"psysml:0be6947d-aa66-4017-a009-04bc0f7b30c5\" target=\"_top\" title=\"psysml:0be6947d-aa66-4017-a009-04bc0f7b30c5\" xlink:actuate=\"onRequest\" xlink:href=\"psysml:0be6947d-aa66-4017-a009-04bc0f7b30c5\" xlink:show=\"new\" xlink:title=\"psysml:0be6947d-aa66-4017-a009-04bc0f7b30c5\" xlink:type=\"simple\"><polygon fill=\"#FFFFFF\" filter=\"url(#fs2awtru0ej11)\" points=\"16,6,140,6,147,28.2969,1023,28.2969,1023,229,16,229,16,6\" style=\"stroke: #000000; stroke-width: 1.5;\"/><line style=\"stroke: #000000; stroke-width: 1.5;\" x1=\"16\" x2=\"147\" y1=\"28.2969\" y2=\"28.2969\"/><text fill=\"#000000\" font-family=\"sans-serif\" font-size=\"14\" font-weight=\"bold\" lengthAdjust=\"spacingAndGlyphs\" textLength=\"118\" x=\"20\" y=\"20.9951\">MultiplicityTest</text></a><!--MD5=[b4997ac47864f28c2f74865a473b2911]\n",
       "class E2--><a href=\"psysml:9ab3d3ff-483c-4e41-ada7-ab2d8c979da0\" target=\"_top\" title=\"psysml:9ab3d3ff-483c-4e41-ada7-ab2d8c979da0\" xlink:actuate=\"onRequest\" xlink:href=\"psysml:9ab3d3ff-483c-4e41-ada7-ab2d8c979da0\" xlink:show=\"new\" xlink:title=\"psysml:9ab3d3ff-483c-4e41-ada7-ab2d8c979da0\" xlink:type=\"simple\"><rect fill=\"#FEFECE\" filter=\"url(#fs2awtru0ej11)\" height=\"40\" id=\"E2\" style=\"stroke: #A80036; stroke-width: 1.5;\" width=\"40\" x=\"666\" y=\"173\"/><ellipse cx=\"681\" cy=\"189\" fill=\"#008000\" rx=\"11\" ry=\"11\" style=\"stroke: #A80036; stroke-width: 1.0;\"/><path d=\"M679.9063,189.375 L679.9063,193.0469 L681.5313,193.0469 Q682.7031,193.0469 683.1719,192.6563 Q683.6406,192.25 683.6406,191.25 Q683.6406,190.25 683.1406,189.8125 Q682.6563,189.375 681.5313,189.375 L679.9063,189.375 Z M679.9063,184.5469 L679.9063,187.4219 L681.5313,187.4219 Q682.4531,187.4219 682.8438,187.0938 Q683.25,186.75 683.25,186 Q683.25,185.2344 682.8438,184.8906 Q682.4375,184.5469 681.5313,184.5469 L679.9063,184.5469 Z M677.5313,182.5938 L681.5313,182.5938 Q683.5938,182.5938 684.6406,183.375 Q685.6875,184.1563 685.6875,185.7188 Q685.6875,186.9219 685.0625,187.5938 Q684.4531,188.2656 683.2656,188.375 Q684.6875,188.5156 685.4063,189.3281 Q686.125,190.1406 686.125,191.5938 Q686.125,193.3906 685.0469,194.2031 Q683.9688,195 681.5313,195 L677.5313,195 L677.5313,182.5938 Z \"/><text fill=\"#000000\" font-family=\"sans-serif\" font-size=\"12\" lengthAdjust=\"spacingAndGlyphs\" textLength=\"8\" x=\"695\" y=\"193.1543\">P</text><line style=\"stroke: #A80036; stroke-width: 1.5;\" x1=\"667\" x2=\"705\" y1=\"205\" y2=\"205\"/></a><!--MD5=[09b614a08d8cba4a07c9adeb5e0fee81]\n",
       "class E3--><a href=\"psysml:bb4f0587-9240-4f5c-8b68-755ceb30f0e1\" target=\"_top\" title=\"psysml:bb4f0587-9240-4f5c-8b68-755ceb30f0e1\" xlink:actuate=\"onRequest\" xlink:href=\"psysml:bb4f0587-9240-4f5c-8b68-755ceb30f0e1\" xlink:show=\"new\" xlink:title=\"psysml:bb4f0587-9240-4f5c-8b68-755ceb30f0e1\" xlink:type=\"simple\"><rect fill=\"#FEFECE\" filter=\"url(#fs2awtru0ej11)\" height=\"45.9375\" id=\"E3\" rx=\"10\" ry=\"10\" style=\"stroke: #A80036; stroke-width: 1.5;\" width=\"97\" x=\"910.5\" y=\"54\"/><ellipse cx=\"925.5\" cy=\"72.9688\" fill=\"#FFA500\" rx=\"11\" ry=\"11\" style=\"stroke: #A80036; stroke-width: 1.0;\"/><path d=\"M921.375,74.8906 L921.375,67.0781 L923.8281,67.0781 L923.8281,75.5156 Q923.8281,76.4375 924.2969,76.9688 Q924.7813,77.5 925.6094,77.5 Q926.4531,77.5 926.9219,76.9688 Q927.3906,76.4375 927.3906,75.5156 L927.3906,67.0781 L929.8438,67.0781 L929.8438,74.8906 Q929.8438,77.4219 928.8438,78.5625 Q927.8438,79.7031 925.6094,79.7031 Q923.3906,79.7031 922.375,78.5625 Q921.375,77.4219 921.375,74.8906 Z \"/><text fill=\"#000000\" font-family=\"sans-serif\" font-size=\"12\" font-style=\"italic\" lengthAdjust=\"spacingAndGlyphs\" textLength=\"69\" x=\"937.5\" y=\"70.1387\">«attribute»</text><text fill=\"#000000\" font-family=\"sans-serif\" font-size=\"12\" lengthAdjust=\"spacingAndGlyphs\" textLength=\"61\" x=\"941.5\" y=\"84.1074\">n: Integer</text><line style=\"stroke: #A80036; stroke-width: 1.5;\" x1=\"911.5\" x2=\"1006.5\" y1=\"91.9375\" y2=\"91.9375\"/></a><!--MD5=[ebbe1d658d1005bcc118a6aa81145e00]\n",
       "class E4--><a href=\"psysml:9d5a91ec-9b15-487c-8680-11258af91cb9\" target=\"_top\" title=\"psysml:9d5a91ec-9b15-487c-8680-11258af91cb9\" xlink:actuate=\"onRequest\" xlink:href=\"psysml:9d5a91ec-9b15-487c-8680-11258af91cb9\" xlink:show=\"new\" xlink:title=\"psysml:9d5a91ec-9b15-487c-8680-11258af91cb9\" xlink:type=\"simple\"><rect fill=\"#FEFECE\" filter=\"url(#fs2awtru0ej11)\" height=\"45.9375\" id=\"E4\" rx=\"10\" ry=\"10\" style=\"stroke: #A80036; stroke-width: 1.5;\" width=\"68\" x=\"807\" y=\"54\"/><ellipse cx=\"822\" cy=\"72.9688\" fill=\"#32CD32\" rx=\"11\" ry=\"11\" style=\"stroke: #A80036; stroke-width: 1.0;\"/><path d=\"M821.7969,68.6406 L821.7969,72.2656 L822.7969,72.2656 Q824,72.2656 824.4844,71.8594 Q824.9688,71.4531 824.9688,70.4531 Q824.9688,69.4531 824.4844,69.0469 Q824,68.6406 822.7969,68.6406 L821.7969,68.6406 Z M819.3438,66.5781 L822.7031,66.5781 Q825.2656,66.5781 826.3906,67.5 Q827.5156,68.4063 827.5156,70.4531 Q827.5156,72.5 826.3906,73.4219 Q825.2656,74.3281 822.7031,74.3281 L821.7969,74.3281 L821.7969,78.9688 L819.3438,78.9688 L819.3438,66.5781 Z \"/><text fill=\"#000000\" font-family=\"sans-serif\" font-size=\"12\" font-style=\"italic\" lengthAdjust=\"spacingAndGlyphs\" textLength=\"40\" x=\"834\" y=\"70.1387\">«part»</text><text fill=\"#000000\" font-family=\"sans-serif\" font-size=\"12\" lengthAdjust=\"spacingAndGlyphs\" textLength=\"8\" x=\"850\" y=\"84.1074\">a</text><line style=\"stroke: #A80036; stroke-width: 1.5;\" x1=\"808\" x2=\"874\" y1=\"91.9375\" y2=\"91.9375\"/></a><!--MD5=[270fce915f116d4de14055a7c1d9a0f3]\n",
       "class E5--><a href=\"psysml:0e6ddf84-4c23-42ff-8adf-60418e76591d\" target=\"_top\" title=\"psysml:0e6ddf84-4c23-42ff-8adf-60418e76591d\" xlink:actuate=\"onRequest\" xlink:href=\"psysml:0e6ddf84-4c23-42ff-8adf-60418e76591d\" xlink:show=\"new\" xlink:title=\"psysml:0e6ddf84-4c23-42ff-8adf-60418e76591d\" xlink:type=\"simple\"><rect fill=\"#FEFECE\" filter=\"url(#fs2awtru0ej11)\" height=\"45.9375\" id=\"E5\" rx=\"10\" ry=\"10\" style=\"stroke: #A80036; stroke-width: 1.5;\" width=\"68\" x=\"704\" y=\"54\"/><ellipse cx=\"719\" cy=\"72.9688\" fill=\"#32CD32\" rx=\"11\" ry=\"11\" style=\"stroke: #A80036; stroke-width: 1.0;\"/><path d=\"M718.7969,68.6406 L718.7969,72.2656 L719.7969,72.2656 Q721,72.2656 721.4844,71.8594 Q721.9688,71.4531 721.9688,70.4531 Q721.9688,69.4531 721.4844,69.0469 Q721,68.6406 719.7969,68.6406 L718.7969,68.6406 Z M716.3438,66.5781 L719.7031,66.5781 Q722.2656,66.5781 723.3906,67.5 Q724.5156,68.4063 724.5156,70.4531 Q724.5156,72.5 723.3906,73.4219 Q722.2656,74.3281 719.7031,74.3281 L718.7969,74.3281 L718.7969,78.9688 L716.3438,78.9688 L716.3438,66.5781 Z \"/><text fill=\"#000000\" font-family=\"sans-serif\" font-size=\"12\" font-style=\"italic\" lengthAdjust=\"spacingAndGlyphs\" textLength=\"40\" x=\"731\" y=\"70.1387\">«part»</text><text fill=\"#000000\" font-family=\"sans-serif\" font-size=\"12\" lengthAdjust=\"spacingAndGlyphs\" textLength=\"24\" x=\"739\" y=\"84.1074\">b: P</text><line style=\"stroke: #A80036; stroke-width: 1.5;\" x1=\"705\" x2=\"771\" y1=\"91.9375\" y2=\"91.9375\"/></a><!--MD5=[60a26617385b1d2d0262a64233df1f8d]\n",
       "class E6--><a href=\"psysml:7a390bd1-339b-4feb-982b-b3a6ee4de727\" target=\"_top\" title=\"psysml:7a390bd1-339b-4feb-982b-b3a6ee4de727\" xlink:actuate=\"onRequest\" xlink:href=\"psysml:7a390bd1-339b-4feb-982b-b3a6ee4de727\" xlink:show=\"new\" xlink:title=\"psysml:7a390bd1-339b-4feb-982b-b3a6ee4de727\" xlink:type=\"simple\"><rect fill=\"#FEFECE\" filter=\"url(#fs2awtru0ej11)\" height=\"45.9375\" id=\"E6\" rx=\"10\" ry=\"10\" style=\"stroke: #A80036; stroke-width: 1.5;\" width=\"68\" x=\"601\" y=\"54\"/><ellipse cx=\"616\" cy=\"72.9688\" fill=\"#32CD32\" rx=\"11\" ry=\"11\" style=\"stroke: #A80036; stroke-width: 1.0;\"/><path d=\"M615.7969,68.6406 L615.7969,72.2656 L616.7969,72.2656 Q618,72.2656 618.4844,71.8594 Q618.9688,71.4531 618.9688,70.4531 Q618.9688,69.4531 618.4844,69.0469 Q618,68.6406 616.7969,68.6406 L615.7969,68.6406 Z M613.3438,66.5781 L616.7031,66.5781 Q619.2656,66.5781 620.3906,67.5 Q621.5156,68.4063 621.5156,70.4531 Q621.5156,72.5 620.3906,73.4219 Q619.2656,74.3281 616.7031,74.3281 L615.7969,74.3281 L615.7969,78.9688 L613.3438,78.9688 L613.3438,66.5781 Z \"/><text fill=\"#000000\" font-family=\"sans-serif\" font-size=\"12\" font-style=\"italic\" lengthAdjust=\"spacingAndGlyphs\" textLength=\"40\" x=\"628\" y=\"70.1387\">«part»</text><text fill=\"#000000\" font-family=\"sans-serif\" font-size=\"12\" lengthAdjust=\"spacingAndGlyphs\" textLength=\"23\" x=\"636.5\" y=\"84.1074\">c: P</text><line style=\"stroke: #A80036; stroke-width: 1.5;\" x1=\"602\" x2=\"668\" y1=\"91.9375\" y2=\"91.9375\"/></a><!--MD5=[2156ba9850f5573cc1fc38a6a4b2f02b]\n",
       "class E7--><a href=\"psysml:c41308c3-3ab4-4c95-8873-b6daf8742442\" target=\"_top\" title=\"psysml:c41308c3-3ab4-4c95-8873-b6daf8742442\" xlink:actuate=\"onRequest\" xlink:href=\"psysml:c41308c3-3ab4-4c95-8873-b6daf8742442\" xlink:show=\"new\" xlink:title=\"psysml:c41308c3-3ab4-4c95-8873-b6daf8742442\" xlink:type=\"simple\"><rect fill=\"#FEFECE\" filter=\"url(#fs2awtru0ej11)\" height=\"45.9375\" id=\"E7\" rx=\"10\" ry=\"10\" style=\"stroke: #A80036; stroke-width: 1.5;\" width=\"68\" x=\"498\" y=\"54\"/><ellipse cx=\"513\" cy=\"72.9688\" fill=\"#32CD32\" rx=\"11\" ry=\"11\" style=\"stroke: #A80036; stroke-width: 1.0;\"/><path d=\"M512.7969,68.6406 L512.7969,72.2656 L513.7969,72.2656 Q515,72.2656 515.4844,71.8594 Q515.9688,71.4531 515.9688,70.4531 Q515.9688,69.4531 515.4844,69.0469 Q515,68.6406 513.7969,68.6406 L512.7969,68.6406 Z M510.3438,66.5781 L513.7031,66.5781 Q516.2656,66.5781 517.3906,67.5 Q518.5156,68.4063 518.5156,70.4531 Q518.5156,72.5 517.3906,73.4219 Q516.2656,74.3281 513.7031,74.3281 L512.7969,74.3281 L512.7969,78.9688 L510.3438,78.9688 L510.3438,66.5781 Z \"/><text fill=\"#000000\" font-family=\"sans-serif\" font-size=\"12\" font-style=\"italic\" lengthAdjust=\"spacingAndGlyphs\" textLength=\"40\" x=\"525\" y=\"70.1387\">«part»</text><text fill=\"#000000\" font-family=\"sans-serif\" font-size=\"12\" lengthAdjust=\"spacingAndGlyphs\" textLength=\"8\" x=\"541\" y=\"84.1074\">d</text><line style=\"stroke: #A80036; stroke-width: 1.5;\" x1=\"499\" x2=\"565\" y1=\"91.9375\" y2=\"91.9375\"/></a><!--MD5=[b9389687b975829384b498ac4b7476b2]\n",
       "class E8--><a href=\"psysml:4786ae2f-f4fb-4524-a996-e764bd48b2ea\" target=\"_top\" title=\"psysml:4786ae2f-f4fb-4524-a996-e764bd48b2ea\" xlink:actuate=\"onRequest\" xlink:href=\"psysml:4786ae2f-f4fb-4524-a996-e764bd48b2ea\" xlink:show=\"new\" xlink:title=\"psysml:4786ae2f-f4fb-4524-a996-e764bd48b2ea\" xlink:type=\"simple\"><rect fill=\"#FEFECE\" filter=\"url(#fs2awtru0ej11)\" height=\"45.9375\" id=\"E8\" rx=\"10\" ry=\"10\" style=\"stroke: #A80036; stroke-width: 1.5;\" width=\"68\" x=\"395\" y=\"54\"/><ellipse cx=\"410\" cy=\"72.9688\" fill=\"#32CD32\" rx=\"11\" ry=\"11\" style=\"stroke: #A80036; stroke-width: 1.0;\"/><path d=\"M409.7969,68.6406 L409.7969,72.2656 L410.7969,72.2656 Q412,72.2656 412.4844,71.8594 Q412.9688,71.4531 412.9688,70.4531 Q412.9688,69.4531 412.4844,69.0469 Q412,68.6406 410.7969,68.6406 L409.7969,68.6406 Z M407.3438,66.5781 L410.7031,66.5781 Q413.2656,66.5781 414.3906,67.5 Q415.5156,68.4063 415.5156,70.4531 Q415.5156,72.5 414.3906,73.4219 Q413.2656,74.3281 410.7031,74.3281 L409.7969,74.3281 L409.7969,78.9688 L407.3438,78.9688 L407.3438,66.5781 Z \"/><text fill=\"#000000\" font-family=\"sans-serif\" font-size=\"12\" font-style=\"italic\" lengthAdjust=\"spacingAndGlyphs\" textLength=\"40\" x=\"422\" y=\"70.1387\">«part»</text><text fill=\"#000000\" font-family=\"sans-serif\" font-size=\"12\" lengthAdjust=\"spacingAndGlyphs\" textLength=\"8\" x=\"438\" y=\"84.1074\">e</text><line style=\"stroke: #A80036; stroke-width: 1.5;\" x1=\"396\" x2=\"462\" y1=\"91.9375\" y2=\"91.9375\"/></a><!--MD5=[fd4143e9d270a159db93a4ea2a975926]\n",
       "class E9--><a href=\"psysml:f4778415-89ee-45ef-90f6-0fdee23f5f44\" target=\"_top\" title=\"psysml:f4778415-89ee-45ef-90f6-0fdee23f5f44\" xlink:actuate=\"onRequest\" xlink:href=\"psysml:f4778415-89ee-45ef-90f6-0fdee23f5f44\" xlink:show=\"new\" xlink:title=\"psysml:f4778415-89ee-45ef-90f6-0fdee23f5f44\" xlink:type=\"simple\"><rect fill=\"#FEFECE\" filter=\"url(#fs2awtru0ej11)\" height=\"45.9375\" id=\"E9\" rx=\"10\" ry=\"10\" style=\"stroke: #A80036; stroke-width: 1.5;\" width=\"68\" x=\"292\" y=\"54\"/><ellipse cx=\"307\" cy=\"72.9688\" fill=\"#32CD32\" rx=\"11\" ry=\"11\" style=\"stroke: #A80036; stroke-width: 1.0;\"/><path d=\"M306.7969,68.6406 L306.7969,72.2656 L307.7969,72.2656 Q309,72.2656 309.4844,71.8594 Q309.9688,71.4531 309.9688,70.4531 Q309.9688,69.4531 309.4844,69.0469 Q309,68.6406 307.7969,68.6406 L306.7969,68.6406 Z M304.3438,66.5781 L307.7031,66.5781 Q310.2656,66.5781 311.3906,67.5 Q312.5156,68.4063 312.5156,70.4531 Q312.5156,72.5 311.3906,73.4219 Q310.2656,74.3281 307.7031,74.3281 L306.7969,74.3281 L306.7969,78.9688 L304.3438,78.9688 L304.3438,66.5781 Z \"/><text fill=\"#000000\" font-family=\"sans-serif\" font-size=\"12\" font-style=\"italic\" lengthAdjust=\"spacingAndGlyphs\" textLength=\"40\" x=\"319\" y=\"70.1387\">«part»</text><text fill=\"#000000\" font-family=\"sans-serif\" font-size=\"12\" lengthAdjust=\"spacingAndGlyphs\" textLength=\"4\" x=\"337\" y=\"84.1074\">f</text><line style=\"stroke: #A80036; stroke-width: 1.5;\" x1=\"293\" x2=\"359\" y1=\"91.9375\" y2=\"91.9375\"/></a><!--MD5=[96f4274e9e20536e775497830990834d]\n",
       "class E10--><a href=\"psysml:54ce765f-cd4b-40e3-bd55-528058a48d88\" target=\"_top\" title=\"psysml:54ce765f-cd4b-40e3-bd55-528058a48d88\" xlink:actuate=\"onRequest\" xlink:href=\"psysml:54ce765f-cd4b-40e3-bd55-528058a48d88\" xlink:show=\"new\" xlink:title=\"psysml:54ce765f-cd4b-40e3-bd55-528058a48d88\" xlink:type=\"simple\"><rect fill=\"#FEFECE\" filter=\"url(#fs2awtru0ej11)\" height=\"45.9375\" id=\"E10\" rx=\"10\" ry=\"10\" style=\"stroke: #A80036; stroke-width: 1.5;\" width=\"68\" x=\"189\" y=\"54\"/><ellipse cx=\"204\" cy=\"72.9688\" fill=\"#32CD32\" rx=\"11\" ry=\"11\" style=\"stroke: #A80036; stroke-width: 1.0;\"/><path d=\"M203.7969,68.6406 L203.7969,72.2656 L204.7969,72.2656 Q206,72.2656 206.4844,71.8594 Q206.9688,71.4531 206.9688,70.4531 Q206.9688,69.4531 206.4844,69.0469 Q206,68.6406 204.7969,68.6406 L203.7969,68.6406 Z M201.3438,66.5781 L204.7031,66.5781 Q207.2656,66.5781 208.3906,67.5 Q209.5156,68.4063 209.5156,70.4531 Q209.5156,72.5 208.3906,73.4219 Q207.2656,74.3281 204.7031,74.3281 L203.7969,74.3281 L203.7969,78.9688 L201.3438,78.9688 L201.3438,66.5781 Z \"/><text fill=\"#000000\" font-family=\"sans-serif\" font-size=\"12\" font-style=\"italic\" lengthAdjust=\"spacingAndGlyphs\" textLength=\"40\" x=\"216\" y=\"70.1387\">«part»</text><text fill=\"#000000\" font-family=\"sans-serif\" font-size=\"12\" lengthAdjust=\"spacingAndGlyphs\" textLength=\"8\" x=\"232\" y=\"84.1074\">g</text><line style=\"stroke: #A80036; stroke-width: 1.5;\" x1=\"190\" x2=\"256\" y1=\"91.9375\" y2=\"91.9375\"/></a><!--MD5=[1dd1bfd58a279cf63c5f349dbc8fc6a1]\n",
       "class E11--><a href=\"psysml:39471be4-e308-48bc-96c2-d92b434b60c0\" target=\"_top\" title=\"psysml:39471be4-e308-48bc-96c2-d92b434b60c0\" xlink:actuate=\"onRequest\" xlink:href=\"psysml:39471be4-e308-48bc-96c2-d92b434b60c0\" xlink:show=\"new\" xlink:title=\"psysml:39471be4-e308-48bc-96c2-d92b434b60c0\" xlink:type=\"simple\"><rect fill=\"#FEFECE\" filter=\"url(#fs2awtru0ej11)\" height=\"71.5469\" id=\"E11\" style=\"stroke: #A80036; stroke-width: 1.5;\" width=\"121\" x=\"32.5\" y=\"41\"/><ellipse cx=\"47.5\" cy=\"59.9688\" fill=\"#A52A2A\" rx=\"11\" ry=\"11\" style=\"stroke: #A80036; stroke-width: 1.0;\"/><path d=\"M47.0938,55.7813 L47.0938,63.7656 L47.75,63.7656 Q49.1875,63.7656 49.7969,62.8594 Q50.4219,61.9375 50.4219,59.7656 Q50.4219,57.5938 49.7969,56.6875 Q49.1875,55.7813 47.75,55.7813 L47.0938,55.7813 Z M44.6406,53.5781 L47.2656,53.5781 Q50.2969,53.5781 51.625,55.0313 Q52.9688,56.4688 52.9688,59.7656 Q52.9688,63.0625 51.625,64.5156 Q50.2969,65.9688 47.2656,65.9688 L44.6406,65.9688 L44.6406,53.5781 Z \"/><text fill=\"#000000\" font-family=\"sans-serif\" font-size=\"12\" font-style=\"italic\" lengthAdjust=\"spacingAndGlyphs\" textLength=\"93\" x=\"59.5\" y=\"57.1387\">«attribute def»</text><text fill=\"#000000\" font-family=\"sans-serif\" font-size=\"12\" lengthAdjust=\"spacingAndGlyphs\" textLength=\"8\" x=\"102\" y=\"71.1074\">A</text><line style=\"stroke: #A80036; stroke-width: 1.5;\" x1=\"33.5\" x2=\"152.5\" y1=\"78.9375\" y2=\"78.9375\"/><text fill=\"#000000\" font-family=\"sans-serif\" font-size=\"11\" lengthAdjust=\"spacingAndGlyphs\" textLength=\"51\" x=\"38.5\" y=\"93.1479\">i: Integer</text><text fill=\"#000000\" font-family=\"sans-serif\" font-size=\"11\" lengthAdjust=\"spacingAndGlyphs\" textLength=\"21\" x=\"38.5\" y=\"105.9526\">x: A</text></a><!--MD5=[15ebcb19ae302d9b601edb458606d402]\n",
       "link E5 to E2--><a href=\"psysml:911f47bc-487d-4cbf-bcdd-94eeba00c89c\" target=\"_top\" title=\"psysml:911f47bc-487d-4cbf-bcdd-94eeba00c89c\" xlink:actuate=\"onRequest\" xlink:href=\"psysml:911f47bc-487d-4cbf-bcdd-94eeba00c89c\" xlink:show=\"new\" xlink:title=\"psysml:911f47bc-487d-4cbf-bcdd-94eeba00c89c\" xlink:type=\"simple\"><path d=\"M727.85,100.25 C720.81,115.68 711.27,136.61 703.07,154.58 \" fill=\"none\" id=\"E5-&gt;E2\" style=\"stroke: #A80036; stroke-width: 1.0;\"/><polygon fill=\"#FFFFFF\" points=\"694.74,172.84,696.2548,152.6483,708.9927,158.4573,694.74,172.84\" style=\"stroke: #A80036; stroke-width: 1.0;\"/><ellipse cx=\"700.4396\" cy=\"148.292\" fill=\"#A80036\" rx=\"2\" ry=\"2\" style=\"stroke: #A80036; stroke-width: 1.0;\"/><ellipse cx=\"709.5381\" cy=\"152.4413\" fill=\"#A80036\" rx=\"2\" ry=\"2\" style=\"stroke: #A80036; stroke-width: 1.0;\"/></a><!--MD5=[2351f337d6de0f557b50152ba70847b5]\n",
       "link E6 to E2--><a href=\"psysml:5d978d49-3aad-49b2-9a30-3bd5979ae9aa\" target=\"_top\" title=\"psysml:5d978d49-3aad-49b2-9a30-3bd5979ae9aa\" xlink:actuate=\"onRequest\" xlink:href=\"psysml:5d978d49-3aad-49b2-9a30-3bd5979ae9aa\" xlink:show=\"new\" xlink:title=\"psysml:5d978d49-3aad-49b2-9a30-3bd5979ae9aa\" xlink:type=\"simple\"><path d=\"M644.95,100.25 C651.86,115.68 661.22,136.61 669.26,154.58 \" fill=\"none\" id=\"E6-&gt;E2\" style=\"stroke: #A80036; stroke-width: 1.0;\"/><polygon fill=\"#FFFFFF\" points=\"677.43,172.84,663.2788,158.3574,676.0573,152.6381,677.43,172.84\" style=\"stroke: #A80036; stroke-width: 1.0;\"/><ellipse cx=\"662.7757\" cy=\"152.3377\" fill=\"#A80036\" rx=\"2\" ry=\"2\" style=\"stroke: #A80036; stroke-width: 1.0;\"/><ellipse cx=\"671.9032\" cy=\"148.2525\" fill=\"#A80036\" rx=\"2\" ry=\"2\" style=\"stroke: #A80036; stroke-width: 1.0;\"/></a><!--MD5=[a91ebf9c03be96a1cfede097d4c9acfb]\n",
       "@startuml\r\n",
       " \r\n",
       "package \"MultiplicityTest\" as E1  [[psysml:0be6947d-aa66-4017-a009-04bc0f7b30c5 ]]  {\r\n",
       "comp def \"P\" as E2  << (B,green) >> [[psysml:9ab3d3ff-483c-4e41-ada7-ab2d8c979da0 ]] {\r\n",
       "}\r\n",
       "comp usage \"n: Integer\" as E3  <<(U,orange)attribute>> [[psysml:bb4f0587-9240-4f5c-8b68-755ceb30f0e1 ]] {\r\n",
       "}\r\n",
       "comp usage \"a\" as E4  << (P,limegreen) part>> [[psysml:9d5a91ec-9b15-487c-8680-11258af91cb9 ]] {\r\n",
       "}\r\n",
       "comp usage \"b: P\" as E5  << (P,limegreen) part>> [[psysml:0e6ddf84-4c23-42ff-8adf-60418e76591d ]] {\r\n",
       "}\r\n",
       "comp usage \"c: P\" as E6  << (P,limegreen) part>> [[psysml:7a390bd1-339b-4feb-982b-b3a6ee4de727 ]] {\r\n",
       "}\r\n",
       "comp usage \"d\" as E7  << (P,limegreen) part>> [[psysml:c41308c3-3ab4-4c95-8873-b6daf8742442 ]] {\r\n",
       "}\r\n",
       "comp usage \"e\" as E8  << (P,limegreen) part>> [[psysml:4786ae2f-f4fb-4524-a996-e764bd48b2ea ]] {\r\n",
       "}\r\n",
       "comp usage \"f\" as E9  << (P,limegreen) part>> [[psysml:f4778415-89ee-45ef-90f6-0fdee23f5f44 ]] {\r\n",
       "}\r\n",
       "comp usage \"g\" as E10  << (P,limegreen) part>> [[psysml:54ce765f-cd4b-40e3-bd55-528058a48d88 ]] {\r\n",
       "}\r\n",
       "comp def \"A\" as E11  <<(D,brown)attribute def>> [[psysml:39471be4-e308-48bc-96c2-d92b434b60c0 ]] {\r\n",
       "i: Integer\r\n",
       "x: A\r\n",
       "}\r\n",
       "E5 - -:|> E2 [[psysml:911f47bc-487d-4cbf-bcdd-94eeba00c89c ]] \r\n",
       "E6 - -:|> E2 [[psysml:5d978d49-3aad-49b2-9a30-3bd5979ae9aa ]] \r\n",
       "}\r\n",
       "@enduml\r\n",
       "\n",
       "PlantUML version 1.2020.13(Sat Jun 13 12:26:38 UTC 2020)\n",
       "(EPL source distribution)\n",
       "Java Runtime: OpenJDK Runtime Environment\n",
       "JVM: OpenJDK 64-Bit Server VM\n",
       "Default Encoding: UTF-8\n",
       "Language: en\n",
       "Country: null\n",
       "--></g></svg>"
      ]
     },
     "execution_count": 35,
     "metadata": {},
     "output_type": "execute_result"
    }
   ],
   "source": [
    "%viz --style=\"PLANTUML\" --view=\"Sequence\" \"MultiplicityTest\""
   ]
  },
  {
   "cell_type": "code",
   "execution_count": 36,
   "id": "ea1aacf3",
   "metadata": {
    "execution": {
     "iopub.execute_input": "2021-04-21T20:26:44.341371Z",
     "iopub.status.busy": "2021-04-21T20:26:44.340806Z",
     "iopub.status.idle": "2021-04-21T20:26:44.381429Z",
     "shell.execute_reply": "2021-04-21T20:26:44.381092Z"
    }
   },
   "outputs": [
    {
     "data": {
      "image/svg+xml": [
       "<?xml version=\"1.0\" encoding=\"UTF-8\" standalone=\"no\"?><svg xmlns=\"http://www.w3.org/2000/svg\" xmlns:xlink=\"http://www.w3.org/1999/xlink\" contentScriptType=\"application/ecmascript\" contentStyleType=\"text/css\" height=\"241px\" preserveAspectRatio=\"none\" style=\"width:1045px;height:241px;\" version=\"1.1\" viewBox=\"0 0 1045 241\" width=\"1045px\" zoomAndPan=\"magnify\"><defs><filter height=\"300%\" id=\"fs2awtru0ej11\" width=\"300%\" x=\"-1\" y=\"-1\"><feGaussianBlur result=\"blurOut\" stdDeviation=\"2.0\"/><feColorMatrix in=\"blurOut\" result=\"blurOut2\" type=\"matrix\" values=\"0 0 0 0 0 0 0 0 0 0 0 0 0 0 0 0 0 0 .4 0\"/><feOffset dx=\"4.0\" dy=\"4.0\" in=\"blurOut2\" result=\"blurOut3\"/><feBlend in=\"SourceGraphic\" in2=\"blurOut3\" mode=\"normal\"/></filter></defs><g><!--MD5=[fbc87193dbaf4d95561dea2c320d4a47]\n",
       "cluster E1--><a href=\"psysml:0be6947d-aa66-4017-a009-04bc0f7b30c5\" target=\"_top\" title=\"psysml:0be6947d-aa66-4017-a009-04bc0f7b30c5\" xlink:actuate=\"onRequest\" xlink:href=\"psysml:0be6947d-aa66-4017-a009-04bc0f7b30c5\" xlink:show=\"new\" xlink:title=\"psysml:0be6947d-aa66-4017-a009-04bc0f7b30c5\" xlink:type=\"simple\"><polygon fill=\"#FFFFFF\" filter=\"url(#fs2awtru0ej11)\" points=\"16,6,140,6,147,28.2969,1023,28.2969,1023,229,16,229,16,6\" style=\"stroke: #000000; stroke-width: 1.5;\"/><line style=\"stroke: #000000; stroke-width: 1.5;\" x1=\"16\" x2=\"147\" y1=\"28.2969\" y2=\"28.2969\"/><text fill=\"#000000\" font-family=\"sans-serif\" font-size=\"14\" font-weight=\"bold\" lengthAdjust=\"spacingAndGlyphs\" textLength=\"118\" x=\"20\" y=\"20.9951\">MultiplicityTest</text></a><!--MD5=[b4997ac47864f28c2f74865a473b2911]\n",
       "class E2--><a href=\"psysml:9ab3d3ff-483c-4e41-ada7-ab2d8c979da0\" target=\"_top\" title=\"psysml:9ab3d3ff-483c-4e41-ada7-ab2d8c979da0\" xlink:actuate=\"onRequest\" xlink:href=\"psysml:9ab3d3ff-483c-4e41-ada7-ab2d8c979da0\" xlink:show=\"new\" xlink:title=\"psysml:9ab3d3ff-483c-4e41-ada7-ab2d8c979da0\" xlink:type=\"simple\"><rect fill=\"#FEFECE\" filter=\"url(#fs2awtru0ej11)\" height=\"40\" id=\"E2\" style=\"stroke: #A80036; stroke-width: 1.5;\" width=\"40\" x=\"666\" y=\"173\"/><ellipse cx=\"681\" cy=\"189\" fill=\"#008000\" rx=\"11\" ry=\"11\" style=\"stroke: #A80036; stroke-width: 1.0;\"/><path d=\"M679.9063,189.375 L679.9063,193.0469 L681.5313,193.0469 Q682.7031,193.0469 683.1719,192.6563 Q683.6406,192.25 683.6406,191.25 Q683.6406,190.25 683.1406,189.8125 Q682.6563,189.375 681.5313,189.375 L679.9063,189.375 Z M679.9063,184.5469 L679.9063,187.4219 L681.5313,187.4219 Q682.4531,187.4219 682.8438,187.0938 Q683.25,186.75 683.25,186 Q683.25,185.2344 682.8438,184.8906 Q682.4375,184.5469 681.5313,184.5469 L679.9063,184.5469 Z M677.5313,182.5938 L681.5313,182.5938 Q683.5938,182.5938 684.6406,183.375 Q685.6875,184.1563 685.6875,185.7188 Q685.6875,186.9219 685.0625,187.5938 Q684.4531,188.2656 683.2656,188.375 Q684.6875,188.5156 685.4063,189.3281 Q686.125,190.1406 686.125,191.5938 Q686.125,193.3906 685.0469,194.2031 Q683.9688,195 681.5313,195 L677.5313,195 L677.5313,182.5938 Z \"/><text fill=\"#000000\" font-family=\"sans-serif\" font-size=\"12\" lengthAdjust=\"spacingAndGlyphs\" textLength=\"8\" x=\"695\" y=\"193.1543\">P</text><line style=\"stroke: #A80036; stroke-width: 1.5;\" x1=\"667\" x2=\"705\" y1=\"205\" y2=\"205\"/></a><!--MD5=[09b614a08d8cba4a07c9adeb5e0fee81]\n",
       "class E3--><a href=\"psysml:bb4f0587-9240-4f5c-8b68-755ceb30f0e1\" target=\"_top\" title=\"psysml:bb4f0587-9240-4f5c-8b68-755ceb30f0e1\" xlink:actuate=\"onRequest\" xlink:href=\"psysml:bb4f0587-9240-4f5c-8b68-755ceb30f0e1\" xlink:show=\"new\" xlink:title=\"psysml:bb4f0587-9240-4f5c-8b68-755ceb30f0e1\" xlink:type=\"simple\"><rect fill=\"#FEFECE\" filter=\"url(#fs2awtru0ej11)\" height=\"45.9375\" id=\"E3\" rx=\"10\" ry=\"10\" style=\"stroke: #A80036; stroke-width: 1.5;\" width=\"97\" x=\"910.5\" y=\"54\"/><ellipse cx=\"925.5\" cy=\"72.9688\" fill=\"#FFA500\" rx=\"11\" ry=\"11\" style=\"stroke: #A80036; stroke-width: 1.0;\"/><path d=\"M921.375,74.8906 L921.375,67.0781 L923.8281,67.0781 L923.8281,75.5156 Q923.8281,76.4375 924.2969,76.9688 Q924.7813,77.5 925.6094,77.5 Q926.4531,77.5 926.9219,76.9688 Q927.3906,76.4375 927.3906,75.5156 L927.3906,67.0781 L929.8438,67.0781 L929.8438,74.8906 Q929.8438,77.4219 928.8438,78.5625 Q927.8438,79.7031 925.6094,79.7031 Q923.3906,79.7031 922.375,78.5625 Q921.375,77.4219 921.375,74.8906 Z \"/><text fill=\"#000000\" font-family=\"sans-serif\" font-size=\"12\" font-style=\"italic\" lengthAdjust=\"spacingAndGlyphs\" textLength=\"69\" x=\"937.5\" y=\"70.1387\">«attribute»</text><text fill=\"#000000\" font-family=\"sans-serif\" font-size=\"12\" lengthAdjust=\"spacingAndGlyphs\" textLength=\"61\" x=\"941.5\" y=\"84.1074\">n: Integer</text><line style=\"stroke: #A80036; stroke-width: 1.5;\" x1=\"911.5\" x2=\"1006.5\" y1=\"91.9375\" y2=\"91.9375\"/></a><!--MD5=[ebbe1d658d1005bcc118a6aa81145e00]\n",
       "class E4--><a href=\"psysml:9d5a91ec-9b15-487c-8680-11258af91cb9\" target=\"_top\" title=\"psysml:9d5a91ec-9b15-487c-8680-11258af91cb9\" xlink:actuate=\"onRequest\" xlink:href=\"psysml:9d5a91ec-9b15-487c-8680-11258af91cb9\" xlink:show=\"new\" xlink:title=\"psysml:9d5a91ec-9b15-487c-8680-11258af91cb9\" xlink:type=\"simple\"><rect fill=\"#FEFECE\" filter=\"url(#fs2awtru0ej11)\" height=\"45.9375\" id=\"E4\" rx=\"10\" ry=\"10\" style=\"stroke: #A80036; stroke-width: 1.5;\" width=\"68\" x=\"807\" y=\"54\"/><ellipse cx=\"822\" cy=\"72.9688\" fill=\"#32CD32\" rx=\"11\" ry=\"11\" style=\"stroke: #A80036; stroke-width: 1.0;\"/><path d=\"M821.7969,68.6406 L821.7969,72.2656 L822.7969,72.2656 Q824,72.2656 824.4844,71.8594 Q824.9688,71.4531 824.9688,70.4531 Q824.9688,69.4531 824.4844,69.0469 Q824,68.6406 822.7969,68.6406 L821.7969,68.6406 Z M819.3438,66.5781 L822.7031,66.5781 Q825.2656,66.5781 826.3906,67.5 Q827.5156,68.4063 827.5156,70.4531 Q827.5156,72.5 826.3906,73.4219 Q825.2656,74.3281 822.7031,74.3281 L821.7969,74.3281 L821.7969,78.9688 L819.3438,78.9688 L819.3438,66.5781 Z \"/><text fill=\"#000000\" font-family=\"sans-serif\" font-size=\"12\" font-style=\"italic\" lengthAdjust=\"spacingAndGlyphs\" textLength=\"40\" x=\"834\" y=\"70.1387\">«part»</text><text fill=\"#000000\" font-family=\"sans-serif\" font-size=\"12\" lengthAdjust=\"spacingAndGlyphs\" textLength=\"8\" x=\"850\" y=\"84.1074\">a</text><line style=\"stroke: #A80036; stroke-width: 1.5;\" x1=\"808\" x2=\"874\" y1=\"91.9375\" y2=\"91.9375\"/></a><!--MD5=[270fce915f116d4de14055a7c1d9a0f3]\n",
       "class E5--><a href=\"psysml:0e6ddf84-4c23-42ff-8adf-60418e76591d\" target=\"_top\" title=\"psysml:0e6ddf84-4c23-42ff-8adf-60418e76591d\" xlink:actuate=\"onRequest\" xlink:href=\"psysml:0e6ddf84-4c23-42ff-8adf-60418e76591d\" xlink:show=\"new\" xlink:title=\"psysml:0e6ddf84-4c23-42ff-8adf-60418e76591d\" xlink:type=\"simple\"><rect fill=\"#FEFECE\" filter=\"url(#fs2awtru0ej11)\" height=\"45.9375\" id=\"E5\" rx=\"10\" ry=\"10\" style=\"stroke: #A80036; stroke-width: 1.5;\" width=\"68\" x=\"704\" y=\"54\"/><ellipse cx=\"719\" cy=\"72.9688\" fill=\"#32CD32\" rx=\"11\" ry=\"11\" style=\"stroke: #A80036; stroke-width: 1.0;\"/><path d=\"M718.7969,68.6406 L718.7969,72.2656 L719.7969,72.2656 Q721,72.2656 721.4844,71.8594 Q721.9688,71.4531 721.9688,70.4531 Q721.9688,69.4531 721.4844,69.0469 Q721,68.6406 719.7969,68.6406 L718.7969,68.6406 Z M716.3438,66.5781 L719.7031,66.5781 Q722.2656,66.5781 723.3906,67.5 Q724.5156,68.4063 724.5156,70.4531 Q724.5156,72.5 723.3906,73.4219 Q722.2656,74.3281 719.7031,74.3281 L718.7969,74.3281 L718.7969,78.9688 L716.3438,78.9688 L716.3438,66.5781 Z \"/><text fill=\"#000000\" font-family=\"sans-serif\" font-size=\"12\" font-style=\"italic\" lengthAdjust=\"spacingAndGlyphs\" textLength=\"40\" x=\"731\" y=\"70.1387\">«part»</text><text fill=\"#000000\" font-family=\"sans-serif\" font-size=\"12\" lengthAdjust=\"spacingAndGlyphs\" textLength=\"24\" x=\"739\" y=\"84.1074\">b: P</text><line style=\"stroke: #A80036; stroke-width: 1.5;\" x1=\"705\" x2=\"771\" y1=\"91.9375\" y2=\"91.9375\"/></a><!--MD5=[60a26617385b1d2d0262a64233df1f8d]\n",
       "class E6--><a href=\"psysml:7a390bd1-339b-4feb-982b-b3a6ee4de727\" target=\"_top\" title=\"psysml:7a390bd1-339b-4feb-982b-b3a6ee4de727\" xlink:actuate=\"onRequest\" xlink:href=\"psysml:7a390bd1-339b-4feb-982b-b3a6ee4de727\" xlink:show=\"new\" xlink:title=\"psysml:7a390bd1-339b-4feb-982b-b3a6ee4de727\" xlink:type=\"simple\"><rect fill=\"#FEFECE\" filter=\"url(#fs2awtru0ej11)\" height=\"45.9375\" id=\"E6\" rx=\"10\" ry=\"10\" style=\"stroke: #A80036; stroke-width: 1.5;\" width=\"68\" x=\"601\" y=\"54\"/><ellipse cx=\"616\" cy=\"72.9688\" fill=\"#32CD32\" rx=\"11\" ry=\"11\" style=\"stroke: #A80036; stroke-width: 1.0;\"/><path d=\"M615.7969,68.6406 L615.7969,72.2656 L616.7969,72.2656 Q618,72.2656 618.4844,71.8594 Q618.9688,71.4531 618.9688,70.4531 Q618.9688,69.4531 618.4844,69.0469 Q618,68.6406 616.7969,68.6406 L615.7969,68.6406 Z M613.3438,66.5781 L616.7031,66.5781 Q619.2656,66.5781 620.3906,67.5 Q621.5156,68.4063 621.5156,70.4531 Q621.5156,72.5 620.3906,73.4219 Q619.2656,74.3281 616.7031,74.3281 L615.7969,74.3281 L615.7969,78.9688 L613.3438,78.9688 L613.3438,66.5781 Z \"/><text fill=\"#000000\" font-family=\"sans-serif\" font-size=\"12\" font-style=\"italic\" lengthAdjust=\"spacingAndGlyphs\" textLength=\"40\" x=\"628\" y=\"70.1387\">«part»</text><text fill=\"#000000\" font-family=\"sans-serif\" font-size=\"12\" lengthAdjust=\"spacingAndGlyphs\" textLength=\"23\" x=\"636.5\" y=\"84.1074\">c: P</text><line style=\"stroke: #A80036; stroke-width: 1.5;\" x1=\"602\" x2=\"668\" y1=\"91.9375\" y2=\"91.9375\"/></a><!--MD5=[2156ba9850f5573cc1fc38a6a4b2f02b]\n",
       "class E7--><a href=\"psysml:c41308c3-3ab4-4c95-8873-b6daf8742442\" target=\"_top\" title=\"psysml:c41308c3-3ab4-4c95-8873-b6daf8742442\" xlink:actuate=\"onRequest\" xlink:href=\"psysml:c41308c3-3ab4-4c95-8873-b6daf8742442\" xlink:show=\"new\" xlink:title=\"psysml:c41308c3-3ab4-4c95-8873-b6daf8742442\" xlink:type=\"simple\"><rect fill=\"#FEFECE\" filter=\"url(#fs2awtru0ej11)\" height=\"45.9375\" id=\"E7\" rx=\"10\" ry=\"10\" style=\"stroke: #A80036; stroke-width: 1.5;\" width=\"68\" x=\"498\" y=\"54\"/><ellipse cx=\"513\" cy=\"72.9688\" fill=\"#32CD32\" rx=\"11\" ry=\"11\" style=\"stroke: #A80036; stroke-width: 1.0;\"/><path d=\"M512.7969,68.6406 L512.7969,72.2656 L513.7969,72.2656 Q515,72.2656 515.4844,71.8594 Q515.9688,71.4531 515.9688,70.4531 Q515.9688,69.4531 515.4844,69.0469 Q515,68.6406 513.7969,68.6406 L512.7969,68.6406 Z M510.3438,66.5781 L513.7031,66.5781 Q516.2656,66.5781 517.3906,67.5 Q518.5156,68.4063 518.5156,70.4531 Q518.5156,72.5 517.3906,73.4219 Q516.2656,74.3281 513.7031,74.3281 L512.7969,74.3281 L512.7969,78.9688 L510.3438,78.9688 L510.3438,66.5781 Z \"/><text fill=\"#000000\" font-family=\"sans-serif\" font-size=\"12\" font-style=\"italic\" lengthAdjust=\"spacingAndGlyphs\" textLength=\"40\" x=\"525\" y=\"70.1387\">«part»</text><text fill=\"#000000\" font-family=\"sans-serif\" font-size=\"12\" lengthAdjust=\"spacingAndGlyphs\" textLength=\"8\" x=\"541\" y=\"84.1074\">d</text><line style=\"stroke: #A80036; stroke-width: 1.5;\" x1=\"499\" x2=\"565\" y1=\"91.9375\" y2=\"91.9375\"/></a><!--MD5=[b9389687b975829384b498ac4b7476b2]\n",
       "class E8--><a href=\"psysml:4786ae2f-f4fb-4524-a996-e764bd48b2ea\" target=\"_top\" title=\"psysml:4786ae2f-f4fb-4524-a996-e764bd48b2ea\" xlink:actuate=\"onRequest\" xlink:href=\"psysml:4786ae2f-f4fb-4524-a996-e764bd48b2ea\" xlink:show=\"new\" xlink:title=\"psysml:4786ae2f-f4fb-4524-a996-e764bd48b2ea\" xlink:type=\"simple\"><rect fill=\"#FEFECE\" filter=\"url(#fs2awtru0ej11)\" height=\"45.9375\" id=\"E8\" rx=\"10\" ry=\"10\" style=\"stroke: #A80036; stroke-width: 1.5;\" width=\"68\" x=\"395\" y=\"54\"/><ellipse cx=\"410\" cy=\"72.9688\" fill=\"#32CD32\" rx=\"11\" ry=\"11\" style=\"stroke: #A80036; stroke-width: 1.0;\"/><path d=\"M409.7969,68.6406 L409.7969,72.2656 L410.7969,72.2656 Q412,72.2656 412.4844,71.8594 Q412.9688,71.4531 412.9688,70.4531 Q412.9688,69.4531 412.4844,69.0469 Q412,68.6406 410.7969,68.6406 L409.7969,68.6406 Z M407.3438,66.5781 L410.7031,66.5781 Q413.2656,66.5781 414.3906,67.5 Q415.5156,68.4063 415.5156,70.4531 Q415.5156,72.5 414.3906,73.4219 Q413.2656,74.3281 410.7031,74.3281 L409.7969,74.3281 L409.7969,78.9688 L407.3438,78.9688 L407.3438,66.5781 Z \"/><text fill=\"#000000\" font-family=\"sans-serif\" font-size=\"12\" font-style=\"italic\" lengthAdjust=\"spacingAndGlyphs\" textLength=\"40\" x=\"422\" y=\"70.1387\">«part»</text><text fill=\"#000000\" font-family=\"sans-serif\" font-size=\"12\" lengthAdjust=\"spacingAndGlyphs\" textLength=\"8\" x=\"438\" y=\"84.1074\">e</text><line style=\"stroke: #A80036; stroke-width: 1.5;\" x1=\"396\" x2=\"462\" y1=\"91.9375\" y2=\"91.9375\"/></a><!--MD5=[fd4143e9d270a159db93a4ea2a975926]\n",
       "class E9--><a href=\"psysml:f4778415-89ee-45ef-90f6-0fdee23f5f44\" target=\"_top\" title=\"psysml:f4778415-89ee-45ef-90f6-0fdee23f5f44\" xlink:actuate=\"onRequest\" xlink:href=\"psysml:f4778415-89ee-45ef-90f6-0fdee23f5f44\" xlink:show=\"new\" xlink:title=\"psysml:f4778415-89ee-45ef-90f6-0fdee23f5f44\" xlink:type=\"simple\"><rect fill=\"#FEFECE\" filter=\"url(#fs2awtru0ej11)\" height=\"45.9375\" id=\"E9\" rx=\"10\" ry=\"10\" style=\"stroke: #A80036; stroke-width: 1.5;\" width=\"68\" x=\"292\" y=\"54\"/><ellipse cx=\"307\" cy=\"72.9688\" fill=\"#32CD32\" rx=\"11\" ry=\"11\" style=\"stroke: #A80036; stroke-width: 1.0;\"/><path d=\"M306.7969,68.6406 L306.7969,72.2656 L307.7969,72.2656 Q309,72.2656 309.4844,71.8594 Q309.9688,71.4531 309.9688,70.4531 Q309.9688,69.4531 309.4844,69.0469 Q309,68.6406 307.7969,68.6406 L306.7969,68.6406 Z M304.3438,66.5781 L307.7031,66.5781 Q310.2656,66.5781 311.3906,67.5 Q312.5156,68.4063 312.5156,70.4531 Q312.5156,72.5 311.3906,73.4219 Q310.2656,74.3281 307.7031,74.3281 L306.7969,74.3281 L306.7969,78.9688 L304.3438,78.9688 L304.3438,66.5781 Z \"/><text fill=\"#000000\" font-family=\"sans-serif\" font-size=\"12\" font-style=\"italic\" lengthAdjust=\"spacingAndGlyphs\" textLength=\"40\" x=\"319\" y=\"70.1387\">«part»</text><text fill=\"#000000\" font-family=\"sans-serif\" font-size=\"12\" lengthAdjust=\"spacingAndGlyphs\" textLength=\"4\" x=\"337\" y=\"84.1074\">f</text><line style=\"stroke: #A80036; stroke-width: 1.5;\" x1=\"293\" x2=\"359\" y1=\"91.9375\" y2=\"91.9375\"/></a><!--MD5=[96f4274e9e20536e775497830990834d]\n",
       "class E10--><a href=\"psysml:54ce765f-cd4b-40e3-bd55-528058a48d88\" target=\"_top\" title=\"psysml:54ce765f-cd4b-40e3-bd55-528058a48d88\" xlink:actuate=\"onRequest\" xlink:href=\"psysml:54ce765f-cd4b-40e3-bd55-528058a48d88\" xlink:show=\"new\" xlink:title=\"psysml:54ce765f-cd4b-40e3-bd55-528058a48d88\" xlink:type=\"simple\"><rect fill=\"#FEFECE\" filter=\"url(#fs2awtru0ej11)\" height=\"45.9375\" id=\"E10\" rx=\"10\" ry=\"10\" style=\"stroke: #A80036; stroke-width: 1.5;\" width=\"68\" x=\"189\" y=\"54\"/><ellipse cx=\"204\" cy=\"72.9688\" fill=\"#32CD32\" rx=\"11\" ry=\"11\" style=\"stroke: #A80036; stroke-width: 1.0;\"/><path d=\"M203.7969,68.6406 L203.7969,72.2656 L204.7969,72.2656 Q206,72.2656 206.4844,71.8594 Q206.9688,71.4531 206.9688,70.4531 Q206.9688,69.4531 206.4844,69.0469 Q206,68.6406 204.7969,68.6406 L203.7969,68.6406 Z M201.3438,66.5781 L204.7031,66.5781 Q207.2656,66.5781 208.3906,67.5 Q209.5156,68.4063 209.5156,70.4531 Q209.5156,72.5 208.3906,73.4219 Q207.2656,74.3281 204.7031,74.3281 L203.7969,74.3281 L203.7969,78.9688 L201.3438,78.9688 L201.3438,66.5781 Z \"/><text fill=\"#000000\" font-family=\"sans-serif\" font-size=\"12\" font-style=\"italic\" lengthAdjust=\"spacingAndGlyphs\" textLength=\"40\" x=\"216\" y=\"70.1387\">«part»</text><text fill=\"#000000\" font-family=\"sans-serif\" font-size=\"12\" lengthAdjust=\"spacingAndGlyphs\" textLength=\"8\" x=\"232\" y=\"84.1074\">g</text><line style=\"stroke: #A80036; stroke-width: 1.5;\" x1=\"190\" x2=\"256\" y1=\"91.9375\" y2=\"91.9375\"/></a><!--MD5=[1dd1bfd58a279cf63c5f349dbc8fc6a1]\n",
       "class E11--><a href=\"psysml:39471be4-e308-48bc-96c2-d92b434b60c0\" target=\"_top\" title=\"psysml:39471be4-e308-48bc-96c2-d92b434b60c0\" xlink:actuate=\"onRequest\" xlink:href=\"psysml:39471be4-e308-48bc-96c2-d92b434b60c0\" xlink:show=\"new\" xlink:title=\"psysml:39471be4-e308-48bc-96c2-d92b434b60c0\" xlink:type=\"simple\"><rect fill=\"#FEFECE\" filter=\"url(#fs2awtru0ej11)\" height=\"71.5469\" id=\"E11\" style=\"stroke: #A80036; stroke-width: 1.5;\" width=\"121\" x=\"32.5\" y=\"41\"/><ellipse cx=\"47.5\" cy=\"59.9688\" fill=\"#A52A2A\" rx=\"11\" ry=\"11\" style=\"stroke: #A80036; stroke-width: 1.0;\"/><path d=\"M47.0938,55.7813 L47.0938,63.7656 L47.75,63.7656 Q49.1875,63.7656 49.7969,62.8594 Q50.4219,61.9375 50.4219,59.7656 Q50.4219,57.5938 49.7969,56.6875 Q49.1875,55.7813 47.75,55.7813 L47.0938,55.7813 Z M44.6406,53.5781 L47.2656,53.5781 Q50.2969,53.5781 51.625,55.0313 Q52.9688,56.4688 52.9688,59.7656 Q52.9688,63.0625 51.625,64.5156 Q50.2969,65.9688 47.2656,65.9688 L44.6406,65.9688 L44.6406,53.5781 Z \"/><text fill=\"#000000\" font-family=\"sans-serif\" font-size=\"12\" font-style=\"italic\" lengthAdjust=\"spacingAndGlyphs\" textLength=\"93\" x=\"59.5\" y=\"57.1387\">«attribute def»</text><text fill=\"#000000\" font-family=\"sans-serif\" font-size=\"12\" lengthAdjust=\"spacingAndGlyphs\" textLength=\"8\" x=\"102\" y=\"71.1074\">A</text><line style=\"stroke: #A80036; stroke-width: 1.5;\" x1=\"33.5\" x2=\"152.5\" y1=\"78.9375\" y2=\"78.9375\"/><text fill=\"#000000\" font-family=\"sans-serif\" font-size=\"11\" lengthAdjust=\"spacingAndGlyphs\" textLength=\"51\" x=\"38.5\" y=\"93.1479\">i: Integer</text><text fill=\"#000000\" font-family=\"sans-serif\" font-size=\"11\" lengthAdjust=\"spacingAndGlyphs\" textLength=\"21\" x=\"38.5\" y=\"105.9526\">x: A</text></a><!--MD5=[15ebcb19ae302d9b601edb458606d402]\n",
       "link E5 to E2--><a href=\"psysml:911f47bc-487d-4cbf-bcdd-94eeba00c89c\" target=\"_top\" title=\"psysml:911f47bc-487d-4cbf-bcdd-94eeba00c89c\" xlink:actuate=\"onRequest\" xlink:href=\"psysml:911f47bc-487d-4cbf-bcdd-94eeba00c89c\" xlink:show=\"new\" xlink:title=\"psysml:911f47bc-487d-4cbf-bcdd-94eeba00c89c\" xlink:type=\"simple\"><path d=\"M727.85,100.25 C720.81,115.68 711.27,136.61 703.07,154.58 \" fill=\"none\" id=\"E5-&gt;E2\" style=\"stroke: #A80036; stroke-width: 1.0;\"/><polygon fill=\"#FFFFFF\" points=\"694.74,172.84,696.2548,152.6483,708.9927,158.4573,694.74,172.84\" style=\"stroke: #A80036; stroke-width: 1.0;\"/><ellipse cx=\"700.4396\" cy=\"148.292\" fill=\"#A80036\" rx=\"2\" ry=\"2\" style=\"stroke: #A80036; stroke-width: 1.0;\"/><ellipse cx=\"709.5381\" cy=\"152.4413\" fill=\"#A80036\" rx=\"2\" ry=\"2\" style=\"stroke: #A80036; stroke-width: 1.0;\"/></a><!--MD5=[2351f337d6de0f557b50152ba70847b5]\n",
       "link E6 to E2--><a href=\"psysml:5d978d49-3aad-49b2-9a30-3bd5979ae9aa\" target=\"_top\" title=\"psysml:5d978d49-3aad-49b2-9a30-3bd5979ae9aa\" xlink:actuate=\"onRequest\" xlink:href=\"psysml:5d978d49-3aad-49b2-9a30-3bd5979ae9aa\" xlink:show=\"new\" xlink:title=\"psysml:5d978d49-3aad-49b2-9a30-3bd5979ae9aa\" xlink:type=\"simple\"><path d=\"M644.95,100.25 C651.86,115.68 661.22,136.61 669.26,154.58 \" fill=\"none\" id=\"E6-&gt;E2\" style=\"stroke: #A80036; stroke-width: 1.0;\"/><polygon fill=\"#FFFFFF\" points=\"677.43,172.84,663.2788,158.3574,676.0573,152.6381,677.43,172.84\" style=\"stroke: #A80036; stroke-width: 1.0;\"/><ellipse cx=\"662.7757\" cy=\"152.3377\" fill=\"#A80036\" rx=\"2\" ry=\"2\" style=\"stroke: #A80036; stroke-width: 1.0;\"/><ellipse cx=\"671.9032\" cy=\"148.2525\" fill=\"#A80036\" rx=\"2\" ry=\"2\" style=\"stroke: #A80036; stroke-width: 1.0;\"/></a><!--MD5=[a91ebf9c03be96a1cfede097d4c9acfb]\n",
       "@startuml\r\n",
       " \r\n",
       "package \"MultiplicityTest\" as E1  [[psysml:0be6947d-aa66-4017-a009-04bc0f7b30c5 ]]  {\r\n",
       "comp def \"P\" as E2  << (B,green) >> [[psysml:9ab3d3ff-483c-4e41-ada7-ab2d8c979da0 ]] {\r\n",
       "}\r\n",
       "comp usage \"n: Integer\" as E3  <<(U,orange)attribute>> [[psysml:bb4f0587-9240-4f5c-8b68-755ceb30f0e1 ]] {\r\n",
       "}\r\n",
       "comp usage \"a\" as E4  << (P,limegreen) part>> [[psysml:9d5a91ec-9b15-487c-8680-11258af91cb9 ]] {\r\n",
       "}\r\n",
       "comp usage \"b: P\" as E5  << (P,limegreen) part>> [[psysml:0e6ddf84-4c23-42ff-8adf-60418e76591d ]] {\r\n",
       "}\r\n",
       "comp usage \"c: P\" as E6  << (P,limegreen) part>> [[psysml:7a390bd1-339b-4feb-982b-b3a6ee4de727 ]] {\r\n",
       "}\r\n",
       "comp usage \"d\" as E7  << (P,limegreen) part>> [[psysml:c41308c3-3ab4-4c95-8873-b6daf8742442 ]] {\r\n",
       "}\r\n",
       "comp usage \"e\" as E8  << (P,limegreen) part>> [[psysml:4786ae2f-f4fb-4524-a996-e764bd48b2ea ]] {\r\n",
       "}\r\n",
       "comp usage \"f\" as E9  << (P,limegreen) part>> [[psysml:f4778415-89ee-45ef-90f6-0fdee23f5f44 ]] {\r\n",
       "}\r\n",
       "comp usage \"g\" as E10  << (P,limegreen) part>> [[psysml:54ce765f-cd4b-40e3-bd55-528058a48d88 ]] {\r\n",
       "}\r\n",
       "comp def \"A\" as E11  <<(D,brown)attribute def>> [[psysml:39471be4-e308-48bc-96c2-d92b434b60c0 ]] {\r\n",
       "i: Integer\r\n",
       "x: A\r\n",
       "}\r\n",
       "E5 - -:|> E2 [[psysml:911f47bc-487d-4cbf-bcdd-94eeba00c89c ]] \r\n",
       "E6 - -:|> E2 [[psysml:5d978d49-3aad-49b2-9a30-3bd5979ae9aa ]] \r\n",
       "}\r\n",
       "@enduml\r\n",
       "\n",
       "PlantUML version 1.2020.13(Sat Jun 13 12:26:38 UTC 2020)\n",
       "(EPL source distribution)\n",
       "Java Runtime: OpenJDK Runtime Environment\n",
       "JVM: OpenJDK 64-Bit Server VM\n",
       "Default Encoding: UTF-8\n",
       "Language: en\n",
       "Country: null\n",
       "--></g></svg>"
      ]
     },
     "execution_count": 36,
     "metadata": {},
     "output_type": "execute_result"
    }
   ],
   "source": [
    "%viz --style=\"PLANTUML\" --view=\"MIXED\" \"MultiplicityTest\""
   ]
  },
  {
   "cell_type": "code",
   "execution_count": 37,
   "id": "5c85ec54",
   "metadata": {
    "execution": {
     "iopub.execute_input": "2021-04-21T20:26:44.435773Z",
     "iopub.status.busy": "2021-04-21T20:26:44.434213Z",
     "iopub.status.idle": "2021-04-21T20:26:44.489836Z",
     "shell.execute_reply": "2021-04-21T20:26:44.489149Z"
    }
   },
   "outputs": [
    {
     "data": {
      "image/svg+xml": [
       "<?xml version=\"1.0\" encoding=\"UTF-8\" standalone=\"no\"?><svg xmlns=\"http://www.w3.org/2000/svg\" xmlns:xlink=\"http://www.w3.org/1999/xlink\" contentScriptType=\"application/ecmascript\" contentStyleType=\"text/css\" height=\"263px\" preserveAspectRatio=\"none\" style=\"width:812px;height:263px;\" version=\"1.1\" viewBox=\"0 0 812 263\" width=\"812px\" zoomAndPan=\"magnify\"><defs/><g><!--MD5=[fbc87193dbaf4d95561dea2c320d4a47]\n",
       "cluster E1--><a href=\"psysml:0be6947d-aa66-4017-a009-04bc0f7b30c5\" target=\"_top\" title=\"psysml:0be6947d-aa66-4017-a009-04bc0f7b30c5\" xlink:actuate=\"onRequest\" xlink:href=\"psysml:0be6947d-aa66-4017-a009-04bc0f7b30c5\" xlink:show=\"new\" xlink:title=\"psysml:0be6947d-aa66-4017-a009-04bc0f7b30c5\" xlink:type=\"simple\"><polygon fill=\"#FFFFFF\" points=\"16,6,140,6,147,28.2969,790,28.2969,790,251,16,251,16,6\" style=\"stroke: #000000; stroke-width: 1.5;\"/><line style=\"stroke: #000000; stroke-width: 1.5;\" x1=\"16\" x2=\"147\" y1=\"28.2969\" y2=\"28.2969\"/><text fill=\"#000000\" font-family=\"sans-serif\" font-size=\"14\" font-weight=\"bold\" lengthAdjust=\"spacingAndGlyphs\" textLength=\"118\" x=\"20\" y=\"20.9951\">MultiplicityTest</text></a><!--MD5=[b4997ac47864f28c2f74865a473b2911]\n",
       "class E2--><a href=\"psysml:9ab3d3ff-483c-4e41-ada7-ab2d8c979da0\" target=\"_top\" title=\"psysml:9ab3d3ff-483c-4e41-ada7-ab2d8c979da0\" xlink:actuate=\"onRequest\" xlink:href=\"psysml:9ab3d3ff-483c-4e41-ada7-ab2d8c979da0\" xlink:show=\"new\" xlink:title=\"psysml:9ab3d3ff-483c-4e41-ada7-ab2d8c979da0\" xlink:type=\"simple\"><rect fill=\"#FFFFFF\" height=\"45.9375\" id=\"E2\" style=\"stroke: #383838; stroke-width: 1.5;\" width=\"66\" x=\"497\" y=\"189\"/><text fill=\"#000000\" font-family=\"sans-serif\" font-size=\"12\" font-style=\"italic\" lengthAdjust=\"spacingAndGlyphs\" textLength=\"64\" x=\"498\" y=\"205.1387\">«part def»</text><text fill=\"#000000\" font-family=\"sans-serif\" font-size=\"12\" lengthAdjust=\"spacingAndGlyphs\" textLength=\"8\" x=\"526\" y=\"219.1074\">P</text><line style=\"stroke: #383838; stroke-width: 1.5;\" x1=\"498\" x2=\"562\" y1=\"226.9375\" y2=\"226.9375\"/></a><!--MD5=[09b614a08d8cba4a07c9adeb5e0fee81]\n",
       "class E3--><a href=\"psysml:bb4f0587-9240-4f5c-8b68-755ceb30f0e1\" target=\"_top\" title=\"psysml:bb4f0587-9240-4f5c-8b68-755ceb30f0e1\" xlink:actuate=\"onRequest\" xlink:href=\"psysml:bb4f0587-9240-4f5c-8b68-755ceb30f0e1\" xlink:show=\"new\" xlink:title=\"psysml:bb4f0587-9240-4f5c-8b68-755ceb30f0e1\" xlink:type=\"simple\"><rect fill=\"#FFFFFF\" height=\"45.9375\" id=\"E3\" rx=\"10\" ry=\"10\" style=\"stroke: #383838; stroke-width: 1.5;\" width=\"71\" x=\"702.5\" y=\"62\"/><text fill=\"#000000\" font-family=\"sans-serif\" font-size=\"12\" font-style=\"italic\" lengthAdjust=\"spacingAndGlyphs\" textLength=\"69\" x=\"703.5\" y=\"78.1387\">«attribute»</text><text fill=\"#000000\" font-family=\"sans-serif\" font-size=\"12\" lengthAdjust=\"spacingAndGlyphs\" textLength=\"61\" x=\"707.5\" y=\"92.1074\">n: Integer</text><line style=\"stroke: #383838; stroke-width: 1.5;\" x1=\"703.5\" x2=\"772.5\" y1=\"99.9375\" y2=\"99.9375\"/></a><!--MD5=[ebbe1d658d1005bcc118a6aa81145e00]\n",
       "class E4--><a href=\"psysml:9d5a91ec-9b15-487c-8680-11258af91cb9\" target=\"_top\" title=\"psysml:9d5a91ec-9b15-487c-8680-11258af91cb9\" xlink:actuate=\"onRequest\" xlink:href=\"psysml:9d5a91ec-9b15-487c-8680-11258af91cb9\" xlink:show=\"new\" xlink:title=\"psysml:9d5a91ec-9b15-487c-8680-11258af91cb9\" xlink:type=\"simple\"><rect fill=\"#FFFFFF\" height=\"45.9375\" id=\"E4\" rx=\"10\" ry=\"10\" style=\"stroke: #383838; stroke-width: 1.5;\" width=\"42\" x=\"625\" y=\"62\"/><text fill=\"#000000\" font-family=\"sans-serif\" font-size=\"12\" font-style=\"italic\" lengthAdjust=\"spacingAndGlyphs\" textLength=\"40\" x=\"626\" y=\"78.1387\">«part»</text><text fill=\"#000000\" font-family=\"sans-serif\" font-size=\"12\" lengthAdjust=\"spacingAndGlyphs\" textLength=\"8\" x=\"642\" y=\"92.1074\">a</text><line style=\"stroke: #383838; stroke-width: 1.5;\" x1=\"626\" x2=\"666\" y1=\"99.9375\" y2=\"99.9375\"/></a><!--MD5=[270fce915f116d4de14055a7c1d9a0f3]\n",
       "class E5--><a href=\"psysml:0e6ddf84-4c23-42ff-8adf-60418e76591d\" target=\"_top\" title=\"psysml:0e6ddf84-4c23-42ff-8adf-60418e76591d\" xlink:actuate=\"onRequest\" xlink:href=\"psysml:0e6ddf84-4c23-42ff-8adf-60418e76591d\" xlink:show=\"new\" xlink:title=\"psysml:0e6ddf84-4c23-42ff-8adf-60418e76591d\" xlink:type=\"simple\"><rect fill=\"#FFFFFF\" height=\"45.9375\" id=\"E5\" rx=\"10\" ry=\"10\" style=\"stroke: #383838; stroke-width: 1.5;\" width=\"42\" x=\"548\" y=\"62\"/><text fill=\"#000000\" font-family=\"sans-serif\" font-size=\"12\" font-style=\"italic\" lengthAdjust=\"spacingAndGlyphs\" textLength=\"40\" x=\"549\" y=\"78.1387\">«part»</text><text fill=\"#000000\" font-family=\"sans-serif\" font-size=\"12\" lengthAdjust=\"spacingAndGlyphs\" textLength=\"24\" x=\"557\" y=\"92.1074\">b: P</text><line style=\"stroke: #383838; stroke-width: 1.5;\" x1=\"549\" x2=\"589\" y1=\"99.9375\" y2=\"99.9375\"/></a><!--MD5=[60a26617385b1d2d0262a64233df1f8d]\n",
       "class E6--><a href=\"psysml:7a390bd1-339b-4feb-982b-b3a6ee4de727\" target=\"_top\" title=\"psysml:7a390bd1-339b-4feb-982b-b3a6ee4de727\" xlink:actuate=\"onRequest\" xlink:href=\"psysml:7a390bd1-339b-4feb-982b-b3a6ee4de727\" xlink:show=\"new\" xlink:title=\"psysml:7a390bd1-339b-4feb-982b-b3a6ee4de727\" xlink:type=\"simple\"><rect fill=\"#FFFFFF\" height=\"45.9375\" id=\"E6\" rx=\"10\" ry=\"10\" style=\"stroke: #383838; stroke-width: 1.5;\" width=\"42\" x=\"471\" y=\"62\"/><text fill=\"#000000\" font-family=\"sans-serif\" font-size=\"12\" font-style=\"italic\" lengthAdjust=\"spacingAndGlyphs\" textLength=\"40\" x=\"472\" y=\"78.1387\">«part»</text><text fill=\"#000000\" font-family=\"sans-serif\" font-size=\"12\" lengthAdjust=\"spacingAndGlyphs\" textLength=\"23\" x=\"480.5\" y=\"92.1074\">c: P</text><line style=\"stroke: #383838; stroke-width: 1.5;\" x1=\"472\" x2=\"512\" y1=\"99.9375\" y2=\"99.9375\"/></a><!--MD5=[2156ba9850f5573cc1fc38a6a4b2f02b]\n",
       "class E7--><a href=\"psysml:c41308c3-3ab4-4c95-8873-b6daf8742442\" target=\"_top\" title=\"psysml:c41308c3-3ab4-4c95-8873-b6daf8742442\" xlink:actuate=\"onRequest\" xlink:href=\"psysml:c41308c3-3ab4-4c95-8873-b6daf8742442\" xlink:show=\"new\" xlink:title=\"psysml:c41308c3-3ab4-4c95-8873-b6daf8742442\" xlink:type=\"simple\"><rect fill=\"#FFFFFF\" height=\"45.9375\" id=\"E7\" rx=\"10\" ry=\"10\" style=\"stroke: #383838; stroke-width: 1.5;\" width=\"42\" x=\"394\" y=\"62\"/><text fill=\"#000000\" font-family=\"sans-serif\" font-size=\"12\" font-style=\"italic\" lengthAdjust=\"spacingAndGlyphs\" textLength=\"40\" x=\"395\" y=\"78.1387\">«part»</text><text fill=\"#000000\" font-family=\"sans-serif\" font-size=\"12\" lengthAdjust=\"spacingAndGlyphs\" textLength=\"8\" x=\"411\" y=\"92.1074\">d</text><line style=\"stroke: #383838; stroke-width: 1.5;\" x1=\"395\" x2=\"435\" y1=\"99.9375\" y2=\"99.9375\"/></a><!--MD5=[b9389687b975829384b498ac4b7476b2]\n",
       "class E8--><a href=\"psysml:4786ae2f-f4fb-4524-a996-e764bd48b2ea\" target=\"_top\" title=\"psysml:4786ae2f-f4fb-4524-a996-e764bd48b2ea\" xlink:actuate=\"onRequest\" xlink:href=\"psysml:4786ae2f-f4fb-4524-a996-e764bd48b2ea\" xlink:show=\"new\" xlink:title=\"psysml:4786ae2f-f4fb-4524-a996-e764bd48b2ea\" xlink:type=\"simple\"><rect fill=\"#FFFFFF\" height=\"45.9375\" id=\"E8\" rx=\"10\" ry=\"10\" style=\"stroke: #383838; stroke-width: 1.5;\" width=\"42\" x=\"317\" y=\"62\"/><text fill=\"#000000\" font-family=\"sans-serif\" font-size=\"12\" font-style=\"italic\" lengthAdjust=\"spacingAndGlyphs\" textLength=\"40\" x=\"318\" y=\"78.1387\">«part»</text><text fill=\"#000000\" font-family=\"sans-serif\" font-size=\"12\" lengthAdjust=\"spacingAndGlyphs\" textLength=\"8\" x=\"334\" y=\"92.1074\">e</text><line style=\"stroke: #383838; stroke-width: 1.5;\" x1=\"318\" x2=\"358\" y1=\"99.9375\" y2=\"99.9375\"/></a><!--MD5=[fd4143e9d270a159db93a4ea2a975926]\n",
       "class E9--><a href=\"psysml:f4778415-89ee-45ef-90f6-0fdee23f5f44\" target=\"_top\" title=\"psysml:f4778415-89ee-45ef-90f6-0fdee23f5f44\" xlink:actuate=\"onRequest\" xlink:href=\"psysml:f4778415-89ee-45ef-90f6-0fdee23f5f44\" xlink:show=\"new\" xlink:title=\"psysml:f4778415-89ee-45ef-90f6-0fdee23f5f44\" xlink:type=\"simple\"><rect fill=\"#FFFFFF\" height=\"45.9375\" id=\"E9\" rx=\"10\" ry=\"10\" style=\"stroke: #383838; stroke-width: 1.5;\" width=\"42\" x=\"240\" y=\"62\"/><text fill=\"#000000\" font-family=\"sans-serif\" font-size=\"12\" font-style=\"italic\" lengthAdjust=\"spacingAndGlyphs\" textLength=\"40\" x=\"241\" y=\"78.1387\">«part»</text><text fill=\"#000000\" font-family=\"sans-serif\" font-size=\"12\" lengthAdjust=\"spacingAndGlyphs\" textLength=\"4\" x=\"259\" y=\"92.1074\">f</text><line style=\"stroke: #383838; stroke-width: 1.5;\" x1=\"241\" x2=\"281\" y1=\"99.9375\" y2=\"99.9375\"/></a><!--MD5=[96f4274e9e20536e775497830990834d]\n",
       "class E10--><a href=\"psysml:54ce765f-cd4b-40e3-bd55-528058a48d88\" target=\"_top\" title=\"psysml:54ce765f-cd4b-40e3-bd55-528058a48d88\" xlink:actuate=\"onRequest\" xlink:href=\"psysml:54ce765f-cd4b-40e3-bd55-528058a48d88\" xlink:show=\"new\" xlink:title=\"psysml:54ce765f-cd4b-40e3-bd55-528058a48d88\" xlink:type=\"simple\"><rect fill=\"#FFFFFF\" height=\"45.9375\" id=\"E10\" rx=\"10\" ry=\"10\" style=\"stroke: #383838; stroke-width: 1.5;\" width=\"42\" x=\"163\" y=\"62\"/><text fill=\"#000000\" font-family=\"sans-serif\" font-size=\"12\" font-style=\"italic\" lengthAdjust=\"spacingAndGlyphs\" textLength=\"40\" x=\"164\" y=\"78.1387\">«part»</text><text fill=\"#000000\" font-family=\"sans-serif\" font-size=\"12\" lengthAdjust=\"spacingAndGlyphs\" textLength=\"8\" x=\"180\" y=\"92.1074\">g</text><line style=\"stroke: #383838; stroke-width: 1.5;\" x1=\"164\" x2=\"204\" y1=\"99.9375\" y2=\"99.9375\"/></a><!--MD5=[1dd1bfd58a279cf63c5f349dbc8fc6a1]\n",
       "class E11--><a href=\"psysml:39471be4-e308-48bc-96c2-d92b434b60c0\" target=\"_top\" title=\"psysml:39471be4-e308-48bc-96c2-d92b434b60c0\" xlink:actuate=\"onRequest\" xlink:href=\"psysml:39471be4-e308-48bc-96c2-d92b434b60c0\" xlink:show=\"new\" xlink:title=\"psysml:39471be4-e308-48bc-96c2-d92b434b60c0\" xlink:type=\"simple\"><rect fill=\"#FFFFFF\" height=\"88.3516\" id=\"E11\" style=\"stroke: #383838; stroke-width: 1.5;\" width=\"95\" x=\"32.5\" y=\"41\"/><text fill=\"#000000\" font-family=\"sans-serif\" font-size=\"12\" font-style=\"italic\" lengthAdjust=\"spacingAndGlyphs\" textLength=\"93\" x=\"33.5\" y=\"57.1387\">«attribute def»</text><text fill=\"#000000\" font-family=\"sans-serif\" font-size=\"12\" lengthAdjust=\"spacingAndGlyphs\" textLength=\"8\" x=\"76\" y=\"71.1074\">A</text><line style=\"stroke: #383838; stroke-width: 1.5;\" x1=\"33.5\" x2=\"126.5\" y1=\"78.9375\" y2=\"78.9375\"/><text fill=\"#000000\" font-family=\"sans-serif\" font-size=\"11\" lengthAdjust=\"spacingAndGlyphs\" textLength=\"51\" x=\"38.5\" y=\"109.9526\">i: Integer</text><text fill=\"#000000\" font-family=\"sans-serif\" font-size=\"11\" lengthAdjust=\"spacingAndGlyphs\" textLength=\"21\" x=\"38.5\" y=\"122.7573\">x: A</text><line style=\"stroke: #383838; stroke-width: 1.0;\" x1=\"33.5\" x2=\"52.5\" y1=\"93.3398\" y2=\"93.3398\"/><text fill=\"#000000\" font-family=\"sans-serif\" font-size=\"11\" lengthAdjust=\"spacingAndGlyphs\" textLength=\"55\" x=\"52.5\" y=\"96.6479\">attributes</text><line style=\"stroke: #383838; stroke-width: 1.0;\" x1=\"107.5\" x2=\"126.5\" y1=\"93.3398\" y2=\"93.3398\"/></a><!--MD5=[15ebcb19ae302d9b601edb458606d402]\n",
       "link E5 to E2--><a href=\"psysml:911f47bc-487d-4cbf-bcdd-94eeba00c89c\" target=\"_top\" title=\"psysml:911f47bc-487d-4cbf-bcdd-94eeba00c89c\" xlink:actuate=\"onRequest\" xlink:href=\"psysml:911f47bc-487d-4cbf-bcdd-94eeba00c89c\" xlink:show=\"new\" xlink:title=\"psysml:911f47bc-487d-4cbf-bcdd-94eeba00c89c\" xlink:type=\"simple\"><path d=\"M562.12,108.06 C556.83,125 549.38,148.89 542.98,169.39 \" fill=\"none\" id=\"E5-&gt;E2\" style=\"stroke: #383838; stroke-width: 1.0;\"/><polygon fill=\"#FFFFFF\" points=\"536.95,188.74,535.929,168.5173,549.2931,172.6886,536.95,188.74\" style=\"stroke: #383838; stroke-width: 1.0;\"/><ellipse cx=\"539.5364\" cy=\"163.6721\" fill=\"#383838\" rx=\"2\" ry=\"2\" style=\"stroke: #383838; stroke-width: 1.0;\"/><ellipse cx=\"549.0823\" cy=\"166.6516\" fill=\"#383838\" rx=\"2\" ry=\"2\" style=\"stroke: #383838; stroke-width: 1.0;\"/></a><!--MD5=[2351f337d6de0f557b50152ba70847b5]\n",
       "link E6 to E2--><a href=\"psysml:5d978d49-3aad-49b2-9a30-3bd5979ae9aa\" target=\"_top\" title=\"psysml:5d978d49-3aad-49b2-9a30-3bd5979ae9aa\" xlink:actuate=\"onRequest\" xlink:href=\"psysml:5d978d49-3aad-49b2-9a30-3bd5979ae9aa\" xlink:show=\"new\" xlink:title=\"psysml:5d978d49-3aad-49b2-9a30-3bd5979ae9aa\" xlink:type=\"simple\"><path d=\"M498.71,108.06 C503.86,125 511.12,148.89 517.35,169.39 \" fill=\"none\" id=\"E6-&gt;E2\" style=\"stroke: #383838; stroke-width: 1.0;\"/><polygon fill=\"#FFFFFF\" points=\"523.23,188.74,511.007,172.597,524.4019,168.5255,523.23,188.74\" style=\"stroke: #383838; stroke-width: 1.0;\"/><ellipse cx=\"511.2628\" cy=\"166.5617\" fill=\"#383838\" rx=\"2\" ry=\"2\" style=\"stroke: #383838; stroke-width: 1.0;\"/><ellipse cx=\"520.8306\" cy=\"163.6535\" fill=\"#383838\" rx=\"2\" ry=\"2\" style=\"stroke: #383838; stroke-width: 1.0;\"/></a><!--MD5=[0d1655100644eefde436d34eafd636e2]\n",
       "@startuml\r\n",
       "skinparam monochrome true\r\n",
       "skinparam classbackgroundcolor white\r\n",
       "skinparam shadowing false\r\n",
       "skinparam wrapWidth 300\r\n",
       "hide circle\r\n",
       "\r\n",
       "package \"MultiplicityTest\" as E1  [[psysml:0be6947d-aa66-4017-a009-04bc0f7b30c5 ]]  {\r\n",
       "comp def \"P\" as E2  <<(T,blue)part def>> [[psysml:9ab3d3ff-483c-4e41-ada7-ab2d8c979da0 ]] {\r\n",
       "}\r\n",
       "comp usage \"n: Integer\" as E3  <<(T,blue)attribute>> [[psysml:bb4f0587-9240-4f5c-8b68-755ceb30f0e1 ]] {\r\n",
       "}\r\n",
       "comp usage \"a\" as E4  <<(T,blue)part>> [[psysml:9d5a91ec-9b15-487c-8680-11258af91cb9 ]] {\r\n",
       "}\r\n",
       "comp usage \"b: P\" as E5  <<(T,blue)part>> [[psysml:0e6ddf84-4c23-42ff-8adf-60418e76591d ]] {\r\n",
       "}\r\n",
       "comp usage \"c: P\" as E6  <<(T,blue)part>> [[psysml:7a390bd1-339b-4feb-982b-b3a6ee4de727 ]] {\r\n",
       "}\r\n",
       "comp usage \"d\" as E7  <<(T,blue)part>> [[psysml:c41308c3-3ab4-4c95-8873-b6daf8742442 ]] {\r\n",
       "}\r\n",
       "comp usage \"e\" as E8  <<(T,blue)part>> [[psysml:4786ae2f-f4fb-4524-a996-e764bd48b2ea ]] {\r\n",
       "}\r\n",
       "comp usage \"f\" as E9  <<(T,blue)part>> [[psysml:f4778415-89ee-45ef-90f6-0fdee23f5f44 ]] {\r\n",
       "}\r\n",
       "comp usage \"g\" as E10  <<(T,blue)part>> [[psysml:54ce765f-cd4b-40e3-bd55-528058a48d88 ]] {\r\n",
       "}\r\n",
       "comp def \"A\" as E11  <<(T,blue)attribute def>> [[psysml:39471be4-e308-48bc-96c2-d92b434b60c0 ]] {\r\n",
       "- - attributes - -\r\n",
       "i: Integer\r\n",
       "x: A\r\n",
       "}\r\n",
       "E5 - -:|> E2 [[psysml:911f47bc-487d-4cbf-bcdd-94eeba00c89c ]] \r\n",
       "E6 - -:|> E2 [[psysml:5d978d49-3aad-49b2-9a30-3bd5979ae9aa ]] \r\n",
       "}\r\n",
       "@enduml\r\n",
       "\n",
       "PlantUML version 1.2020.13(Sat Jun 13 12:26:38 UTC 2020)\n",
       "(EPL source distribution)\n",
       "Java Runtime: OpenJDK Runtime Environment\n",
       "JVM: OpenJDK 64-Bit Server VM\n",
       "Default Encoding: UTF-8\n",
       "Language: en\n",
       "Country: null\n",
       "--></g></svg>"
      ]
     },
     "execution_count": 37,
     "metadata": {},
     "output_type": "execute_result"
    }
   ],
   "source": [
    "%viz --style=\"DEFAULT\" --view=\"Default\" \"MultiplicityTest\""
   ]
  },
  {
   "cell_type": "code",
   "execution_count": 38,
   "id": "11c91997",
   "metadata": {
    "execution": {
     "iopub.execute_input": "2021-04-21T20:26:44.541278Z",
     "iopub.status.busy": "2021-04-21T20:26:44.540858Z",
     "iopub.status.idle": "2021-04-21T20:26:44.601740Z",
     "shell.execute_reply": "2021-04-21T20:26:44.599492Z"
    }
   },
   "outputs": [
    {
     "data": {
      "image/svg+xml": [
       "<?xml version=\"1.0\" encoding=\"UTF-8\" standalone=\"no\"?><svg xmlns=\"http://www.w3.org/2000/svg\" xmlns:xlink=\"http://www.w3.org/1999/xlink\" contentScriptType=\"application/ecmascript\" contentStyleType=\"text/css\" height=\"263px\" preserveAspectRatio=\"none\" style=\"width:812px;height:263px;\" version=\"1.1\" viewBox=\"0 0 812 263\" width=\"812px\" zoomAndPan=\"magnify\"><defs/><g><!--MD5=[fbc87193dbaf4d95561dea2c320d4a47]\n",
       "cluster E1--><a href=\"psysml:0be6947d-aa66-4017-a009-04bc0f7b30c5\" target=\"_top\" title=\"psysml:0be6947d-aa66-4017-a009-04bc0f7b30c5\" xlink:actuate=\"onRequest\" xlink:href=\"psysml:0be6947d-aa66-4017-a009-04bc0f7b30c5\" xlink:show=\"new\" xlink:title=\"psysml:0be6947d-aa66-4017-a009-04bc0f7b30c5\" xlink:type=\"simple\"><polygon fill=\"#FFFFFF\" points=\"16,6,140,6,147,28.2969,790,28.2969,790,251,16,251,16,6\" style=\"stroke: #000000; stroke-width: 1.5;\"/><line style=\"stroke: #000000; stroke-width: 1.5;\" x1=\"16\" x2=\"147\" y1=\"28.2969\" y2=\"28.2969\"/><text fill=\"#000000\" font-family=\"sans-serif\" font-size=\"14\" font-weight=\"bold\" lengthAdjust=\"spacingAndGlyphs\" textLength=\"118\" x=\"20\" y=\"20.9951\">MultiplicityTest</text></a><!--MD5=[b4997ac47864f28c2f74865a473b2911]\n",
       "class E2--><a href=\"psysml:9ab3d3ff-483c-4e41-ada7-ab2d8c979da0\" target=\"_top\" title=\"psysml:9ab3d3ff-483c-4e41-ada7-ab2d8c979da0\" xlink:actuate=\"onRequest\" xlink:href=\"psysml:9ab3d3ff-483c-4e41-ada7-ab2d8c979da0\" xlink:show=\"new\" xlink:title=\"psysml:9ab3d3ff-483c-4e41-ada7-ab2d8c979da0\" xlink:type=\"simple\"><rect fill=\"#FFFFFF\" height=\"45.9375\" id=\"E2\" style=\"stroke: #383838; stroke-width: 1.5;\" width=\"66\" x=\"497\" y=\"189\"/><text fill=\"#000000\" font-family=\"sans-serif\" font-size=\"12\" font-style=\"italic\" lengthAdjust=\"spacingAndGlyphs\" textLength=\"64\" x=\"498\" y=\"205.1387\">«part def»</text><text fill=\"#000000\" font-family=\"sans-serif\" font-size=\"12\" lengthAdjust=\"spacingAndGlyphs\" textLength=\"8\" x=\"526\" y=\"219.1074\">P</text><line style=\"stroke: #383838; stroke-width: 1.5;\" x1=\"498\" x2=\"562\" y1=\"226.9375\" y2=\"226.9375\"/></a><!--MD5=[09b614a08d8cba4a07c9adeb5e0fee81]\n",
       "class E3--><a href=\"psysml:bb4f0587-9240-4f5c-8b68-755ceb30f0e1\" target=\"_top\" title=\"psysml:bb4f0587-9240-4f5c-8b68-755ceb30f0e1\" xlink:actuate=\"onRequest\" xlink:href=\"psysml:bb4f0587-9240-4f5c-8b68-755ceb30f0e1\" xlink:show=\"new\" xlink:title=\"psysml:bb4f0587-9240-4f5c-8b68-755ceb30f0e1\" xlink:type=\"simple\"><rect fill=\"#FFFFFF\" height=\"45.9375\" id=\"E3\" rx=\"10\" ry=\"10\" style=\"stroke: #383838; stroke-width: 1.5;\" width=\"71\" x=\"702.5\" y=\"62\"/><text fill=\"#000000\" font-family=\"sans-serif\" font-size=\"12\" font-style=\"italic\" lengthAdjust=\"spacingAndGlyphs\" textLength=\"69\" x=\"703.5\" y=\"78.1387\">«attribute»</text><text fill=\"#000000\" font-family=\"sans-serif\" font-size=\"12\" lengthAdjust=\"spacingAndGlyphs\" textLength=\"61\" x=\"707.5\" y=\"92.1074\">n: Integer</text><line style=\"stroke: #383838; stroke-width: 1.5;\" x1=\"703.5\" x2=\"772.5\" y1=\"99.9375\" y2=\"99.9375\"/></a><!--MD5=[ebbe1d658d1005bcc118a6aa81145e00]\n",
       "class E4--><a href=\"psysml:9d5a91ec-9b15-487c-8680-11258af91cb9\" target=\"_top\" title=\"psysml:9d5a91ec-9b15-487c-8680-11258af91cb9\" xlink:actuate=\"onRequest\" xlink:href=\"psysml:9d5a91ec-9b15-487c-8680-11258af91cb9\" xlink:show=\"new\" xlink:title=\"psysml:9d5a91ec-9b15-487c-8680-11258af91cb9\" xlink:type=\"simple\"><rect fill=\"#FFFFFF\" height=\"45.9375\" id=\"E4\" rx=\"10\" ry=\"10\" style=\"stroke: #383838; stroke-width: 1.5;\" width=\"42\" x=\"625\" y=\"62\"/><text fill=\"#000000\" font-family=\"sans-serif\" font-size=\"12\" font-style=\"italic\" lengthAdjust=\"spacingAndGlyphs\" textLength=\"40\" x=\"626\" y=\"78.1387\">«part»</text><text fill=\"#000000\" font-family=\"sans-serif\" font-size=\"12\" lengthAdjust=\"spacingAndGlyphs\" textLength=\"8\" x=\"642\" y=\"92.1074\">a</text><line style=\"stroke: #383838; stroke-width: 1.5;\" x1=\"626\" x2=\"666\" y1=\"99.9375\" y2=\"99.9375\"/></a><!--MD5=[270fce915f116d4de14055a7c1d9a0f3]\n",
       "class E5--><a href=\"psysml:0e6ddf84-4c23-42ff-8adf-60418e76591d\" target=\"_top\" title=\"psysml:0e6ddf84-4c23-42ff-8adf-60418e76591d\" xlink:actuate=\"onRequest\" xlink:href=\"psysml:0e6ddf84-4c23-42ff-8adf-60418e76591d\" xlink:show=\"new\" xlink:title=\"psysml:0e6ddf84-4c23-42ff-8adf-60418e76591d\" xlink:type=\"simple\"><rect fill=\"#FFFFFF\" height=\"45.9375\" id=\"E5\" rx=\"10\" ry=\"10\" style=\"stroke: #383838; stroke-width: 1.5;\" width=\"42\" x=\"548\" y=\"62\"/><text fill=\"#000000\" font-family=\"sans-serif\" font-size=\"12\" font-style=\"italic\" lengthAdjust=\"spacingAndGlyphs\" textLength=\"40\" x=\"549\" y=\"78.1387\">«part»</text><text fill=\"#000000\" font-family=\"sans-serif\" font-size=\"12\" lengthAdjust=\"spacingAndGlyphs\" textLength=\"24\" x=\"557\" y=\"92.1074\">b: P</text><line style=\"stroke: #383838; stroke-width: 1.5;\" x1=\"549\" x2=\"589\" y1=\"99.9375\" y2=\"99.9375\"/></a><!--MD5=[60a26617385b1d2d0262a64233df1f8d]\n",
       "class E6--><a href=\"psysml:7a390bd1-339b-4feb-982b-b3a6ee4de727\" target=\"_top\" title=\"psysml:7a390bd1-339b-4feb-982b-b3a6ee4de727\" xlink:actuate=\"onRequest\" xlink:href=\"psysml:7a390bd1-339b-4feb-982b-b3a6ee4de727\" xlink:show=\"new\" xlink:title=\"psysml:7a390bd1-339b-4feb-982b-b3a6ee4de727\" xlink:type=\"simple\"><rect fill=\"#FFFFFF\" height=\"45.9375\" id=\"E6\" rx=\"10\" ry=\"10\" style=\"stroke: #383838; stroke-width: 1.5;\" width=\"42\" x=\"471\" y=\"62\"/><text fill=\"#000000\" font-family=\"sans-serif\" font-size=\"12\" font-style=\"italic\" lengthAdjust=\"spacingAndGlyphs\" textLength=\"40\" x=\"472\" y=\"78.1387\">«part»</text><text fill=\"#000000\" font-family=\"sans-serif\" font-size=\"12\" lengthAdjust=\"spacingAndGlyphs\" textLength=\"23\" x=\"480.5\" y=\"92.1074\">c: P</text><line style=\"stroke: #383838; stroke-width: 1.5;\" x1=\"472\" x2=\"512\" y1=\"99.9375\" y2=\"99.9375\"/></a><!--MD5=[2156ba9850f5573cc1fc38a6a4b2f02b]\n",
       "class E7--><a href=\"psysml:c41308c3-3ab4-4c95-8873-b6daf8742442\" target=\"_top\" title=\"psysml:c41308c3-3ab4-4c95-8873-b6daf8742442\" xlink:actuate=\"onRequest\" xlink:href=\"psysml:c41308c3-3ab4-4c95-8873-b6daf8742442\" xlink:show=\"new\" xlink:title=\"psysml:c41308c3-3ab4-4c95-8873-b6daf8742442\" xlink:type=\"simple\"><rect fill=\"#FFFFFF\" height=\"45.9375\" id=\"E7\" rx=\"10\" ry=\"10\" style=\"stroke: #383838; stroke-width: 1.5;\" width=\"42\" x=\"394\" y=\"62\"/><text fill=\"#000000\" font-family=\"sans-serif\" font-size=\"12\" font-style=\"italic\" lengthAdjust=\"spacingAndGlyphs\" textLength=\"40\" x=\"395\" y=\"78.1387\">«part»</text><text fill=\"#000000\" font-family=\"sans-serif\" font-size=\"12\" lengthAdjust=\"spacingAndGlyphs\" textLength=\"8\" x=\"411\" y=\"92.1074\">d</text><line style=\"stroke: #383838; stroke-width: 1.5;\" x1=\"395\" x2=\"435\" y1=\"99.9375\" y2=\"99.9375\"/></a><!--MD5=[b9389687b975829384b498ac4b7476b2]\n",
       "class E8--><a href=\"psysml:4786ae2f-f4fb-4524-a996-e764bd48b2ea\" target=\"_top\" title=\"psysml:4786ae2f-f4fb-4524-a996-e764bd48b2ea\" xlink:actuate=\"onRequest\" xlink:href=\"psysml:4786ae2f-f4fb-4524-a996-e764bd48b2ea\" xlink:show=\"new\" xlink:title=\"psysml:4786ae2f-f4fb-4524-a996-e764bd48b2ea\" xlink:type=\"simple\"><rect fill=\"#FFFFFF\" height=\"45.9375\" id=\"E8\" rx=\"10\" ry=\"10\" style=\"stroke: #383838; stroke-width: 1.5;\" width=\"42\" x=\"317\" y=\"62\"/><text fill=\"#000000\" font-family=\"sans-serif\" font-size=\"12\" font-style=\"italic\" lengthAdjust=\"spacingAndGlyphs\" textLength=\"40\" x=\"318\" y=\"78.1387\">«part»</text><text fill=\"#000000\" font-family=\"sans-serif\" font-size=\"12\" lengthAdjust=\"spacingAndGlyphs\" textLength=\"8\" x=\"334\" y=\"92.1074\">e</text><line style=\"stroke: #383838; stroke-width: 1.5;\" x1=\"318\" x2=\"358\" y1=\"99.9375\" y2=\"99.9375\"/></a><!--MD5=[fd4143e9d270a159db93a4ea2a975926]\n",
       "class E9--><a href=\"psysml:f4778415-89ee-45ef-90f6-0fdee23f5f44\" target=\"_top\" title=\"psysml:f4778415-89ee-45ef-90f6-0fdee23f5f44\" xlink:actuate=\"onRequest\" xlink:href=\"psysml:f4778415-89ee-45ef-90f6-0fdee23f5f44\" xlink:show=\"new\" xlink:title=\"psysml:f4778415-89ee-45ef-90f6-0fdee23f5f44\" xlink:type=\"simple\"><rect fill=\"#FFFFFF\" height=\"45.9375\" id=\"E9\" rx=\"10\" ry=\"10\" style=\"stroke: #383838; stroke-width: 1.5;\" width=\"42\" x=\"240\" y=\"62\"/><text fill=\"#000000\" font-family=\"sans-serif\" font-size=\"12\" font-style=\"italic\" lengthAdjust=\"spacingAndGlyphs\" textLength=\"40\" x=\"241\" y=\"78.1387\">«part»</text><text fill=\"#000000\" font-family=\"sans-serif\" font-size=\"12\" lengthAdjust=\"spacingAndGlyphs\" textLength=\"4\" x=\"259\" y=\"92.1074\">f</text><line style=\"stroke: #383838; stroke-width: 1.5;\" x1=\"241\" x2=\"281\" y1=\"99.9375\" y2=\"99.9375\"/></a><!--MD5=[96f4274e9e20536e775497830990834d]\n",
       "class E10--><a href=\"psysml:54ce765f-cd4b-40e3-bd55-528058a48d88\" target=\"_top\" title=\"psysml:54ce765f-cd4b-40e3-bd55-528058a48d88\" xlink:actuate=\"onRequest\" xlink:href=\"psysml:54ce765f-cd4b-40e3-bd55-528058a48d88\" xlink:show=\"new\" xlink:title=\"psysml:54ce765f-cd4b-40e3-bd55-528058a48d88\" xlink:type=\"simple\"><rect fill=\"#FFFFFF\" height=\"45.9375\" id=\"E10\" rx=\"10\" ry=\"10\" style=\"stroke: #383838; stroke-width: 1.5;\" width=\"42\" x=\"163\" y=\"62\"/><text fill=\"#000000\" font-family=\"sans-serif\" font-size=\"12\" font-style=\"italic\" lengthAdjust=\"spacingAndGlyphs\" textLength=\"40\" x=\"164\" y=\"78.1387\">«part»</text><text fill=\"#000000\" font-family=\"sans-serif\" font-size=\"12\" lengthAdjust=\"spacingAndGlyphs\" textLength=\"8\" x=\"180\" y=\"92.1074\">g</text><line style=\"stroke: #383838; stroke-width: 1.5;\" x1=\"164\" x2=\"204\" y1=\"99.9375\" y2=\"99.9375\"/></a><!--MD5=[1dd1bfd58a279cf63c5f349dbc8fc6a1]\n",
       "class E11--><a href=\"psysml:39471be4-e308-48bc-96c2-d92b434b60c0\" target=\"_top\" title=\"psysml:39471be4-e308-48bc-96c2-d92b434b60c0\" xlink:actuate=\"onRequest\" xlink:href=\"psysml:39471be4-e308-48bc-96c2-d92b434b60c0\" xlink:show=\"new\" xlink:title=\"psysml:39471be4-e308-48bc-96c2-d92b434b60c0\" xlink:type=\"simple\"><rect fill=\"#FFFFFF\" height=\"88.3516\" id=\"E11\" style=\"stroke: #383838; stroke-width: 1.5;\" width=\"95\" x=\"32.5\" y=\"41\"/><text fill=\"#000000\" font-family=\"sans-serif\" font-size=\"12\" font-style=\"italic\" lengthAdjust=\"spacingAndGlyphs\" textLength=\"93\" x=\"33.5\" y=\"57.1387\">«attribute def»</text><text fill=\"#000000\" font-family=\"sans-serif\" font-size=\"12\" lengthAdjust=\"spacingAndGlyphs\" textLength=\"8\" x=\"76\" y=\"71.1074\">A</text><line style=\"stroke: #383838; stroke-width: 1.5;\" x1=\"33.5\" x2=\"126.5\" y1=\"78.9375\" y2=\"78.9375\"/><text fill=\"#000000\" font-family=\"sans-serif\" font-size=\"11\" lengthAdjust=\"spacingAndGlyphs\" textLength=\"51\" x=\"38.5\" y=\"109.9526\">i: Integer</text><text fill=\"#000000\" font-family=\"sans-serif\" font-size=\"11\" lengthAdjust=\"spacingAndGlyphs\" textLength=\"21\" x=\"38.5\" y=\"122.7573\">x: A</text><line style=\"stroke: #383838; stroke-width: 1.0;\" x1=\"33.5\" x2=\"52.5\" y1=\"93.3398\" y2=\"93.3398\"/><text fill=\"#000000\" font-family=\"sans-serif\" font-size=\"11\" lengthAdjust=\"spacingAndGlyphs\" textLength=\"55\" x=\"52.5\" y=\"96.6479\">attributes</text><line style=\"stroke: #383838; stroke-width: 1.0;\" x1=\"107.5\" x2=\"126.5\" y1=\"93.3398\" y2=\"93.3398\"/></a><!--MD5=[15ebcb19ae302d9b601edb458606d402]\n",
       "link E5 to E2--><a href=\"psysml:911f47bc-487d-4cbf-bcdd-94eeba00c89c\" target=\"_top\" title=\"psysml:911f47bc-487d-4cbf-bcdd-94eeba00c89c\" xlink:actuate=\"onRequest\" xlink:href=\"psysml:911f47bc-487d-4cbf-bcdd-94eeba00c89c\" xlink:show=\"new\" xlink:title=\"psysml:911f47bc-487d-4cbf-bcdd-94eeba00c89c\" xlink:type=\"simple\"><path d=\"M562.12,108.06 C556.83,125 549.38,148.89 542.98,169.39 \" fill=\"none\" id=\"E5-&gt;E2\" style=\"stroke: #383838; stroke-width: 1.0;\"/><polygon fill=\"#FFFFFF\" points=\"536.95,188.74,535.929,168.5173,549.2931,172.6886,536.95,188.74\" style=\"stroke: #383838; stroke-width: 1.0;\"/><ellipse cx=\"539.5364\" cy=\"163.6721\" fill=\"#383838\" rx=\"2\" ry=\"2\" style=\"stroke: #383838; stroke-width: 1.0;\"/><ellipse cx=\"549.0823\" cy=\"166.6516\" fill=\"#383838\" rx=\"2\" ry=\"2\" style=\"stroke: #383838; stroke-width: 1.0;\"/></a><!--MD5=[2351f337d6de0f557b50152ba70847b5]\n",
       "link E6 to E2--><a href=\"psysml:5d978d49-3aad-49b2-9a30-3bd5979ae9aa\" target=\"_top\" title=\"psysml:5d978d49-3aad-49b2-9a30-3bd5979ae9aa\" xlink:actuate=\"onRequest\" xlink:href=\"psysml:5d978d49-3aad-49b2-9a30-3bd5979ae9aa\" xlink:show=\"new\" xlink:title=\"psysml:5d978d49-3aad-49b2-9a30-3bd5979ae9aa\" xlink:type=\"simple\"><path d=\"M498.71,108.06 C503.86,125 511.12,148.89 517.35,169.39 \" fill=\"none\" id=\"E6-&gt;E2\" style=\"stroke: #383838; stroke-width: 1.0;\"/><polygon fill=\"#FFFFFF\" points=\"523.23,188.74,511.007,172.597,524.4019,168.5255,523.23,188.74\" style=\"stroke: #383838; stroke-width: 1.0;\"/><ellipse cx=\"511.2628\" cy=\"166.5617\" fill=\"#383838\" rx=\"2\" ry=\"2\" style=\"stroke: #383838; stroke-width: 1.0;\"/><ellipse cx=\"520.8306\" cy=\"163.6535\" fill=\"#383838\" rx=\"2\" ry=\"2\" style=\"stroke: #383838; stroke-width: 1.0;\"/></a><!--MD5=[0d1655100644eefde436d34eafd636e2]\n",
       "@startuml\r\n",
       "skinparam monochrome true\r\n",
       "skinparam classbackgroundcolor white\r\n",
       "skinparam shadowing false\r\n",
       "skinparam wrapWidth 300\r\n",
       "hide circle\r\n",
       "\r\n",
       "package \"MultiplicityTest\" as E1  [[psysml:0be6947d-aa66-4017-a009-04bc0f7b30c5 ]]  {\r\n",
       "comp def \"P\" as E2  <<(T,blue)part def>> [[psysml:9ab3d3ff-483c-4e41-ada7-ab2d8c979da0 ]] {\r\n",
       "}\r\n",
       "comp usage \"n: Integer\" as E3  <<(T,blue)attribute>> [[psysml:bb4f0587-9240-4f5c-8b68-755ceb30f0e1 ]] {\r\n",
       "}\r\n",
       "comp usage \"a\" as E4  <<(T,blue)part>> [[psysml:9d5a91ec-9b15-487c-8680-11258af91cb9 ]] {\r\n",
       "}\r\n",
       "comp usage \"b: P\" as E5  <<(T,blue)part>> [[psysml:0e6ddf84-4c23-42ff-8adf-60418e76591d ]] {\r\n",
       "}\r\n",
       "comp usage \"c: P\" as E6  <<(T,blue)part>> [[psysml:7a390bd1-339b-4feb-982b-b3a6ee4de727 ]] {\r\n",
       "}\r\n",
       "comp usage \"d\" as E7  <<(T,blue)part>> [[psysml:c41308c3-3ab4-4c95-8873-b6daf8742442 ]] {\r\n",
       "}\r\n",
       "comp usage \"e\" as E8  <<(T,blue)part>> [[psysml:4786ae2f-f4fb-4524-a996-e764bd48b2ea ]] {\r\n",
       "}\r\n",
       "comp usage \"f\" as E9  <<(T,blue)part>> [[psysml:f4778415-89ee-45ef-90f6-0fdee23f5f44 ]] {\r\n",
       "}\r\n",
       "comp usage \"g\" as E10  <<(T,blue)part>> [[psysml:54ce765f-cd4b-40e3-bd55-528058a48d88 ]] {\r\n",
       "}\r\n",
       "comp def \"A\" as E11  <<(T,blue)attribute def>> [[psysml:39471be4-e308-48bc-96c2-d92b434b60c0 ]] {\r\n",
       "- - attributes - -\r\n",
       "i: Integer\r\n",
       "x: A\r\n",
       "}\r\n",
       "E5 - -:|> E2 [[psysml:911f47bc-487d-4cbf-bcdd-94eeba00c89c ]] \r\n",
       "E6 - -:|> E2 [[psysml:5d978d49-3aad-49b2-9a30-3bd5979ae9aa ]] \r\n",
       "}\r\n",
       "@enduml\r\n",
       "\n",
       "PlantUML version 1.2020.13(Sat Jun 13 12:26:38 UTC 2020)\n",
       "(EPL source distribution)\n",
       "Java Runtime: OpenJDK Runtime Environment\n",
       "JVM: OpenJDK 64-Bit Server VM\n",
       "Default Encoding: UTF-8\n",
       "Language: en\n",
       "Country: null\n",
       "--></g></svg>"
      ]
     },
     "execution_count": 38,
     "metadata": {},
     "output_type": "execute_result"
    }
   ],
   "source": [
    "%viz --style=\"DEFAULT\" --view=\"Tree\" \"MultiplicityTest\""
   ]
  },
  {
   "cell_type": "code",
   "execution_count": 39,
   "id": "cffadb02",
   "metadata": {
    "execution": {
     "iopub.execute_input": "2021-04-21T20:26:44.653810Z",
     "iopub.status.busy": "2021-04-21T20:26:44.653299Z",
     "iopub.status.idle": "2021-04-21T20:26:44.661372Z",
     "shell.execute_reply": "2021-04-21T20:26:44.661073Z"
    }
   },
   "outputs": [
    {
     "data": {
      "image/svg+xml": [
       "<?xml version=\"1.0\" encoding=\"UTF-8\" standalone=\"no\"?><svg xmlns=\"http://www.w3.org/2000/svg\" xmlns:xlink=\"http://www.w3.org/1999/xlink\" contentScriptType=\"application/ecmascript\" contentStyleType=\"text/css\" height=\"12px\" preserveAspectRatio=\"none\" style=\"width:12px;height:12px;\" version=\"1.1\" viewBox=\"0 0 12 12\" width=\"12px\" zoomAndPan=\"magnify\"><defs/><g><!--MD5=[c5f280e076d0d61ccf4b0f27871bda1d]\n",
       "@startuml\r\n",
       "skinparam monochrome true\r\n",
       "skinparam classbackgroundcolor white\r\n",
       "skinparam shadowing false\r\n",
       "skinparam wrapWidth 300\r\n",
       "hide circle\r\n",
       "\r\n",
       "@enduml\r\n",
       "\n",
       "PlantUML version 1.2020.13(Sat Jun 13 12:26:38 UTC 2020)\n",
       "(EPL source distribution)\n",
       "Java Runtime: OpenJDK Runtime Environment\n",
       "JVM: OpenJDK 64-Bit Server VM\n",
       "Default Encoding: UTF-8\n",
       "Language: en\n",
       "Country: null\n",
       "--></g></svg>"
      ]
     },
     "execution_count": 39,
     "metadata": {},
     "output_type": "execute_result"
    }
   ],
   "source": [
    "%viz --style=\"DEFAULT\" --view=\"State\" \"MultiplicityTest\""
   ]
  },
  {
   "cell_type": "code",
   "execution_count": 40,
   "id": "17461278",
   "metadata": {
    "execution": {
     "iopub.execute_input": "2021-04-21T20:26:44.712449Z",
     "iopub.status.busy": "2021-04-21T20:26:44.711818Z",
     "iopub.status.idle": "2021-04-21T20:26:44.740006Z",
     "shell.execute_reply": "2021-04-21T20:26:44.738763Z"
    }
   },
   "outputs": [
    {
     "data": {
      "image/svg+xml": [
       "<?xml version=\"1.0\" encoding=\"UTF-8\" standalone=\"no\"?><svg xmlns=\"http://www.w3.org/2000/svg\" xmlns:xlink=\"http://www.w3.org/1999/xlink\" contentScriptType=\"application/ecmascript\" contentStyleType=\"text/css\" height=\"115px\" preserveAspectRatio=\"none\" style=\"width:979px;height:115px;\" version=\"1.1\" viewBox=\"0 0 979 115\" width=\"979px\" zoomAndPan=\"magnify\"><defs/><g><!--MD5=[fbc87193dbaf4d95561dea2c320d4a47]\n",
       "cluster E1--><a href=\"psysml:0be6947d-aa66-4017-a009-04bc0f7b30c5\" target=\"_top\" title=\"psysml:0be6947d-aa66-4017-a009-04bc0f7b30c5\" xlink:actuate=\"onRequest\" xlink:href=\"psysml:0be6947d-aa66-4017-a009-04bc0f7b30c5\" xlink:show=\"new\" xlink:title=\"psysml:0be6947d-aa66-4017-a009-04bc0f7b30c5\" xlink:type=\"simple\"><polygon fill=\"#FFFFFF\" points=\"16,6,140,6,147,28.2969,957,28.2969,957,103,16,103,16,6\" style=\"stroke: #000000; stroke-width: 1.5;\"/><line style=\"stroke: #000000; stroke-width: 1.5;\" x1=\"16\" x2=\"147\" y1=\"28.2969\" y2=\"28.2969\"/><text fill=\"#000000\" font-family=\"sans-serif\" font-size=\"14\" font-weight=\"bold\" lengthAdjust=\"spacingAndGlyphs\" textLength=\"118\" x=\"20\" y=\"20.9951\">MultiplicityTest</text></a><!--MD5=[09b614a08d8cba4a07c9adeb5e0fee81]\n",
       "class E3--><a href=\"psysml:bb4f0587-9240-4f5c-8b68-755ceb30f0e1\" target=\"_top\" title=\"psysml:bb4f0587-9240-4f5c-8b68-755ceb30f0e1\" xlink:actuate=\"onRequest\" xlink:href=\"psysml:bb4f0587-9240-4f5c-8b68-755ceb30f0e1\" xlink:show=\"new\" xlink:title=\"psysml:bb4f0587-9240-4f5c-8b68-755ceb30f0e1\" xlink:type=\"simple\"><rect fill=\"#FFFFFF\" height=\"45.9375\" id=\"E3\" rx=\"10\" ry=\"10\" style=\"stroke: #383838; stroke-width: 1.5;\" width=\"71\" x=\"869.5\" y=\"41\"/><text fill=\"#000000\" font-family=\"sans-serif\" font-size=\"12\" font-style=\"italic\" lengthAdjust=\"spacingAndGlyphs\" textLength=\"69\" x=\"870.5\" y=\"57.1387\">«attribute»</text><text fill=\"#000000\" font-family=\"sans-serif\" font-size=\"12\" lengthAdjust=\"spacingAndGlyphs\" textLength=\"61\" x=\"874.5\" y=\"71.1074\">n: Integer</text><line style=\"stroke: #383838; stroke-width: 1.5;\" x1=\"870.5\" x2=\"939.5\" y1=\"78.9375\" y2=\"78.9375\"/></a><g id=\"E1.E11\"><a href=\"psysml:39471be4-e308-48bc-96c2-d92b434b60c0\" target=\"_top\" title=\"psysml:39471be4-e308-48bc-96c2-d92b434b60c0\" xlink:actuate=\"onRequest\" xlink:href=\"psysml:39471be4-e308-48bc-96c2-d92b434b60c0\" xlink:show=\"new\" xlink:title=\"psysml:39471be4-e308-48bc-96c2-d92b434b60c0\" xlink:type=\"simple\"><rect fill=\"#FFFFFF\" height=\"42.9375\" id=\"E11\" style=\"stroke: #383838; stroke-width: 1.5;\" width=\"100\" x=\"734\" y=\"42.5\"/><rect fill=\"#F8F8F8\" height=\"37.9375\" style=\"stroke: #383838; stroke-width: 1.5;\" width=\"100\" x=\"734\" y=\"42.5\"/><text fill=\"#000000\" font-family=\"sans-serif\" font-size=\"12\" font-style=\"italic\" lengthAdjust=\"spacingAndGlyphs\" textLength=\"93\" x=\"737.5\" y=\"58.6387\">«attribute def»</text><text fill=\"#000000\" font-family=\"sans-serif\" font-size=\"12\" lengthAdjust=\"spacingAndGlyphs\" textLength=\"8\" x=\"780\" y=\"72.6074\">A</text></a></g><g id=\"E1.E2\"><a href=\"psysml:9ab3d3ff-483c-4e41-ada7-ab2d8c979da0\" target=\"_top\" title=\"psysml:9ab3d3ff-483c-4e41-ada7-ab2d8c979da0\" xlink:actuate=\"onRequest\" xlink:href=\"psysml:9ab3d3ff-483c-4e41-ada7-ab2d8c979da0\" xlink:show=\"new\" xlink:title=\"psysml:9ab3d3ff-483c-4e41-ada7-ab2d8c979da0\" xlink:type=\"simple\"><rect fill=\"#FFFFFF\" height=\"42.9375\" id=\"E2\" style=\"stroke: #383838; stroke-width: 1.5;\" width=\"71\" x=\"627.5\" y=\"42.5\"/><rect fill=\"#F8F8F8\" height=\"37.9375\" style=\"stroke: #383838; stroke-width: 1.5;\" width=\"71\" x=\"627.5\" y=\"42.5\"/><text fill=\"#000000\" font-family=\"sans-serif\" font-size=\"12\" font-style=\"italic\" lengthAdjust=\"spacingAndGlyphs\" textLength=\"64\" x=\"631\" y=\"58.6387\">«part def»</text><text fill=\"#000000\" font-family=\"sans-serif\" font-size=\"12\" lengthAdjust=\"spacingAndGlyphs\" textLength=\"8\" x=\"659\" y=\"72.6074\">P</text></a></g><g id=\"E1.E4\"><a href=\"psysml:9d5a91ec-9b15-487c-8680-11258af91cb9\" target=\"_top\" title=\"psysml:9d5a91ec-9b15-487c-8680-11258af91cb9\" xlink:actuate=\"onRequest\" xlink:href=\"psysml:9d5a91ec-9b15-487c-8680-11258af91cb9\" xlink:show=\"new\" xlink:title=\"psysml:9d5a91ec-9b15-487c-8680-11258af91cb9\" xlink:type=\"simple\"><rect fill=\"#FFFFFF\" height=\"40\" id=\"E4\" rx=\"10\" ry=\"10\" style=\"stroke: #383838; stroke-width: 1.5;\" width=\"50\" x=\"542\" y=\"44\"/><rect fill=\"#F8F8F8\" height=\"23.9688\" rx=\"10\" ry=\"10\" style=\"stroke: #F8F8F8; stroke-width: 1.5;\" width=\"50\" x=\"542\" y=\"44\"/><rect fill=\"#F8F8F8\" height=\"10\" style=\"stroke: #F8F8F8; stroke-width: 1.5;\" width=\"50\" x=\"542\" y=\"57.9688\"/><rect fill=\"none\" height=\"40\" id=\"E4\" rx=\"10\" ry=\"10\" style=\"stroke: #383838; stroke-width: 1.5;\" width=\"50\" x=\"542\" y=\"44\"/><text fill=\"#000000\" font-family=\"sans-serif\" font-size=\"12\" lengthAdjust=\"spacingAndGlyphs\" textLength=\"8\" x=\"563\" y=\"60.1387\">a</text></a></g><g id=\"E1.E5\"><a href=\"psysml:0e6ddf84-4c23-42ff-8adf-60418e76591d\" target=\"_top\" title=\"psysml:0e6ddf84-4c23-42ff-8adf-60418e76591d\" xlink:actuate=\"onRequest\" xlink:href=\"psysml:0e6ddf84-4c23-42ff-8adf-60418e76591d\" xlink:show=\"new\" xlink:title=\"psysml:0e6ddf84-4c23-42ff-8adf-60418e76591d\" xlink:type=\"simple\"><rect fill=\"#FFFFFF\" height=\"40\" id=\"E5\" rx=\"10\" ry=\"10\" style=\"stroke: #383838; stroke-width: 1.5;\" width=\"50\" x=\"457\" y=\"44\"/><rect fill=\"#F8F8F8\" height=\"23.9688\" rx=\"10\" ry=\"10\" style=\"stroke: #F8F8F8; stroke-width: 1.5;\" width=\"50\" x=\"457\" y=\"44\"/><rect fill=\"#F8F8F8\" height=\"10\" style=\"stroke: #F8F8F8; stroke-width: 1.5;\" width=\"50\" x=\"457\" y=\"57.9688\"/><rect fill=\"none\" height=\"40\" id=\"E5\" rx=\"10\" ry=\"10\" style=\"stroke: #383838; stroke-width: 1.5;\" width=\"50\" x=\"457\" y=\"44\"/><text fill=\"#000000\" font-family=\"sans-serif\" font-size=\"12\" lengthAdjust=\"spacingAndGlyphs\" textLength=\"24\" x=\"470\" y=\"60.1387\">b: P</text></a></g><g id=\"E1.E6\"><a href=\"psysml:7a390bd1-339b-4feb-982b-b3a6ee4de727\" target=\"_top\" title=\"psysml:7a390bd1-339b-4feb-982b-b3a6ee4de727\" xlink:actuate=\"onRequest\" xlink:href=\"psysml:7a390bd1-339b-4feb-982b-b3a6ee4de727\" xlink:show=\"new\" xlink:title=\"psysml:7a390bd1-339b-4feb-982b-b3a6ee4de727\" xlink:type=\"simple\"><rect fill=\"#FFFFFF\" height=\"40\" id=\"E6\" rx=\"10\" ry=\"10\" style=\"stroke: #383838; stroke-width: 1.5;\" width=\"50\" x=\"372\" y=\"44\"/><rect fill=\"#F8F8F8\" height=\"23.9688\" rx=\"10\" ry=\"10\" style=\"stroke: #F8F8F8; stroke-width: 1.5;\" width=\"50\" x=\"372\" y=\"44\"/><rect fill=\"#F8F8F8\" height=\"10\" style=\"stroke: #F8F8F8; stroke-width: 1.5;\" width=\"50\" x=\"372\" y=\"57.9688\"/><rect fill=\"none\" height=\"40\" id=\"E6\" rx=\"10\" ry=\"10\" style=\"stroke: #383838; stroke-width: 1.5;\" width=\"50\" x=\"372\" y=\"44\"/><text fill=\"#000000\" font-family=\"sans-serif\" font-size=\"12\" lengthAdjust=\"spacingAndGlyphs\" textLength=\"23\" x=\"385.5\" y=\"60.1387\">c: P</text></a></g><g id=\"E1.E7\"><a href=\"psysml:c41308c3-3ab4-4c95-8873-b6daf8742442\" target=\"_top\" title=\"psysml:c41308c3-3ab4-4c95-8873-b6daf8742442\" xlink:actuate=\"onRequest\" xlink:href=\"psysml:c41308c3-3ab4-4c95-8873-b6daf8742442\" xlink:show=\"new\" xlink:title=\"psysml:c41308c3-3ab4-4c95-8873-b6daf8742442\" xlink:type=\"simple\"><rect fill=\"#FFFFFF\" height=\"40\" id=\"E7\" rx=\"10\" ry=\"10\" style=\"stroke: #383838; stroke-width: 1.5;\" width=\"50\" x=\"287\" y=\"44\"/><rect fill=\"#F8F8F8\" height=\"23.9688\" rx=\"10\" ry=\"10\" style=\"stroke: #F8F8F8; stroke-width: 1.5;\" width=\"50\" x=\"287\" y=\"44\"/><rect fill=\"#F8F8F8\" height=\"10\" style=\"stroke: #F8F8F8; stroke-width: 1.5;\" width=\"50\" x=\"287\" y=\"57.9688\"/><rect fill=\"none\" height=\"40\" id=\"E7\" rx=\"10\" ry=\"10\" style=\"stroke: #383838; stroke-width: 1.5;\" width=\"50\" x=\"287\" y=\"44\"/><text fill=\"#000000\" font-family=\"sans-serif\" font-size=\"12\" lengthAdjust=\"spacingAndGlyphs\" textLength=\"8\" x=\"308\" y=\"60.1387\">d</text></a></g><g id=\"E1.E8\"><a href=\"psysml:4786ae2f-f4fb-4524-a996-e764bd48b2ea\" target=\"_top\" title=\"psysml:4786ae2f-f4fb-4524-a996-e764bd48b2ea\" xlink:actuate=\"onRequest\" xlink:href=\"psysml:4786ae2f-f4fb-4524-a996-e764bd48b2ea\" xlink:show=\"new\" xlink:title=\"psysml:4786ae2f-f4fb-4524-a996-e764bd48b2ea\" xlink:type=\"simple\"><rect fill=\"#FFFFFF\" height=\"40\" id=\"E8\" rx=\"10\" ry=\"10\" style=\"stroke: #383838; stroke-width: 1.5;\" width=\"50\" x=\"202\" y=\"44\"/><rect fill=\"#F8F8F8\" height=\"23.9688\" rx=\"10\" ry=\"10\" style=\"stroke: #F8F8F8; stroke-width: 1.5;\" width=\"50\" x=\"202\" y=\"44\"/><rect fill=\"#F8F8F8\" height=\"10\" style=\"stroke: #F8F8F8; stroke-width: 1.5;\" width=\"50\" x=\"202\" y=\"57.9688\"/><rect fill=\"none\" height=\"40\" id=\"E8\" rx=\"10\" ry=\"10\" style=\"stroke: #383838; stroke-width: 1.5;\" width=\"50\" x=\"202\" y=\"44\"/><text fill=\"#000000\" font-family=\"sans-serif\" font-size=\"12\" lengthAdjust=\"spacingAndGlyphs\" textLength=\"8\" x=\"223\" y=\"60.1387\">e</text></a></g><g id=\"E1.E9\"><a href=\"psysml:f4778415-89ee-45ef-90f6-0fdee23f5f44\" target=\"_top\" title=\"psysml:f4778415-89ee-45ef-90f6-0fdee23f5f44\" xlink:actuate=\"onRequest\" xlink:href=\"psysml:f4778415-89ee-45ef-90f6-0fdee23f5f44\" xlink:show=\"new\" xlink:title=\"psysml:f4778415-89ee-45ef-90f6-0fdee23f5f44\" xlink:type=\"simple\"><rect fill=\"#FFFFFF\" height=\"40\" id=\"E9\" rx=\"10\" ry=\"10\" style=\"stroke: #383838; stroke-width: 1.5;\" width=\"50\" x=\"117\" y=\"44\"/><rect fill=\"#F8F8F8\" height=\"23.9688\" rx=\"10\" ry=\"10\" style=\"stroke: #F8F8F8; stroke-width: 1.5;\" width=\"50\" x=\"117\" y=\"44\"/><rect fill=\"#F8F8F8\" height=\"10\" style=\"stroke: #F8F8F8; stroke-width: 1.5;\" width=\"50\" x=\"117\" y=\"57.9688\"/><rect fill=\"none\" height=\"40\" id=\"E9\" rx=\"10\" ry=\"10\" style=\"stroke: #383838; stroke-width: 1.5;\" width=\"50\" x=\"117\" y=\"44\"/><text fill=\"#000000\" font-family=\"sans-serif\" font-size=\"12\" lengthAdjust=\"spacingAndGlyphs\" textLength=\"4\" x=\"140\" y=\"60.1387\">f</text></a></g><g id=\"E1.E10\"><a href=\"psysml:54ce765f-cd4b-40e3-bd55-528058a48d88\" target=\"_top\" title=\"psysml:54ce765f-cd4b-40e3-bd55-528058a48d88\" xlink:actuate=\"onRequest\" xlink:href=\"psysml:54ce765f-cd4b-40e3-bd55-528058a48d88\" xlink:show=\"new\" xlink:title=\"psysml:54ce765f-cd4b-40e3-bd55-528058a48d88\" xlink:type=\"simple\"><rect fill=\"#FFFFFF\" height=\"40\" id=\"E10\" rx=\"10\" ry=\"10\" style=\"stroke: #383838; stroke-width: 1.5;\" width=\"50\" x=\"32\" y=\"44\"/><rect fill=\"#F8F8F8\" height=\"23.9688\" rx=\"10\" ry=\"10\" style=\"stroke: #F8F8F8; stroke-width: 1.5;\" width=\"50\" x=\"32\" y=\"44\"/><rect fill=\"#F8F8F8\" height=\"10\" style=\"stroke: #F8F8F8; stroke-width: 1.5;\" width=\"50\" x=\"32\" y=\"57.9688\"/><rect fill=\"none\" height=\"40\" id=\"E10\" rx=\"10\" ry=\"10\" style=\"stroke: #383838; stroke-width: 1.5;\" width=\"50\" x=\"32\" y=\"44\"/><text fill=\"#000000\" font-family=\"sans-serif\" font-size=\"12\" lengthAdjust=\"spacingAndGlyphs\" textLength=\"8\" x=\"53\" y=\"60.1387\">g</text></a></g><!--MD5=[2e8d9613fbf7a12afb23ecd6b59703b2]\n",
       "@startuml\r\n",
       "skinparam ranksep 10\r\n",
       "skinparam rectangle {\r\n",
       " backgroundColor<<block>> LightGreen\r\n",
       "}\r\n",
       "skinparam monochrome true\r\n",
       "skinparam classbackgroundcolor white\r\n",
       "skinparam shadowing false\r\n",
       "skinparam wrapWidth 300\r\n",
       "hide circle\r\n",
       "\r\n",
       "package \"MultiplicityTest\" as E1  [[psysml:0be6947d-aa66-4017-a009-04bc0f7b30c5 ]]  {\r\n",
       "rec def \"P\" as E2  <<(T,blue)part def>> [[psysml:9ab3d3ff-483c-4e41-ada7-ab2d8c979da0 ]] {\r\n",
       "}\r\n",
       "comp usage \"n: Integer\" as E3  <<(T,blue)attribute>> [[psysml:bb4f0587-9240-4f5c-8b68-755ceb30f0e1 ]] {\r\n",
       "}\r\n",
       "rec usage \"a\" as E4  [[psysml:9d5a91ec-9b15-487c-8680-11258af91cb9 ]] {\r\n",
       "}\r\n",
       "rec usage \"b: P\" as E5  [[psysml:0e6ddf84-4c23-42ff-8adf-60418e76591d ]] {\r\n",
       "}\r\n",
       "rec usage \"c: P\" as E6  [[psysml:7a390bd1-339b-4feb-982b-b3a6ee4de727 ]] {\r\n",
       "}\r\n",
       "rec usage \"d\" as E7  [[psysml:c41308c3-3ab4-4c95-8873-b6daf8742442 ]] {\r\n",
       "}\r\n",
       "rec usage \"e\" as E8  [[psysml:4786ae2f-f4fb-4524-a996-e764bd48b2ea ]] {\r\n",
       "}\r\n",
       "rec usage \"f\" as E9  [[psysml:f4778415-89ee-45ef-90f6-0fdee23f5f44 ]] {\r\n",
       "}\r\n",
       "rec usage \"g\" as E10  [[psysml:54ce765f-cd4b-40e3-bd55-528058a48d88 ]] {\r\n",
       "}\r\n",
       "def \"A\" as E11  <<(T,blue)attribute def>> [[psysml:39471be4-e308-48bc-96c2-d92b434b60c0 ]] \r\n",
       "}\r\n",
       "@enduml\r\n",
       "\n",
       "PlantUML version 1.2020.13(Sat Jun 13 12:26:38 UTC 2020)\n",
       "(EPL source distribution)\n",
       "Java Runtime: OpenJDK Runtime Environment\n",
       "JVM: OpenJDK 64-Bit Server VM\n",
       "Default Encoding: UTF-8\n",
       "Language: en\n",
       "Country: null\n",
       "--></g></svg>"
      ]
     },
     "execution_count": 40,
     "metadata": {},
     "output_type": "execute_result"
    }
   ],
   "source": [
    "%viz --style=\"DEFAULT\" --view=\"Interconnection\" \"MultiplicityTest\""
   ]
  },
  {
   "cell_type": "code",
   "execution_count": 41,
   "id": "8ac411ba",
   "metadata": {
    "execution": {
     "iopub.execute_input": "2021-04-21T20:26:44.790659Z",
     "iopub.status.busy": "2021-04-21T20:26:44.789963Z",
     "iopub.status.idle": "2021-04-21T20:26:44.796229Z",
     "shell.execute_reply": "2021-04-21T20:26:44.795805Z"
    }
   },
   "outputs": [
    {
     "data": {
      "image/svg+xml": [
       "<?xml version=\"1.0\" encoding=\"UTF-8\" standalone=\"no\"?><svg xmlns=\"http://www.w3.org/2000/svg\" xmlns:xlink=\"http://www.w3.org/1999/xlink\" contentScriptType=\"application/ecmascript\" contentStyleType=\"text/css\" height=\"12px\" preserveAspectRatio=\"none\" style=\"width:12px;height:12px;\" version=\"1.1\" viewBox=\"0 0 12 12\" width=\"12px\" zoomAndPan=\"magnify\"><defs/><g><!--MD5=[388f21188e31bfdd97050473b19af356]\n",
       "@startuml\r\n",
       "skinparam ranksep 8\r\n",
       "skinparam monochrome true\r\n",
       "skinparam classbackgroundcolor white\r\n",
       "skinparam shadowing false\r\n",
       "skinparam wrapWidth 300\r\n",
       "hide circle\r\n",
       "\r\n",
       "@enduml\r\n",
       "\n",
       "PlantUML version 1.2020.13(Sat Jun 13 12:26:38 UTC 2020)\n",
       "(EPL source distribution)\n",
       "Java Runtime: OpenJDK Runtime Environment\n",
       "JVM: OpenJDK 64-Bit Server VM\n",
       "Default Encoding: UTF-8\n",
       "Language: en\n",
       "Country: null\n",
       "--></g></svg>"
      ]
     },
     "execution_count": 41,
     "metadata": {},
     "output_type": "execute_result"
    }
   ],
   "source": [
    "%viz --style=\"DEFAULT\" --view=\"Action\" \"MultiplicityTest\""
   ]
  },
  {
   "cell_type": "code",
   "execution_count": 42,
   "id": "8428c486",
   "metadata": {
    "execution": {
     "iopub.execute_input": "2021-04-21T20:26:44.853756Z",
     "iopub.status.busy": "2021-04-21T20:26:44.850831Z",
     "iopub.status.idle": "2021-04-21T20:26:44.898876Z",
     "shell.execute_reply": "2021-04-21T20:26:44.897170Z"
    }
   },
   "outputs": [
    {
     "data": {
      "image/svg+xml": [
       "<?xml version=\"1.0\" encoding=\"UTF-8\" standalone=\"no\"?><svg xmlns=\"http://www.w3.org/2000/svg\" xmlns:xlink=\"http://www.w3.org/1999/xlink\" contentScriptType=\"application/ecmascript\" contentStyleType=\"text/css\" height=\"263px\" preserveAspectRatio=\"none\" style=\"width:812px;height:263px;\" version=\"1.1\" viewBox=\"0 0 812 263\" width=\"812px\" zoomAndPan=\"magnify\"><defs/><g><!--MD5=[fbc87193dbaf4d95561dea2c320d4a47]\n",
       "cluster E1--><a href=\"psysml:0be6947d-aa66-4017-a009-04bc0f7b30c5\" target=\"_top\" title=\"psysml:0be6947d-aa66-4017-a009-04bc0f7b30c5\" xlink:actuate=\"onRequest\" xlink:href=\"psysml:0be6947d-aa66-4017-a009-04bc0f7b30c5\" xlink:show=\"new\" xlink:title=\"psysml:0be6947d-aa66-4017-a009-04bc0f7b30c5\" xlink:type=\"simple\"><polygon fill=\"#FFFFFF\" points=\"16,6,140,6,147,28.2969,790,28.2969,790,251,16,251,16,6\" style=\"stroke: #000000; stroke-width: 1.5;\"/><line style=\"stroke: #000000; stroke-width: 1.5;\" x1=\"16\" x2=\"147\" y1=\"28.2969\" y2=\"28.2969\"/><text fill=\"#000000\" font-family=\"sans-serif\" font-size=\"14\" font-weight=\"bold\" lengthAdjust=\"spacingAndGlyphs\" textLength=\"118\" x=\"20\" y=\"20.9951\">MultiplicityTest</text></a><!--MD5=[b4997ac47864f28c2f74865a473b2911]\n",
       "class E2--><a href=\"psysml:9ab3d3ff-483c-4e41-ada7-ab2d8c979da0\" target=\"_top\" title=\"psysml:9ab3d3ff-483c-4e41-ada7-ab2d8c979da0\" xlink:actuate=\"onRequest\" xlink:href=\"psysml:9ab3d3ff-483c-4e41-ada7-ab2d8c979da0\" xlink:show=\"new\" xlink:title=\"psysml:9ab3d3ff-483c-4e41-ada7-ab2d8c979da0\" xlink:type=\"simple\"><rect fill=\"#FFFFFF\" height=\"45.9375\" id=\"E2\" style=\"stroke: #383838; stroke-width: 1.5;\" width=\"66\" x=\"497\" y=\"189\"/><text fill=\"#000000\" font-family=\"sans-serif\" font-size=\"12\" font-style=\"italic\" lengthAdjust=\"spacingAndGlyphs\" textLength=\"64\" x=\"498\" y=\"205.1387\">«part def»</text><text fill=\"#000000\" font-family=\"sans-serif\" font-size=\"12\" lengthAdjust=\"spacingAndGlyphs\" textLength=\"8\" x=\"526\" y=\"219.1074\">P</text><line style=\"stroke: #383838; stroke-width: 1.5;\" x1=\"498\" x2=\"562\" y1=\"226.9375\" y2=\"226.9375\"/></a><!--MD5=[09b614a08d8cba4a07c9adeb5e0fee81]\n",
       "class E3--><a href=\"psysml:bb4f0587-9240-4f5c-8b68-755ceb30f0e1\" target=\"_top\" title=\"psysml:bb4f0587-9240-4f5c-8b68-755ceb30f0e1\" xlink:actuate=\"onRequest\" xlink:href=\"psysml:bb4f0587-9240-4f5c-8b68-755ceb30f0e1\" xlink:show=\"new\" xlink:title=\"psysml:bb4f0587-9240-4f5c-8b68-755ceb30f0e1\" xlink:type=\"simple\"><rect fill=\"#FFFFFF\" height=\"45.9375\" id=\"E3\" rx=\"10\" ry=\"10\" style=\"stroke: #383838; stroke-width: 1.5;\" width=\"71\" x=\"702.5\" y=\"62\"/><text fill=\"#000000\" font-family=\"sans-serif\" font-size=\"12\" font-style=\"italic\" lengthAdjust=\"spacingAndGlyphs\" textLength=\"69\" x=\"703.5\" y=\"78.1387\">«attribute»</text><text fill=\"#000000\" font-family=\"sans-serif\" font-size=\"12\" lengthAdjust=\"spacingAndGlyphs\" textLength=\"61\" x=\"707.5\" y=\"92.1074\">n: Integer</text><line style=\"stroke: #383838; stroke-width: 1.5;\" x1=\"703.5\" x2=\"772.5\" y1=\"99.9375\" y2=\"99.9375\"/></a><!--MD5=[ebbe1d658d1005bcc118a6aa81145e00]\n",
       "class E4--><a href=\"psysml:9d5a91ec-9b15-487c-8680-11258af91cb9\" target=\"_top\" title=\"psysml:9d5a91ec-9b15-487c-8680-11258af91cb9\" xlink:actuate=\"onRequest\" xlink:href=\"psysml:9d5a91ec-9b15-487c-8680-11258af91cb9\" xlink:show=\"new\" xlink:title=\"psysml:9d5a91ec-9b15-487c-8680-11258af91cb9\" xlink:type=\"simple\"><rect fill=\"#FFFFFF\" height=\"45.9375\" id=\"E4\" rx=\"10\" ry=\"10\" style=\"stroke: #383838; stroke-width: 1.5;\" width=\"42\" x=\"625\" y=\"62\"/><text fill=\"#000000\" font-family=\"sans-serif\" font-size=\"12\" font-style=\"italic\" lengthAdjust=\"spacingAndGlyphs\" textLength=\"40\" x=\"626\" y=\"78.1387\">«part»</text><text fill=\"#000000\" font-family=\"sans-serif\" font-size=\"12\" lengthAdjust=\"spacingAndGlyphs\" textLength=\"8\" x=\"642\" y=\"92.1074\">a</text><line style=\"stroke: #383838; stroke-width: 1.5;\" x1=\"626\" x2=\"666\" y1=\"99.9375\" y2=\"99.9375\"/></a><!--MD5=[270fce915f116d4de14055a7c1d9a0f3]\n",
       "class E5--><a href=\"psysml:0e6ddf84-4c23-42ff-8adf-60418e76591d\" target=\"_top\" title=\"psysml:0e6ddf84-4c23-42ff-8adf-60418e76591d\" xlink:actuate=\"onRequest\" xlink:href=\"psysml:0e6ddf84-4c23-42ff-8adf-60418e76591d\" xlink:show=\"new\" xlink:title=\"psysml:0e6ddf84-4c23-42ff-8adf-60418e76591d\" xlink:type=\"simple\"><rect fill=\"#FFFFFF\" height=\"45.9375\" id=\"E5\" rx=\"10\" ry=\"10\" style=\"stroke: #383838; stroke-width: 1.5;\" width=\"42\" x=\"548\" y=\"62\"/><text fill=\"#000000\" font-family=\"sans-serif\" font-size=\"12\" font-style=\"italic\" lengthAdjust=\"spacingAndGlyphs\" textLength=\"40\" x=\"549\" y=\"78.1387\">«part»</text><text fill=\"#000000\" font-family=\"sans-serif\" font-size=\"12\" lengthAdjust=\"spacingAndGlyphs\" textLength=\"24\" x=\"557\" y=\"92.1074\">b: P</text><line style=\"stroke: #383838; stroke-width: 1.5;\" x1=\"549\" x2=\"589\" y1=\"99.9375\" y2=\"99.9375\"/></a><!--MD5=[60a26617385b1d2d0262a64233df1f8d]\n",
       "class E6--><a href=\"psysml:7a390bd1-339b-4feb-982b-b3a6ee4de727\" target=\"_top\" title=\"psysml:7a390bd1-339b-4feb-982b-b3a6ee4de727\" xlink:actuate=\"onRequest\" xlink:href=\"psysml:7a390bd1-339b-4feb-982b-b3a6ee4de727\" xlink:show=\"new\" xlink:title=\"psysml:7a390bd1-339b-4feb-982b-b3a6ee4de727\" xlink:type=\"simple\"><rect fill=\"#FFFFFF\" height=\"45.9375\" id=\"E6\" rx=\"10\" ry=\"10\" style=\"stroke: #383838; stroke-width: 1.5;\" width=\"42\" x=\"471\" y=\"62\"/><text fill=\"#000000\" font-family=\"sans-serif\" font-size=\"12\" font-style=\"italic\" lengthAdjust=\"spacingAndGlyphs\" textLength=\"40\" x=\"472\" y=\"78.1387\">«part»</text><text fill=\"#000000\" font-family=\"sans-serif\" font-size=\"12\" lengthAdjust=\"spacingAndGlyphs\" textLength=\"23\" x=\"480.5\" y=\"92.1074\">c: P</text><line style=\"stroke: #383838; stroke-width: 1.5;\" x1=\"472\" x2=\"512\" y1=\"99.9375\" y2=\"99.9375\"/></a><!--MD5=[2156ba9850f5573cc1fc38a6a4b2f02b]\n",
       "class E7--><a href=\"psysml:c41308c3-3ab4-4c95-8873-b6daf8742442\" target=\"_top\" title=\"psysml:c41308c3-3ab4-4c95-8873-b6daf8742442\" xlink:actuate=\"onRequest\" xlink:href=\"psysml:c41308c3-3ab4-4c95-8873-b6daf8742442\" xlink:show=\"new\" xlink:title=\"psysml:c41308c3-3ab4-4c95-8873-b6daf8742442\" xlink:type=\"simple\"><rect fill=\"#FFFFFF\" height=\"45.9375\" id=\"E7\" rx=\"10\" ry=\"10\" style=\"stroke: #383838; stroke-width: 1.5;\" width=\"42\" x=\"394\" y=\"62\"/><text fill=\"#000000\" font-family=\"sans-serif\" font-size=\"12\" font-style=\"italic\" lengthAdjust=\"spacingAndGlyphs\" textLength=\"40\" x=\"395\" y=\"78.1387\">«part»</text><text fill=\"#000000\" font-family=\"sans-serif\" font-size=\"12\" lengthAdjust=\"spacingAndGlyphs\" textLength=\"8\" x=\"411\" y=\"92.1074\">d</text><line style=\"stroke: #383838; stroke-width: 1.5;\" x1=\"395\" x2=\"435\" y1=\"99.9375\" y2=\"99.9375\"/></a><!--MD5=[b9389687b975829384b498ac4b7476b2]\n",
       "class E8--><a href=\"psysml:4786ae2f-f4fb-4524-a996-e764bd48b2ea\" target=\"_top\" title=\"psysml:4786ae2f-f4fb-4524-a996-e764bd48b2ea\" xlink:actuate=\"onRequest\" xlink:href=\"psysml:4786ae2f-f4fb-4524-a996-e764bd48b2ea\" xlink:show=\"new\" xlink:title=\"psysml:4786ae2f-f4fb-4524-a996-e764bd48b2ea\" xlink:type=\"simple\"><rect fill=\"#FFFFFF\" height=\"45.9375\" id=\"E8\" rx=\"10\" ry=\"10\" style=\"stroke: #383838; stroke-width: 1.5;\" width=\"42\" x=\"317\" y=\"62\"/><text fill=\"#000000\" font-family=\"sans-serif\" font-size=\"12\" font-style=\"italic\" lengthAdjust=\"spacingAndGlyphs\" textLength=\"40\" x=\"318\" y=\"78.1387\">«part»</text><text fill=\"#000000\" font-family=\"sans-serif\" font-size=\"12\" lengthAdjust=\"spacingAndGlyphs\" textLength=\"8\" x=\"334\" y=\"92.1074\">e</text><line style=\"stroke: #383838; stroke-width: 1.5;\" x1=\"318\" x2=\"358\" y1=\"99.9375\" y2=\"99.9375\"/></a><!--MD5=[fd4143e9d270a159db93a4ea2a975926]\n",
       "class E9--><a href=\"psysml:f4778415-89ee-45ef-90f6-0fdee23f5f44\" target=\"_top\" title=\"psysml:f4778415-89ee-45ef-90f6-0fdee23f5f44\" xlink:actuate=\"onRequest\" xlink:href=\"psysml:f4778415-89ee-45ef-90f6-0fdee23f5f44\" xlink:show=\"new\" xlink:title=\"psysml:f4778415-89ee-45ef-90f6-0fdee23f5f44\" xlink:type=\"simple\"><rect fill=\"#FFFFFF\" height=\"45.9375\" id=\"E9\" rx=\"10\" ry=\"10\" style=\"stroke: #383838; stroke-width: 1.5;\" width=\"42\" x=\"240\" y=\"62\"/><text fill=\"#000000\" font-family=\"sans-serif\" font-size=\"12\" font-style=\"italic\" lengthAdjust=\"spacingAndGlyphs\" textLength=\"40\" x=\"241\" y=\"78.1387\">«part»</text><text fill=\"#000000\" font-family=\"sans-serif\" font-size=\"12\" lengthAdjust=\"spacingAndGlyphs\" textLength=\"4\" x=\"259\" y=\"92.1074\">f</text><line style=\"stroke: #383838; stroke-width: 1.5;\" x1=\"241\" x2=\"281\" y1=\"99.9375\" y2=\"99.9375\"/></a><!--MD5=[96f4274e9e20536e775497830990834d]\n",
       "class E10--><a href=\"psysml:54ce765f-cd4b-40e3-bd55-528058a48d88\" target=\"_top\" title=\"psysml:54ce765f-cd4b-40e3-bd55-528058a48d88\" xlink:actuate=\"onRequest\" xlink:href=\"psysml:54ce765f-cd4b-40e3-bd55-528058a48d88\" xlink:show=\"new\" xlink:title=\"psysml:54ce765f-cd4b-40e3-bd55-528058a48d88\" xlink:type=\"simple\"><rect fill=\"#FFFFFF\" height=\"45.9375\" id=\"E10\" rx=\"10\" ry=\"10\" style=\"stroke: #383838; stroke-width: 1.5;\" width=\"42\" x=\"163\" y=\"62\"/><text fill=\"#000000\" font-family=\"sans-serif\" font-size=\"12\" font-style=\"italic\" lengthAdjust=\"spacingAndGlyphs\" textLength=\"40\" x=\"164\" y=\"78.1387\">«part»</text><text fill=\"#000000\" font-family=\"sans-serif\" font-size=\"12\" lengthAdjust=\"spacingAndGlyphs\" textLength=\"8\" x=\"180\" y=\"92.1074\">g</text><line style=\"stroke: #383838; stroke-width: 1.5;\" x1=\"164\" x2=\"204\" y1=\"99.9375\" y2=\"99.9375\"/></a><!--MD5=[1dd1bfd58a279cf63c5f349dbc8fc6a1]\n",
       "class E11--><a href=\"psysml:39471be4-e308-48bc-96c2-d92b434b60c0\" target=\"_top\" title=\"psysml:39471be4-e308-48bc-96c2-d92b434b60c0\" xlink:actuate=\"onRequest\" xlink:href=\"psysml:39471be4-e308-48bc-96c2-d92b434b60c0\" xlink:show=\"new\" xlink:title=\"psysml:39471be4-e308-48bc-96c2-d92b434b60c0\" xlink:type=\"simple\"><rect fill=\"#FFFFFF\" height=\"88.3516\" id=\"E11\" style=\"stroke: #383838; stroke-width: 1.5;\" width=\"95\" x=\"32.5\" y=\"41\"/><text fill=\"#000000\" font-family=\"sans-serif\" font-size=\"12\" font-style=\"italic\" lengthAdjust=\"spacingAndGlyphs\" textLength=\"93\" x=\"33.5\" y=\"57.1387\">«attribute def»</text><text fill=\"#000000\" font-family=\"sans-serif\" font-size=\"12\" lengthAdjust=\"spacingAndGlyphs\" textLength=\"8\" x=\"76\" y=\"71.1074\">A</text><line style=\"stroke: #383838; stroke-width: 1.5;\" x1=\"33.5\" x2=\"126.5\" y1=\"78.9375\" y2=\"78.9375\"/><text fill=\"#000000\" font-family=\"sans-serif\" font-size=\"11\" lengthAdjust=\"spacingAndGlyphs\" textLength=\"51\" x=\"38.5\" y=\"109.9526\">i: Integer</text><text fill=\"#000000\" font-family=\"sans-serif\" font-size=\"11\" lengthAdjust=\"spacingAndGlyphs\" textLength=\"21\" x=\"38.5\" y=\"122.7573\">x: A</text><line style=\"stroke: #383838; stroke-width: 1.0;\" x1=\"33.5\" x2=\"52.5\" y1=\"93.3398\" y2=\"93.3398\"/><text fill=\"#000000\" font-family=\"sans-serif\" font-size=\"11\" lengthAdjust=\"spacingAndGlyphs\" textLength=\"55\" x=\"52.5\" y=\"96.6479\">attributes</text><line style=\"stroke: #383838; stroke-width: 1.0;\" x1=\"107.5\" x2=\"126.5\" y1=\"93.3398\" y2=\"93.3398\"/></a><!--MD5=[15ebcb19ae302d9b601edb458606d402]\n",
       "link E5 to E2--><a href=\"psysml:911f47bc-487d-4cbf-bcdd-94eeba00c89c\" target=\"_top\" title=\"psysml:911f47bc-487d-4cbf-bcdd-94eeba00c89c\" xlink:actuate=\"onRequest\" xlink:href=\"psysml:911f47bc-487d-4cbf-bcdd-94eeba00c89c\" xlink:show=\"new\" xlink:title=\"psysml:911f47bc-487d-4cbf-bcdd-94eeba00c89c\" xlink:type=\"simple\"><path d=\"M562.12,108.06 C556.83,125 549.38,148.89 542.98,169.39 \" fill=\"none\" id=\"E5-&gt;E2\" style=\"stroke: #383838; stroke-width: 1.0;\"/><polygon fill=\"#FFFFFF\" points=\"536.95,188.74,535.929,168.5173,549.2931,172.6886,536.95,188.74\" style=\"stroke: #383838; stroke-width: 1.0;\"/><ellipse cx=\"539.5364\" cy=\"163.6721\" fill=\"#383838\" rx=\"2\" ry=\"2\" style=\"stroke: #383838; stroke-width: 1.0;\"/><ellipse cx=\"549.0823\" cy=\"166.6516\" fill=\"#383838\" rx=\"2\" ry=\"2\" style=\"stroke: #383838; stroke-width: 1.0;\"/></a><!--MD5=[2351f337d6de0f557b50152ba70847b5]\n",
       "link E6 to E2--><a href=\"psysml:5d978d49-3aad-49b2-9a30-3bd5979ae9aa\" target=\"_top\" title=\"psysml:5d978d49-3aad-49b2-9a30-3bd5979ae9aa\" xlink:actuate=\"onRequest\" xlink:href=\"psysml:5d978d49-3aad-49b2-9a30-3bd5979ae9aa\" xlink:show=\"new\" xlink:title=\"psysml:5d978d49-3aad-49b2-9a30-3bd5979ae9aa\" xlink:type=\"simple\"><path d=\"M498.71,108.06 C503.86,125 511.12,148.89 517.35,169.39 \" fill=\"none\" id=\"E6-&gt;E2\" style=\"stroke: #383838; stroke-width: 1.0;\"/><polygon fill=\"#FFFFFF\" points=\"523.23,188.74,511.007,172.597,524.4019,168.5255,523.23,188.74\" style=\"stroke: #383838; stroke-width: 1.0;\"/><ellipse cx=\"511.2628\" cy=\"166.5617\" fill=\"#383838\" rx=\"2\" ry=\"2\" style=\"stroke: #383838; stroke-width: 1.0;\"/><ellipse cx=\"520.8306\" cy=\"163.6535\" fill=\"#383838\" rx=\"2\" ry=\"2\" style=\"stroke: #383838; stroke-width: 1.0;\"/></a><!--MD5=[0d1655100644eefde436d34eafd636e2]\n",
       "@startuml\r\n",
       "skinparam monochrome true\r\n",
       "skinparam classbackgroundcolor white\r\n",
       "skinparam shadowing false\r\n",
       "skinparam wrapWidth 300\r\n",
       "hide circle\r\n",
       "\r\n",
       "package \"MultiplicityTest\" as E1  [[psysml:0be6947d-aa66-4017-a009-04bc0f7b30c5 ]]  {\r\n",
       "comp def \"P\" as E2  <<(T,blue)part def>> [[psysml:9ab3d3ff-483c-4e41-ada7-ab2d8c979da0 ]] {\r\n",
       "}\r\n",
       "comp usage \"n: Integer\" as E3  <<(T,blue)attribute>> [[psysml:bb4f0587-9240-4f5c-8b68-755ceb30f0e1 ]] {\r\n",
       "}\r\n",
       "comp usage \"a\" as E4  <<(T,blue)part>> [[psysml:9d5a91ec-9b15-487c-8680-11258af91cb9 ]] {\r\n",
       "}\r\n",
       "comp usage \"b: P\" as E5  <<(T,blue)part>> [[psysml:0e6ddf84-4c23-42ff-8adf-60418e76591d ]] {\r\n",
       "}\r\n",
       "comp usage \"c: P\" as E6  <<(T,blue)part>> [[psysml:7a390bd1-339b-4feb-982b-b3a6ee4de727 ]] {\r\n",
       "}\r\n",
       "comp usage \"d\" as E7  <<(T,blue)part>> [[psysml:c41308c3-3ab4-4c95-8873-b6daf8742442 ]] {\r\n",
       "}\r\n",
       "comp usage \"e\" as E8  <<(T,blue)part>> [[psysml:4786ae2f-f4fb-4524-a996-e764bd48b2ea ]] {\r\n",
       "}\r\n",
       "comp usage \"f\" as E9  <<(T,blue)part>> [[psysml:f4778415-89ee-45ef-90f6-0fdee23f5f44 ]] {\r\n",
       "}\r\n",
       "comp usage \"g\" as E10  <<(T,blue)part>> [[psysml:54ce765f-cd4b-40e3-bd55-528058a48d88 ]] {\r\n",
       "}\r\n",
       "comp def \"A\" as E11  <<(T,blue)attribute def>> [[psysml:39471be4-e308-48bc-96c2-d92b434b60c0 ]] {\r\n",
       "- - attributes - -\r\n",
       "i: Integer\r\n",
       "x: A\r\n",
       "}\r\n",
       "E5 - -:|> E2 [[psysml:911f47bc-487d-4cbf-bcdd-94eeba00c89c ]] \r\n",
       "E6 - -:|> E2 [[psysml:5d978d49-3aad-49b2-9a30-3bd5979ae9aa ]] \r\n",
       "}\r\n",
       "@enduml\r\n",
       "\n",
       "PlantUML version 1.2020.13(Sat Jun 13 12:26:38 UTC 2020)\n",
       "(EPL source distribution)\n",
       "Java Runtime: OpenJDK Runtime Environment\n",
       "JVM: OpenJDK 64-Bit Server VM\n",
       "Default Encoding: UTF-8\n",
       "Language: en\n",
       "Country: null\n",
       "--></g></svg>"
      ]
     },
     "execution_count": 42,
     "metadata": {},
     "output_type": "execute_result"
    }
   ],
   "source": [
    "%viz --style=\"DEFAULT\" --view=\"Sequence\" \"MultiplicityTest\""
   ]
  },
  {
   "cell_type": "code",
   "execution_count": 43,
   "id": "83abe203",
   "metadata": {
    "execution": {
     "iopub.execute_input": "2021-04-21T20:26:44.950292Z",
     "iopub.status.busy": "2021-04-21T20:26:44.948433Z",
     "iopub.status.idle": "2021-04-21T20:26:45.012874Z",
     "shell.execute_reply": "2021-04-21T20:26:45.012012Z"
    }
   },
   "outputs": [
    {
     "data": {
      "image/svg+xml": [
       "<?xml version=\"1.0\" encoding=\"UTF-8\" standalone=\"no\"?><svg xmlns=\"http://www.w3.org/2000/svg\" xmlns:xlink=\"http://www.w3.org/1999/xlink\" contentScriptType=\"application/ecmascript\" contentStyleType=\"text/css\" height=\"263px\" preserveAspectRatio=\"none\" style=\"width:812px;height:263px;\" version=\"1.1\" viewBox=\"0 0 812 263\" width=\"812px\" zoomAndPan=\"magnify\"><defs/><g><!--MD5=[fbc87193dbaf4d95561dea2c320d4a47]\n",
       "cluster E1--><a href=\"psysml:0be6947d-aa66-4017-a009-04bc0f7b30c5\" target=\"_top\" title=\"psysml:0be6947d-aa66-4017-a009-04bc0f7b30c5\" xlink:actuate=\"onRequest\" xlink:href=\"psysml:0be6947d-aa66-4017-a009-04bc0f7b30c5\" xlink:show=\"new\" xlink:title=\"psysml:0be6947d-aa66-4017-a009-04bc0f7b30c5\" xlink:type=\"simple\"><polygon fill=\"#FFFFFF\" points=\"16,6,140,6,147,28.2969,790,28.2969,790,251,16,251,16,6\" style=\"stroke: #000000; stroke-width: 1.5;\"/><line style=\"stroke: #000000; stroke-width: 1.5;\" x1=\"16\" x2=\"147\" y1=\"28.2969\" y2=\"28.2969\"/><text fill=\"#000000\" font-family=\"sans-serif\" font-size=\"14\" font-weight=\"bold\" lengthAdjust=\"spacingAndGlyphs\" textLength=\"118\" x=\"20\" y=\"20.9951\">MultiplicityTest</text></a><!--MD5=[b4997ac47864f28c2f74865a473b2911]\n",
       "class E2--><a href=\"psysml:9ab3d3ff-483c-4e41-ada7-ab2d8c979da0\" target=\"_top\" title=\"psysml:9ab3d3ff-483c-4e41-ada7-ab2d8c979da0\" xlink:actuate=\"onRequest\" xlink:href=\"psysml:9ab3d3ff-483c-4e41-ada7-ab2d8c979da0\" xlink:show=\"new\" xlink:title=\"psysml:9ab3d3ff-483c-4e41-ada7-ab2d8c979da0\" xlink:type=\"simple\"><rect fill=\"#FFFFFF\" height=\"45.9375\" id=\"E2\" style=\"stroke: #383838; stroke-width: 1.5;\" width=\"66\" x=\"497\" y=\"189\"/><text fill=\"#000000\" font-family=\"sans-serif\" font-size=\"12\" font-style=\"italic\" lengthAdjust=\"spacingAndGlyphs\" textLength=\"64\" x=\"498\" y=\"205.1387\">«part def»</text><text fill=\"#000000\" font-family=\"sans-serif\" font-size=\"12\" lengthAdjust=\"spacingAndGlyphs\" textLength=\"8\" x=\"526\" y=\"219.1074\">P</text><line style=\"stroke: #383838; stroke-width: 1.5;\" x1=\"498\" x2=\"562\" y1=\"226.9375\" y2=\"226.9375\"/></a><!--MD5=[09b614a08d8cba4a07c9adeb5e0fee81]\n",
       "class E3--><a href=\"psysml:bb4f0587-9240-4f5c-8b68-755ceb30f0e1\" target=\"_top\" title=\"psysml:bb4f0587-9240-4f5c-8b68-755ceb30f0e1\" xlink:actuate=\"onRequest\" xlink:href=\"psysml:bb4f0587-9240-4f5c-8b68-755ceb30f0e1\" xlink:show=\"new\" xlink:title=\"psysml:bb4f0587-9240-4f5c-8b68-755ceb30f0e1\" xlink:type=\"simple\"><rect fill=\"#FFFFFF\" height=\"45.9375\" id=\"E3\" rx=\"10\" ry=\"10\" style=\"stroke: #383838; stroke-width: 1.5;\" width=\"71\" x=\"702.5\" y=\"62\"/><text fill=\"#000000\" font-family=\"sans-serif\" font-size=\"12\" font-style=\"italic\" lengthAdjust=\"spacingAndGlyphs\" textLength=\"69\" x=\"703.5\" y=\"78.1387\">«attribute»</text><text fill=\"#000000\" font-family=\"sans-serif\" font-size=\"12\" lengthAdjust=\"spacingAndGlyphs\" textLength=\"61\" x=\"707.5\" y=\"92.1074\">n: Integer</text><line style=\"stroke: #383838; stroke-width: 1.5;\" x1=\"703.5\" x2=\"772.5\" y1=\"99.9375\" y2=\"99.9375\"/></a><!--MD5=[ebbe1d658d1005bcc118a6aa81145e00]\n",
       "class E4--><a href=\"psysml:9d5a91ec-9b15-487c-8680-11258af91cb9\" target=\"_top\" title=\"psysml:9d5a91ec-9b15-487c-8680-11258af91cb9\" xlink:actuate=\"onRequest\" xlink:href=\"psysml:9d5a91ec-9b15-487c-8680-11258af91cb9\" xlink:show=\"new\" xlink:title=\"psysml:9d5a91ec-9b15-487c-8680-11258af91cb9\" xlink:type=\"simple\"><rect fill=\"#FFFFFF\" height=\"45.9375\" id=\"E4\" rx=\"10\" ry=\"10\" style=\"stroke: #383838; stroke-width: 1.5;\" width=\"42\" x=\"625\" y=\"62\"/><text fill=\"#000000\" font-family=\"sans-serif\" font-size=\"12\" font-style=\"italic\" lengthAdjust=\"spacingAndGlyphs\" textLength=\"40\" x=\"626\" y=\"78.1387\">«part»</text><text fill=\"#000000\" font-family=\"sans-serif\" font-size=\"12\" lengthAdjust=\"spacingAndGlyphs\" textLength=\"8\" x=\"642\" y=\"92.1074\">a</text><line style=\"stroke: #383838; stroke-width: 1.5;\" x1=\"626\" x2=\"666\" y1=\"99.9375\" y2=\"99.9375\"/></a><!--MD5=[270fce915f116d4de14055a7c1d9a0f3]\n",
       "class E5--><a href=\"psysml:0e6ddf84-4c23-42ff-8adf-60418e76591d\" target=\"_top\" title=\"psysml:0e6ddf84-4c23-42ff-8adf-60418e76591d\" xlink:actuate=\"onRequest\" xlink:href=\"psysml:0e6ddf84-4c23-42ff-8adf-60418e76591d\" xlink:show=\"new\" xlink:title=\"psysml:0e6ddf84-4c23-42ff-8adf-60418e76591d\" xlink:type=\"simple\"><rect fill=\"#FFFFFF\" height=\"45.9375\" id=\"E5\" rx=\"10\" ry=\"10\" style=\"stroke: #383838; stroke-width: 1.5;\" width=\"42\" x=\"548\" y=\"62\"/><text fill=\"#000000\" font-family=\"sans-serif\" font-size=\"12\" font-style=\"italic\" lengthAdjust=\"spacingAndGlyphs\" textLength=\"40\" x=\"549\" y=\"78.1387\">«part»</text><text fill=\"#000000\" font-family=\"sans-serif\" font-size=\"12\" lengthAdjust=\"spacingAndGlyphs\" textLength=\"24\" x=\"557\" y=\"92.1074\">b: P</text><line style=\"stroke: #383838; stroke-width: 1.5;\" x1=\"549\" x2=\"589\" y1=\"99.9375\" y2=\"99.9375\"/></a><!--MD5=[60a26617385b1d2d0262a64233df1f8d]\n",
       "class E6--><a href=\"psysml:7a390bd1-339b-4feb-982b-b3a6ee4de727\" target=\"_top\" title=\"psysml:7a390bd1-339b-4feb-982b-b3a6ee4de727\" xlink:actuate=\"onRequest\" xlink:href=\"psysml:7a390bd1-339b-4feb-982b-b3a6ee4de727\" xlink:show=\"new\" xlink:title=\"psysml:7a390bd1-339b-4feb-982b-b3a6ee4de727\" xlink:type=\"simple\"><rect fill=\"#FFFFFF\" height=\"45.9375\" id=\"E6\" rx=\"10\" ry=\"10\" style=\"stroke: #383838; stroke-width: 1.5;\" width=\"42\" x=\"471\" y=\"62\"/><text fill=\"#000000\" font-family=\"sans-serif\" font-size=\"12\" font-style=\"italic\" lengthAdjust=\"spacingAndGlyphs\" textLength=\"40\" x=\"472\" y=\"78.1387\">«part»</text><text fill=\"#000000\" font-family=\"sans-serif\" font-size=\"12\" lengthAdjust=\"spacingAndGlyphs\" textLength=\"23\" x=\"480.5\" y=\"92.1074\">c: P</text><line style=\"stroke: #383838; stroke-width: 1.5;\" x1=\"472\" x2=\"512\" y1=\"99.9375\" y2=\"99.9375\"/></a><!--MD5=[2156ba9850f5573cc1fc38a6a4b2f02b]\n",
       "class E7--><a href=\"psysml:c41308c3-3ab4-4c95-8873-b6daf8742442\" target=\"_top\" title=\"psysml:c41308c3-3ab4-4c95-8873-b6daf8742442\" xlink:actuate=\"onRequest\" xlink:href=\"psysml:c41308c3-3ab4-4c95-8873-b6daf8742442\" xlink:show=\"new\" xlink:title=\"psysml:c41308c3-3ab4-4c95-8873-b6daf8742442\" xlink:type=\"simple\"><rect fill=\"#FFFFFF\" height=\"45.9375\" id=\"E7\" rx=\"10\" ry=\"10\" style=\"stroke: #383838; stroke-width: 1.5;\" width=\"42\" x=\"394\" y=\"62\"/><text fill=\"#000000\" font-family=\"sans-serif\" font-size=\"12\" font-style=\"italic\" lengthAdjust=\"spacingAndGlyphs\" textLength=\"40\" x=\"395\" y=\"78.1387\">«part»</text><text fill=\"#000000\" font-family=\"sans-serif\" font-size=\"12\" lengthAdjust=\"spacingAndGlyphs\" textLength=\"8\" x=\"411\" y=\"92.1074\">d</text><line style=\"stroke: #383838; stroke-width: 1.5;\" x1=\"395\" x2=\"435\" y1=\"99.9375\" y2=\"99.9375\"/></a><!--MD5=[b9389687b975829384b498ac4b7476b2]\n",
       "class E8--><a href=\"psysml:4786ae2f-f4fb-4524-a996-e764bd48b2ea\" target=\"_top\" title=\"psysml:4786ae2f-f4fb-4524-a996-e764bd48b2ea\" xlink:actuate=\"onRequest\" xlink:href=\"psysml:4786ae2f-f4fb-4524-a996-e764bd48b2ea\" xlink:show=\"new\" xlink:title=\"psysml:4786ae2f-f4fb-4524-a996-e764bd48b2ea\" xlink:type=\"simple\"><rect fill=\"#FFFFFF\" height=\"45.9375\" id=\"E8\" rx=\"10\" ry=\"10\" style=\"stroke: #383838; stroke-width: 1.5;\" width=\"42\" x=\"317\" y=\"62\"/><text fill=\"#000000\" font-family=\"sans-serif\" font-size=\"12\" font-style=\"italic\" lengthAdjust=\"spacingAndGlyphs\" textLength=\"40\" x=\"318\" y=\"78.1387\">«part»</text><text fill=\"#000000\" font-family=\"sans-serif\" font-size=\"12\" lengthAdjust=\"spacingAndGlyphs\" textLength=\"8\" x=\"334\" y=\"92.1074\">e</text><line style=\"stroke: #383838; stroke-width: 1.5;\" x1=\"318\" x2=\"358\" y1=\"99.9375\" y2=\"99.9375\"/></a><!--MD5=[fd4143e9d270a159db93a4ea2a975926]\n",
       "class E9--><a href=\"psysml:f4778415-89ee-45ef-90f6-0fdee23f5f44\" target=\"_top\" title=\"psysml:f4778415-89ee-45ef-90f6-0fdee23f5f44\" xlink:actuate=\"onRequest\" xlink:href=\"psysml:f4778415-89ee-45ef-90f6-0fdee23f5f44\" xlink:show=\"new\" xlink:title=\"psysml:f4778415-89ee-45ef-90f6-0fdee23f5f44\" xlink:type=\"simple\"><rect fill=\"#FFFFFF\" height=\"45.9375\" id=\"E9\" rx=\"10\" ry=\"10\" style=\"stroke: #383838; stroke-width: 1.5;\" width=\"42\" x=\"240\" y=\"62\"/><text fill=\"#000000\" font-family=\"sans-serif\" font-size=\"12\" font-style=\"italic\" lengthAdjust=\"spacingAndGlyphs\" textLength=\"40\" x=\"241\" y=\"78.1387\">«part»</text><text fill=\"#000000\" font-family=\"sans-serif\" font-size=\"12\" lengthAdjust=\"spacingAndGlyphs\" textLength=\"4\" x=\"259\" y=\"92.1074\">f</text><line style=\"stroke: #383838; stroke-width: 1.5;\" x1=\"241\" x2=\"281\" y1=\"99.9375\" y2=\"99.9375\"/></a><!--MD5=[96f4274e9e20536e775497830990834d]\n",
       "class E10--><a href=\"psysml:54ce765f-cd4b-40e3-bd55-528058a48d88\" target=\"_top\" title=\"psysml:54ce765f-cd4b-40e3-bd55-528058a48d88\" xlink:actuate=\"onRequest\" xlink:href=\"psysml:54ce765f-cd4b-40e3-bd55-528058a48d88\" xlink:show=\"new\" xlink:title=\"psysml:54ce765f-cd4b-40e3-bd55-528058a48d88\" xlink:type=\"simple\"><rect fill=\"#FFFFFF\" height=\"45.9375\" id=\"E10\" rx=\"10\" ry=\"10\" style=\"stroke: #383838; stroke-width: 1.5;\" width=\"42\" x=\"163\" y=\"62\"/><text fill=\"#000000\" font-family=\"sans-serif\" font-size=\"12\" font-style=\"italic\" lengthAdjust=\"spacingAndGlyphs\" textLength=\"40\" x=\"164\" y=\"78.1387\">«part»</text><text fill=\"#000000\" font-family=\"sans-serif\" font-size=\"12\" lengthAdjust=\"spacingAndGlyphs\" textLength=\"8\" x=\"180\" y=\"92.1074\">g</text><line style=\"stroke: #383838; stroke-width: 1.5;\" x1=\"164\" x2=\"204\" y1=\"99.9375\" y2=\"99.9375\"/></a><!--MD5=[1dd1bfd58a279cf63c5f349dbc8fc6a1]\n",
       "class E11--><a href=\"psysml:39471be4-e308-48bc-96c2-d92b434b60c0\" target=\"_top\" title=\"psysml:39471be4-e308-48bc-96c2-d92b434b60c0\" xlink:actuate=\"onRequest\" xlink:href=\"psysml:39471be4-e308-48bc-96c2-d92b434b60c0\" xlink:show=\"new\" xlink:title=\"psysml:39471be4-e308-48bc-96c2-d92b434b60c0\" xlink:type=\"simple\"><rect fill=\"#FFFFFF\" height=\"88.3516\" id=\"E11\" style=\"stroke: #383838; stroke-width: 1.5;\" width=\"95\" x=\"32.5\" y=\"41\"/><text fill=\"#000000\" font-family=\"sans-serif\" font-size=\"12\" font-style=\"italic\" lengthAdjust=\"spacingAndGlyphs\" textLength=\"93\" x=\"33.5\" y=\"57.1387\">«attribute def»</text><text fill=\"#000000\" font-family=\"sans-serif\" font-size=\"12\" lengthAdjust=\"spacingAndGlyphs\" textLength=\"8\" x=\"76\" y=\"71.1074\">A</text><line style=\"stroke: #383838; stroke-width: 1.5;\" x1=\"33.5\" x2=\"126.5\" y1=\"78.9375\" y2=\"78.9375\"/><text fill=\"#000000\" font-family=\"sans-serif\" font-size=\"11\" lengthAdjust=\"spacingAndGlyphs\" textLength=\"51\" x=\"38.5\" y=\"109.9526\">i: Integer</text><text fill=\"#000000\" font-family=\"sans-serif\" font-size=\"11\" lengthAdjust=\"spacingAndGlyphs\" textLength=\"21\" x=\"38.5\" y=\"122.7573\">x: A</text><line style=\"stroke: #383838; stroke-width: 1.0;\" x1=\"33.5\" x2=\"52.5\" y1=\"93.3398\" y2=\"93.3398\"/><text fill=\"#000000\" font-family=\"sans-serif\" font-size=\"11\" lengthAdjust=\"spacingAndGlyphs\" textLength=\"55\" x=\"52.5\" y=\"96.6479\">attributes</text><line style=\"stroke: #383838; stroke-width: 1.0;\" x1=\"107.5\" x2=\"126.5\" y1=\"93.3398\" y2=\"93.3398\"/></a><!--MD5=[15ebcb19ae302d9b601edb458606d402]\n",
       "link E5 to E2--><a href=\"psysml:911f47bc-487d-4cbf-bcdd-94eeba00c89c\" target=\"_top\" title=\"psysml:911f47bc-487d-4cbf-bcdd-94eeba00c89c\" xlink:actuate=\"onRequest\" xlink:href=\"psysml:911f47bc-487d-4cbf-bcdd-94eeba00c89c\" xlink:show=\"new\" xlink:title=\"psysml:911f47bc-487d-4cbf-bcdd-94eeba00c89c\" xlink:type=\"simple\"><path d=\"M562.12,108.06 C556.83,125 549.38,148.89 542.98,169.39 \" fill=\"none\" id=\"E5-&gt;E2\" style=\"stroke: #383838; stroke-width: 1.0;\"/><polygon fill=\"#FFFFFF\" points=\"536.95,188.74,535.929,168.5173,549.2931,172.6886,536.95,188.74\" style=\"stroke: #383838; stroke-width: 1.0;\"/><ellipse cx=\"539.5364\" cy=\"163.6721\" fill=\"#383838\" rx=\"2\" ry=\"2\" style=\"stroke: #383838; stroke-width: 1.0;\"/><ellipse cx=\"549.0823\" cy=\"166.6516\" fill=\"#383838\" rx=\"2\" ry=\"2\" style=\"stroke: #383838; stroke-width: 1.0;\"/></a><!--MD5=[2351f337d6de0f557b50152ba70847b5]\n",
       "link E6 to E2--><a href=\"psysml:5d978d49-3aad-49b2-9a30-3bd5979ae9aa\" target=\"_top\" title=\"psysml:5d978d49-3aad-49b2-9a30-3bd5979ae9aa\" xlink:actuate=\"onRequest\" xlink:href=\"psysml:5d978d49-3aad-49b2-9a30-3bd5979ae9aa\" xlink:show=\"new\" xlink:title=\"psysml:5d978d49-3aad-49b2-9a30-3bd5979ae9aa\" xlink:type=\"simple\"><path d=\"M498.71,108.06 C503.86,125 511.12,148.89 517.35,169.39 \" fill=\"none\" id=\"E6-&gt;E2\" style=\"stroke: #383838; stroke-width: 1.0;\"/><polygon fill=\"#FFFFFF\" points=\"523.23,188.74,511.007,172.597,524.4019,168.5255,523.23,188.74\" style=\"stroke: #383838; stroke-width: 1.0;\"/><ellipse cx=\"511.2628\" cy=\"166.5617\" fill=\"#383838\" rx=\"2\" ry=\"2\" style=\"stroke: #383838; stroke-width: 1.0;\"/><ellipse cx=\"520.8306\" cy=\"163.6535\" fill=\"#383838\" rx=\"2\" ry=\"2\" style=\"stroke: #383838; stroke-width: 1.0;\"/></a><!--MD5=[0d1655100644eefde436d34eafd636e2]\n",
       "@startuml\r\n",
       "skinparam monochrome true\r\n",
       "skinparam classbackgroundcolor white\r\n",
       "skinparam shadowing false\r\n",
       "skinparam wrapWidth 300\r\n",
       "hide circle\r\n",
       "\r\n",
       "package \"MultiplicityTest\" as E1  [[psysml:0be6947d-aa66-4017-a009-04bc0f7b30c5 ]]  {\r\n",
       "comp def \"P\" as E2  <<(T,blue)part def>> [[psysml:9ab3d3ff-483c-4e41-ada7-ab2d8c979da0 ]] {\r\n",
       "}\r\n",
       "comp usage \"n: Integer\" as E3  <<(T,blue)attribute>> [[psysml:bb4f0587-9240-4f5c-8b68-755ceb30f0e1 ]] {\r\n",
       "}\r\n",
       "comp usage \"a\" as E4  <<(T,blue)part>> [[psysml:9d5a91ec-9b15-487c-8680-11258af91cb9 ]] {\r\n",
       "}\r\n",
       "comp usage \"b: P\" as E5  <<(T,blue)part>> [[psysml:0e6ddf84-4c23-42ff-8adf-60418e76591d ]] {\r\n",
       "}\r\n",
       "comp usage \"c: P\" as E6  <<(T,blue)part>> [[psysml:7a390bd1-339b-4feb-982b-b3a6ee4de727 ]] {\r\n",
       "}\r\n",
       "comp usage \"d\" as E7  <<(T,blue)part>> [[psysml:c41308c3-3ab4-4c95-8873-b6daf8742442 ]] {\r\n",
       "}\r\n",
       "comp usage \"e\" as E8  <<(T,blue)part>> [[psysml:4786ae2f-f4fb-4524-a996-e764bd48b2ea ]] {\r\n",
       "}\r\n",
       "comp usage \"f\" as E9  <<(T,blue)part>> [[psysml:f4778415-89ee-45ef-90f6-0fdee23f5f44 ]] {\r\n",
       "}\r\n",
       "comp usage \"g\" as E10  <<(T,blue)part>> [[psysml:54ce765f-cd4b-40e3-bd55-528058a48d88 ]] {\r\n",
       "}\r\n",
       "comp def \"A\" as E11  <<(T,blue)attribute def>> [[psysml:39471be4-e308-48bc-96c2-d92b434b60c0 ]] {\r\n",
       "- - attributes - -\r\n",
       "i: Integer\r\n",
       "x: A\r\n",
       "}\r\n",
       "E5 - -:|> E2 [[psysml:911f47bc-487d-4cbf-bcdd-94eeba00c89c ]] \r\n",
       "E6 - -:|> E2 [[psysml:5d978d49-3aad-49b2-9a30-3bd5979ae9aa ]] \r\n",
       "}\r\n",
       "@enduml\r\n",
       "\n",
       "PlantUML version 1.2020.13(Sat Jun 13 12:26:38 UTC 2020)\n",
       "(EPL source distribution)\n",
       "Java Runtime: OpenJDK Runtime Environment\n",
       "JVM: OpenJDK 64-Bit Server VM\n",
       "Default Encoding: UTF-8\n",
       "Language: en\n",
       "Country: null\n",
       "--></g></svg>"
      ]
     },
     "execution_count": 43,
     "metadata": {},
     "output_type": "execute_result"
    }
   ],
   "source": [
    "%viz --style=\"DEFAULT\" --view=\"MIXED\" \"MultiplicityTest\""
   ]
  },
  {
   "cell_type": "code",
   "execution_count": 44,
   "id": "8e2619e0",
   "metadata": {
    "execution": {
     "iopub.execute_input": "2021-04-21T20:26:45.065003Z",
     "iopub.status.busy": "2021-04-21T20:26:45.064173Z",
     "iopub.status.idle": "2021-04-21T20:26:45.120201Z",
     "shell.execute_reply": "2021-04-21T20:26:45.118027Z"
    }
   },
   "outputs": [
    {
     "data": {
      "image/svg+xml": [
       "<?xml version=\"1.0\" encoding=\"UTF-8\" standalone=\"no\"?><svg xmlns=\"http://www.w3.org/2000/svg\" xmlns:xlink=\"http://www.w3.org/1999/xlink\" contentScriptType=\"application/ecmascript\" contentStyleType=\"text/css\" height=\"263px\" preserveAspectRatio=\"none\" style=\"width:812px;height:263px;\" version=\"1.1\" viewBox=\"0 0 812 263\" width=\"812px\" zoomAndPan=\"magnify\"><defs/><g><!--MD5=[fbc87193dbaf4d95561dea2c320d4a47]\n",
       "cluster E1--><a href=\"psysml:0be6947d-aa66-4017-a009-04bc0f7b30c5\" target=\"_top\" title=\"psysml:0be6947d-aa66-4017-a009-04bc0f7b30c5\" xlink:actuate=\"onRequest\" xlink:href=\"psysml:0be6947d-aa66-4017-a009-04bc0f7b30c5\" xlink:show=\"new\" xlink:title=\"psysml:0be6947d-aa66-4017-a009-04bc0f7b30c5\" xlink:type=\"simple\"><polygon fill=\"#FFFFFF\" points=\"16,6,140,6,147,28.2969,790,28.2969,790,251,16,251,16,6\" style=\"stroke: #000000; stroke-width: 1.5;\"/><line style=\"stroke: #000000; stroke-width: 1.5;\" x1=\"16\" x2=\"147\" y1=\"28.2969\" y2=\"28.2969\"/><text fill=\"#000000\" font-family=\"sans-serif\" font-size=\"14\" font-weight=\"bold\" lengthAdjust=\"spacingAndGlyphs\" textLength=\"118\" x=\"20\" y=\"20.9951\">MultiplicityTest</text></a><!--MD5=[b4997ac47864f28c2f74865a473b2911]\n",
       "class E2--><a href=\"psysml:9ab3d3ff-483c-4e41-ada7-ab2d8c979da0\" target=\"_top\" title=\"psysml:9ab3d3ff-483c-4e41-ada7-ab2d8c979da0\" xlink:actuate=\"onRequest\" xlink:href=\"psysml:9ab3d3ff-483c-4e41-ada7-ab2d8c979da0\" xlink:show=\"new\" xlink:title=\"psysml:9ab3d3ff-483c-4e41-ada7-ab2d8c979da0\" xlink:type=\"simple\"><rect fill=\"#FFFFFF\" height=\"45.9375\" id=\"E2\" style=\"stroke: #383838; stroke-width: 1.5;\" width=\"66\" x=\"497\" y=\"189\"/><text fill=\"#000000\" font-family=\"sans-serif\" font-size=\"12\" font-style=\"italic\" lengthAdjust=\"spacingAndGlyphs\" textLength=\"64\" x=\"498\" y=\"205.1387\">«part def»</text><text fill=\"#000000\" font-family=\"sans-serif\" font-size=\"12\" lengthAdjust=\"spacingAndGlyphs\" textLength=\"8\" x=\"526\" y=\"219.1074\">P</text><line style=\"stroke: #383838; stroke-width: 1.5;\" x1=\"498\" x2=\"562\" y1=\"226.9375\" y2=\"226.9375\"/></a><!--MD5=[09b614a08d8cba4a07c9adeb5e0fee81]\n",
       "class E3--><a href=\"psysml:bb4f0587-9240-4f5c-8b68-755ceb30f0e1\" target=\"_top\" title=\"psysml:bb4f0587-9240-4f5c-8b68-755ceb30f0e1\" xlink:actuate=\"onRequest\" xlink:href=\"psysml:bb4f0587-9240-4f5c-8b68-755ceb30f0e1\" xlink:show=\"new\" xlink:title=\"psysml:bb4f0587-9240-4f5c-8b68-755ceb30f0e1\" xlink:type=\"simple\"><rect fill=\"#FFFFFF\" height=\"45.9375\" id=\"E3\" rx=\"10\" ry=\"10\" style=\"stroke: #383838; stroke-width: 1.5;\" width=\"71\" x=\"702.5\" y=\"62\"/><text fill=\"#000000\" font-family=\"sans-serif\" font-size=\"12\" font-style=\"italic\" lengthAdjust=\"spacingAndGlyphs\" textLength=\"69\" x=\"703.5\" y=\"78.1387\">«attribute»</text><text fill=\"#000000\" font-family=\"sans-serif\" font-size=\"12\" lengthAdjust=\"spacingAndGlyphs\" textLength=\"61\" x=\"707.5\" y=\"92.1074\">n: Integer</text><line style=\"stroke: #383838; stroke-width: 1.5;\" x1=\"703.5\" x2=\"772.5\" y1=\"99.9375\" y2=\"99.9375\"/></a><!--MD5=[ebbe1d658d1005bcc118a6aa81145e00]\n",
       "class E4--><a href=\"psysml:9d5a91ec-9b15-487c-8680-11258af91cb9\" target=\"_top\" title=\"psysml:9d5a91ec-9b15-487c-8680-11258af91cb9\" xlink:actuate=\"onRequest\" xlink:href=\"psysml:9d5a91ec-9b15-487c-8680-11258af91cb9\" xlink:show=\"new\" xlink:title=\"psysml:9d5a91ec-9b15-487c-8680-11258af91cb9\" xlink:type=\"simple\"><rect fill=\"#FFFFFF\" height=\"45.9375\" id=\"E4\" rx=\"10\" ry=\"10\" style=\"stroke: #383838; stroke-width: 1.5;\" width=\"42\" x=\"625\" y=\"62\"/><text fill=\"#000000\" font-family=\"sans-serif\" font-size=\"12\" font-style=\"italic\" lengthAdjust=\"spacingAndGlyphs\" textLength=\"40\" x=\"626\" y=\"78.1387\">«part»</text><text fill=\"#000000\" font-family=\"sans-serif\" font-size=\"12\" lengthAdjust=\"spacingAndGlyphs\" textLength=\"8\" x=\"642\" y=\"92.1074\">a</text><line style=\"stroke: #383838; stroke-width: 1.5;\" x1=\"626\" x2=\"666\" y1=\"99.9375\" y2=\"99.9375\"/></a><!--MD5=[270fce915f116d4de14055a7c1d9a0f3]\n",
       "class E5--><a href=\"psysml:0e6ddf84-4c23-42ff-8adf-60418e76591d\" target=\"_top\" title=\"psysml:0e6ddf84-4c23-42ff-8adf-60418e76591d\" xlink:actuate=\"onRequest\" xlink:href=\"psysml:0e6ddf84-4c23-42ff-8adf-60418e76591d\" xlink:show=\"new\" xlink:title=\"psysml:0e6ddf84-4c23-42ff-8adf-60418e76591d\" xlink:type=\"simple\"><rect fill=\"#FFFFFF\" height=\"45.9375\" id=\"E5\" rx=\"10\" ry=\"10\" style=\"stroke: #383838; stroke-width: 1.5;\" width=\"42\" x=\"548\" y=\"62\"/><text fill=\"#000000\" font-family=\"sans-serif\" font-size=\"12\" font-style=\"italic\" lengthAdjust=\"spacingAndGlyphs\" textLength=\"40\" x=\"549\" y=\"78.1387\">«part»</text><text fill=\"#000000\" font-family=\"sans-serif\" font-size=\"12\" lengthAdjust=\"spacingAndGlyphs\" textLength=\"24\" x=\"557\" y=\"92.1074\">b: P</text><line style=\"stroke: #383838; stroke-width: 1.5;\" x1=\"549\" x2=\"589\" y1=\"99.9375\" y2=\"99.9375\"/></a><!--MD5=[60a26617385b1d2d0262a64233df1f8d]\n",
       "class E6--><a href=\"psysml:7a390bd1-339b-4feb-982b-b3a6ee4de727\" target=\"_top\" title=\"psysml:7a390bd1-339b-4feb-982b-b3a6ee4de727\" xlink:actuate=\"onRequest\" xlink:href=\"psysml:7a390bd1-339b-4feb-982b-b3a6ee4de727\" xlink:show=\"new\" xlink:title=\"psysml:7a390bd1-339b-4feb-982b-b3a6ee4de727\" xlink:type=\"simple\"><rect fill=\"#FFFFFF\" height=\"45.9375\" id=\"E6\" rx=\"10\" ry=\"10\" style=\"stroke: #383838; stroke-width: 1.5;\" width=\"42\" x=\"471\" y=\"62\"/><text fill=\"#000000\" font-family=\"sans-serif\" font-size=\"12\" font-style=\"italic\" lengthAdjust=\"spacingAndGlyphs\" textLength=\"40\" x=\"472\" y=\"78.1387\">«part»</text><text fill=\"#000000\" font-family=\"sans-serif\" font-size=\"12\" lengthAdjust=\"spacingAndGlyphs\" textLength=\"23\" x=\"480.5\" y=\"92.1074\">c: P</text><line style=\"stroke: #383838; stroke-width: 1.5;\" x1=\"472\" x2=\"512\" y1=\"99.9375\" y2=\"99.9375\"/></a><!--MD5=[2156ba9850f5573cc1fc38a6a4b2f02b]\n",
       "class E7--><a href=\"psysml:c41308c3-3ab4-4c95-8873-b6daf8742442\" target=\"_top\" title=\"psysml:c41308c3-3ab4-4c95-8873-b6daf8742442\" xlink:actuate=\"onRequest\" xlink:href=\"psysml:c41308c3-3ab4-4c95-8873-b6daf8742442\" xlink:show=\"new\" xlink:title=\"psysml:c41308c3-3ab4-4c95-8873-b6daf8742442\" xlink:type=\"simple\"><rect fill=\"#FFFFFF\" height=\"45.9375\" id=\"E7\" rx=\"10\" ry=\"10\" style=\"stroke: #383838; stroke-width: 1.5;\" width=\"42\" x=\"394\" y=\"62\"/><text fill=\"#000000\" font-family=\"sans-serif\" font-size=\"12\" font-style=\"italic\" lengthAdjust=\"spacingAndGlyphs\" textLength=\"40\" x=\"395\" y=\"78.1387\">«part»</text><text fill=\"#000000\" font-family=\"sans-serif\" font-size=\"12\" lengthAdjust=\"spacingAndGlyphs\" textLength=\"8\" x=\"411\" y=\"92.1074\">d</text><line style=\"stroke: #383838; stroke-width: 1.5;\" x1=\"395\" x2=\"435\" y1=\"99.9375\" y2=\"99.9375\"/></a><!--MD5=[b9389687b975829384b498ac4b7476b2]\n",
       "class E8--><a href=\"psysml:4786ae2f-f4fb-4524-a996-e764bd48b2ea\" target=\"_top\" title=\"psysml:4786ae2f-f4fb-4524-a996-e764bd48b2ea\" xlink:actuate=\"onRequest\" xlink:href=\"psysml:4786ae2f-f4fb-4524-a996-e764bd48b2ea\" xlink:show=\"new\" xlink:title=\"psysml:4786ae2f-f4fb-4524-a996-e764bd48b2ea\" xlink:type=\"simple\"><rect fill=\"#FFFFFF\" height=\"45.9375\" id=\"E8\" rx=\"10\" ry=\"10\" style=\"stroke: #383838; stroke-width: 1.5;\" width=\"42\" x=\"317\" y=\"62\"/><text fill=\"#000000\" font-family=\"sans-serif\" font-size=\"12\" font-style=\"italic\" lengthAdjust=\"spacingAndGlyphs\" textLength=\"40\" x=\"318\" y=\"78.1387\">«part»</text><text fill=\"#000000\" font-family=\"sans-serif\" font-size=\"12\" lengthAdjust=\"spacingAndGlyphs\" textLength=\"8\" x=\"334\" y=\"92.1074\">e</text><line style=\"stroke: #383838; stroke-width: 1.5;\" x1=\"318\" x2=\"358\" y1=\"99.9375\" y2=\"99.9375\"/></a><!--MD5=[fd4143e9d270a159db93a4ea2a975926]\n",
       "class E9--><a href=\"psysml:f4778415-89ee-45ef-90f6-0fdee23f5f44\" target=\"_top\" title=\"psysml:f4778415-89ee-45ef-90f6-0fdee23f5f44\" xlink:actuate=\"onRequest\" xlink:href=\"psysml:f4778415-89ee-45ef-90f6-0fdee23f5f44\" xlink:show=\"new\" xlink:title=\"psysml:f4778415-89ee-45ef-90f6-0fdee23f5f44\" xlink:type=\"simple\"><rect fill=\"#FFFFFF\" height=\"45.9375\" id=\"E9\" rx=\"10\" ry=\"10\" style=\"stroke: #383838; stroke-width: 1.5;\" width=\"42\" x=\"240\" y=\"62\"/><text fill=\"#000000\" font-family=\"sans-serif\" font-size=\"12\" font-style=\"italic\" lengthAdjust=\"spacingAndGlyphs\" textLength=\"40\" x=\"241\" y=\"78.1387\">«part»</text><text fill=\"#000000\" font-family=\"sans-serif\" font-size=\"12\" lengthAdjust=\"spacingAndGlyphs\" textLength=\"4\" x=\"259\" y=\"92.1074\">f</text><line style=\"stroke: #383838; stroke-width: 1.5;\" x1=\"241\" x2=\"281\" y1=\"99.9375\" y2=\"99.9375\"/></a><!--MD5=[96f4274e9e20536e775497830990834d]\n",
       "class E10--><a href=\"psysml:54ce765f-cd4b-40e3-bd55-528058a48d88\" target=\"_top\" title=\"psysml:54ce765f-cd4b-40e3-bd55-528058a48d88\" xlink:actuate=\"onRequest\" xlink:href=\"psysml:54ce765f-cd4b-40e3-bd55-528058a48d88\" xlink:show=\"new\" xlink:title=\"psysml:54ce765f-cd4b-40e3-bd55-528058a48d88\" xlink:type=\"simple\"><rect fill=\"#FFFFFF\" height=\"45.9375\" id=\"E10\" rx=\"10\" ry=\"10\" style=\"stroke: #383838; stroke-width: 1.5;\" width=\"42\" x=\"163\" y=\"62\"/><text fill=\"#000000\" font-family=\"sans-serif\" font-size=\"12\" font-style=\"italic\" lengthAdjust=\"spacingAndGlyphs\" textLength=\"40\" x=\"164\" y=\"78.1387\">«part»</text><text fill=\"#000000\" font-family=\"sans-serif\" font-size=\"12\" lengthAdjust=\"spacingAndGlyphs\" textLength=\"8\" x=\"180\" y=\"92.1074\">g</text><line style=\"stroke: #383838; stroke-width: 1.5;\" x1=\"164\" x2=\"204\" y1=\"99.9375\" y2=\"99.9375\"/></a><!--MD5=[1dd1bfd58a279cf63c5f349dbc8fc6a1]\n",
       "class E11--><a href=\"psysml:39471be4-e308-48bc-96c2-d92b434b60c0\" target=\"_top\" title=\"psysml:39471be4-e308-48bc-96c2-d92b434b60c0\" xlink:actuate=\"onRequest\" xlink:href=\"psysml:39471be4-e308-48bc-96c2-d92b434b60c0\" xlink:show=\"new\" xlink:title=\"psysml:39471be4-e308-48bc-96c2-d92b434b60c0\" xlink:type=\"simple\"><rect fill=\"#FFFFFF\" height=\"88.3516\" id=\"E11\" style=\"stroke: #383838; stroke-width: 1.5;\" width=\"95\" x=\"32.5\" y=\"41\"/><text fill=\"#000000\" font-family=\"sans-serif\" font-size=\"12\" font-style=\"italic\" lengthAdjust=\"spacingAndGlyphs\" textLength=\"93\" x=\"33.5\" y=\"57.1387\">«attribute def»</text><text fill=\"#000000\" font-family=\"sans-serif\" font-size=\"12\" lengthAdjust=\"spacingAndGlyphs\" textLength=\"8\" x=\"76\" y=\"71.1074\">A</text><line style=\"stroke: #383838; stroke-width: 1.5;\" x1=\"33.5\" x2=\"126.5\" y1=\"78.9375\" y2=\"78.9375\"/><text fill=\"#000000\" font-family=\"sans-serif\" font-size=\"11\" lengthAdjust=\"spacingAndGlyphs\" textLength=\"51\" x=\"38.5\" y=\"109.9526\">i: Integer</text><text fill=\"#000000\" font-family=\"sans-serif\" font-size=\"11\" lengthAdjust=\"spacingAndGlyphs\" textLength=\"21\" x=\"38.5\" y=\"122.7573\">x: A</text><line style=\"stroke: #383838; stroke-width: 1.0;\" x1=\"33.5\" x2=\"52.5\" y1=\"93.3398\" y2=\"93.3398\"/><text fill=\"#000000\" font-family=\"sans-serif\" font-size=\"11\" lengthAdjust=\"spacingAndGlyphs\" textLength=\"55\" x=\"52.5\" y=\"96.6479\">attributes</text><line style=\"stroke: #383838; stroke-width: 1.0;\" x1=\"107.5\" x2=\"126.5\" y1=\"93.3398\" y2=\"93.3398\"/></a><!--MD5=[15ebcb19ae302d9b601edb458606d402]\n",
       "link E5 to E2--><a href=\"psysml:911f47bc-487d-4cbf-bcdd-94eeba00c89c\" target=\"_top\" title=\"psysml:911f47bc-487d-4cbf-bcdd-94eeba00c89c\" xlink:actuate=\"onRequest\" xlink:href=\"psysml:911f47bc-487d-4cbf-bcdd-94eeba00c89c\" xlink:show=\"new\" xlink:title=\"psysml:911f47bc-487d-4cbf-bcdd-94eeba00c89c\" xlink:type=\"simple\"><path d=\"M562.12,108.06 C556.83,125 549.38,148.89 542.98,169.39 \" fill=\"none\" id=\"E5-&gt;E2\" style=\"stroke: #383838; stroke-width: 1.0;\"/><polygon fill=\"#FFFFFF\" points=\"536.95,188.74,535.929,168.5173,549.2931,172.6886,536.95,188.74\" style=\"stroke: #383838; stroke-width: 1.0;\"/><ellipse cx=\"539.5364\" cy=\"163.6721\" fill=\"#383838\" rx=\"2\" ry=\"2\" style=\"stroke: #383838; stroke-width: 1.0;\"/><ellipse cx=\"549.0823\" cy=\"166.6516\" fill=\"#383838\" rx=\"2\" ry=\"2\" style=\"stroke: #383838; stroke-width: 1.0;\"/></a><!--MD5=[2351f337d6de0f557b50152ba70847b5]\n",
       "link E6 to E2--><a href=\"psysml:5d978d49-3aad-49b2-9a30-3bd5979ae9aa\" target=\"_top\" title=\"psysml:5d978d49-3aad-49b2-9a30-3bd5979ae9aa\" xlink:actuate=\"onRequest\" xlink:href=\"psysml:5d978d49-3aad-49b2-9a30-3bd5979ae9aa\" xlink:show=\"new\" xlink:title=\"psysml:5d978d49-3aad-49b2-9a30-3bd5979ae9aa\" xlink:type=\"simple\"><path d=\"M498.71,108.06 C503.86,125 511.12,148.89 517.35,169.39 \" fill=\"none\" id=\"E6-&gt;E2\" style=\"stroke: #383838; stroke-width: 1.0;\"/><polygon fill=\"#FFFFFF\" points=\"523.23,188.74,511.007,172.597,524.4019,168.5255,523.23,188.74\" style=\"stroke: #383838; stroke-width: 1.0;\"/><ellipse cx=\"511.2628\" cy=\"166.5617\" fill=\"#383838\" rx=\"2\" ry=\"2\" style=\"stroke: #383838; stroke-width: 1.0;\"/><ellipse cx=\"520.8306\" cy=\"163.6535\" fill=\"#383838\" rx=\"2\" ry=\"2\" style=\"stroke: #383838; stroke-width: 1.0;\"/></a><!--MD5=[7259fc24937634f8031a2465e2612a9a]\n",
       "@startuml\r\n",
       "top to bottom direction\r\n",
       "skinparam monochrome true\r\n",
       "skinparam classbackgroundcolor white\r\n",
       "skinparam shadowing false\r\n",
       "skinparam wrapWidth 300\r\n",
       "hide circle\r\n",
       "\r\n",
       "package \"MultiplicityTest\" as E1  [[psysml:0be6947d-aa66-4017-a009-04bc0f7b30c5 ]]  {\r\n",
       "comp def \"P\" as E2  <<(T,blue)part def>> [[psysml:9ab3d3ff-483c-4e41-ada7-ab2d8c979da0 ]] {\r\n",
       "}\r\n",
       "comp usage \"n: Integer\" as E3  <<(T,blue)attribute>> [[psysml:bb4f0587-9240-4f5c-8b68-755ceb30f0e1 ]] {\r\n",
       "}\r\n",
       "comp usage \"a\" as E4  <<(T,blue)part>> [[psysml:9d5a91ec-9b15-487c-8680-11258af91cb9 ]] {\r\n",
       "}\r\n",
       "comp usage \"b: P\" as E5  <<(T,blue)part>> [[psysml:0e6ddf84-4c23-42ff-8adf-60418e76591d ]] {\r\n",
       "}\r\n",
       "comp usage \"c: P\" as E6  <<(T,blue)part>> [[psysml:7a390bd1-339b-4feb-982b-b3a6ee4de727 ]] {\r\n",
       "}\r\n",
       "comp usage \"d\" as E7  <<(T,blue)part>> [[psysml:c41308c3-3ab4-4c95-8873-b6daf8742442 ]] {\r\n",
       "}\r\n",
       "comp usage \"e\" as E8  <<(T,blue)part>> [[psysml:4786ae2f-f4fb-4524-a996-e764bd48b2ea ]] {\r\n",
       "}\r\n",
       "comp usage \"f\" as E9  <<(T,blue)part>> [[psysml:f4778415-89ee-45ef-90f6-0fdee23f5f44 ]] {\r\n",
       "}\r\n",
       "comp usage \"g\" as E10  <<(T,blue)part>> [[psysml:54ce765f-cd4b-40e3-bd55-528058a48d88 ]] {\r\n",
       "}\r\n",
       "comp def \"A\" as E11  <<(T,blue)attribute def>> [[psysml:39471be4-e308-48bc-96c2-d92b434b60c0 ]] {\r\n",
       "- - attributes - -\r\n",
       "i: Integer\r\n",
       "x: A\r\n",
       "}\r\n",
       "E5 - -:|> E2 [[psysml:911f47bc-487d-4cbf-bcdd-94eeba00c89c ]] \r\n",
       "E6 - -:|> E2 [[psysml:5d978d49-3aad-49b2-9a30-3bd5979ae9aa ]] \r\n",
       "}\r\n",
       "@enduml\r\n",
       "\n",
       "PlantUML version 1.2020.13(Sat Jun 13 12:26:38 UTC 2020)\n",
       "(EPL source distribution)\n",
       "Java Runtime: OpenJDK Runtime Environment\n",
       "JVM: OpenJDK 64-Bit Server VM\n",
       "Default Encoding: UTF-8\n",
       "Language: en\n",
       "Country: null\n",
       "--></g></svg>"
      ]
     },
     "execution_count": 44,
     "metadata": {},
     "output_type": "execute_result"
    }
   ],
   "source": [
    "%viz --style=\"TB\" --view=\"Default\" \"MultiplicityTest\""
   ]
  },
  {
   "cell_type": "code",
   "execution_count": 45,
   "id": "f1f033e6",
   "metadata": {
    "execution": {
     "iopub.execute_input": "2021-04-21T20:26:45.168977Z",
     "iopub.status.busy": "2021-04-21T20:26:45.168621Z",
     "iopub.status.idle": "2021-04-21T20:26:45.218838Z",
     "shell.execute_reply": "2021-04-21T20:26:45.218454Z"
    }
   },
   "outputs": [
    {
     "data": {
      "image/svg+xml": [
       "<?xml version=\"1.0\" encoding=\"UTF-8\" standalone=\"no\"?><svg xmlns=\"http://www.w3.org/2000/svg\" xmlns:xlink=\"http://www.w3.org/1999/xlink\" contentScriptType=\"application/ecmascript\" contentStyleType=\"text/css\" height=\"263px\" preserveAspectRatio=\"none\" style=\"width:812px;height:263px;\" version=\"1.1\" viewBox=\"0 0 812 263\" width=\"812px\" zoomAndPan=\"magnify\"><defs/><g><!--MD5=[fbc87193dbaf4d95561dea2c320d4a47]\n",
       "cluster E1--><a href=\"psysml:0be6947d-aa66-4017-a009-04bc0f7b30c5\" target=\"_top\" title=\"psysml:0be6947d-aa66-4017-a009-04bc0f7b30c5\" xlink:actuate=\"onRequest\" xlink:href=\"psysml:0be6947d-aa66-4017-a009-04bc0f7b30c5\" xlink:show=\"new\" xlink:title=\"psysml:0be6947d-aa66-4017-a009-04bc0f7b30c5\" xlink:type=\"simple\"><polygon fill=\"#FFFFFF\" points=\"16,6,140,6,147,28.2969,790,28.2969,790,251,16,251,16,6\" style=\"stroke: #000000; stroke-width: 1.5;\"/><line style=\"stroke: #000000; stroke-width: 1.5;\" x1=\"16\" x2=\"147\" y1=\"28.2969\" y2=\"28.2969\"/><text fill=\"#000000\" font-family=\"sans-serif\" font-size=\"14\" font-weight=\"bold\" lengthAdjust=\"spacingAndGlyphs\" textLength=\"118\" x=\"20\" y=\"20.9951\">MultiplicityTest</text></a><!--MD5=[b4997ac47864f28c2f74865a473b2911]\n",
       "class E2--><a href=\"psysml:9ab3d3ff-483c-4e41-ada7-ab2d8c979da0\" target=\"_top\" title=\"psysml:9ab3d3ff-483c-4e41-ada7-ab2d8c979da0\" xlink:actuate=\"onRequest\" xlink:href=\"psysml:9ab3d3ff-483c-4e41-ada7-ab2d8c979da0\" xlink:show=\"new\" xlink:title=\"psysml:9ab3d3ff-483c-4e41-ada7-ab2d8c979da0\" xlink:type=\"simple\"><rect fill=\"#FFFFFF\" height=\"45.9375\" id=\"E2\" style=\"stroke: #383838; stroke-width: 1.5;\" width=\"66\" x=\"497\" y=\"189\"/><text fill=\"#000000\" font-family=\"sans-serif\" font-size=\"12\" font-style=\"italic\" lengthAdjust=\"spacingAndGlyphs\" textLength=\"64\" x=\"498\" y=\"205.1387\">«part def»</text><text fill=\"#000000\" font-family=\"sans-serif\" font-size=\"12\" lengthAdjust=\"spacingAndGlyphs\" textLength=\"8\" x=\"526\" y=\"219.1074\">P</text><line style=\"stroke: #383838; stroke-width: 1.5;\" x1=\"498\" x2=\"562\" y1=\"226.9375\" y2=\"226.9375\"/></a><!--MD5=[09b614a08d8cba4a07c9adeb5e0fee81]\n",
       "class E3--><a href=\"psysml:bb4f0587-9240-4f5c-8b68-755ceb30f0e1\" target=\"_top\" title=\"psysml:bb4f0587-9240-4f5c-8b68-755ceb30f0e1\" xlink:actuate=\"onRequest\" xlink:href=\"psysml:bb4f0587-9240-4f5c-8b68-755ceb30f0e1\" xlink:show=\"new\" xlink:title=\"psysml:bb4f0587-9240-4f5c-8b68-755ceb30f0e1\" xlink:type=\"simple\"><rect fill=\"#FFFFFF\" height=\"45.9375\" id=\"E3\" rx=\"10\" ry=\"10\" style=\"stroke: #383838; stroke-width: 1.5;\" width=\"71\" x=\"702.5\" y=\"62\"/><text fill=\"#000000\" font-family=\"sans-serif\" font-size=\"12\" font-style=\"italic\" lengthAdjust=\"spacingAndGlyphs\" textLength=\"69\" x=\"703.5\" y=\"78.1387\">«attribute»</text><text fill=\"#000000\" font-family=\"sans-serif\" font-size=\"12\" lengthAdjust=\"spacingAndGlyphs\" textLength=\"61\" x=\"707.5\" y=\"92.1074\">n: Integer</text><line style=\"stroke: #383838; stroke-width: 1.5;\" x1=\"703.5\" x2=\"772.5\" y1=\"99.9375\" y2=\"99.9375\"/></a><!--MD5=[ebbe1d658d1005bcc118a6aa81145e00]\n",
       "class E4--><a href=\"psysml:9d5a91ec-9b15-487c-8680-11258af91cb9\" target=\"_top\" title=\"psysml:9d5a91ec-9b15-487c-8680-11258af91cb9\" xlink:actuate=\"onRequest\" xlink:href=\"psysml:9d5a91ec-9b15-487c-8680-11258af91cb9\" xlink:show=\"new\" xlink:title=\"psysml:9d5a91ec-9b15-487c-8680-11258af91cb9\" xlink:type=\"simple\"><rect fill=\"#FFFFFF\" height=\"45.9375\" id=\"E4\" rx=\"10\" ry=\"10\" style=\"stroke: #383838; stroke-width: 1.5;\" width=\"42\" x=\"625\" y=\"62\"/><text fill=\"#000000\" font-family=\"sans-serif\" font-size=\"12\" font-style=\"italic\" lengthAdjust=\"spacingAndGlyphs\" textLength=\"40\" x=\"626\" y=\"78.1387\">«part»</text><text fill=\"#000000\" font-family=\"sans-serif\" font-size=\"12\" lengthAdjust=\"spacingAndGlyphs\" textLength=\"8\" x=\"642\" y=\"92.1074\">a</text><line style=\"stroke: #383838; stroke-width: 1.5;\" x1=\"626\" x2=\"666\" y1=\"99.9375\" y2=\"99.9375\"/></a><!--MD5=[270fce915f116d4de14055a7c1d9a0f3]\n",
       "class E5--><a href=\"psysml:0e6ddf84-4c23-42ff-8adf-60418e76591d\" target=\"_top\" title=\"psysml:0e6ddf84-4c23-42ff-8adf-60418e76591d\" xlink:actuate=\"onRequest\" xlink:href=\"psysml:0e6ddf84-4c23-42ff-8adf-60418e76591d\" xlink:show=\"new\" xlink:title=\"psysml:0e6ddf84-4c23-42ff-8adf-60418e76591d\" xlink:type=\"simple\"><rect fill=\"#FFFFFF\" height=\"45.9375\" id=\"E5\" rx=\"10\" ry=\"10\" style=\"stroke: #383838; stroke-width: 1.5;\" width=\"42\" x=\"548\" y=\"62\"/><text fill=\"#000000\" font-family=\"sans-serif\" font-size=\"12\" font-style=\"italic\" lengthAdjust=\"spacingAndGlyphs\" textLength=\"40\" x=\"549\" y=\"78.1387\">«part»</text><text fill=\"#000000\" font-family=\"sans-serif\" font-size=\"12\" lengthAdjust=\"spacingAndGlyphs\" textLength=\"24\" x=\"557\" y=\"92.1074\">b: P</text><line style=\"stroke: #383838; stroke-width: 1.5;\" x1=\"549\" x2=\"589\" y1=\"99.9375\" y2=\"99.9375\"/></a><!--MD5=[60a26617385b1d2d0262a64233df1f8d]\n",
       "class E6--><a href=\"psysml:7a390bd1-339b-4feb-982b-b3a6ee4de727\" target=\"_top\" title=\"psysml:7a390bd1-339b-4feb-982b-b3a6ee4de727\" xlink:actuate=\"onRequest\" xlink:href=\"psysml:7a390bd1-339b-4feb-982b-b3a6ee4de727\" xlink:show=\"new\" xlink:title=\"psysml:7a390bd1-339b-4feb-982b-b3a6ee4de727\" xlink:type=\"simple\"><rect fill=\"#FFFFFF\" height=\"45.9375\" id=\"E6\" rx=\"10\" ry=\"10\" style=\"stroke: #383838; stroke-width: 1.5;\" width=\"42\" x=\"471\" y=\"62\"/><text fill=\"#000000\" font-family=\"sans-serif\" font-size=\"12\" font-style=\"italic\" lengthAdjust=\"spacingAndGlyphs\" textLength=\"40\" x=\"472\" y=\"78.1387\">«part»</text><text fill=\"#000000\" font-family=\"sans-serif\" font-size=\"12\" lengthAdjust=\"spacingAndGlyphs\" textLength=\"23\" x=\"480.5\" y=\"92.1074\">c: P</text><line style=\"stroke: #383838; stroke-width: 1.5;\" x1=\"472\" x2=\"512\" y1=\"99.9375\" y2=\"99.9375\"/></a><!--MD5=[2156ba9850f5573cc1fc38a6a4b2f02b]\n",
       "class E7--><a href=\"psysml:c41308c3-3ab4-4c95-8873-b6daf8742442\" target=\"_top\" title=\"psysml:c41308c3-3ab4-4c95-8873-b6daf8742442\" xlink:actuate=\"onRequest\" xlink:href=\"psysml:c41308c3-3ab4-4c95-8873-b6daf8742442\" xlink:show=\"new\" xlink:title=\"psysml:c41308c3-3ab4-4c95-8873-b6daf8742442\" xlink:type=\"simple\"><rect fill=\"#FFFFFF\" height=\"45.9375\" id=\"E7\" rx=\"10\" ry=\"10\" style=\"stroke: #383838; stroke-width: 1.5;\" width=\"42\" x=\"394\" y=\"62\"/><text fill=\"#000000\" font-family=\"sans-serif\" font-size=\"12\" font-style=\"italic\" lengthAdjust=\"spacingAndGlyphs\" textLength=\"40\" x=\"395\" y=\"78.1387\">«part»</text><text fill=\"#000000\" font-family=\"sans-serif\" font-size=\"12\" lengthAdjust=\"spacingAndGlyphs\" textLength=\"8\" x=\"411\" y=\"92.1074\">d</text><line style=\"stroke: #383838; stroke-width: 1.5;\" x1=\"395\" x2=\"435\" y1=\"99.9375\" y2=\"99.9375\"/></a><!--MD5=[b9389687b975829384b498ac4b7476b2]\n",
       "class E8--><a href=\"psysml:4786ae2f-f4fb-4524-a996-e764bd48b2ea\" target=\"_top\" title=\"psysml:4786ae2f-f4fb-4524-a996-e764bd48b2ea\" xlink:actuate=\"onRequest\" xlink:href=\"psysml:4786ae2f-f4fb-4524-a996-e764bd48b2ea\" xlink:show=\"new\" xlink:title=\"psysml:4786ae2f-f4fb-4524-a996-e764bd48b2ea\" xlink:type=\"simple\"><rect fill=\"#FFFFFF\" height=\"45.9375\" id=\"E8\" rx=\"10\" ry=\"10\" style=\"stroke: #383838; stroke-width: 1.5;\" width=\"42\" x=\"317\" y=\"62\"/><text fill=\"#000000\" font-family=\"sans-serif\" font-size=\"12\" font-style=\"italic\" lengthAdjust=\"spacingAndGlyphs\" textLength=\"40\" x=\"318\" y=\"78.1387\">«part»</text><text fill=\"#000000\" font-family=\"sans-serif\" font-size=\"12\" lengthAdjust=\"spacingAndGlyphs\" textLength=\"8\" x=\"334\" y=\"92.1074\">e</text><line style=\"stroke: #383838; stroke-width: 1.5;\" x1=\"318\" x2=\"358\" y1=\"99.9375\" y2=\"99.9375\"/></a><!--MD5=[fd4143e9d270a159db93a4ea2a975926]\n",
       "class E9--><a href=\"psysml:f4778415-89ee-45ef-90f6-0fdee23f5f44\" target=\"_top\" title=\"psysml:f4778415-89ee-45ef-90f6-0fdee23f5f44\" xlink:actuate=\"onRequest\" xlink:href=\"psysml:f4778415-89ee-45ef-90f6-0fdee23f5f44\" xlink:show=\"new\" xlink:title=\"psysml:f4778415-89ee-45ef-90f6-0fdee23f5f44\" xlink:type=\"simple\"><rect fill=\"#FFFFFF\" height=\"45.9375\" id=\"E9\" rx=\"10\" ry=\"10\" style=\"stroke: #383838; stroke-width: 1.5;\" width=\"42\" x=\"240\" y=\"62\"/><text fill=\"#000000\" font-family=\"sans-serif\" font-size=\"12\" font-style=\"italic\" lengthAdjust=\"spacingAndGlyphs\" textLength=\"40\" x=\"241\" y=\"78.1387\">«part»</text><text fill=\"#000000\" font-family=\"sans-serif\" font-size=\"12\" lengthAdjust=\"spacingAndGlyphs\" textLength=\"4\" x=\"259\" y=\"92.1074\">f</text><line style=\"stroke: #383838; stroke-width: 1.5;\" x1=\"241\" x2=\"281\" y1=\"99.9375\" y2=\"99.9375\"/></a><!--MD5=[96f4274e9e20536e775497830990834d]\n",
       "class E10--><a href=\"psysml:54ce765f-cd4b-40e3-bd55-528058a48d88\" target=\"_top\" title=\"psysml:54ce765f-cd4b-40e3-bd55-528058a48d88\" xlink:actuate=\"onRequest\" xlink:href=\"psysml:54ce765f-cd4b-40e3-bd55-528058a48d88\" xlink:show=\"new\" xlink:title=\"psysml:54ce765f-cd4b-40e3-bd55-528058a48d88\" xlink:type=\"simple\"><rect fill=\"#FFFFFF\" height=\"45.9375\" id=\"E10\" rx=\"10\" ry=\"10\" style=\"stroke: #383838; stroke-width: 1.5;\" width=\"42\" x=\"163\" y=\"62\"/><text fill=\"#000000\" font-family=\"sans-serif\" font-size=\"12\" font-style=\"italic\" lengthAdjust=\"spacingAndGlyphs\" textLength=\"40\" x=\"164\" y=\"78.1387\">«part»</text><text fill=\"#000000\" font-family=\"sans-serif\" font-size=\"12\" lengthAdjust=\"spacingAndGlyphs\" textLength=\"8\" x=\"180\" y=\"92.1074\">g</text><line style=\"stroke: #383838; stroke-width: 1.5;\" x1=\"164\" x2=\"204\" y1=\"99.9375\" y2=\"99.9375\"/></a><!--MD5=[1dd1bfd58a279cf63c5f349dbc8fc6a1]\n",
       "class E11--><a href=\"psysml:39471be4-e308-48bc-96c2-d92b434b60c0\" target=\"_top\" title=\"psysml:39471be4-e308-48bc-96c2-d92b434b60c0\" xlink:actuate=\"onRequest\" xlink:href=\"psysml:39471be4-e308-48bc-96c2-d92b434b60c0\" xlink:show=\"new\" xlink:title=\"psysml:39471be4-e308-48bc-96c2-d92b434b60c0\" xlink:type=\"simple\"><rect fill=\"#FFFFFF\" height=\"88.3516\" id=\"E11\" style=\"stroke: #383838; stroke-width: 1.5;\" width=\"95\" x=\"32.5\" y=\"41\"/><text fill=\"#000000\" font-family=\"sans-serif\" font-size=\"12\" font-style=\"italic\" lengthAdjust=\"spacingAndGlyphs\" textLength=\"93\" x=\"33.5\" y=\"57.1387\">«attribute def»</text><text fill=\"#000000\" font-family=\"sans-serif\" font-size=\"12\" lengthAdjust=\"spacingAndGlyphs\" textLength=\"8\" x=\"76\" y=\"71.1074\">A</text><line style=\"stroke: #383838; stroke-width: 1.5;\" x1=\"33.5\" x2=\"126.5\" y1=\"78.9375\" y2=\"78.9375\"/><text fill=\"#000000\" font-family=\"sans-serif\" font-size=\"11\" lengthAdjust=\"spacingAndGlyphs\" textLength=\"51\" x=\"38.5\" y=\"109.9526\">i: Integer</text><text fill=\"#000000\" font-family=\"sans-serif\" font-size=\"11\" lengthAdjust=\"spacingAndGlyphs\" textLength=\"21\" x=\"38.5\" y=\"122.7573\">x: A</text><line style=\"stroke: #383838; stroke-width: 1.0;\" x1=\"33.5\" x2=\"52.5\" y1=\"93.3398\" y2=\"93.3398\"/><text fill=\"#000000\" font-family=\"sans-serif\" font-size=\"11\" lengthAdjust=\"spacingAndGlyphs\" textLength=\"55\" x=\"52.5\" y=\"96.6479\">attributes</text><line style=\"stroke: #383838; stroke-width: 1.0;\" x1=\"107.5\" x2=\"126.5\" y1=\"93.3398\" y2=\"93.3398\"/></a><!--MD5=[15ebcb19ae302d9b601edb458606d402]\n",
       "link E5 to E2--><a href=\"psysml:911f47bc-487d-4cbf-bcdd-94eeba00c89c\" target=\"_top\" title=\"psysml:911f47bc-487d-4cbf-bcdd-94eeba00c89c\" xlink:actuate=\"onRequest\" xlink:href=\"psysml:911f47bc-487d-4cbf-bcdd-94eeba00c89c\" xlink:show=\"new\" xlink:title=\"psysml:911f47bc-487d-4cbf-bcdd-94eeba00c89c\" xlink:type=\"simple\"><path d=\"M562.12,108.06 C556.83,125 549.38,148.89 542.98,169.39 \" fill=\"none\" id=\"E5-&gt;E2\" style=\"stroke: #383838; stroke-width: 1.0;\"/><polygon fill=\"#FFFFFF\" points=\"536.95,188.74,535.929,168.5173,549.2931,172.6886,536.95,188.74\" style=\"stroke: #383838; stroke-width: 1.0;\"/><ellipse cx=\"539.5364\" cy=\"163.6721\" fill=\"#383838\" rx=\"2\" ry=\"2\" style=\"stroke: #383838; stroke-width: 1.0;\"/><ellipse cx=\"549.0823\" cy=\"166.6516\" fill=\"#383838\" rx=\"2\" ry=\"2\" style=\"stroke: #383838; stroke-width: 1.0;\"/></a><!--MD5=[2351f337d6de0f557b50152ba70847b5]\n",
       "link E6 to E2--><a href=\"psysml:5d978d49-3aad-49b2-9a30-3bd5979ae9aa\" target=\"_top\" title=\"psysml:5d978d49-3aad-49b2-9a30-3bd5979ae9aa\" xlink:actuate=\"onRequest\" xlink:href=\"psysml:5d978d49-3aad-49b2-9a30-3bd5979ae9aa\" xlink:show=\"new\" xlink:title=\"psysml:5d978d49-3aad-49b2-9a30-3bd5979ae9aa\" xlink:type=\"simple\"><path d=\"M498.71,108.06 C503.86,125 511.12,148.89 517.35,169.39 \" fill=\"none\" id=\"E6-&gt;E2\" style=\"stroke: #383838; stroke-width: 1.0;\"/><polygon fill=\"#FFFFFF\" points=\"523.23,188.74,511.007,172.597,524.4019,168.5255,523.23,188.74\" style=\"stroke: #383838; stroke-width: 1.0;\"/><ellipse cx=\"511.2628\" cy=\"166.5617\" fill=\"#383838\" rx=\"2\" ry=\"2\" style=\"stroke: #383838; stroke-width: 1.0;\"/><ellipse cx=\"520.8306\" cy=\"163.6535\" fill=\"#383838\" rx=\"2\" ry=\"2\" style=\"stroke: #383838; stroke-width: 1.0;\"/></a><!--MD5=[7259fc24937634f8031a2465e2612a9a]\n",
       "@startuml\r\n",
       "top to bottom direction\r\n",
       "skinparam monochrome true\r\n",
       "skinparam classbackgroundcolor white\r\n",
       "skinparam shadowing false\r\n",
       "skinparam wrapWidth 300\r\n",
       "hide circle\r\n",
       "\r\n",
       "package \"MultiplicityTest\" as E1  [[psysml:0be6947d-aa66-4017-a009-04bc0f7b30c5 ]]  {\r\n",
       "comp def \"P\" as E2  <<(T,blue)part def>> [[psysml:9ab3d3ff-483c-4e41-ada7-ab2d8c979da0 ]] {\r\n",
       "}\r\n",
       "comp usage \"n: Integer\" as E3  <<(T,blue)attribute>> [[psysml:bb4f0587-9240-4f5c-8b68-755ceb30f0e1 ]] {\r\n",
       "}\r\n",
       "comp usage \"a\" as E4  <<(T,blue)part>> [[psysml:9d5a91ec-9b15-487c-8680-11258af91cb9 ]] {\r\n",
       "}\r\n",
       "comp usage \"b: P\" as E5  <<(T,blue)part>> [[psysml:0e6ddf84-4c23-42ff-8adf-60418e76591d ]] {\r\n",
       "}\r\n",
       "comp usage \"c: P\" as E6  <<(T,blue)part>> [[psysml:7a390bd1-339b-4feb-982b-b3a6ee4de727 ]] {\r\n",
       "}\r\n",
       "comp usage \"d\" as E7  <<(T,blue)part>> [[psysml:c41308c3-3ab4-4c95-8873-b6daf8742442 ]] {\r\n",
       "}\r\n",
       "comp usage \"e\" as E8  <<(T,blue)part>> [[psysml:4786ae2f-f4fb-4524-a996-e764bd48b2ea ]] {\r\n",
       "}\r\n",
       "comp usage \"f\" as E9  <<(T,blue)part>> [[psysml:f4778415-89ee-45ef-90f6-0fdee23f5f44 ]] {\r\n",
       "}\r\n",
       "comp usage \"g\" as E10  <<(T,blue)part>> [[psysml:54ce765f-cd4b-40e3-bd55-528058a48d88 ]] {\r\n",
       "}\r\n",
       "comp def \"A\" as E11  <<(T,blue)attribute def>> [[psysml:39471be4-e308-48bc-96c2-d92b434b60c0 ]] {\r\n",
       "- - attributes - -\r\n",
       "i: Integer\r\n",
       "x: A\r\n",
       "}\r\n",
       "E5 - -:|> E2 [[psysml:911f47bc-487d-4cbf-bcdd-94eeba00c89c ]] \r\n",
       "E6 - -:|> E2 [[psysml:5d978d49-3aad-49b2-9a30-3bd5979ae9aa ]] \r\n",
       "}\r\n",
       "@enduml\r\n",
       "\n",
       "PlantUML version 1.2020.13(Sat Jun 13 12:26:38 UTC 2020)\n",
       "(EPL source distribution)\n",
       "Java Runtime: OpenJDK Runtime Environment\n",
       "JVM: OpenJDK 64-Bit Server VM\n",
       "Default Encoding: UTF-8\n",
       "Language: en\n",
       "Country: null\n",
       "--></g></svg>"
      ]
     },
     "execution_count": 45,
     "metadata": {},
     "output_type": "execute_result"
    }
   ],
   "source": [
    "%viz --style=\"TB\" --view=\"Tree\" \"MultiplicityTest\""
   ]
  },
  {
   "cell_type": "code",
   "execution_count": 46,
   "id": "27598c52",
   "metadata": {
    "execution": {
     "iopub.execute_input": "2021-04-21T20:26:45.270131Z",
     "iopub.status.busy": "2021-04-21T20:26:45.269632Z",
     "iopub.status.idle": "2021-04-21T20:26:45.274528Z",
     "shell.execute_reply": "2021-04-21T20:26:45.274213Z"
    }
   },
   "outputs": [
    {
     "data": {
      "image/svg+xml": [
       "<?xml version=\"1.0\" encoding=\"UTF-8\" standalone=\"no\"?><svg xmlns=\"http://www.w3.org/2000/svg\" xmlns:xlink=\"http://www.w3.org/1999/xlink\" contentScriptType=\"application/ecmascript\" contentStyleType=\"text/css\" height=\"12px\" preserveAspectRatio=\"none\" style=\"width:12px;height:12px;\" version=\"1.1\" viewBox=\"0 0 12 12\" width=\"12px\" zoomAndPan=\"magnify\"><defs/><g><!--MD5=[f4ee21bc66e489b5061b7c3e9601fdef]\n",
       "@startuml\r\n",
       "top to bottom direction\r\n",
       "skinparam monochrome true\r\n",
       "skinparam classbackgroundcolor white\r\n",
       "skinparam shadowing false\r\n",
       "skinparam wrapWidth 300\r\n",
       "hide circle\r\n",
       "\r\n",
       "@enduml\r\n",
       "\n",
       "PlantUML version 1.2020.13(Sat Jun 13 12:26:38 UTC 2020)\n",
       "(EPL source distribution)\n",
       "Java Runtime: OpenJDK Runtime Environment\n",
       "JVM: OpenJDK 64-Bit Server VM\n",
       "Default Encoding: UTF-8\n",
       "Language: en\n",
       "Country: null\n",
       "--></g></svg>"
      ]
     },
     "execution_count": 46,
     "metadata": {},
     "output_type": "execute_result"
    }
   ],
   "source": [
    "%viz --style=\"TB\" --view=\"State\" \"MultiplicityTest\""
   ]
  },
  {
   "cell_type": "code",
   "execution_count": 47,
   "id": "49957af9",
   "metadata": {
    "execution": {
     "iopub.execute_input": "2021-04-21T20:26:45.326409Z",
     "iopub.status.busy": "2021-04-21T20:26:45.325904Z",
     "iopub.status.idle": "2021-04-21T20:26:45.354356Z",
     "shell.execute_reply": "2021-04-21T20:26:45.353115Z"
    }
   },
   "outputs": [
    {
     "data": {
      "image/svg+xml": [
       "<?xml version=\"1.0\" encoding=\"UTF-8\" standalone=\"no\"?><svg xmlns=\"http://www.w3.org/2000/svg\" xmlns:xlink=\"http://www.w3.org/1999/xlink\" contentScriptType=\"application/ecmascript\" contentStyleType=\"text/css\" height=\"115px\" preserveAspectRatio=\"none\" style=\"width:979px;height:115px;\" version=\"1.1\" viewBox=\"0 0 979 115\" width=\"979px\" zoomAndPan=\"magnify\"><defs/><g><!--MD5=[fbc87193dbaf4d95561dea2c320d4a47]\n",
       "cluster E1--><a href=\"psysml:0be6947d-aa66-4017-a009-04bc0f7b30c5\" target=\"_top\" title=\"psysml:0be6947d-aa66-4017-a009-04bc0f7b30c5\" xlink:actuate=\"onRequest\" xlink:href=\"psysml:0be6947d-aa66-4017-a009-04bc0f7b30c5\" xlink:show=\"new\" xlink:title=\"psysml:0be6947d-aa66-4017-a009-04bc0f7b30c5\" xlink:type=\"simple\"><polygon fill=\"#FFFFFF\" points=\"16,6,140,6,147,28.2969,957,28.2969,957,103,16,103,16,6\" style=\"stroke: #000000; stroke-width: 1.5;\"/><line style=\"stroke: #000000; stroke-width: 1.5;\" x1=\"16\" x2=\"147\" y1=\"28.2969\" y2=\"28.2969\"/><text fill=\"#000000\" font-family=\"sans-serif\" font-size=\"14\" font-weight=\"bold\" lengthAdjust=\"spacingAndGlyphs\" textLength=\"118\" x=\"20\" y=\"20.9951\">MultiplicityTest</text></a><!--MD5=[09b614a08d8cba4a07c9adeb5e0fee81]\n",
       "class E3--><a href=\"psysml:bb4f0587-9240-4f5c-8b68-755ceb30f0e1\" target=\"_top\" title=\"psysml:bb4f0587-9240-4f5c-8b68-755ceb30f0e1\" xlink:actuate=\"onRequest\" xlink:href=\"psysml:bb4f0587-9240-4f5c-8b68-755ceb30f0e1\" xlink:show=\"new\" xlink:title=\"psysml:bb4f0587-9240-4f5c-8b68-755ceb30f0e1\" xlink:type=\"simple\"><rect fill=\"#FFFFFF\" height=\"45.9375\" id=\"E3\" rx=\"10\" ry=\"10\" style=\"stroke: #383838; stroke-width: 1.5;\" width=\"71\" x=\"869.5\" y=\"41\"/><text fill=\"#000000\" font-family=\"sans-serif\" font-size=\"12\" font-style=\"italic\" lengthAdjust=\"spacingAndGlyphs\" textLength=\"69\" x=\"870.5\" y=\"57.1387\">«attribute»</text><text fill=\"#000000\" font-family=\"sans-serif\" font-size=\"12\" lengthAdjust=\"spacingAndGlyphs\" textLength=\"61\" x=\"874.5\" y=\"71.1074\">n: Integer</text><line style=\"stroke: #383838; stroke-width: 1.5;\" x1=\"870.5\" x2=\"939.5\" y1=\"78.9375\" y2=\"78.9375\"/></a><g id=\"E1.E11\"><a href=\"psysml:39471be4-e308-48bc-96c2-d92b434b60c0\" target=\"_top\" title=\"psysml:39471be4-e308-48bc-96c2-d92b434b60c0\" xlink:actuate=\"onRequest\" xlink:href=\"psysml:39471be4-e308-48bc-96c2-d92b434b60c0\" xlink:show=\"new\" xlink:title=\"psysml:39471be4-e308-48bc-96c2-d92b434b60c0\" xlink:type=\"simple\"><rect fill=\"#FFFFFF\" height=\"42.9375\" id=\"E11\" style=\"stroke: #383838; stroke-width: 1.5;\" width=\"100\" x=\"734\" y=\"42.5\"/><rect fill=\"#F8F8F8\" height=\"37.9375\" style=\"stroke: #383838; stroke-width: 1.5;\" width=\"100\" x=\"734\" y=\"42.5\"/><text fill=\"#000000\" font-family=\"sans-serif\" font-size=\"12\" font-style=\"italic\" lengthAdjust=\"spacingAndGlyphs\" textLength=\"93\" x=\"737.5\" y=\"58.6387\">«attribute def»</text><text fill=\"#000000\" font-family=\"sans-serif\" font-size=\"12\" lengthAdjust=\"spacingAndGlyphs\" textLength=\"8\" x=\"780\" y=\"72.6074\">A</text></a></g><g id=\"E1.E2\"><a href=\"psysml:9ab3d3ff-483c-4e41-ada7-ab2d8c979da0\" target=\"_top\" title=\"psysml:9ab3d3ff-483c-4e41-ada7-ab2d8c979da0\" xlink:actuate=\"onRequest\" xlink:href=\"psysml:9ab3d3ff-483c-4e41-ada7-ab2d8c979da0\" xlink:show=\"new\" xlink:title=\"psysml:9ab3d3ff-483c-4e41-ada7-ab2d8c979da0\" xlink:type=\"simple\"><rect fill=\"#FFFFFF\" height=\"42.9375\" id=\"E2\" style=\"stroke: #383838; stroke-width: 1.5;\" width=\"71\" x=\"627.5\" y=\"42.5\"/><rect fill=\"#F8F8F8\" height=\"37.9375\" style=\"stroke: #383838; stroke-width: 1.5;\" width=\"71\" x=\"627.5\" y=\"42.5\"/><text fill=\"#000000\" font-family=\"sans-serif\" font-size=\"12\" font-style=\"italic\" lengthAdjust=\"spacingAndGlyphs\" textLength=\"64\" x=\"631\" y=\"58.6387\">«part def»</text><text fill=\"#000000\" font-family=\"sans-serif\" font-size=\"12\" lengthAdjust=\"spacingAndGlyphs\" textLength=\"8\" x=\"659\" y=\"72.6074\">P</text></a></g><g id=\"E1.E4\"><a href=\"psysml:9d5a91ec-9b15-487c-8680-11258af91cb9\" target=\"_top\" title=\"psysml:9d5a91ec-9b15-487c-8680-11258af91cb9\" xlink:actuate=\"onRequest\" xlink:href=\"psysml:9d5a91ec-9b15-487c-8680-11258af91cb9\" xlink:show=\"new\" xlink:title=\"psysml:9d5a91ec-9b15-487c-8680-11258af91cb9\" xlink:type=\"simple\"><rect fill=\"#FFFFFF\" height=\"40\" id=\"E4\" rx=\"10\" ry=\"10\" style=\"stroke: #383838; stroke-width: 1.5;\" width=\"50\" x=\"542\" y=\"44\"/><rect fill=\"#F8F8F8\" height=\"23.9688\" rx=\"10\" ry=\"10\" style=\"stroke: #F8F8F8; stroke-width: 1.5;\" width=\"50\" x=\"542\" y=\"44\"/><rect fill=\"#F8F8F8\" height=\"10\" style=\"stroke: #F8F8F8; stroke-width: 1.5;\" width=\"50\" x=\"542\" y=\"57.9688\"/><rect fill=\"none\" height=\"40\" id=\"E4\" rx=\"10\" ry=\"10\" style=\"stroke: #383838; stroke-width: 1.5;\" width=\"50\" x=\"542\" y=\"44\"/><text fill=\"#000000\" font-family=\"sans-serif\" font-size=\"12\" lengthAdjust=\"spacingAndGlyphs\" textLength=\"8\" x=\"563\" y=\"60.1387\">a</text></a></g><g id=\"E1.E5\"><a href=\"psysml:0e6ddf84-4c23-42ff-8adf-60418e76591d\" target=\"_top\" title=\"psysml:0e6ddf84-4c23-42ff-8adf-60418e76591d\" xlink:actuate=\"onRequest\" xlink:href=\"psysml:0e6ddf84-4c23-42ff-8adf-60418e76591d\" xlink:show=\"new\" xlink:title=\"psysml:0e6ddf84-4c23-42ff-8adf-60418e76591d\" xlink:type=\"simple\"><rect fill=\"#FFFFFF\" height=\"40\" id=\"E5\" rx=\"10\" ry=\"10\" style=\"stroke: #383838; stroke-width: 1.5;\" width=\"50\" x=\"457\" y=\"44\"/><rect fill=\"#F8F8F8\" height=\"23.9688\" rx=\"10\" ry=\"10\" style=\"stroke: #F8F8F8; stroke-width: 1.5;\" width=\"50\" x=\"457\" y=\"44\"/><rect fill=\"#F8F8F8\" height=\"10\" style=\"stroke: #F8F8F8; stroke-width: 1.5;\" width=\"50\" x=\"457\" y=\"57.9688\"/><rect fill=\"none\" height=\"40\" id=\"E5\" rx=\"10\" ry=\"10\" style=\"stroke: #383838; stroke-width: 1.5;\" width=\"50\" x=\"457\" y=\"44\"/><text fill=\"#000000\" font-family=\"sans-serif\" font-size=\"12\" lengthAdjust=\"spacingAndGlyphs\" textLength=\"24\" x=\"470\" y=\"60.1387\">b: P</text></a></g><g id=\"E1.E6\"><a href=\"psysml:7a390bd1-339b-4feb-982b-b3a6ee4de727\" target=\"_top\" title=\"psysml:7a390bd1-339b-4feb-982b-b3a6ee4de727\" xlink:actuate=\"onRequest\" xlink:href=\"psysml:7a390bd1-339b-4feb-982b-b3a6ee4de727\" xlink:show=\"new\" xlink:title=\"psysml:7a390bd1-339b-4feb-982b-b3a6ee4de727\" xlink:type=\"simple\"><rect fill=\"#FFFFFF\" height=\"40\" id=\"E6\" rx=\"10\" ry=\"10\" style=\"stroke: #383838; stroke-width: 1.5;\" width=\"50\" x=\"372\" y=\"44\"/><rect fill=\"#F8F8F8\" height=\"23.9688\" rx=\"10\" ry=\"10\" style=\"stroke: #F8F8F8; stroke-width: 1.5;\" width=\"50\" x=\"372\" y=\"44\"/><rect fill=\"#F8F8F8\" height=\"10\" style=\"stroke: #F8F8F8; stroke-width: 1.5;\" width=\"50\" x=\"372\" y=\"57.9688\"/><rect fill=\"none\" height=\"40\" id=\"E6\" rx=\"10\" ry=\"10\" style=\"stroke: #383838; stroke-width: 1.5;\" width=\"50\" x=\"372\" y=\"44\"/><text fill=\"#000000\" font-family=\"sans-serif\" font-size=\"12\" lengthAdjust=\"spacingAndGlyphs\" textLength=\"23\" x=\"385.5\" y=\"60.1387\">c: P</text></a></g><g id=\"E1.E7\"><a href=\"psysml:c41308c3-3ab4-4c95-8873-b6daf8742442\" target=\"_top\" title=\"psysml:c41308c3-3ab4-4c95-8873-b6daf8742442\" xlink:actuate=\"onRequest\" xlink:href=\"psysml:c41308c3-3ab4-4c95-8873-b6daf8742442\" xlink:show=\"new\" xlink:title=\"psysml:c41308c3-3ab4-4c95-8873-b6daf8742442\" xlink:type=\"simple\"><rect fill=\"#FFFFFF\" height=\"40\" id=\"E7\" rx=\"10\" ry=\"10\" style=\"stroke: #383838; stroke-width: 1.5;\" width=\"50\" x=\"287\" y=\"44\"/><rect fill=\"#F8F8F8\" height=\"23.9688\" rx=\"10\" ry=\"10\" style=\"stroke: #F8F8F8; stroke-width: 1.5;\" width=\"50\" x=\"287\" y=\"44\"/><rect fill=\"#F8F8F8\" height=\"10\" style=\"stroke: #F8F8F8; stroke-width: 1.5;\" width=\"50\" x=\"287\" y=\"57.9688\"/><rect fill=\"none\" height=\"40\" id=\"E7\" rx=\"10\" ry=\"10\" style=\"stroke: #383838; stroke-width: 1.5;\" width=\"50\" x=\"287\" y=\"44\"/><text fill=\"#000000\" font-family=\"sans-serif\" font-size=\"12\" lengthAdjust=\"spacingAndGlyphs\" textLength=\"8\" x=\"308\" y=\"60.1387\">d</text></a></g><g id=\"E1.E8\"><a href=\"psysml:4786ae2f-f4fb-4524-a996-e764bd48b2ea\" target=\"_top\" title=\"psysml:4786ae2f-f4fb-4524-a996-e764bd48b2ea\" xlink:actuate=\"onRequest\" xlink:href=\"psysml:4786ae2f-f4fb-4524-a996-e764bd48b2ea\" xlink:show=\"new\" xlink:title=\"psysml:4786ae2f-f4fb-4524-a996-e764bd48b2ea\" xlink:type=\"simple\"><rect fill=\"#FFFFFF\" height=\"40\" id=\"E8\" rx=\"10\" ry=\"10\" style=\"stroke: #383838; stroke-width: 1.5;\" width=\"50\" x=\"202\" y=\"44\"/><rect fill=\"#F8F8F8\" height=\"23.9688\" rx=\"10\" ry=\"10\" style=\"stroke: #F8F8F8; stroke-width: 1.5;\" width=\"50\" x=\"202\" y=\"44\"/><rect fill=\"#F8F8F8\" height=\"10\" style=\"stroke: #F8F8F8; stroke-width: 1.5;\" width=\"50\" x=\"202\" y=\"57.9688\"/><rect fill=\"none\" height=\"40\" id=\"E8\" rx=\"10\" ry=\"10\" style=\"stroke: #383838; stroke-width: 1.5;\" width=\"50\" x=\"202\" y=\"44\"/><text fill=\"#000000\" font-family=\"sans-serif\" font-size=\"12\" lengthAdjust=\"spacingAndGlyphs\" textLength=\"8\" x=\"223\" y=\"60.1387\">e</text></a></g><g id=\"E1.E9\"><a href=\"psysml:f4778415-89ee-45ef-90f6-0fdee23f5f44\" target=\"_top\" title=\"psysml:f4778415-89ee-45ef-90f6-0fdee23f5f44\" xlink:actuate=\"onRequest\" xlink:href=\"psysml:f4778415-89ee-45ef-90f6-0fdee23f5f44\" xlink:show=\"new\" xlink:title=\"psysml:f4778415-89ee-45ef-90f6-0fdee23f5f44\" xlink:type=\"simple\"><rect fill=\"#FFFFFF\" height=\"40\" id=\"E9\" rx=\"10\" ry=\"10\" style=\"stroke: #383838; stroke-width: 1.5;\" width=\"50\" x=\"117\" y=\"44\"/><rect fill=\"#F8F8F8\" height=\"23.9688\" rx=\"10\" ry=\"10\" style=\"stroke: #F8F8F8; stroke-width: 1.5;\" width=\"50\" x=\"117\" y=\"44\"/><rect fill=\"#F8F8F8\" height=\"10\" style=\"stroke: #F8F8F8; stroke-width: 1.5;\" width=\"50\" x=\"117\" y=\"57.9688\"/><rect fill=\"none\" height=\"40\" id=\"E9\" rx=\"10\" ry=\"10\" style=\"stroke: #383838; stroke-width: 1.5;\" width=\"50\" x=\"117\" y=\"44\"/><text fill=\"#000000\" font-family=\"sans-serif\" font-size=\"12\" lengthAdjust=\"spacingAndGlyphs\" textLength=\"4\" x=\"140\" y=\"60.1387\">f</text></a></g><g id=\"E1.E10\"><a href=\"psysml:54ce765f-cd4b-40e3-bd55-528058a48d88\" target=\"_top\" title=\"psysml:54ce765f-cd4b-40e3-bd55-528058a48d88\" xlink:actuate=\"onRequest\" xlink:href=\"psysml:54ce765f-cd4b-40e3-bd55-528058a48d88\" xlink:show=\"new\" xlink:title=\"psysml:54ce765f-cd4b-40e3-bd55-528058a48d88\" xlink:type=\"simple\"><rect fill=\"#FFFFFF\" height=\"40\" id=\"E10\" rx=\"10\" ry=\"10\" style=\"stroke: #383838; stroke-width: 1.5;\" width=\"50\" x=\"32\" y=\"44\"/><rect fill=\"#F8F8F8\" height=\"23.9688\" rx=\"10\" ry=\"10\" style=\"stroke: #F8F8F8; stroke-width: 1.5;\" width=\"50\" x=\"32\" y=\"44\"/><rect fill=\"#F8F8F8\" height=\"10\" style=\"stroke: #F8F8F8; stroke-width: 1.5;\" width=\"50\" x=\"32\" y=\"57.9688\"/><rect fill=\"none\" height=\"40\" id=\"E10\" rx=\"10\" ry=\"10\" style=\"stroke: #383838; stroke-width: 1.5;\" width=\"50\" x=\"32\" y=\"44\"/><text fill=\"#000000\" font-family=\"sans-serif\" font-size=\"12\" lengthAdjust=\"spacingAndGlyphs\" textLength=\"8\" x=\"53\" y=\"60.1387\">g</text></a></g><!--MD5=[3cfe49e72d02cf894d434631b4108480]\n",
       "@startuml\r\n",
       "skinparam ranksep 10\r\n",
       "skinparam rectangle {\r\n",
       " backgroundColor<<block>> LightGreen\r\n",
       "}\r\n",
       "top to bottom direction\r\n",
       "skinparam monochrome true\r\n",
       "skinparam classbackgroundcolor white\r\n",
       "skinparam shadowing false\r\n",
       "skinparam wrapWidth 300\r\n",
       "hide circle\r\n",
       "\r\n",
       "package \"MultiplicityTest\" as E1  [[psysml:0be6947d-aa66-4017-a009-04bc0f7b30c5 ]]  {\r\n",
       "rec def \"P\" as E2  <<(T,blue)part def>> [[psysml:9ab3d3ff-483c-4e41-ada7-ab2d8c979da0 ]] {\r\n",
       "}\r\n",
       "comp usage \"n: Integer\" as E3  <<(T,blue)attribute>> [[psysml:bb4f0587-9240-4f5c-8b68-755ceb30f0e1 ]] {\r\n",
       "}\r\n",
       "rec usage \"a\" as E4  [[psysml:9d5a91ec-9b15-487c-8680-11258af91cb9 ]] {\r\n",
       "}\r\n",
       "rec usage \"b: P\" as E5  [[psysml:0e6ddf84-4c23-42ff-8adf-60418e76591d ]] {\r\n",
       "}\r\n",
       "rec usage \"c: P\" as E6  [[psysml:7a390bd1-339b-4feb-982b-b3a6ee4de727 ]] {\r\n",
       "}\r\n",
       "rec usage \"d\" as E7  [[psysml:c41308c3-3ab4-4c95-8873-b6daf8742442 ]] {\r\n",
       "}\r\n",
       "rec usage \"e\" as E8  [[psysml:4786ae2f-f4fb-4524-a996-e764bd48b2ea ]] {\r\n",
       "}\r\n",
       "rec usage \"f\" as E9  [[psysml:f4778415-89ee-45ef-90f6-0fdee23f5f44 ]] {\r\n",
       "}\r\n",
       "rec usage \"g\" as E10  [[psysml:54ce765f-cd4b-40e3-bd55-528058a48d88 ]] {\r\n",
       "}\r\n",
       "def \"A\" as E11  <<(T,blue)attribute def>> [[psysml:39471be4-e308-48bc-96c2-d92b434b60c0 ]] \r\n",
       "}\r\n",
       "@enduml\r\n",
       "\n",
       "PlantUML version 1.2020.13(Sat Jun 13 12:26:38 UTC 2020)\n",
       "(EPL source distribution)\n",
       "Java Runtime: OpenJDK Runtime Environment\n",
       "JVM: OpenJDK 64-Bit Server VM\n",
       "Default Encoding: UTF-8\n",
       "Language: en\n",
       "Country: null\n",
       "--></g></svg>"
      ]
     },
     "execution_count": 47,
     "metadata": {},
     "output_type": "execute_result"
    }
   ],
   "source": [
    "%viz --style=\"TB\" --view=\"Interconnection\" \"MultiplicityTest\""
   ]
  },
  {
   "cell_type": "code",
   "execution_count": 48,
   "id": "1d7d6da0",
   "metadata": {
    "execution": {
     "iopub.execute_input": "2021-04-21T20:26:45.412501Z",
     "iopub.status.busy": "2021-04-21T20:26:45.405955Z",
     "iopub.status.idle": "2021-04-21T20:26:45.417274Z",
     "shell.execute_reply": "2021-04-21T20:26:45.416967Z"
    }
   },
   "outputs": [
    {
     "data": {
      "image/svg+xml": [
       "<?xml version=\"1.0\" encoding=\"UTF-8\" standalone=\"no\"?><svg xmlns=\"http://www.w3.org/2000/svg\" xmlns:xlink=\"http://www.w3.org/1999/xlink\" contentScriptType=\"application/ecmascript\" contentStyleType=\"text/css\" height=\"12px\" preserveAspectRatio=\"none\" style=\"width:12px;height:12px;\" version=\"1.1\" viewBox=\"0 0 12 12\" width=\"12px\" zoomAndPan=\"magnify\"><defs/><g><!--MD5=[06afc254b03ac5e9d9fb7773b07d0800]\n",
       "@startuml\r\n",
       "skinparam ranksep 8\r\n",
       "top to bottom direction\r\n",
       "skinparam monochrome true\r\n",
       "skinparam classbackgroundcolor white\r\n",
       "skinparam shadowing false\r\n",
       "skinparam wrapWidth 300\r\n",
       "hide circle\r\n",
       "\r\n",
       "@enduml\r\n",
       "\n",
       "PlantUML version 1.2020.13(Sat Jun 13 12:26:38 UTC 2020)\n",
       "(EPL source distribution)\n",
       "Java Runtime: OpenJDK Runtime Environment\n",
       "JVM: OpenJDK 64-Bit Server VM\n",
       "Default Encoding: UTF-8\n",
       "Language: en\n",
       "Country: null\n",
       "--></g></svg>"
      ]
     },
     "execution_count": 48,
     "metadata": {},
     "output_type": "execute_result"
    }
   ],
   "source": [
    "%viz --style=\"TB\" --view=\"Action\" \"MultiplicityTest\""
   ]
  },
  {
   "cell_type": "code",
   "execution_count": 49,
   "id": "a5645f37",
   "metadata": {
    "execution": {
     "iopub.execute_input": "2021-04-21T20:26:45.468328Z",
     "iopub.status.busy": "2021-04-21T20:26:45.467791Z",
     "iopub.status.idle": "2021-04-21T20:26:45.532397Z",
     "shell.execute_reply": "2021-04-21T20:26:45.530491Z"
    }
   },
   "outputs": [
    {
     "data": {
      "image/svg+xml": [
       "<?xml version=\"1.0\" encoding=\"UTF-8\" standalone=\"no\"?><svg xmlns=\"http://www.w3.org/2000/svg\" xmlns:xlink=\"http://www.w3.org/1999/xlink\" contentScriptType=\"application/ecmascript\" contentStyleType=\"text/css\" height=\"263px\" preserveAspectRatio=\"none\" style=\"width:812px;height:263px;\" version=\"1.1\" viewBox=\"0 0 812 263\" width=\"812px\" zoomAndPan=\"magnify\"><defs/><g><!--MD5=[fbc87193dbaf4d95561dea2c320d4a47]\n",
       "cluster E1--><a href=\"psysml:0be6947d-aa66-4017-a009-04bc0f7b30c5\" target=\"_top\" title=\"psysml:0be6947d-aa66-4017-a009-04bc0f7b30c5\" xlink:actuate=\"onRequest\" xlink:href=\"psysml:0be6947d-aa66-4017-a009-04bc0f7b30c5\" xlink:show=\"new\" xlink:title=\"psysml:0be6947d-aa66-4017-a009-04bc0f7b30c5\" xlink:type=\"simple\"><polygon fill=\"#FFFFFF\" points=\"16,6,140,6,147,28.2969,790,28.2969,790,251,16,251,16,6\" style=\"stroke: #000000; stroke-width: 1.5;\"/><line style=\"stroke: #000000; stroke-width: 1.5;\" x1=\"16\" x2=\"147\" y1=\"28.2969\" y2=\"28.2969\"/><text fill=\"#000000\" font-family=\"sans-serif\" font-size=\"14\" font-weight=\"bold\" lengthAdjust=\"spacingAndGlyphs\" textLength=\"118\" x=\"20\" y=\"20.9951\">MultiplicityTest</text></a><!--MD5=[b4997ac47864f28c2f74865a473b2911]\n",
       "class E2--><a href=\"psysml:9ab3d3ff-483c-4e41-ada7-ab2d8c979da0\" target=\"_top\" title=\"psysml:9ab3d3ff-483c-4e41-ada7-ab2d8c979da0\" xlink:actuate=\"onRequest\" xlink:href=\"psysml:9ab3d3ff-483c-4e41-ada7-ab2d8c979da0\" xlink:show=\"new\" xlink:title=\"psysml:9ab3d3ff-483c-4e41-ada7-ab2d8c979da0\" xlink:type=\"simple\"><rect fill=\"#FFFFFF\" height=\"45.9375\" id=\"E2\" style=\"stroke: #383838; stroke-width: 1.5;\" width=\"66\" x=\"497\" y=\"189\"/><text fill=\"#000000\" font-family=\"sans-serif\" font-size=\"12\" font-style=\"italic\" lengthAdjust=\"spacingAndGlyphs\" textLength=\"64\" x=\"498\" y=\"205.1387\">«part def»</text><text fill=\"#000000\" font-family=\"sans-serif\" font-size=\"12\" lengthAdjust=\"spacingAndGlyphs\" textLength=\"8\" x=\"526\" y=\"219.1074\">P</text><line style=\"stroke: #383838; stroke-width: 1.5;\" x1=\"498\" x2=\"562\" y1=\"226.9375\" y2=\"226.9375\"/></a><!--MD5=[09b614a08d8cba4a07c9adeb5e0fee81]\n",
       "class E3--><a href=\"psysml:bb4f0587-9240-4f5c-8b68-755ceb30f0e1\" target=\"_top\" title=\"psysml:bb4f0587-9240-4f5c-8b68-755ceb30f0e1\" xlink:actuate=\"onRequest\" xlink:href=\"psysml:bb4f0587-9240-4f5c-8b68-755ceb30f0e1\" xlink:show=\"new\" xlink:title=\"psysml:bb4f0587-9240-4f5c-8b68-755ceb30f0e1\" xlink:type=\"simple\"><rect fill=\"#FFFFFF\" height=\"45.9375\" id=\"E3\" rx=\"10\" ry=\"10\" style=\"stroke: #383838; stroke-width: 1.5;\" width=\"71\" x=\"702.5\" y=\"62\"/><text fill=\"#000000\" font-family=\"sans-serif\" font-size=\"12\" font-style=\"italic\" lengthAdjust=\"spacingAndGlyphs\" textLength=\"69\" x=\"703.5\" y=\"78.1387\">«attribute»</text><text fill=\"#000000\" font-family=\"sans-serif\" font-size=\"12\" lengthAdjust=\"spacingAndGlyphs\" textLength=\"61\" x=\"707.5\" y=\"92.1074\">n: Integer</text><line style=\"stroke: #383838; stroke-width: 1.5;\" x1=\"703.5\" x2=\"772.5\" y1=\"99.9375\" y2=\"99.9375\"/></a><!--MD5=[ebbe1d658d1005bcc118a6aa81145e00]\n",
       "class E4--><a href=\"psysml:9d5a91ec-9b15-487c-8680-11258af91cb9\" target=\"_top\" title=\"psysml:9d5a91ec-9b15-487c-8680-11258af91cb9\" xlink:actuate=\"onRequest\" xlink:href=\"psysml:9d5a91ec-9b15-487c-8680-11258af91cb9\" xlink:show=\"new\" xlink:title=\"psysml:9d5a91ec-9b15-487c-8680-11258af91cb9\" xlink:type=\"simple\"><rect fill=\"#FFFFFF\" height=\"45.9375\" id=\"E4\" rx=\"10\" ry=\"10\" style=\"stroke: #383838; stroke-width: 1.5;\" width=\"42\" x=\"625\" y=\"62\"/><text fill=\"#000000\" font-family=\"sans-serif\" font-size=\"12\" font-style=\"italic\" lengthAdjust=\"spacingAndGlyphs\" textLength=\"40\" x=\"626\" y=\"78.1387\">«part»</text><text fill=\"#000000\" font-family=\"sans-serif\" font-size=\"12\" lengthAdjust=\"spacingAndGlyphs\" textLength=\"8\" x=\"642\" y=\"92.1074\">a</text><line style=\"stroke: #383838; stroke-width: 1.5;\" x1=\"626\" x2=\"666\" y1=\"99.9375\" y2=\"99.9375\"/></a><!--MD5=[270fce915f116d4de14055a7c1d9a0f3]\n",
       "class E5--><a href=\"psysml:0e6ddf84-4c23-42ff-8adf-60418e76591d\" target=\"_top\" title=\"psysml:0e6ddf84-4c23-42ff-8adf-60418e76591d\" xlink:actuate=\"onRequest\" xlink:href=\"psysml:0e6ddf84-4c23-42ff-8adf-60418e76591d\" xlink:show=\"new\" xlink:title=\"psysml:0e6ddf84-4c23-42ff-8adf-60418e76591d\" xlink:type=\"simple\"><rect fill=\"#FFFFFF\" height=\"45.9375\" id=\"E5\" rx=\"10\" ry=\"10\" style=\"stroke: #383838; stroke-width: 1.5;\" width=\"42\" x=\"548\" y=\"62\"/><text fill=\"#000000\" font-family=\"sans-serif\" font-size=\"12\" font-style=\"italic\" lengthAdjust=\"spacingAndGlyphs\" textLength=\"40\" x=\"549\" y=\"78.1387\">«part»</text><text fill=\"#000000\" font-family=\"sans-serif\" font-size=\"12\" lengthAdjust=\"spacingAndGlyphs\" textLength=\"24\" x=\"557\" y=\"92.1074\">b: P</text><line style=\"stroke: #383838; stroke-width: 1.5;\" x1=\"549\" x2=\"589\" y1=\"99.9375\" y2=\"99.9375\"/></a><!--MD5=[60a26617385b1d2d0262a64233df1f8d]\n",
       "class E6--><a href=\"psysml:7a390bd1-339b-4feb-982b-b3a6ee4de727\" target=\"_top\" title=\"psysml:7a390bd1-339b-4feb-982b-b3a6ee4de727\" xlink:actuate=\"onRequest\" xlink:href=\"psysml:7a390bd1-339b-4feb-982b-b3a6ee4de727\" xlink:show=\"new\" xlink:title=\"psysml:7a390bd1-339b-4feb-982b-b3a6ee4de727\" xlink:type=\"simple\"><rect fill=\"#FFFFFF\" height=\"45.9375\" id=\"E6\" rx=\"10\" ry=\"10\" style=\"stroke: #383838; stroke-width: 1.5;\" width=\"42\" x=\"471\" y=\"62\"/><text fill=\"#000000\" font-family=\"sans-serif\" font-size=\"12\" font-style=\"italic\" lengthAdjust=\"spacingAndGlyphs\" textLength=\"40\" x=\"472\" y=\"78.1387\">«part»</text><text fill=\"#000000\" font-family=\"sans-serif\" font-size=\"12\" lengthAdjust=\"spacingAndGlyphs\" textLength=\"23\" x=\"480.5\" y=\"92.1074\">c: P</text><line style=\"stroke: #383838; stroke-width: 1.5;\" x1=\"472\" x2=\"512\" y1=\"99.9375\" y2=\"99.9375\"/></a><!--MD5=[2156ba9850f5573cc1fc38a6a4b2f02b]\n",
       "class E7--><a href=\"psysml:c41308c3-3ab4-4c95-8873-b6daf8742442\" target=\"_top\" title=\"psysml:c41308c3-3ab4-4c95-8873-b6daf8742442\" xlink:actuate=\"onRequest\" xlink:href=\"psysml:c41308c3-3ab4-4c95-8873-b6daf8742442\" xlink:show=\"new\" xlink:title=\"psysml:c41308c3-3ab4-4c95-8873-b6daf8742442\" xlink:type=\"simple\"><rect fill=\"#FFFFFF\" height=\"45.9375\" id=\"E7\" rx=\"10\" ry=\"10\" style=\"stroke: #383838; stroke-width: 1.5;\" width=\"42\" x=\"394\" y=\"62\"/><text fill=\"#000000\" font-family=\"sans-serif\" font-size=\"12\" font-style=\"italic\" lengthAdjust=\"spacingAndGlyphs\" textLength=\"40\" x=\"395\" y=\"78.1387\">«part»</text><text fill=\"#000000\" font-family=\"sans-serif\" font-size=\"12\" lengthAdjust=\"spacingAndGlyphs\" textLength=\"8\" x=\"411\" y=\"92.1074\">d</text><line style=\"stroke: #383838; stroke-width: 1.5;\" x1=\"395\" x2=\"435\" y1=\"99.9375\" y2=\"99.9375\"/></a><!--MD5=[b9389687b975829384b498ac4b7476b2]\n",
       "class E8--><a href=\"psysml:4786ae2f-f4fb-4524-a996-e764bd48b2ea\" target=\"_top\" title=\"psysml:4786ae2f-f4fb-4524-a996-e764bd48b2ea\" xlink:actuate=\"onRequest\" xlink:href=\"psysml:4786ae2f-f4fb-4524-a996-e764bd48b2ea\" xlink:show=\"new\" xlink:title=\"psysml:4786ae2f-f4fb-4524-a996-e764bd48b2ea\" xlink:type=\"simple\"><rect fill=\"#FFFFFF\" height=\"45.9375\" id=\"E8\" rx=\"10\" ry=\"10\" style=\"stroke: #383838; stroke-width: 1.5;\" width=\"42\" x=\"317\" y=\"62\"/><text fill=\"#000000\" font-family=\"sans-serif\" font-size=\"12\" font-style=\"italic\" lengthAdjust=\"spacingAndGlyphs\" textLength=\"40\" x=\"318\" y=\"78.1387\">«part»</text><text fill=\"#000000\" font-family=\"sans-serif\" font-size=\"12\" lengthAdjust=\"spacingAndGlyphs\" textLength=\"8\" x=\"334\" y=\"92.1074\">e</text><line style=\"stroke: #383838; stroke-width: 1.5;\" x1=\"318\" x2=\"358\" y1=\"99.9375\" y2=\"99.9375\"/></a><!--MD5=[fd4143e9d270a159db93a4ea2a975926]\n",
       "class E9--><a href=\"psysml:f4778415-89ee-45ef-90f6-0fdee23f5f44\" target=\"_top\" title=\"psysml:f4778415-89ee-45ef-90f6-0fdee23f5f44\" xlink:actuate=\"onRequest\" xlink:href=\"psysml:f4778415-89ee-45ef-90f6-0fdee23f5f44\" xlink:show=\"new\" xlink:title=\"psysml:f4778415-89ee-45ef-90f6-0fdee23f5f44\" xlink:type=\"simple\"><rect fill=\"#FFFFFF\" height=\"45.9375\" id=\"E9\" rx=\"10\" ry=\"10\" style=\"stroke: #383838; stroke-width: 1.5;\" width=\"42\" x=\"240\" y=\"62\"/><text fill=\"#000000\" font-family=\"sans-serif\" font-size=\"12\" font-style=\"italic\" lengthAdjust=\"spacingAndGlyphs\" textLength=\"40\" x=\"241\" y=\"78.1387\">«part»</text><text fill=\"#000000\" font-family=\"sans-serif\" font-size=\"12\" lengthAdjust=\"spacingAndGlyphs\" textLength=\"4\" x=\"259\" y=\"92.1074\">f</text><line style=\"stroke: #383838; stroke-width: 1.5;\" x1=\"241\" x2=\"281\" y1=\"99.9375\" y2=\"99.9375\"/></a><!--MD5=[96f4274e9e20536e775497830990834d]\n",
       "class E10--><a href=\"psysml:54ce765f-cd4b-40e3-bd55-528058a48d88\" target=\"_top\" title=\"psysml:54ce765f-cd4b-40e3-bd55-528058a48d88\" xlink:actuate=\"onRequest\" xlink:href=\"psysml:54ce765f-cd4b-40e3-bd55-528058a48d88\" xlink:show=\"new\" xlink:title=\"psysml:54ce765f-cd4b-40e3-bd55-528058a48d88\" xlink:type=\"simple\"><rect fill=\"#FFFFFF\" height=\"45.9375\" id=\"E10\" rx=\"10\" ry=\"10\" style=\"stroke: #383838; stroke-width: 1.5;\" width=\"42\" x=\"163\" y=\"62\"/><text fill=\"#000000\" font-family=\"sans-serif\" font-size=\"12\" font-style=\"italic\" lengthAdjust=\"spacingAndGlyphs\" textLength=\"40\" x=\"164\" y=\"78.1387\">«part»</text><text fill=\"#000000\" font-family=\"sans-serif\" font-size=\"12\" lengthAdjust=\"spacingAndGlyphs\" textLength=\"8\" x=\"180\" y=\"92.1074\">g</text><line style=\"stroke: #383838; stroke-width: 1.5;\" x1=\"164\" x2=\"204\" y1=\"99.9375\" y2=\"99.9375\"/></a><!--MD5=[1dd1bfd58a279cf63c5f349dbc8fc6a1]\n",
       "class E11--><a href=\"psysml:39471be4-e308-48bc-96c2-d92b434b60c0\" target=\"_top\" title=\"psysml:39471be4-e308-48bc-96c2-d92b434b60c0\" xlink:actuate=\"onRequest\" xlink:href=\"psysml:39471be4-e308-48bc-96c2-d92b434b60c0\" xlink:show=\"new\" xlink:title=\"psysml:39471be4-e308-48bc-96c2-d92b434b60c0\" xlink:type=\"simple\"><rect fill=\"#FFFFFF\" height=\"88.3516\" id=\"E11\" style=\"stroke: #383838; stroke-width: 1.5;\" width=\"95\" x=\"32.5\" y=\"41\"/><text fill=\"#000000\" font-family=\"sans-serif\" font-size=\"12\" font-style=\"italic\" lengthAdjust=\"spacingAndGlyphs\" textLength=\"93\" x=\"33.5\" y=\"57.1387\">«attribute def»</text><text fill=\"#000000\" font-family=\"sans-serif\" font-size=\"12\" lengthAdjust=\"spacingAndGlyphs\" textLength=\"8\" x=\"76\" y=\"71.1074\">A</text><line style=\"stroke: #383838; stroke-width: 1.5;\" x1=\"33.5\" x2=\"126.5\" y1=\"78.9375\" y2=\"78.9375\"/><text fill=\"#000000\" font-family=\"sans-serif\" font-size=\"11\" lengthAdjust=\"spacingAndGlyphs\" textLength=\"51\" x=\"38.5\" y=\"109.9526\">i: Integer</text><text fill=\"#000000\" font-family=\"sans-serif\" font-size=\"11\" lengthAdjust=\"spacingAndGlyphs\" textLength=\"21\" x=\"38.5\" y=\"122.7573\">x: A</text><line style=\"stroke: #383838; stroke-width: 1.0;\" x1=\"33.5\" x2=\"52.5\" y1=\"93.3398\" y2=\"93.3398\"/><text fill=\"#000000\" font-family=\"sans-serif\" font-size=\"11\" lengthAdjust=\"spacingAndGlyphs\" textLength=\"55\" x=\"52.5\" y=\"96.6479\">attributes</text><line style=\"stroke: #383838; stroke-width: 1.0;\" x1=\"107.5\" x2=\"126.5\" y1=\"93.3398\" y2=\"93.3398\"/></a><!--MD5=[15ebcb19ae302d9b601edb458606d402]\n",
       "link E5 to E2--><a href=\"psysml:911f47bc-487d-4cbf-bcdd-94eeba00c89c\" target=\"_top\" title=\"psysml:911f47bc-487d-4cbf-bcdd-94eeba00c89c\" xlink:actuate=\"onRequest\" xlink:href=\"psysml:911f47bc-487d-4cbf-bcdd-94eeba00c89c\" xlink:show=\"new\" xlink:title=\"psysml:911f47bc-487d-4cbf-bcdd-94eeba00c89c\" xlink:type=\"simple\"><path d=\"M562.12,108.06 C556.83,125 549.38,148.89 542.98,169.39 \" fill=\"none\" id=\"E5-&gt;E2\" style=\"stroke: #383838; stroke-width: 1.0;\"/><polygon fill=\"#FFFFFF\" points=\"536.95,188.74,535.929,168.5173,549.2931,172.6886,536.95,188.74\" style=\"stroke: #383838; stroke-width: 1.0;\"/><ellipse cx=\"539.5364\" cy=\"163.6721\" fill=\"#383838\" rx=\"2\" ry=\"2\" style=\"stroke: #383838; stroke-width: 1.0;\"/><ellipse cx=\"549.0823\" cy=\"166.6516\" fill=\"#383838\" rx=\"2\" ry=\"2\" style=\"stroke: #383838; stroke-width: 1.0;\"/></a><!--MD5=[2351f337d6de0f557b50152ba70847b5]\n",
       "link E6 to E2--><a href=\"psysml:5d978d49-3aad-49b2-9a30-3bd5979ae9aa\" target=\"_top\" title=\"psysml:5d978d49-3aad-49b2-9a30-3bd5979ae9aa\" xlink:actuate=\"onRequest\" xlink:href=\"psysml:5d978d49-3aad-49b2-9a30-3bd5979ae9aa\" xlink:show=\"new\" xlink:title=\"psysml:5d978d49-3aad-49b2-9a30-3bd5979ae9aa\" xlink:type=\"simple\"><path d=\"M498.71,108.06 C503.86,125 511.12,148.89 517.35,169.39 \" fill=\"none\" id=\"E6-&gt;E2\" style=\"stroke: #383838; stroke-width: 1.0;\"/><polygon fill=\"#FFFFFF\" points=\"523.23,188.74,511.007,172.597,524.4019,168.5255,523.23,188.74\" style=\"stroke: #383838; stroke-width: 1.0;\"/><ellipse cx=\"511.2628\" cy=\"166.5617\" fill=\"#383838\" rx=\"2\" ry=\"2\" style=\"stroke: #383838; stroke-width: 1.0;\"/><ellipse cx=\"520.8306\" cy=\"163.6535\" fill=\"#383838\" rx=\"2\" ry=\"2\" style=\"stroke: #383838; stroke-width: 1.0;\"/></a><!--MD5=[7259fc24937634f8031a2465e2612a9a]\n",
       "@startuml\r\n",
       "top to bottom direction\r\n",
       "skinparam monochrome true\r\n",
       "skinparam classbackgroundcolor white\r\n",
       "skinparam shadowing false\r\n",
       "skinparam wrapWidth 300\r\n",
       "hide circle\r\n",
       "\r\n",
       "package \"MultiplicityTest\" as E1  [[psysml:0be6947d-aa66-4017-a009-04bc0f7b30c5 ]]  {\r\n",
       "comp def \"P\" as E2  <<(T,blue)part def>> [[psysml:9ab3d3ff-483c-4e41-ada7-ab2d8c979da0 ]] {\r\n",
       "}\r\n",
       "comp usage \"n: Integer\" as E3  <<(T,blue)attribute>> [[psysml:bb4f0587-9240-4f5c-8b68-755ceb30f0e1 ]] {\r\n",
       "}\r\n",
       "comp usage \"a\" as E4  <<(T,blue)part>> [[psysml:9d5a91ec-9b15-487c-8680-11258af91cb9 ]] {\r\n",
       "}\r\n",
       "comp usage \"b: P\" as E5  <<(T,blue)part>> [[psysml:0e6ddf84-4c23-42ff-8adf-60418e76591d ]] {\r\n",
       "}\r\n",
       "comp usage \"c: P\" as E6  <<(T,blue)part>> [[psysml:7a390bd1-339b-4feb-982b-b3a6ee4de727 ]] {\r\n",
       "}\r\n",
       "comp usage \"d\" as E7  <<(T,blue)part>> [[psysml:c41308c3-3ab4-4c95-8873-b6daf8742442 ]] {\r\n",
       "}\r\n",
       "comp usage \"e\" as E8  <<(T,blue)part>> [[psysml:4786ae2f-f4fb-4524-a996-e764bd48b2ea ]] {\r\n",
       "}\r\n",
       "comp usage \"f\" as E9  <<(T,blue)part>> [[psysml:f4778415-89ee-45ef-90f6-0fdee23f5f44 ]] {\r\n",
       "}\r\n",
       "comp usage \"g\" as E10  <<(T,blue)part>> [[psysml:54ce765f-cd4b-40e3-bd55-528058a48d88 ]] {\r\n",
       "}\r\n",
       "comp def \"A\" as E11  <<(T,blue)attribute def>> [[psysml:39471be4-e308-48bc-96c2-d92b434b60c0 ]] {\r\n",
       "- - attributes - -\r\n",
       "i: Integer\r\n",
       "x: A\r\n",
       "}\r\n",
       "E5 - -:|> E2 [[psysml:911f47bc-487d-4cbf-bcdd-94eeba00c89c ]] \r\n",
       "E6 - -:|> E2 [[psysml:5d978d49-3aad-49b2-9a30-3bd5979ae9aa ]] \r\n",
       "}\r\n",
       "@enduml\r\n",
       "\n",
       "PlantUML version 1.2020.13(Sat Jun 13 12:26:38 UTC 2020)\n",
       "(EPL source distribution)\n",
       "Java Runtime: OpenJDK Runtime Environment\n",
       "JVM: OpenJDK 64-Bit Server VM\n",
       "Default Encoding: UTF-8\n",
       "Language: en\n",
       "Country: null\n",
       "--></g></svg>"
      ]
     },
     "execution_count": 49,
     "metadata": {},
     "output_type": "execute_result"
    }
   ],
   "source": [
    "%viz --style=\"TB\" --view=\"Sequence\" \"MultiplicityTest\""
   ]
  },
  {
   "cell_type": "code",
   "execution_count": 50,
   "id": "cc6d51f2",
   "metadata": {
    "execution": {
     "iopub.execute_input": "2021-04-21T20:26:45.581838Z",
     "iopub.status.busy": "2021-04-21T20:26:45.581211Z",
     "iopub.status.idle": "2021-04-21T20:26:45.629927Z",
     "shell.execute_reply": "2021-04-21T20:26:45.628083Z"
    }
   },
   "outputs": [
    {
     "data": {
      "image/svg+xml": [
       "<?xml version=\"1.0\" encoding=\"UTF-8\" standalone=\"no\"?><svg xmlns=\"http://www.w3.org/2000/svg\" xmlns:xlink=\"http://www.w3.org/1999/xlink\" contentScriptType=\"application/ecmascript\" contentStyleType=\"text/css\" height=\"263px\" preserveAspectRatio=\"none\" style=\"width:812px;height:263px;\" version=\"1.1\" viewBox=\"0 0 812 263\" width=\"812px\" zoomAndPan=\"magnify\"><defs/><g><!--MD5=[fbc87193dbaf4d95561dea2c320d4a47]\n",
       "cluster E1--><a href=\"psysml:0be6947d-aa66-4017-a009-04bc0f7b30c5\" target=\"_top\" title=\"psysml:0be6947d-aa66-4017-a009-04bc0f7b30c5\" xlink:actuate=\"onRequest\" xlink:href=\"psysml:0be6947d-aa66-4017-a009-04bc0f7b30c5\" xlink:show=\"new\" xlink:title=\"psysml:0be6947d-aa66-4017-a009-04bc0f7b30c5\" xlink:type=\"simple\"><polygon fill=\"#FFFFFF\" points=\"16,6,140,6,147,28.2969,790,28.2969,790,251,16,251,16,6\" style=\"stroke: #000000; stroke-width: 1.5;\"/><line style=\"stroke: #000000; stroke-width: 1.5;\" x1=\"16\" x2=\"147\" y1=\"28.2969\" y2=\"28.2969\"/><text fill=\"#000000\" font-family=\"sans-serif\" font-size=\"14\" font-weight=\"bold\" lengthAdjust=\"spacingAndGlyphs\" textLength=\"118\" x=\"20\" y=\"20.9951\">MultiplicityTest</text></a><!--MD5=[b4997ac47864f28c2f74865a473b2911]\n",
       "class E2--><a href=\"psysml:9ab3d3ff-483c-4e41-ada7-ab2d8c979da0\" target=\"_top\" title=\"psysml:9ab3d3ff-483c-4e41-ada7-ab2d8c979da0\" xlink:actuate=\"onRequest\" xlink:href=\"psysml:9ab3d3ff-483c-4e41-ada7-ab2d8c979da0\" xlink:show=\"new\" xlink:title=\"psysml:9ab3d3ff-483c-4e41-ada7-ab2d8c979da0\" xlink:type=\"simple\"><rect fill=\"#FFFFFF\" height=\"45.9375\" id=\"E2\" style=\"stroke: #383838; stroke-width: 1.5;\" width=\"66\" x=\"497\" y=\"189\"/><text fill=\"#000000\" font-family=\"sans-serif\" font-size=\"12\" font-style=\"italic\" lengthAdjust=\"spacingAndGlyphs\" textLength=\"64\" x=\"498\" y=\"205.1387\">«part def»</text><text fill=\"#000000\" font-family=\"sans-serif\" font-size=\"12\" lengthAdjust=\"spacingAndGlyphs\" textLength=\"8\" x=\"526\" y=\"219.1074\">P</text><line style=\"stroke: #383838; stroke-width: 1.5;\" x1=\"498\" x2=\"562\" y1=\"226.9375\" y2=\"226.9375\"/></a><!--MD5=[09b614a08d8cba4a07c9adeb5e0fee81]\n",
       "class E3--><a href=\"psysml:bb4f0587-9240-4f5c-8b68-755ceb30f0e1\" target=\"_top\" title=\"psysml:bb4f0587-9240-4f5c-8b68-755ceb30f0e1\" xlink:actuate=\"onRequest\" xlink:href=\"psysml:bb4f0587-9240-4f5c-8b68-755ceb30f0e1\" xlink:show=\"new\" xlink:title=\"psysml:bb4f0587-9240-4f5c-8b68-755ceb30f0e1\" xlink:type=\"simple\"><rect fill=\"#FFFFFF\" height=\"45.9375\" id=\"E3\" rx=\"10\" ry=\"10\" style=\"stroke: #383838; stroke-width: 1.5;\" width=\"71\" x=\"702.5\" y=\"62\"/><text fill=\"#000000\" font-family=\"sans-serif\" font-size=\"12\" font-style=\"italic\" lengthAdjust=\"spacingAndGlyphs\" textLength=\"69\" x=\"703.5\" y=\"78.1387\">«attribute»</text><text fill=\"#000000\" font-family=\"sans-serif\" font-size=\"12\" lengthAdjust=\"spacingAndGlyphs\" textLength=\"61\" x=\"707.5\" y=\"92.1074\">n: Integer</text><line style=\"stroke: #383838; stroke-width: 1.5;\" x1=\"703.5\" x2=\"772.5\" y1=\"99.9375\" y2=\"99.9375\"/></a><!--MD5=[ebbe1d658d1005bcc118a6aa81145e00]\n",
       "class E4--><a href=\"psysml:9d5a91ec-9b15-487c-8680-11258af91cb9\" target=\"_top\" title=\"psysml:9d5a91ec-9b15-487c-8680-11258af91cb9\" xlink:actuate=\"onRequest\" xlink:href=\"psysml:9d5a91ec-9b15-487c-8680-11258af91cb9\" xlink:show=\"new\" xlink:title=\"psysml:9d5a91ec-9b15-487c-8680-11258af91cb9\" xlink:type=\"simple\"><rect fill=\"#FFFFFF\" height=\"45.9375\" id=\"E4\" rx=\"10\" ry=\"10\" style=\"stroke: #383838; stroke-width: 1.5;\" width=\"42\" x=\"625\" y=\"62\"/><text fill=\"#000000\" font-family=\"sans-serif\" font-size=\"12\" font-style=\"italic\" lengthAdjust=\"spacingAndGlyphs\" textLength=\"40\" x=\"626\" y=\"78.1387\">«part»</text><text fill=\"#000000\" font-family=\"sans-serif\" font-size=\"12\" lengthAdjust=\"spacingAndGlyphs\" textLength=\"8\" x=\"642\" y=\"92.1074\">a</text><line style=\"stroke: #383838; stroke-width: 1.5;\" x1=\"626\" x2=\"666\" y1=\"99.9375\" y2=\"99.9375\"/></a><!--MD5=[270fce915f116d4de14055a7c1d9a0f3]\n",
       "class E5--><a href=\"psysml:0e6ddf84-4c23-42ff-8adf-60418e76591d\" target=\"_top\" title=\"psysml:0e6ddf84-4c23-42ff-8adf-60418e76591d\" xlink:actuate=\"onRequest\" xlink:href=\"psysml:0e6ddf84-4c23-42ff-8adf-60418e76591d\" xlink:show=\"new\" xlink:title=\"psysml:0e6ddf84-4c23-42ff-8adf-60418e76591d\" xlink:type=\"simple\"><rect fill=\"#FFFFFF\" height=\"45.9375\" id=\"E5\" rx=\"10\" ry=\"10\" style=\"stroke: #383838; stroke-width: 1.5;\" width=\"42\" x=\"548\" y=\"62\"/><text fill=\"#000000\" font-family=\"sans-serif\" font-size=\"12\" font-style=\"italic\" lengthAdjust=\"spacingAndGlyphs\" textLength=\"40\" x=\"549\" y=\"78.1387\">«part»</text><text fill=\"#000000\" font-family=\"sans-serif\" font-size=\"12\" lengthAdjust=\"spacingAndGlyphs\" textLength=\"24\" x=\"557\" y=\"92.1074\">b: P</text><line style=\"stroke: #383838; stroke-width: 1.5;\" x1=\"549\" x2=\"589\" y1=\"99.9375\" y2=\"99.9375\"/></a><!--MD5=[60a26617385b1d2d0262a64233df1f8d]\n",
       "class E6--><a href=\"psysml:7a390bd1-339b-4feb-982b-b3a6ee4de727\" target=\"_top\" title=\"psysml:7a390bd1-339b-4feb-982b-b3a6ee4de727\" xlink:actuate=\"onRequest\" xlink:href=\"psysml:7a390bd1-339b-4feb-982b-b3a6ee4de727\" xlink:show=\"new\" xlink:title=\"psysml:7a390bd1-339b-4feb-982b-b3a6ee4de727\" xlink:type=\"simple\"><rect fill=\"#FFFFFF\" height=\"45.9375\" id=\"E6\" rx=\"10\" ry=\"10\" style=\"stroke: #383838; stroke-width: 1.5;\" width=\"42\" x=\"471\" y=\"62\"/><text fill=\"#000000\" font-family=\"sans-serif\" font-size=\"12\" font-style=\"italic\" lengthAdjust=\"spacingAndGlyphs\" textLength=\"40\" x=\"472\" y=\"78.1387\">«part»</text><text fill=\"#000000\" font-family=\"sans-serif\" font-size=\"12\" lengthAdjust=\"spacingAndGlyphs\" textLength=\"23\" x=\"480.5\" y=\"92.1074\">c: P</text><line style=\"stroke: #383838; stroke-width: 1.5;\" x1=\"472\" x2=\"512\" y1=\"99.9375\" y2=\"99.9375\"/></a><!--MD5=[2156ba9850f5573cc1fc38a6a4b2f02b]\n",
       "class E7--><a href=\"psysml:c41308c3-3ab4-4c95-8873-b6daf8742442\" target=\"_top\" title=\"psysml:c41308c3-3ab4-4c95-8873-b6daf8742442\" xlink:actuate=\"onRequest\" xlink:href=\"psysml:c41308c3-3ab4-4c95-8873-b6daf8742442\" xlink:show=\"new\" xlink:title=\"psysml:c41308c3-3ab4-4c95-8873-b6daf8742442\" xlink:type=\"simple\"><rect fill=\"#FFFFFF\" height=\"45.9375\" id=\"E7\" rx=\"10\" ry=\"10\" style=\"stroke: #383838; stroke-width: 1.5;\" width=\"42\" x=\"394\" y=\"62\"/><text fill=\"#000000\" font-family=\"sans-serif\" font-size=\"12\" font-style=\"italic\" lengthAdjust=\"spacingAndGlyphs\" textLength=\"40\" x=\"395\" y=\"78.1387\">«part»</text><text fill=\"#000000\" font-family=\"sans-serif\" font-size=\"12\" lengthAdjust=\"spacingAndGlyphs\" textLength=\"8\" x=\"411\" y=\"92.1074\">d</text><line style=\"stroke: #383838; stroke-width: 1.5;\" x1=\"395\" x2=\"435\" y1=\"99.9375\" y2=\"99.9375\"/></a><!--MD5=[b9389687b975829384b498ac4b7476b2]\n",
       "class E8--><a href=\"psysml:4786ae2f-f4fb-4524-a996-e764bd48b2ea\" target=\"_top\" title=\"psysml:4786ae2f-f4fb-4524-a996-e764bd48b2ea\" xlink:actuate=\"onRequest\" xlink:href=\"psysml:4786ae2f-f4fb-4524-a996-e764bd48b2ea\" xlink:show=\"new\" xlink:title=\"psysml:4786ae2f-f4fb-4524-a996-e764bd48b2ea\" xlink:type=\"simple\"><rect fill=\"#FFFFFF\" height=\"45.9375\" id=\"E8\" rx=\"10\" ry=\"10\" style=\"stroke: #383838; stroke-width: 1.5;\" width=\"42\" x=\"317\" y=\"62\"/><text fill=\"#000000\" font-family=\"sans-serif\" font-size=\"12\" font-style=\"italic\" lengthAdjust=\"spacingAndGlyphs\" textLength=\"40\" x=\"318\" y=\"78.1387\">«part»</text><text fill=\"#000000\" font-family=\"sans-serif\" font-size=\"12\" lengthAdjust=\"spacingAndGlyphs\" textLength=\"8\" x=\"334\" y=\"92.1074\">e</text><line style=\"stroke: #383838; stroke-width: 1.5;\" x1=\"318\" x2=\"358\" y1=\"99.9375\" y2=\"99.9375\"/></a><!--MD5=[fd4143e9d270a159db93a4ea2a975926]\n",
       "class E9--><a href=\"psysml:f4778415-89ee-45ef-90f6-0fdee23f5f44\" target=\"_top\" title=\"psysml:f4778415-89ee-45ef-90f6-0fdee23f5f44\" xlink:actuate=\"onRequest\" xlink:href=\"psysml:f4778415-89ee-45ef-90f6-0fdee23f5f44\" xlink:show=\"new\" xlink:title=\"psysml:f4778415-89ee-45ef-90f6-0fdee23f5f44\" xlink:type=\"simple\"><rect fill=\"#FFFFFF\" height=\"45.9375\" id=\"E9\" rx=\"10\" ry=\"10\" style=\"stroke: #383838; stroke-width: 1.5;\" width=\"42\" x=\"240\" y=\"62\"/><text fill=\"#000000\" font-family=\"sans-serif\" font-size=\"12\" font-style=\"italic\" lengthAdjust=\"spacingAndGlyphs\" textLength=\"40\" x=\"241\" y=\"78.1387\">«part»</text><text fill=\"#000000\" font-family=\"sans-serif\" font-size=\"12\" lengthAdjust=\"spacingAndGlyphs\" textLength=\"4\" x=\"259\" y=\"92.1074\">f</text><line style=\"stroke: #383838; stroke-width: 1.5;\" x1=\"241\" x2=\"281\" y1=\"99.9375\" y2=\"99.9375\"/></a><!--MD5=[96f4274e9e20536e775497830990834d]\n",
       "class E10--><a href=\"psysml:54ce765f-cd4b-40e3-bd55-528058a48d88\" target=\"_top\" title=\"psysml:54ce765f-cd4b-40e3-bd55-528058a48d88\" xlink:actuate=\"onRequest\" xlink:href=\"psysml:54ce765f-cd4b-40e3-bd55-528058a48d88\" xlink:show=\"new\" xlink:title=\"psysml:54ce765f-cd4b-40e3-bd55-528058a48d88\" xlink:type=\"simple\"><rect fill=\"#FFFFFF\" height=\"45.9375\" id=\"E10\" rx=\"10\" ry=\"10\" style=\"stroke: #383838; stroke-width: 1.5;\" width=\"42\" x=\"163\" y=\"62\"/><text fill=\"#000000\" font-family=\"sans-serif\" font-size=\"12\" font-style=\"italic\" lengthAdjust=\"spacingAndGlyphs\" textLength=\"40\" x=\"164\" y=\"78.1387\">«part»</text><text fill=\"#000000\" font-family=\"sans-serif\" font-size=\"12\" lengthAdjust=\"spacingAndGlyphs\" textLength=\"8\" x=\"180\" y=\"92.1074\">g</text><line style=\"stroke: #383838; stroke-width: 1.5;\" x1=\"164\" x2=\"204\" y1=\"99.9375\" y2=\"99.9375\"/></a><!--MD5=[1dd1bfd58a279cf63c5f349dbc8fc6a1]\n",
       "class E11--><a href=\"psysml:39471be4-e308-48bc-96c2-d92b434b60c0\" target=\"_top\" title=\"psysml:39471be4-e308-48bc-96c2-d92b434b60c0\" xlink:actuate=\"onRequest\" xlink:href=\"psysml:39471be4-e308-48bc-96c2-d92b434b60c0\" xlink:show=\"new\" xlink:title=\"psysml:39471be4-e308-48bc-96c2-d92b434b60c0\" xlink:type=\"simple\"><rect fill=\"#FFFFFF\" height=\"88.3516\" id=\"E11\" style=\"stroke: #383838; stroke-width: 1.5;\" width=\"95\" x=\"32.5\" y=\"41\"/><text fill=\"#000000\" font-family=\"sans-serif\" font-size=\"12\" font-style=\"italic\" lengthAdjust=\"spacingAndGlyphs\" textLength=\"93\" x=\"33.5\" y=\"57.1387\">«attribute def»</text><text fill=\"#000000\" font-family=\"sans-serif\" font-size=\"12\" lengthAdjust=\"spacingAndGlyphs\" textLength=\"8\" x=\"76\" y=\"71.1074\">A</text><line style=\"stroke: #383838; stroke-width: 1.5;\" x1=\"33.5\" x2=\"126.5\" y1=\"78.9375\" y2=\"78.9375\"/><text fill=\"#000000\" font-family=\"sans-serif\" font-size=\"11\" lengthAdjust=\"spacingAndGlyphs\" textLength=\"51\" x=\"38.5\" y=\"109.9526\">i: Integer</text><text fill=\"#000000\" font-family=\"sans-serif\" font-size=\"11\" lengthAdjust=\"spacingAndGlyphs\" textLength=\"21\" x=\"38.5\" y=\"122.7573\">x: A</text><line style=\"stroke: #383838; stroke-width: 1.0;\" x1=\"33.5\" x2=\"52.5\" y1=\"93.3398\" y2=\"93.3398\"/><text fill=\"#000000\" font-family=\"sans-serif\" font-size=\"11\" lengthAdjust=\"spacingAndGlyphs\" textLength=\"55\" x=\"52.5\" y=\"96.6479\">attributes</text><line style=\"stroke: #383838; stroke-width: 1.0;\" x1=\"107.5\" x2=\"126.5\" y1=\"93.3398\" y2=\"93.3398\"/></a><!--MD5=[15ebcb19ae302d9b601edb458606d402]\n",
       "link E5 to E2--><a href=\"psysml:911f47bc-487d-4cbf-bcdd-94eeba00c89c\" target=\"_top\" title=\"psysml:911f47bc-487d-4cbf-bcdd-94eeba00c89c\" xlink:actuate=\"onRequest\" xlink:href=\"psysml:911f47bc-487d-4cbf-bcdd-94eeba00c89c\" xlink:show=\"new\" xlink:title=\"psysml:911f47bc-487d-4cbf-bcdd-94eeba00c89c\" xlink:type=\"simple\"><path d=\"M562.12,108.06 C556.83,125 549.38,148.89 542.98,169.39 \" fill=\"none\" id=\"E5-&gt;E2\" style=\"stroke: #383838; stroke-width: 1.0;\"/><polygon fill=\"#FFFFFF\" points=\"536.95,188.74,535.929,168.5173,549.2931,172.6886,536.95,188.74\" style=\"stroke: #383838; stroke-width: 1.0;\"/><ellipse cx=\"539.5364\" cy=\"163.6721\" fill=\"#383838\" rx=\"2\" ry=\"2\" style=\"stroke: #383838; stroke-width: 1.0;\"/><ellipse cx=\"549.0823\" cy=\"166.6516\" fill=\"#383838\" rx=\"2\" ry=\"2\" style=\"stroke: #383838; stroke-width: 1.0;\"/></a><!--MD5=[2351f337d6de0f557b50152ba70847b5]\n",
       "link E6 to E2--><a href=\"psysml:5d978d49-3aad-49b2-9a30-3bd5979ae9aa\" target=\"_top\" title=\"psysml:5d978d49-3aad-49b2-9a30-3bd5979ae9aa\" xlink:actuate=\"onRequest\" xlink:href=\"psysml:5d978d49-3aad-49b2-9a30-3bd5979ae9aa\" xlink:show=\"new\" xlink:title=\"psysml:5d978d49-3aad-49b2-9a30-3bd5979ae9aa\" xlink:type=\"simple\"><path d=\"M498.71,108.06 C503.86,125 511.12,148.89 517.35,169.39 \" fill=\"none\" id=\"E6-&gt;E2\" style=\"stroke: #383838; stroke-width: 1.0;\"/><polygon fill=\"#FFFFFF\" points=\"523.23,188.74,511.007,172.597,524.4019,168.5255,523.23,188.74\" style=\"stroke: #383838; stroke-width: 1.0;\"/><ellipse cx=\"511.2628\" cy=\"166.5617\" fill=\"#383838\" rx=\"2\" ry=\"2\" style=\"stroke: #383838; stroke-width: 1.0;\"/><ellipse cx=\"520.8306\" cy=\"163.6535\" fill=\"#383838\" rx=\"2\" ry=\"2\" style=\"stroke: #383838; stroke-width: 1.0;\"/></a><!--MD5=[7259fc24937634f8031a2465e2612a9a]\n",
       "@startuml\r\n",
       "top to bottom direction\r\n",
       "skinparam monochrome true\r\n",
       "skinparam classbackgroundcolor white\r\n",
       "skinparam shadowing false\r\n",
       "skinparam wrapWidth 300\r\n",
       "hide circle\r\n",
       "\r\n",
       "package \"MultiplicityTest\" as E1  [[psysml:0be6947d-aa66-4017-a009-04bc0f7b30c5 ]]  {\r\n",
       "comp def \"P\" as E2  <<(T,blue)part def>> [[psysml:9ab3d3ff-483c-4e41-ada7-ab2d8c979da0 ]] {\r\n",
       "}\r\n",
       "comp usage \"n: Integer\" as E3  <<(T,blue)attribute>> [[psysml:bb4f0587-9240-4f5c-8b68-755ceb30f0e1 ]] {\r\n",
       "}\r\n",
       "comp usage \"a\" as E4  <<(T,blue)part>> [[psysml:9d5a91ec-9b15-487c-8680-11258af91cb9 ]] {\r\n",
       "}\r\n",
       "comp usage \"b: P\" as E5  <<(T,blue)part>> [[psysml:0e6ddf84-4c23-42ff-8adf-60418e76591d ]] {\r\n",
       "}\r\n",
       "comp usage \"c: P\" as E6  <<(T,blue)part>> [[psysml:7a390bd1-339b-4feb-982b-b3a6ee4de727 ]] {\r\n",
       "}\r\n",
       "comp usage \"d\" as E7  <<(T,blue)part>> [[psysml:c41308c3-3ab4-4c95-8873-b6daf8742442 ]] {\r\n",
       "}\r\n",
       "comp usage \"e\" as E8  <<(T,blue)part>> [[psysml:4786ae2f-f4fb-4524-a996-e764bd48b2ea ]] {\r\n",
       "}\r\n",
       "comp usage \"f\" as E9  <<(T,blue)part>> [[psysml:f4778415-89ee-45ef-90f6-0fdee23f5f44 ]] {\r\n",
       "}\r\n",
       "comp usage \"g\" as E10  <<(T,blue)part>> [[psysml:54ce765f-cd4b-40e3-bd55-528058a48d88 ]] {\r\n",
       "}\r\n",
       "comp def \"A\" as E11  <<(T,blue)attribute def>> [[psysml:39471be4-e308-48bc-96c2-d92b434b60c0 ]] {\r\n",
       "- - attributes - -\r\n",
       "i: Integer\r\n",
       "x: A\r\n",
       "}\r\n",
       "E5 - -:|> E2 [[psysml:911f47bc-487d-4cbf-bcdd-94eeba00c89c ]] \r\n",
       "E6 - -:|> E2 [[psysml:5d978d49-3aad-49b2-9a30-3bd5979ae9aa ]] \r\n",
       "}\r\n",
       "@enduml\r\n",
       "\n",
       "PlantUML version 1.2020.13(Sat Jun 13 12:26:38 UTC 2020)\n",
       "(EPL source distribution)\n",
       "Java Runtime: OpenJDK Runtime Environment\n",
       "JVM: OpenJDK 64-Bit Server VM\n",
       "Default Encoding: UTF-8\n",
       "Language: en\n",
       "Country: null\n",
       "--></g></svg>"
      ]
     },
     "execution_count": 50,
     "metadata": {},
     "output_type": "execute_result"
    }
   ],
   "source": [
    "%viz --style=\"TB\" --view=\"MIXED\" \"MultiplicityTest\""
   ]
  },
  {
   "cell_type": "code",
   "execution_count": 51,
   "id": "80f6c53e",
   "metadata": {
    "execution": {
     "iopub.execute_input": "2021-04-21T20:26:45.679683Z",
     "iopub.status.busy": "2021-04-21T20:26:45.679271Z",
     "iopub.status.idle": "2021-04-21T20:26:45.728924Z",
     "shell.execute_reply": "2021-04-21T20:26:45.727393Z"
    }
   },
   "outputs": [
    {
     "data": {
      "image/svg+xml": [
       "<?xml version=\"1.0\" encoding=\"UTF-8\" standalone=\"no\"?><svg xmlns=\"http://www.w3.org/2000/svg\" xmlns:xlink=\"http://www.w3.org/1999/xlink\" contentScriptType=\"application/ecmascript\" contentStyleType=\"text/css\" height=\"263px\" preserveAspectRatio=\"none\" style=\"width:812px;height:263px;\" version=\"1.1\" viewBox=\"0 0 812 263\" width=\"812px\" zoomAndPan=\"magnify\"><defs/><g><!--MD5=[fbc87193dbaf4d95561dea2c320d4a47]\n",
       "cluster E1--><a href=\"psysml:0be6947d-aa66-4017-a009-04bc0f7b30c5\" target=\"_top\" title=\"psysml:0be6947d-aa66-4017-a009-04bc0f7b30c5\" xlink:actuate=\"onRequest\" xlink:href=\"psysml:0be6947d-aa66-4017-a009-04bc0f7b30c5\" xlink:show=\"new\" xlink:title=\"psysml:0be6947d-aa66-4017-a009-04bc0f7b30c5\" xlink:type=\"simple\"><polygon fill=\"#FFFFFF\" points=\"16,6,140,6,147,28.2969,790,28.2969,790,251,16,251,16,6\" style=\"stroke: #000000; stroke-width: 1.5;\"/><line style=\"stroke: #000000; stroke-width: 1.5;\" x1=\"16\" x2=\"147\" y1=\"28.2969\" y2=\"28.2969\"/><text fill=\"#000000\" font-family=\"sans-serif\" font-size=\"14\" font-weight=\"bold\" lengthAdjust=\"spacingAndGlyphs\" textLength=\"118\" x=\"20\" y=\"20.9951\">MultiplicityTest</text></a><!--MD5=[b4997ac47864f28c2f74865a473b2911]\n",
       "class E2--><a href=\"psysml:9ab3d3ff-483c-4e41-ada7-ab2d8c979da0\" target=\"_top\" title=\"psysml:9ab3d3ff-483c-4e41-ada7-ab2d8c979da0\" xlink:actuate=\"onRequest\" xlink:href=\"psysml:9ab3d3ff-483c-4e41-ada7-ab2d8c979da0\" xlink:show=\"new\" xlink:title=\"psysml:9ab3d3ff-483c-4e41-ada7-ab2d8c979da0\" xlink:type=\"simple\"><rect fill=\"#FFFFFF\" height=\"45.9375\" id=\"E2\" style=\"stroke: #383838; stroke-width: 1.5;\" width=\"66\" x=\"497\" y=\"189\"/><text fill=\"#000000\" font-family=\"sans-serif\" font-size=\"12\" font-style=\"italic\" lengthAdjust=\"spacingAndGlyphs\" textLength=\"64\" x=\"498\" y=\"205.1387\">«part def»</text><text fill=\"#000000\" font-family=\"sans-serif\" font-size=\"12\" lengthAdjust=\"spacingAndGlyphs\" textLength=\"8\" x=\"526\" y=\"219.1074\">P</text><line style=\"stroke: #383838; stroke-width: 1.5;\" x1=\"498\" x2=\"562\" y1=\"226.9375\" y2=\"226.9375\"/></a><!--MD5=[09b614a08d8cba4a07c9adeb5e0fee81]\n",
       "class E3--><a href=\"psysml:bb4f0587-9240-4f5c-8b68-755ceb30f0e1\" target=\"_top\" title=\"psysml:bb4f0587-9240-4f5c-8b68-755ceb30f0e1\" xlink:actuate=\"onRequest\" xlink:href=\"psysml:bb4f0587-9240-4f5c-8b68-755ceb30f0e1\" xlink:show=\"new\" xlink:title=\"psysml:bb4f0587-9240-4f5c-8b68-755ceb30f0e1\" xlink:type=\"simple\"><rect fill=\"#FFFFFF\" height=\"45.9375\" id=\"E3\" rx=\"10\" ry=\"10\" style=\"stroke: #383838; stroke-width: 1.5;\" width=\"71\" x=\"702.5\" y=\"62\"/><text fill=\"#000000\" font-family=\"sans-serif\" font-size=\"12\" font-style=\"italic\" lengthAdjust=\"spacingAndGlyphs\" textLength=\"69\" x=\"703.5\" y=\"78.1387\">«attribute»</text><text fill=\"#000000\" font-family=\"sans-serif\" font-size=\"12\" lengthAdjust=\"spacingAndGlyphs\" textLength=\"61\" x=\"707.5\" y=\"92.1074\">n: Integer</text><line style=\"stroke: #383838; stroke-width: 1.5;\" x1=\"703.5\" x2=\"772.5\" y1=\"99.9375\" y2=\"99.9375\"/></a><!--MD5=[ebbe1d658d1005bcc118a6aa81145e00]\n",
       "class E4--><a href=\"psysml:9d5a91ec-9b15-487c-8680-11258af91cb9\" target=\"_top\" title=\"psysml:9d5a91ec-9b15-487c-8680-11258af91cb9\" xlink:actuate=\"onRequest\" xlink:href=\"psysml:9d5a91ec-9b15-487c-8680-11258af91cb9\" xlink:show=\"new\" xlink:title=\"psysml:9d5a91ec-9b15-487c-8680-11258af91cb9\" xlink:type=\"simple\"><rect fill=\"#FFFFFF\" height=\"45.9375\" id=\"E4\" rx=\"10\" ry=\"10\" style=\"stroke: #383838; stroke-width: 1.5;\" width=\"42\" x=\"625\" y=\"62\"/><text fill=\"#000000\" font-family=\"sans-serif\" font-size=\"12\" font-style=\"italic\" lengthAdjust=\"spacingAndGlyphs\" textLength=\"40\" x=\"626\" y=\"78.1387\">«part»</text><text fill=\"#000000\" font-family=\"sans-serif\" font-size=\"12\" lengthAdjust=\"spacingAndGlyphs\" textLength=\"8\" x=\"642\" y=\"92.1074\">a</text><line style=\"stroke: #383838; stroke-width: 1.5;\" x1=\"626\" x2=\"666\" y1=\"99.9375\" y2=\"99.9375\"/></a><!--MD5=[270fce915f116d4de14055a7c1d9a0f3]\n",
       "class E5--><a href=\"psysml:0e6ddf84-4c23-42ff-8adf-60418e76591d\" target=\"_top\" title=\"psysml:0e6ddf84-4c23-42ff-8adf-60418e76591d\" xlink:actuate=\"onRequest\" xlink:href=\"psysml:0e6ddf84-4c23-42ff-8adf-60418e76591d\" xlink:show=\"new\" xlink:title=\"psysml:0e6ddf84-4c23-42ff-8adf-60418e76591d\" xlink:type=\"simple\"><rect fill=\"#FFFFFF\" height=\"45.9375\" id=\"E5\" rx=\"10\" ry=\"10\" style=\"stroke: #383838; stroke-width: 1.5;\" width=\"42\" x=\"548\" y=\"62\"/><text fill=\"#000000\" font-family=\"sans-serif\" font-size=\"12\" font-style=\"italic\" lengthAdjust=\"spacingAndGlyphs\" textLength=\"40\" x=\"549\" y=\"78.1387\">«part»</text><text fill=\"#000000\" font-family=\"sans-serif\" font-size=\"12\" lengthAdjust=\"spacingAndGlyphs\" textLength=\"24\" x=\"557\" y=\"92.1074\">b: P</text><line style=\"stroke: #383838; stroke-width: 1.5;\" x1=\"549\" x2=\"589\" y1=\"99.9375\" y2=\"99.9375\"/></a><!--MD5=[60a26617385b1d2d0262a64233df1f8d]\n",
       "class E6--><a href=\"psysml:7a390bd1-339b-4feb-982b-b3a6ee4de727\" target=\"_top\" title=\"psysml:7a390bd1-339b-4feb-982b-b3a6ee4de727\" xlink:actuate=\"onRequest\" xlink:href=\"psysml:7a390bd1-339b-4feb-982b-b3a6ee4de727\" xlink:show=\"new\" xlink:title=\"psysml:7a390bd1-339b-4feb-982b-b3a6ee4de727\" xlink:type=\"simple\"><rect fill=\"#FFFFFF\" height=\"45.9375\" id=\"E6\" rx=\"10\" ry=\"10\" style=\"stroke: #383838; stroke-width: 1.5;\" width=\"42\" x=\"471\" y=\"62\"/><text fill=\"#000000\" font-family=\"sans-serif\" font-size=\"12\" font-style=\"italic\" lengthAdjust=\"spacingAndGlyphs\" textLength=\"40\" x=\"472\" y=\"78.1387\">«part»</text><text fill=\"#000000\" font-family=\"sans-serif\" font-size=\"12\" lengthAdjust=\"spacingAndGlyphs\" textLength=\"23\" x=\"480.5\" y=\"92.1074\">c: P</text><line style=\"stroke: #383838; stroke-width: 1.5;\" x1=\"472\" x2=\"512\" y1=\"99.9375\" y2=\"99.9375\"/></a><!--MD5=[2156ba9850f5573cc1fc38a6a4b2f02b]\n",
       "class E7--><a href=\"psysml:c41308c3-3ab4-4c95-8873-b6daf8742442\" target=\"_top\" title=\"psysml:c41308c3-3ab4-4c95-8873-b6daf8742442\" xlink:actuate=\"onRequest\" xlink:href=\"psysml:c41308c3-3ab4-4c95-8873-b6daf8742442\" xlink:show=\"new\" xlink:title=\"psysml:c41308c3-3ab4-4c95-8873-b6daf8742442\" xlink:type=\"simple\"><rect fill=\"#FFFFFF\" height=\"45.9375\" id=\"E7\" rx=\"10\" ry=\"10\" style=\"stroke: #383838; stroke-width: 1.5;\" width=\"42\" x=\"394\" y=\"62\"/><text fill=\"#000000\" font-family=\"sans-serif\" font-size=\"12\" font-style=\"italic\" lengthAdjust=\"spacingAndGlyphs\" textLength=\"40\" x=\"395\" y=\"78.1387\">«part»</text><text fill=\"#000000\" font-family=\"sans-serif\" font-size=\"12\" lengthAdjust=\"spacingAndGlyphs\" textLength=\"8\" x=\"411\" y=\"92.1074\">d</text><line style=\"stroke: #383838; stroke-width: 1.5;\" x1=\"395\" x2=\"435\" y1=\"99.9375\" y2=\"99.9375\"/></a><!--MD5=[b9389687b975829384b498ac4b7476b2]\n",
       "class E8--><a href=\"psysml:4786ae2f-f4fb-4524-a996-e764bd48b2ea\" target=\"_top\" title=\"psysml:4786ae2f-f4fb-4524-a996-e764bd48b2ea\" xlink:actuate=\"onRequest\" xlink:href=\"psysml:4786ae2f-f4fb-4524-a996-e764bd48b2ea\" xlink:show=\"new\" xlink:title=\"psysml:4786ae2f-f4fb-4524-a996-e764bd48b2ea\" xlink:type=\"simple\"><rect fill=\"#FFFFFF\" height=\"45.9375\" id=\"E8\" rx=\"10\" ry=\"10\" style=\"stroke: #383838; stroke-width: 1.5;\" width=\"42\" x=\"317\" y=\"62\"/><text fill=\"#000000\" font-family=\"sans-serif\" font-size=\"12\" font-style=\"italic\" lengthAdjust=\"spacingAndGlyphs\" textLength=\"40\" x=\"318\" y=\"78.1387\">«part»</text><text fill=\"#000000\" font-family=\"sans-serif\" font-size=\"12\" lengthAdjust=\"spacingAndGlyphs\" textLength=\"8\" x=\"334\" y=\"92.1074\">e</text><line style=\"stroke: #383838; stroke-width: 1.5;\" x1=\"318\" x2=\"358\" y1=\"99.9375\" y2=\"99.9375\"/></a><!--MD5=[fd4143e9d270a159db93a4ea2a975926]\n",
       "class E9--><a href=\"psysml:f4778415-89ee-45ef-90f6-0fdee23f5f44\" target=\"_top\" title=\"psysml:f4778415-89ee-45ef-90f6-0fdee23f5f44\" xlink:actuate=\"onRequest\" xlink:href=\"psysml:f4778415-89ee-45ef-90f6-0fdee23f5f44\" xlink:show=\"new\" xlink:title=\"psysml:f4778415-89ee-45ef-90f6-0fdee23f5f44\" xlink:type=\"simple\"><rect fill=\"#FFFFFF\" height=\"45.9375\" id=\"E9\" rx=\"10\" ry=\"10\" style=\"stroke: #383838; stroke-width: 1.5;\" width=\"42\" x=\"240\" y=\"62\"/><text fill=\"#000000\" font-family=\"sans-serif\" font-size=\"12\" font-style=\"italic\" lengthAdjust=\"spacingAndGlyphs\" textLength=\"40\" x=\"241\" y=\"78.1387\">«part»</text><text fill=\"#000000\" font-family=\"sans-serif\" font-size=\"12\" lengthAdjust=\"spacingAndGlyphs\" textLength=\"4\" x=\"259\" y=\"92.1074\">f</text><line style=\"stroke: #383838; stroke-width: 1.5;\" x1=\"241\" x2=\"281\" y1=\"99.9375\" y2=\"99.9375\"/></a><!--MD5=[96f4274e9e20536e775497830990834d]\n",
       "class E10--><a href=\"psysml:54ce765f-cd4b-40e3-bd55-528058a48d88\" target=\"_top\" title=\"psysml:54ce765f-cd4b-40e3-bd55-528058a48d88\" xlink:actuate=\"onRequest\" xlink:href=\"psysml:54ce765f-cd4b-40e3-bd55-528058a48d88\" xlink:show=\"new\" xlink:title=\"psysml:54ce765f-cd4b-40e3-bd55-528058a48d88\" xlink:type=\"simple\"><rect fill=\"#FFFFFF\" height=\"45.9375\" id=\"E10\" rx=\"10\" ry=\"10\" style=\"stroke: #383838; stroke-width: 1.5;\" width=\"42\" x=\"163\" y=\"62\"/><text fill=\"#000000\" font-family=\"sans-serif\" font-size=\"12\" font-style=\"italic\" lengthAdjust=\"spacingAndGlyphs\" textLength=\"40\" x=\"164\" y=\"78.1387\">«part»</text><text fill=\"#000000\" font-family=\"sans-serif\" font-size=\"12\" lengthAdjust=\"spacingAndGlyphs\" textLength=\"8\" x=\"180\" y=\"92.1074\">g</text><line style=\"stroke: #383838; stroke-width: 1.5;\" x1=\"164\" x2=\"204\" y1=\"99.9375\" y2=\"99.9375\"/></a><!--MD5=[1dd1bfd58a279cf63c5f349dbc8fc6a1]\n",
       "class E11--><a href=\"psysml:39471be4-e308-48bc-96c2-d92b434b60c0\" target=\"_top\" title=\"psysml:39471be4-e308-48bc-96c2-d92b434b60c0\" xlink:actuate=\"onRequest\" xlink:href=\"psysml:39471be4-e308-48bc-96c2-d92b434b60c0\" xlink:show=\"new\" xlink:title=\"psysml:39471be4-e308-48bc-96c2-d92b434b60c0\" xlink:type=\"simple\"><rect fill=\"#FFFFFF\" height=\"88.3516\" id=\"E11\" style=\"stroke: #383838; stroke-width: 1.5;\" width=\"95\" x=\"32.5\" y=\"41\"/><text fill=\"#000000\" font-family=\"sans-serif\" font-size=\"12\" font-style=\"italic\" lengthAdjust=\"spacingAndGlyphs\" textLength=\"93\" x=\"33.5\" y=\"57.1387\">«attribute def»</text><text fill=\"#000000\" font-family=\"sans-serif\" font-size=\"12\" lengthAdjust=\"spacingAndGlyphs\" textLength=\"8\" x=\"76\" y=\"71.1074\">A</text><line style=\"stroke: #383838; stroke-width: 1.5;\" x1=\"33.5\" x2=\"126.5\" y1=\"78.9375\" y2=\"78.9375\"/><text fill=\"#000000\" font-family=\"sans-serif\" font-size=\"11\" lengthAdjust=\"spacingAndGlyphs\" textLength=\"51\" x=\"38.5\" y=\"109.9526\">i: Integer</text><text fill=\"#000000\" font-family=\"sans-serif\" font-size=\"11\" lengthAdjust=\"spacingAndGlyphs\" textLength=\"21\" x=\"38.5\" y=\"122.7573\">x: A</text><line style=\"stroke: #383838; stroke-width: 1.0;\" x1=\"33.5\" x2=\"52.5\" y1=\"93.3398\" y2=\"93.3398\"/><text fill=\"#000000\" font-family=\"sans-serif\" font-size=\"11\" lengthAdjust=\"spacingAndGlyphs\" textLength=\"55\" x=\"52.5\" y=\"96.6479\">attributes</text><line style=\"stroke: #383838; stroke-width: 1.0;\" x1=\"107.5\" x2=\"126.5\" y1=\"93.3398\" y2=\"93.3398\"/></a><!--MD5=[15ebcb19ae302d9b601edb458606d402]\n",
       "link E5 to E2--><a href=\"psysml:911f47bc-487d-4cbf-bcdd-94eeba00c89c\" target=\"_top\" title=\"psysml:911f47bc-487d-4cbf-bcdd-94eeba00c89c\" xlink:actuate=\"onRequest\" xlink:href=\"psysml:911f47bc-487d-4cbf-bcdd-94eeba00c89c\" xlink:show=\"new\" xlink:title=\"psysml:911f47bc-487d-4cbf-bcdd-94eeba00c89c\" xlink:type=\"simple\"><path d=\"M555.5,108.29 C555.5,108.29 555.5,168.85 555.5,168.85 \" fill=\"none\" id=\"E5-&gt;E2\" style=\"stroke: #383838; stroke-width: 1.0;\"/><polygon fill=\"#FFFFFF\" points=\"555.5,188.85,548.5,169.85,562.5,169.85,555.5,188.85\" style=\"stroke: #383838; stroke-width: 1.0;\"/><ellipse cx=\"550.5\" cy=\"164.15\" fill=\"#383838\" rx=\"2\" ry=\"2\" style=\"stroke: #383838; stroke-width: 1.0;\"/><ellipse cx=\"560.5\" cy=\"164.15\" fill=\"#383838\" rx=\"2\" ry=\"2\" style=\"stroke: #383838; stroke-width: 1.0;\"/></a><!--MD5=[2351f337d6de0f557b50152ba70847b5]\n",
       "link E6 to E2--><a href=\"psysml:5d978d49-3aad-49b2-9a30-3bd5979ae9aa\" target=\"_top\" title=\"psysml:5d978d49-3aad-49b2-9a30-3bd5979ae9aa\" xlink:actuate=\"onRequest\" xlink:href=\"psysml:5d978d49-3aad-49b2-9a30-3bd5979ae9aa\" xlink:show=\"new\" xlink:title=\"psysml:5d978d49-3aad-49b2-9a30-3bd5979ae9aa\" xlink:type=\"simple\"><path d=\"M505,108.29 C505,108.29 505,168.85 505,168.85 \" fill=\"none\" id=\"E6-&gt;E2\" style=\"stroke: #383838; stroke-width: 1.0;\"/><polygon fill=\"#FFFFFF\" points=\"505,188.85,498,169.85,512,169.85,505,188.85\" style=\"stroke: #383838; stroke-width: 1.0;\"/><ellipse cx=\"500\" cy=\"164.15\" fill=\"#383838\" rx=\"2\" ry=\"2\" style=\"stroke: #383838; stroke-width: 1.0;\"/><ellipse cx=\"510\" cy=\"164.15\" fill=\"#383838\" rx=\"2\" ry=\"2\" style=\"stroke: #383838; stroke-width: 1.0;\"/></a><!--MD5=[716a0a132c1b48fa01e06ea8ef53711a]\n",
       "@startuml\r\n",
       "skinparam linetype ortho\r\n",
       "skinparam monochrome true\r\n",
       "skinparam classbackgroundcolor white\r\n",
       "skinparam shadowing false\r\n",
       "skinparam wrapWidth 300\r\n",
       "hide circle\r\n",
       "\r\n",
       "package \"MultiplicityTest\" as E1  [[psysml:0be6947d-aa66-4017-a009-04bc0f7b30c5 ]]  {\r\n",
       "comp def \"P\" as E2  <<(T,blue)part def>> [[psysml:9ab3d3ff-483c-4e41-ada7-ab2d8c979da0 ]] {\r\n",
       "}\r\n",
       "comp usage \"n: Integer\" as E3  <<(T,blue)attribute>> [[psysml:bb4f0587-9240-4f5c-8b68-755ceb30f0e1 ]] {\r\n",
       "}\r\n",
       "comp usage \"a\" as E4  <<(T,blue)part>> [[psysml:9d5a91ec-9b15-487c-8680-11258af91cb9 ]] {\r\n",
       "}\r\n",
       "comp usage \"b: P\" as E5  <<(T,blue)part>> [[psysml:0e6ddf84-4c23-42ff-8adf-60418e76591d ]] {\r\n",
       "}\r\n",
       "comp usage \"c: P\" as E6  <<(T,blue)part>> [[psysml:7a390bd1-339b-4feb-982b-b3a6ee4de727 ]] {\r\n",
       "}\r\n",
       "comp usage \"d\" as E7  <<(T,blue)part>> [[psysml:c41308c3-3ab4-4c95-8873-b6daf8742442 ]] {\r\n",
       "}\r\n",
       "comp usage \"e\" as E8  <<(T,blue)part>> [[psysml:4786ae2f-f4fb-4524-a996-e764bd48b2ea ]] {\r\n",
       "}\r\n",
       "comp usage \"f\" as E9  <<(T,blue)part>> [[psysml:f4778415-89ee-45ef-90f6-0fdee23f5f44 ]] {\r\n",
       "}\r\n",
       "comp usage \"g\" as E10  <<(T,blue)part>> [[psysml:54ce765f-cd4b-40e3-bd55-528058a48d88 ]] {\r\n",
       "}\r\n",
       "comp def \"A\" as E11  <<(T,blue)attribute def>> [[psysml:39471be4-e308-48bc-96c2-d92b434b60c0 ]] {\r\n",
       "- - attributes - -\r\n",
       "i: Integer\r\n",
       "x: A\r\n",
       "}\r\n",
       "E5 - -:|> E2 [[psysml:911f47bc-487d-4cbf-bcdd-94eeba00c89c ]] \r\n",
       "E6 - -:|> E2 [[psysml:5d978d49-3aad-49b2-9a30-3bd5979ae9aa ]] \r\n",
       "}\r\n",
       "@enduml\r\n",
       "\n",
       "PlantUML version 1.2020.13(Sat Jun 13 12:26:38 UTC 2020)\n",
       "(EPL source distribution)\n",
       "Java Runtime: OpenJDK Runtime Environment\n",
       "JVM: OpenJDK 64-Bit Server VM\n",
       "Default Encoding: UTF-8\n",
       "Language: en\n",
       "Country: null\n",
       "--></g></svg>"
      ]
     },
     "execution_count": 51,
     "metadata": {},
     "output_type": "execute_result"
    }
   ],
   "source": [
    "%viz --style=\"ORTHOLINE\" --view=\"Default\" \"MultiplicityTest\""
   ]
  },
  {
   "cell_type": "code",
   "execution_count": 52,
   "id": "8cb37317",
   "metadata": {
    "execution": {
     "iopub.execute_input": "2021-04-21T20:26:45.778552Z",
     "iopub.status.busy": "2021-04-21T20:26:45.778091Z",
     "iopub.status.idle": "2021-04-21T20:26:45.832211Z",
     "shell.execute_reply": "2021-04-21T20:26:45.830726Z"
    }
   },
   "outputs": [
    {
     "data": {
      "image/svg+xml": [
       "<?xml version=\"1.0\" encoding=\"UTF-8\" standalone=\"no\"?><svg xmlns=\"http://www.w3.org/2000/svg\" xmlns:xlink=\"http://www.w3.org/1999/xlink\" contentScriptType=\"application/ecmascript\" contentStyleType=\"text/css\" height=\"263px\" preserveAspectRatio=\"none\" style=\"width:812px;height:263px;\" version=\"1.1\" viewBox=\"0 0 812 263\" width=\"812px\" zoomAndPan=\"magnify\"><defs/><g><!--MD5=[fbc87193dbaf4d95561dea2c320d4a47]\n",
       "cluster E1--><a href=\"psysml:0be6947d-aa66-4017-a009-04bc0f7b30c5\" target=\"_top\" title=\"psysml:0be6947d-aa66-4017-a009-04bc0f7b30c5\" xlink:actuate=\"onRequest\" xlink:href=\"psysml:0be6947d-aa66-4017-a009-04bc0f7b30c5\" xlink:show=\"new\" xlink:title=\"psysml:0be6947d-aa66-4017-a009-04bc0f7b30c5\" xlink:type=\"simple\"><polygon fill=\"#FFFFFF\" points=\"16,6,140,6,147,28.2969,790,28.2969,790,251,16,251,16,6\" style=\"stroke: #000000; stroke-width: 1.5;\"/><line style=\"stroke: #000000; stroke-width: 1.5;\" x1=\"16\" x2=\"147\" y1=\"28.2969\" y2=\"28.2969\"/><text fill=\"#000000\" font-family=\"sans-serif\" font-size=\"14\" font-weight=\"bold\" lengthAdjust=\"spacingAndGlyphs\" textLength=\"118\" x=\"20\" y=\"20.9951\">MultiplicityTest</text></a><!--MD5=[b4997ac47864f28c2f74865a473b2911]\n",
       "class E2--><a href=\"psysml:9ab3d3ff-483c-4e41-ada7-ab2d8c979da0\" target=\"_top\" title=\"psysml:9ab3d3ff-483c-4e41-ada7-ab2d8c979da0\" xlink:actuate=\"onRequest\" xlink:href=\"psysml:9ab3d3ff-483c-4e41-ada7-ab2d8c979da0\" xlink:show=\"new\" xlink:title=\"psysml:9ab3d3ff-483c-4e41-ada7-ab2d8c979da0\" xlink:type=\"simple\"><rect fill=\"#FFFFFF\" height=\"45.9375\" id=\"E2\" style=\"stroke: #383838; stroke-width: 1.5;\" width=\"66\" x=\"497\" y=\"189\"/><text fill=\"#000000\" font-family=\"sans-serif\" font-size=\"12\" font-style=\"italic\" lengthAdjust=\"spacingAndGlyphs\" textLength=\"64\" x=\"498\" y=\"205.1387\">«part def»</text><text fill=\"#000000\" font-family=\"sans-serif\" font-size=\"12\" lengthAdjust=\"spacingAndGlyphs\" textLength=\"8\" x=\"526\" y=\"219.1074\">P</text><line style=\"stroke: #383838; stroke-width: 1.5;\" x1=\"498\" x2=\"562\" y1=\"226.9375\" y2=\"226.9375\"/></a><!--MD5=[09b614a08d8cba4a07c9adeb5e0fee81]\n",
       "class E3--><a href=\"psysml:bb4f0587-9240-4f5c-8b68-755ceb30f0e1\" target=\"_top\" title=\"psysml:bb4f0587-9240-4f5c-8b68-755ceb30f0e1\" xlink:actuate=\"onRequest\" xlink:href=\"psysml:bb4f0587-9240-4f5c-8b68-755ceb30f0e1\" xlink:show=\"new\" xlink:title=\"psysml:bb4f0587-9240-4f5c-8b68-755ceb30f0e1\" xlink:type=\"simple\"><rect fill=\"#FFFFFF\" height=\"45.9375\" id=\"E3\" rx=\"10\" ry=\"10\" style=\"stroke: #383838; stroke-width: 1.5;\" width=\"71\" x=\"702.5\" y=\"62\"/><text fill=\"#000000\" font-family=\"sans-serif\" font-size=\"12\" font-style=\"italic\" lengthAdjust=\"spacingAndGlyphs\" textLength=\"69\" x=\"703.5\" y=\"78.1387\">«attribute»</text><text fill=\"#000000\" font-family=\"sans-serif\" font-size=\"12\" lengthAdjust=\"spacingAndGlyphs\" textLength=\"61\" x=\"707.5\" y=\"92.1074\">n: Integer</text><line style=\"stroke: #383838; stroke-width: 1.5;\" x1=\"703.5\" x2=\"772.5\" y1=\"99.9375\" y2=\"99.9375\"/></a><!--MD5=[ebbe1d658d1005bcc118a6aa81145e00]\n",
       "class E4--><a href=\"psysml:9d5a91ec-9b15-487c-8680-11258af91cb9\" target=\"_top\" title=\"psysml:9d5a91ec-9b15-487c-8680-11258af91cb9\" xlink:actuate=\"onRequest\" xlink:href=\"psysml:9d5a91ec-9b15-487c-8680-11258af91cb9\" xlink:show=\"new\" xlink:title=\"psysml:9d5a91ec-9b15-487c-8680-11258af91cb9\" xlink:type=\"simple\"><rect fill=\"#FFFFFF\" height=\"45.9375\" id=\"E4\" rx=\"10\" ry=\"10\" style=\"stroke: #383838; stroke-width: 1.5;\" width=\"42\" x=\"625\" y=\"62\"/><text fill=\"#000000\" font-family=\"sans-serif\" font-size=\"12\" font-style=\"italic\" lengthAdjust=\"spacingAndGlyphs\" textLength=\"40\" x=\"626\" y=\"78.1387\">«part»</text><text fill=\"#000000\" font-family=\"sans-serif\" font-size=\"12\" lengthAdjust=\"spacingAndGlyphs\" textLength=\"8\" x=\"642\" y=\"92.1074\">a</text><line style=\"stroke: #383838; stroke-width: 1.5;\" x1=\"626\" x2=\"666\" y1=\"99.9375\" y2=\"99.9375\"/></a><!--MD5=[270fce915f116d4de14055a7c1d9a0f3]\n",
       "class E5--><a href=\"psysml:0e6ddf84-4c23-42ff-8adf-60418e76591d\" target=\"_top\" title=\"psysml:0e6ddf84-4c23-42ff-8adf-60418e76591d\" xlink:actuate=\"onRequest\" xlink:href=\"psysml:0e6ddf84-4c23-42ff-8adf-60418e76591d\" xlink:show=\"new\" xlink:title=\"psysml:0e6ddf84-4c23-42ff-8adf-60418e76591d\" xlink:type=\"simple\"><rect fill=\"#FFFFFF\" height=\"45.9375\" id=\"E5\" rx=\"10\" ry=\"10\" style=\"stroke: #383838; stroke-width: 1.5;\" width=\"42\" x=\"548\" y=\"62\"/><text fill=\"#000000\" font-family=\"sans-serif\" font-size=\"12\" font-style=\"italic\" lengthAdjust=\"spacingAndGlyphs\" textLength=\"40\" x=\"549\" y=\"78.1387\">«part»</text><text fill=\"#000000\" font-family=\"sans-serif\" font-size=\"12\" lengthAdjust=\"spacingAndGlyphs\" textLength=\"24\" x=\"557\" y=\"92.1074\">b: P</text><line style=\"stroke: #383838; stroke-width: 1.5;\" x1=\"549\" x2=\"589\" y1=\"99.9375\" y2=\"99.9375\"/></a><!--MD5=[60a26617385b1d2d0262a64233df1f8d]\n",
       "class E6--><a href=\"psysml:7a390bd1-339b-4feb-982b-b3a6ee4de727\" target=\"_top\" title=\"psysml:7a390bd1-339b-4feb-982b-b3a6ee4de727\" xlink:actuate=\"onRequest\" xlink:href=\"psysml:7a390bd1-339b-4feb-982b-b3a6ee4de727\" xlink:show=\"new\" xlink:title=\"psysml:7a390bd1-339b-4feb-982b-b3a6ee4de727\" xlink:type=\"simple\"><rect fill=\"#FFFFFF\" height=\"45.9375\" id=\"E6\" rx=\"10\" ry=\"10\" style=\"stroke: #383838; stroke-width: 1.5;\" width=\"42\" x=\"471\" y=\"62\"/><text fill=\"#000000\" font-family=\"sans-serif\" font-size=\"12\" font-style=\"italic\" lengthAdjust=\"spacingAndGlyphs\" textLength=\"40\" x=\"472\" y=\"78.1387\">«part»</text><text fill=\"#000000\" font-family=\"sans-serif\" font-size=\"12\" lengthAdjust=\"spacingAndGlyphs\" textLength=\"23\" x=\"480.5\" y=\"92.1074\">c: P</text><line style=\"stroke: #383838; stroke-width: 1.5;\" x1=\"472\" x2=\"512\" y1=\"99.9375\" y2=\"99.9375\"/></a><!--MD5=[2156ba9850f5573cc1fc38a6a4b2f02b]\n",
       "class E7--><a href=\"psysml:c41308c3-3ab4-4c95-8873-b6daf8742442\" target=\"_top\" title=\"psysml:c41308c3-3ab4-4c95-8873-b6daf8742442\" xlink:actuate=\"onRequest\" xlink:href=\"psysml:c41308c3-3ab4-4c95-8873-b6daf8742442\" xlink:show=\"new\" xlink:title=\"psysml:c41308c3-3ab4-4c95-8873-b6daf8742442\" xlink:type=\"simple\"><rect fill=\"#FFFFFF\" height=\"45.9375\" id=\"E7\" rx=\"10\" ry=\"10\" style=\"stroke: #383838; stroke-width: 1.5;\" width=\"42\" x=\"394\" y=\"62\"/><text fill=\"#000000\" font-family=\"sans-serif\" font-size=\"12\" font-style=\"italic\" lengthAdjust=\"spacingAndGlyphs\" textLength=\"40\" x=\"395\" y=\"78.1387\">«part»</text><text fill=\"#000000\" font-family=\"sans-serif\" font-size=\"12\" lengthAdjust=\"spacingAndGlyphs\" textLength=\"8\" x=\"411\" y=\"92.1074\">d</text><line style=\"stroke: #383838; stroke-width: 1.5;\" x1=\"395\" x2=\"435\" y1=\"99.9375\" y2=\"99.9375\"/></a><!--MD5=[b9389687b975829384b498ac4b7476b2]\n",
       "class E8--><a href=\"psysml:4786ae2f-f4fb-4524-a996-e764bd48b2ea\" target=\"_top\" title=\"psysml:4786ae2f-f4fb-4524-a996-e764bd48b2ea\" xlink:actuate=\"onRequest\" xlink:href=\"psysml:4786ae2f-f4fb-4524-a996-e764bd48b2ea\" xlink:show=\"new\" xlink:title=\"psysml:4786ae2f-f4fb-4524-a996-e764bd48b2ea\" xlink:type=\"simple\"><rect fill=\"#FFFFFF\" height=\"45.9375\" id=\"E8\" rx=\"10\" ry=\"10\" style=\"stroke: #383838; stroke-width: 1.5;\" width=\"42\" x=\"317\" y=\"62\"/><text fill=\"#000000\" font-family=\"sans-serif\" font-size=\"12\" font-style=\"italic\" lengthAdjust=\"spacingAndGlyphs\" textLength=\"40\" x=\"318\" y=\"78.1387\">«part»</text><text fill=\"#000000\" font-family=\"sans-serif\" font-size=\"12\" lengthAdjust=\"spacingAndGlyphs\" textLength=\"8\" x=\"334\" y=\"92.1074\">e</text><line style=\"stroke: #383838; stroke-width: 1.5;\" x1=\"318\" x2=\"358\" y1=\"99.9375\" y2=\"99.9375\"/></a><!--MD5=[fd4143e9d270a159db93a4ea2a975926]\n",
       "class E9--><a href=\"psysml:f4778415-89ee-45ef-90f6-0fdee23f5f44\" target=\"_top\" title=\"psysml:f4778415-89ee-45ef-90f6-0fdee23f5f44\" xlink:actuate=\"onRequest\" xlink:href=\"psysml:f4778415-89ee-45ef-90f6-0fdee23f5f44\" xlink:show=\"new\" xlink:title=\"psysml:f4778415-89ee-45ef-90f6-0fdee23f5f44\" xlink:type=\"simple\"><rect fill=\"#FFFFFF\" height=\"45.9375\" id=\"E9\" rx=\"10\" ry=\"10\" style=\"stroke: #383838; stroke-width: 1.5;\" width=\"42\" x=\"240\" y=\"62\"/><text fill=\"#000000\" font-family=\"sans-serif\" font-size=\"12\" font-style=\"italic\" lengthAdjust=\"spacingAndGlyphs\" textLength=\"40\" x=\"241\" y=\"78.1387\">«part»</text><text fill=\"#000000\" font-family=\"sans-serif\" font-size=\"12\" lengthAdjust=\"spacingAndGlyphs\" textLength=\"4\" x=\"259\" y=\"92.1074\">f</text><line style=\"stroke: #383838; stroke-width: 1.5;\" x1=\"241\" x2=\"281\" y1=\"99.9375\" y2=\"99.9375\"/></a><!--MD5=[96f4274e9e20536e775497830990834d]\n",
       "class E10--><a href=\"psysml:54ce765f-cd4b-40e3-bd55-528058a48d88\" target=\"_top\" title=\"psysml:54ce765f-cd4b-40e3-bd55-528058a48d88\" xlink:actuate=\"onRequest\" xlink:href=\"psysml:54ce765f-cd4b-40e3-bd55-528058a48d88\" xlink:show=\"new\" xlink:title=\"psysml:54ce765f-cd4b-40e3-bd55-528058a48d88\" xlink:type=\"simple\"><rect fill=\"#FFFFFF\" height=\"45.9375\" id=\"E10\" rx=\"10\" ry=\"10\" style=\"stroke: #383838; stroke-width: 1.5;\" width=\"42\" x=\"163\" y=\"62\"/><text fill=\"#000000\" font-family=\"sans-serif\" font-size=\"12\" font-style=\"italic\" lengthAdjust=\"spacingAndGlyphs\" textLength=\"40\" x=\"164\" y=\"78.1387\">«part»</text><text fill=\"#000000\" font-family=\"sans-serif\" font-size=\"12\" lengthAdjust=\"spacingAndGlyphs\" textLength=\"8\" x=\"180\" y=\"92.1074\">g</text><line style=\"stroke: #383838; stroke-width: 1.5;\" x1=\"164\" x2=\"204\" y1=\"99.9375\" y2=\"99.9375\"/></a><!--MD5=[1dd1bfd58a279cf63c5f349dbc8fc6a1]\n",
       "class E11--><a href=\"psysml:39471be4-e308-48bc-96c2-d92b434b60c0\" target=\"_top\" title=\"psysml:39471be4-e308-48bc-96c2-d92b434b60c0\" xlink:actuate=\"onRequest\" xlink:href=\"psysml:39471be4-e308-48bc-96c2-d92b434b60c0\" xlink:show=\"new\" xlink:title=\"psysml:39471be4-e308-48bc-96c2-d92b434b60c0\" xlink:type=\"simple\"><rect fill=\"#FFFFFF\" height=\"88.3516\" id=\"E11\" style=\"stroke: #383838; stroke-width: 1.5;\" width=\"95\" x=\"32.5\" y=\"41\"/><text fill=\"#000000\" font-family=\"sans-serif\" font-size=\"12\" font-style=\"italic\" lengthAdjust=\"spacingAndGlyphs\" textLength=\"93\" x=\"33.5\" y=\"57.1387\">«attribute def»</text><text fill=\"#000000\" font-family=\"sans-serif\" font-size=\"12\" lengthAdjust=\"spacingAndGlyphs\" textLength=\"8\" x=\"76\" y=\"71.1074\">A</text><line style=\"stroke: #383838; stroke-width: 1.5;\" x1=\"33.5\" x2=\"126.5\" y1=\"78.9375\" y2=\"78.9375\"/><text fill=\"#000000\" font-family=\"sans-serif\" font-size=\"11\" lengthAdjust=\"spacingAndGlyphs\" textLength=\"51\" x=\"38.5\" y=\"109.9526\">i: Integer</text><text fill=\"#000000\" font-family=\"sans-serif\" font-size=\"11\" lengthAdjust=\"spacingAndGlyphs\" textLength=\"21\" x=\"38.5\" y=\"122.7573\">x: A</text><line style=\"stroke: #383838; stroke-width: 1.0;\" x1=\"33.5\" x2=\"52.5\" y1=\"93.3398\" y2=\"93.3398\"/><text fill=\"#000000\" font-family=\"sans-serif\" font-size=\"11\" lengthAdjust=\"spacingAndGlyphs\" textLength=\"55\" x=\"52.5\" y=\"96.6479\">attributes</text><line style=\"stroke: #383838; stroke-width: 1.0;\" x1=\"107.5\" x2=\"126.5\" y1=\"93.3398\" y2=\"93.3398\"/></a><!--MD5=[15ebcb19ae302d9b601edb458606d402]\n",
       "link E5 to E2--><a href=\"psysml:911f47bc-487d-4cbf-bcdd-94eeba00c89c\" target=\"_top\" title=\"psysml:911f47bc-487d-4cbf-bcdd-94eeba00c89c\" xlink:actuate=\"onRequest\" xlink:href=\"psysml:911f47bc-487d-4cbf-bcdd-94eeba00c89c\" xlink:show=\"new\" xlink:title=\"psysml:911f47bc-487d-4cbf-bcdd-94eeba00c89c\" xlink:type=\"simple\"><path d=\"M555.5,108.29 C555.5,108.29 555.5,168.85 555.5,168.85 \" fill=\"none\" id=\"E5-&gt;E2\" style=\"stroke: #383838; stroke-width: 1.0;\"/><polygon fill=\"#FFFFFF\" points=\"555.5,188.85,548.5,169.85,562.5,169.85,555.5,188.85\" style=\"stroke: #383838; stroke-width: 1.0;\"/><ellipse cx=\"550.5\" cy=\"164.15\" fill=\"#383838\" rx=\"2\" ry=\"2\" style=\"stroke: #383838; stroke-width: 1.0;\"/><ellipse cx=\"560.5\" cy=\"164.15\" fill=\"#383838\" rx=\"2\" ry=\"2\" style=\"stroke: #383838; stroke-width: 1.0;\"/></a><!--MD5=[2351f337d6de0f557b50152ba70847b5]\n",
       "link E6 to E2--><a href=\"psysml:5d978d49-3aad-49b2-9a30-3bd5979ae9aa\" target=\"_top\" title=\"psysml:5d978d49-3aad-49b2-9a30-3bd5979ae9aa\" xlink:actuate=\"onRequest\" xlink:href=\"psysml:5d978d49-3aad-49b2-9a30-3bd5979ae9aa\" xlink:show=\"new\" xlink:title=\"psysml:5d978d49-3aad-49b2-9a30-3bd5979ae9aa\" xlink:type=\"simple\"><path d=\"M505,108.29 C505,108.29 505,168.85 505,168.85 \" fill=\"none\" id=\"E6-&gt;E2\" style=\"stroke: #383838; stroke-width: 1.0;\"/><polygon fill=\"#FFFFFF\" points=\"505,188.85,498,169.85,512,169.85,505,188.85\" style=\"stroke: #383838; stroke-width: 1.0;\"/><ellipse cx=\"500\" cy=\"164.15\" fill=\"#383838\" rx=\"2\" ry=\"2\" style=\"stroke: #383838; stroke-width: 1.0;\"/><ellipse cx=\"510\" cy=\"164.15\" fill=\"#383838\" rx=\"2\" ry=\"2\" style=\"stroke: #383838; stroke-width: 1.0;\"/></a><!--MD5=[716a0a132c1b48fa01e06ea8ef53711a]\n",
       "@startuml\r\n",
       "skinparam linetype ortho\r\n",
       "skinparam monochrome true\r\n",
       "skinparam classbackgroundcolor white\r\n",
       "skinparam shadowing false\r\n",
       "skinparam wrapWidth 300\r\n",
       "hide circle\r\n",
       "\r\n",
       "package \"MultiplicityTest\" as E1  [[psysml:0be6947d-aa66-4017-a009-04bc0f7b30c5 ]]  {\r\n",
       "comp def \"P\" as E2  <<(T,blue)part def>> [[psysml:9ab3d3ff-483c-4e41-ada7-ab2d8c979da0 ]] {\r\n",
       "}\r\n",
       "comp usage \"n: Integer\" as E3  <<(T,blue)attribute>> [[psysml:bb4f0587-9240-4f5c-8b68-755ceb30f0e1 ]] {\r\n",
       "}\r\n",
       "comp usage \"a\" as E4  <<(T,blue)part>> [[psysml:9d5a91ec-9b15-487c-8680-11258af91cb9 ]] {\r\n",
       "}\r\n",
       "comp usage \"b: P\" as E5  <<(T,blue)part>> [[psysml:0e6ddf84-4c23-42ff-8adf-60418e76591d ]] {\r\n",
       "}\r\n",
       "comp usage \"c: P\" as E6  <<(T,blue)part>> [[psysml:7a390bd1-339b-4feb-982b-b3a6ee4de727 ]] {\r\n",
       "}\r\n",
       "comp usage \"d\" as E7  <<(T,blue)part>> [[psysml:c41308c3-3ab4-4c95-8873-b6daf8742442 ]] {\r\n",
       "}\r\n",
       "comp usage \"e\" as E8  <<(T,blue)part>> [[psysml:4786ae2f-f4fb-4524-a996-e764bd48b2ea ]] {\r\n",
       "}\r\n",
       "comp usage \"f\" as E9  <<(T,blue)part>> [[psysml:f4778415-89ee-45ef-90f6-0fdee23f5f44 ]] {\r\n",
       "}\r\n",
       "comp usage \"g\" as E10  <<(T,blue)part>> [[psysml:54ce765f-cd4b-40e3-bd55-528058a48d88 ]] {\r\n",
       "}\r\n",
       "comp def \"A\" as E11  <<(T,blue)attribute def>> [[psysml:39471be4-e308-48bc-96c2-d92b434b60c0 ]] {\r\n",
       "- - attributes - -\r\n",
       "i: Integer\r\n",
       "x: A\r\n",
       "}\r\n",
       "E5 - -:|> E2 [[psysml:911f47bc-487d-4cbf-bcdd-94eeba00c89c ]] \r\n",
       "E6 - -:|> E2 [[psysml:5d978d49-3aad-49b2-9a30-3bd5979ae9aa ]] \r\n",
       "}\r\n",
       "@enduml\r\n",
       "\n",
       "PlantUML version 1.2020.13(Sat Jun 13 12:26:38 UTC 2020)\n",
       "(EPL source distribution)\n",
       "Java Runtime: OpenJDK Runtime Environment\n",
       "JVM: OpenJDK 64-Bit Server VM\n",
       "Default Encoding: UTF-8\n",
       "Language: en\n",
       "Country: null\n",
       "--></g></svg>"
      ]
     },
     "execution_count": 52,
     "metadata": {},
     "output_type": "execute_result"
    }
   ],
   "source": [
    "%viz --style=\"ORTHOLINE\" --view=\"Tree\" \"MultiplicityTest\""
   ]
  },
  {
   "cell_type": "code",
   "execution_count": 53,
   "id": "673c698b",
   "metadata": {
    "execution": {
     "iopub.execute_input": "2021-04-21T20:26:45.882696Z",
     "iopub.status.busy": "2021-04-21T20:26:45.881588Z",
     "iopub.status.idle": "2021-04-21T20:26:45.887276Z",
     "shell.execute_reply": "2021-04-21T20:26:45.886867Z"
    }
   },
   "outputs": [
    {
     "data": {
      "image/svg+xml": [
       "<?xml version=\"1.0\" encoding=\"UTF-8\" standalone=\"no\"?><svg xmlns=\"http://www.w3.org/2000/svg\" xmlns:xlink=\"http://www.w3.org/1999/xlink\" contentScriptType=\"application/ecmascript\" contentStyleType=\"text/css\" height=\"12px\" preserveAspectRatio=\"none\" style=\"width:12px;height:12px;\" version=\"1.1\" viewBox=\"0 0 12 12\" width=\"12px\" zoomAndPan=\"magnify\"><defs/><g><!--MD5=[97d6f38768b311333d388e66b2b27985]\n",
       "@startuml\r\n",
       "skinparam linetype ortho\r\n",
       "skinparam monochrome true\r\n",
       "skinparam classbackgroundcolor white\r\n",
       "skinparam shadowing false\r\n",
       "skinparam wrapWidth 300\r\n",
       "hide circle\r\n",
       "\r\n",
       "@enduml\r\n",
       "\n",
       "PlantUML version 1.2020.13(Sat Jun 13 12:26:38 UTC 2020)\n",
       "(EPL source distribution)\n",
       "Java Runtime: OpenJDK Runtime Environment\n",
       "JVM: OpenJDK 64-Bit Server VM\n",
       "Default Encoding: UTF-8\n",
       "Language: en\n",
       "Country: null\n",
       "--></g></svg>"
      ]
     },
     "execution_count": 53,
     "metadata": {},
     "output_type": "execute_result"
    }
   ],
   "source": [
    "%viz --style=\"ORTHOLINE\" --view=\"State\" \"MultiplicityTest\""
   ]
  },
  {
   "cell_type": "code",
   "execution_count": 54,
   "id": "fc3461ac",
   "metadata": {
    "execution": {
     "iopub.execute_input": "2021-04-21T20:26:45.937405Z",
     "iopub.status.busy": "2021-04-21T20:26:45.936956Z",
     "iopub.status.idle": "2021-04-21T20:26:45.964004Z",
     "shell.execute_reply": "2021-04-21T20:26:45.962737Z"
    }
   },
   "outputs": [
    {
     "data": {
      "image/svg+xml": [
       "<?xml version=\"1.0\" encoding=\"UTF-8\" standalone=\"no\"?><svg xmlns=\"http://www.w3.org/2000/svg\" xmlns:xlink=\"http://www.w3.org/1999/xlink\" contentScriptType=\"application/ecmascript\" contentStyleType=\"text/css\" height=\"115px\" preserveAspectRatio=\"none\" style=\"width:979px;height:115px;\" version=\"1.1\" viewBox=\"0 0 979 115\" width=\"979px\" zoomAndPan=\"magnify\"><defs/><g><!--MD5=[fbc87193dbaf4d95561dea2c320d4a47]\n",
       "cluster E1--><a href=\"psysml:0be6947d-aa66-4017-a009-04bc0f7b30c5\" target=\"_top\" title=\"psysml:0be6947d-aa66-4017-a009-04bc0f7b30c5\" xlink:actuate=\"onRequest\" xlink:href=\"psysml:0be6947d-aa66-4017-a009-04bc0f7b30c5\" xlink:show=\"new\" xlink:title=\"psysml:0be6947d-aa66-4017-a009-04bc0f7b30c5\" xlink:type=\"simple\"><polygon fill=\"#FFFFFF\" points=\"16,6,140,6,147,28.2969,957,28.2969,957,103,16,103,16,6\" style=\"stroke: #000000; stroke-width: 1.5;\"/><line style=\"stroke: #000000; stroke-width: 1.5;\" x1=\"16\" x2=\"147\" y1=\"28.2969\" y2=\"28.2969\"/><text fill=\"#000000\" font-family=\"sans-serif\" font-size=\"14\" font-weight=\"bold\" lengthAdjust=\"spacingAndGlyphs\" textLength=\"118\" x=\"20\" y=\"20.9951\">MultiplicityTest</text></a><!--MD5=[09b614a08d8cba4a07c9adeb5e0fee81]\n",
       "class E3--><a href=\"psysml:bb4f0587-9240-4f5c-8b68-755ceb30f0e1\" target=\"_top\" title=\"psysml:bb4f0587-9240-4f5c-8b68-755ceb30f0e1\" xlink:actuate=\"onRequest\" xlink:href=\"psysml:bb4f0587-9240-4f5c-8b68-755ceb30f0e1\" xlink:show=\"new\" xlink:title=\"psysml:bb4f0587-9240-4f5c-8b68-755ceb30f0e1\" xlink:type=\"simple\"><rect fill=\"#FFFFFF\" height=\"45.9375\" id=\"E3\" rx=\"10\" ry=\"10\" style=\"stroke: #383838; stroke-width: 1.5;\" width=\"71\" x=\"869.5\" y=\"41\"/><text fill=\"#000000\" font-family=\"sans-serif\" font-size=\"12\" font-style=\"italic\" lengthAdjust=\"spacingAndGlyphs\" textLength=\"69\" x=\"870.5\" y=\"57.1387\">«attribute»</text><text fill=\"#000000\" font-family=\"sans-serif\" font-size=\"12\" lengthAdjust=\"spacingAndGlyphs\" textLength=\"61\" x=\"874.5\" y=\"71.1074\">n: Integer</text><line style=\"stroke: #383838; stroke-width: 1.5;\" x1=\"870.5\" x2=\"939.5\" y1=\"78.9375\" y2=\"78.9375\"/></a><g id=\"E1.E11\"><a href=\"psysml:39471be4-e308-48bc-96c2-d92b434b60c0\" target=\"_top\" title=\"psysml:39471be4-e308-48bc-96c2-d92b434b60c0\" xlink:actuate=\"onRequest\" xlink:href=\"psysml:39471be4-e308-48bc-96c2-d92b434b60c0\" xlink:show=\"new\" xlink:title=\"psysml:39471be4-e308-48bc-96c2-d92b434b60c0\" xlink:type=\"simple\"><rect fill=\"#FFFFFF\" height=\"42.9375\" id=\"E11\" style=\"stroke: #383838; stroke-width: 1.5;\" width=\"100\" x=\"734\" y=\"42.5\"/><rect fill=\"#F8F8F8\" height=\"37.9375\" style=\"stroke: #383838; stroke-width: 1.5;\" width=\"100\" x=\"734\" y=\"42.5\"/><text fill=\"#000000\" font-family=\"sans-serif\" font-size=\"12\" font-style=\"italic\" lengthAdjust=\"spacingAndGlyphs\" textLength=\"93\" x=\"737.5\" y=\"58.6387\">«attribute def»</text><text fill=\"#000000\" font-family=\"sans-serif\" font-size=\"12\" lengthAdjust=\"spacingAndGlyphs\" textLength=\"8\" x=\"780\" y=\"72.6074\">A</text></a></g><g id=\"E1.E2\"><a href=\"psysml:9ab3d3ff-483c-4e41-ada7-ab2d8c979da0\" target=\"_top\" title=\"psysml:9ab3d3ff-483c-4e41-ada7-ab2d8c979da0\" xlink:actuate=\"onRequest\" xlink:href=\"psysml:9ab3d3ff-483c-4e41-ada7-ab2d8c979da0\" xlink:show=\"new\" xlink:title=\"psysml:9ab3d3ff-483c-4e41-ada7-ab2d8c979da0\" xlink:type=\"simple\"><rect fill=\"#FFFFFF\" height=\"42.9375\" id=\"E2\" style=\"stroke: #383838; stroke-width: 1.5;\" width=\"71\" x=\"627.5\" y=\"42.5\"/><rect fill=\"#F8F8F8\" height=\"37.9375\" style=\"stroke: #383838; stroke-width: 1.5;\" width=\"71\" x=\"627.5\" y=\"42.5\"/><text fill=\"#000000\" font-family=\"sans-serif\" font-size=\"12\" font-style=\"italic\" lengthAdjust=\"spacingAndGlyphs\" textLength=\"64\" x=\"631\" y=\"58.6387\">«part def»</text><text fill=\"#000000\" font-family=\"sans-serif\" font-size=\"12\" lengthAdjust=\"spacingAndGlyphs\" textLength=\"8\" x=\"659\" y=\"72.6074\">P</text></a></g><g id=\"E1.E4\"><a href=\"psysml:9d5a91ec-9b15-487c-8680-11258af91cb9\" target=\"_top\" title=\"psysml:9d5a91ec-9b15-487c-8680-11258af91cb9\" xlink:actuate=\"onRequest\" xlink:href=\"psysml:9d5a91ec-9b15-487c-8680-11258af91cb9\" xlink:show=\"new\" xlink:title=\"psysml:9d5a91ec-9b15-487c-8680-11258af91cb9\" xlink:type=\"simple\"><rect fill=\"#FFFFFF\" height=\"40\" id=\"E4\" rx=\"10\" ry=\"10\" style=\"stroke: #383838; stroke-width: 1.5;\" width=\"50\" x=\"542\" y=\"44\"/><rect fill=\"#F8F8F8\" height=\"23.9688\" rx=\"10\" ry=\"10\" style=\"stroke: #F8F8F8; stroke-width: 1.5;\" width=\"50\" x=\"542\" y=\"44\"/><rect fill=\"#F8F8F8\" height=\"10\" style=\"stroke: #F8F8F8; stroke-width: 1.5;\" width=\"50\" x=\"542\" y=\"57.9688\"/><rect fill=\"none\" height=\"40\" id=\"E4\" rx=\"10\" ry=\"10\" style=\"stroke: #383838; stroke-width: 1.5;\" width=\"50\" x=\"542\" y=\"44\"/><text fill=\"#000000\" font-family=\"sans-serif\" font-size=\"12\" lengthAdjust=\"spacingAndGlyphs\" textLength=\"8\" x=\"563\" y=\"60.1387\">a</text></a></g><g id=\"E1.E5\"><a href=\"psysml:0e6ddf84-4c23-42ff-8adf-60418e76591d\" target=\"_top\" title=\"psysml:0e6ddf84-4c23-42ff-8adf-60418e76591d\" xlink:actuate=\"onRequest\" xlink:href=\"psysml:0e6ddf84-4c23-42ff-8adf-60418e76591d\" xlink:show=\"new\" xlink:title=\"psysml:0e6ddf84-4c23-42ff-8adf-60418e76591d\" xlink:type=\"simple\"><rect fill=\"#FFFFFF\" height=\"40\" id=\"E5\" rx=\"10\" ry=\"10\" style=\"stroke: #383838; stroke-width: 1.5;\" width=\"50\" x=\"457\" y=\"44\"/><rect fill=\"#F8F8F8\" height=\"23.9688\" rx=\"10\" ry=\"10\" style=\"stroke: #F8F8F8; stroke-width: 1.5;\" width=\"50\" x=\"457\" y=\"44\"/><rect fill=\"#F8F8F8\" height=\"10\" style=\"stroke: #F8F8F8; stroke-width: 1.5;\" width=\"50\" x=\"457\" y=\"57.9688\"/><rect fill=\"none\" height=\"40\" id=\"E5\" rx=\"10\" ry=\"10\" style=\"stroke: #383838; stroke-width: 1.5;\" width=\"50\" x=\"457\" y=\"44\"/><text fill=\"#000000\" font-family=\"sans-serif\" font-size=\"12\" lengthAdjust=\"spacingAndGlyphs\" textLength=\"24\" x=\"470\" y=\"60.1387\">b: P</text></a></g><g id=\"E1.E6\"><a href=\"psysml:7a390bd1-339b-4feb-982b-b3a6ee4de727\" target=\"_top\" title=\"psysml:7a390bd1-339b-4feb-982b-b3a6ee4de727\" xlink:actuate=\"onRequest\" xlink:href=\"psysml:7a390bd1-339b-4feb-982b-b3a6ee4de727\" xlink:show=\"new\" xlink:title=\"psysml:7a390bd1-339b-4feb-982b-b3a6ee4de727\" xlink:type=\"simple\"><rect fill=\"#FFFFFF\" height=\"40\" id=\"E6\" rx=\"10\" ry=\"10\" style=\"stroke: #383838; stroke-width: 1.5;\" width=\"50\" x=\"372\" y=\"44\"/><rect fill=\"#F8F8F8\" height=\"23.9688\" rx=\"10\" ry=\"10\" style=\"stroke: #F8F8F8; stroke-width: 1.5;\" width=\"50\" x=\"372\" y=\"44\"/><rect fill=\"#F8F8F8\" height=\"10\" style=\"stroke: #F8F8F8; stroke-width: 1.5;\" width=\"50\" x=\"372\" y=\"57.9688\"/><rect fill=\"none\" height=\"40\" id=\"E6\" rx=\"10\" ry=\"10\" style=\"stroke: #383838; stroke-width: 1.5;\" width=\"50\" x=\"372\" y=\"44\"/><text fill=\"#000000\" font-family=\"sans-serif\" font-size=\"12\" lengthAdjust=\"spacingAndGlyphs\" textLength=\"23\" x=\"385.5\" y=\"60.1387\">c: P</text></a></g><g id=\"E1.E7\"><a href=\"psysml:c41308c3-3ab4-4c95-8873-b6daf8742442\" target=\"_top\" title=\"psysml:c41308c3-3ab4-4c95-8873-b6daf8742442\" xlink:actuate=\"onRequest\" xlink:href=\"psysml:c41308c3-3ab4-4c95-8873-b6daf8742442\" xlink:show=\"new\" xlink:title=\"psysml:c41308c3-3ab4-4c95-8873-b6daf8742442\" xlink:type=\"simple\"><rect fill=\"#FFFFFF\" height=\"40\" id=\"E7\" rx=\"10\" ry=\"10\" style=\"stroke: #383838; stroke-width: 1.5;\" width=\"50\" x=\"287\" y=\"44\"/><rect fill=\"#F8F8F8\" height=\"23.9688\" rx=\"10\" ry=\"10\" style=\"stroke: #F8F8F8; stroke-width: 1.5;\" width=\"50\" x=\"287\" y=\"44\"/><rect fill=\"#F8F8F8\" height=\"10\" style=\"stroke: #F8F8F8; stroke-width: 1.5;\" width=\"50\" x=\"287\" y=\"57.9688\"/><rect fill=\"none\" height=\"40\" id=\"E7\" rx=\"10\" ry=\"10\" style=\"stroke: #383838; stroke-width: 1.5;\" width=\"50\" x=\"287\" y=\"44\"/><text fill=\"#000000\" font-family=\"sans-serif\" font-size=\"12\" lengthAdjust=\"spacingAndGlyphs\" textLength=\"8\" x=\"308\" y=\"60.1387\">d</text></a></g><g id=\"E1.E8\"><a href=\"psysml:4786ae2f-f4fb-4524-a996-e764bd48b2ea\" target=\"_top\" title=\"psysml:4786ae2f-f4fb-4524-a996-e764bd48b2ea\" xlink:actuate=\"onRequest\" xlink:href=\"psysml:4786ae2f-f4fb-4524-a996-e764bd48b2ea\" xlink:show=\"new\" xlink:title=\"psysml:4786ae2f-f4fb-4524-a996-e764bd48b2ea\" xlink:type=\"simple\"><rect fill=\"#FFFFFF\" height=\"40\" id=\"E8\" rx=\"10\" ry=\"10\" style=\"stroke: #383838; stroke-width: 1.5;\" width=\"50\" x=\"202\" y=\"44\"/><rect fill=\"#F8F8F8\" height=\"23.9688\" rx=\"10\" ry=\"10\" style=\"stroke: #F8F8F8; stroke-width: 1.5;\" width=\"50\" x=\"202\" y=\"44\"/><rect fill=\"#F8F8F8\" height=\"10\" style=\"stroke: #F8F8F8; stroke-width: 1.5;\" width=\"50\" x=\"202\" y=\"57.9688\"/><rect fill=\"none\" height=\"40\" id=\"E8\" rx=\"10\" ry=\"10\" style=\"stroke: #383838; stroke-width: 1.5;\" width=\"50\" x=\"202\" y=\"44\"/><text fill=\"#000000\" font-family=\"sans-serif\" font-size=\"12\" lengthAdjust=\"spacingAndGlyphs\" textLength=\"8\" x=\"223\" y=\"60.1387\">e</text></a></g><g id=\"E1.E9\"><a href=\"psysml:f4778415-89ee-45ef-90f6-0fdee23f5f44\" target=\"_top\" title=\"psysml:f4778415-89ee-45ef-90f6-0fdee23f5f44\" xlink:actuate=\"onRequest\" xlink:href=\"psysml:f4778415-89ee-45ef-90f6-0fdee23f5f44\" xlink:show=\"new\" xlink:title=\"psysml:f4778415-89ee-45ef-90f6-0fdee23f5f44\" xlink:type=\"simple\"><rect fill=\"#FFFFFF\" height=\"40\" id=\"E9\" rx=\"10\" ry=\"10\" style=\"stroke: #383838; stroke-width: 1.5;\" width=\"50\" x=\"117\" y=\"44\"/><rect fill=\"#F8F8F8\" height=\"23.9688\" rx=\"10\" ry=\"10\" style=\"stroke: #F8F8F8; stroke-width: 1.5;\" width=\"50\" x=\"117\" y=\"44\"/><rect fill=\"#F8F8F8\" height=\"10\" style=\"stroke: #F8F8F8; stroke-width: 1.5;\" width=\"50\" x=\"117\" y=\"57.9688\"/><rect fill=\"none\" height=\"40\" id=\"E9\" rx=\"10\" ry=\"10\" style=\"stroke: #383838; stroke-width: 1.5;\" width=\"50\" x=\"117\" y=\"44\"/><text fill=\"#000000\" font-family=\"sans-serif\" font-size=\"12\" lengthAdjust=\"spacingAndGlyphs\" textLength=\"4\" x=\"140\" y=\"60.1387\">f</text></a></g><g id=\"E1.E10\"><a href=\"psysml:54ce765f-cd4b-40e3-bd55-528058a48d88\" target=\"_top\" title=\"psysml:54ce765f-cd4b-40e3-bd55-528058a48d88\" xlink:actuate=\"onRequest\" xlink:href=\"psysml:54ce765f-cd4b-40e3-bd55-528058a48d88\" xlink:show=\"new\" xlink:title=\"psysml:54ce765f-cd4b-40e3-bd55-528058a48d88\" xlink:type=\"simple\"><rect fill=\"#FFFFFF\" height=\"40\" id=\"E10\" rx=\"10\" ry=\"10\" style=\"stroke: #383838; stroke-width: 1.5;\" width=\"50\" x=\"32\" y=\"44\"/><rect fill=\"#F8F8F8\" height=\"23.9688\" rx=\"10\" ry=\"10\" style=\"stroke: #F8F8F8; stroke-width: 1.5;\" width=\"50\" x=\"32\" y=\"44\"/><rect fill=\"#F8F8F8\" height=\"10\" style=\"stroke: #F8F8F8; stroke-width: 1.5;\" width=\"50\" x=\"32\" y=\"57.9688\"/><rect fill=\"none\" height=\"40\" id=\"E10\" rx=\"10\" ry=\"10\" style=\"stroke: #383838; stroke-width: 1.5;\" width=\"50\" x=\"32\" y=\"44\"/><text fill=\"#000000\" font-family=\"sans-serif\" font-size=\"12\" lengthAdjust=\"spacingAndGlyphs\" textLength=\"8\" x=\"53\" y=\"60.1387\">g</text></a></g><!--MD5=[c43075f26e8cdbde4dbe4c1921e9dd72]\n",
       "@startuml\r\n",
       "skinparam ranksep 10\r\n",
       "skinparam rectangle {\r\n",
       " backgroundColor<<block>> LightGreen\r\n",
       "}\r\n",
       "skinparam linetype ortho\r\n",
       "skinparam monochrome true\r\n",
       "skinparam classbackgroundcolor white\r\n",
       "skinparam shadowing false\r\n",
       "skinparam wrapWidth 300\r\n",
       "hide circle\r\n",
       "\r\n",
       "package \"MultiplicityTest\" as E1  [[psysml:0be6947d-aa66-4017-a009-04bc0f7b30c5 ]]  {\r\n",
       "rec def \"P\" as E2  <<(T,blue)part def>> [[psysml:9ab3d3ff-483c-4e41-ada7-ab2d8c979da0 ]] {\r\n",
       "}\r\n",
       "comp usage \"n: Integer\" as E3  <<(T,blue)attribute>> [[psysml:bb4f0587-9240-4f5c-8b68-755ceb30f0e1 ]] {\r\n",
       "}\r\n",
       "rec usage \"a\" as E4  [[psysml:9d5a91ec-9b15-487c-8680-11258af91cb9 ]] {\r\n",
       "}\r\n",
       "rec usage \"b: P\" as E5  [[psysml:0e6ddf84-4c23-42ff-8adf-60418e76591d ]] {\r\n",
       "}\r\n",
       "rec usage \"c: P\" as E6  [[psysml:7a390bd1-339b-4feb-982b-b3a6ee4de727 ]] {\r\n",
       "}\r\n",
       "rec usage \"d\" as E7  [[psysml:c41308c3-3ab4-4c95-8873-b6daf8742442 ]] {\r\n",
       "}\r\n",
       "rec usage \"e\" as E8  [[psysml:4786ae2f-f4fb-4524-a996-e764bd48b2ea ]] {\r\n",
       "}\r\n",
       "rec usage \"f\" as E9  [[psysml:f4778415-89ee-45ef-90f6-0fdee23f5f44 ]] {\r\n",
       "}\r\n",
       "rec usage \"g\" as E10  [[psysml:54ce765f-cd4b-40e3-bd55-528058a48d88 ]] {\r\n",
       "}\r\n",
       "def \"A\" as E11  <<(T,blue)attribute def>> [[psysml:39471be4-e308-48bc-96c2-d92b434b60c0 ]] \r\n",
       "}\r\n",
       "@enduml\r\n",
       "\n",
       "PlantUML version 1.2020.13(Sat Jun 13 12:26:38 UTC 2020)\n",
       "(EPL source distribution)\n",
       "Java Runtime: OpenJDK Runtime Environment\n",
       "JVM: OpenJDK 64-Bit Server VM\n",
       "Default Encoding: UTF-8\n",
       "Language: en\n",
       "Country: null\n",
       "--></g></svg>"
      ]
     },
     "execution_count": 54,
     "metadata": {},
     "output_type": "execute_result"
    }
   ],
   "source": [
    "%viz --style=\"ORTHOLINE\" --view=\"Interconnection\" \"MultiplicityTest\""
   ]
  },
  {
   "cell_type": "code",
   "execution_count": 55,
   "id": "799e02d8",
   "metadata": {
    "execution": {
     "iopub.execute_input": "2021-04-21T20:26:46.014089Z",
     "iopub.status.busy": "2021-04-21T20:26:46.013653Z",
     "iopub.status.idle": "2021-04-21T20:26:46.018335Z",
     "shell.execute_reply": "2021-04-21T20:26:46.018015Z"
    }
   },
   "outputs": [
    {
     "data": {
      "image/svg+xml": [
       "<?xml version=\"1.0\" encoding=\"UTF-8\" standalone=\"no\"?><svg xmlns=\"http://www.w3.org/2000/svg\" xmlns:xlink=\"http://www.w3.org/1999/xlink\" contentScriptType=\"application/ecmascript\" contentStyleType=\"text/css\" height=\"12px\" preserveAspectRatio=\"none\" style=\"width:12px;height:12px;\" version=\"1.1\" viewBox=\"0 0 12 12\" width=\"12px\" zoomAndPan=\"magnify\"><defs/><g><!--MD5=[72934c63077099a26744516a776b4749]\n",
       "@startuml\r\n",
       "skinparam ranksep 8\r\n",
       "skinparam linetype ortho\r\n",
       "skinparam monochrome true\r\n",
       "skinparam classbackgroundcolor white\r\n",
       "skinparam shadowing false\r\n",
       "skinparam wrapWidth 300\r\n",
       "hide circle\r\n",
       "\r\n",
       "@enduml\r\n",
       "\n",
       "PlantUML version 1.2020.13(Sat Jun 13 12:26:38 UTC 2020)\n",
       "(EPL source distribution)\n",
       "Java Runtime: OpenJDK Runtime Environment\n",
       "JVM: OpenJDK 64-Bit Server VM\n",
       "Default Encoding: UTF-8\n",
       "Language: en\n",
       "Country: null\n",
       "--></g></svg>"
      ]
     },
     "execution_count": 55,
     "metadata": {},
     "output_type": "execute_result"
    }
   ],
   "source": [
    "%viz --style=\"ORTHOLINE\" --view=\"Action\" \"MultiplicityTest\""
   ]
  },
  {
   "cell_type": "code",
   "execution_count": 56,
   "id": "90846839",
   "metadata": {
    "execution": {
     "iopub.execute_input": "2021-04-21T20:26:46.070139Z",
     "iopub.status.busy": "2021-04-21T20:26:46.069346Z",
     "iopub.status.idle": "2021-04-21T20:26:46.117192Z",
     "shell.execute_reply": "2021-04-21T20:26:46.115731Z"
    }
   },
   "outputs": [
    {
     "data": {
      "image/svg+xml": [
       "<?xml version=\"1.0\" encoding=\"UTF-8\" standalone=\"no\"?><svg xmlns=\"http://www.w3.org/2000/svg\" xmlns:xlink=\"http://www.w3.org/1999/xlink\" contentScriptType=\"application/ecmascript\" contentStyleType=\"text/css\" height=\"263px\" preserveAspectRatio=\"none\" style=\"width:812px;height:263px;\" version=\"1.1\" viewBox=\"0 0 812 263\" width=\"812px\" zoomAndPan=\"magnify\"><defs/><g><!--MD5=[fbc87193dbaf4d95561dea2c320d4a47]\n",
       "cluster E1--><a href=\"psysml:0be6947d-aa66-4017-a009-04bc0f7b30c5\" target=\"_top\" title=\"psysml:0be6947d-aa66-4017-a009-04bc0f7b30c5\" xlink:actuate=\"onRequest\" xlink:href=\"psysml:0be6947d-aa66-4017-a009-04bc0f7b30c5\" xlink:show=\"new\" xlink:title=\"psysml:0be6947d-aa66-4017-a009-04bc0f7b30c5\" xlink:type=\"simple\"><polygon fill=\"#FFFFFF\" points=\"16,6,140,6,147,28.2969,790,28.2969,790,251,16,251,16,6\" style=\"stroke: #000000; stroke-width: 1.5;\"/><line style=\"stroke: #000000; stroke-width: 1.5;\" x1=\"16\" x2=\"147\" y1=\"28.2969\" y2=\"28.2969\"/><text fill=\"#000000\" font-family=\"sans-serif\" font-size=\"14\" font-weight=\"bold\" lengthAdjust=\"spacingAndGlyphs\" textLength=\"118\" x=\"20\" y=\"20.9951\">MultiplicityTest</text></a><!--MD5=[b4997ac47864f28c2f74865a473b2911]\n",
       "class E2--><a href=\"psysml:9ab3d3ff-483c-4e41-ada7-ab2d8c979da0\" target=\"_top\" title=\"psysml:9ab3d3ff-483c-4e41-ada7-ab2d8c979da0\" xlink:actuate=\"onRequest\" xlink:href=\"psysml:9ab3d3ff-483c-4e41-ada7-ab2d8c979da0\" xlink:show=\"new\" xlink:title=\"psysml:9ab3d3ff-483c-4e41-ada7-ab2d8c979da0\" xlink:type=\"simple\"><rect fill=\"#FFFFFF\" height=\"45.9375\" id=\"E2\" style=\"stroke: #383838; stroke-width: 1.5;\" width=\"66\" x=\"497\" y=\"189\"/><text fill=\"#000000\" font-family=\"sans-serif\" font-size=\"12\" font-style=\"italic\" lengthAdjust=\"spacingAndGlyphs\" textLength=\"64\" x=\"498\" y=\"205.1387\">«part def»</text><text fill=\"#000000\" font-family=\"sans-serif\" font-size=\"12\" lengthAdjust=\"spacingAndGlyphs\" textLength=\"8\" x=\"526\" y=\"219.1074\">P</text><line style=\"stroke: #383838; stroke-width: 1.5;\" x1=\"498\" x2=\"562\" y1=\"226.9375\" y2=\"226.9375\"/></a><!--MD5=[09b614a08d8cba4a07c9adeb5e0fee81]\n",
       "class E3--><a href=\"psysml:bb4f0587-9240-4f5c-8b68-755ceb30f0e1\" target=\"_top\" title=\"psysml:bb4f0587-9240-4f5c-8b68-755ceb30f0e1\" xlink:actuate=\"onRequest\" xlink:href=\"psysml:bb4f0587-9240-4f5c-8b68-755ceb30f0e1\" xlink:show=\"new\" xlink:title=\"psysml:bb4f0587-9240-4f5c-8b68-755ceb30f0e1\" xlink:type=\"simple\"><rect fill=\"#FFFFFF\" height=\"45.9375\" id=\"E3\" rx=\"10\" ry=\"10\" style=\"stroke: #383838; stroke-width: 1.5;\" width=\"71\" x=\"702.5\" y=\"62\"/><text fill=\"#000000\" font-family=\"sans-serif\" font-size=\"12\" font-style=\"italic\" lengthAdjust=\"spacingAndGlyphs\" textLength=\"69\" x=\"703.5\" y=\"78.1387\">«attribute»</text><text fill=\"#000000\" font-family=\"sans-serif\" font-size=\"12\" lengthAdjust=\"spacingAndGlyphs\" textLength=\"61\" x=\"707.5\" y=\"92.1074\">n: Integer</text><line style=\"stroke: #383838; stroke-width: 1.5;\" x1=\"703.5\" x2=\"772.5\" y1=\"99.9375\" y2=\"99.9375\"/></a><!--MD5=[ebbe1d658d1005bcc118a6aa81145e00]\n",
       "class E4--><a href=\"psysml:9d5a91ec-9b15-487c-8680-11258af91cb9\" target=\"_top\" title=\"psysml:9d5a91ec-9b15-487c-8680-11258af91cb9\" xlink:actuate=\"onRequest\" xlink:href=\"psysml:9d5a91ec-9b15-487c-8680-11258af91cb9\" xlink:show=\"new\" xlink:title=\"psysml:9d5a91ec-9b15-487c-8680-11258af91cb9\" xlink:type=\"simple\"><rect fill=\"#FFFFFF\" height=\"45.9375\" id=\"E4\" rx=\"10\" ry=\"10\" style=\"stroke: #383838; stroke-width: 1.5;\" width=\"42\" x=\"625\" y=\"62\"/><text fill=\"#000000\" font-family=\"sans-serif\" font-size=\"12\" font-style=\"italic\" lengthAdjust=\"spacingAndGlyphs\" textLength=\"40\" x=\"626\" y=\"78.1387\">«part»</text><text fill=\"#000000\" font-family=\"sans-serif\" font-size=\"12\" lengthAdjust=\"spacingAndGlyphs\" textLength=\"8\" x=\"642\" y=\"92.1074\">a</text><line style=\"stroke: #383838; stroke-width: 1.5;\" x1=\"626\" x2=\"666\" y1=\"99.9375\" y2=\"99.9375\"/></a><!--MD5=[270fce915f116d4de14055a7c1d9a0f3]\n",
       "class E5--><a href=\"psysml:0e6ddf84-4c23-42ff-8adf-60418e76591d\" target=\"_top\" title=\"psysml:0e6ddf84-4c23-42ff-8adf-60418e76591d\" xlink:actuate=\"onRequest\" xlink:href=\"psysml:0e6ddf84-4c23-42ff-8adf-60418e76591d\" xlink:show=\"new\" xlink:title=\"psysml:0e6ddf84-4c23-42ff-8adf-60418e76591d\" xlink:type=\"simple\"><rect fill=\"#FFFFFF\" height=\"45.9375\" id=\"E5\" rx=\"10\" ry=\"10\" style=\"stroke: #383838; stroke-width: 1.5;\" width=\"42\" x=\"548\" y=\"62\"/><text fill=\"#000000\" font-family=\"sans-serif\" font-size=\"12\" font-style=\"italic\" lengthAdjust=\"spacingAndGlyphs\" textLength=\"40\" x=\"549\" y=\"78.1387\">«part»</text><text fill=\"#000000\" font-family=\"sans-serif\" font-size=\"12\" lengthAdjust=\"spacingAndGlyphs\" textLength=\"24\" x=\"557\" y=\"92.1074\">b: P</text><line style=\"stroke: #383838; stroke-width: 1.5;\" x1=\"549\" x2=\"589\" y1=\"99.9375\" y2=\"99.9375\"/></a><!--MD5=[60a26617385b1d2d0262a64233df1f8d]\n",
       "class E6--><a href=\"psysml:7a390bd1-339b-4feb-982b-b3a6ee4de727\" target=\"_top\" title=\"psysml:7a390bd1-339b-4feb-982b-b3a6ee4de727\" xlink:actuate=\"onRequest\" xlink:href=\"psysml:7a390bd1-339b-4feb-982b-b3a6ee4de727\" xlink:show=\"new\" xlink:title=\"psysml:7a390bd1-339b-4feb-982b-b3a6ee4de727\" xlink:type=\"simple\"><rect fill=\"#FFFFFF\" height=\"45.9375\" id=\"E6\" rx=\"10\" ry=\"10\" style=\"stroke: #383838; stroke-width: 1.5;\" width=\"42\" x=\"471\" y=\"62\"/><text fill=\"#000000\" font-family=\"sans-serif\" font-size=\"12\" font-style=\"italic\" lengthAdjust=\"spacingAndGlyphs\" textLength=\"40\" x=\"472\" y=\"78.1387\">«part»</text><text fill=\"#000000\" font-family=\"sans-serif\" font-size=\"12\" lengthAdjust=\"spacingAndGlyphs\" textLength=\"23\" x=\"480.5\" y=\"92.1074\">c: P</text><line style=\"stroke: #383838; stroke-width: 1.5;\" x1=\"472\" x2=\"512\" y1=\"99.9375\" y2=\"99.9375\"/></a><!--MD5=[2156ba9850f5573cc1fc38a6a4b2f02b]\n",
       "class E7--><a href=\"psysml:c41308c3-3ab4-4c95-8873-b6daf8742442\" target=\"_top\" title=\"psysml:c41308c3-3ab4-4c95-8873-b6daf8742442\" xlink:actuate=\"onRequest\" xlink:href=\"psysml:c41308c3-3ab4-4c95-8873-b6daf8742442\" xlink:show=\"new\" xlink:title=\"psysml:c41308c3-3ab4-4c95-8873-b6daf8742442\" xlink:type=\"simple\"><rect fill=\"#FFFFFF\" height=\"45.9375\" id=\"E7\" rx=\"10\" ry=\"10\" style=\"stroke: #383838; stroke-width: 1.5;\" width=\"42\" x=\"394\" y=\"62\"/><text fill=\"#000000\" font-family=\"sans-serif\" font-size=\"12\" font-style=\"italic\" lengthAdjust=\"spacingAndGlyphs\" textLength=\"40\" x=\"395\" y=\"78.1387\">«part»</text><text fill=\"#000000\" font-family=\"sans-serif\" font-size=\"12\" lengthAdjust=\"spacingAndGlyphs\" textLength=\"8\" x=\"411\" y=\"92.1074\">d</text><line style=\"stroke: #383838; stroke-width: 1.5;\" x1=\"395\" x2=\"435\" y1=\"99.9375\" y2=\"99.9375\"/></a><!--MD5=[b9389687b975829384b498ac4b7476b2]\n",
       "class E8--><a href=\"psysml:4786ae2f-f4fb-4524-a996-e764bd48b2ea\" target=\"_top\" title=\"psysml:4786ae2f-f4fb-4524-a996-e764bd48b2ea\" xlink:actuate=\"onRequest\" xlink:href=\"psysml:4786ae2f-f4fb-4524-a996-e764bd48b2ea\" xlink:show=\"new\" xlink:title=\"psysml:4786ae2f-f4fb-4524-a996-e764bd48b2ea\" xlink:type=\"simple\"><rect fill=\"#FFFFFF\" height=\"45.9375\" id=\"E8\" rx=\"10\" ry=\"10\" style=\"stroke: #383838; stroke-width: 1.5;\" width=\"42\" x=\"317\" y=\"62\"/><text fill=\"#000000\" font-family=\"sans-serif\" font-size=\"12\" font-style=\"italic\" lengthAdjust=\"spacingAndGlyphs\" textLength=\"40\" x=\"318\" y=\"78.1387\">«part»</text><text fill=\"#000000\" font-family=\"sans-serif\" font-size=\"12\" lengthAdjust=\"spacingAndGlyphs\" textLength=\"8\" x=\"334\" y=\"92.1074\">e</text><line style=\"stroke: #383838; stroke-width: 1.5;\" x1=\"318\" x2=\"358\" y1=\"99.9375\" y2=\"99.9375\"/></a><!--MD5=[fd4143e9d270a159db93a4ea2a975926]\n",
       "class E9--><a href=\"psysml:f4778415-89ee-45ef-90f6-0fdee23f5f44\" target=\"_top\" title=\"psysml:f4778415-89ee-45ef-90f6-0fdee23f5f44\" xlink:actuate=\"onRequest\" xlink:href=\"psysml:f4778415-89ee-45ef-90f6-0fdee23f5f44\" xlink:show=\"new\" xlink:title=\"psysml:f4778415-89ee-45ef-90f6-0fdee23f5f44\" xlink:type=\"simple\"><rect fill=\"#FFFFFF\" height=\"45.9375\" id=\"E9\" rx=\"10\" ry=\"10\" style=\"stroke: #383838; stroke-width: 1.5;\" width=\"42\" x=\"240\" y=\"62\"/><text fill=\"#000000\" font-family=\"sans-serif\" font-size=\"12\" font-style=\"italic\" lengthAdjust=\"spacingAndGlyphs\" textLength=\"40\" x=\"241\" y=\"78.1387\">«part»</text><text fill=\"#000000\" font-family=\"sans-serif\" font-size=\"12\" lengthAdjust=\"spacingAndGlyphs\" textLength=\"4\" x=\"259\" y=\"92.1074\">f</text><line style=\"stroke: #383838; stroke-width: 1.5;\" x1=\"241\" x2=\"281\" y1=\"99.9375\" y2=\"99.9375\"/></a><!--MD5=[96f4274e9e20536e775497830990834d]\n",
       "class E10--><a href=\"psysml:54ce765f-cd4b-40e3-bd55-528058a48d88\" target=\"_top\" title=\"psysml:54ce765f-cd4b-40e3-bd55-528058a48d88\" xlink:actuate=\"onRequest\" xlink:href=\"psysml:54ce765f-cd4b-40e3-bd55-528058a48d88\" xlink:show=\"new\" xlink:title=\"psysml:54ce765f-cd4b-40e3-bd55-528058a48d88\" xlink:type=\"simple\"><rect fill=\"#FFFFFF\" height=\"45.9375\" id=\"E10\" rx=\"10\" ry=\"10\" style=\"stroke: #383838; stroke-width: 1.5;\" width=\"42\" x=\"163\" y=\"62\"/><text fill=\"#000000\" font-family=\"sans-serif\" font-size=\"12\" font-style=\"italic\" lengthAdjust=\"spacingAndGlyphs\" textLength=\"40\" x=\"164\" y=\"78.1387\">«part»</text><text fill=\"#000000\" font-family=\"sans-serif\" font-size=\"12\" lengthAdjust=\"spacingAndGlyphs\" textLength=\"8\" x=\"180\" y=\"92.1074\">g</text><line style=\"stroke: #383838; stroke-width: 1.5;\" x1=\"164\" x2=\"204\" y1=\"99.9375\" y2=\"99.9375\"/></a><!--MD5=[1dd1bfd58a279cf63c5f349dbc8fc6a1]\n",
       "class E11--><a href=\"psysml:39471be4-e308-48bc-96c2-d92b434b60c0\" target=\"_top\" title=\"psysml:39471be4-e308-48bc-96c2-d92b434b60c0\" xlink:actuate=\"onRequest\" xlink:href=\"psysml:39471be4-e308-48bc-96c2-d92b434b60c0\" xlink:show=\"new\" xlink:title=\"psysml:39471be4-e308-48bc-96c2-d92b434b60c0\" xlink:type=\"simple\"><rect fill=\"#FFFFFF\" height=\"88.3516\" id=\"E11\" style=\"stroke: #383838; stroke-width: 1.5;\" width=\"95\" x=\"32.5\" y=\"41\"/><text fill=\"#000000\" font-family=\"sans-serif\" font-size=\"12\" font-style=\"italic\" lengthAdjust=\"spacingAndGlyphs\" textLength=\"93\" x=\"33.5\" y=\"57.1387\">«attribute def»</text><text fill=\"#000000\" font-family=\"sans-serif\" font-size=\"12\" lengthAdjust=\"spacingAndGlyphs\" textLength=\"8\" x=\"76\" y=\"71.1074\">A</text><line style=\"stroke: #383838; stroke-width: 1.5;\" x1=\"33.5\" x2=\"126.5\" y1=\"78.9375\" y2=\"78.9375\"/><text fill=\"#000000\" font-family=\"sans-serif\" font-size=\"11\" lengthAdjust=\"spacingAndGlyphs\" textLength=\"51\" x=\"38.5\" y=\"109.9526\">i: Integer</text><text fill=\"#000000\" font-family=\"sans-serif\" font-size=\"11\" lengthAdjust=\"spacingAndGlyphs\" textLength=\"21\" x=\"38.5\" y=\"122.7573\">x: A</text><line style=\"stroke: #383838; stroke-width: 1.0;\" x1=\"33.5\" x2=\"52.5\" y1=\"93.3398\" y2=\"93.3398\"/><text fill=\"#000000\" font-family=\"sans-serif\" font-size=\"11\" lengthAdjust=\"spacingAndGlyphs\" textLength=\"55\" x=\"52.5\" y=\"96.6479\">attributes</text><line style=\"stroke: #383838; stroke-width: 1.0;\" x1=\"107.5\" x2=\"126.5\" y1=\"93.3398\" y2=\"93.3398\"/></a><!--MD5=[15ebcb19ae302d9b601edb458606d402]\n",
       "link E5 to E2--><a href=\"psysml:911f47bc-487d-4cbf-bcdd-94eeba00c89c\" target=\"_top\" title=\"psysml:911f47bc-487d-4cbf-bcdd-94eeba00c89c\" xlink:actuate=\"onRequest\" xlink:href=\"psysml:911f47bc-487d-4cbf-bcdd-94eeba00c89c\" xlink:show=\"new\" xlink:title=\"psysml:911f47bc-487d-4cbf-bcdd-94eeba00c89c\" xlink:type=\"simple\"><path d=\"M555.5,108.29 C555.5,108.29 555.5,168.85 555.5,168.85 \" fill=\"none\" id=\"E5-&gt;E2\" style=\"stroke: #383838; stroke-width: 1.0;\"/><polygon fill=\"#FFFFFF\" points=\"555.5,188.85,548.5,169.85,562.5,169.85,555.5,188.85\" style=\"stroke: #383838; stroke-width: 1.0;\"/><ellipse cx=\"550.5\" cy=\"164.15\" fill=\"#383838\" rx=\"2\" ry=\"2\" style=\"stroke: #383838; stroke-width: 1.0;\"/><ellipse cx=\"560.5\" cy=\"164.15\" fill=\"#383838\" rx=\"2\" ry=\"2\" style=\"stroke: #383838; stroke-width: 1.0;\"/></a><!--MD5=[2351f337d6de0f557b50152ba70847b5]\n",
       "link E6 to E2--><a href=\"psysml:5d978d49-3aad-49b2-9a30-3bd5979ae9aa\" target=\"_top\" title=\"psysml:5d978d49-3aad-49b2-9a30-3bd5979ae9aa\" xlink:actuate=\"onRequest\" xlink:href=\"psysml:5d978d49-3aad-49b2-9a30-3bd5979ae9aa\" xlink:show=\"new\" xlink:title=\"psysml:5d978d49-3aad-49b2-9a30-3bd5979ae9aa\" xlink:type=\"simple\"><path d=\"M505,108.29 C505,108.29 505,168.85 505,168.85 \" fill=\"none\" id=\"E6-&gt;E2\" style=\"stroke: #383838; stroke-width: 1.0;\"/><polygon fill=\"#FFFFFF\" points=\"505,188.85,498,169.85,512,169.85,505,188.85\" style=\"stroke: #383838; stroke-width: 1.0;\"/><ellipse cx=\"500\" cy=\"164.15\" fill=\"#383838\" rx=\"2\" ry=\"2\" style=\"stroke: #383838; stroke-width: 1.0;\"/><ellipse cx=\"510\" cy=\"164.15\" fill=\"#383838\" rx=\"2\" ry=\"2\" style=\"stroke: #383838; stroke-width: 1.0;\"/></a><!--MD5=[716a0a132c1b48fa01e06ea8ef53711a]\n",
       "@startuml\r\n",
       "skinparam linetype ortho\r\n",
       "skinparam monochrome true\r\n",
       "skinparam classbackgroundcolor white\r\n",
       "skinparam shadowing false\r\n",
       "skinparam wrapWidth 300\r\n",
       "hide circle\r\n",
       "\r\n",
       "package \"MultiplicityTest\" as E1  [[psysml:0be6947d-aa66-4017-a009-04bc0f7b30c5 ]]  {\r\n",
       "comp def \"P\" as E2  <<(T,blue)part def>> [[psysml:9ab3d3ff-483c-4e41-ada7-ab2d8c979da0 ]] {\r\n",
       "}\r\n",
       "comp usage \"n: Integer\" as E3  <<(T,blue)attribute>> [[psysml:bb4f0587-9240-4f5c-8b68-755ceb30f0e1 ]] {\r\n",
       "}\r\n",
       "comp usage \"a\" as E4  <<(T,blue)part>> [[psysml:9d5a91ec-9b15-487c-8680-11258af91cb9 ]] {\r\n",
       "}\r\n",
       "comp usage \"b: P\" as E5  <<(T,blue)part>> [[psysml:0e6ddf84-4c23-42ff-8adf-60418e76591d ]] {\r\n",
       "}\r\n",
       "comp usage \"c: P\" as E6  <<(T,blue)part>> [[psysml:7a390bd1-339b-4feb-982b-b3a6ee4de727 ]] {\r\n",
       "}\r\n",
       "comp usage \"d\" as E7  <<(T,blue)part>> [[psysml:c41308c3-3ab4-4c95-8873-b6daf8742442 ]] {\r\n",
       "}\r\n",
       "comp usage \"e\" as E8  <<(T,blue)part>> [[psysml:4786ae2f-f4fb-4524-a996-e764bd48b2ea ]] {\r\n",
       "}\r\n",
       "comp usage \"f\" as E9  <<(T,blue)part>> [[psysml:f4778415-89ee-45ef-90f6-0fdee23f5f44 ]] {\r\n",
       "}\r\n",
       "comp usage \"g\" as E10  <<(T,blue)part>> [[psysml:54ce765f-cd4b-40e3-bd55-528058a48d88 ]] {\r\n",
       "}\r\n",
       "comp def \"A\" as E11  <<(T,blue)attribute def>> [[psysml:39471be4-e308-48bc-96c2-d92b434b60c0 ]] {\r\n",
       "- - attributes - -\r\n",
       "i: Integer\r\n",
       "x: A\r\n",
       "}\r\n",
       "E5 - -:|> E2 [[psysml:911f47bc-487d-4cbf-bcdd-94eeba00c89c ]] \r\n",
       "E6 - -:|> E2 [[psysml:5d978d49-3aad-49b2-9a30-3bd5979ae9aa ]] \r\n",
       "}\r\n",
       "@enduml\r\n",
       "\n",
       "PlantUML version 1.2020.13(Sat Jun 13 12:26:38 UTC 2020)\n",
       "(EPL source distribution)\n",
       "Java Runtime: OpenJDK Runtime Environment\n",
       "JVM: OpenJDK 64-Bit Server VM\n",
       "Default Encoding: UTF-8\n",
       "Language: en\n",
       "Country: null\n",
       "--></g></svg>"
      ]
     },
     "execution_count": 56,
     "metadata": {},
     "output_type": "execute_result"
    }
   ],
   "source": [
    "%viz --style=\"ORTHOLINE\" --view=\"Sequence\" \"MultiplicityTest\""
   ]
  },
  {
   "cell_type": "code",
   "execution_count": 57,
   "id": "a1c9930a",
   "metadata": {
    "execution": {
     "iopub.execute_input": "2021-04-21T20:26:46.169827Z",
     "iopub.status.busy": "2021-04-21T20:26:46.169315Z",
     "iopub.status.idle": "2021-04-21T20:26:46.220801Z",
     "shell.execute_reply": "2021-04-21T20:26:46.220253Z"
    }
   },
   "outputs": [
    {
     "data": {
      "image/svg+xml": [
       "<?xml version=\"1.0\" encoding=\"UTF-8\" standalone=\"no\"?><svg xmlns=\"http://www.w3.org/2000/svg\" xmlns:xlink=\"http://www.w3.org/1999/xlink\" contentScriptType=\"application/ecmascript\" contentStyleType=\"text/css\" height=\"263px\" preserveAspectRatio=\"none\" style=\"width:812px;height:263px;\" version=\"1.1\" viewBox=\"0 0 812 263\" width=\"812px\" zoomAndPan=\"magnify\"><defs/><g><!--MD5=[fbc87193dbaf4d95561dea2c320d4a47]\n",
       "cluster E1--><a href=\"psysml:0be6947d-aa66-4017-a009-04bc0f7b30c5\" target=\"_top\" title=\"psysml:0be6947d-aa66-4017-a009-04bc0f7b30c5\" xlink:actuate=\"onRequest\" xlink:href=\"psysml:0be6947d-aa66-4017-a009-04bc0f7b30c5\" xlink:show=\"new\" xlink:title=\"psysml:0be6947d-aa66-4017-a009-04bc0f7b30c5\" xlink:type=\"simple\"><polygon fill=\"#FFFFFF\" points=\"16,6,140,6,147,28.2969,790,28.2969,790,251,16,251,16,6\" style=\"stroke: #000000; stroke-width: 1.5;\"/><line style=\"stroke: #000000; stroke-width: 1.5;\" x1=\"16\" x2=\"147\" y1=\"28.2969\" y2=\"28.2969\"/><text fill=\"#000000\" font-family=\"sans-serif\" font-size=\"14\" font-weight=\"bold\" lengthAdjust=\"spacingAndGlyphs\" textLength=\"118\" x=\"20\" y=\"20.9951\">MultiplicityTest</text></a><!--MD5=[b4997ac47864f28c2f74865a473b2911]\n",
       "class E2--><a href=\"psysml:9ab3d3ff-483c-4e41-ada7-ab2d8c979da0\" target=\"_top\" title=\"psysml:9ab3d3ff-483c-4e41-ada7-ab2d8c979da0\" xlink:actuate=\"onRequest\" xlink:href=\"psysml:9ab3d3ff-483c-4e41-ada7-ab2d8c979da0\" xlink:show=\"new\" xlink:title=\"psysml:9ab3d3ff-483c-4e41-ada7-ab2d8c979da0\" xlink:type=\"simple\"><rect fill=\"#FFFFFF\" height=\"45.9375\" id=\"E2\" style=\"stroke: #383838; stroke-width: 1.5;\" width=\"66\" x=\"497\" y=\"189\"/><text fill=\"#000000\" font-family=\"sans-serif\" font-size=\"12\" font-style=\"italic\" lengthAdjust=\"spacingAndGlyphs\" textLength=\"64\" x=\"498\" y=\"205.1387\">«part def»</text><text fill=\"#000000\" font-family=\"sans-serif\" font-size=\"12\" lengthAdjust=\"spacingAndGlyphs\" textLength=\"8\" x=\"526\" y=\"219.1074\">P</text><line style=\"stroke: #383838; stroke-width: 1.5;\" x1=\"498\" x2=\"562\" y1=\"226.9375\" y2=\"226.9375\"/></a><!--MD5=[09b614a08d8cba4a07c9adeb5e0fee81]\n",
       "class E3--><a href=\"psysml:bb4f0587-9240-4f5c-8b68-755ceb30f0e1\" target=\"_top\" title=\"psysml:bb4f0587-9240-4f5c-8b68-755ceb30f0e1\" xlink:actuate=\"onRequest\" xlink:href=\"psysml:bb4f0587-9240-4f5c-8b68-755ceb30f0e1\" xlink:show=\"new\" xlink:title=\"psysml:bb4f0587-9240-4f5c-8b68-755ceb30f0e1\" xlink:type=\"simple\"><rect fill=\"#FFFFFF\" height=\"45.9375\" id=\"E3\" rx=\"10\" ry=\"10\" style=\"stroke: #383838; stroke-width: 1.5;\" width=\"71\" x=\"702.5\" y=\"62\"/><text fill=\"#000000\" font-family=\"sans-serif\" font-size=\"12\" font-style=\"italic\" lengthAdjust=\"spacingAndGlyphs\" textLength=\"69\" x=\"703.5\" y=\"78.1387\">«attribute»</text><text fill=\"#000000\" font-family=\"sans-serif\" font-size=\"12\" lengthAdjust=\"spacingAndGlyphs\" textLength=\"61\" x=\"707.5\" y=\"92.1074\">n: Integer</text><line style=\"stroke: #383838; stroke-width: 1.5;\" x1=\"703.5\" x2=\"772.5\" y1=\"99.9375\" y2=\"99.9375\"/></a><!--MD5=[ebbe1d658d1005bcc118a6aa81145e00]\n",
       "class E4--><a href=\"psysml:9d5a91ec-9b15-487c-8680-11258af91cb9\" target=\"_top\" title=\"psysml:9d5a91ec-9b15-487c-8680-11258af91cb9\" xlink:actuate=\"onRequest\" xlink:href=\"psysml:9d5a91ec-9b15-487c-8680-11258af91cb9\" xlink:show=\"new\" xlink:title=\"psysml:9d5a91ec-9b15-487c-8680-11258af91cb9\" xlink:type=\"simple\"><rect fill=\"#FFFFFF\" height=\"45.9375\" id=\"E4\" rx=\"10\" ry=\"10\" style=\"stroke: #383838; stroke-width: 1.5;\" width=\"42\" x=\"625\" y=\"62\"/><text fill=\"#000000\" font-family=\"sans-serif\" font-size=\"12\" font-style=\"italic\" lengthAdjust=\"spacingAndGlyphs\" textLength=\"40\" x=\"626\" y=\"78.1387\">«part»</text><text fill=\"#000000\" font-family=\"sans-serif\" font-size=\"12\" lengthAdjust=\"spacingAndGlyphs\" textLength=\"8\" x=\"642\" y=\"92.1074\">a</text><line style=\"stroke: #383838; stroke-width: 1.5;\" x1=\"626\" x2=\"666\" y1=\"99.9375\" y2=\"99.9375\"/></a><!--MD5=[270fce915f116d4de14055a7c1d9a0f3]\n",
       "class E5--><a href=\"psysml:0e6ddf84-4c23-42ff-8adf-60418e76591d\" target=\"_top\" title=\"psysml:0e6ddf84-4c23-42ff-8adf-60418e76591d\" xlink:actuate=\"onRequest\" xlink:href=\"psysml:0e6ddf84-4c23-42ff-8adf-60418e76591d\" xlink:show=\"new\" xlink:title=\"psysml:0e6ddf84-4c23-42ff-8adf-60418e76591d\" xlink:type=\"simple\"><rect fill=\"#FFFFFF\" height=\"45.9375\" id=\"E5\" rx=\"10\" ry=\"10\" style=\"stroke: #383838; stroke-width: 1.5;\" width=\"42\" x=\"548\" y=\"62\"/><text fill=\"#000000\" font-family=\"sans-serif\" font-size=\"12\" font-style=\"italic\" lengthAdjust=\"spacingAndGlyphs\" textLength=\"40\" x=\"549\" y=\"78.1387\">«part»</text><text fill=\"#000000\" font-family=\"sans-serif\" font-size=\"12\" lengthAdjust=\"spacingAndGlyphs\" textLength=\"24\" x=\"557\" y=\"92.1074\">b: P</text><line style=\"stroke: #383838; stroke-width: 1.5;\" x1=\"549\" x2=\"589\" y1=\"99.9375\" y2=\"99.9375\"/></a><!--MD5=[60a26617385b1d2d0262a64233df1f8d]\n",
       "class E6--><a href=\"psysml:7a390bd1-339b-4feb-982b-b3a6ee4de727\" target=\"_top\" title=\"psysml:7a390bd1-339b-4feb-982b-b3a6ee4de727\" xlink:actuate=\"onRequest\" xlink:href=\"psysml:7a390bd1-339b-4feb-982b-b3a6ee4de727\" xlink:show=\"new\" xlink:title=\"psysml:7a390bd1-339b-4feb-982b-b3a6ee4de727\" xlink:type=\"simple\"><rect fill=\"#FFFFFF\" height=\"45.9375\" id=\"E6\" rx=\"10\" ry=\"10\" style=\"stroke: #383838; stroke-width: 1.5;\" width=\"42\" x=\"471\" y=\"62\"/><text fill=\"#000000\" font-family=\"sans-serif\" font-size=\"12\" font-style=\"italic\" lengthAdjust=\"spacingAndGlyphs\" textLength=\"40\" x=\"472\" y=\"78.1387\">«part»</text><text fill=\"#000000\" font-family=\"sans-serif\" font-size=\"12\" lengthAdjust=\"spacingAndGlyphs\" textLength=\"23\" x=\"480.5\" y=\"92.1074\">c: P</text><line style=\"stroke: #383838; stroke-width: 1.5;\" x1=\"472\" x2=\"512\" y1=\"99.9375\" y2=\"99.9375\"/></a><!--MD5=[2156ba9850f5573cc1fc38a6a4b2f02b]\n",
       "class E7--><a href=\"psysml:c41308c3-3ab4-4c95-8873-b6daf8742442\" target=\"_top\" title=\"psysml:c41308c3-3ab4-4c95-8873-b6daf8742442\" xlink:actuate=\"onRequest\" xlink:href=\"psysml:c41308c3-3ab4-4c95-8873-b6daf8742442\" xlink:show=\"new\" xlink:title=\"psysml:c41308c3-3ab4-4c95-8873-b6daf8742442\" xlink:type=\"simple\"><rect fill=\"#FFFFFF\" height=\"45.9375\" id=\"E7\" rx=\"10\" ry=\"10\" style=\"stroke: #383838; stroke-width: 1.5;\" width=\"42\" x=\"394\" y=\"62\"/><text fill=\"#000000\" font-family=\"sans-serif\" font-size=\"12\" font-style=\"italic\" lengthAdjust=\"spacingAndGlyphs\" textLength=\"40\" x=\"395\" y=\"78.1387\">«part»</text><text fill=\"#000000\" font-family=\"sans-serif\" font-size=\"12\" lengthAdjust=\"spacingAndGlyphs\" textLength=\"8\" x=\"411\" y=\"92.1074\">d</text><line style=\"stroke: #383838; stroke-width: 1.5;\" x1=\"395\" x2=\"435\" y1=\"99.9375\" y2=\"99.9375\"/></a><!--MD5=[b9389687b975829384b498ac4b7476b2]\n",
       "class E8--><a href=\"psysml:4786ae2f-f4fb-4524-a996-e764bd48b2ea\" target=\"_top\" title=\"psysml:4786ae2f-f4fb-4524-a996-e764bd48b2ea\" xlink:actuate=\"onRequest\" xlink:href=\"psysml:4786ae2f-f4fb-4524-a996-e764bd48b2ea\" xlink:show=\"new\" xlink:title=\"psysml:4786ae2f-f4fb-4524-a996-e764bd48b2ea\" xlink:type=\"simple\"><rect fill=\"#FFFFFF\" height=\"45.9375\" id=\"E8\" rx=\"10\" ry=\"10\" style=\"stroke: #383838; stroke-width: 1.5;\" width=\"42\" x=\"317\" y=\"62\"/><text fill=\"#000000\" font-family=\"sans-serif\" font-size=\"12\" font-style=\"italic\" lengthAdjust=\"spacingAndGlyphs\" textLength=\"40\" x=\"318\" y=\"78.1387\">«part»</text><text fill=\"#000000\" font-family=\"sans-serif\" font-size=\"12\" lengthAdjust=\"spacingAndGlyphs\" textLength=\"8\" x=\"334\" y=\"92.1074\">e</text><line style=\"stroke: #383838; stroke-width: 1.5;\" x1=\"318\" x2=\"358\" y1=\"99.9375\" y2=\"99.9375\"/></a><!--MD5=[fd4143e9d270a159db93a4ea2a975926]\n",
       "class E9--><a href=\"psysml:f4778415-89ee-45ef-90f6-0fdee23f5f44\" target=\"_top\" title=\"psysml:f4778415-89ee-45ef-90f6-0fdee23f5f44\" xlink:actuate=\"onRequest\" xlink:href=\"psysml:f4778415-89ee-45ef-90f6-0fdee23f5f44\" xlink:show=\"new\" xlink:title=\"psysml:f4778415-89ee-45ef-90f6-0fdee23f5f44\" xlink:type=\"simple\"><rect fill=\"#FFFFFF\" height=\"45.9375\" id=\"E9\" rx=\"10\" ry=\"10\" style=\"stroke: #383838; stroke-width: 1.5;\" width=\"42\" x=\"240\" y=\"62\"/><text fill=\"#000000\" font-family=\"sans-serif\" font-size=\"12\" font-style=\"italic\" lengthAdjust=\"spacingAndGlyphs\" textLength=\"40\" x=\"241\" y=\"78.1387\">«part»</text><text fill=\"#000000\" font-family=\"sans-serif\" font-size=\"12\" lengthAdjust=\"spacingAndGlyphs\" textLength=\"4\" x=\"259\" y=\"92.1074\">f</text><line style=\"stroke: #383838; stroke-width: 1.5;\" x1=\"241\" x2=\"281\" y1=\"99.9375\" y2=\"99.9375\"/></a><!--MD5=[96f4274e9e20536e775497830990834d]\n",
       "class E10--><a href=\"psysml:54ce765f-cd4b-40e3-bd55-528058a48d88\" target=\"_top\" title=\"psysml:54ce765f-cd4b-40e3-bd55-528058a48d88\" xlink:actuate=\"onRequest\" xlink:href=\"psysml:54ce765f-cd4b-40e3-bd55-528058a48d88\" xlink:show=\"new\" xlink:title=\"psysml:54ce765f-cd4b-40e3-bd55-528058a48d88\" xlink:type=\"simple\"><rect fill=\"#FFFFFF\" height=\"45.9375\" id=\"E10\" rx=\"10\" ry=\"10\" style=\"stroke: #383838; stroke-width: 1.5;\" width=\"42\" x=\"163\" y=\"62\"/><text fill=\"#000000\" font-family=\"sans-serif\" font-size=\"12\" font-style=\"italic\" lengthAdjust=\"spacingAndGlyphs\" textLength=\"40\" x=\"164\" y=\"78.1387\">«part»</text><text fill=\"#000000\" font-family=\"sans-serif\" font-size=\"12\" lengthAdjust=\"spacingAndGlyphs\" textLength=\"8\" x=\"180\" y=\"92.1074\">g</text><line style=\"stroke: #383838; stroke-width: 1.5;\" x1=\"164\" x2=\"204\" y1=\"99.9375\" y2=\"99.9375\"/></a><!--MD5=[1dd1bfd58a279cf63c5f349dbc8fc6a1]\n",
       "class E11--><a href=\"psysml:39471be4-e308-48bc-96c2-d92b434b60c0\" target=\"_top\" title=\"psysml:39471be4-e308-48bc-96c2-d92b434b60c0\" xlink:actuate=\"onRequest\" xlink:href=\"psysml:39471be4-e308-48bc-96c2-d92b434b60c0\" xlink:show=\"new\" xlink:title=\"psysml:39471be4-e308-48bc-96c2-d92b434b60c0\" xlink:type=\"simple\"><rect fill=\"#FFFFFF\" height=\"88.3516\" id=\"E11\" style=\"stroke: #383838; stroke-width: 1.5;\" width=\"95\" x=\"32.5\" y=\"41\"/><text fill=\"#000000\" font-family=\"sans-serif\" font-size=\"12\" font-style=\"italic\" lengthAdjust=\"spacingAndGlyphs\" textLength=\"93\" x=\"33.5\" y=\"57.1387\">«attribute def»</text><text fill=\"#000000\" font-family=\"sans-serif\" font-size=\"12\" lengthAdjust=\"spacingAndGlyphs\" textLength=\"8\" x=\"76\" y=\"71.1074\">A</text><line style=\"stroke: #383838; stroke-width: 1.5;\" x1=\"33.5\" x2=\"126.5\" y1=\"78.9375\" y2=\"78.9375\"/><text fill=\"#000000\" font-family=\"sans-serif\" font-size=\"11\" lengthAdjust=\"spacingAndGlyphs\" textLength=\"51\" x=\"38.5\" y=\"109.9526\">i: Integer</text><text fill=\"#000000\" font-family=\"sans-serif\" font-size=\"11\" lengthAdjust=\"spacingAndGlyphs\" textLength=\"21\" x=\"38.5\" y=\"122.7573\">x: A</text><line style=\"stroke: #383838; stroke-width: 1.0;\" x1=\"33.5\" x2=\"52.5\" y1=\"93.3398\" y2=\"93.3398\"/><text fill=\"#000000\" font-family=\"sans-serif\" font-size=\"11\" lengthAdjust=\"spacingAndGlyphs\" textLength=\"55\" x=\"52.5\" y=\"96.6479\">attributes</text><line style=\"stroke: #383838; stroke-width: 1.0;\" x1=\"107.5\" x2=\"126.5\" y1=\"93.3398\" y2=\"93.3398\"/></a><!--MD5=[15ebcb19ae302d9b601edb458606d402]\n",
       "link E5 to E2--><a href=\"psysml:911f47bc-487d-4cbf-bcdd-94eeba00c89c\" target=\"_top\" title=\"psysml:911f47bc-487d-4cbf-bcdd-94eeba00c89c\" xlink:actuate=\"onRequest\" xlink:href=\"psysml:911f47bc-487d-4cbf-bcdd-94eeba00c89c\" xlink:show=\"new\" xlink:title=\"psysml:911f47bc-487d-4cbf-bcdd-94eeba00c89c\" xlink:type=\"simple\"><path d=\"M555.5,108.29 C555.5,108.29 555.5,168.85 555.5,168.85 \" fill=\"none\" id=\"E5-&gt;E2\" style=\"stroke: #383838; stroke-width: 1.0;\"/><polygon fill=\"#FFFFFF\" points=\"555.5,188.85,548.5,169.85,562.5,169.85,555.5,188.85\" style=\"stroke: #383838; stroke-width: 1.0;\"/><ellipse cx=\"550.5\" cy=\"164.15\" fill=\"#383838\" rx=\"2\" ry=\"2\" style=\"stroke: #383838; stroke-width: 1.0;\"/><ellipse cx=\"560.5\" cy=\"164.15\" fill=\"#383838\" rx=\"2\" ry=\"2\" style=\"stroke: #383838; stroke-width: 1.0;\"/></a><!--MD5=[2351f337d6de0f557b50152ba70847b5]\n",
       "link E6 to E2--><a href=\"psysml:5d978d49-3aad-49b2-9a30-3bd5979ae9aa\" target=\"_top\" title=\"psysml:5d978d49-3aad-49b2-9a30-3bd5979ae9aa\" xlink:actuate=\"onRequest\" xlink:href=\"psysml:5d978d49-3aad-49b2-9a30-3bd5979ae9aa\" xlink:show=\"new\" xlink:title=\"psysml:5d978d49-3aad-49b2-9a30-3bd5979ae9aa\" xlink:type=\"simple\"><path d=\"M505,108.29 C505,108.29 505,168.85 505,168.85 \" fill=\"none\" id=\"E6-&gt;E2\" style=\"stroke: #383838; stroke-width: 1.0;\"/><polygon fill=\"#FFFFFF\" points=\"505,188.85,498,169.85,512,169.85,505,188.85\" style=\"stroke: #383838; stroke-width: 1.0;\"/><ellipse cx=\"500\" cy=\"164.15\" fill=\"#383838\" rx=\"2\" ry=\"2\" style=\"stroke: #383838; stroke-width: 1.0;\"/><ellipse cx=\"510\" cy=\"164.15\" fill=\"#383838\" rx=\"2\" ry=\"2\" style=\"stroke: #383838; stroke-width: 1.0;\"/></a><!--MD5=[716a0a132c1b48fa01e06ea8ef53711a]\n",
       "@startuml\r\n",
       "skinparam linetype ortho\r\n",
       "skinparam monochrome true\r\n",
       "skinparam classbackgroundcolor white\r\n",
       "skinparam shadowing false\r\n",
       "skinparam wrapWidth 300\r\n",
       "hide circle\r\n",
       "\r\n",
       "package \"MultiplicityTest\" as E1  [[psysml:0be6947d-aa66-4017-a009-04bc0f7b30c5 ]]  {\r\n",
       "comp def \"P\" as E2  <<(T,blue)part def>> [[psysml:9ab3d3ff-483c-4e41-ada7-ab2d8c979da0 ]] {\r\n",
       "}\r\n",
       "comp usage \"n: Integer\" as E3  <<(T,blue)attribute>> [[psysml:bb4f0587-9240-4f5c-8b68-755ceb30f0e1 ]] {\r\n",
       "}\r\n",
       "comp usage \"a\" as E4  <<(T,blue)part>> [[psysml:9d5a91ec-9b15-487c-8680-11258af91cb9 ]] {\r\n",
       "}\r\n",
       "comp usage \"b: P\" as E5  <<(T,blue)part>> [[psysml:0e6ddf84-4c23-42ff-8adf-60418e76591d ]] {\r\n",
       "}\r\n",
       "comp usage \"c: P\" as E6  <<(T,blue)part>> [[psysml:7a390bd1-339b-4feb-982b-b3a6ee4de727 ]] {\r\n",
       "}\r\n",
       "comp usage \"d\" as E7  <<(T,blue)part>> [[psysml:c41308c3-3ab4-4c95-8873-b6daf8742442 ]] {\r\n",
       "}\r\n",
       "comp usage \"e\" as E8  <<(T,blue)part>> [[psysml:4786ae2f-f4fb-4524-a996-e764bd48b2ea ]] {\r\n",
       "}\r\n",
       "comp usage \"f\" as E9  <<(T,blue)part>> [[psysml:f4778415-89ee-45ef-90f6-0fdee23f5f44 ]] {\r\n",
       "}\r\n",
       "comp usage \"g\" as E10  <<(T,blue)part>> [[psysml:54ce765f-cd4b-40e3-bd55-528058a48d88 ]] {\r\n",
       "}\r\n",
       "comp def \"A\" as E11  <<(T,blue)attribute def>> [[psysml:39471be4-e308-48bc-96c2-d92b434b60c0 ]] {\r\n",
       "- - attributes - -\r\n",
       "i: Integer\r\n",
       "x: A\r\n",
       "}\r\n",
       "E5 - -:|> E2 [[psysml:911f47bc-487d-4cbf-bcdd-94eeba00c89c ]] \r\n",
       "E6 - -:|> E2 [[psysml:5d978d49-3aad-49b2-9a30-3bd5979ae9aa ]] \r\n",
       "}\r\n",
       "@enduml\r\n",
       "\n",
       "PlantUML version 1.2020.13(Sat Jun 13 12:26:38 UTC 2020)\n",
       "(EPL source distribution)\n",
       "Java Runtime: OpenJDK Runtime Environment\n",
       "JVM: OpenJDK 64-Bit Server VM\n",
       "Default Encoding: UTF-8\n",
       "Language: en\n",
       "Country: null\n",
       "--></g></svg>"
      ]
     },
     "execution_count": 57,
     "metadata": {},
     "output_type": "execute_result"
    }
   ],
   "source": [
    "%viz --style=\"ORTHOLINE\" --view=\"MIXED\" \"MultiplicityTest\""
   ]
  }
 ],
 "metadata": {
  "kernelspec": {
   "display_name": "SysML",
   "language": "sysml",
   "name": "sysml"
  },
  "language_info": {
   "codemirror_mode": "sysml",
   "file_extension": ".sysml",
   "mimetype": "text/x-sysml",
   "name": "SysML",
   "pygments_lexer": "java",
   "version": "1.0.0"
  }
 },
 "nbformat": 4,
 "nbformat_minor": 5
}
